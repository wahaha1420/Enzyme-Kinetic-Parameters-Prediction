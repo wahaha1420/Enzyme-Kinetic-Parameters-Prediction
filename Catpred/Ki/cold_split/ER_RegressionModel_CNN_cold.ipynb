{
 "cells": [
  {
   "cell_type": "code",
   "execution_count": 1,
   "metadata": {},
   "outputs": [],
   "source": [
    "import pandas as pd\n",
    "import numpy as np\n",
    "from tqdm import tqdm\n",
    "import torch\n",
    "import torch.nn as nn\n",
    "import torch.optim as optim\n",
    "from torch.utils.data import DataLoader, Dataset\n",
    "from sklearn.metrics import roc_auc_score\n",
    "from sklearn.model_selection import train_test_split\n",
    "import os\n"
   ]
  },
  {
   "cell_type": "code",
   "execution_count": 2,
   "metadata": {},
   "outputs": [
    {
     "data": {
      "text/html": [
       "<div>\n",
       "<style scoped>\n",
       "    .dataframe tbody tr th:only-of-type {\n",
       "        vertical-align: middle;\n",
       "    }\n",
       "\n",
       "    .dataframe tbody tr th {\n",
       "        vertical-align: top;\n",
       "    }\n",
       "\n",
       "    .dataframe thead th {\n",
       "        text-align: right;\n",
       "    }\n",
       "</style>\n",
       "<table border=\"1\" class=\"dataframe\">\n",
       "  <thead>\n",
       "    <tr style=\"text-align: right;\">\n",
       "      <th></th>\n",
       "      <th>Sequence</th>\n",
       "      <th>sequence_source</th>\n",
       "      <th>uniprot</th>\n",
       "      <th>Smiles</th>\n",
       "      <th>value</th>\n",
       "      <th>ec</th>\n",
       "      <th>log10_value</th>\n",
       "      <th>log10ki_mean</th>\n",
       "      <th>metabolite_features</th>\n",
       "      <th>protein_features</th>\n",
       "    </tr>\n",
       "  </thead>\n",
       "  <tbody>\n",
       "    <tr>\n",
       "      <th>0</th>\n",
       "      <td>MHTKGPTPQQHDGSALRIGIVHARWNETIIEPLLAGTKAKLLACGV...</td>\n",
       "      <td>uniprot_search</td>\n",
       "      <td>A0A6P8BCR9</td>\n",
       "      <td>O=c1n(C[C@H](O)[C@H](O)[C@H](O)CO)c2nc(O)nc(O)...</td>\n",
       "      <td>0.000002</td>\n",
       "      <td>2.5.1.78</td>\n",
       "      <td>-5.698970</td>\n",
       "      <td>-5.698970</td>\n",
       "      <td>[0.17249086, -0.23665705, -0.11737049, -0.0940...</td>\n",
       "      <td>[0.026722027, -0.06119407, 0.041440543, -0.109...</td>\n",
       "    </tr>\n",
       "    <tr>\n",
       "      <th>1</th>\n",
       "      <td>MASPDWGYDDKNGPEQWSKLYPIANGNNQSPVDIKTSETKHDTSLK...</td>\n",
       "      <td>brenda</td>\n",
       "      <td>P00915</td>\n",
       "      <td>CN1CCN(C(=O)c2ccc(S(N)(=O)=O)cc2)[C@@H](Cc2ccc...</td>\n",
       "      <td>0.000707</td>\n",
       "      <td>4.2.1.1</td>\n",
       "      <td>-3.150581</td>\n",
       "      <td>-3.150581</td>\n",
       "      <td>[0.4240491, 0.28231123, 0.2642891, -0.7667821,...</td>\n",
       "      <td>[-0.029181704, -0.12635791, 0.10866662, 0.0339...</td>\n",
       "    </tr>\n",
       "    <tr>\n",
       "      <th>2</th>\n",
       "      <td>MLDDIRGFMNTFSETMFMDVINYSLTRDRYDSVFLQRQNYRDLGQL...</td>\n",
       "      <td>brenda</td>\n",
       "      <td>Q9HLD0</td>\n",
       "      <td>C[C@H]1O[C@H](O[C@H]2[C@H](O)[C@@H](O)[C@@H](O...</td>\n",
       "      <td>0.002990</td>\n",
       "      <td>3.2.1.20</td>\n",
       "      <td>-2.524329</td>\n",
       "      <td>-2.524329</td>\n",
       "      <td>[0.50005734, 0.3923428, 0.064121775, -0.635894...</td>\n",
       "      <td>[0.02874529, -0.17312695, -0.0026887748, 0.035...</td>\n",
       "    </tr>\n",
       "    <tr>\n",
       "      <th>3</th>\n",
       "      <td>MKLMENIFDLAKANKKKIVLAEGEEERNIRASEEIIKDGIADIILV...</td>\n",
       "      <td>uniprot_search</td>\n",
       "      <td>A0A1L5F6Z9</td>\n",
       "      <td>CCN=C(O)CCN=C(O)[C@H](O)C(C)(C)COP(=O)(O)OP(=O...</td>\n",
       "      <td>0.020000</td>\n",
       "      <td>2.3.1.8</td>\n",
       "      <td>-1.698970</td>\n",
       "      <td>-1.698970</td>\n",
       "      <td>[0.28353548, 0.018489605, -0.5459905, -0.34693...</td>\n",
       "      <td>[-0.06555556, 0.04763434, 0.031432115, 0.17143...</td>\n",
       "    </tr>\n",
       "    <tr>\n",
       "      <th>4</th>\n",
       "      <td>MAKRIVEPFRIKMVEKIRVPSREEREAALKEAGYNPFLLPSSAVYI...</td>\n",
       "      <td>sabio</td>\n",
       "      <td>P28796</td>\n",
       "      <td>CC(N)C(=O)O</td>\n",
       "      <td>24.500000</td>\n",
       "      <td>4.1.99.1</td>\n",
       "      <td>1.389166</td>\n",
       "      <td>1.419631</td>\n",
       "      <td>[0.051456872, 0.35619217, 0.10593035, -1.04098...</td>\n",
       "      <td>[0.049294557, -0.043596543, 0.0546125, 0.35600...</td>\n",
       "    </tr>\n",
       "  </tbody>\n",
       "</table>\n",
       "</div>"
      ],
      "text/plain": [
       "                                            Sequence sequence_source  \\\n",
       "0  MHTKGPTPQQHDGSALRIGIVHARWNETIIEPLLAGTKAKLLACGV...  uniprot_search   \n",
       "1  MASPDWGYDDKNGPEQWSKLYPIANGNNQSPVDIKTSETKHDTSLK...          brenda   \n",
       "2  MLDDIRGFMNTFSETMFMDVINYSLTRDRYDSVFLQRQNYRDLGQL...          brenda   \n",
       "3  MKLMENIFDLAKANKKKIVLAEGEEERNIRASEEIIKDGIADIILV...  uniprot_search   \n",
       "4  MAKRIVEPFRIKMVEKIRVPSREEREAALKEAGYNPFLLPSSAVYI...           sabio   \n",
       "\n",
       "      uniprot                                             Smiles      value  \\\n",
       "0  A0A6P8BCR9  O=c1n(C[C@H](O)[C@H](O)[C@H](O)CO)c2nc(O)nc(O)...   0.000002   \n",
       "1      P00915  CN1CCN(C(=O)c2ccc(S(N)(=O)=O)cc2)[C@@H](Cc2ccc...   0.000707   \n",
       "2      Q9HLD0  C[C@H]1O[C@H](O[C@H]2[C@H](O)[C@@H](O)[C@@H](O...   0.002990   \n",
       "3  A0A1L5F6Z9  CCN=C(O)CCN=C(O)[C@H](O)C(C)(C)COP(=O)(O)OP(=O...   0.020000   \n",
       "4      P28796                                        CC(N)C(=O)O  24.500000   \n",
       "\n",
       "         ec  log10_value  log10ki_mean  \\\n",
       "0  2.5.1.78    -5.698970     -5.698970   \n",
       "1   4.2.1.1    -3.150581     -3.150581   \n",
       "2  3.2.1.20    -2.524329     -2.524329   \n",
       "3   2.3.1.8    -1.698970     -1.698970   \n",
       "4  4.1.99.1     1.389166      1.419631   \n",
       "\n",
       "                                 metabolite_features  \\\n",
       "0  [0.17249086, -0.23665705, -0.11737049, -0.0940...   \n",
       "1  [0.4240491, 0.28231123, 0.2642891, -0.7667821,...   \n",
       "2  [0.50005734, 0.3923428, 0.064121775, -0.635894...   \n",
       "3  [0.28353548, 0.018489605, -0.5459905, -0.34693...   \n",
       "4  [0.051456872, 0.35619217, 0.10593035, -1.04098...   \n",
       "\n",
       "                                    protein_features  \n",
       "0  [0.026722027, -0.06119407, 0.041440543, -0.109...  \n",
       "1  [-0.029181704, -0.12635791, 0.10866662, 0.0339...  \n",
       "2  [0.02874529, -0.17312695, -0.0026887748, 0.035...  \n",
       "3  [-0.06555556, 0.04763434, 0.031432115, 0.17143...  \n",
       "4  [0.049294557, -0.043596543, 0.0546125, 0.35600...  "
      ]
     },
     "execution_count": 2,
     "metadata": {},
     "output_type": "execute_result"
    }
   ],
   "source": [
    "import joblib\n",
    "import pandas as pd\n",
    "\n",
    "data_ki = joblib.load('/Users/pinchichen/2025S lab/AI drug project/Catpred/dataset/ki/ki_with_features.joblib')\n",
    "data_ki.head()"
   ]
  },
  {
   "cell_type": "code",
   "execution_count": 3,
   "metadata": {},
   "outputs": [
    {
     "data": {
      "text/html": [
       "<div>\n",
       "<style scoped>\n",
       "    .dataframe tbody tr th:only-of-type {\n",
       "        vertical-align: middle;\n",
       "    }\n",
       "\n",
       "    .dataframe tbody tr th {\n",
       "        vertical-align: top;\n",
       "    }\n",
       "\n",
       "    .dataframe thead th {\n",
       "        text-align: right;\n",
       "    }\n",
       "</style>\n",
       "<table border=\"1\" class=\"dataframe\">\n",
       "  <thead>\n",
       "    <tr style=\"text-align: right;\">\n",
       "      <th></th>\n",
       "      <th>Sequence</th>\n",
       "      <th>sequence_source</th>\n",
       "      <th>uniprot</th>\n",
       "      <th>Smiles</th>\n",
       "      <th>value</th>\n",
       "      <th>ec</th>\n",
       "      <th>log10_value</th>\n",
       "      <th>label</th>\n",
       "      <th>metabolite_features</th>\n",
       "      <th>protein_features</th>\n",
       "    </tr>\n",
       "  </thead>\n",
       "  <tbody>\n",
       "    <tr>\n",
       "      <th>0</th>\n",
       "      <td>MHTKGPTPQQHDGSALRIGIVHARWNETIIEPLLAGTKAKLLACGV...</td>\n",
       "      <td>uniprot_search</td>\n",
       "      <td>A0A6P8BCR9</td>\n",
       "      <td>O=c1n(C[C@H](O)[C@H](O)[C@H](O)CO)c2nc(O)nc(O)...</td>\n",
       "      <td>0.000002</td>\n",
       "      <td>2.5.1.78</td>\n",
       "      <td>-5.698970</td>\n",
       "      <td>-5.698970</td>\n",
       "      <td>[0.17249086, -0.23665705, -0.11737049, -0.0940...</td>\n",
       "      <td>[0.026722027, -0.06119407, 0.041440543, -0.109...</td>\n",
       "    </tr>\n",
       "    <tr>\n",
       "      <th>1</th>\n",
       "      <td>MASPDWGYDDKNGPEQWSKLYPIANGNNQSPVDIKTSETKHDTSLK...</td>\n",
       "      <td>brenda</td>\n",
       "      <td>P00915</td>\n",
       "      <td>CN1CCN(C(=O)c2ccc(S(N)(=O)=O)cc2)[C@@H](Cc2ccc...</td>\n",
       "      <td>0.000707</td>\n",
       "      <td>4.2.1.1</td>\n",
       "      <td>-3.150581</td>\n",
       "      <td>-3.150581</td>\n",
       "      <td>[0.4240491, 0.28231123, 0.2642891, -0.7667821,...</td>\n",
       "      <td>[-0.029181704, -0.12635791, 0.10866662, 0.0339...</td>\n",
       "    </tr>\n",
       "    <tr>\n",
       "      <th>2</th>\n",
       "      <td>MLDDIRGFMNTFSETMFMDVINYSLTRDRYDSVFLQRQNYRDLGQL...</td>\n",
       "      <td>brenda</td>\n",
       "      <td>Q9HLD0</td>\n",
       "      <td>C[C@H]1O[C@H](O[C@H]2[C@H](O)[C@@H](O)[C@@H](O...</td>\n",
       "      <td>0.002990</td>\n",
       "      <td>3.2.1.20</td>\n",
       "      <td>-2.524329</td>\n",
       "      <td>-2.524329</td>\n",
       "      <td>[0.50005734, 0.3923428, 0.064121775, -0.635894...</td>\n",
       "      <td>[0.02874529, -0.17312695, -0.0026887748, 0.035...</td>\n",
       "    </tr>\n",
       "    <tr>\n",
       "      <th>3</th>\n",
       "      <td>MKLMENIFDLAKANKKKIVLAEGEEERNIRASEEIIKDGIADIILV...</td>\n",
       "      <td>uniprot_search</td>\n",
       "      <td>A0A1L5F6Z9</td>\n",
       "      <td>CCN=C(O)CCN=C(O)[C@H](O)C(C)(C)COP(=O)(O)OP(=O...</td>\n",
       "      <td>0.020000</td>\n",
       "      <td>2.3.1.8</td>\n",
       "      <td>-1.698970</td>\n",
       "      <td>-1.698970</td>\n",
       "      <td>[0.28353548, 0.018489605, -0.5459905, -0.34693...</td>\n",
       "      <td>[-0.06555556, 0.04763434, 0.031432115, 0.17143...</td>\n",
       "    </tr>\n",
       "    <tr>\n",
       "      <th>4</th>\n",
       "      <td>MAKRIVEPFRIKMVEKIRVPSREEREAALKEAGYNPFLLPSSAVYI...</td>\n",
       "      <td>sabio</td>\n",
       "      <td>P28796</td>\n",
       "      <td>CC(N)C(=O)O</td>\n",
       "      <td>24.500000</td>\n",
       "      <td>4.1.99.1</td>\n",
       "      <td>1.389166</td>\n",
       "      <td>1.419631</td>\n",
       "      <td>[0.051456872, 0.35619217, 0.10593035, -1.04098...</td>\n",
       "      <td>[0.049294557, -0.043596543, 0.0546125, 0.35600...</td>\n",
       "    </tr>\n",
       "  </tbody>\n",
       "</table>\n",
       "</div>"
      ],
      "text/plain": [
       "                                            Sequence sequence_source  \\\n",
       "0  MHTKGPTPQQHDGSALRIGIVHARWNETIIEPLLAGTKAKLLACGV...  uniprot_search   \n",
       "1  MASPDWGYDDKNGPEQWSKLYPIANGNNQSPVDIKTSETKHDTSLK...          brenda   \n",
       "2  MLDDIRGFMNTFSETMFMDVINYSLTRDRYDSVFLQRQNYRDLGQL...          brenda   \n",
       "3  MKLMENIFDLAKANKKKIVLAEGEEERNIRASEEIIKDGIADIILV...  uniprot_search   \n",
       "4  MAKRIVEPFRIKMVEKIRVPSREEREAALKEAGYNPFLLPSSAVYI...           sabio   \n",
       "\n",
       "      uniprot                                             Smiles      value  \\\n",
       "0  A0A6P8BCR9  O=c1n(C[C@H](O)[C@H](O)[C@H](O)CO)c2nc(O)nc(O)...   0.000002   \n",
       "1      P00915  CN1CCN(C(=O)c2ccc(S(N)(=O)=O)cc2)[C@@H](Cc2ccc...   0.000707   \n",
       "2      Q9HLD0  C[C@H]1O[C@H](O[C@H]2[C@H](O)[C@@H](O)[C@@H](O...   0.002990   \n",
       "3  A0A1L5F6Z9  CCN=C(O)CCN=C(O)[C@H](O)C(C)(C)COP(=O)(O)OP(=O...   0.020000   \n",
       "4      P28796                                        CC(N)C(=O)O  24.500000   \n",
       "\n",
       "         ec  log10_value     label  \\\n",
       "0  2.5.1.78    -5.698970 -5.698970   \n",
       "1   4.2.1.1    -3.150581 -3.150581   \n",
       "2  3.2.1.20    -2.524329 -2.524329   \n",
       "3   2.3.1.8    -1.698970 -1.698970   \n",
       "4  4.1.99.1     1.389166  1.419631   \n",
       "\n",
       "                                 metabolite_features  \\\n",
       "0  [0.17249086, -0.23665705, -0.11737049, -0.0940...   \n",
       "1  [0.4240491, 0.28231123, 0.2642891, -0.7667821,...   \n",
       "2  [0.50005734, 0.3923428, 0.064121775, -0.635894...   \n",
       "3  [0.28353548, 0.018489605, -0.5459905, -0.34693...   \n",
       "4  [0.051456872, 0.35619217, 0.10593035, -1.04098...   \n",
       "\n",
       "                                    protein_features  \n",
       "0  [0.026722027, -0.06119407, 0.041440543, -0.109...  \n",
       "1  [-0.029181704, -0.12635791, 0.10866662, 0.0339...  \n",
       "2  [0.02874529, -0.17312695, -0.0026887748, 0.035...  \n",
       "3  [-0.06555556, 0.04763434, 0.031432115, 0.17143...  \n",
       "4  [0.049294557, -0.043596543, 0.0546125, 0.35600...  "
      ]
     },
     "execution_count": 3,
     "metadata": {},
     "output_type": "execute_result"
    }
   ],
   "source": [
    "data_ki.rename(columns={'log10ki_mean':'label'},inplace=True)\n",
    "data_ki.head()"
   ]
  },
  {
   "cell_type": "code",
   "execution_count": 4,
   "metadata": {},
   "outputs": [],
   "source": [
    "# Define dataset\n",
    "class MPI_Dataset(Dataset):\n",
    "    def __init__(self, dataframe):\n",
    "        self.dataframe = dataframe\n",
    "\n",
    "    def __len__(self):\n",
    "        return len(self.dataframe)\n",
    "\n",
    "    def __getitem__(self, idx):\n",
    "        row = self.dataframe.iloc[idx]\n",
    "        return {\n",
    "            'metabolite_features': torch.tensor(np.asarray(row['metabolite_features'], dtype=np.float32)),\n",
    "            'protein_features': torch.tensor(np.asarray(row['protein_features'], dtype=np.float32)),\n",
    "            'label': torch.tensor(float(row['label']), dtype=torch.float32),\n",
    "        }"
   ]
  },
  {
   "cell_type": "code",
   "execution_count": 5,
   "metadata": {},
   "outputs": [],
   "source": [
    "# Separate the dataset by unique proteins and drugs\n",
    "unique_proteins = data_ki['Sequence'].unique()\n",
    "unique_mols = data_ki['Smiles'].unique()\n",
    "# Set the seed for reproducibility\n",
    "torch.manual_seed(42)\n",
    "# Function to perform a cold split\n",
    "def cold_split(unique_items, test_size=0.2, val_size=0.1):\n",
    "    train_items, test_items = train_test_split(unique_items, test_size=test_size, random_state=42)\n",
    "    train_items, val_items = train_test_split(train_items, test_size=val_size / (1 - test_size), random_state=42)\n",
    "    return train_items, val_items, test_items\n",
    "# Cold split by proteins\n",
    "train_proteins, val_proteins, test_proteins = cold_split(unique_proteins)\n",
    "train_cold_protein = data_ki[data_ki['Sequence'].isin(train_proteins)]\n",
    "val_cold_protein = data_ki[data_ki['Sequence'].isin(val_proteins)]\n",
    "test_cold_protein = data_ki[data_ki['Sequence'].isin(test_proteins)]\n",
    "# Cold split by molecules\n",
    "train_mols, val_mols, test_mols = cold_split(unique_mols)\n",
    "train_cold_mols = data_ki[data_ki['Smiles'].isin(train_mols)]\n",
    "val_cold_mols = data_ki[data_ki['Smiles'].isin(val_mols)]\n",
    "test_cold_mols = data_ki[data_ki['Smiles'].isin(test_mols)]"
   ]
  },
  {
   "cell_type": "code",
   "execution_count": 6,
   "metadata": {},
   "outputs": [],
   "source": [
    "# cold protein\n",
    "train_dataset = MPI_Dataset(train_cold_protein)\n",
    "val_dataset = MPI_Dataset(val_cold_protein)\n",
    "test_dataset = MPI_Dataset(test_cold_protein)\n",
    "\n",
    "train_loader = DataLoader(train_dataset, batch_size=32, shuffle=True)\n",
    "val_loader = DataLoader(val_dataset, batch_size=32)\n",
    "test_loader = DataLoader(test_dataset, batch_size=32)\n",
    "\n",
    "# cold mols\n",
    "train_dataset_mols = MPI_Dataset(train_cold_mols)\n",
    "val_dataset_mols = MPI_Dataset(val_cold_mols)\n",
    "test_dataset_mols = MPI_Dataset(test_cold_mols)\n",
    "\n",
    "train_loader_mols = DataLoader(train_dataset_mols, batch_size=32, shuffle=True)\n",
    "val_loader_mols = DataLoader(val_dataset_mols, batch_size=32)\n",
    "test_loader_mols = DataLoader(test_dataset_mols, batch_size=32)"
   ]
  },
  {
   "cell_type": "code",
   "execution_count": 7,
   "metadata": {},
   "outputs": [],
   "source": [
    "import torch.nn as nn\n",
    "import torch\n",
    "import torch.nn.functional as F\n",
    "\n",
    "# Define CNN Model for Regression\n",
    "class CNNRegressor(nn.Module):\n",
    "    def __init__(self, mol_input_dim, protein_input_dim, out_dim=1):\n",
    "        super(CNNRegressor, self).__init__()\n",
    "\n",
    "        self.mol_conv = nn.Sequential(\n",
    "            nn.Conv1d(in_channels=1, out_channels=16, kernel_size=3, padding=1),\n",
    "            nn.ReLU(),\n",
    "            nn.MaxPool1d(2),\n",
    "            nn.Conv1d(16, 32, kernel_size=3, padding=1),\n",
    "            nn.ReLU(),\n",
    "            nn.MaxPool1d(2),\n",
    "        )\n",
    "\n",
    "        self.protein_conv = nn.Sequential(\n",
    "            nn.Conv1d(1, 16, kernel_size=3, padding=1),\n",
    "            nn.ReLU(),\n",
    "            nn.MaxPool1d(2),\n",
    "            nn.Conv1d(16, 32, kernel_size=3, padding=1),\n",
    "            nn.ReLU(),\n",
    "            nn.MaxPool1d(2),\n",
    "        )\n",
    "\n",
    "        with torch.no_grad():\n",
    "            dummy_mol = torch.zeros(1, 1, mol_input_dim)\n",
    "            dummy_protein = torch.zeros(1, 1, protein_input_dim)\n",
    "    \n",
    "            mol_flatten_len = self.mol_conv(dummy_mol).view(1, -1).size(1)\n",
    "            protein_flatten_len = self.protein_conv(dummy_protein).view(1, -1).size(1)\n",
    "\n",
    "        self.fc = nn.Sequential(\n",
    "            nn.Linear(mol_flatten_len + protein_flatten_len, 128),\n",
    "            nn.ReLU(),\n",
    "            nn.Dropout(0.3),\n",
    "            nn.Linear(128, out_dim)\n",
    "        )\n",
    "\n",
    "    def forward(self, mol_input, protein_input):\n",
    "        # Reshape to (B, 1, L) for Conv1d\n",
    "        mol_input = mol_input.unsqueeze(1)\n",
    "        protein_input = protein_input.unsqueeze(1)\n",
    "\n",
    "        mol_out = self.mol_conv(mol_input)\n",
    "        protein_out = self.protein_conv(protein_input)\n",
    "\n",
    "        # Flatten\n",
    "        mol_out = mol_out.view(mol_out.size(0), -1)\n",
    "        protein_out = protein_out.view(protein_out.size(0), -1)\n",
    "\n",
    "        combined = torch.cat([mol_out, protein_out], dim=1)\n",
    "        output = self.fc(combined).squeeze()\n",
    "        return output\n"
   ]
  },
  {
   "cell_type": "code",
   "execution_count": 8,
   "metadata": {},
   "outputs": [],
   "source": [
    "# Check CUDA availability\n",
    "device = torch.device(\"cuda\" if torch.cuda.is_available() else \"cpu\")"
   ]
  },
  {
   "cell_type": "code",
   "execution_count": null,
   "metadata": {},
   "outputs": [
    {
     "name": "stderr",
     "output_type": "stream",
     "text": [
      "Training Epoch 1: 100%|██████████| 259/259 [00:27<00:00,  9.48it/s]\n"
     ]
    },
    {
     "name": "stdout",
     "output_type": "stream",
     "text": [
      "Epoch 0 - Train Loss: 3.5220, Train MSE: 3.5209, Train MAE: 1.4980\n"
     ]
    },
    {
     "name": "stderr",
     "output_type": "stream",
     "text": [
      "/var/folders/yz/c1z6m9_d5d3f80sywjc3rqsc0000gn/T/ipykernel_19584/4029945990.py:93: FutureWarning: The behavior of DataFrame concatenation with empty or all-NA entries is deprecated. In a future version, this will no longer exclude empty or all-NA columns when determining the result dtypes. To retain the old behavior, exclude the relevant entries before the concat operation.\n",
      "  train_history = pd.concat([train_history, pd.DataFrame([new_row])], ignore_index=True)\n"
     ]
    },
    {
     "name": "stdout",
     "output_type": "stream",
     "text": [
      "Epoch 0 - Validation Loss: 2.6616, Validation MSE: 2.6588, Validation MAE: 1.3396\n"
     ]
    },
    {
     "name": "stderr",
     "output_type": "stream",
     "text": [
      "Training Epoch 2: 100%|██████████| 259/259 [00:15<00:00, 16.53it/s]\n",
      "Training Epoch 3: 100%|██████████| 259/259 [00:15<00:00, 16.56it/s]\n",
      "Training Epoch 4: 100%|██████████| 259/259 [00:18<00:00, 14.37it/s]\n",
      "Training Epoch 5: 100%|██████████| 259/259 [00:16<00:00, 15.34it/s]\n",
      "Training Epoch 6: 100%|██████████| 259/259 [00:19<00:00, 13.23it/s]\n",
      "Training Epoch 7: 100%|██████████| 259/259 [00:17<00:00, 14.60it/s]\n",
      "Training Epoch 8: 100%|██████████| 259/259 [00:18<00:00, 14.31it/s]\n",
      "Training Epoch 9: 100%|██████████| 259/259 [00:22<00:00, 11.70it/s]\n",
      "Training Epoch 10: 100%|██████████| 259/259 [00:21<00:00, 11.91it/s]\n",
      "Training Epoch 11: 100%|██████████| 259/259 [00:22<00:00, 11.48it/s]\n"
     ]
    },
    {
     "name": "stdout",
     "output_type": "stream",
     "text": [
      "Epoch 10 - Train Loss: 2.3711, Train MSE: 2.3726, Train MAE: 1.2054\n",
      "Epoch 10 - Validation Loss: 2.2820, Validation MSE: 2.2784, Validation MAE: 1.2171\n"
     ]
    },
    {
     "name": "stderr",
     "output_type": "stream",
     "text": [
      "Training Epoch 12: 100%|██████████| 259/259 [00:23<00:00, 10.94it/s]\n",
      "Training Epoch 13: 100%|██████████| 259/259 [00:24<00:00, 10.79it/s]\n",
      "Training Epoch 14: 100%|██████████| 259/259 [00:22<00:00, 11.77it/s]\n",
      "Training Epoch 15: 100%|██████████| 259/259 [00:21<00:00, 12.26it/s]\n",
      "Training Epoch 16: 100%|██████████| 259/259 [00:21<00:00, 12.05it/s]\n",
      "Training Epoch 17: 100%|██████████| 259/259 [00:20<00:00, 12.50it/s]\n",
      "Training Epoch 18: 100%|██████████| 259/259 [00:20<00:00, 12.79it/s]\n",
      "Training Epoch 19: 100%|██████████| 259/259 [18:16<00:00,  4.23s/it]  \n",
      "Training Epoch 20: 100%|██████████| 259/259 [12:07<00:00,  2.81s/it]   \n",
      "Training Epoch 21: 100%|██████████| 259/259 [00:30<00:00,  8.43it/s]\n"
     ]
    },
    {
     "name": "stdout",
     "output_type": "stream",
     "text": [
      "Epoch 20 - Train Loss: 2.0895, Train MSE: 2.0899, Train MAE: 1.1262\n",
      "Epoch 20 - Validation Loss: 2.3169, Validation MSE: 2.3143, Validation MAE: 1.2367\n"
     ]
    },
    {
     "name": "stderr",
     "output_type": "stream",
     "text": [
      "Training Epoch 22: 100%|██████████| 259/259 [33:04<00:00,  7.66s/it]   \n",
      "Training Epoch 23: 100%|██████████| 259/259 [17:10<00:00,  3.98s/it]   \n",
      "Training Epoch 24: 100%|██████████| 259/259 [00:30<00:00,  8.54it/s]\n",
      "Training Epoch 25: 100%|██████████| 259/259 [03:47<00:00,  1.14it/s] \n",
      "Training Epoch 26: 100%|██████████| 259/259 [00:22<00:00, 11.49it/s]\n",
      "Training Epoch 27: 100%|██████████| 259/259 [00:20<00:00, 12.76it/s]\n",
      "Training Epoch 28: 100%|██████████| 259/259 [00:19<00:00, 13.49it/s]\n",
      "Training Epoch 29: 100%|██████████| 259/259 [00:19<00:00, 13.36it/s]\n",
      "Training Epoch 30: 100%|██████████| 259/259 [00:18<00:00, 13.90it/s]\n",
      "Training Epoch 31: 100%|██████████| 259/259 [00:18<00:00, 13.86it/s]\n"
     ]
    },
    {
     "name": "stdout",
     "output_type": "stream",
     "text": [
      "Epoch 30 - Train Loss: 1.7960, Train MSE: 1.7964, Train MAE: 1.0355\n",
      "Epoch 30 - Validation Loss: 2.2800, Validation MSE: 2.2755, Validation MAE: 1.1913\n"
     ]
    },
    {
     "name": "stderr",
     "output_type": "stream",
     "text": [
      "Training Epoch 32: 100%|██████████| 259/259 [00:18<00:00, 13.92it/s]\n",
      "Training Epoch 33: 100%|██████████| 259/259 [00:18<00:00, 13.76it/s]\n",
      "Training Epoch 34: 100%|██████████| 259/259 [00:18<00:00, 13.91it/s]\n",
      "Training Epoch 35: 100%|██████████| 259/259 [00:18<00:00, 13.84it/s]\n",
      "Training Epoch 36: 100%|██████████| 259/259 [00:18<00:00, 14.22it/s]\n",
      "Training Epoch 37: 100%|██████████| 259/259 [00:18<00:00, 14.06it/s]\n",
      "Training Epoch 38: 100%|██████████| 259/259 [00:18<00:00, 13.64it/s]\n",
      "Training Epoch 39: 100%|██████████| 259/259 [00:18<00:00, 14.08it/s]\n",
      "Training Epoch 40: 100%|██████████| 259/259 [00:18<00:00, 14.23it/s]\n",
      "Training Epoch 41: 100%|██████████| 259/259 [00:18<00:00, 13.95it/s]\n"
     ]
    },
    {
     "name": "stdout",
     "output_type": "stream",
     "text": [
      "Epoch 40 - Train Loss: 1.6019, Train MSE: 1.5991, Train MAE: 0.9765\n",
      "Epoch 40 - Validation Loss: 2.1377, Validation MSE: 2.1339, Validation MAE: 1.1574\n"
     ]
    },
    {
     "name": "stderr",
     "output_type": "stream",
     "text": [
      "Training Epoch 42: 100%|██████████| 259/259 [00:17<00:00, 14.45it/s]\n",
      "Training Epoch 43: 100%|██████████| 259/259 [00:18<00:00, 14.01it/s]\n",
      "Training Epoch 44: 100%|██████████| 259/259 [00:18<00:00, 13.88it/s]\n",
      "Training Epoch 45: 100%|██████████| 259/259 [00:18<00:00, 14.21it/s]\n",
      "Training Epoch 46: 100%|██████████| 259/259 [00:18<00:00, 14.35it/s]\n",
      "Training Epoch 47: 100%|██████████| 259/259 [00:19<00:00, 13.59it/s]\n",
      "Training Epoch 48: 100%|██████████| 259/259 [00:18<00:00, 14.32it/s]\n",
      "Training Epoch 49: 100%|██████████| 259/259 [00:18<00:00, 14.02it/s]\n",
      "Training Epoch 50: 100%|██████████| 259/259 [00:18<00:00, 13.85it/s]\n",
      "Training Epoch 51: 100%|██████████| 259/259 [00:18<00:00, 14.27it/s]\n"
     ]
    },
    {
     "name": "stdout",
     "output_type": "stream",
     "text": [
      "Epoch 50 - Train Loss: 1.4446, Train MSE: 1.4439, Train MAE: 0.9233\n",
      "Epoch 50 - Validation Loss: 2.1368, Validation MSE: 2.1336, Validation MAE: 1.1570\n"
     ]
    },
    {
     "name": "stderr",
     "output_type": "stream",
     "text": [
      "Training Epoch 52: 100%|██████████| 259/259 [00:18<00:00, 14.35it/s]\n",
      "Training Epoch 53: 100%|██████████| 259/259 [00:18<00:00, 14.16it/s]\n",
      "Training Epoch 54: 100%|██████████| 259/259 [00:18<00:00, 13.97it/s]\n",
      "Training Epoch 55: 100%|██████████| 259/259 [00:19<00:00, 13.40it/s]\n",
      "Training Epoch 56: 100%|██████████| 259/259 [00:18<00:00, 14.17it/s]\n",
      "Training Epoch 57: 100%|██████████| 259/259 [00:18<00:00, 14.26it/s]\n",
      "Training Epoch 58: 100%|██████████| 259/259 [00:17<00:00, 14.45it/s]\n",
      "Training Epoch 59: 100%|██████████| 259/259 [00:16<00:00, 15.36it/s]\n",
      "Training Epoch 60: 100%|██████████| 259/259 [00:16<00:00, 15.31it/s]\n",
      "Training Epoch 61: 100%|██████████| 259/259 [00:16<00:00, 15.65it/s]\n"
     ]
    },
    {
     "name": "stdout",
     "output_type": "stream",
     "text": [
      "Epoch 60 - Train Loss: 1.3138, Train MSE: 1.3145, Train MAE: 0.8868\n",
      "Epoch 60 - Validation Loss: 2.1769, Validation MSE: 2.1731, Validation MAE: 1.1544\n"
     ]
    },
    {
     "name": "stderr",
     "output_type": "stream",
     "text": [
      "Training Epoch 62: 100%|██████████| 259/259 [00:16<00:00, 15.52it/s]\n",
      "Training Epoch 63: 100%|██████████| 259/259 [00:16<00:00, 15.52it/s]\n",
      "Training Epoch 64: 100%|██████████| 259/259 [00:16<00:00, 15.60it/s]\n",
      "Training Epoch 65: 100%|██████████| 259/259 [00:16<00:00, 15.48it/s]\n",
      "Training Epoch 66: 100%|██████████| 259/259 [00:16<00:00, 15.38it/s]\n",
      "Training Epoch 67: 100%|██████████| 259/259 [00:16<00:00, 15.51it/s]\n",
      "Training Epoch 68: 100%|██████████| 259/259 [00:17<00:00, 15.15it/s]\n",
      "Training Epoch 69: 100%|██████████| 259/259 [00:16<00:00, 15.34it/s]\n",
      "Training Epoch 70: 100%|██████████| 259/259 [00:16<00:00, 15.40it/s]\n",
      "Training Epoch 71: 100%|██████████| 259/259 [00:16<00:00, 15.25it/s]\n"
     ]
    },
    {
     "name": "stdout",
     "output_type": "stream",
     "text": [
      "Epoch 70 - Train Loss: 1.1795, Train MSE: 1.1798, Train MAE: 0.8342\n",
      "Epoch 70 - Validation Loss: 2.1296, Validation MSE: 2.1249, Validation MAE: 1.1574\n"
     ]
    },
    {
     "name": "stderr",
     "output_type": "stream",
     "text": [
      "Training Epoch 72: 100%|██████████| 259/259 [00:16<00:00, 15.30it/s]\n",
      "Training Epoch 73: 100%|██████████| 259/259 [00:17<00:00, 15.16it/s]\n",
      "Training Epoch 74: 100%|██████████| 259/259 [00:16<00:00, 15.46it/s]\n",
      "Training Epoch 75: 100%|██████████| 259/259 [00:16<00:00, 15.38it/s]\n",
      "Training Epoch 76: 100%|██████████| 259/259 [00:17<00:00, 15.13it/s]\n",
      "Training Epoch 77: 100%|██████████| 259/259 [00:16<00:00, 15.51it/s]\n",
      "Training Epoch 78: 100%|██████████| 259/259 [00:17<00:00, 15.13it/s]\n",
      "Training Epoch 79: 100%|██████████| 259/259 [00:16<00:00, 15.45it/s]\n",
      "Training Epoch 80: 100%|██████████| 259/259 [00:16<00:00, 15.31it/s]\n",
      "Training Epoch 81: 100%|██████████| 259/259 [00:16<00:00, 15.40it/s]\n"
     ]
    },
    {
     "name": "stdout",
     "output_type": "stream",
     "text": [
      "Epoch 80 - Train Loss: 1.0884, Train MSE: 1.0889, Train MAE: 0.8040\n",
      "Epoch 80 - Validation Loss: 2.1647, Validation MSE: 2.1593, Validation MAE: 1.1506\n"
     ]
    },
    {
     "name": "stderr",
     "output_type": "stream",
     "text": [
      "Training Epoch 82: 100%|██████████| 259/259 [00:16<00:00, 15.35it/s]\n",
      "Training Epoch 83: 100%|██████████| 259/259 [00:16<00:00, 15.24it/s]\n",
      "Training Epoch 84: 100%|██████████| 259/259 [00:16<00:00, 15.46it/s]\n",
      "Training Epoch 85: 100%|██████████| 259/259 [00:16<00:00, 15.52it/s]\n",
      "Training Epoch 86: 100%|██████████| 259/259 [00:16<00:00, 15.52it/s]\n",
      "Training Epoch 87: 100%|██████████| 259/259 [00:16<00:00, 15.57it/s]\n",
      "Training Epoch 88: 100%|██████████| 259/259 [00:16<00:00, 15.25it/s]\n",
      "Training Epoch 89: 100%|██████████| 259/259 [00:16<00:00, 15.68it/s]\n",
      "Training Epoch 90: 100%|██████████| 259/259 [00:16<00:00, 15.33it/s]\n",
      "Training Epoch 91: 100%|██████████| 259/259 [00:16<00:00, 15.25it/s]\n"
     ]
    },
    {
     "name": "stdout",
     "output_type": "stream",
     "text": [
      "Epoch 90 - Train Loss: 1.0101, Train MSE: 1.0103, Train MAE: 0.7706\n",
      "Epoch 90 - Validation Loss: 2.1539, Validation MSE: 2.1491, Validation MAE: 1.1558\n"
     ]
    },
    {
     "name": "stderr",
     "output_type": "stream",
     "text": [
      "Training Epoch 92: 100%|██████████| 259/259 [00:18<00:00, 14.19it/s]\n",
      "Training Epoch 93: 100%|██████████| 259/259 [00:18<00:00, 13.82it/s]\n",
      "Training Epoch 94: 100%|██████████| 259/259 [00:20<00:00, 12.73it/s]\n",
      "Training Epoch 95: 100%|██████████| 259/259 [00:17<00:00, 14.60it/s]\n",
      "Training Epoch 96: 100%|██████████| 259/259 [00:17<00:00, 15.17it/s]\n",
      "Training Epoch 97: 100%|██████████| 259/259 [00:18<00:00, 14.15it/s]\n",
      "Training Epoch 98: 100%|██████████| 259/259 [00:16<00:00, 15.25it/s]\n",
      "Training Epoch 99: 100%|██████████| 259/259 [00:18<00:00, 14.28it/s]\n",
      "Training Epoch 100: 100%|██████████| 259/259 [00:17<00:00, 15.19it/s]\n",
      "Training Epoch 101: 100%|██████████| 259/259 [00:17<00:00, 15.20it/s]\n"
     ]
    },
    {
     "name": "stdout",
     "output_type": "stream",
     "text": [
      "Epoch 100 - Train Loss: 0.9508, Train MSE: 0.9517, Train MAE: 0.7485\n",
      "Epoch 100 - Validation Loss: 2.1773, Validation MSE: 2.1718, Validation MAE: 1.1522\n"
     ]
    },
    {
     "name": "stderr",
     "output_type": "stream",
     "text": [
      "Training Epoch 102: 100%|██████████| 259/259 [00:18<00:00, 14.29it/s]\n",
      "Training Epoch 103: 100%|██████████| 259/259 [00:18<00:00, 13.86it/s]\n",
      "Training Epoch 104: 100%|██████████| 259/259 [00:17<00:00, 14.51it/s]\n",
      "Training Epoch 105: 100%|██████████| 259/259 [00:19<00:00, 13.24it/s]\n",
      "Training Epoch 106: 100%|██████████| 259/259 [00:17<00:00, 14.55it/s]\n",
      "Training Epoch 107: 100%|██████████| 259/259 [00:18<00:00, 14.08it/s]\n",
      "Training Epoch 108: 100%|██████████| 259/259 [00:17<00:00, 14.40it/s]\n",
      "Training Epoch 109: 100%|██████████| 259/259 [00:17<00:00, 14.40it/s]\n",
      "Training Epoch 110: 100%|██████████| 259/259 [00:17<00:00, 14.47it/s]\n",
      "Training Epoch 111: 100%|██████████| 259/259 [00:17<00:00, 14.50it/s]\n"
     ]
    },
    {
     "name": "stdout",
     "output_type": "stream",
     "text": [
      "Epoch 110 - Train Loss: 0.8669, Train MSE: 0.8666, Train MAE: 0.7138\n",
      "Epoch 110 - Validation Loss: 2.2198, Validation MSE: 2.2154, Validation MAE: 1.1625\n"
     ]
    },
    {
     "name": "stderr",
     "output_type": "stream",
     "text": [
      "Training Epoch 112: 100%|██████████| 259/259 [00:16<00:00, 15.43it/s]\n",
      "Training Epoch 113: 100%|██████████| 259/259 [00:17<00:00, 15.05it/s]\n",
      "Training Epoch 114: 100%|██████████| 259/259 [00:17<00:00, 14.98it/s]\n",
      "Training Epoch 115: 100%|██████████| 259/259 [00:17<00:00, 15.02it/s]\n",
      "Training Epoch 116: 100%|██████████| 259/259 [00:17<00:00, 15.16it/s]\n",
      "Training Epoch 117: 100%|██████████| 259/259 [00:17<00:00, 14.53it/s]\n",
      "Training Epoch 118: 100%|██████████| 259/259 [00:17<00:00, 14.65it/s]\n",
      "Training Epoch 119: 100%|██████████| 259/259 [00:17<00:00, 15.10it/s]\n",
      "Training Epoch 120: 100%|██████████| 259/259 [00:17<00:00, 15.23it/s]\n",
      "Training Epoch 121: 100%|██████████| 259/259 [00:17<00:00, 14.71it/s]\n"
     ]
    },
    {
     "name": "stdout",
     "output_type": "stream",
     "text": [
      "Epoch 120 - Train Loss: 0.8451, Train MSE: 0.8449, Train MAE: 0.7052\n",
      "Epoch 120 - Validation Loss: 2.2918, Validation MSE: 2.2854, Validation MAE: 1.1737\n"
     ]
    },
    {
     "name": "stderr",
     "output_type": "stream",
     "text": [
      "Training Epoch 122: 100%|██████████| 259/259 [00:16<00:00, 15.38it/s]\n",
      "Training Epoch 123: 100%|██████████| 259/259 [00:17<00:00, 15.06it/s]\n",
      "Training Epoch 124: 100%|██████████| 259/259 [00:18<00:00, 14.04it/s]\n",
      "Training Epoch 125: 100%|██████████| 259/259 [00:18<00:00, 14.20it/s]\n",
      "Training Epoch 126: 100%|██████████| 259/259 [00:17<00:00, 14.86it/s]\n",
      "Training Epoch 127: 100%|██████████| 259/259 [00:17<00:00, 14.48it/s]\n",
      "Training Epoch 128: 100%|██████████| 259/259 [00:17<00:00, 14.94it/s]\n",
      "Training Epoch 129: 100%|██████████| 259/259 [00:17<00:00, 14.73it/s]\n",
      "Training Epoch 130: 100%|██████████| 259/259 [00:17<00:00, 14.89it/s]\n",
      "Training Epoch 131: 100%|██████████| 259/259 [00:17<00:00, 14.45it/s]\n"
     ]
    },
    {
     "name": "stdout",
     "output_type": "stream",
     "text": [
      "Epoch 130 - Train Loss: 0.7720, Train MSE: 0.7725, Train MAE: 0.6743\n",
      "Epoch 130 - Validation Loss: 2.3303, Validation MSE: 2.3252, Validation MAE: 1.1841\n"
     ]
    },
    {
     "name": "stderr",
     "output_type": "stream",
     "text": [
      "Training Epoch 132: 100%|██████████| 259/259 [00:19<00:00, 12.98it/s]\n",
      "Training Epoch 133: 100%|██████████| 259/259 [00:22<00:00, 11.48it/s]\n",
      "Training Epoch 134: 100%|██████████| 259/259 [00:16<00:00, 15.28it/s]\n",
      "Training Epoch 135: 100%|██████████| 259/259 [00:29<00:00,  8.67it/s]\n",
      "Training Epoch 136: 100%|██████████| 259/259 [00:17<00:00, 15.22it/s]\n",
      "Training Epoch 137: 100%|██████████| 259/259 [00:26<00:00,  9.87it/s]\n",
      "Training Epoch 138: 100%|██████████| 259/259 [00:17<00:00, 14.49it/s]\n",
      "Training Epoch 139: 100%|██████████| 259/259 [00:31<00:00,  8.33it/s]\n",
      "Training Epoch 140: 100%|██████████| 259/259 [00:17<00:00, 14.80it/s]\n",
      "Training Epoch 141: 100%|██████████| 259/259 [00:30<00:00,  8.43it/s]\n"
     ]
    },
    {
     "name": "stdout",
     "output_type": "stream",
     "text": [
      "Epoch 140 - Train Loss: 0.7174, Train MSE: 0.7176, Train MAE: 0.6479\n",
      "Epoch 140 - Validation Loss: 2.3164, Validation MSE: 2.3121, Validation MAE: 1.1813\n"
     ]
    },
    {
     "name": "stderr",
     "output_type": "stream",
     "text": [
      "Training Epoch 142: 100%|██████████| 259/259 [00:22<00:00, 11.63it/s]\n",
      "Training Epoch 143: 100%|██████████| 259/259 [00:17<00:00, 15.14it/s]\n",
      "Training Epoch 144: 100%|██████████| 259/259 [00:35<00:00,  7.31it/s]\n",
      "Training Epoch 145: 100%|██████████| 259/259 [00:17<00:00, 14.86it/s]\n",
      "Training Epoch 146: 100%|██████████| 259/259 [00:34<00:00,  7.46it/s]\n",
      "Training Epoch 147: 100%|██████████| 259/259 [00:16<00:00, 15.45it/s]\n",
      "Training Epoch 148: 100%|██████████| 259/259 [00:31<00:00,  8.21it/s]\n",
      "Training Epoch 149: 100%|██████████| 259/259 [16:12<00:00,  3.75s/it]   \n",
      "Training Epoch 150: 100%|██████████| 259/259 [00:28<00:00,  9.22it/s]\n",
      "Training Epoch 151: 100%|██████████| 259/259 [00:28<00:00,  9.15it/s]\n"
     ]
    },
    {
     "name": "stdout",
     "output_type": "stream",
     "text": [
      "Epoch 150 - Train Loss: 0.7104, Train MSE: 0.7104, Train MAE: 0.6476\n",
      "Epoch 150 - Validation Loss: 2.4689, Validation MSE: 2.4644, Validation MAE: 1.2277\n"
     ]
    },
    {
     "name": "stderr",
     "output_type": "stream",
     "text": [
      "Training Epoch 152: 100%|██████████| 259/259 [00:26<00:00,  9.76it/s]\n",
      "Training Epoch 153: 100%|██████████| 259/259 [00:26<00:00,  9.79it/s]\n",
      "Training Epoch 154: 100%|██████████| 259/259 [00:26<00:00,  9.87it/s]\n",
      "Training Epoch 155: 100%|██████████| 259/259 [00:26<00:00,  9.63it/s]\n",
      "Training Epoch 156: 100%|██████████| 259/259 [00:26<00:00,  9.82it/s]\n",
      "Training Epoch 157: 100%|██████████| 259/259 [00:27<00:00,  9.54it/s]\n",
      "Training Epoch 158: 100%|██████████| 259/259 [01:02<00:00,  4.17it/s]\n",
      "Training Epoch 159: 100%|██████████| 259/259 [01:36<00:00,  2.68it/s]\n",
      "Training Epoch 160: 100%|██████████| 259/259 [01:36<00:00,  2.69it/s]\n",
      "Training Epoch 161: 100%|██████████| 259/259 [01:38<00:00,  2.64it/s]\n"
     ]
    },
    {
     "name": "stdout",
     "output_type": "stream",
     "text": [
      "Epoch 160 - Train Loss: 0.6655, Train MSE: 0.6655, Train MAE: 0.6247\n",
      "Epoch 160 - Validation Loss: 2.3536, Validation MSE: 2.3479, Validation MAE: 1.1892\n"
     ]
    },
    {
     "name": "stderr",
     "output_type": "stream",
     "text": [
      "Training Epoch 162: 100%|██████████| 259/259 [16:47<00:00,  3.89s/it]   \n",
      "Training Epoch 163: 100%|██████████| 259/259 [00:26<00:00,  9.70it/s]\n",
      "Training Epoch 164: 100%|██████████| 259/259 [00:26<00:00,  9.95it/s]\n",
      "Training Epoch 165: 100%|██████████| 259/259 [00:26<00:00,  9.74it/s]\n",
      "Training Epoch 166: 100%|██████████| 259/259 [00:25<00:00,  9.97it/s]\n",
      "Training Epoch 167: 100%|██████████| 259/259 [00:26<00:00,  9.92it/s]\n",
      "Training Epoch 168: 100%|██████████| 259/259 [00:27<00:00,  9.49it/s]\n",
      "Training Epoch 169: 100%|██████████| 259/259 [00:25<00:00, 10.06it/s]\n",
      "Training Epoch 170: 100%|██████████| 259/259 [00:26<00:00,  9.84it/s]\n",
      "Training Epoch 171: 100%|██████████| 259/259 [00:26<00:00,  9.79it/s]\n"
     ]
    },
    {
     "name": "stdout",
     "output_type": "stream",
     "text": [
      "Epoch 170 - Train Loss: 0.6470, Train MSE: 0.6471, Train MAE: 0.6135\n",
      "Epoch 170 - Validation Loss: 2.3375, Validation MSE: 2.3335, Validation MAE: 1.1964\n"
     ]
    },
    {
     "name": "stderr",
     "output_type": "stream",
     "text": [
      "Training Epoch 172: 100%|██████████| 259/259 [00:26<00:00,  9.62it/s]\n",
      "Training Epoch 173: 100%|██████████| 259/259 [00:26<00:00,  9.82it/s]\n",
      "Training Epoch 174: 100%|██████████| 259/259 [00:26<00:00,  9.67it/s]\n",
      "Training Epoch 175: 100%|██████████| 259/259 [00:26<00:00,  9.72it/s]\n",
      "Training Epoch 176: 100%|██████████| 259/259 [00:26<00:00,  9.60it/s]\n",
      "Training Epoch 177: 100%|██████████| 259/259 [00:26<00:00,  9.63it/s]\n",
      "Training Epoch 178: 100%|██████████| 259/259 [00:55<00:00,  4.69it/s]\n",
      "Training Epoch 179: 100%|██████████| 259/259 [01:00<00:00,  4.27it/s]\n",
      "Training Epoch 180: 100%|██████████| 259/259 [00:26<00:00,  9.62it/s]\n",
      "Training Epoch 181: 100%|██████████| 259/259 [00:17<00:00, 14.81it/s]\n"
     ]
    },
    {
     "name": "stdout",
     "output_type": "stream",
     "text": [
      "Epoch 180 - Train Loss: 0.6075, Train MSE: 0.6075, Train MAE: 0.5944\n",
      "Epoch 180 - Validation Loss: 2.4985, Validation MSE: 2.4915, Validation MAE: 1.2295\n"
     ]
    },
    {
     "name": "stderr",
     "output_type": "stream",
     "text": [
      "Training Epoch 182: 100%|██████████| 259/259 [00:18<00:00, 13.94it/s]\n",
      "Training Epoch 183: 100%|██████████| 259/259 [00:17<00:00, 14.66it/s]\n",
      "Training Epoch 184: 100%|██████████| 259/259 [00:17<00:00, 14.99it/s]\n",
      "Training Epoch 185: 100%|██████████| 259/259 [00:17<00:00, 14.99it/s]\n",
      "Training Epoch 186: 100%|██████████| 259/259 [00:17<00:00, 14.59it/s]\n",
      "Training Epoch 187: 100%|██████████| 259/259 [00:17<00:00, 14.84it/s]\n",
      "Training Epoch 188: 100%|██████████| 259/259 [00:17<00:00, 14.79it/s]\n",
      "Training Epoch 189: 100%|██████████| 259/259 [00:17<00:00, 14.78it/s]\n",
      "Training Epoch 190: 100%|██████████| 259/259 [00:17<00:00, 15.14it/s]\n",
      "Training Epoch 191: 100%|██████████| 259/259 [00:17<00:00, 15.10it/s]\n"
     ]
    },
    {
     "name": "stdout",
     "output_type": "stream",
     "text": [
      "Epoch 190 - Train Loss: 0.5591, Train MSE: 0.5596, Train MAE: 0.5716\n",
      "Epoch 190 - Validation Loss: 2.4304, Validation MSE: 2.4248, Validation MAE: 1.2202\n"
     ]
    },
    {
     "name": "stderr",
     "output_type": "stream",
     "text": [
      "Training Epoch 192: 100%|██████████| 259/259 [00:17<00:00, 14.56it/s]\n",
      "Training Epoch 193: 100%|██████████| 259/259 [00:17<00:00, 15.00it/s]\n",
      "Training Epoch 194: 100%|██████████| 259/259 [00:17<00:00, 15.11it/s]\n",
      "Training Epoch 195: 100%|██████████| 259/259 [00:17<00:00, 14.76it/s]\n",
      "Training Epoch 196: 100%|██████████| 259/259 [00:17<00:00, 14.85it/s]\n",
      "Training Epoch 197: 100%|██████████| 259/259 [00:17<00:00, 14.85it/s]\n",
      "Training Epoch 198: 100%|██████████| 259/259 [00:17<00:00, 14.94it/s]\n",
      "Training Epoch 199: 100%|██████████| 259/259 [00:17<00:00, 14.84it/s]\n",
      "Training Epoch 200: 100%|██████████| 259/259 [00:17<00:00, 14.91it/s]\n",
      "Training Epoch 201: 100%|██████████| 259/259 [00:16<00:00, 15.36it/s]\n"
     ]
    },
    {
     "name": "stdout",
     "output_type": "stream",
     "text": [
      "Epoch 200 - Train Loss: 0.5445, Train MSE: 0.5447, Train MAE: 0.5594\n",
      "Epoch 200 - Validation Loss: 2.4359, Validation MSE: 2.4305, Validation MAE: 1.2121\n"
     ]
    },
    {
     "name": "stderr",
     "output_type": "stream",
     "text": [
      "Training Epoch 202: 100%|██████████| 259/259 [00:17<00:00, 14.88it/s]\n",
      "Training Epoch 203: 100%|██████████| 259/259 [00:17<00:00, 14.97it/s]\n",
      "Training Epoch 204: 100%|██████████| 259/259 [00:17<00:00, 15.01it/s]\n",
      "Training Epoch 205: 100%|██████████| 259/259 [00:17<00:00, 14.68it/s]\n",
      "Training Epoch 206: 100%|██████████| 259/259 [00:17<00:00, 15.16it/s]\n",
      "Training Epoch 207: 100%|██████████| 259/259 [00:17<00:00, 14.79it/s]\n",
      "Training Epoch 208: 100%|██████████| 259/259 [00:17<00:00, 14.76it/s]\n",
      "Training Epoch 209: 100%|██████████| 259/259 [00:17<00:00, 14.77it/s]\n",
      "Training Epoch 210: 100%|██████████| 259/259 [16:02<00:00,  3.72s/it]  \n",
      "Training Epoch 211: 100%|██████████| 259/259 [00:27<00:00,  9.49it/s]\n"
     ]
    },
    {
     "name": "stdout",
     "output_type": "stream",
     "text": [
      "Epoch 210 - Train Loss: 0.5234, Train MSE: 0.5233, Train MAE: 0.5502\n",
      "Epoch 210 - Validation Loss: 2.5094, Validation MSE: 2.5062, Validation MAE: 1.2364\n"
     ]
    },
    {
     "name": "stderr",
     "output_type": "stream",
     "text": [
      "Training Epoch 212: 100%|██████████| 259/259 [16:40<00:00,  3.86s/it]   \n",
      "Training Epoch 213: 100%|██████████| 259/259 [15:53<00:00,  3.68s/it]   \n",
      "Training Epoch 214: 100%|██████████| 259/259 [00:24<00:00, 10.64it/s]\n",
      "Training Epoch 215: 100%|██████████| 259/259 [02:07<00:00,  2.04it/s]\n",
      "Training Epoch 216: 100%|██████████| 259/259 [00:24<00:00, 10.64it/s]\n",
      "Training Epoch 217: 100%|██████████| 259/259 [16:17<00:00,  3.77s/it]   \n",
      "Training Epoch 218: 100%|██████████| 259/259 [00:24<00:00, 10.65it/s]\n",
      "Training Epoch 219: 100%|██████████| 259/259 [00:24<00:00, 10.61it/s]\n",
      "Training Epoch 220: 100%|██████████| 259/259 [00:24<00:00, 10.52it/s]\n",
      "Training Epoch 221: 100%|██████████| 259/259 [00:27<00:00,  9.41it/s]\n"
     ]
    },
    {
     "name": "stdout",
     "output_type": "stream",
     "text": [
      "Epoch 220 - Train Loss: 0.5238, Train MSE: 0.5244, Train MAE: 0.5490\n",
      "Epoch 220 - Validation Loss: 2.5081, Validation MSE: 2.5037, Validation MAE: 1.2332\n"
     ]
    },
    {
     "name": "stderr",
     "output_type": "stream",
     "text": [
      "Training Epoch 222: 100%|██████████| 259/259 [00:24<00:00, 10.40it/s]\n",
      "Training Epoch 223: 100%|██████████| 259/259 [15:56<00:00,  3.69s/it]   \n",
      "Training Epoch 224: 100%|██████████| 259/259 [00:25<00:00, 10.05it/s]\n",
      "Training Epoch 225: 100%|██████████| 259/259 [00:25<00:00, 10.33it/s]\n",
      "Training Epoch 226: 100%|██████████| 259/259 [00:25<00:00, 10.33it/s]\n",
      "Training Epoch 227: 100%|██████████| 259/259 [00:25<00:00, 10.14it/s]\n",
      "Training Epoch 228: 100%|██████████| 259/259 [00:24<00:00, 10.61it/s]\n",
      "Training Epoch 229: 100%|██████████| 259/259 [00:24<00:00, 10.36it/s]\n",
      "Training Epoch 230: 100%|██████████| 259/259 [00:24<00:00, 10.46it/s]\n",
      "Training Epoch 231: 100%|██████████| 259/259 [16:54<00:00,  3.92s/it]   \n"
     ]
    },
    {
     "name": "stdout",
     "output_type": "stream",
     "text": [
      "Epoch 230 - Train Loss: 0.5059, Train MSE: 0.5058, Train MAE: 0.5400\n",
      "Epoch 230 - Validation Loss: 2.4078, Validation MSE: 2.4027, Validation MAE: 1.2089\n"
     ]
    },
    {
     "name": "stderr",
     "output_type": "stream",
     "text": [
      "Training Epoch 232: 100%|██████████| 259/259 [00:25<00:00, 10.31it/s]\n",
      "Training Epoch 233: 100%|██████████| 259/259 [16:57<00:00,  3.93s/it]  \n",
      "Training Epoch 234: 100%|██████████| 259/259 [00:24<00:00, 10.52it/s]\n",
      "Training Epoch 235: 100%|██████████| 259/259 [16:01<00:00,  3.71s/it]   \n",
      "Training Epoch 236: 100%|██████████| 259/259 [00:26<00:00,  9.62it/s]\n",
      "Training Epoch 237: 100%|██████████| 259/259 [15:36<00:00,  3.61s/it]   \n",
      "Training Epoch 238: 100%|██████████| 259/259 [00:24<00:00, 10.57it/s]\n",
      "Training Epoch 239: 100%|██████████| 259/259 [16:53<00:00,  3.91s/it]  \n",
      "Training Epoch 240: 100%|██████████| 259/259 [16:35<00:00,  3.84s/it] \n",
      "Training Epoch 241: 100%|██████████| 259/259 [00:27<00:00,  9.55it/s]\n"
     ]
    },
    {
     "name": "stdout",
     "output_type": "stream",
     "text": [
      "Epoch 240 - Train Loss: 0.4764, Train MSE: 0.4766, Train MAE: 0.5239\n",
      "Epoch 240 - Validation Loss: 2.4705, Validation MSE: 2.4667, Validation MAE: 1.2312\n"
     ]
    },
    {
     "name": "stderr",
     "output_type": "stream",
     "text": [
      "Training Epoch 242: 100%|██████████| 259/259 [00:24<00:00, 10.46it/s]\n",
      "Training Epoch 243: 100%|██████████| 259/259 [00:25<00:00, 10.22it/s]\n",
      "Training Epoch 244: 100%|██████████| 259/259 [00:25<00:00, 10.05it/s]\n",
      "Training Epoch 245: 100%|██████████| 259/259 [00:24<00:00, 10.61it/s]\n",
      "Training Epoch 246: 100%|██████████| 259/259 [00:25<00:00, 10.10it/s]\n",
      "Training Epoch 247: 100%|██████████| 259/259 [00:24<00:00, 10.40it/s]\n",
      "Training Epoch 248: 100%|██████████| 259/259 [00:25<00:00, 10.06it/s]\n",
      "Training Epoch 249: 100%|██████████| 259/259 [00:24<00:00, 10.44it/s]\n",
      "Training Epoch 250: 100%|██████████| 259/259 [00:25<00:00, 10.16it/s]\n",
      "Training Epoch 251: 100%|██████████| 259/259 [00:25<00:00,  9.99it/s]\n"
     ]
    },
    {
     "name": "stdout",
     "output_type": "stream",
     "text": [
      "Epoch 250 - Train Loss: 0.4637, Train MSE: 0.4636, Train MAE: 0.5190\n",
      "Epoch 250 - Validation Loss: 2.4184, Validation MSE: 2.4137, Validation MAE: 1.2128\n"
     ]
    },
    {
     "name": "stderr",
     "output_type": "stream",
     "text": [
      "Training Epoch 252: 100%|██████████| 259/259 [16:55<00:00,  3.92s/it]  \n",
      "Training Epoch 253: 100%|██████████| 259/259 [00:24<00:00, 10.44it/s]\n",
      "Training Epoch 254: 100%|██████████| 259/259 [00:26<00:00,  9.90it/s]\n",
      "Training Epoch 255: 100%|██████████| 259/259 [15:30<00:00,  3.59s/it]   \n",
      "Training Epoch 256: 100%|██████████| 259/259 [00:24<00:00, 10.77it/s]\n",
      "Training Epoch 257: 100%|██████████| 259/259 [16:06<00:00,  3.73s/it]   \n",
      "Training Epoch 258: 100%|██████████| 259/259 [00:26<00:00,  9.86it/s]\n",
      "Training Epoch 259: 100%|██████████| 259/259 [04:54<00:00,  1.14s/it] \n",
      "Training Epoch 260: 100%|██████████| 259/259 [01:07<00:00,  3.84it/s]\n",
      "Training Epoch 261: 100%|██████████| 259/259 [00:25<00:00, 10.30it/s]\n"
     ]
    },
    {
     "name": "stdout",
     "output_type": "stream",
     "text": [
      "Epoch 260 - Train Loss: 0.4690, Train MSE: 0.4689, Train MAE: 0.5191\n",
      "Epoch 260 - Validation Loss: 2.3966, Validation MSE: 2.3932, Validation MAE: 1.2160\n"
     ]
    },
    {
     "name": "stderr",
     "output_type": "stream",
     "text": [
      "Training Epoch 262: 100%|██████████| 259/259 [16:04<00:00,  3.72s/it]   \n",
      "Training Epoch 263: 100%|██████████| 259/259 [00:25<00:00, 10.27it/s]\n",
      "Training Epoch 264: 100%|██████████| 259/259 [16:00<00:00,  3.71s/it]  \n",
      "Training Epoch 265: 100%|██████████| 259/259 [00:24<00:00, 10.69it/s]\n",
      "Training Epoch 266: 100%|██████████| 259/259 [00:27<00:00,  9.30it/s]\n",
      "Training Epoch 267: 100%|██████████| 259/259 [00:26<00:00,  9.89it/s]\n",
      "Training Epoch 268: 100%|██████████| 259/259 [16:14<00:00,  3.76s/it]   \n",
      "Training Epoch 269: 100%|██████████| 259/259 [00:24<00:00, 10.71it/s]\n",
      "Training Epoch 270: 100%|██████████| 259/259 [16:39<00:00,  3.86s/it]   \n",
      "Training Epoch 271: 100%|██████████| 259/259 [00:25<00:00, 10.11it/s]\n"
     ]
    },
    {
     "name": "stdout",
     "output_type": "stream",
     "text": [
      "Epoch 270 - Train Loss: 0.4643, Train MSE: 0.4647, Train MAE: 0.5185\n",
      "Epoch 270 - Validation Loss: 2.4440, Validation MSE: 2.4401, Validation MAE: 1.2224\n"
     ]
    },
    {
     "name": "stderr",
     "output_type": "stream",
     "text": [
      "Training Epoch 272: 100%|██████████| 259/259 [00:31<00:00,  8.35it/s]\n",
      "Training Epoch 273: 100%|██████████| 259/259 [16:03<00:00,  3.72s/it] \n",
      "Training Epoch 274: 100%|██████████| 259/259 [00:26<00:00,  9.90it/s]\n",
      "Training Epoch 275: 100%|██████████| 259/259 [17:32<00:00,  4.07s/it]   \n",
      "Training Epoch 276: 100%|██████████| 259/259 [00:24<00:00, 10.42it/s]\n",
      "Training Epoch 277: 100%|██████████| 259/259 [00:32<00:00,  8.01it/s]\n",
      "Training Epoch 278: 100%|██████████| 259/259 [00:23<00:00, 10.83it/s]\n",
      "Training Epoch 279: 100%|██████████| 259/259 [15:49<00:00,  3.67s/it]  \n",
      "Training Epoch 280: 100%|██████████| 259/259 [00:22<00:00, 11.64it/s]\n",
      "Training Epoch 281: 100%|██████████| 259/259 [00:24<00:00, 10.41it/s]\n"
     ]
    },
    {
     "name": "stdout",
     "output_type": "stream",
     "text": [
      "Epoch 280 - Train Loss: 0.4354, Train MSE: 0.4355, Train MAE: 0.4986\n",
      "Epoch 280 - Validation Loss: 2.4543, Validation MSE: 2.4494, Validation MAE: 1.2235\n"
     ]
    },
    {
     "name": "stderr",
     "output_type": "stream",
     "text": [
      "Training Epoch 282: 100%|██████████| 259/259 [17:02<00:00,  3.95s/it]   \n",
      "Training Epoch 283: 100%|██████████| 259/259 [00:22<00:00, 11.67it/s]\n",
      "Training Epoch 284: 100%|██████████| 259/259 [16:46<00:00,  3.88s/it]   \n",
      "Training Epoch 285: 100%|██████████| 259/259 [00:24<00:00, 10.56it/s]\n",
      "Training Epoch 286: 100%|██████████| 259/259 [00:24<00:00, 10.64it/s]\n",
      "Training Epoch 287: 100%|██████████| 259/259 [07:48<00:00,  1.81s/it] \n",
      "Training Epoch 288: 100%|██████████| 259/259 [00:23<00:00, 11.14it/s]\n",
      "Training Epoch 289: 100%|██████████| 259/259 [15:37<00:00,  3.62s/it]  \n",
      "Training Epoch 290: 100%|██████████| 259/259 [00:21<00:00, 11.93it/s]\n",
      "Training Epoch 291: 100%|██████████| 259/259 [00:26<00:00,  9.92it/s]\n"
     ]
    },
    {
     "name": "stdout",
     "output_type": "stream",
     "text": [
      "Epoch 290 - Train Loss: 0.4234, Train MSE: 0.4237, Train MAE: 0.4885\n",
      "Epoch 290 - Validation Loss: 2.4420, Validation MSE: 2.4379, Validation MAE: 1.2181\n"
     ]
    },
    {
     "name": "stderr",
     "output_type": "stream",
     "text": [
      "Training Epoch 292: 100%|██████████| 259/259 [00:23<00:00, 10.91it/s]\n",
      "Training Epoch 293: 100%|██████████| 259/259 [15:31<00:00,  3.59s/it]  \n",
      "Training Epoch 294: 100%|██████████| 259/259 [00:22<00:00, 11.67it/s]\n",
      "Training Epoch 295: 100%|██████████| 259/259 [16:55<00:00,  3.92s/it]  \n",
      "Training Epoch 296: 100%|██████████| 259/259 [00:22<00:00, 11.51it/s]\n",
      "Training Epoch 297: 100%|██████████| 259/259 [00:23<00:00, 10.93it/s]\n",
      "Training Epoch 298: 100%|██████████| 259/259 [00:23<00:00, 10.92it/s]\n",
      "Training Epoch 299: 100%|██████████| 259/259 [00:22<00:00, 11.41it/s]\n",
      "Training Epoch 300: 100%|██████████| 259/259 [00:23<00:00, 11.26it/s]\n",
      "Training Epoch 301: 100%|██████████| 259/259 [00:23<00:00, 11.13it/s]\n"
     ]
    },
    {
     "name": "stdout",
     "output_type": "stream",
     "text": [
      "Epoch 300 - Train Loss: 0.4082, Train MSE: 0.4085, Train MAE: 0.4831\n",
      "Epoch 300 - Validation Loss: 2.4455, Validation MSE: 2.4409, Validation MAE: 1.2225\n"
     ]
    },
    {
     "name": "stderr",
     "output_type": "stream",
     "text": [
      "Training Epoch 302: 100%|██████████| 259/259 [00:23<00:00, 11.07it/s]\n",
      "Training Epoch 303: 100%|██████████| 259/259 [00:22<00:00, 11.41it/s]\n",
      "Training Epoch 304: 100%|██████████| 259/259 [00:22<00:00, 11.61it/s]\n",
      "Training Epoch 305: 100%|██████████| 259/259 [00:23<00:00, 11.23it/s]\n",
      "Training Epoch 306: 100%|██████████| 259/259 [00:22<00:00, 11.33it/s]\n",
      "Training Epoch 307: 100%|██████████| 259/259 [00:23<00:00, 10.96it/s]\n",
      "Training Epoch 308: 100%|██████████| 259/259 [00:22<00:00, 11.48it/s]\n",
      "Training Epoch 309: 100%|██████████| 259/259 [00:20<00:00, 12.61it/s]\n",
      "Training Epoch 310: 100%|██████████| 259/259 [00:21<00:00, 12.25it/s]\n",
      "Training Epoch 311: 100%|██████████| 259/259 [00:20<00:00, 12.71it/s]\n"
     ]
    },
    {
     "name": "stdout",
     "output_type": "stream",
     "text": [
      "Epoch 310 - Train Loss: 0.4094, Train MSE: 0.4087, Train MAE: 0.4815\n",
      "Epoch 310 - Validation Loss: 2.4702, Validation MSE: 2.4652, Validation MAE: 1.2313\n"
     ]
    },
    {
     "name": "stderr",
     "output_type": "stream",
     "text": [
      "Training Epoch 312: 100%|██████████| 259/259 [00:20<00:00, 12.36it/s]\n",
      "Training Epoch 313: 100%|██████████| 259/259 [00:20<00:00, 12.64it/s]\n",
      "Training Epoch 314: 100%|██████████| 259/259 [00:20<00:00, 12.72it/s]\n",
      "Training Epoch 315: 100%|██████████| 259/259 [00:20<00:00, 12.61it/s]\n",
      "Training Epoch 316: 100%|██████████| 259/259 [00:20<00:00, 12.72it/s]\n",
      "Training Epoch 317: 100%|██████████| 259/259 [00:20<00:00, 12.84it/s]\n",
      "Training Epoch 318: 100%|██████████| 259/259 [00:20<00:00, 12.35it/s]\n",
      "Training Epoch 319: 100%|██████████| 259/259 [00:20<00:00, 12.59it/s]\n",
      "Training Epoch 320: 100%|██████████| 259/259 [00:20<00:00, 12.53it/s]\n",
      "Training Epoch 321: 100%|██████████| 259/259 [00:20<00:00, 12.44it/s]\n"
     ]
    },
    {
     "name": "stdout",
     "output_type": "stream",
     "text": [
      "Epoch 320 - Train Loss: 0.4268, Train MSE: 0.4270, Train MAE: 0.4912\n",
      "Epoch 320 - Validation Loss: 2.4528, Validation MSE: 2.4489, Validation MAE: 1.2226\n"
     ]
    },
    {
     "name": "stderr",
     "output_type": "stream",
     "text": [
      "Training Epoch 322: 100%|██████████| 259/259 [00:21<00:00, 11.95it/s]\n",
      "Training Epoch 323: 100%|██████████| 259/259 [00:21<00:00, 12.32it/s]\n",
      "Training Epoch 324: 100%|██████████| 259/259 [00:20<00:00, 12.69it/s]\n",
      "Training Epoch 325: 100%|██████████| 259/259 [00:20<00:00, 12.70it/s]\n",
      "Training Epoch 326: 100%|██████████| 259/259 [00:21<00:00, 12.06it/s]\n",
      "Training Epoch 327: 100%|██████████| 259/259 [00:20<00:00, 12.75it/s]\n",
      "Training Epoch 328: 100%|██████████| 259/259 [00:20<00:00, 12.50it/s]\n",
      "Training Epoch 329: 100%|██████████| 259/259 [00:21<00:00, 11.96it/s]\n",
      "Training Epoch 330: 100%|██████████| 259/259 [00:20<00:00, 12.37it/s]\n",
      "Training Epoch 331: 100%|██████████| 259/259 [00:21<00:00, 12.21it/s]\n"
     ]
    },
    {
     "name": "stdout",
     "output_type": "stream",
     "text": [
      "Epoch 330 - Train Loss: 0.3767, Train MSE: 0.3768, Train MAE: 0.4617\n",
      "Epoch 330 - Validation Loss: 2.4928, Validation MSE: 2.4888, Validation MAE: 1.2271\n"
     ]
    },
    {
     "name": "stderr",
     "output_type": "stream",
     "text": [
      "Training Epoch 332: 100%|██████████| 259/259 [00:23<00:00, 11.21it/s]\n",
      "Training Epoch 333: 100%|██████████| 259/259 [01:15<00:00,  3.44it/s]\n",
      "Training Epoch 334: 100%|██████████| 259/259 [00:21<00:00, 11.83it/s]\n",
      "Training Epoch 335: 100%|██████████| 259/259 [00:21<00:00, 12.06it/s]\n",
      "Training Epoch 336: 100%|██████████| 259/259 [01:04<00:00,  4.00it/s]\n",
      "Training Epoch 337: 100%|██████████| 259/259 [01:08<00:00,  3.79it/s]\n",
      "Training Epoch 338: 100%|██████████| 259/259 [00:41<00:00,  6.19it/s]\n",
      "Training Epoch 339: 100%|██████████| 259/259 [01:11<00:00,  3.62it/s]\n",
      "Training Epoch 340: 100%|██████████| 259/259 [00:51<00:00,  5.07it/s]\n",
      "Training Epoch 341: 100%|██████████| 259/259 [00:56<00:00,  4.59it/s]\n"
     ]
    },
    {
     "name": "stdout",
     "output_type": "stream",
     "text": [
      "Epoch 340 - Train Loss: 0.4075, Train MSE: 0.4078, Train MAE: 0.4800\n",
      "Epoch 340 - Validation Loss: 2.4269, Validation MSE: 2.4223, Validation MAE: 1.2110\n"
     ]
    },
    {
     "name": "stderr",
     "output_type": "stream",
     "text": [
      "Training Epoch 342: 100%|██████████| 259/259 [01:14<00:00,  3.46it/s]\n",
      "Training Epoch 343: 100%|██████████| 259/259 [01:15<00:00,  3.43it/s]\n",
      "Training Epoch 344: 100%|██████████| 259/259 [00:49<00:00,  5.27it/s]\n",
      "Training Epoch 345: 100%|██████████| 259/259 [01:20<00:00,  3.23it/s]\n",
      "Training Epoch 346: 100%|██████████| 259/259 [01:16<00:00,  3.39it/s]\n",
      "Training Epoch 347: 100%|██████████| 259/259 [01:02<00:00,  4.14it/s]\n",
      "Training Epoch 348: 100%|██████████| 259/259 [01:09<00:00,  3.75it/s]\n",
      "Training Epoch 349: 100%|██████████| 259/259 [00:32<00:00,  7.94it/s]\n",
      "Training Epoch 350: 100%|██████████| 259/259 [00:36<00:00,  7.19it/s]\n",
      "Training Epoch 351: 100%|██████████| 259/259 [00:35<00:00,  7.38it/s]\n"
     ]
    },
    {
     "name": "stdout",
     "output_type": "stream",
     "text": [
      "Epoch 350 - Train Loss: 0.3941, Train MSE: 0.3942, Train MAE: 0.4721\n",
      "Epoch 350 - Validation Loss: 2.4628, Validation MSE: 2.4589, Validation MAE: 1.2255\n"
     ]
    },
    {
     "name": "stderr",
     "output_type": "stream",
     "text": [
      "Training Epoch 352: 100%|██████████| 259/259 [00:33<00:00,  7.80it/s]\n",
      "Training Epoch 353: 100%|██████████| 259/259 [00:32<00:00,  7.94it/s]\n",
      "Training Epoch 354: 100%|██████████| 259/259 [00:33<00:00,  7.82it/s]\n",
      "Training Epoch 355: 100%|██████████| 259/259 [00:33<00:00,  7.83it/s]\n",
      "Training Epoch 356: 100%|██████████| 259/259 [00:30<00:00,  8.35it/s]\n",
      "Training Epoch 357: 100%|██████████| 259/259 [00:31<00:00,  8.19it/s]\n",
      "Training Epoch 358: 100%|██████████| 259/259 [00:31<00:00,  8.10it/s]\n",
      "Training Epoch 359: 100%|██████████| 259/259 [00:31<00:00,  8.22it/s]\n",
      "Training Epoch 360: 100%|██████████| 259/259 [00:32<00:00,  7.91it/s]\n",
      "Training Epoch 361: 100%|██████████| 259/259 [00:31<00:00,  8.13it/s]\n"
     ]
    },
    {
     "name": "stdout",
     "output_type": "stream",
     "text": [
      "Epoch 360 - Train Loss: 0.3783, Train MSE: 0.3784, Train MAE: 0.4627\n",
      "Epoch 360 - Validation Loss: 2.4310, Validation MSE: 2.4260, Validation MAE: 1.2184\n"
     ]
    },
    {
     "name": "stderr",
     "output_type": "stream",
     "text": [
      "Training Epoch 362: 100%|██████████| 259/259 [00:33<00:00,  7.79it/s]\n",
      "Training Epoch 363: 100%|██████████| 259/259 [00:32<00:00,  8.04it/s]\n",
      "Training Epoch 364: 100%|██████████| 259/259 [00:33<00:00,  7.78it/s]\n",
      "Training Epoch 365: 100%|██████████| 259/259 [00:32<00:00,  7.86it/s]\n",
      "Training Epoch 366: 100%|██████████| 259/259 [00:32<00:00,  8.04it/s]\n",
      "Training Epoch 367: 100%|██████████| 259/259 [00:33<00:00,  7.76it/s]\n",
      "Training Epoch 368: 100%|██████████| 259/259 [00:33<00:00,  7.77it/s]\n",
      "Training Epoch 369: 100%|██████████| 259/259 [00:34<00:00,  7.55it/s]\n",
      "Training Epoch 370: 100%|██████████| 259/259 [00:34<00:00,  7.55it/s]\n",
      "Training Epoch 371: 100%|██████████| 259/259 [00:34<00:00,  7.41it/s]\n"
     ]
    },
    {
     "name": "stdout",
     "output_type": "stream",
     "text": [
      "Epoch 370 - Train Loss: 0.3839, Train MSE: 0.3839, Train MAE: 0.4623\n",
      "Epoch 370 - Validation Loss: 2.4369, Validation MSE: 2.4312, Validation MAE: 1.2180\n"
     ]
    },
    {
     "name": "stderr",
     "output_type": "stream",
     "text": [
      "Training Epoch 372: 100%|██████████| 259/259 [00:36<00:00,  7.17it/s]\n",
      "Training Epoch 373: 100%|██████████| 259/259 [00:34<00:00,  7.52it/s]\n",
      "Training Epoch 374: 100%|██████████| 259/259 [00:35<00:00,  7.28it/s]\n",
      "Training Epoch 375: 100%|██████████| 259/259 [00:36<00:00,  7.08it/s]\n",
      "Training Epoch 376: 100%|██████████| 259/259 [00:34<00:00,  7.40it/s]\n",
      "Training Epoch 377: 100%|██████████| 259/259 [00:37<00:00,  6.82it/s]\n",
      "Training Epoch 378: 100%|██████████| 259/259 [00:37<00:00,  6.82it/s]\n",
      "Training Epoch 379: 100%|██████████| 259/259 [15:49<00:00,  3.67s/it]   \n",
      "Training Epoch 380: 100%|██████████| 259/259 [00:21<00:00, 12.25it/s]\n",
      "Training Epoch 381: 100%|██████████| 259/259 [00:20<00:00, 12.50it/s]\n"
     ]
    },
    {
     "name": "stdout",
     "output_type": "stream",
     "text": [
      "Epoch 380 - Train Loss: 0.3666, Train MSE: 0.3663, Train MAE: 0.4523\n",
      "Epoch 380 - Validation Loss: 2.5320, Validation MSE: 2.5285, Validation MAE: 1.2467\n"
     ]
    },
    {
     "name": "stderr",
     "output_type": "stream",
     "text": [
      "Training Epoch 382: 100%|██████████| 259/259 [00:20<00:00, 12.65it/s]\n",
      "Training Epoch 383: 100%|██████████| 259/259 [00:20<00:00, 12.76it/s]\n",
      "Training Epoch 384: 100%|██████████| 259/259 [00:20<00:00, 12.42it/s]\n",
      "Training Epoch 385: 100%|██████████| 259/259 [00:20<00:00, 12.47it/s]\n",
      "Training Epoch 386: 100%|██████████| 259/259 [00:20<00:00, 12.93it/s]\n",
      "Training Epoch 387: 100%|██████████| 259/259 [00:20<00:00, 12.75it/s]\n",
      "Training Epoch 388: 100%|██████████| 259/259 [00:21<00:00, 12.10it/s]\n",
      "Training Epoch 389: 100%|██████████| 259/259 [00:19<00:00, 12.97it/s]\n",
      "Training Epoch 390: 100%|██████████| 259/259 [00:20<00:00, 12.39it/s]\n",
      "Training Epoch 391: 100%|██████████| 259/259 [00:21<00:00, 12.13it/s]\n"
     ]
    },
    {
     "name": "stdout",
     "output_type": "stream",
     "text": [
      "Epoch 390 - Train Loss: 0.3636, Train MSE: 0.3637, Train MAE: 0.4537\n",
      "Epoch 390 - Validation Loss: 2.4629, Validation MSE: 2.4577, Validation MAE: 1.2205\n"
     ]
    },
    {
     "name": "stderr",
     "output_type": "stream",
     "text": [
      "Training Epoch 392: 100%|██████████| 259/259 [00:20<00:00, 12.70it/s]\n",
      "Training Epoch 393: 100%|██████████| 259/259 [00:21<00:00, 12.31it/s]\n",
      "Training Epoch 394: 100%|██████████| 259/259 [00:20<00:00, 12.48it/s]\n",
      "Training Epoch 395: 100%|██████████| 259/259 [00:20<00:00, 12.67it/s]\n",
      "Training Epoch 396: 100%|██████████| 259/259 [00:21<00:00, 12.13it/s]\n",
      "Training Epoch 397: 100%|██████████| 259/259 [00:20<00:00, 12.65it/s]\n",
      "Training Epoch 398: 100%|██████████| 259/259 [00:20<00:00, 12.46it/s]\n",
      "Training Epoch 399: 100%|██████████| 259/259 [00:21<00:00, 12.31it/s]\n",
      "Training Epoch 400: 100%|██████████| 259/259 [00:20<00:00, 12.52it/s]\n",
      "Training Epoch 401: 100%|██████████| 259/259 [15:32<00:00,  3.60s/it]   \n"
     ]
    },
    {
     "name": "stdout",
     "output_type": "stream",
     "text": [
      "Epoch 400 - Train Loss: 0.3605, Train MSE: 0.3604, Train MAE: 0.4505\n",
      "Epoch 400 - Validation Loss: 2.4152, Validation MSE: 2.4092, Validation MAE: 1.2113\n"
     ]
    },
    {
     "name": "stderr",
     "output_type": "stream",
     "text": [
      "Training Epoch 402: 100%|██████████| 259/259 [00:20<00:00, 12.41it/s]\n",
      "Training Epoch 403: 100%|██████████| 259/259 [00:20<00:00, 12.74it/s]\n",
      "Training Epoch 404: 100%|██████████| 259/259 [00:20<00:00, 12.44it/s]\n",
      "Training Epoch 405: 100%|██████████| 259/259 [00:20<00:00, 12.95it/s]\n",
      "Training Epoch 406: 100%|██████████| 259/259 [16:47<00:00,  3.89s/it]  \n",
      "Training Epoch 407: 100%|██████████| 259/259 [00:19<00:00, 13.01it/s]\n",
      "Training Epoch 408: 100%|██████████| 259/259 [00:20<00:00, 12.94it/s]\n",
      "Training Epoch 409: 100%|██████████| 259/259 [02:27<00:00,  1.76it/s] \n",
      "Training Epoch 410: 100%|██████████| 259/259 [00:13<00:00, 19.14it/s]\n",
      "Training Epoch 411: 100%|██████████| 259/259 [00:13<00:00, 19.84it/s]\n"
     ]
    },
    {
     "name": "stdout",
     "output_type": "stream",
     "text": [
      "Epoch 410 - Train Loss: 0.3709, Train MSE: 0.3710, Train MAE: 0.4585\n",
      "Epoch 410 - Validation Loss: 2.4386, Validation MSE: 2.4320, Validation MAE: 1.2156\n"
     ]
    },
    {
     "name": "stderr",
     "output_type": "stream",
     "text": [
      "Training Epoch 412: 100%|██████████| 259/259 [00:13<00:00, 18.88it/s]\n",
      "Training Epoch 413: 100%|██████████| 259/259 [00:13<00:00, 19.73it/s]\n",
      "Training Epoch 414: 100%|██████████| 259/259 [00:13<00:00, 19.50it/s]\n",
      "Training Epoch 415: 100%|██████████| 259/259 [00:13<00:00, 19.44it/s]\n",
      "Training Epoch 416: 100%|██████████| 259/259 [00:14<00:00, 17.93it/s]\n",
      "Training Epoch 417: 100%|██████████| 259/259 [00:15<00:00, 16.88it/s]\n",
      "Training Epoch 418: 100%|██████████| 259/259 [00:14<00:00, 18.02it/s]\n",
      "Training Epoch 419: 100%|██████████| 259/259 [00:14<00:00, 18.18it/s]\n",
      "Training Epoch 420: 100%|██████████| 259/259 [00:14<00:00, 18.09it/s]\n",
      "Training Epoch 421: 100%|██████████| 259/259 [00:13<00:00, 18.94it/s]\n"
     ]
    },
    {
     "name": "stdout",
     "output_type": "stream",
     "text": [
      "Epoch 420 - Train Loss: 0.3540, Train MSE: 0.3540, Train MAE: 0.4470\n",
      "Epoch 420 - Validation Loss: 2.5498, Validation MSE: 2.5467, Validation MAE: 1.2469\n"
     ]
    },
    {
     "name": "stderr",
     "output_type": "stream",
     "text": [
      "Training Epoch 422: 100%|██████████| 259/259 [00:13<00:00, 18.56it/s]\n",
      "Training Epoch 423: 100%|██████████| 259/259 [00:13<00:00, 19.31it/s]\n",
      "Training Epoch 424: 100%|██████████| 259/259 [00:14<00:00, 17.76it/s]\n",
      "Training Epoch 425: 100%|██████████| 259/259 [00:13<00:00, 18.53it/s]\n",
      "Training Epoch 426: 100%|██████████| 259/259 [00:13<00:00, 18.74it/s]\n",
      "Training Epoch 427: 100%|██████████| 259/259 [00:13<00:00, 18.82it/s]\n",
      "Training Epoch 428: 100%|██████████| 259/259 [00:13<00:00, 18.70it/s]\n",
      "Training Epoch 429: 100%|██████████| 259/259 [00:13<00:00, 18.51it/s]\n",
      "Training Epoch 430: 100%|██████████| 259/259 [00:15<00:00, 16.68it/s]\n",
      "Training Epoch 431: 100%|██████████| 259/259 [00:15<00:00, 17.13it/s]\n"
     ]
    },
    {
     "name": "stdout",
     "output_type": "stream",
     "text": [
      "Epoch 430 - Train Loss: 0.3492, Train MSE: 0.3480, Train MAE: 0.4444\n",
      "Epoch 430 - Validation Loss: 2.4824, Validation MSE: 2.4764, Validation MAE: 1.2246\n"
     ]
    },
    {
     "name": "stderr",
     "output_type": "stream",
     "text": [
      "Training Epoch 432: 100%|██████████| 259/259 [00:13<00:00, 18.59it/s]\n",
      "Training Epoch 433: 100%|██████████| 259/259 [00:13<00:00, 18.76it/s]\n",
      "Training Epoch 434: 100%|██████████| 259/259 [00:13<00:00, 19.39it/s]\n",
      "Training Epoch 435: 100%|██████████| 259/259 [00:13<00:00, 19.07it/s]\n",
      "Training Epoch 436: 100%|██████████| 259/259 [00:15<00:00, 17.00it/s]\n",
      "Training Epoch 437: 100%|██████████| 259/259 [00:13<00:00, 19.02it/s]\n",
      "Training Epoch 438: 100%|██████████| 259/259 [00:14<00:00, 17.38it/s]\n",
      "Training Epoch 439: 100%|██████████| 259/259 [00:13<00:00, 19.78it/s]\n",
      "Training Epoch 440: 100%|██████████| 259/259 [00:13<00:00, 19.59it/s]\n",
      "Training Epoch 441: 100%|██████████| 259/259 [00:13<00:00, 19.61it/s]\n"
     ]
    },
    {
     "name": "stdout",
     "output_type": "stream",
     "text": [
      "Epoch 440 - Train Loss: 0.3405, Train MSE: 0.3405, Train MAE: 0.4371\n",
      "Epoch 440 - Validation Loss: 2.4374, Validation MSE: 2.4320, Validation MAE: 1.2120\n"
     ]
    },
    {
     "name": "stderr",
     "output_type": "stream",
     "text": [
      "Training Epoch 442: 100%|██████████| 259/259 [00:13<00:00, 19.89it/s]\n",
      "Training Epoch 443: 100%|██████████| 259/259 [00:12<00:00, 19.93it/s]\n",
      "Training Epoch 444: 100%|██████████| 259/259 [00:13<00:00, 19.66it/s]\n",
      "Training Epoch 445: 100%|██████████| 259/259 [00:13<00:00, 18.97it/s]\n",
      "Training Epoch 446: 100%|██████████| 259/259 [00:13<00:00, 19.65it/s]\n",
      "Training Epoch 447: 100%|██████████| 259/259 [00:12<00:00, 20.18it/s]\n",
      "Training Epoch 448: 100%|██████████| 259/259 [00:13<00:00, 18.99it/s]\n",
      "Training Epoch 449: 100%|██████████| 259/259 [00:15<00:00, 16.79it/s]\n",
      "Training Epoch 450: 100%|██████████| 259/259 [00:14<00:00, 17.94it/s]\n",
      "Training Epoch 451: 100%|██████████| 259/259 [00:13<00:00, 18.86it/s]\n"
     ]
    },
    {
     "name": "stdout",
     "output_type": "stream",
     "text": [
      "Epoch 450 - Train Loss: 0.3545, Train MSE: 0.3546, Train MAE: 0.4484\n",
      "Epoch 450 - Validation Loss: 2.4812, Validation MSE: 2.4747, Validation MAE: 1.2310\n"
     ]
    },
    {
     "name": "stderr",
     "output_type": "stream",
     "text": [
      "Training Epoch 452: 100%|██████████| 259/259 [00:13<00:00, 18.74it/s]\n",
      "Training Epoch 453: 100%|██████████| 259/259 [00:13<00:00, 18.74it/s]\n",
      "Training Epoch 454: 100%|██████████| 259/259 [00:13<00:00, 18.88it/s]\n",
      "Training Epoch 455: 100%|██████████| 259/259 [00:13<00:00, 18.88it/s]\n",
      "Training Epoch 456: 100%|██████████| 259/259 [00:13<00:00, 19.18it/s]\n",
      "Training Epoch 457: 100%|██████████| 259/259 [00:14<00:00, 17.95it/s]\n",
      "Training Epoch 458: 100%|██████████| 259/259 [00:13<00:00, 18.99it/s]\n",
      "Training Epoch 459: 100%|██████████| 259/259 [00:13<00:00, 19.01it/s]\n",
      "Training Epoch 460: 100%|██████████| 259/259 [00:13<00:00, 19.04it/s]\n",
      "Training Epoch 461: 100%|██████████| 259/259 [00:14<00:00, 18.29it/s]\n"
     ]
    },
    {
     "name": "stdout",
     "output_type": "stream",
     "text": [
      "Epoch 460 - Train Loss: 0.3322, Train MSE: 0.3323, Train MAE: 0.4306\n",
      "Epoch 460 - Validation Loss: 2.5033, Validation MSE: 2.4971, Validation MAE: 1.2376\n"
     ]
    },
    {
     "name": "stderr",
     "output_type": "stream",
     "text": [
      "Training Epoch 462: 100%|██████████| 259/259 [00:13<00:00, 18.92it/s]\n",
      "Training Epoch 463: 100%|██████████| 259/259 [00:13<00:00, 18.67it/s]\n",
      "Training Epoch 464: 100%|██████████| 259/259 [00:13<00:00, 18.54it/s]\n",
      "Training Epoch 465: 100%|██████████| 259/259 [00:13<00:00, 18.60it/s]\n",
      "Training Epoch 466: 100%|██████████| 259/259 [00:13<00:00, 18.83it/s]\n",
      "Training Epoch 467: 100%|██████████| 259/259 [00:13<00:00, 18.81it/s]\n",
      "Training Epoch 468: 100%|██████████| 259/259 [00:13<00:00, 18.84it/s]\n",
      "Training Epoch 469: 100%|██████████| 259/259 [00:14<00:00, 17.71it/s]\n",
      "Training Epoch 470: 100%|██████████| 259/259 [00:13<00:00, 18.78it/s]\n",
      "Training Epoch 471: 100%|██████████| 259/259 [00:13<00:00, 18.94it/s]\n"
     ]
    },
    {
     "name": "stdout",
     "output_type": "stream",
     "text": [
      "Epoch 470 - Train Loss: 0.3371, Train MSE: 0.3369, Train MAE: 0.4338\n",
      "Epoch 470 - Validation Loss: 2.4109, Validation MSE: 2.4044, Validation MAE: 1.2133\n"
     ]
    },
    {
     "name": "stderr",
     "output_type": "stream",
     "text": [
      "Training Epoch 472: 100%|██████████| 259/259 [00:13<00:00, 19.08it/s]\n",
      "Training Epoch 473: 100%|██████████| 259/259 [00:13<00:00, 18.64it/s]\n",
      "Training Epoch 474: 100%|██████████| 259/259 [00:13<00:00, 18.74it/s]\n",
      "Training Epoch 475: 100%|██████████| 259/259 [00:13<00:00, 19.15it/s]\n",
      "Training Epoch 476: 100%|██████████| 259/259 [00:13<00:00, 19.12it/s]\n",
      "Training Epoch 477: 100%|██████████| 259/259 [00:13<00:00, 19.18it/s]\n",
      "Training Epoch 478: 100%|██████████| 259/259 [00:13<00:00, 19.42it/s]\n",
      "Training Epoch 479: 100%|██████████| 259/259 [00:13<00:00, 19.44it/s]\n",
      "Training Epoch 480: 100%|██████████| 259/259 [00:13<00:00, 19.16it/s]\n",
      "Training Epoch 481: 100%|██████████| 259/259 [00:14<00:00, 18.49it/s]\n"
     ]
    },
    {
     "name": "stdout",
     "output_type": "stream",
     "text": [
      "Epoch 480 - Train Loss: 0.3469, Train MSE: 0.3466, Train MAE: 0.4397\n",
      "Epoch 480 - Validation Loss: 2.4137, Validation MSE: 2.4087, Validation MAE: 1.2115\n"
     ]
    },
    {
     "name": "stderr",
     "output_type": "stream",
     "text": [
      "Training Epoch 482: 100%|██████████| 259/259 [00:13<00:00, 18.99it/s]\n",
      "Training Epoch 483: 100%|██████████| 259/259 [00:13<00:00, 19.18it/s]\n",
      "Training Epoch 484: 100%|██████████| 259/259 [00:13<00:00, 19.19it/s]\n",
      "Training Epoch 485: 100%|██████████| 259/259 [00:13<00:00, 18.58it/s]\n",
      "Training Epoch 486: 100%|██████████| 259/259 [00:13<00:00, 19.12it/s]\n",
      "Training Epoch 487: 100%|██████████| 259/259 [00:13<00:00, 19.14it/s]\n",
      "Training Epoch 488: 100%|██████████| 259/259 [00:13<00:00, 19.36it/s]\n",
      "Training Epoch 489: 100%|██████████| 259/259 [00:13<00:00, 18.64it/s]\n",
      "Training Epoch 490: 100%|██████████| 259/259 [00:13<00:00, 18.69it/s]\n",
      "Training Epoch 491: 100%|██████████| 259/259 [00:13<00:00, 18.98it/s]\n"
     ]
    },
    {
     "name": "stdout",
     "output_type": "stream",
     "text": [
      "Epoch 490 - Train Loss: 0.3283, Train MSE: 0.3282, Train MAE: 0.4269\n",
      "Epoch 490 - Validation Loss: 2.4772, Validation MSE: 2.4701, Validation MAE: 1.2254\n"
     ]
    },
    {
     "name": "stderr",
     "output_type": "stream",
     "text": [
      "Training Epoch 492: 100%|██████████| 259/259 [00:13<00:00, 18.98it/s]\n",
      "Training Epoch 493: 100%|██████████| 259/259 [00:13<00:00, 18.88it/s]\n",
      "Training Epoch 494: 100%|██████████| 259/259 [00:13<00:00, 18.80it/s]\n",
      "Training Epoch 495: 100%|██████████| 259/259 [00:13<00:00, 18.98it/s]\n",
      "Training Epoch 496: 100%|██████████| 259/259 [00:13<00:00, 19.04it/s]\n",
      "Training Epoch 497: 100%|██████████| 259/259 [00:13<00:00, 18.77it/s]\n",
      "Training Epoch 498: 100%|██████████| 259/259 [00:13<00:00, 18.95it/s]\n",
      "Training Epoch 499: 100%|██████████| 259/259 [00:13<00:00, 19.03it/s]\n",
      "Training Epoch 500: 100%|██████████| 259/259 [00:13<00:00, 19.32it/s]\n",
      "Training Epoch 501: 100%|██████████| 259/259 [00:13<00:00, 19.20it/s]\n"
     ]
    },
    {
     "name": "stdout",
     "output_type": "stream",
     "text": [
      "Epoch 500 - Train Loss: 0.3171, Train MSE: 0.3171, Train MAE: 0.4211\n",
      "Epoch 500 - Validation Loss: 2.4542, Validation MSE: 2.4488, Validation MAE: 1.2240\n"
     ]
    },
    {
     "name": "stderr",
     "output_type": "stream",
     "text": [
      "Training Epoch 502: 100%|██████████| 259/259 [00:13<00:00, 18.73it/s]\n",
      "Training Epoch 503: 100%|██████████| 259/259 [00:13<00:00, 18.88it/s]\n",
      "Training Epoch 504: 100%|██████████| 259/259 [00:13<00:00, 18.56it/s]\n",
      "Training Epoch 505: 100%|██████████| 259/259 [00:13<00:00, 18.85it/s]\n",
      "Training Epoch 506: 100%|██████████| 259/259 [00:14<00:00, 18.13it/s]\n",
      "Training Epoch 507: 100%|██████████| 259/259 [00:13<00:00, 18.91it/s]\n",
      "Training Epoch 508: 100%|██████████| 259/259 [00:13<00:00, 18.93it/s]\n",
      "Training Epoch 509: 100%|██████████| 259/259 [00:13<00:00, 18.95it/s]\n",
      "Training Epoch 510: 100%|██████████| 259/259 [00:13<00:00, 18.51it/s]\n",
      "Training Epoch 511: 100%|██████████| 259/259 [00:13<00:00, 19.01it/s]\n"
     ]
    },
    {
     "name": "stdout",
     "output_type": "stream",
     "text": [
      "Epoch 510 - Train Loss: 0.3320, Train MSE: 0.3323, Train MAE: 0.4270\n",
      "Epoch 510 - Validation Loss: 2.4673, Validation MSE: 2.4618, Validation MAE: 1.2275\n"
     ]
    },
    {
     "name": "stderr",
     "output_type": "stream",
     "text": [
      "Training Epoch 512: 100%|██████████| 259/259 [00:13<00:00, 18.98it/s]\n",
      "Training Epoch 513: 100%|██████████| 259/259 [00:13<00:00, 19.33it/s]\n",
      "Training Epoch 514: 100%|██████████| 259/259 [00:13<00:00, 18.63it/s]\n",
      "Training Epoch 515: 100%|██████████| 259/259 [00:13<00:00, 18.97it/s]\n",
      "Training Epoch 516: 100%|██████████| 259/259 [00:13<00:00, 19.23it/s]\n",
      "Training Epoch 517: 100%|██████████| 259/259 [00:13<00:00, 19.10it/s]\n",
      "Training Epoch 518: 100%|██████████| 259/259 [00:13<00:00, 18.75it/s]\n",
      "Training Epoch 519: 100%|██████████| 259/259 [00:13<00:00, 18.75it/s]\n",
      "Training Epoch 520: 100%|██████████| 259/259 [00:13<00:00, 19.09it/s]\n",
      "Training Epoch 521: 100%|██████████| 259/259 [00:13<00:00, 19.07it/s]\n"
     ]
    },
    {
     "name": "stdout",
     "output_type": "stream",
     "text": [
      "Epoch 520 - Train Loss: 0.3151, Train MSE: 0.3152, Train MAE: 0.4212\n",
      "Epoch 520 - Validation Loss: 2.5142, Validation MSE: 2.5087, Validation MAE: 1.2437\n"
     ]
    },
    {
     "name": "stderr",
     "output_type": "stream",
     "text": [
      "Training Epoch 522: 100%|██████████| 259/259 [00:13<00:00, 18.69it/s]\n",
      "Training Epoch 523: 100%|██████████| 259/259 [00:13<00:00, 19.37it/s]\n",
      "Training Epoch 524: 100%|██████████| 259/259 [00:13<00:00, 19.18it/s]\n",
      "Training Epoch 525: 100%|██████████| 259/259 [00:13<00:00, 19.22it/s]\n",
      "Training Epoch 526: 100%|██████████| 259/259 [00:13<00:00, 18.76it/s]\n",
      "Training Epoch 527: 100%|██████████| 259/259 [00:13<00:00, 18.83it/s]\n",
      "Training Epoch 528: 100%|██████████| 259/259 [00:13<00:00, 18.95it/s]\n",
      "Training Epoch 529: 100%|██████████| 259/259 [00:13<00:00, 18.87it/s]\n",
      "Training Epoch 530: 100%|██████████| 259/259 [00:13<00:00, 18.52it/s]\n",
      "Training Epoch 531: 100%|██████████| 259/259 [00:13<00:00, 18.73it/s]\n"
     ]
    },
    {
     "name": "stdout",
     "output_type": "stream",
     "text": [
      "Epoch 530 - Train Loss: 0.3302, Train MSE: 0.3300, Train MAE: 0.4253\n",
      "Epoch 530 - Validation Loss: 2.4882, Validation MSE: 2.4822, Validation MAE: 1.2324\n"
     ]
    },
    {
     "name": "stderr",
     "output_type": "stream",
     "text": [
      "Training Epoch 532: 100%|██████████| 259/259 [00:13<00:00, 18.75it/s]\n",
      "Training Epoch 533: 100%|██████████| 259/259 [00:13<00:00, 18.90it/s]\n",
      "Training Epoch 534: 100%|██████████| 259/259 [00:13<00:00, 18.57it/s]\n",
      "Training Epoch 535: 100%|██████████| 259/259 [00:13<00:00, 18.94it/s]\n",
      "Training Epoch 536: 100%|██████████| 259/259 [00:13<00:00, 19.51it/s]\n",
      "Training Epoch 537: 100%|██████████| 259/259 [00:13<00:00, 19.44it/s]\n",
      "Training Epoch 538: 100%|██████████| 259/259 [00:13<00:00, 18.92it/s]\n",
      "Training Epoch 539: 100%|██████████| 259/259 [00:13<00:00, 19.08it/s]\n",
      "Training Epoch 540: 100%|██████████| 259/259 [00:13<00:00, 19.01it/s]\n",
      "Training Epoch 541: 100%|██████████| 259/259 [00:13<00:00, 19.26it/s]\n"
     ]
    },
    {
     "name": "stdout",
     "output_type": "stream",
     "text": [
      "Epoch 540 - Train Loss: 0.3219, Train MSE: 0.3217, Train MAE: 0.4229\n",
      "Epoch 540 - Validation Loss: 2.4423, Validation MSE: 2.4369, Validation MAE: 1.2269\n"
     ]
    },
    {
     "name": "stderr",
     "output_type": "stream",
     "text": [
      "Training Epoch 542: 100%|██████████| 259/259 [00:13<00:00, 19.26it/s]\n",
      "Training Epoch 543: 100%|██████████| 259/259 [00:13<00:00, 18.66it/s]\n",
      "Training Epoch 544: 100%|██████████| 259/259 [00:13<00:00, 19.16it/s]\n",
      "Training Epoch 545: 100%|██████████| 259/259 [00:13<00:00, 18.83it/s]\n",
      "Training Epoch 546: 100%|██████████| 259/259 [00:13<00:00, 19.24it/s]\n",
      "Training Epoch 547: 100%|██████████| 259/259 [00:13<00:00, 18.75it/s]\n",
      "Training Epoch 548: 100%|██████████| 259/259 [00:13<00:00, 19.24it/s]\n",
      "Training Epoch 549: 100%|██████████| 259/259 [00:13<00:00, 18.99it/s]\n",
      "Training Epoch 550: 100%|██████████| 259/259 [00:13<00:00, 19.17it/s]\n",
      "Training Epoch 551: 100%|██████████| 259/259 [00:13<00:00, 18.75it/s]\n"
     ]
    },
    {
     "name": "stdout",
     "output_type": "stream",
     "text": [
      "Epoch 550 - Train Loss: 0.3120, Train MSE: 0.3117, Train MAE: 0.4150\n",
      "Epoch 550 - Validation Loss: 2.4232, Validation MSE: 2.4159, Validation MAE: 1.2211\n"
     ]
    },
    {
     "name": "stderr",
     "output_type": "stream",
     "text": [
      "Training Epoch 552: 100%|██████████| 259/259 [00:13<00:00, 19.16it/s]\n",
      "Training Epoch 553: 100%|██████████| 259/259 [00:13<00:00, 19.38it/s]\n",
      "Training Epoch 554: 100%|██████████| 259/259 [00:13<00:00, 19.04it/s]\n",
      "Training Epoch 555: 100%|██████████| 259/259 [00:13<00:00, 18.92it/s]\n",
      "Training Epoch 556: 100%|██████████| 259/259 [00:13<00:00, 19.26it/s]\n",
      "Training Epoch 557: 100%|██████████| 259/259 [00:13<00:00, 19.37it/s]\n",
      "Training Epoch 558: 100%|██████████| 259/259 [00:13<00:00, 19.25it/s]\n",
      "Training Epoch 559: 100%|██████████| 259/259 [00:13<00:00, 18.59it/s]\n",
      "Training Epoch 560: 100%|██████████| 259/259 [00:13<00:00, 18.99it/s]\n",
      "Training Epoch 561: 100%|██████████| 259/259 [00:13<00:00, 19.14it/s]\n"
     ]
    },
    {
     "name": "stdout",
     "output_type": "stream",
     "text": [
      "Epoch 560 - Train Loss: 0.3225, Train MSE: 0.3224, Train MAE: 0.4216\n",
      "Epoch 560 - Validation Loss: 2.4699, Validation MSE: 2.4625, Validation MAE: 1.2297\n"
     ]
    },
    {
     "name": "stderr",
     "output_type": "stream",
     "text": [
      "Training Epoch 562: 100%|██████████| 259/259 [00:13<00:00, 19.25it/s]\n",
      "Training Epoch 563: 100%|██████████| 259/259 [00:13<00:00, 18.74it/s]\n",
      "Training Epoch 564: 100%|██████████| 259/259 [00:13<00:00, 19.17it/s]\n",
      "Training Epoch 565: 100%|██████████| 259/259 [00:13<00:00, 19.17it/s]\n",
      "Training Epoch 566: 100%|██████████| 259/259 [00:13<00:00, 19.40it/s]\n",
      "Training Epoch 567: 100%|██████████| 259/259 [00:13<00:00, 19.31it/s]\n",
      "Training Epoch 568: 100%|██████████| 259/259 [00:13<00:00, 19.08it/s]\n",
      "Training Epoch 569: 100%|██████████| 259/259 [00:13<00:00, 19.42it/s]\n",
      "Training Epoch 570: 100%|██████████| 259/259 [00:13<00:00, 19.17it/s]\n",
      "Training Epoch 571: 100%|██████████| 259/259 [00:13<00:00, 18.67it/s]\n"
     ]
    },
    {
     "name": "stdout",
     "output_type": "stream",
     "text": [
      "Epoch 570 - Train Loss: 0.3076, Train MSE: 0.3075, Train MAE: 0.4133\n",
      "Epoch 570 - Validation Loss: 2.4214, Validation MSE: 2.4143, Validation MAE: 1.2147\n"
     ]
    },
    {
     "name": "stderr",
     "output_type": "stream",
     "text": [
      "Training Epoch 572: 100%|██████████| 259/259 [00:13<00:00, 18.85it/s]\n",
      "Training Epoch 573: 100%|██████████| 259/259 [00:13<00:00, 19.21it/s]\n",
      "Training Epoch 574: 100%|██████████| 259/259 [00:13<00:00, 19.15it/s]\n",
      "Training Epoch 575: 100%|██████████| 259/259 [00:13<00:00, 19.20it/s]\n",
      "Training Epoch 576: 100%|██████████| 259/259 [00:13<00:00, 18.69it/s]\n",
      "Training Epoch 577: 100%|██████████| 259/259 [00:13<00:00, 18.87it/s]\n",
      "Training Epoch 578: 100%|██████████| 259/259 [00:13<00:00, 19.11it/s]\n",
      "Training Epoch 579: 100%|██████████| 259/259 [00:13<00:00, 19.38it/s]\n",
      "Training Epoch 580: 100%|██████████| 259/259 [00:13<00:00, 18.64it/s]\n",
      "Training Epoch 581: 100%|██████████| 259/259 [00:13<00:00, 19.07it/s]\n"
     ]
    },
    {
     "name": "stdout",
     "output_type": "stream",
     "text": [
      "Epoch 580 - Train Loss: 0.2974, Train MSE: 0.2974, Train MAE: 0.4049\n",
      "Epoch 580 - Validation Loss: 2.4325, Validation MSE: 2.4267, Validation MAE: 1.2296\n"
     ]
    },
    {
     "name": "stderr",
     "output_type": "stream",
     "text": [
      "Training Epoch 582: 100%|██████████| 259/259 [00:13<00:00, 19.35it/s]\n",
      "Training Epoch 583: 100%|██████████| 259/259 [00:13<00:00, 19.22it/s]\n",
      "Training Epoch 584: 100%|██████████| 259/259 [00:13<00:00, 18.72it/s]\n",
      "Training Epoch 585: 100%|██████████| 259/259 [00:13<00:00, 19.05it/s]\n",
      "Training Epoch 586: 100%|██████████| 259/259 [00:13<00:00, 19.20it/s]\n",
      "Training Epoch 587: 100%|██████████| 259/259 [00:13<00:00, 19.28it/s]\n",
      "Training Epoch 588: 100%|██████████| 259/259 [00:13<00:00, 19.11it/s]\n",
      "Training Epoch 589: 100%|██████████| 259/259 [00:13<00:00, 18.78it/s]\n",
      "Training Epoch 590: 100%|██████████| 259/259 [00:13<00:00, 19.22it/s]\n",
      "Training Epoch 591: 100%|██████████| 259/259 [00:13<00:00, 19.19it/s]\n"
     ]
    },
    {
     "name": "stdout",
     "output_type": "stream",
     "text": [
      "Epoch 590 - Train Loss: 0.3051, Train MSE: 0.3051, Train MAE: 0.4099\n",
      "Epoch 590 - Validation Loss: 2.4336, Validation MSE: 2.4268, Validation MAE: 1.2187\n"
     ]
    },
    {
     "name": "stderr",
     "output_type": "stream",
     "text": [
      "Training Epoch 592: 100%|██████████| 259/259 [00:13<00:00, 18.92it/s]\n",
      "Training Epoch 593: 100%|██████████| 259/259 [00:13<00:00, 19.22it/s]\n",
      "Training Epoch 594: 100%|██████████| 259/259 [00:13<00:00, 18.86it/s]\n",
      "Training Epoch 595: 100%|██████████| 259/259 [00:13<00:00, 19.23it/s]\n",
      "Training Epoch 596: 100%|██████████| 259/259 [00:13<00:00, 18.92it/s]\n",
      "Training Epoch 597: 100%|██████████| 259/259 [00:13<00:00, 19.22it/s]\n",
      "Training Epoch 598: 100%|██████████| 259/259 [00:13<00:00, 19.12it/s]\n",
      "Training Epoch 599: 100%|██████████| 259/259 [00:13<00:00, 18.99it/s]\n",
      "Training Epoch 600: 100%|██████████| 259/259 [00:13<00:00, 19.02it/s]\n",
      "Training Epoch 601: 100%|██████████| 259/259 [00:13<00:00, 19.04it/s]\n"
     ]
    },
    {
     "name": "stdout",
     "output_type": "stream",
     "text": [
      "Epoch 600 - Train Loss: 0.3038, Train MSE: 0.3041, Train MAE: 0.4097\n",
      "Epoch 600 - Validation Loss: 2.4792, Validation MSE: 2.4741, Validation MAE: 1.2237\n"
     ]
    },
    {
     "name": "stderr",
     "output_type": "stream",
     "text": [
      "Training Epoch 602: 100%|██████████| 259/259 [00:13<00:00, 19.18it/s]\n",
      "Training Epoch 603: 100%|██████████| 259/259 [00:13<00:00, 19.18it/s]\n",
      "Training Epoch 604: 100%|██████████| 259/259 [00:13<00:00, 19.16it/s]\n",
      "Training Epoch 605: 100%|██████████| 259/259 [00:13<00:00, 19.13it/s]\n",
      "Training Epoch 606: 100%|██████████| 259/259 [00:13<00:00, 19.17it/s]\n",
      "Training Epoch 607: 100%|██████████| 259/259 [00:13<00:00, 18.97it/s]\n",
      "Training Epoch 608: 100%|██████████| 259/259 [00:13<00:00, 19.45it/s]\n",
      "Training Epoch 609: 100%|██████████| 259/259 [00:13<00:00, 18.78it/s]\n",
      "Training Epoch 610: 100%|██████████| 259/259 [00:13<00:00, 18.66it/s]\n",
      "Training Epoch 611: 100%|██████████| 259/259 [00:13<00:00, 18.93it/s]\n"
     ]
    },
    {
     "name": "stdout",
     "output_type": "stream",
     "text": [
      "Epoch 610 - Train Loss: 0.3047, Train MSE: 0.3048, Train MAE: 0.4120\n",
      "Epoch 610 - Validation Loss: 2.4507, Validation MSE: 2.4449, Validation MAE: 1.2255\n"
     ]
    },
    {
     "name": "stderr",
     "output_type": "stream",
     "text": [
      "Training Epoch 612: 100%|██████████| 259/259 [00:13<00:00, 18.85it/s]\n",
      "Training Epoch 613: 100%|██████████| 259/259 [00:15<00:00, 17.08it/s]\n",
      "Training Epoch 614: 100%|██████████| 259/259 [00:13<00:00, 19.06it/s]\n",
      "Training Epoch 615: 100%|██████████| 259/259 [00:13<00:00, 18.87it/s]\n",
      "Training Epoch 616: 100%|██████████| 259/259 [00:13<00:00, 19.07it/s]\n",
      "Training Epoch 617: 100%|██████████| 259/259 [00:13<00:00, 18.70it/s]\n",
      "Training Epoch 618: 100%|██████████| 259/259 [00:13<00:00, 19.07it/s]\n",
      "Training Epoch 619: 100%|██████████| 259/259 [00:13<00:00, 19.11it/s]\n",
      "Training Epoch 620: 100%|██████████| 259/259 [00:13<00:00, 18.92it/s]\n",
      "Training Epoch 621: 100%|██████████| 259/259 [00:14<00:00, 18.35it/s]\n"
     ]
    },
    {
     "name": "stdout",
     "output_type": "stream",
     "text": [
      "Epoch 620 - Train Loss: 0.3060, Train MSE: 0.3057, Train MAE: 0.4096\n",
      "Epoch 620 - Validation Loss: 2.4292, Validation MSE: 2.4221, Validation MAE: 1.2200\n"
     ]
    },
    {
     "name": "stderr",
     "output_type": "stream",
     "text": [
      "Training Epoch 622: 100%|██████████| 259/259 [00:13<00:00, 19.22it/s]\n",
      "Training Epoch 623: 100%|██████████| 259/259 [00:13<00:00, 19.04it/s]\n",
      "Training Epoch 624: 100%|██████████| 259/259 [00:13<00:00, 18.77it/s]\n",
      "Training Epoch 625: 100%|██████████| 259/259 [00:13<00:00, 18.67it/s]\n",
      "Training Epoch 626: 100%|██████████| 259/259 [00:13<00:00, 19.09it/s]\n",
      "Training Epoch 627: 100%|██████████| 259/259 [00:13<00:00, 18.86it/s]\n",
      "Training Epoch 628: 100%|██████████| 259/259 [00:13<00:00, 18.81it/s]\n",
      "Training Epoch 629: 100%|██████████| 259/259 [00:13<00:00, 18.77it/s]\n",
      "Training Epoch 630: 100%|██████████| 259/259 [00:13<00:00, 18.84it/s]\n",
      "Training Epoch 631: 100%|██████████| 259/259 [00:13<00:00, 19.01it/s]\n"
     ]
    },
    {
     "name": "stdout",
     "output_type": "stream",
     "text": [
      "Epoch 630 - Train Loss: 0.2863, Train MSE: 0.2859, Train MAE: 0.3959\n",
      "Epoch 630 - Validation Loss: 2.4845, Validation MSE: 2.4771, Validation MAE: 1.2334\n"
     ]
    },
    {
     "name": "stderr",
     "output_type": "stream",
     "text": [
      "Training Epoch 632: 100%|██████████| 259/259 [00:13<00:00, 19.05it/s]\n",
      "Training Epoch 633: 100%|██████████| 259/259 [00:13<00:00, 18.84it/s]\n",
      "Training Epoch 634: 100%|██████████| 259/259 [00:13<00:00, 18.88it/s]\n",
      "Training Epoch 635: 100%|██████████| 259/259 [00:13<00:00, 18.96it/s]\n",
      "Training Epoch 636: 100%|██████████| 259/259 [00:13<00:00, 19.11it/s]\n",
      "Training Epoch 637: 100%|██████████| 259/259 [00:13<00:00, 18.86it/s]\n",
      "Training Epoch 638: 100%|██████████| 259/259 [00:13<00:00, 18.90it/s]\n",
      "Training Epoch 639: 100%|██████████| 259/259 [00:13<00:00, 18.79it/s]\n",
      "Training Epoch 640: 100%|██████████| 259/259 [00:13<00:00, 18.97it/s]\n",
      "Training Epoch 641: 100%|██████████| 259/259 [00:14<00:00, 18.37it/s]\n"
     ]
    },
    {
     "name": "stdout",
     "output_type": "stream",
     "text": [
      "Epoch 640 - Train Loss: 0.3017, Train MSE: 0.3016, Train MAE: 0.4076\n",
      "Epoch 640 - Validation Loss: 2.6231, Validation MSE: 2.6167, Validation MAE: 1.2600\n"
     ]
    },
    {
     "name": "stderr",
     "output_type": "stream",
     "text": [
      "Training Epoch 642: 100%|██████████| 259/259 [00:13<00:00, 19.16it/s]\n",
      "Training Epoch 643: 100%|██████████| 259/259 [00:13<00:00, 18.82it/s]\n",
      "Training Epoch 644: 100%|██████████| 259/259 [00:13<00:00, 18.86it/s]\n",
      "Training Epoch 645: 100%|██████████| 259/259 [00:14<00:00, 18.32it/s]\n",
      "Training Epoch 646: 100%|██████████| 259/259 [00:13<00:00, 18.90it/s]\n",
      "Training Epoch 647: 100%|██████████| 259/259 [00:13<00:00, 18.75it/s]\n",
      "Training Epoch 648: 100%|██████████| 259/259 [00:13<00:00, 18.89it/s]\n",
      "Training Epoch 649: 100%|██████████| 259/259 [00:13<00:00, 18.62it/s]\n",
      "Training Epoch 650: 100%|██████████| 259/259 [00:13<00:00, 18.91it/s]\n",
      "Training Epoch 651: 100%|██████████| 259/259 [00:13<00:00, 18.95it/s]\n"
     ]
    },
    {
     "name": "stdout",
     "output_type": "stream",
     "text": [
      "Epoch 650 - Train Loss: 0.2828, Train MSE: 0.2826, Train MAE: 0.3947\n",
      "Epoch 650 - Validation Loss: 2.3986, Validation MSE: 2.3918, Validation MAE: 1.2128\n"
     ]
    },
    {
     "name": "stderr",
     "output_type": "stream",
     "text": [
      "Training Epoch 652: 100%|██████████| 259/259 [00:13<00:00, 18.81it/s]\n",
      "Training Epoch 653: 100%|██████████| 259/259 [00:13<00:00, 18.68it/s]\n",
      "Training Epoch 654: 100%|██████████| 259/259 [00:13<00:00, 18.83it/s]\n",
      "Training Epoch 655: 100%|██████████| 259/259 [00:14<00:00, 18.47it/s]\n",
      "Training Epoch 656: 100%|██████████| 259/259 [00:13<00:00, 18.99it/s]\n",
      "Training Epoch 657: 100%|██████████| 259/259 [00:13<00:00, 18.99it/s]\n",
      "Training Epoch 658: 100%|██████████| 259/259 [00:13<00:00, 18.67it/s]\n",
      "Training Epoch 659: 100%|██████████| 259/259 [00:13<00:00, 18.93it/s]\n",
      "Training Epoch 660: 100%|██████████| 259/259 [00:13<00:00, 18.91it/s]\n",
      "Training Epoch 661: 100%|██████████| 259/259 [00:13<00:00, 18.98it/s]\n"
     ]
    },
    {
     "name": "stdout",
     "output_type": "stream",
     "text": [
      "Epoch 660 - Train Loss: 0.2790, Train MSE: 0.2787, Train MAE: 0.3939\n",
      "Epoch 660 - Validation Loss: 2.5578, Validation MSE: 2.5522, Validation MAE: 1.2480\n"
     ]
    },
    {
     "name": "stderr",
     "output_type": "stream",
     "text": [
      "Training Epoch 662: 100%|██████████| 259/259 [00:14<00:00, 18.36it/s]\n",
      "Training Epoch 663: 100%|██████████| 259/259 [00:13<00:00, 18.94it/s]\n",
      "Training Epoch 664: 100%|██████████| 259/259 [00:13<00:00, 18.98it/s]\n",
      "Training Epoch 665: 100%|██████████| 259/259 [00:13<00:00, 18.85it/s]\n",
      "Training Epoch 666: 100%|██████████| 259/259 [00:14<00:00, 18.17it/s]\n",
      "Training Epoch 667: 100%|██████████| 259/259 [00:13<00:00, 19.00it/s]\n",
      "Training Epoch 668: 100%|██████████| 259/259 [00:13<00:00, 19.04it/s]\n",
      "Training Epoch 669: 100%|██████████| 259/259 [00:13<00:00, 18.52it/s]\n",
      "Training Epoch 670: 100%|██████████| 259/259 [00:14<00:00, 18.17it/s]\n",
      "Training Epoch 671: 100%|██████████| 259/259 [00:13<00:00, 18.98it/s]\n"
     ]
    },
    {
     "name": "stdout",
     "output_type": "stream",
     "text": [
      "Epoch 670 - Train Loss: 0.2952, Train MSE: 0.2953, Train MAE: 0.4034\n",
      "Epoch 670 - Validation Loss: 2.4039, Validation MSE: 2.3971, Validation MAE: 1.2124\n"
     ]
    },
    {
     "name": "stderr",
     "output_type": "stream",
     "text": [
      "Training Epoch 672: 100%|██████████| 259/259 [00:13<00:00, 19.11it/s]\n",
      "Training Epoch 673: 100%|██████████| 259/259 [00:13<00:00, 18.99it/s]\n",
      "Training Epoch 674: 100%|██████████| 259/259 [00:14<00:00, 18.20it/s]\n",
      "Training Epoch 675: 100%|██████████| 259/259 [00:13<00:00, 18.87it/s]\n",
      "Training Epoch 676: 100%|██████████| 259/259 [00:13<00:00, 19.14it/s]\n",
      "Training Epoch 677: 100%|██████████| 259/259 [00:13<00:00, 18.62it/s]\n",
      "Training Epoch 678: 100%|██████████| 259/259 [00:13<00:00, 18.66it/s]\n",
      "Training Epoch 679: 100%|██████████| 259/259 [00:13<00:00, 18.57it/s]\n",
      "Training Epoch 680: 100%|██████████| 259/259 [00:13<00:00, 19.00it/s]\n",
      "Training Epoch 681: 100%|██████████| 259/259 [00:13<00:00, 19.05it/s]\n"
     ]
    },
    {
     "name": "stdout",
     "output_type": "stream",
     "text": [
      "Epoch 680 - Train Loss: 0.2901, Train MSE: 0.2901, Train MAE: 0.3995\n",
      "Epoch 680 - Validation Loss: 2.4042, Validation MSE: 2.3976, Validation MAE: 1.2133\n"
     ]
    },
    {
     "name": "stderr",
     "output_type": "stream",
     "text": [
      "Training Epoch 682: 100%|██████████| 259/259 [00:13<00:00, 18.69it/s]\n",
      "Training Epoch 683: 100%|██████████| 259/259 [00:13<00:00, 19.05it/s]\n",
      "Training Epoch 684: 100%|██████████| 259/259 [00:13<00:00, 18.81it/s]\n",
      "Training Epoch 685: 100%|██████████| 259/259 [00:13<00:00, 19.19it/s]\n",
      "Training Epoch 686: 100%|██████████| 259/259 [00:13<00:00, 18.58it/s]\n",
      "Training Epoch 687: 100%|██████████| 259/259 [00:13<00:00, 19.01it/s]\n",
      "Training Epoch 688: 100%|██████████| 259/259 [00:13<00:00, 19.21it/s]\n",
      "Training Epoch 689: 100%|██████████| 259/259 [00:13<00:00, 18.76it/s]\n",
      "Training Epoch 690: 100%|██████████| 259/259 [00:13<00:00, 18.52it/s]\n",
      "Training Epoch 691: 100%|██████████| 259/259 [00:13<00:00, 19.04it/s]\n"
     ]
    },
    {
     "name": "stdout",
     "output_type": "stream",
     "text": [
      "Epoch 690 - Train Loss: 0.2818, Train MSE: 0.2812, Train MAE: 0.3959\n",
      "Epoch 690 - Validation Loss: 2.3725, Validation MSE: 2.3659, Validation MAE: 1.2090\n"
     ]
    },
    {
     "name": "stderr",
     "output_type": "stream",
     "text": [
      "Training Epoch 692: 100%|██████████| 259/259 [00:13<00:00, 19.27it/s]\n",
      "Training Epoch 693: 100%|██████████| 259/259 [00:13<00:00, 18.90it/s]\n",
      "Training Epoch 694: 100%|██████████| 259/259 [00:13<00:00, 18.65it/s]\n",
      "Training Epoch 695: 100%|██████████| 259/259 [00:13<00:00, 19.11it/s]\n",
      "Training Epoch 696: 100%|██████████| 259/259 [00:13<00:00, 18.85it/s]\n",
      "Training Epoch 697: 100%|██████████| 259/259 [00:13<00:00, 19.00it/s]\n",
      "Training Epoch 698: 100%|██████████| 259/259 [00:13<00:00, 18.53it/s]\n",
      "Training Epoch 699: 100%|██████████| 259/259 [00:13<00:00, 18.77it/s]\n",
      "Training Epoch 700: 100%|██████████| 259/259 [00:13<00:00, 19.11it/s]\n",
      "Training Epoch 701: 100%|██████████| 259/259 [00:13<00:00, 19.07it/s]\n"
     ]
    },
    {
     "name": "stdout",
     "output_type": "stream",
     "text": [
      "Epoch 700 - Train Loss: 0.2878, Train MSE: 0.2877, Train MAE: 0.3987\n",
      "Epoch 700 - Validation Loss: 2.4438, Validation MSE: 2.4365, Validation MAE: 1.2260\n"
     ]
    },
    {
     "name": "stderr",
     "output_type": "stream",
     "text": [
      "Training Epoch 702: 100%|██████████| 259/259 [00:13<00:00, 18.86it/s]\n",
      "Training Epoch 703: 100%|██████████| 259/259 [00:13<00:00, 19.03it/s]\n",
      "Training Epoch 704: 100%|██████████| 259/259 [00:13<00:00, 18.93it/s]\n",
      "Training Epoch 705: 100%|██████████| 259/259 [00:13<00:00, 19.24it/s]\n",
      "Training Epoch 706: 100%|██████████| 259/259 [00:13<00:00, 18.61it/s]\n",
      "Training Epoch 707: 100%|██████████| 259/259 [00:13<00:00, 18.82it/s]\n",
      "Training Epoch 708: 100%|██████████| 259/259 [00:13<00:00, 19.19it/s]\n",
      "Training Epoch 709: 100%|██████████| 259/259 [00:13<00:00, 19.05it/s]\n",
      "Training Epoch 710: 100%|██████████| 259/259 [00:13<00:00, 19.20it/s]\n",
      "Training Epoch 711: 100%|██████████| 259/259 [00:14<00:00, 18.41it/s]\n"
     ]
    },
    {
     "name": "stdout",
     "output_type": "stream",
     "text": [
      "Epoch 710 - Train Loss: 0.2801, Train MSE: 0.2802, Train MAE: 0.3947\n",
      "Epoch 710 - Validation Loss: 2.4849, Validation MSE: 2.4779, Validation MAE: 1.2317\n"
     ]
    },
    {
     "name": "stderr",
     "output_type": "stream",
     "text": [
      "Training Epoch 712: 100%|██████████| 259/259 [00:13<00:00, 19.13it/s]\n",
      "Training Epoch 713: 100%|██████████| 259/259 [00:13<00:00, 19.24it/s]\n",
      "Training Epoch 714: 100%|██████████| 259/259 [00:13<00:00, 18.80it/s]\n",
      "Training Epoch 715: 100%|██████████| 259/259 [00:14<00:00, 18.22it/s]\n",
      "Training Epoch 716: 100%|██████████| 259/259 [00:13<00:00, 18.95it/s]\n",
      "Training Epoch 717: 100%|██████████| 259/259 [00:13<00:00, 19.20it/s]\n",
      "Training Epoch 718: 100%|██████████| 259/259 [00:13<00:00, 19.05it/s]\n",
      "Training Epoch 719: 100%|██████████| 259/259 [00:14<00:00, 18.30it/s]\n",
      "Training Epoch 720: 100%|██████████| 259/259 [00:13<00:00, 19.85it/s]\n",
      "Training Epoch 721: 100%|██████████| 259/259 [00:11<00:00, 21.61it/s]\n"
     ]
    },
    {
     "name": "stdout",
     "output_type": "stream",
     "text": [
      "Epoch 720 - Train Loss: 0.2940, Train MSE: 0.2940, Train MAE: 0.3993\n",
      "Epoch 720 - Validation Loss: 2.4362, Validation MSE: 2.4297, Validation MAE: 1.2260\n"
     ]
    },
    {
     "name": "stderr",
     "output_type": "stream",
     "text": [
      "Training Epoch 722: 100%|██████████| 259/259 [00:11<00:00, 22.06it/s]\n",
      "Training Epoch 723: 100%|██████████| 259/259 [00:12<00:00, 21.10it/s]\n",
      "Training Epoch 724: 100%|██████████| 259/259 [00:11<00:00, 21.70it/s]\n",
      "Training Epoch 725: 100%|██████████| 259/259 [00:11<00:00, 21.82it/s]\n",
      "Training Epoch 726: 100%|██████████| 259/259 [00:11<00:00, 21.65it/s]\n",
      "Training Epoch 727: 100%|██████████| 259/259 [00:11<00:00, 21.99it/s]\n",
      "Training Epoch 728: 100%|██████████| 259/259 [00:12<00:00, 21.11it/s]\n",
      "Training Epoch 729: 100%|██████████| 259/259 [00:11<00:00, 22.79it/s]\n",
      "Training Epoch 730: 100%|██████████| 259/259 [00:11<00:00, 23.40it/s]\n",
      "Training Epoch 731: 100%|██████████| 259/259 [00:11<00:00, 23.39it/s]\n"
     ]
    },
    {
     "name": "stdout",
     "output_type": "stream",
     "text": [
      "Epoch 730 - Train Loss: 0.2813, Train MSE: 0.2814, Train MAE: 0.3937\n",
      "Epoch 730 - Validation Loss: 2.4724, Validation MSE: 2.4664, Validation MAE: 1.2292\n"
     ]
    },
    {
     "name": "stderr",
     "output_type": "stream",
     "text": [
      "Training Epoch 732: 100%|██████████| 259/259 [00:11<00:00, 22.97it/s]\n",
      "Training Epoch 733: 100%|██████████| 259/259 [00:11<00:00, 22.48it/s]\n",
      "Training Epoch 734: 100%|██████████| 259/259 [00:11<00:00, 23.17it/s]\n",
      "Training Epoch 735: 100%|██████████| 259/259 [00:11<00:00, 23.17it/s]\n",
      "Training Epoch 736: 100%|██████████| 259/259 [00:11<00:00, 23.50it/s]\n",
      "Training Epoch 737: 100%|██████████| 259/259 [00:11<00:00, 23.04it/s]\n",
      "Training Epoch 738: 100%|██████████| 259/259 [00:11<00:00, 22.31it/s]\n",
      "Training Epoch 739: 100%|██████████| 259/259 [00:11<00:00, 23.27it/s]\n",
      "Training Epoch 740: 100%|██████████| 259/259 [00:11<00:00, 23.28it/s]\n",
      "Training Epoch 741: 100%|██████████| 259/259 [00:11<00:00, 23.29it/s]\n"
     ]
    },
    {
     "name": "stdout",
     "output_type": "stream",
     "text": [
      "Epoch 740 - Train Loss: 0.2884, Train MSE: 0.2884, Train MAE: 0.3952\n",
      "Epoch 740 - Validation Loss: 2.5041, Validation MSE: 2.4975, Validation MAE: 1.2398\n"
     ]
    },
    {
     "name": "stderr",
     "output_type": "stream",
     "text": [
      "Training Epoch 742: 100%|██████████| 259/259 [00:11<00:00, 23.29it/s]\n",
      "Training Epoch 743: 100%|██████████| 259/259 [00:11<00:00, 22.81it/s]\n",
      "Training Epoch 744: 100%|██████████| 259/259 [00:11<00:00, 23.14it/s]\n",
      "Training Epoch 745: 100%|██████████| 259/259 [00:11<00:00, 22.85it/s]\n",
      "Training Epoch 746: 100%|██████████| 259/259 [00:11<00:00, 23.07it/s]\n",
      "Training Epoch 747: 100%|██████████| 259/259 [00:11<00:00, 22.90it/s]\n",
      "Training Epoch 748: 100%|██████████| 259/259 [00:11<00:00, 22.54it/s]\n",
      "Training Epoch 749: 100%|██████████| 259/259 [00:11<00:00, 23.01it/s]\n",
      "Training Epoch 750: 100%|██████████| 259/259 [00:11<00:00, 23.19it/s]\n",
      "Training Epoch 751: 100%|██████████| 259/259 [00:11<00:00, 23.16it/s]\n"
     ]
    },
    {
     "name": "stdout",
     "output_type": "stream",
     "text": [
      "Epoch 750 - Train Loss: 0.2793, Train MSE: 0.2796, Train MAE: 0.3928\n",
      "Epoch 750 - Validation Loss: 2.4380, Validation MSE: 2.4321, Validation MAE: 1.2260\n"
     ]
    },
    {
     "name": "stderr",
     "output_type": "stream",
     "text": [
      "Training Epoch 752: 100%|██████████| 259/259 [00:11<00:00, 23.21it/s]\n",
      "Training Epoch 753: 100%|██████████| 259/259 [00:11<00:00, 22.92it/s]\n",
      "Training Epoch 754: 100%|██████████| 259/259 [00:11<00:00, 22.73it/s]\n",
      "Training Epoch 755: 100%|██████████| 259/259 [00:11<00:00, 23.20it/s]\n",
      "Training Epoch 756: 100%|██████████| 259/259 [00:11<00:00, 23.37it/s]\n",
      "Training Epoch 757: 100%|██████████| 259/259 [00:11<00:00, 23.06it/s]\n",
      "Training Epoch 758: 100%|██████████| 259/259 [00:11<00:00, 22.90it/s]\n",
      "Training Epoch 759: 100%|██████████| 259/259 [00:11<00:00, 23.24it/s]\n",
      "Training Epoch 760: 100%|██████████| 259/259 [00:11<00:00, 23.18it/s]\n",
      "Training Epoch 761: 100%|██████████| 259/259 [00:11<00:00, 23.13it/s]\n"
     ]
    },
    {
     "name": "stdout",
     "output_type": "stream",
     "text": [
      "Epoch 760 - Train Loss: 0.2884, Train MSE: 0.2886, Train MAE: 0.3954\n",
      "Epoch 760 - Validation Loss: 2.4228, Validation MSE: 2.4165, Validation MAE: 1.2206\n"
     ]
    },
    {
     "name": "stderr",
     "output_type": "stream",
     "text": [
      "Training Epoch 762: 100%|██████████| 259/259 [00:11<00:00, 22.85it/s]\n",
      "Training Epoch 763: 100%|██████████| 259/259 [00:11<00:00, 23.04it/s]\n",
      "Training Epoch 764: 100%|██████████| 259/259 [00:11<00:00, 23.22it/s]\n",
      "Training Epoch 765: 100%|██████████| 259/259 [00:10<00:00, 23.55it/s]\n",
      "Training Epoch 766: 100%|██████████| 259/259 [00:11<00:00, 23.21it/s]\n",
      "Training Epoch 767: 100%|██████████| 259/259 [00:11<00:00, 22.64it/s]\n",
      "Training Epoch 768: 100%|██████████| 259/259 [00:11<00:00, 23.19it/s]\n",
      "Training Epoch 769: 100%|██████████| 259/259 [00:11<00:00, 23.08it/s]\n",
      "Training Epoch 770: 100%|██████████| 259/259 [00:11<00:00, 23.34it/s]\n",
      "Training Epoch 771: 100%|██████████| 259/259 [00:11<00:00, 22.92it/s]\n"
     ]
    },
    {
     "name": "stdout",
     "output_type": "stream",
     "text": [
      "Epoch 770 - Train Loss: 0.2838, Train MSE: 0.2835, Train MAE: 0.3945\n",
      "Epoch 770 - Validation Loss: 2.5119, Validation MSE: 2.5046, Validation MAE: 1.2381\n"
     ]
    },
    {
     "name": "stderr",
     "output_type": "stream",
     "text": [
      "Training Epoch 772: 100%|██████████| 259/259 [00:11<00:00, 23.28it/s]\n",
      "Training Epoch 773: 100%|██████████| 259/259 [00:11<00:00, 23.29it/s]\n",
      "Training Epoch 774: 100%|██████████| 259/259 [00:11<00:00, 23.12it/s]\n",
      "Training Epoch 775: 100%|██████████| 259/259 [00:11<00:00, 23.45it/s]\n",
      "Training Epoch 776: 100%|██████████| 259/259 [00:11<00:00, 23.50it/s]\n",
      "Training Epoch 777: 100%|██████████| 259/259 [00:11<00:00, 23.08it/s]\n",
      "Training Epoch 778: 100%|██████████| 259/259 [00:11<00:00, 22.96it/s]\n",
      "Training Epoch 779: 100%|██████████| 259/259 [00:10<00:00, 23.64it/s]\n",
      "Training Epoch 780: 100%|██████████| 259/259 [00:10<00:00, 23.59it/s]\n",
      "Training Epoch 781: 100%|██████████| 259/259 [00:11<00:00, 23.29it/s]\n"
     ]
    },
    {
     "name": "stdout",
     "output_type": "stream",
     "text": [
      "Epoch 780 - Train Loss: 0.2892, Train MSE: 0.2893, Train MAE: 0.3939\n",
      "Epoch 780 - Validation Loss: 2.4470, Validation MSE: 2.4390, Validation MAE: 1.2244\n"
     ]
    },
    {
     "name": "stderr",
     "output_type": "stream",
     "text": [
      "Training Epoch 782: 100%|██████████| 259/259 [00:11<00:00, 22.75it/s]\n",
      "Training Epoch 783: 100%|██████████| 259/259 [00:11<00:00, 23.00it/s]\n",
      "Training Epoch 784: 100%|██████████| 259/259 [00:11<00:00, 23.20it/s]\n",
      "Training Epoch 785: 100%|██████████| 259/259 [00:11<00:00, 23.31it/s]\n",
      "Training Epoch 786: 100%|██████████| 259/259 [00:11<00:00, 23.24it/s]\n",
      "Training Epoch 787: 100%|██████████| 259/259 [00:11<00:00, 22.77it/s]\n",
      "Training Epoch 788: 100%|██████████| 259/259 [00:11<00:00, 23.37it/s]\n",
      "Training Epoch 789: 100%|██████████| 259/259 [00:11<00:00, 23.25it/s]\n",
      "Training Epoch 790: 100%|██████████| 259/259 [00:11<00:00, 23.50it/s]\n",
      "Training Epoch 791: 100%|██████████| 259/259 [00:11<00:00, 23.46it/s]\n"
     ]
    },
    {
     "name": "stdout",
     "output_type": "stream",
     "text": [
      "Epoch 790 - Train Loss: 0.2816, Train MSE: 0.2811, Train MAE: 0.3896\n",
      "Epoch 790 - Validation Loss: 2.5711, Validation MSE: 2.5642, Validation MAE: 1.2530\n"
     ]
    },
    {
     "name": "stderr",
     "output_type": "stream",
     "text": [
      "Training Epoch 792: 100%|██████████| 259/259 [00:11<00:00, 23.28it/s]\n",
      "Training Epoch 793: 100%|██████████| 259/259 [00:11<00:00, 23.38it/s]\n",
      "Training Epoch 794: 100%|██████████| 259/259 [00:11<00:00, 23.22it/s]\n",
      "Training Epoch 795: 100%|██████████| 259/259 [00:11<00:00, 23.50it/s]\n",
      "Training Epoch 796: 100%|██████████| 259/259 [00:10<00:00, 23.57it/s]\n",
      "Training Epoch 797: 100%|██████████| 259/259 [00:11<00:00, 23.01it/s]\n",
      "Training Epoch 798: 100%|██████████| 259/259 [00:11<00:00, 23.08it/s]\n",
      "Training Epoch 799: 100%|██████████| 259/259 [00:11<00:00, 23.43it/s]\n",
      "Training Epoch 800: 100%|██████████| 259/259 [00:10<00:00, 23.67it/s]\n",
      "Training Epoch 801: 100%|██████████| 259/259 [00:11<00:00, 23.32it/s]\n"
     ]
    },
    {
     "name": "stdout",
     "output_type": "stream",
     "text": [
      "Epoch 800 - Train Loss: 0.2781, Train MSE: 0.2784, Train MAE: 0.3891\n",
      "Epoch 800 - Validation Loss: 2.5089, Validation MSE: 2.5008, Validation MAE: 1.2369\n"
     ]
    },
    {
     "name": "stderr",
     "output_type": "stream",
     "text": [
      "Training Epoch 802: 100%|██████████| 259/259 [00:11<00:00, 23.03it/s]\n",
      "Training Epoch 803: 100%|██████████| 259/259 [00:11<00:00, 23.39it/s]\n",
      "Training Epoch 804: 100%|██████████| 259/259 [00:11<00:00, 23.29it/s]\n",
      "Training Epoch 805: 100%|██████████| 259/259 [00:11<00:00, 23.34it/s]\n",
      "Training Epoch 806: 100%|██████████| 259/259 [00:11<00:00, 23.44it/s]\n",
      "Training Epoch 807: 100%|██████████| 259/259 [00:11<00:00, 23.43it/s]\n",
      "Training Epoch 808: 100%|██████████| 259/259 [00:11<00:00, 23.43it/s]\n",
      "Training Epoch 809: 100%|██████████| 259/259 [00:11<00:00, 23.42it/s]\n",
      "Training Epoch 810: 100%|██████████| 259/259 [00:11<00:00, 23.34it/s]\n",
      "Training Epoch 811: 100%|██████████| 259/259 [00:11<00:00, 23.02it/s]\n"
     ]
    },
    {
     "name": "stdout",
     "output_type": "stream",
     "text": [
      "Epoch 810 - Train Loss: 0.2791, Train MSE: 0.2793, Train MAE: 0.3898\n",
      "Epoch 810 - Validation Loss: 2.4848, Validation MSE: 2.4780, Validation MAE: 1.2305\n"
     ]
    },
    {
     "name": "stderr",
     "output_type": "stream",
     "text": [
      "Training Epoch 812: 100%|██████████| 259/259 [00:10<00:00, 23.62it/s]\n",
      "Training Epoch 813: 100%|██████████| 259/259 [00:11<00:00, 23.50it/s]\n",
      "Training Epoch 814: 100%|██████████| 259/259 [00:11<00:00, 23.42it/s]\n",
      "Training Epoch 815: 100%|██████████| 259/259 [00:11<00:00, 23.38it/s]\n",
      "Training Epoch 816: 100%|██████████| 259/259 [00:11<00:00, 23.50it/s]\n",
      "Training Epoch 817: 100%|██████████| 259/259 [00:10<00:00, 23.58it/s]\n",
      "Training Epoch 818: 100%|██████████| 259/259 [00:11<00:00, 22.63it/s]\n",
      "Training Epoch 819: 100%|██████████| 259/259 [00:11<00:00, 23.06it/s]\n",
      "Training Epoch 820: 100%|██████████| 259/259 [00:10<00:00, 23.69it/s]\n",
      "Training Epoch 821: 100%|██████████| 259/259 [00:10<00:00, 23.70it/s]\n"
     ]
    },
    {
     "name": "stdout",
     "output_type": "stream",
     "text": [
      "Epoch 820 - Train Loss: 0.2669, Train MSE: 0.2666, Train MAE: 0.3824\n",
      "Epoch 820 - Validation Loss: 2.4189, Validation MSE: 2.4108, Validation MAE: 1.2194\n"
     ]
    },
    {
     "name": "stderr",
     "output_type": "stream",
     "text": [
      "Training Epoch 822: 100%|██████████| 259/259 [00:11<00:00, 23.44it/s]\n",
      "Training Epoch 823: 100%|██████████| 259/259 [00:10<00:00, 23.78it/s]\n",
      "Training Epoch 824: 100%|██████████| 259/259 [00:10<00:00, 23.62it/s]\n",
      "Training Epoch 825: 100%|██████████| 259/259 [00:11<00:00, 23.20it/s]\n",
      "Training Epoch 826: 100%|██████████| 259/259 [00:11<00:00, 23.51it/s]\n",
      "Training Epoch 827: 100%|██████████| 259/259 [00:10<00:00, 23.61it/s]\n",
      "Training Epoch 828: 100%|██████████| 259/259 [00:11<00:00, 23.12it/s]\n",
      "Training Epoch 829: 100%|██████████| 259/259 [00:11<00:00, 23.14it/s]\n",
      "Training Epoch 830: 100%|██████████| 259/259 [00:11<00:00, 23.36it/s]\n",
      "Training Epoch 831: 100%|██████████| 259/259 [00:11<00:00, 23.24it/s]\n"
     ]
    },
    {
     "name": "stdout",
     "output_type": "stream",
     "text": [
      "Epoch 830 - Train Loss: 0.2729, Train MSE: 0.2731, Train MAE: 0.3862\n",
      "Epoch 830 - Validation Loss: 2.4618, Validation MSE: 2.4548, Validation MAE: 1.2318\n"
     ]
    },
    {
     "name": "stderr",
     "output_type": "stream",
     "text": [
      "Training Epoch 832: 100%|██████████| 259/259 [00:10<00:00, 23.59it/s]\n",
      "Training Epoch 833: 100%|██████████| 259/259 [00:11<00:00, 23.01it/s]\n",
      "Training Epoch 834: 100%|██████████| 259/259 [00:11<00:00, 23.40it/s]\n",
      "Training Epoch 835: 100%|██████████| 259/259 [00:11<00:00, 23.31it/s]\n",
      "Training Epoch 836: 100%|██████████| 259/259 [00:10<00:00, 23.66it/s]\n",
      "Training Epoch 837: 100%|██████████| 259/259 [00:11<00:00, 23.39it/s]\n",
      "Training Epoch 838: 100%|██████████| 259/259 [00:11<00:00, 22.64it/s]\n",
      "Training Epoch 839: 100%|██████████| 259/259 [00:10<00:00, 23.57it/s]\n",
      "Training Epoch 840: 100%|██████████| 259/259 [00:10<00:00, 23.61it/s]\n",
      "Training Epoch 841: 100%|██████████| 259/259 [00:11<00:00, 23.45it/s]\n"
     ]
    },
    {
     "name": "stdout",
     "output_type": "stream",
     "text": [
      "Epoch 840 - Train Loss: 0.2814, Train MSE: 0.2814, Train MAE: 0.3913\n",
      "Epoch 840 - Validation Loss: 2.4263, Validation MSE: 2.4193, Validation MAE: 1.2218\n"
     ]
    },
    {
     "name": "stderr",
     "output_type": "stream",
     "text": [
      "Training Epoch 842: 100%|██████████| 259/259 [00:10<00:00, 23.61it/s]\n",
      "Training Epoch 843: 100%|██████████| 259/259 [00:11<00:00, 23.17it/s]\n",
      "Training Epoch 844: 100%|██████████| 259/259 [00:11<00:00, 23.44it/s]\n",
      "Training Epoch 845: 100%|██████████| 259/259 [00:10<00:00, 23.56it/s]\n",
      "Training Epoch 846: 100%|██████████| 259/259 [00:11<00:00, 23.32it/s]\n",
      "Training Epoch 847: 100%|██████████| 259/259 [00:10<00:00, 23.57it/s]\n",
      "Training Epoch 848: 100%|██████████| 259/259 [00:11<00:00, 23.10it/s]\n",
      "Training Epoch 849: 100%|██████████| 259/259 [00:11<00:00, 23.51it/s]\n",
      "Training Epoch 850: 100%|██████████| 259/259 [00:11<00:00, 23.06it/s]\n",
      "Training Epoch 851: 100%|██████████| 259/259 [00:10<00:00, 23.75it/s]\n"
     ]
    },
    {
     "name": "stdout",
     "output_type": "stream",
     "text": [
      "Epoch 850 - Train Loss: 0.2745, Train MSE: 0.2748, Train MAE: 0.3861\n",
      "Epoch 850 - Validation Loss: 2.4269, Validation MSE: 2.4188, Validation MAE: 1.2163\n"
     ]
    },
    {
     "name": "stderr",
     "output_type": "stream",
     "text": [
      "Training Epoch 852: 100%|██████████| 259/259 [00:11<00:00, 23.33it/s]\n",
      "Training Epoch 853: 100%|██████████| 259/259 [00:11<00:00, 22.66it/s]\n",
      "Training Epoch 854: 100%|██████████| 259/259 [00:11<00:00, 22.98it/s]\n",
      "Training Epoch 855: 100%|██████████| 259/259 [00:11<00:00, 23.52it/s]\n",
      "Training Epoch 856: 100%|██████████| 259/259 [00:10<00:00, 23.70it/s]\n",
      "Training Epoch 857: 100%|██████████| 259/259 [00:10<00:00, 23.62it/s]\n",
      "Training Epoch 858: 100%|██████████| 259/259 [00:11<00:00, 22.82it/s]\n",
      "Training Epoch 859: 100%|██████████| 259/259 [00:10<00:00, 23.55it/s]\n",
      "Training Epoch 860: 100%|██████████| 259/259 [00:10<00:00, 23.61it/s]\n",
      "Training Epoch 861: 100%|██████████| 259/259 [00:10<00:00, 23.55it/s]\n"
     ]
    },
    {
     "name": "stdout",
     "output_type": "stream",
     "text": [
      "Epoch 860 - Train Loss: 0.2736, Train MSE: 0.2739, Train MAE: 0.3854\n",
      "Epoch 860 - Validation Loss: 2.4712, Validation MSE: 2.4623, Validation MAE: 1.2263\n"
     ]
    },
    {
     "name": "stderr",
     "output_type": "stream",
     "text": [
      "Training Epoch 862: 100%|██████████| 259/259 [00:11<00:00, 23.41it/s]\n",
      "Training Epoch 863: 100%|██████████| 259/259 [00:11<00:00, 22.93it/s]\n",
      "Training Epoch 864: 100%|██████████| 259/259 [00:10<00:00, 23.78it/s]\n",
      "Training Epoch 865: 100%|██████████| 259/259 [00:10<00:00, 23.64it/s]\n",
      "Training Epoch 866: 100%|██████████| 259/259 [00:11<00:00, 23.48it/s]\n",
      "Training Epoch 867: 100%|██████████| 259/259 [00:10<00:00, 23.94it/s]\n",
      "Training Epoch 868: 100%|██████████| 259/259 [00:11<00:00, 22.73it/s]\n",
      "Training Epoch 869: 100%|██████████| 259/259 [00:11<00:00, 23.07it/s]\n",
      "Training Epoch 870: 100%|██████████| 259/259 [00:11<00:00, 23.49it/s]\n",
      "Training Epoch 871: 100%|██████████| 259/259 [00:10<00:00, 23.55it/s]\n"
     ]
    },
    {
     "name": "stdout",
     "output_type": "stream",
     "text": [
      "Epoch 870 - Train Loss: 0.2606, Train MSE: 0.2607, Train MAE: 0.3761\n",
      "Epoch 870 - Validation Loss: 2.4003, Validation MSE: 2.3930, Validation MAE: 1.2083\n"
     ]
    },
    {
     "name": "stderr",
     "output_type": "stream",
     "text": [
      "Training Epoch 872: 100%|██████████| 259/259 [00:11<00:00, 23.44it/s]\n",
      "Training Epoch 873: 100%|██████████| 259/259 [00:11<00:00, 22.73it/s]\n",
      "Training Epoch 874: 100%|██████████| 259/259 [00:10<00:00, 23.77it/s]\n",
      "Training Epoch 875: 100%|██████████| 259/259 [00:10<00:00, 23.72it/s]\n",
      "Training Epoch 876: 100%|██████████| 259/259 [00:10<00:00, 23.60it/s]\n",
      "Training Epoch 877: 100%|██████████| 259/259 [00:10<00:00, 23.82it/s]\n",
      "Training Epoch 878: 100%|██████████| 259/259 [00:11<00:00, 22.63it/s]\n",
      "Training Epoch 879: 100%|██████████| 259/259 [00:11<00:00, 23.26it/s]\n",
      "Training Epoch 880: 100%|██████████| 259/259 [00:11<00:00, 23.48it/s]\n",
      "Training Epoch 881: 100%|██████████| 259/259 [00:10<00:00, 23.70it/s]\n"
     ]
    },
    {
     "name": "stdout",
     "output_type": "stream",
     "text": [
      "Epoch 880 - Train Loss: 0.2692, Train MSE: 0.2689, Train MAE: 0.3840\n",
      "Epoch 880 - Validation Loss: 2.4515, Validation MSE: 2.4414, Validation MAE: 1.2257\n"
     ]
    },
    {
     "name": "stderr",
     "output_type": "stream",
     "text": [
      "Training Epoch 882: 100%|██████████| 259/259 [00:11<00:00, 23.25it/s]\n",
      "Training Epoch 883: 100%|██████████| 259/259 [00:11<00:00, 23.22it/s]\n",
      "Training Epoch 884: 100%|██████████| 259/259 [00:11<00:00, 23.35it/s]\n",
      "Training Epoch 885: 100%|██████████| 259/259 [00:11<00:00, 23.37it/s]\n",
      "Training Epoch 886: 100%|██████████| 259/259 [00:11<00:00, 23.47it/s]\n",
      "Training Epoch 887: 100%|██████████| 259/259 [00:10<00:00, 23.61it/s]\n",
      "Training Epoch 888: 100%|██████████| 259/259 [00:11<00:00, 23.18it/s]\n",
      "Training Epoch 889: 100%|██████████| 259/259 [00:11<00:00, 23.30it/s]\n",
      "Training Epoch 890: 100%|██████████| 259/259 [00:11<00:00, 23.38it/s]\n",
      "Training Epoch 891: 100%|██████████| 259/259 [00:11<00:00, 23.51it/s]\n"
     ]
    },
    {
     "name": "stdout",
     "output_type": "stream",
     "text": [
      "Epoch 890 - Train Loss: 0.2527, Train MSE: 0.2526, Train MAE: 0.3675\n",
      "Epoch 890 - Validation Loss: 2.4240, Validation MSE: 2.4164, Validation MAE: 1.2187\n"
     ]
    },
    {
     "name": "stderr",
     "output_type": "stream",
     "text": [
      "Training Epoch 892: 100%|██████████| 259/259 [00:11<00:00, 23.28it/s]\n",
      "Training Epoch 893: 100%|██████████| 259/259 [00:11<00:00, 22.97it/s]\n",
      "Training Epoch 894: 100%|██████████| 259/259 [00:11<00:00, 23.38it/s]\n",
      "Training Epoch 895: 100%|██████████| 259/259 [00:11<00:00, 23.47it/s]\n",
      "Training Epoch 896: 100%|██████████| 259/259 [00:10<00:00, 23.57it/s]\n",
      "Training Epoch 897: 100%|██████████| 259/259 [00:11<00:00, 23.43it/s]\n",
      "Training Epoch 898: 100%|██████████| 259/259 [00:11<00:00, 23.31it/s]\n",
      "Training Epoch 899: 100%|██████████| 259/259 [00:11<00:00, 23.47it/s]\n",
      "Training Epoch 900: 100%|██████████| 259/259 [00:11<00:00, 23.15it/s]\n",
      "Training Epoch 901: 100%|██████████| 259/259 [00:11<00:00, 23.43it/s]\n"
     ]
    },
    {
     "name": "stdout",
     "output_type": "stream",
     "text": [
      "Epoch 900 - Train Loss: 0.2616, Train MSE: 0.2617, Train MAE: 0.3776\n",
      "Epoch 900 - Validation Loss: 2.4465, Validation MSE: 2.4389, Validation MAE: 1.2244\n"
     ]
    },
    {
     "name": "stderr",
     "output_type": "stream",
     "text": [
      "Training Epoch 902: 100%|██████████| 259/259 [00:10<00:00, 23.62it/s]\n",
      "Training Epoch 903: 100%|██████████| 259/259 [00:11<00:00, 22.89it/s]\n",
      "Training Epoch 904: 100%|██████████| 259/259 [00:11<00:00, 23.32it/s]\n",
      "Training Epoch 905: 100%|██████████| 259/259 [00:10<00:00, 23.73it/s]\n",
      "Training Epoch 906: 100%|██████████| 259/259 [00:10<00:00, 23.55it/s]\n",
      "Training Epoch 907: 100%|██████████| 259/259 [00:11<00:00, 23.51it/s]\n",
      "Training Epoch 908: 100%|██████████| 259/259 [00:11<00:00, 22.73it/s]\n",
      "Training Epoch 909: 100%|██████████| 259/259 [00:11<00:00, 23.50it/s]\n",
      "Training Epoch 910: 100%|██████████| 259/259 [00:11<00:00, 23.50it/s]\n",
      "Training Epoch 911: 100%|██████████| 259/259 [00:11<00:00, 23.33it/s]\n"
     ]
    },
    {
     "name": "stdout",
     "output_type": "stream",
     "text": [
      "Epoch 910 - Train Loss: 0.2699, Train MSE: 0.2699, Train MAE: 0.3831\n",
      "Epoch 910 - Validation Loss: 2.4425, Validation MSE: 2.4352, Validation MAE: 1.2324\n"
     ]
    },
    {
     "name": "stderr",
     "output_type": "stream",
     "text": [
      "Training Epoch 912: 100%|██████████| 259/259 [00:10<00:00, 23.55it/s]\n",
      "Training Epoch 913: 100%|██████████| 259/259 [00:11<00:00, 22.64it/s]\n",
      "Training Epoch 914: 100%|██████████| 259/259 [00:11<00:00, 23.15it/s]\n",
      "Training Epoch 915: 100%|██████████| 259/259 [00:10<00:00, 23.66it/s]\n",
      "Training Epoch 916: 100%|██████████| 259/259 [00:10<00:00, 23.65it/s]\n",
      "Training Epoch 917: 100%|██████████| 259/259 [00:10<00:00, 23.58it/s]\n",
      "Training Epoch 918: 100%|██████████| 259/259 [00:11<00:00, 23.25it/s]\n",
      "Training Epoch 919: 100%|██████████| 259/259 [00:10<00:00, 23.67it/s]\n",
      "Training Epoch 920: 100%|██████████| 259/259 [00:11<00:00, 23.49it/s]\n",
      "Training Epoch 921: 100%|██████████| 259/259 [00:10<00:00, 23.69it/s]\n"
     ]
    },
    {
     "name": "stdout",
     "output_type": "stream",
     "text": [
      "Epoch 920 - Train Loss: 0.2638, Train MSE: 0.2638, Train MAE: 0.3800\n",
      "Epoch 920 - Validation Loss: 2.4836, Validation MSE: 2.4758, Validation MAE: 1.2344\n"
     ]
    },
    {
     "name": "stderr",
     "output_type": "stream",
     "text": [
      "Training Epoch 922: 100%|██████████| 259/259 [00:10<00:00, 23.77it/s]\n",
      "Training Epoch 923: 100%|██████████| 259/259 [00:11<00:00, 23.11it/s]\n",
      "Training Epoch 924: 100%|██████████| 259/259 [00:11<00:00, 23.38it/s]\n",
      "Training Epoch 925: 100%|██████████| 259/259 [00:11<00:00, 23.32it/s]\n",
      "Training Epoch 926: 100%|██████████| 259/259 [00:10<00:00, 23.63it/s]\n",
      "Training Epoch 927: 100%|██████████| 259/259 [00:11<00:00, 23.29it/s]\n",
      "Training Epoch 928: 100%|██████████| 259/259 [00:11<00:00, 23.19it/s]\n",
      "Training Epoch 929: 100%|██████████| 259/259 [00:11<00:00, 23.01it/s]\n",
      "Training Epoch 930: 100%|██████████| 259/259 [00:11<00:00, 23.28it/s]\n",
      "Training Epoch 931: 100%|██████████| 259/259 [00:11<00:00, 23.39it/s]\n"
     ]
    },
    {
     "name": "stdout",
     "output_type": "stream",
     "text": [
      "Epoch 930 - Train Loss: 0.2664, Train MSE: 0.2663, Train MAE: 0.3786\n",
      "Epoch 930 - Validation Loss: 2.4421, Validation MSE: 2.4332, Validation MAE: 1.2234\n"
     ]
    },
    {
     "name": "stderr",
     "output_type": "stream",
     "text": [
      "Training Epoch 932: 100%|██████████| 259/259 [00:11<00:00, 23.52it/s]\n",
      "Training Epoch 933: 100%|██████████| 259/259 [00:11<00:00, 23.14it/s]\n",
      "Training Epoch 934: 100%|██████████| 259/259 [00:11<00:00, 23.43it/s]\n",
      "Training Epoch 935: 100%|██████████| 259/259 [00:11<00:00, 23.41it/s]\n",
      "Training Epoch 936: 100%|██████████| 259/259 [00:11<00:00, 23.32it/s]\n",
      "Training Epoch 937: 100%|██████████| 259/259 [00:10<00:00, 23.60it/s]\n",
      "Training Epoch 938: 100%|██████████| 259/259 [00:11<00:00, 23.03it/s]\n",
      "Training Epoch 939: 100%|██████████| 259/259 [00:11<00:00, 23.14it/s]\n",
      "Training Epoch 940: 100%|██████████| 259/259 [00:11<00:00, 23.17it/s]\n",
      "Training Epoch 941: 100%|██████████| 259/259 [00:11<00:00, 23.47it/s]\n"
     ]
    },
    {
     "name": "stdout",
     "output_type": "stream",
     "text": [
      "Epoch 940 - Train Loss: 0.2731, Train MSE: 0.2732, Train MAE: 0.3853\n",
      "Epoch 940 - Validation Loss: 2.5622, Validation MSE: 2.5552, Validation MAE: 1.2524\n"
     ]
    },
    {
     "name": "stderr",
     "output_type": "stream",
     "text": [
      "Training Epoch 942: 100%|██████████| 259/259 [00:10<00:00, 23.64it/s]\n",
      "Training Epoch 943: 100%|██████████| 259/259 [00:11<00:00, 23.09it/s]\n",
      "Training Epoch 944: 100%|██████████| 259/259 [00:11<00:00, 23.38it/s]\n",
      "Training Epoch 945: 100%|██████████| 259/259 [00:11<00:00, 23.33it/s]\n",
      "Training Epoch 946: 100%|██████████| 259/259 [00:10<00:00, 23.61it/s]\n",
      "Training Epoch 947: 100%|██████████| 259/259 [00:11<00:00, 23.49it/s]\n",
      "Training Epoch 948: 100%|██████████| 259/259 [00:11<00:00, 23.22it/s]\n",
      "Training Epoch 949: 100%|██████████| 259/259 [00:10<00:00, 23.69it/s]\n",
      "Training Epoch 950: 100%|██████████| 259/259 [00:10<00:00, 23.72it/s]\n",
      "Training Epoch 951: 100%|██████████| 259/259 [00:11<00:00, 23.19it/s]\n"
     ]
    },
    {
     "name": "stdout",
     "output_type": "stream",
     "text": [
      "Epoch 950 - Train Loss: 0.2634, Train MSE: 0.2636, Train MAE: 0.3784\n",
      "Epoch 950 - Validation Loss: 2.4517, Validation MSE: 2.4431, Validation MAE: 1.2294\n"
     ]
    },
    {
     "name": "stderr",
     "output_type": "stream",
     "text": [
      "Training Epoch 952: 100%|██████████| 259/259 [00:11<00:00, 23.47it/s]\n",
      "Training Epoch 953: 100%|██████████| 259/259 [00:11<00:00, 23.11it/s]\n",
      "Training Epoch 954: 100%|██████████| 259/259 [00:10<00:00, 23.78it/s]\n",
      "Training Epoch 955: 100%|██████████| 259/259 [00:11<00:00, 22.96it/s]\n",
      "Training Epoch 956: 100%|██████████| 259/259 [00:11<00:00, 23.39it/s]\n",
      "Training Epoch 957: 100%|██████████| 259/259 [00:11<00:00, 23.53it/s]\n",
      "Training Epoch 958: 100%|██████████| 259/259 [00:11<00:00, 23.06it/s]\n",
      "Training Epoch 959: 100%|██████████| 259/259 [00:11<00:00, 23.11it/s]\n",
      "Training Epoch 960: 100%|██████████| 259/259 [00:11<00:00, 23.30it/s]\n",
      "Training Epoch 961: 100%|██████████| 259/259 [00:10<00:00, 23.59it/s]\n"
     ]
    },
    {
     "name": "stdout",
     "output_type": "stream",
     "text": [
      "Epoch 960 - Train Loss: 0.2561, Train MSE: 0.2560, Train MAE: 0.3763\n",
      "Epoch 960 - Validation Loss: 2.5168, Validation MSE: 2.5090, Validation MAE: 1.2383\n"
     ]
    },
    {
     "name": "stderr",
     "output_type": "stream",
     "text": [
      "Training Epoch 962: 100%|██████████| 259/259 [00:11<00:00, 23.54it/s]\n",
      "Training Epoch 963: 100%|██████████| 259/259 [00:11<00:00, 22.94it/s]\n",
      "Training Epoch 964: 100%|██████████| 259/259 [00:11<00:00, 23.47it/s]\n",
      "Training Epoch 965: 100%|██████████| 259/259 [00:10<00:00, 23.61it/s]\n",
      "Training Epoch 966: 100%|██████████| 259/259 [00:10<00:00, 23.58it/s]\n",
      "Training Epoch 967: 100%|██████████| 259/259 [00:11<00:00, 23.28it/s]\n",
      "Training Epoch 968: 100%|██████████| 259/259 [00:11<00:00, 22.94it/s]\n",
      "Training Epoch 969: 100%|██████████| 259/259 [00:10<00:00, 23.69it/s]\n",
      "Training Epoch 970: 100%|██████████| 259/259 [00:11<00:00, 23.26it/s]\n",
      "Training Epoch 971: 100%|██████████| 259/259 [00:11<00:00, 23.34it/s]\n"
     ]
    },
    {
     "name": "stdout",
     "output_type": "stream",
     "text": [
      "Epoch 970 - Train Loss: 0.2538, Train MSE: 0.2538, Train MAE: 0.3697\n",
      "Epoch 970 - Validation Loss: 2.4765, Validation MSE: 2.4696, Validation MAE: 1.2367\n"
     ]
    },
    {
     "name": "stderr",
     "output_type": "stream",
     "text": [
      "Training Epoch 972: 100%|██████████| 259/259 [00:11<00:00, 23.45it/s]\n",
      "Training Epoch 973: 100%|██████████| 259/259 [00:11<00:00, 23.25it/s]\n",
      "Training Epoch 974: 100%|██████████| 259/259 [00:11<00:00, 23.53it/s]\n",
      "Training Epoch 975: 100%|██████████| 259/259 [00:11<00:00, 23.27it/s]\n",
      "Training Epoch 976: 100%|██████████| 259/259 [00:11<00:00, 23.53it/s]\n",
      "Training Epoch 977: 100%|██████████| 259/259 [00:11<00:00, 23.51it/s]\n",
      "Training Epoch 978: 100%|██████████| 259/259 [00:11<00:00, 23.05it/s]\n",
      "Training Epoch 979: 100%|██████████| 259/259 [00:11<00:00, 23.46it/s]\n",
      "Training Epoch 980: 100%|██████████| 259/259 [00:10<00:00, 23.61it/s]\n",
      "Training Epoch 981: 100%|██████████| 259/259 [00:10<00:00, 23.63it/s]\n"
     ]
    },
    {
     "name": "stdout",
     "output_type": "stream",
     "text": [
      "Epoch 980 - Train Loss: 0.2586, Train MSE: 0.2588, Train MAE: 0.3752\n",
      "Epoch 980 - Validation Loss: 2.4392, Validation MSE: 2.4306, Validation MAE: 1.2286\n"
     ]
    },
    {
     "name": "stderr",
     "output_type": "stream",
     "text": [
      "Training Epoch 982: 100%|██████████| 259/259 [00:11<00:00, 23.46it/s]\n",
      "Training Epoch 983: 100%|██████████| 259/259 [00:11<00:00, 23.14it/s]\n",
      "Training Epoch 984: 100%|██████████| 259/259 [00:11<00:00, 23.45it/s]\n",
      "Training Epoch 985: 100%|██████████| 259/259 [00:11<00:00, 23.35it/s]\n",
      "Training Epoch 986: 100%|██████████| 259/259 [00:11<00:00, 23.37it/s]\n",
      "Training Epoch 987: 100%|██████████| 259/259 [00:11<00:00, 23.49it/s]\n",
      "Training Epoch 988: 100%|██████████| 259/259 [00:11<00:00, 22.99it/s]\n",
      "Training Epoch 989: 100%|██████████| 259/259 [00:10<00:00, 23.76it/s]\n",
      "Training Epoch 990: 100%|██████████| 259/259 [00:11<00:00, 23.37it/s]\n",
      "Training Epoch 991: 100%|██████████| 259/259 [00:10<00:00, 23.64it/s]\n"
     ]
    },
    {
     "name": "stdout",
     "output_type": "stream",
     "text": [
      "Epoch 990 - Train Loss: 0.2643, Train MSE: 0.2644, Train MAE: 0.3793\n",
      "Epoch 990 - Validation Loss: 2.5215, Validation MSE: 2.5147, Validation MAE: 1.2428\n"
     ]
    },
    {
     "name": "stderr",
     "output_type": "stream",
     "text": [
      "Training Epoch 992: 100%|██████████| 259/259 [00:10<00:00, 23.61it/s]\n",
      "Training Epoch 993: 100%|██████████| 259/259 [00:10<00:00, 23.55it/s]\n",
      "Training Epoch 994: 100%|██████████| 259/259 [00:10<00:00, 23.56it/s]\n",
      "Training Epoch 995: 100%|██████████| 259/259 [00:11<00:00, 23.39it/s]\n",
      "Training Epoch 996: 100%|██████████| 259/259 [00:11<00:00, 23.21it/s]\n",
      "Training Epoch 997: 100%|██████████| 259/259 [00:10<00:00, 23.79it/s]\n",
      "Training Epoch 998: 100%|██████████| 259/259 [00:11<00:00, 23.36it/s]\n",
      "Training Epoch 999: 100%|██████████| 259/259 [00:11<00:00, 23.19it/s]\n",
      "Training Epoch 1000: 100%|██████████| 259/259 [00:10<00:00, 23.67it/s]\n",
      "Training Epoch 1001: 100%|██████████| 259/259 [00:10<00:00, 23.55it/s]\n"
     ]
    },
    {
     "name": "stdout",
     "output_type": "stream",
     "text": [
      "Epoch 1000 - Train Loss: 0.2667, Train MSE: 0.2668, Train MAE: 0.3805\n",
      "Epoch 1000 - Validation Loss: 2.4639, Validation MSE: 2.4562, Validation MAE: 1.2274\n"
     ]
    },
    {
     "name": "stderr",
     "output_type": "stream",
     "text": [
      "Training Epoch 1002: 100%|██████████| 259/259 [00:11<00:00, 23.38it/s]\n",
      "Training Epoch 1003: 100%|██████████| 259/259 [00:10<00:00, 23.64it/s]\n",
      "Training Epoch 1004: 100%|██████████| 259/259 [00:11<00:00, 22.62it/s]\n",
      "Training Epoch 1005: 100%|██████████| 259/259 [00:11<00:00, 23.19it/s]\n",
      "Training Epoch 1006: 100%|██████████| 259/259 [00:11<00:00, 23.36it/s]\n",
      "Training Epoch 1007: 100%|██████████| 259/259 [00:10<00:00, 23.82it/s]\n",
      "Training Epoch 1008: 100%|██████████| 259/259 [00:10<00:00, 23.59it/s]\n",
      "Training Epoch 1009: 100%|██████████| 259/259 [00:11<00:00, 23.16it/s]\n",
      "Training Epoch 1010: 100%|██████████| 259/259 [00:11<00:00, 23.46it/s]\n",
      "Training Epoch 1011: 100%|██████████| 259/259 [00:10<00:00, 23.63it/s]\n"
     ]
    },
    {
     "name": "stdout",
     "output_type": "stream",
     "text": [
      "Epoch 1010 - Train Loss: 0.2504, Train MSE: 0.2505, Train MAE: 0.3691\n",
      "Epoch 1010 - Validation Loss: 2.4976, Validation MSE: 2.4914, Validation MAE: 1.2347\n"
     ]
    },
    {
     "name": "stderr",
     "output_type": "stream",
     "text": [
      "Training Epoch 1012: 100%|██████████| 259/259 [00:11<00:00, 23.51it/s]\n",
      "Training Epoch 1013: 100%|██████████| 259/259 [00:10<00:00, 23.59it/s]\n",
      "Training Epoch 1014: 100%|██████████| 259/259 [00:11<00:00, 23.04it/s]\n",
      "Training Epoch 1015: 100%|██████████| 259/259 [00:11<00:00, 23.40it/s]\n",
      "Training Epoch 1016: 100%|██████████| 259/259 [00:11<00:00, 23.46it/s]\n",
      "Training Epoch 1017: 100%|██████████| 259/259 [00:10<00:00, 23.60it/s]\n",
      "Training Epoch 1018: 100%|██████████| 259/259 [00:11<00:00, 23.33it/s]\n",
      "Training Epoch 1019: 100%|██████████| 259/259 [00:11<00:00, 23.15it/s]\n",
      "Training Epoch 1020: 100%|██████████| 259/259 [00:11<00:00, 23.46it/s]\n",
      "Training Epoch 1021: 100%|██████████| 259/259 [00:10<00:00, 23.65it/s]\n"
     ]
    },
    {
     "name": "stdout",
     "output_type": "stream",
     "text": [
      "Epoch 1020 - Train Loss: 0.2621, Train MSE: 0.2623, Train MAE: 0.3747\n",
      "Epoch 1020 - Validation Loss: 2.4898, Validation MSE: 2.4818, Validation MAE: 1.2380\n"
     ]
    },
    {
     "name": "stderr",
     "output_type": "stream",
     "text": [
      "Training Epoch 1022: 100%|██████████| 259/259 [00:11<00:00, 23.11it/s]\n",
      "Training Epoch 1023: 100%|██████████| 259/259 [00:10<00:00, 23.72it/s]\n",
      "Training Epoch 1024: 100%|██████████| 259/259 [00:11<00:00, 23.05it/s]\n",
      "Training Epoch 1025: 100%|██████████| 259/259 [00:11<00:00, 23.32it/s]\n",
      "Training Epoch 1026: 100%|██████████| 259/259 [00:11<00:00, 23.19it/s]\n",
      "Training Epoch 1027: 100%|██████████| 259/259 [00:11<00:00, 23.44it/s]\n",
      "Training Epoch 1028: 100%|██████████| 259/259 [00:10<00:00, 23.67it/s]\n",
      "Training Epoch 1029: 100%|██████████| 259/259 [00:11<00:00, 22.61it/s]\n",
      "Training Epoch 1030: 100%|██████████| 259/259 [00:11<00:00, 23.44it/s]\n",
      "Training Epoch 1031: 100%|██████████| 259/259 [00:11<00:00, 23.50it/s]\n"
     ]
    },
    {
     "name": "stdout",
     "output_type": "stream",
     "text": [
      "Epoch 1030 - Train Loss: 0.2616, Train MSE: 0.2617, Train MAE: 0.3723\n",
      "Epoch 1030 - Validation Loss: 2.4526, Validation MSE: 2.4453, Validation MAE: 1.2230\n"
     ]
    },
    {
     "name": "stderr",
     "output_type": "stream",
     "text": [
      "Training Epoch 1032: 100%|██████████| 259/259 [00:10<00:00, 23.67it/s]\n",
      "Training Epoch 1033: 100%|██████████| 259/259 [00:11<00:00, 23.54it/s]\n",
      "Training Epoch 1034: 100%|██████████| 259/259 [00:11<00:00, 22.34it/s]\n",
      "Training Epoch 1035: 100%|██████████| 259/259 [00:11<00:00, 23.45it/s]\n",
      "Training Epoch 1036: 100%|██████████| 259/259 [00:10<00:00, 23.59it/s]\n",
      "Training Epoch 1037: 100%|██████████| 259/259 [00:11<00:00, 23.52it/s]\n",
      "Training Epoch 1038: 100%|██████████| 259/259 [00:10<00:00, 23.57it/s]\n",
      "Training Epoch 1039: 100%|██████████| 259/259 [00:11<00:00, 22.91it/s]\n",
      "Training Epoch 1040: 100%|██████████| 259/259 [00:11<00:00, 23.22it/s]\n",
      "Training Epoch 1041: 100%|██████████| 259/259 [00:11<00:00, 23.48it/s]\n"
     ]
    },
    {
     "name": "stdout",
     "output_type": "stream",
     "text": [
      "Epoch 1040 - Train Loss: 0.2594, Train MSE: 0.2595, Train MAE: 0.3713\n",
      "Epoch 1040 - Validation Loss: 2.4386, Validation MSE: 2.4310, Validation MAE: 1.2139\n"
     ]
    },
    {
     "name": "stderr",
     "output_type": "stream",
     "text": [
      "Training Epoch 1042: 100%|██████████| 259/259 [00:10<00:00, 23.67it/s]\n",
      "Training Epoch 1043: 100%|██████████| 259/259 [00:11<00:00, 23.48it/s]\n",
      "Training Epoch 1044: 100%|██████████| 259/259 [00:11<00:00, 22.77it/s]\n",
      "Training Epoch 1045: 100%|██████████| 259/259 [00:11<00:00, 23.29it/s]\n",
      "Training Epoch 1046: 100%|██████████| 259/259 [00:10<00:00, 23.69it/s]\n",
      "Training Epoch 1047: 100%|██████████| 259/259 [00:11<00:00, 23.20it/s]\n",
      "Training Epoch 1048: 100%|██████████| 259/259 [00:11<00:00, 23.53it/s]\n",
      "Training Epoch 1049: 100%|██████████| 259/259 [00:11<00:00, 22.91it/s]\n",
      "Training Epoch 1050: 100%|██████████| 259/259 [00:10<00:00, 23.60it/s]\n",
      "Training Epoch 1051: 100%|██████████| 259/259 [00:11<00:00, 23.48it/s]\n"
     ]
    },
    {
     "name": "stdout",
     "output_type": "stream",
     "text": [
      "Epoch 1050 - Train Loss: 0.2735, Train MSE: 0.2737, Train MAE: 0.3822\n",
      "Epoch 1050 - Validation Loss: 2.4332, Validation MSE: 2.4247, Validation MAE: 1.2182\n"
     ]
    },
    {
     "name": "stderr",
     "output_type": "stream",
     "text": [
      "Training Epoch 1052: 100%|██████████| 259/259 [00:11<00:00, 23.49it/s]\n",
      "Training Epoch 1053: 100%|██████████| 259/259 [00:10<00:00, 23.76it/s]\n",
      "Training Epoch 1054: 100%|██████████| 259/259 [00:11<00:00, 23.10it/s]\n",
      "Training Epoch 1055: 100%|██████████| 259/259 [00:11<00:00, 23.44it/s]\n",
      "Training Epoch 1056: 100%|██████████| 259/259 [00:11<00:00, 23.38it/s]\n",
      "Training Epoch 1057: 100%|██████████| 259/259 [00:10<00:00, 23.65it/s]\n",
      "Training Epoch 1058: 100%|██████████| 259/259 [00:11<00:00, 23.37it/s]\n",
      "Training Epoch 1059: 100%|██████████| 259/259 [00:11<00:00, 23.02it/s]\n",
      "Training Epoch 1060: 100%|██████████| 259/259 [00:11<00:00, 23.46it/s]\n",
      "Training Epoch 1061: 100%|██████████| 259/259 [00:11<00:00, 23.51it/s]\n"
     ]
    },
    {
     "name": "stdout",
     "output_type": "stream",
     "text": [
      "Epoch 1060 - Train Loss: 0.2592, Train MSE: 0.2589, Train MAE: 0.3721\n",
      "Epoch 1060 - Validation Loss: 2.5299, Validation MSE: 2.5226, Validation MAE: 1.2382\n"
     ]
    },
    {
     "name": "stderr",
     "output_type": "stream",
     "text": [
      "Training Epoch 1062: 100%|██████████| 259/259 [00:10<00:00, 23.65it/s]\n",
      "Training Epoch 1063: 100%|██████████| 259/259 [00:11<00:00, 23.26it/s]\n",
      "Training Epoch 1064: 100%|██████████| 259/259 [00:11<00:00, 22.59it/s]\n",
      "Training Epoch 1065: 100%|██████████| 259/259 [00:11<00:00, 23.33it/s]\n",
      "Training Epoch 1066: 100%|██████████| 259/259 [00:10<00:00, 23.65it/s]\n",
      "Training Epoch 1067: 100%|██████████| 259/259 [00:10<00:00, 23.55it/s]\n",
      "Training Epoch 1068: 100%|██████████| 259/259 [00:11<00:00, 23.47it/s]\n",
      "Training Epoch 1069: 100%|██████████| 259/259 [00:11<00:00, 23.29it/s]\n",
      "Training Epoch 1070: 100%|██████████| 259/259 [00:11<00:00, 23.30it/s]\n",
      "Training Epoch 1071: 100%|██████████| 259/259 [00:10<00:00, 23.57it/s]\n"
     ]
    },
    {
     "name": "stdout",
     "output_type": "stream",
     "text": [
      "Epoch 1070 - Train Loss: 0.2610, Train MSE: 0.2608, Train MAE: 0.3743\n",
      "Epoch 1070 - Validation Loss: 2.3821, Validation MSE: 2.3738, Validation MAE: 1.2073\n"
     ]
    },
    {
     "name": "stderr",
     "output_type": "stream",
     "text": [
      "Training Epoch 1072: 100%|██████████| 259/259 [00:11<00:00, 23.40it/s]\n",
      "Training Epoch 1073: 100%|██████████| 259/259 [00:11<00:00, 23.46it/s]\n",
      "Training Epoch 1074: 100%|██████████| 259/259 [00:11<00:00, 23.22it/s]\n",
      "Training Epoch 1075: 100%|██████████| 259/259 [00:11<00:00, 23.15it/s]\n",
      "Training Epoch 1076: 100%|██████████| 259/259 [00:10<00:00, 23.75it/s]\n",
      "Training Epoch 1077: 100%|██████████| 259/259 [00:10<00:00, 23.80it/s]\n",
      "Training Epoch 1078: 100%|██████████| 259/259 [00:10<00:00, 23.59it/s]\n",
      "Training Epoch 1079: 100%|██████████| 259/259 [00:11<00:00, 23.41it/s]\n",
      "Training Epoch 1080: 100%|██████████| 259/259 [00:11<00:00, 23.52it/s]\n",
      "Training Epoch 1081: 100%|██████████| 259/259 [00:10<00:00, 23.55it/s]\n"
     ]
    },
    {
     "name": "stdout",
     "output_type": "stream",
     "text": [
      "Epoch 1080 - Train Loss: 0.2551, Train MSE: 0.2550, Train MAE: 0.3697\n",
      "Epoch 1080 - Validation Loss: 2.4517, Validation MSE: 2.4436, Validation MAE: 1.2244\n"
     ]
    },
    {
     "name": "stderr",
     "output_type": "stream",
     "text": [
      "Training Epoch 1082: 100%|██████████| 259/259 [00:11<00:00, 23.37it/s]\n",
      "Training Epoch 1083: 100%|██████████| 259/259 [00:11<00:00, 23.42it/s]\n",
      "Training Epoch 1084: 100%|██████████| 259/259 [00:11<00:00, 23.08it/s]\n",
      "Training Epoch 1085: 100%|██████████| 259/259 [00:11<00:00, 23.36it/s]\n",
      "Training Epoch 1086: 100%|██████████| 259/259 [00:11<00:00, 23.27it/s]\n",
      "Training Epoch 1087: 100%|██████████| 259/259 [00:10<00:00, 23.70it/s]\n",
      "Training Epoch 1088: 100%|██████████| 259/259 [00:11<00:00, 23.46it/s]\n",
      "Training Epoch 1089: 100%|██████████| 259/259 [00:11<00:00, 22.67it/s]\n",
      "Training Epoch 1090: 100%|██████████| 259/259 [00:11<00:00, 21.64it/s]\n",
      "Training Epoch 1091: 100%|██████████| 259/259 [00:10<00:00, 23.64it/s]\n"
     ]
    },
    {
     "name": "stdout",
     "output_type": "stream",
     "text": [
      "Epoch 1090 - Train Loss: 0.2588, Train MSE: 0.2586, Train MAE: 0.3715\n",
      "Epoch 1090 - Validation Loss: 2.4560, Validation MSE: 2.4469, Validation MAE: 1.2282\n"
     ]
    },
    {
     "name": "stderr",
     "output_type": "stream",
     "text": [
      "Training Epoch 1092: 100%|██████████| 259/259 [00:11<00:00, 23.36it/s]\n",
      "Training Epoch 1093: 100%|██████████| 259/259 [00:11<00:00, 23.36it/s]\n",
      "Training Epoch 1094: 100%|██████████| 259/259 [00:11<00:00, 22.68it/s]\n",
      "Training Epoch 1095: 100%|██████████| 259/259 [00:11<00:00, 23.47it/s]\n",
      "Training Epoch 1096: 100%|██████████| 259/259 [00:11<00:00, 23.20it/s]\n",
      "Training Epoch 1097: 100%|██████████| 259/259 [00:11<00:00, 23.37it/s]\n",
      "Training Epoch 1098: 100%|██████████| 259/259 [00:11<00:00, 23.36it/s]\n",
      "Training Epoch 1099: 100%|██████████| 259/259 [00:11<00:00, 23.27it/s]\n",
      "Training Epoch 1100: 100%|██████████| 259/259 [00:11<00:00, 22.85it/s]\n",
      "Training Epoch 1101: 100%|██████████| 259/259 [00:10<00:00, 23.55it/s]\n"
     ]
    },
    {
     "name": "stdout",
     "output_type": "stream",
     "text": [
      "Epoch 1100 - Train Loss: 0.2524, Train MSE: 0.2521, Train MAE: 0.3649\n",
      "Epoch 1100 - Validation Loss: 2.5292, Validation MSE: 2.5221, Validation MAE: 1.2423\n"
     ]
    },
    {
     "name": "stderr",
     "output_type": "stream",
     "text": [
      "Training Epoch 1102: 100%|██████████| 259/259 [00:10<00:00, 23.60it/s]\n",
      "Training Epoch 1103: 100%|██████████| 259/259 [00:11<00:00, 22.78it/s]\n",
      "Training Epoch 1104: 100%|██████████| 259/259 [00:11<00:00, 22.40it/s]\n",
      "Training Epoch 1105: 100%|██████████| 259/259 [00:11<00:00, 23.28it/s]\n",
      "Training Epoch 1106: 100%|██████████| 259/259 [00:11<00:00, 23.21it/s]\n",
      "Training Epoch 1107: 100%|██████████| 259/259 [00:11<00:00, 23.08it/s]\n",
      "Training Epoch 1108: 100%|██████████| 259/259 [00:11<00:00, 23.08it/s]\n",
      "Training Epoch 1109: 100%|██████████| 259/259 [00:11<00:00, 22.76it/s]\n",
      "Training Epoch 1110: 100%|██████████| 259/259 [00:11<00:00, 23.29it/s]\n",
      "Training Epoch 1111: 100%|██████████| 259/259 [00:11<00:00, 23.27it/s]\n"
     ]
    },
    {
     "name": "stdout",
     "output_type": "stream",
     "text": [
      "Epoch 1110 - Train Loss: 0.2461, Train MSE: 0.2460, Train MAE: 0.3631\n",
      "Epoch 1110 - Validation Loss: 2.5009, Validation MSE: 2.4928, Validation MAE: 1.2269\n"
     ]
    },
    {
     "name": "stderr",
     "output_type": "stream",
     "text": [
      "Training Epoch 1112: 100%|██████████| 259/259 [00:11<00:00, 23.42it/s]\n",
      "Training Epoch 1113: 100%|██████████| 259/259 [00:11<00:00, 22.96it/s]\n",
      "Training Epoch 1114: 100%|██████████| 259/259 [00:11<00:00, 23.44it/s]\n",
      "Training Epoch 1115: 100%|██████████| 259/259 [00:09<00:00, 26.98it/s]\n",
      "Training Epoch 1116: 100%|██████████| 259/259 [00:09<00:00, 27.26it/s]\n",
      "Training Epoch 1117: 100%|██████████| 259/259 [00:09<00:00, 26.78it/s]\n",
      "Training Epoch 1118: 100%|██████████| 259/259 [00:09<00:00, 26.52it/s]\n",
      "Training Epoch 1119: 100%|██████████| 259/259 [00:09<00:00, 26.91it/s]\n",
      "Training Epoch 1120: 100%|██████████| 259/259 [00:10<00:00, 25.87it/s]\n",
      "Training Epoch 1121: 100%|██████████| 259/259 [00:09<00:00, 26.92it/s]\n"
     ]
    },
    {
     "name": "stdout",
     "output_type": "stream",
     "text": [
      "Epoch 1120 - Train Loss: 0.2564, Train MSE: 0.2565, Train MAE: 0.3703\n",
      "Epoch 1120 - Validation Loss: 2.5668, Validation MSE: 2.5592, Validation MAE: 1.2551\n"
     ]
    },
    {
     "name": "stderr",
     "output_type": "stream",
     "text": [
      "Training Epoch 1122: 100%|██████████| 259/259 [00:09<00:00, 26.89it/s]\n",
      "Training Epoch 1123: 100%|██████████| 259/259 [00:09<00:00, 26.90it/s]\n",
      "Training Epoch 1124: 100%|██████████| 259/259 [00:09<00:00, 27.03it/s]\n",
      "Training Epoch 1125: 100%|██████████| 259/259 [00:09<00:00, 26.35it/s]\n",
      "Training Epoch 1126: 100%|██████████| 259/259 [00:09<00:00, 27.05it/s]\n",
      "Training Epoch 1127: 100%|██████████| 259/259 [00:09<00:00, 27.08it/s]\n",
      "Training Epoch 1128: 100%|██████████| 259/259 [00:09<00:00, 26.72it/s]\n",
      "Training Epoch 1129: 100%|██████████| 259/259 [00:09<00:00, 26.49it/s]\n",
      "Training Epoch 1130: 100%|██████████| 259/259 [00:09<00:00, 26.90it/s]\n",
      "Training Epoch 1131: 100%|██████████| 259/259 [00:09<00:00, 26.26it/s]\n"
     ]
    },
    {
     "name": "stdout",
     "output_type": "stream",
     "text": [
      "Epoch 1130 - Train Loss: 0.2545, Train MSE: 0.2545, Train MAE: 0.3726\n",
      "Epoch 1130 - Validation Loss: 2.4581, Validation MSE: 2.4507, Validation MAE: 1.2260\n"
     ]
    },
    {
     "name": "stderr",
     "output_type": "stream",
     "text": [
      "Training Epoch 1132: 100%|██████████| 259/259 [00:09<00:00, 26.73it/s]\n",
      "Training Epoch 1133: 100%|██████████| 259/259 [00:09<00:00, 26.79it/s]\n",
      "Training Epoch 1134: 100%|██████████| 259/259 [00:09<00:00, 27.25it/s]\n",
      "Training Epoch 1135: 100%|██████████| 259/259 [00:09<00:00, 26.94it/s]\n",
      "Training Epoch 1136: 100%|██████████| 259/259 [00:09<00:00, 26.85it/s]\n",
      "Training Epoch 1137: 100%|██████████| 259/259 [00:09<00:00, 26.27it/s]\n",
      "Training Epoch 1138: 100%|██████████| 259/259 [00:09<00:00, 27.26it/s]\n",
      "Training Epoch 1139: 100%|██████████| 259/259 [00:09<00:00, 26.99it/s]\n",
      "Training Epoch 1140: 100%|██████████| 259/259 [00:09<00:00, 26.90it/s]\n",
      "Training Epoch 1141: 100%|██████████| 259/259 [00:09<00:00, 27.05it/s]\n"
     ]
    },
    {
     "name": "stdout",
     "output_type": "stream",
     "text": [
      "Epoch 1140 - Train Loss: 0.2542, Train MSE: 0.2540, Train MAE: 0.3689\n",
      "Epoch 1140 - Validation Loss: 2.5054, Validation MSE: 2.4975, Validation MAE: 1.2340\n"
     ]
    },
    {
     "name": "stderr",
     "output_type": "stream",
     "text": [
      "Training Epoch 1142: 100%|██████████| 259/259 [00:09<00:00, 26.72it/s]\n",
      "Training Epoch 1143: 100%|██████████| 259/259 [00:09<00:00, 25.99it/s]\n",
      "Training Epoch 1144: 100%|██████████| 259/259 [00:09<00:00, 26.65it/s]\n",
      "Training Epoch 1145: 100%|██████████| 259/259 [00:09<00:00, 26.60it/s]\n",
      "Training Epoch 1146: 100%|██████████| 259/259 [00:09<00:00, 26.95it/s]\n",
      "Training Epoch 1147: 100%|██████████| 259/259 [00:09<00:00, 26.94it/s]\n",
      "Training Epoch 1148: 100%|██████████| 259/259 [00:09<00:00, 26.99it/s]\n",
      "Training Epoch 1149: 100%|██████████| 259/259 [00:09<00:00, 26.77it/s]\n",
      "Training Epoch 1150: 100%|██████████| 259/259 [00:09<00:00, 26.98it/s]\n",
      "Training Epoch 1151: 100%|██████████| 259/259 [00:09<00:00, 26.98it/s]\n"
     ]
    },
    {
     "name": "stdout",
     "output_type": "stream",
     "text": [
      "Epoch 1150 - Train Loss: 0.2447, Train MSE: 0.2447, Train MAE: 0.3612\n",
      "Epoch 1150 - Validation Loss: 2.4729, Validation MSE: 2.4653, Validation MAE: 1.2268\n"
     ]
    },
    {
     "name": "stderr",
     "output_type": "stream",
     "text": [
      "Training Epoch 1152: 100%|██████████| 259/259 [00:09<00:00, 27.22it/s]\n",
      "Training Epoch 1153: 100%|██████████| 259/259 [00:09<00:00, 26.92it/s]\n",
      "Training Epoch 1154: 100%|██████████| 259/259 [00:09<00:00, 26.54it/s]\n",
      "Training Epoch 1155: 100%|██████████| 259/259 [00:09<00:00, 27.38it/s]\n",
      "Training Epoch 1156: 100%|██████████| 259/259 [00:09<00:00, 27.12it/s]\n",
      "Training Epoch 1157: 100%|██████████| 259/259 [00:09<00:00, 26.65it/s]\n",
      "Training Epoch 1158: 100%|██████████| 259/259 [00:09<00:00, 26.90it/s]\n",
      "Training Epoch 1159: 100%|██████████| 259/259 [00:09<00:00, 27.12it/s]\n",
      "Training Epoch 1160: 100%|██████████| 259/259 [00:10<00:00, 25.56it/s]\n",
      "Training Epoch 1161: 100%|██████████| 259/259 [00:09<00:00, 26.58it/s]\n"
     ]
    },
    {
     "name": "stdout",
     "output_type": "stream",
     "text": [
      "Epoch 1160 - Train Loss: 0.2457, Train MSE: 0.2460, Train MAE: 0.3632\n",
      "Epoch 1160 - Validation Loss: 2.5042, Validation MSE: 2.4957, Validation MAE: 1.2392\n"
     ]
    },
    {
     "name": "stderr",
     "output_type": "stream",
     "text": [
      "Training Epoch 1162: 100%|██████████| 259/259 [00:09<00:00, 27.08it/s]\n",
      "Training Epoch 1163: 100%|██████████| 259/259 [00:09<00:00, 26.38it/s]\n",
      "Training Epoch 1164: 100%|██████████| 259/259 [00:09<00:00, 27.01it/s]\n",
      "Training Epoch 1165: 100%|██████████| 259/259 [00:09<00:00, 26.88it/s]\n",
      "Training Epoch 1166: 100%|██████████| 259/259 [00:09<00:00, 26.14it/s]\n",
      "Training Epoch 1167: 100%|██████████| 259/259 [00:09<00:00, 26.31it/s]\n",
      "Training Epoch 1168: 100%|██████████| 259/259 [00:09<00:00, 26.95it/s]\n",
      "Training Epoch 1169: 100%|██████████| 259/259 [00:09<00:00, 27.04it/s]\n",
      "Training Epoch 1170: 100%|██████████| 259/259 [00:09<00:00, 27.10it/s]\n",
      "Training Epoch 1171: 100%|██████████| 259/259 [00:09<00:00, 25.97it/s]\n"
     ]
    },
    {
     "name": "stdout",
     "output_type": "stream",
     "text": [
      "Epoch 1170 - Train Loss: 0.2612, Train MSE: 0.2610, Train MAE: 0.3735\n",
      "Epoch 1170 - Validation Loss: 2.4677, Validation MSE: 2.4613, Validation MAE: 1.2291\n"
     ]
    },
    {
     "name": "stderr",
     "output_type": "stream",
     "text": [
      "Training Epoch 1172: 100%|██████████| 259/259 [00:09<00:00, 27.10it/s]\n",
      "Training Epoch 1173: 100%|██████████| 259/259 [00:09<00:00, 26.60it/s]\n",
      "Training Epoch 1174: 100%|██████████| 259/259 [00:09<00:00, 26.78it/s]\n",
      "Training Epoch 1175: 100%|██████████| 259/259 [00:09<00:00, 27.18it/s]\n",
      "Training Epoch 1176: 100%|██████████| 259/259 [00:09<00:00, 26.93it/s]\n",
      "Training Epoch 1177: 100%|██████████| 259/259 [00:09<00:00, 26.26it/s]\n",
      "Training Epoch 1178: 100%|██████████| 259/259 [00:09<00:00, 26.86it/s]\n",
      "Training Epoch 1179: 100%|██████████| 259/259 [00:09<00:00, 25.98it/s]\n",
      "Training Epoch 1180: 100%|██████████| 259/259 [00:09<00:00, 27.40it/s]\n",
      "Training Epoch 1181: 100%|██████████| 259/259 [00:09<00:00, 26.87it/s]\n"
     ]
    },
    {
     "name": "stdout",
     "output_type": "stream",
     "text": [
      "Epoch 1180 - Train Loss: 0.2411, Train MSE: 0.2411, Train MAE: 0.3601\n",
      "Epoch 1180 - Validation Loss: 2.5070, Validation MSE: 2.4990, Validation MAE: 1.2370\n"
     ]
    },
    {
     "name": "stderr",
     "output_type": "stream",
     "text": [
      "Training Epoch 1182: 100%|██████████| 259/259 [00:09<00:00, 27.40it/s]\n",
      "Training Epoch 1183: 100%|██████████| 259/259 [00:09<00:00, 25.90it/s]\n",
      "Training Epoch 1184: 100%|██████████| 259/259 [00:09<00:00, 27.18it/s]\n",
      "Training Epoch 1185: 100%|██████████| 259/259 [00:09<00:00, 27.14it/s]\n",
      "Training Epoch 1186: 100%|██████████| 259/259 [00:09<00:00, 26.78it/s]\n",
      "Training Epoch 1187: 100%|██████████| 259/259 [00:09<00:00, 27.40it/s]\n",
      "Training Epoch 1188: 100%|██████████| 259/259 [00:09<00:00, 27.11it/s]\n",
      "Training Epoch 1189: 100%|██████████| 259/259 [00:09<00:00, 26.66it/s]\n",
      "Training Epoch 1190: 100%|██████████| 259/259 [00:09<00:00, 26.59it/s]\n",
      "Training Epoch 1191: 100%|██████████| 259/259 [00:09<00:00, 27.16it/s]\n"
     ]
    },
    {
     "name": "stdout",
     "output_type": "stream",
     "text": [
      "Epoch 1190 - Train Loss: 0.2492, Train MSE: 0.2491, Train MAE: 0.3670\n",
      "Epoch 1190 - Validation Loss: 2.5181, Validation MSE: 2.5106, Validation MAE: 1.2346\n"
     ]
    },
    {
     "name": "stderr",
     "output_type": "stream",
     "text": [
      "Training Epoch 1192: 100%|██████████| 259/259 [00:09<00:00, 27.08it/s]\n",
      "Training Epoch 1193: 100%|██████████| 259/259 [00:09<00:00, 26.90it/s]\n",
      "Training Epoch 1194: 100%|██████████| 259/259 [00:09<00:00, 26.55it/s]\n",
      "Training Epoch 1195: 100%|██████████| 259/259 [00:09<00:00, 25.90it/s]\n",
      "Training Epoch 1196: 100%|██████████| 259/259 [00:09<00:00, 26.49it/s]\n",
      "Training Epoch 1197: 100%|██████████| 259/259 [00:09<00:00, 26.80it/s]\n",
      "Training Epoch 1198: 100%|██████████| 259/259 [00:09<00:00, 26.92it/s]\n",
      "Training Epoch 1199: 100%|██████████| 259/259 [00:09<00:00, 26.82it/s]\n",
      "Training Epoch 1200: 100%|██████████| 259/259 [00:09<00:00, 26.34it/s]\n",
      "Training Epoch 1201: 100%|██████████| 259/259 [00:09<00:00, 27.11it/s]\n"
     ]
    },
    {
     "name": "stdout",
     "output_type": "stream",
     "text": [
      "Epoch 1200 - Train Loss: 0.2487, Train MSE: 0.2489, Train MAE: 0.3655\n",
      "Epoch 1200 - Validation Loss: 2.4929, Validation MSE: 2.4848, Validation MAE: 1.2345\n"
     ]
    },
    {
     "name": "stderr",
     "output_type": "stream",
     "text": [
      "Training Epoch 1202: 100%|██████████| 259/259 [00:09<00:00, 26.50it/s]\n",
      "Training Epoch 1203: 100%|██████████| 259/259 [00:09<00:00, 26.99it/s]\n",
      "Training Epoch 1204: 100%|██████████| 259/259 [00:09<00:00, 26.83it/s]\n",
      "Training Epoch 1205: 100%|██████████| 259/259 [00:09<00:00, 27.21it/s]\n",
      "Training Epoch 1206: 100%|██████████| 259/259 [00:10<00:00, 25.88it/s]\n",
      "Training Epoch 1207: 100%|██████████| 259/259 [00:09<00:00, 26.67it/s]\n",
      "Training Epoch 1208: 100%|██████████| 259/259 [00:09<00:00, 27.06it/s]\n",
      "Training Epoch 1209: 100%|██████████| 259/259 [00:09<00:00, 26.94it/s]\n",
      "Training Epoch 1210: 100%|██████████| 259/259 [00:09<00:00, 26.97it/s]\n",
      "Training Epoch 1211: 100%|██████████| 259/259 [00:09<00:00, 26.32it/s]\n"
     ]
    },
    {
     "name": "stdout",
     "output_type": "stream",
     "text": [
      "Epoch 1210 - Train Loss: 0.2504, Train MSE: 0.2505, Train MAE: 0.3653\n",
      "Epoch 1210 - Validation Loss: 2.5359, Validation MSE: 2.5284, Validation MAE: 1.2471\n"
     ]
    },
    {
     "name": "stderr",
     "output_type": "stream",
     "text": [
      "Training Epoch 1212: 100%|██████████| 259/259 [00:09<00:00, 26.83it/s]\n",
      "Training Epoch 1213: 100%|██████████| 259/259 [00:09<00:00, 27.16it/s]\n",
      "Training Epoch 1214: 100%|██████████| 259/259 [00:09<00:00, 26.42it/s]\n",
      "Training Epoch 1215: 100%|██████████| 259/259 [00:09<00:00, 26.94it/s]\n",
      "Training Epoch 1216: 100%|██████████| 259/259 [00:09<00:00, 27.37it/s]\n",
      "Training Epoch 1217: 100%|██████████| 259/259 [00:09<00:00, 26.36it/s]\n",
      "Training Epoch 1218: 100%|██████████| 259/259 [00:09<00:00, 26.40it/s]\n",
      "Training Epoch 1219: 100%|██████████| 259/259 [00:09<00:00, 27.43it/s]\n",
      "Training Epoch 1220: 100%|██████████| 259/259 [00:09<00:00, 26.45it/s]\n",
      "Training Epoch 1221: 100%|██████████| 259/259 [00:09<00:00, 26.62it/s]\n"
     ]
    },
    {
     "name": "stdout",
     "output_type": "stream",
     "text": [
      "Epoch 1220 - Train Loss: 0.2503, Train MSE: 0.2502, Train MAE: 0.3638\n",
      "Epoch 1220 - Validation Loss: 2.5073, Validation MSE: 2.4982, Validation MAE: 1.2341\n"
     ]
    },
    {
     "name": "stderr",
     "output_type": "stream",
     "text": [
      "Training Epoch 1222: 100%|██████████| 259/259 [00:09<00:00, 26.95it/s]\n",
      "Training Epoch 1223: 100%|██████████| 259/259 [00:09<00:00, 26.67it/s]\n",
      "Training Epoch 1224: 100%|██████████| 259/259 [00:09<00:00, 26.54it/s]\n",
      "Training Epoch 1225: 100%|██████████| 259/259 [00:09<00:00, 26.95it/s]\n",
      "Training Epoch 1226: 100%|██████████| 259/259 [00:09<00:00, 27.11it/s]\n",
      "Training Epoch 1227: 100%|██████████| 259/259 [00:09<00:00, 26.70it/s]\n",
      "Training Epoch 1228: 100%|██████████| 259/259 [00:09<00:00, 27.04it/s]\n",
      "Training Epoch 1229: 100%|██████████| 259/259 [00:10<00:00, 25.81it/s]\n",
      "Training Epoch 1230: 100%|██████████| 259/259 [00:09<00:00, 27.01it/s]\n",
      "Training Epoch 1231: 100%|██████████| 259/259 [00:09<00:00, 27.00it/s]\n"
     ]
    },
    {
     "name": "stdout",
     "output_type": "stream",
     "text": [
      "Epoch 1230 - Train Loss: 0.2496, Train MSE: 0.2494, Train MAE: 0.3648\n",
      "Epoch 1230 - Validation Loss: 2.4177, Validation MSE: 2.4096, Validation MAE: 1.2148\n"
     ]
    },
    {
     "name": "stderr",
     "output_type": "stream",
     "text": [
      "Training Epoch 1232: 100%|██████████| 259/259 [00:09<00:00, 26.88it/s]\n",
      "Training Epoch 1233: 100%|██████████| 259/259 [00:09<00:00, 26.83it/s]\n",
      "Training Epoch 1234: 100%|██████████| 259/259 [00:09<00:00, 26.63it/s]\n",
      "Training Epoch 1235: 100%|██████████| 259/259 [00:09<00:00, 26.79it/s]\n",
      "Training Epoch 1236: 100%|██████████| 259/259 [00:09<00:00, 26.18it/s]\n",
      "Training Epoch 1237: 100%|██████████| 259/259 [00:09<00:00, 27.29it/s]\n",
      "Training Epoch 1238: 100%|██████████| 259/259 [00:09<00:00, 26.73it/s]\n",
      "Training Epoch 1239: 100%|██████████| 259/259 [00:09<00:00, 26.98it/s]\n",
      "Training Epoch 1240: 100%|██████████| 259/259 [00:09<00:00, 26.62it/s]\n",
      "Training Epoch 1241: 100%|██████████| 259/259 [00:09<00:00, 27.12it/s]\n"
     ]
    },
    {
     "name": "stdout",
     "output_type": "stream",
     "text": [
      "Epoch 1240 - Train Loss: 0.2367, Train MSE: 0.2367, Train MAE: 0.3565\n",
      "Epoch 1240 - Validation Loss: 2.5207, Validation MSE: 2.5125, Validation MAE: 1.2374\n"
     ]
    },
    {
     "name": "stderr",
     "output_type": "stream",
     "text": [
      "Training Epoch 1242: 100%|██████████| 259/259 [00:09<00:00, 27.05it/s]\n",
      "Training Epoch 1243: 100%|██████████| 259/259 [00:09<00:00, 26.93it/s]\n",
      "Training Epoch 1244: 100%|██████████| 259/259 [00:09<00:00, 27.25it/s]\n",
      "Training Epoch 1245: 100%|██████████| 259/259 [00:09<00:00, 27.09it/s]\n",
      "Training Epoch 1246: 100%|██████████| 259/259 [00:09<00:00, 25.99it/s]\n",
      "Training Epoch 1247: 100%|██████████| 259/259 [00:09<00:00, 27.03it/s]\n",
      "Training Epoch 1248: 100%|██████████| 259/259 [00:09<00:00, 27.27it/s]\n",
      "Training Epoch 1249: 100%|██████████| 259/259 [00:09<00:00, 26.73it/s]\n",
      "Training Epoch 1250: 100%|██████████| 259/259 [00:09<00:00, 26.19it/s]\n",
      "Training Epoch 1251: 100%|██████████| 259/259 [00:09<00:00, 27.15it/s]\n"
     ]
    },
    {
     "name": "stdout",
     "output_type": "stream",
     "text": [
      "Epoch 1250 - Train Loss: 0.2399, Train MSE: 0.2401, Train MAE: 0.3602\n",
      "Epoch 1250 - Validation Loss: 2.4940, Validation MSE: 2.4864, Validation MAE: 1.2318\n"
     ]
    },
    {
     "name": "stderr",
     "output_type": "stream",
     "text": [
      "Training Epoch 1252: 100%|██████████| 259/259 [00:09<00:00, 26.33it/s]\n",
      "Training Epoch 1253: 100%|██████████| 259/259 [00:09<00:00, 26.30it/s]\n",
      "Training Epoch 1254: 100%|██████████| 259/259 [00:09<00:00, 26.97it/s]\n",
      "Training Epoch 1255: 100%|██████████| 259/259 [00:09<00:00, 27.05it/s]\n",
      "Training Epoch 1256: 100%|██████████| 259/259 [00:09<00:00, 26.80it/s]\n",
      "Training Epoch 1257: 100%|██████████| 259/259 [00:09<00:00, 26.46it/s]\n",
      "Training Epoch 1258: 100%|██████████| 259/259 [00:09<00:00, 26.76it/s]\n",
      "Training Epoch 1259: 100%|██████████| 259/259 [00:09<00:00, 26.61it/s]\n",
      "Training Epoch 1260: 100%|██████████| 259/259 [00:09<00:00, 26.85it/s]\n",
      "Training Epoch 1261: 100%|██████████| 259/259 [00:09<00:00, 26.60it/s]\n"
     ]
    },
    {
     "name": "stdout",
     "output_type": "stream",
     "text": [
      "Epoch 1260 - Train Loss: 0.2537, Train MSE: 0.2537, Train MAE: 0.3675\n",
      "Epoch 1260 - Validation Loss: 2.4832, Validation MSE: 2.4758, Validation MAE: 1.2266\n"
     ]
    },
    {
     "name": "stderr",
     "output_type": "stream",
     "text": [
      "Training Epoch 1262: 100%|██████████| 259/259 [00:09<00:00, 27.09it/s]\n",
      "Training Epoch 1263: 100%|██████████| 259/259 [00:09<00:00, 26.22it/s]\n",
      "Training Epoch 1264: 100%|██████████| 259/259 [00:09<00:00, 26.81it/s]\n",
      "Training Epoch 1265: 100%|██████████| 259/259 [00:09<00:00, 26.27it/s]\n",
      "Training Epoch 1266: 100%|██████████| 259/259 [00:09<00:00, 26.88it/s]\n",
      "Training Epoch 1267: 100%|██████████| 259/259 [00:09<00:00, 26.97it/s]\n",
      "Training Epoch 1268: 100%|██████████| 259/259 [00:09<00:00, 26.70it/s]\n",
      "Training Epoch 1269: 100%|██████████| 259/259 [00:09<00:00, 26.07it/s]\n",
      "Training Epoch 1270: 100%|██████████| 259/259 [00:09<00:00, 26.82it/s]\n",
      "Training Epoch 1271: 100%|██████████| 259/259 [00:09<00:00, 27.21it/s]\n"
     ]
    },
    {
     "name": "stdout",
     "output_type": "stream",
     "text": [
      "Epoch 1270 - Train Loss: 0.2404, Train MSE: 0.2400, Train MAE: 0.3582\n",
      "Epoch 1270 - Validation Loss: 2.4699, Validation MSE: 2.4623, Validation MAE: 1.2274\n"
     ]
    },
    {
     "name": "stderr",
     "output_type": "stream",
     "text": [
      "Training Epoch 1272: 100%|██████████| 259/259 [00:09<00:00, 26.59it/s]\n",
      "Training Epoch 1273: 100%|██████████| 259/259 [00:09<00:00, 26.30it/s]\n",
      "Training Epoch 1274: 100%|██████████| 259/259 [00:09<00:00, 26.27it/s]\n",
      "Training Epoch 1275: 100%|██████████| 259/259 [00:09<00:00, 26.34it/s]\n",
      "Training Epoch 1276: 100%|██████████| 259/259 [00:09<00:00, 26.80it/s]\n",
      "Training Epoch 1277: 100%|██████████| 259/259 [00:09<00:00, 27.09it/s]\n",
      "Training Epoch 1278: 100%|██████████| 259/259 [00:09<00:00, 26.99it/s]\n",
      "Training Epoch 1279: 100%|██████████| 259/259 [00:09<00:00, 27.25it/s]\n",
      "Training Epoch 1280: 100%|██████████| 259/259 [00:09<00:00, 25.96it/s]\n",
      "Training Epoch 1281: 100%|██████████| 259/259 [00:09<00:00, 26.69it/s]\n"
     ]
    },
    {
     "name": "stdout",
     "output_type": "stream",
     "text": [
      "Epoch 1280 - Train Loss: 0.2414, Train MSE: 0.2412, Train MAE: 0.3593\n",
      "Epoch 1280 - Validation Loss: 2.5616, Validation MSE: 2.5540, Validation MAE: 1.2517\n"
     ]
    },
    {
     "name": "stderr",
     "output_type": "stream",
     "text": [
      "Training Epoch 1282: 100%|██████████| 259/259 [00:09<00:00, 26.80it/s]\n",
      "Training Epoch 1283: 100%|██████████| 259/259 [00:09<00:00, 28.57it/s]\n",
      "Training Epoch 1284: 100%|██████████| 259/259 [00:08<00:00, 29.61it/s]\n",
      "Training Epoch 1285: 100%|██████████| 259/259 [00:08<00:00, 29.85it/s]\n",
      "Training Epoch 1286: 100%|██████████| 259/259 [00:09<00:00, 28.76it/s]\n",
      "Training Epoch 1287: 100%|██████████| 259/259 [00:08<00:00, 29.68it/s]\n",
      "Training Epoch 1288: 100%|██████████| 259/259 [00:08<00:00, 29.97it/s]\n",
      "Training Epoch 1289: 100%|██████████| 259/259 [00:08<00:00, 29.40it/s]\n",
      "Training Epoch 1290: 100%|██████████| 259/259 [00:08<00:00, 30.01it/s]\n",
      "Training Epoch 1291: 100%|██████████| 259/259 [00:08<00:00, 29.98it/s]\n"
     ]
    },
    {
     "name": "stdout",
     "output_type": "stream",
     "text": [
      "Epoch 1290 - Train Loss: 0.2448, Train MSE: 0.2450, Train MAE: 0.3626\n",
      "Epoch 1290 - Validation Loss: 2.4524, Validation MSE: 2.4446, Validation MAE: 1.2254\n"
     ]
    },
    {
     "name": "stderr",
     "output_type": "stream",
     "text": [
      "Training Epoch 1292: 100%|██████████| 259/259 [00:08<00:00, 29.80it/s]\n",
      "Training Epoch 1293: 100%|██████████| 259/259 [00:08<00:00, 29.58it/s]\n",
      "Training Epoch 1294: 100%|██████████| 259/259 [00:08<00:00, 29.54it/s]\n",
      "Training Epoch 1295: 100%|██████████| 259/259 [00:08<00:00, 30.24it/s]\n",
      "Training Epoch 1296: 100%|██████████| 259/259 [00:08<00:00, 29.84it/s]\n",
      "Training Epoch 1297: 100%|██████████| 259/259 [00:08<00:00, 29.06it/s]\n",
      "Training Epoch 1298: 100%|██████████| 259/259 [00:08<00:00, 30.17it/s]\n",
      "Training Epoch 1299: 100%|██████████| 259/259 [00:08<00:00, 29.34it/s]\n",
      "Training Epoch 1300: 100%|██████████| 259/259 [00:08<00:00, 29.80it/s]\n",
      "Training Epoch 1301: 100%|██████████| 259/259 [00:08<00:00, 29.59it/s]\n"
     ]
    },
    {
     "name": "stdout",
     "output_type": "stream",
     "text": [
      "Epoch 1300 - Train Loss: 0.2360, Train MSE: 0.2351, Train MAE: 0.3521\n",
      "Epoch 1300 - Validation Loss: 2.4540, Validation MSE: 2.4451, Validation MAE: 1.2267\n"
     ]
    },
    {
     "name": "stderr",
     "output_type": "stream",
     "text": [
      "Training Epoch 1302: 100%|██████████| 259/259 [00:08<00:00, 29.96it/s]\n",
      "Training Epoch 1303: 100%|██████████| 259/259 [00:08<00:00, 29.02it/s]\n",
      "Training Epoch 1304: 100%|██████████| 259/259 [00:08<00:00, 29.50it/s]\n",
      "Training Epoch 1305: 100%|██████████| 259/259 [00:08<00:00, 29.55it/s]\n",
      "Training Epoch 1306: 100%|██████████| 259/259 [00:08<00:00, 29.33it/s]\n",
      "Training Epoch 1307: 100%|██████████| 259/259 [00:08<00:00, 29.55it/s]\n",
      "Training Epoch 1308: 100%|██████████| 259/259 [00:08<00:00, 29.80it/s]\n",
      "Training Epoch 1309: 100%|██████████| 259/259 [00:08<00:00, 29.43it/s]\n",
      "Training Epoch 1310: 100%|██████████| 259/259 [00:08<00:00, 29.75it/s]\n",
      "Training Epoch 1311: 100%|██████████| 259/259 [00:08<00:00, 29.93it/s]\n"
     ]
    },
    {
     "name": "stdout",
     "output_type": "stream",
     "text": [
      "Epoch 1310 - Train Loss: 0.2452, Train MSE: 0.2454, Train MAE: 0.3625\n",
      "Epoch 1310 - Validation Loss: 2.4820, Validation MSE: 2.4741, Validation MAE: 1.2307\n"
     ]
    },
    {
     "name": "stderr",
     "output_type": "stream",
     "text": [
      "Training Epoch 1312: 100%|██████████| 259/259 [00:08<00:00, 29.87it/s]\n",
      "Training Epoch 1313: 100%|██████████| 259/259 [00:08<00:00, 29.83it/s]\n",
      "Training Epoch 1314: 100%|██████████| 259/259 [00:08<00:00, 30.03it/s]\n",
      "Training Epoch 1315: 100%|██████████| 259/259 [00:08<00:00, 30.01it/s]\n",
      "Training Epoch 1316: 100%|██████████| 259/259 [00:08<00:00, 29.47it/s]\n",
      "Training Epoch 1317: 100%|██████████| 259/259 [00:08<00:00, 29.82it/s]\n",
      "Training Epoch 1318: 100%|██████████| 259/259 [00:09<00:00, 28.63it/s]\n",
      "Training Epoch 1319: 100%|██████████| 259/259 [00:08<00:00, 30.09it/s]\n",
      "Training Epoch 1320: 100%|██████████| 259/259 [00:08<00:00, 29.77it/s]\n",
      "Training Epoch 1321: 100%|██████████| 259/259 [00:08<00:00, 29.36it/s]\n"
     ]
    },
    {
     "name": "stdout",
     "output_type": "stream",
     "text": [
      "Epoch 1320 - Train Loss: 0.2470, Train MSE: 0.2469, Train MAE: 0.3629\n",
      "Epoch 1320 - Validation Loss: 2.4570, Validation MSE: 2.4480, Validation MAE: 1.2259\n"
     ]
    },
    {
     "name": "stderr",
     "output_type": "stream",
     "text": [
      "Training Epoch 1322: 100%|██████████| 259/259 [00:08<00:00, 30.08it/s]\n",
      "Training Epoch 1323: 100%|██████████| 259/259 [00:08<00:00, 29.91it/s]\n",
      "Training Epoch 1324: 100%|██████████| 259/259 [00:08<00:00, 28.98it/s]\n",
      "Training Epoch 1325: 100%|██████████| 259/259 [00:08<00:00, 29.27it/s]\n",
      "Training Epoch 1326: 100%|██████████| 259/259 [00:08<00:00, 29.68it/s]\n",
      "Training Epoch 1327: 100%|██████████| 259/259 [00:08<00:00, 29.78it/s]\n",
      "Training Epoch 1328: 100%|██████████| 259/259 [00:08<00:00, 29.42it/s]\n",
      "Training Epoch 1329: 100%|██████████| 259/259 [00:08<00:00, 29.71it/s]\n",
      "Training Epoch 1330: 100%|██████████| 259/259 [00:08<00:00, 29.47it/s]\n",
      "Training Epoch 1331: 100%|██████████| 259/259 [00:08<00:00, 29.79it/s]\n"
     ]
    },
    {
     "name": "stdout",
     "output_type": "stream",
     "text": [
      "Epoch 1330 - Train Loss: 0.2357, Train MSE: 0.2359, Train MAE: 0.3578\n",
      "Epoch 1330 - Validation Loss: 2.4757, Validation MSE: 2.4672, Validation MAE: 1.2292\n"
     ]
    },
    {
     "name": "stderr",
     "output_type": "stream",
     "text": [
      "Training Epoch 1332: 100%|██████████| 259/259 [00:08<00:00, 29.55it/s]\n",
      "Training Epoch 1333: 100%|██████████| 259/259 [00:08<00:00, 29.98it/s]\n",
      "Training Epoch 1334: 100%|██████████| 259/259 [00:08<00:00, 29.26it/s]\n",
      "Training Epoch 1335: 100%|██████████| 259/259 [00:08<00:00, 29.94it/s]\n",
      "Training Epoch 1336: 100%|██████████| 259/259 [00:08<00:00, 29.81it/s]\n",
      "Training Epoch 1337: 100%|██████████| 259/259 [00:08<00:00, 28.92it/s]\n",
      "Training Epoch 1338: 100%|██████████| 259/259 [00:08<00:00, 29.52it/s]\n",
      "Training Epoch 1339: 100%|██████████| 259/259 [00:08<00:00, 29.96it/s]\n",
      "Training Epoch 1340: 100%|██████████| 259/259 [00:08<00:00, 30.21it/s]\n",
      "Training Epoch 1341: 100%|██████████| 259/259 [00:08<00:00, 29.68it/s]\n"
     ]
    },
    {
     "name": "stdout",
     "output_type": "stream",
     "text": [
      "Epoch 1340 - Train Loss: 0.2356, Train MSE: 0.2357, Train MAE: 0.3552\n",
      "Epoch 1340 - Validation Loss: 2.4842, Validation MSE: 2.4758, Validation MAE: 1.2280\n"
     ]
    },
    {
     "name": "stderr",
     "output_type": "stream",
     "text": [
      "Training Epoch 1342: 100%|██████████| 259/259 [00:08<00:00, 29.71it/s]\n",
      "Training Epoch 1343: 100%|██████████| 259/259 [00:08<00:00, 29.01it/s]\n",
      "Training Epoch 1344: 100%|██████████| 259/259 [00:08<00:00, 29.53it/s]\n",
      "Training Epoch 1345: 100%|██████████| 259/259 [00:08<00:00, 29.68it/s]\n",
      "Training Epoch 1346: 100%|██████████| 259/259 [00:08<00:00, 29.69it/s]\n",
      "Training Epoch 1347: 100%|██████████| 259/259 [00:08<00:00, 29.81it/s]\n",
      "Training Epoch 1348: 100%|██████████| 259/259 [00:08<00:00, 29.75it/s]\n",
      "Training Epoch 1349: 100%|██████████| 259/259 [00:09<00:00, 28.67it/s]\n",
      "Training Epoch 1350: 100%|██████████| 259/259 [00:08<00:00, 29.91it/s]\n",
      "Training Epoch 1351: 100%|██████████| 259/259 [00:08<00:00, 29.82it/s]\n"
     ]
    },
    {
     "name": "stdout",
     "output_type": "stream",
     "text": [
      "Epoch 1350 - Train Loss: 0.2367, Train MSE: 0.2366, Train MAE: 0.3542\n",
      "Epoch 1350 - Validation Loss: 2.4595, Validation MSE: 2.4503, Validation MAE: 1.2244\n"
     ]
    },
    {
     "name": "stderr",
     "output_type": "stream",
     "text": [
      "Training Epoch 1352: 100%|██████████| 259/259 [00:08<00:00, 29.94it/s]\n",
      "Training Epoch 1353: 100%|██████████| 259/259 [00:08<00:00, 30.07it/s]\n",
      "Training Epoch 1354: 100%|██████████| 259/259 [00:08<00:00, 29.89it/s]\n",
      "Training Epoch 1355: 100%|██████████| 259/259 [00:08<00:00, 29.58it/s]\n",
      "Training Epoch 1356: 100%|██████████| 259/259 [00:08<00:00, 28.78it/s]\n",
      "Training Epoch 1357: 100%|██████████| 259/259 [00:08<00:00, 29.72it/s]\n",
      "Training Epoch 1358: 100%|██████████| 259/259 [00:08<00:00, 30.03it/s]\n",
      "Training Epoch 1359: 100%|██████████| 259/259 [00:08<00:00, 29.88it/s]\n",
      "Training Epoch 1360: 100%|██████████| 259/259 [00:08<00:00, 29.96it/s]\n",
      "Training Epoch 1361: 100%|██████████| 259/259 [00:08<00:00, 29.60it/s]\n"
     ]
    },
    {
     "name": "stdout",
     "output_type": "stream",
     "text": [
      "Epoch 1360 - Train Loss: 0.2383, Train MSE: 0.2384, Train MAE: 0.3587\n",
      "Epoch 1360 - Validation Loss: 2.4684, Validation MSE: 2.4600, Validation MAE: 1.2263\n"
     ]
    },
    {
     "name": "stderr",
     "output_type": "stream",
     "text": [
      "Training Epoch 1362: 100%|██████████| 259/259 [00:08<00:00, 28.80it/s]\n",
      "Training Epoch 1363: 100%|██████████| 259/259 [00:08<00:00, 29.97it/s]\n",
      "Training Epoch 1364: 100%|██████████| 259/259 [00:08<00:00, 30.13it/s]\n",
      "Training Epoch 1365: 100%|██████████| 259/259 [00:08<00:00, 29.20it/s]\n",
      "Training Epoch 1366: 100%|██████████| 259/259 [00:08<00:00, 29.98it/s]\n",
      "Training Epoch 1367: 100%|██████████| 259/259 [00:08<00:00, 29.86it/s]\n",
      "Training Epoch 1368: 100%|██████████| 259/259 [00:08<00:00, 29.17it/s]\n",
      "Training Epoch 1369: 100%|██████████| 259/259 [00:09<00:00, 28.68it/s]\n",
      "Training Epoch 1370: 100%|██████████| 259/259 [00:08<00:00, 29.81it/s]\n",
      "Training Epoch 1371: 100%|██████████| 259/259 [00:08<00:00, 29.74it/s]\n"
     ]
    },
    {
     "name": "stdout",
     "output_type": "stream",
     "text": [
      "Epoch 1370 - Train Loss: 0.2449, Train MSE: 0.2449, Train MAE: 0.3619\n",
      "Epoch 1370 - Validation Loss: 2.4985, Validation MSE: 2.4901, Validation MAE: 1.2338\n"
     ]
    },
    {
     "name": "stderr",
     "output_type": "stream",
     "text": [
      "Training Epoch 1372: 100%|██████████| 259/259 [00:08<00:00, 29.63it/s]\n",
      "Training Epoch 1373: 100%|██████████| 259/259 [00:08<00:00, 29.85it/s]\n",
      "Training Epoch 1374: 100%|██████████| 259/259 [00:08<00:00, 30.03it/s]\n",
      "Training Epoch 1375: 100%|██████████| 259/259 [00:08<00:00, 28.81it/s]\n",
      "Training Epoch 1376: 100%|██████████| 259/259 [00:08<00:00, 29.87it/s]\n",
      "Training Epoch 1377: 100%|██████████| 259/259 [00:08<00:00, 30.03it/s]\n",
      "Training Epoch 1378: 100%|██████████| 259/259 [00:08<00:00, 29.81it/s]\n",
      "Training Epoch 1379: 100%|██████████| 259/259 [00:08<00:00, 29.47it/s]\n",
      "Training Epoch 1380: 100%|██████████| 259/259 [00:08<00:00, 29.96it/s]\n",
      "Training Epoch 1381: 100%|██████████| 259/259 [00:08<00:00, 29.22it/s]\n"
     ]
    },
    {
     "name": "stdout",
     "output_type": "stream",
     "text": [
      "Epoch 1380 - Train Loss: 0.2449, Train MSE: 0.2450, Train MAE: 0.3606\n",
      "Epoch 1380 - Validation Loss: 2.4517, Validation MSE: 2.4431, Validation MAE: 1.2217\n"
     ]
    },
    {
     "name": "stderr",
     "output_type": "stream",
     "text": [
      "Training Epoch 1382: 100%|██████████| 259/259 [00:08<00:00, 29.78it/s]\n",
      "Training Epoch 1383: 100%|██████████| 259/259 [00:08<00:00, 29.71it/s]\n",
      "Training Epoch 1384: 100%|██████████| 259/259 [00:08<00:00, 30.13it/s]\n",
      "Training Epoch 1385: 100%|██████████| 259/259 [00:08<00:00, 29.16it/s]\n",
      "Training Epoch 1386: 100%|██████████| 259/259 [00:08<00:00, 29.97it/s]\n",
      "Training Epoch 1387: 100%|██████████| 259/259 [00:08<00:00, 28.98it/s]\n",
      "Training Epoch 1388: 100%|██████████| 259/259 [00:08<00:00, 29.91it/s]\n",
      "Training Epoch 1389: 100%|██████████| 259/259 [00:08<00:00, 29.34it/s]\n",
      "Training Epoch 1390: 100%|██████████| 259/259 [00:08<00:00, 29.61it/s]\n",
      "Training Epoch 1391: 100%|██████████| 259/259 [00:08<00:00, 30.16it/s]\n"
     ]
    },
    {
     "name": "stdout",
     "output_type": "stream",
     "text": [
      "Epoch 1390 - Train Loss: 0.2381, Train MSE: 0.2381, Train MAE: 0.3553\n",
      "Epoch 1390 - Validation Loss: 2.5275, Validation MSE: 2.5180, Validation MAE: 1.2419\n"
     ]
    },
    {
     "name": "stderr",
     "output_type": "stream",
     "text": [
      "Training Epoch 1392: 100%|██████████| 259/259 [00:08<00:00, 29.71it/s]\n",
      "Training Epoch 1393: 100%|██████████| 259/259 [00:08<00:00, 29.71it/s]\n",
      "Training Epoch 1394: 100%|██████████| 259/259 [00:08<00:00, 29.30it/s]\n",
      "Training Epoch 1395: 100%|██████████| 259/259 [00:08<00:00, 29.90it/s]\n",
      "Training Epoch 1396: 100%|██████████| 259/259 [00:08<00:00, 29.82it/s]\n",
      "Training Epoch 1397: 100%|██████████| 259/259 [00:08<00:00, 29.74it/s]\n",
      "Training Epoch 1398: 100%|██████████| 259/259 [00:08<00:00, 30.03it/s]\n",
      "Training Epoch 1399: 100%|██████████| 259/259 [00:08<00:00, 30.02it/s]\n",
      "Training Epoch 1400: 100%|██████████| 259/259 [00:08<00:00, 28.89it/s]\n",
      "Training Epoch 1401: 100%|██████████| 259/259 [00:08<00:00, 29.92it/s]\n"
     ]
    },
    {
     "name": "stdout",
     "output_type": "stream",
     "text": [
      "Epoch 1400 - Train Loss: 0.2321, Train MSE: 0.2321, Train MAE: 0.3536\n",
      "Epoch 1400 - Validation Loss: 2.4790, Validation MSE: 2.4706, Validation MAE: 1.2252\n"
     ]
    },
    {
     "name": "stderr",
     "output_type": "stream",
     "text": [
      "Training Epoch 1402: 100%|██████████| 259/259 [00:08<00:00, 29.84it/s]\n",
      "Training Epoch 1403: 100%|██████████| 259/259 [00:08<00:00, 29.47it/s]\n",
      "Training Epoch 1404: 100%|██████████| 259/259 [00:08<00:00, 29.81it/s]\n",
      "Training Epoch 1405: 100%|██████████| 259/259 [00:08<00:00, 29.87it/s]\n",
      "Training Epoch 1406: 100%|██████████| 259/259 [00:08<00:00, 29.11it/s]\n",
      "Training Epoch 1407: 100%|██████████| 259/259 [00:08<00:00, 29.14it/s]\n",
      "Training Epoch 1408: 100%|██████████| 259/259 [00:08<00:00, 29.42it/s]\n",
      "Training Epoch 1409: 100%|██████████| 259/259 [00:08<00:00, 29.88it/s]\n",
      "Training Epoch 1410: 100%|██████████| 259/259 [00:08<00:00, 29.54it/s]\n",
      "Training Epoch 1411: 100%|██████████| 259/259 [00:08<00:00, 29.69it/s]\n"
     ]
    },
    {
     "name": "stdout",
     "output_type": "stream",
     "text": [
      "Epoch 1410 - Train Loss: 0.2297, Train MSE: 0.2297, Train MAE: 0.3507\n",
      "Epoch 1410 - Validation Loss: 2.5167, Validation MSE: 2.5079, Validation MAE: 1.2398\n"
     ]
    },
    {
     "name": "stderr",
     "output_type": "stream",
     "text": [
      "Training Epoch 1412: 100%|██████████| 259/259 [00:08<00:00, 29.90it/s]\n",
      "Training Epoch 1413: 100%|██████████| 259/259 [00:08<00:00, 29.29it/s]\n",
      "Training Epoch 1414: 100%|██████████| 259/259 [00:08<00:00, 29.71it/s]\n",
      "Training Epoch 1415: 100%|██████████| 259/259 [00:08<00:00, 29.39it/s]\n",
      "Training Epoch 1416: 100%|██████████| 259/259 [00:08<00:00, 29.74it/s]\n",
      "Training Epoch 1417: 100%|██████████| 259/259 [00:08<00:00, 29.67it/s]\n",
      "Training Epoch 1418: 100%|██████████| 259/259 [00:08<00:00, 29.94it/s]\n",
      "Training Epoch 1419: 100%|██████████| 259/259 [00:08<00:00, 29.43it/s]\n",
      "Training Epoch 1420: 100%|██████████| 259/259 [00:08<00:00, 29.22it/s]\n",
      "Training Epoch 1421: 100%|██████████| 259/259 [00:08<00:00, 29.91it/s]\n"
     ]
    },
    {
     "name": "stdout",
     "output_type": "stream",
     "text": [
      "Epoch 1420 - Train Loss: 0.2351, Train MSE: 0.2349, Train MAE: 0.3540\n",
      "Epoch 1420 - Validation Loss: 2.4849, Validation MSE: 2.4765, Validation MAE: 1.2381\n"
     ]
    },
    {
     "name": "stderr",
     "output_type": "stream",
     "text": [
      "Training Epoch 1422: 100%|██████████| 259/259 [00:08<00:00, 29.97it/s]\n",
      "Training Epoch 1423: 100%|██████████| 259/259 [00:08<00:00, 29.83it/s]\n",
      "Training Epoch 1424: 100%|██████████| 259/259 [00:08<00:00, 29.73it/s]\n",
      "Training Epoch 1425: 100%|██████████| 259/259 [00:08<00:00, 29.16it/s]\n",
      "Training Epoch 1426: 100%|██████████| 259/259 [00:08<00:00, 29.80it/s]\n",
      "Training Epoch 1427: 100%|██████████| 259/259 [00:08<00:00, 29.66it/s]\n",
      "Training Epoch 1428: 100%|██████████| 259/259 [00:08<00:00, 29.71it/s]\n",
      "Training Epoch 1429: 100%|██████████| 259/259 [00:08<00:00, 29.55it/s]\n",
      "Training Epoch 1430: 100%|██████████| 259/259 [00:08<00:00, 29.60it/s]\n",
      "Training Epoch 1431: 100%|██████████| 259/259 [00:08<00:00, 29.88it/s]\n"
     ]
    },
    {
     "name": "stdout",
     "output_type": "stream",
     "text": [
      "Epoch 1430 - Train Loss: 0.2361, Train MSE: 0.2356, Train MAE: 0.3549\n",
      "Epoch 1430 - Validation Loss: 2.5418, Validation MSE: 2.5335, Validation MAE: 1.2517\n"
     ]
    },
    {
     "name": "stderr",
     "output_type": "stream",
     "text": [
      "Training Epoch 1432: 100%|██████████| 259/259 [00:08<00:00, 28.91it/s]\n",
      "Training Epoch 1433: 100%|██████████| 259/259 [00:08<00:00, 29.50it/s]\n",
      "Training Epoch 1434: 100%|██████████| 259/259 [00:08<00:00, 30.02it/s]\n",
      "Training Epoch 1435: 100%|██████████| 259/259 [00:08<00:00, 29.58it/s]\n",
      "Training Epoch 1436: 100%|██████████| 259/259 [00:08<00:00, 29.91it/s]\n",
      "Training Epoch 1437: 100%|██████████| 259/259 [00:08<00:00, 29.92it/s]\n",
      "Training Epoch 1438: 100%|██████████| 259/259 [00:08<00:00, 29.24it/s]\n",
      "Training Epoch 1439: 100%|██████████| 259/259 [00:08<00:00, 29.95it/s]\n",
      "Training Epoch 1440: 100%|██████████| 259/259 [00:08<00:00, 29.62it/s]\n",
      "Training Epoch 1441: 100%|██████████| 259/259 [00:08<00:00, 29.70it/s]\n"
     ]
    },
    {
     "name": "stdout",
     "output_type": "stream",
     "text": [
      "Epoch 1440 - Train Loss: 0.2396, Train MSE: 0.2396, Train MAE: 0.3563\n",
      "Epoch 1440 - Validation Loss: 2.5329, Validation MSE: 2.5238, Validation MAE: 1.2448\n"
     ]
    },
    {
     "name": "stderr",
     "output_type": "stream",
     "text": [
      "Training Epoch 1442: 100%|██████████| 259/259 [00:08<00:00, 29.63it/s]\n",
      "Training Epoch 1443: 100%|██████████| 259/259 [00:08<00:00, 29.83it/s]\n",
      "Training Epoch 1444: 100%|██████████| 259/259 [00:09<00:00, 28.14it/s]\n",
      "Training Epoch 1445: 100%|██████████| 259/259 [00:08<00:00, 29.62it/s]\n",
      "Training Epoch 1446: 100%|██████████| 259/259 [00:08<00:00, 29.93it/s]\n",
      "Training Epoch 1447: 100%|██████████| 259/259 [00:08<00:00, 29.11it/s]\n",
      "Training Epoch 1448: 100%|██████████| 259/259 [00:08<00:00, 29.74it/s]\n",
      "Training Epoch 1449: 100%|██████████| 259/259 [00:08<00:00, 29.93it/s]\n",
      "Training Epoch 1450: 100%|██████████| 259/259 [00:08<00:00, 30.04it/s]\n",
      "Training Epoch 1451: 100%|██████████| 259/259 [00:08<00:00, 29.55it/s]\n"
     ]
    },
    {
     "name": "stdout",
     "output_type": "stream",
     "text": [
      "Epoch 1450 - Train Loss: 0.2435, Train MSE: 0.2431, Train MAE: 0.3596\n",
      "Epoch 1450 - Validation Loss: 2.4845, Validation MSE: 2.4764, Validation MAE: 1.2275\n"
     ]
    },
    {
     "name": "stderr",
     "output_type": "stream",
     "text": [
      "Training Epoch 1452: 100%|██████████| 259/259 [00:08<00:00, 29.34it/s]\n",
      "Training Epoch 1453: 100%|██████████| 259/259 [00:08<00:00, 29.53it/s]\n",
      "Training Epoch 1454: 100%|██████████| 259/259 [00:08<00:00, 30.12it/s]\n",
      "Training Epoch 1455: 100%|██████████| 259/259 [00:08<00:00, 29.89it/s]\n",
      "Training Epoch 1456: 100%|██████████| 259/259 [00:08<00:00, 30.03it/s]\n",
      "Training Epoch 1457: 100%|██████████| 259/259 [00:08<00:00, 29.09it/s]\n",
      "Training Epoch 1458: 100%|██████████| 259/259 [00:08<00:00, 30.85it/s]\n",
      "Training Epoch 1459: 100%|██████████| 259/259 [00:07<00:00, 32.47it/s]\n",
      "Training Epoch 1460: 100%|██████████| 259/259 [00:08<00:00, 32.25it/s]\n",
      "Training Epoch 1461: 100%|██████████| 259/259 [00:07<00:00, 32.46it/s]\n"
     ]
    },
    {
     "name": "stdout",
     "output_type": "stream",
     "text": [
      "Epoch 1460 - Train Loss: 0.2339, Train MSE: 0.2340, Train MAE: 0.3525\n",
      "Epoch 1460 - Validation Loss: 2.4728, Validation MSE: 2.4653, Validation MAE: 1.2240\n"
     ]
    },
    {
     "name": "stderr",
     "output_type": "stream",
     "text": [
      "Training Epoch 1462: 100%|██████████| 259/259 [00:07<00:00, 32.53it/s]\n",
      "Training Epoch 1463: 100%|██████████| 259/259 [00:07<00:00, 32.67it/s]\n",
      "Training Epoch 1464: 100%|██████████| 259/259 [00:08<00:00, 31.62it/s]\n",
      "Training Epoch 1465: 100%|██████████| 259/259 [00:08<00:00, 32.30it/s]\n",
      "Training Epoch 1466: 100%|██████████| 259/259 [00:08<00:00, 32.18it/s]\n",
      "Training Epoch 1467: 100%|██████████| 259/259 [00:07<00:00, 32.52it/s]\n",
      "Training Epoch 1468: 100%|██████████| 259/259 [00:07<00:00, 32.41it/s]\n",
      "Training Epoch 1469: 100%|██████████| 259/259 [00:08<00:00, 31.60it/s]\n",
      "Training Epoch 1470: 100%|██████████| 259/259 [00:08<00:00, 32.01it/s]\n",
      "Training Epoch 1471: 100%|██████████| 259/259 [00:07<00:00, 32.48it/s]\n"
     ]
    },
    {
     "name": "stdout",
     "output_type": "stream",
     "text": [
      "Epoch 1470 - Train Loss: 0.2440, Train MSE: 0.2433, Train MAE: 0.3596\n",
      "Epoch 1470 - Validation Loss: 2.5158, Validation MSE: 2.5063, Validation MAE: 1.2380\n"
     ]
    },
    {
     "name": "stderr",
     "output_type": "stream",
     "text": [
      "Training Epoch 1472: 100%|██████████| 259/259 [00:08<00:00, 31.80it/s]\n",
      "Training Epoch 1473: 100%|██████████| 259/259 [00:07<00:00, 32.95it/s]\n",
      "Training Epoch 1474: 100%|██████████| 259/259 [00:08<00:00, 32.28it/s]\n",
      "Training Epoch 1475: 100%|██████████| 259/259 [00:07<00:00, 32.55it/s]\n",
      "Training Epoch 1476: 100%|██████████| 259/259 [00:07<00:00, 32.56it/s]\n",
      "Training Epoch 1477: 100%|██████████| 259/259 [00:08<00:00, 31.73it/s]\n",
      "Training Epoch 1478: 100%|██████████| 259/259 [00:08<00:00, 32.30it/s]\n",
      "Training Epoch 1479: 100%|██████████| 259/259 [00:08<00:00, 32.36it/s]\n",
      "Training Epoch 1480: 100%|██████████| 259/259 [00:07<00:00, 32.83it/s]\n",
      "Training Epoch 1481: 100%|██████████| 259/259 [00:08<00:00, 32.26it/s]\n"
     ]
    },
    {
     "name": "stdout",
     "output_type": "stream",
     "text": [
      "Epoch 1480 - Train Loss: 0.2221, Train MSE: 0.2222, Train MAE: 0.3450\n",
      "Epoch 1480 - Validation Loss: 2.5147, Validation MSE: 2.5052, Validation MAE: 1.2428\n"
     ]
    },
    {
     "name": "stderr",
     "output_type": "stream",
     "text": [
      "Training Epoch 1482: 100%|██████████| 259/259 [00:07<00:00, 32.55it/s]\n",
      "Training Epoch 1483: 100%|██████████| 259/259 [00:07<00:00, 32.54it/s]\n",
      "Training Epoch 1484: 100%|██████████| 259/259 [00:08<00:00, 31.72it/s]\n",
      "Training Epoch 1485: 100%|██████████| 259/259 [00:07<00:00, 32.55it/s]\n",
      "Training Epoch 1486: 100%|██████████| 259/259 [00:08<00:00, 31.83it/s]\n",
      "Training Epoch 1487: 100%|██████████| 259/259 [00:07<00:00, 32.89it/s]\n",
      "Training Epoch 1488: 100%|██████████| 259/259 [00:08<00:00, 32.37it/s]\n",
      "Training Epoch 1489: 100%|██████████| 259/259 [00:08<00:00, 32.35it/s]\n",
      "Training Epoch 1490: 100%|██████████| 259/259 [00:07<00:00, 32.92it/s]\n",
      "Training Epoch 1491: 100%|██████████| 259/259 [00:08<00:00, 31.78it/s]\n"
     ]
    },
    {
     "name": "stdout",
     "output_type": "stream",
     "text": [
      "Epoch 1490 - Train Loss: 0.2278, Train MSE: 0.2278, Train MAE: 0.3492\n",
      "Epoch 1490 - Validation Loss: 2.5282, Validation MSE: 2.5196, Validation MAE: 1.2413\n"
     ]
    },
    {
     "name": "stderr",
     "output_type": "stream",
     "text": [
      "Training Epoch 1492: 100%|██████████| 259/259 [00:07<00:00, 32.48it/s]\n",
      "Training Epoch 1493: 100%|██████████| 259/259 [00:07<00:00, 32.45it/s]\n",
      "Training Epoch 1494: 100%|██████████| 259/259 [00:08<00:00, 32.28it/s]\n",
      "Training Epoch 1495: 100%|██████████| 259/259 [00:07<00:00, 32.63it/s]\n",
      "Training Epoch 1496: 100%|██████████| 259/259 [00:07<00:00, 32.45it/s]\n",
      "Training Epoch 1497: 100%|██████████| 259/259 [00:07<00:00, 32.80it/s]\n",
      "Training Epoch 1498: 100%|██████████| 259/259 [00:08<00:00, 31.77it/s]\n",
      "Training Epoch 1499: 100%|██████████| 259/259 [00:07<00:00, 32.40it/s]\n",
      "Training Epoch 1500: 100%|██████████| 259/259 [00:08<00:00, 32.03it/s]\n",
      "Training Epoch 1501: 100%|██████████| 259/259 [00:07<00:00, 32.74it/s]\n"
     ]
    },
    {
     "name": "stdout",
     "output_type": "stream",
     "text": [
      "Epoch 1500 - Train Loss: 0.2375, Train MSE: 0.2377, Train MAE: 0.3547\n",
      "Epoch 1500 - Validation Loss: 2.4103, Validation MSE: 2.4016, Validation MAE: 1.2151\n"
     ]
    },
    {
     "name": "stderr",
     "output_type": "stream",
     "text": [
      "Training Epoch 1502: 100%|██████████| 259/259 [00:07<00:00, 32.39it/s]\n",
      "Training Epoch 1503: 100%|██████████| 259/259 [00:07<00:00, 32.47it/s]\n",
      "Training Epoch 1504: 100%|██████████| 259/259 [00:07<00:00, 32.85it/s]\n",
      "Training Epoch 1505: 100%|██████████| 259/259 [00:08<00:00, 31.42it/s]\n",
      "Training Epoch 1506: 100%|██████████| 259/259 [00:08<00:00, 31.93it/s]\n",
      "Training Epoch 1507: 100%|██████████| 259/259 [00:07<00:00, 32.85it/s]\n",
      "Training Epoch 1508: 100%|██████████| 259/259 [00:07<00:00, 32.64it/s]\n",
      "Training Epoch 1509: 100%|██████████| 259/259 [00:07<00:00, 32.60it/s]\n",
      "Training Epoch 1510: 100%|██████████| 259/259 [00:07<00:00, 32.51it/s]\n",
      "Training Epoch 1511: 100%|██████████| 259/259 [00:07<00:00, 32.88it/s]\n"
     ]
    },
    {
     "name": "stdout",
     "output_type": "stream",
     "text": [
      "Epoch 1510 - Train Loss: 0.2323, Train MSE: 0.2324, Train MAE: 0.3524\n",
      "Epoch 1510 - Validation Loss: 2.4473, Validation MSE: 2.4392, Validation MAE: 1.2207\n"
     ]
    },
    {
     "name": "stderr",
     "output_type": "stream",
     "text": [
      "Training Epoch 1512: 100%|██████████| 259/259 [00:08<00:00, 31.68it/s]\n",
      "Training Epoch 1513: 100%|██████████| 259/259 [00:08<00:00, 31.72it/s]\n",
      "Training Epoch 1514: 100%|██████████| 259/259 [00:07<00:00, 32.87it/s]\n",
      "Training Epoch 1515: 100%|██████████| 259/259 [00:07<00:00, 32.59it/s]\n",
      "Training Epoch 1516: 100%|██████████| 259/259 [00:07<00:00, 32.54it/s]\n",
      "Training Epoch 1517: 100%|██████████| 259/259 [00:07<00:00, 32.55it/s]\n",
      "Training Epoch 1518: 100%|██████████| 259/259 [00:07<00:00, 32.80it/s]\n",
      "Training Epoch 1519: 100%|██████████| 259/259 [00:07<00:00, 32.52it/s]\n",
      "Training Epoch 1520: 100%|██████████| 259/259 [00:08<00:00, 32.23it/s]\n",
      "Training Epoch 1521: 100%|██████████| 259/259 [00:07<00:00, 32.45it/s]\n"
     ]
    },
    {
     "name": "stdout",
     "output_type": "stream",
     "text": [
      "Epoch 1520 - Train Loss: 0.2372, Train MSE: 0.2372, Train MAE: 0.3550\n",
      "Epoch 1520 - Validation Loss: 2.4998, Validation MSE: 2.4915, Validation MAE: 1.2392\n"
     ]
    },
    {
     "name": "stderr",
     "output_type": "stream",
     "text": [
      "Training Epoch 1522: 100%|██████████| 259/259 [00:08<00:00, 32.00it/s]\n",
      "Training Epoch 1523: 100%|██████████| 259/259 [00:08<00:00, 32.37it/s]\n",
      "Training Epoch 1524: 100%|██████████| 259/259 [00:07<00:00, 32.74it/s]\n",
      "Training Epoch 1525: 100%|██████████| 259/259 [00:08<00:00, 32.02it/s]\n",
      "Training Epoch 1526: 100%|██████████| 259/259 [00:08<00:00, 32.24it/s]\n",
      "Training Epoch 1527: 100%|██████████| 259/259 [00:07<00:00, 32.64it/s]\n",
      "Training Epoch 1528: 100%|██████████| 259/259 [00:07<00:00, 32.93it/s]\n",
      "Training Epoch 1529: 100%|██████████| 259/259 [00:08<00:00, 31.76it/s]\n",
      "Training Epoch 1530: 100%|██████████| 259/259 [00:07<00:00, 32.59it/s]\n",
      "Training Epoch 1531: 100%|██████████| 259/259 [00:07<00:00, 32.63it/s]\n"
     ]
    },
    {
     "name": "stdout",
     "output_type": "stream",
     "text": [
      "Epoch 1530 - Train Loss: 0.2400, Train MSE: 0.2402, Train MAE: 0.3550\n",
      "Epoch 1530 - Validation Loss: 2.4595, Validation MSE: 2.4506, Validation MAE: 1.2244\n"
     ]
    },
    {
     "name": "stderr",
     "output_type": "stream",
     "text": [
      "Training Epoch 1532: 100%|██████████| 259/259 [00:08<00:00, 31.45it/s]\n",
      "Training Epoch 1533: 100%|██████████| 259/259 [00:08<00:00, 32.30it/s]\n",
      "Training Epoch 1534: 100%|██████████| 259/259 [00:07<00:00, 32.53it/s]\n",
      "Training Epoch 1535: 100%|██████████| 259/259 [00:07<00:00, 32.52it/s]\n",
      "Training Epoch 1536: 100%|██████████| 259/259 [00:07<00:00, 32.41it/s]\n",
      "Training Epoch 1537: 100%|██████████| 259/259 [00:07<00:00, 32.42it/s]\n",
      "Training Epoch 1538: 100%|██████████| 259/259 [00:07<00:00, 32.47it/s]\n",
      "Training Epoch 1539: 100%|██████████| 259/259 [00:08<00:00, 31.98it/s]\n",
      "Training Epoch 1540: 100%|██████████| 259/259 [00:08<00:00, 32.22it/s]\n",
      "Training Epoch 1541: 100%|██████████| 259/259 [00:07<00:00, 32.60it/s]\n"
     ]
    },
    {
     "name": "stdout",
     "output_type": "stream",
     "text": [
      "Epoch 1540 - Train Loss: 0.2341, Train MSE: 0.2342, Train MAE: 0.3527\n",
      "Epoch 1540 - Validation Loss: 2.4780, Validation MSE: 2.4684, Validation MAE: 1.2300\n"
     ]
    },
    {
     "name": "stderr",
     "output_type": "stream",
     "text": [
      "Training Epoch 1542: 100%|██████████| 259/259 [00:07<00:00, 32.68it/s]\n",
      "Training Epoch 1543: 100%|██████████| 259/259 [00:07<00:00, 32.67it/s]\n",
      "Training Epoch 1544: 100%|██████████| 259/259 [00:07<00:00, 32.60it/s]\n",
      "Training Epoch 1545: 100%|██████████| 259/259 [00:07<00:00, 32.88it/s]\n",
      "Training Epoch 1546: 100%|██████████| 259/259 [00:08<00:00, 31.19it/s]\n",
      "Training Epoch 1547: 100%|██████████| 259/259 [00:08<00:00, 32.05it/s]\n",
      "Training Epoch 1548: 100%|██████████| 259/259 [00:07<00:00, 32.58it/s]\n",
      "Training Epoch 1549: 100%|██████████| 259/259 [00:07<00:00, 32.64it/s]\n",
      "Training Epoch 1550: 100%|██████████| 259/259 [00:07<00:00, 32.66it/s]\n",
      "Training Epoch 1551: 100%|██████████| 259/259 [00:07<00:00, 32.48it/s]\n"
     ]
    },
    {
     "name": "stdout",
     "output_type": "stream",
     "text": [
      "Epoch 1550 - Train Loss: 0.2472, Train MSE: 0.2474, Train MAE: 0.3601\n",
      "Epoch 1550 - Validation Loss: 2.4774, Validation MSE: 2.4684, Validation MAE: 1.2294\n"
     ]
    },
    {
     "name": "stderr",
     "output_type": "stream",
     "text": [
      "Training Epoch 1552: 100%|██████████| 259/259 [00:07<00:00, 33.09it/s]\n",
      "Training Epoch 1553: 100%|██████████| 259/259 [00:08<00:00, 31.75it/s]\n",
      "Training Epoch 1554: 100%|██████████| 259/259 [00:08<00:00, 32.34it/s]\n",
      "Training Epoch 1555: 100%|██████████| 259/259 [00:07<00:00, 32.46it/s]\n",
      "Training Epoch 1556: 100%|██████████| 259/259 [00:08<00:00, 31.77it/s]\n",
      "Training Epoch 1557: 100%|██████████| 259/259 [00:07<00:00, 32.47it/s]\n",
      "Training Epoch 1558: 100%|██████████| 259/259 [00:07<00:00, 32.48it/s]\n",
      "Training Epoch 1559: 100%|██████████| 259/259 [00:07<00:00, 32.88it/s]\n",
      "Training Epoch 1560: 100%|██████████| 259/259 [00:08<00:00, 31.91it/s]\n",
      "Training Epoch 1561: 100%|██████████| 259/259 [00:08<00:00, 32.34it/s]\n"
     ]
    },
    {
     "name": "stdout",
     "output_type": "stream",
     "text": [
      "Epoch 1560 - Train Loss: 0.2279, Train MSE: 0.2281, Train MAE: 0.3497\n",
      "Epoch 1560 - Validation Loss: 2.5054, Validation MSE: 2.4963, Validation MAE: 1.2384\n"
     ]
    },
    {
     "name": "stderr",
     "output_type": "stream",
     "text": [
      "Training Epoch 1562: 100%|██████████| 259/259 [00:07<00:00, 32.74it/s]\n",
      "Training Epoch 1563: 100%|██████████| 259/259 [00:07<00:00, 32.61it/s]\n",
      "Training Epoch 1564: 100%|██████████| 259/259 [00:08<00:00, 31.96it/s]\n",
      "Training Epoch 1565: 100%|██████████| 259/259 [00:07<00:00, 32.57it/s]\n",
      "Training Epoch 1566: 100%|██████████| 259/259 [00:07<00:00, 32.98it/s]\n",
      "Training Epoch 1567: 100%|██████████| 259/259 [00:08<00:00, 31.85it/s]\n",
      "Training Epoch 1568: 100%|██████████| 259/259 [00:07<00:00, 32.55it/s]\n",
      "Training Epoch 1569: 100%|██████████| 259/259 [00:07<00:00, 32.82it/s]\n",
      "Training Epoch 1570: 100%|██████████| 259/259 [00:08<00:00, 32.04it/s]\n",
      "Training Epoch 1571: 100%|██████████| 259/259 [00:07<00:00, 32.50it/s]\n"
     ]
    },
    {
     "name": "stdout",
     "output_type": "stream",
     "text": [
      "Epoch 1570 - Train Loss: 0.2288, Train MSE: 0.2288, Train MAE: 0.3496\n",
      "Epoch 1570 - Validation Loss: 2.4316, Validation MSE: 2.4236, Validation MAE: 1.2254\n"
     ]
    },
    {
     "name": "stderr",
     "output_type": "stream",
     "text": [
      "Training Epoch 1572: 100%|██████████| 259/259 [00:07<00:00, 32.75it/s]\n",
      "Training Epoch 1573: 100%|██████████| 259/259 [00:07<00:00, 32.50it/s]\n",
      "Training Epoch 1574: 100%|██████████| 259/259 [00:08<00:00, 32.35it/s]\n",
      "Training Epoch 1575: 100%|██████████| 259/259 [00:08<00:00, 32.37it/s]\n",
      "Training Epoch 1576: 100%|██████████| 259/259 [00:07<00:00, 33.06it/s]\n",
      "Training Epoch 1577: 100%|██████████| 259/259 [00:07<00:00, 32.68it/s]\n",
      "Training Epoch 1578: 100%|██████████| 259/259 [00:07<00:00, 32.58it/s]\n",
      "Training Epoch 1579: 100%|██████████| 259/259 [00:07<00:00, 32.38it/s]\n",
      "Training Epoch 1580: 100%|██████████| 259/259 [00:08<00:00, 31.94it/s]\n",
      "Training Epoch 1581: 100%|██████████| 259/259 [00:08<00:00, 30.60it/s]\n"
     ]
    },
    {
     "name": "stdout",
     "output_type": "stream",
     "text": [
      "Epoch 1580 - Train Loss: 0.2244, Train MSE: 0.2244, Train MAE: 0.3450\n",
      "Epoch 1580 - Validation Loss: 2.4797, Validation MSE: 2.4724, Validation MAE: 1.2263\n"
     ]
    },
    {
     "name": "stderr",
     "output_type": "stream",
     "text": [
      "Training Epoch 1582: 100%|██████████| 259/259 [00:07<00:00, 32.46it/s]\n",
      "Training Epoch 1583: 100%|██████████| 259/259 [00:07<00:00, 32.87it/s]\n",
      "Training Epoch 1584: 100%|██████████| 259/259 [00:07<00:00, 32.53it/s]\n",
      "Training Epoch 1585: 100%|██████████| 259/259 [00:07<00:00, 32.44it/s]\n",
      "Training Epoch 1586: 100%|██████████| 259/259 [00:07<00:00, 32.62it/s]\n",
      "Training Epoch 1587: 100%|██████████| 259/259 [00:08<00:00, 32.03it/s]\n",
      "Training Epoch 1588: 100%|██████████| 259/259 [00:07<00:00, 32.38it/s]\n",
      "Training Epoch 1589: 100%|██████████| 259/259 [00:08<00:00, 31.60it/s]\n",
      "Training Epoch 1590: 100%|██████████| 259/259 [00:07<00:00, 32.62it/s]\n",
      "Training Epoch 1591: 100%|██████████| 259/259 [00:07<00:00, 32.58it/s]\n"
     ]
    },
    {
     "name": "stdout",
     "output_type": "stream",
     "text": [
      "Epoch 1590 - Train Loss: 0.2282, Train MSE: 0.2284, Train MAE: 0.3492\n",
      "Epoch 1590 - Validation Loss: 2.4648, Validation MSE: 2.4567, Validation MAE: 1.2319\n"
     ]
    },
    {
     "name": "stderr",
     "output_type": "stream",
     "text": [
      "Training Epoch 1592: 100%|██████████| 259/259 [00:07<00:00, 32.78it/s]\n",
      "Training Epoch 1593: 100%|██████████| 259/259 [00:07<00:00, 32.72it/s]\n",
      "Training Epoch 1594: 100%|██████████| 259/259 [00:08<00:00, 32.00it/s]\n",
      "Training Epoch 1595: 100%|██████████| 259/259 [00:08<00:00, 32.37it/s]\n",
      "Training Epoch 1596: 100%|██████████| 259/259 [00:07<00:00, 32.79it/s]\n",
      "Training Epoch 1597: 100%|██████████| 259/259 [00:08<00:00, 32.03it/s]\n",
      "Training Epoch 1598: 100%|██████████| 259/259 [00:07<00:00, 32.53it/s]\n",
      "Training Epoch 1599: 100%|██████████| 259/259 [00:07<00:00, 32.39it/s]\n",
      "Training Epoch 1600: 100%|██████████| 259/259 [00:07<00:00, 32.86it/s]\n",
      "Training Epoch 1601: 100%|██████████| 259/259 [00:08<00:00, 31.93it/s]\n"
     ]
    },
    {
     "name": "stdout",
     "output_type": "stream",
     "text": [
      "Epoch 1600 - Train Loss: 0.2222, Train MSE: 0.2221, Train MAE: 0.3426\n",
      "Epoch 1600 - Validation Loss: 2.4970, Validation MSE: 2.4896, Validation MAE: 1.2364\n"
     ]
    },
    {
     "name": "stderr",
     "output_type": "stream",
     "text": [
      "Training Epoch 1602: 100%|██████████| 259/259 [00:08<00:00, 32.26it/s]\n",
      "Training Epoch 1603: 100%|██████████| 259/259 [00:08<00:00, 31.91it/s]\n",
      "Training Epoch 1604: 100%|██████████| 259/259 [00:07<00:00, 32.55it/s]\n",
      "Training Epoch 1605: 100%|██████████| 259/259 [00:07<00:00, 32.42it/s]\n",
      "Training Epoch 1606: 100%|██████████| 259/259 [00:07<00:00, 32.53it/s]\n",
      "Training Epoch 1607: 100%|██████████| 259/259 [00:07<00:00, 32.82it/s]\n",
      "Training Epoch 1608: 100%|██████████| 259/259 [00:08<00:00, 31.51it/s]\n",
      "Training Epoch 1609: 100%|██████████| 259/259 [00:07<00:00, 32.48it/s]\n",
      "Training Epoch 1610: 100%|██████████| 259/259 [00:07<00:00, 32.85it/s]\n",
      "Training Epoch 1611: 100%|██████████| 259/259 [00:07<00:00, 32.47it/s]\n"
     ]
    },
    {
     "name": "stdout",
     "output_type": "stream",
     "text": [
      "Epoch 1610 - Train Loss: 0.2297, Train MSE: 0.2296, Train MAE: 0.3485\n",
      "Epoch 1610 - Validation Loss: 2.4421, Validation MSE: 2.4327, Validation MAE: 1.2231\n"
     ]
    },
    {
     "name": "stderr",
     "output_type": "stream",
     "text": [
      "Training Epoch 1612: 100%|██████████| 259/259 [00:07<00:00, 32.57it/s]\n",
      "Training Epoch 1613: 100%|██████████| 259/259 [00:08<00:00, 32.35it/s]\n",
      "Training Epoch 1614: 100%|██████████| 259/259 [00:08<00:00, 32.30it/s]\n",
      "Training Epoch 1615: 100%|██████████| 259/259 [00:08<00:00, 31.62it/s]\n",
      "Training Epoch 1616: 100%|██████████| 259/259 [00:07<00:00, 32.56it/s]\n",
      "Training Epoch 1617: 100%|██████████| 259/259 [00:07<00:00, 32.86it/s]\n",
      "Training Epoch 1618: 100%|██████████| 259/259 [00:07<00:00, 32.69it/s]\n",
      "Training Epoch 1619: 100%|██████████| 259/259 [00:07<00:00, 32.54it/s]\n",
      "Training Epoch 1620: 100%|██████████| 259/259 [00:07<00:00, 32.58it/s]\n",
      "Training Epoch 1621: 100%|██████████| 259/259 [00:07<00:00, 32.69it/s]\n"
     ]
    },
    {
     "name": "stdout",
     "output_type": "stream",
     "text": [
      "Epoch 1620 - Train Loss: 0.2157, Train MSE: 0.2158, Train MAE: 0.3377\n",
      "Epoch 1620 - Validation Loss: 2.5551, Validation MSE: 2.5452, Validation MAE: 1.2397\n"
     ]
    },
    {
     "name": "stderr",
     "output_type": "stream",
     "text": [
      "Training Epoch 1622: 100%|██████████| 259/259 [00:07<00:00, 32.48it/s]\n",
      "Training Epoch 1623: 100%|██████████| 259/259 [00:08<00:00, 31.86it/s]\n",
      "Training Epoch 1624: 100%|██████████| 259/259 [00:07<00:00, 32.77it/s]\n",
      "Training Epoch 1625: 100%|██████████| 259/259 [00:08<00:00, 32.36it/s]\n",
      "Training Epoch 1626: 100%|██████████| 259/259 [00:07<00:00, 32.58it/s]\n",
      "Training Epoch 1627: 100%|██████████| 259/259 [00:07<00:00, 32.70it/s]\n",
      "Training Epoch 1628: 100%|██████████| 259/259 [00:07<00:00, 32.59it/s]\n",
      "Training Epoch 1629: 100%|██████████| 259/259 [00:08<00:00, 32.02it/s]\n",
      "Training Epoch 1630: 100%|██████████| 259/259 [00:07<00:00, 32.73it/s]\n",
      "Training Epoch 1631: 100%|██████████| 259/259 [00:08<00:00, 32.32it/s]\n"
     ]
    },
    {
     "name": "stdout",
     "output_type": "stream",
     "text": [
      "Epoch 1630 - Train Loss: 0.2342, Train MSE: 0.2341, Train MAE: 0.3546\n",
      "Epoch 1630 - Validation Loss: 2.4605, Validation MSE: 2.4510, Validation MAE: 1.2301\n"
     ]
    },
    {
     "name": "stderr",
     "output_type": "stream",
     "text": [
      "Training Epoch 1632: 100%|██████████| 259/259 [00:07<00:00, 32.66it/s]\n",
      "Training Epoch 1633: 100%|██████████| 259/259 [00:07<00:00, 32.38it/s]\n",
      "Training Epoch 1634: 100%|██████████| 259/259 [00:07<00:00, 32.67it/s]\n",
      "Training Epoch 1635: 100%|██████████| 259/259 [00:07<00:00, 32.63it/s]\n",
      "Training Epoch 1636: 100%|██████████| 259/259 [00:08<00:00, 32.33it/s]\n",
      "Training Epoch 1637: 100%|██████████| 259/259 [00:08<00:00, 32.02it/s]\n",
      "Training Epoch 1638: 100%|██████████| 259/259 [00:07<00:00, 32.70it/s]\n",
      "Training Epoch 1639: 100%|██████████| 259/259 [00:07<00:00, 32.73it/s]\n",
      "Training Epoch 1640: 100%|██████████| 259/259 [00:07<00:00, 32.70it/s]\n",
      "Training Epoch 1641: 100%|██████████| 259/259 [00:07<00:00, 32.70it/s]\n"
     ]
    },
    {
     "name": "stdout",
     "output_type": "stream",
     "text": [
      "Epoch 1640 - Train Loss: 0.2292, Train MSE: 0.2292, Train MAE: 0.3496\n",
      "Epoch 1640 - Validation Loss: 2.5294, Validation MSE: 2.5211, Validation MAE: 1.2400\n"
     ]
    },
    {
     "name": "stderr",
     "output_type": "stream",
     "text": [
      "Training Epoch 1642: 100%|██████████| 259/259 [00:08<00:00, 31.78it/s]\n",
      "Training Epoch 1643: 100%|██████████| 259/259 [00:08<00:00, 32.17it/s]\n",
      "Training Epoch 1644: 100%|██████████| 259/259 [00:07<00:00, 32.68it/s]\n",
      "Training Epoch 1645: 100%|██████████| 259/259 [00:07<00:00, 32.70it/s]\n",
      "Training Epoch 1646: 100%|██████████| 259/259 [00:08<00:00, 31.95it/s]\n",
      "Training Epoch 1647: 100%|██████████| 259/259 [00:07<00:00, 32.76it/s]\n",
      "Training Epoch 1648: 100%|██████████| 259/259 [00:07<00:00, 32.87it/s]\n",
      "Training Epoch 1649: 100%|██████████| 259/259 [00:08<00:00, 31.88it/s]\n",
      "Training Epoch 1650: 100%|██████████| 259/259 [00:07<00:00, 32.55it/s]\n",
      "Training Epoch 1651: 100%|██████████| 259/259 [00:07<00:00, 32.78it/s]\n"
     ]
    },
    {
     "name": "stdout",
     "output_type": "stream",
     "text": [
      "Epoch 1650 - Train Loss: 0.2344, Train MSE: 0.2343, Train MAE: 0.3528\n",
      "Epoch 1650 - Validation Loss: 2.5050, Validation MSE: 2.4963, Validation MAE: 1.2379\n"
     ]
    },
    {
     "name": "stderr",
     "output_type": "stream",
     "text": [
      "Training Epoch 1652: 100%|██████████| 259/259 [00:07<00:00, 32.85it/s]\n",
      "Training Epoch 1653: 100%|██████████| 259/259 [00:07<00:00, 32.90it/s]\n",
      "Training Epoch 1654: 100%|██████████| 259/259 [00:07<00:00, 32.85it/s]\n",
      "Training Epoch 1655: 100%|██████████| 259/259 [00:07<00:00, 32.40it/s]\n",
      "Training Epoch 1656: 100%|██████████| 259/259 [00:08<00:00, 32.06it/s]\n",
      "Training Epoch 1657: 100%|██████████| 259/259 [00:07<00:00, 32.55it/s]\n",
      "Training Epoch 1658: 100%|██████████| 259/259 [00:07<00:00, 32.64it/s]\n",
      "Training Epoch 1659: 100%|██████████| 259/259 [00:07<00:00, 32.77it/s]\n",
      "Training Epoch 1660: 100%|██████████| 259/259 [00:07<00:00, 32.89it/s]\n",
      "Training Epoch 1661: 100%|██████████| 259/259 [00:07<00:00, 32.99it/s]\n"
     ]
    },
    {
     "name": "stdout",
     "output_type": "stream",
     "text": [
      "Epoch 1660 - Train Loss: 0.2258, Train MSE: 0.2259, Train MAE: 0.3473\n",
      "Epoch 1660 - Validation Loss: 2.5185, Validation MSE: 2.5090, Validation MAE: 1.2383\n"
     ]
    },
    {
     "name": "stderr",
     "output_type": "stream",
     "text": [
      "Training Epoch 1662: 100%|██████████| 259/259 [00:07<00:00, 32.89it/s]\n",
      "Training Epoch 1663: 100%|██████████| 259/259 [00:08<00:00, 32.12it/s]\n",
      "Training Epoch 1664: 100%|██████████| 259/259 [00:07<00:00, 32.93it/s]\n",
      "Training Epoch 1665: 100%|██████████| 259/259 [00:07<00:00, 32.88it/s]\n",
      "Training Epoch 1666: 100%|██████████| 259/259 [00:07<00:00, 32.73it/s]\n",
      "Training Epoch 1667: 100%|██████████| 259/259 [00:07<00:00, 32.63it/s]\n",
      "Training Epoch 1668: 100%|██████████| 259/259 [00:07<00:00, 32.80it/s]\n",
      "Training Epoch 1669: 100%|██████████| 259/259 [00:07<00:00, 32.91it/s]\n",
      "Training Epoch 1670: 100%|██████████| 259/259 [00:08<00:00, 32.24it/s]\n",
      "Training Epoch 1671: 100%|██████████| 259/259 [00:07<00:00, 32.69it/s]\n"
     ]
    },
    {
     "name": "stdout",
     "output_type": "stream",
     "text": [
      "Epoch 1670 - Train Loss: 0.2245, Train MSE: 0.2246, Train MAE: 0.3450\n",
      "Epoch 1670 - Validation Loss: 2.5281, Validation MSE: 2.5188, Validation MAE: 1.2367\n"
     ]
    },
    {
     "name": "stderr",
     "output_type": "stream",
     "text": [
      "Training Epoch 1672: 100%|██████████| 259/259 [00:07<00:00, 33.00it/s]\n",
      "Training Epoch 1673: 100%|██████████| 259/259 [00:07<00:00, 32.74it/s]\n",
      "Training Epoch 1674: 100%|██████████| 259/259 [00:07<00:00, 32.51it/s]\n",
      "Training Epoch 1675: 100%|██████████| 259/259 [00:08<00:00, 32.34it/s]\n",
      "Training Epoch 1676: 100%|██████████| 259/259 [00:07<00:00, 32.70it/s]\n",
      "Training Epoch 1677: 100%|██████████| 259/259 [00:07<00:00, 32.39it/s]\n",
      "Training Epoch 1678: 100%|██████████| 259/259 [00:07<00:00, 32.66it/s]\n",
      "Training Epoch 1679: 100%|██████████| 259/259 [00:07<00:00, 33.03it/s]\n",
      "Training Epoch 1680: 100%|██████████| 259/259 [00:07<00:00, 32.73it/s]\n",
      "Training Epoch 1681: 100%|██████████| 259/259 [00:07<00:00, 32.79it/s]\n"
     ]
    },
    {
     "name": "stdout",
     "output_type": "stream",
     "text": [
      "Epoch 1680 - Train Loss: 0.2242, Train MSE: 0.2242, Train MAE: 0.3455\n",
      "Epoch 1680 - Validation Loss: 2.4402, Validation MSE: 2.4313, Validation MAE: 1.2222\n"
     ]
    },
    {
     "name": "stderr",
     "output_type": "stream",
     "text": [
      "Training Epoch 1682: 100%|██████████| 259/259 [00:07<00:00, 32.77it/s]\n",
      "Training Epoch 1683: 100%|██████████| 259/259 [00:07<00:00, 32.85it/s]\n",
      "Training Epoch 1684: 100%|██████████| 259/259 [00:08<00:00, 32.13it/s]\n",
      "Training Epoch 1685: 100%|██████████| 259/259 [00:07<00:00, 32.73it/s]\n",
      "Training Epoch 1686: 100%|██████████| 259/259 [00:07<00:00, 33.16it/s]\n",
      "Training Epoch 1687: 100%|██████████| 259/259 [00:07<00:00, 32.66it/s]\n",
      "Training Epoch 1688: 100%|██████████| 259/259 [00:07<00:00, 32.41it/s]\n",
      "Training Epoch 1689: 100%|██████████| 259/259 [00:07<00:00, 32.74it/s]\n",
      "Training Epoch 1690: 100%|██████████| 259/259 [00:07<00:00, 32.78it/s]\n",
      "Training Epoch 1691: 100%|██████████| 259/259 [00:08<00:00, 31.51it/s]\n"
     ]
    },
    {
     "name": "stdout",
     "output_type": "stream",
     "text": [
      "Epoch 1690 - Train Loss: 0.2255, Train MSE: 0.2254, Train MAE: 0.3463\n",
      "Epoch 1690 - Validation Loss: 2.5020, Validation MSE: 2.4928, Validation MAE: 1.2371\n"
     ]
    },
    {
     "name": "stderr",
     "output_type": "stream",
     "text": [
      "Training Epoch 1692: 100%|██████████| 259/259 [00:07<00:00, 32.69it/s]\n",
      "Training Epoch 1693: 100%|██████████| 259/259 [00:07<00:00, 32.88it/s]\n",
      "Training Epoch 1694: 100%|██████████| 259/259 [00:07<00:00, 32.85it/s]\n",
      "Training Epoch 1695: 100%|██████████| 259/259 [00:07<00:00, 32.97it/s]\n",
      "Training Epoch 1696: 100%|██████████| 259/259 [00:07<00:00, 32.76it/s]\n",
      "Training Epoch 1697: 100%|██████████| 259/259 [00:07<00:00, 32.49it/s]\n",
      "Training Epoch 1698: 100%|██████████| 259/259 [00:08<00:00, 32.05it/s]\n",
      "Training Epoch 1699: 100%|██████████| 259/259 [00:07<00:00, 33.06it/s]\n",
      "Training Epoch 1700: 100%|██████████| 259/259 [00:07<00:00, 32.66it/s]\n",
      "Training Epoch 1701: 100%|██████████| 259/259 [00:07<00:00, 32.86it/s]\n"
     ]
    },
    {
     "name": "stdout",
     "output_type": "stream",
     "text": [
      "Epoch 1700 - Train Loss: 0.2303, Train MSE: 0.2303, Train MAE: 0.3479\n",
      "Epoch 1700 - Validation Loss: 2.4815, Validation MSE: 2.4728, Validation MAE: 1.2326\n"
     ]
    },
    {
     "name": "stderr",
     "output_type": "stream",
     "text": [
      "Training Epoch 1702: 100%|██████████| 259/259 [00:07<00:00, 32.67it/s]\n",
      "Training Epoch 1703: 100%|██████████| 259/259 [00:07<00:00, 32.80it/s]\n",
      "Training Epoch 1704: 100%|██████████| 259/259 [00:07<00:00, 32.71it/s]\n",
      "Training Epoch 1705: 100%|██████████| 259/259 [00:08<00:00, 31.93it/s]\n",
      "Training Epoch 1706: 100%|██████████| 259/259 [00:08<00:00, 32.14it/s]\n",
      "Training Epoch 1707: 100%|██████████| 259/259 [00:07<00:00, 32.63it/s]\n",
      "Training Epoch 1708: 100%|██████████| 259/259 [00:07<00:00, 32.61it/s]\n",
      "Training Epoch 1709: 100%|██████████| 259/259 [00:08<00:00, 31.95it/s]\n",
      "Training Epoch 1710: 100%|██████████| 259/259 [00:07<00:00, 33.05it/s]\n",
      "Training Epoch 1711: 100%|██████████| 259/259 [00:07<00:00, 32.74it/s]\n"
     ]
    },
    {
     "name": "stdout",
     "output_type": "stream",
     "text": [
      "Epoch 1710 - Train Loss: 0.2209, Train MSE: 0.2208, Train MAE: 0.3395\n",
      "Epoch 1710 - Validation Loss: 2.4819, Validation MSE: 2.4737, Validation MAE: 1.2293\n"
     ]
    },
    {
     "name": "stderr",
     "output_type": "stream",
     "text": [
      "Training Epoch 1712: 100%|██████████| 259/259 [00:08<00:00, 32.19it/s]\n",
      "Training Epoch 1713: 100%|██████████| 259/259 [00:07<00:00, 32.44it/s]\n",
      "Training Epoch 1714: 100%|██████████| 259/259 [00:07<00:00, 32.39it/s]\n",
      "Training Epoch 1715: 100%|██████████| 259/259 [00:07<00:00, 32.73it/s]\n",
      "Training Epoch 1716: 100%|██████████| 259/259 [00:07<00:00, 32.92it/s]\n",
      "Training Epoch 1717: 100%|██████████| 259/259 [00:07<00:00, 33.04it/s]\n",
      "Training Epoch 1718: 100%|██████████| 259/259 [00:07<00:00, 32.89it/s]\n",
      "Training Epoch 1719: 100%|██████████| 259/259 [00:08<00:00, 32.33it/s]\n",
      "Training Epoch 1720: 100%|██████████| 259/259 [00:07<00:00, 32.90it/s]\n",
      "Training Epoch 1721: 100%|██████████| 259/259 [00:07<00:00, 32.89it/s]\n"
     ]
    },
    {
     "name": "stdout",
     "output_type": "stream",
     "text": [
      "Epoch 1720 - Train Loss: 0.2193, Train MSE: 0.2193, Train MAE: 0.3402\n",
      "Epoch 1720 - Validation Loss: 2.4891, Validation MSE: 2.4793, Validation MAE: 1.2373\n"
     ]
    },
    {
     "name": "stderr",
     "output_type": "stream",
     "text": [
      "Training Epoch 1722: 100%|██████████| 259/259 [00:08<00:00, 32.05it/s]\n",
      "Training Epoch 1723: 100%|██████████| 259/259 [00:07<00:00, 32.81it/s]\n",
      "Training Epoch 1724: 100%|██████████| 259/259 [00:07<00:00, 32.82it/s]\n",
      "Training Epoch 1725: 100%|██████████| 259/259 [00:07<00:00, 32.65it/s]\n",
      "Training Epoch 1726: 100%|██████████| 259/259 [00:07<00:00, 32.74it/s]\n",
      "Training Epoch 1727: 100%|██████████| 259/259 [00:07<00:00, 32.98it/s]\n",
      "Training Epoch 1728: 100%|██████████| 259/259 [00:07<00:00, 32.82it/s]\n",
      "Training Epoch 1729: 100%|██████████| 259/259 [00:07<00:00, 32.79it/s]\n",
      "Training Epoch 1730: 100%|██████████| 259/259 [00:07<00:00, 32.68it/s]\n",
      "Training Epoch 1731: 100%|██████████| 259/259 [00:08<00:00, 32.28it/s]\n"
     ]
    },
    {
     "name": "stdout",
     "output_type": "stream",
     "text": [
      "Epoch 1730 - Train Loss: 0.2302, Train MSE: 0.2302, Train MAE: 0.3489\n",
      "Epoch 1730 - Validation Loss: 2.6052, Validation MSE: 2.5972, Validation MAE: 1.2667\n"
     ]
    },
    {
     "name": "stderr",
     "output_type": "stream",
     "text": [
      "Training Epoch 1732: 100%|██████████| 259/259 [00:07<00:00, 32.39it/s]\n",
      "Training Epoch 1733: 100%|██████████| 259/259 [00:07<00:00, 32.91it/s]\n",
      "Training Epoch 1734: 100%|██████████| 259/259 [00:07<00:00, 33.08it/s]\n",
      "Training Epoch 1735: 100%|██████████| 259/259 [00:07<00:00, 32.84it/s]\n",
      "Training Epoch 1736: 100%|██████████| 259/259 [00:07<00:00, 32.93it/s]\n",
      "Training Epoch 1737: 100%|██████████| 259/259 [00:07<00:00, 32.90it/s]\n",
      "Training Epoch 1738: 100%|██████████| 259/259 [00:07<00:00, 32.45it/s]\n",
      "Training Epoch 1739: 100%|██████████| 259/259 [00:07<00:00, 32.54it/s]\n",
      "Training Epoch 1740: 100%|██████████| 259/259 [00:07<00:00, 32.65it/s]\n",
      "Training Epoch 1741: 100%|██████████| 259/259 [00:07<00:00, 32.99it/s]\n"
     ]
    },
    {
     "name": "stdout",
     "output_type": "stream",
     "text": [
      "Epoch 1740 - Train Loss: 0.2274, Train MSE: 0.2275, Train MAE: 0.3473\n",
      "Epoch 1740 - Validation Loss: 2.5130, Validation MSE: 2.5031, Validation MAE: 1.2350\n"
     ]
    },
    {
     "name": "stderr",
     "output_type": "stream",
     "text": [
      "Training Epoch 1742: 100%|██████████| 259/259 [00:07<00:00, 32.62it/s]\n",
      "Training Epoch 1743: 100%|██████████| 259/259 [00:07<00:00, 32.52it/s]\n",
      "Training Epoch 1744: 100%|██████████| 259/259 [00:07<00:00, 32.91it/s]\n",
      "Training Epoch 1745: 100%|██████████| 259/259 [00:07<00:00, 32.66it/s]\n",
      "Training Epoch 1746: 100%|██████████| 259/259 [00:07<00:00, 32.43it/s]\n",
      "Training Epoch 1747: 100%|██████████| 259/259 [00:07<00:00, 32.87it/s]\n",
      "Training Epoch 1748: 100%|██████████| 259/259 [00:07<00:00, 33.00it/s]\n",
      "Training Epoch 1749: 100%|██████████| 259/259 [00:07<00:00, 32.68it/s]\n",
      "Training Epoch 1750: 100%|██████████| 259/259 [00:07<00:00, 32.78it/s]\n",
      "Training Epoch 1751: 100%|██████████| 259/259 [00:07<00:00, 33.02it/s]\n"
     ]
    },
    {
     "name": "stdout",
     "output_type": "stream",
     "text": [
      "Epoch 1750 - Train Loss: 0.2285, Train MSE: 0.2286, Train MAE: 0.3488\n",
      "Epoch 1750 - Validation Loss: 2.4889, Validation MSE: 2.4804, Validation MAE: 1.2342\n"
     ]
    },
    {
     "name": "stderr",
     "output_type": "stream",
     "text": [
      "Training Epoch 1752: 100%|██████████| 259/259 [00:07<00:00, 32.66it/s]\n",
      "Training Epoch 1753: 100%|██████████| 259/259 [00:08<00:00, 32.14it/s]\n",
      "Training Epoch 1754: 100%|██████████| 259/259 [00:07<00:00, 32.86it/s]\n",
      "Training Epoch 1755: 100%|██████████| 259/259 [00:07<00:00, 33.07it/s]\n",
      "Training Epoch 1756: 100%|██████████| 259/259 [00:08<00:00, 32.26it/s]\n",
      "Training Epoch 1757: 100%|██████████| 259/259 [00:07<00:00, 32.78it/s]\n",
      "Training Epoch 1758: 100%|██████████| 259/259 [00:07<00:00, 32.79it/s]\n",
      "Training Epoch 1759: 100%|██████████| 259/259 [00:07<00:00, 32.64it/s]\n",
      "Training Epoch 1760: 100%|██████████| 259/259 [00:07<00:00, 32.43it/s]\n",
      "Training Epoch 1761: 100%|██████████| 259/259 [00:07<00:00, 32.59it/s]\n"
     ]
    },
    {
     "name": "stdout",
     "output_type": "stream",
     "text": [
      "Epoch 1760 - Train Loss: 0.2266, Train MSE: 0.2267, Train MAE: 0.3475\n",
      "Epoch 1760 - Validation Loss: 2.4813, Validation MSE: 2.4710, Validation MAE: 1.2327\n"
     ]
    },
    {
     "name": "stderr",
     "output_type": "stream",
     "text": [
      "Training Epoch 1762: 100%|██████████| 259/259 [00:07<00:00, 32.74it/s]\n",
      "Training Epoch 1763: 100%|██████████| 259/259 [00:07<00:00, 32.87it/s]\n",
      "Training Epoch 1764: 100%|██████████| 259/259 [00:07<00:00, 32.83it/s]\n",
      "Training Epoch 1765: 100%|██████████| 259/259 [00:07<00:00, 32.47it/s]\n",
      "Training Epoch 1766: 100%|██████████| 259/259 [00:07<00:00, 32.73it/s]\n",
      "Training Epoch 1767: 100%|██████████| 259/259 [00:08<00:00, 32.20it/s]\n",
      "Training Epoch 1768: 100%|██████████| 259/259 [00:07<00:00, 32.87it/s]\n",
      "Training Epoch 1769: 100%|██████████| 259/259 [00:07<00:00, 33.09it/s]\n",
      "Training Epoch 1770: 100%|██████████| 259/259 [00:07<00:00, 33.02it/s]\n",
      "Training Epoch 1771: 100%|██████████| 259/259 [00:07<00:00, 32.95it/s]\n"
     ]
    },
    {
     "name": "stdout",
     "output_type": "stream",
     "text": [
      "Epoch 1770 - Train Loss: 0.2134, Train MSE: 0.2136, Train MAE: 0.3348\n",
      "Epoch 1770 - Validation Loss: 2.5833, Validation MSE: 2.5744, Validation MAE: 1.2528\n"
     ]
    },
    {
     "name": "stderr",
     "output_type": "stream",
     "text": [
      "Training Epoch 1772: 100%|██████████| 259/259 [00:07<00:00, 32.79it/s]\n",
      "Training Epoch 1773: 100%|██████████| 259/259 [00:07<00:00, 32.70it/s]\n",
      "Training Epoch 1774: 100%|██████████| 259/259 [00:08<00:00, 31.82it/s]\n",
      "Training Epoch 1775: 100%|██████████| 259/259 [00:07<00:00, 32.50it/s]\n",
      "Training Epoch 1776: 100%|██████████| 259/259 [00:07<00:00, 32.75it/s]\n",
      "Training Epoch 1777: 100%|██████████| 259/259 [00:07<00:00, 32.89it/s]\n",
      "Training Epoch 1778: 100%|██████████| 259/259 [00:07<00:00, 32.83it/s]\n",
      "Training Epoch 1779: 100%|██████████| 259/259 [00:07<00:00, 33.08it/s]\n",
      "Training Epoch 1780: 100%|██████████| 259/259 [00:07<00:00, 32.74it/s]\n",
      "Training Epoch 1781: 100%|██████████| 259/259 [00:08<00:00, 32.15it/s]\n"
     ]
    },
    {
     "name": "stdout",
     "output_type": "stream",
     "text": [
      "Epoch 1780 - Train Loss: 0.2228, Train MSE: 0.2231, Train MAE: 0.3426\n",
      "Epoch 1780 - Validation Loss: 2.5016, Validation MSE: 2.4919, Validation MAE: 1.2335\n"
     ]
    },
    {
     "name": "stderr",
     "output_type": "stream",
     "text": [
      "Training Epoch 1782: 100%|██████████| 259/259 [00:07<00:00, 32.56it/s]\n",
      "Training Epoch 1783: 100%|██████████| 259/259 [00:08<00:00, 32.05it/s]\n",
      "Training Epoch 1784: 100%|██████████| 259/259 [00:07<00:00, 33.02it/s]\n",
      "Training Epoch 1785: 100%|██████████| 259/259 [00:07<00:00, 32.73it/s]\n",
      "Training Epoch 1786: 100%|██████████| 259/259 [00:07<00:00, 33.08it/s]\n",
      "Training Epoch 1787: 100%|██████████| 259/259 [00:07<00:00, 32.67it/s]\n",
      "Training Epoch 1788: 100%|██████████| 259/259 [00:08<00:00, 32.00it/s]\n",
      "Training Epoch 1789: 100%|██████████| 259/259 [00:07<00:00, 33.03it/s]\n",
      "Training Epoch 1790: 100%|██████████| 259/259 [00:07<00:00, 32.73it/s]\n",
      "Training Epoch 1791: 100%|██████████| 259/259 [00:08<00:00, 32.31it/s]\n"
     ]
    },
    {
     "name": "stdout",
     "output_type": "stream",
     "text": [
      "Epoch 1790 - Train Loss: 0.2171, Train MSE: 0.2172, Train MAE: 0.3391\n",
      "Epoch 1790 - Validation Loss: 2.5236, Validation MSE: 2.5142, Validation MAE: 1.2390\n"
     ]
    },
    {
     "name": "stderr",
     "output_type": "stream",
     "text": [
      "Training Epoch 1792: 100%|██████████| 259/259 [00:07<00:00, 32.71it/s]\n",
      "Training Epoch 1793: 100%|██████████| 259/259 [00:07<00:00, 32.88it/s]\n",
      "Training Epoch 1794: 100%|██████████| 259/259 [00:07<00:00, 32.97it/s]\n",
      "Training Epoch 1795: 100%|██████████| 259/259 [00:08<00:00, 32.08it/s]\n",
      "Training Epoch 1796: 100%|██████████| 259/259 [00:07<00:00, 32.50it/s]\n",
      "Training Epoch 1797: 100%|██████████| 259/259 [00:07<00:00, 32.48it/s]\n",
      "Training Epoch 1798: 100%|██████████| 259/259 [00:07<00:00, 32.71it/s]\n",
      "Training Epoch 1799: 100%|██████████| 259/259 [00:07<00:00, 33.01it/s]\n",
      "Training Epoch 1800: 100%|██████████| 259/259 [00:08<00:00, 32.15it/s]\n",
      "Training Epoch 1801: 100%|██████████| 259/259 [00:07<00:00, 32.92it/s]\n"
     ]
    },
    {
     "name": "stdout",
     "output_type": "stream",
     "text": [
      "Epoch 1800 - Train Loss: 0.2285, Train MSE: 0.2285, Train MAE: 0.3467\n",
      "Epoch 1800 - Validation Loss: 2.5070, Validation MSE: 2.4979, Validation MAE: 1.2350\n"
     ]
    },
    {
     "name": "stderr",
     "output_type": "stream",
     "text": [
      "Training Epoch 1802: 100%|██████████| 259/259 [00:08<00:00, 32.20it/s]\n",
      "Training Epoch 1803: 100%|██████████| 259/259 [00:07<00:00, 33.16it/s]\n",
      "Training Epoch 1804: 100%|██████████| 259/259 [00:07<00:00, 32.76it/s]\n",
      "Training Epoch 1805: 100%|██████████| 259/259 [00:07<00:00, 32.75it/s]\n",
      "Training Epoch 1806: 100%|██████████| 259/259 [00:07<00:00, 32.57it/s]\n",
      "Training Epoch 1807: 100%|██████████| 259/259 [00:07<00:00, 32.73it/s]\n",
      "Training Epoch 1808: 100%|██████████| 259/259 [00:07<00:00, 32.81it/s]\n",
      "Training Epoch 1809: 100%|██████████| 259/259 [00:08<00:00, 32.00it/s]\n",
      "Training Epoch 1810: 100%|██████████| 259/259 [00:07<00:00, 33.00it/s]\n",
      "Training Epoch 1811: 100%|██████████| 259/259 [00:07<00:00, 33.05it/s]\n"
     ]
    },
    {
     "name": "stdout",
     "output_type": "stream",
     "text": [
      "Epoch 1810 - Train Loss: 0.2220, Train MSE: 0.2219, Train MAE: 0.3402\n",
      "Epoch 1810 - Validation Loss: 2.5057, Validation MSE: 2.4962, Validation MAE: 1.2436\n"
     ]
    },
    {
     "name": "stderr",
     "output_type": "stream",
     "text": [
      "Training Epoch 1812: 100%|██████████| 259/259 [00:07<00:00, 32.52it/s]\n",
      "Training Epoch 1813: 100%|██████████| 259/259 [00:07<00:00, 33.28it/s]\n",
      "Training Epoch 1814: 100%|██████████| 259/259 [00:07<00:00, 32.76it/s]\n",
      "Training Epoch 1815: 100%|██████████| 259/259 [00:07<00:00, 32.76it/s]\n",
      "Training Epoch 1816: 100%|██████████| 259/259 [00:08<00:00, 32.05it/s]\n",
      "Training Epoch 1817: 100%|██████████| 259/259 [00:07<00:00, 33.07it/s]\n",
      "Training Epoch 1818: 100%|██████████| 259/259 [00:08<00:00, 32.06it/s]\n",
      "Training Epoch 1819: 100%|██████████| 259/259 [00:07<00:00, 32.83it/s]\n",
      "Training Epoch 1820: 100%|██████████| 259/259 [00:07<00:00, 32.92it/s]\n",
      "Training Epoch 1821: 100%|██████████| 259/259 [00:07<00:00, 32.80it/s]\n"
     ]
    },
    {
     "name": "stdout",
     "output_type": "stream",
     "text": [
      "Epoch 1820 - Train Loss: 0.2211, Train MSE: 0.2213, Train MAE: 0.3401\n",
      "Epoch 1820 - Validation Loss: 2.5209, Validation MSE: 2.5122, Validation MAE: 1.2401\n"
     ]
    },
    {
     "name": "stderr",
     "output_type": "stream",
     "text": [
      "Training Epoch 1822: 100%|██████████| 259/259 [00:07<00:00, 32.83it/s]\n",
      "Training Epoch 1823: 100%|██████████| 259/259 [00:08<00:00, 31.87it/s]\n",
      "Training Epoch 1824: 100%|██████████| 259/259 [00:07<00:00, 33.04it/s]\n",
      "Training Epoch 1825: 100%|██████████| 259/259 [00:07<00:00, 32.88it/s]\n",
      "Training Epoch 1826: 100%|██████████| 259/259 [00:08<00:00, 32.13it/s]\n",
      "Training Epoch 1827: 100%|██████████| 259/259 [00:07<00:00, 32.91it/s]\n",
      "Training Epoch 1828: 100%|██████████| 259/259 [00:07<00:00, 32.78it/s]\n",
      "Training Epoch 1829: 100%|██████████| 259/259 [00:07<00:00, 32.83it/s]\n",
      "Training Epoch 1830: 100%|██████████| 259/259 [00:08<00:00, 32.32it/s]\n",
      "Training Epoch 1831: 100%|██████████| 259/259 [00:07<00:00, 32.87it/s]\n"
     ]
    },
    {
     "name": "stdout",
     "output_type": "stream",
     "text": [
      "Epoch 1830 - Train Loss: 0.2221, Train MSE: 0.2221, Train MAE: 0.3393\n",
      "Epoch 1830 - Validation Loss: 2.5162, Validation MSE: 2.5068, Validation MAE: 1.2375\n"
     ]
    },
    {
     "name": "stderr",
     "output_type": "stream",
     "text": [
      "Training Epoch 1832: 100%|██████████| 259/259 [00:07<00:00, 32.92it/s]\n",
      "Training Epoch 1833: 100%|██████████| 259/259 [00:07<00:00, 32.76it/s]\n",
      "Training Epoch 1834: 100%|██████████| 259/259 [00:07<00:00, 33.18it/s]\n",
      "Training Epoch 1835: 100%|██████████| 259/259 [00:08<00:00, 32.15it/s]\n",
      "Training Epoch 1836: 100%|██████████| 259/259 [00:07<00:00, 32.92it/s]\n",
      "Training Epoch 1837: 100%|██████████| 259/259 [00:07<00:00, 33.08it/s]\n",
      "Training Epoch 1838: 100%|██████████| 259/259 [00:07<00:00, 32.86it/s]\n",
      "Training Epoch 1839: 100%|██████████| 259/259 [00:07<00:00, 32.93it/s]\n",
      "Training Epoch 1840: 100%|██████████| 259/259 [00:07<00:00, 33.00it/s]\n",
      "Training Epoch 1841: 100%|██████████| 259/259 [00:07<00:00, 33.08it/s]\n"
     ]
    },
    {
     "name": "stdout",
     "output_type": "stream",
     "text": [
      "Epoch 1840 - Train Loss: 0.2206, Train MSE: 0.2205, Train MAE: 0.3412\n",
      "Epoch 1840 - Validation Loss: 2.5381, Validation MSE: 2.5292, Validation MAE: 1.2473\n"
     ]
    },
    {
     "name": "stderr",
     "output_type": "stream",
     "text": [
      "Training Epoch 1842: 100%|██████████| 259/259 [00:08<00:00, 32.10it/s]\n",
      "Training Epoch 1843: 100%|██████████| 259/259 [00:08<00:00, 31.99it/s]\n",
      "Training Epoch 1844: 100%|██████████| 259/259 [00:07<00:00, 32.69it/s]\n",
      "Training Epoch 1845: 100%|██████████| 259/259 [00:07<00:00, 32.75it/s]\n",
      "Training Epoch 1846: 100%|██████████| 259/259 [00:07<00:00, 32.94it/s]\n",
      "Training Epoch 1847: 100%|██████████| 259/259 [00:07<00:00, 32.46it/s]\n",
      "Training Epoch 1848: 100%|██████████| 259/259 [00:07<00:00, 33.00it/s]\n",
      "Training Epoch 1849: 100%|██████████| 259/259 [00:07<00:00, 32.86it/s]\n",
      "Training Epoch 1850: 100%|██████████| 259/259 [00:08<00:00, 32.25it/s]\n",
      "Training Epoch 1851: 100%|██████████| 259/259 [00:07<00:00, 32.73it/s]\n"
     ]
    },
    {
     "name": "stdout",
     "output_type": "stream",
     "text": [
      "Epoch 1850 - Train Loss: 0.2228, Train MSE: 0.2229, Train MAE: 0.3433\n",
      "Epoch 1850 - Validation Loss: 2.4682, Validation MSE: 2.4597, Validation MAE: 1.2281\n"
     ]
    },
    {
     "name": "stderr",
     "output_type": "stream",
     "text": [
      "Training Epoch 1852: 100%|██████████| 259/259 [00:07<00:00, 32.53it/s]\n",
      "Training Epoch 1853: 100%|██████████| 259/259 [00:07<00:00, 32.87it/s]\n",
      "Training Epoch 1854: 100%|██████████| 259/259 [00:07<00:00, 32.80it/s]\n",
      "Training Epoch 1855: 100%|██████████| 259/259 [00:07<00:00, 32.99it/s]\n",
      "Training Epoch 1856: 100%|██████████| 259/259 [00:07<00:00, 32.86it/s]\n",
      "Training Epoch 1857: 100%|██████████| 259/259 [00:08<00:00, 32.17it/s]\n",
      "Training Epoch 1858: 100%|██████████| 259/259 [00:07<00:00, 32.89it/s]\n",
      "Training Epoch 1859: 100%|██████████| 259/259 [00:08<00:00, 31.47it/s]\n",
      "Training Epoch 1860: 100%|██████████| 259/259 [00:07<00:00, 32.53it/s]\n",
      "Training Epoch 1861: 100%|██████████| 259/259 [00:07<00:00, 32.46it/s]\n"
     ]
    },
    {
     "name": "stdout",
     "output_type": "stream",
     "text": [
      "Epoch 1860 - Train Loss: 0.2249, Train MSE: 0.2247, Train MAE: 0.3434\n",
      "Epoch 1860 - Validation Loss: 2.5304, Validation MSE: 2.5216, Validation MAE: 1.2409\n"
     ]
    },
    {
     "name": "stderr",
     "output_type": "stream",
     "text": [
      "Training Epoch 1862: 100%|██████████| 259/259 [00:07<00:00, 33.06it/s]\n",
      "Training Epoch 1863: 100%|██████████| 259/259 [00:07<00:00, 32.52it/s]\n",
      "Training Epoch 1864: 100%|██████████| 259/259 [00:08<00:00, 32.07it/s]\n",
      "Training Epoch 1865: 100%|██████████| 259/259 [00:07<00:00, 32.86it/s]\n",
      "Training Epoch 1866: 100%|██████████| 259/259 [00:07<00:00, 32.42it/s]\n",
      "Training Epoch 1867: 100%|██████████| 259/259 [00:07<00:00, 32.64it/s]\n",
      "Training Epoch 1868: 100%|██████████| 259/259 [00:08<00:00, 32.05it/s]\n",
      "Training Epoch 1869: 100%|██████████| 259/259 [00:07<00:00, 32.97it/s]\n",
      "Training Epoch 1870: 100%|██████████| 259/259 [00:07<00:00, 32.72it/s]\n",
      "Training Epoch 1871: 100%|██████████| 259/259 [00:08<00:00, 32.27it/s]\n"
     ]
    },
    {
     "name": "stdout",
     "output_type": "stream",
     "text": [
      "Epoch 1870 - Train Loss: 0.2242, Train MSE: 0.2242, Train MAE: 0.3444\n",
      "Epoch 1870 - Validation Loss: 2.4867, Validation MSE: 2.4769, Validation MAE: 1.2338\n"
     ]
    },
    {
     "name": "stderr",
     "output_type": "stream",
     "text": [
      "Training Epoch 1872: 100%|██████████| 259/259 [00:07<00:00, 32.99it/s]\n",
      "Training Epoch 1873: 100%|██████████| 259/259 [00:07<00:00, 32.57it/s]\n",
      "Training Epoch 1874: 100%|██████████| 259/259 [00:07<00:00, 32.45it/s]\n",
      "Training Epoch 1875: 100%|██████████| 259/259 [00:07<00:00, 32.45it/s]\n",
      "Training Epoch 1876: 100%|██████████| 259/259 [00:07<00:00, 32.68it/s]\n",
      "Training Epoch 1877: 100%|██████████| 259/259 [00:07<00:00, 32.38it/s]\n",
      "Training Epoch 1878: 100%|██████████| 259/259 [00:08<00:00, 31.71it/s]\n",
      "Training Epoch 1879: 100%|██████████| 259/259 [00:07<00:00, 32.75it/s]\n",
      "Training Epoch 1880: 100%|██████████| 259/259 [00:07<00:00, 32.54it/s]\n",
      "Training Epoch 1881: 100%|██████████| 259/259 [00:08<00:00, 32.17it/s]\n"
     ]
    },
    {
     "name": "stdout",
     "output_type": "stream",
     "text": [
      "Epoch 1880 - Train Loss: 0.2200, Train MSE: 0.2196, Train MAE: 0.3403\n",
      "Epoch 1880 - Validation Loss: 2.5447, Validation MSE: 2.5369, Validation MAE: 1.2459\n"
     ]
    },
    {
     "name": "stderr",
     "output_type": "stream",
     "text": [
      "Training Epoch 1882: 100%|██████████| 259/259 [00:07<00:00, 32.87it/s]\n",
      "Training Epoch 1883: 100%|██████████| 259/259 [00:07<00:00, 32.82it/s]\n",
      "Training Epoch 1884: 100%|██████████| 259/259 [00:07<00:00, 32.71it/s]\n",
      "Training Epoch 1885: 100%|██████████| 259/259 [00:08<00:00, 31.77it/s]\n",
      "Training Epoch 1886: 100%|██████████| 259/259 [00:07<00:00, 32.87it/s]\n",
      "Training Epoch 1887: 100%|██████████| 259/259 [00:07<00:00, 32.59it/s]\n",
      "Training Epoch 1888: 100%|██████████| 259/259 [00:07<00:00, 32.66it/s]\n",
      "Training Epoch 1889: 100%|██████████| 259/259 [00:07<00:00, 32.86it/s]\n",
      "Training Epoch 1890: 100%|██████████| 259/259 [00:07<00:00, 32.51it/s]\n",
      "Training Epoch 1891: 100%|██████████| 259/259 [00:07<00:00, 32.57it/s]\n"
     ]
    },
    {
     "name": "stdout",
     "output_type": "stream",
     "text": [
      "Epoch 1890 - Train Loss: 0.2196, Train MSE: 0.2197, Train MAE: 0.3390\n",
      "Epoch 1890 - Validation Loss: 2.5606, Validation MSE: 2.5502, Validation MAE: 1.2447\n"
     ]
    },
    {
     "name": "stderr",
     "output_type": "stream",
     "text": [
      "Training Epoch 1892: 100%|██████████| 259/259 [00:08<00:00, 31.88it/s]\n",
      "Training Epoch 1893: 100%|██████████| 259/259 [00:07<00:00, 32.79it/s]\n",
      "Training Epoch 1894: 100%|██████████| 259/259 [00:07<00:00, 32.42it/s]\n",
      "Training Epoch 1895: 100%|██████████| 259/259 [00:07<00:00, 32.64it/s]\n",
      "Training Epoch 1896: 100%|██████████| 259/259 [00:07<00:00, 32.73it/s]\n",
      "Training Epoch 1897: 100%|██████████| 259/259 [00:07<00:00, 32.54it/s]\n",
      "Training Epoch 1898: 100%|██████████| 259/259 [00:07<00:00, 32.62it/s]\n",
      "Training Epoch 1899: 100%|██████████| 259/259 [00:08<00:00, 31.82it/s]\n",
      "Training Epoch 1900: 100%|██████████| 259/259 [00:08<00:00, 32.32it/s]\n",
      "Training Epoch 1901: 100%|██████████| 259/259 [00:08<00:00, 32.35it/s]\n"
     ]
    },
    {
     "name": "stdout",
     "output_type": "stream",
     "text": [
      "Epoch 1900 - Train Loss: 0.2194, Train MSE: 0.2189, Train MAE: 0.3394\n",
      "Epoch 1900 - Validation Loss: 2.5280, Validation MSE: 2.5191, Validation MAE: 1.2437\n"
     ]
    },
    {
     "name": "stderr",
     "output_type": "stream",
     "text": [
      "Training Epoch 1902: 100%|██████████| 259/259 [00:07<00:00, 32.66it/s]\n",
      "Training Epoch 1903: 100%|██████████| 259/259 [00:07<00:00, 33.14it/s]\n",
      "Training Epoch 1904: 100%|██████████| 259/259 [00:07<00:00, 32.64it/s]\n",
      "Training Epoch 1905: 100%|██████████| 259/259 [00:07<00:00, 32.49it/s]\n",
      "Training Epoch 1906: 100%|██████████| 259/259 [00:08<00:00, 32.04it/s]\n",
      "Training Epoch 1907: 100%|██████████| 259/259 [00:07<00:00, 32.88it/s]\n",
      "Training Epoch 1908: 100%|██████████| 259/259 [00:08<00:00, 32.09it/s]\n",
      "Training Epoch 1909: 100%|██████████| 259/259 [00:07<00:00, 32.59it/s]\n",
      "Training Epoch 1910: 100%|██████████| 259/259 [00:07<00:00, 32.68it/s]\n",
      "Training Epoch 1911: 100%|██████████| 259/259 [00:07<00:00, 32.51it/s]\n"
     ]
    },
    {
     "name": "stdout",
     "output_type": "stream",
     "text": [
      "Epoch 1910 - Train Loss: 0.2178, Train MSE: 0.2180, Train MAE: 0.3387\n",
      "Epoch 1910 - Validation Loss: 2.4638, Validation MSE: 2.4543, Validation MAE: 1.2291\n"
     ]
    },
    {
     "name": "stderr",
     "output_type": "stream",
     "text": [
      "Training Epoch 1912: 100%|██████████| 259/259 [00:07<00:00, 32.64it/s]\n",
      "Training Epoch 1913: 100%|██████████| 259/259 [00:07<00:00, 32.68it/s]\n",
      "Training Epoch 1914: 100%|██████████| 259/259 [00:07<00:00, 32.59it/s]\n",
      "Training Epoch 1915: 100%|██████████| 259/259 [00:07<00:00, 32.69it/s]\n",
      "Training Epoch 1916: 100%|██████████| 259/259 [00:07<00:00, 32.48it/s]\n",
      "Training Epoch 1917: 100%|██████████| 259/259 [00:07<00:00, 32.96it/s]\n",
      "Training Epoch 1918: 100%|██████████| 259/259 [00:07<00:00, 32.55it/s]\n",
      "Training Epoch 1919: 100%|██████████| 259/259 [00:08<00:00, 31.99it/s]\n",
      "Training Epoch 1920: 100%|██████████| 259/259 [00:07<00:00, 32.73it/s]\n",
      "Training Epoch 1921: 100%|██████████| 259/259 [00:07<00:00, 32.86it/s]\n"
     ]
    },
    {
     "name": "stdout",
     "output_type": "stream",
     "text": [
      "Epoch 1920 - Train Loss: 0.2350, Train MSE: 0.2349, Train MAE: 0.3523\n",
      "Epoch 1920 - Validation Loss: 2.4971, Validation MSE: 2.4880, Validation MAE: 1.2371\n"
     ]
    },
    {
     "name": "stderr",
     "output_type": "stream",
     "text": [
      "Training Epoch 1922: 100%|██████████| 259/259 [00:07<00:00, 32.76it/s]\n",
      "Training Epoch 1923: 100%|██████████| 259/259 [00:07<00:00, 32.47it/s]\n",
      "Training Epoch 1924: 100%|██████████| 259/259 [00:07<00:00, 32.45it/s]\n",
      "Training Epoch 1925: 100%|██████████| 259/259 [00:07<00:00, 32.64it/s]\n",
      "Training Epoch 1926: 100%|██████████| 259/259 [00:08<00:00, 32.24it/s]\n",
      "Training Epoch 1927: 100%|██████████| 259/259 [00:07<00:00, 32.60it/s]\n",
      "Training Epoch 1928: 100%|██████████| 259/259 [00:07<00:00, 32.40it/s]\n",
      "Training Epoch 1929: 100%|██████████| 259/259 [00:07<00:00, 32.52it/s]\n",
      "Training Epoch 1930: 100%|██████████| 259/259 [00:07<00:00, 32.63it/s]\n",
      "Training Epoch 1931: 100%|██████████| 259/259 [00:07<00:00, 33.02it/s]\n"
     ]
    },
    {
     "name": "stdout",
     "output_type": "stream",
     "text": [
      "Epoch 1930 - Train Loss: 0.2199, Train MSE: 0.2201, Train MAE: 0.3430\n",
      "Epoch 1930 - Validation Loss: 2.5744, Validation MSE: 2.5652, Validation MAE: 1.2550\n"
     ]
    },
    {
     "name": "stderr",
     "output_type": "stream",
     "text": [
      "Training Epoch 1932: 100%|██████████| 259/259 [00:07<00:00, 32.73it/s]\n",
      "Training Epoch 1933: 100%|██████████| 259/259 [00:08<00:00, 32.35it/s]\n",
      "Training Epoch 1934: 100%|██████████| 259/259 [00:08<00:00, 32.24it/s]\n",
      "Training Epoch 1935: 100%|██████████| 259/259 [00:08<00:00, 32.35it/s]\n",
      "Training Epoch 1936: 100%|██████████| 259/259 [00:07<00:00, 32.62it/s]\n",
      "Training Epoch 1937: 100%|██████████| 259/259 [00:07<00:00, 32.72it/s]\n",
      "Training Epoch 1938: 100%|██████████| 259/259 [00:07<00:00, 33.03it/s]\n",
      "Training Epoch 1939: 100%|██████████| 259/259 [00:07<00:00, 32.76it/s]\n",
      "Training Epoch 1940: 100%|██████████| 259/259 [00:08<00:00, 32.14it/s]\n",
      "Training Epoch 1941: 100%|██████████| 259/259 [00:07<00:00, 32.72it/s]\n"
     ]
    },
    {
     "name": "stdout",
     "output_type": "stream",
     "text": [
      "Epoch 1940 - Train Loss: 0.2159, Train MSE: 0.2160, Train MAE: 0.3420\n",
      "Epoch 1940 - Validation Loss: 2.5113, Validation MSE: 2.5023, Validation MAE: 1.2363\n"
     ]
    },
    {
     "name": "stderr",
     "output_type": "stream",
     "text": [
      "Training Epoch 1942: 100%|██████████| 259/259 [00:08<00:00, 31.94it/s]\n",
      "Training Epoch 1943: 100%|██████████| 259/259 [00:07<00:00, 32.68it/s]\n",
      "Training Epoch 1944: 100%|██████████| 259/259 [00:07<00:00, 32.46it/s]\n",
      "Training Epoch 1945: 100%|██████████| 259/259 [00:07<00:00, 32.94it/s]\n",
      "Training Epoch 1946: 100%|██████████| 259/259 [00:07<00:00, 32.50it/s]\n",
      "Training Epoch 1947: 100%|██████████| 259/259 [00:08<00:00, 31.96it/s]\n",
      "Training Epoch 1948: 100%|██████████| 259/259 [00:08<00:00, 32.13it/s]\n",
      "Training Epoch 1949: 100%|██████████| 259/259 [00:07<00:00, 32.43it/s]\n",
      "Training Epoch 1950: 100%|██████████| 259/259 [00:07<00:00, 32.78it/s]\n",
      "Training Epoch 1951: 100%|██████████| 259/259 [00:07<00:00, 32.70it/s]\n"
     ]
    },
    {
     "name": "stdout",
     "output_type": "stream",
     "text": [
      "Epoch 1950 - Train Loss: 0.2234, Train MSE: 0.2234, Train MAE: 0.3416\n",
      "Epoch 1950 - Validation Loss: 2.4943, Validation MSE: 2.4860, Validation MAE: 1.2346\n"
     ]
    },
    {
     "name": "stderr",
     "output_type": "stream",
     "text": [
      "Training Epoch 1952: 100%|██████████| 259/259 [00:07<00:00, 32.79it/s]\n",
      "Training Epoch 1953: 100%|██████████| 259/259 [00:07<00:00, 32.62it/s]\n",
      "Training Epoch 1954: 100%|██████████| 259/259 [00:07<00:00, 32.40it/s]\n",
      "Training Epoch 1955: 100%|██████████| 259/259 [00:07<00:00, 32.76it/s]\n",
      "Training Epoch 1956: 100%|██████████| 259/259 [00:07<00:00, 32.59it/s]\n",
      "Training Epoch 1957: 100%|██████████| 259/259 [00:07<00:00, 32.74it/s]\n",
      "Training Epoch 1958: 100%|██████████| 259/259 [00:08<00:00, 32.21it/s]\n",
      "Training Epoch 1959: 100%|██████████| 259/259 [00:07<00:00, 32.93it/s]\n",
      "Training Epoch 1960: 100%|██████████| 259/259 [00:07<00:00, 32.64it/s]\n",
      "Training Epoch 1961: 100%|██████████| 259/259 [00:08<00:00, 32.04it/s]\n"
     ]
    },
    {
     "name": "stdout",
     "output_type": "stream",
     "text": [
      "Epoch 1960 - Train Loss: 0.2261, Train MSE: 0.2262, Train MAE: 0.3452\n",
      "Epoch 1960 - Validation Loss: 2.5505, Validation MSE: 2.5417, Validation MAE: 1.2488\n"
     ]
    },
    {
     "name": "stderr",
     "output_type": "stream",
     "text": [
      "Training Epoch 1962: 100%|██████████| 259/259 [00:07<00:00, 32.40it/s]\n",
      "Training Epoch 1963: 100%|██████████| 259/259 [00:07<00:00, 32.60it/s]\n",
      "Training Epoch 1964: 100%|██████████| 259/259 [00:07<00:00, 32.67it/s]\n",
      "Training Epoch 1965: 100%|██████████| 259/259 [00:07<00:00, 33.39it/s]\n",
      "Training Epoch 1966: 100%|██████████| 259/259 [00:07<00:00, 32.68it/s]\n",
      "Training Epoch 1967: 100%|██████████| 259/259 [00:07<00:00, 32.55it/s]\n",
      "Training Epoch 1968: 100%|██████████| 259/259 [00:08<00:00, 31.65it/s]\n",
      "Training Epoch 1969: 100%|██████████| 259/259 [00:07<00:00, 33.17it/s]\n",
      "Training Epoch 1970: 100%|██████████| 259/259 [00:07<00:00, 32.54it/s]\n",
      "Training Epoch 1971: 100%|██████████| 259/259 [00:07<00:00, 32.79it/s]\n"
     ]
    },
    {
     "name": "stdout",
     "output_type": "stream",
     "text": [
      "Epoch 1970 - Train Loss: 0.2141, Train MSE: 0.2142, Train MAE: 0.3367\n",
      "Epoch 1970 - Validation Loss: 2.5460, Validation MSE: 2.5368, Validation MAE: 1.2482\n"
     ]
    },
    {
     "name": "stderr",
     "output_type": "stream",
     "text": [
      "Training Epoch 1972: 100%|██████████| 259/259 [00:07<00:00, 32.72it/s]\n",
      "Training Epoch 1973: 100%|██████████| 259/259 [00:07<00:00, 32.80it/s]\n",
      "Training Epoch 1974: 100%|██████████| 259/259 [00:07<00:00, 32.82it/s]\n",
      "Training Epoch 1975: 100%|██████████| 259/259 [00:08<00:00, 32.02it/s]\n",
      "Training Epoch 1976: 100%|██████████| 259/259 [00:07<00:00, 32.59it/s]\n",
      "Training Epoch 1977: 100%|██████████| 259/259 [00:07<00:00, 32.64it/s]\n",
      "Training Epoch 1978: 100%|██████████| 259/259 [00:07<00:00, 32.68it/s]\n",
      "Training Epoch 1979: 100%|██████████| 259/259 [00:07<00:00, 32.57it/s]\n",
      "Training Epoch 1980: 100%|██████████| 259/259 [00:07<00:00, 32.45it/s]\n",
      "Training Epoch 1981: 100%|██████████| 259/259 [00:07<00:00, 32.73it/s]\n"
     ]
    },
    {
     "name": "stdout",
     "output_type": "stream",
     "text": [
      "Epoch 1980 - Train Loss: 0.2287, Train MSE: 0.2287, Train MAE: 0.3483\n",
      "Epoch 1980 - Validation Loss: 2.5353, Validation MSE: 2.5264, Validation MAE: 1.2425\n"
     ]
    },
    {
     "name": "stderr",
     "output_type": "stream",
     "text": [
      "Training Epoch 1982: 100%|██████████| 259/259 [00:08<00:00, 31.89it/s]\n",
      "Training Epoch 1983: 100%|██████████| 259/259 [00:07<00:00, 33.05it/s]\n",
      "Training Epoch 1984: 100%|██████████| 259/259 [00:07<00:00, 32.48it/s]\n",
      "Training Epoch 1985: 100%|██████████| 259/259 [00:07<00:00, 32.64it/s]\n",
      "Training Epoch 1986: 100%|██████████| 259/259 [00:07<00:00, 32.75it/s]\n",
      "Training Epoch 1987: 100%|██████████| 259/259 [00:07<00:00, 32.43it/s]\n",
      "Training Epoch 1988: 100%|██████████| 259/259 [00:07<00:00, 32.69it/s]\n",
      "Training Epoch 1989: 100%|██████████| 259/259 [00:08<00:00, 31.72it/s]\n",
      "Training Epoch 1990: 100%|██████████| 259/259 [00:07<00:00, 32.97it/s]\n",
      "Training Epoch 1991: 100%|██████████| 259/259 [00:07<00:00, 32.66it/s]\n"
     ]
    },
    {
     "name": "stdout",
     "output_type": "stream",
     "text": [
      "Epoch 1990 - Train Loss: 0.2155, Train MSE: 0.2155, Train MAE: 0.3338\n",
      "Epoch 1990 - Validation Loss: 2.4971, Validation MSE: 2.4896, Validation MAE: 1.2404\n"
     ]
    },
    {
     "name": "stderr",
     "output_type": "stream",
     "text": [
      "Training Epoch 1992: 100%|██████████| 259/259 [00:08<00:00, 32.14it/s]\n",
      "Training Epoch 1993: 100%|██████████| 259/259 [00:07<00:00, 32.88it/s]\n",
      "Training Epoch 1994: 100%|██████████| 259/259 [00:07<00:00, 32.56it/s]\n",
      "Training Epoch 1995: 100%|██████████| 259/259 [00:07<00:00, 32.49it/s]\n",
      "Training Epoch 1996: 100%|██████████| 259/259 [00:07<00:00, 32.45it/s]\n",
      "Training Epoch 1997: 100%|██████████| 259/259 [00:07<00:00, 32.77it/s]\n",
      "Training Epoch 1998: 100%|██████████| 259/259 [00:07<00:00, 32.79it/s]\n",
      "Training Epoch 1999: 100%|██████████| 259/259 [00:07<00:00, 32.81it/s]\n",
      "Training Epoch 2000: 100%|██████████| 259/259 [00:07<00:00, 32.75it/s]\n"
     ]
    },
    {
     "name": "stdout",
     "output_type": "stream",
     "text": [
      "Test MSE: 3.1989, Test MAE: 1.3766\n"
     ]
    }
   ],
   "source": [
    "import torch\n",
    "import torch.nn as nn\n",
    "import torch.optim as optim\n",
    "from tqdm import tqdm\n",
    "import pandas as pd\n",
    "from sklearn.metrics import r2_score, median_absolute_error, explained_variance_score\n",
    "from scipy.stats import pearsonr\n",
    "\n",
    "\n",
    "train_history = pd.DataFrame(columns=[  'epoch',\n",
    "    'Train Loss', 'Train MSE', 'Train MAE', 'Train RMSE', 'Train R2', 'Train Pearson', 'Train Median_AE', 'Train Explained_VAR'\n",
    "    'Val Loss', 'Val MSE', 'Val MAE', 'Val RMSE', 'Val R2', 'Val Pearson', 'Val Median_AE', 'Val Explained_VAR'])\n",
    "# Verify feature dimensions\n",
    "for batch in train_loader:\n",
    "    mol_input_dim = batch['metabolite_features'].shape[1]  # Dynamically determine mol input dimension\n",
    "    protein_input_dim = batch['protein_features'].shape[1]  # Dynamically determine protein input dimension\n",
    "    break\n",
    "\n",
    "# Initialize model, optimizer, and loss function\n",
    "model = CNNRegressor(mol_input_dim=mol_input_dim, protein_input_dim=protein_input_dim)\n",
    "model = model.to(device)\n",
    "optimizer = optim.Adam(model.parameters(), lr=0.0001)\n",
    "criterion = nn.MSELoss()\n",
    "\n",
    "# Training and Validation Loop\n",
    "for epoch in range(2000):\n",
    "    model.train()\n",
    "    total_loss = 0.0\n",
    "    val_total_loss = 0.0\n",
    "    train_predictions, train_labels = [], []\n",
    "\n",
    "    for batch in tqdm(train_loader, desc=f\"Training Epoch {epoch + 1}\"):\n",
    "        mol_features = batch['metabolite_features'].to(device)\n",
    "        protein_features = batch['protein_features'].to(device)\n",
    "        labels = batch['label'].to(device)\n",
    "\n",
    "        optimizer.zero_grad()\n",
    "        outputs = model(mol_features, protein_features)\n",
    "        loss = criterion(outputs, labels)\n",
    "        loss.backward()\n",
    "        optimizer.step()\n",
    "        total_loss += loss.item()\n",
    "\n",
    "        # Store predictions and labels for metrics\n",
    "        outputs = outputs.view(-1) \n",
    "        labels = labels.view(-1)\n",
    "        train_predictions.extend(outputs.detach().cpu().numpy())\n",
    "        train_labels.extend(labels.cpu().numpy())\n",
    "\n",
    "    # Calculate training metrics\n",
    "    train_mse = ((torch.tensor(train_predictions) - torch.tensor(train_labels))**2).mean().item()\n",
    "    train_mae = torch.abs(torch.tensor(train_predictions) - torch.tensor(train_labels)).mean().item()\n",
    "    train_rmse = torch.sqrt((torch.tensor(train_predictions) - torch.tensor(train_labels)) ** 2).mean().item()\n",
    "    train_r2 = r2_score(np.array(train_labels), np.array(train_predictions))\n",
    "    train_pearson_corr, _ = pearsonr(np.array(train_labels), np.array(train_predictions))\n",
    "    train_median_ae = median_absolute_error(np.array(train_labels), np.array(train_predictions))\n",
    "    train_explained_var = explained_variance_score(np.array(train_labels), np.array(train_predictions))\n",
    "\n",
    "\n",
    "\n",
    "    if epoch % 10 == 0:\n",
    "        print(f\"Epoch {epoch} - Train Loss: {total_loss / len(train_loader):.4f}, Train MSE: {train_mse:.4f}, Train MAE: {train_mae:.4f}\")\n",
    "\n",
    "    # Validation\n",
    "    model.eval()\n",
    "    val_predictions, val_labels = [], []\n",
    "    with torch.no_grad():\n",
    "        for batch in val_loader:\n",
    "            mol_features = batch['metabolite_features'].to(device)\n",
    "            protein_features = batch['protein_features'].to(device)\n",
    "            labels = batch['label'].to(device)\n",
    "\n",
    "            outputs = model(mol_features, protein_features)\n",
    "            val_predictions.extend(outputs.cpu().numpy())\n",
    "            val_labels.extend(labels.cpu().numpy())\n",
    "            val_loss = criterion(outputs, labels)\n",
    "            val_total_loss += val_loss.item()\n",
    "\n",
    "    val_mse = ((torch.tensor(val_predictions) - torch.tensor(val_labels))**2).mean().item()\n",
    "    val_mae = torch.abs(torch.tensor(val_predictions) - torch.tensor(val_labels)).mean().item()\n",
    "    val_rmse = torch.sqrt((torch.tensor(val_predictions) - torch.tensor(val_labels)) ** 2).mean().item()\n",
    "    val_r2 = r2_score(np.array(val_labels), np.array(val_predictions))\n",
    "    val_pearson_corr, _ = pearsonr(np.array(val_labels), np.array(val_predictions))\n",
    "    val_median_ae = median_absolute_error(np.array(val_labels), np.array(val_predictions))\n",
    "    val_explained_var = explained_variance_score(np.array(val_labels), np.array(val_predictions))\n",
    "\n",
    "    if epoch % 10 == 0:\n",
    "        print(f\"Epoch {epoch} - Validation Loss: {val_total_loss / len(val_loader):.4f}, Validation MSE: {val_mse:.4f}, Validation MAE: {val_mae:.4f}\")\n",
    "\n",
    "    # Save metrics to DataFrame\n",
    "    new_row = {'epoch': epoch + 1, 'Train Loss': total_loss / len(train_loader), 'Train MSE': train_mse, 'Train MAE': train_mae, 'Train RMSE': train_rmse, 'Train R2': train_r2, 'Train Pearson': train_pearson_corr, 'Train Median_AE': train_median_ae, 'Train Explained_VAR': train_explained_var, \n",
    "               'Val Loss': val_total_loss / len(val_loader), 'Val MSE': val_mse, 'Val MAE': val_mae, 'Val RMSE': val_rmse, 'Val R2': val_r2, 'Val Pearson': val_pearson_corr, 'Val Median_AE': val_median_ae, 'Val Explained_VAR': val_explained_var}\n",
    "    train_history = pd.concat([train_history, pd.DataFrame([new_row])], ignore_index=True)\n",
    "\n",
    "\n"
   ]
  },
  {
   "cell_type": "code",
   "execution_count": 9,
   "metadata": {},
   "outputs": [],
   "source": [
    "for batch in train_loader:\n",
    "    mol_input_dim = batch['metabolite_features'].shape[1]  # Dynamically determine mol input dimension\n",
    "    protein_input_dim = batch['protein_features'].shape[1]  # Dynamically determine protein input dimension\n",
    "    break\n",
    "# First, reinitialize the model with the same architecture\n",
    "model = CNNRegressor(mol_input_dim=mol_input_dim, protein_input_dim=protein_input_dim)\n",
    "\n",
    "# Load the saved model weights\n",
    "model.load_state_dict(torch.load('/Users/pinchichen/2025S lab/AI drug project/Catpred/Ki/trained_model/cold_protein/CNN model_Catpred_Ki_cold_protein.pt'))\n",
    "# Move to device if using GPU\n",
    "model = model.to(device)\n"
   ]
  },
  {
   "cell_type": "code",
   "execution_count": 10,
   "metadata": {},
   "outputs": [
    {
     "name": "stdout",
     "output_type": "stream",
     "text": [
      "Test MSE: 3.1989, Test RMSE: 1.788551691, Test MAE: 1.3766, Test R2: 0.0804, Test Pearson Correlation: 0.4939, Test Median AE: 1.0788, Test Explained Variance: 0.0818\n"
     ]
    }
   ],
   "source": [
    "from sklearn.metrics import mean_squared_error, mean_absolute_error, r2_score, median_absolute_error, explained_variance_score\n",
    "from scipy.stats import pearsonr\n",
    "# Test Metrics\n",
    "model.eval()\n",
    "test_predictions, test_labels = [], []\n",
    "with torch.no_grad():\n",
    "    for batch in test_loader:\n",
    "        mol_features = batch['metabolite_features'].to(device)\n",
    "        protein_features = batch['protein_features'].to(device)\n",
    "        labels = batch['label'].to(device)\n",
    "\n",
    "        outputs = model(mol_features, protein_features)\n",
    "        test_predictions.extend(outputs.cpu().numpy())\n",
    "        test_labels.extend(labels.cpu().numpy())\n",
    "\n",
    "test_mse = ((torch.tensor(test_predictions) - torch.tensor(test_labels))**2).mean().item()\n",
    "test_mae = torch.abs(torch.tensor(test_predictions) - torch.tensor(test_labels)).mean().item()\n",
    "test_rmse = np.sqrt(test_mse)\n",
    "test_r2 = r2_score(np.array(test_labels), np.array(test_predictions))\n",
    "test_pearson_corr, _ = pearsonr(np.array(test_labels), np.array(test_predictions))\n",
    "test_median_ae = median_absolute_error(np.array(test_labels), np.array(test_predictions))\n",
    "test_explained_var = explained_variance_score(np.array(test_labels), np.array(test_predictions))\n",
    "\n",
    "print(f\"Test MSE: {test_mse:.4f}, Test RMSE: {test_rmse:.9f}, Test MAE: {test_mae:.4f}, Test R2: {test_r2:.4f}, Test Pearson Correlation: {test_pearson_corr:.4f}, Test Median AE: {test_median_ae:.4f}, Test Explained Variance: {test_explained_var:.4f}\")"
   ]
  },
  {
   "cell_type": "code",
   "execution_count": 13,
   "metadata": {},
   "outputs": [],
   "source": [
    "\n",
    "def evaluate_model(predictions, labels):\n",
    "    mse = mean_squared_error(labels, predictions)\n",
    "    rmse = np.sqrt(mse)\n",
    "    mae = mean_absolute_error(labels, predictions)\n",
    "    r2 = r2_score(labels, predictions)\n",
    "    pearson_corr, _ = pearsonr(labels, predictions)\n",
    "    medae = median_absolute_error(labels, predictions)\n",
    "    evs = explained_variance_score(labels, predictions)\n",
    "\n",
    "    return mse, rmse, mae, r2, pearson_corr, medae, evs"
   ]
  },
  {
   "cell_type": "code",
   "execution_count": 14,
   "metadata": {},
   "outputs": [],
   "source": [
    "model.eval()\n",
    "train_pred, train_labels = [], []\n",
    "with torch.no_grad():\n",
    "    for batch in train_loader:\n",
    "        mol_features = batch['metabolite_features'].to(device)\n",
    "        protein_features = batch['protein_features'].to(device)\n",
    "        labels = batch['label'].to(device)\n",
    "\n",
    "        outputs = model(mol_features, protein_features)\n",
    "        train_pred.extend(outputs.cpu().numpy())\n",
    "        train_labels.extend(labels.cpu().numpy())\n",
    "\n",
    "train_mse, train_rmse, train_mae, train_r2, train_pearson_corr, train_median_ae, train_explained_var = evaluate_model(train_pred, train_labels)"
   ]
  },
  {
   "cell_type": "code",
   "execution_count": 15,
   "metadata": {},
   "outputs": [],
   "source": [
    "model.eval()\n",
    "val_pred, val_labels = [], []\n",
    "with torch.no_grad():\n",
    "    for batch in val_loader:\n",
    "        mol_features = batch['metabolite_features'].to(device)\n",
    "        protein_features = batch['protein_features'].to(device)\n",
    "        labels = batch['label'].to(device)\n",
    "\n",
    "        outputs = model(mol_features, protein_features)\n",
    "        val_pred.extend(outputs.cpu().numpy())\n",
    "        val_labels.extend(labels.cpu().numpy())\n",
    "\n",
    "val_mse, val_rmse, val_mae, val_r2, val_pearson_corr, val_median_ae, val_explained_var = evaluate_model(val_pred, val_labels)\n"
   ]
  },
  {
   "cell_type": "code",
   "execution_count": 16,
   "metadata": {},
   "outputs": [],
   "source": [
    "# append the performance to the csv file\n",
    "df = {\n",
    "    'Model':['CNN','CNN','CNN'],\n",
    "    'Dataset':['Train','Validation','Test'],\n",
    "    'MSE':[train_mse,val_mse,test_mse],\n",
    "    'RMSE':[train_rmse,val_rmse,test_rmse],\n",
    "    'MAE':[train_mae,val_mae,test_mae],\n",
    "    'R2':[train_r2,val_r2,test_r2],\n",
    "    'Pearson':[train_pearson_corr,val_pearson_corr,test_pearson_corr],\n",
    "    'Median_AE':[train_median_ae,val_median_ae,test_median_ae],\n",
    "    'Explained_VAR':[train_explained_var,val_explained_var,test_explained_var],\n",
    "    'Dataspliting Mode':['cold protein','cold protein','cold protein']\n",
    "}\n",
    "df = pd.DataFrame(df)\n",
    "\n",
    "df.to_csv('/Users/pinchichen/2025S lab/AI drug project/Catpred/Ki/model performance metrics_Catpred_Ki.csv', mode='a', header=False)"
   ]
  },
  {
   "cell_type": "code",
   "execution_count": 11,
   "metadata": {},
   "outputs": [],
   "source": [
    "# Save the model and training history\n",
    "save_dir = '/Users/pinchichen/2025S lab/AI drug project/Catpred/Ki/trained_model/cold_protein'\n",
    "# save model weights and optimizer state\n",
    "torch.save(model.state_dict(), os.path.join(save_dir, 'CNN model_Catpred_Ki_cold_protein.pt'))\n",
    "torch.save(optimizer.state_dict(), os.path.join(save_dir, 'CNN optimizer_Catpred_Ki_cold_protein.pt'))"
   ]
  },
  {
   "cell_type": "code",
   "execution_count": null,
   "metadata": {},
   "outputs": [
    {
     "name": "stderr",
     "output_type": "stream",
     "text": [
      "Training Epoch 1: 100%|██████████| 258/258 [00:08<00:00, 32.01it/s]\n"
     ]
    },
    {
     "name": "stdout",
     "output_type": "stream",
     "text": [
      "Epoch 0 - Train Loss: 3.3951, Train MSE: 3.3971, Train MAE: 1.4618\n"
     ]
    },
    {
     "name": "stderr",
     "output_type": "stream",
     "text": [
      "/var/folders/yz/c1z6m9_d5d3f80sywjc3rqsc0000gn/T/ipykernel_19584/1942707835.py:84: FutureWarning: The behavior of DataFrame concatenation with empty or all-NA entries is deprecated. In a future version, this will no longer exclude empty or all-NA columns when determining the result dtypes. To retain the old behavior, exclude the relevant entries before the concat operation.\n",
      "  train_history_2 = pd.concat([train_history_2, pd.DataFrame([new_row])], ignore_index=True)\n"
     ]
    },
    {
     "name": "stdout",
     "output_type": "stream",
     "text": [
      "Epoch 0 - Validation Loss: 2.9267, Validation MSE: 2.9087, Validation MAE: 1.3825\n"
     ]
    },
    {
     "name": "stderr",
     "output_type": "stream",
     "text": [
      "Training Epoch 2: 100%|██████████| 258/258 [00:08<00:00, 31.59it/s]\n",
      "Training Epoch 3: 100%|██████████| 258/258 [00:07<00:00, 32.97it/s]\n",
      "Training Epoch 4: 100%|██████████| 258/258 [00:07<00:00, 32.64it/s]\n",
      "Training Epoch 5: 100%|██████████| 258/258 [00:07<00:00, 32.67it/s]\n",
      "Training Epoch 6: 100%|██████████| 258/258 [00:07<00:00, 32.75it/s]\n",
      "Training Epoch 7: 100%|██████████| 258/258 [00:07<00:00, 32.82it/s]\n",
      "Training Epoch 8: 100%|██████████| 258/258 [00:07<00:00, 32.89it/s]\n",
      "Training Epoch 9: 100%|██████████| 258/258 [00:07<00:00, 34.25it/s]\n",
      "Training Epoch 10: 100%|██████████| 258/258 [00:07<00:00, 35.80it/s]\n",
      "Training Epoch 11: 100%|██████████| 258/258 [00:07<00:00, 35.37it/s]\n"
     ]
    },
    {
     "name": "stdout",
     "output_type": "stream",
     "text": [
      "Epoch 10 - Train Loss: 2.4062, Train MSE: 2.4071, Train MAE: 1.2132\n",
      "Epoch 10 - Validation Loss: 2.5607, Validation MSE: 2.5442, Validation MAE: 1.2604\n"
     ]
    },
    {
     "name": "stderr",
     "output_type": "stream",
     "text": [
      "Training Epoch 12: 100%|██████████| 258/258 [00:07<00:00, 35.46it/s]\n",
      "Training Epoch 13: 100%|██████████| 258/258 [00:07<00:00, 35.48it/s]\n",
      "Training Epoch 14: 100%|██████████| 258/258 [00:07<00:00, 35.87it/s]\n",
      "Training Epoch 15: 100%|██████████| 258/258 [00:07<00:00, 35.32it/s]\n",
      "Training Epoch 16: 100%|██████████| 258/258 [00:07<00:00, 35.36it/s]\n",
      "Training Epoch 17: 100%|██████████| 258/258 [00:07<00:00, 35.13it/s]\n",
      "Training Epoch 18: 100%|██████████| 258/258 [00:07<00:00, 35.59it/s]\n",
      "Training Epoch 19: 100%|██████████| 258/258 [00:07<00:00, 34.48it/s]\n",
      "Training Epoch 20: 100%|██████████| 258/258 [00:07<00:00, 35.46it/s]\n",
      "Training Epoch 21: 100%|██████████| 258/258 [00:07<00:00, 35.95it/s]\n"
     ]
    },
    {
     "name": "stdout",
     "output_type": "stream",
     "text": [
      "Epoch 20 - Train Loss: 2.1813, Train MSE: 2.1841, Train MAE: 1.1558\n",
      "Epoch 20 - Validation Loss: 2.6309, Validation MSE: 2.6126, Validation MAE: 1.2502\n"
     ]
    },
    {
     "name": "stderr",
     "output_type": "stream",
     "text": [
      "Training Epoch 22: 100%|██████████| 258/258 [00:07<00:00, 35.61it/s]\n",
      "Training Epoch 23: 100%|██████████| 258/258 [00:07<00:00, 35.49it/s]\n",
      "Training Epoch 24: 100%|██████████| 258/258 [00:07<00:00, 34.78it/s]\n",
      "Training Epoch 25: 100%|██████████| 258/258 [00:07<00:00, 35.81it/s]\n",
      "Training Epoch 26: 100%|██████████| 258/258 [00:07<00:00, 35.23it/s]\n",
      "Training Epoch 27: 100%|██████████| 258/258 [00:07<00:00, 35.35it/s]\n",
      "Training Epoch 28: 100%|██████████| 258/258 [00:07<00:00, 35.86it/s]\n",
      "Training Epoch 29: 100%|██████████| 258/258 [00:07<00:00, 35.66it/s]\n",
      "Training Epoch 30: 100%|██████████| 258/258 [00:07<00:00, 35.42it/s]\n",
      "Training Epoch 31: 100%|██████████| 258/258 [00:07<00:00, 35.34it/s]\n"
     ]
    },
    {
     "name": "stdout",
     "output_type": "stream",
     "text": [
      "Epoch 30 - Train Loss: 1.9438, Train MSE: 1.9446, Train MAE: 1.0845\n",
      "Epoch 30 - Validation Loss: 2.3781, Validation MSE: 2.3583, Validation MAE: 1.2113\n"
     ]
    },
    {
     "name": "stderr",
     "output_type": "stream",
     "text": [
      "Training Epoch 32: 100%|██████████| 258/258 [00:07<00:00, 35.09it/s]\n",
      "Training Epoch 33: 100%|██████████| 258/258 [00:07<00:00, 35.50it/s]\n",
      "Training Epoch 34: 100%|██████████| 258/258 [00:07<00:00, 35.50it/s]\n",
      "Training Epoch 35: 100%|██████████| 258/258 [00:07<00:00, 35.96it/s]\n",
      "Training Epoch 36: 100%|██████████| 258/258 [00:07<00:00, 35.23it/s]\n",
      "Training Epoch 37: 100%|██████████| 258/258 [00:07<00:00, 35.40it/s]\n",
      "Training Epoch 38: 100%|██████████| 258/258 [00:07<00:00, 35.36it/s]\n",
      "Training Epoch 39: 100%|██████████| 258/258 [00:07<00:00, 35.82it/s]\n",
      "Training Epoch 40: 100%|██████████| 258/258 [00:07<00:00, 35.31it/s]\n",
      "Training Epoch 41: 100%|██████████| 258/258 [00:07<00:00, 34.91it/s]\n"
     ]
    },
    {
     "name": "stdout",
     "output_type": "stream",
     "text": [
      "Epoch 40 - Train Loss: 1.7641, Train MSE: 1.7629, Train MAE: 1.0299\n",
      "Epoch 40 - Validation Loss: 2.3324, Validation MSE: 2.3163, Validation MAE: 1.2076\n"
     ]
    },
    {
     "name": "stderr",
     "output_type": "stream",
     "text": [
      "Training Epoch 42: 100%|██████████| 258/258 [00:07<00:00, 35.80it/s]\n",
      "Training Epoch 43: 100%|██████████| 258/258 [00:07<00:00, 35.40it/s]\n",
      "Training Epoch 44: 100%|██████████| 258/258 [00:07<00:00, 35.39it/s]\n",
      "Training Epoch 45: 100%|██████████| 258/258 [00:07<00:00, 35.69it/s]\n",
      "Training Epoch 46: 100%|██████████| 258/258 [00:07<00:00, 35.98it/s]\n",
      "Training Epoch 47: 100%|██████████| 258/258 [00:07<00:00, 34.91it/s]\n",
      "Training Epoch 48: 100%|██████████| 258/258 [00:07<00:00, 35.72it/s]\n",
      "Training Epoch 49: 100%|██████████| 258/258 [00:07<00:00, 35.49it/s]\n",
      "Training Epoch 50: 100%|██████████| 258/258 [00:07<00:00, 35.69it/s]\n",
      "Training Epoch 51: 100%|██████████| 258/258 [00:07<00:00, 35.23it/s]\n"
     ]
    },
    {
     "name": "stdout",
     "output_type": "stream",
     "text": [
      "Epoch 50 - Train Loss: 1.6165, Train MSE: 1.6163, Train MAE: 0.9842\n",
      "Epoch 50 - Validation Loss: 2.3227, Validation MSE: 2.3087, Validation MAE: 1.1905\n"
     ]
    },
    {
     "name": "stderr",
     "output_type": "stream",
     "text": [
      "Training Epoch 52: 100%|██████████| 258/258 [00:07<00:00, 34.77it/s]\n",
      "Training Epoch 53: 100%|██████████| 258/258 [00:07<00:00, 35.57it/s]\n",
      "Training Epoch 54: 100%|██████████| 258/258 [00:07<00:00, 35.51it/s]\n",
      "Training Epoch 55: 100%|██████████| 258/258 [00:07<00:00, 34.71it/s]\n",
      "Training Epoch 56: 100%|██████████| 258/258 [00:07<00:00, 35.81it/s]\n",
      "Training Epoch 57: 100%|██████████| 258/258 [00:07<00:00, 35.53it/s]\n",
      "Training Epoch 58: 100%|██████████| 258/258 [00:07<00:00, 35.22it/s]\n",
      "Training Epoch 59: 100%|██████████| 258/258 [00:07<00:00, 34.56it/s]\n",
      "Training Epoch 60: 100%|██████████| 258/258 [00:07<00:00, 35.86it/s]\n",
      "Training Epoch 61: 100%|██████████| 258/258 [00:07<00:00, 35.16it/s]\n"
     ]
    },
    {
     "name": "stdout",
     "output_type": "stream",
     "text": [
      "Epoch 60 - Train Loss: 1.4677, Train MSE: 1.4671, Train MAE: 0.9327\n",
      "Epoch 60 - Validation Loss: 2.3116, Validation MSE: 2.2977, Validation MAE: 1.1749\n"
     ]
    },
    {
     "name": "stderr",
     "output_type": "stream",
     "text": [
      "Training Epoch 62: 100%|██████████| 258/258 [00:07<00:00, 34.86it/s]\n",
      "Training Epoch 63: 100%|██████████| 258/258 [00:07<00:00, 35.61it/s]\n",
      "Training Epoch 64: 100%|██████████| 258/258 [00:07<00:00, 35.39it/s]\n",
      "Training Epoch 65: 100%|██████████| 258/258 [00:07<00:00, 35.18it/s]\n",
      "Training Epoch 66: 100%|██████████| 258/258 [00:07<00:00, 35.40it/s]\n",
      "Training Epoch 67: 100%|██████████| 258/258 [00:07<00:00, 35.77it/s]\n",
      "Training Epoch 68: 100%|██████████| 258/258 [00:07<00:00, 35.54it/s]\n",
      "Training Epoch 69: 100%|██████████| 258/258 [00:07<00:00, 35.20it/s]\n",
      "Training Epoch 70: 100%|██████████| 258/258 [00:07<00:00, 35.53it/s]\n",
      "Training Epoch 71: 100%|██████████| 258/258 [00:07<00:00, 35.33it/s]\n"
     ]
    },
    {
     "name": "stdout",
     "output_type": "stream",
     "text": [
      "Epoch 70 - Train Loss: 1.3785, Train MSE: 1.3798, Train MAE: 0.9066\n",
      "Epoch 70 - Validation Loss: 2.3214, Validation MSE: 2.3099, Validation MAE: 1.1773\n"
     ]
    },
    {
     "name": "stderr",
     "output_type": "stream",
     "text": [
      "Training Epoch 72: 100%|██████████| 258/258 [00:07<00:00, 34.48it/s]\n",
      "Training Epoch 73: 100%|██████████| 258/258 [00:07<00:00, 35.32it/s]\n",
      "Training Epoch 74: 100%|██████████| 258/258 [00:07<00:00, 35.73it/s]\n",
      "Training Epoch 75: 100%|██████████| 258/258 [00:07<00:00, 35.40it/s]\n",
      "Training Epoch 76: 100%|██████████| 258/258 [00:07<00:00, 35.07it/s]\n",
      "Training Epoch 77: 100%|██████████| 258/258 [00:07<00:00, 35.02it/s]\n",
      "Training Epoch 78: 100%|██████████| 258/258 [00:07<00:00, 35.51it/s]\n",
      "Training Epoch 79: 100%|██████████| 258/258 [00:07<00:00, 35.11it/s]\n",
      "Training Epoch 80: 100%|██████████| 258/258 [00:07<00:00, 35.22it/s]\n",
      "Training Epoch 81: 100%|██████████| 258/258 [00:07<00:00, 35.77it/s]\n"
     ]
    },
    {
     "name": "stdout",
     "output_type": "stream",
     "text": [
      "Epoch 80 - Train Loss: 1.2823, Train MSE: 1.2841, Train MAE: 0.8748\n",
      "Epoch 80 - Validation Loss: 2.3383, Validation MSE: 2.3251, Validation MAE: 1.1720\n"
     ]
    },
    {
     "name": "stderr",
     "output_type": "stream",
     "text": [
      "Training Epoch 82: 100%|██████████| 258/258 [00:07<00:00, 35.30it/s]\n",
      "Training Epoch 83: 100%|██████████| 258/258 [00:07<00:00, 35.41it/s]\n",
      "Training Epoch 84: 100%|██████████| 258/258 [00:07<00:00, 35.04it/s]\n",
      "Training Epoch 85: 100%|██████████| 258/258 [00:07<00:00, 34.76it/s]\n",
      "Training Epoch 86: 100%|██████████| 258/258 [00:07<00:00, 35.24it/s]\n",
      "Training Epoch 87: 100%|██████████| 258/258 [00:07<00:00, 35.08it/s]\n",
      "Training Epoch 88: 100%|██████████| 258/258 [00:07<00:00, 35.73it/s]\n",
      "Training Epoch 89: 100%|██████████| 258/258 [00:07<00:00, 35.35it/s]\n",
      "Training Epoch 90: 100%|██████████| 258/258 [00:07<00:00, 35.34it/s]\n",
      "Training Epoch 91: 100%|██████████| 258/258 [00:07<00:00, 35.41it/s]\n"
     ]
    },
    {
     "name": "stdout",
     "output_type": "stream",
     "text": [
      "Epoch 90 - Train Loss: 1.2122, Train MSE: 1.2126, Train MAE: 0.8427\n",
      "Epoch 90 - Validation Loss: 2.3068, Validation MSE: 2.2896, Validation MAE: 1.1630\n"
     ]
    },
    {
     "name": "stderr",
     "output_type": "stream",
     "text": [
      "Training Epoch 92: 100%|██████████| 258/258 [00:07<00:00, 35.30it/s]\n",
      "Training Epoch 93: 100%|██████████| 258/258 [00:07<00:00, 34.91it/s]\n",
      "Training Epoch 94: 100%|██████████| 258/258 [00:07<00:00, 35.36it/s]\n",
      "Training Epoch 95: 100%|██████████| 258/258 [00:07<00:00, 35.39it/s]\n",
      "Training Epoch 96: 100%|██████████| 258/258 [00:07<00:00, 35.52it/s]\n",
      "Training Epoch 97: 100%|██████████| 258/258 [00:07<00:00, 35.08it/s]\n",
      "Training Epoch 98: 100%|██████████| 258/258 [00:07<00:00, 35.54it/s]\n",
      "Training Epoch 99: 100%|██████████| 258/258 [00:07<00:00, 35.20it/s]\n",
      "Training Epoch 100: 100%|██████████| 258/258 [00:07<00:00, 34.71it/s]\n",
      "Training Epoch 101: 100%|██████████| 258/258 [00:07<00:00, 35.49it/s]\n"
     ]
    },
    {
     "name": "stdout",
     "output_type": "stream",
     "text": [
      "Epoch 100 - Train Loss: 1.1282, Train MSE: 1.1287, Train MAE: 0.8183\n",
      "Epoch 100 - Validation Loss: 2.4731, Validation MSE: 2.4599, Validation MAE: 1.1858\n"
     ]
    },
    {
     "name": "stderr",
     "output_type": "stream",
     "text": [
      "Training Epoch 102: 100%|██████████| 258/258 [00:07<00:00, 35.70it/s]\n",
      "Training Epoch 103: 100%|██████████| 258/258 [00:07<00:00, 35.18it/s]\n",
      "Training Epoch 104: 100%|██████████| 258/258 [00:07<00:00, 35.28it/s]\n",
      "Training Epoch 105: 100%|██████████| 258/258 [00:07<00:00, 35.62it/s]\n",
      "Training Epoch 106: 100%|██████████| 258/258 [00:07<00:00, 35.13it/s]\n",
      "Training Epoch 107: 100%|██████████| 258/258 [00:07<00:00, 35.19it/s]\n",
      "Training Epoch 108: 100%|██████████| 258/258 [00:07<00:00, 34.70it/s]\n",
      "Training Epoch 109: 100%|██████████| 258/258 [00:07<00:00, 35.72it/s]\n",
      "Training Epoch 110: 100%|██████████| 258/258 [00:07<00:00, 35.03it/s]\n",
      "Training Epoch 111: 100%|██████████| 258/258 [00:07<00:00, 35.23it/s]\n"
     ]
    },
    {
     "name": "stdout",
     "output_type": "stream",
     "text": [
      "Epoch 110 - Train Loss: 1.0470, Train MSE: 1.0483, Train MAE: 0.7833\n",
      "Epoch 110 - Validation Loss: 2.4249, Validation MSE: 2.4139, Validation MAE: 1.1779\n"
     ]
    },
    {
     "name": "stderr",
     "output_type": "stream",
     "text": [
      "Training Epoch 112: 100%|██████████| 258/258 [00:07<00:00, 35.53it/s]\n",
      "Training Epoch 113: 100%|██████████| 258/258 [00:07<00:00, 34.97it/s]\n",
      "Training Epoch 114: 100%|██████████| 258/258 [00:07<00:00, 35.14it/s]\n",
      "Training Epoch 115: 100%|██████████| 258/258 [00:07<00:00, 34.80it/s]\n",
      "Training Epoch 116: 100%|██████████| 258/258 [00:07<00:00, 35.40it/s]\n",
      "Training Epoch 117: 100%|██████████| 258/258 [00:07<00:00, 35.40it/s]\n",
      "Training Epoch 118: 100%|██████████| 258/258 [00:07<00:00, 35.26it/s]\n",
      "Training Epoch 119: 100%|██████████| 258/258 [00:07<00:00, 35.45it/s]\n",
      "Training Epoch 120: 100%|██████████| 258/258 [00:07<00:00, 35.31it/s]\n",
      "Training Epoch 121: 100%|██████████| 258/258 [00:07<00:00, 35.11it/s]\n"
     ]
    },
    {
     "name": "stdout",
     "output_type": "stream",
     "text": [
      "Epoch 120 - Train Loss: 0.9843, Train MSE: 0.9844, Train MAE: 0.7632\n",
      "Epoch 120 - Validation Loss: 2.3423, Validation MSE: 2.3261, Validation MAE: 1.1533\n"
     ]
    },
    {
     "name": "stderr",
     "output_type": "stream",
     "text": [
      "Training Epoch 122: 100%|██████████| 258/258 [00:07<00:00, 35.50it/s]\n",
      "Training Epoch 123: 100%|██████████| 258/258 [00:07<00:00, 34.99it/s]\n",
      "Training Epoch 124: 100%|██████████| 258/258 [00:07<00:00, 35.45it/s]\n",
      "Training Epoch 125: 100%|██████████| 258/258 [00:07<00:00, 34.56it/s]\n",
      "Training Epoch 126: 100%|██████████| 258/258 [00:07<00:00, 35.69it/s]\n",
      "Training Epoch 127: 100%|██████████| 258/258 [00:07<00:00, 35.24it/s]\n",
      "Training Epoch 128: 100%|██████████| 258/258 [00:07<00:00, 35.24it/s]\n",
      "Training Epoch 129: 100%|██████████| 258/258 [00:07<00:00, 35.59it/s]\n",
      "Training Epoch 130: 100%|██████████| 258/258 [00:07<00:00, 35.37it/s]\n",
      "Training Epoch 131: 100%|██████████| 258/258 [00:07<00:00, 35.25it/s]\n"
     ]
    },
    {
     "name": "stdout",
     "output_type": "stream",
     "text": [
      "Epoch 130 - Train Loss: 0.9303, Train MSE: 0.9308, Train MAE: 0.7393\n",
      "Epoch 130 - Validation Loss: 2.5359, Validation MSE: 2.5142, Validation MAE: 1.2233\n"
     ]
    },
    {
     "name": "stderr",
     "output_type": "stream",
     "text": [
      "Training Epoch 132: 100%|██████████| 258/258 [00:07<00:00, 34.88it/s]\n",
      "Training Epoch 133: 100%|██████████| 258/258 [00:07<00:00, 35.59it/s]\n",
      "Training Epoch 134: 100%|██████████| 258/258 [00:07<00:00, 35.28it/s]\n",
      "Training Epoch 135: 100%|██████████| 258/258 [00:07<00:00, 35.27it/s]\n",
      "Training Epoch 136: 100%|██████████| 258/258 [00:07<00:00, 35.46it/s]\n",
      "Training Epoch 137: 100%|██████████| 258/258 [00:07<00:00, 35.81it/s]\n",
      "Training Epoch 138: 100%|██████████| 258/258 [00:07<00:00, 35.14it/s]\n",
      "Training Epoch 139: 100%|██████████| 258/258 [00:07<00:00, 35.22it/s]\n",
      "Training Epoch 140: 100%|██████████| 258/258 [00:07<00:00, 35.37it/s]\n",
      "Training Epoch 141: 100%|██████████| 258/258 [00:07<00:00, 35.49it/s]\n"
     ]
    },
    {
     "name": "stdout",
     "output_type": "stream",
     "text": [
      "Epoch 140 - Train Loss: 0.8678, Train MSE: 0.8681, Train MAE: 0.7086\n",
      "Epoch 140 - Validation Loss: 2.5338, Validation MSE: 2.5243, Validation MAE: 1.2018\n"
     ]
    },
    {
     "name": "stderr",
     "output_type": "stream",
     "text": [
      "Training Epoch 142: 100%|██████████| 258/258 [00:07<00:00, 35.14it/s]\n",
      "Training Epoch 143: 100%|██████████| 258/258 [00:07<00:00, 35.24it/s]\n",
      "Training Epoch 144: 100%|██████████| 258/258 [00:07<00:00, 35.78it/s]\n",
      "Training Epoch 145: 100%|██████████| 258/258 [00:07<00:00, 34.57it/s]\n",
      "Training Epoch 146: 100%|██████████| 258/258 [00:07<00:00, 34.88it/s]\n",
      "Training Epoch 147: 100%|██████████| 258/258 [00:07<00:00, 34.97it/s]\n",
      "Training Epoch 148: 100%|██████████| 258/258 [00:07<00:00, 35.27it/s]\n",
      "Training Epoch 149: 100%|██████████| 258/258 [00:07<00:00, 35.13it/s]\n",
      "Training Epoch 150: 100%|██████████| 258/258 [00:07<00:00, 35.41it/s]\n",
      "Training Epoch 151: 100%|██████████| 258/258 [00:07<00:00, 35.43it/s]\n"
     ]
    },
    {
     "name": "stdout",
     "output_type": "stream",
     "text": [
      "Epoch 150 - Train Loss: 0.8288, Train MSE: 0.8301, Train MAE: 0.6993\n",
      "Epoch 150 - Validation Loss: 2.4850, Validation MSE: 2.4693, Validation MAE: 1.1904\n"
     ]
    },
    {
     "name": "stderr",
     "output_type": "stream",
     "text": [
      "Training Epoch 152: 100%|██████████| 258/258 [00:07<00:00, 35.35it/s]\n",
      "Training Epoch 153: 100%|██████████| 258/258 [00:07<00:00, 34.67it/s]\n",
      "Training Epoch 154: 100%|██████████| 258/258 [00:07<00:00, 35.57it/s]\n",
      "Training Epoch 155: 100%|██████████| 258/258 [00:07<00:00, 35.15it/s]\n",
      "Training Epoch 156: 100%|██████████| 258/258 [00:07<00:00, 35.32it/s]\n",
      "Training Epoch 157: 100%|██████████| 258/258 [00:07<00:00, 34.90it/s]\n",
      "Training Epoch 158: 100%|██████████| 258/258 [00:07<00:00, 35.72it/s]\n",
      "Training Epoch 159: 100%|██████████| 258/258 [00:07<00:00, 35.10it/s]\n",
      "Training Epoch 160: 100%|██████████| 258/258 [00:07<00:00, 35.10it/s]\n",
      "Training Epoch 161: 100%|██████████| 258/258 [00:07<00:00, 35.42it/s]\n"
     ]
    },
    {
     "name": "stdout",
     "output_type": "stream",
     "text": [
      "Epoch 160 - Train Loss: 0.7723, Train MSE: 0.7724, Train MAE: 0.6696\n",
      "Epoch 160 - Validation Loss: 2.4748, Validation MSE: 2.4457, Validation MAE: 1.1974\n"
     ]
    },
    {
     "name": "stderr",
     "output_type": "stream",
     "text": [
      "Training Epoch 162: 100%|██████████| 258/258 [00:07<00:00, 35.35it/s]\n",
      "Training Epoch 163: 100%|██████████| 258/258 [00:07<00:00, 35.48it/s]\n",
      "Training Epoch 164: 100%|██████████| 258/258 [00:07<00:00, 35.27it/s]\n",
      "Training Epoch 165: 100%|██████████| 258/258 [00:07<00:00, 35.67it/s]\n",
      "Training Epoch 166: 100%|██████████| 258/258 [00:07<00:00, 35.32it/s]\n",
      "Training Epoch 167: 100%|██████████| 258/258 [00:07<00:00, 35.29it/s]\n",
      "Training Epoch 168: 100%|██████████| 258/258 [00:07<00:00, 34.94it/s]\n",
      "Training Epoch 169: 100%|██████████| 258/258 [00:07<00:00, 35.36it/s]\n",
      "Training Epoch 170: 100%|██████████| 258/258 [00:07<00:00, 35.27it/s]\n",
      "Training Epoch 171: 100%|██████████| 258/258 [00:07<00:00, 35.09it/s]\n"
     ]
    },
    {
     "name": "stdout",
     "output_type": "stream",
     "text": [
      "Epoch 170 - Train Loss: 0.7309, Train MSE: 0.7281, Train MAE: 0.6543\n",
      "Epoch 170 - Validation Loss: 2.4987, Validation MSE: 2.4802, Validation MAE: 1.1953\n"
     ]
    },
    {
     "name": "stderr",
     "output_type": "stream",
     "text": [
      "Training Epoch 172: 100%|██████████| 258/258 [00:07<00:00, 35.80it/s]\n",
      "Training Epoch 173: 100%|██████████| 258/258 [00:07<00:00, 35.50it/s]\n",
      "Training Epoch 174: 100%|██████████| 258/258 [00:07<00:00, 35.44it/s]\n",
      "Training Epoch 175: 100%|██████████| 258/258 [00:07<00:00, 35.46it/s]\n",
      "Training Epoch 176: 100%|██████████| 258/258 [00:07<00:00, 35.15it/s]\n",
      "Training Epoch 177: 100%|██████████| 258/258 [00:07<00:00, 34.55it/s]\n",
      "Training Epoch 178: 100%|██████████| 258/258 [00:07<00:00, 35.51it/s]\n",
      "Training Epoch 179: 100%|██████████| 258/258 [00:07<00:00, 35.50it/s]\n",
      "Training Epoch 180: 100%|██████████| 258/258 [00:07<00:00, 35.44it/s]\n",
      "Training Epoch 181: 100%|██████████| 258/258 [00:07<00:00, 35.08it/s]\n"
     ]
    },
    {
     "name": "stdout",
     "output_type": "stream",
     "text": [
      "Epoch 180 - Train Loss: 0.7082, Train MSE: 0.7095, Train MAE: 0.6384\n",
      "Epoch 180 - Validation Loss: 2.3599, Validation MSE: 2.3369, Validation MAE: 1.1503\n"
     ]
    },
    {
     "name": "stderr",
     "output_type": "stream",
     "text": [
      "Training Epoch 182: 100%|██████████| 258/258 [00:07<00:00, 35.54it/s]\n",
      "Training Epoch 183: 100%|██████████| 258/258 [00:07<00:00, 34.39it/s]\n",
      "Training Epoch 184: 100%|██████████| 258/258 [00:07<00:00, 35.64it/s]\n",
      "Training Epoch 185: 100%|██████████| 258/258 [00:07<00:00, 35.26it/s]\n",
      "Training Epoch 186: 100%|██████████| 258/258 [00:07<00:00, 35.86it/s]\n",
      "Training Epoch 187: 100%|██████████| 258/258 [00:07<00:00, 35.23it/s]\n",
      "Training Epoch 188: 100%|██████████| 258/258 [00:07<00:00, 35.22it/s]\n",
      "Training Epoch 189: 100%|██████████| 258/258 [00:07<00:00, 35.03it/s]\n",
      "Training Epoch 190: 100%|██████████| 258/258 [00:07<00:00, 35.55it/s]\n",
      "Training Epoch 191: 100%|██████████| 258/258 [00:07<00:00, 34.93it/s]\n"
     ]
    },
    {
     "name": "stdout",
     "output_type": "stream",
     "text": [
      "Epoch 190 - Train Loss: 0.6872, Train MSE: 0.6885, Train MAE: 0.6303\n",
      "Epoch 190 - Validation Loss: 2.4000, Validation MSE: 2.3728, Validation MAE: 1.1646\n"
     ]
    },
    {
     "name": "stderr",
     "output_type": "stream",
     "text": [
      "Training Epoch 192: 100%|██████████| 258/258 [00:07<00:00, 35.20it/s]\n",
      "Training Epoch 193: 100%|██████████| 258/258 [00:07<00:00, 35.68it/s]\n",
      "Training Epoch 194: 100%|██████████| 258/258 [00:07<00:00, 35.57it/s]\n",
      "Training Epoch 195: 100%|██████████| 258/258 [00:07<00:00, 35.33it/s]\n",
      "Training Epoch 196: 100%|██████████| 258/258 [00:07<00:00, 35.32it/s]\n",
      "Training Epoch 197: 100%|██████████| 258/258 [00:07<00:00, 35.62it/s]\n",
      "Training Epoch 198: 100%|██████████| 258/258 [00:07<00:00, 34.71it/s]\n",
      "Training Epoch 199: 100%|██████████| 258/258 [00:07<00:00, 35.54it/s]\n",
      "Training Epoch 200: 100%|██████████| 258/258 [00:07<00:00, 35.55it/s]\n",
      "Training Epoch 201: 100%|██████████| 258/258 [00:07<00:00, 35.58it/s]\n"
     ]
    },
    {
     "name": "stdout",
     "output_type": "stream",
     "text": [
      "Epoch 200 - Train Loss: 0.6454, Train MSE: 0.6466, Train MAE: 0.6106\n",
      "Epoch 200 - Validation Loss: 2.3846, Validation MSE: 2.3598, Validation MAE: 1.1625\n"
     ]
    },
    {
     "name": "stderr",
     "output_type": "stream",
     "text": [
      "Training Epoch 202: 100%|██████████| 258/258 [00:07<00:00, 35.31it/s]\n",
      "Training Epoch 203: 100%|██████████| 258/258 [00:07<00:00, 35.31it/s]\n",
      "Training Epoch 204: 100%|██████████| 258/258 [00:07<00:00, 35.69it/s]\n",
      "Training Epoch 205: 100%|██████████| 258/258 [00:07<00:00, 35.25it/s]\n",
      "Training Epoch 206: 100%|██████████| 258/258 [00:07<00:00, 34.92it/s]\n",
      "Training Epoch 207: 100%|██████████| 258/258 [00:07<00:00, 35.47it/s]\n",
      "Training Epoch 208: 100%|██████████| 258/258 [00:07<00:00, 34.66it/s]\n",
      "Training Epoch 209: 100%|██████████| 258/258 [00:07<00:00, 35.27it/s]\n",
      "Training Epoch 210: 100%|██████████| 258/258 [00:07<00:00, 35.28it/s]\n",
      "Training Epoch 211: 100%|██████████| 258/258 [00:07<00:00, 35.69it/s]\n"
     ]
    },
    {
     "name": "stdout",
     "output_type": "stream",
     "text": [
      "Epoch 210 - Train Loss: 0.6350, Train MSE: 0.6357, Train MAE: 0.6037\n",
      "Epoch 210 - Validation Loss: 2.4377, Validation MSE: 2.4159, Validation MAE: 1.1792\n"
     ]
    },
    {
     "name": "stderr",
     "output_type": "stream",
     "text": [
      "Training Epoch 212: 100%|██████████| 258/258 [00:07<00:00, 35.32it/s]\n",
      "Training Epoch 213: 100%|██████████| 258/258 [00:07<00:00, 34.77it/s]\n",
      "Training Epoch 214: 100%|██████████| 258/258 [00:07<00:00, 35.90it/s]\n",
      "Training Epoch 215: 100%|██████████| 258/258 [00:07<00:00, 35.15it/s]\n",
      "Training Epoch 216: 100%|██████████| 258/258 [00:07<00:00, 35.49it/s]\n",
      "Training Epoch 217: 100%|██████████| 258/258 [00:07<00:00, 35.51it/s]\n",
      "Training Epoch 218: 100%|██████████| 258/258 [00:07<00:00, 35.60it/s]\n",
      "Training Epoch 219: 100%|██████████| 258/258 [00:07<00:00, 35.57it/s]\n",
      "Training Epoch 220: 100%|██████████| 258/258 [00:07<00:00, 35.24it/s]\n",
      "Training Epoch 221: 100%|██████████| 258/258 [00:07<00:00, 35.13it/s]\n"
     ]
    },
    {
     "name": "stdout",
     "output_type": "stream",
     "text": [
      "Epoch 220 - Train Loss: 0.6036, Train MSE: 0.6037, Train MAE: 0.5859\n",
      "Epoch 220 - Validation Loss: 2.4811, Validation MSE: 2.4540, Validation MAE: 1.1755\n"
     ]
    },
    {
     "name": "stderr",
     "output_type": "stream",
     "text": [
      "Training Epoch 222: 100%|██████████| 258/258 [00:07<00:00, 33.36it/s]\n",
      "Training Epoch 223: 100%|██████████| 258/258 [00:07<00:00, 35.14it/s]\n",
      "Training Epoch 224: 100%|██████████| 258/258 [00:07<00:00, 35.05it/s]\n",
      "Training Epoch 225: 100%|██████████| 258/258 [00:07<00:00, 35.64it/s]\n",
      "Training Epoch 226: 100%|██████████| 258/258 [00:07<00:00, 35.11it/s]\n",
      "Training Epoch 227: 100%|██████████| 258/258 [00:07<00:00, 35.45it/s]\n",
      "Training Epoch 228: 100%|██████████| 258/258 [00:07<00:00, 34.75it/s]\n",
      "Training Epoch 229: 100%|██████████| 258/258 [00:07<00:00, 35.51it/s]\n",
      "Training Epoch 230: 100%|██████████| 258/258 [00:07<00:00, 34.48it/s]\n",
      "Training Epoch 231: 100%|██████████| 258/258 [00:07<00:00, 35.17it/s]\n"
     ]
    },
    {
     "name": "stdout",
     "output_type": "stream",
     "text": [
      "Epoch 230 - Train Loss: 0.5961, Train MSE: 0.5958, Train MAE: 0.5922\n",
      "Epoch 230 - Validation Loss: 2.4182, Validation MSE: 2.3834, Validation MAE: 1.1723\n"
     ]
    },
    {
     "name": "stderr",
     "output_type": "stream",
     "text": [
      "Training Epoch 232: 100%|██████████| 258/258 [00:07<00:00, 35.67it/s]\n",
      "Training Epoch 233: 100%|██████████| 258/258 [00:07<00:00, 35.44it/s]\n",
      "Training Epoch 234: 100%|██████████| 258/258 [00:07<00:00, 35.57it/s]\n",
      "Training Epoch 235: 100%|██████████| 258/258 [00:07<00:00, 35.49it/s]\n",
      "Training Epoch 236: 100%|██████████| 258/258 [00:07<00:00, 35.03it/s]\n",
      "Training Epoch 237: 100%|██████████| 258/258 [00:07<00:00, 35.31it/s]\n",
      "Training Epoch 238: 100%|██████████| 258/258 [00:07<00:00, 35.19it/s]\n",
      "Training Epoch 239: 100%|██████████| 258/258 [00:07<00:00, 35.91it/s]\n",
      "Training Epoch 240: 100%|██████████| 258/258 [00:07<00:00, 35.23it/s]\n",
      "Training Epoch 241: 100%|██████████| 258/258 [00:07<00:00, 35.37it/s]\n"
     ]
    },
    {
     "name": "stdout",
     "output_type": "stream",
     "text": [
      "Epoch 240 - Train Loss: 0.5704, Train MSE: 0.5709, Train MAE: 0.5737\n",
      "Epoch 240 - Validation Loss: 2.5155, Validation MSE: 2.4875, Validation MAE: 1.1963\n"
     ]
    },
    {
     "name": "stderr",
     "output_type": "stream",
     "text": [
      "Training Epoch 242: 100%|██████████| 258/258 [00:07<00:00, 35.64it/s]\n",
      "Training Epoch 243: 100%|██████████| 258/258 [00:07<00:00, 35.29it/s]\n",
      "Training Epoch 244: 100%|██████████| 258/258 [00:07<00:00, 34.92it/s]\n",
      "Training Epoch 245: 100%|██████████| 258/258 [00:07<00:00, 35.19it/s]\n",
      "Training Epoch 246: 100%|██████████| 258/258 [00:07<00:00, 35.88it/s]\n",
      "Training Epoch 247: 100%|██████████| 258/258 [00:07<00:00, 35.40it/s]\n",
      "Training Epoch 248: 100%|██████████| 258/258 [00:07<00:00, 35.19it/s]\n",
      "Training Epoch 249: 100%|██████████| 258/258 [00:07<00:00, 35.71it/s]\n",
      "Training Epoch 250: 100%|██████████| 258/258 [00:07<00:00, 35.07it/s]\n",
      "Training Epoch 251: 100%|██████████| 258/258 [00:07<00:00, 34.86it/s]\n"
     ]
    },
    {
     "name": "stdout",
     "output_type": "stream",
     "text": [
      "Epoch 250 - Train Loss: 0.5589, Train MSE: 0.5600, Train MAE: 0.5695\n",
      "Epoch 250 - Validation Loss: 2.5757, Validation MSE: 2.5560, Validation MAE: 1.2124\n"
     ]
    },
    {
     "name": "stderr",
     "output_type": "stream",
     "text": [
      "Training Epoch 252: 100%|██████████| 258/258 [00:07<00:00, 34.89it/s]\n",
      "Training Epoch 253: 100%|██████████| 258/258 [00:07<00:00, 35.24it/s]\n",
      "Training Epoch 254: 100%|██████████| 258/258 [00:07<00:00, 35.53it/s]\n",
      "Training Epoch 255: 100%|██████████| 258/258 [00:07<00:00, 35.33it/s]\n",
      "Training Epoch 256: 100%|██████████| 258/258 [00:07<00:00, 35.73it/s]\n",
      "Training Epoch 257: 100%|██████████| 258/258 [00:07<00:00, 35.34it/s]\n",
      "Training Epoch 258: 100%|██████████| 258/258 [00:07<00:00, 35.12it/s]\n",
      "Training Epoch 259: 100%|██████████| 258/258 [00:07<00:00, 34.66it/s]\n",
      "Training Epoch 260: 100%|██████████| 258/258 [00:07<00:00, 35.66it/s]\n",
      "Training Epoch 261: 100%|██████████| 258/258 [00:07<00:00, 35.28it/s]\n"
     ]
    },
    {
     "name": "stdout",
     "output_type": "stream",
     "text": [
      "Epoch 260 - Train Loss: 0.5094, Train MSE: 0.5096, Train MAE: 0.5412\n",
      "Epoch 260 - Validation Loss: 2.4659, Validation MSE: 2.4341, Validation MAE: 1.1828\n"
     ]
    },
    {
     "name": "stderr",
     "output_type": "stream",
     "text": [
      "Training Epoch 262: 100%|██████████| 258/258 [00:07<00:00, 35.22it/s]\n",
      "Training Epoch 263: 100%|██████████| 258/258 [00:07<00:00, 35.64it/s]\n",
      "Training Epoch 264: 100%|██████████| 258/258 [00:07<00:00, 35.49it/s]\n",
      "Training Epoch 265: 100%|██████████| 258/258 [00:07<00:00, 35.31it/s]\n",
      "Training Epoch 266: 100%|██████████| 258/258 [00:07<00:00, 35.06it/s]\n",
      "Training Epoch 267: 100%|██████████| 258/258 [00:07<00:00, 35.91it/s]\n",
      "Training Epoch 268: 100%|██████████| 258/258 [00:07<00:00, 34.78it/s]\n",
      "Training Epoch 269: 100%|██████████| 258/258 [00:07<00:00, 35.60it/s]\n",
      "Training Epoch 270: 100%|██████████| 258/258 [00:07<00:00, 35.51it/s]\n",
      "Training Epoch 271: 100%|██████████| 258/258 [00:07<00:00, 35.45it/s]\n"
     ]
    },
    {
     "name": "stdout",
     "output_type": "stream",
     "text": [
      "Epoch 270 - Train Loss: 0.5172, Train MSE: 0.5172, Train MAE: 0.5429\n",
      "Epoch 270 - Validation Loss: 2.4681, Validation MSE: 2.4378, Validation MAE: 1.1840\n"
     ]
    },
    {
     "name": "stderr",
     "output_type": "stream",
     "text": [
      "Training Epoch 272: 100%|██████████| 258/258 [00:07<00:00, 35.01it/s]\n",
      "Training Epoch 273: 100%|██████████| 258/258 [00:07<00:00, 35.20it/s]\n",
      "Training Epoch 274: 100%|██████████| 258/258 [00:07<00:00, 35.13it/s]\n",
      "Training Epoch 275: 100%|██████████| 258/258 [00:07<00:00, 35.27it/s]\n",
      "Training Epoch 276: 100%|██████████| 258/258 [00:07<00:00, 35.40it/s]\n",
      "Training Epoch 277: 100%|██████████| 258/258 [00:07<00:00, 35.92it/s]\n",
      "Training Epoch 278: 100%|██████████| 258/258 [00:07<00:00, 35.28it/s]\n",
      "Training Epoch 279: 100%|██████████| 258/258 [00:07<00:00, 35.08it/s]\n",
      "Training Epoch 280: 100%|██████████| 258/258 [00:07<00:00, 35.54it/s]\n",
      "Training Epoch 281: 100%|██████████| 258/258 [00:07<00:00, 35.39it/s]\n"
     ]
    },
    {
     "name": "stdout",
     "output_type": "stream",
     "text": [
      "Epoch 280 - Train Loss: 0.5095, Train MSE: 0.5089, Train MAE: 0.5376\n",
      "Epoch 280 - Validation Loss: 2.4636, Validation MSE: 2.4241, Validation MAE: 1.1839\n"
     ]
    },
    {
     "name": "stderr",
     "output_type": "stream",
     "text": [
      "Training Epoch 282: 100%|██████████| 258/258 [00:07<00:00, 34.64it/s]\n",
      "Training Epoch 283: 100%|██████████| 258/258 [00:07<00:00, 35.05it/s]\n",
      "Training Epoch 284: 100%|██████████| 258/258 [00:07<00:00, 35.63it/s]\n",
      "Training Epoch 285: 100%|██████████| 258/258 [00:07<00:00, 35.20it/s]\n",
      "Training Epoch 286: 100%|██████████| 258/258 [00:07<00:00, 35.12it/s]\n",
      "Training Epoch 287: 100%|██████████| 258/258 [00:07<00:00, 35.40it/s]\n",
      "Training Epoch 288: 100%|██████████| 258/258 [00:07<00:00, 35.81it/s]\n",
      "Training Epoch 289: 100%|██████████| 258/258 [00:07<00:00, 35.10it/s]\n",
      "Training Epoch 290: 100%|██████████| 258/258 [00:07<00:00, 35.29it/s]\n",
      "Training Epoch 291: 100%|██████████| 258/258 [00:07<00:00, 35.70it/s]\n"
     ]
    },
    {
     "name": "stdout",
     "output_type": "stream",
     "text": [
      "Epoch 290 - Train Loss: 0.4839, Train MSE: 0.4837, Train MAE: 0.5264\n",
      "Epoch 290 - Validation Loss: 2.5051, Validation MSE: 2.4757, Validation MAE: 1.1982\n"
     ]
    },
    {
     "name": "stderr",
     "output_type": "stream",
     "text": [
      "Training Epoch 292: 100%|██████████| 258/258 [00:07<00:00, 35.40it/s]\n",
      "Training Epoch 293: 100%|██████████| 258/258 [00:07<00:00, 35.32it/s]\n",
      "Training Epoch 294: 100%|██████████| 258/258 [00:07<00:00, 35.05it/s]\n",
      "Training Epoch 295: 100%|██████████| 258/258 [00:07<00:00, 35.38it/s]\n",
      "Training Epoch 296: 100%|██████████| 258/258 [00:07<00:00, 33.39it/s]\n",
      "Training Epoch 297: 100%|██████████| 258/258 [00:07<00:00, 35.42it/s]\n",
      "Training Epoch 298: 100%|██████████| 258/258 [00:07<00:00, 35.54it/s]\n",
      "Training Epoch 299: 100%|██████████| 258/258 [00:07<00:00, 35.50it/s]\n",
      "Training Epoch 300: 100%|██████████| 258/258 [00:07<00:00, 35.45it/s]\n",
      "Training Epoch 301: 100%|██████████| 258/258 [00:07<00:00, 35.40it/s]\n"
     ]
    },
    {
     "name": "stdout",
     "output_type": "stream",
     "text": [
      "Epoch 300 - Train Loss: 0.4750, Train MSE: 0.4705, Train MAE: 0.5195\n",
      "Epoch 300 - Validation Loss: 2.4533, Validation MSE: 2.4127, Validation MAE: 1.1836\n"
     ]
    },
    {
     "name": "stderr",
     "output_type": "stream",
     "text": [
      "Training Epoch 302: 100%|██████████| 258/258 [00:07<00:00, 36.01it/s]\n",
      "Training Epoch 303: 100%|██████████| 258/258 [00:07<00:00, 35.05it/s]\n",
      "Training Epoch 304: 100%|██████████| 258/258 [00:07<00:00, 34.92it/s]\n",
      "Training Epoch 305: 100%|██████████| 258/258 [00:07<00:00, 35.78it/s]\n",
      "Training Epoch 306: 100%|██████████| 258/258 [00:07<00:00, 34.99it/s]\n",
      "Training Epoch 307: 100%|██████████| 258/258 [00:07<00:00, 35.66it/s]\n",
      "Training Epoch 308: 100%|██████████| 258/258 [00:07<00:00, 35.44it/s]\n",
      "Training Epoch 309: 100%|██████████| 258/258 [00:07<00:00, 35.97it/s]\n",
      "Training Epoch 310: 100%|██████████| 258/258 [00:07<00:00, 35.39it/s]\n",
      "Training Epoch 311: 100%|██████████| 258/258 [00:07<00:00, 35.78it/s]\n"
     ]
    },
    {
     "name": "stdout",
     "output_type": "stream",
     "text": [
      "Epoch 310 - Train Loss: 0.4741, Train MSE: 0.4750, Train MAE: 0.5195\n",
      "Epoch 310 - Validation Loss: 2.4494, Validation MSE: 2.4168, Validation MAE: 1.1776\n"
     ]
    },
    {
     "name": "stderr",
     "output_type": "stream",
     "text": [
      "Training Epoch 312: 100%|██████████| 258/258 [00:07<00:00, 35.67it/s]\n",
      "Training Epoch 313: 100%|██████████| 258/258 [00:07<00:00, 34.96it/s]\n",
      "Training Epoch 314: 100%|██████████| 258/258 [00:07<00:00, 35.33it/s]\n",
      "Training Epoch 315: 100%|██████████| 258/258 [00:07<00:00, 35.53it/s]\n",
      "Training Epoch 316: 100%|██████████| 258/258 [00:07<00:00, 35.71it/s]\n",
      "Training Epoch 317: 100%|██████████| 258/258 [00:07<00:00, 35.78it/s]\n",
      "Training Epoch 318: 100%|██████████| 258/258 [00:07<00:00, 35.39it/s]\n",
      "Training Epoch 319: 100%|██████████| 258/258 [00:07<00:00, 35.02it/s]\n",
      "Training Epoch 320: 100%|██████████| 258/258 [00:07<00:00, 35.49it/s]\n",
      "Training Epoch 321: 100%|██████████| 258/258 [00:07<00:00, 35.53it/s]\n"
     ]
    },
    {
     "name": "stdout",
     "output_type": "stream",
     "text": [
      "Epoch 320 - Train Loss: 0.4601, Train MSE: 0.4606, Train MAE: 0.5104\n",
      "Epoch 320 - Validation Loss: 2.4847, Validation MSE: 2.4596, Validation MAE: 1.1922\n"
     ]
    },
    {
     "name": "stderr",
     "output_type": "stream",
     "text": [
      "Training Epoch 322: 100%|██████████| 258/258 [00:07<00:00, 35.95it/s]\n",
      "Training Epoch 323: 100%|██████████| 258/258 [00:07<00:00, 36.18it/s]\n",
      "Training Epoch 324: 100%|██████████| 258/258 [00:07<00:00, 35.45it/s]\n",
      "Training Epoch 325: 100%|██████████| 258/258 [00:07<00:00, 35.43it/s]\n",
      "Training Epoch 326: 100%|██████████| 258/258 [00:07<00:00, 35.76it/s]\n",
      "Training Epoch 327: 100%|██████████| 258/258 [00:07<00:00, 34.94it/s]\n",
      "Training Epoch 328: 100%|██████████| 258/258 [00:07<00:00, 35.87it/s]\n",
      "Training Epoch 329: 100%|██████████| 258/258 [00:07<00:00, 35.50it/s]\n",
      "Training Epoch 330: 100%|██████████| 258/258 [00:07<00:00, 36.12it/s]\n",
      "Training Epoch 331: 100%|██████████| 258/258 [00:07<00:00, 35.58it/s]\n"
     ]
    },
    {
     "name": "stdout",
     "output_type": "stream",
     "text": [
      "Epoch 330 - Train Loss: 0.4645, Train MSE: 0.4654, Train MAE: 0.5174\n",
      "Epoch 330 - Validation Loss: 2.4652, Validation MSE: 2.4266, Validation MAE: 1.1845\n"
     ]
    },
    {
     "name": "stderr",
     "output_type": "stream",
     "text": [
      "Training Epoch 332: 100%|██████████| 258/258 [00:07<00:00, 35.82it/s]\n",
      "Training Epoch 333: 100%|██████████| 258/258 [00:07<00:00, 35.60it/s]\n",
      "Training Epoch 334: 100%|██████████| 258/258 [00:07<00:00, 35.01it/s]\n",
      "Training Epoch 335: 100%|██████████| 258/258 [00:07<00:00, 35.08it/s]\n",
      "Training Epoch 336: 100%|██████████| 258/258 [00:07<00:00, 35.51it/s]\n",
      "Training Epoch 337: 100%|██████████| 258/258 [00:07<00:00, 36.13it/s]\n",
      "Training Epoch 338: 100%|██████████| 258/258 [00:07<00:00, 35.55it/s]\n",
      "Training Epoch 339: 100%|██████████| 258/258 [00:07<00:00, 35.55it/s]\n",
      "Training Epoch 340: 100%|██████████| 258/258 [00:07<00:00, 35.59it/s]\n",
      "Training Epoch 341: 100%|██████████| 258/258 [00:07<00:00, 35.56it/s]\n"
     ]
    },
    {
     "name": "stdout",
     "output_type": "stream",
     "text": [
      "Epoch 340 - Train Loss: 0.4428, Train MSE: 0.4431, Train MAE: 0.5049\n",
      "Epoch 340 - Validation Loss: 2.4389, Validation MSE: 2.4012, Validation MAE: 1.1721\n"
     ]
    },
    {
     "name": "stderr",
     "output_type": "stream",
     "text": [
      "Training Epoch 342: 100%|██████████| 258/258 [00:07<00:00, 35.17it/s]\n",
      "Training Epoch 343: 100%|██████████| 258/258 [00:07<00:00, 34.76it/s]\n",
      "Training Epoch 344: 100%|██████████| 258/258 [00:07<00:00, 36.07it/s]\n",
      "Training Epoch 345: 100%|██████████| 258/258 [00:07<00:00, 35.83it/s]\n",
      "Training Epoch 346: 100%|██████████| 258/258 [00:07<00:00, 35.40it/s]\n",
      "Training Epoch 347: 100%|██████████| 258/258 [00:07<00:00, 35.51it/s]\n",
      "Training Epoch 348: 100%|██████████| 258/258 [00:07<00:00, 35.74it/s]\n",
      "Training Epoch 349: 100%|██████████| 258/258 [00:07<00:00, 35.30it/s]\n",
      "Training Epoch 350: 100%|██████████| 258/258 [00:07<00:00, 35.65it/s]\n",
      "Training Epoch 351: 100%|██████████| 258/258 [00:07<00:00, 35.84it/s]\n"
     ]
    },
    {
     "name": "stdout",
     "output_type": "stream",
     "text": [
      "Epoch 350 - Train Loss: 0.4429, Train MSE: 0.4414, Train MAE: 0.5020\n",
      "Epoch 350 - Validation Loss: 2.4469, Validation MSE: 2.4165, Validation MAE: 1.1756\n"
     ]
    },
    {
     "name": "stderr",
     "output_type": "stream",
     "text": [
      "Training Epoch 352: 100%|██████████| 258/258 [00:07<00:00, 35.63it/s]\n",
      "Training Epoch 353: 100%|██████████| 258/258 [00:07<00:00, 35.44it/s]\n",
      "Training Epoch 354: 100%|██████████| 258/258 [00:07<00:00, 35.66it/s]\n",
      "Training Epoch 355: 100%|██████████| 258/258 [00:07<00:00, 35.70it/s]\n",
      "Training Epoch 356: 100%|██████████| 258/258 [00:07<00:00, 35.65it/s]\n",
      "Training Epoch 357: 100%|██████████| 258/258 [00:07<00:00, 34.88it/s]\n",
      "Training Epoch 358: 100%|██████████| 258/258 [00:07<00:00, 35.63it/s]\n",
      "Training Epoch 359: 100%|██████████| 258/258 [00:07<00:00, 35.39it/s]\n",
      "Training Epoch 360: 100%|██████████| 258/258 [00:07<00:00, 35.37it/s]\n",
      "Training Epoch 361: 100%|██████████| 258/258 [00:07<00:00, 35.77it/s]\n"
     ]
    },
    {
     "name": "stdout",
     "output_type": "stream",
     "text": [
      "Epoch 360 - Train Loss: 0.4287, Train MSE: 0.4280, Train MAE: 0.4920\n",
      "Epoch 360 - Validation Loss: 2.4602, Validation MSE: 2.4302, Validation MAE: 1.1850\n"
     ]
    },
    {
     "name": "stderr",
     "output_type": "stream",
     "text": [
      "Training Epoch 362: 100%|██████████| 258/258 [00:07<00:00, 35.77it/s]\n",
      "Training Epoch 363: 100%|██████████| 258/258 [00:07<00:00, 35.40it/s]\n",
      "Training Epoch 364: 100%|██████████| 258/258 [00:07<00:00, 35.83it/s]\n",
      "Training Epoch 365: 100%|██████████| 258/258 [00:07<00:00, 35.23it/s]\n",
      "Training Epoch 366: 100%|██████████| 258/258 [00:07<00:00, 35.66it/s]\n",
      "Training Epoch 367: 100%|██████████| 258/258 [00:07<00:00, 35.43it/s]\n",
      "Training Epoch 368: 100%|██████████| 258/258 [00:07<00:00, 34.95it/s]\n",
      "Training Epoch 369: 100%|██████████| 258/258 [00:07<00:00, 35.88it/s]\n",
      "Training Epoch 370: 100%|██████████| 258/258 [00:07<00:00, 35.59it/s]\n",
      "Training Epoch 371: 100%|██████████| 258/258 [00:07<00:00, 35.83it/s]\n"
     ]
    },
    {
     "name": "stdout",
     "output_type": "stream",
     "text": [
      "Epoch 370 - Train Loss: 0.4096, Train MSE: 0.4095, Train MAE: 0.4831\n",
      "Epoch 370 - Validation Loss: 2.4937, Validation MSE: 2.4577, Validation MAE: 1.1914\n"
     ]
    },
    {
     "name": "stderr",
     "output_type": "stream",
     "text": [
      "Training Epoch 372: 100%|██████████| 258/258 [00:07<00:00, 35.11it/s]\n",
      "Training Epoch 373: 100%|██████████| 258/258 [00:07<00:00, 35.67it/s]\n",
      "Training Epoch 374: 100%|██████████| 258/258 [00:07<00:00, 35.31it/s]\n",
      "Training Epoch 375: 100%|██████████| 258/258 [00:07<00:00, 35.33it/s]\n",
      "Training Epoch 376: 100%|██████████| 258/258 [00:07<00:00, 35.89it/s]\n",
      "Training Epoch 377: 100%|██████████| 258/258 [00:07<00:00, 35.51it/s]\n",
      "Training Epoch 378: 100%|██████████| 258/258 [00:07<00:00, 35.73it/s]\n",
      "Training Epoch 379: 100%|██████████| 258/258 [00:07<00:00, 35.77it/s]\n",
      "Training Epoch 380: 100%|██████████| 258/258 [00:07<00:00, 35.39it/s]\n",
      "Training Epoch 381: 100%|██████████| 258/258 [00:07<00:00, 35.57it/s]\n"
     ]
    },
    {
     "name": "stdout",
     "output_type": "stream",
     "text": [
      "Epoch 380 - Train Loss: 0.3937, Train MSE: 0.3941, Train MAE: 0.4736\n",
      "Epoch 380 - Validation Loss: 2.5452, Validation MSE: 2.4955, Validation MAE: 1.1941\n"
     ]
    },
    {
     "name": "stderr",
     "output_type": "stream",
     "text": [
      "Training Epoch 382: 100%|██████████| 258/258 [00:07<00:00, 35.30it/s]\n",
      "Training Epoch 383: 100%|██████████| 258/258 [00:07<00:00, 35.92it/s]\n",
      "Training Epoch 384: 100%|██████████| 258/258 [00:07<00:00, 35.57it/s]\n",
      "Training Epoch 385: 100%|██████████| 258/258 [00:07<00:00, 35.66it/s]\n",
      "Training Epoch 386: 100%|██████████| 258/258 [00:07<00:00, 35.97it/s]\n",
      "Training Epoch 387: 100%|██████████| 258/258 [00:07<00:00, 35.39it/s]\n",
      "Training Epoch 388: 100%|██████████| 258/258 [00:07<00:00, 34.92it/s]\n",
      "Training Epoch 389: 100%|██████████| 258/258 [00:07<00:00, 35.75it/s]\n",
      "Training Epoch 390: 100%|██████████| 258/258 [00:07<00:00, 35.99it/s]\n",
      "Training Epoch 391: 100%|██████████| 258/258 [00:07<00:00, 35.63it/s]\n"
     ]
    },
    {
     "name": "stdout",
     "output_type": "stream",
     "text": [
      "Epoch 390 - Train Loss: 0.4109, Train MSE: 0.4115, Train MAE: 0.4837\n",
      "Epoch 390 - Validation Loss: 2.4137, Validation MSE: 2.3734, Validation MAE: 1.1742\n"
     ]
    },
    {
     "name": "stderr",
     "output_type": "stream",
     "text": [
      "Training Epoch 392: 100%|██████████| 258/258 [00:07<00:00, 35.47it/s]\n",
      "Training Epoch 393: 100%|██████████| 258/258 [00:07<00:00, 35.83it/s]\n",
      "Training Epoch 394: 100%|██████████| 258/258 [00:07<00:00, 35.49it/s]\n",
      "Training Epoch 395: 100%|██████████| 258/258 [00:07<00:00, 34.60it/s]\n",
      "Training Epoch 396: 100%|██████████| 258/258 [00:07<00:00, 35.80it/s]\n",
      "Training Epoch 397: 100%|██████████| 258/258 [00:07<00:00, 35.94it/s]\n",
      "Training Epoch 398: 100%|██████████| 258/258 [00:07<00:00, 35.62it/s]\n",
      "Training Epoch 399: 100%|██████████| 258/258 [00:07<00:00, 35.65it/s]\n",
      "Training Epoch 400: 100%|██████████| 258/258 [00:07<00:00, 34.81it/s]\n",
      "Training Epoch 401: 100%|██████████| 258/258 [00:07<00:00, 35.57it/s]\n"
     ]
    },
    {
     "name": "stdout",
     "output_type": "stream",
     "text": [
      "Epoch 400 - Train Loss: 0.3809, Train MSE: 0.3811, Train MAE: 0.4640\n",
      "Epoch 400 - Validation Loss: 2.4773, Validation MSE: 2.4369, Validation MAE: 1.1836\n"
     ]
    },
    {
     "name": "stderr",
     "output_type": "stream",
     "text": [
      "Training Epoch 402: 100%|██████████| 258/258 [00:07<00:00, 35.53it/s]\n",
      "Training Epoch 403: 100%|██████████| 258/258 [00:07<00:00, 34.76it/s]\n",
      "Training Epoch 404: 100%|██████████| 258/258 [00:07<00:00, 36.03it/s]\n",
      "Training Epoch 405: 100%|██████████| 258/258 [00:07<00:00, 35.44it/s]\n",
      "Training Epoch 406: 100%|██████████| 258/258 [00:07<00:00, 35.67it/s]\n",
      "Training Epoch 407: 100%|██████████| 258/258 [00:07<00:00, 35.84it/s]\n",
      "Training Epoch 408: 100%|██████████| 258/258 [00:07<00:00, 35.68it/s]\n",
      "Training Epoch 409: 100%|██████████| 258/258 [00:07<00:00, 34.50it/s]\n",
      "Training Epoch 410: 100%|██████████| 258/258 [00:07<00:00, 34.42it/s]\n",
      "Training Epoch 411: 100%|██████████| 258/258 [00:07<00:00, 36.15it/s]\n"
     ]
    },
    {
     "name": "stdout",
     "output_type": "stream",
     "text": [
      "Epoch 410 - Train Loss: 0.3962, Train MSE: 0.3956, Train MAE: 0.4720\n",
      "Epoch 410 - Validation Loss: 2.5177, Validation MSE: 2.4827, Validation MAE: 1.2026\n"
     ]
    },
    {
     "name": "stderr",
     "output_type": "stream",
     "text": [
      "Training Epoch 412: 100%|██████████| 258/258 [00:07<00:00, 35.44it/s]\n",
      "Training Epoch 413: 100%|██████████| 258/258 [00:07<00:00, 35.78it/s]\n",
      "Training Epoch 414: 100%|██████████| 258/258 [00:07<00:00, 35.68it/s]\n",
      "Training Epoch 415: 100%|██████████| 258/258 [00:07<00:00, 35.69it/s]\n",
      "Training Epoch 416: 100%|██████████| 258/258 [00:07<00:00, 35.27it/s]\n",
      "Training Epoch 417: 100%|██████████| 258/258 [00:07<00:00, 35.42it/s]\n",
      "Training Epoch 418: 100%|██████████| 258/258 [00:07<00:00, 35.66it/s]\n",
      "Training Epoch 419: 100%|██████████| 258/258 [00:07<00:00, 35.33it/s]\n",
      "Training Epoch 420: 100%|██████████| 258/258 [00:07<00:00, 35.55it/s]\n",
      "Training Epoch 421: 100%|██████████| 258/258 [00:07<00:00, 36.02it/s]\n"
     ]
    },
    {
     "name": "stdout",
     "output_type": "stream",
     "text": [
      "Epoch 420 - Train Loss: 0.3965, Train MSE: 0.3958, Train MAE: 0.4720\n",
      "Epoch 420 - Validation Loss: 2.4404, Validation MSE: 2.4007, Validation MAE: 1.1704\n"
     ]
    },
    {
     "name": "stderr",
     "output_type": "stream",
     "text": [
      "Training Epoch 422: 100%|██████████| 258/258 [00:07<00:00, 35.40it/s]\n",
      "Training Epoch 423: 100%|██████████| 258/258 [00:07<00:00, 35.50it/s]\n",
      "Training Epoch 424: 100%|██████████| 258/258 [00:07<00:00, 35.34it/s]\n",
      "Training Epoch 425: 100%|██████████| 258/258 [00:07<00:00, 35.90it/s]\n",
      "Training Epoch 426: 100%|██████████| 258/258 [00:07<00:00, 35.80it/s]\n",
      "Training Epoch 427: 100%|██████████| 258/258 [00:07<00:00, 35.12it/s]\n",
      "Training Epoch 428: 100%|██████████| 258/258 [00:07<00:00, 36.09it/s]\n",
      "Training Epoch 429: 100%|██████████| 258/258 [00:07<00:00, 35.49it/s]\n",
      "Training Epoch 430: 100%|██████████| 258/258 [00:07<00:00, 35.43it/s]\n",
      "Training Epoch 431: 100%|██████████| 258/258 [00:07<00:00, 35.66it/s]\n"
     ]
    },
    {
     "name": "stdout",
     "output_type": "stream",
     "text": [
      "Epoch 430 - Train Loss: 0.3805, Train MSE: 0.3807, Train MAE: 0.4636\n",
      "Epoch 430 - Validation Loss: 2.4679, Validation MSE: 2.4410, Validation MAE: 1.1824\n"
     ]
    },
    {
     "name": "stderr",
     "output_type": "stream",
     "text": [
      "Training Epoch 432: 100%|██████████| 258/258 [00:07<00:00, 35.93it/s]\n",
      "Training Epoch 433: 100%|██████████| 258/258 [00:07<00:00, 35.04it/s]\n",
      "Training Epoch 434: 100%|██████████| 258/258 [00:07<00:00, 35.50it/s]\n",
      "Training Epoch 435: 100%|██████████| 258/258 [00:07<00:00, 35.73it/s]\n",
      "Training Epoch 436: 100%|██████████| 258/258 [00:07<00:00, 35.70it/s]\n",
      "Training Epoch 437: 100%|██████████| 258/258 [00:07<00:00, 35.44it/s]\n",
      "Training Epoch 438: 100%|██████████| 258/258 [00:07<00:00, 35.54it/s]\n",
      "Training Epoch 439: 100%|██████████| 258/258 [00:07<00:00, 36.01it/s]\n",
      "Training Epoch 440: 100%|██████████| 258/258 [00:07<00:00, 35.41it/s]\n",
      "Training Epoch 441: 100%|██████████| 258/258 [00:07<00:00, 34.79it/s]\n"
     ]
    },
    {
     "name": "stdout",
     "output_type": "stream",
     "text": [
      "Epoch 440 - Train Loss: 0.3738, Train MSE: 0.3745, Train MAE: 0.4585\n",
      "Epoch 440 - Validation Loss: 2.4174, Validation MSE: 2.3783, Validation MAE: 1.1673\n"
     ]
    },
    {
     "name": "stderr",
     "output_type": "stream",
     "text": [
      "Training Epoch 442: 100%|██████████| 258/258 [00:07<00:00, 35.85it/s]\n",
      "Training Epoch 443: 100%|██████████| 258/258 [00:07<00:00, 35.77it/s]\n",
      "Training Epoch 444: 100%|██████████| 258/258 [00:07<00:00, 35.47it/s]\n",
      "Training Epoch 445: 100%|██████████| 258/258 [00:07<00:00, 35.64it/s]\n",
      "Training Epoch 446: 100%|██████████| 258/258 [00:07<00:00, 35.98it/s]\n",
      "Training Epoch 447: 100%|██████████| 258/258 [00:07<00:00, 35.31it/s]\n",
      "Training Epoch 448: 100%|██████████| 258/258 [00:07<00:00, 34.62it/s]\n",
      "Training Epoch 449: 100%|██████████| 258/258 [00:07<00:00, 35.87it/s]\n",
      "Training Epoch 450: 100%|██████████| 258/258 [00:07<00:00, 35.59it/s]\n",
      "Training Epoch 451: 100%|██████████| 258/258 [00:07<00:00, 35.58it/s]\n"
     ]
    },
    {
     "name": "stdout",
     "output_type": "stream",
     "text": [
      "Epoch 450 - Train Loss: 0.3616, Train MSE: 0.3623, Train MAE: 0.4492\n",
      "Epoch 450 - Validation Loss: 2.4450, Validation MSE: 2.4092, Validation MAE: 1.1804\n"
     ]
    },
    {
     "name": "stderr",
     "output_type": "stream",
     "text": [
      "Training Epoch 452: 100%|██████████| 258/258 [00:07<00:00, 35.46it/s]\n",
      "Training Epoch 453: 100%|██████████| 258/258 [00:07<00:00, 35.96it/s]\n",
      "Training Epoch 454: 100%|██████████| 258/258 [00:07<00:00, 35.40it/s]\n",
      "Training Epoch 455: 100%|██████████| 258/258 [00:07<00:00, 35.76it/s]\n",
      "Training Epoch 456: 100%|██████████| 258/258 [00:07<00:00, 35.69it/s]\n",
      "Training Epoch 457: 100%|██████████| 258/258 [00:07<00:00, 35.59it/s]\n",
      "Training Epoch 458: 100%|██████████| 258/258 [00:07<00:00, 35.10it/s]\n",
      "Training Epoch 459: 100%|██████████| 258/258 [00:07<00:00, 35.82it/s]\n",
      "Training Epoch 460: 100%|██████████| 258/258 [00:07<00:00, 36.01it/s]\n",
      "Training Epoch 461: 100%|██████████| 258/258 [00:07<00:00, 35.82it/s]\n"
     ]
    },
    {
     "name": "stdout",
     "output_type": "stream",
     "text": [
      "Epoch 460 - Train Loss: 0.3668, Train MSE: 0.3675, Train MAE: 0.4544\n",
      "Epoch 460 - Validation Loss: 2.4732, Validation MSE: 2.4404, Validation MAE: 1.1846\n"
     ]
    },
    {
     "name": "stderr",
     "output_type": "stream",
     "text": [
      "Training Epoch 462: 100%|██████████| 258/258 [00:07<00:00, 34.83it/s]\n",
      "Training Epoch 463: 100%|██████████| 258/258 [00:07<00:00, 36.09it/s]\n",
      "Training Epoch 464: 100%|██████████| 258/258 [00:07<00:00, 35.44it/s]\n",
      "Training Epoch 465: 100%|██████████| 258/258 [00:07<00:00, 35.59it/s]\n",
      "Training Epoch 466: 100%|██████████| 258/258 [00:07<00:00, 35.66it/s]\n",
      "Training Epoch 467: 100%|██████████| 258/258 [00:07<00:00, 36.09it/s]\n",
      "Training Epoch 468: 100%|██████████| 258/258 [00:07<00:00, 35.59it/s]\n",
      "Training Epoch 469: 100%|██████████| 258/258 [00:07<00:00, 35.59it/s]\n",
      "Training Epoch 470: 100%|██████████| 258/258 [00:07<00:00, 35.96it/s]\n",
      "Training Epoch 471: 100%|██████████| 258/258 [00:07<00:00, 35.55it/s]\n"
     ]
    },
    {
     "name": "stdout",
     "output_type": "stream",
     "text": [
      "Epoch 470 - Train Loss: 0.3583, Train MSE: 0.3575, Train MAE: 0.4509\n",
      "Epoch 470 - Validation Loss: 2.4434, Validation MSE: 2.4060, Validation MAE: 1.1784\n"
     ]
    },
    {
     "name": "stderr",
     "output_type": "stream",
     "text": [
      "Training Epoch 472: 100%|██████████| 258/258 [00:07<00:00, 35.38it/s]\n",
      "Training Epoch 473: 100%|██████████| 258/258 [00:07<00:00, 34.92it/s]\n",
      "Training Epoch 474: 100%|██████████| 258/258 [00:07<00:00, 36.10it/s]\n",
      "Training Epoch 475: 100%|██████████| 258/258 [00:07<00:00, 35.59it/s]\n",
      "Training Epoch 476: 100%|██████████| 258/258 [00:07<00:00, 35.64it/s]\n",
      "Training Epoch 477: 100%|██████████| 258/258 [00:07<00:00, 35.85it/s]\n",
      "Training Epoch 478: 100%|██████████| 258/258 [00:07<00:00, 35.93it/s]\n",
      "Training Epoch 479: 100%|██████████| 258/258 [00:07<00:00, 34.90it/s]\n",
      "Training Epoch 480: 100%|██████████| 258/258 [00:07<00:00, 35.35it/s]\n",
      "Training Epoch 481: 100%|██████████| 258/258 [00:07<00:00, 36.06it/s]\n"
     ]
    },
    {
     "name": "stdout",
     "output_type": "stream",
     "text": [
      "Epoch 480 - Train Loss: 0.3658, Train MSE: 0.3654, Train MAE: 0.4537\n",
      "Epoch 480 - Validation Loss: 2.4243, Validation MSE: 2.3854, Validation MAE: 1.1727\n"
     ]
    },
    {
     "name": "stderr",
     "output_type": "stream",
     "text": [
      "Training Epoch 482: 100%|██████████| 258/258 [00:07<00:00, 35.72it/s]\n",
      "Training Epoch 483: 100%|██████████| 258/258 [00:07<00:00, 35.78it/s]\n",
      "Training Epoch 484: 100%|██████████| 258/258 [00:07<00:00, 35.80it/s]\n",
      "Training Epoch 485: 100%|██████████| 258/258 [00:07<00:00, 35.65it/s]\n",
      "Training Epoch 486: 100%|██████████| 258/258 [00:07<00:00, 34.93it/s]\n",
      "Training Epoch 487: 100%|██████████| 258/258 [00:07<00:00, 35.48it/s]\n",
      "Training Epoch 488: 100%|██████████| 258/258 [00:07<00:00, 35.97it/s]\n",
      "Training Epoch 489: 100%|██████████| 258/258 [00:07<00:00, 35.91it/s]\n",
      "Training Epoch 490: 100%|██████████| 258/258 [00:07<00:00, 35.77it/s]\n",
      "Training Epoch 491: 100%|██████████| 258/258 [00:07<00:00, 36.07it/s]\n"
     ]
    },
    {
     "name": "stdout",
     "output_type": "stream",
     "text": [
      "Epoch 490 - Train Loss: 0.3626, Train MSE: 0.3633, Train MAE: 0.4493\n",
      "Epoch 490 - Validation Loss: 2.5023, Validation MSE: 2.4663, Validation MAE: 1.1893\n"
     ]
    },
    {
     "name": "stderr",
     "output_type": "stream",
     "text": [
      "Training Epoch 492: 100%|██████████| 258/258 [00:07<00:00, 35.46it/s]\n",
      "Training Epoch 493: 100%|██████████| 258/258 [00:07<00:00, 35.12it/s]\n",
      "Training Epoch 494: 100%|██████████| 258/258 [00:07<00:00, 35.38it/s]\n",
      "Training Epoch 495: 100%|██████████| 258/258 [00:07<00:00, 35.83it/s]\n",
      "Training Epoch 496: 100%|██████████| 258/258 [00:07<00:00, 35.61it/s]\n",
      "Training Epoch 497: 100%|██████████| 258/258 [00:07<00:00, 35.56it/s]\n",
      "Training Epoch 498: 100%|██████████| 258/258 [00:07<00:00, 35.95it/s]\n",
      "Training Epoch 499: 100%|██████████| 258/258 [00:07<00:00, 35.53it/s]\n",
      "Training Epoch 500: 100%|██████████| 258/258 [00:07<00:00, 35.39it/s]\n",
      "Training Epoch 501: 100%|██████████| 258/258 [00:07<00:00, 35.64it/s]\n"
     ]
    },
    {
     "name": "stdout",
     "output_type": "stream",
     "text": [
      "Epoch 500 - Train Loss: 0.3524, Train MSE: 0.3531, Train MAE: 0.4429\n",
      "Epoch 500 - Validation Loss: 2.4769, Validation MSE: 2.4370, Validation MAE: 1.1745\n"
     ]
    },
    {
     "name": "stderr",
     "output_type": "stream",
     "text": [
      "Training Epoch 502: 100%|██████████| 258/258 [00:07<00:00, 35.41it/s]\n",
      "Training Epoch 503: 100%|██████████| 258/258 [00:07<00:00, 35.64it/s]\n",
      "Training Epoch 504: 100%|██████████| 258/258 [00:07<00:00, 35.40it/s]\n",
      "Training Epoch 505: 100%|██████████| 258/258 [00:07<00:00, 35.48it/s]\n",
      "Training Epoch 506: 100%|██████████| 258/258 [00:07<00:00, 35.61it/s]\n",
      "Training Epoch 507: 100%|██████████| 258/258 [00:07<00:00, 35.54it/s]\n",
      "Training Epoch 508: 100%|██████████| 258/258 [00:07<00:00, 35.76it/s]\n",
      "Training Epoch 509: 100%|██████████| 258/258 [00:07<00:00, 35.56it/s]\n",
      "Training Epoch 510: 100%|██████████| 258/258 [00:07<00:00, 35.41it/s]\n",
      "Training Epoch 511: 100%|██████████| 258/258 [00:07<00:00, 35.73it/s]\n"
     ]
    },
    {
     "name": "stdout",
     "output_type": "stream",
     "text": [
      "Epoch 510 - Train Loss: 0.3373, Train MSE: 0.3375, Train MAE: 0.4374\n",
      "Epoch 510 - Validation Loss: 2.4786, Validation MSE: 2.4392, Validation MAE: 1.1921\n"
     ]
    },
    {
     "name": "stderr",
     "output_type": "stream",
     "text": [
      "Training Epoch 512: 100%|██████████| 258/258 [00:07<00:00, 35.75it/s]\n",
      "Training Epoch 513: 100%|██████████| 258/258 [00:07<00:00, 35.68it/s]\n",
      "Training Epoch 514: 100%|██████████| 258/258 [00:07<00:00, 35.20it/s]\n",
      "Training Epoch 515: 100%|██████████| 258/258 [00:07<00:00, 35.43it/s]\n",
      "Training Epoch 516: 100%|██████████| 258/258 [00:07<00:00, 36.12it/s]\n",
      "Training Epoch 517: 100%|██████████| 258/258 [00:07<00:00, 34.51it/s]\n",
      "Training Epoch 518: 100%|██████████| 258/258 [00:07<00:00, 35.72it/s]\n",
      "Training Epoch 519: 100%|██████████| 258/258 [00:07<00:00, 35.44it/s]\n",
      "Training Epoch 520: 100%|██████████| 258/258 [00:07<00:00, 36.01it/s]\n",
      "Training Epoch 521: 100%|██████████| 258/258 [00:07<00:00, 35.88it/s]\n"
     ]
    },
    {
     "name": "stdout",
     "output_type": "stream",
     "text": [
      "Epoch 520 - Train Loss: 0.3459, Train MSE: 0.3456, Train MAE: 0.4385\n",
      "Epoch 520 - Validation Loss: 2.3960, Validation MSE: 2.3596, Validation MAE: 1.1670\n"
     ]
    },
    {
     "name": "stderr",
     "output_type": "stream",
     "text": [
      "Training Epoch 522: 100%|██████████| 258/258 [00:07<00:00, 35.83it/s]\n",
      "Training Epoch 523: 100%|██████████| 258/258 [00:07<00:00, 35.95it/s]\n",
      "Training Epoch 524: 100%|██████████| 258/258 [00:07<00:00, 35.23it/s]\n",
      "Training Epoch 525: 100%|██████████| 258/258 [00:07<00:00, 35.57it/s]\n",
      "Training Epoch 526: 100%|██████████| 258/258 [00:07<00:00, 35.53it/s]\n",
      "Training Epoch 527: 100%|██████████| 258/258 [00:07<00:00, 34.88it/s]\n",
      "Training Epoch 528: 100%|██████████| 258/258 [00:07<00:00, 34.94it/s]\n",
      "Training Epoch 529: 100%|██████████| 258/258 [00:07<00:00, 35.07it/s]\n",
      "Training Epoch 530: 100%|██████████| 258/258 [00:07<00:00, 35.15it/s]\n",
      "Training Epoch 531: 100%|██████████| 258/258 [00:07<00:00, 35.17it/s]\n"
     ]
    },
    {
     "name": "stdout",
     "output_type": "stream",
     "text": [
      "Epoch 530 - Train Loss: 0.3343, Train MSE: 0.3341, Train MAE: 0.4328\n",
      "Epoch 530 - Validation Loss: 2.4197, Validation MSE: 2.3825, Validation MAE: 1.1759\n"
     ]
    },
    {
     "name": "stderr",
     "output_type": "stream",
     "text": [
      "Training Epoch 532: 100%|██████████| 258/258 [00:07<00:00, 34.52it/s]\n",
      "Training Epoch 533: 100%|██████████| 258/258 [00:07<00:00, 35.41it/s]\n",
      "Training Epoch 534: 100%|██████████| 258/258 [00:07<00:00, 34.82it/s]\n",
      "Training Epoch 535: 100%|██████████| 258/258 [00:07<00:00, 35.16it/s]\n",
      "Training Epoch 536: 100%|██████████| 258/258 [00:07<00:00, 34.99it/s]\n",
      "Training Epoch 537: 100%|██████████| 258/258 [00:07<00:00, 35.36it/s]\n",
      "Training Epoch 538: 100%|██████████| 258/258 [00:07<00:00, 34.75it/s]\n",
      "Training Epoch 539: 100%|██████████| 258/258 [00:07<00:00, 34.73it/s]\n",
      "Training Epoch 540: 100%|██████████| 258/258 [00:07<00:00, 35.51it/s]\n",
      "Training Epoch 541: 100%|██████████| 258/258 [00:07<00:00, 35.11it/s]\n"
     ]
    },
    {
     "name": "stdout",
     "output_type": "stream",
     "text": [
      "Epoch 540 - Train Loss: 0.3518, Train MSE: 0.3525, Train MAE: 0.4450\n",
      "Epoch 540 - Validation Loss: 2.3939, Validation MSE: 2.3568, Validation MAE: 1.1634\n"
     ]
    },
    {
     "name": "stderr",
     "output_type": "stream",
     "text": [
      "Training Epoch 542: 100%|██████████| 258/258 [00:07<00:00, 34.91it/s]\n",
      "Training Epoch 543: 100%|██████████| 258/258 [00:07<00:00, 34.98it/s]\n",
      "Training Epoch 544: 100%|██████████| 258/258 [00:07<00:00, 35.28it/s]\n",
      "Training Epoch 545: 100%|██████████| 258/258 [00:07<00:00, 34.77it/s]\n",
      "Training Epoch 546: 100%|██████████| 258/258 [00:07<00:00, 34.73it/s]\n",
      "Training Epoch 547: 100%|██████████| 258/258 [00:07<00:00, 34.79it/s]\n",
      "Training Epoch 548: 100%|██████████| 258/258 [00:07<00:00, 35.14it/s]\n",
      "Training Epoch 549: 100%|██████████| 258/258 [00:07<00:00, 34.70it/s]\n",
      "Training Epoch 550: 100%|██████████| 258/258 [00:07<00:00, 35.17it/s]\n",
      "Training Epoch 551: 100%|██████████| 258/258 [00:07<00:00, 34.73it/s]\n"
     ]
    },
    {
     "name": "stdout",
     "output_type": "stream",
     "text": [
      "Epoch 550 - Train Loss: 0.3459, Train MSE: 0.3454, Train MAE: 0.4359\n",
      "Epoch 550 - Validation Loss: 2.5212, Validation MSE: 2.4819, Validation MAE: 1.1915\n"
     ]
    },
    {
     "name": "stderr",
     "output_type": "stream",
     "text": [
      "Training Epoch 552: 100%|██████████| 258/258 [00:07<00:00, 34.85it/s]\n",
      "Training Epoch 553: 100%|██████████| 258/258 [00:07<00:00, 34.58it/s]\n",
      "Training Epoch 554: 100%|██████████| 258/258 [00:07<00:00, 34.85it/s]\n",
      "Training Epoch 555: 100%|██████████| 258/258 [00:07<00:00, 34.62it/s]\n",
      "Training Epoch 556: 100%|██████████| 258/258 [00:07<00:00, 35.18it/s]\n",
      "Training Epoch 557: 100%|██████████| 258/258 [00:07<00:00, 35.33it/s]\n",
      "Training Epoch 558: 100%|██████████| 258/258 [00:07<00:00, 34.86it/s]\n",
      "Training Epoch 559: 100%|██████████| 258/258 [00:07<00:00, 34.77it/s]\n",
      "Training Epoch 560: 100%|██████████| 258/258 [00:07<00:00, 35.05it/s]\n",
      "Training Epoch 561: 100%|██████████| 258/258 [00:07<00:00, 35.38it/s]\n"
     ]
    },
    {
     "name": "stdout",
     "output_type": "stream",
     "text": [
      "Epoch 560 - Train Loss: 0.3442, Train MSE: 0.3448, Train MAE: 0.4344\n",
      "Epoch 560 - Validation Loss: 2.3919, Validation MSE: 2.3592, Validation MAE: 1.1617\n"
     ]
    },
    {
     "name": "stderr",
     "output_type": "stream",
     "text": [
      "Training Epoch 562: 100%|██████████| 258/258 [00:07<00:00, 34.77it/s]\n",
      "Training Epoch 563: 100%|██████████| 258/258 [00:07<00:00, 35.00it/s]\n",
      "Training Epoch 564: 100%|██████████| 258/258 [00:07<00:00, 35.13it/s]\n",
      "Training Epoch 565: 100%|██████████| 258/258 [00:07<00:00, 34.61it/s]\n",
      "Training Epoch 566: 100%|██████████| 258/258 [00:07<00:00, 34.87it/s]\n",
      "Training Epoch 567: 100%|██████████| 258/258 [00:07<00:00, 34.53it/s]\n",
      "Training Epoch 568: 100%|██████████| 258/258 [00:07<00:00, 35.13it/s]\n",
      "Training Epoch 569: 100%|██████████| 258/258 [00:07<00:00, 34.30it/s]\n",
      "Training Epoch 570: 100%|██████████| 258/258 [00:07<00:00, 34.97it/s]\n",
      "Training Epoch 571: 100%|██████████| 258/258 [00:07<00:00, 35.08it/s]\n"
     ]
    },
    {
     "name": "stdout",
     "output_type": "stream",
     "text": [
      "Epoch 570 - Train Loss: 0.3321, Train MSE: 0.3309, Train MAE: 0.4293\n",
      "Epoch 570 - Validation Loss: 2.4052, Validation MSE: 2.3644, Validation MAE: 1.1649\n"
     ]
    },
    {
     "name": "stderr",
     "output_type": "stream",
     "text": [
      "Training Epoch 572: 100%|██████████| 258/258 [00:07<00:00, 35.04it/s]\n",
      "Training Epoch 573: 100%|██████████| 258/258 [00:07<00:00, 34.25it/s]\n",
      "Training Epoch 574: 100%|██████████| 258/258 [00:07<00:00, 34.87it/s]\n",
      "Training Epoch 575: 100%|██████████| 258/258 [00:07<00:00, 34.97it/s]\n",
      "Training Epoch 576: 100%|██████████| 258/258 [00:07<00:00, 34.94it/s]\n",
      "Training Epoch 577: 100%|██████████| 258/258 [00:07<00:00, 33.78it/s]\n",
      "Training Epoch 578: 100%|██████████| 258/258 [00:07<00:00, 35.50it/s]\n",
      "Training Epoch 579: 100%|██████████| 258/258 [00:07<00:00, 34.98it/s]\n",
      "Training Epoch 580: 100%|██████████| 258/258 [00:07<00:00, 34.94it/s]\n",
      "Training Epoch 581: 100%|██████████| 258/258 [00:07<00:00, 35.30it/s]\n"
     ]
    },
    {
     "name": "stdout",
     "output_type": "stream",
     "text": [
      "Epoch 580 - Train Loss: 0.3169, Train MSE: 0.3175, Train MAE: 0.4204\n",
      "Epoch 580 - Validation Loss: 2.3968, Validation MSE: 2.3562, Validation MAE: 1.1668\n"
     ]
    },
    {
     "name": "stderr",
     "output_type": "stream",
     "text": [
      "Training Epoch 582: 100%|██████████| 258/258 [00:07<00:00, 34.74it/s]\n",
      "Training Epoch 583: 100%|██████████| 258/258 [00:07<00:00, 34.78it/s]\n",
      "Training Epoch 584: 100%|██████████| 258/258 [00:07<00:00, 34.53it/s]\n",
      "Training Epoch 585: 100%|██████████| 258/258 [00:07<00:00, 35.47it/s]\n",
      "Training Epoch 586: 100%|██████████| 258/258 [00:07<00:00, 34.93it/s]\n",
      "Training Epoch 587: 100%|██████████| 258/258 [00:07<00:00, 35.06it/s]\n",
      "Training Epoch 588: 100%|██████████| 258/258 [00:07<00:00, 35.49it/s]\n",
      "Training Epoch 589: 100%|██████████| 258/258 [00:07<00:00, 34.82it/s]\n",
      "Training Epoch 590: 100%|██████████| 258/258 [00:07<00:00, 34.73it/s]\n",
      "Training Epoch 591: 100%|██████████| 258/258 [00:07<00:00, 34.89it/s]\n"
     ]
    },
    {
     "name": "stdout",
     "output_type": "stream",
     "text": [
      "Epoch 590 - Train Loss: 0.3257, Train MSE: 0.3266, Train MAE: 0.4234\n",
      "Epoch 590 - Validation Loss: 2.4477, Validation MSE: 2.4125, Validation MAE: 1.1729\n"
     ]
    },
    {
     "name": "stderr",
     "output_type": "stream",
     "text": [
      "Training Epoch 592: 100%|██████████| 258/258 [00:07<00:00, 34.50it/s]\n",
      "Training Epoch 593: 100%|██████████| 258/258 [00:07<00:00, 35.10it/s]\n",
      "Training Epoch 594: 100%|██████████| 258/258 [00:07<00:00, 34.84it/s]\n",
      "Training Epoch 595: 100%|██████████| 258/258 [00:07<00:00, 35.54it/s]\n",
      "Training Epoch 596: 100%|██████████| 258/258 [00:07<00:00, 35.15it/s]\n",
      "Training Epoch 597: 100%|██████████| 258/258 [00:07<00:00, 34.44it/s]\n",
      "Training Epoch 598: 100%|██████████| 258/258 [00:07<00:00, 35.11it/s]\n",
      "Training Epoch 599: 100%|██████████| 258/258 [00:07<00:00, 34.24it/s]\n",
      "Training Epoch 600: 100%|██████████| 258/258 [00:07<00:00, 34.99it/s]\n",
      "Training Epoch 601: 100%|██████████| 258/258 [00:07<00:00, 34.86it/s]\n"
     ]
    },
    {
     "name": "stdout",
     "output_type": "stream",
     "text": [
      "Epoch 600 - Train Loss: 0.3234, Train MSE: 0.3230, Train MAE: 0.4214\n",
      "Epoch 600 - Validation Loss: 2.4631, Validation MSE: 2.4211, Validation MAE: 1.1911\n"
     ]
    },
    {
     "name": "stderr",
     "output_type": "stream",
     "text": [
      "Training Epoch 602: 100%|██████████| 258/258 [00:07<00:00, 35.67it/s]\n",
      "Training Epoch 603: 100%|██████████| 258/258 [00:07<00:00, 35.26it/s]\n",
      "Training Epoch 604: 100%|██████████| 258/258 [00:07<00:00, 34.86it/s]\n",
      "Training Epoch 605: 100%|██████████| 258/258 [00:07<00:00, 35.28it/s]\n",
      "Training Epoch 606: 100%|██████████| 258/258 [00:07<00:00, 34.72it/s]\n",
      "Training Epoch 607: 100%|██████████| 258/258 [00:07<00:00, 34.61it/s]\n",
      "Training Epoch 608: 100%|██████████| 258/258 [00:07<00:00, 34.75it/s]\n",
      "Training Epoch 609: 100%|██████████| 258/258 [00:07<00:00, 35.40it/s]\n",
      "Training Epoch 610: 100%|██████████| 258/258 [00:07<00:00, 35.46it/s]\n",
      "Training Epoch 611: 100%|██████████| 258/258 [00:07<00:00, 34.91it/s]\n"
     ]
    },
    {
     "name": "stdout",
     "output_type": "stream",
     "text": [
      "Epoch 610 - Train Loss: 0.3194, Train MSE: 0.3196, Train MAE: 0.4209\n",
      "Epoch 610 - Validation Loss: 2.4689, Validation MSE: 2.4213, Validation MAE: 1.1833\n"
     ]
    },
    {
     "name": "stderr",
     "output_type": "stream",
     "text": [
      "Training Epoch 612: 100%|██████████| 258/258 [00:07<00:00, 35.46it/s]\n",
      "Training Epoch 613: 100%|██████████| 258/258 [00:07<00:00, 34.73it/s]\n",
      "Training Epoch 614: 100%|██████████| 258/258 [00:07<00:00, 34.40it/s]\n",
      "Training Epoch 615: 100%|██████████| 258/258 [00:07<00:00, 35.31it/s]\n",
      "Training Epoch 616: 100%|██████████| 258/258 [00:07<00:00, 35.17it/s]\n",
      "Training Epoch 617: 100%|██████████| 258/258 [00:07<00:00, 34.89it/s]\n",
      "Training Epoch 618: 100%|██████████| 258/258 [00:07<00:00, 35.00it/s]\n",
      "Training Epoch 619: 100%|██████████| 258/258 [00:07<00:00, 35.31it/s]\n",
      "Training Epoch 620: 100%|██████████| 258/258 [00:07<00:00, 34.74it/s]\n",
      "Training Epoch 621: 100%|██████████| 258/258 [00:07<00:00, 34.70it/s]\n"
     ]
    },
    {
     "name": "stdout",
     "output_type": "stream",
     "text": [
      "Epoch 620 - Train Loss: 0.3160, Train MSE: 0.3165, Train MAE: 0.4177\n",
      "Epoch 620 - Validation Loss: 2.4642, Validation MSE: 2.4303, Validation MAE: 1.1847\n"
     ]
    },
    {
     "name": "stderr",
     "output_type": "stream",
     "text": [
      "Training Epoch 622: 100%|██████████| 258/258 [00:07<00:00, 34.45it/s]\n",
      "Training Epoch 623: 100%|██████████| 258/258 [00:07<00:00, 35.15it/s]\n",
      "Training Epoch 624: 100%|██████████| 258/258 [00:07<00:00, 34.84it/s]\n",
      "Training Epoch 625: 100%|██████████| 258/258 [00:07<00:00, 35.01it/s]\n",
      "Training Epoch 626: 100%|██████████| 258/258 [00:07<00:00, 35.38it/s]\n",
      "Training Epoch 627: 100%|██████████| 258/258 [00:07<00:00, 34.79it/s]\n",
      "Training Epoch 628: 100%|██████████| 258/258 [00:07<00:00, 34.53it/s]\n",
      "Training Epoch 629: 100%|██████████| 258/258 [00:07<00:00, 34.93it/s]\n",
      "Training Epoch 630: 100%|██████████| 258/258 [00:07<00:00, 34.99it/s]\n",
      "Training Epoch 631: 100%|██████████| 258/258 [00:07<00:00, 34.88it/s]\n"
     ]
    },
    {
     "name": "stdout",
     "output_type": "stream",
     "text": [
      "Epoch 630 - Train Loss: 0.3172, Train MSE: 0.3170, Train MAE: 0.4184\n",
      "Epoch 630 - Validation Loss: 2.4524, Validation MSE: 2.4118, Validation MAE: 1.1838\n"
     ]
    },
    {
     "name": "stderr",
     "output_type": "stream",
     "text": [
      "Training Epoch 632: 100%|██████████| 258/258 [00:07<00:00, 35.08it/s]\n",
      "Training Epoch 633: 100%|██████████| 258/258 [00:07<00:00, 35.53it/s]\n",
      "Training Epoch 634: 100%|██████████| 258/258 [00:07<00:00, 34.89it/s]\n",
      "Training Epoch 635: 100%|██████████| 258/258 [00:07<00:00, 34.67it/s]\n",
      "Training Epoch 636: 100%|██████████| 258/258 [00:07<00:00, 35.50it/s]\n",
      "Training Epoch 637: 100%|██████████| 258/258 [00:07<00:00, 34.42it/s]\n",
      "Training Epoch 638: 100%|██████████| 258/258 [00:07<00:00, 34.80it/s]\n",
      "Training Epoch 639: 100%|██████████| 258/258 [00:07<00:00, 34.93it/s]\n",
      "Training Epoch 640: 100%|██████████| 258/258 [00:07<00:00, 35.46it/s]\n",
      "Training Epoch 641: 100%|██████████| 258/258 [00:07<00:00, 34.50it/s]\n"
     ]
    },
    {
     "name": "stdout",
     "output_type": "stream",
     "text": [
      "Epoch 640 - Train Loss: 0.3192, Train MSE: 0.3149, Train MAE: 0.4155\n",
      "Epoch 640 - Validation Loss: 2.5208, Validation MSE: 2.4791, Validation MAE: 1.2046\n"
     ]
    },
    {
     "name": "stderr",
     "output_type": "stream",
     "text": [
      "Training Epoch 642: 100%|██████████| 258/258 [00:07<00:00, 34.87it/s]\n",
      "Training Epoch 643: 100%|██████████| 258/258 [00:07<00:00, 35.30it/s]\n",
      "Training Epoch 644: 100%|██████████| 258/258 [00:07<00:00, 34.55it/s]\n",
      "Training Epoch 645: 100%|██████████| 258/258 [00:07<00:00, 35.13it/s]\n",
      "Training Epoch 646: 100%|██████████| 258/258 [00:07<00:00, 34.73it/s]\n",
      "Training Epoch 647: 100%|██████████| 258/258 [00:07<00:00, 35.11it/s]\n",
      "Training Epoch 648: 100%|██████████| 258/258 [00:07<00:00, 34.71it/s]\n",
      "Training Epoch 649: 100%|██████████| 258/258 [00:07<00:00, 34.31it/s]\n",
      "Training Epoch 650: 100%|██████████| 258/258 [00:07<00:00, 35.28it/s]\n",
      "Training Epoch 651: 100%|██████████| 258/258 [00:07<00:00, 34.86it/s]\n"
     ]
    },
    {
     "name": "stdout",
     "output_type": "stream",
     "text": [
      "Epoch 650 - Train Loss: 0.3106, Train MSE: 0.3105, Train MAE: 0.4143\n",
      "Epoch 650 - Validation Loss: 2.4132, Validation MSE: 2.3695, Validation MAE: 1.1638\n"
     ]
    },
    {
     "name": "stderr",
     "output_type": "stream",
     "text": [
      "Training Epoch 652: 100%|██████████| 258/258 [00:07<00:00, 34.70it/s]\n",
      "Training Epoch 653: 100%|██████████| 258/258 [00:07<00:00, 35.16it/s]\n",
      "Training Epoch 654: 100%|██████████| 258/258 [00:07<00:00, 35.09it/s]\n",
      "Training Epoch 655: 100%|██████████| 258/258 [00:07<00:00, 34.90it/s]\n",
      "Training Epoch 656: 100%|██████████| 258/258 [00:07<00:00, 34.48it/s]\n",
      "Training Epoch 657: 100%|██████████| 258/258 [00:07<00:00, 35.24it/s]\n",
      "Training Epoch 658: 100%|██████████| 258/258 [00:07<00:00, 34.88it/s]\n",
      "Training Epoch 659: 100%|██████████| 258/258 [00:07<00:00, 34.57it/s]\n",
      "Training Epoch 660: 100%|██████████| 258/258 [00:07<00:00, 35.06it/s]\n",
      "Training Epoch 661: 100%|██████████| 258/258 [00:07<00:00, 35.02it/s]\n"
     ]
    },
    {
     "name": "stdout",
     "output_type": "stream",
     "text": [
      "Epoch 660 - Train Loss: 0.3067, Train MSE: 0.3070, Train MAE: 0.4155\n",
      "Epoch 660 - Validation Loss: 2.4548, Validation MSE: 2.4201, Validation MAE: 1.1822\n"
     ]
    },
    {
     "name": "stderr",
     "output_type": "stream",
     "text": [
      "Training Epoch 662: 100%|██████████| 258/258 [00:07<00:00, 34.74it/s]\n",
      "Training Epoch 663: 100%|██████████| 258/258 [00:07<00:00, 34.72it/s]\n",
      "Training Epoch 664: 100%|██████████| 258/258 [00:07<00:00, 35.48it/s]\n",
      "Training Epoch 665: 100%|██████████| 258/258 [00:07<00:00, 34.86it/s]\n",
      "Training Epoch 666: 100%|██████████| 258/258 [00:07<00:00, 35.03it/s]\n",
      "Training Epoch 667: 100%|██████████| 258/258 [00:07<00:00, 35.35it/s]\n",
      "Training Epoch 668: 100%|██████████| 258/258 [00:07<00:00, 34.85it/s]\n",
      "Training Epoch 669: 100%|██████████| 258/258 [00:07<00:00, 35.00it/s]\n",
      "Training Epoch 670: 100%|██████████| 258/258 [00:07<00:00, 34.44it/s]\n",
      "Training Epoch 671: 100%|██████████| 258/258 [00:07<00:00, 35.25it/s]\n"
     ]
    },
    {
     "name": "stdout",
     "output_type": "stream",
     "text": [
      "Epoch 670 - Train Loss: 0.3134, Train MSE: 0.3124, Train MAE: 0.4164\n",
      "Epoch 670 - Validation Loss: 2.4838, Validation MSE: 2.4457, Validation MAE: 1.1949\n"
     ]
    },
    {
     "name": "stderr",
     "output_type": "stream",
     "text": [
      "Training Epoch 672: 100%|██████████| 258/258 [00:07<00:00, 34.91it/s]\n",
      "Training Epoch 673: 100%|██████████| 258/258 [00:07<00:00, 34.77it/s]\n",
      "Training Epoch 674: 100%|██████████| 258/258 [00:07<00:00, 34.40it/s]\n",
      "Training Epoch 675: 100%|██████████| 258/258 [00:07<00:00, 35.19it/s]\n",
      "Training Epoch 676: 100%|██████████| 258/258 [00:07<00:00, 34.96it/s]\n",
      "Training Epoch 677: 100%|██████████| 258/258 [00:07<00:00, 35.22it/s]\n",
      "Training Epoch 678: 100%|██████████| 258/258 [00:07<00:00, 34.92it/s]\n",
      "Training Epoch 679: 100%|██████████| 258/258 [00:07<00:00, 34.96it/s]\n",
      "Training Epoch 680: 100%|██████████| 258/258 [00:07<00:00, 34.61it/s]\n",
      "Training Epoch 681: 100%|██████████| 258/258 [00:07<00:00, 35.19it/s]\n"
     ]
    },
    {
     "name": "stdout",
     "output_type": "stream",
     "text": [
      "Epoch 680 - Train Loss: 0.3011, Train MSE: 0.3017, Train MAE: 0.4097\n",
      "Epoch 680 - Validation Loss: 2.4358, Validation MSE: 2.4013, Validation MAE: 1.1739\n"
     ]
    },
    {
     "name": "stderr",
     "output_type": "stream",
     "text": [
      "Training Epoch 682: 100%|██████████| 258/258 [00:07<00:00, 35.07it/s]\n",
      "Training Epoch 683: 100%|██████████| 258/258 [00:07<00:00, 34.91it/s]\n",
      "Training Epoch 684: 100%|██████████| 258/258 [00:07<00:00, 35.43it/s]\n",
      "Training Epoch 685: 100%|██████████| 258/258 [00:07<00:00, 34.87it/s]\n",
      "Training Epoch 686: 100%|██████████| 258/258 [00:07<00:00, 34.95it/s]\n",
      "Training Epoch 687: 100%|██████████| 258/258 [00:07<00:00, 34.35it/s]\n",
      "Training Epoch 688: 100%|██████████| 258/258 [00:07<00:00, 35.62it/s]\n",
      "Training Epoch 689: 100%|██████████| 258/258 [00:07<00:00, 34.04it/s]\n",
      "Training Epoch 690: 100%|██████████| 258/258 [00:07<00:00, 35.25it/s]\n",
      "Training Epoch 691: 100%|██████████| 258/258 [00:07<00:00, 35.05it/s]\n"
     ]
    },
    {
     "name": "stdout",
     "output_type": "stream",
     "text": [
      "Epoch 690 - Train Loss: 0.3144, Train MSE: 0.3150, Train MAE: 0.4199\n",
      "Epoch 690 - Validation Loss: 2.4674, Validation MSE: 2.4282, Validation MAE: 1.1779\n"
     ]
    },
    {
     "name": "stderr",
     "output_type": "stream",
     "text": [
      "Training Epoch 692: 100%|██████████| 258/258 [00:07<00:00, 35.18it/s]\n",
      "Training Epoch 693: 100%|██████████| 258/258 [00:07<00:00, 34.88it/s]\n",
      "Training Epoch 694: 100%|██████████| 258/258 [00:07<00:00, 34.88it/s]\n",
      "Training Epoch 695: 100%|██████████| 258/258 [00:07<00:00, 35.03it/s]\n",
      "Training Epoch 696: 100%|██████████| 258/258 [00:07<00:00, 34.61it/s]\n",
      "Training Epoch 697: 100%|██████████| 258/258 [00:07<00:00, 35.06it/s]\n",
      "Training Epoch 698: 100%|██████████| 258/258 [00:07<00:00, 35.28it/s]\n",
      "Training Epoch 699: 100%|██████████| 258/258 [00:07<00:00, 34.45it/s]\n",
      "Training Epoch 700: 100%|██████████| 258/258 [00:07<00:00, 35.10it/s]\n",
      "Training Epoch 701: 100%|██████████| 258/258 [00:07<00:00, 35.13it/s]\n"
     ]
    },
    {
     "name": "stdout",
     "output_type": "stream",
     "text": [
      "Epoch 700 - Train Loss: 0.3108, Train MSE: 0.3109, Train MAE: 0.4150\n",
      "Epoch 700 - Validation Loss: 2.3926, Validation MSE: 2.3525, Validation MAE: 1.1666\n"
     ]
    },
    {
     "name": "stderr",
     "output_type": "stream",
     "text": [
      "Training Epoch 702: 100%|██████████| 258/258 [00:07<00:00, 35.08it/s]\n",
      "Training Epoch 703: 100%|██████████| 258/258 [00:07<00:00, 35.14it/s]\n",
      "Training Epoch 704: 100%|██████████| 258/258 [00:07<00:00, 34.61it/s]\n",
      "Training Epoch 705: 100%|██████████| 258/258 [00:07<00:00, 35.49it/s]\n",
      "Training Epoch 706: 100%|██████████| 258/258 [00:07<00:00, 34.89it/s]\n",
      "Training Epoch 707: 100%|██████████| 258/258 [00:07<00:00, 35.37it/s]\n",
      "Training Epoch 708: 100%|██████████| 258/258 [00:07<00:00, 35.45it/s]\n",
      "Training Epoch 709: 100%|██████████| 258/258 [00:07<00:00, 35.21it/s]\n",
      "Training Epoch 710: 100%|██████████| 258/258 [00:07<00:00, 34.81it/s]\n",
      "Training Epoch 711: 100%|██████████| 258/258 [00:07<00:00, 33.70it/s]\n"
     ]
    },
    {
     "name": "stdout",
     "output_type": "stream",
     "text": [
      "Epoch 710 - Train Loss: 0.3050, Train MSE: 0.3057, Train MAE: 0.4122\n",
      "Epoch 710 - Validation Loss: 2.4674, Validation MSE: 2.4322, Validation MAE: 1.1779\n"
     ]
    },
    {
     "name": "stderr",
     "output_type": "stream",
     "text": [
      "Training Epoch 712: 100%|██████████| 258/258 [00:07<00:00, 35.31it/s]\n",
      "Training Epoch 713: 100%|██████████| 258/258 [00:07<00:00, 34.73it/s]\n",
      "Training Epoch 714: 100%|██████████| 258/258 [00:07<00:00, 35.15it/s]\n",
      "Training Epoch 715: 100%|██████████| 258/258 [00:07<00:00, 34.87it/s]\n",
      "Training Epoch 716: 100%|██████████| 258/258 [00:07<00:00, 34.99it/s]\n",
      "Training Epoch 717: 100%|██████████| 258/258 [00:07<00:00, 34.73it/s]\n",
      "Training Epoch 718: 100%|██████████| 258/258 [00:07<00:00, 34.77it/s]\n",
      "Training Epoch 719: 100%|██████████| 258/258 [00:07<00:00, 34.88it/s]\n",
      "Training Epoch 720: 100%|██████████| 258/258 [00:07<00:00, 34.29it/s]\n",
      "Training Epoch 721: 100%|██████████| 258/258 [00:07<00:00, 34.92it/s]\n"
     ]
    },
    {
     "name": "stdout",
     "output_type": "stream",
     "text": [
      "Epoch 720 - Train Loss: 0.3197, Train MSE: 0.3200, Train MAE: 0.4170\n",
      "Epoch 720 - Validation Loss: 2.4888, Validation MSE: 2.4553, Validation MAE: 1.1833\n"
     ]
    },
    {
     "name": "stderr",
     "output_type": "stream",
     "text": [
      "Training Epoch 722: 100%|██████████| 258/258 [00:07<00:00, 35.35it/s]\n",
      "Training Epoch 723: 100%|██████████| 258/258 [00:07<00:00, 34.76it/s]\n",
      "Training Epoch 724: 100%|██████████| 258/258 [00:07<00:00, 34.89it/s]\n",
      "Training Epoch 725: 100%|██████████| 258/258 [00:07<00:00, 35.05it/s]\n",
      "Training Epoch 726: 100%|██████████| 258/258 [00:07<00:00, 34.46it/s]\n",
      "Training Epoch 727: 100%|██████████| 258/258 [00:07<00:00, 35.08it/s]\n",
      "Training Epoch 728: 100%|██████████| 258/258 [00:07<00:00, 35.06it/s]\n",
      "Training Epoch 729: 100%|██████████| 258/258 [00:07<00:00, 35.20it/s]\n",
      "Training Epoch 730: 100%|██████████| 258/258 [00:07<00:00, 34.77it/s]\n",
      "Training Epoch 731: 100%|██████████| 258/258 [00:07<00:00, 34.79it/s]\n"
     ]
    },
    {
     "name": "stdout",
     "output_type": "stream",
     "text": [
      "Epoch 730 - Train Loss: 0.2994, Train MSE: 0.3001, Train MAE: 0.4085\n",
      "Epoch 730 - Validation Loss: 2.3916, Validation MSE: 2.3544, Validation MAE: 1.1644\n"
     ]
    },
    {
     "name": "stderr",
     "output_type": "stream",
     "text": [
      "Training Epoch 732: 100%|██████████| 258/258 [00:07<00:00, 35.16it/s]\n",
      "Training Epoch 733: 100%|██████████| 258/258 [00:07<00:00, 34.89it/s]\n",
      "Training Epoch 734: 100%|██████████| 258/258 [00:07<00:00, 34.07it/s]\n",
      "Training Epoch 735: 100%|██████████| 258/258 [00:07<00:00, 34.85it/s]\n",
      "Training Epoch 736: 100%|██████████| 258/258 [00:07<00:00, 35.42it/s]\n",
      "Training Epoch 737: 100%|██████████| 258/258 [00:07<00:00, 34.94it/s]\n",
      "Training Epoch 738: 100%|██████████| 258/258 [00:07<00:00, 35.18it/s]\n",
      "Training Epoch 739: 100%|██████████| 258/258 [00:07<00:00, 35.09it/s]\n",
      "Training Epoch 740: 100%|██████████| 258/258 [00:07<00:00, 35.38it/s]\n",
      "Training Epoch 741: 100%|██████████| 258/258 [00:07<00:00, 34.38it/s]\n"
     ]
    },
    {
     "name": "stdout",
     "output_type": "stream",
     "text": [
      "Epoch 740 - Train Loss: 0.2993, Train MSE: 0.2996, Train MAE: 0.4056\n",
      "Epoch 740 - Validation Loss: 2.4281, Validation MSE: 2.3925, Validation MAE: 1.1755\n"
     ]
    },
    {
     "name": "stderr",
     "output_type": "stream",
     "text": [
      "Training Epoch 742: 100%|██████████| 258/258 [00:07<00:00, 34.94it/s]\n",
      "Training Epoch 743: 100%|██████████| 258/258 [00:07<00:00, 34.61it/s]\n",
      "Training Epoch 744: 100%|██████████| 258/258 [00:07<00:00, 34.85it/s]\n",
      "Training Epoch 745: 100%|██████████| 258/258 [00:07<00:00, 35.14it/s]\n",
      "Training Epoch 746: 100%|██████████| 258/258 [00:07<00:00, 35.27it/s]\n",
      "Training Epoch 747: 100%|██████████| 258/258 [00:07<00:00, 34.97it/s]\n",
      "Training Epoch 748: 100%|██████████| 258/258 [00:07<00:00, 34.88it/s]\n",
      "Training Epoch 749: 100%|██████████| 258/258 [00:07<00:00, 34.04it/s]\n",
      "Training Epoch 750: 100%|██████████| 258/258 [00:07<00:00, 35.05it/s]\n",
      "Training Epoch 751: 100%|██████████| 258/258 [00:07<00:00, 35.12it/s]\n"
     ]
    },
    {
     "name": "stdout",
     "output_type": "stream",
     "text": [
      "Epoch 750 - Train Loss: 0.2873, Train MSE: 0.2871, Train MAE: 0.4030\n",
      "Epoch 750 - Validation Loss: 2.4243, Validation MSE: 2.3860, Validation MAE: 1.1725\n"
     ]
    },
    {
     "name": "stderr",
     "output_type": "stream",
     "text": [
      "Training Epoch 752: 100%|██████████| 258/258 [00:07<00:00, 35.11it/s]\n",
      "Training Epoch 753: 100%|██████████| 258/258 [00:07<00:00, 35.38it/s]\n",
      "Training Epoch 754: 100%|██████████| 258/258 [00:07<00:00, 35.47it/s]\n",
      "Training Epoch 755: 100%|██████████| 258/258 [00:07<00:00, 35.42it/s]\n",
      "Training Epoch 756: 100%|██████████| 258/258 [00:07<00:00, 34.74it/s]\n",
      "Training Epoch 757: 100%|██████████| 258/258 [00:07<00:00, 35.26it/s]\n",
      "Training Epoch 758: 100%|██████████| 258/258 [00:07<00:00, 35.08it/s]\n",
      "Training Epoch 759: 100%|██████████| 258/258 [00:07<00:00, 35.14it/s]\n",
      "Training Epoch 760: 100%|██████████| 258/258 [00:07<00:00, 35.72it/s]\n",
      "Training Epoch 761: 100%|██████████| 258/258 [00:07<00:00, 35.55it/s]\n"
     ]
    },
    {
     "name": "stdout",
     "output_type": "stream",
     "text": [
      "Epoch 760 - Train Loss: 0.2852, Train MSE: 0.2849, Train MAE: 0.3958\n",
      "Epoch 760 - Validation Loss: 2.4272, Validation MSE: 2.3885, Validation MAE: 1.1705\n"
     ]
    },
    {
     "name": "stderr",
     "output_type": "stream",
     "text": [
      "Training Epoch 762: 100%|██████████| 258/258 [00:07<00:00, 35.31it/s]\n",
      "Training Epoch 763: 100%|██████████| 258/258 [00:07<00:00, 35.28it/s]\n",
      "Training Epoch 764: 100%|██████████| 258/258 [00:07<00:00, 35.36it/s]\n",
      "Training Epoch 765: 100%|██████████| 258/258 [00:07<00:00, 35.30it/s]\n",
      "Training Epoch 766: 100%|██████████| 258/258 [00:07<00:00, 35.47it/s]\n",
      "Training Epoch 767: 100%|██████████| 258/258 [00:07<00:00, 35.84it/s]\n",
      "Training Epoch 768: 100%|██████████| 258/258 [00:07<00:00, 35.53it/s]\n",
      "Training Epoch 769: 100%|██████████| 258/258 [00:07<00:00, 35.19it/s]\n",
      "Training Epoch 770: 100%|██████████| 258/258 [00:07<00:00, 35.34it/s]\n",
      "Training Epoch 771: 100%|██████████| 258/258 [00:07<00:00, 35.25it/s]\n"
     ]
    },
    {
     "name": "stdout",
     "output_type": "stream",
     "text": [
      "Epoch 770 - Train Loss: 0.2939, Train MSE: 0.2929, Train MAE: 0.4003\n",
      "Epoch 770 - Validation Loss: 2.4387, Validation MSE: 2.3998, Validation MAE: 1.1843\n"
     ]
    },
    {
     "name": "stderr",
     "output_type": "stream",
     "text": [
      "Training Epoch 772: 100%|██████████| 258/258 [00:07<00:00, 35.23it/s]\n",
      "Training Epoch 773: 100%|██████████| 258/258 [00:07<00:00, 34.59it/s]\n",
      "Training Epoch 774: 100%|██████████| 258/258 [00:07<00:00, 35.95it/s]\n",
      "Training Epoch 775: 100%|██████████| 258/258 [00:07<00:00, 35.11it/s]\n",
      "Training Epoch 776: 100%|██████████| 258/258 [00:07<00:00, 35.38it/s]\n",
      "Training Epoch 777: 100%|██████████| 258/258 [00:07<00:00, 35.62it/s]\n",
      "Training Epoch 778: 100%|██████████| 258/258 [00:07<00:00, 35.61it/s]\n",
      "Training Epoch 779: 100%|██████████| 258/258 [00:07<00:00, 34.71it/s]\n",
      "Training Epoch 780: 100%|██████████| 258/258 [00:07<00:00, 35.39it/s]\n",
      "Training Epoch 781: 100%|██████████| 258/258 [00:07<00:00, 35.65it/s]\n"
     ]
    },
    {
     "name": "stdout",
     "output_type": "stream",
     "text": [
      "Epoch 780 - Train Loss: 0.2922, Train MSE: 0.2917, Train MAE: 0.3986\n",
      "Epoch 780 - Validation Loss: 2.4307, Validation MSE: 2.4031, Validation MAE: 1.1663\n"
     ]
    },
    {
     "name": "stderr",
     "output_type": "stream",
     "text": [
      "Training Epoch 782: 100%|██████████| 258/258 [00:07<00:00, 35.57it/s]\n",
      "Training Epoch 783: 100%|██████████| 258/258 [00:07<00:00, 35.54it/s]\n",
      "Training Epoch 784: 100%|██████████| 258/258 [00:07<00:00, 35.13it/s]\n",
      "Training Epoch 785: 100%|██████████| 258/258 [00:07<00:00, 35.64it/s]\n",
      "Training Epoch 786: 100%|██████████| 258/258 [00:07<00:00, 35.28it/s]\n",
      "Training Epoch 787: 100%|██████████| 258/258 [00:07<00:00, 35.42it/s]\n",
      "Training Epoch 788: 100%|██████████| 258/258 [00:07<00:00, 35.84it/s]\n",
      "Training Epoch 789: 100%|██████████| 258/258 [00:07<00:00, 35.50it/s]\n",
      "Training Epoch 790: 100%|██████████| 258/258 [00:07<00:00, 35.29it/s]\n",
      "Training Epoch 791: 100%|██████████| 258/258 [00:07<00:00, 34.81it/s]\n"
     ]
    },
    {
     "name": "stdout",
     "output_type": "stream",
     "text": [
      "Epoch 790 - Train Loss: 0.2890, Train MSE: 0.2892, Train MAE: 0.4006\n",
      "Epoch 790 - Validation Loss: 2.4511, Validation MSE: 2.4158, Validation MAE: 1.1786\n"
     ]
    },
    {
     "name": "stderr",
     "output_type": "stream",
     "text": [
      "Training Epoch 792: 100%|██████████| 258/258 [00:07<00:00, 35.48it/s]\n",
      "Training Epoch 793: 100%|██████████| 258/258 [00:07<00:00, 35.25it/s]\n",
      "Training Epoch 794: 100%|██████████| 258/258 [00:07<00:00, 34.86it/s]\n",
      "Training Epoch 795: 100%|██████████| 258/258 [00:07<00:00, 35.96it/s]\n",
      "Training Epoch 796: 100%|██████████| 258/258 [00:07<00:00, 35.29it/s]\n",
      "Training Epoch 797: 100%|██████████| 258/258 [00:07<00:00, 35.09it/s]\n",
      "Training Epoch 798: 100%|██████████| 258/258 [00:07<00:00, 35.33it/s]\n",
      "Training Epoch 799: 100%|██████████| 258/258 [00:07<00:00, 35.52it/s]\n",
      "Training Epoch 800: 100%|██████████| 258/258 [00:07<00:00, 35.23it/s]\n",
      "Training Epoch 801: 100%|██████████| 258/258 [00:07<00:00, 35.45it/s]\n"
     ]
    },
    {
     "name": "stdout",
     "output_type": "stream",
     "text": [
      "Epoch 800 - Train Loss: 0.2850, Train MSE: 0.2851, Train MAE: 0.3937\n",
      "Epoch 800 - Validation Loss: 2.4197, Validation MSE: 2.3850, Validation MAE: 1.1687\n"
     ]
    },
    {
     "name": "stderr",
     "output_type": "stream",
     "text": [
      "Training Epoch 802: 100%|██████████| 258/258 [00:07<00:00, 35.28it/s]\n",
      "Training Epoch 803: 100%|██████████| 258/258 [00:07<00:00, 35.60it/s]\n",
      "Training Epoch 804: 100%|██████████| 258/258 [00:07<00:00, 34.63it/s]\n",
      "Training Epoch 805: 100%|██████████| 258/258 [00:07<00:00, 35.32it/s]\n",
      "Training Epoch 806: 100%|██████████| 258/258 [00:07<00:00, 35.64it/s]\n",
      "Training Epoch 807: 100%|██████████| 258/258 [00:07<00:00, 35.22it/s]\n",
      "Training Epoch 808: 100%|██████████| 258/258 [00:07<00:00, 35.32it/s]\n",
      "Training Epoch 809: 100%|██████████| 258/258 [00:07<00:00, 35.14it/s]\n",
      "Training Epoch 810: 100%|██████████| 258/258 [00:07<00:00, 35.36it/s]\n",
      "Training Epoch 811: 100%|██████████| 258/258 [00:07<00:00, 35.08it/s]\n"
     ]
    },
    {
     "name": "stdout",
     "output_type": "stream",
     "text": [
      "Epoch 810 - Train Loss: 0.2839, Train MSE: 0.2840, Train MAE: 0.3933\n",
      "Epoch 810 - Validation Loss: 2.3601, Validation MSE: 2.3294, Validation MAE: 1.1519\n"
     ]
    },
    {
     "name": "stderr",
     "output_type": "stream",
     "text": [
      "Training Epoch 812: 100%|██████████| 258/258 [00:07<00:00, 35.52it/s]\n",
      "Training Epoch 813: 100%|██████████| 258/258 [00:07<00:00, 35.66it/s]\n",
      "Training Epoch 814: 100%|██████████| 258/258 [00:07<00:00, 35.61it/s]\n",
      "Training Epoch 815: 100%|██████████| 258/258 [00:07<00:00, 35.33it/s]\n",
      "Training Epoch 816: 100%|██████████| 258/258 [00:07<00:00, 35.20it/s]\n",
      "Training Epoch 817: 100%|██████████| 258/258 [00:07<00:00, 34.62it/s]\n",
      "Training Epoch 818: 100%|██████████| 258/258 [00:07<00:00, 35.19it/s]\n",
      "Training Epoch 819: 100%|██████████| 258/258 [00:07<00:00, 35.16it/s]\n",
      "Training Epoch 820: 100%|██████████| 258/258 [00:07<00:00, 35.71it/s]\n",
      "Training Epoch 821: 100%|██████████| 258/258 [00:07<00:00, 35.52it/s]\n"
     ]
    },
    {
     "name": "stdout",
     "output_type": "stream",
     "text": [
      "Epoch 820 - Train Loss: 0.2992, Train MSE: 0.3000, Train MAE: 0.4073\n",
      "Epoch 820 - Validation Loss: 2.4422, Validation MSE: 2.4040, Validation MAE: 1.1645\n"
     ]
    },
    {
     "name": "stderr",
     "output_type": "stream",
     "text": [
      "Training Epoch 822: 100%|██████████| 258/258 [00:07<00:00, 35.30it/s]\n",
      "Training Epoch 823: 100%|██████████| 258/258 [00:07<00:00, 35.77it/s]\n",
      "Training Epoch 824: 100%|██████████| 258/258 [00:07<00:00, 34.96it/s]\n",
      "Training Epoch 825: 100%|██████████| 258/258 [00:07<00:00, 35.31it/s]\n",
      "Training Epoch 826: 100%|██████████| 258/258 [00:07<00:00, 35.31it/s]\n",
      "Training Epoch 827: 100%|██████████| 258/258 [00:07<00:00, 35.78it/s]\n",
      "Training Epoch 828: 100%|██████████| 258/258 [00:07<00:00, 35.69it/s]\n",
      "Training Epoch 829: 100%|██████████| 258/258 [00:07<00:00, 35.14it/s]\n",
      "Training Epoch 830: 100%|██████████| 258/258 [00:07<00:00, 35.80it/s]\n",
      "Training Epoch 831: 100%|██████████| 258/258 [00:07<00:00, 35.43it/s]\n"
     ]
    },
    {
     "name": "stdout",
     "output_type": "stream",
     "text": [
      "Epoch 830 - Train Loss: 0.2849, Train MSE: 0.2855, Train MAE: 0.3953\n",
      "Epoch 830 - Validation Loss: 2.3776, Validation MSE: 2.3477, Validation MAE: 1.1538\n"
     ]
    },
    {
     "name": "stderr",
     "output_type": "stream",
     "text": [
      "Training Epoch 832: 100%|██████████| 258/258 [00:07<00:00, 34.75it/s]\n",
      "Training Epoch 833: 100%|██████████| 258/258 [00:07<00:00, 35.62it/s]\n",
      "Training Epoch 834: 100%|██████████| 258/258 [00:07<00:00, 35.76it/s]\n",
      "Training Epoch 835: 100%|██████████| 258/258 [00:07<00:00, 35.66it/s]\n",
      "Training Epoch 836: 100%|██████████| 258/258 [00:07<00:00, 35.33it/s]\n",
      "Training Epoch 837: 100%|██████████| 258/258 [00:07<00:00, 35.76it/s]\n",
      "Training Epoch 838: 100%|██████████| 258/258 [00:07<00:00, 35.31it/s]\n",
      "Training Epoch 839: 100%|██████████| 258/258 [00:07<00:00, 34.75it/s]\n",
      "Training Epoch 840: 100%|██████████| 258/258 [00:07<00:00, 35.02it/s]\n",
      "Training Epoch 841: 100%|██████████| 258/258 [00:07<00:00, 35.78it/s]\n"
     ]
    },
    {
     "name": "stdout",
     "output_type": "stream",
     "text": [
      "Epoch 840 - Train Loss: 0.2957, Train MSE: 0.2956, Train MAE: 0.3997\n",
      "Epoch 840 - Validation Loss: 2.4029, Validation MSE: 2.3671, Validation MAE: 1.1631\n"
     ]
    },
    {
     "name": "stderr",
     "output_type": "stream",
     "text": [
      "Training Epoch 842: 100%|██████████| 258/258 [00:07<00:00, 35.42it/s]\n",
      "Training Epoch 843: 100%|██████████| 258/258 [00:07<00:00, 35.55it/s]\n",
      "Training Epoch 844: 100%|██████████| 258/258 [00:07<00:00, 35.61it/s]\n",
      "Training Epoch 845: 100%|██████████| 258/258 [00:07<00:00, 35.46it/s]\n",
      "Training Epoch 846: 100%|██████████| 258/258 [00:07<00:00, 35.30it/s]\n",
      "Training Epoch 847: 100%|██████████| 258/258 [00:07<00:00, 34.74it/s]\n",
      "Training Epoch 848: 100%|██████████| 258/258 [00:07<00:00, 35.99it/s]\n",
      "Training Epoch 849: 100%|██████████| 258/258 [00:07<00:00, 34.93it/s]\n",
      "Training Epoch 850: 100%|██████████| 258/258 [00:07<00:00, 35.54it/s]\n",
      "Training Epoch 851: 100%|██████████| 258/258 [00:07<00:00, 35.72it/s]\n"
     ]
    },
    {
     "name": "stdout",
     "output_type": "stream",
     "text": [
      "Epoch 850 - Train Loss: 0.2657, Train MSE: 0.2660, Train MAE: 0.3819\n",
      "Epoch 850 - Validation Loss: 2.4145, Validation MSE: 2.3848, Validation MAE: 1.1668\n"
     ]
    },
    {
     "name": "stderr",
     "output_type": "stream",
     "text": [
      "Training Epoch 852: 100%|██████████| 258/258 [00:07<00:00, 35.45it/s]\n",
      "Training Epoch 853: 100%|██████████| 258/258 [00:07<00:00, 35.22it/s]\n",
      "Training Epoch 854: 100%|██████████| 258/258 [00:07<00:00, 35.35it/s]\n",
      "Training Epoch 855: 100%|██████████| 258/258 [00:07<00:00, 35.19it/s]\n",
      "Training Epoch 856: 100%|██████████| 258/258 [00:07<00:00, 35.52it/s]\n",
      "Training Epoch 857: 100%|██████████| 258/258 [00:07<00:00, 34.76it/s]\n",
      "Training Epoch 858: 100%|██████████| 258/258 [00:07<00:00, 35.68it/s]\n",
      "Training Epoch 859: 100%|██████████| 258/258 [00:07<00:00, 35.33it/s]\n",
      "Training Epoch 860: 100%|██████████| 258/258 [00:07<00:00, 35.31it/s]\n",
      "Training Epoch 861: 100%|██████████| 258/258 [00:07<00:00, 35.35it/s]\n"
     ]
    },
    {
     "name": "stdout",
     "output_type": "stream",
     "text": [
      "Epoch 860 - Train Loss: 0.2816, Train MSE: 0.2812, Train MAE: 0.3946\n",
      "Epoch 860 - Validation Loss: 2.3489, Validation MSE: 2.3192, Validation MAE: 1.1600\n"
     ]
    },
    {
     "name": "stderr",
     "output_type": "stream",
     "text": [
      "Training Epoch 862: 100%|██████████| 258/258 [00:07<00:00, 35.22it/s]\n",
      "Training Epoch 863: 100%|██████████| 258/258 [00:07<00:00, 35.40it/s]\n",
      "Training Epoch 864: 100%|██████████| 258/258 [00:07<00:00, 35.14it/s]\n",
      "Training Epoch 865: 100%|██████████| 258/258 [00:07<00:00, 35.31it/s]\n",
      "Training Epoch 866: 100%|██████████| 258/258 [00:07<00:00, 35.77it/s]\n",
      "Training Epoch 867: 100%|██████████| 258/258 [00:07<00:00, 35.46it/s]\n",
      "Training Epoch 868: 100%|██████████| 258/258 [00:07<00:00, 35.17it/s]\n",
      "Training Epoch 869: 100%|██████████| 258/258 [00:07<00:00, 35.97it/s]\n",
      "Training Epoch 870: 100%|██████████| 258/258 [00:07<00:00, 34.77it/s]\n",
      "Training Epoch 871: 100%|██████████| 258/258 [00:07<00:00, 35.46it/s]\n"
     ]
    },
    {
     "name": "stdout",
     "output_type": "stream",
     "text": [
      "Epoch 870 - Train Loss: 0.2822, Train MSE: 0.2825, Train MAE: 0.3918\n",
      "Epoch 870 - Validation Loss: 2.3871, Validation MSE: 2.3560, Validation MAE: 1.1607\n"
     ]
    },
    {
     "name": "stderr",
     "output_type": "stream",
     "text": [
      "Training Epoch 872: 100%|██████████| 258/258 [00:07<00:00, 35.81it/s]\n",
      "Training Epoch 873: 100%|██████████| 258/258 [00:07<00:00, 35.36it/s]\n",
      "Training Epoch 874: 100%|██████████| 258/258 [00:07<00:00, 35.43it/s]\n",
      "Training Epoch 875: 100%|██████████| 258/258 [00:07<00:00, 35.60it/s]\n",
      "Training Epoch 876: 100%|██████████| 258/258 [00:07<00:00, 35.63it/s]\n",
      "Training Epoch 877: 100%|██████████| 258/258 [00:07<00:00, 35.46it/s]\n",
      "Training Epoch 878: 100%|██████████| 258/258 [00:07<00:00, 34.72it/s]\n",
      "Training Epoch 879: 100%|██████████| 258/258 [00:07<00:00, 35.87it/s]\n",
      "Training Epoch 880: 100%|██████████| 258/258 [00:07<00:00, 35.50it/s]\n",
      "Training Epoch 881: 100%|██████████| 258/258 [00:07<00:00, 35.35it/s]\n"
     ]
    },
    {
     "name": "stdout",
     "output_type": "stream",
     "text": [
      "Epoch 880 - Train Loss: 0.2682, Train MSE: 0.2689, Train MAE: 0.3835\n",
      "Epoch 880 - Validation Loss: 2.3884, Validation MSE: 2.3537, Validation MAE: 1.1618\n"
     ]
    },
    {
     "name": "stderr",
     "output_type": "stream",
     "text": [
      "Training Epoch 882: 100%|██████████| 258/258 [00:07<00:00, 35.49it/s]\n",
      "Training Epoch 883: 100%|██████████| 258/258 [00:07<00:00, 35.62it/s]\n",
      "Training Epoch 884: 100%|██████████| 258/258 [00:07<00:00, 35.54it/s]\n",
      "Training Epoch 885: 100%|██████████| 258/258 [00:07<00:00, 34.85it/s]\n",
      "Training Epoch 886: 100%|██████████| 258/258 [00:07<00:00, 35.54it/s]\n",
      "Training Epoch 887: 100%|██████████| 258/258 [00:07<00:00, 35.32it/s]\n",
      "Training Epoch 888: 100%|██████████| 258/258 [00:07<00:00, 35.30it/s]\n",
      "Training Epoch 889: 100%|██████████| 258/258 [00:07<00:00, 34.82it/s]\n",
      "Training Epoch 890: 100%|██████████| 258/258 [00:07<00:00, 35.69it/s]\n",
      "Training Epoch 891: 100%|██████████| 258/258 [00:07<00:00, 35.30it/s]\n"
     ]
    },
    {
     "name": "stdout",
     "output_type": "stream",
     "text": [
      "Epoch 890 - Train Loss: 0.2761, Train MSE: 0.2768, Train MAE: 0.3884\n",
      "Epoch 890 - Validation Loss: 2.4213, Validation MSE: 2.3892, Validation MAE: 1.1639\n"
     ]
    },
    {
     "name": "stderr",
     "output_type": "stream",
     "text": [
      "Training Epoch 892: 100%|██████████| 258/258 [00:07<00:00, 34.77it/s]\n",
      "Training Epoch 893: 100%|██████████| 258/258 [00:07<00:00, 35.76it/s]\n",
      "Training Epoch 894: 100%|██████████| 258/258 [00:07<00:00, 35.27it/s]\n",
      "Training Epoch 895: 100%|██████████| 258/258 [00:07<00:00, 35.34it/s]\n",
      "Training Epoch 896: 100%|██████████| 258/258 [00:07<00:00, 35.02it/s]\n",
      "Training Epoch 897: 100%|██████████| 258/258 [00:07<00:00, 35.73it/s]\n",
      "Training Epoch 898: 100%|██████████| 258/258 [00:07<00:00, 35.41it/s]\n",
      "Training Epoch 899: 100%|██████████| 258/258 [00:07<00:00, 35.31it/s]\n",
      "Training Epoch 900: 100%|██████████| 258/258 [00:07<00:00, 35.13it/s]\n",
      "Training Epoch 901: 100%|██████████| 258/258 [00:07<00:00, 34.25it/s]\n"
     ]
    },
    {
     "name": "stdout",
     "output_type": "stream",
     "text": [
      "Epoch 900 - Train Loss: 0.2662, Train MSE: 0.2669, Train MAE: 0.3836\n",
      "Epoch 900 - Validation Loss: 2.3300, Validation MSE: 2.2933, Validation MAE: 1.1443\n"
     ]
    },
    {
     "name": "stderr",
     "output_type": "stream",
     "text": [
      "Training Epoch 902: 100%|██████████| 258/258 [00:07<00:00, 35.14it/s]\n",
      "Training Epoch 903: 100%|██████████| 258/258 [00:07<00:00, 35.57it/s]\n",
      "Training Epoch 904: 100%|██████████| 258/258 [00:07<00:00, 35.63it/s]\n",
      "Training Epoch 905: 100%|██████████| 258/258 [00:07<00:00, 35.37it/s]\n",
      "Training Epoch 906: 100%|██████████| 258/258 [00:07<00:00, 35.20it/s]\n",
      "Training Epoch 907: 100%|██████████| 258/258 [00:07<00:00, 35.80it/s]\n",
      "Training Epoch 908: 100%|██████████| 258/258 [00:07<00:00, 35.61it/s]\n",
      "Training Epoch 909: 100%|██████████| 258/258 [00:07<00:00, 34.81it/s]\n",
      "Training Epoch 910: 100%|██████████| 258/258 [00:07<00:00, 35.05it/s]\n",
      "Training Epoch 911: 100%|██████████| 258/258 [00:07<00:00, 35.87it/s]\n"
     ]
    },
    {
     "name": "stdout",
     "output_type": "stream",
     "text": [
      "Epoch 910 - Train Loss: 0.2679, Train MSE: 0.2685, Train MAE: 0.3798\n",
      "Epoch 910 - Validation Loss: 2.4270, Validation MSE: 2.3960, Validation MAE: 1.1725\n"
     ]
    },
    {
     "name": "stderr",
     "output_type": "stream",
     "text": [
      "Training Epoch 912: 100%|██████████| 258/258 [00:07<00:00, 35.46it/s]\n",
      "Training Epoch 913: 100%|██████████| 258/258 [00:07<00:00, 35.45it/s]\n",
      "Training Epoch 914: 100%|██████████| 258/258 [00:07<00:00, 35.61it/s]\n",
      "Training Epoch 915: 100%|██████████| 258/258 [00:07<00:00, 34.86it/s]\n",
      "Training Epoch 916: 100%|██████████| 258/258 [00:07<00:00, 35.30it/s]\n",
      "Training Epoch 917: 100%|██████████| 258/258 [00:07<00:00, 35.42it/s]\n",
      "Training Epoch 918: 100%|██████████| 258/258 [00:07<00:00, 35.96it/s]\n",
      "Training Epoch 919: 100%|██████████| 258/258 [00:07<00:00, 35.52it/s]\n",
      "Training Epoch 920: 100%|██████████| 258/258 [00:07<00:00, 35.22it/s]\n",
      "Training Epoch 921: 100%|██████████| 258/258 [00:07<00:00, 35.07it/s]\n"
     ]
    },
    {
     "name": "stdout",
     "output_type": "stream",
     "text": [
      "Epoch 920 - Train Loss: 0.2687, Train MSE: 0.2683, Train MAE: 0.3860\n",
      "Epoch 920 - Validation Loss: 2.3986, Validation MSE: 2.3746, Validation MAE: 1.1693\n"
     ]
    },
    {
     "name": "stderr",
     "output_type": "stream",
     "text": [
      "Training Epoch 922: 100%|██████████| 258/258 [00:07<00:00, 35.55it/s]\n",
      "Training Epoch 923: 100%|██████████| 258/258 [00:07<00:00, 34.58it/s]\n",
      "Training Epoch 924: 100%|██████████| 258/258 [00:07<00:00, 35.51it/s]\n",
      "Training Epoch 925: 100%|██████████| 258/258 [00:07<00:00, 35.47it/s]\n",
      "Training Epoch 926: 100%|██████████| 258/258 [00:07<00:00, 35.47it/s]\n",
      "Training Epoch 927: 100%|██████████| 258/258 [00:07<00:00, 35.06it/s]\n",
      "Training Epoch 928: 100%|██████████| 258/258 [00:07<00:00, 35.30it/s]\n",
      "Training Epoch 929: 100%|██████████| 258/258 [00:07<00:00, 35.46it/s]\n",
      "Training Epoch 930: 100%|██████████| 258/258 [00:07<00:00, 34.46it/s]\n",
      "Training Epoch 931: 100%|██████████| 258/258 [00:07<00:00, 35.32it/s]\n"
     ]
    },
    {
     "name": "stdout",
     "output_type": "stream",
     "text": [
      "Epoch 930 - Train Loss: 0.2577, Train MSE: 0.2580, Train MAE: 0.3771\n",
      "Epoch 930 - Validation Loss: 2.3327, Validation MSE: 2.3043, Validation MAE: 1.1553\n"
     ]
    },
    {
     "name": "stderr",
     "output_type": "stream",
     "text": [
      "Training Epoch 932: 100%|██████████| 258/258 [00:07<00:00, 35.61it/s]\n",
      "Training Epoch 933: 100%|██████████| 258/258 [00:07<00:00, 35.82it/s]\n",
      "Training Epoch 934: 100%|██████████| 258/258 [00:07<00:00, 35.25it/s]\n",
      "Training Epoch 935: 100%|██████████| 258/258 [00:07<00:00, 35.44it/s]\n",
      "Training Epoch 936: 100%|██████████| 258/258 [00:07<00:00, 35.55it/s]\n",
      "Training Epoch 937: 100%|██████████| 258/258 [00:07<00:00, 35.36it/s]\n",
      "Training Epoch 938: 100%|██████████| 258/258 [00:07<00:00, 34.84it/s]\n",
      "Training Epoch 939: 100%|██████████| 258/258 [00:07<00:00, 35.86it/s]\n",
      "Training Epoch 940: 100%|██████████| 258/258 [00:07<00:00, 34.61it/s]\n",
      "Training Epoch 941: 100%|██████████| 258/258 [00:07<00:00, 35.35it/s]\n"
     ]
    },
    {
     "name": "stdout",
     "output_type": "stream",
     "text": [
      "Epoch 940 - Train Loss: 0.2712, Train MSE: 0.2713, Train MAE: 0.3836\n",
      "Epoch 940 - Validation Loss: 2.4013, Validation MSE: 2.3715, Validation MAE: 1.1767\n"
     ]
    },
    {
     "name": "stderr",
     "output_type": "stream",
     "text": [
      "Training Epoch 942: 100%|██████████| 258/258 [00:07<00:00, 35.54it/s]\n",
      "Training Epoch 943: 100%|██████████| 258/258 [00:07<00:00, 35.67it/s]\n",
      "Training Epoch 944: 100%|██████████| 258/258 [00:07<00:00, 35.24it/s]\n",
      "Training Epoch 945: 100%|██████████| 258/258 [00:07<00:00, 34.70it/s]\n",
      "Training Epoch 946: 100%|██████████| 258/258 [00:07<00:00, 35.37it/s]\n",
      "Training Epoch 947: 100%|██████████| 258/258 [00:07<00:00, 35.50it/s]\n",
      "Training Epoch 948: 100%|██████████| 258/258 [00:07<00:00, 35.29it/s]\n",
      "Training Epoch 949: 100%|██████████| 258/258 [00:07<00:00, 35.58it/s]\n",
      "Training Epoch 950: 100%|██████████| 258/258 [00:07<00:00, 35.37it/s]\n",
      "Training Epoch 951: 100%|██████████| 258/258 [00:07<00:00, 35.29it/s]\n"
     ]
    },
    {
     "name": "stdout",
     "output_type": "stream",
     "text": [
      "Epoch 950 - Train Loss: 0.2599, Train MSE: 0.2597, Train MAE: 0.3783\n",
      "Epoch 950 - Validation Loss: 2.3930, Validation MSE: 2.3604, Validation MAE: 1.1672\n"
     ]
    },
    {
     "name": "stderr",
     "output_type": "stream",
     "text": [
      "Training Epoch 952: 100%|██████████| 258/258 [00:07<00:00, 35.45it/s]\n",
      "Training Epoch 953: 100%|██████████| 258/258 [00:07<00:00, 34.61it/s]\n",
      "Training Epoch 954: 100%|██████████| 258/258 [00:07<00:00, 35.54it/s]\n",
      "Training Epoch 955: 100%|██████████| 258/258 [00:07<00:00, 35.21it/s]\n",
      "Training Epoch 956: 100%|██████████| 258/258 [00:07<00:00, 35.51it/s]\n",
      "Training Epoch 957: 100%|██████████| 258/258 [00:07<00:00, 35.57it/s]\n",
      "Training Epoch 958: 100%|██████████| 258/258 [00:07<00:00, 35.32it/s]\n",
      "Training Epoch 959: 100%|██████████| 258/258 [00:07<00:00, 35.50it/s]\n",
      "Training Epoch 960: 100%|██████████| 258/258 [00:07<00:00, 35.28it/s]\n",
      "Training Epoch 961: 100%|██████████| 258/258 [00:07<00:00, 35.77it/s]\n"
     ]
    },
    {
     "name": "stdout",
     "output_type": "stream",
     "text": [
      "Epoch 960 - Train Loss: 0.2692, Train MSE: 0.2694, Train MAE: 0.3829\n",
      "Epoch 960 - Validation Loss: 2.3827, Validation MSE: 2.3545, Validation MAE: 1.1567\n"
     ]
    },
    {
     "name": "stderr",
     "output_type": "stream",
     "text": [
      "Training Epoch 962: 100%|██████████| 258/258 [00:07<00:00, 34.83it/s]\n",
      "Training Epoch 963: 100%|██████████| 258/258 [00:07<00:00, 35.22it/s]\n",
      "Training Epoch 964: 100%|██████████| 258/258 [00:07<00:00, 35.66it/s]\n",
      "Training Epoch 965: 100%|██████████| 258/258 [00:07<00:00, 35.47it/s]\n",
      "Training Epoch 966: 100%|██████████| 258/258 [00:07<00:00, 35.46it/s]\n",
      "Training Epoch 967: 100%|██████████| 258/258 [00:07<00:00, 35.47it/s]\n",
      "Training Epoch 968: 100%|██████████| 258/258 [00:07<00:00, 34.97it/s]\n",
      "Training Epoch 969: 100%|██████████| 258/258 [00:07<00:00, 34.67it/s]\n",
      "Training Epoch 970: 100%|██████████| 258/258 [00:07<00:00, 34.88it/s]\n",
      "Training Epoch 971: 100%|██████████| 258/258 [00:07<00:00, 35.76it/s]\n"
     ]
    },
    {
     "name": "stdout",
     "output_type": "stream",
     "text": [
      "Epoch 970 - Train Loss: 0.2568, Train MSE: 0.2569, Train MAE: 0.3776\n",
      "Epoch 970 - Validation Loss: 2.4006, Validation MSE: 2.3751, Validation MAE: 1.1599\n"
     ]
    },
    {
     "name": "stderr",
     "output_type": "stream",
     "text": [
      "Training Epoch 972: 100%|██████████| 258/258 [00:07<00:00, 35.15it/s]\n",
      "Training Epoch 973: 100%|██████████| 258/258 [00:07<00:00, 35.35it/s]\n",
      "Training Epoch 974: 100%|██████████| 258/258 [00:07<00:00, 35.63it/s]\n",
      "Training Epoch 975: 100%|██████████| 258/258 [00:07<00:00, 35.61it/s]\n",
      "Training Epoch 976: 100%|██████████| 258/258 [00:07<00:00, 35.08it/s]\n",
      "Training Epoch 977: 100%|██████████| 258/258 [00:07<00:00, 35.35it/s]\n",
      "Training Epoch 978: 100%|██████████| 258/258 [00:07<00:00, 35.43it/s]\n",
      "Training Epoch 979: 100%|██████████| 258/258 [00:07<00:00, 35.24it/s]\n",
      "Training Epoch 980: 100%|██████████| 258/258 [00:07<00:00, 35.39it/s]\n",
      "Training Epoch 981: 100%|██████████| 258/258 [00:07<00:00, 35.85it/s]\n"
     ]
    },
    {
     "name": "stdout",
     "output_type": "stream",
     "text": [
      "Epoch 980 - Train Loss: 0.2599, Train MSE: 0.2596, Train MAE: 0.3735\n",
      "Epoch 980 - Validation Loss: 2.3861, Validation MSE: 2.3565, Validation MAE: 1.1656\n"
     ]
    },
    {
     "name": "stderr",
     "output_type": "stream",
     "text": [
      "Training Epoch 982: 100%|██████████| 258/258 [00:07<00:00, 35.06it/s]\n",
      "Training Epoch 983: 100%|██████████| 258/258 [00:07<00:00, 34.98it/s]\n",
      "Training Epoch 984: 100%|██████████| 258/258 [00:07<00:00, 35.56it/s]\n",
      "Training Epoch 985: 100%|██████████| 258/258 [00:07<00:00, 35.37it/s]\n",
      "Training Epoch 986: 100%|██████████| 258/258 [00:07<00:00, 35.43it/s]\n",
      "Training Epoch 987: 100%|██████████| 258/258 [00:07<00:00, 35.14it/s]\n",
      "Training Epoch 988: 100%|██████████| 258/258 [00:07<00:00, 35.83it/s]\n",
      "Training Epoch 989: 100%|██████████| 258/258 [00:07<00:00, 35.17it/s]\n",
      "Training Epoch 990: 100%|██████████| 258/258 [00:07<00:00, 35.50it/s]\n",
      "Training Epoch 991: 100%|██████████| 258/258 [00:07<00:00, 35.33it/s]\n"
     ]
    },
    {
     "name": "stdout",
     "output_type": "stream",
     "text": [
      "Epoch 990 - Train Loss: 0.2632, Train MSE: 0.2611, Train MAE: 0.3762\n",
      "Epoch 990 - Validation Loss: 2.3853, Validation MSE: 2.3634, Validation MAE: 1.1608\n"
     ]
    },
    {
     "name": "stderr",
     "output_type": "stream",
     "text": [
      "Training Epoch 992: 100%|██████████| 258/258 [00:07<00:00, 35.51it/s]\n",
      "Training Epoch 993: 100%|██████████| 258/258 [00:07<00:00, 35.16it/s]\n",
      "Training Epoch 994: 100%|██████████| 258/258 [00:07<00:00, 34.86it/s]\n",
      "Training Epoch 995: 100%|██████████| 258/258 [00:07<00:00, 35.95it/s]\n",
      "Training Epoch 996: 100%|██████████| 258/258 [00:07<00:00, 35.40it/s]\n",
      "Training Epoch 997: 100%|██████████| 258/258 [00:07<00:00, 35.43it/s]\n",
      "Training Epoch 998: 100%|██████████| 258/258 [00:07<00:00, 34.77it/s]\n",
      "Training Epoch 999: 100%|██████████| 258/258 [00:07<00:00, 35.40it/s]\n",
      "Training Epoch 1000: 100%|██████████| 258/258 [00:07<00:00, 35.15it/s]\n",
      "Training Epoch 1001: 100%|██████████| 258/258 [00:07<00:00, 34.56it/s]\n"
     ]
    },
    {
     "name": "stdout",
     "output_type": "stream",
     "text": [
      "Epoch 1000 - Train Loss: 0.2616, Train MSE: 0.2621, Train MAE: 0.3785\n",
      "Epoch 1000 - Validation Loss: 2.4067, Validation MSE: 2.3720, Validation MAE: 1.1699\n"
     ]
    },
    {
     "name": "stderr",
     "output_type": "stream",
     "text": [
      "Training Epoch 1002: 100%|██████████| 258/258 [00:07<00:00, 35.73it/s]\n",
      "Training Epoch 1003: 100%|██████████| 258/258 [00:07<00:00, 35.51it/s]\n",
      "Training Epoch 1004: 100%|██████████| 258/258 [00:07<00:00, 35.49it/s]\n",
      "Training Epoch 1005: 100%|██████████| 258/258 [00:07<00:00, 35.69it/s]\n",
      "Training Epoch 1006: 100%|██████████| 258/258 [00:07<00:00, 34.98it/s]\n",
      "Training Epoch 1007: 100%|██████████| 258/258 [00:07<00:00, 35.28it/s]\n",
      "Training Epoch 1008: 100%|██████████| 258/258 [00:07<00:00, 35.16it/s]\n",
      "Training Epoch 1009: 100%|██████████| 258/258 [00:07<00:00, 35.84it/s]\n",
      "Training Epoch 1010: 100%|██████████| 258/258 [00:07<00:00, 35.31it/s]\n",
      "Training Epoch 1011: 100%|██████████| 258/258 [00:07<00:00, 35.43it/s]\n"
     ]
    },
    {
     "name": "stdout",
     "output_type": "stream",
     "text": [
      "Epoch 1010 - Train Loss: 0.2602, Train MSE: 0.2602, Train MAE: 0.3787\n",
      "Epoch 1010 - Validation Loss: 2.4380, Validation MSE: 2.4127, Validation MAE: 1.1745\n"
     ]
    },
    {
     "name": "stderr",
     "output_type": "stream",
     "text": [
      "Training Epoch 1012: 100%|██████████| 258/258 [00:07<00:00, 35.78it/s]\n",
      "Training Epoch 1013: 100%|██████████| 258/258 [00:07<00:00, 34.43it/s]\n",
      "Training Epoch 1014: 100%|██████████| 258/258 [00:07<00:00, 35.26it/s]\n",
      "Training Epoch 1015: 100%|██████████| 258/258 [00:07<00:00, 35.31it/s]\n",
      "Training Epoch 1016: 100%|██████████| 258/258 [00:07<00:00, 35.96it/s]\n",
      "Training Epoch 1017: 100%|██████████| 258/258 [00:07<00:00, 35.49it/s]\n",
      "Training Epoch 1018: 100%|██████████| 258/258 [00:07<00:00, 35.22it/s]\n",
      "Training Epoch 1019: 100%|██████████| 258/258 [00:07<00:00, 35.93it/s]\n",
      "Training Epoch 1020: 100%|██████████| 258/258 [00:07<00:00, 35.40it/s]\n",
      "Training Epoch 1021: 100%|██████████| 258/258 [00:07<00:00, 34.47it/s]\n"
     ]
    },
    {
     "name": "stdout",
     "output_type": "stream",
     "text": [
      "Epoch 1020 - Train Loss: 0.2607, Train MSE: 0.2607, Train MAE: 0.3733\n",
      "Epoch 1020 - Validation Loss: 2.3118, Validation MSE: 2.2804, Validation MAE: 1.1412\n"
     ]
    },
    {
     "name": "stderr",
     "output_type": "stream",
     "text": [
      "Training Epoch 1022: 100%|██████████| 258/258 [00:07<00:00, 35.40it/s]\n",
      "Training Epoch 1023: 100%|██████████| 258/258 [00:07<00:00, 35.72it/s]\n",
      "Training Epoch 1024: 100%|██████████| 258/258 [00:07<00:00, 35.68it/s]\n",
      "Training Epoch 1025: 100%|██████████| 258/258 [00:07<00:00, 34.52it/s]\n",
      "Training Epoch 1026: 100%|██████████| 258/258 [00:07<00:00, 35.85it/s]\n",
      "Training Epoch 1027: 100%|██████████| 258/258 [00:07<00:00, 35.31it/s]\n",
      "Training Epoch 1028: 100%|██████████| 258/258 [00:07<00:00, 34.69it/s]\n",
      "Training Epoch 1029: 100%|██████████| 258/258 [00:07<00:00, 35.39it/s]\n",
      "Training Epoch 1030: 100%|██████████| 258/258 [00:07<00:00, 35.78it/s]\n",
      "Training Epoch 1031: 100%|██████████| 258/258 [00:07<00:00, 35.43it/s]\n"
     ]
    },
    {
     "name": "stdout",
     "output_type": "stream",
     "text": [
      "Epoch 1030 - Train Loss: 0.2552, Train MSE: 0.2551, Train MAE: 0.3743\n",
      "Epoch 1030 - Validation Loss: 2.3556, Validation MSE: 2.3266, Validation MAE: 1.1565\n"
     ]
    },
    {
     "name": "stderr",
     "output_type": "stream",
     "text": [
      "Training Epoch 1032: 100%|██████████| 258/258 [00:07<00:00, 35.20it/s]\n",
      "Training Epoch 1033: 100%|██████████| 258/258 [00:07<00:00, 35.66it/s]\n",
      "Training Epoch 1034: 100%|██████████| 258/258 [00:07<00:00, 34.52it/s]\n",
      "Training Epoch 1035: 100%|██████████| 258/258 [00:07<00:00, 35.13it/s]\n",
      "Training Epoch 1036: 100%|██████████| 258/258 [00:07<00:00, 34.81it/s]\n",
      "Training Epoch 1037: 100%|██████████| 258/258 [00:07<00:00, 35.45it/s]\n",
      "Training Epoch 1038: 100%|██████████| 258/258 [00:07<00:00, 35.18it/s]\n",
      "Training Epoch 1039: 100%|██████████| 258/258 [00:07<00:00, 35.42it/s]\n",
      "Training Epoch 1040: 100%|██████████| 258/258 [00:07<00:00, 35.51it/s]\n",
      "Training Epoch 1041: 100%|██████████| 258/258 [00:07<00:00, 35.61it/s]\n"
     ]
    },
    {
     "name": "stdout",
     "output_type": "stream",
     "text": [
      "Epoch 1040 - Train Loss: 0.2620, Train MSE: 0.2608, Train MAE: 0.3751\n",
      "Epoch 1040 - Validation Loss: 2.3596, Validation MSE: 2.3341, Validation MAE: 1.1586\n"
     ]
    },
    {
     "name": "stderr",
     "output_type": "stream",
     "text": [
      "Training Epoch 1042: 100%|██████████| 258/258 [00:07<00:00, 35.31it/s]\n",
      "Training Epoch 1043: 100%|██████████| 258/258 [00:07<00:00, 35.52it/s]\n",
      "Training Epoch 1044: 100%|██████████| 258/258 [00:07<00:00, 35.57it/s]\n",
      "Training Epoch 1045: 100%|██████████| 258/258 [00:07<00:00, 34.76it/s]\n",
      "Training Epoch 1046: 100%|██████████| 258/258 [00:07<00:00, 35.68it/s]\n",
      "Training Epoch 1047: 100%|██████████| 258/258 [00:07<00:00, 35.80it/s]\n",
      "Training Epoch 1048: 100%|██████████| 258/258 [00:07<00:00, 35.36it/s]\n",
      "Training Epoch 1049: 100%|██████████| 258/258 [00:07<00:00, 35.31it/s]\n",
      "Training Epoch 1050: 100%|██████████| 258/258 [00:07<00:00, 35.74it/s]\n",
      "Training Epoch 1051: 100%|██████████| 258/258 [00:07<00:00, 34.97it/s]\n"
     ]
    },
    {
     "name": "stdout",
     "output_type": "stream",
     "text": [
      "Epoch 1050 - Train Loss: 0.2645, Train MSE: 0.2647, Train MAE: 0.3767\n",
      "Epoch 1050 - Validation Loss: 2.3819, Validation MSE: 2.3544, Validation MAE: 1.1612\n"
     ]
    },
    {
     "name": "stderr",
     "output_type": "stream",
     "text": [
      "Training Epoch 1052: 100%|██████████| 258/258 [00:07<00:00, 35.24it/s]\n",
      "Training Epoch 1053: 100%|██████████| 258/258 [00:07<00:00, 35.22it/s]\n",
      "Training Epoch 1054: 100%|██████████| 258/258 [00:07<00:00, 35.84it/s]\n",
      "Training Epoch 1055: 100%|██████████| 258/258 [00:07<00:00, 35.22it/s]\n",
      "Training Epoch 1056: 100%|██████████| 258/258 [00:07<00:00, 35.45it/s]\n",
      "Training Epoch 1057: 100%|██████████| 258/258 [00:07<00:00, 35.76it/s]\n",
      "Training Epoch 1058: 100%|██████████| 258/258 [00:07<00:00, 35.26it/s]\n",
      "Training Epoch 1059: 100%|██████████| 258/258 [00:07<00:00, 34.49it/s]\n",
      "Training Epoch 1060: 100%|██████████| 258/258 [00:07<00:00, 35.50it/s]\n",
      "Training Epoch 1061: 100%|██████████| 258/258 [00:07<00:00, 35.58it/s]\n"
     ]
    },
    {
     "name": "stdout",
     "output_type": "stream",
     "text": [
      "Epoch 1060 - Train Loss: 0.2556, Train MSE: 0.2557, Train MAE: 0.3759\n",
      "Epoch 1060 - Validation Loss: 2.3703, Validation MSE: 2.3380, Validation MAE: 1.1496\n"
     ]
    },
    {
     "name": "stderr",
     "output_type": "stream",
     "text": [
      "Training Epoch 1062: 100%|██████████| 258/258 [00:07<00:00, 35.45it/s]\n",
      "Training Epoch 1063: 100%|██████████| 258/258 [00:07<00:00, 35.46it/s]\n",
      "Training Epoch 1064: 100%|██████████| 258/258 [00:07<00:00, 35.81it/s]\n",
      "Training Epoch 1065: 100%|██████████| 258/258 [00:07<00:00, 35.45it/s]\n",
      "Training Epoch 1066: 100%|██████████| 258/258 [00:07<00:00, 34.37it/s]\n",
      "Training Epoch 1067: 100%|██████████| 258/258 [00:07<00:00, 35.32it/s]\n",
      "Training Epoch 1068: 100%|██████████| 258/258 [00:07<00:00, 35.94it/s]\n",
      "Training Epoch 1069: 100%|██████████| 258/258 [00:07<00:00, 35.18it/s]\n",
      "Training Epoch 1070: 100%|██████████| 258/258 [00:07<00:00, 35.61it/s]\n",
      "Training Epoch 1071: 100%|██████████| 258/258 [00:07<00:00, 35.41it/s]\n"
     ]
    },
    {
     "name": "stdout",
     "output_type": "stream",
     "text": [
      "Epoch 1070 - Train Loss: 0.2538, Train MSE: 0.2532, Train MAE: 0.3707\n",
      "Epoch 1070 - Validation Loss: 2.3567, Validation MSE: 2.3276, Validation MAE: 1.1548\n"
     ]
    },
    {
     "name": "stderr",
     "output_type": "stream",
     "text": [
      "Training Epoch 1072: 100%|██████████| 258/258 [00:07<00:00, 35.48it/s]\n",
      "Training Epoch 1073: 100%|██████████| 258/258 [00:07<00:00, 35.13it/s]\n",
      "Training Epoch 1074: 100%|██████████| 258/258 [00:07<00:00, 34.91it/s]\n",
      "Training Epoch 1075: 100%|██████████| 258/258 [00:07<00:00, 35.76it/s]\n",
      "Training Epoch 1076: 100%|██████████| 258/258 [00:07<00:00, 35.33it/s]\n",
      "Training Epoch 1077: 100%|██████████| 258/258 [00:07<00:00, 35.39it/s]\n",
      "Training Epoch 1078: 100%|██████████| 258/258 [00:07<00:00, 35.47it/s]\n",
      "Training Epoch 1079: 100%|██████████| 258/258 [00:07<00:00, 35.52it/s]\n",
      "Training Epoch 1080: 100%|██████████| 258/258 [00:07<00:00, 35.32it/s]\n",
      "Training Epoch 1081: 100%|██████████| 258/258 [00:07<00:00, 35.01it/s]\n"
     ]
    },
    {
     "name": "stdout",
     "output_type": "stream",
     "text": [
      "Epoch 1080 - Train Loss: 0.2553, Train MSE: 0.2552, Train MAE: 0.3707\n",
      "Epoch 1080 - Validation Loss: 2.3780, Validation MSE: 2.3502, Validation MAE: 1.1612\n"
     ]
    },
    {
     "name": "stderr",
     "output_type": "stream",
     "text": [
      "Training Epoch 1082: 100%|██████████| 258/258 [00:07<00:00, 36.06it/s]\n",
      "Training Epoch 1083: 100%|██████████| 258/258 [00:07<00:00, 35.20it/s]\n",
      "Training Epoch 1084: 100%|██████████| 258/258 [00:07<00:00, 35.59it/s]\n",
      "Training Epoch 1085: 100%|██████████| 258/258 [00:07<00:00, 35.83it/s]\n",
      "Training Epoch 1086: 100%|██████████| 258/258 [00:07<00:00, 35.23it/s]\n",
      "Training Epoch 1087: 100%|██████████| 258/258 [00:07<00:00, 35.23it/s]\n",
      "Training Epoch 1088: 100%|██████████| 258/258 [00:07<00:00, 34.67it/s]\n",
      "Training Epoch 1089: 100%|██████████| 258/258 [00:07<00:00, 35.15it/s]\n",
      "Training Epoch 1090: 100%|██████████| 258/258 [00:07<00:00, 35.58it/s]\n",
      "Training Epoch 1091: 100%|██████████| 258/258 [00:07<00:00, 35.27it/s]\n"
     ]
    },
    {
     "name": "stdout",
     "output_type": "stream",
     "text": [
      "Epoch 1090 - Train Loss: 0.2543, Train MSE: 0.2537, Train MAE: 0.3741\n",
      "Epoch 1090 - Validation Loss: 2.3440, Validation MSE: 2.3144, Validation MAE: 1.1524\n"
     ]
    },
    {
     "name": "stderr",
     "output_type": "stream",
     "text": [
      "Training Epoch 1092: 100%|██████████| 258/258 [00:07<00:00, 36.06it/s]\n",
      "Training Epoch 1093: 100%|██████████| 258/258 [00:07<00:00, 35.25it/s]\n",
      "Training Epoch 1094: 100%|██████████| 258/258 [00:07<00:00, 35.45it/s]\n",
      "Training Epoch 1095: 100%|██████████| 258/258 [00:07<00:00, 35.32it/s]\n",
      "Training Epoch 1096: 100%|██████████| 258/258 [00:07<00:00, 35.83it/s]\n",
      "Training Epoch 1097: 100%|██████████| 258/258 [00:07<00:00, 35.45it/s]\n",
      "Training Epoch 1098: 100%|██████████| 258/258 [00:07<00:00, 34.98it/s]\n",
      "Training Epoch 1099: 100%|██████████| 258/258 [00:07<00:00, 35.63it/s]\n",
      "Training Epoch 1100: 100%|██████████| 258/258 [00:07<00:00, 35.30it/s]\n",
      "Training Epoch 1101: 100%|██████████| 258/258 [00:07<00:00, 35.24it/s]\n"
     ]
    },
    {
     "name": "stdout",
     "output_type": "stream",
     "text": [
      "Epoch 1100 - Train Loss: 0.2532, Train MSE: 0.2534, Train MAE: 0.3689\n",
      "Epoch 1100 - Validation Loss: 2.4330, Validation MSE: 2.4109, Validation MAE: 1.1791\n"
     ]
    },
    {
     "name": "stderr",
     "output_type": "stream",
     "text": [
      "Training Epoch 1102: 100%|██████████| 258/258 [00:07<00:00, 35.28it/s]\n",
      "Training Epoch 1103: 100%|██████████| 258/258 [00:07<00:00, 35.74it/s]\n",
      "Training Epoch 1104: 100%|██████████| 258/258 [00:07<00:00, 34.80it/s]\n",
      "Training Epoch 1105: 100%|██████████| 258/258 [00:07<00:00, 35.31it/s]\n",
      "Training Epoch 1106: 100%|██████████| 258/258 [00:07<00:00, 35.24it/s]\n",
      "Training Epoch 1107: 100%|██████████| 258/258 [00:07<00:00, 35.49it/s]\n",
      "Training Epoch 1108: 100%|██████████| 258/258 [00:07<00:00, 35.29it/s]\n",
      "Training Epoch 1109: 100%|██████████| 258/258 [00:07<00:00, 35.58it/s]\n",
      "Training Epoch 1110: 100%|██████████| 258/258 [00:07<00:00, 35.29it/s]\n",
      "Training Epoch 1111: 100%|██████████| 258/258 [00:07<00:00, 35.12it/s]\n"
     ]
    },
    {
     "name": "stdout",
     "output_type": "stream",
     "text": [
      "Epoch 1110 - Train Loss: 0.2459, Train MSE: 0.2461, Train MAE: 0.3657\n",
      "Epoch 1110 - Validation Loss: 2.4012, Validation MSE: 2.3695, Validation MAE: 1.1636\n"
     ]
    },
    {
     "name": "stderr",
     "output_type": "stream",
     "text": [
      "Training Epoch 1112: 100%|██████████| 258/258 [00:07<00:00, 34.66it/s]\n",
      "Training Epoch 1113: 100%|██████████| 258/258 [00:07<00:00, 35.51it/s]\n",
      "Training Epoch 1114: 100%|██████████| 258/258 [00:07<00:00, 35.33it/s]\n",
      "Training Epoch 1115: 100%|██████████| 258/258 [00:07<00:00, 35.44it/s]\n",
      "Training Epoch 1116: 100%|██████████| 258/258 [00:07<00:00, 35.70it/s]\n",
      "Training Epoch 1117: 100%|██████████| 258/258 [00:07<00:00, 35.51it/s]\n",
      "Training Epoch 1118: 100%|██████████| 258/258 [00:07<00:00, 34.91it/s]\n",
      "Training Epoch 1119: 100%|██████████| 258/258 [00:07<00:00, 35.66it/s]\n",
      "Training Epoch 1120: 100%|██████████| 258/258 [00:07<00:00, 35.70it/s]\n",
      "Training Epoch 1121: 100%|██████████| 258/258 [00:07<00:00, 35.22it/s]\n"
     ]
    },
    {
     "name": "stdout",
     "output_type": "stream",
     "text": [
      "Epoch 1120 - Train Loss: 0.2520, Train MSE: 0.2521, Train MAE: 0.3700\n",
      "Epoch 1120 - Validation Loss: 2.3405, Validation MSE: 2.3126, Validation MAE: 1.1506\n"
     ]
    },
    {
     "name": "stderr",
     "output_type": "stream",
     "text": [
      "Training Epoch 1122: 100%|██████████| 258/258 [00:07<00:00, 35.45it/s]\n",
      "Training Epoch 1123: 100%|██████████| 258/258 [00:07<00:00, 35.71it/s]\n",
      "Training Epoch 1124: 100%|██████████| 258/258 [00:07<00:00, 35.10it/s]\n",
      "Training Epoch 1125: 100%|██████████| 258/258 [00:07<00:00, 35.10it/s]\n",
      "Training Epoch 1126: 100%|██████████| 258/258 [00:07<00:00, 35.36it/s]\n",
      "Training Epoch 1127: 100%|██████████| 258/258 [00:07<00:00, 35.45it/s]\n",
      "Training Epoch 1128: 100%|██████████| 258/258 [00:07<00:00, 35.35it/s]\n",
      "Training Epoch 1129: 100%|██████████| 258/258 [00:07<00:00, 35.14it/s]\n",
      "Training Epoch 1130: 100%|██████████| 258/258 [00:07<00:00, 35.07it/s]\n",
      "Training Epoch 1131: 100%|██████████| 258/258 [00:07<00:00, 35.38it/s]\n"
     ]
    },
    {
     "name": "stdout",
     "output_type": "stream",
     "text": [
      "Epoch 1130 - Train Loss: 0.2441, Train MSE: 0.2447, Train MAE: 0.3630\n",
      "Epoch 1130 - Validation Loss: 2.3825, Validation MSE: 2.3526, Validation MAE: 1.1573\n"
     ]
    },
    {
     "name": "stderr",
     "output_type": "stream",
     "text": [
      "Training Epoch 1132: 100%|██████████| 258/258 [00:07<00:00, 35.42it/s]\n",
      "Training Epoch 1133: 100%|██████████| 258/258 [00:07<00:00, 35.08it/s]\n",
      "Training Epoch 1134: 100%|██████████| 258/258 [00:07<00:00, 35.35it/s]\n",
      "Training Epoch 1135: 100%|██████████| 258/258 [00:07<00:00, 35.25it/s]\n",
      "Training Epoch 1136: 100%|██████████| 258/258 [00:07<00:00, 35.37it/s]\n",
      "Training Epoch 1137: 100%|██████████| 258/258 [00:07<00:00, 35.62it/s]\n",
      "Training Epoch 1138: 100%|██████████| 258/258 [00:07<00:00, 34.86it/s]\n",
      "Training Epoch 1139: 100%|██████████| 258/258 [00:07<00:00, 35.05it/s]\n",
      "Training Epoch 1140: 100%|██████████| 258/258 [00:07<00:00, 35.15it/s]\n",
      "Training Epoch 1141: 100%|██████████| 258/258 [00:07<00:00, 36.02it/s]\n"
     ]
    },
    {
     "name": "stdout",
     "output_type": "stream",
     "text": [
      "Epoch 1140 - Train Loss: 0.2519, Train MSE: 0.2522, Train MAE: 0.3723\n",
      "Epoch 1140 - Validation Loss: 2.3886, Validation MSE: 2.3612, Validation MAE: 1.1683\n"
     ]
    },
    {
     "name": "stderr",
     "output_type": "stream",
     "text": [
      "Training Epoch 1142: 100%|██████████| 258/258 [00:07<00:00, 34.28it/s]\n",
      "Training Epoch 1143: 100%|██████████| 258/258 [00:07<00:00, 35.19it/s]\n",
      "Training Epoch 1144: 100%|██████████| 258/258 [00:07<00:00, 35.70it/s]\n",
      "Training Epoch 1145: 100%|██████████| 258/258 [00:07<00:00, 35.65it/s]\n",
      "Training Epoch 1146: 100%|██████████| 258/258 [00:07<00:00, 35.19it/s]\n",
      "Training Epoch 1147: 100%|██████████| 258/258 [00:07<00:00, 35.17it/s]\n",
      "Training Epoch 1148: 100%|██████████| 258/258 [00:07<00:00, 35.61it/s]\n",
      "Training Epoch 1149: 100%|██████████| 258/258 [00:07<00:00, 34.70it/s]\n",
      "Training Epoch 1150: 100%|██████████| 258/258 [00:07<00:00, 35.82it/s]\n",
      "Training Epoch 1151: 100%|██████████| 258/258 [00:07<00:00, 35.61it/s]\n"
     ]
    },
    {
     "name": "stdout",
     "output_type": "stream",
     "text": [
      "Epoch 1150 - Train Loss: 0.2507, Train MSE: 0.2509, Train MAE: 0.3665\n",
      "Epoch 1150 - Validation Loss: 2.3500, Validation MSE: 2.3162, Validation MAE: 1.1599\n"
     ]
    },
    {
     "name": "stderr",
     "output_type": "stream",
     "text": [
      "Training Epoch 1152: 100%|██████████| 258/258 [00:07<00:00, 35.57it/s]\n",
      "Training Epoch 1153: 100%|██████████| 258/258 [00:07<00:00, 35.16it/s]\n",
      "Training Epoch 1154: 100%|██████████| 258/258 [00:07<00:00, 35.04it/s]\n",
      "Training Epoch 1155: 100%|██████████| 258/258 [00:07<00:00, 35.46it/s]\n",
      "Training Epoch 1156: 100%|██████████| 258/258 [00:07<00:00, 35.29it/s]\n",
      "Training Epoch 1157: 100%|██████████| 258/258 [00:07<00:00, 35.22it/s]\n",
      "Training Epoch 1158: 100%|██████████| 258/258 [00:07<00:00, 35.90it/s]\n",
      "Training Epoch 1159: 100%|██████████| 258/258 [00:07<00:00, 35.15it/s]\n",
      "Training Epoch 1160: 100%|██████████| 258/258 [00:07<00:00, 35.23it/s]\n",
      "Training Epoch 1161: 100%|██████████| 258/258 [00:07<00:00, 35.47it/s]\n"
     ]
    },
    {
     "name": "stdout",
     "output_type": "stream",
     "text": [
      "Epoch 1160 - Train Loss: 0.2457, Train MSE: 0.2437, Train MAE: 0.3645\n",
      "Epoch 1160 - Validation Loss: 2.3472, Validation MSE: 2.3126, Validation MAE: 1.1568\n"
     ]
    },
    {
     "name": "stderr",
     "output_type": "stream",
     "text": [
      "Training Epoch 1162: 100%|██████████| 258/258 [00:07<00:00, 34.82it/s]\n",
      "Training Epoch 1163: 100%|██████████| 258/258 [00:07<00:00, 35.31it/s]\n",
      "Training Epoch 1164: 100%|██████████| 258/258 [00:07<00:00, 35.46it/s]\n",
      "Training Epoch 1165: 100%|██████████| 258/258 [00:07<00:00, 35.93it/s]\n",
      "Training Epoch 1166: 100%|██████████| 258/258 [00:07<00:00, 35.51it/s]\n",
      "Training Epoch 1167: 100%|██████████| 258/258 [00:07<00:00, 35.35it/s]\n",
      "Training Epoch 1168: 100%|██████████| 258/258 [00:07<00:00, 35.53it/s]\n",
      "Training Epoch 1169: 100%|██████████| 258/258 [00:07<00:00, 35.40it/s]\n",
      "Training Epoch 1170: 100%|██████████| 258/258 [00:07<00:00, 35.21it/s]\n",
      "Training Epoch 1171: 100%|██████████| 258/258 [00:07<00:00, 35.61it/s]\n"
     ]
    },
    {
     "name": "stdout",
     "output_type": "stream",
     "text": [
      "Epoch 1170 - Train Loss: 0.2412, Train MSE: 0.2415, Train MAE: 0.3612\n",
      "Epoch 1170 - Validation Loss: 2.3811, Validation MSE: 2.3493, Validation MAE: 1.1594\n"
     ]
    },
    {
     "name": "stderr",
     "output_type": "stream",
     "text": [
      "Training Epoch 1172: 100%|██████████| 258/258 [00:07<00:00, 34.42it/s]\n",
      "Training Epoch 1173: 100%|██████████| 258/258 [00:07<00:00, 35.71it/s]\n",
      "Training Epoch 1174: 100%|██████████| 258/258 [00:07<00:00, 35.19it/s]\n",
      "Training Epoch 1175: 100%|██████████| 258/258 [00:07<00:00, 35.83it/s]\n",
      "Training Epoch 1176: 100%|██████████| 258/258 [00:07<00:00, 35.16it/s]\n",
      "Training Epoch 1177: 100%|██████████| 258/258 [00:07<00:00, 34.71it/s]\n",
      "Training Epoch 1178: 100%|██████████| 258/258 [00:07<00:00, 35.45it/s]\n",
      "Training Epoch 1179: 100%|██████████| 258/258 [00:07<00:00, 36.10it/s]\n",
      "Training Epoch 1180: 100%|██████████| 258/258 [00:07<00:00, 34.71it/s]\n",
      "Training Epoch 1181: 100%|██████████| 258/258 [00:07<00:00, 35.50it/s]\n"
     ]
    },
    {
     "name": "stdout",
     "output_type": "stream",
     "text": [
      "Epoch 1180 - Train Loss: 0.2489, Train MSE: 0.2490, Train MAE: 0.3696\n",
      "Epoch 1180 - Validation Loss: 2.3216, Validation MSE: 2.2893, Validation MAE: 1.1541\n"
     ]
    },
    {
     "name": "stderr",
     "output_type": "stream",
     "text": [
      "Training Epoch 1182: 100%|██████████| 258/258 [00:07<00:00, 35.78it/s]\n",
      "Training Epoch 1183: 100%|██████████| 258/258 [00:07<00:00, 35.36it/s]\n",
      "Training Epoch 1184: 100%|██████████| 258/258 [00:07<00:00, 35.33it/s]\n",
      "Training Epoch 1185: 100%|██████████| 258/258 [00:07<00:00, 35.50it/s]\n",
      "Training Epoch 1186: 100%|██████████| 258/258 [00:07<00:00, 35.67it/s]\n",
      "Training Epoch 1187: 100%|██████████| 258/258 [00:07<00:00, 35.35it/s]\n",
      "Training Epoch 1188: 100%|██████████| 258/258 [00:07<00:00, 35.15it/s]\n",
      "Training Epoch 1189: 100%|██████████| 258/258 [00:07<00:00, 35.69it/s]\n",
      "Training Epoch 1190: 100%|██████████| 258/258 [00:07<00:00, 35.30it/s]\n",
      "Training Epoch 1191: 100%|██████████| 258/258 [00:07<00:00, 35.22it/s]\n"
     ]
    },
    {
     "name": "stdout",
     "output_type": "stream",
     "text": [
      "Epoch 1190 - Train Loss: 0.2529, Train MSE: 0.2529, Train MAE: 0.3714\n",
      "Epoch 1190 - Validation Loss: 2.3714, Validation MSE: 2.3453, Validation MAE: 1.1503\n"
     ]
    },
    {
     "name": "stderr",
     "output_type": "stream",
     "text": [
      "Training Epoch 1192: 100%|██████████| 258/258 [00:07<00:00, 34.68it/s]\n",
      "Training Epoch 1193: 100%|██████████| 258/258 [00:07<00:00, 35.58it/s]\n",
      "Training Epoch 1194: 100%|██████████| 258/258 [00:07<00:00, 35.26it/s]\n",
      "Training Epoch 1195: 100%|██████████| 258/258 [00:07<00:00, 34.70it/s]\n",
      "Training Epoch 1196: 100%|██████████| 258/258 [00:07<00:00, 35.93it/s]\n",
      "Training Epoch 1197: 100%|██████████| 258/258 [00:07<00:00, 35.02it/s]\n",
      "Training Epoch 1198: 100%|██████████| 258/258 [00:07<00:00, 35.49it/s]\n",
      "Training Epoch 1199: 100%|██████████| 258/258 [00:07<00:00, 35.64it/s]\n",
      "Training Epoch 1200: 100%|██████████| 258/258 [00:07<00:00, 35.81it/s]\n",
      "Training Epoch 1201: 100%|██████████| 258/258 [00:07<00:00, 35.55it/s]\n"
     ]
    },
    {
     "name": "stdout",
     "output_type": "stream",
     "text": [
      "Epoch 1200 - Train Loss: 0.2528, Train MSE: 0.2533, Train MAE: 0.3676\n",
      "Epoch 1200 - Validation Loss: 2.3489, Validation MSE: 2.3237, Validation MAE: 1.1499\n"
     ]
    },
    {
     "name": "stderr",
     "output_type": "stream",
     "text": [
      "Training Epoch 1202: 100%|██████████| 258/258 [00:07<00:00, 34.02it/s]\n",
      "Training Epoch 1203: 100%|██████████| 258/258 [00:07<00:00, 35.83it/s]\n",
      "Training Epoch 1204: 100%|██████████| 258/258 [00:07<00:00, 35.01it/s]\n",
      "Training Epoch 1205: 100%|██████████| 258/258 [00:07<00:00, 34.64it/s]\n",
      "Training Epoch 1206: 100%|██████████| 258/258 [00:07<00:00, 34.81it/s]\n",
      "Training Epoch 1207: 100%|██████████| 258/258 [00:07<00:00, 34.77it/s]\n",
      "Training Epoch 1208: 100%|██████████| 258/258 [00:07<00:00, 34.59it/s]\n",
      "Training Epoch 1209: 100%|██████████| 258/258 [00:07<00:00, 34.07it/s]\n",
      "Training Epoch 1210: 100%|██████████| 258/258 [00:07<00:00, 34.18it/s]\n",
      "Training Epoch 1211: 100%|██████████| 258/258 [00:07<00:00, 34.60it/s]\n"
     ]
    },
    {
     "name": "stdout",
     "output_type": "stream",
     "text": [
      "Epoch 1210 - Train Loss: 0.2386, Train MSE: 0.2388, Train MAE: 0.3611\n",
      "Epoch 1210 - Validation Loss: 2.3886, Validation MSE: 2.3634, Validation MAE: 1.1596\n"
     ]
    },
    {
     "name": "stderr",
     "output_type": "stream",
     "text": [
      "Training Epoch 1212: 100%|██████████| 258/258 [00:07<00:00, 34.79it/s]\n",
      "Training Epoch 1213: 100%|██████████| 258/258 [00:07<00:00, 34.96it/s]\n",
      "Training Epoch 1214: 100%|██████████| 258/258 [00:07<00:00, 34.78it/s]\n",
      "Training Epoch 1215: 100%|██████████| 258/258 [00:07<00:00, 34.47it/s]\n",
      "Training Epoch 1216: 100%|██████████| 258/258 [00:07<00:00, 34.65it/s]\n",
      "Training Epoch 1217: 100%|██████████| 258/258 [00:07<00:00, 33.84it/s]\n",
      "Training Epoch 1218: 100%|██████████| 258/258 [00:07<00:00, 34.72it/s]\n",
      "Training Epoch 1219: 100%|██████████| 258/258 [00:07<00:00, 34.68it/s]\n",
      "Training Epoch 1220: 100%|██████████| 258/258 [00:07<00:00, 34.95it/s]\n",
      "Training Epoch 1221: 100%|██████████| 258/258 [00:07<00:00, 34.47it/s]\n"
     ]
    },
    {
     "name": "stdout",
     "output_type": "stream",
     "text": [
      "Epoch 1220 - Train Loss: 0.2446, Train MSE: 0.2442, Train MAE: 0.3630\n",
      "Epoch 1220 - Validation Loss: 2.4204, Validation MSE: 2.3910, Validation MAE: 1.1855\n"
     ]
    },
    {
     "name": "stderr",
     "output_type": "stream",
     "text": [
      "Training Epoch 1222: 100%|██████████| 258/258 [00:07<00:00, 34.61it/s]\n",
      "Training Epoch 1223: 100%|██████████| 258/258 [00:07<00:00, 34.79it/s]\n",
      "Training Epoch 1224: 100%|██████████| 258/258 [00:07<00:00, 34.57it/s]\n",
      "Training Epoch 1225: 100%|██████████| 258/258 [00:07<00:00, 33.95it/s]\n",
      "Training Epoch 1226: 100%|██████████| 258/258 [00:07<00:00, 34.76it/s]\n",
      "Training Epoch 1227: 100%|██████████| 258/258 [00:07<00:00, 34.85it/s]\n",
      "Training Epoch 1228: 100%|██████████| 258/258 [00:07<00:00, 34.93it/s]\n",
      "Training Epoch 1229: 100%|██████████| 258/258 [00:07<00:00, 34.30it/s]\n",
      "Training Epoch 1230: 100%|██████████| 258/258 [00:07<00:00, 34.98it/s]\n",
      "Training Epoch 1231: 100%|██████████| 258/258 [00:07<00:00, 34.91it/s]\n"
     ]
    },
    {
     "name": "stdout",
     "output_type": "stream",
     "text": [
      "Epoch 1230 - Train Loss: 0.2456, Train MSE: 0.2455, Train MAE: 0.3634\n",
      "Epoch 1230 - Validation Loss: 2.3621, Validation MSE: 2.3364, Validation MAE: 1.1574\n"
     ]
    },
    {
     "name": "stderr",
     "output_type": "stream",
     "text": [
      "Training Epoch 1232: 100%|██████████| 258/258 [00:07<00:00, 34.26it/s]\n",
      "Training Epoch 1233: 100%|██████████| 258/258 [00:07<00:00, 33.92it/s]\n",
      "Training Epoch 1234: 100%|██████████| 258/258 [00:07<00:00, 34.66it/s]\n",
      "Training Epoch 1235: 100%|██████████| 258/258 [00:07<00:00, 34.85it/s]\n",
      "Training Epoch 1236: 100%|██████████| 258/258 [00:07<00:00, 34.57it/s]\n",
      "Training Epoch 1237: 100%|██████████| 258/258 [00:07<00:00, 35.16it/s]\n",
      "Training Epoch 1238: 100%|██████████| 258/258 [00:07<00:00, 34.57it/s]\n",
      "Training Epoch 1239: 100%|██████████| 258/258 [00:07<00:00, 34.55it/s]\n",
      "Training Epoch 1240: 100%|██████████| 258/258 [00:07<00:00, 35.17it/s]\n",
      "Training Epoch 1241: 100%|██████████| 258/258 [00:07<00:00, 34.47it/s]\n"
     ]
    },
    {
     "name": "stdout",
     "output_type": "stream",
     "text": [
      "Epoch 1240 - Train Loss: 0.2463, Train MSE: 0.2463, Train MAE: 0.3638\n",
      "Epoch 1240 - Validation Loss: 2.4032, Validation MSE: 2.3742, Validation MAE: 1.1674\n"
     ]
    },
    {
     "name": "stderr",
     "output_type": "stream",
     "text": [
      "Training Epoch 1242: 100%|██████████| 258/258 [00:07<00:00, 34.56it/s]\n",
      "Training Epoch 1243: 100%|██████████| 258/258 [00:07<00:00, 34.62it/s]\n",
      "Training Epoch 1244: 100%|██████████| 258/258 [00:07<00:00, 35.05it/s]\n",
      "Training Epoch 1245: 100%|██████████| 258/258 [00:07<00:00, 34.60it/s]\n",
      "Training Epoch 1246: 100%|██████████| 258/258 [00:07<00:00, 34.88it/s]\n",
      "Training Epoch 1247: 100%|██████████| 258/258 [00:07<00:00, 34.48it/s]\n",
      "Training Epoch 1248: 100%|██████████| 258/258 [00:07<00:00, 34.97it/s]\n",
      "Training Epoch 1249: 100%|██████████| 258/258 [00:07<00:00, 34.77it/s]\n",
      "Training Epoch 1250: 100%|██████████| 258/258 [00:07<00:00, 34.82it/s]\n",
      "Training Epoch 1251: 100%|██████████| 258/258 [00:07<00:00, 34.65it/s]\n"
     ]
    },
    {
     "name": "stdout",
     "output_type": "stream",
     "text": [
      "Epoch 1250 - Train Loss: 0.2449, Train MSE: 0.2444, Train MAE: 0.3619\n",
      "Epoch 1250 - Validation Loss: 2.3175, Validation MSE: 2.2886, Validation MAE: 1.1494\n"
     ]
    },
    {
     "name": "stderr",
     "output_type": "stream",
     "text": [
      "Training Epoch 1252: 100%|██████████| 258/258 [00:07<00:00, 34.17it/s]\n",
      "Training Epoch 1253: 100%|██████████| 258/258 [00:07<00:00, 34.70it/s]\n",
      "Training Epoch 1254: 100%|██████████| 258/258 [00:07<00:00, 34.74it/s]\n",
      "Training Epoch 1255: 100%|██████████| 258/258 [00:07<00:00, 35.10it/s]\n",
      "Training Epoch 1256: 100%|██████████| 258/258 [00:07<00:00, 34.43it/s]\n",
      "Training Epoch 1257: 100%|██████████| 258/258 [00:07<00:00, 35.22it/s]\n",
      "Training Epoch 1258: 100%|██████████| 258/258 [00:07<00:00, 34.49it/s]\n",
      "Training Epoch 1259: 100%|██████████| 258/258 [00:07<00:00, 34.47it/s]\n",
      "Training Epoch 1260: 100%|██████████| 258/258 [00:07<00:00, 34.88it/s]\n",
      "Training Epoch 1261: 100%|██████████| 258/258 [00:07<00:00, 35.15it/s]\n"
     ]
    },
    {
     "name": "stdout",
     "output_type": "stream",
     "text": [
      "Epoch 1260 - Train Loss: 0.2514, Train MSE: 0.2517, Train MAE: 0.3680\n",
      "Epoch 1260 - Validation Loss: 2.3366, Validation MSE: 2.3132, Validation MAE: 1.1484\n"
     ]
    },
    {
     "name": "stderr",
     "output_type": "stream",
     "text": [
      "Training Epoch 1262: 100%|██████████| 258/258 [00:07<00:00, 34.50it/s]\n",
      "Training Epoch 1263: 100%|██████████| 258/258 [00:07<00:00, 34.54it/s]\n",
      "Training Epoch 1264: 100%|██████████| 258/258 [00:07<00:00, 35.13it/s]\n",
      "Training Epoch 1265: 100%|██████████| 258/258 [00:07<00:00, 34.16it/s]\n",
      "Training Epoch 1266: 100%|██████████| 258/258 [00:07<00:00, 34.47it/s]\n",
      "Training Epoch 1267: 100%|██████████| 258/258 [00:07<00:00, 34.72it/s]\n",
      "Training Epoch 1268: 100%|██████████| 258/258 [00:07<00:00, 34.85it/s]\n",
      "Training Epoch 1269: 100%|██████████| 258/258 [00:07<00:00, 34.32it/s]\n",
      "Training Epoch 1270: 100%|██████████| 258/258 [00:07<00:00, 34.73it/s]\n",
      "Training Epoch 1271: 100%|██████████| 258/258 [00:07<00:00, 34.89it/s]\n"
     ]
    },
    {
     "name": "stdout",
     "output_type": "stream",
     "text": [
      "Epoch 1270 - Train Loss: 0.2422, Train MSE: 0.2415, Train MAE: 0.3604\n",
      "Epoch 1270 - Validation Loss: 2.3840, Validation MSE: 2.3538, Validation MAE: 1.1610\n"
     ]
    },
    {
     "name": "stderr",
     "output_type": "stream",
     "text": [
      "Training Epoch 1272: 100%|██████████| 258/258 [00:07<00:00, 34.87it/s]\n",
      "Training Epoch 1273: 100%|██████████| 258/258 [00:07<00:00, 34.53it/s]\n",
      "Training Epoch 1274: 100%|██████████| 258/258 [00:07<00:00, 35.00it/s]\n",
      "Training Epoch 1275: 100%|██████████| 258/258 [00:07<00:00, 34.75it/s]\n",
      "Training Epoch 1276: 100%|██████████| 258/258 [00:07<00:00, 34.67it/s]\n",
      "Training Epoch 1277: 100%|██████████| 258/258 [00:07<00:00, 34.56it/s]\n",
      "Training Epoch 1278: 100%|██████████| 258/258 [00:07<00:00, 34.85it/s]\n",
      "Training Epoch 1279: 100%|██████████| 258/258 [00:07<00:00, 34.34it/s]\n",
      "Training Epoch 1280: 100%|██████████| 258/258 [00:07<00:00, 34.17it/s]\n",
      "Training Epoch 1281: 100%|██████████| 258/258 [00:07<00:00, 34.97it/s]\n"
     ]
    },
    {
     "name": "stdout",
     "output_type": "stream",
     "text": [
      "Epoch 1280 - Train Loss: 0.2450, Train MSE: 0.2455, Train MAE: 0.3652\n",
      "Epoch 1280 - Validation Loss: 2.3691, Validation MSE: 2.3374, Validation MAE: 1.1677\n"
     ]
    },
    {
     "name": "stderr",
     "output_type": "stream",
     "text": [
      "Training Epoch 1282: 100%|██████████| 258/258 [00:07<00:00, 34.55it/s]\n",
      "Training Epoch 1283: 100%|██████████| 258/258 [00:07<00:00, 34.79it/s]\n",
      "Training Epoch 1284: 100%|██████████| 258/258 [00:07<00:00, 34.55it/s]\n",
      "Training Epoch 1285: 100%|██████████| 258/258 [00:07<00:00, 34.65it/s]\n",
      "Training Epoch 1286: 100%|██████████| 258/258 [00:07<00:00, 34.61it/s]\n",
      "Training Epoch 1287: 100%|██████████| 258/258 [00:07<00:00, 34.58it/s]\n",
      "Training Epoch 1288: 100%|██████████| 258/258 [00:07<00:00, 35.14it/s]\n",
      "Training Epoch 1289: 100%|██████████| 258/258 [00:07<00:00, 34.66it/s]\n",
      "Training Epoch 1290: 100%|██████████| 258/258 [00:07<00:00, 34.97it/s]\n",
      "Training Epoch 1291: 100%|██████████| 258/258 [00:07<00:00, 34.89it/s]\n"
     ]
    },
    {
     "name": "stdout",
     "output_type": "stream",
     "text": [
      "Epoch 1290 - Train Loss: 0.2406, Train MSE: 0.2402, Train MAE: 0.3590\n",
      "Epoch 1290 - Validation Loss: 2.3911, Validation MSE: 2.3653, Validation MAE: 1.1638\n"
     ]
    },
    {
     "name": "stderr",
     "output_type": "stream",
     "text": [
      "Training Epoch 1292: 100%|██████████| 258/258 [00:07<00:00, 34.75it/s]\n",
      "Training Epoch 1293: 100%|██████████| 258/258 [00:07<00:00, 34.59it/s]\n",
      "Training Epoch 1294: 100%|██████████| 258/258 [00:07<00:00, 34.41it/s]\n",
      "Training Epoch 1295: 100%|██████████| 258/258 [00:07<00:00, 34.59it/s]\n",
      "Training Epoch 1296: 100%|██████████| 258/258 [00:07<00:00, 34.78it/s]\n",
      "Training Epoch 1297: 100%|██████████| 258/258 [00:07<00:00, 34.67it/s]\n",
      "Training Epoch 1298: 100%|██████████| 258/258 [00:07<00:00, 35.26it/s]\n",
      "Training Epoch 1299: 100%|██████████| 258/258 [00:07<00:00, 34.11it/s]\n",
      "Training Epoch 1300: 100%|██████████| 258/258 [00:07<00:00, 34.58it/s]\n",
      "Training Epoch 1301: 100%|██████████| 258/258 [00:07<00:00, 34.89it/s]\n"
     ]
    },
    {
     "name": "stdout",
     "output_type": "stream",
     "text": [
      "Epoch 1300 - Train Loss: 0.2325, Train MSE: 0.2326, Train MAE: 0.3535\n",
      "Epoch 1300 - Validation Loss: 2.3559, Validation MSE: 2.3304, Validation MAE: 1.1486\n"
     ]
    },
    {
     "name": "stderr",
     "output_type": "stream",
     "text": [
      "Training Epoch 1302: 100%|██████████| 258/258 [00:07<00:00, 35.15it/s]\n",
      "Training Epoch 1303: 100%|██████████| 258/258 [00:07<00:00, 34.68it/s]\n",
      "Training Epoch 1304: 100%|██████████| 258/258 [00:07<00:00, 34.07it/s]\n",
      "Training Epoch 1305: 100%|██████████| 258/258 [00:07<00:00, 35.13it/s]\n",
      "Training Epoch 1306: 100%|██████████| 258/258 [00:07<00:00, 33.87it/s]\n",
      "Training Epoch 1307: 100%|██████████| 258/258 [00:07<00:00, 34.89it/s]\n",
      "Training Epoch 1308: 100%|██████████| 258/258 [00:07<00:00, 34.55it/s]\n",
      "Training Epoch 1309: 100%|██████████| 258/258 [00:07<00:00, 34.89it/s]\n",
      "Training Epoch 1310: 100%|██████████| 258/258 [00:07<00:00, 34.82it/s]\n",
      "Training Epoch 1311: 100%|██████████| 258/258 [00:07<00:00, 34.24it/s]\n"
     ]
    },
    {
     "name": "stdout",
     "output_type": "stream",
     "text": [
      "Epoch 1310 - Train Loss: 0.2429, Train MSE: 0.2427, Train MAE: 0.3619\n",
      "Epoch 1310 - Validation Loss: 2.4369, Validation MSE: 2.4034, Validation MAE: 1.1753\n"
     ]
    },
    {
     "name": "stderr",
     "output_type": "stream",
     "text": [
      "Training Epoch 1312: 100%|██████████| 258/258 [00:07<00:00, 34.86it/s]\n",
      "Training Epoch 1313: 100%|██████████| 258/258 [00:07<00:00, 34.66it/s]\n",
      "Training Epoch 1314: 100%|██████████| 258/258 [00:07<00:00, 33.72it/s]\n",
      "Training Epoch 1315: 100%|██████████| 258/258 [00:07<00:00, 35.11it/s]\n",
      "Training Epoch 1316: 100%|██████████| 258/258 [00:07<00:00, 34.57it/s]\n",
      "Training Epoch 1317: 100%|██████████| 258/258 [00:07<00:00, 34.71it/s]\n",
      "Training Epoch 1318: 100%|██████████| 258/258 [00:07<00:00, 34.92it/s]\n",
      "Training Epoch 1319: 100%|██████████| 258/258 [00:07<00:00, 34.70it/s]\n",
      "Training Epoch 1320: 100%|██████████| 258/258 [00:07<00:00, 34.67it/s]\n",
      "Training Epoch 1321: 100%|██████████| 258/258 [00:07<00:00, 34.18it/s]\n"
     ]
    },
    {
     "name": "stdout",
     "output_type": "stream",
     "text": [
      "Epoch 1320 - Train Loss: 0.2419, Train MSE: 0.2416, Train MAE: 0.3576\n",
      "Epoch 1320 - Validation Loss: 2.3593, Validation MSE: 2.3289, Validation MAE: 1.1534\n"
     ]
    },
    {
     "name": "stderr",
     "output_type": "stream",
     "text": [
      "Training Epoch 1322: 100%|██████████| 258/258 [00:07<00:00, 35.14it/s]\n",
      "Training Epoch 1323: 100%|██████████| 258/258 [00:07<00:00, 33.86it/s]\n",
      "Training Epoch 1324: 100%|██████████| 258/258 [00:07<00:00, 34.95it/s]\n",
      "Training Epoch 1325: 100%|██████████| 258/258 [00:07<00:00, 34.66it/s]\n",
      "Training Epoch 1326: 100%|██████████| 258/258 [00:07<00:00, 34.77it/s]\n",
      "Training Epoch 1327: 100%|██████████| 258/258 [00:07<00:00, 34.60it/s]\n",
      "Training Epoch 1328: 100%|██████████| 258/258 [00:07<00:00, 34.96it/s]\n",
      "Training Epoch 1329: 100%|██████████| 258/258 [00:07<00:00, 34.61it/s]\n",
      "Training Epoch 1330: 100%|██████████| 258/258 [00:07<00:00, 34.66it/s]\n",
      "Training Epoch 1331: 100%|██████████| 258/258 [00:07<00:00, 35.01it/s]\n"
     ]
    },
    {
     "name": "stdout",
     "output_type": "stream",
     "text": [
      "Epoch 1330 - Train Loss: 0.2290, Train MSE: 0.2283, Train MAE: 0.3510\n",
      "Epoch 1330 - Validation Loss: 2.3659, Validation MSE: 2.3381, Validation MAE: 1.1557\n"
     ]
    },
    {
     "name": "stderr",
     "output_type": "stream",
     "text": [
      "Training Epoch 1332: 100%|██████████| 258/258 [00:07<00:00, 34.97it/s]\n",
      "Training Epoch 1333: 100%|██████████| 258/258 [00:07<00:00, 34.79it/s]\n",
      "Training Epoch 1334: 100%|██████████| 258/258 [00:07<00:00, 33.97it/s]\n",
      "Training Epoch 1335: 100%|██████████| 258/258 [00:07<00:00, 35.30it/s]\n",
      "Training Epoch 1336: 100%|██████████| 258/258 [00:07<00:00, 34.35it/s]\n",
      "Training Epoch 1337: 100%|██████████| 258/258 [00:07<00:00, 34.60it/s]\n",
      "Training Epoch 1338: 100%|██████████| 258/258 [00:07<00:00, 34.72it/s]\n",
      "Training Epoch 1339: 100%|██████████| 258/258 [00:07<00:00, 35.19it/s]\n",
      "Training Epoch 1340: 100%|██████████| 258/258 [00:07<00:00, 34.59it/s]\n",
      "Training Epoch 1341: 100%|██████████| 258/258 [00:07<00:00, 34.64it/s]\n"
     ]
    },
    {
     "name": "stdout",
     "output_type": "stream",
     "text": [
      "Epoch 1340 - Train Loss: 0.2475, Train MSE: 0.2482, Train MAE: 0.3631\n",
      "Epoch 1340 - Validation Loss: 2.3723, Validation MSE: 2.3407, Validation MAE: 1.1591\n"
     ]
    },
    {
     "name": "stderr",
     "output_type": "stream",
     "text": [
      "Training Epoch 1342: 100%|██████████| 258/258 [00:07<00:00, 35.14it/s]\n",
      "Training Epoch 1343: 100%|██████████| 258/258 [00:07<00:00, 33.27it/s]\n",
      "Training Epoch 1344: 100%|██████████| 258/258 [00:07<00:00, 34.85it/s]\n",
      "Training Epoch 1345: 100%|██████████| 258/258 [00:07<00:00, 34.88it/s]\n",
      "Training Epoch 1346: 100%|██████████| 258/258 [00:07<00:00, 34.96it/s]\n",
      "Training Epoch 1347: 100%|██████████| 258/258 [00:07<00:00, 34.60it/s]\n",
      "Training Epoch 1348: 100%|██████████| 258/258 [00:07<00:00, 34.71it/s]\n",
      "Training Epoch 1349: 100%|██████████| 258/258 [00:07<00:00, 35.11it/s]\n",
      "Training Epoch 1350: 100%|██████████| 258/258 [00:07<00:00, 34.62it/s]\n",
      "Training Epoch 1351: 100%|██████████| 258/258 [00:07<00:00, 34.58it/s]\n"
     ]
    },
    {
     "name": "stdout",
     "output_type": "stream",
     "text": [
      "Epoch 1350 - Train Loss: 0.2480, Train MSE: 0.2481, Train MAE: 0.3661\n",
      "Epoch 1350 - Validation Loss: 2.4175, Validation MSE: 2.3884, Validation MAE: 1.1707\n"
     ]
    },
    {
     "name": "stderr",
     "output_type": "stream",
     "text": [
      "Training Epoch 1352: 100%|██████████| 258/258 [00:07<00:00, 34.91it/s]\n",
      "Training Epoch 1353: 100%|██████████| 258/258 [00:07<00:00, 34.94it/s]\n",
      "Training Epoch 1354: 100%|██████████| 258/258 [00:07<00:00, 34.57it/s]\n",
      "Training Epoch 1355: 100%|██████████| 258/258 [00:07<00:00, 34.90it/s]\n",
      "Training Epoch 1356: 100%|██████████| 258/258 [00:07<00:00, 34.92it/s]\n",
      "Training Epoch 1357: 100%|██████████| 258/258 [00:07<00:00, 34.81it/s]\n",
      "Training Epoch 1358: 100%|██████████| 258/258 [00:07<00:00, 34.23it/s]\n",
      "Training Epoch 1359: 100%|██████████| 258/258 [00:07<00:00, 35.22it/s]\n",
      "Training Epoch 1360: 100%|██████████| 258/258 [00:07<00:00, 34.66it/s]\n",
      "Training Epoch 1361: 100%|██████████| 258/258 [00:07<00:00, 34.81it/s]\n"
     ]
    },
    {
     "name": "stdout",
     "output_type": "stream",
     "text": [
      "Epoch 1360 - Train Loss: 0.2345, Train MSE: 0.2346, Train MAE: 0.3563\n",
      "Epoch 1360 - Validation Loss: 2.4060, Validation MSE: 2.3777, Validation MAE: 1.1656\n"
     ]
    },
    {
     "name": "stderr",
     "output_type": "stream",
     "text": [
      "Training Epoch 1362: 100%|██████████| 258/258 [00:07<00:00, 35.17it/s]\n",
      "Training Epoch 1363: 100%|██████████| 258/258 [00:07<00:00, 34.70it/s]\n",
      "Training Epoch 1364: 100%|██████████| 258/258 [00:07<00:00, 34.62it/s]\n",
      "Training Epoch 1365: 100%|██████████| 258/258 [00:07<00:00, 34.96it/s]\n",
      "Training Epoch 1366: 100%|██████████| 258/258 [00:07<00:00, 34.30it/s]\n",
      "Training Epoch 1367: 100%|██████████| 258/258 [00:07<00:00, 34.89it/s]\n",
      "Training Epoch 1368: 100%|██████████| 258/258 [00:07<00:00, 34.48it/s]\n",
      "Training Epoch 1369: 100%|██████████| 258/258 [00:07<00:00, 35.31it/s]\n",
      "Training Epoch 1370: 100%|██████████| 258/258 [00:07<00:00, 34.56it/s]\n",
      "Training Epoch 1371: 100%|██████████| 258/258 [00:07<00:00, 34.69it/s]\n"
     ]
    },
    {
     "name": "stdout",
     "output_type": "stream",
     "text": [
      "Epoch 1370 - Train Loss: 0.2381, Train MSE: 0.2384, Train MAE: 0.3606\n",
      "Epoch 1370 - Validation Loss: 2.4116, Validation MSE: 2.3781, Validation MAE: 1.1597\n"
     ]
    },
    {
     "name": "stderr",
     "output_type": "stream",
     "text": [
      "Training Epoch 1372: 100%|██████████| 258/258 [00:07<00:00, 34.81it/s]\n",
      "Training Epoch 1373: 100%|██████████| 258/258 [00:07<00:00, 34.26it/s]\n",
      "Training Epoch 1374: 100%|██████████| 258/258 [00:07<00:00, 34.58it/s]\n",
      "Training Epoch 1375: 100%|██████████| 258/258 [00:07<00:00, 34.82it/s]\n",
      "Training Epoch 1376: 100%|██████████| 258/258 [00:07<00:00, 35.15it/s]\n",
      "Training Epoch 1377: 100%|██████████| 258/258 [00:07<00:00, 34.72it/s]\n",
      "Training Epoch 1378: 100%|██████████| 258/258 [00:07<00:00, 34.38it/s]\n",
      "Training Epoch 1379: 100%|██████████| 258/258 [00:07<00:00, 35.12it/s]\n",
      "Training Epoch 1380: 100%|██████████| 258/258 [00:07<00:00, 34.76it/s]\n",
      "Training Epoch 1381: 100%|██████████| 258/258 [00:07<00:00, 34.17it/s]\n"
     ]
    },
    {
     "name": "stdout",
     "output_type": "stream",
     "text": [
      "Epoch 1380 - Train Loss: 0.2366, Train MSE: 0.2363, Train MAE: 0.3566\n",
      "Epoch 1380 - Validation Loss: 2.4041, Validation MSE: 2.3728, Validation MAE: 1.1661\n"
     ]
    },
    {
     "name": "stderr",
     "output_type": "stream",
     "text": [
      "Training Epoch 1382: 100%|██████████| 258/258 [00:07<00:00, 34.68it/s]\n",
      "Training Epoch 1383: 100%|██████████| 258/258 [00:07<00:00, 35.16it/s]\n",
      "Training Epoch 1384: 100%|██████████| 258/258 [00:07<00:00, 34.63it/s]\n",
      "Training Epoch 1385: 100%|██████████| 258/258 [00:07<00:00, 35.02it/s]\n",
      "Training Epoch 1386: 100%|██████████| 258/258 [00:07<00:00, 35.11it/s]\n",
      "Training Epoch 1387: 100%|██████████| 258/258 [00:07<00:00, 34.98it/s]\n",
      "Training Epoch 1388: 100%|██████████| 258/258 [00:07<00:00, 33.68it/s]\n",
      "Training Epoch 1389: 100%|██████████| 258/258 [00:07<00:00, 35.25it/s]\n",
      "Training Epoch 1390: 100%|██████████| 258/258 [00:07<00:00, 34.93it/s]\n",
      "Training Epoch 1391: 100%|██████████| 258/258 [00:07<00:00, 34.55it/s]\n"
     ]
    },
    {
     "name": "stdout",
     "output_type": "stream",
     "text": [
      "Epoch 1390 - Train Loss: 0.2269, Train MSE: 0.2272, Train MAE: 0.3503\n",
      "Epoch 1390 - Validation Loss: 2.3832, Validation MSE: 2.3498, Validation MAE: 1.1618\n"
     ]
    },
    {
     "name": "stderr",
     "output_type": "stream",
     "text": [
      "Training Epoch 1392: 100%|██████████| 258/258 [00:07<00:00, 34.54it/s]\n",
      "Training Epoch 1393: 100%|██████████| 258/258 [00:07<00:00, 35.28it/s]\n",
      "Training Epoch 1394: 100%|██████████| 258/258 [00:07<00:00, 34.64it/s]\n",
      "Training Epoch 1395: 100%|██████████| 258/258 [00:07<00:00, 34.06it/s]\n",
      "Training Epoch 1396: 100%|██████████| 258/258 [00:07<00:00, 34.97it/s]\n",
      "Training Epoch 1397: 100%|██████████| 258/258 [00:07<00:00, 34.86it/s]\n",
      "Training Epoch 1398: 100%|██████████| 258/258 [00:07<00:00, 34.60it/s]\n",
      "Training Epoch 1399: 100%|██████████| 258/258 [00:07<00:00, 34.87it/s]\n",
      "Training Epoch 1400: 100%|██████████| 258/258 [00:07<00:00, 34.88it/s]\n",
      "Training Epoch 1401: 100%|██████████| 258/258 [00:07<00:00, 34.47it/s]\n"
     ]
    },
    {
     "name": "stdout",
     "output_type": "stream",
     "text": [
      "Epoch 1400 - Train Loss: 0.2299, Train MSE: 0.2296, Train MAE: 0.3523\n",
      "Epoch 1400 - Validation Loss: 2.3557, Validation MSE: 2.3263, Validation MAE: 1.1550\n"
     ]
    },
    {
     "name": "stderr",
     "output_type": "stream",
     "text": [
      "Training Epoch 1402: 100%|██████████| 258/258 [00:07<00:00, 34.79it/s]\n",
      "Training Epoch 1403: 100%|██████████| 258/258 [00:07<00:00, 34.39it/s]\n",
      "Training Epoch 1404: 100%|██████████| 258/258 [00:07<00:00, 34.85it/s]\n",
      "Training Epoch 1405: 100%|██████████| 258/258 [00:07<00:00, 33.95it/s]\n",
      "Training Epoch 1406: 100%|██████████| 258/258 [00:07<00:00, 34.95it/s]\n",
      "Training Epoch 1407: 100%|██████████| 258/258 [00:07<00:00, 34.72it/s]\n",
      "Training Epoch 1408: 100%|██████████| 258/258 [00:07<00:00, 34.60it/s]\n",
      "Training Epoch 1409: 100%|██████████| 258/258 [00:07<00:00, 34.61it/s]\n",
      "Training Epoch 1410: 100%|██████████| 258/258 [00:07<00:00, 34.52it/s]\n",
      "Training Epoch 1411: 100%|██████████| 258/258 [00:07<00:00, 34.59it/s]\n"
     ]
    },
    {
     "name": "stdout",
     "output_type": "stream",
     "text": [
      "Epoch 1410 - Train Loss: 0.2356, Train MSE: 0.2356, Train MAE: 0.3580\n",
      "Epoch 1410 - Validation Loss: 2.3535, Validation MSE: 2.3215, Validation MAE: 1.1598\n"
     ]
    },
    {
     "name": "stderr",
     "output_type": "stream",
     "text": [
      "Training Epoch 1412: 100%|██████████| 258/258 [00:07<00:00, 34.80it/s]\n",
      "Training Epoch 1413: 100%|██████████| 258/258 [00:07<00:00, 34.06it/s]\n",
      "Training Epoch 1414: 100%|██████████| 258/258 [00:07<00:00, 34.70it/s]\n",
      "Training Epoch 1415: 100%|██████████| 258/258 [00:07<00:00, 34.66it/s]\n",
      "Training Epoch 1416: 100%|██████████| 258/258 [00:07<00:00, 35.05it/s]\n",
      "Training Epoch 1417: 100%|██████████| 258/258 [00:07<00:00, 34.92it/s]\n",
      "Training Epoch 1418: 100%|██████████| 258/258 [00:07<00:00, 34.15it/s]\n",
      "Training Epoch 1419: 100%|██████████| 258/258 [00:07<00:00, 34.89it/s]\n",
      "Training Epoch 1420: 100%|██████████| 258/258 [00:07<00:00, 34.82it/s]\n",
      "Training Epoch 1421: 100%|██████████| 258/258 [00:07<00:00, 34.90it/s]\n"
     ]
    },
    {
     "name": "stdout",
     "output_type": "stream",
     "text": [
      "Epoch 1420 - Train Loss: 0.2368, Train MSE: 0.2374, Train MAE: 0.3549\n",
      "Epoch 1420 - Validation Loss: 2.3528, Validation MSE: 2.3292, Validation MAE: 1.1576\n"
     ]
    },
    {
     "name": "stderr",
     "output_type": "stream",
     "text": [
      "Training Epoch 1422: 100%|██████████| 258/258 [00:07<00:00, 34.74it/s]\n",
      "Training Epoch 1423: 100%|██████████| 258/258 [00:07<00:00, 35.16it/s]\n",
      "Training Epoch 1424: 100%|██████████| 258/258 [00:07<00:00, 34.62it/s]\n",
      "Training Epoch 1425: 100%|██████████| 258/258 [00:07<00:00, 33.42it/s]\n",
      "Training Epoch 1426: 100%|██████████| 258/258 [00:07<00:00, 34.94it/s]\n",
      "Training Epoch 1427: 100%|██████████| 258/258 [00:07<00:00, 35.38it/s]\n",
      "Training Epoch 1428: 100%|██████████| 258/258 [00:07<00:00, 35.14it/s]\n",
      "Training Epoch 1429: 100%|██████████| 258/258 [00:07<00:00, 35.40it/s]\n",
      "Training Epoch 1430: 100%|██████████| 258/258 [00:07<00:00, 35.67it/s]\n",
      "Training Epoch 1431: 100%|██████████| 258/258 [00:07<00:00, 35.53it/s]\n"
     ]
    },
    {
     "name": "stdout",
     "output_type": "stream",
     "text": [
      "Epoch 1430 - Train Loss: 0.2301, Train MSE: 0.2303, Train MAE: 0.3497\n",
      "Epoch 1430 - Validation Loss: 2.3342, Validation MSE: 2.3048, Validation MAE: 1.1476\n"
     ]
    },
    {
     "name": "stderr",
     "output_type": "stream",
     "text": [
      "Training Epoch 1432: 100%|██████████| 258/258 [00:07<00:00, 35.21it/s]\n",
      "Training Epoch 1433: 100%|██████████| 258/258 [00:07<00:00, 35.08it/s]\n",
      "Training Epoch 1434: 100%|██████████| 258/258 [00:07<00:00, 35.34it/s]\n",
      "Training Epoch 1435: 100%|██████████| 258/258 [00:07<00:00, 35.25it/s]\n",
      "Training Epoch 1436: 100%|██████████| 258/258 [00:07<00:00, 35.24it/s]\n",
      "Training Epoch 1437: 100%|██████████| 258/258 [00:07<00:00, 35.79it/s]\n",
      "Training Epoch 1438: 100%|██████████| 258/258 [00:07<00:00, 35.25it/s]\n",
      "Training Epoch 1439: 100%|██████████| 258/258 [00:07<00:00, 35.40it/s]\n",
      "Training Epoch 1440: 100%|██████████| 258/258 [00:07<00:00, 34.84it/s]\n",
      "Training Epoch 1441: 100%|██████████| 258/258 [00:07<00:00, 35.52it/s]\n"
     ]
    },
    {
     "name": "stdout",
     "output_type": "stream",
     "text": [
      "Epoch 1440 - Train Loss: 0.2305, Train MSE: 0.2308, Train MAE: 0.3536\n",
      "Epoch 1440 - Validation Loss: 2.3829, Validation MSE: 2.3575, Validation MAE: 1.1535\n"
     ]
    },
    {
     "name": "stderr",
     "output_type": "stream",
     "text": [
      "Training Epoch 1442: 100%|██████████| 258/258 [00:07<00:00, 34.91it/s]\n",
      "Training Epoch 1443: 100%|██████████| 258/258 [00:07<00:00, 35.01it/s]\n",
      "Training Epoch 1444: 100%|██████████| 258/258 [00:07<00:00, 35.73it/s]\n",
      "Training Epoch 1445: 100%|██████████| 258/258 [00:07<00:00, 34.88it/s]\n",
      "Training Epoch 1446: 100%|██████████| 258/258 [00:07<00:00, 35.25it/s]\n",
      "Training Epoch 1447: 100%|██████████| 258/258 [00:07<00:00, 35.51it/s]\n",
      "Training Epoch 1448: 100%|██████████| 258/258 [00:07<00:00, 34.73it/s]\n",
      "Training Epoch 1449: 100%|██████████| 258/258 [00:07<00:00, 35.15it/s]\n",
      "Training Epoch 1450: 100%|██████████| 258/258 [00:07<00:00, 34.80it/s]\n",
      "Training Epoch 1451: 100%|██████████| 258/258 [00:07<00:00, 35.75it/s]\n"
     ]
    },
    {
     "name": "stdout",
     "output_type": "stream",
     "text": [
      "Epoch 1450 - Train Loss: 0.2338, Train MSE: 0.2338, Train MAE: 0.3529\n",
      "Epoch 1450 - Validation Loss: 2.3757, Validation MSE: 2.3419, Validation MAE: 1.1596\n"
     ]
    },
    {
     "name": "stderr",
     "output_type": "stream",
     "text": [
      "Training Epoch 1452: 100%|██████████| 258/258 [00:07<00:00, 34.93it/s]\n",
      "Training Epoch 1453: 100%|██████████| 258/258 [00:07<00:00, 35.24it/s]\n",
      "Training Epoch 1454: 100%|██████████| 258/258 [00:07<00:00, 35.45it/s]\n",
      "Training Epoch 1455: 100%|██████████| 258/258 [00:07<00:00, 35.31it/s]\n",
      "Training Epoch 1456: 100%|██████████| 258/258 [00:07<00:00, 34.42it/s]\n",
      "Training Epoch 1457: 100%|██████████| 258/258 [00:07<00:00, 34.83it/s]\n",
      "Training Epoch 1458: 100%|██████████| 258/258 [00:07<00:00, 35.20it/s]\n",
      "Training Epoch 1459: 100%|██████████| 258/258 [00:07<00:00, 35.34it/s]\n",
      "Training Epoch 1460: 100%|██████████| 258/258 [00:07<00:00, 35.36it/s]\n",
      "Training Epoch 1461: 100%|██████████| 258/258 [00:07<00:00, 35.69it/s]\n"
     ]
    },
    {
     "name": "stdout",
     "output_type": "stream",
     "text": [
      "Epoch 1460 - Train Loss: 0.2351, Train MSE: 0.2354, Train MAE: 0.3561\n",
      "Epoch 1460 - Validation Loss: 2.3762, Validation MSE: 2.3470, Validation MAE: 1.1607\n"
     ]
    },
    {
     "name": "stderr",
     "output_type": "stream",
     "text": [
      "Training Epoch 1462: 100%|██████████| 258/258 [00:07<00:00, 35.13it/s]\n",
      "Training Epoch 1463: 100%|██████████| 258/258 [00:07<00:00, 34.62it/s]\n",
      "Training Epoch 1464: 100%|██████████| 258/258 [00:07<00:00, 35.22it/s]\n",
      "Training Epoch 1465: 100%|██████████| 258/258 [00:07<00:00, 35.56it/s]\n",
      "Training Epoch 1466: 100%|██████████| 258/258 [00:07<00:00, 35.28it/s]\n",
      "Training Epoch 1467: 100%|██████████| 258/258 [00:07<00:00, 35.29it/s]\n",
      "Training Epoch 1468: 100%|██████████| 258/258 [00:07<00:00, 35.68it/s]\n",
      "Training Epoch 1469: 100%|██████████| 258/258 [00:07<00:00, 34.61it/s]\n",
      "Training Epoch 1470: 100%|██████████| 258/258 [00:07<00:00, 34.33it/s]\n",
      "Training Epoch 1471: 100%|██████████| 258/258 [00:07<00:00, 34.98it/s]\n"
     ]
    },
    {
     "name": "stdout",
     "output_type": "stream",
     "text": [
      "Epoch 1470 - Train Loss: 0.2287, Train MSE: 0.2290, Train MAE: 0.3500\n",
      "Epoch 1470 - Validation Loss: 2.3899, Validation MSE: 2.3664, Validation MAE: 1.1611\n"
     ]
    },
    {
     "name": "stderr",
     "output_type": "stream",
     "text": [
      "Training Epoch 1472: 100%|██████████| 258/258 [00:07<00:00, 35.67it/s]\n",
      "Training Epoch 1473: 100%|██████████| 258/258 [00:07<00:00, 35.20it/s]\n",
      "Training Epoch 1474: 100%|██████████| 258/258 [00:07<00:00, 35.22it/s]\n",
      "Training Epoch 1475: 100%|██████████| 258/258 [00:07<00:00, 35.58it/s]\n",
      "Training Epoch 1476: 100%|██████████| 258/258 [00:07<00:00, 34.91it/s]\n",
      "Training Epoch 1477: 100%|██████████| 258/258 [00:07<00:00, 34.76it/s]\n",
      "Training Epoch 1478: 100%|██████████| 258/258 [00:07<00:00, 34.27it/s]\n",
      "Training Epoch 1479: 100%|██████████| 258/258 [00:07<00:00, 35.80it/s]\n",
      "Training Epoch 1480: 100%|██████████| 258/258 [00:07<00:00, 35.04it/s]\n",
      "Training Epoch 1481: 100%|██████████| 258/258 [00:07<00:00, 35.33it/s]\n"
     ]
    },
    {
     "name": "stdout",
     "output_type": "stream",
     "text": [
      "Epoch 1480 - Train Loss: 0.2317, Train MSE: 0.2309, Train MAE: 0.3519\n",
      "Epoch 1480 - Validation Loss: 2.3498, Validation MSE: 2.3222, Validation MAE: 1.1592\n"
     ]
    },
    {
     "name": "stderr",
     "output_type": "stream",
     "text": [
      "Training Epoch 1482: 100%|██████████| 258/258 [00:07<00:00, 35.38it/s]\n",
      "Training Epoch 1483: 100%|██████████| 258/258 [00:07<00:00, 35.47it/s]\n",
      "Training Epoch 1484: 100%|██████████| 258/258 [00:07<00:00, 34.79it/s]\n",
      "Training Epoch 1485: 100%|██████████| 258/258 [00:07<00:00, 34.79it/s]\n",
      "Training Epoch 1486: 100%|██████████| 258/258 [00:07<00:00, 35.47it/s]\n",
      "Training Epoch 1487: 100%|██████████| 258/258 [00:07<00:00, 35.05it/s]\n",
      "Training Epoch 1488: 100%|██████████| 258/258 [00:07<00:00, 35.39it/s]\n",
      "Training Epoch 1489: 100%|██████████| 258/258 [00:07<00:00, 35.54it/s]\n",
      "Training Epoch 1490: 100%|██████████| 258/258 [00:07<00:00, 35.32it/s]\n",
      "Training Epoch 1491: 100%|██████████| 258/258 [00:07<00:00, 35.08it/s]\n"
     ]
    },
    {
     "name": "stdout",
     "output_type": "stream",
     "text": [
      "Epoch 1490 - Train Loss: 0.2339, Train MSE: 0.2337, Train MAE: 0.3533\n",
      "Epoch 1490 - Validation Loss: 2.3314, Validation MSE: 2.3022, Validation MAE: 1.1420\n"
     ]
    },
    {
     "name": "stderr",
     "output_type": "stream",
     "text": [
      "Training Epoch 1492: 100%|██████████| 258/258 [00:07<00:00, 35.27it/s]\n",
      "Training Epoch 1493: 100%|██████████| 258/258 [00:07<00:00, 34.96it/s]\n",
      "Training Epoch 1494: 100%|██████████| 258/258 [00:07<00:00, 35.18it/s]\n",
      "Training Epoch 1495: 100%|██████████| 258/258 [00:07<00:00, 35.31it/s]\n",
      "Training Epoch 1496: 100%|██████████| 258/258 [00:07<00:00, 35.60it/s]\n",
      "Training Epoch 1497: 100%|██████████| 258/258 [00:07<00:00, 35.22it/s]\n",
      "Training Epoch 1498: 100%|██████████| 258/258 [00:07<00:00, 34.53it/s]\n",
      "Training Epoch 1499: 100%|██████████| 258/258 [00:07<00:00, 35.33it/s]\n",
      "Training Epoch 1500: 100%|██████████| 258/258 [00:07<00:00, 34.75it/s]\n",
      "Training Epoch 1501: 100%|██████████| 258/258 [00:07<00:00, 35.16it/s]\n"
     ]
    },
    {
     "name": "stdout",
     "output_type": "stream",
     "text": [
      "Epoch 1500 - Train Loss: 0.2309, Train MSE: 0.2305, Train MAE: 0.3529\n",
      "Epoch 1500 - Validation Loss: 2.3605, Validation MSE: 2.3279, Validation MAE: 1.1598\n"
     ]
    },
    {
     "name": "stderr",
     "output_type": "stream",
     "text": [
      "Training Epoch 1502: 100%|██████████| 258/258 [00:07<00:00, 35.45it/s]\n",
      "Training Epoch 1503: 100%|██████████| 258/258 [00:07<00:00, 35.58it/s]\n",
      "Training Epoch 1504: 100%|██████████| 258/258 [00:07<00:00, 35.09it/s]\n",
      "Training Epoch 1505: 100%|██████████| 258/258 [00:07<00:00, 35.21it/s]\n",
      "Training Epoch 1506: 100%|██████████| 258/258 [00:07<00:00, 35.60it/s]\n",
      "Training Epoch 1507: 100%|██████████| 258/258 [00:07<00:00, 34.87it/s]\n",
      "Training Epoch 1508: 100%|██████████| 258/258 [00:07<00:00, 34.95it/s]\n",
      "Training Epoch 1509: 100%|██████████| 258/258 [00:07<00:00, 34.57it/s]\n",
      "Training Epoch 1510: 100%|██████████| 258/258 [00:07<00:00, 35.60it/s]\n",
      "Training Epoch 1511: 100%|██████████| 258/258 [00:07<00:00, 35.39it/s]\n"
     ]
    },
    {
     "name": "stdout",
     "output_type": "stream",
     "text": [
      "Epoch 1510 - Train Loss: 0.2343, Train MSE: 0.2336, Train MAE: 0.3514\n",
      "Epoch 1510 - Validation Loss: 2.3447, Validation MSE: 2.3156, Validation MAE: 1.1539\n"
     ]
    },
    {
     "name": "stderr",
     "output_type": "stream",
     "text": [
      "Training Epoch 1512: 100%|██████████| 258/258 [00:07<00:00, 35.17it/s]\n",
      "Training Epoch 1513: 100%|██████████| 258/258 [00:07<00:00, 35.82it/s]\n",
      "Training Epoch 1514: 100%|██████████| 258/258 [00:07<00:00, 35.37it/s]\n",
      "Training Epoch 1515: 100%|██████████| 258/258 [00:07<00:00, 34.73it/s]\n",
      "Training Epoch 1516: 100%|██████████| 258/258 [00:07<00:00, 34.66it/s]\n",
      "Training Epoch 1517: 100%|██████████| 258/258 [00:07<00:00, 35.54it/s]\n",
      "Training Epoch 1518: 100%|██████████| 258/258 [00:07<00:00, 35.09it/s]\n",
      "Training Epoch 1519: 100%|██████████| 258/258 [00:07<00:00, 35.57it/s]\n",
      "Training Epoch 1520: 100%|██████████| 258/258 [00:07<00:00, 35.42it/s]\n",
      "Training Epoch 1521: 100%|██████████| 258/258 [00:07<00:00, 35.41it/s]\n"
     ]
    },
    {
     "name": "stdout",
     "output_type": "stream",
     "text": [
      "Epoch 1520 - Train Loss: 0.2274, Train MSE: 0.2279, Train MAE: 0.3504\n",
      "Epoch 1520 - Validation Loss: 2.3174, Validation MSE: 2.2891, Validation MAE: 1.1429\n"
     ]
    },
    {
     "name": "stderr",
     "output_type": "stream",
     "text": [
      "Training Epoch 1522: 100%|██████████| 258/258 [00:07<00:00, 35.24it/s]\n",
      "Training Epoch 1523: 100%|██████████| 258/258 [00:07<00:00, 34.25it/s]\n",
      "Training Epoch 1524: 100%|██████████| 258/258 [00:07<00:00, 35.76it/s]\n",
      "Training Epoch 1525: 100%|██████████| 258/258 [00:07<00:00, 34.79it/s]\n",
      "Training Epoch 1526: 100%|██████████| 258/258 [00:07<00:00, 35.36it/s]\n",
      "Training Epoch 1527: 100%|██████████| 258/258 [00:07<00:00, 35.42it/s]\n",
      "Training Epoch 1528: 100%|██████████| 258/258 [00:07<00:00, 34.71it/s]\n",
      "Training Epoch 1529: 100%|██████████| 258/258 [00:07<00:00, 35.13it/s]\n",
      "Training Epoch 1530: 100%|██████████| 258/258 [00:07<00:00, 34.45it/s]\n",
      "Training Epoch 1531: 100%|██████████| 258/258 [00:07<00:00, 35.70it/s]\n"
     ]
    },
    {
     "name": "stdout",
     "output_type": "stream",
     "text": [
      "Epoch 1530 - Train Loss: 0.2180, Train MSE: 0.2182, Train MAE: 0.3418\n",
      "Epoch 1530 - Validation Loss: 2.3106, Validation MSE: 2.2886, Validation MAE: 1.1454\n"
     ]
    },
    {
     "name": "stderr",
     "output_type": "stream",
     "text": [
      "Training Epoch 1532: 100%|██████████| 258/258 [00:07<00:00, 34.99it/s]\n",
      "Training Epoch 1533: 100%|██████████| 258/258 [00:07<00:00, 35.49it/s]\n",
      "Training Epoch 1534: 100%|██████████| 258/258 [00:07<00:00, 35.55it/s]\n",
      "Training Epoch 1535: 100%|██████████| 258/258 [00:07<00:00, 35.22it/s]\n",
      "Training Epoch 1536: 100%|██████████| 258/258 [00:07<00:00, 34.88it/s]\n",
      "Training Epoch 1537: 100%|██████████| 258/258 [00:07<00:00, 35.38it/s]\n",
      "Training Epoch 1538: 100%|██████████| 258/258 [00:07<00:00, 35.08it/s]\n",
      "Training Epoch 1539: 100%|██████████| 258/258 [00:07<00:00, 34.86it/s]\n",
      "Training Epoch 1540: 100%|██████████| 258/258 [00:07<00:00, 34.54it/s]\n",
      "Training Epoch 1541: 100%|██████████| 258/258 [00:07<00:00, 35.72it/s]\n"
     ]
    },
    {
     "name": "stdout",
     "output_type": "stream",
     "text": [
      "Epoch 1540 - Train Loss: 0.2267, Train MSE: 0.2264, Train MAE: 0.3491\n",
      "Epoch 1540 - Validation Loss: 2.3340, Validation MSE: 2.3024, Validation MAE: 1.1436\n"
     ]
    },
    {
     "name": "stderr",
     "output_type": "stream",
     "text": [
      "Training Epoch 1542: 100%|██████████| 258/258 [00:07<00:00, 35.47it/s]\n",
      "Training Epoch 1543: 100%|██████████| 258/258 [00:07<00:00, 35.26it/s]\n",
      "Training Epoch 1544: 100%|██████████| 258/258 [00:07<00:00, 35.51it/s]\n",
      "Training Epoch 1545: 100%|██████████| 258/258 [00:07<00:00, 35.39it/s]\n",
      "Training Epoch 1546: 100%|██████████| 258/258 [00:07<00:00, 34.77it/s]\n",
      "Training Epoch 1547: 100%|██████████| 258/258 [00:07<00:00, 35.24it/s]\n",
      "Training Epoch 1548: 100%|██████████| 258/258 [00:07<00:00, 34.81it/s]\n",
      "Training Epoch 1549: 100%|██████████| 258/258 [00:07<00:00, 35.54it/s]\n",
      "Training Epoch 1550: 100%|██████████| 258/258 [00:07<00:00, 34.99it/s]\n",
      "Training Epoch 1551: 100%|██████████| 258/258 [00:07<00:00, 34.87it/s]\n"
     ]
    },
    {
     "name": "stdout",
     "output_type": "stream",
     "text": [
      "Epoch 1550 - Train Loss: 0.2286, Train MSE: 0.2290, Train MAE: 0.3495\n",
      "Epoch 1550 - Validation Loss: 2.3597, Validation MSE: 2.3274, Validation MAE: 1.1622\n"
     ]
    },
    {
     "name": "stderr",
     "output_type": "stream",
     "text": [
      "Training Epoch 1552: 100%|██████████| 258/258 [00:07<00:00, 35.23it/s]\n",
      "Training Epoch 1553: 100%|██████████| 258/258 [00:07<00:00, 34.47it/s]\n",
      "Training Epoch 1554: 100%|██████████| 258/258 [00:07<00:00, 34.92it/s]\n",
      "Training Epoch 1555: 100%|██████████| 258/258 [00:07<00:00, 35.51it/s]\n",
      "Training Epoch 1556: 100%|██████████| 258/258 [00:07<00:00, 35.22it/s]\n",
      "Training Epoch 1557: 100%|██████████| 258/258 [00:07<00:00, 35.45it/s]\n",
      "Training Epoch 1558: 100%|██████████| 258/258 [00:07<00:00, 35.09it/s]\n",
      "Training Epoch 1559: 100%|██████████| 258/258 [00:07<00:00, 35.17it/s]\n",
      "Training Epoch 1560: 100%|██████████| 258/258 [00:07<00:00, 35.25it/s]\n",
      "Training Epoch 1561: 100%|██████████| 258/258 [00:07<00:00, 35.15it/s]\n"
     ]
    },
    {
     "name": "stdout",
     "output_type": "stream",
     "text": [
      "Epoch 1560 - Train Loss: 0.2259, Train MSE: 0.2263, Train MAE: 0.3482\n",
      "Epoch 1560 - Validation Loss: 2.2941, Validation MSE: 2.2707, Validation MAE: 1.1403\n"
     ]
    },
    {
     "name": "stderr",
     "output_type": "stream",
     "text": [
      "Training Epoch 1562: 100%|██████████| 258/258 [00:07<00:00, 35.56it/s]\n",
      "Training Epoch 1563: 100%|██████████| 258/258 [00:07<00:00, 35.40it/s]\n",
      "Training Epoch 1564: 100%|██████████| 258/258 [00:07<00:00, 35.35it/s]\n",
      "Training Epoch 1565: 100%|██████████| 258/258 [00:07<00:00, 35.69it/s]\n",
      "Training Epoch 1566: 100%|██████████| 258/258 [00:07<00:00, 35.02it/s]\n",
      "Training Epoch 1567: 100%|██████████| 258/258 [00:07<00:00, 35.11it/s]\n",
      "Training Epoch 1568: 100%|██████████| 258/258 [00:07<00:00, 35.02it/s]\n",
      "Training Epoch 1569: 100%|██████████| 258/258 [00:07<00:00, 35.64it/s]\n",
      "Training Epoch 1570: 100%|██████████| 258/258 [00:07<00:00, 35.25it/s]\n",
      "Training Epoch 1571: 100%|██████████| 258/258 [00:07<00:00, 35.38it/s]\n"
     ]
    },
    {
     "name": "stdout",
     "output_type": "stream",
     "text": [
      "Epoch 1570 - Train Loss: 0.2344, Train MSE: 0.2349, Train MAE: 0.3530\n",
      "Epoch 1570 - Validation Loss: 2.3711, Validation MSE: 2.3405, Validation MAE: 1.1605\n"
     ]
    },
    {
     "name": "stderr",
     "output_type": "stream",
     "text": [
      "Training Epoch 1572: 100%|██████████| 258/258 [00:07<00:00, 35.30it/s]\n",
      "Training Epoch 1573: 100%|██████████| 258/258 [00:07<00:00, 35.28it/s]\n",
      "Training Epoch 1574: 100%|██████████| 258/258 [00:07<00:00, 34.96it/s]\n",
      "Training Epoch 1575: 100%|██████████| 258/258 [00:07<00:00, 35.18it/s]\n",
      "Training Epoch 1576: 100%|██████████| 258/258 [00:07<00:00, 34.73it/s]\n",
      "Training Epoch 1577: 100%|██████████| 258/258 [00:07<00:00, 35.11it/s]\n",
      "Training Epoch 1578: 100%|██████████| 258/258 [00:07<00:00, 35.11it/s]\n",
      "Training Epoch 1579: 100%|██████████| 258/258 [00:07<00:00, 35.72it/s]\n",
      "Training Epoch 1580: 100%|██████████| 258/258 [00:07<00:00, 35.00it/s]\n",
      "Training Epoch 1581: 100%|██████████| 258/258 [00:07<00:00, 34.67it/s]\n"
     ]
    },
    {
     "name": "stdout",
     "output_type": "stream",
     "text": [
      "Epoch 1580 - Train Loss: 0.2206, Train MSE: 0.2209, Train MAE: 0.3404\n",
      "Epoch 1580 - Validation Loss: 2.3257, Validation MSE: 2.3002, Validation MAE: 1.1447\n"
     ]
    },
    {
     "name": "stderr",
     "output_type": "stream",
     "text": [
      "Training Epoch 1582: 100%|██████████| 258/258 [00:07<00:00, 35.31it/s]\n",
      "Training Epoch 1583: 100%|██████████| 258/258 [00:07<00:00, 34.34it/s]\n",
      "Training Epoch 1584: 100%|██████████| 258/258 [00:07<00:00, 35.00it/s]\n",
      "Training Epoch 1585: 100%|██████████| 258/258 [00:07<00:00, 35.43it/s]\n",
      "Training Epoch 1586: 100%|██████████| 258/258 [00:07<00:00, 35.47it/s]\n",
      "Training Epoch 1587: 100%|██████████| 258/258 [00:07<00:00, 35.44it/s]\n",
      "Training Epoch 1588: 100%|██████████| 258/258 [00:07<00:00, 34.89it/s]\n",
      "Training Epoch 1589: 100%|██████████| 258/258 [00:07<00:00, 35.32it/s]\n",
      "Training Epoch 1590: 100%|██████████| 258/258 [00:07<00:00, 35.19it/s]\n",
      "Training Epoch 1591: 100%|██████████| 258/258 [00:07<00:00, 34.55it/s]\n"
     ]
    },
    {
     "name": "stdout",
     "output_type": "stream",
     "text": [
      "Epoch 1590 - Train Loss: 0.2262, Train MSE: 0.2267, Train MAE: 0.3448\n",
      "Epoch 1590 - Validation Loss: 2.2900, Validation MSE: 2.2641, Validation MAE: 1.1421\n"
     ]
    },
    {
     "name": "stderr",
     "output_type": "stream",
     "text": [
      "Training Epoch 1592: 100%|██████████| 258/258 [00:07<00:00, 35.33it/s]\n",
      "Training Epoch 1593: 100%|██████████| 258/258 [00:07<00:00, 35.65it/s]\n",
      "Training Epoch 1594: 100%|██████████| 258/258 [00:07<00:00, 35.35it/s]\n",
      "Training Epoch 1595: 100%|██████████| 258/258 [00:07<00:00, 35.02it/s]\n",
      "Training Epoch 1596: 100%|██████████| 258/258 [00:07<00:00, 35.49it/s]\n",
      "Training Epoch 1597: 100%|██████████| 258/258 [00:07<00:00, 35.21it/s]\n",
      "Training Epoch 1598: 100%|██████████| 258/258 [00:07<00:00, 34.85it/s]\n",
      "Training Epoch 1599: 100%|██████████| 258/258 [00:07<00:00, 35.37it/s]\n",
      "Training Epoch 1600: 100%|██████████| 258/258 [00:07<00:00, 35.50it/s]\n",
      "Training Epoch 1601: 100%|██████████| 258/258 [00:07<00:00, 35.57it/s]\n"
     ]
    },
    {
     "name": "stdout",
     "output_type": "stream",
     "text": [
      "Epoch 1600 - Train Loss: 0.2204, Train MSE: 0.2204, Train MAE: 0.3441\n",
      "Epoch 1600 - Validation Loss: 2.3285, Validation MSE: 2.3012, Validation MAE: 1.1454\n"
     ]
    },
    {
     "name": "stderr",
     "output_type": "stream",
     "text": [
      "Training Epoch 1602: 100%|██████████| 258/258 [00:07<00:00, 34.66it/s]\n",
      "Training Epoch 1603: 100%|██████████| 258/258 [00:07<00:00, 35.73it/s]\n",
      "Training Epoch 1604: 100%|██████████| 258/258 [00:07<00:00, 35.14it/s]\n",
      "Training Epoch 1605: 100%|██████████| 258/258 [00:07<00:00, 35.20it/s]\n",
      "Training Epoch 1606: 100%|██████████| 258/258 [00:07<00:00, 34.35it/s]\n",
      "Training Epoch 1607: 100%|██████████| 258/258 [00:07<00:00, 35.41it/s]\n",
      "Training Epoch 1608: 100%|██████████| 258/258 [00:07<00:00, 35.53it/s]\n",
      "Training Epoch 1609: 100%|██████████| 258/258 [00:07<00:00, 35.31it/s]\n",
      "Training Epoch 1610: 100%|██████████| 258/258 [00:07<00:00, 35.73it/s]\n",
      "Training Epoch 1611: 100%|██████████| 258/258 [00:07<00:00, 35.15it/s]\n"
     ]
    },
    {
     "name": "stdout",
     "output_type": "stream",
     "text": [
      "Epoch 1610 - Train Loss: 0.2347, Train MSE: 0.2342, Train MAE: 0.3521\n",
      "Epoch 1610 - Validation Loss: 2.3155, Validation MSE: 2.2911, Validation MAE: 1.1445\n"
     ]
    },
    {
     "name": "stderr",
     "output_type": "stream",
     "text": [
      "Training Epoch 1612: 100%|██████████| 258/258 [00:07<00:00, 35.13it/s]\n",
      "Training Epoch 1613: 100%|██████████| 258/258 [00:07<00:00, 34.80it/s]\n",
      "Training Epoch 1614: 100%|██████████| 258/258 [00:07<00:00, 35.82it/s]\n",
      "Training Epoch 1615: 100%|██████████| 258/258 [00:07<00:00, 35.38it/s]\n",
      "Training Epoch 1616: 100%|██████████| 258/258 [00:07<00:00, 35.48it/s]\n",
      "Training Epoch 1617: 100%|██████████| 258/258 [00:07<00:00, 35.59it/s]\n",
      "Training Epoch 1618: 100%|██████████| 258/258 [00:07<00:00, 35.14it/s]\n",
      "Training Epoch 1619: 100%|██████████| 258/258 [00:07<00:00, 35.14it/s]\n",
      "Training Epoch 1620: 100%|██████████| 258/258 [00:07<00:00, 34.45it/s]\n",
      "Training Epoch 1621: 100%|██████████| 258/258 [00:07<00:00, 34.54it/s]\n"
     ]
    },
    {
     "name": "stdout",
     "output_type": "stream",
     "text": [
      "Epoch 1620 - Train Loss: 0.2091, Train MSE: 0.2090, Train MAE: 0.3385\n",
      "Epoch 1620 - Validation Loss: 2.3481, Validation MSE: 2.3234, Validation MAE: 1.1600\n"
     ]
    },
    {
     "name": "stderr",
     "output_type": "stream",
     "text": [
      "Training Epoch 1622: 100%|██████████| 258/258 [00:07<00:00, 35.02it/s]\n",
      "Training Epoch 1623: 100%|██████████| 258/258 [00:07<00:00, 35.25it/s]\n",
      "Training Epoch 1624: 100%|██████████| 258/258 [00:07<00:00, 35.56it/s]\n",
      "Training Epoch 1625: 100%|██████████| 258/258 [00:07<00:00, 35.41it/s]\n",
      "Training Epoch 1626: 100%|██████████| 258/258 [00:07<00:00, 34.97it/s]\n",
      "Training Epoch 1627: 100%|██████████| 258/258 [00:07<00:00, 35.23it/s]\n",
      "Training Epoch 1628: 100%|██████████| 258/258 [00:07<00:00, 34.89it/s]\n",
      "Training Epoch 1629: 100%|██████████| 258/258 [00:07<00:00, 35.08it/s]\n",
      "Training Epoch 1630: 100%|██████████| 258/258 [00:07<00:00, 35.31it/s]\n",
      "Training Epoch 1631: 100%|██████████| 258/258 [00:07<00:00, 35.59it/s]\n"
     ]
    },
    {
     "name": "stdout",
     "output_type": "stream",
     "text": [
      "Epoch 1630 - Train Loss: 0.2227, Train MSE: 0.2227, Train MAE: 0.3472\n",
      "Epoch 1630 - Validation Loss: 2.3426, Validation MSE: 2.3150, Validation MAE: 1.1513\n"
     ]
    },
    {
     "name": "stderr",
     "output_type": "stream",
     "text": [
      "Training Epoch 1632: 100%|██████████| 258/258 [00:07<00:00, 34.92it/s]\n",
      "Training Epoch 1633: 100%|██████████| 258/258 [00:07<00:00, 35.15it/s]\n",
      "Training Epoch 1634: 100%|██████████| 258/258 [00:07<00:00, 35.54it/s]\n",
      "Training Epoch 1635: 100%|██████████| 258/258 [00:07<00:00, 35.43it/s]\n",
      "Training Epoch 1636: 100%|██████████| 258/258 [00:07<00:00, 34.72it/s]\n",
      "Training Epoch 1637: 100%|██████████| 258/258 [00:07<00:00, 35.51it/s]\n",
      "Training Epoch 1638: 100%|██████████| 258/258 [00:07<00:00, 35.41it/s]\n",
      "Training Epoch 1639: 100%|██████████| 258/258 [00:07<00:00, 35.33it/s]\n",
      "Training Epoch 1640: 100%|██████████| 258/258 [00:07<00:00, 35.01it/s]\n",
      "Training Epoch 1641: 100%|██████████| 258/258 [00:07<00:00, 35.60it/s]\n"
     ]
    },
    {
     "name": "stdout",
     "output_type": "stream",
     "text": [
      "Epoch 1640 - Train Loss: 0.2223, Train MSE: 0.2223, Train MAE: 0.3443\n",
      "Epoch 1640 - Validation Loss: 2.2993, Validation MSE: 2.2741, Validation MAE: 1.1400\n"
     ]
    },
    {
     "name": "stderr",
     "output_type": "stream",
     "text": [
      "Training Epoch 1642: 100%|██████████| 258/258 [00:07<00:00, 35.16it/s]\n",
      "Training Epoch 1643: 100%|██████████| 258/258 [00:07<00:00, 35.01it/s]\n",
      "Training Epoch 1644: 100%|██████████| 258/258 [00:07<00:00, 34.85it/s]\n",
      "Training Epoch 1645: 100%|██████████| 258/258 [00:07<00:00, 35.16it/s]\n",
      "Training Epoch 1646: 100%|██████████| 258/258 [00:07<00:00, 35.48it/s]\n",
      "Training Epoch 1647: 100%|██████████| 258/258 [00:07<00:00, 35.19it/s]\n",
      "Training Epoch 1648: 100%|██████████| 258/258 [00:07<00:00, 35.83it/s]\n",
      "Training Epoch 1649: 100%|██████████| 258/258 [00:07<00:00, 34.12it/s]\n",
      "Training Epoch 1650: 100%|██████████| 258/258 [00:07<00:00, 35.25it/s]\n",
      "Training Epoch 1651: 100%|██████████| 258/258 [00:07<00:00, 34.54it/s]\n"
     ]
    },
    {
     "name": "stdout",
     "output_type": "stream",
     "text": [
      "Epoch 1650 - Train Loss: 0.2242, Train MSE: 0.2243, Train MAE: 0.3449\n",
      "Epoch 1650 - Validation Loss: 2.3347, Validation MSE: 2.3048, Validation MAE: 1.1545\n"
     ]
    },
    {
     "name": "stderr",
     "output_type": "stream",
     "text": [
      "Training Epoch 1652: 100%|██████████| 258/258 [00:07<00:00, 35.34it/s]\n",
      "Training Epoch 1653: 100%|██████████| 258/258 [00:07<00:00, 34.58it/s]\n",
      "Training Epoch 1654: 100%|██████████| 258/258 [00:07<00:00, 35.20it/s]\n",
      "Training Epoch 1655: 100%|██████████| 258/258 [00:07<00:00, 35.47it/s]\n",
      "Training Epoch 1656: 100%|██████████| 258/258 [00:07<00:00, 35.12it/s]\n",
      "Training Epoch 1657: 100%|██████████| 258/258 [00:07<00:00, 35.17it/s]\n",
      "Training Epoch 1658: 100%|██████████| 258/258 [00:07<00:00, 34.01it/s]\n",
      "Training Epoch 1659: 100%|██████████| 258/258 [00:07<00:00, 35.39it/s]\n",
      "Training Epoch 1660: 100%|██████████| 258/258 [00:07<00:00, 35.01it/s]\n",
      "Training Epoch 1661: 100%|██████████| 258/258 [00:07<00:00, 35.46it/s]\n"
     ]
    },
    {
     "name": "stdout",
     "output_type": "stream",
     "text": [
      "Epoch 1660 - Train Loss: 0.2212, Train MSE: 0.2209, Train MAE: 0.3432\n",
      "Epoch 1660 - Validation Loss: 2.2990, Validation MSE: 2.2698, Validation MAE: 1.1436\n"
     ]
    },
    {
     "name": "stderr",
     "output_type": "stream",
     "text": [
      "Training Epoch 1662: 100%|██████████| 258/258 [00:07<00:00, 35.63it/s]\n",
      "Training Epoch 1663: 100%|██████████| 258/258 [00:07<00:00, 34.67it/s]\n",
      "Training Epoch 1664: 100%|██████████| 258/258 [00:07<00:00, 35.14it/s]\n",
      "Training Epoch 1665: 100%|██████████| 258/258 [00:07<00:00, 35.28it/s]\n",
      "Training Epoch 1666: 100%|██████████| 258/258 [00:07<00:00, 35.09it/s]\n",
      "Training Epoch 1667: 100%|██████████| 258/258 [00:07<00:00, 35.16it/s]\n",
      "Training Epoch 1668: 100%|██████████| 258/258 [00:07<00:00, 35.35it/s]\n",
      "Training Epoch 1669: 100%|██████████| 258/258 [00:07<00:00, 35.67it/s]\n",
      "Training Epoch 1670: 100%|██████████| 258/258 [00:07<00:00, 35.14it/s]\n",
      "Training Epoch 1671: 100%|██████████| 258/258 [00:07<00:00, 34.98it/s]\n"
     ]
    },
    {
     "name": "stdout",
     "output_type": "stream",
     "text": [
      "Epoch 1670 - Train Loss: 0.2173, Train MSE: 0.2175, Train MAE: 0.3389\n",
      "Epoch 1670 - Validation Loss: 2.3203, Validation MSE: 2.2941, Validation MAE: 1.1481\n"
     ]
    },
    {
     "name": "stderr",
     "output_type": "stream",
     "text": [
      "Training Epoch 1672: 100%|██████████| 258/258 [00:07<00:00, 35.07it/s]\n",
      "Training Epoch 1673: 100%|██████████| 258/258 [00:07<00:00, 35.11it/s]\n",
      "Training Epoch 1674: 100%|██████████| 258/258 [00:07<00:00, 34.92it/s]\n",
      "Training Epoch 1675: 100%|██████████| 258/258 [00:07<00:00, 35.31it/s]\n",
      "Training Epoch 1676: 100%|██████████| 258/258 [00:07<00:00, 35.75it/s]\n",
      "Training Epoch 1677: 100%|██████████| 258/258 [00:07<00:00, 35.26it/s]\n",
      "Training Epoch 1678: 100%|██████████| 258/258 [00:07<00:00, 34.85it/s]\n",
      "Training Epoch 1679: 100%|██████████| 258/258 [00:07<00:00, 35.14it/s]\n",
      "Training Epoch 1680: 100%|██████████| 258/258 [00:07<00:00, 35.43it/s]\n",
      "Training Epoch 1681: 100%|██████████| 258/258 [00:07<00:00, 34.46it/s]\n"
     ]
    },
    {
     "name": "stdout",
     "output_type": "stream",
     "text": [
      "Epoch 1680 - Train Loss: 0.2292, Train MSE: 0.2294, Train MAE: 0.3501\n",
      "Epoch 1680 - Validation Loss: 2.3537, Validation MSE: 2.3266, Validation MAE: 1.1569\n"
     ]
    },
    {
     "name": "stderr",
     "output_type": "stream",
     "text": [
      "Training Epoch 1682: 100%|██████████| 258/258 [00:07<00:00, 35.15it/s]\n",
      "Training Epoch 1683: 100%|██████████| 258/258 [00:07<00:00, 35.33it/s]\n",
      "Training Epoch 1684: 100%|██████████| 258/258 [00:07<00:00, 35.35it/s]\n",
      "Training Epoch 1685: 100%|██████████| 258/258 [00:07<00:00, 34.71it/s]\n",
      "Training Epoch 1686: 100%|██████████| 258/258 [00:07<00:00, 35.56it/s]\n",
      "Training Epoch 1687: 100%|██████████| 258/258 [00:07<00:00, 35.14it/s]\n",
      "Training Epoch 1688: 100%|██████████| 258/258 [00:07<00:00, 35.41it/s]\n",
      "Training Epoch 1689: 100%|██████████| 258/258 [00:07<00:00, 35.35it/s]\n",
      "Training Epoch 1690: 100%|██████████| 258/258 [00:07<00:00, 35.60it/s]\n",
      "Training Epoch 1691: 100%|██████████| 258/258 [00:07<00:00, 35.41it/s]\n"
     ]
    },
    {
     "name": "stdout",
     "output_type": "stream",
     "text": [
      "Epoch 1690 - Train Loss: 0.2122, Train MSE: 0.2122, Train MAE: 0.3392\n",
      "Epoch 1690 - Validation Loss: 2.3493, Validation MSE: 2.3219, Validation MAE: 1.1612\n"
     ]
    },
    {
     "name": "stderr",
     "output_type": "stream",
     "text": [
      "Training Epoch 1692: 100%|██████████| 258/258 [00:07<00:00, 34.64it/s]\n",
      "Training Epoch 1693: 100%|██████████| 258/258 [00:07<00:00, 35.16it/s]\n",
      "Training Epoch 1694: 100%|██████████| 258/258 [00:07<00:00, 35.14it/s]\n",
      "Training Epoch 1695: 100%|██████████| 258/258 [00:07<00:00, 35.11it/s]\n",
      "Training Epoch 1696: 100%|██████████| 258/258 [00:07<00:00, 34.28it/s]\n",
      "Training Epoch 1697: 100%|██████████| 258/258 [00:07<00:00, 35.83it/s]\n",
      "Training Epoch 1698: 100%|██████████| 258/258 [00:07<00:00, 35.20it/s]\n",
      "Training Epoch 1699: 100%|██████████| 258/258 [00:07<00:00, 35.27it/s]\n",
      "Training Epoch 1700: 100%|██████████| 258/258 [00:07<00:00, 35.79it/s]\n",
      "Training Epoch 1701: 100%|██████████| 258/258 [00:07<00:00, 35.19it/s]\n"
     ]
    },
    {
     "name": "stdout",
     "output_type": "stream",
     "text": [
      "Epoch 1700 - Train Loss: 0.2215, Train MSE: 0.2218, Train MAE: 0.3442\n",
      "Epoch 1700 - Validation Loss: 2.3148, Validation MSE: 2.2861, Validation MAE: 1.1468\n"
     ]
    },
    {
     "name": "stderr",
     "output_type": "stream",
     "text": [
      "Training Epoch 1702: 100%|██████████| 258/258 [00:07<00:00, 35.12it/s]\n",
      "Training Epoch 1703: 100%|██████████| 258/258 [00:07<00:00, 35.14it/s]\n",
      "Training Epoch 1704: 100%|██████████| 258/258 [00:07<00:00, 35.65it/s]\n",
      "Training Epoch 1705: 100%|██████████| 258/258 [00:07<00:00, 35.07it/s]\n",
      "Training Epoch 1706: 100%|██████████| 258/258 [00:07<00:00, 34.84it/s]\n",
      "Training Epoch 1707: 100%|██████████| 258/258 [00:07<00:00, 35.26it/s]\n",
      "Training Epoch 1708: 100%|██████████| 258/258 [00:07<00:00, 35.38it/s]\n",
      "Training Epoch 1709: 100%|██████████| 258/258 [00:07<00:00, 35.14it/s]\n",
      "Training Epoch 1710: 100%|██████████| 258/258 [00:07<00:00, 35.21it/s]\n",
      "Training Epoch 1711: 100%|██████████| 258/258 [00:07<00:00, 35.01it/s]\n"
     ]
    },
    {
     "name": "stdout",
     "output_type": "stream",
     "text": [
      "Epoch 1710 - Train Loss: 0.2183, Train MSE: 0.2186, Train MAE: 0.3418\n",
      "Epoch 1710 - Validation Loss: 2.3128, Validation MSE: 2.2880, Validation MAE: 1.1463\n"
     ]
    },
    {
     "name": "stderr",
     "output_type": "stream",
     "text": [
      "Training Epoch 1712: 100%|██████████| 258/258 [00:07<00:00, 35.26it/s]\n",
      "Training Epoch 1713: 100%|██████████| 258/258 [00:07<00:00, 35.27it/s]\n",
      "Training Epoch 1714: 100%|██████████| 258/258 [00:07<00:00, 35.70it/s]\n",
      "Training Epoch 1715: 100%|██████████| 258/258 [00:07<00:00, 35.25it/s]\n",
      "Training Epoch 1716: 100%|██████████| 258/258 [00:07<00:00, 34.99it/s]\n",
      "Training Epoch 1717: 100%|██████████| 258/258 [00:07<00:00, 35.10it/s]\n",
      "Training Epoch 1718: 100%|██████████| 258/258 [00:07<00:00, 35.62it/s]\n",
      "Training Epoch 1719: 100%|██████████| 258/258 [00:07<00:00, 34.61it/s]\n",
      "Training Epoch 1720: 100%|██████████| 258/258 [00:07<00:00, 35.35it/s]\n",
      "Training Epoch 1721: 100%|██████████| 258/258 [00:07<00:00, 35.24it/s]\n"
     ]
    },
    {
     "name": "stdout",
     "output_type": "stream",
     "text": [
      "Epoch 1720 - Train Loss: 0.2157, Train MSE: 0.2162, Train MAE: 0.3413\n",
      "Epoch 1720 - Validation Loss: 2.3132, Validation MSE: 2.2844, Validation MAE: 1.1520\n"
     ]
    },
    {
     "name": "stderr",
     "output_type": "stream",
     "text": [
      "Training Epoch 1722: 100%|██████████| 258/258 [00:07<00:00, 35.29it/s]\n",
      "Training Epoch 1723: 100%|██████████| 258/258 [00:07<00:00, 35.14it/s]\n",
      "Training Epoch 1724: 100%|██████████| 258/258 [00:07<00:00, 34.60it/s]\n",
      "Training Epoch 1725: 100%|██████████| 258/258 [00:07<00:00, 35.40it/s]\n",
      "Training Epoch 1726: 100%|██████████| 258/258 [00:07<00:00, 34.64it/s]\n",
      "Training Epoch 1727: 100%|██████████| 258/258 [00:07<00:00, 35.02it/s]\n",
      "Training Epoch 1728: 100%|██████████| 258/258 [00:07<00:00, 35.68it/s]\n",
      "Training Epoch 1729: 100%|██████████| 258/258 [00:07<00:00, 35.07it/s]\n",
      "Training Epoch 1730: 100%|██████████| 258/258 [00:07<00:00, 35.04it/s]\n",
      "Training Epoch 1731: 100%|██████████| 258/258 [00:07<00:00, 35.18it/s]\n"
     ]
    },
    {
     "name": "stdout",
     "output_type": "stream",
     "text": [
      "Epoch 1730 - Train Loss: 0.2140, Train MSE: 0.2138, Train MAE: 0.3390\n",
      "Epoch 1730 - Validation Loss: 2.3114, Validation MSE: 2.2866, Validation MAE: 1.1430\n"
     ]
    },
    {
     "name": "stderr",
     "output_type": "stream",
     "text": [
      "Training Epoch 1732: 100%|██████████| 258/258 [00:07<00:00, 35.11it/s]\n",
      "Training Epoch 1733: 100%|██████████| 258/258 [00:07<00:00, 34.83it/s]\n",
      "Training Epoch 1734: 100%|██████████| 258/258 [00:07<00:00, 34.80it/s]\n",
      "Training Epoch 1735: 100%|██████████| 258/258 [00:07<00:00, 35.73it/s]\n",
      "Training Epoch 1736: 100%|██████████| 258/258 [00:07<00:00, 34.68it/s]\n",
      "Training Epoch 1737: 100%|██████████| 258/258 [00:07<00:00, 34.90it/s]\n",
      "Training Epoch 1738: 100%|██████████| 258/258 [00:07<00:00, 35.67it/s]\n",
      "Training Epoch 1739: 100%|██████████| 258/258 [00:07<00:00, 34.98it/s]\n",
      "Training Epoch 1740: 100%|██████████| 258/258 [00:07<00:00, 35.12it/s]\n",
      "Training Epoch 1741: 100%|██████████| 258/258 [00:07<00:00, 32.41it/s]\n"
     ]
    },
    {
     "name": "stdout",
     "output_type": "stream",
     "text": [
      "Epoch 1740 - Train Loss: 0.2099, Train MSE: 0.2102, Train MAE: 0.3335\n",
      "Epoch 1740 - Validation Loss: 2.2983, Validation MSE: 2.2746, Validation MAE: 1.1404\n"
     ]
    },
    {
     "name": "stderr",
     "output_type": "stream",
     "text": [
      "Training Epoch 1742: 100%|██████████| 258/258 [00:07<00:00, 35.75it/s]\n",
      "Training Epoch 1743: 100%|██████████| 258/258 [00:07<00:00, 35.10it/s]\n",
      "Training Epoch 1744: 100%|██████████| 258/258 [00:07<00:00, 35.14it/s]\n",
      "Training Epoch 1745: 100%|██████████| 258/258 [00:07<00:00, 35.67it/s]\n",
      "Training Epoch 1746: 100%|██████████| 258/258 [00:07<00:00, 35.23it/s]\n",
      "Training Epoch 1747: 100%|██████████| 258/258 [00:07<00:00, 35.06it/s]\n",
      "Training Epoch 1748: 100%|██████████| 258/258 [00:07<00:00, 34.81it/s]\n",
      "Training Epoch 1749: 100%|██████████| 258/258 [00:07<00:00, 34.20it/s]\n",
      "Training Epoch 1750: 100%|██████████| 258/258 [00:07<00:00, 35.29it/s]\n",
      "Training Epoch 1751: 100%|██████████| 258/258 [00:07<00:00, 34.90it/s]\n"
     ]
    },
    {
     "name": "stdout",
     "output_type": "stream",
     "text": [
      "Epoch 1750 - Train Loss: 0.2241, Train MSE: 0.2243, Train MAE: 0.3441\n",
      "Epoch 1750 - Validation Loss: 2.3460, Validation MSE: 2.3198, Validation MAE: 1.1590\n"
     ]
    },
    {
     "name": "stderr",
     "output_type": "stream",
     "text": [
      "Training Epoch 1752: 100%|██████████| 258/258 [00:07<00:00, 35.58it/s]\n",
      "Training Epoch 1753: 100%|██████████| 258/258 [00:07<00:00, 35.25it/s]\n",
      "Training Epoch 1754: 100%|██████████| 258/258 [00:07<00:00, 35.07it/s]\n",
      "Training Epoch 1755: 100%|██████████| 258/258 [00:07<00:00, 35.18it/s]\n",
      "Training Epoch 1756: 100%|██████████| 258/258 [00:07<00:00, 35.14it/s]\n",
      "Training Epoch 1757: 100%|██████████| 258/258 [00:07<00:00, 34.38it/s]\n",
      "Training Epoch 1758: 100%|██████████| 258/258 [00:07<00:00, 35.38it/s]\n",
      "Training Epoch 1759: 100%|██████████| 258/258 [00:07<00:00, 35.66it/s]\n",
      "Training Epoch 1760: 100%|██████████| 258/258 [00:07<00:00, 35.51it/s]\n",
      "Training Epoch 1761: 100%|██████████| 258/258 [00:07<00:00, 34.91it/s]\n"
     ]
    },
    {
     "name": "stdout",
     "output_type": "stream",
     "text": [
      "Epoch 1760 - Train Loss: 0.2290, Train MSE: 0.2294, Train MAE: 0.3480\n",
      "Epoch 1760 - Validation Loss: 2.3372, Validation MSE: 2.3037, Validation MAE: 1.1543\n"
     ]
    },
    {
     "name": "stderr",
     "output_type": "stream",
     "text": [
      "Training Epoch 1762: 100%|██████████| 258/258 [00:07<00:00, 35.13it/s]\n",
      "Training Epoch 1763: 100%|██████████| 258/258 [00:07<00:00, 35.63it/s]\n",
      "Training Epoch 1764: 100%|██████████| 258/258 [00:07<00:00, 34.32it/s]\n",
      "Training Epoch 1765: 100%|██████████| 258/258 [00:07<00:00, 35.28it/s]\n",
      "Training Epoch 1766: 100%|██████████| 258/258 [00:07<00:00, 35.34it/s]\n",
      "Training Epoch 1767: 100%|██████████| 258/258 [00:07<00:00, 35.09it/s]\n",
      "Training Epoch 1768: 100%|██████████| 258/258 [00:07<00:00, 35.17it/s]\n",
      "Training Epoch 1769: 100%|██████████| 258/258 [00:07<00:00, 35.08it/s]\n",
      "Training Epoch 1770: 100%|██████████| 258/258 [00:07<00:00, 35.57it/s]\n",
      "Training Epoch 1771: 100%|██████████| 258/258 [00:07<00:00, 34.39it/s]\n"
     ]
    },
    {
     "name": "stdout",
     "output_type": "stream",
     "text": [
      "Epoch 1770 - Train Loss: 0.2143, Train MSE: 0.2140, Train MAE: 0.3360\n",
      "Epoch 1770 - Validation Loss: 2.3262, Validation MSE: 2.2997, Validation MAE: 1.1451\n"
     ]
    },
    {
     "name": "stderr",
     "output_type": "stream",
     "text": [
      "Training Epoch 1772: 100%|██████████| 258/258 [00:07<00:00, 35.40it/s]\n",
      "Training Epoch 1773: 100%|██████████| 258/258 [00:07<00:00, 35.22it/s]\n",
      "Training Epoch 1774: 100%|██████████| 258/258 [00:07<00:00, 35.51it/s]\n",
      "Training Epoch 1775: 100%|██████████| 258/258 [00:07<00:00, 35.21it/s]\n",
      "Training Epoch 1776: 100%|██████████| 258/258 [00:07<00:00, 35.13it/s]\n",
      "Training Epoch 1777: 100%|██████████| 258/258 [00:07<00:00, 35.16it/s]\n",
      "Training Epoch 1778: 100%|██████████| 258/258 [00:07<00:00, 35.11it/s]\n",
      "Training Epoch 1779: 100%|██████████| 258/258 [00:07<00:00, 35.16it/s]\n",
      "Training Epoch 1780: 100%|██████████| 258/258 [00:07<00:00, 35.58it/s]\n",
      "Training Epoch 1781: 100%|██████████| 258/258 [00:07<00:00, 34.81it/s]\n"
     ]
    },
    {
     "name": "stdout",
     "output_type": "stream",
     "text": [
      "Epoch 1780 - Train Loss: 0.2077, Train MSE: 0.2071, Train MAE: 0.3334\n",
      "Epoch 1780 - Validation Loss: 2.3522, Validation MSE: 2.3220, Validation MAE: 1.1589\n"
     ]
    },
    {
     "name": "stderr",
     "output_type": "stream",
     "text": [
      "Training Epoch 1782: 100%|██████████| 258/258 [00:07<00:00, 35.02it/s]\n",
      "Training Epoch 1783: 100%|██████████| 258/258 [00:07<00:00, 35.02it/s]\n",
      "Training Epoch 1784: 100%|██████████| 258/258 [00:07<00:00, 35.38it/s]\n",
      "Training Epoch 1785: 100%|██████████| 258/258 [00:07<00:00, 34.88it/s]\n",
      "Training Epoch 1786: 100%|██████████| 258/258 [00:07<00:00, 34.81it/s]\n",
      "Training Epoch 1787: 100%|██████████| 258/258 [00:07<00:00, 35.60it/s]\n",
      "Training Epoch 1788: 100%|██████████| 258/258 [00:07<00:00, 35.16it/s]\n",
      "Training Epoch 1789: 100%|██████████| 258/258 [00:07<00:00, 35.10it/s]\n",
      "Training Epoch 1790: 100%|██████████| 258/258 [00:07<00:00, 35.55it/s]\n",
      "Training Epoch 1791: 100%|██████████| 258/258 [00:07<00:00, 35.06it/s]\n"
     ]
    },
    {
     "name": "stdout",
     "output_type": "stream",
     "text": [
      "Epoch 1790 - Train Loss: 0.2165, Train MSE: 0.2168, Train MAE: 0.3403\n",
      "Epoch 1790 - Validation Loss: 2.3117, Validation MSE: 2.2814, Validation MAE: 1.1410\n"
     ]
    },
    {
     "name": "stderr",
     "output_type": "stream",
     "text": [
      "Training Epoch 1792: 100%|██████████| 258/258 [00:07<00:00, 35.08it/s]\n",
      "Training Epoch 1793: 100%|██████████| 258/258 [00:07<00:00, 35.04it/s]\n",
      "Training Epoch 1794: 100%|██████████| 258/258 [00:07<00:00, 35.18it/s]\n",
      "Training Epoch 1795: 100%|██████████| 258/258 [00:07<00:00, 35.16it/s]\n",
      "Training Epoch 1796: 100%|██████████| 258/258 [00:07<00:00, 34.98it/s]\n",
      "Training Epoch 1797: 100%|██████████| 258/258 [00:07<00:00, 35.08it/s]\n",
      "Training Epoch 1798: 100%|██████████| 258/258 [00:07<00:00, 35.35it/s]\n",
      "Training Epoch 1799: 100%|██████████| 258/258 [00:07<00:00, 34.96it/s]\n",
      "Training Epoch 1800: 100%|██████████| 258/258 [00:07<00:00, 35.20it/s]\n",
      "Training Epoch 1801: 100%|██████████| 258/258 [00:07<00:00, 35.29it/s]\n"
     ]
    },
    {
     "name": "stdout",
     "output_type": "stream",
     "text": [
      "Epoch 1800 - Train Loss: 0.2129, Train MSE: 0.2115, Train MAE: 0.3354\n",
      "Epoch 1800 - Validation Loss: 2.3650, Validation MSE: 2.3341, Validation MAE: 1.1617\n"
     ]
    },
    {
     "name": "stderr",
     "output_type": "stream",
     "text": [
      "Training Epoch 1802: 100%|██████████| 258/258 [00:07<00:00, 35.06it/s]\n",
      "Training Epoch 1803: 100%|██████████| 258/258 [00:07<00:00, 35.23it/s]\n",
      "Training Epoch 1804: 100%|██████████| 258/258 [00:07<00:00, 35.58it/s]\n",
      "Training Epoch 1805: 100%|██████████| 258/258 [00:07<00:00, 35.22it/s]\n",
      "Training Epoch 1806: 100%|██████████| 258/258 [00:07<00:00, 35.19it/s]\n",
      "Training Epoch 1807: 100%|██████████| 258/258 [00:07<00:00, 35.00it/s]\n",
      "Training Epoch 1808: 100%|██████████| 258/258 [00:07<00:00, 35.76it/s]\n",
      "Training Epoch 1809: 100%|██████████| 258/258 [00:07<00:00, 34.59it/s]\n",
      "Training Epoch 1810: 100%|██████████| 258/258 [00:07<00:00, 35.54it/s]\n",
      "Training Epoch 1811: 100%|██████████| 258/258 [00:07<00:00, 34.77it/s]\n"
     ]
    },
    {
     "name": "stdout",
     "output_type": "stream",
     "text": [
      "Epoch 1810 - Train Loss: 0.2248, Train MSE: 0.2248, Train MAE: 0.3452\n",
      "Epoch 1810 - Validation Loss: 2.3571, Validation MSE: 2.3293, Validation MAE: 1.1509\n"
     ]
    },
    {
     "name": "stderr",
     "output_type": "stream",
     "text": [
      "Training Epoch 1812: 100%|██████████| 258/258 [00:07<00:00, 35.21it/s]\n",
      "Training Epoch 1813: 100%|██████████| 258/258 [00:07<00:00, 34.85it/s]\n",
      "Training Epoch 1814: 100%|██████████| 258/258 [00:07<00:00, 35.00it/s]\n",
      "Training Epoch 1815: 100%|██████████| 258/258 [00:07<00:00, 35.49it/s]\n",
      "Training Epoch 1816: 100%|██████████| 258/258 [00:07<00:00, 34.88it/s]\n",
      "Training Epoch 1817: 100%|██████████| 258/258 [00:07<00:00, 35.52it/s]\n",
      "Training Epoch 1818: 100%|██████████| 258/258 [00:07<00:00, 35.32it/s]\n",
      "Training Epoch 1819: 100%|██████████| 258/258 [00:07<00:00, 35.43it/s]\n",
      "Training Epoch 1820: 100%|██████████| 258/258 [00:07<00:00, 35.08it/s]\n",
      "Training Epoch 1821: 100%|██████████| 258/258 [00:07<00:00, 34.80it/s]\n"
     ]
    },
    {
     "name": "stdout",
     "output_type": "stream",
     "text": [
      "Epoch 1820 - Train Loss: 0.2089, Train MSE: 0.2094, Train MAE: 0.3322\n",
      "Epoch 1820 - Validation Loss: 2.3352, Validation MSE: 2.3089, Validation MAE: 1.1484\n"
     ]
    },
    {
     "name": "stderr",
     "output_type": "stream",
     "text": [
      "Training Epoch 1822: 100%|██████████| 258/258 [00:07<00:00, 35.47it/s]\n",
      "Training Epoch 1823: 100%|██████████| 258/258 [00:07<00:00, 35.22it/s]\n",
      "Training Epoch 1824: 100%|██████████| 258/258 [00:07<00:00, 34.86it/s]\n",
      "Training Epoch 1825: 100%|██████████| 258/258 [00:07<00:00, 35.77it/s]\n",
      "Training Epoch 1826: 100%|██████████| 258/258 [00:07<00:00, 35.26it/s]\n",
      "Training Epoch 1827: 100%|██████████| 258/258 [00:07<00:00, 34.96it/s]\n",
      "Training Epoch 1828: 100%|██████████| 258/258 [00:07<00:00, 34.61it/s]\n",
      "Training Epoch 1829: 100%|██████████| 258/258 [00:07<00:00, 35.26it/s]\n",
      "Training Epoch 1830: 100%|██████████| 258/258 [00:07<00:00, 35.12it/s]\n",
      "Training Epoch 1831: 100%|██████████| 258/258 [00:07<00:00, 34.25it/s]\n"
     ]
    },
    {
     "name": "stdout",
     "output_type": "stream",
     "text": [
      "Epoch 1830 - Train Loss: 0.2279, Train MSE: 0.2281, Train MAE: 0.3450\n",
      "Epoch 1830 - Validation Loss: 2.3001, Validation MSE: 2.2733, Validation MAE: 1.1453\n"
     ]
    },
    {
     "name": "stderr",
     "output_type": "stream",
     "text": [
      "Training Epoch 1832: 100%|██████████| 258/258 [00:07<00:00, 35.40it/s]\n",
      "Training Epoch 1833: 100%|██████████| 258/258 [00:07<00:00, 35.40it/s]\n",
      "Training Epoch 1834: 100%|██████████| 258/258 [00:07<00:00, 35.53it/s]\n",
      "Training Epoch 1835: 100%|██████████| 258/258 [00:07<00:00, 35.54it/s]\n",
      "Training Epoch 1836: 100%|██████████| 258/258 [00:07<00:00, 35.39it/s]\n",
      "Training Epoch 1837: 100%|██████████| 258/258 [00:07<00:00, 35.08it/s]\n",
      "Training Epoch 1838: 100%|██████████| 258/258 [00:07<00:00, 35.60it/s]\n",
      "Training Epoch 1839: 100%|██████████| 258/258 [00:07<00:00, 35.46it/s]\n",
      "Training Epoch 1840: 100%|██████████| 258/258 [00:07<00:00, 35.02it/s]\n",
      "Training Epoch 1841: 100%|██████████| 258/258 [00:07<00:00, 34.41it/s]\n"
     ]
    },
    {
     "name": "stdout",
     "output_type": "stream",
     "text": [
      "Epoch 1840 - Train Loss: 0.2137, Train MSE: 0.2138, Train MAE: 0.3367\n",
      "Epoch 1840 - Validation Loss: 2.3400, Validation MSE: 2.3136, Validation MAE: 1.1461\n"
     ]
    },
    {
     "name": "stderr",
     "output_type": "stream",
     "text": [
      "Training Epoch 1842: 100%|██████████| 258/258 [00:07<00:00, 35.46it/s]\n",
      "Training Epoch 1843: 100%|██████████| 258/258 [00:07<00:00, 35.10it/s]\n",
      "Training Epoch 1844: 100%|██████████| 258/258 [00:07<00:00, 35.19it/s]\n",
      "Training Epoch 1845: 100%|██████████| 258/258 [00:07<00:00, 35.02it/s]\n",
      "Training Epoch 1846: 100%|██████████| 258/258 [00:07<00:00, 35.68it/s]\n",
      "Training Epoch 1847: 100%|██████████| 258/258 [00:07<00:00, 35.10it/s]\n",
      "Training Epoch 1848: 100%|██████████| 258/258 [00:07<00:00, 35.50it/s]\n",
      "Training Epoch 1849: 100%|██████████| 258/258 [00:07<00:00, 35.67it/s]\n",
      "Training Epoch 1850: 100%|██████████| 258/258 [00:07<00:00, 34.85it/s]\n",
      "Training Epoch 1851: 100%|██████████| 258/258 [00:07<00:00, 34.90it/s]\n"
     ]
    },
    {
     "name": "stdout",
     "output_type": "stream",
     "text": [
      "Epoch 1850 - Train Loss: 0.2132, Train MSE: 0.2134, Train MAE: 0.3374\n",
      "Epoch 1850 - Validation Loss: 2.3533, Validation MSE: 2.3198, Validation MAE: 1.1597\n"
     ]
    },
    {
     "name": "stderr",
     "output_type": "stream",
     "text": [
      "Training Epoch 1852: 100%|██████████| 258/258 [00:07<00:00, 34.19it/s]\n",
      "Training Epoch 1853: 100%|██████████| 258/258 [00:07<00:00, 35.55it/s]\n",
      "Training Epoch 1854: 100%|██████████| 258/258 [00:07<00:00, 34.39it/s]\n",
      "Training Epoch 1855: 100%|██████████| 258/258 [00:07<00:00, 35.36it/s]\n",
      "Training Epoch 1856: 100%|██████████| 258/258 [00:07<00:00, 35.42it/s]\n",
      "Training Epoch 1857: 100%|██████████| 258/258 [00:07<00:00, 35.58it/s]\n",
      "Training Epoch 1858: 100%|██████████| 258/258 [00:07<00:00, 35.10it/s]\n",
      "Training Epoch 1859: 100%|██████████| 258/258 [00:07<00:00, 35.07it/s]\n",
      "Training Epoch 1860: 100%|██████████| 258/258 [00:07<00:00, 35.78it/s]\n",
      "Training Epoch 1861: 100%|██████████| 258/258 [00:07<00:00, 34.76it/s]\n"
     ]
    },
    {
     "name": "stdout",
     "output_type": "stream",
     "text": [
      "Epoch 1860 - Train Loss: 0.2217, Train MSE: 0.2222, Train MAE: 0.3426\n",
      "Epoch 1860 - Validation Loss: 2.3082, Validation MSE: 2.2814, Validation MAE: 1.1443\n"
     ]
    },
    {
     "name": "stderr",
     "output_type": "stream",
     "text": [
      "Training Epoch 1862: 100%|██████████| 258/258 [00:07<00:00, 35.23it/s]\n",
      "Training Epoch 1863: 100%|██████████| 258/258 [00:07<00:00, 35.49it/s]\n",
      "Training Epoch 1864: 100%|██████████| 258/258 [00:07<00:00, 35.27it/s]\n",
      "Training Epoch 1865: 100%|██████████| 258/258 [00:07<00:00, 35.02it/s]\n",
      "Training Epoch 1866: 100%|██████████| 258/258 [00:07<00:00, 35.04it/s]\n",
      "Training Epoch 1867: 100%|██████████| 258/258 [00:07<00:00, 35.52it/s]\n",
      "Training Epoch 1868: 100%|██████████| 258/258 [00:07<00:00, 35.08it/s]\n",
      "Training Epoch 1869: 100%|██████████| 258/258 [00:07<00:00, 35.09it/s]\n",
      "Training Epoch 1870: 100%|██████████| 258/258 [00:07<00:00, 35.36it/s]\n",
      "Training Epoch 1871: 100%|██████████| 258/258 [00:07<00:00, 35.30it/s]\n"
     ]
    },
    {
     "name": "stdout",
     "output_type": "stream",
     "text": [
      "Epoch 1870 - Train Loss: 0.2123, Train MSE: 0.2107, Train MAE: 0.3377\n",
      "Epoch 1870 - Validation Loss: 2.3542, Validation MSE: 2.3299, Validation MAE: 1.1539\n"
     ]
    },
    {
     "name": "stderr",
     "output_type": "stream",
     "text": [
      "Training Epoch 1872: 100%|██████████| 258/258 [00:07<00:00, 34.71it/s]\n",
      "Training Epoch 1873: 100%|██████████| 258/258 [00:07<00:00, 35.27it/s]\n",
      "Training Epoch 1874: 100%|██████████| 258/258 [00:07<00:00, 35.61it/s]\n",
      "Training Epoch 1875: 100%|██████████| 258/258 [00:07<00:00, 35.20it/s]\n",
      "Training Epoch 1876: 100%|██████████| 258/258 [00:07<00:00, 35.42it/s]\n",
      "Training Epoch 1877: 100%|██████████| 258/258 [00:07<00:00, 34.92it/s]\n",
      "Training Epoch 1878: 100%|██████████| 258/258 [00:07<00:00, 35.45it/s]\n",
      "Training Epoch 1879: 100%|██████████| 258/258 [00:07<00:00, 34.94it/s]\n",
      "Training Epoch 1880: 100%|██████████| 258/258 [00:07<00:00, 35.20it/s]\n",
      "Training Epoch 1881: 100%|██████████| 258/258 [00:07<00:00, 35.41it/s]\n"
     ]
    },
    {
     "name": "stdout",
     "output_type": "stream",
     "text": [
      "Epoch 1880 - Train Loss: 0.2130, Train MSE: 0.2136, Train MAE: 0.3367\n",
      "Epoch 1880 - Validation Loss: 2.4195, Validation MSE: 2.3895, Validation MAE: 1.1764\n"
     ]
    },
    {
     "name": "stderr",
     "output_type": "stream",
     "text": [
      "Training Epoch 1882: 100%|██████████| 258/258 [00:07<00:00, 34.94it/s]\n",
      "Training Epoch 1883: 100%|██████████| 258/258 [00:07<00:00, 35.03it/s]\n",
      "Training Epoch 1884: 100%|██████████| 258/258 [00:07<00:00, 35.27it/s]\n",
      "Training Epoch 1885: 100%|██████████| 258/258 [00:07<00:00, 34.35it/s]\n",
      "Training Epoch 1886: 100%|██████████| 258/258 [00:07<00:00, 35.29it/s]\n",
      "Training Epoch 1887: 100%|██████████| 258/258 [00:07<00:00, 35.22it/s]\n",
      "Training Epoch 1888: 100%|██████████| 258/258 [00:07<00:00, 35.54it/s]\n",
      "Training Epoch 1889: 100%|██████████| 258/258 [00:07<00:00, 35.10it/s]\n",
      "Training Epoch 1890: 100%|██████████| 258/258 [00:07<00:00, 34.85it/s]\n",
      "Training Epoch 1891: 100%|██████████| 258/258 [00:07<00:00, 35.58it/s]\n"
     ]
    },
    {
     "name": "stdout",
     "output_type": "stream",
     "text": [
      "Epoch 1890 - Train Loss: 0.2076, Train MSE: 0.2073, Train MAE: 0.3337\n",
      "Epoch 1890 - Validation Loss: 2.3259, Validation MSE: 2.2998, Validation MAE: 1.1474\n"
     ]
    },
    {
     "name": "stderr",
     "output_type": "stream",
     "text": [
      "Training Epoch 1892: 100%|██████████| 258/258 [00:07<00:00, 34.60it/s]\n",
      "Training Epoch 1893: 100%|██████████| 258/258 [00:07<00:00, 34.77it/s]\n",
      "Training Epoch 1894: 100%|██████████| 258/258 [00:07<00:00, 35.01it/s]\n",
      "Training Epoch 1895: 100%|██████████| 258/258 [00:07<00:00, 35.40it/s]\n",
      "Training Epoch 1896: 100%|██████████| 258/258 [00:07<00:00, 35.12it/s]\n",
      "Training Epoch 1897: 100%|██████████| 258/258 [00:07<00:00, 35.03it/s]\n",
      "Training Epoch 1898: 100%|██████████| 258/258 [00:07<00:00, 35.64it/s]\n",
      "Training Epoch 1899: 100%|██████████| 258/258 [00:07<00:00, 34.58it/s]\n",
      "Training Epoch 1900: 100%|██████████| 258/258 [00:07<00:00, 35.05it/s]\n",
      "Training Epoch 1901: 100%|██████████| 258/258 [00:07<00:00, 35.28it/s]\n"
     ]
    },
    {
     "name": "stdout",
     "output_type": "stream",
     "text": [
      "Epoch 1900 - Train Loss: 0.2164, Train MSE: 0.2166, Train MAE: 0.3371\n",
      "Epoch 1900 - Validation Loss: 2.2998, Validation MSE: 2.2752, Validation MAE: 1.1384\n"
     ]
    },
    {
     "name": "stderr",
     "output_type": "stream",
     "text": [
      "Training Epoch 1902: 100%|██████████| 258/258 [00:07<00:00, 35.51it/s]\n",
      "Training Epoch 1903: 100%|██████████| 258/258 [00:07<00:00, 34.90it/s]\n",
      "Training Epoch 1904: 100%|██████████| 258/258 [00:07<00:00, 35.09it/s]\n",
      "Training Epoch 1905: 100%|██████████| 258/258 [00:07<00:00, 35.66it/s]\n",
      "Training Epoch 1906: 100%|██████████| 258/258 [00:07<00:00, 35.24it/s]\n",
      "Training Epoch 1907: 100%|██████████| 258/258 [00:07<00:00, 34.91it/s]\n",
      "Training Epoch 1908: 100%|██████████| 258/258 [00:07<00:00, 35.43it/s]\n",
      "Training Epoch 1909: 100%|██████████| 258/258 [00:07<00:00, 35.28it/s]\n",
      "Training Epoch 1910: 100%|██████████| 258/258 [00:07<00:00, 35.26it/s]\n",
      "Training Epoch 1911: 100%|██████████| 258/258 [00:07<00:00, 35.15it/s]\n"
     ]
    },
    {
     "name": "stdout",
     "output_type": "stream",
     "text": [
      "Epoch 1910 - Train Loss: 0.2136, Train MSE: 0.2136, Train MAE: 0.3354\n",
      "Epoch 1910 - Validation Loss: 2.3528, Validation MSE: 2.3238, Validation MAE: 1.1564\n"
     ]
    },
    {
     "name": "stderr",
     "output_type": "stream",
     "text": [
      "Training Epoch 1912: 100%|██████████| 258/258 [00:07<00:00, 35.71it/s]\n",
      "Training Epoch 1913: 100%|██████████| 258/258 [00:07<00:00, 35.22it/s]\n",
      "Training Epoch 1914: 100%|██████████| 258/258 [00:07<00:00, 34.48it/s]\n",
      "Training Epoch 1915: 100%|██████████| 258/258 [00:07<00:00, 35.85it/s]\n",
      "Training Epoch 1916: 100%|██████████| 258/258 [00:07<00:00, 35.19it/s]\n",
      "Training Epoch 1917: 100%|██████████| 258/258 [00:07<00:00, 35.27it/s]\n",
      "Training Epoch 1918: 100%|██████████| 258/258 [00:07<00:00, 35.02it/s]\n",
      "Training Epoch 1919: 100%|██████████| 258/258 [00:07<00:00, 35.43it/s]\n",
      "Training Epoch 1920: 100%|██████████| 258/258 [00:07<00:00, 35.22it/s]\n",
      "Training Epoch 1921: 100%|██████████| 258/258 [00:07<00:00, 35.24it/s]\n"
     ]
    },
    {
     "name": "stdout",
     "output_type": "stream",
     "text": [
      "Epoch 1920 - Train Loss: 0.2102, Train MSE: 0.2104, Train MAE: 0.3338\n",
      "Epoch 1920 - Validation Loss: 2.2957, Validation MSE: 2.2633, Validation MAE: 1.1396\n"
     ]
    },
    {
     "name": "stderr",
     "output_type": "stream",
     "text": [
      "Training Epoch 1922: 100%|██████████| 258/258 [00:07<00:00, 34.68it/s]\n",
      "Training Epoch 1923: 100%|██████████| 258/258 [00:07<00:00, 35.41it/s]\n",
      "Training Epoch 1924: 100%|██████████| 258/258 [00:07<00:00, 35.40it/s]\n",
      "Training Epoch 1925: 100%|██████████| 258/258 [00:07<00:00, 34.73it/s]\n",
      "Training Epoch 1926: 100%|██████████| 258/258 [00:07<00:00, 35.63it/s]\n",
      "Training Epoch 1927: 100%|██████████| 258/258 [00:07<00:00, 34.82it/s]\n",
      "Training Epoch 1928: 100%|██████████| 258/258 [00:07<00:00, 35.31it/s]\n",
      "Training Epoch 1929: 100%|██████████| 258/258 [00:07<00:00, 35.04it/s]\n",
      "Training Epoch 1930: 100%|██████████| 258/258 [00:07<00:00, 35.02it/s]\n",
      "Training Epoch 1931: 100%|██████████| 258/258 [00:07<00:00, 35.24it/s]\n"
     ]
    },
    {
     "name": "stdout",
     "output_type": "stream",
     "text": [
      "Epoch 1930 - Train Loss: 0.2173, Train MSE: 0.2176, Train MAE: 0.3381\n",
      "Epoch 1930 - Validation Loss: 2.3514, Validation MSE: 2.3222, Validation MAE: 1.1563\n"
     ]
    },
    {
     "name": "stderr",
     "output_type": "stream",
     "text": [
      "Training Epoch 1932: 100%|██████████| 258/258 [00:07<00:00, 34.87it/s]\n",
      "Training Epoch 1933: 100%|██████████| 258/258 [00:07<00:00, 35.48it/s]\n",
      "Training Epoch 1934: 100%|██████████| 258/258 [00:07<00:00, 35.44it/s]\n",
      "Training Epoch 1935: 100%|██████████| 258/258 [00:07<00:00, 35.14it/s]\n",
      "Training Epoch 1936: 100%|██████████| 258/258 [00:07<00:00, 35.80it/s]\n",
      "Training Epoch 1937: 100%|██████████| 258/258 [00:07<00:00, 34.69it/s]\n",
      "Training Epoch 1938: 100%|██████████| 258/258 [00:07<00:00, 35.57it/s]\n",
      "Training Epoch 1939: 100%|██████████| 258/258 [00:07<00:00, 35.26it/s]\n",
      "Training Epoch 1940: 100%|██████████| 258/258 [00:07<00:00, 35.17it/s]\n",
      "Training Epoch 1941: 100%|██████████| 258/258 [00:07<00:00, 35.38it/s]\n"
     ]
    },
    {
     "name": "stdout",
     "output_type": "stream",
     "text": [
      "Epoch 1940 - Train Loss: 0.2082, Train MSE: 0.2081, Train MAE: 0.3335\n",
      "Epoch 1940 - Validation Loss: 2.3254, Validation MSE: 2.2953, Validation MAE: 1.1517\n"
     ]
    },
    {
     "name": "stderr",
     "output_type": "stream",
     "text": [
      "Training Epoch 1942: 100%|██████████| 258/258 [00:07<00:00, 35.11it/s]\n",
      "Training Epoch 1943: 100%|██████████| 258/258 [00:07<00:00, 35.75it/s]\n",
      "Training Epoch 1944: 100%|██████████| 258/258 [00:07<00:00, 34.90it/s]\n",
      "Training Epoch 1945: 100%|██████████| 258/258 [00:07<00:00, 35.72it/s]\n",
      "Training Epoch 1946: 100%|██████████| 258/258 [00:07<00:00, 35.35it/s]\n",
      "Training Epoch 1947: 100%|██████████| 258/258 [00:07<00:00, 35.44it/s]\n",
      "Training Epoch 1948: 100%|██████████| 258/258 [00:07<00:00, 35.04it/s]\n",
      "Training Epoch 1949: 100%|██████████| 258/258 [00:07<00:00, 35.12it/s]\n",
      "Training Epoch 1950: 100%|██████████| 258/258 [00:07<00:00, 35.59it/s]\n",
      "Training Epoch 1951: 100%|██████████| 258/258 [00:07<00:00, 35.24it/s]\n"
     ]
    },
    {
     "name": "stdout",
     "output_type": "stream",
     "text": [
      "Epoch 1950 - Train Loss: 0.2088, Train MSE: 0.2088, Train MAE: 0.3312\n",
      "Epoch 1950 - Validation Loss: 2.3380, Validation MSE: 2.3068, Validation MAE: 1.1553\n"
     ]
    },
    {
     "name": "stderr",
     "output_type": "stream",
     "text": [
      "Training Epoch 1952: 100%|██████████| 258/258 [00:07<00:00, 34.74it/s]\n",
      "Training Epoch 1953: 100%|██████████| 258/258 [00:07<00:00, 35.39it/s]\n",
      "Training Epoch 1954: 100%|██████████| 258/258 [00:07<00:00, 35.38it/s]\n",
      "Training Epoch 1955: 100%|██████████| 258/258 [00:07<00:00, 35.32it/s]\n",
      "Training Epoch 1956: 100%|██████████| 258/258 [00:07<00:00, 34.41it/s]\n",
      "Training Epoch 1957: 100%|██████████| 258/258 [00:07<00:00, 35.87it/s]\n",
      "Training Epoch 1958: 100%|██████████| 258/258 [00:07<00:00, 34.85it/s]\n",
      "Training Epoch 1959: 100%|██████████| 258/258 [00:07<00:00, 34.67it/s]\n",
      "Training Epoch 1960: 100%|██████████| 258/258 [00:07<00:00, 35.48it/s]\n",
      "Training Epoch 1961: 100%|██████████| 258/258 [00:07<00:00, 35.45it/s]\n"
     ]
    },
    {
     "name": "stdout",
     "output_type": "stream",
     "text": [
      "Epoch 1960 - Train Loss: 0.2112, Train MSE: 0.2106, Train MAE: 0.3354\n",
      "Epoch 1960 - Validation Loss: 2.3455, Validation MSE: 2.3140, Validation MAE: 1.1540\n"
     ]
    },
    {
     "name": "stderr",
     "output_type": "stream",
     "text": [
      "Training Epoch 1962: 100%|██████████| 258/258 [00:07<00:00, 35.14it/s]\n",
      "Training Epoch 1963: 100%|██████████| 258/258 [00:07<00:00, 35.28it/s]\n",
      "Training Epoch 1964: 100%|██████████| 258/258 [00:07<00:00, 35.61it/s]\n",
      "Training Epoch 1965: 100%|██████████| 258/258 [00:07<00:00, 34.70it/s]\n",
      "Training Epoch 1966: 100%|██████████| 258/258 [00:08<00:00, 29.97it/s]\n",
      "Training Epoch 1967: 100%|██████████| 258/258 [00:07<00:00, 33.95it/s]\n",
      "Training Epoch 1968: 100%|██████████| 258/258 [00:07<00:00, 35.52it/s]\n",
      "Training Epoch 1969: 100%|██████████| 258/258 [00:07<00:00, 35.19it/s]\n",
      "Training Epoch 1970: 100%|██████████| 258/258 [00:07<00:00, 35.29it/s]\n",
      "Training Epoch 1971: 100%|██████████| 258/258 [00:07<00:00, 35.50it/s]\n"
     ]
    },
    {
     "name": "stdout",
     "output_type": "stream",
     "text": [
      "Epoch 1970 - Train Loss: 0.2074, Train MSE: 0.2076, Train MAE: 0.3294\n",
      "Epoch 1970 - Validation Loss: 2.3539, Validation MSE: 2.3223, Validation MAE: 1.1584\n"
     ]
    },
    {
     "name": "stderr",
     "output_type": "stream",
     "text": [
      "Training Epoch 1972: 100%|██████████| 258/258 [00:07<00:00, 35.24it/s]\n",
      "Training Epoch 1973: 100%|██████████| 258/258 [00:07<00:00, 35.26it/s]\n",
      "Training Epoch 1974: 100%|██████████| 258/258 [00:07<00:00, 35.19it/s]\n",
      "Training Epoch 1975: 100%|██████████| 258/258 [00:07<00:00, 35.31it/s]\n",
      "Training Epoch 1976: 100%|██████████| 258/258 [00:07<00:00, 34.46it/s]\n",
      "Training Epoch 1977: 100%|██████████| 258/258 [00:07<00:00, 35.25it/s]\n",
      "Training Epoch 1978: 100%|██████████| 258/258 [00:07<00:00, 35.45it/s]\n",
      "Training Epoch 1979: 100%|██████████| 258/258 [00:07<00:00, 35.20it/s]\n",
      "Training Epoch 1980: 100%|██████████| 258/258 [00:07<00:00, 35.15it/s]\n",
      "Training Epoch 1981: 100%|██████████| 258/258 [00:07<00:00, 35.59it/s]\n"
     ]
    },
    {
     "name": "stdout",
     "output_type": "stream",
     "text": [
      "Epoch 1980 - Train Loss: 0.2170, Train MSE: 0.2172, Train MAE: 0.3408\n",
      "Epoch 1980 - Validation Loss: 2.3205, Validation MSE: 2.2893, Validation MAE: 1.1482\n"
     ]
    },
    {
     "name": "stderr",
     "output_type": "stream",
     "text": [
      "Training Epoch 1982: 100%|██████████| 258/258 [00:07<00:00, 34.64it/s]\n",
      "Training Epoch 1983: 100%|██████████| 258/258 [00:07<00:00, 35.48it/s]\n",
      "Training Epoch 1984: 100%|██████████| 258/258 [00:07<00:00, 35.48it/s]\n",
      "Training Epoch 1985: 100%|██████████| 258/258 [00:07<00:00, 35.49it/s]\n",
      "Training Epoch 1986: 100%|██████████| 258/258 [00:07<00:00, 35.23it/s]\n",
      "Training Epoch 1987: 100%|██████████| 258/258 [00:07<00:00, 34.87it/s]\n",
      "Training Epoch 1988: 100%|██████████| 258/258 [00:07<00:00, 35.49it/s]\n",
      "Training Epoch 1989: 100%|██████████| 258/258 [00:07<00:00, 33.30it/s]\n",
      "Training Epoch 1990: 100%|██████████| 258/258 [00:07<00:00, 35.51it/s]\n",
      "Training Epoch 1991: 100%|██████████| 258/258 [00:07<00:00, 35.56it/s]\n"
     ]
    },
    {
     "name": "stdout",
     "output_type": "stream",
     "text": [
      "Epoch 1990 - Train Loss: 0.2067, Train MSE: 0.2069, Train MAE: 0.3315\n",
      "Epoch 1990 - Validation Loss: 2.3354, Validation MSE: 2.3092, Validation MAE: 1.1586\n"
     ]
    },
    {
     "name": "stderr",
     "output_type": "stream",
     "text": [
      "Training Epoch 1992: 100%|██████████| 258/258 [00:07<00:00, 35.25it/s]\n",
      "Training Epoch 1993: 100%|██████████| 258/258 [00:07<00:00, 35.40it/s]\n",
      "Training Epoch 1994: 100%|██████████| 258/258 [00:07<00:00, 35.11it/s]\n",
      "Training Epoch 1995: 100%|██████████| 258/258 [00:07<00:00, 35.67it/s]\n",
      "Training Epoch 1996: 100%|██████████| 258/258 [00:07<00:00, 35.00it/s]\n",
      "Training Epoch 1997: 100%|██████████| 258/258 [00:07<00:00, 34.50it/s]\n",
      "Training Epoch 1998: 100%|██████████| 258/258 [00:07<00:00, 35.19it/s]\n",
      "Training Epoch 1999: 100%|██████████| 258/258 [00:07<00:00, 35.27it/s]\n",
      "Training Epoch 2000: 100%|██████████| 258/258 [00:07<00:00, 35.17it/s]\n"
     ]
    },
    {
     "name": "stdout",
     "output_type": "stream",
     "text": [
      "Test MSE: 2.0740, Test MAE: 1.0827\n"
     ]
    }
   ],
   "source": [
    "train_history_2 = pd.DataFrame(columns=[  'epoch',\n",
    "    'Train Loss', 'Train MSE', 'Train MAE', 'Train RMSE', 'Train R2', 'Train Pearson', 'Train Median_AE', 'Train Explained_VAR'\n",
    "    'Val Loss', 'Val MSE', 'Val MAE', 'Val RMSE', 'Val R2', 'Val Pearson', 'Val Median_AE', 'Val Explained_VAR'])\n",
    "# Verify feature dimensions\n",
    "for batch in train_loader_mols:\n",
    "    mol_input_dim = batch['metabolite_features'].shape[1]  # Dynamically determine mol input dimension\n",
    "    protein_input_dim = batch['protein_features'].shape[1]  # Dynamically determine protein input dimension\n",
    "    break\n",
    "\n",
    "# Initialize model, optimizer, and loss function\n",
    "model_2 = CNNRegressor(mol_input_dim=mol_input_dim, protein_input_dim=protein_input_dim)\n",
    "model_2 = model_2.to(device)\n",
    "optimizer_2 = optim.Adam(model_2.parameters(), lr=0.0001)\n",
    "criterion = nn.MSELoss()\n",
    "\n",
    "# Training and Validation Loop\n",
    "for epoch in range(2000):\n",
    "    model_2.train()\n",
    "    total_loss = 0.0\n",
    "    val_total_loss = 0.0\n",
    "    train_predictions, train_labels = [], []\n",
    "\n",
    "    for batch in tqdm(train_loader_mols, desc=f\"Training Epoch {epoch + 1}\"):\n",
    "        mol_features = batch['metabolite_features'].to(device)\n",
    "        protein_features = batch['protein_features'].to(device)\n",
    "        labels = batch['label'].to(device)\n",
    "\n",
    "        optimizer_2.zero_grad()\n",
    "        outputs = model_2(mol_features, protein_features)\n",
    "        loss = criterion(outputs, labels)\n",
    "        loss.backward()\n",
    "        optimizer_2.step()\n",
    "        total_loss += loss.item()\n",
    "\n",
    "        # Store predictions and labels for metrics\n",
    "        outputs = outputs.view(-1)\n",
    "        labels = labels.view(-1)\n",
    "        train_predictions.extend(outputs.detach().cpu().numpy())\n",
    "        train_labels.extend(labels.cpu().numpy())\n",
    "\n",
    "    # Calculate training metrics\n",
    "    train_mse = ((torch.tensor(train_predictions) - torch.tensor(train_labels))**2).mean().item()\n",
    "    train_mae = torch.abs(torch.tensor(train_predictions) - torch.tensor(train_labels)).mean().item()\n",
    "    train_rmse = torch.sqrt((torch.tensor(train_predictions) - torch.tensor(train_labels)) ** 2).mean().item()\n",
    "    train_r2 = r2_score(np.array(train_labels), np.array(train_predictions))\n",
    "    train_pearson_corr, _ = pearsonr(np.array(train_labels), np.array(train_predictions))\n",
    "    train_median_ae = median_absolute_error(np.array(train_labels), np.array(train_predictions))\n",
    "    train_explained_var = explained_variance_score(np.array(train_labels), np.array(train_predictions))\n",
    "\n",
    "\n",
    "\n",
    "    if epoch % 10 == 0:\n",
    "        print(f\"Epoch {epoch} - Train Loss: {total_loss / len(train_loader_mols):.4f}, Train MSE: {train_mse:.4f}, Train MAE: {train_mae:.4f}\")\n",
    "\n",
    "    # Validation\n",
    "    model_2.eval()\n",
    "    val_predictions, val_labels = [], []\n",
    "    with torch.no_grad():\n",
    "        for batch in val_loader_mols:\n",
    "            mol_features = batch['metabolite_features'].to(device)\n",
    "            protein_features = batch['protein_features'].to(device)\n",
    "            labels = batch['label'].to(device)\n",
    "\n",
    "            outputs = model_2(mol_features, protein_features)\n",
    "            val_predictions.extend(outputs.cpu().numpy())\n",
    "            val_labels.extend(labels.cpu().numpy())\n",
    "            val_loss = criterion(outputs, labels)\n",
    "            val_total_loss += val_loss.item()\n",
    "\n",
    "    val_mse = ((torch.tensor(val_predictions) - torch.tensor(val_labels))**2).mean().item()\n",
    "    val_mae = torch.abs(torch.tensor(val_predictions) - torch.tensor(val_labels)).mean().item()\n",
    "    val_rmse = torch.sqrt((torch.tensor(val_predictions) - torch.tensor(val_labels)) ** 2).mean().item()\n",
    "    val_r2 = r2_score(np.array(val_labels), np.array(val_predictions))\n",
    "    val_pearson_corr, _ = pearsonr(np.array(val_labels), np.array(val_predictions))\n",
    "    val_median_ae = median_absolute_error(np.array(val_labels), np.array(val_predictions))\n",
    "    val_explained_var = explained_variance_score(np.array(val_labels), np.array(val_predictions))\n",
    "\n",
    "    if epoch % 10 == 0:\n",
    "        print(f\"Epoch {epoch} - Validation Loss: {val_total_loss / len(val_loader_mols):.4f}, Validation MSE: {val_mse:.4f}, Validation MAE: {val_mae:.4f}\")\n",
    "\n",
    "    # Save metrics to DataFrame\n",
    "    new_row = {'epoch': epoch + 1, 'Train Loss': total_loss / len(train_loader_mols), 'Train MSE': train_mse, 'Train MAE': train_mae, 'Train RMSE': train_rmse, 'Train R2': train_r2, 'Train Pearson': train_pearson_corr, 'Train Median_AE': train_median_ae, 'Train Explained_VAR': train_explained_var, \n",
    "               'Val Loss': val_total_loss / len(val_loader_mols), 'Val MSE': val_mse, 'Val MAE': val_mae, 'Val RMSE': val_rmse, 'Val R2': val_r2, 'Val Pearson': val_pearson_corr, 'Val Median_AE': val_median_ae, 'Val Explained_VAR': val_explained_var}\n",
    "    train_history_2 = pd.concat([train_history_2, pd.DataFrame([new_row])], ignore_index=True)\n",
    "\n"
   ]
  },
  {
   "cell_type": "code",
   "execution_count": 11,
   "metadata": {},
   "outputs": [],
   "source": [
    "for batch in train_loader_mols:\n",
    "    mol_input_dim = batch['metabolite_features'].shape[1]  # Dynamically determine mol input dimension\n",
    "    protein_input_dim = batch['protein_features'].shape[1]  # Dynamically determine protein input dimension\n",
    "    break\n",
    "# First, reinitialize the model with the same architecture\n",
    "model = CNNRegressor(mol_input_dim=mol_input_dim, protein_input_dim=protein_input_dim)\n",
    "\n",
    "# Load the saved model weights\n",
    "model.load_state_dict(torch.load('/Users/pinchichen/2025S lab/AI drug project/Catpred/Ki/trained_model/cold_mols/CNN model_Catpred_Ki_cold_mols.pt'))\n",
    "# Move to device if using GPU\n",
    "model = model.to(device)\n"
   ]
  },
  {
   "cell_type": "code",
   "execution_count": 12,
   "metadata": {},
   "outputs": [
    {
     "name": "stdout",
     "output_type": "stream",
     "text": [
      "Test MSE: 2.0740, Test RMSE: 1.440152085, Test MAE: 1.0827, Test R2: 0.4632, Test Pearson Correlation: 0.6957, Test Median AE: 0.8418, Test Explained Variance: 0.4632\n"
     ]
    }
   ],
   "source": [
    "\n",
    "# Test Metrics\n",
    "model.eval()\n",
    "test_predictions, test_labels = [], []\n",
    "with torch.no_grad():\n",
    "    for batch in test_loader_mols:\n",
    "        mol_features = batch['metabolite_features'].to(device)\n",
    "        protein_features = batch['protein_features'].to(device)\n",
    "        labels = batch['label'].to(device)\n",
    "\n",
    "        outputs = model(mol_features, protein_features)\n",
    "        test_predictions.extend(outputs.cpu().numpy())\n",
    "        test_labels.extend(labels.cpu().numpy())\n",
    "\n",
    "test_mse = ((torch.tensor(test_predictions) - torch.tensor(test_labels))**2).mean().item()\n",
    "test_mae = torch.abs(torch.tensor(test_predictions) - torch.tensor(test_labels)).mean().item()\n",
    "test_rmse = np.sqrt(test_mse)\n",
    "test_r2 = r2_score(np.array(test_labels), np.array(test_predictions))\n",
    "test_pearson_corr, _ = pearsonr(np.array(test_labels), np.array(test_predictions))\n",
    "test_median_ae = median_absolute_error(np.array(test_labels), np.array(test_predictions))\n",
    "test_explained_var = explained_variance_score(np.array(test_labels), np.array(test_predictions))\n",
    "\n",
    "print(f\"Test MSE: {test_mse:.4f}, Test RMSE: {test_rmse:.9f}, Test MAE: {test_mae:.4f}, Test R2: {test_r2:.4f}, Test Pearson Correlation: {test_pearson_corr:.4f}, Test Median AE: {test_median_ae:.4f}, Test Explained Variance: {test_explained_var:.4f}\")"
   ]
  },
  {
   "cell_type": "code",
   "execution_count": 19,
   "metadata": {},
   "outputs": [],
   "source": [
    "model.eval()\n",
    "train_pred, train_labels = [], []\n",
    "with torch.no_grad():\n",
    "    for batch in train_loader_mols:\n",
    "        mol_features = batch['metabolite_features'].to(device)\n",
    "        protein_features = batch['protein_features'].to(device)\n",
    "        labels = batch['label'].to(device)\n",
    "\n",
    "        outputs = model(mol_features, protein_features)\n",
    "        train_pred.extend(outputs.cpu().numpy())\n",
    "        train_labels.extend(labels.cpu().numpy())\n",
    "\n",
    "train_mse, train_rmse, train_mae, train_r2, train_pearson_corr, train_median_ae, train_explained_var = evaluate_model(train_pred, train_labels)"
   ]
  },
  {
   "cell_type": "code",
   "execution_count": 20,
   "metadata": {},
   "outputs": [],
   "source": [
    "model.eval()\n",
    "val_pred, val_labels = [], []\n",
    "with torch.no_grad():\n",
    "    for batch in val_loader_mols:\n",
    "        mol_features = batch['metabolite_features'].to(device)\n",
    "        protein_features = batch['protein_features'].to(device)\n",
    "        labels = batch['label'].to(device)\n",
    "\n",
    "        outputs = model(mol_features, protein_features)\n",
    "        val_pred.extend(outputs.cpu().numpy())\n",
    "        val_labels.extend(labels.cpu().numpy())\n",
    "\n",
    "val_mse, val_rmse, val_mae, val_r2, val_pearson_corr, val_median_ae, val_explained_var = evaluate_model(val_pred, val_labels)\n"
   ]
  },
  {
   "cell_type": "code",
   "execution_count": 21,
   "metadata": {},
   "outputs": [],
   "source": [
    "# append the performance to the csv file\n",
    "df = {\n",
    "    'Model':['CNN','CNN','CNN'],\n",
    "    'Dataset':['Train','Validation','Test'],\n",
    "    'MSE':[train_mse,val_mse,test_mse],\n",
    "    'RMSE':[train_rmse,val_rmse,test_rmse],\n",
    "    'MAE':[train_mae,val_mae,test_mae],\n",
    "    'R2':[train_r2,val_r2,test_r2],\n",
    "    'Pearson':[train_pearson_corr,val_pearson_corr,test_pearson_corr],\n",
    "    'Median_AE':[train_median_ae,val_median_ae,test_median_ae],\n",
    "    'Explained_VAR':[train_explained_var,val_explained_var,test_explained_var],\n",
    "    'Dataspliting Mode':['cold mols','cold mols','cold mols']\n",
    "}\n",
    "df = pd.DataFrame(df)\n",
    "\n",
    "df.to_csv('/Users/pinchichen/2025S lab/AI drug project/Catpred/Ki/model performance metrics_Catpred_Ki.csv', mode='a', header=False)"
   ]
  },
  {
   "cell_type": "code",
   "execution_count": 22,
   "metadata": {},
   "outputs": [
    {
     "ename": "NameError",
     "evalue": "name 'model_2' is not defined",
     "output_type": "error",
     "traceback": [
      "\u001b[0;31m---------------------------------------------------------------------------\u001b[0m",
      "\u001b[0;31mNameError\u001b[0m                                 Traceback (most recent call last)",
      "Cell \u001b[0;32mIn[22], line 4\u001b[0m\n\u001b[1;32m      2\u001b[0m save_dir \u001b[38;5;241m=\u001b[39m \u001b[38;5;124m'\u001b[39m\u001b[38;5;124m/Users/pinchichen/2025S lab/AI drug project/Catpred/Ki/trained_model/cold_mols\u001b[39m\u001b[38;5;124m'\u001b[39m\n\u001b[1;32m      3\u001b[0m \u001b[38;5;66;03m# save model weights and optimizer state\u001b[39;00m\n\u001b[0;32m----> 4\u001b[0m torch\u001b[38;5;241m.\u001b[39msave(model_2\u001b[38;5;241m.\u001b[39mstate_dict(), os\u001b[38;5;241m.\u001b[39mpath\u001b[38;5;241m.\u001b[39mjoin(save_dir, \u001b[38;5;124m'\u001b[39m\u001b[38;5;124mCNN model_Catpred_Ki_cold_mols.pt\u001b[39m\u001b[38;5;124m'\u001b[39m))\n\u001b[1;32m      5\u001b[0m torch\u001b[38;5;241m.\u001b[39msave(optimizer_2\u001b[38;5;241m.\u001b[39mstate_dict(), os\u001b[38;5;241m.\u001b[39mpath\u001b[38;5;241m.\u001b[39mjoin(save_dir, \u001b[38;5;124m'\u001b[39m\u001b[38;5;124mCNN optimizer_Catpred_Ki_cold_mols.pt\u001b[39m\u001b[38;5;124m'\u001b[39m))\n",
      "\u001b[0;31mNameError\u001b[0m: name 'model_2' is not defined"
     ]
    }
   ],
   "source": [
    "# Save the model and training history\n",
    "save_dir = '/Users/pinchichen/2025S lab/AI drug project/Catpred/Ki/trained_model/cold_mols'\n",
    "# save model weights and optimizer state\n",
    "torch.save(model_2.state_dict(), os.path.join(save_dir, 'CNN model_Catpred_Ki_cold_mols.pt'))\n",
    "torch.save(optimizer_2.state_dict(), os.path.join(save_dir, 'CNN optimizer_Catpred_Ki_cold_mols.pt'))\n"
   ]
  },
  {
   "cell_type": "code",
   "execution_count": 15,
   "metadata": {},
   "outputs": [
    {
     "data": {
      "text/html": [
       "<div>\n",
       "<style scoped>\n",
       "    .dataframe tbody tr th:only-of-type {\n",
       "        vertical-align: middle;\n",
       "    }\n",
       "\n",
       "    .dataframe tbody tr th {\n",
       "        vertical-align: top;\n",
       "    }\n",
       "\n",
       "    .dataframe thead th {\n",
       "        text-align: right;\n",
       "    }\n",
       "</style>\n",
       "<table border=\"1\" class=\"dataframe\">\n",
       "  <thead>\n",
       "    <tr style=\"text-align: right;\">\n",
       "      <th></th>\n",
       "      <th>epoch</th>\n",
       "      <th>Train Loss</th>\n",
       "      <th>Train MSE</th>\n",
       "      <th>Train MAE</th>\n",
       "      <th>Train RMSE</th>\n",
       "      <th>Train R2</th>\n",
       "      <th>Train Pearson</th>\n",
       "      <th>Train Median_AE</th>\n",
       "      <th>Train Explained_VARVal Loss</th>\n",
       "      <th>Val MSE</th>\n",
       "      <th>Val MAE</th>\n",
       "      <th>Val RMSE</th>\n",
       "      <th>Val R2</th>\n",
       "      <th>Val Pearson</th>\n",
       "      <th>Val Median_AE</th>\n",
       "      <th>Val Explained_VAR</th>\n",
       "      <th>Train Explained_VAR</th>\n",
       "      <th>Val Loss</th>\n",
       "    </tr>\n",
       "  </thead>\n",
       "  <tbody>\n",
       "    <tr>\n",
       "      <th>1995</th>\n",
       "      <td>1996</td>\n",
       "      <td>0.217664</td>\n",
       "      <td>0.217621</td>\n",
       "      <td>0.338339</td>\n",
       "      <td>0.338339</td>\n",
       "      <td>0.946691</td>\n",
       "      <td>0.972981</td>\n",
       "      <td>0.246650</td>\n",
       "      <td>NaN</td>\n",
       "      <td>2.476853</td>\n",
       "      <td>1.230484</td>\n",
       "      <td>1.230484</td>\n",
       "      <td>0.296196</td>\n",
       "      <td>0.606279</td>\n",
       "      <td>1.018483</td>\n",
       "      <td>0.296490</td>\n",
       "      <td>0.946691</td>\n",
       "      <td>2.485878</td>\n",
       "    </tr>\n",
       "    <tr>\n",
       "      <th>1996</th>\n",
       "      <td>1997</td>\n",
       "      <td>0.222534</td>\n",
       "      <td>0.222569</td>\n",
       "      <td>0.345855</td>\n",
       "      <td>0.345855</td>\n",
       "      <td>0.945479</td>\n",
       "      <td>0.972357</td>\n",
       "      <td>0.256850</td>\n",
       "      <td>NaN</td>\n",
       "      <td>2.580579</td>\n",
       "      <td>1.261273</td>\n",
       "      <td>1.261273</td>\n",
       "      <td>0.266721</td>\n",
       "      <td>0.612373</td>\n",
       "      <td>1.034485</td>\n",
       "      <td>0.270079</td>\n",
       "      <td>0.945479</td>\n",
       "      <td>2.588988</td>\n",
       "    </tr>\n",
       "    <tr>\n",
       "      <th>1997</th>\n",
       "      <td>1998</td>\n",
       "      <td>0.219894</td>\n",
       "      <td>0.219853</td>\n",
       "      <td>0.337746</td>\n",
       "      <td>0.337746</td>\n",
       "      <td>0.946144</td>\n",
       "      <td>0.972700</td>\n",
       "      <td>0.246922</td>\n",
       "      <td>NaN</td>\n",
       "      <td>2.574374</td>\n",
       "      <td>1.260230</td>\n",
       "      <td>1.260230</td>\n",
       "      <td>0.268484</td>\n",
       "      <td>0.614281</td>\n",
       "      <td>1.021307</td>\n",
       "      <td>0.269887</td>\n",
       "      <td>0.946144</td>\n",
       "      <td>2.582552</td>\n",
       "    </tr>\n",
       "    <tr>\n",
       "      <th>1998</th>\n",
       "      <td>1999</td>\n",
       "      <td>0.226180</td>\n",
       "      <td>0.226251</td>\n",
       "      <td>0.343957</td>\n",
       "      <td>0.343957</td>\n",
       "      <td>0.944577</td>\n",
       "      <td>0.971894</td>\n",
       "      <td>0.250105</td>\n",
       "      <td>NaN</td>\n",
       "      <td>2.530268</td>\n",
       "      <td>1.240952</td>\n",
       "      <td>1.240952</td>\n",
       "      <td>0.281017</td>\n",
       "      <td>0.609656</td>\n",
       "      <td>1.020616</td>\n",
       "      <td>0.281018</td>\n",
       "      <td>0.944578</td>\n",
       "      <td>2.539050</td>\n",
       "    </tr>\n",
       "    <tr>\n",
       "      <th>1999</th>\n",
       "      <td>2000</td>\n",
       "      <td>0.222102</td>\n",
       "      <td>0.222160</td>\n",
       "      <td>0.341812</td>\n",
       "      <td>0.341812</td>\n",
       "      <td>0.945579</td>\n",
       "      <td>0.972410</td>\n",
       "      <td>0.246497</td>\n",
       "      <td>NaN</td>\n",
       "      <td>2.523121</td>\n",
       "      <td>1.246355</td>\n",
       "      <td>1.246355</td>\n",
       "      <td>0.283048</td>\n",
       "      <td>0.608211</td>\n",
       "      <td>1.029710</td>\n",
       "      <td>0.283078</td>\n",
       "      <td>0.945579</td>\n",
       "      <td>2.531769</td>\n",
       "    </tr>\n",
       "  </tbody>\n",
       "</table>\n",
       "</div>"
      ],
      "text/plain": [
       "     epoch  Train Loss  Train MSE  Train MAE  Train RMSE  Train R2  \\\n",
       "1995  1996    0.217664   0.217621   0.338339    0.338339  0.946691   \n",
       "1996  1997    0.222534   0.222569   0.345855    0.345855  0.945479   \n",
       "1997  1998    0.219894   0.219853   0.337746    0.337746  0.946144   \n",
       "1998  1999    0.226180   0.226251   0.343957    0.343957  0.944577   \n",
       "1999  2000    0.222102   0.222160   0.341812    0.341812  0.945579   \n",
       "\n",
       "      Train Pearson  Train Median_AE Train Explained_VARVal Loss   Val MSE  \\\n",
       "1995       0.972981         0.246650                         NaN  2.476853   \n",
       "1996       0.972357         0.256850                         NaN  2.580579   \n",
       "1997       0.972700         0.246922                         NaN  2.574374   \n",
       "1998       0.971894         0.250105                         NaN  2.530268   \n",
       "1999       0.972410         0.246497                         NaN  2.523121   \n",
       "\n",
       "       Val MAE  Val RMSE    Val R2  Val Pearson  Val Median_AE  \\\n",
       "1995  1.230484  1.230484  0.296196     0.606279       1.018483   \n",
       "1996  1.261273  1.261273  0.266721     0.612373       1.034485   \n",
       "1997  1.260230  1.260230  0.268484     0.614281       1.021307   \n",
       "1998  1.240952  1.240952  0.281017     0.609656       1.020616   \n",
       "1999  1.246355  1.246355  0.283048     0.608211       1.029710   \n",
       "\n",
       "      Val Explained_VAR  Train Explained_VAR  Val Loss  \n",
       "1995           0.296490             0.946691  2.485878  \n",
       "1996           0.270079             0.945479  2.588988  \n",
       "1997           0.269887             0.946144  2.582552  \n",
       "1998           0.281018             0.944578  2.539050  \n",
       "1999           0.283078             0.945579  2.531769  "
      ]
     },
     "execution_count": 15,
     "metadata": {},
     "output_type": "execute_result"
    }
   ],
   "source": [
    "train_history.tail()"
   ]
  }
 ],
 "metadata": {
  "kernelspec": {
   "display_name": "base",
   "language": "python",
   "name": "python3"
  },
  "language_info": {
   "codemirror_mode": {
    "name": "ipython",
    "version": 3
   },
   "file_extension": ".py",
   "mimetype": "text/x-python",
   "name": "python",
   "nbconvert_exporter": "python",
   "pygments_lexer": "ipython3",
   "version": "3.12.2"
  }
 },
 "nbformat": 4,
 "nbformat_minor": 2
}
