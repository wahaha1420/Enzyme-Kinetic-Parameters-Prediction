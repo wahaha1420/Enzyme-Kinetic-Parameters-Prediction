{
 "cells": [
  {
   "cell_type": "code",
   "execution_count": 1,
   "metadata": {},
   "outputs": [],
   "source": [
    "import pandas as pd\n",
    "import numpy as np\n",
    "from tqdm import tqdm\n",
    "import torch\n",
    "import torch.nn as nn\n",
    "import torch.optim as optim\n",
    "from torch.utils.data import DataLoader, Dataset\n",
    "from sklearn.metrics import roc_auc_score\n",
    "from sklearn.model_selection import train_test_split\n",
    "import os\n"
   ]
  },
  {
   "cell_type": "code",
   "execution_count": 2,
   "metadata": {},
   "outputs": [
    {
     "data": {
      "text/html": [
       "<div>\n",
       "<style scoped>\n",
       "    .dataframe tbody tr th:only-of-type {\n",
       "        vertical-align: middle;\n",
       "    }\n",
       "\n",
       "    .dataframe tbody tr th {\n",
       "        vertical-align: top;\n",
       "    }\n",
       "\n",
       "    .dataframe thead th {\n",
       "        text-align: right;\n",
       "    }\n",
       "</style>\n",
       "<table border=\"1\" class=\"dataframe\">\n",
       "  <thead>\n",
       "    <tr style=\"text-align: right;\">\n",
       "      <th></th>\n",
       "      <th>Sequence</th>\n",
       "      <th>sequence_source</th>\n",
       "      <th>uniprot</th>\n",
       "      <th>Smiles</th>\n",
       "      <th>value</th>\n",
       "      <th>ec</th>\n",
       "      <th>log10_value</th>\n",
       "      <th>log10ki_mean</th>\n",
       "      <th>metabolite_features</th>\n",
       "      <th>protein_features</th>\n",
       "    </tr>\n",
       "  </thead>\n",
       "  <tbody>\n",
       "    <tr>\n",
       "      <th>0</th>\n",
       "      <td>MHTKGPTPQQHDGSALRIGIVHARWNETIIEPLLAGTKAKLLACGV...</td>\n",
       "      <td>uniprot_search</td>\n",
       "      <td>A0A6P8BCR9</td>\n",
       "      <td>O=c1n(C[C@H](O)[C@H](O)[C@H](O)CO)c2nc(O)nc(O)...</td>\n",
       "      <td>0.000002</td>\n",
       "      <td>2.5.1.78</td>\n",
       "      <td>-5.698970</td>\n",
       "      <td>-5.698970</td>\n",
       "      <td>[0.17249086, -0.23665705, -0.11737049, -0.0940...</td>\n",
       "      <td>[0.026722027, -0.06119407, 0.041440543, -0.109...</td>\n",
       "    </tr>\n",
       "    <tr>\n",
       "      <th>1</th>\n",
       "      <td>MASPDWGYDDKNGPEQWSKLYPIANGNNQSPVDIKTSETKHDTSLK...</td>\n",
       "      <td>brenda</td>\n",
       "      <td>P00915</td>\n",
       "      <td>CN1CCN(C(=O)c2ccc(S(N)(=O)=O)cc2)[C@@H](Cc2ccc...</td>\n",
       "      <td>0.000707</td>\n",
       "      <td>4.2.1.1</td>\n",
       "      <td>-3.150581</td>\n",
       "      <td>-3.150581</td>\n",
       "      <td>[0.4240491, 0.28231123, 0.2642891, -0.7667821,...</td>\n",
       "      <td>[-0.029181704, -0.12635791, 0.10866662, 0.0339...</td>\n",
       "    </tr>\n",
       "    <tr>\n",
       "      <th>2</th>\n",
       "      <td>MLDDIRGFMNTFSETMFMDVINYSLTRDRYDSVFLQRQNYRDLGQL...</td>\n",
       "      <td>brenda</td>\n",
       "      <td>Q9HLD0</td>\n",
       "      <td>C[C@H]1O[C@H](O[C@H]2[C@H](O)[C@@H](O)[C@@H](O...</td>\n",
       "      <td>0.002990</td>\n",
       "      <td>3.2.1.20</td>\n",
       "      <td>-2.524329</td>\n",
       "      <td>-2.524329</td>\n",
       "      <td>[0.50005734, 0.3923428, 0.064121775, -0.635894...</td>\n",
       "      <td>[0.02874529, -0.17312695, -0.0026887748, 0.035...</td>\n",
       "    </tr>\n",
       "    <tr>\n",
       "      <th>3</th>\n",
       "      <td>MKLMENIFDLAKANKKKIVLAEGEEERNIRASEEIIKDGIADIILV...</td>\n",
       "      <td>uniprot_search</td>\n",
       "      <td>A0A1L5F6Z9</td>\n",
       "      <td>CCN=C(O)CCN=C(O)[C@H](O)C(C)(C)COP(=O)(O)OP(=O...</td>\n",
       "      <td>0.020000</td>\n",
       "      <td>2.3.1.8</td>\n",
       "      <td>-1.698970</td>\n",
       "      <td>-1.698970</td>\n",
       "      <td>[0.28353548, 0.018489605, -0.5459905, -0.34693...</td>\n",
       "      <td>[-0.06555556, 0.04763434, 0.031432115, 0.17143...</td>\n",
       "    </tr>\n",
       "    <tr>\n",
       "      <th>4</th>\n",
       "      <td>MAKRIVEPFRIKMVEKIRVPSREEREAALKEAGYNPFLLPSSAVYI...</td>\n",
       "      <td>sabio</td>\n",
       "      <td>P28796</td>\n",
       "      <td>CC(N)C(=O)O</td>\n",
       "      <td>24.500000</td>\n",
       "      <td>4.1.99.1</td>\n",
       "      <td>1.389166</td>\n",
       "      <td>1.419631</td>\n",
       "      <td>[0.051456872, 0.35619217, 0.10593035, -1.04098...</td>\n",
       "      <td>[0.049294557, -0.043596543, 0.0546125, 0.35600...</td>\n",
       "    </tr>\n",
       "  </tbody>\n",
       "</table>\n",
       "</div>"
      ],
      "text/plain": [
       "                                            Sequence sequence_source  \\\n",
       "0  MHTKGPTPQQHDGSALRIGIVHARWNETIIEPLLAGTKAKLLACGV...  uniprot_search   \n",
       "1  MASPDWGYDDKNGPEQWSKLYPIANGNNQSPVDIKTSETKHDTSLK...          brenda   \n",
       "2  MLDDIRGFMNTFSETMFMDVINYSLTRDRYDSVFLQRQNYRDLGQL...          brenda   \n",
       "3  MKLMENIFDLAKANKKKIVLAEGEEERNIRASEEIIKDGIADIILV...  uniprot_search   \n",
       "4  MAKRIVEPFRIKMVEKIRVPSREEREAALKEAGYNPFLLPSSAVYI...           sabio   \n",
       "\n",
       "      uniprot                                             Smiles      value  \\\n",
       "0  A0A6P8BCR9  O=c1n(C[C@H](O)[C@H](O)[C@H](O)CO)c2nc(O)nc(O)...   0.000002   \n",
       "1      P00915  CN1CCN(C(=O)c2ccc(S(N)(=O)=O)cc2)[C@@H](Cc2ccc...   0.000707   \n",
       "2      Q9HLD0  C[C@H]1O[C@H](O[C@H]2[C@H](O)[C@@H](O)[C@@H](O...   0.002990   \n",
       "3  A0A1L5F6Z9  CCN=C(O)CCN=C(O)[C@H](O)C(C)(C)COP(=O)(O)OP(=O...   0.020000   \n",
       "4      P28796                                        CC(N)C(=O)O  24.500000   \n",
       "\n",
       "         ec  log10_value  log10ki_mean  \\\n",
       "0  2.5.1.78    -5.698970     -5.698970   \n",
       "1   4.2.1.1    -3.150581     -3.150581   \n",
       "2  3.2.1.20    -2.524329     -2.524329   \n",
       "3   2.3.1.8    -1.698970     -1.698970   \n",
       "4  4.1.99.1     1.389166      1.419631   \n",
       "\n",
       "                                 metabolite_features  \\\n",
       "0  [0.17249086, -0.23665705, -0.11737049, -0.0940...   \n",
       "1  [0.4240491, 0.28231123, 0.2642891, -0.7667821,...   \n",
       "2  [0.50005734, 0.3923428, 0.064121775, -0.635894...   \n",
       "3  [0.28353548, 0.018489605, -0.5459905, -0.34693...   \n",
       "4  [0.051456872, 0.35619217, 0.10593035, -1.04098...   \n",
       "\n",
       "                                    protein_features  \n",
       "0  [0.026722027, -0.06119407, 0.041440543, -0.109...  \n",
       "1  [-0.029181704, -0.12635791, 0.10866662, 0.0339...  \n",
       "2  [0.02874529, -0.17312695, -0.0026887748, 0.035...  \n",
       "3  [-0.06555556, 0.04763434, 0.031432115, 0.17143...  \n",
       "4  [0.049294557, -0.043596543, 0.0546125, 0.35600...  "
      ]
     },
     "execution_count": 2,
     "metadata": {},
     "output_type": "execute_result"
    }
   ],
   "source": [
    "import joblib\n",
    "import pandas as pd\n",
    "\n",
    "data_ki = joblib.load('/Users/pinchichen/2025S lab/AI drug project/Catpred/dataset/ki/ki_with_features.joblib')\n",
    "data_ki.head()"
   ]
  },
  {
   "cell_type": "code",
   "execution_count": 3,
   "metadata": {},
   "outputs": [
    {
     "data": {
      "text/html": [
       "<div>\n",
       "<style scoped>\n",
       "    .dataframe tbody tr th:only-of-type {\n",
       "        vertical-align: middle;\n",
       "    }\n",
       "\n",
       "    .dataframe tbody tr th {\n",
       "        vertical-align: top;\n",
       "    }\n",
       "\n",
       "    .dataframe thead th {\n",
       "        text-align: right;\n",
       "    }\n",
       "</style>\n",
       "<table border=\"1\" class=\"dataframe\">\n",
       "  <thead>\n",
       "    <tr style=\"text-align: right;\">\n",
       "      <th></th>\n",
       "      <th>Sequence</th>\n",
       "      <th>sequence_source</th>\n",
       "      <th>uniprot</th>\n",
       "      <th>Smiles</th>\n",
       "      <th>value</th>\n",
       "      <th>ec</th>\n",
       "      <th>log10_value</th>\n",
       "      <th>label</th>\n",
       "      <th>metabolite_features</th>\n",
       "      <th>protein_features</th>\n",
       "    </tr>\n",
       "  </thead>\n",
       "  <tbody>\n",
       "    <tr>\n",
       "      <th>0</th>\n",
       "      <td>MHTKGPTPQQHDGSALRIGIVHARWNETIIEPLLAGTKAKLLACGV...</td>\n",
       "      <td>uniprot_search</td>\n",
       "      <td>A0A6P8BCR9</td>\n",
       "      <td>O=c1n(C[C@H](O)[C@H](O)[C@H](O)CO)c2nc(O)nc(O)...</td>\n",
       "      <td>0.000002</td>\n",
       "      <td>2.5.1.78</td>\n",
       "      <td>-5.698970</td>\n",
       "      <td>-5.698970</td>\n",
       "      <td>[0.17249086, -0.23665705, -0.11737049, -0.0940...</td>\n",
       "      <td>[0.026722027, -0.06119407, 0.041440543, -0.109...</td>\n",
       "    </tr>\n",
       "    <tr>\n",
       "      <th>1</th>\n",
       "      <td>MASPDWGYDDKNGPEQWSKLYPIANGNNQSPVDIKTSETKHDTSLK...</td>\n",
       "      <td>brenda</td>\n",
       "      <td>P00915</td>\n",
       "      <td>CN1CCN(C(=O)c2ccc(S(N)(=O)=O)cc2)[C@@H](Cc2ccc...</td>\n",
       "      <td>0.000707</td>\n",
       "      <td>4.2.1.1</td>\n",
       "      <td>-3.150581</td>\n",
       "      <td>-3.150581</td>\n",
       "      <td>[0.4240491, 0.28231123, 0.2642891, -0.7667821,...</td>\n",
       "      <td>[-0.029181704, -0.12635791, 0.10866662, 0.0339...</td>\n",
       "    </tr>\n",
       "    <tr>\n",
       "      <th>2</th>\n",
       "      <td>MLDDIRGFMNTFSETMFMDVINYSLTRDRYDSVFLQRQNYRDLGQL...</td>\n",
       "      <td>brenda</td>\n",
       "      <td>Q9HLD0</td>\n",
       "      <td>C[C@H]1O[C@H](O[C@H]2[C@H](O)[C@@H](O)[C@@H](O...</td>\n",
       "      <td>0.002990</td>\n",
       "      <td>3.2.1.20</td>\n",
       "      <td>-2.524329</td>\n",
       "      <td>-2.524329</td>\n",
       "      <td>[0.50005734, 0.3923428, 0.064121775, -0.635894...</td>\n",
       "      <td>[0.02874529, -0.17312695, -0.0026887748, 0.035...</td>\n",
       "    </tr>\n",
       "    <tr>\n",
       "      <th>3</th>\n",
       "      <td>MKLMENIFDLAKANKKKIVLAEGEEERNIRASEEIIKDGIADIILV...</td>\n",
       "      <td>uniprot_search</td>\n",
       "      <td>A0A1L5F6Z9</td>\n",
       "      <td>CCN=C(O)CCN=C(O)[C@H](O)C(C)(C)COP(=O)(O)OP(=O...</td>\n",
       "      <td>0.020000</td>\n",
       "      <td>2.3.1.8</td>\n",
       "      <td>-1.698970</td>\n",
       "      <td>-1.698970</td>\n",
       "      <td>[0.28353548, 0.018489605, -0.5459905, -0.34693...</td>\n",
       "      <td>[-0.06555556, 0.04763434, 0.031432115, 0.17143...</td>\n",
       "    </tr>\n",
       "    <tr>\n",
       "      <th>4</th>\n",
       "      <td>MAKRIVEPFRIKMVEKIRVPSREEREAALKEAGYNPFLLPSSAVYI...</td>\n",
       "      <td>sabio</td>\n",
       "      <td>P28796</td>\n",
       "      <td>CC(N)C(=O)O</td>\n",
       "      <td>24.500000</td>\n",
       "      <td>4.1.99.1</td>\n",
       "      <td>1.389166</td>\n",
       "      <td>1.419631</td>\n",
       "      <td>[0.051456872, 0.35619217, 0.10593035, -1.04098...</td>\n",
       "      <td>[0.049294557, -0.043596543, 0.0546125, 0.35600...</td>\n",
       "    </tr>\n",
       "  </tbody>\n",
       "</table>\n",
       "</div>"
      ],
      "text/plain": [
       "                                            Sequence sequence_source  \\\n",
       "0  MHTKGPTPQQHDGSALRIGIVHARWNETIIEPLLAGTKAKLLACGV...  uniprot_search   \n",
       "1  MASPDWGYDDKNGPEQWSKLYPIANGNNQSPVDIKTSETKHDTSLK...          brenda   \n",
       "2  MLDDIRGFMNTFSETMFMDVINYSLTRDRYDSVFLQRQNYRDLGQL...          brenda   \n",
       "3  MKLMENIFDLAKANKKKIVLAEGEEERNIRASEEIIKDGIADIILV...  uniprot_search   \n",
       "4  MAKRIVEPFRIKMVEKIRVPSREEREAALKEAGYNPFLLPSSAVYI...           sabio   \n",
       "\n",
       "      uniprot                                             Smiles      value  \\\n",
       "0  A0A6P8BCR9  O=c1n(C[C@H](O)[C@H](O)[C@H](O)CO)c2nc(O)nc(O)...   0.000002   \n",
       "1      P00915  CN1CCN(C(=O)c2ccc(S(N)(=O)=O)cc2)[C@@H](Cc2ccc...   0.000707   \n",
       "2      Q9HLD0  C[C@H]1O[C@H](O[C@H]2[C@H](O)[C@@H](O)[C@@H](O...   0.002990   \n",
       "3  A0A1L5F6Z9  CCN=C(O)CCN=C(O)[C@H](O)C(C)(C)COP(=O)(O)OP(=O...   0.020000   \n",
       "4      P28796                                        CC(N)C(=O)O  24.500000   \n",
       "\n",
       "         ec  log10_value     label  \\\n",
       "0  2.5.1.78    -5.698970 -5.698970   \n",
       "1   4.2.1.1    -3.150581 -3.150581   \n",
       "2  3.2.1.20    -2.524329 -2.524329   \n",
       "3   2.3.1.8    -1.698970 -1.698970   \n",
       "4  4.1.99.1     1.389166  1.419631   \n",
       "\n",
       "                                 metabolite_features  \\\n",
       "0  [0.17249086, -0.23665705, -0.11737049, -0.0940...   \n",
       "1  [0.4240491, 0.28231123, 0.2642891, -0.7667821,...   \n",
       "2  [0.50005734, 0.3923428, 0.064121775, -0.635894...   \n",
       "3  [0.28353548, 0.018489605, -0.5459905, -0.34693...   \n",
       "4  [0.051456872, 0.35619217, 0.10593035, -1.04098...   \n",
       "\n",
       "                                    protein_features  \n",
       "0  [0.026722027, -0.06119407, 0.041440543, -0.109...  \n",
       "1  [-0.029181704, -0.12635791, 0.10866662, 0.0339...  \n",
       "2  [0.02874529, -0.17312695, -0.0026887748, 0.035...  \n",
       "3  [-0.06555556, 0.04763434, 0.031432115, 0.17143...  \n",
       "4  [0.049294557, -0.043596543, 0.0546125, 0.35600...  "
      ]
     },
     "execution_count": 3,
     "metadata": {},
     "output_type": "execute_result"
    }
   ],
   "source": [
    "data_ki.rename(columns={'log10ki_mean':'label'},inplace=True)\n",
    "data_ki.head()"
   ]
  },
  {
   "cell_type": "code",
   "execution_count": 4,
   "metadata": {},
   "outputs": [],
   "source": [
    "# Define dataset\n",
    "class MPI_Dataset(Dataset):\n",
    "    def __init__(self, dataframe):\n",
    "        self.dataframe = dataframe\n",
    "\n",
    "    def __len__(self):\n",
    "        return len(self.dataframe)\n",
    "\n",
    "    def __getitem__(self, idx):\n",
    "        row = self.dataframe.iloc[idx]\n",
    "        return {\n",
    "            'metabolite_features': torch.tensor(np.asarray(row['metabolite_features'], dtype=np.float32)),\n",
    "            'protein_features': torch.tensor(np.asarray(row['protein_features'], dtype=np.float32)),\n",
    "            'label': torch.tensor(float(row['label']), dtype=torch.float32),\n",
    "        }"
   ]
  },
  {
   "cell_type": "code",
   "execution_count": 5,
   "metadata": {},
   "outputs": [],
   "source": [
    "# Separate the dataset by unique proteins and drugs\n",
    "unique_proteins = data_ki['Sequence'].unique()\n",
    "unique_mols = data_ki['Smiles'].unique()\n",
    "# Set the seed for reproducibility\n",
    "torch.manual_seed(42)\n",
    "# Function to perform a cold split\n",
    "def cold_split(unique_items, test_size=0.2, val_size=0.1):\n",
    "    train_items, test_items = train_test_split(unique_items, test_size=test_size, random_state=42)\n",
    "    train_items, val_items = train_test_split(train_items, test_size=val_size / (1 - test_size), random_state=42)\n",
    "    return train_items, val_items, test_items\n",
    "# Cold split by proteins\n",
    "train_proteins, val_proteins, test_proteins = cold_split(unique_proteins)\n",
    "train_cold_protein = data_ki[data_ki['Sequence'].isin(train_proteins)]\n",
    "val_cold_protein = data_ki[data_ki['Sequence'].isin(val_proteins)]\n",
    "test_cold_protein = data_ki[data_ki['Sequence'].isin(test_proteins)]\n",
    "# Cold split by molecules\n",
    "train_mols, val_mols, test_mols = cold_split(unique_mols)\n",
    "train_cold_mols = data_ki[data_ki['Smiles'].isin(train_mols)]\n",
    "val_cold_mols = data_ki[data_ki['Smiles'].isin(val_mols)]\n",
    "test_cold_mols = data_ki[data_ki['Smiles'].isin(test_mols)]"
   ]
  },
  {
   "cell_type": "code",
   "execution_count": 6,
   "metadata": {},
   "outputs": [],
   "source": [
    "# cold protein\n",
    "train_dataset = MPI_Dataset(train_cold_protein)\n",
    "val_dataset = MPI_Dataset(val_cold_protein)\n",
    "test_dataset = MPI_Dataset(test_cold_protein)\n",
    "\n",
    "train_loader = DataLoader(train_dataset, batch_size=32, shuffle=True)\n",
    "val_loader = DataLoader(val_dataset, batch_size=32)\n",
    "test_loader = DataLoader(test_dataset, batch_size=32)\n",
    "\n",
    "# cold mols\n",
    "train_dataset_mols = MPI_Dataset(train_cold_mols)\n",
    "val_dataset_mols = MPI_Dataset(val_cold_mols)\n",
    "test_dataset_mols = MPI_Dataset(test_cold_mols)\n",
    "\n",
    "train_loader_mols = DataLoader(train_dataset_mols, batch_size=32, shuffle=True)\n",
    "val_loader_mols = DataLoader(val_dataset_mols, batch_size=32)\n",
    "test_loader_mols = DataLoader(test_dataset_mols, batch_size=32)"
   ]
  },
  {
   "cell_type": "code",
   "execution_count": 7,
   "metadata": {},
   "outputs": [],
   "source": [
    "import torch.nn as nn\n",
    "import torch\n",
    "import torch.nn.functional as F\n",
    "\n",
    "# Define MLP Model for Regression\n",
    "class MLPRegressor(nn.Module):\n",
    "    def __init__(self, mol_input_dim, protein_input_dim, hidden_dim=512):\n",
    "        super(MLPRegressor, self).__init__()\n",
    "\n",
    "        self.mol_encoder = nn.Linear(mol_input_dim, hidden_dim)\n",
    "        self.protein_encoder = nn.Linear(protein_input_dim, hidden_dim)\n",
    "        \n",
    "        # norm layer + Dropout\n",
    "        self.layer_norm = nn.LayerNorm(hidden_dim * 2)\n",
    "        self.dropout = nn.Dropout(0.3)\n",
    "\n",
    "        # hidden layer + output layer\n",
    "        self.hidden = nn.Linear(hidden_dim * 2, hidden_dim)\n",
    "        self.regressor = nn.Linear(hidden_dim, 1)\n",
    "\n",
    "        self.activation = nn.ReLU()\n",
    "\n",
    "    def forward(self, mol_input, protein_input):\n",
    "        # Reshape to (B, 1, L) for Conv1d\n",
    "        mol_embedding = self.activation(self.mol_encoder(mol_input))\n",
    "        protein_embedding = self.activation(self.protein_encoder(protein_input))\n",
    "\n",
    "        # Concatenate + Normalize + Dropout\n",
    "        combined = torch.cat((mol_embedding, protein_embedding), dim=-1)\n",
    "        combined = self.layer_norm(combined)\n",
    "        combined = self.dropout(combined)\n",
    "\n",
    "        # Hidden → Regress\n",
    "        hidden_out = self.activation(self.hidden(combined))\n",
    "        output = self.regressor(hidden_out)\n",
    "\n",
    "        return output.squeeze(1)\n"
   ]
  },
  {
   "cell_type": "code",
   "execution_count": 8,
   "metadata": {},
   "outputs": [],
   "source": [
    "# Check CUDA availability\n",
    "device = torch.device(\"cuda\" if torch.cuda.is_available() else \"cpu\")"
   ]
  },
  {
   "cell_type": "code",
   "execution_count": null,
   "metadata": {},
   "outputs": [
    {
     "name": "stderr",
     "output_type": "stream",
     "text": [
      "Training Epoch 1: 100%|██████████| 259/259 [00:01<00:00, 232.57it/s]\n",
      "/var/folders/yz/c1z6m9_d5d3f80sywjc3rqsc0000gn/T/ipykernel_58123/3478497585.py:92: FutureWarning: The behavior of DataFrame concatenation with empty or all-NA entries is deprecated. In a future version, this will no longer exclude empty or all-NA columns when determining the result dtypes. To retain the old behavior, exclude the relevant entries before the concat operation.\n",
      "  train_history = pd.concat([train_history, pd.DataFrame([new_row])], ignore_index=True)\n"
     ]
    },
    {
     "name": "stdout",
     "output_type": "stream",
     "text": [
      "Epoch 0 - Train Loss: 2.7767, Train MSE: 2.7775, Train MAE: 1.3111\n",
      "Epoch 0 - Validation Loss: 2.4349, Validation MSE: 2.4291, Validation MAE: 1.2222\n"
     ]
    },
    {
     "name": "stderr",
     "output_type": "stream",
     "text": [
      "Training Epoch 2: 100%|██████████| 259/259 [00:00<00:00, 264.37it/s]\n",
      "Training Epoch 3: 100%|██████████| 259/259 [00:01<00:00, 214.38it/s]\n",
      "Training Epoch 4: 100%|██████████| 259/259 [00:01<00:00, 245.74it/s]\n",
      "Training Epoch 5: 100%|██████████| 259/259 [00:01<00:00, 245.13it/s]\n",
      "Training Epoch 6: 100%|██████████| 259/259 [00:01<00:00, 258.79it/s]\n",
      "Training Epoch 7: 100%|██████████| 259/259 [00:01<00:00, 258.89it/s]\n",
      "Training Epoch 8: 100%|██████████| 259/259 [00:00<00:00, 265.66it/s]\n",
      "Training Epoch 9: 100%|██████████| 259/259 [00:00<00:00, 267.62it/s]\n",
      "Training Epoch 10: 100%|██████████| 259/259 [00:01<00:00, 249.87it/s]\n",
      "Training Epoch 11: 100%|██████████| 259/259 [00:01<00:00, 250.24it/s]\n"
     ]
    },
    {
     "name": "stdout",
     "output_type": "stream",
     "text": [
      "Epoch 10 - Train Loss: 1.4729, Train MSE: 1.4719, Train MAE: 0.9360\n",
      "Epoch 10 - Validation Loss: 2.1315, Validation MSE: 2.1281, Validation MAE: 1.1624\n"
     ]
    },
    {
     "name": "stderr",
     "output_type": "stream",
     "text": [
      "Training Epoch 12: 100%|██████████| 259/259 [00:01<00:00, 251.78it/s]\n",
      "Training Epoch 13: 100%|██████████| 259/259 [00:01<00:00, 252.81it/s]\n",
      "Training Epoch 14: 100%|██████████| 259/259 [00:01<00:00, 240.72it/s]\n",
      "Training Epoch 15: 100%|██████████| 259/259 [00:00<00:00, 259.87it/s]\n",
      "Training Epoch 16: 100%|██████████| 259/259 [00:01<00:00, 240.48it/s]\n",
      "Training Epoch 17: 100%|██████████| 259/259 [00:01<00:00, 204.92it/s]\n",
      "Training Epoch 18: 100%|██████████| 259/259 [00:00<00:00, 262.33it/s]\n",
      "Training Epoch 19: 100%|██████████| 259/259 [00:01<00:00, 242.30it/s]\n",
      "Training Epoch 20: 100%|██████████| 259/259 [00:01<00:00, 255.57it/s]\n",
      "Training Epoch 21: 100%|██████████| 259/259 [00:01<00:00, 258.34it/s]\n"
     ]
    },
    {
     "name": "stdout",
     "output_type": "stream",
     "text": [
      "Epoch 20 - Train Loss: 1.0417, Train MSE: 1.0411, Train MAE: 0.7903\n",
      "Epoch 20 - Validation Loss: 2.2220, Validation MSE: 2.2185, Validation MAE: 1.1616\n"
     ]
    },
    {
     "name": "stderr",
     "output_type": "stream",
     "text": [
      "Training Epoch 22: 100%|██████████| 259/259 [00:01<00:00, 241.64it/s]\n",
      "Training Epoch 23: 100%|██████████| 259/259 [00:01<00:00, 240.07it/s]\n",
      "Training Epoch 24: 100%|██████████| 259/259 [00:01<00:00, 239.36it/s]\n",
      "Training Epoch 25: 100%|██████████| 259/259 [00:01<00:00, 257.53it/s]\n",
      "Training Epoch 26: 100%|██████████| 259/259 [00:01<00:00, 251.92it/s]\n",
      "Training Epoch 27: 100%|██████████| 259/259 [00:01<00:00, 253.68it/s]\n",
      "Training Epoch 28: 100%|██████████| 259/259 [00:00<00:00, 260.49it/s]\n",
      "Training Epoch 29: 100%|██████████| 259/259 [00:01<00:00, 246.44it/s]\n",
      "Training Epoch 30: 100%|██████████| 259/259 [00:00<00:00, 259.17it/s]\n",
      "Training Epoch 31: 100%|██████████| 259/259 [00:01<00:00, 236.32it/s]\n"
     ]
    },
    {
     "name": "stdout",
     "output_type": "stream",
     "text": [
      "Epoch 30 - Train Loss: 0.7976, Train MSE: 0.7971, Train MAE: 0.6859\n",
      "Epoch 30 - Validation Loss: 2.1478, Validation MSE: 2.1411, Validation MAE: 1.1567\n"
     ]
    },
    {
     "name": "stderr",
     "output_type": "stream",
     "text": [
      "Training Epoch 32: 100%|██████████| 259/259 [00:01<00:00, 248.49it/s]\n",
      "Training Epoch 33: 100%|██████████| 259/259 [00:01<00:00, 255.17it/s]\n",
      "Training Epoch 34: 100%|██████████| 259/259 [00:01<00:00, 243.16it/s]\n",
      "Training Epoch 35: 100%|██████████| 259/259 [00:01<00:00, 249.47it/s]\n",
      "Training Epoch 36: 100%|██████████| 259/259 [00:01<00:00, 253.72it/s]\n",
      "Training Epoch 37: 100%|██████████| 259/259 [00:01<00:00, 250.44it/s]\n",
      "Training Epoch 38: 100%|██████████| 259/259 [00:01<00:00, 184.00it/s]\n",
      "Training Epoch 39: 100%|██████████| 259/259 [00:01<00:00, 167.22it/s]\n",
      "Training Epoch 40: 100%|██████████| 259/259 [00:01<00:00, 194.07it/s]\n",
      "Training Epoch 41: 100%|██████████| 259/259 [00:00<00:00, 262.77it/s]\n"
     ]
    },
    {
     "name": "stdout",
     "output_type": "stream",
     "text": [
      "Epoch 40 - Train Loss: 0.6573, Train MSE: 0.6571, Train MAE: 0.6224\n",
      "Epoch 40 - Validation Loss: 2.1038, Validation MSE: 2.1000, Validation MAE: 1.1393\n"
     ]
    },
    {
     "name": "stderr",
     "output_type": "stream",
     "text": [
      "Training Epoch 42: 100%|██████████| 259/259 [00:01<00:00, 251.73it/s]\n",
      "Training Epoch 43: 100%|██████████| 259/259 [00:01<00:00, 245.42it/s]\n",
      "Training Epoch 44: 100%|██████████| 259/259 [00:01<00:00, 246.05it/s]\n",
      "Training Epoch 45: 100%|██████████| 259/259 [00:01<00:00, 247.87it/s]\n",
      "Training Epoch 46: 100%|██████████| 259/259 [00:01<00:00, 254.76it/s]\n",
      "Training Epoch 47: 100%|██████████| 259/259 [00:01<00:00, 252.30it/s]\n",
      "Training Epoch 48: 100%|██████████| 259/259 [00:01<00:00, 250.95it/s]\n",
      "Training Epoch 49: 100%|██████████| 259/259 [00:01<00:00, 237.55it/s]\n",
      "Training Epoch 50: 100%|██████████| 259/259 [00:00<00:00, 261.15it/s]\n",
      "Training Epoch 51: 100%|██████████| 259/259 [00:00<00:00, 267.25it/s]\n"
     ]
    },
    {
     "name": "stdout",
     "output_type": "stream",
     "text": [
      "Epoch 50 - Train Loss: 0.5287, Train MSE: 0.5290, Train MAE: 0.5572\n",
      "Epoch 50 - Validation Loss: 2.1918, Validation MSE: 2.1850, Validation MAE: 1.1588\n"
     ]
    },
    {
     "name": "stderr",
     "output_type": "stream",
     "text": [
      "Training Epoch 52: 100%|██████████| 259/259 [00:01<00:00, 244.26it/s]\n",
      "Training Epoch 53: 100%|██████████| 259/259 [00:01<00:00, 256.42it/s]\n",
      "Training Epoch 54: 100%|██████████| 259/259 [00:01<00:00, 239.49it/s]\n",
      "Training Epoch 55: 100%|██████████| 259/259 [00:01<00:00, 252.24it/s]\n",
      "Training Epoch 56: 100%|██████████| 259/259 [00:01<00:00, 216.11it/s]\n",
      "Training Epoch 57: 100%|██████████| 259/259 [00:01<00:00, 250.38it/s]\n",
      "Training Epoch 58: 100%|██████████| 259/259 [00:01<00:00, 238.01it/s]\n",
      "Training Epoch 59: 100%|██████████| 259/259 [00:01<00:00, 233.65it/s]\n",
      "Training Epoch 60: 100%|██████████| 259/259 [00:01<00:00, 237.04it/s]\n",
      "Training Epoch 61: 100%|██████████| 259/259 [00:01<00:00, 210.75it/s]\n"
     ]
    },
    {
     "name": "stdout",
     "output_type": "stream",
     "text": [
      "Epoch 60 - Train Loss: 0.4724, Train MSE: 0.4728, Train MAE: 0.5225\n",
      "Epoch 60 - Validation Loss: 2.1675, Validation MSE: 2.1618, Validation MAE: 1.1480\n"
     ]
    },
    {
     "name": "stderr",
     "output_type": "stream",
     "text": [
      "Training Epoch 62: 100%|██████████| 259/259 [00:01<00:00, 246.70it/s]\n",
      "Training Epoch 63: 100%|██████████| 259/259 [00:01<00:00, 240.48it/s]\n",
      "Training Epoch 64: 100%|██████████| 259/259 [00:01<00:00, 242.91it/s]\n",
      "Training Epoch 65: 100%|██████████| 259/259 [00:00<00:00, 273.86it/s]\n",
      "Training Epoch 66: 100%|██████████| 259/259 [00:00<00:00, 263.96it/s]\n",
      "Training Epoch 67: 100%|██████████| 259/259 [00:00<00:00, 269.96it/s]\n",
      "Training Epoch 68: 100%|██████████| 259/259 [00:01<00:00, 223.11it/s]\n",
      "Training Epoch 69: 100%|██████████| 259/259 [00:01<00:00, 198.80it/s]\n",
      "Training Epoch 70: 100%|██████████| 259/259 [00:01<00:00, 255.89it/s]\n",
      "Training Epoch 71: 100%|██████████| 259/259 [00:00<00:00, 262.19it/s]\n"
     ]
    },
    {
     "name": "stdout",
     "output_type": "stream",
     "text": [
      "Epoch 70 - Train Loss: 0.4270, Train MSE: 0.4268, Train MAE: 0.5018\n",
      "Epoch 70 - Validation Loss: 2.1252, Validation MSE: 2.1184, Validation MAE: 1.1441\n"
     ]
    },
    {
     "name": "stderr",
     "output_type": "stream",
     "text": [
      "Training Epoch 72: 100%|██████████| 259/259 [00:01<00:00, 230.66it/s]\n",
      "Training Epoch 73: 100%|██████████| 259/259 [00:00<00:00, 269.84it/s]\n",
      "Training Epoch 74: 100%|██████████| 259/259 [00:00<00:00, 265.00it/s]\n",
      "Training Epoch 75: 100%|██████████| 259/259 [00:00<00:00, 266.00it/s]\n",
      "Training Epoch 76: 100%|██████████| 259/259 [00:01<00:00, 257.22it/s]\n",
      "Training Epoch 77: 100%|██████████| 259/259 [00:00<00:00, 259.48it/s]\n",
      "Training Epoch 78: 100%|██████████| 259/259 [00:00<00:00, 260.63it/s]\n",
      "Training Epoch 79: 100%|██████████| 259/259 [00:00<00:00, 268.96it/s]\n",
      "Training Epoch 80: 100%|██████████| 259/259 [00:01<00:00, 253.54it/s]\n",
      "Training Epoch 81: 100%|██████████| 259/259 [00:00<00:00, 262.69it/s]\n"
     ]
    },
    {
     "name": "stdout",
     "output_type": "stream",
     "text": [
      "Epoch 80 - Train Loss: 0.3745, Train MSE: 0.3739, Train MAE: 0.4664\n",
      "Epoch 80 - Validation Loss: 2.2480, Validation MSE: 2.2420, Validation MAE: 1.1811\n"
     ]
    },
    {
     "name": "stderr",
     "output_type": "stream",
     "text": [
      "Training Epoch 82: 100%|██████████| 259/259 [00:00<00:00, 263.71it/s]\n",
      "Training Epoch 83: 100%|██████████| 259/259 [00:00<00:00, 268.07it/s]\n",
      "Training Epoch 84: 100%|██████████| 259/259 [00:00<00:00, 269.08it/s]\n",
      "Training Epoch 85: 100%|██████████| 259/259 [00:01<00:00, 241.32it/s]\n",
      "Training Epoch 86: 100%|██████████| 259/259 [00:01<00:00, 257.32it/s]\n",
      "Training Epoch 87: 100%|██████████| 259/259 [00:01<00:00, 252.00it/s]\n",
      "Training Epoch 88: 100%|██████████| 259/259 [00:00<00:00, 260.38it/s]\n",
      "Training Epoch 89: 100%|██████████| 259/259 [00:00<00:00, 263.83it/s]\n",
      "Training Epoch 90: 100%|██████████| 259/259 [00:01<00:00, 251.74it/s]\n",
      "Training Epoch 91: 100%|██████████| 259/259 [00:00<00:00, 264.96it/s]\n"
     ]
    },
    {
     "name": "stdout",
     "output_type": "stream",
     "text": [
      "Epoch 90 - Train Loss: 0.3466, Train MSE: 0.3469, Train MAE: 0.4461\n",
      "Epoch 90 - Validation Loss: 2.1904, Validation MSE: 2.1840, Validation MAE: 1.1529\n"
     ]
    },
    {
     "name": "stderr",
     "output_type": "stream",
     "text": [
      "Training Epoch 92: 100%|██████████| 259/259 [00:00<00:00, 261.37it/s]\n",
      "Training Epoch 93: 100%|██████████| 259/259 [00:00<00:00, 266.79it/s]\n",
      "Training Epoch 94: 100%|██████████| 259/259 [00:00<00:00, 276.30it/s]\n",
      "Training Epoch 95: 100%|██████████| 259/259 [00:00<00:00, 274.23it/s]\n",
      "Training Epoch 96: 100%|██████████| 259/259 [00:00<00:00, 271.73it/s]\n",
      "Training Epoch 97: 100%|██████████| 259/259 [00:00<00:00, 263.26it/s]\n",
      "Training Epoch 98: 100%|██████████| 259/259 [00:01<00:00, 221.29it/s]\n",
      "Training Epoch 99: 100%|██████████| 259/259 [00:00<00:00, 265.61it/s]\n",
      "Training Epoch 100: 100%|██████████| 259/259 [00:00<00:00, 274.28it/s]\n",
      "Training Epoch 101: 100%|██████████| 259/259 [00:00<00:00, 264.87it/s]\n"
     ]
    },
    {
     "name": "stdout",
     "output_type": "stream",
     "text": [
      "Epoch 100 - Train Loss: 0.3357, Train MSE: 0.3357, Train MAE: 0.4419\n",
      "Epoch 100 - Validation Loss: 2.1489, Validation MSE: 2.1436, Validation MAE: 1.1468\n"
     ]
    },
    {
     "name": "stderr",
     "output_type": "stream",
     "text": [
      "Training Epoch 102: 100%|██████████| 259/259 [00:00<00:00, 268.88it/s]\n",
      "Training Epoch 103: 100%|██████████| 259/259 [00:00<00:00, 271.98it/s]\n",
      "Training Epoch 104: 100%|██████████| 259/259 [00:01<00:00, 248.59it/s]\n",
      "Training Epoch 105: 100%|██████████| 259/259 [00:01<00:00, 177.97it/s]\n",
      "Training Epoch 106: 100%|██████████| 259/259 [00:00<00:00, 267.52it/s]\n",
      "Training Epoch 107: 100%|██████████| 259/259 [00:01<00:00, 250.49it/s]\n",
      "Training Epoch 108: 100%|██████████| 259/259 [00:01<00:00, 252.87it/s]\n",
      "Training Epoch 109: 100%|██████████| 259/259 [00:01<00:00, 255.07it/s]\n",
      "Training Epoch 110: 100%|██████████| 259/259 [00:00<00:00, 266.28it/s]\n",
      "Training Epoch 111: 100%|██████████| 259/259 [00:01<00:00, 250.49it/s]\n"
     ]
    },
    {
     "name": "stdout",
     "output_type": "stream",
     "text": [
      "Epoch 110 - Train Loss: 0.3072, Train MSE: 0.3072, Train MAE: 0.4193\n",
      "Epoch 110 - Validation Loss: 2.0632, Validation MSE: 2.0595, Validation MAE: 1.1279\n"
     ]
    },
    {
     "name": "stderr",
     "output_type": "stream",
     "text": [
      "Training Epoch 112: 100%|██████████| 259/259 [00:01<00:00, 235.43it/s]\n",
      "Training Epoch 113: 100%|██████████| 259/259 [00:00<00:00, 263.81it/s]\n",
      "Training Epoch 114: 100%|██████████| 259/259 [00:01<00:00, 249.09it/s]\n",
      "Training Epoch 115: 100%|██████████| 259/259 [00:00<00:00, 262.54it/s]\n",
      "Training Epoch 116: 100%|██████████| 259/259 [00:01<00:00, 256.58it/s]\n",
      "Training Epoch 117: 100%|██████████| 259/259 [00:01<00:00, 232.84it/s]\n",
      "Training Epoch 118: 100%|██████████| 259/259 [00:01<00:00, 245.96it/s]\n",
      "Training Epoch 119: 100%|██████████| 259/259 [00:00<00:00, 266.01it/s]\n",
      "Training Epoch 120: 100%|██████████| 259/259 [00:01<00:00, 247.00it/s]\n",
      "Training Epoch 121: 100%|██████████| 259/259 [00:01<00:00, 255.55it/s]\n"
     ]
    },
    {
     "name": "stdout",
     "output_type": "stream",
     "text": [
      "Epoch 120 - Train Loss: 0.2892, Train MSE: 0.2893, Train MAE: 0.4087\n",
      "Epoch 120 - Validation Loss: 2.0692, Validation MSE: 2.0626, Validation MAE: 1.1240\n"
     ]
    },
    {
     "name": "stderr",
     "output_type": "stream",
     "text": [
      "Training Epoch 122: 100%|██████████| 259/259 [00:01<00:00, 250.40it/s]\n",
      "Training Epoch 123: 100%|██████████| 259/259 [00:01<00:00, 256.48it/s]\n",
      "Training Epoch 124: 100%|██████████| 259/259 [00:01<00:00, 194.96it/s]\n",
      "Training Epoch 125: 100%|██████████| 259/259 [00:00<00:00, 260.81it/s]\n",
      "Training Epoch 126: 100%|██████████| 259/259 [00:01<00:00, 211.67it/s]\n",
      "Training Epoch 127: 100%|██████████| 259/259 [00:00<00:00, 267.88it/s]\n",
      "Training Epoch 128: 100%|██████████| 259/259 [00:01<00:00, 181.85it/s]\n",
      "Training Epoch 129: 100%|██████████| 259/259 [00:01<00:00, 230.89it/s]\n",
      "Training Epoch 130: 100%|██████████| 259/259 [00:00<00:00, 272.26it/s]\n",
      "Training Epoch 131: 100%|██████████| 259/259 [00:01<00:00, 254.84it/s]\n"
     ]
    },
    {
     "name": "stdout",
     "output_type": "stream",
     "text": [
      "Epoch 130 - Train Loss: 0.2760, Train MSE: 0.2763, Train MAE: 0.3988\n",
      "Epoch 130 - Validation Loss: 2.1375, Validation MSE: 2.1328, Validation MAE: 1.1452\n"
     ]
    },
    {
     "name": "stderr",
     "output_type": "stream",
     "text": [
      "Training Epoch 132: 100%|██████████| 259/259 [00:00<00:00, 270.17it/s]\n",
      "Training Epoch 133: 100%|██████████| 259/259 [00:00<00:00, 266.80it/s]\n",
      "Training Epoch 134: 100%|██████████| 259/259 [00:00<00:00, 264.59it/s]\n",
      "Training Epoch 135: 100%|██████████| 259/259 [00:01<00:00, 251.40it/s]\n",
      "Training Epoch 136: 100%|██████████| 259/259 [00:01<00:00, 200.05it/s]\n",
      "Training Epoch 137: 100%|██████████| 259/259 [00:00<00:00, 264.80it/s]\n",
      "Training Epoch 138: 100%|██████████| 259/259 [00:01<00:00, 257.10it/s]\n",
      "Training Epoch 139: 100%|██████████| 259/259 [00:00<00:00, 263.08it/s]\n",
      "Training Epoch 140: 100%|██████████| 259/259 [00:01<00:00, 253.08it/s]\n",
      "Training Epoch 141: 100%|██████████| 259/259 [00:01<00:00, 203.42it/s]\n"
     ]
    },
    {
     "name": "stdout",
     "output_type": "stream",
     "text": [
      "Epoch 140 - Train Loss: 0.2576, Train MSE: 0.2575, Train MAE: 0.3801\n",
      "Epoch 140 - Validation Loss: 2.1925, Validation MSE: 2.1862, Validation MAE: 1.1455\n"
     ]
    },
    {
     "name": "stderr",
     "output_type": "stream",
     "text": [
      "Training Epoch 142: 100%|██████████| 259/259 [00:01<00:00, 197.88it/s]\n",
      "Training Epoch 143: 100%|██████████| 259/259 [00:01<00:00, 197.74it/s]\n",
      "Training Epoch 144: 100%|██████████| 259/259 [00:01<00:00, 225.63it/s]\n",
      "Training Epoch 145: 100%|██████████| 259/259 [00:01<00:00, 249.49it/s]\n",
      "Training Epoch 146: 100%|██████████| 259/259 [00:01<00:00, 253.19it/s]\n",
      "Training Epoch 147: 100%|██████████| 259/259 [00:01<00:00, 233.75it/s]\n",
      "Training Epoch 148: 100%|██████████| 259/259 [00:01<00:00, 252.76it/s]\n",
      "Training Epoch 149: 100%|██████████| 259/259 [00:01<00:00, 252.44it/s]\n",
      "Training Epoch 150: 100%|██████████| 259/259 [00:01<00:00, 249.81it/s]\n",
      "Training Epoch 151: 100%|██████████| 259/259 [00:01<00:00, 230.34it/s]\n"
     ]
    },
    {
     "name": "stdout",
     "output_type": "stream",
     "text": [
      "Epoch 150 - Train Loss: 0.2464, Train MSE: 0.2464, Train MAE: 0.3765\n",
      "Epoch 150 - Validation Loss: 2.1202, Validation MSE: 2.1153, Validation MAE: 1.1324\n"
     ]
    },
    {
     "name": "stderr",
     "output_type": "stream",
     "text": [
      "Training Epoch 152: 100%|██████████| 259/259 [00:01<00:00, 235.91it/s]\n",
      "Training Epoch 153: 100%|██████████| 259/259 [00:01<00:00, 242.91it/s]\n",
      "Training Epoch 154: 100%|██████████| 259/259 [00:01<00:00, 234.11it/s]\n",
      "Training Epoch 155: 100%|██████████| 259/259 [00:00<00:00, 265.53it/s]\n",
      "Training Epoch 156: 100%|██████████| 259/259 [00:01<00:00, 256.86it/s]\n",
      "Training Epoch 157: 100%|██████████| 259/259 [00:00<00:00, 264.31it/s]\n",
      "Training Epoch 158: 100%|██████████| 259/259 [00:01<00:00, 257.64it/s]\n",
      "Training Epoch 159: 100%|██████████| 259/259 [00:01<00:00, 258.48it/s]\n",
      "Training Epoch 160: 100%|██████████| 259/259 [00:01<00:00, 255.96it/s]\n",
      "Training Epoch 161: 100%|██████████| 259/259 [00:01<00:00, 258.25it/s]\n"
     ]
    },
    {
     "name": "stdout",
     "output_type": "stream",
     "text": [
      "Epoch 160 - Train Loss: 0.2433, Train MSE: 0.2431, Train MAE: 0.3700\n",
      "Epoch 160 - Validation Loss: 2.1055, Validation MSE: 2.1008, Validation MAE: 1.1353\n"
     ]
    },
    {
     "name": "stderr",
     "output_type": "stream",
     "text": [
      "Training Epoch 162: 100%|██████████| 259/259 [00:01<00:00, 246.40it/s]\n",
      "Training Epoch 163: 100%|██████████| 259/259 [00:01<00:00, 254.74it/s]\n",
      "Training Epoch 164: 100%|██████████| 259/259 [00:01<00:00, 258.43it/s]\n",
      "Training Epoch 165: 100%|██████████| 259/259 [00:01<00:00, 255.97it/s]\n",
      "Training Epoch 166: 100%|██████████| 259/259 [00:01<00:00, 256.78it/s]\n",
      "Training Epoch 167: 100%|██████████| 259/259 [00:01<00:00, 246.43it/s]\n",
      "Training Epoch 168: 100%|██████████| 259/259 [00:01<00:00, 237.36it/s]\n",
      "Training Epoch 169: 100%|██████████| 259/259 [00:00<00:00, 267.66it/s]\n",
      "Training Epoch 170: 100%|██████████| 259/259 [00:01<00:00, 249.64it/s]\n",
      "Training Epoch 171: 100%|██████████| 259/259 [00:00<00:00, 259.38it/s]\n"
     ]
    },
    {
     "name": "stdout",
     "output_type": "stream",
     "text": [
      "Epoch 170 - Train Loss: 0.2285, Train MSE: 0.2281, Train MAE: 0.3611\n",
      "Epoch 170 - Validation Loss: 2.1112, Validation MSE: 2.1076, Validation MAE: 1.1326\n"
     ]
    },
    {
     "name": "stderr",
     "output_type": "stream",
     "text": [
      "Training Epoch 172: 100%|██████████| 259/259 [00:00<00:00, 263.12it/s]\n",
      "Training Epoch 173: 100%|██████████| 259/259 [00:01<00:00, 251.37it/s]\n",
      "Training Epoch 174: 100%|██████████| 259/259 [00:00<00:00, 259.87it/s]\n",
      "Training Epoch 175: 100%|██████████| 259/259 [00:00<00:00, 264.67it/s]\n",
      "Training Epoch 176: 100%|██████████| 259/259 [00:00<00:00, 259.56it/s]\n",
      "Training Epoch 177: 100%|██████████| 259/259 [00:01<00:00, 219.35it/s]\n",
      "Training Epoch 178: 100%|██████████| 259/259 [00:01<00:00, 251.54it/s]\n",
      "Training Epoch 179: 100%|██████████| 259/259 [00:01<00:00, 253.00it/s]\n",
      "Training Epoch 180: 100%|██████████| 259/259 [00:00<00:00, 274.92it/s]\n",
      "Training Epoch 181: 100%|██████████| 259/259 [00:01<00:00, 233.13it/s]\n"
     ]
    },
    {
     "name": "stdout",
     "output_type": "stream",
     "text": [
      "Epoch 180 - Train Loss: 0.2190, Train MSE: 0.2188, Train MAE: 0.3515\n",
      "Epoch 180 - Validation Loss: 2.0900, Validation MSE: 2.0848, Validation MAE: 1.1267\n"
     ]
    },
    {
     "name": "stderr",
     "output_type": "stream",
     "text": [
      "Training Epoch 182: 100%|██████████| 259/259 [00:01<00:00, 240.27it/s]\n",
      "Training Epoch 183: 100%|██████████| 259/259 [00:01<00:00, 246.29it/s]\n",
      "Training Epoch 184: 100%|██████████| 259/259 [00:01<00:00, 233.35it/s]\n",
      "Training Epoch 185: 100%|██████████| 259/259 [00:01<00:00, 190.15it/s]\n",
      "Training Epoch 186: 100%|██████████| 259/259 [00:01<00:00, 205.73it/s]\n",
      "Training Epoch 187: 100%|██████████| 259/259 [00:01<00:00, 246.18it/s]\n",
      "Training Epoch 188: 100%|██████████| 259/259 [00:01<00:00, 244.33it/s]\n",
      "Training Epoch 189: 100%|██████████| 259/259 [00:00<00:00, 268.84it/s]\n",
      "Training Epoch 190: 100%|██████████| 259/259 [00:00<00:00, 265.36it/s]\n",
      "Training Epoch 191: 100%|██████████| 259/259 [00:01<00:00, 258.25it/s]\n"
     ]
    },
    {
     "name": "stdout",
     "output_type": "stream",
     "text": [
      "Epoch 190 - Train Loss: 0.2115, Train MSE: 0.2115, Train MAE: 0.3453\n",
      "Epoch 190 - Validation Loss: 2.0945, Validation MSE: 2.0904, Validation MAE: 1.1289\n"
     ]
    },
    {
     "name": "stderr",
     "output_type": "stream",
     "text": [
      "Training Epoch 192: 100%|██████████| 259/259 [00:00<00:00, 259.84it/s]\n",
      "Training Epoch 193: 100%|██████████| 259/259 [00:01<00:00, 245.90it/s]\n",
      "Training Epoch 194: 100%|██████████| 259/259 [00:01<00:00, 258.10it/s]\n",
      "Training Epoch 195: 100%|██████████| 259/259 [00:01<00:00, 249.70it/s]\n",
      "Training Epoch 196: 100%|██████████| 259/259 [00:01<00:00, 253.12it/s]\n",
      "Training Epoch 197: 100%|██████████| 259/259 [00:01<00:00, 219.85it/s]\n",
      "Training Epoch 198: 100%|██████████| 259/259 [00:00<00:00, 261.77it/s]\n",
      "Training Epoch 199: 100%|██████████| 259/259 [00:01<00:00, 218.57it/s]\n",
      "Training Epoch 200: 100%|██████████| 259/259 [00:00<00:00, 261.75it/s]\n",
      "Training Epoch 201: 100%|██████████| 259/259 [00:00<00:00, 261.50it/s]\n"
     ]
    },
    {
     "name": "stdout",
     "output_type": "stream",
     "text": [
      "Epoch 200 - Train Loss: 0.1980, Train MSE: 0.1980, Train MAE: 0.3340\n",
      "Epoch 200 - Validation Loss: 2.0995, Validation MSE: 2.0955, Validation MAE: 1.1397\n"
     ]
    },
    {
     "name": "stderr",
     "output_type": "stream",
     "text": [
      "Training Epoch 202: 100%|██████████| 259/259 [00:00<00:00, 264.00it/s]\n",
      "Training Epoch 203: 100%|██████████| 259/259 [00:01<00:00, 251.20it/s]\n",
      "Training Epoch 204: 100%|██████████| 259/259 [00:01<00:00, 221.02it/s]\n",
      "Training Epoch 205: 100%|██████████| 259/259 [00:01<00:00, 247.71it/s]\n",
      "Training Epoch 206: 100%|██████████| 259/259 [00:01<00:00, 228.14it/s]\n",
      "Training Epoch 207: 100%|██████████| 259/259 [00:00<00:00, 264.88it/s]\n",
      "Training Epoch 208: 100%|██████████| 259/259 [00:01<00:00, 245.14it/s]\n",
      "Training Epoch 209: 100%|██████████| 259/259 [00:01<00:00, 237.46it/s]\n",
      "Training Epoch 210: 100%|██████████| 259/259 [00:01<00:00, 256.22it/s]\n",
      "Training Epoch 211: 100%|██████████| 259/259 [00:01<00:00, 248.99it/s]\n"
     ]
    },
    {
     "name": "stdout",
     "output_type": "stream",
     "text": [
      "Epoch 210 - Train Loss: 0.1977, Train MSE: 0.1977, Train MAE: 0.3347\n",
      "Epoch 210 - Validation Loss: 2.0663, Validation MSE: 2.0614, Validation MAE: 1.1221\n"
     ]
    },
    {
     "name": "stderr",
     "output_type": "stream",
     "text": [
      "Training Epoch 212: 100%|██████████| 259/259 [00:01<00:00, 247.54it/s]\n",
      "Training Epoch 213: 100%|██████████| 259/259 [00:01<00:00, 253.01it/s]\n",
      "Training Epoch 214: 100%|██████████| 259/259 [00:01<00:00, 248.60it/s]\n",
      "Training Epoch 215: 100%|██████████| 259/259 [00:01<00:00, 252.98it/s]\n",
      "Training Epoch 216: 100%|██████████| 259/259 [00:01<00:00, 253.70it/s]\n",
      "Training Epoch 217: 100%|██████████| 259/259 [00:01<00:00, 226.54it/s]\n",
      "Training Epoch 218: 100%|██████████| 259/259 [00:01<00:00, 253.85it/s]\n",
      "Training Epoch 219: 100%|██████████| 259/259 [00:01<00:00, 258.20it/s]\n",
      "Training Epoch 220: 100%|██████████| 259/259 [00:01<00:00, 240.26it/s]\n",
      "Training Epoch 221: 100%|██████████| 259/259 [00:01<00:00, 251.81it/s]\n"
     ]
    },
    {
     "name": "stdout",
     "output_type": "stream",
     "text": [
      "Epoch 220 - Train Loss: 0.2026, Train MSE: 0.2027, Train MAE: 0.3346\n",
      "Epoch 220 - Validation Loss: 2.0967, Validation MSE: 2.0923, Validation MAE: 1.1317\n"
     ]
    },
    {
     "name": "stderr",
     "output_type": "stream",
     "text": [
      "Training Epoch 222: 100%|██████████| 259/259 [00:01<00:00, 255.70it/s]\n",
      "Training Epoch 223: 100%|██████████| 259/259 [00:00<00:00, 267.70it/s]\n",
      "Training Epoch 224: 100%|██████████| 259/259 [00:00<00:00, 263.65it/s]\n",
      "Training Epoch 225: 100%|██████████| 259/259 [00:01<00:00, 248.27it/s]\n",
      "Training Epoch 226: 100%|██████████| 259/259 [00:00<00:00, 267.83it/s]\n",
      "Training Epoch 227: 100%|██████████| 259/259 [00:00<00:00, 267.24it/s]\n",
      "Training Epoch 228: 100%|██████████| 259/259 [00:00<00:00, 267.29it/s]\n",
      "Training Epoch 229: 100%|██████████| 259/259 [00:00<00:00, 269.41it/s]\n",
      "Training Epoch 230: 100%|██████████| 259/259 [00:00<00:00, 270.44it/s]\n",
      "Training Epoch 231: 100%|██████████| 259/259 [00:01<00:00, 240.13it/s]\n"
     ]
    },
    {
     "name": "stdout",
     "output_type": "stream",
     "text": [
      "Epoch 230 - Train Loss: 0.1924, Train MSE: 0.1923, Train MAE: 0.3266\n",
      "Epoch 230 - Validation Loss: 2.0505, Validation MSE: 2.0467, Validation MAE: 1.1079\n"
     ]
    },
    {
     "name": "stderr",
     "output_type": "stream",
     "text": [
      "Training Epoch 232: 100%|██████████| 259/259 [00:00<00:00, 281.70it/s]\n",
      "Training Epoch 233: 100%|██████████| 259/259 [00:01<00:00, 251.12it/s]\n",
      "Training Epoch 234: 100%|██████████| 259/259 [00:00<00:00, 266.50it/s]\n",
      "Training Epoch 235: 100%|██████████| 259/259 [00:00<00:00, 267.46it/s]\n",
      "Training Epoch 236: 100%|██████████| 259/259 [00:00<00:00, 265.55it/s]\n",
      "Training Epoch 237: 100%|██████████| 259/259 [00:00<00:00, 264.59it/s]\n",
      "Training Epoch 238: 100%|██████████| 259/259 [00:00<00:00, 268.23it/s]\n",
      "Training Epoch 239: 100%|██████████| 259/259 [00:00<00:00, 266.84it/s]\n",
      "Training Epoch 240: 100%|██████████| 259/259 [00:00<00:00, 267.72it/s]\n",
      "Training Epoch 241: 100%|██████████| 259/259 [00:00<00:00, 259.69it/s]\n"
     ]
    },
    {
     "name": "stdout",
     "output_type": "stream",
     "text": [
      "Epoch 240 - Train Loss: 0.1838, Train MSE: 0.1838, Train MAE: 0.3195\n",
      "Epoch 240 - Validation Loss: 2.0853, Validation MSE: 2.0787, Validation MAE: 1.1259\n"
     ]
    },
    {
     "name": "stderr",
     "output_type": "stream",
     "text": [
      "Training Epoch 242: 100%|██████████| 259/259 [00:00<00:00, 264.79it/s]\n",
      "Training Epoch 243: 100%|██████████| 259/259 [00:00<00:00, 264.51it/s]\n",
      "Training Epoch 244: 100%|██████████| 259/259 [00:00<00:00, 269.36it/s]\n",
      "Training Epoch 245: 100%|██████████| 259/259 [00:00<00:00, 267.54it/s]\n",
      "Training Epoch 246: 100%|██████████| 259/259 [00:00<00:00, 265.33it/s]\n",
      "Training Epoch 247: 100%|██████████| 259/259 [00:00<00:00, 267.83it/s]\n",
      "Training Epoch 248: 100%|██████████| 259/259 [00:01<00:00, 257.35it/s]\n",
      "Training Epoch 249: 100%|██████████| 259/259 [00:00<00:00, 268.34it/s]\n",
      "Training Epoch 250: 100%|██████████| 259/259 [00:00<00:00, 268.61it/s]\n",
      "Training Epoch 251: 100%|██████████| 259/259 [00:00<00:00, 266.50it/s]\n"
     ]
    },
    {
     "name": "stdout",
     "output_type": "stream",
     "text": [
      "Epoch 250 - Train Loss: 0.1781, Train MSE: 0.1782, Train MAE: 0.3153\n",
      "Epoch 250 - Validation Loss: 2.0627, Validation MSE: 2.0586, Validation MAE: 1.1232\n"
     ]
    },
    {
     "name": "stderr",
     "output_type": "stream",
     "text": [
      "Training Epoch 252: 100%|██████████| 259/259 [00:00<00:00, 262.51it/s]\n",
      "Training Epoch 253: 100%|██████████| 259/259 [00:01<00:00, 247.24it/s]\n",
      "Training Epoch 254: 100%|██████████| 259/259 [00:00<00:00, 262.63it/s]\n",
      "Training Epoch 255: 100%|██████████| 259/259 [00:01<00:00, 253.42it/s]\n",
      "Training Epoch 256: 100%|██████████| 259/259 [00:00<00:00, 265.53it/s]\n",
      "Training Epoch 257: 100%|██████████| 259/259 [00:00<00:00, 280.44it/s]\n",
      "Training Epoch 258: 100%|██████████| 259/259 [00:00<00:00, 271.94it/s]\n",
      "Training Epoch 259: 100%|██████████| 259/259 [00:00<00:00, 287.32it/s]\n",
      "Training Epoch 260: 100%|██████████| 259/259 [00:00<00:00, 270.78it/s]\n",
      "Training Epoch 261: 100%|██████████| 259/259 [00:00<00:00, 271.42it/s]\n"
     ]
    },
    {
     "name": "stdout",
     "output_type": "stream",
     "text": [
      "Epoch 260 - Train Loss: 0.1781, Train MSE: 0.1778, Train MAE: 0.3138\n",
      "Epoch 260 - Validation Loss: 2.0396, Validation MSE: 2.0348, Validation MAE: 1.1142\n"
     ]
    },
    {
     "name": "stderr",
     "output_type": "stream",
     "text": [
      "Training Epoch 262: 100%|██████████| 259/259 [00:01<00:00, 252.94it/s]\n",
      "Training Epoch 263: 100%|██████████| 259/259 [00:00<00:00, 273.96it/s]\n",
      "Training Epoch 264: 100%|██████████| 259/259 [00:00<00:00, 273.53it/s]\n",
      "Training Epoch 265: 100%|██████████| 259/259 [00:00<00:00, 270.54it/s]\n",
      "Training Epoch 266: 100%|██████████| 259/259 [00:00<00:00, 266.09it/s]\n",
      "Training Epoch 267: 100%|██████████| 259/259 [00:00<00:00, 269.61it/s]\n",
      "Training Epoch 268: 100%|██████████| 259/259 [00:00<00:00, 261.03it/s]\n",
      "Training Epoch 269: 100%|██████████| 259/259 [00:00<00:00, 263.82it/s]\n",
      "Training Epoch 270: 100%|██████████| 259/259 [00:00<00:00, 269.46it/s]\n",
      "Training Epoch 271: 100%|██████████| 259/259 [00:00<00:00, 262.07it/s]\n"
     ]
    },
    {
     "name": "stdout",
     "output_type": "stream",
     "text": [
      "Epoch 270 - Train Loss: 0.1738, Train MSE: 0.1732, Train MAE: 0.3108\n",
      "Epoch 270 - Validation Loss: 2.0440, Validation MSE: 2.0388, Validation MAE: 1.1151\n"
     ]
    },
    {
     "name": "stderr",
     "output_type": "stream",
     "text": [
      "Training Epoch 272: 100%|██████████| 259/259 [00:00<00:00, 268.09it/s]\n",
      "Training Epoch 273: 100%|██████████| 259/259 [00:00<00:00, 268.49it/s]\n",
      "Training Epoch 274: 100%|██████████| 259/259 [00:00<00:00, 264.08it/s]\n",
      "Training Epoch 275: 100%|██████████| 259/259 [00:00<00:00, 269.19it/s]\n",
      "Training Epoch 276: 100%|██████████| 259/259 [00:00<00:00, 267.04it/s]\n",
      "Training Epoch 277: 100%|██████████| 259/259 [00:00<00:00, 272.19it/s]\n",
      "Training Epoch 278: 100%|██████████| 259/259 [00:00<00:00, 262.06it/s]\n",
      "Training Epoch 279: 100%|██████████| 259/259 [00:00<00:00, 267.50it/s]\n",
      "Training Epoch 280: 100%|██████████| 259/259 [00:00<00:00, 267.80it/s]\n",
      "Training Epoch 281: 100%|██████████| 259/259 [00:00<00:00, 271.25it/s]\n"
     ]
    },
    {
     "name": "stdout",
     "output_type": "stream",
     "text": [
      "Epoch 280 - Train Loss: 0.1637, Train MSE: 0.1638, Train MAE: 0.3023\n",
      "Epoch 280 - Validation Loss: 2.0789, Validation MSE: 2.0753, Validation MAE: 1.1266\n"
     ]
    },
    {
     "name": "stderr",
     "output_type": "stream",
     "text": [
      "Training Epoch 282: 100%|██████████| 259/259 [00:00<00:00, 268.53it/s]\n",
      "Training Epoch 283: 100%|██████████| 259/259 [00:00<00:00, 267.16it/s]\n",
      "Training Epoch 284: 100%|██████████| 259/259 [00:00<00:00, 274.17it/s]\n",
      "Training Epoch 285: 100%|██████████| 259/259 [00:00<00:00, 285.70it/s]\n",
      "Training Epoch 286: 100%|██████████| 259/259 [00:00<00:00, 276.17it/s]\n",
      "Training Epoch 287: 100%|██████████| 259/259 [00:00<00:00, 260.25it/s]\n",
      "Training Epoch 288: 100%|██████████| 259/259 [00:01<00:00, 250.65it/s]\n",
      "Training Epoch 289: 100%|██████████| 259/259 [00:00<00:00, 264.31it/s]\n",
      "Training Epoch 290: 100%|██████████| 259/259 [00:00<00:00, 269.42it/s]\n",
      "Training Epoch 291: 100%|██████████| 259/259 [00:00<00:00, 267.09it/s]\n"
     ]
    },
    {
     "name": "stdout",
     "output_type": "stream",
     "text": [
      "Epoch 290 - Train Loss: 0.1596, Train MSE: 0.1596, Train MAE: 0.2976\n",
      "Epoch 290 - Validation Loss: 2.0853, Validation MSE: 2.0808, Validation MAE: 1.1227\n"
     ]
    },
    {
     "name": "stderr",
     "output_type": "stream",
     "text": [
      "Training Epoch 292: 100%|██████████| 259/259 [00:00<00:00, 264.07it/s]\n",
      "Training Epoch 293: 100%|██████████| 259/259 [00:00<00:00, 266.80it/s]\n",
      "Training Epoch 294: 100%|██████████| 259/259 [00:00<00:00, 269.67it/s]\n",
      "Training Epoch 295: 100%|██████████| 259/259 [00:00<00:00, 265.09it/s]\n",
      "Training Epoch 296: 100%|██████████| 259/259 [00:00<00:00, 262.84it/s]\n",
      "Training Epoch 297: 100%|██████████| 259/259 [00:00<00:00, 267.92it/s]\n",
      "Training Epoch 298: 100%|██████████| 259/259 [00:00<00:00, 267.49it/s]\n",
      "Training Epoch 299: 100%|██████████| 259/259 [00:00<00:00, 266.44it/s]\n",
      "Training Epoch 300: 100%|██████████| 259/259 [00:00<00:00, 267.55it/s]\n",
      "Training Epoch 301: 100%|██████████| 259/259 [00:00<00:00, 260.38it/s]\n"
     ]
    },
    {
     "name": "stdout",
     "output_type": "stream",
     "text": [
      "Epoch 300 - Train Loss: 0.1542, Train MSE: 0.1544, Train MAE: 0.2923\n",
      "Epoch 300 - Validation Loss: 2.0950, Validation MSE: 2.0901, Validation MAE: 1.1287\n"
     ]
    },
    {
     "name": "stderr",
     "output_type": "stream",
     "text": [
      "Training Epoch 302: 100%|██████████| 259/259 [00:01<00:00, 257.22it/s]\n",
      "Training Epoch 303: 100%|██████████| 259/259 [00:00<00:00, 270.14it/s]\n",
      "Training Epoch 304: 100%|██████████| 259/259 [00:00<00:00, 267.11it/s]\n",
      "Training Epoch 305: 100%|██████████| 259/259 [00:01<00:00, 256.51it/s]\n",
      "Training Epoch 306: 100%|██████████| 259/259 [00:00<00:00, 266.19it/s]\n",
      "Training Epoch 307: 100%|██████████| 259/259 [00:00<00:00, 268.69it/s]\n",
      "Training Epoch 308: 100%|██████████| 259/259 [00:00<00:00, 268.83it/s]\n",
      "Training Epoch 309: 100%|██████████| 259/259 [00:00<00:00, 269.28it/s]\n",
      "Training Epoch 310: 100%|██████████| 259/259 [00:00<00:00, 269.01it/s]\n",
      "Training Epoch 311: 100%|██████████| 259/259 [00:00<00:00, 286.36it/s]\n"
     ]
    },
    {
     "name": "stdout",
     "output_type": "stream",
     "text": [
      "Epoch 310 - Train Loss: 0.1572, Train MSE: 0.1573, Train MAE: 0.2933\n",
      "Epoch 310 - Validation Loss: 2.0897, Validation MSE: 2.0847, Validation MAE: 1.1212\n"
     ]
    },
    {
     "name": "stderr",
     "output_type": "stream",
     "text": [
      "Training Epoch 312: 100%|██████████| 259/259 [00:00<00:00, 270.59it/s]\n",
      "Training Epoch 313: 100%|██████████| 259/259 [00:00<00:00, 269.11it/s]\n",
      "Training Epoch 314: 100%|██████████| 259/259 [00:00<00:00, 263.44it/s]\n",
      "Training Epoch 315: 100%|██████████| 259/259 [00:00<00:00, 266.96it/s]\n",
      "Training Epoch 316: 100%|██████████| 259/259 [00:00<00:00, 266.65it/s]\n",
      "Training Epoch 317: 100%|██████████| 259/259 [00:00<00:00, 263.37it/s]\n",
      "Training Epoch 318: 100%|██████████| 259/259 [00:00<00:00, 261.18it/s]\n",
      "Training Epoch 319: 100%|██████████| 259/259 [00:00<00:00, 268.10it/s]\n",
      "Training Epoch 320: 100%|██████████| 259/259 [00:00<00:00, 268.50it/s]\n",
      "Training Epoch 321: 100%|██████████| 259/259 [00:00<00:00, 269.71it/s]\n"
     ]
    },
    {
     "name": "stdout",
     "output_type": "stream",
     "text": [
      "Epoch 320 - Train Loss: 0.1535, Train MSE: 0.1536, Train MAE: 0.2896\n",
      "Epoch 320 - Validation Loss: 2.0571, Validation MSE: 2.0527, Validation MAE: 1.1139\n"
     ]
    },
    {
     "name": "stderr",
     "output_type": "stream",
     "text": [
      "Training Epoch 322: 100%|██████████| 259/259 [00:00<00:00, 261.12it/s]\n",
      "Training Epoch 323: 100%|██████████| 259/259 [00:00<00:00, 264.67it/s]\n",
      "Training Epoch 324: 100%|██████████| 259/259 [00:00<00:00, 267.53it/s]\n",
      "Training Epoch 325: 100%|██████████| 259/259 [00:00<00:00, 269.60it/s]\n",
      "Training Epoch 326: 100%|██████████| 259/259 [00:00<00:00, 266.93it/s]\n",
      "Training Epoch 327: 100%|██████████| 259/259 [00:00<00:00, 261.30it/s]\n",
      "Training Epoch 328: 100%|██████████| 259/259 [00:00<00:00, 264.17it/s]\n",
      "Training Epoch 329: 100%|██████████| 259/259 [00:00<00:00, 267.41it/s]\n",
      "Training Epoch 330: 100%|██████████| 259/259 [00:00<00:00, 269.04it/s]\n",
      "Training Epoch 331: 100%|██████████| 259/259 [00:00<00:00, 259.64it/s]\n"
     ]
    },
    {
     "name": "stdout",
     "output_type": "stream",
     "text": [
      "Epoch 330 - Train Loss: 0.1514, Train MSE: 0.1515, Train MAE: 0.2877\n",
      "Epoch 330 - Validation Loss: 2.0940, Validation MSE: 2.0891, Validation MAE: 1.1333\n"
     ]
    },
    {
     "name": "stderr",
     "output_type": "stream",
     "text": [
      "Training Epoch 332: 100%|██████████| 259/259 [00:00<00:00, 264.15it/s]\n",
      "Training Epoch 333: 100%|██████████| 259/259 [00:00<00:00, 261.81it/s]\n",
      "Training Epoch 334: 100%|██████████| 259/259 [00:00<00:00, 268.81it/s]\n",
      "Training Epoch 335: 100%|██████████| 259/259 [00:00<00:00, 265.46it/s]\n",
      "Training Epoch 336: 100%|██████████| 259/259 [00:00<00:00, 266.86it/s]\n",
      "Training Epoch 337: 100%|██████████| 259/259 [00:00<00:00, 281.05it/s]\n",
      "Training Epoch 338: 100%|██████████| 259/259 [00:00<00:00, 265.63it/s]\n",
      "Training Epoch 339: 100%|██████████| 259/259 [00:00<00:00, 273.09it/s]\n",
      "Training Epoch 340: 100%|██████████| 259/259 [00:00<00:00, 265.17it/s]\n",
      "Training Epoch 341: 100%|██████████| 259/259 [00:00<00:00, 266.07it/s]\n"
     ]
    },
    {
     "name": "stdout",
     "output_type": "stream",
     "text": [
      "Epoch 340 - Train Loss: 0.1439, Train MSE: 0.1440, Train MAE: 0.2813\n",
      "Epoch 340 - Validation Loss: 2.0537, Validation MSE: 2.0500, Validation MAE: 1.1135\n"
     ]
    },
    {
     "name": "stderr",
     "output_type": "stream",
     "text": [
      "Training Epoch 342: 100%|██████████| 259/259 [00:01<00:00, 250.91it/s]\n",
      "Training Epoch 343: 100%|██████████| 259/259 [00:00<00:00, 269.02it/s]\n",
      "Training Epoch 344: 100%|██████████| 259/259 [00:00<00:00, 269.16it/s]\n",
      "Training Epoch 345: 100%|██████████| 259/259 [00:00<00:00, 264.35it/s]\n",
      "Training Epoch 346: 100%|██████████| 259/259 [00:01<00:00, 237.39it/s]\n",
      "Training Epoch 347: 100%|██████████| 259/259 [00:00<00:00, 268.42it/s]\n",
      "Training Epoch 348: 100%|██████████| 259/259 [00:01<00:00, 251.74it/s]\n",
      "Training Epoch 349: 100%|██████████| 259/259 [00:00<00:00, 266.10it/s]\n",
      "Training Epoch 350: 100%|██████████| 259/259 [00:00<00:00, 264.95it/s]\n",
      "Training Epoch 351: 100%|██████████| 259/259 [00:00<00:00, 264.14it/s]\n"
     ]
    },
    {
     "name": "stdout",
     "output_type": "stream",
     "text": [
      "Epoch 350 - Train Loss: 0.1432, Train MSE: 0.1433, Train MAE: 0.2834\n",
      "Epoch 350 - Validation Loss: 2.1197, Validation MSE: 2.1153, Validation MAE: 1.1344\n"
     ]
    },
    {
     "name": "stderr",
     "output_type": "stream",
     "text": [
      "Training Epoch 352: 100%|██████████| 259/259 [00:01<00:00, 218.55it/s]\n",
      "Training Epoch 353: 100%|██████████| 259/259 [00:01<00:00, 243.93it/s]\n",
      "Training Epoch 354: 100%|██████████| 259/259 [00:00<00:00, 270.93it/s]\n",
      "Training Epoch 355: 100%|██████████| 259/259 [00:00<00:00, 268.33it/s]\n",
      "Training Epoch 356: 100%|██████████| 259/259 [00:00<00:00, 267.37it/s]\n",
      "Training Epoch 357: 100%|██████████| 259/259 [00:00<00:00, 259.03it/s]\n",
      "Training Epoch 358: 100%|██████████| 259/259 [00:01<00:00, 251.62it/s]\n",
      "Training Epoch 359: 100%|██████████| 259/259 [00:01<00:00, 236.96it/s]\n",
      "Training Epoch 360: 100%|██████████| 259/259 [00:00<00:00, 267.17it/s]\n",
      "Training Epoch 361: 100%|██████████| 259/259 [00:00<00:00, 270.17it/s]\n"
     ]
    },
    {
     "name": "stdout",
     "output_type": "stream",
     "text": [
      "Epoch 360 - Train Loss: 0.1436, Train MSE: 0.1437, Train MAE: 0.2775\n",
      "Epoch 360 - Validation Loss: 2.0507, Validation MSE: 2.0477, Validation MAE: 1.1177\n"
     ]
    },
    {
     "name": "stderr",
     "output_type": "stream",
     "text": [
      "Training Epoch 362: 100%|██████████| 259/259 [00:00<00:00, 268.27it/s]\n",
      "Training Epoch 363: 100%|██████████| 259/259 [00:00<00:00, 270.21it/s]\n",
      "Training Epoch 364: 100%|██████████| 259/259 [00:00<00:00, 288.63it/s]\n",
      "Training Epoch 365: 100%|██████████| 259/259 [00:00<00:00, 274.72it/s]\n",
      "Training Epoch 366: 100%|██████████| 259/259 [00:00<00:00, 269.13it/s]\n",
      "Training Epoch 367: 100%|██████████| 259/259 [00:00<00:00, 267.89it/s]\n",
      "Training Epoch 368: 100%|██████████| 259/259 [00:00<00:00, 267.98it/s]\n",
      "Training Epoch 369: 100%|██████████| 259/259 [00:00<00:00, 268.02it/s]\n",
      "Training Epoch 370: 100%|██████████| 259/259 [00:00<00:00, 267.59it/s]\n",
      "Training Epoch 371: 100%|██████████| 259/259 [00:00<00:00, 270.17it/s]\n"
     ]
    },
    {
     "name": "stdout",
     "output_type": "stream",
     "text": [
      "Epoch 370 - Train Loss: 0.1360, Train MSE: 0.1361, Train MAE: 0.2732\n",
      "Epoch 370 - Validation Loss: 2.0652, Validation MSE: 2.0603, Validation MAE: 1.1165\n"
     ]
    },
    {
     "name": "stderr",
     "output_type": "stream",
     "text": [
      "Training Epoch 372: 100%|██████████| 259/259 [00:00<00:00, 268.49it/s]\n",
      "Training Epoch 373: 100%|██████████| 259/259 [00:00<00:00, 267.51it/s]\n",
      "Training Epoch 374: 100%|██████████| 259/259 [00:00<00:00, 267.22it/s]\n",
      "Training Epoch 375: 100%|██████████| 259/259 [00:01<00:00, 250.53it/s]\n",
      "Training Epoch 376: 100%|██████████| 259/259 [00:00<00:00, 269.44it/s]\n",
      "Training Epoch 377: 100%|██████████| 259/259 [00:00<00:00, 267.26it/s]\n",
      "Training Epoch 378: 100%|██████████| 259/259 [00:00<00:00, 260.59it/s]\n",
      "Training Epoch 379: 100%|██████████| 259/259 [00:00<00:00, 266.50it/s]\n",
      "Training Epoch 380: 100%|██████████| 259/259 [00:00<00:00, 267.50it/s]\n",
      "Training Epoch 381: 100%|██████████| 259/259 [00:00<00:00, 266.06it/s]\n"
     ]
    },
    {
     "name": "stdout",
     "output_type": "stream",
     "text": [
      "Epoch 380 - Train Loss: 0.1373, Train MSE: 0.1374, Train MAE: 0.2756\n",
      "Epoch 380 - Validation Loss: 2.0357, Validation MSE: 2.0333, Validation MAE: 1.1133\n"
     ]
    },
    {
     "name": "stderr",
     "output_type": "stream",
     "text": [
      "Training Epoch 382: 100%|██████████| 259/259 [00:00<00:00, 267.61it/s]\n",
      "Training Epoch 383: 100%|██████████| 259/259 [00:00<00:00, 264.16it/s]\n",
      "Training Epoch 384: 100%|██████████| 259/259 [00:01<00:00, 258.41it/s]\n",
      "Training Epoch 385: 100%|██████████| 259/259 [00:00<00:00, 269.08it/s]\n",
      "Training Epoch 386: 100%|██████████| 259/259 [00:00<00:00, 267.61it/s]\n",
      "Training Epoch 387: 100%|██████████| 259/259 [00:00<00:00, 265.37it/s]\n",
      "Training Epoch 388: 100%|██████████| 259/259 [00:00<00:00, 269.27it/s]\n",
      "Training Epoch 389: 100%|██████████| 259/259 [00:00<00:00, 267.86it/s]\n",
      "Training Epoch 390: 100%|██████████| 259/259 [00:00<00:00, 285.15it/s]\n",
      "Training Epoch 391: 100%|██████████| 259/259 [00:00<00:00, 285.33it/s]\n"
     ]
    },
    {
     "name": "stdout",
     "output_type": "stream",
     "text": [
      "Epoch 390 - Train Loss: 0.1380, Train MSE: 0.1381, Train MAE: 0.2753\n",
      "Epoch 390 - Validation Loss: 2.0511, Validation MSE: 2.0481, Validation MAE: 1.1173\n"
     ]
    },
    {
     "name": "stderr",
     "output_type": "stream",
     "text": [
      "Training Epoch 392: 100%|██████████| 259/259 [00:00<00:00, 268.28it/s]\n",
      "Training Epoch 393: 100%|██████████| 259/259 [00:00<00:00, 268.03it/s]\n",
      "Training Epoch 394: 100%|██████████| 259/259 [00:00<00:00, 261.78it/s]\n",
      "Training Epoch 395: 100%|██████████| 259/259 [00:00<00:00, 266.18it/s]\n",
      "Training Epoch 396: 100%|██████████| 259/259 [00:00<00:00, 266.33it/s]\n",
      "Training Epoch 397: 100%|██████████| 259/259 [00:00<00:00, 268.85it/s]\n",
      "Training Epoch 398: 100%|██████████| 259/259 [00:00<00:00, 267.22it/s]\n",
      "Training Epoch 399: 100%|██████████| 259/259 [00:00<00:00, 266.36it/s]\n",
      "Training Epoch 400: 100%|██████████| 259/259 [00:00<00:00, 268.98it/s]\n",
      "Training Epoch 401: 100%|██████████| 259/259 [00:01<00:00, 251.76it/s]\n"
     ]
    },
    {
     "name": "stdout",
     "output_type": "stream",
     "text": [
      "Epoch 400 - Train Loss: 0.1389, Train MSE: 0.1388, Train MAE: 0.2748\n",
      "Epoch 400 - Validation Loss: 2.0603, Validation MSE: 2.0575, Validation MAE: 1.1192\n"
     ]
    },
    {
     "name": "stderr",
     "output_type": "stream",
     "text": [
      "Training Epoch 402: 100%|██████████| 259/259 [00:00<00:00, 268.10it/s]\n",
      "Training Epoch 403: 100%|██████████| 259/259 [00:01<00:00, 231.83it/s]\n",
      "Training Epoch 404: 100%|██████████| 259/259 [00:00<00:00, 264.25it/s]\n",
      "Training Epoch 405: 100%|██████████| 259/259 [00:00<00:00, 263.87it/s]\n",
      "Training Epoch 406: 100%|██████████| 259/259 [00:00<00:00, 267.84it/s]\n",
      "Training Epoch 407: 100%|██████████| 259/259 [00:00<00:00, 267.41it/s]\n",
      "Training Epoch 408: 100%|██████████| 259/259 [00:00<00:00, 265.07it/s]\n",
      "Training Epoch 409: 100%|██████████| 259/259 [00:01<00:00, 248.54it/s]\n",
      "Training Epoch 410: 100%|██████████| 259/259 [00:00<00:00, 262.35it/s]\n",
      "Training Epoch 411: 100%|██████████| 259/259 [00:00<00:00, 268.44it/s]\n"
     ]
    },
    {
     "name": "stdout",
     "output_type": "stream",
     "text": [
      "Epoch 410 - Train Loss: 0.1259, Train MSE: 0.1260, Train MAE: 0.2622\n",
      "Epoch 410 - Validation Loss: 2.0598, Validation MSE: 2.0556, Validation MAE: 1.1161\n"
     ]
    },
    {
     "name": "stderr",
     "output_type": "stream",
     "text": [
      "Training Epoch 412: 100%|██████████| 259/259 [00:00<00:00, 267.96it/s]\n",
      "Training Epoch 413: 100%|██████████| 259/259 [00:00<00:00, 268.83it/s]\n",
      "Training Epoch 414: 100%|██████████| 259/259 [00:00<00:00, 262.13it/s]\n",
      "Training Epoch 415: 100%|██████████| 259/259 [00:01<00:00, 256.69it/s]\n",
      "Training Epoch 416: 100%|██████████| 259/259 [00:01<00:00, 235.34it/s]\n",
      "Training Epoch 417: 100%|██████████| 259/259 [00:01<00:00, 229.76it/s]\n",
      "Training Epoch 418: 100%|██████████| 259/259 [00:01<00:00, 227.97it/s]\n",
      "Training Epoch 419: 100%|██████████| 259/259 [00:01<00:00, 230.92it/s]\n",
      "Training Epoch 420: 100%|██████████| 259/259 [00:01<00:00, 223.14it/s]\n",
      "Training Epoch 421: 100%|██████████| 259/259 [00:01<00:00, 224.03it/s]\n"
     ]
    },
    {
     "name": "stdout",
     "output_type": "stream",
     "text": [
      "Epoch 420 - Train Loss: 0.1301, Train MSE: 0.1301, Train MAE: 0.2662\n",
      "Epoch 420 - Validation Loss: 2.0746, Validation MSE: 2.0702, Validation MAE: 1.1136\n"
     ]
    },
    {
     "name": "stderr",
     "output_type": "stream",
     "text": [
      "Training Epoch 422: 100%|██████████| 259/259 [00:01<00:00, 221.20it/s]\n",
      "Training Epoch 423: 100%|██████████| 259/259 [00:01<00:00, 219.78it/s]\n",
      "Training Epoch 424: 100%|██████████| 259/259 [00:01<00:00, 226.36it/s]\n",
      "Training Epoch 425: 100%|██████████| 259/259 [00:01<00:00, 220.17it/s]\n",
      "Training Epoch 426: 100%|██████████| 259/259 [00:01<00:00, 228.43it/s]\n",
      "Training Epoch 427: 100%|██████████| 259/259 [00:01<00:00, 219.96it/s]\n",
      "Training Epoch 428: 100%|██████████| 259/259 [00:01<00:00, 225.87it/s]\n",
      "Training Epoch 429: 100%|██████████| 259/259 [00:01<00:00, 225.05it/s]\n",
      "Training Epoch 430: 100%|██████████| 259/259 [00:01<00:00, 227.70it/s]\n",
      "Training Epoch 431: 100%|██████████| 259/259 [00:01<00:00, 224.06it/s]\n"
     ]
    },
    {
     "name": "stdout",
     "output_type": "stream",
     "text": [
      "Epoch 430 - Train Loss: 0.1260, Train MSE: 0.1259, Train MAE: 0.2612\n",
      "Epoch 430 - Validation Loss: 2.0545, Validation MSE: 2.0507, Validation MAE: 1.1140\n"
     ]
    },
    {
     "name": "stderr",
     "output_type": "stream",
     "text": [
      "Training Epoch 432: 100%|██████████| 259/259 [00:01<00:00, 225.50it/s]\n",
      "Training Epoch 433: 100%|██████████| 259/259 [00:01<00:00, 225.82it/s]\n",
      "Training Epoch 434: 100%|██████████| 259/259 [00:01<00:00, 226.02it/s]\n",
      "Training Epoch 435: 100%|██████████| 259/259 [00:01<00:00, 227.53it/s]\n",
      "Training Epoch 436: 100%|██████████| 259/259 [00:01<00:00, 216.23it/s]\n",
      "Training Epoch 437: 100%|██████████| 259/259 [00:01<00:00, 227.25it/s]\n",
      "Training Epoch 438: 100%|██████████| 259/259 [00:01<00:00, 232.90it/s]\n",
      "Training Epoch 439: 100%|██████████| 259/259 [00:01<00:00, 240.22it/s]\n",
      "Training Epoch 440: 100%|██████████| 259/259 [00:01<00:00, 216.70it/s]\n",
      "Training Epoch 441: 100%|██████████| 259/259 [00:01<00:00, 228.37it/s]\n"
     ]
    },
    {
     "name": "stdout",
     "output_type": "stream",
     "text": [
      "Epoch 440 - Train Loss: 0.1210, Train MSE: 0.1211, Train MAE: 0.2565\n",
      "Epoch 440 - Validation Loss: 2.0645, Validation MSE: 2.0616, Validation MAE: 1.1137\n"
     ]
    },
    {
     "name": "stderr",
     "output_type": "stream",
     "text": [
      "Training Epoch 442: 100%|██████████| 259/259 [00:01<00:00, 227.76it/s]\n",
      "Training Epoch 443: 100%|██████████| 259/259 [00:01<00:00, 222.10it/s]\n",
      "Training Epoch 444: 100%|██████████| 259/259 [00:01<00:00, 222.83it/s]\n",
      "Training Epoch 445: 100%|██████████| 259/259 [00:01<00:00, 226.14it/s]\n",
      "Training Epoch 446: 100%|██████████| 259/259 [00:01<00:00, 224.58it/s]\n",
      "Training Epoch 447: 100%|██████████| 259/259 [00:01<00:00, 224.39it/s]\n",
      "Training Epoch 448: 100%|██████████| 259/259 [00:01<00:00, 226.97it/s]\n",
      "Training Epoch 449: 100%|██████████| 259/259 [00:01<00:00, 220.79it/s]\n",
      "Training Epoch 450: 100%|██████████| 259/259 [00:01<00:00, 223.79it/s]\n",
      "Training Epoch 451: 100%|██████████| 259/259 [00:01<00:00, 226.21it/s]\n"
     ]
    },
    {
     "name": "stdout",
     "output_type": "stream",
     "text": [
      "Epoch 450 - Train Loss: 0.1229, Train MSE: 0.1230, Train MAE: 0.2596\n",
      "Epoch 450 - Validation Loss: 2.0669, Validation MSE: 2.0627, Validation MAE: 1.1211\n"
     ]
    },
    {
     "name": "stderr",
     "output_type": "stream",
     "text": [
      "Training Epoch 452: 100%|██████████| 259/259 [00:01<00:00, 229.03it/s]\n",
      "Training Epoch 453: 100%|██████████| 259/259 [00:01<00:00, 229.22it/s]\n",
      "Training Epoch 454: 100%|██████████| 259/259 [00:01<00:00, 185.43it/s]\n",
      "Training Epoch 455: 100%|██████████| 259/259 [00:01<00:00, 228.11it/s]\n",
      "Training Epoch 456: 100%|██████████| 259/259 [00:01<00:00, 218.50it/s]\n",
      "Training Epoch 457: 100%|██████████| 259/259 [00:01<00:00, 221.64it/s]\n",
      "Training Epoch 458: 100%|██████████| 259/259 [00:01<00:00, 226.75it/s]\n",
      "Training Epoch 459: 100%|██████████| 259/259 [00:01<00:00, 192.11it/s]\n",
      "Training Epoch 460: 100%|██████████| 259/259 [00:01<00:00, 208.68it/s]\n",
      "Training Epoch 461: 100%|██████████| 259/259 [00:01<00:00, 220.03it/s]\n"
     ]
    },
    {
     "name": "stdout",
     "output_type": "stream",
     "text": [
      "Epoch 460 - Train Loss: 0.1176, Train MSE: 0.1177, Train MAE: 0.2539\n",
      "Epoch 460 - Validation Loss: 2.0700, Validation MSE: 2.0669, Validation MAE: 1.1156\n"
     ]
    },
    {
     "name": "stderr",
     "output_type": "stream",
     "text": [
      "Training Epoch 462: 100%|██████████| 259/259 [00:01<00:00, 181.72it/s]\n",
      "Training Epoch 463: 100%|██████████| 259/259 [00:01<00:00, 210.34it/s]\n",
      "Training Epoch 464: 100%|██████████| 259/259 [00:01<00:00, 229.44it/s]\n",
      "Training Epoch 465: 100%|██████████| 259/259 [00:01<00:00, 226.84it/s]\n",
      "Training Epoch 466: 100%|██████████| 259/259 [00:01<00:00, 209.09it/s]\n",
      "Training Epoch 467: 100%|██████████| 259/259 [00:01<00:00, 210.89it/s]\n",
      "Training Epoch 468: 100%|██████████| 259/259 [00:01<00:00, 230.35it/s]\n",
      "Training Epoch 469: 100%|██████████| 259/259 [00:01<00:00, 217.55it/s]\n",
      "Training Epoch 470: 100%|██████████| 259/259 [00:01<00:00, 220.54it/s]\n",
      "Training Epoch 471: 100%|██████████| 259/259 [00:01<00:00, 218.57it/s]\n"
     ]
    },
    {
     "name": "stdout",
     "output_type": "stream",
     "text": [
      "Epoch 470 - Train Loss: 0.1199, Train MSE: 0.1200, Train MAE: 0.2542\n",
      "Epoch 470 - Validation Loss: 2.0973, Validation MSE: 2.0942, Validation MAE: 1.1243\n"
     ]
    },
    {
     "name": "stderr",
     "output_type": "stream",
     "text": [
      "Training Epoch 472: 100%|██████████| 259/259 [00:01<00:00, 218.68it/s]\n",
      "Training Epoch 473: 100%|██████████| 259/259 [00:01<00:00, 225.25it/s]\n",
      "Training Epoch 474: 100%|██████████| 259/259 [00:01<00:00, 203.21it/s]\n",
      "Training Epoch 475: 100%|██████████| 259/259 [00:01<00:00, 217.62it/s]\n",
      "Training Epoch 476: 100%|██████████| 259/259 [00:01<00:00, 227.67it/s]\n",
      "Training Epoch 477: 100%|██████████| 259/259 [00:01<00:00, 217.03it/s]\n",
      "Training Epoch 478: 100%|██████████| 259/259 [00:01<00:00, 220.97it/s]\n",
      "Training Epoch 479: 100%|██████████| 259/259 [00:01<00:00, 214.71it/s]\n",
      "Training Epoch 480: 100%|██████████| 259/259 [00:01<00:00, 218.42it/s]\n",
      "Training Epoch 481: 100%|██████████| 259/259 [00:01<00:00, 224.88it/s]\n"
     ]
    },
    {
     "name": "stdout",
     "output_type": "stream",
     "text": [
      "Epoch 480 - Train Loss: 0.1174, Train MSE: 0.1174, Train MAE: 0.2535\n",
      "Epoch 480 - Validation Loss: 2.0449, Validation MSE: 2.0416, Validation MAE: 1.1132\n"
     ]
    },
    {
     "name": "stderr",
     "output_type": "stream",
     "text": [
      "Training Epoch 482: 100%|██████████| 259/259 [00:01<00:00, 225.14it/s]\n",
      "Training Epoch 483: 100%|██████████| 259/259 [00:01<00:00, 235.64it/s]\n",
      "Training Epoch 484: 100%|██████████| 259/259 [00:01<00:00, 237.48it/s]\n",
      "Training Epoch 485: 100%|██████████| 259/259 [00:01<00:00, 223.70it/s]\n",
      "Training Epoch 486: 100%|██████████| 259/259 [00:01<00:00, 226.32it/s]\n",
      "Training Epoch 487: 100%|██████████| 259/259 [00:01<00:00, 215.10it/s]\n",
      "Training Epoch 488: 100%|██████████| 259/259 [00:01<00:00, 224.84it/s]\n",
      "Training Epoch 489: 100%|██████████| 259/259 [00:01<00:00, 225.78it/s]\n",
      "Training Epoch 490: 100%|██████████| 259/259 [00:01<00:00, 221.94it/s]\n",
      "Training Epoch 491: 100%|██████████| 259/259 [00:01<00:00, 220.76it/s]\n"
     ]
    },
    {
     "name": "stdout",
     "output_type": "stream",
     "text": [
      "Epoch 490 - Train Loss: 0.1163, Train MSE: 0.1162, Train MAE: 0.2496\n",
      "Epoch 490 - Validation Loss: 2.0770, Validation MSE: 2.0727, Validation MAE: 1.1212\n"
     ]
    },
    {
     "name": "stderr",
     "output_type": "stream",
     "text": [
      "Training Epoch 492: 100%|██████████| 259/259 [00:01<00:00, 227.37it/s]\n",
      "Training Epoch 493: 100%|██████████| 259/259 [00:01<00:00, 224.67it/s]\n",
      "Training Epoch 494: 100%|██████████| 259/259 [00:01<00:00, 211.86it/s]\n",
      "Training Epoch 495: 100%|██████████| 259/259 [00:01<00:00, 220.72it/s]\n",
      "Training Epoch 496: 100%|██████████| 259/259 [00:01<00:00, 215.34it/s]\n",
      "Training Epoch 497: 100%|██████████| 259/259 [00:01<00:00, 212.62it/s]\n",
      "Training Epoch 498: 100%|██████████| 259/259 [00:01<00:00, 216.68it/s]\n",
      "Training Epoch 499: 100%|██████████| 259/259 [00:01<00:00, 216.89it/s]\n",
      "Training Epoch 500: 100%|██████████| 259/259 [00:01<00:00, 222.41it/s]\n",
      "Training Epoch 501: 100%|██████████| 259/259 [00:01<00:00, 189.64it/s]\n"
     ]
    },
    {
     "name": "stdout",
     "output_type": "stream",
     "text": [
      "Epoch 500 - Train Loss: 0.1172, Train MSE: 0.1170, Train MAE: 0.2497\n",
      "Epoch 500 - Validation Loss: 2.0763, Validation MSE: 2.0743, Validation MAE: 1.1268\n"
     ]
    },
    {
     "name": "stderr",
     "output_type": "stream",
     "text": [
      "Training Epoch 502: 100%|██████████| 259/259 [00:01<00:00, 223.60it/s]\n",
      "Training Epoch 503: 100%|██████████| 259/259 [00:01<00:00, 227.70it/s]\n",
      "Training Epoch 504: 100%|██████████| 259/259 [00:01<00:00, 225.68it/s]\n",
      "Training Epoch 505: 100%|██████████| 259/259 [00:01<00:00, 229.22it/s]\n",
      "Training Epoch 506: 100%|██████████| 259/259 [00:01<00:00, 232.89it/s]\n",
      "Training Epoch 507: 100%|██████████| 259/259 [00:01<00:00, 225.53it/s]\n",
      "Training Epoch 508: 100%|██████████| 259/259 [00:01<00:00, 225.94it/s]\n",
      "Training Epoch 509: 100%|██████████| 259/259 [00:01<00:00, 224.83it/s]\n",
      "Training Epoch 510: 100%|██████████| 259/259 [00:01<00:00, 227.23it/s]\n",
      "Training Epoch 511: 100%|██████████| 259/259 [00:01<00:00, 228.19it/s]\n"
     ]
    },
    {
     "name": "stdout",
     "output_type": "stream",
     "text": [
      "Epoch 510 - Train Loss: 0.1122, Train MSE: 0.1123, Train MAE: 0.2468\n",
      "Epoch 510 - Validation Loss: 2.0433, Validation MSE: 2.0403, Validation MAE: 1.1136\n"
     ]
    },
    {
     "name": "stderr",
     "output_type": "stream",
     "text": [
      "Training Epoch 512: 100%|██████████| 259/259 [00:01<00:00, 214.20it/s]\n",
      "Training Epoch 513: 100%|██████████| 259/259 [00:01<00:00, 223.10it/s]\n",
      "Training Epoch 514: 100%|██████████| 259/259 [00:01<00:00, 222.32it/s]\n",
      "Training Epoch 515: 100%|██████████| 259/259 [00:01<00:00, 214.16it/s]\n",
      "Training Epoch 516: 100%|██████████| 259/259 [00:01<00:00, 228.13it/s]\n",
      "Training Epoch 517: 100%|██████████| 259/259 [00:01<00:00, 227.44it/s]\n",
      "Training Epoch 518: 100%|██████████| 259/259 [00:01<00:00, 224.82it/s]\n",
      "Training Epoch 519: 100%|██████████| 259/259 [00:01<00:00, 228.14it/s]\n",
      "Training Epoch 520: 100%|██████████| 259/259 [00:01<00:00, 220.24it/s]\n",
      "Training Epoch 521: 100%|██████████| 259/259 [00:01<00:00, 224.34it/s]\n"
     ]
    },
    {
     "name": "stdout",
     "output_type": "stream",
     "text": [
      "Epoch 520 - Train Loss: 0.1112, Train MSE: 0.1109, Train MAE: 0.2451\n",
      "Epoch 520 - Validation Loss: 2.0552, Validation MSE: 2.0531, Validation MAE: 1.1188\n"
     ]
    },
    {
     "name": "stderr",
     "output_type": "stream",
     "text": [
      "Training Epoch 522: 100%|██████████| 259/259 [00:01<00:00, 224.30it/s]\n",
      "Training Epoch 523: 100%|██████████| 259/259 [00:01<00:00, 220.90it/s]\n",
      "Training Epoch 524: 100%|██████████| 259/259 [00:01<00:00, 223.65it/s]\n",
      "Training Epoch 525: 100%|██████████| 259/259 [00:01<00:00, 220.09it/s]\n",
      "Training Epoch 526: 100%|██████████| 259/259 [00:01<00:00, 230.32it/s]\n",
      "Training Epoch 527: 100%|██████████| 259/259 [00:01<00:00, 225.25it/s]\n",
      "Training Epoch 528: 100%|██████████| 259/259 [00:01<00:00, 236.09it/s]\n",
      "Training Epoch 529: 100%|██████████| 259/259 [00:01<00:00, 223.53it/s]\n",
      "Training Epoch 530: 100%|██████████| 259/259 [00:01<00:00, 228.07it/s]\n",
      "Training Epoch 531: 100%|██████████| 259/259 [00:01<00:00, 223.77it/s]\n"
     ]
    },
    {
     "name": "stdout",
     "output_type": "stream",
     "text": [
      "Epoch 530 - Train Loss: 0.1119, Train MSE: 0.1117, Train MAE: 0.2448\n",
      "Epoch 530 - Validation Loss: 2.0697, Validation MSE: 2.0669, Validation MAE: 1.1145\n"
     ]
    },
    {
     "name": "stderr",
     "output_type": "stream",
     "text": [
      "Training Epoch 532: 100%|██████████| 259/259 [00:01<00:00, 217.18it/s]\n",
      "Training Epoch 533: 100%|██████████| 259/259 [00:01<00:00, 228.68it/s]\n",
      "Training Epoch 534: 100%|██████████| 259/259 [00:01<00:00, 226.55it/s]\n",
      "Training Epoch 535: 100%|██████████| 259/259 [00:01<00:00, 223.28it/s]\n",
      "Training Epoch 536: 100%|██████████| 259/259 [00:01<00:00, 220.39it/s]\n",
      "Training Epoch 537: 100%|██████████| 259/259 [00:01<00:00, 222.57it/s]\n",
      "Training Epoch 538: 100%|██████████| 259/259 [00:01<00:00, 217.00it/s]\n",
      "Training Epoch 539: 100%|██████████| 259/259 [00:01<00:00, 222.73it/s]\n",
      "Training Epoch 540: 100%|██████████| 259/259 [00:01<00:00, 225.64it/s]\n",
      "Training Epoch 541: 100%|██████████| 259/259 [00:01<00:00, 225.15it/s]\n"
     ]
    },
    {
     "name": "stdout",
     "output_type": "stream",
     "text": [
      "Epoch 540 - Train Loss: 0.1076, Train MSE: 0.1075, Train MAE: 0.2393\n",
      "Epoch 540 - Validation Loss: 2.0559, Validation MSE: 2.0520, Validation MAE: 1.1148\n"
     ]
    },
    {
     "name": "stderr",
     "output_type": "stream",
     "text": [
      "Training Epoch 542: 100%|██████████| 259/259 [00:01<00:00, 226.06it/s]\n",
      "Training Epoch 543: 100%|██████████| 259/259 [00:01<00:00, 223.90it/s]\n",
      "Training Epoch 544: 100%|██████████| 259/259 [00:01<00:00, 221.01it/s]\n",
      "Training Epoch 545: 100%|██████████| 259/259 [00:01<00:00, 220.75it/s]\n",
      "Training Epoch 546: 100%|██████████| 259/259 [00:01<00:00, 226.30it/s]\n",
      "Training Epoch 547: 100%|██████████| 259/259 [00:01<00:00, 223.45it/s]\n",
      "Training Epoch 548: 100%|██████████| 259/259 [00:01<00:00, 226.76it/s]\n",
      "Training Epoch 549: 100%|██████████| 259/259 [00:01<00:00, 219.32it/s]\n",
      "Training Epoch 550: 100%|██████████| 259/259 [00:01<00:00, 226.32it/s]\n",
      "Training Epoch 551: 100%|██████████| 259/259 [00:01<00:00, 231.54it/s]\n"
     ]
    },
    {
     "name": "stdout",
     "output_type": "stream",
     "text": [
      "Epoch 550 - Train Loss: 0.1129, Train MSE: 0.1129, Train MAE: 0.2416\n",
      "Epoch 550 - Validation Loss: 2.0787, Validation MSE: 2.0746, Validation MAE: 1.1175\n"
     ]
    },
    {
     "name": "stderr",
     "output_type": "stream",
     "text": [
      "Training Epoch 552: 100%|██████████| 259/259 [00:01<00:00, 216.53it/s]\n",
      "Training Epoch 553: 100%|██████████| 259/259 [00:01<00:00, 223.67it/s]\n",
      "Training Epoch 554: 100%|██████████| 259/259 [00:01<00:00, 218.66it/s]\n",
      "Training Epoch 555: 100%|██████████| 259/259 [00:01<00:00, 228.21it/s]\n",
      "Training Epoch 556: 100%|██████████| 259/259 [00:01<00:00, 220.34it/s]\n",
      "Training Epoch 557: 100%|██████████| 259/259 [00:01<00:00, 210.08it/s]\n",
      "Training Epoch 558: 100%|██████████| 259/259 [00:01<00:00, 212.09it/s]\n",
      "Training Epoch 559: 100%|██████████| 259/259 [00:01<00:00, 206.46it/s]\n",
      "Training Epoch 560: 100%|██████████| 259/259 [00:01<00:00, 214.86it/s]\n",
      "Training Epoch 561: 100%|██████████| 259/259 [00:01<00:00, 215.99it/s]\n"
     ]
    },
    {
     "name": "stdout",
     "output_type": "stream",
     "text": [
      "Epoch 560 - Train Loss: 0.1056, Train MSE: 0.1056, Train MAE: 0.2376\n",
      "Epoch 560 - Validation Loss: 2.0607, Validation MSE: 2.0577, Validation MAE: 1.1185\n"
     ]
    },
    {
     "name": "stderr",
     "output_type": "stream",
     "text": [
      "Training Epoch 562: 100%|██████████| 259/259 [00:01<00:00, 212.24it/s]\n",
      "Training Epoch 563: 100%|██████████| 259/259 [00:01<00:00, 213.90it/s]\n",
      "Training Epoch 564: 100%|██████████| 259/259 [00:01<00:00, 212.35it/s]\n",
      "Training Epoch 565: 100%|██████████| 259/259 [00:01<00:00, 222.73it/s]\n",
      "Training Epoch 566: 100%|██████████| 259/259 [00:01<00:00, 222.78it/s]\n",
      "Training Epoch 567: 100%|██████████| 259/259 [00:01<00:00, 214.89it/s]\n",
      "Training Epoch 568: 100%|██████████| 259/259 [00:01<00:00, 212.12it/s]\n",
      "Training Epoch 569: 100%|██████████| 259/259 [00:01<00:00, 226.46it/s]\n",
      "Training Epoch 570: 100%|██████████| 259/259 [00:01<00:00, 224.96it/s]\n",
      "Training Epoch 571: 100%|██████████| 259/259 [00:01<00:00, 219.41it/s]\n"
     ]
    },
    {
     "name": "stdout",
     "output_type": "stream",
     "text": [
      "Epoch 570 - Train Loss: 0.1048, Train MSE: 0.1048, Train MAE: 0.2385\n",
      "Epoch 570 - Validation Loss: 2.0552, Validation MSE: 2.0504, Validation MAE: 1.1103\n"
     ]
    },
    {
     "name": "stderr",
     "output_type": "stream",
     "text": [
      "Training Epoch 572: 100%|██████████| 259/259 [00:01<00:00, 225.43it/s]\n",
      "Training Epoch 573: 100%|██████████| 259/259 [00:01<00:00, 238.83it/s]\n",
      "Training Epoch 574: 100%|██████████| 259/259 [00:01<00:00, 218.81it/s]\n",
      "Training Epoch 575: 100%|██████████| 259/259 [00:01<00:00, 222.08it/s]\n",
      "Training Epoch 576: 100%|██████████| 259/259 [00:01<00:00, 224.16it/s]\n",
      "Training Epoch 577: 100%|██████████| 259/259 [00:01<00:00, 218.76it/s]\n",
      "Training Epoch 578: 100%|██████████| 259/259 [00:01<00:00, 222.99it/s]\n",
      "Training Epoch 579: 100%|██████████| 259/259 [00:01<00:00, 221.84it/s]\n",
      "Training Epoch 580: 100%|██████████| 259/259 [00:01<00:00, 209.04it/s]\n",
      "Training Epoch 581: 100%|██████████| 259/259 [00:01<00:00, 165.68it/s]\n"
     ]
    },
    {
     "name": "stdout",
     "output_type": "stream",
     "text": [
      "Epoch 580 - Train Loss: 0.1017, Train MSE: 0.1018, Train MAE: 0.2339\n",
      "Epoch 580 - Validation Loss: 2.0033, Validation MSE: 1.9992, Validation MAE: 1.1015\n"
     ]
    },
    {
     "name": "stderr",
     "output_type": "stream",
     "text": [
      "Training Epoch 582: 100%|██████████| 259/259 [00:01<00:00, 194.97it/s]\n",
      "Training Epoch 583: 100%|██████████| 259/259 [00:01<00:00, 201.09it/s]\n",
      "Training Epoch 584: 100%|██████████| 259/259 [00:01<00:00, 202.38it/s]\n",
      "Training Epoch 585: 100%|██████████| 259/259 [00:01<00:00, 220.29it/s]\n",
      "Training Epoch 586: 100%|██████████| 259/259 [00:01<00:00, 201.25it/s]\n",
      "Training Epoch 587: 100%|██████████| 259/259 [00:01<00:00, 199.32it/s]\n",
      "Training Epoch 588: 100%|██████████| 259/259 [00:01<00:00, 222.32it/s]\n",
      "Training Epoch 589: 100%|██████████| 259/259 [00:01<00:00, 222.24it/s]\n",
      "Training Epoch 590: 100%|██████████| 259/259 [00:01<00:00, 224.35it/s]\n",
      "Training Epoch 591: 100%|██████████| 259/259 [00:01<00:00, 200.66it/s]\n"
     ]
    },
    {
     "name": "stdout",
     "output_type": "stream",
     "text": [
      "Epoch 590 - Train Loss: 0.1071, Train MSE: 0.1072, Train MAE: 0.2392\n",
      "Epoch 590 - Validation Loss: 2.0855, Validation MSE: 2.0814, Validation MAE: 1.1147\n"
     ]
    },
    {
     "name": "stderr",
     "output_type": "stream",
     "text": [
      "Training Epoch 592: 100%|██████████| 259/259 [00:01<00:00, 197.03it/s]\n",
      "Training Epoch 593: 100%|██████████| 259/259 [00:01<00:00, 203.93it/s]\n",
      "Training Epoch 594: 100%|██████████| 259/259 [00:01<00:00, 200.02it/s]\n",
      "Training Epoch 595: 100%|██████████| 259/259 [00:01<00:00, 192.57it/s]\n",
      "Training Epoch 596: 100%|██████████| 259/259 [00:01<00:00, 172.33it/s]\n",
      "Training Epoch 597: 100%|██████████| 259/259 [00:01<00:00, 195.97it/s]\n",
      "Training Epoch 598: 100%|██████████| 259/259 [00:01<00:00, 177.87it/s]\n",
      "Training Epoch 599: 100%|██████████| 259/259 [00:01<00:00, 196.08it/s]\n",
      "Training Epoch 600: 100%|██████████| 259/259 [00:01<00:00, 184.68it/s]\n",
      "Training Epoch 601: 100%|██████████| 259/259 [00:01<00:00, 194.58it/s]\n"
     ]
    },
    {
     "name": "stdout",
     "output_type": "stream",
     "text": [
      "Epoch 600 - Train Loss: 0.1058, Train MSE: 0.1058, Train MAE: 0.2348\n",
      "Epoch 600 - Validation Loss: 2.0160, Validation MSE: 2.0135, Validation MAE: 1.1057\n"
     ]
    },
    {
     "name": "stderr",
     "output_type": "stream",
     "text": [
      "Training Epoch 602: 100%|██████████| 259/259 [00:01<00:00, 195.46it/s]\n",
      "Training Epoch 603: 100%|██████████| 259/259 [00:01<00:00, 191.30it/s]\n",
      "Training Epoch 604: 100%|██████████| 259/259 [00:01<00:00, 202.71it/s]\n",
      "Training Epoch 605: 100%|██████████| 259/259 [00:01<00:00, 197.48it/s]\n",
      "Training Epoch 606: 100%|██████████| 259/259 [00:01<00:00, 189.61it/s]\n",
      "Training Epoch 607: 100%|██████████| 259/259 [00:01<00:00, 198.32it/s]\n",
      "Training Epoch 608: 100%|██████████| 259/259 [00:01<00:00, 191.19it/s]\n",
      "Training Epoch 609: 100%|██████████| 259/259 [00:01<00:00, 195.19it/s]\n",
      "Training Epoch 610: 100%|██████████| 259/259 [00:01<00:00, 183.63it/s]\n",
      "Training Epoch 611: 100%|██████████| 259/259 [00:01<00:00, 197.16it/s]\n"
     ]
    },
    {
     "name": "stdout",
     "output_type": "stream",
     "text": [
      "Epoch 610 - Train Loss: 0.1005, Train MSE: 0.1005, Train MAE: 0.2325\n",
      "Epoch 610 - Validation Loss: 2.0543, Validation MSE: 2.0519, Validation MAE: 1.1144\n"
     ]
    },
    {
     "name": "stderr",
     "output_type": "stream",
     "text": [
      "Training Epoch 612: 100%|██████████| 259/259 [00:01<00:00, 215.47it/s]\n",
      "Training Epoch 613: 100%|██████████| 259/259 [00:01<00:00, 212.27it/s]\n",
      "Training Epoch 614: 100%|██████████| 259/259 [00:01<00:00, 213.04it/s]\n",
      "Training Epoch 615: 100%|██████████| 259/259 [00:01<00:00, 228.20it/s]\n",
      "Training Epoch 616: 100%|██████████| 259/259 [00:01<00:00, 203.70it/s]\n",
      "Training Epoch 617: 100%|██████████| 259/259 [00:01<00:00, 212.56it/s]\n",
      "Training Epoch 618: 100%|██████████| 259/259 [00:01<00:00, 214.61it/s]\n",
      "Training Epoch 619: 100%|██████████| 259/259 [00:01<00:00, 214.95it/s]\n",
      "Training Epoch 620: 100%|██████████| 259/259 [00:01<00:00, 213.60it/s]\n",
      "Training Epoch 621: 100%|██████████| 259/259 [00:01<00:00, 216.35it/s]\n"
     ]
    },
    {
     "name": "stdout",
     "output_type": "stream",
     "text": [
      "Epoch 620 - Train Loss: 0.1005, Train MSE: 0.1006, Train MAE: 0.2311\n",
      "Epoch 620 - Validation Loss: 2.0342, Validation MSE: 2.0313, Validation MAE: 1.1107\n"
     ]
    },
    {
     "name": "stderr",
     "output_type": "stream",
     "text": [
      "Training Epoch 622: 100%|██████████| 259/259 [00:01<00:00, 216.89it/s]\n",
      "Training Epoch 623: 100%|██████████| 259/259 [00:01<00:00, 214.22it/s]\n",
      "Training Epoch 624: 100%|██████████| 259/259 [00:01<00:00, 199.50it/s]\n",
      "Training Epoch 625: 100%|██████████| 259/259 [00:01<00:00, 217.51it/s]\n",
      "Training Epoch 626: 100%|██████████| 259/259 [00:01<00:00, 215.08it/s]\n",
      "Training Epoch 627: 100%|██████████| 259/259 [00:01<00:00, 217.51it/s]\n",
      "Training Epoch 628: 100%|██████████| 259/259 [00:01<00:00, 218.13it/s]\n",
      "Training Epoch 629: 100%|██████████| 259/259 [00:01<00:00, 216.83it/s]\n",
      "Training Epoch 630: 100%|██████████| 259/259 [00:01<00:00, 215.64it/s]\n",
      "Training Epoch 631: 100%|██████████| 259/259 [00:01<00:00, 221.51it/s]\n"
     ]
    },
    {
     "name": "stdout",
     "output_type": "stream",
     "text": [
      "Epoch 630 - Train Loss: 0.0964, Train MSE: 0.0965, Train MAE: 0.2273\n",
      "Epoch 630 - Validation Loss: 2.0659, Validation MSE: 2.0630, Validation MAE: 1.1166\n"
     ]
    },
    {
     "name": "stderr",
     "output_type": "stream",
     "text": [
      "Training Epoch 632: 100%|██████████| 259/259 [00:01<00:00, 213.69it/s]\n",
      "Training Epoch 633: 100%|██████████| 259/259 [00:01<00:00, 217.34it/s]\n",
      "Training Epoch 634: 100%|██████████| 259/259 [00:01<00:00, 215.14it/s]\n",
      "Training Epoch 635: 100%|██████████| 259/259 [00:01<00:00, 213.73it/s]\n",
      "Training Epoch 636: 100%|██████████| 259/259 [00:01<00:00, 213.59it/s]\n",
      "Training Epoch 637: 100%|██████████| 259/259 [00:01<00:00, 226.48it/s]\n",
      "Training Epoch 638: 100%|██████████| 259/259 [00:01<00:00, 233.23it/s]\n",
      "Training Epoch 639: 100%|██████████| 259/259 [00:01<00:00, 218.44it/s]\n",
      "Training Epoch 640: 100%|██████████| 259/259 [00:01<00:00, 197.25it/s]\n",
      "Training Epoch 641: 100%|██████████| 259/259 [00:01<00:00, 194.49it/s]\n"
     ]
    },
    {
     "name": "stdout",
     "output_type": "stream",
     "text": [
      "Epoch 640 - Train Loss: 0.0979, Train MSE: 0.0978, Train MAE: 0.2271\n",
      "Epoch 640 - Validation Loss: 2.0720, Validation MSE: 2.0686, Validation MAE: 1.1203\n"
     ]
    },
    {
     "name": "stderr",
     "output_type": "stream",
     "text": [
      "Training Epoch 642: 100%|██████████| 259/259 [00:01<00:00, 198.56it/s]\n",
      "Training Epoch 643: 100%|██████████| 259/259 [00:01<00:00, 194.06it/s]\n",
      "Training Epoch 644: 100%|██████████| 259/259 [00:01<00:00, 197.50it/s]\n",
      "Training Epoch 645: 100%|██████████| 259/259 [00:01<00:00, 203.20it/s]\n",
      "Training Epoch 646: 100%|██████████| 259/259 [00:01<00:00, 222.18it/s]\n",
      "Training Epoch 647: 100%|██████████| 259/259 [00:01<00:00, 221.81it/s]\n",
      "Training Epoch 648: 100%|██████████| 259/259 [00:01<00:00, 215.30it/s]\n",
      "Training Epoch 649: 100%|██████████| 259/259 [00:01<00:00, 213.49it/s]\n",
      "Training Epoch 650: 100%|██████████| 259/259 [00:01<00:00, 217.48it/s]\n",
      "Training Epoch 651: 100%|██████████| 259/259 [00:01<00:00, 221.51it/s]\n"
     ]
    },
    {
     "name": "stdout",
     "output_type": "stream",
     "text": [
      "Epoch 650 - Train Loss: 0.0947, Train MSE: 0.0947, Train MAE: 0.2250\n",
      "Epoch 650 - Validation Loss: 2.0431, Validation MSE: 2.0398, Validation MAE: 1.1131\n"
     ]
    },
    {
     "name": "stderr",
     "output_type": "stream",
     "text": [
      "Training Epoch 652: 100%|██████████| 259/259 [00:01<00:00, 215.89it/s]\n",
      "Training Epoch 653: 100%|██████████| 259/259 [00:01<00:00, 220.69it/s]\n",
      "Training Epoch 654: 100%|██████████| 259/259 [00:01<00:00, 215.62it/s]\n",
      "Training Epoch 655: 100%|██████████| 259/259 [00:01<00:00, 210.37it/s]\n",
      "Training Epoch 656: 100%|██████████| 259/259 [00:01<00:00, 199.24it/s]\n",
      "Training Epoch 657: 100%|██████████| 259/259 [00:01<00:00, 217.66it/s]\n",
      "Training Epoch 658: 100%|██████████| 259/259 [00:01<00:00, 218.52it/s]\n",
      "Training Epoch 659: 100%|██████████| 259/259 [00:01<00:00, 237.09it/s]\n",
      "Training Epoch 660: 100%|██████████| 259/259 [00:01<00:00, 225.69it/s]\n",
      "Training Epoch 661: 100%|██████████| 259/259 [00:01<00:00, 217.68it/s]\n"
     ]
    },
    {
     "name": "stdout",
     "output_type": "stream",
     "text": [
      "Epoch 660 - Train Loss: 0.0928, Train MSE: 0.0927, Train MAE: 0.2220\n",
      "Epoch 660 - Validation Loss: 2.0785, Validation MSE: 2.0754, Validation MAE: 1.1199\n"
     ]
    },
    {
     "name": "stderr",
     "output_type": "stream",
     "text": [
      "Training Epoch 662: 100%|██████████| 259/259 [00:01<00:00, 214.50it/s]\n",
      "Training Epoch 663: 100%|██████████| 259/259 [00:01<00:00, 226.48it/s]\n",
      "Training Epoch 664: 100%|██████████| 259/259 [00:01<00:00, 228.05it/s]\n",
      "Training Epoch 665: 100%|██████████| 259/259 [00:01<00:00, 223.96it/s]\n",
      "Training Epoch 666: 100%|██████████| 259/259 [00:01<00:00, 219.70it/s]\n",
      "Training Epoch 667: 100%|██████████| 259/259 [00:01<00:00, 225.83it/s]\n",
      "Training Epoch 668: 100%|██████████| 259/259 [00:01<00:00, 210.30it/s]\n",
      "Training Epoch 669: 100%|██████████| 259/259 [00:01<00:00, 215.92it/s]\n",
      "Training Epoch 670: 100%|██████████| 259/259 [00:01<00:00, 216.19it/s]\n",
      "Training Epoch 671: 100%|██████████| 259/259 [00:01<00:00, 197.96it/s]\n"
     ]
    },
    {
     "name": "stdout",
     "output_type": "stream",
     "text": [
      "Epoch 670 - Train Loss: 0.0933, Train MSE: 0.0934, Train MAE: 0.2225\n",
      "Epoch 670 - Validation Loss: 2.0652, Validation MSE: 2.0626, Validation MAE: 1.1199\n"
     ]
    },
    {
     "name": "stderr",
     "output_type": "stream",
     "text": [
      "Training Epoch 672: 100%|██████████| 259/259 [00:01<00:00, 214.52it/s]\n",
      "Training Epoch 673: 100%|██████████| 259/259 [00:01<00:00, 212.10it/s]\n",
      "Training Epoch 674: 100%|██████████| 259/259 [00:01<00:00, 196.99it/s]\n",
      "Training Epoch 675: 100%|██████████| 259/259 [00:01<00:00, 212.98it/s]\n",
      "Training Epoch 676: 100%|██████████| 259/259 [00:01<00:00, 225.49it/s]\n",
      "Training Epoch 677: 100%|██████████| 259/259 [00:01<00:00, 224.31it/s]\n",
      "Training Epoch 678: 100%|██████████| 259/259 [00:01<00:00, 220.76it/s]\n",
      "Training Epoch 679: 100%|██████████| 259/259 [00:01<00:00, 218.00it/s]\n",
      "Training Epoch 680: 100%|██████████| 259/259 [00:01<00:00, 211.80it/s]\n",
      "Training Epoch 681: 100%|██████████| 259/259 [00:01<00:00, 229.87it/s]\n"
     ]
    },
    {
     "name": "stdout",
     "output_type": "stream",
     "text": [
      "Epoch 680 - Train Loss: 0.0934, Train MSE: 0.0935, Train MAE: 0.2233\n",
      "Epoch 680 - Validation Loss: 2.0848, Validation MSE: 2.0815, Validation MAE: 1.1216\n"
     ]
    },
    {
     "name": "stderr",
     "output_type": "stream",
     "text": [
      "Training Epoch 682: 100%|██████████| 259/259 [00:01<00:00, 224.16it/s]\n",
      "Training Epoch 683: 100%|██████████| 259/259 [00:01<00:00, 212.12it/s]\n",
      "Training Epoch 684: 100%|██████████| 259/259 [00:01<00:00, 197.97it/s]\n",
      "Training Epoch 685: 100%|██████████| 259/259 [00:01<00:00, 200.25it/s]\n",
      "Training Epoch 686: 100%|██████████| 259/259 [00:01<00:00, 202.05it/s]\n",
      "Training Epoch 687: 100%|██████████| 259/259 [00:01<00:00, 184.78it/s]\n",
      "Training Epoch 688: 100%|██████████| 259/259 [00:01<00:00, 213.76it/s]\n",
      "Training Epoch 689: 100%|██████████| 259/259 [00:01<00:00, 226.43it/s]\n",
      "Training Epoch 690: 100%|██████████| 259/259 [00:01<00:00, 210.54it/s]\n",
      "Training Epoch 691: 100%|██████████| 259/259 [00:01<00:00, 209.91it/s]\n"
     ]
    },
    {
     "name": "stdout",
     "output_type": "stream",
     "text": [
      "Epoch 690 - Train Loss: 0.0944, Train MSE: 0.0944, Train MAE: 0.2246\n",
      "Epoch 690 - Validation Loss: 2.0654, Validation MSE: 2.0627, Validation MAE: 1.1242\n"
     ]
    },
    {
     "name": "stderr",
     "output_type": "stream",
     "text": [
      "Training Epoch 692: 100%|██████████| 259/259 [00:01<00:00, 212.84it/s]\n",
      "Training Epoch 693: 100%|██████████| 259/259 [00:01<00:00, 228.68it/s]\n",
      "Training Epoch 694: 100%|██████████| 259/259 [00:01<00:00, 222.33it/s]\n",
      "Training Epoch 695: 100%|██████████| 259/259 [00:01<00:00, 224.87it/s]\n",
      "Training Epoch 696: 100%|██████████| 259/259 [00:01<00:00, 211.75it/s]\n",
      "Training Epoch 697: 100%|██████████| 259/259 [00:01<00:00, 211.19it/s]\n",
      "Training Epoch 698: 100%|██████████| 259/259 [00:01<00:00, 205.67it/s]\n",
      "Training Epoch 699: 100%|██████████| 259/259 [00:01<00:00, 199.83it/s]\n",
      "Training Epoch 700: 100%|██████████| 259/259 [00:01<00:00, 206.90it/s]\n",
      "Training Epoch 701: 100%|██████████| 259/259 [00:01<00:00, 224.05it/s]\n"
     ]
    },
    {
     "name": "stdout",
     "output_type": "stream",
     "text": [
      "Epoch 700 - Train Loss: 0.0897, Train MSE: 0.0897, Train MAE: 0.2192\n",
      "Epoch 700 - Validation Loss: 2.0746, Validation MSE: 2.0717, Validation MAE: 1.1245\n"
     ]
    },
    {
     "name": "stderr",
     "output_type": "stream",
     "text": [
      "Training Epoch 702: 100%|██████████| 259/259 [00:01<00:00, 224.70it/s]\n",
      "Training Epoch 703: 100%|██████████| 259/259 [00:01<00:00, 237.85it/s]\n",
      "Training Epoch 704: 100%|██████████| 259/259 [00:01<00:00, 232.24it/s]\n",
      "Training Epoch 705: 100%|██████████| 259/259 [00:01<00:00, 201.19it/s]\n",
      "Training Epoch 706: 100%|██████████| 259/259 [00:01<00:00, 209.10it/s]\n",
      "Training Epoch 707: 100%|██████████| 259/259 [00:01<00:00, 219.98it/s]\n",
      "Training Epoch 708: 100%|██████████| 259/259 [00:01<00:00, 218.84it/s]\n",
      "Training Epoch 709: 100%|██████████| 259/259 [00:01<00:00, 222.50it/s]\n",
      "Training Epoch 710: 100%|██████████| 259/259 [00:01<00:00, 215.92it/s]\n",
      "Training Epoch 711: 100%|██████████| 259/259 [00:01<00:00, 215.30it/s]\n"
     ]
    },
    {
     "name": "stdout",
     "output_type": "stream",
     "text": [
      "Epoch 710 - Train Loss: 0.0912, Train MSE: 0.0913, Train MAE: 0.2175\n",
      "Epoch 710 - Validation Loss: 2.0620, Validation MSE: 2.0592, Validation MAE: 1.1231\n"
     ]
    },
    {
     "name": "stderr",
     "output_type": "stream",
     "text": [
      "Training Epoch 712: 100%|██████████| 259/259 [00:01<00:00, 217.12it/s]\n",
      "Training Epoch 713: 100%|██████████| 259/259 [00:01<00:00, 202.13it/s]\n",
      "Training Epoch 714: 100%|██████████| 259/259 [00:01<00:00, 204.15it/s]\n",
      "Training Epoch 715: 100%|██████████| 259/259 [00:01<00:00, 192.11it/s]\n",
      "Training Epoch 716: 100%|██████████| 259/259 [00:01<00:00, 190.87it/s]\n",
      "Training Epoch 717: 100%|██████████| 259/259 [00:01<00:00, 196.40it/s]\n",
      "Training Epoch 718: 100%|██████████| 259/259 [00:01<00:00, 184.74it/s]\n",
      "Training Epoch 719: 100%|██████████| 259/259 [00:01<00:00, 196.78it/s]\n",
      "Training Epoch 720: 100%|██████████| 259/259 [00:01<00:00, 201.26it/s]\n",
      "Training Epoch 721: 100%|██████████| 259/259 [00:01<00:00, 216.74it/s]\n"
     ]
    },
    {
     "name": "stdout",
     "output_type": "stream",
     "text": [
      "Epoch 720 - Train Loss: 0.0924, Train MSE: 0.0924, Train MAE: 0.2227\n",
      "Epoch 720 - Validation Loss: 2.0295, Validation MSE: 2.0272, Validation MAE: 1.1081\n"
     ]
    },
    {
     "name": "stderr",
     "output_type": "stream",
     "text": [
      "Training Epoch 722: 100%|██████████| 259/259 [00:01<00:00, 199.34it/s]\n",
      "Training Epoch 723: 100%|██████████| 259/259 [00:01<00:00, 201.51it/s]\n",
      "Training Epoch 724: 100%|██████████| 259/259 [00:01<00:00, 227.30it/s]\n",
      "Training Epoch 725: 100%|██████████| 259/259 [00:01<00:00, 239.04it/s]\n",
      "Training Epoch 726: 100%|██████████| 259/259 [00:01<00:00, 216.89it/s]\n",
      "Training Epoch 727: 100%|██████████| 259/259 [00:01<00:00, 214.57it/s]\n",
      "Training Epoch 728: 100%|██████████| 259/259 [00:01<00:00, 203.87it/s]\n",
      "Training Epoch 729: 100%|██████████| 259/259 [00:01<00:00, 201.12it/s]\n",
      "Training Epoch 730: 100%|██████████| 259/259 [00:01<00:00, 201.13it/s]\n",
      "Training Epoch 731: 100%|██████████| 259/259 [00:01<00:00, 212.12it/s]\n"
     ]
    },
    {
     "name": "stdout",
     "output_type": "stream",
     "text": [
      "Epoch 730 - Train Loss: 0.0913, Train MSE: 0.0913, Train MAE: 0.2198\n",
      "Epoch 730 - Validation Loss: 2.0442, Validation MSE: 2.0412, Validation MAE: 1.1094\n"
     ]
    },
    {
     "name": "stderr",
     "output_type": "stream",
     "text": [
      "Training Epoch 732: 100%|██████████| 259/259 [00:01<00:00, 215.23it/s]\n",
      "Training Epoch 733: 100%|██████████| 259/259 [00:01<00:00, 210.12it/s]\n",
      "Training Epoch 734: 100%|██████████| 259/259 [00:01<00:00, 211.20it/s]\n",
      "Training Epoch 735: 100%|██████████| 259/259 [00:01<00:00, 218.03it/s]\n",
      "Training Epoch 736: 100%|██████████| 259/259 [00:01<00:00, 215.43it/s]\n",
      "Training Epoch 737: 100%|██████████| 259/259 [00:01<00:00, 204.21it/s]\n",
      "Training Epoch 738: 100%|██████████| 259/259 [00:01<00:00, 200.30it/s]\n",
      "Training Epoch 739: 100%|██████████| 259/259 [00:01<00:00, 224.33it/s]\n",
      "Training Epoch 740: 100%|██████████| 259/259 [00:01<00:00, 223.30it/s]\n",
      "Training Epoch 741: 100%|██████████| 259/259 [00:01<00:00, 209.59it/s]\n"
     ]
    },
    {
     "name": "stdout",
     "output_type": "stream",
     "text": [
      "Epoch 740 - Train Loss: 0.0917, Train MSE: 0.0915, Train MAE: 0.2194\n",
      "Epoch 740 - Validation Loss: 2.0776, Validation MSE: 2.0740, Validation MAE: 1.1214\n"
     ]
    },
    {
     "name": "stderr",
     "output_type": "stream",
     "text": [
      "Training Epoch 742: 100%|██████████| 259/259 [00:01<00:00, 208.55it/s]\n",
      "Training Epoch 743: 100%|██████████| 259/259 [00:01<00:00, 223.30it/s]\n",
      "Training Epoch 744: 100%|██████████| 259/259 [00:01<00:00, 229.56it/s]\n",
      "Training Epoch 745: 100%|██████████| 259/259 [00:01<00:00, 224.51it/s]\n",
      "Training Epoch 746: 100%|██████████| 259/259 [00:01<00:00, 198.05it/s]\n",
      "Training Epoch 747: 100%|██████████| 259/259 [00:01<00:00, 196.32it/s]\n",
      "Training Epoch 748: 100%|██████████| 259/259 [00:01<00:00, 211.23it/s]\n",
      "Training Epoch 749: 100%|██████████| 259/259 [00:01<00:00, 207.88it/s]\n",
      "Training Epoch 750: 100%|██████████| 259/259 [00:01<00:00, 210.40it/s]\n",
      "Training Epoch 751: 100%|██████████| 259/259 [00:01<00:00, 210.15it/s]\n"
     ]
    },
    {
     "name": "stdout",
     "output_type": "stream",
     "text": [
      "Epoch 750 - Train Loss: 0.0878, Train MSE: 0.0878, Train MAE: 0.2173\n",
      "Epoch 750 - Validation Loss: 2.0689, Validation MSE: 2.0663, Validation MAE: 1.1199\n"
     ]
    },
    {
     "name": "stderr",
     "output_type": "stream",
     "text": [
      "Training Epoch 752: 100%|██████████| 259/259 [00:01<00:00, 210.87it/s]\n",
      "Training Epoch 753: 100%|██████████| 259/259 [00:01<00:00, 216.73it/s]\n",
      "Training Epoch 754: 100%|██████████| 259/259 [00:01<00:00, 215.67it/s]\n",
      "Training Epoch 755: 100%|██████████| 259/259 [00:01<00:00, 214.08it/s]\n",
      "Training Epoch 756: 100%|██████████| 259/259 [00:01<00:00, 214.49it/s]\n",
      "Training Epoch 757: 100%|██████████| 259/259 [00:01<00:00, 214.31it/s]\n",
      "Training Epoch 758: 100%|██████████| 259/259 [00:01<00:00, 208.95it/s]\n",
      "Training Epoch 759: 100%|██████████| 259/259 [00:01<00:00, 203.76it/s]\n",
      "Training Epoch 760: 100%|██████████| 259/259 [00:01<00:00, 207.86it/s]\n",
      "Training Epoch 761: 100%|██████████| 259/259 [00:01<00:00, 202.75it/s]\n"
     ]
    },
    {
     "name": "stdout",
     "output_type": "stream",
     "text": [
      "Epoch 760 - Train Loss: 0.0847, Train MSE: 0.0847, Train MAE: 0.2126\n",
      "Epoch 760 - Validation Loss: 2.0366, Validation MSE: 2.0337, Validation MAE: 1.1063\n"
     ]
    },
    {
     "name": "stderr",
     "output_type": "stream",
     "text": [
      "Training Epoch 762: 100%|██████████| 259/259 [00:01<00:00, 193.19it/s]\n",
      "Training Epoch 763: 100%|██████████| 259/259 [00:01<00:00, 200.15it/s]\n",
      "Training Epoch 764: 100%|██████████| 259/259 [00:01<00:00, 189.76it/s]\n",
      "Training Epoch 765: 100%|██████████| 259/259 [00:01<00:00, 199.73it/s]\n",
      "Training Epoch 766: 100%|██████████| 259/259 [00:01<00:00, 222.10it/s]\n",
      "Training Epoch 767: 100%|██████████| 259/259 [00:01<00:00, 215.85it/s]\n",
      "Training Epoch 768: 100%|██████████| 259/259 [00:01<00:00, 235.05it/s]\n",
      "Training Epoch 769: 100%|██████████| 259/259 [00:01<00:00, 223.62it/s]\n",
      "Training Epoch 770: 100%|██████████| 259/259 [00:01<00:00, 220.93it/s]\n",
      "Training Epoch 771: 100%|██████████| 259/259 [00:01<00:00, 220.60it/s]\n"
     ]
    },
    {
     "name": "stdout",
     "output_type": "stream",
     "text": [
      "Epoch 770 - Train Loss: 0.0878, Train MSE: 0.0879, Train MAE: 0.2169\n",
      "Epoch 770 - Validation Loss: 2.0671, Validation MSE: 2.0641, Validation MAE: 1.1266\n"
     ]
    },
    {
     "name": "stderr",
     "output_type": "stream",
     "text": [
      "Training Epoch 772: 100%|██████████| 259/259 [00:01<00:00, 223.13it/s]\n",
      "Training Epoch 773: 100%|██████████| 259/259 [00:01<00:00, 226.38it/s]\n",
      "Training Epoch 774: 100%|██████████| 259/259 [00:01<00:00, 210.39it/s]\n",
      "Training Epoch 775: 100%|██████████| 259/259 [00:01<00:00, 207.91it/s]\n",
      "Training Epoch 776: 100%|██████████| 259/259 [00:01<00:00, 195.24it/s]\n",
      "Training Epoch 777: 100%|██████████| 259/259 [00:01<00:00, 198.24it/s]\n",
      "Training Epoch 778: 100%|██████████| 259/259 [00:01<00:00, 182.34it/s]\n",
      "Training Epoch 779: 100%|██████████| 259/259 [00:01<00:00, 193.05it/s]\n",
      "Training Epoch 780: 100%|██████████| 259/259 [00:01<00:00, 200.02it/s]\n",
      "Training Epoch 781: 100%|██████████| 259/259 [00:01<00:00, 200.42it/s]\n"
     ]
    },
    {
     "name": "stdout",
     "output_type": "stream",
     "text": [
      "Epoch 780 - Train Loss: 0.0865, Train MSE: 0.0865, Train MAE: 0.2132\n",
      "Epoch 780 - Validation Loss: 2.0370, Validation MSE: 2.0336, Validation MAE: 1.1092\n"
     ]
    },
    {
     "name": "stderr",
     "output_type": "stream",
     "text": [
      "Training Epoch 782: 100%|██████████| 259/259 [00:01<00:00, 204.45it/s]\n",
      "Training Epoch 783: 100%|██████████| 259/259 [00:01<00:00, 208.87it/s]\n",
      "Training Epoch 784: 100%|██████████| 259/259 [00:01<00:00, 214.38it/s]\n",
      "Training Epoch 785: 100%|██████████| 259/259 [00:01<00:00, 201.17it/s]\n",
      "Training Epoch 786: 100%|██████████| 259/259 [00:01<00:00, 203.01it/s]\n",
      "Training Epoch 787: 100%|██████████| 259/259 [00:01<00:00, 201.87it/s]\n",
      "Training Epoch 788: 100%|██████████| 259/259 [00:01<00:00, 216.17it/s]\n",
      "Training Epoch 789: 100%|██████████| 259/259 [00:01<00:00, 224.97it/s]\n",
      "Training Epoch 790: 100%|██████████| 259/259 [00:01<00:00, 243.19it/s]\n",
      "Training Epoch 791: 100%|██████████| 259/259 [00:01<00:00, 221.61it/s]\n"
     ]
    },
    {
     "name": "stdout",
     "output_type": "stream",
     "text": [
      "Epoch 790 - Train Loss: 0.0835, Train MSE: 0.0835, Train MAE: 0.2094\n",
      "Epoch 790 - Validation Loss: 2.0585, Validation MSE: 2.0546, Validation MAE: 1.1138\n"
     ]
    },
    {
     "name": "stderr",
     "output_type": "stream",
     "text": [
      "Training Epoch 792: 100%|██████████| 259/259 [00:01<00:00, 223.52it/s]\n",
      "Training Epoch 793: 100%|██████████| 259/259 [00:01<00:00, 223.81it/s]\n",
      "Training Epoch 794: 100%|██████████| 259/259 [00:01<00:00, 226.96it/s]\n",
      "Training Epoch 795: 100%|██████████| 259/259 [00:01<00:00, 207.63it/s]\n",
      "Training Epoch 796: 100%|██████████| 259/259 [00:01<00:00, 211.36it/s]\n",
      "Training Epoch 797: 100%|██████████| 259/259 [00:01<00:00, 200.85it/s]\n",
      "Training Epoch 798: 100%|██████████| 259/259 [00:01<00:00, 206.42it/s]\n",
      "Training Epoch 799: 100%|██████████| 259/259 [00:01<00:00, 197.46it/s]\n",
      "Training Epoch 800: 100%|██████████| 259/259 [00:01<00:00, 199.29it/s]\n",
      "Training Epoch 801: 100%|██████████| 259/259 [00:01<00:00, 204.63it/s]\n"
     ]
    },
    {
     "name": "stdout",
     "output_type": "stream",
     "text": [
      "Epoch 800 - Train Loss: 0.0847, Train MSE: 0.0846, Train MAE: 0.2131\n",
      "Epoch 800 - Validation Loss: 2.0480, Validation MSE: 2.0449, Validation MAE: 1.1183\n"
     ]
    },
    {
     "name": "stderr",
     "output_type": "stream",
     "text": [
      "Training Epoch 802: 100%|██████████| 259/259 [00:01<00:00, 212.21it/s]\n",
      "Training Epoch 803: 100%|██████████| 259/259 [00:01<00:00, 225.96it/s]\n",
      "Training Epoch 804: 100%|██████████| 259/259 [00:01<00:00, 208.09it/s]\n",
      "Training Epoch 805: 100%|██████████| 259/259 [00:01<00:00, 216.75it/s]\n",
      "Training Epoch 806: 100%|██████████| 259/259 [00:01<00:00, 228.42it/s]\n",
      "Training Epoch 807: 100%|██████████| 259/259 [00:01<00:00, 215.25it/s]\n",
      "Training Epoch 808: 100%|██████████| 259/259 [00:01<00:00, 222.47it/s]\n",
      "Training Epoch 809: 100%|██████████| 259/259 [00:01<00:00, 220.54it/s]\n",
      "Training Epoch 810: 100%|██████████| 259/259 [00:01<00:00, 226.36it/s]\n",
      "Training Epoch 811: 100%|██████████| 259/259 [00:01<00:00, 227.17it/s]\n"
     ]
    },
    {
     "name": "stdout",
     "output_type": "stream",
     "text": [
      "Epoch 810 - Train Loss: 0.0821, Train MSE: 0.0820, Train MAE: 0.2094\n",
      "Epoch 810 - Validation Loss: 2.1077, Validation MSE: 2.1048, Validation MAE: 1.1217\n"
     ]
    },
    {
     "name": "stderr",
     "output_type": "stream",
     "text": [
      "Training Epoch 812: 100%|██████████| 259/259 [00:01<00:00, 237.70it/s]\n",
      "Training Epoch 813: 100%|██████████| 259/259 [00:01<00:00, 227.84it/s]\n",
      "Training Epoch 814: 100%|██████████| 259/259 [00:01<00:00, 199.62it/s]\n",
      "Training Epoch 815: 100%|██████████| 259/259 [00:01<00:00, 193.37it/s]\n",
      "Training Epoch 816: 100%|██████████| 259/259 [00:01<00:00, 207.08it/s]\n",
      "Training Epoch 817: 100%|██████████| 259/259 [00:01<00:00, 205.48it/s]\n",
      "Training Epoch 818: 100%|██████████| 259/259 [00:01<00:00, 201.92it/s]\n",
      "Training Epoch 819: 100%|██████████| 259/259 [00:01<00:00, 201.07it/s]\n",
      "Training Epoch 820: 100%|██████████| 259/259 [00:01<00:00, 195.91it/s]\n",
      "Training Epoch 821: 100%|██████████| 259/259 [00:01<00:00, 207.62it/s]\n"
     ]
    },
    {
     "name": "stdout",
     "output_type": "stream",
     "text": [
      "Epoch 820 - Train Loss: 0.0843, Train MSE: 0.0841, Train MAE: 0.2097\n",
      "Epoch 820 - Validation Loss: 2.0860, Validation MSE: 2.0826, Validation MAE: 1.1190\n"
     ]
    },
    {
     "name": "stderr",
     "output_type": "stream",
     "text": [
      "Training Epoch 822: 100%|██████████| 259/259 [00:01<00:00, 207.73it/s]\n",
      "Training Epoch 823: 100%|██████████| 259/259 [00:01<00:00, 193.78it/s]\n",
      "Training Epoch 824: 100%|██████████| 259/259 [00:01<00:00, 195.75it/s]\n",
      "Training Epoch 825: 100%|██████████| 259/259 [00:01<00:00, 219.19it/s]\n",
      "Training Epoch 826: 100%|██████████| 259/259 [00:01<00:00, 207.47it/s]\n",
      "Training Epoch 827: 100%|██████████| 259/259 [00:01<00:00, 199.33it/s]\n",
      "Training Epoch 828: 100%|██████████| 259/259 [00:01<00:00, 207.36it/s]\n",
      "Training Epoch 829: 100%|██████████| 259/259 [00:01<00:00, 195.90it/s]\n",
      "Training Epoch 830: 100%|██████████| 259/259 [00:01<00:00, 207.68it/s]\n",
      "Training Epoch 831: 100%|██████████| 259/259 [00:01<00:00, 208.94it/s]\n"
     ]
    },
    {
     "name": "stdout",
     "output_type": "stream",
     "text": [
      "Epoch 830 - Train Loss: 0.0814, Train MSE: 0.0815, Train MAE: 0.2089\n",
      "Epoch 830 - Validation Loss: 2.0393, Validation MSE: 2.0366, Validation MAE: 1.1095\n"
     ]
    },
    {
     "name": "stderr",
     "output_type": "stream",
     "text": [
      "Training Epoch 832: 100%|██████████| 259/259 [00:01<00:00, 214.26it/s]\n",
      "Training Epoch 833: 100%|██████████| 259/259 [00:01<00:00, 214.88it/s]\n",
      "Training Epoch 834: 100%|██████████| 259/259 [00:01<00:00, 212.67it/s]\n",
      "Training Epoch 835: 100%|██████████| 259/259 [00:01<00:00, 225.91it/s]\n",
      "Training Epoch 836: 100%|██████████| 259/259 [00:01<00:00, 215.19it/s]\n",
      "Training Epoch 837: 100%|██████████| 259/259 [00:01<00:00, 217.37it/s]\n",
      "Training Epoch 838: 100%|██████████| 259/259 [00:01<00:00, 219.20it/s]\n",
      "Training Epoch 839: 100%|██████████| 259/259 [00:01<00:00, 219.68it/s]\n",
      "Training Epoch 840: 100%|██████████| 259/259 [00:01<00:00, 214.06it/s]\n",
      "Training Epoch 841: 100%|██████████| 259/259 [00:01<00:00, 218.74it/s]\n"
     ]
    },
    {
     "name": "stdout",
     "output_type": "stream",
     "text": [
      "Epoch 840 - Train Loss: 0.0819, Train MSE: 0.0819, Train MAE: 0.2059\n",
      "Epoch 840 - Validation Loss: 2.0906, Validation MSE: 2.0881, Validation MAE: 1.1227\n"
     ]
    },
    {
     "name": "stderr",
     "output_type": "stream",
     "text": [
      "Training Epoch 842: 100%|██████████| 259/259 [00:01<00:00, 213.84it/s]\n",
      "Training Epoch 843: 100%|██████████| 259/259 [00:01<00:00, 211.24it/s]\n",
      "Training Epoch 844: 100%|██████████| 259/259 [00:01<00:00, 200.46it/s]\n",
      "Training Epoch 845: 100%|██████████| 259/259 [00:01<00:00, 213.28it/s]\n",
      "Training Epoch 846: 100%|██████████| 259/259 [00:01<00:00, 218.87it/s]\n",
      "Training Epoch 847: 100%|██████████| 259/259 [00:01<00:00, 208.94it/s]\n",
      "Training Epoch 848: 100%|██████████| 259/259 [00:01<00:00, 219.92it/s]\n",
      "Training Epoch 849: 100%|██████████| 259/259 [00:01<00:00, 215.49it/s]\n",
      "Training Epoch 850: 100%|██████████| 259/259 [00:01<00:00, 213.95it/s]\n",
      "Training Epoch 851: 100%|██████████| 259/259 [00:01<00:00, 217.88it/s]\n"
     ]
    },
    {
     "name": "stdout",
     "output_type": "stream",
     "text": [
      "Epoch 850 - Train Loss: 0.0808, Train MSE: 0.0808, Train MAE: 0.2082\n",
      "Epoch 850 - Validation Loss: 2.0505, Validation MSE: 2.0479, Validation MAE: 1.1174\n"
     ]
    },
    {
     "name": "stderr",
     "output_type": "stream",
     "text": [
      "Training Epoch 852: 100%|██████████| 259/259 [00:01<00:00, 219.22it/s]\n",
      "Training Epoch 853: 100%|██████████| 259/259 [00:01<00:00, 215.44it/s]\n",
      "Training Epoch 854: 100%|██████████| 259/259 [00:01<00:00, 215.66it/s]\n",
      "Training Epoch 855: 100%|██████████| 259/259 [00:01<00:00, 231.58it/s]\n",
      "Training Epoch 856: 100%|██████████| 259/259 [00:01<00:00, 212.82it/s]\n",
      "Training Epoch 857: 100%|██████████| 259/259 [00:01<00:00, 210.87it/s]\n",
      "Training Epoch 858: 100%|██████████| 259/259 [00:01<00:00, 206.82it/s]\n",
      "Training Epoch 859: 100%|██████████| 259/259 [00:01<00:00, 192.84it/s]\n",
      "Training Epoch 860: 100%|██████████| 259/259 [00:01<00:00, 200.52it/s]\n",
      "Training Epoch 861: 100%|██████████| 259/259 [00:01<00:00, 197.23it/s]\n"
     ]
    },
    {
     "name": "stdout",
     "output_type": "stream",
     "text": [
      "Epoch 860 - Train Loss: 0.0776, Train MSE: 0.0776, Train MAE: 0.2022\n",
      "Epoch 860 - Validation Loss: 2.0827, Validation MSE: 2.0796, Validation MAE: 1.1252\n"
     ]
    },
    {
     "name": "stderr",
     "output_type": "stream",
     "text": [
      "Training Epoch 862: 100%|██████████| 259/259 [00:01<00:00, 201.60it/s]\n",
      "Training Epoch 863: 100%|██████████| 259/259 [00:01<00:00, 200.10it/s]\n",
      "Training Epoch 864: 100%|██████████| 259/259 [00:01<00:00, 199.34it/s]\n",
      "Training Epoch 865: 100%|██████████| 259/259 [00:01<00:00, 206.33it/s]\n",
      "Training Epoch 866: 100%|██████████| 259/259 [00:01<00:00, 195.86it/s]\n",
      "Training Epoch 867: 100%|██████████| 259/259 [00:01<00:00, 203.50it/s]\n",
      "Training Epoch 868: 100%|██████████| 259/259 [00:01<00:00, 192.30it/s]\n",
      "Training Epoch 869: 100%|██████████| 259/259 [00:01<00:00, 195.52it/s]\n",
      "Training Epoch 870: 100%|██████████| 259/259 [00:01<00:00, 198.75it/s]\n",
      "Training Epoch 871: 100%|██████████| 259/259 [00:01<00:00, 210.02it/s]\n"
     ]
    },
    {
     "name": "stdout",
     "output_type": "stream",
     "text": [
      "Epoch 870 - Train Loss: 0.0789, Train MSE: 0.0789, Train MAE: 0.2020\n",
      "Epoch 870 - Validation Loss: 2.0830, Validation MSE: 2.0803, Validation MAE: 1.1197\n"
     ]
    },
    {
     "name": "stderr",
     "output_type": "stream",
     "text": [
      "Training Epoch 872: 100%|██████████| 259/259 [00:01<00:00, 198.27it/s]\n",
      "Training Epoch 873: 100%|██████████| 259/259 [00:01<00:00, 209.06it/s]\n",
      "Training Epoch 874: 100%|██████████| 259/259 [00:01<00:00, 191.23it/s]\n",
      "Training Epoch 875: 100%|██████████| 259/259 [00:01<00:00, 219.87it/s]\n",
      "Training Epoch 876: 100%|██████████| 259/259 [00:01<00:00, 215.85it/s]\n",
      "Training Epoch 877: 100%|██████████| 259/259 [00:01<00:00, 233.87it/s]\n",
      "Training Epoch 878: 100%|██████████| 259/259 [00:01<00:00, 195.06it/s]\n",
      "Training Epoch 879: 100%|██████████| 259/259 [00:01<00:00, 208.83it/s]\n",
      "Training Epoch 880: 100%|██████████| 259/259 [00:01<00:00, 208.64it/s]\n",
      "Training Epoch 881: 100%|██████████| 259/259 [00:01<00:00, 205.35it/s]\n"
     ]
    },
    {
     "name": "stdout",
     "output_type": "stream",
     "text": [
      "Epoch 880 - Train Loss: 0.0790, Train MSE: 0.0790, Train MAE: 0.2049\n",
      "Epoch 880 - Validation Loss: 2.0741, Validation MSE: 2.0710, Validation MAE: 1.1203\n"
     ]
    },
    {
     "name": "stderr",
     "output_type": "stream",
     "text": [
      "Training Epoch 882: 100%|██████████| 259/259 [00:01<00:00, 199.47it/s]\n",
      "Training Epoch 883: 100%|██████████| 259/259 [00:01<00:00, 207.81it/s]\n",
      "Training Epoch 884: 100%|██████████| 259/259 [00:01<00:00, 214.15it/s]\n",
      "Training Epoch 885: 100%|██████████| 259/259 [00:01<00:00, 217.33it/s]\n",
      "Training Epoch 886: 100%|██████████| 259/259 [00:01<00:00, 213.99it/s]\n",
      "Training Epoch 887: 100%|██████████| 259/259 [00:01<00:00, 224.67it/s]\n",
      "Training Epoch 888: 100%|██████████| 259/259 [00:01<00:00, 223.98it/s]\n",
      "Training Epoch 889: 100%|██████████| 259/259 [00:01<00:00, 221.15it/s]\n",
      "Training Epoch 890: 100%|██████████| 259/259 [00:01<00:00, 224.66it/s]\n",
      "Training Epoch 891: 100%|██████████| 259/259 [00:01<00:00, 224.68it/s]\n"
     ]
    },
    {
     "name": "stdout",
     "output_type": "stream",
     "text": [
      "Epoch 890 - Train Loss: 0.0772, Train MSE: 0.0772, Train MAE: 0.2011\n",
      "Epoch 890 - Validation Loss: 2.0511, Validation MSE: 2.0488, Validation MAE: 1.1086\n"
     ]
    },
    {
     "name": "stderr",
     "output_type": "stream",
     "text": [
      "Training Epoch 892: 100%|██████████| 259/259 [00:01<00:00, 221.58it/s]\n",
      "Training Epoch 893: 100%|██████████| 259/259 [00:01<00:00, 214.00it/s]\n",
      "Training Epoch 894: 100%|██████████| 259/259 [00:01<00:00, 229.22it/s]\n",
      "Training Epoch 895: 100%|██████████| 259/259 [00:01<00:00, 224.18it/s]\n",
      "Training Epoch 896: 100%|██████████| 259/259 [00:01<00:00, 224.26it/s]\n",
      "Training Epoch 897: 100%|██████████| 259/259 [00:01<00:00, 225.32it/s]\n",
      "Training Epoch 898: 100%|██████████| 259/259 [00:01<00:00, 228.41it/s]\n",
      "Training Epoch 899: 100%|██████████| 259/259 [00:01<00:00, 240.35it/s]\n",
      "Training Epoch 900: 100%|██████████| 259/259 [00:01<00:00, 222.88it/s]\n",
      "Training Epoch 901: 100%|██████████| 259/259 [00:01<00:00, 221.73it/s]\n"
     ]
    },
    {
     "name": "stdout",
     "output_type": "stream",
     "text": [
      "Epoch 900 - Train Loss: 0.0761, Train MSE: 0.0761, Train MAE: 0.2004\n",
      "Epoch 900 - Validation Loss: 2.0738, Validation MSE: 2.0711, Validation MAE: 1.1210\n"
     ]
    },
    {
     "name": "stderr",
     "output_type": "stream",
     "text": [
      "Training Epoch 902: 100%|██████████| 259/259 [00:01<00:00, 227.74it/s]\n",
      "Training Epoch 903: 100%|██████████| 259/259 [00:01<00:00, 224.62it/s]\n",
      "Training Epoch 904: 100%|██████████| 259/259 [00:01<00:00, 223.17it/s]\n",
      "Training Epoch 905: 100%|██████████| 259/259 [00:01<00:00, 220.85it/s]\n",
      "Training Epoch 906: 100%|██████████| 259/259 [00:01<00:00, 217.02it/s]\n",
      "Training Epoch 907: 100%|██████████| 259/259 [00:01<00:00, 223.56it/s]\n",
      "Training Epoch 908: 100%|██████████| 259/259 [00:01<00:00, 221.43it/s]\n",
      "Training Epoch 909: 100%|██████████| 259/259 [00:01<00:00, 227.10it/s]\n",
      "Training Epoch 910: 100%|██████████| 259/259 [00:01<00:00, 224.66it/s]\n",
      "Training Epoch 911: 100%|██████████| 259/259 [00:01<00:00, 223.47it/s]\n"
     ]
    },
    {
     "name": "stdout",
     "output_type": "stream",
     "text": [
      "Epoch 910 - Train Loss: 0.0794, Train MSE: 0.0793, Train MAE: 0.2051\n",
      "Epoch 910 - Validation Loss: 2.0915, Validation MSE: 2.0889, Validation MAE: 1.1270\n"
     ]
    },
    {
     "name": "stderr",
     "output_type": "stream",
     "text": [
      "Training Epoch 912: 100%|██████████| 259/259 [00:01<00:00, 224.18it/s]\n",
      "Training Epoch 913: 100%|██████████| 259/259 [00:01<00:00, 209.13it/s]\n",
      "Training Epoch 914: 100%|██████████| 259/259 [00:01<00:00, 225.11it/s]\n",
      "Training Epoch 915: 100%|██████████| 259/259 [00:01<00:00, 222.50it/s]\n",
      "Training Epoch 916: 100%|██████████| 259/259 [00:01<00:00, 192.48it/s]\n",
      "Training Epoch 917: 100%|██████████| 259/259 [00:01<00:00, 195.13it/s]\n",
      "Training Epoch 918: 100%|██████████| 259/259 [00:01<00:00, 199.24it/s]\n",
      "Training Epoch 919: 100%|██████████| 259/259 [00:01<00:00, 197.02it/s]\n",
      "Training Epoch 920: 100%|██████████| 259/259 [00:01<00:00, 206.41it/s]\n",
      "Training Epoch 921: 100%|██████████| 259/259 [00:01<00:00, 215.01it/s]\n"
     ]
    },
    {
     "name": "stdout",
     "output_type": "stream",
     "text": [
      "Epoch 920 - Train Loss: 0.0768, Train MSE: 0.0768, Train MAE: 0.2011\n",
      "Epoch 920 - Validation Loss: 2.0454, Validation MSE: 2.0431, Validation MAE: 1.1137\n"
     ]
    },
    {
     "name": "stderr",
     "output_type": "stream",
     "text": [
      "Training Epoch 922: 100%|██████████| 259/259 [00:01<00:00, 199.63it/s]\n",
      "Training Epoch 923: 100%|██████████| 259/259 [00:01<00:00, 203.82it/s]\n",
      "Training Epoch 924: 100%|██████████| 259/259 [00:01<00:00, 208.11it/s]\n",
      "Training Epoch 925: 100%|██████████| 259/259 [00:01<00:00, 201.71it/s]\n",
      "Training Epoch 926: 100%|██████████| 259/259 [00:01<00:00, 210.12it/s]\n",
      "Training Epoch 927: 100%|██████████| 259/259 [00:01<00:00, 219.08it/s]\n",
      "Training Epoch 928: 100%|██████████| 259/259 [00:01<00:00, 219.81it/s]\n",
      "Training Epoch 929: 100%|██████████| 259/259 [00:01<00:00, 213.41it/s]\n",
      "Training Epoch 930: 100%|██████████| 259/259 [00:01<00:00, 211.53it/s]\n",
      "Training Epoch 931: 100%|██████████| 259/259 [00:01<00:00, 215.51it/s]\n"
     ]
    },
    {
     "name": "stdout",
     "output_type": "stream",
     "text": [
      "Epoch 930 - Train Loss: 0.0740, Train MSE: 0.0740, Train MAE: 0.1966\n",
      "Epoch 930 - Validation Loss: 2.0820, Validation MSE: 2.0797, Validation MAE: 1.1208\n"
     ]
    },
    {
     "name": "stderr",
     "output_type": "stream",
     "text": [
      "Training Epoch 932: 100%|██████████| 259/259 [00:01<00:00, 196.17it/s]\n",
      "Training Epoch 933: 100%|██████████| 259/259 [00:01<00:00, 202.05it/s]\n",
      "Training Epoch 934: 100%|██████████| 259/259 [00:01<00:00, 208.74it/s]\n",
      "Training Epoch 935: 100%|██████████| 259/259 [00:01<00:00, 199.32it/s]\n",
      "Training Epoch 936: 100%|██████████| 259/259 [00:01<00:00, 207.78it/s]\n",
      "Training Epoch 937: 100%|██████████| 259/259 [00:01<00:00, 206.31it/s]\n",
      "Training Epoch 938: 100%|██████████| 259/259 [00:01<00:00, 195.84it/s]\n",
      "Training Epoch 939: 100%|██████████| 259/259 [00:01<00:00, 206.51it/s]\n",
      "Training Epoch 940: 100%|██████████| 259/259 [00:01<00:00, 222.38it/s]\n",
      "Training Epoch 941: 100%|██████████| 259/259 [00:01<00:00, 227.75it/s]\n"
     ]
    },
    {
     "name": "stdout",
     "output_type": "stream",
     "text": [
      "Epoch 940 - Train Loss: 0.0743, Train MSE: 0.0743, Train MAE: 0.1978\n",
      "Epoch 940 - Validation Loss: 2.0732, Validation MSE: 2.0702, Validation MAE: 1.1224\n"
     ]
    },
    {
     "name": "stderr",
     "output_type": "stream",
     "text": [
      "Training Epoch 942: 100%|██████████| 259/259 [00:01<00:00, 208.65it/s]\n",
      "Training Epoch 943: 100%|██████████| 259/259 [00:01<00:00, 225.51it/s]\n",
      "Training Epoch 944: 100%|██████████| 259/259 [00:01<00:00, 234.50it/s]\n",
      "Training Epoch 945: 100%|██████████| 259/259 [00:01<00:00, 224.67it/s]\n",
      "Training Epoch 946: 100%|██████████| 259/259 [00:01<00:00, 229.06it/s]\n",
      "Training Epoch 947: 100%|██████████| 259/259 [00:01<00:00, 224.66it/s]\n",
      "Training Epoch 948: 100%|██████████| 259/259 [00:01<00:00, 214.84it/s]\n",
      "Training Epoch 949: 100%|██████████| 259/259 [00:01<00:00, 198.91it/s]\n",
      "Training Epoch 950: 100%|██████████| 259/259 [00:01<00:00, 196.10it/s]\n",
      "Training Epoch 951: 100%|██████████| 259/259 [00:01<00:00, 200.38it/s]\n"
     ]
    },
    {
     "name": "stdout",
     "output_type": "stream",
     "text": [
      "Epoch 950 - Train Loss: 0.0764, Train MSE: 0.0763, Train MAE: 0.1984\n",
      "Epoch 950 - Validation Loss: 2.0866, Validation MSE: 2.0842, Validation MAE: 1.1218\n"
     ]
    },
    {
     "name": "stderr",
     "output_type": "stream",
     "text": [
      "Training Epoch 952: 100%|██████████| 259/259 [00:01<00:00, 200.49it/s]\n",
      "Training Epoch 953: 100%|██████████| 259/259 [00:01<00:00, 217.40it/s]\n",
      "Training Epoch 954: 100%|██████████| 259/259 [00:01<00:00, 204.23it/s]\n",
      "Training Epoch 955: 100%|██████████| 259/259 [00:01<00:00, 206.88it/s]\n",
      "Training Epoch 956: 100%|██████████| 259/259 [00:01<00:00, 203.52it/s]\n",
      "Training Epoch 957: 100%|██████████| 259/259 [00:01<00:00, 202.47it/s]\n",
      "Training Epoch 958: 100%|██████████| 259/259 [00:01<00:00, 199.24it/s]\n",
      "Training Epoch 959: 100%|██████████| 259/259 [00:01<00:00, 198.14it/s]\n",
      "Training Epoch 960: 100%|██████████| 259/259 [00:01<00:00, 194.88it/s]\n",
      "Training Epoch 961: 100%|██████████| 259/259 [00:01<00:00, 201.73it/s]\n"
     ]
    },
    {
     "name": "stdout",
     "output_type": "stream",
     "text": [
      "Epoch 960 - Train Loss: 0.0730, Train MSE: 0.0730, Train MAE: 0.1930\n",
      "Epoch 960 - Validation Loss: 2.0825, Validation MSE: 2.0795, Validation MAE: 1.1203\n"
     ]
    },
    {
     "name": "stderr",
     "output_type": "stream",
     "text": [
      "Training Epoch 962: 100%|██████████| 259/259 [00:01<00:00, 208.94it/s]\n",
      "Training Epoch 963: 100%|██████████| 259/259 [00:01<00:00, 204.84it/s]\n",
      "Training Epoch 964: 100%|██████████| 259/259 [00:01<00:00, 220.52it/s]\n",
      "Training Epoch 965: 100%|██████████| 259/259 [00:01<00:00, 216.94it/s]\n",
      "Training Epoch 966: 100%|██████████| 259/259 [00:01<00:00, 219.16it/s]\n",
      "Training Epoch 967: 100%|██████████| 259/259 [00:01<00:00, 215.48it/s]\n",
      "Training Epoch 968: 100%|██████████| 259/259 [00:01<00:00, 218.33it/s]\n",
      "Training Epoch 969: 100%|██████████| 259/259 [00:01<00:00, 216.43it/s]\n",
      "Training Epoch 970: 100%|██████████| 259/259 [00:01<00:00, 214.89it/s]\n",
      "Training Epoch 971: 100%|██████████| 259/259 [00:01<00:00, 218.70it/s]\n"
     ]
    },
    {
     "name": "stdout",
     "output_type": "stream",
     "text": [
      "Epoch 970 - Train Loss: 0.0752, Train MSE: 0.0753, Train MAE: 0.1985\n",
      "Epoch 970 - Validation Loss: 2.0709, Validation MSE: 2.0677, Validation MAE: 1.1176\n"
     ]
    },
    {
     "name": "stderr",
     "output_type": "stream",
     "text": [
      "Training Epoch 972: 100%|██████████| 259/259 [00:01<00:00, 219.41it/s]\n",
      "Training Epoch 973: 100%|██████████| 259/259 [00:01<00:00, 218.82it/s]\n",
      "Training Epoch 974: 100%|██████████| 259/259 [00:01<00:00, 210.76it/s]\n",
      "Training Epoch 975: 100%|██████████| 259/259 [00:01<00:00, 221.21it/s]\n",
      "Training Epoch 976: 100%|██████████| 259/259 [00:01<00:00, 213.85it/s]\n",
      "Training Epoch 977: 100%|██████████| 259/259 [00:01<00:00, 218.58it/s]\n",
      "Training Epoch 978: 100%|██████████| 259/259 [00:01<00:00, 212.70it/s]\n",
      "Training Epoch 979: 100%|██████████| 259/259 [00:01<00:00, 212.34it/s]\n",
      "Training Epoch 980: 100%|██████████| 259/259 [00:01<00:00, 215.24it/s]\n",
      "Training Epoch 981: 100%|██████████| 259/259 [00:01<00:00, 214.53it/s]\n"
     ]
    },
    {
     "name": "stdout",
     "output_type": "stream",
     "text": [
      "Epoch 980 - Train Loss: 0.0732, Train MSE: 0.0733, Train MAE: 0.1950\n",
      "Epoch 980 - Validation Loss: 2.0434, Validation MSE: 2.0410, Validation MAE: 1.1124\n"
     ]
    },
    {
     "name": "stderr",
     "output_type": "stream",
     "text": [
      "Training Epoch 982: 100%|██████████| 259/259 [00:01<00:00, 214.45it/s]\n",
      "Training Epoch 983: 100%|██████████| 259/259 [00:01<00:00, 214.94it/s]\n",
      "Training Epoch 984: 100%|██████████| 259/259 [00:01<00:00, 217.88it/s]\n",
      "Training Epoch 985: 100%|██████████| 259/259 [00:01<00:00, 215.77it/s]\n",
      "Training Epoch 986: 100%|██████████| 259/259 [00:01<00:00, 217.33it/s]\n",
      "Training Epoch 987: 100%|██████████| 259/259 [00:01<00:00, 229.73it/s]\n",
      "Training Epoch 988: 100%|██████████| 259/259 [00:01<00:00, 211.29it/s]\n",
      "Training Epoch 989: 100%|██████████| 259/259 [00:01<00:00, 213.16it/s]\n",
      "Training Epoch 990: 100%|██████████| 259/259 [00:01<00:00, 205.60it/s]\n",
      "Training Epoch 991: 100%|██████████| 259/259 [00:01<00:00, 199.23it/s]\n"
     ]
    },
    {
     "name": "stdout",
     "output_type": "stream",
     "text": [
      "Epoch 990 - Train Loss: 0.0710, Train MSE: 0.0710, Train MAE: 0.1902\n",
      "Epoch 990 - Validation Loss: 2.0646, Validation MSE: 2.0630, Validation MAE: 1.1212\n"
     ]
    },
    {
     "name": "stderr",
     "output_type": "stream",
     "text": [
      "Training Epoch 992: 100%|██████████| 259/259 [00:01<00:00, 208.70it/s]\n",
      "Training Epoch 993: 100%|██████████| 259/259 [00:01<00:00, 200.37it/s]\n",
      "Training Epoch 994: 100%|██████████| 259/259 [00:01<00:00, 221.67it/s]\n",
      "Training Epoch 995: 100%|██████████| 259/259 [00:01<00:00, 223.23it/s]\n",
      "Training Epoch 996: 100%|██████████| 259/259 [00:01<00:00, 219.70it/s]\n",
      "Training Epoch 997: 100%|██████████| 259/259 [00:01<00:00, 218.26it/s]\n",
      "Training Epoch 998: 100%|██████████| 259/259 [00:01<00:00, 209.17it/s]\n",
      "Training Epoch 999: 100%|██████████| 259/259 [00:01<00:00, 223.62it/s]\n",
      "Training Epoch 1000: 100%|██████████| 259/259 [00:01<00:00, 222.41it/s]\n",
      "Training Epoch 1001: 100%|██████████| 259/259 [00:01<00:00, 221.75it/s]\n"
     ]
    },
    {
     "name": "stdout",
     "output_type": "stream",
     "text": [
      "Epoch 1000 - Train Loss: 0.0707, Train MSE: 0.0707, Train MAE: 0.1918\n",
      "Epoch 1000 - Validation Loss: 2.0737, Validation MSE: 2.0713, Validation MAE: 1.1210\n"
     ]
    },
    {
     "name": "stderr",
     "output_type": "stream",
     "text": [
      "Training Epoch 1002: 100%|██████████| 259/259 [00:01<00:00, 219.97it/s]\n",
      "Training Epoch 1003: 100%|██████████| 259/259 [00:01<00:00, 225.23it/s]\n",
      "Training Epoch 1004: 100%|██████████| 259/259 [00:01<00:00, 211.03it/s]\n",
      "Training Epoch 1005: 100%|██████████| 259/259 [00:01<00:00, 224.12it/s]\n",
      "Training Epoch 1006: 100%|██████████| 259/259 [00:01<00:00, 228.64it/s]\n",
      "Training Epoch 1007: 100%|██████████| 259/259 [00:01<00:00, 220.56it/s]\n",
      "Training Epoch 1008: 100%|██████████| 259/259 [00:01<00:00, 203.20it/s]\n",
      "Training Epoch 1009: 100%|██████████| 259/259 [00:01<00:00, 240.67it/s]\n",
      "Training Epoch 1010: 100%|██████████| 259/259 [00:01<00:00, 221.63it/s]\n",
      "Training Epoch 1011: 100%|██████████| 259/259 [00:01<00:00, 224.40it/s]\n"
     ]
    },
    {
     "name": "stdout",
     "output_type": "stream",
     "text": [
      "Epoch 1010 - Train Loss: 0.0721, Train MSE: 0.0721, Train MAE: 0.1934\n",
      "Epoch 1010 - Validation Loss: 2.0885, Validation MSE: 2.0856, Validation MAE: 1.1254\n"
     ]
    },
    {
     "name": "stderr",
     "output_type": "stream",
     "text": [
      "Training Epoch 1012: 100%|██████████| 259/259 [00:01<00:00, 212.42it/s]\n",
      "Training Epoch 1013: 100%|██████████| 259/259 [00:01<00:00, 225.00it/s]\n",
      "Training Epoch 1014: 100%|██████████| 259/259 [00:01<00:00, 226.27it/s]\n",
      "Training Epoch 1015: 100%|██████████| 259/259 [00:01<00:00, 221.23it/s]\n",
      "Training Epoch 1016: 100%|██████████| 259/259 [00:01<00:00, 221.29it/s]\n",
      "Training Epoch 1017: 100%|██████████| 259/259 [00:01<00:00, 222.27it/s]\n",
      "Training Epoch 1018: 100%|██████████| 259/259 [00:01<00:00, 219.67it/s]\n",
      "Training Epoch 1019: 100%|██████████| 259/259 [00:01<00:00, 225.63it/s]\n",
      "Training Epoch 1020: 100%|██████████| 259/259 [00:01<00:00, 225.91it/s]\n",
      "Training Epoch 1021: 100%|██████████| 259/259 [00:01<00:00, 223.34it/s]\n"
     ]
    },
    {
     "name": "stdout",
     "output_type": "stream",
     "text": [
      "Epoch 1020 - Train Loss: 0.0714, Train MSE: 0.0714, Train MAE: 0.1917\n",
      "Epoch 1020 - Validation Loss: 2.1013, Validation MSE: 2.0991, Validation MAE: 1.1281\n"
     ]
    },
    {
     "name": "stderr",
     "output_type": "stream",
     "text": [
      "Training Epoch 1022: 100%|██████████| 259/259 [00:01<00:00, 222.89it/s]\n",
      "Training Epoch 1023: 100%|██████████| 259/259 [00:01<00:00, 224.30it/s]\n",
      "Training Epoch 1024: 100%|██████████| 259/259 [00:01<00:00, 225.40it/s]\n",
      "Training Epoch 1025: 100%|██████████| 259/259 [00:01<00:00, 226.45it/s]\n",
      "Training Epoch 1026: 100%|██████████| 259/259 [00:01<00:00, 220.59it/s]\n",
      "Training Epoch 1027: 100%|██████████| 259/259 [00:01<00:00, 222.21it/s]\n",
      "Training Epoch 1028: 100%|██████████| 259/259 [00:01<00:00, 228.15it/s]\n",
      "Training Epoch 1029: 100%|██████████| 259/259 [00:01<00:00, 220.73it/s]\n",
      "Training Epoch 1030: 100%|██████████| 259/259 [00:01<00:00, 221.02it/s]\n",
      "Training Epoch 1031: 100%|██████████| 259/259 [00:01<00:00, 234.94it/s]\n"
     ]
    },
    {
     "name": "stdout",
     "output_type": "stream",
     "text": [
      "Epoch 1030 - Train Loss: 0.0726, Train MSE: 0.0726, Train MAE: 0.1935\n",
      "Epoch 1030 - Validation Loss: 2.0673, Validation MSE: 2.0640, Validation MAE: 1.1190\n"
     ]
    },
    {
     "name": "stderr",
     "output_type": "stream",
     "text": [
      "Training Epoch 1032: 100%|██████████| 259/259 [00:01<00:00, 243.84it/s]\n",
      "Training Epoch 1033: 100%|██████████| 259/259 [00:01<00:00, 212.11it/s]\n",
      "Training Epoch 1034: 100%|██████████| 259/259 [00:01<00:00, 222.31it/s]\n",
      "Training Epoch 1035: 100%|██████████| 259/259 [00:01<00:00, 221.86it/s]\n",
      "Training Epoch 1036: 100%|██████████| 259/259 [00:01<00:00, 223.63it/s]\n",
      "Training Epoch 1037: 100%|██████████| 259/259 [00:01<00:00, 193.73it/s]\n",
      "Training Epoch 1038: 100%|██████████| 259/259 [00:01<00:00, 203.68it/s]\n",
      "Training Epoch 1039: 100%|██████████| 259/259 [00:01<00:00, 220.09it/s]\n",
      "Training Epoch 1040: 100%|██████████| 259/259 [00:01<00:00, 219.90it/s]\n",
      "Training Epoch 1041: 100%|██████████| 259/259 [00:01<00:00, 211.33it/s]\n"
     ]
    },
    {
     "name": "stdout",
     "output_type": "stream",
     "text": [
      "Epoch 1040 - Train Loss: 0.0729, Train MSE: 0.0729, Train MAE: 0.1929\n",
      "Epoch 1040 - Validation Loss: 2.0676, Validation MSE: 2.0644, Validation MAE: 1.1196\n"
     ]
    },
    {
     "name": "stderr",
     "output_type": "stream",
     "text": [
      "Training Epoch 1042: 100%|██████████| 259/259 [00:01<00:00, 212.75it/s]\n",
      "Training Epoch 1043: 100%|██████████| 259/259 [00:01<00:00, 224.04it/s]\n",
      "Training Epoch 1044: 100%|██████████| 259/259 [00:01<00:00, 224.23it/s]\n",
      "Training Epoch 1045: 100%|██████████| 259/259 [00:01<00:00, 220.12it/s]\n",
      "Training Epoch 1046: 100%|██████████| 259/259 [00:01<00:00, 217.07it/s]\n",
      "Training Epoch 1047: 100%|██████████| 259/259 [00:01<00:00, 221.65it/s]\n",
      "Training Epoch 1048: 100%|██████████| 259/259 [00:01<00:00, 219.25it/s]\n",
      "Training Epoch 1049: 100%|██████████| 259/259 [00:01<00:00, 206.03it/s]\n",
      "Training Epoch 1050: 100%|██████████| 259/259 [00:01<00:00, 209.70it/s]\n",
      "Training Epoch 1051: 100%|██████████| 259/259 [00:01<00:00, 222.06it/s]\n"
     ]
    },
    {
     "name": "stdout",
     "output_type": "stream",
     "text": [
      "Epoch 1050 - Train Loss: 0.0727, Train MSE: 0.0726, Train MAE: 0.1946\n",
      "Epoch 1050 - Validation Loss: 2.0460, Validation MSE: 2.0433, Validation MAE: 1.1109\n"
     ]
    },
    {
     "name": "stderr",
     "output_type": "stream",
     "text": [
      "Training Epoch 1052: 100%|██████████| 259/259 [00:01<00:00, 212.30it/s]\n",
      "Training Epoch 1053: 100%|██████████| 259/259 [00:01<00:00, 234.14it/s]\n",
      "Training Epoch 1054: 100%|██████████| 259/259 [00:01<00:00, 242.96it/s]\n",
      "Training Epoch 1055: 100%|██████████| 259/259 [00:01<00:00, 193.02it/s]\n",
      "Training Epoch 1056: 100%|██████████| 259/259 [00:01<00:00, 187.21it/s]\n",
      "Training Epoch 1057: 100%|██████████| 259/259 [00:01<00:00, 212.33it/s]\n",
      "Training Epoch 1058: 100%|██████████| 259/259 [00:01<00:00, 198.75it/s]\n",
      "Training Epoch 1059: 100%|██████████| 259/259 [00:01<00:00, 208.80it/s]\n",
      "Training Epoch 1060: 100%|██████████| 259/259 [00:01<00:00, 227.00it/s]\n",
      "Training Epoch 1061: 100%|██████████| 259/259 [00:01<00:00, 218.12it/s]\n"
     ]
    },
    {
     "name": "stdout",
     "output_type": "stream",
     "text": [
      "Epoch 1060 - Train Loss: 0.0710, Train MSE: 0.0710, Train MAE: 0.1903\n",
      "Epoch 1060 - Validation Loss: 2.0618, Validation MSE: 2.0595, Validation MAE: 1.1210\n"
     ]
    },
    {
     "name": "stderr",
     "output_type": "stream",
     "text": [
      "Training Epoch 1062: 100%|██████████| 259/259 [00:01<00:00, 209.80it/s]\n",
      "Training Epoch 1063: 100%|██████████| 259/259 [00:01<00:00, 208.49it/s]\n",
      "Training Epoch 1064: 100%|██████████| 259/259 [00:01<00:00, 198.18it/s]\n",
      "Training Epoch 1065: 100%|██████████| 259/259 [00:01<00:00, 203.05it/s]\n",
      "Training Epoch 1066: 100%|██████████| 259/259 [00:01<00:00, 188.88it/s]\n",
      "Training Epoch 1067: 100%|██████████| 259/259 [00:01<00:00, 190.28it/s]\n",
      "Training Epoch 1068: 100%|██████████| 259/259 [00:01<00:00, 204.98it/s]\n",
      "Training Epoch 1069: 100%|██████████| 259/259 [00:01<00:00, 191.10it/s]\n",
      "Training Epoch 1070: 100%|██████████| 259/259 [00:01<00:00, 203.99it/s]\n",
      "Training Epoch 1071: 100%|██████████| 259/259 [00:01<00:00, 227.20it/s]\n"
     ]
    },
    {
     "name": "stdout",
     "output_type": "stream",
     "text": [
      "Epoch 1070 - Train Loss: 0.0698, Train MSE: 0.0698, Train MAE: 0.1901\n",
      "Epoch 1070 - Validation Loss: 2.0191, Validation MSE: 2.0176, Validation MAE: 1.1060\n"
     ]
    },
    {
     "name": "stderr",
     "output_type": "stream",
     "text": [
      "Training Epoch 1072: 100%|██████████| 259/259 [00:01<00:00, 221.44it/s]\n",
      "Training Epoch 1073: 100%|██████████| 259/259 [00:01<00:00, 222.75it/s]\n",
      "Training Epoch 1074: 100%|██████████| 259/259 [00:01<00:00, 226.40it/s]\n",
      "Training Epoch 1075: 100%|██████████| 259/259 [00:01<00:00, 245.69it/s]\n",
      "Training Epoch 1076: 100%|██████████| 259/259 [00:01<00:00, 229.20it/s]\n",
      "Training Epoch 1077: 100%|██████████| 259/259 [00:01<00:00, 222.64it/s]\n",
      "Training Epoch 1078: 100%|██████████| 259/259 [00:01<00:00, 221.92it/s]\n",
      "Training Epoch 1079: 100%|██████████| 259/259 [00:01<00:00, 221.28it/s]\n",
      "Training Epoch 1080: 100%|██████████| 259/259 [00:01<00:00, 223.10it/s]\n",
      "Training Epoch 1081: 100%|██████████| 259/259 [00:01<00:00, 224.20it/s]\n"
     ]
    },
    {
     "name": "stdout",
     "output_type": "stream",
     "text": [
      "Epoch 1080 - Train Loss: 0.0707, Train MSE: 0.0707, Train MAE: 0.1902\n",
      "Epoch 1080 - Validation Loss: 2.0185, Validation MSE: 2.0156, Validation MAE: 1.1073\n"
     ]
    },
    {
     "name": "stderr",
     "output_type": "stream",
     "text": [
      "Training Epoch 1082: 100%|██████████| 259/259 [00:01<00:00, 223.80it/s]\n",
      "Training Epoch 1083: 100%|██████████| 259/259 [00:01<00:00, 210.21it/s]\n",
      "Training Epoch 1084: 100%|██████████| 259/259 [00:01<00:00, 206.18it/s]\n",
      "Training Epoch 1085: 100%|██████████| 259/259 [00:01<00:00, 230.75it/s]\n",
      "Training Epoch 1086: 100%|██████████| 259/259 [00:01<00:00, 226.52it/s]\n",
      "Training Epoch 1087: 100%|██████████| 259/259 [00:01<00:00, 222.55it/s]\n",
      "Training Epoch 1088: 100%|██████████| 259/259 [00:01<00:00, 223.10it/s]\n",
      "Training Epoch 1089: 100%|██████████| 259/259 [00:01<00:00, 208.61it/s]\n",
      "Training Epoch 1090: 100%|██████████| 259/259 [00:01<00:00, 213.05it/s]\n",
      "Training Epoch 1091: 100%|██████████| 259/259 [00:01<00:00, 218.18it/s]\n"
     ]
    },
    {
     "name": "stdout",
     "output_type": "stream",
     "text": [
      "Epoch 1090 - Train Loss: 0.0689, Train MSE: 0.0689, Train MAE: 0.1893\n",
      "Epoch 1090 - Validation Loss: 2.0365, Validation MSE: 2.0339, Validation MAE: 1.1057\n"
     ]
    },
    {
     "name": "stderr",
     "output_type": "stream",
     "text": [
      "Training Epoch 1092: 100%|██████████| 259/259 [00:01<00:00, 202.66it/s]\n",
      "Training Epoch 1093: 100%|██████████| 259/259 [00:01<00:00, 211.58it/s]\n",
      "Training Epoch 1094: 100%|██████████| 259/259 [00:01<00:00, 212.24it/s]\n",
      "Training Epoch 1095: 100%|██████████| 259/259 [00:01<00:00, 219.00it/s]\n",
      "Training Epoch 1096: 100%|██████████| 259/259 [00:01<00:00, 202.01it/s]\n",
      "Training Epoch 1097: 100%|██████████| 259/259 [00:01<00:00, 231.74it/s]\n",
      "Training Epoch 1098: 100%|██████████| 259/259 [00:01<00:00, 189.49it/s]\n",
      "Training Epoch 1099: 100%|██████████| 259/259 [00:01<00:00, 209.41it/s]\n",
      "Training Epoch 1100: 100%|██████████| 259/259 [00:01<00:00, 220.53it/s]\n",
      "Training Epoch 1101: 100%|██████████| 259/259 [00:01<00:00, 197.09it/s]\n"
     ]
    },
    {
     "name": "stdout",
     "output_type": "stream",
     "text": [
      "Epoch 1100 - Train Loss: 0.0689, Train MSE: 0.0689, Train MAE: 0.1874\n",
      "Epoch 1100 - Validation Loss: 2.0392, Validation MSE: 2.0363, Validation MAE: 1.1130\n"
     ]
    },
    {
     "name": "stderr",
     "output_type": "stream",
     "text": [
      "Training Epoch 1102: 100%|██████████| 259/259 [00:01<00:00, 193.63it/s]\n",
      "Training Epoch 1103: 100%|██████████| 259/259 [00:01<00:00, 219.96it/s]\n",
      "Training Epoch 1104: 100%|██████████| 259/259 [00:01<00:00, 207.44it/s]\n",
      "Training Epoch 1105: 100%|██████████| 259/259 [00:01<00:00, 218.43it/s]\n",
      "Training Epoch 1106: 100%|██████████| 259/259 [00:01<00:00, 215.76it/s]\n",
      "Training Epoch 1107: 100%|██████████| 259/259 [00:01<00:00, 213.03it/s]\n",
      "Training Epoch 1108: 100%|██████████| 259/259 [00:01<00:00, 219.43it/s]\n",
      "Training Epoch 1109: 100%|██████████| 259/259 [00:01<00:00, 219.78it/s]\n",
      "Training Epoch 1110: 100%|██████████| 259/259 [00:01<00:00, 216.25it/s]\n",
      "Training Epoch 1111: 100%|██████████| 259/259 [00:01<00:00, 210.33it/s]\n"
     ]
    },
    {
     "name": "stdout",
     "output_type": "stream",
     "text": [
      "Epoch 1110 - Train Loss: 0.0699, Train MSE: 0.0699, Train MAE: 0.1878\n",
      "Epoch 1110 - Validation Loss: 2.0739, Validation MSE: 2.0721, Validation MAE: 1.1171\n"
     ]
    },
    {
     "name": "stderr",
     "output_type": "stream",
     "text": [
      "Training Epoch 1112: 100%|██████████| 259/259 [00:01<00:00, 220.13it/s]\n",
      "Training Epoch 1113: 100%|██████████| 259/259 [00:01<00:00, 211.46it/s]\n",
      "Training Epoch 1114: 100%|██████████| 259/259 [00:01<00:00, 215.17it/s]\n",
      "Training Epoch 1115: 100%|██████████| 259/259 [00:01<00:00, 213.93it/s]\n",
      "Training Epoch 1116: 100%|██████████| 259/259 [00:01<00:00, 213.80it/s]\n",
      "Training Epoch 1117: 100%|██████████| 259/259 [00:01<00:00, 211.92it/s]\n",
      "Training Epoch 1118: 100%|██████████| 259/259 [00:01<00:00, 219.26it/s]\n",
      "Training Epoch 1119: 100%|██████████| 259/259 [00:01<00:00, 217.67it/s]\n",
      "Training Epoch 1120: 100%|██████████| 259/259 [00:01<00:00, 226.96it/s]\n",
      "Training Epoch 1121: 100%|██████████| 259/259 [00:01<00:00, 217.67it/s]\n"
     ]
    },
    {
     "name": "stdout",
     "output_type": "stream",
     "text": [
      "Epoch 1120 - Train Loss: 0.0681, Train MSE: 0.0682, Train MAE: 0.1880\n",
      "Epoch 1120 - Validation Loss: 2.0725, Validation MSE: 2.0699, Validation MAE: 1.1152\n"
     ]
    },
    {
     "name": "stderr",
     "output_type": "stream",
     "text": [
      "Training Epoch 1122: 100%|██████████| 259/259 [00:01<00:00, 216.78it/s]\n",
      "Training Epoch 1123: 100%|██████████| 259/259 [00:01<00:00, 218.02it/s]\n",
      "Training Epoch 1124: 100%|██████████| 259/259 [00:01<00:00, 215.24it/s]\n",
      "Training Epoch 1125: 100%|██████████| 259/259 [00:01<00:00, 190.88it/s]\n",
      "Training Epoch 1126: 100%|██████████| 259/259 [00:01<00:00, 222.13it/s]\n",
      "Training Epoch 1127: 100%|██████████| 259/259 [00:01<00:00, 217.16it/s]\n",
      "Training Epoch 1128: 100%|██████████| 259/259 [00:01<00:00, 206.72it/s]\n",
      "Training Epoch 1129: 100%|██████████| 259/259 [00:01<00:00, 213.23it/s]\n",
      "Training Epoch 1130: 100%|██████████| 259/259 [00:01<00:00, 215.10it/s]\n",
      "Training Epoch 1131: 100%|██████████| 259/259 [00:01<00:00, 213.83it/s]\n"
     ]
    },
    {
     "name": "stdout",
     "output_type": "stream",
     "text": [
      "Epoch 1130 - Train Loss: 0.0687, Train MSE: 0.0688, Train MAE: 0.1880\n",
      "Epoch 1130 - Validation Loss: 2.0684, Validation MSE: 2.0655, Validation MAE: 1.1179\n"
     ]
    },
    {
     "name": "stderr",
     "output_type": "stream",
     "text": [
      "Training Epoch 1132: 100%|██████████| 259/259 [00:01<00:00, 212.56it/s]\n",
      "Training Epoch 1133: 100%|██████████| 259/259 [00:01<00:00, 222.44it/s]\n",
      "Training Epoch 1134: 100%|██████████| 259/259 [00:01<00:00, 220.91it/s]\n",
      "Training Epoch 1135: 100%|██████████| 259/259 [00:01<00:00, 214.72it/s]\n",
      "Training Epoch 1136: 100%|██████████| 259/259 [00:01<00:00, 216.51it/s]\n",
      "Training Epoch 1137: 100%|██████████| 259/259 [00:01<00:00, 218.10it/s]\n",
      "Training Epoch 1138: 100%|██████████| 259/259 [00:01<00:00, 219.53it/s]\n",
      "Training Epoch 1139: 100%|██████████| 259/259 [00:01<00:00, 214.38it/s]\n",
      "Training Epoch 1140: 100%|██████████| 259/259 [00:01<00:00, 222.97it/s]\n",
      "Training Epoch 1141: 100%|██████████| 259/259 [00:01<00:00, 225.13it/s]\n"
     ]
    },
    {
     "name": "stdout",
     "output_type": "stream",
     "text": [
      "Epoch 1140 - Train Loss: 0.0677, Train MSE: 0.0677, Train MAE: 0.1852\n",
      "Epoch 1140 - Validation Loss: 2.0574, Validation MSE: 2.0550, Validation MAE: 1.1172\n"
     ]
    },
    {
     "name": "stderr",
     "output_type": "stream",
     "text": [
      "Training Epoch 1142: 100%|██████████| 259/259 [00:01<00:00, 215.46it/s]\n",
      "Training Epoch 1143: 100%|██████████| 259/259 [00:01<00:00, 217.52it/s]\n",
      "Training Epoch 1144: 100%|██████████| 259/259 [00:01<00:00, 219.96it/s]\n",
      "Training Epoch 1145: 100%|██████████| 259/259 [00:01<00:00, 216.22it/s]\n",
      "Training Epoch 1146: 100%|██████████| 259/259 [00:01<00:00, 216.88it/s]\n",
      "Training Epoch 1147: 100%|██████████| 259/259 [00:01<00:00, 216.12it/s]\n",
      "Training Epoch 1148: 100%|██████████| 259/259 [00:01<00:00, 209.72it/s]\n",
      "Training Epoch 1149: 100%|██████████| 259/259 [00:01<00:00, 181.00it/s]\n",
      "Training Epoch 1150: 100%|██████████| 259/259 [00:01<00:00, 187.22it/s]\n",
      "Training Epoch 1151: 100%|██████████| 259/259 [00:01<00:00, 218.15it/s]\n"
     ]
    },
    {
     "name": "stdout",
     "output_type": "stream",
     "text": [
      "Epoch 1150 - Train Loss: 0.0678, Train MSE: 0.0678, Train MAE: 0.1874\n",
      "Epoch 1150 - Validation Loss: 2.0599, Validation MSE: 2.0574, Validation MAE: 1.1143\n"
     ]
    },
    {
     "name": "stderr",
     "output_type": "stream",
     "text": [
      "Training Epoch 1152: 100%|██████████| 259/259 [00:01<00:00, 215.97it/s]\n",
      "Training Epoch 1153: 100%|██████████| 259/259 [00:01<00:00, 219.49it/s]\n",
      "Training Epoch 1154: 100%|██████████| 259/259 [00:01<00:00, 217.18it/s]\n",
      "Training Epoch 1155: 100%|██████████| 259/259 [00:01<00:00, 224.47it/s]\n",
      "Training Epoch 1156: 100%|██████████| 259/259 [00:01<00:00, 226.50it/s]\n",
      "Training Epoch 1157: 100%|██████████| 259/259 [00:01<00:00, 227.96it/s]\n",
      "Training Epoch 1158: 100%|██████████| 259/259 [00:01<00:00, 216.93it/s]\n",
      "Training Epoch 1159: 100%|██████████| 259/259 [00:01<00:00, 222.91it/s]\n",
      "Training Epoch 1160: 100%|██████████| 259/259 [00:01<00:00, 226.06it/s]\n",
      "Training Epoch 1161: 100%|██████████| 259/259 [00:01<00:00, 225.17it/s]\n"
     ]
    },
    {
     "name": "stdout",
     "output_type": "stream",
     "text": [
      "Epoch 1160 - Train Loss: 0.0658, Train MSE: 0.0658, Train MAE: 0.1835\n",
      "Epoch 1160 - Validation Loss: 2.0709, Validation MSE: 2.0680, Validation MAE: 1.1186\n"
     ]
    },
    {
     "name": "stderr",
     "output_type": "stream",
     "text": [
      "Training Epoch 1162: 100%|██████████| 259/259 [00:01<00:00, 225.16it/s]\n",
      "Training Epoch 1163: 100%|██████████| 259/259 [00:01<00:00, 240.67it/s]\n",
      "Training Epoch 1164: 100%|██████████| 259/259 [00:01<00:00, 230.58it/s]\n",
      "Training Epoch 1165: 100%|██████████| 259/259 [00:01<00:00, 224.56it/s]\n",
      "Training Epoch 1166: 100%|██████████| 259/259 [00:01<00:00, 217.32it/s]\n",
      "Training Epoch 1167: 100%|██████████| 259/259 [00:01<00:00, 219.38it/s]\n",
      "Training Epoch 1168: 100%|██████████| 259/259 [00:01<00:00, 226.02it/s]\n",
      "Training Epoch 1169: 100%|██████████| 259/259 [00:01<00:00, 223.56it/s]\n",
      "Training Epoch 1170: 100%|██████████| 259/259 [00:01<00:00, 223.51it/s]\n",
      "Training Epoch 1171: 100%|██████████| 259/259 [00:01<00:00, 224.49it/s]\n"
     ]
    },
    {
     "name": "stdout",
     "output_type": "stream",
     "text": [
      "Epoch 1170 - Train Loss: 0.0701, Train MSE: 0.0702, Train MAE: 0.1882\n",
      "Epoch 1170 - Validation Loss: 2.0750, Validation MSE: 2.0728, Validation MAE: 1.1183\n"
     ]
    },
    {
     "name": "stderr",
     "output_type": "stream",
     "text": [
      "Training Epoch 1172: 100%|██████████| 259/259 [00:01<00:00, 227.83it/s]\n",
      "Training Epoch 1173: 100%|██████████| 259/259 [00:01<00:00, 223.38it/s]\n",
      "Training Epoch 1174: 100%|██████████| 259/259 [00:01<00:00, 216.19it/s]\n",
      "Training Epoch 1175: 100%|██████████| 259/259 [00:01<00:00, 216.42it/s]\n",
      "Training Epoch 1176: 100%|██████████| 259/259 [00:01<00:00, 213.46it/s]\n",
      "Training Epoch 1177: 100%|██████████| 259/259 [00:01<00:00, 201.89it/s]\n",
      "Training Epoch 1178: 100%|██████████| 259/259 [00:01<00:00, 191.86it/s]\n",
      "Training Epoch 1179: 100%|██████████| 259/259 [00:01<00:00, 208.42it/s]\n",
      "Training Epoch 1180: 100%|██████████| 259/259 [00:01<00:00, 213.42it/s]\n",
      "Training Epoch 1181: 100%|██████████| 259/259 [00:01<00:00, 221.07it/s]\n"
     ]
    },
    {
     "name": "stdout",
     "output_type": "stream",
     "text": [
      "Epoch 1180 - Train Loss: 0.0695, Train MSE: 0.0695, Train MAE: 0.1879\n",
      "Epoch 1180 - Validation Loss: 2.0682, Validation MSE: 2.0665, Validation MAE: 1.1218\n"
     ]
    },
    {
     "name": "stderr",
     "output_type": "stream",
     "text": [
      "Training Epoch 1182: 100%|██████████| 259/259 [00:01<00:00, 220.71it/s]\n",
      "Training Epoch 1183: 100%|██████████| 259/259 [00:01<00:00, 224.55it/s]\n",
      "Training Epoch 1184: 100%|██████████| 259/259 [00:01<00:00, 222.90it/s]\n",
      "Training Epoch 1185: 100%|██████████| 259/259 [00:01<00:00, 236.62it/s]\n",
      "Training Epoch 1186: 100%|██████████| 259/259 [00:01<00:00, 244.21it/s]\n",
      "Training Epoch 1187: 100%|██████████| 259/259 [00:01<00:00, 221.82it/s]\n",
      "Training Epoch 1188: 100%|██████████| 259/259 [00:01<00:00, 223.58it/s]\n",
      "Training Epoch 1189: 100%|██████████| 259/259 [00:01<00:00, 227.27it/s]\n",
      "Training Epoch 1190: 100%|██████████| 259/259 [00:01<00:00, 219.53it/s]\n",
      "Training Epoch 1191: 100%|██████████| 259/259 [00:01<00:00, 223.10it/s]\n"
     ]
    },
    {
     "name": "stdout",
     "output_type": "stream",
     "text": [
      "Epoch 1190 - Train Loss: 0.0678, Train MSE: 0.0677, Train MAE: 0.1864\n",
      "Epoch 1190 - Validation Loss: 2.0661, Validation MSE: 2.0634, Validation MAE: 1.1209\n"
     ]
    },
    {
     "name": "stderr",
     "output_type": "stream",
     "text": [
      "Training Epoch 1192: 100%|██████████| 259/259 [00:01<00:00, 218.63it/s]\n",
      "Training Epoch 1193: 100%|██████████| 259/259 [00:01<00:00, 227.82it/s]\n",
      "Training Epoch 1194: 100%|██████████| 259/259 [00:01<00:00, 228.41it/s]\n",
      "Training Epoch 1195: 100%|██████████| 259/259 [00:01<00:00, 225.13it/s]\n",
      "Training Epoch 1196: 100%|██████████| 259/259 [00:01<00:00, 223.45it/s]\n",
      "Training Epoch 1197: 100%|██████████| 259/259 [00:01<00:00, 200.33it/s]\n",
      "Training Epoch 1198: 100%|██████████| 259/259 [00:01<00:00, 218.11it/s]\n",
      "Training Epoch 1199: 100%|██████████| 259/259 [00:01<00:00, 224.78it/s]\n",
      "Training Epoch 1200: 100%|██████████| 259/259 [00:01<00:00, 227.28it/s]\n",
      "Training Epoch 1201: 100%|██████████| 259/259 [00:01<00:00, 227.64it/s]\n"
     ]
    },
    {
     "name": "stdout",
     "output_type": "stream",
     "text": [
      "Epoch 1200 - Train Loss: 0.0673, Train MSE: 0.0674, Train MAE: 0.1868\n",
      "Epoch 1200 - Validation Loss: 2.0501, Validation MSE: 2.0476, Validation MAE: 1.1187\n"
     ]
    },
    {
     "name": "stderr",
     "output_type": "stream",
     "text": [
      "Training Epoch 1202: 100%|██████████| 259/259 [00:01<00:00, 216.95it/s]\n",
      "Training Epoch 1203: 100%|██████████| 259/259 [00:01<00:00, 225.28it/s]\n",
      "Training Epoch 1204: 100%|██████████| 259/259 [00:01<00:00, 225.91it/s]\n",
      "Training Epoch 1205: 100%|██████████| 259/259 [00:01<00:00, 217.19it/s]\n",
      "Training Epoch 1206: 100%|██████████| 259/259 [00:01<00:00, 219.86it/s]\n",
      "Training Epoch 1207: 100%|██████████| 259/259 [00:01<00:00, 227.72it/s]\n",
      "Training Epoch 1208: 100%|██████████| 259/259 [00:01<00:00, 240.91it/s]\n",
      "Training Epoch 1209: 100%|██████████| 259/259 [00:01<00:00, 227.10it/s]\n",
      "Training Epoch 1210: 100%|██████████| 259/259 [00:01<00:00, 225.16it/s]\n",
      "Training Epoch 1211: 100%|██████████| 259/259 [00:01<00:00, 228.18it/s]\n"
     ]
    },
    {
     "name": "stdout",
     "output_type": "stream",
     "text": [
      "Epoch 1210 - Train Loss: 0.0652, Train MSE: 0.0652, Train MAE: 0.1824\n",
      "Epoch 1210 - Validation Loss: 2.0864, Validation MSE: 2.0838, Validation MAE: 1.1264\n"
     ]
    },
    {
     "name": "stderr",
     "output_type": "stream",
     "text": [
      "Training Epoch 1212: 100%|██████████| 259/259 [00:01<00:00, 221.54it/s]\n",
      "Training Epoch 1213: 100%|██████████| 259/259 [00:01<00:00, 217.14it/s]\n",
      "Training Epoch 1214: 100%|██████████| 259/259 [00:01<00:00, 198.83it/s]\n",
      "Training Epoch 1215: 100%|██████████| 259/259 [00:01<00:00, 195.43it/s]\n",
      "Training Epoch 1216: 100%|██████████| 259/259 [00:01<00:00, 198.23it/s]\n",
      "Training Epoch 1217: 100%|██████████| 259/259 [00:01<00:00, 198.17it/s]\n",
      "Training Epoch 1218: 100%|██████████| 259/259 [00:01<00:00, 213.61it/s]\n",
      "Training Epoch 1219: 100%|██████████| 259/259 [00:01<00:00, 224.47it/s]\n",
      "Training Epoch 1220: 100%|██████████| 259/259 [00:01<00:00, 228.16it/s]\n",
      "Training Epoch 1221: 100%|██████████| 259/259 [00:01<00:00, 213.02it/s]\n"
     ]
    },
    {
     "name": "stdout",
     "output_type": "stream",
     "text": [
      "Epoch 1220 - Train Loss: 0.0628, Train MSE: 0.0629, Train MAE: 0.1791\n",
      "Epoch 1220 - Validation Loss: 2.0733, Validation MSE: 2.0710, Validation MAE: 1.1190\n"
     ]
    },
    {
     "name": "stderr",
     "output_type": "stream",
     "text": [
      "Training Epoch 1222: 100%|██████████| 259/259 [00:01<00:00, 225.58it/s]\n",
      "Training Epoch 1223: 100%|██████████| 259/259 [00:01<00:00, 225.63it/s]\n",
      "Training Epoch 1224: 100%|██████████| 259/259 [00:01<00:00, 216.40it/s]\n",
      "Training Epoch 1225: 100%|██████████| 259/259 [00:01<00:00, 201.21it/s]\n",
      "Training Epoch 1226: 100%|██████████| 259/259 [00:01<00:00, 223.28it/s]\n",
      "Training Epoch 1227: 100%|██████████| 259/259 [00:01<00:00, 227.93it/s]\n",
      "Training Epoch 1228: 100%|██████████| 259/259 [00:01<00:00, 222.98it/s]\n",
      "Training Epoch 1229: 100%|██████████| 259/259 [00:01<00:00, 220.97it/s]\n",
      "Training Epoch 1230: 100%|██████████| 259/259 [00:01<00:00, 234.30it/s]\n",
      "Training Epoch 1231: 100%|██████████| 259/259 [00:01<00:00, 235.33it/s]\n"
     ]
    },
    {
     "name": "stdout",
     "output_type": "stream",
     "text": [
      "Epoch 1230 - Train Loss: 0.0672, Train MSE: 0.0672, Train MAE: 0.1852\n",
      "Epoch 1230 - Validation Loss: 2.0700, Validation MSE: 2.0667, Validation MAE: 1.1188\n"
     ]
    },
    {
     "name": "stderr",
     "output_type": "stream",
     "text": [
      "Training Epoch 1232: 100%|██████████| 259/259 [00:01<00:00, 223.62it/s]\n",
      "Training Epoch 1233: 100%|██████████| 259/259 [00:01<00:00, 225.25it/s]\n",
      "Training Epoch 1234: 100%|██████████| 259/259 [00:01<00:00, 225.16it/s]\n",
      "Training Epoch 1235: 100%|██████████| 259/259 [00:01<00:00, 224.33it/s]\n",
      "Training Epoch 1236: 100%|██████████| 259/259 [00:01<00:00, 224.25it/s]\n",
      "Training Epoch 1237: 100%|██████████| 259/259 [00:01<00:00, 222.36it/s]\n",
      "Training Epoch 1238: 100%|██████████| 259/259 [00:01<00:00, 224.87it/s]\n",
      "Training Epoch 1239: 100%|██████████| 259/259 [00:01<00:00, 199.49it/s]\n",
      "Training Epoch 1240: 100%|██████████| 259/259 [00:01<00:00, 207.72it/s]\n",
      "Training Epoch 1241: 100%|██████████| 259/259 [00:01<00:00, 209.05it/s]\n"
     ]
    },
    {
     "name": "stdout",
     "output_type": "stream",
     "text": [
      "Epoch 1240 - Train Loss: 0.0613, Train MSE: 0.0614, Train MAE: 0.1771\n",
      "Epoch 1240 - Validation Loss: 2.0672, Validation MSE: 2.0649, Validation MAE: 1.1198\n"
     ]
    },
    {
     "name": "stderr",
     "output_type": "stream",
     "text": [
      "Training Epoch 1242: 100%|██████████| 259/259 [00:01<00:00, 221.54it/s]\n",
      "Training Epoch 1243: 100%|██████████| 259/259 [00:01<00:00, 217.40it/s]\n",
      "Training Epoch 1244: 100%|██████████| 259/259 [00:01<00:00, 203.24it/s]\n",
      "Training Epoch 1245: 100%|██████████| 259/259 [00:01<00:00, 220.32it/s]\n",
      "Training Epoch 1246: 100%|██████████| 259/259 [00:01<00:00, 219.50it/s]\n",
      "Training Epoch 1247: 100%|██████████| 259/259 [00:01<00:00, 209.83it/s]\n",
      "Training Epoch 1248: 100%|██████████| 259/259 [00:01<00:00, 207.57it/s]\n",
      "Training Epoch 1249: 100%|██████████| 259/259 [00:01<00:00, 195.09it/s]\n",
      "Training Epoch 1250: 100%|██████████| 259/259 [00:01<00:00, 220.58it/s]\n",
      "Training Epoch 1251: 100%|██████████| 259/259 [00:01<00:00, 223.42it/s]\n"
     ]
    },
    {
     "name": "stdout",
     "output_type": "stream",
     "text": [
      "Epoch 1250 - Train Loss: 0.0616, Train MSE: 0.0616, Train MAE: 0.1779\n",
      "Epoch 1250 - Validation Loss: 2.0729, Validation MSE: 2.0706, Validation MAE: 1.1207\n"
     ]
    },
    {
     "name": "stderr",
     "output_type": "stream",
     "text": [
      "Training Epoch 1252: 100%|██████████| 259/259 [00:01<00:00, 225.48it/s]\n",
      "Training Epoch 1253: 100%|██████████| 259/259 [00:01<00:00, 225.91it/s]\n",
      "Training Epoch 1254: 100%|██████████| 259/259 [00:01<00:00, 223.44it/s]\n",
      "Training Epoch 1255: 100%|██████████| 259/259 [00:01<00:00, 204.96it/s]\n",
      "Training Epoch 1256: 100%|██████████| 259/259 [00:01<00:00, 208.58it/s]\n",
      "Training Epoch 1257: 100%|██████████| 259/259 [00:01<00:00, 203.15it/s]\n",
      "Training Epoch 1258: 100%|██████████| 259/259 [00:01<00:00, 201.31it/s]\n",
      "Training Epoch 1259: 100%|██████████| 259/259 [00:01<00:00, 193.95it/s]\n",
      "Training Epoch 1260: 100%|██████████| 259/259 [00:01<00:00, 194.09it/s]\n",
      "Training Epoch 1261: 100%|██████████| 259/259 [00:01<00:00, 222.19it/s]\n"
     ]
    },
    {
     "name": "stdout",
     "output_type": "stream",
     "text": [
      "Epoch 1260 - Train Loss: 0.0649, Train MSE: 0.0650, Train MAE: 0.1807\n",
      "Epoch 1260 - Validation Loss: 2.0685, Validation MSE: 2.0658, Validation MAE: 1.1177\n"
     ]
    },
    {
     "name": "stderr",
     "output_type": "stream",
     "text": [
      "Training Epoch 1262: 100%|██████████| 259/259 [00:01<00:00, 219.93it/s]\n",
      "Training Epoch 1263: 100%|██████████| 259/259 [00:01<00:00, 228.88it/s]\n",
      "Training Epoch 1264: 100%|██████████| 259/259 [00:01<00:00, 228.29it/s]\n",
      "Training Epoch 1265: 100%|██████████| 259/259 [00:01<00:00, 222.68it/s]\n",
      "Training Epoch 1266: 100%|██████████| 259/259 [00:01<00:00, 222.12it/s]\n",
      "Training Epoch 1267: 100%|██████████| 259/259 [00:01<00:00, 222.86it/s]\n",
      "Training Epoch 1268: 100%|██████████| 259/259 [00:01<00:00, 218.33it/s]\n",
      "Training Epoch 1269: 100%|██████████| 259/259 [00:01<00:00, 224.26it/s]\n",
      "Training Epoch 1270: 100%|██████████| 259/259 [00:01<00:00, 228.78it/s]\n",
      "Training Epoch 1271: 100%|██████████| 259/259 [00:01<00:00, 228.75it/s]\n"
     ]
    },
    {
     "name": "stdout",
     "output_type": "stream",
     "text": [
      "Epoch 1270 - Train Loss: 0.0646, Train MSE: 0.0646, Train MAE: 0.1814\n",
      "Epoch 1270 - Validation Loss: 2.0469, Validation MSE: 2.0441, Validation MAE: 1.1161\n"
     ]
    },
    {
     "name": "stderr",
     "output_type": "stream",
     "text": [
      "Training Epoch 1272: 100%|██████████| 259/259 [00:01<00:00, 218.37it/s]\n",
      "Training Epoch 1273: 100%|██████████| 259/259 [00:01<00:00, 225.09it/s]\n",
      "Training Epoch 1274: 100%|██████████| 259/259 [00:01<00:00, 235.93it/s]\n",
      "Training Epoch 1275: 100%|██████████| 259/259 [00:01<00:00, 213.60it/s]\n",
      "Training Epoch 1276: 100%|██████████| 259/259 [00:01<00:00, 216.70it/s]\n",
      "Training Epoch 1277: 100%|██████████| 259/259 [00:01<00:00, 206.94it/s]\n",
      "Training Epoch 1278: 100%|██████████| 259/259 [00:01<00:00, 209.79it/s]\n",
      "Training Epoch 1279: 100%|██████████| 259/259 [00:01<00:00, 212.94it/s]\n",
      "Training Epoch 1280: 100%|██████████| 259/259 [00:01<00:00, 207.48it/s]\n",
      "Training Epoch 1281: 100%|██████████| 259/259 [00:01<00:00, 204.82it/s]\n"
     ]
    },
    {
     "name": "stdout",
     "output_type": "stream",
     "text": [
      "Epoch 1280 - Train Loss: 0.0641, Train MSE: 0.0641, Train MAE: 0.1796\n",
      "Epoch 1280 - Validation Loss: 2.0492, Validation MSE: 2.0465, Validation MAE: 1.1124\n"
     ]
    },
    {
     "name": "stderr",
     "output_type": "stream",
     "text": [
      "Training Epoch 1282: 100%|██████████| 259/259 [00:01<00:00, 193.01it/s]\n",
      "Training Epoch 1283: 100%|██████████| 259/259 [00:01<00:00, 196.17it/s]\n",
      "Training Epoch 1284: 100%|██████████| 259/259 [00:01<00:00, 204.49it/s]\n",
      "Training Epoch 1285: 100%|██████████| 259/259 [00:01<00:00, 215.71it/s]\n",
      "Training Epoch 1286: 100%|██████████| 259/259 [00:01<00:00, 221.78it/s]\n",
      "Training Epoch 1287: 100%|██████████| 259/259 [00:01<00:00, 204.65it/s]\n",
      "Training Epoch 1288: 100%|██████████| 259/259 [00:01<00:00, 220.69it/s]\n",
      "Training Epoch 1289: 100%|██████████| 259/259 [00:01<00:00, 220.61it/s]\n",
      "Training Epoch 1290: 100%|██████████| 259/259 [00:01<00:00, 222.75it/s]\n",
      "Training Epoch 1291: 100%|██████████| 259/259 [00:01<00:00, 186.72it/s]\n"
     ]
    },
    {
     "name": "stdout",
     "output_type": "stream",
     "text": [
      "Epoch 1290 - Train Loss: 0.0618, Train MSE: 0.0618, Train MAE: 0.1761\n",
      "Epoch 1290 - Validation Loss: 2.0769, Validation MSE: 2.0748, Validation MAE: 1.1232\n"
     ]
    },
    {
     "name": "stderr",
     "output_type": "stream",
     "text": [
      "Training Epoch 1292: 100%|██████████| 259/259 [00:01<00:00, 204.69it/s]\n",
      "Training Epoch 1293: 100%|██████████| 259/259 [00:01<00:00, 226.58it/s]\n",
      "Training Epoch 1294: 100%|██████████| 259/259 [00:01<00:00, 197.92it/s]\n",
      "Training Epoch 1295: 100%|██████████| 259/259 [00:01<00:00, 206.65it/s]\n",
      "Training Epoch 1296: 100%|██████████| 259/259 [00:01<00:00, 205.58it/s]\n",
      "Training Epoch 1297: 100%|██████████| 259/259 [00:01<00:00, 228.60it/s]\n",
      "Training Epoch 1298: 100%|██████████| 259/259 [00:01<00:00, 222.60it/s]\n",
      "Training Epoch 1299: 100%|██████████| 259/259 [00:01<00:00, 221.86it/s]\n",
      "Training Epoch 1300: 100%|██████████| 259/259 [00:01<00:00, 214.40it/s]\n",
      "Training Epoch 1301: 100%|██████████| 259/259 [00:01<00:00, 222.45it/s]\n"
     ]
    },
    {
     "name": "stdout",
     "output_type": "stream",
     "text": [
      "Epoch 1300 - Train Loss: 0.0606, Train MSE: 0.0606, Train MAE: 0.1779\n",
      "Epoch 1300 - Validation Loss: 2.0755, Validation MSE: 2.0727, Validation MAE: 1.1197\n"
     ]
    },
    {
     "name": "stderr",
     "output_type": "stream",
     "text": [
      "Training Epoch 1302: 100%|██████████| 259/259 [00:01<00:00, 226.65it/s]\n",
      "Training Epoch 1303: 100%|██████████| 259/259 [00:01<00:00, 226.41it/s]\n",
      "Training Epoch 1304: 100%|██████████| 259/259 [00:01<00:00, 219.55it/s]\n",
      "Training Epoch 1305: 100%|██████████| 259/259 [00:01<00:00, 208.18it/s]\n",
      "Training Epoch 1306: 100%|██████████| 259/259 [00:01<00:00, 223.60it/s]\n",
      "Training Epoch 1307: 100%|██████████| 259/259 [00:01<00:00, 226.22it/s]\n",
      "Training Epoch 1308: 100%|██████████| 259/259 [00:01<00:00, 222.20it/s]\n",
      "Training Epoch 1309: 100%|██████████| 259/259 [00:01<00:00, 222.91it/s]\n",
      "Training Epoch 1310: 100%|██████████| 259/259 [00:01<00:00, 227.68it/s]\n",
      "Training Epoch 1311: 100%|██████████| 259/259 [00:01<00:00, 204.96it/s]\n"
     ]
    },
    {
     "name": "stdout",
     "output_type": "stream",
     "text": [
      "Epoch 1310 - Train Loss: 0.0633, Train MSE: 0.0634, Train MAE: 0.1789\n",
      "Epoch 1310 - Validation Loss: 2.0630, Validation MSE: 2.0607, Validation MAE: 1.1155\n"
     ]
    },
    {
     "name": "stderr",
     "output_type": "stream",
     "text": [
      "Training Epoch 1312: 100%|██████████| 259/259 [00:01<00:00, 204.26it/s]\n",
      "Training Epoch 1313: 100%|██████████| 259/259 [00:01<00:00, 197.46it/s]\n",
      "Training Epoch 1314: 100%|██████████| 259/259 [00:01<00:00, 211.65it/s]\n",
      "Training Epoch 1315: 100%|██████████| 259/259 [00:01<00:00, 210.75it/s]\n",
      "Training Epoch 1316: 100%|██████████| 259/259 [00:01<00:00, 219.44it/s]\n",
      "Training Epoch 1317: 100%|██████████| 259/259 [00:01<00:00, 215.85it/s]\n",
      "Training Epoch 1318: 100%|██████████| 259/259 [00:01<00:00, 231.46it/s]\n",
      "Training Epoch 1319: 100%|██████████| 259/259 [00:01<00:00, 209.19it/s]\n",
      "Training Epoch 1320: 100%|██████████| 259/259 [00:01<00:00, 219.59it/s]\n",
      "Training Epoch 1321: 100%|██████████| 259/259 [00:01<00:00, 216.38it/s]\n"
     ]
    },
    {
     "name": "stdout",
     "output_type": "stream",
     "text": [
      "Epoch 1320 - Train Loss: 0.0592, Train MSE: 0.0592, Train MAE: 0.1730\n",
      "Epoch 1320 - Validation Loss: 2.0752, Validation MSE: 2.0721, Validation MAE: 1.1229\n"
     ]
    },
    {
     "name": "stderr",
     "output_type": "stream",
     "text": [
      "Training Epoch 1322: 100%|██████████| 259/259 [00:01<00:00, 216.19it/s]\n",
      "Training Epoch 1323: 100%|██████████| 259/259 [00:01<00:00, 212.16it/s]\n",
      "Training Epoch 1324: 100%|██████████| 259/259 [00:01<00:00, 197.24it/s]\n",
      "Training Epoch 1325: 100%|██████████| 259/259 [00:01<00:00, 198.31it/s]\n",
      "Training Epoch 1326: 100%|██████████| 259/259 [00:01<00:00, 201.41it/s]\n",
      "Training Epoch 1327: 100%|██████████| 259/259 [00:01<00:00, 201.79it/s]\n",
      "Training Epoch 1328: 100%|██████████| 259/259 [00:01<00:00, 203.43it/s]\n",
      "Training Epoch 1329: 100%|██████████| 259/259 [00:01<00:00, 212.10it/s]\n",
      "Training Epoch 1330: 100%|██████████| 259/259 [00:01<00:00, 211.50it/s]\n",
      "Training Epoch 1331: 100%|██████████| 259/259 [00:01<00:00, 215.96it/s]\n"
     ]
    },
    {
     "name": "stdout",
     "output_type": "stream",
     "text": [
      "Epoch 1330 - Train Loss: 0.0618, Train MSE: 0.0618, Train MAE: 0.1777\n",
      "Epoch 1330 - Validation Loss: 2.0993, Validation MSE: 2.0972, Validation MAE: 1.1274\n"
     ]
    },
    {
     "name": "stderr",
     "output_type": "stream",
     "text": [
      "Training Epoch 1332: 100%|██████████| 259/259 [00:01<00:00, 220.28it/s]\n",
      "Training Epoch 1333: 100%|██████████| 259/259 [00:01<00:00, 217.58it/s]\n",
      "Training Epoch 1334: 100%|██████████| 259/259 [00:01<00:00, 217.66it/s]\n",
      "Training Epoch 1335: 100%|██████████| 259/259 [00:01<00:00, 213.28it/s]\n",
      "Training Epoch 1336: 100%|██████████| 259/259 [00:01<00:00, 217.45it/s]\n",
      "Training Epoch 1337: 100%|██████████| 259/259 [00:01<00:00, 200.09it/s]\n",
      "Training Epoch 1338: 100%|██████████| 259/259 [00:01<00:00, 210.82it/s]\n",
      "Training Epoch 1339: 100%|██████████| 259/259 [00:01<00:00, 222.75it/s]\n",
      "Training Epoch 1340: 100%|██████████| 259/259 [00:01<00:00, 231.76it/s]\n",
      "Training Epoch 1341: 100%|██████████| 259/259 [00:01<00:00, 210.71it/s]\n"
     ]
    },
    {
     "name": "stdout",
     "output_type": "stream",
     "text": [
      "Epoch 1340 - Train Loss: 0.0621, Train MSE: 0.0621, Train MAE: 0.1765\n",
      "Epoch 1340 - Validation Loss: 2.0417, Validation MSE: 2.0396, Validation MAE: 1.1160\n"
     ]
    },
    {
     "name": "stderr",
     "output_type": "stream",
     "text": [
      "Training Epoch 1342: 100%|██████████| 259/259 [00:01<00:00, 203.73it/s]\n",
      "Training Epoch 1343: 100%|██████████| 259/259 [00:01<00:00, 218.89it/s]\n",
      "Training Epoch 1344: 100%|██████████| 259/259 [00:01<00:00, 210.08it/s]\n",
      "Training Epoch 1345: 100%|██████████| 259/259 [00:01<00:00, 213.47it/s]\n",
      "Training Epoch 1346: 100%|██████████| 259/259 [00:01<00:00, 219.42it/s]\n",
      "Training Epoch 1347: 100%|██████████| 259/259 [00:01<00:00, 203.23it/s]\n",
      "Training Epoch 1348: 100%|██████████| 259/259 [00:01<00:00, 214.03it/s]\n",
      "Training Epoch 1349: 100%|██████████| 259/259 [00:01<00:00, 214.04it/s]\n",
      "Training Epoch 1350: 100%|██████████| 259/259 [00:01<00:00, 214.02it/s]\n",
      "Training Epoch 1351: 100%|██████████| 259/259 [00:01<00:00, 210.13it/s]\n"
     ]
    },
    {
     "name": "stdout",
     "output_type": "stream",
     "text": [
      "Epoch 1350 - Train Loss: 0.0619, Train MSE: 0.0616, Train MAE: 0.1759\n",
      "Epoch 1350 - Validation Loss: 2.0776, Validation MSE: 2.0753, Validation MAE: 1.1272\n"
     ]
    },
    {
     "name": "stderr",
     "output_type": "stream",
     "text": [
      "Training Epoch 1352: 100%|██████████| 259/259 [00:01<00:00, 214.30it/s]\n",
      "Training Epoch 1353: 100%|██████████| 259/259 [00:01<00:00, 219.45it/s]\n",
      "Training Epoch 1354: 100%|██████████| 259/259 [00:01<00:00, 187.90it/s]\n",
      "Training Epoch 1355: 100%|██████████| 259/259 [00:01<00:00, 199.39it/s]\n",
      "Training Epoch 1356: 100%|██████████| 259/259 [00:01<00:00, 202.33it/s]\n",
      "Training Epoch 1357: 100%|██████████| 259/259 [00:01<00:00, 191.17it/s]\n",
      "Training Epoch 1358: 100%|██████████| 259/259 [00:01<00:00, 211.90it/s]\n",
      "Training Epoch 1359: 100%|██████████| 259/259 [00:01<00:00, 215.70it/s]\n",
      "Training Epoch 1360: 100%|██████████| 259/259 [00:01<00:00, 205.82it/s]\n",
      "Training Epoch 1361: 100%|██████████| 259/259 [00:01<00:00, 217.54it/s]\n"
     ]
    },
    {
     "name": "stdout",
     "output_type": "stream",
     "text": [
      "Epoch 1360 - Train Loss: 0.0618, Train MSE: 0.0619, Train MAE: 0.1776\n",
      "Epoch 1360 - Validation Loss: 2.1118, Validation MSE: 2.1094, Validation MAE: 1.1346\n"
     ]
    },
    {
     "name": "stderr",
     "output_type": "stream",
     "text": [
      "Training Epoch 1362: 100%|██████████| 259/259 [00:01<00:00, 234.70it/s]\n",
      "Training Epoch 1363: 100%|██████████| 259/259 [00:01<00:00, 196.31it/s]\n",
      "Training Epoch 1364: 100%|██████████| 259/259 [00:01<00:00, 201.84it/s]\n",
      "Training Epoch 1365: 100%|██████████| 259/259 [00:01<00:00, 202.17it/s]\n",
      "Training Epoch 1366: 100%|██████████| 259/259 [00:01<00:00, 200.55it/s]\n",
      "Training Epoch 1367: 100%|██████████| 259/259 [00:01<00:00, 219.18it/s]\n",
      "Training Epoch 1368: 100%|██████████| 259/259 [00:01<00:00, 218.36it/s]\n",
      "Training Epoch 1369: 100%|██████████| 259/259 [00:01<00:00, 214.29it/s]\n",
      "Training Epoch 1370: 100%|██████████| 259/259 [00:01<00:00, 212.57it/s]\n",
      "Training Epoch 1371: 100%|██████████| 259/259 [00:01<00:00, 199.89it/s]\n"
     ]
    },
    {
     "name": "stdout",
     "output_type": "stream",
     "text": [
      "Epoch 1370 - Train Loss: 0.0593, Train MSE: 0.0593, Train MAE: 0.1742\n",
      "Epoch 1370 - Validation Loss: 2.0583, Validation MSE: 2.0562, Validation MAE: 1.1127\n"
     ]
    },
    {
     "name": "stderr",
     "output_type": "stream",
     "text": [
      "Training Epoch 1372: 100%|██████████| 259/259 [00:01<00:00, 206.99it/s]\n",
      "Training Epoch 1373: 100%|██████████| 259/259 [00:01<00:00, 210.17it/s]\n",
      "Training Epoch 1374: 100%|██████████| 259/259 [00:01<00:00, 208.00it/s]\n",
      "Training Epoch 1375: 100%|██████████| 259/259 [00:01<00:00, 196.26it/s]\n",
      "Training Epoch 1376: 100%|██████████| 259/259 [00:01<00:00, 203.85it/s]\n",
      "Training Epoch 1377: 100%|██████████| 259/259 [00:01<00:00, 221.73it/s]\n",
      "Training Epoch 1378: 100%|██████████| 259/259 [00:01<00:00, 205.95it/s]\n",
      "Training Epoch 1379: 100%|██████████| 259/259 [00:01<00:00, 206.51it/s]\n",
      "Training Epoch 1380: 100%|██████████| 259/259 [00:01<00:00, 221.21it/s]\n",
      "Training Epoch 1381: 100%|██████████| 259/259 [00:01<00:00, 216.74it/s]\n"
     ]
    },
    {
     "name": "stdout",
     "output_type": "stream",
     "text": [
      "Epoch 1380 - Train Loss: 0.0594, Train MSE: 0.0594, Train MAE: 0.1746\n",
      "Epoch 1380 - Validation Loss: 2.0708, Validation MSE: 2.0682, Validation MAE: 1.1198\n"
     ]
    },
    {
     "name": "stderr",
     "output_type": "stream",
     "text": [
      "Training Epoch 1382: 100%|██████████| 259/259 [00:01<00:00, 214.93it/s]\n",
      "Training Epoch 1383: 100%|██████████| 259/259 [00:01<00:00, 199.02it/s]\n",
      "Training Epoch 1384: 100%|██████████| 259/259 [00:01<00:00, 193.45it/s]\n",
      "Training Epoch 1385: 100%|██████████| 259/259 [00:01<00:00, 190.89it/s]\n",
      "Training Epoch 1386: 100%|██████████| 259/259 [00:01<00:00, 197.05it/s]\n",
      "Training Epoch 1387: 100%|██████████| 259/259 [00:01<00:00, 201.77it/s]\n",
      "Training Epoch 1388: 100%|██████████| 259/259 [00:01<00:00, 191.39it/s]\n",
      "Training Epoch 1389: 100%|██████████| 259/259 [00:01<00:00, 204.37it/s]\n",
      "Training Epoch 1390: 100%|██████████| 259/259 [00:01<00:00, 199.59it/s]\n",
      "Training Epoch 1391: 100%|██████████| 259/259 [00:01<00:00, 210.49it/s]\n"
     ]
    },
    {
     "name": "stdout",
     "output_type": "stream",
     "text": [
      "Epoch 1390 - Train Loss: 0.0592, Train MSE: 0.0592, Train MAE: 0.1739\n",
      "Epoch 1390 - Validation Loss: 2.0719, Validation MSE: 2.0693, Validation MAE: 1.1185\n"
     ]
    },
    {
     "name": "stderr",
     "output_type": "stream",
     "text": [
      "Training Epoch 1392: 100%|██████████| 259/259 [00:01<00:00, 199.14it/s]\n",
      "Training Epoch 1393: 100%|██████████| 259/259 [00:01<00:00, 208.47it/s]\n",
      "Training Epoch 1394: 100%|██████████| 259/259 [00:01<00:00, 206.21it/s]\n",
      "Training Epoch 1395: 100%|██████████| 259/259 [00:01<00:00, 201.41it/s]\n",
      "Training Epoch 1396: 100%|██████████| 259/259 [00:01<00:00, 217.48it/s]\n",
      "Training Epoch 1397: 100%|██████████| 259/259 [00:01<00:00, 214.68it/s]\n",
      "Training Epoch 1398: 100%|██████████| 259/259 [00:01<00:00, 216.45it/s]\n",
      "Training Epoch 1399: 100%|██████████| 259/259 [00:01<00:00, 213.88it/s]\n",
      "Training Epoch 1400: 100%|██████████| 259/259 [00:01<00:00, 211.66it/s]\n",
      "Training Epoch 1401: 100%|██████████| 259/259 [00:01<00:00, 207.00it/s]\n"
     ]
    },
    {
     "name": "stdout",
     "output_type": "stream",
     "text": [
      "Epoch 1400 - Train Loss: 0.0604, Train MSE: 0.0605, Train MAE: 0.1751\n",
      "Epoch 1400 - Validation Loss: 2.0709, Validation MSE: 2.0688, Validation MAE: 1.1191\n"
     ]
    },
    {
     "name": "stderr",
     "output_type": "stream",
     "text": [
      "Training Epoch 1402: 100%|██████████| 259/259 [00:01<00:00, 207.64it/s]\n",
      "Training Epoch 1403: 100%|██████████| 259/259 [00:01<00:00, 218.55it/s]\n",
      "Training Epoch 1404: 100%|██████████| 259/259 [00:01<00:00, 219.83it/s]\n",
      "Training Epoch 1405: 100%|██████████| 259/259 [00:01<00:00, 201.31it/s]\n",
      "Training Epoch 1406: 100%|██████████| 259/259 [00:01<00:00, 215.24it/s]\n",
      "Training Epoch 1407: 100%|██████████| 259/259 [00:01<00:00, 213.46it/s]\n",
      "Training Epoch 1408: 100%|██████████| 259/259 [00:01<00:00, 215.62it/s]\n",
      "Training Epoch 1409: 100%|██████████| 259/259 [00:01<00:00, 214.58it/s]\n",
      "Training Epoch 1410: 100%|██████████| 259/259 [00:01<00:00, 217.65it/s]\n",
      "Training Epoch 1411: 100%|██████████| 259/259 [00:01<00:00, 216.64it/s]\n"
     ]
    },
    {
     "name": "stdout",
     "output_type": "stream",
     "text": [
      "Epoch 1410 - Train Loss: 0.0565, Train MSE: 0.0565, Train MAE: 0.1699\n",
      "Epoch 1410 - Validation Loss: 2.0884, Validation MSE: 2.0864, Validation MAE: 1.1253\n"
     ]
    },
    {
     "name": "stderr",
     "output_type": "stream",
     "text": [
      "Training Epoch 1412: 100%|██████████| 259/259 [00:01<00:00, 213.23it/s]\n",
      "Training Epoch 1413: 100%|██████████| 259/259 [00:01<00:00, 205.76it/s]\n",
      "Training Epoch 1414: 100%|██████████| 259/259 [00:01<00:00, 213.09it/s]\n",
      "Training Epoch 1415: 100%|██████████| 259/259 [00:01<00:00, 216.68it/s]\n",
      "Training Epoch 1416: 100%|██████████| 259/259 [00:01<00:00, 210.82it/s]\n",
      "Training Epoch 1417: 100%|██████████| 259/259 [00:01<00:00, 216.05it/s]\n",
      "Training Epoch 1418: 100%|██████████| 259/259 [00:01<00:00, 213.84it/s]\n",
      "Training Epoch 1419: 100%|██████████| 259/259 [00:01<00:00, 213.88it/s]\n",
      "Training Epoch 1420: 100%|██████████| 259/259 [00:01<00:00, 215.25it/s]\n",
      "Training Epoch 1421: 100%|██████████| 259/259 [00:01<00:00, 209.80it/s]\n"
     ]
    },
    {
     "name": "stdout",
     "output_type": "stream",
     "text": [
      "Epoch 1420 - Train Loss: 0.0595, Train MSE: 0.0595, Train MAE: 0.1727\n",
      "Epoch 1420 - Validation Loss: 2.0758, Validation MSE: 2.0734, Validation MAE: 1.1232\n"
     ]
    },
    {
     "name": "stderr",
     "output_type": "stream",
     "text": [
      "Training Epoch 1422: 100%|██████████| 259/259 [00:01<00:00, 217.81it/s]\n",
      "Training Epoch 1423: 100%|██████████| 259/259 [00:01<00:00, 217.91it/s]\n",
      "Training Epoch 1424: 100%|██████████| 259/259 [00:01<00:00, 217.76it/s]\n",
      "Training Epoch 1425: 100%|██████████| 259/259 [00:01<00:00, 213.43it/s]\n",
      "Training Epoch 1426: 100%|██████████| 259/259 [00:01<00:00, 231.65it/s]\n",
      "Training Epoch 1427: 100%|██████████| 259/259 [00:01<00:00, 219.43it/s]\n",
      "Training Epoch 1428: 100%|██████████| 259/259 [00:01<00:00, 197.39it/s]\n",
      "Training Epoch 1429: 100%|██████████| 259/259 [00:01<00:00, 212.38it/s]\n",
      "Training Epoch 1430: 100%|██████████| 259/259 [00:01<00:00, 211.21it/s]\n",
      "Training Epoch 1431: 100%|██████████| 259/259 [00:01<00:00, 216.22it/s]\n"
     ]
    },
    {
     "name": "stdout",
     "output_type": "stream",
     "text": [
      "Epoch 1430 - Train Loss: 0.0593, Train MSE: 0.0593, Train MAE: 0.1731\n",
      "Epoch 1430 - Validation Loss: 2.0960, Validation MSE: 2.0939, Validation MAE: 1.1274\n"
     ]
    },
    {
     "name": "stderr",
     "output_type": "stream",
     "text": [
      "Training Epoch 1432: 100%|██████████| 259/259 [00:01<00:00, 207.40it/s]\n",
      "Training Epoch 1433: 100%|██████████| 259/259 [00:01<00:00, 215.94it/s]\n",
      "Training Epoch 1434: 100%|██████████| 259/259 [00:01<00:00, 217.79it/s]\n",
      "Training Epoch 1435: 100%|██████████| 259/259 [00:01<00:00, 219.34it/s]\n",
      "Training Epoch 1436: 100%|██████████| 259/259 [00:01<00:00, 196.97it/s]\n",
      "Training Epoch 1437: 100%|██████████| 259/259 [00:01<00:00, 213.55it/s]\n",
      "Training Epoch 1438: 100%|██████████| 259/259 [00:01<00:00, 200.90it/s]\n",
      "Training Epoch 1439: 100%|██████████| 259/259 [00:01<00:00, 209.83it/s]\n",
      "Training Epoch 1440: 100%|██████████| 259/259 [00:01<00:00, 217.95it/s]\n",
      "Training Epoch 1441: 100%|██████████| 259/259 [00:01<00:00, 217.81it/s]\n"
     ]
    },
    {
     "name": "stdout",
     "output_type": "stream",
     "text": [
      "Epoch 1440 - Train Loss: 0.0583, Train MSE: 0.0583, Train MAE: 0.1705\n",
      "Epoch 1440 - Validation Loss: 2.0648, Validation MSE: 2.0629, Validation MAE: 1.1185\n"
     ]
    },
    {
     "name": "stderr",
     "output_type": "stream",
     "text": [
      "Training Epoch 1442: 100%|██████████| 259/259 [00:01<00:00, 205.17it/s]\n",
      "Training Epoch 1443: 100%|██████████| 259/259 [00:01<00:00, 202.88it/s]\n",
      "Training Epoch 1444: 100%|██████████| 259/259 [00:01<00:00, 191.01it/s]\n",
      "Training Epoch 1445: 100%|██████████| 259/259 [00:01<00:00, 209.64it/s]\n",
      "Training Epoch 1446: 100%|██████████| 259/259 [00:01<00:00, 210.34it/s]\n",
      "Training Epoch 1447: 100%|██████████| 259/259 [00:01<00:00, 226.44it/s]\n",
      "Training Epoch 1448: 100%|██████████| 259/259 [00:01<00:00, 238.45it/s]\n",
      "Training Epoch 1449: 100%|██████████| 259/259 [00:01<00:00, 225.95it/s]\n",
      "Training Epoch 1450: 100%|██████████| 259/259 [00:01<00:00, 223.20it/s]\n",
      "Training Epoch 1451: 100%|██████████| 259/259 [00:01<00:00, 220.28it/s]\n"
     ]
    },
    {
     "name": "stdout",
     "output_type": "stream",
     "text": [
      "Epoch 1450 - Train Loss: 0.0579, Train MSE: 0.0580, Train MAE: 0.1720\n",
      "Epoch 1450 - Validation Loss: 2.0673, Validation MSE: 2.0654, Validation MAE: 1.1204\n"
     ]
    },
    {
     "name": "stderr",
     "output_type": "stream",
     "text": [
      "Training Epoch 1452: 100%|██████████| 259/259 [00:01<00:00, 214.15it/s]\n",
      "Training Epoch 1453: 100%|██████████| 259/259 [00:01<00:00, 220.70it/s]\n",
      "Training Epoch 1454: 100%|██████████| 259/259 [00:01<00:00, 227.16it/s]\n",
      "Training Epoch 1455: 100%|██████████| 259/259 [00:01<00:00, 225.90it/s]\n",
      "Training Epoch 1456: 100%|██████████| 259/259 [00:01<00:00, 223.42it/s]\n",
      "Training Epoch 1457: 100%|██████████| 259/259 [00:01<00:00, 221.76it/s]\n",
      "Training Epoch 1458: 100%|██████████| 259/259 [00:01<00:00, 223.51it/s]\n",
      "Training Epoch 1459: 100%|██████████| 259/259 [00:01<00:00, 220.47it/s]\n",
      "Training Epoch 1460: 100%|██████████| 259/259 [00:01<00:00, 223.38it/s]\n",
      "Training Epoch 1461: 100%|██████████| 259/259 [00:01<00:00, 228.21it/s]\n"
     ]
    },
    {
     "name": "stdout",
     "output_type": "stream",
     "text": [
      "Epoch 1460 - Train Loss: 0.0551, Train MSE: 0.0552, Train MAE: 0.1679\n",
      "Epoch 1460 - Validation Loss: 2.0609, Validation MSE: 2.0595, Validation MAE: 1.1176\n"
     ]
    },
    {
     "name": "stderr",
     "output_type": "stream",
     "text": [
      "Training Epoch 1462: 100%|██████████| 259/259 [00:01<00:00, 225.79it/s]\n",
      "Training Epoch 1463: 100%|██████████| 259/259 [00:01<00:00, 222.84it/s]\n",
      "Training Epoch 1464: 100%|██████████| 259/259 [00:01<00:00, 221.41it/s]\n",
      "Training Epoch 1465: 100%|██████████| 259/259 [00:01<00:00, 225.37it/s]\n",
      "Training Epoch 1466: 100%|██████████| 259/259 [00:01<00:00, 220.63it/s]\n",
      "Training Epoch 1467: 100%|██████████| 259/259 [00:01<00:00, 192.48it/s]\n",
      "Training Epoch 1468: 100%|██████████| 259/259 [00:01<00:00, 214.51it/s]\n",
      "Training Epoch 1469: 100%|██████████| 259/259 [00:01<00:00, 222.38it/s]\n",
      "Training Epoch 1470: 100%|██████████| 259/259 [00:01<00:00, 235.92it/s]\n",
      "Training Epoch 1471: 100%|██████████| 259/259 [00:01<00:00, 219.43it/s]\n"
     ]
    },
    {
     "name": "stdout",
     "output_type": "stream",
     "text": [
      "Epoch 1470 - Train Loss: 0.0591, Train MSE: 0.0588, Train MAE: 0.1714\n",
      "Epoch 1470 - Validation Loss: 2.1082, Validation MSE: 2.1055, Validation MAE: 1.1292\n"
     ]
    },
    {
     "name": "stderr",
     "output_type": "stream",
     "text": [
      "Training Epoch 1472: 100%|██████████| 259/259 [00:01<00:00, 206.99it/s]\n",
      "Training Epoch 1473: 100%|██████████| 259/259 [00:01<00:00, 207.54it/s]\n",
      "Training Epoch 1474: 100%|██████████| 259/259 [00:01<00:00, 206.22it/s]\n",
      "Training Epoch 1475: 100%|██████████| 259/259 [00:01<00:00, 183.34it/s]\n",
      "Training Epoch 1476: 100%|██████████| 259/259 [00:01<00:00, 195.67it/s]\n",
      "Training Epoch 1477: 100%|██████████| 259/259 [00:01<00:00, 193.83it/s]\n",
      "Training Epoch 1478: 100%|██████████| 259/259 [00:01<00:00, 223.64it/s]\n",
      "Training Epoch 1479: 100%|██████████| 259/259 [00:01<00:00, 204.05it/s]\n",
      "Training Epoch 1480: 100%|██████████| 259/259 [00:01<00:00, 202.12it/s]\n",
      "Training Epoch 1481: 100%|██████████| 259/259 [00:01<00:00, 196.02it/s]\n"
     ]
    },
    {
     "name": "stdout",
     "output_type": "stream",
     "text": [
      "Epoch 1480 - Train Loss: 0.0574, Train MSE: 0.0574, Train MAE: 0.1695\n",
      "Epoch 1480 - Validation Loss: 2.0772, Validation MSE: 2.0752, Validation MAE: 1.1192\n"
     ]
    },
    {
     "name": "stderr",
     "output_type": "stream",
     "text": [
      "Training Epoch 1482: 100%|██████████| 259/259 [00:01<00:00, 206.55it/s]\n",
      "Training Epoch 1483: 100%|██████████| 259/259 [00:01<00:00, 213.62it/s]\n",
      "Training Epoch 1484: 100%|██████████| 259/259 [00:01<00:00, 211.06it/s]\n",
      "Training Epoch 1485: 100%|██████████| 259/259 [00:01<00:00, 205.77it/s]\n",
      "Training Epoch 1486: 100%|██████████| 259/259 [00:01<00:00, 205.12it/s]\n",
      "Training Epoch 1487: 100%|██████████| 259/259 [00:01<00:00, 191.28it/s]\n",
      "Training Epoch 1488: 100%|██████████| 259/259 [00:01<00:00, 211.46it/s]\n",
      "Training Epoch 1489: 100%|██████████| 259/259 [00:01<00:00, 214.04it/s]\n",
      "Training Epoch 1490: 100%|██████████| 259/259 [00:01<00:00, 202.94it/s]\n",
      "Training Epoch 1491: 100%|██████████| 259/259 [00:01<00:00, 215.38it/s]\n"
     ]
    },
    {
     "name": "stdout",
     "output_type": "stream",
     "text": [
      "Epoch 1490 - Train Loss: 0.0549, Train MSE: 0.0550, Train MAE: 0.1681\n",
      "Epoch 1490 - Validation Loss: 2.0845, Validation MSE: 2.0817, Validation MAE: 1.1240\n"
     ]
    },
    {
     "name": "stderr",
     "output_type": "stream",
     "text": [
      "Training Epoch 1492: 100%|██████████| 259/259 [00:01<00:00, 213.04it/s]\n",
      "Training Epoch 1493: 100%|██████████| 259/259 [00:01<00:00, 201.97it/s]\n",
      "Training Epoch 1494: 100%|██████████| 259/259 [00:01<00:00, 201.07it/s]\n",
      "Training Epoch 1495: 100%|██████████| 259/259 [00:01<00:00, 191.31it/s]\n",
      "Training Epoch 1496: 100%|██████████| 259/259 [00:01<00:00, 194.62it/s]\n",
      "Training Epoch 1497: 100%|██████████| 259/259 [00:01<00:00, 205.24it/s]\n",
      "Training Epoch 1498: 100%|██████████| 259/259 [00:01<00:00, 205.48it/s]\n",
      "Training Epoch 1499: 100%|██████████| 259/259 [00:01<00:00, 217.59it/s]\n",
      "Training Epoch 1500: 100%|██████████| 259/259 [00:01<00:00, 210.05it/s]\n",
      "Training Epoch 1501: 100%|██████████| 259/259 [00:01<00:00, 209.74it/s]\n"
     ]
    },
    {
     "name": "stdout",
     "output_type": "stream",
     "text": [
      "Epoch 1500 - Train Loss: 0.0565, Train MSE: 0.0564, Train MAE: 0.1679\n",
      "Epoch 1500 - Validation Loss: 2.0770, Validation MSE: 2.0747, Validation MAE: 1.1224\n"
     ]
    },
    {
     "name": "stderr",
     "output_type": "stream",
     "text": [
      "Training Epoch 1502: 100%|██████████| 259/259 [00:01<00:00, 219.01it/s]\n",
      "Training Epoch 1503: 100%|██████████| 259/259 [00:01<00:00, 215.16it/s]\n",
      "Training Epoch 1504: 100%|██████████| 259/259 [00:01<00:00, 210.41it/s]\n",
      "Training Epoch 1505: 100%|██████████| 259/259 [00:01<00:00, 192.09it/s]\n",
      "Training Epoch 1506: 100%|██████████| 259/259 [00:01<00:00, 211.55it/s]\n",
      "Training Epoch 1507: 100%|██████████| 259/259 [00:01<00:00, 189.20it/s]\n",
      "Training Epoch 1508: 100%|██████████| 259/259 [00:01<00:00, 186.63it/s]\n",
      "Training Epoch 1509: 100%|██████████| 259/259 [00:01<00:00, 206.22it/s]\n",
      "Training Epoch 1510: 100%|██████████| 259/259 [00:01<00:00, 226.35it/s]\n",
      "Training Epoch 1511: 100%|██████████| 259/259 [00:01<00:00, 194.13it/s]\n"
     ]
    },
    {
     "name": "stdout",
     "output_type": "stream",
     "text": [
      "Epoch 1510 - Train Loss: 0.0574, Train MSE: 0.0574, Train MAE: 0.1708\n",
      "Epoch 1510 - Validation Loss: 2.0468, Validation MSE: 2.0445, Validation MAE: 1.1097\n"
     ]
    },
    {
     "name": "stderr",
     "output_type": "stream",
     "text": [
      "Training Epoch 1512: 100%|██████████| 259/259 [00:01<00:00, 216.42it/s]\n",
      "Training Epoch 1513: 100%|██████████| 259/259 [00:01<00:00, 233.07it/s]\n",
      "Training Epoch 1514: 100%|██████████| 259/259 [00:01<00:00, 208.38it/s]\n",
      "Training Epoch 1515: 100%|██████████| 259/259 [00:01<00:00, 200.53it/s]\n",
      "Training Epoch 1516: 100%|██████████| 259/259 [00:01<00:00, 210.97it/s]\n",
      "Training Epoch 1517: 100%|██████████| 259/259 [00:01<00:00, 207.65it/s]\n",
      "Training Epoch 1518: 100%|██████████| 259/259 [00:01<00:00, 182.06it/s]\n",
      "Training Epoch 1519: 100%|██████████| 259/259 [00:01<00:00, 178.95it/s]\n",
      "Training Epoch 1520: 100%|██████████| 259/259 [00:01<00:00, 189.64it/s]\n",
      "Training Epoch 1521: 100%|██████████| 259/259 [00:01<00:00, 185.89it/s]\n"
     ]
    },
    {
     "name": "stdout",
     "output_type": "stream",
     "text": [
      "Epoch 1520 - Train Loss: 0.0569, Train MSE: 0.0570, Train MAE: 0.1699\n",
      "Epoch 1520 - Validation Loss: 2.0672, Validation MSE: 2.0651, Validation MAE: 1.1163\n"
     ]
    },
    {
     "name": "stderr",
     "output_type": "stream",
     "text": [
      "Training Epoch 1522: 100%|██████████| 259/259 [00:01<00:00, 200.21it/s]\n",
      "Training Epoch 1523: 100%|██████████| 259/259 [00:01<00:00, 196.53it/s]\n",
      "Training Epoch 1524: 100%|██████████| 259/259 [00:01<00:00, 207.29it/s]\n",
      "Training Epoch 1525: 100%|██████████| 259/259 [00:01<00:00, 216.92it/s]\n",
      "Training Epoch 1526: 100%|██████████| 259/259 [00:01<00:00, 219.15it/s]\n",
      "Training Epoch 1527: 100%|██████████| 259/259 [00:01<00:00, 216.49it/s]\n",
      "Training Epoch 1528: 100%|██████████| 259/259 [00:01<00:00, 218.74it/s]\n",
      "Training Epoch 1529: 100%|██████████| 259/259 [00:01<00:00, 201.30it/s]\n",
      "Training Epoch 1530: 100%|██████████| 259/259 [00:01<00:00, 206.44it/s]\n",
      "Training Epoch 1531: 100%|██████████| 259/259 [00:01<00:00, 222.20it/s]\n"
     ]
    },
    {
     "name": "stdout",
     "output_type": "stream",
     "text": [
      "Epoch 1530 - Train Loss: 0.0533, Train MSE: 0.0533, Train MAE: 0.1650\n",
      "Epoch 1530 - Validation Loss: 2.0987, Validation MSE: 2.0967, Validation MAE: 1.1280\n"
     ]
    },
    {
     "name": "stderr",
     "output_type": "stream",
     "text": [
      "Training Epoch 1532: 100%|██████████| 259/259 [00:01<00:00, 221.50it/s]\n",
      "Training Epoch 1533: 100%|██████████| 259/259 [00:01<00:00, 214.51it/s]\n",
      "Training Epoch 1534: 100%|██████████| 259/259 [00:01<00:00, 232.40it/s]\n",
      "Training Epoch 1535: 100%|██████████| 259/259 [00:01<00:00, 233.52it/s]\n",
      "Training Epoch 1536: 100%|██████████| 259/259 [00:01<00:00, 213.24it/s]\n",
      "Training Epoch 1537: 100%|██████████| 259/259 [00:01<00:00, 218.73it/s]\n",
      "Training Epoch 1538: 100%|██████████| 259/259 [00:01<00:00, 221.11it/s]\n",
      "Training Epoch 1539: 100%|██████████| 259/259 [00:01<00:00, 219.31it/s]\n",
      "Training Epoch 1540: 100%|██████████| 259/259 [00:01<00:00, 223.05it/s]\n",
      "Training Epoch 1541: 100%|██████████| 259/259 [00:01<00:00, 221.48it/s]\n"
     ]
    },
    {
     "name": "stdout",
     "output_type": "stream",
     "text": [
      "Epoch 1540 - Train Loss: 0.0545, Train MSE: 0.0545, Train MAE: 0.1658\n",
      "Epoch 1540 - Validation Loss: 2.0814, Validation MSE: 2.0791, Validation MAE: 1.1264\n"
     ]
    },
    {
     "name": "stderr",
     "output_type": "stream",
     "text": [
      "Training Epoch 1542: 100%|██████████| 259/259 [00:01<00:00, 204.81it/s]\n",
      "Training Epoch 1543: 100%|██████████| 259/259 [00:01<00:00, 209.19it/s]\n",
      "Training Epoch 1544: 100%|██████████| 259/259 [00:01<00:00, 219.05it/s]\n",
      "Training Epoch 1545: 100%|██████████| 259/259 [00:01<00:00, 217.89it/s]\n",
      "Training Epoch 1546: 100%|██████████| 259/259 [00:01<00:00, 223.06it/s]\n",
      "Training Epoch 1547: 100%|██████████| 259/259 [00:01<00:00, 216.13it/s]\n",
      "Training Epoch 1548: 100%|██████████| 259/259 [00:01<00:00, 217.26it/s]\n",
      "Training Epoch 1549: 100%|██████████| 259/259 [00:01<00:00, 218.88it/s]\n",
      "Training Epoch 1550: 100%|██████████| 259/259 [00:01<00:00, 223.50it/s]\n",
      "Training Epoch 1551: 100%|██████████| 259/259 [00:01<00:00, 223.63it/s]\n"
     ]
    },
    {
     "name": "stdout",
     "output_type": "stream",
     "text": [
      "Epoch 1550 - Train Loss: 0.0571, Train MSE: 0.0572, Train MAE: 0.1698\n",
      "Epoch 1550 - Validation Loss: 2.0891, Validation MSE: 2.0866, Validation MAE: 1.1245\n"
     ]
    },
    {
     "name": "stderr",
     "output_type": "stream",
     "text": [
      "Training Epoch 1552: 100%|██████████| 259/259 [00:01<00:00, 219.22it/s]\n",
      "Training Epoch 1553: 100%|██████████| 259/259 [00:01<00:00, 204.97it/s]\n",
      "Training Epoch 1554: 100%|██████████| 259/259 [00:01<00:00, 190.77it/s]\n",
      "Training Epoch 1555: 100%|██████████| 259/259 [00:01<00:00, 198.29it/s]\n",
      "Training Epoch 1556: 100%|██████████| 259/259 [00:01<00:00, 236.89it/s]\n",
      "Training Epoch 1557: 100%|██████████| 259/259 [00:01<00:00, 238.18it/s]\n",
      "Training Epoch 1558: 100%|██████████| 259/259 [00:01<00:00, 223.31it/s]\n",
      "Training Epoch 1559: 100%|██████████| 259/259 [00:01<00:00, 206.35it/s]\n",
      "Training Epoch 1560: 100%|██████████| 259/259 [00:01<00:00, 197.70it/s]\n",
      "Training Epoch 1561: 100%|██████████| 259/259 [00:01<00:00, 210.50it/s]\n"
     ]
    },
    {
     "name": "stdout",
     "output_type": "stream",
     "text": [
      "Epoch 1560 - Train Loss: 0.0547, Train MSE: 0.0547, Train MAE: 0.1672\n",
      "Epoch 1560 - Validation Loss: 2.0451, Validation MSE: 2.0426, Validation MAE: 1.1112\n"
     ]
    },
    {
     "name": "stderr",
     "output_type": "stream",
     "text": [
      "Training Epoch 1562: 100%|██████████| 259/259 [00:01<00:00, 215.04it/s]\n",
      "Training Epoch 1563: 100%|██████████| 259/259 [00:01<00:00, 221.80it/s]\n",
      "Training Epoch 1564: 100%|██████████| 259/259 [00:01<00:00, 213.92it/s]\n",
      "Training Epoch 1565: 100%|██████████| 259/259 [00:01<00:00, 197.14it/s]\n",
      "Training Epoch 1566: 100%|██████████| 259/259 [00:01<00:00, 177.52it/s]\n",
      "Training Epoch 1567: 100%|██████████| 259/259 [00:01<00:00, 213.31it/s]\n",
      "Training Epoch 1568: 100%|██████████| 259/259 [00:01<00:00, 221.32it/s]\n",
      "Training Epoch 1569: 100%|██████████| 259/259 [00:01<00:00, 215.55it/s]\n",
      "Training Epoch 1570: 100%|██████████| 259/259 [00:01<00:00, 218.79it/s]\n",
      "Training Epoch 1571: 100%|██████████| 259/259 [00:01<00:00, 197.81it/s]\n"
     ]
    },
    {
     "name": "stdout",
     "output_type": "stream",
     "text": [
      "Epoch 1570 - Train Loss: 0.0546, Train MSE: 0.0546, Train MAE: 0.1664\n",
      "Epoch 1570 - Validation Loss: 2.0816, Validation MSE: 2.0797, Validation MAE: 1.1185\n"
     ]
    },
    {
     "name": "stderr",
     "output_type": "stream",
     "text": [
      "Training Epoch 1572: 100%|██████████| 259/259 [00:01<00:00, 210.12it/s]\n",
      "Training Epoch 1573: 100%|██████████| 259/259 [00:01<00:00, 218.60it/s]\n",
      "Training Epoch 1574: 100%|██████████| 259/259 [00:01<00:00, 192.70it/s]\n",
      "Training Epoch 1575: 100%|██████████| 259/259 [00:01<00:00, 193.86it/s]\n",
      "Training Epoch 1576: 100%|██████████| 259/259 [00:01<00:00, 193.79it/s]\n",
      "Training Epoch 1577: 100%|██████████| 259/259 [00:01<00:00, 192.39it/s]\n",
      "Training Epoch 1578: 100%|██████████| 259/259 [00:01<00:00, 216.85it/s]\n",
      "Training Epoch 1579: 100%|██████████| 259/259 [00:01<00:00, 198.84it/s]\n",
      "Training Epoch 1580: 100%|██████████| 259/259 [00:01<00:00, 196.23it/s]\n",
      "Training Epoch 1581: 100%|██████████| 259/259 [00:01<00:00, 196.00it/s]\n"
     ]
    },
    {
     "name": "stdout",
     "output_type": "stream",
     "text": [
      "Epoch 1580 - Train Loss: 0.0551, Train MSE: 0.0551, Train MAE: 0.1674\n",
      "Epoch 1580 - Validation Loss: 2.0634, Validation MSE: 2.0609, Validation MAE: 1.1166\n"
     ]
    },
    {
     "name": "stderr",
     "output_type": "stream",
     "text": [
      "Training Epoch 1582: 100%|██████████| 259/259 [00:01<00:00, 207.22it/s]\n",
      "Training Epoch 1583: 100%|██████████| 259/259 [00:01<00:00, 203.80it/s]\n",
      "Training Epoch 1584: 100%|██████████| 259/259 [00:01<00:00, 210.39it/s]\n",
      "Training Epoch 1585: 100%|██████████| 259/259 [00:01<00:00, 209.96it/s]\n",
      "Training Epoch 1586: 100%|██████████| 259/259 [00:01<00:00, 213.58it/s]\n",
      "Training Epoch 1587: 100%|██████████| 259/259 [00:01<00:00, 208.37it/s]\n",
      "Training Epoch 1588: 100%|██████████| 259/259 [00:01<00:00, 191.41it/s]\n",
      "Training Epoch 1589: 100%|██████████| 259/259 [00:01<00:00, 215.25it/s]\n",
      "Training Epoch 1590: 100%|██████████| 259/259 [00:01<00:00, 216.09it/s]\n",
      "Training Epoch 1591: 100%|██████████| 259/259 [00:01<00:00, 206.66it/s]\n"
     ]
    },
    {
     "name": "stdout",
     "output_type": "stream",
     "text": [
      "Epoch 1590 - Train Loss: 0.0572, Train MSE: 0.0572, Train MAE: 0.1688\n",
      "Epoch 1590 - Validation Loss: 2.0593, Validation MSE: 2.0566, Validation MAE: 1.1182\n"
     ]
    },
    {
     "name": "stderr",
     "output_type": "stream",
     "text": [
      "Training Epoch 1592: 100%|██████████| 259/259 [00:01<00:00, 220.69it/s]\n",
      "Training Epoch 1593: 100%|██████████| 259/259 [00:01<00:00, 217.09it/s]\n",
      "Training Epoch 1594: 100%|██████████| 259/259 [00:01<00:00, 216.47it/s]\n",
      "Training Epoch 1595: 100%|██████████| 259/259 [00:01<00:00, 215.20it/s]\n",
      "Training Epoch 1596: 100%|██████████| 259/259 [00:01<00:00, 212.77it/s]\n",
      "Training Epoch 1597: 100%|██████████| 259/259 [00:01<00:00, 212.84it/s]\n",
      "Training Epoch 1598: 100%|██████████| 259/259 [00:01<00:00, 216.68it/s]\n",
      "Training Epoch 1599: 100%|██████████| 259/259 [00:01<00:00, 226.69it/s]\n",
      "Training Epoch 1600: 100%|██████████| 259/259 [00:01<00:00, 218.93it/s]\n",
      "Training Epoch 1601: 100%|██████████| 259/259 [00:01<00:00, 209.62it/s]\n"
     ]
    },
    {
     "name": "stdout",
     "output_type": "stream",
     "text": [
      "Epoch 1600 - Train Loss: 0.0555, Train MSE: 0.0555, Train MAE: 0.1667\n",
      "Epoch 1600 - Validation Loss: 2.1188, Validation MSE: 2.1169, Validation MAE: 1.1309\n"
     ]
    },
    {
     "name": "stderr",
     "output_type": "stream",
     "text": [
      "Training Epoch 1602: 100%|██████████| 259/259 [00:01<00:00, 214.30it/s]\n",
      "Training Epoch 1603: 100%|██████████| 259/259 [00:01<00:00, 217.66it/s]\n",
      "Training Epoch 1604: 100%|██████████| 259/259 [00:01<00:00, 220.83it/s]\n",
      "Training Epoch 1605: 100%|██████████| 259/259 [00:01<00:00, 215.04it/s]\n",
      "Training Epoch 1606: 100%|██████████| 259/259 [00:01<00:00, 215.23it/s]\n",
      "Training Epoch 1607: 100%|██████████| 259/259 [00:01<00:00, 211.88it/s]\n",
      "Training Epoch 1608: 100%|██████████| 259/259 [00:01<00:00, 213.28it/s]\n",
      "Training Epoch 1609: 100%|██████████| 259/259 [00:01<00:00, 213.54it/s]\n",
      "Training Epoch 1610: 100%|██████████| 259/259 [00:01<00:00, 205.21it/s]\n",
      "Training Epoch 1611: 100%|██████████| 259/259 [00:01<00:00, 198.72it/s]\n"
     ]
    },
    {
     "name": "stdout",
     "output_type": "stream",
     "text": [
      "Epoch 1610 - Train Loss: 0.0529, Train MSE: 0.0528, Train MAE: 0.1623\n",
      "Epoch 1610 - Validation Loss: 2.0750, Validation MSE: 2.0730, Validation MAE: 1.1223\n"
     ]
    },
    {
     "name": "stderr",
     "output_type": "stream",
     "text": [
      "Training Epoch 1612: 100%|██████████| 259/259 [00:01<00:00, 213.15it/s]\n",
      "Training Epoch 1613: 100%|██████████| 259/259 [00:01<00:00, 218.18it/s]\n",
      "Training Epoch 1614: 100%|██████████| 259/259 [00:01<00:00, 219.65it/s]\n",
      "Training Epoch 1615: 100%|██████████| 259/259 [00:01<00:00, 190.07it/s]\n",
      "Training Epoch 1616: 100%|██████████| 259/259 [00:01<00:00, 207.84it/s]\n",
      "Training Epoch 1617: 100%|██████████| 259/259 [00:01<00:00, 219.30it/s]\n",
      "Training Epoch 1618: 100%|██████████| 259/259 [00:01<00:00, 207.60it/s]\n",
      "Training Epoch 1619: 100%|██████████| 259/259 [00:01<00:00, 204.05it/s]\n",
      "Training Epoch 1620: 100%|██████████| 259/259 [00:01<00:00, 219.51it/s]\n",
      "Training Epoch 1621: 100%|██████████| 259/259 [00:01<00:00, 233.66it/s]\n"
     ]
    },
    {
     "name": "stdout",
     "output_type": "stream",
     "text": [
      "Epoch 1620 - Train Loss: 0.0529, Train MSE: 0.0529, Train MAE: 0.1631\n",
      "Epoch 1620 - Validation Loss: 2.0821, Validation MSE: 2.0798, Validation MAE: 1.1216\n"
     ]
    },
    {
     "name": "stderr",
     "output_type": "stream",
     "text": [
      "Training Epoch 1622: 100%|██████████| 259/259 [00:01<00:00, 219.45it/s]\n",
      "Training Epoch 1623: 100%|██████████| 259/259 [00:01<00:00, 206.67it/s]\n",
      "Training Epoch 1624: 100%|██████████| 259/259 [00:01<00:00, 219.40it/s]\n",
      "Training Epoch 1625: 100%|██████████| 259/259 [00:01<00:00, 188.23it/s]\n",
      "Training Epoch 1626: 100%|██████████| 259/259 [00:01<00:00, 203.21it/s]\n",
      "Training Epoch 1627: 100%|██████████| 259/259 [00:01<00:00, 219.68it/s]\n",
      "Training Epoch 1628: 100%|██████████| 259/259 [00:01<00:00, 201.40it/s]\n",
      "Training Epoch 1629: 100%|██████████| 259/259 [00:01<00:00, 211.65it/s]\n",
      "Training Epoch 1630: 100%|██████████| 259/259 [00:01<00:00, 215.22it/s]\n",
      "Training Epoch 1631: 100%|██████████| 259/259 [00:01<00:00, 208.96it/s]\n"
     ]
    },
    {
     "name": "stdout",
     "output_type": "stream",
     "text": [
      "Epoch 1630 - Train Loss: 0.0533, Train MSE: 0.0534, Train MAE: 0.1645\n",
      "Epoch 1630 - Validation Loss: 2.0905, Validation MSE: 2.0875, Validation MAE: 1.1216\n"
     ]
    },
    {
     "name": "stderr",
     "output_type": "stream",
     "text": [
      "Training Epoch 1632: 100%|██████████| 259/259 [00:01<00:00, 213.97it/s]\n",
      "Training Epoch 1633: 100%|██████████| 259/259 [00:01<00:00, 216.31it/s]\n",
      "Training Epoch 1634: 100%|██████████| 259/259 [00:01<00:00, 211.74it/s]\n",
      "Training Epoch 1635: 100%|██████████| 259/259 [00:01<00:00, 215.01it/s]\n",
      "Training Epoch 1636: 100%|██████████| 259/259 [00:01<00:00, 214.96it/s]\n",
      "Training Epoch 1637: 100%|██████████| 259/259 [00:01<00:00, 218.49it/s]\n",
      "Training Epoch 1638: 100%|██████████| 259/259 [00:01<00:00, 215.69it/s]\n",
      "Training Epoch 1639: 100%|██████████| 259/259 [00:01<00:00, 206.52it/s]\n",
      "Training Epoch 1640: 100%|██████████| 259/259 [00:01<00:00, 218.95it/s]\n",
      "Training Epoch 1641: 100%|██████████| 259/259 [00:01<00:00, 218.59it/s]\n"
     ]
    },
    {
     "name": "stdout",
     "output_type": "stream",
     "text": [
      "Epoch 1640 - Train Loss: 0.0542, Train MSE: 0.0542, Train MAE: 0.1652\n",
      "Epoch 1640 - Validation Loss: 2.0931, Validation MSE: 2.0906, Validation MAE: 1.1221\n"
     ]
    },
    {
     "name": "stderr",
     "output_type": "stream",
     "text": [
      "Training Epoch 1642: 100%|██████████| 259/259 [00:01<00:00, 220.20it/s]\n",
      "Training Epoch 1643: 100%|██████████| 259/259 [00:01<00:00, 220.74it/s]\n",
      "Training Epoch 1644: 100%|██████████| 259/259 [00:01<00:00, 224.25it/s]\n",
      "Training Epoch 1645: 100%|██████████| 259/259 [00:01<00:00, 217.08it/s]\n",
      "Training Epoch 1646: 100%|██████████| 259/259 [00:01<00:00, 218.96it/s]\n",
      "Training Epoch 1647: 100%|██████████| 259/259 [00:01<00:00, 210.99it/s]\n",
      "Training Epoch 1648: 100%|██████████| 259/259 [00:01<00:00, 221.40it/s]\n",
      "Training Epoch 1649: 100%|██████████| 259/259 [00:01<00:00, 214.68it/s]\n",
      "Training Epoch 1650: 100%|██████████| 259/259 [00:01<00:00, 217.60it/s]\n",
      "Training Epoch 1651: 100%|██████████| 259/259 [00:01<00:00, 214.82it/s]\n"
     ]
    },
    {
     "name": "stdout",
     "output_type": "stream",
     "text": [
      "Epoch 1650 - Train Loss: 0.0526, Train MSE: 0.0527, Train MAE: 0.1637\n",
      "Epoch 1650 - Validation Loss: 2.1028, Validation MSE: 2.1005, Validation MAE: 1.1268\n"
     ]
    },
    {
     "name": "stderr",
     "output_type": "stream",
     "text": [
      "Training Epoch 1652: 100%|██████████| 259/259 [00:01<00:00, 219.36it/s]\n",
      "Training Epoch 1653: 100%|██████████| 259/259 [00:01<00:00, 213.64it/s]\n",
      "Training Epoch 1654: 100%|██████████| 259/259 [00:01<00:00, 217.49it/s]\n",
      "Training Epoch 1655: 100%|██████████| 259/259 [00:01<00:00, 193.73it/s]\n",
      "Training Epoch 1656: 100%|██████████| 259/259 [00:01<00:00, 214.38it/s]\n",
      "Training Epoch 1657: 100%|██████████| 259/259 [00:01<00:00, 194.21it/s]\n",
      "Training Epoch 1658: 100%|██████████| 259/259 [00:01<00:00, 209.84it/s]\n",
      "Training Epoch 1659: 100%|██████████| 259/259 [00:01<00:00, 202.19it/s]\n",
      "Training Epoch 1660: 100%|██████████| 259/259 [00:01<00:00, 202.69it/s]\n",
      "Training Epoch 1661: 100%|██████████| 259/259 [00:01<00:00, 206.68it/s]\n"
     ]
    },
    {
     "name": "stdout",
     "output_type": "stream",
     "text": [
      "Epoch 1660 - Train Loss: 0.0525, Train MSE: 0.0525, Train MAE: 0.1624\n",
      "Epoch 1660 - Validation Loss: 2.0969, Validation MSE: 2.0941, Validation MAE: 1.1265\n"
     ]
    },
    {
     "name": "stderr",
     "output_type": "stream",
     "text": [
      "Training Epoch 1662: 100%|██████████| 259/259 [00:01<00:00, 216.38it/s]\n",
      "Training Epoch 1663: 100%|██████████| 259/259 [00:01<00:00, 224.33it/s]\n",
      "Training Epoch 1664: 100%|██████████| 259/259 [00:01<00:00, 235.28it/s]\n",
      "Training Epoch 1665: 100%|██████████| 259/259 [00:01<00:00, 225.84it/s]\n",
      "Training Epoch 1666: 100%|██████████| 259/259 [00:01<00:00, 210.00it/s]\n",
      "Training Epoch 1667: 100%|██████████| 259/259 [00:01<00:00, 193.85it/s]\n",
      "Training Epoch 1668: 100%|██████████| 259/259 [00:01<00:00, 185.59it/s]\n",
      "Training Epoch 1669: 100%|██████████| 259/259 [00:01<00:00, 208.78it/s]\n",
      "Training Epoch 1670: 100%|██████████| 259/259 [00:01<00:00, 194.30it/s]\n",
      "Training Epoch 1671: 100%|██████████| 259/259 [00:01<00:00, 191.92it/s]\n"
     ]
    },
    {
     "name": "stdout",
     "output_type": "stream",
     "text": [
      "Epoch 1670 - Train Loss: 0.0532, Train MSE: 0.0532, Train MAE: 0.1638\n",
      "Epoch 1670 - Validation Loss: 2.0882, Validation MSE: 2.0865, Validation MAE: 1.1218\n"
     ]
    },
    {
     "name": "stderr",
     "output_type": "stream",
     "text": [
      "Training Epoch 1672: 100%|██████████| 259/259 [00:01<00:00, 205.88it/s]\n",
      "Training Epoch 1673: 100%|██████████| 259/259 [00:01<00:00, 202.87it/s]\n",
      "Training Epoch 1674: 100%|██████████| 259/259 [00:01<00:00, 193.26it/s]\n",
      "Training Epoch 1675: 100%|██████████| 259/259 [00:01<00:00, 201.45it/s]\n",
      "Training Epoch 1676: 100%|██████████| 259/259 [00:01<00:00, 223.41it/s]\n",
      "Training Epoch 1677: 100%|██████████| 259/259 [00:01<00:00, 222.58it/s]\n",
      "Training Epoch 1678: 100%|██████████| 259/259 [00:01<00:00, 223.50it/s]\n",
      "Training Epoch 1679: 100%|██████████| 259/259 [00:01<00:00, 224.01it/s]\n",
      "Training Epoch 1680: 100%|██████████| 259/259 [00:01<00:00, 224.61it/s]\n",
      "Training Epoch 1681: 100%|██████████| 259/259 [00:01<00:00, 212.19it/s]\n"
     ]
    },
    {
     "name": "stdout",
     "output_type": "stream",
     "text": [
      "Epoch 1680 - Train Loss: 0.0518, Train MSE: 0.0518, Train MAE: 0.1618\n",
      "Epoch 1680 - Validation Loss: 2.1084, Validation MSE: 2.1064, Validation MAE: 1.1286\n"
     ]
    },
    {
     "name": "stderr",
     "output_type": "stream",
     "text": [
      "Training Epoch 1682: 100%|██████████| 259/259 [00:01<00:00, 221.54it/s]\n",
      "Training Epoch 1683: 100%|██████████| 259/259 [00:01<00:00, 221.68it/s]\n",
      "Training Epoch 1684: 100%|██████████| 259/259 [00:01<00:00, 224.95it/s]\n",
      "Training Epoch 1685: 100%|██████████| 259/259 [00:01<00:00, 223.05it/s]\n",
      "Training Epoch 1686: 100%|██████████| 259/259 [00:01<00:00, 229.24it/s]\n",
      "Training Epoch 1687: 100%|██████████| 259/259 [00:01<00:00, 226.50it/s]\n",
      "Training Epoch 1688: 100%|██████████| 259/259 [00:01<00:00, 229.31it/s]\n",
      "Training Epoch 1689: 100%|██████████| 259/259 [00:01<00:00, 219.52it/s]\n",
      "Training Epoch 1690: 100%|██████████| 259/259 [00:01<00:00, 224.64it/s]\n",
      "Training Epoch 1691: 100%|██████████| 259/259 [00:01<00:00, 229.32it/s]\n"
     ]
    },
    {
     "name": "stdout",
     "output_type": "stream",
     "text": [
      "Epoch 1690 - Train Loss: 0.0526, Train MSE: 0.0526, Train MAE: 0.1622\n",
      "Epoch 1690 - Validation Loss: 2.1197, Validation MSE: 2.1164, Validation MAE: 1.1317\n"
     ]
    },
    {
     "name": "stderr",
     "output_type": "stream",
     "text": [
      "Training Epoch 1692: 100%|██████████| 259/259 [00:01<00:00, 224.29it/s]\n",
      "Training Epoch 1693: 100%|██████████| 259/259 [00:01<00:00, 217.00it/s]\n",
      "Training Epoch 1694: 100%|██████████| 259/259 [00:01<00:00, 229.25it/s]\n",
      "Training Epoch 1695: 100%|██████████| 259/259 [00:01<00:00, 226.57it/s]\n",
      "Training Epoch 1696: 100%|██████████| 259/259 [00:01<00:00, 208.22it/s]\n",
      "Training Epoch 1697: 100%|██████████| 259/259 [00:01<00:00, 192.00it/s]\n",
      "Training Epoch 1698: 100%|██████████| 259/259 [00:01<00:00, 192.31it/s]\n",
      "Training Epoch 1699: 100%|██████████| 259/259 [00:01<00:00, 198.25it/s]\n",
      "Training Epoch 1700: 100%|██████████| 259/259 [00:01<00:00, 199.20it/s]\n",
      "Training Epoch 1701: 100%|██████████| 259/259 [00:01<00:00, 191.10it/s]\n"
     ]
    },
    {
     "name": "stdout",
     "output_type": "stream",
     "text": [
      "Epoch 1700 - Train Loss: 0.0522, Train MSE: 0.0522, Train MAE: 0.1630\n",
      "Epoch 1700 - Validation Loss: 2.0695, Validation MSE: 2.0669, Validation MAE: 1.1229\n"
     ]
    },
    {
     "name": "stderr",
     "output_type": "stream",
     "text": [
      "Training Epoch 1702: 100%|██████████| 259/259 [00:01<00:00, 197.37it/s]\n",
      "Training Epoch 1703: 100%|██████████| 259/259 [00:01<00:00, 192.23it/s]\n",
      "Training Epoch 1704: 100%|██████████| 259/259 [00:01<00:00, 209.13it/s]\n",
      "Training Epoch 1705: 100%|██████████| 259/259 [00:01<00:00, 217.37it/s]\n",
      "Training Epoch 1706: 100%|██████████| 259/259 [00:01<00:00, 218.89it/s]\n",
      "Training Epoch 1707: 100%|██████████| 259/259 [00:01<00:00, 215.45it/s]\n",
      "Training Epoch 1708: 100%|██████████| 259/259 [00:01<00:00, 216.54it/s]\n",
      "Training Epoch 1709: 100%|██████████| 259/259 [00:01<00:00, 227.56it/s]\n",
      "Training Epoch 1710: 100%|██████████| 259/259 [00:01<00:00, 220.30it/s]\n",
      "Training Epoch 1711: 100%|██████████| 259/259 [00:01<00:00, 215.01it/s]\n"
     ]
    },
    {
     "name": "stdout",
     "output_type": "stream",
     "text": [
      "Epoch 1710 - Train Loss: 0.0529, Train MSE: 0.0529, Train MAE: 0.1617\n",
      "Epoch 1710 - Validation Loss: 2.1133, Validation MSE: 2.1108, Validation MAE: 1.1314\n"
     ]
    },
    {
     "name": "stderr",
     "output_type": "stream",
     "text": [
      "Training Epoch 1712: 100%|██████████| 259/259 [00:01<00:00, 216.52it/s]\n",
      "Training Epoch 1713: 100%|██████████| 259/259 [00:01<00:00, 216.32it/s]\n",
      "Training Epoch 1714: 100%|██████████| 259/259 [00:01<00:00, 208.33it/s]\n",
      "Training Epoch 1715: 100%|██████████| 259/259 [00:01<00:00, 218.97it/s]\n",
      "Training Epoch 1716: 100%|██████████| 259/259 [00:01<00:00, 213.54it/s]\n",
      "Training Epoch 1717: 100%|██████████| 259/259 [00:01<00:00, 217.38it/s]\n",
      "Training Epoch 1718: 100%|██████████| 259/259 [00:01<00:00, 211.76it/s]\n",
      "Training Epoch 1719: 100%|██████████| 259/259 [00:01<00:00, 213.03it/s]\n",
      "Training Epoch 1720: 100%|██████████| 259/259 [00:01<00:00, 214.60it/s]\n",
      "Training Epoch 1721: 100%|██████████| 259/259 [00:01<00:00, 213.86it/s]\n"
     ]
    },
    {
     "name": "stdout",
     "output_type": "stream",
     "text": [
      "Epoch 1720 - Train Loss: 0.0507, Train MSE: 0.0508, Train MAE: 0.1604\n",
      "Epoch 1720 - Validation Loss: 2.1096, Validation MSE: 2.1069, Validation MAE: 1.1332\n"
     ]
    },
    {
     "name": "stderr",
     "output_type": "stream",
     "text": [
      "Training Epoch 1722: 100%|██████████| 259/259 [00:01<00:00, 222.03it/s]\n",
      "Training Epoch 1723: 100%|██████████| 259/259 [00:01<00:00, 219.48it/s]\n",
      "Training Epoch 1724: 100%|██████████| 259/259 [00:01<00:00, 220.19it/s]\n",
      "Training Epoch 1725: 100%|██████████| 259/259 [00:01<00:00, 213.83it/s]\n",
      "Training Epoch 1726: 100%|██████████| 259/259 [00:01<00:00, 207.73it/s]\n",
      "Training Epoch 1727: 100%|██████████| 259/259 [00:01<00:00, 216.29it/s]\n",
      "Training Epoch 1728: 100%|██████████| 259/259 [00:01<00:00, 214.61it/s]\n",
      "Training Epoch 1729: 100%|██████████| 259/259 [00:01<00:00, 216.47it/s]\n",
      "Training Epoch 1730: 100%|██████████| 259/259 [00:01<00:00, 222.87it/s]\n",
      "Training Epoch 1731: 100%|██████████| 259/259 [00:01<00:00, 217.56it/s]\n"
     ]
    },
    {
     "name": "stdout",
     "output_type": "stream",
     "text": [
      "Epoch 1730 - Train Loss: 0.0535, Train MSE: 0.0536, Train MAE: 0.1622\n",
      "Epoch 1730 - Validation Loss: 2.1031, Validation MSE: 2.1008, Validation MAE: 1.1268\n"
     ]
    },
    {
     "name": "stderr",
     "output_type": "stream",
     "text": [
      "Training Epoch 1732: 100%|██████████| 259/259 [00:01<00:00, 220.50it/s]\n",
      "Training Epoch 1733: 100%|██████████| 259/259 [00:01<00:00, 213.57it/s]\n",
      "Training Epoch 1734: 100%|██████████| 259/259 [00:01<00:00, 215.61it/s]\n",
      "Training Epoch 1735: 100%|██████████| 259/259 [00:01<00:00, 207.79it/s]\n",
      "Training Epoch 1736: 100%|██████████| 259/259 [00:01<00:00, 218.76it/s]\n",
      "Training Epoch 1737: 100%|██████████| 259/259 [00:01<00:00, 216.89it/s]\n",
      "Training Epoch 1738: 100%|██████████| 259/259 [00:01<00:00, 207.81it/s]\n",
      "Training Epoch 1739: 100%|██████████| 259/259 [00:01<00:00, 182.88it/s]\n",
      "Training Epoch 1740: 100%|██████████| 259/259 [00:01<00:00, 196.42it/s]\n",
      "Training Epoch 1741: 100%|██████████| 259/259 [00:01<00:00, 196.56it/s]\n"
     ]
    },
    {
     "name": "stdout",
     "output_type": "stream",
     "text": [
      "Epoch 1740 - Train Loss: 0.0514, Train MSE: 0.0514, Train MAE: 0.1628\n",
      "Epoch 1740 - Validation Loss: 2.0956, Validation MSE: 2.0924, Validation MAE: 1.1255\n"
     ]
    },
    {
     "name": "stderr",
     "output_type": "stream",
     "text": [
      "Training Epoch 1742: 100%|██████████| 259/259 [00:01<00:00, 212.63it/s]\n",
      "Training Epoch 1743: 100%|██████████| 259/259 [00:01<00:00, 211.54it/s]\n",
      "Training Epoch 1744: 100%|██████████| 259/259 [00:01<00:00, 205.57it/s]\n",
      "Training Epoch 1745: 100%|██████████| 259/259 [00:01<00:00, 200.51it/s]\n",
      "Training Epoch 1746: 100%|██████████| 259/259 [00:01<00:00, 226.24it/s]\n",
      "Training Epoch 1747: 100%|██████████| 259/259 [00:01<00:00, 207.20it/s]\n",
      "Training Epoch 1748: 100%|██████████| 259/259 [00:01<00:00, 218.93it/s]\n",
      "Training Epoch 1749: 100%|██████████| 259/259 [00:01<00:00, 193.48it/s]\n",
      "Training Epoch 1750: 100%|██████████| 259/259 [00:01<00:00, 215.64it/s]\n",
      "Training Epoch 1751: 100%|██████████| 259/259 [00:01<00:00, 211.33it/s]\n"
     ]
    },
    {
     "name": "stdout",
     "output_type": "stream",
     "text": [
      "Epoch 1750 - Train Loss: 0.0509, Train MSE: 0.0510, Train MAE: 0.1586\n",
      "Epoch 1750 - Validation Loss: 2.0843, Validation MSE: 2.0817, Validation MAE: 1.1233\n"
     ]
    },
    {
     "name": "stderr",
     "output_type": "stream",
     "text": [
      "Training Epoch 1752: 100%|██████████| 259/259 [00:01<00:00, 233.69it/s]\n",
      "Training Epoch 1753: 100%|██████████| 259/259 [00:01<00:00, 224.67it/s]\n",
      "Training Epoch 1754: 100%|██████████| 259/259 [00:01<00:00, 213.95it/s]\n",
      "Training Epoch 1755: 100%|██████████| 259/259 [00:01<00:00, 222.45it/s]\n",
      "Training Epoch 1756: 100%|██████████| 259/259 [00:01<00:00, 221.22it/s]\n",
      "Training Epoch 1757: 100%|██████████| 259/259 [00:01<00:00, 219.54it/s]\n",
      "Training Epoch 1758: 100%|██████████| 259/259 [00:01<00:00, 221.53it/s]\n",
      "Training Epoch 1759: 100%|██████████| 259/259 [00:01<00:00, 219.31it/s]\n",
      "Training Epoch 1760: 100%|██████████| 259/259 [00:01<00:00, 224.77it/s]\n",
      "Training Epoch 1761: 100%|██████████| 259/259 [00:01<00:00, 218.98it/s]\n"
     ]
    },
    {
     "name": "stdout",
     "output_type": "stream",
     "text": [
      "Epoch 1760 - Train Loss: 0.0508, Train MSE: 0.0509, Train MAE: 0.1586\n",
      "Epoch 1760 - Validation Loss: 2.1131, Validation MSE: 2.1108, Validation MAE: 1.1277\n"
     ]
    },
    {
     "name": "stderr",
     "output_type": "stream",
     "text": [
      "Training Epoch 1762: 100%|██████████| 259/259 [00:01<00:00, 221.66it/s]\n",
      "Training Epoch 1763: 100%|██████████| 259/259 [00:01<00:00, 216.21it/s]\n",
      "Training Epoch 1764: 100%|██████████| 259/259 [00:01<00:00, 200.37it/s]\n",
      "Training Epoch 1765: 100%|██████████| 259/259 [00:01<00:00, 199.18it/s]\n",
      "Training Epoch 1766: 100%|██████████| 259/259 [00:01<00:00, 193.38it/s]\n",
      "Training Epoch 1767: 100%|██████████| 259/259 [00:01<00:00, 206.29it/s]\n",
      "Training Epoch 1768: 100%|██████████| 259/259 [00:01<00:00, 209.60it/s]\n",
      "Training Epoch 1769: 100%|██████████| 259/259 [00:01<00:00, 204.89it/s]\n",
      "Training Epoch 1770: 100%|██████████| 259/259 [00:01<00:00, 202.30it/s]\n",
      "Training Epoch 1771: 100%|██████████| 259/259 [00:01<00:00, 218.53it/s]\n"
     ]
    },
    {
     "name": "stdout",
     "output_type": "stream",
     "text": [
      "Epoch 1770 - Train Loss: 0.0508, Train MSE: 0.0508, Train MAE: 0.1600\n",
      "Epoch 1770 - Validation Loss: 2.1177, Validation MSE: 2.1151, Validation MAE: 1.1304\n"
     ]
    },
    {
     "name": "stderr",
     "output_type": "stream",
     "text": [
      "Training Epoch 1772: 100%|██████████| 259/259 [00:01<00:00, 228.51it/s]\n",
      "Training Epoch 1773: 100%|██████████| 259/259 [00:01<00:00, 221.88it/s]\n",
      "Training Epoch 1774: 100%|██████████| 259/259 [00:01<00:00, 229.71it/s]\n",
      "Training Epoch 1775: 100%|██████████| 259/259 [00:01<00:00, 224.35it/s]\n",
      "Training Epoch 1776: 100%|██████████| 259/259 [00:01<00:00, 223.82it/s]\n",
      "Training Epoch 1777: 100%|██████████| 259/259 [00:01<00:00, 221.71it/s]\n",
      "Training Epoch 1778: 100%|██████████| 259/259 [00:01<00:00, 226.81it/s]\n",
      "Training Epoch 1779: 100%|██████████| 259/259 [00:01<00:00, 224.77it/s]\n",
      "Training Epoch 1780: 100%|██████████| 259/259 [00:01<00:00, 223.03it/s]\n",
      "Training Epoch 1781: 100%|██████████| 259/259 [00:01<00:00, 222.57it/s]\n"
     ]
    },
    {
     "name": "stdout",
     "output_type": "stream",
     "text": [
      "Epoch 1780 - Train Loss: 0.0528, Train MSE: 0.0522, Train MAE: 0.1623\n",
      "Epoch 1780 - Validation Loss: 2.0884, Validation MSE: 2.0859, Validation MAE: 1.1243\n"
     ]
    },
    {
     "name": "stderr",
     "output_type": "stream",
     "text": [
      "Training Epoch 1782: 100%|██████████| 259/259 [00:01<00:00, 222.49it/s]\n",
      "Training Epoch 1783: 100%|██████████| 259/259 [00:01<00:00, 219.66it/s]\n",
      "Training Epoch 1784: 100%|██████████| 259/259 [00:01<00:00, 210.82it/s]\n",
      "Training Epoch 1785: 100%|██████████| 259/259 [00:01<00:00, 211.07it/s]\n",
      "Training Epoch 1786: 100%|██████████| 259/259 [00:01<00:00, 220.51it/s]\n",
      "Training Epoch 1787: 100%|██████████| 259/259 [00:01<00:00, 210.88it/s]\n",
      "Training Epoch 1788: 100%|██████████| 259/259 [00:01<00:00, 205.86it/s]\n",
      "Training Epoch 1789: 100%|██████████| 259/259 [00:01<00:00, 217.64it/s]\n",
      "Training Epoch 1790: 100%|██████████| 259/259 [00:01<00:00, 209.21it/s]\n",
      "Training Epoch 1791: 100%|██████████| 259/259 [00:01<00:00, 213.40it/s]\n"
     ]
    },
    {
     "name": "stdout",
     "output_type": "stream",
     "text": [
      "Epoch 1790 - Train Loss: 0.0514, Train MSE: 0.0515, Train MAE: 0.1598\n",
      "Epoch 1790 - Validation Loss: 2.0872, Validation MSE: 2.0846, Validation MAE: 1.1226\n"
     ]
    },
    {
     "name": "stderr",
     "output_type": "stream",
     "text": [
      "Training Epoch 1792: 100%|██████████| 259/259 [00:01<00:00, 221.77it/s]\n",
      "Training Epoch 1793: 100%|██████████| 259/259 [00:01<00:00, 227.66it/s]\n",
      "Training Epoch 1794: 100%|██████████| 259/259 [00:01<00:00, 215.95it/s]\n",
      "Training Epoch 1795: 100%|██████████| 259/259 [00:01<00:00, 219.70it/s]\n",
      "Training Epoch 1796: 100%|██████████| 259/259 [00:01<00:00, 202.65it/s]\n",
      "Training Epoch 1797: 100%|██████████| 259/259 [00:01<00:00, 235.88it/s]\n",
      "Training Epoch 1798: 100%|██████████| 259/259 [00:01<00:00, 222.74it/s]\n",
      "Training Epoch 1799: 100%|██████████| 259/259 [00:01<00:00, 222.69it/s]\n",
      "Training Epoch 1800: 100%|██████████| 259/259 [00:01<00:00, 226.85it/s]\n",
      "Training Epoch 1801: 100%|██████████| 259/259 [00:01<00:00, 220.81it/s]\n"
     ]
    },
    {
     "name": "stdout",
     "output_type": "stream",
     "text": [
      "Epoch 1800 - Train Loss: 0.0493, Train MSE: 0.0494, Train MAE: 0.1588\n",
      "Epoch 1800 - Validation Loss: 2.1161, Validation MSE: 2.1134, Validation MAE: 1.1317\n"
     ]
    },
    {
     "name": "stderr",
     "output_type": "stream",
     "text": [
      "Training Epoch 1802: 100%|██████████| 259/259 [00:01<00:00, 225.02it/s]\n",
      "Training Epoch 1803: 100%|██████████| 259/259 [00:01<00:00, 228.44it/s]\n",
      "Training Epoch 1804: 100%|██████████| 259/259 [00:01<00:00, 222.31it/s]\n",
      "Training Epoch 1805: 100%|██████████| 259/259 [00:01<00:00, 218.43it/s]\n",
      "Training Epoch 1806: 100%|██████████| 259/259 [00:01<00:00, 215.93it/s]\n",
      "Training Epoch 1807: 100%|██████████| 259/259 [00:01<00:00, 222.40it/s]\n",
      "Training Epoch 1808: 100%|██████████| 259/259 [00:01<00:00, 216.47it/s]\n",
      "Training Epoch 1809: 100%|██████████| 259/259 [00:01<00:00, 223.28it/s]\n",
      "Training Epoch 1810: 100%|██████████| 259/259 [00:01<00:00, 223.73it/s]\n",
      "Training Epoch 1811: 100%|██████████| 259/259 [00:01<00:00, 218.58it/s]\n"
     ]
    },
    {
     "name": "stdout",
     "output_type": "stream",
     "text": [
      "Epoch 1810 - Train Loss: 0.0484, Train MSE: 0.0485, Train MAE: 0.1561\n",
      "Epoch 1810 - Validation Loss: 2.1005, Validation MSE: 2.0978, Validation MAE: 1.1293\n"
     ]
    },
    {
     "name": "stderr",
     "output_type": "stream",
     "text": [
      "Training Epoch 1812: 100%|██████████| 259/259 [00:01<00:00, 224.34it/s]\n",
      "Training Epoch 1813: 100%|██████████| 259/259 [00:01<00:00, 223.44it/s]\n",
      "Training Epoch 1814: 100%|██████████| 259/259 [00:01<00:00, 223.89it/s]\n",
      "Training Epoch 1815: 100%|██████████| 259/259 [00:01<00:00, 222.60it/s]\n",
      "Training Epoch 1816: 100%|██████████| 259/259 [00:01<00:00, 225.12it/s]\n",
      "Training Epoch 1817: 100%|██████████| 259/259 [00:01<00:00, 223.22it/s]\n",
      "Training Epoch 1818: 100%|██████████| 259/259 [00:01<00:00, 211.40it/s]\n",
      "Training Epoch 1819: 100%|██████████| 259/259 [00:01<00:00, 238.65it/s]\n",
      "Training Epoch 1820: 100%|██████████| 259/259 [00:01<00:00, 232.53it/s]\n",
      "Training Epoch 1821: 100%|██████████| 259/259 [00:01<00:00, 217.56it/s]\n"
     ]
    },
    {
     "name": "stdout",
     "output_type": "stream",
     "text": [
      "Epoch 1820 - Train Loss: 0.0485, Train MSE: 0.0485, Train MAE: 0.1563\n",
      "Epoch 1820 - Validation Loss: 2.0874, Validation MSE: 2.0860, Validation MAE: 1.1227\n"
     ]
    },
    {
     "name": "stderr",
     "output_type": "stream",
     "text": [
      "Training Epoch 1822: 100%|██████████| 259/259 [00:01<00:00, 215.31it/s]\n",
      "Training Epoch 1823: 100%|██████████| 259/259 [00:01<00:00, 223.99it/s]\n",
      "Training Epoch 1824: 100%|██████████| 259/259 [00:01<00:00, 223.94it/s]\n",
      "Training Epoch 1825: 100%|██████████| 259/259 [00:01<00:00, 215.65it/s]\n",
      "Training Epoch 1826: 100%|██████████| 259/259 [00:01<00:00, 221.71it/s]\n",
      "Training Epoch 1827: 100%|██████████| 259/259 [00:01<00:00, 219.99it/s]\n",
      "Training Epoch 1828: 100%|██████████| 259/259 [00:01<00:00, 222.89it/s]\n",
      "Training Epoch 1829: 100%|██████████| 259/259 [00:01<00:00, 223.17it/s]\n",
      "Training Epoch 1830: 100%|██████████| 259/259 [00:01<00:00, 217.99it/s]\n",
      "Training Epoch 1831: 100%|██████████| 259/259 [00:01<00:00, 221.60it/s]\n"
     ]
    },
    {
     "name": "stdout",
     "output_type": "stream",
     "text": [
      "Epoch 1830 - Train Loss: 0.0517, Train MSE: 0.0518, Train MAE: 0.1590\n",
      "Epoch 1830 - Validation Loss: 2.0926, Validation MSE: 2.0910, Validation MAE: 1.1271\n"
     ]
    },
    {
     "name": "stderr",
     "output_type": "stream",
     "text": [
      "Training Epoch 1832: 100%|██████████| 259/259 [00:01<00:00, 218.10it/s]\n",
      "Training Epoch 1833: 100%|██████████| 259/259 [00:01<00:00, 220.59it/s]\n",
      "Training Epoch 1834: 100%|██████████| 259/259 [00:01<00:00, 221.49it/s]\n",
      "Training Epoch 1835: 100%|██████████| 259/259 [00:01<00:00, 223.94it/s]\n",
      "Training Epoch 1836: 100%|██████████| 259/259 [00:01<00:00, 222.65it/s]\n",
      "Training Epoch 1837: 100%|██████████| 259/259 [00:01<00:00, 222.80it/s]\n",
      "Training Epoch 1838: 100%|██████████| 259/259 [00:01<00:00, 212.11it/s]\n",
      "Training Epoch 1839: 100%|██████████| 259/259 [00:01<00:00, 223.74it/s]\n",
      "Training Epoch 1840: 100%|██████████| 259/259 [00:01<00:00, 222.20it/s]\n",
      "Training Epoch 1841: 100%|██████████| 259/259 [00:01<00:00, 234.11it/s]\n"
     ]
    },
    {
     "name": "stdout",
     "output_type": "stream",
     "text": [
      "Epoch 1840 - Train Loss: 0.0486, Train MSE: 0.0487, Train MAE: 0.1552\n",
      "Epoch 1840 - Validation Loss: 2.0964, Validation MSE: 2.0948, Validation MAE: 1.1271\n"
     ]
    },
    {
     "name": "stderr",
     "output_type": "stream",
     "text": [
      "Training Epoch 1842: 100%|██████████| 259/259 [00:01<00:00, 233.78it/s]\n",
      "Training Epoch 1843: 100%|██████████| 259/259 [00:01<00:00, 217.64it/s]\n",
      "Training Epoch 1844: 100%|██████████| 259/259 [00:01<00:00, 207.63it/s]\n",
      "Training Epoch 1845: 100%|██████████| 259/259 [00:01<00:00, 214.80it/s]\n",
      "Training Epoch 1846: 100%|██████████| 259/259 [00:01<00:00, 213.93it/s]\n",
      "Training Epoch 1847: 100%|██████████| 259/259 [00:01<00:00, 222.62it/s]\n",
      "Training Epoch 1848: 100%|██████████| 259/259 [00:01<00:00, 213.64it/s]\n",
      "Training Epoch 1849: 100%|██████████| 259/259 [00:01<00:00, 220.46it/s]\n",
      "Training Epoch 1850: 100%|██████████| 259/259 [00:01<00:00, 209.77it/s]\n",
      "Training Epoch 1851: 100%|██████████| 259/259 [00:01<00:00, 221.19it/s]\n"
     ]
    },
    {
     "name": "stdout",
     "output_type": "stream",
     "text": [
      "Epoch 1850 - Train Loss: 0.0492, Train MSE: 0.0492, Train MAE: 0.1571\n",
      "Epoch 1850 - Validation Loss: 2.0860, Validation MSE: 2.0833, Validation MAE: 1.1239\n"
     ]
    },
    {
     "name": "stderr",
     "output_type": "stream",
     "text": [
      "Training Epoch 1852: 100%|██████████| 259/259 [00:01<00:00, 216.22it/s]\n",
      "Training Epoch 1853: 100%|██████████| 259/259 [00:01<00:00, 221.08it/s]\n",
      "Training Epoch 1854: 100%|██████████| 259/259 [00:01<00:00, 218.65it/s]\n",
      "Training Epoch 1855: 100%|██████████| 259/259 [00:01<00:00, 223.42it/s]\n",
      "Training Epoch 1856: 100%|██████████| 259/259 [00:01<00:00, 215.92it/s]\n",
      "Training Epoch 1857: 100%|██████████| 259/259 [00:01<00:00, 222.17it/s]\n",
      "Training Epoch 1858: 100%|██████████| 259/259 [00:01<00:00, 222.68it/s]\n",
      "Training Epoch 1859: 100%|██████████| 259/259 [00:01<00:00, 211.83it/s]\n",
      "Training Epoch 1860: 100%|██████████| 259/259 [00:01<00:00, 222.18it/s]\n",
      "Training Epoch 1861: 100%|██████████| 259/259 [00:01<00:00, 220.36it/s]\n"
     ]
    },
    {
     "name": "stdout",
     "output_type": "stream",
     "text": [
      "Epoch 1860 - Train Loss: 0.0513, Train MSE: 0.0513, Train MAE: 0.1601\n",
      "Epoch 1860 - Validation Loss: 2.0609, Validation MSE: 2.0594, Validation MAE: 1.1174\n"
     ]
    },
    {
     "name": "stderr",
     "output_type": "stream",
     "text": [
      "Training Epoch 1862: 100%|██████████| 259/259 [00:01<00:00, 219.96it/s]\n",
      "Training Epoch 1863: 100%|██████████| 259/259 [00:01<00:00, 232.18it/s]\n",
      "Training Epoch 1864: 100%|██████████| 259/259 [00:01<00:00, 230.41it/s]\n",
      "Training Epoch 1865: 100%|██████████| 259/259 [00:01<00:00, 211.73it/s]\n",
      "Training Epoch 1866: 100%|██████████| 259/259 [00:01<00:00, 220.44it/s]\n",
      "Training Epoch 1867: 100%|██████████| 259/259 [00:01<00:00, 219.32it/s]\n",
      "Training Epoch 1868: 100%|██████████| 259/259 [00:01<00:00, 218.13it/s]\n",
      "Training Epoch 1869: 100%|██████████| 259/259 [00:01<00:00, 217.69it/s]\n",
      "Training Epoch 1870: 100%|██████████| 259/259 [00:01<00:00, 219.48it/s]\n",
      "Training Epoch 1871: 100%|██████████| 259/259 [00:01<00:00, 216.56it/s]\n"
     ]
    },
    {
     "name": "stdout",
     "output_type": "stream",
     "text": [
      "Epoch 1870 - Train Loss: 0.0480, Train MSE: 0.0480, Train MAE: 0.1540\n",
      "Epoch 1870 - Validation Loss: 2.1225, Validation MSE: 2.1205, Validation MAE: 1.1323\n"
     ]
    },
    {
     "name": "stderr",
     "output_type": "stream",
     "text": [
      "Training Epoch 1872: 100%|██████████| 259/259 [00:01<00:00, 218.05it/s]\n",
      "Training Epoch 1873: 100%|██████████| 259/259 [00:01<00:00, 219.72it/s]\n",
      "Training Epoch 1874: 100%|██████████| 259/259 [00:01<00:00, 220.79it/s]\n",
      "Training Epoch 1875: 100%|██████████| 259/259 [00:01<00:00, 203.08it/s]\n",
      "Training Epoch 1876: 100%|██████████| 259/259 [00:01<00:00, 221.92it/s]\n",
      "Training Epoch 1877: 100%|██████████| 259/259 [00:01<00:00, 218.53it/s]\n",
      "Training Epoch 1878: 100%|██████████| 259/259 [00:01<00:00, 216.98it/s]\n",
      "Training Epoch 1879: 100%|██████████| 259/259 [00:01<00:00, 219.67it/s]\n",
      "Training Epoch 1880: 100%|██████████| 259/259 [00:01<00:00, 220.26it/s]\n",
      "Training Epoch 1881: 100%|██████████| 259/259 [00:01<00:00, 221.84it/s]\n"
     ]
    },
    {
     "name": "stdout",
     "output_type": "stream",
     "text": [
      "Epoch 1880 - Train Loss: 0.0484, Train MSE: 0.0484, Train MAE: 0.1546\n",
      "Epoch 1880 - Validation Loss: 2.0846, Validation MSE: 2.0819, Validation MAE: 1.1240\n"
     ]
    },
    {
     "name": "stderr",
     "output_type": "stream",
     "text": [
      "Training Epoch 1882: 100%|██████████| 259/259 [00:01<00:00, 222.12it/s]\n",
      "Training Epoch 1883: 100%|██████████| 259/259 [00:01<00:00, 217.32it/s]\n",
      "Training Epoch 1884: 100%|██████████| 259/259 [00:01<00:00, 209.27it/s]\n",
      "Training Epoch 1885: 100%|██████████| 259/259 [00:01<00:00, 226.26it/s]\n",
      "Training Epoch 1886: 100%|██████████| 259/259 [00:01<00:00, 238.66it/s]\n",
      "Training Epoch 1887: 100%|██████████| 259/259 [00:01<00:00, 216.86it/s]\n",
      "Training Epoch 1888: 100%|██████████| 259/259 [00:01<00:00, 215.57it/s]\n",
      "Training Epoch 1889: 100%|██████████| 259/259 [00:01<00:00, 222.31it/s]\n",
      "Training Epoch 1890: 100%|██████████| 259/259 [00:01<00:00, 219.78it/s]\n",
      "Training Epoch 1891: 100%|██████████| 259/259 [00:01<00:00, 216.36it/s]\n"
     ]
    },
    {
     "name": "stdout",
     "output_type": "stream",
     "text": [
      "Epoch 1890 - Train Loss: 0.0491, Train MSE: 0.0491, Train MAE: 0.1566\n",
      "Epoch 1890 - Validation Loss: 2.0849, Validation MSE: 2.0834, Validation MAE: 1.1254\n"
     ]
    },
    {
     "name": "stderr",
     "output_type": "stream",
     "text": [
      "Training Epoch 1892: 100%|██████████| 259/259 [00:01<00:00, 195.57it/s]\n",
      "Training Epoch 1893: 100%|██████████| 259/259 [00:01<00:00, 221.32it/s]\n",
      "Training Epoch 1894: 100%|██████████| 259/259 [00:01<00:00, 219.14it/s]\n",
      "Training Epoch 1895: 100%|██████████| 259/259 [00:01<00:00, 215.82it/s]\n",
      "Training Epoch 1896: 100%|██████████| 259/259 [00:01<00:00, 219.70it/s]\n",
      "Training Epoch 1897: 100%|██████████| 259/259 [00:01<00:00, 211.66it/s]\n",
      "Training Epoch 1898: 100%|██████████| 259/259 [00:01<00:00, 220.42it/s]\n",
      "Training Epoch 1899: 100%|██████████| 259/259 [00:01<00:00, 223.47it/s]\n",
      "Training Epoch 1900: 100%|██████████| 259/259 [00:01<00:00, 223.25it/s]\n",
      "Training Epoch 1901: 100%|██████████| 259/259 [00:01<00:00, 215.57it/s]\n"
     ]
    },
    {
     "name": "stdout",
     "output_type": "stream",
     "text": [
      "Epoch 1900 - Train Loss: 0.0468, Train MSE: 0.0469, Train MAE: 0.1538\n",
      "Epoch 1900 - Validation Loss: 2.0850, Validation MSE: 2.0831, Validation MAE: 1.1193\n"
     ]
    },
    {
     "name": "stderr",
     "output_type": "stream",
     "text": [
      "Training Epoch 1902: 100%|██████████| 259/259 [00:01<00:00, 219.85it/s]\n",
      "Training Epoch 1903: 100%|██████████| 259/259 [00:01<00:00, 222.03it/s]\n",
      "Training Epoch 1904: 100%|██████████| 259/259 [00:01<00:00, 220.20it/s]\n",
      "Training Epoch 1905: 100%|██████████| 259/259 [00:01<00:00, 219.64it/s]\n",
      "Training Epoch 1906: 100%|██████████| 259/259 [00:01<00:00, 222.77it/s]\n",
      "Training Epoch 1907: 100%|██████████| 259/259 [00:01<00:00, 231.33it/s]\n",
      "Training Epoch 1908: 100%|██████████| 259/259 [00:01<00:00, 232.80it/s]\n",
      "Training Epoch 1909: 100%|██████████| 259/259 [00:01<00:00, 217.19it/s]\n",
      "Training Epoch 1910: 100%|██████████| 259/259 [00:01<00:00, 207.60it/s]\n",
      "Training Epoch 1911: 100%|██████████| 259/259 [00:01<00:00, 219.71it/s]\n"
     ]
    },
    {
     "name": "stdout",
     "output_type": "stream",
     "text": [
      "Epoch 1910 - Train Loss: 0.0470, Train MSE: 0.0470, Train MAE: 0.1542\n",
      "Epoch 1910 - Validation Loss: 2.0755, Validation MSE: 2.0732, Validation MAE: 1.1237\n"
     ]
    },
    {
     "name": "stderr",
     "output_type": "stream",
     "text": [
      "Training Epoch 1912: 100%|██████████| 259/259 [00:01<00:00, 217.37it/s]\n",
      "Training Epoch 1913: 100%|██████████| 259/259 [00:01<00:00, 220.42it/s]\n",
      "Training Epoch 1914: 100%|██████████| 259/259 [00:01<00:00, 222.59it/s]\n",
      "Training Epoch 1915: 100%|██████████| 259/259 [00:01<00:00, 218.12it/s]\n",
      "Training Epoch 1916: 100%|██████████| 259/259 [00:01<00:00, 221.14it/s]\n",
      "Training Epoch 1917: 100%|██████████| 259/259 [00:01<00:00, 214.69it/s]\n",
      "Training Epoch 1918: 100%|██████████| 259/259 [00:01<00:00, 215.02it/s]\n",
      "Training Epoch 1919: 100%|██████████| 259/259 [00:01<00:00, 218.67it/s]\n",
      "Training Epoch 1920: 100%|██████████| 259/259 [00:01<00:00, 221.89it/s]\n",
      "Training Epoch 1921: 100%|██████████| 259/259 [00:01<00:00, 218.39it/s]\n"
     ]
    },
    {
     "name": "stdout",
     "output_type": "stream",
     "text": [
      "Epoch 1920 - Train Loss: 0.0492, Train MSE: 0.0492, Train MAE: 0.1563\n",
      "Epoch 1920 - Validation Loss: 2.0719, Validation MSE: 2.0696, Validation MAE: 1.1190\n"
     ]
    },
    {
     "name": "stderr",
     "output_type": "stream",
     "text": [
      "Training Epoch 1922: 100%|██████████| 259/259 [00:01<00:00, 211.60it/s]\n",
      "Training Epoch 1923: 100%|██████████| 259/259 [00:01<00:00, 218.86it/s]\n",
      "Training Epoch 1924: 100%|██████████| 259/259 [00:01<00:00, 217.41it/s]\n",
      "Training Epoch 1925: 100%|██████████| 259/259 [00:01<00:00, 217.61it/s]\n",
      "Training Epoch 1926: 100%|██████████| 259/259 [00:01<00:00, 218.83it/s]\n",
      "Training Epoch 1927: 100%|██████████| 259/259 [00:01<00:00, 219.91it/s]\n",
      "Training Epoch 1928: 100%|██████████| 259/259 [00:01<00:00, 222.20it/s]\n",
      "Training Epoch 1929: 100%|██████████| 259/259 [00:01<00:00, 224.46it/s]\n",
      "Training Epoch 1930: 100%|██████████| 259/259 [00:01<00:00, 233.97it/s]\n",
      "Training Epoch 1931: 100%|██████████| 259/259 [00:01<00:00, 214.66it/s]\n"
     ]
    },
    {
     "name": "stdout",
     "output_type": "stream",
     "text": [
      "Epoch 1930 - Train Loss: 0.0470, Train MSE: 0.0470, Train MAE: 0.1531\n",
      "Epoch 1930 - Validation Loss: 2.0939, Validation MSE: 2.0910, Validation MAE: 1.1284\n"
     ]
    },
    {
     "name": "stderr",
     "output_type": "stream",
     "text": [
      "Training Epoch 1932: 100%|██████████| 259/259 [00:01<00:00, 221.89it/s]\n",
      "Training Epoch 1933: 100%|██████████| 259/259 [00:01<00:00, 217.08it/s]\n",
      "Training Epoch 1934: 100%|██████████| 259/259 [00:01<00:00, 219.48it/s]\n",
      "Training Epoch 1935: 100%|██████████| 259/259 [00:01<00:00, 214.77it/s]\n",
      "Training Epoch 1936: 100%|██████████| 259/259 [00:01<00:00, 222.24it/s]\n",
      "Training Epoch 1937: 100%|██████████| 259/259 [00:01<00:00, 216.23it/s]\n",
      "Training Epoch 1938: 100%|██████████| 259/259 [00:01<00:00, 220.30it/s]\n",
      "Training Epoch 1939: 100%|██████████| 259/259 [00:01<00:00, 216.23it/s]\n",
      "Training Epoch 1940: 100%|██████████| 259/259 [00:01<00:00, 214.55it/s]\n",
      "Training Epoch 1941: 100%|██████████| 259/259 [00:01<00:00, 222.16it/s]\n"
     ]
    },
    {
     "name": "stdout",
     "output_type": "stream",
     "text": [
      "Epoch 1940 - Train Loss: 0.0484, Train MSE: 0.0484, Train MAE: 0.1547\n",
      "Epoch 1940 - Validation Loss: 2.1173, Validation MSE: 2.1152, Validation MAE: 1.1347\n"
     ]
    },
    {
     "name": "stderr",
     "output_type": "stream",
     "text": [
      "Training Epoch 1942: 100%|██████████| 259/259 [00:01<00:00, 224.47it/s]\n",
      "Training Epoch 1943: 100%|██████████| 259/259 [00:01<00:00, 220.20it/s]\n",
      "Training Epoch 1944: 100%|██████████| 259/259 [00:01<00:00, 219.68it/s]\n",
      "Training Epoch 1945: 100%|██████████| 259/259 [00:01<00:00, 221.11it/s]\n",
      "Training Epoch 1946: 100%|██████████| 259/259 [00:01<00:00, 218.39it/s]\n",
      "Training Epoch 1947: 100%|██████████| 259/259 [00:01<00:00, 221.79it/s]\n",
      "Training Epoch 1948: 100%|██████████| 259/259 [00:01<00:00, 212.46it/s]\n",
      "Training Epoch 1949: 100%|██████████| 259/259 [00:01<00:00, 223.32it/s]\n",
      "Training Epoch 1950: 100%|██████████| 259/259 [00:01<00:00, 223.22it/s]\n",
      "Training Epoch 1951: 100%|██████████| 259/259 [00:01<00:00, 228.64it/s]\n"
     ]
    },
    {
     "name": "stdout",
     "output_type": "stream",
     "text": [
      "Epoch 1950 - Train Loss: 0.0486, Train MSE: 0.0486, Train MAE: 0.1548\n",
      "Epoch 1950 - Validation Loss: 2.0899, Validation MSE: 2.0876, Validation MAE: 1.1285\n"
     ]
    },
    {
     "name": "stderr",
     "output_type": "stream",
     "text": [
      "Training Epoch 1952: 100%|██████████| 259/259 [00:01<00:00, 235.47it/s]\n",
      "Training Epoch 1953: 100%|██████████| 259/259 [00:01<00:00, 218.66it/s]\n",
      "Training Epoch 1954: 100%|██████████| 259/259 [00:01<00:00, 217.44it/s]\n",
      "Training Epoch 1955: 100%|██████████| 259/259 [00:01<00:00, 219.80it/s]\n",
      "Training Epoch 1956: 100%|██████████| 259/259 [00:01<00:00, 222.91it/s]\n",
      "Training Epoch 1957: 100%|██████████| 259/259 [00:01<00:00, 221.78it/s]\n",
      "Training Epoch 1958: 100%|██████████| 259/259 [00:01<00:00, 221.69it/s]\n",
      "Training Epoch 1959: 100%|██████████| 259/259 [00:01<00:00, 222.52it/s]\n",
      "Training Epoch 1960: 100%|██████████| 259/259 [00:01<00:00, 221.98it/s]\n",
      "Training Epoch 1961: 100%|██████████| 259/259 [00:01<00:00, 209.09it/s]\n"
     ]
    },
    {
     "name": "stdout",
     "output_type": "stream",
     "text": [
      "Epoch 1960 - Train Loss: 0.0485, Train MSE: 0.0485, Train MAE: 0.1558\n",
      "Epoch 1960 - Validation Loss: 2.1049, Validation MSE: 2.1028, Validation MAE: 1.1309\n"
     ]
    },
    {
     "name": "stderr",
     "output_type": "stream",
     "text": [
      "Training Epoch 1962: 100%|██████████| 259/259 [00:01<00:00, 222.13it/s]\n",
      "Training Epoch 1963: 100%|██████████| 259/259 [00:01<00:00, 222.38it/s]\n",
      "Training Epoch 1964: 100%|██████████| 259/259 [00:01<00:00, 219.13it/s]\n",
      "Training Epoch 1965: 100%|██████████| 259/259 [00:01<00:00, 220.95it/s]\n",
      "Training Epoch 1966: 100%|██████████| 259/259 [00:01<00:00, 221.12it/s]\n",
      "Training Epoch 1967: 100%|██████████| 259/259 [00:01<00:00, 221.03it/s]\n",
      "Training Epoch 1968: 100%|██████████| 259/259 [00:01<00:00, 218.43it/s]\n",
      "Training Epoch 1969: 100%|██████████| 259/259 [00:01<00:00, 212.14it/s]\n",
      "Training Epoch 1970: 100%|██████████| 259/259 [00:01<00:00, 220.89it/s]\n",
      "Training Epoch 1971: 100%|██████████| 259/259 [00:01<00:00, 221.55it/s]\n"
     ]
    },
    {
     "name": "stdout",
     "output_type": "stream",
     "text": [
      "Epoch 1970 - Train Loss: 0.0485, Train MSE: 0.0486, Train MAE: 0.1555\n",
      "Epoch 1970 - Validation Loss: 2.1162, Validation MSE: 2.1137, Validation MAE: 1.1334\n"
     ]
    },
    {
     "name": "stderr",
     "output_type": "stream",
     "text": [
      "Training Epoch 1972: 100%|██████████| 259/259 [00:01<00:00, 216.29it/s]\n",
      "Training Epoch 1973: 100%|██████████| 259/259 [00:01<00:00, 220.95it/s]\n",
      "Training Epoch 1974: 100%|██████████| 259/259 [00:01<00:00, 236.16it/s]\n",
      "Training Epoch 1975: 100%|██████████| 259/259 [00:01<00:00, 218.97it/s]\n",
      "Training Epoch 1976: 100%|██████████| 259/259 [00:01<00:00, 221.76it/s]\n",
      "Training Epoch 1977: 100%|██████████| 259/259 [00:01<00:00, 219.89it/s]\n",
      "Training Epoch 1978: 100%|██████████| 259/259 [00:01<00:00, 216.66it/s]\n",
      "Training Epoch 1979: 100%|██████████| 259/259 [00:01<00:00, 220.97it/s]\n",
      "Training Epoch 1980: 100%|██████████| 259/259 [00:01<00:00, 215.11it/s]\n",
      "Training Epoch 1981: 100%|██████████| 259/259 [00:01<00:00, 222.19it/s]\n"
     ]
    },
    {
     "name": "stdout",
     "output_type": "stream",
     "text": [
      "Epoch 1980 - Train Loss: 0.0477, Train MSE: 0.0477, Train MAE: 0.1541\n",
      "Epoch 1980 - Validation Loss: 2.0968, Validation MSE: 2.0946, Validation MAE: 1.1282\n"
     ]
    },
    {
     "name": "stderr",
     "output_type": "stream",
     "text": [
      "Training Epoch 1982: 100%|██████████| 259/259 [00:01<00:00, 224.21it/s]\n",
      "Training Epoch 1983: 100%|██████████| 259/259 [00:01<00:00, 216.34it/s]\n",
      "Training Epoch 1984: 100%|██████████| 259/259 [00:01<00:00, 220.80it/s]\n",
      "Training Epoch 1985: 100%|██████████| 259/259 [00:01<00:00, 225.06it/s]\n",
      "Training Epoch 1986: 100%|██████████| 259/259 [00:01<00:00, 215.30it/s]\n",
      "Training Epoch 1987: 100%|██████████| 259/259 [00:01<00:00, 208.91it/s]\n",
      "Training Epoch 1988: 100%|██████████| 259/259 [00:01<00:00, 218.82it/s]\n",
      "Training Epoch 1989: 100%|██████████| 259/259 [00:01<00:00, 223.59it/s]\n",
      "Training Epoch 1990: 100%|██████████| 259/259 [00:01<00:00, 225.11it/s]\n",
      "Training Epoch 1991: 100%|██████████| 259/259 [00:01<00:00, 217.23it/s]\n"
     ]
    },
    {
     "name": "stdout",
     "output_type": "stream",
     "text": [
      "Epoch 1990 - Train Loss: 0.0468, Train MSE: 0.0469, Train MAE: 0.1525\n",
      "Epoch 1990 - Validation Loss: 2.0826, Validation MSE: 2.0808, Validation MAE: 1.1255\n"
     ]
    },
    {
     "name": "stderr",
     "output_type": "stream",
     "text": [
      "Training Epoch 1992: 100%|██████████| 259/259 [00:01<00:00, 222.90it/s]\n",
      "Training Epoch 1993: 100%|██████████| 259/259 [00:01<00:00, 220.52it/s]\n",
      "Training Epoch 1994: 100%|██████████| 259/259 [00:01<00:00, 219.53it/s]\n",
      "Training Epoch 1995: 100%|██████████| 259/259 [00:01<00:00, 222.77it/s]\n",
      "Training Epoch 1996: 100%|██████████| 259/259 [00:01<00:00, 232.07it/s]\n",
      "Training Epoch 1997: 100%|██████████| 259/259 [00:01<00:00, 207.24it/s]\n",
      "Training Epoch 1998: 100%|██████████| 259/259 [00:01<00:00, 214.17it/s]\n",
      "Training Epoch 1999: 100%|██████████| 259/259 [00:01<00:00, 211.37it/s]\n",
      "Training Epoch 2000: 100%|██████████| 259/259 [00:01<00:00, 221.79it/s]\n"
     ]
    },
    {
     "name": "stdout",
     "output_type": "stream",
     "text": [
      "Test MSE: 2.4273, Test MAE: 1.2015\n"
     ]
    }
   ],
   "source": [
    "import torch\n",
    "import torch.nn as nn\n",
    "import torch.optim as optim\n",
    "from tqdm import tqdm\n",
    "import pandas as pd\n",
    "from sklearn.metrics import r2_score, median_absolute_error, explained_variance_score\n",
    "from scipy.stats import pearsonr\n",
    "\n",
    "\n",
    "train_history = pd.DataFrame(columns=[  'epoch',\n",
    "    'Train Loss', 'Train MSE', 'Train MAE', 'Train RMSE', 'Train R2', 'Train Pearson', 'Train Median_AE', 'Train Explained_VAR'\n",
    "    'Val Loss', 'Val MSE', 'Val MAE', 'Val RMSE', 'Val R2', 'Val Pearson', 'Val Median_AE', 'Val Explained_VAR'])\n",
    "# Verify feature dimensions\n",
    "for batch in train_loader:\n",
    "    mol_input_dim = batch['metabolite_features'].shape[1]  # Dynamically determine mol input dimension\n",
    "    protein_input_dim = batch['protein_features'].shape[1]  # Dynamically determine protein input dimension\n",
    "    break\n",
    "\n",
    "# Initialize model, optimizer, and loss function\n",
    "num_timesteps = 10\n",
    "model = MLPRegressor(mol_input_dim=mol_input_dim, protein_input_dim=protein_input_dim,hidden_dim=512)\n",
    "model = model.to(device)\n",
    "optimizer = optim.Adam(model.parameters(), lr=0.0001)\n",
    "criterion = nn.MSELoss()\n",
    "\n",
    "# Training and Validation Loop\n",
    "for epoch in range(2000):\n",
    "    model.train()\n",
    "    total_loss = 0.0\n",
    "    val_total_loss = 0.0\n",
    "    train_predictions, train_labels = [], []\n",
    "\n",
    "    for batch in tqdm(train_loader, desc=f\"Training Epoch {epoch + 1}\"):\n",
    "        mol_features = batch['metabolite_features'].to(device)\n",
    "        protein_features = batch['protein_features'].to(device)\n",
    "        labels = batch['label'].to(device)\n",
    "\n",
    "        optimizer.zero_grad()\n",
    "        outputs = model(mol_features, protein_features)\n",
    "        loss = criterion(outputs, labels)\n",
    "        loss.backward()\n",
    "        optimizer.step()\n",
    "        total_loss += loss.item()\n",
    "\n",
    "        # Store predictions and labels for metrics\n",
    "        train_predictions.extend(outputs.detach().cpu().numpy())\n",
    "        train_labels.extend(labels.cpu().numpy())\n",
    "\n",
    "    # Calculate training metrics\n",
    "    train_mse = ((torch.tensor(train_predictions) - torch.tensor(train_labels))**2).mean().item()\n",
    "    train_mae = torch.abs(torch.tensor(train_predictions) - torch.tensor(train_labels)).mean().item()\n",
    "    train_rmse = torch.sqrt((torch.tensor(train_predictions) - torch.tensor(train_labels)) ** 2).mean().item()\n",
    "    train_r2 = r2_score(np.array(train_labels), np.array(train_predictions))\n",
    "    train_pearson_corr, _ = pearsonr(np.array(train_labels), np.array(train_predictions))\n",
    "    train_median_ae = median_absolute_error(np.array(train_labels), np.array(train_predictions))\n",
    "    train_explained_var = explained_variance_score(np.array(train_labels), np.array(train_predictions))\n",
    "\n",
    "\n",
    "\n",
    "    if epoch % 10 == 0:\n",
    "        print(f\"Epoch {epoch} - Train Loss: {total_loss / len(train_loader):.4f}, Train MSE: {train_mse:.4f}, Train MAE: {train_mae:.4f}\")\n",
    "\n",
    "    # Validation\n",
    "    model.eval()\n",
    "    val_predictions, val_labels = [], []\n",
    "    with torch.no_grad():\n",
    "        for batch in val_loader:\n",
    "            mol_features = batch['metabolite_features'].to(device)\n",
    "            protein_features = batch['protein_features'].to(device)\n",
    "            labels = batch['label'].to(device)\n",
    "\n",
    "            outputs = model(mol_features, protein_features)\n",
    "            val_predictions.extend(outputs.cpu().numpy())\n",
    "            val_labels.extend(labels.cpu().numpy())\n",
    "            val_loss = criterion(outputs, labels)\n",
    "            val_total_loss += val_loss.item()\n",
    "\n",
    "    val_mse = ((torch.tensor(val_predictions) - torch.tensor(val_labels))**2).mean().item()\n",
    "    val_mae = torch.abs(torch.tensor(val_predictions) - torch.tensor(val_labels)).mean().item()\n",
    "    val_rmse = torch.sqrt((torch.tensor(val_predictions) - torch.tensor(val_labels)) ** 2).mean().item()\n",
    "    val_r2 = r2_score(np.array(val_labels), np.array(val_predictions))\n",
    "    val_pearson_corr, _ = pearsonr(np.array(val_labels), np.array(val_predictions))\n",
    "    val_median_ae = median_absolute_error(np.array(val_labels), np.array(val_predictions))\n",
    "    val_explained_var = explained_variance_score(np.array(val_labels), np.array(val_predictions))\n",
    "\n",
    "    if epoch % 10 == 0:\n",
    "        print(f\"Epoch {epoch} - Validation Loss: {val_total_loss / len(val_loader):.4f}, Validation MSE: {val_mse:.4f}, Validation MAE: {val_mae:.4f}\")\n",
    "\n",
    "    # Save metrics to DataFrame\n",
    "    new_row = {'epoch': epoch + 1, 'Train Loss': total_loss / len(train_loader), 'Train MSE': train_mse, 'Train MAE': train_mae, 'Train RMSE': train_rmse, 'Train R2': train_r2, 'Train Pearson': train_pearson_corr, 'Train Median_AE': train_median_ae, 'Train Explained_VAR': train_explained_var, \n",
    "               'Val Loss': val_total_loss / len(val_loader), 'Val MSE': val_mse, 'Val MAE': val_mae, 'Val RMSE': val_rmse, 'Val R2': val_r2, 'Val Pearson': val_pearson_corr, 'Val Median_AE': val_median_ae, 'Val Explained_VAR': val_explained_var}\n",
    "    train_history = pd.concat([train_history, pd.DataFrame([new_row])], ignore_index=True)\n",
    "\n",
    "\n"
   ]
  },
  {
   "cell_type": "code",
   "execution_count": 9,
   "metadata": {},
   "outputs": [],
   "source": [
    "for batch in train_loader:\n",
    "    mol_input_dim = batch['metabolite_features'].shape[1]  # Dynamically determine mol input dimension\n",
    "    protein_input_dim = batch['protein_features'].shape[1]  # Dynamically determine protein input dimension\n",
    "    break\n",
    "\n",
    "model = MLPRegressor(mol_input_dim=mol_input_dim, protein_input_dim=protein_input_dim, hidden_dim=512)\n",
    "model.load_state_dict(torch.load('/Users/pinchichen/2025S lab/AI drug project/Catpred/Ki/trained_model/cold_protein/MLP model_Catpred_Ki_cold_protein.pt'))\n",
    "model = model.to(device)"
   ]
  },
  {
   "cell_type": "code",
   "execution_count": 10,
   "metadata": {},
   "outputs": [
    {
     "name": "stdout",
     "output_type": "stream",
     "text": [
      "Test MSE: 2.4273, Test RMSE: 1.557969583, Test MAE: 1.2015, Test R2: 0.3022, Test Pearson Correlation: 0.5769, Test Median AE: 0.9623, Test Explained Variance: 0.3046\n"
     ]
    }
   ],
   "source": [
    "from sklearn.metrics import mean_squared_error,mean_absolute_error,r2_score, median_absolute_error, explained_variance_score\n",
    "from scipy.stats import pearsonr\n",
    "# Test Metrics\n",
    "model.eval()\n",
    "test_predictions, test_labels = [], []\n",
    "with torch.no_grad():\n",
    "    for batch in test_loader:\n",
    "        mol_features = batch['metabolite_features'].to(device)\n",
    "        protein_features = batch['protein_features'].to(device)\n",
    "        labels = batch['label'].to(device)\n",
    "\n",
    "        outputs = model(mol_features, protein_features)\n",
    "        test_predictions.extend(outputs.cpu().numpy())\n",
    "        test_labels.extend(labels.cpu().numpy())\n",
    "\n",
    "test_mse = ((torch.tensor(test_predictions) - torch.tensor(test_labels))**2).mean().item()\n",
    "test_mae = torch.abs(torch.tensor(test_predictions) - torch.tensor(test_labels)).mean().item()\n",
    "test_rmse = np.sqrt(test_mse)\n",
    "test_r2 = r2_score(np.array(test_labels), np.array(test_predictions))\n",
    "test_pearson_corr, _ = pearsonr(np.array(test_labels), np.array(test_predictions))\n",
    "test_median_ae = median_absolute_error(np.array(test_labels), np.array(test_predictions))\n",
    "test_explained_var = explained_variance_score(np.array(test_labels), np.array(test_predictions))\n",
    "\n",
    "print(f\"Test MSE: {test_mse:.4f}, Test RMSE: {test_rmse:.9f}, Test MAE: {test_mae:.4f}, Test R2: {test_r2:.4f}, Test Pearson Correlation: {test_pearson_corr:.4f}, Test Median AE: {test_median_ae:.4f}, Test Explained Variance: {test_explained_var:.4f}\")"
   ]
  },
  {
   "cell_type": "code",
   "execution_count": 11,
   "metadata": {},
   "outputs": [],
   "source": [
    "\n",
    "def evaluate_model(predictions, labels):\n",
    "    mse = mean_squared_error(labels, predictions)\n",
    "    rmse = np.sqrt(mse)\n",
    "    mae = mean_absolute_error(labels, predictions)\n",
    "    r2 = r2_score(labels, predictions)\n",
    "    pearson_corr, _ = pearsonr(labels, predictions)\n",
    "    medae = median_absolute_error(labels, predictions)\n",
    "    evs = explained_variance_score(labels, predictions)\n",
    "\n",
    "    return mse, rmse, mae, r2, pearson_corr, medae, evs"
   ]
  },
  {
   "cell_type": "code",
   "execution_count": 12,
   "metadata": {},
   "outputs": [],
   "source": [
    "model.eval()\n",
    "train_pred, train_labels = [], []\n",
    "with torch.no_grad():\n",
    "    for batch in train_loader:\n",
    "        mol_features = batch['metabolite_features'].to(device)\n",
    "        protein_features = batch['protein_features'].to(device)\n",
    "        labels = batch['label'].to(device)\n",
    "\n",
    "        outputs = model(mol_features, protein_features)\n",
    "        train_pred.extend(outputs.cpu().numpy())\n",
    "        train_labels.extend(labels.cpu().numpy())\n",
    "\n",
    "train_mse, train_rmse, train_mae, train_r2, train_pearson_corr, train_median_ae, train_explained_var = evaluate_model(train_pred, train_labels)"
   ]
  },
  {
   "cell_type": "code",
   "execution_count": 13,
   "metadata": {},
   "outputs": [],
   "source": [
    "model.eval()\n",
    "val_pred, val_labels = [], []\n",
    "with torch.no_grad():\n",
    "    for batch in val_loader:\n",
    "        mol_features = batch['metabolite_features'].to(device)\n",
    "        protein_features = batch['protein_features'].to(device)\n",
    "        labels = batch['label'].to(device)\n",
    "\n",
    "        outputs = model(mol_features, protein_features)\n",
    "        val_pred.extend(outputs.cpu().numpy())\n",
    "        val_labels.extend(labels.cpu().numpy())\n",
    "\n",
    "val_mse, val_rmse, val_mae, val_r2, val_pearson_corr, val_median_ae, val_explained_var = evaluate_model(val_pred, val_labels)\n"
   ]
  },
  {
   "cell_type": "code",
   "execution_count": 14,
   "metadata": {},
   "outputs": [],
   "source": [
    "# append the performance to the csv file\n",
    "df = {\n",
    "    'Model':['MLP','MLP','MLP'],\n",
    "    'Dataset':['Train','Validation','Test'],\n",
    "    'MSE':[train_mse,val_mse,test_mse],\n",
    "    'RMSE':[train_rmse,val_rmse,test_rmse],\n",
    "    'MAE':[train_mae,val_mae,test_mae],\n",
    "    'R2':[train_r2,val_r2,test_r2],\n",
    "    'Pearson':[train_pearson_corr,val_pearson_corr,test_pearson_corr],\n",
    "    'Median_AE':[train_median_ae,val_median_ae,test_median_ae],\n",
    "    'Explained_VAR':[train_explained_var,val_explained_var,test_explained_var],\n",
    "    'Dataspliting Mode':['cold protein','cold protein','cold protein']\n",
    "}\n",
    "df = pd.DataFrame(df)\n",
    "\n",
    "df.to_csv('/Users/pinchichen/2025S lab/AI drug project/Catpred/Ki/model performance metrics_Catpred_Ki.csv', mode='a', header=False)"
   ]
  },
  {
   "cell_type": "code",
   "execution_count": 11,
   "metadata": {},
   "outputs": [],
   "source": [
    "# Save the model and training history\n",
    "save_dir = '/Users/pinchichen/2025S lab/AI drug project/Catpred/Ki/trained_model/cold_protein'\n",
    "# save model weights and optimizer state\n",
    "torch.save(model.state_dict(), os.path.join(save_dir, 'MLP model_Catpred_Ki_cold_protein.pt'))\n",
    "torch.save(optimizer.state_dict(), os.path.join(save_dir, 'MLP optimizer_Catpred_Ki_cold_protein.pt'))"
   ]
  },
  {
   "cell_type": "code",
   "execution_count": 9,
   "metadata": {},
   "outputs": [],
   "source": [
    "import torch\n",
    "import torch.nn as nn\n",
    "import torch.optim as optim\n",
    "from tqdm import tqdm\n",
    "import pandas as pd\n",
    "from sklearn.metrics import r2_score, median_absolute_error, explained_variance_score\n",
    "from scipy.stats import pearsonr"
   ]
  },
  {
   "cell_type": "code",
   "execution_count": null,
   "metadata": {},
   "outputs": [
    {
     "name": "stderr",
     "output_type": "stream",
     "text": [
      "Training Epoch 1: 100%|██████████| 258/258 [00:01<00:00, 232.35it/s]\n",
      "/var/folders/yz/c1z6m9_d5d3f80sywjc3rqsc0000gn/T/ipykernel_16421/650137755.py:82: FutureWarning: The behavior of DataFrame concatenation with empty or all-NA entries is deprecated. In a future version, this will no longer exclude empty or all-NA columns when determining the result dtypes. To retain the old behavior, exclude the relevant entries before the concat operation.\n",
      "  train_history_2 = pd.concat([train_history_2, pd.DataFrame([new_row])], ignore_index=True)\n"
     ]
    },
    {
     "name": "stdout",
     "output_type": "stream",
     "text": [
      "Epoch 0 - Train Loss: 2.7400, Train MSE: 2.7392, Train MAE: 1.2972\n",
      "Epoch 0 - Validation Loss: 2.5265, Validation MSE: 2.5124, Validation MAE: 1.2796\n"
     ]
    },
    {
     "name": "stderr",
     "output_type": "stream",
     "text": [
      "Training Epoch 2: 100%|██████████| 258/258 [00:01<00:00, 241.15it/s]\n",
      "Training Epoch 3: 100%|██████████| 258/258 [00:01<00:00, 242.88it/s]\n",
      "Training Epoch 4: 100%|██████████| 258/258 [00:01<00:00, 247.53it/s]\n",
      "Training Epoch 5: 100%|██████████| 258/258 [00:01<00:00, 248.73it/s]\n",
      "Training Epoch 6: 100%|██████████| 258/258 [00:01<00:00, 241.60it/s]\n",
      "Training Epoch 7: 100%|██████████| 258/258 [00:01<00:00, 247.26it/s]\n",
      "Training Epoch 8: 100%|██████████| 258/258 [00:01<00:00, 243.48it/s]\n",
      "Training Epoch 9: 100%|██████████| 258/258 [00:01<00:00, 243.65it/s]\n",
      "Training Epoch 10: 100%|██████████| 258/258 [00:01<00:00, 240.74it/s]\n",
      "Training Epoch 11: 100%|██████████| 258/258 [00:01<00:00, 246.30it/s]\n"
     ]
    },
    {
     "name": "stdout",
     "output_type": "stream",
     "text": [
      "Epoch 10 - Train Loss: 1.5405, Train MSE: 1.5413, Train MAE: 0.9603\n",
      "Epoch 10 - Validation Loss: 2.1244, Validation MSE: 2.1131, Validation MAE: 1.1295\n"
     ]
    },
    {
     "name": "stderr",
     "output_type": "stream",
     "text": [
      "Training Epoch 12: 100%|██████████| 258/258 [00:01<00:00, 238.68it/s]\n",
      "Training Epoch 13: 100%|██████████| 258/258 [00:01<00:00, 242.49it/s]\n",
      "Training Epoch 14: 100%|██████████| 258/258 [00:01<00:00, 236.02it/s]\n",
      "Training Epoch 15: 100%|██████████| 258/258 [00:01<00:00, 204.19it/s]\n",
      "Training Epoch 16: 100%|██████████| 258/258 [00:01<00:00, 239.51it/s]\n",
      "Training Epoch 17: 100%|██████████| 258/258 [00:01<00:00, 225.83it/s]\n",
      "Training Epoch 18: 100%|██████████| 258/258 [00:01<00:00, 217.93it/s]\n",
      "Training Epoch 19: 100%|██████████| 258/258 [00:01<00:00, 247.97it/s]\n",
      "Training Epoch 20: 100%|██████████| 258/258 [00:01<00:00, 243.72it/s]\n",
      "Training Epoch 21: 100%|██████████| 258/258 [00:01<00:00, 245.61it/s]\n"
     ]
    },
    {
     "name": "stdout",
     "output_type": "stream",
     "text": [
      "Epoch 20 - Train Loss: 1.0945, Train MSE: 1.0947, Train MAE: 0.8028\n",
      "Epoch 20 - Validation Loss: 1.9560, Validation MSE: 1.9603, Validation MAE: 1.0786\n"
     ]
    },
    {
     "name": "stderr",
     "output_type": "stream",
     "text": [
      "Training Epoch 22: 100%|██████████| 258/258 [00:01<00:00, 191.99it/s]\n",
      "Training Epoch 23: 100%|██████████| 258/258 [00:01<00:00, 242.61it/s]\n",
      "Training Epoch 24: 100%|██████████| 258/258 [00:01<00:00, 217.93it/s]\n",
      "Training Epoch 25: 100%|██████████| 258/258 [00:01<00:00, 225.23it/s]\n",
      "Training Epoch 26: 100%|██████████| 258/258 [00:01<00:00, 242.16it/s]\n",
      "Training Epoch 27: 100%|██████████| 258/258 [00:01<00:00, 236.86it/s]\n",
      "Training Epoch 28: 100%|██████████| 258/258 [00:01<00:00, 229.08it/s]\n",
      "Training Epoch 29: 100%|██████████| 258/258 [00:01<00:00, 229.65it/s]\n",
      "Training Epoch 30: 100%|██████████| 258/258 [00:01<00:00, 213.04it/s]\n",
      "Training Epoch 31: 100%|██████████| 258/258 [00:01<00:00, 235.20it/s]\n"
     ]
    },
    {
     "name": "stdout",
     "output_type": "stream",
     "text": [
      "Epoch 30 - Train Loss: 0.8277, Train MSE: 0.8294, Train MAE: 0.7030\n",
      "Epoch 30 - Validation Loss: 1.9858, Validation MSE: 1.9921, Validation MAE: 1.0754\n"
     ]
    },
    {
     "name": "stderr",
     "output_type": "stream",
     "text": [
      "Training Epoch 32: 100%|██████████| 258/258 [00:01<00:00, 235.65it/s]\n",
      "Training Epoch 33: 100%|██████████| 258/258 [00:01<00:00, 231.74it/s]\n",
      "Training Epoch 34: 100%|██████████| 258/258 [00:01<00:00, 229.64it/s]\n",
      "Training Epoch 35: 100%|██████████| 258/258 [00:01<00:00, 238.10it/s]\n",
      "Training Epoch 36: 100%|██████████| 258/258 [00:01<00:00, 235.98it/s]\n",
      "Training Epoch 37: 100%|██████████| 258/258 [00:01<00:00, 244.32it/s]\n",
      "Training Epoch 38: 100%|██████████| 258/258 [00:01<00:00, 233.39it/s]\n",
      "Training Epoch 39: 100%|██████████| 258/258 [00:01<00:00, 236.95it/s]\n",
      "Training Epoch 40: 100%|██████████| 258/258 [00:01<00:00, 244.92it/s]\n",
      "Training Epoch 41: 100%|██████████| 258/258 [00:01<00:00, 216.74it/s]\n"
     ]
    },
    {
     "name": "stdout",
     "output_type": "stream",
     "text": [
      "Epoch 40 - Train Loss: 0.6629, Train MSE: 0.6623, Train MAE: 0.6243\n",
      "Epoch 40 - Validation Loss: 1.9284, Validation MSE: 1.9378, Validation MAE: 1.0615\n"
     ]
    },
    {
     "name": "stderr",
     "output_type": "stream",
     "text": [
      "Training Epoch 42: 100%|██████████| 258/258 [00:01<00:00, 237.17it/s]\n",
      "Training Epoch 43: 100%|██████████| 258/258 [00:01<00:00, 234.20it/s]\n",
      "Training Epoch 44: 100%|██████████| 258/258 [00:01<00:00, 240.41it/s]\n",
      "Training Epoch 45: 100%|██████████| 258/258 [00:01<00:00, 228.70it/s]\n",
      "Training Epoch 46: 100%|██████████| 258/258 [00:01<00:00, 240.46it/s]\n",
      "Training Epoch 47: 100%|██████████| 258/258 [00:01<00:00, 216.54it/s]\n",
      "Training Epoch 48: 100%|██████████| 258/258 [00:01<00:00, 193.12it/s]\n",
      "Training Epoch 49: 100%|██████████| 258/258 [00:01<00:00, 208.85it/s]\n",
      "Training Epoch 50: 100%|██████████| 258/258 [00:01<00:00, 215.74it/s]\n",
      "Training Epoch 51: 100%|██████████| 258/258 [00:01<00:00, 211.66it/s]\n"
     ]
    },
    {
     "name": "stdout",
     "output_type": "stream",
     "text": [
      "Epoch 50 - Train Loss: 0.5461, Train MSE: 0.5453, Train MAE: 0.5692\n",
      "Epoch 50 - Validation Loss: 1.9145, Validation MSE: 1.9124, Validation MAE: 1.0566\n"
     ]
    },
    {
     "name": "stderr",
     "output_type": "stream",
     "text": [
      "Training Epoch 52: 100%|██████████| 258/258 [00:01<00:00, 217.56it/s]\n",
      "Training Epoch 53: 100%|██████████| 258/258 [00:01<00:00, 210.12it/s]\n",
      "Training Epoch 54: 100%|██████████| 258/258 [00:01<00:00, 219.17it/s]\n",
      "Training Epoch 55: 100%|██████████| 258/258 [00:01<00:00, 213.46it/s]\n",
      "Training Epoch 56: 100%|██████████| 258/258 [00:01<00:00, 211.06it/s]\n",
      "Training Epoch 57: 100%|██████████| 258/258 [00:01<00:00, 212.44it/s]\n",
      "Training Epoch 58: 100%|██████████| 258/258 [00:01<00:00, 209.18it/s]\n",
      "Training Epoch 59: 100%|██████████| 258/258 [00:01<00:00, 214.29it/s]\n",
      "Training Epoch 60: 100%|██████████| 258/258 [00:01<00:00, 215.06it/s]\n",
      "Training Epoch 61: 100%|██████████| 258/258 [00:01<00:00, 205.53it/s]\n"
     ]
    },
    {
     "name": "stdout",
     "output_type": "stream",
     "text": [
      "Epoch 60 - Train Loss: 0.4724, Train MSE: 0.4717, Train MAE: 0.5273\n",
      "Epoch 60 - Validation Loss: 1.8728, Validation MSE: 1.8832, Validation MAE: 1.0304\n"
     ]
    },
    {
     "name": "stderr",
     "output_type": "stream",
     "text": [
      "Training Epoch 62: 100%|██████████| 258/258 [00:01<00:00, 214.19it/s]\n",
      "Training Epoch 63: 100%|██████████| 258/258 [00:01<00:00, 213.05it/s]\n",
      "Training Epoch 64: 100%|██████████| 258/258 [00:01<00:00, 213.99it/s]\n",
      "Training Epoch 65: 100%|██████████| 258/258 [00:01<00:00, 210.51it/s]\n",
      "Training Epoch 66: 100%|██████████| 258/258 [00:01<00:00, 212.17it/s]\n",
      "Training Epoch 67: 100%|██████████| 258/258 [00:01<00:00, 219.11it/s]\n",
      "Training Epoch 68: 100%|██████████| 258/258 [00:01<00:00, 221.29it/s]\n",
      "Training Epoch 69: 100%|██████████| 258/258 [00:01<00:00, 218.59it/s]\n",
      "Training Epoch 70: 100%|██████████| 258/258 [00:01<00:00, 219.84it/s]\n",
      "Training Epoch 71: 100%|██████████| 258/258 [00:01<00:00, 165.21it/s]\n"
     ]
    },
    {
     "name": "stdout",
     "output_type": "stream",
     "text": [
      "Epoch 70 - Train Loss: 0.4273, Train MSE: 0.4272, Train MAE: 0.5006\n",
      "Epoch 70 - Validation Loss: 1.9337, Validation MSE: 1.9405, Validation MAE: 1.0558\n"
     ]
    },
    {
     "name": "stderr",
     "output_type": "stream",
     "text": [
      "Training Epoch 72: 100%|██████████| 258/258 [00:01<00:00, 215.83it/s]\n",
      "Training Epoch 73: 100%|██████████| 258/258 [00:01<00:00, 225.61it/s]\n",
      "Training Epoch 74: 100%|██████████| 258/258 [00:01<00:00, 221.80it/s]\n",
      "Training Epoch 75: 100%|██████████| 258/258 [00:01<00:00, 223.83it/s]\n",
      "Training Epoch 76: 100%|██████████| 258/258 [00:01<00:00, 221.13it/s]\n",
      "Training Epoch 77: 100%|██████████| 258/258 [00:01<00:00, 210.41it/s]\n",
      "Training Epoch 78: 100%|██████████| 258/258 [00:01<00:00, 217.63it/s]\n",
      "Training Epoch 79: 100%|██████████| 258/258 [00:01<00:00, 215.47it/s]\n",
      "Training Epoch 80: 100%|██████████| 258/258 [00:01<00:00, 215.18it/s]\n",
      "Training Epoch 81: 100%|██████████| 258/258 [00:01<00:00, 221.42it/s]\n"
     ]
    },
    {
     "name": "stdout",
     "output_type": "stream",
     "text": [
      "Epoch 80 - Train Loss: 0.3775, Train MSE: 0.3778, Train MAE: 0.4680\n",
      "Epoch 80 - Validation Loss: 1.8267, Validation MSE: 1.8291, Validation MAE: 1.0301\n"
     ]
    },
    {
     "name": "stderr",
     "output_type": "stream",
     "text": [
      "Training Epoch 82: 100%|██████████| 258/258 [00:01<00:00, 212.44it/s]\n",
      "Training Epoch 83: 100%|██████████| 258/258 [00:01<00:00, 209.18it/s]\n",
      "Training Epoch 84: 100%|██████████| 258/258 [00:01<00:00, 221.33it/s]\n",
      "Training Epoch 85: 100%|██████████| 258/258 [00:01<00:00, 220.32it/s]\n",
      "Training Epoch 86: 100%|██████████| 258/258 [00:01<00:00, 221.14it/s]\n",
      "Training Epoch 87: 100%|██████████| 258/258 [00:01<00:00, 213.74it/s]\n",
      "Training Epoch 88: 100%|██████████| 258/258 [00:01<00:00, 214.07it/s]\n",
      "Training Epoch 89: 100%|██████████| 258/258 [00:01<00:00, 214.34it/s]\n",
      "Training Epoch 90: 100%|██████████| 258/258 [00:01<00:00, 216.78it/s]\n",
      "Training Epoch 91: 100%|██████████| 258/258 [00:01<00:00, 223.00it/s]\n"
     ]
    },
    {
     "name": "stdout",
     "output_type": "stream",
     "text": [
      "Epoch 90 - Train Loss: 0.3537, Train MSE: 0.3536, Train MAE: 0.4500\n",
      "Epoch 90 - Validation Loss: 1.9504, Validation MSE: 1.9516, Validation MAE: 1.0571\n"
     ]
    },
    {
     "name": "stderr",
     "output_type": "stream",
     "text": [
      "Training Epoch 92: 100%|██████████| 258/258 [00:01<00:00, 221.27it/s]\n",
      "Training Epoch 93: 100%|██████████| 258/258 [00:01<00:00, 210.49it/s]\n",
      "Training Epoch 94: 100%|██████████| 258/258 [00:01<00:00, 217.35it/s]\n",
      "Training Epoch 95: 100%|██████████| 258/258 [00:01<00:00, 218.98it/s]\n",
      "Training Epoch 96: 100%|██████████| 258/258 [00:01<00:00, 211.50it/s]\n",
      "Training Epoch 97: 100%|██████████| 258/258 [00:01<00:00, 213.48it/s]\n",
      "Training Epoch 98: 100%|██████████| 258/258 [00:01<00:00, 220.03it/s]\n",
      "Training Epoch 99: 100%|██████████| 258/258 [00:01<00:00, 214.57it/s]\n",
      "Training Epoch 100: 100%|██████████| 258/258 [00:01<00:00, 212.37it/s]\n",
      "Training Epoch 101: 100%|██████████| 258/258 [00:01<00:00, 221.47it/s]\n"
     ]
    },
    {
     "name": "stdout",
     "output_type": "stream",
     "text": [
      "Epoch 100 - Train Loss: 0.3343, Train MSE: 0.3351, Train MAE: 0.4391\n",
      "Epoch 100 - Validation Loss: 1.8942, Validation MSE: 1.9005, Validation MAE: 1.0488\n"
     ]
    },
    {
     "name": "stderr",
     "output_type": "stream",
     "text": [
      "Training Epoch 102: 100%|██████████| 258/258 [00:01<00:00, 221.41it/s]\n",
      "Training Epoch 103: 100%|██████████| 258/258 [00:01<00:00, 219.01it/s]\n",
      "Training Epoch 104: 100%|██████████| 258/258 [00:01<00:00, 214.31it/s]\n",
      "Training Epoch 105: 100%|██████████| 258/258 [00:01<00:00, 220.70it/s]\n",
      "Training Epoch 106: 100%|██████████| 258/258 [00:01<00:00, 208.88it/s]\n",
      "Training Epoch 107: 100%|██████████| 258/258 [00:01<00:00, 217.29it/s]\n",
      "Training Epoch 108: 100%|██████████| 258/258 [00:01<00:00, 203.44it/s]\n",
      "Training Epoch 109: 100%|██████████| 258/258 [00:01<00:00, 207.19it/s]\n",
      "Training Epoch 110: 100%|██████████| 258/258 [00:01<00:00, 216.80it/s]\n",
      "Training Epoch 111: 100%|██████████| 258/258 [00:01<00:00, 208.90it/s]\n"
     ]
    },
    {
     "name": "stdout",
     "output_type": "stream",
     "text": [
      "Epoch 110 - Train Loss: 0.3061, Train MSE: 0.3047, Train MAE: 0.4185\n",
      "Epoch 110 - Validation Loss: 1.8945, Validation MSE: 1.8977, Validation MAE: 1.0420\n"
     ]
    },
    {
     "name": "stderr",
     "output_type": "stream",
     "text": [
      "Training Epoch 112: 100%|██████████| 258/258 [00:01<00:00, 214.35it/s]\n",
      "Training Epoch 113: 100%|██████████| 258/258 [00:01<00:00, 216.61it/s]\n",
      "Training Epoch 114: 100%|██████████| 258/258 [00:01<00:00, 206.26it/s]\n",
      "Training Epoch 115: 100%|██████████| 258/258 [00:01<00:00, 208.70it/s]\n",
      "Training Epoch 116: 100%|██████████| 258/258 [00:01<00:00, 211.01it/s]\n",
      "Training Epoch 117: 100%|██████████| 258/258 [00:01<00:00, 225.19it/s]\n",
      "Training Epoch 118: 100%|██████████| 258/258 [00:01<00:00, 141.41it/s]\n",
      "Training Epoch 119: 100%|██████████| 258/258 [00:01<00:00, 208.12it/s]\n",
      "Training Epoch 120: 100%|██████████| 258/258 [00:01<00:00, 193.92it/s]\n",
      "Training Epoch 121: 100%|██████████| 258/258 [00:01<00:00, 199.91it/s]\n"
     ]
    },
    {
     "name": "stdout",
     "output_type": "stream",
     "text": [
      "Epoch 120 - Train Loss: 0.2906, Train MSE: 0.2904, Train MAE: 0.4088\n",
      "Epoch 120 - Validation Loss: 1.8682, Validation MSE: 1.8705, Validation MAE: 1.0396\n"
     ]
    },
    {
     "name": "stderr",
     "output_type": "stream",
     "text": [
      "Training Epoch 122: 100%|██████████| 258/258 [00:01<00:00, 216.20it/s]\n",
      "Training Epoch 123: 100%|██████████| 258/258 [00:01<00:00, 219.74it/s]\n",
      "Training Epoch 124: 100%|██████████| 258/258 [00:01<00:00, 220.70it/s]\n",
      "Training Epoch 125: 100%|██████████| 258/258 [00:01<00:00, 207.17it/s]\n",
      "Training Epoch 126: 100%|██████████| 258/258 [00:01<00:00, 216.42it/s]\n",
      "Training Epoch 127: 100%|██████████| 258/258 [00:01<00:00, 221.70it/s]\n",
      "Training Epoch 128: 100%|██████████| 258/258 [00:01<00:00, 224.37it/s]\n",
      "Training Epoch 129: 100%|██████████| 258/258 [00:01<00:00, 216.82it/s]\n",
      "Training Epoch 130: 100%|██████████| 258/258 [00:01<00:00, 223.61it/s]\n",
      "Training Epoch 131: 100%|██████████| 258/258 [00:01<00:00, 221.22it/s]\n"
     ]
    },
    {
     "name": "stdout",
     "output_type": "stream",
     "text": [
      "Epoch 130 - Train Loss: 0.2786, Train MSE: 0.2784, Train MAE: 0.4007\n",
      "Epoch 130 - Validation Loss: 1.8763, Validation MSE: 1.8923, Validation MAE: 1.0369\n"
     ]
    },
    {
     "name": "stderr",
     "output_type": "stream",
     "text": [
      "Training Epoch 132: 100%|██████████| 258/258 [00:01<00:00, 211.66it/s]\n",
      "Training Epoch 133: 100%|██████████| 258/258 [00:01<00:00, 218.68it/s]\n",
      "Training Epoch 134: 100%|██████████| 258/258 [00:01<00:00, 215.07it/s]\n",
      "Training Epoch 135: 100%|██████████| 258/258 [00:01<00:00, 212.59it/s]\n",
      "Training Epoch 136: 100%|██████████| 258/258 [00:01<00:00, 214.83it/s]\n",
      "Training Epoch 137: 100%|██████████| 258/258 [00:01<00:00, 209.67it/s]\n",
      "Training Epoch 138: 100%|██████████| 258/258 [00:01<00:00, 211.19it/s]\n",
      "Training Epoch 139: 100%|██████████| 258/258 [00:01<00:00, 208.52it/s]\n",
      "Training Epoch 140: 100%|██████████| 258/258 [00:01<00:00, 220.68it/s]\n",
      "Training Epoch 141: 100%|██████████| 258/258 [00:01<00:00, 215.78it/s]\n"
     ]
    },
    {
     "name": "stdout",
     "output_type": "stream",
     "text": [
      "Epoch 140 - Train Loss: 0.2638, Train MSE: 0.2639, Train MAE: 0.3861\n",
      "Epoch 140 - Validation Loss: 1.8622, Validation MSE: 1.8708, Validation MAE: 1.0310\n"
     ]
    },
    {
     "name": "stderr",
     "output_type": "stream",
     "text": [
      "Training Epoch 142: 100%|██████████| 258/258 [00:01<00:00, 222.67it/s]\n",
      "Training Epoch 143: 100%|██████████| 258/258 [00:01<00:00, 212.41it/s]\n",
      "Training Epoch 144: 100%|██████████| 258/258 [00:01<00:00, 221.65it/s]\n",
      "Training Epoch 145: 100%|██████████| 258/258 [00:01<00:00, 211.33it/s]\n",
      "Training Epoch 146: 100%|██████████| 258/258 [00:01<00:00, 209.62it/s]\n",
      "Training Epoch 147: 100%|██████████| 258/258 [00:01<00:00, 215.11it/s]\n",
      "Training Epoch 148: 100%|██████████| 258/258 [00:01<00:00, 203.72it/s]\n",
      "Training Epoch 149: 100%|██████████| 258/258 [00:01<00:00, 209.40it/s]\n",
      "Training Epoch 150: 100%|██████████| 258/258 [00:01<00:00, 205.54it/s]\n",
      "Training Epoch 151: 100%|██████████| 258/258 [00:01<00:00, 215.48it/s]\n"
     ]
    },
    {
     "name": "stdout",
     "output_type": "stream",
     "text": [
      "Epoch 150 - Train Loss: 0.2505, Train MSE: 0.2509, Train MAE: 0.3793\n",
      "Epoch 150 - Validation Loss: 1.9188, Validation MSE: 1.9216, Validation MAE: 1.0474\n"
     ]
    },
    {
     "name": "stderr",
     "output_type": "stream",
     "text": [
      "Training Epoch 152: 100%|██████████| 258/258 [00:01<00:00, 217.12it/s]\n",
      "Training Epoch 153: 100%|██████████| 258/258 [00:01<00:00, 222.48it/s]\n",
      "Training Epoch 154: 100%|██████████| 258/258 [00:01<00:00, 223.22it/s]\n",
      "Training Epoch 155: 100%|██████████| 258/258 [00:01<00:00, 219.09it/s]\n",
      "Training Epoch 156: 100%|██████████| 258/258 [00:01<00:00, 219.66it/s]\n",
      "Training Epoch 157: 100%|██████████| 258/258 [00:01<00:00, 222.26it/s]\n",
      "Training Epoch 158: 100%|██████████| 258/258 [00:01<00:00, 220.06it/s]\n",
      "Training Epoch 159: 100%|██████████| 258/258 [00:01<00:00, 223.05it/s]\n",
      "Training Epoch 160: 100%|██████████| 258/258 [00:01<00:00, 215.00it/s]\n",
      "Training Epoch 161: 100%|██████████| 258/258 [00:01<00:00, 224.67it/s]\n"
     ]
    },
    {
     "name": "stdout",
     "output_type": "stream",
     "text": [
      "Epoch 160 - Train Loss: 0.2438, Train MSE: 0.2440, Train MAE: 0.3725\n",
      "Epoch 160 - Validation Loss: 1.8645, Validation MSE: 1.8626, Validation MAE: 1.0344\n"
     ]
    },
    {
     "name": "stderr",
     "output_type": "stream",
     "text": [
      "Training Epoch 162: 100%|██████████| 258/258 [00:01<00:00, 220.62it/s]\n",
      "Training Epoch 163: 100%|██████████| 258/258 [00:01<00:00, 216.16it/s]\n",
      "Training Epoch 164: 100%|██████████| 258/258 [00:01<00:00, 214.71it/s]\n",
      "Training Epoch 165: 100%|██████████| 258/258 [00:01<00:00, 212.63it/s]\n",
      "Training Epoch 166: 100%|██████████| 258/258 [00:01<00:00, 215.40it/s]\n",
      "Training Epoch 167: 100%|██████████| 258/258 [00:01<00:00, 216.07it/s]\n",
      "Training Epoch 168: 100%|██████████| 258/258 [00:01<00:00, 228.48it/s]\n",
      "Training Epoch 169: 100%|██████████| 258/258 [00:01<00:00, 215.51it/s]\n",
      "Training Epoch 170: 100%|██████████| 258/258 [00:01<00:00, 219.36it/s]\n",
      "Training Epoch 171: 100%|██████████| 258/258 [00:01<00:00, 223.75it/s]\n"
     ]
    },
    {
     "name": "stdout",
     "output_type": "stream",
     "text": [
      "Epoch 170 - Train Loss: 0.2296, Train MSE: 0.2302, Train MAE: 0.3617\n",
      "Epoch 170 - Validation Loss: 1.8434, Validation MSE: 1.8472, Validation MAE: 1.0242\n"
     ]
    },
    {
     "name": "stderr",
     "output_type": "stream",
     "text": [
      "Training Epoch 172: 100%|██████████| 258/258 [00:01<00:00, 223.76it/s]\n",
      "Training Epoch 173: 100%|██████████| 258/258 [00:01<00:00, 214.33it/s]\n",
      "Training Epoch 174: 100%|██████████| 258/258 [00:01<00:00, 222.68it/s]\n",
      "Training Epoch 175: 100%|██████████| 258/258 [00:01<00:00, 218.69it/s]\n",
      "Training Epoch 176: 100%|██████████| 258/258 [00:01<00:00, 219.92it/s]\n",
      "Training Epoch 177: 100%|██████████| 258/258 [00:01<00:00, 226.16it/s]\n",
      "Training Epoch 178: 100%|██████████| 258/258 [00:01<00:00, 225.55it/s]\n",
      "Training Epoch 179: 100%|██████████| 258/258 [00:01<00:00, 227.14it/s]\n",
      "Training Epoch 180: 100%|██████████| 258/258 [00:01<00:00, 222.48it/s]\n",
      "Training Epoch 181: 100%|██████████| 258/258 [00:01<00:00, 226.57it/s]\n"
     ]
    },
    {
     "name": "stdout",
     "output_type": "stream",
     "text": [
      "Epoch 180 - Train Loss: 0.2168, Train MSE: 0.2171, Train MAE: 0.3518\n",
      "Epoch 180 - Validation Loss: 1.8948, Validation MSE: 1.8994, Validation MAE: 1.0453\n"
     ]
    },
    {
     "name": "stderr",
     "output_type": "stream",
     "text": [
      "Training Epoch 182: 100%|██████████| 258/258 [00:01<00:00, 221.50it/s]\n",
      "Training Epoch 183: 100%|██████████| 258/258 [00:01<00:00, 216.99it/s]\n",
      "Training Epoch 184: 100%|██████████| 258/258 [00:01<00:00, 221.68it/s]\n",
      "Training Epoch 185: 100%|██████████| 258/258 [00:01<00:00, 224.32it/s]\n",
      "Training Epoch 186: 100%|██████████| 258/258 [00:01<00:00, 219.07it/s]\n",
      "Training Epoch 187: 100%|██████████| 258/258 [00:01<00:00, 224.02it/s]\n",
      "Training Epoch 188: 100%|██████████| 258/258 [00:01<00:00, 221.67it/s]\n",
      "Training Epoch 189: 100%|██████████| 258/258 [00:01<00:00, 225.12it/s]\n",
      "Training Epoch 190: 100%|██████████| 258/258 [00:01<00:00, 225.03it/s]\n",
      "Training Epoch 191: 100%|██████████| 258/258 [00:01<00:00, 220.34it/s]\n"
     ]
    },
    {
     "name": "stdout",
     "output_type": "stream",
     "text": [
      "Epoch 190 - Train Loss: 0.2114, Train MSE: 0.2112, Train MAE: 0.3469\n",
      "Epoch 190 - Validation Loss: 1.9270, Validation MSE: 1.9260, Validation MAE: 1.0457\n"
     ]
    },
    {
     "name": "stderr",
     "output_type": "stream",
     "text": [
      "Training Epoch 192: 100%|██████████| 258/258 [00:01<00:00, 228.65it/s]\n",
      "Training Epoch 193: 100%|██████████| 258/258 [00:01<00:00, 219.76it/s]\n",
      "Training Epoch 194: 100%|██████████| 258/258 [00:01<00:00, 223.40it/s]\n",
      "Training Epoch 195: 100%|██████████| 258/258 [00:01<00:00, 219.02it/s]\n",
      "Training Epoch 196: 100%|██████████| 258/258 [00:01<00:00, 215.54it/s]\n",
      "Training Epoch 197: 100%|██████████| 258/258 [00:01<00:00, 214.73it/s]\n",
      "Training Epoch 198: 100%|██████████| 258/258 [00:01<00:00, 223.13it/s]\n",
      "Training Epoch 199: 100%|██████████| 258/258 [00:01<00:00, 221.01it/s]\n",
      "Training Epoch 200: 100%|██████████| 258/258 [00:01<00:00, 221.51it/s]\n",
      "Training Epoch 201: 100%|██████████| 258/258 [00:01<00:00, 221.06it/s]\n"
     ]
    },
    {
     "name": "stdout",
     "output_type": "stream",
     "text": [
      "Epoch 200 - Train Loss: 0.2034, Train MSE: 0.2034, Train MAE: 0.3423\n",
      "Epoch 200 - Validation Loss: 1.8778, Validation MSE: 1.8815, Validation MAE: 1.0388\n"
     ]
    },
    {
     "name": "stderr",
     "output_type": "stream",
     "text": [
      "Training Epoch 202: 100%|██████████| 258/258 [00:01<00:00, 217.93it/s]\n",
      "Training Epoch 203: 100%|██████████| 258/258 [00:01<00:00, 223.80it/s]\n",
      "Training Epoch 204: 100%|██████████| 258/258 [00:01<00:00, 216.20it/s]\n",
      "Training Epoch 205: 100%|██████████| 258/258 [00:01<00:00, 221.58it/s]\n",
      "Training Epoch 206: 100%|██████████| 258/258 [00:01<00:00, 221.92it/s]\n",
      "Training Epoch 207: 100%|██████████| 258/258 [00:01<00:00, 217.14it/s]\n",
      "Training Epoch 208: 100%|██████████| 258/258 [00:01<00:00, 218.86it/s]\n",
      "Training Epoch 209: 100%|██████████| 258/258 [00:01<00:00, 216.99it/s]\n",
      "Training Epoch 210: 100%|██████████| 258/258 [00:01<00:00, 219.93it/s]\n",
      "Training Epoch 211: 100%|██████████| 258/258 [00:01<00:00, 226.66it/s]\n"
     ]
    },
    {
     "name": "stdout",
     "output_type": "stream",
     "text": [
      "Epoch 210 - Train Loss: 0.1969, Train MSE: 0.1968, Train MAE: 0.3344\n",
      "Epoch 210 - Validation Loss: 1.8147, Validation MSE: 1.8109, Validation MAE: 1.0139\n"
     ]
    },
    {
     "name": "stderr",
     "output_type": "stream",
     "text": [
      "Training Epoch 212: 100%|██████████| 258/258 [00:01<00:00, 218.85it/s]\n",
      "Training Epoch 213: 100%|██████████| 258/258 [00:01<00:00, 204.72it/s]\n",
      "Training Epoch 214: 100%|██████████| 258/258 [00:01<00:00, 223.77it/s]\n",
      "Training Epoch 215: 100%|██████████| 258/258 [00:01<00:00, 221.93it/s]\n",
      "Training Epoch 216: 100%|██████████| 258/258 [00:01<00:00, 226.59it/s]\n",
      "Training Epoch 217: 100%|██████████| 258/258 [00:01<00:00, 220.89it/s]\n",
      "Training Epoch 218: 100%|██████████| 258/258 [00:01<00:00, 223.82it/s]\n",
      "Training Epoch 219: 100%|██████████| 258/258 [00:01<00:00, 219.36it/s]\n",
      "Training Epoch 220: 100%|██████████| 258/258 [00:01<00:00, 225.03it/s]\n",
      "Training Epoch 221: 100%|██████████| 258/258 [00:01<00:00, 219.16it/s]\n"
     ]
    },
    {
     "name": "stdout",
     "output_type": "stream",
     "text": [
      "Epoch 220 - Train Loss: 0.1895, Train MSE: 0.1897, Train MAE: 0.3292\n",
      "Epoch 220 - Validation Loss: 1.8860, Validation MSE: 1.8885, Validation MAE: 1.0304\n"
     ]
    },
    {
     "name": "stderr",
     "output_type": "stream",
     "text": [
      "Training Epoch 222: 100%|██████████| 258/258 [00:01<00:00, 215.91it/s]\n",
      "Training Epoch 223: 100%|██████████| 258/258 [00:01<00:00, 222.72it/s]\n",
      "Training Epoch 224: 100%|██████████| 258/258 [00:01<00:00, 225.78it/s]\n",
      "Training Epoch 225: 100%|██████████| 258/258 [00:01<00:00, 223.03it/s]\n",
      "Training Epoch 226: 100%|██████████| 258/258 [00:01<00:00, 218.78it/s]\n",
      "Training Epoch 227: 100%|██████████| 258/258 [00:01<00:00, 214.41it/s]\n",
      "Training Epoch 228: 100%|██████████| 258/258 [00:01<00:00, 224.03it/s]\n",
      "Training Epoch 229: 100%|██████████| 258/258 [00:01<00:00, 222.25it/s]\n",
      "Training Epoch 230: 100%|██████████| 258/258 [00:01<00:00, 225.27it/s]\n",
      "Training Epoch 231: 100%|██████████| 258/258 [00:01<00:00, 224.81it/s]\n"
     ]
    },
    {
     "name": "stdout",
     "output_type": "stream",
     "text": [
      "Epoch 230 - Train Loss: 0.1834, Train MSE: 0.1834, Train MAE: 0.3224\n",
      "Epoch 230 - Validation Loss: 1.9026, Validation MSE: 1.9072, Validation MAE: 1.0356\n"
     ]
    },
    {
     "name": "stderr",
     "output_type": "stream",
     "text": [
      "Training Epoch 232: 100%|██████████| 258/258 [00:01<00:00, 221.51it/s]\n",
      "Training Epoch 233: 100%|██████████| 258/258 [00:01<00:00, 222.94it/s]\n",
      "Training Epoch 234: 100%|██████████| 258/258 [00:01<00:00, 226.58it/s]\n",
      "Training Epoch 235: 100%|██████████| 258/258 [00:01<00:00, 214.67it/s]\n",
      "Training Epoch 236: 100%|██████████| 258/258 [00:01<00:00, 217.42it/s]\n",
      "Training Epoch 237: 100%|██████████| 258/258 [00:01<00:00, 219.71it/s]\n",
      "Training Epoch 238: 100%|██████████| 258/258 [00:01<00:00, 220.17it/s]\n",
      "Training Epoch 239: 100%|██████████| 258/258 [00:01<00:00, 222.85it/s]\n",
      "Training Epoch 240: 100%|██████████| 258/258 [00:01<00:00, 221.89it/s]\n",
      "Training Epoch 241: 100%|██████████| 258/258 [00:01<00:00, 226.39it/s]\n"
     ]
    },
    {
     "name": "stdout",
     "output_type": "stream",
     "text": [
      "Epoch 240 - Train Loss: 0.1852, Train MSE: 0.1850, Train MAE: 0.3229\n",
      "Epoch 240 - Validation Loss: 1.8945, Validation MSE: 1.8919, Validation MAE: 1.0396\n"
     ]
    },
    {
     "name": "stderr",
     "output_type": "stream",
     "text": [
      "Training Epoch 242: 100%|██████████| 258/258 [00:01<00:00, 221.64it/s]\n",
      "Training Epoch 243: 100%|██████████| 258/258 [00:01<00:00, 220.55it/s]\n",
      "Training Epoch 244: 100%|██████████| 258/258 [00:01<00:00, 222.71it/s]\n",
      "Training Epoch 245: 100%|██████████| 258/258 [00:01<00:00, 221.92it/s]\n",
      "Training Epoch 246: 100%|██████████| 258/258 [00:01<00:00, 220.28it/s]\n",
      "Training Epoch 247: 100%|██████████| 258/258 [00:01<00:00, 217.37it/s]\n",
      "Training Epoch 248: 100%|██████████| 258/258 [00:01<00:00, 216.48it/s]\n",
      "Training Epoch 249: 100%|██████████| 258/258 [00:01<00:00, 220.36it/s]\n",
      "Training Epoch 250: 100%|██████████| 258/258 [00:01<00:00, 220.70it/s]\n",
      "Training Epoch 251: 100%|██████████| 258/258 [00:01<00:00, 223.14it/s]\n"
     ]
    },
    {
     "name": "stdout",
     "output_type": "stream",
     "text": [
      "Epoch 250 - Train Loss: 0.1832, Train MSE: 0.1836, Train MAE: 0.3180\n",
      "Epoch 250 - Validation Loss: 1.8483, Validation MSE: 1.8486, Validation MAE: 1.0284\n"
     ]
    },
    {
     "name": "stderr",
     "output_type": "stream",
     "text": [
      "Training Epoch 252: 100%|██████████| 258/258 [00:01<00:00, 225.67it/s]\n",
      "Training Epoch 253: 100%|██████████| 258/258 [00:01<00:00, 220.39it/s]\n",
      "Training Epoch 254: 100%|██████████| 258/258 [00:01<00:00, 223.88it/s]\n",
      "Training Epoch 255: 100%|██████████| 258/258 [00:01<00:00, 218.03it/s]\n",
      "Training Epoch 256: 100%|██████████| 258/258 [00:01<00:00, 189.06it/s]\n",
      "Training Epoch 257: 100%|██████████| 258/258 [00:01<00:00, 218.48it/s]\n",
      "Training Epoch 258: 100%|██████████| 258/258 [00:01<00:00, 223.30it/s]\n",
      "Training Epoch 259: 100%|██████████| 258/258 [00:01<00:00, 218.16it/s]\n",
      "Training Epoch 260: 100%|██████████| 258/258 [00:01<00:00, 221.21it/s]\n",
      "Training Epoch 261: 100%|██████████| 258/258 [00:01<00:00, 200.59it/s]\n"
     ]
    },
    {
     "name": "stdout",
     "output_type": "stream",
     "text": [
      "Epoch 260 - Train Loss: 0.1714, Train MSE: 0.1709, Train MAE: 0.3103\n",
      "Epoch 260 - Validation Loss: 1.9059, Validation MSE: 1.9118, Validation MAE: 1.0357\n"
     ]
    },
    {
     "name": "stderr",
     "output_type": "stream",
     "text": [
      "Training Epoch 262: 100%|██████████| 258/258 [00:01<00:00, 221.59it/s]\n",
      "Training Epoch 263: 100%|██████████| 258/258 [00:01<00:00, 224.43it/s]\n",
      "Training Epoch 264: 100%|██████████| 258/258 [00:01<00:00, 218.21it/s]\n",
      "Training Epoch 265: 100%|██████████| 258/258 [00:01<00:00, 226.00it/s]\n",
      "Training Epoch 266: 100%|██████████| 258/258 [00:01<00:00, 220.91it/s]\n",
      "Training Epoch 267: 100%|██████████| 258/258 [00:01<00:00, 224.66it/s]\n",
      "Training Epoch 268: 100%|██████████| 258/258 [00:01<00:00, 205.50it/s]\n",
      "Training Epoch 269: 100%|██████████| 258/258 [00:01<00:00, 220.71it/s]\n",
      "Training Epoch 270: 100%|██████████| 258/258 [00:01<00:00, 216.44it/s]\n",
      "Training Epoch 271: 100%|██████████| 258/258 [00:01<00:00, 224.01it/s]\n"
     ]
    },
    {
     "name": "stdout",
     "output_type": "stream",
     "text": [
      "Epoch 270 - Train Loss: 0.1696, Train MSE: 0.1694, Train MAE: 0.3070\n",
      "Epoch 270 - Validation Loss: 1.8637, Validation MSE: 1.8622, Validation MAE: 1.0220\n"
     ]
    },
    {
     "name": "stderr",
     "output_type": "stream",
     "text": [
      "Training Epoch 272: 100%|██████████| 258/258 [00:01<00:00, 225.91it/s]\n",
      "Training Epoch 273: 100%|██████████| 258/258 [13:29<00:00,  3.14s/it] \n",
      "Training Epoch 274: 100%|██████████| 258/258 [00:01<00:00, 221.15it/s]\n",
      "Training Epoch 275: 100%|██████████| 258/258 [00:01<00:00, 217.05it/s]\n",
      "Training Epoch 276: 100%|██████████| 258/258 [00:01<00:00, 220.84it/s]\n",
      "Training Epoch 277: 100%|██████████| 258/258 [00:03<00:00, 85.96it/s] \n",
      "Training Epoch 278: 100%|██████████| 258/258 [00:01<00:00, 178.50it/s]\n",
      "Training Epoch 279: 100%|██████████| 258/258 [00:01<00:00, 213.69it/s]\n",
      "Training Epoch 280: 100%|██████████| 258/258 [00:01<00:00, 200.58it/s]\n",
      "Training Epoch 281: 100%|██████████| 258/258 [00:01<00:00, 193.95it/s]\n"
     ]
    },
    {
     "name": "stdout",
     "output_type": "stream",
     "text": [
      "Epoch 280 - Train Loss: 0.1698, Train MSE: 0.1694, Train MAE: 0.3105\n",
      "Epoch 280 - Validation Loss: 1.8906, Validation MSE: 1.8883, Validation MAE: 1.0363\n"
     ]
    },
    {
     "name": "stderr",
     "output_type": "stream",
     "text": [
      "Training Epoch 282: 100%|██████████| 258/258 [00:01<00:00, 177.51it/s]\n",
      "Training Epoch 283: 100%|██████████| 258/258 [00:01<00:00, 171.34it/s]\n",
      "Training Epoch 284: 100%|██████████| 258/258 [00:01<00:00, 185.14it/s]\n",
      "Training Epoch 285: 100%|██████████| 258/258 [00:01<00:00, 181.28it/s]\n",
      "Training Epoch 286: 100%|██████████| 258/258 [00:01<00:00, 186.92it/s]\n",
      "Training Epoch 287: 100%|██████████| 258/258 [00:01<00:00, 187.27it/s]\n",
      "Training Epoch 288: 100%|██████████| 258/258 [00:01<00:00, 181.55it/s]\n",
      "Training Epoch 289: 100%|██████████| 258/258 [00:01<00:00, 183.18it/s]\n",
      "Training Epoch 290: 100%|██████████| 258/258 [00:01<00:00, 183.66it/s]\n",
      "Training Epoch 291: 100%|██████████| 258/258 [00:01<00:00, 183.32it/s]\n"
     ]
    },
    {
     "name": "stdout",
     "output_type": "stream",
     "text": [
      "Epoch 290 - Train Loss: 0.1557, Train MSE: 0.1559, Train MAE: 0.2966\n",
      "Epoch 290 - Validation Loss: 1.8913, Validation MSE: 1.8891, Validation MAE: 1.0280\n"
     ]
    },
    {
     "name": "stderr",
     "output_type": "stream",
     "text": [
      "Training Epoch 292: 100%|██████████| 258/258 [00:01<00:00, 185.76it/s]\n",
      "Training Epoch 293: 100%|██████████| 258/258 [00:01<00:00, 184.41it/s]\n",
      "Training Epoch 294: 100%|██████████| 258/258 [00:01<00:00, 170.45it/s]\n",
      "Training Epoch 295: 100%|██████████| 258/258 [00:01<00:00, 188.44it/s]\n",
      "Training Epoch 296: 100%|██████████| 258/258 [00:01<00:00, 189.74it/s]\n",
      "Training Epoch 297: 100%|██████████| 258/258 [00:01<00:00, 189.22it/s]\n",
      "Training Epoch 298: 100%|██████████| 258/258 [00:01<00:00, 183.55it/s]\n",
      "Training Epoch 299: 100%|██████████| 258/258 [00:01<00:00, 186.10it/s]\n",
      "Training Epoch 300: 100%|██████████| 258/258 [00:01<00:00, 190.06it/s]\n",
      "Training Epoch 301: 100%|██████████| 258/258 [00:01<00:00, 189.56it/s]\n"
     ]
    },
    {
     "name": "stdout",
     "output_type": "stream",
     "text": [
      "Epoch 300 - Train Loss: 0.1623, Train MSE: 0.1626, Train MAE: 0.3006\n",
      "Epoch 300 - Validation Loss: 1.8917, Validation MSE: 1.8870, Validation MAE: 1.0389\n"
     ]
    },
    {
     "name": "stderr",
     "output_type": "stream",
     "text": [
      "Training Epoch 302: 100%|██████████| 258/258 [00:01<00:00, 170.44it/s]\n",
      "Training Epoch 303: 100%|██████████| 258/258 [00:01<00:00, 187.83it/s]\n",
      "Training Epoch 304: 100%|██████████| 258/258 [06:42<00:00,  1.56s/it]\n",
      "Training Epoch 305: 100%|██████████| 258/258 [00:02<00:00, 127.23it/s]\n",
      "Training Epoch 306: 100%|██████████| 258/258 [00:01<00:00, 204.68it/s]\n",
      "Training Epoch 307: 100%|██████████| 258/258 [00:01<00:00, 161.19it/s]\n",
      "Training Epoch 308: 100%|██████████| 258/258 [00:01<00:00, 168.71it/s]\n",
      "Training Epoch 309: 100%|██████████| 258/258 [00:01<00:00, 164.30it/s]\n",
      "Training Epoch 310: 100%|██████████| 258/258 [00:01<00:00, 167.19it/s]\n",
      "Training Epoch 311: 100%|██████████| 258/258 [00:01<00:00, 166.46it/s]\n"
     ]
    },
    {
     "name": "stdout",
     "output_type": "stream",
     "text": [
      "Epoch 310 - Train Loss: 0.1493, Train MSE: 0.1497, Train MAE: 0.2887\n",
      "Epoch 310 - Validation Loss: 1.8588, Validation MSE: 1.8539, Validation MAE: 1.0214\n"
     ]
    },
    {
     "name": "stderr",
     "output_type": "stream",
     "text": [
      "Training Epoch 312: 100%|██████████| 258/258 [00:01<00:00, 170.05it/s]\n",
      "Training Epoch 313: 100%|██████████| 258/258 [00:01<00:00, 169.83it/s]\n",
      "Training Epoch 314: 100%|██████████| 258/258 [00:01<00:00, 157.23it/s]\n",
      "Training Epoch 315: 100%|██████████| 258/258 [00:01<00:00, 158.09it/s]\n",
      "Training Epoch 316: 100%|██████████| 258/258 [00:01<00:00, 148.34it/s]\n",
      "Training Epoch 317: 100%|██████████| 258/258 [00:01<00:00, 180.92it/s]\n",
      "Training Epoch 318: 100%|██████████| 258/258 [00:01<00:00, 174.87it/s]\n",
      "Training Epoch 319: 100%|██████████| 258/258 [00:01<00:00, 178.94it/s]\n",
      "Training Epoch 320: 100%|██████████| 258/258 [00:01<00:00, 169.61it/s]\n",
      "Training Epoch 321: 100%|██████████| 258/258 [00:01<00:00, 177.28it/s]\n"
     ]
    },
    {
     "name": "stdout",
     "output_type": "stream",
     "text": [
      "Epoch 320 - Train Loss: 0.1550, Train MSE: 0.1549, Train MAE: 0.2919\n",
      "Epoch 320 - Validation Loss: 1.8694, Validation MSE: 1.8744, Validation MAE: 1.0260\n"
     ]
    },
    {
     "name": "stderr",
     "output_type": "stream",
     "text": [
      "Training Epoch 322: 100%|██████████| 258/258 [00:01<00:00, 177.31it/s]\n",
      "Training Epoch 323: 100%|██████████| 258/258 [00:01<00:00, 181.22it/s]\n",
      "Training Epoch 324: 100%|██████████| 258/258 [00:01<00:00, 185.42it/s]\n",
      "Training Epoch 325: 100%|██████████| 258/258 [00:01<00:00, 176.18it/s]\n",
      "Training Epoch 326: 100%|██████████| 258/258 [00:01<00:00, 171.30it/s]\n",
      "Training Epoch 327: 100%|██████████| 258/258 [00:01<00:00, 173.95it/s]\n",
      "Training Epoch 328: 100%|██████████| 258/258 [00:01<00:00, 179.69it/s]\n",
      "Training Epoch 329: 100%|██████████| 258/258 [00:01<00:00, 177.17it/s]\n",
      "Training Epoch 330: 100%|██████████| 258/258 [00:01<00:00, 181.79it/s]\n",
      "Training Epoch 331: 100%|██████████| 258/258 [00:01<00:00, 179.88it/s]\n"
     ]
    },
    {
     "name": "stdout",
     "output_type": "stream",
     "text": [
      "Epoch 330 - Train Loss: 0.1566, Train MSE: 0.1568, Train MAE: 0.2932\n",
      "Epoch 330 - Validation Loss: 1.8749, Validation MSE: 1.8720, Validation MAE: 1.0241\n"
     ]
    },
    {
     "name": "stderr",
     "output_type": "stream",
     "text": [
      "Training Epoch 332: 100%|██████████| 258/258 [00:01<00:00, 179.92it/s]\n",
      "Training Epoch 333: 100%|██████████| 258/258 [00:01<00:00, 176.23it/s]\n",
      "Training Epoch 334: 100%|██████████| 258/258 [00:01<00:00, 179.18it/s]\n",
      "Training Epoch 335: 100%|██████████| 258/258 [00:01<00:00, 172.27it/s]\n",
      "Training Epoch 336: 100%|██████████| 258/258 [00:01<00:00, 168.84it/s]\n",
      "Training Epoch 337: 100%|██████████| 258/258 [00:01<00:00, 180.05it/s]\n",
      "Training Epoch 338: 100%|██████████| 258/258 [00:01<00:00, 183.57it/s]\n",
      "Training Epoch 339: 100%|██████████| 258/258 [00:01<00:00, 174.98it/s]\n",
      "Training Epoch 340: 100%|██████████| 258/258 [00:01<00:00, 156.87it/s]\n",
      "Training Epoch 341: 100%|██████████| 258/258 [00:01<00:00, 176.93it/s]\n"
     ]
    },
    {
     "name": "stdout",
     "output_type": "stream",
     "text": [
      "Epoch 340 - Train Loss: 0.1420, Train MSE: 0.1418, Train MAE: 0.2785\n",
      "Epoch 340 - Validation Loss: 1.8588, Validation MSE: 1.8631, Validation MAE: 1.0226\n"
     ]
    },
    {
     "name": "stderr",
     "output_type": "stream",
     "text": [
      "Training Epoch 342: 100%|██████████| 258/258 [00:01<00:00, 183.15it/s]\n",
      "Training Epoch 343: 100%|██████████| 258/258 [00:01<00:00, 181.56it/s]\n",
      "Training Epoch 344: 100%|██████████| 258/258 [00:01<00:00, 182.16it/s]\n",
      "Training Epoch 345: 100%|██████████| 258/258 [00:01<00:00, 183.56it/s]\n",
      "Training Epoch 346: 100%|██████████| 258/258 [00:01<00:00, 183.43it/s]\n",
      "Training Epoch 347: 100%|██████████| 258/258 [00:01<00:00, 181.97it/s]\n",
      "Training Epoch 348: 100%|██████████| 258/258 [00:01<00:00, 184.19it/s]\n",
      "Training Epoch 349: 100%|██████████| 258/258 [00:01<00:00, 180.88it/s]\n",
      "Training Epoch 350: 100%|██████████| 258/258 [00:01<00:00, 180.13it/s]\n",
      "Training Epoch 351: 100%|██████████| 258/258 [00:01<00:00, 182.93it/s]\n"
     ]
    },
    {
     "name": "stdout",
     "output_type": "stream",
     "text": [
      "Epoch 350 - Train Loss: 0.1475, Train MSE: 0.1475, Train MAE: 0.2847\n",
      "Epoch 350 - Validation Loss: 1.8961, Validation MSE: 1.8923, Validation MAE: 1.0312\n"
     ]
    },
    {
     "name": "stderr",
     "output_type": "stream",
     "text": [
      "Training Epoch 352: 100%|██████████| 258/258 [00:01<00:00, 182.26it/s]\n",
      "Training Epoch 353: 100%|██████████| 258/258 [00:01<00:00, 179.73it/s]\n",
      "Training Epoch 354: 100%|██████████| 258/258 [00:01<00:00, 181.14it/s]\n",
      "Training Epoch 355: 100%|██████████| 258/258 [00:01<00:00, 180.03it/s]\n",
      "Training Epoch 356: 100%|██████████| 258/258 [00:01<00:00, 183.44it/s]\n",
      "Training Epoch 357: 100%|██████████| 258/258 [00:01<00:00, 181.68it/s]\n",
      "Training Epoch 358: 100%|██████████| 258/258 [00:01<00:00, 177.98it/s]\n",
      "Training Epoch 359: 100%|██████████| 258/258 [00:01<00:00, 180.90it/s]\n",
      "Training Epoch 360: 100%|██████████| 258/258 [00:01<00:00, 181.17it/s]\n",
      "Training Epoch 361: 100%|██████████| 258/258 [00:01<00:00, 182.07it/s]\n"
     ]
    },
    {
     "name": "stdout",
     "output_type": "stream",
     "text": [
      "Epoch 360 - Train Loss: 0.1406, Train MSE: 0.1409, Train MAE: 0.2795\n",
      "Epoch 360 - Validation Loss: 1.8838, Validation MSE: 1.8883, Validation MAE: 1.0263\n"
     ]
    },
    {
     "name": "stderr",
     "output_type": "stream",
     "text": [
      "Training Epoch 362: 100%|██████████| 258/258 [00:01<00:00, 184.76it/s]\n",
      "Training Epoch 363: 100%|██████████| 258/258 [00:01<00:00, 184.38it/s]\n",
      "Training Epoch 364: 100%|██████████| 258/258 [00:01<00:00, 181.14it/s]\n",
      "Training Epoch 365: 100%|██████████| 258/258 [00:01<00:00, 181.44it/s]\n",
      "Training Epoch 366: 100%|██████████| 258/258 [00:01<00:00, 181.44it/s]\n",
      "Training Epoch 367: 100%|██████████| 258/258 [00:01<00:00, 183.03it/s]\n",
      "Training Epoch 368: 100%|██████████| 258/258 [00:01<00:00, 182.07it/s]\n",
      "Training Epoch 369: 100%|██████████| 258/258 [00:01<00:00, 181.90it/s]\n",
      "Training Epoch 370: 100%|██████████| 258/258 [00:01<00:00, 181.67it/s]\n",
      "Training Epoch 371: 100%|██████████| 258/258 [00:01<00:00, 175.32it/s]\n"
     ]
    },
    {
     "name": "stdout",
     "output_type": "stream",
     "text": [
      "Epoch 370 - Train Loss: 0.1392, Train MSE: 0.1380, Train MAE: 0.2767\n",
      "Epoch 370 - Validation Loss: 1.8881, Validation MSE: 1.8898, Validation MAE: 1.0296\n"
     ]
    },
    {
     "name": "stderr",
     "output_type": "stream",
     "text": [
      "Training Epoch 372: 100%|██████████| 258/258 [00:01<00:00, 182.78it/s]\n",
      "Training Epoch 373: 100%|██████████| 258/258 [00:01<00:00, 179.05it/s]\n",
      "Training Epoch 374: 100%|██████████| 258/258 [00:01<00:00, 183.12it/s]\n",
      "Training Epoch 375: 100%|██████████| 258/258 [00:01<00:00, 180.84it/s]\n",
      "Training Epoch 376: 100%|██████████| 258/258 [00:01<00:00, 181.45it/s]\n",
      "Training Epoch 377: 100%|██████████| 258/258 [00:01<00:00, 182.55it/s]\n",
      "Training Epoch 378: 100%|██████████| 258/258 [00:01<00:00, 182.30it/s]\n",
      "Training Epoch 379: 100%|██████████| 258/258 [00:01<00:00, 173.98it/s]\n",
      "Training Epoch 380: 100%|██████████| 258/258 [00:01<00:00, 179.99it/s]\n",
      "Training Epoch 381: 100%|██████████| 258/258 [00:01<00:00, 178.56it/s]\n"
     ]
    },
    {
     "name": "stdout",
     "output_type": "stream",
     "text": [
      "Epoch 380 - Train Loss: 0.1338, Train MSE: 0.1341, Train MAE: 0.2721\n",
      "Epoch 380 - Validation Loss: 1.8867, Validation MSE: 1.8851, Validation MAE: 1.0208\n"
     ]
    },
    {
     "name": "stderr",
     "output_type": "stream",
     "text": [
      "Training Epoch 382: 100%|██████████| 258/258 [00:01<00:00, 175.85it/s]\n",
      "Training Epoch 383: 100%|██████████| 258/258 [00:01<00:00, 177.29it/s]\n",
      "Training Epoch 384: 100%|██████████| 258/258 [00:01<00:00, 181.67it/s]\n",
      "Training Epoch 385: 100%|██████████| 258/258 [00:01<00:00, 182.94it/s]\n",
      "Training Epoch 386: 100%|██████████| 258/258 [00:01<00:00, 185.17it/s]\n",
      "Training Epoch 387: 100%|██████████| 258/258 [00:01<00:00, 181.50it/s]\n",
      "Training Epoch 388: 100%|██████████| 258/258 [00:01<00:00, 185.27it/s]\n",
      "Training Epoch 389: 100%|██████████| 258/258 [00:01<00:00, 179.68it/s]\n",
      "Training Epoch 390: 100%|██████████| 258/258 [00:01<00:00, 185.43it/s]\n",
      "Training Epoch 391: 100%|██████████| 258/258 [00:01<00:00, 182.13it/s]\n"
     ]
    },
    {
     "name": "stdout",
     "output_type": "stream",
     "text": [
      "Epoch 390 - Train Loss: 0.1277, Train MSE: 0.1280, Train MAE: 0.2670\n",
      "Epoch 390 - Validation Loss: 1.8761, Validation MSE: 1.8743, Validation MAE: 1.0303\n"
     ]
    },
    {
     "name": "stderr",
     "output_type": "stream",
     "text": [
      "Training Epoch 392: 100%|██████████| 258/258 [00:01<00:00, 181.03it/s]\n",
      "Training Epoch 393: 100%|██████████| 258/258 [00:01<00:00, 185.43it/s]\n",
      "Training Epoch 394: 100%|██████████| 258/258 [00:01<00:00, 182.19it/s]\n",
      "Training Epoch 395: 100%|██████████| 258/258 [00:01<00:00, 181.80it/s]\n",
      "Training Epoch 396: 100%|██████████| 258/258 [00:01<00:00, 178.94it/s]\n",
      "Training Epoch 397: 100%|██████████| 258/258 [00:01<00:00, 174.63it/s]\n",
      "Training Epoch 398: 100%|██████████| 258/258 [00:01<00:00, 180.74it/s]\n",
      "Training Epoch 399: 100%|██████████| 258/258 [00:01<00:00, 176.94it/s]\n",
      "Training Epoch 400: 100%|██████████| 258/258 [00:01<00:00, 181.13it/s]\n",
      "Training Epoch 401: 100%|██████████| 258/258 [00:01<00:00, 181.79it/s]\n"
     ]
    },
    {
     "name": "stdout",
     "output_type": "stream",
     "text": [
      "Epoch 400 - Train Loss: 0.1260, Train MSE: 0.1259, Train MAE: 0.2647\n",
      "Epoch 400 - Validation Loss: 1.8828, Validation MSE: 1.8804, Validation MAE: 1.0308\n"
     ]
    },
    {
     "name": "stderr",
     "output_type": "stream",
     "text": [
      "Training Epoch 402: 100%|██████████| 258/258 [00:01<00:00, 178.76it/s]\n",
      "Training Epoch 403: 100%|██████████| 258/258 [00:01<00:00, 184.27it/s]\n",
      "Training Epoch 404: 100%|██████████| 258/258 [00:01<00:00, 179.87it/s]\n",
      "Training Epoch 405: 100%|██████████| 258/258 [00:01<00:00, 181.27it/s]\n",
      "Training Epoch 406: 100%|██████████| 258/258 [00:01<00:00, 181.45it/s]\n",
      "Training Epoch 407: 100%|██████████| 258/258 [00:01<00:00, 186.39it/s]\n",
      "Training Epoch 408: 100%|██████████| 258/258 [00:01<00:00, 176.06it/s]\n",
      "Training Epoch 409: 100%|██████████| 258/258 [00:01<00:00, 147.26it/s]\n",
      "Training Epoch 410: 100%|██████████| 258/258 [00:01<00:00, 171.33it/s]\n",
      "Training Epoch 411: 100%|██████████| 258/258 [00:01<00:00, 180.52it/s]\n"
     ]
    },
    {
     "name": "stdout",
     "output_type": "stream",
     "text": [
      "Epoch 410 - Train Loss: 0.1279, Train MSE: 0.1276, Train MAE: 0.2662\n",
      "Epoch 410 - Validation Loss: 1.8758, Validation MSE: 1.8714, Validation MAE: 1.0234\n"
     ]
    },
    {
     "name": "stderr",
     "output_type": "stream",
     "text": [
      "Training Epoch 412: 100%|██████████| 258/258 [00:01<00:00, 183.11it/s]\n",
      "Training Epoch 413: 100%|██████████| 258/258 [00:01<00:00, 181.82it/s]\n",
      "Training Epoch 414: 100%|██████████| 258/258 [00:01<00:00, 184.52it/s]\n",
      "Training Epoch 415: 100%|██████████| 258/258 [00:01<00:00, 183.39it/s]\n",
      "Training Epoch 416: 100%|██████████| 258/258 [00:01<00:00, 179.83it/s]\n",
      "Training Epoch 417: 100%|██████████| 258/258 [00:01<00:00, 182.58it/s]\n",
      "Training Epoch 418: 100%|██████████| 258/258 [00:01<00:00, 178.29it/s]\n",
      "Training Epoch 419: 100%|██████████| 258/258 [00:01<00:00, 166.65it/s]\n",
      "Training Epoch 420: 100%|██████████| 258/258 [00:01<00:00, 179.97it/s]\n",
      "Training Epoch 421: 100%|██████████| 258/258 [00:01<00:00, 182.85it/s]\n"
     ]
    },
    {
     "name": "stdout",
     "output_type": "stream",
     "text": [
      "Epoch 420 - Train Loss: 0.1291, Train MSE: 0.1292, Train MAE: 0.2663\n",
      "Epoch 420 - Validation Loss: 1.8388, Validation MSE: 1.8341, Validation MAE: 1.0125\n"
     ]
    },
    {
     "name": "stderr",
     "output_type": "stream",
     "text": [
      "Training Epoch 422: 100%|██████████| 258/258 [00:01<00:00, 183.07it/s]\n",
      "Training Epoch 423: 100%|██████████| 258/258 [00:01<00:00, 180.39it/s]\n",
      "Training Epoch 424: 100%|██████████| 258/258 [00:01<00:00, 181.17it/s]\n",
      "Training Epoch 425: 100%|██████████| 258/258 [00:01<00:00, 176.48it/s]\n",
      "Training Epoch 426: 100%|██████████| 258/258 [00:01<00:00, 182.18it/s]\n",
      "Training Epoch 427: 100%|██████████| 258/258 [00:01<00:00, 181.57it/s]\n",
      "Training Epoch 428: 100%|██████████| 258/258 [00:01<00:00, 182.61it/s]\n",
      "Training Epoch 429: 100%|██████████| 258/258 [00:01<00:00, 181.14it/s]\n",
      "Training Epoch 430: 100%|██████████| 258/258 [00:01<00:00, 183.13it/s]\n",
      "Training Epoch 431: 100%|██████████| 258/258 [00:01<00:00, 178.98it/s]\n"
     ]
    },
    {
     "name": "stdout",
     "output_type": "stream",
     "text": [
      "Epoch 430 - Train Loss: 0.1174, Train MSE: 0.1177, Train MAE: 0.2564\n",
      "Epoch 430 - Validation Loss: 1.8828, Validation MSE: 1.8769, Validation MAE: 1.0313\n"
     ]
    },
    {
     "name": "stderr",
     "output_type": "stream",
     "text": [
      "Training Epoch 432: 100%|██████████| 258/258 [00:01<00:00, 183.46it/s]\n",
      "Training Epoch 433: 100%|██████████| 258/258 [00:01<00:00, 177.96it/s]\n",
      "Training Epoch 434: 100%|██████████| 258/258 [00:01<00:00, 180.69it/s]\n",
      "Training Epoch 435: 100%|██████████| 258/258 [00:01<00:00, 183.31it/s]\n",
      "Training Epoch 436: 100%|██████████| 258/258 [00:01<00:00, 180.79it/s]\n",
      "Training Epoch 437: 100%|██████████| 258/258 [00:01<00:00, 184.08it/s]\n",
      "Training Epoch 438: 100%|██████████| 258/258 [00:01<00:00, 187.42it/s]\n",
      "Training Epoch 439: 100%|██████████| 258/258 [00:01<00:00, 180.16it/s]\n",
      "Training Epoch 440: 100%|██████████| 258/258 [00:01<00:00, 182.69it/s]\n",
      "Training Epoch 441: 100%|██████████| 258/258 [00:01<00:00, 181.89it/s]\n"
     ]
    },
    {
     "name": "stdout",
     "output_type": "stream",
     "text": [
      "Epoch 440 - Train Loss: 0.1188, Train MSE: 0.1186, Train MAE: 0.2588\n",
      "Epoch 440 - Validation Loss: 1.8505, Validation MSE: 1.8448, Validation MAE: 1.0142\n"
     ]
    },
    {
     "name": "stderr",
     "output_type": "stream",
     "text": [
      "Training Epoch 442: 100%|██████████| 258/258 [00:01<00:00, 180.35it/s]\n",
      "Training Epoch 443: 100%|██████████| 258/258 [00:01<00:00, 168.77it/s]\n",
      "Training Epoch 444: 100%|██████████| 258/258 [00:01<00:00, 181.09it/s]\n",
      "Training Epoch 445: 100%|██████████| 258/258 [00:01<00:00, 186.42it/s]\n",
      "Training Epoch 446: 100%|██████████| 258/258 [00:01<00:00, 175.48it/s]\n",
      "Training Epoch 447: 100%|██████████| 258/258 [00:01<00:00, 170.92it/s]\n",
      "Training Epoch 448: 100%|██████████| 258/258 [00:01<00:00, 174.78it/s]\n",
      "Training Epoch 449: 100%|██████████| 258/258 [00:01<00:00, 173.48it/s]\n",
      "Training Epoch 450: 100%|██████████| 258/258 [00:01<00:00, 174.72it/s]\n",
      "Training Epoch 451: 100%|██████████| 258/258 [00:01<00:00, 174.60it/s]\n"
     ]
    },
    {
     "name": "stdout",
     "output_type": "stream",
     "text": [
      "Epoch 450 - Train Loss: 0.1146, Train MSE: 0.1146, Train MAE: 0.2506\n",
      "Epoch 450 - Validation Loss: 1.8664, Validation MSE: 1.8623, Validation MAE: 1.0208\n"
     ]
    },
    {
     "name": "stderr",
     "output_type": "stream",
     "text": [
      "Training Epoch 452: 100%|██████████| 258/258 [00:01<00:00, 182.95it/s]\n",
      "Training Epoch 453: 100%|██████████| 258/258 [00:01<00:00, 183.35it/s]\n",
      "Training Epoch 454: 100%|██████████| 258/258 [00:01<00:00, 174.60it/s]\n",
      "Training Epoch 455: 100%|██████████| 258/258 [00:01<00:00, 184.19it/s]\n",
      "Training Epoch 456: 100%|██████████| 258/258 [00:01<00:00, 175.55it/s]\n",
      "Training Epoch 457: 100%|██████████| 258/258 [00:01<00:00, 181.42it/s]\n",
      "Training Epoch 458: 100%|██████████| 258/258 [00:01<00:00, 173.11it/s]\n",
      "Training Epoch 459: 100%|██████████| 258/258 [00:01<00:00, 185.14it/s]\n",
      "Training Epoch 460: 100%|██████████| 258/258 [00:01<00:00, 180.00it/s]\n",
      "Training Epoch 461: 100%|██████████| 258/258 [00:01<00:00, 181.21it/s]\n"
     ]
    },
    {
     "name": "stdout",
     "output_type": "stream",
     "text": [
      "Epoch 460 - Train Loss: 0.1146, Train MSE: 0.1147, Train MAE: 0.2529\n",
      "Epoch 460 - Validation Loss: 1.8532, Validation MSE: 1.8535, Validation MAE: 1.0229\n"
     ]
    },
    {
     "name": "stderr",
     "output_type": "stream",
     "text": [
      "Training Epoch 462: 100%|██████████| 258/258 [00:01<00:00, 182.24it/s]\n",
      "Training Epoch 463: 100%|██████████| 258/258 [00:01<00:00, 182.04it/s]\n",
      "Training Epoch 464: 100%|██████████| 258/258 [00:01<00:00, 180.38it/s]\n",
      "Training Epoch 465: 100%|██████████| 258/258 [00:01<00:00, 183.20it/s]\n",
      "Training Epoch 466: 100%|██████████| 258/258 [00:01<00:00, 181.99it/s]\n",
      "Training Epoch 467: 100%|██████████| 258/258 [00:01<00:00, 179.10it/s]\n",
      "Training Epoch 468: 100%|██████████| 258/258 [00:01<00:00, 180.78it/s]\n",
      "Training Epoch 469: 100%|██████████| 258/258 [00:01<00:00, 181.75it/s]\n",
      "Training Epoch 470: 100%|██████████| 258/258 [00:01<00:00, 181.28it/s]\n",
      "Training Epoch 471: 100%|██████████| 258/258 [00:01<00:00, 177.83it/s]\n"
     ]
    },
    {
     "name": "stdout",
     "output_type": "stream",
     "text": [
      "Epoch 470 - Train Loss: 0.1122, Train MSE: 0.1123, Train MAE: 0.2521\n",
      "Epoch 470 - Validation Loss: 1.8370, Validation MSE: 1.8314, Validation MAE: 1.0142\n"
     ]
    },
    {
     "name": "stderr",
     "output_type": "stream",
     "text": [
      "Training Epoch 472: 100%|██████████| 258/258 [00:01<00:00, 180.99it/s]\n",
      "Training Epoch 473: 100%|██████████| 258/258 [00:01<00:00, 179.96it/s]\n",
      "Training Epoch 474: 100%|██████████| 258/258 [00:01<00:00, 178.23it/s]\n",
      "Training Epoch 475: 100%|██████████| 258/258 [00:01<00:00, 151.77it/s]\n",
      "Training Epoch 476: 100%|██████████| 258/258 [00:01<00:00, 172.14it/s]\n",
      "Training Epoch 477: 100%|██████████| 258/258 [00:01<00:00, 173.51it/s]\n",
      "Training Epoch 478: 100%|██████████| 258/258 [00:01<00:00, 174.79it/s]\n",
      "Training Epoch 479: 100%|██████████| 258/258 [00:01<00:00, 178.16it/s]\n",
      "Training Epoch 480: 100%|██████████| 258/258 [00:01<00:00, 178.39it/s]\n",
      "Training Epoch 481: 100%|██████████| 258/258 [00:01<00:00, 176.15it/s]\n"
     ]
    },
    {
     "name": "stdout",
     "output_type": "stream",
     "text": [
      "Epoch 480 - Train Loss: 0.1121, Train MSE: 0.1123, Train MAE: 0.2485\n",
      "Epoch 480 - Validation Loss: 1.8259, Validation MSE: 1.8203, Validation MAE: 1.0122\n"
     ]
    },
    {
     "name": "stderr",
     "output_type": "stream",
     "text": [
      "Training Epoch 482: 100%|██████████| 258/258 [00:01<00:00, 176.83it/s]\n",
      "Training Epoch 483: 100%|██████████| 258/258 [00:01<00:00, 178.68it/s]\n",
      "Training Epoch 484: 100%|██████████| 258/258 [00:01<00:00, 178.46it/s]\n",
      "Training Epoch 485: 100%|██████████| 258/258 [00:01<00:00, 176.72it/s]\n",
      "Training Epoch 486: 100%|██████████| 258/258 [00:01<00:00, 178.46it/s]\n",
      "Training Epoch 487: 100%|██████████| 258/258 [00:01<00:00, 178.31it/s]\n",
      "Training Epoch 488: 100%|██████████| 258/258 [00:01<00:00, 177.53it/s]\n",
      "Training Epoch 489: 100%|██████████| 258/258 [00:01<00:00, 174.71it/s]\n",
      "Training Epoch 490: 100%|██████████| 258/258 [00:01<00:00, 180.00it/s]\n",
      "Training Epoch 491: 100%|██████████| 258/258 [00:01<00:00, 176.78it/s]\n"
     ]
    },
    {
     "name": "stdout",
     "output_type": "stream",
     "text": [
      "Epoch 490 - Train Loss: 0.1087, Train MSE: 0.1086, Train MAE: 0.2441\n",
      "Epoch 490 - Validation Loss: 1.8634, Validation MSE: 1.8611, Validation MAE: 1.0255\n"
     ]
    },
    {
     "name": "stderr",
     "output_type": "stream",
     "text": [
      "Training Epoch 492: 100%|██████████| 258/258 [00:01<00:00, 174.19it/s]\n",
      "Training Epoch 493: 100%|██████████| 258/258 [00:01<00:00, 178.60it/s]\n",
      "Training Epoch 494: 100%|██████████| 258/258 [00:01<00:00, 175.26it/s]\n",
      "Training Epoch 495: 100%|██████████| 258/258 [00:01<00:00, 180.97it/s]\n",
      "Training Epoch 496: 100%|██████████| 258/258 [00:01<00:00, 174.00it/s]\n",
      "Training Epoch 497: 100%|██████████| 258/258 [00:01<00:00, 160.06it/s]\n",
      "Training Epoch 498: 100%|██████████| 258/258 [00:01<00:00, 178.55it/s]\n",
      "Training Epoch 499: 100%|██████████| 258/258 [00:01<00:00, 180.34it/s]\n",
      "Training Epoch 500: 100%|██████████| 258/258 [00:01<00:00, 178.73it/s]\n",
      "Training Epoch 501: 100%|██████████| 258/258 [00:01<00:00, 175.18it/s]\n"
     ]
    },
    {
     "name": "stdout",
     "output_type": "stream",
     "text": [
      "Epoch 500 - Train Loss: 0.1130, Train MSE: 0.1133, Train MAE: 0.2455\n",
      "Epoch 500 - Validation Loss: 1.8693, Validation MSE: 1.8687, Validation MAE: 1.0290\n"
     ]
    },
    {
     "name": "stderr",
     "output_type": "stream",
     "text": [
      "Training Epoch 502: 100%|██████████| 258/258 [00:01<00:00, 171.02it/s]\n",
      "Training Epoch 503: 100%|██████████| 258/258 [00:01<00:00, 179.51it/s]\n",
      "Training Epoch 504: 100%|██████████| 258/258 [00:01<00:00, 176.51it/s]\n",
      "Training Epoch 505: 100%|██████████| 258/258 [00:01<00:00, 177.62it/s]\n",
      "Training Epoch 506: 100%|██████████| 258/258 [00:01<00:00, 174.81it/s]\n",
      "Training Epoch 507: 100%|██████████| 258/258 [00:01<00:00, 176.77it/s]\n",
      "Training Epoch 508: 100%|██████████| 258/258 [00:01<00:00, 179.98it/s]\n",
      "Training Epoch 509: 100%|██████████| 258/258 [00:01<00:00, 178.83it/s]\n",
      "Training Epoch 510: 100%|██████████| 258/258 [00:01<00:00, 177.90it/s]\n",
      "Training Epoch 511: 100%|██████████| 258/258 [00:01<00:00, 178.16it/s]\n"
     ]
    },
    {
     "name": "stdout",
     "output_type": "stream",
     "text": [
      "Epoch 510 - Train Loss: 0.1102, Train MSE: 0.1091, Train MAE: 0.2446\n",
      "Epoch 510 - Validation Loss: 1.8541, Validation MSE: 1.8498, Validation MAE: 1.0230\n"
     ]
    },
    {
     "name": "stderr",
     "output_type": "stream",
     "text": [
      "Training Epoch 512: 100%|██████████| 258/258 [00:01<00:00, 172.32it/s]\n",
      "Training Epoch 513: 100%|██████████| 258/258 [00:01<00:00, 179.83it/s]\n",
      "Training Epoch 514: 100%|██████████| 258/258 [00:01<00:00, 179.73it/s]\n",
      "Training Epoch 515: 100%|██████████| 258/258 [00:01<00:00, 177.11it/s]\n",
      "Training Epoch 516: 100%|██████████| 258/258 [00:01<00:00, 177.19it/s]\n",
      "Training Epoch 517: 100%|██████████| 258/258 [00:01<00:00, 170.53it/s]\n",
      "Training Epoch 518: 100%|██████████| 258/258 [00:01<00:00, 174.75it/s]\n",
      "Training Epoch 519: 100%|██████████| 258/258 [00:01<00:00, 179.39it/s]\n",
      "Training Epoch 520: 100%|██████████| 258/258 [00:01<00:00, 176.10it/s]\n",
      "Training Epoch 521: 100%|██████████| 258/258 [00:01<00:00, 176.73it/s]\n"
     ]
    },
    {
     "name": "stdout",
     "output_type": "stream",
     "text": [
      "Epoch 520 - Train Loss: 0.1126, Train MSE: 0.1128, Train MAE: 0.2483\n",
      "Epoch 520 - Validation Loss: 1.8730, Validation MSE: 1.8653, Validation MAE: 1.0260\n"
     ]
    },
    {
     "name": "stderr",
     "output_type": "stream",
     "text": [
      "Training Epoch 522: 100%|██████████| 258/258 [00:01<00:00, 172.16it/s]\n",
      "Training Epoch 523: 100%|██████████| 258/258 [00:01<00:00, 177.28it/s]\n",
      "Training Epoch 524: 100%|██████████| 258/258 [00:01<00:00, 177.97it/s]\n",
      "Training Epoch 525: 100%|██████████| 258/258 [00:01<00:00, 177.46it/s]\n",
      "Training Epoch 526: 100%|██████████| 258/258 [00:01<00:00, 172.94it/s]\n",
      "Training Epoch 527: 100%|██████████| 258/258 [00:01<00:00, 174.99it/s]\n",
      "Training Epoch 528: 100%|██████████| 258/258 [00:01<00:00, 172.16it/s]\n",
      "Training Epoch 529: 100%|██████████| 258/258 [00:01<00:00, 178.23it/s]\n",
      "Training Epoch 530: 100%|██████████| 258/258 [00:01<00:00, 178.01it/s]\n",
      "Training Epoch 531: 100%|██████████| 258/258 [00:01<00:00, 179.60it/s]\n"
     ]
    },
    {
     "name": "stdout",
     "output_type": "stream",
     "text": [
      "Epoch 530 - Train Loss: 0.1038, Train MSE: 0.1038, Train MAE: 0.2395\n",
      "Epoch 530 - Validation Loss: 1.9215, Validation MSE: 1.9130, Validation MAE: 1.0355\n"
     ]
    },
    {
     "name": "stderr",
     "output_type": "stream",
     "text": [
      "Training Epoch 532: 100%|██████████| 258/258 [00:01<00:00, 172.67it/s]\n",
      "Training Epoch 533: 100%|██████████| 258/258 [00:01<00:00, 177.38it/s]\n",
      "Training Epoch 534: 100%|██████████| 258/258 [00:01<00:00, 174.17it/s]\n",
      "Training Epoch 535: 100%|██████████| 258/258 [00:01<00:00, 174.88it/s]\n",
      "Training Epoch 536: 100%|██████████| 258/258 [00:01<00:00, 163.49it/s]\n",
      "Training Epoch 537: 100%|██████████| 258/258 [00:01<00:00, 172.78it/s]\n",
      "Training Epoch 538: 100%|██████████| 258/258 [00:01<00:00, 179.73it/s]\n",
      "Training Epoch 539: 100%|██████████| 258/258 [00:01<00:00, 179.02it/s]\n",
      "Training Epoch 540: 100%|██████████| 258/258 [00:01<00:00, 160.81it/s]\n",
      "Training Epoch 541: 100%|██████████| 258/258 [00:01<00:00, 174.65it/s]\n"
     ]
    },
    {
     "name": "stdout",
     "output_type": "stream",
     "text": [
      "Epoch 540 - Train Loss: 0.1068, Train MSE: 0.1069, Train MAE: 0.2416\n",
      "Epoch 540 - Validation Loss: 1.8686, Validation MSE: 1.8549, Validation MAE: 1.0260\n"
     ]
    },
    {
     "name": "stderr",
     "output_type": "stream",
     "text": [
      "Training Epoch 542: 100%|██████████| 258/258 [00:01<00:00, 178.72it/s]\n",
      "Training Epoch 543: 100%|██████████| 258/258 [00:01<00:00, 172.30it/s]\n",
      "Training Epoch 544: 100%|██████████| 258/258 [00:01<00:00, 177.88it/s]\n",
      "Training Epoch 545: 100%|██████████| 258/258 [00:01<00:00, 182.27it/s]\n",
      "Training Epoch 546: 100%|██████████| 258/258 [00:01<00:00, 177.66it/s]\n",
      "Training Epoch 547: 100%|██████████| 258/258 [00:01<00:00, 179.17it/s]\n",
      "Training Epoch 548: 100%|██████████| 258/258 [00:01<00:00, 178.75it/s]\n",
      "Training Epoch 549: 100%|██████████| 258/258 [00:01<00:00, 172.22it/s]\n",
      "Training Epoch 550: 100%|██████████| 258/258 [00:01<00:00, 178.25it/s]\n",
      "Training Epoch 551: 100%|██████████| 258/258 [00:01<00:00, 178.15it/s]\n"
     ]
    },
    {
     "name": "stdout",
     "output_type": "stream",
     "text": [
      "Epoch 550 - Train Loss: 0.1025, Train MSE: 0.1026, Train MAE: 0.2383\n",
      "Epoch 550 - Validation Loss: 1.8314, Validation MSE: 1.8222, Validation MAE: 1.0121\n"
     ]
    },
    {
     "name": "stderr",
     "output_type": "stream",
     "text": [
      "Training Epoch 552: 100%|██████████| 258/258 [00:01<00:00, 175.77it/s]\n",
      "Training Epoch 553: 100%|██████████| 258/258 [00:01<00:00, 176.92it/s]\n",
      "Training Epoch 554: 100%|██████████| 258/258 [00:01<00:00, 177.29it/s]\n",
      "Training Epoch 555: 100%|██████████| 258/258 [00:01<00:00, 172.59it/s]\n",
      "Training Epoch 556: 100%|██████████| 258/258 [00:01<00:00, 181.46it/s]\n",
      "Training Epoch 557: 100%|██████████| 258/258 [00:01<00:00, 174.68it/s]\n",
      "Training Epoch 558: 100%|██████████| 258/258 [00:01<00:00, 175.82it/s]\n",
      "Training Epoch 559: 100%|██████████| 258/258 [00:01<00:00, 178.04it/s]\n",
      "Training Epoch 560: 100%|██████████| 258/258 [00:01<00:00, 173.93it/s]\n",
      "Training Epoch 561: 100%|██████████| 258/258 [00:01<00:00, 179.45it/s]\n"
     ]
    },
    {
     "name": "stdout",
     "output_type": "stream",
     "text": [
      "Epoch 560 - Train Loss: 0.1023, Train MSE: 0.1022, Train MAE: 0.2365\n",
      "Epoch 560 - Validation Loss: 1.8764, Validation MSE: 1.8710, Validation MAE: 1.0215\n"
     ]
    },
    {
     "name": "stderr",
     "output_type": "stream",
     "text": [
      "Training Epoch 562: 100%|██████████| 258/258 [00:01<00:00, 178.73it/s]\n",
      "Training Epoch 563: 100%|██████████| 258/258 [00:01<00:00, 182.93it/s]\n",
      "Training Epoch 564: 100%|██████████| 258/258 [00:01<00:00, 174.63it/s]\n",
      "Training Epoch 565: 100%|██████████| 258/258 [00:01<00:00, 178.38it/s]\n",
      "Training Epoch 566: 100%|██████████| 258/258 [00:01<00:00, 174.76it/s]\n",
      "Training Epoch 567: 100%|██████████| 258/258 [00:01<00:00, 177.81it/s]\n",
      "Training Epoch 568: 100%|██████████| 258/258 [00:01<00:00, 178.06it/s]\n",
      "Training Epoch 569: 100%|██████████| 258/258 [00:01<00:00, 178.54it/s]\n",
      "Training Epoch 570: 100%|██████████| 258/258 [00:01<00:00, 180.02it/s]\n",
      "Training Epoch 571: 100%|██████████| 258/258 [00:01<00:00, 179.65it/s]\n"
     ]
    },
    {
     "name": "stdout",
     "output_type": "stream",
     "text": [
      "Epoch 570 - Train Loss: 0.1027, Train MSE: 0.1027, Train MAE: 0.2353\n",
      "Epoch 570 - Validation Loss: 1.8539, Validation MSE: 1.8464, Validation MAE: 1.0177\n"
     ]
    },
    {
     "name": "stderr",
     "output_type": "stream",
     "text": [
      "Training Epoch 572: 100%|██████████| 258/258 [00:01<00:00, 176.96it/s]\n",
      "Training Epoch 573: 100%|██████████| 258/258 [00:01<00:00, 178.05it/s]\n",
      "Training Epoch 574: 100%|██████████| 258/258 [00:01<00:00, 178.53it/s]\n",
      "Training Epoch 575: 100%|██████████| 258/258 [00:01<00:00, 165.05it/s]\n",
      "Training Epoch 576: 100%|██████████| 258/258 [00:01<00:00, 179.90it/s]\n",
      "Training Epoch 577: 100%|██████████| 258/258 [00:01<00:00, 168.12it/s]\n",
      "Training Epoch 578: 100%|██████████| 258/258 [00:01<00:00, 169.43it/s]\n",
      "Training Epoch 579: 100%|██████████| 258/258 [00:01<00:00, 181.09it/s]\n",
      "Training Epoch 580: 100%|██████████| 258/258 [00:01<00:00, 179.17it/s]\n",
      "Training Epoch 581: 100%|██████████| 258/258 [00:01<00:00, 178.08it/s]\n"
     ]
    },
    {
     "name": "stdout",
     "output_type": "stream",
     "text": [
      "Epoch 580 - Train Loss: 0.1019, Train MSE: 0.1019, Train MAE: 0.2351\n",
      "Epoch 580 - Validation Loss: 1.8530, Validation MSE: 1.8476, Validation MAE: 1.0146\n"
     ]
    },
    {
     "name": "stderr",
     "output_type": "stream",
     "text": [
      "Training Epoch 582: 100%|██████████| 258/258 [00:01<00:00, 177.80it/s]\n",
      "Training Epoch 583: 100%|██████████| 258/258 [00:01<00:00, 185.17it/s]\n",
      "Training Epoch 584: 100%|██████████| 258/258 [00:01<00:00, 175.90it/s]\n",
      "Training Epoch 585: 100%|██████████| 258/258 [00:01<00:00, 177.76it/s]\n",
      "Training Epoch 586: 100%|██████████| 258/258 [00:01<00:00, 177.06it/s]\n",
      "Training Epoch 587: 100%|██████████| 258/258 [00:01<00:00, 176.22it/s]\n",
      "Training Epoch 588: 100%|██████████| 258/258 [00:01<00:00, 175.39it/s]\n",
      "Training Epoch 589: 100%|██████████| 258/258 [00:01<00:00, 175.92it/s]\n",
      "Training Epoch 590: 100%|██████████| 258/258 [00:01<00:00, 184.93it/s]\n",
      "Training Epoch 591: 100%|██████████| 258/258 [00:01<00:00, 179.74it/s]\n"
     ]
    },
    {
     "name": "stdout",
     "output_type": "stream",
     "text": [
      "Epoch 590 - Train Loss: 0.0973, Train MSE: 0.0973, Train MAE: 0.2296\n",
      "Epoch 590 - Validation Loss: 1.8375, Validation MSE: 1.8357, Validation MAE: 1.0119\n"
     ]
    },
    {
     "name": "stderr",
     "output_type": "stream",
     "text": [
      "Training Epoch 592: 100%|██████████| 258/258 [00:01<00:00, 173.63it/s]\n",
      "Training Epoch 593: 100%|██████████| 258/258 [00:01<00:00, 178.70it/s]\n",
      "Training Epoch 594: 100%|██████████| 258/258 [00:01<00:00, 178.45it/s]\n",
      "Training Epoch 595: 100%|██████████| 258/258 [00:01<00:00, 172.01it/s]\n",
      "Training Epoch 596: 100%|██████████| 258/258 [00:01<00:00, 178.12it/s]\n",
      "Training Epoch 597: 100%|██████████| 258/258 [00:01<00:00, 180.73it/s]\n",
      "Training Epoch 598: 100%|██████████| 258/258 [00:01<00:00, 168.39it/s]\n",
      "Training Epoch 599: 100%|██████████| 258/258 [00:01<00:00, 178.43it/s]\n",
      "Training Epoch 600: 100%|██████████| 258/258 [00:01<00:00, 176.80it/s]\n",
      "Training Epoch 601: 100%|██████████| 258/258 [00:01<00:00, 175.65it/s]\n"
     ]
    },
    {
     "name": "stdout",
     "output_type": "stream",
     "text": [
      "Epoch 600 - Train Loss: 0.0958, Train MSE: 0.0954, Train MAE: 0.2288\n",
      "Epoch 600 - Validation Loss: 1.8713, Validation MSE: 1.8600, Validation MAE: 1.0201\n"
     ]
    },
    {
     "name": "stderr",
     "output_type": "stream",
     "text": [
      "Training Epoch 602: 100%|██████████| 258/258 [00:01<00:00, 171.62it/s]\n",
      "Training Epoch 603: 100%|██████████| 258/258 [00:01<00:00, 175.47it/s]\n",
      "Training Epoch 604: 100%|██████████| 258/258 [00:01<00:00, 172.12it/s]\n",
      "Training Epoch 605: 100%|██████████| 258/258 [00:01<00:00, 174.58it/s]\n",
      "Training Epoch 606: 100%|██████████| 258/258 [00:01<00:00, 177.12it/s]\n",
      "Training Epoch 607: 100%|██████████| 258/258 [00:01<00:00, 179.56it/s]\n",
      "Training Epoch 608: 100%|██████████| 258/258 [00:01<00:00, 177.48it/s]\n",
      "Training Epoch 609: 100%|██████████| 258/258 [00:01<00:00, 177.67it/s]\n",
      "Training Epoch 610: 100%|██████████| 258/258 [00:01<00:00, 175.49it/s]\n",
      "Training Epoch 611: 100%|██████████| 258/258 [00:01<00:00, 181.53it/s]\n"
     ]
    },
    {
     "name": "stdout",
     "output_type": "stream",
     "text": [
      "Epoch 610 - Train Loss: 0.0988, Train MSE: 0.0988, Train MAE: 0.2323\n",
      "Epoch 610 - Validation Loss: 1.8248, Validation MSE: 1.8196, Validation MAE: 1.0086\n"
     ]
    },
    {
     "name": "stderr",
     "output_type": "stream",
     "text": [
      "Training Epoch 612: 100%|██████████| 258/258 [00:01<00:00, 175.84it/s]\n",
      "Training Epoch 613: 100%|██████████| 258/258 [00:01<00:00, 145.76it/s]\n",
      "Training Epoch 614: 100%|██████████| 258/258 [00:01<00:00, 173.00it/s]\n",
      "Training Epoch 615: 100%|██████████| 258/258 [00:01<00:00, 171.69it/s]\n",
      "Training Epoch 616: 100%|██████████| 258/258 [00:01<00:00, 177.74it/s]\n",
      "Training Epoch 617: 100%|██████████| 258/258 [00:01<00:00, 181.99it/s]\n",
      "Training Epoch 618: 100%|██████████| 258/258 [00:01<00:00, 161.82it/s]\n",
      "Training Epoch 619: 100%|██████████| 258/258 [00:01<00:00, 175.49it/s]\n",
      "Training Epoch 620: 100%|██████████| 258/258 [00:01<00:00, 180.52it/s]\n",
      "Training Epoch 621: 100%|██████████| 258/258 [00:01<00:00, 179.03it/s]\n"
     ]
    },
    {
     "name": "stdout",
     "output_type": "stream",
     "text": [
      "Epoch 620 - Train Loss: 0.0953, Train MSE: 0.0954, Train MAE: 0.2275\n",
      "Epoch 620 - Validation Loss: 1.8613, Validation MSE: 1.8512, Validation MAE: 1.0196\n"
     ]
    },
    {
     "name": "stderr",
     "output_type": "stream",
     "text": [
      "Training Epoch 622: 100%|██████████| 258/258 [00:01<00:00, 170.49it/s]\n",
      "Training Epoch 623: 100%|██████████| 258/258 [00:01<00:00, 178.65it/s]\n",
      "Training Epoch 624: 100%|██████████| 258/258 [00:01<00:00, 181.02it/s]\n",
      "Training Epoch 625: 100%|██████████| 258/258 [00:01<00:00, 172.81it/s]\n",
      "Training Epoch 626: 100%|██████████| 258/258 [00:01<00:00, 178.61it/s]\n",
      "Training Epoch 627: 100%|██████████| 258/258 [00:01<00:00, 177.12it/s]\n",
      "Training Epoch 628: 100%|██████████| 258/258 [00:01<00:00, 179.50it/s]\n",
      "Training Epoch 629: 100%|██████████| 258/258 [00:01<00:00, 178.90it/s]\n",
      "Training Epoch 630: 100%|██████████| 258/258 [00:01<00:00, 176.34it/s]\n",
      "Training Epoch 631: 100%|██████████| 258/258 [00:01<00:00, 179.88it/s]\n"
     ]
    },
    {
     "name": "stdout",
     "output_type": "stream",
     "text": [
      "Epoch 630 - Train Loss: 0.0947, Train MSE: 0.0948, Train MAE: 0.2263\n",
      "Epoch 630 - Validation Loss: 1.8030, Validation MSE: 1.7936, Validation MAE: 1.0110\n"
     ]
    },
    {
     "name": "stderr",
     "output_type": "stream",
     "text": [
      "Training Epoch 632: 100%|██████████| 258/258 [00:01<00:00, 171.50it/s]\n",
      "Training Epoch 633: 100%|██████████| 258/258 [00:01<00:00, 175.47it/s]\n",
      "Training Epoch 634: 100%|██████████| 258/258 [00:01<00:00, 178.89it/s]\n",
      "Training Epoch 635: 100%|██████████| 258/258 [00:01<00:00, 176.69it/s]\n",
      "Training Epoch 636: 100%|██████████| 258/258 [00:01<00:00, 173.55it/s]\n",
      "Training Epoch 637: 100%|██████████| 258/258 [00:01<00:00, 177.77it/s]\n",
      "Training Epoch 638: 100%|██████████| 258/258 [00:01<00:00, 178.79it/s]\n",
      "Training Epoch 639: 100%|██████████| 258/258 [00:01<00:00, 177.69it/s]\n",
      "Training Epoch 640: 100%|██████████| 258/258 [00:01<00:00, 177.76it/s]\n",
      "Training Epoch 641: 100%|██████████| 258/258 [00:01<00:00, 174.90it/s]\n"
     ]
    },
    {
     "name": "stdout",
     "output_type": "stream",
     "text": [
      "Epoch 640 - Train Loss: 0.0969, Train MSE: 0.0969, Train MAE: 0.2276\n",
      "Epoch 640 - Validation Loss: 1.8387, Validation MSE: 1.8332, Validation MAE: 1.0153\n"
     ]
    },
    {
     "name": "stderr",
     "output_type": "stream",
     "text": [
      "Training Epoch 642: 100%|██████████| 258/258 [00:01<00:00, 176.19it/s]\n",
      "Training Epoch 643: 100%|██████████| 258/258 [00:01<00:00, 172.52it/s]\n",
      "Training Epoch 644: 100%|██████████| 258/258 [00:01<00:00, 174.83it/s]\n",
      "Training Epoch 645: 100%|██████████| 258/258 [00:01<00:00, 175.11it/s]\n",
      "Training Epoch 646: 100%|██████████| 258/258 [00:01<00:00, 175.77it/s]\n",
      "Training Epoch 647: 100%|██████████| 258/258 [00:01<00:00, 178.26it/s]\n",
      "Training Epoch 648: 100%|██████████| 258/258 [00:01<00:00, 178.23it/s]\n",
      "Training Epoch 649: 100%|██████████| 258/258 [00:01<00:00, 173.82it/s]\n",
      "Training Epoch 650: 100%|██████████| 258/258 [00:01<00:00, 174.32it/s]\n",
      "Training Epoch 651: 100%|██████████| 258/258 [00:01<00:00, 174.35it/s]\n"
     ]
    },
    {
     "name": "stdout",
     "output_type": "stream",
     "text": [
      "Epoch 650 - Train Loss: 0.0978, Train MSE: 0.0978, Train MAE: 0.2287\n",
      "Epoch 650 - Validation Loss: 1.8174, Validation MSE: 1.8060, Validation MAE: 1.0031\n"
     ]
    },
    {
     "name": "stderr",
     "output_type": "stream",
     "text": [
      "Training Epoch 652: 100%|██████████| 258/258 [00:01<00:00, 155.74it/s]\n",
      "Training Epoch 653: 100%|██████████| 258/258 [00:01<00:00, 181.02it/s]\n",
      "Training Epoch 654: 100%|██████████| 258/258 [00:01<00:00, 175.85it/s]\n",
      "Training Epoch 655: 100%|██████████| 258/258 [00:01<00:00, 179.64it/s]\n",
      "Training Epoch 656: 100%|██████████| 258/258 [00:01<00:00, 172.91it/s]\n",
      "Training Epoch 657: 100%|██████████| 258/258 [00:01<00:00, 178.69it/s]\n",
      "Training Epoch 658: 100%|██████████| 258/258 [00:01<00:00, 180.82it/s]\n",
      "Training Epoch 659: 100%|██████████| 258/258 [00:01<00:00, 175.74it/s]\n",
      "Training Epoch 660: 100%|██████████| 258/258 [00:01<00:00, 173.00it/s]\n",
      "Training Epoch 661: 100%|██████████| 258/258 [00:01<00:00, 177.02it/s]\n"
     ]
    },
    {
     "name": "stdout",
     "output_type": "stream",
     "text": [
      "Epoch 660 - Train Loss: 0.0933, Train MSE: 0.0933, Train MAE: 0.2244\n",
      "Epoch 660 - Validation Loss: 1.8199, Validation MSE: 1.8167, Validation MAE: 1.0125\n"
     ]
    },
    {
     "name": "stderr",
     "output_type": "stream",
     "text": [
      "Training Epoch 662: 100%|██████████| 258/258 [00:01<00:00, 171.43it/s]\n",
      "Training Epoch 663: 100%|██████████| 258/258 [00:01<00:00, 177.19it/s]\n",
      "Training Epoch 664: 100%|██████████| 258/258 [00:01<00:00, 175.78it/s]\n",
      "Training Epoch 665: 100%|██████████| 258/258 [00:01<00:00, 176.26it/s]\n",
      "Training Epoch 666: 100%|██████████| 258/258 [00:01<00:00, 178.10it/s]\n",
      "Training Epoch 667: 100%|██████████| 258/258 [00:01<00:00, 177.06it/s]\n",
      "Training Epoch 668: 100%|██████████| 258/258 [00:01<00:00, 176.65it/s]\n",
      "Training Epoch 669: 100%|██████████| 258/258 [00:01<00:00, 178.35it/s]\n",
      "Training Epoch 670: 100%|██████████| 258/258 [00:01<00:00, 178.37it/s]\n",
      "Training Epoch 671: 100%|██████████| 258/258 [00:01<00:00, 166.90it/s]\n"
     ]
    },
    {
     "name": "stdout",
     "output_type": "stream",
     "text": [
      "Epoch 670 - Train Loss: 0.0852, Train MSE: 0.0854, Train MAE: 0.2173\n",
      "Epoch 670 - Validation Loss: 1.8308, Validation MSE: 1.8241, Validation MAE: 1.0074\n"
     ]
    },
    {
     "name": "stderr",
     "output_type": "stream",
     "text": [
      "Training Epoch 672: 100%|██████████| 258/258 [00:01<00:00, 171.74it/s]\n",
      "Training Epoch 673: 100%|██████████| 258/258 [00:01<00:00, 182.36it/s]\n",
      "Training Epoch 674: 100%|██████████| 258/258 [00:01<00:00, 174.29it/s]\n",
      "Training Epoch 675: 100%|██████████| 258/258 [00:01<00:00, 174.08it/s]\n",
      "Training Epoch 676: 100%|██████████| 258/258 [00:01<00:00, 174.36it/s]\n",
      "Training Epoch 677: 100%|██████████| 258/258 [00:01<00:00, 167.50it/s]\n",
      "Training Epoch 678: 100%|██████████| 258/258 [00:01<00:00, 176.14it/s]\n",
      "Training Epoch 679: 100%|██████████| 258/258 [00:01<00:00, 177.48it/s]\n",
      "Training Epoch 680: 100%|██████████| 258/258 [00:01<00:00, 176.53it/s]\n",
      "Training Epoch 681: 100%|██████████| 258/258 [00:01<00:00, 174.43it/s]\n"
     ]
    },
    {
     "name": "stdout",
     "output_type": "stream",
     "text": [
      "Epoch 680 - Train Loss: 0.0961, Train MSE: 0.0963, Train MAE: 0.2266\n",
      "Epoch 680 - Validation Loss: 1.8415, Validation MSE: 1.8398, Validation MAE: 1.0153\n"
     ]
    },
    {
     "name": "stderr",
     "output_type": "stream",
     "text": [
      "Training Epoch 682: 100%|██████████| 258/258 [00:01<00:00, 171.94it/s]\n",
      "Training Epoch 683: 100%|██████████| 258/258 [00:01<00:00, 178.53it/s]\n",
      "Training Epoch 684: 100%|██████████| 258/258 [00:01<00:00, 177.87it/s]\n",
      "Training Epoch 685: 100%|██████████| 258/258 [00:01<00:00, 178.35it/s]\n",
      "Training Epoch 686: 100%|██████████| 258/258 [00:01<00:00, 176.87it/s]\n",
      "Training Epoch 687: 100%|██████████| 258/258 [00:01<00:00, 172.47it/s]\n",
      "Training Epoch 688: 100%|██████████| 258/258 [00:01<00:00, 178.86it/s]\n",
      "Training Epoch 689: 100%|██████████| 258/258 [00:01<00:00, 177.72it/s]\n",
      "Training Epoch 690: 100%|██████████| 258/258 [00:01<00:00, 168.11it/s]\n",
      "Training Epoch 691: 100%|██████████| 258/258 [00:01<00:00, 179.92it/s]\n"
     ]
    },
    {
     "name": "stdout",
     "output_type": "stream",
     "text": [
      "Epoch 690 - Train Loss: 0.0931, Train MSE: 0.0933, Train MAE: 0.2236\n",
      "Epoch 690 - Validation Loss: 1.8206, Validation MSE: 1.8140, Validation MAE: 1.0120\n"
     ]
    },
    {
     "name": "stderr",
     "output_type": "stream",
     "text": [
      "Training Epoch 692: 100%|██████████| 258/258 [00:01<00:00, 175.00it/s]\n",
      "Training Epoch 693: 100%|██████████| 258/258 [00:01<00:00, 179.45it/s]\n",
      "Training Epoch 694: 100%|██████████| 258/258 [00:01<00:00, 179.95it/s]\n",
      "Training Epoch 695: 100%|██████████| 258/258 [00:01<00:00, 177.78it/s]\n",
      "Training Epoch 696: 100%|██████████| 258/258 [00:01<00:00, 177.63it/s]\n",
      "Training Epoch 697: 100%|██████████| 258/258 [00:01<00:00, 180.09it/s]\n",
      "Training Epoch 698: 100%|██████████| 258/258 [00:01<00:00, 177.25it/s]\n",
      "Training Epoch 699: 100%|██████████| 258/258 [00:01<00:00, 180.19it/s]\n",
      "Training Epoch 700: 100%|██████████| 258/258 [00:01<00:00, 178.36it/s]\n",
      "Training Epoch 701: 100%|██████████| 258/258 [00:01<00:00, 176.79it/s]\n"
     ]
    },
    {
     "name": "stdout",
     "output_type": "stream",
     "text": [
      "Epoch 700 - Train Loss: 0.0857, Train MSE: 0.0859, Train MAE: 0.2154\n",
      "Epoch 700 - Validation Loss: 1.8224, Validation MSE: 1.8213, Validation MAE: 1.0117\n"
     ]
    },
    {
     "name": "stderr",
     "output_type": "stream",
     "text": [
      "Training Epoch 702: 100%|██████████| 258/258 [00:01<00:00, 174.59it/s]\n",
      "Training Epoch 703: 100%|██████████| 258/258 [00:01<00:00, 179.06it/s]\n",
      "Training Epoch 704: 100%|██████████| 258/258 [00:01<00:00, 177.51it/s]\n",
      "Training Epoch 705: 100%|██████████| 258/258 [00:01<00:00, 178.27it/s]\n",
      "Training Epoch 706: 100%|██████████| 258/258 [00:01<00:00, 181.45it/s]\n",
      "Training Epoch 707: 100%|██████████| 258/258 [00:01<00:00, 179.07it/s]\n",
      "Training Epoch 708: 100%|██████████| 258/258 [00:01<00:00, 175.34it/s]\n",
      "Training Epoch 709: 100%|██████████| 258/258 [00:01<00:00, 176.23it/s]\n",
      "Training Epoch 710: 100%|██████████| 258/258 [00:01<00:00, 173.25it/s]\n",
      "Training Epoch 711: 100%|██████████| 258/258 [00:01<00:00, 177.25it/s]\n"
     ]
    },
    {
     "name": "stdout",
     "output_type": "stream",
     "text": [
      "Epoch 710 - Train Loss: 0.0873, Train MSE: 0.0875, Train MAE: 0.2176\n",
      "Epoch 710 - Validation Loss: 1.8258, Validation MSE: 1.8188, Validation MAE: 1.0091\n"
     ]
    },
    {
     "name": "stderr",
     "output_type": "stream",
     "text": [
      "Training Epoch 712: 100%|██████████| 258/258 [00:01<00:00, 173.85it/s]\n",
      "Training Epoch 713: 100%|██████████| 258/258 [00:01<00:00, 168.60it/s]\n",
      "Training Epoch 714: 100%|██████████| 258/258 [00:01<00:00, 177.65it/s]\n",
      "Training Epoch 715: 100%|██████████| 258/258 [00:01<00:00, 176.36it/s]\n",
      "Training Epoch 716: 100%|██████████| 258/258 [00:01<00:00, 177.56it/s]\n",
      "Training Epoch 717: 100%|██████████| 258/258 [00:01<00:00, 180.07it/s]\n",
      "Training Epoch 718: 100%|██████████| 258/258 [00:01<00:00, 177.36it/s]\n",
      "Training Epoch 719: 100%|██████████| 258/258 [00:01<00:00, 178.77it/s]\n",
      "Training Epoch 720: 100%|██████████| 258/258 [00:01<00:00, 176.90it/s]\n",
      "Training Epoch 721: 100%|██████████| 258/258 [00:01<00:00, 178.72it/s]\n"
     ]
    },
    {
     "name": "stdout",
     "output_type": "stream",
     "text": [
      "Epoch 720 - Train Loss: 0.0870, Train MSE: 0.0869, Train MAE: 0.2181\n",
      "Epoch 720 - Validation Loss: 1.8296, Validation MSE: 1.8217, Validation MAE: 1.0131\n"
     ]
    },
    {
     "name": "stderr",
     "output_type": "stream",
     "text": [
      "Training Epoch 722: 100%|██████████| 258/258 [00:01<00:00, 178.80it/s]\n",
      "Training Epoch 723: 100%|██████████| 258/258 [00:01<00:00, 178.41it/s]\n",
      "Training Epoch 724: 100%|██████████| 258/258 [00:01<00:00, 177.09it/s]\n",
      "Training Epoch 725: 100%|██████████| 258/258 [00:01<00:00, 175.97it/s]\n",
      "Training Epoch 726: 100%|██████████| 258/258 [00:01<00:00, 182.08it/s]\n",
      "Training Epoch 727: 100%|██████████| 258/258 [00:01<00:00, 177.44it/s]\n",
      "Training Epoch 728: 100%|██████████| 258/258 [00:01<00:00, 180.72it/s]\n",
      "Training Epoch 729: 100%|██████████| 258/258 [00:01<00:00, 158.07it/s]\n",
      "Training Epoch 730: 100%|██████████| 258/258 [00:01<00:00, 174.34it/s]\n",
      "Training Epoch 731: 100%|██████████| 258/258 [00:01<00:00, 179.53it/s]\n"
     ]
    },
    {
     "name": "stdout",
     "output_type": "stream",
     "text": [
      "Epoch 730 - Train Loss: 0.0848, Train MSE: 0.0849, Train MAE: 0.2160\n",
      "Epoch 730 - Validation Loss: 1.8451, Validation MSE: 1.8389, Validation MAE: 1.0113\n"
     ]
    },
    {
     "name": "stderr",
     "output_type": "stream",
     "text": [
      "Training Epoch 732: 100%|██████████| 258/258 [00:01<00:00, 175.54it/s]\n",
      "Training Epoch 733: 100%|██████████| 258/258 [00:01<00:00, 178.47it/s]\n",
      "Training Epoch 734: 100%|██████████| 258/258 [00:01<00:00, 179.27it/s]\n",
      "Training Epoch 735: 100%|██████████| 258/258 [00:01<00:00, 177.43it/s]\n",
      "Training Epoch 736: 100%|██████████| 258/258 [00:01<00:00, 179.79it/s]\n",
      "Training Epoch 737: 100%|██████████| 258/258 [00:01<00:00, 176.17it/s]\n",
      "Training Epoch 738: 100%|██████████| 258/258 [00:01<00:00, 179.15it/s]\n",
      "Training Epoch 739: 100%|██████████| 258/258 [00:01<00:00, 175.25it/s]\n",
      "Training Epoch 740: 100%|██████████| 258/258 [00:01<00:00, 174.57it/s]\n",
      "Training Epoch 741: 100%|██████████| 258/258 [00:01<00:00, 174.85it/s]\n"
     ]
    },
    {
     "name": "stdout",
     "output_type": "stream",
     "text": [
      "Epoch 740 - Train Loss: 0.0864, Train MSE: 0.0864, Train MAE: 0.2141\n",
      "Epoch 740 - Validation Loss: 1.8527, Validation MSE: 1.8420, Validation MAE: 1.0187\n"
     ]
    },
    {
     "name": "stderr",
     "output_type": "stream",
     "text": [
      "Training Epoch 742: 100%|██████████| 258/258 [00:01<00:00, 174.93it/s]\n",
      "Training Epoch 743: 100%|██████████| 258/258 [00:01<00:00, 174.63it/s]\n",
      "Training Epoch 744: 100%|██████████| 258/258 [00:01<00:00, 173.84it/s]\n",
      "Training Epoch 745: 100%|██████████| 258/258 [00:01<00:00, 179.57it/s]\n",
      "Training Epoch 746: 100%|██████████| 258/258 [00:01<00:00, 173.70it/s]\n",
      "Training Epoch 747: 100%|██████████| 258/258 [00:01<00:00, 175.46it/s]\n",
      "Training Epoch 748: 100%|██████████| 258/258 [00:01<00:00, 181.04it/s]\n",
      "Training Epoch 749: 100%|██████████| 258/258 [00:01<00:00, 169.61it/s]\n",
      "Training Epoch 750: 100%|██████████| 258/258 [00:01<00:00, 176.42it/s]\n",
      "Training Epoch 751: 100%|██████████| 258/258 [00:01<00:00, 176.35it/s]\n"
     ]
    },
    {
     "name": "stdout",
     "output_type": "stream",
     "text": [
      "Epoch 750 - Train Loss: 0.0837, Train MSE: 0.0837, Train MAE: 0.2133\n",
      "Epoch 750 - Validation Loss: 1.8521, Validation MSE: 1.8429, Validation MAE: 1.0180\n"
     ]
    },
    {
     "name": "stderr",
     "output_type": "stream",
     "text": [
      "Training Epoch 752: 100%|██████████| 258/258 [00:01<00:00, 173.65it/s]\n",
      "Training Epoch 753: 100%|██████████| 258/258 [00:01<00:00, 176.35it/s]\n",
      "Training Epoch 754: 100%|██████████| 258/258 [00:01<00:00, 176.21it/s]\n",
      "Training Epoch 755: 100%|██████████| 258/258 [00:01<00:00, 179.52it/s]\n",
      "Training Epoch 756: 100%|██████████| 258/258 [00:01<00:00, 177.47it/s]\n",
      "Training Epoch 757: 100%|██████████| 258/258 [00:01<00:00, 174.22it/s]\n",
      "Training Epoch 758: 100%|██████████| 258/258 [00:01<00:00, 175.99it/s]\n",
      "Training Epoch 759: 100%|██████████| 258/258 [00:01<00:00, 181.14it/s]\n",
      "Training Epoch 760: 100%|██████████| 258/258 [00:01<00:00, 175.53it/s]\n",
      "Training Epoch 761: 100%|██████████| 258/258 [00:01<00:00, 176.89it/s]\n"
     ]
    },
    {
     "name": "stdout",
     "output_type": "stream",
     "text": [
      "Epoch 760 - Train Loss: 0.0843, Train MSE: 0.0844, Train MAE: 0.2121\n",
      "Epoch 760 - Validation Loss: 1.8649, Validation MSE: 1.8543, Validation MAE: 1.0210\n"
     ]
    },
    {
     "name": "stderr",
     "output_type": "stream",
     "text": [
      "Training Epoch 762: 100%|██████████| 258/258 [00:01<00:00, 179.83it/s]\n",
      "Training Epoch 763: 100%|██████████| 258/258 [00:01<00:00, 178.76it/s]\n",
      "Training Epoch 764: 100%|██████████| 258/258 [00:01<00:00, 173.95it/s]\n",
      "Training Epoch 765: 100%|██████████| 258/258 [00:01<00:00, 177.92it/s]\n",
      "Training Epoch 766: 100%|██████████| 258/258 [00:01<00:00, 175.95it/s]\n",
      "Training Epoch 767: 100%|██████████| 258/258 [00:01<00:00, 177.69it/s]\n",
      "Training Epoch 768: 100%|██████████| 258/258 [00:01<00:00, 165.32it/s]\n",
      "Training Epoch 769: 100%|██████████| 258/258 [00:01<00:00, 174.45it/s]\n",
      "Training Epoch 770: 100%|██████████| 258/258 [00:01<00:00, 175.94it/s]\n",
      "Training Epoch 771: 100%|██████████| 258/258 [00:01<00:00, 176.58it/s]\n"
     ]
    },
    {
     "name": "stdout",
     "output_type": "stream",
     "text": [
      "Epoch 770 - Train Loss: 0.0819, Train MSE: 0.0820, Train MAE: 0.2111\n",
      "Epoch 770 - Validation Loss: 1.8653, Validation MSE: 1.8553, Validation MAE: 1.0203\n"
     ]
    },
    {
     "name": "stderr",
     "output_type": "stream",
     "text": [
      "Training Epoch 772: 100%|██████████| 258/258 [00:01<00:00, 170.42it/s]\n",
      "Training Epoch 773: 100%|██████████| 258/258 [00:01<00:00, 178.03it/s]\n",
      "Training Epoch 774: 100%|██████████| 258/258 [00:01<00:00, 180.29it/s]\n",
      "Training Epoch 775: 100%|██████████| 258/258 [00:01<00:00, 176.44it/s]\n",
      "Training Epoch 776: 100%|██████████| 258/258 [00:01<00:00, 181.61it/s]\n",
      "Training Epoch 777: 100%|██████████| 258/258 [00:01<00:00, 177.65it/s]\n",
      "Training Epoch 778: 100%|██████████| 258/258 [00:01<00:00, 176.93it/s]\n",
      "Training Epoch 779: 100%|██████████| 258/258 [00:01<00:00, 180.18it/s]\n",
      "Training Epoch 780: 100%|██████████| 258/258 [00:01<00:00, 176.27it/s]\n",
      "Training Epoch 781: 100%|██████████| 258/258 [00:01<00:00, 178.49it/s]\n"
     ]
    },
    {
     "name": "stdout",
     "output_type": "stream",
     "text": [
      "Epoch 780 - Train Loss: 0.0799, Train MSE: 0.0799, Train MAE: 0.2093\n",
      "Epoch 780 - Validation Loss: 1.8687, Validation MSE: 1.8581, Validation MAE: 1.0176\n"
     ]
    },
    {
     "name": "stderr",
     "output_type": "stream",
     "text": [
      "Training Epoch 782: 100%|██████████| 258/258 [00:01<00:00, 178.38it/s]\n",
      "Training Epoch 783: 100%|██████████| 258/258 [00:01<00:00, 177.70it/s]\n",
      "Training Epoch 784: 100%|██████████| 258/258 [00:01<00:00, 178.12it/s]\n",
      "Training Epoch 785: 100%|██████████| 258/258 [00:01<00:00, 178.49it/s]\n",
      "Training Epoch 786: 100%|██████████| 258/258 [00:01<00:00, 180.86it/s]\n",
      "Training Epoch 787: 100%|██████████| 258/258 [00:01<00:00, 174.73it/s]\n",
      "Training Epoch 788: 100%|██████████| 258/258 [00:01<00:00, 173.64it/s]\n",
      "Training Epoch 789: 100%|██████████| 258/258 [00:01<00:00, 171.93it/s]\n",
      "Training Epoch 790: 100%|██████████| 258/258 [00:01<00:00, 176.39it/s]\n",
      "Training Epoch 791: 100%|██████████| 258/258 [00:01<00:00, 171.69it/s]\n"
     ]
    },
    {
     "name": "stdout",
     "output_type": "stream",
     "text": [
      "Epoch 790 - Train Loss: 0.0812, Train MSE: 0.0813, Train MAE: 0.2102\n",
      "Epoch 790 - Validation Loss: 1.8438, Validation MSE: 1.8341, Validation MAE: 1.0177\n"
     ]
    },
    {
     "name": "stderr",
     "output_type": "stream",
     "text": [
      "Training Epoch 792: 100%|██████████| 258/258 [00:01<00:00, 172.35it/s]\n",
      "Training Epoch 793: 100%|██████████| 258/258 [00:01<00:00, 176.09it/s]\n",
      "Training Epoch 794: 100%|██████████| 258/258 [00:01<00:00, 178.96it/s]\n",
      "Training Epoch 795: 100%|██████████| 258/258 [00:01<00:00, 176.31it/s]\n",
      "Training Epoch 796: 100%|██████████| 258/258 [00:01<00:00, 177.57it/s]\n",
      "Training Epoch 797: 100%|██████████| 258/258 [00:01<00:00, 177.01it/s]\n",
      "Training Epoch 798: 100%|██████████| 258/258 [00:01<00:00, 178.00it/s]\n",
      "Training Epoch 799: 100%|██████████| 258/258 [00:01<00:00, 177.61it/s]\n",
      "Training Epoch 800: 100%|██████████| 258/258 [00:01<00:00, 178.88it/s]\n",
      "Training Epoch 801: 100%|██████████| 258/258 [00:01<00:00, 176.10it/s]\n"
     ]
    },
    {
     "name": "stdout",
     "output_type": "stream",
     "text": [
      "Epoch 800 - Train Loss: 0.0832, Train MSE: 0.0833, Train MAE: 0.2107\n",
      "Epoch 800 - Validation Loss: 1.8330, Validation MSE: 1.8266, Validation MAE: 1.0121\n"
     ]
    },
    {
     "name": "stderr",
     "output_type": "stream",
     "text": [
      "Training Epoch 802: 100%|██████████| 258/258 [00:01<00:00, 177.42it/s]\n",
      "Training Epoch 803: 100%|██████████| 258/258 [00:01<00:00, 179.34it/s]\n",
      "Training Epoch 804: 100%|██████████| 258/258 [00:01<00:00, 178.81it/s]\n",
      "Training Epoch 805: 100%|██████████| 258/258 [00:01<00:00, 178.33it/s]\n",
      "Training Epoch 806: 100%|██████████| 258/258 [00:01<00:00, 175.71it/s]\n",
      "Training Epoch 807: 100%|██████████| 258/258 [00:01<00:00, 175.77it/s]\n",
      "Training Epoch 808: 100%|██████████| 258/258 [00:01<00:00, 178.78it/s]\n",
      "Training Epoch 809: 100%|██████████| 258/258 [00:01<00:00, 178.44it/s]\n",
      "Training Epoch 810: 100%|██████████| 258/258 [00:01<00:00, 180.30it/s]\n",
      "Training Epoch 811: 100%|██████████| 258/258 [00:01<00:00, 172.62it/s]\n"
     ]
    },
    {
     "name": "stdout",
     "output_type": "stream",
     "text": [
      "Epoch 810 - Train Loss: 0.0769, Train MSE: 0.0768, Train MAE: 0.2034\n",
      "Epoch 810 - Validation Loss: 1.8223, Validation MSE: 1.8127, Validation MAE: 1.0094\n"
     ]
    },
    {
     "name": "stderr",
     "output_type": "stream",
     "text": [
      "Training Epoch 812: 100%|██████████| 258/258 [00:01<00:00, 175.63it/s]\n",
      "Training Epoch 813: 100%|██████████| 258/258 [00:01<00:00, 177.26it/s]\n",
      "Training Epoch 814: 100%|██████████| 258/258 [00:01<00:00, 179.09it/s]\n",
      "Training Epoch 815: 100%|██████████| 258/258 [00:01<00:00, 177.14it/s]\n",
      "Training Epoch 816: 100%|██████████| 258/258 [00:01<00:00, 175.26it/s]\n",
      "Training Epoch 817: 100%|██████████| 258/258 [00:01<00:00, 179.45it/s]\n",
      "Training Epoch 818: 100%|██████████| 258/258 [00:01<00:00, 176.13it/s]\n",
      "Training Epoch 819: 100%|██████████| 258/258 [00:01<00:00, 175.29it/s]\n",
      "Training Epoch 820: 100%|██████████| 258/258 [00:01<00:00, 177.82it/s]\n",
      "Training Epoch 821: 100%|██████████| 258/258 [00:01<00:00, 178.12it/s]\n"
     ]
    },
    {
     "name": "stdout",
     "output_type": "stream",
     "text": [
      "Epoch 820 - Train Loss: 0.0785, Train MSE: 0.0783, Train MAE: 0.2060\n",
      "Epoch 820 - Validation Loss: 1.8396, Validation MSE: 1.8339, Validation MAE: 1.0097\n"
     ]
    },
    {
     "name": "stderr",
     "output_type": "stream",
     "text": [
      "Training Epoch 822: 100%|██████████| 258/258 [00:01<00:00, 169.07it/s]\n",
      "Training Epoch 823: 100%|██████████| 258/258 [00:01<00:00, 176.96it/s]\n",
      "Training Epoch 824: 100%|██████████| 258/258 [00:01<00:00, 178.45it/s]\n",
      "Training Epoch 825: 100%|██████████| 258/258 [00:01<00:00, 173.66it/s]\n",
      "Training Epoch 826: 100%|██████████| 258/258 [00:01<00:00, 173.65it/s]\n",
      "Training Epoch 827: 100%|██████████| 258/258 [00:01<00:00, 175.33it/s]\n",
      "Training Epoch 828: 100%|██████████| 258/258 [00:01<00:00, 179.59it/s]\n",
      "Training Epoch 829: 100%|██████████| 258/258 [00:01<00:00, 174.84it/s]\n",
      "Training Epoch 830: 100%|██████████| 258/258 [00:01<00:00, 175.75it/s]\n",
      "Training Epoch 831: 100%|██████████| 258/258 [00:01<00:00, 175.70it/s]\n"
     ]
    },
    {
     "name": "stdout",
     "output_type": "stream",
     "text": [
      "Epoch 830 - Train Loss: 0.0805, Train MSE: 0.0804, Train MAE: 0.2080\n",
      "Epoch 830 - Validation Loss: 1.8244, Validation MSE: 1.8158, Validation MAE: 1.0106\n"
     ]
    },
    {
     "name": "stderr",
     "output_type": "stream",
     "text": [
      "Training Epoch 832: 100%|██████████| 258/258 [00:01<00:00, 175.25it/s]\n",
      "Training Epoch 833: 100%|██████████| 258/258 [00:01<00:00, 174.42it/s]\n",
      "Training Epoch 834: 100%|██████████| 258/258 [00:01<00:00, 177.23it/s]\n",
      "Training Epoch 835: 100%|██████████| 258/258 [00:01<00:00, 175.89it/s]\n",
      "Training Epoch 836: 100%|██████████| 258/258 [00:01<00:00, 173.53it/s]\n",
      "Training Epoch 837: 100%|██████████| 258/258 [00:01<00:00, 177.78it/s]\n",
      "Training Epoch 838: 100%|██████████| 258/258 [00:01<00:00, 182.01it/s]\n",
      "Training Epoch 839: 100%|██████████| 258/258 [00:01<00:00, 176.05it/s]\n",
      "Training Epoch 840: 100%|██████████| 258/258 [00:01<00:00, 181.24it/s]\n",
      "Training Epoch 841: 100%|██████████| 258/258 [00:01<00:00, 175.91it/s]\n"
     ]
    },
    {
     "name": "stdout",
     "output_type": "stream",
     "text": [
      "Epoch 840 - Train Loss: 0.0789, Train MSE: 0.0790, Train MAE: 0.2061\n",
      "Epoch 840 - Validation Loss: 1.8381, Validation MSE: 1.8303, Validation MAE: 1.0136\n"
     ]
    },
    {
     "name": "stderr",
     "output_type": "stream",
     "text": [
      "Training Epoch 842: 100%|██████████| 258/258 [00:01<00:00, 173.80it/s]\n",
      "Training Epoch 843: 100%|██████████| 258/258 [00:01<00:00, 177.33it/s]\n",
      "Training Epoch 844: 100%|██████████| 258/258 [00:01<00:00, 176.40it/s]\n",
      "Training Epoch 845: 100%|██████████| 258/258 [00:01<00:00, 162.31it/s]\n",
      "Training Epoch 846: 100%|██████████| 258/258 [00:01<00:00, 177.20it/s]\n",
      "Training Epoch 847: 100%|██████████| 258/258 [00:01<00:00, 182.39it/s]\n",
      "Training Epoch 848: 100%|██████████| 258/258 [00:01<00:00, 179.69it/s]\n",
      "Training Epoch 849: 100%|██████████| 258/258 [00:01<00:00, 177.65it/s]\n",
      "Training Epoch 850: 100%|██████████| 258/258 [00:01<00:00, 178.05it/s]\n",
      "Training Epoch 851: 100%|██████████| 258/258 [00:01<00:00, 178.21it/s]\n"
     ]
    },
    {
     "name": "stdout",
     "output_type": "stream",
     "text": [
      "Epoch 850 - Train Loss: 0.0750, Train MSE: 0.0752, Train MAE: 0.2019\n",
      "Epoch 850 - Validation Loss: 1.8898, Validation MSE: 1.8803, Validation MAE: 1.0259\n"
     ]
    },
    {
     "name": "stderr",
     "output_type": "stream",
     "text": [
      "Training Epoch 852: 100%|██████████| 258/258 [00:01<00:00, 179.65it/s]\n",
      "Training Epoch 853: 100%|██████████| 258/258 [00:01<00:00, 176.85it/s]\n",
      "Training Epoch 854: 100%|██████████| 258/258 [00:01<00:00, 178.87it/s]\n",
      "Training Epoch 855: 100%|██████████| 258/258 [00:01<00:00, 180.21it/s]\n",
      "Training Epoch 856: 100%|██████████| 258/258 [00:01<00:00, 175.67it/s]\n",
      "Training Epoch 857: 100%|██████████| 258/258 [00:01<00:00, 166.63it/s]\n",
      "Training Epoch 858: 100%|██████████| 258/258 [00:01<00:00, 176.64it/s]\n",
      "Training Epoch 859: 100%|██████████| 258/258 [00:01<00:00, 179.01it/s]\n",
      "Training Epoch 860: 100%|██████████| 258/258 [00:01<00:00, 176.30it/s]\n",
      "Training Epoch 861: 100%|██████████| 258/258 [00:01<00:00, 179.77it/s]\n"
     ]
    },
    {
     "name": "stdout",
     "output_type": "stream",
     "text": [
      "Epoch 860 - Train Loss: 0.0782, Train MSE: 0.0783, Train MAE: 0.2040\n",
      "Epoch 860 - Validation Loss: 1.8173, Validation MSE: 1.8085, Validation MAE: 1.0043\n"
     ]
    },
    {
     "name": "stderr",
     "output_type": "stream",
     "text": [
      "Training Epoch 862: 100%|██████████| 258/258 [00:01<00:00, 174.82it/s]\n",
      "Training Epoch 863: 100%|██████████| 258/258 [00:01<00:00, 175.13it/s]\n",
      "Training Epoch 864: 100%|██████████| 258/258 [00:01<00:00, 175.83it/s]\n",
      "Training Epoch 865: 100%|██████████| 258/258 [00:01<00:00, 176.45it/s]\n",
      "Training Epoch 866: 100%|██████████| 258/258 [00:01<00:00, 178.46it/s]\n",
      "Training Epoch 867: 100%|██████████| 258/258 [00:01<00:00, 177.41it/s]\n",
      "Training Epoch 868: 100%|██████████| 258/258 [00:01<00:00, 177.50it/s]\n",
      "Training Epoch 869: 100%|██████████| 258/258 [00:01<00:00, 176.93it/s]\n",
      "Training Epoch 870: 100%|██████████| 258/258 [00:01<00:00, 176.46it/s]\n",
      "Training Epoch 871: 100%|██████████| 258/258 [00:01<00:00, 174.28it/s]\n"
     ]
    },
    {
     "name": "stdout",
     "output_type": "stream",
     "text": [
      "Epoch 870 - Train Loss: 0.0780, Train MSE: 0.0779, Train MAE: 0.2039\n",
      "Epoch 870 - Validation Loss: 1.8479, Validation MSE: 1.8436, Validation MAE: 1.0117\n"
     ]
    },
    {
     "name": "stderr",
     "output_type": "stream",
     "text": [
      "Training Epoch 872: 100%|██████████| 258/258 [00:01<00:00, 177.02it/s]\n",
      "Training Epoch 873: 100%|██████████| 258/258 [00:01<00:00, 174.89it/s]\n",
      "Training Epoch 874: 100%|██████████| 258/258 [00:01<00:00, 174.42it/s]\n",
      "Training Epoch 875: 100%|██████████| 258/258 [00:01<00:00, 177.32it/s]\n",
      "Training Epoch 876: 100%|██████████| 258/258 [00:01<00:00, 177.34it/s]\n",
      "Training Epoch 877: 100%|██████████| 258/258 [00:01<00:00, 177.35it/s]\n",
      "Training Epoch 878: 100%|██████████| 258/258 [00:01<00:00, 168.91it/s]\n",
      "Training Epoch 879: 100%|██████████| 258/258 [00:01<00:00, 177.28it/s]\n",
      "Training Epoch 880: 100%|██████████| 258/258 [00:01<00:00, 180.06it/s]\n",
      "Training Epoch 881: 100%|██████████| 258/258 [00:01<00:00, 173.43it/s]\n"
     ]
    },
    {
     "name": "stdout",
     "output_type": "stream",
     "text": [
      "Epoch 880 - Train Loss: 0.0755, Train MSE: 0.0755, Train MAE: 0.2019\n",
      "Epoch 880 - Validation Loss: 1.8374, Validation MSE: 1.8274, Validation MAE: 1.0106\n"
     ]
    },
    {
     "name": "stderr",
     "output_type": "stream",
     "text": [
      "Training Epoch 882: 100%|██████████| 258/258 [00:01<00:00, 177.08it/s]\n",
      "Training Epoch 883: 100%|██████████| 258/258 [00:01<00:00, 178.02it/s]\n",
      "Training Epoch 884: 100%|██████████| 258/258 [00:01<00:00, 156.14it/s]\n",
      "Training Epoch 885: 100%|██████████| 258/258 [00:01<00:00, 179.08it/s]\n",
      "Training Epoch 886: 100%|██████████| 258/258 [00:01<00:00, 174.20it/s]\n",
      "Training Epoch 887: 100%|██████████| 258/258 [00:01<00:00, 176.36it/s]\n",
      "Training Epoch 888: 100%|██████████| 258/258 [00:01<00:00, 179.12it/s]\n",
      "Training Epoch 889: 100%|██████████| 258/258 [00:01<00:00, 175.83it/s]\n",
      "Training Epoch 890: 100%|██████████| 258/258 [00:01<00:00, 179.24it/s]\n",
      "Training Epoch 891: 100%|██████████| 258/258 [00:01<00:00, 177.89it/s]\n"
     ]
    },
    {
     "name": "stdout",
     "output_type": "stream",
     "text": [
      "Epoch 890 - Train Loss: 0.0746, Train MSE: 0.0747, Train MAE: 0.2005\n",
      "Epoch 890 - Validation Loss: 1.8303, Validation MSE: 1.8236, Validation MAE: 1.0104\n"
     ]
    },
    {
     "name": "stderr",
     "output_type": "stream",
     "text": [
      "Training Epoch 892: 100%|██████████| 258/258 [00:01<00:00, 178.59it/s]\n",
      "Training Epoch 893: 100%|██████████| 258/258 [00:01<00:00, 179.49it/s]\n",
      "Training Epoch 894: 100%|██████████| 258/258 [00:01<00:00, 178.54it/s]\n",
      "Training Epoch 895: 100%|██████████| 258/258 [00:01<00:00, 177.02it/s]\n",
      "Training Epoch 896: 100%|██████████| 258/258 [00:01<00:00, 179.08it/s]\n",
      "Training Epoch 897: 100%|██████████| 258/258 [00:01<00:00, 177.62it/s]\n",
      "Training Epoch 898: 100%|██████████| 258/258 [00:01<00:00, 179.61it/s]\n",
      "Training Epoch 899: 100%|██████████| 258/258 [00:01<00:00, 176.10it/s]\n",
      "Training Epoch 900: 100%|██████████| 258/258 [00:01<00:00, 177.63it/s]\n",
      "Training Epoch 901: 100%|██████████| 258/258 [00:01<00:00, 177.21it/s]\n"
     ]
    },
    {
     "name": "stdout",
     "output_type": "stream",
     "text": [
      "Epoch 900 - Train Loss: 0.0755, Train MSE: 0.0757, Train MAE: 0.2014\n",
      "Epoch 900 - Validation Loss: 1.8291, Validation MSE: 1.8241, Validation MAE: 1.0096\n"
     ]
    },
    {
     "name": "stderr",
     "output_type": "stream",
     "text": [
      "Training Epoch 902: 100%|██████████| 258/258 [00:01<00:00, 176.44it/s]\n",
      "Training Epoch 903: 100%|██████████| 258/258 [00:01<00:00, 175.28it/s]\n",
      "Training Epoch 904: 100%|██████████| 258/258 [00:01<00:00, 174.31it/s]\n",
      "Training Epoch 905: 100%|██████████| 258/258 [00:01<00:00, 178.49it/s]\n",
      "Training Epoch 906: 100%|██████████| 258/258 [00:01<00:00, 173.67it/s]\n",
      "Training Epoch 907: 100%|██████████| 258/258 [00:01<00:00, 179.00it/s]\n",
      "Training Epoch 908: 100%|██████████| 258/258 [00:01<00:00, 177.28it/s]\n",
      "Training Epoch 909: 100%|██████████| 258/258 [00:01<00:00, 174.28it/s]\n",
      "Training Epoch 910: 100%|██████████| 258/258 [00:01<00:00, 178.65it/s]\n",
      "Training Epoch 911: 100%|██████████| 258/258 [00:01<00:00, 183.84it/s]\n"
     ]
    },
    {
     "name": "stdout",
     "output_type": "stream",
     "text": [
      "Epoch 910 - Train Loss: 0.0713, Train MSE: 0.0712, Train MAE: 0.1956\n",
      "Epoch 910 - Validation Loss: 1.8299, Validation MSE: 1.8166, Validation MAE: 1.0081\n"
     ]
    },
    {
     "name": "stderr",
     "output_type": "stream",
     "text": [
      "Training Epoch 912: 100%|██████████| 258/258 [00:01<00:00, 172.57it/s]\n",
      "Training Epoch 913: 100%|██████████| 258/258 [00:01<00:00, 175.42it/s]\n",
      "Training Epoch 914: 100%|██████████| 258/258 [00:01<00:00, 176.64it/s]\n",
      "Training Epoch 915: 100%|██████████| 258/258 [00:01<00:00, 176.16it/s]\n",
      "Training Epoch 916: 100%|██████████| 258/258 [00:01<00:00, 173.94it/s]\n",
      "Training Epoch 917: 100%|██████████| 258/258 [00:01<00:00, 174.44it/s]\n",
      "Training Epoch 918: 100%|██████████| 258/258 [00:01<00:00, 175.83it/s]\n",
      "Training Epoch 919: 100%|██████████| 258/258 [00:01<00:00, 178.69it/s]\n",
      "Training Epoch 920: 100%|██████████| 258/258 [00:01<00:00, 171.60it/s]\n",
      "Training Epoch 921: 100%|██████████| 258/258 [00:01<00:00, 176.95it/s]\n"
     ]
    },
    {
     "name": "stdout",
     "output_type": "stream",
     "text": [
      "Epoch 920 - Train Loss: 0.0740, Train MSE: 0.0742, Train MAE: 0.1997\n",
      "Epoch 920 - Validation Loss: 1.8317, Validation MSE: 1.8222, Validation MAE: 1.0091\n"
     ]
    },
    {
     "name": "stderr",
     "output_type": "stream",
     "text": [
      "Training Epoch 922: 100%|██████████| 258/258 [00:01<00:00, 175.47it/s]\n",
      "Training Epoch 923: 100%|██████████| 258/258 [00:01<00:00, 167.98it/s]\n",
      "Training Epoch 924: 100%|██████████| 258/258 [00:01<00:00, 173.02it/s]\n",
      "Training Epoch 925: 100%|██████████| 258/258 [00:01<00:00, 174.06it/s]\n",
      "Training Epoch 926: 100%|██████████| 258/258 [00:01<00:00, 175.97it/s]\n",
      "Training Epoch 927: 100%|██████████| 258/258 [00:01<00:00, 176.38it/s]\n",
      "Training Epoch 928: 100%|██████████| 258/258 [00:01<00:00, 179.41it/s]\n",
      "Training Epoch 929: 100%|██████████| 258/258 [00:01<00:00, 176.14it/s]\n",
      "Training Epoch 930: 100%|██████████| 258/258 [00:01<00:00, 178.63it/s]\n",
      "Training Epoch 931: 100%|██████████| 258/258 [00:01<00:00, 178.66it/s]\n"
     ]
    },
    {
     "name": "stdout",
     "output_type": "stream",
     "text": [
      "Epoch 930 - Train Loss: 0.0716, Train MSE: 0.0717, Train MAE: 0.1969\n",
      "Epoch 930 - Validation Loss: 1.8447, Validation MSE: 1.8358, Validation MAE: 1.0159\n"
     ]
    },
    {
     "name": "stderr",
     "output_type": "stream",
     "text": [
      "Training Epoch 932: 100%|██████████| 258/258 [00:01<00:00, 164.03it/s]\n",
      "Training Epoch 933: 100%|██████████| 258/258 [00:01<00:00, 177.14it/s]\n",
      "Training Epoch 934: 100%|██████████| 258/258 [00:01<00:00, 177.43it/s]\n",
      "Training Epoch 935: 100%|██████████| 258/258 [00:01<00:00, 168.83it/s]\n",
      "Training Epoch 936: 100%|██████████| 258/258 [00:01<00:00, 172.96it/s]\n",
      "Training Epoch 937: 100%|██████████| 258/258 [00:01<00:00, 177.52it/s]\n",
      "Training Epoch 938: 100%|██████████| 258/258 [00:01<00:00, 179.69it/s]\n",
      "Training Epoch 939: 100%|██████████| 258/258 [00:01<00:00, 177.70it/s]\n",
      "Training Epoch 940: 100%|██████████| 258/258 [00:01<00:00, 179.06it/s]\n",
      "Training Epoch 941: 100%|██████████| 258/258 [00:01<00:00, 176.08it/s]\n"
     ]
    },
    {
     "name": "stdout",
     "output_type": "stream",
     "text": [
      "Epoch 940 - Train Loss: 0.0742, Train MSE: 0.0744, Train MAE: 0.1997\n",
      "Epoch 940 - Validation Loss: 1.8621, Validation MSE: 1.8517, Validation MAE: 1.0209\n"
     ]
    },
    {
     "name": "stderr",
     "output_type": "stream",
     "text": [
      "Training Epoch 942: 100%|██████████| 258/258 [00:01<00:00, 166.83it/s]\n",
      "Training Epoch 943: 100%|██████████| 258/258 [00:01<00:00, 177.86it/s]\n",
      "Training Epoch 944: 100%|██████████| 258/258 [00:01<00:00, 177.91it/s]\n",
      "Training Epoch 945: 100%|██████████| 258/258 [00:01<00:00, 178.13it/s]\n",
      "Training Epoch 946: 100%|██████████| 258/258 [00:01<00:00, 177.44it/s]\n",
      "Training Epoch 947: 100%|██████████| 258/258 [00:01<00:00, 174.24it/s]\n",
      "Training Epoch 948: 100%|██████████| 258/258 [00:01<00:00, 180.23it/s]\n",
      "Training Epoch 949: 100%|██████████| 258/258 [00:01<00:00, 177.37it/s]\n",
      "Training Epoch 950: 100%|██████████| 258/258 [00:01<00:00, 173.94it/s]\n",
      "Training Epoch 951: 100%|██████████| 258/258 [00:01<00:00, 178.05it/s]\n"
     ]
    },
    {
     "name": "stdout",
     "output_type": "stream",
     "text": [
      "Epoch 950 - Train Loss: 0.0756, Train MSE: 0.0747, Train MAE: 0.1991\n",
      "Epoch 950 - Validation Loss: 1.8153, Validation MSE: 1.8083, Validation MAE: 1.0147\n"
     ]
    },
    {
     "name": "stderr",
     "output_type": "stream",
     "text": [
      "Training Epoch 952: 100%|██████████| 258/258 [00:01<00:00, 173.99it/s]\n",
      "Training Epoch 953: 100%|██████████| 258/258 [00:01<00:00, 174.76it/s]\n",
      "Training Epoch 954: 100%|██████████| 258/258 [00:01<00:00, 176.25it/s]\n",
      "Training Epoch 955: 100%|██████████| 258/258 [00:01<00:00, 177.32it/s]\n",
      "Training Epoch 956: 100%|██████████| 258/258 [00:01<00:00, 171.98it/s]\n",
      "Training Epoch 957: 100%|██████████| 258/258 [00:01<00:00, 177.90it/s]\n",
      "Training Epoch 958: 100%|██████████| 258/258 [00:01<00:00, 173.56it/s]\n",
      "Training Epoch 959: 100%|██████████| 258/258 [00:01<00:00, 178.67it/s]\n",
      "Training Epoch 960: 100%|██████████| 258/258 [00:01<00:00, 176.38it/s]\n",
      "Training Epoch 961: 100%|██████████| 258/258 [00:01<00:00, 158.23it/s]\n"
     ]
    },
    {
     "name": "stdout",
     "output_type": "stream",
     "text": [
      "Epoch 960 - Train Loss: 0.0697, Train MSE: 0.0695, Train MAE: 0.1933\n",
      "Epoch 960 - Validation Loss: 1.8666, Validation MSE: 1.8532, Validation MAE: 1.0222\n"
     ]
    },
    {
     "name": "stderr",
     "output_type": "stream",
     "text": [
      "Training Epoch 962: 100%|██████████| 258/258 [00:01<00:00, 175.54it/s]\n",
      "Training Epoch 963: 100%|██████████| 258/258 [00:01<00:00, 177.63it/s]\n",
      "Training Epoch 964: 100%|██████████| 258/258 [00:01<00:00, 175.99it/s]\n",
      "Training Epoch 965: 100%|██████████| 258/258 [00:01<00:00, 173.98it/s]\n",
      "Training Epoch 966: 100%|██████████| 258/258 [00:01<00:00, 174.63it/s]\n",
      "Training Epoch 967: 100%|██████████| 258/258 [00:01<00:00, 175.51it/s]\n",
      "Training Epoch 968: 100%|██████████| 258/258 [00:01<00:00, 174.81it/s]\n",
      "Training Epoch 969: 100%|██████████| 258/258 [00:01<00:00, 175.58it/s]\n",
      "Training Epoch 970: 100%|██████████| 258/258 [00:01<00:00, 177.89it/s]\n",
      "Training Epoch 971: 100%|██████████| 258/258 [00:01<00:00, 178.97it/s]\n"
     ]
    },
    {
     "name": "stdout",
     "output_type": "stream",
     "text": [
      "Epoch 970 - Train Loss: 0.0722, Train MSE: 0.0722, Train MAE: 0.1971\n",
      "Epoch 970 - Validation Loss: 1.8196, Validation MSE: 1.8067, Validation MAE: 1.0088\n"
     ]
    },
    {
     "name": "stderr",
     "output_type": "stream",
     "text": [
      "Training Epoch 972: 100%|██████████| 258/258 [00:01<00:00, 176.41it/s]\n",
      "Training Epoch 973: 100%|██████████| 258/258 [00:01<00:00, 175.68it/s]\n",
      "Training Epoch 974: 100%|██████████| 258/258 [00:01<00:00, 178.69it/s]\n",
      "Training Epoch 975: 100%|██████████| 258/258 [00:01<00:00, 177.09it/s]\n",
      "Training Epoch 976: 100%|██████████| 258/258 [00:01<00:00, 174.33it/s]\n",
      "Training Epoch 977: 100%|██████████| 258/258 [00:01<00:00, 179.38it/s]\n",
      "Training Epoch 978: 100%|██████████| 258/258 [00:01<00:00, 175.73it/s]\n",
      "Training Epoch 979: 100%|██████████| 258/258 [00:01<00:00, 177.17it/s]\n",
      "Training Epoch 980: 100%|██████████| 258/258 [00:01<00:00, 181.65it/s]\n",
      "Training Epoch 981: 100%|██████████| 258/258 [00:01<00:00, 176.51it/s]\n"
     ]
    },
    {
     "name": "stdout",
     "output_type": "stream",
     "text": [
      "Epoch 980 - Train Loss: 0.0742, Train MSE: 0.0744, Train MAE: 0.2001\n",
      "Epoch 980 - Validation Loss: 1.8741, Validation MSE: 1.8655, Validation MAE: 1.0225\n"
     ]
    },
    {
     "name": "stderr",
     "output_type": "stream",
     "text": [
      "Training Epoch 982: 100%|██████████| 258/258 [00:01<00:00, 175.42it/s]\n",
      "Training Epoch 983: 100%|██████████| 258/258 [00:01<00:00, 177.78it/s]\n",
      "Training Epoch 984: 100%|██████████| 258/258 [00:01<00:00, 174.04it/s]\n",
      "Training Epoch 985: 100%|██████████| 258/258 [00:01<00:00, 183.22it/s]\n",
      "Training Epoch 986: 100%|██████████| 258/258 [00:01<00:00, 178.70it/s]\n",
      "Training Epoch 987: 100%|██████████| 258/258 [00:01<00:00, 174.79it/s]\n",
      "Training Epoch 988: 100%|██████████| 258/258 [00:01<00:00, 180.86it/s]\n",
      "Training Epoch 989: 100%|██████████| 258/258 [00:01<00:00, 176.09it/s]\n",
      "Training Epoch 990: 100%|██████████| 258/258 [00:01<00:00, 181.26it/s]\n",
      "Training Epoch 991: 100%|██████████| 258/258 [00:01<00:00, 176.77it/s]\n"
     ]
    },
    {
     "name": "stdout",
     "output_type": "stream",
     "text": [
      "Epoch 990 - Train Loss: 0.0697, Train MSE: 0.0695, Train MAE: 0.1935\n",
      "Epoch 990 - Validation Loss: 1.8557, Validation MSE: 1.8449, Validation MAE: 1.0139\n"
     ]
    },
    {
     "name": "stderr",
     "output_type": "stream",
     "text": [
      "Training Epoch 992: 100%|██████████| 258/258 [00:01<00:00, 173.42it/s]\n",
      "Training Epoch 993: 100%|██████████| 258/258 [00:01<00:00, 181.24it/s]\n",
      "Training Epoch 994: 100%|██████████| 258/258 [00:01<00:00, 175.31it/s]\n",
      "Training Epoch 995: 100%|██████████| 258/258 [00:01<00:00, 176.50it/s]\n",
      "Training Epoch 996: 100%|██████████| 258/258 [00:01<00:00, 178.57it/s]\n",
      "Training Epoch 997: 100%|██████████| 258/258 [00:01<00:00, 175.90it/s]\n",
      "Training Epoch 998: 100%|██████████| 258/258 [00:01<00:00, 177.73it/s]\n",
      "Training Epoch 999: 100%|██████████| 258/258 [00:01<00:00, 172.47it/s]\n",
      "Training Epoch 1000: 100%|██████████| 258/258 [00:01<00:00, 163.85it/s]\n",
      "Training Epoch 1001: 100%|██████████| 258/258 [00:01<00:00, 180.04it/s]\n"
     ]
    },
    {
     "name": "stdout",
     "output_type": "stream",
     "text": [
      "Epoch 1000 - Train Loss: 0.0682, Train MSE: 0.0680, Train MAE: 0.1918\n",
      "Epoch 1000 - Validation Loss: 1.8439, Validation MSE: 1.8376, Validation MAE: 1.0193\n"
     ]
    },
    {
     "name": "stderr",
     "output_type": "stream",
     "text": [
      "Training Epoch 1002: 100%|██████████| 258/258 [00:01<00:00, 173.06it/s]\n",
      "Training Epoch 1003: 100%|██████████| 258/258 [00:01<00:00, 178.12it/s]\n",
      "Training Epoch 1004: 100%|██████████| 258/258 [00:01<00:00, 176.98it/s]\n",
      "Training Epoch 1005: 100%|██████████| 258/258 [00:01<00:00, 180.33it/s]\n",
      "Training Epoch 1006: 100%|██████████| 258/258 [00:01<00:00, 177.01it/s]\n",
      "Training Epoch 1007: 100%|██████████| 258/258 [00:01<00:00, 175.40it/s]\n",
      "Training Epoch 1008: 100%|██████████| 258/258 [00:01<00:00, 179.14it/s]\n",
      "Training Epoch 1009: 100%|██████████| 258/258 [00:01<00:00, 178.61it/s]\n",
      "Training Epoch 1010: 100%|██████████| 258/258 [00:01<00:00, 180.20it/s]\n",
      "Training Epoch 1011: 100%|██████████| 258/258 [00:01<00:00, 178.62it/s]\n"
     ]
    },
    {
     "name": "stdout",
     "output_type": "stream",
     "text": [
      "Epoch 1010 - Train Loss: 0.0685, Train MSE: 0.0686, Train MAE: 0.1920\n",
      "Epoch 1010 - Validation Loss: 1.8146, Validation MSE: 1.8025, Validation MAE: 1.0007\n"
     ]
    },
    {
     "name": "stderr",
     "output_type": "stream",
     "text": [
      "Training Epoch 1012: 100%|██████████| 258/258 [00:01<00:00, 173.77it/s]\n",
      "Training Epoch 1013: 100%|██████████| 258/258 [00:01<00:00, 177.75it/s]\n",
      "Training Epoch 1014: 100%|██████████| 258/258 [00:01<00:00, 183.00it/s]\n",
      "Training Epoch 1015: 100%|██████████| 258/258 [00:01<00:00, 178.11it/s]\n",
      "Training Epoch 1016: 100%|██████████| 258/258 [00:01<00:00, 177.83it/s]\n",
      "Training Epoch 1017: 100%|██████████| 258/258 [00:01<00:00, 179.87it/s]\n",
      "Training Epoch 1018: 100%|██████████| 258/258 [00:01<00:00, 175.02it/s]\n",
      "Training Epoch 1019: 100%|██████████| 258/258 [00:01<00:00, 175.36it/s]\n",
      "Training Epoch 1020: 100%|██████████| 258/258 [00:01<00:00, 177.22it/s]\n",
      "Training Epoch 1021: 100%|██████████| 258/258 [00:01<00:00, 178.08it/s]\n"
     ]
    },
    {
     "name": "stdout",
     "output_type": "stream",
     "text": [
      "Epoch 1020 - Train Loss: 0.0679, Train MSE: 0.0679, Train MAE: 0.1904\n",
      "Epoch 1020 - Validation Loss: 1.8398, Validation MSE: 1.8277, Validation MAE: 1.0089\n"
     ]
    },
    {
     "name": "stderr",
     "output_type": "stream",
     "text": [
      "Training Epoch 1022: 100%|██████████| 258/258 [00:01<00:00, 177.89it/s]\n",
      "Training Epoch 1023: 100%|██████████| 258/258 [00:01<00:00, 178.60it/s]\n",
      "Training Epoch 1024: 100%|██████████| 258/258 [00:01<00:00, 177.38it/s]\n",
      "Training Epoch 1025: 100%|██████████| 258/258 [00:01<00:00, 178.62it/s]\n",
      "Training Epoch 1026: 100%|██████████| 258/258 [00:01<00:00, 181.80it/s]\n",
      "Training Epoch 1027: 100%|██████████| 258/258 [00:01<00:00, 177.81it/s]\n",
      "Training Epoch 1028: 100%|██████████| 258/258 [00:01<00:00, 181.91it/s]\n",
      "Training Epoch 1029: 100%|██████████| 258/258 [00:01<00:00, 176.91it/s]\n",
      "Training Epoch 1030: 100%|██████████| 258/258 [00:01<00:00, 175.53it/s]\n",
      "Training Epoch 1031: 100%|██████████| 258/258 [00:01<00:00, 179.29it/s]\n"
     ]
    },
    {
     "name": "stdout",
     "output_type": "stream",
     "text": [
      "Epoch 1030 - Train Loss: 0.0666, Train MSE: 0.0661, Train MAE: 0.1893\n",
      "Epoch 1030 - Validation Loss: 1.8820, Validation MSE: 1.8713, Validation MAE: 1.0219\n"
     ]
    },
    {
     "name": "stderr",
     "output_type": "stream",
     "text": [
      "Training Epoch 1032: 100%|██████████| 258/258 [00:01<00:00, 176.42it/s]\n",
      "Training Epoch 1033: 100%|██████████| 258/258 [00:01<00:00, 174.52it/s]\n",
      "Training Epoch 1034: 100%|██████████| 258/258 [00:01<00:00, 181.85it/s]\n",
      "Training Epoch 1035: 100%|██████████| 258/258 [00:01<00:00, 173.75it/s]\n",
      "Training Epoch 1036: 100%|██████████| 258/258 [00:01<00:00, 168.68it/s]\n",
      "Training Epoch 1037: 100%|██████████| 258/258 [00:01<00:00, 178.70it/s]\n",
      "Training Epoch 1038: 100%|██████████| 258/258 [00:01<00:00, 174.70it/s]\n",
      "Training Epoch 1039: 100%|██████████| 258/258 [00:01<00:00, 160.91it/s]\n",
      "Training Epoch 1040: 100%|██████████| 258/258 [00:01<00:00, 179.45it/s]\n",
      "Training Epoch 1041: 100%|██████████| 258/258 [00:01<00:00, 180.97it/s]\n"
     ]
    },
    {
     "name": "stdout",
     "output_type": "stream",
     "text": [
      "Epoch 1040 - Train Loss: 0.0696, Train MSE: 0.0697, Train MAE: 0.1926\n",
      "Epoch 1040 - Validation Loss: 1.8360, Validation MSE: 1.8265, Validation MAE: 1.0134\n"
     ]
    },
    {
     "name": "stderr",
     "output_type": "stream",
     "text": [
      "Training Epoch 1042: 100%|██████████| 258/258 [00:01<00:00, 176.03it/s]\n",
      "Training Epoch 1043: 100%|██████████| 258/258 [00:01<00:00, 178.76it/s]\n",
      "Training Epoch 1044: 100%|██████████| 258/258 [00:01<00:00, 183.69it/s]\n",
      "Training Epoch 1045: 100%|██████████| 258/258 [00:01<00:00, 178.41it/s]\n",
      "Training Epoch 1046: 100%|██████████| 258/258 [00:01<00:00, 182.30it/s]\n",
      "Training Epoch 1047: 100%|██████████| 258/258 [00:01<00:00, 185.24it/s]\n",
      "Training Epoch 1048: 100%|██████████| 258/258 [00:01<00:00, 180.18it/s]\n",
      "Training Epoch 1049: 100%|██████████| 258/258 [00:01<00:00, 175.36it/s]\n",
      "Training Epoch 1050: 100%|██████████| 258/258 [00:01<00:00, 175.53it/s]\n",
      "Training Epoch 1051: 100%|██████████| 258/258 [00:01<00:00, 177.75it/s]\n"
     ]
    },
    {
     "name": "stdout",
     "output_type": "stream",
     "text": [
      "Epoch 1050 - Train Loss: 0.0678, Train MSE: 0.0680, Train MAE: 0.1896\n",
      "Epoch 1050 - Validation Loss: 1.8484, Validation MSE: 1.8429, Validation MAE: 1.0145\n"
     ]
    },
    {
     "name": "stderr",
     "output_type": "stream",
     "text": [
      "Training Epoch 1052: 100%|██████████| 258/258 [00:01<00:00, 179.07it/s]\n",
      "Training Epoch 1053: 100%|██████████| 258/258 [00:01<00:00, 177.49it/s]\n",
      "Training Epoch 1054: 100%|██████████| 258/258 [00:01<00:00, 174.75it/s]\n",
      "Training Epoch 1055: 100%|██████████| 258/258 [00:01<00:00, 181.62it/s]\n",
      "Training Epoch 1056: 100%|██████████| 258/258 [00:01<00:00, 175.44it/s]\n",
      "Training Epoch 1057: 100%|██████████| 258/258 [00:01<00:00, 177.38it/s]\n",
      "Training Epoch 1058: 100%|██████████| 258/258 [00:01<00:00, 176.10it/s]\n",
      "Training Epoch 1059: 100%|██████████| 258/258 [00:01<00:00, 168.41it/s]\n",
      "Training Epoch 1060: 100%|██████████| 258/258 [00:01<00:00, 172.73it/s]\n",
      "Training Epoch 1061: 100%|██████████| 258/258 [00:01<00:00, 178.59it/s]\n"
     ]
    },
    {
     "name": "stdout",
     "output_type": "stream",
     "text": [
      "Epoch 1060 - Train Loss: 0.0670, Train MSE: 0.0671, Train MAE: 0.1899\n",
      "Epoch 1060 - Validation Loss: 1.8339, Validation MSE: 1.8216, Validation MAE: 1.0123\n"
     ]
    },
    {
     "name": "stderr",
     "output_type": "stream",
     "text": [
      "Training Epoch 1062: 100%|██████████| 258/258 [00:01<00:00, 174.42it/s]\n",
      "Training Epoch 1063: 100%|██████████| 258/258 [00:01<00:00, 176.68it/s]\n",
      "Training Epoch 1064: 100%|██████████| 258/258 [00:01<00:00, 176.74it/s]\n",
      "Training Epoch 1065: 100%|██████████| 258/258 [00:01<00:00, 176.40it/s]\n",
      "Training Epoch 1066: 100%|██████████| 258/258 [00:01<00:00, 175.81it/s]\n",
      "Training Epoch 1067: 100%|██████████| 258/258 [00:01<00:00, 177.21it/s]\n",
      "Training Epoch 1068: 100%|██████████| 258/258 [00:01<00:00, 179.13it/s]\n",
      "Training Epoch 1069: 100%|██████████| 258/258 [00:01<00:00, 179.78it/s]\n",
      "Training Epoch 1070: 100%|██████████| 258/258 [00:01<00:00, 175.99it/s]\n",
      "Training Epoch 1071: 100%|██████████| 258/258 [00:01<00:00, 177.34it/s]\n"
     ]
    },
    {
     "name": "stdout",
     "output_type": "stream",
     "text": [
      "Epoch 1070 - Train Loss: 0.0635, Train MSE: 0.0636, Train MAE: 0.1848\n",
      "Epoch 1070 - Validation Loss: 1.8515, Validation MSE: 1.8439, Validation MAE: 1.0154\n"
     ]
    },
    {
     "name": "stderr",
     "output_type": "stream",
     "text": [
      "Training Epoch 1072: 100%|██████████| 258/258 [00:01<00:00, 172.60it/s]\n",
      "Training Epoch 1073: 100%|██████████| 258/258 [00:01<00:00, 175.75it/s]\n",
      "Training Epoch 1074: 100%|██████████| 258/258 [00:01<00:00, 175.61it/s]\n",
      "Training Epoch 1075: 100%|██████████| 258/258 [00:01<00:00, 175.76it/s]\n",
      "Training Epoch 1076: 100%|██████████| 258/258 [00:01<00:00, 175.43it/s]\n",
      "Training Epoch 1077: 100%|██████████| 258/258 [00:01<00:00, 173.49it/s]\n",
      "Training Epoch 1078: 100%|██████████| 258/258 [00:01<00:00, 161.91it/s]\n",
      "Training Epoch 1079: 100%|██████████| 258/258 [00:01<00:00, 170.79it/s]\n",
      "Training Epoch 1080: 100%|██████████| 258/258 [00:01<00:00, 170.59it/s]\n",
      "Training Epoch 1081: 100%|██████████| 258/258 [00:01<00:00, 176.09it/s]\n"
     ]
    },
    {
     "name": "stdout",
     "output_type": "stream",
     "text": [
      "Epoch 1080 - Train Loss: 0.0672, Train MSE: 0.0672, Train MAE: 0.1896\n",
      "Epoch 1080 - Validation Loss: 1.8074, Validation MSE: 1.7952, Validation MAE: 1.0058\n"
     ]
    },
    {
     "name": "stderr",
     "output_type": "stream",
     "text": [
      "Training Epoch 1082: 100%|██████████| 258/258 [00:01<00:00, 175.96it/s]\n",
      "Training Epoch 1083: 100%|██████████| 258/258 [00:01<00:00, 179.50it/s]\n",
      "Training Epoch 1084: 100%|██████████| 258/258 [00:01<00:00, 181.07it/s]\n",
      "Training Epoch 1085: 100%|██████████| 258/258 [00:01<00:00, 181.66it/s]\n",
      "Training Epoch 1086: 100%|██████████| 258/258 [00:01<00:00, 177.66it/s]\n",
      "Training Epoch 1087: 100%|██████████| 258/258 [00:01<00:00, 179.34it/s]\n",
      "Training Epoch 1088: 100%|██████████| 258/258 [00:01<00:00, 178.71it/s]\n",
      "Training Epoch 1089: 100%|██████████| 258/258 [00:01<00:00, 179.92it/s]\n",
      "Training Epoch 1090: 100%|██████████| 258/258 [00:01<00:00, 174.90it/s]\n",
      "Training Epoch 1091: 100%|██████████| 258/258 [00:01<00:00, 180.32it/s]\n"
     ]
    },
    {
     "name": "stdout",
     "output_type": "stream",
     "text": [
      "Epoch 1090 - Train Loss: 0.0686, Train MSE: 0.0686, Train MAE: 0.1912\n",
      "Epoch 1090 - Validation Loss: 1.8329, Validation MSE: 1.8254, Validation MAE: 1.0082\n"
     ]
    },
    {
     "name": "stderr",
     "output_type": "stream",
     "text": [
      "Training Epoch 1092: 100%|██████████| 258/258 [00:01<00:00, 176.70it/s]\n",
      "Training Epoch 1093: 100%|██████████| 258/258 [00:01<00:00, 177.15it/s]\n",
      "Training Epoch 1094: 100%|██████████| 258/258 [00:01<00:00, 176.28it/s]\n",
      "Training Epoch 1095: 100%|██████████| 258/258 [00:01<00:00, 174.46it/s]\n",
      "Training Epoch 1096: 100%|██████████| 258/258 [00:01<00:00, 178.56it/s]\n",
      "Training Epoch 1097: 100%|██████████| 258/258 [00:01<00:00, 181.97it/s]\n",
      "Training Epoch 1098: 100%|██████████| 258/258 [00:01<00:00, 174.91it/s]\n",
      "Training Epoch 1099: 100%|██████████| 258/258 [00:01<00:00, 177.93it/s]\n",
      "Training Epoch 1100: 100%|██████████| 258/258 [00:01<00:00, 173.92it/s]\n",
      "Training Epoch 1101: 100%|██████████| 258/258 [00:01<00:00, 178.89it/s]\n"
     ]
    },
    {
     "name": "stdout",
     "output_type": "stream",
     "text": [
      "Epoch 1100 - Train Loss: 0.0672, Train MSE: 0.0672, Train MAE: 0.1882\n",
      "Epoch 1100 - Validation Loss: 1.8482, Validation MSE: 1.8389, Validation MAE: 1.0128\n"
     ]
    },
    {
     "name": "stderr",
     "output_type": "stream",
     "text": [
      "Training Epoch 1102: 100%|██████████| 258/258 [00:01<00:00, 172.66it/s]\n",
      "Training Epoch 1103: 100%|██████████| 258/258 [00:01<00:00, 177.97it/s]\n",
      "Training Epoch 1104: 100%|██████████| 258/258 [00:01<00:00, 174.71it/s]\n",
      "Training Epoch 1105: 100%|██████████| 258/258 [00:01<00:00, 176.35it/s]\n",
      "Training Epoch 1106: 100%|██████████| 258/258 [00:01<00:00, 176.70it/s]\n",
      "Training Epoch 1107: 100%|██████████| 258/258 [00:01<00:00, 178.41it/s]\n",
      "Training Epoch 1108: 100%|██████████| 258/258 [00:01<00:00, 174.27it/s]\n",
      "Training Epoch 1109: 100%|██████████| 258/258 [00:01<00:00, 180.29it/s]\n",
      "Training Epoch 1110: 100%|██████████| 258/258 [00:01<00:00, 177.02it/s]\n",
      "Training Epoch 1111: 100%|██████████| 258/258 [00:01<00:00, 173.12it/s]\n"
     ]
    },
    {
     "name": "stdout",
     "output_type": "stream",
     "text": [
      "Epoch 1110 - Train Loss: 0.0649, Train MSE: 0.0650, Train MAE: 0.1850\n",
      "Epoch 1110 - Validation Loss: 1.8486, Validation MSE: 1.8398, Validation MAE: 1.0124\n"
     ]
    },
    {
     "name": "stderr",
     "output_type": "stream",
     "text": [
      "Training Epoch 1112: 100%|██████████| 258/258 [00:01<00:00, 177.17it/s]\n",
      "Training Epoch 1113: 100%|██████████| 258/258 [00:01<00:00, 175.19it/s]\n",
      "Training Epoch 1114: 100%|██████████| 258/258 [00:01<00:00, 174.12it/s]\n",
      "Training Epoch 1115: 100%|██████████| 258/258 [00:01<00:00, 176.20it/s]\n",
      "Training Epoch 1116: 100%|██████████| 258/258 [00:01<00:00, 167.32it/s]\n",
      "Training Epoch 1117: 100%|██████████| 258/258 [00:01<00:00, 178.00it/s]\n",
      "Training Epoch 1118: 100%|██████████| 258/258 [00:01<00:00, 176.60it/s]\n",
      "Training Epoch 1119: 100%|██████████| 258/258 [00:01<00:00, 177.32it/s]\n",
      "Training Epoch 1120: 100%|██████████| 258/258 [00:01<00:00, 161.98it/s]\n",
      "Training Epoch 1121: 100%|██████████| 258/258 [00:01<00:00, 168.44it/s]\n"
     ]
    },
    {
     "name": "stdout",
     "output_type": "stream",
     "text": [
      "Epoch 1120 - Train Loss: 0.0642, Train MSE: 0.0642, Train MAE: 0.1838\n",
      "Epoch 1120 - Validation Loss: 1.8123, Validation MSE: 1.8019, Validation MAE: 1.0011\n"
     ]
    },
    {
     "name": "stderr",
     "output_type": "stream",
     "text": [
      "Training Epoch 1122: 100%|██████████| 258/258 [00:01<00:00, 166.33it/s]\n",
      "Training Epoch 1123: 100%|██████████| 258/258 [00:01<00:00, 168.82it/s]\n",
      "Training Epoch 1124: 100%|██████████| 258/258 [00:01<00:00, 176.20it/s]\n",
      "Training Epoch 1125: 100%|██████████| 258/258 [00:01<00:00, 169.67it/s]\n",
      "Training Epoch 1126: 100%|██████████| 258/258 [00:01<00:00, 167.89it/s]\n",
      "Training Epoch 1127: 100%|██████████| 258/258 [00:01<00:00, 166.04it/s]\n",
      "Training Epoch 1128: 100%|██████████| 258/258 [00:01<00:00, 174.97it/s]\n",
      "Training Epoch 1129: 100%|██████████| 258/258 [00:01<00:00, 167.04it/s]\n",
      "Training Epoch 1130: 100%|██████████| 258/258 [00:01<00:00, 172.83it/s]\n",
      "Training Epoch 1131: 100%|██████████| 258/258 [00:01<00:00, 175.85it/s]\n"
     ]
    },
    {
     "name": "stdout",
     "output_type": "stream",
     "text": [
      "Epoch 1130 - Train Loss: 0.0649, Train MSE: 0.0649, Train MAE: 0.1861\n",
      "Epoch 1130 - Validation Loss: 1.8359, Validation MSE: 1.8260, Validation MAE: 1.0105\n"
     ]
    },
    {
     "name": "stderr",
     "output_type": "stream",
     "text": [
      "Training Epoch 1132: 100%|██████████| 258/258 [00:01<00:00, 175.65it/s]\n",
      "Training Epoch 1133: 100%|██████████| 258/258 [00:01<00:00, 173.44it/s]\n",
      "Training Epoch 1134: 100%|██████████| 258/258 [00:01<00:00, 171.59it/s]\n",
      "Training Epoch 1135: 100%|██████████| 258/258 [00:01<00:00, 168.02it/s]\n",
      "Training Epoch 1136: 100%|██████████| 258/258 [00:01<00:00, 177.92it/s]\n",
      "Training Epoch 1137: 100%|██████████| 258/258 [00:01<00:00, 176.34it/s]\n",
      "Training Epoch 1138: 100%|██████████| 258/258 [00:01<00:00, 177.62it/s]\n",
      "Training Epoch 1139: 100%|██████████| 258/258 [00:01<00:00, 179.45it/s]\n",
      "Training Epoch 1140: 100%|██████████| 258/258 [00:01<00:00, 179.17it/s]\n",
      "Training Epoch 1141: 100%|██████████| 258/258 [00:01<00:00, 177.37it/s]\n"
     ]
    },
    {
     "name": "stdout",
     "output_type": "stream",
     "text": [
      "Epoch 1140 - Train Loss: 0.0650, Train MSE: 0.0651, Train MAE: 0.1848\n",
      "Epoch 1140 - Validation Loss: 1.8364, Validation MSE: 1.8229, Validation MAE: 1.0111\n"
     ]
    },
    {
     "name": "stderr",
     "output_type": "stream",
     "text": [
      "Training Epoch 1142: 100%|██████████| 258/258 [00:01<00:00, 177.87it/s]\n",
      "Training Epoch 1143: 100%|██████████| 258/258 [00:01<00:00, 175.28it/s]\n",
      "Training Epoch 1144: 100%|██████████| 258/258 [00:01<00:00, 177.10it/s]\n",
      "Training Epoch 1145: 100%|██████████| 258/258 [00:01<00:00, 178.33it/s]\n",
      "Training Epoch 1146: 100%|██████████| 258/258 [00:01<00:00, 175.69it/s]\n",
      "Training Epoch 1147: 100%|██████████| 258/258 [00:01<00:00, 172.61it/s]\n",
      "Training Epoch 1148: 100%|██████████| 258/258 [00:01<00:00, 181.32it/s]\n",
      "Training Epoch 1149: 100%|██████████| 258/258 [00:01<00:00, 176.74it/s]\n",
      "Training Epoch 1150: 100%|██████████| 258/258 [00:01<00:00, 180.68it/s]\n",
      "Training Epoch 1151: 100%|██████████| 258/258 [00:01<00:00, 177.80it/s]\n"
     ]
    },
    {
     "name": "stdout",
     "output_type": "stream",
     "text": [
      "Epoch 1150 - Train Loss: 0.0658, Train MSE: 0.0659, Train MAE: 0.1881\n",
      "Epoch 1150 - Validation Loss: 1.8368, Validation MSE: 1.8235, Validation MAE: 1.0141\n"
     ]
    },
    {
     "name": "stderr",
     "output_type": "stream",
     "text": [
      "Training Epoch 1152: 100%|██████████| 258/258 [00:01<00:00, 175.96it/s]\n",
      "Training Epoch 1153: 100%|██████████| 258/258 [00:01<00:00, 175.46it/s]\n",
      "Training Epoch 1154: 100%|██████████| 258/258 [00:01<00:00, 171.41it/s]\n",
      "Training Epoch 1155: 100%|██████████| 258/258 [00:01<00:00, 171.66it/s]\n",
      "Training Epoch 1156: 100%|██████████| 258/258 [00:01<00:00, 170.25it/s]\n",
      "Training Epoch 1157: 100%|██████████| 258/258 [00:01<00:00, 180.15it/s]\n",
      "Training Epoch 1158: 100%|██████████| 258/258 [00:01<00:00, 166.80it/s]\n",
      "Training Epoch 1159: 100%|██████████| 258/258 [00:01<00:00, 176.87it/s]\n",
      "Training Epoch 1160: 100%|██████████| 258/258 [00:01<00:00, 175.68it/s]\n",
      "Training Epoch 1161: 100%|██████████| 258/258 [00:01<00:00, 176.92it/s]\n"
     ]
    },
    {
     "name": "stdout",
     "output_type": "stream",
     "text": [
      "Epoch 1160 - Train Loss: 0.0602, Train MSE: 0.0603, Train MAE: 0.1790\n",
      "Epoch 1160 - Validation Loss: 1.8399, Validation MSE: 1.8299, Validation MAE: 1.0152\n"
     ]
    },
    {
     "name": "stderr",
     "output_type": "stream",
     "text": [
      "Training Epoch 1162: 100%|██████████| 258/258 [00:01<00:00, 175.24it/s]\n",
      "Training Epoch 1163: 100%|██████████| 258/258 [00:01<00:00, 183.91it/s]\n",
      "Training Epoch 1164: 100%|██████████| 258/258 [00:01<00:00, 175.73it/s]\n",
      "Training Epoch 1165: 100%|██████████| 258/258 [00:01<00:00, 176.23it/s]\n",
      "Training Epoch 1166: 100%|██████████| 258/258 [00:01<00:00, 178.41it/s]\n",
      "Training Epoch 1167: 100%|██████████| 258/258 [00:01<00:00, 176.04it/s]\n",
      "Training Epoch 1168: 100%|██████████| 258/258 [00:01<00:00, 175.78it/s]\n",
      "Training Epoch 1169: 100%|██████████| 258/258 [00:01<00:00, 178.72it/s]\n",
      "Training Epoch 1170: 100%|██████████| 258/258 [00:01<00:00, 175.90it/s]\n",
      "Training Epoch 1171: 100%|██████████| 258/258 [00:01<00:00, 182.30it/s]\n"
     ]
    },
    {
     "name": "stdout",
     "output_type": "stream",
     "text": [
      "Epoch 1170 - Train Loss: 0.0628, Train MSE: 0.0628, Train MAE: 0.1820\n",
      "Epoch 1170 - Validation Loss: 1.8159, Validation MSE: 1.8047, Validation MAE: 1.0077\n"
     ]
    },
    {
     "name": "stderr",
     "output_type": "stream",
     "text": [
      "Training Epoch 1172: 100%|██████████| 258/258 [00:01<00:00, 174.55it/s]\n",
      "Training Epoch 1173: 100%|██████████| 258/258 [00:01<00:00, 173.91it/s]\n",
      "Training Epoch 1174: 100%|██████████| 258/258 [00:01<00:00, 173.20it/s]\n",
      "Training Epoch 1175: 100%|██████████| 258/258 [00:01<00:00, 175.62it/s]\n",
      "Training Epoch 1176: 100%|██████████| 258/258 [00:01<00:00, 181.07it/s]\n",
      "Training Epoch 1177: 100%|██████████| 258/258 [00:01<00:00, 175.53it/s]\n",
      "Training Epoch 1178: 100%|██████████| 258/258 [00:01<00:00, 178.64it/s]\n",
      "Training Epoch 1179: 100%|██████████| 258/258 [00:01<00:00, 172.31it/s]\n",
      "Training Epoch 1180: 100%|██████████| 258/258 [00:01<00:00, 177.10it/s]\n",
      "Training Epoch 1181: 100%|██████████| 258/258 [00:01<00:00, 178.38it/s]\n"
     ]
    },
    {
     "name": "stdout",
     "output_type": "stream",
     "text": [
      "Epoch 1180 - Train Loss: 0.0620, Train MSE: 0.0620, Train MAE: 0.1826\n",
      "Epoch 1180 - Validation Loss: 1.8405, Validation MSE: 1.8329, Validation MAE: 1.0133\n"
     ]
    },
    {
     "name": "stderr",
     "output_type": "stream",
     "text": [
      "Training Epoch 1182: 100%|██████████| 258/258 [00:01<00:00, 165.17it/s]\n",
      "Training Epoch 1183: 100%|██████████| 258/258 [00:01<00:00, 176.49it/s]\n",
      "Training Epoch 1184: 100%|██████████| 258/258 [00:01<00:00, 177.81it/s]\n",
      "Training Epoch 1185: 100%|██████████| 258/258 [00:01<00:00, 174.85it/s]\n",
      "Training Epoch 1186: 100%|██████████| 258/258 [00:01<00:00, 179.42it/s]\n",
      "Training Epoch 1187: 100%|██████████| 258/258 [00:01<00:00, 179.01it/s]\n",
      "Training Epoch 1188: 100%|██████████| 258/258 [00:01<00:00, 175.76it/s]\n",
      "Training Epoch 1189: 100%|██████████| 258/258 [00:01<00:00, 175.42it/s]\n",
      "Training Epoch 1190: 100%|██████████| 258/258 [00:01<00:00, 178.16it/s]\n",
      "Training Epoch 1191: 100%|██████████| 258/258 [00:01<00:00, 175.37it/s]\n"
     ]
    },
    {
     "name": "stdout",
     "output_type": "stream",
     "text": [
      "Epoch 1190 - Train Loss: 0.0597, Train MSE: 0.0598, Train MAE: 0.1800\n",
      "Epoch 1190 - Validation Loss: 1.8185, Validation MSE: 1.8128, Validation MAE: 1.0056\n"
     ]
    },
    {
     "name": "stderr",
     "output_type": "stream",
     "text": [
      "Training Epoch 1192: 100%|██████████| 258/258 [00:01<00:00, 171.52it/s]\n",
      "Training Epoch 1193: 100%|██████████| 258/258 [00:01<00:00, 155.69it/s]\n",
      "Training Epoch 1194: 100%|██████████| 258/258 [00:01<00:00, 171.57it/s]\n",
      "Training Epoch 1195: 100%|██████████| 258/258 [00:01<00:00, 180.62it/s]\n",
      "Training Epoch 1196: 100%|██████████| 258/258 [00:01<00:00, 175.64it/s]\n",
      "Training Epoch 1197: 100%|██████████| 258/258 [00:01<00:00, 174.66it/s]\n",
      "Training Epoch 1198: 100%|██████████| 258/258 [00:01<00:00, 177.95it/s]\n",
      "Training Epoch 1199: 100%|██████████| 258/258 [00:01<00:00, 176.93it/s]\n",
      "Training Epoch 1200: 100%|██████████| 258/258 [00:01<00:00, 178.31it/s]\n",
      "Training Epoch 1201: 100%|██████████| 258/258 [00:01<00:00, 178.25it/s]\n"
     ]
    },
    {
     "name": "stdout",
     "output_type": "stream",
     "text": [
      "Epoch 1200 - Train Loss: 0.0635, Train MSE: 0.0635, Train MAE: 0.1832\n",
      "Epoch 1200 - Validation Loss: 1.8306, Validation MSE: 1.8219, Validation MAE: 1.0076\n"
     ]
    },
    {
     "name": "stderr",
     "output_type": "stream",
     "text": [
      "Training Epoch 1202: 100%|██████████| 258/258 [00:01<00:00, 173.56it/s]\n",
      "Training Epoch 1203: 100%|██████████| 258/258 [00:01<00:00, 179.17it/s]\n",
      "Training Epoch 1204: 100%|██████████| 258/258 [00:01<00:00, 178.34it/s]\n",
      "Training Epoch 1205: 100%|██████████| 258/258 [00:01<00:00, 172.01it/s]\n",
      "Training Epoch 1206: 100%|██████████| 258/258 [00:01<00:00, 173.64it/s]\n",
      "Training Epoch 1207: 100%|██████████| 258/258 [00:01<00:00, 179.89it/s]\n",
      "Training Epoch 1208: 100%|██████████| 258/258 [00:01<00:00, 174.24it/s]\n",
      "Training Epoch 1209: 100%|██████████| 258/258 [00:01<00:00, 174.31it/s]\n",
      "Training Epoch 1210: 100%|██████████| 258/258 [00:01<00:00, 176.59it/s]\n",
      "Training Epoch 1211: 100%|██████████| 258/258 [00:01<00:00, 176.16it/s]\n"
     ]
    },
    {
     "name": "stdout",
     "output_type": "stream",
     "text": [
      "Epoch 1210 - Train Loss: 0.0608, Train MSE: 0.0609, Train MAE: 0.1801\n",
      "Epoch 1210 - Validation Loss: 1.8163, Validation MSE: 1.8087, Validation MAE: 1.0072\n"
     ]
    },
    {
     "name": "stderr",
     "output_type": "stream",
     "text": [
      "Training Epoch 1212: 100%|██████████| 258/258 [00:01<00:00, 176.81it/s]\n",
      "Training Epoch 1213: 100%|██████████| 258/258 [00:01<00:00, 171.55it/s]\n",
      "Training Epoch 1214: 100%|██████████| 258/258 [00:01<00:00, 178.98it/s]\n",
      "Training Epoch 1215: 100%|██████████| 258/258 [00:01<00:00, 178.10it/s]\n",
      "Training Epoch 1216: 100%|██████████| 258/258 [00:01<00:00, 176.67it/s]\n",
      "Training Epoch 1217: 100%|██████████| 258/258 [00:01<00:00, 177.98it/s]\n",
      "Training Epoch 1218: 100%|██████████| 258/258 [00:01<00:00, 174.73it/s]\n",
      "Training Epoch 1219: 100%|██████████| 258/258 [00:01<00:00, 179.94it/s]\n",
      "Training Epoch 1220: 100%|██████████| 258/258 [00:01<00:00, 177.01it/s]\n",
      "Training Epoch 1221: 100%|██████████| 258/258 [00:01<00:00, 178.01it/s]\n"
     ]
    },
    {
     "name": "stdout",
     "output_type": "stream",
     "text": [
      "Epoch 1220 - Train Loss: 0.0603, Train MSE: 0.0601, Train MAE: 0.1791\n",
      "Epoch 1220 - Validation Loss: 1.8274, Validation MSE: 1.8160, Validation MAE: 1.0116\n"
     ]
    },
    {
     "name": "stderr",
     "output_type": "stream",
     "text": [
      "Training Epoch 1222: 100%|██████████| 258/258 [00:01<00:00, 173.33it/s]\n",
      "Training Epoch 1223: 100%|██████████| 258/258 [00:01<00:00, 175.31it/s]\n",
      "Training Epoch 1224: 100%|██████████| 258/258 [00:01<00:00, 175.71it/s]\n",
      "Training Epoch 1225: 100%|██████████| 258/258 [00:01<00:00, 173.82it/s]\n",
      "Training Epoch 1226: 100%|██████████| 258/258 [00:01<00:00, 174.95it/s]\n",
      "Training Epoch 1227: 100%|██████████| 258/258 [00:01<00:00, 178.80it/s]\n",
      "Training Epoch 1228: 100%|██████████| 258/258 [00:01<00:00, 176.48it/s]\n",
      "Training Epoch 1229: 100%|██████████| 258/258 [00:01<00:00, 179.95it/s]\n",
      "Training Epoch 1230: 100%|██████████| 258/258 [00:01<00:00, 176.92it/s]\n",
      "Training Epoch 1231: 100%|██████████| 258/258 [00:01<00:00, 177.46it/s]\n"
     ]
    },
    {
     "name": "stdout",
     "output_type": "stream",
     "text": [
      "Epoch 1230 - Train Loss: 0.0609, Train MSE: 0.0609, Train MAE: 0.1815\n",
      "Epoch 1230 - Validation Loss: 1.8600, Validation MSE: 1.8494, Validation MAE: 1.0164\n"
     ]
    },
    {
     "name": "stderr",
     "output_type": "stream",
     "text": [
      "Training Epoch 1232: 100%|██████████| 258/258 [00:01<00:00, 149.40it/s]\n",
      "Training Epoch 1233: 100%|██████████| 258/258 [00:01<00:00, 172.18it/s]\n",
      "Training Epoch 1234: 100%|██████████| 258/258 [00:01<00:00, 176.55it/s]\n",
      "Training Epoch 1235: 100%|██████████| 258/258 [00:01<00:00, 174.33it/s]\n",
      "Training Epoch 1236: 100%|██████████| 258/258 [00:01<00:00, 178.10it/s]\n",
      "Training Epoch 1237: 100%|██████████| 258/258 [00:01<00:00, 177.85it/s]\n",
      "Training Epoch 1238: 100%|██████████| 258/258 [00:01<00:00, 175.93it/s]\n",
      "Training Epoch 1239: 100%|██████████| 258/258 [00:01<00:00, 176.24it/s]\n",
      "Training Epoch 1240: 100%|██████████| 258/258 [00:01<00:00, 178.12it/s]\n",
      "Training Epoch 1241: 100%|██████████| 258/258 [00:01<00:00, 176.08it/s]\n"
     ]
    },
    {
     "name": "stdout",
     "output_type": "stream",
     "text": [
      "Epoch 1240 - Train Loss: 0.0621, Train MSE: 0.0622, Train MAE: 0.1815\n",
      "Epoch 1240 - Validation Loss: 1.8357, Validation MSE: 1.8267, Validation MAE: 1.0069\n"
     ]
    },
    {
     "name": "stderr",
     "output_type": "stream",
     "text": [
      "Training Epoch 1242: 100%|██████████| 258/258 [00:01<00:00, 178.66it/s]\n",
      "Training Epoch 1243: 100%|██████████| 258/258 [00:01<00:00, 174.46it/s]\n",
      "Training Epoch 1244: 100%|██████████| 258/258 [00:01<00:00, 171.58it/s]\n",
      "Training Epoch 1245: 100%|██████████| 258/258 [00:01<00:00, 178.68it/s]\n",
      "Training Epoch 1246: 100%|██████████| 258/258 [00:01<00:00, 171.69it/s]\n",
      "Training Epoch 1247: 100%|██████████| 258/258 [00:01<00:00, 169.48it/s]\n",
      "Training Epoch 1248: 100%|██████████| 258/258 [00:01<00:00, 179.81it/s]\n",
      "Training Epoch 1249: 100%|██████████| 258/258 [00:01<00:00, 173.17it/s]\n",
      "Training Epoch 1250: 100%|██████████| 258/258 [00:01<00:00, 175.54it/s]\n",
      "Training Epoch 1251: 100%|██████████| 258/258 [00:01<00:00, 176.39it/s]\n"
     ]
    },
    {
     "name": "stdout",
     "output_type": "stream",
     "text": [
      "Epoch 1250 - Train Loss: 0.0589, Train MSE: 0.0590, Train MAE: 0.1774\n",
      "Epoch 1250 - Validation Loss: 1.8315, Validation MSE: 1.8210, Validation MAE: 1.0069\n"
     ]
    },
    {
     "name": "stderr",
     "output_type": "stream",
     "text": [
      "Training Epoch 1252: 100%|██████████| 258/258 [00:01<00:00, 176.93it/s]\n",
      "Training Epoch 1253: 100%|██████████| 258/258 [00:01<00:00, 172.28it/s]\n",
      "Training Epoch 1254: 100%|██████████| 258/258 [00:01<00:00, 175.86it/s]\n",
      "Training Epoch 1255: 100%|██████████| 258/258 [00:01<00:00, 177.97it/s]\n",
      "Training Epoch 1256: 100%|██████████| 258/258 [00:01<00:00, 176.64it/s]\n",
      "Training Epoch 1257: 100%|██████████| 258/258 [00:01<00:00, 182.74it/s]\n",
      "Training Epoch 1258: 100%|██████████| 258/258 [00:01<00:00, 177.45it/s]\n",
      "Training Epoch 1259: 100%|██████████| 258/258 [00:01<00:00, 177.16it/s]\n",
      "Training Epoch 1260: 100%|██████████| 258/258 [00:01<00:00, 178.26it/s]\n",
      "Training Epoch 1261: 100%|██████████| 258/258 [00:01<00:00, 181.13it/s]\n"
     ]
    },
    {
     "name": "stdout",
     "output_type": "stream",
     "text": [
      "Epoch 1260 - Train Loss: 0.0569, Train MSE: 0.0569, Train MAE: 0.1751\n",
      "Epoch 1260 - Validation Loss: 1.8576, Validation MSE: 1.8500, Validation MAE: 1.0124\n"
     ]
    },
    {
     "name": "stderr",
     "output_type": "stream",
     "text": [
      "Training Epoch 1262: 100%|██████████| 258/258 [00:01<00:00, 179.20it/s]\n",
      "Training Epoch 1263: 100%|██████████| 258/258 [00:01<00:00, 180.88it/s]\n",
      "Training Epoch 1264: 100%|██████████| 258/258 [00:01<00:00, 171.44it/s]\n",
      "Training Epoch 1265: 100%|██████████| 258/258 [00:01<00:00, 178.23it/s]\n",
      "Training Epoch 1266: 100%|██████████| 258/258 [00:01<00:00, 177.13it/s]\n",
      "Training Epoch 1267: 100%|██████████| 258/258 [00:01<00:00, 176.29it/s]\n",
      "Training Epoch 1268: 100%|██████████| 258/258 [00:01<00:00, 177.80it/s]\n",
      "Training Epoch 1269: 100%|██████████| 258/258 [00:01<00:00, 177.15it/s]\n",
      "Training Epoch 1270: 100%|██████████| 258/258 [00:01<00:00, 153.64it/s]\n",
      "Training Epoch 1271: 100%|██████████| 258/258 [00:01<00:00, 178.56it/s]\n"
     ]
    },
    {
     "name": "stdout",
     "output_type": "stream",
     "text": [
      "Epoch 1270 - Train Loss: 0.0599, Train MSE: 0.0600, Train MAE: 0.1785\n",
      "Epoch 1270 - Validation Loss: 1.8515, Validation MSE: 1.8426, Validation MAE: 1.0167\n"
     ]
    },
    {
     "name": "stderr",
     "output_type": "stream",
     "text": [
      "Training Epoch 1272: 100%|██████████| 258/258 [00:01<00:00, 174.79it/s]\n",
      "Training Epoch 1273: 100%|██████████| 258/258 [00:01<00:00, 178.08it/s]\n",
      "Training Epoch 1274: 100%|██████████| 258/258 [00:01<00:00, 180.40it/s]\n",
      "Training Epoch 1275: 100%|██████████| 258/258 [00:01<00:00, 176.42it/s]\n",
      "Training Epoch 1276: 100%|██████████| 258/258 [00:01<00:00, 181.74it/s]\n",
      "Training Epoch 1277: 100%|██████████| 258/258 [00:01<00:00, 171.91it/s]\n",
      "Training Epoch 1278: 100%|██████████| 258/258 [00:01<00:00, 177.19it/s]\n",
      "Training Epoch 1279: 100%|██████████| 258/258 [00:01<00:00, 184.36it/s]\n",
      "Training Epoch 1280: 100%|██████████| 258/258 [00:01<00:00, 177.02it/s]\n",
      "Training Epoch 1281: 100%|██████████| 258/258 [00:01<00:00, 172.35it/s]\n"
     ]
    },
    {
     "name": "stdout",
     "output_type": "stream",
     "text": [
      "Epoch 1280 - Train Loss: 0.0589, Train MSE: 0.0591, Train MAE: 0.1782\n",
      "Epoch 1280 - Validation Loss: 1.8512, Validation MSE: 1.8424, Validation MAE: 1.0172\n"
     ]
    },
    {
     "name": "stderr",
     "output_type": "stream",
     "text": [
      "Training Epoch 1282: 100%|██████████| 258/258 [00:01<00:00, 177.66it/s]\n",
      "Training Epoch 1283: 100%|██████████| 258/258 [00:01<00:00, 174.32it/s]\n",
      "Training Epoch 1284: 100%|██████████| 258/258 [00:01<00:00, 174.79it/s]\n",
      "Training Epoch 1285: 100%|██████████| 258/258 [00:01<00:00, 173.83it/s]\n",
      "Training Epoch 1286: 100%|██████████| 258/258 [00:01<00:00, 176.23it/s]\n",
      "Training Epoch 1287: 100%|██████████| 258/258 [00:01<00:00, 176.76it/s]\n",
      "Training Epoch 1288: 100%|██████████| 258/258 [00:01<00:00, 176.93it/s]\n",
      "Training Epoch 1289: 100%|██████████| 258/258 [00:01<00:00, 177.49it/s]\n",
      "Training Epoch 1290: 100%|██████████| 258/258 [00:01<00:00, 162.07it/s]\n",
      "Training Epoch 1291: 100%|██████████| 258/258 [00:01<00:00, 168.20it/s]\n"
     ]
    },
    {
     "name": "stdout",
     "output_type": "stream",
     "text": [
      "Epoch 1290 - Train Loss: 0.0570, Train MSE: 0.0570, Train MAE: 0.1756\n",
      "Epoch 1290 - Validation Loss: 1.8329, Validation MSE: 1.8246, Validation MAE: 1.0075\n"
     ]
    },
    {
     "name": "stderr",
     "output_type": "stream",
     "text": [
      "Training Epoch 1292: 100%|██████████| 258/258 [00:01<00:00, 172.05it/s]\n",
      "Training Epoch 1293: 100%|██████████| 258/258 [00:01<00:00, 177.29it/s]\n",
      "Training Epoch 1294: 100%|██████████| 258/258 [00:01<00:00, 167.10it/s]\n",
      "Training Epoch 1295: 100%|██████████| 258/258 [00:01<00:00, 174.12it/s]\n",
      "Training Epoch 1296: 100%|██████████| 258/258 [00:01<00:00, 172.37it/s]\n",
      "Training Epoch 1297: 100%|██████████| 258/258 [00:01<00:00, 180.85it/s]\n",
      "Training Epoch 1298: 100%|██████████| 258/258 [00:01<00:00, 175.16it/s]\n",
      "Training Epoch 1299: 100%|██████████| 258/258 [00:01<00:00, 175.18it/s]\n",
      "Training Epoch 1300: 100%|██████████| 258/258 [00:01<00:00, 177.93it/s]\n",
      "Training Epoch 1301: 100%|██████████| 258/258 [00:01<00:00, 174.20it/s]\n"
     ]
    },
    {
     "name": "stdout",
     "output_type": "stream",
     "text": [
      "Epoch 1300 - Train Loss: 0.0568, Train MSE: 0.0570, Train MAE: 0.1737\n",
      "Epoch 1300 - Validation Loss: 1.8302, Validation MSE: 1.8177, Validation MAE: 1.0109\n"
     ]
    },
    {
     "name": "stderr",
     "output_type": "stream",
     "text": [
      "Training Epoch 1302: 100%|██████████| 258/258 [00:01<00:00, 173.19it/s]\n",
      "Training Epoch 1303: 100%|██████████| 258/258 [00:01<00:00, 175.53it/s]\n",
      "Training Epoch 1304: 100%|██████████| 258/258 [00:01<00:00, 179.22it/s]\n",
      "Training Epoch 1305: 100%|██████████| 258/258 [00:01<00:00, 174.90it/s]\n",
      "Training Epoch 1306: 100%|██████████| 258/258 [00:01<00:00, 175.62it/s]\n",
      "Training Epoch 1307: 100%|██████████| 258/258 [00:01<00:00, 181.16it/s]\n",
      "Training Epoch 1308: 100%|██████████| 258/258 [00:01<00:00, 173.07it/s]\n",
      "Training Epoch 1309: 100%|██████████| 258/258 [00:01<00:00, 163.97it/s]\n",
      "Training Epoch 1310: 100%|██████████| 258/258 [00:01<00:00, 175.94it/s]\n",
      "Training Epoch 1311: 100%|██████████| 258/258 [00:01<00:00, 177.58it/s]\n"
     ]
    },
    {
     "name": "stdout",
     "output_type": "stream",
     "text": [
      "Epoch 1310 - Train Loss: 0.0565, Train MSE: 0.0566, Train MAE: 0.1750\n",
      "Epoch 1310 - Validation Loss: 1.8314, Validation MSE: 1.8207, Validation MAE: 1.0096\n"
     ]
    },
    {
     "name": "stderr",
     "output_type": "stream",
     "text": [
      "Training Epoch 1312: 100%|██████████| 258/258 [00:01<00:00, 177.93it/s]\n",
      "Training Epoch 1313: 100%|██████████| 258/258 [00:01<00:00, 177.57it/s]\n",
      "Training Epoch 1314: 100%|██████████| 258/258 [00:01<00:00, 179.19it/s]\n",
      "Training Epoch 1315: 100%|██████████| 258/258 [00:01<00:00, 181.62it/s]\n",
      "Training Epoch 1316: 100%|██████████| 258/258 [00:01<00:00, 176.07it/s]\n",
      "Training Epoch 1317: 100%|██████████| 258/258 [00:01<00:00, 179.47it/s]\n",
      "Training Epoch 1318: 100%|██████████| 258/258 [00:01<00:00, 180.56it/s]\n",
      "Training Epoch 1319: 100%|██████████| 258/258 [00:01<00:00, 176.14it/s]\n",
      "Training Epoch 1320: 100%|██████████| 258/258 [00:01<00:00, 177.33it/s]\n",
      "Training Epoch 1321: 100%|██████████| 258/258 [00:01<00:00, 177.60it/s]\n"
     ]
    },
    {
     "name": "stdout",
     "output_type": "stream",
     "text": [
      "Epoch 1320 - Train Loss: 0.0551, Train MSE: 0.0551, Train MAE: 0.1718\n",
      "Epoch 1320 - Validation Loss: 1.8605, Validation MSE: 1.8495, Validation MAE: 1.0182\n"
     ]
    },
    {
     "name": "stderr",
     "output_type": "stream",
     "text": [
      "Training Epoch 1322: 100%|██████████| 258/258 [00:01<00:00, 174.80it/s]\n",
      "Training Epoch 1323: 100%|██████████| 258/258 [00:01<00:00, 178.17it/s]\n",
      "Training Epoch 1324: 100%|██████████| 258/258 [00:01<00:00, 180.09it/s]\n",
      "Training Epoch 1325: 100%|██████████| 258/258 [00:01<00:00, 178.14it/s]\n",
      "Training Epoch 1326: 100%|██████████| 258/258 [00:01<00:00, 181.34it/s]\n",
      "Training Epoch 1327: 100%|██████████| 258/258 [00:01<00:00, 172.80it/s]\n",
      "Training Epoch 1328: 100%|██████████| 258/258 [00:01<00:00, 174.91it/s]\n",
      "Training Epoch 1329: 100%|██████████| 258/258 [00:01<00:00, 175.21it/s]\n",
      "Training Epoch 1330: 100%|██████████| 258/258 [00:01<00:00, 176.34it/s]\n",
      "Training Epoch 1331: 100%|██████████| 258/258 [00:01<00:00, 182.29it/s]\n"
     ]
    },
    {
     "name": "stdout",
     "output_type": "stream",
     "text": [
      "Epoch 1330 - Train Loss: 0.0594, Train MSE: 0.0591, Train MAE: 0.1732\n",
      "Epoch 1330 - Validation Loss: 1.8261, Validation MSE: 1.8182, Validation MAE: 1.0045\n"
     ]
    },
    {
     "name": "stderr",
     "output_type": "stream",
     "text": [
      "Training Epoch 1332: 100%|██████████| 258/258 [00:01<00:00, 167.54it/s]\n",
      "Training Epoch 1333: 100%|██████████| 258/258 [00:01<00:00, 167.09it/s]\n",
      "Training Epoch 1334: 100%|██████████| 258/258 [00:01<00:00, 181.26it/s]\n",
      "Training Epoch 1335: 100%|██████████| 258/258 [00:01<00:00, 180.63it/s]\n",
      "Training Epoch 1336: 100%|██████████| 258/258 [00:01<00:00, 174.98it/s]\n",
      "Training Epoch 1337: 100%|██████████| 258/258 [00:01<00:00, 183.32it/s]\n",
      "Training Epoch 1338: 100%|██████████| 258/258 [00:01<00:00, 182.70it/s]\n",
      "Training Epoch 1339: 100%|██████████| 258/258 [00:01<00:00, 177.58it/s]\n",
      "Training Epoch 1340: 100%|██████████| 258/258 [00:01<00:00, 179.54it/s]\n",
      "Training Epoch 1341: 100%|██████████| 258/258 [00:01<00:00, 170.72it/s]\n"
     ]
    },
    {
     "name": "stdout",
     "output_type": "stream",
     "text": [
      "Epoch 1340 - Train Loss: 0.0562, Train MSE: 0.0563, Train MAE: 0.1724\n",
      "Epoch 1340 - Validation Loss: 1.8411, Validation MSE: 1.8312, Validation MAE: 1.0097\n"
     ]
    },
    {
     "name": "stderr",
     "output_type": "stream",
     "text": [
      "Training Epoch 1342: 100%|██████████| 258/258 [00:01<00:00, 173.90it/s]\n",
      "Training Epoch 1343: 100%|██████████| 258/258 [00:01<00:00, 178.82it/s]\n",
      "Training Epoch 1344: 100%|██████████| 258/258 [00:01<00:00, 176.54it/s]\n",
      "Training Epoch 1345: 100%|██████████| 258/258 [00:01<00:00, 178.75it/s]\n",
      "Training Epoch 1346: 100%|██████████| 258/258 [00:01<00:00, 176.87it/s]\n",
      "Training Epoch 1347: 100%|██████████| 258/258 [00:01<00:00, 143.13it/s]\n",
      "Training Epoch 1348: 100%|██████████| 258/258 [00:01<00:00, 168.35it/s]\n",
      "Training Epoch 1349: 100%|██████████| 258/258 [00:01<00:00, 179.27it/s]\n",
      "Training Epoch 1350: 100%|██████████| 258/258 [00:01<00:00, 177.73it/s]\n",
      "Training Epoch 1351: 100%|██████████| 258/258 [00:01<00:00, 178.27it/s]\n"
     ]
    },
    {
     "name": "stdout",
     "output_type": "stream",
     "text": [
      "Epoch 1350 - Train Loss: 0.0542, Train MSE: 0.0543, Train MAE: 0.1710\n",
      "Epoch 1350 - Validation Loss: 1.8438, Validation MSE: 1.8339, Validation MAE: 1.0087\n"
     ]
    },
    {
     "name": "stderr",
     "output_type": "stream",
     "text": [
      "Training Epoch 1352: 100%|██████████| 258/258 [00:01<00:00, 180.35it/s]\n",
      "Training Epoch 1353: 100%|██████████| 258/258 [00:01<00:00, 179.12it/s]\n",
      "Training Epoch 1354: 100%|██████████| 258/258 [00:01<00:00, 179.57it/s]\n",
      "Training Epoch 1355: 100%|██████████| 258/258 [00:01<00:00, 177.11it/s]\n",
      "Training Epoch 1356: 100%|██████████| 258/258 [00:01<00:00, 178.83it/s]\n",
      "Training Epoch 1357: 100%|██████████| 258/258 [00:01<00:00, 172.64it/s]\n",
      "Training Epoch 1358: 100%|██████████| 258/258 [00:01<00:00, 177.63it/s]\n",
      "Training Epoch 1359: 100%|██████████| 258/258 [00:01<00:00, 175.36it/s]\n",
      "Training Epoch 1360: 100%|██████████| 258/258 [00:01<00:00, 177.66it/s]\n",
      "Training Epoch 1361: 100%|██████████| 258/258 [00:01<00:00, 171.68it/s]\n"
     ]
    },
    {
     "name": "stdout",
     "output_type": "stream",
     "text": [
      "Epoch 1360 - Train Loss: 0.0554, Train MSE: 0.0554, Train MAE: 0.1711\n",
      "Epoch 1360 - Validation Loss: 1.8181, Validation MSE: 1.8093, Validation MAE: 1.0082\n"
     ]
    },
    {
     "name": "stderr",
     "output_type": "stream",
     "text": [
      "Training Epoch 1362: 100%|██████████| 258/258 [00:01<00:00, 177.04it/s]\n",
      "Training Epoch 1363: 100%|██████████| 258/258 [00:01<00:00, 179.22it/s]\n",
      "Training Epoch 1364: 100%|██████████| 258/258 [00:01<00:00, 174.77it/s]\n",
      "Training Epoch 1365: 100%|██████████| 258/258 [00:01<00:00, 174.95it/s]\n",
      "Training Epoch 1366: 100%|██████████| 258/258 [00:01<00:00, 180.22it/s]\n",
      "Training Epoch 1367: 100%|██████████| 258/258 [00:01<00:00, 168.97it/s]\n",
      "Training Epoch 1368: 100%|██████████| 258/258 [00:01<00:00, 175.49it/s]\n",
      "Training Epoch 1369: 100%|██████████| 258/258 [00:01<00:00, 178.58it/s]\n",
      "Training Epoch 1370: 100%|██████████| 258/258 [00:01<00:00, 176.38it/s]\n",
      "Training Epoch 1371: 100%|██████████| 258/258 [00:01<00:00, 178.45it/s]\n"
     ]
    },
    {
     "name": "stdout",
     "output_type": "stream",
     "text": [
      "Epoch 1370 - Train Loss: 0.0551, Train MSE: 0.0551, Train MAE: 0.1719\n",
      "Epoch 1370 - Validation Loss: 1.8646, Validation MSE: 1.8579, Validation MAE: 1.0236\n"
     ]
    },
    {
     "name": "stderr",
     "output_type": "stream",
     "text": [
      "Training Epoch 1372: 100%|██████████| 258/258 [00:01<00:00, 177.07it/s]\n",
      "Training Epoch 1373: 100%|██████████| 258/258 [00:01<00:00, 178.46it/s]\n",
      "Training Epoch 1374: 100%|██████████| 258/258 [00:01<00:00, 182.32it/s]\n",
      "Training Epoch 1375: 100%|██████████| 258/258 [00:01<00:00, 177.84it/s]\n",
      "Training Epoch 1376: 100%|██████████| 258/258 [00:01<00:00, 178.04it/s]\n",
      "Training Epoch 1377: 100%|██████████| 258/258 [00:01<00:00, 179.95it/s]\n",
      "Training Epoch 1378: 100%|██████████| 258/258 [00:01<00:00, 175.78it/s]\n",
      "Training Epoch 1379: 100%|██████████| 258/258 [00:01<00:00, 180.06it/s]\n",
      "Training Epoch 1380: 100%|██████████| 258/258 [00:01<00:00, 178.91it/s]\n",
      "Training Epoch 1381: 100%|██████████| 258/258 [00:01<00:00, 168.97it/s]\n"
     ]
    },
    {
     "name": "stdout",
     "output_type": "stream",
     "text": [
      "Epoch 1380 - Train Loss: 0.0570, Train MSE: 0.0570, Train MAE: 0.1726\n",
      "Epoch 1380 - Validation Loss: 1.8590, Validation MSE: 1.8495, Validation MAE: 1.0200\n"
     ]
    },
    {
     "name": "stderr",
     "output_type": "stream",
     "text": [
      "Training Epoch 1382: 100%|██████████| 258/258 [00:01<00:00, 172.53it/s]\n",
      "Training Epoch 1383: 100%|██████████| 258/258 [00:01<00:00, 179.20it/s]\n",
      "Training Epoch 1384: 100%|██████████| 258/258 [00:01<00:00, 170.44it/s]\n",
      "Training Epoch 1385: 100%|██████████| 258/258 [00:01<00:00, 175.42it/s]\n",
      "Training Epoch 1386: 100%|██████████| 258/258 [00:01<00:00, 149.43it/s]\n",
      "Training Epoch 1387: 100%|██████████| 258/258 [00:01<00:00, 169.91it/s]\n",
      "Training Epoch 1388: 100%|██████████| 258/258 [00:01<00:00, 162.07it/s]\n",
      "Training Epoch 1389: 100%|██████████| 258/258 [00:01<00:00, 175.97it/s]\n",
      "Training Epoch 1390: 100%|██████████| 258/258 [00:01<00:00, 178.19it/s]\n",
      "Training Epoch 1391: 100%|██████████| 258/258 [00:01<00:00, 178.74it/s]\n"
     ]
    },
    {
     "name": "stdout",
     "output_type": "stream",
     "text": [
      "Epoch 1390 - Train Loss: 0.0580, Train MSE: 0.0581, Train MAE: 0.1728\n",
      "Epoch 1390 - Validation Loss: 1.8266, Validation MSE: 1.8168, Validation MAE: 1.0078\n"
     ]
    },
    {
     "name": "stderr",
     "output_type": "stream",
     "text": [
      "Training Epoch 1392: 100%|██████████| 258/258 [00:01<00:00, 167.85it/s]\n",
      "Training Epoch 1393: 100%|██████████| 258/258 [00:01<00:00, 168.59it/s]\n",
      "Training Epoch 1394: 100%|██████████| 258/258 [00:01<00:00, 174.47it/s]\n",
      "Training Epoch 1395: 100%|██████████| 258/258 [00:01<00:00, 174.52it/s]\n",
      "Training Epoch 1396: 100%|██████████| 258/258 [00:01<00:00, 169.56it/s]\n",
      "Training Epoch 1397: 100%|██████████| 258/258 [00:01<00:00, 175.62it/s]\n",
      "Training Epoch 1398: 100%|██████████| 258/258 [00:01<00:00, 172.96it/s]\n",
      "Training Epoch 1399: 100%|██████████| 258/258 [00:01<00:00, 175.75it/s]\n",
      "Training Epoch 1400: 100%|██████████| 258/258 [00:01<00:00, 177.55it/s]\n",
      "Training Epoch 1401: 100%|██████████| 258/258 [00:01<00:00, 168.43it/s]\n"
     ]
    },
    {
     "name": "stdout",
     "output_type": "stream",
     "text": [
      "Epoch 1400 - Train Loss: 0.0550, Train MSE: 0.0551, Train MAE: 0.1705\n",
      "Epoch 1400 - Validation Loss: 1.8351, Validation MSE: 1.8273, Validation MAE: 1.0134\n"
     ]
    },
    {
     "name": "stderr",
     "output_type": "stream",
     "text": [
      "Training Epoch 1402: 100%|██████████| 258/258 [00:01<00:00, 165.42it/s]\n",
      "Training Epoch 1403: 100%|██████████| 258/258 [00:01<00:00, 168.58it/s]\n",
      "Training Epoch 1404: 100%|██████████| 258/258 [00:01<00:00, 178.10it/s]\n",
      "Training Epoch 1405: 100%|██████████| 258/258 [00:01<00:00, 170.84it/s]\n",
      "Training Epoch 1406: 100%|██████████| 258/258 [00:01<00:00, 171.40it/s]\n",
      "Training Epoch 1407: 100%|██████████| 258/258 [00:01<00:00, 177.92it/s]\n",
      "Training Epoch 1408: 100%|██████████| 258/258 [00:01<00:00, 166.74it/s]\n",
      "Training Epoch 1409: 100%|██████████| 258/258 [00:01<00:00, 171.47it/s]\n",
      "Training Epoch 1410: 100%|██████████| 258/258 [00:01<00:00, 171.68it/s]\n",
      "Training Epoch 1411: 100%|██████████| 258/258 [00:01<00:00, 173.13it/s]\n"
     ]
    },
    {
     "name": "stdout",
     "output_type": "stream",
     "text": [
      "Epoch 1410 - Train Loss: 0.0555, Train MSE: 0.0555, Train MAE: 0.1717\n",
      "Epoch 1410 - Validation Loss: 1.8411, Validation MSE: 1.8290, Validation MAE: 1.0125\n"
     ]
    },
    {
     "name": "stderr",
     "output_type": "stream",
     "text": [
      "Training Epoch 1412: 100%|██████████| 258/258 [00:01<00:00, 174.41it/s]\n",
      "Training Epoch 1413: 100%|██████████| 258/258 [00:01<00:00, 170.40it/s]\n",
      "Training Epoch 1414: 100%|██████████| 258/258 [00:01<00:00, 169.92it/s]\n",
      "Training Epoch 1415: 100%|██████████| 258/258 [00:01<00:00, 171.93it/s]\n",
      "Training Epoch 1416: 100%|██████████| 258/258 [00:01<00:00, 175.87it/s]\n",
      "Training Epoch 1417: 100%|██████████| 258/258 [00:01<00:00, 168.36it/s]\n",
      "Training Epoch 1418: 100%|██████████| 258/258 [00:01<00:00, 171.29it/s]\n",
      "Training Epoch 1419: 100%|██████████| 258/258 [00:01<00:00, 182.11it/s]\n",
      "Training Epoch 1420: 100%|██████████| 258/258 [00:01<00:00, 181.35it/s]\n",
      "Training Epoch 1421: 100%|██████████| 258/258 [00:01<00:00, 188.63it/s]\n"
     ]
    },
    {
     "name": "stdout",
     "output_type": "stream",
     "text": [
      "Epoch 1420 - Train Loss: 0.0527, Train MSE: 0.0527, Train MAE: 0.1689\n",
      "Epoch 1420 - Validation Loss: 1.8453, Validation MSE: 1.8367, Validation MAE: 1.0144\n"
     ]
    },
    {
     "name": "stderr",
     "output_type": "stream",
     "text": [
      "Training Epoch 1422: 100%|██████████| 258/258 [00:01<00:00, 179.76it/s]\n",
      "Training Epoch 1423: 100%|██████████| 258/258 [00:01<00:00, 183.17it/s]\n",
      "Training Epoch 1424: 100%|██████████| 258/258 [00:01<00:00, 156.31it/s]\n",
      "Training Epoch 1425: 100%|██████████| 258/258 [00:01<00:00, 181.32it/s]\n",
      "Training Epoch 1426: 100%|██████████| 258/258 [00:01<00:00, 180.74it/s]\n",
      "Training Epoch 1427: 100%|██████████| 258/258 [00:01<00:00, 183.12it/s]\n",
      "Training Epoch 1428: 100%|██████████| 258/258 [00:01<00:00, 181.08it/s]\n",
      "Training Epoch 1429: 100%|██████████| 258/258 [00:01<00:00, 179.14it/s]\n",
      "Training Epoch 1430: 100%|██████████| 258/258 [00:01<00:00, 155.20it/s]\n",
      "Training Epoch 1431: 100%|██████████| 258/258 [00:01<00:00, 166.42it/s]\n"
     ]
    },
    {
     "name": "stdout",
     "output_type": "stream",
     "text": [
      "Epoch 1430 - Train Loss: 0.0565, Train MSE: 0.0565, Train MAE: 0.1717\n",
      "Epoch 1430 - Validation Loss: 1.8502, Validation MSE: 1.8411, Validation MAE: 1.0140\n"
     ]
    },
    {
     "name": "stderr",
     "output_type": "stream",
     "text": [
      "Training Epoch 1432: 100%|██████████| 258/258 [00:01<00:00, 169.07it/s]\n",
      "Training Epoch 1433: 100%|██████████| 258/258 [00:01<00:00, 167.32it/s]\n",
      "Training Epoch 1434: 100%|██████████| 258/258 [00:01<00:00, 162.74it/s]\n",
      "Training Epoch 1435: 100%|██████████| 258/258 [00:01<00:00, 168.39it/s]\n",
      "Training Epoch 1436: 100%|██████████| 258/258 [00:01<00:00, 164.62it/s]\n",
      "Training Epoch 1437: 100%|██████████| 258/258 [00:01<00:00, 166.38it/s]\n",
      "Training Epoch 1438: 100%|██████████| 258/258 [00:01<00:00, 174.10it/s]\n",
      "Training Epoch 1439: 100%|██████████| 258/258 [00:01<00:00, 158.79it/s]\n",
      "Training Epoch 1440: 100%|██████████| 258/258 [00:01<00:00, 174.11it/s]\n",
      "Training Epoch 1441: 100%|██████████| 258/258 [00:01<00:00, 175.80it/s]\n"
     ]
    },
    {
     "name": "stdout",
     "output_type": "stream",
     "text": [
      "Epoch 1440 - Train Loss: 0.0549, Train MSE: 0.0550, Train MAE: 0.1700\n",
      "Epoch 1440 - Validation Loss: 1.8623, Validation MSE: 1.8485, Validation MAE: 1.0188\n"
     ]
    },
    {
     "name": "stderr",
     "output_type": "stream",
     "text": [
      "Training Epoch 1442: 100%|██████████| 258/258 [00:01<00:00, 159.52it/s]\n",
      "Training Epoch 1443: 100%|██████████| 258/258 [00:01<00:00, 166.55it/s]\n",
      "Training Epoch 1444: 100%|██████████| 258/258 [00:01<00:00, 159.17it/s]\n",
      "Training Epoch 1445: 100%|██████████| 258/258 [00:01<00:00, 173.73it/s]\n",
      "Training Epoch 1446: 100%|██████████| 258/258 [00:01<00:00, 176.64it/s]\n",
      "Training Epoch 1447: 100%|██████████| 258/258 [00:01<00:00, 160.60it/s]\n",
      "Training Epoch 1448: 100%|██████████| 258/258 [00:01<00:00, 174.90it/s]\n",
      "Training Epoch 1449: 100%|██████████| 258/258 [00:01<00:00, 179.03it/s]\n",
      "Training Epoch 1450: 100%|██████████| 258/258 [00:01<00:00, 176.95it/s]\n",
      "Training Epoch 1451: 100%|██████████| 258/258 [00:01<00:00, 176.15it/s]\n"
     ]
    },
    {
     "name": "stdout",
     "output_type": "stream",
     "text": [
      "Epoch 1450 - Train Loss: 0.0541, Train MSE: 0.0541, Train MAE: 0.1712\n",
      "Epoch 1450 - Validation Loss: 1.8280, Validation MSE: 1.8173, Validation MAE: 1.0084\n"
     ]
    },
    {
     "name": "stderr",
     "output_type": "stream",
     "text": [
      "Training Epoch 1452: 100%|██████████| 258/258 [00:01<00:00, 180.41it/s]\n",
      "Training Epoch 1453: 100%|██████████| 258/258 [00:01<00:00, 170.01it/s]\n",
      "Training Epoch 1454: 100%|██████████| 258/258 [00:01<00:00, 154.25it/s]\n",
      "Training Epoch 1455: 100%|██████████| 258/258 [00:01<00:00, 165.07it/s]\n",
      "Training Epoch 1456: 100%|██████████| 258/258 [00:01<00:00, 162.16it/s]\n",
      "Training Epoch 1457: 100%|██████████| 258/258 [00:01<00:00, 168.42it/s]\n",
      "Training Epoch 1458: 100%|██████████| 258/258 [00:01<00:00, 171.92it/s]\n",
      "Training Epoch 1459: 100%|██████████| 258/258 [00:01<00:00, 175.45it/s]\n",
      "Training Epoch 1460: 100%|██████████| 258/258 [00:01<00:00, 170.82it/s]\n",
      "Training Epoch 1461: 100%|██████████| 258/258 [00:01<00:00, 153.20it/s]\n"
     ]
    },
    {
     "name": "stdout",
     "output_type": "stream",
     "text": [
      "Epoch 1460 - Train Loss: 0.0526, Train MSE: 0.0527, Train MAE: 0.1668\n",
      "Epoch 1460 - Validation Loss: 1.8577, Validation MSE: 1.8471, Validation MAE: 1.0203\n"
     ]
    },
    {
     "name": "stderr",
     "output_type": "stream",
     "text": [
      "Training Epoch 1462: 100%|██████████| 258/258 [00:01<00:00, 171.60it/s]\n",
      "Training Epoch 1463: 100%|██████████| 258/258 [00:01<00:00, 173.39it/s]\n",
      "Training Epoch 1464: 100%|██████████| 258/258 [00:01<00:00, 165.88it/s]\n",
      "Training Epoch 1465: 100%|██████████| 258/258 [00:01<00:00, 175.24it/s]\n",
      "Training Epoch 1466: 100%|██████████| 258/258 [00:01<00:00, 182.75it/s]\n",
      "Training Epoch 1467: 100%|██████████| 258/258 [00:01<00:00, 184.32it/s]\n",
      "Training Epoch 1468: 100%|██████████| 258/258 [00:01<00:00, 181.13it/s]\n",
      "Training Epoch 1469: 100%|██████████| 258/258 [00:01<00:00, 186.14it/s]\n",
      "Training Epoch 1470: 100%|██████████| 258/258 [00:01<00:00, 185.06it/s]\n",
      "Training Epoch 1471: 100%|██████████| 258/258 [00:01<00:00, 182.95it/s]\n"
     ]
    },
    {
     "name": "stdout",
     "output_type": "stream",
     "text": [
      "Epoch 1470 - Train Loss: 0.0529, Train MSE: 0.0527, Train MAE: 0.1675\n",
      "Epoch 1470 - Validation Loss: 1.8349, Validation MSE: 1.8277, Validation MAE: 1.0101\n"
     ]
    },
    {
     "name": "stderr",
     "output_type": "stream",
     "text": [
      "Training Epoch 1472: 100%|██████████| 258/258 [00:01<00:00, 180.66it/s]\n",
      "Training Epoch 1473: 100%|██████████| 258/258 [00:01<00:00, 181.37it/s]\n",
      "Training Epoch 1474: 100%|██████████| 258/258 [00:01<00:00, 183.14it/s]\n",
      "Training Epoch 1475: 100%|██████████| 258/258 [00:01<00:00, 183.49it/s]\n",
      "Training Epoch 1476: 100%|██████████| 258/258 [00:01<00:00, 186.58it/s]\n",
      "Training Epoch 1477: 100%|██████████| 258/258 [00:01<00:00, 185.52it/s]\n",
      "Training Epoch 1478: 100%|██████████| 258/258 [00:01<00:00, 181.64it/s]\n",
      "Training Epoch 1479: 100%|██████████| 258/258 [00:01<00:00, 178.43it/s]\n",
      "Training Epoch 1480: 100%|██████████| 258/258 [00:01<00:00, 185.27it/s]\n",
      "Training Epoch 1481: 100%|██████████| 258/258 [00:01<00:00, 178.66it/s]\n"
     ]
    },
    {
     "name": "stdout",
     "output_type": "stream",
     "text": [
      "Epoch 1480 - Train Loss: 0.0532, Train MSE: 0.0531, Train MAE: 0.1681\n",
      "Epoch 1480 - Validation Loss: 1.8444, Validation MSE: 1.8338, Validation MAE: 1.0192\n"
     ]
    },
    {
     "name": "stderr",
     "output_type": "stream",
     "text": [
      "Training Epoch 1482: 100%|██████████| 258/258 [00:01<00:00, 181.53it/s]\n",
      "Training Epoch 1483: 100%|██████████| 258/258 [00:01<00:00, 182.04it/s]\n",
      "Training Epoch 1484: 100%|██████████| 258/258 [00:01<00:00, 182.61it/s]\n",
      "Training Epoch 1485: 100%|██████████| 258/258 [00:01<00:00, 181.25it/s]\n",
      "Training Epoch 1486: 100%|██████████| 258/258 [00:01<00:00, 180.61it/s]\n",
      "Training Epoch 1487: 100%|██████████| 258/258 [00:01<00:00, 186.57it/s]\n",
      "Training Epoch 1488: 100%|██████████| 258/258 [00:01<00:00, 186.15it/s]\n",
      "Training Epoch 1489: 100%|██████████| 258/258 [00:01<00:00, 180.78it/s]\n",
      "Training Epoch 1490: 100%|██████████| 258/258 [00:01<00:00, 184.33it/s]\n",
      "Training Epoch 1491: 100%|██████████| 258/258 [00:01<00:00, 183.36it/s]\n"
     ]
    },
    {
     "name": "stdout",
     "output_type": "stream",
     "text": [
      "Epoch 1490 - Train Loss: 0.0534, Train MSE: 0.0535, Train MAE: 0.1674\n",
      "Epoch 1490 - Validation Loss: 1.8386, Validation MSE: 1.8292, Validation MAE: 1.0110\n"
     ]
    },
    {
     "name": "stderr",
     "output_type": "stream",
     "text": [
      "Training Epoch 1492: 100%|██████████| 258/258 [00:01<00:00, 181.75it/s]\n",
      "Training Epoch 1493: 100%|██████████| 258/258 [00:01<00:00, 182.43it/s]\n",
      "Training Epoch 1494: 100%|██████████| 258/258 [00:01<00:00, 184.22it/s]\n",
      "Training Epoch 1495: 100%|██████████| 258/258 [00:01<00:00, 182.52it/s]\n",
      "Training Epoch 1496: 100%|██████████| 258/258 [00:01<00:00, 183.82it/s]\n",
      "Training Epoch 1497: 100%|██████████| 258/258 [00:01<00:00, 179.89it/s]\n",
      "Training Epoch 1498: 100%|██████████| 258/258 [00:01<00:00, 183.44it/s]\n",
      "Training Epoch 1499: 100%|██████████| 258/258 [00:01<00:00, 177.40it/s]\n",
      "Training Epoch 1500: 100%|██████████| 258/258 [00:01<00:00, 179.84it/s]\n",
      "Training Epoch 1501: 100%|██████████| 258/258 [00:01<00:00, 173.67it/s]\n"
     ]
    },
    {
     "name": "stdout",
     "output_type": "stream",
     "text": [
      "Epoch 1500 - Train Loss: 0.0505, Train MSE: 0.0506, Train MAE: 0.1631\n",
      "Epoch 1500 - Validation Loss: 1.8501, Validation MSE: 1.8362, Validation MAE: 1.0130\n"
     ]
    },
    {
     "name": "stderr",
     "output_type": "stream",
     "text": [
      "Training Epoch 1502: 100%|██████████| 258/258 [00:01<00:00, 182.48it/s]\n",
      "Training Epoch 1503: 100%|██████████| 258/258 [00:01<00:00, 186.41it/s]\n",
      "Training Epoch 1504: 100%|██████████| 258/258 [00:01<00:00, 179.93it/s]\n",
      "Training Epoch 1505: 100%|██████████| 258/258 [00:01<00:00, 185.57it/s]\n",
      "Training Epoch 1506: 100%|██████████| 258/258 [00:01<00:00, 182.72it/s]\n",
      "Training Epoch 1507: 100%|██████████| 258/258 [00:01<00:00, 185.89it/s]\n",
      "Training Epoch 1508: 100%|██████████| 258/258 [00:01<00:00, 186.64it/s]\n",
      "Training Epoch 1509: 100%|██████████| 258/258 [00:01<00:00, 187.63it/s]\n",
      "Training Epoch 1510: 100%|██████████| 258/258 [00:01<00:00, 182.87it/s]\n",
      "Training Epoch 1511: 100%|██████████| 258/258 [00:01<00:00, 180.32it/s]\n"
     ]
    },
    {
     "name": "stdout",
     "output_type": "stream",
     "text": [
      "Epoch 1510 - Train Loss: 0.0518, Train MSE: 0.0517, Train MAE: 0.1663\n",
      "Epoch 1510 - Validation Loss: 1.8631, Validation MSE: 1.8538, Validation MAE: 1.0177\n"
     ]
    },
    {
     "name": "stderr",
     "output_type": "stream",
     "text": [
      "Training Epoch 1512: 100%|██████████| 258/258 [00:01<00:00, 185.50it/s]\n",
      "Training Epoch 1513: 100%|██████████| 258/258 [00:01<00:00, 180.65it/s]\n",
      "Training Epoch 1514: 100%|██████████| 258/258 [00:01<00:00, 179.21it/s]\n",
      "Training Epoch 1515: 100%|██████████| 258/258 [00:01<00:00, 182.80it/s]\n",
      "Training Epoch 1516: 100%|██████████| 258/258 [00:01<00:00, 181.71it/s]\n",
      "Training Epoch 1517: 100%|██████████| 258/258 [00:01<00:00, 183.56it/s]\n",
      "Training Epoch 1518: 100%|██████████| 258/258 [00:01<00:00, 185.88it/s]\n",
      "Training Epoch 1519: 100%|██████████| 258/258 [00:01<00:00, 189.92it/s]\n",
      "Training Epoch 1520: 100%|██████████| 258/258 [00:01<00:00, 192.65it/s]\n",
      "Training Epoch 1521: 100%|██████████| 258/258 [00:01<00:00, 182.31it/s]\n"
     ]
    },
    {
     "name": "stdout",
     "output_type": "stream",
     "text": [
      "Epoch 1520 - Train Loss: 0.0496, Train MSE: 0.0497, Train MAE: 0.1613\n",
      "Epoch 1520 - Validation Loss: 1.8464, Validation MSE: 1.8300, Validation MAE: 1.0122\n"
     ]
    },
    {
     "name": "stderr",
     "output_type": "stream",
     "text": [
      "Training Epoch 1522: 100%|██████████| 258/258 [00:01<00:00, 178.66it/s]\n",
      "Training Epoch 1523: 100%|██████████| 258/258 [00:01<00:00, 181.29it/s]\n",
      "Training Epoch 1524: 100%|██████████| 258/258 [00:01<00:00, 179.35it/s]\n",
      "Training Epoch 1525: 100%|██████████| 258/258 [00:01<00:00, 181.25it/s]\n",
      "Training Epoch 1526: 100%|██████████| 258/258 [00:01<00:00, 183.54it/s]\n",
      "Training Epoch 1527: 100%|██████████| 258/258 [00:01<00:00, 178.82it/s]\n",
      "Training Epoch 1528: 100%|██████████| 258/258 [00:01<00:00, 184.98it/s]\n",
      "Training Epoch 1529: 100%|██████████| 258/258 [00:01<00:00, 182.76it/s]\n",
      "Training Epoch 1530: 100%|██████████| 258/258 [00:01<00:00, 184.89it/s]\n",
      "Training Epoch 1531: 100%|██████████| 258/258 [00:01<00:00, 184.17it/s]\n"
     ]
    },
    {
     "name": "stdout",
     "output_type": "stream",
     "text": [
      "Epoch 1530 - Train Loss: 0.0523, Train MSE: 0.0524, Train MAE: 0.1670\n",
      "Epoch 1530 - Validation Loss: 1.8443, Validation MSE: 1.8294, Validation MAE: 1.0115\n"
     ]
    },
    {
     "name": "stderr",
     "output_type": "stream",
     "text": [
      "Training Epoch 1532: 100%|██████████| 258/258 [00:01<00:00, 173.49it/s]\n",
      "Training Epoch 1533: 100%|██████████| 258/258 [00:01<00:00, 183.12it/s]\n",
      "Training Epoch 1534: 100%|██████████| 258/258 [00:01<00:00, 181.99it/s]\n",
      "Training Epoch 1535: 100%|██████████| 258/258 [00:01<00:00, 182.54it/s]\n",
      "Training Epoch 1536: 100%|██████████| 258/258 [00:01<00:00, 186.36it/s]\n",
      "Training Epoch 1537: 100%|██████████| 258/258 [00:01<00:00, 184.38it/s]\n",
      "Training Epoch 1538: 100%|██████████| 258/258 [00:01<00:00, 182.69it/s]\n",
      "Training Epoch 1539: 100%|██████████| 258/258 [00:01<00:00, 183.69it/s]\n",
      "Training Epoch 1540: 100%|██████████| 258/258 [00:01<00:00, 181.46it/s]\n",
      "Training Epoch 1541: 100%|██████████| 258/258 [00:01<00:00, 173.87it/s]\n"
     ]
    },
    {
     "name": "stdout",
     "output_type": "stream",
     "text": [
      "Epoch 1540 - Train Loss: 0.0519, Train MSE: 0.0520, Train MAE: 0.1671\n",
      "Epoch 1540 - Validation Loss: 1.8358, Validation MSE: 1.8222, Validation MAE: 1.0091\n"
     ]
    },
    {
     "name": "stderr",
     "output_type": "stream",
     "text": [
      "Training Epoch 1542: 100%|██████████| 258/258 [00:01<00:00, 173.32it/s]\n",
      "Training Epoch 1543: 100%|██████████| 258/258 [00:01<00:00, 172.16it/s]\n",
      "Training Epoch 1544: 100%|██████████| 258/258 [00:01<00:00, 187.37it/s]\n",
      "Training Epoch 1545: 100%|██████████| 258/258 [00:01<00:00, 183.63it/s]\n",
      "Training Epoch 1546: 100%|██████████| 258/258 [00:01<00:00, 187.33it/s]\n",
      "Training Epoch 1547: 100%|██████████| 258/258 [00:01<00:00, 182.57it/s]\n",
      "Training Epoch 1548: 100%|██████████| 258/258 [00:01<00:00, 184.74it/s]\n",
      "Training Epoch 1549: 100%|██████████| 258/258 [00:01<00:00, 184.21it/s]\n",
      "Training Epoch 1550: 100%|██████████| 258/258 [00:01<00:00, 184.65it/s]\n",
      "Training Epoch 1551: 100%|██████████| 258/258 [00:01<00:00, 184.72it/s]\n"
     ]
    },
    {
     "name": "stdout",
     "output_type": "stream",
     "text": [
      "Epoch 1550 - Train Loss: 0.0518, Train MSE: 0.0517, Train MAE: 0.1656\n",
      "Epoch 1550 - Validation Loss: 1.8660, Validation MSE: 1.8544, Validation MAE: 1.0225\n"
     ]
    },
    {
     "name": "stderr",
     "output_type": "stream",
     "text": [
      "Training Epoch 1552: 100%|██████████| 258/258 [00:01<00:00, 185.13it/s]\n",
      "Training Epoch 1553: 100%|██████████| 258/258 [00:01<00:00, 179.33it/s]\n",
      "Training Epoch 1554: 100%|██████████| 258/258 [00:01<00:00, 185.03it/s]\n",
      "Training Epoch 1555: 100%|██████████| 258/258 [00:01<00:00, 183.52it/s]\n",
      "Training Epoch 1556: 100%|██████████| 258/258 [00:01<00:00, 182.42it/s]\n",
      "Training Epoch 1557: 100%|██████████| 258/258 [00:01<00:00, 183.37it/s]\n",
      "Training Epoch 1558: 100%|██████████| 258/258 [00:01<00:00, 184.93it/s]\n",
      "Training Epoch 1559: 100%|██████████| 258/258 [00:01<00:00, 183.71it/s]\n",
      "Training Epoch 1560: 100%|██████████| 258/258 [00:01<00:00, 185.23it/s]\n",
      "Training Epoch 1561: 100%|██████████| 258/258 [00:01<00:00, 180.27it/s]\n"
     ]
    },
    {
     "name": "stdout",
     "output_type": "stream",
     "text": [
      "Epoch 1560 - Train Loss: 0.0508, Train MSE: 0.0506, Train MAE: 0.1630\n",
      "Epoch 1560 - Validation Loss: 1.8466, Validation MSE: 1.8378, Validation MAE: 1.0128\n"
     ]
    },
    {
     "name": "stderr",
     "output_type": "stream",
     "text": [
      "Training Epoch 1562: 100%|██████████| 258/258 [00:01<00:00, 181.34it/s]\n",
      "Training Epoch 1563: 100%|██████████| 258/258 [00:01<00:00, 179.50it/s]\n",
      "Training Epoch 1564: 100%|██████████| 258/258 [00:01<00:00, 173.53it/s]\n",
      "Training Epoch 1565: 100%|██████████| 258/258 [00:01<00:00, 182.29it/s]\n",
      "Training Epoch 1566: 100%|██████████| 258/258 [00:01<00:00, 182.07it/s]\n",
      "Training Epoch 1567: 100%|██████████| 258/258 [00:01<00:00, 182.56it/s]\n",
      "Training Epoch 1568: 100%|██████████| 258/258 [00:01<00:00, 184.98it/s]\n",
      "Training Epoch 1569: 100%|██████████| 258/258 [00:01<00:00, 179.21it/s]\n",
      "Training Epoch 1570: 100%|██████████| 258/258 [00:01<00:00, 187.40it/s]\n",
      "Training Epoch 1571: 100%|██████████| 258/258 [00:01<00:00, 184.78it/s]\n"
     ]
    },
    {
     "name": "stdout",
     "output_type": "stream",
     "text": [
      "Epoch 1570 - Train Loss: 0.0512, Train MSE: 0.0513, Train MAE: 0.1652\n",
      "Epoch 1570 - Validation Loss: 1.8409, Validation MSE: 1.8277, Validation MAE: 1.0103\n"
     ]
    },
    {
     "name": "stderr",
     "output_type": "stream",
     "text": [
      "Training Epoch 1572: 100%|██████████| 258/258 [00:01<00:00, 180.71it/s]\n",
      "Training Epoch 1573: 100%|██████████| 258/258 [00:01<00:00, 189.05it/s]\n",
      "Training Epoch 1574: 100%|██████████| 258/258 [00:01<00:00, 182.75it/s]\n",
      "Training Epoch 1575: 100%|██████████| 258/258 [00:01<00:00, 181.58it/s]\n",
      "Training Epoch 1576: 100%|██████████| 258/258 [00:01<00:00, 188.97it/s]\n",
      "Training Epoch 1577: 100%|██████████| 258/258 [00:01<00:00, 182.13it/s]\n",
      "Training Epoch 1578: 100%|██████████| 258/258 [00:01<00:00, 184.90it/s]\n",
      "Training Epoch 1579: 100%|██████████| 258/258 [00:01<00:00, 180.32it/s]\n",
      "Training Epoch 1580: 100%|██████████| 258/258 [00:01<00:00, 183.53it/s]\n",
      "Training Epoch 1581: 100%|██████████| 258/258 [00:01<00:00, 170.44it/s]\n"
     ]
    },
    {
     "name": "stdout",
     "output_type": "stream",
     "text": [
      "Epoch 1580 - Train Loss: 0.0490, Train MSE: 0.0491, Train MAE: 0.1606\n",
      "Epoch 1580 - Validation Loss: 1.8400, Validation MSE: 1.8321, Validation MAE: 1.0139\n"
     ]
    },
    {
     "name": "stderr",
     "output_type": "stream",
     "text": [
      "Training Epoch 1582: 100%|██████████| 258/258 [00:01<00:00, 181.93it/s]\n",
      "Training Epoch 1583: 100%|██████████| 258/258 [00:01<00:00, 183.60it/s]\n",
      "Training Epoch 1584: 100%|██████████| 258/258 [00:01<00:00, 186.30it/s]\n",
      "Training Epoch 1585: 100%|██████████| 258/258 [00:01<00:00, 182.46it/s]\n",
      "Training Epoch 1586: 100%|██████████| 258/258 [00:01<00:00, 184.38it/s]\n",
      "Training Epoch 1587: 100%|██████████| 258/258 [00:01<00:00, 186.46it/s]\n",
      "Training Epoch 1588: 100%|██████████| 258/258 [00:01<00:00, 182.66it/s]\n",
      "Training Epoch 1589: 100%|██████████| 258/258 [00:01<00:00, 183.83it/s]\n",
      "Training Epoch 1590: 100%|██████████| 258/258 [00:01<00:00, 185.85it/s]\n",
      "Training Epoch 1591: 100%|██████████| 258/258 [00:01<00:00, 180.11it/s]\n"
     ]
    },
    {
     "name": "stdout",
     "output_type": "stream",
     "text": [
      "Epoch 1590 - Train Loss: 0.0490, Train MSE: 0.0490, Train MAE: 0.1618\n",
      "Epoch 1590 - Validation Loss: 1.8222, Validation MSE: 1.8156, Validation MAE: 1.0092\n"
     ]
    },
    {
     "name": "stderr",
     "output_type": "stream",
     "text": [
      "Training Epoch 1592: 100%|██████████| 258/258 [00:01<00:00, 185.23it/s]\n",
      "Training Epoch 1593: 100%|██████████| 258/258 [00:01<00:00, 184.63it/s]\n",
      "Training Epoch 1594: 100%|██████████| 258/258 [00:01<00:00, 183.65it/s]\n",
      "Training Epoch 1595: 100%|██████████| 258/258 [00:01<00:00, 185.07it/s]\n",
      "Training Epoch 1596: 100%|██████████| 258/258 [00:01<00:00, 180.27it/s]\n",
      "Training Epoch 1597: 100%|██████████| 258/258 [00:01<00:00, 185.37it/s]\n",
      "Training Epoch 1598: 100%|██████████| 258/258 [00:01<00:00, 183.66it/s]\n",
      "Training Epoch 1599: 100%|██████████| 258/258 [00:01<00:00, 181.77it/s]\n",
      "Training Epoch 1600: 100%|██████████| 258/258 [00:01<00:00, 183.48it/s]\n",
      "Training Epoch 1601: 100%|██████████| 258/258 [00:01<00:00, 183.73it/s]\n"
     ]
    },
    {
     "name": "stdout",
     "output_type": "stream",
     "text": [
      "Epoch 1600 - Train Loss: 0.0506, Train MSE: 0.0504, Train MAE: 0.1629\n",
      "Epoch 1600 - Validation Loss: 1.8386, Validation MSE: 1.8291, Validation MAE: 1.0138\n"
     ]
    },
    {
     "name": "stderr",
     "output_type": "stream",
     "text": [
      "Training Epoch 1602: 100%|██████████| 258/258 [00:01<00:00, 181.92it/s]\n",
      "Training Epoch 1603: 100%|██████████| 258/258 [00:01<00:00, 184.63it/s]\n",
      "Training Epoch 1604: 100%|██████████| 258/258 [00:01<00:00, 181.28it/s]\n",
      "Training Epoch 1605: 100%|██████████| 258/258 [00:01<00:00, 184.97it/s]\n",
      "Training Epoch 1606: 100%|██████████| 258/258 [00:01<00:00, 185.37it/s]\n",
      "Training Epoch 1607: 100%|██████████| 258/258 [00:01<00:00, 179.78it/s]\n",
      "Training Epoch 1608: 100%|██████████| 258/258 [00:01<00:00, 185.09it/s]\n",
      "Training Epoch 1609: 100%|██████████| 258/258 [00:01<00:00, 179.78it/s]\n",
      "Training Epoch 1610: 100%|██████████| 258/258 [00:01<00:00, 180.22it/s]\n",
      "Training Epoch 1611: 100%|██████████| 258/258 [00:01<00:00, 181.24it/s]\n"
     ]
    },
    {
     "name": "stdout",
     "output_type": "stream",
     "text": [
      "Epoch 1610 - Train Loss: 0.0497, Train MSE: 0.0498, Train MAE: 0.1619\n",
      "Epoch 1610 - Validation Loss: 1.8312, Validation MSE: 1.8209, Validation MAE: 1.0100\n"
     ]
    },
    {
     "name": "stderr",
     "output_type": "stream",
     "text": [
      "Training Epoch 1612: 100%|██████████| 258/258 [00:01<00:00, 179.02it/s]\n",
      "Training Epoch 1613: 100%|██████████| 258/258 [00:01<00:00, 180.87it/s]\n",
      "Training Epoch 1614: 100%|██████████| 258/258 [00:01<00:00, 187.26it/s]\n",
      "Training Epoch 1615: 100%|██████████| 258/258 [00:01<00:00, 184.16it/s]\n",
      "Training Epoch 1616: 100%|██████████| 258/258 [00:01<00:00, 169.22it/s]\n",
      "Training Epoch 1617: 100%|██████████| 258/258 [00:01<00:00, 177.29it/s]\n",
      "Training Epoch 1618: 100%|██████████| 258/258 [00:01<00:00, 181.28it/s]\n",
      "Training Epoch 1619: 100%|██████████| 258/258 [00:01<00:00, 186.41it/s]\n",
      "Training Epoch 1620: 100%|██████████| 258/258 [00:01<00:00, 183.80it/s]\n",
      "Training Epoch 1621: 100%|██████████| 258/258 [00:01<00:00, 168.39it/s]\n"
     ]
    },
    {
     "name": "stdout",
     "output_type": "stream",
     "text": [
      "Epoch 1620 - Train Loss: 0.0500, Train MSE: 0.0500, Train MAE: 0.1627\n",
      "Epoch 1620 - Validation Loss: 1.8408, Validation MSE: 1.8332, Validation MAE: 1.0155\n"
     ]
    },
    {
     "name": "stderr",
     "output_type": "stream",
     "text": [
      "Training Epoch 1622: 100%|██████████| 258/258 [00:01<00:00, 172.08it/s]\n",
      "Training Epoch 1623: 100%|██████████| 258/258 [00:01<00:00, 183.69it/s]\n",
      "Training Epoch 1624: 100%|██████████| 258/258 [00:01<00:00, 184.23it/s]\n",
      "Training Epoch 1625: 100%|██████████| 258/258 [00:01<00:00, 185.54it/s]\n",
      "Training Epoch 1626: 100%|██████████| 258/258 [00:01<00:00, 186.41it/s]\n",
      "Training Epoch 1627: 100%|██████████| 258/258 [00:01<00:00, 183.77it/s]\n",
      "Training Epoch 1628: 100%|██████████| 258/258 [00:01<00:00, 177.70it/s]\n",
      "Training Epoch 1629: 100%|██████████| 258/258 [00:01<00:00, 179.74it/s]\n",
      "Training Epoch 1630: 100%|██████████| 258/258 [00:01<00:00, 185.76it/s]\n",
      "Training Epoch 1631: 100%|██████████| 258/258 [00:01<00:00, 183.58it/s]\n"
     ]
    },
    {
     "name": "stdout",
     "output_type": "stream",
     "text": [
      "Epoch 1630 - Train Loss: 0.0520, Train MSE: 0.0521, Train MAE: 0.1656\n",
      "Epoch 1630 - Validation Loss: 1.8337, Validation MSE: 1.8226, Validation MAE: 1.0103\n"
     ]
    },
    {
     "name": "stderr",
     "output_type": "stream",
     "text": [
      "Training Epoch 1632: 100%|██████████| 258/258 [00:01<00:00, 181.03it/s]\n",
      "Training Epoch 1633: 100%|██████████| 258/258 [00:01<00:00, 184.94it/s]\n",
      "Training Epoch 1634: 100%|██████████| 258/258 [00:01<00:00, 180.40it/s]\n",
      "Training Epoch 1635: 100%|██████████| 258/258 [00:01<00:00, 184.85it/s]\n",
      "Training Epoch 1636: 100%|██████████| 258/258 [00:01<00:00, 183.43it/s]\n",
      "Training Epoch 1637: 100%|██████████| 258/258 [00:01<00:00, 183.11it/s]\n",
      "Training Epoch 1638: 100%|██████████| 258/258 [00:01<00:00, 182.35it/s]\n",
      "Training Epoch 1639: 100%|██████████| 258/258 [00:01<00:00, 180.42it/s]\n",
      "Training Epoch 1640: 100%|██████████| 258/258 [00:01<00:00, 186.33it/s]\n",
      "Training Epoch 1641: 100%|██████████| 258/258 [00:01<00:00, 182.19it/s]\n"
     ]
    },
    {
     "name": "stdout",
     "output_type": "stream",
     "text": [
      "Epoch 1640 - Train Loss: 0.0485, Train MSE: 0.0486, Train MAE: 0.1594\n",
      "Epoch 1640 - Validation Loss: 1.8364, Validation MSE: 1.8236, Validation MAE: 1.0161\n"
     ]
    },
    {
     "name": "stderr",
     "output_type": "stream",
     "text": [
      "Training Epoch 1642: 100%|██████████| 258/258 [00:01<00:00, 180.71it/s]\n",
      "Training Epoch 1643: 100%|██████████| 258/258 [00:01<00:00, 181.43it/s]\n",
      "Training Epoch 1644: 100%|██████████| 258/258 [00:01<00:00, 192.28it/s]\n",
      "Training Epoch 1645: 100%|██████████| 258/258 [00:01<00:00, 182.39it/s]\n",
      "Training Epoch 1646: 100%|██████████| 258/258 [00:01<00:00, 182.93it/s]\n",
      "Training Epoch 1647: 100%|██████████| 258/258 [00:01<00:00, 182.74it/s]\n",
      "Training Epoch 1648: 100%|██████████| 258/258 [00:01<00:00, 183.25it/s]\n",
      "Training Epoch 1649: 100%|██████████| 258/258 [00:01<00:00, 180.38it/s]\n",
      "Training Epoch 1650: 100%|██████████| 258/258 [00:01<00:00, 179.87it/s]\n",
      "Training Epoch 1651: 100%|██████████| 258/258 [00:01<00:00, 181.31it/s]\n"
     ]
    },
    {
     "name": "stdout",
     "output_type": "stream",
     "text": [
      "Epoch 1650 - Train Loss: 0.0487, Train MSE: 0.0488, Train MAE: 0.1607\n",
      "Epoch 1650 - Validation Loss: 1.8455, Validation MSE: 1.8363, Validation MAE: 1.0177\n"
     ]
    },
    {
     "name": "stderr",
     "output_type": "stream",
     "text": [
      "Training Epoch 1652: 100%|██████████| 258/258 [00:01<00:00, 180.04it/s]\n",
      "Training Epoch 1653: 100%|██████████| 258/258 [00:01<00:00, 181.83it/s]\n",
      "Training Epoch 1654: 100%|██████████| 258/258 [00:01<00:00, 183.82it/s]\n",
      "Training Epoch 1655: 100%|██████████| 258/258 [00:01<00:00, 183.97it/s]\n",
      "Training Epoch 1656: 100%|██████████| 258/258 [00:01<00:00, 180.95it/s]\n",
      "Training Epoch 1657: 100%|██████████| 258/258 [00:01<00:00, 180.56it/s]\n",
      "Training Epoch 1658: 100%|██████████| 258/258 [00:01<00:00, 185.09it/s]\n",
      "Training Epoch 1659: 100%|██████████| 258/258 [00:01<00:00, 180.38it/s]\n",
      "Training Epoch 1660: 100%|██████████| 258/258 [00:01<00:00, 178.05it/s]\n",
      "Training Epoch 1661: 100%|██████████| 258/258 [00:01<00:00, 159.07it/s]\n"
     ]
    },
    {
     "name": "stdout",
     "output_type": "stream",
     "text": [
      "Epoch 1660 - Train Loss: 0.0492, Train MSE: 0.0492, Train MAE: 0.1606\n",
      "Epoch 1660 - Validation Loss: 1.8610, Validation MSE: 1.8489, Validation MAE: 1.0193\n"
     ]
    },
    {
     "name": "stderr",
     "output_type": "stream",
     "text": [
      "Training Epoch 1662: 100%|██████████| 258/258 [00:01<00:00, 176.99it/s]\n",
      "Training Epoch 1663: 100%|██████████| 258/258 [00:01<00:00, 180.87it/s]\n",
      "Training Epoch 1664: 100%|██████████| 258/258 [00:01<00:00, 180.75it/s]\n",
      "Training Epoch 1665: 100%|██████████| 258/258 [00:01<00:00, 185.72it/s]\n",
      "Training Epoch 1666: 100%|██████████| 258/258 [00:01<00:00, 181.88it/s]\n",
      "Training Epoch 1667: 100%|██████████| 258/258 [00:01<00:00, 184.29it/s]\n",
      "Training Epoch 1668: 100%|██████████| 258/258 [00:01<00:00, 177.22it/s]\n",
      "Training Epoch 1669: 100%|██████████| 258/258 [00:01<00:00, 179.78it/s]\n",
      "Training Epoch 1670: 100%|██████████| 258/258 [00:01<00:00, 182.32it/s]\n",
      "Training Epoch 1671: 100%|██████████| 258/258 [00:01<00:00, 176.05it/s]\n"
     ]
    },
    {
     "name": "stdout",
     "output_type": "stream",
     "text": [
      "Epoch 1670 - Train Loss: 0.0495, Train MSE: 0.0496, Train MAE: 0.1626\n",
      "Epoch 1670 - Validation Loss: 1.8633, Validation MSE: 1.8523, Validation MAE: 1.0150\n"
     ]
    },
    {
     "name": "stderr",
     "output_type": "stream",
     "text": [
      "Training Epoch 1672: 100%|██████████| 258/258 [00:01<00:00, 185.65it/s]\n",
      "Training Epoch 1673: 100%|██████████| 258/258 [00:01<00:00, 183.77it/s]\n",
      "Training Epoch 1674: 100%|██████████| 258/258 [00:01<00:00, 182.45it/s]\n",
      "Training Epoch 1675: 100%|██████████| 258/258 [00:01<00:00, 184.98it/s]\n",
      "Training Epoch 1676: 100%|██████████| 258/258 [00:01<00:00, 184.94it/s]\n",
      "Training Epoch 1677: 100%|██████████| 258/258 [00:01<00:00, 184.94it/s]\n",
      "Training Epoch 1678: 100%|██████████| 258/258 [00:01<00:00, 176.35it/s]\n",
      "Training Epoch 1679: 100%|██████████| 258/258 [00:01<00:00, 182.31it/s]\n",
      "Training Epoch 1680: 100%|██████████| 258/258 [00:01<00:00, 183.82it/s]\n",
      "Training Epoch 1681: 100%|██████████| 258/258 [00:01<00:00, 182.93it/s]\n"
     ]
    },
    {
     "name": "stdout",
     "output_type": "stream",
     "text": [
      "Epoch 1680 - Train Loss: 0.0482, Train MSE: 0.0483, Train MAE: 0.1595\n",
      "Epoch 1680 - Validation Loss: 1.8416, Validation MSE: 1.8295, Validation MAE: 1.0111\n"
     ]
    },
    {
     "name": "stderr",
     "output_type": "stream",
     "text": [
      "Training Epoch 1682: 100%|██████████| 258/258 [00:01<00:00, 177.02it/s]\n",
      "Training Epoch 1683: 100%|██████████| 258/258 [00:01<00:00, 188.04it/s]\n",
      "Training Epoch 1684: 100%|██████████| 258/258 [00:01<00:00, 175.93it/s]\n",
      "Training Epoch 1685: 100%|██████████| 258/258 [00:01<00:00, 185.41it/s]\n",
      "Training Epoch 1686: 100%|██████████| 258/258 [00:01<00:00, 180.75it/s]\n",
      "Training Epoch 1687: 100%|██████████| 258/258 [00:01<00:00, 180.84it/s]\n",
      "Training Epoch 1688: 100%|██████████| 258/258 [00:01<00:00, 177.36it/s]\n",
      "Training Epoch 1689: 100%|██████████| 258/258 [00:01<00:00, 179.53it/s]\n",
      "Training Epoch 1690: 100%|██████████| 258/258 [00:01<00:00, 182.02it/s]\n",
      "Training Epoch 1691: 100%|██████████| 258/258 [00:01<00:00, 176.42it/s]\n"
     ]
    },
    {
     "name": "stdout",
     "output_type": "stream",
     "text": [
      "Epoch 1690 - Train Loss: 0.0491, Train MSE: 0.0492, Train MAE: 0.1623\n",
      "Epoch 1690 - Validation Loss: 1.8387, Validation MSE: 1.8259, Validation MAE: 1.0146\n"
     ]
    },
    {
     "name": "stderr",
     "output_type": "stream",
     "text": [
      "Training Epoch 1692: 100%|██████████| 258/258 [00:01<00:00, 172.66it/s]\n",
      "Training Epoch 1693: 100%|██████████| 258/258 [00:01<00:00, 184.57it/s]\n",
      "Training Epoch 1694: 100%|██████████| 258/258 [00:01<00:00, 183.12it/s]\n",
      "Training Epoch 1695: 100%|██████████| 258/258 [00:01<00:00, 182.67it/s]\n",
      "Training Epoch 1696: 100%|██████████| 258/258 [00:01<00:00, 183.73it/s]\n",
      "Training Epoch 1697: 100%|██████████| 258/258 [00:01<00:00, 190.59it/s]\n",
      "Training Epoch 1698: 100%|██████████| 258/258 [00:01<00:00, 183.38it/s]\n",
      "Training Epoch 1699: 100%|██████████| 258/258 [00:01<00:00, 175.05it/s]\n",
      "Training Epoch 1700: 100%|██████████| 258/258 [00:01<00:00, 171.03it/s]\n",
      "Training Epoch 1701: 100%|██████████| 258/258 [00:01<00:00, 176.64it/s]\n"
     ]
    },
    {
     "name": "stdout",
     "output_type": "stream",
     "text": [
      "Epoch 1700 - Train Loss: 0.0459, Train MSE: 0.0460, Train MAE: 0.1567\n",
      "Epoch 1700 - Validation Loss: 1.8422, Validation MSE: 1.8323, Validation MAE: 1.0151\n"
     ]
    },
    {
     "name": "stderr",
     "output_type": "stream",
     "text": [
      "Training Epoch 1702: 100%|██████████| 258/258 [00:01<00:00, 177.68it/s]\n",
      "Training Epoch 1703: 100%|██████████| 258/258 [00:01<00:00, 180.94it/s]\n",
      "Training Epoch 1704: 100%|██████████| 258/258 [00:01<00:00, 183.01it/s]\n",
      "Training Epoch 1705: 100%|██████████| 258/258 [00:01<00:00, 179.03it/s]\n",
      "Training Epoch 1706: 100%|██████████| 258/258 [00:01<00:00, 177.09it/s]\n",
      "Training Epoch 1707: 100%|██████████| 258/258 [00:01<00:00, 177.64it/s]\n",
      "Training Epoch 1708: 100%|██████████| 258/258 [00:01<00:00, 184.51it/s]\n",
      "Training Epoch 1709: 100%|██████████| 258/258 [00:01<00:00, 183.06it/s]\n",
      "Training Epoch 1710: 100%|██████████| 258/258 [00:01<00:00, 182.58it/s]\n",
      "Training Epoch 1711: 100%|██████████| 258/258 [00:01<00:00, 182.03it/s]\n"
     ]
    },
    {
     "name": "stdout",
     "output_type": "stream",
     "text": [
      "Epoch 1710 - Train Loss: 0.0498, Train MSE: 0.0498, Train MAE: 0.1605\n",
      "Epoch 1710 - Validation Loss: 1.8500, Validation MSE: 1.8393, Validation MAE: 1.0180\n"
     ]
    },
    {
     "name": "stderr",
     "output_type": "stream",
     "text": [
      "Training Epoch 1712: 100%|██████████| 258/258 [00:01<00:00, 175.20it/s]\n",
      "Training Epoch 1713: 100%|██████████| 258/258 [00:01<00:00, 175.97it/s]\n",
      "Training Epoch 1714: 100%|██████████| 258/258 [00:01<00:00, 183.32it/s]\n",
      "Training Epoch 1715: 100%|██████████| 258/258 [00:01<00:00, 183.21it/s]\n",
      "Training Epoch 1716: 100%|██████████| 258/258 [00:01<00:00, 180.72it/s]\n",
      "Training Epoch 1717: 100%|██████████| 258/258 [00:01<00:00, 184.12it/s]\n",
      "Training Epoch 1718: 100%|██████████| 258/258 [00:01<00:00, 181.79it/s]\n",
      "Training Epoch 1719: 100%|██████████| 258/258 [00:01<00:00, 182.21it/s]\n",
      "Training Epoch 1720: 100%|██████████| 258/258 [00:01<00:00, 180.52it/s]\n",
      "Training Epoch 1721: 100%|██████████| 258/258 [00:01<00:00, 180.60it/s]\n"
     ]
    },
    {
     "name": "stdout",
     "output_type": "stream",
     "text": [
      "Epoch 1720 - Train Loss: 0.0481, Train MSE: 0.0481, Train MAE: 0.1594\n",
      "Epoch 1720 - Validation Loss: 1.8588, Validation MSE: 1.8477, Validation MAE: 1.0182\n"
     ]
    },
    {
     "name": "stderr",
     "output_type": "stream",
     "text": [
      "Training Epoch 1722: 100%|██████████| 258/258 [00:01<00:00, 185.67it/s]\n",
      "Training Epoch 1723: 100%|██████████| 258/258 [00:01<00:00, 182.93it/s]\n",
      "Training Epoch 1724: 100%|██████████| 258/258 [00:01<00:00, 178.63it/s]\n",
      "Training Epoch 1725: 100%|██████████| 258/258 [00:01<00:00, 182.24it/s]\n",
      "Training Epoch 1726: 100%|██████████| 258/258 [00:01<00:00, 180.42it/s]\n",
      "Training Epoch 1727: 100%|██████████| 258/258 [00:01<00:00, 184.78it/s]\n",
      "Training Epoch 1728: 100%|██████████| 258/258 [00:01<00:00, 178.69it/s]\n",
      "Training Epoch 1729: 100%|██████████| 258/258 [00:01<00:00, 181.78it/s]\n",
      "Training Epoch 1730: 100%|██████████| 258/258 [00:01<00:00, 177.28it/s]\n",
      "Training Epoch 1731: 100%|██████████| 258/258 [00:01<00:00, 177.54it/s]\n"
     ]
    },
    {
     "name": "stdout",
     "output_type": "stream",
     "text": [
      "Epoch 1730 - Train Loss: 0.0481, Train MSE: 0.0481, Train MAE: 0.1590\n",
      "Epoch 1730 - Validation Loss: 1.8450, Validation MSE: 1.8339, Validation MAE: 1.0118\n"
     ]
    },
    {
     "name": "stderr",
     "output_type": "stream",
     "text": [
      "Training Epoch 1732: 100%|██████████| 258/258 [00:01<00:00, 172.06it/s]\n",
      "Training Epoch 1733: 100%|██████████| 258/258 [00:01<00:00, 186.72it/s]\n",
      "Training Epoch 1734: 100%|██████████| 258/258 [00:01<00:00, 179.58it/s]\n",
      "Training Epoch 1735: 100%|██████████| 258/258 [00:01<00:00, 184.11it/s]\n",
      "Training Epoch 1736: 100%|██████████| 258/258 [00:01<00:00, 186.27it/s]\n",
      "Training Epoch 1737: 100%|██████████| 258/258 [00:01<00:00, 182.49it/s]\n",
      "Training Epoch 1738: 100%|██████████| 258/258 [00:01<00:00, 184.79it/s]\n",
      "Training Epoch 1739: 100%|██████████| 258/258 [00:01<00:00, 183.69it/s]\n",
      "Training Epoch 1740: 100%|██████████| 258/258 [00:01<00:00, 178.70it/s]\n",
      "Training Epoch 1741: 100%|██████████| 258/258 [00:01<00:00, 177.83it/s]\n"
     ]
    },
    {
     "name": "stdout",
     "output_type": "stream",
     "text": [
      "Epoch 1740 - Train Loss: 0.0476, Train MSE: 0.0477, Train MAE: 0.1589\n",
      "Epoch 1740 - Validation Loss: 1.8432, Validation MSE: 1.8310, Validation MAE: 1.0162\n"
     ]
    },
    {
     "name": "stderr",
     "output_type": "stream",
     "text": [
      "Training Epoch 1742: 100%|██████████| 258/258 [00:01<00:00, 150.09it/s]\n",
      "Training Epoch 1743: 100%|██████████| 258/258 [00:01<00:00, 178.50it/s]\n",
      "Training Epoch 1744: 100%|██████████| 258/258 [00:01<00:00, 173.74it/s]\n",
      "Training Epoch 1745: 100%|██████████| 258/258 [00:01<00:00, 177.01it/s]\n",
      "Training Epoch 1746: 100%|██████████| 258/258 [00:01<00:00, 182.83it/s]\n",
      "Training Epoch 1747: 100%|██████████| 258/258 [00:01<00:00, 181.07it/s]\n",
      "Training Epoch 1748: 100%|██████████| 258/258 [00:01<00:00, 176.60it/s]\n",
      "Training Epoch 1749: 100%|██████████| 258/258 [00:01<00:00, 176.66it/s]\n",
      "Training Epoch 1750: 100%|██████████| 258/258 [00:01<00:00, 180.86it/s]\n",
      "Training Epoch 1751: 100%|██████████| 258/258 [00:01<00:00, 182.66it/s]\n"
     ]
    },
    {
     "name": "stdout",
     "output_type": "stream",
     "text": [
      "Epoch 1750 - Train Loss: 0.0488, Train MSE: 0.0488, Train MAE: 0.1605\n",
      "Epoch 1750 - Validation Loss: 1.8298, Validation MSE: 1.8205, Validation MAE: 1.0176\n"
     ]
    },
    {
     "name": "stderr",
     "output_type": "stream",
     "text": [
      "Training Epoch 1752: 100%|██████████| 258/258 [00:01<00:00, 174.70it/s]\n",
      "Training Epoch 1753: 100%|██████████| 258/258 [00:01<00:00, 182.91it/s]\n",
      "Training Epoch 1754: 100%|██████████| 258/258 [00:01<00:00, 184.77it/s]\n",
      "Training Epoch 1755: 100%|██████████| 258/258 [00:01<00:00, 181.18it/s]\n",
      "Training Epoch 1756: 100%|██████████| 258/258 [00:01<00:00, 182.73it/s]\n",
      "Training Epoch 1757: 100%|██████████| 258/258 [00:01<00:00, 178.61it/s]\n",
      "Training Epoch 1758: 100%|██████████| 258/258 [00:01<00:00, 177.56it/s]\n",
      "Training Epoch 1759: 100%|██████████| 258/258 [00:01<00:00, 183.90it/s]\n",
      "Training Epoch 1760: 100%|██████████| 258/258 [00:01<00:00, 173.49it/s]\n",
      "Training Epoch 1761: 100%|██████████| 258/258 [00:01<00:00, 180.97it/s]\n"
     ]
    },
    {
     "name": "stdout",
     "output_type": "stream",
     "text": [
      "Epoch 1760 - Train Loss: 0.0485, Train MSE: 0.0485, Train MAE: 0.1596\n",
      "Epoch 1760 - Validation Loss: 1.8490, Validation MSE: 1.8377, Validation MAE: 1.0168\n"
     ]
    },
    {
     "name": "stderr",
     "output_type": "stream",
     "text": [
      "Training Epoch 1762: 100%|██████████| 258/258 [00:01<00:00, 182.17it/s]\n",
      "Training Epoch 1763: 100%|██████████| 258/258 [00:01<00:00, 178.09it/s]\n",
      "Training Epoch 1764: 100%|██████████| 258/258 [00:01<00:00, 184.57it/s]\n",
      "Training Epoch 1765: 100%|██████████| 258/258 [00:01<00:00, 184.46it/s]\n",
      "Training Epoch 1766: 100%|██████████| 258/258 [00:01<00:00, 177.39it/s]\n",
      "Training Epoch 1767: 100%|██████████| 258/258 [00:01<00:00, 186.79it/s]\n",
      "Training Epoch 1768: 100%|██████████| 258/258 [00:01<00:00, 183.16it/s]\n",
      "Training Epoch 1769: 100%|██████████| 258/258 [00:01<00:00, 183.74it/s]\n",
      "Training Epoch 1770: 100%|██████████| 258/258 [00:01<00:00, 183.56it/s]\n",
      "Training Epoch 1771: 100%|██████████| 258/258 [00:01<00:00, 183.38it/s]\n"
     ]
    },
    {
     "name": "stdout",
     "output_type": "stream",
     "text": [
      "Epoch 1770 - Train Loss: 0.0460, Train MSE: 0.0458, Train MAE: 0.1552\n",
      "Epoch 1770 - Validation Loss: 1.8403, Validation MSE: 1.8277, Validation MAE: 1.0109\n"
     ]
    },
    {
     "name": "stderr",
     "output_type": "stream",
     "text": [
      "Training Epoch 1772: 100%|██████████| 258/258 [00:01<00:00, 186.16it/s]\n",
      "Training Epoch 1773: 100%|██████████| 258/258 [00:01<00:00, 182.38it/s]\n",
      "Training Epoch 1774: 100%|██████████| 258/258 [00:01<00:00, 182.32it/s]\n",
      "Training Epoch 1775: 100%|██████████| 258/258 [00:01<00:00, 185.30it/s]\n",
      "Training Epoch 1776: 100%|██████████| 258/258 [00:01<00:00, 181.70it/s]\n",
      "Training Epoch 1777: 100%|██████████| 258/258 [00:01<00:00, 181.51it/s]\n",
      "Training Epoch 1778: 100%|██████████| 258/258 [00:01<00:00, 184.58it/s]\n",
      "Training Epoch 1779: 100%|██████████| 258/258 [00:01<00:00, 183.10it/s]\n",
      "Training Epoch 1780: 100%|██████████| 258/258 [00:01<00:00, 169.51it/s]\n",
      "Training Epoch 1781: 100%|██████████| 258/258 [00:01<00:00, 180.60it/s]\n"
     ]
    },
    {
     "name": "stdout",
     "output_type": "stream",
     "text": [
      "Epoch 1780 - Train Loss: 0.0475, Train MSE: 0.0473, Train MAE: 0.1577\n",
      "Epoch 1780 - Validation Loss: 1.8476, Validation MSE: 1.8352, Validation MAE: 1.0149\n"
     ]
    },
    {
     "name": "stderr",
     "output_type": "stream",
     "text": [
      "Training Epoch 1782: 100%|██████████| 258/258 [00:01<00:00, 176.26it/s]\n",
      "Training Epoch 1783: 100%|██████████| 258/258 [00:01<00:00, 184.94it/s]\n",
      "Training Epoch 1784: 100%|██████████| 258/258 [00:01<00:00, 177.87it/s]\n",
      "Training Epoch 1785: 100%|██████████| 258/258 [00:01<00:00, 176.19it/s]\n",
      "Training Epoch 1786: 100%|██████████| 258/258 [00:01<00:00, 180.08it/s]\n",
      "Training Epoch 1787: 100%|██████████| 258/258 [00:01<00:00, 178.09it/s]\n",
      "Training Epoch 1788: 100%|██████████| 258/258 [00:01<00:00, 189.21it/s]\n",
      "Training Epoch 1789: 100%|██████████| 258/258 [00:01<00:00, 183.30it/s]\n",
      "Training Epoch 1790: 100%|██████████| 258/258 [00:01<00:00, 180.57it/s]\n",
      "Training Epoch 1791: 100%|██████████| 258/258 [00:01<00:00, 176.16it/s]\n"
     ]
    },
    {
     "name": "stdout",
     "output_type": "stream",
     "text": [
      "Epoch 1790 - Train Loss: 0.0474, Train MSE: 0.0475, Train MAE: 0.1585\n",
      "Epoch 1790 - Validation Loss: 1.8466, Validation MSE: 1.8269, Validation MAE: 1.0148\n"
     ]
    },
    {
     "name": "stderr",
     "output_type": "stream",
     "text": [
      "Training Epoch 1792: 100%|██████████| 258/258 [00:01<00:00, 181.36it/s]\n",
      "Training Epoch 1793: 100%|██████████| 258/258 [00:01<00:00, 189.93it/s]\n",
      "Training Epoch 1794: 100%|██████████| 258/258 [00:01<00:00, 170.50it/s]\n",
      "Training Epoch 1795: 100%|██████████| 258/258 [00:01<00:00, 178.64it/s]\n",
      "Training Epoch 1796: 100%|██████████| 258/258 [00:01<00:00, 182.67it/s]\n",
      "Training Epoch 1797: 100%|██████████| 258/258 [00:01<00:00, 182.95it/s]\n",
      "Training Epoch 1798: 100%|██████████| 258/258 [00:01<00:00, 176.89it/s]\n",
      "Training Epoch 1799: 100%|██████████| 258/258 [00:01<00:00, 166.54it/s]\n",
      "Training Epoch 1800: 100%|██████████| 258/258 [00:01<00:00, 186.23it/s]\n",
      "Training Epoch 1801: 100%|██████████| 258/258 [00:01<00:00, 182.60it/s]\n"
     ]
    },
    {
     "name": "stdout",
     "output_type": "stream",
     "text": [
      "Epoch 1800 - Train Loss: 0.0448, Train MSE: 0.0448, Train MAE: 0.1527\n",
      "Epoch 1800 - Validation Loss: 1.8484, Validation MSE: 1.8329, Validation MAE: 1.0121\n"
     ]
    },
    {
     "name": "stderr",
     "output_type": "stream",
     "text": [
      "Training Epoch 1802: 100%|██████████| 258/258 [00:01<00:00, 175.51it/s]\n",
      "Training Epoch 1803: 100%|██████████| 258/258 [00:01<00:00, 185.03it/s]\n",
      "Training Epoch 1804: 100%|██████████| 258/258 [00:01<00:00, 186.66it/s]\n",
      "Training Epoch 1805: 100%|██████████| 258/258 [00:01<00:00, 181.31it/s]\n",
      "Training Epoch 1806: 100%|██████████| 258/258 [00:01<00:00, 178.84it/s]\n",
      "Training Epoch 1807: 100%|██████████| 258/258 [00:01<00:00, 176.59it/s]\n",
      "Training Epoch 1808: 100%|██████████| 258/258 [00:01<00:00, 175.20it/s]\n",
      "Training Epoch 1809: 100%|██████████| 258/258 [00:01<00:00, 182.37it/s]\n",
      "Training Epoch 1810: 100%|██████████| 258/258 [00:01<00:00, 186.03it/s]\n",
      "Training Epoch 1811: 100%|██████████| 258/258 [00:01<00:00, 177.25it/s]\n"
     ]
    },
    {
     "name": "stdout",
     "output_type": "stream",
     "text": [
      "Epoch 1810 - Train Loss: 0.0441, Train MSE: 0.0442, Train MAE: 0.1531\n",
      "Epoch 1810 - Validation Loss: 1.8333, Validation MSE: 1.8229, Validation MAE: 1.0045\n"
     ]
    },
    {
     "name": "stderr",
     "output_type": "stream",
     "text": [
      "Training Epoch 1812: 100%|██████████| 258/258 [00:01<00:00, 176.72it/s]\n",
      "Training Epoch 1813: 100%|██████████| 258/258 [00:01<00:00, 184.91it/s]\n",
      "Training Epoch 1814: 100%|██████████| 258/258 [00:01<00:00, 182.17it/s]\n",
      "Training Epoch 1815: 100%|██████████| 258/258 [00:01<00:00, 183.81it/s]\n",
      "Training Epoch 1816: 100%|██████████| 258/258 [00:01<00:00, 184.17it/s]\n",
      "Training Epoch 1817: 100%|██████████| 258/258 [00:01<00:00, 184.11it/s]\n",
      "Training Epoch 1818: 100%|██████████| 258/258 [00:01<00:00, 185.80it/s]\n",
      "Training Epoch 1819: 100%|██████████| 258/258 [00:01<00:00, 168.73it/s]\n",
      "Training Epoch 1820: 100%|██████████| 258/258 [00:01<00:00, 173.46it/s]\n",
      "Training Epoch 1821: 100%|██████████| 258/258 [00:01<00:00, 178.92it/s]\n"
     ]
    },
    {
     "name": "stdout",
     "output_type": "stream",
     "text": [
      "Epoch 1820 - Train Loss: 0.0466, Train MSE: 0.0464, Train MAE: 0.1572\n",
      "Epoch 1820 - Validation Loss: 1.8424, Validation MSE: 1.8281, Validation MAE: 1.0155\n"
     ]
    },
    {
     "name": "stderr",
     "output_type": "stream",
     "text": [
      "Training Epoch 1822: 100%|██████████| 258/258 [00:01<00:00, 177.93it/s]\n",
      "Training Epoch 1823: 100%|██████████| 258/258 [00:01<00:00, 171.68it/s]\n",
      "Training Epoch 1824: 100%|██████████| 258/258 [00:01<00:00, 170.39it/s]\n",
      "Training Epoch 1825: 100%|██████████| 258/258 [00:01<00:00, 183.93it/s]\n",
      "Training Epoch 1826: 100%|██████████| 258/258 [00:01<00:00, 185.37it/s]\n",
      "Training Epoch 1827: 100%|██████████| 258/258 [00:01<00:00, 183.86it/s]\n",
      "Training Epoch 1828: 100%|██████████| 258/258 [00:01<00:00, 185.31it/s]\n",
      "Training Epoch 1829: 100%|██████████| 258/258 [00:01<00:00, 181.18it/s]\n",
      "Training Epoch 1830: 100%|██████████| 258/258 [00:01<00:00, 175.93it/s]\n",
      "Training Epoch 1831: 100%|██████████| 258/258 [00:01<00:00, 174.08it/s]\n"
     ]
    },
    {
     "name": "stdout",
     "output_type": "stream",
     "text": [
      "Epoch 1830 - Train Loss: 0.0478, Train MSE: 0.0478, Train MAE: 0.1573\n",
      "Epoch 1830 - Validation Loss: 1.8729, Validation MSE: 1.8609, Validation MAE: 1.0234\n"
     ]
    },
    {
     "name": "stderr",
     "output_type": "stream",
     "text": [
      "Training Epoch 1832: 100%|██████████| 258/258 [00:01<00:00, 187.73it/s]\n",
      "Training Epoch 1833: 100%|██████████| 258/258 [00:01<00:00, 178.62it/s]\n",
      "Training Epoch 1834: 100%|██████████| 258/258 [00:01<00:00, 180.78it/s]\n",
      "Training Epoch 1835: 100%|██████████| 258/258 [00:01<00:00, 181.92it/s]\n",
      "Training Epoch 1836: 100%|██████████| 258/258 [00:01<00:00, 179.44it/s]\n",
      "Training Epoch 1837: 100%|██████████| 258/258 [00:01<00:00, 180.97it/s]\n",
      "Training Epoch 1838: 100%|██████████| 258/258 [00:01<00:00, 186.07it/s]\n",
      "Training Epoch 1839: 100%|██████████| 258/258 [00:01<00:00, 171.34it/s]\n",
      "Training Epoch 1840: 100%|██████████| 258/258 [00:01<00:00, 177.60it/s]\n",
      "Training Epoch 1841: 100%|██████████| 258/258 [00:01<00:00, 181.83it/s]\n"
     ]
    },
    {
     "name": "stdout",
     "output_type": "stream",
     "text": [
      "Epoch 1840 - Train Loss: 0.0464, Train MSE: 0.0464, Train MAE: 0.1568\n",
      "Epoch 1840 - Validation Loss: 1.8350, Validation MSE: 1.8244, Validation MAE: 1.0155\n"
     ]
    },
    {
     "name": "stderr",
     "output_type": "stream",
     "text": [
      "Training Epoch 1842: 100%|██████████| 258/258 [00:01<00:00, 177.67it/s]\n",
      "Training Epoch 1843: 100%|██████████| 258/258 [00:01<00:00, 171.11it/s]\n",
      "Training Epoch 1844: 100%|██████████| 258/258 [00:01<00:00, 182.39it/s]\n",
      "Training Epoch 1845: 100%|██████████| 258/258 [00:01<00:00, 184.47it/s]\n",
      "Training Epoch 1846: 100%|██████████| 258/258 [00:01<00:00, 184.99it/s]\n",
      "Training Epoch 1847: 100%|██████████| 258/258 [00:01<00:00, 174.06it/s]\n",
      "Training Epoch 1848: 100%|██████████| 258/258 [00:01<00:00, 178.76it/s]\n",
      "Training Epoch 1849: 100%|██████████| 258/258 [00:01<00:00, 180.70it/s]\n",
      "Training Epoch 1850: 100%|██████████| 258/258 [00:01<00:00, 180.32it/s]\n",
      "Training Epoch 1851: 100%|██████████| 258/258 [00:01<00:00, 181.52it/s]\n"
     ]
    },
    {
     "name": "stdout",
     "output_type": "stream",
     "text": [
      "Epoch 1850 - Train Loss: 0.0442, Train MSE: 0.0443, Train MAE: 0.1538\n",
      "Epoch 1850 - Validation Loss: 1.8378, Validation MSE: 1.8261, Validation MAE: 1.0129\n"
     ]
    },
    {
     "name": "stderr",
     "output_type": "stream",
     "text": [
      "Training Epoch 1852: 100%|██████████| 258/258 [00:01<00:00, 179.56it/s]\n",
      "Training Epoch 1853: 100%|██████████| 258/258 [00:01<00:00, 181.98it/s]\n",
      "Training Epoch 1854: 100%|██████████| 258/258 [00:01<00:00, 177.50it/s]\n",
      "Training Epoch 1855: 100%|██████████| 258/258 [00:01<00:00, 178.51it/s]\n",
      "Training Epoch 1856: 100%|██████████| 258/258 [00:01<00:00, 177.37it/s]\n",
      "Training Epoch 1857: 100%|██████████| 258/258 [00:01<00:00, 183.31it/s]\n",
      "Training Epoch 1858: 100%|██████████| 258/258 [00:01<00:00, 169.83it/s]\n",
      "Training Epoch 1859: 100%|██████████| 258/258 [00:01<00:00, 179.37it/s]\n",
      "Training Epoch 1860: 100%|██████████| 258/258 [00:01<00:00, 150.63it/s]\n",
      "Training Epoch 1861: 100%|██████████| 258/258 [00:01<00:00, 171.52it/s]\n"
     ]
    },
    {
     "name": "stdout",
     "output_type": "stream",
     "text": [
      "Epoch 1860 - Train Loss: 0.0444, Train MSE: 0.0445, Train MAE: 0.1545\n",
      "Epoch 1860 - Validation Loss: 1.8370, Validation MSE: 1.8258, Validation MAE: 1.0140\n"
     ]
    },
    {
     "name": "stderr",
     "output_type": "stream",
     "text": [
      "Training Epoch 1862: 100%|██████████| 258/258 [00:01<00:00, 178.97it/s]\n",
      "Training Epoch 1863: 100%|██████████| 258/258 [00:01<00:00, 178.56it/s]\n",
      "Training Epoch 1864: 100%|██████████| 258/258 [00:01<00:00, 173.18it/s]\n",
      "Training Epoch 1865: 100%|██████████| 258/258 [00:01<00:00, 178.01it/s]\n",
      "Training Epoch 1866: 100%|██████████| 258/258 [00:01<00:00, 172.80it/s]\n",
      "Training Epoch 1867: 100%|██████████| 258/258 [00:01<00:00, 166.93it/s]\n",
      "Training Epoch 1868: 100%|██████████| 258/258 [00:01<00:00, 182.04it/s]\n",
      "Training Epoch 1869: 100%|██████████| 258/258 [00:01<00:00, 179.73it/s]\n",
      "Training Epoch 1870: 100%|██████████| 258/258 [00:01<00:00, 175.74it/s]\n",
      "Training Epoch 1871: 100%|██████████| 258/258 [00:01<00:00, 175.60it/s]\n"
     ]
    },
    {
     "name": "stdout",
     "output_type": "stream",
     "text": [
      "Epoch 1870 - Train Loss: 0.0459, Train MSE: 0.0459, Train MAE: 0.1560\n",
      "Epoch 1870 - Validation Loss: 1.8700, Validation MSE: 1.8567, Validation MAE: 1.0192\n"
     ]
    },
    {
     "name": "stderr",
     "output_type": "stream",
     "text": [
      "Training Epoch 1872: 100%|██████████| 258/258 [00:01<00:00, 163.59it/s]\n",
      "Training Epoch 1873: 100%|██████████| 258/258 [00:01<00:00, 165.52it/s]\n",
      "Training Epoch 1874: 100%|██████████| 258/258 [00:01<00:00, 160.69it/s]\n",
      "Training Epoch 1875: 100%|██████████| 258/258 [00:01<00:00, 170.67it/s]\n",
      "Training Epoch 1876: 100%|██████████| 258/258 [00:01<00:00, 171.52it/s]\n",
      "Training Epoch 1877: 100%|██████████| 258/258 [00:01<00:00, 157.39it/s]\n",
      "Training Epoch 1878: 100%|██████████| 258/258 [00:01<00:00, 172.23it/s]\n",
      "Training Epoch 1879: 100%|██████████| 258/258 [00:01<00:00, 173.06it/s]\n",
      "Training Epoch 1880: 100%|██████████| 258/258 [00:01<00:00, 173.04it/s]\n",
      "Training Epoch 1881: 100%|██████████| 258/258 [00:01<00:00, 182.16it/s]\n"
     ]
    },
    {
     "name": "stdout",
     "output_type": "stream",
     "text": [
      "Epoch 1880 - Train Loss: 0.0447, Train MSE: 0.0448, Train MAE: 0.1523\n",
      "Epoch 1880 - Validation Loss: 1.8364, Validation MSE: 1.8269, Validation MAE: 1.0131\n"
     ]
    },
    {
     "name": "stderr",
     "output_type": "stream",
     "text": [
      "Training Epoch 1882: 100%|██████████| 258/258 [00:01<00:00, 181.12it/s]\n",
      "Training Epoch 1883: 100%|██████████| 258/258 [00:01<00:00, 179.76it/s]\n",
      "Training Epoch 1884: 100%|██████████| 258/258 [00:01<00:00, 180.05it/s]\n",
      "Training Epoch 1885: 100%|██████████| 258/258 [00:01<00:00, 180.20it/s]\n",
      "Training Epoch 1886: 100%|██████████| 258/258 [00:01<00:00, 177.14it/s]\n",
      "Training Epoch 1887: 100%|██████████| 258/258 [00:01<00:00, 181.61it/s]\n",
      "Training Epoch 1888: 100%|██████████| 258/258 [00:01<00:00, 175.54it/s]\n",
      "Training Epoch 1889: 100%|██████████| 258/258 [00:01<00:00, 180.02it/s]\n",
      "Training Epoch 1890: 100%|██████████| 258/258 [00:01<00:00, 183.75it/s]\n",
      "Training Epoch 1891: 100%|██████████| 258/258 [00:01<00:00, 176.07it/s]\n"
     ]
    },
    {
     "name": "stdout",
     "output_type": "stream",
     "text": [
      "Epoch 1890 - Train Loss: 0.0465, Train MSE: 0.0464, Train MAE: 0.1561\n",
      "Epoch 1890 - Validation Loss: 1.8327, Validation MSE: 1.8168, Validation MAE: 1.0093\n"
     ]
    },
    {
     "name": "stderr",
     "output_type": "stream",
     "text": [
      "Training Epoch 1892: 100%|██████████| 258/258 [00:01<00:00, 180.70it/s]\n",
      "Training Epoch 1893: 100%|██████████| 258/258 [00:01<00:00, 185.54it/s]\n",
      "Training Epoch 1894: 100%|██████████| 258/258 [00:01<00:00, 183.97it/s]\n",
      "Training Epoch 1895: 100%|██████████| 258/258 [00:01<00:00, 187.55it/s]\n",
      "Training Epoch 1896: 100%|██████████| 258/258 [00:01<00:00, 183.84it/s]\n",
      "Training Epoch 1897: 100%|██████████| 258/258 [00:01<00:00, 163.76it/s]\n",
      "Training Epoch 1898: 100%|██████████| 258/258 [00:01<00:00, 186.94it/s]\n",
      "Training Epoch 1899: 100%|██████████| 258/258 [00:01<00:00, 184.54it/s]\n",
      "Training Epoch 1900: 100%|██████████| 258/258 [00:01<00:00, 186.99it/s]\n",
      "Training Epoch 1901: 100%|██████████| 258/258 [00:01<00:00, 184.03it/s]\n"
     ]
    },
    {
     "name": "stdout",
     "output_type": "stream",
     "text": [
      "Epoch 1900 - Train Loss: 0.0446, Train MSE: 0.0446, Train MAE: 0.1518\n",
      "Epoch 1900 - Validation Loss: 1.8166, Validation MSE: 1.8013, Validation MAE: 1.0031\n"
     ]
    },
    {
     "name": "stderr",
     "output_type": "stream",
     "text": [
      "Training Epoch 1902: 100%|██████████| 258/258 [00:01<00:00, 182.81it/s]\n",
      "Training Epoch 1903: 100%|██████████| 258/258 [00:01<00:00, 185.97it/s]\n",
      "Training Epoch 1904: 100%|██████████| 258/258 [00:01<00:00, 183.09it/s]\n",
      "Training Epoch 1905: 100%|██████████| 258/258 [00:01<00:00, 182.72it/s]\n",
      "Training Epoch 1906: 100%|██████████| 258/258 [00:01<00:00, 185.11it/s]\n",
      "Training Epoch 1907: 100%|██████████| 258/258 [00:01<00:00, 181.83it/s]\n",
      "Training Epoch 1908: 100%|██████████| 258/258 [00:01<00:00, 177.48it/s]\n",
      "Training Epoch 1909: 100%|██████████| 258/258 [00:01<00:00, 184.41it/s]\n",
      "Training Epoch 1910: 100%|██████████| 258/258 [00:01<00:00, 183.35it/s]\n",
      "Training Epoch 1911: 100%|██████████| 258/258 [00:01<00:00, 185.12it/s]\n"
     ]
    },
    {
     "name": "stdout",
     "output_type": "stream",
     "text": [
      "Epoch 1910 - Train Loss: 0.0439, Train MSE: 0.0440, Train MAE: 0.1528\n",
      "Epoch 1910 - Validation Loss: 1.8288, Validation MSE: 1.8179, Validation MAE: 1.0122\n"
     ]
    },
    {
     "name": "stderr",
     "output_type": "stream",
     "text": [
      "Training Epoch 1912: 100%|██████████| 258/258 [00:01<00:00, 178.01it/s]\n",
      "Training Epoch 1913: 100%|██████████| 258/258 [00:01<00:00, 184.41it/s]\n",
      "Training Epoch 1914: 100%|██████████| 258/258 [00:01<00:00, 183.75it/s]\n",
      "Training Epoch 1915: 100%|██████████| 258/258 [00:01<00:00, 183.31it/s]\n",
      "Training Epoch 1916: 100%|██████████| 258/258 [00:01<00:00, 184.42it/s]\n",
      "Training Epoch 1917: 100%|██████████| 258/258 [00:01<00:00, 180.04it/s]\n",
      "Training Epoch 1918: 100%|██████████| 258/258 [00:01<00:00, 182.15it/s]\n",
      "Training Epoch 1919: 100%|██████████| 258/258 [00:01<00:00, 183.54it/s]\n",
      "Training Epoch 1920: 100%|██████████| 258/258 [00:01<00:00, 184.51it/s]\n",
      "Training Epoch 1921: 100%|██████████| 258/258 [00:01<00:00, 183.71it/s]\n"
     ]
    },
    {
     "name": "stdout",
     "output_type": "stream",
     "text": [
      "Epoch 1920 - Train Loss: 0.0456, Train MSE: 0.0457, Train MAE: 0.1526\n",
      "Epoch 1920 - Validation Loss: 1.8587, Validation MSE: 1.8483, Validation MAE: 1.0211\n"
     ]
    },
    {
     "name": "stderr",
     "output_type": "stream",
     "text": [
      "Training Epoch 1922: 100%|██████████| 258/258 [00:01<00:00, 186.34it/s]\n",
      "Training Epoch 1923: 100%|██████████| 258/258 [00:01<00:00, 179.11it/s]\n",
      "Training Epoch 1924: 100%|██████████| 258/258 [00:01<00:00, 187.47it/s]\n",
      "Training Epoch 1925: 100%|██████████| 258/258 [00:01<00:00, 181.74it/s]\n",
      "Training Epoch 1926: 100%|██████████| 258/258 [00:01<00:00, 183.39it/s]\n",
      "Training Epoch 1927: 100%|██████████| 258/258 [00:01<00:00, 187.57it/s]\n",
      "Training Epoch 1928: 100%|██████████| 258/258 [00:01<00:00, 182.29it/s]\n",
      "Training Epoch 1929: 100%|██████████| 258/258 [00:01<00:00, 183.35it/s]\n",
      "Training Epoch 1930: 100%|██████████| 258/258 [00:01<00:00, 186.30it/s]\n",
      "Training Epoch 1931: 100%|██████████| 258/258 [00:01<00:00, 183.74it/s]\n"
     ]
    },
    {
     "name": "stdout",
     "output_type": "stream",
     "text": [
      "Epoch 1930 - Train Loss: 0.0447, Train MSE: 0.0442, Train MAE: 0.1518\n",
      "Epoch 1930 - Validation Loss: 1.8429, Validation MSE: 1.8285, Validation MAE: 1.0138\n"
     ]
    },
    {
     "name": "stderr",
     "output_type": "stream",
     "text": [
      "Training Epoch 1932: 100%|██████████| 258/258 [00:01<00:00, 182.95it/s]\n",
      "Training Epoch 1933: 100%|██████████| 258/258 [00:01<00:00, 184.58it/s]\n",
      "Training Epoch 1934: 100%|██████████| 258/258 [00:01<00:00, 181.39it/s]\n",
      "Training Epoch 1935: 100%|██████████| 258/258 [00:01<00:00, 186.24it/s]\n",
      "Training Epoch 1936: 100%|██████████| 258/258 [00:01<00:00, 184.47it/s]\n",
      "Training Epoch 1937: 100%|██████████| 258/258 [00:01<00:00, 179.95it/s]\n",
      "Training Epoch 1938: 100%|██████████| 258/258 [00:01<00:00, 184.13it/s]\n",
      "Training Epoch 1939: 100%|██████████| 258/258 [00:01<00:00, 184.29it/s]\n",
      "Training Epoch 1940: 100%|██████████| 258/258 [00:01<00:00, 179.06it/s]\n",
      "Training Epoch 1941: 100%|██████████| 258/258 [00:01<00:00, 181.47it/s]\n"
     ]
    },
    {
     "name": "stdout",
     "output_type": "stream",
     "text": [
      "Epoch 1940 - Train Loss: 0.0442, Train MSE: 0.0443, Train MAE: 0.1518\n",
      "Epoch 1940 - Validation Loss: 1.8460, Validation MSE: 1.8353, Validation MAE: 1.0152\n"
     ]
    },
    {
     "name": "stderr",
     "output_type": "stream",
     "text": [
      "Training Epoch 1942: 100%|██████████| 258/258 [00:01<00:00, 180.94it/s]\n",
      "Training Epoch 1943: 100%|██████████| 258/258 [00:01<00:00, 184.18it/s]\n",
      "Training Epoch 1944: 100%|██████████| 258/258 [00:01<00:00, 182.74it/s]\n",
      "Training Epoch 1945: 100%|██████████| 258/258 [00:01<00:00, 184.92it/s]\n",
      "Training Epoch 1946: 100%|██████████| 258/258 [00:01<00:00, 181.88it/s]\n",
      "Training Epoch 1947: 100%|██████████| 258/258 [00:01<00:00, 183.13it/s]\n",
      "Training Epoch 1948: 100%|██████████| 258/258 [00:01<00:00, 186.87it/s]\n",
      "Training Epoch 1949: 100%|██████████| 258/258 [00:01<00:00, 180.12it/s]\n",
      "Training Epoch 1950: 100%|██████████| 258/258 [00:01<00:00, 183.74it/s]\n",
      "Training Epoch 1951: 100%|██████████| 258/258 [00:01<00:00, 184.44it/s]\n"
     ]
    },
    {
     "name": "stdout",
     "output_type": "stream",
     "text": [
      "Epoch 1950 - Train Loss: 0.0448, Train MSE: 0.0449, Train MAE: 0.1511\n",
      "Epoch 1950 - Validation Loss: 1.8275, Validation MSE: 1.8143, Validation MAE: 1.0161\n"
     ]
    },
    {
     "name": "stderr",
     "output_type": "stream",
     "text": [
      "Training Epoch 1952: 100%|██████████| 258/258 [00:01<00:00, 181.16it/s]\n",
      "Training Epoch 1953: 100%|██████████| 258/258 [00:01<00:00, 183.50it/s]\n",
      "Training Epoch 1954: 100%|██████████| 258/258 [00:01<00:00, 183.21it/s]\n",
      "Training Epoch 1955: 100%|██████████| 258/258 [00:01<00:00, 178.23it/s]\n",
      "Training Epoch 1956: 100%|██████████| 258/258 [00:01<00:00, 184.28it/s]\n",
      "Training Epoch 1957: 100%|██████████| 258/258 [00:01<00:00, 182.53it/s]\n",
      "Training Epoch 1958: 100%|██████████| 258/258 [00:01<00:00, 186.67it/s]\n",
      "Training Epoch 1959: 100%|██████████| 258/258 [00:01<00:00, 184.66it/s]\n",
      "Training Epoch 1960: 100%|██████████| 258/258 [00:01<00:00, 181.36it/s]\n",
      "Training Epoch 1961: 100%|██████████| 258/258 [00:01<00:00, 184.97it/s]\n"
     ]
    },
    {
     "name": "stdout",
     "output_type": "stream",
     "text": [
      "Epoch 1960 - Train Loss: 0.0432, Train MSE: 0.0432, Train MAE: 0.1522\n",
      "Epoch 1960 - Validation Loss: 1.8450, Validation MSE: 1.8332, Validation MAE: 1.0193\n"
     ]
    },
    {
     "name": "stderr",
     "output_type": "stream",
     "text": [
      "Training Epoch 1962: 100%|██████████| 258/258 [00:01<00:00, 184.03it/s]\n",
      "Training Epoch 1963: 100%|██████████| 258/258 [00:01<00:00, 183.18it/s]\n",
      "Training Epoch 1964: 100%|██████████| 258/258 [00:01<00:00, 183.55it/s]\n",
      "Training Epoch 1965: 100%|██████████| 258/258 [00:01<00:00, 186.97it/s]\n",
      "Training Epoch 1966: 100%|██████████| 258/258 [00:01<00:00, 182.85it/s]\n",
      "Training Epoch 1967: 100%|██████████| 258/258 [00:01<00:00, 181.74it/s]\n",
      "Training Epoch 1968: 100%|██████████| 258/258 [00:01<00:00, 183.30it/s]\n",
      "Training Epoch 1969: 100%|██████████| 258/258 [00:01<00:00, 186.06it/s]\n",
      "Training Epoch 1970: 100%|██████████| 258/258 [00:01<00:00, 177.81it/s]\n",
      "Training Epoch 1971: 100%|██████████| 258/258 [00:01<00:00, 180.66it/s]\n"
     ]
    },
    {
     "name": "stdout",
     "output_type": "stream",
     "text": [
      "Epoch 1970 - Train Loss: 0.0441, Train MSE: 0.0441, Train MAE: 0.1509\n",
      "Epoch 1970 - Validation Loss: 1.8573, Validation MSE: 1.8449, Validation MAE: 1.0221\n"
     ]
    },
    {
     "name": "stderr",
     "output_type": "stream",
     "text": [
      "Training Epoch 1972: 100%|██████████| 258/258 [00:01<00:00, 192.69it/s]\n",
      "Training Epoch 1973: 100%|██████████| 258/258 [00:01<00:00, 184.99it/s]\n",
      "Training Epoch 1974: 100%|██████████| 258/258 [00:01<00:00, 182.00it/s]\n",
      "Training Epoch 1975: 100%|██████████| 258/258 [00:01<00:00, 179.69it/s]\n",
      "Training Epoch 1976: 100%|██████████| 258/258 [00:01<00:00, 183.04it/s]\n",
      "Training Epoch 1977: 100%|██████████| 258/258 [00:01<00:00, 159.45it/s]\n",
      "Training Epoch 1978: 100%|██████████| 258/258 [00:01<00:00, 180.46it/s]\n",
      "Training Epoch 1979: 100%|██████████| 258/258 [00:01<00:00, 183.91it/s]\n",
      "Training Epoch 1980: 100%|██████████| 258/258 [00:01<00:00, 186.51it/s]\n",
      "Training Epoch 1981: 100%|██████████| 258/258 [00:01<00:00, 180.55it/s]\n"
     ]
    },
    {
     "name": "stdout",
     "output_type": "stream",
     "text": [
      "Epoch 1980 - Train Loss: 0.0417, Train MSE: 0.0417, Train MAE: 0.1494\n",
      "Epoch 1980 - Validation Loss: 1.8469, Validation MSE: 1.8334, Validation MAE: 1.0150\n"
     ]
    },
    {
     "name": "stderr",
     "output_type": "stream",
     "text": [
      "Training Epoch 1982: 100%|██████████| 258/258 [00:01<00:00, 185.97it/s]\n",
      "Training Epoch 1983: 100%|██████████| 258/258 [00:01<00:00, 183.62it/s]\n",
      "Training Epoch 1984: 100%|██████████| 258/258 [00:01<00:00, 182.14it/s]\n",
      "Training Epoch 1985: 100%|██████████| 258/258 [00:01<00:00, 184.61it/s]\n",
      "Training Epoch 1986: 100%|██████████| 258/258 [00:01<00:00, 183.87it/s]\n",
      "Training Epoch 1987: 100%|██████████| 258/258 [00:01<00:00, 183.44it/s]\n",
      "Training Epoch 1988: 100%|██████████| 258/258 [00:01<00:00, 182.78it/s]\n",
      "Training Epoch 1989: 100%|██████████| 258/258 [00:01<00:00, 180.37it/s]\n",
      "Training Epoch 1990: 100%|██████████| 258/258 [00:01<00:00, 186.05it/s]\n",
      "Training Epoch 1991: 100%|██████████| 258/258 [00:01<00:00, 181.77it/s]\n"
     ]
    },
    {
     "name": "stdout",
     "output_type": "stream",
     "text": [
      "Epoch 1990 - Train Loss: 0.0423, Train MSE: 0.0423, Train MAE: 0.1494\n",
      "Epoch 1990 - Validation Loss: 1.8498, Validation MSE: 1.8375, Validation MAE: 1.0165\n"
     ]
    },
    {
     "name": "stderr",
     "output_type": "stream",
     "text": [
      "Training Epoch 1992: 100%|██████████| 258/258 [00:01<00:00, 180.27it/s]\n",
      "Training Epoch 1993: 100%|██████████| 258/258 [00:01<00:00, 185.36it/s]\n",
      "Training Epoch 1994: 100%|██████████| 258/258 [00:01<00:00, 182.51it/s]\n",
      "Training Epoch 1995: 100%|██████████| 258/258 [00:01<00:00, 185.44it/s]\n",
      "Training Epoch 1996: 100%|██████████| 258/258 [00:01<00:00, 181.96it/s]\n",
      "Training Epoch 1997: 100%|██████████| 258/258 [00:01<00:00, 186.17it/s]\n",
      "Training Epoch 1998: 100%|██████████| 258/258 [00:01<00:00, 178.47it/s]\n",
      "Training Epoch 1999: 100%|██████████| 258/258 [00:01<00:00, 183.67it/s]\n",
      "Training Epoch 2000: 100%|██████████| 258/258 [00:01<00:00, 178.41it/s]\n"
     ]
    },
    {
     "name": "stdout",
     "output_type": "stream",
     "text": [
      "Test MSE: 1.6550, Test MAE: 0.9668\n"
     ]
    }
   ],
   "source": [
    "train_history_2 = pd.DataFrame(columns=[ 'epoch',\n",
    "    'Train Loss', 'Train MSE', 'Train MAE', 'Train RMSE', 'Train R2', 'Train Pearson', 'Train Median_AE', 'Train Explained_VAR'\n",
    "    'Val Loss', 'Val MSE', 'Val MAE', 'Val RMSE', 'Val R2', 'Val Pearson', 'Val Median_AE', 'Val Explained_VAR'])\n",
    "# Verify feature dimensions\n",
    "for batch in train_loader_mols:\n",
    "    mol_input_dim = batch['metabolite_features'].shape[1]  # Dynamically determine mol input dimension\n",
    "    protein_input_dim = batch['protein_features'].shape[1]  # Dynamically determine protein input dimension\n",
    "    break\n",
    "\n",
    "# Initialize model, optimizer, and loss function\n",
    "model_2 = MLPRegressor(mol_input_dim=mol_input_dim, protein_input_dim=protein_input_dim)\n",
    "model_2 = model_2.to(device)\n",
    "optimizer_2 = optim.Adam(model_2.parameters(), lr=0.0001)\n",
    "criterion = nn.MSELoss()\n",
    "\n",
    "# Training and Validation Loop\n",
    "for epoch in range(2000):\n",
    "    model_2.train()\n",
    "    total_loss = 0.0\n",
    "    val_total_loss = 0.0\n",
    "    train_predictions, train_labels = [], []\n",
    "\n",
    "    for batch in tqdm(train_loader_mols, desc=f\"Training Epoch {epoch + 1}\"):\n",
    "        mol_features = batch['metabolite_features'].to(device)\n",
    "        protein_features = batch['protein_features'].to(device)\n",
    "        labels = batch['label'].to(device)\n",
    "\n",
    "        optimizer_2.zero_grad()\n",
    "        outputs = model_2(mol_features, protein_features)\n",
    "        loss = criterion(outputs, labels)\n",
    "        loss.backward()\n",
    "        optimizer_2.step()\n",
    "        total_loss += loss.item()\n",
    "\n",
    "        # Store predictions and labels for metrics\n",
    "        train_predictions.extend(outputs.detach().cpu().numpy())\n",
    "        train_labels.extend(labels.cpu().numpy())\n",
    "\n",
    "    # Calculate training metrics\n",
    "    train_mse = ((torch.tensor(train_predictions) - torch.tensor(train_labels))**2).mean().item()\n",
    "    train_mae = torch.abs(torch.tensor(train_predictions) - torch.tensor(train_labels)).mean().item()\n",
    "    train_rmse = torch.sqrt((torch.tensor(train_predictions) - torch.tensor(train_labels)) ** 2).mean().item()\n",
    "    train_r2 = r2_score(np.array(train_labels), np.array(train_predictions))\n",
    "    train_pearson_corr, _ = pearsonr(np.array(train_labels), np.array(train_predictions))\n",
    "    train_median_ae = median_absolute_error(np.array(train_labels), np.array(train_predictions))\n",
    "    train_explained_var = explained_variance_score(np.array(train_labels), np.array(train_predictions))\n",
    "\n",
    "\n",
    "\n",
    "    if epoch % 10 == 0:\n",
    "        print(f\"Epoch {epoch} - Train Loss: {total_loss / len(train_loader_mols):.4f}, Train MSE: {train_mse:.4f}, Train MAE: {train_mae:.4f}\")\n",
    "\n",
    "    # Validation\n",
    "    model_2.eval()\n",
    "    val_predictions, val_labels = [], []\n",
    "    with torch.no_grad():\n",
    "        for batch in val_loader_mols:\n",
    "            mol_features = batch['metabolite_features'].to(device)\n",
    "            protein_features = batch['protein_features'].to(device)\n",
    "            labels = batch['label'].to(device)\n",
    "\n",
    "            outputs = model_2(mol_features, protein_features)\n",
    "            val_predictions.extend(outputs.cpu().numpy())\n",
    "            val_labels.extend(labels.cpu().numpy())\n",
    "            val_loss = criterion(outputs, labels)\n",
    "            val_total_loss += val_loss.item()\n",
    "\n",
    "    val_mse = ((torch.tensor(val_predictions) - torch.tensor(val_labels))**2).mean().item()\n",
    "    val_mae = torch.abs(torch.tensor(val_predictions) - torch.tensor(val_labels)).mean().item()\n",
    "    val_rmse = torch.sqrt((torch.tensor(val_predictions) - torch.tensor(val_labels)) ** 2).mean().item()\n",
    "    val_r2 = r2_score(np.array(val_labels), np.array(val_predictions))\n",
    "    val_pearson_corr, _ = pearsonr(np.array(val_labels), np.array(val_predictions))\n",
    "    val_median_ae = median_absolute_error(np.array(val_labels), np.array(val_predictions))\n",
    "    val_explained_var = explained_variance_score(np.array(val_labels), np.array(val_predictions))\n",
    "\n",
    "    if epoch % 10 == 0:\n",
    "        print(f\"Epoch {epoch} - Validation Loss: {val_total_loss / len(val_loader_mols):.4f}, Validation MSE: {val_mse:.4f}, Validation MAE: {val_mae:.4f}\")\n",
    "\n",
    "    # Save metrics to DataFrame\n",
    "    new_row = {'epoch': epoch + 1, 'Train Loss': total_loss / len(train_loader_mols), 'Train MSE': train_mse, 'Train MAE': train_mae, 'Train RMSE': train_rmse, 'Train R2': train_r2, 'Train Pearson': train_pearson_corr, 'Train Median_AE': train_median_ae, 'Train Explained_VAR': train_explained_var, \n",
    "               'Val Loss': val_total_loss / len(val_loader_mols), 'Val MSE': val_mse, 'Val MAE': val_mae, 'Val RMSE': val_rmse, 'Val R2': val_r2, 'Val Pearson': val_pearson_corr, 'Val Median_AE': val_median_ae, 'Val Explained_VAR': val_explained_var}\n",
    "    train_history_2 = pd.concat([train_history_2, pd.DataFrame([new_row])], ignore_index=True)\n",
    "\n",
    "\n"
   ]
  },
  {
   "cell_type": "code",
   "execution_count": 11,
   "metadata": {},
   "outputs": [],
   "source": [
    "for batch in train_loader_mols:\n",
    "    mol_input_dim = batch['metabolite_features'].shape[1]  # Dynamically determine mol input dimension\n",
    "    protein_input_dim = batch['protein_features'].shape[1]  # Dynamically determine protein input dimension\n",
    "    break\n",
    "\n",
    "model = MLPRegressor(mol_input_dim=mol_input_dim, protein_input_dim=protein_input_dim, hidden_dim=512)\n",
    "model.load_state_dict(torch.load('/Users/pinchichen/2025S lab/AI drug project/Catpred/Ki/trained_model/cold_mols/MLP model_Catpred_Ki_cold_mols.pt'))\n",
    "model = model.to(device)"
   ]
  },
  {
   "cell_type": "code",
   "execution_count": 12,
   "metadata": {},
   "outputs": [
    {
     "name": "stdout",
     "output_type": "stream",
     "text": [
      "Test MSE: 1.6550, Test RMSE: 1.286487111, Test MAE: 0.9668, Test R2: 0.5716, Test Pearson Correlation: 0.7561, Test Median AE: 0.7234, Test Explained Variance: 0.5717\n"
     ]
    }
   ],
   "source": [
    "# Test Metrics\n",
    "model.eval()\n",
    "test_predictions, test_labels = [], []\n",
    "with torch.no_grad():\n",
    "    for batch in test_loader_mols:\n",
    "        mol_features = batch['metabolite_features'].to(device)\n",
    "        protein_features = batch['protein_features'].to(device)\n",
    "        labels = batch['label'].to(device)\n",
    "\n",
    "        outputs = model(mol_features, protein_features)\n",
    "        test_predictions.extend(outputs.cpu().numpy())\n",
    "        test_labels.extend(labels.cpu().numpy())\n",
    "\n",
    "test_mse = ((torch.tensor(test_predictions) - torch.tensor(test_labels))**2).mean().item()\n",
    "test_mae = torch.abs(torch.tensor(test_predictions) - torch.tensor(test_labels)).mean().item()\n",
    "test_rmse = np.sqrt(test_mse)\n",
    "test_r2 = r2_score(np.array(test_labels), np.array(test_predictions))\n",
    "test_pearson_corr, _ = pearsonr(np.array(test_labels), np.array(test_predictions))\n",
    "test_median_ae = median_absolute_error(np.array(test_labels), np.array(test_predictions))\n",
    "test_explained_var = explained_variance_score(np.array(test_labels), np.array(test_predictions))\n",
    "\n",
    "print(f\"Test MSE: {test_mse:.4f}, Test RMSE: {test_rmse:.9f}, Test MAE: {test_mae:.4f}, Test R2: {test_r2:.4f}, Test Pearson Correlation: {test_pearson_corr:.4f}, Test Median AE: {test_median_ae:.4f}, Test Explained Variance: {test_explained_var:.4f}\")"
   ]
  },
  {
   "cell_type": "code",
   "execution_count": 17,
   "metadata": {},
   "outputs": [],
   "source": [
    "model.eval()\n",
    "train_pred, train_labels = [], []\n",
    "with torch.no_grad():\n",
    "    for batch in train_loader_mols:\n",
    "        mol_features = batch['metabolite_features'].to(device)\n",
    "        protein_features = batch['protein_features'].to(device)\n",
    "        labels = batch['label'].to(device)\n",
    "\n",
    "        outputs = model(mol_features, protein_features)\n",
    "        train_pred.extend(outputs.cpu().numpy())\n",
    "        train_labels.extend(labels.cpu().numpy())\n",
    "\n",
    "train_mse, train_rmse, train_mae, train_r2, train_pearson_corr, train_median_ae, train_explained_var = evaluate_model(train_pred, train_labels)"
   ]
  },
  {
   "cell_type": "code",
   "execution_count": 18,
   "metadata": {},
   "outputs": [],
   "source": [
    "model.eval()\n",
    "val_pred, val_labels = [], []\n",
    "with torch.no_grad():\n",
    "    for batch in val_loader_mols:\n",
    "        mol_features = batch['metabolite_features'].to(device)\n",
    "        protein_features = batch['protein_features'].to(device)\n",
    "        labels = batch['label'].to(device)\n",
    "\n",
    "        outputs = model(mol_features, protein_features)\n",
    "        val_pred.extend(outputs.cpu().numpy())\n",
    "        val_labels.extend(labels.cpu().numpy())\n",
    "\n",
    "val_mse, val_rmse, val_mae, val_r2, val_pearson_corr, val_median_ae, val_explained_var = evaluate_model(val_pred, val_labels)\n"
   ]
  },
  {
   "cell_type": "code",
   "execution_count": 19,
   "metadata": {},
   "outputs": [],
   "source": [
    "# append the performance to the csv file\n",
    "df = {\n",
    "    'Model':['MLP','MLP','MLP'],\n",
    "    'Dataset':['Train','Validation','Test'],\n",
    "    'MSE':[train_mse,val_mse,test_mse],\n",
    "    'RMSE':[train_rmse,val_rmse,test_rmse],\n",
    "    'MAE':[train_mae,val_mae,test_mae],\n",
    "    'R2':[train_r2,val_r2,test_r2],\n",
    "    'Pearson':[train_pearson_corr,val_pearson_corr,test_pearson_corr],\n",
    "    'Median_AE':[train_median_ae,val_median_ae,test_median_ae],\n",
    "    'Explained_VAR':[train_explained_var,val_explained_var,test_explained_var],\n",
    "    'Dataspliting Mode':['cold mols','cold mols','cold mols']\n",
    "}\n",
    "df = pd.DataFrame(df)\n",
    "\n",
    "df.to_csv('/Users/pinchichen/2025S lab/AI drug project/Catpred/Ki/model performance metrics_Catpred_Ki.csv', mode='a', header=False)"
   ]
  },
  {
   "cell_type": "code",
   "execution_count": 12,
   "metadata": {},
   "outputs": [],
   "source": [
    "# Save the model and training history\n",
    "save_dir = '/Users/pinchichen/2025S lab/AI drug project/Catpred/Ki/trained_model/cold_mols'\n",
    "# save model weights and optimizer state\n",
    "torch.save(model_2.state_dict(), os.path.join(save_dir, 'MLP model_Catpred_Ki_cold_mols.pt'))\n",
    "torch.save(optimizer_2.state_dict(), os.path.join(save_dir, 'MLP optimizer_Catpred_Ki_cold_mols.pt'))"
   ]
  }
 ],
 "metadata": {
  "kernelspec": {
   "display_name": "base",
   "language": "python",
   "name": "python3"
  },
  "language_info": {
   "codemirror_mode": {
    "name": "ipython",
    "version": 3
   },
   "file_extension": ".py",
   "mimetype": "text/x-python",
   "name": "python",
   "nbconvert_exporter": "python",
   "pygments_lexer": "ipython3",
   "version": "3.12.2"
  }
 },
 "nbformat": 4,
 "nbformat_minor": 2
}
