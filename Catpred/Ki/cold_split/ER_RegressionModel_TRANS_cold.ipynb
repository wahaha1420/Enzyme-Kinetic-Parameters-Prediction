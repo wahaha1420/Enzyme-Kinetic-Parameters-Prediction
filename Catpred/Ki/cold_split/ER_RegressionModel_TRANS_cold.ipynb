{
 "cells": [
  {
   "cell_type": "code",
   "execution_count": 1,
   "metadata": {},
   "outputs": [],
   "source": [
    "import pandas as pd\n",
    "import numpy as np\n",
    "from tqdm import tqdm\n",
    "import torch\n",
    "import torch.nn as nn\n",
    "import torch.optim as optim\n",
    "from torch.utils.data import DataLoader, Dataset\n",
    "from sklearn.metrics import roc_auc_score\n",
    "from sklearn.model_selection import train_test_split\n",
    "import os\n"
   ]
  },
  {
   "cell_type": "code",
   "execution_count": 2,
   "metadata": {},
   "outputs": [
    {
     "data": {
      "text/html": [
       "<div>\n",
       "<style scoped>\n",
       "    .dataframe tbody tr th:only-of-type {\n",
       "        vertical-align: middle;\n",
       "    }\n",
       "\n",
       "    .dataframe tbody tr th {\n",
       "        vertical-align: top;\n",
       "    }\n",
       "\n",
       "    .dataframe thead th {\n",
       "        text-align: right;\n",
       "    }\n",
       "</style>\n",
       "<table border=\"1\" class=\"dataframe\">\n",
       "  <thead>\n",
       "    <tr style=\"text-align: right;\">\n",
       "      <th></th>\n",
       "      <th>Sequence</th>\n",
       "      <th>sequence_source</th>\n",
       "      <th>uniprot</th>\n",
       "      <th>Smiles</th>\n",
       "      <th>value</th>\n",
       "      <th>ec</th>\n",
       "      <th>log10_value</th>\n",
       "      <th>log10ki_mean</th>\n",
       "      <th>metabolite_features</th>\n",
       "      <th>protein_features</th>\n",
       "    </tr>\n",
       "  </thead>\n",
       "  <tbody>\n",
       "    <tr>\n",
       "      <th>0</th>\n",
       "      <td>MHTKGPTPQQHDGSALRIGIVHARWNETIIEPLLAGTKAKLLACGV...</td>\n",
       "      <td>uniprot_search</td>\n",
       "      <td>A0A6P8BCR9</td>\n",
       "      <td>O=c1n(C[C@H](O)[C@H](O)[C@H](O)CO)c2nc(O)nc(O)...</td>\n",
       "      <td>0.000002</td>\n",
       "      <td>2.5.1.78</td>\n",
       "      <td>-5.698970</td>\n",
       "      <td>-5.698970</td>\n",
       "      <td>[0.17249086, -0.23665705, -0.11737049, -0.0940...</td>\n",
       "      <td>[0.026722027, -0.06119407, 0.041440543, -0.109...</td>\n",
       "    </tr>\n",
       "    <tr>\n",
       "      <th>1</th>\n",
       "      <td>MASPDWGYDDKNGPEQWSKLYPIANGNNQSPVDIKTSETKHDTSLK...</td>\n",
       "      <td>brenda</td>\n",
       "      <td>P00915</td>\n",
       "      <td>CN1CCN(C(=O)c2ccc(S(N)(=O)=O)cc2)[C@@H](Cc2ccc...</td>\n",
       "      <td>0.000707</td>\n",
       "      <td>4.2.1.1</td>\n",
       "      <td>-3.150581</td>\n",
       "      <td>-3.150581</td>\n",
       "      <td>[0.4240491, 0.28231123, 0.2642891, -0.7667821,...</td>\n",
       "      <td>[-0.029181704, -0.12635791, 0.10866662, 0.0339...</td>\n",
       "    </tr>\n",
       "    <tr>\n",
       "      <th>2</th>\n",
       "      <td>MLDDIRGFMNTFSETMFMDVINYSLTRDRYDSVFLQRQNYRDLGQL...</td>\n",
       "      <td>brenda</td>\n",
       "      <td>Q9HLD0</td>\n",
       "      <td>C[C@H]1O[C@H](O[C@H]2[C@H](O)[C@@H](O)[C@@H](O...</td>\n",
       "      <td>0.002990</td>\n",
       "      <td>3.2.1.20</td>\n",
       "      <td>-2.524329</td>\n",
       "      <td>-2.524329</td>\n",
       "      <td>[0.50005734, 0.3923428, 0.064121775, -0.635894...</td>\n",
       "      <td>[0.02874529, -0.17312695, -0.0026887748, 0.035...</td>\n",
       "    </tr>\n",
       "    <tr>\n",
       "      <th>3</th>\n",
       "      <td>MKLMENIFDLAKANKKKIVLAEGEEERNIRASEEIIKDGIADIILV...</td>\n",
       "      <td>uniprot_search</td>\n",
       "      <td>A0A1L5F6Z9</td>\n",
       "      <td>CCN=C(O)CCN=C(O)[C@H](O)C(C)(C)COP(=O)(O)OP(=O...</td>\n",
       "      <td>0.020000</td>\n",
       "      <td>2.3.1.8</td>\n",
       "      <td>-1.698970</td>\n",
       "      <td>-1.698970</td>\n",
       "      <td>[0.28353548, 0.018489605, -0.5459905, -0.34693...</td>\n",
       "      <td>[-0.06555556, 0.04763434, 0.031432115, 0.17143...</td>\n",
       "    </tr>\n",
       "    <tr>\n",
       "      <th>4</th>\n",
       "      <td>MAKRIVEPFRIKMVEKIRVPSREEREAALKEAGYNPFLLPSSAVYI...</td>\n",
       "      <td>sabio</td>\n",
       "      <td>P28796</td>\n",
       "      <td>CC(N)C(=O)O</td>\n",
       "      <td>24.500000</td>\n",
       "      <td>4.1.99.1</td>\n",
       "      <td>1.389166</td>\n",
       "      <td>1.419631</td>\n",
       "      <td>[0.051456872, 0.35619217, 0.10593035, -1.04098...</td>\n",
       "      <td>[0.049294557, -0.043596543, 0.0546125, 0.35600...</td>\n",
       "    </tr>\n",
       "  </tbody>\n",
       "</table>\n",
       "</div>"
      ],
      "text/plain": [
       "                                            Sequence sequence_source  \\\n",
       "0  MHTKGPTPQQHDGSALRIGIVHARWNETIIEPLLAGTKAKLLACGV...  uniprot_search   \n",
       "1  MASPDWGYDDKNGPEQWSKLYPIANGNNQSPVDIKTSETKHDTSLK...          brenda   \n",
       "2  MLDDIRGFMNTFSETMFMDVINYSLTRDRYDSVFLQRQNYRDLGQL...          brenda   \n",
       "3  MKLMENIFDLAKANKKKIVLAEGEEERNIRASEEIIKDGIADIILV...  uniprot_search   \n",
       "4  MAKRIVEPFRIKMVEKIRVPSREEREAALKEAGYNPFLLPSSAVYI...           sabio   \n",
       "\n",
       "      uniprot                                             Smiles      value  \\\n",
       "0  A0A6P8BCR9  O=c1n(C[C@H](O)[C@H](O)[C@H](O)CO)c2nc(O)nc(O)...   0.000002   \n",
       "1      P00915  CN1CCN(C(=O)c2ccc(S(N)(=O)=O)cc2)[C@@H](Cc2ccc...   0.000707   \n",
       "2      Q9HLD0  C[C@H]1O[C@H](O[C@H]2[C@H](O)[C@@H](O)[C@@H](O...   0.002990   \n",
       "3  A0A1L5F6Z9  CCN=C(O)CCN=C(O)[C@H](O)C(C)(C)COP(=O)(O)OP(=O...   0.020000   \n",
       "4      P28796                                        CC(N)C(=O)O  24.500000   \n",
       "\n",
       "         ec  log10_value  log10ki_mean  \\\n",
       "0  2.5.1.78    -5.698970     -5.698970   \n",
       "1   4.2.1.1    -3.150581     -3.150581   \n",
       "2  3.2.1.20    -2.524329     -2.524329   \n",
       "3   2.3.1.8    -1.698970     -1.698970   \n",
       "4  4.1.99.1     1.389166      1.419631   \n",
       "\n",
       "                                 metabolite_features  \\\n",
       "0  [0.17249086, -0.23665705, -0.11737049, -0.0940...   \n",
       "1  [0.4240491, 0.28231123, 0.2642891, -0.7667821,...   \n",
       "2  [0.50005734, 0.3923428, 0.064121775, -0.635894...   \n",
       "3  [0.28353548, 0.018489605, -0.5459905, -0.34693...   \n",
       "4  [0.051456872, 0.35619217, 0.10593035, -1.04098...   \n",
       "\n",
       "                                    protein_features  \n",
       "0  [0.026722027, -0.06119407, 0.041440543, -0.109...  \n",
       "1  [-0.029181704, -0.12635791, 0.10866662, 0.0339...  \n",
       "2  [0.02874529, -0.17312695, -0.0026887748, 0.035...  \n",
       "3  [-0.06555556, 0.04763434, 0.031432115, 0.17143...  \n",
       "4  [0.049294557, -0.043596543, 0.0546125, 0.35600...  "
      ]
     },
     "execution_count": 2,
     "metadata": {},
     "output_type": "execute_result"
    }
   ],
   "source": [
    "import joblib\n",
    "import pandas as pd\n",
    "\n",
    "data_ki = joblib.load('/Users/pinchichen/2025S lab/AI drug project/Catpred/dataset/ki/ki_with_features.joblib')\n",
    "data_ki.head()"
   ]
  },
  {
   "cell_type": "code",
   "execution_count": 3,
   "metadata": {},
   "outputs": [
    {
     "data": {
      "text/html": [
       "<div>\n",
       "<style scoped>\n",
       "    .dataframe tbody tr th:only-of-type {\n",
       "        vertical-align: middle;\n",
       "    }\n",
       "\n",
       "    .dataframe tbody tr th {\n",
       "        vertical-align: top;\n",
       "    }\n",
       "\n",
       "    .dataframe thead th {\n",
       "        text-align: right;\n",
       "    }\n",
       "</style>\n",
       "<table border=\"1\" class=\"dataframe\">\n",
       "  <thead>\n",
       "    <tr style=\"text-align: right;\">\n",
       "      <th></th>\n",
       "      <th>Sequence</th>\n",
       "      <th>sequence_source</th>\n",
       "      <th>uniprot</th>\n",
       "      <th>Smiles</th>\n",
       "      <th>value</th>\n",
       "      <th>ec</th>\n",
       "      <th>log10_value</th>\n",
       "      <th>label</th>\n",
       "      <th>metabolite_features</th>\n",
       "      <th>protein_features</th>\n",
       "    </tr>\n",
       "  </thead>\n",
       "  <tbody>\n",
       "    <tr>\n",
       "      <th>0</th>\n",
       "      <td>MHTKGPTPQQHDGSALRIGIVHARWNETIIEPLLAGTKAKLLACGV...</td>\n",
       "      <td>uniprot_search</td>\n",
       "      <td>A0A6P8BCR9</td>\n",
       "      <td>O=c1n(C[C@H](O)[C@H](O)[C@H](O)CO)c2nc(O)nc(O)...</td>\n",
       "      <td>0.000002</td>\n",
       "      <td>2.5.1.78</td>\n",
       "      <td>-5.698970</td>\n",
       "      <td>-5.698970</td>\n",
       "      <td>[0.17249086, -0.23665705, -0.11737049, -0.0940...</td>\n",
       "      <td>[0.026722027, -0.06119407, 0.041440543, -0.109...</td>\n",
       "    </tr>\n",
       "    <tr>\n",
       "      <th>1</th>\n",
       "      <td>MASPDWGYDDKNGPEQWSKLYPIANGNNQSPVDIKTSETKHDTSLK...</td>\n",
       "      <td>brenda</td>\n",
       "      <td>P00915</td>\n",
       "      <td>CN1CCN(C(=O)c2ccc(S(N)(=O)=O)cc2)[C@@H](Cc2ccc...</td>\n",
       "      <td>0.000707</td>\n",
       "      <td>4.2.1.1</td>\n",
       "      <td>-3.150581</td>\n",
       "      <td>-3.150581</td>\n",
       "      <td>[0.4240491, 0.28231123, 0.2642891, -0.7667821,...</td>\n",
       "      <td>[-0.029181704, -0.12635791, 0.10866662, 0.0339...</td>\n",
       "    </tr>\n",
       "    <tr>\n",
       "      <th>2</th>\n",
       "      <td>MLDDIRGFMNTFSETMFMDVINYSLTRDRYDSVFLQRQNYRDLGQL...</td>\n",
       "      <td>brenda</td>\n",
       "      <td>Q9HLD0</td>\n",
       "      <td>C[C@H]1O[C@H](O[C@H]2[C@H](O)[C@@H](O)[C@@H](O...</td>\n",
       "      <td>0.002990</td>\n",
       "      <td>3.2.1.20</td>\n",
       "      <td>-2.524329</td>\n",
       "      <td>-2.524329</td>\n",
       "      <td>[0.50005734, 0.3923428, 0.064121775, -0.635894...</td>\n",
       "      <td>[0.02874529, -0.17312695, -0.0026887748, 0.035...</td>\n",
       "    </tr>\n",
       "    <tr>\n",
       "      <th>3</th>\n",
       "      <td>MKLMENIFDLAKANKKKIVLAEGEEERNIRASEEIIKDGIADIILV...</td>\n",
       "      <td>uniprot_search</td>\n",
       "      <td>A0A1L5F6Z9</td>\n",
       "      <td>CCN=C(O)CCN=C(O)[C@H](O)C(C)(C)COP(=O)(O)OP(=O...</td>\n",
       "      <td>0.020000</td>\n",
       "      <td>2.3.1.8</td>\n",
       "      <td>-1.698970</td>\n",
       "      <td>-1.698970</td>\n",
       "      <td>[0.28353548, 0.018489605, -0.5459905, -0.34693...</td>\n",
       "      <td>[-0.06555556, 0.04763434, 0.031432115, 0.17143...</td>\n",
       "    </tr>\n",
       "    <tr>\n",
       "      <th>4</th>\n",
       "      <td>MAKRIVEPFRIKMVEKIRVPSREEREAALKEAGYNPFLLPSSAVYI...</td>\n",
       "      <td>sabio</td>\n",
       "      <td>P28796</td>\n",
       "      <td>CC(N)C(=O)O</td>\n",
       "      <td>24.500000</td>\n",
       "      <td>4.1.99.1</td>\n",
       "      <td>1.389166</td>\n",
       "      <td>1.419631</td>\n",
       "      <td>[0.051456872, 0.35619217, 0.10593035, -1.04098...</td>\n",
       "      <td>[0.049294557, -0.043596543, 0.0546125, 0.35600...</td>\n",
       "    </tr>\n",
       "  </tbody>\n",
       "</table>\n",
       "</div>"
      ],
      "text/plain": [
       "                                            Sequence sequence_source  \\\n",
       "0  MHTKGPTPQQHDGSALRIGIVHARWNETIIEPLLAGTKAKLLACGV...  uniprot_search   \n",
       "1  MASPDWGYDDKNGPEQWSKLYPIANGNNQSPVDIKTSETKHDTSLK...          brenda   \n",
       "2  MLDDIRGFMNTFSETMFMDVINYSLTRDRYDSVFLQRQNYRDLGQL...          brenda   \n",
       "3  MKLMENIFDLAKANKKKIVLAEGEEERNIRASEEIIKDGIADIILV...  uniprot_search   \n",
       "4  MAKRIVEPFRIKMVEKIRVPSREEREAALKEAGYNPFLLPSSAVYI...           sabio   \n",
       "\n",
       "      uniprot                                             Smiles      value  \\\n",
       "0  A0A6P8BCR9  O=c1n(C[C@H](O)[C@H](O)[C@H](O)CO)c2nc(O)nc(O)...   0.000002   \n",
       "1      P00915  CN1CCN(C(=O)c2ccc(S(N)(=O)=O)cc2)[C@@H](Cc2ccc...   0.000707   \n",
       "2      Q9HLD0  C[C@H]1O[C@H](O[C@H]2[C@H](O)[C@@H](O)[C@@H](O...   0.002990   \n",
       "3  A0A1L5F6Z9  CCN=C(O)CCN=C(O)[C@H](O)C(C)(C)COP(=O)(O)OP(=O...   0.020000   \n",
       "4      P28796                                        CC(N)C(=O)O  24.500000   \n",
       "\n",
       "         ec  log10_value     label  \\\n",
       "0  2.5.1.78    -5.698970 -5.698970   \n",
       "1   4.2.1.1    -3.150581 -3.150581   \n",
       "2  3.2.1.20    -2.524329 -2.524329   \n",
       "3   2.3.1.8    -1.698970 -1.698970   \n",
       "4  4.1.99.1     1.389166  1.419631   \n",
       "\n",
       "                                 metabolite_features  \\\n",
       "0  [0.17249086, -0.23665705, -0.11737049, -0.0940...   \n",
       "1  [0.4240491, 0.28231123, 0.2642891, -0.7667821,...   \n",
       "2  [0.50005734, 0.3923428, 0.064121775, -0.635894...   \n",
       "3  [0.28353548, 0.018489605, -0.5459905, -0.34693...   \n",
       "4  [0.051456872, 0.35619217, 0.10593035, -1.04098...   \n",
       "\n",
       "                                    protein_features  \n",
       "0  [0.026722027, -0.06119407, 0.041440543, -0.109...  \n",
       "1  [-0.029181704, -0.12635791, 0.10866662, 0.0339...  \n",
       "2  [0.02874529, -0.17312695, -0.0026887748, 0.035...  \n",
       "3  [-0.06555556, 0.04763434, 0.031432115, 0.17143...  \n",
       "4  [0.049294557, -0.043596543, 0.0546125, 0.35600...  "
      ]
     },
     "execution_count": 3,
     "metadata": {},
     "output_type": "execute_result"
    }
   ],
   "source": [
    "data_ki.rename(columns={'log10ki_mean':'label'},inplace=True)\n",
    "data_ki.head()"
   ]
  },
  {
   "cell_type": "code",
   "execution_count": 4,
   "metadata": {},
   "outputs": [],
   "source": [
    "# Define dataset\n",
    "class MPI_Dataset(Dataset):\n",
    "    def __init__(self, dataframe):\n",
    "        self.dataframe = dataframe\n",
    "\n",
    "    def __len__(self):\n",
    "        return len(self.dataframe)\n",
    "\n",
    "    def __getitem__(self, idx):\n",
    "        row = self.dataframe.iloc[idx]\n",
    "        return {\n",
    "            'metabolite_features': torch.tensor(np.asarray(row['metabolite_features'], dtype=np.float32)),\n",
    "            'protein_features': torch.tensor(np.asarray(row['protein_features'], dtype=np.float32)),\n",
    "            'label': torch.tensor(float(row['label']), dtype=torch.float32),\n",
    "        }"
   ]
  },
  {
   "cell_type": "code",
   "execution_count": 5,
   "metadata": {},
   "outputs": [],
   "source": [
    "# Separate the dataset by unique proteins and drugs\n",
    "unique_proteins = data_ki['Sequence'].unique()\n",
    "unique_mols = data_ki['Smiles'].unique()\n",
    "# Set the seed for reproducibility\n",
    "torch.manual_seed(42)\n",
    "# Function to perform a cold split\n",
    "def cold_split(unique_items, test_size=0.2, val_size=0.1):\n",
    "    train_items, test_items = train_test_split(unique_items, test_size=test_size, random_state=42)\n",
    "    train_items, val_items = train_test_split(train_items, test_size=val_size / (1 - test_size), random_state=42)\n",
    "    return train_items, val_items, test_items\n",
    "# Cold split by proteins\n",
    "train_proteins, val_proteins, test_proteins = cold_split(unique_proteins)\n",
    "train_cold_protein = data_ki[data_ki['Sequence'].isin(train_proteins)]\n",
    "val_cold_protein = data_ki[data_ki['Sequence'].isin(val_proteins)]\n",
    "test_cold_protein = data_ki[data_ki['Sequence'].isin(test_proteins)]\n",
    "# Cold split by molecules\n",
    "train_mols, val_mols, test_mols = cold_split(unique_mols)\n",
    "train_cold_mols = data_ki[data_ki['Smiles'].isin(train_mols)]\n",
    "val_cold_mols = data_ki[data_ki['Smiles'].isin(val_mols)]\n",
    "test_cold_mols = data_ki[data_ki['Smiles'].isin(test_mols)]"
   ]
  },
  {
   "cell_type": "code",
   "execution_count": 6,
   "metadata": {},
   "outputs": [],
   "source": [
    "# cold protein\n",
    "train_dataset = MPI_Dataset(train_cold_protein)\n",
    "val_dataset = MPI_Dataset(val_cold_protein)\n",
    "test_dataset = MPI_Dataset(test_cold_protein)\n",
    "\n",
    "train_loader = DataLoader(train_dataset, batch_size=32, shuffle=True)\n",
    "val_loader = DataLoader(val_dataset, batch_size=32)\n",
    "test_loader = DataLoader(test_dataset, batch_size=32)\n",
    "\n",
    "# cold mols\n",
    "train_dataset_mols = MPI_Dataset(train_cold_mols)\n",
    "val_dataset_mols = MPI_Dataset(val_cold_mols)\n",
    "test_dataset_mols = MPI_Dataset(test_cold_mols)\n",
    "\n",
    "train_loader_mols = DataLoader(train_dataset_mols, batch_size=32, shuffle=True)\n",
    "val_loader_mols = DataLoader(val_dataset_mols, batch_size=32)\n",
    "test_loader_mols = DataLoader(test_dataset_mols, batch_size=32)"
   ]
  },
  {
   "cell_type": "code",
   "execution_count": 7,
   "metadata": {},
   "outputs": [],
   "source": [
    "import torch.nn as nn\n",
    "import torch\n",
    "import torch.nn.functional as F\n",
    "\n",
    "# Define Transformer for Regression\n",
    "# https://www.datacamp.com/tutorial/building-a-transformer-with-py-torch\n",
    "class TransformerRegressor(nn.Module):\n",
    "    def __init__(self, mol_input_dim, protein_input_dim, d_model=128, nhead=4, num_layers=2, dropout=0.1):\n",
    "        super().__init__()\n",
    "\n",
    "        # Linear projection to embedding space\n",
    "        self.mol_proj = nn.Linear(mol_input_dim, d_model)\n",
    "        self.protein_proj = nn.Linear(protein_input_dim, d_model)\n",
    "\n",
    "        # Positional encoding (learnable)\n",
    "        self.pos_embedding = nn.Parameter(torch.randn(2, d_model))  # 2 positions: [mol, protein]\n",
    "\n",
    "        # Transformer encoder\n",
    "        encoder_layer = nn.TransformerEncoderLayer(d_model=d_model, nhead=nhead, dropout=dropout, batch_first=True)\n",
    "        self.transformer = nn.TransformerEncoder(encoder_layer, num_layers=num_layers)\n",
    "\n",
    "        # Regression head\n",
    "        self.regressor = nn.Sequential(\n",
    "            nn.Linear(d_model * 2, d_model),\n",
    "            nn.ReLU(),\n",
    "            nn.Dropout(dropout),\n",
    "            nn.Linear(d_model, 1)\n",
    "        )\n",
    "\n",
    "    def forward(self, mol_input, protein_input):\n",
    "        # Project input to embedding space\n",
    "        mol_embed = self.mol_proj(mol_input).unsqueeze(1)       # shape: (B, 1, d_model)\n",
    "        protein_embed = self.protein_proj(protein_input).unsqueeze(1)  # shape: (B, 1, d_model)\n",
    "\n",
    "        # Concatenate [mol, protein] tokens → sequence length = 2\n",
    "        x = torch.cat([mol_embed, protein_embed], dim=1)  # shape: (B, 2, d_model)\n",
    "\n",
    "        # Add learnable positional encoding\n",
    "        x = x + self.pos_embedding.unsqueeze(0)  # broadcast (1, 2, d_model)\n",
    "\n",
    "        # Pass through Transformer encoder\n",
    "        encoded = self.transformer(x)  # shape: (B, 2, d_model)\n",
    "\n",
    "        # Flatten both tokens\n",
    "        flattened = encoded.view(encoded.size(0), -1)  # shape: (B, 2 * d_model)\n",
    "\n",
    "        # Regression\n",
    "        out = self.regressor(flattened)\n",
    "        return out.view(-1)"
   ]
  },
  {
   "cell_type": "code",
   "execution_count": 8,
   "metadata": {},
   "outputs": [],
   "source": [
    "# Check CUDA availability\n",
    "device = torch.device(\"cuda\" if torch.cuda.is_available() else \"cpu\")"
   ]
  },
  {
   "cell_type": "code",
   "execution_count": null,
   "metadata": {},
   "outputs": [
    {
     "name": "stderr",
     "output_type": "stream",
     "text": [
      "Training Epoch 1: 100%|██████████| 259/259 [00:07<00:00, 32.91it/s]\n"
     ]
    },
    {
     "name": "stdout",
     "output_type": "stream",
     "text": [
      "Epoch 0 - Train Loss: 3.1215, Train MSE: 3.1211, Train MAE: 1.4030\n"
     ]
    },
    {
     "name": "stderr",
     "output_type": "stream",
     "text": [
      "/var/folders/yz/c1z6m9_d5d3f80sywjc3rqsc0000gn/T/ipykernel_19860/2430062344.py:91: FutureWarning: The behavior of DataFrame concatenation with empty or all-NA entries is deprecated. In a future version, this will no longer exclude empty or all-NA columns when determining the result dtypes. To retain the old behavior, exclude the relevant entries before the concat operation.\n",
      "  train_history = pd.concat([train_history, pd.DataFrame([new_row])], ignore_index=True)\n"
     ]
    },
    {
     "name": "stdout",
     "output_type": "stream",
     "text": [
      "Epoch 0 - Validation Loss: 2.6095, Validation MSE: 2.6081, Validation MAE: 1.3421\n"
     ]
    },
    {
     "name": "stderr",
     "output_type": "stream",
     "text": [
      "Training Epoch 2: 100%|██████████| 259/259 [00:07<00:00, 33.88it/s]\n",
      "Training Epoch 3: 100%|██████████| 259/259 [00:07<00:00, 33.85it/s]\n",
      "Training Epoch 4: 100%|██████████| 259/259 [00:09<00:00, 27.90it/s]\n",
      "Training Epoch 5: 100%|██████████| 259/259 [00:08<00:00, 30.58it/s]\n",
      "Training Epoch 6: 100%|██████████| 259/259 [00:06<00:00, 37.54it/s]\n",
      "Training Epoch 7: 100%|██████████| 259/259 [00:06<00:00, 37.48it/s]\n",
      "Training Epoch 8: 100%|██████████| 259/259 [00:06<00:00, 39.10it/s]\n",
      "Training Epoch 9: 100%|██████████| 259/259 [00:07<00:00, 35.22it/s]\n",
      "Training Epoch 10: 100%|██████████| 259/259 [00:07<00:00, 36.73it/s]\n",
      "Training Epoch 11: 100%|██████████| 259/259 [00:06<00:00, 37.66it/s]\n"
     ]
    },
    {
     "name": "stdout",
     "output_type": "stream",
     "text": [
      "Epoch 10 - Train Loss: 2.0060, Train MSE: 2.0070, Train MAE: 1.1028\n",
      "Epoch 10 - Validation Loss: 2.3687, Validation MSE: 2.3638, Validation MAE: 1.2100\n"
     ]
    },
    {
     "name": "stderr",
     "output_type": "stream",
     "text": [
      "Training Epoch 12: 100%|██████████| 259/259 [00:07<00:00, 36.28it/s]\n",
      "Training Epoch 13: 100%|██████████| 259/259 [00:06<00:00, 37.85it/s]\n",
      "Training Epoch 14: 100%|██████████| 259/259 [00:07<00:00, 36.63it/s]\n",
      "Training Epoch 15: 100%|██████████| 259/259 [00:06<00:00, 39.20it/s]\n",
      "Training Epoch 16: 100%|██████████| 259/259 [00:07<00:00, 36.01it/s]\n",
      "Training Epoch 17: 100%|██████████| 259/259 [00:06<00:00, 37.02it/s]\n",
      "Training Epoch 18: 100%|██████████| 259/259 [00:07<00:00, 36.78it/s]\n",
      "Training Epoch 19: 100%|██████████| 259/259 [00:06<00:00, 41.55it/s]\n",
      "Training Epoch 20: 100%|██████████| 259/259 [00:06<00:00, 39.64it/s]\n",
      "Training Epoch 21: 100%|██████████| 259/259 [00:06<00:00, 39.68it/s]\n"
     ]
    },
    {
     "name": "stdout",
     "output_type": "stream",
     "text": [
      "Epoch 20 - Train Loss: 1.4871, Train MSE: 1.4885, Train MAE: 0.9454\n",
      "Epoch 20 - Validation Loss: 2.3674, Validation MSE: 2.3634, Validation MAE: 1.2013\n"
     ]
    },
    {
     "name": "stderr",
     "output_type": "stream",
     "text": [
      "Training Epoch 22: 100%|██████████| 259/259 [00:06<00:00, 41.02it/s]\n",
      "Training Epoch 23: 100%|██████████| 259/259 [00:06<00:00, 39.41it/s]\n",
      "Training Epoch 24: 100%|██████████| 259/259 [17:48<00:00,  4.12s/it]\n",
      "Training Epoch 25: 100%|██████████| 259/259 [00:16<00:00, 15.35it/s]\n",
      "Training Epoch 26: 100%|██████████| 259/259 [00:09<00:00, 26.01it/s]\n",
      "Training Epoch 27: 100%|██████████| 259/259 [00:10<00:00, 25.38it/s]\n",
      "Training Epoch 28: 100%|██████████| 259/259 [00:10<00:00, 24.96it/s]\n",
      "Training Epoch 29: 100%|██████████| 259/259 [11:45<00:00,  2.72s/it] \n",
      "Training Epoch 30: 100%|██████████| 259/259 [00:10<00:00, 25.66it/s]\n",
      "Training Epoch 31: 100%|██████████| 259/259 [00:10<00:00, 24.74it/s]\n"
     ]
    },
    {
     "name": "stdout",
     "output_type": "stream",
     "text": [
      "Epoch 30 - Train Loss: 1.1259, Train MSE: 1.1268, Train MAE: 0.8154\n",
      "Epoch 30 - Validation Loss: 2.4828, Validation MSE: 2.4758, Validation MAE: 1.2153\n"
     ]
    },
    {
     "name": "stderr",
     "output_type": "stream",
     "text": [
      "Training Epoch 32: 100%|██████████| 259/259 [00:09<00:00, 26.28it/s]\n",
      "Training Epoch 33: 100%|██████████| 259/259 [16:17<00:00,  3.77s/it]  \n",
      "Training Epoch 34: 100%|██████████| 259/259 [32:40<00:00,  7.57s/it]  \n",
      "Training Epoch 35: 100%|██████████| 259/259 [00:11<00:00, 22.63it/s]\n",
      "Training Epoch 36: 100%|██████████| 259/259 [00:10<00:00, 25.08it/s]\n",
      "Training Epoch 37: 100%|██████████| 259/259 [00:10<00:00, 25.49it/s]\n",
      "Training Epoch 38: 100%|██████████| 259/259 [00:11<00:00, 23.35it/s]\n",
      "Training Epoch 39: 100%|██████████| 259/259 [16:47<00:00,  3.89s/it]  \n",
      "Training Epoch 40: 100%|██████████| 259/259 [00:10<00:00, 24.28it/s]\n",
      "Training Epoch 41: 100%|██████████| 259/259 [00:10<00:00, 25.32it/s]\n"
     ]
    },
    {
     "name": "stdout",
     "output_type": "stream",
     "text": [
      "Epoch 40 - Train Loss: 0.8878, Train MSE: 0.8871, Train MAE: 0.7274\n",
      "Epoch 40 - Validation Loss: 2.4736, Validation MSE: 2.4663, Validation MAE: 1.2163\n"
     ]
    },
    {
     "name": "stderr",
     "output_type": "stream",
     "text": [
      "Training Epoch 42: 100%|██████████| 259/259 [00:10<00:00, 25.77it/s]\n",
      "Training Epoch 43: 100%|██████████| 259/259 [00:09<00:00, 26.13it/s]\n",
      "Training Epoch 44: 100%|██████████| 259/259 [03:31<00:00,  1.22it/s]\n",
      "Training Epoch 45: 100%|██████████| 259/259 [00:07<00:00, 35.84it/s]\n",
      "Training Epoch 46: 100%|██████████| 259/259 [00:07<00:00, 33.11it/s]\n",
      "Training Epoch 47: 100%|██████████| 259/259 [00:06<00:00, 37.13it/s]\n",
      "Training Epoch 48: 100%|██████████| 259/259 [00:07<00:00, 35.55it/s]\n",
      "Training Epoch 49: 100%|██████████| 259/259 [00:07<00:00, 33.67it/s]\n",
      "Training Epoch 50: 100%|██████████| 259/259 [00:06<00:00, 40.72it/s]\n",
      "Training Epoch 51: 100%|██████████| 259/259 [00:06<00:00, 40.76it/s]\n"
     ]
    },
    {
     "name": "stdout",
     "output_type": "stream",
     "text": [
      "Epoch 50 - Train Loss: 0.7184, Train MSE: 0.7177, Train MAE: 0.6494\n",
      "Epoch 50 - Validation Loss: 2.5886, Validation MSE: 2.5740, Validation MAE: 1.2323\n"
     ]
    },
    {
     "name": "stderr",
     "output_type": "stream",
     "text": [
      "Training Epoch 52: 100%|██████████| 259/259 [00:06<00:00, 39.23it/s]\n",
      "Training Epoch 53: 100%|██████████| 259/259 [00:06<00:00, 39.06it/s]\n",
      "Training Epoch 54: 100%|██████████| 259/259 [00:06<00:00, 40.83it/s]\n",
      "Training Epoch 55: 100%|██████████| 259/259 [00:05<00:00, 43.41it/s]\n",
      "Training Epoch 56: 100%|██████████| 259/259 [00:06<00:00, 42.92it/s]\n",
      "Training Epoch 57: 100%|██████████| 259/259 [00:05<00:00, 43.75it/s]\n",
      "Training Epoch 58: 100%|██████████| 259/259 [00:06<00:00, 40.94it/s]\n",
      "Training Epoch 59: 100%|██████████| 259/259 [00:06<00:00, 41.55it/s]\n",
      "Training Epoch 60: 100%|██████████| 259/259 [00:06<00:00, 43.00it/s]\n",
      "Training Epoch 61: 100%|██████████| 259/259 [00:05<00:00, 43.82it/s]\n"
     ]
    },
    {
     "name": "stdout",
     "output_type": "stream",
     "text": [
      "Epoch 60 - Train Loss: 0.5737, Train MSE: 0.5728, Train MAE: 0.5757\n",
      "Epoch 60 - Validation Loss: 2.5795, Validation MSE: 2.5664, Validation MAE: 1.2068\n"
     ]
    },
    {
     "name": "stderr",
     "output_type": "stream",
     "text": [
      "Training Epoch 62: 100%|██████████| 259/259 [00:05<00:00, 43.48it/s]\n",
      "Training Epoch 63: 100%|██████████| 259/259 [00:06<00:00, 42.39it/s]\n",
      "Training Epoch 64: 100%|██████████| 259/259 [00:06<00:00, 42.08it/s]\n",
      "Training Epoch 65: 100%|██████████| 259/259 [00:06<00:00, 42.60it/s]\n",
      "Training Epoch 66: 100%|██████████| 259/259 [00:06<00:00, 43.06it/s]\n",
      "Training Epoch 67: 100%|██████████| 259/259 [00:05<00:00, 43.46it/s]\n",
      "Training Epoch 68: 100%|██████████| 259/259 [00:06<00:00, 40.75it/s]\n",
      "Training Epoch 69: 100%|██████████| 259/259 [00:06<00:00, 42.28it/s]\n",
      "Training Epoch 70: 100%|██████████| 259/259 [00:05<00:00, 43.44it/s]\n",
      "Training Epoch 71: 100%|██████████| 259/259 [00:06<00:00, 40.70it/s]\n"
     ]
    },
    {
     "name": "stdout",
     "output_type": "stream",
     "text": [
      "Epoch 70 - Train Loss: 0.4949, Train MSE: 0.4952, Train MAE: 0.5375\n",
      "Epoch 70 - Validation Loss: 2.6401, Validation MSE: 2.6264, Validation MAE: 1.2346\n"
     ]
    },
    {
     "name": "stderr",
     "output_type": "stream",
     "text": [
      "Training Epoch 72: 100%|██████████| 259/259 [00:06<00:00, 43.07it/s]\n",
      "Training Epoch 73: 100%|██████████| 259/259 [00:06<00:00, 42.98it/s]\n",
      "Training Epoch 74: 100%|██████████| 259/259 [00:05<00:00, 43.33it/s]\n",
      "Training Epoch 75: 100%|██████████| 259/259 [00:06<00:00, 42.63it/s]\n",
      "Training Epoch 76: 100%|██████████| 259/259 [00:06<00:00, 41.29it/s]\n",
      "Training Epoch 77: 100%|██████████| 259/259 [00:06<00:00, 40.39it/s]\n",
      "Training Epoch 78: 100%|██████████| 259/259 [00:06<00:00, 40.33it/s]\n",
      "Training Epoch 79: 100%|██████████| 259/259 [00:05<00:00, 43.89it/s]\n",
      "Training Epoch 80: 100%|██████████| 259/259 [00:05<00:00, 43.21it/s]\n",
      "Training Epoch 81: 100%|██████████| 259/259 [00:05<00:00, 43.43it/s]\n"
     ]
    },
    {
     "name": "stdout",
     "output_type": "stream",
     "text": [
      "Epoch 80 - Train Loss: 0.4424, Train MSE: 0.4427, Train MAE: 0.5051\n",
      "Epoch 80 - Validation Loss: 2.5219, Validation MSE: 2.5144, Validation MAE: 1.2001\n"
     ]
    },
    {
     "name": "stderr",
     "output_type": "stream",
     "text": [
      "Training Epoch 82: 100%|██████████| 259/259 [00:06<00:00, 42.55it/s]\n",
      "Training Epoch 83: 100%|██████████| 259/259 [00:05<00:00, 43.27it/s]\n",
      "Training Epoch 84: 100%|██████████| 259/259 [00:05<00:00, 43.72it/s]\n",
      "Training Epoch 85: 100%|██████████| 259/259 [00:06<00:00, 42.77it/s]\n",
      "Training Epoch 86: 100%|██████████| 259/259 [00:05<00:00, 43.29it/s]\n",
      "Training Epoch 87: 100%|██████████| 259/259 [00:06<00:00, 39.02it/s]\n",
      "Training Epoch 88: 100%|██████████| 259/259 [00:06<00:00, 40.27it/s]\n",
      "Training Epoch 89: 100%|██████████| 259/259 [00:06<00:00, 43.15it/s]\n",
      "Training Epoch 90: 100%|██████████| 259/259 [00:05<00:00, 45.24it/s]\n",
      "Training Epoch 91: 100%|██████████| 259/259 [00:06<00:00, 42.09it/s]\n"
     ]
    },
    {
     "name": "stdout",
     "output_type": "stream",
     "text": [
      "Epoch 90 - Train Loss: 0.3713, Train MSE: 0.3712, Train MAE: 0.4619\n",
      "Epoch 90 - Validation Loss: 2.6280, Validation MSE: 2.6172, Validation MAE: 1.2547\n"
     ]
    },
    {
     "name": "stderr",
     "output_type": "stream",
     "text": [
      "Training Epoch 92: 100%|██████████| 259/259 [00:05<00:00, 43.88it/s]\n",
      "Training Epoch 93: 100%|██████████| 259/259 [00:05<00:00, 43.88it/s]\n",
      "Training Epoch 94: 100%|██████████| 259/259 [00:05<00:00, 44.33it/s]\n",
      "Training Epoch 95: 100%|██████████| 259/259 [00:06<00:00, 42.95it/s]\n",
      "Training Epoch 96: 100%|██████████| 259/259 [00:06<00:00, 41.32it/s]\n",
      "Training Epoch 97: 100%|██████████| 259/259 [00:06<00:00, 42.43it/s]\n",
      "Training Epoch 98: 100%|██████████| 259/259 [00:06<00:00, 41.48it/s]\n",
      "Training Epoch 99: 100%|██████████| 259/259 [00:05<00:00, 43.74it/s]\n",
      "Training Epoch 100: 100%|██████████| 259/259 [00:05<00:00, 44.11it/s]\n",
      "Training Epoch 101: 100%|██████████| 259/259 [00:06<00:00, 42.50it/s]\n"
     ]
    },
    {
     "name": "stdout",
     "output_type": "stream",
     "text": [
      "Epoch 100 - Train Loss: 0.3438, Train MSE: 0.3439, Train MAE: 0.4456\n",
      "Epoch 100 - Validation Loss: 2.6274, Validation MSE: 2.6146, Validation MAE: 1.2328\n"
     ]
    },
    {
     "name": "stderr",
     "output_type": "stream",
     "text": [
      "Training Epoch 102: 100%|██████████| 259/259 [00:06<00:00, 41.24it/s]\n",
      "Training Epoch 103: 100%|██████████| 259/259 [00:05<00:00, 43.96it/s]\n",
      "Training Epoch 104: 100%|██████████| 259/259 [00:05<00:00, 43.71it/s]\n",
      "Training Epoch 105: 100%|██████████| 259/259 [00:05<00:00, 43.72it/s]\n",
      "Training Epoch 106: 100%|██████████| 259/259 [00:06<00:00, 40.90it/s]\n",
      "Training Epoch 107: 100%|██████████| 259/259 [00:06<00:00, 42.23it/s]\n",
      "Training Epoch 108: 100%|██████████| 259/259 [00:06<00:00, 41.92it/s]\n",
      "Training Epoch 109: 100%|██████████| 259/259 [00:06<00:00, 42.16it/s]\n",
      "Training Epoch 110: 100%|██████████| 259/259 [00:05<00:00, 45.22it/s]\n",
      "Training Epoch 111: 100%|██████████| 259/259 [00:06<00:00, 42.36it/s]\n"
     ]
    },
    {
     "name": "stdout",
     "output_type": "stream",
     "text": [
      "Epoch 110 - Train Loss: 0.3148, Train MSE: 0.3151, Train MAE: 0.4256\n",
      "Epoch 110 - Validation Loss: 2.5613, Validation MSE: 2.5553, Validation MAE: 1.2388\n"
     ]
    },
    {
     "name": "stderr",
     "output_type": "stream",
     "text": [
      "Training Epoch 112: 100%|██████████| 259/259 [00:06<00:00, 42.82it/s]\n",
      "Training Epoch 113: 100%|██████████| 259/259 [00:05<00:00, 43.48it/s]\n",
      "Training Epoch 114: 100%|██████████| 259/259 [00:05<00:00, 43.25it/s]\n",
      "Training Epoch 115: 100%|██████████| 259/259 [00:06<00:00, 41.59it/s]\n",
      "Training Epoch 116: 100%|██████████| 259/259 [00:06<00:00, 38.79it/s]\n",
      "Training Epoch 117: 100%|██████████| 259/259 [00:06<00:00, 41.79it/s]\n",
      "Training Epoch 118: 100%|██████████| 259/259 [00:06<00:00, 42.93it/s]\n",
      "Training Epoch 119: 100%|██████████| 259/259 [00:05<00:00, 43.85it/s]\n",
      "Training Epoch 120: 100%|██████████| 259/259 [00:06<00:00, 42.86it/s]\n",
      "Training Epoch 121: 100%|██████████| 259/259 [00:06<00:00, 42.03it/s]\n"
     ]
    },
    {
     "name": "stdout",
     "output_type": "stream",
     "text": [
      "Epoch 120 - Train Loss: 0.2808, Train MSE: 0.2807, Train MAE: 0.3992\n",
      "Epoch 120 - Validation Loss: 2.4561, Validation MSE: 2.4489, Validation MAE: 1.2093\n"
     ]
    },
    {
     "name": "stderr",
     "output_type": "stream",
     "text": [
      "Training Epoch 122: 100%|██████████| 259/259 [00:05<00:00, 43.93it/s]\n",
      "Training Epoch 123: 100%|██████████| 259/259 [00:05<00:00, 43.30it/s]\n",
      "Training Epoch 124: 100%|██████████| 259/259 [00:06<00:00, 42.17it/s]\n",
      "Training Epoch 125: 100%|██████████| 259/259 [00:06<00:00, 41.22it/s]\n",
      "Training Epoch 126: 100%|██████████| 259/259 [00:06<00:00, 41.81it/s]\n",
      "Training Epoch 127: 100%|██████████| 259/259 [00:05<00:00, 43.52it/s]\n",
      "Training Epoch 128: 100%|██████████| 259/259 [00:05<00:00, 44.53it/s]\n",
      "Training Epoch 129: 100%|██████████| 259/259 [00:05<00:00, 43.37it/s]\n",
      "Training Epoch 130: 100%|██████████| 259/259 [00:06<00:00, 41.67it/s]\n",
      "Training Epoch 131: 100%|██████████| 259/259 [00:06<00:00, 42.86it/s]\n"
     ]
    },
    {
     "name": "stdout",
     "output_type": "stream",
     "text": [
      "Epoch 130 - Train Loss: 0.2544, Train MSE: 0.2545, Train MAE: 0.3806\n",
      "Epoch 130 - Validation Loss: 2.4423, Validation MSE: 2.4348, Validation MAE: 1.1949\n"
     ]
    },
    {
     "name": "stderr",
     "output_type": "stream",
     "text": [
      "Training Epoch 132: 100%|██████████| 259/259 [00:06<00:00, 41.50it/s]\n",
      "Training Epoch 133: 100%|██████████| 259/259 [00:05<00:00, 44.41it/s]\n",
      "Training Epoch 134: 100%|██████████| 259/259 [00:06<00:00, 43.00it/s]\n",
      "Training Epoch 135: 100%|██████████| 259/259 [00:06<00:00, 40.77it/s]\n",
      "Training Epoch 136: 100%|██████████| 259/259 [00:06<00:00, 41.81it/s]\n",
      "Training Epoch 137: 100%|██████████| 259/259 [00:06<00:00, 39.49it/s]\n",
      "Training Epoch 138: 100%|██████████| 259/259 [00:06<00:00, 41.83it/s]\n",
      "Training Epoch 139: 100%|██████████| 259/259 [00:06<00:00, 38.81it/s]\n",
      "Training Epoch 140: 100%|██████████| 259/259 [00:06<00:00, 42.62it/s]\n",
      "Training Epoch 141: 100%|██████████| 259/259 [00:05<00:00, 43.92it/s]\n"
     ]
    },
    {
     "name": "stdout",
     "output_type": "stream",
     "text": [
      "Epoch 140 - Train Loss: 0.2292, Train MSE: 0.2293, Train MAE: 0.3607\n",
      "Epoch 140 - Validation Loss: 2.4521, Validation MSE: 2.4475, Validation MAE: 1.1928\n"
     ]
    },
    {
     "name": "stderr",
     "output_type": "stream",
     "text": [
      "Training Epoch 142: 100%|██████████| 259/259 [00:06<00:00, 42.44it/s]\n",
      "Training Epoch 143: 100%|██████████| 259/259 [00:06<00:00, 42.27it/s]\n",
      "Training Epoch 144: 100%|██████████| 259/259 [00:06<00:00, 41.25it/s]\n",
      "Training Epoch 145: 100%|██████████| 259/259 [00:06<00:00, 41.56it/s]\n",
      "Training Epoch 146: 100%|██████████| 259/259 [00:05<00:00, 43.42it/s]\n",
      "Training Epoch 147: 100%|██████████| 259/259 [00:05<00:00, 44.48it/s]\n",
      "Training Epoch 148: 100%|██████████| 259/259 [00:06<00:00, 39.31it/s]\n",
      "Training Epoch 149: 100%|██████████| 259/259 [00:05<00:00, 43.85it/s]\n",
      "Training Epoch 150: 100%|██████████| 259/259 [00:06<00:00, 43.03it/s]\n",
      "Training Epoch 151: 100%|██████████| 259/259 [00:06<00:00, 42.78it/s]\n"
     ]
    },
    {
     "name": "stdout",
     "output_type": "stream",
     "text": [
      "Epoch 150 - Train Loss: 0.2194, Train MSE: 0.2195, Train MAE: 0.3527\n",
      "Epoch 150 - Validation Loss: 2.5459, Validation MSE: 2.5375, Validation MAE: 1.2054\n"
     ]
    },
    {
     "name": "stderr",
     "output_type": "stream",
     "text": [
      "Training Epoch 152: 100%|██████████| 259/259 [00:05<00:00, 45.19it/s]\n",
      "Training Epoch 153: 100%|██████████| 259/259 [00:05<00:00, 44.27it/s]\n",
      "Training Epoch 154: 100%|██████████| 259/259 [00:06<00:00, 41.19it/s]\n",
      "Training Epoch 155: 100%|██████████| 259/259 [00:05<00:00, 44.06it/s]\n",
      "Training Epoch 156: 100%|██████████| 259/259 [00:05<00:00, 45.59it/s]\n",
      "Training Epoch 157: 100%|██████████| 259/259 [00:05<00:00, 44.70it/s]\n",
      "Training Epoch 158: 100%|██████████| 259/259 [00:05<00:00, 44.39it/s]\n",
      "Training Epoch 159: 100%|██████████| 259/259 [00:05<00:00, 44.72it/s]\n",
      "Training Epoch 160: 100%|██████████| 259/259 [00:05<00:00, 44.77it/s]\n",
      "Training Epoch 161: 100%|██████████| 259/259 [00:05<00:00, 45.97it/s]\n"
     ]
    },
    {
     "name": "stdout",
     "output_type": "stream",
     "text": [
      "Epoch 160 - Train Loss: 0.1982, Train MSE: 0.1980, Train MAE: 0.3328\n",
      "Epoch 160 - Validation Loss: 2.5659, Validation MSE: 2.5575, Validation MAE: 1.2171\n"
     ]
    },
    {
     "name": "stderr",
     "output_type": "stream",
     "text": [
      "Training Epoch 162: 100%|██████████| 259/259 [00:05<00:00, 45.06it/s]\n",
      "Training Epoch 163: 100%|██████████| 259/259 [00:05<00:00, 44.34it/s]\n",
      "Training Epoch 164: 100%|██████████| 259/259 [00:05<00:00, 43.29it/s]\n",
      "Training Epoch 165: 100%|██████████| 259/259 [00:05<00:00, 44.42it/s]\n",
      "Training Epoch 166: 100%|██████████| 259/259 [00:05<00:00, 43.74it/s]\n",
      "Training Epoch 167: 100%|██████████| 259/259 [00:05<00:00, 44.33it/s]\n",
      "Training Epoch 168: 100%|██████████| 259/259 [00:05<00:00, 44.84it/s]\n",
      "Training Epoch 169: 100%|██████████| 259/259 [00:06<00:00, 43.05it/s]\n",
      "Training Epoch 170: 100%|██████████| 259/259 [00:05<00:00, 45.20it/s]\n",
      "Training Epoch 171: 100%|██████████| 259/259 [00:05<00:00, 46.62it/s]\n"
     ]
    },
    {
     "name": "stdout",
     "output_type": "stream",
     "text": [
      "Epoch 170 - Train Loss: 0.1897, Train MSE: 0.1896, Train MAE: 0.3272\n",
      "Epoch 170 - Validation Loss: 2.4587, Validation MSE: 2.4513, Validation MAE: 1.2100\n"
     ]
    },
    {
     "name": "stderr",
     "output_type": "stream",
     "text": [
      "Training Epoch 172: 100%|██████████| 259/259 [00:05<00:00, 43.78it/s]\n",
      "Training Epoch 173: 100%|██████████| 259/259 [00:06<00:00, 42.98it/s]\n",
      "Training Epoch 174: 100%|██████████| 259/259 [00:05<00:00, 45.35it/s]\n",
      "Training Epoch 175: 100%|██████████| 259/259 [00:06<00:00, 42.67it/s]\n",
      "Training Epoch 176: 100%|██████████| 259/259 [00:06<00:00, 42.66it/s]\n",
      "Training Epoch 177: 100%|██████████| 259/259 [00:05<00:00, 44.04it/s]\n",
      "Training Epoch 178: 100%|██████████| 259/259 [00:06<00:00, 42.51it/s]\n",
      "Training Epoch 179: 100%|██████████| 259/259 [00:05<00:00, 45.16it/s]\n",
      "Training Epoch 180: 100%|██████████| 259/259 [00:06<00:00, 41.29it/s]\n",
      "Training Epoch 181: 100%|██████████| 259/259 [00:05<00:00, 44.03it/s]\n"
     ]
    },
    {
     "name": "stdout",
     "output_type": "stream",
     "text": [
      "Epoch 180 - Train Loss: 0.1870, Train MSE: 0.1871, Train MAE: 0.3233\n",
      "Epoch 180 - Validation Loss: 2.4585, Validation MSE: 2.4487, Validation MAE: 1.2049\n"
     ]
    },
    {
     "name": "stderr",
     "output_type": "stream",
     "text": [
      "Training Epoch 182: 100%|██████████| 259/259 [00:05<00:00, 45.80it/s]\n",
      "Training Epoch 183: 100%|██████████| 259/259 [00:06<00:00, 42.99it/s]\n",
      "Training Epoch 184: 100%|██████████| 259/259 [00:05<00:00, 44.64it/s]\n",
      "Training Epoch 185: 100%|██████████| 259/259 [00:05<00:00, 44.83it/s]\n",
      "Training Epoch 186: 100%|██████████| 259/259 [00:05<00:00, 45.27it/s]\n",
      "Training Epoch 187: 100%|██████████| 259/259 [00:05<00:00, 43.86it/s]\n",
      "Training Epoch 188: 100%|██████████| 259/259 [00:05<00:00, 43.40it/s]\n",
      "Training Epoch 189: 100%|██████████| 259/259 [00:05<00:00, 43.90it/s]\n",
      "Training Epoch 190: 100%|██████████| 259/259 [00:05<00:00, 46.40it/s]\n",
      "Training Epoch 191: 100%|██████████| 259/259 [00:05<00:00, 43.80it/s]\n"
     ]
    },
    {
     "name": "stdout",
     "output_type": "stream",
     "text": [
      "Epoch 190 - Train Loss: 0.1720, Train MSE: 0.1721, Train MAE: 0.3085\n",
      "Epoch 190 - Validation Loss: 2.4847, Validation MSE: 2.4771, Validation MAE: 1.2107\n"
     ]
    },
    {
     "name": "stderr",
     "output_type": "stream",
     "text": [
      "Training Epoch 192: 100%|██████████| 259/259 [00:05<00:00, 45.81it/s]\n",
      "Training Epoch 193: 100%|██████████| 259/259 [00:06<00:00, 42.75it/s]\n",
      "Training Epoch 194: 100%|██████████| 259/259 [00:06<00:00, 40.67it/s]\n",
      "Training Epoch 195: 100%|██████████| 259/259 [00:05<00:00, 45.30it/s]\n",
      "Training Epoch 196: 100%|██████████| 259/259 [00:05<00:00, 45.81it/s]\n",
      "Training Epoch 197: 100%|██████████| 259/259 [00:05<00:00, 44.11it/s]\n",
      "Training Epoch 198: 100%|██████████| 259/259 [00:05<00:00, 46.64it/s]\n",
      "Training Epoch 199: 100%|██████████| 259/259 [00:05<00:00, 45.32it/s]\n",
      "Training Epoch 200: 100%|██████████| 259/259 [00:05<00:00, 44.97it/s]\n",
      "Training Epoch 201: 100%|██████████| 259/259 [00:05<00:00, 44.38it/s]\n"
     ]
    },
    {
     "name": "stdout",
     "output_type": "stream",
     "text": [
      "Epoch 200 - Train Loss: 0.1787, Train MSE: 0.1785, Train MAE: 0.3138\n",
      "Epoch 200 - Validation Loss: 2.4722, Validation MSE: 2.4651, Validation MAE: 1.2095\n"
     ]
    },
    {
     "name": "stderr",
     "output_type": "stream",
     "text": [
      "Training Epoch 202: 100%|██████████| 259/259 [00:05<00:00, 44.07it/s]\n",
      "Training Epoch 203: 100%|██████████| 259/259 [00:06<00:00, 42.69it/s]\n",
      "Training Epoch 204: 100%|██████████| 259/259 [00:05<00:00, 43.30it/s]\n",
      "Training Epoch 205: 100%|██████████| 259/259 [00:05<00:00, 45.08it/s]\n",
      "Training Epoch 206: 100%|██████████| 259/259 [00:05<00:00, 45.69it/s]\n",
      "Training Epoch 207: 100%|██████████| 259/259 [00:05<00:00, 43.96it/s]\n",
      "Training Epoch 208: 100%|██████████| 259/259 [00:05<00:00, 45.14it/s]\n",
      "Training Epoch 209: 100%|██████████| 259/259 [00:06<00:00, 42.81it/s]\n",
      "Training Epoch 210: 100%|██████████| 259/259 [00:05<00:00, 44.52it/s]\n",
      "Training Epoch 211: 100%|██████████| 259/259 [00:05<00:00, 44.89it/s]\n"
     ]
    },
    {
     "name": "stdout",
     "output_type": "stream",
     "text": [
      "Epoch 210 - Train Loss: 0.1538, Train MSE: 0.1539, Train MAE: 0.2921\n",
      "Epoch 210 - Validation Loss: 2.3946, Validation MSE: 2.3866, Validation MAE: 1.1858\n"
     ]
    },
    {
     "name": "stderr",
     "output_type": "stream",
     "text": [
      "Training Epoch 212: 100%|██████████| 259/259 [00:05<00:00, 46.35it/s]\n",
      "Training Epoch 213: 100%|██████████| 259/259 [00:05<00:00, 44.28it/s]\n",
      "Training Epoch 214: 100%|██████████| 259/259 [00:05<00:00, 44.60it/s]\n",
      "Training Epoch 215: 100%|██████████| 259/259 [00:05<00:00, 45.64it/s]\n",
      "Training Epoch 216: 100%|██████████| 259/259 [00:06<00:00, 42.74it/s]\n",
      "Training Epoch 217: 100%|██████████| 259/259 [00:05<00:00, 44.20it/s]\n",
      "Training Epoch 218: 100%|██████████| 259/259 [00:05<00:00, 43.66it/s]\n",
      "Training Epoch 219: 100%|██████████| 259/259 [00:05<00:00, 44.61it/s]\n",
      "Training Epoch 220: 100%|██████████| 259/259 [00:05<00:00, 44.42it/s]\n",
      "Training Epoch 221: 100%|██████████| 259/259 [00:05<00:00, 45.07it/s]\n"
     ]
    },
    {
     "name": "stdout",
     "output_type": "stream",
     "text": [
      "Epoch 220 - Train Loss: 0.1551, Train MSE: 0.1552, Train MAE: 0.2922\n",
      "Epoch 220 - Validation Loss: 2.5565, Validation MSE: 2.5472, Validation MAE: 1.2306\n"
     ]
    },
    {
     "name": "stderr",
     "output_type": "stream",
     "text": [
      "Training Epoch 222: 100%|██████████| 259/259 [00:05<00:00, 43.82it/s]\n",
      "Training Epoch 223: 100%|██████████| 259/259 [00:06<00:00, 42.92it/s]\n",
      "Training Epoch 224: 100%|██████████| 259/259 [00:05<00:00, 45.44it/s]\n",
      "Training Epoch 225: 100%|██████████| 259/259 [00:05<00:00, 46.07it/s]\n",
      "Training Epoch 226: 100%|██████████| 259/259 [00:05<00:00, 44.87it/s]\n",
      "Training Epoch 227: 100%|██████████| 259/259 [00:05<00:00, 44.70it/s]\n",
      "Training Epoch 228: 100%|██████████| 259/259 [00:06<00:00, 43.06it/s]\n",
      "Training Epoch 229: 100%|██████████| 259/259 [00:06<00:00, 42.31it/s]\n",
      "Training Epoch 230: 100%|██████████| 259/259 [00:05<00:00, 45.91it/s]\n",
      "Training Epoch 231: 100%|██████████| 259/259 [00:05<00:00, 44.39it/s]\n"
     ]
    },
    {
     "name": "stdout",
     "output_type": "stream",
     "text": [
      "Epoch 230 - Train Loss: 0.1496, Train MSE: 0.1497, Train MAE: 0.2842\n",
      "Epoch 230 - Validation Loss: 2.4439, Validation MSE: 2.4337, Validation MAE: 1.1923\n"
     ]
    },
    {
     "name": "stderr",
     "output_type": "stream",
     "text": [
      "Training Epoch 232: 100%|██████████| 259/259 [00:05<00:00, 45.08it/s]\n",
      "Training Epoch 233: 100%|██████████| 259/259 [00:05<00:00, 43.44it/s]\n",
      "Training Epoch 234: 100%|██████████| 259/259 [00:05<00:00, 43.37it/s]\n",
      "Training Epoch 235: 100%|██████████| 259/259 [00:05<00:00, 44.45it/s]\n",
      "Training Epoch 236: 100%|██████████| 259/259 [00:05<00:00, 44.00it/s]\n",
      "Training Epoch 237: 100%|██████████| 259/259 [00:05<00:00, 43.85it/s]\n",
      "Training Epoch 238: 100%|██████████| 259/259 [00:05<00:00, 43.60it/s]\n",
      "Training Epoch 239: 100%|██████████| 259/259 [00:05<00:00, 46.01it/s]\n",
      "Training Epoch 240: 100%|██████████| 259/259 [00:05<00:00, 45.29it/s]\n",
      "Training Epoch 241: 100%|██████████| 259/259 [00:05<00:00, 46.36it/s]\n"
     ]
    },
    {
     "name": "stdout",
     "output_type": "stream",
     "text": [
      "Epoch 240 - Train Loss: 0.1415, Train MSE: 0.1413, Train MAE: 0.2797\n",
      "Epoch 240 - Validation Loss: 2.2967, Validation MSE: 2.2896, Validation MAE: 1.1658\n"
     ]
    },
    {
     "name": "stderr",
     "output_type": "stream",
     "text": [
      "Training Epoch 242: 100%|██████████| 259/259 [00:05<00:00, 43.64it/s]\n",
      "Training Epoch 243: 100%|██████████| 259/259 [00:06<00:00, 42.00it/s]\n",
      "Training Epoch 244: 100%|██████████| 259/259 [00:05<00:00, 44.13it/s]\n",
      "Training Epoch 245: 100%|██████████| 259/259 [00:05<00:00, 45.05it/s]\n",
      "Training Epoch 246: 100%|██████████| 259/259 [00:05<00:00, 44.81it/s]\n",
      "Training Epoch 247: 100%|██████████| 259/259 [00:05<00:00, 43.62it/s]\n",
      "Training Epoch 248: 100%|██████████| 259/259 [00:06<00:00, 41.78it/s]\n",
      "Training Epoch 249: 100%|██████████| 259/259 [00:05<00:00, 43.54it/s]\n",
      "Training Epoch 250: 100%|██████████| 259/259 [00:06<00:00, 40.82it/s]\n",
      "Training Epoch 251: 100%|██████████| 259/259 [00:06<00:00, 40.98it/s]\n"
     ]
    },
    {
     "name": "stdout",
     "output_type": "stream",
     "text": [
      "Epoch 250 - Train Loss: 0.1386, Train MSE: 0.1388, Train MAE: 0.2748\n",
      "Epoch 250 - Validation Loss: 2.4466, Validation MSE: 2.4369, Validation MAE: 1.2073\n"
     ]
    },
    {
     "name": "stderr",
     "output_type": "stream",
     "text": [
      "Training Epoch 252: 100%|██████████| 259/259 [00:06<00:00, 39.59it/s]\n",
      "Training Epoch 253: 100%|██████████| 259/259 [00:06<00:00, 38.60it/s]\n",
      "Training Epoch 254: 100%|██████████| 259/259 [00:07<00:00, 36.90it/s]\n",
      "Training Epoch 255: 100%|██████████| 259/259 [00:07<00:00, 36.73it/s]\n",
      "Training Epoch 256: 100%|██████████| 259/259 [00:06<00:00, 38.40it/s]\n",
      "Training Epoch 257: 100%|██████████| 259/259 [00:09<00:00, 26.62it/s]\n",
      "Training Epoch 258: 100%|██████████| 259/259 [00:08<00:00, 30.95it/s]\n",
      "Training Epoch 259: 100%|██████████| 259/259 [00:07<00:00, 36.94it/s]\n",
      "Training Epoch 260: 100%|██████████| 259/259 [00:07<00:00, 34.50it/s]\n",
      "Training Epoch 261: 100%|██████████| 259/259 [00:06<00:00, 39.51it/s]\n"
     ]
    },
    {
     "name": "stdout",
     "output_type": "stream",
     "text": [
      "Epoch 260 - Train Loss: 0.1293, Train MSE: 0.1294, Train MAE: 0.2651\n",
      "Epoch 260 - Validation Loss: 2.4334, Validation MSE: 2.4239, Validation MAE: 1.1948\n"
     ]
    },
    {
     "name": "stderr",
     "output_type": "stream",
     "text": [
      "Training Epoch 262: 100%|██████████| 259/259 [00:06<00:00, 38.13it/s]\n",
      "Training Epoch 263: 100%|██████████| 259/259 [00:07<00:00, 36.04it/s]\n",
      "Training Epoch 264: 100%|██████████| 259/259 [00:07<00:00, 36.53it/s]\n",
      "Training Epoch 265: 100%|██████████| 259/259 [00:07<00:00, 36.79it/s]\n",
      "Training Epoch 266: 100%|██████████| 259/259 [00:06<00:00, 39.20it/s]\n",
      "Training Epoch 267: 100%|██████████| 259/259 [00:06<00:00, 40.25it/s]\n",
      "Training Epoch 268: 100%|██████████| 259/259 [00:06<00:00, 37.60it/s]\n",
      "Training Epoch 269: 100%|██████████| 259/259 [00:07<00:00, 35.06it/s]\n",
      "Training Epoch 270: 100%|██████████| 259/259 [00:06<00:00, 38.42it/s]\n",
      "Training Epoch 271: 100%|██████████| 259/259 [00:06<00:00, 37.67it/s]\n"
     ]
    },
    {
     "name": "stdout",
     "output_type": "stream",
     "text": [
      "Epoch 270 - Train Loss: 0.1285, Train MSE: 0.1286, Train MAE: 0.2649\n",
      "Epoch 270 - Validation Loss: 2.3773, Validation MSE: 2.3735, Validation MAE: 1.1800\n"
     ]
    },
    {
     "name": "stderr",
     "output_type": "stream",
     "text": [
      "Training Epoch 272: 100%|██████████| 259/259 [00:06<00:00, 38.83it/s]\n",
      "Training Epoch 273: 100%|██████████| 259/259 [00:07<00:00, 36.79it/s]\n",
      "Training Epoch 274: 100%|██████████| 259/259 [00:07<00:00, 35.63it/s]\n",
      "Training Epoch 275: 100%|██████████| 259/259 [00:06<00:00, 39.24it/s]\n",
      "Training Epoch 276: 100%|██████████| 259/259 [00:06<00:00, 37.72it/s]\n",
      "Training Epoch 277: 100%|██████████| 259/259 [00:07<00:00, 34.32it/s]\n",
      "Training Epoch 278: 100%|██████████| 259/259 [00:06<00:00, 38.00it/s]\n",
      "Training Epoch 279: 100%|██████████| 259/259 [00:07<00:00, 35.25it/s]\n",
      "Training Epoch 280: 100%|██████████| 259/259 [00:07<00:00, 33.61it/s]\n",
      "Training Epoch 281: 100%|██████████| 259/259 [00:07<00:00, 35.34it/s]\n"
     ]
    },
    {
     "name": "stdout",
     "output_type": "stream",
     "text": [
      "Epoch 280 - Train Loss: 0.1320, Train MSE: 0.1320, Train MAE: 0.2657\n",
      "Epoch 280 - Validation Loss: 2.4547, Validation MSE: 2.4469, Validation MAE: 1.1982\n"
     ]
    },
    {
     "name": "stderr",
     "output_type": "stream",
     "text": [
      "Training Epoch 282: 100%|██████████| 259/259 [00:07<00:00, 35.68it/s]\n",
      "Training Epoch 283: 100%|██████████| 259/259 [00:07<00:00, 34.99it/s]\n",
      "Training Epoch 284: 100%|██████████| 259/259 [00:06<00:00, 37.93it/s]\n",
      "Training Epoch 285: 100%|██████████| 259/259 [00:07<00:00, 32.82it/s]\n",
      "Training Epoch 286: 100%|██████████| 259/259 [00:07<00:00, 34.41it/s]\n",
      "Training Epoch 287: 100%|██████████| 259/259 [00:07<00:00, 35.59it/s]\n",
      "Training Epoch 288: 100%|██████████| 259/259 [00:06<00:00, 38.00it/s]\n",
      "Training Epoch 289: 100%|██████████| 259/259 [00:07<00:00, 35.48it/s]\n",
      "Training Epoch 290: 100%|██████████| 259/259 [00:06<00:00, 37.01it/s]\n",
      "Training Epoch 291: 100%|██████████| 259/259 [00:07<00:00, 35.25it/s]\n"
     ]
    },
    {
     "name": "stdout",
     "output_type": "stream",
     "text": [
      "Epoch 290 - Train Loss: 0.1149, Train MSE: 0.1149, Train MAE: 0.2492\n",
      "Epoch 290 - Validation Loss: 2.3924, Validation MSE: 2.3864, Validation MAE: 1.1872\n"
     ]
    },
    {
     "name": "stderr",
     "output_type": "stream",
     "text": [
      "Training Epoch 292: 100%|██████████| 259/259 [00:06<00:00, 39.02it/s]\n",
      "Training Epoch 293: 100%|██████████| 259/259 [00:07<00:00, 36.92it/s]\n",
      "Training Epoch 294: 100%|██████████| 259/259 [00:07<00:00, 33.74it/s]\n",
      "Training Epoch 295: 100%|██████████| 259/259 [00:06<00:00, 37.72it/s]\n",
      "Training Epoch 296: 100%|██████████| 259/259 [00:07<00:00, 35.17it/s]\n",
      "Training Epoch 297: 100%|██████████| 259/259 [00:07<00:00, 35.52it/s]\n",
      "Training Epoch 298: 100%|██████████| 259/259 [00:07<00:00, 36.81it/s]\n",
      "Training Epoch 299: 100%|██████████| 259/259 [00:06<00:00, 38.05it/s]\n",
      "Training Epoch 300: 100%|██████████| 259/259 [00:06<00:00, 38.68it/s]\n",
      "Training Epoch 301: 100%|██████████| 259/259 [00:07<00:00, 34.37it/s]\n"
     ]
    },
    {
     "name": "stdout",
     "output_type": "stream",
     "text": [
      "Epoch 300 - Train Loss: 0.1247, Train MSE: 0.1246, Train MAE: 0.2594\n",
      "Epoch 300 - Validation Loss: 2.4341, Validation MSE: 2.4270, Validation MAE: 1.1948\n"
     ]
    },
    {
     "name": "stderr",
     "output_type": "stream",
     "text": [
      "Training Epoch 302: 100%|██████████| 259/259 [00:06<00:00, 37.96it/s]\n",
      "Training Epoch 303: 100%|██████████| 259/259 [00:06<00:00, 38.11it/s]\n",
      "Training Epoch 304: 100%|██████████| 259/259 [00:06<00:00, 39.11it/s]\n",
      "Training Epoch 305: 100%|██████████| 259/259 [00:06<00:00, 37.59it/s]\n",
      "Training Epoch 306: 100%|██████████| 259/259 [00:06<00:00, 37.57it/s]\n",
      "Training Epoch 307: 100%|██████████| 259/259 [00:06<00:00, 39.13it/s]\n",
      "Training Epoch 308: 100%|██████████| 259/259 [00:06<00:00, 40.59it/s]\n",
      "Training Epoch 309: 100%|██████████| 259/259 [00:06<00:00, 38.37it/s]\n",
      "Training Epoch 310: 100%|██████████| 259/259 [00:07<00:00, 36.26it/s]\n",
      "Training Epoch 311: 100%|██████████| 259/259 [00:06<00:00, 37.58it/s]\n"
     ]
    },
    {
     "name": "stdout",
     "output_type": "stream",
     "text": [
      "Epoch 310 - Train Loss: 0.1158, Train MSE: 0.1158, Train MAE: 0.2495\n",
      "Epoch 310 - Validation Loss: 2.4183, Validation MSE: 2.4118, Validation MAE: 1.1949\n"
     ]
    },
    {
     "name": "stderr",
     "output_type": "stream",
     "text": [
      "Training Epoch 312: 100%|██████████| 259/259 [00:06<00:00, 38.07it/s]\n",
      "Training Epoch 313: 100%|██████████| 259/259 [00:06<00:00, 37.45it/s]\n",
      "Training Epoch 314: 100%|██████████| 259/259 [00:06<00:00, 38.55it/s]\n",
      "Training Epoch 315: 100%|██████████| 259/259 [00:06<00:00, 39.70it/s]\n",
      "Training Epoch 316: 100%|██████████| 259/259 [00:06<00:00, 37.73it/s]\n",
      "Training Epoch 317: 100%|██████████| 259/259 [00:06<00:00, 37.49it/s]\n",
      "Training Epoch 318: 100%|██████████| 259/259 [00:07<00:00, 36.15it/s]\n",
      "Training Epoch 319: 100%|██████████| 259/259 [00:06<00:00, 37.34it/s]\n",
      "Training Epoch 320: 100%|██████████| 259/259 [00:06<00:00, 37.13it/s]\n",
      "Training Epoch 321: 100%|██████████| 259/259 [00:06<00:00, 38.41it/s]\n"
     ]
    },
    {
     "name": "stdout",
     "output_type": "stream",
     "text": [
      "Epoch 320 - Train Loss: 0.1108, Train MSE: 0.1108, Train MAE: 0.2443\n",
      "Epoch 320 - Validation Loss: 2.3548, Validation MSE: 2.3490, Validation MAE: 1.1744\n"
     ]
    },
    {
     "name": "stderr",
     "output_type": "stream",
     "text": [
      "Training Epoch 322: 100%|██████████| 259/259 [00:06<00:00, 38.95it/s]\n",
      "Training Epoch 323: 100%|██████████| 259/259 [00:06<00:00, 37.73it/s]\n",
      "Training Epoch 324: 100%|██████████| 259/259 [00:06<00:00, 38.92it/s]\n",
      "Training Epoch 325: 100%|██████████| 259/259 [00:06<00:00, 38.04it/s]\n",
      "Training Epoch 326: 100%|██████████| 259/259 [00:06<00:00, 37.48it/s]\n",
      "Training Epoch 327: 100%|██████████| 259/259 [00:07<00:00, 34.27it/s]\n",
      "Training Epoch 328: 100%|██████████| 259/259 [00:06<00:00, 38.59it/s]\n",
      "Training Epoch 329: 100%|██████████| 259/259 [00:06<00:00, 37.95it/s]\n",
      "Training Epoch 330: 100%|██████████| 259/259 [00:06<00:00, 38.01it/s]\n",
      "Training Epoch 331: 100%|██████████| 259/259 [00:06<00:00, 38.77it/s]\n"
     ]
    },
    {
     "name": "stdout",
     "output_type": "stream",
     "text": [
      "Epoch 330 - Train Loss: 0.1064, Train MSE: 0.1064, Train MAE: 0.2360\n",
      "Epoch 330 - Validation Loss: 2.3826, Validation MSE: 2.3747, Validation MAE: 1.1862\n"
     ]
    },
    {
     "name": "stderr",
     "output_type": "stream",
     "text": [
      "Training Epoch 332: 100%|██████████| 259/259 [00:06<00:00, 38.34it/s]\n",
      "Training Epoch 333: 100%|██████████| 259/259 [00:07<00:00, 36.45it/s]\n",
      "Training Epoch 334: 100%|██████████| 259/259 [00:07<00:00, 35.45it/s]\n",
      "Training Epoch 335: 100%|██████████| 259/259 [00:07<00:00, 33.17it/s]\n",
      "Training Epoch 336: 100%|██████████| 259/259 [00:06<00:00, 37.26it/s]\n",
      "Training Epoch 337: 100%|██████████| 259/259 [00:07<00:00, 34.86it/s]\n",
      "Training Epoch 338: 100%|██████████| 259/259 [00:06<00:00, 38.14it/s]\n",
      "Training Epoch 339: 100%|██████████| 259/259 [00:07<00:00, 36.76it/s]\n",
      "Training Epoch 340: 100%|██████████| 259/259 [00:06<00:00, 37.11it/s]\n",
      "Training Epoch 341: 100%|██████████| 259/259 [00:06<00:00, 37.75it/s]\n"
     ]
    },
    {
     "name": "stdout",
     "output_type": "stream",
     "text": [
      "Epoch 340 - Train Loss: 0.1024, Train MSE: 0.1024, Train MAE: 0.2362\n",
      "Epoch 340 - Validation Loss: 2.3918, Validation MSE: 2.3854, Validation MAE: 1.1951\n"
     ]
    },
    {
     "name": "stderr",
     "output_type": "stream",
     "text": [
      "Training Epoch 342: 100%|██████████| 259/259 [00:06<00:00, 38.58it/s]\n",
      "Training Epoch 343: 100%|██████████| 259/259 [00:07<00:00, 34.69it/s]\n",
      "Training Epoch 344: 100%|██████████| 259/259 [00:07<00:00, 36.95it/s]\n",
      "Training Epoch 345: 100%|██████████| 259/259 [00:06<00:00, 37.85it/s]\n",
      "Training Epoch 346: 100%|██████████| 259/259 [00:06<00:00, 37.37it/s]\n",
      "Training Epoch 347: 100%|██████████| 259/259 [00:07<00:00, 36.64it/s]\n",
      "Training Epoch 348: 100%|██████████| 259/259 [00:06<00:00, 37.54it/s]\n",
      "Training Epoch 349: 100%|██████████| 259/259 [00:06<00:00, 39.27it/s]\n",
      "Training Epoch 350: 100%|██████████| 259/259 [00:06<00:00, 37.66it/s]\n",
      "Training Epoch 351: 100%|██████████| 259/259 [00:06<00:00, 38.55it/s]\n"
     ]
    },
    {
     "name": "stdout",
     "output_type": "stream",
     "text": [
      "Epoch 350 - Train Loss: 0.1046, Train MSE: 0.1047, Train MAE: 0.2358\n",
      "Epoch 350 - Validation Loss: 2.4199, Validation MSE: 2.4104, Validation MAE: 1.1811\n"
     ]
    },
    {
     "name": "stderr",
     "output_type": "stream",
     "text": [
      "Training Epoch 352: 100%|██████████| 259/259 [00:07<00:00, 35.63it/s]\n",
      "Training Epoch 353: 100%|██████████| 259/259 [00:07<00:00, 36.77it/s]\n",
      "Training Epoch 354: 100%|██████████| 259/259 [00:06<00:00, 37.67it/s]\n",
      "Training Epoch 355: 100%|██████████| 259/259 [00:06<00:00, 37.09it/s]\n",
      "Training Epoch 356: 100%|██████████| 259/259 [00:07<00:00, 34.62it/s]\n",
      "Training Epoch 357: 100%|██████████| 259/259 [00:10<00:00, 24.58it/s]\n",
      "Training Epoch 358: 100%|██████████| 259/259 [00:06<00:00, 38.97it/s]\n",
      "Training Epoch 359: 100%|██████████| 259/259 [00:07<00:00, 36.03it/s]\n",
      "Training Epoch 360: 100%|██████████| 259/259 [00:06<00:00, 38.60it/s]\n",
      "Training Epoch 361: 100%|██████████| 259/259 [00:06<00:00, 39.79it/s]\n"
     ]
    },
    {
     "name": "stdout",
     "output_type": "stream",
     "text": [
      "Epoch 360 - Train Loss: 0.1045, Train MSE: 0.1045, Train MAE: 0.2348\n",
      "Epoch 360 - Validation Loss: 2.3602, Validation MSE: 2.3516, Validation MAE: 1.1764\n"
     ]
    },
    {
     "name": "stderr",
     "output_type": "stream",
     "text": [
      "Training Epoch 362: 100%|██████████| 259/259 [00:06<00:00, 37.76it/s]\n",
      "Training Epoch 363: 100%|██████████| 259/259 [00:14<00:00, 17.44it/s]\n",
      "Training Epoch 364: 100%|██████████| 259/259 [00:11<00:00, 22.85it/s]\n",
      "Training Epoch 365: 100%|██████████| 259/259 [00:06<00:00, 39.69it/s]\n",
      "Training Epoch 366: 100%|██████████| 259/259 [00:06<00:00, 39.02it/s]\n",
      "Training Epoch 367: 100%|██████████| 259/259 [00:06<00:00, 38.24it/s]\n",
      "Training Epoch 368: 100%|██████████| 259/259 [00:06<00:00, 37.52it/s]\n",
      "Training Epoch 369: 100%|██████████| 259/259 [00:10<00:00, 24.92it/s]\n",
      "Training Epoch 370: 100%|██████████| 259/259 [00:11<00:00, 22.32it/s]\n",
      "Training Epoch 371: 100%|██████████| 259/259 [00:06<00:00, 39.42it/s]\n"
     ]
    },
    {
     "name": "stdout",
     "output_type": "stream",
     "text": [
      "Epoch 370 - Train Loss: 0.0997, Train MSE: 0.0998, Train MAE: 0.2315\n",
      "Epoch 370 - Validation Loss: 2.3974, Validation MSE: 2.3864, Validation MAE: 1.1905\n"
     ]
    },
    {
     "name": "stderr",
     "output_type": "stream",
     "text": [
      "Training Epoch 372: 100%|██████████| 259/259 [00:07<00:00, 36.31it/s]\n",
      "Training Epoch 373: 100%|██████████| 259/259 [00:07<00:00, 36.71it/s]\n",
      "Training Epoch 374: 100%|██████████| 259/259 [00:06<00:00, 38.09it/s]\n",
      "Training Epoch 375: 100%|██████████| 259/259 [00:19<00:00, 13.21it/s]\n",
      "Training Epoch 376: 100%|██████████| 259/259 [00:11<00:00, 22.73it/s]\n",
      "Training Epoch 377: 100%|██████████| 259/259 [00:06<00:00, 38.11it/s]\n",
      "Training Epoch 378: 100%|██████████| 259/259 [00:06<00:00, 37.77it/s]\n",
      "Training Epoch 379: 100%|██████████| 259/259 [00:06<00:00, 39.79it/s]\n",
      "Training Epoch 380: 100%|██████████| 259/259 [00:07<00:00, 36.97it/s]\n",
      "Training Epoch 381: 100%|██████████| 259/259 [00:20<00:00, 12.95it/s]\n"
     ]
    },
    {
     "name": "stdout",
     "output_type": "stream",
     "text": [
      "Epoch 380 - Train Loss: 0.1029, Train MSE: 0.1028, Train MAE: 0.2325\n",
      "Epoch 380 - Validation Loss: 2.5013, Validation MSE: 2.4943, Validation MAE: 1.2057\n"
     ]
    },
    {
     "name": "stderr",
     "output_type": "stream",
     "text": [
      "Training Epoch 382: 100%|██████████| 259/259 [00:12<00:00, 21.52it/s]\n",
      "Training Epoch 383: 100%|██████████| 259/259 [00:06<00:00, 38.77it/s]\n",
      "Training Epoch 384: 100%|██████████| 259/259 [00:07<00:00, 36.64it/s]\n",
      "Training Epoch 385: 100%|██████████| 259/259 [00:06<00:00, 39.75it/s]\n",
      "Training Epoch 386: 100%|██████████| 259/259 [00:06<00:00, 39.64it/s]\n",
      "Training Epoch 387: 100%|██████████| 259/259 [00:19<00:00, 12.99it/s]\n",
      "Training Epoch 388: 100%|██████████| 259/259 [00:11<00:00, 23.18it/s]\n",
      "Training Epoch 389: 100%|██████████| 259/259 [00:06<00:00, 39.52it/s]\n",
      "Training Epoch 390: 100%|██████████| 259/259 [00:07<00:00, 36.81it/s]\n",
      "Training Epoch 391: 100%|██████████| 259/259 [00:06<00:00, 37.76it/s]\n"
     ]
    },
    {
     "name": "stdout",
     "output_type": "stream",
     "text": [
      "Epoch 390 - Train Loss: 0.1034, Train MSE: 0.1033, Train MAE: 0.2305\n",
      "Epoch 390 - Validation Loss: 2.3855, Validation MSE: 2.3768, Validation MAE: 1.1835\n"
     ]
    },
    {
     "name": "stderr",
     "output_type": "stream",
     "text": [
      "Training Epoch 392: 100%|██████████| 259/259 [00:06<00:00, 39.41it/s]\n",
      "Training Epoch 393: 100%|██████████| 259/259 [00:19<00:00, 13.50it/s]\n",
      "Training Epoch 394: 100%|██████████| 259/259 [00:11<00:00, 22.61it/s]\n",
      "Training Epoch 395: 100%|██████████| 259/259 [00:06<00:00, 38.47it/s]\n",
      "Training Epoch 396: 100%|██████████| 259/259 [00:06<00:00, 39.48it/s]\n",
      "Training Epoch 397: 100%|██████████| 259/259 [00:06<00:00, 37.29it/s]\n",
      "Training Epoch 398: 100%|██████████| 259/259 [00:06<00:00, 38.23it/s]\n",
      "Training Epoch 399: 100%|██████████| 259/259 [00:21<00:00, 12.26it/s]\n",
      "Training Epoch 400: 100%|██████████| 259/259 [00:11<00:00, 22.66it/s]\n",
      "Training Epoch 401: 100%|██████████| 259/259 [00:18<00:00, 14.36it/s]\n"
     ]
    },
    {
     "name": "stdout",
     "output_type": "stream",
     "text": [
      "Epoch 400 - Train Loss: 0.0935, Train MSE: 0.0935, Train MAE: 0.2217\n",
      "Epoch 400 - Validation Loss: 2.3376, Validation MSE: 2.3308, Validation MAE: 1.1726\n"
     ]
    },
    {
     "name": "stderr",
     "output_type": "stream",
     "text": [
      "Training Epoch 402: 100%|██████████| 259/259 [15:40<00:00,  3.63s/it]   \n",
      "Training Epoch 403: 100%|██████████| 259/259 [00:10<00:00, 23.77it/s]\n",
      "Training Epoch 404: 100%|██████████| 259/259 [00:11<00:00, 23.29it/s]\n",
      "Training Epoch 405: 100%|██████████| 259/259 [00:10<00:00, 24.83it/s]\n",
      "Training Epoch 406: 100%|██████████| 259/259 [00:11<00:00, 22.70it/s]\n",
      "Training Epoch 407: 100%|██████████| 259/259 [00:10<00:00, 24.04it/s]\n",
      "Training Epoch 408: 100%|██████████| 259/259 [00:10<00:00, 24.92it/s]\n",
      "Training Epoch 409: 100%|██████████| 259/259 [00:09<00:00, 25.99it/s]\n",
      "Training Epoch 410: 100%|██████████| 259/259 [00:10<00:00, 24.72it/s]\n",
      "Training Epoch 411: 100%|██████████| 259/259 [00:10<00:00, 24.98it/s]\n"
     ]
    },
    {
     "name": "stdout",
     "output_type": "stream",
     "text": [
      "Epoch 410 - Train Loss: 0.0900, Train MSE: 0.0897, Train MAE: 0.2176\n",
      "Epoch 410 - Validation Loss: 2.3357, Validation MSE: 2.3285, Validation MAE: 1.1687\n"
     ]
    },
    {
     "name": "stderr",
     "output_type": "stream",
     "text": [
      "Training Epoch 412: 100%|██████████| 259/259 [00:10<00:00, 25.48it/s]\n",
      "Training Epoch 413: 100%|██████████| 259/259 [00:10<00:00, 24.38it/s]\n",
      "Training Epoch 414: 100%|██████████| 259/259 [00:10<00:00, 25.65it/s]\n",
      "Training Epoch 415: 100%|██████████| 259/259 [00:10<00:00, 24.30it/s]\n",
      "Training Epoch 416: 100%|██████████| 259/259 [00:10<00:00, 24.10it/s]\n",
      "Training Epoch 417: 100%|██████████| 259/259 [00:10<00:00, 24.55it/s]\n",
      "Training Epoch 418: 100%|██████████| 259/259 [00:10<00:00, 24.78it/s]\n",
      "Training Epoch 419: 100%|██████████| 259/259 [00:10<00:00, 24.78it/s]\n",
      "Training Epoch 420: 100%|██████████| 259/259 [00:10<00:00, 24.98it/s]\n",
      "Training Epoch 421: 100%|██████████| 259/259 [00:10<00:00, 25.14it/s]\n"
     ]
    },
    {
     "name": "stdout",
     "output_type": "stream",
     "text": [
      "Epoch 420 - Train Loss: 0.0941, Train MSE: 0.0940, Train MAE: 0.2224\n",
      "Epoch 420 - Validation Loss: 2.3358, Validation MSE: 2.3287, Validation MAE: 1.1770\n"
     ]
    },
    {
     "name": "stderr",
     "output_type": "stream",
     "text": [
      "Training Epoch 422: 100%|██████████| 259/259 [00:10<00:00, 24.90it/s]\n",
      "Training Epoch 423: 100%|██████████| 259/259 [00:11<00:00, 23.41it/s]\n",
      "Training Epoch 424: 100%|██████████| 259/259 [00:10<00:00, 24.37it/s]\n",
      "Training Epoch 425: 100%|██████████| 259/259 [00:10<00:00, 23.93it/s]\n",
      "Training Epoch 426: 100%|██████████| 259/259 [00:32<00:00,  7.93it/s]\n",
      "Training Epoch 427: 100%|██████████| 259/259 [00:33<00:00,  7.74it/s]\n",
      "Training Epoch 428: 100%|██████████| 259/259 [00:34<00:00,  7.47it/s]\n",
      "Training Epoch 429: 100%|██████████| 259/259 [00:33<00:00,  7.78it/s]\n",
      "Training Epoch 430: 100%|██████████| 259/259 [00:34<00:00,  7.59it/s]\n",
      "Training Epoch 431: 100%|██████████| 259/259 [00:34<00:00,  7.53it/s]\n"
     ]
    },
    {
     "name": "stdout",
     "output_type": "stream",
     "text": [
      "Epoch 430 - Train Loss: 0.0951, Train MSE: 0.0952, Train MAE: 0.2235\n",
      "Epoch 430 - Validation Loss: 2.3544, Validation MSE: 2.3464, Validation MAE: 1.1821\n"
     ]
    },
    {
     "name": "stderr",
     "output_type": "stream",
     "text": [
      "Training Epoch 432: 100%|██████████| 259/259 [00:33<00:00,  7.68it/s]\n",
      "Training Epoch 433: 100%|██████████| 259/259 [00:34<00:00,  7.58it/s]\n",
      "Training Epoch 434: 100%|██████████| 259/259 [00:34<00:00,  7.49it/s]\n",
      "Training Epoch 435: 100%|██████████| 259/259 [00:34<00:00,  7.60it/s]\n",
      "Training Epoch 436: 100%|██████████| 259/259 [00:32<00:00,  7.90it/s]\n",
      "Training Epoch 437: 100%|██████████| 259/259 [16:28<00:00,  3.82s/it]   \n",
      "Training Epoch 438: 100%|██████████| 259/259 [00:10<00:00, 25.54it/s]\n",
      "Training Epoch 439: 100%|██████████| 259/259 [00:10<00:00, 25.65it/s]\n",
      "Training Epoch 440: 100%|██████████| 259/259 [00:10<00:00, 24.20it/s]\n",
      "Training Epoch 441: 100%|██████████| 259/259 [00:10<00:00, 25.02it/s]\n"
     ]
    },
    {
     "name": "stdout",
     "output_type": "stream",
     "text": [
      "Epoch 440 - Train Loss: 0.0904, Train MSE: 0.0904, Train MAE: 0.2173\n",
      "Epoch 440 - Validation Loss: 2.3778, Validation MSE: 2.3705, Validation MAE: 1.1743\n"
     ]
    },
    {
     "name": "stderr",
     "output_type": "stream",
     "text": [
      "Training Epoch 442: 100%|██████████| 259/259 [00:10<00:00, 25.51it/s]\n",
      "Training Epoch 443: 100%|██████████| 259/259 [00:10<00:00, 25.54it/s]\n",
      "Training Epoch 444: 100%|██████████| 259/259 [00:09<00:00, 26.06it/s]\n",
      "Training Epoch 445: 100%|██████████| 259/259 [00:10<00:00, 24.30it/s]\n",
      "Training Epoch 446: 100%|██████████| 259/259 [00:09<00:00, 26.19it/s]\n",
      "Training Epoch 447: 100%|██████████| 259/259 [00:11<00:00, 23.25it/s]\n",
      "Training Epoch 448: 100%|██████████| 259/259 [00:10<00:00, 24.69it/s]\n",
      "Training Epoch 449: 100%|██████████| 259/259 [00:10<00:00, 25.30it/s]\n",
      "Training Epoch 450: 100%|██████████| 259/259 [00:10<00:00, 24.87it/s]\n",
      "Training Epoch 451: 100%|██████████| 259/259 [00:10<00:00, 25.07it/s]\n"
     ]
    },
    {
     "name": "stdout",
     "output_type": "stream",
     "text": [
      "Epoch 450 - Train Loss: 0.0981, Train MSE: 0.0981, Train MAE: 0.2232\n",
      "Epoch 450 - Validation Loss: 2.4119, Validation MSE: 2.4029, Validation MAE: 1.1904\n"
     ]
    },
    {
     "name": "stderr",
     "output_type": "stream",
     "text": [
      "Training Epoch 452: 100%|██████████| 259/259 [00:10<00:00, 25.05it/s]\n",
      "Training Epoch 453: 100%|██████████| 259/259 [00:10<00:00, 23.71it/s]\n",
      "Training Epoch 454: 100%|██████████| 259/259 [00:10<00:00, 24.85it/s]\n",
      "Training Epoch 455: 100%|██████████| 259/259 [00:10<00:00, 25.44it/s]\n",
      "Training Epoch 456: 100%|██████████| 259/259 [00:10<00:00, 24.99it/s]\n",
      "Training Epoch 457: 100%|██████████| 259/259 [00:10<00:00, 25.31it/s]\n",
      "Training Epoch 458: 100%|██████████| 259/259 [00:10<00:00, 24.28it/s]\n",
      "Training Epoch 459: 100%|██████████| 259/259 [00:10<00:00, 24.04it/s]\n",
      "Training Epoch 460: 100%|██████████| 259/259 [00:10<00:00, 24.66it/s]\n",
      "Training Epoch 461: 100%|██████████| 259/259 [00:10<00:00, 24.79it/s]\n"
     ]
    },
    {
     "name": "stdout",
     "output_type": "stream",
     "text": [
      "Epoch 460 - Train Loss: 0.0875, Train MSE: 0.0875, Train MAE: 0.2141\n",
      "Epoch 460 - Validation Loss: 2.3947, Validation MSE: 2.3880, Validation MAE: 1.1907\n"
     ]
    },
    {
     "name": "stderr",
     "output_type": "stream",
     "text": [
      "Training Epoch 462: 100%|██████████| 259/259 [00:10<00:00, 24.88it/s]\n",
      "Training Epoch 463: 100%|██████████| 259/259 [00:10<00:00, 24.19it/s]\n",
      "Training Epoch 464: 100%|██████████| 259/259 [00:10<00:00, 24.06it/s]\n",
      "Training Epoch 465: 100%|██████████| 259/259 [00:10<00:00, 24.26it/s]\n",
      "Training Epoch 466: 100%|██████████| 259/259 [00:10<00:00, 25.04it/s]\n",
      "Training Epoch 467: 100%|██████████| 259/259 [00:10<00:00, 25.34it/s]\n",
      "Training Epoch 468: 100%|██████████| 259/259 [00:10<00:00, 24.66it/s]\n",
      "Training Epoch 469: 100%|██████████| 259/259 [00:10<00:00, 24.66it/s]\n",
      "Training Epoch 470: 100%|██████████| 259/259 [00:10<00:00, 23.90it/s]\n",
      "Training Epoch 471: 100%|██████████| 259/259 [00:10<00:00, 25.15it/s]\n"
     ]
    },
    {
     "name": "stdout",
     "output_type": "stream",
     "text": [
      "Epoch 470 - Train Loss: 0.0980, Train MSE: 0.0981, Train MAE: 0.2225\n",
      "Epoch 470 - Validation Loss: 2.3373, Validation MSE: 2.3289, Validation MAE: 1.1699\n"
     ]
    },
    {
     "name": "stderr",
     "output_type": "stream",
     "text": [
      "Training Epoch 472: 100%|██████████| 259/259 [00:10<00:00, 24.44it/s]\n",
      "Training Epoch 473: 100%|██████████| 259/259 [00:10<00:00, 24.38it/s]\n",
      "Training Epoch 474: 100%|██████████| 259/259 [00:10<00:00, 24.84it/s]\n",
      "Training Epoch 475: 100%|██████████| 259/259 [00:10<00:00, 23.55it/s]\n",
      "Training Epoch 476: 100%|██████████| 259/259 [00:10<00:00, 23.99it/s]\n",
      "Training Epoch 477: 100%|██████████| 259/259 [00:10<00:00, 25.08it/s]\n",
      "Training Epoch 478: 100%|██████████| 259/259 [00:10<00:00, 24.39it/s]\n",
      "Training Epoch 479: 100%|██████████| 259/259 [00:10<00:00, 24.22it/s]\n",
      "Training Epoch 480: 100%|██████████| 259/259 [00:12<00:00, 21.48it/s]\n",
      "Training Epoch 481: 100%|██████████| 259/259 [00:33<00:00,  7.78it/s]\n"
     ]
    },
    {
     "name": "stdout",
     "output_type": "stream",
     "text": [
      "Epoch 480 - Train Loss: 0.0877, Train MSE: 0.0877, Train MAE: 0.2108\n",
      "Epoch 480 - Validation Loss: 2.3844, Validation MSE: 2.3754, Validation MAE: 1.1859\n"
     ]
    },
    {
     "name": "stderr",
     "output_type": "stream",
     "text": [
      "Training Epoch 482: 100%|██████████| 259/259 [00:34<00:00,  7.40it/s]\n",
      "Training Epoch 483: 100%|██████████| 259/259 [00:24<00:00, 10.41it/s]\n",
      "Training Epoch 484: 100%|██████████| 259/259 [00:10<00:00, 24.40it/s]\n",
      "Training Epoch 485: 100%|██████████| 259/259 [00:11<00:00, 22.81it/s]\n",
      "Training Epoch 486: 100%|██████████| 259/259 [00:11<00:00, 23.04it/s]\n",
      "Training Epoch 487: 100%|██████████| 259/259 [00:07<00:00, 36.52it/s]\n",
      "Training Epoch 488: 100%|██████████| 259/259 [00:06<00:00, 37.99it/s]\n",
      "Training Epoch 489: 100%|██████████| 259/259 [00:06<00:00, 39.77it/s]\n",
      "Training Epoch 490: 100%|██████████| 259/259 [00:06<00:00, 37.74it/s]\n",
      "Training Epoch 491: 100%|██████████| 259/259 [00:06<00:00, 38.01it/s]\n"
     ]
    },
    {
     "name": "stdout",
     "output_type": "stream",
     "text": [
      "Epoch 490 - Train Loss: 0.0845, Train MSE: 0.0846, Train MAE: 0.2066\n",
      "Epoch 490 - Validation Loss: 2.3403, Validation MSE: 2.3333, Validation MAE: 1.1786\n"
     ]
    },
    {
     "name": "stderr",
     "output_type": "stream",
     "text": [
      "Training Epoch 492: 100%|██████████| 259/259 [00:06<00:00, 37.60it/s]\n",
      "Training Epoch 493: 100%|██████████| 259/259 [00:07<00:00, 35.52it/s]\n",
      "Training Epoch 494: 100%|██████████| 259/259 [00:06<00:00, 38.87it/s]\n",
      "Training Epoch 495: 100%|██████████| 259/259 [00:06<00:00, 38.10it/s]\n",
      "Training Epoch 496: 100%|██████████| 259/259 [00:06<00:00, 39.00it/s]\n",
      "Training Epoch 497: 100%|██████████| 259/259 [00:07<00:00, 36.99it/s]\n",
      "Training Epoch 498: 100%|██████████| 259/259 [00:06<00:00, 39.69it/s]\n",
      "Training Epoch 499: 100%|██████████| 259/259 [00:06<00:00, 38.33it/s]\n",
      "Training Epoch 500: 100%|██████████| 259/259 [00:06<00:00, 39.27it/s]\n",
      "Training Epoch 501: 100%|██████████| 259/259 [00:06<00:00, 37.93it/s]\n"
     ]
    },
    {
     "name": "stdout",
     "output_type": "stream",
     "text": [
      "Epoch 500 - Train Loss: 0.0811, Train MSE: 0.0812, Train MAE: 0.2057\n",
      "Epoch 500 - Validation Loss: 2.2779, Validation MSE: 2.2701, Validation MAE: 1.1510\n"
     ]
    },
    {
     "name": "stderr",
     "output_type": "stream",
     "text": [
      "Training Epoch 502: 100%|██████████| 259/259 [00:06<00:00, 37.96it/s]\n",
      "Training Epoch 503: 100%|██████████| 259/259 [00:06<00:00, 37.25it/s]\n",
      "Training Epoch 504: 100%|██████████| 259/259 [00:06<00:00, 38.25it/s]\n",
      "Training Epoch 505: 100%|██████████| 259/259 [00:06<00:00, 38.69it/s]\n",
      "Training Epoch 506: 100%|██████████| 259/259 [00:06<00:00, 37.59it/s]\n",
      "Training Epoch 507: 100%|██████████| 259/259 [00:06<00:00, 39.04it/s]\n",
      "Training Epoch 508: 100%|██████████| 259/259 [00:06<00:00, 38.70it/s]\n",
      "Training Epoch 509: 100%|██████████| 259/259 [00:06<00:00, 38.80it/s]\n",
      "Training Epoch 510: 100%|██████████| 259/259 [00:07<00:00, 36.94it/s]\n",
      "Training Epoch 511: 100%|██████████| 259/259 [00:06<00:00, 38.39it/s]\n"
     ]
    },
    {
     "name": "stdout",
     "output_type": "stream",
     "text": [
      "Epoch 510 - Train Loss: 0.0852, Train MSE: 0.0852, Train MAE: 0.2073\n",
      "Epoch 510 - Validation Loss: 2.3186, Validation MSE: 2.3095, Validation MAE: 1.1735\n"
     ]
    },
    {
     "name": "stderr",
     "output_type": "stream",
     "text": [
      "Training Epoch 512: 100%|██████████| 259/259 [00:06<00:00, 38.31it/s]\n",
      "Training Epoch 513: 100%|██████████| 259/259 [00:06<00:00, 39.22it/s]\n",
      "Training Epoch 514: 100%|██████████| 259/259 [00:06<00:00, 38.95it/s]\n",
      "Training Epoch 515: 100%|██████████| 259/259 [00:06<00:00, 38.78it/s]\n",
      "Training Epoch 516: 100%|██████████| 259/259 [00:06<00:00, 37.95it/s]\n",
      "Training Epoch 517: 100%|██████████| 259/259 [00:06<00:00, 39.84it/s]\n",
      "Training Epoch 518: 100%|██████████| 259/259 [00:07<00:00, 36.70it/s]\n",
      "Training Epoch 519: 100%|██████████| 259/259 [00:06<00:00, 38.04it/s]\n",
      "Training Epoch 520: 100%|██████████| 259/259 [00:06<00:00, 38.95it/s]\n",
      "Training Epoch 521: 100%|██████████| 259/259 [00:06<00:00, 38.43it/s]\n"
     ]
    },
    {
     "name": "stdout",
     "output_type": "stream",
     "text": [
      "Epoch 520 - Train Loss: 0.0809, Train MSE: 0.0809, Train MAE: 0.2020\n",
      "Epoch 520 - Validation Loss: 2.3370, Validation MSE: 2.3306, Validation MAE: 1.1729\n"
     ]
    },
    {
     "name": "stderr",
     "output_type": "stream",
     "text": [
      "Training Epoch 522: 100%|██████████| 259/259 [00:06<00:00, 37.58it/s]\n",
      "Training Epoch 523: 100%|██████████| 259/259 [00:06<00:00, 37.42it/s]\n",
      "Training Epoch 524: 100%|██████████| 259/259 [00:06<00:00, 39.20it/s]\n",
      "Training Epoch 525: 100%|██████████| 259/259 [00:06<00:00, 37.54it/s]\n",
      "Training Epoch 526: 100%|██████████| 259/259 [00:06<00:00, 38.58it/s]\n",
      "Training Epoch 527: 100%|██████████| 259/259 [00:07<00:00, 36.65it/s]\n",
      "Training Epoch 528: 100%|██████████| 259/259 [00:06<00:00, 37.61it/s]\n",
      "Training Epoch 529: 100%|██████████| 259/259 [00:06<00:00, 38.36it/s]\n",
      "Training Epoch 530: 100%|██████████| 259/259 [00:06<00:00, 38.30it/s]\n",
      "Training Epoch 531: 100%|██████████| 259/259 [00:06<00:00, 38.68it/s]\n"
     ]
    },
    {
     "name": "stdout",
     "output_type": "stream",
     "text": [
      "Epoch 530 - Train Loss: 0.0791, Train MSE: 0.0792, Train MAE: 0.2003\n",
      "Epoch 530 - Validation Loss: 2.3407, Validation MSE: 2.3324, Validation MAE: 1.1778\n"
     ]
    },
    {
     "name": "stderr",
     "output_type": "stream",
     "text": [
      "Training Epoch 532: 100%|██████████| 259/259 [00:06<00:00, 38.60it/s]\n",
      "Training Epoch 533: 100%|██████████| 259/259 [00:06<00:00, 39.40it/s]\n",
      "Training Epoch 534: 100%|██████████| 259/259 [00:06<00:00, 38.74it/s]\n",
      "Training Epoch 535: 100%|██████████| 259/259 [00:06<00:00, 38.92it/s]\n",
      "Training Epoch 536: 100%|██████████| 259/259 [00:06<00:00, 38.54it/s]\n",
      "Training Epoch 537: 100%|██████████| 259/259 [00:06<00:00, 39.36it/s]\n",
      "Training Epoch 538: 100%|██████████| 259/259 [00:06<00:00, 38.39it/s]\n",
      "Training Epoch 539: 100%|██████████| 259/259 [00:06<00:00, 39.95it/s]\n",
      "Training Epoch 540: 100%|██████████| 259/259 [00:06<00:00, 38.80it/s]\n",
      "Training Epoch 541: 100%|██████████| 259/259 [00:06<00:00, 39.00it/s]\n"
     ]
    },
    {
     "name": "stdout",
     "output_type": "stream",
     "text": [
      "Epoch 540 - Train Loss: 0.0783, Train MSE: 0.0783, Train MAE: 0.1981\n",
      "Epoch 540 - Validation Loss: 2.2907, Validation MSE: 2.2824, Validation MAE: 1.1614\n"
     ]
    },
    {
     "name": "stderr",
     "output_type": "stream",
     "text": [
      "Training Epoch 542: 100%|██████████| 259/259 [00:06<00:00, 38.90it/s]\n",
      "Training Epoch 543: 100%|██████████| 259/259 [00:06<00:00, 37.89it/s]\n",
      "Training Epoch 544: 100%|██████████| 259/259 [00:06<00:00, 37.60it/s]\n",
      "Training Epoch 545: 100%|██████████| 259/259 [00:06<00:00, 39.05it/s]\n",
      "Training Epoch 546: 100%|██████████| 259/259 [00:06<00:00, 37.47it/s]\n",
      "Training Epoch 547: 100%|██████████| 259/259 [00:06<00:00, 38.80it/s]\n",
      "Training Epoch 548: 100%|██████████| 259/259 [00:06<00:00, 38.36it/s]\n",
      "Training Epoch 549: 100%|██████████| 259/259 [00:06<00:00, 38.47it/s]\n",
      "Training Epoch 550: 100%|██████████| 259/259 [00:06<00:00, 37.29it/s]\n",
      "Training Epoch 551: 100%|██████████| 259/259 [00:06<00:00, 39.96it/s]\n"
     ]
    },
    {
     "name": "stdout",
     "output_type": "stream",
     "text": [
      "Epoch 550 - Train Loss: 0.0739, Train MSE: 0.0739, Train MAE: 0.1945\n",
      "Epoch 550 - Validation Loss: 2.3137, Validation MSE: 2.3057, Validation MAE: 1.1670\n"
     ]
    },
    {
     "name": "stderr",
     "output_type": "stream",
     "text": [
      "Training Epoch 552: 100%|██████████| 259/259 [00:06<00:00, 39.83it/s]\n",
      "Training Epoch 553: 100%|██████████| 259/259 [00:07<00:00, 35.88it/s]\n",
      "Training Epoch 554: 100%|██████████| 259/259 [00:06<00:00, 39.09it/s]\n",
      "Training Epoch 555: 100%|██████████| 259/259 [00:06<00:00, 38.35it/s]\n",
      "Training Epoch 556: 100%|██████████| 259/259 [00:06<00:00, 39.81it/s]\n",
      "Training Epoch 557: 100%|██████████| 259/259 [00:06<00:00, 38.65it/s]\n",
      "Training Epoch 558: 100%|██████████| 259/259 [00:06<00:00, 39.48it/s]\n",
      "Training Epoch 559: 100%|██████████| 259/259 [00:06<00:00, 39.35it/s]\n",
      "Training Epoch 560: 100%|██████████| 259/259 [00:06<00:00, 39.50it/s]\n",
      "Training Epoch 561: 100%|██████████| 259/259 [00:07<00:00, 36.99it/s]\n"
     ]
    },
    {
     "name": "stdout",
     "output_type": "stream",
     "text": [
      "Epoch 560 - Train Loss: 0.0818, Train MSE: 0.0818, Train MAE: 0.2022\n",
      "Epoch 560 - Validation Loss: 2.3599, Validation MSE: 2.3520, Validation MAE: 1.1816\n"
     ]
    },
    {
     "name": "stderr",
     "output_type": "stream",
     "text": [
      "Training Epoch 562: 100%|██████████| 259/259 [00:07<00:00, 36.59it/s]\n",
      "Training Epoch 563: 100%|██████████| 259/259 [00:06<00:00, 38.48it/s]\n",
      "Training Epoch 564: 100%|██████████| 259/259 [00:06<00:00, 37.76it/s]\n",
      "Training Epoch 565: 100%|██████████| 259/259 [00:06<00:00, 38.24it/s]\n",
      "Training Epoch 566: 100%|██████████| 259/259 [15:47<00:00,  3.66s/it]  \n",
      "Training Epoch 567: 100%|██████████| 259/259 [00:11<00:00, 23.50it/s]\n",
      "Training Epoch 568: 100%|██████████| 259/259 [00:10<00:00, 25.66it/s]\n",
      "Training Epoch 569: 100%|██████████| 259/259 [00:10<00:00, 25.42it/s]\n",
      "Training Epoch 570: 100%|██████████| 259/259 [00:10<00:00, 24.59it/s]\n",
      "Training Epoch 571: 100%|██████████| 259/259 [16:25<00:00,  3.81s/it] \n"
     ]
    },
    {
     "name": "stdout",
     "output_type": "stream",
     "text": [
      "Epoch 570 - Train Loss: 0.0739, Train MSE: 0.0739, Train MAE: 0.1962\n",
      "Epoch 570 - Validation Loss: 2.3084, Validation MSE: 2.3003, Validation MAE: 1.1726\n"
     ]
    },
    {
     "name": "stderr",
     "output_type": "stream",
     "text": [
      "Training Epoch 572: 100%|██████████| 259/259 [00:09<00:00, 27.15it/s]\n",
      "Training Epoch 573: 100%|██████████| 259/259 [00:09<00:00, 26.50it/s]\n",
      "Training Epoch 574: 100%|██████████| 259/259 [00:09<00:00, 26.59it/s]\n",
      "Training Epoch 575: 100%|██████████| 259/259 [15:38<00:00,  3.63s/it]\n",
      "Training Epoch 576: 100%|██████████| 259/259 [00:09<00:00, 27.38it/s]\n",
      "Training Epoch 577: 100%|██████████| 259/259 [00:09<00:00, 26.91it/s]\n",
      "Training Epoch 578: 100%|██████████| 259/259 [00:09<00:00, 27.32it/s]\n",
      "Training Epoch 579: 100%|██████████| 259/259 [00:09<00:00, 27.59it/s]\n",
      "Training Epoch 580: 100%|██████████| 259/259 [01:52<00:00,  2.30it/s]\n",
      "Training Epoch 581: 100%|██████████| 259/259 [00:09<00:00, 27.32it/s]\n"
     ]
    },
    {
     "name": "stdout",
     "output_type": "stream",
     "text": [
      "Epoch 580 - Train Loss: 0.0780, Train MSE: 0.0778, Train MAE: 0.1995\n",
      "Epoch 580 - Validation Loss: 2.2948, Validation MSE: 2.2874, Validation MAE: 1.1751\n"
     ]
    },
    {
     "name": "stderr",
     "output_type": "stream",
     "text": [
      "Training Epoch 582: 100%|██████████| 259/259 [00:09<00:00, 26.55it/s]\n",
      "Training Epoch 583: 100%|██████████| 259/259 [00:09<00:00, 27.58it/s]\n",
      "Training Epoch 584: 100%|██████████| 259/259 [00:09<00:00, 26.77it/s]\n",
      "Training Epoch 585: 100%|██████████| 259/259 [16:02<00:00,  3.72s/it] \n",
      "Training Epoch 586: 100%|██████████| 259/259 [00:09<00:00, 26.86it/s]\n",
      "Training Epoch 587: 100%|██████████| 259/259 [00:09<00:00, 26.67it/s]\n",
      "Training Epoch 588: 100%|██████████| 259/259 [00:09<00:00, 26.94it/s]\n",
      "Training Epoch 589: 100%|██████████| 259/259 [00:09<00:00, 26.79it/s]\n",
      "Training Epoch 590: 100%|██████████| 259/259 [00:09<00:00, 26.70it/s]\n",
      "Training Epoch 591: 100%|██████████| 259/259 [00:09<00:00, 27.62it/s]\n"
     ]
    },
    {
     "name": "stdout",
     "output_type": "stream",
     "text": [
      "Epoch 590 - Train Loss: 0.0780, Train MSE: 0.0780, Train MAE: 0.1977\n",
      "Epoch 590 - Validation Loss: 2.3222, Validation MSE: 2.3134, Validation MAE: 1.1794\n"
     ]
    },
    {
     "name": "stderr",
     "output_type": "stream",
     "text": [
      "Training Epoch 592: 100%|██████████| 259/259 [00:09<00:00, 27.34it/s]\n",
      "Training Epoch 593: 100%|██████████| 259/259 [00:09<00:00, 26.16it/s]\n",
      "Training Epoch 594: 100%|██████████| 259/259 [15:33<00:00,  3.60s/it]  \n",
      "Training Epoch 595: 100%|██████████| 259/259 [00:11<00:00, 23.49it/s]\n",
      "Training Epoch 596: 100%|██████████| 259/259 [00:09<00:00, 28.12it/s]\n",
      "Training Epoch 597: 100%|██████████| 259/259 [00:09<00:00, 26.26it/s]\n",
      "Training Epoch 598: 100%|██████████| 259/259 [00:09<00:00, 26.54it/s]\n",
      "Training Epoch 599: 100%|██████████| 259/259 [00:09<00:00, 26.59it/s]\n",
      "Training Epoch 600: 100%|██████████| 259/259 [00:09<00:00, 27.50it/s]\n",
      "Training Epoch 601: 100%|██████████| 259/259 [15:41<00:00,  3.64s/it] \n"
     ]
    },
    {
     "name": "stdout",
     "output_type": "stream",
     "text": [
      "Epoch 600 - Train Loss: 0.0718, Train MSE: 0.0718, Train MAE: 0.1910\n",
      "Epoch 600 - Validation Loss: 2.3222, Validation MSE: 2.3120, Validation MAE: 1.1700\n"
     ]
    },
    {
     "name": "stderr",
     "output_type": "stream",
     "text": [
      "Training Epoch 602: 100%|██████████| 259/259 [00:09<00:00, 27.60it/s]\n",
      "Training Epoch 603: 100%|██████████| 259/259 [00:09<00:00, 26.26it/s]\n",
      "Training Epoch 604: 100%|██████████| 259/259 [00:10<00:00, 25.77it/s]\n",
      "Training Epoch 605: 100%|██████████| 259/259 [00:09<00:00, 27.03it/s]\n",
      "Training Epoch 606: 100%|██████████| 259/259 [00:09<00:00, 26.92it/s]\n",
      "Training Epoch 607: 100%|██████████| 259/259 [00:09<00:00, 27.05it/s]\n",
      "Training Epoch 608: 100%|██████████| 259/259 [00:09<00:00, 26.85it/s]\n",
      "Training Epoch 609: 100%|██████████| 259/259 [00:09<00:00, 26.96it/s]\n",
      "Training Epoch 610: 100%|██████████| 259/259 [00:09<00:00, 27.01it/s]\n",
      "Training Epoch 611: 100%|██████████| 259/259 [00:09<00:00, 26.43it/s]\n"
     ]
    },
    {
     "name": "stdout",
     "output_type": "stream",
     "text": [
      "Epoch 610 - Train Loss: 0.0703, Train MSE: 0.0703, Train MAE: 0.1885\n",
      "Epoch 610 - Validation Loss: 2.3108, Validation MSE: 2.3027, Validation MAE: 1.1669\n"
     ]
    },
    {
     "name": "stderr",
     "output_type": "stream",
     "text": [
      "Training Epoch 612: 100%|██████████| 259/259 [00:09<00:00, 25.99it/s]\n",
      "Training Epoch 613: 100%|██████████| 259/259 [00:09<00:00, 26.98it/s]\n",
      "Training Epoch 614: 100%|██████████| 259/259 [00:10<00:00, 25.38it/s]\n",
      "Training Epoch 615: 100%|██████████| 259/259 [00:09<00:00, 26.62it/s]\n",
      "Training Epoch 616: 100%|██████████| 259/259 [00:09<00:00, 26.34it/s]\n",
      "Training Epoch 617: 100%|██████████| 259/259 [00:10<00:00, 25.59it/s]\n",
      "Training Epoch 618: 100%|██████████| 259/259 [00:10<00:00, 25.88it/s]\n",
      "Training Epoch 619: 100%|██████████| 259/259 [00:09<00:00, 26.49it/s]\n",
      "Training Epoch 620: 100%|██████████| 259/259 [00:09<00:00, 26.03it/s]\n",
      "Training Epoch 621: 100%|██████████| 259/259 [00:09<00:00, 26.83it/s]\n"
     ]
    },
    {
     "name": "stdout",
     "output_type": "stream",
     "text": [
      "Epoch 620 - Train Loss: 0.0772, Train MSE: 0.0773, Train MAE: 0.1960\n",
      "Epoch 620 - Validation Loss: 2.3743, Validation MSE: 2.3638, Validation MAE: 1.1786\n"
     ]
    },
    {
     "name": "stderr",
     "output_type": "stream",
     "text": [
      "Training Epoch 622: 100%|██████████| 259/259 [00:09<00:00, 25.92it/s]\n",
      "Training Epoch 623: 100%|██████████| 259/259 [16:40<00:00,  3.86s/it]  \n",
      "Training Epoch 624: 100%|██████████| 259/259 [00:09<00:00, 27.71it/s]\n",
      "Training Epoch 625: 100%|██████████| 259/259 [00:09<00:00, 26.30it/s]\n",
      "Training Epoch 626: 100%|██████████| 259/259 [00:09<00:00, 26.81it/s]\n",
      "Training Epoch 627: 100%|██████████| 259/259 [00:09<00:00, 26.84it/s]\n",
      "Training Epoch 628: 100%|██████████| 259/259 [16:42<00:00,  3.87s/it]  \n",
      "Training Epoch 629: 100%|██████████| 259/259 [00:09<00:00, 26.40it/s]\n",
      "Training Epoch 630: 100%|██████████| 259/259 [00:09<00:00, 26.53it/s]\n",
      "Training Epoch 631: 100%|██████████| 259/259 [00:09<00:00, 26.72it/s]\n"
     ]
    },
    {
     "name": "stdout",
     "output_type": "stream",
     "text": [
      "Epoch 630 - Train Loss: 0.0721, Train MSE: 0.0720, Train MAE: 0.1922\n",
      "Epoch 630 - Validation Loss: 2.3275, Validation MSE: 2.3195, Validation MAE: 1.1739\n"
     ]
    },
    {
     "name": "stderr",
     "output_type": "stream",
     "text": [
      "Training Epoch 632: 100%|██████████| 259/259 [00:09<00:00, 26.87it/s]\n",
      "Training Epoch 633: 100%|██████████| 259/259 [00:09<00:00, 27.52it/s]\n",
      "Training Epoch 634: 100%|██████████| 259/259 [15:46<00:00,  3.65s/it]  \n",
      "Training Epoch 635: 100%|██████████| 259/259 [00:11<00:00, 23.43it/s]\n",
      "Training Epoch 636: 100%|██████████| 259/259 [00:10<00:00, 25.26it/s]\n",
      "Training Epoch 637: 100%|██████████| 259/259 [00:09<00:00, 26.39it/s]\n",
      "Training Epoch 638: 100%|██████████| 259/259 [00:09<00:00, 27.78it/s]\n",
      "Training Epoch 639: 100%|██████████| 259/259 [15:20<00:00,  3.55s/it] \n",
      "Training Epoch 640: 100%|██████████| 259/259 [00:10<00:00, 24.99it/s]\n",
      "Training Epoch 641: 100%|██████████| 259/259 [00:09<00:00, 27.42it/s]\n"
     ]
    },
    {
     "name": "stdout",
     "output_type": "stream",
     "text": [
      "Epoch 640 - Train Loss: 0.0699, Train MSE: 0.0698, Train MAE: 0.1880\n",
      "Epoch 640 - Validation Loss: 2.3642, Validation MSE: 2.3556, Validation MAE: 1.1812\n"
     ]
    },
    {
     "name": "stderr",
     "output_type": "stream",
     "text": [
      "Training Epoch 642: 100%|██████████| 259/259 [00:09<00:00, 27.06it/s]\n",
      "Training Epoch 643: 100%|██████████| 259/259 [16:37<00:00,  3.85s/it]\n",
      "Training Epoch 644: 100%|██████████| 259/259 [00:09<00:00, 28.15it/s]\n",
      "Training Epoch 645: 100%|██████████| 259/259 [00:10<00:00, 25.64it/s]\n",
      "Training Epoch 646: 100%|██████████| 259/259 [00:11<00:00, 23.44it/s]\n",
      "Training Epoch 647: 100%|██████████| 259/259 [00:09<00:00, 26.30it/s]\n",
      "Training Epoch 648: 100%|██████████| 259/259 [16:20<00:00,  3.79s/it]  \n",
      "Training Epoch 649: 100%|██████████| 259/259 [00:10<00:00, 25.17it/s]\n",
      "Training Epoch 650: 100%|██████████| 259/259 [00:10<00:00, 25.68it/s]\n",
      "Training Epoch 651: 100%|██████████| 259/259 [00:09<00:00, 25.92it/s]\n"
     ]
    },
    {
     "name": "stdout",
     "output_type": "stream",
     "text": [
      "Epoch 650 - Train Loss: 0.0747, Train MSE: 0.0747, Train MAE: 0.1920\n",
      "Epoch 650 - Validation Loss: 2.3166, Validation MSE: 2.3089, Validation MAE: 1.1765\n"
     ]
    },
    {
     "name": "stderr",
     "output_type": "stream",
     "text": [
      "Training Epoch 652: 100%|██████████| 259/259 [00:09<00:00, 26.65it/s]\n",
      "Training Epoch 653: 100%|██████████| 259/259 [00:09<00:00, 26.43it/s]\n",
      "Training Epoch 654: 100%|██████████| 259/259 [00:09<00:00, 26.64it/s]\n",
      "Training Epoch 655: 100%|██████████| 259/259 [00:09<00:00, 27.55it/s]\n",
      "Training Epoch 656: 100%|██████████| 259/259 [00:09<00:00, 26.97it/s]\n",
      "Training Epoch 657: 100%|██████████| 259/259 [00:09<00:00, 26.44it/s]\n",
      "Training Epoch 658: 100%|██████████| 259/259 [00:09<00:00, 26.78it/s]\n",
      "Training Epoch 659: 100%|██████████| 259/259 [00:09<00:00, 26.50it/s]\n",
      "Training Epoch 660: 100%|██████████| 259/259 [00:09<00:00, 27.06it/s]\n",
      "Training Epoch 661: 100%|██████████| 259/259 [00:09<00:00, 27.16it/s]\n"
     ]
    },
    {
     "name": "stdout",
     "output_type": "stream",
     "text": [
      "Epoch 660 - Train Loss: 0.0692, Train MSE: 0.0692, Train MAE: 0.1838\n",
      "Epoch 660 - Validation Loss: 2.3635, Validation MSE: 2.3561, Validation MAE: 1.1803\n"
     ]
    },
    {
     "name": "stderr",
     "output_type": "stream",
     "text": [
      "Training Epoch 662: 100%|██████████| 259/259 [00:09<00:00, 26.75it/s]\n",
      "Training Epoch 663: 100%|██████████| 259/259 [00:09<00:00, 26.22it/s]\n",
      "Training Epoch 664: 100%|██████████| 259/259 [00:09<00:00, 26.67it/s]\n",
      "Training Epoch 665: 100%|██████████| 259/259 [00:09<00:00, 26.03it/s]\n",
      "Training Epoch 666: 100%|██████████| 259/259 [00:09<00:00, 26.56it/s]\n",
      "Training Epoch 667: 100%|██████████| 259/259 [00:09<00:00, 26.02it/s]\n",
      "Training Epoch 668: 100%|██████████| 259/259 [00:09<00:00, 26.66it/s]\n",
      "Training Epoch 669: 100%|██████████| 259/259 [00:09<00:00, 26.00it/s]\n",
      "Training Epoch 670: 100%|██████████| 259/259 [00:09<00:00, 26.58it/s]\n",
      "Training Epoch 671: 100%|██████████| 259/259 [00:09<00:00, 26.57it/s]\n"
     ]
    },
    {
     "name": "stdout",
     "output_type": "stream",
     "text": [
      "Epoch 670 - Train Loss: 0.0714, Train MSE: 0.0715, Train MAE: 0.1911\n",
      "Epoch 670 - Validation Loss: 2.3645, Validation MSE: 2.3554, Validation MAE: 1.1819\n"
     ]
    },
    {
     "name": "stderr",
     "output_type": "stream",
     "text": [
      "Training Epoch 672: 100%|██████████| 259/259 [00:09<00:00, 26.30it/s]\n",
      "Training Epoch 673: 100%|██████████| 259/259 [00:09<00:00, 26.37it/s]\n",
      "Training Epoch 674: 100%|██████████| 259/259 [00:09<00:00, 26.40it/s]\n",
      "Training Epoch 675: 100%|██████████| 259/259 [00:10<00:00, 25.56it/s]\n",
      "Training Epoch 676: 100%|██████████| 259/259 [00:09<00:00, 26.09it/s]\n",
      "Training Epoch 677: 100%|██████████| 259/259 [00:09<00:00, 25.99it/s]\n",
      "Training Epoch 678: 100%|██████████| 259/259 [00:09<00:00, 25.91it/s]\n",
      "Training Epoch 679: 100%|██████████| 259/259 [16:40<00:00,  3.86s/it]  \n",
      "Training Epoch 680: 100%|██████████| 259/259 [00:09<00:00, 26.92it/s]\n",
      "Training Epoch 681: 100%|██████████| 259/259 [00:10<00:00, 23.83it/s]\n"
     ]
    },
    {
     "name": "stdout",
     "output_type": "stream",
     "text": [
      "Epoch 680 - Train Loss: 0.0641, Train MSE: 0.0641, Train MAE: 0.1791\n",
      "Epoch 680 - Validation Loss: 2.3849, Validation MSE: 2.3760, Validation MAE: 1.1819\n"
     ]
    },
    {
     "name": "stderr",
     "output_type": "stream",
     "text": [
      "Training Epoch 682: 100%|██████████| 259/259 [00:09<00:00, 27.27it/s]\n",
      "Training Epoch 683: 100%|██████████| 259/259 [00:09<00:00, 27.60it/s]\n",
      "Training Epoch 684: 100%|██████████| 259/259 [00:09<00:00, 26.43it/s]\n",
      "Training Epoch 685: 100%|██████████| 259/259 [00:09<00:00, 26.46it/s]\n",
      "Training Epoch 686: 100%|██████████| 259/259 [00:10<00:00, 25.20it/s]\n",
      "Training Epoch 687: 100%|██████████| 259/259 [00:09<00:00, 27.06it/s]\n",
      "Training Epoch 688: 100%|██████████| 259/259 [15:14<00:00,  3.53s/it]  \n",
      "Training Epoch 689: 100%|██████████| 259/259 [00:09<00:00, 26.45it/s]\n",
      "Training Epoch 690: 100%|██████████| 259/259 [00:09<00:00, 26.81it/s]\n",
      "Training Epoch 691: 100%|██████████| 259/259 [00:09<00:00, 27.34it/s]\n"
     ]
    },
    {
     "name": "stdout",
     "output_type": "stream",
     "text": [
      "Epoch 690 - Train Loss: 0.0662, Train MSE: 0.0661, Train MAE: 0.1808\n",
      "Epoch 690 - Validation Loss: 2.3456, Validation MSE: 2.3365, Validation MAE: 1.1727\n"
     ]
    },
    {
     "name": "stderr",
     "output_type": "stream",
     "text": [
      "Training Epoch 692: 100%|██████████| 259/259 [00:09<00:00, 26.77it/s]\n",
      "Training Epoch 693: 100%|██████████| 259/259 [15:50<00:00,  3.67s/it] \n",
      "Training Epoch 694: 100%|██████████| 259/259 [00:10<00:00, 25.77it/s]\n",
      "Training Epoch 695: 100%|██████████| 259/259 [00:09<00:00, 26.12it/s]\n",
      "Training Epoch 696: 100%|██████████| 259/259 [00:09<00:00, 26.40it/s]\n",
      "Training Epoch 697: 100%|██████████| 259/259 [04:39<00:00,  1.08s/it]\n",
      "Training Epoch 698: 100%|██████████| 259/259 [00:09<00:00, 28.01it/s]\n",
      "Training Epoch 699: 100%|██████████| 259/259 [00:09<00:00, 26.54it/s]\n",
      "Training Epoch 700: 100%|██████████| 259/259 [00:09<00:00, 26.65it/s]\n",
      "Training Epoch 701: 100%|██████████| 259/259 [00:09<00:00, 27.18it/s]\n"
     ]
    },
    {
     "name": "stdout",
     "output_type": "stream",
     "text": [
      "Epoch 700 - Train Loss: 0.0743, Train MSE: 0.0743, Train MAE: 0.1914\n",
      "Epoch 700 - Validation Loss: 2.3169, Validation MSE: 2.3086, Validation MAE: 1.1650\n"
     ]
    },
    {
     "name": "stderr",
     "output_type": "stream",
     "text": [
      "Training Epoch 702: 100%|██████████| 259/259 [00:52<00:00,  4.91it/s]\n",
      "Training Epoch 703: 100%|██████████| 259/259 [00:09<00:00, 26.77it/s]\n",
      "Training Epoch 704: 100%|██████████| 259/259 [00:09<00:00, 27.26it/s]\n",
      "Training Epoch 705: 100%|██████████| 259/259 [00:10<00:00, 25.35it/s]\n",
      "Training Epoch 706: 100%|██████████| 259/259 [00:09<00:00, 27.58it/s]\n",
      "Training Epoch 707: 100%|██████████| 259/259 [15:49<00:00,  3.67s/it] \n",
      "Training Epoch 708: 100%|██████████| 259/259 [00:09<00:00, 26.51it/s]\n",
      "Training Epoch 709: 100%|██████████| 259/259 [00:10<00:00, 25.77it/s]\n",
      "Training Epoch 710: 100%|██████████| 259/259 [00:10<00:00, 25.69it/s]\n",
      "Training Epoch 711: 100%|██████████| 259/259 [15:44<00:00,  3.65s/it]  \n"
     ]
    },
    {
     "name": "stdout",
     "output_type": "stream",
     "text": [
      "Epoch 710 - Train Loss: 0.0668, Train MSE: 0.0668, Train MAE: 0.1833\n",
      "Epoch 710 - Validation Loss: 2.3352, Validation MSE: 2.3263, Validation MAE: 1.1677\n"
     ]
    },
    {
     "name": "stderr",
     "output_type": "stream",
     "text": [
      "Training Epoch 712: 100%|██████████| 259/259 [00:09<00:00, 27.77it/s]\n",
      "Training Epoch 713: 100%|██████████| 259/259 [00:09<00:00, 26.41it/s]\n",
      "Training Epoch 714: 100%|██████████| 259/259 [00:09<00:00, 27.18it/s]\n",
      "Training Epoch 715: 100%|██████████| 259/259 [00:09<00:00, 27.39it/s]\n",
      "Training Epoch 716: 100%|██████████| 259/259 [15:50<00:00,  3.67s/it]  \n",
      "Training Epoch 717: 100%|██████████| 259/259 [00:09<00:00, 27.57it/s]\n",
      "Training Epoch 718: 100%|██████████| 259/259 [00:10<00:00, 24.30it/s]\n",
      "Training Epoch 719: 100%|██████████| 259/259 [00:10<00:00, 24.80it/s]\n",
      "Training Epoch 720: 100%|██████████| 259/259 [00:09<00:00, 26.49it/s]\n",
      "Training Epoch 721: 100%|██████████| 259/259 [00:09<00:00, 25.91it/s]\n"
     ]
    },
    {
     "name": "stdout",
     "output_type": "stream",
     "text": [
      "Epoch 720 - Train Loss: 0.0680, Train MSE: 0.0681, Train MAE: 0.1844\n",
      "Epoch 720 - Validation Loss: 2.4073, Validation MSE: 2.3984, Validation MAE: 1.1916\n"
     ]
    },
    {
     "name": "stderr",
     "output_type": "stream",
     "text": [
      "Training Epoch 722: 100%|██████████| 259/259 [00:10<00:00, 25.32it/s]\n",
      "Training Epoch 723: 100%|██████████| 259/259 [00:10<00:00, 25.67it/s]\n",
      "Training Epoch 724: 100%|██████████| 259/259 [15:57<00:00,  3.70s/it] \n",
      "Training Epoch 725: 100%|██████████| 259/259 [00:09<00:00, 26.97it/s]\n",
      "Training Epoch 726: 100%|██████████| 259/259 [00:09<00:00, 27.13it/s]\n",
      "Training Epoch 727: 100%|██████████| 259/259 [00:09<00:00, 26.92it/s]\n",
      "Training Epoch 728: 100%|██████████| 259/259 [16:23<00:00,  3.80s/it]  \n",
      "Training Epoch 729: 100%|██████████| 259/259 [00:10<00:00, 24.25it/s]\n",
      "Training Epoch 730: 100%|██████████| 259/259 [00:09<00:00, 26.91it/s]\n",
      "Training Epoch 731: 100%|██████████| 259/259 [00:11<00:00, 23.40it/s]\n"
     ]
    },
    {
     "name": "stdout",
     "output_type": "stream",
     "text": [
      "Epoch 730 - Train Loss: 0.0660, Train MSE: 0.0659, Train MAE: 0.1823\n",
      "Epoch 730 - Validation Loss: 2.3560, Validation MSE: 2.3478, Validation MAE: 1.1801\n"
     ]
    },
    {
     "name": "stderr",
     "output_type": "stream",
     "text": [
      "Training Epoch 732: 100%|██████████| 259/259 [00:09<00:00, 27.43it/s]\n",
      "Training Epoch 733: 100%|██████████| 259/259 [00:16<00:00, 15.68it/s]\n",
      "Training Epoch 734: 100%|██████████| 259/259 [00:09<00:00, 25.99it/s]\n",
      "Training Epoch 735: 100%|██████████| 259/259 [00:09<00:00, 26.48it/s]\n",
      "Training Epoch 736: 100%|██████████| 259/259 [00:09<00:00, 27.25it/s]\n",
      "Training Epoch 737: 100%|██████████| 259/259 [15:48<00:00,  3.66s/it]\n",
      "Training Epoch 738: 100%|██████████| 259/259 [00:09<00:00, 27.71it/s]\n",
      "Training Epoch 739: 100%|██████████| 259/259 [00:10<00:00, 25.17it/s]\n",
      "Training Epoch 740: 100%|██████████| 259/259 [00:09<00:00, 25.92it/s]\n",
      "Training Epoch 741: 100%|██████████| 259/259 [00:09<00:00, 26.79it/s]\n"
     ]
    },
    {
     "name": "stdout",
     "output_type": "stream",
     "text": [
      "Epoch 740 - Train Loss: 0.0667, Train MSE: 0.0667, Train MAE: 0.1803\n",
      "Epoch 740 - Validation Loss: 2.3981, Validation MSE: 2.3898, Validation MAE: 1.1755\n"
     ]
    },
    {
     "name": "stderr",
     "output_type": "stream",
     "text": [
      "Training Epoch 742: 100%|██████████| 259/259 [17:18<00:00,  4.01s/it]   \n",
      "Training Epoch 743: 100%|██████████| 259/259 [00:09<00:00, 26.97it/s]\n",
      "Training Epoch 744: 100%|██████████| 259/259 [00:09<00:00, 27.11it/s]\n",
      "Training Epoch 745: 100%|██████████| 259/259 [00:09<00:00, 26.97it/s]\n",
      "Training Epoch 746: 100%|██████████| 259/259 [00:09<00:00, 26.88it/s]\n",
      "Training Epoch 747: 100%|██████████| 259/259 [00:17<00:00, 15.00it/s]\n",
      "Training Epoch 748: 100%|██████████| 259/259 [00:09<00:00, 26.11it/s]\n",
      "Training Epoch 749: 100%|██████████| 259/259 [00:09<00:00, 26.59it/s]\n",
      "Training Epoch 750: 100%|██████████| 259/259 [00:09<00:00, 27.12it/s]\n",
      "Training Epoch 751: 100%|██████████| 259/259 [15:35<00:00,  3.61s/it]  \n"
     ]
    },
    {
     "name": "stdout",
     "output_type": "stream",
     "text": [
      "Epoch 750 - Train Loss: 0.0626, Train MSE: 0.0625, Train MAE: 0.1774\n",
      "Epoch 750 - Validation Loss: 2.3227, Validation MSE: 2.3156, Validation MAE: 1.1705\n"
     ]
    },
    {
     "name": "stderr",
     "output_type": "stream",
     "text": [
      "Training Epoch 752: 100%|██████████| 259/259 [00:09<00:00, 27.66it/s]\n",
      "Training Epoch 753: 100%|██████████| 259/259 [00:08<00:00, 30.09it/s]\n",
      "Training Epoch 754: 100%|██████████| 259/259 [00:08<00:00, 29.53it/s]\n",
      "Training Epoch 755: 100%|██████████| 259/259 [00:08<00:00, 30.13it/s]\n",
      "Training Epoch 756: 100%|██████████| 259/259 [00:08<00:00, 29.00it/s]\n",
      "Training Epoch 757: 100%|██████████| 259/259 [00:08<00:00, 28.86it/s]\n",
      "Training Epoch 758: 100%|██████████| 259/259 [00:10<00:00, 24.74it/s]\n",
      "Training Epoch 759: 100%|██████████| 259/259 [00:09<00:00, 27.68it/s]\n",
      "Training Epoch 760: 100%|██████████| 259/259 [16:48<00:00,  3.89s/it]\n",
      "Training Epoch 761: 100%|██████████| 259/259 [00:08<00:00, 29.34it/s]\n"
     ]
    },
    {
     "name": "stdout",
     "output_type": "stream",
     "text": [
      "Epoch 760 - Train Loss: 0.0597, Train MSE: 0.0598, Train MAE: 0.1728\n",
      "Epoch 760 - Validation Loss: 2.3201, Validation MSE: 2.3134, Validation MAE: 1.1681\n"
     ]
    },
    {
     "name": "stderr",
     "output_type": "stream",
     "text": [
      "Training Epoch 762: 100%|██████████| 259/259 [00:08<00:00, 30.84it/s]\n",
      "Training Epoch 763: 100%|██████████| 259/259 [00:08<00:00, 30.56it/s]\n",
      "Training Epoch 764: 100%|██████████| 259/259 [00:08<00:00, 29.15it/s]\n",
      "Training Epoch 765: 100%|██████████| 259/259 [00:09<00:00, 27.07it/s]\n",
      "Training Epoch 766: 100%|██████████| 259/259 [00:08<00:00, 29.55it/s]\n",
      "Training Epoch 767: 100%|██████████| 259/259 [00:09<00:00, 27.81it/s]\n",
      "Training Epoch 768: 100%|██████████| 259/259 [00:09<00:00, 28.19it/s]\n",
      "Training Epoch 769: 100%|██████████| 259/259 [00:09<00:00, 27.94it/s]\n",
      "Training Epoch 770: 100%|██████████| 259/259 [00:10<00:00, 25.61it/s]\n",
      "Training Epoch 771: 100%|██████████| 259/259 [00:09<00:00, 26.98it/s]\n"
     ]
    },
    {
     "name": "stdout",
     "output_type": "stream",
     "text": [
      "Epoch 770 - Train Loss: 0.0604, Train MSE: 0.0603, Train MAE: 0.1728\n",
      "Epoch 770 - Validation Loss: 2.3221, Validation MSE: 2.3148, Validation MAE: 1.1708\n"
     ]
    },
    {
     "name": "stderr",
     "output_type": "stream",
     "text": [
      "Training Epoch 772: 100%|██████████| 259/259 [00:08<00:00, 29.04it/s]\n",
      "Training Epoch 773: 100%|██████████| 259/259 [07:35<00:00,  1.76s/it]  \n",
      "Training Epoch 774: 100%|██████████| 259/259 [00:07<00:00, 32.49it/s]\n",
      "Training Epoch 775: 100%|██████████| 259/259 [00:08<00:00, 29.23it/s]\n",
      "Training Epoch 776: 100%|██████████| 259/259 [00:08<00:00, 28.97it/s]\n",
      "Training Epoch 777: 100%|██████████| 259/259 [00:09<00:00, 28.51it/s]\n",
      "Training Epoch 778: 100%|██████████| 259/259 [15:23<00:00,  3.56s/it]\n",
      "Training Epoch 779: 100%|██████████| 259/259 [00:08<00:00, 29.31it/s]\n",
      "Training Epoch 780: 100%|██████████| 259/259 [00:08<00:00, 30.24it/s]\n",
      "Training Epoch 781: 100%|██████████| 259/259 [00:08<00:00, 29.94it/s]\n"
     ]
    },
    {
     "name": "stdout",
     "output_type": "stream",
     "text": [
      "Epoch 780 - Train Loss: 0.0711, Train MSE: 0.0711, Train MAE: 0.1854\n",
      "Epoch 780 - Validation Loss: 2.3222, Validation MSE: 2.3149, Validation MAE: 1.1636\n"
     ]
    },
    {
     "name": "stderr",
     "output_type": "stream",
     "text": [
      "Training Epoch 782: 100%|██████████| 259/259 [00:08<00:00, 31.06it/s]\n",
      "Training Epoch 783: 100%|██████████| 259/259 [00:08<00:00, 30.59it/s]\n",
      "Training Epoch 784: 100%|██████████| 259/259 [00:15<00:00, 16.57it/s]\n",
      "Training Epoch 785: 100%|██████████| 259/259 [00:09<00:00, 27.66it/s]\n",
      "Training Epoch 786: 100%|██████████| 259/259 [00:09<00:00, 26.72it/s]\n",
      "Training Epoch 787: 100%|██████████| 259/259 [00:09<00:00, 27.03it/s]\n",
      "Training Epoch 788: 100%|██████████| 259/259 [00:08<00:00, 28.99it/s]\n",
      "Training Epoch 789: 100%|██████████| 259/259 [15:16<00:00,  3.54s/it]  \n",
      "Training Epoch 790: 100%|██████████| 259/259 [00:09<00:00, 26.78it/s]\n",
      "Training Epoch 791: 100%|██████████| 259/259 [00:08<00:00, 29.39it/s]\n"
     ]
    },
    {
     "name": "stdout",
     "output_type": "stream",
     "text": [
      "Epoch 790 - Train Loss: 0.0632, Train MSE: 0.0633, Train MAE: 0.1761\n",
      "Epoch 790 - Validation Loss: 2.3731, Validation MSE: 2.3640, Validation MAE: 1.1800\n"
     ]
    },
    {
     "name": "stderr",
     "output_type": "stream",
     "text": [
      "Training Epoch 792: 100%|██████████| 259/259 [00:08<00:00, 30.80it/s]\n",
      "Training Epoch 793: 100%|██████████| 259/259 [00:08<00:00, 29.94it/s]\n",
      "Training Epoch 794: 100%|██████████| 259/259 [16:40<00:00,  3.86s/it]  \n",
      "Training Epoch 795: 100%|██████████| 259/259 [00:09<00:00, 26.74it/s]\n",
      "Training Epoch 796: 100%|██████████| 259/259 [00:09<00:00, 27.01it/s]\n",
      "Training Epoch 797: 100%|██████████| 259/259 [00:09<00:00, 26.78it/s]\n",
      "Training Epoch 798: 100%|██████████| 259/259 [00:08<00:00, 30.49it/s]\n",
      "Training Epoch 799: 100%|██████████| 259/259 [00:08<00:00, 30.02it/s]\n",
      "Training Epoch 800: 100%|██████████| 259/259 [00:09<00:00, 28.66it/s]\n",
      "Training Epoch 801: 100%|██████████| 259/259 [00:09<00:00, 28.23it/s]\n"
     ]
    },
    {
     "name": "stdout",
     "output_type": "stream",
     "text": [
      "Epoch 800 - Train Loss: 0.0591, Train MSE: 0.0589, Train MAE: 0.1705\n",
      "Epoch 800 - Validation Loss: 2.2824, Validation MSE: 2.2745, Validation MAE: 1.1579\n"
     ]
    },
    {
     "name": "stderr",
     "output_type": "stream",
     "text": [
      "Training Epoch 802: 100%|██████████| 259/259 [00:09<00:00, 28.63it/s]\n",
      "Training Epoch 803: 100%|██████████| 259/259 [00:09<00:00, 27.74it/s]\n",
      "Training Epoch 804: 100%|██████████| 259/259 [00:08<00:00, 29.66it/s]\n",
      "Training Epoch 805: 100%|██████████| 259/259 [00:08<00:00, 30.21it/s]\n",
      "Training Epoch 806: 100%|██████████| 259/259 [00:08<00:00, 28.87it/s]\n",
      "Training Epoch 807: 100%|██████████| 259/259 [00:08<00:00, 28.92it/s]\n",
      "Training Epoch 808: 100%|██████████| 259/259 [00:08<00:00, 29.32it/s]\n",
      "Training Epoch 809: 100%|██████████| 259/259 [00:09<00:00, 28.21it/s]\n",
      "Training Epoch 810: 100%|██████████| 259/259 [00:08<00:00, 28.95it/s]\n",
      "Training Epoch 811: 100%|██████████| 259/259 [00:08<00:00, 29.08it/s]\n"
     ]
    },
    {
     "name": "stdout",
     "output_type": "stream",
     "text": [
      "Epoch 810 - Train Loss: 0.0599, Train MSE: 0.0599, Train MAE: 0.1725\n",
      "Epoch 810 - Validation Loss: 2.3442, Validation MSE: 2.3366, Validation MAE: 1.1725\n"
     ]
    },
    {
     "name": "stderr",
     "output_type": "stream",
     "text": [
      "Training Epoch 812: 100%|██████████| 259/259 [00:09<00:00, 28.11it/s]\n",
      "Training Epoch 813: 100%|██████████| 259/259 [00:09<00:00, 28.29it/s]\n",
      "Training Epoch 814: 100%|██████████| 259/259 [00:08<00:00, 29.34it/s]\n",
      "Training Epoch 815: 100%|██████████| 259/259 [00:09<00:00, 26.23it/s]\n",
      "Training Epoch 816: 100%|██████████| 259/259 [00:08<00:00, 28.83it/s]\n",
      "Training Epoch 817: 100%|██████████| 259/259 [00:08<00:00, 29.68it/s]\n",
      "Training Epoch 818: 100%|██████████| 259/259 [00:08<00:00, 28.95it/s]\n",
      "Training Epoch 819: 100%|██████████| 259/259 [00:08<00:00, 29.09it/s]\n",
      "Training Epoch 820: 100%|██████████| 259/259 [00:08<00:00, 28.89it/s]\n",
      "Training Epoch 821: 100%|██████████| 259/259 [00:09<00:00, 28.50it/s]\n"
     ]
    },
    {
     "name": "stdout",
     "output_type": "stream",
     "text": [
      "Epoch 820 - Train Loss: 0.0602, Train MSE: 0.0602, Train MAE: 0.1731\n",
      "Epoch 820 - Validation Loss: 2.3259, Validation MSE: 2.3176, Validation MAE: 1.1670\n"
     ]
    },
    {
     "name": "stderr",
     "output_type": "stream",
     "text": [
      "Training Epoch 822: 100%|██████████| 259/259 [00:09<00:00, 28.23it/s]\n",
      "Training Epoch 823: 100%|██████████| 259/259 [00:09<00:00, 27.51it/s]\n",
      "Training Epoch 824: 100%|██████████| 259/259 [00:08<00:00, 29.26it/s]\n",
      "Training Epoch 825: 100%|██████████| 259/259 [00:09<00:00, 28.53it/s]\n",
      "Training Epoch 826: 100%|██████████| 259/259 [00:09<00:00, 28.01it/s]\n",
      "Training Epoch 827: 100%|██████████| 259/259 [00:09<00:00, 28.68it/s]\n",
      "Training Epoch 828: 100%|██████████| 259/259 [00:09<00:00, 27.39it/s]\n",
      "Training Epoch 829: 100%|██████████| 259/259 [00:09<00:00, 27.70it/s]\n",
      "Training Epoch 830: 100%|██████████| 259/259 [00:08<00:00, 29.03it/s]\n",
      "Training Epoch 831: 100%|██████████| 259/259 [00:08<00:00, 31.85it/s]\n"
     ]
    },
    {
     "name": "stdout",
     "output_type": "stream",
     "text": [
      "Epoch 830 - Train Loss: 0.0586, Train MSE: 0.0586, Train MAE: 0.1691\n",
      "Epoch 830 - Validation Loss: 2.3491, Validation MSE: 2.3423, Validation MAE: 1.1751\n"
     ]
    },
    {
     "name": "stderr",
     "output_type": "stream",
     "text": [
      "Training Epoch 832: 100%|██████████| 259/259 [00:07<00:00, 32.46it/s]\n",
      "Training Epoch 833: 100%|██████████| 259/259 [00:07<00:00, 33.05it/s]\n",
      "Training Epoch 834: 100%|██████████| 259/259 [00:07<00:00, 33.03it/s]\n",
      "Training Epoch 835: 100%|██████████| 259/259 [00:08<00:00, 31.42it/s]\n",
      "Training Epoch 836: 100%|██████████| 259/259 [00:08<00:00, 31.66it/s]\n",
      "Training Epoch 837: 100%|██████████| 259/259 [00:07<00:00, 32.72it/s]\n",
      "Training Epoch 838: 100%|██████████| 259/259 [00:07<00:00, 32.99it/s]\n",
      "Training Epoch 839: 100%|██████████| 259/259 [00:08<00:00, 32.34it/s]\n",
      "Training Epoch 840: 100%|██████████| 259/259 [00:07<00:00, 33.24it/s]\n",
      "Training Epoch 841: 100%|██████████| 259/259 [00:08<00:00, 32.28it/s]\n"
     ]
    },
    {
     "name": "stdout",
     "output_type": "stream",
     "text": [
      "Epoch 840 - Train Loss: 0.0587, Train MSE: 0.0586, Train MAE: 0.1705\n",
      "Epoch 840 - Validation Loss: 2.3260, Validation MSE: 2.3181, Validation MAE: 1.1644\n"
     ]
    },
    {
     "name": "stderr",
     "output_type": "stream",
     "text": [
      "Training Epoch 842: 100%|██████████| 259/259 [00:08<00:00, 31.50it/s]\n",
      "Training Epoch 843: 100%|██████████| 259/259 [00:08<00:00, 31.37it/s]\n",
      "Training Epoch 844: 100%|██████████| 259/259 [00:08<00:00, 32.18it/s]\n",
      "Training Epoch 845: 100%|██████████| 259/259 [00:07<00:00, 32.51it/s]\n",
      "Training Epoch 846: 100%|██████████| 259/259 [00:08<00:00, 32.08it/s]\n",
      "Training Epoch 847: 100%|██████████| 259/259 [00:07<00:00, 32.64it/s]\n",
      "Training Epoch 848: 100%|██████████| 259/259 [00:07<00:00, 32.98it/s]\n",
      "Training Epoch 849: 100%|██████████| 259/259 [00:08<00:00, 31.54it/s]\n",
      "Training Epoch 850: 100%|██████████| 259/259 [00:08<00:00, 32.14it/s]\n",
      "Training Epoch 851: 100%|██████████| 259/259 [00:08<00:00, 32.34it/s]\n"
     ]
    },
    {
     "name": "stdout",
     "output_type": "stream",
     "text": [
      "Epoch 850 - Train Loss: 0.0570, Train MSE: 0.0569, Train MAE: 0.1693\n",
      "Epoch 850 - Validation Loss: 2.3588, Validation MSE: 2.3506, Validation MAE: 1.1746\n"
     ]
    },
    {
     "name": "stderr",
     "output_type": "stream",
     "text": [
      "Training Epoch 852: 100%|██████████| 259/259 [00:08<00:00, 31.96it/s]\n",
      "Training Epoch 853: 100%|██████████| 259/259 [00:07<00:00, 32.50it/s]\n",
      "Training Epoch 854: 100%|██████████| 259/259 [00:07<00:00, 33.32it/s]\n",
      "Training Epoch 855: 100%|██████████| 259/259 [00:08<00:00, 31.71it/s]\n",
      "Training Epoch 856: 100%|██████████| 259/259 [00:08<00:00, 31.83it/s]\n",
      "Training Epoch 857: 100%|██████████| 259/259 [00:08<00:00, 31.48it/s]\n",
      "Training Epoch 858: 100%|██████████| 259/259 [00:08<00:00, 32.01it/s]\n",
      "Training Epoch 859: 100%|██████████| 259/259 [00:07<00:00, 32.59it/s]\n",
      "Training Epoch 860: 100%|██████████| 259/259 [00:07<00:00, 33.56it/s]\n",
      "Training Epoch 861: 100%|██████████| 259/259 [00:07<00:00, 32.50it/s]\n"
     ]
    },
    {
     "name": "stdout",
     "output_type": "stream",
     "text": [
      "Epoch 860 - Train Loss: 0.0625, Train MSE: 0.0625, Train MAE: 0.1744\n",
      "Epoch 860 - Validation Loss: 2.3056, Validation MSE: 2.2969, Validation MAE: 1.1672\n"
     ]
    },
    {
     "name": "stderr",
     "output_type": "stream",
     "text": [
      "Training Epoch 862: 100%|██████████| 259/259 [00:08<00:00, 32.27it/s]\n",
      "Training Epoch 863: 100%|██████████| 259/259 [00:08<00:00, 32.30it/s]\n",
      "Training Epoch 864: 100%|██████████| 259/259 [00:08<00:00, 29.88it/s]\n",
      "Training Epoch 865: 100%|██████████| 259/259 [00:08<00:00, 32.04it/s]\n",
      "Training Epoch 866: 100%|██████████| 259/259 [00:08<00:00, 31.05it/s]\n",
      "Training Epoch 867: 100%|██████████| 259/259 [00:08<00:00, 31.02it/s]\n",
      "Training Epoch 868: 100%|██████████| 259/259 [00:08<00:00, 29.34it/s]\n",
      "Training Epoch 869: 100%|██████████| 259/259 [00:08<00:00, 31.52it/s]\n",
      "Training Epoch 870: 100%|██████████| 259/259 [00:08<00:00, 31.42it/s]\n",
      "Training Epoch 871: 100%|██████████| 259/259 [00:08<00:00, 31.12it/s]\n"
     ]
    },
    {
     "name": "stdout",
     "output_type": "stream",
     "text": [
      "Epoch 870 - Train Loss: 0.0608, Train MSE: 0.0608, Train MAE: 0.1723\n",
      "Epoch 870 - Validation Loss: 2.2799, Validation MSE: 2.2725, Validation MAE: 1.1572\n"
     ]
    },
    {
     "name": "stderr",
     "output_type": "stream",
     "text": [
      "Training Epoch 872: 100%|██████████| 259/259 [00:08<00:00, 32.08it/s]\n",
      "Training Epoch 873: 100%|██████████| 259/259 [00:07<00:00, 33.03it/s]\n",
      "Training Epoch 874: 100%|██████████| 259/259 [00:08<00:00, 31.98it/s]\n",
      "Training Epoch 875: 100%|██████████| 259/259 [00:07<00:00, 32.75it/s]\n",
      "Training Epoch 876: 100%|██████████| 259/259 [00:07<00:00, 32.76it/s]\n",
      "Training Epoch 877: 100%|██████████| 259/259 [00:07<00:00, 32.75it/s]\n",
      "Training Epoch 878: 100%|██████████| 259/259 [00:08<00:00, 29.62it/s]\n",
      "Training Epoch 879: 100%|██████████| 259/259 [00:08<00:00, 31.72it/s]\n",
      "Training Epoch 880: 100%|██████████| 259/259 [00:07<00:00, 32.64it/s]\n",
      "Training Epoch 881: 100%|██████████| 259/259 [00:08<00:00, 31.88it/s]\n"
     ]
    },
    {
     "name": "stdout",
     "output_type": "stream",
     "text": [
      "Epoch 880 - Train Loss: 0.0608, Train MSE: 0.0609, Train MAE: 0.1729\n",
      "Epoch 880 - Validation Loss: 2.3830, Validation MSE: 2.3725, Validation MAE: 1.1806\n"
     ]
    },
    {
     "name": "stderr",
     "output_type": "stream",
     "text": [
      "Training Epoch 882: 100%|██████████| 259/259 [00:07<00:00, 32.59it/s]\n",
      "Training Epoch 883: 100%|██████████| 259/259 [00:08<00:00, 32.09it/s]\n",
      "Training Epoch 884: 100%|██████████| 259/259 [00:07<00:00, 32.60it/s]\n",
      "Training Epoch 885: 100%|██████████| 259/259 [00:08<00:00, 30.89it/s]\n",
      "Training Epoch 886: 100%|██████████| 259/259 [00:08<00:00, 29.88it/s]\n",
      "Training Epoch 887: 100%|██████████| 259/259 [00:08<00:00, 31.78it/s]\n",
      "Training Epoch 888: 100%|██████████| 259/259 [00:08<00:00, 31.79it/s]\n",
      "Training Epoch 889: 100%|██████████| 259/259 [00:08<00:00, 31.26it/s]\n",
      "Training Epoch 890: 100%|██████████| 259/259 [00:08<00:00, 31.77it/s]\n",
      "Training Epoch 891: 100%|██████████| 259/259 [00:08<00:00, 31.44it/s]\n"
     ]
    },
    {
     "name": "stdout",
     "output_type": "stream",
     "text": [
      "Epoch 890 - Train Loss: 0.0615, Train MSE: 0.0616, Train MAE: 0.1701\n",
      "Epoch 890 - Validation Loss: 2.3314, Validation MSE: 2.3244, Validation MAE: 1.1680\n"
     ]
    },
    {
     "name": "stderr",
     "output_type": "stream",
     "text": [
      "Training Epoch 892: 100%|██████████| 259/259 [00:08<00:00, 31.06it/s]\n",
      "Training Epoch 893: 100%|██████████| 259/259 [00:08<00:00, 30.09it/s]\n",
      "Training Epoch 894: 100%|██████████| 259/259 [00:08<00:00, 30.24it/s]\n",
      "Training Epoch 895: 100%|██████████| 259/259 [00:08<00:00, 31.25it/s]\n",
      "Training Epoch 896: 100%|██████████| 259/259 [00:26<00:00,  9.65it/s]\n",
      "Training Epoch 897: 100%|██████████| 259/259 [00:29<00:00,  8.93it/s]\n",
      "Training Epoch 898: 100%|██████████| 259/259 [00:26<00:00,  9.79it/s]\n",
      "Training Epoch 899: 100%|██████████| 259/259 [00:08<00:00, 29.88it/s]\n",
      "Training Epoch 900: 100%|██████████| 259/259 [00:08<00:00, 30.19it/s]\n",
      "Training Epoch 901: 100%|██████████| 259/259 [00:08<00:00, 31.19it/s]\n"
     ]
    },
    {
     "name": "stdout",
     "output_type": "stream",
     "text": [
      "Epoch 900 - Train Loss: 0.0554, Train MSE: 0.0555, Train MAE: 0.1648\n",
      "Epoch 900 - Validation Loss: 2.2735, Validation MSE: 2.2668, Validation MAE: 1.1625\n"
     ]
    },
    {
     "name": "stderr",
     "output_type": "stream",
     "text": [
      "Training Epoch 902: 100%|██████████| 259/259 [00:08<00:00, 29.79it/s]\n",
      "Training Epoch 903: 100%|██████████| 259/259 [00:08<00:00, 30.76it/s]\n",
      "Training Epoch 904: 100%|██████████| 259/259 [00:08<00:00, 31.27it/s]\n",
      "Training Epoch 905: 100%|██████████| 259/259 [00:28<00:00,  9.16it/s]\n",
      "Training Epoch 906: 100%|██████████| 259/259 [00:28<00:00,  9.02it/s]\n",
      "Training Epoch 907: 100%|██████████| 259/259 [00:27<00:00,  9.31it/s]\n",
      "Training Epoch 908: 100%|██████████| 259/259 [00:27<00:00,  9.42it/s]\n",
      "Training Epoch 909: 100%|██████████| 259/259 [00:20<00:00, 12.84it/s]\n",
      "Training Epoch 910: 100%|██████████| 259/259 [00:09<00:00, 27.65it/s]\n",
      "Training Epoch 911: 100%|██████████| 259/259 [00:14<00:00, 18.34it/s]\n"
     ]
    },
    {
     "name": "stdout",
     "output_type": "stream",
     "text": [
      "Epoch 910 - Train Loss: 0.0553, Train MSE: 0.0550, Train MAE: 0.1644\n",
      "Epoch 910 - Validation Loss: 2.3279, Validation MSE: 2.3196, Validation MAE: 1.1714\n"
     ]
    },
    {
     "name": "stderr",
     "output_type": "stream",
     "text": [
      "Training Epoch 912: 100%|██████████| 259/259 [00:25<00:00, 10.11it/s]\n",
      "Training Epoch 913: 100%|██████████| 259/259 [00:29<00:00,  8.86it/s]\n",
      "Training Epoch 914: 100%|██████████| 259/259 [00:27<00:00,  9.51it/s]\n",
      "Training Epoch 915: 100%|██████████| 259/259 [00:16<00:00, 16.07it/s]\n",
      "Training Epoch 916: 100%|██████████| 259/259 [00:09<00:00, 27.20it/s]\n",
      "Training Epoch 917: 100%|██████████| 259/259 [00:27<00:00,  9.52it/s]\n",
      "Training Epoch 918: 100%|██████████| 259/259 [00:28<00:00,  9.23it/s]\n",
      "Training Epoch 919: 100%|██████████| 259/259 [00:20<00:00, 12.84it/s]\n",
      "Training Epoch 920: 100%|██████████| 259/259 [00:19<00:00, 13.22it/s]\n",
      "Training Epoch 921: 100%|██████████| 259/259 [00:27<00:00,  9.38it/s]\n"
     ]
    },
    {
     "name": "stdout",
     "output_type": "stream",
     "text": [
      "Epoch 920 - Train Loss: 0.0633, Train MSE: 0.0634, Train MAE: 0.1738\n",
      "Epoch 920 - Validation Loss: 2.3120, Validation MSE: 2.3046, Validation MAE: 1.1736\n"
     ]
    },
    {
     "name": "stderr",
     "output_type": "stream",
     "text": [
      "Training Epoch 922: 100%|██████████| 259/259 [00:27<00:00,  9.59it/s]\n",
      "Training Epoch 923: 100%|██████████| 259/259 [00:27<00:00,  9.37it/s]\n",
      "Training Epoch 924: 100%|██████████| 259/259 [00:27<00:00,  9.29it/s]\n",
      "Training Epoch 925: 100%|██████████| 259/259 [00:28<00:00,  9.20it/s]\n",
      "Training Epoch 926: 100%|██████████| 259/259 [00:26<00:00,  9.85it/s]\n",
      "Training Epoch 927: 100%|██████████| 259/259 [00:27<00:00,  9.47it/s]\n",
      "Training Epoch 928: 100%|██████████| 259/259 [00:11<00:00, 22.79it/s]\n",
      "Training Epoch 929: 100%|██████████| 259/259 [00:21<00:00, 12.29it/s]\n",
      "Training Epoch 930: 100%|██████████| 259/259 [00:30<00:00,  8.58it/s]\n",
      "Training Epoch 931: 100%|██████████| 259/259 [00:27<00:00,  9.27it/s]\n"
     ]
    },
    {
     "name": "stdout",
     "output_type": "stream",
     "text": [
      "Epoch 930 - Train Loss: 0.0552, Train MSE: 0.0551, Train MAE: 0.1647\n",
      "Epoch 930 - Validation Loss: 2.3193, Validation MSE: 2.3136, Validation MAE: 1.1602\n"
     ]
    },
    {
     "name": "stderr",
     "output_type": "stream",
     "text": [
      "Training Epoch 932: 100%|██████████| 259/259 [00:28<00:00,  9.10it/s]\n",
      "Training Epoch 933: 100%|██████████| 259/259 [00:27<00:00,  9.57it/s]\n",
      "Training Epoch 934: 100%|██████████| 259/259 [00:27<00:00,  9.42it/s]\n",
      "Training Epoch 935: 100%|██████████| 259/259 [00:28<00:00,  8.98it/s]\n",
      "Training Epoch 936: 100%|██████████| 259/259 [00:19<00:00, 13.07it/s]\n",
      "Training Epoch 937: 100%|██████████| 259/259 [00:25<00:00, 10.07it/s]\n",
      "Training Epoch 938: 100%|██████████| 259/259 [00:27<00:00,  9.33it/s]\n",
      "Training Epoch 939: 100%|██████████| 259/259 [00:28<00:00,  8.98it/s]\n",
      "Training Epoch 940: 100%|██████████| 259/259 [00:22<00:00, 11.41it/s]\n",
      "Training Epoch 941: 100%|██████████| 259/259 [00:18<00:00, 13.88it/s]\n"
     ]
    },
    {
     "name": "stdout",
     "output_type": "stream",
     "text": [
      "Epoch 940 - Train Loss: 0.0650, Train MSE: 0.0651, Train MAE: 0.1746\n",
      "Epoch 940 - Validation Loss: 2.3251, Validation MSE: 2.3181, Validation MAE: 1.1709\n"
     ]
    },
    {
     "name": "stderr",
     "output_type": "stream",
     "text": [
      "Training Epoch 942: 100%|██████████| 259/259 [00:11<00:00, 23.30it/s]\n",
      "Training Epoch 943: 100%|██████████| 259/259 [00:11<00:00, 23.03it/s]\n",
      "Training Epoch 944: 100%|██████████| 259/259 [00:11<00:00, 22.08it/s]\n",
      "Training Epoch 945: 100%|██████████| 259/259 [00:12<00:00, 20.44it/s]\n",
      "Training Epoch 946: 100%|██████████| 259/259 [00:12<00:00, 20.03it/s]\n",
      "Training Epoch 947: 100%|██████████| 259/259 [00:10<00:00, 23.83it/s]\n",
      "Training Epoch 948: 100%|██████████| 259/259 [00:10<00:00, 24.00it/s]\n",
      "Training Epoch 949: 100%|██████████| 259/259 [00:12<00:00, 21.31it/s]\n",
      "Training Epoch 950: 100%|██████████| 259/259 [00:12<00:00, 20.95it/s]\n",
      "Training Epoch 951: 100%|██████████| 259/259 [00:11<00:00, 23.44it/s]\n"
     ]
    },
    {
     "name": "stdout",
     "output_type": "stream",
     "text": [
      "Epoch 950 - Train Loss: 0.0567, Train MSE: 0.0567, Train MAE: 0.1632\n",
      "Epoch 950 - Validation Loss: 2.2775, Validation MSE: 2.2712, Validation MAE: 1.1573\n"
     ]
    },
    {
     "name": "stderr",
     "output_type": "stream",
     "text": [
      "Training Epoch 952: 100%|██████████| 259/259 [00:10<00:00, 23.71it/s]\n",
      "Training Epoch 953: 100%|██████████| 259/259 [00:11<00:00, 21.69it/s]\n",
      "Training Epoch 954: 100%|██████████| 259/259 [00:10<00:00, 23.59it/s]\n",
      "Training Epoch 955: 100%|██████████| 259/259 [00:11<00:00, 23.27it/s]\n",
      "Training Epoch 956: 100%|██████████| 259/259 [00:11<00:00, 21.64it/s]\n",
      "Training Epoch 957: 100%|██████████| 259/259 [00:11<00:00, 23.09it/s]\n",
      "Training Epoch 958: 100%|██████████| 259/259 [00:10<00:00, 23.77it/s]\n",
      "Training Epoch 959: 100%|██████████| 259/259 [00:11<00:00, 22.26it/s]\n",
      "Training Epoch 960: 100%|██████████| 259/259 [00:11<00:00, 22.95it/s]\n",
      "Training Epoch 961: 100%|██████████| 259/259 [00:14<00:00, 18.28it/s]\n"
     ]
    },
    {
     "name": "stdout",
     "output_type": "stream",
     "text": [
      "Epoch 960 - Train Loss: 0.0566, Train MSE: 0.0566, Train MAE: 0.1640\n",
      "Epoch 960 - Validation Loss: 2.2648, Validation MSE: 2.2590, Validation MAE: 1.1493\n"
     ]
    },
    {
     "name": "stderr",
     "output_type": "stream",
     "text": [
      "Training Epoch 962: 100%|██████████| 259/259 [00:12<00:00, 21.37it/s]\n",
      "Training Epoch 963: 100%|██████████| 259/259 [00:12<00:00, 20.90it/s]\n",
      "Training Epoch 964: 100%|██████████| 259/259 [00:10<00:00, 23.79it/s]\n",
      "Training Epoch 965: 100%|██████████| 259/259 [00:11<00:00, 22.93it/s]\n",
      "Training Epoch 966: 100%|██████████| 259/259 [00:11<00:00, 23.29it/s]\n",
      "Training Epoch 967: 100%|██████████| 259/259 [00:10<00:00, 23.64it/s]\n",
      "Training Epoch 968: 100%|██████████| 259/259 [00:10<00:00, 23.79it/s]\n",
      "Training Epoch 969: 100%|██████████| 259/259 [00:11<00:00, 22.98it/s]\n",
      "Training Epoch 970: 100%|██████████| 259/259 [00:11<00:00, 22.66it/s]\n",
      "Training Epoch 971: 100%|██████████| 259/259 [00:11<00:00, 21.68it/s]\n"
     ]
    },
    {
     "name": "stdout",
     "output_type": "stream",
     "text": [
      "Epoch 970 - Train Loss: 0.0546, Train MSE: 0.0546, Train MAE: 0.1633\n",
      "Epoch 970 - Validation Loss: 2.3301, Validation MSE: 2.3224, Validation MAE: 1.1661\n"
     ]
    },
    {
     "name": "stderr",
     "output_type": "stream",
     "text": [
      "Training Epoch 972: 100%|██████████| 259/259 [00:11<00:00, 22.97it/s]\n",
      "Training Epoch 973: 100%|██████████| 259/259 [00:12<00:00, 20.74it/s]\n",
      "Training Epoch 974: 100%|██████████| 259/259 [00:11<00:00, 23.46it/s]\n",
      "Training Epoch 975: 100%|██████████| 259/259 [00:11<00:00, 21.75it/s]\n",
      "Training Epoch 976: 100%|██████████| 259/259 [00:11<00:00, 22.09it/s]\n",
      "Training Epoch 977: 100%|██████████| 259/259 [00:11<00:00, 22.82it/s]\n",
      "Training Epoch 978: 100%|██████████| 259/259 [00:13<00:00, 19.58it/s]\n",
      "Training Epoch 979: 100%|██████████| 259/259 [00:11<00:00, 22.32it/s]\n",
      "Training Epoch 980: 100%|██████████| 259/259 [00:11<00:00, 21.70it/s]\n",
      "Training Epoch 981: 100%|██████████| 259/259 [00:11<00:00, 23.00it/s]\n"
     ]
    },
    {
     "name": "stdout",
     "output_type": "stream",
     "text": [
      "Epoch 980 - Train Loss: 0.0581, Train MSE: 0.0581, Train MAE: 0.1661\n",
      "Epoch 980 - Validation Loss: 2.4227, Validation MSE: 2.4152, Validation MAE: 1.1921\n"
     ]
    },
    {
     "name": "stderr",
     "output_type": "stream",
     "text": [
      "Training Epoch 982: 100%|██████████| 259/259 [00:11<00:00, 23.29it/s]\n",
      "Training Epoch 983: 100%|██████████| 259/259 [00:11<00:00, 23.22it/s]\n",
      "Training Epoch 984: 100%|██████████| 259/259 [00:11<00:00, 22.92it/s]\n",
      "Training Epoch 985: 100%|██████████| 259/259 [00:12<00:00, 21.28it/s]\n",
      "Training Epoch 986: 100%|██████████| 259/259 [00:11<00:00, 22.96it/s]\n",
      "Training Epoch 987: 100%|██████████| 259/259 [00:11<00:00, 22.20it/s]\n",
      "Training Epoch 988: 100%|██████████| 259/259 [00:12<00:00, 21.19it/s]\n",
      "Training Epoch 989: 100%|██████████| 259/259 [00:11<00:00, 22.27it/s]\n",
      "Training Epoch 990: 100%|██████████| 259/259 [00:11<00:00, 22.00it/s]\n",
      "Training Epoch 991: 100%|██████████| 259/259 [00:11<00:00, 21.69it/s]\n"
     ]
    },
    {
     "name": "stdout",
     "output_type": "stream",
     "text": [
      "Epoch 990 - Train Loss: 0.0530, Train MSE: 0.0530, Train MAE: 0.1608\n",
      "Epoch 990 - Validation Loss: 2.2504, Validation MSE: 2.2443, Validation MAE: 1.1518\n"
     ]
    },
    {
     "name": "stderr",
     "output_type": "stream",
     "text": [
      "Training Epoch 992: 100%|██████████| 259/259 [00:12<00:00, 21.28it/s]\n",
      "Training Epoch 993: 100%|██████████| 259/259 [00:11<00:00, 21.69it/s]\n",
      "Training Epoch 994: 100%|██████████| 259/259 [00:11<00:00, 23.02it/s]\n",
      "Training Epoch 995: 100%|██████████| 259/259 [00:12<00:00, 21.49it/s]\n",
      "Training Epoch 996: 100%|██████████| 259/259 [00:12<00:00, 21.37it/s]\n",
      "Training Epoch 997: 100%|██████████| 259/259 [00:11<00:00, 22.07it/s]\n",
      "Training Epoch 998: 100%|██████████| 259/259 [00:11<00:00, 21.82it/s]\n",
      "Training Epoch 999: 100%|██████████| 259/259 [00:11<00:00, 22.89it/s]\n",
      "Training Epoch 1000: 100%|██████████| 259/259 [00:12<00:00, 20.67it/s]\n",
      "Training Epoch 1001: 100%|██████████| 259/259 [00:12<00:00, 19.99it/s]\n"
     ]
    },
    {
     "name": "stdout",
     "output_type": "stream",
     "text": [
      "Epoch 1000 - Train Loss: 0.0519, Train MSE: 0.0519, Train MAE: 0.1606\n",
      "Epoch 1000 - Validation Loss: 2.2928, Validation MSE: 2.2858, Validation MAE: 1.1665\n"
     ]
    },
    {
     "name": "stderr",
     "output_type": "stream",
     "text": [
      "Training Epoch 1002: 100%|██████████| 259/259 [00:13<00:00, 19.21it/s]\n",
      "Training Epoch 1003: 100%|██████████| 259/259 [00:11<00:00, 22.65it/s]\n",
      "Training Epoch 1004: 100%|██████████| 259/259 [00:11<00:00, 22.26it/s]\n",
      "Training Epoch 1005: 100%|██████████| 259/259 [00:13<00:00, 19.08it/s]\n",
      "Training Epoch 1006: 100%|██████████| 259/259 [00:12<00:00, 21.29it/s]\n",
      "Training Epoch 1007: 100%|██████████| 259/259 [00:11<00:00, 22.83it/s]\n",
      "Training Epoch 1008: 100%|██████████| 259/259 [00:11<00:00, 22.73it/s]\n",
      "Training Epoch 1009: 100%|██████████| 259/259 [00:11<00:00, 22.74it/s]\n",
      "Training Epoch 1010: 100%|██████████| 259/259 [00:11<00:00, 21.78it/s]\n",
      "Training Epoch 1011: 100%|██████████| 259/259 [00:11<00:00, 22.46it/s]\n"
     ]
    },
    {
     "name": "stdout",
     "output_type": "stream",
     "text": [
      "Epoch 1010 - Train Loss: 0.0508, Train MSE: 0.0508, Train MAE: 0.1585\n",
      "Epoch 1010 - Validation Loss: 2.3182, Validation MSE: 2.3109, Validation MAE: 1.1640\n"
     ]
    },
    {
     "name": "stderr",
     "output_type": "stream",
     "text": [
      "Training Epoch 1012: 100%|██████████| 259/259 [00:11<00:00, 21.72it/s]\n",
      "Training Epoch 1013: 100%|██████████| 259/259 [00:12<00:00, 20.28it/s]\n",
      "Training Epoch 1014: 100%|██████████| 259/259 [00:11<00:00, 22.67it/s]\n",
      "Training Epoch 1015: 100%|██████████| 259/259 [00:12<00:00, 21.48it/s]\n",
      "Training Epoch 1016: 100%|██████████| 259/259 [00:11<00:00, 22.81it/s]\n",
      "Training Epoch 1017: 100%|██████████| 259/259 [00:11<00:00, 21.95it/s]\n",
      "Training Epoch 1018: 100%|██████████| 259/259 [00:11<00:00, 22.57it/s]\n",
      "Training Epoch 1019: 100%|██████████| 259/259 [00:11<00:00, 22.60it/s]\n",
      "Training Epoch 1020: 100%|██████████| 259/259 [00:14<00:00, 18.21it/s]\n",
      "Training Epoch 1021: 100%|██████████| 259/259 [00:11<00:00, 22.13it/s]\n"
     ]
    },
    {
     "name": "stdout",
     "output_type": "stream",
     "text": [
      "Epoch 1020 - Train Loss: 0.0548, Train MSE: 0.0548, Train MAE: 0.1600\n",
      "Epoch 1020 - Validation Loss: 2.2772, Validation MSE: 2.2708, Validation MAE: 1.1586\n"
     ]
    },
    {
     "name": "stderr",
     "output_type": "stream",
     "text": [
      "Training Epoch 1022: 100%|██████████| 259/259 [00:14<00:00, 17.97it/s]\n",
      "Training Epoch 1023: 100%|██████████| 259/259 [00:13<00:00, 18.73it/s]\n",
      "Training Epoch 1024: 100%|██████████| 259/259 [00:12<00:00, 21.44it/s]\n",
      "Training Epoch 1025: 100%|██████████| 259/259 [00:12<00:00, 21.41it/s]\n",
      "Training Epoch 1026: 100%|██████████| 259/259 [00:11<00:00, 22.45it/s]\n",
      "Training Epoch 1027: 100%|██████████| 259/259 [00:12<00:00, 20.58it/s]\n",
      "Training Epoch 1028: 100%|██████████| 259/259 [00:12<00:00, 21.15it/s]\n",
      "Training Epoch 1029: 100%|██████████| 259/259 [00:14<00:00, 17.88it/s]\n",
      "Training Epoch 1030: 100%|██████████| 259/259 [00:11<00:00, 21.85it/s]\n",
      "Training Epoch 1031: 100%|██████████| 259/259 [00:12<00:00, 21.56it/s]\n"
     ]
    },
    {
     "name": "stdout",
     "output_type": "stream",
     "text": [
      "Epoch 1030 - Train Loss: 0.0541, Train MSE: 0.0541, Train MAE: 0.1612\n",
      "Epoch 1030 - Validation Loss: 2.3095, Validation MSE: 2.3037, Validation MAE: 1.1652\n"
     ]
    },
    {
     "name": "stderr",
     "output_type": "stream",
     "text": [
      "Training Epoch 1032: 100%|██████████| 259/259 [00:12<00:00, 21.17it/s]\n",
      "Training Epoch 1033: 100%|██████████| 259/259 [00:12<00:00, 20.12it/s]\n",
      "Training Epoch 1034: 100%|██████████| 259/259 [15:23<00:00,  3.57s/it] \n",
      "Training Epoch 1035: 100%|██████████| 259/259 [00:08<00:00, 30.44it/s]\n",
      "Training Epoch 1036: 100%|██████████| 259/259 [00:08<00:00, 30.91it/s]\n",
      "Training Epoch 1037: 100%|██████████| 259/259 [00:08<00:00, 30.43it/s]\n",
      "Training Epoch 1038: 100%|██████████| 259/259 [00:08<00:00, 31.28it/s]\n",
      "Training Epoch 1039: 100%|██████████| 259/259 [00:07<00:00, 32.68it/s]\n",
      "Training Epoch 1040: 100%|██████████| 259/259 [00:07<00:00, 32.85it/s]\n",
      "Training Epoch 1041: 100%|██████████| 259/259 [00:08<00:00, 31.15it/s]\n"
     ]
    },
    {
     "name": "stdout",
     "output_type": "stream",
     "text": [
      "Epoch 1040 - Train Loss: 0.0522, Train MSE: 0.0523, Train MAE: 0.1579\n",
      "Epoch 1040 - Validation Loss: 2.2448, Validation MSE: 2.2387, Validation MAE: 1.1489\n"
     ]
    },
    {
     "name": "stderr",
     "output_type": "stream",
     "text": [
      "Training Epoch 1042: 100%|██████████| 259/259 [00:08<00:00, 31.09it/s]\n",
      "Training Epoch 1043: 100%|██████████| 259/259 [00:08<00:00, 32.09it/s]\n",
      "Training Epoch 1044: 100%|██████████| 259/259 [00:07<00:00, 33.04it/s]\n",
      "Training Epoch 1045: 100%|██████████| 259/259 [00:07<00:00, 32.79it/s]\n",
      "Training Epoch 1046: 100%|██████████| 259/259 [00:08<00:00, 32.03it/s]\n",
      "Training Epoch 1047: 100%|██████████| 259/259 [00:08<00:00, 30.29it/s]\n",
      "Training Epoch 1048: 100%|██████████| 259/259 [00:08<00:00, 31.17it/s]\n",
      "Training Epoch 1049: 100%|██████████| 259/259 [00:08<00:00, 30.33it/s]\n",
      "Training Epoch 1050: 100%|██████████| 259/259 [00:07<00:00, 32.44it/s]\n",
      "Training Epoch 1051: 100%|██████████| 259/259 [00:07<00:00, 33.43it/s]\n"
     ]
    },
    {
     "name": "stdout",
     "output_type": "stream",
     "text": [
      "Epoch 1050 - Train Loss: 0.0574, Train MSE: 0.0574, Train MAE: 0.1661\n",
      "Epoch 1050 - Validation Loss: 2.2070, Validation MSE: 2.2000, Validation MAE: 1.1458\n"
     ]
    },
    {
     "name": "stderr",
     "output_type": "stream",
     "text": [
      "Training Epoch 1052: 100%|██████████| 259/259 [00:08<00:00, 32.23it/s]\n",
      "Training Epoch 1053: 100%|██████████| 259/259 [00:07<00:00, 32.89it/s]\n",
      "Training Epoch 1054: 100%|██████████| 259/259 [00:07<00:00, 32.38it/s]\n",
      "Training Epoch 1055: 100%|██████████| 259/259 [00:08<00:00, 32.00it/s]\n",
      "Training Epoch 1056: 100%|██████████| 259/259 [00:08<00:00, 29.96it/s]\n",
      "Training Epoch 1057: 100%|██████████| 259/259 [00:08<00:00, 29.91it/s]\n",
      "Training Epoch 1058: 100%|██████████| 259/259 [00:08<00:00, 31.98it/s]\n",
      "Training Epoch 1059: 100%|██████████| 259/259 [00:07<00:00, 34.15it/s]\n",
      "Training Epoch 1060: 100%|██████████| 259/259 [00:07<00:00, 32.62it/s]\n",
      "Training Epoch 1061: 100%|██████████| 259/259 [00:08<00:00, 31.85it/s]\n"
     ]
    },
    {
     "name": "stdout",
     "output_type": "stream",
     "text": [
      "Epoch 1060 - Train Loss: 0.0511, Train MSE: 0.0512, Train MAE: 0.1577\n",
      "Epoch 1060 - Validation Loss: 2.3087, Validation MSE: 2.3023, Validation MAE: 1.1639\n"
     ]
    },
    {
     "name": "stderr",
     "output_type": "stream",
     "text": [
      "Training Epoch 1062: 100%|██████████| 259/259 [00:08<00:00, 32.21it/s]\n",
      "Training Epoch 1063: 100%|██████████| 259/259 [00:08<00:00, 30.63it/s]\n",
      "Training Epoch 1064: 100%|██████████| 259/259 [00:08<00:00, 30.05it/s]\n",
      "Training Epoch 1065: 100%|██████████| 259/259 [00:08<00:00, 29.86it/s]\n",
      "Training Epoch 1066: 100%|██████████| 259/259 [00:08<00:00, 32.25it/s]\n",
      "Training Epoch 1067: 100%|██████████| 259/259 [00:07<00:00, 32.89it/s]\n",
      "Training Epoch 1068: 100%|██████████| 259/259 [00:08<00:00, 32.29it/s]\n",
      "Training Epoch 1069: 100%|██████████| 259/259 [00:08<00:00, 31.73it/s]\n",
      "Training Epoch 1070: 100%|██████████| 259/259 [00:08<00:00, 29.99it/s]\n",
      "Training Epoch 1071: 100%|██████████| 259/259 [00:08<00:00, 31.39it/s]\n"
     ]
    },
    {
     "name": "stdout",
     "output_type": "stream",
     "text": [
      "Epoch 1070 - Train Loss: 0.0566, Train MSE: 0.0566, Train MAE: 0.1632\n",
      "Epoch 1070 - Validation Loss: 2.3051, Validation MSE: 2.3000, Validation MAE: 1.1689\n"
     ]
    },
    {
     "name": "stderr",
     "output_type": "stream",
     "text": [
      "Training Epoch 1072: 100%|██████████| 259/259 [00:07<00:00, 32.39it/s]\n",
      "Training Epoch 1073: 100%|██████████| 259/259 [00:08<00:00, 31.32it/s]\n",
      "Training Epoch 1074: 100%|██████████| 259/259 [00:07<00:00, 32.76it/s]\n",
      "Training Epoch 1075: 100%|██████████| 259/259 [00:08<00:00, 31.02it/s]\n",
      "Training Epoch 1076: 100%|██████████| 259/259 [00:07<00:00, 33.32it/s]\n",
      "Training Epoch 1077: 100%|██████████| 259/259 [00:08<00:00, 29.44it/s]\n",
      "Training Epoch 1078: 100%|██████████| 259/259 [00:08<00:00, 30.59it/s]\n",
      "Training Epoch 1079: 100%|██████████| 259/259 [00:08<00:00, 31.34it/s]\n",
      "Training Epoch 1080: 100%|██████████| 259/259 [00:08<00:00, 31.74it/s]\n",
      "Training Epoch 1081: 100%|██████████| 259/259 [00:08<00:00, 31.62it/s]\n"
     ]
    },
    {
     "name": "stdout",
     "output_type": "stream",
     "text": [
      "Epoch 1080 - Train Loss: 0.0489, Train MSE: 0.0489, Train MAE: 0.1537\n",
      "Epoch 1080 - Validation Loss: 2.3032, Validation MSE: 2.2963, Validation MAE: 1.1638\n"
     ]
    },
    {
     "name": "stderr",
     "output_type": "stream",
     "text": [
      "Training Epoch 1082: 100%|██████████| 259/259 [00:08<00:00, 31.41it/s]\n",
      "Training Epoch 1083: 100%|██████████| 259/259 [00:08<00:00, 31.43it/s]\n",
      "Training Epoch 1084: 100%|██████████| 259/259 [00:08<00:00, 31.15it/s]\n",
      "Training Epoch 1085: 100%|██████████| 259/259 [00:08<00:00, 30.32it/s]\n",
      "Training Epoch 1086: 100%|██████████| 259/259 [00:08<00:00, 31.93it/s]\n",
      "Training Epoch 1087: 100%|██████████| 259/259 [00:08<00:00, 32.27it/s]\n",
      "Training Epoch 1088: 100%|██████████| 259/259 [00:08<00:00, 31.59it/s]\n",
      "Training Epoch 1089: 100%|██████████| 259/259 [00:08<00:00, 31.21it/s]\n",
      "Training Epoch 1090: 100%|██████████| 259/259 [00:08<00:00, 31.44it/s]\n",
      "Training Epoch 1091: 100%|██████████| 259/259 [15:19<00:00,  3.55s/it]\n"
     ]
    },
    {
     "name": "stdout",
     "output_type": "stream",
     "text": [
      "Epoch 1090 - Train Loss: 0.0510, Train MSE: 0.0510, Train MAE: 0.1570\n",
      "Epoch 1090 - Validation Loss: 2.2419, Validation MSE: 2.2363, Validation MAE: 1.1482\n"
     ]
    },
    {
     "name": "stderr",
     "output_type": "stream",
     "text": [
      "Training Epoch 1092: 100%|██████████| 259/259 [00:08<00:00, 30.76it/s]\n",
      "Training Epoch 1093: 100%|██████████| 259/259 [00:08<00:00, 30.59it/s]\n",
      "Training Epoch 1094: 100%|██████████| 259/259 [00:08<00:00, 31.00it/s]\n",
      "Training Epoch 1095: 100%|██████████| 259/259 [00:08<00:00, 32.31it/s]\n",
      "Training Epoch 1096: 100%|██████████| 259/259 [00:08<00:00, 31.47it/s]\n",
      "Training Epoch 1097: 100%|██████████| 259/259 [15:35<00:00,  3.61s/it]\n",
      "Training Epoch 1098: 100%|██████████| 259/259 [00:07<00:00, 33.43it/s]\n",
      "Training Epoch 1099: 100%|██████████| 259/259 [00:08<00:00, 31.57it/s]\n",
      "Training Epoch 1100: 100%|██████████| 259/259 [00:07<00:00, 33.03it/s]\n",
      "Training Epoch 1101: 100%|██████████| 259/259 [00:07<00:00, 33.31it/s]\n"
     ]
    },
    {
     "name": "stdout",
     "output_type": "stream",
     "text": [
      "Epoch 1100 - Train Loss: 0.0504, Train MSE: 0.0504, Train MAE: 0.1576\n",
      "Epoch 1100 - Validation Loss: 2.3071, Validation MSE: 2.3001, Validation MAE: 1.1672\n"
     ]
    },
    {
     "name": "stderr",
     "output_type": "stream",
     "text": [
      "Training Epoch 1102: 100%|██████████| 259/259 [00:08<00:00, 32.15it/s]\n",
      "Training Epoch 1103: 100%|██████████| 259/259 [16:35<00:00,  3.84s/it]  \n",
      "Training Epoch 1104: 100%|██████████| 259/259 [00:07<00:00, 33.95it/s]\n",
      "Training Epoch 1105: 100%|██████████| 259/259 [00:07<00:00, 35.39it/s]\n",
      "Training Epoch 1106: 100%|██████████| 259/259 [00:07<00:00, 34.46it/s]\n",
      "Training Epoch 1107: 100%|██████████| 259/259 [00:07<00:00, 32.91it/s]\n",
      "Training Epoch 1108: 100%|██████████| 259/259 [00:07<00:00, 32.96it/s]\n",
      "Training Epoch 1109: 100%|██████████| 259/259 [00:07<00:00, 32.47it/s]\n",
      "Training Epoch 1110: 100%|██████████| 259/259 [00:08<00:00, 32.19it/s]\n",
      "Training Epoch 1111: 100%|██████████| 259/259 [02:20<00:00,  1.85it/s]\n"
     ]
    },
    {
     "name": "stdout",
     "output_type": "stream",
     "text": [
      "Epoch 1110 - Train Loss: 0.0518, Train MSE: 0.0518, Train MAE: 0.1565\n",
      "Epoch 1110 - Validation Loss: 2.2694, Validation MSE: 2.2630, Validation MAE: 1.1577\n"
     ]
    },
    {
     "name": "stderr",
     "output_type": "stream",
     "text": [
      "Training Epoch 1112: 100%|██████████| 259/259 [00:06<00:00, 42.81it/s]\n",
      "Training Epoch 1113: 100%|██████████| 259/259 [00:05<00:00, 44.62it/s]\n",
      "Training Epoch 1114: 100%|██████████| 259/259 [00:05<00:00, 45.72it/s]\n",
      "Training Epoch 1115: 100%|██████████| 259/259 [00:05<00:00, 45.54it/s]\n",
      "Training Epoch 1116: 100%|██████████| 259/259 [00:05<00:00, 46.15it/s]\n",
      "Training Epoch 1117: 100%|██████████| 259/259 [00:05<00:00, 46.29it/s]\n",
      "Training Epoch 1118: 100%|██████████| 259/259 [00:05<00:00, 47.14it/s]\n",
      "Training Epoch 1119: 100%|██████████| 259/259 [00:05<00:00, 44.35it/s]\n",
      "Training Epoch 1120: 100%|██████████| 259/259 [00:05<00:00, 43.68it/s]\n",
      "Training Epoch 1121: 100%|██████████| 259/259 [00:05<00:00, 45.98it/s]\n"
     ]
    },
    {
     "name": "stdout",
     "output_type": "stream",
     "text": [
      "Epoch 1120 - Train Loss: 0.0552, Train MSE: 0.0553, Train MAE: 0.1585\n",
      "Epoch 1120 - Validation Loss: 2.2127, Validation MSE: 2.2066, Validation MAE: 1.1423\n"
     ]
    },
    {
     "name": "stderr",
     "output_type": "stream",
     "text": [
      "Training Epoch 1122: 100%|██████████| 259/259 [00:05<00:00, 46.29it/s]\n",
      "Training Epoch 1123: 100%|██████████| 259/259 [00:05<00:00, 47.08it/s]\n",
      "Training Epoch 1124: 100%|██████████| 259/259 [00:05<00:00, 44.84it/s]\n",
      "Training Epoch 1125: 100%|██████████| 259/259 [00:05<00:00, 44.83it/s]\n",
      "Training Epoch 1126: 100%|██████████| 259/259 [00:05<00:00, 45.62it/s]\n",
      "Training Epoch 1127: 100%|██████████| 259/259 [00:05<00:00, 45.64it/s]\n",
      "Training Epoch 1128: 100%|██████████| 259/259 [00:06<00:00, 42.49it/s]\n",
      "Training Epoch 1129: 100%|██████████| 259/259 [00:06<00:00, 42.00it/s]\n",
      "Training Epoch 1130: 100%|██████████| 259/259 [00:06<00:00, 43.14it/s]\n",
      "Training Epoch 1131: 100%|██████████| 259/259 [00:07<00:00, 35.69it/s]\n"
     ]
    },
    {
     "name": "stdout",
     "output_type": "stream",
     "text": [
      "Epoch 1130 - Train Loss: 0.0483, Train MSE: 0.0482, Train MAE: 0.1514\n",
      "Epoch 1130 - Validation Loss: 2.2772, Validation MSE: 2.2697, Validation MAE: 1.1553\n"
     ]
    },
    {
     "name": "stderr",
     "output_type": "stream",
     "text": [
      "Training Epoch 1132: 100%|██████████| 259/259 [00:06<00:00, 41.11it/s]\n",
      "Training Epoch 1133: 100%|██████████| 259/259 [00:06<00:00, 38.78it/s]\n",
      "Training Epoch 1134: 100%|██████████| 259/259 [00:05<00:00, 44.53it/s]\n",
      "Training Epoch 1135: 100%|██████████| 259/259 [00:06<00:00, 41.28it/s]\n",
      "Training Epoch 1136: 100%|██████████| 259/259 [00:06<00:00, 41.84it/s]\n",
      "Training Epoch 1137: 100%|██████████| 259/259 [00:06<00:00, 42.53it/s]\n",
      "Training Epoch 1138: 100%|██████████| 259/259 [00:05<00:00, 45.11it/s]\n",
      "Training Epoch 1139: 100%|██████████| 259/259 [00:06<00:00, 42.25it/s]\n",
      "Training Epoch 1140: 100%|██████████| 259/259 [00:05<00:00, 43.54it/s]\n",
      "Training Epoch 1141: 100%|██████████| 259/259 [00:05<00:00, 44.59it/s]\n"
     ]
    },
    {
     "name": "stdout",
     "output_type": "stream",
     "text": [
      "Epoch 1140 - Train Loss: 0.0519, Train MSE: 0.0519, Train MAE: 0.1561\n",
      "Epoch 1140 - Validation Loss: 2.2893, Validation MSE: 2.2839, Validation MAE: 1.1560\n"
     ]
    },
    {
     "name": "stderr",
     "output_type": "stream",
     "text": [
      "Training Epoch 1142: 100%|██████████| 259/259 [00:06<00:00, 42.56it/s]\n",
      "Training Epoch 1143: 100%|██████████| 259/259 [00:06<00:00, 42.38it/s]\n",
      "Training Epoch 1144: 100%|██████████| 259/259 [00:05<00:00, 43.31it/s]\n",
      "Training Epoch 1145: 100%|██████████| 259/259 [00:05<00:00, 44.20it/s]\n",
      "Training Epoch 1146: 100%|██████████| 259/259 [00:05<00:00, 47.33it/s]\n",
      "Training Epoch 1147: 100%|██████████| 259/259 [00:06<00:00, 41.12it/s]\n",
      "Training Epoch 1148: 100%|██████████| 259/259 [00:06<00:00, 43.15it/s]\n",
      "Training Epoch 1149: 100%|██████████| 259/259 [00:06<00:00, 37.97it/s]\n",
      "Training Epoch 1150: 100%|██████████| 259/259 [00:06<00:00, 42.15it/s]\n",
      "Training Epoch 1151: 100%|██████████| 259/259 [00:05<00:00, 43.59it/s]\n"
     ]
    },
    {
     "name": "stdout",
     "output_type": "stream",
     "text": [
      "Epoch 1150 - Train Loss: 0.0481, Train MSE: 0.0482, Train MAE: 0.1521\n",
      "Epoch 1150 - Validation Loss: 2.2204, Validation MSE: 2.2149, Validation MAE: 1.1453\n"
     ]
    },
    {
     "name": "stderr",
     "output_type": "stream",
     "text": [
      "Training Epoch 1152: 100%|██████████| 259/259 [00:05<00:00, 44.34it/s]\n",
      "Training Epoch 1153: 100%|██████████| 259/259 [00:05<00:00, 43.73it/s]\n",
      "Training Epoch 1154: 100%|██████████| 259/259 [00:05<00:00, 44.96it/s]\n",
      "Training Epoch 1155: 100%|██████████| 259/259 [00:05<00:00, 44.83it/s]\n",
      "Training Epoch 1156: 100%|██████████| 259/259 [00:05<00:00, 44.27it/s]\n",
      "Training Epoch 1157: 100%|██████████| 259/259 [00:05<00:00, 44.12it/s]\n",
      "Training Epoch 1158: 100%|██████████| 259/259 [00:06<00:00, 42.26it/s]\n",
      "Training Epoch 1159: 100%|██████████| 259/259 [00:05<00:00, 44.76it/s]\n",
      "Training Epoch 1160: 100%|██████████| 259/259 [00:05<00:00, 43.59it/s]\n",
      "Training Epoch 1161: 100%|██████████| 259/259 [00:06<00:00, 40.58it/s]\n"
     ]
    },
    {
     "name": "stdout",
     "output_type": "stream",
     "text": [
      "Epoch 1160 - Train Loss: 0.0512, Train MSE: 0.0512, Train MAE: 0.1553\n",
      "Epoch 1160 - Validation Loss: 2.3201, Validation MSE: 2.3117, Validation MAE: 1.1682\n"
     ]
    },
    {
     "name": "stderr",
     "output_type": "stream",
     "text": [
      "Training Epoch 1162: 100%|██████████| 259/259 [00:06<00:00, 39.26it/s]\n",
      "Training Epoch 1163: 100%|██████████| 259/259 [00:06<00:00, 39.58it/s]\n",
      "Training Epoch 1164: 100%|██████████| 259/259 [00:06<00:00, 37.50it/s]\n",
      "Training Epoch 1165: 100%|██████████| 259/259 [00:06<00:00, 40.12it/s]\n",
      "Training Epoch 1166: 100%|██████████| 259/259 [00:06<00:00, 42.61it/s]\n",
      "Training Epoch 1167: 100%|██████████| 259/259 [00:05<00:00, 46.62it/s]\n",
      "Training Epoch 1168: 100%|██████████| 259/259 [00:06<00:00, 41.42it/s]\n",
      "Training Epoch 1169: 100%|██████████| 259/259 [00:06<00:00, 42.80it/s]\n",
      "Training Epoch 1170: 100%|██████████| 259/259 [00:06<00:00, 42.13it/s]\n",
      "Training Epoch 1171: 100%|██████████| 259/259 [00:05<00:00, 45.62it/s]\n"
     ]
    },
    {
     "name": "stdout",
     "output_type": "stream",
     "text": [
      "Epoch 1170 - Train Loss: 0.0516, Train MSE: 0.0516, Train MAE: 0.1536\n",
      "Epoch 1170 - Validation Loss: 2.2518, Validation MSE: 2.2445, Validation MAE: 1.1536\n"
     ]
    },
    {
     "name": "stderr",
     "output_type": "stream",
     "text": [
      "Training Epoch 1172: 100%|██████████| 259/259 [00:05<00:00, 44.41it/s]\n",
      "Training Epoch 1173: 100%|██████████| 259/259 [00:05<00:00, 45.62it/s]\n",
      "Training Epoch 1174: 100%|██████████| 259/259 [00:05<00:00, 46.00it/s]\n",
      "Training Epoch 1175: 100%|██████████| 259/259 [00:06<00:00, 42.17it/s]\n",
      "Training Epoch 1176: 100%|██████████| 259/259 [00:05<00:00, 45.43it/s]\n",
      "Training Epoch 1177: 100%|██████████| 259/259 [00:06<00:00, 38.44it/s]\n",
      "Training Epoch 1178: 100%|██████████| 259/259 [00:06<00:00, 39.82it/s]\n",
      "Training Epoch 1179: 100%|██████████| 259/259 [00:05<00:00, 44.34it/s]\n",
      "Training Epoch 1180: 100%|██████████| 259/259 [00:05<00:00, 43.37it/s]\n",
      "Training Epoch 1181: 100%|██████████| 259/259 [00:06<00:00, 37.78it/s]\n"
     ]
    },
    {
     "name": "stdout",
     "output_type": "stream",
     "text": [
      "Epoch 1180 - Train Loss: 0.0478, Train MSE: 0.0478, Train MAE: 0.1510\n",
      "Epoch 1180 - Validation Loss: 2.2651, Validation MSE: 2.2588, Validation MAE: 1.1564\n"
     ]
    },
    {
     "name": "stderr",
     "output_type": "stream",
     "text": [
      "Training Epoch 1182: 100%|██████████| 259/259 [00:06<00:00, 41.59it/s]\n",
      "Training Epoch 1183: 100%|██████████| 259/259 [00:05<00:00, 45.87it/s]\n",
      "Training Epoch 1184: 100%|██████████| 259/259 [00:05<00:00, 45.13it/s]\n",
      "Training Epoch 1185: 100%|██████████| 259/259 [00:05<00:00, 44.18it/s]\n",
      "Training Epoch 1186: 100%|██████████| 259/259 [00:05<00:00, 47.28it/s]\n",
      "Training Epoch 1187: 100%|██████████| 259/259 [00:05<00:00, 43.71it/s]\n",
      "Training Epoch 1188: 100%|██████████| 259/259 [00:05<00:00, 46.22it/s]\n",
      "Training Epoch 1189: 100%|██████████| 259/259 [00:05<00:00, 45.22it/s]\n",
      "Training Epoch 1190: 100%|██████████| 259/259 [00:05<00:00, 46.48it/s]\n",
      "Training Epoch 1191: 100%|██████████| 259/259 [00:05<00:00, 46.54it/s]\n"
     ]
    },
    {
     "name": "stdout",
     "output_type": "stream",
     "text": [
      "Epoch 1190 - Train Loss: 0.0500, Train MSE: 0.0501, Train MAE: 0.1541\n",
      "Epoch 1190 - Validation Loss: 2.2419, Validation MSE: 2.2355, Validation MAE: 1.1529\n"
     ]
    },
    {
     "name": "stderr",
     "output_type": "stream",
     "text": [
      "Training Epoch 1192: 100%|██████████| 259/259 [00:05<00:00, 47.27it/s]\n",
      "Training Epoch 1193: 100%|██████████| 259/259 [00:05<00:00, 46.99it/s]\n",
      "Training Epoch 1194: 100%|██████████| 259/259 [00:05<00:00, 46.75it/s]\n",
      "Training Epoch 1195: 100%|██████████| 259/259 [00:05<00:00, 47.00it/s]\n",
      "Training Epoch 1196: 100%|██████████| 259/259 [00:05<00:00, 46.21it/s]\n",
      "Training Epoch 1197: 100%|██████████| 259/259 [00:05<00:00, 46.84it/s]\n",
      "Training Epoch 1198: 100%|██████████| 259/259 [00:05<00:00, 44.52it/s]\n",
      "Training Epoch 1199: 100%|██████████| 259/259 [00:05<00:00, 45.07it/s]\n",
      "Training Epoch 1200: 100%|██████████| 259/259 [00:05<00:00, 43.38it/s]\n",
      "Training Epoch 1201: 100%|██████████| 259/259 [00:05<00:00, 45.70it/s]\n"
     ]
    },
    {
     "name": "stdout",
     "output_type": "stream",
     "text": [
      "Epoch 1200 - Train Loss: 0.0483, Train MSE: 0.0483, Train MAE: 0.1507\n",
      "Epoch 1200 - Validation Loss: 2.2866, Validation MSE: 2.2801, Validation MAE: 1.1590\n"
     ]
    },
    {
     "name": "stderr",
     "output_type": "stream",
     "text": [
      "Training Epoch 1202: 100%|██████████| 259/259 [00:05<00:00, 45.81it/s]\n",
      "Training Epoch 1203: 100%|██████████| 259/259 [00:05<00:00, 47.06it/s]\n",
      "Training Epoch 1204: 100%|██████████| 259/259 [00:05<00:00, 47.58it/s]\n",
      "Training Epoch 1205: 100%|██████████| 259/259 [00:05<00:00, 44.18it/s]\n",
      "Training Epoch 1206: 100%|██████████| 259/259 [00:06<00:00, 42.12it/s]\n",
      "Training Epoch 1207: 100%|██████████| 259/259 [00:06<00:00, 41.96it/s]\n",
      "Training Epoch 1208: 100%|██████████| 259/259 [00:06<00:00, 39.96it/s]\n",
      "Training Epoch 1209: 100%|██████████| 259/259 [00:06<00:00, 40.80it/s]\n",
      "Training Epoch 1210: 100%|██████████| 259/259 [00:06<00:00, 39.70it/s]\n",
      "Training Epoch 1211: 100%|██████████| 259/259 [00:06<00:00, 42.88it/s]\n"
     ]
    },
    {
     "name": "stdout",
     "output_type": "stream",
     "text": [
      "Epoch 1210 - Train Loss: 0.0481, Train MSE: 0.0481, Train MAE: 0.1520\n",
      "Epoch 1210 - Validation Loss: 2.2236, Validation MSE: 2.2162, Validation MAE: 1.1473\n"
     ]
    },
    {
     "name": "stderr",
     "output_type": "stream",
     "text": [
      "Training Epoch 1212: 100%|██████████| 259/259 [00:06<00:00, 42.83it/s]\n",
      "Training Epoch 1213: 100%|██████████| 259/259 [00:05<00:00, 46.55it/s]\n",
      "Training Epoch 1214: 100%|██████████| 259/259 [00:05<00:00, 45.48it/s]\n",
      "Training Epoch 1215: 100%|██████████| 259/259 [00:05<00:00, 43.47it/s]\n",
      "Training Epoch 1216: 100%|██████████| 259/259 [00:05<00:00, 43.31it/s]\n",
      "Training Epoch 1217: 100%|██████████| 259/259 [00:06<00:00, 41.69it/s]\n",
      "Training Epoch 1218: 100%|██████████| 259/259 [00:05<00:00, 44.46it/s]\n",
      "Training Epoch 1219: 100%|██████████| 259/259 [00:05<00:00, 44.81it/s]\n",
      "Training Epoch 1220: 100%|██████████| 259/259 [00:05<00:00, 44.93it/s]\n",
      "Training Epoch 1221: 100%|██████████| 259/259 [00:06<00:00, 43.03it/s]\n"
     ]
    },
    {
     "name": "stdout",
     "output_type": "stream",
     "text": [
      "Epoch 1220 - Train Loss: 0.0483, Train MSE: 0.0483, Train MAE: 0.1523\n",
      "Epoch 1220 - Validation Loss: 2.3186, Validation MSE: 2.3106, Validation MAE: 1.1642\n"
     ]
    },
    {
     "name": "stderr",
     "output_type": "stream",
     "text": [
      "Training Epoch 1222: 100%|██████████| 259/259 [00:05<00:00, 45.42it/s]\n",
      "Training Epoch 1223: 100%|██████████| 259/259 [00:05<00:00, 43.77it/s]\n",
      "Training Epoch 1224: 100%|██████████| 259/259 [00:05<00:00, 44.78it/s]\n",
      "Training Epoch 1225: 100%|██████████| 259/259 [00:05<00:00, 44.32it/s]\n",
      "Training Epoch 1226: 100%|██████████| 259/259 [00:05<00:00, 45.19it/s]\n",
      "Training Epoch 1227: 100%|██████████| 259/259 [00:05<00:00, 45.19it/s]\n",
      "Training Epoch 1228: 100%|██████████| 259/259 [00:05<00:00, 44.27it/s]\n",
      "Training Epoch 1229: 100%|██████████| 259/259 [00:05<00:00, 43.84it/s]\n",
      "Training Epoch 1230: 100%|██████████| 259/259 [00:05<00:00, 46.04it/s]\n",
      "Training Epoch 1231: 100%|██████████| 259/259 [00:05<00:00, 44.96it/s]\n"
     ]
    },
    {
     "name": "stdout",
     "output_type": "stream",
     "text": [
      "Epoch 1230 - Train Loss: 0.0492, Train MSE: 0.0492, Train MAE: 0.1532\n",
      "Epoch 1230 - Validation Loss: 2.3056, Validation MSE: 2.2974, Validation MAE: 1.1645\n"
     ]
    },
    {
     "name": "stderr",
     "output_type": "stream",
     "text": [
      "Training Epoch 1232: 100%|██████████| 259/259 [00:05<00:00, 44.84it/s]\n",
      "Training Epoch 1233: 100%|██████████| 259/259 [00:05<00:00, 44.53it/s]\n",
      "Training Epoch 1234: 100%|██████████| 259/259 [00:05<00:00, 45.23it/s]\n",
      "Training Epoch 1235: 100%|██████████| 259/259 [00:05<00:00, 45.31it/s]\n",
      "Training Epoch 1236: 100%|██████████| 259/259 [00:05<00:00, 45.01it/s]\n",
      "Training Epoch 1237: 100%|██████████| 259/259 [00:06<00:00, 41.56it/s]\n",
      "Training Epoch 1238: 100%|██████████| 259/259 [00:06<00:00, 41.66it/s]\n",
      "Training Epoch 1239: 100%|██████████| 259/259 [00:05<00:00, 44.45it/s]\n",
      "Training Epoch 1240: 100%|██████████| 259/259 [00:05<00:00, 44.87it/s]\n",
      "Training Epoch 1241: 100%|██████████| 259/259 [00:05<00:00, 43.74it/s]\n"
     ]
    },
    {
     "name": "stdout",
     "output_type": "stream",
     "text": [
      "Epoch 1240 - Train Loss: 0.0495, Train MSE: 0.0495, Train MAE: 0.1519\n",
      "Epoch 1240 - Validation Loss: 2.2481, Validation MSE: 2.2410, Validation MAE: 1.1558\n"
     ]
    },
    {
     "name": "stderr",
     "output_type": "stream",
     "text": [
      "Training Epoch 1242: 100%|██████████| 259/259 [00:05<00:00, 45.28it/s]\n",
      "Training Epoch 1243: 100%|██████████| 259/259 [00:05<00:00, 43.87it/s]\n",
      "Training Epoch 1244: 100%|██████████| 259/259 [00:05<00:00, 44.78it/s]\n",
      "Training Epoch 1245: 100%|██████████| 259/259 [00:06<00:00, 42.20it/s]\n",
      "Training Epoch 1246: 100%|██████████| 259/259 [00:05<00:00, 44.74it/s]\n",
      "Training Epoch 1247: 100%|██████████| 259/259 [00:05<00:00, 43.44it/s]\n",
      "Training Epoch 1248: 100%|██████████| 259/259 [00:05<00:00, 45.45it/s]\n",
      "Training Epoch 1249: 100%|██████████| 259/259 [00:05<00:00, 44.39it/s]\n",
      "Training Epoch 1250: 100%|██████████| 259/259 [00:05<00:00, 43.64it/s]\n",
      "Training Epoch 1251: 100%|██████████| 259/259 [00:05<00:00, 44.91it/s]\n"
     ]
    },
    {
     "name": "stdout",
     "output_type": "stream",
     "text": [
      "Epoch 1250 - Train Loss: 0.0484, Train MSE: 0.0485, Train MAE: 0.1500\n",
      "Epoch 1250 - Validation Loss: 2.2848, Validation MSE: 2.2782, Validation MAE: 1.1629\n"
     ]
    },
    {
     "name": "stderr",
     "output_type": "stream",
     "text": [
      "Training Epoch 1252: 100%|██████████| 259/259 [00:06<00:00, 43.08it/s]\n",
      "Training Epoch 1253: 100%|██████████| 259/259 [00:05<00:00, 45.24it/s]\n",
      "Training Epoch 1254: 100%|██████████| 259/259 [00:05<00:00, 43.87it/s]\n",
      "Training Epoch 1255: 100%|██████████| 259/259 [00:05<00:00, 45.45it/s]\n",
      "Training Epoch 1256: 100%|██████████| 259/259 [00:06<00:00, 41.28it/s]\n",
      "Training Epoch 1257: 100%|██████████| 259/259 [00:06<00:00, 41.03it/s]\n",
      "Training Epoch 1258: 100%|██████████| 259/259 [00:05<00:00, 44.31it/s]\n",
      "Training Epoch 1259: 100%|██████████| 259/259 [00:05<00:00, 44.46it/s]\n",
      "Training Epoch 1260: 100%|██████████| 259/259 [00:05<00:00, 44.79it/s]\n",
      "Training Epoch 1261: 100%|██████████| 259/259 [00:05<00:00, 45.70it/s]\n"
     ]
    },
    {
     "name": "stdout",
     "output_type": "stream",
     "text": [
      "Epoch 1260 - Train Loss: 0.0508, Train MSE: 0.0508, Train MAE: 0.1536\n",
      "Epoch 1260 - Validation Loss: 2.2964, Validation MSE: 2.2882, Validation MAE: 1.1657\n"
     ]
    },
    {
     "name": "stderr",
     "output_type": "stream",
     "text": [
      "Training Epoch 1262: 100%|██████████| 259/259 [00:06<00:00, 43.13it/s]\n",
      "Training Epoch 1263: 100%|██████████| 259/259 [00:05<00:00, 45.42it/s]\n",
      "Training Epoch 1264: 100%|██████████| 259/259 [00:05<00:00, 45.83it/s]\n",
      "Training Epoch 1265: 100%|██████████| 259/259 [00:05<00:00, 44.68it/s]\n",
      "Training Epoch 1266: 100%|██████████| 259/259 [00:05<00:00, 45.06it/s]\n",
      "Training Epoch 1267: 100%|██████████| 259/259 [00:05<00:00, 44.22it/s]\n",
      "Training Epoch 1268: 100%|██████████| 259/259 [00:05<00:00, 43.78it/s]\n",
      "Training Epoch 1269: 100%|██████████| 259/259 [00:05<00:00, 43.58it/s]\n",
      "Training Epoch 1270: 100%|██████████| 259/259 [00:05<00:00, 43.87it/s]\n",
      "Training Epoch 1271: 100%|██████████| 259/259 [00:05<00:00, 44.51it/s]\n"
     ]
    },
    {
     "name": "stdout",
     "output_type": "stream",
     "text": [
      "Epoch 1270 - Train Loss: 0.0528, Train MSE: 0.0527, Train MAE: 0.1554\n",
      "Epoch 1270 - Validation Loss: 2.2152, Validation MSE: 2.2101, Validation MAE: 1.1406\n"
     ]
    },
    {
     "name": "stderr",
     "output_type": "stream",
     "text": [
      "Training Epoch 1272: 100%|██████████| 259/259 [00:05<00:00, 44.09it/s]\n",
      "Training Epoch 1273: 100%|██████████| 259/259 [00:05<00:00, 46.01it/s]\n",
      "Training Epoch 1274: 100%|██████████| 259/259 [00:05<00:00, 44.18it/s]\n",
      "Training Epoch 1275: 100%|██████████| 259/259 [00:05<00:00, 45.31it/s]\n",
      "Training Epoch 1276: 100%|██████████| 259/259 [00:05<00:00, 43.70it/s]\n",
      "Training Epoch 1277: 100%|██████████| 259/259 [00:05<00:00, 44.76it/s]\n",
      "Training Epoch 1278: 100%|██████████| 259/259 [00:05<00:00, 45.14it/s]\n",
      "Training Epoch 1279: 100%|██████████| 259/259 [00:05<00:00, 43.42it/s]\n",
      "Training Epoch 1280: 100%|██████████| 259/259 [00:05<00:00, 44.77it/s]\n",
      "Training Epoch 1281: 100%|██████████| 259/259 [00:05<00:00, 45.07it/s]\n"
     ]
    },
    {
     "name": "stdout",
     "output_type": "stream",
     "text": [
      "Epoch 1280 - Train Loss: 0.0490, Train MSE: 0.0490, Train MAE: 0.1513\n",
      "Epoch 1280 - Validation Loss: 2.2456, Validation MSE: 2.2390, Validation MAE: 1.1487\n"
     ]
    },
    {
     "name": "stderr",
     "output_type": "stream",
     "text": [
      "Training Epoch 1282: 100%|██████████| 259/259 [00:05<00:00, 45.61it/s]\n",
      "Training Epoch 1283: 100%|██████████| 259/259 [00:05<00:00, 45.80it/s]\n",
      "Training Epoch 1284: 100%|██████████| 259/259 [00:05<00:00, 45.05it/s]\n",
      "Training Epoch 1285: 100%|██████████| 259/259 [00:05<00:00, 46.73it/s]\n",
      "Training Epoch 1286: 100%|██████████| 259/259 [00:06<00:00, 42.31it/s]\n",
      "Training Epoch 1287: 100%|██████████| 259/259 [00:05<00:00, 46.85it/s]\n",
      "Training Epoch 1288: 100%|██████████| 259/259 [00:05<00:00, 44.26it/s]\n",
      "Training Epoch 1289: 100%|██████████| 259/259 [00:05<00:00, 43.78it/s]\n",
      "Training Epoch 1290: 100%|██████████| 259/259 [00:05<00:00, 43.98it/s]\n",
      "Training Epoch 1291: 100%|██████████| 259/259 [00:05<00:00, 44.84it/s]\n"
     ]
    },
    {
     "name": "stdout",
     "output_type": "stream",
     "text": [
      "Epoch 1290 - Train Loss: 0.0466, Train MSE: 0.0466, Train MAE: 0.1484\n",
      "Epoch 1290 - Validation Loss: 2.2845, Validation MSE: 2.2784, Validation MAE: 1.1603\n"
     ]
    },
    {
     "name": "stderr",
     "output_type": "stream",
     "text": [
      "Training Epoch 1292: 100%|██████████| 259/259 [00:05<00:00, 45.36it/s]\n",
      "Training Epoch 1293: 100%|██████████| 259/259 [00:05<00:00, 44.11it/s]\n",
      "Training Epoch 1294: 100%|██████████| 259/259 [00:05<00:00, 44.57it/s]\n",
      "Training Epoch 1295: 100%|██████████| 259/259 [00:05<00:00, 45.13it/s]\n",
      "Training Epoch 1296: 100%|██████████| 259/259 [00:06<00:00, 42.46it/s]\n",
      "Training Epoch 1297: 100%|██████████| 259/259 [00:05<00:00, 44.22it/s]\n",
      "Training Epoch 1298: 100%|██████████| 259/259 [00:05<00:00, 46.20it/s]\n",
      "Training Epoch 1299: 100%|██████████| 259/259 [00:05<00:00, 44.04it/s]\n",
      "Training Epoch 1300: 100%|██████████| 259/259 [00:05<00:00, 45.03it/s]\n",
      "Training Epoch 1301: 100%|██████████| 259/259 [00:05<00:00, 44.60it/s]\n"
     ]
    },
    {
     "name": "stdout",
     "output_type": "stream",
     "text": [
      "Epoch 1300 - Train Loss: 0.0496, Train MSE: 0.0497, Train MAE: 0.1493\n",
      "Epoch 1300 - Validation Loss: 2.2922, Validation MSE: 2.2849, Validation MAE: 1.1601\n"
     ]
    },
    {
     "name": "stderr",
     "output_type": "stream",
     "text": [
      "Training Epoch 1302: 100%|██████████| 259/259 [00:05<00:00, 44.84it/s]\n",
      "Training Epoch 1303: 100%|██████████| 259/259 [00:05<00:00, 46.79it/s]\n",
      "Training Epoch 1304: 100%|██████████| 259/259 [00:05<00:00, 45.31it/s]\n",
      "Training Epoch 1305: 100%|██████████| 259/259 [00:05<00:00, 44.13it/s]\n",
      "Training Epoch 1306: 100%|██████████| 259/259 [00:06<00:00, 42.11it/s]\n",
      "Training Epoch 1307: 100%|██████████| 259/259 [00:05<00:00, 43.56it/s]\n",
      "Training Epoch 1308: 100%|██████████| 259/259 [00:06<00:00, 43.04it/s]\n",
      "Training Epoch 1309: 100%|██████████| 259/259 [00:05<00:00, 45.77it/s]\n",
      "Training Epoch 1310: 100%|██████████| 259/259 [00:05<00:00, 43.53it/s]\n",
      "Training Epoch 1311: 100%|██████████| 259/259 [00:05<00:00, 44.97it/s]\n"
     ]
    },
    {
     "name": "stdout",
     "output_type": "stream",
     "text": [
      "Epoch 1310 - Train Loss: 0.0506, Train MSE: 0.0505, Train MAE: 0.1524\n",
      "Epoch 1310 - Validation Loss: 2.2522, Validation MSE: 2.2449, Validation MAE: 1.1505\n"
     ]
    },
    {
     "name": "stderr",
     "output_type": "stream",
     "text": [
      "Training Epoch 1312: 100%|██████████| 259/259 [00:05<00:00, 44.48it/s]\n",
      "Training Epoch 1313: 100%|██████████| 259/259 [00:05<00:00, 44.51it/s]\n",
      "Training Epoch 1314: 100%|██████████| 259/259 [00:05<00:00, 44.55it/s]\n",
      "Training Epoch 1315: 100%|██████████| 259/259 [00:05<00:00, 43.79it/s]\n",
      "Training Epoch 1316: 100%|██████████| 259/259 [00:05<00:00, 43.77it/s]\n",
      "Training Epoch 1317: 100%|██████████| 259/259 [00:05<00:00, 44.93it/s]\n",
      "Training Epoch 1318: 100%|██████████| 259/259 [00:05<00:00, 43.21it/s]\n",
      "Training Epoch 1319: 100%|██████████| 259/259 [00:05<00:00, 45.35it/s]\n",
      "Training Epoch 1320: 100%|██████████| 259/259 [00:05<00:00, 44.76it/s]\n",
      "Training Epoch 1321: 100%|██████████| 259/259 [00:05<00:00, 43.79it/s]\n"
     ]
    },
    {
     "name": "stdout",
     "output_type": "stream",
     "text": [
      "Epoch 1320 - Train Loss: 0.0526, Train MSE: 0.0525, Train MAE: 0.1560\n",
      "Epoch 1320 - Validation Loss: 2.2715, Validation MSE: 2.2648, Validation MAE: 1.1562\n"
     ]
    },
    {
     "name": "stderr",
     "output_type": "stream",
     "text": [
      "Training Epoch 1322: 100%|██████████| 259/259 [00:05<00:00, 44.51it/s]\n",
      "Training Epoch 1323: 100%|██████████| 259/259 [00:05<00:00, 43.95it/s]\n",
      "Training Epoch 1324: 100%|██████████| 259/259 [00:05<00:00, 43.36it/s]\n",
      "Training Epoch 1325: 100%|██████████| 259/259 [00:05<00:00, 44.77it/s]\n",
      "Training Epoch 1326: 100%|██████████| 259/259 [00:05<00:00, 43.91it/s]\n",
      "Training Epoch 1327: 100%|██████████| 259/259 [00:05<00:00, 43.81it/s]\n",
      "Training Epoch 1328: 100%|██████████| 259/259 [00:05<00:00, 44.89it/s]\n",
      "Training Epoch 1329: 100%|██████████| 259/259 [00:05<00:00, 44.68it/s]\n",
      "Training Epoch 1330: 100%|██████████| 259/259 [00:05<00:00, 44.11it/s]\n",
      "Training Epoch 1331: 100%|██████████| 259/259 [00:05<00:00, 44.03it/s]\n"
     ]
    },
    {
     "name": "stdout",
     "output_type": "stream",
     "text": [
      "Epoch 1330 - Train Loss: 0.0462, Train MSE: 0.0462, Train MAE: 0.1458\n",
      "Epoch 1330 - Validation Loss: 2.2913, Validation MSE: 2.2836, Validation MAE: 1.1606\n"
     ]
    },
    {
     "name": "stderr",
     "output_type": "stream",
     "text": [
      "Training Epoch 1332: 100%|██████████| 259/259 [00:05<00:00, 46.02it/s]\n",
      "Training Epoch 1333: 100%|██████████| 259/259 [00:05<00:00, 44.27it/s]\n",
      "Training Epoch 1334: 100%|██████████| 259/259 [00:05<00:00, 45.09it/s]\n",
      "Training Epoch 1335: 100%|██████████| 259/259 [00:05<00:00, 44.13it/s]\n",
      "Training Epoch 1336: 100%|██████████| 259/259 [00:05<00:00, 43.57it/s]\n",
      "Training Epoch 1337: 100%|██████████| 259/259 [00:05<00:00, 44.23it/s]\n",
      "Training Epoch 1338: 100%|██████████| 259/259 [00:05<00:00, 45.02it/s]\n",
      "Training Epoch 1339: 100%|██████████| 259/259 [00:05<00:00, 44.60it/s]\n",
      "Training Epoch 1340: 100%|██████████| 259/259 [00:05<00:00, 44.77it/s]\n",
      "Training Epoch 1341: 100%|██████████| 259/259 [00:05<00:00, 44.66it/s]\n"
     ]
    },
    {
     "name": "stdout",
     "output_type": "stream",
     "text": [
      "Epoch 1340 - Train Loss: 0.0496, Train MSE: 0.0496, Train MAE: 0.1515\n",
      "Epoch 1340 - Validation Loss: 2.2564, Validation MSE: 2.2511, Validation MAE: 1.1529\n"
     ]
    },
    {
     "name": "stderr",
     "output_type": "stream",
     "text": [
      "Training Epoch 1342: 100%|██████████| 259/259 [00:05<00:00, 44.26it/s]\n",
      "Training Epoch 1343: 100%|██████████| 259/259 [00:05<00:00, 44.41it/s]\n",
      "Training Epoch 1344: 100%|██████████| 259/259 [00:05<00:00, 43.20it/s]\n",
      "Training Epoch 1345: 100%|██████████| 259/259 [00:05<00:00, 44.69it/s]\n",
      "Training Epoch 1346: 100%|██████████| 259/259 [00:06<00:00, 42.28it/s]\n",
      "Training Epoch 1347: 100%|██████████| 259/259 [00:06<00:00, 41.76it/s]\n",
      "Training Epoch 1348: 100%|██████████| 259/259 [00:05<00:00, 44.15it/s]\n",
      "Training Epoch 1349: 100%|██████████| 259/259 [00:05<00:00, 44.57it/s]\n",
      "Training Epoch 1350: 100%|██████████| 259/259 [00:05<00:00, 44.76it/s]\n",
      "Training Epoch 1351: 100%|██████████| 259/259 [00:05<00:00, 43.67it/s]\n"
     ]
    },
    {
     "name": "stdout",
     "output_type": "stream",
     "text": [
      "Epoch 1350 - Train Loss: 0.0476, Train MSE: 0.0477, Train MAE: 0.1493\n",
      "Epoch 1350 - Validation Loss: 2.2545, Validation MSE: 2.2476, Validation MAE: 1.1568\n"
     ]
    },
    {
     "name": "stderr",
     "output_type": "stream",
     "text": [
      "Training Epoch 1352: 100%|██████████| 259/259 [00:05<00:00, 44.90it/s]\n",
      "Training Epoch 1353: 100%|██████████| 259/259 [00:05<00:00, 44.25it/s]\n",
      "Training Epoch 1354: 100%|██████████| 259/259 [00:05<00:00, 43.75it/s]\n",
      "Training Epoch 1355: 100%|██████████| 259/259 [00:05<00:00, 44.01it/s]\n",
      "Training Epoch 1356: 100%|██████████| 259/259 [00:06<00:00, 41.99it/s]\n",
      "Training Epoch 1357: 100%|██████████| 259/259 [00:06<00:00, 43.11it/s]\n",
      "Training Epoch 1358: 100%|██████████| 259/259 [00:05<00:00, 43.73it/s]\n",
      "Training Epoch 1359: 100%|██████████| 259/259 [00:05<00:00, 44.05it/s]\n",
      "Training Epoch 1360: 100%|██████████| 259/259 [00:05<00:00, 44.36it/s]\n",
      "Training Epoch 1361: 100%|██████████| 259/259 [00:05<00:00, 44.48it/s]\n"
     ]
    },
    {
     "name": "stdout",
     "output_type": "stream",
     "text": [
      "Epoch 1360 - Train Loss: 0.0450, Train MSE: 0.0450, Train MAE: 0.1467\n",
      "Epoch 1360 - Validation Loss: 2.2760, Validation MSE: 2.2677, Validation MAE: 1.1522\n"
     ]
    },
    {
     "name": "stderr",
     "output_type": "stream",
     "text": [
      "Training Epoch 1362: 100%|██████████| 259/259 [00:05<00:00, 44.69it/s]\n",
      "Training Epoch 1363: 100%|██████████| 259/259 [00:05<00:00, 44.93it/s]\n",
      "Training Epoch 1364: 100%|██████████| 259/259 [00:05<00:00, 44.83it/s]\n",
      "Training Epoch 1365: 100%|██████████| 259/259 [00:05<00:00, 45.42it/s]\n",
      "Training Epoch 1366: 100%|██████████| 259/259 [00:06<00:00, 42.40it/s]\n",
      "Training Epoch 1367: 100%|██████████| 259/259 [00:05<00:00, 43.90it/s]\n",
      "Training Epoch 1368: 100%|██████████| 259/259 [00:06<00:00, 43.03it/s]\n",
      "Training Epoch 1369: 100%|██████████| 259/259 [00:05<00:00, 43.92it/s]\n",
      "Training Epoch 1370: 100%|██████████| 259/259 [00:05<00:00, 45.50it/s]\n",
      "Training Epoch 1371: 100%|██████████| 259/259 [00:05<00:00, 44.66it/s]\n"
     ]
    },
    {
     "name": "stdout",
     "output_type": "stream",
     "text": [
      "Epoch 1370 - Train Loss: 0.0464, Train MSE: 0.0464, Train MAE: 0.1459\n",
      "Epoch 1370 - Validation Loss: 2.2438, Validation MSE: 2.2371, Validation MAE: 1.1480\n"
     ]
    },
    {
     "name": "stderr",
     "output_type": "stream",
     "text": [
      "Training Epoch 1372: 100%|██████████| 259/259 [00:05<00:00, 45.74it/s]\n",
      "Training Epoch 1373: 100%|██████████| 259/259 [00:05<00:00, 43.56it/s]\n",
      "Training Epoch 1374: 100%|██████████| 259/259 [00:05<00:00, 44.19it/s]\n",
      "Training Epoch 1375: 100%|██████████| 259/259 [00:05<00:00, 45.66it/s]\n",
      "Training Epoch 1376: 100%|██████████| 259/259 [00:06<00:00, 42.43it/s]\n",
      "Training Epoch 1377: 100%|██████████| 259/259 [00:05<00:00, 43.79it/s]\n",
      "Training Epoch 1378: 100%|██████████| 259/259 [00:05<00:00, 45.52it/s]\n",
      "Training Epoch 1379: 100%|██████████| 259/259 [00:05<00:00, 43.51it/s]\n",
      "Training Epoch 1380: 100%|██████████| 259/259 [00:05<00:00, 44.68it/s]\n",
      "Training Epoch 1381: 100%|██████████| 259/259 [00:05<00:00, 43.69it/s]\n"
     ]
    },
    {
     "name": "stdout",
     "output_type": "stream",
     "text": [
      "Epoch 1380 - Train Loss: 0.0440, Train MSE: 0.0439, Train MAE: 0.1432\n",
      "Epoch 1380 - Validation Loss: 2.2294, Validation MSE: 2.2231, Validation MAE: 1.1428\n"
     ]
    },
    {
     "name": "stderr",
     "output_type": "stream",
     "text": [
      "Training Epoch 1382: 100%|██████████| 259/259 [00:05<00:00, 44.50it/s]\n",
      "Training Epoch 1383: 100%|██████████| 259/259 [00:05<00:00, 46.35it/s]\n",
      "Training Epoch 1384: 100%|██████████| 259/259 [00:05<00:00, 43.86it/s]\n",
      "Training Epoch 1385: 100%|██████████| 259/259 [00:05<00:00, 44.35it/s]\n",
      "Training Epoch 1386: 100%|██████████| 259/259 [00:05<00:00, 43.46it/s]\n",
      "Training Epoch 1387: 100%|██████████| 259/259 [00:05<00:00, 44.22it/s]\n",
      "Training Epoch 1388: 100%|██████████| 259/259 [00:05<00:00, 44.51it/s]\n",
      "Training Epoch 1389: 100%|██████████| 259/259 [00:05<00:00, 44.42it/s]\n",
      "Training Epoch 1390: 100%|██████████| 259/259 [00:05<00:00, 43.25it/s]\n",
      "Training Epoch 1391: 100%|██████████| 259/259 [00:05<00:00, 46.35it/s]\n"
     ]
    },
    {
     "name": "stdout",
     "output_type": "stream",
     "text": [
      "Epoch 1390 - Train Loss: 0.0506, Train MSE: 0.0507, Train MAE: 0.1494\n",
      "Epoch 1390 - Validation Loss: 2.2719, Validation MSE: 2.2652, Validation MAE: 1.1563\n"
     ]
    },
    {
     "name": "stderr",
     "output_type": "stream",
     "text": [
      "Training Epoch 1392: 100%|██████████| 259/259 [00:05<00:00, 44.36it/s]\n",
      "Training Epoch 1393: 100%|██████████| 259/259 [00:05<00:00, 45.44it/s]\n",
      "Training Epoch 1394: 100%|██████████| 259/259 [00:05<00:00, 44.85it/s]\n",
      "Training Epoch 1395: 100%|██████████| 259/259 [00:05<00:00, 45.02it/s]\n",
      "Training Epoch 1396: 100%|██████████| 259/259 [00:06<00:00, 41.18it/s]\n",
      "Training Epoch 1397: 100%|██████████| 259/259 [00:06<00:00, 43.12it/s]\n",
      "Training Epoch 1398: 100%|██████████| 259/259 [00:05<00:00, 43.23it/s]\n",
      "Training Epoch 1399: 100%|██████████| 259/259 [00:05<00:00, 43.89it/s]\n",
      "Training Epoch 1400: 100%|██████████| 259/259 [00:05<00:00, 43.57it/s]\n",
      "Training Epoch 1401: 100%|██████████| 259/259 [00:05<00:00, 44.28it/s]\n"
     ]
    },
    {
     "name": "stdout",
     "output_type": "stream",
     "text": [
      "Epoch 1400 - Train Loss: 0.0443, Train MSE: 0.0444, Train MAE: 0.1436\n",
      "Epoch 1400 - Validation Loss: 2.2263, Validation MSE: 2.2187, Validation MAE: 1.1446\n"
     ]
    },
    {
     "name": "stderr",
     "output_type": "stream",
     "text": [
      "Training Epoch 1402: 100%|██████████| 259/259 [00:05<00:00, 43.72it/s]\n",
      "Training Epoch 1403: 100%|██████████| 259/259 [00:05<00:00, 44.48it/s]\n",
      "Training Epoch 1404: 100%|██████████| 259/259 [00:05<00:00, 44.68it/s]\n",
      "Training Epoch 1405: 100%|██████████| 259/259 [00:06<00:00, 43.13it/s]\n",
      "Training Epoch 1406: 100%|██████████| 259/259 [00:05<00:00, 45.17it/s]\n",
      "Training Epoch 1407: 100%|██████████| 259/259 [00:05<00:00, 44.30it/s]\n",
      "Training Epoch 1408: 100%|██████████| 259/259 [00:06<00:00, 42.69it/s]\n",
      "Training Epoch 1409: 100%|██████████| 259/259 [00:05<00:00, 44.60it/s]\n",
      "Training Epoch 1410: 100%|██████████| 259/259 [00:05<00:00, 43.74it/s]\n",
      "Training Epoch 1411: 100%|██████████| 259/259 [00:05<00:00, 44.51it/s]\n"
     ]
    },
    {
     "name": "stdout",
     "output_type": "stream",
     "text": [
      "Epoch 1410 - Train Loss: 0.0469, Train MSE: 0.0470, Train MAE: 0.1471\n",
      "Epoch 1410 - Validation Loss: 2.2409, Validation MSE: 2.2327, Validation MAE: 1.1425\n"
     ]
    },
    {
     "name": "stderr",
     "output_type": "stream",
     "text": [
      "Training Epoch 1412: 100%|██████████| 259/259 [00:05<00:00, 44.83it/s]\n",
      "Training Epoch 1413: 100%|██████████| 259/259 [00:06<00:00, 43.12it/s]\n",
      "Training Epoch 1414: 100%|██████████| 259/259 [00:05<00:00, 45.77it/s]\n",
      "Training Epoch 1415: 100%|██████████| 259/259 [00:05<00:00, 43.53it/s]\n",
      "Training Epoch 1416: 100%|██████████| 259/259 [00:05<00:00, 43.74it/s]\n",
      "Training Epoch 1417: 100%|██████████| 259/259 [00:05<00:00, 44.19it/s]\n",
      "Training Epoch 1418: 100%|██████████| 259/259 [00:06<00:00, 42.40it/s]\n",
      "Training Epoch 1419: 100%|██████████| 259/259 [00:05<00:00, 43.69it/s]\n",
      "Training Epoch 1420: 100%|██████████| 259/259 [00:05<00:00, 44.34it/s]\n",
      "Training Epoch 1421: 100%|██████████| 259/259 [00:05<00:00, 44.59it/s]\n"
     ]
    },
    {
     "name": "stdout",
     "output_type": "stream",
     "text": [
      "Epoch 1420 - Train Loss: 0.0500, Train MSE: 0.0501, Train MAE: 0.1489\n",
      "Epoch 1420 - Validation Loss: 2.2209, Validation MSE: 2.2140, Validation MAE: 1.1446\n"
     ]
    },
    {
     "name": "stderr",
     "output_type": "stream",
     "text": [
      "Training Epoch 1422: 100%|██████████| 259/259 [00:05<00:00, 44.80it/s]\n",
      "Training Epoch 1423: 100%|██████████| 259/259 [00:05<00:00, 44.18it/s]\n",
      "Training Epoch 1424: 100%|██████████| 259/259 [00:05<00:00, 43.61it/s]\n",
      "Training Epoch 1425: 100%|██████████| 259/259 [00:06<00:00, 42.14it/s]\n",
      "Training Epoch 1426: 100%|██████████| 259/259 [00:05<00:00, 43.20it/s]\n",
      "Training Epoch 1427: 100%|██████████| 259/259 [00:05<00:00, 44.97it/s]\n",
      "Training Epoch 1428: 100%|██████████| 259/259 [00:05<00:00, 43.80it/s]\n",
      "Training Epoch 1429: 100%|██████████| 259/259 [00:05<00:00, 43.97it/s]\n",
      "Training Epoch 1430: 100%|██████████| 259/259 [00:05<00:00, 43.79it/s]\n",
      "Training Epoch 1431: 100%|██████████| 259/259 [00:05<00:00, 43.50it/s]\n"
     ]
    },
    {
     "name": "stdout",
     "output_type": "stream",
     "text": [
      "Epoch 1430 - Train Loss: 0.0493, Train MSE: 0.0493, Train MAE: 0.1494\n",
      "Epoch 1430 - Validation Loss: 2.2490, Validation MSE: 2.2429, Validation MAE: 1.1543\n"
     ]
    },
    {
     "name": "stderr",
     "output_type": "stream",
     "text": [
      "Training Epoch 1432: 100%|██████████| 259/259 [00:05<00:00, 45.63it/s]\n",
      "Training Epoch 1433: 100%|██████████| 259/259 [00:05<00:00, 44.51it/s]\n",
      "Training Epoch 1434: 100%|██████████| 259/259 [00:05<00:00, 44.38it/s]\n",
      "Training Epoch 1435: 100%|██████████| 259/259 [00:06<00:00, 42.60it/s]\n",
      "Training Epoch 1436: 100%|██████████| 259/259 [00:05<00:00, 44.68it/s]\n",
      "Training Epoch 1437: 100%|██████████| 259/259 [00:05<00:00, 44.07it/s]\n",
      "Training Epoch 1438: 100%|██████████| 259/259 [00:05<00:00, 43.81it/s]\n",
      "Training Epoch 1439: 100%|██████████| 259/259 [00:06<00:00, 42.84it/s]\n",
      "Training Epoch 1440: 100%|██████████| 259/259 [00:05<00:00, 43.68it/s]\n",
      "Training Epoch 1441: 100%|██████████| 259/259 [00:05<00:00, 44.09it/s]\n"
     ]
    },
    {
     "name": "stdout",
     "output_type": "stream",
     "text": [
      "Epoch 1440 - Train Loss: 0.0449, Train MSE: 0.0449, Train MAE: 0.1451\n",
      "Epoch 1440 - Validation Loss: 2.2167, Validation MSE: 2.2113, Validation MAE: 1.1471\n"
     ]
    },
    {
     "name": "stderr",
     "output_type": "stream",
     "text": [
      "Training Epoch 1442: 100%|██████████| 259/259 [00:05<00:00, 43.70it/s]\n",
      "Training Epoch 1443: 100%|██████████| 259/259 [00:05<00:00, 44.93it/s]\n",
      "Training Epoch 1444: 100%|██████████| 259/259 [00:05<00:00, 45.11it/s]\n",
      "Training Epoch 1445: 100%|██████████| 259/259 [00:06<00:00, 42.40it/s]\n",
      "Training Epoch 1446: 100%|██████████| 259/259 [00:05<00:00, 44.50it/s]\n",
      "Training Epoch 1447: 100%|██████████| 259/259 [00:05<00:00, 45.79it/s]\n",
      "Training Epoch 1448: 100%|██████████| 259/259 [00:05<00:00, 44.69it/s]\n",
      "Training Epoch 1449: 100%|██████████| 259/259 [00:05<00:00, 43.79it/s]\n",
      "Training Epoch 1450: 100%|██████████| 259/259 [00:05<00:00, 43.35it/s]\n",
      "Training Epoch 1451: 100%|██████████| 259/259 [00:05<00:00, 44.91it/s]\n"
     ]
    },
    {
     "name": "stdout",
     "output_type": "stream",
     "text": [
      "Epoch 1450 - Train Loss: 0.0439, Train MSE: 0.0439, Train MAE: 0.1422\n",
      "Epoch 1450 - Validation Loss: 2.2451, Validation MSE: 2.2390, Validation MAE: 1.1535\n"
     ]
    },
    {
     "name": "stderr",
     "output_type": "stream",
     "text": [
      "Training Epoch 1452: 100%|██████████| 259/259 [00:06<00:00, 43.15it/s]\n",
      "Training Epoch 1453: 100%|██████████| 259/259 [00:05<00:00, 45.34it/s]\n",
      "Training Epoch 1454: 100%|██████████| 259/259 [00:05<00:00, 46.76it/s]\n",
      "Training Epoch 1455: 100%|██████████| 259/259 [00:06<00:00, 42.89it/s]\n",
      "Training Epoch 1456: 100%|██████████| 259/259 [00:05<00:00, 43.42it/s]\n",
      "Training Epoch 1457: 100%|██████████| 259/259 [00:05<00:00, 44.41it/s]\n",
      "Training Epoch 1458: 100%|██████████| 259/259 [00:05<00:00, 44.92it/s]\n",
      "Training Epoch 1459: 100%|██████████| 259/259 [00:05<00:00, 44.41it/s]\n",
      "Training Epoch 1460: 100%|██████████| 259/259 [00:05<00:00, 44.58it/s]\n",
      "Training Epoch 1461: 100%|██████████| 259/259 [00:05<00:00, 45.36it/s]\n"
     ]
    },
    {
     "name": "stdout",
     "output_type": "stream",
     "text": [
      "Epoch 1460 - Train Loss: 0.0414, Train MSE: 0.0414, Train MAE: 0.1420\n",
      "Epoch 1460 - Validation Loss: 2.2269, Validation MSE: 2.2219, Validation MAE: 1.1494\n"
     ]
    },
    {
     "name": "stderr",
     "output_type": "stream",
     "text": [
      "Training Epoch 1462: 100%|██████████| 259/259 [00:05<00:00, 43.48it/s]\n",
      "Training Epoch 1463: 100%|██████████| 259/259 [00:05<00:00, 44.48it/s]\n",
      "Training Epoch 1464: 100%|██████████| 259/259 [00:05<00:00, 44.88it/s]\n",
      "Training Epoch 1465: 100%|██████████| 259/259 [00:06<00:00, 43.11it/s]\n",
      "Training Epoch 1466: 100%|██████████| 259/259 [00:05<00:00, 45.04it/s]\n",
      "Training Epoch 1467: 100%|██████████| 259/259 [00:05<00:00, 43.61it/s]\n",
      "Training Epoch 1468: 100%|██████████| 259/259 [00:06<00:00, 43.02it/s]\n",
      "Training Epoch 1469: 100%|██████████| 259/259 [00:05<00:00, 44.60it/s]\n",
      "Training Epoch 1470: 100%|██████████| 259/259 [00:05<00:00, 44.75it/s]\n",
      "Training Epoch 1471: 100%|██████████| 259/259 [00:05<00:00, 44.70it/s]\n"
     ]
    },
    {
     "name": "stdout",
     "output_type": "stream",
     "text": [
      "Epoch 1470 - Train Loss: 0.0431, Train MSE: 0.0431, Train MAE: 0.1421\n",
      "Epoch 1470 - Validation Loss: 2.2973, Validation MSE: 2.2886, Validation MAE: 1.1625\n"
     ]
    },
    {
     "name": "stderr",
     "output_type": "stream",
     "text": [
      "Training Epoch 1472: 100%|██████████| 259/259 [00:05<00:00, 43.47it/s]\n",
      "Training Epoch 1473: 100%|██████████| 259/259 [00:05<00:00, 44.17it/s]\n",
      "Training Epoch 1474: 100%|██████████| 259/259 [00:05<00:00, 43.39it/s]\n",
      "Training Epoch 1475: 100%|██████████| 259/259 [00:06<00:00, 42.01it/s]\n",
      "Training Epoch 1476: 100%|██████████| 259/259 [00:05<00:00, 43.97it/s]\n",
      "Training Epoch 1477: 100%|██████████| 259/259 [00:05<00:00, 43.76it/s]\n",
      "Training Epoch 1478: 100%|██████████| 259/259 [00:05<00:00, 44.01it/s]\n",
      "Training Epoch 1479: 100%|██████████| 259/259 [00:05<00:00, 43.37it/s]\n",
      "Training Epoch 1480: 100%|██████████| 259/259 [00:05<00:00, 44.35it/s]\n",
      "Training Epoch 1481: 100%|██████████| 259/259 [00:05<00:00, 44.67it/s]\n"
     ]
    },
    {
     "name": "stdout",
     "output_type": "stream",
     "text": [
      "Epoch 1480 - Train Loss: 0.0502, Train MSE: 0.0502, Train MAE: 0.1533\n",
      "Epoch 1480 - Validation Loss: 2.2944, Validation MSE: 2.2880, Validation MAE: 1.1652\n"
     ]
    },
    {
     "name": "stderr",
     "output_type": "stream",
     "text": [
      "Training Epoch 1482: 100%|██████████| 259/259 [00:05<00:00, 43.73it/s]\n",
      "Training Epoch 1483: 100%|██████████| 259/259 [00:05<00:00, 44.36it/s]\n",
      "Training Epoch 1484: 100%|██████████| 259/259 [00:06<00:00, 43.06it/s]\n",
      "Training Epoch 1485: 100%|██████████| 259/259 [00:06<00:00, 41.10it/s]\n",
      "Training Epoch 1486: 100%|██████████| 259/259 [00:05<00:00, 44.32it/s]\n",
      "Training Epoch 1487: 100%|██████████| 259/259 [00:05<00:00, 45.07it/s]\n",
      "Training Epoch 1488: 100%|██████████| 259/259 [00:05<00:00, 44.32it/s]\n",
      "Training Epoch 1489: 100%|██████████| 259/259 [00:05<00:00, 45.04it/s]\n",
      "Training Epoch 1490: 100%|██████████| 259/259 [00:06<00:00, 43.12it/s]\n",
      "Training Epoch 1491: 100%|██████████| 259/259 [00:05<00:00, 45.05it/s]\n"
     ]
    },
    {
     "name": "stdout",
     "output_type": "stream",
     "text": [
      "Epoch 1490 - Train Loss: 0.0451, Train MSE: 0.0452, Train MAE: 0.1438\n",
      "Epoch 1490 - Validation Loss: 2.2898, Validation MSE: 2.2830, Validation MAE: 1.1546\n"
     ]
    },
    {
     "name": "stderr",
     "output_type": "stream",
     "text": [
      "Training Epoch 1492: 100%|██████████| 259/259 [00:05<00:00, 44.08it/s]\n",
      "Training Epoch 1493: 100%|██████████| 259/259 [00:05<00:00, 44.72it/s]\n",
      "Training Epoch 1494: 100%|██████████| 259/259 [00:05<00:00, 43.44it/s]\n",
      "Training Epoch 1495: 100%|██████████| 259/259 [00:06<00:00, 42.83it/s]\n",
      "Training Epoch 1496: 100%|██████████| 259/259 [00:05<00:00, 43.91it/s]\n",
      "Training Epoch 1497: 100%|██████████| 259/259 [00:05<00:00, 44.76it/s]\n",
      "Training Epoch 1498: 100%|██████████| 259/259 [00:05<00:00, 43.48it/s]\n",
      "Training Epoch 1499: 100%|██████████| 259/259 [00:05<00:00, 44.60it/s]\n",
      "Training Epoch 1500: 100%|██████████| 259/259 [00:05<00:00, 44.40it/s]\n",
      "Training Epoch 1501: 100%|██████████| 259/259 [00:05<00:00, 45.33it/s]\n"
     ]
    },
    {
     "name": "stdout",
     "output_type": "stream",
     "text": [
      "Epoch 1500 - Train Loss: 0.0415, Train MSE: 0.0414, Train MAE: 0.1398\n",
      "Epoch 1500 - Validation Loss: 2.2566, Validation MSE: 2.2497, Validation MAE: 1.1519\n"
     ]
    },
    {
     "name": "stderr",
     "output_type": "stream",
     "text": [
      "Training Epoch 1502: 100%|██████████| 259/259 [00:05<00:00, 43.91it/s]\n",
      "Training Epoch 1503: 100%|██████████| 259/259 [00:05<00:00, 44.60it/s]\n",
      "Training Epoch 1504: 100%|██████████| 259/259 [00:05<00:00, 43.69it/s]\n",
      "Training Epoch 1505: 100%|██████████| 259/259 [00:05<00:00, 44.04it/s]\n",
      "Training Epoch 1506: 100%|██████████| 259/259 [00:06<00:00, 42.65it/s]\n",
      "Training Epoch 1507: 100%|██████████| 259/259 [00:05<00:00, 43.92it/s]\n",
      "Training Epoch 1508: 100%|██████████| 259/259 [00:05<00:00, 44.48it/s]\n",
      "Training Epoch 1509: 100%|██████████| 259/259 [00:05<00:00, 44.38it/s]\n",
      "Training Epoch 1510: 100%|██████████| 259/259 [00:05<00:00, 45.83it/s]\n",
      "Training Epoch 1511: 100%|██████████| 259/259 [00:05<00:00, 44.90it/s]\n"
     ]
    },
    {
     "name": "stdout",
     "output_type": "stream",
     "text": [
      "Epoch 1510 - Train Loss: 0.0471, Train MSE: 0.0471, Train MAE: 0.1476\n",
      "Epoch 1510 - Validation Loss: 2.2715, Validation MSE: 2.2659, Validation MAE: 1.1624\n"
     ]
    },
    {
     "name": "stderr",
     "output_type": "stream",
     "text": [
      "Training Epoch 1512: 100%|██████████| 259/259 [00:05<00:00, 44.10it/s]\n",
      "Training Epoch 1513: 100%|██████████| 259/259 [00:05<00:00, 44.16it/s]\n",
      "Training Epoch 1514: 100%|██████████| 259/259 [00:05<00:00, 43.85it/s]\n",
      "Training Epoch 1515: 100%|██████████| 259/259 [00:05<00:00, 43.37it/s]\n",
      "Training Epoch 1516: 100%|██████████| 259/259 [00:05<00:00, 45.91it/s]\n",
      "Training Epoch 1517: 100%|██████████| 259/259 [00:05<00:00, 43.61it/s]\n",
      "Training Epoch 1518: 100%|██████████| 259/259 [00:05<00:00, 45.27it/s]\n",
      "Training Epoch 1519: 100%|██████████| 259/259 [00:05<00:00, 45.31it/s]\n",
      "Training Epoch 1520: 100%|██████████| 259/259 [00:05<00:00, 44.05it/s]\n",
      "Training Epoch 1521: 100%|██████████| 259/259 [00:05<00:00, 44.71it/s]\n"
     ]
    },
    {
     "name": "stdout",
     "output_type": "stream",
     "text": [
      "Epoch 1520 - Train Loss: 0.0494, Train MSE: 0.0494, Train MAE: 0.1498\n",
      "Epoch 1520 - Validation Loss: 2.2182, Validation MSE: 2.2125, Validation MAE: 1.1524\n"
     ]
    },
    {
     "name": "stderr",
     "output_type": "stream",
     "text": [
      "Training Epoch 1522: 100%|██████████| 259/259 [00:05<00:00, 43.75it/s]\n",
      "Training Epoch 1523: 100%|██████████| 259/259 [00:05<00:00, 45.86it/s]\n",
      "Training Epoch 1524: 100%|██████████| 259/259 [00:05<00:00, 43.41it/s]\n",
      "Training Epoch 1525: 100%|██████████| 259/259 [00:05<00:00, 44.36it/s]\n",
      "Training Epoch 1526: 100%|██████████| 259/259 [00:06<00:00, 43.14it/s]\n",
      "Training Epoch 1527: 100%|██████████| 259/259 [00:05<00:00, 44.56it/s]\n",
      "Training Epoch 1528: 100%|██████████| 259/259 [00:05<00:00, 43.67it/s]\n",
      "Training Epoch 1529: 100%|██████████| 259/259 [00:06<00:00, 43.16it/s]\n",
      "Training Epoch 1530: 100%|██████████| 259/259 [00:05<00:00, 43.90it/s]\n",
      "Training Epoch 1531: 100%|██████████| 259/259 [00:05<00:00, 44.33it/s]\n"
     ]
    },
    {
     "name": "stdout",
     "output_type": "stream",
     "text": [
      "Epoch 1530 - Train Loss: 0.0415, Train MSE: 0.0415, Train MAE: 0.1399\n",
      "Epoch 1530 - Validation Loss: 2.2331, Validation MSE: 2.2269, Validation MAE: 1.1516\n"
     ]
    },
    {
     "name": "stderr",
     "output_type": "stream",
     "text": [
      "Training Epoch 1532: 100%|██████████| 259/259 [00:05<00:00, 43.43it/s]\n",
      "Training Epoch 1533: 100%|██████████| 259/259 [00:05<00:00, 45.24it/s]\n",
      "Training Epoch 1534: 100%|██████████| 259/259 [00:06<00:00, 41.36it/s]\n",
      "Training Epoch 1535: 100%|██████████| 259/259 [00:06<00:00, 43.04it/s]\n",
      "Training Epoch 1536: 100%|██████████| 259/259 [00:05<00:00, 43.71it/s]\n",
      "Training Epoch 1537: 100%|██████████| 259/259 [00:05<00:00, 43.96it/s]\n",
      "Training Epoch 1538: 100%|██████████| 259/259 [00:05<00:00, 44.25it/s]\n",
      "Training Epoch 1539: 100%|██████████| 259/259 [00:05<00:00, 43.54it/s]\n",
      "Training Epoch 1540: 100%|██████████| 259/259 [00:05<00:00, 43.54it/s]\n",
      "Training Epoch 1541: 100%|██████████| 259/259 [00:05<00:00, 44.26it/s]\n"
     ]
    },
    {
     "name": "stdout",
     "output_type": "stream",
     "text": [
      "Epoch 1540 - Train Loss: 0.0459, Train MSE: 0.0459, Train MAE: 0.1442\n",
      "Epoch 1540 - Validation Loss: 2.2452, Validation MSE: 2.2388, Validation MAE: 1.1499\n"
     ]
    },
    {
     "name": "stderr",
     "output_type": "stream",
     "text": [
      "Training Epoch 1542: 100%|██████████| 259/259 [00:05<00:00, 44.15it/s]\n",
      "Training Epoch 1543: 100%|██████████| 259/259 [00:05<00:00, 44.96it/s]\n",
      "Training Epoch 1544: 100%|██████████| 259/259 [00:05<00:00, 43.55it/s]\n",
      "Training Epoch 1545: 100%|██████████| 259/259 [00:05<00:00, 43.83it/s]\n",
      "Training Epoch 1546: 100%|██████████| 259/259 [00:05<00:00, 43.48it/s]\n",
      "Training Epoch 1547: 100%|██████████| 259/259 [00:05<00:00, 44.85it/s]\n",
      "Training Epoch 1548: 100%|██████████| 259/259 [00:05<00:00, 46.00it/s]\n",
      "Training Epoch 1549: 100%|██████████| 259/259 [00:05<00:00, 45.81it/s]\n",
      "Training Epoch 1550: 100%|██████████| 259/259 [00:05<00:00, 44.58it/s]\n",
      "Training Epoch 1551: 100%|██████████| 259/259 [00:05<00:00, 45.24it/s]\n"
     ]
    },
    {
     "name": "stdout",
     "output_type": "stream",
     "text": [
      "Epoch 1550 - Train Loss: 0.0455, Train MSE: 0.0456, Train MAE: 0.1447\n",
      "Epoch 1550 - Validation Loss: 2.3130, Validation MSE: 2.3064, Validation MAE: 1.1670\n"
     ]
    },
    {
     "name": "stderr",
     "output_type": "stream",
     "text": [
      "Training Epoch 1552: 100%|██████████| 259/259 [00:05<00:00, 44.77it/s]\n",
      "Training Epoch 1553: 100%|██████████| 259/259 [00:05<00:00, 45.50it/s]\n",
      "Training Epoch 1554: 100%|██████████| 259/259 [00:05<00:00, 44.16it/s]\n",
      "Training Epoch 1555: 100%|██████████| 259/259 [00:05<00:00, 44.46it/s]\n",
      "Training Epoch 1556: 100%|██████████| 259/259 [00:05<00:00, 44.51it/s]\n",
      "Training Epoch 1557: 100%|██████████| 259/259 [00:05<00:00, 45.51it/s]\n",
      "Training Epoch 1558: 100%|██████████| 259/259 [00:06<00:00, 42.73it/s]\n",
      "Training Epoch 1559: 100%|██████████| 259/259 [00:05<00:00, 44.39it/s]\n",
      "Training Epoch 1560: 100%|██████████| 259/259 [00:05<00:00, 44.52it/s]\n",
      "Training Epoch 1561: 100%|██████████| 259/259 [00:05<00:00, 44.21it/s]\n"
     ]
    },
    {
     "name": "stdout",
     "output_type": "stream",
     "text": [
      "Epoch 1560 - Train Loss: 0.0400, Train MSE: 0.0400, Train MAE: 0.1375\n",
      "Epoch 1560 - Validation Loss: 2.2556, Validation MSE: 2.2487, Validation MAE: 1.1572\n"
     ]
    },
    {
     "name": "stderr",
     "output_type": "stream",
     "text": [
      "Training Epoch 1562: 100%|██████████| 259/259 [00:05<00:00, 45.40it/s]\n",
      "Training Epoch 1563: 100%|██████████| 259/259 [00:05<00:00, 44.72it/s]\n",
      "Training Epoch 1564: 100%|██████████| 259/259 [00:06<00:00, 42.56it/s]\n",
      "Training Epoch 1565: 100%|██████████| 259/259 [00:05<00:00, 43.90it/s]\n",
      "Training Epoch 1566: 100%|██████████| 259/259 [00:05<00:00, 44.05it/s]\n",
      "Training Epoch 1567: 100%|██████████| 259/259 [00:05<00:00, 44.18it/s]\n",
      "Training Epoch 1568: 100%|██████████| 259/259 [00:05<00:00, 43.88it/s]\n",
      "Training Epoch 1569: 100%|██████████| 259/259 [00:05<00:00, 44.02it/s]\n",
      "Training Epoch 1570: 100%|██████████| 259/259 [00:05<00:00, 44.78it/s]\n",
      "Training Epoch 1571: 100%|██████████| 259/259 [00:05<00:00, 43.76it/s]\n"
     ]
    },
    {
     "name": "stdout",
     "output_type": "stream",
     "text": [
      "Epoch 1570 - Train Loss: 0.0410, Train MSE: 0.0410, Train MAE: 0.1370\n",
      "Epoch 1570 - Validation Loss: 2.2119, Validation MSE: 2.2046, Validation MAE: 1.1458\n"
     ]
    },
    {
     "name": "stderr",
     "output_type": "stream",
     "text": [
      "Training Epoch 1572: 100%|██████████| 259/259 [00:05<00:00, 43.67it/s]\n",
      "Training Epoch 1573: 100%|██████████| 259/259 [00:06<00:00, 43.03it/s]\n",
      "Training Epoch 1574: 100%|██████████| 259/259 [00:05<00:00, 43.93it/s]\n",
      "Training Epoch 1575: 100%|██████████| 259/259 [00:05<00:00, 43.90it/s]\n",
      "Training Epoch 1576: 100%|██████████| 259/259 [00:05<00:00, 43.47it/s]\n",
      "Training Epoch 1577: 100%|██████████| 259/259 [00:05<00:00, 45.15it/s]\n",
      "Training Epoch 1578: 100%|██████████| 259/259 [00:05<00:00, 44.56it/s]\n",
      "Training Epoch 1579: 100%|██████████| 259/259 [00:05<00:00, 43.85it/s]\n",
      "Training Epoch 1580: 100%|██████████| 259/259 [00:05<00:00, 44.87it/s]\n",
      "Training Epoch 1581: 100%|██████████| 259/259 [00:05<00:00, 44.80it/s]\n"
     ]
    },
    {
     "name": "stdout",
     "output_type": "stream",
     "text": [
      "Epoch 1580 - Train Loss: 0.0431, Train MSE: 0.0431, Train MAE: 0.1411\n",
      "Epoch 1580 - Validation Loss: 2.2417, Validation MSE: 2.2336, Validation MAE: 1.1468\n"
     ]
    },
    {
     "name": "stderr",
     "output_type": "stream",
     "text": [
      "Training Epoch 1582: 100%|██████████| 259/259 [00:06<00:00, 42.90it/s]\n",
      "Training Epoch 1583: 100%|██████████| 259/259 [00:05<00:00, 43.30it/s]\n",
      "Training Epoch 1584: 100%|██████████| 259/259 [00:05<00:00, 44.05it/s]\n",
      "Training Epoch 1585: 100%|██████████| 259/259 [00:05<00:00, 43.56it/s]\n",
      "Training Epoch 1586: 100%|██████████| 259/259 [00:05<00:00, 44.16it/s]\n",
      "Training Epoch 1587: 100%|██████████| 259/259 [00:05<00:00, 44.40it/s]\n",
      "Training Epoch 1588: 100%|██████████| 259/259 [00:05<00:00, 45.16it/s]\n",
      "Training Epoch 1589: 100%|██████████| 259/259 [00:05<00:00, 44.60it/s]\n",
      "Training Epoch 1590: 100%|██████████| 259/259 [00:05<00:00, 43.66it/s]\n",
      "Training Epoch 1591: 100%|██████████| 259/259 [00:05<00:00, 45.11it/s]\n"
     ]
    },
    {
     "name": "stdout",
     "output_type": "stream",
     "text": [
      "Epoch 1590 - Train Loss: 0.0404, Train MSE: 0.0404, Train MAE: 0.1365\n",
      "Epoch 1590 - Validation Loss: 2.2485, Validation MSE: 2.2427, Validation MAE: 1.1514\n"
     ]
    },
    {
     "name": "stderr",
     "output_type": "stream",
     "text": [
      "Training Epoch 1592: 100%|██████████| 259/259 [00:05<00:00, 44.86it/s]\n",
      "Training Epoch 1593: 100%|██████████| 259/259 [00:05<00:00, 44.71it/s]\n",
      "Training Epoch 1594: 100%|██████████| 259/259 [00:05<00:00, 44.86it/s]\n",
      "Training Epoch 1595: 100%|██████████| 259/259 [00:05<00:00, 43.21it/s]\n",
      "Training Epoch 1596: 100%|██████████| 259/259 [00:05<00:00, 43.55it/s]\n",
      "Training Epoch 1597: 100%|██████████| 259/259 [00:05<00:00, 44.66it/s]\n",
      "Training Epoch 1598: 100%|██████████| 259/259 [00:05<00:00, 43.30it/s]\n",
      "Training Epoch 1599: 100%|██████████| 259/259 [00:05<00:00, 44.15it/s]\n",
      "Training Epoch 1600: 100%|██████████| 259/259 [00:05<00:00, 43.79it/s]\n",
      "Training Epoch 1601: 100%|██████████| 259/259 [00:05<00:00, 44.41it/s]\n"
     ]
    },
    {
     "name": "stdout",
     "output_type": "stream",
     "text": [
      "Epoch 1600 - Train Loss: 0.0443, Train MSE: 0.0444, Train MAE: 0.1421\n",
      "Epoch 1600 - Validation Loss: 2.2930, Validation MSE: 2.2867, Validation MAE: 1.1651\n"
     ]
    },
    {
     "name": "stderr",
     "output_type": "stream",
     "text": [
      "Training Epoch 1602: 100%|██████████| 259/259 [00:05<00:00, 43.96it/s]\n",
      "Training Epoch 1603: 100%|██████████| 259/259 [00:06<00:00, 41.20it/s]\n",
      "Training Epoch 1604: 100%|██████████| 259/259 [00:06<00:00, 38.89it/s]\n",
      "Training Epoch 1605: 100%|██████████| 259/259 [00:05<00:00, 43.89it/s]\n",
      "Training Epoch 1606: 100%|██████████| 259/259 [00:05<00:00, 44.36it/s]\n",
      "Training Epoch 1607: 100%|██████████| 259/259 [00:05<00:00, 45.18it/s]\n",
      "Training Epoch 1608: 100%|██████████| 259/259 [00:06<00:00, 42.79it/s]\n",
      "Training Epoch 1609: 100%|██████████| 259/259 [00:05<00:00, 43.55it/s]\n",
      "Training Epoch 1610: 100%|██████████| 259/259 [00:05<00:00, 44.98it/s]\n",
      "Training Epoch 1611: 100%|██████████| 259/259 [00:05<00:00, 44.59it/s]\n"
     ]
    },
    {
     "name": "stdout",
     "output_type": "stream",
     "text": [
      "Epoch 1610 - Train Loss: 0.0406, Train MSE: 0.0406, Train MAE: 0.1371\n",
      "Epoch 1610 - Validation Loss: 2.2369, Validation MSE: 2.2309, Validation MAE: 1.1480\n"
     ]
    },
    {
     "name": "stderr",
     "output_type": "stream",
     "text": [
      "Training Epoch 1612: 100%|██████████| 259/259 [00:05<00:00, 45.51it/s]\n",
      "Training Epoch 1613: 100%|██████████| 259/259 [00:06<00:00, 41.35it/s]\n",
      "Training Epoch 1614: 100%|██████████| 259/259 [00:05<00:00, 43.32it/s]\n",
      "Training Epoch 1615: 100%|██████████| 259/259 [00:05<00:00, 45.27it/s]\n",
      "Training Epoch 1616: 100%|██████████| 259/259 [00:06<00:00, 42.52it/s]\n",
      "Training Epoch 1617: 100%|██████████| 259/259 [00:05<00:00, 45.20it/s]\n",
      "Training Epoch 1618: 100%|██████████| 259/259 [00:05<00:00, 43.84it/s]\n",
      "Training Epoch 1619: 100%|██████████| 259/259 [00:05<00:00, 44.34it/s]\n",
      "Training Epoch 1620: 100%|██████████| 259/259 [00:05<00:00, 43.37it/s]\n",
      "Training Epoch 1621: 100%|██████████| 259/259 [00:05<00:00, 43.52it/s]\n"
     ]
    },
    {
     "name": "stdout",
     "output_type": "stream",
     "text": [
      "Epoch 1620 - Train Loss: 0.0411, Train MSE: 0.0411, Train MAE: 0.1385\n",
      "Epoch 1620 - Validation Loss: 2.2306, Validation MSE: 2.2259, Validation MAE: 1.1471\n"
     ]
    },
    {
     "name": "stderr",
     "output_type": "stream",
     "text": [
      "Training Epoch 1622: 100%|██████████| 259/259 [00:06<00:00, 42.38it/s]\n",
      "Training Epoch 1623: 100%|██████████| 259/259 [00:06<00:00, 42.53it/s]\n",
      "Training Epoch 1624: 100%|██████████| 259/259 [00:06<00:00, 42.71it/s]\n",
      "Training Epoch 1625: 100%|██████████| 259/259 [00:05<00:00, 44.04it/s]\n",
      "Training Epoch 1626: 100%|██████████| 259/259 [00:06<00:00, 42.98it/s]\n",
      "Training Epoch 1627: 100%|██████████| 259/259 [00:05<00:00, 44.48it/s]\n",
      "Training Epoch 1628: 100%|██████████| 259/259 [00:05<00:00, 43.36it/s]\n",
      "Training Epoch 1629: 100%|██████████| 259/259 [00:05<00:00, 43.87it/s]\n",
      "Training Epoch 1630: 100%|██████████| 259/259 [00:05<00:00, 44.39it/s]\n",
      "Training Epoch 1631: 100%|██████████| 259/259 [00:05<00:00, 44.14it/s]\n"
     ]
    },
    {
     "name": "stdout",
     "output_type": "stream",
     "text": [
      "Epoch 1630 - Train Loss: 0.0430, Train MSE: 0.0430, Train MAE: 0.1395\n",
      "Epoch 1630 - Validation Loss: 2.2225, Validation MSE: 2.2182, Validation MAE: 1.1455\n"
     ]
    },
    {
     "name": "stderr",
     "output_type": "stream",
     "text": [
      "Training Epoch 1632: 100%|██████████| 259/259 [00:06<00:00, 43.04it/s]\n",
      "Training Epoch 1633: 100%|██████████| 259/259 [00:05<00:00, 43.53it/s]\n",
      "Training Epoch 1634: 100%|██████████| 259/259 [00:05<00:00, 43.67it/s]\n",
      "Training Epoch 1635: 100%|██████████| 259/259 [00:05<00:00, 44.43it/s]\n",
      "Training Epoch 1636: 100%|██████████| 259/259 [00:05<00:00, 45.04it/s]\n",
      "Training Epoch 1637: 100%|██████████| 259/259 [00:05<00:00, 45.09it/s]\n",
      "Training Epoch 1638: 100%|██████████| 259/259 [00:05<00:00, 43.51it/s]\n",
      "Training Epoch 1639: 100%|██████████| 259/259 [00:05<00:00, 43.55it/s]\n",
      "Training Epoch 1640: 100%|██████████| 259/259 [00:05<00:00, 44.76it/s]\n",
      "Training Epoch 1641: 100%|██████████| 259/259 [00:05<00:00, 44.00it/s]\n"
     ]
    },
    {
     "name": "stdout",
     "output_type": "stream",
     "text": [
      "Epoch 1640 - Train Loss: 0.0410, Train MSE: 0.0409, Train MAE: 0.1390\n",
      "Epoch 1640 - Validation Loss: 2.2258, Validation MSE: 2.2215, Validation MAE: 1.1479\n"
     ]
    },
    {
     "name": "stderr",
     "output_type": "stream",
     "text": [
      "Training Epoch 1642: 100%|██████████| 259/259 [00:06<00:00, 42.47it/s]\n",
      "Training Epoch 1643: 100%|██████████| 259/259 [00:05<00:00, 43.90it/s]\n",
      "Training Epoch 1644: 100%|██████████| 259/259 [00:05<00:00, 44.40it/s]\n",
      "Training Epoch 1645: 100%|██████████| 259/259 [00:06<00:00, 41.81it/s]\n",
      "Training Epoch 1646: 100%|██████████| 259/259 [00:05<00:00, 44.63it/s]\n",
      "Training Epoch 1647: 100%|██████████| 259/259 [00:05<00:00, 44.14it/s]\n",
      "Training Epoch 1648: 100%|██████████| 259/259 [00:05<00:00, 44.37it/s]\n",
      "Training Epoch 1649: 100%|██████████| 259/259 [00:05<00:00, 44.09it/s]\n",
      "Training Epoch 1650: 100%|██████████| 259/259 [00:05<00:00, 43.43it/s]\n",
      "Training Epoch 1651: 100%|██████████| 259/259 [00:05<00:00, 44.26it/s]\n"
     ]
    },
    {
     "name": "stdout",
     "output_type": "stream",
     "text": [
      "Epoch 1650 - Train Loss: 0.0400, Train MSE: 0.0400, Train MAE: 0.1356\n",
      "Epoch 1650 - Validation Loss: 2.2766, Validation MSE: 2.2710, Validation MAE: 1.1629\n"
     ]
    },
    {
     "name": "stderr",
     "output_type": "stream",
     "text": [
      "Training Epoch 1652: 100%|██████████| 259/259 [00:06<00:00, 42.27it/s]\n",
      "Training Epoch 1653: 100%|██████████| 259/259 [00:05<00:00, 44.00it/s]\n",
      "Training Epoch 1654: 100%|██████████| 259/259 [00:05<00:00, 43.71it/s]\n",
      "Training Epoch 1655: 100%|██████████| 259/259 [00:06<00:00, 41.76it/s]\n",
      "Training Epoch 1656: 100%|██████████| 259/259 [00:05<00:00, 44.55it/s]\n",
      "Training Epoch 1657: 100%|██████████| 259/259 [00:05<00:00, 43.63it/s]\n",
      "Training Epoch 1658: 100%|██████████| 259/259 [00:05<00:00, 43.60it/s]\n",
      "Training Epoch 1659: 100%|██████████| 259/259 [00:05<00:00, 44.89it/s]\n",
      "Training Epoch 1660: 100%|██████████| 259/259 [00:05<00:00, 44.24it/s]\n",
      "Training Epoch 1661: 100%|██████████| 259/259 [00:05<00:00, 43.52it/s]\n"
     ]
    },
    {
     "name": "stdout",
     "output_type": "stream",
     "text": [
      "Epoch 1660 - Train Loss: 0.0497, Train MSE: 0.0497, Train MAE: 0.1467\n",
      "Epoch 1660 - Validation Loss: 2.2373, Validation MSE: 2.2313, Validation MAE: 1.1520\n"
     ]
    },
    {
     "name": "stderr",
     "output_type": "stream",
     "text": [
      "Training Epoch 1662: 100%|██████████| 259/259 [00:05<00:00, 43.31it/s]\n",
      "Training Epoch 1663: 100%|██████████| 259/259 [00:05<00:00, 44.00it/s]\n",
      "Training Epoch 1664: 100%|██████████| 259/259 [00:05<00:00, 44.83it/s]\n",
      "Training Epoch 1665: 100%|██████████| 259/259 [00:05<00:00, 43.68it/s]\n",
      "Training Epoch 1666: 100%|██████████| 259/259 [00:05<00:00, 43.61it/s]\n",
      "Training Epoch 1667: 100%|██████████| 259/259 [00:05<00:00, 43.92it/s]\n",
      "Training Epoch 1668: 100%|██████████| 259/259 [00:05<00:00, 44.73it/s]\n",
      "Training Epoch 1669: 100%|██████████| 259/259 [00:05<00:00, 44.03it/s]\n",
      "Training Epoch 1670: 100%|██████████| 259/259 [00:05<00:00, 43.99it/s]\n",
      "Training Epoch 1671: 100%|██████████| 259/259 [00:05<00:00, 44.38it/s]\n"
     ]
    },
    {
     "name": "stdout",
     "output_type": "stream",
     "text": [
      "Epoch 1670 - Train Loss: 0.0445, Train MSE: 0.0445, Train MAE: 0.1412\n",
      "Epoch 1670 - Validation Loss: 2.2228, Validation MSE: 2.2176, Validation MAE: 1.1484\n"
     ]
    },
    {
     "name": "stderr",
     "output_type": "stream",
     "text": [
      "Training Epoch 1672: 100%|██████████| 259/259 [00:06<00:00, 42.52it/s]\n",
      "Training Epoch 1673: 100%|██████████| 259/259 [00:05<00:00, 43.89it/s]\n",
      "Training Epoch 1674: 100%|██████████| 259/259 [00:05<00:00, 44.06it/s]\n",
      "Training Epoch 1675: 100%|██████████| 259/259 [00:06<00:00, 42.80it/s]\n",
      "Training Epoch 1676: 100%|██████████| 259/259 [00:05<00:00, 44.46it/s]\n",
      "Training Epoch 1677: 100%|██████████| 259/259 [00:05<00:00, 44.07it/s]\n",
      "Training Epoch 1678: 100%|██████████| 259/259 [00:05<00:00, 44.29it/s]\n",
      "Training Epoch 1679: 100%|██████████| 259/259 [00:05<00:00, 43.78it/s]\n",
      "Training Epoch 1680: 100%|██████████| 259/259 [00:05<00:00, 43.57it/s]\n",
      "Training Epoch 1681: 100%|██████████| 259/259 [00:06<00:00, 42.80it/s]\n"
     ]
    },
    {
     "name": "stdout",
     "output_type": "stream",
     "text": [
      "Epoch 1680 - Train Loss: 0.0466, Train MSE: 0.0466, Train MAE: 0.1470\n",
      "Epoch 1680 - Validation Loss: 2.2310, Validation MSE: 2.2242, Validation MAE: 1.1520\n"
     ]
    },
    {
     "name": "stderr",
     "output_type": "stream",
     "text": [
      "Training Epoch 1682: 100%|██████████| 259/259 [00:05<00:00, 46.26it/s]\n",
      "Training Epoch 1683: 100%|██████████| 259/259 [00:05<00:00, 44.48it/s]\n",
      "Training Epoch 1684: 100%|██████████| 259/259 [00:05<00:00, 44.26it/s]\n",
      "Training Epoch 1685: 100%|██████████| 259/259 [00:05<00:00, 43.17it/s]\n",
      "Training Epoch 1686: 100%|██████████| 259/259 [00:05<00:00, 43.82it/s]\n",
      "Training Epoch 1687: 100%|██████████| 259/259 [00:05<00:00, 43.75it/s]\n",
      "Training Epoch 1688: 100%|██████████| 259/259 [00:05<00:00, 43.19it/s]\n",
      "Training Epoch 1689: 100%|██████████| 259/259 [00:05<00:00, 44.72it/s]\n",
      "Training Epoch 1690: 100%|██████████| 259/259 [00:05<00:00, 45.09it/s]\n",
      "Training Epoch 1691: 100%|██████████| 259/259 [00:05<00:00, 43.58it/s]\n"
     ]
    },
    {
     "name": "stdout",
     "output_type": "stream",
     "text": [
      "Epoch 1690 - Train Loss: 0.0427, Train MSE: 0.0427, Train MAE: 0.1395\n",
      "Epoch 1690 - Validation Loss: 2.2682, Validation MSE: 2.2623, Validation MAE: 1.1632\n"
     ]
    },
    {
     "name": "stderr",
     "output_type": "stream",
     "text": [
      "Training Epoch 1692: 100%|██████████| 259/259 [00:06<00:00, 42.21it/s]\n",
      "Training Epoch 1693: 100%|██████████| 259/259 [00:05<00:00, 44.82it/s]\n",
      "Training Epoch 1694: 100%|██████████| 259/259 [00:05<00:00, 44.30it/s]\n",
      "Training Epoch 1695: 100%|██████████| 259/259 [00:05<00:00, 44.28it/s]\n",
      "Training Epoch 1696: 100%|██████████| 259/259 [00:05<00:00, 43.81it/s]\n",
      "Training Epoch 1697: 100%|██████████| 259/259 [00:05<00:00, 43.95it/s]\n",
      "Training Epoch 1698: 100%|██████████| 259/259 [00:05<00:00, 44.39it/s]\n",
      "Training Epoch 1699: 100%|██████████| 259/259 [00:05<00:00, 44.05it/s]\n",
      "Training Epoch 1700: 100%|██████████| 259/259 [00:05<00:00, 44.87it/s]\n",
      "Training Epoch 1701: 100%|██████████| 259/259 [00:05<00:00, 43.34it/s]\n"
     ]
    },
    {
     "name": "stdout",
     "output_type": "stream",
     "text": [
      "Epoch 1700 - Train Loss: 0.0394, Train MSE: 0.0394, Train MAE: 0.1365\n",
      "Epoch 1700 - Validation Loss: 2.2459, Validation MSE: 2.2409, Validation MAE: 1.1527\n"
     ]
    },
    {
     "name": "stderr",
     "output_type": "stream",
     "text": [
      "Training Epoch 1702: 100%|██████████| 259/259 [00:05<00:00, 44.04it/s]\n",
      "Training Epoch 1703: 100%|██████████| 259/259 [00:05<00:00, 44.55it/s]\n",
      "Training Epoch 1704: 100%|██████████| 259/259 [00:05<00:00, 44.60it/s]\n",
      "Training Epoch 1705: 100%|██████████| 259/259 [00:05<00:00, 45.52it/s]\n",
      "Training Epoch 1706: 100%|██████████| 259/259 [00:05<00:00, 44.45it/s]\n",
      "Training Epoch 1707: 100%|██████████| 259/259 [00:05<00:00, 45.23it/s]\n",
      "Training Epoch 1708: 100%|██████████| 259/259 [00:05<00:00, 45.00it/s]\n",
      "Training Epoch 1709: 100%|██████████| 259/259 [00:05<00:00, 46.21it/s]\n",
      "Training Epoch 1710: 100%|██████████| 259/259 [00:05<00:00, 46.05it/s]\n",
      "Training Epoch 1711: 100%|██████████| 259/259 [00:05<00:00, 43.22it/s]\n"
     ]
    },
    {
     "name": "stdout",
     "output_type": "stream",
     "text": [
      "Epoch 1710 - Train Loss: 0.0449, Train MSE: 0.0449, Train MAE: 0.1403\n",
      "Epoch 1710 - Validation Loss: 2.2528, Validation MSE: 2.2471, Validation MAE: 1.1548\n"
     ]
    },
    {
     "name": "stderr",
     "output_type": "stream",
     "text": [
      "Training Epoch 1712: 100%|██████████| 259/259 [00:05<00:00, 44.31it/s]\n",
      "Training Epoch 1713: 100%|██████████| 259/259 [00:05<00:00, 45.25it/s]\n",
      "Training Epoch 1714: 100%|██████████| 259/259 [00:05<00:00, 44.37it/s]\n",
      "Training Epoch 1715: 100%|██████████| 259/259 [00:05<00:00, 45.40it/s]\n",
      "Training Epoch 1716: 100%|██████████| 259/259 [00:05<00:00, 45.16it/s]\n",
      "Training Epoch 1717: 100%|██████████| 259/259 [00:05<00:00, 46.20it/s]\n",
      "Training Epoch 1718: 100%|██████████| 259/259 [00:05<00:00, 44.54it/s]\n",
      "Training Epoch 1719: 100%|██████████| 259/259 [00:05<00:00, 43.98it/s]\n",
      "Training Epoch 1720: 100%|██████████| 259/259 [00:05<00:00, 43.96it/s]\n",
      "Training Epoch 1721: 100%|██████████| 259/259 [00:05<00:00, 44.27it/s]\n"
     ]
    },
    {
     "name": "stdout",
     "output_type": "stream",
     "text": [
      "Epoch 1720 - Train Loss: 0.0376, Train MSE: 0.0376, Train MAE: 0.1328\n",
      "Epoch 1720 - Validation Loss: 2.2449, Validation MSE: 2.2397, Validation MAE: 1.1482\n"
     ]
    },
    {
     "name": "stderr",
     "output_type": "stream",
     "text": [
      "Training Epoch 1722: 100%|██████████| 259/259 [00:05<00:00, 44.60it/s]\n",
      "Training Epoch 1723: 100%|██████████| 259/259 [00:05<00:00, 43.44it/s]\n",
      "Training Epoch 1724: 100%|██████████| 259/259 [00:05<00:00, 44.08it/s]\n",
      "Training Epoch 1725: 100%|██████████| 259/259 [00:05<00:00, 45.33it/s]\n",
      "Training Epoch 1726: 100%|██████████| 259/259 [00:05<00:00, 45.00it/s]\n",
      "Training Epoch 1727: 100%|██████████| 259/259 [00:05<00:00, 45.11it/s]\n",
      "Training Epoch 1728: 100%|██████████| 259/259 [00:05<00:00, 43.51it/s]\n",
      "Training Epoch 1729: 100%|██████████| 259/259 [00:05<00:00, 44.11it/s]\n",
      "Training Epoch 1730: 100%|██████████| 259/259 [00:05<00:00, 45.82it/s]\n",
      "Training Epoch 1731: 100%|██████████| 259/259 [00:05<00:00, 45.00it/s]\n"
     ]
    },
    {
     "name": "stdout",
     "output_type": "stream",
     "text": [
      "Epoch 1730 - Train Loss: 0.0418, Train MSE: 0.0418, Train MAE: 0.1364\n",
      "Epoch 1730 - Validation Loss: 2.2849, Validation MSE: 2.2785, Validation MAE: 1.1614\n"
     ]
    },
    {
     "name": "stderr",
     "output_type": "stream",
     "text": [
      "Training Epoch 1732: 100%|██████████| 259/259 [00:06<00:00, 42.51it/s]\n",
      "Training Epoch 1733: 100%|██████████| 259/259 [00:06<00:00, 42.67it/s]\n",
      "Training Epoch 1734: 100%|██████████| 259/259 [00:06<00:00, 43.06it/s]\n",
      "Training Epoch 1735: 100%|██████████| 259/259 [00:05<00:00, 44.93it/s]\n",
      "Training Epoch 1736: 100%|██████████| 259/259 [00:05<00:00, 44.75it/s]\n",
      "Training Epoch 1737: 100%|██████████| 259/259 [00:05<00:00, 45.81it/s]\n",
      "Training Epoch 1738: 100%|██████████| 259/259 [00:05<00:00, 45.95it/s]\n",
      "Training Epoch 1739: 100%|██████████| 259/259 [00:05<00:00, 44.78it/s]\n",
      "Training Epoch 1740: 100%|██████████| 259/259 [00:06<00:00, 43.09it/s]\n",
      "Training Epoch 1741: 100%|██████████| 259/259 [00:06<00:00, 41.03it/s]\n"
     ]
    },
    {
     "name": "stdout",
     "output_type": "stream",
     "text": [
      "Epoch 1740 - Train Loss: 0.0415, Train MSE: 0.0416, Train MAE: 0.1371\n",
      "Epoch 1740 - Validation Loss: 2.2871, Validation MSE: 2.2814, Validation MAE: 1.1591\n"
     ]
    },
    {
     "name": "stderr",
     "output_type": "stream",
     "text": [
      "Training Epoch 1742: 100%|██████████| 259/259 [00:05<00:00, 43.43it/s]\n",
      "Training Epoch 1743: 100%|██████████| 259/259 [00:05<00:00, 45.91it/s]\n",
      "Training Epoch 1744: 100%|██████████| 259/259 [00:05<00:00, 44.49it/s]\n",
      "Training Epoch 1745: 100%|██████████| 259/259 [00:05<00:00, 45.46it/s]\n",
      "Training Epoch 1746: 100%|██████████| 259/259 [00:05<00:00, 46.25it/s]\n",
      "Training Epoch 1747: 100%|██████████| 259/259 [00:05<00:00, 44.43it/s]\n",
      "Training Epoch 1748: 100%|██████████| 259/259 [00:05<00:00, 46.18it/s]\n",
      "Training Epoch 1749: 100%|██████████| 259/259 [00:05<00:00, 45.55it/s]\n",
      "Training Epoch 1750: 100%|██████████| 259/259 [00:05<00:00, 45.78it/s]\n",
      "Training Epoch 1751: 100%|██████████| 259/259 [00:06<00:00, 42.76it/s]\n"
     ]
    },
    {
     "name": "stdout",
     "output_type": "stream",
     "text": [
      "Epoch 1750 - Train Loss: 0.0447, Train MSE: 0.0447, Train MAE: 0.1412\n",
      "Epoch 1750 - Validation Loss: 2.2574, Validation MSE: 2.2529, Validation MAE: 1.1600\n"
     ]
    },
    {
     "name": "stderr",
     "output_type": "stream",
     "text": [
      "Training Epoch 1752: 100%|██████████| 259/259 [00:05<00:00, 43.31it/s]\n",
      "Training Epoch 1753: 100%|██████████| 259/259 [00:05<00:00, 44.86it/s]\n",
      "Training Epoch 1754: 100%|██████████| 259/259 [00:05<00:00, 43.91it/s]\n",
      "Training Epoch 1755: 100%|██████████| 259/259 [00:05<00:00, 45.57it/s]\n",
      "Training Epoch 1756: 100%|██████████| 259/259 [00:05<00:00, 44.32it/s]\n",
      "Training Epoch 1757: 100%|██████████| 259/259 [00:05<00:00, 45.93it/s]\n",
      "Training Epoch 1758: 100%|██████████| 259/259 [00:05<00:00, 44.64it/s]\n",
      "Training Epoch 1759: 100%|██████████| 259/259 [00:05<00:00, 45.59it/s]\n",
      "Training Epoch 1760: 100%|██████████| 259/259 [00:05<00:00, 44.45it/s]\n",
      "Training Epoch 1761: 100%|██████████| 259/259 [00:05<00:00, 44.04it/s]\n"
     ]
    },
    {
     "name": "stdout",
     "output_type": "stream",
     "text": [
      "Epoch 1760 - Train Loss: 0.0396, Train MSE: 0.0396, Train MAE: 0.1349\n",
      "Epoch 1760 - Validation Loss: 2.2044, Validation MSE: 2.1992, Validation MAE: 1.1362\n"
     ]
    },
    {
     "name": "stderr",
     "output_type": "stream",
     "text": [
      "Training Epoch 1762: 100%|██████████| 259/259 [00:05<00:00, 44.25it/s]\n",
      "Training Epoch 1763: 100%|██████████| 259/259 [00:05<00:00, 44.78it/s]\n",
      "Training Epoch 1764: 100%|██████████| 259/259 [00:05<00:00, 44.17it/s]\n",
      "Training Epoch 1765: 100%|██████████| 259/259 [00:05<00:00, 44.75it/s]\n",
      "Training Epoch 1766: 100%|██████████| 259/259 [00:05<00:00, 45.12it/s]\n",
      "Training Epoch 1767: 100%|██████████| 259/259 [00:05<00:00, 46.49it/s]\n",
      "Training Epoch 1768: 100%|██████████| 259/259 [00:05<00:00, 45.70it/s]\n",
      "Training Epoch 1769: 100%|██████████| 259/259 [00:05<00:00, 44.33it/s]\n",
      "Training Epoch 1770: 100%|██████████| 259/259 [00:05<00:00, 44.90it/s]\n",
      "Training Epoch 1771: 100%|██████████| 259/259 [00:05<00:00, 44.03it/s]\n"
     ]
    },
    {
     "name": "stdout",
     "output_type": "stream",
     "text": [
      "Epoch 1770 - Train Loss: 0.0395, Train MSE: 0.0395, Train MAE: 0.1345\n",
      "Epoch 1770 - Validation Loss: 2.2206, Validation MSE: 2.2148, Validation MAE: 1.1455\n"
     ]
    },
    {
     "name": "stderr",
     "output_type": "stream",
     "text": [
      "Training Epoch 1772: 100%|██████████| 259/259 [00:05<00:00, 43.56it/s]\n",
      "Training Epoch 1773: 100%|██████████| 259/259 [00:05<00:00, 45.11it/s]\n",
      "Training Epoch 1774: 100%|██████████| 259/259 [00:05<00:00, 45.26it/s]\n",
      "Training Epoch 1775: 100%|██████████| 259/259 [00:05<00:00, 44.31it/s]\n",
      "Training Epoch 1776: 100%|██████████| 259/259 [00:05<00:00, 45.73it/s]\n",
      "Training Epoch 1777: 100%|██████████| 259/259 [00:05<00:00, 44.41it/s]\n",
      "Training Epoch 1778: 100%|██████████| 259/259 [00:05<00:00, 45.67it/s]\n",
      "Training Epoch 1779: 100%|██████████| 259/259 [00:05<00:00, 46.27it/s]\n",
      "Training Epoch 1780: 100%|██████████| 259/259 [00:05<00:00, 44.29it/s]\n",
      "Training Epoch 1781: 100%|██████████| 259/259 [00:06<00:00, 40.84it/s]\n"
     ]
    },
    {
     "name": "stdout",
     "output_type": "stream",
     "text": [
      "Epoch 1780 - Train Loss: 0.0405, Train MSE: 0.0405, Train MAE: 0.1352\n",
      "Epoch 1780 - Validation Loss: 2.2691, Validation MSE: 2.2641, Validation MAE: 1.1577\n"
     ]
    },
    {
     "name": "stderr",
     "output_type": "stream",
     "text": [
      "Training Epoch 1782: 100%|██████████| 259/259 [00:06<00:00, 42.73it/s]\n",
      "Training Epoch 1783: 100%|██████████| 259/259 [00:05<00:00, 44.32it/s]\n",
      "Training Epoch 1784: 100%|██████████| 259/259 [00:05<00:00, 45.48it/s]\n",
      "Training Epoch 1785: 100%|██████████| 259/259 [00:05<00:00, 44.38it/s]\n",
      "Training Epoch 1786: 100%|██████████| 259/259 [00:05<00:00, 45.02it/s]\n",
      "Training Epoch 1787: 100%|██████████| 259/259 [00:05<00:00, 45.95it/s]\n",
      "Training Epoch 1788: 100%|██████████| 259/259 [00:05<00:00, 45.51it/s]\n",
      "Training Epoch 1789: 100%|██████████| 259/259 [00:05<00:00, 43.69it/s]\n",
      "Training Epoch 1790: 100%|██████████| 259/259 [00:05<00:00, 44.43it/s]\n",
      "Training Epoch 1791: 100%|██████████| 259/259 [00:06<00:00, 42.70it/s]\n"
     ]
    },
    {
     "name": "stdout",
     "output_type": "stream",
     "text": [
      "Epoch 1790 - Train Loss: 0.0396, Train MSE: 0.0396, Train MAE: 0.1337\n",
      "Epoch 1790 - Validation Loss: 2.2442, Validation MSE: 2.2399, Validation MAE: 1.1525\n"
     ]
    },
    {
     "name": "stderr",
     "output_type": "stream",
     "text": [
      "Training Epoch 1792: 100%|██████████| 259/259 [00:06<00:00, 42.87it/s]\n",
      "Training Epoch 1793: 100%|██████████| 259/259 [00:05<00:00, 44.40it/s]\n",
      "Training Epoch 1794: 100%|██████████| 259/259 [00:05<00:00, 45.50it/s]\n",
      "Training Epoch 1795: 100%|██████████| 259/259 [00:05<00:00, 47.53it/s]\n",
      "Training Epoch 1796: 100%|██████████| 259/259 [00:05<00:00, 45.35it/s]\n",
      "Training Epoch 1797: 100%|██████████| 259/259 [00:05<00:00, 45.81it/s]\n",
      "Training Epoch 1798: 100%|██████████| 259/259 [00:05<00:00, 44.51it/s]\n",
      "Training Epoch 1799: 100%|██████████| 259/259 [00:05<00:00, 44.91it/s]\n",
      "Training Epoch 1800: 100%|██████████| 259/259 [00:05<00:00, 44.71it/s]\n",
      "Training Epoch 1801: 100%|██████████| 259/259 [00:06<00:00, 42.05it/s]\n"
     ]
    },
    {
     "name": "stdout",
     "output_type": "stream",
     "text": [
      "Epoch 1800 - Train Loss: 0.0444, Train MSE: 0.0444, Train MAE: 0.1432\n",
      "Epoch 1800 - Validation Loss: 2.2879, Validation MSE: 2.2802, Validation MAE: 1.1628\n"
     ]
    },
    {
     "name": "stderr",
     "output_type": "stream",
     "text": [
      "Training Epoch 1802: 100%|██████████| 259/259 [00:05<00:00, 45.30it/s]\n",
      "Training Epoch 1803: 100%|██████████| 259/259 [00:05<00:00, 45.25it/s]\n",
      "Training Epoch 1804: 100%|██████████| 259/259 [00:05<00:00, 44.16it/s]\n",
      "Training Epoch 1805: 100%|██████████| 259/259 [00:05<00:00, 44.00it/s]\n",
      "Training Epoch 1806: 100%|██████████| 259/259 [00:05<00:00, 45.12it/s]\n",
      "Training Epoch 1807: 100%|██████████| 259/259 [00:05<00:00, 44.88it/s]\n",
      "Training Epoch 1808: 100%|██████████| 259/259 [00:05<00:00, 44.57it/s]\n",
      "Training Epoch 1809: 100%|██████████| 259/259 [00:05<00:00, 44.50it/s]\n",
      "Training Epoch 1810: 100%|██████████| 259/259 [00:05<00:00, 44.43it/s]\n",
      "Training Epoch 1811: 100%|██████████| 259/259 [00:06<00:00, 42.90it/s]\n"
     ]
    },
    {
     "name": "stdout",
     "output_type": "stream",
     "text": [
      "Epoch 1810 - Train Loss: 0.0409, Train MSE: 0.0406, Train MAE: 0.1347\n",
      "Epoch 1810 - Validation Loss: 2.2319, Validation MSE: 2.2245, Validation MAE: 1.1499\n"
     ]
    },
    {
     "name": "stderr",
     "output_type": "stream",
     "text": [
      "Training Epoch 1812: 100%|██████████| 259/259 [00:06<00:00, 42.13it/s]\n",
      "Training Epoch 1813: 100%|██████████| 259/259 [00:05<00:00, 44.06it/s]\n",
      "Training Epoch 1814: 100%|██████████| 259/259 [00:06<00:00, 42.73it/s]\n",
      "Training Epoch 1815: 100%|██████████| 259/259 [00:05<00:00, 46.02it/s]\n",
      "Training Epoch 1816: 100%|██████████| 259/259 [00:05<00:00, 45.67it/s]\n",
      "Training Epoch 1817: 100%|██████████| 259/259 [00:05<00:00, 45.57it/s]\n",
      "Training Epoch 1818: 100%|██████████| 259/259 [00:05<00:00, 45.02it/s]\n",
      "Training Epoch 1819: 100%|██████████| 259/259 [00:05<00:00, 44.78it/s]\n",
      "Training Epoch 1820: 100%|██████████| 259/259 [00:05<00:00, 45.49it/s]\n",
      "Training Epoch 1821: 100%|██████████| 259/259 [00:06<00:00, 42.68it/s]\n"
     ]
    },
    {
     "name": "stdout",
     "output_type": "stream",
     "text": [
      "Epoch 1820 - Train Loss: 0.0406, Train MSE: 0.0406, Train MAE: 0.1352\n",
      "Epoch 1820 - Validation Loss: 2.2669, Validation MSE: 2.2608, Validation MAE: 1.1611\n"
     ]
    },
    {
     "name": "stderr",
     "output_type": "stream",
     "text": [
      "Training Epoch 1822: 100%|██████████| 259/259 [00:05<00:00, 45.42it/s]\n",
      "Training Epoch 1823: 100%|██████████| 259/259 [00:05<00:00, 46.08it/s]\n",
      "Training Epoch 1824: 100%|██████████| 259/259 [00:06<00:00, 42.07it/s]\n",
      "Training Epoch 1825: 100%|██████████| 259/259 [00:05<00:00, 45.11it/s]\n",
      "Training Epoch 1826: 100%|██████████| 259/259 [00:05<00:00, 44.66it/s]\n",
      "Training Epoch 1827: 100%|██████████| 259/259 [00:05<00:00, 46.22it/s]\n",
      "Training Epoch 1828: 100%|██████████| 259/259 [00:05<00:00, 45.20it/s]\n",
      "Training Epoch 1829: 100%|██████████| 259/259 [00:05<00:00, 44.53it/s]\n",
      "Training Epoch 1830: 100%|██████████| 259/259 [00:05<00:00, 43.52it/s]\n",
      "Training Epoch 1831: 100%|██████████| 259/259 [00:06<00:00, 42.69it/s]\n"
     ]
    },
    {
     "name": "stdout",
     "output_type": "stream",
     "text": [
      "Epoch 1830 - Train Loss: 0.0461, Train MSE: 0.0460, Train MAE: 0.1418\n",
      "Epoch 1830 - Validation Loss: 2.2378, Validation MSE: 2.2325, Validation MAE: 1.1557\n"
     ]
    },
    {
     "name": "stderr",
     "output_type": "stream",
     "text": [
      "Training Epoch 1832: 100%|██████████| 259/259 [00:05<00:00, 44.74it/s]\n",
      "Training Epoch 1833: 100%|██████████| 259/259 [00:05<00:00, 44.93it/s]\n",
      "Training Epoch 1834: 100%|██████████| 259/259 [00:05<00:00, 43.88it/s]\n",
      "Training Epoch 1835: 100%|██████████| 259/259 [00:05<00:00, 45.84it/s]\n",
      "Training Epoch 1836: 100%|██████████| 259/259 [00:05<00:00, 44.15it/s]\n",
      "Training Epoch 1837: 100%|██████████| 259/259 [00:05<00:00, 45.51it/s]\n",
      "Training Epoch 1838: 100%|██████████| 259/259 [00:05<00:00, 45.80it/s]\n",
      "Training Epoch 1839: 100%|██████████| 259/259 [00:05<00:00, 44.63it/s]\n",
      "Training Epoch 1840: 100%|██████████| 259/259 [00:05<00:00, 45.19it/s]\n",
      "Training Epoch 1841: 100%|██████████| 259/259 [00:05<00:00, 43.34it/s]\n"
     ]
    },
    {
     "name": "stdout",
     "output_type": "stream",
     "text": [
      "Epoch 1840 - Train Loss: 0.0393, Train MSE: 0.0393, Train MAE: 0.1340\n",
      "Epoch 1840 - Validation Loss: 2.2285, Validation MSE: 2.2231, Validation MAE: 1.1506\n"
     ]
    },
    {
     "name": "stderr",
     "output_type": "stream",
     "text": [
      "Training Epoch 1842: 100%|██████████| 259/259 [00:06<00:00, 42.43it/s]\n",
      "Training Epoch 1843: 100%|██████████| 259/259 [00:05<00:00, 44.49it/s]\n",
      "Training Epoch 1844: 100%|██████████| 259/259 [00:05<00:00, 44.11it/s]\n",
      "Training Epoch 1845: 100%|██████████| 259/259 [00:05<00:00, 45.37it/s]\n",
      "Training Epoch 1846: 100%|██████████| 259/259 [00:05<00:00, 45.05it/s]\n",
      "Training Epoch 1847: 100%|██████████| 259/259 [00:05<00:00, 45.62it/s]\n",
      "Training Epoch 1848: 100%|██████████| 259/259 [00:05<00:00, 45.69it/s]\n",
      "Training Epoch 1849: 100%|██████████| 259/259 [00:05<00:00, 44.42it/s]\n",
      "Training Epoch 1850: 100%|██████████| 259/259 [00:05<00:00, 45.76it/s]\n",
      "Training Epoch 1851: 100%|██████████| 259/259 [00:06<00:00, 42.40it/s]\n"
     ]
    },
    {
     "name": "stdout",
     "output_type": "stream",
     "text": [
      "Epoch 1850 - Train Loss: 0.0434, Train MSE: 0.0435, Train MAE: 0.1398\n",
      "Epoch 1850 - Validation Loss: 2.2585, Validation MSE: 2.2532, Validation MAE: 1.1590\n"
     ]
    },
    {
     "name": "stderr",
     "output_type": "stream",
     "text": [
      "Training Epoch 1852: 100%|██████████| 259/259 [00:05<00:00, 45.70it/s]\n",
      "Training Epoch 1853: 100%|██████████| 259/259 [00:05<00:00, 44.09it/s]\n",
      "Training Epoch 1854: 100%|██████████| 259/259 [00:05<00:00, 44.12it/s]\n",
      "Training Epoch 1855: 100%|██████████| 259/259 [00:05<00:00, 44.58it/s]\n",
      "Training Epoch 1856: 100%|██████████| 259/259 [00:05<00:00, 46.69it/s]\n",
      "Training Epoch 1857: 100%|██████████| 259/259 [00:05<00:00, 45.20it/s]\n",
      "Training Epoch 1858: 100%|██████████| 259/259 [00:05<00:00, 44.91it/s]\n",
      "Training Epoch 1859: 100%|██████████| 259/259 [00:05<00:00, 44.88it/s]\n",
      "Training Epoch 1860: 100%|██████████| 259/259 [00:05<00:00, 44.86it/s]\n",
      "Training Epoch 1861: 100%|██████████| 259/259 [00:06<00:00, 42.59it/s]\n"
     ]
    },
    {
     "name": "stdout",
     "output_type": "stream",
     "text": [
      "Epoch 1860 - Train Loss: 0.0401, Train MSE: 0.0401, Train MAE: 0.1344\n",
      "Epoch 1860 - Validation Loss: 2.3460, Validation MSE: 2.3401, Validation MAE: 1.1663\n"
     ]
    },
    {
     "name": "stderr",
     "output_type": "stream",
     "text": [
      "Training Epoch 1862: 100%|██████████| 259/259 [00:05<00:00, 44.14it/s]\n",
      "Training Epoch 1863: 100%|██████████| 259/259 [00:05<00:00, 44.91it/s]\n",
      "Training Epoch 1864: 100%|██████████| 259/259 [00:05<00:00, 44.21it/s]\n",
      "Training Epoch 1865: 100%|██████████| 259/259 [00:05<00:00, 49.64it/s]\n",
      "Training Epoch 1866: 100%|██████████| 259/259 [00:05<00:00, 49.47it/s]\n",
      "Training Epoch 1867: 100%|██████████| 259/259 [00:05<00:00, 51.44it/s]\n",
      "Training Epoch 1868: 100%|██████████| 259/259 [00:05<00:00, 49.26it/s]\n",
      "Training Epoch 1869: 100%|██████████| 259/259 [00:05<00:00, 50.31it/s]\n",
      "Training Epoch 1870: 100%|██████████| 259/259 [00:05<00:00, 50.35it/s]\n",
      "Training Epoch 1871: 100%|██████████| 259/259 [00:05<00:00, 49.59it/s]\n"
     ]
    },
    {
     "name": "stdout",
     "output_type": "stream",
     "text": [
      "Epoch 1870 - Train Loss: 0.0387, Train MSE: 0.0387, Train MAE: 0.1317\n",
      "Epoch 1870 - Validation Loss: 2.3117, Validation MSE: 2.3058, Validation MAE: 1.1683\n"
     ]
    },
    {
     "name": "stderr",
     "output_type": "stream",
     "text": [
      "Training Epoch 1872: 100%|██████████| 259/259 [00:05<00:00, 46.51it/s]\n",
      "Training Epoch 1873: 100%|██████████| 259/259 [00:05<00:00, 49.56it/s]\n",
      "Training Epoch 1874: 100%|██████████| 259/259 [00:05<00:00, 49.74it/s]\n",
      "Training Epoch 1875: 100%|██████████| 259/259 [00:05<00:00, 48.94it/s]\n",
      "Training Epoch 1876: 100%|██████████| 259/259 [00:05<00:00, 50.23it/s]\n",
      "Training Epoch 1877: 100%|██████████| 259/259 [00:05<00:00, 50.21it/s]\n",
      "Training Epoch 1878: 100%|██████████| 259/259 [00:05<00:00, 49.68it/s]\n",
      "Training Epoch 1879: 100%|██████████| 259/259 [00:05<00:00, 50.70it/s]\n",
      "Training Epoch 1880: 100%|██████████| 259/259 [00:05<00:00, 50.54it/s]\n",
      "Training Epoch 1881: 100%|██████████| 259/259 [00:05<00:00, 49.64it/s]\n"
     ]
    },
    {
     "name": "stdout",
     "output_type": "stream",
     "text": [
      "Epoch 1880 - Train Loss: 0.0383, Train MSE: 0.0384, Train MAE: 0.1325\n",
      "Epoch 1880 - Validation Loss: 2.2095, Validation MSE: 2.2022, Validation MAE: 1.1409\n"
     ]
    },
    {
     "name": "stderr",
     "output_type": "stream",
     "text": [
      "Training Epoch 1882: 100%|██████████| 259/259 [00:05<00:00, 50.25it/s]\n",
      "Training Epoch 1883: 100%|██████████| 259/259 [00:05<00:00, 47.42it/s]\n",
      "Training Epoch 1884: 100%|██████████| 259/259 [00:05<00:00, 49.43it/s]\n",
      "Training Epoch 1885: 100%|██████████| 259/259 [00:04<00:00, 63.28it/s]\n",
      "Training Epoch 1886: 100%|██████████| 259/259 [00:04<00:00, 62.01it/s]\n",
      "Training Epoch 1887: 100%|██████████| 259/259 [00:04<00:00, 64.00it/s]\n",
      "Training Epoch 1888: 100%|██████████| 259/259 [00:04<00:00, 64.72it/s]\n",
      "Training Epoch 1889: 100%|██████████| 259/259 [00:03<00:00, 64.94it/s]\n",
      "Training Epoch 1890: 100%|██████████| 259/259 [00:04<00:00, 64.13it/s]\n",
      "Training Epoch 1891: 100%|██████████| 259/259 [00:03<00:00, 65.00it/s]\n"
     ]
    },
    {
     "name": "stdout",
     "output_type": "stream",
     "text": [
      "Epoch 1890 - Train Loss: 0.0375, Train MSE: 0.0376, Train MAE: 0.1321\n",
      "Epoch 1890 - Validation Loss: 2.2599, Validation MSE: 2.2529, Validation MAE: 1.1535\n"
     ]
    },
    {
     "name": "stderr",
     "output_type": "stream",
     "text": [
      "Training Epoch 1892: 100%|██████████| 259/259 [00:03<00:00, 65.22it/s]\n",
      "Training Epoch 1893: 100%|██████████| 259/259 [00:04<00:00, 64.45it/s]\n",
      "Training Epoch 1894: 100%|██████████| 259/259 [00:03<00:00, 64.86it/s]\n",
      "Training Epoch 1895: 100%|██████████| 259/259 [00:04<00:00, 64.15it/s]\n",
      "Training Epoch 1896: 100%|██████████| 259/259 [00:03<00:00, 66.06it/s]\n",
      "Training Epoch 1897: 100%|██████████| 259/259 [00:04<00:00, 58.46it/s]\n",
      "Training Epoch 1898: 100%|██████████| 259/259 [00:04<00:00, 63.56it/s]\n",
      "Training Epoch 1899: 100%|██████████| 259/259 [00:03<00:00, 65.95it/s]\n",
      "Training Epoch 1900: 100%|██████████| 259/259 [00:04<00:00, 64.06it/s]\n",
      "Training Epoch 1901: 100%|██████████| 259/259 [00:04<00:00, 62.83it/s]\n"
     ]
    },
    {
     "name": "stdout",
     "output_type": "stream",
     "text": [
      "Epoch 1900 - Train Loss: 0.0425, Train MSE: 0.0425, Train MAE: 0.1378\n",
      "Epoch 1900 - Validation Loss: 2.2734, Validation MSE: 2.2668, Validation MAE: 1.1520\n"
     ]
    },
    {
     "name": "stderr",
     "output_type": "stream",
     "text": [
      "Training Epoch 1902: 100%|██████████| 259/259 [00:03<00:00, 65.64it/s]\n",
      "Training Epoch 1903: 100%|██████████| 259/259 [00:03<00:00, 65.86it/s]\n",
      "Training Epoch 1904: 100%|██████████| 259/259 [00:04<00:00, 62.52it/s]\n",
      "Training Epoch 1905: 100%|██████████| 259/259 [00:03<00:00, 64.95it/s]\n",
      "Training Epoch 1906: 100%|██████████| 259/259 [00:03<00:00, 65.61it/s]\n",
      "Training Epoch 1907: 100%|██████████| 259/259 [00:04<00:00, 64.29it/s]\n",
      "Training Epoch 1908: 100%|██████████| 259/259 [00:03<00:00, 65.21it/s]\n",
      "Training Epoch 1909: 100%|██████████| 259/259 [00:04<00:00, 64.29it/s]\n",
      "Training Epoch 1910: 100%|██████████| 259/259 [00:03<00:00, 65.70it/s]\n",
      "Training Epoch 1911: 100%|██████████| 259/259 [00:04<00:00, 62.48it/s]\n"
     ]
    },
    {
     "name": "stdout",
     "output_type": "stream",
     "text": [
      "Epoch 1910 - Train Loss: 0.0463, Train MSE: 0.0463, Train MAE: 0.1430\n",
      "Epoch 1910 - Validation Loss: 2.3071, Validation MSE: 2.3015, Validation MAE: 1.1612\n"
     ]
    },
    {
     "name": "stderr",
     "output_type": "stream",
     "text": [
      "Training Epoch 1912: 100%|██████████| 259/259 [00:04<00:00, 60.73it/s]\n",
      "Training Epoch 1913: 100%|██████████| 259/259 [00:03<00:00, 65.61it/s]\n",
      "Training Epoch 1914: 100%|██████████| 259/259 [00:04<00:00, 63.92it/s]\n",
      "Training Epoch 1915: 100%|██████████| 259/259 [00:04<00:00, 63.89it/s]\n",
      "Training Epoch 1916: 100%|██████████| 259/259 [00:03<00:00, 64.89it/s]\n",
      "Training Epoch 1917: 100%|██████████| 259/259 [00:04<00:00, 64.69it/s]\n",
      "Training Epoch 1918: 100%|██████████| 259/259 [00:03<00:00, 65.04it/s]\n",
      "Training Epoch 1919: 100%|██████████| 259/259 [00:03<00:00, 66.06it/s]\n",
      "Training Epoch 1920: 100%|██████████| 259/259 [00:03<00:00, 66.06it/s]\n",
      "Training Epoch 1921: 100%|██████████| 259/259 [00:03<00:00, 64.77it/s]\n"
     ]
    },
    {
     "name": "stdout",
     "output_type": "stream",
     "text": [
      "Epoch 1920 - Train Loss: 0.0375, Train MSE: 0.0375, Train MAE: 0.1293\n",
      "Epoch 1920 - Validation Loss: 2.3153, Validation MSE: 2.3085, Validation MAE: 1.1632\n"
     ]
    },
    {
     "name": "stderr",
     "output_type": "stream",
     "text": [
      "Training Epoch 1922: 100%|██████████| 259/259 [00:03<00:00, 64.85it/s]\n",
      "Training Epoch 1923: 100%|██████████| 259/259 [00:03<00:00, 65.72it/s]\n",
      "Training Epoch 1924: 100%|██████████| 259/259 [00:04<00:00, 64.64it/s]\n",
      "Training Epoch 1925: 100%|██████████| 259/259 [00:04<00:00, 61.80it/s]\n",
      "Training Epoch 1926: 100%|██████████| 259/259 [00:04<00:00, 64.51it/s]\n",
      "Training Epoch 1927: 100%|██████████| 259/259 [00:04<00:00, 64.66it/s]\n",
      "Training Epoch 1928: 100%|██████████| 259/259 [00:04<00:00, 64.04it/s]\n",
      "Training Epoch 1929: 100%|██████████| 259/259 [00:04<00:00, 63.49it/s]\n",
      "Training Epoch 1930: 100%|██████████| 259/259 [00:03<00:00, 66.16it/s]\n",
      "Training Epoch 1931: 100%|██████████| 259/259 [00:04<00:00, 62.38it/s]\n"
     ]
    },
    {
     "name": "stdout",
     "output_type": "stream",
     "text": [
      "Epoch 1930 - Train Loss: 0.0453, Train MSE: 0.0453, Train MAE: 0.1423\n",
      "Epoch 1930 - Validation Loss: 2.2419, Validation MSE: 2.2369, Validation MAE: 1.1500\n"
     ]
    },
    {
     "name": "stderr",
     "output_type": "stream",
     "text": [
      "Training Epoch 1932: 100%|██████████| 259/259 [00:04<00:00, 63.17it/s]\n",
      "Training Epoch 1933: 100%|██████████| 259/259 [00:04<00:00, 61.70it/s]\n",
      "Training Epoch 1934: 100%|██████████| 259/259 [00:04<00:00, 64.53it/s]\n",
      "Training Epoch 1935: 100%|██████████| 259/259 [00:04<00:00, 62.75it/s]\n",
      "Training Epoch 1936: 100%|██████████| 259/259 [00:03<00:00, 65.13it/s]\n",
      "Training Epoch 1937: 100%|██████████| 259/259 [00:03<00:00, 65.53it/s]\n",
      "Training Epoch 1938: 100%|██████████| 259/259 [00:03<00:00, 65.28it/s]\n",
      "Training Epoch 1939: 100%|██████████| 259/259 [00:04<00:00, 62.53it/s]\n",
      "Training Epoch 1940: 100%|██████████| 259/259 [00:04<00:00, 58.92it/s]\n",
      "Training Epoch 1941: 100%|██████████| 259/259 [00:04<00:00, 64.60it/s]\n"
     ]
    },
    {
     "name": "stdout",
     "output_type": "stream",
     "text": [
      "Epoch 1940 - Train Loss: 0.0377, Train MSE: 0.0377, Train MAE: 0.1320\n",
      "Epoch 1940 - Validation Loss: 2.2962, Validation MSE: 2.2914, Validation MAE: 1.1609\n"
     ]
    },
    {
     "name": "stderr",
     "output_type": "stream",
     "text": [
      "Training Epoch 1942: 100%|██████████| 259/259 [00:04<00:00, 64.04it/s]\n",
      "Training Epoch 1943: 100%|██████████| 259/259 [00:04<00:00, 63.73it/s]\n",
      "Training Epoch 1944: 100%|██████████| 259/259 [00:04<00:00, 63.65it/s]\n",
      "Training Epoch 1945: 100%|██████████| 259/259 [00:03<00:00, 65.08it/s]\n",
      "Training Epoch 1946: 100%|██████████| 259/259 [00:04<00:00, 64.41it/s]\n",
      "Training Epoch 1947: 100%|██████████| 259/259 [00:04<00:00, 63.56it/s]\n",
      "Training Epoch 1948: 100%|██████████| 259/259 [00:04<00:00, 62.34it/s]\n",
      "Training Epoch 1949: 100%|██████████| 259/259 [00:04<00:00, 64.74it/s]\n",
      "Training Epoch 1950: 100%|██████████| 259/259 [00:03<00:00, 67.07it/s]\n",
      "Training Epoch 1951: 100%|██████████| 259/259 [00:04<00:00, 62.98it/s]\n"
     ]
    },
    {
     "name": "stdout",
     "output_type": "stream",
     "text": [
      "Epoch 1950 - Train Loss: 0.0379, Train MSE: 0.0380, Train MAE: 0.1316\n",
      "Epoch 1950 - Validation Loss: 2.3373, Validation MSE: 2.3318, Validation MAE: 1.1636\n"
     ]
    },
    {
     "name": "stderr",
     "output_type": "stream",
     "text": [
      "Training Epoch 1952: 100%|██████████| 259/259 [00:03<00:00, 65.52it/s]\n",
      "Training Epoch 1953: 100%|██████████| 259/259 [00:04<00:00, 64.17it/s]\n",
      "Training Epoch 1954: 100%|██████████| 259/259 [00:04<00:00, 58.52it/s]\n",
      "Training Epoch 1955: 100%|██████████| 259/259 [00:04<00:00, 64.27it/s]\n",
      "Training Epoch 1956: 100%|██████████| 259/259 [00:04<00:00, 64.14it/s]\n",
      "Training Epoch 1957: 100%|██████████| 259/259 [00:04<00:00, 63.26it/s]\n",
      "Training Epoch 1958: 100%|██████████| 259/259 [00:04<00:00, 63.97it/s]\n",
      "Training Epoch 1959: 100%|██████████| 259/259 [00:04<00:00, 63.84it/s]\n",
      "Training Epoch 1960: 100%|██████████| 259/259 [00:03<00:00, 67.19it/s]\n",
      "Training Epoch 1961: 100%|██████████| 259/259 [00:03<00:00, 65.47it/s]\n"
     ]
    },
    {
     "name": "stdout",
     "output_type": "stream",
     "text": [
      "Epoch 1960 - Train Loss: 0.0428, Train MSE: 0.0427, Train MAE: 0.1345\n",
      "Epoch 1960 - Validation Loss: 2.2569, Validation MSE: 2.2513, Validation MAE: 1.1528\n"
     ]
    },
    {
     "name": "stderr",
     "output_type": "stream",
     "text": [
      "Training Epoch 1962: 100%|██████████| 259/259 [00:03<00:00, 65.12it/s]\n",
      "Training Epoch 1963: 100%|██████████| 259/259 [00:03<00:00, 65.23it/s]\n",
      "Training Epoch 1964: 100%|██████████| 259/259 [00:04<00:00, 63.86it/s]\n",
      "Training Epoch 1965: 100%|██████████| 259/259 [00:04<00:00, 64.06it/s]\n",
      "Training Epoch 1966: 100%|██████████| 259/259 [00:04<00:00, 62.98it/s]\n",
      "Training Epoch 1967: 100%|██████████| 259/259 [00:03<00:00, 66.04it/s]\n",
      "Training Epoch 1968: 100%|██████████| 259/259 [00:04<00:00, 62.04it/s]\n",
      "Training Epoch 1969: 100%|██████████| 259/259 [00:04<00:00, 63.96it/s]\n",
      "Training Epoch 1970: 100%|██████████| 259/259 [00:03<00:00, 65.64it/s]\n",
      "Training Epoch 1971: 100%|██████████| 259/259 [00:04<00:00, 63.34it/s]\n"
     ]
    },
    {
     "name": "stdout",
     "output_type": "stream",
     "text": [
      "Epoch 1970 - Train Loss: 0.0396, Train MSE: 0.0397, Train MAE: 0.1330\n",
      "Epoch 1970 - Validation Loss: 2.2369, Validation MSE: 2.2320, Validation MAE: 1.1521\n"
     ]
    },
    {
     "name": "stderr",
     "output_type": "stream",
     "text": [
      "Training Epoch 1972: 100%|██████████| 259/259 [00:04<00:00, 63.92it/s]\n",
      "Training Epoch 1973: 100%|██████████| 259/259 [00:04<00:00, 64.29it/s]\n",
      "Training Epoch 1974: 100%|██████████| 259/259 [00:04<00:00, 63.70it/s]\n",
      "Training Epoch 1975: 100%|██████████| 259/259 [00:03<00:00, 64.96it/s]\n",
      "Training Epoch 1976: 100%|██████████| 259/259 [00:03<00:00, 65.24it/s]\n",
      "Training Epoch 1977: 100%|██████████| 259/259 [00:04<00:00, 62.39it/s]\n",
      "Training Epoch 1978: 100%|██████████| 259/259 [00:03<00:00, 65.13it/s]\n",
      "Training Epoch 1979: 100%|██████████| 259/259 [00:03<00:00, 64.88it/s]\n",
      "Training Epoch 1980: 100%|██████████| 259/259 [00:03<00:00, 66.25it/s]\n",
      "Training Epoch 1981: 100%|██████████| 259/259 [00:03<00:00, 65.75it/s]\n"
     ]
    },
    {
     "name": "stdout",
     "output_type": "stream",
     "text": [
      "Epoch 1980 - Train Loss: 0.0353, Train MSE: 0.0354, Train MAE: 0.1281\n",
      "Epoch 1980 - Validation Loss: 2.2538, Validation MSE: 2.2487, Validation MAE: 1.1583\n"
     ]
    },
    {
     "name": "stderr",
     "output_type": "stream",
     "text": [
      "Training Epoch 1982: 100%|██████████| 259/259 [00:04<00:00, 64.66it/s]\n",
      "Training Epoch 1983: 100%|██████████| 259/259 [00:04<00:00, 62.09it/s]\n",
      "Training Epoch 1984: 100%|██████████| 259/259 [00:04<00:00, 64.74it/s]\n",
      "Training Epoch 1985: 100%|██████████| 259/259 [00:04<00:00, 63.48it/s]\n",
      "Training Epoch 1986: 100%|██████████| 259/259 [00:04<00:00, 61.62it/s]\n",
      "Training Epoch 1987: 100%|██████████| 259/259 [00:03<00:00, 65.24it/s]\n",
      "Training Epoch 1988: 100%|██████████| 259/259 [00:03<00:00, 65.39it/s]\n",
      "Training Epoch 1989: 100%|██████████| 259/259 [00:03<00:00, 64.99it/s]\n",
      "Training Epoch 1990: 100%|██████████| 259/259 [00:03<00:00, 65.81it/s]\n",
      "Training Epoch 1991: 100%|██████████| 259/259 [00:03<00:00, 65.78it/s]\n"
     ]
    },
    {
     "name": "stdout",
     "output_type": "stream",
     "text": [
      "Epoch 1990 - Train Loss: 0.0351, Train MSE: 0.0352, Train MAE: 0.1278\n",
      "Epoch 1990 - Validation Loss: 2.2927, Validation MSE: 2.2862, Validation MAE: 1.1645\n"
     ]
    },
    {
     "name": "stderr",
     "output_type": "stream",
     "text": [
      "Training Epoch 1992: 100%|██████████| 259/259 [00:03<00:00, 65.37it/s]\n",
      "Training Epoch 1993: 100%|██████████| 259/259 [00:04<00:00, 64.38it/s]\n",
      "Training Epoch 1994: 100%|██████████| 259/259 [00:04<00:00, 64.42it/s]\n",
      "Training Epoch 1995: 100%|██████████| 259/259 [00:03<00:00, 64.80it/s]\n",
      "Training Epoch 1996: 100%|██████████| 259/259 [00:04<00:00, 64.09it/s]\n",
      "Training Epoch 1997: 100%|██████████| 259/259 [00:04<00:00, 60.29it/s]\n",
      "Training Epoch 1998: 100%|██████████| 259/259 [00:04<00:00, 64.02it/s]\n",
      "Training Epoch 1999: 100%|██████████| 259/259 [00:03<00:00, 64.81it/s]\n",
      "Training Epoch 2000: 100%|██████████| 259/259 [00:03<00:00, 65.21it/s]\n"
     ]
    },
    {
     "name": "stdout",
     "output_type": "stream",
     "text": [
      "Test MSE: 2.6633, Test MAE: 1.2620\n"
     ]
    }
   ],
   "source": [
    "import torch\n",
    "import torch.nn as nn\n",
    "import torch.optim as optim\n",
    "from tqdm import tqdm\n",
    "import pandas as pd\n",
    "from sklearn.metrics import r2_score, median_absolute_error, explained_variance_score\n",
    "from scipy.stats import pearsonr\n",
    "\n",
    "\n",
    "train_history = pd.DataFrame(columns=[  'epoch',\n",
    "    'Train Loss', 'Train MSE', 'Train MAE', 'Train RMSE', 'Train R2', 'Train Pearson', 'Train Median_AE', 'Train Explained_VAR'\n",
    "    'Val Loss', 'Val MSE', 'Val MAE', 'Val RMSE', 'Val R2', 'Val Pearson', 'Val Median_AE', 'Val Explained_VAR'])\n",
    "# Verify feature dimensions\n",
    "for batch in train_loader:\n",
    "    mol_input_dim = batch['metabolite_features'].shape[1]  # Dynamically determine mol input dimension\n",
    "    protein_input_dim = batch['protein_features'].shape[1]  # Dynamically determine protein input dimension\n",
    "    break\n",
    "\n",
    "# Initialize model, optimizer, and loss function\n",
    "model = TransformerRegressor(mol_input_dim=mol_input_dim, protein_input_dim=protein_input_dim)\n",
    "model = model.to(device)\n",
    "optimizer = optim.Adam(model.parameters(), lr=0.0001)\n",
    "criterion = nn.MSELoss()\n",
    "\n",
    "# Training and Validation Loop\n",
    "for epoch in range(2000):\n",
    "    model.train()\n",
    "    total_loss = 0.0\n",
    "    val_total_loss = 0.0\n",
    "    train_predictions, train_labels = [], []\n",
    "\n",
    "    for batch in tqdm(train_loader, desc=f\"Training Epoch {epoch + 1}\"):\n",
    "        mol_features = batch['metabolite_features'].to(device)\n",
    "        protein_features = batch['protein_features'].to(device)\n",
    "        labels = batch['label'].to(device)\n",
    "\n",
    "        optimizer.zero_grad()\n",
    "        outputs = model(mol_features, protein_features)\n",
    "        loss = criterion(outputs, labels)\n",
    "        loss.backward()\n",
    "        optimizer.step()\n",
    "        total_loss += loss.item()\n",
    "\n",
    "        # Store predictions and labels for metrics\n",
    "        train_predictions.extend(outputs.detach().cpu().numpy())\n",
    "        train_labels.extend(labels.cpu().numpy())\n",
    "\n",
    "    # Calculate training metrics\n",
    "    train_mse = ((torch.tensor(train_predictions) - torch.tensor(train_labels))**2).mean().item()\n",
    "    train_mae = torch.abs(torch.tensor(train_predictions) - torch.tensor(train_labels)).mean().item()\n",
    "    train_rmse = torch.sqrt((torch.tensor(train_predictions) - torch.tensor(train_labels)) ** 2).mean().item()\n",
    "    train_r2 = r2_score(np.array(train_labels), np.array(train_predictions))\n",
    "    train_pearson_corr, _ = pearsonr(np.array(train_labels), np.array(train_predictions))\n",
    "    train_median_ae = median_absolute_error(np.array(train_labels), np.array(train_predictions))\n",
    "    train_explained_var = explained_variance_score(np.array(train_labels), np.array(train_predictions))\n",
    "\n",
    "\n",
    "\n",
    "    if epoch % 10 == 0:\n",
    "        print(f\"Epoch {epoch} - Train Loss: {total_loss / len(train_loader):.4f}, Train MSE: {train_mse:.4f}, Train MAE: {train_mae:.4f}\")\n",
    "\n",
    "    # Validation\n",
    "    model.eval()\n",
    "    val_predictions, val_labels = [], []\n",
    "    with torch.no_grad():\n",
    "        for batch in val_loader:\n",
    "            mol_features = batch['metabolite_features'].to(device)\n",
    "            protein_features = batch['protein_features'].to(device)\n",
    "            labels = batch['label'].to(device)\n",
    "\n",
    "            outputs = model(mol_features, protein_features)\n",
    "            val_predictions.extend(outputs.cpu().numpy())\n",
    "            val_labels.extend(labels.cpu().numpy())\n",
    "            val_loss = criterion(outputs, labels)\n",
    "            val_total_loss += val_loss.item()\n",
    "\n",
    "    val_mse = ((torch.tensor(val_predictions) - torch.tensor(val_labels))**2).mean().item()\n",
    "    val_mae = torch.abs(torch.tensor(val_predictions) - torch.tensor(val_labels)).mean().item()\n",
    "    val_rmse = torch.sqrt((torch.tensor(val_predictions) - torch.tensor(val_labels)) ** 2).mean().item()\n",
    "    val_r2 = r2_score(np.array(val_labels), np.array(val_predictions))\n",
    "    val_pearson_corr, _ = pearsonr(np.array(val_labels), np.array(val_predictions))\n",
    "    val_median_ae = median_absolute_error(np.array(val_labels), np.array(val_predictions))\n",
    "    val_explained_var = explained_variance_score(np.array(val_labels), np.array(val_predictions))\n",
    "\n",
    "    if epoch % 10 == 0:\n",
    "        print(f\"Epoch {epoch} - Validation Loss: {val_total_loss / len(val_loader):.4f}, Validation MSE: {val_mse:.4f}, Validation MAE: {val_mae:.4f}\")\n",
    "\n",
    "    # Save metrics to DataFrame\n",
    "    new_row = {'epoch': epoch + 1, 'Train Loss': total_loss / len(train_loader), 'Train MSE': train_mse, 'Train MAE': train_mae, 'Train RMSE': train_rmse, 'Train R2': train_r2, 'Train Pearson': train_pearson_corr, 'Train Median_AE': train_median_ae, 'Train Explained_VAR': train_explained_var, \n",
    "               'Val Loss': val_total_loss / len(val_loader), 'Val MSE': val_mse, 'Val MAE': val_mae, 'Val RMSE': val_rmse, 'Val R2': val_r2, 'Val Pearson': val_pearson_corr, 'Val Median_AE': val_median_ae, 'Val Explained_VAR': val_explained_var}\n",
    "    train_history = pd.concat([train_history, pd.DataFrame([new_row])], ignore_index=True)\n",
    "\n",
    "\n"
   ]
  },
  {
   "cell_type": "code",
   "execution_count": 11,
   "metadata": {},
   "outputs": [],
   "source": [
    "for batch in train_loader:\n",
    "    mol_input_dim = batch['metabolite_features'].shape[1]  # Dynamically determine mol input dimension\n",
    "    protein_input_dim = batch['protein_features'].shape[1]  # Dynamically determine protein input dimension\n",
    "    break\n",
    "\n",
    "model = TransformerRegressor(mol_input_dim=mol_input_dim, protein_input_dim=protein_input_dim)\n",
    "model.load_state_dict(torch.load('/Users/pinchichen/2025S lab/AI drug project/Catpred/Ki/trained_model/cold_protein/Transformer model_Catpred_Ki_cold_protein.pt'))\n",
    "model = model.to(device)"
   ]
  },
  {
   "cell_type": "code",
   "execution_count": 12,
   "metadata": {},
   "outputs": [
    {
     "name": "stdout",
     "output_type": "stream",
     "text": [
      "Test MSE: 2.6633, Test RMSE: 1.631954570, Test MAE: 1.2620, Test R2: 0.2344, Test Pearson Correlation: 0.5801, Test Median AE: 1.0114, Test Explained Variance: 0.2470\n"
     ]
    }
   ],
   "source": [
    "from sklearn.metrics import mean_squared_error,mean_absolute_error,r2_score, median_absolute_error, explained_variance_score\n",
    "from scipy.stats import pearsonr\n",
    "# Test Metrics\n",
    "model.eval()\n",
    "test_predictions, test_labels = [], []\n",
    "with torch.no_grad():\n",
    "    for batch in test_loader:\n",
    "        mol_features = batch['metabolite_features'].to(device)\n",
    "        protein_features = batch['protein_features'].to(device)\n",
    "        labels = batch['label'].to(device)\n",
    "\n",
    "        outputs = model(mol_features, protein_features)\n",
    "        test_predictions.extend(outputs.cpu().numpy())\n",
    "        test_labels.extend(labels.cpu().numpy())\n",
    "\n",
    "test_mse = ((torch.tensor(test_predictions) - torch.tensor(test_labels))**2).mean().item()\n",
    "test_mae = torch.abs(torch.tensor(test_predictions) - torch.tensor(test_labels)).mean().item()\n",
    "test_rmse = np.sqrt(test_mse)\n",
    "test_r2 = r2_score(np.array(test_labels), np.array(test_predictions))\n",
    "test_pearson_corr, _ = pearsonr(np.array(test_labels), np.array(test_predictions))\n",
    "test_median_ae = median_absolute_error(np.array(test_labels), np.array(test_predictions))\n",
    "test_explained_var = explained_variance_score(np.array(test_labels), np.array(test_predictions))\n",
    "\n",
    "print(f\"Test MSE: {test_mse:.4f}, Test RMSE: {test_rmse:.9f}, Test MAE: {test_mae:.4f}, Test R2: {test_r2:.4f}, Test Pearson Correlation: {test_pearson_corr:.4f}, Test Median AE: {test_median_ae:.4f}, Test Explained Variance: {test_explained_var:.4f}\")"
   ]
  },
  {
   "cell_type": "code",
   "execution_count": 11,
   "metadata": {},
   "outputs": [],
   "source": [
    "\n",
    "def evaluate_model(predictions, labels):\n",
    "    mse = mean_squared_error(labels, predictions)\n",
    "    rmse = np.sqrt(mse)\n",
    "    mae = mean_absolute_error(labels, predictions)\n",
    "    r2 = r2_score(labels, predictions)\n",
    "    pearson_corr, _ = pearsonr(labels, predictions)\n",
    "    medae = median_absolute_error(labels, predictions)\n",
    "    evs = explained_variance_score(labels, predictions)\n",
    "\n",
    "    return mse, rmse, mae, r2, pearson_corr, medae, evs"
   ]
  },
  {
   "cell_type": "code",
   "execution_count": 12,
   "metadata": {},
   "outputs": [],
   "source": [
    "model.eval()\n",
    "train_pred, train_labels = [], []\n",
    "with torch.no_grad():\n",
    "    for batch in train_loader:\n",
    "        mol_features = batch['metabolite_features'].to(device)\n",
    "        protein_features = batch['protein_features'].to(device)\n",
    "        labels = batch['label'].to(device)\n",
    "\n",
    "        outputs = model(mol_features, protein_features)\n",
    "        train_pred.extend(outputs.cpu().numpy())\n",
    "        train_labels.extend(labels.cpu().numpy())\n",
    "\n",
    "train_mse, train_rmse, train_mae, train_r2, train_pearson_corr, train_median_ae, train_explained_var = evaluate_model(train_pred, train_labels)"
   ]
  },
  {
   "cell_type": "code",
   "execution_count": 13,
   "metadata": {},
   "outputs": [],
   "source": [
    "model.eval()\n",
    "val_pred, val_labels = [], []\n",
    "with torch.no_grad():\n",
    "    for batch in val_loader:\n",
    "        mol_features = batch['metabolite_features'].to(device)\n",
    "        protein_features = batch['protein_features'].to(device)\n",
    "        labels = batch['label'].to(device)\n",
    "\n",
    "        outputs = model(mol_features, protein_features)\n",
    "        val_pred.extend(outputs.cpu().numpy())\n",
    "        val_labels.extend(labels.cpu().numpy())\n",
    "\n",
    "val_mse, val_rmse, val_mae, val_r2, val_pearson_corr, val_median_ae, val_explained_var = evaluate_model(val_pred, val_labels)\n"
   ]
  },
  {
   "cell_type": "code",
   "execution_count": 14,
   "metadata": {},
   "outputs": [],
   "source": [
    "# append the performance to the csv file\n",
    "df = {\n",
    "    'Model':['Transformer','Transformer','Transformer'],\n",
    "    'Dataset':['Train','Validation','Test'],\n",
    "    'MSE':[train_mse,val_mse,test_mse],\n",
    "    'RMSE':[train_rmse,val_rmse,test_rmse],\n",
    "    'MAE':[train_mae,val_mae,test_mae],\n",
    "    'R2':[train_r2,val_r2,test_r2],\n",
    "    'Pearson':[train_pearson_corr,val_pearson_corr,test_pearson_corr],\n",
    "    'Median_AE':[train_median_ae,val_median_ae,test_median_ae],\n",
    "    'Explained_VAR':[train_explained_var,val_explained_var,test_explained_var],\n",
    "    'Dataspliting Mode':['cold protein','cold protein','cold protein']\n",
    "}\n",
    "df = pd.DataFrame(df)\n",
    "\n",
    "df.to_csv('/Users/pinchichen/2025S lab/AI drug project/Catpred/Ki/model performance metrics_Catpred_Ki.csv', mode='a', header=False)"
   ]
  },
  {
   "cell_type": "code",
   "execution_count": 11,
   "metadata": {},
   "outputs": [],
   "source": [
    "# Save the model and training history\n",
    "save_dir = '/Users/pinchichen/2025S lab/AI drug project/Catpred/Ki/trained_model/cold_protein'\n",
    "# save model weights and optimizer state\n",
    "torch.save(model.state_dict(), os.path.join(save_dir, 'Transformer model_Catpred_Ki_cold_protein.pt'))\n",
    "torch.save(optimizer.state_dict(), os.path.join(save_dir, 'Transformer optimizer_Catpred_Ki_cold_protein.pt'))"
   ]
  },
  {
   "cell_type": "code",
   "execution_count": null,
   "metadata": {},
   "outputs": [
    {
     "name": "stderr",
     "output_type": "stream",
     "text": [
      "Training Epoch 1: 100%|██████████| 258/258 [00:04<00:00, 61.10it/s]\n",
      "/var/folders/yz/c1z6m9_d5d3f80sywjc3rqsc0000gn/T/ipykernel_19860/3620067097.py:83: FutureWarning: The behavior of DataFrame concatenation with empty or all-NA entries is deprecated. In a future version, this will no longer exclude empty or all-NA columns when determining the result dtypes. To retain the old behavior, exclude the relevant entries before the concat operation.\n",
      "  train_history_2 = pd.concat([train_history_2, pd.DataFrame([new_row])], ignore_index=True)\n"
     ]
    },
    {
     "name": "stdout",
     "output_type": "stream",
     "text": [
      "Epoch 0 - Train Loss: 3.0952, Train MSE: 3.1005, Train MAE: 1.3959\n",
      "Epoch 0 - Validation Loss: 2.7818, Validation MSE: 2.7649, Validation MAE: 1.3562\n"
     ]
    },
    {
     "name": "stderr",
     "output_type": "stream",
     "text": [
      "Training Epoch 2: 100%|██████████| 258/258 [00:04<00:00, 63.56it/s]\n",
      "Training Epoch 3: 100%|██████████| 258/258 [00:04<00:00, 64.12it/s]\n",
      "Training Epoch 4: 100%|██████████| 258/258 [00:04<00:00, 62.59it/s]\n",
      "Training Epoch 5: 100%|██████████| 258/258 [00:04<00:00, 64.04it/s]\n",
      "Training Epoch 6: 100%|██████████| 258/258 [00:04<00:00, 63.77it/s]\n",
      "Training Epoch 7: 100%|██████████| 258/258 [00:04<00:00, 61.49it/s]\n",
      "Training Epoch 8: 100%|██████████| 258/258 [00:04<00:00, 62.24it/s]\n",
      "Training Epoch 9: 100%|██████████| 258/258 [00:04<00:00, 63.88it/s]\n",
      "Training Epoch 10: 100%|██████████| 258/258 [00:03<00:00, 65.39it/s]\n",
      "Training Epoch 11: 100%|██████████| 258/258 [00:04<00:00, 61.18it/s]\n"
     ]
    },
    {
     "name": "stdout",
     "output_type": "stream",
     "text": [
      "Epoch 10 - Train Loss: 2.0760, Train MSE: 2.0802, Train MAE: 1.1257\n",
      "Epoch 10 - Validation Loss: 2.4653, Validation MSE: 2.4571, Validation MAE: 1.2219\n"
     ]
    },
    {
     "name": "stderr",
     "output_type": "stream",
     "text": [
      "Training Epoch 12: 100%|██████████| 258/258 [00:04<00:00, 63.04it/s]\n",
      "Training Epoch 13: 100%|██████████| 258/258 [00:04<00:00, 63.39it/s]\n",
      "Training Epoch 14: 100%|██████████| 258/258 [00:04<00:00, 64.35it/s]\n",
      "Training Epoch 15: 100%|██████████| 258/258 [00:04<00:00, 62.41it/s]\n",
      "Training Epoch 16: 100%|██████████| 258/258 [00:04<00:00, 61.93it/s]\n",
      "Training Epoch 17: 100%|██████████| 258/258 [00:04<00:00, 63.29it/s]\n",
      "Training Epoch 18: 100%|██████████| 258/258 [00:04<00:00, 60.98it/s]\n",
      "Training Epoch 19: 100%|██████████| 258/258 [00:04<00:00, 63.70it/s]\n",
      "Training Epoch 20: 100%|██████████| 258/258 [00:03<00:00, 65.94it/s]\n",
      "Training Epoch 21: 100%|██████████| 258/258 [00:03<00:00, 65.06it/s]\n"
     ]
    },
    {
     "name": "stdout",
     "output_type": "stream",
     "text": [
      "Epoch 20 - Train Loss: 1.5643, Train MSE: 1.5559, Train MAE: 0.9671\n",
      "Epoch 20 - Validation Loss: 2.2762, Validation MSE: 2.2729, Validation MAE: 1.1765\n"
     ]
    },
    {
     "name": "stderr",
     "output_type": "stream",
     "text": [
      "Training Epoch 22: 100%|██████████| 258/258 [00:04<00:00, 64.48it/s]\n",
      "Training Epoch 23: 100%|██████████| 258/258 [00:04<00:00, 63.79it/s]\n",
      "Training Epoch 24: 100%|██████████| 258/258 [00:03<00:00, 64.56it/s]\n",
      "Training Epoch 25: 100%|██████████| 258/258 [00:04<00:00, 61.06it/s]\n",
      "Training Epoch 26: 100%|██████████| 258/258 [00:04<00:00, 63.44it/s]\n",
      "Training Epoch 27: 100%|██████████| 258/258 [00:04<00:00, 60.50it/s]\n",
      "Training Epoch 28: 100%|██████████| 258/258 [00:04<00:00, 61.17it/s]\n",
      "Training Epoch 29: 100%|██████████| 258/258 [00:04<00:00, 64.45it/s]\n",
      "Training Epoch 30: 100%|██████████| 258/258 [00:03<00:00, 65.69it/s]\n",
      "Training Epoch 31: 100%|██████████| 258/258 [00:04<00:00, 62.80it/s]\n"
     ]
    },
    {
     "name": "stdout",
     "output_type": "stream",
     "text": [
      "Epoch 30 - Train Loss: 1.1711, Train MSE: 1.1737, Train MAE: 0.8372\n",
      "Epoch 30 - Validation Loss: 2.3534, Validation MSE: 2.3624, Validation MAE: 1.1858\n"
     ]
    },
    {
     "name": "stderr",
     "output_type": "stream",
     "text": [
      "Training Epoch 32: 100%|██████████| 258/258 [00:04<00:00, 63.14it/s]\n",
      "Training Epoch 33: 100%|██████████| 258/258 [00:04<00:00, 63.16it/s]\n",
      "Training Epoch 34: 100%|██████████| 258/258 [00:04<00:00, 63.50it/s]\n",
      "Training Epoch 35: 100%|██████████| 258/258 [00:04<00:00, 64.32it/s]\n",
      "Training Epoch 36: 100%|██████████| 258/258 [00:04<00:00, 62.96it/s]\n",
      "Training Epoch 37: 100%|██████████| 258/258 [00:04<00:00, 64.24it/s]\n",
      "Training Epoch 38: 100%|██████████| 258/258 [00:04<00:00, 63.94it/s]\n",
      "Training Epoch 39: 100%|██████████| 258/258 [00:03<00:00, 64.77it/s]\n",
      "Training Epoch 40: 100%|██████████| 258/258 [00:04<00:00, 57.31it/s]\n",
      "Training Epoch 41: 100%|██████████| 258/258 [00:04<00:00, 62.99it/s]\n"
     ]
    },
    {
     "name": "stdout",
     "output_type": "stream",
     "text": [
      "Epoch 40 - Train Loss: 0.9513, Train MSE: 0.9511, Train MAE: 0.7449\n",
      "Epoch 40 - Validation Loss: 2.4123, Validation MSE: 2.4233, Validation MAE: 1.1842\n"
     ]
    },
    {
     "name": "stderr",
     "output_type": "stream",
     "text": [
      "Training Epoch 42: 100%|██████████| 258/258 [00:04<00:00, 62.73it/s]\n",
      "Training Epoch 43: 100%|██████████| 258/258 [00:04<00:00, 63.32it/s]\n",
      "Training Epoch 44: 100%|██████████| 258/258 [00:04<00:00, 64.09it/s]\n",
      "Training Epoch 45: 100%|██████████| 258/258 [00:04<00:00, 63.70it/s]\n",
      "Training Epoch 46: 100%|██████████| 258/258 [00:04<00:00, 63.49it/s]\n",
      "Training Epoch 47: 100%|██████████| 258/258 [00:04<00:00, 63.46it/s]\n",
      "Training Epoch 48: 100%|██████████| 258/258 [00:04<00:00, 64.02it/s]\n",
      "Training Epoch 49: 100%|██████████| 258/258 [00:04<00:00, 63.56it/s]\n",
      "Training Epoch 50: 100%|██████████| 258/258 [00:04<00:00, 61.95it/s]\n",
      "Training Epoch 51: 100%|██████████| 258/258 [00:04<00:00, 64.15it/s]\n"
     ]
    },
    {
     "name": "stdout",
     "output_type": "stream",
     "text": [
      "Epoch 50 - Train Loss: 0.7374, Train MSE: 0.7393, Train MAE: 0.6561\n",
      "Epoch 50 - Validation Loss: 2.3944, Validation MSE: 2.4181, Validation MAE: 1.1711\n"
     ]
    },
    {
     "name": "stderr",
     "output_type": "stream",
     "text": [
      "Training Epoch 52: 100%|██████████| 258/258 [00:04<00:00, 63.87it/s]\n",
      "Training Epoch 53: 100%|██████████| 258/258 [00:03<00:00, 64.58it/s]\n",
      "Training Epoch 54: 100%|██████████| 258/258 [00:04<00:00, 60.66it/s]\n",
      "Training Epoch 55: 100%|██████████| 258/258 [00:04<00:00, 63.80it/s]\n",
      "Training Epoch 56: 100%|██████████| 258/258 [00:04<00:00, 63.79it/s]\n",
      "Training Epoch 57: 100%|██████████| 258/258 [00:04<00:00, 61.41it/s]\n",
      "Training Epoch 58: 100%|██████████| 258/258 [00:04<00:00, 63.07it/s]\n",
      "Training Epoch 59: 100%|██████████| 258/258 [00:04<00:00, 62.99it/s]\n",
      "Training Epoch 60: 100%|██████████| 258/258 [00:04<00:00, 61.92it/s]\n",
      "Training Epoch 61: 100%|██████████| 258/258 [00:04<00:00, 63.83it/s]\n"
     ]
    },
    {
     "name": "stdout",
     "output_type": "stream",
     "text": [
      "Epoch 60 - Train Loss: 0.6249, Train MSE: 0.6245, Train MAE: 0.6050\n",
      "Epoch 60 - Validation Loss: 2.3665, Validation MSE: 2.3822, Validation MAE: 1.1686\n"
     ]
    },
    {
     "name": "stderr",
     "output_type": "stream",
     "text": [
      "Training Epoch 62: 100%|██████████| 258/258 [00:04<00:00, 63.70it/s]\n",
      "Training Epoch 63: 100%|██████████| 258/258 [00:03<00:00, 64.70it/s]\n",
      "Training Epoch 64: 100%|██████████| 258/258 [00:04<00:00, 63.71it/s]\n",
      "Training Epoch 65: 100%|██████████| 258/258 [00:04<00:00, 62.29it/s]\n",
      "Training Epoch 66: 100%|██████████| 258/258 [00:04<00:00, 63.74it/s]\n",
      "Training Epoch 67: 100%|██████████| 258/258 [00:04<00:00, 63.44it/s]\n",
      "Training Epoch 68: 100%|██████████| 258/258 [00:04<00:00, 59.57it/s]\n",
      "Training Epoch 69: 100%|██████████| 258/258 [00:04<00:00, 62.60it/s]\n",
      "Training Epoch 70: 100%|██████████| 258/258 [00:04<00:00, 63.26it/s]\n",
      "Training Epoch 71: 100%|██████████| 258/258 [00:04<00:00, 63.31it/s]\n"
     ]
    },
    {
     "name": "stdout",
     "output_type": "stream",
     "text": [
      "Epoch 70 - Train Loss: 0.5600, Train MSE: 0.5608, Train MAE: 0.5714\n",
      "Epoch 70 - Validation Loss: 2.3433, Validation MSE: 2.3659, Validation MAE: 1.1531\n"
     ]
    },
    {
     "name": "stderr",
     "output_type": "stream",
     "text": [
      "Training Epoch 72: 100%|██████████| 258/258 [00:04<00:00, 61.99it/s]\n",
      "Training Epoch 73: 100%|██████████| 258/258 [00:04<00:00, 61.24it/s]\n",
      "Training Epoch 74: 100%|██████████| 258/258 [00:04<00:00, 64.09it/s]\n",
      "Training Epoch 75: 100%|██████████| 258/258 [00:04<00:00, 62.51it/s]\n",
      "Training Epoch 76: 100%|██████████| 258/258 [00:04<00:00, 62.08it/s]\n",
      "Training Epoch 77: 100%|██████████| 258/258 [00:04<00:00, 64.22it/s]\n",
      "Training Epoch 78: 100%|██████████| 258/258 [00:04<00:00, 64.20it/s]\n",
      "Training Epoch 79: 100%|██████████| 258/258 [00:04<00:00, 63.49it/s]\n",
      "Training Epoch 80: 100%|██████████| 258/258 [00:04<00:00, 63.32it/s]\n",
      "Training Epoch 81: 100%|██████████| 258/258 [00:04<00:00, 62.71it/s]\n"
     ]
    },
    {
     "name": "stdout",
     "output_type": "stream",
     "text": [
      "Epoch 80 - Train Loss: 0.4511, Train MSE: 0.4477, Train MAE: 0.5078\n",
      "Epoch 80 - Validation Loss: 2.3703, Validation MSE: 2.3925, Validation MAE: 1.1621\n"
     ]
    },
    {
     "name": "stderr",
     "output_type": "stream",
     "text": [
      "Training Epoch 82: 100%|██████████| 258/258 [00:04<00:00, 59.63it/s]\n",
      "Training Epoch 83: 100%|██████████| 258/258 [00:04<00:00, 61.49it/s]\n",
      "Training Epoch 84: 100%|██████████| 258/258 [00:04<00:00, 62.17it/s]\n",
      "Training Epoch 85: 100%|██████████| 258/258 [00:04<00:00, 61.04it/s]\n",
      "Training Epoch 86: 100%|██████████| 258/258 [00:04<00:00, 63.01it/s]\n",
      "Training Epoch 87: 100%|██████████| 258/258 [00:04<00:00, 63.54it/s]\n",
      "Training Epoch 88: 100%|██████████| 258/258 [00:04<00:00, 64.20it/s]\n",
      "Training Epoch 89: 100%|██████████| 258/258 [00:04<00:00, 63.78it/s]\n",
      "Training Epoch 90: 100%|██████████| 258/258 [00:04<00:00, 63.78it/s]\n",
      "Training Epoch 91: 100%|██████████| 258/258 [00:04<00:00, 62.41it/s]\n"
     ]
    },
    {
     "name": "stdout",
     "output_type": "stream",
     "text": [
      "Epoch 90 - Train Loss: 0.3941, Train MSE: 0.3945, Train MAE: 0.4778\n",
      "Epoch 90 - Validation Loss: 2.3576, Validation MSE: 2.3735, Validation MAE: 1.1577\n"
     ]
    },
    {
     "name": "stderr",
     "output_type": "stream",
     "text": [
      "Training Epoch 92: 100%|██████████| 258/258 [00:04<00:00, 62.97it/s]\n",
      "Training Epoch 93: 100%|██████████| 258/258 [00:04<00:00, 63.70it/s]\n",
      "Training Epoch 94: 100%|██████████| 258/258 [00:04<00:00, 63.40it/s]\n",
      "Training Epoch 95: 100%|██████████| 258/258 [00:04<00:00, 62.62it/s]\n",
      "Training Epoch 96: 100%|██████████| 258/258 [00:04<00:00, 61.80it/s]\n",
      "Training Epoch 97: 100%|██████████| 258/258 [00:04<00:00, 63.33it/s]\n",
      "Training Epoch 98: 100%|██████████| 258/258 [00:04<00:00, 62.62it/s]\n",
      "Training Epoch 99: 100%|██████████| 258/258 [00:04<00:00, 63.54it/s]\n",
      "Training Epoch 100: 100%|██████████| 258/258 [00:04<00:00, 60.14it/s]\n",
      "Training Epoch 101: 100%|██████████| 258/258 [00:04<00:00, 63.33it/s]\n"
     ]
    },
    {
     "name": "stdout",
     "output_type": "stream",
     "text": [
      "Epoch 100 - Train Loss: 0.3408, Train MSE: 0.3414, Train MAE: 0.4431\n",
      "Epoch 100 - Validation Loss: 2.3887, Validation MSE: 2.4091, Validation MAE: 1.1576\n"
     ]
    },
    {
     "name": "stderr",
     "output_type": "stream",
     "text": [
      "Training Epoch 102: 100%|██████████| 258/258 [00:04<00:00, 62.89it/s]\n",
      "Training Epoch 103: 100%|██████████| 258/258 [00:04<00:00, 63.92it/s]\n",
      "Training Epoch 104: 100%|██████████| 258/258 [00:04<00:00, 62.73it/s]\n",
      "Training Epoch 105: 100%|██████████| 258/258 [00:04<00:00, 62.72it/s]\n",
      "Training Epoch 106: 100%|██████████| 258/258 [00:04<00:00, 62.76it/s]\n",
      "Training Epoch 107: 100%|██████████| 258/258 [00:04<00:00, 63.67it/s]\n",
      "Training Epoch 108: 100%|██████████| 258/258 [00:04<00:00, 64.24it/s]\n",
      "Training Epoch 109: 100%|██████████| 258/258 [00:04<00:00, 63.08it/s]\n",
      "Training Epoch 110: 100%|██████████| 258/258 [00:04<00:00, 58.79it/s]\n",
      "Training Epoch 111: 100%|██████████| 258/258 [00:04<00:00, 62.63it/s]\n"
     ]
    },
    {
     "name": "stdout",
     "output_type": "stream",
     "text": [
      "Epoch 110 - Train Loss: 0.3044, Train MSE: 0.3038, Train MAE: 0.4177\n",
      "Epoch 110 - Validation Loss: 2.4139, Validation MSE: 2.4365, Validation MAE: 1.1723\n"
     ]
    },
    {
     "name": "stderr",
     "output_type": "stream",
     "text": [
      "Training Epoch 112: 100%|██████████| 258/258 [00:04<00:00, 60.10it/s]\n",
      "Training Epoch 113: 100%|██████████| 258/258 [00:04<00:00, 63.78it/s]\n",
      "Training Epoch 114: 100%|██████████| 258/258 [00:04<00:00, 61.05it/s]\n",
      "Training Epoch 115: 100%|██████████| 258/258 [00:04<00:00, 63.67it/s]\n",
      "Training Epoch 116: 100%|██████████| 258/258 [00:04<00:00, 62.98it/s]\n",
      "Training Epoch 117: 100%|██████████| 258/258 [00:04<00:00, 60.73it/s]\n",
      "Training Epoch 118: 100%|██████████| 258/258 [00:04<00:00, 63.48it/s]\n",
      "Training Epoch 119: 100%|██████████| 258/258 [00:04<00:00, 64.05it/s]\n",
      "Training Epoch 120: 100%|██████████| 258/258 [00:04<00:00, 59.73it/s]\n",
      "Training Epoch 121: 100%|██████████| 258/258 [00:04<00:00, 61.49it/s]\n"
     ]
    },
    {
     "name": "stdout",
     "output_type": "stream",
     "text": [
      "Epoch 120 - Train Loss: 0.2807, Train MSE: 0.2812, Train MAE: 0.4046\n",
      "Epoch 120 - Validation Loss: 2.1542, Validation MSE: 2.1653, Validation MAE: 1.0938\n"
     ]
    },
    {
     "name": "stderr",
     "output_type": "stream",
     "text": [
      "Training Epoch 122: 100%|██████████| 258/258 [00:04<00:00, 63.81it/s]\n",
      "Training Epoch 123: 100%|██████████| 258/258 [00:04<00:00, 63.81it/s]\n",
      "Training Epoch 124: 100%|██████████| 258/258 [00:04<00:00, 60.44it/s]\n",
      "Training Epoch 125: 100%|██████████| 258/258 [00:04<00:00, 62.03it/s]\n",
      "Training Epoch 126: 100%|██████████| 258/258 [00:04<00:00, 63.52it/s]\n",
      "Training Epoch 127: 100%|██████████| 258/258 [00:04<00:00, 63.61it/s]\n",
      "Training Epoch 128: 100%|██████████| 258/258 [00:04<00:00, 63.50it/s]\n",
      "Training Epoch 129: 100%|██████████| 258/258 [00:04<00:00, 61.77it/s]\n",
      "Training Epoch 130: 100%|██████████| 258/258 [00:04<00:00, 63.82it/s]\n",
      "Training Epoch 131: 100%|██████████| 258/258 [00:04<00:00, 62.39it/s]\n"
     ]
    },
    {
     "name": "stdout",
     "output_type": "stream",
     "text": [
      "Epoch 130 - Train Loss: 0.2657, Train MSE: 0.2655, Train MAE: 0.3863\n",
      "Epoch 130 - Validation Loss: 2.2852, Validation MSE: 2.3017, Validation MAE: 1.1240\n"
     ]
    },
    {
     "name": "stderr",
     "output_type": "stream",
     "text": [
      "Training Epoch 132: 100%|██████████| 258/258 [00:04<00:00, 62.16it/s]\n",
      "Training Epoch 133: 100%|██████████| 258/258 [00:04<00:00, 63.14it/s]\n",
      "Training Epoch 134: 100%|██████████| 258/258 [00:04<00:00, 62.95it/s]\n",
      "Training Epoch 135: 100%|██████████| 258/258 [00:04<00:00, 63.30it/s]\n",
      "Training Epoch 136: 100%|██████████| 258/258 [00:04<00:00, 63.00it/s]\n",
      "Training Epoch 137: 100%|██████████| 258/258 [00:04<00:00, 62.38it/s]\n",
      "Training Epoch 138: 100%|██████████| 258/258 [00:04<00:00, 58.53it/s]\n",
      "Training Epoch 139: 100%|██████████| 258/258 [00:04<00:00, 60.85it/s]\n",
      "Training Epoch 140: 100%|██████████| 258/258 [00:04<00:00, 61.42it/s]\n",
      "Training Epoch 141: 100%|██████████| 258/258 [00:04<00:00, 62.32it/s]\n"
     ]
    },
    {
     "name": "stdout",
     "output_type": "stream",
     "text": [
      "Epoch 140 - Train Loss: 0.2374, Train MSE: 0.2376, Train MAE: 0.3687\n",
      "Epoch 140 - Validation Loss: 2.1830, Validation MSE: 2.1993, Validation MAE: 1.0953\n"
     ]
    },
    {
     "name": "stderr",
     "output_type": "stream",
     "text": [
      "Training Epoch 142: 100%|██████████| 258/258 [00:04<00:00, 62.12it/s]\n",
      "Training Epoch 143: 100%|██████████| 258/258 [00:04<00:00, 62.77it/s]\n",
      "Training Epoch 144: 100%|██████████| 258/258 [00:04<00:00, 62.63it/s]\n",
      "Training Epoch 145: 100%|██████████| 258/258 [00:04<00:00, 63.34it/s]\n",
      "Training Epoch 146: 100%|██████████| 258/258 [00:04<00:00, 63.70it/s]\n",
      "Training Epoch 147: 100%|██████████| 258/258 [00:04<00:00, 62.95it/s]\n",
      "Training Epoch 148: 100%|██████████| 258/258 [00:03<00:00, 64.82it/s]\n",
      "Training Epoch 149: 100%|██████████| 258/258 [00:04<00:00, 63.21it/s]\n",
      "Training Epoch 150: 100%|██████████| 258/258 [00:04<00:00, 62.01it/s]\n",
      "Training Epoch 151: 100%|██████████| 258/258 [00:04<00:00, 63.58it/s]\n"
     ]
    },
    {
     "name": "stdout",
     "output_type": "stream",
     "text": [
      "Epoch 150 - Train Loss: 0.2158, Train MSE: 0.2161, Train MAE: 0.3524\n",
      "Epoch 150 - Validation Loss: 2.2680, Validation MSE: 2.2863, Validation MAE: 1.1128\n"
     ]
    },
    {
     "name": "stderr",
     "output_type": "stream",
     "text": [
      "Training Epoch 152: 100%|██████████| 258/258 [00:04<00:00, 60.59it/s]\n",
      "Training Epoch 153: 100%|██████████| 258/258 [00:04<00:00, 63.20it/s]\n",
      "Training Epoch 154: 100%|██████████| 258/258 [00:04<00:00, 64.08it/s]\n",
      "Training Epoch 155: 100%|██████████| 258/258 [00:04<00:00, 62.84it/s]\n",
      "Training Epoch 156: 100%|██████████| 258/258 [00:04<00:00, 63.44it/s]\n",
      "Training Epoch 157: 100%|██████████| 258/258 [00:04<00:00, 63.89it/s]\n",
      "Training Epoch 158: 100%|██████████| 258/258 [00:04<00:00, 64.21it/s]\n",
      "Training Epoch 159: 100%|██████████| 258/258 [00:04<00:00, 59.75it/s]\n",
      "Training Epoch 160: 100%|██████████| 258/258 [00:04<00:00, 63.34it/s]\n",
      "Training Epoch 161: 100%|██████████| 258/258 [00:04<00:00, 63.59it/s]\n"
     ]
    },
    {
     "name": "stdout",
     "output_type": "stream",
     "text": [
      "Epoch 160 - Train Loss: 0.1950, Train MSE: 0.1954, Train MAE: 0.3352\n",
      "Epoch 160 - Validation Loss: 2.2077, Validation MSE: 2.2219, Validation MAE: 1.1150\n"
     ]
    },
    {
     "name": "stderr",
     "output_type": "stream",
     "text": [
      "Training Epoch 162: 100%|██████████| 258/258 [00:04<00:00, 62.38it/s]\n",
      "Training Epoch 163: 100%|██████████| 258/258 [00:04<00:00, 62.79it/s]\n",
      "Training Epoch 164: 100%|██████████| 258/258 [00:04<00:00, 64.38it/s]\n",
      "Training Epoch 165: 100%|██████████| 258/258 [00:04<00:00, 62.76it/s]\n",
      "Training Epoch 166: 100%|██████████| 258/258 [00:04<00:00, 63.90it/s]\n",
      "Training Epoch 167: 100%|██████████| 258/258 [00:04<00:00, 58.41it/s]\n",
      "Training Epoch 168: 100%|██████████| 258/258 [00:04<00:00, 64.04it/s]\n",
      "Training Epoch 169: 100%|██████████| 258/258 [00:04<00:00, 62.99it/s]\n",
      "Training Epoch 170: 100%|██████████| 258/258 [00:04<00:00, 59.99it/s]\n",
      "Training Epoch 171: 100%|██████████| 258/258 [00:04<00:00, 63.11it/s]\n"
     ]
    },
    {
     "name": "stdout",
     "output_type": "stream",
     "text": [
      "Epoch 170 - Train Loss: 0.1945, Train MSE: 0.1948, Train MAE: 0.3311\n",
      "Epoch 170 - Validation Loss: 2.1486, Validation MSE: 2.1588, Validation MAE: 1.1034\n"
     ]
    },
    {
     "name": "stderr",
     "output_type": "stream",
     "text": [
      "Training Epoch 172: 100%|██████████| 258/258 [00:04<00:00, 63.86it/s]\n",
      "Training Epoch 173: 100%|██████████| 258/258 [00:04<00:00, 63.65it/s]\n",
      "Training Epoch 174: 100%|██████████| 258/258 [00:04<00:00, 62.17it/s]\n",
      "Training Epoch 175: 100%|██████████| 258/258 [00:04<00:00, 63.33it/s]\n",
      "Training Epoch 176: 100%|██████████| 258/258 [00:04<00:00, 62.64it/s]\n",
      "Training Epoch 177: 100%|██████████| 258/258 [00:04<00:00, 62.30it/s]\n",
      "Training Epoch 178: 100%|██████████| 258/258 [00:04<00:00, 63.99it/s]\n",
      "Training Epoch 179: 100%|██████████| 258/258 [00:04<00:00, 62.82it/s]\n",
      "Training Epoch 180: 100%|██████████| 258/258 [00:04<00:00, 63.58it/s]\n",
      "Training Epoch 181: 100%|██████████| 258/258 [00:04<00:00, 58.93it/s]\n"
     ]
    },
    {
     "name": "stdout",
     "output_type": "stream",
     "text": [
      "Epoch 180 - Train Loss: 0.1842, Train MSE: 0.1843, Train MAE: 0.3209\n",
      "Epoch 180 - Validation Loss: 2.1997, Validation MSE: 2.2124, Validation MAE: 1.1107\n"
     ]
    },
    {
     "name": "stderr",
     "output_type": "stream",
     "text": [
      "Training Epoch 182: 100%|██████████| 258/258 [00:04<00:00, 63.27it/s]\n",
      "Training Epoch 183: 100%|██████████| 258/258 [00:04<00:00, 64.01it/s]\n",
      "Training Epoch 184: 100%|██████████| 258/258 [00:04<00:00, 62.42it/s]\n",
      "Training Epoch 185: 100%|██████████| 258/258 [00:04<00:00, 62.53it/s]\n",
      "Training Epoch 186: 100%|██████████| 258/258 [00:04<00:00, 61.42it/s]\n",
      "Training Epoch 187: 100%|██████████| 258/258 [00:03<00:00, 64.69it/s]\n",
      "Training Epoch 188: 100%|██████████| 258/258 [00:04<00:00, 63.89it/s]\n",
      "Training Epoch 189: 100%|██████████| 258/258 [00:04<00:00, 63.09it/s]\n",
      "Training Epoch 190: 100%|██████████| 258/258 [00:04<00:00, 63.76it/s]\n",
      "Training Epoch 191: 100%|██████████| 258/258 [00:04<00:00, 62.42it/s]\n"
     ]
    },
    {
     "name": "stdout",
     "output_type": "stream",
     "text": [
      "Epoch 190 - Train Loss: 0.1746, Train MSE: 0.1750, Train MAE: 0.3136\n",
      "Epoch 190 - Validation Loss: 2.1883, Validation MSE: 2.2121, Validation MAE: 1.1007\n"
     ]
    },
    {
     "name": "stderr",
     "output_type": "stream",
     "text": [
      "Training Epoch 192: 100%|██████████| 258/258 [00:04<00:00, 61.28it/s]\n",
      "Training Epoch 193: 100%|██████████| 258/258 [00:04<00:00, 64.07it/s]\n",
      "Training Epoch 194: 100%|██████████| 258/258 [00:04<00:00, 63.21it/s]\n",
      "Training Epoch 195: 100%|██████████| 258/258 [00:04<00:00, 59.75it/s]\n",
      "Training Epoch 196: 100%|██████████| 258/258 [00:04<00:00, 61.69it/s]\n",
      "Training Epoch 197: 100%|██████████| 258/258 [00:04<00:00, 63.42it/s]\n",
      "Training Epoch 198: 100%|██████████| 258/258 [00:04<00:00, 63.93it/s]\n",
      "Training Epoch 199: 100%|██████████| 258/258 [00:04<00:00, 61.66it/s]\n",
      "Training Epoch 200: 100%|██████████| 258/258 [00:04<00:00, 63.27it/s]\n",
      "Training Epoch 201: 100%|██████████| 258/258 [00:04<00:00, 61.82it/s]\n"
     ]
    },
    {
     "name": "stdout",
     "output_type": "stream",
     "text": [
      "Epoch 200 - Train Loss: 0.1634, Train MSE: 0.1636, Train MAE: 0.3035\n",
      "Epoch 200 - Validation Loss: 2.2895, Validation MSE: 2.3093, Validation MAE: 1.1178\n"
     ]
    },
    {
     "name": "stderr",
     "output_type": "stream",
     "text": [
      "Training Epoch 202: 100%|██████████| 258/258 [00:04<00:00, 63.90it/s]\n",
      "Training Epoch 203: 100%|██████████| 258/258 [00:04<00:00, 63.69it/s]\n",
      "Training Epoch 204: 100%|██████████| 258/258 [00:04<00:00, 63.37it/s]\n",
      "Training Epoch 205: 100%|██████████| 258/258 [00:04<00:00, 63.42it/s]\n",
      "Training Epoch 206: 100%|██████████| 258/258 [00:04<00:00, 63.86it/s]\n",
      "Training Epoch 207: 100%|██████████| 258/258 [00:04<00:00, 63.73it/s]\n",
      "Training Epoch 208: 100%|██████████| 258/258 [00:04<00:00, 61.76it/s]\n",
      "Training Epoch 209: 100%|██████████| 258/258 [00:04<00:00, 59.57it/s]\n",
      "Training Epoch 210: 100%|██████████| 258/258 [00:04<00:00, 62.28it/s]\n",
      "Training Epoch 211: 100%|██████████| 258/258 [00:04<00:00, 62.93it/s]\n"
     ]
    },
    {
     "name": "stdout",
     "output_type": "stream",
     "text": [
      "Epoch 210 - Train Loss: 0.1501, Train MSE: 0.1504, Train MAE: 0.2894\n",
      "Epoch 210 - Validation Loss: 2.1543, Validation MSE: 2.1724, Validation MAE: 1.0879\n"
     ]
    },
    {
     "name": "stderr",
     "output_type": "stream",
     "text": [
      "Training Epoch 212: 100%|██████████| 258/258 [00:04<00:00, 62.70it/s]\n",
      "Training Epoch 213: 100%|██████████| 258/258 [00:04<00:00, 62.77it/s]\n",
      "Training Epoch 214: 100%|██████████| 258/258 [00:04<00:00, 63.32it/s]\n",
      "Training Epoch 215: 100%|██████████| 258/258 [00:04<00:00, 62.28it/s]\n",
      "Training Epoch 216: 100%|██████████| 258/258 [00:04<00:00, 63.33it/s]\n",
      "Training Epoch 217: 100%|██████████| 258/258 [00:03<00:00, 65.10it/s]\n",
      "Training Epoch 218: 100%|██████████| 258/258 [00:04<00:00, 63.49it/s]\n",
      "Training Epoch 219: 100%|██████████| 258/258 [00:04<00:00, 61.75it/s]\n",
      "Training Epoch 220: 100%|██████████| 258/258 [00:04<00:00, 63.74it/s]\n",
      "Training Epoch 221: 100%|██████████| 258/258 [00:04<00:00, 63.44it/s]\n"
     ]
    },
    {
     "name": "stdout",
     "output_type": "stream",
     "text": [
      "Epoch 220 - Train Loss: 0.1504, Train MSE: 0.1508, Train MAE: 0.2920\n",
      "Epoch 220 - Validation Loss: 2.1346, Validation MSE: 2.1513, Validation MAE: 1.0903\n"
     ]
    },
    {
     "name": "stderr",
     "output_type": "stream",
     "text": [
      "Training Epoch 222: 100%|██████████| 258/258 [00:03<00:00, 64.65it/s]\n",
      "Training Epoch 223: 100%|██████████| 258/258 [00:04<00:00, 59.98it/s]\n",
      "Training Epoch 224: 100%|██████████| 258/258 [00:04<00:00, 63.22it/s]\n",
      "Training Epoch 225: 100%|██████████| 258/258 [00:04<00:00, 60.72it/s]\n",
      "Training Epoch 226: 100%|██████████| 258/258 [00:04<00:00, 60.43it/s]\n",
      "Training Epoch 227: 100%|██████████| 258/258 [00:04<00:00, 63.51it/s]\n",
      "Training Epoch 228: 100%|██████████| 258/258 [00:04<00:00, 62.98it/s]\n",
      "Training Epoch 229: 100%|██████████| 258/258 [00:04<00:00, 59.79it/s]\n",
      "Training Epoch 230: 100%|██████████| 258/258 [00:04<00:00, 60.03it/s]\n",
      "Training Epoch 231: 100%|██████████| 258/258 [00:04<00:00, 63.98it/s]\n"
     ]
    },
    {
     "name": "stdout",
     "output_type": "stream",
     "text": [
      "Epoch 230 - Train Loss: 0.1422, Train MSE: 0.1423, Train MAE: 0.2792\n",
      "Epoch 230 - Validation Loss: 2.2111, Validation MSE: 2.2270, Validation MAE: 1.1053\n"
     ]
    },
    {
     "name": "stderr",
     "output_type": "stream",
     "text": [
      "Training Epoch 232: 100%|██████████| 258/258 [00:04<00:00, 63.18it/s]\n",
      "Training Epoch 233: 100%|██████████| 258/258 [00:04<00:00, 63.35it/s]\n",
      "Training Epoch 234: 100%|██████████| 258/258 [00:04<00:00, 62.20it/s]\n",
      "Training Epoch 235: 100%|██████████| 258/258 [00:04<00:00, 62.88it/s]\n",
      "Training Epoch 236: 100%|██████████| 258/258 [00:04<00:00, 64.36it/s]\n",
      "Training Epoch 237: 100%|██████████| 258/258 [00:04<00:00, 59.86it/s]\n",
      "Training Epoch 238: 100%|██████████| 258/258 [00:04<00:00, 61.93it/s]\n",
      "Training Epoch 239: 100%|██████████| 258/258 [00:04<00:00, 59.98it/s]\n",
      "Training Epoch 240: 100%|██████████| 258/258 [00:04<00:00, 59.70it/s]\n",
      "Training Epoch 241: 100%|██████████| 258/258 [00:04<00:00, 61.74it/s]\n"
     ]
    },
    {
     "name": "stdout",
     "output_type": "stream",
     "text": [
      "Epoch 240 - Train Loss: 0.1439, Train MSE: 0.1442, Train MAE: 0.2818\n",
      "Epoch 240 - Validation Loss: 2.1669, Validation MSE: 2.1869, Validation MAE: 1.0914\n"
     ]
    },
    {
     "name": "stderr",
     "output_type": "stream",
     "text": [
      "Training Epoch 242: 100%|██████████| 258/258 [00:04<00:00, 63.71it/s]\n",
      "Training Epoch 243: 100%|██████████| 258/258 [00:04<00:00, 63.80it/s]\n",
      "Training Epoch 244: 100%|██████████| 258/258 [00:04<00:00, 64.16it/s]\n",
      "Training Epoch 245: 100%|██████████| 258/258 [00:04<00:00, 62.39it/s]\n",
      "Training Epoch 246: 100%|██████████| 258/258 [00:04<00:00, 63.64it/s]\n",
      "Training Epoch 247: 100%|██████████| 258/258 [00:04<00:00, 64.49it/s]\n",
      "Training Epoch 248: 100%|██████████| 258/258 [00:04<00:00, 64.03it/s]\n",
      "Training Epoch 249: 100%|██████████| 258/258 [00:04<00:00, 62.35it/s]\n",
      "Training Epoch 250: 100%|██████████| 258/258 [00:04<00:00, 62.33it/s]\n",
      "Training Epoch 251: 100%|██████████| 258/258 [00:04<00:00, 59.62it/s]\n"
     ]
    },
    {
     "name": "stdout",
     "output_type": "stream",
     "text": [
      "Epoch 250 - Train Loss: 0.1363, Train MSE: 0.1363, Train MAE: 0.2761\n",
      "Epoch 250 - Validation Loss: 2.1316, Validation MSE: 2.1485, Validation MAE: 1.0913\n"
     ]
    },
    {
     "name": "stderr",
     "output_type": "stream",
     "text": [
      "Training Epoch 252: 100%|██████████| 258/258 [00:04<00:00, 61.54it/s]\n",
      "Training Epoch 253: 100%|██████████| 258/258 [00:04<00:00, 63.27it/s]\n",
      "Training Epoch 254: 100%|██████████| 258/258 [00:04<00:00, 63.36it/s]\n",
      "Training Epoch 255: 100%|██████████| 258/258 [00:04<00:00, 62.51it/s]\n",
      "Training Epoch 256: 100%|██████████| 258/258 [00:04<00:00, 63.13it/s]\n",
      "Training Epoch 257: 100%|██████████| 258/258 [00:04<00:00, 63.63it/s]\n",
      "Training Epoch 258: 100%|██████████| 258/258 [00:04<00:00, 62.97it/s]\n",
      "Training Epoch 259: 100%|██████████| 258/258 [00:03<00:00, 64.79it/s]\n",
      "Training Epoch 260: 100%|██████████| 258/258 [00:04<00:00, 63.42it/s]\n",
      "Training Epoch 261: 100%|██████████| 258/258 [00:04<00:00, 63.73it/s]\n"
     ]
    },
    {
     "name": "stdout",
     "output_type": "stream",
     "text": [
      "Epoch 260 - Train Loss: 0.1267, Train MSE: 0.1269, Train MAE: 0.2660\n",
      "Epoch 260 - Validation Loss: 2.0896, Validation MSE: 2.1063, Validation MAE: 1.0768\n"
     ]
    },
    {
     "name": "stderr",
     "output_type": "stream",
     "text": [
      "Training Epoch 262: 100%|██████████| 258/258 [00:04<00:00, 62.37it/s]\n",
      "Training Epoch 263: 100%|██████████| 258/258 [00:04<00:00, 64.16it/s]\n",
      "Training Epoch 264: 100%|██████████| 258/258 [00:04<00:00, 62.78it/s]\n",
      "Training Epoch 265: 100%|██████████| 258/258 [00:04<00:00, 59.24it/s]\n",
      "Training Epoch 266: 100%|██████████| 258/258 [00:04<00:00, 63.81it/s]\n",
      "Training Epoch 267: 100%|██████████| 258/258 [00:04<00:00, 62.27it/s]\n",
      "Training Epoch 268: 100%|██████████| 258/258 [00:04<00:00, 63.72it/s]\n",
      "Training Epoch 269: 100%|██████████| 258/258 [00:04<00:00, 62.80it/s]\n",
      "Training Epoch 270: 100%|██████████| 258/258 [00:04<00:00, 62.57it/s]\n",
      "Training Epoch 271: 100%|██████████| 258/258 [00:04<00:00, 63.33it/s]\n"
     ]
    },
    {
     "name": "stdout",
     "output_type": "stream",
     "text": [
      "Epoch 270 - Train Loss: 0.1326, Train MSE: 0.1328, Train MAE: 0.2650\n",
      "Epoch 270 - Validation Loss: 2.1632, Validation MSE: 2.1747, Validation MAE: 1.0987\n"
     ]
    },
    {
     "name": "stderr",
     "output_type": "stream",
     "text": [
      "Training Epoch 272: 100%|██████████| 258/258 [00:04<00:00, 64.22it/s]\n",
      "Training Epoch 273: 100%|██████████| 258/258 [00:04<00:00, 64.05it/s]\n",
      "Training Epoch 274: 100%|██████████| 258/258 [00:04<00:00, 63.54it/s]\n",
      "Training Epoch 275: 100%|██████████| 258/258 [00:04<00:00, 61.07it/s]\n",
      "Training Epoch 276: 100%|██████████| 258/258 [00:03<00:00, 64.64it/s]\n",
      "Training Epoch 277: 100%|██████████| 258/258 [00:04<00:00, 62.80it/s]\n",
      "Training Epoch 278: 100%|██████████| 258/258 [00:04<00:00, 62.58it/s]\n",
      "Training Epoch 279: 100%|██████████| 258/258 [00:04<00:00, 59.21it/s]\n",
      "Training Epoch 280: 100%|██████████| 258/258 [00:04<00:00, 61.43it/s]\n",
      "Training Epoch 281: 100%|██████████| 258/258 [00:04<00:00, 63.32it/s]\n"
     ]
    },
    {
     "name": "stdout",
     "output_type": "stream",
     "text": [
      "Epoch 280 - Train Loss: 0.1298, Train MSE: 0.1300, Train MAE: 0.2638\n",
      "Epoch 280 - Validation Loss: 2.1654, Validation MSE: 2.1813, Validation MAE: 1.0959\n"
     ]
    },
    {
     "name": "stderr",
     "output_type": "stream",
     "text": [
      "Training Epoch 282: 100%|██████████| 258/258 [00:04<00:00, 61.75it/s]\n",
      "Training Epoch 283: 100%|██████████| 258/258 [00:04<00:00, 62.48it/s]\n",
      "Training Epoch 284: 100%|██████████| 258/258 [00:04<00:00, 61.33it/s]\n",
      "Training Epoch 285: 100%|██████████| 258/258 [00:04<00:00, 63.26it/s]\n",
      "Training Epoch 286: 100%|██████████| 258/258 [00:04<00:00, 62.31it/s]\n",
      "Training Epoch 287: 100%|██████████| 258/258 [00:04<00:00, 64.36it/s]\n",
      "Training Epoch 288: 100%|██████████| 258/258 [00:04<00:00, 63.07it/s]\n",
      "Training Epoch 289: 100%|██████████| 258/258 [00:04<00:00, 62.82it/s]\n",
      "Training Epoch 290: 100%|██████████| 258/258 [00:04<00:00, 63.66it/s]\n",
      "Training Epoch 291: 100%|██████████| 258/258 [00:04<00:00, 62.42it/s]\n"
     ]
    },
    {
     "name": "stdout",
     "output_type": "stream",
     "text": [
      "Epoch 290 - Train Loss: 0.1177, Train MSE: 0.1176, Train MAE: 0.2538\n",
      "Epoch 290 - Validation Loss: 2.2421, Validation MSE: 2.2583, Validation MAE: 1.1208\n"
     ]
    },
    {
     "name": "stderr",
     "output_type": "stream",
     "text": [
      "Training Epoch 292: 100%|██████████| 258/258 [00:04<00:00, 63.60it/s]\n",
      "Training Epoch 293: 100%|██████████| 258/258 [00:04<00:00, 60.18it/s]\n",
      "Training Epoch 294: 100%|██████████| 258/258 [00:04<00:00, 61.57it/s]\n",
      "Training Epoch 295: 100%|██████████| 258/258 [00:04<00:00, 62.53it/s]\n",
      "Training Epoch 296: 100%|██████████| 258/258 [00:04<00:00, 63.69it/s]\n",
      "Training Epoch 297: 100%|██████████| 258/258 [00:04<00:00, 62.47it/s]\n",
      "Training Epoch 298: 100%|██████████| 258/258 [00:04<00:00, 63.61it/s]\n",
      "Training Epoch 299: 100%|██████████| 258/258 [00:04<00:00, 63.20it/s]\n",
      "Training Epoch 300: 100%|██████████| 258/258 [00:04<00:00, 64.30it/s]\n",
      "Training Epoch 301: 100%|██████████| 258/258 [00:04<00:00, 63.47it/s]\n"
     ]
    },
    {
     "name": "stdout",
     "output_type": "stream",
     "text": [
      "Epoch 300 - Train Loss: 0.1168, Train MSE: 0.1170, Train MAE: 0.2515\n",
      "Epoch 300 - Validation Loss: 2.0832, Validation MSE: 2.0988, Validation MAE: 1.0705\n"
     ]
    },
    {
     "name": "stderr",
     "output_type": "stream",
     "text": [
      "Training Epoch 302: 100%|██████████| 258/258 [00:04<00:00, 61.58it/s]\n",
      "Training Epoch 303: 100%|██████████| 258/258 [00:04<00:00, 64.05it/s]\n",
      "Training Epoch 304: 100%|██████████| 258/258 [00:04<00:00, 62.99it/s]\n",
      "Training Epoch 305: 100%|██████████| 258/258 [00:04<00:00, 62.34it/s]\n",
      "Training Epoch 306: 100%|██████████| 258/258 [00:03<00:00, 65.67it/s]\n",
      "Training Epoch 307: 100%|██████████| 258/258 [00:04<00:00, 60.89it/s]\n",
      "Training Epoch 308: 100%|██████████| 258/258 [00:04<00:00, 61.68it/s]\n",
      "Training Epoch 309: 100%|██████████| 258/258 [00:04<00:00, 60.68it/s]\n",
      "Training Epoch 310: 100%|██████████| 258/258 [00:04<00:00, 62.06it/s]\n",
      "Training Epoch 311: 100%|██████████| 258/258 [00:04<00:00, 63.65it/s]\n"
     ]
    },
    {
     "name": "stdout",
     "output_type": "stream",
     "text": [
      "Epoch 310 - Train Loss: 0.1136, Train MSE: 0.1137, Train MAE: 0.2483\n",
      "Epoch 310 - Validation Loss: 2.1392, Validation MSE: 2.1514, Validation MAE: 1.0914\n"
     ]
    },
    {
     "name": "stderr",
     "output_type": "stream",
     "text": [
      "Training Epoch 312: 100%|██████████| 258/258 [00:04<00:00, 62.45it/s]\n",
      "Training Epoch 313: 100%|██████████| 258/258 [00:04<00:00, 62.69it/s]\n",
      "Training Epoch 314: 100%|██████████| 258/258 [00:04<00:00, 63.62it/s]\n",
      "Training Epoch 315: 100%|██████████| 258/258 [00:04<00:00, 62.63it/s]\n",
      "Training Epoch 316: 100%|██████████| 258/258 [00:04<00:00, 63.58it/s]\n",
      "Training Epoch 317: 100%|██████████| 258/258 [00:04<00:00, 63.29it/s]\n",
      "Training Epoch 318: 100%|██████████| 258/258 [00:04<00:00, 62.59it/s]\n",
      "Training Epoch 319: 100%|██████████| 258/258 [00:04<00:00, 63.12it/s]\n",
      "Training Epoch 320: 100%|██████████| 258/258 [00:04<00:00, 61.93it/s]\n",
      "Training Epoch 321: 100%|██████████| 258/258 [00:04<00:00, 60.27it/s]\n"
     ]
    },
    {
     "name": "stdout",
     "output_type": "stream",
     "text": [
      "Epoch 320 - Train Loss: 0.1082, Train MSE: 0.1084, Train MAE: 0.2444\n",
      "Epoch 320 - Validation Loss: 2.1503, Validation MSE: 2.1737, Validation MAE: 1.0907\n"
     ]
    },
    {
     "name": "stderr",
     "output_type": "stream",
     "text": [
      "Training Epoch 322: 100%|██████████| 258/258 [00:04<00:00, 63.86it/s]\n",
      "Training Epoch 323: 100%|██████████| 258/258 [00:04<00:00, 62.30it/s]\n",
      "Training Epoch 324: 100%|██████████| 258/258 [00:04<00:00, 61.44it/s]\n",
      "Training Epoch 325: 100%|██████████| 258/258 [00:03<00:00, 64.66it/s]\n",
      "Training Epoch 326: 100%|██████████| 258/258 [00:04<00:00, 60.41it/s]\n",
      "Training Epoch 327: 100%|██████████| 258/258 [00:04<00:00, 62.77it/s]\n",
      "Training Epoch 328: 100%|██████████| 258/258 [00:04<00:00, 61.42it/s]\n",
      "Training Epoch 329: 100%|██████████| 258/258 [00:04<00:00, 63.68it/s]\n",
      "Training Epoch 330: 100%|██████████| 258/258 [00:04<00:00, 63.20it/s]\n",
      "Training Epoch 331: 100%|██████████| 258/258 [00:04<00:00, 62.44it/s]\n"
     ]
    },
    {
     "name": "stdout",
     "output_type": "stream",
     "text": [
      "Epoch 330 - Train Loss: 0.1084, Train MSE: 0.1086, Train MAE: 0.2429\n",
      "Epoch 330 - Validation Loss: 2.1347, Validation MSE: 2.1524, Validation MAE: 1.0972\n"
     ]
    },
    {
     "name": "stderr",
     "output_type": "stream",
     "text": [
      "Training Epoch 332: 100%|██████████| 258/258 [00:04<00:00, 62.65it/s]\n",
      "Training Epoch 333: 100%|██████████| 258/258 [00:04<00:00, 63.16it/s]\n",
      "Training Epoch 334: 100%|██████████| 258/258 [00:04<00:00, 63.96it/s]\n",
      "Training Epoch 335: 100%|██████████| 258/258 [00:03<00:00, 64.55it/s]\n",
      "Training Epoch 336: 100%|██████████| 258/258 [00:04<00:00, 57.42it/s]\n",
      "Training Epoch 337: 100%|██████████| 258/258 [00:04<00:00, 62.62it/s]\n",
      "Training Epoch 338: 100%|██████████| 258/258 [00:04<00:00, 62.95it/s]\n",
      "Training Epoch 339: 100%|██████████| 258/258 [00:04<00:00, 61.53it/s]\n",
      "Training Epoch 340: 100%|██████████| 258/258 [00:04<00:00, 62.49it/s]\n",
      "Training Epoch 341: 100%|██████████| 258/258 [00:04<00:00, 63.55it/s]\n"
     ]
    },
    {
     "name": "stdout",
     "output_type": "stream",
     "text": [
      "Epoch 340 - Train Loss: 0.1066, Train MSE: 0.1066, Train MAE: 0.2390\n",
      "Epoch 340 - Validation Loss: 2.0671, Validation MSE: 2.0801, Validation MAE: 1.0817\n"
     ]
    },
    {
     "name": "stderr",
     "output_type": "stream",
     "text": [
      "Training Epoch 342: 100%|██████████| 258/258 [00:04<00:00, 63.96it/s]\n",
      "Training Epoch 343: 100%|██████████| 258/258 [00:04<00:00, 62.19it/s]\n",
      "Training Epoch 344: 100%|██████████| 258/258 [00:04<00:00, 63.14it/s]\n",
      "Training Epoch 345: 100%|██████████| 258/258 [00:04<00:00, 63.94it/s]\n",
      "Training Epoch 346: 100%|██████████| 258/258 [00:04<00:00, 61.86it/s]\n",
      "Training Epoch 347: 100%|██████████| 258/258 [00:04<00:00, 62.49it/s]\n",
      "Training Epoch 348: 100%|██████████| 258/258 [00:04<00:00, 63.08it/s]\n",
      "Training Epoch 349: 100%|██████████| 258/258 [00:04<00:00, 62.82it/s]\n",
      "Training Epoch 350: 100%|██████████| 258/258 [00:04<00:00, 59.30it/s]\n",
      "Training Epoch 351: 100%|██████████| 258/258 [00:04<00:00, 62.73it/s]\n"
     ]
    },
    {
     "name": "stdout",
     "output_type": "stream",
     "text": [
      "Epoch 350 - Train Loss: 0.1059, Train MSE: 0.1060, Train MAE: 0.2392\n",
      "Epoch 350 - Validation Loss: 2.2003, Validation MSE: 2.2135, Validation MAE: 1.0971\n"
     ]
    },
    {
     "name": "stderr",
     "output_type": "stream",
     "text": [
      "Training Epoch 352: 100%|██████████| 258/258 [00:04<00:00, 62.18it/s]\n",
      "Training Epoch 353: 100%|██████████| 258/258 [00:04<00:00, 61.38it/s]\n",
      "Training Epoch 354: 100%|██████████| 258/258 [00:04<00:00, 63.57it/s]\n",
      "Training Epoch 355: 100%|██████████| 258/258 [00:04<00:00, 61.50it/s]\n",
      "Training Epoch 356: 100%|██████████| 258/258 [00:04<00:00, 62.53it/s]\n",
      "Training Epoch 357: 100%|██████████| 258/258 [00:04<00:00, 62.63it/s]\n",
      "Training Epoch 358: 100%|██████████| 258/258 [00:04<00:00, 62.65it/s]\n",
      "Training Epoch 359: 100%|██████████| 258/258 [00:04<00:00, 64.12it/s]\n",
      "Training Epoch 360: 100%|██████████| 258/258 [00:04<00:00, 63.39it/s]\n",
      "Training Epoch 361: 100%|██████████| 258/258 [00:04<00:00, 62.32it/s]\n"
     ]
    },
    {
     "name": "stdout",
     "output_type": "stream",
     "text": [
      "Epoch 360 - Train Loss: 0.1203, Train MSE: 0.1205, Train MAE: 0.2502\n",
      "Epoch 360 - Validation Loss: 2.0999, Validation MSE: 2.1194, Validation MAE: 1.0770\n"
     ]
    },
    {
     "name": "stderr",
     "output_type": "stream",
     "text": [
      "Training Epoch 362: 100%|██████████| 258/258 [00:04<00:00, 63.77it/s]\n",
      "Training Epoch 363: 100%|██████████| 258/258 [00:04<00:00, 63.22it/s]\n",
      "Training Epoch 364: 100%|██████████| 258/258 [00:04<00:00, 61.10it/s]\n",
      "Training Epoch 365: 100%|██████████| 258/258 [00:04<00:00, 62.75it/s]\n",
      "Training Epoch 366: 100%|██████████| 258/258 [00:04<00:00, 63.23it/s]\n",
      "Training Epoch 367: 100%|██████████| 258/258 [00:04<00:00, 63.79it/s]\n",
      "Training Epoch 368: 100%|██████████| 258/258 [00:04<00:00, 63.53it/s]\n",
      "Training Epoch 369: 100%|██████████| 258/258 [00:04<00:00, 59.85it/s]\n",
      "Training Epoch 370: 100%|██████████| 258/258 [00:04<00:00, 63.86it/s]\n",
      "Training Epoch 371: 100%|██████████| 258/258 [00:04<00:00, 62.99it/s]\n"
     ]
    },
    {
     "name": "stdout",
     "output_type": "stream",
     "text": [
      "Epoch 370 - Train Loss: 0.0962, Train MSE: 0.0963, Train MAE: 0.2284\n",
      "Epoch 370 - Validation Loss: 2.1572, Validation MSE: 2.1762, Validation MAE: 1.0944\n"
     ]
    },
    {
     "name": "stderr",
     "output_type": "stream",
     "text": [
      "Training Epoch 372: 100%|██████████| 258/258 [00:04<00:00, 63.16it/s]\n",
      "Training Epoch 373: 100%|██████████| 258/258 [00:04<00:00, 62.19it/s]\n",
      "Training Epoch 374: 100%|██████████| 258/258 [00:03<00:00, 64.88it/s]\n",
      "Training Epoch 375: 100%|██████████| 258/258 [00:04<00:00, 63.16it/s]\n",
      "Training Epoch 376: 100%|██████████| 258/258 [00:04<00:00, 63.27it/s]\n",
      "Training Epoch 377: 100%|██████████| 258/258 [00:04<00:00, 62.25it/s]\n",
      "Training Epoch 378: 100%|██████████| 258/258 [00:04<00:00, 60.30it/s]\n",
      "Training Epoch 379: 100%|██████████| 258/258 [00:04<00:00, 62.32it/s]\n",
      "Training Epoch 380: 100%|██████████| 258/258 [00:04<00:00, 62.28it/s]\n",
      "Training Epoch 381: 100%|██████████| 258/258 [00:04<00:00, 63.31it/s]\n"
     ]
    },
    {
     "name": "stdout",
     "output_type": "stream",
     "text": [
      "Epoch 380 - Train Loss: 0.1025, Train MSE: 0.1024, Train MAE: 0.2284\n",
      "Epoch 380 - Validation Loss: 2.1555, Validation MSE: 2.1704, Validation MAE: 1.1060\n"
     ]
    },
    {
     "name": "stderr",
     "output_type": "stream",
     "text": [
      "Training Epoch 382: 100%|██████████| 258/258 [00:04<00:00, 63.88it/s]\n",
      "Training Epoch 383: 100%|██████████| 258/258 [00:04<00:00, 62.26it/s]\n",
      "Training Epoch 384: 100%|██████████| 258/258 [00:04<00:00, 62.86it/s]\n",
      "Training Epoch 385: 100%|██████████| 258/258 [00:04<00:00, 63.35it/s]\n",
      "Training Epoch 386: 100%|██████████| 258/258 [00:04<00:00, 63.12it/s]\n",
      "Training Epoch 387: 100%|██████████| 258/258 [00:04<00:00, 62.94it/s]\n",
      "Training Epoch 388: 100%|██████████| 258/258 [00:04<00:00, 60.84it/s]\n",
      "Training Epoch 389: 100%|██████████| 258/258 [00:04<00:00, 62.79it/s]\n",
      "Training Epoch 390: 100%|██████████| 258/258 [00:04<00:00, 64.04it/s]\n",
      "Training Epoch 391: 100%|██████████| 258/258 [00:04<00:00, 62.43it/s]\n"
     ]
    },
    {
     "name": "stdout",
     "output_type": "stream",
     "text": [
      "Epoch 390 - Train Loss: 0.0960, Train MSE: 0.0961, Train MAE: 0.2276\n",
      "Epoch 390 - Validation Loss: 2.1322, Validation MSE: 2.1479, Validation MAE: 1.0920\n"
     ]
    },
    {
     "name": "stderr",
     "output_type": "stream",
     "text": [
      "Training Epoch 392: 100%|██████████| 258/258 [00:04<00:00, 60.04it/s]\n",
      "Training Epoch 393: 100%|██████████| 258/258 [00:04<00:00, 62.87it/s]\n",
      "Training Epoch 394: 100%|██████████| 258/258 [00:04<00:00, 63.75it/s]\n",
      "Training Epoch 395: 100%|██████████| 258/258 [00:04<00:00, 62.02it/s]\n",
      "Training Epoch 396: 100%|██████████| 258/258 [00:04<00:00, 63.34it/s]\n",
      "Training Epoch 397: 100%|██████████| 258/258 [00:04<00:00, 62.87it/s]\n",
      "Training Epoch 398: 100%|██████████| 258/258 [00:04<00:00, 63.39it/s]\n",
      "Training Epoch 399: 100%|██████████| 258/258 [00:04<00:00, 63.15it/s]\n",
      "Training Epoch 400: 100%|██████████| 258/258 [00:04<00:00, 61.38it/s]\n",
      "Training Epoch 401: 100%|██████████| 258/258 [00:04<00:00, 63.84it/s]\n"
     ]
    },
    {
     "name": "stdout",
     "output_type": "stream",
     "text": [
      "Epoch 400 - Train Loss: 0.0973, Train MSE: 0.0974, Train MAE: 0.2275\n",
      "Epoch 400 - Validation Loss: 2.1128, Validation MSE: 2.1294, Validation MAE: 1.0783\n"
     ]
    },
    {
     "name": "stderr",
     "output_type": "stream",
     "text": [
      "Training Epoch 402: 100%|██████████| 258/258 [00:04<00:00, 64.36it/s]\n",
      "Training Epoch 403: 100%|██████████| 258/258 [00:04<00:00, 63.47it/s]\n",
      "Training Epoch 404: 100%|██████████| 258/258 [00:03<00:00, 64.74it/s]\n",
      "Training Epoch 405: 100%|██████████| 258/258 [00:04<00:00, 63.97it/s]\n",
      "Training Epoch 406: 100%|██████████| 258/258 [00:04<00:00, 57.01it/s]\n",
      "Training Epoch 407: 100%|██████████| 258/258 [00:04<00:00, 62.30it/s]\n",
      "Training Epoch 408: 100%|██████████| 258/258 [00:04<00:00, 61.49it/s]\n",
      "Training Epoch 409: 100%|██████████| 258/258 [00:04<00:00, 63.63it/s]\n",
      "Training Epoch 410: 100%|██████████| 258/258 [00:04<00:00, 59.49it/s]\n",
      "Training Epoch 411: 100%|██████████| 258/258 [00:04<00:00, 64.47it/s]\n"
     ]
    },
    {
     "name": "stdout",
     "output_type": "stream",
     "text": [
      "Epoch 410 - Train Loss: 0.0971, Train MSE: 0.0970, Train MAE: 0.2265\n",
      "Epoch 410 - Validation Loss: 2.0850, Validation MSE: 2.1030, Validation MAE: 1.0685\n"
     ]
    },
    {
     "name": "stderr",
     "output_type": "stream",
     "text": [
      "Training Epoch 412: 100%|██████████| 258/258 [00:04<00:00, 63.97it/s]\n",
      "Training Epoch 413: 100%|██████████| 258/258 [00:04<00:00, 63.05it/s]\n",
      "Training Epoch 414: 100%|██████████| 258/258 [00:04<00:00, 62.40it/s]\n",
      "Training Epoch 415: 100%|██████████| 258/258 [00:04<00:00, 63.25it/s]\n",
      "Training Epoch 416: 100%|██████████| 258/258 [00:04<00:00, 62.66it/s]\n",
      "Training Epoch 417: 100%|██████████| 258/258 [00:04<00:00, 64.37it/s]\n",
      "Training Epoch 418: 100%|██████████| 258/258 [00:04<00:00, 63.07it/s]\n",
      "Training Epoch 419: 100%|██████████| 258/258 [00:04<00:00, 61.87it/s]\n",
      "Training Epoch 420: 100%|██████████| 258/258 [00:04<00:00, 58.56it/s]\n",
      "Training Epoch 421: 100%|██████████| 258/258 [00:04<00:00, 62.92it/s]\n"
     ]
    },
    {
     "name": "stdout",
     "output_type": "stream",
     "text": [
      "Epoch 420 - Train Loss: 0.0923, Train MSE: 0.0925, Train MAE: 0.2199\n",
      "Epoch 420 - Validation Loss: 2.1015, Validation MSE: 2.1144, Validation MAE: 1.0862\n"
     ]
    },
    {
     "name": "stderr",
     "output_type": "stream",
     "text": [
      "Training Epoch 422: 100%|██████████| 258/258 [00:04<00:00, 64.42it/s]\n",
      "Training Epoch 423: 100%|██████████| 258/258 [00:04<00:00, 63.62it/s]\n",
      "Training Epoch 424: 100%|██████████| 258/258 [00:04<00:00, 63.70it/s]\n",
      "Training Epoch 425: 100%|██████████| 258/258 [00:04<00:00, 62.74it/s]\n",
      "Training Epoch 426: 100%|██████████| 258/258 [00:04<00:00, 64.08it/s]\n",
      "Training Epoch 427: 100%|██████████| 258/258 [00:04<00:00, 63.13it/s]\n",
      "Training Epoch 428: 100%|██████████| 258/258 [00:04<00:00, 63.85it/s]\n",
      "Training Epoch 429: 100%|██████████| 258/258 [00:04<00:00, 62.92it/s]\n",
      "Training Epoch 430: 100%|██████████| 258/258 [00:04<00:00, 61.29it/s]\n",
      "Training Epoch 431: 100%|██████████| 258/258 [00:04<00:00, 63.10it/s]\n"
     ]
    },
    {
     "name": "stdout",
     "output_type": "stream",
     "text": [
      "Epoch 430 - Train Loss: 0.0915, Train MSE: 0.0916, Train MAE: 0.2210\n",
      "Epoch 430 - Validation Loss: 2.0270, Validation MSE: 2.0425, Validation MAE: 1.0618\n"
     ]
    },
    {
     "name": "stderr",
     "output_type": "stream",
     "text": [
      "Training Epoch 432: 100%|██████████| 258/258 [00:04<00:00, 63.71it/s]\n",
      "Training Epoch 433: 100%|██████████| 258/258 [00:04<00:00, 64.26it/s]\n",
      "Training Epoch 434: 100%|██████████| 258/258 [00:04<00:00, 59.98it/s]\n",
      "Training Epoch 435: 100%|██████████| 258/258 [00:04<00:00, 63.03it/s]\n",
      "Training Epoch 436: 100%|██████████| 258/258 [00:04<00:00, 63.40it/s]\n",
      "Training Epoch 437: 100%|██████████| 258/258 [00:04<00:00, 63.57it/s]\n",
      "Training Epoch 438: 100%|██████████| 258/258 [00:04<00:00, 63.21it/s]\n",
      "Training Epoch 439: 100%|██████████| 258/258 [00:04<00:00, 63.31it/s]\n",
      "Training Epoch 440: 100%|██████████| 258/258 [00:04<00:00, 62.09it/s]\n",
      "Training Epoch 441: 100%|██████████| 258/258 [00:04<00:00, 64.05it/s]\n"
     ]
    },
    {
     "name": "stdout",
     "output_type": "stream",
     "text": [
      "Epoch 440 - Train Loss: 0.0882, Train MSE: 0.0882, Train MAE: 0.2168\n",
      "Epoch 440 - Validation Loss: 2.0597, Validation MSE: 2.0736, Validation MAE: 1.0687\n"
     ]
    },
    {
     "name": "stderr",
     "output_type": "stream",
     "text": [
      "Training Epoch 442: 100%|██████████| 258/258 [00:04<00:00, 63.54it/s]\n",
      "Training Epoch 443: 100%|██████████| 258/258 [00:04<00:00, 64.19it/s]\n",
      "Training Epoch 444: 100%|██████████| 258/258 [00:04<00:00, 62.46it/s]\n",
      "Training Epoch 445: 100%|██████████| 258/258 [00:04<00:00, 63.67it/s]\n",
      "Training Epoch 446: 100%|██████████| 258/258 [00:04<00:00, 63.92it/s]\n",
      "Training Epoch 447: 100%|██████████| 258/258 [00:04<00:00, 62.94it/s]\n",
      "Training Epoch 448: 100%|██████████| 258/258 [00:04<00:00, 59.21it/s]\n",
      "Training Epoch 449: 100%|██████████| 258/258 [00:04<00:00, 62.53it/s]\n",
      "Training Epoch 450: 100%|██████████| 258/258 [00:04<00:00, 59.17it/s]\n",
      "Training Epoch 451: 100%|██████████| 258/258 [00:04<00:00, 63.10it/s]\n"
     ]
    },
    {
     "name": "stdout",
     "output_type": "stream",
     "text": [
      "Epoch 450 - Train Loss: 0.1030, Train MSE: 0.1033, Train MAE: 0.2335\n",
      "Epoch 450 - Validation Loss: 2.0791, Validation MSE: 2.0925, Validation MAE: 1.0730\n"
     ]
    },
    {
     "name": "stderr",
     "output_type": "stream",
     "text": [
      "Training Epoch 452: 100%|██████████| 258/258 [00:04<00:00, 62.38it/s]\n",
      "Training Epoch 453: 100%|██████████| 258/258 [00:04<00:00, 60.06it/s]\n",
      "Training Epoch 454: 100%|██████████| 258/258 [00:04<00:00, 62.01it/s]\n",
      "Training Epoch 455: 100%|██████████| 258/258 [00:04<00:00, 62.18it/s]\n",
      "Training Epoch 456: 100%|██████████| 258/258 [00:04<00:00, 62.30it/s]\n",
      "Training Epoch 457: 100%|██████████| 258/258 [00:04<00:00, 63.33it/s]\n",
      "Training Epoch 458: 100%|██████████| 258/258 [00:04<00:00, 63.01it/s]\n",
      "Training Epoch 459: 100%|██████████| 258/258 [00:04<00:00, 61.70it/s]\n",
      "Training Epoch 460: 100%|██████████| 258/258 [00:04<00:00, 63.18it/s]\n",
      "Training Epoch 461: 100%|██████████| 258/258 [00:04<00:00, 63.27it/s]\n"
     ]
    },
    {
     "name": "stdout",
     "output_type": "stream",
     "text": [
      "Epoch 460 - Train Loss: 0.0851, Train MSE: 0.0851, Train MAE: 0.2121\n",
      "Epoch 460 - Validation Loss: 2.0458, Validation MSE: 2.0631, Validation MAE: 1.0571\n"
     ]
    },
    {
     "name": "stderr",
     "output_type": "stream",
     "text": [
      "Training Epoch 462: 100%|██████████| 258/258 [00:04<00:00, 61.08it/s]\n",
      "Training Epoch 463: 100%|██████████| 258/258 [00:04<00:00, 60.22it/s]\n",
      "Training Epoch 464: 100%|██████████| 258/258 [00:04<00:00, 63.73it/s]\n",
      "Training Epoch 465: 100%|██████████| 258/258 [00:04<00:00, 62.32it/s]\n",
      "Training Epoch 466: 100%|██████████| 258/258 [00:04<00:00, 61.17it/s]\n",
      "Training Epoch 467: 100%|██████████| 258/258 [00:03<00:00, 64.98it/s]\n",
      "Training Epoch 468: 100%|██████████| 258/258 [00:04<00:00, 63.72it/s]\n",
      "Training Epoch 469: 100%|██████████| 258/258 [00:04<00:00, 63.88it/s]\n",
      "Training Epoch 470: 100%|██████████| 258/258 [00:04<00:00, 63.08it/s]\n",
      "Training Epoch 471: 100%|██████████| 258/258 [00:04<00:00, 63.55it/s]\n"
     ]
    },
    {
     "name": "stdout",
     "output_type": "stream",
     "text": [
      "Epoch 470 - Train Loss: 0.0888, Train MSE: 0.0891, Train MAE: 0.2167\n",
      "Epoch 470 - Validation Loss: 1.9798, Validation MSE: 1.9930, Validation MAE: 1.0493\n"
     ]
    },
    {
     "name": "stderr",
     "output_type": "stream",
     "text": [
      "Training Epoch 472: 100%|██████████| 258/258 [00:03<00:00, 64.74it/s]\n",
      "Training Epoch 473: 100%|██████████| 258/258 [00:04<00:00, 63.93it/s]\n",
      "Training Epoch 474: 100%|██████████| 258/258 [00:04<00:00, 62.32it/s]\n",
      "Training Epoch 475: 100%|██████████| 258/258 [00:04<00:00, 62.84it/s]\n",
      "Training Epoch 476: 100%|██████████| 258/258 [00:04<00:00, 59.01it/s]\n",
      "Training Epoch 477: 100%|██████████| 258/258 [00:04<00:00, 62.88it/s]\n",
      "Training Epoch 478: 100%|██████████| 258/258 [00:04<00:00, 60.85it/s]\n",
      "Training Epoch 479: 100%|██████████| 258/258 [00:04<00:00, 60.83it/s]\n",
      "Training Epoch 480: 100%|██████████| 258/258 [00:04<00:00, 61.21it/s]\n",
      "Training Epoch 481: 100%|██████████| 258/258 [00:04<00:00, 58.58it/s]\n"
     ]
    },
    {
     "name": "stdout",
     "output_type": "stream",
     "text": [
      "Epoch 480 - Train Loss: 0.0773, Train MSE: 0.0772, Train MAE: 0.2027\n",
      "Epoch 480 - Validation Loss: 2.0372, Validation MSE: 2.0536, Validation MAE: 1.0595\n"
     ]
    },
    {
     "name": "stderr",
     "output_type": "stream",
     "text": [
      "Training Epoch 482: 100%|██████████| 258/258 [00:04<00:00, 64.14it/s]\n",
      "Training Epoch 483: 100%|██████████| 258/258 [00:04<00:00, 62.36it/s]\n",
      "Training Epoch 484: 100%|██████████| 258/258 [00:04<00:00, 61.66it/s]\n",
      "Training Epoch 485: 100%|██████████| 258/258 [00:04<00:00, 60.98it/s]\n",
      "Training Epoch 486: 100%|██████████| 258/258 [00:04<00:00, 62.64it/s]\n",
      "Training Epoch 487: 100%|██████████| 258/258 [00:04<00:00, 61.85it/s]\n",
      "Training Epoch 488: 100%|██████████| 258/258 [00:04<00:00, 63.10it/s]\n",
      "Training Epoch 489: 100%|██████████| 258/258 [00:04<00:00, 62.36it/s]\n",
      "Training Epoch 490: 100%|██████████| 258/258 [00:04<00:00, 60.09it/s]\n",
      "Training Epoch 491: 100%|██████████| 258/258 [00:04<00:00, 62.10it/s]\n"
     ]
    },
    {
     "name": "stdout",
     "output_type": "stream",
     "text": [
      "Epoch 490 - Train Loss: 0.0816, Train MSE: 0.0817, Train MAE: 0.2070\n",
      "Epoch 490 - Validation Loss: 2.0571, Validation MSE: 2.0753, Validation MAE: 1.0660\n"
     ]
    },
    {
     "name": "stderr",
     "output_type": "stream",
     "text": [
      "Training Epoch 492: 100%|██████████| 258/258 [00:04<00:00, 61.16it/s]\n",
      "Training Epoch 493: 100%|██████████| 258/258 [00:04<00:00, 61.74it/s]\n",
      "Training Epoch 494: 100%|██████████| 258/258 [00:04<00:00, 59.86it/s]\n",
      "Training Epoch 495: 100%|██████████| 258/258 [00:04<00:00, 62.92it/s]\n",
      "Training Epoch 496: 100%|██████████| 258/258 [00:04<00:00, 62.17it/s]\n",
      "Training Epoch 497: 100%|██████████| 258/258 [00:04<00:00, 63.07it/s]\n",
      "Training Epoch 498: 100%|██████████| 258/258 [00:04<00:00, 64.44it/s]\n",
      "Training Epoch 499: 100%|██████████| 258/258 [00:04<00:00, 61.97it/s]\n",
      "Training Epoch 500: 100%|██████████| 258/258 [00:04<00:00, 60.78it/s]\n",
      "Training Epoch 501: 100%|██████████| 258/258 [00:04<00:00, 62.62it/s]\n"
     ]
    },
    {
     "name": "stdout",
     "output_type": "stream",
     "text": [
      "Epoch 500 - Train Loss: 0.0835, Train MSE: 0.0810, Train MAE: 0.2063\n",
      "Epoch 500 - Validation Loss: 2.0231, Validation MSE: 2.0418, Validation MAE: 1.0581\n"
     ]
    },
    {
     "name": "stderr",
     "output_type": "stream",
     "text": [
      "Training Epoch 502: 100%|██████████| 258/258 [00:04<00:00, 64.24it/s]\n",
      "Training Epoch 503: 100%|██████████| 258/258 [00:04<00:00, 62.51it/s]\n",
      "Training Epoch 504: 100%|██████████| 258/258 [00:04<00:00, 58.57it/s]\n",
      "Training Epoch 505: 100%|██████████| 258/258 [00:04<00:00, 62.36it/s]\n",
      "Training Epoch 506: 100%|██████████| 258/258 [00:04<00:00, 62.32it/s]\n",
      "Training Epoch 507: 100%|██████████| 258/258 [00:04<00:00, 62.27it/s]\n",
      "Training Epoch 508: 100%|██████████| 258/258 [00:04<00:00, 63.50it/s]\n",
      "Training Epoch 509: 100%|██████████| 258/258 [00:04<00:00, 63.41it/s]\n",
      "Training Epoch 510: 100%|██████████| 258/258 [00:04<00:00, 62.10it/s]\n",
      "Training Epoch 511: 100%|██████████| 258/258 [00:04<00:00, 60.49it/s]\n"
     ]
    },
    {
     "name": "stdout",
     "output_type": "stream",
     "text": [
      "Epoch 510 - Train Loss: 0.0862, Train MSE: 0.0864, Train MAE: 0.2088\n",
      "Epoch 510 - Validation Loss: 2.0512, Validation MSE: 2.0657, Validation MAE: 1.0647\n"
     ]
    },
    {
     "name": "stderr",
     "output_type": "stream",
     "text": [
      "Training Epoch 512: 100%|██████████| 258/258 [00:04<00:00, 63.30it/s]\n",
      "Training Epoch 513: 100%|██████████| 258/258 [00:04<00:00, 63.02it/s]\n",
      "Training Epoch 514: 100%|██████████| 258/258 [00:04<00:00, 62.43it/s]\n",
      "Training Epoch 515: 100%|██████████| 258/258 [00:04<00:00, 61.75it/s]\n",
      "Training Epoch 516: 100%|██████████| 258/258 [00:04<00:00, 63.72it/s]\n",
      "Training Epoch 517: 100%|██████████| 258/258 [00:04<00:00, 62.36it/s]\n",
      "Training Epoch 518: 100%|██████████| 258/258 [00:04<00:00, 60.30it/s]\n",
      "Training Epoch 519: 100%|██████████| 258/258 [00:04<00:00, 61.75it/s]\n",
      "Training Epoch 520: 100%|██████████| 258/258 [00:04<00:00, 62.77it/s]\n",
      "Training Epoch 521: 100%|██████████| 258/258 [00:04<00:00, 63.05it/s]\n"
     ]
    },
    {
     "name": "stdout",
     "output_type": "stream",
     "text": [
      "Epoch 520 - Train Loss: 0.0795, Train MSE: 0.0794, Train MAE: 0.2045\n",
      "Epoch 520 - Validation Loss: 2.1065, Validation MSE: 2.1240, Validation MAE: 1.0791\n"
     ]
    },
    {
     "name": "stderr",
     "output_type": "stream",
     "text": [
      "Training Epoch 522: 100%|██████████| 258/258 [00:04<00:00, 61.93it/s]\n",
      "Training Epoch 523: 100%|██████████| 258/258 [00:04<00:00, 60.95it/s]\n",
      "Training Epoch 524: 100%|██████████| 258/258 [00:04<00:00, 63.41it/s]\n",
      "Training Epoch 525: 100%|██████████| 258/258 [00:04<00:00, 62.46it/s]\n",
      "Training Epoch 526: 100%|██████████| 258/258 [00:04<00:00, 62.76it/s]\n",
      "Training Epoch 527: 100%|██████████| 258/258 [00:04<00:00, 63.18it/s]\n",
      "Training Epoch 528: 100%|██████████| 258/258 [00:04<00:00, 62.35it/s]\n",
      "Training Epoch 529: 100%|██████████| 258/258 [00:04<00:00, 62.89it/s]\n",
      "Training Epoch 530: 100%|██████████| 258/258 [00:04<00:00, 62.30it/s]\n",
      "Training Epoch 531: 100%|██████████| 258/258 [00:04<00:00, 64.38it/s]\n"
     ]
    },
    {
     "name": "stdout",
     "output_type": "stream",
     "text": [
      "Epoch 530 - Train Loss: 0.0785, Train MSE: 0.0785, Train MAE: 0.2024\n",
      "Epoch 530 - Validation Loss: 2.0686, Validation MSE: 2.0882, Validation MAE: 1.0708\n"
     ]
    },
    {
     "name": "stderr",
     "output_type": "stream",
     "text": [
      "Training Epoch 532: 100%|██████████| 258/258 [00:04<00:00, 56.03it/s]\n",
      "Training Epoch 533: 100%|██████████| 258/258 [00:04<00:00, 59.77it/s]\n",
      "Training Epoch 534: 100%|██████████| 258/258 [00:04<00:00, 62.22it/s]\n",
      "Training Epoch 535: 100%|██████████| 258/258 [00:04<00:00, 62.48it/s]\n",
      "Training Epoch 536: 100%|██████████| 258/258 [00:04<00:00, 61.21it/s]\n",
      "Training Epoch 537: 100%|██████████| 258/258 [00:04<00:00, 61.09it/s]\n",
      "Training Epoch 538: 100%|██████████| 258/258 [00:04<00:00, 63.51it/s]\n",
      "Training Epoch 539: 100%|██████████| 258/258 [00:04<00:00, 62.66it/s]\n",
      "Training Epoch 540: 100%|██████████| 258/258 [00:04<00:00, 61.44it/s]\n",
      "Training Epoch 541: 100%|██████████| 258/258 [00:04<00:00, 61.70it/s]\n"
     ]
    },
    {
     "name": "stdout",
     "output_type": "stream",
     "text": [
      "Epoch 540 - Train Loss: 0.0725, Train MSE: 0.0723, Train MAE: 0.1942\n",
      "Epoch 540 - Validation Loss: 2.0251, Validation MSE: 2.0418, Validation MAE: 1.0673\n"
     ]
    },
    {
     "name": "stderr",
     "output_type": "stream",
     "text": [
      "Training Epoch 542: 100%|██████████| 258/258 [00:04<00:00, 62.48it/s]\n",
      "Training Epoch 543: 100%|██████████| 258/258 [00:04<00:00, 61.41it/s]\n",
      "Training Epoch 544: 100%|██████████| 258/258 [00:04<00:00, 61.69it/s]\n",
      "Training Epoch 545: 100%|██████████| 258/258 [00:04<00:00, 61.82it/s]\n",
      "Training Epoch 546: 100%|██████████| 258/258 [00:04<00:00, 57.81it/s]\n",
      "Training Epoch 547: 100%|██████████| 258/258 [00:04<00:00, 62.48it/s]\n",
      "Training Epoch 548: 100%|██████████| 258/258 [00:04<00:00, 61.38it/s]\n",
      "Training Epoch 549: 100%|██████████| 258/258 [00:04<00:00, 63.26it/s]\n",
      "Training Epoch 550: 100%|██████████| 258/258 [00:04<00:00, 63.44it/s]\n",
      "Training Epoch 551: 100%|██████████| 258/258 [00:04<00:00, 64.16it/s]\n"
     ]
    },
    {
     "name": "stdout",
     "output_type": "stream",
     "text": [
      "Epoch 550 - Train Loss: 0.0777, Train MSE: 0.0777, Train MAE: 0.2002\n",
      "Epoch 550 - Validation Loss: 2.0679, Validation MSE: 2.0833, Validation MAE: 1.0692\n"
     ]
    },
    {
     "name": "stderr",
     "output_type": "stream",
     "text": [
      "Training Epoch 552: 100%|██████████| 258/258 [00:04<00:00, 62.94it/s]\n",
      "Training Epoch 553: 100%|██████████| 258/258 [00:04<00:00, 61.24it/s]\n",
      "Training Epoch 554: 100%|██████████| 258/258 [00:04<00:00, 63.50it/s]\n",
      "Training Epoch 555: 100%|██████████| 258/258 [00:04<00:00, 61.57it/s]\n",
      "Training Epoch 556: 100%|██████████| 258/258 [00:04<00:00, 61.05it/s]\n",
      "Training Epoch 557: 100%|██████████| 258/258 [00:04<00:00, 62.39it/s]\n",
      "Training Epoch 558: 100%|██████████| 258/258 [00:04<00:00, 63.66it/s]\n",
      "Training Epoch 559: 100%|██████████| 258/258 [00:04<00:00, 63.76it/s]\n",
      "Training Epoch 560: 100%|██████████| 258/258 [00:04<00:00, 58.41it/s]\n",
      "Training Epoch 561: 100%|██████████| 258/258 [00:04<00:00, 62.14it/s]\n"
     ]
    },
    {
     "name": "stdout",
     "output_type": "stream",
     "text": [
      "Epoch 560 - Train Loss: 0.0723, Train MSE: 0.0724, Train MAE: 0.1967\n",
      "Epoch 560 - Validation Loss: 2.0254, Validation MSE: 2.0440, Validation MAE: 1.0572\n"
     ]
    },
    {
     "name": "stderr",
     "output_type": "stream",
     "text": [
      "Training Epoch 562: 100%|██████████| 258/258 [00:04<00:00, 62.07it/s]\n",
      "Training Epoch 563: 100%|██████████| 258/258 [00:04<00:00, 59.77it/s]\n",
      "Training Epoch 564: 100%|██████████| 258/258 [00:04<00:00, 61.97it/s]\n",
      "Training Epoch 565: 100%|██████████| 258/258 [00:04<00:00, 62.49it/s]\n",
      "Training Epoch 566: 100%|██████████| 258/258 [00:04<00:00, 63.08it/s]\n",
      "Training Epoch 567: 100%|██████████| 258/258 [00:04<00:00, 61.45it/s]\n",
      "Training Epoch 568: 100%|██████████| 258/258 [00:04<00:00, 62.87it/s]\n",
      "Training Epoch 569: 100%|██████████| 258/258 [00:04<00:00, 62.65it/s]\n",
      "Training Epoch 570: 100%|██████████| 258/258 [00:04<00:00, 64.04it/s]\n",
      "Training Epoch 571: 100%|██████████| 258/258 [00:04<00:00, 59.99it/s]\n"
     ]
    },
    {
     "name": "stdout",
     "output_type": "stream",
     "text": [
      "Epoch 570 - Train Loss: 0.0843, Train MSE: 0.0845, Train MAE: 0.2050\n",
      "Epoch 570 - Validation Loss: 2.0363, Validation MSE: 2.0540, Validation MAE: 1.0631\n"
     ]
    },
    {
     "name": "stderr",
     "output_type": "stream",
     "text": [
      "Training Epoch 572: 100%|██████████| 258/258 [00:04<00:00, 62.82it/s]\n",
      "Training Epoch 573: 100%|██████████| 258/258 [00:04<00:00, 63.39it/s]\n",
      "Training Epoch 574: 100%|██████████| 258/258 [00:04<00:00, 59.38it/s]\n",
      "Training Epoch 575: 100%|██████████| 258/258 [00:04<00:00, 62.53it/s]\n",
      "Training Epoch 576: 100%|██████████| 258/258 [00:04<00:00, 63.55it/s]\n",
      "Training Epoch 577: 100%|██████████| 258/258 [00:04<00:00, 63.83it/s]\n",
      "Training Epoch 578: 100%|██████████| 258/258 [00:04<00:00, 61.85it/s]\n",
      "Training Epoch 579: 100%|██████████| 258/258 [00:04<00:00, 60.49it/s]\n",
      "Training Epoch 580: 100%|██████████| 258/258 [00:04<00:00, 63.60it/s]\n",
      "Training Epoch 581: 100%|██████████| 258/258 [00:04<00:00, 63.54it/s]\n"
     ]
    },
    {
     "name": "stdout",
     "output_type": "stream",
     "text": [
      "Epoch 580 - Train Loss: 0.0740, Train MSE: 0.0741, Train MAE: 0.1961\n",
      "Epoch 580 - Validation Loss: 1.9996, Validation MSE: 2.0160, Validation MAE: 1.0545\n"
     ]
    },
    {
     "name": "stderr",
     "output_type": "stream",
     "text": [
      "Training Epoch 582: 100%|██████████| 258/258 [00:04<00:00, 61.25it/s]\n",
      "Training Epoch 583: 100%|██████████| 258/258 [00:04<00:00, 63.04it/s]\n",
      "Training Epoch 584: 100%|██████████| 258/258 [00:04<00:00, 62.53it/s]\n",
      "Training Epoch 585: 100%|██████████| 258/258 [00:04<00:00, 62.06it/s]\n",
      "Training Epoch 586: 100%|██████████| 258/258 [00:04<00:00, 61.83it/s]\n",
      "Training Epoch 587: 100%|██████████| 258/258 [00:04<00:00, 63.17it/s]\n",
      "Training Epoch 588: 100%|██████████| 258/258 [00:04<00:00, 59.62it/s]\n",
      "Training Epoch 589: 100%|██████████| 258/258 [00:04<00:00, 60.51it/s]\n",
      "Training Epoch 590: 100%|██████████| 258/258 [00:04<00:00, 63.30it/s]\n",
      "Training Epoch 591: 100%|██████████| 258/258 [00:04<00:00, 61.64it/s]\n"
     ]
    },
    {
     "name": "stdout",
     "output_type": "stream",
     "text": [
      "Epoch 590 - Train Loss: 0.0753, Train MSE: 0.0754, Train MAE: 0.1953\n",
      "Epoch 590 - Validation Loss: 2.0024, Validation MSE: 2.0173, Validation MAE: 1.0548\n"
     ]
    },
    {
     "name": "stderr",
     "output_type": "stream",
     "text": [
      "Training Epoch 592: 100%|██████████| 258/258 [00:04<00:00, 62.02it/s]\n",
      "Training Epoch 593: 100%|██████████| 258/258 [00:04<00:00, 62.54it/s]\n",
      "Training Epoch 594: 100%|██████████| 258/258 [00:04<00:00, 61.64it/s]\n",
      "Training Epoch 595: 100%|██████████| 258/258 [00:04<00:00, 62.02it/s]\n",
      "Training Epoch 596: 100%|██████████| 258/258 [00:04<00:00, 62.56it/s]\n",
      "Training Epoch 597: 100%|██████████| 258/258 [00:04<00:00, 61.69it/s]\n",
      "Training Epoch 598: 100%|██████████| 258/258 [00:04<00:00, 61.63it/s]\n",
      "Training Epoch 599: 100%|██████████| 258/258 [00:04<00:00, 62.10it/s]\n",
      "Training Epoch 600: 100%|██████████| 258/258 [00:04<00:00, 62.44it/s]\n",
      "Training Epoch 601: 100%|██████████| 258/258 [00:04<00:00, 62.86it/s]\n"
     ]
    },
    {
     "name": "stdout",
     "output_type": "stream",
     "text": [
      "Epoch 600 - Train Loss: 0.0776, Train MSE: 0.0778, Train MAE: 0.1990\n",
      "Epoch 600 - Validation Loss: 2.0920, Validation MSE: 2.1120, Validation MAE: 1.0760\n"
     ]
    },
    {
     "name": "stderr",
     "output_type": "stream",
     "text": [
      "Training Epoch 602: 100%|██████████| 258/258 [00:04<00:00, 60.05it/s]\n",
      "Training Epoch 603: 100%|██████████| 258/258 [00:04<00:00, 60.98it/s]\n",
      "Training Epoch 604: 100%|██████████| 258/258 [00:04<00:00, 61.66it/s]\n",
      "Training Epoch 605: 100%|██████████| 258/258 [00:04<00:00, 61.45it/s]\n",
      "Training Epoch 606: 100%|██████████| 258/258 [00:04<00:00, 62.12it/s]\n",
      "Training Epoch 607: 100%|██████████| 258/258 [00:04<00:00, 62.25it/s]\n",
      "Training Epoch 608: 100%|██████████| 258/258 [00:04<00:00, 61.41it/s]\n",
      "Training Epoch 609: 100%|██████████| 258/258 [00:04<00:00, 60.95it/s]\n",
      "Training Epoch 610: 100%|██████████| 258/258 [00:04<00:00, 63.80it/s]\n",
      "Training Epoch 611: 100%|██████████| 258/258 [00:04<00:00, 62.74it/s]\n"
     ]
    },
    {
     "name": "stdout",
     "output_type": "stream",
     "text": [
      "Epoch 610 - Train Loss: 0.0808, Train MSE: 0.0808, Train MAE: 0.2016\n",
      "Epoch 610 - Validation Loss: 2.0680, Validation MSE: 2.0862, Validation MAE: 1.0785\n"
     ]
    },
    {
     "name": "stderr",
     "output_type": "stream",
     "text": [
      "Training Epoch 612: 100%|██████████| 258/258 [00:04<00:00, 62.48it/s]\n",
      "Training Epoch 613: 100%|██████████| 258/258 [00:04<00:00, 64.04it/s]\n",
      "Training Epoch 614: 100%|██████████| 258/258 [00:04<00:00, 63.79it/s]\n",
      "Training Epoch 615: 100%|██████████| 258/258 [00:04<00:00, 62.06it/s]\n",
      "Training Epoch 616: 100%|██████████| 258/258 [00:04<00:00, 58.88it/s]\n",
      "Training Epoch 617: 100%|██████████| 258/258 [00:04<00:00, 61.56it/s]\n",
      "Training Epoch 618: 100%|██████████| 258/258 [00:04<00:00, 62.86it/s]\n",
      "Training Epoch 619: 100%|██████████| 258/258 [00:04<00:00, 59.46it/s]\n",
      "Training Epoch 620: 100%|██████████| 258/258 [00:04<00:00, 61.79it/s]\n",
      "Training Epoch 621: 100%|██████████| 258/258 [00:04<00:00, 63.37it/s]\n"
     ]
    },
    {
     "name": "stdout",
     "output_type": "stream",
     "text": [
      "Epoch 620 - Train Loss: 0.0690, Train MSE: 0.0688, Train MAE: 0.1888\n",
      "Epoch 620 - Validation Loss: 2.0780, Validation MSE: 2.0981, Validation MAE: 1.0808\n"
     ]
    },
    {
     "name": "stderr",
     "output_type": "stream",
     "text": [
      "Training Epoch 622: 100%|██████████| 258/258 [00:04<00:00, 62.39it/s]\n",
      "Training Epoch 623: 100%|██████████| 258/258 [00:04<00:00, 62.26it/s]\n",
      "Training Epoch 624: 100%|██████████| 258/258 [00:04<00:00, 64.37it/s]\n",
      "Training Epoch 625: 100%|██████████| 258/258 [00:04<00:00, 63.20it/s]\n",
      "Training Epoch 626: 100%|██████████| 258/258 [00:04<00:00, 63.48it/s]\n",
      "Training Epoch 627: 100%|██████████| 258/258 [00:04<00:00, 62.49it/s]\n",
      "Training Epoch 628: 100%|██████████| 258/258 [00:04<00:00, 63.16it/s]\n",
      "Training Epoch 629: 100%|██████████| 258/258 [00:04<00:00, 62.42it/s]\n",
      "Training Epoch 630: 100%|██████████| 258/258 [00:04<00:00, 58.32it/s]\n",
      "Training Epoch 631: 100%|██████████| 258/258 [00:04<00:00, 62.79it/s]\n"
     ]
    },
    {
     "name": "stdout",
     "output_type": "stream",
     "text": [
      "Epoch 630 - Train Loss: 0.0757, Train MSE: 0.0758, Train MAE: 0.1917\n",
      "Epoch 630 - Validation Loss: 1.9947, Validation MSE: 2.0097, Validation MAE: 1.0432\n"
     ]
    },
    {
     "name": "stderr",
     "output_type": "stream",
     "text": [
      "Training Epoch 632: 100%|██████████| 258/258 [00:04<00:00, 63.00it/s]\n",
      "Training Epoch 633: 100%|██████████| 258/258 [00:04<00:00, 61.83it/s]\n",
      "Training Epoch 634: 100%|██████████| 258/258 [00:04<00:00, 61.25it/s]\n",
      "Training Epoch 635: 100%|██████████| 258/258 [00:04<00:00, 61.94it/s]\n",
      "Training Epoch 636: 100%|██████████| 258/258 [00:04<00:00, 62.77it/s]\n",
      "Training Epoch 637: 100%|██████████| 258/258 [00:04<00:00, 62.55it/s]\n",
      "Training Epoch 638: 100%|██████████| 258/258 [00:04<00:00, 61.06it/s]\n",
      "Training Epoch 639: 100%|██████████| 258/258 [00:04<00:00, 63.60it/s]\n",
      "Training Epoch 640: 100%|██████████| 258/258 [00:04<00:00, 62.15it/s]\n",
      "Training Epoch 641: 100%|██████████| 258/258 [00:04<00:00, 62.28it/s]\n"
     ]
    },
    {
     "name": "stdout",
     "output_type": "stream",
     "text": [
      "Epoch 640 - Train Loss: 0.0657, Train MSE: 0.0658, Train MAE: 0.1863\n",
      "Epoch 640 - Validation Loss: 2.0738, Validation MSE: 2.0893, Validation MAE: 1.0755\n"
     ]
    },
    {
     "name": "stderr",
     "output_type": "stream",
     "text": [
      "Training Epoch 642: 100%|██████████| 258/258 [00:04<00:00, 62.33it/s]\n",
      "Training Epoch 643: 100%|██████████| 258/258 [00:04<00:00, 63.37it/s]\n",
      "Training Epoch 644: 100%|██████████| 258/258 [00:04<00:00, 61.09it/s]\n",
      "Training Epoch 645: 100%|██████████| 258/258 [00:04<00:00, 63.03it/s]\n",
      "Training Epoch 646: 100%|██████████| 258/258 [00:04<00:00, 62.35it/s]\n",
      "Training Epoch 647: 100%|██████████| 258/258 [00:04<00:00, 62.60it/s]\n",
      "Training Epoch 648: 100%|██████████| 258/258 [00:04<00:00, 62.96it/s]\n",
      "Training Epoch 649: 100%|██████████| 258/258 [00:04<00:00, 63.71it/s]\n",
      "Training Epoch 650: 100%|██████████| 258/258 [00:04<00:00, 61.32it/s]\n",
      "Training Epoch 651: 100%|██████████| 258/258 [00:04<00:00, 62.78it/s]\n"
     ]
    },
    {
     "name": "stdout",
     "output_type": "stream",
     "text": [
      "Epoch 650 - Train Loss: 0.0730, Train MSE: 0.0730, Train MAE: 0.1917\n",
      "Epoch 650 - Validation Loss: 2.0699, Validation MSE: 2.0870, Validation MAE: 1.0703\n"
     ]
    },
    {
     "name": "stderr",
     "output_type": "stream",
     "text": [
      "Training Epoch 652: 100%|██████████| 258/258 [00:04<00:00, 64.11it/s]\n",
      "Training Epoch 653: 100%|██████████| 258/258 [00:04<00:00, 61.86it/s]\n",
      "Training Epoch 654: 100%|██████████| 258/258 [00:04<00:00, 62.80it/s]\n",
      "Training Epoch 655: 100%|██████████| 258/258 [00:04<00:00, 62.47it/s]\n",
      "Training Epoch 656: 100%|██████████| 258/258 [00:04<00:00, 61.13it/s]\n",
      "Training Epoch 657: 100%|██████████| 258/258 [00:04<00:00, 63.48it/s]\n",
      "Training Epoch 658: 100%|██████████| 258/258 [00:04<00:00, 59.33it/s]\n",
      "Training Epoch 659: 100%|██████████| 258/258 [00:04<00:00, 60.95it/s]\n",
      "Training Epoch 660: 100%|██████████| 258/258 [00:04<00:00, 61.12it/s]\n",
      "Training Epoch 661: 100%|██████████| 258/258 [00:04<00:00, 60.08it/s]\n"
     ]
    },
    {
     "name": "stdout",
     "output_type": "stream",
     "text": [
      "Epoch 660 - Train Loss: 0.0658, Train MSE: 0.0658, Train MAE: 0.1830\n",
      "Epoch 660 - Validation Loss: 2.0358, Validation MSE: 2.0532, Validation MAE: 1.0604\n"
     ]
    },
    {
     "name": "stderr",
     "output_type": "stream",
     "text": [
      "Training Epoch 662: 100%|██████████| 258/258 [00:04<00:00, 62.40it/s]\n",
      "Training Epoch 663: 100%|██████████| 258/258 [00:04<00:00, 61.02it/s]\n",
      "Training Epoch 664: 100%|██████████| 258/258 [00:04<00:00, 60.95it/s]\n",
      "Training Epoch 665: 100%|██████████| 258/258 [00:04<00:00, 63.15it/s]\n",
      "Training Epoch 666: 100%|██████████| 258/258 [00:04<00:00, 63.46it/s]\n",
      "Training Epoch 667: 100%|██████████| 258/258 [00:04<00:00, 62.62it/s]\n",
      "Training Epoch 668: 100%|██████████| 258/258 [00:04<00:00, 62.76it/s]\n",
      "Training Epoch 669: 100%|██████████| 258/258 [00:04<00:00, 60.43it/s]\n",
      "Training Epoch 670: 100%|██████████| 258/258 [00:04<00:00, 63.22it/s]\n",
      "Training Epoch 671: 100%|██████████| 258/258 [00:04<00:00, 61.29it/s]\n"
     ]
    },
    {
     "name": "stdout",
     "output_type": "stream",
     "text": [
      "Epoch 670 - Train Loss: 0.0727, Train MSE: 0.0727, Train MAE: 0.1909\n",
      "Epoch 670 - Validation Loss: 2.0776, Validation MSE: 2.0945, Validation MAE: 1.0760\n"
     ]
    },
    {
     "name": "stderr",
     "output_type": "stream",
     "text": [
      "Training Epoch 672: 100%|██████████| 258/258 [00:04<00:00, 59.46it/s]\n",
      "Training Epoch 673: 100%|██████████| 258/258 [00:04<00:00, 62.77it/s]\n",
      "Training Epoch 674: 100%|██████████| 258/258 [00:04<00:00, 62.83it/s]\n",
      "Training Epoch 675: 100%|██████████| 258/258 [00:04<00:00, 61.90it/s]\n",
      "Training Epoch 676: 100%|██████████| 258/258 [00:04<00:00, 62.25it/s]\n",
      "Training Epoch 677: 100%|██████████| 258/258 [00:04<00:00, 64.01it/s]\n",
      "Training Epoch 678: 100%|██████████| 258/258 [00:04<00:00, 63.13it/s]\n",
      "Training Epoch 679: 100%|██████████| 258/258 [00:04<00:00, 61.97it/s]\n",
      "Training Epoch 680: 100%|██████████| 258/258 [00:04<00:00, 60.86it/s]\n",
      "Training Epoch 681: 100%|██████████| 258/258 [00:04<00:00, 63.29it/s]\n"
     ]
    },
    {
     "name": "stdout",
     "output_type": "stream",
     "text": [
      "Epoch 680 - Train Loss: 0.0658, Train MSE: 0.0657, Train MAE: 0.1831\n",
      "Epoch 680 - Validation Loss: 2.0482, Validation MSE: 2.0676, Validation MAE: 1.0610\n"
     ]
    },
    {
     "name": "stderr",
     "output_type": "stream",
     "text": [
      "Training Epoch 682: 100%|██████████| 258/258 [00:04<00:00, 60.64it/s]\n",
      "Training Epoch 683: 100%|██████████| 258/258 [00:04<00:00, 62.57it/s]\n",
      "Training Epoch 684: 100%|██████████| 258/258 [00:04<00:00, 63.11it/s]\n",
      "Training Epoch 685: 100%|██████████| 258/258 [00:04<00:00, 61.26it/s]\n",
      "Training Epoch 686: 100%|██████████| 258/258 [00:04<00:00, 57.91it/s]\n",
      "Training Epoch 687: 100%|██████████| 258/258 [00:04<00:00, 61.75it/s]\n",
      "Training Epoch 688: 100%|██████████| 258/258 [00:04<00:00, 61.61it/s]\n",
      "Training Epoch 689: 100%|██████████| 258/258 [00:04<00:00, 62.16it/s]\n",
      "Training Epoch 690: 100%|██████████| 258/258 [00:04<00:00, 61.71it/s]\n",
      "Training Epoch 691: 100%|██████████| 258/258 [00:04<00:00, 62.38it/s]\n"
     ]
    },
    {
     "name": "stdout",
     "output_type": "stream",
     "text": [
      "Epoch 690 - Train Loss: 0.0608, Train MSE: 0.0609, Train MAE: 0.1787\n",
      "Epoch 690 - Validation Loss: 2.0150, Validation MSE: 2.0356, Validation MAE: 1.0558\n"
     ]
    },
    {
     "name": "stderr",
     "output_type": "stream",
     "text": [
      "Training Epoch 692: 100%|██████████| 258/258 [00:04<00:00, 62.73it/s]\n",
      "Training Epoch 693: 100%|██████████| 258/258 [00:04<00:00, 61.52it/s]\n",
      "Training Epoch 694: 100%|██████████| 258/258 [00:04<00:00, 62.19it/s]\n",
      "Training Epoch 695: 100%|██████████| 258/258 [00:04<00:00, 61.34it/s]\n",
      "Training Epoch 696: 100%|██████████| 258/258 [00:04<00:00, 63.34it/s]\n",
      "Training Epoch 697: 100%|██████████| 258/258 [00:04<00:00, 62.76it/s]\n",
      "Training Epoch 698: 100%|██████████| 258/258 [00:04<00:00, 61.89it/s]\n",
      "Training Epoch 699: 100%|██████████| 258/258 [00:04<00:00, 60.08it/s]\n",
      "Training Epoch 700: 100%|██████████| 258/258 [00:04<00:00, 61.54it/s]\n",
      "Training Epoch 701: 100%|██████████| 258/258 [00:04<00:00, 62.31it/s]\n"
     ]
    },
    {
     "name": "stdout",
     "output_type": "stream",
     "text": [
      "Epoch 700 - Train Loss: 0.0632, Train MSE: 0.0633, Train MAE: 0.1823\n",
      "Epoch 700 - Validation Loss: 2.1098, Validation MSE: 2.1293, Validation MAE: 1.0764\n"
     ]
    },
    {
     "name": "stderr",
     "output_type": "stream",
     "text": [
      "Training Epoch 702: 100%|██████████| 258/258 [00:04<00:00, 62.99it/s]\n",
      "Training Epoch 703: 100%|██████████| 258/258 [00:04<00:00, 60.65it/s]\n",
      "Training Epoch 704: 100%|██████████| 258/258 [00:04<00:00, 63.00it/s]\n",
      "Training Epoch 705: 100%|██████████| 258/258 [00:04<00:00, 62.67it/s]\n",
      "Training Epoch 706: 100%|██████████| 258/258 [00:04<00:00, 63.03it/s]\n",
      "Training Epoch 707: 100%|██████████| 258/258 [00:04<00:00, 63.82it/s]\n",
      "Training Epoch 708: 100%|██████████| 258/258 [00:04<00:00, 59.23it/s]\n",
      "Training Epoch 709: 100%|██████████| 258/258 [00:04<00:00, 62.97it/s]\n",
      "Training Epoch 710: 100%|██████████| 258/258 [00:04<00:00, 62.85it/s]\n",
      "Training Epoch 711: 100%|██████████| 258/258 [00:04<00:00, 62.89it/s]\n"
     ]
    },
    {
     "name": "stdout",
     "output_type": "stream",
     "text": [
      "Epoch 710 - Train Loss: 0.0702, Train MSE: 0.0703, Train MAE: 0.1904\n",
      "Epoch 710 - Validation Loss: 2.0385, Validation MSE: 2.0531, Validation MAE: 1.0612\n"
     ]
    },
    {
     "name": "stderr",
     "output_type": "stream",
     "text": [
      "Training Epoch 712: 100%|██████████| 258/258 [00:04<00:00, 61.37it/s]\n",
      "Training Epoch 713: 100%|██████████| 258/258 [00:04<00:00, 60.74it/s]\n",
      "Training Epoch 714: 100%|██████████| 258/258 [00:04<00:00, 62.58it/s]\n",
      "Training Epoch 715: 100%|██████████| 258/258 [00:04<00:00, 62.29it/s]\n",
      "Training Epoch 716: 100%|██████████| 258/258 [00:04<00:00, 61.29it/s]\n",
      "Training Epoch 717: 100%|██████████| 258/258 [00:04<00:00, 62.08it/s]\n",
      "Training Epoch 718: 100%|██████████| 258/258 [00:04<00:00, 62.94it/s]\n",
      "Training Epoch 719: 100%|██████████| 258/258 [00:04<00:00, 60.37it/s]\n",
      "Training Epoch 720: 100%|██████████| 258/258 [00:04<00:00, 62.81it/s]\n",
      "Training Epoch 721: 100%|██████████| 258/258 [00:04<00:00, 63.77it/s]\n"
     ]
    },
    {
     "name": "stdout",
     "output_type": "stream",
     "text": [
      "Epoch 720 - Train Loss: 0.0619, Train MSE: 0.0620, Train MAE: 0.1794\n",
      "Epoch 720 - Validation Loss: 2.0906, Validation MSE: 2.1057, Validation MAE: 1.0824\n"
     ]
    },
    {
     "name": "stderr",
     "output_type": "stream",
     "text": [
      "Training Epoch 722: 100%|██████████| 258/258 [00:04<00:00, 63.57it/s]\n",
      "Training Epoch 723: 100%|██████████| 258/258 [00:04<00:00, 61.66it/s]\n",
      "Training Epoch 724: 100%|██████████| 258/258 [00:04<00:00, 62.72it/s]\n",
      "Training Epoch 725: 100%|██████████| 258/258 [00:04<00:00, 63.70it/s]\n",
      "Training Epoch 726: 100%|██████████| 258/258 [00:04<00:00, 63.62it/s]\n",
      "Training Epoch 727: 100%|██████████| 258/258 [00:04<00:00, 60.39it/s]\n",
      "Training Epoch 728: 100%|██████████| 258/258 [00:04<00:00, 60.90it/s]\n",
      "Training Epoch 729: 100%|██████████| 258/258 [00:04<00:00, 59.90it/s]\n",
      "Training Epoch 730: 100%|██████████| 258/258 [00:04<00:00, 63.00it/s]\n",
      "Training Epoch 731: 100%|██████████| 258/258 [00:04<00:00, 62.26it/s]\n"
     ]
    },
    {
     "name": "stdout",
     "output_type": "stream",
     "text": [
      "Epoch 730 - Train Loss: 0.0634, Train MSE: 0.0634, Train MAE: 0.1793\n",
      "Epoch 730 - Validation Loss: 2.0352, Validation MSE: 2.0495, Validation MAE: 1.0643\n"
     ]
    },
    {
     "name": "stderr",
     "output_type": "stream",
     "text": [
      "Training Epoch 732: 100%|██████████| 258/258 [00:04<00:00, 62.00it/s]\n",
      "Training Epoch 733: 100%|██████████| 258/258 [00:04<00:00, 63.28it/s]\n",
      "Training Epoch 734: 100%|██████████| 258/258 [00:04<00:00, 62.45it/s]\n",
      "Training Epoch 735: 100%|██████████| 258/258 [00:04<00:00, 63.89it/s]\n",
      "Training Epoch 736: 100%|██████████| 258/258 [00:04<00:00, 63.70it/s]\n",
      "Training Epoch 737: 100%|██████████| 258/258 [00:04<00:00, 63.15it/s]\n",
      "Training Epoch 738: 100%|██████████| 258/258 [00:04<00:00, 62.47it/s]\n",
      "Training Epoch 739: 100%|██████████| 258/258 [00:04<00:00, 63.59it/s]\n",
      "Training Epoch 740: 100%|██████████| 258/258 [00:04<00:00, 62.36it/s]\n",
      "Training Epoch 741: 100%|██████████| 258/258 [00:04<00:00, 60.81it/s]\n"
     ]
    },
    {
     "name": "stdout",
     "output_type": "stream",
     "text": [
      "Epoch 740 - Train Loss: 0.0634, Train MSE: 0.0636, Train MAE: 0.1807\n",
      "Epoch 740 - Validation Loss: 2.0612, Validation MSE: 2.0768, Validation MAE: 1.0660\n"
     ]
    },
    {
     "name": "stderr",
     "output_type": "stream",
     "text": [
      "Training Epoch 742: 100%|██████████| 258/258 [00:04<00:00, 57.97it/s]\n",
      "Training Epoch 743: 100%|██████████| 258/258 [00:04<00:00, 63.08it/s]\n",
      "Training Epoch 744: 100%|██████████| 258/258 [00:04<00:00, 62.61it/s]\n",
      "Training Epoch 745: 100%|██████████| 258/258 [00:04<00:00, 63.45it/s]\n",
      "Training Epoch 746: 100%|██████████| 258/258 [00:04<00:00, 63.59it/s]\n",
      "Training Epoch 747: 100%|██████████| 258/258 [00:04<00:00, 63.17it/s]\n",
      "Training Epoch 748: 100%|██████████| 258/258 [00:04<00:00, 62.24it/s]\n",
      "Training Epoch 749: 100%|██████████| 258/258 [00:04<00:00, 61.66it/s]\n",
      "Training Epoch 750: 100%|██████████| 258/258 [00:04<00:00, 62.80it/s]\n",
      "Training Epoch 751: 100%|██████████| 258/258 [00:04<00:00, 63.92it/s]\n"
     ]
    },
    {
     "name": "stdout",
     "output_type": "stream",
     "text": [
      "Epoch 750 - Train Loss: 0.0791, Train MSE: 0.0792, Train MAE: 0.1989\n",
      "Epoch 750 - Validation Loss: 2.0408, Validation MSE: 2.0548, Validation MAE: 1.0630\n"
     ]
    },
    {
     "name": "stderr",
     "output_type": "stream",
     "text": [
      "Training Epoch 752: 100%|██████████| 258/258 [00:04<00:00, 62.79it/s]\n",
      "Training Epoch 753: 100%|██████████| 258/258 [00:04<00:00, 61.78it/s]\n",
      "Training Epoch 754: 100%|██████████| 258/258 [00:04<00:00, 63.28it/s]\n",
      "Training Epoch 755: 100%|██████████| 258/258 [00:04<00:00, 60.70it/s]\n",
      "Training Epoch 756: 100%|██████████| 258/258 [00:04<00:00, 60.83it/s]\n",
      "Training Epoch 757: 100%|██████████| 258/258 [00:04<00:00, 62.06it/s]\n",
      "Training Epoch 758: 100%|██████████| 258/258 [00:04<00:00, 61.72it/s]\n",
      "Training Epoch 759: 100%|██████████| 258/258 [00:04<00:00, 61.02it/s]\n",
      "Training Epoch 760: 100%|██████████| 258/258 [00:04<00:00, 61.43it/s]\n",
      "Training Epoch 761: 100%|██████████| 258/258 [00:04<00:00, 61.81it/s]\n"
     ]
    },
    {
     "name": "stdout",
     "output_type": "stream",
     "text": [
      "Epoch 760 - Train Loss: 0.0673, Train MSE: 0.0673, Train MAE: 0.1840\n",
      "Epoch 760 - Validation Loss: 2.0436, Validation MSE: 2.0610, Validation MAE: 1.0578\n"
     ]
    },
    {
     "name": "stderr",
     "output_type": "stream",
     "text": [
      "Training Epoch 762: 100%|██████████| 258/258 [00:04<00:00, 63.22it/s]\n",
      "Training Epoch 763: 100%|██████████| 258/258 [00:04<00:00, 64.43it/s]\n",
      "Training Epoch 764: 100%|██████████| 258/258 [00:04<00:00, 62.76it/s]\n",
      "Training Epoch 765: 100%|██████████| 258/258 [00:04<00:00, 64.04it/s]\n",
      "Training Epoch 766: 100%|██████████| 258/258 [00:04<00:00, 63.44it/s]\n",
      "Training Epoch 767: 100%|██████████| 258/258 [00:04<00:00, 63.10it/s]\n",
      "Training Epoch 768: 100%|██████████| 258/258 [00:04<00:00, 61.63it/s]\n",
      "Training Epoch 769: 100%|██████████| 258/258 [00:04<00:00, 60.58it/s]\n",
      "Training Epoch 770: 100%|██████████| 258/258 [00:04<00:00, 61.70it/s]\n",
      "Training Epoch 771: 100%|██████████| 258/258 [00:04<00:00, 60.79it/s]\n"
     ]
    },
    {
     "name": "stdout",
     "output_type": "stream",
     "text": [
      "Epoch 770 - Train Loss: 0.0583, Train MSE: 0.0585, Train MAE: 0.1749\n",
      "Epoch 770 - Validation Loss: 2.0080, Validation MSE: 2.0228, Validation MAE: 1.0556\n"
     ]
    },
    {
     "name": "stderr",
     "output_type": "stream",
     "text": [
      "Training Epoch 772: 100%|██████████| 258/258 [00:04<00:00, 61.64it/s]\n",
      "Training Epoch 773: 100%|██████████| 258/258 [00:04<00:00, 59.66it/s]\n",
      "Training Epoch 774: 100%|██████████| 258/258 [00:04<00:00, 62.83it/s]\n",
      "Training Epoch 775: 100%|██████████| 258/258 [00:04<00:00, 62.55it/s]\n",
      "Training Epoch 776: 100%|██████████| 258/258 [00:04<00:00, 63.00it/s]\n",
      "Training Epoch 777: 100%|██████████| 258/258 [00:04<00:00, 62.64it/s]\n",
      "Training Epoch 778: 100%|██████████| 258/258 [00:04<00:00, 62.91it/s]\n",
      "Training Epoch 779: 100%|██████████| 258/258 [00:04<00:00, 59.76it/s]\n",
      "Training Epoch 780: 100%|██████████| 258/258 [00:04<00:00, 61.89it/s]\n",
      "Training Epoch 781: 100%|██████████| 258/258 [00:04<00:00, 62.56it/s]\n"
     ]
    },
    {
     "name": "stdout",
     "output_type": "stream",
     "text": [
      "Epoch 780 - Train Loss: 0.0668, Train MSE: 0.0668, Train MAE: 0.1817\n",
      "Epoch 780 - Validation Loss: 2.1325, Validation MSE: 2.1516, Validation MAE: 1.0863\n"
     ]
    },
    {
     "name": "stderr",
     "output_type": "stream",
     "text": [
      "Training Epoch 782: 100%|██████████| 258/258 [00:04<00:00, 61.79it/s]\n",
      "Training Epoch 783: 100%|██████████| 258/258 [00:04<00:00, 58.44it/s]\n",
      "Training Epoch 784: 100%|██████████| 258/258 [00:04<00:00, 61.25it/s]\n",
      "Training Epoch 785: 100%|██████████| 258/258 [00:04<00:00, 63.17it/s]\n",
      "Training Epoch 786: 100%|██████████| 258/258 [00:04<00:00, 61.24it/s]\n",
      "Training Epoch 787: 100%|██████████| 258/258 [00:04<00:00, 61.78it/s]\n",
      "Training Epoch 788: 100%|██████████| 258/258 [00:04<00:00, 61.52it/s]\n",
      "Training Epoch 789: 100%|██████████| 258/258 [00:04<00:00, 63.06it/s]\n",
      "Training Epoch 790: 100%|██████████| 258/258 [00:04<00:00, 61.54it/s]\n",
      "Training Epoch 791: 100%|██████████| 258/258 [00:04<00:00, 62.98it/s]\n"
     ]
    },
    {
     "name": "stdout",
     "output_type": "stream",
     "text": [
      "Epoch 790 - Train Loss: 0.0634, Train MSE: 0.0635, Train MAE: 0.1797\n",
      "Epoch 790 - Validation Loss: 2.0904, Validation MSE: 2.1095, Validation MAE: 1.0730\n"
     ]
    },
    {
     "name": "stderr",
     "output_type": "stream",
     "text": [
      "Training Epoch 792: 100%|██████████| 258/258 [00:04<00:00, 62.31it/s]\n",
      "Training Epoch 793: 100%|██████████| 258/258 [00:04<00:00, 60.65it/s]\n",
      "Training Epoch 794: 100%|██████████| 258/258 [00:04<00:00, 61.65it/s]\n",
      "Training Epoch 795: 100%|██████████| 258/258 [00:04<00:00, 62.92it/s]\n",
      "Training Epoch 796: 100%|██████████| 258/258 [00:04<00:00, 63.68it/s]\n",
      "Training Epoch 797: 100%|██████████| 258/258 [00:04<00:00, 59.98it/s]\n",
      "Training Epoch 798: 100%|██████████| 258/258 [00:04<00:00, 60.58it/s]\n",
      "Training Epoch 799: 100%|██████████| 258/258 [00:04<00:00, 63.14it/s]\n",
      "Training Epoch 800: 100%|██████████| 258/258 [00:04<00:00, 62.61it/s]\n",
      "Training Epoch 801: 100%|██████████| 258/258 [00:04<00:00, 62.90it/s]\n"
     ]
    },
    {
     "name": "stdout",
     "output_type": "stream",
     "text": [
      "Epoch 800 - Train Loss: 0.0631, Train MSE: 0.0630, Train MAE: 0.1782\n",
      "Epoch 800 - Validation Loss: 2.0331, Validation MSE: 2.0499, Validation MAE: 1.0542\n"
     ]
    },
    {
     "name": "stderr",
     "output_type": "stream",
     "text": [
      "Training Epoch 802: 100%|██████████| 258/258 [00:04<00:00, 64.35it/s]\n",
      "Training Epoch 803: 100%|██████████| 258/258 [00:04<00:00, 61.26it/s]\n",
      "Training Epoch 804: 100%|██████████| 258/258 [00:04<00:00, 64.10it/s]\n",
      "Training Epoch 805: 100%|██████████| 258/258 [00:04<00:00, 61.27it/s]\n",
      "Training Epoch 806: 100%|██████████| 258/258 [00:04<00:00, 63.51it/s]\n",
      "Training Epoch 807: 100%|██████████| 258/258 [00:04<00:00, 63.33it/s]\n",
      "Training Epoch 808: 100%|██████████| 258/258 [00:04<00:00, 61.92it/s]\n",
      "Training Epoch 809: 100%|██████████| 258/258 [00:04<00:00, 61.14it/s]\n",
      "Training Epoch 810: 100%|██████████| 258/258 [00:04<00:00, 63.24it/s]\n",
      "Training Epoch 811: 100%|██████████| 258/258 [00:04<00:00, 58.44it/s]\n"
     ]
    },
    {
     "name": "stdout",
     "output_type": "stream",
     "text": [
      "Epoch 810 - Train Loss: 0.0650, Train MSE: 0.0651, Train MAE: 0.1783\n",
      "Epoch 810 - Validation Loss: 1.9541, Validation MSE: 1.9683, Validation MAE: 1.0421\n"
     ]
    },
    {
     "name": "stderr",
     "output_type": "stream",
     "text": [
      "Training Epoch 812: 100%|██████████| 258/258 [00:04<00:00, 62.90it/s]\n",
      "Training Epoch 813: 100%|██████████| 258/258 [00:04<00:00, 60.02it/s]\n",
      "Training Epoch 814: 100%|██████████| 258/258 [00:04<00:00, 63.63it/s]\n",
      "Training Epoch 815: 100%|██████████| 258/258 [00:04<00:00, 62.47it/s]\n",
      "Training Epoch 816: 100%|██████████| 258/258 [00:04<00:00, 62.52it/s]\n",
      "Training Epoch 817: 100%|██████████| 258/258 [00:04<00:00, 62.83it/s]\n",
      "Training Epoch 818: 100%|██████████| 258/258 [00:04<00:00, 62.18it/s]\n",
      "Training Epoch 819: 100%|██████████| 258/258 [00:04<00:00, 62.70it/s]\n",
      "Training Epoch 820: 100%|██████████| 258/258 [00:04<00:00, 62.40it/s]\n",
      "Training Epoch 821: 100%|██████████| 258/258 [00:04<00:00, 63.52it/s]\n"
     ]
    },
    {
     "name": "stdout",
     "output_type": "stream",
     "text": [
      "Epoch 820 - Train Loss: 0.0606, Train MSE: 0.0607, Train MAE: 0.1735\n",
      "Epoch 820 - Validation Loss: 1.9947, Validation MSE: 2.0098, Validation MAE: 1.0421\n"
     ]
    },
    {
     "name": "stderr",
     "output_type": "stream",
     "text": [
      "Training Epoch 822: 100%|██████████| 258/258 [00:04<00:00, 60.28it/s]\n",
      "Training Epoch 823: 100%|██████████| 258/258 [00:04<00:00, 61.86it/s]\n",
      "Training Epoch 824: 100%|██████████| 258/258 [00:04<00:00, 64.23it/s]\n",
      "Training Epoch 825: 100%|██████████| 258/258 [00:04<00:00, 57.39it/s]\n",
      "Training Epoch 826: 100%|██████████| 258/258 [00:04<00:00, 60.20it/s]\n",
      "Training Epoch 827: 100%|██████████| 258/258 [00:04<00:00, 62.82it/s]\n",
      "Training Epoch 828: 100%|██████████| 258/258 [00:04<00:00, 61.49it/s]\n",
      "Training Epoch 829: 100%|██████████| 258/258 [00:04<00:00, 62.76it/s]\n",
      "Training Epoch 830: 100%|██████████| 258/258 [00:04<00:00, 63.01it/s]\n",
      "Training Epoch 831: 100%|██████████| 258/258 [00:04<00:00, 62.09it/s]\n"
     ]
    },
    {
     "name": "stdout",
     "output_type": "stream",
     "text": [
      "Epoch 830 - Train Loss: 0.0579, Train MSE: 0.0575, Train MAE: 0.1734\n",
      "Epoch 830 - Validation Loss: 2.0755, Validation MSE: 2.0903, Validation MAE: 1.0707\n"
     ]
    },
    {
     "name": "stderr",
     "output_type": "stream",
     "text": [
      "Training Epoch 832: 100%|██████████| 258/258 [00:04<00:00, 62.88it/s]\n",
      "Training Epoch 833: 100%|██████████| 258/258 [00:04<00:00, 64.18it/s]\n",
      "Training Epoch 834: 100%|██████████| 258/258 [00:04<00:00, 61.21it/s]\n",
      "Training Epoch 835: 100%|██████████| 258/258 [00:04<00:00, 62.04it/s]\n",
      "Training Epoch 836: 100%|██████████| 258/258 [00:04<00:00, 62.12it/s]\n",
      "Training Epoch 837: 100%|██████████| 258/258 [00:04<00:00, 63.01it/s]\n",
      "Training Epoch 838: 100%|██████████| 258/258 [00:04<00:00, 63.46it/s]\n",
      "Training Epoch 839: 100%|██████████| 258/258 [00:04<00:00, 60.38it/s]\n",
      "Training Epoch 840: 100%|██████████| 258/258 [00:04<00:00, 62.41it/s]\n",
      "Training Epoch 841: 100%|██████████| 258/258 [00:04<00:00, 61.60it/s]\n"
     ]
    },
    {
     "name": "stdout",
     "output_type": "stream",
     "text": [
      "Epoch 840 - Train Loss: 0.0555, Train MSE: 0.0556, Train MAE: 0.1702\n",
      "Epoch 840 - Validation Loss: 1.9624, Validation MSE: 1.9798, Validation MAE: 1.0393\n"
     ]
    },
    {
     "name": "stderr",
     "output_type": "stream",
     "text": [
      "Training Epoch 842: 100%|██████████| 258/258 [00:04<00:00, 61.85it/s]\n",
      "Training Epoch 843: 100%|██████████| 258/258 [00:04<00:00, 61.38it/s]\n",
      "Training Epoch 844: 100%|██████████| 258/258 [00:04<00:00, 63.35it/s]\n",
      "Training Epoch 845: 100%|██████████| 258/258 [00:04<00:00, 62.05it/s]\n",
      "Training Epoch 846: 100%|██████████| 258/258 [00:04<00:00, 59.82it/s]\n",
      "Training Epoch 847: 100%|██████████| 258/258 [00:04<00:00, 62.88it/s]\n",
      "Training Epoch 848: 100%|██████████| 258/258 [00:04<00:00, 62.07it/s]\n",
      "Training Epoch 849: 100%|██████████| 258/258 [00:04<00:00, 63.58it/s]\n",
      "Training Epoch 850: 100%|██████████| 258/258 [00:04<00:00, 61.56it/s]\n",
      "Training Epoch 851: 100%|██████████| 258/258 [00:04<00:00, 61.88it/s]\n"
     ]
    },
    {
     "name": "stdout",
     "output_type": "stream",
     "text": [
      "Epoch 850 - Train Loss: 0.0556, Train MSE: 0.0557, Train MAE: 0.1705\n",
      "Epoch 850 - Validation Loss: 2.0568, Validation MSE: 2.0696, Validation MAE: 1.0694\n"
     ]
    },
    {
     "name": "stderr",
     "output_type": "stream",
     "text": [
      "Training Epoch 852: 100%|██████████| 258/258 [00:04<00:00, 63.10it/s]\n",
      "Training Epoch 853: 100%|██████████| 258/258 [00:04<00:00, 62.10it/s]\n",
      "Training Epoch 854: 100%|██████████| 258/258 [00:04<00:00, 62.09it/s]\n",
      "Training Epoch 855: 100%|██████████| 258/258 [00:04<00:00, 60.52it/s]\n",
      "Training Epoch 856: 100%|██████████| 258/258 [00:04<00:00, 62.65it/s]\n",
      "Training Epoch 857: 100%|██████████| 258/258 [00:04<00:00, 60.91it/s]\n",
      "Training Epoch 858: 100%|██████████| 258/258 [00:04<00:00, 62.72it/s]\n",
      "Training Epoch 859: 100%|██████████| 258/258 [00:04<00:00, 62.56it/s]\n",
      "Training Epoch 860: 100%|██████████| 258/258 [00:04<00:00, 62.83it/s]\n",
      "Training Epoch 861: 100%|██████████| 258/258 [00:04<00:00, 61.30it/s]\n"
     ]
    },
    {
     "name": "stdout",
     "output_type": "stream",
     "text": [
      "Epoch 860 - Train Loss: 0.0536, Train MSE: 0.0536, Train MAE: 0.1662\n",
      "Epoch 860 - Validation Loss: 1.9917, Validation MSE: 2.0063, Validation MAE: 1.0484\n"
     ]
    },
    {
     "name": "stderr",
     "output_type": "stream",
     "text": [
      "Training Epoch 862: 100%|██████████| 258/258 [00:04<00:00, 63.51it/s]\n",
      "Training Epoch 863: 100%|██████████| 258/258 [00:04<00:00, 64.13it/s]\n",
      "Training Epoch 864: 100%|██████████| 258/258 [00:04<00:00, 61.72it/s]\n",
      "Training Epoch 865: 100%|██████████| 258/258 [00:04<00:00, 61.84it/s]\n",
      "Training Epoch 866: 100%|██████████| 258/258 [00:04<00:00, 62.56it/s]\n",
      "Training Epoch 867: 100%|██████████| 258/258 [00:04<00:00, 59.46it/s]\n",
      "Training Epoch 868: 100%|██████████| 258/258 [00:04<00:00, 62.50it/s]\n",
      "Training Epoch 869: 100%|██████████| 258/258 [00:04<00:00, 62.52it/s]\n",
      "Training Epoch 870: 100%|██████████| 258/258 [00:04<00:00, 63.56it/s]\n",
      "Training Epoch 871: 100%|██████████| 258/258 [00:04<00:00, 60.81it/s]\n"
     ]
    },
    {
     "name": "stdout",
     "output_type": "stream",
     "text": [
      "Epoch 870 - Train Loss: 0.0567, Train MSE: 0.0568, Train MAE: 0.1709\n",
      "Epoch 870 - Validation Loss: 2.0036, Validation MSE: 2.0167, Validation MAE: 1.0472\n"
     ]
    },
    {
     "name": "stderr",
     "output_type": "stream",
     "text": [
      "Training Epoch 872: 100%|██████████| 258/258 [00:04<00:00, 62.12it/s]\n",
      "Training Epoch 873: 100%|██████████| 258/258 [00:04<00:00, 62.96it/s]\n",
      "Training Epoch 874: 100%|██████████| 258/258 [00:04<00:00, 62.10it/s]\n",
      "Training Epoch 875: 100%|██████████| 258/258 [00:04<00:00, 62.13it/s]\n",
      "Training Epoch 876: 100%|██████████| 258/258 [00:04<00:00, 61.61it/s]\n",
      "Training Epoch 877: 100%|██████████| 258/258 [00:04<00:00, 61.45it/s]\n",
      "Training Epoch 878: 100%|██████████| 258/258 [00:04<00:00, 63.26it/s]\n",
      "Training Epoch 879: 100%|██████████| 258/258 [00:04<00:00, 62.62it/s]\n",
      "Training Epoch 880: 100%|██████████| 258/258 [00:04<00:00, 60.87it/s]\n",
      "Training Epoch 881: 100%|██████████| 258/258 [00:04<00:00, 59.52it/s]\n"
     ]
    },
    {
     "name": "stdout",
     "output_type": "stream",
     "text": [
      "Epoch 880 - Train Loss: 0.0650, Train MSE: 0.0648, Train MAE: 0.1799\n",
      "Epoch 880 - Validation Loss: 1.9665, Validation MSE: 1.9792, Validation MAE: 1.0425\n"
     ]
    },
    {
     "name": "stderr",
     "output_type": "stream",
     "text": [
      "Training Epoch 882: 100%|██████████| 258/258 [00:04<00:00, 63.54it/s]\n",
      "Training Epoch 883: 100%|██████████| 258/258 [00:04<00:00, 62.38it/s]\n",
      "Training Epoch 884: 100%|██████████| 258/258 [00:04<00:00, 62.08it/s]\n",
      "Training Epoch 885: 100%|██████████| 258/258 [00:04<00:00, 61.69it/s]\n",
      "Training Epoch 886: 100%|██████████| 258/258 [00:04<00:00, 63.08it/s]\n",
      "Training Epoch 887: 100%|██████████| 258/258 [00:04<00:00, 61.07it/s]\n",
      "Training Epoch 888: 100%|██████████| 258/258 [00:04<00:00, 63.73it/s]\n",
      "Training Epoch 889: 100%|██████████| 258/258 [00:04<00:00, 62.86it/s]\n",
      "Training Epoch 890: 100%|██████████| 258/258 [00:04<00:00, 62.29it/s]\n",
      "Training Epoch 891: 100%|██████████| 258/258 [00:04<00:00, 62.52it/s]\n"
     ]
    },
    {
     "name": "stdout",
     "output_type": "stream",
     "text": [
      "Epoch 890 - Train Loss: 0.0567, Train MSE: 0.0568, Train MAE: 0.1691\n",
      "Epoch 890 - Validation Loss: 1.9845, Validation MSE: 2.0009, Validation MAE: 1.0451\n"
     ]
    },
    {
     "name": "stderr",
     "output_type": "stream",
     "text": [
      "Training Epoch 892: 100%|██████████| 258/258 [00:04<00:00, 62.99it/s]\n",
      "Training Epoch 893: 100%|██████████| 258/258 [00:04<00:00, 61.36it/s]\n",
      "Training Epoch 894: 100%|██████████| 258/258 [00:04<00:00, 62.78it/s]\n",
      "Training Epoch 895: 100%|██████████| 258/258 [00:04<00:00, 57.40it/s]\n",
      "Training Epoch 896: 100%|██████████| 258/258 [00:05<00:00, 50.98it/s]\n",
      "Training Epoch 897: 100%|██████████| 258/258 [00:04<00:00, 61.16it/s]\n",
      "Training Epoch 898: 100%|██████████| 258/258 [00:04<00:00, 63.40it/s]\n",
      "Training Epoch 899: 100%|██████████| 258/258 [00:03<00:00, 64.74it/s]\n",
      "Training Epoch 900: 100%|██████████| 258/258 [00:04<00:00, 63.08it/s]\n",
      "Training Epoch 901: 100%|██████████| 258/258 [00:03<00:00, 64.61it/s]\n"
     ]
    },
    {
     "name": "stdout",
     "output_type": "stream",
     "text": [
      "Epoch 900 - Train Loss: 0.0572, Train MSE: 0.0572, Train MAE: 0.1709\n",
      "Epoch 900 - Validation Loss: 2.1115, Validation MSE: 2.1282, Validation MAE: 1.0754\n"
     ]
    },
    {
     "name": "stderr",
     "output_type": "stream",
     "text": [
      "Training Epoch 902: 100%|██████████| 258/258 [00:04<00:00, 63.90it/s]\n",
      "Training Epoch 903: 100%|██████████| 258/258 [00:03<00:00, 65.44it/s]\n",
      "Training Epoch 904: 100%|██████████| 258/258 [00:03<00:00, 64.52it/s]\n",
      "Training Epoch 905: 100%|██████████| 258/258 [00:04<00:00, 64.12it/s]\n",
      "Training Epoch 906: 100%|██████████| 258/258 [00:04<00:00, 60.40it/s]\n",
      "Training Epoch 907: 100%|██████████| 258/258 [00:03<00:00, 64.69it/s]\n",
      "Training Epoch 908: 100%|██████████| 258/258 [00:04<00:00, 63.87it/s]\n",
      "Training Epoch 909: 100%|██████████| 258/258 [00:04<00:00, 57.67it/s]\n",
      "Training Epoch 910: 100%|██████████| 258/258 [00:04<00:00, 63.89it/s]\n",
      "Training Epoch 911: 100%|██████████| 258/258 [00:04<00:00, 63.56it/s]\n"
     ]
    },
    {
     "name": "stdout",
     "output_type": "stream",
     "text": [
      "Epoch 910 - Train Loss: 0.0562, Train MSE: 0.0563, Train MAE: 0.1675\n",
      "Epoch 910 - Validation Loss: 2.0402, Validation MSE: 2.0494, Validation MAE: 1.0703\n"
     ]
    },
    {
     "name": "stderr",
     "output_type": "stream",
     "text": [
      "Training Epoch 912: 100%|██████████| 258/258 [00:03<00:00, 65.36it/s]\n",
      "Training Epoch 913: 100%|██████████| 258/258 [00:04<00:00, 62.41it/s]\n",
      "Training Epoch 914: 100%|██████████| 258/258 [00:04<00:00, 64.05it/s]\n",
      "Training Epoch 915: 100%|██████████| 258/258 [00:03<00:00, 65.41it/s]\n",
      "Training Epoch 916: 100%|██████████| 258/258 [00:04<00:00, 62.54it/s]\n",
      "Training Epoch 917: 100%|██████████| 258/258 [00:04<00:00, 63.04it/s]\n",
      "Training Epoch 918: 100%|██████████| 258/258 [00:04<00:00, 64.18it/s]\n",
      "Training Epoch 919: 100%|██████████| 258/258 [00:04<00:00, 63.92it/s]\n",
      "Training Epoch 920: 100%|██████████| 258/258 [00:04<00:00, 64.05it/s]\n",
      "Training Epoch 921: 100%|██████████| 258/258 [00:04<00:00, 62.40it/s]\n"
     ]
    },
    {
     "name": "stdout",
     "output_type": "stream",
     "text": [
      "Epoch 920 - Train Loss: 0.0538, Train MSE: 0.0533, Train MAE: 0.1638\n",
      "Epoch 920 - Validation Loss: 2.0005, Validation MSE: 2.0121, Validation MAE: 1.0484\n"
     ]
    },
    {
     "name": "stderr",
     "output_type": "stream",
     "text": [
      "Training Epoch 922: 100%|██████████| 258/258 [00:03<00:00, 65.16it/s]\n",
      "Training Epoch 923: 100%|██████████| 258/258 [00:04<00:00, 60.12it/s]\n",
      "Training Epoch 924: 100%|██████████| 258/258 [00:04<00:00, 63.48it/s]\n",
      "Training Epoch 925: 100%|██████████| 258/258 [00:04<00:00, 62.53it/s]\n",
      "Training Epoch 926: 100%|██████████| 258/258 [00:04<00:00, 62.80it/s]\n",
      "Training Epoch 927: 100%|██████████| 258/258 [00:04<00:00, 63.82it/s]\n",
      "Training Epoch 928: 100%|██████████| 258/258 [00:04<00:00, 62.75it/s]\n",
      "Training Epoch 929: 100%|██████████| 258/258 [00:04<00:00, 63.59it/s]\n",
      "Training Epoch 930: 100%|██████████| 258/258 [00:04<00:00, 63.45it/s]\n",
      "Training Epoch 931: 100%|██████████| 258/258 [00:04<00:00, 63.34it/s]\n"
     ]
    },
    {
     "name": "stdout",
     "output_type": "stream",
     "text": [
      "Epoch 930 - Train Loss: 0.0510, Train MSE: 0.0510, Train MAE: 0.1613\n",
      "Epoch 930 - Validation Loss: 2.1082, Validation MSE: 2.1242, Validation MAE: 1.0779\n"
     ]
    },
    {
     "name": "stderr",
     "output_type": "stream",
     "text": [
      "Training Epoch 932: 100%|██████████| 258/258 [00:04<00:00, 63.66it/s]\n",
      "Training Epoch 933: 100%|██████████| 258/258 [00:03<00:00, 65.39it/s]\n",
      "Training Epoch 934: 100%|██████████| 258/258 [00:04<00:00, 60.83it/s]\n",
      "Training Epoch 935: 100%|██████████| 258/258 [00:04<00:00, 62.14it/s]\n",
      "Training Epoch 936: 100%|██████████| 258/258 [00:03<00:00, 64.70it/s]\n",
      "Training Epoch 937: 100%|██████████| 258/258 [00:04<00:00, 59.28it/s]\n",
      "Training Epoch 938: 100%|██████████| 258/258 [00:04<00:00, 61.63it/s]\n",
      "Training Epoch 939: 100%|██████████| 258/258 [00:04<00:00, 63.52it/s]\n",
      "Training Epoch 940: 100%|██████████| 258/258 [00:04<00:00, 62.98it/s]\n",
      "Training Epoch 941: 100%|██████████| 258/258 [00:04<00:00, 61.95it/s]\n"
     ]
    },
    {
     "name": "stdout",
     "output_type": "stream",
     "text": [
      "Epoch 940 - Train Loss: 0.0558, Train MSE: 0.0559, Train MAE: 0.1666\n",
      "Epoch 940 - Validation Loss: 2.0574, Validation MSE: 2.0674, Validation MAE: 1.0667\n"
     ]
    },
    {
     "name": "stderr",
     "output_type": "stream",
     "text": [
      "Training Epoch 942: 100%|██████████| 258/258 [00:04<00:00, 63.93it/s]\n",
      "Training Epoch 943: 100%|██████████| 258/258 [00:04<00:00, 60.60it/s]\n",
      "Training Epoch 944: 100%|██████████| 258/258 [00:04<00:00, 64.22it/s]\n",
      "Training Epoch 945: 100%|██████████| 258/258 [00:04<00:00, 62.03it/s]\n",
      "Training Epoch 946: 100%|██████████| 258/258 [00:03<00:00, 64.64it/s]\n",
      "Training Epoch 947: 100%|██████████| 258/258 [00:04<00:00, 63.65it/s]\n",
      "Training Epoch 948: 100%|██████████| 258/258 [00:04<00:00, 62.88it/s]\n",
      "Training Epoch 949: 100%|██████████| 258/258 [00:04<00:00, 61.05it/s]\n",
      "Training Epoch 950: 100%|██████████| 258/258 [00:03<00:00, 65.12it/s]\n",
      "Training Epoch 951: 100%|██████████| 258/258 [00:04<00:00, 59.37it/s]\n"
     ]
    },
    {
     "name": "stdout",
     "output_type": "stream",
     "text": [
      "Epoch 950 - Train Loss: 0.0583, Train MSE: 0.0584, Train MAE: 0.1688\n",
      "Epoch 950 - Validation Loss: 2.1031, Validation MSE: 2.1159, Validation MAE: 1.0794\n"
     ]
    },
    {
     "name": "stderr",
     "output_type": "stream",
     "text": [
      "Training Epoch 952: 100%|██████████| 258/258 [00:04<00:00, 63.10it/s]\n",
      "Training Epoch 953: 100%|██████████| 258/258 [00:04<00:00, 63.59it/s]\n",
      "Training Epoch 954: 100%|██████████| 258/258 [00:04<00:00, 62.35it/s]\n",
      "Training Epoch 955: 100%|██████████| 258/258 [00:04<00:00, 61.78it/s]\n",
      "Training Epoch 956: 100%|██████████| 258/258 [00:04<00:00, 64.01it/s]\n",
      "Training Epoch 957: 100%|██████████| 258/258 [00:04<00:00, 62.08it/s]\n",
      "Training Epoch 958: 100%|██████████| 258/258 [00:04<00:00, 63.57it/s]\n",
      "Training Epoch 959: 100%|██████████| 258/258 [00:04<00:00, 63.21it/s]\n",
      "Training Epoch 960: 100%|██████████| 258/258 [00:04<00:00, 64.39it/s]\n",
      "Training Epoch 961: 100%|██████████| 258/258 [00:04<00:00, 64.01it/s]\n"
     ]
    },
    {
     "name": "stdout",
     "output_type": "stream",
     "text": [
      "Epoch 960 - Train Loss: 0.0593, Train MSE: 0.0594, Train MAE: 0.1696\n",
      "Epoch 960 - Validation Loss: 2.0704, Validation MSE: 2.0832, Validation MAE: 1.0683\n"
     ]
    },
    {
     "name": "stderr",
     "output_type": "stream",
     "text": [
      "Training Epoch 962: 100%|██████████| 258/258 [00:04<00:00, 62.76it/s]\n",
      "Training Epoch 963: 100%|██████████| 258/258 [00:03<00:00, 64.75it/s]\n",
      "Training Epoch 964: 100%|██████████| 258/258 [00:04<00:00, 62.12it/s]\n",
      "Training Epoch 965: 100%|██████████| 258/258 [00:04<00:00, 63.16it/s]\n",
      "Training Epoch 966: 100%|██████████| 258/258 [00:03<00:00, 64.56it/s]\n",
      "Training Epoch 967: 100%|██████████| 258/258 [00:03<00:00, 74.05it/s]\n",
      "Training Epoch 968: 100%|██████████| 258/258 [00:03<00:00, 73.95it/s]\n",
      "Training Epoch 969: 100%|██████████| 258/258 [00:03<00:00, 77.11it/s]\n",
      "Training Epoch 970: 100%|██████████| 258/258 [00:03<00:00, 75.94it/s]\n",
      "Training Epoch 971: 100%|██████████| 258/258 [00:03<00:00, 75.98it/s]\n"
     ]
    },
    {
     "name": "stdout",
     "output_type": "stream",
     "text": [
      "Epoch 970 - Train Loss: 0.0481, Train MSE: 0.0481, Train MAE: 0.1577\n",
      "Epoch 970 - Validation Loss: 2.0356, Validation MSE: 2.0505, Validation MAE: 1.0548\n"
     ]
    },
    {
     "name": "stderr",
     "output_type": "stream",
     "text": [
      "Training Epoch 972: 100%|██████████| 258/258 [00:03<00:00, 77.87it/s]\n",
      "Training Epoch 973: 100%|██████████| 258/258 [00:03<00:00, 78.02it/s]\n",
      "Training Epoch 974: 100%|██████████| 258/258 [00:03<00:00, 74.67it/s]\n",
      "Training Epoch 975: 100%|██████████| 258/258 [00:03<00:00, 77.69it/s]\n",
      "Training Epoch 976: 100%|██████████| 258/258 [00:03<00:00, 75.67it/s]\n",
      "Training Epoch 977: 100%|██████████| 258/258 [00:03<00:00, 78.42it/s]\n",
      "Training Epoch 978: 100%|██████████| 258/258 [00:03<00:00, 73.13it/s]\n",
      "Training Epoch 979: 100%|██████████| 258/258 [00:03<00:00, 77.47it/s]\n",
      "Training Epoch 980: 100%|██████████| 258/258 [00:03<00:00, 74.14it/s]\n",
      "Training Epoch 981: 100%|██████████| 258/258 [00:03<00:00, 78.72it/s]\n"
     ]
    },
    {
     "name": "stdout",
     "output_type": "stream",
     "text": [
      "Epoch 980 - Train Loss: 0.0537, Train MSE: 0.0538, Train MAE: 0.1641\n",
      "Epoch 980 - Validation Loss: 2.0672, Validation MSE: 2.0802, Validation MAE: 1.0723\n"
     ]
    },
    {
     "name": "stderr",
     "output_type": "stream",
     "text": [
      "Training Epoch 982: 100%|██████████| 258/258 [00:03<00:00, 73.13it/s]\n",
      "Training Epoch 983: 100%|██████████| 258/258 [00:03<00:00, 72.35it/s]\n",
      "Training Epoch 984: 100%|██████████| 258/258 [00:03<00:00, 72.26it/s]\n",
      "Training Epoch 985: 100%|██████████| 258/258 [00:03<00:00, 76.80it/s]\n",
      "Training Epoch 986: 100%|██████████| 258/258 [00:03<00:00, 75.12it/s]\n",
      "Training Epoch 987: 100%|██████████| 258/258 [00:03<00:00, 74.46it/s]\n",
      "Training Epoch 988: 100%|██████████| 258/258 [00:03<00:00, 78.20it/s]\n",
      "Training Epoch 989: 100%|██████████| 258/258 [00:03<00:00, 74.49it/s]\n",
      "Training Epoch 990: 100%|██████████| 258/258 [00:03<00:00, 76.87it/s]\n",
      "Training Epoch 991: 100%|██████████| 258/258 [00:03<00:00, 75.58it/s]\n"
     ]
    },
    {
     "name": "stdout",
     "output_type": "stream",
     "text": [
      "Epoch 990 - Train Loss: 0.0529, Train MSE: 0.0529, Train MAE: 0.1633\n",
      "Epoch 990 - Validation Loss: 2.0919, Validation MSE: 2.1072, Validation MAE: 1.0772\n"
     ]
    },
    {
     "name": "stderr",
     "output_type": "stream",
     "text": [
      "Training Epoch 992: 100%|██████████| 258/258 [00:03<00:00, 77.04it/s]\n",
      "Training Epoch 993: 100%|██████████| 258/258 [00:03<00:00, 75.91it/s]\n",
      "Training Epoch 994: 100%|██████████| 258/258 [00:03<00:00, 79.96it/s]\n",
      "Training Epoch 995: 100%|██████████| 258/258 [00:03<00:00, 76.62it/s]\n",
      "Training Epoch 996: 100%|██████████| 258/258 [00:03<00:00, 76.87it/s]\n",
      "Training Epoch 997: 100%|██████████| 258/258 [00:03<00:00, 75.91it/s]\n",
      "Training Epoch 998: 100%|██████████| 258/258 [00:03<00:00, 75.29it/s]\n",
      "Training Epoch 999: 100%|██████████| 258/258 [00:03<00:00, 69.88it/s]\n",
      "Training Epoch 1000: 100%|██████████| 258/258 [00:03<00:00, 77.83it/s]\n",
      "Training Epoch 1001: 100%|██████████| 258/258 [00:03<00:00, 75.52it/s]\n"
     ]
    },
    {
     "name": "stdout",
     "output_type": "stream",
     "text": [
      "Epoch 1000 - Train Loss: 0.0487, Train MSE: 0.0488, Train MAE: 0.1570\n",
      "Epoch 1000 - Validation Loss: 2.0638, Validation MSE: 2.0782, Validation MAE: 1.0688\n"
     ]
    },
    {
     "name": "stderr",
     "output_type": "stream",
     "text": [
      "Training Epoch 1002: 100%|██████████| 258/258 [00:03<00:00, 74.75it/s]\n",
      "Training Epoch 1003: 100%|██████████| 258/258 [00:03<00:00, 77.48it/s]\n",
      "Training Epoch 1004: 100%|██████████| 258/258 [00:03<00:00, 74.47it/s]\n",
      "Training Epoch 1005: 100%|██████████| 258/258 [00:03<00:00, 77.05it/s]\n",
      "Training Epoch 1006: 100%|██████████| 258/258 [00:03<00:00, 78.25it/s]\n",
      "Training Epoch 1007: 100%|██████████| 258/258 [00:03<00:00, 75.43it/s]\n",
      "Training Epoch 1008: 100%|██████████| 258/258 [00:03<00:00, 75.16it/s]\n",
      "Training Epoch 1009: 100%|██████████| 258/258 [00:03<00:00, 76.77it/s]\n",
      "Training Epoch 1010: 100%|██████████| 258/258 [00:03<00:00, 74.21it/s]\n",
      "Training Epoch 1011: 100%|██████████| 258/258 [00:03<00:00, 75.53it/s]\n"
     ]
    },
    {
     "name": "stdout",
     "output_type": "stream",
     "text": [
      "Epoch 1010 - Train Loss: 0.0647, Train MSE: 0.0648, Train MAE: 0.1733\n",
      "Epoch 1010 - Validation Loss: 2.0744, Validation MSE: 2.0850, Validation MAE: 1.0607\n"
     ]
    },
    {
     "name": "stderr",
     "output_type": "stream",
     "text": [
      "Training Epoch 1012: 100%|██████████| 258/258 [00:03<00:00, 76.22it/s]\n",
      "Training Epoch 1013: 100%|██████████| 258/258 [00:03<00:00, 74.99it/s]\n",
      "Training Epoch 1014: 100%|██████████| 258/258 [00:03<00:00, 79.45it/s]\n",
      "Training Epoch 1015: 100%|██████████| 258/258 [00:03<00:00, 79.02it/s]\n",
      "Training Epoch 1016: 100%|██████████| 258/258 [00:03<00:00, 70.54it/s]\n",
      "Training Epoch 1017: 100%|██████████| 258/258 [00:03<00:00, 74.47it/s]\n",
      "Training Epoch 1018: 100%|██████████| 258/258 [00:03<00:00, 75.16it/s]\n",
      "Training Epoch 1019: 100%|██████████| 258/258 [00:03<00:00, 75.32it/s]\n",
      "Training Epoch 1020: 100%|██████████| 258/258 [00:03<00:00, 76.54it/s]\n",
      "Training Epoch 1021: 100%|██████████| 258/258 [00:03<00:00, 75.08it/s]\n"
     ]
    },
    {
     "name": "stdout",
     "output_type": "stream",
     "text": [
      "Epoch 1020 - Train Loss: 0.0476, Train MSE: 0.0476, Train MAE: 0.1553\n",
      "Epoch 1020 - Validation Loss: 2.0568, Validation MSE: 2.0669, Validation MAE: 1.0704\n"
     ]
    },
    {
     "name": "stderr",
     "output_type": "stream",
     "text": [
      "Training Epoch 1022: 100%|██████████| 258/258 [00:03<00:00, 75.97it/s]\n",
      "Training Epoch 1023: 100%|██████████| 258/258 [00:03<00:00, 75.59it/s]\n",
      "Training Epoch 1024: 100%|██████████| 258/258 [00:03<00:00, 76.94it/s]\n",
      "Training Epoch 1025: 100%|██████████| 258/258 [00:03<00:00, 76.85it/s]\n",
      "Training Epoch 1026: 100%|██████████| 258/258 [00:03<00:00, 74.76it/s]\n",
      "Training Epoch 1027: 100%|██████████| 258/258 [00:03<00:00, 74.91it/s]\n",
      "Training Epoch 1028: 100%|██████████| 258/258 [00:03<00:00, 77.70it/s]\n",
      "Training Epoch 1029: 100%|██████████| 258/258 [00:03<00:00, 73.64it/s]\n",
      "Training Epoch 1030: 100%|██████████| 258/258 [00:03<00:00, 78.23it/s]\n",
      "Training Epoch 1031: 100%|██████████| 258/258 [00:03<00:00, 75.98it/s]\n"
     ]
    },
    {
     "name": "stdout",
     "output_type": "stream",
     "text": [
      "Epoch 1030 - Train Loss: 0.0504, Train MSE: 0.0497, Train MAE: 0.1580\n",
      "Epoch 1030 - Validation Loss: 2.1273, Validation MSE: 2.1401, Validation MAE: 1.0829\n"
     ]
    },
    {
     "name": "stderr",
     "output_type": "stream",
     "text": [
      "Training Epoch 1032: 100%|██████████| 258/258 [00:03<00:00, 77.84it/s]\n",
      "Training Epoch 1033: 100%|██████████| 258/258 [00:03<00:00, 71.14it/s]\n",
      "Training Epoch 1034: 100%|██████████| 258/258 [00:03<00:00, 74.84it/s]\n",
      "Training Epoch 1035: 100%|██████████| 258/258 [00:03<00:00, 79.06it/s]\n",
      "Training Epoch 1036: 100%|██████████| 258/258 [00:03<00:00, 78.01it/s]\n",
      "Training Epoch 1037: 100%|██████████| 258/258 [00:03<00:00, 76.13it/s]\n",
      "Training Epoch 1038: 100%|██████████| 258/258 [00:03<00:00, 76.08it/s]\n",
      "Training Epoch 1039: 100%|██████████| 258/258 [00:03<00:00, 77.34it/s]\n",
      "Training Epoch 1040: 100%|██████████| 258/258 [00:03<00:00, 76.38it/s]\n",
      "Training Epoch 1041: 100%|██████████| 258/258 [00:03<00:00, 77.03it/s]\n"
     ]
    },
    {
     "name": "stdout",
     "output_type": "stream",
     "text": [
      "Epoch 1040 - Train Loss: 0.0501, Train MSE: 0.0501, Train MAE: 0.1591\n",
      "Epoch 1040 - Validation Loss: 2.0311, Validation MSE: 2.0449, Validation MAE: 1.0499\n"
     ]
    },
    {
     "name": "stderr",
     "output_type": "stream",
     "text": [
      "Training Epoch 1042: 100%|██████████| 258/258 [00:03<00:00, 75.86it/s]\n",
      "Training Epoch 1043: 100%|██████████| 258/258 [00:03<00:00, 75.21it/s]\n",
      "Training Epoch 1044: 100%|██████████| 258/258 [00:03<00:00, 79.12it/s]\n",
      "Training Epoch 1045: 100%|██████████| 258/258 [00:03<00:00, 73.97it/s]\n",
      "Training Epoch 1046: 100%|██████████| 258/258 [00:03<00:00, 79.55it/s]\n",
      "Training Epoch 1047: 100%|██████████| 258/258 [00:03<00:00, 77.75it/s]\n",
      "Training Epoch 1048: 100%|██████████| 258/258 [00:03<00:00, 75.90it/s]\n",
      "Training Epoch 1049: 100%|██████████| 258/258 [00:03<00:00, 78.49it/s]\n",
      "Training Epoch 1050: 100%|██████████| 258/258 [00:03<00:00, 70.33it/s]\n",
      "Training Epoch 1051: 100%|██████████| 258/258 [00:03<00:00, 73.57it/s]\n"
     ]
    },
    {
     "name": "stdout",
     "output_type": "stream",
     "text": [
      "Epoch 1050 - Train Loss: 0.0538, Train MSE: 0.0539, Train MAE: 0.1612\n",
      "Epoch 1050 - Validation Loss: 2.0945, Validation MSE: 2.1095, Validation MAE: 1.0703\n"
     ]
    },
    {
     "name": "stderr",
     "output_type": "stream",
     "text": [
      "Training Epoch 1052: 100%|██████████| 258/258 [00:03<00:00, 74.61it/s]\n",
      "Training Epoch 1053: 100%|██████████| 258/258 [00:03<00:00, 78.35it/s]\n",
      "Training Epoch 1054: 100%|██████████| 258/258 [00:03<00:00, 75.00it/s]\n",
      "Training Epoch 1055: 100%|██████████| 258/258 [00:03<00:00, 74.86it/s]\n",
      "Training Epoch 1056: 100%|██████████| 258/258 [00:03<00:00, 78.48it/s]\n",
      "Training Epoch 1057: 100%|██████████| 258/258 [00:03<00:00, 71.21it/s]\n",
      "Training Epoch 1058: 100%|██████████| 258/258 [00:03<00:00, 76.91it/s]\n",
      "Training Epoch 1059: 100%|██████████| 258/258 [00:03<00:00, 76.70it/s]\n",
      "Training Epoch 1060: 100%|██████████| 258/258 [00:03<00:00, 75.74it/s]\n",
      "Training Epoch 1061: 100%|██████████| 258/258 [00:03<00:00, 74.56it/s]\n"
     ]
    },
    {
     "name": "stdout",
     "output_type": "stream",
     "text": [
      "Epoch 1060 - Train Loss: 0.0566, Train MSE: 0.0568, Train MAE: 0.1665\n",
      "Epoch 1060 - Validation Loss: 2.1215, Validation MSE: 2.1317, Validation MAE: 1.0771\n"
     ]
    },
    {
     "name": "stderr",
     "output_type": "stream",
     "text": [
      "Training Epoch 1062: 100%|██████████| 258/258 [00:03<00:00, 76.89it/s]\n",
      "Training Epoch 1063: 100%|██████████| 258/258 [00:03<00:00, 76.81it/s]\n",
      "Training Epoch 1064: 100%|██████████| 258/258 [00:03<00:00, 76.32it/s]\n",
      "Training Epoch 1065: 100%|██████████| 258/258 [00:03<00:00, 75.40it/s]\n",
      "Training Epoch 1066: 100%|██████████| 258/258 [00:03<00:00, 78.76it/s]\n",
      "Training Epoch 1067: 100%|██████████| 258/258 [00:03<00:00, 73.14it/s]\n",
      "Training Epoch 1068: 100%|██████████| 258/258 [00:03<00:00, 77.21it/s]\n",
      "Training Epoch 1069: 100%|██████████| 258/258 [00:03<00:00, 73.93it/s]\n",
      "Training Epoch 1070: 100%|██████████| 258/258 [00:03<00:00, 76.54it/s]\n",
      "Training Epoch 1071: 100%|██████████| 258/258 [00:03<00:00, 75.71it/s]\n"
     ]
    },
    {
     "name": "stdout",
     "output_type": "stream",
     "text": [
      "Epoch 1070 - Train Loss: 0.0478, Train MSE: 0.0479, Train MAE: 0.1558\n",
      "Epoch 1070 - Validation Loss: 2.0639, Validation MSE: 2.0713, Validation MAE: 1.0559\n"
     ]
    },
    {
     "name": "stderr",
     "output_type": "stream",
     "text": [
      "Training Epoch 1072: 100%|██████████| 258/258 [00:03<00:00, 77.07it/s]\n",
      "Training Epoch 1073: 100%|██████████| 258/258 [00:03<00:00, 78.48it/s]\n",
      "Training Epoch 1074: 100%|██████████| 258/258 [00:03<00:00, 77.29it/s]\n",
      "Training Epoch 1075: 100%|██████████| 258/258 [00:03<00:00, 75.60it/s]\n",
      "Training Epoch 1076: 100%|██████████| 258/258 [00:03<00:00, 77.58it/s]\n",
      "Training Epoch 1077: 100%|██████████| 258/258 [00:03<00:00, 77.78it/s]\n",
      "Training Epoch 1078: 100%|██████████| 258/258 [00:03<00:00, 80.23it/s]\n",
      "Training Epoch 1079: 100%|██████████| 258/258 [00:03<00:00, 75.05it/s]\n",
      "Training Epoch 1080: 100%|██████████| 258/258 [00:03<00:00, 76.50it/s]\n",
      "Training Epoch 1081: 100%|██████████| 258/258 [00:03<00:00, 75.72it/s]\n"
     ]
    },
    {
     "name": "stdout",
     "output_type": "stream",
     "text": [
      "Epoch 1080 - Train Loss: 0.0483, Train MSE: 0.0484, Train MAE: 0.1578\n",
      "Epoch 1080 - Validation Loss: 2.1729, Validation MSE: 2.1854, Validation MAE: 1.0878\n"
     ]
    },
    {
     "name": "stderr",
     "output_type": "stream",
     "text": [
      "Training Epoch 1082: 100%|██████████| 258/258 [00:03<00:00, 78.07it/s]\n",
      "Training Epoch 1083: 100%|██████████| 258/258 [00:03<00:00, 78.22it/s]\n",
      "Training Epoch 1084: 100%|██████████| 258/258 [00:03<00:00, 75.22it/s]\n",
      "Training Epoch 1085: 100%|██████████| 258/258 [00:03<00:00, 73.09it/s]\n",
      "Training Epoch 1086: 100%|██████████| 258/258 [00:03<00:00, 77.24it/s]\n",
      "Training Epoch 1087: 100%|██████████| 258/258 [00:03<00:00, 76.60it/s]\n",
      "Training Epoch 1088: 100%|██████████| 258/258 [00:03<00:00, 78.90it/s]\n",
      "Training Epoch 1089: 100%|██████████| 258/258 [00:03<00:00, 77.26it/s]\n",
      "Training Epoch 1090: 100%|██████████| 258/258 [00:03<00:00, 77.24it/s]\n",
      "Training Epoch 1091: 100%|██████████| 258/258 [00:03<00:00, 78.75it/s]\n"
     ]
    },
    {
     "name": "stdout",
     "output_type": "stream",
     "text": [
      "Epoch 1090 - Train Loss: 0.0476, Train MSE: 0.0476, Train MAE: 0.1550\n",
      "Epoch 1090 - Validation Loss: 2.0983, Validation MSE: 2.1103, Validation MAE: 1.0663\n"
     ]
    },
    {
     "name": "stderr",
     "output_type": "stream",
     "text": [
      "Training Epoch 1092: 100%|██████████| 258/258 [00:03<00:00, 77.17it/s]\n",
      "Training Epoch 1093: 100%|██████████| 258/258 [00:03<00:00, 75.19it/s]\n",
      "Training Epoch 1094: 100%|██████████| 258/258 [00:03<00:00, 75.84it/s]\n",
      "Training Epoch 1095: 100%|██████████| 258/258 [00:03<00:00, 78.14it/s]\n",
      "Training Epoch 1096: 100%|██████████| 258/258 [00:03<00:00, 73.38it/s]\n",
      "Training Epoch 1097: 100%|██████████| 258/258 [00:03<00:00, 79.76it/s]\n",
      "Training Epoch 1098: 100%|██████████| 258/258 [00:03<00:00, 76.09it/s]\n",
      "Training Epoch 1099: 100%|██████████| 258/258 [00:03<00:00, 77.57it/s]\n",
      "Training Epoch 1100: 100%|██████████| 258/258 [00:03<00:00, 75.65it/s]\n",
      "Training Epoch 1101: 100%|██████████| 258/258 [00:03<00:00, 75.59it/s]\n"
     ]
    },
    {
     "name": "stdout",
     "output_type": "stream",
     "text": [
      "Epoch 1100 - Train Loss: 0.0470, Train MSE: 0.0469, Train MAE: 0.1551\n",
      "Epoch 1100 - Validation Loss: 2.0948, Validation MSE: 2.1064, Validation MAE: 1.0731\n"
     ]
    },
    {
     "name": "stderr",
     "output_type": "stream",
     "text": [
      "Training Epoch 1102: 100%|██████████| 258/258 [00:03<00:00, 66.07it/s]\n",
      "Training Epoch 1103: 100%|██████████| 258/258 [00:03<00:00, 71.13it/s]\n",
      "Training Epoch 1104: 100%|██████████| 258/258 [00:03<00:00, 76.03it/s]\n",
      "Training Epoch 1105: 100%|██████████| 258/258 [00:03<00:00, 77.30it/s]\n",
      "Training Epoch 1106: 100%|██████████| 258/258 [00:03<00:00, 75.66it/s]\n",
      "Training Epoch 1107: 100%|██████████| 258/258 [00:03<00:00, 75.75it/s]\n",
      "Training Epoch 1108: 100%|██████████| 258/258 [00:03<00:00, 76.52it/s]\n",
      "Training Epoch 1109: 100%|██████████| 258/258 [00:03<00:00, 79.36it/s]\n",
      "Training Epoch 1110: 100%|██████████| 258/258 [00:03<00:00, 72.94it/s]\n",
      "Training Epoch 1111: 100%|██████████| 258/258 [00:03<00:00, 74.09it/s]\n"
     ]
    },
    {
     "name": "stdout",
     "output_type": "stream",
     "text": [
      "Epoch 1110 - Train Loss: 0.0521, Train MSE: 0.0522, Train MAE: 0.1608\n",
      "Epoch 1110 - Validation Loss: 2.0271, Validation MSE: 2.0418, Validation MAE: 1.0500\n"
     ]
    },
    {
     "name": "stderr",
     "output_type": "stream",
     "text": [
      "Training Epoch 1112: 100%|██████████| 258/258 [00:03<00:00, 77.37it/s]\n",
      "Training Epoch 1113: 100%|██████████| 258/258 [00:03<00:00, 77.10it/s]\n",
      "Training Epoch 1114: 100%|██████████| 258/258 [00:03<00:00, 78.27it/s]\n",
      "Training Epoch 1115: 100%|██████████| 258/258 [00:03<00:00, 75.37it/s]\n",
      "Training Epoch 1116: 100%|██████████| 258/258 [00:03<00:00, 78.44it/s]\n",
      "Training Epoch 1117: 100%|██████████| 258/258 [00:03<00:00, 76.84it/s]\n",
      "Training Epoch 1118: 100%|██████████| 258/258 [00:03<00:00, 77.29it/s]\n",
      "Training Epoch 1119: 100%|██████████| 258/258 [00:03<00:00, 69.69it/s]\n",
      "Training Epoch 1120: 100%|██████████| 258/258 [00:03<00:00, 75.66it/s]\n",
      "Training Epoch 1121: 100%|██████████| 258/258 [00:03<00:00, 76.59it/s]\n"
     ]
    },
    {
     "name": "stdout",
     "output_type": "stream",
     "text": [
      "Epoch 1120 - Train Loss: 0.0522, Train MSE: 0.0523, Train MAE: 0.1578\n",
      "Epoch 1120 - Validation Loss: 2.1279, Validation MSE: 2.1463, Validation MAE: 1.0715\n"
     ]
    },
    {
     "name": "stderr",
     "output_type": "stream",
     "text": [
      "Training Epoch 1122: 100%|██████████| 258/258 [00:03<00:00, 75.80it/s]\n",
      "Training Epoch 1123: 100%|██████████| 258/258 [00:03<00:00, 70.73it/s]\n",
      "Training Epoch 1124: 100%|██████████| 258/258 [00:03<00:00, 75.36it/s]\n",
      "Training Epoch 1125: 100%|██████████| 258/258 [00:03<00:00, 78.20it/s]\n",
      "Training Epoch 1126: 100%|██████████| 258/258 [00:03<00:00, 75.30it/s]\n",
      "Training Epoch 1127: 100%|██████████| 258/258 [00:03<00:00, 76.02it/s]\n",
      "Training Epoch 1128: 100%|██████████| 258/258 [00:03<00:00, 76.55it/s]\n",
      "Training Epoch 1129: 100%|██████████| 258/258 [00:03<00:00, 75.54it/s]\n",
      "Training Epoch 1130: 100%|██████████| 258/258 [00:03<00:00, 78.14it/s]\n",
      "Training Epoch 1131: 100%|██████████| 258/258 [00:03<00:00, 76.81it/s]\n"
     ]
    },
    {
     "name": "stdout",
     "output_type": "stream",
     "text": [
      "Epoch 1130 - Train Loss: 0.0492, Train MSE: 0.0493, Train MAE: 0.1540\n",
      "Epoch 1130 - Validation Loss: 2.0085, Validation MSE: 2.0213, Validation MAE: 1.0403\n"
     ]
    },
    {
     "name": "stderr",
     "output_type": "stream",
     "text": [
      "Training Epoch 1132: 100%|██████████| 258/258 [00:03<00:00, 76.00it/s]\n",
      "Training Epoch 1133: 100%|██████████| 258/258 [00:03<00:00, 78.22it/s]\n",
      "Training Epoch 1134: 100%|██████████| 258/258 [00:03<00:00, 73.89it/s]\n",
      "Training Epoch 1135: 100%|██████████| 258/258 [00:03<00:00, 78.06it/s]\n",
      "Training Epoch 1136: 100%|██████████| 258/258 [00:03<00:00, 70.22it/s]\n",
      "Training Epoch 1137: 100%|██████████| 258/258 [00:03<00:00, 78.73it/s]\n",
      "Training Epoch 1138: 100%|██████████| 258/258 [00:03<00:00, 75.95it/s]\n",
      "Training Epoch 1139: 100%|██████████| 258/258 [00:03<00:00, 77.80it/s]\n",
      "Training Epoch 1140: 100%|██████████| 258/258 [00:03<00:00, 75.23it/s]\n",
      "Training Epoch 1141: 100%|██████████| 258/258 [00:03<00:00, 74.50it/s]\n"
     ]
    },
    {
     "name": "stdout",
     "output_type": "stream",
     "text": [
      "Epoch 1140 - Train Loss: 0.0521, Train MSE: 0.0523, Train MAE: 0.1604\n",
      "Epoch 1140 - Validation Loss: 1.9908, Validation MSE: 2.0026, Validation MAE: 1.0357\n"
     ]
    },
    {
     "name": "stderr",
     "output_type": "stream",
     "text": [
      "Training Epoch 1142: 100%|██████████| 258/258 [00:03<00:00, 76.16it/s]\n",
      "Training Epoch 1143: 100%|██████████| 258/258 [00:03<00:00, 74.74it/s]\n",
      "Training Epoch 1144: 100%|██████████| 258/258 [00:03<00:00, 79.07it/s]\n",
      "Training Epoch 1145: 100%|██████████| 258/258 [00:03<00:00, 76.63it/s]\n",
      "Training Epoch 1146: 100%|██████████| 258/258 [00:03<00:00, 76.38it/s]\n",
      "Training Epoch 1147: 100%|██████████| 258/258 [00:03<00:00, 76.62it/s]\n",
      "Training Epoch 1148: 100%|██████████| 258/258 [00:03<00:00, 76.79it/s]\n",
      "Training Epoch 1149: 100%|██████████| 258/258 [00:03<00:00, 75.12it/s]\n",
      "Training Epoch 1150: 100%|██████████| 258/258 [00:03<00:00, 76.84it/s]\n",
      "Training Epoch 1151: 100%|██████████| 258/258 [00:03<00:00, 78.39it/s]\n"
     ]
    },
    {
     "name": "stdout",
     "output_type": "stream",
     "text": [
      "Epoch 1150 - Train Loss: 0.0476, Train MSE: 0.0476, Train MAE: 0.1540\n",
      "Epoch 1150 - Validation Loss: 2.0387, Validation MSE: 2.0482, Validation MAE: 1.0536\n"
     ]
    },
    {
     "name": "stderr",
     "output_type": "stream",
     "text": [
      "Training Epoch 1152: 100%|██████████| 258/258 [00:03<00:00, 75.48it/s]\n",
      "Training Epoch 1153: 100%|██████████| 258/258 [00:03<00:00, 71.75it/s]\n",
      "Training Epoch 1154: 100%|██████████| 258/258 [00:03<00:00, 73.81it/s]\n",
      "Training Epoch 1155: 100%|██████████| 258/258 [00:03<00:00, 75.07it/s]\n",
      "Training Epoch 1156: 100%|██████████| 258/258 [00:03<00:00, 74.52it/s]\n",
      "Training Epoch 1157: 100%|██████████| 258/258 [00:03<00:00, 71.65it/s]\n",
      "Training Epoch 1158: 100%|██████████| 258/258 [00:03<00:00, 71.05it/s]\n",
      "Training Epoch 1159: 100%|██████████| 258/258 [00:03<00:00, 76.80it/s]\n",
      "Training Epoch 1160: 100%|██████████| 258/258 [00:03<00:00, 76.66it/s]\n",
      "Training Epoch 1161: 100%|██████████| 258/258 [00:03<00:00, 78.00it/s]\n"
     ]
    },
    {
     "name": "stdout",
     "output_type": "stream",
     "text": [
      "Epoch 1160 - Train Loss: 0.0476, Train MSE: 0.0477, Train MAE: 0.1545\n",
      "Epoch 1160 - Validation Loss: 2.0607, Validation MSE: 2.0714, Validation MAE: 1.0599\n"
     ]
    },
    {
     "name": "stderr",
     "output_type": "stream",
     "text": [
      "Training Epoch 1162: 100%|██████████| 258/258 [00:03<00:00, 77.17it/s]\n",
      "Training Epoch 1163: 100%|██████████| 258/258 [00:03<00:00, 78.79it/s]\n",
      "Training Epoch 1164: 100%|██████████| 258/258 [00:03<00:00, 75.88it/s]\n",
      "Training Epoch 1165: 100%|██████████| 258/258 [00:03<00:00, 78.76it/s]\n",
      "Training Epoch 1166: 100%|██████████| 258/258 [00:03<00:00, 75.23it/s]\n",
      "Training Epoch 1167: 100%|██████████| 258/258 [00:03<00:00, 78.19it/s]\n",
      "Training Epoch 1168: 100%|██████████| 258/258 [00:03<00:00, 76.59it/s]\n",
      "Training Epoch 1169: 100%|██████████| 258/258 [00:03<00:00, 78.21it/s]\n",
      "Training Epoch 1170: 100%|██████████| 258/258 [00:03<00:00, 67.94it/s]\n",
      "Training Epoch 1171: 100%|██████████| 258/258 [00:03<00:00, 72.37it/s]\n"
     ]
    },
    {
     "name": "stdout",
     "output_type": "stream",
     "text": [
      "Epoch 1170 - Train Loss: 0.0460, Train MSE: 0.0461, Train MAE: 0.1522\n",
      "Epoch 1170 - Validation Loss: 2.0397, Validation MSE: 2.0550, Validation MAE: 1.0469\n"
     ]
    },
    {
     "name": "stderr",
     "output_type": "stream",
     "text": [
      "Training Epoch 1172: 100%|██████████| 258/258 [00:03<00:00, 80.60it/s]\n",
      "Training Epoch 1173: 100%|██████████| 258/258 [00:03<00:00, 77.37it/s]\n",
      "Training Epoch 1174: 100%|██████████| 258/258 [00:03<00:00, 73.93it/s]\n",
      "Training Epoch 1175: 100%|██████████| 258/258 [00:03<00:00, 76.30it/s]\n",
      "Training Epoch 1176: 100%|██████████| 258/258 [00:03<00:00, 77.23it/s]\n",
      "Training Epoch 1177: 100%|██████████| 258/258 [00:03<00:00, 78.21it/s]\n",
      "Training Epoch 1178: 100%|██████████| 258/258 [00:03<00:00, 77.85it/s]\n",
      "Training Epoch 1179: 100%|██████████| 258/258 [00:03<00:00, 75.23it/s]\n",
      "Training Epoch 1180: 100%|██████████| 258/258 [00:03<00:00, 76.74it/s]\n",
      "Training Epoch 1181: 100%|██████████| 258/258 [00:03<00:00, 76.17it/s]\n"
     ]
    },
    {
     "name": "stdout",
     "output_type": "stream",
     "text": [
      "Epoch 1180 - Train Loss: 0.0437, Train MSE: 0.0437, Train MAE: 0.1505\n",
      "Epoch 1180 - Validation Loss: 2.0729, Validation MSE: 2.0882, Validation MAE: 1.0590\n"
     ]
    },
    {
     "name": "stderr",
     "output_type": "stream",
     "text": [
      "Training Epoch 1182: 100%|██████████| 258/258 [00:03<00:00, 78.93it/s]\n",
      "Training Epoch 1183: 100%|██████████| 258/258 [00:03<00:00, 77.03it/s]\n",
      "Training Epoch 1184: 100%|██████████| 258/258 [00:03<00:00, 75.01it/s]\n",
      "Training Epoch 1185: 100%|██████████| 258/258 [00:03<00:00, 76.29it/s]\n",
      "Training Epoch 1186: 100%|██████████| 258/258 [00:03<00:00, 77.63it/s]\n",
      "Training Epoch 1187: 100%|██████████| 258/258 [00:03<00:00, 73.44it/s]\n",
      "Training Epoch 1188: 100%|██████████| 258/258 [00:03<00:00, 77.10it/s]\n",
      "Training Epoch 1189: 100%|██████████| 258/258 [00:03<00:00, 74.26it/s]\n",
      "Training Epoch 1190: 100%|██████████| 258/258 [00:03<00:00, 78.28it/s]\n",
      "Training Epoch 1191: 100%|██████████| 258/258 [00:03<00:00, 75.14it/s]\n"
     ]
    },
    {
     "name": "stdout",
     "output_type": "stream",
     "text": [
      "Epoch 1190 - Train Loss: 0.0471, Train MSE: 0.0470, Train MAE: 0.1530\n",
      "Epoch 1190 - Validation Loss: 2.1220, Validation MSE: 2.1370, Validation MAE: 1.0724\n"
     ]
    },
    {
     "name": "stderr",
     "output_type": "stream",
     "text": [
      "Training Epoch 1192: 100%|██████████| 258/258 [00:03<00:00, 72.24it/s]\n",
      "Training Epoch 1193: 100%|██████████| 258/258 [00:03<00:00, 76.56it/s]\n",
      "Training Epoch 1194: 100%|██████████| 258/258 [00:03<00:00, 78.08it/s]\n",
      "Training Epoch 1195: 100%|██████████| 258/258 [00:03<00:00, 77.24it/s]\n",
      "Training Epoch 1196: 100%|██████████| 258/258 [00:03<00:00, 76.51it/s]\n",
      "Training Epoch 1197: 100%|██████████| 258/258 [00:03<00:00, 75.37it/s]\n",
      "Training Epoch 1198: 100%|██████████| 258/258 [00:03<00:00, 76.34it/s]\n",
      "Training Epoch 1199: 100%|██████████| 258/258 [00:03<00:00, 76.57it/s]\n",
      "Training Epoch 1200: 100%|██████████| 258/258 [00:03<00:00, 75.45it/s]\n",
      "Training Epoch 1201: 100%|██████████| 258/258 [00:03<00:00, 78.53it/s]\n"
     ]
    },
    {
     "name": "stdout",
     "output_type": "stream",
     "text": [
      "Epoch 1200 - Train Loss: 0.0451, Train MSE: 0.0452, Train MAE: 0.1525\n",
      "Epoch 1200 - Validation Loss: 2.0333, Validation MSE: 2.0473, Validation MAE: 1.0497\n"
     ]
    },
    {
     "name": "stderr",
     "output_type": "stream",
     "text": [
      "Training Epoch 1202: 100%|██████████| 258/258 [00:03<00:00, 74.88it/s]\n",
      "Training Epoch 1203: 100%|██████████| 258/258 [00:03<00:00, 76.42it/s]\n",
      "Training Epoch 1204: 100%|██████████| 258/258 [00:03<00:00, 72.47it/s]\n",
      "Training Epoch 1205: 100%|██████████| 258/258 [00:03<00:00, 72.01it/s]\n",
      "Training Epoch 1206: 100%|██████████| 258/258 [00:03<00:00, 72.83it/s]\n",
      "Training Epoch 1207: 100%|██████████| 258/258 [00:03<00:00, 74.86it/s]\n",
      "Training Epoch 1208: 100%|██████████| 258/258 [00:03<00:00, 70.83it/s]\n",
      "Training Epoch 1209: 100%|██████████| 258/258 [00:03<00:00, 74.44it/s]\n",
      "Training Epoch 1210: 100%|██████████| 258/258 [00:03<00:00, 77.70it/s]\n",
      "Training Epoch 1211: 100%|██████████| 258/258 [00:03<00:00, 73.93it/s]\n"
     ]
    },
    {
     "name": "stdout",
     "output_type": "stream",
     "text": [
      "Epoch 1210 - Train Loss: 0.0443, Train MSE: 0.0444, Train MAE: 0.1501\n",
      "Epoch 1210 - Validation Loss: 2.1127, Validation MSE: 2.1278, Validation MAE: 1.0697\n"
     ]
    },
    {
     "name": "stderr",
     "output_type": "stream",
     "text": [
      "Training Epoch 1212: 100%|██████████| 258/258 [00:03<00:00, 75.95it/s]\n",
      "Training Epoch 1213: 100%|██████████| 258/258 [00:03<00:00, 76.63it/s]\n",
      "Training Epoch 1214: 100%|██████████| 258/258 [00:03<00:00, 80.28it/s]\n",
      "Training Epoch 1215: 100%|██████████| 258/258 [00:03<00:00, 75.90it/s]\n",
      "Training Epoch 1216: 100%|██████████| 258/258 [00:03<00:00, 76.39it/s]\n",
      "Training Epoch 1217: 100%|██████████| 258/258 [00:03<00:00, 71.61it/s]\n",
      "Training Epoch 1218: 100%|██████████| 258/258 [00:03<00:00, 78.29it/s]\n",
      "Training Epoch 1219: 100%|██████████| 258/258 [00:03<00:00, 76.85it/s]\n",
      "Training Epoch 1220: 100%|██████████| 258/258 [00:03<00:00, 74.57it/s]\n",
      "Training Epoch 1221: 100%|██████████| 258/258 [00:03<00:00, 75.80it/s]\n"
     ]
    },
    {
     "name": "stdout",
     "output_type": "stream",
     "text": [
      "Epoch 1220 - Train Loss: 0.0489, Train MSE: 0.0487, Train MAE: 0.1552\n",
      "Epoch 1220 - Validation Loss: 2.1098, Validation MSE: 2.1273, Validation MAE: 1.0735\n"
     ]
    },
    {
     "name": "stderr",
     "output_type": "stream",
     "text": [
      "Training Epoch 1222: 100%|██████████| 258/258 [00:03<00:00, 75.50it/s]\n",
      "Training Epoch 1223: 100%|██████████| 258/258 [00:03<00:00, 76.24it/s]\n",
      "Training Epoch 1224: 100%|██████████| 258/258 [00:03<00:00, 74.73it/s]\n",
      "Training Epoch 1225: 100%|██████████| 258/258 [00:03<00:00, 77.99it/s]\n",
      "Training Epoch 1226: 100%|██████████| 258/258 [00:03<00:00, 77.23it/s]\n",
      "Training Epoch 1227: 100%|██████████| 258/258 [00:03<00:00, 78.09it/s]\n",
      "Training Epoch 1228: 100%|██████████| 258/258 [00:03<00:00, 74.20it/s]\n",
      "Training Epoch 1229: 100%|██████████| 258/258 [00:03<00:00, 76.65it/s]\n",
      "Training Epoch 1230: 100%|██████████| 258/258 [00:03<00:00, 75.23it/s]\n",
      "Training Epoch 1231: 100%|██████████| 258/258 [00:03<00:00, 77.10it/s]\n"
     ]
    },
    {
     "name": "stdout",
     "output_type": "stream",
     "text": [
      "Epoch 1230 - Train Loss: 0.0458, Train MSE: 0.0459, Train MAE: 0.1497\n",
      "Epoch 1230 - Validation Loss: 2.0705, Validation MSE: 2.0844, Validation MAE: 1.0597\n"
     ]
    },
    {
     "name": "stderr",
     "output_type": "stream",
     "text": [
      "Training Epoch 1232: 100%|██████████| 258/258 [00:03<00:00, 75.74it/s]\n",
      "Training Epoch 1233: 100%|██████████| 258/258 [00:03<00:00, 78.05it/s]\n",
      "Training Epoch 1234: 100%|██████████| 258/258 [00:03<00:00, 74.83it/s]\n",
      "Training Epoch 1235: 100%|██████████| 258/258 [00:03<00:00, 78.57it/s]\n",
      "Training Epoch 1236: 100%|██████████| 258/258 [00:03<00:00, 76.88it/s]\n",
      "Training Epoch 1237: 100%|██████████| 258/258 [00:03<00:00, 79.11it/s]\n",
      "Training Epoch 1238: 100%|██████████| 258/258 [00:03<00:00, 67.72it/s]\n",
      "Training Epoch 1239: 100%|██████████| 258/258 [00:03<00:00, 74.65it/s]\n",
      "Training Epoch 1240: 100%|██████████| 258/258 [00:03<00:00, 77.53it/s]\n",
      "Training Epoch 1241: 100%|██████████| 258/258 [00:03<00:00, 75.05it/s]\n"
     ]
    },
    {
     "name": "stdout",
     "output_type": "stream",
     "text": [
      "Epoch 1240 - Train Loss: 0.0506, Train MSE: 0.0485, Train MAE: 0.1524\n",
      "Epoch 1240 - Validation Loss: 2.0165, Validation MSE: 2.0313, Validation MAE: 1.0511\n"
     ]
    },
    {
     "name": "stderr",
     "output_type": "stream",
     "text": [
      "Training Epoch 1242: 100%|██████████| 258/258 [00:03<00:00, 75.53it/s]\n",
      "Training Epoch 1243: 100%|██████████| 258/258 [00:03<00:00, 75.94it/s]\n",
      "Training Epoch 1244: 100%|██████████| 258/258 [00:03<00:00, 77.92it/s]\n",
      "Training Epoch 1245: 100%|██████████| 258/258 [00:03<00:00, 77.31it/s]\n",
      "Training Epoch 1246: 100%|██████████| 258/258 [00:03<00:00, 79.13it/s]\n",
      "Training Epoch 1247: 100%|██████████| 258/258 [00:03<00:00, 70.66it/s]\n",
      "Training Epoch 1248: 100%|██████████| 258/258 [00:03<00:00, 78.02it/s]\n",
      "Training Epoch 1249: 100%|██████████| 258/258 [00:03<00:00, 78.23it/s]\n",
      "Training Epoch 1250: 100%|██████████| 258/258 [00:03<00:00, 75.98it/s]\n",
      "Training Epoch 1251: 100%|██████████| 258/258 [00:03<00:00, 75.15it/s]\n"
     ]
    },
    {
     "name": "stdout",
     "output_type": "stream",
     "text": [
      "Epoch 1250 - Train Loss: 0.0447, Train MSE: 0.0448, Train MAE: 0.1492\n",
      "Epoch 1250 - Validation Loss: 2.0585, Validation MSE: 2.0730, Validation MAE: 1.0620\n"
     ]
    },
    {
     "name": "stderr",
     "output_type": "stream",
     "text": [
      "Training Epoch 1252: 100%|██████████| 258/258 [00:03<00:00, 76.28it/s]\n",
      "Training Epoch 1253: 100%|██████████| 258/258 [00:03<00:00, 75.65it/s]\n",
      "Training Epoch 1254: 100%|██████████| 258/258 [00:03<00:00, 78.43it/s]\n",
      "Training Epoch 1255: 100%|██████████| 258/258 [00:03<00:00, 68.43it/s]\n",
      "Training Epoch 1256: 100%|██████████| 258/258 [00:03<00:00, 74.11it/s]\n",
      "Training Epoch 1257: 100%|██████████| 258/258 [00:03<00:00, 78.65it/s]\n",
      "Training Epoch 1258: 100%|██████████| 258/258 [00:03<00:00, 78.01it/s]\n",
      "Training Epoch 1259: 100%|██████████| 258/258 [00:03<00:00, 78.19it/s]\n",
      "Training Epoch 1260: 100%|██████████| 258/258 [00:03<00:00, 76.01it/s]\n",
      "Training Epoch 1261: 100%|██████████| 258/258 [00:03<00:00, 75.39it/s]\n"
     ]
    },
    {
     "name": "stdout",
     "output_type": "stream",
     "text": [
      "Epoch 1260 - Train Loss: 0.0491, Train MSE: 0.0492, Train MAE: 0.1530\n",
      "Epoch 1260 - Validation Loss: 2.0796, Validation MSE: 2.0927, Validation MAE: 1.0765\n"
     ]
    },
    {
     "name": "stderr",
     "output_type": "stream",
     "text": [
      "Training Epoch 1262: 100%|██████████| 258/258 [00:03<00:00, 71.92it/s]\n",
      "Training Epoch 1263: 100%|██████████| 258/258 [00:03<00:00, 79.36it/s]\n",
      "Training Epoch 1264: 100%|██████████| 258/258 [00:03<00:00, 77.14it/s]\n",
      "Training Epoch 1265: 100%|██████████| 258/258 [00:03<00:00, 75.19it/s]\n",
      "Training Epoch 1266: 100%|██████████| 258/258 [00:03<00:00, 75.99it/s]\n",
      "Training Epoch 1267: 100%|██████████| 258/258 [00:03<00:00, 79.52it/s]\n",
      "Training Epoch 1268: 100%|██████████| 258/258 [00:03<00:00, 76.59it/s]\n",
      "Training Epoch 1269: 100%|██████████| 258/258 [00:03<00:00, 76.07it/s]\n",
      "Training Epoch 1270: 100%|██████████| 258/258 [00:03<00:00, 76.22it/s]\n",
      "Training Epoch 1271: 100%|██████████| 258/258 [00:03<00:00, 76.39it/s]\n"
     ]
    },
    {
     "name": "stdout",
     "output_type": "stream",
     "text": [
      "Epoch 1270 - Train Loss: 0.0435, Train MSE: 0.0435, Train MAE: 0.1474\n",
      "Epoch 1270 - Validation Loss: 2.0609, Validation MSE: 2.0657, Validation MAE: 1.0658\n"
     ]
    },
    {
     "name": "stderr",
     "output_type": "stream",
     "text": [
      "Training Epoch 1272: 100%|██████████| 258/258 [00:03<00:00, 69.47it/s]\n",
      "Training Epoch 1273: 100%|██████████| 258/258 [00:03<00:00, 71.94it/s]\n",
      "Training Epoch 1274: 100%|██████████| 258/258 [00:03<00:00, 74.60it/s]\n",
      "Training Epoch 1275: 100%|██████████| 258/258 [00:03<00:00, 74.53it/s]\n",
      "Training Epoch 1276: 100%|██████████| 258/258 [00:03<00:00, 77.54it/s]\n",
      "Training Epoch 1277: 100%|██████████| 258/258 [00:03<00:00, 77.20it/s]\n",
      "Training Epoch 1278: 100%|██████████| 258/258 [00:03<00:00, 77.75it/s]\n",
      "Training Epoch 1279: 100%|██████████| 258/258 [00:03<00:00, 76.71it/s]\n",
      "Training Epoch 1280: 100%|██████████| 258/258 [00:03<00:00, 72.86it/s]\n",
      "Training Epoch 1281: 100%|██████████| 258/258 [00:03<00:00, 74.67it/s]\n"
     ]
    },
    {
     "name": "stdout",
     "output_type": "stream",
     "text": [
      "Epoch 1280 - Train Loss: 0.0460, Train MSE: 0.0460, Train MAE: 0.1504\n",
      "Epoch 1280 - Validation Loss: 2.0321, Validation MSE: 2.0412, Validation MAE: 1.0553\n"
     ]
    },
    {
     "name": "stderr",
     "output_type": "stream",
     "text": [
      "Training Epoch 1282: 100%|██████████| 258/258 [00:03<00:00, 76.71it/s]\n",
      "Training Epoch 1283: 100%|██████████| 258/258 [00:03<00:00, 71.94it/s]\n",
      "Training Epoch 1284: 100%|██████████| 258/258 [00:03<00:00, 76.44it/s]\n",
      "Training Epoch 1285: 100%|██████████| 258/258 [00:03<00:00, 75.93it/s]\n",
      "Training Epoch 1286: 100%|██████████| 258/258 [00:03<00:00, 75.70it/s]\n",
      "Training Epoch 1287: 100%|██████████| 258/258 [00:03<00:00, 77.12it/s]\n",
      "Training Epoch 1288: 100%|██████████| 258/258 [00:03<00:00, 75.00it/s]\n",
      "Training Epoch 1289: 100%|██████████| 258/258 [00:03<00:00, 74.93it/s]\n",
      "Training Epoch 1290: 100%|██████████| 258/258 [00:03<00:00, 76.74it/s]\n",
      "Training Epoch 1291: 100%|██████████| 258/258 [00:03<00:00, 73.29it/s]\n"
     ]
    },
    {
     "name": "stdout",
     "output_type": "stream",
     "text": [
      "Epoch 1290 - Train Loss: 0.0482, Train MSE: 0.0483, Train MAE: 0.1493\n",
      "Epoch 1290 - Validation Loss: 2.1091, Validation MSE: 2.1260, Validation MAE: 1.0721\n"
     ]
    },
    {
     "name": "stderr",
     "output_type": "stream",
     "text": [
      "Training Epoch 1292: 100%|██████████| 258/258 [00:03<00:00, 73.45it/s]\n",
      "Training Epoch 1293: 100%|██████████| 258/258 [00:03<00:00, 76.54it/s]\n",
      "Training Epoch 1294: 100%|██████████| 258/258 [00:03<00:00, 75.14it/s]\n",
      "Training Epoch 1295: 100%|██████████| 258/258 [00:03<00:00, 77.29it/s]\n",
      "Training Epoch 1296: 100%|██████████| 258/258 [00:03<00:00, 77.44it/s]\n",
      "Training Epoch 1297: 100%|██████████| 258/258 [00:03<00:00, 74.70it/s]\n",
      "Training Epoch 1298: 100%|██████████| 258/258 [00:03<00:00, 77.68it/s]\n",
      "Training Epoch 1299: 100%|██████████| 258/258 [00:03<00:00, 78.64it/s]\n",
      "Training Epoch 1300: 100%|██████████| 258/258 [00:03<00:00, 74.82it/s]\n",
      "Training Epoch 1301: 100%|██████████| 258/258 [00:03<00:00, 77.76it/s]\n"
     ]
    },
    {
     "name": "stdout",
     "output_type": "stream",
     "text": [
      "Epoch 1300 - Train Loss: 0.0401, Train MSE: 0.0402, Train MAE: 0.1429\n",
      "Epoch 1300 - Validation Loss: 2.0977, Validation MSE: 2.1152, Validation MAE: 1.0662\n"
     ]
    },
    {
     "name": "stderr",
     "output_type": "stream",
     "text": [
      "Training Epoch 1302: 100%|██████████| 258/258 [00:03<00:00, 75.95it/s]\n",
      "Training Epoch 1303: 100%|██████████| 258/258 [00:03<00:00, 76.30it/s]\n",
      "Training Epoch 1304: 100%|██████████| 258/258 [00:03<00:00, 77.05it/s]\n",
      "Training Epoch 1305: 100%|██████████| 258/258 [00:03<00:00, 68.78it/s]\n",
      "Training Epoch 1306: 100%|██████████| 258/258 [00:03<00:00, 75.19it/s]\n",
      "Training Epoch 1307: 100%|██████████| 258/258 [00:03<00:00, 76.85it/s]\n",
      "Training Epoch 1308: 100%|██████████| 258/258 [00:03<00:00, 76.59it/s]\n",
      "Training Epoch 1309: 100%|██████████| 258/258 [00:03<00:00, 79.66it/s]\n",
      "Training Epoch 1310: 100%|██████████| 258/258 [00:03<00:00, 75.23it/s]\n",
      "Training Epoch 1311: 100%|██████████| 258/258 [00:03<00:00, 75.40it/s]\n"
     ]
    },
    {
     "name": "stdout",
     "output_type": "stream",
     "text": [
      "Epoch 1310 - Train Loss: 0.0404, Train MSE: 0.0404, Train MAE: 0.1430\n",
      "Epoch 1310 - Validation Loss: 2.1597, Validation MSE: 2.1731, Validation MAE: 1.0833\n"
     ]
    },
    {
     "name": "stderr",
     "output_type": "stream",
     "text": [
      "Training Epoch 1312: 100%|██████████| 258/258 [00:03<00:00, 75.85it/s]\n",
      "Training Epoch 1313: 100%|██████████| 258/258 [00:03<00:00, 76.85it/s]\n",
      "Training Epoch 1314: 100%|██████████| 258/258 [00:03<00:00, 76.05it/s]\n",
      "Training Epoch 1315: 100%|██████████| 258/258 [00:03<00:00, 74.89it/s]\n",
      "Training Epoch 1316: 100%|██████████| 258/258 [00:03<00:00, 76.54it/s]\n",
      "Training Epoch 1317: 100%|██████████| 258/258 [00:03<00:00, 77.51it/s]\n",
      "Training Epoch 1318: 100%|██████████| 258/258 [00:03<00:00, 72.90it/s]\n",
      "Training Epoch 1319: 100%|██████████| 258/258 [00:03<00:00, 79.26it/s]\n",
      "Training Epoch 1320: 100%|██████████| 258/258 [00:03<00:00, 77.74it/s]\n",
      "Training Epoch 1321: 100%|██████████| 258/258 [00:03<00:00, 76.64it/s]\n"
     ]
    },
    {
     "name": "stdout",
     "output_type": "stream",
     "text": [
      "Epoch 1320 - Train Loss: 0.0440, Train MSE: 0.0441, Train MAE: 0.1469\n",
      "Epoch 1320 - Validation Loss: 2.0337, Validation MSE: 2.0434, Validation MAE: 1.0538\n"
     ]
    },
    {
     "name": "stderr",
     "output_type": "stream",
     "text": [
      "Training Epoch 1322: 100%|██████████| 258/258 [00:03<00:00, 72.07it/s]\n",
      "Training Epoch 1323: 100%|██████████| 258/258 [00:03<00:00, 76.66it/s]\n",
      "Training Epoch 1324: 100%|██████████| 258/258 [00:03<00:00, 76.01it/s]\n",
      "Training Epoch 1325: 100%|██████████| 258/258 [00:03<00:00, 77.82it/s]\n",
      "Training Epoch 1326: 100%|██████████| 258/258 [00:03<00:00, 71.00it/s]\n",
      "Training Epoch 1327: 100%|██████████| 258/258 [00:03<00:00, 72.81it/s]\n",
      "Training Epoch 1328: 100%|██████████| 258/258 [00:03<00:00, 74.78it/s]\n",
      "Training Epoch 1329: 100%|██████████| 258/258 [00:03<00:00, 78.20it/s]\n",
      "Training Epoch 1330: 100%|██████████| 258/258 [00:03<00:00, 79.73it/s]\n",
      "Training Epoch 1331: 100%|██████████| 258/258 [00:03<00:00, 77.21it/s]\n"
     ]
    },
    {
     "name": "stdout",
     "output_type": "stream",
     "text": [
      "Epoch 1330 - Train Loss: 0.0471, Train MSE: 0.0471, Train MAE: 0.1527\n",
      "Epoch 1330 - Validation Loss: 2.1006, Validation MSE: 2.1148, Validation MAE: 1.0657\n"
     ]
    },
    {
     "name": "stderr",
     "output_type": "stream",
     "text": [
      "Training Epoch 1332: 100%|██████████| 258/258 [00:03<00:00, 76.62it/s]\n",
      "Training Epoch 1333: 100%|██████████| 258/258 [00:03<00:00, 76.70it/s]\n",
      "Training Epoch 1334: 100%|██████████| 258/258 [00:03<00:00, 75.43it/s]\n",
      "Training Epoch 1335: 100%|██████████| 258/258 [00:03<00:00, 78.64it/s]\n",
      "Training Epoch 1336: 100%|██████████| 258/258 [00:03<00:00, 75.66it/s]\n",
      "Training Epoch 1337: 100%|██████████| 258/258 [00:03<00:00, 75.50it/s]\n",
      "Training Epoch 1338: 100%|██████████| 258/258 [00:03<00:00, 75.43it/s]\n",
      "Training Epoch 1339: 100%|██████████| 258/258 [00:03<00:00, 72.50it/s]\n",
      "Training Epoch 1340: 100%|██████████| 258/258 [00:03<00:00, 76.86it/s]\n",
      "Training Epoch 1341: 100%|██████████| 258/258 [00:03<00:00, 77.34it/s]\n"
     ]
    },
    {
     "name": "stdout",
     "output_type": "stream",
     "text": [
      "Epoch 1340 - Train Loss: 0.0411, Train MSE: 0.0412, Train MAE: 0.1429\n",
      "Epoch 1340 - Validation Loss: 2.2175, Validation MSE: 2.2359, Validation MAE: 1.1021\n"
     ]
    },
    {
     "name": "stderr",
     "output_type": "stream",
     "text": [
      "Training Epoch 1342: 100%|██████████| 258/258 [00:03<00:00, 74.30it/s]\n",
      "Training Epoch 1343: 100%|██████████| 258/258 [00:03<00:00, 76.78it/s]\n",
      "Training Epoch 1344: 100%|██████████| 258/258 [00:03<00:00, 72.92it/s]\n",
      "Training Epoch 1345: 100%|██████████| 258/258 [00:03<00:00, 74.72it/s]\n",
      "Training Epoch 1346: 100%|██████████| 258/258 [00:03<00:00, 77.55it/s]\n",
      "Training Epoch 1347: 100%|██████████| 258/258 [00:03<00:00, 73.85it/s]\n",
      "Training Epoch 1348: 100%|██████████| 258/258 [00:03<00:00, 77.75it/s]\n",
      "Training Epoch 1349: 100%|██████████| 258/258 [00:03<00:00, 76.55it/s]\n",
      "Training Epoch 1350: 100%|██████████| 258/258 [00:03<00:00, 78.76it/s]\n",
      "Training Epoch 1351: 100%|██████████| 258/258 [00:03<00:00, 77.46it/s]\n"
     ]
    },
    {
     "name": "stdout",
     "output_type": "stream",
     "text": [
      "Epoch 1350 - Train Loss: 0.0376, Train MSE: 0.0377, Train MAE: 0.1380\n",
      "Epoch 1350 - Validation Loss: 2.1021, Validation MSE: 2.1134, Validation MAE: 1.0682\n"
     ]
    },
    {
     "name": "stderr",
     "output_type": "stream",
     "text": [
      "Training Epoch 1352: 100%|██████████| 258/258 [00:03<00:00, 77.40it/s]\n",
      "Training Epoch 1353: 100%|██████████| 258/258 [00:03<00:00, 75.50it/s]\n",
      "Training Epoch 1354: 100%|██████████| 258/258 [00:03<00:00, 80.98it/s]\n",
      "Training Epoch 1355: 100%|██████████| 258/258 [00:03<00:00, 77.42it/s]\n",
      "Training Epoch 1356: 100%|██████████| 258/258 [00:03<00:00, 75.92it/s]\n",
      "Training Epoch 1357: 100%|██████████| 258/258 [00:03<00:00, 71.13it/s]\n",
      "Training Epoch 1358: 100%|██████████| 258/258 [00:03<00:00, 71.63it/s]\n",
      "Training Epoch 1359: 100%|██████████| 258/258 [00:03<00:00, 77.64it/s]\n",
      "Training Epoch 1360: 100%|██████████| 258/258 [00:03<00:00, 74.62it/s]\n",
      "Training Epoch 1361: 100%|██████████| 258/258 [00:03<00:00, 76.95it/s]\n"
     ]
    },
    {
     "name": "stdout",
     "output_type": "stream",
     "text": [
      "Epoch 1360 - Train Loss: 0.0390, Train MSE: 0.0388, Train MAE: 0.1412\n",
      "Epoch 1360 - Validation Loss: 2.1167, Validation MSE: 2.1292, Validation MAE: 1.0754\n"
     ]
    },
    {
     "name": "stderr",
     "output_type": "stream",
     "text": [
      "Training Epoch 1362: 100%|██████████| 258/258 [00:03<00:00, 77.94it/s]\n",
      "Training Epoch 1363: 100%|██████████| 258/258 [00:03<00:00, 76.89it/s]\n",
      "Training Epoch 1364: 100%|██████████| 258/258 [00:03<00:00, 75.96it/s]\n",
      "Training Epoch 1365: 100%|██████████| 258/258 [00:03<00:00, 74.64it/s]\n",
      "Training Epoch 1366: 100%|██████████| 258/258 [00:03<00:00, 76.21it/s]\n",
      "Training Epoch 1367: 100%|██████████| 258/258 [00:03<00:00, 75.00it/s]\n",
      "Training Epoch 1368: 100%|██████████| 258/258 [00:03<00:00, 71.82it/s]\n",
      "Training Epoch 1369: 100%|██████████| 258/258 [00:03<00:00, 74.03it/s]\n",
      "Training Epoch 1370: 100%|██████████| 258/258 [00:03<00:00, 76.08it/s]\n",
      "Training Epoch 1371: 100%|██████████| 258/258 [00:03<00:00, 74.78it/s]\n"
     ]
    },
    {
     "name": "stdout",
     "output_type": "stream",
     "text": [
      "Epoch 1370 - Train Loss: 0.0504, Train MSE: 0.0505, Train MAE: 0.1555\n",
      "Epoch 1370 - Validation Loss: 2.2004, Validation MSE: 2.2163, Validation MAE: 1.0906\n"
     ]
    },
    {
     "name": "stderr",
     "output_type": "stream",
     "text": [
      "Training Epoch 1372: 100%|██████████| 258/258 [00:03<00:00, 77.47it/s]\n",
      "Training Epoch 1373: 100%|██████████| 258/258 [00:03<00:00, 73.01it/s]\n",
      "Training Epoch 1374: 100%|██████████| 258/258 [00:03<00:00, 75.41it/s]\n",
      "Training Epoch 1375: 100%|██████████| 258/258 [00:03<00:00, 75.03it/s]\n",
      "Training Epoch 1376: 100%|██████████| 258/258 [00:03<00:00, 77.27it/s]\n",
      "Training Epoch 1377: 100%|██████████| 258/258 [00:03<00:00, 71.46it/s]\n",
      "Training Epoch 1378: 100%|██████████| 258/258 [00:03<00:00, 76.35it/s]\n",
      "Training Epoch 1379: 100%|██████████| 258/258 [00:03<00:00, 74.92it/s]\n",
      "Training Epoch 1380: 100%|██████████| 258/258 [00:03<00:00, 78.04it/s]\n",
      "Training Epoch 1381: 100%|██████████| 258/258 [00:03<00:00, 75.85it/s]\n"
     ]
    },
    {
     "name": "stdout",
     "output_type": "stream",
     "text": [
      "Epoch 1380 - Train Loss: 0.0457, Train MSE: 0.0459, Train MAE: 0.1487\n",
      "Epoch 1380 - Validation Loss: 2.0854, Validation MSE: 2.0991, Validation MAE: 1.0615\n"
     ]
    },
    {
     "name": "stderr",
     "output_type": "stream",
     "text": [
      "Training Epoch 1382: 100%|██████████| 258/258 [00:03<00:00, 77.95it/s]\n",
      "Training Epoch 1383: 100%|██████████| 258/258 [00:03<00:00, 75.62it/s]\n",
      "Training Epoch 1384: 100%|██████████| 258/258 [00:03<00:00, 75.70it/s]\n",
      "Training Epoch 1385: 100%|██████████| 258/258 [00:03<00:00, 78.84it/s]\n",
      "Training Epoch 1386: 100%|██████████| 258/258 [00:03<00:00, 76.30it/s]\n",
      "Training Epoch 1387: 100%|██████████| 258/258 [00:03<00:00, 75.85it/s]\n",
      "Training Epoch 1388: 100%|██████████| 258/258 [00:03<00:00, 74.51it/s]\n",
      "Training Epoch 1389: 100%|██████████| 258/258 [00:03<00:00, 76.57it/s]\n",
      "Training Epoch 1390: 100%|██████████| 258/258 [00:03<00:00, 71.89it/s]\n",
      "Training Epoch 1391: 100%|██████████| 258/258 [00:03<00:00, 76.27it/s]\n"
     ]
    },
    {
     "name": "stdout",
     "output_type": "stream",
     "text": [
      "Epoch 1390 - Train Loss: 0.0390, Train MSE: 0.0391, Train MAE: 0.1401\n",
      "Epoch 1390 - Validation Loss: 2.1385, Validation MSE: 2.1535, Validation MAE: 1.0813\n"
     ]
    },
    {
     "name": "stderr",
     "output_type": "stream",
     "text": [
      "Training Epoch 1392: 100%|██████████| 258/258 [00:03<00:00, 73.40it/s]\n",
      "Training Epoch 1393: 100%|██████████| 258/258 [00:03<00:00, 79.06it/s]\n",
      "Training Epoch 1394: 100%|██████████| 258/258 [00:03<00:00, 74.63it/s]\n",
      "Training Epoch 1395: 100%|██████████| 258/258 [00:03<00:00, 76.92it/s]\n",
      "Training Epoch 1396: 100%|██████████| 258/258 [00:03<00:00, 74.70it/s]\n",
      "Training Epoch 1397: 100%|██████████| 258/258 [00:03<00:00, 76.54it/s]\n",
      "Training Epoch 1398: 100%|██████████| 258/258 [00:03<00:00, 78.07it/s]\n",
      "Training Epoch 1399: 100%|██████████| 258/258 [00:03<00:00, 76.40it/s]\n",
      "Training Epoch 1400: 100%|██████████| 258/258 [00:03<00:00, 77.05it/s]\n",
      "Training Epoch 1401: 100%|██████████| 258/258 [00:03<00:00, 74.09it/s]\n"
     ]
    },
    {
     "name": "stdout",
     "output_type": "stream",
     "text": [
      "Epoch 1400 - Train Loss: 0.0416, Train MSE: 0.0417, Train MAE: 0.1448\n",
      "Epoch 1400 - Validation Loss: 2.0181, Validation MSE: 2.0340, Validation MAE: 1.0473\n"
     ]
    },
    {
     "name": "stderr",
     "output_type": "stream",
     "text": [
      "Training Epoch 1402: 100%|██████████| 258/258 [00:03<00:00, 75.97it/s]\n",
      "Training Epoch 1403: 100%|██████████| 258/258 [00:03<00:00, 77.34it/s]\n",
      "Training Epoch 1404: 100%|██████████| 258/258 [00:03<00:00, 77.95it/s]\n",
      "Training Epoch 1405: 100%|██████████| 258/258 [00:03<00:00, 77.05it/s]\n",
      "Training Epoch 1406: 100%|██████████| 258/258 [00:03<00:00, 75.45it/s]\n",
      "Training Epoch 1407: 100%|██████████| 258/258 [00:03<00:00, 70.69it/s]\n",
      "Training Epoch 1408: 100%|██████████| 258/258 [00:03<00:00, 75.28it/s]\n",
      "Training Epoch 1409: 100%|██████████| 258/258 [00:03<00:00, 75.14it/s]\n",
      "Training Epoch 1410: 100%|██████████| 258/258 [00:03<00:00, 75.16it/s]\n",
      "Training Epoch 1411: 100%|██████████| 258/258 [00:03<00:00, 77.17it/s]\n"
     ]
    },
    {
     "name": "stdout",
     "output_type": "stream",
     "text": [
      "Epoch 1410 - Train Loss: 0.0421, Train MSE: 0.0422, Train MAE: 0.1443\n",
      "Epoch 1410 - Validation Loss: 2.0883, Validation MSE: 2.1014, Validation MAE: 1.0622\n"
     ]
    },
    {
     "name": "stderr",
     "output_type": "stream",
     "text": [
      "Training Epoch 1412: 100%|██████████| 258/258 [00:03<00:00, 71.98it/s]\n",
      "Training Epoch 1413: 100%|██████████| 258/258 [00:03<00:00, 72.52it/s]\n",
      "Training Epoch 1414: 100%|██████████| 258/258 [00:03<00:00, 75.15it/s]\n",
      "Training Epoch 1415: 100%|██████████| 258/258 [00:03<00:00, 75.95it/s]\n",
      "Training Epoch 1416: 100%|██████████| 258/258 [00:03<00:00, 77.34it/s]\n",
      "Training Epoch 1417: 100%|██████████| 258/258 [00:03<00:00, 77.56it/s]\n",
      "Training Epoch 1418: 100%|██████████| 258/258 [00:03<00:00, 76.40it/s]\n",
      "Training Epoch 1419: 100%|██████████| 258/258 [00:03<00:00, 75.37it/s]\n",
      "Training Epoch 1420: 100%|██████████| 258/258 [00:03<00:00, 77.42it/s]\n",
      "Training Epoch 1421: 100%|██████████| 258/258 [00:03<00:00, 77.68it/s]\n"
     ]
    },
    {
     "name": "stdout",
     "output_type": "stream",
     "text": [
      "Epoch 1420 - Train Loss: 0.0415, Train MSE: 0.0415, Train MAE: 0.1440\n",
      "Epoch 1420 - Validation Loss: 2.1395, Validation MSE: 2.1529, Validation MAE: 1.0849\n"
     ]
    },
    {
     "name": "stderr",
     "output_type": "stream",
     "text": [
      "Training Epoch 1422: 100%|██████████| 258/258 [00:03<00:00, 77.53it/s]\n",
      "Training Epoch 1423: 100%|██████████| 258/258 [00:03<00:00, 76.98it/s]\n",
      "Training Epoch 1424: 100%|██████████| 258/258 [00:03<00:00, 75.56it/s]\n",
      "Training Epoch 1425: 100%|██████████| 258/258 [00:03<00:00, 73.99it/s]\n",
      "Training Epoch 1426: 100%|██████████| 258/258 [00:03<00:00, 72.26it/s]\n",
      "Training Epoch 1427: 100%|██████████| 258/258 [00:03<00:00, 77.70it/s]\n",
      "Training Epoch 1428: 100%|██████████| 258/258 [00:03<00:00, 73.61it/s]\n",
      "Training Epoch 1429: 100%|██████████| 258/258 [00:03<00:00, 77.77it/s]\n",
      "Training Epoch 1430: 100%|██████████| 258/258 [00:03<00:00, 75.80it/s]\n",
      "Training Epoch 1431: 100%|██████████| 258/258 [00:03<00:00, 78.63it/s]\n"
     ]
    },
    {
     "name": "stdout",
     "output_type": "stream",
     "text": [
      "Epoch 1430 - Train Loss: 0.0415, Train MSE: 0.0416, Train MAE: 0.1409\n",
      "Epoch 1430 - Validation Loss: 2.1184, Validation MSE: 2.1311, Validation MAE: 1.0788\n"
     ]
    },
    {
     "name": "stderr",
     "output_type": "stream",
     "text": [
      "Training Epoch 1432: 100%|██████████| 258/258 [00:03<00:00, 75.05it/s]\n",
      "Training Epoch 1433: 100%|██████████| 258/258 [00:03<00:00, 76.75it/s]\n",
      "Training Epoch 1434: 100%|██████████| 258/258 [00:03<00:00, 78.32it/s]\n",
      "Training Epoch 1435: 100%|██████████| 258/258 [00:03<00:00, 76.24it/s]\n",
      "Training Epoch 1436: 100%|██████████| 258/258 [00:03<00:00, 75.73it/s]\n",
      "Training Epoch 1437: 100%|██████████| 258/258 [00:03<00:00, 73.36it/s]\n",
      "Training Epoch 1438: 100%|██████████| 258/258 [00:03<00:00, 74.05it/s]\n",
      "Training Epoch 1439: 100%|██████████| 258/258 [00:03<00:00, 79.46it/s]\n",
      "Training Epoch 1440: 100%|██████████| 258/258 [00:03<00:00, 75.54it/s]\n",
      "Training Epoch 1441: 100%|██████████| 258/258 [00:03<00:00, 70.47it/s]\n"
     ]
    },
    {
     "name": "stdout",
     "output_type": "stream",
     "text": [
      "Epoch 1440 - Train Loss: 0.0402, Train MSE: 0.0402, Train MAE: 0.1429\n",
      "Epoch 1440 - Validation Loss: 2.0882, Validation MSE: 2.1061, Validation MAE: 1.0628\n"
     ]
    },
    {
     "name": "stderr",
     "output_type": "stream",
     "text": [
      "Training Epoch 1442: 100%|██████████| 258/258 [00:03<00:00, 74.61it/s]\n",
      "Training Epoch 1443: 100%|██████████| 258/258 [00:03<00:00, 73.18it/s]\n",
      "Training Epoch 1444: 100%|██████████| 258/258 [00:03<00:00, 75.27it/s]\n",
      "Training Epoch 1445: 100%|██████████| 258/258 [00:03<00:00, 78.18it/s]\n",
      "Training Epoch 1446: 100%|██████████| 258/258 [00:03<00:00, 76.04it/s]\n",
      "Training Epoch 1447: 100%|██████████| 258/258 [00:03<00:00, 76.50it/s]\n",
      "Training Epoch 1448: 100%|██████████| 258/258 [00:03<00:00, 79.67it/s]\n",
      "Training Epoch 1449: 100%|██████████| 258/258 [00:03<00:00, 76.71it/s]\n",
      "Training Epoch 1450: 100%|██████████| 258/258 [00:03<00:00, 77.80it/s]\n",
      "Training Epoch 1451: 100%|██████████| 258/258 [00:03<00:00, 78.25it/s]\n"
     ]
    },
    {
     "name": "stdout",
     "output_type": "stream",
     "text": [
      "Epoch 1450 - Train Loss: 0.0442, Train MSE: 0.0442, Train MAE: 0.1457\n",
      "Epoch 1450 - Validation Loss: 2.1133, Validation MSE: 2.1246, Validation MAE: 1.0689\n"
     ]
    },
    {
     "name": "stderr",
     "output_type": "stream",
     "text": [
      "Training Epoch 1452: 100%|██████████| 258/258 [00:03<00:00, 81.38it/s]\n",
      "Training Epoch 1453: 100%|██████████| 258/258 [00:03<00:00, 76.08it/s]\n",
      "Training Epoch 1454: 100%|██████████| 258/258 [00:03<00:00, 77.75it/s]\n",
      "Training Epoch 1455: 100%|██████████| 258/258 [00:03<00:00, 78.33it/s]\n",
      "Training Epoch 1456: 100%|██████████| 258/258 [00:03<00:00, 78.66it/s]\n",
      "Training Epoch 1457: 100%|██████████| 258/258 [00:03<00:00, 77.53it/s]\n",
      "Training Epoch 1458: 100%|██████████| 258/258 [00:03<00:00, 78.28it/s]\n",
      "Training Epoch 1459: 100%|██████████| 258/258 [00:03<00:00, 66.83it/s]\n",
      "Training Epoch 1460: 100%|██████████| 258/258 [00:03<00:00, 75.27it/s]\n",
      "Training Epoch 1461: 100%|██████████| 258/258 [00:03<00:00, 75.83it/s]\n"
     ]
    },
    {
     "name": "stdout",
     "output_type": "stream",
     "text": [
      "Epoch 1460 - Train Loss: 0.0400, Train MSE: 0.0400, Train MAE: 0.1414\n",
      "Epoch 1460 - Validation Loss: 2.1452, Validation MSE: 2.1592, Validation MAE: 1.0809\n"
     ]
    },
    {
     "name": "stderr",
     "output_type": "stream",
     "text": [
      "Training Epoch 1462: 100%|██████████| 258/258 [00:03<00:00, 76.42it/s]\n",
      "Training Epoch 1463: 100%|██████████| 258/258 [00:03<00:00, 75.33it/s]\n",
      "Training Epoch 1464: 100%|██████████| 258/258 [00:03<00:00, 76.88it/s]\n",
      "Training Epoch 1465: 100%|██████████| 258/258 [00:03<00:00, 76.07it/s]\n",
      "Training Epoch 1466: 100%|██████████| 258/258 [00:03<00:00, 80.86it/s]\n",
      "Training Epoch 1467: 100%|██████████| 258/258 [00:03<00:00, 80.05it/s]\n",
      "Training Epoch 1468: 100%|██████████| 258/258 [00:02<00:00, 87.93it/s]\n",
      "Training Epoch 1469: 100%|██████████| 258/258 [00:03<00:00, 84.34it/s]\n",
      "Training Epoch 1470: 100%|██████████| 258/258 [00:03<00:00, 84.41it/s]\n",
      "Training Epoch 1471: 100%|██████████| 258/258 [00:02<00:00, 90.14it/s]\n"
     ]
    },
    {
     "name": "stdout",
     "output_type": "stream",
     "text": [
      "Epoch 1470 - Train Loss: 0.0468, Train MSE: 0.0467, Train MAE: 0.1471\n",
      "Epoch 1470 - Validation Loss: 2.1546, Validation MSE: 2.1681, Validation MAE: 1.0822\n"
     ]
    },
    {
     "name": "stderr",
     "output_type": "stream",
     "text": [
      "Training Epoch 1472: 100%|██████████| 258/258 [00:02<00:00, 87.65it/s]\n",
      "Training Epoch 1473: 100%|██████████| 258/258 [00:03<00:00, 85.51it/s]\n",
      "Training Epoch 1474: 100%|██████████| 258/258 [00:02<00:00, 89.43it/s]\n",
      "Training Epoch 1475: 100%|██████████| 258/258 [00:03<00:00, 81.13it/s]\n",
      "Training Epoch 1476: 100%|██████████| 258/258 [00:02<00:00, 87.96it/s]\n",
      "Training Epoch 1477: 100%|██████████| 258/258 [00:03<00:00, 79.95it/s]\n",
      "Training Epoch 1478: 100%|██████████| 258/258 [00:03<00:00, 85.87it/s]\n",
      "Training Epoch 1479: 100%|██████████| 258/258 [00:02<00:00, 87.42it/s]\n",
      "Training Epoch 1480: 100%|██████████| 258/258 [00:03<00:00, 83.44it/s]\n",
      "Training Epoch 1481: 100%|██████████| 258/258 [00:02<00:00, 89.64it/s]\n"
     ]
    },
    {
     "name": "stdout",
     "output_type": "stream",
     "text": [
      "Epoch 1480 - Train Loss: 0.0406, Train MSE: 0.0407, Train MAE: 0.1414\n",
      "Epoch 1480 - Validation Loss: 2.0692, Validation MSE: 2.0805, Validation MAE: 1.0582\n"
     ]
    },
    {
     "name": "stderr",
     "output_type": "stream",
     "text": [
      "Training Epoch 1482: 100%|██████████| 258/258 [00:02<00:00, 87.77it/s]\n",
      "Training Epoch 1483: 100%|██████████| 258/258 [00:02<00:00, 87.42it/s]\n",
      "Training Epoch 1484: 100%|██████████| 258/258 [00:02<00:00, 88.80it/s]\n",
      "Training Epoch 1485: 100%|██████████| 258/258 [00:03<00:00, 85.03it/s]\n",
      "Training Epoch 1486: 100%|██████████| 258/258 [00:03<00:00, 84.38it/s]\n",
      "Training Epoch 1487: 100%|██████████| 258/258 [00:02<00:00, 90.73it/s]\n",
      "Training Epoch 1488: 100%|██████████| 258/258 [00:03<00:00, 85.95it/s]\n",
      "Training Epoch 1489: 100%|██████████| 258/258 [00:02<00:00, 86.73it/s]\n",
      "Training Epoch 1490: 100%|██████████| 258/258 [00:02<00:00, 86.91it/s]\n",
      "Training Epoch 1491: 100%|██████████| 258/258 [00:02<00:00, 89.68it/s]\n"
     ]
    },
    {
     "name": "stdout",
     "output_type": "stream",
     "text": [
      "Epoch 1490 - Train Loss: 0.0415, Train MSE: 0.0416, Train MAE: 0.1419\n",
      "Epoch 1490 - Validation Loss: 2.1134, Validation MSE: 2.1266, Validation MAE: 1.0699\n"
     ]
    },
    {
     "name": "stderr",
     "output_type": "stream",
     "text": [
      "Training Epoch 1492: 100%|██████████| 258/258 [00:03<00:00, 84.93it/s]\n",
      "Training Epoch 1493: 100%|██████████| 258/258 [00:02<00:00, 88.29it/s]\n",
      "Training Epoch 1494: 100%|██████████| 258/258 [00:02<00:00, 89.36it/s]\n",
      "Training Epoch 1495: 100%|██████████| 258/258 [00:03<00:00, 84.62it/s]\n",
      "Training Epoch 1496: 100%|██████████| 258/258 [00:03<00:00, 80.51it/s]\n",
      "Training Epoch 1497: 100%|██████████| 258/258 [00:03<00:00, 84.64it/s]\n",
      "Training Epoch 1498: 100%|██████████| 258/258 [00:03<00:00, 85.26it/s]\n",
      "Training Epoch 1499: 100%|██████████| 258/258 [00:02<00:00, 89.34it/s]\n",
      "Training Epoch 1500: 100%|██████████| 258/258 [00:02<00:00, 86.16it/s]\n",
      "Training Epoch 1501: 100%|██████████| 258/258 [00:02<00:00, 86.66it/s]\n"
     ]
    },
    {
     "name": "stdout",
     "output_type": "stream",
     "text": [
      "Epoch 1500 - Train Loss: 0.0374, Train MSE: 0.0374, Train MAE: 0.1375\n",
      "Epoch 1500 - Validation Loss: 2.1340, Validation MSE: 2.1526, Validation MAE: 1.0820\n"
     ]
    },
    {
     "name": "stderr",
     "output_type": "stream",
     "text": [
      "Training Epoch 1502: 100%|██████████| 258/258 [00:02<00:00, 86.58it/s]\n",
      "Training Epoch 1503: 100%|██████████| 258/258 [00:02<00:00, 87.39it/s]\n",
      "Training Epoch 1504: 100%|██████████| 258/258 [00:02<00:00, 88.41it/s]\n",
      "Training Epoch 1505: 100%|██████████| 258/258 [00:02<00:00, 87.42it/s]\n",
      "Training Epoch 1506: 100%|██████████| 258/258 [00:03<00:00, 85.97it/s]\n",
      "Training Epoch 1507: 100%|██████████| 258/258 [00:03<00:00, 85.76it/s]\n",
      "Training Epoch 1508: 100%|██████████| 258/258 [00:02<00:00, 88.61it/s]\n",
      "Training Epoch 1509: 100%|██████████| 258/258 [00:03<00:00, 85.36it/s]\n",
      "Training Epoch 1510: 100%|██████████| 258/258 [00:02<00:00, 87.43it/s]\n",
      "Training Epoch 1511: 100%|██████████| 258/258 [00:03<00:00, 82.90it/s]\n"
     ]
    },
    {
     "name": "stdout",
     "output_type": "stream",
     "text": [
      "Epoch 1510 - Train Loss: 0.0366, Train MSE: 0.0367, Train MAE: 0.1365\n",
      "Epoch 1510 - Validation Loss: 2.1531, Validation MSE: 2.1706, Validation MAE: 1.0829\n"
     ]
    },
    {
     "name": "stderr",
     "output_type": "stream",
     "text": [
      "Training Epoch 1512: 100%|██████████| 258/258 [00:03<00:00, 85.29it/s]\n",
      "Training Epoch 1513: 100%|██████████| 258/258 [00:02<00:00, 88.01it/s]\n",
      "Training Epoch 1514: 100%|██████████| 258/258 [00:02<00:00, 90.68it/s]\n",
      "Training Epoch 1515: 100%|██████████| 258/258 [00:03<00:00, 81.75it/s]\n",
      "Training Epoch 1516: 100%|██████████| 258/258 [00:03<00:00, 82.57it/s]\n",
      "Training Epoch 1517: 100%|██████████| 258/258 [00:02<00:00, 89.11it/s]\n",
      "Training Epoch 1518: 100%|██████████| 258/258 [00:03<00:00, 84.56it/s]\n",
      "Training Epoch 1519: 100%|██████████| 258/258 [00:03<00:00, 85.61it/s]\n",
      "Training Epoch 1520: 100%|██████████| 258/258 [00:02<00:00, 90.19it/s]\n",
      "Training Epoch 1521: 100%|██████████| 258/258 [00:03<00:00, 82.79it/s]\n"
     ]
    },
    {
     "name": "stdout",
     "output_type": "stream",
     "text": [
      "Epoch 1520 - Train Loss: 0.0351, Train MSE: 0.0352, Train MAE: 0.1333\n",
      "Epoch 1520 - Validation Loss: 2.1416, Validation MSE: 2.1559, Validation MAE: 1.0771\n"
     ]
    },
    {
     "name": "stderr",
     "output_type": "stream",
     "text": [
      "Training Epoch 1522: 100%|██████████| 258/258 [00:02<00:00, 87.45it/s]\n",
      "Training Epoch 1523: 100%|██████████| 258/258 [00:02<00:00, 87.14it/s]\n",
      "Training Epoch 1524: 100%|██████████| 258/258 [00:02<00:00, 87.95it/s]\n",
      "Training Epoch 1525: 100%|██████████| 258/258 [00:02<00:00, 87.55it/s]\n",
      "Training Epoch 1526: 100%|██████████| 258/258 [00:03<00:00, 85.98it/s]\n",
      "Training Epoch 1527: 100%|██████████| 258/258 [00:03<00:00, 83.70it/s]\n",
      "Training Epoch 1528: 100%|██████████| 258/258 [00:03<00:00, 82.17it/s]\n",
      "Training Epoch 1529: 100%|██████████| 258/258 [00:02<00:00, 87.21it/s]\n",
      "Training Epoch 1530: 100%|██████████| 258/258 [00:02<00:00, 86.06it/s]\n",
      "Training Epoch 1531: 100%|██████████| 258/258 [00:02<00:00, 88.38it/s]\n"
     ]
    },
    {
     "name": "stdout",
     "output_type": "stream",
     "text": [
      "Epoch 1530 - Train Loss: 0.0442, Train MSE: 0.0442, Train MAE: 0.1465\n",
      "Epoch 1530 - Validation Loss: 2.0925, Validation MSE: 2.1042, Validation MAE: 1.0758\n"
     ]
    },
    {
     "name": "stderr",
     "output_type": "stream",
     "text": [
      "Training Epoch 1532: 100%|██████████| 258/258 [00:03<00:00, 84.07it/s]\n",
      "Training Epoch 1533: 100%|██████████| 258/258 [00:02<00:00, 87.47it/s]\n",
      "Training Epoch 1534: 100%|██████████| 258/258 [00:02<00:00, 88.37it/s]\n",
      "Training Epoch 1535: 100%|██████████| 258/258 [00:03<00:00, 81.87it/s]\n",
      "Training Epoch 1536: 100%|██████████| 258/258 [00:02<00:00, 87.37it/s]\n",
      "Training Epoch 1537: 100%|██████████| 258/258 [00:03<00:00, 83.56it/s]\n",
      "Training Epoch 1538: 100%|██████████| 258/258 [00:03<00:00, 84.38it/s]\n",
      "Training Epoch 1539: 100%|██████████| 258/258 [00:02<00:00, 87.02it/s]\n",
      "Training Epoch 1540: 100%|██████████| 258/258 [00:03<00:00, 82.43it/s]\n",
      "Training Epoch 1541: 100%|██████████| 258/258 [00:02<00:00, 86.23it/s]\n"
     ]
    },
    {
     "name": "stdout",
     "output_type": "stream",
     "text": [
      "Epoch 1540 - Train Loss: 0.0391, Train MSE: 0.0392, Train MAE: 0.1402\n",
      "Epoch 1540 - Validation Loss: 2.1381, Validation MSE: 2.1531, Validation MAE: 1.0832\n"
     ]
    },
    {
     "name": "stderr",
     "output_type": "stream",
     "text": [
      "Training Epoch 1542: 100%|██████████| 258/258 [00:03<00:00, 85.35it/s]\n",
      "Training Epoch 1543: 100%|██████████| 258/258 [00:02<00:00, 88.13it/s]\n",
      "Training Epoch 1544: 100%|██████████| 258/258 [00:03<00:00, 85.04it/s]\n",
      "Training Epoch 1545: 100%|██████████| 258/258 [00:02<00:00, 89.17it/s]\n",
      "Training Epoch 1546: 100%|██████████| 258/258 [00:02<00:00, 89.15it/s]\n",
      "Training Epoch 1547: 100%|██████████| 258/258 [00:03<00:00, 78.96it/s]\n",
      "Training Epoch 1548: 100%|██████████| 258/258 [00:02<00:00, 88.14it/s]\n",
      "Training Epoch 1549: 100%|██████████| 258/258 [00:03<00:00, 85.05it/s]\n",
      "Training Epoch 1550: 100%|██████████| 258/258 [00:02<00:00, 87.62it/s]\n",
      "Training Epoch 1551: 100%|██████████| 258/258 [00:02<00:00, 86.66it/s]\n"
     ]
    },
    {
     "name": "stdout",
     "output_type": "stream",
     "text": [
      "Epoch 1550 - Train Loss: 0.0436, Train MSE: 0.0431, Train MAE: 0.1445\n",
      "Epoch 1550 - Validation Loss: 2.1761, Validation MSE: 2.1907, Validation MAE: 1.0831\n"
     ]
    },
    {
     "name": "stderr",
     "output_type": "stream",
     "text": [
      "Training Epoch 1552: 100%|██████████| 258/258 [00:03<00:00, 85.13it/s]\n",
      "Training Epoch 1553: 100%|██████████| 258/258 [00:02<00:00, 88.54it/s]\n",
      "Training Epoch 1554: 100%|██████████| 258/258 [00:03<00:00, 81.15it/s]\n",
      "Training Epoch 1555: 100%|██████████| 258/258 [00:03<00:00, 85.78it/s]\n",
      "Training Epoch 1556: 100%|██████████| 258/258 [00:02<00:00, 88.52it/s]\n",
      "Training Epoch 1557: 100%|██████████| 258/258 [00:02<00:00, 89.26it/s]\n",
      "Training Epoch 1558: 100%|██████████| 258/258 [00:03<00:00, 84.58it/s]\n",
      "Training Epoch 1559: 100%|██████████| 258/258 [00:02<00:00, 88.91it/s]\n",
      "Training Epoch 1560: 100%|██████████| 258/258 [00:02<00:00, 86.65it/s]\n",
      "Training Epoch 1561: 100%|██████████| 258/258 [00:03<00:00, 84.39it/s]\n"
     ]
    },
    {
     "name": "stdout",
     "output_type": "stream",
     "text": [
      "Epoch 1560 - Train Loss: 0.0387, Train MSE: 0.0387, Train MAE: 0.1382\n",
      "Epoch 1560 - Validation Loss: 2.1138, Validation MSE: 2.1281, Validation MAE: 1.0751\n"
     ]
    },
    {
     "name": "stderr",
     "output_type": "stream",
     "text": [
      "Training Epoch 1562: 100%|██████████| 258/258 [00:02<00:00, 87.65it/s]\n",
      "Training Epoch 1563: 100%|██████████| 258/258 [00:02<00:00, 89.19it/s]\n",
      "Training Epoch 1564: 100%|██████████| 258/258 [00:02<00:00, 87.21it/s]\n",
      "Training Epoch 1565: 100%|██████████| 258/258 [00:03<00:00, 85.13it/s]\n",
      "Training Epoch 1566: 100%|██████████| 258/258 [00:02<00:00, 90.08it/s]\n",
      "Training Epoch 1567: 100%|██████████| 258/258 [00:03<00:00, 81.56it/s]\n",
      "Training Epoch 1568: 100%|██████████| 258/258 [00:03<00:00, 85.50it/s]\n",
      "Training Epoch 1569: 100%|██████████| 258/258 [00:02<00:00, 88.82it/s]\n",
      "Training Epoch 1570: 100%|██████████| 258/258 [00:03<00:00, 84.28it/s]\n",
      "Training Epoch 1571: 100%|██████████| 258/258 [00:02<00:00, 87.96it/s]\n"
     ]
    },
    {
     "name": "stdout",
     "output_type": "stream",
     "text": [
      "Epoch 1570 - Train Loss: 0.0393, Train MSE: 0.0393, Train MAE: 0.1393\n",
      "Epoch 1570 - Validation Loss: 2.1085, Validation MSE: 2.1264, Validation MAE: 1.0777\n"
     ]
    },
    {
     "name": "stderr",
     "output_type": "stream",
     "text": [
      "Training Epoch 1572: 100%|██████████| 258/258 [00:02<00:00, 87.72it/s]\n",
      "Training Epoch 1573: 100%|██████████| 258/258 [00:03<00:00, 75.79it/s]\n",
      "Training Epoch 1574: 100%|██████████| 258/258 [00:03<00:00, 85.83it/s]\n",
      "Training Epoch 1575: 100%|██████████| 258/258 [00:03<00:00, 84.28it/s]\n",
      "Training Epoch 1576: 100%|██████████| 258/258 [00:02<00:00, 89.29it/s]\n",
      "Training Epoch 1577: 100%|██████████| 258/258 [00:03<00:00, 85.60it/s]\n",
      "Training Epoch 1578: 100%|██████████| 258/258 [00:03<00:00, 85.80it/s]\n",
      "Training Epoch 1579: 100%|██████████| 258/258 [00:02<00:00, 88.86it/s]\n",
      "Training Epoch 1580: 100%|██████████| 258/258 [00:02<00:00, 86.41it/s]\n",
      "Training Epoch 1581: 100%|██████████| 258/258 [00:02<00:00, 88.15it/s]\n"
     ]
    },
    {
     "name": "stdout",
     "output_type": "stream",
     "text": [
      "Epoch 1580 - Train Loss: 0.0395, Train MSE: 0.0395, Train MAE: 0.1380\n",
      "Epoch 1580 - Validation Loss: 2.1129, Validation MSE: 2.1275, Validation MAE: 1.0738\n"
     ]
    },
    {
     "name": "stderr",
     "output_type": "stream",
     "text": [
      "Training Epoch 1582: 100%|██████████| 258/258 [00:02<00:00, 86.82it/s]\n",
      "Training Epoch 1583: 100%|██████████| 258/258 [00:02<00:00, 86.80it/s]\n",
      "Training Epoch 1584: 100%|██████████| 258/258 [00:03<00:00, 81.72it/s]\n",
      "Training Epoch 1585: 100%|██████████| 258/258 [00:02<00:00, 88.53it/s]\n",
      "Training Epoch 1586: 100%|██████████| 258/258 [00:03<00:00, 85.94it/s]\n",
      "Training Epoch 1587: 100%|██████████| 258/258 [00:02<00:00, 88.19it/s]\n",
      "Training Epoch 1588: 100%|██████████| 258/258 [00:02<00:00, 86.26it/s]\n",
      "Training Epoch 1589: 100%|██████████| 258/258 [00:02<00:00, 86.72it/s]\n",
      "Training Epoch 1590: 100%|██████████| 258/258 [00:02<00:00, 87.26it/s]\n",
      "Training Epoch 1591: 100%|██████████| 258/258 [00:02<00:00, 86.86it/s]\n"
     ]
    },
    {
     "name": "stdout",
     "output_type": "stream",
     "text": [
      "Epoch 1590 - Train Loss: 0.0380, Train MSE: 0.0381, Train MAE: 0.1370\n",
      "Epoch 1590 - Validation Loss: 2.1219, Validation MSE: 2.1362, Validation MAE: 1.0777\n"
     ]
    },
    {
     "name": "stderr",
     "output_type": "stream",
     "text": [
      "Training Epoch 1592: 100%|██████████| 258/258 [00:03<00:00, 83.02it/s]\n",
      "Training Epoch 1593: 100%|██████████| 258/258 [00:03<00:00, 81.25it/s]\n",
      "Training Epoch 1594: 100%|██████████| 258/258 [00:02<00:00, 86.11it/s]\n",
      "Training Epoch 1595: 100%|██████████| 258/258 [00:02<00:00, 87.50it/s]\n",
      "Training Epoch 1596: 100%|██████████| 258/258 [00:03<00:00, 81.74it/s]\n",
      "Training Epoch 1597: 100%|██████████| 258/258 [00:02<00:00, 88.42it/s]\n",
      "Training Epoch 1598: 100%|██████████| 258/258 [00:03<00:00, 83.92it/s]\n",
      "Training Epoch 1599: 100%|██████████| 258/258 [00:02<00:00, 88.43it/s]\n",
      "Training Epoch 1600: 100%|██████████| 258/258 [00:02<00:00, 88.55it/s]\n",
      "Training Epoch 1601: 100%|██████████| 258/258 [00:03<00:00, 84.75it/s]\n"
     ]
    },
    {
     "name": "stdout",
     "output_type": "stream",
     "text": [
      "Epoch 1600 - Train Loss: 0.0393, Train MSE: 0.0394, Train MAE: 0.1392\n",
      "Epoch 1600 - Validation Loss: 2.1978, Validation MSE: 2.2117, Validation MAE: 1.0911\n"
     ]
    },
    {
     "name": "stderr",
     "output_type": "stream",
     "text": [
      "Training Epoch 1602: 100%|██████████| 258/258 [00:02<00:00, 88.48it/s]\n",
      "Training Epoch 1603: 100%|██████████| 258/258 [00:02<00:00, 86.12it/s]\n",
      "Training Epoch 1604: 100%|██████████| 258/258 [00:02<00:00, 86.76it/s]\n",
      "Training Epoch 1605: 100%|██████████| 258/258 [00:02<00:00, 86.69it/s]\n",
      "Training Epoch 1606: 100%|██████████| 258/258 [00:02<00:00, 88.00it/s]\n",
      "Training Epoch 1607: 100%|██████████| 258/258 [00:03<00:00, 82.35it/s]\n",
      "Training Epoch 1608: 100%|██████████| 258/258 [00:02<00:00, 91.68it/s]\n",
      "Training Epoch 1609: 100%|██████████| 258/258 [00:02<00:00, 87.69it/s]\n",
      "Training Epoch 1610: 100%|██████████| 258/258 [00:03<00:00, 84.82it/s]\n",
      "Training Epoch 1611: 100%|██████████| 258/258 [00:02<00:00, 87.98it/s]\n"
     ]
    },
    {
     "name": "stdout",
     "output_type": "stream",
     "text": [
      "Epoch 1610 - Train Loss: 0.0409, Train MSE: 0.0408, Train MAE: 0.1385\n",
      "Epoch 1610 - Validation Loss: 2.1423, Validation MSE: 2.1550, Validation MAE: 1.0822\n"
     ]
    },
    {
     "name": "stderr",
     "output_type": "stream",
     "text": [
      "Training Epoch 1612: 100%|██████████| 258/258 [00:03<00:00, 80.89it/s]\n",
      "Training Epoch 1613: 100%|██████████| 258/258 [00:02<00:00, 88.81it/s]\n",
      "Training Epoch 1614: 100%|██████████| 258/258 [00:03<00:00, 85.10it/s]\n",
      "Training Epoch 1615: 100%|██████████| 258/258 [00:02<00:00, 87.11it/s]\n",
      "Training Epoch 1616: 100%|██████████| 258/258 [00:02<00:00, 86.50it/s]\n",
      "Training Epoch 1617: 100%|██████████| 258/258 [00:03<00:00, 85.33it/s]\n",
      "Training Epoch 1618: 100%|██████████| 258/258 [00:02<00:00, 90.45it/s]\n",
      "Training Epoch 1619: 100%|██████████| 258/258 [00:03<00:00, 85.43it/s]\n",
      "Training Epoch 1620: 100%|██████████| 258/258 [00:02<00:00, 86.82it/s]\n",
      "Training Epoch 1621: 100%|██████████| 258/258 [00:02<00:00, 88.45it/s]\n"
     ]
    },
    {
     "name": "stdout",
     "output_type": "stream",
     "text": [
      "Epoch 1620 - Train Loss: 0.0406, Train MSE: 0.0407, Train MAE: 0.1410\n",
      "Epoch 1620 - Validation Loss: 2.0718, Validation MSE: 2.0838, Validation MAE: 1.0636\n"
     ]
    },
    {
     "name": "stderr",
     "output_type": "stream",
     "text": [
      "Training Epoch 1622: 100%|██████████| 258/258 [00:03<00:00, 85.36it/s]\n",
      "Training Epoch 1623: 100%|██████████| 258/258 [00:03<00:00, 84.68it/s]\n",
      "Training Epoch 1624: 100%|██████████| 258/258 [00:03<00:00, 83.91it/s]\n",
      "Training Epoch 1625: 100%|██████████| 258/258 [00:02<00:00, 89.61it/s]\n",
      "Training Epoch 1626: 100%|██████████| 258/258 [00:02<00:00, 86.45it/s]\n",
      "Training Epoch 1627: 100%|██████████| 258/258 [00:02<00:00, 87.51it/s]\n",
      "Training Epoch 1628: 100%|██████████| 258/258 [00:02<00:00, 88.18it/s]\n",
      "Training Epoch 1629: 100%|██████████| 258/258 [00:02<00:00, 86.11it/s]\n",
      "Training Epoch 1630: 100%|██████████| 258/258 [00:02<00:00, 86.75it/s]\n",
      "Training Epoch 1631: 100%|██████████| 258/258 [00:03<00:00, 79.51it/s]\n"
     ]
    },
    {
     "name": "stdout",
     "output_type": "stream",
     "text": [
      "Epoch 1630 - Train Loss: 0.0388, Train MSE: 0.0389, Train MAE: 0.1385\n",
      "Epoch 1630 - Validation Loss: 2.0758, Validation MSE: 2.0891, Validation MAE: 1.0726\n"
     ]
    },
    {
     "name": "stderr",
     "output_type": "stream",
     "text": [
      "Training Epoch 1632: 100%|██████████| 258/258 [00:03<00:00, 85.59it/s]\n",
      "Training Epoch 1633: 100%|██████████| 258/258 [00:03<00:00, 83.01it/s]\n",
      "Training Epoch 1634: 100%|██████████| 258/258 [00:03<00:00, 84.89it/s]\n",
      "Training Epoch 1635: 100%|██████████| 258/258 [00:02<00:00, 87.70it/s]\n",
      "Training Epoch 1636: 100%|██████████| 258/258 [00:03<00:00, 84.09it/s]\n",
      "Training Epoch 1637: 100%|██████████| 258/258 [00:02<00:00, 88.23it/s]\n",
      "Training Epoch 1638: 100%|██████████| 258/258 [00:02<00:00, 87.05it/s]\n",
      "Training Epoch 1639: 100%|██████████| 258/258 [00:02<00:00, 86.30it/s]\n",
      "Training Epoch 1640: 100%|██████████| 258/258 [00:02<00:00, 89.16it/s]\n",
      "Training Epoch 1641: 100%|██████████| 258/258 [00:02<00:00, 86.71it/s]\n"
     ]
    },
    {
     "name": "stdout",
     "output_type": "stream",
     "text": [
      "Epoch 1640 - Train Loss: 0.0391, Train MSE: 0.0391, Train MAE: 0.1395\n",
      "Epoch 1640 - Validation Loss: 2.1855, Validation MSE: 2.2042, Validation MAE: 1.0907\n"
     ]
    },
    {
     "name": "stderr",
     "output_type": "stream",
     "text": [
      "Training Epoch 1642: 100%|██████████| 258/258 [00:02<00:00, 87.25it/s]\n",
      "Training Epoch 1643: 100%|██████████| 258/258 [00:03<00:00, 85.56it/s]\n",
      "Training Epoch 1644: 100%|██████████| 258/258 [00:02<00:00, 88.00it/s]\n",
      "Training Epoch 1645: 100%|██████████| 258/258 [00:03<00:00, 83.42it/s]\n",
      "Training Epoch 1646: 100%|██████████| 258/258 [00:02<00:00, 87.44it/s]\n",
      "Training Epoch 1647: 100%|██████████| 258/258 [00:03<00:00, 84.29it/s]\n",
      "Training Epoch 1648: 100%|██████████| 258/258 [00:02<00:00, 88.97it/s]\n",
      "Training Epoch 1649: 100%|██████████| 258/258 [00:02<00:00, 87.88it/s]\n",
      "Training Epoch 1650: 100%|██████████| 258/258 [00:03<00:00, 78.02it/s]\n",
      "Training Epoch 1651: 100%|██████████| 258/258 [00:02<00:00, 88.98it/s]\n"
     ]
    },
    {
     "name": "stdout",
     "output_type": "stream",
     "text": [
      "Epoch 1650 - Train Loss: 0.0390, Train MSE: 0.0391, Train MAE: 0.1391\n",
      "Epoch 1650 - Validation Loss: 2.1092, Validation MSE: 2.1269, Validation MAE: 1.0663\n"
     ]
    },
    {
     "name": "stderr",
     "output_type": "stream",
     "text": [
      "Training Epoch 1652: 100%|██████████| 258/258 [00:03<00:00, 83.48it/s]\n",
      "Training Epoch 1653: 100%|██████████| 258/258 [00:03<00:00, 85.91it/s]\n",
      "Training Epoch 1654: 100%|██████████| 258/258 [00:02<00:00, 86.19it/s]\n",
      "Training Epoch 1655: 100%|██████████| 258/258 [00:02<00:00, 87.96it/s]\n",
      "Training Epoch 1656: 100%|██████████| 258/258 [00:03<00:00, 84.33it/s]\n",
      "Training Epoch 1657: 100%|██████████| 258/258 [00:02<00:00, 86.34it/s]\n",
      "Training Epoch 1658: 100%|██████████| 258/258 [00:02<00:00, 89.52it/s]\n",
      "Training Epoch 1659: 100%|██████████| 258/258 [00:03<00:00, 85.61it/s]\n",
      "Training Epoch 1660: 100%|██████████| 258/258 [00:02<00:00, 87.33it/s]\n",
      "Training Epoch 1661: 100%|██████████| 258/258 [00:02<00:00, 89.38it/s]\n"
     ]
    },
    {
     "name": "stdout",
     "output_type": "stream",
     "text": [
      "Epoch 1660 - Train Loss: 0.0369, Train MSE: 0.0370, Train MAE: 0.1357\n",
      "Epoch 1660 - Validation Loss: 2.1573, Validation MSE: 2.1729, Validation MAE: 1.0849\n"
     ]
    },
    {
     "name": "stderr",
     "output_type": "stream",
     "text": [
      "Training Epoch 1662: 100%|██████████| 258/258 [00:03<00:00, 84.36it/s]\n",
      "Training Epoch 1663: 100%|██████████| 258/258 [00:02<00:00, 88.28it/s]\n",
      "Training Epoch 1664: 100%|██████████| 258/258 [00:02<00:00, 88.79it/s]\n",
      "Training Epoch 1665: 100%|██████████| 258/258 [00:03<00:00, 85.81it/s]\n",
      "Training Epoch 1666: 100%|██████████| 258/258 [00:02<00:00, 86.98it/s]\n",
      "Training Epoch 1667: 100%|██████████| 258/258 [00:02<00:00, 89.57it/s]\n",
      "Training Epoch 1668: 100%|██████████| 258/258 [00:03<00:00, 85.07it/s]\n",
      "Training Epoch 1669: 100%|██████████| 258/258 [00:03<00:00, 84.88it/s]\n",
      "Training Epoch 1670: 100%|██████████| 258/258 [00:03<00:00, 78.78it/s]\n",
      "Training Epoch 1671: 100%|██████████| 258/258 [00:02<00:00, 87.86it/s]\n"
     ]
    },
    {
     "name": "stdout",
     "output_type": "stream",
     "text": [
      "Epoch 1670 - Train Loss: 0.0342, Train MSE: 0.0342, Train MAE: 0.1310\n",
      "Epoch 1670 - Validation Loss: 2.1446, Validation MSE: 2.1588, Validation MAE: 1.0790\n"
     ]
    },
    {
     "name": "stderr",
     "output_type": "stream",
     "text": [
      "Training Epoch 1672: 100%|██████████| 258/258 [00:02<00:00, 87.30it/s]\n",
      "Training Epoch 1673: 100%|██████████| 258/258 [00:03<00:00, 85.55it/s]\n",
      "Training Epoch 1674: 100%|██████████| 258/258 [00:02<00:00, 89.11it/s]\n",
      "Training Epoch 1675: 100%|██████████| 258/258 [00:03<00:00, 84.72it/s]\n",
      "Training Epoch 1676: 100%|██████████| 258/258 [00:02<00:00, 86.61it/s]\n",
      "Training Epoch 1677: 100%|██████████| 258/258 [00:02<00:00, 88.65it/s]\n",
      "Training Epoch 1678: 100%|██████████| 258/258 [00:02<00:00, 86.33it/s]\n",
      "Training Epoch 1679: 100%|██████████| 258/258 [00:02<00:00, 87.48it/s]\n",
      "Training Epoch 1680: 100%|██████████| 258/258 [00:02<00:00, 86.63it/s]\n",
      "Training Epoch 1681: 100%|██████████| 258/258 [00:02<00:00, 87.43it/s]\n"
     ]
    },
    {
     "name": "stdout",
     "output_type": "stream",
     "text": [
      "Epoch 1680 - Train Loss: 0.0346, Train MSE: 0.0346, Train MAE: 0.1308\n",
      "Epoch 1680 - Validation Loss: 2.1211, Validation MSE: 2.1371, Validation MAE: 1.0700\n"
     ]
    },
    {
     "name": "stderr",
     "output_type": "stream",
     "text": [
      "Training Epoch 1682: 100%|██████████| 258/258 [00:02<00:00, 88.20it/s]\n",
      "Training Epoch 1683: 100%|██████████| 258/258 [00:03<00:00, 85.13it/s]\n",
      "Training Epoch 1684: 100%|██████████| 258/258 [00:02<00:00, 88.98it/s]\n",
      "Training Epoch 1685: 100%|██████████| 258/258 [00:03<00:00, 85.02it/s]\n",
      "Training Epoch 1686: 100%|██████████| 258/258 [00:03<00:00, 82.08it/s]\n",
      "Training Epoch 1687: 100%|██████████| 258/258 [00:02<00:00, 86.95it/s]\n",
      "Training Epoch 1688: 100%|██████████| 258/258 [00:02<00:00, 87.30it/s]\n",
      "Training Epoch 1689: 100%|██████████| 258/258 [00:03<00:00, 78.42it/s]\n",
      "Training Epoch 1690: 100%|██████████| 258/258 [00:03<00:00, 84.59it/s]\n",
      "Training Epoch 1691: 100%|██████████| 258/258 [00:02<00:00, 86.96it/s]\n"
     ]
    },
    {
     "name": "stdout",
     "output_type": "stream",
     "text": [
      "Epoch 1690 - Train Loss: 0.0352, Train MSE: 0.0352, Train MAE: 0.1330\n",
      "Epoch 1690 - Validation Loss: 2.1375, Validation MSE: 2.1470, Validation MAE: 1.0749\n"
     ]
    },
    {
     "name": "stderr",
     "output_type": "stream",
     "text": [
      "Training Epoch 1692: 100%|██████████| 258/258 [00:02<00:00, 89.25it/s]\n",
      "Training Epoch 1693: 100%|██████████| 258/258 [00:02<00:00, 86.58it/s]\n",
      "Training Epoch 1694: 100%|██████████| 258/258 [00:03<00:00, 85.49it/s]\n",
      "Training Epoch 1695: 100%|██████████| 258/258 [00:02<00:00, 88.31it/s]\n",
      "Training Epoch 1696: 100%|██████████| 258/258 [00:03<00:00, 84.39it/s]\n",
      "Training Epoch 1697: 100%|██████████| 258/258 [00:02<00:00, 88.34it/s]\n",
      "Training Epoch 1698: 100%|██████████| 258/258 [00:02<00:00, 89.20it/s]\n",
      "Training Epoch 1699: 100%|██████████| 258/258 [00:03<00:00, 85.18it/s]\n",
      "Training Epoch 1700: 100%|██████████| 258/258 [00:03<00:00, 84.66it/s]\n",
      "Training Epoch 1701: 100%|██████████| 258/258 [00:03<00:00, 85.88it/s]\n"
     ]
    },
    {
     "name": "stdout",
     "output_type": "stream",
     "text": [
      "Epoch 1700 - Train Loss: 0.0380, Train MSE: 0.0380, Train MAE: 0.1354\n",
      "Epoch 1700 - Validation Loss: 2.1101, Validation MSE: 2.1274, Validation MAE: 1.0797\n"
     ]
    },
    {
     "name": "stderr",
     "output_type": "stream",
     "text": [
      "Training Epoch 1702: 100%|██████████| 258/258 [00:02<00:00, 88.13it/s]\n",
      "Training Epoch 1703: 100%|██████████| 258/258 [00:02<00:00, 88.87it/s]\n",
      "Training Epoch 1704: 100%|██████████| 258/258 [00:02<00:00, 87.05it/s]\n",
      "Training Epoch 1705: 100%|██████████| 258/258 [00:02<00:00, 86.42it/s]\n",
      "Training Epoch 1706: 100%|██████████| 258/258 [00:03<00:00, 84.55it/s]\n",
      "Training Epoch 1707: 100%|██████████| 258/258 [00:02<00:00, 90.56it/s]\n",
      "Training Epoch 1708: 100%|██████████| 258/258 [00:03<00:00, 79.29it/s]\n",
      "Training Epoch 1709: 100%|██████████| 258/258 [00:03<00:00, 85.12it/s]\n",
      "Training Epoch 1710: 100%|██████████| 258/258 [00:02<00:00, 88.22it/s]\n",
      "Training Epoch 1711: 100%|██████████| 258/258 [00:02<00:00, 87.01it/s]\n"
     ]
    },
    {
     "name": "stdout",
     "output_type": "stream",
     "text": [
      "Epoch 1710 - Train Loss: 0.0372, Train MSE: 0.0371, Train MAE: 0.1357\n",
      "Epoch 1710 - Validation Loss: 2.0873, Validation MSE: 2.1049, Validation MAE: 1.0650\n"
     ]
    },
    {
     "name": "stderr",
     "output_type": "stream",
     "text": [
      "Training Epoch 1712: 100%|██████████| 258/258 [00:03<00:00, 84.26it/s]\n",
      "Training Epoch 1713: 100%|██████████| 258/258 [00:02<00:00, 90.77it/s]\n",
      "Training Epoch 1714: 100%|██████████| 258/258 [00:03<00:00, 85.13it/s]\n",
      "Training Epoch 1715: 100%|██████████| 258/258 [00:03<00:00, 85.10it/s]\n",
      "Training Epoch 1716: 100%|██████████| 258/258 [00:02<00:00, 89.02it/s]\n",
      "Training Epoch 1717: 100%|██████████| 258/258 [00:03<00:00, 80.40it/s]\n",
      "Training Epoch 1718: 100%|██████████| 258/258 [00:03<00:00, 85.74it/s]\n",
      "Training Epoch 1719: 100%|██████████| 258/258 [00:02<00:00, 88.18it/s]\n",
      "Training Epoch 1720: 100%|██████████| 258/258 [00:02<00:00, 87.23it/s]\n",
      "Training Epoch 1721: 100%|██████████| 258/258 [00:02<00:00, 87.43it/s]\n"
     ]
    },
    {
     "name": "stdout",
     "output_type": "stream",
     "text": [
      "Epoch 1720 - Train Loss: 0.0411, Train MSE: 0.0411, Train MAE: 0.1370\n",
      "Epoch 1720 - Validation Loss: 2.0746, Validation MSE: 2.0884, Validation MAE: 1.0649\n"
     ]
    },
    {
     "name": "stderr",
     "output_type": "stream",
     "text": [
      "Training Epoch 1722: 100%|██████████| 258/258 [00:03<00:00, 84.52it/s]\n",
      "Training Epoch 1723: 100%|██████████| 258/258 [00:03<00:00, 85.93it/s]\n",
      "Training Epoch 1724: 100%|██████████| 258/258 [00:02<00:00, 88.76it/s]\n",
      "Training Epoch 1725: 100%|██████████| 258/258 [00:03<00:00, 85.97it/s]\n",
      "Training Epoch 1726: 100%|██████████| 258/258 [00:02<00:00, 88.18it/s]\n",
      "Training Epoch 1727: 100%|██████████| 258/258 [00:03<00:00, 84.68it/s]\n",
      "Training Epoch 1728: 100%|██████████| 258/258 [00:03<00:00, 81.92it/s]\n",
      "Training Epoch 1729: 100%|██████████| 258/258 [00:03<00:00, 77.42it/s]\n",
      "Training Epoch 1730: 100%|██████████| 258/258 [00:03<00:00, 80.63it/s]\n",
      "Training Epoch 1731: 100%|██████████| 258/258 [00:02<00:00, 86.87it/s]\n"
     ]
    },
    {
     "name": "stdout",
     "output_type": "stream",
     "text": [
      "Epoch 1730 - Train Loss: 0.0356, Train MSE: 0.0357, Train MAE: 0.1327\n",
      "Epoch 1730 - Validation Loss: 2.1555, Validation MSE: 2.1674, Validation MAE: 1.0776\n"
     ]
    },
    {
     "name": "stderr",
     "output_type": "stream",
     "text": [
      "Training Epoch 1732: 100%|██████████| 258/258 [00:03<00:00, 84.70it/s]\n",
      "Training Epoch 1733: 100%|██████████| 258/258 [00:02<00:00, 88.52it/s]\n",
      "Training Epoch 1734: 100%|██████████| 258/258 [00:02<00:00, 88.38it/s]\n",
      "Training Epoch 1735: 100%|██████████| 258/258 [00:02<00:00, 88.12it/s]\n",
      "Training Epoch 1736: 100%|██████████| 258/258 [00:02<00:00, 86.70it/s]\n",
      "Training Epoch 1737: 100%|██████████| 258/258 [00:03<00:00, 84.41it/s]\n",
      "Training Epoch 1738: 100%|██████████| 258/258 [00:02<00:00, 88.49it/s]\n",
      "Training Epoch 1739: 100%|██████████| 258/258 [00:03<00:00, 82.66it/s]\n",
      "Training Epoch 1740: 100%|██████████| 258/258 [00:02<00:00, 87.50it/s]\n",
      "Training Epoch 1741: 100%|██████████| 258/258 [00:02<00:00, 87.64it/s]\n"
     ]
    },
    {
     "name": "stdout",
     "output_type": "stream",
     "text": [
      "Epoch 1740 - Train Loss: 0.0361, Train MSE: 0.0362, Train MAE: 0.1327\n",
      "Epoch 1740 - Validation Loss: 2.1638, Validation MSE: 2.1775, Validation MAE: 1.0815\n"
     ]
    },
    {
     "name": "stderr",
     "output_type": "stream",
     "text": [
      "Training Epoch 1742: 100%|██████████| 258/258 [00:03<00:00, 84.74it/s]\n",
      "Training Epoch 1743: 100%|██████████| 258/258 [00:02<00:00, 88.26it/s]\n",
      "Training Epoch 1744: 100%|██████████| 258/258 [00:02<00:00, 88.86it/s]\n",
      "Training Epoch 1745: 100%|██████████| 258/258 [00:02<00:00, 86.43it/s]\n",
      "Training Epoch 1746: 100%|██████████| 258/258 [00:02<00:00, 89.00it/s]\n",
      "Training Epoch 1747: 100%|██████████| 258/258 [00:03<00:00, 76.72it/s]\n",
      "Training Epoch 1748: 100%|██████████| 258/258 [00:03<00:00, 85.97it/s]\n",
      "Training Epoch 1749: 100%|██████████| 258/258 [00:02<00:00, 87.97it/s]\n",
      "Training Epoch 1750: 100%|██████████| 258/258 [00:02<00:00, 88.80it/s]\n",
      "Training Epoch 1751: 100%|██████████| 258/258 [00:03<00:00, 85.00it/s]\n"
     ]
    },
    {
     "name": "stdout",
     "output_type": "stream",
     "text": [
      "Epoch 1750 - Train Loss: 0.0336, Train MSE: 0.0337, Train MAE: 0.1293\n",
      "Epoch 1750 - Validation Loss: 2.1365, Validation MSE: 2.1438, Validation MAE: 1.0785\n"
     ]
    },
    {
     "name": "stderr",
     "output_type": "stream",
     "text": [
      "Training Epoch 1752: 100%|██████████| 258/258 [00:02<00:00, 89.91it/s]\n",
      "Training Epoch 1753: 100%|██████████| 258/258 [00:03<00:00, 85.77it/s]\n",
      "Training Epoch 1754: 100%|██████████| 258/258 [00:02<00:00, 87.40it/s]\n",
      "Training Epoch 1755: 100%|██████████| 258/258 [00:02<00:00, 91.34it/s]\n",
      "Training Epoch 1756: 100%|██████████| 258/258 [00:02<00:00, 88.78it/s]\n",
      "Training Epoch 1757: 100%|██████████| 258/258 [00:03<00:00, 84.84it/s]\n",
      "Training Epoch 1758: 100%|██████████| 258/258 [00:02<00:00, 86.05it/s]\n",
      "Training Epoch 1759: 100%|██████████| 258/258 [00:02<00:00, 87.82it/s]\n",
      "Training Epoch 1760: 100%|██████████| 258/258 [00:03<00:00, 82.09it/s]\n",
      "Training Epoch 1761: 100%|██████████| 258/258 [00:02<00:00, 86.54it/s]\n"
     ]
    },
    {
     "name": "stdout",
     "output_type": "stream",
     "text": [
      "Epoch 1760 - Train Loss: 0.0345, Train MSE: 0.0345, Train MAE: 0.1314\n",
      "Epoch 1760 - Validation Loss: 2.0863, Validation MSE: 2.0993, Validation MAE: 1.0650\n"
     ]
    },
    {
     "name": "stderr",
     "output_type": "stream",
     "text": [
      "Training Epoch 1762: 100%|██████████| 258/258 [00:02<00:00, 88.66it/s]\n",
      "Training Epoch 1763: 100%|██████████| 258/258 [00:03<00:00, 85.04it/s]\n",
      "Training Epoch 1764: 100%|██████████| 258/258 [00:02<00:00, 88.34it/s]\n",
      "Training Epoch 1765: 100%|██████████| 258/258 [00:02<00:00, 90.85it/s]\n",
      "Training Epoch 1766: 100%|██████████| 258/258 [00:03<00:00, 79.15it/s]\n",
      "Training Epoch 1767: 100%|██████████| 258/258 [00:03<00:00, 85.98it/s]\n",
      "Training Epoch 1768: 100%|██████████| 258/258 [00:03<00:00, 85.96it/s]\n",
      "Training Epoch 1769: 100%|██████████| 258/258 [00:02<00:00, 87.35it/s]\n",
      "Training Epoch 1770: 100%|██████████| 258/258 [00:02<00:00, 86.90it/s]\n",
      "Training Epoch 1771: 100%|██████████| 258/258 [00:03<00:00, 84.01it/s]\n"
     ]
    },
    {
     "name": "stdout",
     "output_type": "stream",
     "text": [
      "Epoch 1770 - Train Loss: 0.0384, Train MSE: 0.0385, Train MAE: 0.1356\n",
      "Epoch 1770 - Validation Loss: 2.0407, Validation MSE: 2.0508, Validation MAE: 1.0523\n"
     ]
    },
    {
     "name": "stderr",
     "output_type": "stream",
     "text": [
      "Training Epoch 1772: 100%|██████████| 258/258 [00:02<00:00, 88.57it/s]\n",
      "Training Epoch 1773: 100%|██████████| 258/258 [00:03<00:00, 85.11it/s]\n",
      "Training Epoch 1774: 100%|██████████| 258/258 [00:02<00:00, 88.29it/s]\n",
      "Training Epoch 1775: 100%|██████████| 258/258 [00:02<00:00, 86.62it/s]\n",
      "Training Epoch 1776: 100%|██████████| 258/258 [00:02<00:00, 89.44it/s]\n",
      "Training Epoch 1777: 100%|██████████| 258/258 [00:02<00:00, 87.96it/s]\n",
      "Training Epoch 1778: 100%|██████████| 258/258 [00:03<00:00, 81.11it/s]\n",
      "Training Epoch 1779: 100%|██████████| 258/258 [00:02<00:00, 89.47it/s]\n",
      "Training Epoch 1780: 100%|██████████| 258/258 [00:02<00:00, 86.22it/s]\n",
      "Training Epoch 1781: 100%|██████████| 258/258 [00:02<00:00, 86.51it/s]\n"
     ]
    },
    {
     "name": "stdout",
     "output_type": "stream",
     "text": [
      "Epoch 1780 - Train Loss: 0.0358, Train MSE: 0.0359, Train MAE: 0.1310\n",
      "Epoch 1780 - Validation Loss: 2.1215, Validation MSE: 2.1310, Validation MAE: 1.0710\n"
     ]
    },
    {
     "name": "stderr",
     "output_type": "stream",
     "text": [
      "Training Epoch 1782: 100%|██████████| 258/258 [00:02<00:00, 89.65it/s]\n",
      "Training Epoch 1783: 100%|██████████| 258/258 [00:03<00:00, 85.38it/s]\n",
      "Training Epoch 1784: 100%|██████████| 258/258 [00:02<00:00, 86.61it/s]\n",
      "Training Epoch 1785: 100%|██████████| 258/258 [00:02<00:00, 89.19it/s]\n",
      "Training Epoch 1786: 100%|██████████| 258/258 [00:03<00:00, 79.33it/s]\n",
      "Training Epoch 1787: 100%|██████████| 258/258 [00:02<00:00, 88.60it/s]\n",
      "Training Epoch 1788: 100%|██████████| 258/258 [00:02<00:00, 87.62it/s]\n",
      "Training Epoch 1789: 100%|██████████| 258/258 [00:02<00:00, 86.94it/s]\n",
      "Training Epoch 1790: 100%|██████████| 258/258 [00:02<00:00, 86.51it/s]\n",
      "Training Epoch 1791: 100%|██████████| 258/258 [00:03<00:00, 84.31it/s]\n"
     ]
    },
    {
     "name": "stdout",
     "output_type": "stream",
     "text": [
      "Epoch 1790 - Train Loss: 0.0344, Train MSE: 0.0344, Train MAE: 0.1307\n",
      "Epoch 1790 - Validation Loss: 2.1103, Validation MSE: 2.1223, Validation MAE: 1.0721\n"
     ]
    },
    {
     "name": "stderr",
     "output_type": "stream",
     "text": [
      "Training Epoch 1792: 100%|██████████| 258/258 [00:03<00:00, 85.05it/s]\n",
      "Training Epoch 1793: 100%|██████████| 258/258 [00:02<00:00, 86.28it/s]\n",
      "Training Epoch 1794: 100%|██████████| 258/258 [00:03<00:00, 82.24it/s]\n",
      "Training Epoch 1795: 100%|██████████| 258/258 [00:02<00:00, 87.27it/s]\n",
      "Training Epoch 1796: 100%|██████████| 258/258 [00:02<00:00, 88.44it/s]\n",
      "Training Epoch 1797: 100%|██████████| 258/258 [00:02<00:00, 87.71it/s]\n",
      "Training Epoch 1798: 100%|██████████| 258/258 [00:02<00:00, 88.94it/s]\n",
      "Training Epoch 1799: 100%|██████████| 258/258 [00:03<00:00, 85.32it/s]\n",
      "Training Epoch 1800: 100%|██████████| 258/258 [00:02<00:00, 86.83it/s]\n",
      "Training Epoch 1801: 100%|██████████| 258/258 [00:02<00:00, 86.19it/s]\n"
     ]
    },
    {
     "name": "stdout",
     "output_type": "stream",
     "text": [
      "Epoch 1800 - Train Loss: 0.0404, Train MSE: 0.0404, Train MAE: 0.1372\n",
      "Epoch 1800 - Validation Loss: 2.1468, Validation MSE: 2.1612, Validation MAE: 1.0806\n"
     ]
    },
    {
     "name": "stderr",
     "output_type": "stream",
     "text": [
      "Training Epoch 1802: 100%|██████████| 258/258 [00:02<00:00, 86.94it/s]\n",
      "Training Epoch 1803: 100%|██████████| 258/258 [00:02<00:00, 87.54it/s]\n",
      "Training Epoch 1804: 100%|██████████| 258/258 [00:03<00:00, 84.44it/s]\n",
      "Training Epoch 1805: 100%|██████████| 258/258 [00:03<00:00, 82.44it/s]\n",
      "Training Epoch 1806: 100%|██████████| 258/258 [00:03<00:00, 83.19it/s]\n",
      "Training Epoch 1807: 100%|██████████| 258/258 [00:02<00:00, 86.90it/s]\n",
      "Training Epoch 1808: 100%|██████████| 258/258 [00:02<00:00, 89.13it/s]\n",
      "Training Epoch 1809: 100%|██████████| 258/258 [00:03<00:00, 83.41it/s]\n",
      "Training Epoch 1810: 100%|██████████| 258/258 [00:02<00:00, 87.69it/s]\n",
      "Training Epoch 1811: 100%|██████████| 258/258 [00:02<00:00, 89.15it/s]\n"
     ]
    },
    {
     "name": "stdout",
     "output_type": "stream",
     "text": [
      "Epoch 1810 - Train Loss: 0.0377, Train MSE: 0.0378, Train MAE: 0.1362\n",
      "Epoch 1810 - Validation Loss: 2.1783, Validation MSE: 2.1946, Validation MAE: 1.0818\n"
     ]
    },
    {
     "name": "stderr",
     "output_type": "stream",
     "text": [
      "Training Epoch 1812: 100%|██████████| 258/258 [00:02<00:00, 86.55it/s]\n",
      "Training Epoch 1813: 100%|██████████| 258/258 [00:02<00:00, 86.84it/s]\n",
      "Training Epoch 1814: 100%|██████████| 258/258 [00:02<00:00, 86.89it/s]\n",
      "Training Epoch 1815: 100%|██████████| 258/258 [00:03<00:00, 85.66it/s]\n",
      "Training Epoch 1816: 100%|██████████| 258/258 [00:03<00:00, 85.64it/s]\n",
      "Training Epoch 1817: 100%|██████████| 258/258 [00:02<00:00, 88.53it/s]\n",
      "Training Epoch 1818: 100%|██████████| 258/258 [00:02<00:00, 88.43it/s]\n",
      "Training Epoch 1819: 100%|██████████| 258/258 [00:03<00:00, 85.32it/s]\n",
      "Training Epoch 1820: 100%|██████████| 258/258 [00:03<00:00, 85.39it/s]\n",
      "Training Epoch 1821: 100%|██████████| 258/258 [00:02<00:00, 88.21it/s]\n"
     ]
    },
    {
     "name": "stdout",
     "output_type": "stream",
     "text": [
      "Epoch 1820 - Train Loss: 0.0364, Train MSE: 0.0364, Train MAE: 0.1332\n",
      "Epoch 1820 - Validation Loss: 2.1988, Validation MSE: 2.2135, Validation MAE: 1.0920\n"
     ]
    },
    {
     "name": "stderr",
     "output_type": "stream",
     "text": [
      "Training Epoch 1822: 100%|██████████| 258/258 [00:02<00:00, 87.05it/s]\n",
      "Training Epoch 1823: 100%|██████████| 258/258 [00:02<00:00, 87.15it/s]\n",
      "Training Epoch 1824: 100%|██████████| 258/258 [00:03<00:00, 80.91it/s]\n",
      "Training Epoch 1825: 100%|██████████| 258/258 [00:03<00:00, 82.99it/s]\n",
      "Training Epoch 1826: 100%|██████████| 258/258 [00:02<00:00, 86.91it/s]\n",
      "Training Epoch 1827: 100%|██████████| 258/258 [00:03<00:00, 84.82it/s]\n",
      "Training Epoch 1828: 100%|██████████| 258/258 [00:02<00:00, 88.56it/s]\n",
      "Training Epoch 1829: 100%|██████████| 258/258 [00:02<00:00, 88.10it/s]\n",
      "Training Epoch 1830: 100%|██████████| 258/258 [00:03<00:00, 83.52it/s]\n",
      "Training Epoch 1831: 100%|██████████| 258/258 [00:02<00:00, 89.33it/s]\n"
     ]
    },
    {
     "name": "stdout",
     "output_type": "stream",
     "text": [
      "Epoch 1830 - Train Loss: 0.0350, Train MSE: 0.0350, Train MAE: 0.1303\n",
      "Epoch 1830 - Validation Loss: 2.0623, Validation MSE: 2.0779, Validation MAE: 1.0558\n"
     ]
    },
    {
     "name": "stderr",
     "output_type": "stream",
     "text": [
      "Training Epoch 1832: 100%|██████████| 258/258 [00:03<00:00, 85.36it/s]\n",
      "Training Epoch 1833: 100%|██████████| 258/258 [00:02<00:00, 86.62it/s]\n",
      "Training Epoch 1834: 100%|██████████| 258/258 [00:03<00:00, 83.20it/s]\n",
      "Training Epoch 1835: 100%|██████████| 258/258 [00:03<00:00, 83.89it/s]\n",
      "Training Epoch 1836: 100%|██████████| 258/258 [00:02<00:00, 87.67it/s]\n",
      "Training Epoch 1837: 100%|██████████| 258/258 [00:02<00:00, 86.43it/s]\n",
      "Training Epoch 1838: 100%|██████████| 258/258 [00:02<00:00, 88.57it/s]\n",
      "Training Epoch 1839: 100%|██████████| 258/258 [00:02<00:00, 88.50it/s]\n",
      "Training Epoch 1840: 100%|██████████| 258/258 [00:02<00:00, 86.66it/s]\n",
      "Training Epoch 1841: 100%|██████████| 258/258 [00:02<00:00, 86.79it/s]\n"
     ]
    },
    {
     "name": "stdout",
     "output_type": "stream",
     "text": [
      "Epoch 1840 - Train Loss: 0.0351, Train MSE: 0.0351, Train MAE: 0.1300\n",
      "Epoch 1840 - Validation Loss: 2.0656, Validation MSE: 2.0775, Validation MAE: 1.0603\n"
     ]
    },
    {
     "name": "stderr",
     "output_type": "stream",
     "text": [
      "Training Epoch 1842: 100%|██████████| 258/258 [00:03<00:00, 85.66it/s]\n",
      "Training Epoch 1843: 100%|██████████| 258/258 [00:03<00:00, 80.77it/s]\n",
      "Training Epoch 1844: 100%|██████████| 258/258 [00:03<00:00, 80.30it/s]\n",
      "Training Epoch 1845: 100%|██████████| 258/258 [00:03<00:00, 84.37it/s]\n",
      "Training Epoch 1846: 100%|██████████| 258/258 [00:03<00:00, 84.58it/s]\n",
      "Training Epoch 1847: 100%|██████████| 258/258 [00:03<00:00, 81.53it/s]\n",
      "Training Epoch 1848: 100%|██████████| 258/258 [00:03<00:00, 85.96it/s]\n",
      "Training Epoch 1849: 100%|██████████| 258/258 [00:02<00:00, 86.55it/s]\n",
      "Training Epoch 1850: 100%|██████████| 258/258 [00:02<00:00, 86.09it/s]\n",
      "Training Epoch 1851: 100%|██████████| 258/258 [00:02<00:00, 88.59it/s]\n"
     ]
    },
    {
     "name": "stdout",
     "output_type": "stream",
     "text": [
      "Epoch 1850 - Train Loss: 0.0409, Train MSE: 0.0409, Train MAE: 0.1392\n",
      "Epoch 1850 - Validation Loss: 2.1401, Validation MSE: 2.1532, Validation MAE: 1.0770\n"
     ]
    },
    {
     "name": "stderr",
     "output_type": "stream",
     "text": [
      "Training Epoch 1852: 100%|██████████| 258/258 [00:03<00:00, 84.55it/s]\n",
      "Training Epoch 1853: 100%|██████████| 258/258 [00:02<00:00, 87.59it/s]\n",
      "Training Epoch 1854: 100%|██████████| 258/258 [00:03<00:00, 85.68it/s]\n",
      "Training Epoch 1855: 100%|██████████| 258/258 [00:03<00:00, 83.93it/s]\n",
      "Training Epoch 1856: 100%|██████████| 258/258 [00:02<00:00, 88.39it/s]\n",
      "Training Epoch 1857: 100%|██████████| 258/258 [00:02<00:00, 86.75it/s]\n",
      "Training Epoch 1858: 100%|██████████| 258/258 [00:02<00:00, 87.98it/s]\n",
      "Training Epoch 1859: 100%|██████████| 258/258 [00:02<00:00, 87.24it/s]\n",
      "Training Epoch 1860: 100%|██████████| 258/258 [00:02<00:00, 87.80it/s]\n",
      "Training Epoch 1861: 100%|██████████| 258/258 [00:02<00:00, 86.19it/s]\n"
     ]
    },
    {
     "name": "stdout",
     "output_type": "stream",
     "text": [
      "Epoch 1860 - Train Loss: 0.0478, Train MSE: 0.0479, Train MAE: 0.1406\n",
      "Epoch 1860 - Validation Loss: 2.1130, Validation MSE: 2.1216, Validation MAE: 1.0762\n"
     ]
    },
    {
     "name": "stderr",
     "output_type": "stream",
     "text": [
      "Training Epoch 1862: 100%|██████████| 258/258 [00:02<00:00, 86.14it/s]\n",
      "Training Epoch 1863: 100%|██████████| 258/258 [00:03<00:00, 80.15it/s]\n",
      "Training Epoch 1864: 100%|██████████| 258/258 [00:03<00:00, 85.16it/s]\n",
      "Training Epoch 1865: 100%|██████████| 258/258 [00:02<00:00, 87.20it/s]\n",
      "Training Epoch 1866: 100%|██████████| 258/258 [00:03<00:00, 83.06it/s]\n",
      "Training Epoch 1867: 100%|██████████| 258/258 [00:02<00:00, 86.26it/s]\n",
      "Training Epoch 1868: 100%|██████████| 258/258 [00:02<00:00, 87.74it/s]\n",
      "Training Epoch 1869: 100%|██████████| 258/258 [00:03<00:00, 80.68it/s]\n",
      "Training Epoch 1870: 100%|██████████| 258/258 [00:02<00:00, 89.44it/s]\n",
      "Training Epoch 1871: 100%|██████████| 258/258 [00:03<00:00, 85.59it/s]\n"
     ]
    },
    {
     "name": "stdout",
     "output_type": "stream",
     "text": [
      "Epoch 1870 - Train Loss: 0.0492, Train MSE: 0.0491, Train MAE: 0.1540\n",
      "Epoch 1870 - Validation Loss: 2.1230, Validation MSE: 2.1350, Validation MAE: 1.0797\n"
     ]
    },
    {
     "name": "stderr",
     "output_type": "stream",
     "text": [
      "Training Epoch 1872: 100%|██████████| 258/258 [00:03<00:00, 83.76it/s]\n",
      "Training Epoch 1873: 100%|██████████| 258/258 [00:02<00:00, 88.68it/s]\n",
      "Training Epoch 1874: 100%|██████████| 258/258 [00:03<00:00, 85.38it/s]\n",
      "Training Epoch 1875: 100%|██████████| 258/258 [00:03<00:00, 84.69it/s]\n",
      "Training Epoch 1876: 100%|██████████| 258/258 [00:02<00:00, 86.31it/s]\n",
      "Training Epoch 1877: 100%|██████████| 258/258 [00:03<00:00, 85.55it/s]\n",
      "Training Epoch 1878: 100%|██████████| 258/258 [00:02<00:00, 87.06it/s]\n",
      "Training Epoch 1879: 100%|██████████| 258/258 [00:03<00:00, 85.46it/s]\n",
      "Training Epoch 1880: 100%|██████████| 258/258 [00:02<00:00, 89.61it/s]\n",
      "Training Epoch 1881: 100%|██████████| 258/258 [00:03<00:00, 85.95it/s]\n"
     ]
    },
    {
     "name": "stdout",
     "output_type": "stream",
     "text": [
      "Epoch 1880 - Train Loss: 0.0370, Train MSE: 0.0371, Train MAE: 0.1335\n",
      "Epoch 1880 - Validation Loss: 2.0995, Validation MSE: 2.1087, Validation MAE: 1.0640\n"
     ]
    },
    {
     "name": "stderr",
     "output_type": "stream",
     "text": [
      "Training Epoch 1882: 100%|██████████| 258/258 [00:03<00:00, 79.85it/s]\n",
      "Training Epoch 1883: 100%|██████████| 258/258 [00:03<00:00, 85.91it/s]\n",
      "Training Epoch 1884: 100%|██████████| 258/258 [00:03<00:00, 84.61it/s]\n",
      "Training Epoch 1885: 100%|██████████| 258/258 [00:03<00:00, 85.97it/s]\n",
      "Training Epoch 1886: 100%|██████████| 258/258 [00:03<00:00, 80.38it/s]\n",
      "Training Epoch 1887: 100%|██████████| 258/258 [00:02<00:00, 89.40it/s]\n",
      "Training Epoch 1888: 100%|██████████| 258/258 [00:03<00:00, 84.89it/s]\n",
      "Training Epoch 1889: 100%|██████████| 258/258 [00:02<00:00, 86.84it/s]\n",
      "Training Epoch 1890: 100%|██████████| 258/258 [00:02<00:00, 86.60it/s]\n",
      "Training Epoch 1891: 100%|██████████| 258/258 [00:02<00:00, 86.40it/s]\n"
     ]
    },
    {
     "name": "stdout",
     "output_type": "stream",
     "text": [
      "Epoch 1890 - Train Loss: 0.0370, Train MSE: 0.0371, Train MAE: 0.1303\n",
      "Epoch 1890 - Validation Loss: 2.1484, Validation MSE: 2.1648, Validation MAE: 1.0790\n"
     ]
    },
    {
     "name": "stderr",
     "output_type": "stream",
     "text": [
      "Training Epoch 1892: 100%|██████████| 258/258 [00:02<00:00, 86.39it/s]\n",
      "Training Epoch 1893: 100%|██████████| 258/258 [00:02<00:00, 87.41it/s]\n",
      "Training Epoch 1894: 100%|██████████| 258/258 [00:03<00:00, 85.21it/s]\n",
      "Training Epoch 1895: 100%|██████████| 258/258 [00:02<00:00, 86.54it/s]\n",
      "Training Epoch 1896: 100%|██████████| 258/258 [00:02<00:00, 87.30it/s]\n",
      "Training Epoch 1897: 100%|██████████| 258/258 [00:03<00:00, 85.40it/s]\n",
      "Training Epoch 1898: 100%|██████████| 258/258 [00:03<00:00, 84.93it/s]\n",
      "Training Epoch 1899: 100%|██████████| 258/258 [00:02<00:00, 88.11it/s]\n",
      "Training Epoch 1900: 100%|██████████| 258/258 [00:03<00:00, 84.46it/s]\n",
      "Training Epoch 1901: 100%|██████████| 258/258 [00:03<00:00, 80.51it/s]\n"
     ]
    },
    {
     "name": "stdout",
     "output_type": "stream",
     "text": [
      "Epoch 1900 - Train Loss: 0.0341, Train MSE: 0.0342, Train MAE: 0.1281\n",
      "Epoch 1900 - Validation Loss: 2.1228, Validation MSE: 2.1342, Validation MAE: 1.0693\n"
     ]
    },
    {
     "name": "stderr",
     "output_type": "stream",
     "text": [
      "Training Epoch 1902: 100%|██████████| 258/258 [00:03<00:00, 85.46it/s]\n",
      "Training Epoch 1903: 100%|██████████| 258/258 [00:02<00:00, 86.44it/s]\n",
      "Training Epoch 1904: 100%|██████████| 258/258 [00:03<00:00, 85.45it/s]\n",
      "Training Epoch 1905: 100%|██████████| 258/258 [00:02<00:00, 87.67it/s]\n",
      "Training Epoch 1906: 100%|██████████| 258/258 [00:03<00:00, 84.66it/s]\n",
      "Training Epoch 1907: 100%|██████████| 258/258 [00:02<00:00, 88.11it/s]\n",
      "Training Epoch 1908: 100%|██████████| 258/258 [00:02<00:00, 86.10it/s]\n",
      "Training Epoch 1909: 100%|██████████| 258/258 [00:02<00:00, 87.01it/s]\n",
      "Training Epoch 1910: 100%|██████████| 258/258 [00:03<00:00, 85.25it/s]\n",
      "Training Epoch 1911: 100%|██████████| 258/258 [00:03<00:00, 81.42it/s]\n"
     ]
    },
    {
     "name": "stdout",
     "output_type": "stream",
     "text": [
      "Epoch 1910 - Train Loss: 0.0387, Train MSE: 0.0388, Train MAE: 0.1339\n",
      "Epoch 1910 - Validation Loss: 2.1819, Validation MSE: 2.1989, Validation MAE: 1.0891\n"
     ]
    },
    {
     "name": "stderr",
     "output_type": "stream",
     "text": [
      "Training Epoch 1912: 100%|██████████| 258/258 [00:02<00:00, 89.16it/s]\n",
      "Training Epoch 1913: 100%|██████████| 258/258 [00:03<00:00, 85.29it/s]\n",
      "Training Epoch 1914: 100%|██████████| 258/258 [00:03<00:00, 85.11it/s]\n",
      "Training Epoch 1915: 100%|██████████| 258/258 [00:02<00:00, 87.40it/s]\n",
      "Training Epoch 1916: 100%|██████████| 258/258 [00:03<00:00, 84.91it/s]\n",
      "Training Epoch 1917: 100%|██████████| 258/258 [00:03<00:00, 85.86it/s]\n",
      "Training Epoch 1918: 100%|██████████| 258/258 [00:02<00:00, 86.49it/s]\n",
      "Training Epoch 1919: 100%|██████████| 258/258 [00:02<00:00, 88.41it/s]\n",
      "Training Epoch 1920: 100%|██████████| 258/258 [00:03<00:00, 77.54it/s]\n",
      "Training Epoch 1921: 100%|██████████| 258/258 [00:03<00:00, 84.54it/s]\n"
     ]
    },
    {
     "name": "stdout",
     "output_type": "stream",
     "text": [
      "Epoch 1920 - Train Loss: 0.0350, Train MSE: 0.0350, Train MAE: 0.1297\n",
      "Epoch 1920 - Validation Loss: 2.1541, Validation MSE: 2.1625, Validation MAE: 1.0826\n"
     ]
    },
    {
     "name": "stderr",
     "output_type": "stream",
     "text": [
      "Training Epoch 1922: 100%|██████████| 258/258 [00:02<00:00, 87.15it/s]\n",
      "Training Epoch 1923: 100%|██████████| 258/258 [00:03<00:00, 82.12it/s]\n",
      "Training Epoch 1924: 100%|██████████| 258/258 [00:03<00:00, 84.61it/s]\n",
      "Training Epoch 1925: 100%|██████████| 258/258 [00:02<00:00, 86.41it/s]\n",
      "Training Epoch 1926: 100%|██████████| 258/258 [00:02<00:00, 87.22it/s]\n",
      "Training Epoch 1927: 100%|██████████| 258/258 [00:02<00:00, 86.72it/s]\n",
      "Training Epoch 1928: 100%|██████████| 258/258 [00:03<00:00, 85.36it/s]\n",
      "Training Epoch 1929: 100%|██████████| 258/258 [00:02<00:00, 89.21it/s]\n",
      "Training Epoch 1930: 100%|██████████| 258/258 [00:03<00:00, 83.53it/s]\n",
      "Training Epoch 1931: 100%|██████████| 258/258 [00:03<00:00, 84.54it/s]\n"
     ]
    },
    {
     "name": "stdout",
     "output_type": "stream",
     "text": [
      "Epoch 1930 - Train Loss: 0.0342, Train MSE: 0.0343, Train MAE: 0.1278\n",
      "Epoch 1930 - Validation Loss: 2.1472, Validation MSE: 2.1566, Validation MAE: 1.0768\n"
     ]
    },
    {
     "name": "stderr",
     "output_type": "stream",
     "text": [
      "Training Epoch 1932: 100%|██████████| 258/258 [00:02<00:00, 86.81it/s]\n",
      "Training Epoch 1933: 100%|██████████| 258/258 [00:02<00:00, 86.85it/s]\n",
      "Training Epoch 1934: 100%|██████████| 258/258 [00:03<00:00, 84.76it/s]\n",
      "Training Epoch 1935: 100%|██████████| 258/258 [00:02<00:00, 89.14it/s]\n",
      "Training Epoch 1936: 100%|██████████| 258/258 [00:03<00:00, 85.28it/s]\n",
      "Training Epoch 1937: 100%|██████████| 258/258 [00:02<00:00, 86.53it/s]\n",
      "Training Epoch 1938: 100%|██████████| 258/258 [00:02<00:00, 87.16it/s]\n",
      "Training Epoch 1939: 100%|██████████| 258/258 [00:03<00:00, 80.77it/s]\n",
      "Training Epoch 1940: 100%|██████████| 258/258 [00:03<00:00, 84.78it/s]\n",
      "Training Epoch 1941: 100%|██████████| 258/258 [00:02<00:00, 87.81it/s]\n"
     ]
    },
    {
     "name": "stdout",
     "output_type": "stream",
     "text": [
      "Epoch 1940 - Train Loss: 0.0342, Train MSE: 0.0342, Train MAE: 0.1287\n",
      "Epoch 1940 - Validation Loss: 2.2133, Validation MSE: 2.2206, Validation MAE: 1.0980\n"
     ]
    },
    {
     "name": "stderr",
     "output_type": "stream",
     "text": [
      "Training Epoch 1942: 100%|██████████| 258/258 [00:03<00:00, 84.89it/s]\n",
      "Training Epoch 1943: 100%|██████████| 258/258 [00:02<00:00, 86.75it/s]\n",
      "Training Epoch 1944: 100%|██████████| 258/258 [00:02<00:00, 87.49it/s]\n",
      "Training Epoch 1945: 100%|██████████| 258/258 [00:03<00:00, 85.35it/s]\n",
      "Training Epoch 1946: 100%|██████████| 258/258 [00:03<00:00, 84.43it/s]\n",
      "Training Epoch 1947: 100%|██████████| 258/258 [00:03<00:00, 82.94it/s]\n",
      "Training Epoch 1948: 100%|██████████| 258/258 [00:03<00:00, 83.81it/s]\n",
      "Training Epoch 1949: 100%|██████████| 258/258 [00:02<00:00, 87.05it/s]\n",
      "Training Epoch 1950: 100%|██████████| 258/258 [00:03<00:00, 85.86it/s]\n",
      "Training Epoch 1951: 100%|██████████| 258/258 [00:02<00:00, 87.68it/s]\n"
     ]
    },
    {
     "name": "stdout",
     "output_type": "stream",
     "text": [
      "Epoch 1950 - Train Loss: 0.0381, Train MSE: 0.0379, Train MAE: 0.1337\n",
      "Epoch 1950 - Validation Loss: 2.1440, Validation MSE: 2.1557, Validation MAE: 1.0821\n"
     ]
    },
    {
     "name": "stderr",
     "output_type": "stream",
     "text": [
      "Training Epoch 1952: 100%|██████████| 258/258 [00:02<00:00, 87.18it/s]\n",
      "Training Epoch 1953: 100%|██████████| 258/258 [00:02<00:00, 86.41it/s]\n",
      "Training Epoch 1954: 100%|██████████| 258/258 [00:03<00:00, 84.97it/s]\n",
      "Training Epoch 1955: 100%|██████████| 258/258 [00:02<00:00, 88.38it/s]\n",
      "Training Epoch 1956: 100%|██████████| 258/258 [00:03<00:00, 85.90it/s]\n",
      "Training Epoch 1957: 100%|██████████| 258/258 [00:02<00:00, 86.76it/s]\n",
      "Training Epoch 1958: 100%|██████████| 258/258 [00:03<00:00, 75.07it/s]\n",
      "Training Epoch 1959: 100%|██████████| 258/258 [00:03<00:00, 84.44it/s]\n",
      "Training Epoch 1960: 100%|██████████| 258/258 [00:02<00:00, 86.06it/s]\n",
      "Training Epoch 1961: 100%|██████████| 258/258 [00:03<00:00, 85.18it/s]\n"
     ]
    },
    {
     "name": "stdout",
     "output_type": "stream",
     "text": [
      "Epoch 1960 - Train Loss: 0.0319, Train MSE: 0.0319, Train MAE: 0.1262\n",
      "Epoch 1960 - Validation Loss: 2.1767, Validation MSE: 2.1838, Validation MAE: 1.0886\n"
     ]
    },
    {
     "name": "stderr",
     "output_type": "stream",
     "text": [
      "Training Epoch 1962: 100%|██████████| 258/258 [00:03<00:00, 84.90it/s]\n",
      "Training Epoch 1963: 100%|██████████| 258/258 [00:03<00:00, 85.54it/s]\n",
      "Training Epoch 1964: 100%|██████████| 258/258 [00:02<00:00, 86.29it/s]\n",
      "Training Epoch 1965: 100%|██████████| 258/258 [00:02<00:00, 87.04it/s]\n",
      "Training Epoch 1966: 100%|██████████| 258/258 [00:03<00:00, 83.60it/s]\n",
      "Training Epoch 1967: 100%|██████████| 258/258 [00:03<00:00, 83.16it/s]\n",
      "Training Epoch 1968: 100%|██████████| 258/258 [00:03<00:00, 85.50it/s]\n",
      "Training Epoch 1969: 100%|██████████| 258/258 [00:02<00:00, 87.54it/s]\n",
      "Training Epoch 1970: 100%|██████████| 258/258 [00:03<00:00, 85.12it/s]\n",
      "Training Epoch 1971: 100%|██████████| 258/258 [00:02<00:00, 87.44it/s]\n"
     ]
    },
    {
     "name": "stdout",
     "output_type": "stream",
     "text": [
      "Epoch 1970 - Train Loss: 0.0447, Train MSE: 0.0447, Train MAE: 0.1438\n",
      "Epoch 1970 - Validation Loss: 2.1574, Validation MSE: 2.1709, Validation MAE: 1.0839\n"
     ]
    },
    {
     "name": "stderr",
     "output_type": "stream",
     "text": [
      "Training Epoch 1972: 100%|██████████| 258/258 [00:02<00:00, 88.32it/s]\n",
      "Training Epoch 1973: 100%|██████████| 258/258 [00:03<00:00, 82.15it/s]\n",
      "Training Epoch 1974: 100%|██████████| 258/258 [00:02<00:00, 90.50it/s]\n",
      "Training Epoch 1975: 100%|██████████| 258/258 [00:02<00:00, 88.31it/s]\n",
      "Training Epoch 1976: 100%|██████████| 258/258 [00:03<00:00, 83.30it/s]\n",
      "Training Epoch 1977: 100%|██████████| 258/258 [00:02<00:00, 89.16it/s]\n",
      "Training Epoch 1978: 100%|██████████| 258/258 [00:03<00:00, 75.76it/s]\n",
      "Training Epoch 1979: 100%|██████████| 258/258 [00:02<00:00, 86.68it/s]\n",
      "Training Epoch 1980: 100%|██████████| 258/258 [00:02<00:00, 86.15it/s]\n",
      "Training Epoch 1981: 100%|██████████| 258/258 [00:03<00:00, 84.53it/s]\n"
     ]
    },
    {
     "name": "stdout",
     "output_type": "stream",
     "text": [
      "Epoch 1980 - Train Loss: 0.0343, Train MSE: 0.0343, Train MAE: 0.1289\n",
      "Epoch 1980 - Validation Loss: 2.1562, Validation MSE: 2.1684, Validation MAE: 1.0910\n"
     ]
    },
    {
     "name": "stderr",
     "output_type": "stream",
     "text": [
      "Training Epoch 1982: 100%|██████████| 258/258 [00:02<00:00, 86.69it/s]\n",
      "Training Epoch 1983: 100%|██████████| 258/258 [00:03<00:00, 83.08it/s]\n",
      "Training Epoch 1984: 100%|██████████| 258/258 [00:02<00:00, 87.46it/s]\n",
      "Training Epoch 1985: 100%|██████████| 258/258 [00:02<00:00, 88.92it/s]\n",
      "Training Epoch 1986: 100%|██████████| 258/258 [00:03<00:00, 81.09it/s]\n",
      "Training Epoch 1987: 100%|██████████| 258/258 [00:02<00:00, 86.76it/s]\n",
      "Training Epoch 1988: 100%|██████████| 258/258 [00:03<00:00, 85.15it/s]\n",
      "Training Epoch 1989: 100%|██████████| 258/258 [00:02<00:00, 86.06it/s]\n",
      "Training Epoch 1990: 100%|██████████| 258/258 [00:02<00:00, 86.05it/s]\n",
      "Training Epoch 1991: 100%|██████████| 258/258 [00:02<00:00, 87.50it/s]\n"
     ]
    },
    {
     "name": "stdout",
     "output_type": "stream",
     "text": [
      "Epoch 1990 - Train Loss: 0.0350, Train MSE: 0.0351, Train MAE: 0.1294\n",
      "Epoch 1990 - Validation Loss: 2.1419, Validation MSE: 2.1472, Validation MAE: 1.0782\n"
     ]
    },
    {
     "name": "stderr",
     "output_type": "stream",
     "text": [
      "Training Epoch 1992: 100%|██████████| 258/258 [00:03<00:00, 82.76it/s]\n",
      "Training Epoch 1993: 100%|██████████| 258/258 [00:03<00:00, 86.00it/s]\n",
      "Training Epoch 1994: 100%|██████████| 258/258 [00:02<00:00, 88.24it/s]\n",
      "Training Epoch 1995: 100%|██████████| 258/258 [00:03<00:00, 85.21it/s]\n",
      "Training Epoch 1996: 100%|██████████| 258/258 [00:02<00:00, 87.39it/s]\n",
      "Training Epoch 1997: 100%|██████████| 258/258 [00:03<00:00, 80.87it/s]\n",
      "Training Epoch 1998: 100%|██████████| 258/258 [00:03<00:00, 82.63it/s]\n",
      "Training Epoch 1999: 100%|██████████| 258/258 [00:02<00:00, 87.89it/s]\n",
      "Training Epoch 2000: 100%|██████████| 258/258 [00:03<00:00, 85.65it/s]\n"
     ]
    },
    {
     "name": "stdout",
     "output_type": "stream",
     "text": [
      "Test MSE: 1.8238, Test MAE: 0.9892\n"
     ]
    }
   ],
   "source": [
    "train_history_2 = pd.DataFrame(columns=[  'epoch',\n",
    "    'Train Loss', 'Train MSE', 'Train MAE', 'Train RMSE', 'Train R2', 'Train Pearson', 'Train Median_AE', 'Train Explained_VAR'\n",
    "    'Val Loss', 'Val MSE', 'Val MAE', 'Val RMSE', 'Val R2', 'Val Pearson', 'Val Median_AE', 'Val Explained_VAR'])\n",
    "# Verify feature dimensions\n",
    "for batch in train_loader_mols:\n",
    "    mol_input_dim = batch['metabolite_features'].shape[1]  # Dynamically determine mol input dimension\n",
    "    protein_input_dim = batch['protein_features'].shape[1]  # Dynamically determine protein input dimension\n",
    "    break\n",
    "\n",
    "# Initialize model, optimizer, and loss function\n",
    "num_timesteps = 10\n",
    "model_2 = TransformerRegressor(mol_input_dim=mol_input_dim, protein_input_dim=protein_input_dim)\n",
    "model_2 = model_2.to(device)\n",
    "optimizer_2 = optim.Adam(model_2.parameters(), lr=0.0001)\n",
    "criterion = nn.MSELoss()\n",
    "\n",
    "# Training and Validation Loop\n",
    "for epoch in range(2000):\n",
    "    model_2.train()\n",
    "    total_loss = 0.0\n",
    "    val_total_loss = 0.0\n",
    "    train_predictions, train_labels = [], []\n",
    "\n",
    "    for batch in tqdm(train_loader_mols, desc=f\"Training Epoch {epoch + 1}\"):\n",
    "        mol_features = batch['metabolite_features'].to(device)\n",
    "        protein_features = batch['protein_features'].to(device)\n",
    "        labels = batch['label'].to(device)\n",
    "\n",
    "        optimizer_2.zero_grad()\n",
    "        outputs = model_2(mol_features, protein_features)\n",
    "        loss = criterion(outputs, labels)\n",
    "        loss.backward()\n",
    "        optimizer_2.step()\n",
    "        total_loss += loss.item()\n",
    "\n",
    "        # Store predictions and labels for metrics\n",
    "        train_predictions.extend(outputs.detach().cpu().numpy())\n",
    "        train_labels.extend(labels.cpu().numpy())\n",
    "\n",
    "    # Calculate training metrics\n",
    "    train_mse = ((torch.tensor(train_predictions) - torch.tensor(train_labels))**2).mean().item()\n",
    "    train_mae = torch.abs(torch.tensor(train_predictions) - torch.tensor(train_labels)).mean().item()\n",
    "    train_rmse = torch.sqrt((torch.tensor(train_predictions) - torch.tensor(train_labels)) ** 2).mean().item()\n",
    "    train_r2 = r2_score(np.array(train_labels), np.array(train_predictions))\n",
    "    train_pearson_corr, _ = pearsonr(np.array(train_labels), np.array(train_predictions))\n",
    "    train_median_ae = median_absolute_error(np.array(train_labels), np.array(train_predictions))\n",
    "    train_explained_var = explained_variance_score(np.array(train_labels), np.array(train_predictions))\n",
    "\n",
    "\n",
    "\n",
    "    if epoch % 10 == 0:\n",
    "        print(f\"Epoch {epoch} - Train Loss: {total_loss / len(train_loader_mols):.4f}, Train MSE: {train_mse:.4f}, Train MAE: {train_mae:.4f}\")\n",
    "\n",
    "    # Validation\n",
    "    model_2.eval()\n",
    "    val_predictions, val_labels = [], []\n",
    "    with torch.no_grad():\n",
    "        for batch in val_loader_mols:\n",
    "            mol_features = batch['metabolite_features'].to(device)\n",
    "            protein_features = batch['protein_features'].to(device)\n",
    "            labels = batch['label'].to(device)\n",
    "\n",
    "            outputs = model_2(mol_features, protein_features)\n",
    "            val_predictions.extend(outputs.cpu().numpy())\n",
    "            val_labels.extend(labels.cpu().numpy())\n",
    "            val_loss = criterion(outputs, labels)\n",
    "            val_total_loss += val_loss.item()\n",
    "\n",
    "    val_mse = ((torch.tensor(val_predictions) - torch.tensor(val_labels))**2).mean().item()\n",
    "    val_mae = torch.abs(torch.tensor(val_predictions) - torch.tensor(val_labels)).mean().item()\n",
    "    val_rmse = torch.sqrt((torch.tensor(val_predictions) - torch.tensor(val_labels)) ** 2).mean().item()\n",
    "    val_r2 = r2_score(np.array(val_labels), np.array(val_predictions))\n",
    "    val_pearson_corr, _ = pearsonr(np.array(val_labels), np.array(val_predictions))\n",
    "    val_median_ae = median_absolute_error(np.array(val_labels), np.array(val_predictions))\n",
    "    val_explained_var = explained_variance_score(np.array(val_labels), np.array(val_predictions))\n",
    "\n",
    "    if epoch % 10 == 0:\n",
    "        print(f\"Epoch {epoch} - Validation Loss: {val_total_loss / len(val_loader_mols):.4f}, Validation MSE: {val_mse:.4f}, Validation MAE: {val_mae:.4f}\")\n",
    "\n",
    "    # Save metrics to DataFrame\n",
    "    new_row = {'epoch': epoch + 1, 'Train Loss': total_loss / len(train_loader_mols), 'Train MSE': train_mse, 'Train MAE': train_mae, 'Train RMSE': train_rmse, 'Train R2': train_r2, 'Train Pearson': train_pearson_corr, 'Train Median_AE': train_median_ae, 'Train Explained_VAR': train_explained_var, \n",
    "               'Val Loss': val_total_loss / len(val_loader_mols), 'Val MSE': val_mse, 'Val MAE': val_mae, 'Val RMSE': val_rmse, 'Val R2': val_r2, 'Val Pearson': val_pearson_corr, 'Val Median_AE': val_median_ae, 'Val Explained_VAR': val_explained_var}\n",
    "    train_history_2 = pd.concat([train_history_2, pd.DataFrame([new_row])], ignore_index=True)\n",
    "\n"
   ]
  },
  {
   "cell_type": "code",
   "execution_count": 14,
   "metadata": {},
   "outputs": [],
   "source": [
    "for batch in train_loader_mols:\n",
    "    mol_input_dim = batch['metabolite_features'].shape[1]  # Dynamically determine mol input dimension\n",
    "    protein_input_dim = batch['protein_features'].shape[1]  # Dynamically determine protein input dimension\n",
    "    break\n",
    "\n",
    "model = TransformerRegressor(mol_input_dim=mol_input_dim, protein_input_dim=protein_input_dim)\n",
    "model.load_state_dict(torch.load('/Users/pinchichen/2025S lab/AI drug project/Catpred/Ki/trained_model/cold_mols/Transformer model_Catpred_Ki_cold_mols.pt'))\n",
    "model = model.to(device)"
   ]
  },
  {
   "cell_type": "code",
   "execution_count": 15,
   "metadata": {},
   "outputs": [
    {
     "name": "stdout",
     "output_type": "stream",
     "text": [
      "Test MSE: 1.8238, Test RMSE: 1.350464833, Test MAE: 0.9892, Test R2: 0.5280, Test Pearson Correlation: 0.7400, Test Median AE: 0.7137, Test Explained Variance: 0.5280\n"
     ]
    }
   ],
   "source": [
    "\n",
    "# Test Metrics\n",
    "model.eval()\n",
    "test_predictions, test_labels = [], []\n",
    "with torch.no_grad():\n",
    "    for batch in test_loader_mols:\n",
    "        mol_features = batch['metabolite_features'].to(device)\n",
    "        protein_features = batch['protein_features'].to(device)\n",
    "        labels = batch['label'].to(device)\n",
    "\n",
    "        outputs = model(mol_features, protein_features)\n",
    "        test_predictions.extend(outputs.cpu().numpy())\n",
    "        test_labels.extend(labels.cpu().numpy())\n",
    "\n",
    "test_mse = ((torch.tensor(test_predictions) - torch.tensor(test_labels))**2).mean().item()\n",
    "test_mae = torch.abs(torch.tensor(test_predictions) - torch.tensor(test_labels)).mean().item()\n",
    "test_rmse = np.sqrt(test_mse)\n",
    "test_r2 = r2_score(np.array(test_labels), np.array(test_predictions))\n",
    "test_pearson_corr, _ = pearsonr(np.array(test_labels), np.array(test_predictions))\n",
    "test_median_ae = median_absolute_error(np.array(test_labels), np.array(test_predictions))\n",
    "test_explained_var = explained_variance_score(np.array(test_labels), np.array(test_predictions))\n",
    "\n",
    "print(f\"Test MSE: {test_mse:.4f}, Test RMSE: {test_rmse:.9f}, Test MAE: {test_mae:.4f}, Test R2: {test_r2:.4f}, Test Pearson Correlation: {test_pearson_corr:.4f}, Test Median AE: {test_median_ae:.4f}, Test Explained Variance: {test_explained_var:.4f}\")"
   ]
  },
  {
   "cell_type": "code",
   "execution_count": 17,
   "metadata": {},
   "outputs": [],
   "source": [
    "model.eval()\n",
    "train_pred, train_labels = [], []\n",
    "with torch.no_grad():\n",
    "    for batch in train_loader_mols:\n",
    "        mol_features = batch['metabolite_features'].to(device)\n",
    "        protein_features = batch['protein_features'].to(device)\n",
    "        labels = batch['label'].to(device)\n",
    "\n",
    "        outputs = model(mol_features, protein_features)\n",
    "        train_pred.extend(outputs.cpu().numpy())\n",
    "        train_labels.extend(labels.cpu().numpy())\n",
    "\n",
    "train_mse, train_rmse, train_mae, train_r2, train_pearson_corr, train_median_ae, train_explained_var = evaluate_model(train_pred, train_labels)"
   ]
  },
  {
   "cell_type": "code",
   "execution_count": 18,
   "metadata": {},
   "outputs": [],
   "source": [
    "model.eval()\n",
    "val_pred, val_labels = [], []\n",
    "with torch.no_grad():\n",
    "    for batch in val_loader_mols:\n",
    "        mol_features = batch['metabolite_features'].to(device)\n",
    "        protein_features = batch['protein_features'].to(device)\n",
    "        labels = batch['label'].to(device)\n",
    "\n",
    "        outputs = model(mol_features, protein_features)\n",
    "        val_pred.extend(outputs.cpu().numpy())\n",
    "        val_labels.extend(labels.cpu().numpy())\n",
    "\n",
    "val_mse, val_rmse, val_mae, val_r2, val_pearson_corr, val_median_ae, val_explained_var = evaluate_model(val_pred, val_labels)\n"
   ]
  },
  {
   "cell_type": "code",
   "execution_count": 19,
   "metadata": {},
   "outputs": [],
   "source": [
    "# append the performance to the csv file\n",
    "df = {\n",
    "    'Model':['Transformer','Transformer','Transformer'],\n",
    "    'Dataset':['Train','Validation','Test'],\n",
    "    'MSE':[train_mse,val_mse,test_mse],\n",
    "    'RMSE':[train_rmse,val_rmse,test_rmse],\n",
    "    'MAE':[train_mae,val_mae,test_mae],\n",
    "    'R2':[train_r2,val_r2,test_r2],\n",
    "    'Pearson':[train_pearson_corr,val_pearson_corr,test_pearson_corr],\n",
    "    'Median_AE':[train_median_ae,val_median_ae,test_median_ae],\n",
    "    'Explained_VAR':[train_explained_var,val_explained_var,test_explained_var],\n",
    "    'Dataspliting Mode':['cold mols','cold mols','cold mols']\n",
    "}\n",
    "df = pd.DataFrame(df)\n",
    "\n",
    "df.to_csv('/Users/pinchichen/2025S lab/AI drug project/Catpred/Ki/model performance metrics_Catpred_Ki.csv', mode='a', header=False)"
   ]
  },
  {
   "cell_type": "code",
   "execution_count": 14,
   "metadata": {},
   "outputs": [],
   "source": [
    "# Save the model and training history\n",
    "save_dir = '/Users/pinchichen/2025S lab/AI drug project/Catpred/Ki/trained_model/cold_mols'\n",
    "# save model weights and optimizer state\n",
    "torch.save(model_2.state_dict(), os.path.join(save_dir, 'Transformer model_Catpred_Ki_cold_mols.pt'))\n",
    "torch.save(optimizer_2.state_dict(), os.path.join(save_dir, 'Transformer optimizer_Catpred_Ki_cold_mols.pt'))"
   ]
  }
 ],
 "metadata": {
  "kernelspec": {
   "display_name": "base",
   "language": "python",
   "name": "python3"
  },
  "language_info": {
   "codemirror_mode": {
    "name": "ipython",
    "version": 3
   },
   "file_extension": ".py",
   "mimetype": "text/x-python",
   "name": "python",
   "nbconvert_exporter": "python",
   "pygments_lexer": "ipython3",
   "version": "3.12.2"
  }
 },
 "nbformat": 4,
 "nbformat_minor": 2
}
