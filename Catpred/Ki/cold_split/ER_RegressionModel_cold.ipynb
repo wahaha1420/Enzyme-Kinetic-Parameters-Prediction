{
 "cells": [
  {
   "cell_type": "code",
   "execution_count": 1,
   "metadata": {},
   "outputs": [],
   "source": [
    "import pandas as pd\n",
    "import numpy as np\n",
    "from tqdm import tqdm\n",
    "import torch\n",
    "import torch.nn as nn\n",
    "import torch.optim as optim\n",
    "from torch.utils.data import DataLoader, Dataset\n",
    "from sklearn.metrics import roc_auc_score\n",
    "from sklearn.model_selection import train_test_split\n",
    "import os\n"
   ]
  },
  {
   "cell_type": "code",
   "execution_count": 2,
   "metadata": {},
   "outputs": [
    {
     "data": {
      "text/html": [
       "<div>\n",
       "<style scoped>\n",
       "    .dataframe tbody tr th:only-of-type {\n",
       "        vertical-align: middle;\n",
       "    }\n",
       "\n",
       "    .dataframe tbody tr th {\n",
       "        vertical-align: top;\n",
       "    }\n",
       "\n",
       "    .dataframe thead th {\n",
       "        text-align: right;\n",
       "    }\n",
       "</style>\n",
       "<table border=\"1\" class=\"dataframe\">\n",
       "  <thead>\n",
       "    <tr style=\"text-align: right;\">\n",
       "      <th></th>\n",
       "      <th>Sequence</th>\n",
       "      <th>sequence_source</th>\n",
       "      <th>uniprot</th>\n",
       "      <th>Smiles</th>\n",
       "      <th>value</th>\n",
       "      <th>ec</th>\n",
       "      <th>log10_value</th>\n",
       "      <th>log10ki_mean</th>\n",
       "      <th>metabolite_features</th>\n",
       "      <th>protein_features</th>\n",
       "    </tr>\n",
       "  </thead>\n",
       "  <tbody>\n",
       "    <tr>\n",
       "      <th>0</th>\n",
       "      <td>MHTKGPTPQQHDGSALRIGIVHARWNETIIEPLLAGTKAKLLACGV...</td>\n",
       "      <td>uniprot_search</td>\n",
       "      <td>A0A6P8BCR9</td>\n",
       "      <td>O=c1n(C[C@H](O)[C@H](O)[C@H](O)CO)c2nc(O)nc(O)...</td>\n",
       "      <td>0.000002</td>\n",
       "      <td>2.5.1.78</td>\n",
       "      <td>-5.698970</td>\n",
       "      <td>-5.698970</td>\n",
       "      <td>[0.17249086, -0.23665705, -0.11737049, -0.0940...</td>\n",
       "      <td>[0.026722027, -0.06119407, 0.041440543, -0.109...</td>\n",
       "    </tr>\n",
       "    <tr>\n",
       "      <th>1</th>\n",
       "      <td>MASPDWGYDDKNGPEQWSKLYPIANGNNQSPVDIKTSETKHDTSLK...</td>\n",
       "      <td>brenda</td>\n",
       "      <td>P00915</td>\n",
       "      <td>CN1CCN(C(=O)c2ccc(S(N)(=O)=O)cc2)[C@@H](Cc2ccc...</td>\n",
       "      <td>0.000707</td>\n",
       "      <td>4.2.1.1</td>\n",
       "      <td>-3.150581</td>\n",
       "      <td>-3.150581</td>\n",
       "      <td>[0.4240491, 0.28231123, 0.2642891, -0.7667821,...</td>\n",
       "      <td>[-0.029181704, -0.12635791, 0.10866662, 0.0339...</td>\n",
       "    </tr>\n",
       "    <tr>\n",
       "      <th>2</th>\n",
       "      <td>MLDDIRGFMNTFSETMFMDVINYSLTRDRYDSVFLQRQNYRDLGQL...</td>\n",
       "      <td>brenda</td>\n",
       "      <td>Q9HLD0</td>\n",
       "      <td>C[C@H]1O[C@H](O[C@H]2[C@H](O)[C@@H](O)[C@@H](O...</td>\n",
       "      <td>0.002990</td>\n",
       "      <td>3.2.1.20</td>\n",
       "      <td>-2.524329</td>\n",
       "      <td>-2.524329</td>\n",
       "      <td>[0.50005734, 0.3923428, 0.064121775, -0.635894...</td>\n",
       "      <td>[0.02874529, -0.17312695, -0.0026887748, 0.035...</td>\n",
       "    </tr>\n",
       "    <tr>\n",
       "      <th>3</th>\n",
       "      <td>MKLMENIFDLAKANKKKIVLAEGEEERNIRASEEIIKDGIADIILV...</td>\n",
       "      <td>uniprot_search</td>\n",
       "      <td>A0A1L5F6Z9</td>\n",
       "      <td>CCN=C(O)CCN=C(O)[C@H](O)C(C)(C)COP(=O)(O)OP(=O...</td>\n",
       "      <td>0.020000</td>\n",
       "      <td>2.3.1.8</td>\n",
       "      <td>-1.698970</td>\n",
       "      <td>-1.698970</td>\n",
       "      <td>[0.28353548, 0.018489605, -0.5459905, -0.34693...</td>\n",
       "      <td>[-0.06555556, 0.04763434, 0.031432115, 0.17143...</td>\n",
       "    </tr>\n",
       "    <tr>\n",
       "      <th>4</th>\n",
       "      <td>MAKRIVEPFRIKMVEKIRVPSREEREAALKEAGYNPFLLPSSAVYI...</td>\n",
       "      <td>sabio</td>\n",
       "      <td>P28796</td>\n",
       "      <td>CC(N)C(=O)O</td>\n",
       "      <td>24.500000</td>\n",
       "      <td>4.1.99.1</td>\n",
       "      <td>1.389166</td>\n",
       "      <td>1.419631</td>\n",
       "      <td>[0.051456872, 0.35619217, 0.10593035, -1.04098...</td>\n",
       "      <td>[0.049294557, -0.043596543, 0.0546125, 0.35600...</td>\n",
       "    </tr>\n",
       "  </tbody>\n",
       "</table>\n",
       "</div>"
      ],
      "text/plain": [
       "                                            Sequence sequence_source  \\\n",
       "0  MHTKGPTPQQHDGSALRIGIVHARWNETIIEPLLAGTKAKLLACGV...  uniprot_search   \n",
       "1  MASPDWGYDDKNGPEQWSKLYPIANGNNQSPVDIKTSETKHDTSLK...          brenda   \n",
       "2  MLDDIRGFMNTFSETMFMDVINYSLTRDRYDSVFLQRQNYRDLGQL...          brenda   \n",
       "3  MKLMENIFDLAKANKKKIVLAEGEEERNIRASEEIIKDGIADIILV...  uniprot_search   \n",
       "4  MAKRIVEPFRIKMVEKIRVPSREEREAALKEAGYNPFLLPSSAVYI...           sabio   \n",
       "\n",
       "      uniprot                                             Smiles      value  \\\n",
       "0  A0A6P8BCR9  O=c1n(C[C@H](O)[C@H](O)[C@H](O)CO)c2nc(O)nc(O)...   0.000002   \n",
       "1      P00915  CN1CCN(C(=O)c2ccc(S(N)(=O)=O)cc2)[C@@H](Cc2ccc...   0.000707   \n",
       "2      Q9HLD0  C[C@H]1O[C@H](O[C@H]2[C@H](O)[C@@H](O)[C@@H](O...   0.002990   \n",
       "3  A0A1L5F6Z9  CCN=C(O)CCN=C(O)[C@H](O)C(C)(C)COP(=O)(O)OP(=O...   0.020000   \n",
       "4      P28796                                        CC(N)C(=O)O  24.500000   \n",
       "\n",
       "         ec  log10_value  log10ki_mean  \\\n",
       "0  2.5.1.78    -5.698970     -5.698970   \n",
       "1   4.2.1.1    -3.150581     -3.150581   \n",
       "2  3.2.1.20    -2.524329     -2.524329   \n",
       "3   2.3.1.8    -1.698970     -1.698970   \n",
       "4  4.1.99.1     1.389166      1.419631   \n",
       "\n",
       "                                 metabolite_features  \\\n",
       "0  [0.17249086, -0.23665705, -0.11737049, -0.0940...   \n",
       "1  [0.4240491, 0.28231123, 0.2642891, -0.7667821,...   \n",
       "2  [0.50005734, 0.3923428, 0.064121775, -0.635894...   \n",
       "3  [0.28353548, 0.018489605, -0.5459905, -0.34693...   \n",
       "4  [0.051456872, 0.35619217, 0.10593035, -1.04098...   \n",
       "\n",
       "                                    protein_features  \n",
       "0  [0.026722027, -0.06119407, 0.041440543, -0.109...  \n",
       "1  [-0.029181704, -0.12635791, 0.10866662, 0.0339...  \n",
       "2  [0.02874529, -0.17312695, -0.0026887748, 0.035...  \n",
       "3  [-0.06555556, 0.04763434, 0.031432115, 0.17143...  \n",
       "4  [0.049294557, -0.043596543, 0.0546125, 0.35600...  "
      ]
     },
     "execution_count": 2,
     "metadata": {},
     "output_type": "execute_result"
    }
   ],
   "source": [
    "import joblib\n",
    "import pandas as pd\n",
    "\n",
    "data_ki = joblib.load('/Users/pinchichen/2025S lab/AI drug project/Catpred/dataset/ki/ki_with_features.joblib')\n",
    "data_ki.head()"
   ]
  },
  {
   "cell_type": "code",
   "execution_count": 3,
   "metadata": {},
   "outputs": [
    {
     "data": {
      "text/html": [
       "<div>\n",
       "<style scoped>\n",
       "    .dataframe tbody tr th:only-of-type {\n",
       "        vertical-align: middle;\n",
       "    }\n",
       "\n",
       "    .dataframe tbody tr th {\n",
       "        vertical-align: top;\n",
       "    }\n",
       "\n",
       "    .dataframe thead th {\n",
       "        text-align: right;\n",
       "    }\n",
       "</style>\n",
       "<table border=\"1\" class=\"dataframe\">\n",
       "  <thead>\n",
       "    <tr style=\"text-align: right;\">\n",
       "      <th></th>\n",
       "      <th>Sequence</th>\n",
       "      <th>sequence_source</th>\n",
       "      <th>uniprot</th>\n",
       "      <th>Smiles</th>\n",
       "      <th>value</th>\n",
       "      <th>ec</th>\n",
       "      <th>log10_value</th>\n",
       "      <th>label</th>\n",
       "      <th>metabolite_features</th>\n",
       "      <th>protein_features</th>\n",
       "    </tr>\n",
       "  </thead>\n",
       "  <tbody>\n",
       "    <tr>\n",
       "      <th>0</th>\n",
       "      <td>MHTKGPTPQQHDGSALRIGIVHARWNETIIEPLLAGTKAKLLACGV...</td>\n",
       "      <td>uniprot_search</td>\n",
       "      <td>A0A6P8BCR9</td>\n",
       "      <td>O=c1n(C[C@H](O)[C@H](O)[C@H](O)CO)c2nc(O)nc(O)...</td>\n",
       "      <td>0.000002</td>\n",
       "      <td>2.5.1.78</td>\n",
       "      <td>-5.698970</td>\n",
       "      <td>-5.698970</td>\n",
       "      <td>[0.17249086, -0.23665705, -0.11737049, -0.0940...</td>\n",
       "      <td>[0.026722027, -0.06119407, 0.041440543, -0.109...</td>\n",
       "    </tr>\n",
       "    <tr>\n",
       "      <th>1</th>\n",
       "      <td>MASPDWGYDDKNGPEQWSKLYPIANGNNQSPVDIKTSETKHDTSLK...</td>\n",
       "      <td>brenda</td>\n",
       "      <td>P00915</td>\n",
       "      <td>CN1CCN(C(=O)c2ccc(S(N)(=O)=O)cc2)[C@@H](Cc2ccc...</td>\n",
       "      <td>0.000707</td>\n",
       "      <td>4.2.1.1</td>\n",
       "      <td>-3.150581</td>\n",
       "      <td>-3.150581</td>\n",
       "      <td>[0.4240491, 0.28231123, 0.2642891, -0.7667821,...</td>\n",
       "      <td>[-0.029181704, -0.12635791, 0.10866662, 0.0339...</td>\n",
       "    </tr>\n",
       "    <tr>\n",
       "      <th>2</th>\n",
       "      <td>MLDDIRGFMNTFSETMFMDVINYSLTRDRYDSVFLQRQNYRDLGQL...</td>\n",
       "      <td>brenda</td>\n",
       "      <td>Q9HLD0</td>\n",
       "      <td>C[C@H]1O[C@H](O[C@H]2[C@H](O)[C@@H](O)[C@@H](O...</td>\n",
       "      <td>0.002990</td>\n",
       "      <td>3.2.1.20</td>\n",
       "      <td>-2.524329</td>\n",
       "      <td>-2.524329</td>\n",
       "      <td>[0.50005734, 0.3923428, 0.064121775, -0.635894...</td>\n",
       "      <td>[0.02874529, -0.17312695, -0.0026887748, 0.035...</td>\n",
       "    </tr>\n",
       "    <tr>\n",
       "      <th>3</th>\n",
       "      <td>MKLMENIFDLAKANKKKIVLAEGEEERNIRASEEIIKDGIADIILV...</td>\n",
       "      <td>uniprot_search</td>\n",
       "      <td>A0A1L5F6Z9</td>\n",
       "      <td>CCN=C(O)CCN=C(O)[C@H](O)C(C)(C)COP(=O)(O)OP(=O...</td>\n",
       "      <td>0.020000</td>\n",
       "      <td>2.3.1.8</td>\n",
       "      <td>-1.698970</td>\n",
       "      <td>-1.698970</td>\n",
       "      <td>[0.28353548, 0.018489605, -0.5459905, -0.34693...</td>\n",
       "      <td>[-0.06555556, 0.04763434, 0.031432115, 0.17143...</td>\n",
       "    </tr>\n",
       "    <tr>\n",
       "      <th>4</th>\n",
       "      <td>MAKRIVEPFRIKMVEKIRVPSREEREAALKEAGYNPFLLPSSAVYI...</td>\n",
       "      <td>sabio</td>\n",
       "      <td>P28796</td>\n",
       "      <td>CC(N)C(=O)O</td>\n",
       "      <td>24.500000</td>\n",
       "      <td>4.1.99.1</td>\n",
       "      <td>1.389166</td>\n",
       "      <td>1.419631</td>\n",
       "      <td>[0.051456872, 0.35619217, 0.10593035, -1.04098...</td>\n",
       "      <td>[0.049294557, -0.043596543, 0.0546125, 0.35600...</td>\n",
       "    </tr>\n",
       "  </tbody>\n",
       "</table>\n",
       "</div>"
      ],
      "text/plain": [
       "                                            Sequence sequence_source  \\\n",
       "0  MHTKGPTPQQHDGSALRIGIVHARWNETIIEPLLAGTKAKLLACGV...  uniprot_search   \n",
       "1  MASPDWGYDDKNGPEQWSKLYPIANGNNQSPVDIKTSETKHDTSLK...          brenda   \n",
       "2  MLDDIRGFMNTFSETMFMDVINYSLTRDRYDSVFLQRQNYRDLGQL...          brenda   \n",
       "3  MKLMENIFDLAKANKKKIVLAEGEEERNIRASEEIIKDGIADIILV...  uniprot_search   \n",
       "4  MAKRIVEPFRIKMVEKIRVPSREEREAALKEAGYNPFLLPSSAVYI...           sabio   \n",
       "\n",
       "      uniprot                                             Smiles      value  \\\n",
       "0  A0A6P8BCR9  O=c1n(C[C@H](O)[C@H](O)[C@H](O)CO)c2nc(O)nc(O)...   0.000002   \n",
       "1      P00915  CN1CCN(C(=O)c2ccc(S(N)(=O)=O)cc2)[C@@H](Cc2ccc...   0.000707   \n",
       "2      Q9HLD0  C[C@H]1O[C@H](O[C@H]2[C@H](O)[C@@H](O)[C@@H](O...   0.002990   \n",
       "3  A0A1L5F6Z9  CCN=C(O)CCN=C(O)[C@H](O)C(C)(C)COP(=O)(O)OP(=O...   0.020000   \n",
       "4      P28796                                        CC(N)C(=O)O  24.500000   \n",
       "\n",
       "         ec  log10_value     label  \\\n",
       "0  2.5.1.78    -5.698970 -5.698970   \n",
       "1   4.2.1.1    -3.150581 -3.150581   \n",
       "2  3.2.1.20    -2.524329 -2.524329   \n",
       "3   2.3.1.8    -1.698970 -1.698970   \n",
       "4  4.1.99.1     1.389166  1.419631   \n",
       "\n",
       "                                 metabolite_features  \\\n",
       "0  [0.17249086, -0.23665705, -0.11737049, -0.0940...   \n",
       "1  [0.4240491, 0.28231123, 0.2642891, -0.7667821,...   \n",
       "2  [0.50005734, 0.3923428, 0.064121775, -0.635894...   \n",
       "3  [0.28353548, 0.018489605, -0.5459905, -0.34693...   \n",
       "4  [0.051456872, 0.35619217, 0.10593035, -1.04098...   \n",
       "\n",
       "                                    protein_features  \n",
       "0  [0.026722027, -0.06119407, 0.041440543, -0.109...  \n",
       "1  [-0.029181704, -0.12635791, 0.10866662, 0.0339...  \n",
       "2  [0.02874529, -0.17312695, -0.0026887748, 0.035...  \n",
       "3  [-0.06555556, 0.04763434, 0.031432115, 0.17143...  \n",
       "4  [0.049294557, -0.043596543, 0.0546125, 0.35600...  "
      ]
     },
     "execution_count": 3,
     "metadata": {},
     "output_type": "execute_result"
    }
   ],
   "source": [
    "data_ki.rename(columns={'log10ki_mean':'label'},inplace=True)\n",
    "data_ki.head()"
   ]
  },
  {
   "cell_type": "code",
   "execution_count": 4,
   "metadata": {},
   "outputs": [],
   "source": [
    "# Define dataset\n",
    "class MPI_Dataset(Dataset):\n",
    "    def __init__(self, dataframe):\n",
    "        self.dataframe = dataframe\n",
    "\n",
    "    def __len__(self):\n",
    "        return len(self.dataframe)\n",
    "\n",
    "    def __getitem__(self, idx):\n",
    "        row = self.dataframe.iloc[idx]\n",
    "        return {\n",
    "            'metabolite_features': torch.tensor(np.asarray(row['metabolite_features'], dtype=np.float32)),\n",
    "            'protein_features': torch.tensor(np.asarray(row['protein_features'], dtype=np.float32)),\n",
    "            'label': torch.tensor(float(row['label']), dtype=torch.float32),\n",
    "        }"
   ]
  },
  {
   "cell_type": "code",
   "execution_count": 5,
   "metadata": {},
   "outputs": [],
   "source": [
    "# Separate the dataset by unique proteins and drugs\n",
    "unique_proteins = data_ki['Sequence'].unique()\n",
    "unique_mols = data_ki['Smiles'].unique()\n",
    "# Set the seed for reproducibility\n",
    "torch.manual_seed(42)\n",
    "# Function to perform a cold split\n",
    "def cold_split(unique_items, test_size=0.2, val_size=0.1):\n",
    "    train_items, test_items = train_test_split(unique_items, test_size=test_size, random_state=42)\n",
    "    train_items, val_items = train_test_split(train_items, test_size=val_size / (1 - test_size), random_state=42)\n",
    "    return train_items, val_items, test_items\n",
    "# Cold split by proteins\n",
    "train_proteins, val_proteins, test_proteins = cold_split(unique_proteins)\n",
    "train_cold_protein = data_ki[data_ki['Sequence'].isin(train_proteins)]\n",
    "val_cold_protein = data_ki[data_ki['Sequence'].isin(val_proteins)]\n",
    "test_cold_protein = data_ki[data_ki['Sequence'].isin(test_proteins)]\n",
    "# Cold split by molecules\n",
    "train_mols, val_mols, test_mols = cold_split(unique_mols)\n",
    "train_cold_mols = data_ki[data_ki['Smiles'].isin(train_mols)]\n",
    "val_cold_mols = data_ki[data_ki['Smiles'].isin(val_mols)]\n",
    "test_cold_mols = data_ki[data_ki['Smiles'].isin(test_mols)]"
   ]
  },
  {
   "cell_type": "code",
   "execution_count": 6,
   "metadata": {},
   "outputs": [],
   "source": [
    "# cold protein\n",
    "train_dataset = MPI_Dataset(train_cold_protein)\n",
    "val_dataset = MPI_Dataset(val_cold_protein)\n",
    "test_dataset = MPI_Dataset(test_cold_protein)\n",
    "\n",
    "train_loader = DataLoader(train_dataset, batch_size=32, shuffle=True)\n",
    "val_loader = DataLoader(val_dataset, batch_size=32)\n",
    "test_loader = DataLoader(test_dataset, batch_size=32)\n",
    "\n",
    "# cold mols\n",
    "train_dataset_mols = MPI_Dataset(train_cold_mols)\n",
    "val_dataset_mols = MPI_Dataset(val_cold_mols)\n",
    "test_dataset_mols = MPI_Dataset(test_cold_mols)\n",
    "\n",
    "train_loader_mols = DataLoader(train_dataset_mols, batch_size=32, shuffle=True)\n",
    "val_loader_mols = DataLoader(val_dataset_mols, batch_size=32)\n",
    "test_loader_mols = DataLoader(test_dataset_mols, batch_size=32)"
   ]
  },
  {
   "cell_type": "code",
   "execution_count": 7,
   "metadata": {},
   "outputs": [],
   "source": [
    "import torch.nn as nn\n",
    "import torch\n",
    "\n",
    "# Define Diffusion Generative Model for Regression\n",
    "class DiffusionGenerativeModel(nn.Module):\n",
    "    def __init__(self, mol_input_dim, protein_input_dim, hidden_dim, num_timesteps):\n",
    "        super(DiffusionGenerativeModel, self).__init__()\n",
    "        self.num_timesteps = num_timesteps\n",
    "        self.mol_encoder = nn.Linear(mol_input_dim, hidden_dim)\n",
    "        self.protein_encoder = nn.Linear(protein_input_dim, hidden_dim)\n",
    "        self.layer_norm = nn.LayerNorm(hidden_dim * 2)\n",
    "        self.dropout = nn.Dropout(0.3)\n",
    "        self.denoise_model = nn.Linear(hidden_dim * 2, hidden_dim)\n",
    "        self.regressor = nn.Linear(hidden_dim, 1)  # Regression layer\n",
    "        self.activation = nn.ReLU()\n",
    "\n",
    "        # Embedding for timesteps\n",
    "        self.timestep_embedding = nn.Embedding(num_timesteps, hidden_dim * 2)\n",
    "\n",
    "    def forward(self, mol_features, protein_features, t):\n",
    "        # Encode mol and protein features\n",
    "        mol_embedding = self.activation(self.mol_encoder(mol_features))\n",
    "        protein_embedding = self.activation(self.protein_encoder(protein_features))\n",
    "\n",
    "        # Concatenate embeddings\n",
    "        combined = torch.cat((mol_embedding, protein_embedding), dim=-1)\n",
    "        combined = self.layer_norm(combined)\n",
    "        combined = self.dropout(combined)\n",
    "\n",
    "        # Add learnable timestep embedding\n",
    "        t_embedding = self.timestep_embedding(t.long())\n",
    "        combined += t_embedding\n",
    "\n",
    "        # Denoise process\n",
    "        denoised = self.activation(self.denoise_model(combined))\n",
    "\n",
    "        # Regression layer\n",
    "        output = self.regressor(denoised)  # Predict continuous values\n",
    "        return output\n",
    "\n",
    "    def add_noise(self, x, noise_level=0.1):\n",
    "        noise = noise_level * torch.randn_like(x)\n",
    "        return x + noise\n"
   ]
  },
  {
   "cell_type": "code",
   "execution_count": 8,
   "metadata": {},
   "outputs": [],
   "source": [
    "# Check CUDA availability\n",
    "device = torch.device(\"cuda\" if torch.cuda.is_available() else \"cpu\")"
   ]
  },
  {
   "cell_type": "code",
   "execution_count": null,
   "metadata": {},
   "outputs": [
    {
     "name": "stderr",
     "output_type": "stream",
     "text": [
      "Training Epoch 1: 100%|██████████| 259/259 [00:02<00:00, 100.24it/s]\n",
      "/var/folders/yz/c1z6m9_d5d3f80sywjc3rqsc0000gn/T/ipykernel_19613/374893312.py:97: FutureWarning: The behavior of DataFrame concatenation with empty or all-NA entries is deprecated. In a future version, this will no longer exclude empty or all-NA columns when determining the result dtypes. To retain the old behavior, exclude the relevant entries before the concat operation.\n",
      "  train_history = pd.concat([train_history, pd.DataFrame([new_row])], ignore_index=True)\n"
     ]
    },
    {
     "name": "stdout",
     "output_type": "stream",
     "text": [
      "Epoch 0 - Train Loss: 2.8580, Train MSE: 2.8583, Train MAE: 1.3352\n",
      "Epoch 0 - Validation Loss: 2.3923, Validation MSE: 2.3876, Validation MAE: 1.2241\n"
     ]
    },
    {
     "name": "stderr",
     "output_type": "stream",
     "text": [
      "Training Epoch 2: 100%|██████████| 259/259 [00:02<00:00, 99.14it/s] \n",
      "Training Epoch 3: 100%|██████████| 259/259 [00:02<00:00, 103.30it/s]\n",
      "Training Epoch 4: 100%|██████████| 259/259 [00:02<00:00, 100.65it/s]\n",
      "Training Epoch 5: 100%|██████████| 259/259 [00:02<00:00, 100.62it/s]\n",
      "Training Epoch 6: 100%|██████████| 259/259 [00:02<00:00, 99.42it/s] \n",
      "Training Epoch 7: 100%|██████████| 259/259 [00:02<00:00, 101.82it/s]\n",
      "Training Epoch 8: 100%|██████████| 259/259 [00:02<00:00, 101.95it/s]\n",
      "Training Epoch 9: 100%|██████████| 259/259 [00:02<00:00, 100.78it/s]\n",
      "Training Epoch 10: 100%|██████████| 259/259 [00:02<00:00, 101.96it/s]\n",
      "Training Epoch 11: 100%|██████████| 259/259 [00:02<00:00, 96.20it/s] \n"
     ]
    },
    {
     "name": "stdout",
     "output_type": "stream",
     "text": [
      "Epoch 10 - Train Loss: 1.9305, Train MSE: 1.9323, Train MAE: 1.0796\n",
      "Epoch 10 - Validation Loss: 2.2441, Validation MSE: 2.2413, Validation MAE: 1.1788\n"
     ]
    },
    {
     "name": "stderr",
     "output_type": "stream",
     "text": [
      "Training Epoch 12: 100%|██████████| 259/259 [00:02<00:00, 95.74it/s] \n",
      "Training Epoch 13: 100%|██████████| 259/259 [00:02<00:00, 103.10it/s]\n",
      "Training Epoch 14: 100%|██████████| 259/259 [00:02<00:00, 87.08it/s] \n",
      "Training Epoch 15: 100%|██████████| 259/259 [00:03<00:00, 70.17it/s]\n",
      "Training Epoch 16: 100%|██████████| 259/259 [00:02<00:00, 89.09it/s]\n",
      "Training Epoch 17: 100%|██████████| 259/259 [00:03<00:00, 86.14it/s]\n",
      "Training Epoch 18: 100%|██████████| 259/259 [00:02<00:00, 91.51it/s]\n",
      "Training Epoch 19: 100%|██████████| 259/259 [00:02<00:00, 91.63it/s]\n",
      "Training Epoch 20: 100%|██████████| 259/259 [00:02<00:00, 92.49it/s]\n",
      "Training Epoch 21: 100%|██████████| 259/259 [00:02<00:00, 86.68it/s]\n"
     ]
    },
    {
     "name": "stdout",
     "output_type": "stream",
     "text": [
      "Epoch 20 - Train Loss: 1.5700, Train MSE: 1.5676, Train MAE: 0.9639\n",
      "Epoch 20 - Validation Loss: 2.2039, Validation MSE: 2.1999, Validation MAE: 1.1739\n"
     ]
    },
    {
     "name": "stderr",
     "output_type": "stream",
     "text": [
      "Training Epoch 22: 100%|██████████| 259/259 [00:02<00:00, 89.40it/s]\n",
      "Training Epoch 23: 100%|██████████| 259/259 [00:02<00:00, 92.95it/s]\n",
      "Training Epoch 24: 100%|██████████| 259/259 [00:02<00:00, 95.58it/s] \n",
      "Training Epoch 25: 100%|██████████| 259/259 [00:02<00:00, 91.71it/s] \n",
      "Training Epoch 26: 100%|██████████| 259/259 [00:03<00:00, 85.44it/s]\n",
      "Training Epoch 27: 100%|██████████| 259/259 [00:02<00:00, 92.46it/s] \n",
      "Training Epoch 28: 100%|██████████| 259/259 [00:02<00:00, 95.54it/s] \n",
      "Training Epoch 29: 100%|██████████| 259/259 [00:02<00:00, 87.02it/s] \n",
      "Training Epoch 30: 100%|██████████| 259/259 [00:04<00:00, 54.33it/s]\n",
      "Training Epoch 31: 100%|██████████| 259/259 [00:03<00:00, 73.46it/s]\n"
     ]
    },
    {
     "name": "stdout",
     "output_type": "stream",
     "text": [
      "Epoch 30 - Train Loss: 1.3378, Train MSE: 1.3369, Train MAE: 0.8944\n",
      "Epoch 30 - Validation Loss: 2.1958, Validation MSE: 2.1924, Validation MAE: 1.1792\n"
     ]
    },
    {
     "name": "stderr",
     "output_type": "stream",
     "text": [
      "Training Epoch 32: 100%|██████████| 259/259 [00:03<00:00, 81.64it/s]\n",
      "Training Epoch 33: 100%|██████████| 259/259 [00:02<00:00, 89.88it/s]\n",
      "Training Epoch 34: 100%|██████████| 259/259 [00:03<00:00, 78.12it/s]\n",
      "Training Epoch 35: 100%|██████████| 259/259 [00:03<00:00, 78.85it/s]\n",
      "Training Epoch 36: 100%|██████████| 259/259 [00:03<00:00, 80.55it/s]\n",
      "Training Epoch 37: 100%|██████████| 259/259 [00:03<00:00, 75.85it/s]\n",
      "Training Epoch 38: 100%|██████████| 259/259 [00:03<00:00, 80.66it/s]\n",
      "Training Epoch 39: 100%|██████████| 259/259 [00:03<00:00, 77.32it/s]\n",
      "Training Epoch 40: 100%|██████████| 259/259 [00:03<00:00, 82.30it/s]\n",
      "Training Epoch 41: 100%|██████████| 259/259 [00:03<00:00, 72.57it/s]\n"
     ]
    },
    {
     "name": "stdout",
     "output_type": "stream",
     "text": [
      "Epoch 40 - Train Loss: 1.1857, Train MSE: 1.1867, Train MAE: 0.8346\n",
      "Epoch 40 - Validation Loss: 2.0923, Validation MSE: 2.0888, Validation MAE: 1.1502\n"
     ]
    },
    {
     "name": "stderr",
     "output_type": "stream",
     "text": [
      "Training Epoch 42: 100%|██████████| 259/259 [00:04<00:00, 58.39it/s]\n",
      "Training Epoch 43: 100%|██████████| 259/259 [00:05<00:00, 46.44it/s]\n",
      "Training Epoch 44: 100%|██████████| 259/259 [00:03<00:00, 67.40it/s]\n",
      "Training Epoch 45: 100%|██████████| 259/259 [00:03<00:00, 70.69it/s]\n",
      "Training Epoch 46: 100%|██████████| 259/259 [00:04<00:00, 61.69it/s]\n",
      "Training Epoch 47: 100%|██████████| 259/259 [00:03<00:00, 71.82it/s]\n",
      "Training Epoch 48: 100%|██████████| 259/259 [00:03<00:00, 73.17it/s]\n",
      "Training Epoch 49: 100%|██████████| 259/259 [00:03<00:00, 70.49it/s]\n",
      "Training Epoch 50: 100%|██████████| 259/259 [00:03<00:00, 68.14it/s]\n",
      "Training Epoch 51: 100%|██████████| 259/259 [00:04<00:00, 54.12it/s]\n"
     ]
    },
    {
     "name": "stdout",
     "output_type": "stream",
     "text": [
      "Epoch 50 - Train Loss: 1.0470, Train MSE: 1.0461, Train MAE: 0.7900\n",
      "Epoch 50 - Validation Loss: 2.1169, Validation MSE: 2.1138, Validation MAE: 1.1492\n"
     ]
    },
    {
     "name": "stderr",
     "output_type": "stream",
     "text": [
      "Training Epoch 52: 100%|██████████| 259/259 [00:03<00:00, 65.24it/s]\n",
      "Training Epoch 53: 100%|██████████| 259/259 [00:04<00:00, 58.03it/s]\n",
      "Training Epoch 54: 100%|██████████| 259/259 [00:04<00:00, 64.32it/s]\n",
      "Training Epoch 55: 100%|██████████| 259/259 [00:03<00:00, 66.39it/s]\n",
      "Training Epoch 56: 100%|██████████| 259/259 [00:04<00:00, 64.01it/s]\n",
      "Training Epoch 57: 100%|██████████| 259/259 [00:05<00:00, 50.81it/s]\n",
      "Training Epoch 58: 100%|██████████| 259/259 [00:04<00:00, 56.20it/s]\n",
      "Training Epoch 59: 100%|██████████| 259/259 [00:04<00:00, 62.03it/s]\n",
      "Training Epoch 60: 100%|██████████| 259/259 [00:04<00:00, 54.75it/s]\n",
      "Training Epoch 61: 100%|██████████| 259/259 [00:04<00:00, 59.42it/s]\n"
     ]
    },
    {
     "name": "stdout",
     "output_type": "stream",
     "text": [
      "Epoch 60 - Train Loss: 0.9464, Train MSE: 0.9451, Train MAE: 0.7433\n",
      "Epoch 60 - Validation Loss: 2.1335, Validation MSE: 2.1287, Validation MAE: 1.1414\n"
     ]
    },
    {
     "name": "stderr",
     "output_type": "stream",
     "text": [
      "Training Epoch 62: 100%|██████████| 259/259 [00:04<00:00, 61.01it/s]\n",
      "Training Epoch 63: 100%|██████████| 259/259 [00:04<00:00, 53.62it/s]\n",
      "Training Epoch 64: 100%|██████████| 259/259 [00:05<00:00, 46.81it/s]\n",
      "Training Epoch 65: 100%|██████████| 259/259 [00:05<00:00, 49.74it/s]\n",
      "Training Epoch 66: 100%|██████████| 259/259 [00:05<00:00, 51.24it/s]\n",
      "Training Epoch 67: 100%|██████████| 259/259 [00:04<00:00, 63.81it/s]\n",
      "Training Epoch 68: 100%|██████████| 259/259 [00:04<00:00, 62.85it/s]\n",
      "Training Epoch 69: 100%|██████████| 259/259 [00:04<00:00, 64.37it/s]\n",
      "Training Epoch 70: 100%|██████████| 259/259 [00:04<00:00, 63.33it/s]\n",
      "Training Epoch 71: 100%|██████████| 259/259 [00:04<00:00, 62.40it/s]\n"
     ]
    },
    {
     "name": "stdout",
     "output_type": "stream",
     "text": [
      "Epoch 70 - Train Loss: 0.8690, Train MSE: 0.8694, Train MAE: 0.7144\n",
      "Epoch 70 - Validation Loss: 2.2465, Validation MSE: 2.2413, Validation MAE: 1.1703\n"
     ]
    },
    {
     "name": "stderr",
     "output_type": "stream",
     "text": [
      "Training Epoch 72: 100%|██████████| 259/259 [00:04<00:00, 57.27it/s]\n",
      "Training Epoch 73: 100%|██████████| 259/259 [00:04<00:00, 61.10it/s]\n",
      "Training Epoch 74: 100%|██████████| 259/259 [00:03<00:00, 65.14it/s]\n",
      "Training Epoch 75: 100%|██████████| 259/259 [00:04<00:00, 64.24it/s]\n",
      "Training Epoch 76: 100%|██████████| 259/259 [00:04<00:00, 62.50it/s]\n",
      "Training Epoch 77: 100%|██████████| 259/259 [00:04<00:00, 59.98it/s]\n",
      "Training Epoch 78: 100%|██████████| 259/259 [00:04<00:00, 61.22it/s]\n",
      "Training Epoch 79: 100%|██████████| 259/259 [00:04<00:00, 63.88it/s]\n",
      "Training Epoch 80: 100%|██████████| 259/259 [00:04<00:00, 60.58it/s]\n",
      "Training Epoch 81: 100%|██████████| 259/259 [00:04<00:00, 62.75it/s]\n"
     ]
    },
    {
     "name": "stdout",
     "output_type": "stream",
     "text": [
      "Epoch 80 - Train Loss: 0.8003, Train MSE: 0.8004, Train MAE: 0.6818\n",
      "Epoch 80 - Validation Loss: 2.2397, Validation MSE: 2.2389, Validation MAE: 1.1738\n"
     ]
    },
    {
     "name": "stderr",
     "output_type": "stream",
     "text": [
      "Training Epoch 82: 100%|██████████| 259/259 [00:04<00:00, 61.89it/s]\n",
      "Training Epoch 83: 100%|██████████| 259/259 [00:04<00:00, 59.57it/s]\n",
      "Training Epoch 84: 100%|██████████| 259/259 [00:04<00:00, 59.68it/s]\n",
      "Training Epoch 85: 100%|██████████| 259/259 [00:04<00:00, 64.30it/s]\n",
      "Training Epoch 86: 100%|██████████| 259/259 [00:04<00:00, 63.78it/s]\n",
      "Training Epoch 87: 100%|██████████| 259/259 [00:04<00:00, 64.47it/s]\n",
      "Training Epoch 88: 100%|██████████| 259/259 [00:03<00:00, 65.89it/s]\n",
      "Training Epoch 89: 100%|██████████| 259/259 [00:03<00:00, 66.91it/s]\n",
      "Training Epoch 90: 100%|██████████| 259/259 [00:03<00:00, 67.18it/s]\n",
      "Training Epoch 91: 100%|██████████| 259/259 [00:03<00:00, 64.97it/s]\n"
     ]
    },
    {
     "name": "stdout",
     "output_type": "stream",
     "text": [
      "Epoch 90 - Train Loss: 0.7305, Train MSE: 0.7306, Train MAE: 0.6529\n",
      "Epoch 90 - Validation Loss: 2.1046, Validation MSE: 2.1005, Validation MAE: 1.1252\n"
     ]
    },
    {
     "name": "stderr",
     "output_type": "stream",
     "text": [
      "Training Epoch 92: 100%|██████████| 259/259 [00:03<00:00, 66.04it/s]\n",
      "Training Epoch 93: 100%|██████████| 259/259 [00:03<00:00, 69.02it/s]\n",
      "Training Epoch 94: 100%|██████████| 259/259 [00:03<00:00, 65.13it/s]\n",
      "Training Epoch 95: 100%|██████████| 259/259 [00:03<00:00, 66.92it/s]\n",
      "Training Epoch 96: 100%|██████████| 259/259 [00:04<00:00, 63.50it/s]\n",
      "Training Epoch 97: 100%|██████████| 259/259 [00:03<00:00, 66.56it/s]\n",
      "Training Epoch 98: 100%|██████████| 259/259 [17:45<00:00,  4.11s/it] \n",
      "Training Epoch 99: 100%|██████████| 259/259 [00:13<00:00, 18.95it/s]\n",
      "Training Epoch 100: 100%|██████████| 259/259 [00:06<00:00, 42.10it/s]\n",
      "Training Epoch 101: 100%|██████████| 259/259 [00:05<00:00, 43.59it/s]\n"
     ]
    },
    {
     "name": "stdout",
     "output_type": "stream",
     "text": [
      "Epoch 100 - Train Loss: 0.6822, Train MSE: 0.6824, Train MAE: 0.6295\n",
      "Epoch 100 - Validation Loss: 2.1802, Validation MSE: 2.1782, Validation MAE: 1.1646\n"
     ]
    },
    {
     "name": "stderr",
     "output_type": "stream",
     "text": [
      "Training Epoch 102: 100%|██████████| 259/259 [00:06<00:00, 42.05it/s]\n",
      "Training Epoch 103: 100%|██████████| 259/259 [00:06<00:00, 40.74it/s]\n",
      "Training Epoch 104: 100%|██████████| 259/259 [00:06<00:00, 41.83it/s]\n",
      "Training Epoch 105: 100%|██████████| 259/259 [11:41<00:00,  2.71s/it] \n",
      "Training Epoch 106: 100%|██████████| 259/259 [00:06<00:00, 39.41it/s]\n",
      "Training Epoch 107: 100%|██████████| 259/259 [00:05<00:00, 43.39it/s]\n",
      "Training Epoch 108: 100%|██████████| 259/259 [00:06<00:00, 40.87it/s]\n",
      "Training Epoch 109: 100%|██████████| 259/259 [00:05<00:00, 43.35it/s]\n",
      "Training Epoch 110: 100%|██████████| 259/259 [00:05<00:00, 45.52it/s]\n",
      "Training Epoch 111: 100%|██████████| 259/259 [00:05<00:00, 46.48it/s]\n"
     ]
    },
    {
     "name": "stdout",
     "output_type": "stream",
     "text": [
      "Epoch 110 - Train Loss: 0.6634, Train MSE: 0.6636, Train MAE: 0.6235\n",
      "Epoch 110 - Validation Loss: 2.1367, Validation MSE: 2.1347, Validation MAE: 1.1508\n"
     ]
    },
    {
     "name": "stderr",
     "output_type": "stream",
     "text": [
      "Training Epoch 112: 100%|██████████| 259/259 [16:13<00:00,  3.76s/it]\n",
      "Training Epoch 113: 100%|██████████| 259/259 [16:39<00:00,  3.86s/it]  \n",
      "Training Epoch 114: 100%|██████████| 259/259 [16:02<00:00,  3.72s/it]  \n",
      "Training Epoch 115: 100%|██████████| 259/259 [00:07<00:00, 35.84it/s]\n",
      "Training Epoch 116: 100%|██████████| 259/259 [00:06<00:00, 40.26it/s]\n",
      "Training Epoch 117: 100%|██████████| 259/259 [00:06<00:00, 41.59it/s]\n",
      "Training Epoch 118: 100%|██████████| 259/259 [00:06<00:00, 42.16it/s]\n",
      "Training Epoch 119: 100%|██████████| 259/259 [00:06<00:00, 43.04it/s]\n",
      "Training Epoch 120: 100%|██████████| 259/259 [00:06<00:00, 38.51it/s]\n",
      "Training Epoch 121: 100%|██████████| 259/259 [00:06<00:00, 43.16it/s]\n"
     ]
    },
    {
     "name": "stdout",
     "output_type": "stream",
     "text": [
      "Epoch 120 - Train Loss: 0.6017, Train MSE: 0.6011, Train MAE: 0.5927\n",
      "Epoch 120 - Validation Loss: 2.0878, Validation MSE: 2.0841, Validation MAE: 1.1348\n"
     ]
    },
    {
     "name": "stderr",
     "output_type": "stream",
     "text": [
      "Training Epoch 122: 100%|██████████| 259/259 [16:42<00:00,  3.87s/it]  \n",
      "Training Epoch 123: 100%|██████████| 259/259 [00:07<00:00, 35.87it/s]\n",
      "Training Epoch 124: 100%|██████████| 259/259 [00:06<00:00, 41.01it/s]\n",
      "Training Epoch 125: 100%|██████████| 259/259 [00:06<00:00, 41.96it/s]\n",
      "Training Epoch 126: 100%|██████████| 259/259 [00:05<00:00, 45.87it/s]\n",
      "Training Epoch 127: 100%|██████████| 259/259 [00:05<00:00, 45.17it/s]\n",
      "Training Epoch 128: 100%|██████████| 259/259 [00:05<00:00, 45.68it/s]\n",
      "Training Epoch 129: 100%|██████████| 259/259 [00:05<00:00, 46.01it/s]\n",
      "Training Epoch 130: 100%|██████████| 259/259 [00:05<00:00, 47.03it/s]\n",
      "Training Epoch 131: 100%|██████████| 259/259 [03:26<00:00,  1.25it/s] \n"
     ]
    },
    {
     "name": "stdout",
     "output_type": "stream",
     "text": [
      "Epoch 130 - Train Loss: 0.5641, Train MSE: 0.5643, Train MAE: 0.5793\n",
      "Epoch 130 - Validation Loss: 2.1596, Validation MSE: 2.1543, Validation MAE: 1.1423\n"
     ]
    },
    {
     "name": "stderr",
     "output_type": "stream",
     "text": [
      "Training Epoch 132: 100%|██████████| 259/259 [00:03<00:00, 65.69it/s]\n",
      "Training Epoch 133: 100%|██████████| 259/259 [00:04<00:00, 53.20it/s]\n",
      "Training Epoch 134: 100%|██████████| 259/259 [00:04<00:00, 62.44it/s]\n",
      "Training Epoch 135: 100%|██████████| 259/259 [00:03<00:00, 66.86it/s]\n",
      "Training Epoch 136: 100%|██████████| 259/259 [00:03<00:00, 65.22it/s]\n",
      "Training Epoch 137: 100%|██████████| 259/259 [00:04<00:00, 61.76it/s]\n",
      "Training Epoch 138: 100%|██████████| 259/259 [00:05<00:00, 50.86it/s]\n",
      "Training Epoch 139: 100%|██████████| 259/259 [00:03<00:00, 65.06it/s]\n",
      "Training Epoch 140: 100%|██████████| 259/259 [00:04<00:00, 64.41it/s]\n",
      "Training Epoch 141: 100%|██████████| 259/259 [00:04<00:00, 64.59it/s]\n"
     ]
    },
    {
     "name": "stdout",
     "output_type": "stream",
     "text": [
      "Epoch 140 - Train Loss: 0.5574, Train MSE: 0.5571, Train MAE: 0.5706\n",
      "Epoch 140 - Validation Loss: 2.1328, Validation MSE: 2.1297, Validation MAE: 1.1381\n"
     ]
    },
    {
     "name": "stderr",
     "output_type": "stream",
     "text": [
      "Training Epoch 142: 100%|██████████| 259/259 [00:03<00:00, 66.99it/s]\n",
      "Training Epoch 143: 100%|██████████| 259/259 [00:03<00:00, 68.20it/s]\n",
      "Training Epoch 144: 100%|██████████| 259/259 [00:03<00:00, 67.89it/s]\n",
      "Training Epoch 145: 100%|██████████| 259/259 [00:03<00:00, 67.76it/s]\n",
      "Training Epoch 146: 100%|██████████| 259/259 [00:03<00:00, 67.68it/s]\n",
      "Training Epoch 147: 100%|██████████| 259/259 [00:03<00:00, 69.07it/s]\n",
      "Training Epoch 148: 100%|██████████| 259/259 [00:03<00:00, 75.53it/s]\n",
      "Training Epoch 149: 100%|██████████| 259/259 [00:03<00:00, 75.21it/s]\n",
      "Training Epoch 150: 100%|██████████| 259/259 [00:03<00:00, 77.65it/s]\n",
      "Training Epoch 151: 100%|██████████| 259/259 [00:03<00:00, 76.49it/s]\n"
     ]
    },
    {
     "name": "stdout",
     "output_type": "stream",
     "text": [
      "Epoch 150 - Train Loss: 0.5242, Train MSE: 0.5241, Train MAE: 0.5598\n",
      "Epoch 150 - Validation Loss: 2.1294, Validation MSE: 2.1247, Validation MAE: 1.1371\n"
     ]
    },
    {
     "name": "stderr",
     "output_type": "stream",
     "text": [
      "Training Epoch 152: 100%|██████████| 259/259 [00:03<00:00, 75.47it/s]\n",
      "Training Epoch 153: 100%|██████████| 259/259 [00:03<00:00, 74.78it/s]\n",
      "Training Epoch 154: 100%|██████████| 259/259 [00:03<00:00, 72.92it/s]\n",
      "Training Epoch 155: 100%|██████████| 259/259 [00:03<00:00, 78.75it/s]\n",
      "Training Epoch 156: 100%|██████████| 259/259 [00:03<00:00, 73.56it/s]\n",
      "Training Epoch 157: 100%|██████████| 259/259 [00:03<00:00, 75.58it/s]\n",
      "Training Epoch 158: 100%|██████████| 259/259 [00:03<00:00, 75.89it/s]\n",
      "Training Epoch 159: 100%|██████████| 259/259 [00:03<00:00, 76.41it/s]\n",
      "Training Epoch 160: 100%|██████████| 259/259 [00:03<00:00, 77.48it/s]\n",
      "Training Epoch 161: 100%|██████████| 259/259 [00:03<00:00, 76.75it/s]\n"
     ]
    },
    {
     "name": "stdout",
     "output_type": "stream",
     "text": [
      "Epoch 160 - Train Loss: 0.5212, Train MSE: 0.5212, Train MAE: 0.5516\n",
      "Epoch 160 - Validation Loss: 2.0744, Validation MSE: 2.0702, Validation MAE: 1.1319\n"
     ]
    },
    {
     "name": "stderr",
     "output_type": "stream",
     "text": [
      "Training Epoch 162: 100%|██████████| 259/259 [00:03<00:00, 76.81it/s]\n",
      "Training Epoch 163: 100%|██████████| 259/259 [00:03<00:00, 75.83it/s]\n",
      "Training Epoch 164: 100%|██████████| 259/259 [00:03<00:00, 77.44it/s]\n",
      "Training Epoch 165: 100%|██████████| 259/259 [00:03<00:00, 76.63it/s]\n",
      "Training Epoch 166: 100%|██████████| 259/259 [00:03<00:00, 77.41it/s]\n",
      "Training Epoch 167: 100%|██████████| 259/259 [00:03<00:00, 75.60it/s]\n",
      "Training Epoch 168: 100%|██████████| 259/259 [00:03<00:00, 77.50it/s]\n",
      "Training Epoch 169: 100%|██████████| 259/259 [00:03<00:00, 78.29it/s]\n",
      "Training Epoch 170: 100%|██████████| 259/259 [00:03<00:00, 78.88it/s]\n",
      "Training Epoch 171: 100%|██████████| 259/259 [00:03<00:00, 69.83it/s]\n"
     ]
    },
    {
     "name": "stdout",
     "output_type": "stream",
     "text": [
      "Epoch 170 - Train Loss: 0.4826, Train MSE: 0.4830, Train MAE: 0.5305\n",
      "Epoch 170 - Validation Loss: 2.0992, Validation MSE: 2.0962, Validation MAE: 1.1228\n"
     ]
    },
    {
     "name": "stderr",
     "output_type": "stream",
     "text": [
      "Training Epoch 172: 100%|██████████| 259/259 [00:03<00:00, 77.10it/s]\n",
      "Training Epoch 173: 100%|██████████| 259/259 [00:03<00:00, 77.19it/s]\n",
      "Training Epoch 174: 100%|██████████| 259/259 [00:03<00:00, 75.22it/s]\n",
      "Training Epoch 175: 100%|██████████| 259/259 [00:03<00:00, 73.76it/s]\n",
      "Training Epoch 176: 100%|██████████| 259/259 [00:03<00:00, 72.66it/s]\n",
      "Training Epoch 177: 100%|██████████| 259/259 [00:03<00:00, 78.45it/s]\n",
      "Training Epoch 178: 100%|██████████| 259/259 [00:03<00:00, 76.64it/s]\n",
      "Training Epoch 179: 100%|██████████| 259/259 [00:03<00:00, 75.34it/s]\n",
      "Training Epoch 180: 100%|██████████| 259/259 [00:03<00:00, 72.72it/s]\n",
      "Training Epoch 181: 100%|██████████| 259/259 [00:03<00:00, 75.72it/s]\n"
     ]
    },
    {
     "name": "stdout",
     "output_type": "stream",
     "text": [
      "Epoch 180 - Train Loss: 0.4606, Train MSE: 0.4606, Train MAE: 0.5177\n",
      "Epoch 180 - Validation Loss: 2.1190, Validation MSE: 2.1159, Validation MAE: 1.1354\n"
     ]
    },
    {
     "name": "stderr",
     "output_type": "stream",
     "text": [
      "Training Epoch 182: 100%|██████████| 259/259 [00:03<00:00, 75.33it/s]\n",
      "Training Epoch 183: 100%|██████████| 259/259 [00:03<00:00, 77.13it/s]\n",
      "Training Epoch 184: 100%|██████████| 259/259 [00:03<00:00, 75.44it/s]\n",
      "Training Epoch 185: 100%|██████████| 259/259 [00:03<00:00, 75.49it/s]\n",
      "Training Epoch 186: 100%|██████████| 259/259 [00:03<00:00, 74.95it/s]\n",
      "Training Epoch 187: 100%|██████████| 259/259 [00:03<00:00, 71.46it/s]\n",
      "Training Epoch 188: 100%|██████████| 259/259 [00:03<00:00, 75.10it/s]\n",
      "Training Epoch 189: 100%|██████████| 259/259 [00:03<00:00, 71.87it/s]\n",
      "Training Epoch 190: 100%|██████████| 259/259 [00:03<00:00, 75.81it/s]\n",
      "Training Epoch 191: 100%|██████████| 259/259 [00:03<00:00, 76.07it/s]\n"
     ]
    },
    {
     "name": "stdout",
     "output_type": "stream",
     "text": [
      "Epoch 190 - Train Loss: 0.4371, Train MSE: 0.4376, Train MAE: 0.5035\n",
      "Epoch 190 - Validation Loss: 2.1481, Validation MSE: 2.1458, Validation MAE: 1.1377\n"
     ]
    },
    {
     "name": "stderr",
     "output_type": "stream",
     "text": [
      "Training Epoch 192: 100%|██████████| 259/259 [00:03<00:00, 77.63it/s]\n",
      "Training Epoch 193: 100%|██████████| 259/259 [00:03<00:00, 73.02it/s]\n",
      "Training Epoch 194: 100%|██████████| 259/259 [00:03<00:00, 77.42it/s]\n",
      "Training Epoch 195: 100%|██████████| 259/259 [00:03<00:00, 76.66it/s]\n",
      "Training Epoch 196: 100%|██████████| 259/259 [00:03<00:00, 71.72it/s]\n",
      "Training Epoch 197: 100%|██████████| 259/259 [00:03<00:00, 78.64it/s]\n",
      "Training Epoch 198: 100%|██████████| 259/259 [00:03<00:00, 75.14it/s]\n",
      "Training Epoch 199: 100%|██████████| 259/259 [00:03<00:00, 78.34it/s]\n",
      "Training Epoch 200: 100%|██████████| 259/259 [00:03<00:00, 80.86it/s]\n",
      "Training Epoch 201: 100%|██████████| 259/259 [00:03<00:00, 79.30it/s]\n"
     ]
    },
    {
     "name": "stdout",
     "output_type": "stream",
     "text": [
      "Epoch 200 - Train Loss: 0.4287, Train MSE: 0.4285, Train MAE: 0.4982\n",
      "Epoch 200 - Validation Loss: 2.0944, Validation MSE: 2.0910, Validation MAE: 1.1327\n"
     ]
    },
    {
     "name": "stderr",
     "output_type": "stream",
     "text": [
      "Training Epoch 202: 100%|██████████| 259/259 [00:03<00:00, 75.82it/s]\n",
      "Training Epoch 203: 100%|██████████| 259/259 [00:03<00:00, 77.55it/s]\n",
      "Training Epoch 204: 100%|██████████| 259/259 [00:03<00:00, 70.78it/s]\n",
      "Training Epoch 205: 100%|██████████| 259/259 [00:03<00:00, 74.63it/s]\n",
      "Training Epoch 206: 100%|██████████| 259/259 [00:03<00:00, 74.50it/s]\n",
      "Training Epoch 207: 100%|██████████| 259/259 [00:03<00:00, 73.49it/s]\n",
      "Training Epoch 208: 100%|██████████| 259/259 [00:03<00:00, 74.01it/s]\n",
      "Training Epoch 209: 100%|██████████| 259/259 [00:03<00:00, 79.09it/s]\n",
      "Training Epoch 210: 100%|██████████| 259/259 [00:03<00:00, 75.49it/s]\n",
      "Training Epoch 211: 100%|██████████| 259/259 [00:03<00:00, 76.20it/s]\n"
     ]
    },
    {
     "name": "stdout",
     "output_type": "stream",
     "text": [
      "Epoch 210 - Train Loss: 0.4186, Train MSE: 0.4190, Train MAE: 0.4945\n",
      "Epoch 210 - Validation Loss: 2.0998, Validation MSE: 2.0926, Validation MAE: 1.1212\n"
     ]
    },
    {
     "name": "stderr",
     "output_type": "stream",
     "text": [
      "Training Epoch 212: 100%|██████████| 259/259 [00:03<00:00, 76.39it/s]\n",
      "Training Epoch 213: 100%|██████████| 259/259 [00:03<00:00, 79.86it/s]\n",
      "Training Epoch 214: 100%|██████████| 259/259 [00:03<00:00, 74.29it/s]\n",
      "Training Epoch 215: 100%|██████████| 259/259 [00:03<00:00, 76.29it/s]\n",
      "Training Epoch 216: 100%|██████████| 259/259 [00:03<00:00, 73.69it/s]\n",
      "Training Epoch 217: 100%|██████████| 259/259 [00:03<00:00, 77.84it/s]\n",
      "Training Epoch 218: 100%|██████████| 259/259 [00:03<00:00, 77.77it/s]\n",
      "Training Epoch 219: 100%|██████████| 259/259 [00:03<00:00, 75.49it/s]\n",
      "Training Epoch 220: 100%|██████████| 259/259 [00:03<00:00, 72.16it/s]\n",
      "Training Epoch 221: 100%|██████████| 259/259 [00:03<00:00, 71.93it/s]\n"
     ]
    },
    {
     "name": "stdout",
     "output_type": "stream",
     "text": [
      "Epoch 220 - Train Loss: 0.4012, Train MSE: 0.4010, Train MAE: 0.4860\n",
      "Epoch 220 - Validation Loss: 2.1043, Validation MSE: 2.1003, Validation MAE: 1.1412\n"
     ]
    },
    {
     "name": "stderr",
     "output_type": "stream",
     "text": [
      "Training Epoch 222: 100%|██████████| 259/259 [00:03<00:00, 74.24it/s]\n",
      "Training Epoch 223: 100%|██████████| 259/259 [00:03<00:00, 75.42it/s]\n",
      "Training Epoch 224: 100%|██████████| 259/259 [00:03<00:00, 77.29it/s]\n",
      "Training Epoch 225: 100%|██████████| 259/259 [00:03<00:00, 78.37it/s]\n",
      "Training Epoch 226: 100%|██████████| 259/259 [00:03<00:00, 76.71it/s]\n",
      "Training Epoch 227: 100%|██████████| 259/259 [00:03<00:00, 78.27it/s]\n",
      "Training Epoch 228: 100%|██████████| 259/259 [00:03<00:00, 77.50it/s]\n",
      "Training Epoch 229: 100%|██████████| 259/259 [00:03<00:00, 74.09it/s]\n",
      "Training Epoch 230: 100%|██████████| 259/259 [00:03<00:00, 76.11it/s]\n",
      "Training Epoch 231: 100%|██████████| 259/259 [00:03<00:00, 70.68it/s]\n"
     ]
    },
    {
     "name": "stdout",
     "output_type": "stream",
     "text": [
      "Epoch 230 - Train Loss: 0.3885, Train MSE: 0.3888, Train MAE: 0.4761\n",
      "Epoch 230 - Validation Loss: 1.9887, Validation MSE: 1.9864, Validation MAE: 1.1053\n"
     ]
    },
    {
     "name": "stderr",
     "output_type": "stream",
     "text": [
      "Training Epoch 232: 100%|██████████| 259/259 [00:03<00:00, 75.28it/s]\n",
      "Training Epoch 233: 100%|██████████| 259/259 [00:03<00:00, 75.86it/s]\n",
      "Training Epoch 234: 100%|██████████| 259/259 [00:03<00:00, 74.87it/s]\n",
      "Training Epoch 235: 100%|██████████| 259/259 [00:03<00:00, 75.90it/s]\n",
      "Training Epoch 236: 100%|██████████| 259/259 [00:03<00:00, 72.00it/s]\n",
      "Training Epoch 237: 100%|██████████| 259/259 [00:03<00:00, 68.56it/s]\n",
      "Training Epoch 238: 100%|██████████| 259/259 [00:03<00:00, 71.90it/s]\n",
      "Training Epoch 239: 100%|██████████| 259/259 [00:03<00:00, 74.55it/s]\n",
      "Training Epoch 240: 100%|██████████| 259/259 [00:03<00:00, 72.66it/s]\n",
      "Training Epoch 241: 100%|██████████| 259/259 [00:03<00:00, 77.28it/s]\n"
     ]
    },
    {
     "name": "stdout",
     "output_type": "stream",
     "text": [
      "Epoch 240 - Train Loss: 0.3821, Train MSE: 0.3815, Train MAE: 0.4732\n",
      "Epoch 240 - Validation Loss: 2.0375, Validation MSE: 2.0345, Validation MAE: 1.1212\n"
     ]
    },
    {
     "name": "stderr",
     "output_type": "stream",
     "text": [
      "Training Epoch 242: 100%|██████████| 259/259 [00:03<00:00, 75.43it/s]\n",
      "Training Epoch 243: 100%|██████████| 259/259 [00:03<00:00, 73.08it/s]\n",
      "Training Epoch 244: 100%|██████████| 259/259 [00:03<00:00, 77.29it/s]\n",
      "Training Epoch 245: 100%|██████████| 259/259 [00:03<00:00, 76.21it/s]\n",
      "Training Epoch 246: 100%|██████████| 259/259 [00:03<00:00, 75.83it/s]\n",
      "Training Epoch 247: 100%|██████████| 259/259 [00:03<00:00, 78.31it/s]\n",
      "Training Epoch 248: 100%|██████████| 259/259 [00:03<00:00, 81.63it/s]\n",
      "Training Epoch 249: 100%|██████████| 259/259 [00:03<00:00, 78.75it/s]\n",
      "Training Epoch 250: 100%|██████████| 259/259 [00:03<00:00, 76.55it/s]\n",
      "Training Epoch 251: 100%|██████████| 259/259 [00:03<00:00, 74.67it/s]\n"
     ]
    },
    {
     "name": "stdout",
     "output_type": "stream",
     "text": [
      "Epoch 250 - Train Loss: 0.3547, Train MSE: 0.3547, Train MAE: 0.4520\n",
      "Epoch 250 - Validation Loss: 2.0606, Validation MSE: 2.0588, Validation MAE: 1.1252\n"
     ]
    },
    {
     "name": "stderr",
     "output_type": "stream",
     "text": [
      "Training Epoch 252: 100%|██████████| 259/259 [00:03<00:00, 79.31it/s]\n",
      "Training Epoch 253: 100%|██████████| 259/259 [00:03<00:00, 74.00it/s]\n",
      "Training Epoch 254: 100%|██████████| 259/259 [00:03<00:00, 67.75it/s]\n",
      "Training Epoch 255: 100%|██████████| 259/259 [00:03<00:00, 70.99it/s]\n",
      "Training Epoch 256: 100%|██████████| 259/259 [00:03<00:00, 75.29it/s]\n",
      "Training Epoch 257: 100%|██████████| 259/259 [00:03<00:00, 77.26it/s]\n",
      "Training Epoch 258: 100%|██████████| 259/259 [00:03<00:00, 78.08it/s]\n",
      "Training Epoch 259: 100%|██████████| 259/259 [00:03<00:00, 78.80it/s]\n",
      "Training Epoch 260: 100%|██████████| 259/259 [00:03<00:00, 74.97it/s]\n",
      "Training Epoch 261: 100%|██████████| 259/259 [00:03<00:00, 78.89it/s]\n"
     ]
    },
    {
     "name": "stdout",
     "output_type": "stream",
     "text": [
      "Epoch 260 - Train Loss: 0.3532, Train MSE: 0.3532, Train MAE: 0.4523\n",
      "Epoch 260 - Validation Loss: 2.0554, Validation MSE: 2.0520, Validation MAE: 1.1124\n"
     ]
    },
    {
     "name": "stderr",
     "output_type": "stream",
     "text": [
      "Training Epoch 262: 100%|██████████| 259/259 [00:03<00:00, 75.36it/s]\n",
      "Training Epoch 263: 100%|██████████| 259/259 [00:03<00:00, 77.37it/s]\n",
      "Training Epoch 264: 100%|██████████| 259/259 [00:03<00:00, 76.61it/s]\n",
      "Training Epoch 265: 100%|██████████| 259/259 [00:03<00:00, 72.42it/s]\n",
      "Training Epoch 266: 100%|██████████| 259/259 [00:03<00:00, 75.83it/s]\n",
      "Training Epoch 267: 100%|██████████| 259/259 [00:03<00:00, 75.34it/s]\n",
      "Training Epoch 268: 100%|██████████| 259/259 [00:03<00:00, 76.55it/s]\n",
      "Training Epoch 269: 100%|██████████| 259/259 [00:03<00:00, 77.73it/s]\n",
      "Training Epoch 270: 100%|██████████| 259/259 [00:03<00:00, 77.74it/s]\n",
      "Training Epoch 271: 100%|██████████| 259/259 [00:03<00:00, 71.56it/s]\n"
     ]
    },
    {
     "name": "stdout",
     "output_type": "stream",
     "text": [
      "Epoch 270 - Train Loss: 0.3401, Train MSE: 0.3404, Train MAE: 0.4477\n",
      "Epoch 270 - Validation Loss: 2.0522, Validation MSE: 2.0471, Validation MAE: 1.1180\n"
     ]
    },
    {
     "name": "stderr",
     "output_type": "stream",
     "text": [
      "Training Epoch 272: 100%|██████████| 259/259 [00:03<00:00, 75.04it/s]\n",
      "Training Epoch 273: 100%|██████████| 259/259 [00:03<00:00, 73.92it/s]\n",
      "Training Epoch 274: 100%|██████████| 259/259 [00:03<00:00, 75.08it/s]\n",
      "Training Epoch 275: 100%|██████████| 259/259 [00:03<00:00, 77.84it/s]\n",
      "Training Epoch 276: 100%|██████████| 259/259 [00:03<00:00, 77.52it/s]\n",
      "Training Epoch 277: 100%|██████████| 259/259 [00:03<00:00, 73.87it/s]\n",
      "Training Epoch 278: 100%|██████████| 259/259 [00:03<00:00, 73.70it/s]\n",
      "Training Epoch 279: 100%|██████████| 259/259 [00:03<00:00, 77.22it/s]\n",
      "Training Epoch 280: 100%|██████████| 259/259 [00:03<00:00, 77.42it/s]\n",
      "Training Epoch 281: 100%|██████████| 259/259 [00:03<00:00, 77.65it/s]\n"
     ]
    },
    {
     "name": "stdout",
     "output_type": "stream",
     "text": [
      "Epoch 280 - Train Loss: 0.3431, Train MSE: 0.3427, Train MAE: 0.4456\n",
      "Epoch 280 - Validation Loss: 2.0593, Validation MSE: 2.0547, Validation MAE: 1.1337\n"
     ]
    },
    {
     "name": "stderr",
     "output_type": "stream",
     "text": [
      "Training Epoch 282: 100%|██████████| 259/259 [00:03<00:00, 75.51it/s]\n",
      "Training Epoch 283: 100%|██████████| 259/259 [00:03<00:00, 75.09it/s]\n",
      "Training Epoch 284: 100%|██████████| 259/259 [00:03<00:00, 75.64it/s]\n",
      "Training Epoch 285: 100%|██████████| 259/259 [00:03<00:00, 76.78it/s]\n",
      "Training Epoch 286: 100%|██████████| 259/259 [00:03<00:00, 73.22it/s]\n",
      "Training Epoch 287: 100%|██████████| 259/259 [00:03<00:00, 73.09it/s]\n",
      "Training Epoch 288: 100%|██████████| 259/259 [00:03<00:00, 73.72it/s]\n",
      "Training Epoch 289: 100%|██████████| 259/259 [00:03<00:00, 71.87it/s]\n",
      "Training Epoch 290: 100%|██████████| 259/259 [00:03<00:00, 74.46it/s]\n",
      "Training Epoch 291: 100%|██████████| 259/259 [00:03<00:00, 70.58it/s]\n"
     ]
    },
    {
     "name": "stdout",
     "output_type": "stream",
     "text": [
      "Epoch 290 - Train Loss: 0.3443, Train MSE: 0.3443, Train MAE: 0.4459\n",
      "Epoch 290 - Validation Loss: 2.0891, Validation MSE: 2.0849, Validation MAE: 1.1326\n"
     ]
    },
    {
     "name": "stderr",
     "output_type": "stream",
     "text": [
      "Training Epoch 292: 100%|██████████| 259/259 [00:03<00:00, 69.07it/s]\n",
      "Training Epoch 293: 100%|██████████| 259/259 [00:03<00:00, 73.55it/s]\n",
      "Training Epoch 294: 100%|██████████| 259/259 [00:03<00:00, 69.59it/s]\n",
      "Training Epoch 295: 100%|██████████| 259/259 [00:04<00:00, 62.90it/s]\n",
      "Training Epoch 296: 100%|██████████| 259/259 [00:03<00:00, 70.54it/s]\n",
      "Training Epoch 297: 100%|██████████| 259/259 [00:03<00:00, 75.65it/s]\n",
      "Training Epoch 298: 100%|██████████| 259/259 [00:03<00:00, 73.97it/s]\n",
      "Training Epoch 299: 100%|██████████| 259/259 [00:03<00:00, 72.90it/s]\n",
      "Training Epoch 300: 100%|██████████| 259/259 [00:03<00:00, 68.04it/s]\n",
      "Training Epoch 301: 100%|██████████| 259/259 [00:03<00:00, 75.88it/s]\n"
     ]
    },
    {
     "name": "stdout",
     "output_type": "stream",
     "text": [
      "Epoch 300 - Train Loss: 0.3271, Train MSE: 0.3272, Train MAE: 0.4373\n",
      "Epoch 300 - Validation Loss: 2.0116, Validation MSE: 2.0096, Validation MAE: 1.1109\n"
     ]
    },
    {
     "name": "stderr",
     "output_type": "stream",
     "text": [
      "Training Epoch 302: 100%|██████████| 259/259 [00:03<00:00, 75.37it/s]\n",
      "Training Epoch 303: 100%|██████████| 259/259 [00:03<00:00, 74.52it/s]\n",
      "Training Epoch 304: 100%|██████████| 259/259 [00:03<00:00, 73.65it/s]\n",
      "Training Epoch 305: 100%|██████████| 259/259 [00:03<00:00, 69.36it/s]\n",
      "Training Epoch 306: 100%|██████████| 259/259 [00:03<00:00, 71.89it/s]\n",
      "Training Epoch 307: 100%|██████████| 259/259 [00:03<00:00, 74.69it/s]\n",
      "Training Epoch 308: 100%|██████████| 259/259 [00:03<00:00, 73.13it/s]\n",
      "Training Epoch 309: 100%|██████████| 259/259 [00:03<00:00, 77.38it/s]\n",
      "Training Epoch 310: 100%|██████████| 259/259 [00:03<00:00, 79.37it/s]\n",
      "Training Epoch 311: 100%|██████████| 259/259 [00:03<00:00, 65.87it/s]\n"
     ]
    },
    {
     "name": "stdout",
     "output_type": "stream",
     "text": [
      "Epoch 310 - Train Loss: 0.3175, Train MSE: 0.3177, Train MAE: 0.4296\n",
      "Epoch 310 - Validation Loss: 1.9752, Validation MSE: 1.9702, Validation MAE: 1.1031\n"
     ]
    },
    {
     "name": "stderr",
     "output_type": "stream",
     "text": [
      "Training Epoch 312: 100%|██████████| 259/259 [00:03<00:00, 76.75it/s]\n",
      "Training Epoch 313: 100%|██████████| 259/259 [00:03<00:00, 80.34it/s]\n",
      "Training Epoch 314: 100%|██████████| 259/259 [00:03<00:00, 78.59it/s]\n",
      "Training Epoch 315: 100%|██████████| 259/259 [00:03<00:00, 81.58it/s]\n",
      "Training Epoch 316: 100%|██████████| 259/259 [00:03<00:00, 79.23it/s]\n",
      "Training Epoch 317: 100%|██████████| 259/259 [00:03<00:00, 83.03it/s]\n",
      "Training Epoch 318: 100%|██████████| 259/259 [00:03<00:00, 80.17it/s]\n",
      "Training Epoch 319: 100%|██████████| 259/259 [00:03<00:00, 83.08it/s]\n",
      "Training Epoch 320: 100%|██████████| 259/259 [00:03<00:00, 79.81it/s]\n",
      "Training Epoch 321: 100%|██████████| 259/259 [00:03<00:00, 85.57it/s]\n"
     ]
    },
    {
     "name": "stdout",
     "output_type": "stream",
     "text": [
      "Epoch 320 - Train Loss: 0.3037, Train MSE: 0.3035, Train MAE: 0.4212\n",
      "Epoch 320 - Validation Loss: 2.0045, Validation MSE: 2.0005, Validation MAE: 1.1065\n"
     ]
    },
    {
     "name": "stderr",
     "output_type": "stream",
     "text": [
      "Training Epoch 322: 100%|██████████| 259/259 [00:03<00:00, 82.32it/s]\n",
      "Training Epoch 323: 100%|██████████| 259/259 [00:03<00:00, 82.85it/s]\n",
      "Training Epoch 324: 100%|██████████| 259/259 [00:03<00:00, 83.72it/s]\n",
      "Training Epoch 325: 100%|██████████| 259/259 [00:03<00:00, 84.44it/s]\n",
      "Training Epoch 326: 100%|██████████| 259/259 [00:03<00:00, 85.35it/s]\n",
      "Training Epoch 327: 100%|██████████| 259/259 [00:03<00:00, 81.37it/s]\n",
      "Training Epoch 328: 100%|██████████| 259/259 [00:03<00:00, 82.94it/s]\n",
      "Training Epoch 329: 100%|██████████| 259/259 [00:02<00:00, 86.55it/s]\n",
      "Training Epoch 330: 100%|██████████| 259/259 [00:03<00:00, 83.77it/s]\n",
      "Training Epoch 331: 100%|██████████| 259/259 [00:03<00:00, 84.29it/s]\n"
     ]
    },
    {
     "name": "stdout",
     "output_type": "stream",
     "text": [
      "Epoch 330 - Train Loss: 0.3088, Train MSE: 0.3088, Train MAE: 0.4222\n",
      "Epoch 330 - Validation Loss: 2.0183, Validation MSE: 2.0144, Validation MAE: 1.1106\n"
     ]
    },
    {
     "name": "stderr",
     "output_type": "stream",
     "text": [
      "Training Epoch 332: 100%|██████████| 259/259 [00:03<00:00, 83.03it/s]\n",
      "Training Epoch 333: 100%|██████████| 259/259 [00:03<00:00, 81.03it/s]\n",
      "Training Epoch 334: 100%|██████████| 259/259 [00:02<00:00, 87.12it/s]\n",
      "Training Epoch 335: 100%|██████████| 259/259 [00:02<00:00, 87.79it/s]\n",
      "Training Epoch 336: 100%|██████████| 259/259 [00:03<00:00, 84.77it/s]\n",
      "Training Epoch 337: 100%|██████████| 259/259 [00:03<00:00, 84.40it/s]\n",
      "Training Epoch 338: 100%|██████████| 259/259 [00:03<00:00, 83.99it/s]\n",
      "Training Epoch 339: 100%|██████████| 259/259 [00:03<00:00, 82.51it/s]\n",
      "Training Epoch 340: 100%|██████████| 259/259 [00:02<00:00, 87.95it/s]\n",
      "Training Epoch 341: 100%|██████████| 259/259 [00:03<00:00, 83.86it/s]\n"
     ]
    },
    {
     "name": "stdout",
     "output_type": "stream",
     "text": [
      "Epoch 340 - Train Loss: 0.2958, Train MSE: 0.2960, Train MAE: 0.4139\n",
      "Epoch 340 - Validation Loss: 2.0597, Validation MSE: 2.0569, Validation MAE: 1.1271\n"
     ]
    },
    {
     "name": "stderr",
     "output_type": "stream",
     "text": [
      "Training Epoch 342: 100%|██████████| 259/259 [00:03<00:00, 82.49it/s]\n",
      "Training Epoch 343: 100%|██████████| 259/259 [00:03<00:00, 84.79it/s]\n",
      "Training Epoch 344: 100%|██████████| 259/259 [00:03<00:00, 81.07it/s]\n",
      "Training Epoch 345: 100%|██████████| 259/259 [00:03<00:00, 81.68it/s]\n",
      "Training Epoch 346: 100%|██████████| 259/259 [00:03<00:00, 84.92it/s]\n",
      "Training Epoch 347: 100%|██████████| 259/259 [00:03<00:00, 80.60it/s]\n",
      "Training Epoch 348: 100%|██████████| 259/259 [00:03<00:00, 82.95it/s]\n",
      "Training Epoch 349: 100%|██████████| 259/259 [00:03<00:00, 83.59it/s]\n",
      "Training Epoch 350: 100%|██████████| 259/259 [00:03<00:00, 85.81it/s]\n",
      "Training Epoch 351: 100%|██████████| 259/259 [00:03<00:00, 85.13it/s]\n"
     ]
    },
    {
     "name": "stdout",
     "output_type": "stream",
     "text": [
      "Epoch 350 - Train Loss: 0.3062, Train MSE: 0.3063, Train MAE: 0.4205\n",
      "Epoch 350 - Validation Loss: 2.0448, Validation MSE: 2.0402, Validation MAE: 1.1119\n"
     ]
    },
    {
     "name": "stderr",
     "output_type": "stream",
     "text": [
      "Training Epoch 352: 100%|██████████| 259/259 [00:03<00:00, 83.25it/s]\n",
      "Training Epoch 353: 100%|██████████| 259/259 [00:02<00:00, 86.53it/s]\n",
      "Training Epoch 354: 100%|██████████| 259/259 [00:03<00:00, 84.44it/s]\n",
      "Training Epoch 355: 100%|██████████| 259/259 [00:03<00:00, 80.91it/s]\n",
      "Training Epoch 356: 100%|██████████| 259/259 [00:03<00:00, 83.42it/s]\n",
      "Training Epoch 357: 100%|██████████| 259/259 [00:03<00:00, 82.64it/s]\n",
      "Training Epoch 358: 100%|██████████| 259/259 [00:03<00:00, 81.10it/s]\n",
      "Training Epoch 359: 100%|██████████| 259/259 [00:03<00:00, 85.40it/s]\n",
      "Training Epoch 360: 100%|██████████| 259/259 [00:03<00:00, 82.37it/s]\n",
      "Training Epoch 361: 100%|██████████| 259/259 [00:03<00:00, 85.05it/s]\n"
     ]
    },
    {
     "name": "stdout",
     "output_type": "stream",
     "text": [
      "Epoch 360 - Train Loss: 0.2976, Train MSE: 0.2974, Train MAE: 0.4118\n",
      "Epoch 360 - Validation Loss: 1.9780, Validation MSE: 1.9773, Validation MAE: 1.0960\n"
     ]
    },
    {
     "name": "stderr",
     "output_type": "stream",
     "text": [
      "Training Epoch 362: 100%|██████████| 259/259 [00:03<00:00, 83.33it/s]\n",
      "Training Epoch 363: 100%|██████████| 259/259 [00:03<00:00, 84.58it/s]\n",
      "Training Epoch 364: 100%|██████████| 259/259 [00:02<00:00, 87.46it/s]\n",
      "Training Epoch 365: 100%|██████████| 259/259 [00:03<00:00, 82.68it/s]\n",
      "Training Epoch 366: 100%|██████████| 259/259 [00:03<00:00, 82.45it/s]\n",
      "Training Epoch 367: 100%|██████████| 259/259 [00:03<00:00, 81.43it/s]\n",
      "Training Epoch 368: 100%|██████████| 259/259 [00:03<00:00, 85.53it/s]\n",
      "Training Epoch 369: 100%|██████████| 259/259 [00:03<00:00, 84.19it/s]\n",
      "Training Epoch 370: 100%|██████████| 259/259 [00:03<00:00, 81.60it/s]\n",
      "Training Epoch 371: 100%|██████████| 259/259 [00:03<00:00, 79.59it/s]\n"
     ]
    },
    {
     "name": "stdout",
     "output_type": "stream",
     "text": [
      "Epoch 370 - Train Loss: 0.2831, Train MSE: 0.2833, Train MAE: 0.4034\n",
      "Epoch 370 - Validation Loss: 2.0404, Validation MSE: 2.0381, Validation MAE: 1.1189\n"
     ]
    },
    {
     "name": "stderr",
     "output_type": "stream",
     "text": [
      "Training Epoch 372: 100%|██████████| 259/259 [00:03<00:00, 81.13it/s]\n",
      "Training Epoch 373: 100%|██████████| 259/259 [00:03<00:00, 84.75it/s]\n",
      "Training Epoch 374: 100%|██████████| 259/259 [00:02<00:00, 86.36it/s]\n",
      "Training Epoch 375: 100%|██████████| 259/259 [00:03<00:00, 83.13it/s]\n",
      "Training Epoch 376: 100%|██████████| 259/259 [00:03<00:00, 78.13it/s]\n",
      "Training Epoch 377: 100%|██████████| 259/259 [00:03<00:00, 80.98it/s]\n",
      "Training Epoch 378: 100%|██████████| 259/259 [00:03<00:00, 80.96it/s]\n",
      "Training Epoch 379: 100%|██████████| 259/259 [00:03<00:00, 83.14it/s]\n",
      "Training Epoch 380: 100%|██████████| 259/259 [00:03<00:00, 83.35it/s]\n",
      "Training Epoch 381: 100%|██████████| 259/259 [00:03<00:00, 81.46it/s]\n"
     ]
    },
    {
     "name": "stdout",
     "output_type": "stream",
     "text": [
      "Epoch 380 - Train Loss: 0.2869, Train MSE: 0.2870, Train MAE: 0.4018\n",
      "Epoch 380 - Validation Loss: 2.0173, Validation MSE: 2.0130, Validation MAE: 1.1150\n"
     ]
    },
    {
     "name": "stderr",
     "output_type": "stream",
     "text": [
      "Training Epoch 382: 100%|██████████| 259/259 [00:03<00:00, 82.19it/s]\n",
      "Training Epoch 383: 100%|██████████| 259/259 [00:03<00:00, 82.34it/s]\n",
      "Training Epoch 384: 100%|██████████| 259/259 [00:02<00:00, 87.11it/s]\n",
      "Training Epoch 385: 100%|██████████| 259/259 [00:03<00:00, 85.20it/s]\n",
      "Training Epoch 386: 100%|██████████| 259/259 [00:03<00:00, 78.35it/s]\n",
      "Training Epoch 387: 100%|██████████| 259/259 [00:03<00:00, 83.64it/s]\n",
      "Training Epoch 388: 100%|██████████| 259/259 [00:03<00:00, 82.98it/s]\n",
      "Training Epoch 389: 100%|██████████| 259/259 [00:03<00:00, 85.55it/s]\n",
      "Training Epoch 390: 100%|██████████| 259/259 [00:03<00:00, 83.03it/s]\n",
      "Training Epoch 391: 100%|██████████| 259/259 [00:03<00:00, 83.26it/s]\n"
     ]
    },
    {
     "name": "stdout",
     "output_type": "stream",
     "text": [
      "Epoch 390 - Train Loss: 0.2714, Train MSE: 0.2713, Train MAE: 0.3948\n",
      "Epoch 390 - Validation Loss: 2.0310, Validation MSE: 2.0280, Validation MAE: 1.1172\n"
     ]
    },
    {
     "name": "stderr",
     "output_type": "stream",
     "text": [
      "Training Epoch 392: 100%|██████████| 259/259 [00:02<00:00, 87.14it/s]\n",
      "Training Epoch 393: 100%|██████████| 259/259 [00:03<00:00, 86.24it/s]\n",
      "Training Epoch 394: 100%|██████████| 259/259 [00:03<00:00, 80.06it/s]\n",
      "Training Epoch 395: 100%|██████████| 259/259 [00:03<00:00, 82.86it/s]\n",
      "Training Epoch 396: 100%|██████████| 259/259 [00:03<00:00, 80.08it/s]\n",
      "Training Epoch 397: 100%|██████████| 259/259 [00:03<00:00, 81.81it/s]\n",
      "Training Epoch 398: 100%|██████████| 259/259 [00:03<00:00, 86.21it/s]\n",
      "Training Epoch 399: 100%|██████████| 259/259 [00:02<00:00, 86.99it/s]\n",
      "Training Epoch 400: 100%|██████████| 259/259 [00:03<00:00, 85.75it/s]\n",
      "Training Epoch 401: 100%|██████████| 259/259 [00:03<00:00, 82.52it/s]\n"
     ]
    },
    {
     "name": "stdout",
     "output_type": "stream",
     "text": [
      "Epoch 400 - Train Loss: 0.2685, Train MSE: 0.2684, Train MAE: 0.3947\n",
      "Epoch 400 - Validation Loss: 1.9975, Validation MSE: 1.9939, Validation MAE: 1.1062\n"
     ]
    },
    {
     "name": "stderr",
     "output_type": "stream",
     "text": [
      "Training Epoch 402: 100%|██████████| 259/259 [00:02<00:00, 87.50it/s]\n",
      "Training Epoch 403: 100%|██████████| 259/259 [00:03<00:00, 83.58it/s]\n",
      "Training Epoch 404: 100%|██████████| 259/259 [00:03<00:00, 84.20it/s]\n",
      "Training Epoch 405: 100%|██████████| 259/259 [00:03<00:00, 83.69it/s]\n",
      "Training Epoch 406: 100%|██████████| 259/259 [00:03<00:00, 82.50it/s]\n",
      "Training Epoch 407: 100%|██████████| 259/259 [00:03<00:00, 85.91it/s]\n",
      "Training Epoch 408: 100%|██████████| 259/259 [00:03<00:00, 83.85it/s]\n",
      "Training Epoch 409: 100%|██████████| 259/259 [00:03<00:00, 85.35it/s]\n",
      "Training Epoch 410: 100%|██████████| 259/259 [00:03<00:00, 85.57it/s]\n",
      "Training Epoch 411: 100%|██████████| 259/259 [00:03<00:00, 84.07it/s]\n"
     ]
    },
    {
     "name": "stdout",
     "output_type": "stream",
     "text": [
      "Epoch 410 - Train Loss: 0.2670, Train MSE: 0.2670, Train MAE: 0.3890\n",
      "Epoch 410 - Validation Loss: 2.0107, Validation MSE: 2.0068, Validation MAE: 1.1075\n"
     ]
    },
    {
     "name": "stderr",
     "output_type": "stream",
     "text": [
      "Training Epoch 412: 100%|██████████| 259/259 [00:03<00:00, 84.65it/s]\n",
      "Training Epoch 413: 100%|██████████| 259/259 [00:03<00:00, 80.72it/s]\n",
      "Training Epoch 414: 100%|██████████| 259/259 [00:03<00:00, 82.65it/s]\n",
      "Training Epoch 415: 100%|██████████| 259/259 [00:03<00:00, 81.59it/s]\n",
      "Training Epoch 416: 100%|██████████| 259/259 [00:02<00:00, 86.42it/s]\n",
      "Training Epoch 417: 100%|██████████| 259/259 [00:03<00:00, 80.96it/s]\n",
      "Training Epoch 418: 100%|██████████| 259/259 [00:03<00:00, 85.30it/s]\n",
      "Training Epoch 419: 100%|██████████| 259/259 [00:03<00:00, 84.51it/s]\n",
      "Training Epoch 420: 100%|██████████| 259/259 [00:03<00:00, 86.07it/s]\n",
      "Training Epoch 421: 100%|██████████| 259/259 [00:03<00:00, 84.70it/s]\n"
     ]
    },
    {
     "name": "stdout",
     "output_type": "stream",
     "text": [
      "Epoch 420 - Train Loss: 0.2744, Train MSE: 0.2741, Train MAE: 0.3942\n",
      "Epoch 420 - Validation Loss: 2.0207, Validation MSE: 2.0151, Validation MAE: 1.1178\n"
     ]
    },
    {
     "name": "stderr",
     "output_type": "stream",
     "text": [
      "Training Epoch 422: 100%|██████████| 259/259 [00:03<00:00, 84.81it/s]\n",
      "Training Epoch 423: 100%|██████████| 259/259 [00:03<00:00, 84.81it/s]\n",
      "Training Epoch 424: 100%|██████████| 259/259 [00:03<00:00, 78.71it/s]\n",
      "Training Epoch 425: 100%|██████████| 259/259 [00:03<00:00, 81.17it/s]\n",
      "Training Epoch 426: 100%|██████████| 259/259 [00:03<00:00, 80.12it/s]\n",
      "Training Epoch 427: 100%|██████████| 259/259 [00:03<00:00, 85.58it/s]\n",
      "Training Epoch 428: 100%|██████████| 259/259 [00:03<00:00, 83.05it/s]\n",
      "Training Epoch 429: 100%|██████████| 259/259 [00:03<00:00, 84.98it/s]\n",
      "Training Epoch 430: 100%|██████████| 259/259 [00:03<00:00, 84.92it/s]\n",
      "Training Epoch 431: 100%|██████████| 259/259 [00:03<00:00, 78.88it/s]\n"
     ]
    },
    {
     "name": "stdout",
     "output_type": "stream",
     "text": [
      "Epoch 430 - Train Loss: 0.2660, Train MSE: 0.2659, Train MAE: 0.3899\n",
      "Epoch 430 - Validation Loss: 2.0065, Validation MSE: 2.0009, Validation MAE: 1.1056\n"
     ]
    },
    {
     "name": "stderr",
     "output_type": "stream",
     "text": [
      "Training Epoch 432: 100%|██████████| 259/259 [00:03<00:00, 84.79it/s]\n",
      "Training Epoch 433: 100%|██████████| 259/259 [00:02<00:00, 86.55it/s]\n",
      "Training Epoch 434: 100%|██████████| 259/259 [00:02<00:00, 86.83it/s]\n",
      "Training Epoch 435: 100%|██████████| 259/259 [00:03<00:00, 84.96it/s]\n",
      "Training Epoch 436: 100%|██████████| 259/259 [00:03<00:00, 78.50it/s]\n",
      "Training Epoch 437: 100%|██████████| 259/259 [00:03<00:00, 84.57it/s]\n",
      "Training Epoch 438: 100%|██████████| 259/259 [00:03<00:00, 83.34it/s]\n",
      "Training Epoch 439: 100%|██████████| 259/259 [00:03<00:00, 82.74it/s]\n",
      "Training Epoch 440: 100%|██████████| 259/259 [00:02<00:00, 88.03it/s]\n",
      "Training Epoch 441: 100%|██████████| 259/259 [00:03<00:00, 82.85it/s]\n"
     ]
    },
    {
     "name": "stdout",
     "output_type": "stream",
     "text": [
      "Epoch 440 - Train Loss: 0.2564, Train MSE: 0.2566, Train MAE: 0.3843\n",
      "Epoch 440 - Validation Loss: 2.0347, Validation MSE: 2.0303, Validation MAE: 1.1161\n"
     ]
    },
    {
     "name": "stderr",
     "output_type": "stream",
     "text": [
      "Training Epoch 442: 100%|██████████| 259/259 [00:03<00:00, 83.95it/s]\n",
      "Training Epoch 443: 100%|██████████| 259/259 [00:03<00:00, 84.73it/s]\n",
      "Training Epoch 444: 100%|██████████| 259/259 [00:03<00:00, 84.53it/s]\n",
      "Training Epoch 445: 100%|██████████| 259/259 [00:03<00:00, 84.23it/s]\n",
      "Training Epoch 446: 100%|██████████| 259/259 [00:03<00:00, 83.69it/s]\n",
      "Training Epoch 447: 100%|██████████| 259/259 [00:03<00:00, 84.99it/s]\n",
      "Training Epoch 448: 100%|██████████| 259/259 [00:02<00:00, 87.13it/s]\n",
      "Training Epoch 449: 100%|██████████| 259/259 [00:03<00:00, 83.05it/s]\n",
      "Training Epoch 450: 100%|██████████| 259/259 [00:03<00:00, 79.90it/s]\n",
      "Training Epoch 451: 100%|██████████| 259/259 [00:03<00:00, 81.59it/s]\n"
     ]
    },
    {
     "name": "stdout",
     "output_type": "stream",
     "text": [
      "Epoch 450 - Train Loss: 0.2605, Train MSE: 0.2606, Train MAE: 0.3864\n",
      "Epoch 450 - Validation Loss: 1.9804, Validation MSE: 1.9754, Validation MAE: 1.0987\n"
     ]
    },
    {
     "name": "stderr",
     "output_type": "stream",
     "text": [
      "Training Epoch 452: 100%|██████████| 259/259 [00:03<00:00, 84.26it/s]\n",
      "Training Epoch 453: 100%|██████████| 259/259 [00:03<00:00, 84.15it/s]\n",
      "Training Epoch 454: 100%|██████████| 259/259 [00:03<00:00, 82.71it/s]\n",
      "Training Epoch 455: 100%|██████████| 259/259 [00:03<00:00, 83.96it/s]\n",
      "Training Epoch 456: 100%|██████████| 259/259 [00:03<00:00, 80.95it/s]\n",
      "Training Epoch 457: 100%|██████████| 259/259 [00:03<00:00, 85.60it/s]\n",
      "Training Epoch 458: 100%|██████████| 259/259 [00:03<00:00, 83.74it/s]\n",
      "Training Epoch 459: 100%|██████████| 259/259 [00:02<00:00, 86.83it/s]\n",
      "Training Epoch 460: 100%|██████████| 259/259 [00:03<00:00, 79.00it/s]\n",
      "Training Epoch 461: 100%|██████████| 259/259 [00:03<00:00, 82.46it/s]\n"
     ]
    },
    {
     "name": "stdout",
     "output_type": "stream",
     "text": [
      "Epoch 460 - Train Loss: 0.2564, Train MSE: 0.2566, Train MAE: 0.3818\n",
      "Epoch 460 - Validation Loss: 1.9657, Validation MSE: 1.9614, Validation MAE: 1.0985\n"
     ]
    },
    {
     "name": "stderr",
     "output_type": "stream",
     "text": [
      "Training Epoch 462: 100%|██████████| 259/259 [00:02<00:00, 87.66it/s]\n",
      "Training Epoch 463: 100%|██████████| 259/259 [00:03<00:00, 85.32it/s]\n",
      "Training Epoch 464: 100%|██████████| 259/259 [00:03<00:00, 86.11it/s]\n",
      "Training Epoch 465: 100%|██████████| 259/259 [00:02<00:00, 86.51it/s]\n",
      "Training Epoch 466: 100%|██████████| 259/259 [00:03<00:00, 83.32it/s]\n",
      "Training Epoch 467: 100%|██████████| 259/259 [00:03<00:00, 84.45it/s]\n",
      "Training Epoch 468: 100%|██████████| 259/259 [00:03<00:00, 84.08it/s]\n",
      "Training Epoch 469: 100%|██████████| 259/259 [00:03<00:00, 84.00it/s]\n",
      "Training Epoch 470: 100%|██████████| 259/259 [00:03<00:00, 80.74it/s]\n",
      "Training Epoch 471: 100%|██████████| 259/259 [00:03<00:00, 84.79it/s]\n"
     ]
    },
    {
     "name": "stdout",
     "output_type": "stream",
     "text": [
      "Epoch 470 - Train Loss: 0.2477, Train MSE: 0.2479, Train MAE: 0.3751\n",
      "Epoch 470 - Validation Loss: 2.0253, Validation MSE: 2.0214, Validation MAE: 1.1205\n"
     ]
    },
    {
     "name": "stderr",
     "output_type": "stream",
     "text": [
      "Training Epoch 472: 100%|██████████| 259/259 [00:03<00:00, 81.74it/s]\n",
      "Training Epoch 473: 100%|██████████| 259/259 [00:03<00:00, 85.58it/s]\n",
      "Training Epoch 474: 100%|██████████| 259/259 [00:03<00:00, 84.40it/s]\n",
      "Training Epoch 475: 100%|██████████| 259/259 [00:03<00:00, 81.47it/s]\n",
      "Training Epoch 476: 100%|██████████| 259/259 [00:03<00:00, 82.85it/s]\n",
      "Training Epoch 477: 100%|██████████| 259/259 [00:03<00:00, 82.45it/s]\n",
      "Training Epoch 478: 100%|██████████| 259/259 [00:03<00:00, 83.08it/s]\n",
      "Training Epoch 479: 100%|██████████| 259/259 [00:02<00:00, 86.41it/s]\n",
      "Training Epoch 480: 100%|██████████| 259/259 [00:03<00:00, 78.98it/s]\n",
      "Training Epoch 481: 100%|██████████| 259/259 [00:03<00:00, 86.24it/s]\n"
     ]
    },
    {
     "name": "stdout",
     "output_type": "stream",
     "text": [
      "Epoch 480 - Train Loss: 0.2484, Train MSE: 0.2485, Train MAE: 0.3766\n",
      "Epoch 480 - Validation Loss: 1.9801, Validation MSE: 1.9769, Validation MAE: 1.1000\n"
     ]
    },
    {
     "name": "stderr",
     "output_type": "stream",
     "text": [
      "Training Epoch 482: 100%|██████████| 259/259 [00:02<00:00, 87.55it/s]\n",
      "Training Epoch 483: 100%|██████████| 259/259 [00:03<00:00, 85.55it/s]\n",
      "Training Epoch 484: 100%|██████████| 259/259 [00:03<00:00, 83.08it/s]\n",
      "Training Epoch 485: 100%|██████████| 259/259 [00:03<00:00, 82.45it/s]\n",
      "Training Epoch 486: 100%|██████████| 259/259 [00:02<00:00, 86.49it/s]\n",
      "Training Epoch 487: 100%|██████████| 259/259 [00:03<00:00, 84.18it/s]\n",
      "Training Epoch 488: 100%|██████████| 259/259 [00:03<00:00, 81.19it/s]\n",
      "Training Epoch 489: 100%|██████████| 259/259 [00:03<00:00, 82.34it/s]\n",
      "Training Epoch 490: 100%|██████████| 259/259 [00:03<00:00, 81.59it/s]\n",
      "Training Epoch 491: 100%|██████████| 259/259 [00:03<00:00, 84.23it/s]\n"
     ]
    },
    {
     "name": "stdout",
     "output_type": "stream",
     "text": [
      "Epoch 490 - Train Loss: 0.2418, Train MSE: 0.2415, Train MAE: 0.3700\n",
      "Epoch 490 - Validation Loss: 2.0270, Validation MSE: 2.0229, Validation MAE: 1.1179\n"
     ]
    },
    {
     "name": "stderr",
     "output_type": "stream",
     "text": [
      "Training Epoch 492: 100%|██████████| 259/259 [00:03<00:00, 82.24it/s]\n",
      "Training Epoch 493: 100%|██████████| 259/259 [00:02<00:00, 86.76it/s]\n",
      "Training Epoch 494: 100%|██████████| 259/259 [00:03<00:00, 83.86it/s]\n",
      "Training Epoch 495: 100%|██████████| 259/259 [00:03<00:00, 80.65it/s]\n",
      "Training Epoch 496: 100%|██████████| 259/259 [00:03<00:00, 76.83it/s]\n",
      "Training Epoch 497: 100%|██████████| 259/259 [00:03<00:00, 81.78it/s]\n",
      "Training Epoch 498: 100%|██████████| 259/259 [00:03<00:00, 83.06it/s]\n",
      "Training Epoch 499: 100%|██████████| 259/259 [00:03<00:00, 84.28it/s]\n",
      "Training Epoch 500: 100%|██████████| 259/259 [00:03<00:00, 81.40it/s]\n",
      "Training Epoch 501: 100%|██████████| 259/259 [00:03<00:00, 77.26it/s]\n"
     ]
    },
    {
     "name": "stdout",
     "output_type": "stream",
     "text": [
      "Epoch 500 - Train Loss: 0.2444, Train MSE: 0.2446, Train MAE: 0.3713\n",
      "Epoch 500 - Validation Loss: 1.9552, Validation MSE: 1.9523, Validation MAE: 1.1008\n"
     ]
    },
    {
     "name": "stderr",
     "output_type": "stream",
     "text": [
      "Training Epoch 502: 100%|██████████| 259/259 [00:03<00:00, 81.13it/s]\n",
      "Training Epoch 503: 100%|██████████| 259/259 [00:03<00:00, 72.70it/s]\n",
      "Training Epoch 504: 100%|██████████| 259/259 [00:03<00:00, 71.77it/s]\n",
      "Training Epoch 505: 100%|██████████| 259/259 [00:03<00:00, 77.38it/s]\n",
      "Training Epoch 506: 100%|██████████| 259/259 [00:03<00:00, 68.73it/s]\n",
      "Training Epoch 507: 100%|██████████| 259/259 [00:03<00:00, 75.75it/s]\n",
      "Training Epoch 508: 100%|██████████| 259/259 [00:03<00:00, 81.60it/s]\n",
      "Training Epoch 509: 100%|██████████| 259/259 [00:03<00:00, 74.62it/s]\n",
      "Training Epoch 510: 100%|██████████| 259/259 [00:03<00:00, 79.87it/s]\n",
      "Training Epoch 511: 100%|██████████| 259/259 [00:03<00:00, 81.16it/s]\n"
     ]
    },
    {
     "name": "stdout",
     "output_type": "stream",
     "text": [
      "Epoch 510 - Train Loss: 0.2375, Train MSE: 0.2374, Train MAE: 0.3679\n",
      "Epoch 510 - Validation Loss: 1.9935, Validation MSE: 1.9885, Validation MAE: 1.1097\n"
     ]
    },
    {
     "name": "stderr",
     "output_type": "stream",
     "text": [
      "Training Epoch 512: 100%|██████████| 259/259 [00:03<00:00, 84.38it/s]\n",
      "Training Epoch 513: 100%|██████████| 259/259 [00:03<00:00, 84.24it/s]\n",
      "Training Epoch 514: 100%|██████████| 259/259 [00:05<00:00, 48.83it/s]\n",
      "Training Epoch 515: 100%|██████████| 259/259 [00:04<00:00, 60.61it/s]\n",
      "Training Epoch 516: 100%|██████████| 259/259 [00:04<00:00, 59.28it/s]\n",
      "Training Epoch 517: 100%|██████████| 259/259 [00:03<00:00, 73.54it/s]\n",
      "Training Epoch 518: 100%|██████████| 259/259 [00:03<00:00, 78.67it/s]\n",
      "Training Epoch 519: 100%|██████████| 259/259 [00:03<00:00, 80.03it/s]\n",
      "Training Epoch 520: 100%|██████████| 259/259 [00:03<00:00, 84.03it/s]\n",
      "Training Epoch 521: 100%|██████████| 259/259 [00:03<00:00, 73.59it/s]\n"
     ]
    },
    {
     "name": "stdout",
     "output_type": "stream",
     "text": [
      "Epoch 520 - Train Loss: 0.2407, Train MSE: 0.2409, Train MAE: 0.3676\n",
      "Epoch 520 - Validation Loss: 1.9939, Validation MSE: 1.9901, Validation MAE: 1.1013\n"
     ]
    },
    {
     "name": "stderr",
     "output_type": "stream",
     "text": [
      "Training Epoch 522: 100%|██████████| 259/259 [00:03<00:00, 80.75it/s]\n",
      "Training Epoch 523: 100%|██████████| 259/259 [00:03<00:00, 84.51it/s]\n",
      "Training Epoch 524: 100%|██████████| 259/259 [00:03<00:00, 83.08it/s]\n",
      "Training Epoch 525: 100%|██████████| 259/259 [00:03<00:00, 84.70it/s]\n",
      "Training Epoch 526: 100%|██████████| 259/259 [00:03<00:00, 81.27it/s]\n",
      "Training Epoch 527: 100%|██████████| 259/259 [00:03<00:00, 75.30it/s]\n",
      "Training Epoch 528: 100%|██████████| 259/259 [00:03<00:00, 83.54it/s]\n",
      "Training Epoch 529: 100%|██████████| 259/259 [00:03<00:00, 80.50it/s]\n",
      "Training Epoch 530: 100%|██████████| 259/259 [00:03<00:00, 70.87it/s]\n",
      "Training Epoch 531: 100%|██████████| 259/259 [00:03<00:00, 74.70it/s]\n"
     ]
    },
    {
     "name": "stdout",
     "output_type": "stream",
     "text": [
      "Epoch 530 - Train Loss: 0.2277, Train MSE: 0.2279, Train MAE: 0.3608\n",
      "Epoch 530 - Validation Loss: 1.9672, Validation MSE: 1.9643, Validation MAE: 1.1142\n"
     ]
    },
    {
     "name": "stderr",
     "output_type": "stream",
     "text": [
      "Training Epoch 532: 100%|██████████| 259/259 [00:03<00:00, 84.62it/s]\n",
      "Training Epoch 533: 100%|██████████| 259/259 [00:03<00:00, 80.91it/s]\n",
      "Training Epoch 534: 100%|██████████| 259/259 [00:02<00:00, 87.59it/s]\n",
      "Training Epoch 535: 100%|██████████| 259/259 [00:03<00:00, 83.08it/s]\n",
      "Training Epoch 536: 100%|██████████| 259/259 [00:03<00:00, 83.77it/s]\n",
      "Training Epoch 537: 100%|██████████| 259/259 [00:03<00:00, 79.82it/s]\n",
      "Training Epoch 538: 100%|██████████| 259/259 [00:03<00:00, 77.17it/s]\n",
      "Training Epoch 539: 100%|██████████| 259/259 [00:03<00:00, 72.08it/s]\n",
      "Training Epoch 540: 100%|██████████| 259/259 [00:03<00:00, 76.77it/s]\n",
      "Training Epoch 541: 100%|██████████| 259/259 [00:03<00:00, 83.42it/s]\n"
     ]
    },
    {
     "name": "stdout",
     "output_type": "stream",
     "text": [
      "Epoch 540 - Train Loss: 0.2214, Train MSE: 0.2215, Train MAE: 0.3550\n",
      "Epoch 540 - Validation Loss: 2.0171, Validation MSE: 2.0124, Validation MAE: 1.1078\n"
     ]
    },
    {
     "name": "stderr",
     "output_type": "stream",
     "text": [
      "Training Epoch 542: 100%|██████████| 259/259 [00:03<00:00, 82.32it/s]\n",
      "Training Epoch 543: 100%|██████████| 259/259 [00:03<00:00, 79.13it/s]\n",
      "Training Epoch 544: 100%|██████████| 259/259 [00:03<00:00, 79.99it/s]\n",
      "Training Epoch 545: 100%|██████████| 259/259 [00:03<00:00, 82.45it/s]\n",
      "Training Epoch 546: 100%|██████████| 259/259 [00:02<00:00, 86.87it/s]\n",
      "Training Epoch 547: 100%|██████████| 259/259 [00:03<00:00, 85.46it/s]\n",
      "Training Epoch 548: 100%|██████████| 259/259 [00:03<00:00, 82.58it/s]\n",
      "Training Epoch 549: 100%|██████████| 259/259 [00:03<00:00, 80.46it/s]\n",
      "Training Epoch 550: 100%|██████████| 259/259 [00:03<00:00, 82.16it/s]\n",
      "Training Epoch 551: 100%|██████████| 259/259 [00:03<00:00, 83.49it/s]\n"
     ]
    },
    {
     "name": "stdout",
     "output_type": "stream",
     "text": [
      "Epoch 550 - Train Loss: 0.2260, Train MSE: 0.2260, Train MAE: 0.3570\n",
      "Epoch 550 - Validation Loss: 1.9679, Validation MSE: 1.9645, Validation MAE: 1.1082\n"
     ]
    },
    {
     "name": "stderr",
     "output_type": "stream",
     "text": [
      "Training Epoch 552: 100%|██████████| 259/259 [00:03<00:00, 86.01it/s]\n",
      "Training Epoch 553: 100%|██████████| 259/259 [00:03<00:00, 83.84it/s]\n",
      "Training Epoch 554: 100%|██████████| 259/259 [00:03<00:00, 86.13it/s]\n",
      "Training Epoch 555: 100%|██████████| 259/259 [00:03<00:00, 79.22it/s]\n",
      "Training Epoch 556: 100%|██████████| 259/259 [00:03<00:00, 81.54it/s]\n",
      "Training Epoch 557: 100%|██████████| 259/259 [00:03<00:00, 70.86it/s]\n",
      "Training Epoch 558: 100%|██████████| 259/259 [00:03<00:00, 80.40it/s]\n",
      "Training Epoch 559: 100%|██████████| 259/259 [00:03<00:00, 82.79it/s]\n",
      "Training Epoch 560: 100%|██████████| 259/259 [00:03<00:00, 78.87it/s]\n",
      "Training Epoch 561: 100%|██████████| 259/259 [00:03<00:00, 78.23it/s]\n"
     ]
    },
    {
     "name": "stdout",
     "output_type": "stream",
     "text": [
      "Epoch 560 - Train Loss: 0.2346, Train MSE: 0.2341, Train MAE: 0.3600\n",
      "Epoch 560 - Validation Loss: 1.9989, Validation MSE: 1.9952, Validation MAE: 1.1053\n"
     ]
    },
    {
     "name": "stderr",
     "output_type": "stream",
     "text": [
      "Training Epoch 562: 100%|██████████| 259/259 [00:03<00:00, 72.11it/s]\n",
      "Training Epoch 563: 100%|██████████| 259/259 [00:03<00:00, 76.17it/s]\n",
      "Training Epoch 564: 100%|██████████| 259/259 [00:03<00:00, 70.41it/s]\n",
      "Training Epoch 565: 100%|██████████| 259/259 [00:03<00:00, 76.39it/s]\n",
      "Training Epoch 566: 100%|██████████| 259/259 [00:03<00:00, 79.91it/s]\n",
      "Training Epoch 567: 100%|██████████| 259/259 [00:03<00:00, 78.67it/s]\n",
      "Training Epoch 568: 100%|██████████| 259/259 [00:03<00:00, 76.96it/s]\n",
      "Training Epoch 569: 100%|██████████| 259/259 [00:03<00:00, 74.52it/s]\n",
      "Training Epoch 570: 100%|██████████| 259/259 [00:03<00:00, 76.22it/s]\n",
      "Training Epoch 571: 100%|██████████| 259/259 [00:03<00:00, 83.90it/s]\n"
     ]
    },
    {
     "name": "stdout",
     "output_type": "stream",
     "text": [
      "Epoch 570 - Train Loss: 0.2237, Train MSE: 0.2234, Train MAE: 0.3553\n",
      "Epoch 570 - Validation Loss: 1.9908, Validation MSE: 1.9851, Validation MAE: 1.1062\n"
     ]
    },
    {
     "name": "stderr",
     "output_type": "stream",
     "text": [
      "Training Epoch 572: 100%|██████████| 259/259 [00:02<00:00, 86.42it/s]\n",
      "Training Epoch 573: 100%|██████████| 259/259 [00:03<00:00, 84.52it/s]\n",
      "Training Epoch 574: 100%|██████████| 259/259 [00:04<00:00, 63.79it/s]\n",
      "Training Epoch 575: 100%|██████████| 259/259 [00:03<00:00, 76.67it/s]\n",
      "Training Epoch 576: 100%|██████████| 259/259 [00:04<00:00, 64.22it/s]\n",
      "Training Epoch 577: 100%|██████████| 259/259 [00:03<00:00, 76.07it/s]\n",
      "Training Epoch 578: 100%|██████████| 259/259 [00:03<00:00, 70.97it/s]\n",
      "Training Epoch 579: 100%|██████████| 259/259 [00:03<00:00, 81.93it/s]\n",
      "Training Epoch 580: 100%|██████████| 259/259 [00:03<00:00, 82.46it/s]\n",
      "Training Epoch 581: 100%|██████████| 259/259 [00:03<00:00, 81.83it/s]\n"
     ]
    },
    {
     "name": "stdout",
     "output_type": "stream",
     "text": [
      "Epoch 580 - Train Loss: 0.2185, Train MSE: 0.2186, Train MAE: 0.3533\n",
      "Epoch 580 - Validation Loss: 1.9836, Validation MSE: 1.9799, Validation MAE: 1.1015\n"
     ]
    },
    {
     "name": "stderr",
     "output_type": "stream",
     "text": [
      "Training Epoch 582: 100%|██████████| 259/259 [00:03<00:00, 72.18it/s]\n",
      "Training Epoch 583: 100%|██████████| 259/259 [00:03<00:00, 74.11it/s]\n",
      "Training Epoch 584: 100%|██████████| 259/259 [00:03<00:00, 80.84it/s]\n",
      "Training Epoch 585: 100%|██████████| 259/259 [00:03<00:00, 78.65it/s]\n",
      "Training Epoch 586: 100%|██████████| 259/259 [00:03<00:00, 70.71it/s]\n",
      "Training Epoch 587: 100%|██████████| 259/259 [00:03<00:00, 73.43it/s]\n",
      "Training Epoch 588: 100%|██████████| 259/259 [00:03<00:00, 84.01it/s]\n",
      "Training Epoch 589: 100%|██████████| 259/259 [00:03<00:00, 85.45it/s]\n",
      "Training Epoch 590: 100%|██████████| 259/259 [00:02<00:00, 86.56it/s]\n",
      "Training Epoch 591: 100%|██████████| 259/259 [00:03<00:00, 77.58it/s]\n"
     ]
    },
    {
     "name": "stdout",
     "output_type": "stream",
     "text": [
      "Epoch 590 - Train Loss: 0.2241, Train MSE: 0.2238, Train MAE: 0.3552\n",
      "Epoch 590 - Validation Loss: 1.9886, Validation MSE: 1.9860, Validation MAE: 1.1059\n"
     ]
    },
    {
     "name": "stderr",
     "output_type": "stream",
     "text": [
      "Training Epoch 592: 100%|██████████| 259/259 [00:03<00:00, 67.50it/s]\n",
      "Training Epoch 593: 100%|██████████| 259/259 [00:03<00:00, 79.58it/s]\n",
      "Training Epoch 594: 100%|██████████| 259/259 [00:03<00:00, 80.18it/s]\n",
      "Training Epoch 595: 100%|██████████| 259/259 [00:03<00:00, 80.36it/s]\n",
      "Training Epoch 596: 100%|██████████| 259/259 [00:03<00:00, 81.49it/s]\n",
      "Training Epoch 597: 100%|██████████| 259/259 [00:03<00:00, 74.39it/s]\n",
      "Training Epoch 598: 100%|██████████| 259/259 [00:03<00:00, 77.39it/s]\n",
      "Training Epoch 599: 100%|██████████| 259/259 [00:03<00:00, 82.05it/s]\n",
      "Training Epoch 600: 100%|██████████| 259/259 [00:03<00:00, 68.96it/s]\n",
      "Training Epoch 601: 100%|██████████| 259/259 [00:03<00:00, 70.76it/s]\n"
     ]
    },
    {
     "name": "stdout",
     "output_type": "stream",
     "text": [
      "Epoch 600 - Train Loss: 0.2216, Train MSE: 0.2217, Train MAE: 0.3545\n",
      "Epoch 600 - Validation Loss: 2.0023, Validation MSE: 1.9991, Validation MAE: 1.1109\n"
     ]
    },
    {
     "name": "stderr",
     "output_type": "stream",
     "text": [
      "Training Epoch 602: 100%|██████████| 259/259 [00:03<00:00, 83.46it/s]\n",
      "Training Epoch 603: 100%|██████████| 259/259 [00:03<00:00, 85.09it/s]\n",
      "Training Epoch 604: 100%|██████████| 259/259 [00:03<00:00, 82.96it/s]\n",
      "Training Epoch 605: 100%|██████████| 259/259 [00:03<00:00, 82.17it/s]\n",
      "Training Epoch 606: 100%|██████████| 259/259 [00:03<00:00, 86.05it/s]\n",
      "Training Epoch 607: 100%|██████████| 259/259 [00:03<00:00, 84.00it/s]\n",
      "Training Epoch 608: 100%|██████████| 259/259 [00:03<00:00, 71.09it/s]\n",
      "Training Epoch 609: 100%|██████████| 259/259 [00:03<00:00, 73.13it/s]\n",
      "Training Epoch 610: 100%|██████████| 259/259 [00:03<00:00, 82.74it/s]\n",
      "Training Epoch 611: 100%|██████████| 259/259 [00:03<00:00, 85.51it/s]\n"
     ]
    },
    {
     "name": "stdout",
     "output_type": "stream",
     "text": [
      "Epoch 610 - Train Loss: 0.2152, Train MSE: 0.2147, Train MAE: 0.3484\n",
      "Epoch 610 - Validation Loss: 1.9805, Validation MSE: 1.9764, Validation MAE: 1.1059\n"
     ]
    },
    {
     "name": "stderr",
     "output_type": "stream",
     "text": [
      "Training Epoch 612: 100%|██████████| 259/259 [00:03<00:00, 83.34it/s]\n",
      "Training Epoch 613: 100%|██████████| 259/259 [00:03<00:00, 83.90it/s]\n",
      "Training Epoch 614: 100%|██████████| 259/259 [00:03<00:00, 84.41it/s]\n",
      "Training Epoch 615: 100%|██████████| 259/259 [00:03<00:00, 81.44it/s]\n",
      "Training Epoch 616: 100%|██████████| 259/259 [00:03<00:00, 83.27it/s]\n",
      "Training Epoch 617: 100%|██████████| 259/259 [00:03<00:00, 84.79it/s]\n",
      "Training Epoch 618: 100%|██████████| 259/259 [00:03<00:00, 78.77it/s]\n",
      "Training Epoch 619: 100%|██████████| 259/259 [00:03<00:00, 82.29it/s]\n",
      "Training Epoch 620: 100%|██████████| 259/259 [00:03<00:00, 79.14it/s]\n",
      "Training Epoch 621: 100%|██████████| 259/259 [00:03<00:00, 83.79it/s]\n"
     ]
    },
    {
     "name": "stdout",
     "output_type": "stream",
     "text": [
      "Epoch 620 - Train Loss: 0.2162, Train MSE: 0.2163, Train MAE: 0.3487\n",
      "Epoch 620 - Validation Loss: 1.9834, Validation MSE: 1.9788, Validation MAE: 1.0973\n"
     ]
    },
    {
     "name": "stderr",
     "output_type": "stream",
     "text": [
      "Training Epoch 622: 100%|██████████| 259/259 [00:03<00:00, 85.13it/s]\n",
      "Training Epoch 623: 100%|██████████| 259/259 [00:03<00:00, 84.92it/s]\n",
      "Training Epoch 624: 100%|██████████| 259/259 [00:03<00:00, 81.25it/s]\n",
      "Training Epoch 625: 100%|██████████| 259/259 [00:03<00:00, 80.27it/s]\n",
      "Training Epoch 626: 100%|██████████| 259/259 [00:03<00:00, 76.95it/s]\n",
      "Training Epoch 627: 100%|██████████| 259/259 [00:03<00:00, 76.36it/s]\n",
      "Training Epoch 628: 100%|██████████| 259/259 [00:03<00:00, 78.14it/s]\n",
      "Training Epoch 629: 100%|██████████| 259/259 [00:03<00:00, 82.17it/s]\n",
      "Training Epoch 630: 100%|██████████| 259/259 [00:03<00:00, 81.80it/s]\n",
      "Training Epoch 631: 100%|██████████| 259/259 [00:03<00:00, 84.36it/s]\n"
     ]
    },
    {
     "name": "stdout",
     "output_type": "stream",
     "text": [
      "Epoch 630 - Train Loss: 0.2077, Train MSE: 0.2077, Train MAE: 0.3430\n",
      "Epoch 630 - Validation Loss: 1.9783, Validation MSE: 1.9761, Validation MAE: 1.0965\n"
     ]
    },
    {
     "name": "stderr",
     "output_type": "stream",
     "text": [
      "Training Epoch 632: 100%|██████████| 259/259 [00:03<00:00, 84.34it/s]\n",
      "Training Epoch 633: 100%|██████████| 259/259 [00:03<00:00, 82.17it/s]\n",
      "Training Epoch 634: 100%|██████████| 259/259 [00:03<00:00, 78.09it/s]\n",
      "Training Epoch 635: 100%|██████████| 259/259 [00:03<00:00, 79.06it/s]\n",
      "Training Epoch 636: 100%|██████████| 259/259 [00:03<00:00, 85.12it/s]\n",
      "Training Epoch 637: 100%|██████████| 259/259 [00:03<00:00, 85.64it/s]\n",
      "Training Epoch 638: 100%|██████████| 259/259 [00:03<00:00, 84.28it/s]\n",
      "Training Epoch 639: 100%|██████████| 259/259 [00:03<00:00, 82.80it/s]\n",
      "Training Epoch 640: 100%|██████████| 259/259 [00:03<00:00, 80.35it/s]\n",
      "Training Epoch 641: 100%|██████████| 259/259 [00:03<00:00, 81.38it/s]\n"
     ]
    },
    {
     "name": "stdout",
     "output_type": "stream",
     "text": [
      "Epoch 640 - Train Loss: 0.2172, Train MSE: 0.2174, Train MAE: 0.3479\n",
      "Epoch 640 - Validation Loss: 1.9994, Validation MSE: 1.9961, Validation MAE: 1.1020\n"
     ]
    },
    {
     "name": "stderr",
     "output_type": "stream",
     "text": [
      "Training Epoch 642: 100%|██████████| 259/259 [00:03<00:00, 80.59it/s]\n",
      "Training Epoch 643: 100%|██████████| 259/259 [00:03<00:00, 83.53it/s]\n",
      "Training Epoch 644: 100%|██████████| 259/259 [00:03<00:00, 74.07it/s]\n",
      "Training Epoch 645: 100%|██████████| 259/259 [00:03<00:00, 77.04it/s]\n",
      "Training Epoch 646: 100%|██████████| 259/259 [00:03<00:00, 84.23it/s]\n",
      "Training Epoch 647: 100%|██████████| 259/259 [00:03<00:00, 83.02it/s]\n",
      "Training Epoch 648: 100%|██████████| 259/259 [00:03<00:00, 85.57it/s]\n",
      "Training Epoch 649: 100%|██████████| 259/259 [00:03<00:00, 80.82it/s]\n",
      "Training Epoch 650: 100%|██████████| 259/259 [00:03<00:00, 83.29it/s]\n",
      "Training Epoch 651: 100%|██████████| 259/259 [00:03<00:00, 82.34it/s]\n"
     ]
    },
    {
     "name": "stdout",
     "output_type": "stream",
     "text": [
      "Epoch 650 - Train Loss: 0.2166, Train MSE: 0.2168, Train MAE: 0.3468\n",
      "Epoch 650 - Validation Loss: 1.9711, Validation MSE: 1.9681, Validation MAE: 1.0942\n"
     ]
    },
    {
     "name": "stderr",
     "output_type": "stream",
     "text": [
      "Training Epoch 652: 100%|██████████| 259/259 [00:03<00:00, 85.26it/s]\n",
      "Training Epoch 653: 100%|██████████| 259/259 [00:03<00:00, 83.23it/s]\n",
      "Training Epoch 654: 100%|██████████| 259/259 [00:03<00:00, 83.81it/s]\n",
      "Training Epoch 655: 100%|██████████| 259/259 [00:03<00:00, 80.59it/s]\n",
      "Training Epoch 656: 100%|██████████| 259/259 [00:03<00:00, 83.59it/s]\n",
      "Training Epoch 657: 100%|██████████| 259/259 [00:03<00:00, 82.18it/s]\n",
      "Training Epoch 658: 100%|██████████| 259/259 [00:03<00:00, 81.47it/s]\n",
      "Training Epoch 659: 100%|██████████| 259/259 [00:02<00:00, 86.39it/s]\n",
      "Training Epoch 660: 100%|██████████| 259/259 [00:03<00:00, 83.47it/s]\n",
      "Training Epoch 661: 100%|██████████| 259/259 [00:03<00:00, 83.74it/s]\n"
     ]
    },
    {
     "name": "stdout",
     "output_type": "stream",
     "text": [
      "Epoch 660 - Train Loss: 0.2069, Train MSE: 0.2068, Train MAE: 0.3367\n",
      "Epoch 660 - Validation Loss: 1.9806, Validation MSE: 1.9768, Validation MAE: 1.0992\n"
     ]
    },
    {
     "name": "stderr",
     "output_type": "stream",
     "text": [
      "Training Epoch 662: 100%|██████████| 259/259 [00:03<00:00, 85.22it/s]\n",
      "Training Epoch 663: 100%|██████████| 259/259 [00:03<00:00, 70.92it/s]\n",
      "Training Epoch 664: 100%|██████████| 259/259 [00:03<00:00, 82.90it/s]\n",
      "Training Epoch 665: 100%|██████████| 259/259 [00:03<00:00, 83.20it/s]\n",
      "Training Epoch 666: 100%|██████████| 259/259 [00:03<00:00, 85.15it/s]\n",
      "Training Epoch 667: 100%|██████████| 259/259 [00:03<00:00, 83.61it/s]\n",
      "Training Epoch 668: 100%|██████████| 259/259 [00:03<00:00, 80.21it/s]\n",
      "Training Epoch 669: 100%|██████████| 259/259 [00:03<00:00, 84.51it/s]\n",
      "Training Epoch 670: 100%|██████████| 259/259 [00:03<00:00, 83.54it/s]\n",
      "Training Epoch 671: 100%|██████████| 259/259 [00:03<00:00, 77.59it/s]\n"
     ]
    },
    {
     "name": "stdout",
     "output_type": "stream",
     "text": [
      "Epoch 670 - Train Loss: 0.2080, Train MSE: 0.2082, Train MAE: 0.3423\n",
      "Epoch 670 - Validation Loss: 2.0020, Validation MSE: 1.9972, Validation MAE: 1.1077\n"
     ]
    },
    {
     "name": "stderr",
     "output_type": "stream",
     "text": [
      "Training Epoch 672: 100%|██████████| 259/259 [00:03<00:00, 82.18it/s]\n",
      "Training Epoch 673: 100%|██████████| 259/259 [00:03<00:00, 74.22it/s]\n",
      "Training Epoch 674: 100%|██████████| 259/259 [00:03<00:00, 82.25it/s]\n",
      "Training Epoch 675: 100%|██████████| 259/259 [00:03<00:00, 84.28it/s]\n",
      "Training Epoch 676: 100%|██████████| 259/259 [00:03<00:00, 82.33it/s]\n",
      "Training Epoch 677: 100%|██████████| 259/259 [00:03<00:00, 81.78it/s]\n",
      "Training Epoch 678: 100%|██████████| 259/259 [00:03<00:00, 82.57it/s]\n",
      "Training Epoch 679: 100%|██████████| 259/259 [00:03<00:00, 81.01it/s]\n",
      "Training Epoch 680: 100%|██████████| 259/259 [00:03<00:00, 71.78it/s]\n",
      "Training Epoch 681: 100%|██████████| 259/259 [00:03<00:00, 72.35it/s]\n"
     ]
    },
    {
     "name": "stdout",
     "output_type": "stream",
     "text": [
      "Epoch 680 - Train Loss: 0.2055, Train MSE: 0.2055, Train MAE: 0.3430\n",
      "Epoch 680 - Validation Loss: 1.9800, Validation MSE: 1.9768, Validation MAE: 1.0954\n"
     ]
    },
    {
     "name": "stderr",
     "output_type": "stream",
     "text": [
      "Training Epoch 682: 100%|██████████| 259/259 [00:03<00:00, 78.42it/s]\n",
      "Training Epoch 683: 100%|██████████| 259/259 [00:03<00:00, 78.30it/s]\n",
      "Training Epoch 684: 100%|██████████| 259/259 [00:03<00:00, 64.88it/s]\n",
      "Training Epoch 685: 100%|██████████| 259/259 [00:03<00:00, 79.56it/s]\n",
      "Training Epoch 686: 100%|██████████| 259/259 [00:03<00:00, 81.20it/s]\n",
      "Training Epoch 687: 100%|██████████| 259/259 [00:03<00:00, 82.90it/s]\n",
      "Training Epoch 688: 100%|██████████| 259/259 [00:03<00:00, 80.87it/s]\n",
      "Training Epoch 689: 100%|██████████| 259/259 [00:03<00:00, 80.54it/s]\n",
      "Training Epoch 690: 100%|██████████| 259/259 [00:03<00:00, 83.06it/s]\n",
      "Training Epoch 691: 100%|██████████| 259/259 [00:03<00:00, 75.92it/s]\n"
     ]
    },
    {
     "name": "stdout",
     "output_type": "stream",
     "text": [
      "Epoch 690 - Train Loss: 0.2025, Train MSE: 0.2025, Train MAE: 0.3365\n",
      "Epoch 690 - Validation Loss: 1.9270, Validation MSE: 1.9233, Validation MAE: 1.0906\n"
     ]
    },
    {
     "name": "stderr",
     "output_type": "stream",
     "text": [
      "Training Epoch 692: 100%|██████████| 259/259 [00:03<00:00, 80.81it/s]\n",
      "Training Epoch 693: 100%|██████████| 259/259 [00:03<00:00, 82.75it/s]\n",
      "Training Epoch 694: 100%|██████████| 259/259 [00:03<00:00, 80.56it/s]\n",
      "Training Epoch 695: 100%|██████████| 259/259 [00:03<00:00, 84.16it/s]\n",
      "Training Epoch 696: 100%|██████████| 259/259 [00:03<00:00, 82.12it/s]\n",
      "Training Epoch 697: 100%|██████████| 259/259 [00:03<00:00, 80.53it/s]\n",
      "Training Epoch 698: 100%|██████████| 259/259 [00:03<00:00, 71.24it/s]\n",
      "Training Epoch 699: 100%|██████████| 259/259 [00:03<00:00, 77.62it/s]\n",
      "Training Epoch 700: 100%|██████████| 259/259 [00:03<00:00, 82.09it/s]\n",
      "Training Epoch 701: 100%|██████████| 259/259 [00:03<00:00, 77.97it/s]\n"
     ]
    },
    {
     "name": "stdout",
     "output_type": "stream",
     "text": [
      "Epoch 700 - Train Loss: 0.2101, Train MSE: 0.2103, Train MAE: 0.3384\n",
      "Epoch 700 - Validation Loss: 1.9640, Validation MSE: 1.9604, Validation MAE: 1.0983\n"
     ]
    },
    {
     "name": "stderr",
     "output_type": "stream",
     "text": [
      "Training Epoch 702: 100%|██████████| 259/259 [00:03<00:00, 81.35it/s]\n",
      "Training Epoch 703: 100%|██████████| 259/259 [00:03<00:00, 81.56it/s]\n",
      "Training Epoch 704: 100%|██████████| 259/259 [00:03<00:00, 78.47it/s]\n",
      "Training Epoch 705: 100%|██████████| 259/259 [00:03<00:00, 79.71it/s]\n",
      "Training Epoch 706: 100%|██████████| 259/259 [00:03<00:00, 79.42it/s]\n",
      "Training Epoch 707: 100%|██████████| 259/259 [00:03<00:00, 79.93it/s]\n",
      "Training Epoch 708: 100%|██████████| 259/259 [00:03<00:00, 79.99it/s]\n",
      "Training Epoch 709: 100%|██████████| 259/259 [00:03<00:00, 76.86it/s]\n",
      "Training Epoch 710: 100%|██████████| 259/259 [00:03<00:00, 80.54it/s]\n",
      "Training Epoch 711: 100%|██████████| 259/259 [00:03<00:00, 77.49it/s]\n"
     ]
    },
    {
     "name": "stdout",
     "output_type": "stream",
     "text": [
      "Epoch 710 - Train Loss: 0.1969, Train MSE: 0.1966, Train MAE: 0.3336\n",
      "Epoch 710 - Validation Loss: 1.9873, Validation MSE: 1.9832, Validation MAE: 1.0994\n"
     ]
    },
    {
     "name": "stderr",
     "output_type": "stream",
     "text": [
      "Training Epoch 712: 100%|██████████| 259/259 [00:03<00:00, 80.48it/s]\n",
      "Training Epoch 713: 100%|██████████| 259/259 [00:03<00:00, 82.01it/s]\n",
      "Training Epoch 714: 100%|██████████| 259/259 [00:02<00:00, 88.86it/s]\n",
      "Training Epoch 715: 100%|██████████| 259/259 [00:03<00:00, 75.77it/s]\n",
      "Training Epoch 716: 100%|██████████| 259/259 [00:03<00:00, 75.59it/s]\n",
      "Training Epoch 717: 100%|██████████| 259/259 [00:03<00:00, 77.63it/s]\n",
      "Training Epoch 718: 100%|██████████| 259/259 [00:03<00:00, 79.04it/s]\n",
      "Training Epoch 719: 100%|██████████| 259/259 [00:03<00:00, 81.25it/s]\n",
      "Training Epoch 720: 100%|██████████| 259/259 [00:03<00:00, 79.04it/s]\n",
      "Training Epoch 721: 100%|██████████| 259/259 [00:03<00:00, 82.24it/s]\n"
     ]
    },
    {
     "name": "stdout",
     "output_type": "stream",
     "text": [
      "Epoch 720 - Train Loss: 0.1973, Train MSE: 0.1971, Train MAE: 0.3313\n",
      "Epoch 720 - Validation Loss: 1.9399, Validation MSE: 1.9372, Validation MAE: 1.0950\n"
     ]
    },
    {
     "name": "stderr",
     "output_type": "stream",
     "text": [
      "Training Epoch 722: 100%|██████████| 259/259 [00:03<00:00, 86.14it/s]\n",
      "Training Epoch 723: 100%|██████████| 259/259 [00:03<00:00, 75.15it/s]\n",
      "Training Epoch 724: 100%|██████████| 259/259 [00:03<00:00, 69.40it/s]\n",
      "Training Epoch 725: 100%|██████████| 259/259 [00:03<00:00, 70.95it/s]\n",
      "Training Epoch 726: 100%|██████████| 259/259 [00:04<00:00, 54.72it/s]\n",
      "Training Epoch 727: 100%|██████████| 259/259 [00:03<00:00, 78.18it/s]\n",
      "Training Epoch 728: 100%|██████████| 259/259 [00:07<00:00, 34.11it/s]\n",
      "Training Epoch 729: 100%|██████████| 259/259 [00:03<00:00, 83.73it/s]\n",
      "Training Epoch 730: 100%|██████████| 259/259 [00:03<00:00, 79.01it/s]\n",
      "Training Epoch 731: 100%|██████████| 259/259 [00:03<00:00, 72.90it/s]\n"
     ]
    },
    {
     "name": "stdout",
     "output_type": "stream",
     "text": [
      "Epoch 730 - Train Loss: 0.1983, Train MSE: 0.1985, Train MAE: 0.3339\n",
      "Epoch 730 - Validation Loss: 1.9911, Validation MSE: 1.9879, Validation MAE: 1.1061\n"
     ]
    },
    {
     "name": "stderr",
     "output_type": "stream",
     "text": [
      "Training Epoch 732: 100%|██████████| 259/259 [00:03<00:00, 77.54it/s]\n",
      "Training Epoch 733: 100%|██████████| 259/259 [00:03<00:00, 83.42it/s]\n",
      "Training Epoch 734: 100%|██████████| 259/259 [00:03<00:00, 84.43it/s]\n",
      "Training Epoch 735: 100%|██████████| 259/259 [00:03<00:00, 84.98it/s]\n",
      "Training Epoch 736: 100%|██████████| 259/259 [00:03<00:00, 80.63it/s]\n",
      "Training Epoch 737: 100%|██████████| 259/259 [00:03<00:00, 80.79it/s]\n",
      "Training Epoch 738: 100%|██████████| 259/259 [00:03<00:00, 84.74it/s]\n",
      "Training Epoch 739: 100%|██████████| 259/259 [00:11<00:00, 23.53it/s]\n",
      "Training Epoch 740: 100%|██████████| 259/259 [00:03<00:00, 69.39it/s]\n",
      "Training Epoch 741: 100%|██████████| 259/259 [00:05<00:00, 51.13it/s]\n"
     ]
    },
    {
     "name": "stdout",
     "output_type": "stream",
     "text": [
      "Epoch 740 - Train Loss: 0.1936, Train MSE: 0.1937, Train MAE: 0.3284\n",
      "Epoch 740 - Validation Loss: 1.9834, Validation MSE: 1.9805, Validation MAE: 1.1044\n"
     ]
    },
    {
     "name": "stderr",
     "output_type": "stream",
     "text": [
      "Training Epoch 742: 100%|██████████| 259/259 [00:03<00:00, 86.31it/s]\n",
      "Training Epoch 743: 100%|██████████| 259/259 [00:03<00:00, 85.49it/s]\n",
      "Training Epoch 744: 100%|██████████| 259/259 [00:03<00:00, 82.88it/s]\n",
      "Training Epoch 745: 100%|██████████| 259/259 [00:03<00:00, 79.20it/s]\n",
      "Training Epoch 746: 100%|██████████| 259/259 [00:03<00:00, 85.24it/s]\n",
      "Training Epoch 747: 100%|██████████| 259/259 [00:03<00:00, 84.82it/s]\n",
      "Training Epoch 748: 100%|██████████| 259/259 [00:03<00:00, 80.29it/s]\n",
      "Training Epoch 749: 100%|██████████| 259/259 [00:03<00:00, 85.26it/s]\n",
      "Training Epoch 750: 100%|██████████| 259/259 [00:03<00:00, 81.92it/s]\n",
      "Training Epoch 751: 100%|██████████| 259/259 [00:06<00:00, 37.11it/s]\n"
     ]
    },
    {
     "name": "stdout",
     "output_type": "stream",
     "text": [
      "Epoch 750 - Train Loss: 0.1885, Train MSE: 0.1886, Train MAE: 0.3274\n",
      "Epoch 750 - Validation Loss: 1.9734, Validation MSE: 1.9713, Validation MAE: 1.1059\n"
     ]
    },
    {
     "name": "stderr",
     "output_type": "stream",
     "text": [
      "Training Epoch 752: 100%|██████████| 259/259 [00:03<00:00, 84.15it/s]\n",
      "Training Epoch 753: 100%|██████████| 259/259 [00:08<00:00, 30.79it/s]\n",
      "Training Epoch 754: 100%|██████████| 259/259 [00:03<00:00, 83.45it/s]\n",
      "Training Epoch 755: 100%|██████████| 259/259 [00:03<00:00, 78.84it/s]\n",
      "Training Epoch 756: 100%|██████████| 259/259 [00:03<00:00, 83.19it/s]\n",
      "Training Epoch 757: 100%|██████████| 259/259 [00:03<00:00, 83.46it/s]\n",
      "Training Epoch 758: 100%|██████████| 259/259 [00:03<00:00, 80.24it/s]\n",
      "Training Epoch 759: 100%|██████████| 259/259 [00:03<00:00, 70.99it/s]\n",
      "Training Epoch 760: 100%|██████████| 259/259 [00:03<00:00, 78.76it/s]\n",
      "Training Epoch 761: 100%|██████████| 259/259 [00:03<00:00, 82.19it/s]\n"
     ]
    },
    {
     "name": "stdout",
     "output_type": "stream",
     "text": [
      "Epoch 760 - Train Loss: 0.1934, Train MSE: 0.1935, Train MAE: 0.3277\n",
      "Epoch 760 - Validation Loss: 2.0135, Validation MSE: 2.0101, Validation MAE: 1.1171\n"
     ]
    },
    {
     "name": "stderr",
     "output_type": "stream",
     "text": [
      "Training Epoch 762: 100%|██████████| 259/259 [00:03<00:00, 76.13it/s]\n",
      "Training Epoch 763: 100%|██████████| 259/259 [00:03<00:00, 79.18it/s]\n",
      "Training Epoch 764: 100%|██████████| 259/259 [00:16<00:00, 16.09it/s]\n",
      "Training Epoch 765: 100%|██████████| 259/259 [00:06<00:00, 40.33it/s]\n",
      "Training Epoch 766: 100%|██████████| 259/259 [00:03<00:00, 81.69it/s]\n",
      "Training Epoch 767: 100%|██████████| 259/259 [00:03<00:00, 78.90it/s]\n",
      "Training Epoch 768: 100%|██████████| 259/259 [00:03<00:00, 72.55it/s]\n",
      "Training Epoch 769: 100%|██████████| 259/259 [00:03<00:00, 81.56it/s]\n",
      "Training Epoch 770: 100%|██████████| 259/259 [00:03<00:00, 76.60it/s]\n",
      "Training Epoch 771: 100%|██████████| 259/259 [00:03<00:00, 77.30it/s]\n"
     ]
    },
    {
     "name": "stdout",
     "output_type": "stream",
     "text": [
      "Epoch 770 - Train Loss: 0.1915, Train MSE: 0.1916, Train MAE: 0.3274\n",
      "Epoch 770 - Validation Loss: 1.9836, Validation MSE: 1.9812, Validation MAE: 1.0932\n"
     ]
    },
    {
     "name": "stderr",
     "output_type": "stream",
     "text": [
      "Training Epoch 772: 100%|██████████| 259/259 [00:03<00:00, 85.98it/s]\n",
      "Training Epoch 773: 100%|██████████| 259/259 [00:03<00:00, 82.62it/s]\n",
      "Training Epoch 774: 100%|██████████| 259/259 [00:03<00:00, 79.94it/s]\n",
      "Training Epoch 775: 100%|██████████| 259/259 [00:03<00:00, 74.05it/s]\n",
      "Training Epoch 776: 100%|██████████| 259/259 [00:16<00:00, 15.70it/s]\n",
      "Training Epoch 777: 100%|██████████| 259/259 [00:02<00:00, 86.36it/s]\n",
      "Training Epoch 778: 100%|██████████| 259/259 [00:07<00:00, 32.45it/s]\n",
      "Training Epoch 779: 100%|██████████| 259/259 [00:03<00:00, 74.17it/s]\n",
      "Training Epoch 780: 100%|██████████| 259/259 [00:03<00:00, 79.83it/s]\n",
      "Training Epoch 781: 100%|██████████| 259/259 [00:03<00:00, 82.20it/s]\n"
     ]
    },
    {
     "name": "stdout",
     "output_type": "stream",
     "text": [
      "Epoch 780 - Train Loss: 0.1848, Train MSE: 0.1850, Train MAE: 0.3226\n",
      "Epoch 780 - Validation Loss: 1.9752, Validation MSE: 1.9729, Validation MAE: 1.0997\n"
     ]
    },
    {
     "name": "stderr",
     "output_type": "stream",
     "text": [
      "Training Epoch 782: 100%|██████████| 259/259 [00:03<00:00, 73.40it/s]\n",
      "Training Epoch 783: 100%|██████████| 259/259 [00:03<00:00, 80.55it/s]\n",
      "Training Epoch 784: 100%|██████████| 259/259 [00:03<00:00, 81.67it/s]\n",
      "Training Epoch 785: 100%|██████████| 259/259 [00:03<00:00, 82.83it/s]\n",
      "Training Epoch 786: 100%|██████████| 259/259 [00:03<00:00, 84.45it/s]\n",
      "Training Epoch 787: 100%|██████████| 259/259 [00:03<00:00, 84.01it/s]\n",
      "Training Epoch 788: 100%|██████████| 259/259 [00:16<00:00, 15.46it/s]\n",
      "Training Epoch 789: 100%|██████████| 259/259 [00:03<00:00, 82.35it/s]\n",
      "Training Epoch 790: 100%|██████████| 259/259 [00:08<00:00, 31.99it/s]\n",
      "Training Epoch 791: 100%|██████████| 259/259 [00:03<00:00, 84.07it/s]\n"
     ]
    },
    {
     "name": "stdout",
     "output_type": "stream",
     "text": [
      "Epoch 790 - Train Loss: 0.1930, Train MSE: 0.1930, Train MAE: 0.3260\n",
      "Epoch 790 - Validation Loss: 1.9826, Validation MSE: 1.9800, Validation MAE: 1.1148\n"
     ]
    },
    {
     "name": "stderr",
     "output_type": "stream",
     "text": [
      "Training Epoch 792: 100%|██████████| 259/259 [00:03<00:00, 86.29it/s]\n",
      "Training Epoch 793: 100%|██████████| 259/259 [00:03<00:00, 82.51it/s]\n",
      "Training Epoch 794: 100%|██████████| 259/259 [00:03<00:00, 84.08it/s]\n",
      "Training Epoch 795: 100%|██████████| 259/259 [00:03<00:00, 77.38it/s]\n",
      "Training Epoch 796: 100%|██████████| 259/259 [00:03<00:00, 73.43it/s]\n",
      "Training Epoch 797: 100%|██████████| 259/259 [00:03<00:00, 77.83it/s]\n",
      "Training Epoch 798: 100%|██████████| 259/259 [00:03<00:00, 84.77it/s]\n",
      "Training Epoch 799: 100%|██████████| 259/259 [00:03<00:00, 86.29it/s]\n",
      "Training Epoch 800: 100%|██████████| 259/259 [00:02<00:00, 86.69it/s]\n",
      "Training Epoch 801: 100%|██████████| 259/259 [00:15<00:00, 16.26it/s]\n"
     ]
    },
    {
     "name": "stdout",
     "output_type": "stream",
     "text": [
      "Epoch 800 - Train Loss: 0.1848, Train MSE: 0.1849, Train MAE: 0.3192\n",
      "Epoch 800 - Validation Loss: 1.9791, Validation MSE: 1.9769, Validation MAE: 1.1020\n"
     ]
    },
    {
     "name": "stderr",
     "output_type": "stream",
     "text": [
      "Training Epoch 802: 100%|██████████| 259/259 [00:03<00:00, 83.81it/s]\n",
      "Training Epoch 803: 100%|██████████| 259/259 [00:08<00:00, 32.35it/s]\n",
      "Training Epoch 804: 100%|██████████| 259/259 [00:03<00:00, 85.03it/s]\n",
      "Training Epoch 805: 100%|██████████| 259/259 [00:03<00:00, 79.50it/s]\n",
      "Training Epoch 806: 100%|██████████| 259/259 [00:03<00:00, 82.13it/s]\n",
      "Training Epoch 807: 100%|██████████| 259/259 [00:03<00:00, 82.25it/s]\n",
      "Training Epoch 808: 100%|██████████| 259/259 [00:03<00:00, 80.31it/s]\n",
      "Training Epoch 809: 100%|██████████| 259/259 [00:03<00:00, 81.66it/s]\n",
      "Training Epoch 810: 100%|██████████| 259/259 [00:03<00:00, 78.69it/s]\n",
      "Training Epoch 811: 100%|██████████| 259/259 [00:03<00:00, 82.99it/s]\n"
     ]
    },
    {
     "name": "stdout",
     "output_type": "stream",
     "text": [
      "Epoch 810 - Train Loss: 0.1812, Train MSE: 0.1808, Train MAE: 0.3183\n",
      "Epoch 810 - Validation Loss: 2.0088, Validation MSE: 2.0037, Validation MAE: 1.1125\n"
     ]
    },
    {
     "name": "stderr",
     "output_type": "stream",
     "text": [
      "Training Epoch 812: 100%|██████████| 259/259 [00:03<00:00, 75.76it/s]\n",
      "Training Epoch 813: 100%|██████████| 259/259 [00:03<00:00, 77.00it/s]\n",
      "Training Epoch 814: 100%|██████████| 259/259 [00:17<00:00, 14.93it/s]\n",
      "Training Epoch 815: 100%|██████████| 259/259 [00:08<00:00, 31.95it/s]\n",
      "Training Epoch 816: 100%|██████████| 259/259 [00:03<00:00, 84.31it/s]\n",
      "Training Epoch 817: 100%|██████████| 259/259 [00:03<00:00, 80.46it/s]\n",
      "Training Epoch 818: 100%|██████████| 259/259 [00:15<00:00, 16.65it/s]\n",
      "Training Epoch 819: 100%|██████████| 259/259 [00:28<00:00,  9.15it/s]\n",
      "Training Epoch 820: 100%|██████████| 259/259 [15:15<00:00,  3.54s/it]  \n",
      "Training Epoch 821: 100%|██████████| 259/259 [00:05<00:00, 49.26it/s]\n"
     ]
    },
    {
     "name": "stdout",
     "output_type": "stream",
     "text": [
      "Epoch 820 - Train Loss: 0.1808, Train MSE: 0.1809, Train MAE: 0.3185\n",
      "Epoch 820 - Validation Loss: 2.0211, Validation MSE: 2.0164, Validation MAE: 1.1118\n"
     ]
    },
    {
     "name": "stderr",
     "output_type": "stream",
     "text": [
      "Training Epoch 822: 100%|██████████| 259/259 [00:05<00:00, 49.01it/s]\n",
      "Training Epoch 823: 100%|██████████| 259/259 [00:05<00:00, 50.76it/s]\n",
      "Training Epoch 824: 100%|██████████| 259/259 [00:05<00:00, 47.41it/s]\n",
      "Training Epoch 825: 100%|██████████| 259/259 [00:05<00:00, 47.96it/s]\n",
      "Training Epoch 826: 100%|██████████| 259/259 [00:05<00:00, 48.54it/s]\n",
      "Training Epoch 827: 100%|██████████| 259/259 [00:06<00:00, 42.93it/s]\n",
      "Training Epoch 828: 100%|██████████| 259/259 [00:05<00:00, 48.11it/s]\n",
      "Training Epoch 829: 100%|██████████| 259/259 [00:05<00:00, 48.44it/s]\n",
      "Training Epoch 830: 100%|██████████| 259/259 [00:05<00:00, 51.41it/s]\n",
      "Training Epoch 831: 100%|██████████| 259/259 [00:05<00:00, 50.94it/s]\n"
     ]
    },
    {
     "name": "stdout",
     "output_type": "stream",
     "text": [
      "Epoch 830 - Train Loss: 0.1860, Train MSE: 0.1861, Train MAE: 0.3209\n",
      "Epoch 830 - Validation Loss: 1.9322, Validation MSE: 1.9288, Validation MAE: 1.0867\n"
     ]
    },
    {
     "name": "stderr",
     "output_type": "stream",
     "text": [
      "Training Epoch 832: 100%|██████████| 259/259 [00:05<00:00, 51.65it/s]\n",
      "Training Epoch 833: 100%|██████████| 259/259 [00:04<00:00, 56.38it/s]\n",
      "Training Epoch 834: 100%|██████████| 259/259 [00:04<00:00, 54.98it/s]\n",
      "Training Epoch 835: 100%|██████████| 259/259 [00:04<00:00, 52.78it/s]\n",
      "Training Epoch 836: 100%|██████████| 259/259 [00:05<00:00, 51.72it/s]\n",
      "Training Epoch 837: 100%|██████████| 259/259 [00:04<00:00, 55.26it/s]\n",
      "Training Epoch 838: 100%|██████████| 259/259 [00:04<00:00, 52.11it/s]\n",
      "Training Epoch 839: 100%|██████████| 259/259 [00:04<00:00, 52.24it/s]\n",
      "Training Epoch 840: 100%|██████████| 259/259 [00:04<00:00, 52.77it/s]\n",
      "Training Epoch 841: 100%|██████████| 259/259 [00:04<00:00, 53.10it/s]\n"
     ]
    },
    {
     "name": "stdout",
     "output_type": "stream",
     "text": [
      "Epoch 840 - Train Loss: 0.1878, Train MSE: 0.1879, Train MAE: 0.3214\n",
      "Epoch 840 - Validation Loss: 2.0155, Validation MSE: 2.0120, Validation MAE: 1.1045\n"
     ]
    },
    {
     "name": "stderr",
     "output_type": "stream",
     "text": [
      "Training Epoch 842: 100%|██████████| 259/259 [00:04<00:00, 53.38it/s]\n",
      "Training Epoch 843: 100%|██████████| 259/259 [00:04<00:00, 54.94it/s]\n",
      "Training Epoch 844: 100%|██████████| 259/259 [00:04<00:00, 54.04it/s]\n",
      "Training Epoch 845: 100%|██████████| 259/259 [00:05<00:00, 49.90it/s]\n",
      "Training Epoch 846: 100%|██████████| 259/259 [00:05<00:00, 51.69it/s]\n",
      "Training Epoch 847: 100%|██████████| 259/259 [00:04<00:00, 53.21it/s]\n",
      "Training Epoch 848: 100%|██████████| 259/259 [00:05<00:00, 50.22it/s]\n",
      "Training Epoch 849: 100%|██████████| 259/259 [00:04<00:00, 53.20it/s]\n",
      "Training Epoch 850: 100%|██████████| 259/259 [00:04<00:00, 51.96it/s]\n",
      "Training Epoch 851: 100%|██████████| 259/259 [00:05<00:00, 49.82it/s]\n"
     ]
    },
    {
     "name": "stdout",
     "output_type": "stream",
     "text": [
      "Epoch 850 - Train Loss: 0.1809, Train MSE: 0.1801, Train MAE: 0.3187\n",
      "Epoch 850 - Validation Loss: 1.9434, Validation MSE: 1.9408, Validation MAE: 1.0910\n"
     ]
    },
    {
     "name": "stderr",
     "output_type": "stream",
     "text": [
      "Training Epoch 852: 100%|██████████| 259/259 [00:04<00:00, 53.30it/s]\n",
      "Training Epoch 853: 100%|██████████| 259/259 [00:04<00:00, 53.61it/s]\n",
      "Training Epoch 854: 100%|██████████| 259/259 [00:04<00:00, 52.56it/s]\n",
      "Training Epoch 855: 100%|██████████| 259/259 [00:04<00:00, 53.59it/s]\n",
      "Training Epoch 856: 100%|██████████| 259/259 [00:04<00:00, 53.90it/s]\n",
      "Training Epoch 857: 100%|██████████| 259/259 [00:05<00:00, 51.29it/s]\n",
      "Training Epoch 858: 100%|██████████| 259/259 [00:04<00:00, 52.47it/s]\n",
      "Training Epoch 859: 100%|██████████| 259/259 [00:04<00:00, 52.43it/s]\n",
      "Training Epoch 860: 100%|██████████| 259/259 [00:05<00:00, 50.47it/s]\n",
      "Training Epoch 861: 100%|██████████| 259/259 [00:05<00:00, 50.26it/s]\n"
     ]
    },
    {
     "name": "stdout",
     "output_type": "stream",
     "text": [
      "Epoch 860 - Train Loss: 0.1848, Train MSE: 0.1846, Train MAE: 0.3186\n",
      "Epoch 860 - Validation Loss: 1.9855, Validation MSE: 1.9820, Validation MAE: 1.1022\n"
     ]
    },
    {
     "name": "stderr",
     "output_type": "stream",
     "text": [
      "Training Epoch 862: 100%|██████████| 259/259 [00:05<00:00, 51.77it/s]\n",
      "Training Epoch 863: 100%|██████████| 259/259 [00:05<00:00, 49.88it/s]\n",
      "Training Epoch 864: 100%|██████████| 259/259 [00:04<00:00, 53.24it/s]\n",
      "Training Epoch 865: 100%|██████████| 259/259 [00:05<00:00, 51.59it/s]\n",
      "Training Epoch 866: 100%|██████████| 259/259 [00:04<00:00, 51.89it/s]\n",
      "Training Epoch 867: 100%|██████████| 259/259 [00:04<00:00, 52.35it/s]\n",
      "Training Epoch 868: 100%|██████████| 259/259 [00:15<00:00, 17.23it/s]\n",
      "Training Epoch 869: 100%|██████████| 259/259 [00:16<00:00, 16.01it/s]\n",
      "Training Epoch 870: 100%|██████████| 259/259 [00:15<00:00, 17.09it/s]\n",
      "Training Epoch 871: 100%|██████████| 259/259 [00:16<00:00, 15.89it/s]\n"
     ]
    },
    {
     "name": "stdout",
     "output_type": "stream",
     "text": [
      "Epoch 870 - Train Loss: 0.1767, Train MSE: 0.1767, Train MAE: 0.3114\n",
      "Epoch 870 - Validation Loss: 1.9777, Validation MSE: 1.9744, Validation MAE: 1.1009\n"
     ]
    },
    {
     "name": "stderr",
     "output_type": "stream",
     "text": [
      "Training Epoch 872: 100%|██████████| 259/259 [00:15<00:00, 16.79it/s]\n",
      "Training Epoch 873: 100%|██████████| 259/259 [00:16<00:00, 15.49it/s]\n",
      "Training Epoch 874: 100%|██████████| 259/259 [00:16<00:00, 15.47it/s]\n",
      "Training Epoch 875: 100%|██████████| 259/259 [00:14<00:00, 17.78it/s]\n",
      "Training Epoch 876: 100%|██████████| 259/259 [00:15<00:00, 16.66it/s]\n",
      "Training Epoch 877: 100%|██████████| 259/259 [00:16<00:00, 15.29it/s]\n",
      "Training Epoch 878: 100%|██████████| 259/259 [00:15<00:00, 16.41it/s]\n",
      "Training Epoch 879: 100%|██████████| 259/259 [00:15<00:00, 16.85it/s]\n",
      "Training Epoch 880: 100%|██████████| 259/259 [00:17<00:00, 15.19it/s]\n",
      "Training Epoch 881: 100%|██████████| 259/259 [00:15<00:00, 16.60it/s]\n"
     ]
    },
    {
     "name": "stdout",
     "output_type": "stream",
     "text": [
      "Epoch 880 - Train Loss: 0.1718, Train MSE: 0.1716, Train MAE: 0.3083\n",
      "Epoch 880 - Validation Loss: 2.0136, Validation MSE: 2.0095, Validation MAE: 1.1078\n"
     ]
    },
    {
     "name": "stderr",
     "output_type": "stream",
     "text": [
      "Training Epoch 882: 100%|██████████| 259/259 [00:15<00:00, 17.09it/s]\n",
      "Training Epoch 883: 100%|██████████| 259/259 [00:15<00:00, 16.29it/s]\n",
      "Training Epoch 884: 100%|██████████| 259/259 [00:15<00:00, 16.20it/s]\n",
      "Training Epoch 885: 100%|██████████| 259/259 [00:16<00:00, 16.01it/s]\n",
      "Training Epoch 886: 100%|██████████| 259/259 [00:15<00:00, 16.56it/s]\n",
      "Training Epoch 887: 100%|██████████| 259/259 [00:16<00:00, 15.44it/s]\n",
      "Training Epoch 888: 100%|██████████| 259/259 [00:16<00:00, 16.02it/s]\n",
      "Training Epoch 889: 100%|██████████| 259/259 [00:15<00:00, 16.24it/s]\n",
      "Training Epoch 890: 100%|██████████| 259/259 [00:15<00:00, 16.50it/s]\n",
      "Training Epoch 891: 100%|██████████| 259/259 [16:18<00:00,  3.78s/it]  \n"
     ]
    },
    {
     "name": "stdout",
     "output_type": "stream",
     "text": [
      "Epoch 890 - Train Loss: 0.1765, Train MSE: 0.1767, Train MAE: 0.3128\n",
      "Epoch 890 - Validation Loss: 2.0083, Validation MSE: 2.0026, Validation MAE: 1.1119\n"
     ]
    },
    {
     "name": "stderr",
     "output_type": "stream",
     "text": [
      "Training Epoch 892: 100%|██████████| 259/259 [00:06<00:00, 39.89it/s]\n",
      "Training Epoch 893: 100%|██████████| 259/259 [00:05<00:00, 51.50it/s]\n",
      "Training Epoch 894: 100%|██████████| 259/259 [00:04<00:00, 52.73it/s]\n",
      "Training Epoch 895: 100%|██████████| 259/259 [00:04<00:00, 54.69it/s]\n",
      "Training Epoch 896: 100%|██████████| 259/259 [00:04<00:00, 52.95it/s]\n",
      "Training Epoch 897: 100%|██████████| 259/259 [00:05<00:00, 50.20it/s]\n",
      "Training Epoch 898: 100%|██████████| 259/259 [00:05<00:00, 47.68it/s]\n",
      "Training Epoch 899: 100%|██████████| 259/259 [00:04<00:00, 53.64it/s]\n",
      "Training Epoch 900: 100%|██████████| 259/259 [00:05<00:00, 51.25it/s]\n",
      "Training Epoch 901: 100%|██████████| 259/259 [00:04<00:00, 53.35it/s]\n"
     ]
    },
    {
     "name": "stdout",
     "output_type": "stream",
     "text": [
      "Epoch 900 - Train Loss: 0.1790, Train MSE: 0.1789, Train MAE: 0.3169\n",
      "Epoch 900 - Validation Loss: 1.9800, Validation MSE: 1.9762, Validation MAE: 1.0997\n"
     ]
    },
    {
     "name": "stderr",
     "output_type": "stream",
     "text": [
      "Training Epoch 902: 100%|██████████| 259/259 [00:05<00:00, 50.58it/s]\n",
      "Training Epoch 903: 100%|██████████| 259/259 [00:04<00:00, 52.33it/s]\n",
      "Training Epoch 904: 100%|██████████| 259/259 [00:04<00:00, 56.40it/s]\n",
      "Training Epoch 905: 100%|██████████| 259/259 [00:04<00:00, 54.53it/s]\n",
      "Training Epoch 906: 100%|██████████| 259/259 [00:04<00:00, 55.22it/s]\n",
      "Training Epoch 907: 100%|██████████| 259/259 [00:05<00:00, 48.39it/s]\n",
      "Training Epoch 908: 100%|██████████| 259/259 [00:05<00:00, 51.09it/s]\n",
      "Training Epoch 909: 100%|██████████| 259/259 [00:04<00:00, 53.63it/s]\n",
      "Training Epoch 910: 100%|██████████| 259/259 [00:04<00:00, 54.61it/s]\n",
      "Training Epoch 911: 100%|██████████| 259/259 [00:05<00:00, 50.51it/s]\n"
     ]
    },
    {
     "name": "stdout",
     "output_type": "stream",
     "text": [
      "Epoch 910 - Train Loss: 0.1787, Train MSE: 0.1788, Train MAE: 0.3159\n",
      "Epoch 910 - Validation Loss: 1.9478, Validation MSE: 1.9447, Validation MAE: 1.1030\n"
     ]
    },
    {
     "name": "stderr",
     "output_type": "stream",
     "text": [
      "Training Epoch 912: 100%|██████████| 259/259 [00:05<00:00, 49.49it/s]\n",
      "Training Epoch 913: 100%|██████████| 259/259 [00:05<00:00, 51.75it/s]\n",
      "Training Epoch 914: 100%|██████████| 259/259 [00:05<00:00, 51.70it/s]\n",
      "Training Epoch 915: 100%|██████████| 259/259 [00:04<00:00, 52.95it/s]\n",
      "Training Epoch 916: 100%|██████████| 259/259 [00:04<00:00, 54.41it/s]\n",
      "Training Epoch 917: 100%|██████████| 259/259 [00:04<00:00, 52.13it/s]\n",
      "Training Epoch 918: 100%|██████████| 259/259 [00:04<00:00, 53.42it/s]\n",
      "Training Epoch 919: 100%|██████████| 259/259 [00:04<00:00, 53.33it/s]\n",
      "Training Epoch 920: 100%|██████████| 259/259 [00:04<00:00, 53.48it/s]\n",
      "Training Epoch 921: 100%|██████████| 259/259 [00:05<00:00, 51.68it/s]\n"
     ]
    },
    {
     "name": "stdout",
     "output_type": "stream",
     "text": [
      "Epoch 920 - Train Loss: 0.1778, Train MSE: 0.1780, Train MAE: 0.3117\n",
      "Epoch 920 - Validation Loss: 1.9726, Validation MSE: 1.9709, Validation MAE: 1.1072\n"
     ]
    },
    {
     "name": "stderr",
     "output_type": "stream",
     "text": [
      "Training Epoch 922: 100%|██████████| 259/259 [00:04<00:00, 52.42it/s]\n",
      "Training Epoch 923: 100%|██████████| 259/259 [00:05<00:00, 49.74it/s]\n",
      "Training Epoch 924: 100%|██████████| 259/259 [00:05<00:00, 49.95it/s]\n",
      "Training Epoch 925: 100%|██████████| 259/259 [00:04<00:00, 51.98it/s]\n",
      "Training Epoch 926: 100%|██████████| 259/259 [00:05<00:00, 50.88it/s]\n",
      "Training Epoch 927: 100%|██████████| 259/259 [00:05<00:00, 51.34it/s]\n",
      "Training Epoch 928: 100%|██████████| 259/259 [00:04<00:00, 55.77it/s]\n",
      "Training Epoch 929: 100%|██████████| 259/259 [00:04<00:00, 53.31it/s]\n",
      "Training Epoch 930: 100%|██████████| 259/259 [00:04<00:00, 51.98it/s]\n",
      "Training Epoch 931: 100%|██████████| 259/259 [00:04<00:00, 51.85it/s]\n"
     ]
    },
    {
     "name": "stdout",
     "output_type": "stream",
     "text": [
      "Epoch 930 - Train Loss: 0.1743, Train MSE: 0.1744, Train MAE: 0.3095\n",
      "Epoch 930 - Validation Loss: 2.0170, Validation MSE: 2.0127, Validation MAE: 1.1158\n"
     ]
    },
    {
     "name": "stderr",
     "output_type": "stream",
     "text": [
      "Training Epoch 932: 100%|██████████| 259/259 [00:04<00:00, 53.31it/s]\n",
      "Training Epoch 933: 100%|██████████| 259/259 [00:04<00:00, 52.72it/s]\n",
      "Training Epoch 934: 100%|██████████| 259/259 [00:04<00:00, 54.59it/s]\n",
      "Training Epoch 935: 100%|██████████| 259/259 [00:05<00:00, 51.72it/s]\n",
      "Training Epoch 936: 100%|██████████| 259/259 [00:05<00:00, 47.77it/s]\n",
      "Training Epoch 937: 100%|██████████| 259/259 [00:04<00:00, 52.65it/s]\n",
      "Training Epoch 938: 100%|██████████| 259/259 [00:05<00:00, 51.37it/s]\n",
      "Training Epoch 939: 100%|██████████| 259/259 [00:04<00:00, 53.66it/s]\n",
      "Training Epoch 940: 100%|██████████| 259/259 [00:05<00:00, 50.72it/s]\n",
      "Training Epoch 941: 100%|██████████| 259/259 [00:05<00:00, 50.90it/s]\n"
     ]
    },
    {
     "name": "stdout",
     "output_type": "stream",
     "text": [
      "Epoch 940 - Train Loss: 0.1711, Train MSE: 0.1712, Train MAE: 0.3099\n",
      "Epoch 940 - Validation Loss: 2.0136, Validation MSE: 2.0085, Validation MAE: 1.1110\n"
     ]
    },
    {
     "name": "stderr",
     "output_type": "stream",
     "text": [
      "Training Epoch 942: 100%|██████████| 259/259 [00:04<00:00, 52.04it/s]\n",
      "Training Epoch 943: 100%|██████████| 259/259 [00:04<00:00, 52.16it/s]\n",
      "Training Epoch 944: 100%|██████████| 259/259 [00:04<00:00, 56.49it/s]\n",
      "Training Epoch 945: 100%|██████████| 259/259 [00:05<00:00, 49.00it/s]\n",
      "Training Epoch 946: 100%|██████████| 259/259 [00:05<00:00, 48.81it/s]\n",
      "Training Epoch 947: 100%|██████████| 259/259 [00:05<00:00, 50.38it/s]\n",
      "Training Epoch 948: 100%|██████████| 259/259 [00:05<00:00, 50.52it/s]\n",
      "Training Epoch 949: 100%|██████████| 259/259 [00:05<00:00, 50.53it/s]\n",
      "Training Epoch 950: 100%|██████████| 259/259 [00:04<00:00, 52.26it/s]\n",
      "Training Epoch 951: 100%|██████████| 259/259 [00:04<00:00, 52.47it/s]\n"
     ]
    },
    {
     "name": "stdout",
     "output_type": "stream",
     "text": [
      "Epoch 950 - Train Loss: 0.1665, Train MSE: 0.1666, Train MAE: 0.3033\n",
      "Epoch 950 - Validation Loss: 1.9652, Validation MSE: 1.9616, Validation MAE: 1.0939\n"
     ]
    },
    {
     "name": "stderr",
     "output_type": "stream",
     "text": [
      "Training Epoch 952: 100%|██████████| 259/259 [00:04<00:00, 53.53it/s]\n",
      "Training Epoch 953: 100%|██████████| 259/259 [00:04<00:00, 52.46it/s]\n",
      "Training Epoch 954: 100%|██████████| 259/259 [00:05<00:00, 50.79it/s]\n",
      "Training Epoch 955: 100%|██████████| 259/259 [00:05<00:00, 51.01it/s]\n",
      "Training Epoch 956: 100%|██████████| 259/259 [00:05<00:00, 51.11it/s]\n",
      "Training Epoch 957: 100%|██████████| 259/259 [00:05<00:00, 49.07it/s]\n",
      "Training Epoch 958: 100%|██████████| 259/259 [00:05<00:00, 48.37it/s]\n",
      "Training Epoch 959: 100%|██████████| 259/259 [00:04<00:00, 53.00it/s]\n",
      "Training Epoch 960: 100%|██████████| 259/259 [00:05<00:00, 50.00it/s]\n",
      "Training Epoch 961: 100%|██████████| 259/259 [00:04<00:00, 55.26it/s]\n"
     ]
    },
    {
     "name": "stdout",
     "output_type": "stream",
     "text": [
      "Epoch 960 - Train Loss: 0.1680, Train MSE: 0.1680, Train MAE: 0.3062\n",
      "Epoch 960 - Validation Loss: 1.9832, Validation MSE: 1.9785, Validation MAE: 1.0994\n"
     ]
    },
    {
     "name": "stderr",
     "output_type": "stream",
     "text": [
      "Training Epoch 962: 100%|██████████| 259/259 [00:04<00:00, 52.48it/s]\n",
      "Training Epoch 963: 100%|██████████| 259/259 [00:05<00:00, 49.21it/s]\n",
      "Training Epoch 964: 100%|██████████| 259/259 [00:05<00:00, 51.52it/s]\n",
      "Training Epoch 965: 100%|██████████| 259/259 [00:04<00:00, 53.34it/s]\n",
      "Training Epoch 966: 100%|██████████| 259/259 [00:05<00:00, 51.05it/s]\n",
      "Training Epoch 967: 100%|██████████| 259/259 [00:05<00:00, 50.80it/s]\n",
      "Training Epoch 968: 100%|██████████| 259/259 [00:05<00:00, 50.62it/s]\n",
      "Training Epoch 969: 100%|██████████| 259/259 [00:05<00:00, 47.63it/s]\n",
      "Training Epoch 970: 100%|██████████| 259/259 [00:05<00:00, 50.93it/s]\n",
      "Training Epoch 971: 100%|██████████| 259/259 [00:05<00:00, 51.11it/s]\n"
     ]
    },
    {
     "name": "stdout",
     "output_type": "stream",
     "text": [
      "Epoch 970 - Train Loss: 0.1722, Train MSE: 0.1722, Train MAE: 0.3076\n",
      "Epoch 970 - Validation Loss: 1.9713, Validation MSE: 1.9691, Validation MAE: 1.0986\n"
     ]
    },
    {
     "name": "stderr",
     "output_type": "stream",
     "text": [
      "Training Epoch 972: 100%|██████████| 259/259 [00:05<00:00, 48.47it/s]\n",
      "Training Epoch 973: 100%|██████████| 259/259 [00:05<00:00, 51.64it/s]\n",
      "Training Epoch 974: 100%|██████████| 259/259 [00:05<00:00, 51.34it/s]\n",
      "Training Epoch 975: 100%|██████████| 259/259 [00:05<00:00, 51.42it/s]\n",
      "Training Epoch 976: 100%|██████████| 259/259 [00:05<00:00, 51.79it/s]\n",
      "Training Epoch 977: 100%|██████████| 259/259 [00:05<00:00, 50.83it/s]\n",
      "Training Epoch 978: 100%|██████████| 259/259 [00:05<00:00, 48.29it/s]\n",
      "Training Epoch 979: 100%|██████████| 259/259 [00:05<00:00, 48.38it/s]\n",
      "Training Epoch 980: 100%|██████████| 259/259 [00:09<00:00, 26.39it/s]\n",
      "Training Epoch 981: 100%|██████████| 259/259 [00:15<00:00, 16.27it/s]\n"
     ]
    },
    {
     "name": "stdout",
     "output_type": "stream",
     "text": [
      "Epoch 980 - Train Loss: 0.1718, Train MSE: 0.1719, Train MAE: 0.3073\n",
      "Epoch 980 - Validation Loss: 1.9873, Validation MSE: 1.9851, Validation MAE: 1.1037\n"
     ]
    },
    {
     "name": "stderr",
     "output_type": "stream",
     "text": [
      "Training Epoch 982: 100%|██████████| 259/259 [00:15<00:00, 16.66it/s]\n",
      "Training Epoch 983: 100%|██████████| 259/259 [00:16<00:00, 16.03it/s]\n",
      "Training Epoch 984: 100%|██████████| 259/259 [00:15<00:00, 16.35it/s]\n",
      "Training Epoch 985: 100%|██████████| 259/259 [00:15<00:00, 16.41it/s]\n",
      "Training Epoch 986: 100%|██████████| 259/259 [00:05<00:00, 43.17it/s]\n",
      "Training Epoch 987: 100%|██████████| 259/259 [00:05<00:00, 47.70it/s]\n",
      "Training Epoch 988: 100%|██████████| 259/259 [00:05<00:00, 50.49it/s]\n",
      "Training Epoch 989: 100%|██████████| 259/259 [00:05<00:00, 49.35it/s]\n",
      "Training Epoch 990: 100%|██████████| 259/259 [00:05<00:00, 46.88it/s]\n",
      "Training Epoch 991: 100%|██████████| 259/259 [00:05<00:00, 46.94it/s]\n"
     ]
    },
    {
     "name": "stdout",
     "output_type": "stream",
     "text": [
      "Epoch 990 - Train Loss: 0.1738, Train MSE: 0.1739, Train MAE: 0.3085\n",
      "Epoch 990 - Validation Loss: 1.9654, Validation MSE: 1.9613, Validation MAE: 1.0902\n"
     ]
    },
    {
     "name": "stderr",
     "output_type": "stream",
     "text": [
      "Training Epoch 992: 100%|██████████| 259/259 [00:06<00:00, 40.17it/s]\n",
      "Training Epoch 993: 100%|██████████| 259/259 [00:03<00:00, 69.81it/s]\n",
      "Training Epoch 994: 100%|██████████| 259/259 [00:03<00:00, 76.30it/s]\n",
      "Training Epoch 995: 100%|██████████| 259/259 [00:03<00:00, 74.49it/s]\n",
      "Training Epoch 996: 100%|██████████| 259/259 [00:03<00:00, 76.42it/s]\n",
      "Training Epoch 997: 100%|██████████| 259/259 [00:03<00:00, 79.23it/s]\n",
      "Training Epoch 998: 100%|██████████| 259/259 [00:03<00:00, 76.63it/s]\n",
      "Training Epoch 999: 100%|██████████| 259/259 [00:03<00:00, 75.00it/s]\n",
      "Training Epoch 1000: 100%|██████████| 259/259 [00:03<00:00, 70.13it/s]\n",
      "Training Epoch 1001: 100%|██████████| 259/259 [00:03<00:00, 72.75it/s]\n"
     ]
    },
    {
     "name": "stdout",
     "output_type": "stream",
     "text": [
      "Epoch 1000 - Train Loss: 0.1675, Train MSE: 0.1676, Train MAE: 0.3036\n",
      "Epoch 1000 - Validation Loss: 1.9931, Validation MSE: 1.9888, Validation MAE: 1.1032\n"
     ]
    },
    {
     "name": "stderr",
     "output_type": "stream",
     "text": [
      "Training Epoch 1002: 100%|██████████| 259/259 [00:03<00:00, 73.21it/s]\n",
      "Training Epoch 1003: 100%|██████████| 259/259 [00:03<00:00, 77.20it/s]\n",
      "Training Epoch 1004: 100%|██████████| 259/259 [00:03<00:00, 71.44it/s]\n",
      "Training Epoch 1005: 100%|██████████| 259/259 [00:03<00:00, 73.71it/s]\n",
      "Training Epoch 1006: 100%|██████████| 259/259 [00:03<00:00, 80.07it/s]\n",
      "Training Epoch 1007: 100%|██████████| 259/259 [00:03<00:00, 77.86it/s]\n",
      "Training Epoch 1008: 100%|██████████| 259/259 [00:03<00:00, 80.46it/s]\n",
      "Training Epoch 1009: 100%|██████████| 259/259 [00:03<00:00, 79.78it/s]\n",
      "Training Epoch 1010: 100%|██████████| 259/259 [00:03<00:00, 77.52it/s]\n",
      "Training Epoch 1011: 100%|██████████| 259/259 [00:03<00:00, 77.25it/s]\n"
     ]
    },
    {
     "name": "stdout",
     "output_type": "stream",
     "text": [
      "Epoch 1010 - Train Loss: 0.1714, Train MSE: 0.1714, Train MAE: 0.3055\n",
      "Epoch 1010 - Validation Loss: 1.9688, Validation MSE: 1.9654, Validation MAE: 1.0926\n"
     ]
    },
    {
     "name": "stderr",
     "output_type": "stream",
     "text": [
      "Training Epoch 1012: 100%|██████████| 259/259 [00:03<00:00, 80.33it/s]\n",
      "Training Epoch 1013: 100%|██████████| 259/259 [00:03<00:00, 80.24it/s]\n",
      "Training Epoch 1014: 100%|██████████| 259/259 [00:03<00:00, 77.77it/s]\n",
      "Training Epoch 1015: 100%|██████████| 259/259 [00:03<00:00, 80.48it/s]\n",
      "Training Epoch 1016: 100%|██████████| 259/259 [00:03<00:00, 80.11it/s]\n",
      "Training Epoch 1017: 100%|██████████| 259/259 [00:03<00:00, 82.25it/s]\n",
      "Training Epoch 1018: 100%|██████████| 259/259 [00:03<00:00, 79.06it/s]\n",
      "Training Epoch 1019: 100%|██████████| 259/259 [00:03<00:00, 79.04it/s]\n",
      "Training Epoch 1020: 100%|██████████| 259/259 [00:03<00:00, 79.09it/s]\n",
      "Training Epoch 1021: 100%|██████████| 259/259 [00:03<00:00, 78.12it/s]\n"
     ]
    },
    {
     "name": "stdout",
     "output_type": "stream",
     "text": [
      "Epoch 1020 - Train Loss: 0.1640, Train MSE: 0.1633, Train MAE: 0.3006\n",
      "Epoch 1020 - Validation Loss: 1.9926, Validation MSE: 1.9881, Validation MAE: 1.1010\n"
     ]
    },
    {
     "name": "stderr",
     "output_type": "stream",
     "text": [
      "Training Epoch 1022: 100%|██████████| 259/259 [00:03<00:00, 77.26it/s]\n",
      "Training Epoch 1023: 100%|██████████| 259/259 [00:03<00:00, 78.46it/s]\n",
      "Training Epoch 1024: 100%|██████████| 259/259 [00:03<00:00, 80.93it/s]\n",
      "Training Epoch 1025: 100%|██████████| 259/259 [00:03<00:00, 77.37it/s]\n",
      "Training Epoch 1026: 100%|██████████| 259/259 [00:03<00:00, 79.53it/s]\n",
      "Training Epoch 1027: 100%|██████████| 259/259 [00:03<00:00, 80.06it/s]\n",
      "Training Epoch 1028: 100%|██████████| 259/259 [00:03<00:00, 75.15it/s]\n",
      "Training Epoch 1029: 100%|██████████| 259/259 [00:03<00:00, 76.75it/s]\n",
      "Training Epoch 1030: 100%|██████████| 259/259 [00:03<00:00, 79.20it/s]\n",
      "Training Epoch 1031: 100%|██████████| 259/259 [00:03<00:00, 78.22it/s]\n"
     ]
    },
    {
     "name": "stdout",
     "output_type": "stream",
     "text": [
      "Epoch 1030 - Train Loss: 0.1694, Train MSE: 0.1692, Train MAE: 0.3038\n",
      "Epoch 1030 - Validation Loss: 1.9629, Validation MSE: 1.9596, Validation MAE: 1.1017\n"
     ]
    },
    {
     "name": "stderr",
     "output_type": "stream",
     "text": [
      "Training Epoch 1032: 100%|██████████| 259/259 [00:03<00:00, 80.97it/s]\n",
      "Training Epoch 1033: 100%|██████████| 259/259 [00:03<00:00, 78.05it/s]\n",
      "Training Epoch 1034: 100%|██████████| 259/259 [00:03<00:00, 81.16it/s]\n",
      "Training Epoch 1035: 100%|██████████| 259/259 [00:03<00:00, 80.00it/s]\n",
      "Training Epoch 1036: 100%|██████████| 259/259 [00:03<00:00, 79.41it/s]\n",
      "Training Epoch 1037: 100%|██████████| 259/259 [00:03<00:00, 76.41it/s]\n",
      "Training Epoch 1038: 100%|██████████| 259/259 [00:03<00:00, 78.31it/s]\n",
      "Training Epoch 1039: 100%|██████████| 259/259 [00:03<00:00, 71.52it/s]\n",
      "Training Epoch 1040: 100%|██████████| 259/259 [00:03<00:00, 80.88it/s]\n",
      "Training Epoch 1041: 100%|██████████| 259/259 [00:03<00:00, 81.29it/s]\n"
     ]
    },
    {
     "name": "stdout",
     "output_type": "stream",
     "text": [
      "Epoch 1040 - Train Loss: 0.1672, Train MSE: 0.1673, Train MAE: 0.3017\n",
      "Epoch 1040 - Validation Loss: 2.0438, Validation MSE: 2.0385, Validation MAE: 1.1158\n"
     ]
    },
    {
     "name": "stderr",
     "output_type": "stream",
     "text": [
      "Training Epoch 1042: 100%|██████████| 259/259 [00:03<00:00, 74.62it/s]\n",
      "Training Epoch 1043: 100%|██████████| 259/259 [00:03<00:00, 78.71it/s]\n",
      "Training Epoch 1044: 100%|██████████| 259/259 [00:03<00:00, 80.39it/s]\n",
      "Training Epoch 1045: 100%|██████████| 259/259 [00:03<00:00, 80.81it/s]\n",
      "Training Epoch 1046: 100%|██████████| 259/259 [00:03<00:00, 82.96it/s]\n",
      "Training Epoch 1047: 100%|██████████| 259/259 [00:03<00:00, 77.33it/s]\n",
      "Training Epoch 1048: 100%|██████████| 259/259 [00:03<00:00, 79.73it/s]\n",
      "Training Epoch 1049: 100%|██████████| 259/259 [00:03<00:00, 80.18it/s]\n",
      "Training Epoch 1050: 100%|██████████| 259/259 [00:03<00:00, 79.81it/s]\n",
      "Training Epoch 1051: 100%|██████████| 259/259 [00:03<00:00, 79.39it/s]\n"
     ]
    },
    {
     "name": "stdout",
     "output_type": "stream",
     "text": [
      "Epoch 1050 - Train Loss: 0.1653, Train MSE: 0.1654, Train MAE: 0.2993\n",
      "Epoch 1050 - Validation Loss: 1.9597, Validation MSE: 1.9558, Validation MAE: 1.0961\n"
     ]
    },
    {
     "name": "stderr",
     "output_type": "stream",
     "text": [
      "Training Epoch 1052: 100%|██████████| 259/259 [00:03<00:00, 79.29it/s]\n",
      "Training Epoch 1053: 100%|██████████| 259/259 [00:03<00:00, 81.52it/s]\n",
      "Training Epoch 1054: 100%|██████████| 259/259 [00:03<00:00, 79.99it/s]\n",
      "Training Epoch 1055: 100%|██████████| 259/259 [00:03<00:00, 82.04it/s]\n",
      "Training Epoch 1056: 100%|██████████| 259/259 [00:03<00:00, 78.91it/s]\n",
      "Training Epoch 1057: 100%|██████████| 259/259 [00:03<00:00, 73.88it/s]\n",
      "Training Epoch 1058: 100%|██████████| 259/259 [00:03<00:00, 78.30it/s]\n",
      "Training Epoch 1059: 100%|██████████| 259/259 [00:03<00:00, 73.89it/s]\n",
      "Training Epoch 1060: 100%|██████████| 259/259 [00:03<00:00, 77.21it/s]\n",
      "Training Epoch 1061: 100%|██████████| 259/259 [00:03<00:00, 82.01it/s]\n"
     ]
    },
    {
     "name": "stdout",
     "output_type": "stream",
     "text": [
      "Epoch 1060 - Train Loss: 0.1615, Train MSE: 0.1617, Train MAE: 0.2991\n",
      "Epoch 1060 - Validation Loss: 1.9640, Validation MSE: 1.9603, Validation MAE: 1.0893\n"
     ]
    },
    {
     "name": "stderr",
     "output_type": "stream",
     "text": [
      "Training Epoch 1062: 100%|██████████| 259/259 [00:03<00:00, 78.83it/s]\n",
      "Training Epoch 1063: 100%|██████████| 259/259 [00:03<00:00, 79.40it/s]\n",
      "Training Epoch 1064: 100%|██████████| 259/259 [00:03<00:00, 83.79it/s]\n",
      "Training Epoch 1065: 100%|██████████| 259/259 [00:03<00:00, 77.78it/s]\n",
      "Training Epoch 1066: 100%|██████████| 259/259 [00:03<00:00, 81.23it/s]\n",
      "Training Epoch 1067: 100%|██████████| 259/259 [00:03<00:00, 82.58it/s]\n",
      "Training Epoch 1068: 100%|██████████| 259/259 [00:03<00:00, 80.97it/s]\n",
      "Training Epoch 1069: 100%|██████████| 259/259 [00:03<00:00, 80.14it/s]\n",
      "Training Epoch 1070: 100%|██████████| 259/259 [00:03<00:00, 77.19it/s]\n",
      "Training Epoch 1071: 100%|██████████| 259/259 [00:03<00:00, 79.11it/s]\n"
     ]
    },
    {
     "name": "stdout",
     "output_type": "stream",
     "text": [
      "Epoch 1070 - Train Loss: 0.1633, Train MSE: 0.1634, Train MAE: 0.2998\n",
      "Epoch 1070 - Validation Loss: 1.9553, Validation MSE: 1.9519, Validation MAE: 1.0950\n"
     ]
    },
    {
     "name": "stderr",
     "output_type": "stream",
     "text": [
      "Training Epoch 1072: 100%|██████████| 259/259 [00:03<00:00, 79.62it/s]\n",
      "Training Epoch 1073: 100%|██████████| 259/259 [00:03<00:00, 80.95it/s]\n",
      "Training Epoch 1074: 100%|██████████| 259/259 [00:03<00:00, 72.66it/s]\n",
      "Training Epoch 1075: 100%|██████████| 259/259 [00:03<00:00, 75.85it/s]\n",
      "Training Epoch 1076: 100%|██████████| 259/259 [00:03<00:00, 80.07it/s]\n",
      "Training Epoch 1077: 100%|██████████| 259/259 [00:03<00:00, 76.59it/s]\n",
      "Training Epoch 1078: 100%|██████████| 259/259 [00:03<00:00, 77.20it/s]\n",
      "Training Epoch 1079: 100%|██████████| 259/259 [00:03<00:00, 81.42it/s]\n",
      "Training Epoch 1080: 100%|██████████| 259/259 [00:03<00:00, 78.40it/s]\n",
      "Training Epoch 1081: 100%|██████████| 259/259 [00:03<00:00, 78.29it/s]\n"
     ]
    },
    {
     "name": "stdout",
     "output_type": "stream",
     "text": [
      "Epoch 1080 - Train Loss: 0.1628, Train MSE: 0.1627, Train MAE: 0.3012\n",
      "Epoch 1080 - Validation Loss: 1.9828, Validation MSE: 1.9798, Validation MAE: 1.1056\n"
     ]
    },
    {
     "name": "stderr",
     "output_type": "stream",
     "text": [
      "Training Epoch 1082: 100%|██████████| 259/259 [00:03<00:00, 79.33it/s]\n",
      "Training Epoch 1083: 100%|██████████| 259/259 [00:03<00:00, 84.24it/s]\n",
      "Training Epoch 1084: 100%|██████████| 259/259 [00:03<00:00, 78.81it/s]\n",
      "Training Epoch 1085: 100%|██████████| 259/259 [00:03<00:00, 82.78it/s]\n",
      "Training Epoch 1086: 100%|██████████| 259/259 [00:03<00:00, 77.53it/s]\n",
      "Training Epoch 1087: 100%|██████████| 259/259 [00:03<00:00, 80.48it/s]\n",
      "Training Epoch 1088: 100%|██████████| 259/259 [00:03<00:00, 77.15it/s]\n",
      "Training Epoch 1089: 100%|██████████| 259/259 [00:03<00:00, 80.23it/s]\n",
      "Training Epoch 1090: 100%|██████████| 259/259 [00:03<00:00, 80.12it/s]\n",
      "Training Epoch 1091: 100%|██████████| 259/259 [00:03<00:00, 77.04it/s]\n"
     ]
    },
    {
     "name": "stdout",
     "output_type": "stream",
     "text": [
      "Epoch 1090 - Train Loss: 0.1583, Train MSE: 0.1585, Train MAE: 0.2927\n",
      "Epoch 1090 - Validation Loss: 1.9550, Validation MSE: 1.9513, Validation MAE: 1.0941\n"
     ]
    },
    {
     "name": "stderr",
     "output_type": "stream",
     "text": [
      "Training Epoch 1092: 100%|██████████| 259/259 [00:03<00:00, 76.72it/s]\n",
      "Training Epoch 1093: 100%|██████████| 259/259 [00:03<00:00, 77.04it/s]\n",
      "Training Epoch 1094: 100%|██████████| 259/259 [00:03<00:00, 79.14it/s]\n",
      "Training Epoch 1095: 100%|██████████| 259/259 [00:03<00:00, 79.71it/s]\n",
      "Training Epoch 1096: 100%|██████████| 259/259 [00:03<00:00, 75.60it/s]\n",
      "Training Epoch 1097: 100%|██████████| 259/259 [00:03<00:00, 78.78it/s]\n",
      "Training Epoch 1098: 100%|██████████| 259/259 [00:03<00:00, 80.65it/s]\n",
      "Training Epoch 1099: 100%|██████████| 259/259 [00:03<00:00, 81.07it/s]\n",
      "Training Epoch 1100: 100%|██████████| 259/259 [00:03<00:00, 81.59it/s]\n",
      "Training Epoch 1101: 100%|██████████| 259/259 [00:03<00:00, 80.67it/s]\n"
     ]
    },
    {
     "name": "stdout",
     "output_type": "stream",
     "text": [
      "Epoch 1100 - Train Loss: 0.1624, Train MSE: 0.1623, Train MAE: 0.2979\n",
      "Epoch 1100 - Validation Loss: 1.9432, Validation MSE: 1.9397, Validation MAE: 1.0930\n"
     ]
    },
    {
     "name": "stderr",
     "output_type": "stream",
     "text": [
      "Training Epoch 1102: 100%|██████████| 259/259 [00:03<00:00, 76.78it/s]\n",
      "Training Epoch 1103: 100%|██████████| 259/259 [00:03<00:00, 81.23it/s]\n",
      "Training Epoch 1104: 100%|██████████| 259/259 [00:03<00:00, 81.75it/s]\n",
      "Training Epoch 1105: 100%|██████████| 259/259 [00:03<00:00, 80.42it/s]\n",
      "Training Epoch 1106: 100%|██████████| 259/259 [00:03<00:00, 80.39it/s]\n",
      "Training Epoch 1107: 100%|██████████| 259/259 [00:03<00:00, 80.91it/s]\n",
      "Training Epoch 1108: 100%|██████████| 259/259 [00:03<00:00, 77.79it/s]\n",
      "Training Epoch 1109: 100%|██████████| 259/259 [00:03<00:00, 77.17it/s]\n",
      "Training Epoch 1110: 100%|██████████| 259/259 [00:03<00:00, 80.65it/s]\n",
      "Training Epoch 1111: 100%|██████████| 259/259 [00:03<00:00, 82.41it/s]\n"
     ]
    },
    {
     "name": "stdout",
     "output_type": "stream",
     "text": [
      "Epoch 1110 - Train Loss: 0.1538, Train MSE: 0.1539, Train MAE: 0.2913\n",
      "Epoch 1110 - Validation Loss: 1.9581, Validation MSE: 1.9537, Validation MAE: 1.0876\n"
     ]
    },
    {
     "name": "stderr",
     "output_type": "stream",
     "text": [
      "Training Epoch 1112: 100%|██████████| 259/259 [00:03<00:00, 79.16it/s]\n",
      "Training Epoch 1113: 100%|██████████| 259/259 [00:03<00:00, 78.19it/s]\n",
      "Training Epoch 1114: 100%|██████████| 259/259 [00:03<00:00, 78.18it/s]\n",
      "Training Epoch 1115: 100%|██████████| 259/259 [00:03<00:00, 80.23it/s]\n",
      "Training Epoch 1116: 100%|██████████| 259/259 [00:03<00:00, 75.96it/s]\n",
      "Training Epoch 1117: 100%|██████████| 259/259 [00:03<00:00, 79.66it/s]\n",
      "Training Epoch 1118: 100%|██████████| 259/259 [00:03<00:00, 78.34it/s]\n",
      "Training Epoch 1119: 100%|██████████| 259/259 [00:03<00:00, 80.06it/s]\n",
      "Training Epoch 1120: 100%|██████████| 259/259 [00:03<00:00, 79.67it/s]\n",
      "Training Epoch 1121: 100%|██████████| 259/259 [00:03<00:00, 77.11it/s]\n"
     ]
    },
    {
     "name": "stdout",
     "output_type": "stream",
     "text": [
      "Epoch 1120 - Train Loss: 0.1540, Train MSE: 0.1541, Train MAE: 0.2929\n",
      "Epoch 1120 - Validation Loss: 1.9783, Validation MSE: 1.9750, Validation MAE: 1.0959\n"
     ]
    },
    {
     "name": "stderr",
     "output_type": "stream",
     "text": [
      "Training Epoch 1122: 100%|██████████| 259/259 [00:03<00:00, 81.18it/s]\n",
      "Training Epoch 1123: 100%|██████████| 259/259 [00:03<00:00, 79.11it/s]\n",
      "Training Epoch 1124: 100%|██████████| 259/259 [00:03<00:00, 81.17it/s]\n",
      "Training Epoch 1125: 100%|██████████| 259/259 [00:03<00:00, 79.92it/s]\n",
      "Training Epoch 1126: 100%|██████████| 259/259 [00:03<00:00, 68.80it/s]\n",
      "Training Epoch 1127: 100%|██████████| 259/259 [00:03<00:00, 77.94it/s]\n",
      "Training Epoch 1128: 100%|██████████| 259/259 [00:03<00:00, 78.77it/s]\n",
      "Training Epoch 1129: 100%|██████████| 259/259 [00:03<00:00, 78.84it/s]\n",
      "Training Epoch 1130: 100%|██████████| 259/259 [00:03<00:00, 76.65it/s]\n",
      "Training Epoch 1131: 100%|██████████| 259/259 [00:03<00:00, 80.65it/s]\n"
     ]
    },
    {
     "name": "stdout",
     "output_type": "stream",
     "text": [
      "Epoch 1130 - Train Loss: 0.1552, Train MSE: 0.1552, Train MAE: 0.2921\n",
      "Epoch 1130 - Validation Loss: 1.9672, Validation MSE: 1.9613, Validation MAE: 1.0952\n"
     ]
    },
    {
     "name": "stderr",
     "output_type": "stream",
     "text": [
      "Training Epoch 1132: 100%|██████████| 259/259 [00:03<00:00, 79.81it/s]\n",
      "Training Epoch 1133: 100%|██████████| 259/259 [00:03<00:00, 81.40it/s]\n",
      "Training Epoch 1134: 100%|██████████| 259/259 [00:03<00:00, 81.70it/s]\n",
      "Training Epoch 1135: 100%|██████████| 259/259 [00:03<00:00, 80.39it/s]\n",
      "Training Epoch 1136: 100%|██████████| 259/259 [00:03<00:00, 79.97it/s]\n",
      "Training Epoch 1137: 100%|██████████| 259/259 [00:03<00:00, 78.57it/s]\n",
      "Training Epoch 1138: 100%|██████████| 259/259 [00:03<00:00, 77.96it/s]\n",
      "Training Epoch 1139: 100%|██████████| 259/259 [00:03<00:00, 80.11it/s]\n",
      "Training Epoch 1140: 100%|██████████| 259/259 [00:03<00:00, 78.23it/s]\n",
      "Training Epoch 1141: 100%|██████████| 259/259 [00:03<00:00, 78.94it/s]\n"
     ]
    },
    {
     "name": "stdout",
     "output_type": "stream",
     "text": [
      "Epoch 1140 - Train Loss: 0.1547, Train MSE: 0.1547, Train MAE: 0.2921\n",
      "Epoch 1140 - Validation Loss: 1.9584, Validation MSE: 1.9561, Validation MAE: 1.0951\n"
     ]
    },
    {
     "name": "stderr",
     "output_type": "stream",
     "text": [
      "Training Epoch 1142: 100%|██████████| 259/259 [00:03<00:00, 79.36it/s]\n",
      "Training Epoch 1143: 100%|██████████| 259/259 [00:03<00:00, 81.28it/s]\n",
      "Training Epoch 1144: 100%|██████████| 259/259 [00:03<00:00, 72.47it/s]\n",
      "Training Epoch 1145: 100%|██████████| 259/259 [00:03<00:00, 76.81it/s]\n",
      "Training Epoch 1146: 100%|██████████| 259/259 [00:03<00:00, 78.41it/s]\n",
      "Training Epoch 1147: 100%|██████████| 259/259 [00:03<00:00, 80.66it/s]\n",
      "Training Epoch 1148: 100%|██████████| 259/259 [00:03<00:00, 77.55it/s]\n",
      "Training Epoch 1149: 100%|██████████| 259/259 [00:03<00:00, 75.27it/s]\n",
      "Training Epoch 1150: 100%|██████████| 259/259 [00:03<00:00, 79.36it/s]\n",
      "Training Epoch 1151: 100%|██████████| 259/259 [00:03<00:00, 81.02it/s]\n"
     ]
    },
    {
     "name": "stdout",
     "output_type": "stream",
     "text": [
      "Epoch 1150 - Train Loss: 0.1552, Train MSE: 0.1553, Train MAE: 0.2904\n",
      "Epoch 1150 - Validation Loss: 1.9754, Validation MSE: 1.9702, Validation MAE: 1.1030\n"
     ]
    },
    {
     "name": "stderr",
     "output_type": "stream",
     "text": [
      "Training Epoch 1152: 100%|██████████| 259/259 [00:03<00:00, 81.86it/s]\n",
      "Training Epoch 1153: 100%|██████████| 259/259 [15:43<00:00,  3.64s/it] \n",
      "Training Epoch 1154: 100%|██████████| 259/259 [00:06<00:00, 42.23it/s]\n",
      "Training Epoch 1155: 100%|██████████| 259/259 [00:04<00:00, 62.03it/s]\n",
      "Training Epoch 1156: 100%|██████████| 259/259 [00:04<00:00, 54.52it/s]\n",
      "Training Epoch 1157: 100%|██████████| 259/259 [00:05<00:00, 49.24it/s]\n",
      "Training Epoch 1158: 100%|██████████| 259/259 [00:05<00:00, 50.30it/s]\n",
      "Training Epoch 1159: 100%|██████████| 259/259 [00:04<00:00, 53.34it/s]\n",
      "Training Epoch 1160: 100%|██████████| 259/259 [00:05<00:00, 44.78it/s]\n",
      "Training Epoch 1161: 100%|██████████| 259/259 [00:05<00:00, 50.90it/s]\n"
     ]
    },
    {
     "name": "stdout",
     "output_type": "stream",
     "text": [
      "Epoch 1160 - Train Loss: 0.1575, Train MSE: 0.1577, Train MAE: 0.2930\n",
      "Epoch 1160 - Validation Loss: 1.9943, Validation MSE: 1.9871, Validation MAE: 1.1004\n"
     ]
    },
    {
     "name": "stderr",
     "output_type": "stream",
     "text": [
      "Training Epoch 1162: 100%|██████████| 259/259 [16:20<00:00,  3.79s/it]\n",
      "Training Epoch 1163: 100%|██████████| 259/259 [00:05<00:00, 51.54it/s]\n",
      "Training Epoch 1164: 100%|██████████| 259/259 [00:04<00:00, 51.92it/s]\n",
      "Training Epoch 1165: 100%|██████████| 259/259 [00:04<00:00, 52.01it/s]\n",
      "Training Epoch 1166: 100%|██████████| 259/259 [00:04<00:00, 55.85it/s]\n",
      "Training Epoch 1167: 100%|██████████| 259/259 [00:04<00:00, 57.23it/s]\n",
      "Training Epoch 1168: 100%|██████████| 259/259 [00:04<00:00, 59.84it/s]\n",
      "Training Epoch 1169: 100%|██████████| 259/259 [00:04<00:00, 57.06it/s]\n",
      "Training Epoch 1170: 100%|██████████| 259/259 [00:04<00:00, 56.71it/s]\n",
      "Training Epoch 1171: 100%|██████████| 259/259 [00:04<00:00, 56.96it/s]\n"
     ]
    },
    {
     "name": "stdout",
     "output_type": "stream",
     "text": [
      "Epoch 1170 - Train Loss: 0.1516, Train MSE: 0.1518, Train MAE: 0.2881\n",
      "Epoch 1170 - Validation Loss: 1.9775, Validation MSE: 1.9753, Validation MAE: 1.0971\n"
     ]
    },
    {
     "name": "stderr",
     "output_type": "stream",
     "text": [
      "Training Epoch 1172: 100%|██████████| 259/259 [15:33<00:00,  3.61s/it] \n",
      "Training Epoch 1173: 100%|██████████| 259/259 [00:04<00:00, 57.15it/s]\n",
      "Training Epoch 1174: 100%|██████████| 259/259 [00:04<00:00, 56.89it/s]\n",
      "Training Epoch 1175: 100%|██████████| 259/259 [00:04<00:00, 53.93it/s]\n",
      "Training Epoch 1176: 100%|██████████| 259/259 [00:04<00:00, 56.64it/s]\n",
      "Training Epoch 1177: 100%|██████████| 259/259 [00:04<00:00, 59.32it/s]\n",
      "Training Epoch 1178: 100%|██████████| 259/259 [00:04<00:00, 59.26it/s]\n",
      "Training Epoch 1179: 100%|██████████| 259/259 [00:04<00:00, 56.10it/s]\n",
      "Training Epoch 1180: 100%|██████████| 259/259 [00:04<00:00, 59.46it/s]\n",
      "Training Epoch 1181: 100%|██████████| 259/259 [00:04<00:00, 57.47it/s]\n"
     ]
    },
    {
     "name": "stdout",
     "output_type": "stream",
     "text": [
      "Epoch 1180 - Train Loss: 0.1518, Train MSE: 0.1519, Train MAE: 0.2883\n",
      "Epoch 1180 - Validation Loss: 1.9907, Validation MSE: 1.9870, Validation MAE: 1.1055\n"
     ]
    },
    {
     "name": "stderr",
     "output_type": "stream",
     "text": [
      "Training Epoch 1182: 100%|██████████| 259/259 [01:47<00:00,  2.41it/s]\n",
      "Training Epoch 1183: 100%|██████████| 259/259 [00:04<00:00, 56.56it/s]\n",
      "Training Epoch 1184: 100%|██████████| 259/259 [00:04<00:00, 59.29it/s]\n",
      "Training Epoch 1185: 100%|██████████| 259/259 [00:04<00:00, 55.00it/s]\n",
      "Training Epoch 1186: 100%|██████████| 259/259 [00:04<00:00, 54.54it/s]\n",
      "Training Epoch 1187: 100%|██████████| 259/259 [00:04<00:00, 58.71it/s]\n",
      "Training Epoch 1188: 100%|██████████| 259/259 [00:04<00:00, 57.18it/s]\n",
      "Training Epoch 1189: 100%|██████████| 259/259 [00:04<00:00, 53.62it/s]\n",
      "Training Epoch 1190: 100%|██████████| 259/259 [00:04<00:00, 57.83it/s]\n",
      "Training Epoch 1191: 100%|██████████| 259/259 [15:57<00:00,  3.70s/it]\n"
     ]
    },
    {
     "name": "stdout",
     "output_type": "stream",
     "text": [
      "Epoch 1190 - Train Loss: 0.1548, Train MSE: 0.1548, Train MAE: 0.2913\n",
      "Epoch 1190 - Validation Loss: 1.9751, Validation MSE: 1.9729, Validation MAE: 1.0879\n"
     ]
    },
    {
     "name": "stderr",
     "output_type": "stream",
     "text": [
      "Training Epoch 1192: 100%|██████████| 259/259 [00:04<00:00, 57.22it/s]\n",
      "Training Epoch 1193: 100%|██████████| 259/259 [00:04<00:00, 57.28it/s]\n",
      "Training Epoch 1194: 100%|██████████| 259/259 [00:04<00:00, 58.68it/s]\n",
      "Training Epoch 1195: 100%|██████████| 259/259 [00:04<00:00, 53.13it/s]\n",
      "Training Epoch 1196: 100%|██████████| 259/259 [00:04<00:00, 58.46it/s]\n",
      "Training Epoch 1197: 100%|██████████| 259/259 [00:04<00:00, 58.87it/s]\n",
      "Training Epoch 1198: 100%|██████████| 259/259 [00:04<00:00, 57.81it/s]\n",
      "Training Epoch 1199: 100%|██████████| 259/259 [00:04<00:00, 58.36it/s]\n",
      "Training Epoch 1200: 100%|██████████| 259/259 [00:04<00:00, 56.58it/s]\n",
      "Training Epoch 1201: 100%|██████████| 259/259 [00:05<00:00, 50.29it/s]\n"
     ]
    },
    {
     "name": "stdout",
     "output_type": "stream",
     "text": [
      "Epoch 1200 - Train Loss: 0.1509, Train MSE: 0.1510, Train MAE: 0.2899\n",
      "Epoch 1200 - Validation Loss: 1.9381, Validation MSE: 1.9345, Validation MAE: 1.0915\n"
     ]
    },
    {
     "name": "stderr",
     "output_type": "stream",
     "text": [
      "Training Epoch 1202: 100%|██████████| 259/259 [00:04<00:00, 56.19it/s]\n",
      "Training Epoch 1203: 100%|██████████| 259/259 [00:04<00:00, 57.88it/s]\n",
      "Training Epoch 1204: 100%|██████████| 259/259 [00:04<00:00, 58.24it/s]\n",
      "Training Epoch 1205: 100%|██████████| 259/259 [00:04<00:00, 56.82it/s]\n",
      "Training Epoch 1206: 100%|██████████| 259/259 [00:04<00:00, 56.45it/s]\n",
      "Training Epoch 1207: 100%|██████████| 259/259 [00:04<00:00, 54.19it/s]\n",
      "Training Epoch 1208: 100%|██████████| 259/259 [00:04<00:00, 56.58it/s]\n",
      "Training Epoch 1209: 100%|██████████| 259/259 [00:04<00:00, 57.41it/s]\n",
      "Training Epoch 1210: 100%|██████████| 259/259 [00:04<00:00, 54.41it/s]\n",
      "Training Epoch 1211: 100%|██████████| 259/259 [15:28<00:00,  3.58s/it] \n"
     ]
    },
    {
     "name": "stdout",
     "output_type": "stream",
     "text": [
      "Epoch 1210 - Train Loss: 0.1522, Train MSE: 0.1521, Train MAE: 0.2899\n",
      "Epoch 1210 - Validation Loss: 1.9921, Validation MSE: 1.9884, Validation MAE: 1.1045\n"
     ]
    },
    {
     "name": "stderr",
     "output_type": "stream",
     "text": [
      "Training Epoch 1212: 100%|██████████| 259/259 [00:05<00:00, 46.42it/s]\n",
      "Training Epoch 1213: 100%|██████████| 259/259 [00:05<00:00, 51.78it/s]\n",
      "Training Epoch 1214: 100%|██████████| 259/259 [00:04<00:00, 53.61it/s]\n",
      "Training Epoch 1215: 100%|██████████| 259/259 [00:05<00:00, 51.69it/s]\n",
      "Training Epoch 1216: 100%|██████████| 259/259 [00:05<00:00, 49.62it/s]\n",
      "Training Epoch 1217: 100%|██████████| 259/259 [00:04<00:00, 52.53it/s]\n",
      "Training Epoch 1218: 100%|██████████| 259/259 [00:04<00:00, 57.11it/s]\n",
      "Training Epoch 1219: 100%|██████████| 259/259 [00:04<00:00, 53.11it/s]\n",
      "Training Epoch 1220: 100%|██████████| 259/259 [00:04<00:00, 55.69it/s]\n",
      "Training Epoch 1221: 100%|██████████| 259/259 [00:04<00:00, 56.88it/s]\n"
     ]
    },
    {
     "name": "stdout",
     "output_type": "stream",
     "text": [
      "Epoch 1220 - Train Loss: 0.1470, Train MSE: 0.1471, Train MAE: 0.2862\n",
      "Epoch 1220 - Validation Loss: 1.9721, Validation MSE: 1.9680, Validation MAE: 1.0995\n"
     ]
    },
    {
     "name": "stderr",
     "output_type": "stream",
     "text": [
      "Training Epoch 1222: 100%|██████████| 259/259 [00:04<00:00, 58.15it/s]\n",
      "Training Epoch 1223: 100%|██████████| 259/259 [00:04<00:00, 57.46it/s]\n",
      "Training Epoch 1224: 100%|██████████| 259/259 [00:05<00:00, 48.46it/s]\n",
      "Training Epoch 1225: 100%|██████████| 259/259 [00:04<00:00, 55.31it/s]\n",
      "Training Epoch 1226: 100%|██████████| 259/259 [00:04<00:00, 54.15it/s]\n",
      "Training Epoch 1227: 100%|██████████| 259/259 [00:04<00:00, 53.10it/s]\n",
      "Training Epoch 1228: 100%|██████████| 259/259 [00:04<00:00, 53.79it/s]\n",
      "Training Epoch 1229: 100%|██████████| 259/259 [00:04<00:00, 56.05it/s]\n",
      "Training Epoch 1230: 100%|██████████| 259/259 [00:04<00:00, 53.80it/s]\n",
      "Training Epoch 1231: 100%|██████████| 259/259 [00:05<00:00, 50.96it/s]\n"
     ]
    },
    {
     "name": "stdout",
     "output_type": "stream",
     "text": [
      "Epoch 1230 - Train Loss: 0.1492, Train MSE: 0.1493, Train MAE: 0.2877\n",
      "Epoch 1230 - Validation Loss: 1.9730, Validation MSE: 1.9699, Validation MAE: 1.1035\n"
     ]
    },
    {
     "name": "stderr",
     "output_type": "stream",
     "text": [
      "Training Epoch 1232: 100%|██████████| 259/259 [00:04<00:00, 52.71it/s]\n",
      "Training Epoch 1233: 100%|██████████| 259/259 [00:04<00:00, 54.70it/s]\n",
      "Training Epoch 1234: 100%|██████████| 259/259 [00:04<00:00, 55.74it/s]\n",
      "Training Epoch 1235: 100%|██████████| 259/259 [00:04<00:00, 55.63it/s]\n",
      "Training Epoch 1236: 100%|██████████| 259/259 [00:04<00:00, 55.53it/s]\n",
      "Training Epoch 1237: 100%|██████████| 259/259 [00:04<00:00, 53.01it/s]\n",
      "Training Epoch 1238: 100%|██████████| 259/259 [00:04<00:00, 57.16it/s]\n",
      "Training Epoch 1239: 100%|██████████| 259/259 [00:04<00:00, 55.97it/s]\n",
      "Training Epoch 1240: 100%|██████████| 259/259 [00:04<00:00, 54.40it/s]\n",
      "Training Epoch 1241: 100%|██████████| 259/259 [00:04<00:00, 55.93it/s]\n"
     ]
    },
    {
     "name": "stdout",
     "output_type": "stream",
     "text": [
      "Epoch 1240 - Train Loss: 0.1504, Train MSE: 0.1504, Train MAE: 0.2879\n",
      "Epoch 1240 - Validation Loss: 1.9690, Validation MSE: 1.9642, Validation MAE: 1.0953\n"
     ]
    },
    {
     "name": "stderr",
     "output_type": "stream",
     "text": [
      "Training Epoch 1242: 100%|██████████| 259/259 [00:04<00:00, 58.08it/s]\n",
      "Training Epoch 1243: 100%|██████████| 259/259 [00:04<00:00, 52.59it/s]\n",
      "Training Epoch 1244: 100%|██████████| 259/259 [00:04<00:00, 52.58it/s]\n",
      "Training Epoch 1245: 100%|██████████| 259/259 [00:04<00:00, 54.63it/s]\n",
      "Training Epoch 1246: 100%|██████████| 259/259 [00:04<00:00, 53.82it/s]\n",
      "Training Epoch 1247: 100%|██████████| 259/259 [00:04<00:00, 55.01it/s]\n",
      "Training Epoch 1248: 100%|██████████| 259/259 [00:04<00:00, 53.97it/s]\n",
      "Training Epoch 1249: 100%|██████████| 259/259 [00:04<00:00, 54.33it/s]\n",
      "Training Epoch 1250: 100%|██████████| 259/259 [00:04<00:00, 54.36it/s]\n",
      "Training Epoch 1251: 100%|██████████| 259/259 [00:04<00:00, 57.11it/s]\n"
     ]
    },
    {
     "name": "stdout",
     "output_type": "stream",
     "text": [
      "Epoch 1250 - Train Loss: 0.1462, Train MSE: 0.1461, Train MAE: 0.2838\n",
      "Epoch 1250 - Validation Loss: 1.9465, Validation MSE: 1.9437, Validation MAE: 1.0978\n"
     ]
    },
    {
     "name": "stderr",
     "output_type": "stream",
     "text": [
      "Training Epoch 1252: 100%|██████████| 259/259 [00:04<00:00, 52.79it/s]\n",
      "Training Epoch 1253: 100%|██████████| 259/259 [00:04<00:00, 54.14it/s]\n",
      "Training Epoch 1254: 100%|██████████| 259/259 [00:04<00:00, 54.84it/s]\n",
      "Training Epoch 1255: 100%|██████████| 259/259 [00:04<00:00, 53.30it/s]\n",
      "Training Epoch 1256: 100%|██████████| 259/259 [00:04<00:00, 54.71it/s]\n",
      "Training Epoch 1257: 100%|██████████| 259/259 [00:04<00:00, 52.80it/s]\n",
      "Training Epoch 1258: 100%|██████████| 259/259 [00:04<00:00, 53.51it/s]\n",
      "Training Epoch 1259: 100%|██████████| 259/259 [00:04<00:00, 53.97it/s]\n",
      "Training Epoch 1260: 100%|██████████| 259/259 [00:04<00:00, 54.09it/s]\n",
      "Training Epoch 1261: 100%|██████████| 259/259 [00:04<00:00, 53.05it/s]\n"
     ]
    },
    {
     "name": "stdout",
     "output_type": "stream",
     "text": [
      "Epoch 1260 - Train Loss: 0.1495, Train MSE: 0.1491, Train MAE: 0.2856\n",
      "Epoch 1260 - Validation Loss: 1.9544, Validation MSE: 1.9509, Validation MAE: 1.0928\n"
     ]
    },
    {
     "name": "stderr",
     "output_type": "stream",
     "text": [
      "Training Epoch 1262: 100%|██████████| 259/259 [00:04<00:00, 51.91it/s]\n",
      "Training Epoch 1263: 100%|██████████| 259/259 [00:04<00:00, 54.32it/s]\n",
      "Training Epoch 1264: 100%|██████████| 259/259 [00:04<00:00, 55.62it/s]\n",
      "Training Epoch 1265: 100%|██████████| 259/259 [00:04<00:00, 54.41it/s]\n",
      "Training Epoch 1266: 100%|██████████| 259/259 [00:04<00:00, 53.90it/s]\n",
      "Training Epoch 1267: 100%|██████████| 259/259 [00:04<00:00, 52.73it/s]\n",
      "Training Epoch 1268: 100%|██████████| 259/259 [00:05<00:00, 50.10it/s]\n",
      "Training Epoch 1269: 100%|██████████| 259/259 [16:34<00:00,  3.84s/it]  \n",
      "Training Epoch 1270: 100%|██████████| 259/259 [00:04<00:00, 53.71it/s]\n",
      "Training Epoch 1271: 100%|██████████| 259/259 [00:04<00:00, 58.17it/s]\n"
     ]
    },
    {
     "name": "stdout",
     "output_type": "stream",
     "text": [
      "Epoch 1270 - Train Loss: 0.1470, Train MSE: 0.1471, Train MAE: 0.2816\n",
      "Epoch 1270 - Validation Loss: 1.9647, Validation MSE: 1.9594, Validation MAE: 1.0904\n"
     ]
    },
    {
     "name": "stderr",
     "output_type": "stream",
     "text": [
      "Training Epoch 1272: 100%|██████████| 259/259 [00:04<00:00, 55.24it/s]\n",
      "Training Epoch 1273: 100%|██████████| 259/259 [00:04<00:00, 55.27it/s]\n",
      "Training Epoch 1274: 100%|██████████| 259/259 [00:04<00:00, 58.15it/s]\n",
      "Training Epoch 1275: 100%|██████████| 259/259 [00:04<00:00, 53.78it/s]\n",
      "Training Epoch 1276: 100%|██████████| 259/259 [00:04<00:00, 55.85it/s]\n",
      "Training Epoch 1277: 100%|██████████| 259/259 [00:04<00:00, 58.01it/s]\n",
      "Training Epoch 1278: 100%|██████████| 259/259 [00:04<00:00, 55.66it/s]\n",
      "Training Epoch 1279: 100%|██████████| 259/259 [16:37<00:00,  3.85s/it] \n",
      "Training Epoch 1280: 100%|██████████| 259/259 [00:04<00:00, 55.62it/s]\n",
      "Training Epoch 1281: 100%|██████████| 259/259 [00:04<00:00, 53.56it/s]\n"
     ]
    },
    {
     "name": "stdout",
     "output_type": "stream",
     "text": [
      "Epoch 1280 - Train Loss: 0.1464, Train MSE: 0.1462, Train MAE: 0.2831\n",
      "Epoch 1280 - Validation Loss: 1.9901, Validation MSE: 1.9837, Validation MAE: 1.1004\n"
     ]
    },
    {
     "name": "stderr",
     "output_type": "stream",
     "text": [
      "Training Epoch 1282: 100%|██████████| 259/259 [00:04<00:00, 55.51it/s]\n",
      "Training Epoch 1283: 100%|██████████| 259/259 [00:04<00:00, 56.71it/s]\n",
      "Training Epoch 1284: 100%|██████████| 259/259 [00:04<00:00, 58.58it/s]\n",
      "Training Epoch 1285: 100%|██████████| 259/259 [00:04<00:00, 55.47it/s]\n",
      "Training Epoch 1286: 100%|██████████| 259/259 [00:04<00:00, 53.45it/s]\n",
      "Training Epoch 1287: 100%|██████████| 259/259 [00:04<00:00, 60.22it/s]\n",
      "Training Epoch 1288: 100%|██████████| 259/259 [00:04<00:00, 56.29it/s]\n",
      "Training Epoch 1289: 100%|██████████| 259/259 [00:04<00:00, 56.42it/s]\n",
      "Training Epoch 1290: 100%|██████████| 259/259 [00:04<00:00, 57.31it/s]\n",
      "Training Epoch 1291: 100%|██████████| 259/259 [00:04<00:00, 56.43it/s]\n"
     ]
    },
    {
     "name": "stdout",
     "output_type": "stream",
     "text": [
      "Epoch 1290 - Train Loss: 0.1469, Train MSE: 0.1470, Train MAE: 0.2846\n",
      "Epoch 1290 - Validation Loss: 1.9340, Validation MSE: 1.9303, Validation MAE: 1.0923\n"
     ]
    },
    {
     "name": "stderr",
     "output_type": "stream",
     "text": [
      "Training Epoch 1292: 100%|██████████| 259/259 [15:41<00:00,  3.63s/it]  \n",
      "Training Epoch 1293: 100%|██████████| 259/259 [00:05<00:00, 48.13it/s]\n",
      "Training Epoch 1294: 100%|██████████| 259/259 [00:05<00:00, 49.75it/s]\n",
      "Training Epoch 1295: 100%|██████████| 259/259 [00:05<00:00, 48.09it/s]\n",
      "Training Epoch 1296: 100%|██████████| 259/259 [00:04<00:00, 52.61it/s]\n",
      "Training Epoch 1297: 100%|██████████| 259/259 [00:04<00:00, 54.50it/s]\n",
      "Training Epoch 1298: 100%|██████████| 259/259 [00:04<00:00, 54.95it/s]\n",
      "Training Epoch 1299: 100%|██████████| 259/259 [00:04<00:00, 58.07it/s]\n",
      "Training Epoch 1300: 100%|██████████| 259/259 [00:04<00:00, 58.49it/s]\n",
      "Training Epoch 1301: 100%|██████████| 259/259 [15:15<00:00,  3.54s/it]  \n"
     ]
    },
    {
     "name": "stdout",
     "output_type": "stream",
     "text": [
      "Epoch 1300 - Train Loss: 0.1482, Train MSE: 0.1483, Train MAE: 0.2843\n",
      "Epoch 1300 - Validation Loss: 1.9779, Validation MSE: 1.9726, Validation MAE: 1.0981\n"
     ]
    },
    {
     "name": "stderr",
     "output_type": "stream",
     "text": [
      "Training Epoch 1302: 100%|██████████| 259/259 [00:04<00:00, 56.49it/s]\n",
      "Training Epoch 1303: 100%|██████████| 259/259 [00:05<00:00, 51.62it/s]\n",
      "Training Epoch 1304: 100%|██████████| 259/259 [00:04<00:00, 54.71it/s]\n",
      "Training Epoch 1305: 100%|██████████| 259/259 [00:04<00:00, 56.37it/s]\n",
      "Training Epoch 1306: 100%|██████████| 259/259 [00:04<00:00, 58.82it/s]\n",
      "Training Epoch 1307: 100%|██████████| 259/259 [00:04<00:00, 58.02it/s]\n",
      "Training Epoch 1308: 100%|██████████| 259/259 [00:04<00:00, 56.57it/s]\n",
      "Training Epoch 1309: 100%|██████████| 259/259 [00:04<00:00, 55.39it/s]\n",
      "Training Epoch 1310: 100%|██████████| 259/259 [00:04<00:00, 59.83it/s]\n",
      "Training Epoch 1311: 100%|██████████| 259/259 [16:33<00:00,  3.83s/it] \n"
     ]
    },
    {
     "name": "stdout",
     "output_type": "stream",
     "text": [
      "Epoch 1310 - Train Loss: 0.1521, Train MSE: 0.1519, Train MAE: 0.2875\n",
      "Epoch 1310 - Validation Loss: 1.9527, Validation MSE: 1.9499, Validation MAE: 1.0933\n"
     ]
    },
    {
     "name": "stderr",
     "output_type": "stream",
     "text": [
      "Training Epoch 1312: 100%|██████████| 259/259 [00:04<00:00, 54.69it/s]\n",
      "Training Epoch 1313: 100%|██████████| 259/259 [00:04<00:00, 56.22it/s]\n",
      "Training Epoch 1314: 100%|██████████| 259/259 [00:04<00:00, 58.63it/s]\n",
      "Training Epoch 1315: 100%|██████████| 259/259 [00:05<00:00, 49.25it/s]\n",
      "Training Epoch 1316: 100%|██████████| 259/259 [00:04<00:00, 55.78it/s]\n",
      "Training Epoch 1317: 100%|██████████| 259/259 [00:04<00:00, 56.55it/s]\n",
      "Training Epoch 1318: 100%|██████████| 259/259 [00:04<00:00, 54.23it/s]\n",
      "Training Epoch 1319: 100%|██████████| 259/259 [00:04<00:00, 58.81it/s]\n",
      "Training Epoch 1320: 100%|██████████| 259/259 [16:15<00:00,  3.77s/it]\n",
      "Training Epoch 1321: 100%|██████████| 259/259 [00:05<00:00, 49.76it/s]\n"
     ]
    },
    {
     "name": "stdout",
     "output_type": "stream",
     "text": [
      "Epoch 1320 - Train Loss: 0.1494, Train MSE: 0.1493, Train MAE: 0.2842\n",
      "Epoch 1320 - Validation Loss: 1.9673, Validation MSE: 1.9629, Validation MAE: 1.0936\n"
     ]
    },
    {
     "name": "stderr",
     "output_type": "stream",
     "text": [
      "Training Epoch 1322: 100%|██████████| 259/259 [00:05<00:00, 48.48it/s]\n",
      "Training Epoch 1323: 100%|██████████| 259/259 [00:05<00:00, 47.82it/s]\n",
      "Training Epoch 1324: 100%|██████████| 259/259 [00:05<00:00, 51.76it/s]\n",
      "Training Epoch 1325: 100%|██████████| 259/259 [00:04<00:00, 52.22it/s]\n",
      "Training Epoch 1326: 100%|██████████| 259/259 [00:04<00:00, 52.98it/s]\n",
      "Training Epoch 1327: 100%|██████████| 259/259 [00:04<00:00, 56.70it/s]\n",
      "Training Epoch 1328: 100%|██████████| 259/259 [00:04<00:00, 58.74it/s]\n",
      "Training Epoch 1329: 100%|██████████| 259/259 [00:04<00:00, 56.87it/s]\n",
      "Training Epoch 1330: 100%|██████████| 259/259 [00:04<00:00, 52.70it/s]\n",
      "Training Epoch 1331: 100%|██████████| 259/259 [00:04<00:00, 57.71it/s]\n"
     ]
    },
    {
     "name": "stdout",
     "output_type": "stream",
     "text": [
      "Epoch 1330 - Train Loss: 0.1455, Train MSE: 0.1454, Train MAE: 0.2808\n",
      "Epoch 1330 - Validation Loss: 1.9667, Validation MSE: 1.9633, Validation MAE: 1.0917\n"
     ]
    },
    {
     "name": "stderr",
     "output_type": "stream",
     "text": [
      "Training Epoch 1332: 100%|██████████| 259/259 [00:04<00:00, 52.44it/s]\n",
      "Training Epoch 1333: 100%|██████████| 259/259 [00:04<00:00, 52.14it/s]\n",
      "Training Epoch 1334: 100%|██████████| 259/259 [00:04<00:00, 55.58it/s]\n",
      "Training Epoch 1335: 100%|██████████| 259/259 [00:04<00:00, 59.59it/s]\n",
      "Training Epoch 1336: 100%|██████████| 259/259 [00:04<00:00, 56.07it/s]\n",
      "Training Epoch 1337: 100%|██████████| 259/259 [00:04<00:00, 57.02it/s]\n",
      "Training Epoch 1338: 100%|██████████| 259/259 [00:04<00:00, 57.67it/s]\n",
      "Training Epoch 1339: 100%|██████████| 259/259 [00:05<00:00, 51.30it/s]\n",
      "Training Epoch 1340: 100%|██████████| 259/259 [00:04<00:00, 52.02it/s]\n",
      "Training Epoch 1341: 100%|██████████| 259/259 [00:04<00:00, 57.62it/s]\n"
     ]
    },
    {
     "name": "stdout",
     "output_type": "stream",
     "text": [
      "Epoch 1340 - Train Loss: 0.1425, Train MSE: 0.1424, Train MAE: 0.2808\n",
      "Epoch 1340 - Validation Loss: 1.9754, Validation MSE: 1.9712, Validation MAE: 1.1050\n"
     ]
    },
    {
     "name": "stderr",
     "output_type": "stream",
     "text": [
      "Training Epoch 1342: 100%|██████████| 259/259 [00:04<00:00, 53.84it/s]\n",
      "Training Epoch 1343: 100%|██████████| 259/259 [00:04<00:00, 54.55it/s]\n",
      "Training Epoch 1344: 100%|██████████| 259/259 [00:04<00:00, 55.59it/s]\n",
      "Training Epoch 1345: 100%|██████████| 259/259 [00:04<00:00, 55.90it/s]\n",
      "Training Epoch 1346: 100%|██████████| 259/259 [00:04<00:00, 55.11it/s]\n",
      "Training Epoch 1347: 100%|██████████| 259/259 [00:04<00:00, 54.97it/s]\n",
      "Training Epoch 1348: 100%|██████████| 259/259 [00:04<00:00, 53.50it/s]\n",
      "Training Epoch 1349: 100%|██████████| 259/259 [00:04<00:00, 54.72it/s]\n",
      "Training Epoch 1350: 100%|██████████| 259/259 [00:04<00:00, 56.50it/s]\n",
      "Training Epoch 1351: 100%|██████████| 259/259 [00:05<00:00, 50.95it/s]\n"
     ]
    },
    {
     "name": "stdout",
     "output_type": "stream",
     "text": [
      "Epoch 1350 - Train Loss: 0.1430, Train MSE: 0.1429, Train MAE: 0.2796\n",
      "Epoch 1350 - Validation Loss: 1.9686, Validation MSE: 1.9640, Validation MAE: 1.0916\n"
     ]
    },
    {
     "name": "stderr",
     "output_type": "stream",
     "text": [
      "Training Epoch 1352: 100%|██████████| 259/259 [00:05<00:00, 50.77it/s]\n",
      "Training Epoch 1353: 100%|██████████| 259/259 [00:04<00:00, 55.15it/s]\n",
      "Training Epoch 1354: 100%|██████████| 259/259 [00:04<00:00, 56.00it/s]\n",
      "Training Epoch 1355: 100%|██████████| 259/259 [00:04<00:00, 52.21it/s]\n",
      "Training Epoch 1356: 100%|██████████| 259/259 [00:04<00:00, 58.00it/s]\n",
      "Training Epoch 1357: 100%|██████████| 259/259 [00:04<00:00, 54.65it/s]\n",
      "Training Epoch 1358: 100%|██████████| 259/259 [00:04<00:00, 56.40it/s]\n",
      "Training Epoch 1359: 100%|██████████| 259/259 [00:04<00:00, 53.30it/s]\n",
      "Training Epoch 1360: 100%|██████████| 259/259 [00:04<00:00, 57.89it/s]\n",
      "Training Epoch 1361: 100%|██████████| 259/259 [00:04<00:00, 53.32it/s]\n"
     ]
    },
    {
     "name": "stdout",
     "output_type": "stream",
     "text": [
      "Epoch 1360 - Train Loss: 0.1411, Train MSE: 0.1413, Train MAE: 0.2784\n",
      "Epoch 1360 - Validation Loss: 1.9811, Validation MSE: 1.9781, Validation MAE: 1.0996\n"
     ]
    },
    {
     "name": "stderr",
     "output_type": "stream",
     "text": [
      "Training Epoch 1362: 100%|██████████| 259/259 [00:04<00:00, 52.50it/s]\n",
      "Training Epoch 1363: 100%|██████████| 259/259 [00:05<00:00, 50.01it/s]\n",
      "Training Epoch 1364: 100%|██████████| 259/259 [00:05<00:00, 51.30it/s]\n",
      "Training Epoch 1365: 100%|██████████| 259/259 [00:04<00:00, 53.53it/s]\n",
      "Training Epoch 1366: 100%|██████████| 259/259 [00:04<00:00, 53.73it/s]\n",
      "Training Epoch 1367: 100%|██████████| 259/259 [00:04<00:00, 54.86it/s]\n",
      "Training Epoch 1368: 100%|██████████| 259/259 [00:04<00:00, 54.27it/s]\n",
      "Training Epoch 1369: 100%|██████████| 259/259 [00:04<00:00, 55.34it/s]\n",
      "Training Epoch 1370: 100%|██████████| 259/259 [00:04<00:00, 54.79it/s]\n",
      "Training Epoch 1371: 100%|██████████| 259/259 [00:04<00:00, 54.05it/s]\n"
     ]
    },
    {
     "name": "stdout",
     "output_type": "stream",
     "text": [
      "Epoch 1370 - Train Loss: 0.1455, Train MSE: 0.1455, Train MAE: 0.2826\n",
      "Epoch 1370 - Validation Loss: 1.9526, Validation MSE: 1.9484, Validation MAE: 1.0843\n"
     ]
    },
    {
     "name": "stderr",
     "output_type": "stream",
     "text": [
      "Training Epoch 1372: 100%|██████████| 259/259 [00:04<00:00, 54.14it/s]\n",
      "Training Epoch 1373: 100%|██████████| 259/259 [00:04<00:00, 56.03it/s]\n",
      "Training Epoch 1374: 100%|██████████| 259/259 [00:04<00:00, 54.13it/s]\n",
      "Training Epoch 1375: 100%|██████████| 259/259 [00:05<00:00, 49.81it/s]\n",
      "Training Epoch 1376: 100%|██████████| 259/259 [00:04<00:00, 54.51it/s]\n",
      "Training Epoch 1377: 100%|██████████| 259/259 [00:04<00:00, 53.86it/s]\n",
      "Training Epoch 1378: 100%|██████████| 259/259 [00:05<00:00, 51.16it/s]\n",
      "Training Epoch 1379: 100%|██████████| 259/259 [00:04<00:00, 54.89it/s]\n",
      "Training Epoch 1380: 100%|██████████| 259/259 [00:04<00:00, 52.89it/s]\n",
      "Training Epoch 1381: 100%|██████████| 259/259 [00:04<00:00, 52.52it/s]\n"
     ]
    },
    {
     "name": "stdout",
     "output_type": "stream",
     "text": [
      "Epoch 1380 - Train Loss: 0.1390, Train MSE: 0.1391, Train MAE: 0.2760\n",
      "Epoch 1380 - Validation Loss: 1.9921, Validation MSE: 1.9882, Validation MAE: 1.1027\n"
     ]
    },
    {
     "name": "stderr",
     "output_type": "stream",
     "text": [
      "Training Epoch 1382: 100%|██████████| 259/259 [00:04<00:00, 56.27it/s]\n",
      "Training Epoch 1383: 100%|██████████| 259/259 [16:34<00:00,  3.84s/it] \n",
      "Training Epoch 1384: 100%|██████████| 259/259 [00:05<00:00, 50.62it/s]\n",
      "Training Epoch 1385: 100%|██████████| 259/259 [00:04<00:00, 55.33it/s]\n",
      "Training Epoch 1386: 100%|██████████| 259/259 [00:04<00:00, 56.54it/s]\n",
      "Training Epoch 1387: 100%|██████████| 259/259 [00:05<00:00, 50.86it/s]\n",
      "Training Epoch 1388: 100%|██████████| 259/259 [00:04<00:00, 55.83it/s]\n",
      "Training Epoch 1389: 100%|██████████| 259/259 [00:04<00:00, 59.11it/s]\n",
      "Training Epoch 1390: 100%|██████████| 259/259 [00:04<00:00, 53.26it/s]\n",
      "Training Epoch 1391: 100%|██████████| 259/259 [00:04<00:00, 60.05it/s]\n"
     ]
    },
    {
     "name": "stdout",
     "output_type": "stream",
     "text": [
      "Epoch 1390 - Train Loss: 0.1434, Train MSE: 0.1435, Train MAE: 0.2816\n",
      "Epoch 1390 - Validation Loss: 1.9608, Validation MSE: 1.9575, Validation MAE: 1.0901\n"
     ]
    },
    {
     "name": "stderr",
     "output_type": "stream",
     "text": [
      "Training Epoch 1392: 100%|██████████| 259/259 [15:15<00:00,  3.54s/it]\n",
      "Training Epoch 1393: 100%|██████████| 259/259 [00:04<00:00, 55.67it/s]\n",
      "Training Epoch 1394: 100%|██████████| 259/259 [00:04<00:00, 52.26it/s]\n",
      "Training Epoch 1395: 100%|██████████| 259/259 [00:04<00:00, 54.87it/s]\n",
      "Training Epoch 1396: 100%|██████████| 259/259 [00:04<00:00, 56.58it/s]\n",
      "Training Epoch 1397: 100%|██████████| 259/259 [00:05<00:00, 51.29it/s]\n",
      "Training Epoch 1398: 100%|██████████| 259/259 [00:04<00:00, 54.18it/s]\n",
      "Training Epoch 1399: 100%|██████████| 259/259 [00:04<00:00, 54.45it/s]\n",
      "Training Epoch 1400: 100%|██████████| 259/259 [00:04<00:00, 57.97it/s]\n",
      "Training Epoch 1401: 100%|██████████| 259/259 [00:04<00:00, 56.10it/s]\n"
     ]
    },
    {
     "name": "stdout",
     "output_type": "stream",
     "text": [
      "Epoch 1400 - Train Loss: 0.1377, Train MSE: 0.1378, Train MAE: 0.2741\n",
      "Epoch 1400 - Validation Loss: 1.9517, Validation MSE: 1.9490, Validation MAE: 1.0901\n"
     ]
    },
    {
     "name": "stderr",
     "output_type": "stream",
     "text": [
      "Training Epoch 1402: 100%|██████████| 259/259 [15:09<00:00,  3.51s/it] \n",
      "Training Epoch 1403: 100%|██████████| 259/259 [00:04<00:00, 53.68it/s]\n",
      "Training Epoch 1404: 100%|██████████| 259/259 [00:04<00:00, 56.15it/s]\n",
      "Training Epoch 1405: 100%|██████████| 259/259 [00:04<00:00, 57.10it/s]\n",
      "Training Epoch 1406: 100%|██████████| 259/259 [00:04<00:00, 59.37it/s]\n",
      "Training Epoch 1407: 100%|██████████| 259/259 [00:04<00:00, 59.84it/s]\n",
      "Training Epoch 1408: 100%|██████████| 259/259 [00:04<00:00, 60.30it/s]\n",
      "Training Epoch 1409: 100%|██████████| 259/259 [00:04<00:00, 59.96it/s]\n",
      "Training Epoch 1410: 100%|██████████| 259/259 [00:04<00:00, 55.06it/s]\n",
      "Training Epoch 1411: 100%|██████████| 259/259 [00:04<00:00, 56.15it/s]\n"
     ]
    },
    {
     "name": "stdout",
     "output_type": "stream",
     "text": [
      "Epoch 1410 - Train Loss: 0.1431, Train MSE: 0.1432, Train MAE: 0.2775\n",
      "Epoch 1410 - Validation Loss: 1.9504, Validation MSE: 1.9467, Validation MAE: 1.0927\n"
     ]
    },
    {
     "name": "stderr",
     "output_type": "stream",
     "text": [
      "Training Epoch 1412: 100%|██████████| 259/259 [15:44<00:00,  3.65s/it] \n",
      "Training Epoch 1413: 100%|██████████| 259/259 [00:05<00:00, 49.03it/s]\n",
      "Training Epoch 1414: 100%|██████████| 259/259 [00:04<00:00, 52.02it/s]\n",
      "Training Epoch 1415: 100%|██████████| 259/259 [00:04<00:00, 53.58it/s]\n",
      "Training Epoch 1416: 100%|██████████| 259/259 [00:04<00:00, 52.59it/s]\n",
      "Training Epoch 1417: 100%|██████████| 259/259 [00:04<00:00, 53.19it/s]\n",
      "Training Epoch 1418: 100%|██████████| 259/259 [00:04<00:00, 54.02it/s]\n",
      "Training Epoch 1419: 100%|██████████| 259/259 [00:04<00:00, 57.13it/s]\n",
      "Training Epoch 1420: 100%|██████████| 259/259 [00:04<00:00, 52.85it/s]\n",
      "Training Epoch 1421: 100%|██████████| 259/259 [04:33<00:00,  1.06s/it]\n"
     ]
    },
    {
     "name": "stdout",
     "output_type": "stream",
     "text": [
      "Epoch 1420 - Train Loss: 0.1377, Train MSE: 0.1379, Train MAE: 0.2752\n",
      "Epoch 1420 - Validation Loss: 1.9776, Validation MSE: 1.9713, Validation MAE: 1.0985\n"
     ]
    },
    {
     "name": "stderr",
     "output_type": "stream",
     "text": [
      "Training Epoch 1422: 100%|██████████| 259/259 [00:04<00:00, 59.85it/s]\n",
      "Training Epoch 1423: 100%|██████████| 259/259 [00:04<00:00, 52.11it/s]\n",
      "Training Epoch 1424: 100%|██████████| 259/259 [00:04<00:00, 55.25it/s]\n",
      "Training Epoch 1425: 100%|██████████| 259/259 [00:04<00:00, 57.95it/s]\n",
      "Training Epoch 1426: 100%|██████████| 259/259 [00:04<00:00, 54.41it/s]\n",
      "Training Epoch 1427: 100%|██████████| 259/259 [00:04<00:00, 58.93it/s]\n",
      "Training Epoch 1428: 100%|██████████| 259/259 [00:04<00:00, 59.41it/s]\n",
      "Training Epoch 1429: 100%|██████████| 259/259 [00:04<00:00, 55.66it/s]\n",
      "Training Epoch 1430: 100%|██████████| 259/259 [00:47<00:00,  5.45it/s]\n",
      "Training Epoch 1431: 100%|██████████| 259/259 [00:04<00:00, 59.27it/s]\n"
     ]
    },
    {
     "name": "stdout",
     "output_type": "stream",
     "text": [
      "Epoch 1430 - Train Loss: 0.1365, Train MSE: 0.1366, Train MAE: 0.2723\n",
      "Epoch 1430 - Validation Loss: 1.9582, Validation MSE: 1.9551, Validation MAE: 1.0952\n"
     ]
    },
    {
     "name": "stderr",
     "output_type": "stream",
     "text": [
      "Training Epoch 1432: 100%|██████████| 259/259 [00:04<00:00, 57.96it/s]\n",
      "Training Epoch 1433: 100%|██████████| 259/259 [00:04<00:00, 55.20it/s]\n",
      "Training Epoch 1434: 100%|██████████| 259/259 [00:04<00:00, 60.75it/s]\n",
      "Training Epoch 1435: 100%|██████████| 259/259 [00:04<00:00, 57.29it/s]\n",
      "Training Epoch 1436: 100%|██████████| 259/259 [00:05<00:00, 47.84it/s]\n",
      "Training Epoch 1437: 100%|██████████| 259/259 [00:04<00:00, 54.65it/s]\n",
      "Training Epoch 1438: 100%|██████████| 259/259 [00:04<00:00, 57.43it/s]\n",
      "Training Epoch 1439: 100%|██████████| 259/259 [00:04<00:00, 57.70it/s]\n",
      "Training Epoch 1440: 100%|██████████| 259/259 [15:43<00:00,  3.64s/it]\n",
      "Training Epoch 1441: 100%|██████████| 259/259 [00:05<00:00, 51.67it/s]\n"
     ]
    },
    {
     "name": "stdout",
     "output_type": "stream",
     "text": [
      "Epoch 1440 - Train Loss: 0.1380, Train MSE: 0.1378, Train MAE: 0.2752\n",
      "Epoch 1440 - Validation Loss: 1.9728, Validation MSE: 1.9680, Validation MAE: 1.0956\n"
     ]
    },
    {
     "name": "stderr",
     "output_type": "stream",
     "text": [
      "Training Epoch 1442: 100%|██████████| 259/259 [00:04<00:00, 54.16it/s]\n",
      "Training Epoch 1443: 100%|██████████| 259/259 [00:04<00:00, 57.98it/s]\n",
      "Training Epoch 1444: 100%|██████████| 259/259 [00:04<00:00, 55.37it/s]\n",
      "Training Epoch 1445: 100%|██████████| 259/259 [00:05<00:00, 50.79it/s]\n",
      "Training Epoch 1446: 100%|██████████| 259/259 [00:04<00:00, 57.67it/s]\n",
      "Training Epoch 1447: 100%|██████████| 259/259 [00:04<00:00, 55.50it/s]\n",
      "Training Epoch 1448: 100%|██████████| 259/259 [00:04<00:00, 53.50it/s]\n",
      "Training Epoch 1449: 100%|██████████| 259/259 [00:04<00:00, 55.55it/s]\n",
      "Training Epoch 1450: 100%|██████████| 259/259 [15:39<00:00,  3.63s/it] \n",
      "Training Epoch 1451: 100%|██████████| 259/259 [00:04<00:00, 57.04it/s]\n"
     ]
    },
    {
     "name": "stdout",
     "output_type": "stream",
     "text": [
      "Epoch 1450 - Train Loss: 0.1416, Train MSE: 0.1416, Train MAE: 0.2771\n",
      "Epoch 1450 - Validation Loss: 1.9432, Validation MSE: 1.9404, Validation MAE: 1.0957\n"
     ]
    },
    {
     "name": "stderr",
     "output_type": "stream",
     "text": [
      "Training Epoch 1452: 100%|██████████| 259/259 [00:05<00:00, 51.54it/s]\n",
      "Training Epoch 1453: 100%|██████████| 259/259 [00:04<00:00, 53.73it/s]\n",
      "Training Epoch 1454: 100%|██████████| 259/259 [00:04<00:00, 54.31it/s]\n",
      "Training Epoch 1455: 100%|██████████| 259/259 [00:04<00:00, 55.49it/s]\n",
      "Training Epoch 1456: 100%|██████████| 259/259 [00:04<00:00, 59.20it/s]\n",
      "Training Epoch 1457: 100%|██████████| 259/259 [00:04<00:00, 60.32it/s]\n",
      "Training Epoch 1458: 100%|██████████| 259/259 [00:04<00:00, 57.87it/s]\n",
      "Training Epoch 1459: 100%|██████████| 259/259 [15:45<00:00,  3.65s/it]\n",
      "Training Epoch 1460: 100%|██████████| 259/259 [00:05<00:00, 46.93it/s]\n",
      "Training Epoch 1461: 100%|██████████| 259/259 [00:05<00:00, 50.66it/s]\n"
     ]
    },
    {
     "name": "stdout",
     "output_type": "stream",
     "text": [
      "Epoch 1460 - Train Loss: 0.1418, Train MSE: 0.1418, Train MAE: 0.2773\n",
      "Epoch 1460 - Validation Loss: 1.9825, Validation MSE: 1.9779, Validation MAE: 1.0986\n"
     ]
    },
    {
     "name": "stderr",
     "output_type": "stream",
     "text": [
      "Training Epoch 1462: 100%|██████████| 259/259 [00:05<00:00, 51.34it/s]\n",
      "Training Epoch 1463: 100%|██████████| 259/259 [00:05<00:00, 50.70it/s]\n",
      "Training Epoch 1464: 100%|██████████| 259/259 [00:05<00:00, 47.20it/s]\n",
      "Training Epoch 1465: 100%|██████████| 259/259 [00:05<00:00, 50.15it/s]\n",
      "Training Epoch 1466: 100%|██████████| 259/259 [00:05<00:00, 51.55it/s]\n",
      "Training Epoch 1467: 100%|██████████| 259/259 [00:04<00:00, 54.59it/s]\n",
      "Training Epoch 1468: 100%|██████████| 259/259 [00:04<00:00, 54.11it/s]\n",
      "Training Epoch 1469: 100%|██████████| 259/259 [00:04<00:00, 55.11it/s]\n",
      "Training Epoch 1470: 100%|██████████| 259/259 [00:05<00:00, 50.58it/s]\n",
      "Training Epoch 1471: 100%|██████████| 259/259 [00:05<00:00, 48.37it/s]\n"
     ]
    },
    {
     "name": "stdout",
     "output_type": "stream",
     "text": [
      "Epoch 1470 - Train Loss: 0.1457, Train MSE: 0.1455, Train MAE: 0.2793\n",
      "Epoch 1470 - Validation Loss: 1.9636, Validation MSE: 1.9601, Validation MAE: 1.0990\n"
     ]
    },
    {
     "name": "stderr",
     "output_type": "stream",
     "text": [
      "Training Epoch 1472: 100%|██████████| 259/259 [00:04<00:00, 51.95it/s]\n",
      "Training Epoch 1473: 100%|██████████| 259/259 [00:04<00:00, 54.15it/s]\n",
      "Training Epoch 1474: 100%|██████████| 259/259 [15:52<00:00,  3.68s/it]\n",
      "Training Epoch 1475: 100%|██████████| 259/259 [00:04<00:00, 54.07it/s]\n",
      "Training Epoch 1476: 100%|██████████| 259/259 [00:04<00:00, 58.61it/s]\n",
      "Training Epoch 1477: 100%|██████████| 259/259 [00:04<00:00, 57.13it/s]\n",
      "Training Epoch 1478: 100%|██████████| 259/259 [00:04<00:00, 60.04it/s]\n",
      "Training Epoch 1479: 100%|██████████| 259/259 [00:04<00:00, 56.40it/s]\n",
      "Training Epoch 1480: 100%|██████████| 259/259 [00:04<00:00, 55.38it/s]\n",
      "Training Epoch 1481: 100%|██████████| 259/259 [00:04<00:00, 59.32it/s]\n"
     ]
    },
    {
     "name": "stdout",
     "output_type": "stream",
     "text": [
      "Epoch 1480 - Train Loss: 0.1322, Train MSE: 0.1323, Train MAE: 0.2708\n",
      "Epoch 1480 - Validation Loss: 1.9238, Validation MSE: 1.9187, Validation MAE: 1.0824\n"
     ]
    },
    {
     "name": "stderr",
     "output_type": "stream",
     "text": [
      "Training Epoch 1482: 100%|██████████| 259/259 [00:04<00:00, 55.61it/s]\n",
      "Training Epoch 1483: 100%|██████████| 259/259 [00:04<00:00, 57.49it/s]\n",
      "Training Epoch 1484: 100%|██████████| 259/259 [16:17<00:00,  3.77s/it]  \n",
      "Training Epoch 1485: 100%|██████████| 259/259 [00:05<00:00, 47.16it/s]\n",
      "Training Epoch 1486: 100%|██████████| 259/259 [00:05<00:00, 48.90it/s]\n",
      "Training Epoch 1487: 100%|██████████| 259/259 [00:04<00:00, 54.74it/s]\n",
      "Training Epoch 1488: 100%|██████████| 259/259 [00:04<00:00, 59.81it/s]\n",
      "Training Epoch 1489: 100%|██████████| 259/259 [00:04<00:00, 55.47it/s]\n",
      "Training Epoch 1490: 100%|██████████| 259/259 [00:05<00:00, 44.53it/s]\n",
      "Training Epoch 1491: 100%|██████████| 259/259 [00:04<00:00, 57.76it/s]\n"
     ]
    },
    {
     "name": "stdout",
     "output_type": "stream",
     "text": [
      "Epoch 1490 - Train Loss: 0.1370, Train MSE: 0.1371, Train MAE: 0.2741\n",
      "Epoch 1490 - Validation Loss: 1.9854, Validation MSE: 1.9825, Validation MAE: 1.1014\n"
     ]
    },
    {
     "name": "stderr",
     "output_type": "stream",
     "text": [
      "Training Epoch 1492: 100%|██████████| 259/259 [00:04<00:00, 58.17it/s]\n",
      "Training Epoch 1493: 100%|██████████| 259/259 [00:10<00:00, 23.63it/s]\n",
      "Training Epoch 1494: 100%|██████████| 259/259 [00:04<00:00, 56.62it/s]\n",
      "Training Epoch 1495: 100%|██████████| 259/259 [00:04<00:00, 58.09it/s]\n",
      "Training Epoch 1496: 100%|██████████| 259/259 [00:04<00:00, 53.26it/s]\n",
      "Training Epoch 1497: 100%|██████████| 259/259 [00:04<00:00, 56.37it/s]\n",
      "Training Epoch 1498: 100%|██████████| 259/259 [00:04<00:00, 56.23it/s]\n",
      "Training Epoch 1499: 100%|██████████| 259/259 [00:04<00:00, 59.70it/s]\n",
      "Training Epoch 1500: 100%|██████████| 259/259 [00:04<00:00, 57.40it/s]\n",
      "Training Epoch 1501: 100%|██████████| 259/259 [00:04<00:00, 54.79it/s]\n"
     ]
    },
    {
     "name": "stdout",
     "output_type": "stream",
     "text": [
      "Epoch 1500 - Train Loss: 0.1391, Train MSE: 0.1391, Train MAE: 0.2760\n",
      "Epoch 1500 - Validation Loss: 2.0042, Validation MSE: 2.0025, Validation MAE: 1.1073\n"
     ]
    },
    {
     "name": "stderr",
     "output_type": "stream",
     "text": [
      "Training Epoch 1502: 100%|██████████| 259/259 [00:04<00:00, 57.93it/s]\n",
      "Training Epoch 1503: 100%|██████████| 259/259 [15:43<00:00,  3.64s/it]  \n",
      "Training Epoch 1504: 100%|██████████| 259/259 [00:04<00:00, 53.64it/s]\n",
      "Training Epoch 1505: 100%|██████████| 259/259 [00:05<00:00, 51.47it/s]\n",
      "Training Epoch 1506: 100%|██████████| 259/259 [00:05<00:00, 50.70it/s]\n",
      "Training Epoch 1507: 100%|██████████| 259/259 [00:05<00:00, 49.86it/s]\n",
      "Training Epoch 1508: 100%|██████████| 259/259 [00:04<00:00, 53.22it/s]\n",
      "Training Epoch 1509: 100%|██████████| 259/259 [00:04<00:00, 54.61it/s]\n",
      "Training Epoch 1510: 100%|██████████| 259/259 [00:04<00:00, 55.25it/s]\n",
      "Training Epoch 1511: 100%|██████████| 259/259 [00:04<00:00, 56.13it/s]\n"
     ]
    },
    {
     "name": "stdout",
     "output_type": "stream",
     "text": [
      "Epoch 1510 - Train Loss: 0.1355, Train MSE: 0.1347, Train MAE: 0.2685\n",
      "Epoch 1510 - Validation Loss: 1.9757, Validation MSE: 1.9709, Validation MAE: 1.0984\n"
     ]
    },
    {
     "name": "stderr",
     "output_type": "stream",
     "text": [
      "Training Epoch 1512: 100%|██████████| 259/259 [17:12<00:00,  3.99s/it]\n",
      "Training Epoch 1513: 100%|██████████| 259/259 [00:04<00:00, 52.51it/s]\n",
      "Training Epoch 1514: 100%|██████████| 259/259 [00:04<00:00, 58.24it/s]\n",
      "Training Epoch 1515: 100%|██████████| 259/259 [00:04<00:00, 58.96it/s]\n",
      "Training Epoch 1516: 100%|██████████| 259/259 [00:04<00:00, 56.53it/s]\n",
      "Training Epoch 1517: 100%|██████████| 259/259 [00:04<00:00, 57.59it/s]\n",
      "Training Epoch 1518: 100%|██████████| 259/259 [00:04<00:00, 58.70it/s]\n",
      "Training Epoch 1519: 100%|██████████| 259/259 [00:04<00:00, 54.13it/s]\n",
      "Training Epoch 1520: 100%|██████████| 259/259 [00:04<00:00, 54.54it/s]\n",
      "Training Epoch 1521: 100%|██████████| 259/259 [00:04<00:00, 57.20it/s]\n"
     ]
    },
    {
     "name": "stdout",
     "output_type": "stream",
     "text": [
      "Epoch 1520 - Train Loss: 0.1364, Train MSE: 0.1361, Train MAE: 0.2714\n",
      "Epoch 1520 - Validation Loss: 1.9714, Validation MSE: 1.9682, Validation MAE: 1.0979\n"
     ]
    },
    {
     "name": "stderr",
     "output_type": "stream",
     "text": [
      "Training Epoch 1522: 100%|██████████| 259/259 [00:11<00:00, 22.04it/s]\n",
      "Training Epoch 1523: 100%|██████████| 259/259 [00:04<00:00, 56.83it/s]\n",
      "Training Epoch 1524: 100%|██████████| 259/259 [00:04<00:00, 53.49it/s]\n",
      "Training Epoch 1525: 100%|██████████| 259/259 [00:04<00:00, 54.94it/s]\n",
      "Training Epoch 1526: 100%|██████████| 259/259 [00:04<00:00, 55.43it/s]\n",
      "Training Epoch 1527: 100%|██████████| 259/259 [00:04<00:00, 57.29it/s]\n",
      "Training Epoch 1528: 100%|██████████| 259/259 [00:04<00:00, 59.14it/s]\n",
      "Training Epoch 1529: 100%|██████████| 259/259 [00:04<00:00, 57.93it/s]\n",
      "Training Epoch 1530: 100%|██████████| 259/259 [00:04<00:00, 55.87it/s]\n",
      "Training Epoch 1531: 100%|██████████| 259/259 [00:04<00:00, 56.73it/s]\n"
     ]
    },
    {
     "name": "stdout",
     "output_type": "stream",
     "text": [
      "Epoch 1530 - Train Loss: 0.1371, Train MSE: 0.1372, Train MAE: 0.2713\n",
      "Epoch 1530 - Validation Loss: 1.9555, Validation MSE: 1.9536, Validation MAE: 1.0905\n"
     ]
    },
    {
     "name": "stderr",
     "output_type": "stream",
     "text": [
      "Training Epoch 1532: 100%|██████████| 259/259 [15:30<00:00,  3.59s/it] \n",
      "Training Epoch 1533: 100%|██████████| 259/259 [00:04<00:00, 56.73it/s]\n",
      "Training Epoch 1534: 100%|██████████| 259/259 [00:03<00:00, 66.00it/s]\n",
      "Training Epoch 1535: 100%|██████████| 259/259 [00:03<00:00, 67.28it/s]\n",
      "Training Epoch 1536: 100%|██████████| 259/259 [00:04<00:00, 64.13it/s]\n",
      "Training Epoch 1537: 100%|██████████| 259/259 [00:04<00:00, 63.51it/s]\n",
      "Training Epoch 1538: 100%|██████████| 259/259 [00:03<00:00, 66.92it/s]\n",
      "Training Epoch 1539: 100%|██████████| 259/259 [00:04<00:00, 64.06it/s]\n",
      "Training Epoch 1540: 100%|██████████| 259/259 [00:03<00:00, 66.23it/s]\n",
      "Training Epoch 1541: 100%|██████████| 259/259 [00:03<00:00, 66.15it/s]\n"
     ]
    },
    {
     "name": "stdout",
     "output_type": "stream",
     "text": [
      "Epoch 1540 - Train Loss: 0.1390, Train MSE: 0.1389, Train MAE: 0.2761\n",
      "Epoch 1540 - Validation Loss: 1.9313, Validation MSE: 1.9271, Validation MAE: 1.0888\n"
     ]
    },
    {
     "name": "stderr",
     "output_type": "stream",
     "text": [
      "Training Epoch 1542: 100%|██████████| 259/259 [00:04<00:00, 58.27it/s]\n",
      "Training Epoch 1543: 100%|██████████| 259/259 [00:04<00:00, 60.35it/s]\n",
      "Training Epoch 1544: 100%|██████████| 259/259 [00:04<00:00, 63.22it/s]\n",
      "Training Epoch 1545: 100%|██████████| 259/259 [00:04<00:00, 57.32it/s]\n",
      "Training Epoch 1546: 100%|██████████| 259/259 [00:05<00:00, 51.13it/s]\n",
      "Training Epoch 1547: 100%|██████████| 259/259 [00:04<00:00, 59.49it/s]\n",
      "Training Epoch 1548: 100%|██████████| 259/259 [00:04<00:00, 56.37it/s]\n",
      "Training Epoch 1549: 100%|██████████| 259/259 [00:04<00:00, 62.65it/s]\n",
      "Training Epoch 1550: 100%|██████████| 259/259 [00:04<00:00, 60.58it/s]\n",
      "Training Epoch 1551: 100%|██████████| 259/259 [16:43<00:00,  3.87s/it]  \n"
     ]
    },
    {
     "name": "stdout",
     "output_type": "stream",
     "text": [
      "Epoch 1550 - Train Loss: 0.1374, Train MSE: 0.1374, Train MAE: 0.2730\n",
      "Epoch 1550 - Validation Loss: 2.0018, Validation MSE: 1.9963, Validation MAE: 1.1017\n"
     ]
    },
    {
     "name": "stderr",
     "output_type": "stream",
     "text": [
      "Training Epoch 1552: 100%|██████████| 259/259 [00:04<00:00, 60.20it/s]\n",
      "Training Epoch 1553: 100%|██████████| 259/259 [00:03<00:00, 68.90it/s]\n",
      "Training Epoch 1554: 100%|██████████| 259/259 [00:04<00:00, 64.01it/s]\n",
      "Training Epoch 1555: 100%|██████████| 259/259 [00:03<00:00, 68.17it/s]\n",
      "Training Epoch 1556: 100%|██████████| 259/259 [00:04<00:00, 64.32it/s]\n",
      "Training Epoch 1557: 100%|██████████| 259/259 [00:03<00:00, 67.48it/s]\n",
      "Training Epoch 1558: 100%|██████████| 259/259 [00:04<00:00, 63.46it/s]\n",
      "Training Epoch 1559: 100%|██████████| 259/259 [00:04<00:00, 63.56it/s]\n",
      "Training Epoch 1560: 100%|██████████| 259/259 [00:04<00:00, 62.47it/s]\n",
      "Training Epoch 1561: 100%|██████████| 259/259 [00:04<00:00, 59.13it/s]\n"
     ]
    },
    {
     "name": "stdout",
     "output_type": "stream",
     "text": [
      "Epoch 1560 - Train Loss: 0.1355, Train MSE: 0.1355, Train MAE: 0.2707\n",
      "Epoch 1560 - Validation Loss: 1.9461, Validation MSE: 1.9417, Validation MAE: 1.0784\n"
     ]
    },
    {
     "name": "stderr",
     "output_type": "stream",
     "text": [
      "Training Epoch 1562: 100%|██████████| 259/259 [16:26<00:00,  3.81s/it] \n",
      "Training Epoch 1563: 100%|██████████| 259/259 [00:04<00:00, 58.48it/s]\n",
      "Training Epoch 1564: 100%|██████████| 259/259 [00:04<00:00, 62.54it/s]\n",
      "Training Epoch 1565: 100%|██████████| 259/259 [00:04<00:00, 54.94it/s]\n",
      "Training Epoch 1566: 100%|██████████| 259/259 [00:04<00:00, 61.63it/s]\n",
      "Training Epoch 1567: 100%|██████████| 259/259 [00:04<00:00, 60.69it/s]\n",
      "Training Epoch 1568: 100%|██████████| 259/259 [00:04<00:00, 53.31it/s]\n",
      "Training Epoch 1569: 100%|██████████| 259/259 [00:04<00:00, 61.45it/s]\n",
      "Training Epoch 1570: 100%|██████████| 259/259 [00:04<00:00, 56.12it/s]\n",
      "Training Epoch 1571: 100%|██████████| 259/259 [00:04<00:00, 56.51it/s]\n"
     ]
    },
    {
     "name": "stdout",
     "output_type": "stream",
     "text": [
      "Epoch 1570 - Train Loss: 0.1322, Train MSE: 0.1322, Train MAE: 0.2681\n",
      "Epoch 1570 - Validation Loss: 1.9711, Validation MSE: 1.9652, Validation MAE: 1.0926\n"
     ]
    },
    {
     "name": "stderr",
     "output_type": "stream",
     "text": [
      "Training Epoch 1572: 100%|██████████| 259/259 [00:05<00:00, 48.93it/s]\n",
      "Training Epoch 1573: 100%|██████████| 259/259 [00:04<00:00, 57.82it/s]\n",
      "Training Epoch 1574: 100%|██████████| 259/259 [00:04<00:00, 62.50it/s]\n",
      "Training Epoch 1575: 100%|██████████| 259/259 [00:04<00:00, 59.19it/s]\n",
      "Training Epoch 1576: 100%|██████████| 259/259 [00:04<00:00, 62.88it/s]\n",
      "Training Epoch 1577: 100%|██████████| 259/259 [00:04<00:00, 63.25it/s]\n",
      "Training Epoch 1578: 100%|██████████| 259/259 [07:30<00:00,  1.74s/it] \n",
      "Training Epoch 1579: 100%|██████████| 259/259 [00:03<00:00, 66.28it/s]\n",
      "Training Epoch 1580: 100%|██████████| 259/259 [00:03<00:00, 66.82it/s]\n",
      "Training Epoch 1581: 100%|██████████| 259/259 [00:03<00:00, 67.21it/s]\n"
     ]
    },
    {
     "name": "stdout",
     "output_type": "stream",
     "text": [
      "Epoch 1580 - Train Loss: 0.1309, Train MSE: 0.1309, Train MAE: 0.2685\n",
      "Epoch 1580 - Validation Loss: 1.9870, Validation MSE: 1.9829, Validation MAE: 1.0998\n"
     ]
    },
    {
     "name": "stderr",
     "output_type": "stream",
     "text": [
      "Training Epoch 1582: 100%|██████████| 259/259 [00:04<00:00, 62.24it/s]\n",
      "Training Epoch 1583: 100%|██████████| 259/259 [00:04<00:00, 62.39it/s]\n",
      "Training Epoch 1584: 100%|██████████| 259/259 [00:04<00:00, 61.74it/s]\n",
      "Training Epoch 1585: 100%|██████████| 259/259 [00:04<00:00, 58.78it/s]\n",
      "Training Epoch 1586: 100%|██████████| 259/259 [00:04<00:00, 63.42it/s]\n",
      "Training Epoch 1587: 100%|██████████| 259/259 [00:03<00:00, 64.94it/s]\n",
      "Training Epoch 1588: 100%|██████████| 259/259 [00:04<00:00, 62.63it/s]\n",
      "Training Epoch 1589: 100%|██████████| 259/259 [15:18<00:00,  3.55s/it]  \n",
      "Training Epoch 1590: 100%|██████████| 259/259 [00:04<00:00, 60.76it/s]\n",
      "Training Epoch 1591: 100%|██████████| 259/259 [00:03<00:00, 67.41it/s]\n"
     ]
    },
    {
     "name": "stdout",
     "output_type": "stream",
     "text": [
      "Epoch 1590 - Train Loss: 0.1332, Train MSE: 0.1331, Train MAE: 0.2681\n",
      "Epoch 1590 - Validation Loss: 1.9701, Validation MSE: 1.9658, Validation MAE: 1.0911\n"
     ]
    },
    {
     "name": "stderr",
     "output_type": "stream",
     "text": [
      "Training Epoch 1592: 100%|██████████| 259/259 [00:04<00:00, 64.53it/s]\n",
      "Training Epoch 1593: 100%|██████████| 259/259 [00:04<00:00, 64.04it/s]\n",
      "Training Epoch 1594: 100%|██████████| 259/259 [00:03<00:00, 67.37it/s]\n",
      "Training Epoch 1595: 100%|██████████| 259/259 [00:03<00:00, 67.89it/s]\n",
      "Training Epoch 1596: 100%|██████████| 259/259 [00:03<00:00, 66.15it/s]\n",
      "Training Epoch 1597: 100%|██████████| 259/259 [00:04<00:00, 64.39it/s]\n",
      "Training Epoch 1598: 100%|██████████| 259/259 [00:03<00:00, 68.37it/s]\n",
      "Training Epoch 1599: 100%|██████████| 259/259 [00:03<00:00, 65.75it/s]\n",
      "Training Epoch 1600: 100%|██████████| 259/259 [00:09<00:00, 26.12it/s]\n",
      "Training Epoch 1601: 100%|██████████| 259/259 [00:05<00:00, 50.26it/s]\n"
     ]
    },
    {
     "name": "stdout",
     "output_type": "stream",
     "text": [
      "Epoch 1600 - Train Loss: 0.1380, Train MSE: 0.1380, Train MAE: 0.2703\n",
      "Epoch 1600 - Validation Loss: 1.9424, Validation MSE: 1.9363, Validation MAE: 1.0857\n"
     ]
    },
    {
     "name": "stderr",
     "output_type": "stream",
     "text": [
      "Training Epoch 1602: 100%|██████████| 259/259 [00:04<00:00, 57.20it/s]\n",
      "Training Epoch 1603: 100%|██████████| 259/259 [00:04<00:00, 56.48it/s]\n",
      "Training Epoch 1604: 100%|██████████| 259/259 [00:04<00:00, 59.03it/s]\n",
      "Training Epoch 1605: 100%|██████████| 259/259 [00:04<00:00, 52.73it/s]\n",
      "Training Epoch 1606: 100%|██████████| 259/259 [00:04<00:00, 58.99it/s]\n",
      "Training Epoch 1607: 100%|██████████| 259/259 [00:04<00:00, 57.83it/s]\n",
      "Training Epoch 1608: 100%|██████████| 259/259 [00:04<00:00, 61.19it/s]\n",
      "Training Epoch 1609: 100%|██████████| 259/259 [00:04<00:00, 61.01it/s]\n",
      "Training Epoch 1610: 100%|██████████| 259/259 [00:03<00:00, 65.76it/s]\n",
      "Training Epoch 1611: 100%|██████████| 259/259 [15:12<00:00,  3.52s/it]\n"
     ]
    },
    {
     "name": "stdout",
     "output_type": "stream",
     "text": [
      "Epoch 1610 - Train Loss: 0.1306, Train MSE: 0.1305, Train MAE: 0.2673\n",
      "Epoch 1610 - Validation Loss: 1.9865, Validation MSE: 1.9813, Validation MAE: 1.0969\n"
     ]
    },
    {
     "name": "stderr",
     "output_type": "stream",
     "text": [
      "Training Epoch 1612: 100%|██████████| 259/259 [00:04<00:00, 61.06it/s]\n",
      "Training Epoch 1613: 100%|██████████| 259/259 [00:04<00:00, 55.75it/s]\n",
      "Training Epoch 1614: 100%|██████████| 259/259 [00:04<00:00, 60.05it/s]\n",
      "Training Epoch 1615: 100%|██████████| 259/259 [00:03<00:00, 64.83it/s]\n",
      "Training Epoch 1616: 100%|██████████| 259/259 [00:04<00:00, 62.63it/s]\n",
      "Training Epoch 1617: 100%|██████████| 259/259 [00:03<00:00, 67.59it/s]\n",
      "Training Epoch 1618: 100%|██████████| 259/259 [00:04<00:00, 63.43it/s]\n",
      "Training Epoch 1619: 100%|██████████| 259/259 [00:03<00:00, 65.17it/s]\n",
      "Training Epoch 1620: 100%|██████████| 259/259 [00:03<00:00, 64.82it/s]\n",
      "Training Epoch 1621: 100%|██████████| 259/259 [00:04<00:00, 64.14it/s]\n"
     ]
    },
    {
     "name": "stdout",
     "output_type": "stream",
     "text": [
      "Epoch 1620 - Train Loss: 0.1298, Train MSE: 0.1299, Train MAE: 0.2659\n",
      "Epoch 1620 - Validation Loss: 1.9629, Validation MSE: 1.9592, Validation MAE: 1.0927\n"
     ]
    },
    {
     "name": "stderr",
     "output_type": "stream",
     "text": [
      "Training Epoch 1622: 100%|██████████| 259/259 [16:35<00:00,  3.84s/it]\n",
      "Training Epoch 1623: 100%|██████████| 259/259 [00:04<00:00, 55.16it/s]\n",
      "Training Epoch 1624: 100%|██████████| 259/259 [00:04<00:00, 57.26it/s]\n",
      "Training Epoch 1625: 100%|██████████| 259/259 [00:04<00:00, 55.82it/s]\n",
      "Training Epoch 1626: 100%|██████████| 259/259 [00:04<00:00, 56.43it/s]\n",
      "Training Epoch 1627: 100%|██████████| 259/259 [00:04<00:00, 60.05it/s]\n",
      "Training Epoch 1628: 100%|██████████| 259/259 [00:04<00:00, 57.42it/s]\n",
      "Training Epoch 1629: 100%|██████████| 259/259 [00:04<00:00, 62.07it/s]\n",
      "Training Epoch 1630: 100%|██████████| 259/259 [00:03<00:00, 68.10it/s]\n",
      "Training Epoch 1631: 100%|██████████| 259/259 [00:04<00:00, 64.61it/s]\n"
     ]
    },
    {
     "name": "stdout",
     "output_type": "stream",
     "text": [
      "Epoch 1630 - Train Loss: 0.1315, Train MSE: 0.1315, Train MAE: 0.2674\n",
      "Epoch 1630 - Validation Loss: 1.9363, Validation MSE: 1.9324, Validation MAE: 1.0871\n"
     ]
    },
    {
     "name": "stderr",
     "output_type": "stream",
     "text": [
      "Training Epoch 1632: 100%|██████████| 259/259 [00:03<00:00, 66.11it/s]\n",
      "Training Epoch 1633: 100%|██████████| 259/259 [00:03<00:00, 66.64it/s]\n",
      "Training Epoch 1634: 100%|██████████| 259/259 [00:04<00:00, 64.28it/s]\n",
      "Training Epoch 1635: 100%|██████████| 259/259 [00:04<00:00, 62.28it/s]\n",
      "Training Epoch 1636: 100%|██████████| 259/259 [00:04<00:00, 58.13it/s]\n",
      "Training Epoch 1637: 100%|██████████| 259/259 [00:04<00:00, 58.04it/s]\n",
      "Training Epoch 1638: 100%|██████████| 259/259 [00:04<00:00, 62.18it/s]\n",
      "Training Epoch 1639: 100%|██████████| 259/259 [00:04<00:00, 57.06it/s]\n",
      "Training Epoch 1640: 100%|██████████| 259/259 [00:04<00:00, 58.89it/s]\n",
      "Training Epoch 1641: 100%|██████████| 259/259 [00:04<00:00, 55.39it/s]\n"
     ]
    },
    {
     "name": "stdout",
     "output_type": "stream",
     "text": [
      "Epoch 1640 - Train Loss: 0.1319, Train MSE: 0.1320, Train MAE: 0.2695\n",
      "Epoch 1640 - Validation Loss: 1.9391, Validation MSE: 1.9353, Validation MAE: 1.0884\n"
     ]
    },
    {
     "name": "stderr",
     "output_type": "stream",
     "text": [
      "Training Epoch 1642: 100%|██████████| 259/259 [00:03<00:00, 66.83it/s]\n",
      "Training Epoch 1643: 100%|██████████| 259/259 [00:04<00:00, 60.37it/s]\n",
      "Training Epoch 1644: 100%|██████████| 259/259 [00:04<00:00, 63.84it/s]\n",
      "Training Epoch 1645: 100%|██████████| 259/259 [00:03<00:00, 65.85it/s]\n",
      "Training Epoch 1646: 100%|██████████| 259/259 [00:03<00:00, 65.98it/s]\n",
      "Training Epoch 1647: 100%|██████████| 259/259 [00:04<00:00, 58.01it/s]\n",
      "Training Epoch 1648: 100%|██████████| 259/259 [00:04<00:00, 62.51it/s]\n",
      "Training Epoch 1649: 100%|██████████| 259/259 [00:04<00:00, 64.72it/s]\n",
      "Training Epoch 1650: 100%|██████████| 259/259 [00:04<00:00, 64.62it/s]\n",
      "Training Epoch 1651: 100%|██████████| 259/259 [00:04<00:00, 63.19it/s]\n"
     ]
    },
    {
     "name": "stdout",
     "output_type": "stream",
     "text": [
      "Epoch 1650 - Train Loss: 0.1343, Train MSE: 0.1344, Train MAE: 0.2712\n",
      "Epoch 1650 - Validation Loss: 1.9092, Validation MSE: 1.9057, Validation MAE: 1.0723\n"
     ]
    },
    {
     "name": "stderr",
     "output_type": "stream",
     "text": [
      "Training Epoch 1652: 100%|██████████| 259/259 [00:04<00:00, 63.22it/s]\n",
      "Training Epoch 1653: 100%|██████████| 259/259 [00:04<00:00, 63.40it/s]\n",
      "Training Epoch 1654: 100%|██████████| 259/259 [00:04<00:00, 57.92it/s]\n",
      "Training Epoch 1655: 100%|██████████| 259/259 [00:04<00:00, 62.54it/s]\n",
      "Training Epoch 1656: 100%|██████████| 259/259 [00:03<00:00, 64.90it/s]\n",
      "Training Epoch 1657: 100%|██████████| 259/259 [00:03<00:00, 65.01it/s]\n",
      "Training Epoch 1658: 100%|██████████| 259/259 [00:04<00:00, 63.53it/s]\n",
      "Training Epoch 1659: 100%|██████████| 259/259 [00:03<00:00, 65.25it/s]\n",
      "Training Epoch 1660: 100%|██████████| 259/259 [00:04<00:00, 58.31it/s]\n",
      "Training Epoch 1661: 100%|██████████| 259/259 [00:04<00:00, 56.65it/s]\n"
     ]
    },
    {
     "name": "stdout",
     "output_type": "stream",
     "text": [
      "Epoch 1660 - Train Loss: 0.1324, Train MSE: 0.1325, Train MAE: 0.2686\n",
      "Epoch 1660 - Validation Loss: 1.9314, Validation MSE: 1.9270, Validation MAE: 1.0828\n"
     ]
    },
    {
     "name": "stderr",
     "output_type": "stream",
     "text": [
      "Training Epoch 1662: 100%|██████████| 259/259 [00:04<00:00, 62.62it/s]\n",
      "Training Epoch 1663: 100%|██████████| 259/259 [00:04<00:00, 62.50it/s]\n",
      "Training Epoch 1664: 100%|██████████| 259/259 [00:03<00:00, 65.03it/s]\n",
      "Training Epoch 1665: 100%|██████████| 259/259 [00:04<00:00, 63.03it/s]\n",
      "Training Epoch 1666: 100%|██████████| 259/259 [00:04<00:00, 54.65it/s]\n",
      "Training Epoch 1667: 100%|██████████| 259/259 [00:04<00:00, 57.05it/s]\n",
      "Training Epoch 1668: 100%|██████████| 259/259 [00:04<00:00, 61.94it/s]\n",
      "Training Epoch 1669: 100%|██████████| 259/259 [00:04<00:00, 63.21it/s]\n",
      "Training Epoch 1670: 100%|██████████| 259/259 [00:04<00:00, 64.18it/s]\n",
      "Training Epoch 1671: 100%|██████████| 259/259 [00:04<00:00, 63.64it/s]\n"
     ]
    },
    {
     "name": "stdout",
     "output_type": "stream",
     "text": [
      "Epoch 1670 - Train Loss: 0.1374, Train MSE: 0.1375, Train MAE: 0.2718\n",
      "Epoch 1670 - Validation Loss: 1.9390, Validation MSE: 1.9351, Validation MAE: 1.0876\n"
     ]
    },
    {
     "name": "stderr",
     "output_type": "stream",
     "text": [
      "Training Epoch 1672: 100%|██████████| 259/259 [00:04<00:00, 58.95it/s]\n",
      "Training Epoch 1673: 100%|██████████| 259/259 [00:04<00:00, 64.12it/s]\n",
      "Training Epoch 1674: 100%|██████████| 259/259 [00:04<00:00, 63.20it/s]\n",
      "Training Epoch 1675: 100%|██████████| 259/259 [00:03<00:00, 65.01it/s]\n",
      "Training Epoch 1676: 100%|██████████| 259/259 [00:04<00:00, 61.60it/s]\n",
      "Training Epoch 1677: 100%|██████████| 259/259 [00:04<00:00, 64.10it/s]\n",
      "Training Epoch 1678: 100%|██████████| 259/259 [00:04<00:00, 63.28it/s]\n",
      "Training Epoch 1679: 100%|██████████| 259/259 [00:04<00:00, 64.47it/s]\n",
      "Training Epoch 1680: 100%|██████████| 259/259 [00:04<00:00, 59.05it/s]\n",
      "Training Epoch 1681: 100%|██████████| 259/259 [00:04<00:00, 62.01it/s]\n"
     ]
    },
    {
     "name": "stdout",
     "output_type": "stream",
     "text": [
      "Epoch 1680 - Train Loss: 0.1361, Train MSE: 0.1358, Train MAE: 0.2711\n",
      "Epoch 1680 - Validation Loss: 1.9426, Validation MSE: 1.9374, Validation MAE: 1.0930\n"
     ]
    },
    {
     "name": "stderr",
     "output_type": "stream",
     "text": [
      "Training Epoch 1682: 100%|██████████| 259/259 [00:04<00:00, 60.38it/s]\n",
      "Training Epoch 1683: 100%|██████████| 259/259 [00:04<00:00, 60.41it/s]\n",
      "Training Epoch 1684: 100%|██████████| 259/259 [00:04<00:00, 58.76it/s]\n",
      "Training Epoch 1685: 100%|██████████| 259/259 [00:04<00:00, 64.38it/s]\n",
      "Training Epoch 1686: 100%|██████████| 259/259 [00:04<00:00, 63.33it/s]\n",
      "Training Epoch 1687: 100%|██████████| 259/259 [00:04<00:00, 60.07it/s]\n",
      "Training Epoch 1688: 100%|██████████| 259/259 [00:04<00:00, 63.50it/s]\n",
      "Training Epoch 1689: 100%|██████████| 259/259 [00:04<00:00, 61.11it/s]\n",
      "Training Epoch 1690: 100%|██████████| 259/259 [00:04<00:00, 57.54it/s]\n",
      "Training Epoch 1691: 100%|██████████| 259/259 [00:04<00:00, 62.00it/s]\n"
     ]
    },
    {
     "name": "stdout",
     "output_type": "stream",
     "text": [
      "Epoch 1690 - Train Loss: 0.1345, Train MSE: 0.1345, Train MAE: 0.2677\n",
      "Epoch 1690 - Validation Loss: 1.9359, Validation MSE: 1.9322, Validation MAE: 1.0856\n"
     ]
    },
    {
     "name": "stderr",
     "output_type": "stream",
     "text": [
      "Training Epoch 1692: 100%|██████████| 259/259 [00:03<00:00, 64.76it/s]\n",
      "Training Epoch 1693: 100%|██████████| 259/259 [00:04<00:00, 57.84it/s]\n",
      "Training Epoch 1694: 100%|██████████| 259/259 [00:04<00:00, 58.38it/s]\n",
      "Training Epoch 1695: 100%|██████████| 259/259 [00:04<00:00, 60.51it/s]\n",
      "Training Epoch 1696: 100%|██████████| 259/259 [00:04<00:00, 59.02it/s]\n",
      "Training Epoch 1697: 100%|██████████| 259/259 [00:04<00:00, 60.41it/s]\n",
      "Training Epoch 1698: 100%|██████████| 259/259 [00:04<00:00, 64.15it/s]\n",
      "Training Epoch 1699: 100%|██████████| 259/259 [00:04<00:00, 62.80it/s]\n",
      "Training Epoch 1700: 100%|██████████| 259/259 [00:03<00:00, 70.72it/s]\n",
      "Training Epoch 1701: 100%|██████████| 259/259 [00:03<00:00, 68.98it/s]\n"
     ]
    },
    {
     "name": "stdout",
     "output_type": "stream",
     "text": [
      "Epoch 1700 - Train Loss: 0.1264, Train MSE: 0.1265, Train MAE: 0.2626\n",
      "Epoch 1700 - Validation Loss: 1.9601, Validation MSE: 1.9578, Validation MAE: 1.0922\n"
     ]
    },
    {
     "name": "stderr",
     "output_type": "stream",
     "text": [
      "Training Epoch 1702: 100%|██████████| 259/259 [00:03<00:00, 71.11it/s]\n",
      "Training Epoch 1703: 100%|██████████| 259/259 [00:03<00:00, 72.95it/s]\n",
      "Training Epoch 1704: 100%|██████████| 259/259 [00:03<00:00, 72.69it/s]\n",
      "Training Epoch 1705: 100%|██████████| 259/259 [00:03<00:00, 70.27it/s]\n",
      "Training Epoch 1706: 100%|██████████| 259/259 [00:03<00:00, 74.19it/s]\n",
      "Training Epoch 1707: 100%|██████████| 259/259 [00:03<00:00, 72.94it/s]\n",
      "Training Epoch 1708: 100%|██████████| 259/259 [00:03<00:00, 66.72it/s]\n",
      "Training Epoch 1709: 100%|██████████| 259/259 [00:03<00:00, 67.45it/s]\n",
      "Training Epoch 1710: 100%|██████████| 259/259 [00:03<00:00, 69.33it/s]\n",
      "Training Epoch 1711: 100%|██████████| 259/259 [00:03<00:00, 70.33it/s]\n"
     ]
    },
    {
     "name": "stdout",
     "output_type": "stream",
     "text": [
      "Epoch 1710 - Train Loss: 0.1329, Train MSE: 0.1324, Train MAE: 0.2659\n",
      "Epoch 1710 - Validation Loss: 1.9585, Validation MSE: 1.9549, Validation MAE: 1.0945\n"
     ]
    },
    {
     "name": "stderr",
     "output_type": "stream",
     "text": [
      "Training Epoch 1712: 100%|██████████| 259/259 [00:03<00:00, 71.33it/s]\n",
      "Training Epoch 1713: 100%|██████████| 259/259 [00:03<00:00, 71.61it/s]\n",
      "Training Epoch 1714: 100%|██████████| 259/259 [00:03<00:00, 72.21it/s]\n",
      "Training Epoch 1715: 100%|██████████| 259/259 [00:03<00:00, 72.71it/s]\n",
      "Training Epoch 1716: 100%|██████████| 259/259 [00:03<00:00, 69.61it/s]\n",
      "Training Epoch 1717: 100%|██████████| 259/259 [00:03<00:00, 71.85it/s]\n",
      "Training Epoch 1718: 100%|██████████| 259/259 [00:03<00:00, 69.75it/s]\n",
      "Training Epoch 1719: 100%|██████████| 259/259 [00:03<00:00, 73.07it/s]\n",
      "Training Epoch 1720: 100%|██████████| 259/259 [00:03<00:00, 72.78it/s]\n",
      "Training Epoch 1721: 100%|██████████| 259/259 [00:03<00:00, 71.50it/s]\n"
     ]
    },
    {
     "name": "stdout",
     "output_type": "stream",
     "text": [
      "Epoch 1720 - Train Loss: 0.1329, Train MSE: 0.1330, Train MAE: 0.2649\n",
      "Epoch 1720 - Validation Loss: 1.9634, Validation MSE: 1.9609, Validation MAE: 1.0999\n"
     ]
    },
    {
     "name": "stderr",
     "output_type": "stream",
     "text": [
      "Training Epoch 1722: 100%|██████████| 259/259 [00:04<00:00, 64.29it/s]\n",
      "Training Epoch 1723: 100%|██████████| 259/259 [00:03<00:00, 67.60it/s]\n",
      "Training Epoch 1724: 100%|██████████| 259/259 [00:03<00:00, 68.15it/s]\n",
      "Training Epoch 1725: 100%|██████████| 259/259 [00:03<00:00, 68.76it/s]\n",
      "Training Epoch 1726: 100%|██████████| 259/259 [00:03<00:00, 69.35it/s]\n",
      "Training Epoch 1727: 100%|██████████| 259/259 [00:03<00:00, 72.93it/s]\n",
      "Training Epoch 1728: 100%|██████████| 259/259 [00:03<00:00, 71.51it/s]\n",
      "Training Epoch 1729: 100%|██████████| 259/259 [00:03<00:00, 71.65it/s]\n",
      "Training Epoch 1730: 100%|██████████| 259/259 [00:03<00:00, 69.03it/s]\n",
      "Training Epoch 1731: 100%|██████████| 259/259 [00:03<00:00, 72.56it/s]\n"
     ]
    },
    {
     "name": "stdout",
     "output_type": "stream",
     "text": [
      "Epoch 1730 - Train Loss: 0.1339, Train MSE: 0.1339, Train MAE: 0.2669\n",
      "Epoch 1730 - Validation Loss: 1.9656, Validation MSE: 1.9614, Validation MAE: 1.0912\n"
     ]
    },
    {
     "name": "stderr",
     "output_type": "stream",
     "text": [
      "Training Epoch 1732: 100%|██████████| 259/259 [00:03<00:00, 69.32it/s]\n",
      "Training Epoch 1733: 100%|██████████| 259/259 [00:03<00:00, 72.64it/s]\n",
      "Training Epoch 1734: 100%|██████████| 259/259 [00:03<00:00, 70.15it/s]\n",
      "Training Epoch 1735: 100%|██████████| 259/259 [00:03<00:00, 72.08it/s]\n",
      "Training Epoch 1736: 100%|██████████| 259/259 [00:03<00:00, 73.00it/s]\n",
      "Training Epoch 1737: 100%|██████████| 259/259 [00:03<00:00, 72.79it/s]\n",
      "Training Epoch 1738: 100%|██████████| 259/259 [00:03<00:00, 70.05it/s]\n",
      "Training Epoch 1739: 100%|██████████| 259/259 [00:03<00:00, 67.80it/s]\n",
      "Training Epoch 1740: 100%|██████████| 259/259 [00:03<00:00, 72.36it/s]\n",
      "Training Epoch 1741: 100%|██████████| 259/259 [00:03<00:00, 72.09it/s]\n"
     ]
    },
    {
     "name": "stdout",
     "output_type": "stream",
     "text": [
      "Epoch 1740 - Train Loss: 0.1305, Train MSE: 0.1306, Train MAE: 0.2660\n",
      "Epoch 1740 - Validation Loss: 1.9362, Validation MSE: 1.9338, Validation MAE: 1.0827\n"
     ]
    },
    {
     "name": "stderr",
     "output_type": "stream",
     "text": [
      "Training Epoch 1742: 100%|██████████| 259/259 [00:03<00:00, 69.76it/s]\n",
      "Training Epoch 1743: 100%|██████████| 259/259 [00:03<00:00, 71.31it/s]\n",
      "Training Epoch 1744: 100%|██████████| 259/259 [00:03<00:00, 67.94it/s]\n",
      "Training Epoch 1745: 100%|██████████| 259/259 [00:03<00:00, 72.57it/s]\n",
      "Training Epoch 1746: 100%|██████████| 259/259 [00:03<00:00, 71.98it/s]\n",
      "Training Epoch 1747: 100%|██████████| 259/259 [00:03<00:00, 70.83it/s]\n",
      "Training Epoch 1748: 100%|██████████| 259/259 [00:03<00:00, 72.36it/s]\n",
      "Training Epoch 1749: 100%|██████████| 259/259 [00:03<00:00, 72.72it/s]\n",
      "Training Epoch 1750: 100%|██████████| 259/259 [00:03<00:00, 72.63it/s]\n",
      "Training Epoch 1751: 100%|██████████| 259/259 [00:03<00:00, 69.57it/s]\n"
     ]
    },
    {
     "name": "stdout",
     "output_type": "stream",
     "text": [
      "Epoch 1750 - Train Loss: 0.1301, Train MSE: 0.1301, Train MAE: 0.2646\n",
      "Epoch 1750 - Validation Loss: 1.9506, Validation MSE: 1.9457, Validation MAE: 1.0887\n"
     ]
    },
    {
     "name": "stderr",
     "output_type": "stream",
     "text": [
      "Training Epoch 1752: 100%|██████████| 259/259 [00:03<00:00, 71.24it/s]\n",
      "Training Epoch 1753: 100%|██████████| 259/259 [00:03<00:00, 72.28it/s]\n",
      "Training Epoch 1754: 100%|██████████| 259/259 [00:03<00:00, 67.78it/s]\n",
      "Training Epoch 1755: 100%|██████████| 259/259 [00:03<00:00, 68.84it/s]\n",
      "Training Epoch 1756: 100%|██████████| 259/259 [00:03<00:00, 67.96it/s]\n",
      "Training Epoch 1757: 100%|██████████| 259/259 [00:03<00:00, 72.61it/s]\n",
      "Training Epoch 1758: 100%|██████████| 259/259 [00:03<00:00, 70.19it/s]\n",
      "Training Epoch 1759: 100%|██████████| 259/259 [00:03<00:00, 70.06it/s]\n",
      "Training Epoch 1760: 100%|██████████| 259/259 [00:03<00:00, 72.74it/s]\n",
      "Training Epoch 1761: 100%|██████████| 259/259 [00:03<00:00, 72.79it/s]\n"
     ]
    },
    {
     "name": "stdout",
     "output_type": "stream",
     "text": [
      "Epoch 1760 - Train Loss: 0.1288, Train MSE: 0.1289, Train MAE: 0.2653\n",
      "Epoch 1760 - Validation Loss: 1.9312, Validation MSE: 1.9286, Validation MAE: 1.0848\n"
     ]
    },
    {
     "name": "stderr",
     "output_type": "stream",
     "text": [
      "Training Epoch 1762: 100%|██████████| 259/259 [00:03<00:00, 70.95it/s]\n",
      "Training Epoch 1763: 100%|██████████| 259/259 [00:03<00:00, 67.90it/s]\n",
      "Training Epoch 1764: 100%|██████████| 259/259 [00:03<00:00, 71.94it/s]\n",
      "Training Epoch 1765: 100%|██████████| 259/259 [00:03<00:00, 74.25it/s]\n",
      "Training Epoch 1766: 100%|██████████| 259/259 [00:03<00:00, 72.49it/s]\n",
      "Training Epoch 1767: 100%|██████████| 259/259 [00:03<00:00, 66.60it/s]\n",
      "Training Epoch 1768: 100%|██████████| 259/259 [00:03<00:00, 71.33it/s]\n",
      "Training Epoch 1769: 100%|██████████| 259/259 [00:03<00:00, 69.99it/s]\n",
      "Training Epoch 1770: 100%|██████████| 259/259 [00:03<00:00, 65.85it/s]\n",
      "Training Epoch 1771: 100%|██████████| 259/259 [00:03<00:00, 66.76it/s]\n"
     ]
    },
    {
     "name": "stdout",
     "output_type": "stream",
     "text": [
      "Epoch 1770 - Train Loss: 0.1270, Train MSE: 0.1271, Train MAE: 0.2638\n",
      "Epoch 1770 - Validation Loss: 1.9120, Validation MSE: 1.9080, Validation MAE: 1.0781\n"
     ]
    },
    {
     "name": "stderr",
     "output_type": "stream",
     "text": [
      "Training Epoch 1772: 100%|██████████| 259/259 [00:03<00:00, 71.29it/s]\n",
      "Training Epoch 1773: 100%|██████████| 259/259 [00:03<00:00, 71.90it/s]\n",
      "Training Epoch 1774: 100%|██████████| 259/259 [00:03<00:00, 72.95it/s]\n",
      "Training Epoch 1775: 100%|██████████| 259/259 [00:03<00:00, 66.10it/s]\n",
      "Training Epoch 1776: 100%|██████████| 259/259 [00:03<00:00, 66.66it/s]\n",
      "Training Epoch 1777: 100%|██████████| 259/259 [00:03<00:00, 67.02it/s]\n",
      "Training Epoch 1778: 100%|██████████| 259/259 [00:04<00:00, 59.71it/s]\n",
      "Training Epoch 1779: 100%|██████████| 259/259 [00:04<00:00, 63.88it/s]\n",
      "Training Epoch 1780: 100%|██████████| 259/259 [00:03<00:00, 68.90it/s]\n",
      "Training Epoch 1781: 100%|██████████| 259/259 [00:03<00:00, 69.87it/s]\n"
     ]
    },
    {
     "name": "stdout",
     "output_type": "stream",
     "text": [
      "Epoch 1780 - Train Loss: 0.1339, Train MSE: 0.1339, Train MAE: 0.2686\n",
      "Epoch 1780 - Validation Loss: 1.9082, Validation MSE: 1.9045, Validation MAE: 1.0836\n"
     ]
    },
    {
     "name": "stderr",
     "output_type": "stream",
     "text": [
      "Training Epoch 1782: 100%|██████████| 259/259 [00:03<00:00, 72.83it/s]\n",
      "Training Epoch 1783: 100%|██████████| 259/259 [00:03<00:00, 66.54it/s]\n",
      "Training Epoch 1784: 100%|██████████| 259/259 [00:03<00:00, 72.73it/s]\n",
      "Training Epoch 1785: 100%|██████████| 259/259 [00:04<00:00, 64.05it/s]\n",
      "Training Epoch 1786: 100%|██████████| 259/259 [00:03<00:00, 69.30it/s]\n",
      "Training Epoch 1787: 100%|██████████| 259/259 [00:03<00:00, 66.69it/s]\n",
      "Training Epoch 1788: 100%|██████████| 259/259 [00:03<00:00, 72.13it/s]\n",
      "Training Epoch 1789: 100%|██████████| 259/259 [00:03<00:00, 72.88it/s]\n",
      "Training Epoch 1790: 100%|██████████| 259/259 [00:03<00:00, 72.94it/s]\n",
      "Training Epoch 1791: 100%|██████████| 259/259 [00:03<00:00, 68.49it/s]\n"
     ]
    },
    {
     "name": "stdout",
     "output_type": "stream",
     "text": [
      "Epoch 1790 - Train Loss: 0.1266, Train MSE: 0.1266, Train MAE: 0.2609\n",
      "Epoch 1790 - Validation Loss: 1.9546, Validation MSE: 1.9515, Validation MAE: 1.0867\n"
     ]
    },
    {
     "name": "stderr",
     "output_type": "stream",
     "text": [
      "Training Epoch 1792: 100%|██████████| 259/259 [00:03<00:00, 70.16it/s]\n",
      "Training Epoch 1793: 100%|██████████| 259/259 [00:03<00:00, 71.60it/s]\n",
      "Training Epoch 1794: 100%|██████████| 259/259 [00:03<00:00, 72.01it/s]\n",
      "Training Epoch 1795: 100%|██████████| 259/259 [00:03<00:00, 70.66it/s]\n",
      "Training Epoch 1796: 100%|██████████| 259/259 [00:03<00:00, 71.93it/s]\n",
      "Training Epoch 1797: 100%|██████████| 259/259 [00:03<00:00, 72.46it/s]\n",
      "Training Epoch 1798: 100%|██████████| 259/259 [00:03<00:00, 70.07it/s]\n",
      "Training Epoch 1799: 100%|██████████| 259/259 [00:03<00:00, 69.53it/s]\n",
      "Training Epoch 1800: 100%|██████████| 259/259 [00:04<00:00, 62.18it/s]\n",
      "Training Epoch 1801: 100%|██████████| 259/259 [00:03<00:00, 69.54it/s]\n"
     ]
    },
    {
     "name": "stdout",
     "output_type": "stream",
     "text": [
      "Epoch 1800 - Train Loss: 0.1325, Train MSE: 0.1323, Train MAE: 0.2639\n",
      "Epoch 1800 - Validation Loss: 2.0020, Validation MSE: 1.9996, Validation MAE: 1.1010\n"
     ]
    },
    {
     "name": "stderr",
     "output_type": "stream",
     "text": [
      "Training Epoch 1802: 100%|██████████| 259/259 [00:03<00:00, 68.23it/s]\n",
      "Training Epoch 1803: 100%|██████████| 259/259 [00:03<00:00, 69.28it/s]\n",
      "Training Epoch 1804: 100%|██████████| 259/259 [00:03<00:00, 70.46it/s]\n",
      "Training Epoch 1805: 100%|██████████| 259/259 [00:03<00:00, 72.60it/s]\n",
      "Training Epoch 1806: 100%|██████████| 259/259 [00:03<00:00, 71.21it/s]\n",
      "Training Epoch 1807: 100%|██████████| 259/259 [00:03<00:00, 71.97it/s]\n",
      "Training Epoch 1808: 100%|██████████| 259/259 [00:03<00:00, 67.67it/s]\n",
      "Training Epoch 1809: 100%|██████████| 259/259 [00:03<00:00, 71.11it/s]\n",
      "Training Epoch 1810: 100%|██████████| 259/259 [00:03<00:00, 71.04it/s]\n",
      "Training Epoch 1811: 100%|██████████| 259/259 [00:03<00:00, 71.63it/s]\n"
     ]
    },
    {
     "name": "stdout",
     "output_type": "stream",
     "text": [
      "Epoch 1810 - Train Loss: 0.1271, Train MSE: 0.1270, Train MAE: 0.2609\n",
      "Epoch 1810 - Validation Loss: 1.9332, Validation MSE: 1.9291, Validation MAE: 1.0905\n"
     ]
    },
    {
     "name": "stderr",
     "output_type": "stream",
     "text": [
      "Training Epoch 1812: 100%|██████████| 259/259 [00:03<00:00, 69.16it/s]\n",
      "Training Epoch 1813: 100%|██████████| 259/259 [00:03<00:00, 71.07it/s]\n",
      "Training Epoch 1814: 100%|██████████| 259/259 [00:03<00:00, 72.29it/s]\n",
      "Training Epoch 1815: 100%|██████████| 259/259 [00:03<00:00, 67.19it/s]\n",
      "Training Epoch 1816: 100%|██████████| 259/259 [00:03<00:00, 66.56it/s]\n",
      "Training Epoch 1817: 100%|██████████| 259/259 [00:04<00:00, 58.28it/s]\n",
      "Training Epoch 1818: 100%|██████████| 259/259 [00:03<00:00, 66.66it/s]\n",
      "Training Epoch 1819: 100%|██████████| 259/259 [00:03<00:00, 69.04it/s]\n",
      "Training Epoch 1820: 100%|██████████| 259/259 [00:03<00:00, 68.05it/s]\n",
      "Training Epoch 1821: 100%|██████████| 259/259 [00:03<00:00, 71.29it/s]\n"
     ]
    },
    {
     "name": "stdout",
     "output_type": "stream",
     "text": [
      "Epoch 1820 - Train Loss: 0.1319, Train MSE: 0.1320, Train MAE: 0.2670\n",
      "Epoch 1820 - Validation Loss: 1.9237, Validation MSE: 1.9208, Validation MAE: 1.0873\n"
     ]
    },
    {
     "name": "stderr",
     "output_type": "stream",
     "text": [
      "Training Epoch 1822: 100%|██████████| 259/259 [00:03<00:00, 70.41it/s]\n",
      "Training Epoch 1823: 100%|██████████| 259/259 [00:03<00:00, 69.55it/s]\n",
      "Training Epoch 1824: 100%|██████████| 259/259 [00:03<00:00, 67.98it/s]\n",
      "Training Epoch 1825: 100%|██████████| 259/259 [00:03<00:00, 72.85it/s]\n",
      "Training Epoch 1826: 100%|██████████| 259/259 [00:03<00:00, 67.66it/s]\n",
      "Training Epoch 1827: 100%|██████████| 259/259 [00:03<00:00, 69.84it/s]\n",
      "Training Epoch 1828: 100%|██████████| 259/259 [00:03<00:00, 68.77it/s]\n",
      "Training Epoch 1829: 100%|██████████| 259/259 [00:03<00:00, 70.61it/s]\n",
      "Training Epoch 1830: 100%|██████████| 259/259 [00:03<00:00, 65.07it/s]\n",
      "Training Epoch 1831: 100%|██████████| 259/259 [00:03<00:00, 68.74it/s]\n"
     ]
    },
    {
     "name": "stdout",
     "output_type": "stream",
     "text": [
      "Epoch 1830 - Train Loss: 0.1294, Train MSE: 0.1294, Train MAE: 0.2639\n",
      "Epoch 1830 - Validation Loss: 1.9571, Validation MSE: 1.9541, Validation MAE: 1.0930\n"
     ]
    },
    {
     "name": "stderr",
     "output_type": "stream",
     "text": [
      "Training Epoch 1832: 100%|██████████| 259/259 [00:03<00:00, 66.26it/s]\n",
      "Training Epoch 1833: 100%|██████████| 259/259 [00:04<00:00, 64.71it/s]\n",
      "Training Epoch 1834: 100%|██████████| 259/259 [00:03<00:00, 65.91it/s]\n",
      "Training Epoch 1835: 100%|██████████| 259/259 [00:03<00:00, 69.27it/s]\n",
      "Training Epoch 1836: 100%|██████████| 259/259 [00:03<00:00, 68.68it/s]\n",
      "Training Epoch 1837: 100%|██████████| 259/259 [00:03<00:00, 70.84it/s]\n",
      "Training Epoch 1838: 100%|██████████| 259/259 [00:06<00:00, 38.79it/s]\n",
      "Training Epoch 1839: 100%|██████████| 259/259 [00:12<00:00, 20.94it/s]\n",
      "Training Epoch 1840: 100%|██████████| 259/259 [00:14<00:00, 17.80it/s]\n",
      "Training Epoch 1841: 100%|██████████| 259/259 [00:13<00:00, 19.29it/s]\n"
     ]
    },
    {
     "name": "stdout",
     "output_type": "stream",
     "text": [
      "Epoch 1840 - Train Loss: 0.1232, Train MSE: 0.1232, Train MAE: 0.2577\n",
      "Epoch 1840 - Validation Loss: 1.9462, Validation MSE: 1.9423, Validation MAE: 1.0810\n"
     ]
    },
    {
     "name": "stderr",
     "output_type": "stream",
     "text": [
      "Training Epoch 1842: 100%|██████████| 259/259 [00:13<00:00, 19.88it/s]\n",
      "Training Epoch 1843: 100%|██████████| 259/259 [00:12<00:00, 21.22it/s]\n",
      "Training Epoch 1844: 100%|██████████| 259/259 [00:11<00:00, 22.71it/s]\n",
      "Training Epoch 1845: 100%|██████████| 259/259 [00:03<00:00, 66.08it/s]\n",
      "Training Epoch 1846: 100%|██████████| 259/259 [00:04<00:00, 63.31it/s]\n",
      "Training Epoch 1847: 100%|██████████| 259/259 [00:03<00:00, 64.81it/s]\n",
      "Training Epoch 1848: 100%|██████████| 259/259 [00:03<00:00, 67.36it/s]\n",
      "Training Epoch 1849: 100%|██████████| 259/259 [00:03<00:00, 66.55it/s]\n",
      "Training Epoch 1850: 100%|██████████| 259/259 [00:03<00:00, 68.93it/s]\n",
      "Training Epoch 1851: 100%|██████████| 259/259 [00:03<00:00, 68.29it/s]\n"
     ]
    },
    {
     "name": "stdout",
     "output_type": "stream",
     "text": [
      "Epoch 1850 - Train Loss: 0.1244, Train MSE: 0.1244, Train MAE: 0.2602\n",
      "Epoch 1850 - Validation Loss: 1.9215, Validation MSE: 1.9176, Validation MAE: 1.0829\n"
     ]
    },
    {
     "name": "stderr",
     "output_type": "stream",
     "text": [
      "Training Epoch 1852: 100%|██████████| 259/259 [00:03<00:00, 67.68it/s]\n",
      "Training Epoch 1853: 100%|██████████| 259/259 [00:04<00:00, 63.82it/s]\n",
      "Training Epoch 1854: 100%|██████████| 259/259 [00:03<00:00, 67.95it/s]\n",
      "Training Epoch 1855: 100%|██████████| 259/259 [00:03<00:00, 68.27it/s]\n",
      "Training Epoch 1856: 100%|██████████| 259/259 [00:03<00:00, 66.36it/s]\n",
      "Training Epoch 1857: 100%|██████████| 259/259 [00:04<00:00, 56.38it/s]\n",
      "Training Epoch 1858: 100%|██████████| 259/259 [00:13<00:00, 18.60it/s]\n",
      "Training Epoch 1859: 100%|██████████| 259/259 [00:11<00:00, 21.84it/s]\n",
      "Training Epoch 1860: 100%|██████████| 259/259 [00:13<00:00, 19.28it/s]\n",
      "Training Epoch 1861: 100%|██████████| 259/259 [00:12<00:00, 20.96it/s]\n"
     ]
    },
    {
     "name": "stdout",
     "output_type": "stream",
     "text": [
      "Epoch 1860 - Train Loss: 0.1245, Train MSE: 0.1246, Train MAE: 0.2569\n",
      "Epoch 1860 - Validation Loss: 1.9322, Validation MSE: 1.9297, Validation MAE: 1.0846\n"
     ]
    },
    {
     "name": "stderr",
     "output_type": "stream",
     "text": [
      "Training Epoch 1862: 100%|██████████| 259/259 [00:12<00:00, 20.92it/s]\n",
      "Training Epoch 1863: 100%|██████████| 259/259 [00:13<00:00, 19.22it/s]\n",
      "Training Epoch 1864: 100%|██████████| 259/259 [00:13<00:00, 19.89it/s]\n",
      "Training Epoch 1865: 100%|██████████| 259/259 [00:12<00:00, 20.92it/s]\n",
      "Training Epoch 1866: 100%|██████████| 259/259 [00:11<00:00, 21.71it/s]\n",
      "Training Epoch 1867: 100%|██████████| 259/259 [00:10<00:00, 23.79it/s]\n",
      "Training Epoch 1868: 100%|██████████| 259/259 [00:04<00:00, 59.33it/s]\n",
      "Training Epoch 1869: 100%|██████████| 259/259 [00:04<00:00, 60.51it/s]\n",
      "Training Epoch 1870: 100%|██████████| 259/259 [00:04<00:00, 63.56it/s]\n",
      "Training Epoch 1871: 100%|██████████| 259/259 [00:03<00:00, 65.52it/s]\n"
     ]
    },
    {
     "name": "stdout",
     "output_type": "stream",
     "text": [
      "Epoch 1870 - Train Loss: 0.1263, Train MSE: 0.1264, Train MAE: 0.2622\n",
      "Epoch 1870 - Validation Loss: 1.9047, Validation MSE: 1.9017, Validation MAE: 1.0757\n"
     ]
    },
    {
     "name": "stderr",
     "output_type": "stream",
     "text": [
      "Training Epoch 1872: 100%|██████████| 259/259 [00:11<00:00, 23.53it/s]\n",
      "Training Epoch 1873: 100%|██████████| 259/259 [00:12<00:00, 20.71it/s]\n",
      "Training Epoch 1874: 100%|██████████| 259/259 [00:11<00:00, 21.59it/s]\n",
      "Training Epoch 1875: 100%|██████████| 259/259 [00:14<00:00, 18.21it/s]\n",
      "Training Epoch 1876: 100%|██████████| 259/259 [00:12<00:00, 21.08it/s]\n",
      "Training Epoch 1877: 100%|██████████| 259/259 [00:12<00:00, 21.39it/s]\n",
      "Training Epoch 1878: 100%|██████████| 259/259 [00:12<00:00, 20.19it/s]\n",
      "Training Epoch 1879: 100%|██████████| 259/259 [00:12<00:00, 20.19it/s]\n",
      "Training Epoch 1880: 100%|██████████| 259/259 [00:04<00:00, 58.80it/s]\n",
      "Training Epoch 1881: 100%|██████████| 259/259 [00:03<00:00, 64.96it/s]\n"
     ]
    },
    {
     "name": "stdout",
     "output_type": "stream",
     "text": [
      "Epoch 1880 - Train Loss: 0.1303, Train MSE: 0.1303, Train MAE: 0.2655\n",
      "Epoch 1880 - Validation Loss: 1.9215, Validation MSE: 1.9174, Validation MAE: 1.0828\n"
     ]
    },
    {
     "name": "stderr",
     "output_type": "stream",
     "text": [
      "Training Epoch 1882: 100%|██████████| 259/259 [00:04<00:00, 59.84it/s]\n",
      "Training Epoch 1883: 100%|██████████| 259/259 [00:09<00:00, 27.52it/s]\n",
      "Training Epoch 1884: 100%|██████████| 259/259 [00:12<00:00, 20.00it/s]\n",
      "Training Epoch 1885: 100%|██████████| 259/259 [00:12<00:00, 20.52it/s]\n",
      "Training Epoch 1886: 100%|██████████| 259/259 [00:13<00:00, 19.14it/s]\n",
      "Training Epoch 1887: 100%|██████████| 259/259 [00:12<00:00, 20.70it/s]\n",
      "Training Epoch 1888: 100%|██████████| 259/259 [00:12<00:00, 21.37it/s]\n",
      "Training Epoch 1889: 100%|██████████| 259/259 [00:03<00:00, 74.96it/s] \n",
      "Training Epoch 1890: 100%|██████████| 259/259 [00:05<00:00, 44.01it/s] \n",
      "Training Epoch 1891: 100%|██████████| 259/259 [00:12<00:00, 20.08it/s]\n"
     ]
    },
    {
     "name": "stdout",
     "output_type": "stream",
     "text": [
      "Epoch 1890 - Train Loss: 0.1220, Train MSE: 0.1220, Train MAE: 0.2553\n",
      "Epoch 1890 - Validation Loss: 1.9377, Validation MSE: 1.9357, Validation MAE: 1.0828\n"
     ]
    },
    {
     "name": "stderr",
     "output_type": "stream",
     "text": [
      "Training Epoch 1892: 100%|██████████| 259/259 [00:13<00:00, 19.32it/s]\n",
      "Training Epoch 1893: 100%|██████████| 259/259 [00:12<00:00, 21.15it/s]\n",
      "Training Epoch 1894: 100%|██████████| 259/259 [00:12<00:00, 20.19it/s]\n",
      "Training Epoch 1895: 100%|██████████| 259/259 [00:12<00:00, 21.30it/s]\n",
      "Training Epoch 1896: 100%|██████████| 259/259 [00:13<00:00, 19.83it/s]\n",
      "Training Epoch 1897: 100%|██████████| 259/259 [00:12<00:00, 20.32it/s]\n",
      "Training Epoch 1898: 100%|██████████| 259/259 [00:12<00:00, 20.28it/s]\n",
      "Training Epoch 1899: 100%|██████████| 259/259 [00:12<00:00, 19.99it/s]\n",
      "Training Epoch 1900: 100%|██████████| 259/259 [00:12<00:00, 20.15it/s]\n",
      "Training Epoch 1901: 100%|██████████| 259/259 [00:12<00:00, 20.54it/s]\n"
     ]
    },
    {
     "name": "stdout",
     "output_type": "stream",
     "text": [
      "Epoch 1900 - Train Loss: 0.1251, Train MSE: 0.1253, Train MAE: 0.2597\n",
      "Epoch 1900 - Validation Loss: 1.9126, Validation MSE: 1.9093, Validation MAE: 1.0775\n"
     ]
    },
    {
     "name": "stderr",
     "output_type": "stream",
     "text": [
      "Training Epoch 1902: 100%|██████████| 259/259 [00:13<00:00, 19.46it/s]\n",
      "Training Epoch 1903: 100%|██████████| 259/259 [00:12<00:00, 21.00it/s]\n",
      "Training Epoch 1904: 100%|██████████| 259/259 [00:12<00:00, 21.46it/s]\n",
      "Training Epoch 1905: 100%|██████████| 259/259 [00:13<00:00, 19.56it/s]\n",
      "Training Epoch 1906: 100%|██████████| 259/259 [00:12<00:00, 21.06it/s]\n",
      "Training Epoch 1907: 100%|██████████| 259/259 [00:05<00:00, 44.60it/s] \n",
      "Training Epoch 1908: 100%|██████████| 259/259 [00:02<00:00, 86.70it/s] \n",
      "Training Epoch 1909: 100%|██████████| 259/259 [00:06<00:00, 38.98it/s]\n",
      "Training Epoch 1910: 100%|██████████| 259/259 [00:12<00:00, 20.85it/s]\n",
      "Training Epoch 1911: 100%|██████████| 259/259 [00:14<00:00, 18.44it/s]\n"
     ]
    },
    {
     "name": "stdout",
     "output_type": "stream",
     "text": [
      "Epoch 1910 - Train Loss: 0.1247, Train MSE: 0.1248, Train MAE: 0.2557\n",
      "Epoch 1910 - Validation Loss: 1.8980, Validation MSE: 1.8949, Validation MAE: 1.0719\n"
     ]
    },
    {
     "name": "stderr",
     "output_type": "stream",
     "text": [
      "Training Epoch 1912: 100%|██████████| 259/259 [00:13<00:00, 18.82it/s]\n",
      "Training Epoch 1913: 100%|██████████| 259/259 [00:13<00:00, 19.26it/s]\n",
      "Training Epoch 1914: 100%|██████████| 259/259 [00:12<00:00, 20.22it/s]\n",
      "Training Epoch 1915: 100%|██████████| 259/259 [00:13<00:00, 18.91it/s]\n",
      "Training Epoch 1916: 100%|██████████| 259/259 [00:12<00:00, 20.04it/s]\n",
      "Training Epoch 1917: 100%|██████████| 259/259 [00:11<00:00, 22.10it/s]\n",
      "Training Epoch 1918: 100%|██████████| 259/259 [00:12<00:00, 20.85it/s]\n",
      "Training Epoch 1919: 100%|██████████| 259/259 [00:12<00:00, 20.32it/s]\n",
      "Training Epoch 1920: 100%|██████████| 259/259 [00:13<00:00, 19.24it/s]\n",
      "Training Epoch 1921: 100%|██████████| 259/259 [00:12<00:00, 20.19it/s]\n"
     ]
    },
    {
     "name": "stdout",
     "output_type": "stream",
     "text": [
      "Epoch 1920 - Train Loss: 0.1194, Train MSE: 0.1195, Train MAE: 0.2554\n",
      "Epoch 1920 - Validation Loss: 1.9284, Validation MSE: 1.9249, Validation MAE: 1.0905\n"
     ]
    },
    {
     "name": "stderr",
     "output_type": "stream",
     "text": [
      "Training Epoch 1922: 100%|██████████| 259/259 [00:13<00:00, 19.53it/s]\n",
      "Training Epoch 1923: 100%|██████████| 259/259 [00:13<00:00, 19.49it/s]\n",
      "Training Epoch 1924: 100%|██████████| 259/259 [00:11<00:00, 23.30it/s]\n",
      "Training Epoch 1925: 100%|██████████| 259/259 [00:05<00:00, 45.33it/s] \n",
      "Training Epoch 1926: 100%|██████████| 259/259 [00:10<00:00, 25.01it/s]\n",
      "Training Epoch 1927: 100%|██████████| 259/259 [00:12<00:00, 20.47it/s]\n",
      "Training Epoch 1928: 100%|██████████| 259/259 [00:12<00:00, 20.48it/s]\n",
      "Training Epoch 1929: 100%|██████████| 259/259 [00:13<00:00, 19.57it/s]\n",
      "Training Epoch 1930: 100%|██████████| 259/259 [00:12<00:00, 20.16it/s]\n",
      "Training Epoch 1931: 100%|██████████| 259/259 [00:13<00:00, 19.55it/s]\n"
     ]
    },
    {
     "name": "stdout",
     "output_type": "stream",
     "text": [
      "Epoch 1930 - Train Loss: 0.1270, Train MSE: 0.1271, Train MAE: 0.2599\n",
      "Epoch 1930 - Validation Loss: 1.9454, Validation MSE: 1.9417, Validation MAE: 1.0922\n"
     ]
    },
    {
     "name": "stderr",
     "output_type": "stream",
     "text": [
      "Training Epoch 1932: 100%|██████████| 259/259 [00:12<00:00, 20.51it/s]\n",
      "Training Epoch 1933: 100%|██████████| 259/259 [00:12<00:00, 20.55it/s]\n",
      "Training Epoch 1934: 100%|██████████| 259/259 [00:06<00:00, 38.30it/s]\n",
      "Training Epoch 1935: 100%|██████████| 259/259 [00:09<00:00, 28.65it/s]\n",
      "Training Epoch 1936: 100%|██████████| 259/259 [00:06<00:00, 41.94it/s]\n",
      "Training Epoch 1937: 100%|██████████| 259/259 [00:05<00:00, 47.68it/s]\n",
      "Training Epoch 1938: 100%|██████████| 259/259 [00:05<00:00, 46.74it/s]\n",
      "Training Epoch 1939: 100%|██████████| 259/259 [00:05<00:00, 44.11it/s]\n",
      "Training Epoch 1940: 100%|██████████| 259/259 [00:06<00:00, 38.66it/s]\n",
      "Training Epoch 1941: 100%|██████████| 259/259 [00:06<00:00, 40.41it/s]\n"
     ]
    },
    {
     "name": "stdout",
     "output_type": "stream",
     "text": [
      "Epoch 1940 - Train Loss: 0.1221, Train MSE: 0.1221, Train MAE: 0.2569\n",
      "Epoch 1940 - Validation Loss: 1.8874, Validation MSE: 1.8836, Validation MAE: 1.0718\n"
     ]
    },
    {
     "name": "stderr",
     "output_type": "stream",
     "text": [
      "Training Epoch 1942: 100%|██████████| 259/259 [00:06<00:00, 38.20it/s]\n",
      "Training Epoch 1943: 100%|██████████| 259/259 [00:07<00:00, 35.57it/s]\n",
      "Training Epoch 1944: 100%|██████████| 259/259 [00:06<00:00, 41.95it/s]\n",
      "Training Epoch 1945: 100%|██████████| 259/259 [00:05<00:00, 48.38it/s]\n",
      "Training Epoch 1946: 100%|██████████| 259/259 [00:05<00:00, 46.36it/s]\n",
      "Training Epoch 1947: 100%|██████████| 259/259 [00:05<00:00, 48.21it/s]\n",
      "Training Epoch 1948: 100%|██████████| 259/259 [00:05<00:00, 45.60it/s]\n",
      "Training Epoch 1949: 100%|██████████| 259/259 [00:05<00:00, 43.97it/s]\n",
      "Training Epoch 1950: 100%|██████████| 259/259 [00:05<00:00, 44.29it/s]\n",
      "Training Epoch 1951: 100%|██████████| 259/259 [00:07<00:00, 33.05it/s]\n"
     ]
    },
    {
     "name": "stdout",
     "output_type": "stream",
     "text": [
      "Epoch 1950 - Train Loss: 0.1234, Train MSE: 0.1235, Train MAE: 0.2565\n",
      "Epoch 1950 - Validation Loss: 1.9059, Validation MSE: 1.9027, Validation MAE: 1.0809\n"
     ]
    },
    {
     "name": "stderr",
     "output_type": "stream",
     "text": [
      "Training Epoch 1952: 100%|██████████| 259/259 [00:06<00:00, 39.63it/s]\n",
      "Training Epoch 1953: 100%|██████████| 259/259 [00:06<00:00, 40.75it/s]\n",
      "Training Epoch 1954: 100%|██████████| 259/259 [00:06<00:00, 41.16it/s]\n",
      "Training Epoch 1955: 100%|██████████| 259/259 [00:05<00:00, 44.00it/s]\n",
      "Training Epoch 1956: 100%|██████████| 259/259 [00:05<00:00, 48.10it/s]\n",
      "Training Epoch 1957: 100%|██████████| 259/259 [00:05<00:00, 45.55it/s]\n",
      "Training Epoch 1958: 100%|██████████| 259/259 [00:05<00:00, 44.06it/s]\n",
      "Training Epoch 1959: 100%|██████████| 259/259 [00:05<00:00, 46.27it/s]\n",
      "Training Epoch 1960: 100%|██████████| 259/259 [00:05<00:00, 47.04it/s]\n",
      "Training Epoch 1961: 100%|██████████| 259/259 [00:05<00:00, 44.76it/s]\n"
     ]
    },
    {
     "name": "stdout",
     "output_type": "stream",
     "text": [
      "Epoch 1960 - Train Loss: 0.1288, Train MSE: 0.1290, Train MAE: 0.2579\n",
      "Epoch 1960 - Validation Loss: 1.9139, Validation MSE: 1.9106, Validation MAE: 1.0804\n"
     ]
    },
    {
     "name": "stderr",
     "output_type": "stream",
     "text": [
      "Training Epoch 1962: 100%|██████████| 259/259 [00:05<00:00, 44.67it/s]\n",
      "Training Epoch 1963: 100%|██████████| 259/259 [00:06<00:00, 41.02it/s]\n",
      "Training Epoch 1964: 100%|██████████| 259/259 [00:06<00:00, 40.16it/s]\n",
      "Training Epoch 1965: 100%|██████████| 259/259 [00:06<00:00, 41.08it/s]\n",
      "Training Epoch 1966: 100%|██████████| 259/259 [00:05<00:00, 43.97it/s]\n",
      "Training Epoch 1967: 100%|██████████| 259/259 [00:05<00:00, 47.41it/s]\n",
      "Training Epoch 1968: 100%|██████████| 259/259 [00:05<00:00, 45.70it/s]\n",
      "Training Epoch 1969: 100%|██████████| 259/259 [00:06<00:00, 42.08it/s]\n",
      "Training Epoch 1970: 100%|██████████| 259/259 [00:05<00:00, 45.52it/s]\n",
      "Training Epoch 1971: 100%|██████████| 259/259 [00:05<00:00, 48.05it/s]\n"
     ]
    },
    {
     "name": "stdout",
     "output_type": "stream",
     "text": [
      "Epoch 1970 - Train Loss: 0.1210, Train MSE: 0.1211, Train MAE: 0.2537\n",
      "Epoch 1970 - Validation Loss: 1.9316, Validation MSE: 1.9289, Validation MAE: 1.0830\n"
     ]
    },
    {
     "name": "stderr",
     "output_type": "stream",
     "text": [
      "Training Epoch 1972: 100%|██████████| 259/259 [00:06<00:00, 42.66it/s]\n",
      "Training Epoch 1973: 100%|██████████| 259/259 [00:05<00:00, 43.57it/s]\n",
      "Training Epoch 1974: 100%|██████████| 259/259 [00:05<00:00, 43.26it/s]\n",
      "Training Epoch 1975: 100%|██████████| 259/259 [00:06<00:00, 40.90it/s]\n",
      "Training Epoch 1976: 100%|██████████| 259/259 [00:05<00:00, 45.65it/s]\n",
      "Training Epoch 1977: 100%|██████████| 259/259 [00:05<00:00, 45.88it/s]\n",
      "Training Epoch 1978: 100%|██████████| 259/259 [00:05<00:00, 48.80it/s]\n",
      "Training Epoch 1979: 100%|██████████| 259/259 [00:05<00:00, 43.93it/s]\n",
      "Training Epoch 1980: 100%|██████████| 259/259 [00:05<00:00, 45.37it/s]\n",
      "Training Epoch 1981: 100%|██████████| 259/259 [00:05<00:00, 47.44it/s]\n"
     ]
    },
    {
     "name": "stdout",
     "output_type": "stream",
     "text": [
      "Epoch 1980 - Train Loss: 0.1242, Train MSE: 0.1243, Train MAE: 0.2564\n",
      "Epoch 1980 - Validation Loss: 1.9098, Validation MSE: 1.9083, Validation MAE: 1.0838\n"
     ]
    },
    {
     "name": "stderr",
     "output_type": "stream",
     "text": [
      "Training Epoch 1982: 100%|██████████| 259/259 [00:05<00:00, 45.05it/s]\n",
      "Training Epoch 1983: 100%|██████████| 259/259 [00:05<00:00, 46.45it/s]\n",
      "Training Epoch 1984: 100%|██████████| 259/259 [00:05<00:00, 46.39it/s]\n",
      "Training Epoch 1985: 100%|██████████| 259/259 [00:05<00:00, 44.45it/s]\n",
      "Training Epoch 1986: 100%|██████████| 259/259 [00:05<00:00, 44.68it/s]\n",
      "Training Epoch 1987: 100%|██████████| 259/259 [00:05<00:00, 44.76it/s]\n",
      "Training Epoch 1988: 100%|██████████| 259/259 [00:05<00:00, 44.59it/s]\n",
      "Training Epoch 1989: 100%|██████████| 259/259 [00:05<00:00, 47.62it/s]\n",
      "Training Epoch 1990: 100%|██████████| 259/259 [00:05<00:00, 44.44it/s]\n",
      "Training Epoch 1991: 100%|██████████| 259/259 [00:05<00:00, 44.54it/s]\n"
     ]
    },
    {
     "name": "stdout",
     "output_type": "stream",
     "text": [
      "Epoch 1990 - Train Loss: 0.1228, Train MSE: 0.1229, Train MAE: 0.2556\n",
      "Epoch 1990 - Validation Loss: 1.9544, Validation MSE: 1.9509, Validation MAE: 1.0882\n"
     ]
    },
    {
     "name": "stderr",
     "output_type": "stream",
     "text": [
      "Training Epoch 1992: 100%|██████████| 259/259 [00:05<00:00, 44.23it/s]\n",
      "Training Epoch 1993: 100%|██████████| 259/259 [00:05<00:00, 43.59it/s]\n",
      "Training Epoch 1994: 100%|██████████| 259/259 [00:05<00:00, 46.82it/s]\n",
      "Training Epoch 1995: 100%|██████████| 259/259 [00:06<00:00, 42.45it/s]\n",
      "Training Epoch 1996: 100%|██████████| 259/259 [00:05<00:00, 46.03it/s]\n",
      "Training Epoch 1997: 100%|██████████| 259/259 [00:05<00:00, 43.73it/s]\n",
      "Training Epoch 1998: 100%|██████████| 259/259 [00:05<00:00, 44.36it/s]\n",
      "Training Epoch 1999: 100%|██████████| 259/259 [00:05<00:00, 45.37it/s]\n",
      "Training Epoch 2000: 100%|██████████| 259/259 [00:05<00:00, 45.49it/s]\n"
     ]
    },
    {
     "name": "stdout",
     "output_type": "stream",
     "text": [
      "Test MSE: 2.3745, Test MAE: 1.1985\n"
     ]
    }
   ],
   "source": [
    "import torch\n",
    "import torch.nn as nn\n",
    "import torch.optim as optim\n",
    "from tqdm import tqdm\n",
    "import pandas as pd\n",
    "from sklearn.metrics import r2_score, median_absolute_error, explained_variance_score\n",
    "from scipy.stats import pearsonr\n",
    "\n",
    "train_history = pd.DataFrame(columns=[ 'epoch',\n",
    "    'Train Loss', 'Train MSE', 'Train MAE', 'Train RMSE', 'Train R2', 'Train Pearson', 'Train Median_AE', 'Train Explained_VAR'\n",
    "    'Val Loss', 'Val MSE', 'Val MAE', 'Val RMSE', 'Val R2', 'Val Pearson', 'Val Median_AE', 'Val Explained_VAR'])\n",
    "# Verify feature dimensions\n",
    "for batch in train_loader:\n",
    "    mol_input_dim = batch['metabolite_features'].shape[1]  # Dynamically determine mol input dimension\n",
    "    protein_input_dim = batch['protein_features'].shape[1]  # Dynamically determine protein input dimension\n",
    "    break\n",
    "\n",
    "# Initialize model, optimizer, and loss function\n",
    "num_timesteps = 10\n",
    "model = DiffusionGenerativeModel(mol_input_dim=mol_input_dim, protein_input_dim=protein_input_dim, hidden_dim=512, num_timesteps=num_timesteps)\n",
    "model = model.to(device)\n",
    "optimizer = optim.Adam(model.parameters(), lr=0.0001)\n",
    "criterion = nn.MSELoss()\n",
    "\n",
    "# Training and Validation Loop\n",
    "for epoch in range(2000):\n",
    "    model.train()\n",
    "    total_loss = 0.0\n",
    "    val_total_loss = 0.0\n",
    "    train_predictions, train_labels = [], []\n",
    "\n",
    "    for batch in tqdm(train_loader, desc=f\"Training Epoch {epoch + 1}\"):\n",
    "        mol_features = batch['metabolite_features'].to(device)\n",
    "        protein_features = batch['protein_features'].to(device)\n",
    "        labels = batch['label'].to(device)\n",
    "\n",
    "        # Add noise to the features\n",
    "        noisy_mol_features = model.add_noise(mol_features, noise_level=0.1)\n",
    "        noisy_protein_features = model.add_noise(protein_features, noise_level=0.1)\n",
    "\n",
    "        optimizer.zero_grad()\n",
    "        outputs = model(noisy_mol_features, noisy_protein_features, torch.randint(0, num_timesteps, (mol_features.size(0),)).to(device)).squeeze()\n",
    "        loss = criterion(outputs, labels)\n",
    "        loss.backward()\n",
    "        optimizer.step()\n",
    "        total_loss += loss.item()\n",
    "\n",
    "        # Store predictions and labels for metrics\n",
    "        train_predictions.extend(outputs.detach().cpu().numpy())\n",
    "        train_labels.extend(labels.cpu().numpy())\n",
    "\n",
    "    # Calculate training metrics\n",
    "    train_mse = ((torch.tensor(train_predictions) - torch.tensor(train_labels))**2).mean().item()\n",
    "    train_mae = torch.abs(torch.tensor(train_predictions) - torch.tensor(train_labels)).mean().item()\n",
    "    train_rmse = torch.sqrt((torch.tensor(train_predictions) - torch.tensor(train_labels)) ** 2).mean().item()\n",
    "    train_r2 = r2_score(np.array(train_labels), np.array(train_predictions))\n",
    "    train_pearson_corr, _ = pearsonr(np.array(train_labels), np.array(train_predictions))\n",
    "    train_median_ae = median_absolute_error(np.array(train_labels), np.array(train_predictions))\n",
    "    train_explained_var = explained_variance_score(np.array(train_labels), np.array(train_predictions))\n",
    "\n",
    "    if epoch % 10 == 0:\n",
    "        print(f\"Epoch {epoch} - Train Loss: {total_loss / len(train_loader):.4f}, Train MSE: {train_mse:.4f}, Train MAE: {train_mae:.4f}\")\n",
    "\n",
    "    # Validation\n",
    "    model.eval()\n",
    "    val_predictions, val_labels = [], []\n",
    "    with torch.no_grad():\n",
    "        for batch in val_loader:\n",
    "            mol_features = batch['metabolite_features'].to(device)\n",
    "            protein_features = batch['protein_features'].to(device)\n",
    "            labels = batch['label'].to(device)\n",
    "\n",
    "            # Add noise to the features\n",
    "            noisy_mol_features = model.add_noise(mol_features, noise_level=0.1)\n",
    "            noisy_protein_features = model.add_noise(protein_features, noise_level=0.1)\n",
    "\n",
    "            outputs = model(noisy_mol_features, noisy_protein_features, torch.randint(0, num_timesteps, (mol_features.size(0),)).to(device)).squeeze()\n",
    "            val_predictions.extend(outputs.cpu().numpy())\n",
    "            val_labels.extend(labels.cpu().numpy())\n",
    "            val_loss = criterion(outputs, labels)\n",
    "            val_total_loss += val_loss.item()\n",
    "\n",
    "    val_mse = ((torch.tensor(val_predictions) - torch.tensor(val_labels))**2).mean().item()\n",
    "    val_mae = torch.abs(torch.tensor(val_predictions) - torch.tensor(val_labels)).mean().item()\n",
    "    val_rmse = torch.sqrt((torch.tensor(val_predictions) - torch.tensor(val_labels)) ** 2).mean().item()\n",
    "    val_r2 = r2_score(np.array(val_labels), np.array(val_predictions))\n",
    "    val_pearson_corr, _ = pearsonr(np.array(val_labels), np.array(val_predictions))\n",
    "    val_median_ae = median_absolute_error(np.array(val_labels), np.array(val_predictions))\n",
    "    val_explained_var = explained_variance_score(np.array(val_labels), np.array(val_predictions))\n",
    "\n",
    "    if epoch % 10 == 0:\n",
    "        print(f\"Epoch {epoch} - Validation Loss: {val_total_loss / len(val_loader):.4f}, Validation MSE: {val_mse:.4f}, Validation MAE: {val_mae:.4f}\")\n",
    "\n",
    "    # Save metrics to DataFrame\n",
    "    new_row = {'epoch': epoch + 1, 'Train Loss': total_loss / len(train_loader), 'Train MSE': train_mse, 'Train MAE': train_mae, 'Train RMSE': train_rmse, 'Train R2': train_r2, 'Train Pearson': train_pearson_corr, 'Train Median_AE': train_median_ae, 'Train Explained_VAR': train_explained_var, \n",
    "               'Val Loss': val_total_loss / len(val_loader), 'Val MSE': val_mse, 'Val MAE': val_mae, 'Val RMSE': val_rmse, 'Val R2': val_r2, 'Val Pearson': val_pearson_corr, 'Val Median_AE': val_median_ae, 'Val Explained_VAR': val_explained_var}\n",
    "    train_history = pd.concat([train_history, pd.DataFrame([new_row])], ignore_index=True)\n",
    "\n"
   ]
  },
  {
   "cell_type": "code",
   "execution_count": 9,
   "metadata": {},
   "outputs": [],
   "source": [
    "for batch in train_loader:\n",
    "    mol_input_dim = batch['metabolite_features'].shape[1]  # Dynamically determine mol input dimension\n",
    "    protein_input_dim = batch['protein_features'].shape[1]  # Dynamically determine protein input dimension\n",
    "    break\n",
    "# First, reinitialize the model with the same architecture\n",
    "model = DiffusionGenerativeModel(mol_input_dim=mol_input_dim, protein_input_dim=protein_input_dim,hidden_dim=512, num_timesteps=10)\n",
    "\n",
    "# Load the saved model weights\n",
    "model.load_state_dict(torch.load('/Users/pinchichen/2025S lab/AI drug project/Catpred/Ki/trained_model/cold_protein/Diffusion model_Catpred_Ki_cold_protein.pt'))\n",
    "\n",
    "# Move to device if using GPU\n",
    "model = model.to(device)\n"
   ]
  },
  {
   "cell_type": "code",
   "execution_count": 11,
   "metadata": {},
   "outputs": [
    {
     "name": "stdout",
     "output_type": "stream",
     "text": [
      "Test MSE: 2.3674, Test MAE: 1.2012\n"
     ]
    }
   ],
   "source": [
    "from sklearn.metrics import mean_squared_error, mean_absolute_error, r2_score, median_absolute_error, explained_variance_score\n",
    "from scipy.stats import pearsonr\n",
    "# Test Metrics\n",
    "model.eval()\n",
    "test_predictions, test_labels = [], []\n",
    "with torch.no_grad():\n",
    "    for batch in test_loader:\n",
    "        mol_features = batch['metabolite_features'].to(device)\n",
    "        protein_features = batch['protein_features'].to(device)\n",
    "        labels = batch['label'].to(device)\n",
    "\n",
    "        # Add noise to the features\n",
    "        noisy_mol_features = model.add_noise(mol_features, noise_level=0.1)\n",
    "        noisy_protein_features = model.add_noise(protein_features, noise_level=0.1)\n",
    "\n",
    "        outputs = model(noisy_mol_features, noisy_protein_features, torch.randint(0, 10, (mol_features.size(0),)).to(device)).squeeze()\n",
    "        test_predictions.extend(outputs.cpu().numpy())\n",
    "        test_labels.extend(labels.cpu().numpy())\n",
    "\n",
    "test_mse = ((torch.tensor(test_predictions) - torch.tensor(test_labels))**2).mean().item()\n",
    "test_mae = torch.abs(torch.tensor(test_predictions) - torch.tensor(test_labels)).mean().item()\n",
    "test_rmse = torch.sqrt((torch.tensor(test_predictions) - torch.tensor(test_labels)) ** 2).mean().item()\n",
    "test_r2 = r2_score(np.array(test_labels), np.array(test_predictions))\n",
    "test_pearson_corr, _ = pearsonr(np.array(test_labels), np.array(test_predictions))\n",
    "test_median_ae = median_absolute_error(np.array(test_labels), np.array(test_predictions))\n",
    "test_explained_var = explained_variance_score(np.array(test_labels), np.array(test_predictions))\n",
    "print(f\"Test MSE: {test_mse:.4f}, Test MAE: {test_mae:.4f}\")\n"
   ]
  },
  {
   "cell_type": "code",
   "execution_count": 12,
   "metadata": {},
   "outputs": [],
   "source": [
    "\n",
    "def evaluate_model(predictions, labels):\n",
    "    mse = mean_squared_error(labels, predictions)\n",
    "    rmse = np.sqrt(mse)\n",
    "    mae = mean_absolute_error(labels, predictions)\n",
    "    r2 = r2_score(labels, predictions)\n",
    "    pearson_corr, _ = pearsonr(labels, predictions)\n",
    "    medae = median_absolute_error(labels, predictions)\n",
    "    evs = explained_variance_score(labels, predictions)\n",
    "\n",
    "    return mse, rmse, mae, r2, pearson_corr, medae, evs"
   ]
  },
  {
   "cell_type": "code",
   "execution_count": 13,
   "metadata": {},
   "outputs": [],
   "source": [
    "model.eval()\n",
    "train_pred, train_labels = [], []\n",
    "with torch.no_grad():\n",
    "    for batch in train_loader_mols:\n",
    "        mol_features = batch['metabolite_features'].to(device)\n",
    "        protein_features = batch['protein_features'].to(device)\n",
    "        labels = batch['label'].to(device)\n",
    "\n",
    "        noisy_mol_features = model.add_noise(mol_features, noise_level=0.1)\n",
    "        noisy_protein_features = model.add_noise(protein_features, noise_level=0.1)\n",
    "\n",
    "        outputs = model(noisy_mol_features, noisy_protein_features, torch.randint(0, 10, (mol_features.size(0),)).to(device)).squeeze()\n",
    "        train_pred.extend(outputs.cpu().numpy())\n",
    "        train_labels.extend(labels.cpu().numpy())\n",
    "\n",
    "train_mse, train_rmse, train_mae, train_r2, train_pearson_corr, train_median_ae, train_explained_var = evaluate_model(train_pred, train_labels)"
   ]
  },
  {
   "cell_type": "code",
   "execution_count": 14,
   "metadata": {},
   "outputs": [],
   "source": [
    "model.eval()\n",
    "val_pred, val_labels = [], []\n",
    "with torch.no_grad():\n",
    "    for batch in val_loader_mols:\n",
    "        mol_features = batch['metabolite_features'].to(device)\n",
    "        protein_features = batch['protein_features'].to(device)\n",
    "        labels = batch['label'].to(device)\n",
    "\n",
    "        noisy_mol_features = model.add_noise(mol_features, noise_level=0.1)\n",
    "        noisy_protein_features = model.add_noise(protein_features, noise_level=0.1)\n",
    "\n",
    "        outputs = model(noisy_mol_features, noisy_protein_features, torch.randint(0, 10, (mol_features.size(0),)).to(device)).squeeze()\n",
    "        val_pred.extend(outputs.cpu().numpy())\n",
    "        val_labels.extend(labels.cpu().numpy())\n",
    "\n",
    "val_mse, val_rmse, val_mae, val_r2, val_pearson_corr, val_median_ae, val_explained_var = evaluate_model(val_pred, val_labels)\n"
   ]
  },
  {
   "cell_type": "code",
   "execution_count": 15,
   "metadata": {},
   "outputs": [],
   "source": [
    "# append the performance to the csv file\n",
    "df = {\n",
    "    'Model':['Diffusion Model','Diffusion Model','Diffusion Model'],\n",
    "    'Dataset':['Train','Validation','Test'],\n",
    "    'MSE':[train_mse,val_mse,test_mse],\n",
    "    'RMSE':[train_rmse,val_rmse,test_rmse],\n",
    "    'MAE':[train_mae,val_mae,test_mae],\n",
    "    'R2':[train_r2,val_r2,test_r2],\n",
    "    'Pearson':[train_pearson_corr,val_pearson_corr,test_pearson_corr],\n",
    "    'Median_AE':[train_median_ae,val_median_ae,test_median_ae],\n",
    "    'Explained_VAR':[train_explained_var,val_explained_var,test_explained_var],\n",
    "    'Dataspliting Mode':['cold protein','cold protein','cold protein']\n",
    "}\n",
    "df = pd.DataFrame(df)\n",
    "\n",
    "df.to_csv('/Users/pinchichen/2025S lab/AI drug project/Catpred/Ki/model performance metrics_Catpred_Ki.csv', mode='a', header=False)"
   ]
  },
  {
   "cell_type": "code",
   "execution_count": 11,
   "metadata": {},
   "outputs": [],
   "source": [
    "# Save the model and training history\n",
    "save_dir = '/Users/pinchichen/2025S lab/AI drug project/Catpred/Ki/trained_model/cold_protein'\n",
    "# save model weights and optimizer state\n",
    "torch.save(model.state_dict(), os.path.join(save_dir, 'Diffusion model_Catpred_Ki_cold_protein.pt'))\n",
    "torch.save(optimizer.state_dict(), os.path.join(save_dir, 'Diffusion model optimizer_Catpred_Ki_cold_protein.pt'))"
   ]
  },
  {
   "cell_type": "code",
   "execution_count": 12,
   "metadata": {},
   "outputs": [],
   "source": [
    "import torch\n",
    "import torch.nn as nn\n",
    "import torch.optim as optim\n",
    "from tqdm import tqdm\n",
    "import pandas as pd\n",
    "from sklearn.metrics import r2_score, median_absolute_error, explained_variance_score\n",
    "from scipy.stats import pearsonr\n"
   ]
  },
  {
   "cell_type": "code",
   "execution_count": null,
   "metadata": {},
   "outputs": [
    {
     "name": "stderr",
     "output_type": "stream",
     "text": [
      "Training Epoch 1: 100%|██████████| 258/258 [00:05<00:00, 45.56it/s]\n"
     ]
    },
    {
     "name": "stdout",
     "output_type": "stream",
     "text": [
      "Epoch 0 - Train Loss: 2.8498, Train MSE: 2.8556, Train MAE: 1.3295\n"
     ]
    },
    {
     "name": "stderr",
     "output_type": "stream",
     "text": [
      "/var/folders/yz/c1z6m9_d5d3f80sywjc3rqsc0000gn/T/ipykernel_19613/4173597956.py:93: FutureWarning: The behavior of DataFrame concatenation with empty or all-NA entries is deprecated. In a future version, this will no longer exclude empty or all-NA columns when determining the result dtypes. To retain the old behavior, exclude the relevant entries before the concat operation.\n",
      "  train_history_2 = pd.concat([train_history_2, pd.DataFrame([new_row])], ignore_index=True)\n"
     ]
    },
    {
     "name": "stdout",
     "output_type": "stream",
     "text": [
      "Epoch 0 - Validation Loss: 2.7093, Validation MSE: 2.6940, Validation MAE: 1.2935\n"
     ]
    },
    {
     "name": "stderr",
     "output_type": "stream",
     "text": [
      "Training Epoch 2: 100%|██████████| 258/258 [00:06<00:00, 42.75it/s]\n",
      "Training Epoch 3: 100%|██████████| 258/258 [00:05<00:00, 43.68it/s]\n",
      "Training Epoch 4: 100%|██████████| 258/258 [00:05<00:00, 44.61it/s]\n",
      "Training Epoch 5: 100%|██████████| 258/258 [00:05<00:00, 44.53it/s]\n",
      "Training Epoch 6: 100%|██████████| 258/258 [00:05<00:00, 44.68it/s]\n",
      "Training Epoch 7: 100%|██████████| 258/258 [00:05<00:00, 45.85it/s]\n",
      "Training Epoch 8: 100%|██████████| 258/258 [00:05<00:00, 45.44it/s]\n",
      "Training Epoch 9: 100%|██████████| 258/258 [00:05<00:00, 46.09it/s]\n",
      "Training Epoch 10: 100%|██████████| 258/258 [00:05<00:00, 45.94it/s]\n",
      "Training Epoch 11: 100%|██████████| 258/258 [00:06<00:00, 40.81it/s]\n"
     ]
    },
    {
     "name": "stdout",
     "output_type": "stream",
     "text": [
      "Epoch 10 - Train Loss: 2.0475, Train MSE: 2.0478, Train MAE: 1.1090\n",
      "Epoch 10 - Validation Loss: 2.3896, Validation MSE: 2.3674, Validation MAE: 1.2414\n"
     ]
    },
    {
     "name": "stderr",
     "output_type": "stream",
     "text": [
      "Training Epoch 12: 100%|██████████| 258/258 [00:06<00:00, 42.85it/s]\n",
      "Training Epoch 13: 100%|██████████| 258/258 [00:06<00:00, 42.75it/s]\n",
      "Training Epoch 14: 100%|██████████| 258/258 [00:05<00:00, 43.52it/s]\n",
      "Training Epoch 15: 100%|██████████| 258/258 [00:05<00:00, 45.75it/s]\n",
      "Training Epoch 16: 100%|██████████| 258/258 [00:05<00:00, 45.54it/s]\n",
      "Training Epoch 17: 100%|██████████| 258/258 [00:05<00:00, 45.87it/s]\n",
      "Training Epoch 18: 100%|██████████| 258/258 [00:05<00:00, 44.43it/s]\n",
      "Training Epoch 19: 100%|██████████| 258/258 [00:06<00:00, 42.68it/s]\n",
      "Training Epoch 20: 100%|██████████| 258/258 [00:05<00:00, 45.54it/s]\n",
      "Training Epoch 21: 100%|██████████| 258/258 [00:05<00:00, 43.21it/s]\n"
     ]
    },
    {
     "name": "stdout",
     "output_type": "stream",
     "text": [
      "Epoch 20 - Train Loss: 1.6632, Train MSE: 1.6621, Train MAE: 0.9975\n",
      "Epoch 20 - Validation Loss: 2.3906, Validation MSE: 2.3792, Validation MAE: 1.2055\n"
     ]
    },
    {
     "name": "stderr",
     "output_type": "stream",
     "text": [
      "Training Epoch 22: 100%|██████████| 258/258 [00:05<00:00, 44.01it/s]\n",
      "Training Epoch 23: 100%|██████████| 258/258 [00:06<00:00, 42.63it/s]\n",
      "Training Epoch 24: 100%|██████████| 258/258 [00:06<00:00, 42.86it/s]\n",
      "Training Epoch 25: 100%|██████████| 258/258 [00:05<00:00, 45.94it/s]\n",
      "Training Epoch 26: 100%|██████████| 258/258 [00:05<00:00, 44.57it/s]\n",
      "Training Epoch 27: 100%|██████████| 258/258 [00:06<00:00, 42.67it/s]\n",
      "Training Epoch 28: 100%|██████████| 258/258 [00:05<00:00, 43.34it/s]\n",
      "Training Epoch 29: 100%|██████████| 258/258 [00:05<00:00, 43.09it/s]\n",
      "Training Epoch 30: 100%|██████████| 258/258 [00:05<00:00, 43.84it/s]\n",
      "Training Epoch 31: 100%|██████████| 258/258 [00:05<00:00, 43.94it/s]\n"
     ]
    },
    {
     "name": "stdout",
     "output_type": "stream",
     "text": [
      "Epoch 30 - Train Loss: 1.3893, Train MSE: 1.3855, Train MAE: 0.9068\n",
      "Epoch 30 - Validation Loss: 2.3154, Validation MSE: 2.2989, Validation MAE: 1.1665\n"
     ]
    },
    {
     "name": "stderr",
     "output_type": "stream",
     "text": [
      "Training Epoch 32: 100%|██████████| 258/258 [00:06<00:00, 41.48it/s]\n",
      "Training Epoch 33: 100%|██████████| 258/258 [00:05<00:00, 43.79it/s]\n",
      "Training Epoch 34: 100%|██████████| 258/258 [00:05<00:00, 44.39it/s]\n",
      "Training Epoch 35: 100%|██████████| 258/258 [00:05<00:00, 43.13it/s]\n",
      "Training Epoch 36: 100%|██████████| 258/258 [00:05<00:00, 45.72it/s]\n",
      "Training Epoch 37: 100%|██████████| 258/258 [00:06<00:00, 40.67it/s]\n",
      "Training Epoch 38: 100%|██████████| 258/258 [00:05<00:00, 43.32it/s]\n",
      "Training Epoch 39: 100%|██████████| 258/258 [00:05<00:00, 43.33it/s]\n",
      "Training Epoch 40: 100%|██████████| 258/258 [00:05<00:00, 43.97it/s]\n",
      "Training Epoch 41: 100%|██████████| 258/258 [00:05<00:00, 43.90it/s]\n"
     ]
    },
    {
     "name": "stdout",
     "output_type": "stream",
     "text": [
      "Epoch 40 - Train Loss: 1.2348, Train MSE: 1.2374, Train MAE: 0.8599\n",
      "Epoch 40 - Validation Loss: 2.2007, Validation MSE: 2.2003, Validation MAE: 1.1435\n"
     ]
    },
    {
     "name": "stderr",
     "output_type": "stream",
     "text": [
      "Training Epoch 42: 100%|██████████| 258/258 [00:06<00:00, 41.57it/s]\n",
      "Training Epoch 43: 100%|██████████| 258/258 [00:05<00:00, 44.50it/s]\n",
      "Training Epoch 44: 100%|██████████| 258/258 [00:05<00:00, 44.84it/s]\n",
      "Training Epoch 45: 100%|██████████| 258/258 [00:05<00:00, 44.00it/s]\n",
      "Training Epoch 46: 100%|██████████| 258/258 [00:05<00:00, 43.13it/s]\n",
      "Training Epoch 47: 100%|██████████| 258/258 [00:06<00:00, 41.36it/s]\n",
      "Training Epoch 48: 100%|██████████| 258/258 [00:05<00:00, 45.28it/s]\n",
      "Training Epoch 49: 100%|██████████| 258/258 [00:05<00:00, 44.59it/s]\n",
      "Training Epoch 50: 100%|██████████| 258/258 [00:06<00:00, 39.08it/s]\n",
      "Training Epoch 51: 100%|██████████| 258/258 [00:06<00:00, 41.05it/s]\n"
     ]
    },
    {
     "name": "stdout",
     "output_type": "stream",
     "text": [
      "Epoch 50 - Train Loss: 1.0656, Train MSE: 1.0643, Train MAE: 0.7916\n",
      "Epoch 50 - Validation Loss: 2.2382, Validation MSE: 2.2416, Validation MAE: 1.1460\n"
     ]
    },
    {
     "name": "stderr",
     "output_type": "stream",
     "text": [
      "Training Epoch 52: 100%|██████████| 258/258 [00:05<00:00, 43.32it/s]\n",
      "Training Epoch 53: 100%|██████████| 258/258 [00:06<00:00, 42.82it/s]\n",
      "Training Epoch 54: 100%|██████████| 258/258 [00:05<00:00, 44.69it/s]\n",
      "Training Epoch 55: 100%|██████████| 258/258 [00:06<00:00, 40.76it/s]\n",
      "Training Epoch 56: 100%|██████████| 258/258 [00:05<00:00, 44.56it/s]\n",
      "Training Epoch 57: 100%|██████████| 258/258 [00:06<00:00, 41.79it/s]\n",
      "Training Epoch 58: 100%|██████████| 258/258 [00:05<00:00, 43.13it/s]\n",
      "Training Epoch 59: 100%|██████████| 258/258 [00:05<00:00, 44.29it/s]\n",
      "Training Epoch 60: 100%|██████████| 258/258 [00:06<00:00, 39.96it/s]\n",
      "Training Epoch 61: 100%|██████████| 258/258 [00:06<00:00, 42.93it/s]\n"
     ]
    },
    {
     "name": "stdout",
     "output_type": "stream",
     "text": [
      "Epoch 60 - Train Loss: 0.9836, Train MSE: 0.9843, Train MAE: 0.7588\n",
      "Epoch 60 - Validation Loss: 2.2315, Validation MSE: 2.2202, Validation MAE: 1.1349\n"
     ]
    },
    {
     "name": "stderr",
     "output_type": "stream",
     "text": [
      "Training Epoch 62: 100%|██████████| 258/258 [00:06<00:00, 41.79it/s]\n",
      "Training Epoch 63: 100%|██████████| 258/258 [00:06<00:00, 41.86it/s]\n",
      "Training Epoch 64: 100%|██████████| 258/258 [00:05<00:00, 43.02it/s]\n",
      "Training Epoch 65: 100%|██████████| 258/258 [00:06<00:00, 42.42it/s]\n",
      "Training Epoch 66: 100%|██████████| 258/258 [00:05<00:00, 43.21it/s]\n",
      "Training Epoch 67: 100%|██████████| 258/258 [00:06<00:00, 40.66it/s]\n",
      "Training Epoch 68: 100%|██████████| 258/258 [00:06<00:00, 41.13it/s]\n",
      "Training Epoch 69: 100%|██████████| 258/258 [00:06<00:00, 40.32it/s]\n",
      "Training Epoch 70: 100%|██████████| 258/258 [00:06<00:00, 40.77it/s]\n",
      "Training Epoch 71: 100%|██████████| 258/258 [00:06<00:00, 41.84it/s]\n"
     ]
    },
    {
     "name": "stdout",
     "output_type": "stream",
     "text": [
      "Epoch 70 - Train Loss: 0.8843, Train MSE: 0.8839, Train MAE: 0.7208\n",
      "Epoch 70 - Validation Loss: 2.0736, Validation MSE: 2.0681, Validation MAE: 1.1013\n"
     ]
    },
    {
     "name": "stderr",
     "output_type": "stream",
     "text": [
      "Training Epoch 72: 100%|██████████| 258/258 [00:06<00:00, 38.91it/s]\n",
      "Training Epoch 73: 100%|██████████| 258/258 [00:06<00:00, 42.07it/s]\n",
      "Training Epoch 74: 100%|██████████| 258/258 [00:05<00:00, 43.35it/s]\n",
      "Training Epoch 75: 100%|██████████| 258/258 [00:05<00:00, 43.63it/s]\n",
      "Training Epoch 76: 100%|██████████| 258/258 [00:05<00:00, 43.59it/s]\n",
      "Training Epoch 77: 100%|██████████| 258/258 [00:06<00:00, 40.13it/s]\n",
      "Training Epoch 78: 100%|██████████| 258/258 [00:06<00:00, 39.75it/s]\n",
      "Training Epoch 79: 100%|██████████| 258/258 [00:06<00:00, 40.54it/s]\n",
      "Training Epoch 80: 100%|██████████| 258/258 [00:06<00:00, 40.06it/s]\n",
      "Training Epoch 81: 100%|██████████| 258/258 [00:06<00:00, 41.59it/s]\n"
     ]
    },
    {
     "name": "stdout",
     "output_type": "stream",
     "text": [
      "Epoch 80 - Train Loss: 0.8399, Train MSE: 0.8350, Train MAE: 0.7017\n",
      "Epoch 80 - Validation Loss: 2.1466, Validation MSE: 2.1401, Validation MAE: 1.1185\n"
     ]
    },
    {
     "name": "stderr",
     "output_type": "stream",
     "text": [
      "Training Epoch 82: 100%|██████████| 258/258 [00:06<00:00, 37.38it/s]\n",
      "Training Epoch 83: 100%|██████████| 258/258 [00:05<00:00, 44.57it/s]\n",
      "Training Epoch 84: 100%|██████████| 258/258 [00:06<00:00, 40.11it/s]\n",
      "Training Epoch 85: 100%|██████████| 258/258 [00:06<00:00, 39.98it/s]\n",
      "Training Epoch 86: 100%|██████████| 258/258 [00:06<00:00, 37.61it/s]\n",
      "Training Epoch 87: 100%|██████████| 258/258 [00:06<00:00, 38.23it/s]\n",
      "Training Epoch 88: 100%|██████████| 258/258 [00:06<00:00, 42.92it/s]\n",
      "Training Epoch 89: 100%|██████████| 258/258 [00:06<00:00, 39.69it/s]\n",
      "Training Epoch 90: 100%|██████████| 258/258 [00:06<00:00, 38.67it/s]\n",
      "Training Epoch 91: 100%|██████████| 258/258 [00:06<00:00, 39.96it/s]\n"
     ]
    },
    {
     "name": "stdout",
     "output_type": "stream",
     "text": [
      "Epoch 90 - Train Loss: 0.7614, Train MSE: 0.7612, Train MAE: 0.6716\n",
      "Epoch 90 - Validation Loss: 2.1686, Validation MSE: 2.1684, Validation MAE: 1.1370\n"
     ]
    },
    {
     "name": "stderr",
     "output_type": "stream",
     "text": [
      "Training Epoch 92: 100%|██████████| 258/258 [00:06<00:00, 40.04it/s]\n",
      "Training Epoch 93: 100%|██████████| 258/258 [00:05<00:00, 43.40it/s]\n",
      "Training Epoch 94: 100%|██████████| 258/258 [00:06<00:00, 40.52it/s]\n",
      "Training Epoch 95: 100%|██████████| 258/258 [00:06<00:00, 42.93it/s]\n",
      "Training Epoch 96: 100%|██████████| 258/258 [00:06<00:00, 39.78it/s]\n",
      "Training Epoch 97: 100%|██████████| 258/258 [00:06<00:00, 39.68it/s]\n",
      "Training Epoch 98: 100%|██████████| 258/258 [00:06<00:00, 38.22it/s]\n",
      "Training Epoch 99: 100%|██████████| 258/258 [00:07<00:00, 35.43it/s]\n",
      "Training Epoch 100: 100%|██████████| 258/258 [00:06<00:00, 38.77it/s]\n",
      "Training Epoch 101: 100%|██████████| 258/258 [00:06<00:00, 38.28it/s]\n"
     ]
    },
    {
     "name": "stdout",
     "output_type": "stream",
     "text": [
      "Epoch 100 - Train Loss: 0.7285, Train MSE: 0.7291, Train MAE: 0.6517\n",
      "Epoch 100 - Validation Loss: 2.2665, Validation MSE: 2.2703, Validation MAE: 1.1499\n"
     ]
    },
    {
     "name": "stderr",
     "output_type": "stream",
     "text": [
      "Training Epoch 102: 100%|██████████| 258/258 [00:06<00:00, 40.30it/s]\n",
      "Training Epoch 103: 100%|██████████| 258/258 [00:07<00:00, 36.28it/s]\n",
      "Training Epoch 104: 100%|██████████| 258/258 [00:06<00:00, 40.99it/s]\n",
      "Training Epoch 105: 100%|██████████| 258/258 [00:06<00:00, 41.17it/s]\n",
      "Training Epoch 106: 100%|██████████| 258/258 [00:05<00:00, 43.73it/s]\n",
      "Training Epoch 107: 100%|██████████| 258/258 [00:06<00:00, 38.79it/s]\n",
      "Training Epoch 108: 100%|██████████| 258/258 [00:06<00:00, 37.17it/s]\n",
      "Training Epoch 109: 100%|██████████| 258/258 [00:06<00:00, 37.51it/s]\n",
      "Training Epoch 110: 100%|██████████| 258/258 [00:07<00:00, 35.90it/s]\n",
      "Training Epoch 111: 100%|██████████| 258/258 [00:06<00:00, 36.97it/s]\n"
     ]
    },
    {
     "name": "stdout",
     "output_type": "stream",
     "text": [
      "Epoch 110 - Train Loss: 0.6651, Train MSE: 0.6658, Train MAE: 0.6238\n",
      "Epoch 110 - Validation Loss: 2.1639, Validation MSE: 2.1666, Validation MAE: 1.1179\n"
     ]
    },
    {
     "name": "stderr",
     "output_type": "stream",
     "text": [
      "Training Epoch 112: 100%|██████████| 258/258 [00:06<00:00, 39.44it/s]\n",
      "Training Epoch 113: 100%|██████████| 258/258 [00:06<00:00, 38.21it/s]\n",
      "Training Epoch 114: 100%|██████████| 258/258 [15:17<00:00,  3.56s/it]  \n",
      "Training Epoch 115: 100%|██████████| 258/258 [00:05<00:00, 43.48it/s]\n",
      "Training Epoch 116: 100%|██████████| 258/258 [00:03<00:00, 66.75it/s]\n",
      "Training Epoch 117: 100%|██████████| 258/258 [00:03<00:00, 65.41it/s]\n",
      "Training Epoch 118: 100%|██████████| 258/258 [00:03<00:00, 71.94it/s]\n",
      "Training Epoch 119: 100%|██████████| 258/258 [00:03<00:00, 68.51it/s]\n",
      "Training Epoch 120: 100%|██████████| 258/258 [00:03<00:00, 69.05it/s]\n",
      "Training Epoch 121: 100%|██████████| 258/258 [00:03<00:00, 65.55it/s]\n"
     ]
    },
    {
     "name": "stdout",
     "output_type": "stream",
     "text": [
      "Epoch 120 - Train Loss: 0.6266, Train MSE: 0.6266, Train MAE: 0.6069\n",
      "Epoch 120 - Validation Loss: 2.1785, Validation MSE: 2.1769, Validation MAE: 1.1368\n"
     ]
    },
    {
     "name": "stderr",
     "output_type": "stream",
     "text": [
      "Training Epoch 122: 100%|██████████| 258/258 [00:03<00:00, 68.65it/s]\n",
      "Training Epoch 123: 100%|██████████| 258/258 [00:03<00:00, 69.56it/s]\n",
      "Training Epoch 124: 100%|██████████| 258/258 [00:03<00:00, 69.36it/s]\n",
      "Training Epoch 125: 100%|██████████| 258/258 [00:03<00:00, 74.08it/s]\n",
      "Training Epoch 126: 100%|██████████| 258/258 [00:03<00:00, 73.58it/s]\n",
      "Training Epoch 127: 100%|██████████| 258/258 [00:03<00:00, 69.16it/s]\n",
      "Training Epoch 128: 100%|██████████| 258/258 [00:03<00:00, 72.48it/s]\n",
      "Training Epoch 129: 100%|██████████| 258/258 [00:03<00:00, 74.70it/s]\n",
      "Training Epoch 130: 100%|██████████| 258/258 [00:03<00:00, 70.57it/s]\n",
      "Training Epoch 131: 100%|██████████| 258/258 [00:03<00:00, 66.14it/s]\n"
     ]
    },
    {
     "name": "stdout",
     "output_type": "stream",
     "text": [
      "Epoch 130 - Train Loss: 0.6192, Train MSE: 0.6174, Train MAE: 0.5994\n",
      "Epoch 130 - Validation Loss: 2.1603, Validation MSE: 2.1557, Validation MAE: 1.1192\n"
     ]
    },
    {
     "name": "stderr",
     "output_type": "stream",
     "text": [
      "Training Epoch 132: 100%|██████████| 258/258 [00:03<00:00, 70.10it/s]\n",
      "Training Epoch 133: 100%|██████████| 258/258 [00:03<00:00, 66.42it/s]\n",
      "Training Epoch 134: 100%|██████████| 258/258 [00:03<00:00, 70.92it/s]\n",
      "Training Epoch 135: 100%|██████████| 258/258 [00:03<00:00, 69.33it/s]\n",
      "Training Epoch 136: 100%|██████████| 258/258 [00:03<00:00, 74.26it/s]\n",
      "Training Epoch 137: 100%|██████████| 258/258 [00:03<00:00, 75.08it/s]\n",
      "Training Epoch 138: 100%|██████████| 258/258 [00:03<00:00, 71.73it/s]\n",
      "Training Epoch 139: 100%|██████████| 258/258 [00:03<00:00, 71.90it/s]\n",
      "Training Epoch 140: 100%|██████████| 258/258 [00:03<00:00, 71.53it/s]\n",
      "Training Epoch 141: 100%|██████████| 258/258 [00:03<00:00, 67.05it/s]\n"
     ]
    },
    {
     "name": "stdout",
     "output_type": "stream",
     "text": [
      "Epoch 140 - Train Loss: 0.5746, Train MSE: 0.5747, Train MAE: 0.5830\n",
      "Epoch 140 - Validation Loss: 2.2205, Validation MSE: 2.2172, Validation MAE: 1.1396\n"
     ]
    },
    {
     "name": "stderr",
     "output_type": "stream",
     "text": [
      "Training Epoch 142: 100%|██████████| 258/258 [00:03<00:00, 74.11it/s]\n",
      "Training Epoch 143: 100%|██████████| 258/258 [00:04<00:00, 61.76it/s]\n",
      "Training Epoch 144: 100%|██████████| 258/258 [00:03<00:00, 68.66it/s]\n",
      "Training Epoch 145: 100%|██████████| 258/258 [00:03<00:00, 72.26it/s]\n",
      "Training Epoch 146: 100%|██████████| 258/258 [00:03<00:00, 66.99it/s]\n",
      "Training Epoch 147: 100%|██████████| 258/258 [00:03<00:00, 67.84it/s]\n",
      "Training Epoch 148: 100%|██████████| 258/258 [00:03<00:00, 68.79it/s]\n",
      "Training Epoch 149: 100%|██████████| 258/258 [00:03<00:00, 68.94it/s]\n",
      "Training Epoch 150: 100%|██████████| 258/258 [00:03<00:00, 73.16it/s]\n",
      "Training Epoch 151: 100%|██████████| 258/258 [00:03<00:00, 72.85it/s]\n"
     ]
    },
    {
     "name": "stdout",
     "output_type": "stream",
     "text": [
      "Epoch 150 - Train Loss: 0.5439, Train MSE: 0.5445, Train MAE: 0.5610\n",
      "Epoch 150 - Validation Loss: 2.1068, Validation MSE: 2.0986, Validation MAE: 1.1122\n"
     ]
    },
    {
     "name": "stderr",
     "output_type": "stream",
     "text": [
      "Training Epoch 152: 100%|██████████| 258/258 [00:03<00:00, 70.95it/s]\n",
      "Training Epoch 153: 100%|██████████| 258/258 [00:03<00:00, 72.28it/s]\n",
      "Training Epoch 154: 100%|██████████| 258/258 [00:03<00:00, 74.50it/s]\n",
      "Training Epoch 155: 100%|██████████| 258/258 [00:03<00:00, 71.03it/s]\n",
      "Training Epoch 156: 100%|██████████| 258/258 [00:03<00:00, 71.60it/s]\n",
      "Training Epoch 157: 100%|██████████| 258/258 [00:03<00:00, 73.63it/s]\n",
      "Training Epoch 158: 100%|██████████| 258/258 [00:03<00:00, 70.65it/s]\n",
      "Training Epoch 159: 100%|██████████| 258/258 [00:03<00:00, 72.01it/s]\n",
      "Training Epoch 160: 100%|██████████| 258/258 [00:03<00:00, 70.06it/s]\n",
      "Training Epoch 161: 100%|██████████| 258/258 [00:03<00:00, 73.55it/s]\n"
     ]
    },
    {
     "name": "stdout",
     "output_type": "stream",
     "text": [
      "Epoch 160 - Train Loss: 0.5215, Train MSE: 0.5222, Train MAE: 0.5526\n",
      "Epoch 160 - Validation Loss: 2.1261, Validation MSE: 2.1311, Validation MAE: 1.1178\n"
     ]
    },
    {
     "name": "stderr",
     "output_type": "stream",
     "text": [
      "Training Epoch 162: 100%|██████████| 258/258 [00:03<00:00, 65.96it/s]\n",
      "Training Epoch 163: 100%|██████████| 258/258 [00:03<00:00, 64.78it/s]\n",
      "Training Epoch 164: 100%|██████████| 258/258 [00:03<00:00, 65.12it/s]\n",
      "Training Epoch 165: 100%|██████████| 258/258 [00:03<00:00, 68.95it/s]\n",
      "Training Epoch 166: 100%|██████████| 258/258 [00:03<00:00, 66.19it/s]\n",
      "Training Epoch 167: 100%|██████████| 258/258 [00:03<00:00, 71.71it/s]\n",
      "Training Epoch 168: 100%|██████████| 258/258 [00:03<00:00, 69.99it/s]\n",
      "Training Epoch 169: 100%|██████████| 258/258 [00:03<00:00, 73.49it/s]\n",
      "Training Epoch 170: 100%|██████████| 258/258 [00:03<00:00, 72.98it/s]\n",
      "Training Epoch 171: 100%|██████████| 258/258 [00:03<00:00, 74.42it/s]\n"
     ]
    },
    {
     "name": "stdout",
     "output_type": "stream",
     "text": [
      "Epoch 170 - Train Loss: 0.4868, Train MSE: 0.4850, Train MAE: 0.5323\n",
      "Epoch 170 - Validation Loss: 2.1886, Validation MSE: 2.1850, Validation MAE: 1.1257\n"
     ]
    },
    {
     "name": "stderr",
     "output_type": "stream",
     "text": [
      "Training Epoch 172: 100%|██████████| 258/258 [00:03<00:00, 70.55it/s]\n",
      "Training Epoch 173: 100%|██████████| 258/258 [00:03<00:00, 71.47it/s]\n",
      "Training Epoch 174: 100%|██████████| 258/258 [00:03<00:00, 67.44it/s]\n",
      "Training Epoch 175: 100%|██████████| 258/258 [00:03<00:00, 69.29it/s]\n",
      "Training Epoch 176: 100%|██████████| 258/258 [00:03<00:00, 73.07it/s]\n",
      "Training Epoch 177: 100%|██████████| 258/258 [00:03<00:00, 72.93it/s]\n",
      "Training Epoch 178: 100%|██████████| 258/258 [00:04<00:00, 63.90it/s]\n",
      "Training Epoch 179: 100%|██████████| 258/258 [00:03<00:00, 70.19it/s]\n",
      "Training Epoch 180: 100%|██████████| 258/258 [00:03<00:00, 67.93it/s]\n",
      "Training Epoch 181: 100%|██████████| 258/258 [00:03<00:00, 65.56it/s]\n"
     ]
    },
    {
     "name": "stdout",
     "output_type": "stream",
     "text": [
      "Epoch 180 - Train Loss: 0.4876, Train MSE: 0.4850, Train MAE: 0.5333\n",
      "Epoch 180 - Validation Loss: 2.2159, Validation MSE: 2.2099, Validation MAE: 1.1387\n"
     ]
    },
    {
     "name": "stderr",
     "output_type": "stream",
     "text": [
      "Training Epoch 182: 100%|██████████| 258/258 [00:03<00:00, 64.94it/s]\n",
      "Training Epoch 183: 100%|██████████| 258/258 [00:03<00:00, 68.93it/s]\n",
      "Training Epoch 184: 100%|██████████| 258/258 [00:03<00:00, 70.82it/s]\n",
      "Training Epoch 185: 100%|██████████| 258/258 [00:03<00:00, 71.35it/s]\n",
      "Training Epoch 186: 100%|██████████| 258/258 [00:03<00:00, 72.30it/s]\n",
      "Training Epoch 187: 100%|██████████| 258/258 [00:03<00:00, 73.19it/s]\n",
      "Training Epoch 188: 100%|██████████| 258/258 [00:03<00:00, 73.05it/s]\n",
      "Training Epoch 189: 100%|██████████| 258/258 [00:03<00:00, 65.36it/s]\n",
      "Training Epoch 190: 100%|██████████| 258/258 [00:03<00:00, 72.23it/s]\n",
      "Training Epoch 191: 100%|██████████| 258/258 [00:03<00:00, 71.36it/s]\n"
     ]
    },
    {
     "name": "stdout",
     "output_type": "stream",
     "text": [
      "Epoch 190 - Train Loss: 0.4718, Train MSE: 0.4716, Train MAE: 0.5205\n",
      "Epoch 190 - Validation Loss: 2.0880, Validation MSE: 2.0932, Validation MAE: 1.1054\n"
     ]
    },
    {
     "name": "stderr",
     "output_type": "stream",
     "text": [
      "Training Epoch 192: 100%|██████████| 258/258 [00:03<00:00, 69.08it/s]\n",
      "Training Epoch 193: 100%|██████████| 258/258 [00:04<00:00, 63.31it/s]\n",
      "Training Epoch 194: 100%|██████████| 258/258 [00:03<00:00, 68.98it/s]\n",
      "Training Epoch 195: 100%|██████████| 258/258 [00:03<00:00, 68.82it/s]\n",
      "Training Epoch 196: 100%|██████████| 258/258 [00:03<00:00, 66.81it/s]\n",
      "Training Epoch 197: 100%|██████████| 258/258 [00:03<00:00, 67.48it/s]\n",
      "Training Epoch 198: 100%|██████████| 258/258 [00:03<00:00, 72.03it/s]\n",
      "Training Epoch 199: 100%|██████████| 258/258 [00:03<00:00, 72.76it/s]\n",
      "Training Epoch 200: 100%|██████████| 258/258 [00:03<00:00, 68.98it/s]\n",
      "Training Epoch 201: 100%|██████████| 258/258 [00:03<00:00, 69.15it/s]\n"
     ]
    },
    {
     "name": "stdout",
     "output_type": "stream",
     "text": [
      "Epoch 200 - Train Loss: 0.4494, Train MSE: 0.4472, Train MAE: 0.5110\n",
      "Epoch 200 - Validation Loss: 2.1746, Validation MSE: 2.1734, Validation MAE: 1.1266\n"
     ]
    },
    {
     "name": "stderr",
     "output_type": "stream",
     "text": [
      "Training Epoch 202: 100%|██████████| 258/258 [00:03<00:00, 73.43it/s]\n",
      "Training Epoch 203: 100%|██████████| 258/258 [00:03<00:00, 73.93it/s]\n",
      "Training Epoch 204: 100%|██████████| 258/258 [00:03<00:00, 73.75it/s]\n",
      "Training Epoch 205: 100%|██████████| 258/258 [00:03<00:00, 66.52it/s]\n",
      "Training Epoch 206: 100%|██████████| 258/258 [00:03<00:00, 73.47it/s]\n",
      "Training Epoch 207: 100%|██████████| 258/258 [00:03<00:00, 72.22it/s]\n",
      "Training Epoch 208: 100%|██████████| 258/258 [00:03<00:00, 69.27it/s]\n",
      "Training Epoch 209: 100%|██████████| 258/258 [00:04<00:00, 61.26it/s]\n",
      "Training Epoch 210: 100%|██████████| 258/258 [00:03<00:00, 68.57it/s]\n",
      "Training Epoch 211: 100%|██████████| 258/258 [00:03<00:00, 69.03it/s]\n"
     ]
    },
    {
     "name": "stdout",
     "output_type": "stream",
     "text": [
      "Epoch 210 - Train Loss: 0.4478, Train MSE: 0.4486, Train MAE: 0.5093\n",
      "Epoch 210 - Validation Loss: 2.0841, Validation MSE: 2.0792, Validation MAE: 1.0997\n"
     ]
    },
    {
     "name": "stderr",
     "output_type": "stream",
     "text": [
      "Training Epoch 212: 100%|██████████| 258/258 [00:03<00:00, 65.75it/s]\n",
      "Training Epoch 213: 100%|██████████| 258/258 [00:03<00:00, 68.71it/s]\n",
      "Training Epoch 214: 100%|██████████| 258/258 [00:03<00:00, 74.06it/s]\n",
      "Training Epoch 215: 100%|██████████| 258/258 [00:03<00:00, 74.04it/s]\n",
      "Training Epoch 216: 100%|██████████| 258/258 [00:03<00:00, 71.20it/s]\n",
      "Training Epoch 217: 100%|██████████| 258/258 [00:03<00:00, 69.23it/s]\n",
      "Training Epoch 218: 100%|██████████| 258/258 [00:03<00:00, 72.08it/s]\n",
      "Training Epoch 219: 100%|██████████| 258/258 [00:03<00:00, 73.53it/s]\n",
      "Training Epoch 220: 100%|██████████| 258/258 [00:03<00:00, 66.02it/s]\n",
      "Training Epoch 221: 100%|██████████| 258/258 [00:03<00:00, 67.94it/s]\n"
     ]
    },
    {
     "name": "stdout",
     "output_type": "stream",
     "text": [
      "Epoch 220 - Train Loss: 0.4219, Train MSE: 0.4225, Train MAE: 0.4937\n",
      "Epoch 220 - Validation Loss: 2.0403, Validation MSE: 2.0408, Validation MAE: 1.0897\n"
     ]
    },
    {
     "name": "stderr",
     "output_type": "stream",
     "text": [
      "Training Epoch 222: 100%|██████████| 258/258 [00:03<00:00, 68.95it/s]\n",
      "Training Epoch 223: 100%|██████████| 258/258 [00:03<00:00, 72.28it/s]\n",
      "Training Epoch 224: 100%|██████████| 258/258 [00:03<00:00, 65.39it/s]\n",
      "Training Epoch 225: 100%|██████████| 258/258 [00:03<00:00, 68.03it/s]\n",
      "Training Epoch 226: 100%|██████████| 258/258 [00:03<00:00, 64.55it/s]\n",
      "Training Epoch 227: 100%|██████████| 258/258 [00:03<00:00, 67.65it/s]\n",
      "Training Epoch 228: 100%|██████████| 258/258 [00:03<00:00, 71.82it/s]\n",
      "Training Epoch 229: 100%|██████████| 258/258 [00:03<00:00, 68.91it/s]\n",
      "Training Epoch 230: 100%|██████████| 258/258 [00:03<00:00, 69.72it/s]\n",
      "Training Epoch 231: 100%|██████████| 258/258 [00:03<00:00, 73.27it/s]\n"
     ]
    },
    {
     "name": "stdout",
     "output_type": "stream",
     "text": [
      "Epoch 230 - Train Loss: 0.4064, Train MSE: 0.4057, Train MAE: 0.4829\n",
      "Epoch 230 - Validation Loss: 2.0719, Validation MSE: 2.0584, Validation MAE: 1.0876\n"
     ]
    },
    {
     "name": "stderr",
     "output_type": "stream",
     "text": [
      "Training Epoch 232: 100%|██████████| 258/258 [00:03<00:00, 68.77it/s]\n",
      "Training Epoch 233: 100%|██████████| 258/258 [00:03<00:00, 72.10it/s]\n",
      "Training Epoch 234: 100%|██████████| 258/258 [00:03<00:00, 69.32it/s]\n",
      "Training Epoch 235: 100%|██████████| 258/258 [00:03<00:00, 67.80it/s]\n",
      "Training Epoch 236: 100%|██████████| 258/258 [00:03<00:00, 67.22it/s]\n",
      "Training Epoch 237: 100%|██████████| 258/258 [00:03<00:00, 72.20it/s]\n",
      "Training Epoch 238: 100%|██████████| 258/258 [00:03<00:00, 68.82it/s]\n",
      "Training Epoch 239: 100%|██████████| 258/258 [00:03<00:00, 71.29it/s]\n",
      "Training Epoch 240: 100%|██████████| 258/258 [15:15<00:00,  3.55s/it]  \n",
      "Training Epoch 241: 100%|██████████| 258/258 [00:03<00:00, 67.39it/s]\n"
     ]
    },
    {
     "name": "stdout",
     "output_type": "stream",
     "text": [
      "Epoch 240 - Train Loss: 0.3838, Train MSE: 0.3833, Train MAE: 0.4720\n",
      "Epoch 240 - Validation Loss: 2.0505, Validation MSE: 2.0458, Validation MAE: 1.0873\n"
     ]
    },
    {
     "name": "stderr",
     "output_type": "stream",
     "text": [
      "Training Epoch 242: 100%|██████████| 258/258 [00:03<00:00, 65.46it/s]\n",
      "Training Epoch 243: 100%|██████████| 258/258 [00:03<00:00, 68.37it/s]\n",
      "Training Epoch 244: 100%|██████████| 258/258 [00:03<00:00, 69.22it/s]\n",
      "Training Epoch 245: 100%|██████████| 258/258 [00:03<00:00, 68.41it/s]\n",
      "Training Epoch 246: 100%|██████████| 258/258 [00:03<00:00, 67.42it/s]\n",
      "Training Epoch 247: 100%|██████████| 258/258 [00:03<00:00, 71.91it/s]\n",
      "Training Epoch 248: 100%|██████████| 258/258 [00:03<00:00, 71.99it/s]\n",
      "Training Epoch 249: 100%|██████████| 258/258 [00:03<00:00, 73.27it/s]\n",
      "Training Epoch 250: 100%|██████████| 258/258 [00:03<00:00, 66.23it/s]\n",
      "Training Epoch 251: 100%|██████████| 258/258 [00:03<00:00, 73.93it/s]\n"
     ]
    },
    {
     "name": "stdout",
     "output_type": "stream",
     "text": [
      "Epoch 250 - Train Loss: 0.3899, Train MSE: 0.3904, Train MAE: 0.4781\n",
      "Epoch 250 - Validation Loss: 2.1772, Validation MSE: 2.1803, Validation MAE: 1.1205\n"
     ]
    },
    {
     "name": "stderr",
     "output_type": "stream",
     "text": [
      "Training Epoch 252: 100%|██████████| 258/258 [00:03<00:00, 74.13it/s]\n",
      "Training Epoch 253: 100%|██████████| 258/258 [15:30<00:00,  3.61s/it]\n",
      "Training Epoch 254: 100%|██████████| 258/258 [00:03<00:00, 66.35it/s]\n",
      "Training Epoch 255: 100%|██████████| 258/258 [00:03<00:00, 69.26it/s]\n",
      "Training Epoch 256: 100%|██████████| 258/258 [00:03<00:00, 65.78it/s]\n",
      "Training Epoch 257: 100%|██████████| 258/258 [00:03<00:00, 72.22it/s]\n",
      "Training Epoch 258: 100%|██████████| 258/258 [00:03<00:00, 70.49it/s]\n",
      "Training Epoch 259: 100%|██████████| 258/258 [00:03<00:00, 73.18it/s]\n",
      "Training Epoch 260: 100%|██████████| 258/258 [00:03<00:00, 74.57it/s]\n",
      "Training Epoch 261: 100%|██████████| 258/258 [00:03<00:00, 74.96it/s]\n"
     ]
    },
    {
     "name": "stdout",
     "output_type": "stream",
     "text": [
      "Epoch 260 - Train Loss: 0.3672, Train MSE: 0.3680, Train MAE: 0.4631\n",
      "Epoch 260 - Validation Loss: 2.0612, Validation MSE: 2.0534, Validation MAE: 1.0932\n"
     ]
    },
    {
     "name": "stderr",
     "output_type": "stream",
     "text": [
      "Training Epoch 262: 100%|██████████| 258/258 [00:03<00:00, 74.54it/s]\n",
      "Training Epoch 263: 100%|██████████| 258/258 [00:03<00:00, 69.31it/s]\n",
      "Training Epoch 264: 100%|██████████| 258/258 [00:03<00:00, 74.13it/s]\n",
      "Training Epoch 265: 100%|██████████| 258/258 [16:30<00:00,  3.84s/it]\n",
      "Training Epoch 266: 100%|██████████| 258/258 [00:04<00:00, 57.82it/s]\n",
      "Training Epoch 267: 100%|██████████| 258/258 [00:03<00:00, 69.87it/s]\n",
      "Training Epoch 268: 100%|██████████| 258/258 [00:03<00:00, 71.40it/s]\n",
      "Training Epoch 269: 100%|██████████| 258/258 [00:03<00:00, 71.31it/s]\n",
      "Training Epoch 270: 100%|██████████| 258/258 [00:03<00:00, 72.67it/s]\n",
      "Training Epoch 271: 100%|██████████| 258/258 [00:03<00:00, 70.68it/s]\n"
     ]
    },
    {
     "name": "stdout",
     "output_type": "stream",
     "text": [
      "Epoch 270 - Train Loss: 0.3637, Train MSE: 0.3640, Train MAE: 0.4594\n",
      "Epoch 270 - Validation Loss: 2.0859, Validation MSE: 2.0791, Validation MAE: 1.1029\n"
     ]
    },
    {
     "name": "stderr",
     "output_type": "stream",
     "text": [
      "Training Epoch 272: 100%|██████████| 258/258 [00:03<00:00, 75.09it/s]\n",
      "Training Epoch 273: 100%|██████████| 258/258 [00:03<00:00, 74.06it/s]\n",
      "Training Epoch 274: 100%|██████████| 258/258 [00:03<00:00, 74.67it/s]\n",
      "Training Epoch 275: 100%|██████████| 258/258 [00:03<00:00, 69.95it/s]\n",
      "Training Epoch 276: 100%|██████████| 258/258 [00:03<00:00, 74.68it/s]\n",
      "Training Epoch 277: 100%|██████████| 258/258 [00:03<00:00, 71.28it/s]\n",
      "Training Epoch 278: 100%|██████████| 258/258 [00:03<00:00, 74.17it/s]\n",
      "Training Epoch 279: 100%|██████████| 258/258 [00:03<00:00, 69.81it/s]\n",
      "Training Epoch 280: 100%|██████████| 258/258 [00:03<00:00, 70.49it/s]\n",
      "Training Epoch 281: 100%|██████████| 258/258 [00:03<00:00, 74.23it/s]\n"
     ]
    },
    {
     "name": "stdout",
     "output_type": "stream",
     "text": [
      "Epoch 280 - Train Loss: 0.3603, Train MSE: 0.3603, Train MAE: 0.4558\n",
      "Epoch 280 - Validation Loss: 2.1781, Validation MSE: 2.1718, Validation MAE: 1.1243\n"
     ]
    },
    {
     "name": "stderr",
     "output_type": "stream",
     "text": [
      "Training Epoch 282: 100%|██████████| 258/258 [00:04<00:00, 59.85it/s]\n",
      "Training Epoch 283: 100%|██████████| 258/258 [00:07<00:00, 34.84it/s]\n",
      "Training Epoch 284: 100%|██████████| 258/258 [00:02<00:00, 86.06it/s] \n",
      "Training Epoch 285: 100%|██████████| 258/258 [00:02<00:00, 101.26it/s]\n",
      "Training Epoch 286: 100%|██████████| 258/258 [00:02<00:00, 106.56it/s]\n",
      "Training Epoch 287: 100%|██████████| 258/258 [00:02<00:00, 109.62it/s]\n",
      "Training Epoch 288: 100%|██████████| 258/258 [00:02<00:00, 101.11it/s]\n",
      "Training Epoch 289: 100%|██████████| 258/258 [00:02<00:00, 112.59it/s]\n",
      "Training Epoch 290: 100%|██████████| 258/258 [00:02<00:00, 101.58it/s]\n",
      "Training Epoch 291: 100%|██████████| 258/258 [00:02<00:00, 107.78it/s]\n"
     ]
    },
    {
     "name": "stdout",
     "output_type": "stream",
     "text": [
      "Epoch 290 - Train Loss: 0.3378, Train MSE: 0.3373, Train MAE: 0.4395\n",
      "Epoch 290 - Validation Loss: 2.1104, Validation MSE: 2.1000, Validation MAE: 1.1037\n"
     ]
    },
    {
     "name": "stderr",
     "output_type": "stream",
     "text": [
      "Training Epoch 292: 100%|██████████| 258/258 [00:02<00:00, 105.93it/s]\n",
      "Training Epoch 293: 100%|██████████| 258/258 [00:02<00:00, 108.56it/s]\n",
      "Training Epoch 294: 100%|██████████| 258/258 [00:02<00:00, 103.87it/s]\n",
      "Training Epoch 295: 100%|██████████| 258/258 [00:02<00:00, 108.79it/s]\n",
      "Training Epoch 296: 100%|██████████| 258/258 [00:02<00:00, 110.17it/s]\n",
      "Training Epoch 297: 100%|██████████| 258/258 [00:02<00:00, 108.83it/s]\n",
      "Training Epoch 298: 100%|██████████| 258/258 [00:02<00:00, 108.81it/s]\n",
      "Training Epoch 299: 100%|██████████| 258/258 [00:02<00:00, 107.50it/s]\n",
      "Training Epoch 300: 100%|██████████| 258/258 [00:02<00:00, 100.25it/s]\n",
      "Training Epoch 301: 100%|██████████| 258/258 [00:02<00:00, 107.22it/s]\n"
     ]
    },
    {
     "name": "stdout",
     "output_type": "stream",
     "text": [
      "Epoch 300 - Train Loss: 0.3388, Train MSE: 0.3384, Train MAE: 0.4425\n",
      "Epoch 300 - Validation Loss: 2.1244, Validation MSE: 2.1128, Validation MAE: 1.1027\n"
     ]
    },
    {
     "name": "stderr",
     "output_type": "stream",
     "text": [
      "Training Epoch 302: 100%|██████████| 258/258 [00:02<00:00, 91.58it/s] \n",
      "Training Epoch 303: 100%|██████████| 258/258 [00:02<00:00, 106.03it/s]\n",
      "Training Epoch 304: 100%|██████████| 258/258 [00:02<00:00, 109.37it/s]\n",
      "Training Epoch 305: 100%|██████████| 258/258 [00:02<00:00, 108.29it/s]\n",
      "Training Epoch 306: 100%|██████████| 258/258 [00:02<00:00, 102.87it/s]\n",
      "Training Epoch 307: 100%|██████████| 258/258 [00:02<00:00, 107.39it/s]\n",
      "Training Epoch 308: 100%|██████████| 258/258 [00:02<00:00, 109.87it/s]\n",
      "Training Epoch 309: 100%|██████████| 258/258 [00:02<00:00, 105.39it/s]\n",
      "Training Epoch 310: 100%|██████████| 258/258 [00:02<00:00, 109.47it/s]\n",
      "Training Epoch 311: 100%|██████████| 258/258 [00:02<00:00, 108.12it/s]\n"
     ]
    },
    {
     "name": "stdout",
     "output_type": "stream",
     "text": [
      "Epoch 310 - Train Loss: 0.3347, Train MSE: 0.3352, Train MAE: 0.4373\n",
      "Epoch 310 - Validation Loss: 2.1646, Validation MSE: 2.1552, Validation MAE: 1.1083\n"
     ]
    },
    {
     "name": "stderr",
     "output_type": "stream",
     "text": [
      "Training Epoch 312: 100%|██████████| 258/258 [00:02<00:00, 98.39it/s] \n",
      "Training Epoch 313: 100%|██████████| 258/258 [00:02<00:00, 103.66it/s]\n",
      "Training Epoch 314: 100%|██████████| 258/258 [00:02<00:00, 104.28it/s]\n",
      "Training Epoch 315: 100%|██████████| 258/258 [00:02<00:00, 103.89it/s]\n",
      "Training Epoch 316: 100%|██████████| 258/258 [00:02<00:00, 106.23it/s]\n",
      "Training Epoch 317: 100%|██████████| 258/258 [00:02<00:00, 100.74it/s]\n",
      "Training Epoch 318: 100%|██████████| 258/258 [00:02<00:00, 111.43it/s]\n",
      "Training Epoch 319: 100%|██████████| 258/258 [00:02<00:00, 108.38it/s]\n",
      "Training Epoch 320: 100%|██████████| 258/258 [00:02<00:00, 107.64it/s]\n",
      "Training Epoch 321: 100%|██████████| 258/258 [00:02<00:00, 96.25it/s] \n"
     ]
    },
    {
     "name": "stdout",
     "output_type": "stream",
     "text": [
      "Epoch 320 - Train Loss: 0.3294, Train MSE: 0.3282, Train MAE: 0.4353\n",
      "Epoch 320 - Validation Loss: 2.0870, Validation MSE: 2.0838, Validation MAE: 1.1008\n"
     ]
    },
    {
     "name": "stderr",
     "output_type": "stream",
     "text": [
      "Training Epoch 322: 100%|██████████| 258/258 [00:02<00:00, 99.65it/s] \n",
      "Training Epoch 323: 100%|██████████| 258/258 [00:02<00:00, 99.64it/s] \n",
      "Training Epoch 324: 100%|██████████| 258/258 [00:02<00:00, 95.85it/s] \n",
      "Training Epoch 325: 100%|██████████| 258/258 [00:02<00:00, 92.98it/s] \n",
      "Training Epoch 326: 100%|██████████| 258/258 [00:02<00:00, 108.59it/s]\n",
      "Training Epoch 327: 100%|██████████| 258/258 [00:02<00:00, 99.70it/s] \n",
      "Training Epoch 328: 100%|██████████| 258/258 [00:03<00:00, 83.44it/s]\n",
      "Training Epoch 329: 100%|██████████| 258/258 [00:03<00:00, 78.58it/s]\n",
      "Training Epoch 330: 100%|██████████| 258/258 [00:02<00:00, 94.70it/s]\n",
      "Training Epoch 331: 100%|██████████| 258/258 [00:02<00:00, 95.08it/s] \n"
     ]
    },
    {
     "name": "stdout",
     "output_type": "stream",
     "text": [
      "Epoch 330 - Train Loss: 0.3257, Train MSE: 0.3261, Train MAE: 0.4309\n",
      "Epoch 330 - Validation Loss: 2.1198, Validation MSE: 2.1105, Validation MAE: 1.0953\n"
     ]
    },
    {
     "name": "stderr",
     "output_type": "stream",
     "text": [
      "Training Epoch 332: 100%|██████████| 258/258 [00:03<00:00, 82.23it/s] \n",
      "Training Epoch 333: 100%|██████████| 258/258 [00:02<00:00, 93.49it/s] \n",
      "Training Epoch 334: 100%|██████████| 258/258 [00:02<00:00, 102.36it/s]\n",
      "Training Epoch 335: 100%|██████████| 258/258 [00:02<00:00, 105.01it/s]\n",
      "Training Epoch 336: 100%|██████████| 258/258 [00:02<00:00, 105.56it/s]\n",
      "Training Epoch 337: 100%|██████████| 258/258 [00:02<00:00, 93.52it/s] \n",
      "Training Epoch 338: 100%|██████████| 258/258 [00:02<00:00, 97.33it/s] \n",
      "Training Epoch 339: 100%|██████████| 258/258 [00:02<00:00, 97.89it/s] \n",
      "Training Epoch 340: 100%|██████████| 258/258 [00:02<00:00, 95.38it/s] \n",
      "Training Epoch 341: 100%|██████████| 258/258 [00:02<00:00, 101.81it/s]\n"
     ]
    },
    {
     "name": "stdout",
     "output_type": "stream",
     "text": [
      "Epoch 340 - Train Loss: 0.3054, Train MSE: 0.3058, Train MAE: 0.4203\n",
      "Epoch 340 - Validation Loss: 2.0583, Validation MSE: 2.0579, Validation MAE: 1.0872\n"
     ]
    },
    {
     "name": "stderr",
     "output_type": "stream",
     "text": [
      "Training Epoch 342: 100%|██████████| 258/258 [00:02<00:00, 96.77it/s] \n",
      "Training Epoch 343: 100%|██████████| 258/258 [00:02<00:00, 98.94it/s] \n",
      "Training Epoch 344: 100%|██████████| 258/258 [00:02<00:00, 102.87it/s]\n",
      "Training Epoch 345: 100%|██████████| 258/258 [00:02<00:00, 110.34it/s]\n",
      "Training Epoch 346: 100%|██████████| 258/258 [00:02<00:00, 102.22it/s]\n",
      "Training Epoch 347: 100%|██████████| 258/258 [00:02<00:00, 88.76it/s] \n",
      "Training Epoch 348: 100%|██████████| 258/258 [00:02<00:00, 96.52it/s]\n",
      "Training Epoch 349: 100%|██████████| 258/258 [00:02<00:00, 103.35it/s]\n",
      "Training Epoch 350: 100%|██████████| 258/258 [00:02<00:00, 101.70it/s]\n",
      "Training Epoch 351: 100%|██████████| 258/258 [00:02<00:00, 108.33it/s]\n"
     ]
    },
    {
     "name": "stdout",
     "output_type": "stream",
     "text": [
      "Epoch 350 - Train Loss: 0.3097, Train MSE: 0.3095, Train MAE: 0.4222\n",
      "Epoch 350 - Validation Loss: 2.1379, Validation MSE: 2.1246, Validation MAE: 1.1030\n"
     ]
    },
    {
     "name": "stderr",
     "output_type": "stream",
     "text": [
      "Training Epoch 352: 100%|██████████| 258/258 [00:02<00:00, 102.38it/s]\n",
      "Training Epoch 353: 100%|██████████| 258/258 [00:02<00:00, 103.94it/s]\n",
      "Training Epoch 354: 100%|██████████| 258/258 [00:02<00:00, 97.95it/s] \n",
      "Training Epoch 355: 100%|██████████| 258/258 [00:02<00:00, 99.27it/s] \n",
      "Training Epoch 356: 100%|██████████| 258/258 [00:02<00:00, 99.25it/s] \n",
      "Training Epoch 357: 100%|██████████| 258/258 [00:02<00:00, 98.26it/s] \n",
      "Training Epoch 358: 100%|██████████| 258/258 [00:02<00:00, 104.08it/s]\n",
      "Training Epoch 359: 100%|██████████| 258/258 [00:02<00:00, 99.92it/s] \n",
      "Training Epoch 360: 100%|██████████| 258/258 [00:02<00:00, 103.85it/s]\n",
      "Training Epoch 361: 100%|██████████| 258/258 [00:02<00:00, 103.38it/s]\n"
     ]
    },
    {
     "name": "stdout",
     "output_type": "stream",
     "text": [
      "Epoch 360 - Train Loss: 0.2968, Train MSE: 0.2971, Train MAE: 0.4155\n",
      "Epoch 360 - Validation Loss: 2.1268, Validation MSE: 2.1223, Validation MAE: 1.1064\n"
     ]
    },
    {
     "name": "stderr",
     "output_type": "stream",
     "text": [
      "Training Epoch 362: 100%|██████████| 258/258 [00:02<00:00, 109.83it/s]\n",
      "Training Epoch 363: 100%|██████████| 258/258 [00:02<00:00, 108.11it/s]\n",
      "Training Epoch 364: 100%|██████████| 258/258 [00:02<00:00, 102.96it/s]\n",
      "Training Epoch 365: 100%|██████████| 258/258 [00:02<00:00, 96.25it/s] \n",
      "Training Epoch 366: 100%|██████████| 258/258 [00:02<00:00, 102.98it/s]\n",
      "Training Epoch 367: 100%|██████████| 258/258 [00:02<00:00, 101.06it/s]\n",
      "Training Epoch 368: 100%|██████████| 258/258 [00:02<00:00, 98.86it/s] \n",
      "Training Epoch 369: 100%|██████████| 258/258 [00:02<00:00, 92.58it/s] \n",
      "Training Epoch 370: 100%|██████████| 258/258 [00:02<00:00, 88.55it/s]\n",
      "Training Epoch 371: 100%|██████████| 258/258 [00:02<00:00, 92.91it/s]\n"
     ]
    },
    {
     "name": "stdout",
     "output_type": "stream",
     "text": [
      "Epoch 370 - Train Loss: 0.2967, Train MSE: 0.2971, Train MAE: 0.4112\n",
      "Epoch 370 - Validation Loss: 2.0946, Validation MSE: 2.0826, Validation MAE: 1.0897\n"
     ]
    },
    {
     "name": "stderr",
     "output_type": "stream",
     "text": [
      "Training Epoch 372: 100%|██████████| 258/258 [00:02<00:00, 94.12it/s] \n",
      "Training Epoch 373: 100%|██████████| 258/258 [00:02<00:00, 103.49it/s]\n",
      "Training Epoch 374: 100%|██████████| 258/258 [00:02<00:00, 105.38it/s]\n",
      "Training Epoch 375: 100%|██████████| 258/258 [00:02<00:00, 106.07it/s]\n",
      "Training Epoch 376: 100%|██████████| 258/258 [00:02<00:00, 101.02it/s]\n",
      "Training Epoch 377: 100%|██████████| 258/258 [00:02<00:00, 102.52it/s]\n",
      "Training Epoch 378: 100%|██████████| 258/258 [00:02<00:00, 105.72it/s]\n",
      "Training Epoch 379: 100%|██████████| 258/258 [00:02<00:00, 107.33it/s]\n",
      "Training Epoch 380: 100%|██████████| 258/258 [00:02<00:00, 96.86it/s] \n",
      "Training Epoch 381: 100%|██████████| 258/258 [00:02<00:00, 100.80it/s]\n"
     ]
    },
    {
     "name": "stdout",
     "output_type": "stream",
     "text": [
      "Epoch 380 - Train Loss: 0.3048, Train MSE: 0.3042, Train MAE: 0.4114\n",
      "Epoch 380 - Validation Loss: 2.1469, Validation MSE: 2.1398, Validation MAE: 1.1045\n"
     ]
    },
    {
     "name": "stderr",
     "output_type": "stream",
     "text": [
      "Training Epoch 382: 100%|██████████| 258/258 [00:02<00:00, 102.88it/s]\n",
      "Training Epoch 383: 100%|██████████| 258/258 [00:02<00:00, 94.52it/s] \n",
      "Training Epoch 384: 100%|██████████| 258/258 [00:02<00:00, 108.18it/s]\n",
      "Training Epoch 385: 100%|██████████| 258/258 [00:02<00:00, 102.15it/s]\n",
      "Training Epoch 386: 100%|██████████| 258/258 [00:02<00:00, 106.32it/s]\n",
      "Training Epoch 387: 100%|██████████| 258/258 [00:02<00:00, 96.05it/s] \n",
      "Training Epoch 388: 100%|██████████| 258/258 [00:02<00:00, 104.49it/s]\n",
      "Training Epoch 389: 100%|██████████| 258/258 [00:02<00:00, 101.57it/s]\n",
      "Training Epoch 390: 100%|██████████| 258/258 [00:02<00:00, 96.54it/s] \n",
      "Training Epoch 391: 100%|██████████| 258/258 [00:02<00:00, 104.56it/s]\n"
     ]
    },
    {
     "name": "stdout",
     "output_type": "stream",
     "text": [
      "Epoch 390 - Train Loss: 0.2986, Train MSE: 0.2987, Train MAE: 0.4051\n",
      "Epoch 390 - Validation Loss: 2.0918, Validation MSE: 2.0970, Validation MAE: 1.0943\n"
     ]
    },
    {
     "name": "stderr",
     "output_type": "stream",
     "text": [
      "Training Epoch 392: 100%|██████████| 258/258 [00:02<00:00, 101.73it/s]\n",
      "Training Epoch 393: 100%|██████████| 258/258 [00:02<00:00, 107.74it/s]\n",
      "Training Epoch 394: 100%|██████████| 258/258 [00:02<00:00, 107.84it/s]\n",
      "Training Epoch 395: 100%|██████████| 258/258 [00:02<00:00, 97.13it/s] \n",
      "Training Epoch 396: 100%|██████████| 258/258 [00:02<00:00, 105.13it/s]\n",
      "Training Epoch 397: 100%|██████████| 258/258 [00:02<00:00, 93.15it/s] \n",
      "Training Epoch 398: 100%|██████████| 258/258 [00:02<00:00, 91.83it/s] \n",
      "Training Epoch 399: 100%|██████████| 258/258 [00:02<00:00, 101.28it/s]\n",
      "Training Epoch 400: 100%|██████████| 258/258 [00:02<00:00, 95.60it/s] \n",
      "Training Epoch 401: 100%|██████████| 258/258 [00:03<00:00, 75.17it/s]\n"
     ]
    },
    {
     "name": "stdout",
     "output_type": "stream",
     "text": [
      "Epoch 400 - Train Loss: 0.2863, Train MSE: 0.2862, Train MAE: 0.4042\n",
      "Epoch 400 - Validation Loss: 2.1197, Validation MSE: 2.1204, Validation MAE: 1.1112\n"
     ]
    },
    {
     "name": "stderr",
     "output_type": "stream",
     "text": [
      "Training Epoch 402: 100%|██████████| 258/258 [00:02<00:00, 90.30it/s] \n",
      "Training Epoch 403: 100%|██████████| 258/258 [00:02<00:00, 96.78it/s] \n",
      "Training Epoch 404: 100%|██████████| 258/258 [00:02<00:00, 93.30it/s] \n",
      "Training Epoch 405: 100%|██████████| 258/258 [00:02<00:00, 89.63it/s] \n",
      "Training Epoch 406: 100%|██████████| 258/258 [00:03<00:00, 85.15it/s] \n",
      "Training Epoch 407: 100%|██████████| 258/258 [00:02<00:00, 94.12it/s] \n",
      "Training Epoch 408: 100%|██████████| 258/258 [00:02<00:00, 103.41it/s]\n",
      "Training Epoch 409: 100%|██████████| 258/258 [00:02<00:00, 99.51it/s] \n",
      "Training Epoch 410: 100%|██████████| 258/258 [00:02<00:00, 99.65it/s] \n",
      "Training Epoch 411: 100%|██████████| 258/258 [00:02<00:00, 108.51it/s]\n"
     ]
    },
    {
     "name": "stdout",
     "output_type": "stream",
     "text": [
      "Epoch 410 - Train Loss: 0.2775, Train MSE: 0.2779, Train MAE: 0.3983\n",
      "Epoch 410 - Validation Loss: 2.0883, Validation MSE: 2.0709, Validation MAE: 1.0875\n"
     ]
    },
    {
     "name": "stderr",
     "output_type": "stream",
     "text": [
      "Training Epoch 412: 100%|██████████| 258/258 [00:02<00:00, 105.99it/s]\n",
      "Training Epoch 413: 100%|██████████| 258/258 [00:02<00:00, 92.73it/s] \n",
      "Training Epoch 414: 100%|██████████| 258/258 [00:02<00:00, 98.88it/s] \n",
      "Training Epoch 415: 100%|██████████| 258/258 [00:02<00:00, 101.56it/s]\n",
      "Training Epoch 416: 100%|██████████| 258/258 [00:02<00:00, 99.23it/s] \n",
      "Training Epoch 417: 100%|██████████| 258/258 [00:02<00:00, 102.49it/s]\n",
      "Training Epoch 418: 100%|██████████| 258/258 [00:02<00:00, 100.12it/s]\n",
      "Training Epoch 419: 100%|██████████| 258/258 [00:02<00:00, 96.71it/s] \n",
      "Training Epoch 420: 100%|██████████| 258/258 [00:02<00:00, 107.25it/s]\n",
      "Training Epoch 421: 100%|██████████| 258/258 [00:02<00:00, 106.78it/s]\n"
     ]
    },
    {
     "name": "stdout",
     "output_type": "stream",
     "text": [
      "Epoch 420 - Train Loss: 0.2777, Train MSE: 0.2779, Train MAE: 0.3985\n",
      "Epoch 420 - Validation Loss: 2.0401, Validation MSE: 2.0240, Validation MAE: 1.0765\n"
     ]
    },
    {
     "name": "stderr",
     "output_type": "stream",
     "text": [
      "Training Epoch 422: 100%|██████████| 258/258 [00:02<00:00, 106.17it/s]\n",
      "Training Epoch 423: 100%|██████████| 258/258 [00:02<00:00, 103.78it/s]\n",
      "Training Epoch 424: 100%|██████████| 258/258 [00:02<00:00, 104.37it/s]\n",
      "Training Epoch 425: 100%|██████████| 258/258 [00:02<00:00, 107.16it/s]\n",
      "Training Epoch 426: 100%|██████████| 258/258 [00:02<00:00, 104.53it/s]\n",
      "Training Epoch 427: 100%|██████████| 258/258 [00:02<00:00, 108.84it/s]\n",
      "Training Epoch 428: 100%|██████████| 258/258 [00:02<00:00, 108.08it/s]\n",
      "Training Epoch 429: 100%|██████████| 258/258 [00:02<00:00, 105.67it/s]\n",
      "Training Epoch 430: 100%|██████████| 258/258 [00:02<00:00, 102.73it/s]\n",
      "Training Epoch 431: 100%|██████████| 258/258 [00:02<00:00, 98.38it/s] \n"
     ]
    },
    {
     "name": "stdout",
     "output_type": "stream",
     "text": [
      "Epoch 430 - Train Loss: 0.2794, Train MSE: 0.2796, Train MAE: 0.3981\n",
      "Epoch 430 - Validation Loss: 2.0487, Validation MSE: 2.0361, Validation MAE: 1.0813\n"
     ]
    },
    {
     "name": "stderr",
     "output_type": "stream",
     "text": [
      "Training Epoch 432: 100%|██████████| 258/258 [00:02<00:00, 108.36it/s]\n",
      "Training Epoch 433: 100%|██████████| 258/258 [00:02<00:00, 105.74it/s]\n",
      "Training Epoch 434: 100%|██████████| 258/258 [00:02<00:00, 107.36it/s]\n",
      "Training Epoch 435: 100%|██████████| 258/258 [00:02<00:00, 87.76it/s] \n",
      "Training Epoch 436: 100%|██████████| 258/258 [00:03<00:00, 66.48it/s]\n",
      "Training Epoch 437: 100%|██████████| 258/258 [00:02<00:00, 90.81it/s]\n",
      "Training Epoch 438: 100%|██████████| 258/258 [00:02<00:00, 97.64it/s] \n",
      "Training Epoch 439: 100%|██████████| 258/258 [00:02<00:00, 108.00it/s]\n",
      "Training Epoch 440: 100%|██████████| 258/258 [00:02<00:00, 106.39it/s]\n",
      "Training Epoch 441: 100%|██████████| 258/258 [00:02<00:00, 107.52it/s]\n"
     ]
    },
    {
     "name": "stdout",
     "output_type": "stream",
     "text": [
      "Epoch 440 - Train Loss: 0.2722, Train MSE: 0.2712, Train MAE: 0.3912\n",
      "Epoch 440 - Validation Loss: 2.0281, Validation MSE: 2.0219, Validation MAE: 1.0781\n"
     ]
    },
    {
     "name": "stderr",
     "output_type": "stream",
     "text": [
      "Training Epoch 442: 100%|██████████| 258/258 [00:02<00:00, 102.72it/s]\n",
      "Training Epoch 443: 100%|██████████| 258/258 [00:02<00:00, 92.14it/s] \n",
      "Training Epoch 444: 100%|██████████| 258/258 [00:03<00:00, 85.28it/s] \n",
      "Training Epoch 445: 100%|██████████| 258/258 [00:02<00:00, 86.66it/s]\n",
      "Training Epoch 446: 100%|██████████| 258/258 [00:02<00:00, 98.76it/s] \n",
      "Training Epoch 447: 100%|██████████| 258/258 [00:02<00:00, 103.63it/s]\n",
      "Training Epoch 448: 100%|██████████| 258/258 [00:02<00:00, 102.95it/s]\n",
      "Training Epoch 449: 100%|██████████| 258/258 [00:02<00:00, 108.15it/s]\n",
      "Training Epoch 450: 100%|██████████| 258/258 [00:02<00:00, 106.20it/s]\n",
      "Training Epoch 451: 100%|██████████| 258/258 [00:02<00:00, 108.06it/s]\n"
     ]
    },
    {
     "name": "stdout",
     "output_type": "stream",
     "text": [
      "Epoch 450 - Train Loss: 0.2632, Train MSE: 0.2637, Train MAE: 0.3884\n",
      "Epoch 450 - Validation Loss: 2.0633, Validation MSE: 2.0471, Validation MAE: 1.0849\n"
     ]
    },
    {
     "name": "stderr",
     "output_type": "stream",
     "text": [
      "Training Epoch 452: 100%|██████████| 258/258 [00:02<00:00, 106.13it/s]\n",
      "Training Epoch 453: 100%|██████████| 258/258 [00:02<00:00, 102.66it/s]\n",
      "Training Epoch 454: 100%|██████████| 258/258 [00:02<00:00, 104.22it/s]\n",
      "Training Epoch 455: 100%|██████████| 258/258 [00:02<00:00, 107.11it/s]\n",
      "Training Epoch 456: 100%|██████████| 258/258 [00:02<00:00, 109.56it/s]\n",
      "Training Epoch 457: 100%|██████████| 258/258 [00:02<00:00, 107.99it/s]\n",
      "Training Epoch 458: 100%|██████████| 258/258 [00:02<00:00, 99.19it/s] \n",
      "Training Epoch 459: 100%|██████████| 258/258 [00:02<00:00, 108.37it/s]\n",
      "Training Epoch 460: 100%|██████████| 258/258 [00:02<00:00, 104.67it/s]\n",
      "Training Epoch 461: 100%|██████████| 258/258 [00:02<00:00, 112.49it/s]\n"
     ]
    },
    {
     "name": "stdout",
     "output_type": "stream",
     "text": [
      "Epoch 460 - Train Loss: 0.2674, Train MSE: 0.2674, Train MAE: 0.3924\n",
      "Epoch 460 - Validation Loss: 2.1163, Validation MSE: 2.1027, Validation MAE: 1.0986\n"
     ]
    },
    {
     "name": "stderr",
     "output_type": "stream",
     "text": [
      "Training Epoch 462: 100%|██████████| 258/258 [00:02<00:00, 105.22it/s]\n",
      "Training Epoch 463: 100%|██████████| 258/258 [00:02<00:00, 104.72it/s]\n",
      "Training Epoch 464: 100%|██████████| 258/258 [00:02<00:00, 108.90it/s]\n",
      "Training Epoch 465: 100%|██████████| 258/258 [00:02<00:00, 109.60it/s]\n",
      "Training Epoch 466: 100%|██████████| 258/258 [00:02<00:00, 108.48it/s]\n",
      "Training Epoch 467: 100%|██████████| 258/258 [00:02<00:00, 107.61it/s]\n",
      "Training Epoch 468: 100%|██████████| 258/258 [00:02<00:00, 108.98it/s]\n",
      "Training Epoch 469: 100%|██████████| 258/258 [00:02<00:00, 109.72it/s]\n",
      "Training Epoch 470: 100%|██████████| 258/258 [00:02<00:00, 109.59it/s]\n",
      "Training Epoch 471: 100%|██████████| 258/258 [00:02<00:00, 111.66it/s]\n"
     ]
    },
    {
     "name": "stdout",
     "output_type": "stream",
     "text": [
      "Epoch 470 - Train Loss: 0.2750, Train MSE: 0.2728, Train MAE: 0.3904\n",
      "Epoch 470 - Validation Loss: 2.0889, Validation MSE: 2.0797, Validation MAE: 1.1006\n"
     ]
    },
    {
     "name": "stderr",
     "output_type": "stream",
     "text": [
      "Training Epoch 472: 100%|██████████| 258/258 [00:02<00:00, 107.40it/s]\n",
      "Training Epoch 473: 100%|██████████| 258/258 [00:02<00:00, 100.66it/s]\n",
      "Training Epoch 474: 100%|██████████| 258/258 [00:02<00:00, 110.66it/s]\n",
      "Training Epoch 475: 100%|██████████| 258/258 [00:02<00:00, 114.57it/s]\n",
      "Training Epoch 476: 100%|██████████| 258/258 [00:02<00:00, 106.54it/s]\n",
      "Training Epoch 477: 100%|██████████| 258/258 [00:02<00:00, 109.55it/s]\n",
      "Training Epoch 478: 100%|██████████| 258/258 [00:02<00:00, 109.05it/s]\n",
      "Training Epoch 479: 100%|██████████| 258/258 [00:02<00:00, 107.79it/s]\n",
      "Training Epoch 480: 100%|██████████| 258/258 [00:02<00:00, 112.76it/s]\n",
      "Training Epoch 481: 100%|██████████| 258/258 [00:02<00:00, 108.01it/s]\n"
     ]
    },
    {
     "name": "stdout",
     "output_type": "stream",
     "text": [
      "Epoch 480 - Train Loss: 0.2485, Train MSE: 0.2485, Train MAE: 0.3771\n",
      "Epoch 480 - Validation Loss: 1.9955, Validation MSE: 1.9889, Validation MAE: 1.0613\n"
     ]
    },
    {
     "name": "stderr",
     "output_type": "stream",
     "text": [
      "Training Epoch 482: 100%|██████████| 258/258 [00:02<00:00, 95.46it/s] \n",
      "Training Epoch 483: 100%|██████████| 258/258 [00:02<00:00, 106.40it/s]\n",
      "Training Epoch 484: 100%|██████████| 258/258 [00:02<00:00, 108.93it/s]\n",
      "Training Epoch 485: 100%|██████████| 258/258 [00:02<00:00, 106.95it/s]\n",
      "Training Epoch 486: 100%|██████████| 258/258 [00:02<00:00, 103.36it/s]\n",
      "Training Epoch 487: 100%|██████████| 258/258 [00:02<00:00, 97.98it/s] \n",
      "Training Epoch 488: 100%|██████████| 258/258 [00:02<00:00, 102.03it/s]\n",
      "Training Epoch 489: 100%|██████████| 258/258 [00:02<00:00, 104.82it/s]\n",
      "Training Epoch 490: 100%|██████████| 258/258 [00:02<00:00, 108.82it/s]\n",
      "Training Epoch 491: 100%|██████████| 258/258 [00:02<00:00, 102.41it/s]\n"
     ]
    },
    {
     "name": "stdout",
     "output_type": "stream",
     "text": [
      "Epoch 490 - Train Loss: 0.2571, Train MSE: 0.2571, Train MAE: 0.3818\n",
      "Epoch 490 - Validation Loss: 2.0788, Validation MSE: 2.0721, Validation MAE: 1.0900\n"
     ]
    },
    {
     "name": "stderr",
     "output_type": "stream",
     "text": [
      "Training Epoch 492: 100%|██████████| 258/258 [00:02<00:00, 105.00it/s]\n",
      "Training Epoch 493: 100%|██████████| 258/258 [00:02<00:00, 108.39it/s]\n",
      "Training Epoch 494: 100%|██████████| 258/258 [00:02<00:00, 107.55it/s]\n",
      "Training Epoch 495: 100%|██████████| 258/258 [00:02<00:00, 106.90it/s]\n",
      "Training Epoch 496: 100%|██████████| 258/258 [00:02<00:00, 111.91it/s]\n",
      "Training Epoch 497: 100%|██████████| 258/258 [00:02<00:00, 109.86it/s]\n",
      "Training Epoch 498: 100%|██████████| 258/258 [00:02<00:00, 107.69it/s]\n",
      "Training Epoch 499: 100%|██████████| 258/258 [00:02<00:00, 110.70it/s]\n",
      "Training Epoch 500: 100%|██████████| 258/258 [00:02<00:00, 103.84it/s]\n",
      "Training Epoch 501: 100%|██████████| 258/258 [00:02<00:00, 102.78it/s]\n"
     ]
    },
    {
     "name": "stdout",
     "output_type": "stream",
     "text": [
      "Epoch 500 - Train Loss: 0.2546, Train MSE: 0.2553, Train MAE: 0.3786\n",
      "Epoch 500 - Validation Loss: 2.0869, Validation MSE: 2.0829, Validation MAE: 1.0898\n"
     ]
    },
    {
     "name": "stderr",
     "output_type": "stream",
     "text": [
      "Training Epoch 502: 100%|██████████| 258/258 [00:02<00:00, 97.66it/s] \n",
      "Training Epoch 503: 100%|██████████| 258/258 [00:02<00:00, 95.13it/s] \n",
      "Training Epoch 504: 100%|██████████| 258/258 [00:02<00:00, 102.43it/s]\n",
      "Training Epoch 505: 100%|██████████| 258/258 [00:03<00:00, 83.47it/s] \n",
      "Training Epoch 506: 100%|██████████| 258/258 [00:02<00:00, 100.61it/s]\n",
      "Training Epoch 507: 100%|██████████| 258/258 [00:03<00:00, 82.53it/s] \n",
      "Training Epoch 508: 100%|██████████| 258/258 [00:02<00:00, 93.52it/s] \n",
      "Training Epoch 509: 100%|██████████| 258/258 [00:02<00:00, 95.31it/s]\n",
      "Training Epoch 510: 100%|██████████| 258/258 [00:02<00:00, 92.07it/s] \n",
      "Training Epoch 511: 100%|██████████| 258/258 [00:03<00:00, 82.00it/s]\n"
     ]
    },
    {
     "name": "stdout",
     "output_type": "stream",
     "text": [
      "Epoch 510 - Train Loss: 0.2468, Train MSE: 0.2463, Train MAE: 0.3764\n",
      "Epoch 510 - Validation Loss: 2.0736, Validation MSE: 2.0683, Validation MAE: 1.0798\n"
     ]
    },
    {
     "name": "stderr",
     "output_type": "stream",
     "text": [
      "Training Epoch 512: 100%|██████████| 258/258 [00:02<00:00, 98.90it/s] \n",
      "Training Epoch 513: 100%|██████████| 258/258 [00:02<00:00, 98.42it/s] \n",
      "Training Epoch 514: 100%|██████████| 258/258 [00:02<00:00, 103.15it/s]\n",
      "Training Epoch 515: 100%|██████████| 258/258 [00:02<00:00, 99.98it/s] \n",
      "Training Epoch 516: 100%|██████████| 258/258 [00:02<00:00, 102.55it/s]\n",
      "Training Epoch 517: 100%|██████████| 258/258 [00:02<00:00, 102.36it/s]\n",
      "Training Epoch 518: 100%|██████████| 258/258 [00:02<00:00, 103.37it/s]\n",
      "Training Epoch 519: 100%|██████████| 258/258 [00:02<00:00, 102.66it/s]\n",
      "Training Epoch 520: 100%|██████████| 258/258 [00:02<00:00, 105.83it/s]\n",
      "Training Epoch 521: 100%|██████████| 258/258 [00:02<00:00, 99.42it/s] \n"
     ]
    },
    {
     "name": "stdout",
     "output_type": "stream",
     "text": [
      "Epoch 520 - Train Loss: 0.2549, Train MSE: 0.2551, Train MAE: 0.3768\n",
      "Epoch 520 - Validation Loss: 2.0747, Validation MSE: 2.0632, Validation MAE: 1.0751\n"
     ]
    },
    {
     "name": "stderr",
     "output_type": "stream",
     "text": [
      "Training Epoch 522: 100%|██████████| 258/258 [00:02<00:00, 104.90it/s]\n",
      "Training Epoch 523: 100%|██████████| 258/258 [00:02<00:00, 104.32it/s]\n",
      "Training Epoch 524: 100%|██████████| 258/258 [00:02<00:00, 106.59it/s]\n",
      "Training Epoch 525: 100%|██████████| 258/258 [00:02<00:00, 103.62it/s]\n",
      "Training Epoch 526: 100%|██████████| 258/258 [00:02<00:00, 101.56it/s]\n",
      "Training Epoch 527: 100%|██████████| 258/258 [00:02<00:00, 91.41it/s] \n",
      "Training Epoch 528: 100%|██████████| 258/258 [00:02<00:00, 101.71it/s]\n",
      "Training Epoch 529: 100%|██████████| 258/258 [00:02<00:00, 102.36it/s]\n",
      "Training Epoch 530: 100%|██████████| 258/258 [00:02<00:00, 104.69it/s]\n",
      "Training Epoch 531: 100%|██████████| 258/258 [00:02<00:00, 106.93it/s]\n"
     ]
    },
    {
     "name": "stdout",
     "output_type": "stream",
     "text": [
      "Epoch 530 - Train Loss: 0.2466, Train MSE: 0.2469, Train MAE: 0.3729\n",
      "Epoch 530 - Validation Loss: 2.0531, Validation MSE: 2.0418, Validation MAE: 1.0809\n"
     ]
    },
    {
     "name": "stderr",
     "output_type": "stream",
     "text": [
      "Training Epoch 532: 100%|██████████| 258/258 [00:02<00:00, 105.74it/s]\n",
      "Training Epoch 533: 100%|██████████| 258/258 [00:02<00:00, 98.80it/s] \n",
      "Training Epoch 534: 100%|██████████| 258/258 [00:02<00:00, 105.79it/s]\n",
      "Training Epoch 535: 100%|██████████| 258/258 [00:02<00:00, 105.29it/s]\n",
      "Training Epoch 536: 100%|██████████| 258/258 [00:02<00:00, 99.32it/s] \n",
      "Training Epoch 537: 100%|██████████| 258/258 [00:02<00:00, 103.53it/s]\n",
      "Training Epoch 538: 100%|██████████| 258/258 [00:02<00:00, 102.21it/s]\n",
      "Training Epoch 539: 100%|██████████| 258/258 [00:02<00:00, 104.12it/s]\n",
      "Training Epoch 540: 100%|██████████| 258/258 [00:02<00:00, 102.30it/s]\n",
      "Training Epoch 541: 100%|██████████| 258/258 [00:02<00:00, 105.79it/s]\n"
     ]
    },
    {
     "name": "stdout",
     "output_type": "stream",
     "text": [
      "Epoch 540 - Train Loss: 0.2419, Train MSE: 0.2410, Train MAE: 0.3694\n",
      "Epoch 540 - Validation Loss: 2.0040, Validation MSE: 1.9937, Validation MAE: 1.0660\n"
     ]
    },
    {
     "name": "stderr",
     "output_type": "stream",
     "text": [
      "Training Epoch 542: 100%|██████████| 258/258 [00:02<00:00, 104.03it/s]\n",
      "Training Epoch 543: 100%|██████████| 258/258 [00:02<00:00, 103.52it/s]\n",
      "Training Epoch 544: 100%|██████████| 258/258 [00:02<00:00, 106.41it/s]\n",
      "Training Epoch 545: 100%|██████████| 258/258 [00:02<00:00, 103.76it/s]\n",
      "Training Epoch 546: 100%|██████████| 258/258 [00:02<00:00, 100.88it/s]\n",
      "Training Epoch 547: 100%|██████████| 258/258 [00:02<00:00, 102.73it/s]\n",
      "Training Epoch 548: 100%|██████████| 258/258 [00:02<00:00, 108.51it/s]\n",
      "Training Epoch 549: 100%|██████████| 258/258 [00:02<00:00, 92.11it/s] \n",
      "Training Epoch 550: 100%|██████████| 258/258 [00:02<00:00, 92.88it/s] \n",
      "Training Epoch 551: 100%|██████████| 258/258 [00:02<00:00, 100.28it/s]\n"
     ]
    },
    {
     "name": "stdout",
     "output_type": "stream",
     "text": [
      "Epoch 550 - Train Loss: 0.2388, Train MSE: 0.2387, Train MAE: 0.3684\n",
      "Epoch 550 - Validation Loss: 2.0579, Validation MSE: 2.0528, Validation MAE: 1.0788\n"
     ]
    },
    {
     "name": "stderr",
     "output_type": "stream",
     "text": [
      "Training Epoch 552: 100%|██████████| 258/258 [00:02<00:00, 96.96it/s] \n",
      "Training Epoch 553: 100%|██████████| 258/258 [00:02<00:00, 101.98it/s]\n",
      "Training Epoch 554: 100%|██████████| 258/258 [00:02<00:00, 103.73it/s]\n",
      "Training Epoch 555: 100%|██████████| 258/258 [00:02<00:00, 100.85it/s]\n",
      "Training Epoch 556: 100%|██████████| 258/258 [00:02<00:00, 106.15it/s]\n",
      "Training Epoch 557: 100%|██████████| 258/258 [00:02<00:00, 102.94it/s]\n",
      "Training Epoch 558: 100%|██████████| 258/258 [00:02<00:00, 101.65it/s]\n",
      "Training Epoch 559: 100%|██████████| 258/258 [00:02<00:00, 103.05it/s]\n",
      "Training Epoch 560: 100%|██████████| 258/258 [00:02<00:00, 105.38it/s]\n",
      "Training Epoch 561: 100%|██████████| 258/258 [00:02<00:00, 105.01it/s]\n"
     ]
    },
    {
     "name": "stdout",
     "output_type": "stream",
     "text": [
      "Epoch 560 - Train Loss: 0.2400, Train MSE: 0.2397, Train MAE: 0.3696\n",
      "Epoch 560 - Validation Loss: 2.0631, Validation MSE: 2.0586, Validation MAE: 1.0730\n"
     ]
    },
    {
     "name": "stderr",
     "output_type": "stream",
     "text": [
      "Training Epoch 562: 100%|██████████| 258/258 [00:02<00:00, 104.68it/s]\n",
      "Training Epoch 563: 100%|██████████| 258/258 [00:02<00:00, 104.42it/s]\n",
      "Training Epoch 564: 100%|██████████| 258/258 [00:02<00:00, 103.66it/s]\n",
      "Training Epoch 565: 100%|██████████| 258/258 [00:02<00:00, 102.33it/s]\n",
      "Training Epoch 566: 100%|██████████| 258/258 [00:02<00:00, 104.13it/s]\n",
      "Training Epoch 567: 100%|██████████| 258/258 [00:02<00:00, 108.75it/s]\n",
      "Training Epoch 568: 100%|██████████| 258/258 [00:02<00:00, 103.57it/s]\n",
      "Training Epoch 569: 100%|██████████| 258/258 [00:02<00:00, 103.50it/s]\n",
      "Training Epoch 570: 100%|██████████| 258/258 [00:02<00:00, 99.21it/s] \n",
      "Training Epoch 571: 100%|██████████| 258/258 [00:02<00:00, 102.12it/s]\n"
     ]
    },
    {
     "name": "stdout",
     "output_type": "stream",
     "text": [
      "Epoch 570 - Train Loss: 0.2342, Train MSE: 0.2345, Train MAE: 0.3637\n",
      "Epoch 570 - Validation Loss: 2.1224, Validation MSE: 2.1133, Validation MAE: 1.0904\n"
     ]
    },
    {
     "name": "stderr",
     "output_type": "stream",
     "text": [
      "Training Epoch 572: 100%|██████████| 258/258 [00:02<00:00, 97.15it/s] \n",
      "Training Epoch 573: 100%|██████████| 258/258 [00:02<00:00, 101.40it/s]\n",
      "Training Epoch 574: 100%|██████████| 258/258 [00:02<00:00, 92.01it/s] \n",
      "Training Epoch 575: 100%|██████████| 258/258 [00:02<00:00, 101.09it/s]\n",
      "Training Epoch 576: 100%|██████████| 258/258 [00:02<00:00, 95.97it/s] \n",
      "Training Epoch 577: 100%|██████████| 258/258 [00:02<00:00, 103.38it/s]\n",
      "Training Epoch 578: 100%|██████████| 258/258 [00:02<00:00, 101.03it/s]\n",
      "Training Epoch 579: 100%|██████████| 258/258 [00:02<00:00, 102.65it/s]\n",
      "Training Epoch 580: 100%|██████████| 258/258 [00:02<00:00, 102.19it/s]\n",
      "Training Epoch 581: 100%|██████████| 258/258 [00:02<00:00, 102.07it/s]\n"
     ]
    },
    {
     "name": "stdout",
     "output_type": "stream",
     "text": [
      "Epoch 580 - Train Loss: 0.2228, Train MSE: 0.2232, Train MAE: 0.3560\n",
      "Epoch 580 - Validation Loss: 1.9902, Validation MSE: 1.9813, Validation MAE: 1.0630\n"
     ]
    },
    {
     "name": "stderr",
     "output_type": "stream",
     "text": [
      "Training Epoch 582: 100%|██████████| 258/258 [00:02<00:00, 103.33it/s]\n",
      "Training Epoch 583: 100%|██████████| 258/258 [00:02<00:00, 102.34it/s]\n",
      "Training Epoch 584: 100%|██████████| 258/258 [00:02<00:00, 108.47it/s]\n",
      "Training Epoch 585: 100%|██████████| 258/258 [00:02<00:00, 99.01it/s] \n",
      "Training Epoch 586: 100%|██████████| 258/258 [00:02<00:00, 103.30it/s]\n",
      "Training Epoch 587: 100%|██████████| 258/258 [00:02<00:00, 101.22it/s]\n",
      "Training Epoch 588: 100%|██████████| 258/258 [00:02<00:00, 98.10it/s] \n",
      "Training Epoch 589: 100%|██████████| 258/258 [00:02<00:00, 98.98it/s] \n",
      "Training Epoch 590: 100%|██████████| 258/258 [00:02<00:00, 103.09it/s]\n",
      "Training Epoch 591: 100%|██████████| 258/258 [00:02<00:00, 102.45it/s]\n"
     ]
    },
    {
     "name": "stdout",
     "output_type": "stream",
     "text": [
      "Epoch 590 - Train Loss: 0.2308, Train MSE: 0.2308, Train MAE: 0.3603\n",
      "Epoch 590 - Validation Loss: 2.0356, Validation MSE: 2.0292, Validation MAE: 1.0760\n"
     ]
    },
    {
     "name": "stderr",
     "output_type": "stream",
     "text": [
      "Training Epoch 592: 100%|██████████| 258/258 [00:02<00:00, 103.29it/s]\n",
      "Training Epoch 593: 100%|██████████| 258/258 [00:02<00:00, 104.66it/s]\n",
      "Training Epoch 594: 100%|██████████| 258/258 [00:02<00:00, 93.56it/s] \n",
      "Training Epoch 595: 100%|██████████| 258/258 [00:02<00:00, 101.21it/s]\n",
      "Training Epoch 596: 100%|██████████| 258/258 [00:02<00:00, 104.18it/s]\n",
      "Training Epoch 597: 100%|██████████| 258/258 [00:02<00:00, 103.48it/s]\n",
      "Training Epoch 598: 100%|██████████| 258/258 [00:02<00:00, 105.86it/s]\n",
      "Training Epoch 599: 100%|██████████| 258/258 [00:02<00:00, 101.90it/s]\n",
      "Training Epoch 600: 100%|██████████| 258/258 [00:02<00:00, 102.19it/s]\n",
      "Training Epoch 601: 100%|██████████| 258/258 [00:02<00:00, 103.87it/s]\n"
     ]
    },
    {
     "name": "stdout",
     "output_type": "stream",
     "text": [
      "Epoch 600 - Train Loss: 0.2207, Train MSE: 0.2203, Train MAE: 0.3530\n",
      "Epoch 600 - Validation Loss: 2.0584, Validation MSE: 2.0499, Validation MAE: 1.0811\n"
     ]
    },
    {
     "name": "stderr",
     "output_type": "stream",
     "text": [
      "Training Epoch 602: 100%|██████████| 258/258 [00:02<00:00, 105.48it/s]\n",
      "Training Epoch 603: 100%|██████████| 258/258 [00:02<00:00, 99.47it/s] \n",
      "Training Epoch 604: 100%|██████████| 258/258 [00:02<00:00, 104.38it/s]\n",
      "Training Epoch 605: 100%|██████████| 258/258 [00:02<00:00, 105.68it/s]\n",
      "Training Epoch 606: 100%|██████████| 258/258 [00:02<00:00, 99.50it/s] \n",
      "Training Epoch 607: 100%|██████████| 258/258 [00:02<00:00, 106.10it/s]\n",
      "Training Epoch 608: 100%|██████████| 258/258 [00:02<00:00, 100.48it/s]\n",
      "Training Epoch 609: 100%|██████████| 258/258 [00:02<00:00, 110.55it/s]\n",
      "Training Epoch 610: 100%|██████████| 258/258 [00:02<00:00, 108.30it/s]\n",
      "Training Epoch 611: 100%|██████████| 258/258 [00:02<00:00, 105.44it/s]\n"
     ]
    },
    {
     "name": "stdout",
     "output_type": "stream",
     "text": [
      "Epoch 610 - Train Loss: 0.2326, Train MSE: 0.2321, Train MAE: 0.3612\n",
      "Epoch 610 - Validation Loss: 2.0507, Validation MSE: 2.0446, Validation MAE: 1.0790\n"
     ]
    },
    {
     "name": "stderr",
     "output_type": "stream",
     "text": [
      "Training Epoch 612: 100%|██████████| 258/258 [00:02<00:00, 102.04it/s]\n",
      "Training Epoch 613: 100%|██████████| 258/258 [00:02<00:00, 104.15it/s]\n",
      "Training Epoch 614: 100%|██████████| 258/258 [00:02<00:00, 105.04it/s]\n",
      "Training Epoch 615: 100%|██████████| 258/258 [00:02<00:00, 99.77it/s] \n",
      "Training Epoch 616: 100%|██████████| 258/258 [00:02<00:00, 99.42it/s] \n",
      "Training Epoch 617: 100%|██████████| 258/258 [00:03<00:00, 82.66it/s] \n",
      "Training Epoch 618: 100%|██████████| 258/258 [00:02<00:00, 94.62it/s] \n",
      "Training Epoch 619: 100%|██████████| 258/258 [00:02<00:00, 97.16it/s] \n",
      "Training Epoch 620: 100%|██████████| 258/258 [00:02<00:00, 100.87it/s]\n",
      "Training Epoch 621: 100%|██████████| 258/258 [00:02<00:00, 103.94it/s]\n"
     ]
    },
    {
     "name": "stdout",
     "output_type": "stream",
     "text": [
      "Epoch 620 - Train Loss: 0.2233, Train MSE: 0.2232, Train MAE: 0.3556\n",
      "Epoch 620 - Validation Loss: 2.0901, Validation MSE: 2.0753, Validation MAE: 1.0828\n"
     ]
    },
    {
     "name": "stderr",
     "output_type": "stream",
     "text": [
      "Training Epoch 622: 100%|██████████| 258/258 [00:02<00:00, 101.78it/s]\n",
      "Training Epoch 623: 100%|██████████| 258/258 [00:02<00:00, 105.22it/s]\n",
      "Training Epoch 624: 100%|██████████| 258/258 [00:02<00:00, 101.11it/s]\n",
      "Training Epoch 625: 100%|██████████| 258/258 [00:02<00:00, 104.66it/s]\n",
      "Training Epoch 626: 100%|██████████| 258/258 [00:02<00:00, 105.36it/s]\n",
      "Training Epoch 627: 100%|██████████| 258/258 [00:02<00:00, 106.72it/s]\n",
      "Training Epoch 628: 100%|██████████| 258/258 [00:02<00:00, 102.73it/s]\n",
      "Training Epoch 629: 100%|██████████| 258/258 [00:02<00:00, 106.19it/s]\n",
      "Training Epoch 630: 100%|██████████| 258/258 [00:02<00:00, 95.94it/s] \n",
      "Training Epoch 631: 100%|██████████| 258/258 [00:02<00:00, 104.48it/s]\n"
     ]
    },
    {
     "name": "stdout",
     "output_type": "stream",
     "text": [
      "Epoch 630 - Train Loss: 0.2274, Train MSE: 0.2275, Train MAE: 0.3569\n",
      "Epoch 630 - Validation Loss: 2.0185, Validation MSE: 2.0109, Validation MAE: 1.0683\n"
     ]
    },
    {
     "name": "stderr",
     "output_type": "stream",
     "text": [
      "Training Epoch 632: 100%|██████████| 258/258 [00:02<00:00, 106.19it/s]\n",
      "Training Epoch 633: 100%|██████████| 258/258 [00:02<00:00, 103.93it/s]\n",
      "Training Epoch 634: 100%|██████████| 258/258 [00:02<00:00, 105.86it/s]\n",
      "Training Epoch 635: 100%|██████████| 258/258 [00:02<00:00, 103.12it/s]\n",
      "Training Epoch 636: 100%|██████████| 258/258 [00:02<00:00, 100.24it/s]\n",
      "Training Epoch 637: 100%|██████████| 258/258 [00:02<00:00, 104.31it/s]\n",
      "Training Epoch 638: 100%|██████████| 258/258 [00:02<00:00, 105.47it/s]\n",
      "Training Epoch 639: 100%|██████████| 258/258 [00:02<00:00, 108.79it/s]\n",
      "Training Epoch 640: 100%|██████████| 258/258 [00:02<00:00, 95.85it/s] \n",
      "Training Epoch 641: 100%|██████████| 258/258 [00:02<00:00, 102.10it/s]\n"
     ]
    },
    {
     "name": "stdout",
     "output_type": "stream",
     "text": [
      "Epoch 640 - Train Loss: 0.2155, Train MSE: 0.2156, Train MAE: 0.3495\n",
      "Epoch 640 - Validation Loss: 2.0832, Validation MSE: 2.0710, Validation MAE: 1.0754\n"
     ]
    },
    {
     "name": "stderr",
     "output_type": "stream",
     "text": [
      "Training Epoch 642: 100%|██████████| 258/258 [00:02<00:00, 102.99it/s]\n",
      "Training Epoch 643: 100%|██████████| 258/258 [00:02<00:00, 97.89it/s] \n",
      "Training Epoch 644: 100%|██████████| 258/258 [00:02<00:00, 105.59it/s]\n",
      "Training Epoch 645: 100%|██████████| 258/258 [00:02<00:00, 101.97it/s]\n",
      "Training Epoch 646: 100%|██████████| 258/258 [00:02<00:00, 101.52it/s]\n",
      "Training Epoch 647: 100%|██████████| 258/258 [00:02<00:00, 102.25it/s]\n",
      "Training Epoch 648: 100%|██████████| 258/258 [00:02<00:00, 103.04it/s]\n",
      "Training Epoch 649: 100%|██████████| 258/258 [00:02<00:00, 104.76it/s]\n",
      "Training Epoch 650: 100%|██████████| 258/258 [00:02<00:00, 107.17it/s]\n",
      "Training Epoch 651: 100%|██████████| 258/258 [00:02<00:00, 103.52it/s]\n"
     ]
    },
    {
     "name": "stdout",
     "output_type": "stream",
     "text": [
      "Epoch 650 - Train Loss: 0.2217, Train MSE: 0.2219, Train MAE: 0.3497\n",
      "Epoch 650 - Validation Loss: 2.0426, Validation MSE: 2.0339, Validation MAE: 1.0700\n"
     ]
    },
    {
     "name": "stderr",
     "output_type": "stream",
     "text": [
      "Training Epoch 652: 100%|██████████| 258/258 [00:02<00:00, 102.22it/s]\n",
      "Training Epoch 653: 100%|██████████| 258/258 [00:02<00:00, 105.85it/s]\n",
      "Training Epoch 654: 100%|██████████| 258/258 [00:02<00:00, 102.55it/s]\n",
      "Training Epoch 655: 100%|██████████| 258/258 [00:02<00:00, 106.02it/s]\n",
      "Training Epoch 656: 100%|██████████| 258/258 [00:02<00:00, 101.59it/s]\n",
      "Training Epoch 657: 100%|██████████| 258/258 [00:02<00:00, 105.06it/s]\n",
      "Training Epoch 658: 100%|██████████| 258/258 [00:02<00:00, 107.26it/s]\n",
      "Training Epoch 659: 100%|██████████| 258/258 [00:02<00:00, 103.27it/s]\n",
      "Training Epoch 660: 100%|██████████| 258/258 [00:02<00:00, 104.93it/s]\n",
      "Training Epoch 661: 100%|██████████| 258/258 [00:02<00:00, 103.07it/s]\n"
     ]
    },
    {
     "name": "stdout",
     "output_type": "stream",
     "text": [
      "Epoch 660 - Train Loss: 0.2112, Train MSE: 0.2103, Train MAE: 0.3444\n",
      "Epoch 660 - Validation Loss: 2.0837, Validation MSE: 2.0767, Validation MAE: 1.0842\n"
     ]
    },
    {
     "name": "stderr",
     "output_type": "stream",
     "text": [
      "Training Epoch 662: 100%|██████████| 258/258 [00:02<00:00, 103.03it/s]\n",
      "Training Epoch 663: 100%|██████████| 258/258 [00:02<00:00, 97.24it/s] \n",
      "Training Epoch 664: 100%|██████████| 258/258 [00:02<00:00, 102.74it/s]\n",
      "Training Epoch 665: 100%|██████████| 258/258 [00:02<00:00, 103.38it/s]\n",
      "Training Epoch 666: 100%|██████████| 258/258 [00:02<00:00, 101.87it/s]\n",
      "Training Epoch 667: 100%|██████████| 258/258 [00:02<00:00, 104.25it/s]\n",
      "Training Epoch 668: 100%|██████████| 258/258 [00:02<00:00, 105.39it/s]\n",
      "Training Epoch 669: 100%|██████████| 258/258 [00:02<00:00, 99.26it/s] \n",
      "Training Epoch 670: 100%|██████████| 258/258 [00:02<00:00, 103.15it/s]\n",
      "Training Epoch 671: 100%|██████████| 258/258 [00:02<00:00, 105.25it/s]\n"
     ]
    },
    {
     "name": "stdout",
     "output_type": "stream",
     "text": [
      "Epoch 670 - Train Loss: 0.2080, Train MSE: 0.2081, Train MAE: 0.3447\n",
      "Epoch 670 - Validation Loss: 2.0267, Validation MSE: 2.0320, Validation MAE: 1.0742\n"
     ]
    },
    {
     "name": "stderr",
     "output_type": "stream",
     "text": [
      "Training Epoch 672: 100%|██████████| 258/258 [00:02<00:00, 108.92it/s]\n",
      "Training Epoch 673: 100%|██████████| 258/258 [00:02<00:00, 103.78it/s]\n",
      "Training Epoch 674: 100%|██████████| 258/258 [00:02<00:00, 105.39it/s]\n",
      "Training Epoch 675: 100%|██████████| 258/258 [00:02<00:00, 104.07it/s]\n",
      "Training Epoch 676: 100%|██████████| 258/258 [00:02<00:00, 106.91it/s]\n",
      "Training Epoch 677: 100%|██████████| 258/258 [00:02<00:00, 103.17it/s]\n",
      "Training Epoch 678: 100%|██████████| 258/258 [00:02<00:00, 105.15it/s]\n",
      "Training Epoch 679: 100%|██████████| 258/258 [00:02<00:00, 102.25it/s]\n",
      "Training Epoch 680: 100%|██████████| 258/258 [00:02<00:00, 105.70it/s]\n",
      "Training Epoch 681: 100%|██████████| 258/258 [00:02<00:00, 103.38it/s]\n"
     ]
    },
    {
     "name": "stdout",
     "output_type": "stream",
     "text": [
      "Epoch 680 - Train Loss: 0.2128, Train MSE: 0.2129, Train MAE: 0.3444\n",
      "Epoch 680 - Validation Loss: 2.0917, Validation MSE: 2.0810, Validation MAE: 1.0849\n"
     ]
    },
    {
     "name": "stderr",
     "output_type": "stream",
     "text": [
      "Training Epoch 682: 100%|██████████| 258/258 [00:02<00:00, 105.62it/s]\n",
      "Training Epoch 683: 100%|██████████| 258/258 [00:02<00:00, 110.37it/s]\n",
      "Training Epoch 684: 100%|██████████| 258/258 [00:02<00:00, 107.39it/s]\n",
      "Training Epoch 685: 100%|██████████| 258/258 [00:02<00:00, 101.87it/s]\n",
      "Training Epoch 686: 100%|██████████| 258/258 [00:02<00:00, 89.29it/s] \n",
      "Training Epoch 687: 100%|██████████| 258/258 [00:02<00:00, 103.11it/s]\n",
      "Training Epoch 688: 100%|██████████| 258/258 [00:02<00:00, 104.35it/s]\n",
      "Training Epoch 689: 100%|██████████| 258/258 [00:02<00:00, 104.47it/s]\n",
      "Training Epoch 690: 100%|██████████| 258/258 [00:02<00:00, 103.69it/s]\n",
      "Training Epoch 691: 100%|██████████| 258/258 [00:02<00:00, 102.03it/s]\n"
     ]
    },
    {
     "name": "stdout",
     "output_type": "stream",
     "text": [
      "Epoch 690 - Train Loss: 0.2032, Train MSE: 0.2034, Train MAE: 0.3391\n",
      "Epoch 690 - Validation Loss: 2.0684, Validation MSE: 2.0578, Validation MAE: 1.0781\n"
     ]
    },
    {
     "name": "stderr",
     "output_type": "stream",
     "text": [
      "Training Epoch 692: 100%|██████████| 258/258 [00:02<00:00, 98.47it/s] \n",
      "Training Epoch 693: 100%|██████████| 258/258 [00:02<00:00, 104.86it/s]\n",
      "Training Epoch 694: 100%|██████████| 258/258 [00:02<00:00, 104.73it/s]\n",
      "Training Epoch 695: 100%|██████████| 258/258 [00:02<00:00, 107.45it/s]\n",
      "Training Epoch 696: 100%|██████████| 258/258 [00:02<00:00, 107.95it/s]\n",
      "Training Epoch 697: 100%|██████████| 258/258 [00:02<00:00, 99.08it/s] \n",
      "Training Epoch 698: 100%|██████████| 258/258 [00:02<00:00, 104.79it/s]\n",
      "Training Epoch 699: 100%|██████████| 258/258 [00:02<00:00, 104.10it/s]\n",
      "Training Epoch 700: 100%|██████████| 258/258 [00:02<00:00, 101.99it/s]\n",
      "Training Epoch 701: 100%|██████████| 258/258 [00:02<00:00, 107.24it/s]\n"
     ]
    },
    {
     "name": "stdout",
     "output_type": "stream",
     "text": [
      "Epoch 700 - Train Loss: 0.2102, Train MSE: 0.2105, Train MAE: 0.3441\n",
      "Epoch 700 - Validation Loss: 1.9974, Validation MSE: 1.9922, Validation MAE: 1.0614\n"
     ]
    },
    {
     "name": "stderr",
     "output_type": "stream",
     "text": [
      "Training Epoch 702: 100%|██████████| 258/258 [00:02<00:00, 104.43it/s]\n",
      "Training Epoch 703: 100%|██████████| 258/258 [00:02<00:00, 102.09it/s]\n",
      "Training Epoch 704: 100%|██████████| 258/258 [00:02<00:00, 103.37it/s]\n",
      "Training Epoch 705: 100%|██████████| 258/258 [00:02<00:00, 105.65it/s]\n",
      "Training Epoch 706: 100%|██████████| 258/258 [00:02<00:00, 102.64it/s]\n",
      "Training Epoch 707: 100%|██████████| 258/258 [00:02<00:00, 101.19it/s]\n",
      "Training Epoch 708: 100%|██████████| 258/258 [00:02<00:00, 107.16it/s]\n",
      "Training Epoch 709: 100%|██████████| 258/258 [00:02<00:00, 89.65it/s] \n",
      "Training Epoch 710: 100%|██████████| 258/258 [00:02<00:00, 100.44it/s]\n",
      "Training Epoch 711: 100%|██████████| 258/258 [00:02<00:00, 102.14it/s]\n"
     ]
    },
    {
     "name": "stdout",
     "output_type": "stream",
     "text": [
      "Epoch 710 - Train Loss: 0.2047, Train MSE: 0.2052, Train MAE: 0.3377\n",
      "Epoch 710 - Validation Loss: 2.0391, Validation MSE: 2.0241, Validation MAE: 1.0723\n"
     ]
    },
    {
     "name": "stderr",
     "output_type": "stream",
     "text": [
      "Training Epoch 712: 100%|██████████| 258/258 [00:02<00:00, 103.95it/s]\n",
      "Training Epoch 713: 100%|██████████| 258/258 [00:02<00:00, 103.24it/s]\n",
      "Training Epoch 714: 100%|██████████| 258/258 [00:02<00:00, 102.97it/s]\n",
      "Training Epoch 715: 100%|██████████| 258/258 [00:02<00:00, 100.83it/s]\n",
      "Training Epoch 716: 100%|██████████| 258/258 [00:02<00:00, 104.72it/s]\n",
      "Training Epoch 717: 100%|██████████| 258/258 [00:02<00:00, 107.77it/s]\n",
      "Training Epoch 718: 100%|██████████| 258/258 [00:02<00:00, 105.02it/s]\n",
      "Training Epoch 719: 100%|██████████| 258/258 [00:02<00:00, 103.71it/s]\n",
      "Training Epoch 720: 100%|██████████| 258/258 [00:02<00:00, 104.85it/s]\n",
      "Training Epoch 721: 100%|██████████| 258/258 [00:02<00:00, 103.02it/s]\n"
     ]
    },
    {
     "name": "stdout",
     "output_type": "stream",
     "text": [
      "Epoch 720 - Train Loss: 0.2050, Train MSE: 0.2054, Train MAE: 0.3382\n",
      "Epoch 720 - Validation Loss: 2.1054, Validation MSE: 2.0989, Validation MAE: 1.0914\n"
     ]
    },
    {
     "name": "stderr",
     "output_type": "stream",
     "text": [
      "Training Epoch 722: 100%|██████████| 258/258 [00:02<00:00, 103.02it/s]\n",
      "Training Epoch 723: 100%|██████████| 258/258 [00:02<00:00, 106.42it/s]\n",
      "Training Epoch 724: 100%|██████████| 258/258 [00:02<00:00, 101.92it/s]\n",
      "Training Epoch 725: 100%|██████████| 258/258 [00:02<00:00, 101.50it/s]\n",
      "Training Epoch 726: 100%|██████████| 258/258 [00:02<00:00, 102.74it/s]\n",
      "Training Epoch 727: 100%|██████████| 258/258 [00:02<00:00, 104.54it/s]\n",
      "Training Epoch 728: 100%|██████████| 258/258 [00:02<00:00, 101.61it/s]\n",
      "Training Epoch 729: 100%|██████████| 258/258 [00:02<00:00, 105.82it/s]\n",
      "Training Epoch 730: 100%|██████████| 258/258 [00:02<00:00, 104.94it/s]\n",
      "Training Epoch 731: 100%|██████████| 258/258 [00:02<00:00, 98.35it/s] \n"
     ]
    },
    {
     "name": "stdout",
     "output_type": "stream",
     "text": [
      "Epoch 730 - Train Loss: 0.2003, Train MSE: 0.2004, Train MAE: 0.3368\n",
      "Epoch 730 - Validation Loss: 2.0110, Validation MSE: 2.0073, Validation MAE: 1.0622\n"
     ]
    },
    {
     "name": "stderr",
     "output_type": "stream",
     "text": [
      "Training Epoch 732: 100%|██████████| 258/258 [00:02<00:00, 104.64it/s]\n",
      "Training Epoch 733: 100%|██████████| 258/258 [00:02<00:00, 104.75it/s]\n",
      "Training Epoch 734: 100%|██████████| 258/258 [00:02<00:00, 98.14it/s] \n",
      "Training Epoch 735: 100%|██████████| 258/258 [00:02<00:00, 100.62it/s]\n",
      "Training Epoch 736: 100%|██████████| 258/258 [00:02<00:00, 100.22it/s]\n",
      "Training Epoch 737: 100%|██████████| 258/258 [00:02<00:00, 102.58it/s]\n",
      "Training Epoch 738: 100%|██████████| 258/258 [00:02<00:00, 102.94it/s]\n",
      "Training Epoch 739: 100%|██████████| 258/258 [00:02<00:00, 103.18it/s]\n",
      "Training Epoch 740: 100%|██████████| 258/258 [00:02<00:00, 101.56it/s]\n",
      "Training Epoch 741: 100%|██████████| 258/258 [00:02<00:00, 107.24it/s]\n"
     ]
    },
    {
     "name": "stdout",
     "output_type": "stream",
     "text": [
      "Epoch 740 - Train Loss: 0.2009, Train MSE: 0.2009, Train MAE: 0.3340\n",
      "Epoch 740 - Validation Loss: 2.0800, Validation MSE: 2.0754, Validation MAE: 1.0762\n"
     ]
    },
    {
     "name": "stderr",
     "output_type": "stream",
     "text": [
      "Training Epoch 742: 100%|██████████| 258/258 [00:02<00:00, 104.39it/s]\n",
      "Training Epoch 743: 100%|██████████| 258/258 [00:02<00:00, 103.09it/s]\n",
      "Training Epoch 744: 100%|██████████| 258/258 [00:02<00:00, 104.61it/s]\n",
      "Training Epoch 745: 100%|██████████| 258/258 [00:02<00:00, 105.57it/s]\n",
      "Training Epoch 746: 100%|██████████| 258/258 [00:02<00:00, 101.45it/s]\n",
      "Training Epoch 747: 100%|██████████| 258/258 [00:02<00:00, 105.49it/s]\n",
      "Training Epoch 748: 100%|██████████| 258/258 [00:02<00:00, 107.33it/s]\n",
      "Training Epoch 749: 100%|██████████| 258/258 [00:02<00:00, 102.13it/s]\n",
      "Training Epoch 750: 100%|██████████| 258/258 [00:02<00:00, 103.66it/s]\n",
      "Training Epoch 751: 100%|██████████| 258/258 [00:02<00:00, 106.02it/s]\n"
     ]
    },
    {
     "name": "stdout",
     "output_type": "stream",
     "text": [
      "Epoch 750 - Train Loss: 0.1988, Train MSE: 0.1991, Train MAE: 0.3318\n",
      "Epoch 750 - Validation Loss: 2.0534, Validation MSE: 2.0458, Validation MAE: 1.0724\n"
     ]
    },
    {
     "name": "stderr",
     "output_type": "stream",
     "text": [
      "Training Epoch 752: 100%|██████████| 258/258 [00:02<00:00, 99.83it/s] \n",
      "Training Epoch 753: 100%|██████████| 258/258 [00:02<00:00, 106.22it/s]\n",
      "Training Epoch 754: 100%|██████████| 258/258 [00:02<00:00, 96.26it/s] \n",
      "Training Epoch 755: 100%|██████████| 258/258 [00:02<00:00, 103.76it/s]\n",
      "Training Epoch 756: 100%|██████████| 258/258 [00:02<00:00, 104.75it/s]\n",
      "Training Epoch 757: 100%|██████████| 258/258 [00:02<00:00, 104.84it/s]\n",
      "Training Epoch 758: 100%|██████████| 258/258 [00:02<00:00, 101.22it/s]\n",
      "Training Epoch 759: 100%|██████████| 258/258 [00:02<00:00, 99.06it/s] \n",
      "Training Epoch 760: 100%|██████████| 258/258 [00:02<00:00, 101.94it/s]\n",
      "Training Epoch 761: 100%|██████████| 258/258 [00:02<00:00, 105.29it/s]\n"
     ]
    },
    {
     "name": "stdout",
     "output_type": "stream",
     "text": [
      "Epoch 760 - Train Loss: 0.2040, Train MSE: 0.2033, Train MAE: 0.3349\n",
      "Epoch 760 - Validation Loss: 1.9826, Validation MSE: 1.9749, Validation MAE: 1.0548\n"
     ]
    },
    {
     "name": "stderr",
     "output_type": "stream",
     "text": [
      "Training Epoch 762: 100%|██████████| 258/258 [00:02<00:00, 102.45it/s]\n",
      "Training Epoch 763: 100%|██████████| 258/258 [00:02<00:00, 103.61it/s]\n",
      "Training Epoch 764: 100%|██████████| 258/258 [00:02<00:00, 98.05it/s] \n",
      "Training Epoch 765: 100%|██████████| 258/258 [00:02<00:00, 105.39it/s]\n",
      "Training Epoch 766: 100%|██████████| 258/258 [00:02<00:00, 104.63it/s]\n",
      "Training Epoch 767: 100%|██████████| 258/258 [00:02<00:00, 107.28it/s]\n",
      "Training Epoch 768: 100%|██████████| 258/258 [00:02<00:00, 107.52it/s]\n",
      "Training Epoch 769: 100%|██████████| 258/258 [00:02<00:00, 103.26it/s]\n",
      "Training Epoch 770: 100%|██████████| 258/258 [00:02<00:00, 102.72it/s]\n",
      "Training Epoch 771: 100%|██████████| 258/258 [00:02<00:00, 104.50it/s]\n"
     ]
    },
    {
     "name": "stdout",
     "output_type": "stream",
     "text": [
      "Epoch 770 - Train Loss: 0.2043, Train MSE: 0.2048, Train MAE: 0.3368\n",
      "Epoch 770 - Validation Loss: 2.0297, Validation MSE: 2.0243, Validation MAE: 1.0651\n"
     ]
    },
    {
     "name": "stderr",
     "output_type": "stream",
     "text": [
      "Training Epoch 772: 100%|██████████| 258/258 [00:02<00:00, 98.15it/s] \n",
      "Training Epoch 773: 100%|██████████| 258/258 [00:02<00:00, 103.70it/s]\n",
      "Training Epoch 774: 100%|██████████| 258/258 [00:02<00:00, 103.72it/s]\n",
      "Training Epoch 775: 100%|██████████| 258/258 [00:02<00:00, 103.73it/s]\n",
      "Training Epoch 776: 100%|██████████| 258/258 [00:02<00:00, 101.93it/s]\n",
      "Training Epoch 777: 100%|██████████| 258/258 [00:02<00:00, 98.14it/s] \n",
      "Training Epoch 778: 100%|██████████| 258/258 [00:02<00:00, 106.18it/s]\n",
      "Training Epoch 779: 100%|██████████| 258/258 [00:02<00:00, 103.70it/s]\n",
      "Training Epoch 780: 100%|██████████| 258/258 [00:02<00:00, 102.94it/s]\n",
      "Training Epoch 781: 100%|██████████| 258/258 [00:02<00:00, 103.71it/s]\n"
     ]
    },
    {
     "name": "stdout",
     "output_type": "stream",
     "text": [
      "Epoch 780 - Train Loss: 0.1983, Train MSE: 0.1985, Train MAE: 0.3320\n",
      "Epoch 780 - Validation Loss: 2.0268, Validation MSE: 2.0142, Validation MAE: 1.0678\n"
     ]
    },
    {
     "name": "stderr",
     "output_type": "stream",
     "text": [
      "Training Epoch 782: 100%|██████████| 258/258 [00:02<00:00, 101.00it/s]\n",
      "Training Epoch 783: 100%|██████████| 258/258 [00:02<00:00, 100.79it/s]\n",
      "Training Epoch 784: 100%|██████████| 258/258 [00:02<00:00, 105.40it/s]\n",
      "Training Epoch 785: 100%|██████████| 258/258 [00:02<00:00, 98.88it/s] \n",
      "Training Epoch 786: 100%|██████████| 258/258 [00:02<00:00, 102.59it/s]\n",
      "Training Epoch 787: 100%|██████████| 258/258 [00:02<00:00, 104.61it/s]\n",
      "Training Epoch 788: 100%|██████████| 258/258 [00:02<00:00, 102.92it/s]\n",
      "Training Epoch 789: 100%|██████████| 258/258 [00:02<00:00, 103.06it/s]\n",
      "Training Epoch 790: 100%|██████████| 258/258 [00:02<00:00, 106.15it/s]\n",
      "Training Epoch 791: 100%|██████████| 258/258 [00:02<00:00, 101.30it/s]\n"
     ]
    },
    {
     "name": "stdout",
     "output_type": "stream",
     "text": [
      "Epoch 790 - Train Loss: 0.1935, Train MSE: 0.1933, Train MAE: 0.3293\n",
      "Epoch 790 - Validation Loss: 2.0057, Validation MSE: 1.9919, Validation MAE: 1.0596\n"
     ]
    },
    {
     "name": "stderr",
     "output_type": "stream",
     "text": [
      "Training Epoch 792: 100%|██████████| 258/258 [00:02<00:00, 103.60it/s]\n",
      "Training Epoch 793: 100%|██████████| 258/258 [00:02<00:00, 106.19it/s]\n",
      "Training Epoch 794: 100%|██████████| 258/258 [00:02<00:00, 104.04it/s]\n",
      "Training Epoch 795: 100%|██████████| 258/258 [00:02<00:00, 100.30it/s]\n",
      "Training Epoch 796: 100%|██████████| 258/258 [00:02<00:00, 103.12it/s]\n",
      "Training Epoch 797: 100%|██████████| 258/258 [00:02<00:00, 104.12it/s]\n",
      "Training Epoch 798: 100%|██████████| 258/258 [00:02<00:00, 100.13it/s]\n",
      "Training Epoch 799: 100%|██████████| 258/258 [00:02<00:00, 106.07it/s]\n",
      "Training Epoch 800: 100%|██████████| 258/258 [00:02<00:00, 98.37it/s] \n",
      "Training Epoch 801: 100%|██████████| 258/258 [00:02<00:00, 103.08it/s]\n"
     ]
    },
    {
     "name": "stdout",
     "output_type": "stream",
     "text": [
      "Epoch 800 - Train Loss: 0.1997, Train MSE: 0.1999, Train MAE: 0.3342\n",
      "Epoch 800 - Validation Loss: 2.0382, Validation MSE: 2.0285, Validation MAE: 1.0763\n"
     ]
    },
    {
     "name": "stderr",
     "output_type": "stream",
     "text": [
      "Training Epoch 802: 100%|██████████| 258/258 [00:02<00:00, 104.71it/s]\n",
      "Training Epoch 803: 100%|██████████| 258/258 [00:02<00:00, 103.33it/s]\n",
      "Training Epoch 804: 100%|██████████| 258/258 [00:02<00:00, 107.51it/s]\n",
      "Training Epoch 805: 100%|██████████| 258/258 [00:02<00:00, 106.37it/s]\n",
      "Training Epoch 806: 100%|██████████| 258/258 [00:02<00:00, 102.64it/s]\n",
      "Training Epoch 807: 100%|██████████| 258/258 [00:02<00:00, 100.65it/s]\n",
      "Training Epoch 808: 100%|██████████| 258/258 [00:02<00:00, 102.85it/s]\n",
      "Training Epoch 809: 100%|██████████| 258/258 [00:02<00:00, 99.96it/s] \n",
      "Training Epoch 810: 100%|██████████| 258/258 [00:02<00:00, 106.06it/s]\n",
      "Training Epoch 811: 100%|██████████| 258/258 [00:02<00:00, 104.29it/s]\n"
     ]
    },
    {
     "name": "stdout",
     "output_type": "stream",
     "text": [
      "Epoch 810 - Train Loss: 0.1928, Train MSE: 0.1916, Train MAE: 0.3266\n",
      "Epoch 810 - Validation Loss: 2.0122, Validation MSE: 2.0026, Validation MAE: 1.0638\n"
     ]
    },
    {
     "name": "stderr",
     "output_type": "stream",
     "text": [
      "Training Epoch 812: 100%|██████████| 258/258 [00:02<00:00, 101.16it/s]\n",
      "Training Epoch 813: 100%|██████████| 258/258 [00:02<00:00, 101.74it/s]\n",
      "Training Epoch 814: 100%|██████████| 258/258 [00:02<00:00, 98.38it/s] \n",
      "Training Epoch 815: 100%|██████████| 258/258 [00:02<00:00, 102.90it/s]\n",
      "Training Epoch 816: 100%|██████████| 258/258 [00:02<00:00, 105.82it/s]\n",
      "Training Epoch 817: 100%|██████████| 258/258 [00:02<00:00, 104.62it/s]\n",
      "Training Epoch 818: 100%|██████████| 258/258 [00:02<00:00, 103.73it/s]\n",
      "Training Epoch 819: 100%|██████████| 258/258 [00:02<00:00, 98.96it/s] \n",
      "Training Epoch 820: 100%|██████████| 258/258 [00:02<00:00, 105.83it/s]\n",
      "Training Epoch 821: 100%|██████████| 258/258 [00:02<00:00, 107.32it/s]\n"
     ]
    },
    {
     "name": "stdout",
     "output_type": "stream",
     "text": [
      "Epoch 820 - Train Loss: 0.1893, Train MSE: 0.1895, Train MAE: 0.3256\n",
      "Epoch 820 - Validation Loss: 2.0662, Validation MSE: 2.0595, Validation MAE: 1.0778\n"
     ]
    },
    {
     "name": "stderr",
     "output_type": "stream",
     "text": [
      "Training Epoch 822: 100%|██████████| 258/258 [00:02<00:00, 102.12it/s]\n",
      "Training Epoch 823: 100%|██████████| 258/258 [00:02<00:00, 92.59it/s] \n",
      "Training Epoch 824: 100%|██████████| 258/258 [00:02<00:00, 95.24it/s] \n",
      "Training Epoch 825: 100%|██████████| 258/258 [00:02<00:00, 98.95it/s] \n",
      "Training Epoch 826: 100%|██████████| 258/258 [00:02<00:00, 103.91it/s]\n",
      "Training Epoch 827: 100%|██████████| 258/258 [00:02<00:00, 101.63it/s]\n",
      "Training Epoch 828: 100%|██████████| 258/258 [00:02<00:00, 104.66it/s]\n",
      "Training Epoch 829: 100%|██████████| 258/258 [00:02<00:00, 103.43it/s]\n",
      "Training Epoch 830: 100%|██████████| 258/258 [00:02<00:00, 102.67it/s]\n",
      "Training Epoch 831: 100%|██████████| 258/258 [00:02<00:00, 102.12it/s]\n"
     ]
    },
    {
     "name": "stdout",
     "output_type": "stream",
     "text": [
      "Epoch 830 - Train Loss: 0.1920, Train MSE: 0.1922, Train MAE: 0.3255\n",
      "Epoch 830 - Validation Loss: 2.1244, Validation MSE: 2.1158, Validation MAE: 1.0912\n"
     ]
    },
    {
     "name": "stderr",
     "output_type": "stream",
     "text": [
      "Training Epoch 832: 100%|██████████| 258/258 [00:02<00:00, 104.69it/s]\n",
      "Training Epoch 833: 100%|██████████| 258/258 [00:02<00:00, 98.76it/s] \n",
      "Training Epoch 834: 100%|██████████| 258/258 [00:02<00:00, 103.25it/s]\n",
      "Training Epoch 835: 100%|██████████| 258/258 [00:02<00:00, 101.91it/s]\n",
      "Training Epoch 836: 100%|██████████| 258/258 [00:02<00:00, 104.46it/s]\n",
      "Training Epoch 837: 100%|██████████| 258/258 [00:02<00:00, 99.03it/s] \n",
      "Training Epoch 838: 100%|██████████| 258/258 [00:02<00:00, 104.11it/s]\n",
      "Training Epoch 839: 100%|██████████| 258/258 [00:02<00:00, 105.24it/s]\n",
      "Training Epoch 840: 100%|██████████| 258/258 [00:02<00:00, 104.58it/s]\n",
      "Training Epoch 841: 100%|██████████| 258/258 [00:02<00:00, 103.75it/s]\n"
     ]
    },
    {
     "name": "stdout",
     "output_type": "stream",
     "text": [
      "Epoch 840 - Train Loss: 0.1905, Train MSE: 0.1899, Train MAE: 0.3229\n",
      "Epoch 840 - Validation Loss: 2.0681, Validation MSE: 2.0588, Validation MAE: 1.0716\n"
     ]
    },
    {
     "name": "stderr",
     "output_type": "stream",
     "text": [
      "Training Epoch 842: 100%|██████████| 258/258 [00:02<00:00, 108.52it/s]\n",
      "Training Epoch 843: 100%|██████████| 258/258 [00:02<00:00, 98.98it/s] \n",
      "Training Epoch 844: 100%|██████████| 258/258 [00:02<00:00, 107.55it/s]\n",
      "Training Epoch 845: 100%|██████████| 258/258 [00:02<00:00, 97.88it/s] \n",
      "Training Epoch 846: 100%|██████████| 258/258 [00:02<00:00, 97.27it/s] \n",
      "Training Epoch 847: 100%|██████████| 258/258 [00:02<00:00, 104.90it/s]\n",
      "Training Epoch 848: 100%|██████████| 258/258 [00:02<00:00, 102.65it/s]\n",
      "Training Epoch 849: 100%|██████████| 258/258 [00:02<00:00, 99.49it/s] \n",
      "Training Epoch 850: 100%|██████████| 258/258 [00:02<00:00, 103.07it/s]\n",
      "Training Epoch 851: 100%|██████████| 258/258 [00:02<00:00, 103.06it/s]\n"
     ]
    },
    {
     "name": "stdout",
     "output_type": "stream",
     "text": [
      "Epoch 850 - Train Loss: 0.1875, Train MSE: 0.1878, Train MAE: 0.3191\n",
      "Epoch 850 - Validation Loss: 2.0324, Validation MSE: 2.0194, Validation MAE: 1.0692\n"
     ]
    },
    {
     "name": "stderr",
     "output_type": "stream",
     "text": [
      "Training Epoch 852: 100%|██████████| 258/258 [00:02<00:00, 103.12it/s]\n",
      "Training Epoch 853: 100%|██████████| 258/258 [00:02<00:00, 103.40it/s]\n",
      "Training Epoch 854: 100%|██████████| 258/258 [00:02<00:00, 102.30it/s]\n",
      "Training Epoch 855: 100%|██████████| 258/258 [00:02<00:00, 100.65it/s]\n",
      "Training Epoch 856: 100%|██████████| 258/258 [00:02<00:00, 103.31it/s]\n",
      "Training Epoch 857: 100%|██████████| 258/258 [00:02<00:00, 101.07it/s]\n",
      "Training Epoch 858: 100%|██████████| 258/258 [00:02<00:00, 100.50it/s]\n",
      "Training Epoch 859: 100%|██████████| 258/258 [00:02<00:00, 107.10it/s]\n",
      "Training Epoch 860: 100%|██████████| 258/258 [00:02<00:00, 104.85it/s]\n",
      "Training Epoch 861: 100%|██████████| 258/258 [00:02<00:00, 101.27it/s]\n"
     ]
    },
    {
     "name": "stdout",
     "output_type": "stream",
     "text": [
      "Epoch 860 - Train Loss: 0.1877, Train MSE: 0.1879, Train MAE: 0.3217\n",
      "Epoch 860 - Validation Loss: 2.1100, Validation MSE: 2.0982, Validation MAE: 1.0864\n"
     ]
    },
    {
     "name": "stderr",
     "output_type": "stream",
     "text": [
      "Training Epoch 862: 100%|██████████| 258/258 [00:02<00:00, 104.38it/s]\n",
      "Training Epoch 863: 100%|██████████| 258/258 [00:02<00:00, 102.68it/s]\n",
      "Training Epoch 864: 100%|██████████| 258/258 [00:02<00:00, 108.77it/s]\n",
      "Training Epoch 865: 100%|██████████| 258/258 [00:02<00:00, 104.94it/s]\n",
      "Training Epoch 866: 100%|██████████| 258/258 [00:02<00:00, 105.49it/s]\n",
      "Training Epoch 867: 100%|██████████| 258/258 [00:02<00:00, 102.96it/s]\n",
      "Training Epoch 868: 100%|██████████| 258/258 [00:02<00:00, 94.64it/s] \n",
      "Training Epoch 869: 100%|██████████| 258/258 [00:02<00:00, 101.47it/s]\n",
      "Training Epoch 870: 100%|██████████| 258/258 [00:02<00:00, 105.31it/s]\n",
      "Training Epoch 871: 100%|██████████| 258/258 [00:02<00:00, 101.85it/s]\n"
     ]
    },
    {
     "name": "stdout",
     "output_type": "stream",
     "text": [
      "Epoch 870 - Train Loss: 0.1835, Train MSE: 0.1836, Train MAE: 0.3198\n",
      "Epoch 870 - Validation Loss: 1.9665, Validation MSE: 1.9531, Validation MAE: 1.0501\n"
     ]
    },
    {
     "name": "stderr",
     "output_type": "stream",
     "text": [
      "Training Epoch 872: 100%|██████████| 258/258 [00:02<00:00, 103.08it/s]\n",
      "Training Epoch 873: 100%|██████████| 258/258 [00:02<00:00, 101.82it/s]\n",
      "Training Epoch 874: 100%|██████████| 258/258 [00:02<00:00, 100.55it/s]\n",
      "Training Epoch 875: 100%|██████████| 258/258 [00:02<00:00, 103.97it/s]\n",
      "Training Epoch 876: 100%|██████████| 258/258 [00:02<00:00, 102.64it/s]\n",
      "Training Epoch 877: 100%|██████████| 258/258 [00:02<00:00, 101.48it/s]\n",
      "Training Epoch 878: 100%|██████████| 258/258 [00:02<00:00, 106.86it/s]\n",
      "Training Epoch 879: 100%|██████████| 258/258 [00:02<00:00, 108.66it/s]\n",
      "Training Epoch 880: 100%|██████████| 258/258 [00:02<00:00, 99.86it/s] \n",
      "Training Epoch 881: 100%|██████████| 258/258 [00:02<00:00, 105.36it/s]\n"
     ]
    },
    {
     "name": "stdout",
     "output_type": "stream",
     "text": [
      "Epoch 880 - Train Loss: 0.1798, Train MSE: 0.1794, Train MAE: 0.3171\n",
      "Epoch 880 - Validation Loss: 2.0316, Validation MSE: 2.0198, Validation MAE: 1.0616\n"
     ]
    },
    {
     "name": "stderr",
     "output_type": "stream",
     "text": [
      "Training Epoch 882: 100%|██████████| 258/258 [00:02<00:00, 105.21it/s]\n",
      "Training Epoch 883: 100%|██████████| 258/258 [00:02<00:00, 103.74it/s]\n",
      "Training Epoch 884: 100%|██████████| 258/258 [00:02<00:00, 104.52it/s]\n",
      "Training Epoch 885: 100%|██████████| 258/258 [00:02<00:00, 105.88it/s]\n",
      "Training Epoch 886: 100%|██████████| 258/258 [00:02<00:00, 97.40it/s] \n",
      "Training Epoch 887: 100%|██████████| 258/258 [00:02<00:00, 104.24it/s]\n",
      "Training Epoch 888: 100%|██████████| 258/258 [00:02<00:00, 103.87it/s]\n",
      "Training Epoch 889: 100%|██████████| 258/258 [00:02<00:00, 105.10it/s]\n",
      "Training Epoch 890: 100%|██████████| 258/258 [00:02<00:00, 104.10it/s]\n",
      "Training Epoch 891: 100%|██████████| 258/258 [00:02<00:00, 97.88it/s] \n"
     ]
    },
    {
     "name": "stdout",
     "output_type": "stream",
     "text": [
      "Epoch 890 - Train Loss: 0.1758, Train MSE: 0.1759, Train MAE: 0.3133\n",
      "Epoch 890 - Validation Loss: 2.0637, Validation MSE: 2.0536, Validation MAE: 1.0795\n"
     ]
    },
    {
     "name": "stderr",
     "output_type": "stream",
     "text": [
      "Training Epoch 892: 100%|██████████| 258/258 [00:02<00:00, 100.35it/s]\n",
      "Training Epoch 893: 100%|██████████| 258/258 [00:02<00:00, 103.14it/s]\n",
      "Training Epoch 894: 100%|██████████| 258/258 [00:02<00:00, 102.12it/s]\n",
      "Training Epoch 895: 100%|██████████| 258/258 [00:02<00:00, 102.82it/s]\n",
      "Training Epoch 896: 100%|██████████| 258/258 [00:02<00:00, 103.78it/s]\n",
      "Training Epoch 897: 100%|██████████| 258/258 [00:02<00:00, 104.66it/s]\n",
      "Training Epoch 898: 100%|██████████| 258/258 [00:02<00:00, 96.51it/s] \n",
      "Training Epoch 899: 100%|██████████| 258/258 [00:02<00:00, 108.56it/s]\n",
      "Training Epoch 900: 100%|██████████| 258/258 [00:02<00:00, 103.84it/s]\n",
      "Training Epoch 901: 100%|██████████| 258/258 [00:02<00:00, 103.51it/s]\n"
     ]
    },
    {
     "name": "stdout",
     "output_type": "stream",
     "text": [
      "Epoch 900 - Train Loss: 0.1744, Train MSE: 0.1743, Train MAE: 0.3125\n",
      "Epoch 900 - Validation Loss: 1.9872, Validation MSE: 1.9728, Validation MAE: 1.0472\n"
     ]
    },
    {
     "name": "stderr",
     "output_type": "stream",
     "text": [
      "Training Epoch 902: 100%|██████████| 258/258 [00:02<00:00, 101.64it/s]\n",
      "Training Epoch 903: 100%|██████████| 258/258 [00:02<00:00, 103.37it/s]\n",
      "Training Epoch 904: 100%|██████████| 258/258 [00:02<00:00, 100.98it/s]\n",
      "Training Epoch 905: 100%|██████████| 258/258 [00:02<00:00, 104.85it/s]\n",
      "Training Epoch 906: 100%|██████████| 258/258 [00:02<00:00, 105.77it/s]\n",
      "Training Epoch 907: 100%|██████████| 258/258 [00:02<00:00, 103.96it/s]\n",
      "Training Epoch 908: 100%|██████████| 258/258 [00:02<00:00, 104.81it/s]\n",
      "Training Epoch 909: 100%|██████████| 258/258 [00:02<00:00, 107.12it/s]\n",
      "Training Epoch 910: 100%|██████████| 258/258 [00:02<00:00, 98.99it/s] \n",
      "Training Epoch 911: 100%|██████████| 258/258 [00:02<00:00, 103.75it/s]\n"
     ]
    },
    {
     "name": "stdout",
     "output_type": "stream",
     "text": [
      "Epoch 910 - Train Loss: 0.1807, Train MSE: 0.1804, Train MAE: 0.3163\n",
      "Epoch 910 - Validation Loss: 2.0627, Validation MSE: 2.0554, Validation MAE: 1.0718\n"
     ]
    },
    {
     "name": "stderr",
     "output_type": "stream",
     "text": [
      "Training Epoch 912: 100%|██████████| 258/258 [00:02<00:00, 99.64it/s] \n",
      "Training Epoch 913: 100%|██████████| 258/258 [00:02<00:00, 108.26it/s]\n",
      "Training Epoch 914: 100%|██████████| 258/258 [00:02<00:00, 97.30it/s] \n",
      "Training Epoch 915: 100%|██████████| 258/258 [00:02<00:00, 105.95it/s]\n",
      "Training Epoch 916: 100%|██████████| 258/258 [00:02<00:00, 98.43it/s] \n",
      "Training Epoch 917: 100%|██████████| 258/258 [00:02<00:00, 104.39it/s]\n",
      "Training Epoch 918: 100%|██████████| 258/258 [00:02<00:00, 103.38it/s]\n",
      "Training Epoch 919: 100%|██████████| 258/258 [00:02<00:00, 104.53it/s]\n",
      "Training Epoch 920: 100%|██████████| 258/258 [00:02<00:00, 102.98it/s]\n",
      "Training Epoch 921: 100%|██████████| 258/258 [00:02<00:00, 103.81it/s]\n"
     ]
    },
    {
     "name": "stdout",
     "output_type": "stream",
     "text": [
      "Epoch 920 - Train Loss: 0.1820, Train MSE: 0.1821, Train MAE: 0.3166\n",
      "Epoch 920 - Validation Loss: 2.0404, Validation MSE: 2.0322, Validation MAE: 1.0640\n"
     ]
    },
    {
     "name": "stderr",
     "output_type": "stream",
     "text": [
      "Training Epoch 922: 100%|██████████| 258/258 [00:02<00:00, 99.91it/s] \n",
      "Training Epoch 923: 100%|██████████| 258/258 [00:02<00:00, 102.66it/s]\n",
      "Training Epoch 924: 100%|██████████| 258/258 [00:02<00:00, 104.73it/s]\n",
      "Training Epoch 925: 100%|██████████| 258/258 [00:02<00:00, 99.22it/s] \n",
      "Training Epoch 926: 100%|██████████| 258/258 [00:02<00:00, 107.07it/s]\n",
      "Training Epoch 927: 100%|██████████| 258/258 [00:02<00:00, 103.69it/s]\n",
      "Training Epoch 928: 100%|██████████| 258/258 [00:02<00:00, 103.47it/s]\n",
      "Training Epoch 929: 100%|██████████| 258/258 [00:02<00:00, 105.55it/s]\n",
      "Training Epoch 930: 100%|██████████| 258/258 [00:02<00:00, 103.11it/s]\n",
      "Training Epoch 931: 100%|██████████| 258/258 [00:02<00:00, 107.27it/s]\n"
     ]
    },
    {
     "name": "stdout",
     "output_type": "stream",
     "text": [
      "Epoch 930 - Train Loss: 0.1826, Train MSE: 0.1822, Train MAE: 0.3175\n",
      "Epoch 930 - Validation Loss: 2.0448, Validation MSE: 2.0326, Validation MAE: 1.0768\n"
     ]
    },
    {
     "name": "stderr",
     "output_type": "stream",
     "text": [
      "Training Epoch 932: 100%|██████████| 258/258 [00:02<00:00, 104.71it/s]\n",
      "Training Epoch 933: 100%|██████████| 258/258 [00:02<00:00, 107.28it/s]\n",
      "Training Epoch 934: 100%|██████████| 258/258 [00:02<00:00, 107.37it/s]\n",
      "Training Epoch 935: 100%|██████████| 258/258 [00:02<00:00, 103.51it/s]\n",
      "Training Epoch 936: 100%|██████████| 258/258 [00:02<00:00, 104.21it/s]\n",
      "Training Epoch 937: 100%|██████████| 258/258 [00:02<00:00, 97.97it/s] \n",
      "Training Epoch 938: 100%|██████████| 258/258 [00:02<00:00, 97.12it/s] \n",
      "Training Epoch 939: 100%|██████████| 258/258 [00:02<00:00, 101.01it/s]\n",
      "Training Epoch 940: 100%|██████████| 258/258 [00:02<00:00, 101.63it/s]\n",
      "Training Epoch 941: 100%|██████████| 258/258 [00:02<00:00, 100.64it/s]\n"
     ]
    },
    {
     "name": "stdout",
     "output_type": "stream",
     "text": [
      "Epoch 940 - Train Loss: 0.1773, Train MSE: 0.1773, Train MAE: 0.3142\n",
      "Epoch 940 - Validation Loss: 2.0151, Validation MSE: 2.0058, Validation MAE: 1.0670\n"
     ]
    },
    {
     "name": "stderr",
     "output_type": "stream",
     "text": [
      "Training Epoch 942: 100%|██████████| 258/258 [00:02<00:00, 102.65it/s]\n",
      "Training Epoch 943: 100%|██████████| 258/258 [00:02<00:00, 98.67it/s] \n",
      "Training Epoch 944: 100%|██████████| 258/258 [00:02<00:00, 103.42it/s]\n",
      "Training Epoch 945: 100%|██████████| 258/258 [00:02<00:00, 106.39it/s]\n",
      "Training Epoch 946: 100%|██████████| 258/258 [00:02<00:00, 107.13it/s]\n",
      "Training Epoch 947: 100%|██████████| 258/258 [00:02<00:00, 102.53it/s]\n",
      "Training Epoch 948: 100%|██████████| 258/258 [00:02<00:00, 102.99it/s]\n",
      "Training Epoch 949: 100%|██████████| 258/258 [00:02<00:00, 106.21it/s]\n",
      "Training Epoch 950: 100%|██████████| 258/258 [00:02<00:00, 103.66it/s]\n",
      "Training Epoch 951: 100%|██████████| 258/258 [00:02<00:00, 100.77it/s]\n"
     ]
    },
    {
     "name": "stdout",
     "output_type": "stream",
     "text": [
      "Epoch 950 - Train Loss: 0.1802, Train MSE: 0.1804, Train MAE: 0.3174\n",
      "Epoch 950 - Validation Loss: 2.0099, Validation MSE: 1.9967, Validation MAE: 1.0572\n"
     ]
    },
    {
     "name": "stderr",
     "output_type": "stream",
     "text": [
      "Training Epoch 952: 100%|██████████| 258/258 [00:02<00:00, 103.96it/s]\n",
      "Training Epoch 953: 100%|██████████| 258/258 [00:02<00:00, 103.90it/s]\n",
      "Training Epoch 954: 100%|██████████| 258/258 [00:02<00:00, 103.52it/s]\n",
      "Training Epoch 955: 100%|██████████| 258/258 [00:02<00:00, 103.29it/s]\n",
      "Training Epoch 956: 100%|██████████| 258/258 [00:02<00:00, 103.43it/s]\n",
      "Training Epoch 957: 100%|██████████| 258/258 [00:02<00:00, 106.26it/s]\n",
      "Training Epoch 958: 100%|██████████| 258/258 [00:02<00:00, 103.26it/s]\n",
      "Training Epoch 959: 100%|██████████| 258/258 [00:02<00:00, 89.44it/s] \n",
      "Training Epoch 960: 100%|██████████| 258/258 [00:02<00:00, 96.60it/s] \n",
      "Training Epoch 961: 100%|██████████| 258/258 [00:02<00:00, 107.27it/s]\n"
     ]
    },
    {
     "name": "stdout",
     "output_type": "stream",
     "text": [
      "Epoch 960 - Train Loss: 0.1735, Train MSE: 0.1735, Train MAE: 0.3108\n",
      "Epoch 960 - Validation Loss: 2.0596, Validation MSE: 2.0443, Validation MAE: 1.0703\n"
     ]
    },
    {
     "name": "stderr",
     "output_type": "stream",
     "text": [
      "Training Epoch 962: 100%|██████████| 258/258 [00:02<00:00, 101.24it/s]\n",
      "Training Epoch 963: 100%|██████████| 258/258 [00:02<00:00, 102.54it/s]\n",
      "Training Epoch 964: 100%|██████████| 258/258 [00:02<00:00, 94.42it/s] \n",
      "Training Epoch 965: 100%|██████████| 258/258 [00:02<00:00, 98.32it/s] \n",
      "Training Epoch 966: 100%|██████████| 258/258 [00:02<00:00, 100.34it/s]\n",
      "Training Epoch 967: 100%|██████████| 258/258 [00:02<00:00, 101.25it/s]\n",
      "Training Epoch 968: 100%|██████████| 258/258 [00:02<00:00, 102.36it/s]\n",
      "Training Epoch 969: 100%|██████████| 258/258 [00:02<00:00, 105.24it/s]\n",
      "Training Epoch 970: 100%|██████████| 258/258 [00:02<00:00, 94.85it/s] \n",
      "Training Epoch 971: 100%|██████████| 258/258 [00:02<00:00, 98.61it/s] \n"
     ]
    },
    {
     "name": "stdout",
     "output_type": "stream",
     "text": [
      "Epoch 970 - Train Loss: 0.1739, Train MSE: 0.1731, Train MAE: 0.3109\n",
      "Epoch 970 - Validation Loss: 2.0399, Validation MSE: 2.0340, Validation MAE: 1.0716\n"
     ]
    },
    {
     "name": "stderr",
     "output_type": "stream",
     "text": [
      "Training Epoch 972: 100%|██████████| 258/258 [00:02<00:00, 101.09it/s]\n",
      "Training Epoch 973: 100%|██████████| 258/258 [00:02<00:00, 101.53it/s]\n",
      "Training Epoch 974: 100%|██████████| 258/258 [00:02<00:00, 100.17it/s]\n",
      "Training Epoch 975: 100%|██████████| 258/258 [00:02<00:00, 100.31it/s]\n",
      "Training Epoch 976: 100%|██████████| 258/258 [00:02<00:00, 98.99it/s] \n",
      "Training Epoch 977: 100%|██████████| 258/258 [00:02<00:00, 99.32it/s] \n",
      "Training Epoch 978: 100%|██████████| 258/258 [00:02<00:00, 101.80it/s]\n",
      "Training Epoch 979: 100%|██████████| 258/258 [00:02<00:00, 103.73it/s]\n",
      "Training Epoch 980: 100%|██████████| 258/258 [00:02<00:00, 100.40it/s]\n",
      "Training Epoch 981: 100%|██████████| 258/258 [00:02<00:00, 101.09it/s]\n"
     ]
    },
    {
     "name": "stdout",
     "output_type": "stream",
     "text": [
      "Epoch 980 - Train Loss: 0.1733, Train MSE: 0.1732, Train MAE: 0.3105\n",
      "Epoch 980 - Validation Loss: 2.0202, Validation MSE: 2.0133, Validation MAE: 1.0606\n"
     ]
    },
    {
     "name": "stderr",
     "output_type": "stream",
     "text": [
      "Training Epoch 982: 100%|██████████| 258/258 [00:02<00:00, 88.88it/s]\n",
      "Training Epoch 983: 100%|██████████| 258/258 [00:02<00:00, 100.06it/s]\n",
      "Training Epoch 984: 100%|██████████| 258/258 [00:02<00:00, 99.16it/s] \n",
      "Training Epoch 985: 100%|██████████| 258/258 [00:02<00:00, 97.43it/s] \n",
      "Training Epoch 986: 100%|██████████| 258/258 [00:02<00:00, 103.50it/s]\n",
      "Training Epoch 987: 100%|██████████| 258/258 [00:02<00:00, 94.50it/s] \n",
      "Training Epoch 988: 100%|██████████| 258/258 [00:02<00:00, 98.40it/s] \n",
      "Training Epoch 989: 100%|██████████| 258/258 [00:02<00:00, 102.86it/s]\n",
      "Training Epoch 990: 100%|██████████| 258/258 [00:02<00:00, 102.82it/s]\n",
      "Training Epoch 991: 100%|██████████| 258/258 [00:02<00:00, 99.92it/s] \n"
     ]
    },
    {
     "name": "stdout",
     "output_type": "stream",
     "text": [
      "Epoch 990 - Train Loss: 0.1770, Train MSE: 0.1774, Train MAE: 0.3129\n",
      "Epoch 990 - Validation Loss: 2.0306, Validation MSE: 2.0261, Validation MAE: 1.0729\n"
     ]
    },
    {
     "name": "stderr",
     "output_type": "stream",
     "text": [
      "Training Epoch 992: 100%|██████████| 258/258 [00:02<00:00, 103.88it/s]\n",
      "Training Epoch 993: 100%|██████████| 258/258 [00:02<00:00, 101.94it/s]\n",
      "Training Epoch 994: 100%|██████████| 258/258 [00:02<00:00, 98.26it/s] \n",
      "Training Epoch 995: 100%|██████████| 258/258 [00:02<00:00, 101.93it/s]\n",
      "Training Epoch 996: 100%|██████████| 258/258 [00:02<00:00, 100.67it/s]\n",
      "Training Epoch 997: 100%|██████████| 258/258 [00:02<00:00, 101.43it/s]\n",
      "Training Epoch 998: 100%|██████████| 258/258 [00:02<00:00, 101.92it/s]\n",
      "Training Epoch 999: 100%|██████████| 258/258 [00:02<00:00, 102.02it/s]\n",
      "Training Epoch 1000: 100%|██████████| 258/258 [00:02<00:00, 96.75it/s] \n",
      "Training Epoch 1001: 100%|██████████| 258/258 [00:02<00:00, 101.56it/s]\n"
     ]
    },
    {
     "name": "stdout",
     "output_type": "stream",
     "text": [
      "Epoch 1000 - Train Loss: 0.1786, Train MSE: 0.1789, Train MAE: 0.3126\n",
      "Epoch 1000 - Validation Loss: 1.9974, Validation MSE: 1.9924, Validation MAE: 1.0604\n"
     ]
    },
    {
     "name": "stderr",
     "output_type": "stream",
     "text": [
      "Training Epoch 1002: 100%|██████████| 258/258 [00:02<00:00, 102.57it/s]\n",
      "Training Epoch 1003: 100%|██████████| 258/258 [00:02<00:00, 103.77it/s]\n",
      "Training Epoch 1004: 100%|██████████| 258/258 [00:02<00:00, 94.18it/s] \n",
      "Training Epoch 1005: 100%|██████████| 258/258 [00:02<00:00, 103.72it/s]\n",
      "Training Epoch 1006: 100%|██████████| 258/258 [00:02<00:00, 98.15it/s] \n",
      "Training Epoch 1007: 100%|██████████| 258/258 [00:02<00:00, 102.53it/s]\n",
      "Training Epoch 1008: 100%|██████████| 258/258 [00:02<00:00, 104.20it/s]\n",
      "Training Epoch 1009: 100%|██████████| 258/258 [00:02<00:00, 101.93it/s]\n",
      "Training Epoch 1010: 100%|██████████| 258/258 [00:02<00:00, 100.00it/s]\n",
      "Training Epoch 1011: 100%|██████████| 258/258 [00:02<00:00, 101.25it/s]\n"
     ]
    },
    {
     "name": "stdout",
     "output_type": "stream",
     "text": [
      "Epoch 1010 - Train Loss: 0.1692, Train MSE: 0.1695, Train MAE: 0.3074\n",
      "Epoch 1010 - Validation Loss: 1.9872, Validation MSE: 1.9695, Validation MAE: 1.0508\n"
     ]
    },
    {
     "name": "stderr",
     "output_type": "stream",
     "text": [
      "Training Epoch 1012: 100%|██████████| 258/258 [00:02<00:00, 100.46it/s]\n",
      "Training Epoch 1013: 100%|██████████| 258/258 [00:02<00:00, 96.50it/s] \n",
      "Training Epoch 1014: 100%|██████████| 258/258 [00:02<00:00, 102.91it/s]\n",
      "Training Epoch 1015: 100%|██████████| 258/258 [00:02<00:00, 99.41it/s] \n",
      "Training Epoch 1016: 100%|██████████| 258/258 [00:02<00:00, 101.19it/s]\n",
      "Training Epoch 1017: 100%|██████████| 258/258 [00:02<00:00, 103.51it/s]\n",
      "Training Epoch 1018: 100%|██████████| 258/258 [00:02<00:00, 100.48it/s]\n",
      "Training Epoch 1019: 100%|██████████| 258/258 [00:02<00:00, 99.99it/s] \n",
      "Training Epoch 1020: 100%|██████████| 258/258 [00:02<00:00, 103.82it/s]\n",
      "Training Epoch 1021: 100%|██████████| 258/258 [00:02<00:00, 101.36it/s]\n"
     ]
    },
    {
     "name": "stdout",
     "output_type": "stream",
     "text": [
      "Epoch 1020 - Train Loss: 0.1675, Train MSE: 0.1671, Train MAE: 0.3035\n",
      "Epoch 1020 - Validation Loss: 2.0702, Validation MSE: 2.0646, Validation MAE: 1.0772\n"
     ]
    },
    {
     "name": "stderr",
     "output_type": "stream",
     "text": [
      "Training Epoch 1022: 100%|██████████| 258/258 [00:02<00:00, 102.96it/s]\n",
      "Training Epoch 1023: 100%|██████████| 258/258 [00:02<00:00, 99.28it/s] \n",
      "Training Epoch 1024: 100%|██████████| 258/258 [00:02<00:00, 99.45it/s] \n",
      "Training Epoch 1025: 100%|██████████| 258/258 [00:02<00:00, 105.44it/s]\n",
      "Training Epoch 1026: 100%|██████████| 258/258 [00:02<00:00, 93.02it/s] \n",
      "Training Epoch 1027: 100%|██████████| 258/258 [00:02<00:00, 99.48it/s] \n",
      "Training Epoch 1028: 100%|██████████| 258/258 [00:02<00:00, 101.90it/s]\n",
      "Training Epoch 1029: 100%|██████████| 258/258 [00:02<00:00, 102.82it/s]\n",
      "Training Epoch 1030: 100%|██████████| 258/258 [00:02<00:00, 100.13it/s]\n",
      "Training Epoch 1031: 100%|██████████| 258/258 [00:02<00:00, 103.31it/s]\n"
     ]
    },
    {
     "name": "stdout",
     "output_type": "stream",
     "text": [
      "Epoch 1030 - Train Loss: 0.1745, Train MSE: 0.1746, Train MAE: 0.3098\n",
      "Epoch 1030 - Validation Loss: 2.0198, Validation MSE: 2.0110, Validation MAE: 1.0652\n"
     ]
    },
    {
     "name": "stderr",
     "output_type": "stream",
     "text": [
      "Training Epoch 1032: 100%|██████████| 258/258 [00:02<00:00, 98.83it/s] \n",
      "Training Epoch 1033: 100%|██████████| 258/258 [00:02<00:00, 101.71it/s]\n",
      "Training Epoch 1034: 100%|██████████| 258/258 [00:02<00:00, 106.50it/s]\n",
      "Training Epoch 1035: 100%|██████████| 258/258 [00:02<00:00, 101.63it/s]\n",
      "Training Epoch 1036: 100%|██████████| 258/258 [00:02<00:00, 97.57it/s] \n",
      "Training Epoch 1037: 100%|██████████| 258/258 [00:02<00:00, 94.46it/s] \n",
      "Training Epoch 1038: 100%|██████████| 258/258 [00:02<00:00, 103.29it/s]\n",
      "Training Epoch 1039: 100%|██████████| 258/258 [00:02<00:00, 101.72it/s]\n",
      "Training Epoch 1040: 100%|██████████| 258/258 [00:02<00:00, 103.64it/s]\n",
      "Training Epoch 1041: 100%|██████████| 258/258 [00:02<00:00, 103.17it/s]\n"
     ]
    },
    {
     "name": "stdout",
     "output_type": "stream",
     "text": [
      "Epoch 1040 - Train Loss: 0.1581, Train MSE: 0.1574, Train MAE: 0.2985\n",
      "Epoch 1040 - Validation Loss: 2.0170, Validation MSE: 2.0101, Validation MAE: 1.0643\n"
     ]
    },
    {
     "name": "stderr",
     "output_type": "stream",
     "text": [
      "Training Epoch 1042: 100%|██████████| 258/258 [00:02<00:00, 99.95it/s] \n",
      "Training Epoch 1043: 100%|██████████| 258/258 [00:02<00:00, 102.87it/s]\n",
      "Training Epoch 1044: 100%|██████████| 258/258 [00:02<00:00, 101.06it/s]\n",
      "Training Epoch 1045: 100%|██████████| 258/258 [00:02<00:00, 104.20it/s]\n",
      "Training Epoch 1046: 100%|██████████| 258/258 [00:02<00:00, 103.32it/s]\n",
      "Training Epoch 1047: 100%|██████████| 258/258 [00:02<00:00, 101.35it/s]\n",
      "Training Epoch 1048: 100%|██████████| 258/258 [00:02<00:00, 100.91it/s]\n",
      "Training Epoch 1049: 100%|██████████| 258/258 [00:02<00:00, 96.75it/s] \n",
      "Training Epoch 1050: 100%|██████████| 258/258 [00:02<00:00, 99.93it/s] \n",
      "Training Epoch 1051: 100%|██████████| 258/258 [00:02<00:00, 102.80it/s]\n"
     ]
    },
    {
     "name": "stdout",
     "output_type": "stream",
     "text": [
      "Epoch 1050 - Train Loss: 0.1676, Train MSE: 0.1677, Train MAE: 0.3044\n",
      "Epoch 1050 - Validation Loss: 1.9774, Validation MSE: 1.9687, Validation MAE: 1.0485\n"
     ]
    },
    {
     "name": "stderr",
     "output_type": "stream",
     "text": [
      "Training Epoch 1052: 100%|██████████| 258/258 [00:02<00:00, 102.42it/s]\n",
      "Training Epoch 1053: 100%|██████████| 258/258 [00:02<00:00, 102.34it/s]\n",
      "Training Epoch 1054: 100%|██████████| 258/258 [00:02<00:00, 99.34it/s] \n",
      "Training Epoch 1055: 100%|██████████| 258/258 [00:02<00:00, 99.26it/s] \n",
      "Training Epoch 1056: 100%|██████████| 258/258 [00:02<00:00, 102.39it/s]\n",
      "Training Epoch 1057: 100%|██████████| 258/258 [00:02<00:00, 99.99it/s] \n",
      "Training Epoch 1058: 100%|██████████| 258/258 [00:02<00:00, 100.70it/s]\n",
      "Training Epoch 1059: 100%|██████████| 258/258 [00:02<00:00, 102.15it/s]\n",
      "Training Epoch 1060: 100%|██████████| 258/258 [00:02<00:00, 96.59it/s] \n",
      "Training Epoch 1061: 100%|██████████| 258/258 [00:02<00:00, 96.65it/s] \n"
     ]
    },
    {
     "name": "stdout",
     "output_type": "stream",
     "text": [
      "Epoch 1060 - Train Loss: 0.1641, Train MSE: 0.1639, Train MAE: 0.3027\n",
      "Epoch 1060 - Validation Loss: 2.0492, Validation MSE: 2.0370, Validation MAE: 1.0678\n"
     ]
    },
    {
     "name": "stderr",
     "output_type": "stream",
     "text": [
      "Training Epoch 1062: 100%|██████████| 258/258 [00:02<00:00, 100.12it/s]\n",
      "Training Epoch 1063: 100%|██████████| 258/258 [00:02<00:00, 104.25it/s]\n",
      "Training Epoch 1064: 100%|██████████| 258/258 [00:02<00:00, 101.43it/s]\n",
      "Training Epoch 1065: 100%|██████████| 258/258 [00:02<00:00, 103.77it/s]\n",
      "Training Epoch 1066: 100%|██████████| 258/258 [00:02<00:00, 99.34it/s] \n",
      "Training Epoch 1067: 100%|██████████| 258/258 [00:02<00:00, 101.47it/s]\n",
      "Training Epoch 1068: 100%|██████████| 258/258 [00:02<00:00, 102.12it/s]\n",
      "Training Epoch 1069: 100%|██████████| 258/258 [00:02<00:00, 101.49it/s]\n",
      "Training Epoch 1070: 100%|██████████| 258/258 [00:02<00:00, 105.48it/s]\n",
      "Training Epoch 1071: 100%|██████████| 258/258 [00:02<00:00, 97.90it/s] \n"
     ]
    },
    {
     "name": "stdout",
     "output_type": "stream",
     "text": [
      "Epoch 1070 - Train Loss: 0.1629, Train MSE: 0.1631, Train MAE: 0.3017\n",
      "Epoch 1070 - Validation Loss: 2.0486, Validation MSE: 2.0344, Validation MAE: 1.0706\n"
     ]
    },
    {
     "name": "stderr",
     "output_type": "stream",
     "text": [
      "Training Epoch 1072: 100%|██████████| 258/258 [00:02<00:00, 95.05it/s] \n",
      "Training Epoch 1073: 100%|██████████| 258/258 [00:02<00:00, 102.44it/s]\n",
      "Training Epoch 1074: 100%|██████████| 258/258 [00:02<00:00, 103.40it/s]\n",
      "Training Epoch 1075: 100%|██████████| 258/258 [00:02<00:00, 100.02it/s]\n",
      "Training Epoch 1076: 100%|██████████| 258/258 [00:02<00:00, 102.79it/s]\n",
      "Training Epoch 1077: 100%|██████████| 258/258 [00:02<00:00, 97.94it/s] \n",
      "Training Epoch 1078: 100%|██████████| 258/258 [00:02<00:00, 99.90it/s] \n",
      "Training Epoch 1079: 100%|██████████| 258/258 [00:02<00:00, 103.57it/s]\n",
      "Training Epoch 1080: 100%|██████████| 258/258 [00:02<00:00, 100.40it/s]\n",
      "Training Epoch 1081: 100%|██████████| 258/258 [00:02<00:00, 103.29it/s]\n"
     ]
    },
    {
     "name": "stdout",
     "output_type": "stream",
     "text": [
      "Epoch 1080 - Train Loss: 0.1653, Train MSE: 0.1650, Train MAE: 0.3005\n",
      "Epoch 1080 - Validation Loss: 2.0452, Validation MSE: 2.0366, Validation MAE: 1.0706\n"
     ]
    },
    {
     "name": "stderr",
     "output_type": "stream",
     "text": [
      "Training Epoch 1082: 100%|██████████| 258/258 [00:02<00:00, 103.51it/s]\n",
      "Training Epoch 1083: 100%|██████████| 258/258 [00:02<00:00, 103.82it/s]\n",
      "Training Epoch 1084: 100%|██████████| 258/258 [00:02<00:00, 98.52it/s] \n",
      "Training Epoch 1085: 100%|██████████| 258/258 [00:02<00:00, 103.80it/s]\n",
      "Training Epoch 1086: 100%|██████████| 258/258 [00:02<00:00, 101.02it/s]\n",
      "Training Epoch 1087: 100%|██████████| 258/258 [00:02<00:00, 100.48it/s]\n",
      "Training Epoch 1088: 100%|██████████| 258/258 [00:02<00:00, 101.84it/s]\n",
      "Training Epoch 1089: 100%|██████████| 258/258 [00:02<00:00, 104.64it/s]\n",
      "Training Epoch 1090: 100%|██████████| 258/258 [00:02<00:00, 98.45it/s] \n",
      "Training Epoch 1091: 100%|██████████| 258/258 [00:02<00:00, 102.55it/s]\n"
     ]
    },
    {
     "name": "stdout",
     "output_type": "stream",
     "text": [
      "Epoch 1090 - Train Loss: 0.1618, Train MSE: 0.1621, Train MAE: 0.2968\n",
      "Epoch 1090 - Validation Loss: 2.0434, Validation MSE: 2.0307, Validation MAE: 1.0642\n"
     ]
    },
    {
     "name": "stderr",
     "output_type": "stream",
     "text": [
      "Training Epoch 1092: 100%|██████████| 258/258 [00:02<00:00, 105.84it/s]\n",
      "Training Epoch 1093: 100%|██████████| 258/258 [00:02<00:00, 102.38it/s]\n",
      "Training Epoch 1094: 100%|██████████| 258/258 [00:02<00:00, 93.00it/s] \n",
      "Training Epoch 1095: 100%|██████████| 258/258 [00:02<00:00, 98.69it/s] \n",
      "Training Epoch 1096: 100%|██████████| 258/258 [00:02<00:00, 100.82it/s]\n",
      "Training Epoch 1097: 100%|██████████| 258/258 [00:02<00:00, 101.75it/s]\n",
      "Training Epoch 1098: 100%|██████████| 258/258 [00:02<00:00, 102.17it/s]\n",
      "Training Epoch 1099: 100%|██████████| 258/258 [00:02<00:00, 101.55it/s]\n",
      "Training Epoch 1100: 100%|██████████| 258/258 [00:02<00:00, 101.41it/s]\n",
      "Training Epoch 1101: 100%|██████████| 258/258 [00:02<00:00, 98.76it/s] \n"
     ]
    },
    {
     "name": "stdout",
     "output_type": "stream",
     "text": [
      "Epoch 1100 - Train Loss: 0.1579, Train MSE: 0.1580, Train MAE: 0.2966\n",
      "Epoch 1100 - Validation Loss: 2.0400, Validation MSE: 2.0332, Validation MAE: 1.0638\n"
     ]
    },
    {
     "name": "stderr",
     "output_type": "stream",
     "text": [
      "Training Epoch 1102: 100%|██████████| 258/258 [00:02<00:00, 101.50it/s]\n",
      "Training Epoch 1103: 100%|██████████| 258/258 [00:02<00:00, 102.20it/s]\n",
      "Training Epoch 1104: 100%|██████████| 258/258 [00:02<00:00, 100.98it/s]\n",
      "Training Epoch 1105: 100%|██████████| 258/258 [00:02<00:00, 104.72it/s]\n",
      "Training Epoch 1106: 100%|██████████| 258/258 [00:02<00:00, 106.09it/s]\n",
      "Training Epoch 1107: 100%|██████████| 258/258 [00:02<00:00, 101.23it/s]\n",
      "Training Epoch 1108: 100%|██████████| 258/258 [00:02<00:00, 99.05it/s] \n",
      "Training Epoch 1109: 100%|██████████| 258/258 [00:02<00:00, 100.88it/s]\n",
      "Training Epoch 1110: 100%|██████████| 258/258 [00:02<00:00, 103.34it/s]\n",
      "Training Epoch 1111: 100%|██████████| 258/258 [00:02<00:00, 100.78it/s]\n"
     ]
    },
    {
     "name": "stdout",
     "output_type": "stream",
     "text": [
      "Epoch 1110 - Train Loss: 0.1695, Train MSE: 0.1698, Train MAE: 0.3037\n",
      "Epoch 1110 - Validation Loss: 2.0049, Validation MSE: 1.9940, Validation MAE: 1.0651\n"
     ]
    },
    {
     "name": "stderr",
     "output_type": "stream",
     "text": [
      "Training Epoch 1112: 100%|██████████| 258/258 [00:02<00:00, 100.27it/s]\n",
      "Training Epoch 1113: 100%|██████████| 258/258 [00:02<00:00, 100.93it/s]\n",
      "Training Epoch 1114: 100%|██████████| 258/258 [00:02<00:00, 93.98it/s] \n",
      "Training Epoch 1115: 100%|██████████| 258/258 [00:02<00:00, 102.82it/s]\n",
      "Training Epoch 1116: 100%|██████████| 258/258 [00:02<00:00, 93.43it/s] \n",
      "Training Epoch 1117: 100%|██████████| 258/258 [00:02<00:00, 100.38it/s]\n",
      "Training Epoch 1118: 100%|██████████| 258/258 [00:02<00:00, 100.64it/s]\n",
      "Training Epoch 1119: 100%|██████████| 258/258 [00:02<00:00, 101.95it/s]\n",
      "Training Epoch 1120: 100%|██████████| 258/258 [00:02<00:00, 98.75it/s] \n",
      "Training Epoch 1121: 100%|██████████| 258/258 [00:02<00:00, 99.92it/s] \n"
     ]
    },
    {
     "name": "stdout",
     "output_type": "stream",
     "text": [
      "Epoch 1120 - Train Loss: 0.1620, Train MSE: 0.1622, Train MAE: 0.2993\n",
      "Epoch 1120 - Validation Loss: 2.0670, Validation MSE: 2.0542, Validation MAE: 1.0772\n"
     ]
    },
    {
     "name": "stderr",
     "output_type": "stream",
     "text": [
      "Training Epoch 1122: 100%|██████████| 258/258 [00:02<00:00, 96.56it/s] \n",
      "Training Epoch 1123: 100%|██████████| 258/258 [00:02<00:00, 100.69it/s]\n",
      "Training Epoch 1124: 100%|██████████| 258/258 [00:02<00:00, 103.40it/s]\n",
      "Training Epoch 1125: 100%|██████████| 258/258 [00:02<00:00, 100.90it/s]\n",
      "Training Epoch 1126: 100%|██████████| 258/258 [00:02<00:00, 99.90it/s] \n",
      "Training Epoch 1127: 100%|██████████| 258/258 [00:02<00:00, 95.47it/s] \n",
      "Training Epoch 1128: 100%|██████████| 258/258 [00:02<00:00, 104.19it/s]\n",
      "Training Epoch 1129: 100%|██████████| 258/258 [00:02<00:00, 106.71it/s]\n",
      "Training Epoch 1130: 100%|██████████| 258/258 [00:02<00:00, 103.54it/s]\n",
      "Training Epoch 1131: 100%|██████████| 258/258 [00:02<00:00, 102.10it/s]\n"
     ]
    },
    {
     "name": "stdout",
     "output_type": "stream",
     "text": [
      "Epoch 1130 - Train Loss: 0.1638, Train MSE: 0.1640, Train MAE: 0.3010\n",
      "Epoch 1130 - Validation Loss: 2.0381, Validation MSE: 2.0285, Validation MAE: 1.0771\n"
     ]
    },
    {
     "name": "stderr",
     "output_type": "stream",
     "text": [
      "Training Epoch 1132: 100%|██████████| 258/258 [00:02<00:00, 97.89it/s] \n",
      "Training Epoch 1133: 100%|██████████| 258/258 [00:02<00:00, 101.58it/s]\n",
      "Training Epoch 1134: 100%|██████████| 258/258 [00:02<00:00, 102.07it/s]\n",
      "Training Epoch 1135: 100%|██████████| 258/258 [00:02<00:00, 102.91it/s]\n",
      "Training Epoch 1136: 100%|██████████| 258/258 [00:02<00:00, 101.08it/s]\n",
      "Training Epoch 1137: 100%|██████████| 258/258 [00:02<00:00, 102.26it/s]\n",
      "Training Epoch 1138: 100%|██████████| 258/258 [00:02<00:00, 91.37it/s] \n",
      "Training Epoch 1139: 100%|██████████| 258/258 [00:02<00:00, 96.52it/s] \n",
      "Training Epoch 1140: 100%|██████████| 258/258 [00:02<00:00, 96.51it/s] \n",
      "Training Epoch 1141: 100%|██████████| 258/258 [00:02<00:00, 102.78it/s]\n"
     ]
    },
    {
     "name": "stdout",
     "output_type": "stream",
     "text": [
      "Epoch 1140 - Train Loss: 0.1618, Train MSE: 0.1623, Train MAE: 0.2988\n",
      "Epoch 1140 - Validation Loss: 2.0495, Validation MSE: 2.0380, Validation MAE: 1.0698\n"
     ]
    },
    {
     "name": "stderr",
     "output_type": "stream",
     "text": [
      "Training Epoch 1142: 100%|██████████| 258/258 [00:02<00:00, 105.74it/s]\n",
      "Training Epoch 1143: 100%|██████████| 258/258 [00:02<00:00, 107.70it/s]\n",
      "Training Epoch 1144: 100%|██████████| 258/258 [00:02<00:00, 100.84it/s]\n",
      "Training Epoch 1145: 100%|██████████| 258/258 [00:02<00:00, 101.82it/s]\n",
      "Training Epoch 1146: 100%|██████████| 258/258 [00:02<00:00, 99.90it/s] \n",
      "Training Epoch 1147: 100%|██████████| 258/258 [00:02<00:00, 101.55it/s]\n",
      "Training Epoch 1148: 100%|██████████| 258/258 [00:02<00:00, 104.43it/s]\n",
      "Training Epoch 1149: 100%|██████████| 258/258 [00:02<00:00, 104.35it/s]\n",
      "Training Epoch 1150: 100%|██████████| 258/258 [00:02<00:00, 95.52it/s] \n",
      "Training Epoch 1151: 100%|██████████| 258/258 [00:02<00:00, 104.71it/s]\n"
     ]
    },
    {
     "name": "stdout",
     "output_type": "stream",
     "text": [
      "Epoch 1150 - Train Loss: 0.1674, Train MSE: 0.1620, Train MAE: 0.2982\n",
      "Epoch 1150 - Validation Loss: 1.9907, Validation MSE: 1.9782, Validation MAE: 1.0571\n"
     ]
    },
    {
     "name": "stderr",
     "output_type": "stream",
     "text": [
      "Training Epoch 1152: 100%|██████████| 258/258 [00:02<00:00, 102.92it/s]\n",
      "Training Epoch 1153: 100%|██████████| 258/258 [00:02<00:00, 102.47it/s]\n",
      "Training Epoch 1154: 100%|██████████| 258/258 [00:02<00:00, 104.93it/s]\n",
      "Training Epoch 1155: 100%|██████████| 258/258 [00:02<00:00, 101.54it/s]\n",
      "Training Epoch 1156: 100%|██████████| 258/258 [00:02<00:00, 101.94it/s]\n",
      "Training Epoch 1157: 100%|██████████| 258/258 [00:02<00:00, 102.01it/s]\n",
      "Training Epoch 1158: 100%|██████████| 258/258 [00:02<00:00, 107.12it/s]\n",
      "Training Epoch 1159: 100%|██████████| 258/258 [00:02<00:00, 102.64it/s]\n",
      "Training Epoch 1160: 100%|██████████| 258/258 [00:02<00:00, 102.21it/s]\n",
      "Training Epoch 1161: 100%|██████████| 258/258 [00:02<00:00, 94.74it/s] \n"
     ]
    },
    {
     "name": "stdout",
     "output_type": "stream",
     "text": [
      "Epoch 1160 - Train Loss: 0.1569, Train MSE: 0.1572, Train MAE: 0.2965\n",
      "Epoch 1160 - Validation Loss: 2.0559, Validation MSE: 2.0447, Validation MAE: 1.0689\n"
     ]
    },
    {
     "name": "stderr",
     "output_type": "stream",
     "text": [
      "Training Epoch 1162: 100%|██████████| 258/258 [00:02<00:00, 97.77it/s] \n",
      "Training Epoch 1163: 100%|██████████| 258/258 [00:02<00:00, 95.63it/s] \n",
      "Training Epoch 1164: 100%|██████████| 258/258 [00:02<00:00, 103.24it/s]\n",
      "Training Epoch 1165: 100%|██████████| 258/258 [00:02<00:00, 102.40it/s]\n",
      "Training Epoch 1166: 100%|██████████| 258/258 [00:02<00:00, 100.04it/s]\n",
      "Training Epoch 1167: 100%|██████████| 258/258 [00:02<00:00, 99.61it/s] \n",
      "Training Epoch 1168: 100%|██████████| 258/258 [00:02<00:00, 103.05it/s]\n",
      "Training Epoch 1169: 100%|██████████| 258/258 [00:02<00:00, 104.26it/s]\n",
      "Training Epoch 1170: 100%|██████████| 258/258 [00:02<00:00, 102.53it/s]\n",
      "Training Epoch 1171: 100%|██████████| 258/258 [00:02<00:00, 105.35it/s]\n"
     ]
    },
    {
     "name": "stdout",
     "output_type": "stream",
     "text": [
      "Epoch 1170 - Train Loss: 0.1648, Train MSE: 0.1652, Train MAE: 0.2965\n",
      "Epoch 1170 - Validation Loss: 2.0157, Validation MSE: 2.0057, Validation MAE: 1.0581\n"
     ]
    },
    {
     "name": "stderr",
     "output_type": "stream",
     "text": [
      "Training Epoch 1172: 100%|██████████| 258/258 [00:02<00:00, 101.55it/s]\n",
      "Training Epoch 1173: 100%|██████████| 258/258 [00:02<00:00, 101.16it/s]\n",
      "Training Epoch 1174: 100%|██████████| 258/258 [00:02<00:00, 98.35it/s] \n",
      "Training Epoch 1175: 100%|██████████| 258/258 [00:02<00:00, 102.84it/s]\n",
      "Training Epoch 1176: 100%|██████████| 258/258 [00:02<00:00, 102.47it/s]\n",
      "Training Epoch 1177: 100%|██████████| 258/258 [00:02<00:00, 102.91it/s]\n",
      "Training Epoch 1178: 100%|██████████| 258/258 [00:02<00:00, 100.66it/s]\n",
      "Training Epoch 1179: 100%|██████████| 258/258 [00:02<00:00, 98.28it/s] \n",
      "Training Epoch 1180: 100%|██████████| 258/258 [00:02<00:00, 98.56it/s] \n",
      "Training Epoch 1181: 100%|██████████| 258/258 [00:02<00:00, 101.68it/s]\n"
     ]
    },
    {
     "name": "stdout",
     "output_type": "stream",
     "text": [
      "Epoch 1180 - Train Loss: 0.1650, Train MSE: 0.1653, Train MAE: 0.3009\n",
      "Epoch 1180 - Validation Loss: 2.0089, Validation MSE: 1.9979, Validation MAE: 1.0659\n"
     ]
    },
    {
     "name": "stderr",
     "output_type": "stream",
     "text": [
      "Training Epoch 1182: 100%|██████████| 258/258 [00:02<00:00, 104.23it/s]\n",
      "Training Epoch 1183: 100%|██████████| 258/258 [00:02<00:00, 93.45it/s] \n",
      "Training Epoch 1184: 100%|██████████| 258/258 [00:02<00:00, 101.13it/s]\n",
      "Training Epoch 1185: 100%|██████████| 258/258 [00:02<00:00, 101.33it/s]\n",
      "Training Epoch 1186: 100%|██████████| 258/258 [00:02<00:00, 99.86it/s] \n",
      "Training Epoch 1187: 100%|██████████| 258/258 [00:02<00:00, 96.83it/s] \n",
      "Training Epoch 1188: 100%|██████████| 258/258 [00:02<00:00, 104.47it/s]\n",
      "Training Epoch 1189: 100%|██████████| 258/258 [00:02<00:00, 99.79it/s] \n",
      "Training Epoch 1190: 100%|██████████| 258/258 [00:02<00:00, 101.20it/s]\n",
      "Training Epoch 1191: 100%|██████████| 258/258 [00:02<00:00, 99.32it/s] \n"
     ]
    },
    {
     "name": "stdout",
     "output_type": "stream",
     "text": [
      "Epoch 1190 - Train Loss: 0.1547, Train MSE: 0.1550, Train MAE: 0.2940\n",
      "Epoch 1190 - Validation Loss: 2.0666, Validation MSE: 2.0607, Validation MAE: 1.0779\n"
     ]
    },
    {
     "name": "stderr",
     "output_type": "stream",
     "text": [
      "Training Epoch 1192: 100%|██████████| 258/258 [00:02<00:00, 104.80it/s]\n",
      "Training Epoch 1193: 100%|██████████| 258/258 [00:02<00:00, 102.02it/s]\n",
      "Training Epoch 1194: 100%|██████████| 258/258 [00:02<00:00, 101.47it/s]\n",
      "Training Epoch 1195: 100%|██████████| 258/258 [00:02<00:00, 100.88it/s]\n",
      "Training Epoch 1196: 100%|██████████| 258/258 [00:02<00:00, 102.25it/s]\n",
      "Training Epoch 1197: 100%|██████████| 258/258 [00:02<00:00, 99.88it/s] \n",
      "Training Epoch 1198: 100%|██████████| 258/258 [00:02<00:00, 99.94it/s] \n",
      "Training Epoch 1199: 100%|██████████| 258/258 [00:02<00:00, 106.87it/s]\n",
      "Training Epoch 1200: 100%|██████████| 258/258 [00:02<00:00, 102.24it/s]\n",
      "Training Epoch 1201: 100%|██████████| 258/258 [00:02<00:00, 105.31it/s]\n"
     ]
    },
    {
     "name": "stdout",
     "output_type": "stream",
     "text": [
      "Epoch 1200 - Train Loss: 0.1547, Train MSE: 0.1548, Train MAE: 0.2900\n",
      "Epoch 1200 - Validation Loss: 2.0450, Validation MSE: 2.0333, Validation MAE: 1.0668\n"
     ]
    },
    {
     "name": "stderr",
     "output_type": "stream",
     "text": [
      "Training Epoch 1202: 100%|██████████| 258/258 [00:02<00:00, 100.73it/s]\n",
      "Training Epoch 1203: 100%|██████████| 258/258 [00:02<00:00, 103.56it/s]\n",
      "Training Epoch 1204: 100%|██████████| 258/258 [00:02<00:00, 102.22it/s]\n",
      "Training Epoch 1205: 100%|██████████| 258/258 [00:02<00:00, 103.75it/s]\n",
      "Training Epoch 1206: 100%|██████████| 258/258 [00:02<00:00, 97.03it/s] \n",
      "Training Epoch 1207: 100%|██████████| 258/258 [00:02<00:00, 98.83it/s] \n",
      "Training Epoch 1208: 100%|██████████| 258/258 [00:02<00:00, 97.19it/s] \n",
      "Training Epoch 1209: 100%|██████████| 258/258 [00:02<00:00, 101.02it/s]\n",
      "Training Epoch 1210: 100%|██████████| 258/258 [00:02<00:00, 104.19it/s]\n",
      "Training Epoch 1211: 100%|██████████| 258/258 [00:02<00:00, 99.63it/s] \n"
     ]
    },
    {
     "name": "stdout",
     "output_type": "stream",
     "text": [
      "Epoch 1210 - Train Loss: 0.1591, Train MSE: 0.1589, Train MAE: 0.2938\n",
      "Epoch 1210 - Validation Loss: 1.9744, Validation MSE: 1.9641, Validation MAE: 1.0547\n"
     ]
    },
    {
     "name": "stderr",
     "output_type": "stream",
     "text": [
      "Training Epoch 1212: 100%|██████████| 258/258 [00:02<00:00, 101.55it/s]\n",
      "Training Epoch 1213: 100%|██████████| 258/258 [00:02<00:00, 102.39it/s]\n",
      "Training Epoch 1214: 100%|██████████| 258/258 [00:02<00:00, 103.43it/s]\n",
      "Training Epoch 1215: 100%|██████████| 258/258 [00:02<00:00, 100.62it/s]\n",
      "Training Epoch 1216: 100%|██████████| 258/258 [00:02<00:00, 102.27it/s]\n",
      "Training Epoch 1217: 100%|██████████| 258/258 [00:02<00:00, 102.28it/s]\n",
      "Training Epoch 1218: 100%|██████████| 258/258 [00:02<00:00, 101.66it/s]\n",
      "Training Epoch 1219: 100%|██████████| 258/258 [00:02<00:00, 101.33it/s]\n",
      "Training Epoch 1220: 100%|██████████| 258/258 [00:02<00:00, 103.16it/s]\n",
      "Training Epoch 1221: 100%|██████████| 258/258 [00:02<00:00, 101.38it/s]\n"
     ]
    },
    {
     "name": "stdout",
     "output_type": "stream",
     "text": [
      "Epoch 1220 - Train Loss: 0.1599, Train MSE: 0.1592, Train MAE: 0.2946\n",
      "Epoch 1220 - Validation Loss: 2.0385, Validation MSE: 2.0345, Validation MAE: 1.0694\n"
     ]
    },
    {
     "name": "stderr",
     "output_type": "stream",
     "text": [
      "Training Epoch 1222: 100%|██████████| 258/258 [00:02<00:00, 101.17it/s]\n",
      "Training Epoch 1223: 100%|██████████| 258/258 [00:02<00:00, 101.19it/s]\n",
      "Training Epoch 1224: 100%|██████████| 258/258 [00:02<00:00, 104.98it/s]\n",
      "Training Epoch 1225: 100%|██████████| 258/258 [00:02<00:00, 101.93it/s]\n",
      "Training Epoch 1226: 100%|██████████| 258/258 [00:02<00:00, 103.38it/s]\n",
      "Training Epoch 1227: 100%|██████████| 258/258 [00:02<00:00, 103.08it/s]\n",
      "Training Epoch 1228: 100%|██████████| 258/258 [00:02<00:00, 93.27it/s] \n",
      "Training Epoch 1229: 100%|██████████| 258/258 [00:02<00:00, 101.97it/s]\n",
      "Training Epoch 1230: 100%|██████████| 258/258 [00:02<00:00, 99.44it/s] \n",
      "Training Epoch 1231: 100%|██████████| 258/258 [00:02<00:00, 102.14it/s]\n"
     ]
    },
    {
     "name": "stdout",
     "output_type": "stream",
     "text": [
      "Epoch 1230 - Train Loss: 0.1643, Train MSE: 0.1643, Train MAE: 0.2978\n",
      "Epoch 1230 - Validation Loss: 2.0351, Validation MSE: 2.0242, Validation MAE: 1.0640\n"
     ]
    },
    {
     "name": "stderr",
     "output_type": "stream",
     "text": [
      "Training Epoch 1232: 100%|██████████| 258/258 [00:02<00:00, 95.15it/s] \n",
      "Training Epoch 1233: 100%|██████████| 258/258 [00:02<00:00, 100.97it/s]\n",
      "Training Epoch 1234: 100%|██████████| 258/258 [00:02<00:00, 96.78it/s] \n",
      "Training Epoch 1235: 100%|██████████| 258/258 [00:02<00:00, 101.86it/s]\n",
      "Training Epoch 1236: 100%|██████████| 258/258 [00:02<00:00, 100.96it/s]\n",
      "Training Epoch 1237: 100%|██████████| 258/258 [00:02<00:00, 104.07it/s]\n",
      "Training Epoch 1238: 100%|██████████| 258/258 [00:02<00:00, 104.01it/s]\n",
      "Training Epoch 1239: 100%|██████████| 258/258 [00:02<00:00, 97.55it/s] \n",
      "Training Epoch 1240: 100%|██████████| 258/258 [00:02<00:00, 101.93it/s]\n",
      "Training Epoch 1241: 100%|██████████| 258/258 [00:02<00:00, 104.73it/s]\n"
     ]
    },
    {
     "name": "stdout",
     "output_type": "stream",
     "text": [
      "Epoch 1240 - Train Loss: 0.1574, Train MSE: 0.1576, Train MAE: 0.2979\n",
      "Epoch 1240 - Validation Loss: 2.0076, Validation MSE: 1.9972, Validation MAE: 1.0605\n"
     ]
    },
    {
     "name": "stderr",
     "output_type": "stream",
     "text": [
      "Training Epoch 1242: 100%|██████████| 258/258 [00:02<00:00, 101.96it/s]\n",
      "Training Epoch 1243: 100%|██████████| 258/258 [00:02<00:00, 97.99it/s] \n",
      "Training Epoch 1244: 100%|██████████| 258/258 [00:02<00:00, 100.65it/s]\n",
      "Training Epoch 1245: 100%|██████████| 258/258 [00:02<00:00, 96.60it/s] \n",
      "Training Epoch 1246: 100%|██████████| 258/258 [00:02<00:00, 98.83it/s] \n",
      "Training Epoch 1247: 100%|██████████| 258/258 [00:02<00:00, 102.38it/s]\n",
      "Training Epoch 1248: 100%|██████████| 258/258 [00:02<00:00, 101.27it/s]\n",
      "Training Epoch 1249: 100%|██████████| 258/258 [00:02<00:00, 102.73it/s]\n",
      "Training Epoch 1250: 100%|██████████| 258/258 [00:02<00:00, 95.71it/s] \n",
      "Training Epoch 1251: 100%|██████████| 258/258 [00:02<00:00, 100.21it/s]\n"
     ]
    },
    {
     "name": "stdout",
     "output_type": "stream",
     "text": [
      "Epoch 1250 - Train Loss: 0.1568, Train MSE: 0.1569, Train MAE: 0.2916\n",
      "Epoch 1250 - Validation Loss: 2.0183, Validation MSE: 2.0097, Validation MAE: 1.0648\n"
     ]
    },
    {
     "name": "stderr",
     "output_type": "stream",
     "text": [
      "Training Epoch 1252: 100%|██████████| 258/258 [00:02<00:00, 99.57it/s] \n",
      "Training Epoch 1253: 100%|██████████| 258/258 [00:02<00:00, 101.29it/s]\n",
      "Training Epoch 1254: 100%|██████████| 258/258 [00:02<00:00, 97.33it/s] \n",
      "Training Epoch 1255: 100%|██████████| 258/258 [00:02<00:00, 105.75it/s]\n",
      "Training Epoch 1256: 100%|██████████| 258/258 [00:02<00:00, 98.79it/s] \n",
      "Training Epoch 1257: 100%|██████████| 258/258 [00:02<00:00, 97.35it/s] \n",
      "Training Epoch 1258: 100%|██████████| 258/258 [00:02<00:00, 100.34it/s]\n",
      "Training Epoch 1259: 100%|██████████| 258/258 [00:02<00:00, 101.17it/s]\n",
      "Training Epoch 1260: 100%|██████████| 258/258 [00:02<00:00, 103.32it/s]\n",
      "Training Epoch 1261: 100%|██████████| 258/258 [00:02<00:00, 101.73it/s]\n"
     ]
    },
    {
     "name": "stdout",
     "output_type": "stream",
     "text": [
      "Epoch 1260 - Train Loss: 0.1532, Train MSE: 0.1525, Train MAE: 0.2871\n",
      "Epoch 1260 - Validation Loss: 2.0120, Validation MSE: 2.0018, Validation MAE: 1.0518\n"
     ]
    },
    {
     "name": "stderr",
     "output_type": "stream",
     "text": [
      "Training Epoch 1262: 100%|██████████| 258/258 [00:02<00:00, 103.01it/s]\n",
      "Training Epoch 1263: 100%|██████████| 258/258 [00:02<00:00, 95.59it/s] \n",
      "Training Epoch 1264: 100%|██████████| 258/258 [00:02<00:00, 102.94it/s]\n",
      "Training Epoch 1265: 100%|██████████| 258/258 [00:02<00:00, 103.44it/s]\n",
      "Training Epoch 1266: 100%|██████████| 258/258 [00:02<00:00, 100.53it/s]\n",
      "Training Epoch 1267: 100%|██████████| 258/258 [00:02<00:00, 103.27it/s]\n",
      "Training Epoch 1268: 100%|██████████| 258/258 [00:02<00:00, 100.36it/s]\n",
      "Training Epoch 1269: 100%|██████████| 258/258 [00:02<00:00, 99.70it/s] \n",
      "Training Epoch 1270: 100%|██████████| 258/258 [00:02<00:00, 102.81it/s]\n",
      "Training Epoch 1271: 100%|██████████| 258/258 [00:02<00:00, 103.22it/s]\n"
     ]
    },
    {
     "name": "stdout",
     "output_type": "stream",
     "text": [
      "Epoch 1270 - Train Loss: 0.1476, Train MSE: 0.1478, Train MAE: 0.2838\n",
      "Epoch 1270 - Validation Loss: 2.0003, Validation MSE: 1.9879, Validation MAE: 1.0521\n"
     ]
    },
    {
     "name": "stderr",
     "output_type": "stream",
     "text": [
      "Training Epoch 1272: 100%|██████████| 258/258 [00:02<00:00, 101.52it/s]\n",
      "Training Epoch 1273: 100%|██████████| 258/258 [00:02<00:00, 97.38it/s] \n",
      "Training Epoch 1274: 100%|██████████| 258/258 [00:02<00:00, 100.78it/s]\n",
      "Training Epoch 1275: 100%|██████████| 258/258 [00:02<00:00, 100.79it/s]\n",
      "Training Epoch 1276: 100%|██████████| 258/258 [00:02<00:00, 103.25it/s]\n",
      "Training Epoch 1277: 100%|██████████| 258/258 [00:02<00:00, 100.76it/s]\n",
      "Training Epoch 1278: 100%|██████████| 258/258 [00:02<00:00, 102.83it/s]\n",
      "Training Epoch 1279: 100%|██████████| 258/258 [00:02<00:00, 94.91it/s] \n",
      "Training Epoch 1280: 100%|██████████| 258/258 [00:02<00:00, 101.05it/s]\n",
      "Training Epoch 1281: 100%|██████████| 258/258 [00:02<00:00, 99.58it/s] \n"
     ]
    },
    {
     "name": "stdout",
     "output_type": "stream",
     "text": [
      "Epoch 1280 - Train Loss: 0.1526, Train MSE: 0.1529, Train MAE: 0.2910\n",
      "Epoch 1280 - Validation Loss: 1.9996, Validation MSE: 1.9841, Validation MAE: 1.0547\n"
     ]
    },
    {
     "name": "stderr",
     "output_type": "stream",
     "text": [
      "Training Epoch 1282: 100%|██████████| 258/258 [00:02<00:00, 100.43it/s]\n",
      "Training Epoch 1283: 100%|██████████| 258/258 [00:02<00:00, 104.27it/s]\n",
      "Training Epoch 1284: 100%|██████████| 258/258 [00:02<00:00, 100.70it/s]\n",
      "Training Epoch 1285: 100%|██████████| 258/258 [00:02<00:00, 103.63it/s]\n",
      "Training Epoch 1286: 100%|██████████| 258/258 [00:02<00:00, 101.28it/s]\n",
      "Training Epoch 1287: 100%|██████████| 258/258 [00:02<00:00, 99.88it/s] \n",
      "Training Epoch 1288: 100%|██████████| 258/258 [00:02<00:00, 101.21it/s]\n",
      "Training Epoch 1289: 100%|██████████| 258/258 [00:02<00:00, 100.91it/s]\n",
      "Training Epoch 1290: 100%|██████████| 258/258 [00:02<00:00, 103.22it/s]\n",
      "Training Epoch 1291: 100%|██████████| 258/258 [00:02<00:00, 100.93it/s]\n"
     ]
    },
    {
     "name": "stdout",
     "output_type": "stream",
     "text": [
      "Epoch 1290 - Train Loss: 0.1609, Train MSE: 0.1611, Train MAE: 0.2931\n",
      "Epoch 1290 - Validation Loss: 1.9842, Validation MSE: 1.9729, Validation MAE: 1.0602\n"
     ]
    },
    {
     "name": "stderr",
     "output_type": "stream",
     "text": [
      "Training Epoch 1292: 100%|██████████| 258/258 [00:02<00:00, 102.55it/s]\n",
      "Training Epoch 1293: 100%|██████████| 258/258 [00:02<00:00, 101.50it/s]\n",
      "Training Epoch 1294: 100%|██████████| 258/258 [00:02<00:00, 102.71it/s]\n",
      "Training Epoch 1295: 100%|██████████| 258/258 [00:02<00:00, 93.93it/s] \n",
      "Training Epoch 1296: 100%|██████████| 258/258 [00:02<00:00, 103.48it/s]\n",
      "Training Epoch 1297: 100%|██████████| 258/258 [00:02<00:00, 101.67it/s]\n",
      "Training Epoch 1298: 100%|██████████| 258/258 [00:02<00:00, 105.79it/s]\n",
      "Training Epoch 1299: 100%|██████████| 258/258 [00:02<00:00, 101.87it/s]\n",
      "Training Epoch 1300: 100%|██████████| 258/258 [00:02<00:00, 102.90it/s]\n",
      "Training Epoch 1301: 100%|██████████| 258/258 [00:02<00:00, 103.74it/s]\n"
     ]
    },
    {
     "name": "stdout",
     "output_type": "stream",
     "text": [
      "Epoch 1300 - Train Loss: 0.1604, Train MSE: 0.1606, Train MAE: 0.2937\n",
      "Epoch 1300 - Validation Loss: 2.0219, Validation MSE: 2.0111, Validation MAE: 1.0618\n"
     ]
    },
    {
     "name": "stderr",
     "output_type": "stream",
     "text": [
      "Training Epoch 1302: 100%|██████████| 258/258 [00:02<00:00, 101.48it/s]\n",
      "Training Epoch 1303: 100%|██████████| 258/258 [00:02<00:00, 104.99it/s]\n",
      "Training Epoch 1304: 100%|██████████| 258/258 [00:02<00:00, 107.56it/s]\n",
      "Training Epoch 1305: 100%|██████████| 258/258 [00:02<00:00, 93.94it/s] \n",
      "Training Epoch 1306: 100%|██████████| 258/258 [00:02<00:00, 102.19it/s]\n",
      "Training Epoch 1307: 100%|██████████| 258/258 [00:02<00:00, 101.82it/s]\n",
      "Training Epoch 1308: 100%|██████████| 258/258 [00:02<00:00, 103.28it/s]\n",
      "Training Epoch 1309: 100%|██████████| 258/258 [00:02<00:00, 103.45it/s]\n",
      "Training Epoch 1310: 100%|██████████| 258/258 [00:02<00:00, 103.14it/s]\n",
      "Training Epoch 1311: 100%|██████████| 258/258 [00:02<00:00, 98.51it/s] \n"
     ]
    },
    {
     "name": "stdout",
     "output_type": "stream",
     "text": [
      "Epoch 1310 - Train Loss: 0.1519, Train MSE: 0.1518, Train MAE: 0.2901\n",
      "Epoch 1310 - Validation Loss: 2.0243, Validation MSE: 2.0124, Validation MAE: 1.0696\n"
     ]
    },
    {
     "name": "stderr",
     "output_type": "stream",
     "text": [
      "Training Epoch 1312: 100%|██████████| 258/258 [00:02<00:00, 102.27it/s]\n",
      "Training Epoch 1313: 100%|██████████| 258/258 [00:02<00:00, 99.84it/s] \n",
      "Training Epoch 1314: 100%|██████████| 258/258 [00:02<00:00, 104.73it/s]\n",
      "Training Epoch 1315: 100%|██████████| 258/258 [00:02<00:00, 100.93it/s]\n",
      "Training Epoch 1316: 100%|██████████| 258/258 [00:02<00:00, 104.86it/s]\n",
      "Training Epoch 1317: 100%|██████████| 258/258 [00:02<00:00, 99.73it/s] \n",
      "Training Epoch 1318: 100%|██████████| 258/258 [00:02<00:00, 91.77it/s] \n",
      "Training Epoch 1319: 100%|██████████| 258/258 [00:02<00:00, 99.50it/s] \n",
      "Training Epoch 1320: 100%|██████████| 258/258 [00:02<00:00, 104.23it/s]\n",
      "Training Epoch 1321: 100%|██████████| 258/258 [00:02<00:00, 102.24it/s]\n"
     ]
    },
    {
     "name": "stdout",
     "output_type": "stream",
     "text": [
      "Epoch 1320 - Train Loss: 0.1488, Train MSE: 0.1490, Train MAE: 0.2852\n",
      "Epoch 1320 - Validation Loss: 2.0187, Validation MSE: 2.0090, Validation MAE: 1.0560\n"
     ]
    },
    {
     "name": "stderr",
     "output_type": "stream",
     "text": [
      "Training Epoch 1322: 100%|██████████| 258/258 [00:02<00:00, 102.43it/s]\n",
      "Training Epoch 1323: 100%|██████████| 258/258 [00:02<00:00, 98.65it/s] \n",
      "Training Epoch 1324: 100%|██████████| 258/258 [00:02<00:00, 100.37it/s]\n",
      "Training Epoch 1325: 100%|██████████| 258/258 [00:02<00:00, 103.43it/s]\n",
      "Training Epoch 1326: 100%|██████████| 258/258 [00:02<00:00, 102.44it/s]\n",
      "Training Epoch 1327: 100%|██████████| 258/258 [00:02<00:00, 100.60it/s]\n",
      "Training Epoch 1328: 100%|██████████| 258/258 [00:02<00:00, 105.52it/s]\n",
      "Training Epoch 1329: 100%|██████████| 258/258 [00:02<00:00, 96.34it/s] \n",
      "Training Epoch 1330: 100%|██████████| 258/258 [00:02<00:00, 104.79it/s]\n",
      "Training Epoch 1331: 100%|██████████| 258/258 [00:02<00:00, 101.86it/s]\n"
     ]
    },
    {
     "name": "stdout",
     "output_type": "stream",
     "text": [
      "Epoch 1330 - Train Loss: 0.1449, Train MSE: 0.1450, Train MAE: 0.2854\n",
      "Epoch 1330 - Validation Loss: 1.9870, Validation MSE: 1.9759, Validation MAE: 1.0522\n"
     ]
    },
    {
     "name": "stderr",
     "output_type": "stream",
     "text": [
      "Training Epoch 1332: 100%|██████████| 258/258 [00:02<00:00, 103.53it/s]\n",
      "Training Epoch 1333: 100%|██████████| 258/258 [00:02<00:00, 100.80it/s]\n",
      "Training Epoch 1334: 100%|██████████| 258/258 [00:02<00:00, 103.37it/s]\n",
      "Training Epoch 1335: 100%|██████████| 258/258 [00:02<00:00, 96.62it/s] \n",
      "Training Epoch 1336: 100%|██████████| 258/258 [00:02<00:00, 100.97it/s]\n",
      "Training Epoch 1337: 100%|██████████| 258/258 [00:02<00:00, 103.00it/s]\n",
      "Training Epoch 1338: 100%|██████████| 258/258 [00:02<00:00, 102.80it/s]\n",
      "Training Epoch 1339: 100%|██████████| 258/258 [00:02<00:00, 101.69it/s]\n",
      "Training Epoch 1340: 100%|██████████| 258/258 [00:02<00:00, 94.51it/s] \n",
      "Training Epoch 1341: 100%|██████████| 258/258 [00:02<00:00, 100.23it/s]\n"
     ]
    },
    {
     "name": "stdout",
     "output_type": "stream",
     "text": [
      "Epoch 1340 - Train Loss: 0.1624, Train MSE: 0.1620, Train MAE: 0.2922\n",
      "Epoch 1340 - Validation Loss: 1.9819, Validation MSE: 1.9708, Validation MAE: 1.0496\n"
     ]
    },
    {
     "name": "stderr",
     "output_type": "stream",
     "text": [
      "Training Epoch 1342: 100%|██████████| 258/258 [00:02<00:00, 100.18it/s]\n",
      "Training Epoch 1343: 100%|██████████| 258/258 [00:02<00:00, 98.99it/s] \n",
      "Training Epoch 1344: 100%|██████████| 258/258 [00:02<00:00, 100.90it/s]\n",
      "Training Epoch 1345: 100%|██████████| 258/258 [00:02<00:00, 102.21it/s]\n",
      "Training Epoch 1346: 100%|██████████| 258/258 [00:02<00:00, 101.23it/s]\n",
      "Training Epoch 1347: 100%|██████████| 258/258 [00:02<00:00, 97.42it/s] \n",
      "Training Epoch 1348: 100%|██████████| 258/258 [00:02<00:00, 100.59it/s]\n",
      "Training Epoch 1349: 100%|██████████| 258/258 [00:02<00:00, 102.52it/s]\n",
      "Training Epoch 1350: 100%|██████████| 258/258 [00:02<00:00, 105.11it/s]\n",
      "Training Epoch 1351: 100%|██████████| 258/258 [00:02<00:00, 106.63it/s]\n"
     ]
    },
    {
     "name": "stdout",
     "output_type": "stream",
     "text": [
      "Epoch 1350 - Train Loss: 0.1510, Train MSE: 0.1500, Train MAE: 0.2845\n",
      "Epoch 1350 - Validation Loss: 1.9856, Validation MSE: 1.9711, Validation MAE: 1.0552\n"
     ]
    },
    {
     "name": "stderr",
     "output_type": "stream",
     "text": [
      "Training Epoch 1352: 100%|██████████| 258/258 [00:02<00:00, 100.54it/s]\n",
      "Training Epoch 1353: 100%|██████████| 258/258 [00:02<00:00, 98.03it/s] \n",
      "Training Epoch 1354: 100%|██████████| 258/258 [00:02<00:00, 104.32it/s]\n",
      "Training Epoch 1355: 100%|██████████| 258/258 [00:02<00:00, 99.60it/s] \n",
      "Training Epoch 1356: 100%|██████████| 258/258 [00:02<00:00, 102.64it/s]\n",
      "Training Epoch 1357: 100%|██████████| 258/258 [00:02<00:00, 102.25it/s]\n",
      "Training Epoch 1358: 100%|██████████| 258/258 [00:02<00:00, 103.57it/s]\n",
      "Training Epoch 1359: 100%|██████████| 258/258 [00:02<00:00, 101.69it/s]\n",
      "Training Epoch 1360: 100%|██████████| 258/258 [00:02<00:00, 102.94it/s]\n",
      "Training Epoch 1361: 100%|██████████| 258/258 [00:02<00:00, 103.49it/s]\n"
     ]
    },
    {
     "name": "stdout",
     "output_type": "stream",
     "text": [
      "Epoch 1360 - Train Loss: 0.1525, Train MSE: 0.1522, Train MAE: 0.2872\n",
      "Epoch 1360 - Validation Loss: 1.9535, Validation MSE: 1.9412, Validation MAE: 1.0519\n"
     ]
    },
    {
     "name": "stderr",
     "output_type": "stream",
     "text": [
      "Training Epoch 1362: 100%|██████████| 258/258 [00:02<00:00, 102.65it/s]\n",
      "Training Epoch 1363: 100%|██████████| 258/258 [00:02<00:00, 95.46it/s] \n",
      "Training Epoch 1364: 100%|██████████| 258/258 [00:02<00:00, 104.92it/s]\n",
      "Training Epoch 1365: 100%|██████████| 258/258 [00:02<00:00, 97.93it/s] \n",
      "Training Epoch 1366: 100%|██████████| 258/258 [00:02<00:00, 100.42it/s]\n",
      "Training Epoch 1367: 100%|██████████| 258/258 [00:02<00:00, 102.94it/s]\n",
      "Training Epoch 1368: 100%|██████████| 258/258 [00:02<00:00, 105.88it/s]\n",
      "Training Epoch 1369: 100%|██████████| 258/258 [00:02<00:00, 100.64it/s]\n",
      "Training Epoch 1370: 100%|██████████| 258/258 [00:02<00:00, 101.11it/s]\n",
      "Training Epoch 1371: 100%|██████████| 258/258 [00:02<00:00, 100.98it/s]\n"
     ]
    },
    {
     "name": "stdout",
     "output_type": "stream",
     "text": [
      "Epoch 1370 - Train Loss: 0.1522, Train MSE: 0.1524, Train MAE: 0.2871\n",
      "Epoch 1370 - Validation Loss: 2.0007, Validation MSE: 1.9842, Validation MAE: 1.0580\n"
     ]
    },
    {
     "name": "stderr",
     "output_type": "stream",
     "text": [
      "Training Epoch 1372: 100%|██████████| 258/258 [00:02<00:00, 101.06it/s]\n",
      "Training Epoch 1373: 100%|██████████| 258/258 [00:02<00:00, 99.33it/s] \n",
      "Training Epoch 1374: 100%|██████████| 258/258 [00:02<00:00, 100.01it/s]\n",
      "Training Epoch 1375: 100%|██████████| 258/258 [00:02<00:00, 100.44it/s]\n",
      "Training Epoch 1376: 100%|██████████| 258/258 [00:02<00:00, 101.78it/s]\n",
      "Training Epoch 1377: 100%|██████████| 258/258 [00:02<00:00, 97.22it/s] \n",
      "Training Epoch 1378: 100%|██████████| 258/258 [00:02<00:00, 102.64it/s]\n",
      "Training Epoch 1379: 100%|██████████| 258/258 [00:02<00:00, 104.93it/s]\n",
      "Training Epoch 1380: 100%|██████████| 258/258 [00:02<00:00, 101.14it/s]\n",
      "Training Epoch 1381: 100%|██████████| 258/258 [00:02<00:00, 103.08it/s]\n"
     ]
    },
    {
     "name": "stdout",
     "output_type": "stream",
     "text": [
      "Epoch 1380 - Train Loss: 0.1482, Train MSE: 0.1479, Train MAE: 0.2866\n",
      "Epoch 1380 - Validation Loss: 2.0118, Validation MSE: 2.0018, Validation MAE: 1.0657\n"
     ]
    },
    {
     "name": "stderr",
     "output_type": "stream",
     "text": [
      "Training Epoch 1382: 100%|██████████| 258/258 [00:02<00:00, 105.64it/s]\n",
      "Training Epoch 1383: 100%|██████████| 258/258 [00:02<00:00, 99.91it/s] \n",
      "Training Epoch 1384: 100%|██████████| 258/258 [00:02<00:00, 102.46it/s]\n",
      "Training Epoch 1385: 100%|██████████| 258/258 [00:02<00:00, 95.63it/s] \n",
      "Training Epoch 1386: 100%|██████████| 258/258 [00:02<00:00, 101.44it/s]\n",
      "Training Epoch 1387: 100%|██████████| 258/258 [00:02<00:00, 100.83it/s]\n",
      "Training Epoch 1388: 100%|██████████| 258/258 [00:02<00:00, 95.99it/s] \n",
      "Training Epoch 1389: 100%|██████████| 258/258 [00:02<00:00, 97.85it/s] \n",
      "Training Epoch 1390: 100%|██████████| 258/258 [00:02<00:00, 101.38it/s]\n",
      "Training Epoch 1391: 100%|██████████| 258/258 [00:02<00:00, 97.93it/s] \n"
     ]
    },
    {
     "name": "stdout",
     "output_type": "stream",
     "text": [
      "Epoch 1390 - Train Loss: 0.1506, Train MSE: 0.1505, Train MAE: 0.2866\n",
      "Epoch 1390 - Validation Loss: 2.0113, Validation MSE: 2.0021, Validation MAE: 1.0603\n"
     ]
    },
    {
     "name": "stderr",
     "output_type": "stream",
     "text": [
      "Training Epoch 1392: 100%|██████████| 258/258 [00:02<00:00, 100.00it/s]\n",
      "Training Epoch 1393: 100%|██████████| 258/258 [00:02<00:00, 100.94it/s]\n",
      "Training Epoch 1394: 100%|██████████| 258/258 [00:02<00:00, 102.67it/s]\n",
      "Training Epoch 1395: 100%|██████████| 258/258 [00:02<00:00, 99.01it/s] \n",
      "Training Epoch 1396: 100%|██████████| 258/258 [00:02<00:00, 99.44it/s] \n",
      "Training Epoch 1397: 100%|██████████| 258/258 [00:02<00:00, 99.59it/s] \n",
      "Training Epoch 1398: 100%|██████████| 258/258 [00:02<00:00, 101.23it/s]\n",
      "Training Epoch 1399: 100%|██████████| 258/258 [00:02<00:00, 98.60it/s] \n",
      "Training Epoch 1400: 100%|██████████| 258/258 [00:02<00:00, 102.73it/s]\n",
      "Training Epoch 1401: 100%|██████████| 258/258 [00:02<00:00, 100.19it/s]\n"
     ]
    },
    {
     "name": "stdout",
     "output_type": "stream",
     "text": [
      "Epoch 1400 - Train Loss: 0.1468, Train MSE: 0.1465, Train MAE: 0.2855\n",
      "Epoch 1400 - Validation Loss: 2.0074, Validation MSE: 1.9948, Validation MAE: 1.0590\n"
     ]
    },
    {
     "name": "stderr",
     "output_type": "stream",
     "text": [
      "Training Epoch 1402: 100%|██████████| 258/258 [00:02<00:00, 96.84it/s] \n",
      "Training Epoch 1403: 100%|██████████| 258/258 [00:02<00:00, 99.83it/s] \n",
      "Training Epoch 1404: 100%|██████████| 258/258 [00:02<00:00, 101.57it/s]\n",
      "Training Epoch 1405: 100%|██████████| 258/258 [00:02<00:00, 100.40it/s]\n",
      "Training Epoch 1406: 100%|██████████| 258/258 [00:02<00:00, 97.44it/s] \n",
      "Training Epoch 1407: 100%|██████████| 258/258 [00:02<00:00, 93.28it/s] \n",
      "Training Epoch 1408: 100%|██████████| 258/258 [00:02<00:00, 101.39it/s]\n",
      "Training Epoch 1409: 100%|██████████| 258/258 [00:03<00:00, 73.88it/s]\n",
      "Training Epoch 1410: 100%|██████████| 258/258 [00:02<00:00, 89.64it/s]\n",
      "Training Epoch 1411: 100%|██████████| 258/258 [00:02<00:00, 103.18it/s]\n"
     ]
    },
    {
     "name": "stdout",
     "output_type": "stream",
     "text": [
      "Epoch 1410 - Train Loss: 0.1484, Train MSE: 0.1487, Train MAE: 0.2832\n",
      "Epoch 1410 - Validation Loss: 2.0232, Validation MSE: 2.0088, Validation MAE: 1.0640\n"
     ]
    },
    {
     "name": "stderr",
     "output_type": "stream",
     "text": [
      "Training Epoch 1412: 100%|██████████| 258/258 [00:02<00:00, 97.70it/s] \n",
      "Training Epoch 1413: 100%|██████████| 258/258 [00:02<00:00, 101.51it/s]\n",
      "Training Epoch 1414: 100%|██████████| 258/258 [00:02<00:00, 100.22it/s]\n",
      "Training Epoch 1415: 100%|██████████| 258/258 [00:02<00:00, 102.19it/s]\n",
      "Training Epoch 1416: 100%|██████████| 258/258 [00:02<00:00, 105.62it/s]\n",
      "Training Epoch 1417: 100%|██████████| 258/258 [00:02<00:00, 100.89it/s]\n",
      "Training Epoch 1418: 100%|██████████| 258/258 [00:02<00:00, 95.23it/s] \n",
      "Training Epoch 1419: 100%|██████████| 258/258 [00:02<00:00, 100.70it/s]\n",
      "Training Epoch 1420: 100%|██████████| 258/258 [00:02<00:00, 101.85it/s]\n",
      "Training Epoch 1421: 100%|██████████| 258/258 [00:02<00:00, 99.51it/s] \n"
     ]
    },
    {
     "name": "stdout",
     "output_type": "stream",
     "text": [
      "Epoch 1420 - Train Loss: 0.1510, Train MSE: 0.1512, Train MAE: 0.2850\n",
      "Epoch 1420 - Validation Loss: 2.0247, Validation MSE: 2.0103, Validation MAE: 1.0648\n"
     ]
    },
    {
     "name": "stderr",
     "output_type": "stream",
     "text": [
      "Training Epoch 1422: 100%|██████████| 258/258 [00:02<00:00, 102.54it/s]\n",
      "Training Epoch 1423: 100%|██████████| 258/258 [00:02<00:00, 100.64it/s]\n",
      "Training Epoch 1424: 100%|██████████| 258/258 [00:02<00:00, 98.88it/s] \n",
      "Training Epoch 1425: 100%|██████████| 258/258 [00:02<00:00, 104.73it/s]\n",
      "Training Epoch 1426: 100%|██████████| 258/258 [00:02<00:00, 102.78it/s]\n",
      "Training Epoch 1427: 100%|██████████| 258/258 [00:02<00:00, 102.46it/s]\n",
      "Training Epoch 1428: 100%|██████████| 258/258 [00:02<00:00, 103.05it/s]\n",
      "Training Epoch 1429: 100%|██████████| 258/258 [00:02<00:00, 93.40it/s] \n",
      "Training Epoch 1430: 100%|██████████| 258/258 [00:02<00:00, 94.47it/s]\n",
      "Training Epoch 1431: 100%|██████████| 258/258 [00:02<00:00, 98.63it/s] \n"
     ]
    },
    {
     "name": "stdout",
     "output_type": "stream",
     "text": [
      "Epoch 1430 - Train Loss: 0.1427, Train MSE: 0.1431, Train MAE: 0.2814\n",
      "Epoch 1430 - Validation Loss: 2.0561, Validation MSE: 2.0441, Validation MAE: 1.0684\n"
     ]
    },
    {
     "name": "stderr",
     "output_type": "stream",
     "text": [
      "Training Epoch 1432: 100%|██████████| 258/258 [00:02<00:00, 100.05it/s]\n",
      "Training Epoch 1433: 100%|██████████| 258/258 [00:02<00:00, 101.18it/s]\n",
      "Training Epoch 1434: 100%|██████████| 258/258 [00:02<00:00, 102.64it/s]\n",
      "Training Epoch 1435: 100%|██████████| 258/258 [00:02<00:00, 100.46it/s]\n",
      "Training Epoch 1436: 100%|██████████| 258/258 [00:02<00:00, 99.05it/s] \n",
      "Training Epoch 1437: 100%|██████████| 258/258 [00:02<00:00, 103.26it/s]\n",
      "Training Epoch 1438: 100%|██████████| 258/258 [00:02<00:00, 102.42it/s]\n",
      "Training Epoch 1439: 100%|██████████| 258/258 [00:02<00:00, 102.75it/s]\n",
      "Training Epoch 1440: 100%|██████████| 258/258 [00:02<00:00, 99.53it/s] \n",
      "Training Epoch 1441: 100%|██████████| 258/258 [00:02<00:00, 104.63it/s]\n"
     ]
    },
    {
     "name": "stdout",
     "output_type": "stream",
     "text": [
      "Epoch 1440 - Train Loss: 0.1458, Train MSE: 0.1455, Train MAE: 0.2841\n",
      "Epoch 1440 - Validation Loss: 1.9906, Validation MSE: 1.9762, Validation MAE: 1.0534\n"
     ]
    },
    {
     "name": "stderr",
     "output_type": "stream",
     "text": [
      "Training Epoch 1442: 100%|██████████| 258/258 [00:02<00:00, 99.06it/s] \n",
      "Training Epoch 1443: 100%|██████████| 258/258 [00:02<00:00, 101.73it/s]\n",
      "Training Epoch 1444: 100%|██████████| 258/258 [00:02<00:00, 101.01it/s]\n",
      "Training Epoch 1445: 100%|██████████| 258/258 [00:02<00:00, 103.51it/s]\n",
      "Training Epoch 1446: 100%|██████████| 258/258 [00:02<00:00, 99.89it/s] \n",
      "Training Epoch 1447: 100%|██████████| 258/258 [00:02<00:00, 102.28it/s]\n",
      "Training Epoch 1448: 100%|██████████| 258/258 [00:02<00:00, 99.90it/s] \n",
      "Training Epoch 1449: 100%|██████████| 258/258 [00:02<00:00, 99.03it/s] \n",
      "Training Epoch 1450: 100%|██████████| 258/258 [00:02<00:00, 103.40it/s]\n",
      "Training Epoch 1451: 100%|██████████| 258/258 [00:02<00:00, 95.45it/s] \n"
     ]
    },
    {
     "name": "stdout",
     "output_type": "stream",
     "text": [
      "Epoch 1450 - Train Loss: 0.1499, Train MSE: 0.1501, Train MAE: 0.2826\n",
      "Epoch 1450 - Validation Loss: 2.0370, Validation MSE: 2.0228, Validation MAE: 1.0655\n"
     ]
    },
    {
     "name": "stderr",
     "output_type": "stream",
     "text": [
      "Training Epoch 1452: 100%|██████████| 258/258 [00:02<00:00, 100.11it/s]\n",
      "Training Epoch 1453: 100%|██████████| 258/258 [00:02<00:00, 100.09it/s]\n",
      "Training Epoch 1454: 100%|██████████| 258/258 [00:02<00:00, 100.36it/s]\n",
      "Training Epoch 1455: 100%|██████████| 258/258 [00:02<00:00, 103.54it/s]\n",
      "Training Epoch 1456: 100%|██████████| 258/258 [00:02<00:00, 100.44it/s]\n",
      "Training Epoch 1457: 100%|██████████| 258/258 [00:02<00:00, 102.48it/s]\n",
      "Training Epoch 1458: 100%|██████████| 258/258 [00:02<00:00, 100.90it/s]\n",
      "Training Epoch 1459: 100%|██████████| 258/258 [00:02<00:00, 102.91it/s]\n",
      "Training Epoch 1460: 100%|██████████| 258/258 [00:02<00:00, 96.11it/s] \n",
      "Training Epoch 1461: 100%|██████████| 258/258 [00:02<00:00, 100.39it/s]\n"
     ]
    },
    {
     "name": "stdout",
     "output_type": "stream",
     "text": [
      "Epoch 1460 - Train Loss: 0.1423, Train MSE: 0.1426, Train MAE: 0.2795\n",
      "Epoch 1460 - Validation Loss: 2.0201, Validation MSE: 2.0100, Validation MAE: 1.0634\n"
     ]
    },
    {
     "name": "stderr",
     "output_type": "stream",
     "text": [
      "Training Epoch 1462: 100%|██████████| 258/258 [00:02<00:00, 104.88it/s]\n",
      "Training Epoch 1463: 100%|██████████| 258/258 [00:02<00:00, 99.88it/s] \n",
      "Training Epoch 1464: 100%|██████████| 258/258 [00:02<00:00, 97.34it/s] \n",
      "Training Epoch 1465: 100%|██████████| 258/258 [00:02<00:00, 102.73it/s]\n",
      "Training Epoch 1466: 100%|██████████| 258/258 [00:02<00:00, 98.20it/s] \n",
      "Training Epoch 1467: 100%|██████████| 258/258 [00:02<00:00, 101.38it/s]\n",
      "Training Epoch 1468: 100%|██████████| 258/258 [00:02<00:00, 101.72it/s]\n",
      "Training Epoch 1469: 100%|██████████| 258/258 [00:02<00:00, 104.84it/s]\n",
      "Training Epoch 1470: 100%|██████████| 258/258 [00:02<00:00, 105.98it/s]\n",
      "Training Epoch 1471: 100%|██████████| 258/258 [00:02<00:00, 101.80it/s]\n"
     ]
    },
    {
     "name": "stdout",
     "output_type": "stream",
     "text": [
      "Epoch 1470 - Train Loss: 0.1406, Train MSE: 0.1407, Train MAE: 0.2768\n",
      "Epoch 1470 - Validation Loss: 2.0158, Validation MSE: 1.9960, Validation MAE: 1.0600\n"
     ]
    },
    {
     "name": "stderr",
     "output_type": "stream",
     "text": [
      "Training Epoch 1472: 100%|██████████| 258/258 [00:02<00:00, 96.00it/s] \n",
      "Training Epoch 1473: 100%|██████████| 258/258 [00:02<00:00, 101.55it/s]\n",
      "Training Epoch 1474: 100%|██████████| 258/258 [00:02<00:00, 93.33it/s] \n",
      "Training Epoch 1475: 100%|██████████| 258/258 [00:02<00:00, 102.10it/s]\n",
      "Training Epoch 1476: 100%|██████████| 258/258 [00:02<00:00, 100.83it/s]\n",
      "Training Epoch 1477: 100%|██████████| 258/258 [00:02<00:00, 97.50it/s] \n",
      "Training Epoch 1478: 100%|██████████| 258/258 [00:02<00:00, 101.19it/s]\n",
      "Training Epoch 1479: 100%|██████████| 258/258 [00:02<00:00, 101.82it/s]\n",
      "Training Epoch 1480: 100%|██████████| 258/258 [00:02<00:00, 97.26it/s] \n",
      "Training Epoch 1481: 100%|██████████| 258/258 [00:02<00:00, 100.50it/s]\n"
     ]
    },
    {
     "name": "stdout",
     "output_type": "stream",
     "text": [
      "Epoch 1480 - Train Loss: 0.1428, Train MSE: 0.1430, Train MAE: 0.2772\n",
      "Epoch 1480 - Validation Loss: 1.9671, Validation MSE: 1.9526, Validation MAE: 1.0479\n"
     ]
    },
    {
     "name": "stderr",
     "output_type": "stream",
     "text": [
      "Training Epoch 1482: 100%|██████████| 258/258 [00:02<00:00, 102.12it/s]\n",
      "Training Epoch 1483: 100%|██████████| 258/258 [00:02<00:00, 99.66it/s] \n",
      "Training Epoch 1484: 100%|██████████| 258/258 [00:02<00:00, 100.00it/s]\n",
      "Training Epoch 1485: 100%|██████████| 258/258 [00:02<00:00, 99.59it/s] \n",
      "Training Epoch 1486: 100%|██████████| 258/258 [00:02<00:00, 103.51it/s]\n",
      "Training Epoch 1487: 100%|██████████| 258/258 [00:02<00:00, 97.73it/s] \n",
      "Training Epoch 1488: 100%|██████████| 258/258 [00:02<00:00, 103.45it/s]\n",
      "Training Epoch 1489: 100%|██████████| 258/258 [00:02<00:00, 98.64it/s] \n",
      "Training Epoch 1490: 100%|██████████| 258/258 [00:02<00:00, 99.90it/s] \n",
      "Training Epoch 1491: 100%|██████████| 258/258 [00:02<00:00, 102.37it/s]\n"
     ]
    },
    {
     "name": "stdout",
     "output_type": "stream",
     "text": [
      "Epoch 1490 - Train Loss: 0.1406, Train MSE: 0.1409, Train MAE: 0.2784\n",
      "Epoch 1490 - Validation Loss: 1.9587, Validation MSE: 1.9466, Validation MAE: 1.0457\n"
     ]
    },
    {
     "name": "stderr",
     "output_type": "stream",
     "text": [
      "Training Epoch 1492: 100%|██████████| 258/258 [00:02<00:00, 101.04it/s]\n",
      "Training Epoch 1493: 100%|██████████| 258/258 [00:02<00:00, 102.59it/s]\n",
      "Training Epoch 1494: 100%|██████████| 258/258 [00:02<00:00, 103.89it/s]\n",
      "Training Epoch 1495: 100%|██████████| 258/258 [00:02<00:00, 100.29it/s]\n",
      "Training Epoch 1496: 100%|██████████| 258/258 [00:02<00:00, 92.21it/s] \n",
      "Training Epoch 1497: 100%|██████████| 258/258 [00:02<00:00, 100.62it/s]\n",
      "Training Epoch 1498: 100%|██████████| 258/258 [00:02<00:00, 103.60it/s]\n",
      "Training Epoch 1499: 100%|██████████| 258/258 [00:02<00:00, 102.31it/s]\n",
      "Training Epoch 1500: 100%|██████████| 258/258 [00:02<00:00, 98.06it/s] \n",
      "Training Epoch 1501: 100%|██████████| 258/258 [00:02<00:00, 93.41it/s] \n"
     ]
    },
    {
     "name": "stdout",
     "output_type": "stream",
     "text": [
      "Epoch 1500 - Train Loss: 0.1373, Train MSE: 0.1373, Train MAE: 0.2744\n",
      "Epoch 1500 - Validation Loss: 2.0063, Validation MSE: 1.9964, Validation MAE: 1.0536\n"
     ]
    },
    {
     "name": "stderr",
     "output_type": "stream",
     "text": [
      "Training Epoch 1502: 100%|██████████| 258/258 [00:02<00:00, 102.39it/s]\n",
      "Training Epoch 1503: 100%|██████████| 258/258 [00:02<00:00, 101.58it/s]\n",
      "Training Epoch 1504: 100%|██████████| 258/258 [00:02<00:00, 102.11it/s]\n",
      "Training Epoch 1505: 100%|██████████| 258/258 [00:02<00:00, 104.47it/s]\n",
      "Training Epoch 1506: 100%|██████████| 258/258 [00:02<00:00, 104.36it/s]\n",
      "Training Epoch 1507: 100%|██████████| 258/258 [00:02<00:00, 96.61it/s] \n",
      "Training Epoch 1508: 100%|██████████| 258/258 [00:02<00:00, 102.23it/s]\n",
      "Training Epoch 1509: 100%|██████████| 258/258 [00:02<00:00, 101.79it/s]\n",
      "Training Epoch 1510: 100%|██████████| 258/258 [00:02<00:00, 107.72it/s]\n",
      "Training Epoch 1511: 100%|██████████| 258/258 [00:02<00:00, 99.60it/s] \n"
     ]
    },
    {
     "name": "stdout",
     "output_type": "stream",
     "text": [
      "Epoch 1510 - Train Loss: 0.1367, Train MSE: 0.1369, Train MAE: 0.2749\n",
      "Epoch 1510 - Validation Loss: 2.0720, Validation MSE: 2.0613, Validation MAE: 1.0716\n"
     ]
    },
    {
     "name": "stderr",
     "output_type": "stream",
     "text": [
      "Training Epoch 1512: 100%|██████████| 258/258 [00:02<00:00, 103.67it/s]\n",
      "Training Epoch 1513: 100%|██████████| 258/258 [00:02<00:00, 95.46it/s] \n",
      "Training Epoch 1514: 100%|██████████| 258/258 [00:02<00:00, 101.26it/s]\n",
      "Training Epoch 1515: 100%|██████████| 258/258 [00:02<00:00, 100.53it/s]\n",
      "Training Epoch 1516: 100%|██████████| 258/258 [00:02<00:00, 103.07it/s]\n",
      "Training Epoch 1517: 100%|██████████| 258/258 [00:02<00:00, 100.55it/s]\n",
      "Training Epoch 1518: 100%|██████████| 258/258 [00:02<00:00, 95.23it/s] \n",
      "Training Epoch 1519: 100%|██████████| 258/258 [00:02<00:00, 97.90it/s] \n",
      "Training Epoch 1520: 100%|██████████| 258/258 [00:02<00:00, 100.76it/s]\n",
      "Training Epoch 1521: 100%|██████████| 258/258 [00:02<00:00, 102.36it/s]\n"
     ]
    },
    {
     "name": "stdout",
     "output_type": "stream",
     "text": [
      "Epoch 1520 - Train Loss: 0.1385, Train MSE: 0.1379, Train MAE: 0.2763\n",
      "Epoch 1520 - Validation Loss: 2.0104, Validation MSE: 1.9993, Validation MAE: 1.0619\n"
     ]
    },
    {
     "name": "stderr",
     "output_type": "stream",
     "text": [
      "Training Epoch 1522: 100%|██████████| 258/258 [00:02<00:00, 102.35it/s]\n",
      "Training Epoch 1523: 100%|██████████| 258/258 [00:02<00:00, 102.35it/s]\n",
      "Training Epoch 1524: 100%|██████████| 258/258 [00:02<00:00, 99.84it/s] \n",
      "Training Epoch 1525: 100%|██████████| 258/258 [00:02<00:00, 92.19it/s] \n",
      "Training Epoch 1526: 100%|██████████| 258/258 [00:02<00:00, 99.88it/s] \n",
      "Training Epoch 1527: 100%|██████████| 258/258 [00:02<00:00, 101.93it/s]\n",
      "Training Epoch 1528: 100%|██████████| 258/258 [00:02<00:00, 102.76it/s]\n",
      "Training Epoch 1529: 100%|██████████| 258/258 [00:02<00:00, 101.57it/s]\n",
      "Training Epoch 1530: 100%|██████████| 258/258 [00:02<00:00, 102.46it/s]\n",
      "Training Epoch 1531: 100%|██████████| 258/258 [00:02<00:00, 99.50it/s] \n"
     ]
    },
    {
     "name": "stdout",
     "output_type": "stream",
     "text": [
      "Epoch 1530 - Train Loss: 0.1439, Train MSE: 0.1435, Train MAE: 0.2815\n",
      "Epoch 1530 - Validation Loss: 2.0037, Validation MSE: 1.9883, Validation MAE: 1.0565\n"
     ]
    },
    {
     "name": "stderr",
     "output_type": "stream",
     "text": [
      "Training Epoch 1532: 100%|██████████| 258/258 [00:02<00:00, 104.41it/s]\n",
      "Training Epoch 1533: 100%|██████████| 258/258 [00:02<00:00, 105.49it/s]\n",
      "Training Epoch 1534: 100%|██████████| 258/258 [00:02<00:00, 102.51it/s]\n",
      "Training Epoch 1535: 100%|██████████| 258/258 [00:02<00:00, 100.83it/s]\n",
      "Training Epoch 1536: 100%|██████████| 258/258 [00:02<00:00, 100.02it/s]\n",
      "Training Epoch 1537: 100%|██████████| 258/258 [00:02<00:00, 96.23it/s] \n",
      "Training Epoch 1538: 100%|██████████| 258/258 [00:02<00:00, 99.83it/s] \n",
      "Training Epoch 1539: 100%|██████████| 258/258 [00:02<00:00, 102.07it/s]\n",
      "Training Epoch 1540: 100%|██████████| 258/258 [00:02<00:00, 101.30it/s]\n",
      "Training Epoch 1541: 100%|██████████| 258/258 [00:02<00:00, 94.19it/s] \n"
     ]
    },
    {
     "name": "stdout",
     "output_type": "stream",
     "text": [
      "Epoch 1540 - Train Loss: 0.1471, Train MSE: 0.1473, Train MAE: 0.2831\n",
      "Epoch 1540 - Validation Loss: 1.9711, Validation MSE: 1.9586, Validation MAE: 1.0518\n"
     ]
    },
    {
     "name": "stderr",
     "output_type": "stream",
     "text": [
      "Training Epoch 1542: 100%|██████████| 258/258 [00:02<00:00, 100.62it/s]\n",
      "Training Epoch 1543: 100%|██████████| 258/258 [00:02<00:00, 101.16it/s]\n",
      "Training Epoch 1544: 100%|██████████| 258/258 [00:02<00:00, 102.46it/s]\n",
      "Training Epoch 1545: 100%|██████████| 258/258 [00:02<00:00, 99.91it/s] \n",
      "Training Epoch 1546: 100%|██████████| 258/258 [00:02<00:00, 101.21it/s]\n",
      "Training Epoch 1547: 100%|██████████| 258/258 [00:02<00:00, 98.41it/s] \n",
      "Training Epoch 1548: 100%|██████████| 258/258 [00:02<00:00, 100.08it/s]\n",
      "Training Epoch 1549: 100%|██████████| 258/258 [00:02<00:00, 93.41it/s]\n",
      "Training Epoch 1550: 100%|██████████| 258/258 [00:02<00:00, 101.29it/s]\n",
      "Training Epoch 1551: 100%|██████████| 258/258 [00:02<00:00, 100.44it/s]\n"
     ]
    },
    {
     "name": "stdout",
     "output_type": "stream",
     "text": [
      "Epoch 1550 - Train Loss: 0.1436, Train MSE: 0.1436, Train MAE: 0.2797\n",
      "Epoch 1550 - Validation Loss: 1.9852, Validation MSE: 1.9748, Validation MAE: 1.0628\n"
     ]
    },
    {
     "name": "stderr",
     "output_type": "stream",
     "text": [
      "Training Epoch 1552: 100%|██████████| 258/258 [00:02<00:00, 103.18it/s]\n",
      "Training Epoch 1553: 100%|██████████| 258/258 [00:02<00:00, 100.97it/s]\n",
      "Training Epoch 1554: 100%|██████████| 258/258 [00:02<00:00, 100.08it/s]\n",
      "Training Epoch 1555: 100%|██████████| 258/258 [00:02<00:00, 99.98it/s] \n",
      "Training Epoch 1556: 100%|██████████| 258/258 [00:02<00:00, 104.54it/s]\n",
      "Training Epoch 1557: 100%|██████████| 258/258 [00:02<00:00, 101.13it/s]\n",
      "Training Epoch 1558: 100%|██████████| 258/258 [00:02<00:00, 97.93it/s] \n",
      "Training Epoch 1559: 100%|██████████| 258/258 [00:02<00:00, 106.58it/s]\n",
      "Training Epoch 1560: 100%|██████████| 258/258 [00:02<00:00, 99.66it/s] \n",
      "Training Epoch 1561: 100%|██████████| 258/258 [00:02<00:00, 96.99it/s] \n"
     ]
    },
    {
     "name": "stdout",
     "output_type": "stream",
     "text": [
      "Epoch 1560 - Train Loss: 0.1390, Train MSE: 0.1386, Train MAE: 0.2751\n",
      "Epoch 1560 - Validation Loss: 2.0532, Validation MSE: 2.0417, Validation MAE: 1.0687\n"
     ]
    },
    {
     "name": "stderr",
     "output_type": "stream",
     "text": [
      "Training Epoch 1562: 100%|██████████| 258/258 [00:02<00:00, 99.97it/s] \n",
      "Training Epoch 1563: 100%|██████████| 258/258 [00:02<00:00, 94.18it/s] \n",
      "Training Epoch 1564: 100%|██████████| 258/258 [00:02<00:00, 102.62it/s]\n",
      "Training Epoch 1565: 100%|██████████| 258/258 [00:02<00:00, 100.43it/s]\n",
      "Training Epoch 1566: 100%|██████████| 258/258 [00:02<00:00, 101.71it/s]\n",
      "Training Epoch 1567: 100%|██████████| 258/258 [00:02<00:00, 99.89it/s] \n",
      "Training Epoch 1568: 100%|██████████| 258/258 [00:02<00:00, 101.50it/s]\n",
      "Training Epoch 1569: 100%|██████████| 258/258 [00:02<00:00, 98.64it/s] \n",
      "Training Epoch 1570: 100%|██████████| 258/258 [00:02<00:00, 101.18it/s]\n",
      "Training Epoch 1571: 100%|██████████| 258/258 [00:02<00:00, 103.00it/s]\n"
     ]
    },
    {
     "name": "stdout",
     "output_type": "stream",
     "text": [
      "Epoch 1570 - Train Loss: 0.1396, Train MSE: 0.1399, Train MAE: 0.2745\n",
      "Epoch 1570 - Validation Loss: 2.0317, Validation MSE: 2.0222, Validation MAE: 1.0630\n"
     ]
    },
    {
     "name": "stderr",
     "output_type": "stream",
     "text": [
      "Training Epoch 1572: 100%|██████████| 258/258 [00:02<00:00, 99.01it/s] \n",
      "Training Epoch 1573: 100%|██████████| 258/258 [00:02<00:00, 99.66it/s] \n",
      "Training Epoch 1574: 100%|██████████| 258/258 [00:02<00:00, 100.89it/s]\n",
      "Training Epoch 1575: 100%|██████████| 258/258 [00:02<00:00, 100.79it/s]\n",
      "Training Epoch 1576: 100%|██████████| 258/258 [00:02<00:00, 99.43it/s] \n",
      "Training Epoch 1577: 100%|██████████| 258/258 [00:02<00:00, 100.80it/s]\n",
      "Training Epoch 1578: 100%|██████████| 258/258 [00:02<00:00, 99.20it/s] \n",
      "Training Epoch 1579: 100%|██████████| 258/258 [00:02<00:00, 100.83it/s]\n",
      "Training Epoch 1580: 100%|██████████| 258/258 [00:02<00:00, 104.96it/s]\n",
      "Training Epoch 1581: 100%|██████████| 258/258 [00:02<00:00, 102.41it/s]\n"
     ]
    },
    {
     "name": "stdout",
     "output_type": "stream",
     "text": [
      "Epoch 1580 - Train Loss: 0.1421, Train MSE: 0.1421, Train MAE: 0.2781\n",
      "Epoch 1580 - Validation Loss: 2.0624, Validation MSE: 2.0485, Validation MAE: 1.0683\n"
     ]
    },
    {
     "name": "stderr",
     "output_type": "stream",
     "text": [
      "Training Epoch 1582: 100%|██████████| 258/258 [00:02<00:00, 102.05it/s]\n",
      "Training Epoch 1583: 100%|██████████| 258/258 [00:02<00:00, 97.96it/s] \n",
      "Training Epoch 1584: 100%|██████████| 258/258 [00:02<00:00, 100.13it/s]\n",
      "Training Epoch 1585: 100%|██████████| 258/258 [00:02<00:00, 89.98it/s] \n",
      "Training Epoch 1586: 100%|██████████| 258/258 [00:02<00:00, 98.84it/s] \n",
      "Training Epoch 1587: 100%|██████████| 258/258 [00:02<00:00, 102.12it/s]\n",
      "Training Epoch 1588: 100%|██████████| 258/258 [00:02<00:00, 103.29it/s]\n",
      "Training Epoch 1589: 100%|██████████| 258/258 [00:02<00:00, 99.43it/s] \n",
      "Training Epoch 1590: 100%|██████████| 258/258 [00:02<00:00, 96.03it/s] \n",
      "Training Epoch 1591: 100%|██████████| 258/258 [00:02<00:00, 104.31it/s]\n"
     ]
    },
    {
     "name": "stdout",
     "output_type": "stream",
     "text": [
      "Epoch 1590 - Train Loss: 0.1374, Train MSE: 0.1377, Train MAE: 0.2717\n",
      "Epoch 1590 - Validation Loss: 2.0476, Validation MSE: 2.0257, Validation MAE: 1.0759\n"
     ]
    },
    {
     "name": "stderr",
     "output_type": "stream",
     "text": [
      "Training Epoch 1592: 100%|██████████| 258/258 [00:02<00:00, 103.41it/s]\n",
      "Training Epoch 1593: 100%|██████████| 258/258 [00:02<00:00, 100.49it/s]\n",
      "Training Epoch 1594: 100%|██████████| 258/258 [00:02<00:00, 100.03it/s]\n",
      "Training Epoch 1595: 100%|██████████| 258/258 [00:02<00:00, 99.37it/s] \n",
      "Training Epoch 1596: 100%|██████████| 258/258 [00:02<00:00, 99.40it/s] \n",
      "Training Epoch 1597: 100%|██████████| 258/258 [00:02<00:00, 100.97it/s]\n",
      "Training Epoch 1598: 100%|██████████| 258/258 [00:02<00:00, 101.02it/s]\n",
      "Training Epoch 1599: 100%|██████████| 258/258 [00:02<00:00, 100.27it/s]\n",
      "Training Epoch 1600: 100%|██████████| 258/258 [00:02<00:00, 98.83it/s] \n",
      "Training Epoch 1601: 100%|██████████| 258/258 [00:02<00:00, 102.22it/s]\n"
     ]
    },
    {
     "name": "stdout",
     "output_type": "stream",
     "text": [
      "Epoch 1600 - Train Loss: 0.1317, Train MSE: 0.1318, Train MAE: 0.2724\n",
      "Epoch 1600 - Validation Loss: 2.0211, Validation MSE: 2.0071, Validation MAE: 1.0640\n"
     ]
    },
    {
     "name": "stderr",
     "output_type": "stream",
     "text": [
      "Training Epoch 1602: 100%|██████████| 258/258 [00:02<00:00, 99.55it/s] \n",
      "Training Epoch 1603: 100%|██████████| 258/258 [00:02<00:00, 102.65it/s]\n",
      "Training Epoch 1604: 100%|██████████| 258/258 [00:02<00:00, 101.29it/s]\n",
      "Training Epoch 1605: 100%|██████████| 258/258 [00:02<00:00, 102.68it/s]\n",
      "Training Epoch 1606: 100%|██████████| 258/258 [00:02<00:00, 100.47it/s]\n",
      "Training Epoch 1607: 100%|██████████| 258/258 [00:02<00:00, 92.74it/s] \n",
      "Training Epoch 1608: 100%|██████████| 258/258 [00:02<00:00, 94.83it/s] \n",
      "Training Epoch 1609: 100%|██████████| 258/258 [00:02<00:00, 98.99it/s] \n",
      "Training Epoch 1610: 100%|██████████| 258/258 [00:02<00:00, 100.36it/s]\n",
      "Training Epoch 1611: 100%|██████████| 258/258 [00:02<00:00, 102.43it/s]\n"
     ]
    },
    {
     "name": "stdout",
     "output_type": "stream",
     "text": [
      "Epoch 1610 - Train Loss: 0.1409, Train MSE: 0.1411, Train MAE: 0.2761\n",
      "Epoch 1610 - Validation Loss: 2.0427, Validation MSE: 2.0272, Validation MAE: 1.0687\n"
     ]
    },
    {
     "name": "stderr",
     "output_type": "stream",
     "text": [
      "Training Epoch 1612: 100%|██████████| 258/258 [00:02<00:00, 101.96it/s]\n",
      "Training Epoch 1613: 100%|██████████| 258/258 [00:02<00:00, 101.10it/s]\n",
      "Training Epoch 1614: 100%|██████████| 258/258 [00:02<00:00, 100.46it/s]\n",
      "Training Epoch 1615: 100%|██████████| 258/258 [00:02<00:00, 98.31it/s] \n",
      "Training Epoch 1616: 100%|██████████| 258/258 [00:02<00:00, 101.48it/s]\n",
      "Training Epoch 1617: 100%|██████████| 258/258 [00:02<00:00, 96.28it/s] \n",
      "Training Epoch 1618: 100%|██████████| 258/258 [00:02<00:00, 99.81it/s] \n",
      "Training Epoch 1619: 100%|██████████| 258/258 [00:02<00:00, 101.78it/s]\n",
      "Training Epoch 1620: 100%|██████████| 258/258 [00:02<00:00, 98.58it/s] \n",
      "Training Epoch 1621: 100%|██████████| 258/258 [00:02<00:00, 95.96it/s] \n"
     ]
    },
    {
     "name": "stdout",
     "output_type": "stream",
     "text": [
      "Epoch 1620 - Train Loss: 0.1390, Train MSE: 0.1388, Train MAE: 0.2753\n",
      "Epoch 1620 - Validation Loss: 2.0343, Validation MSE: 2.0162, Validation MAE: 1.0721\n"
     ]
    },
    {
     "name": "stderr",
     "output_type": "stream",
     "text": [
      "Training Epoch 1622: 100%|██████████| 258/258 [00:02<00:00, 103.50it/s]\n",
      "Training Epoch 1623: 100%|██████████| 258/258 [00:02<00:00, 104.10it/s]\n",
      "Training Epoch 1624: 100%|██████████| 258/258 [00:02<00:00, 101.43it/s]\n",
      "Training Epoch 1625: 100%|██████████| 258/258 [00:02<00:00, 101.53it/s]\n",
      "Training Epoch 1626: 100%|██████████| 258/258 [00:02<00:00, 97.90it/s] \n",
      "Training Epoch 1627: 100%|██████████| 258/258 [00:02<00:00, 101.29it/s]\n",
      "Training Epoch 1628: 100%|██████████| 258/258 [00:02<00:00, 103.31it/s]\n",
      "Training Epoch 1629: 100%|██████████| 258/258 [00:02<00:00, 94.84it/s] \n",
      "Training Epoch 1630: 100%|██████████| 258/258 [00:02<00:00, 100.99it/s]\n",
      "Training Epoch 1631: 100%|██████████| 258/258 [00:02<00:00, 100.43it/s]\n"
     ]
    },
    {
     "name": "stdout",
     "output_type": "stream",
     "text": [
      "Epoch 1630 - Train Loss: 0.1337, Train MSE: 0.1335, Train MAE: 0.2709\n",
      "Epoch 1630 - Validation Loss: 2.0300, Validation MSE: 2.0138, Validation MAE: 1.0643\n"
     ]
    },
    {
     "name": "stderr",
     "output_type": "stream",
     "text": [
      "Training Epoch 1632: 100%|██████████| 258/258 [00:02<00:00, 95.06it/s] \n",
      "Training Epoch 1633: 100%|██████████| 258/258 [00:02<00:00, 102.62it/s]\n",
      "Training Epoch 1634: 100%|██████████| 258/258 [00:02<00:00, 103.21it/s]\n",
      "Training Epoch 1635: 100%|██████████| 258/258 [00:02<00:00, 104.60it/s]\n",
      "Training Epoch 1636: 100%|██████████| 258/258 [00:02<00:00, 102.48it/s]\n",
      "Training Epoch 1637: 100%|██████████| 258/258 [00:02<00:00, 104.37it/s]\n",
      "Training Epoch 1638: 100%|██████████| 258/258 [00:02<00:00, 99.40it/s] \n",
      "Training Epoch 1639: 100%|██████████| 258/258 [00:02<00:00, 104.76it/s]\n",
      "Training Epoch 1640: 100%|██████████| 258/258 [00:02<00:00, 100.04it/s]\n",
      "Training Epoch 1641: 100%|██████████| 258/258 [00:02<00:00, 100.79it/s]\n"
     ]
    },
    {
     "name": "stdout",
     "output_type": "stream",
     "text": [
      "Epoch 1640 - Train Loss: 0.1337, Train MSE: 0.1334, Train MAE: 0.2727\n",
      "Epoch 1640 - Validation Loss: 1.9949, Validation MSE: 1.9809, Validation MAE: 1.0538\n"
     ]
    },
    {
     "name": "stderr",
     "output_type": "stream",
     "text": [
      "Training Epoch 1642: 100%|██████████| 258/258 [00:02<00:00, 99.77it/s] \n",
      "Training Epoch 1643: 100%|██████████| 258/258 [00:02<00:00, 104.36it/s]\n",
      "Training Epoch 1644: 100%|██████████| 258/258 [00:02<00:00, 100.96it/s]\n",
      "Training Epoch 1645: 100%|██████████| 258/258 [00:02<00:00, 104.36it/s]\n",
      "Training Epoch 1646: 100%|██████████| 258/258 [00:02<00:00, 101.33it/s]\n",
      "Training Epoch 1647: 100%|██████████| 258/258 [00:02<00:00, 107.79it/s]\n",
      "Training Epoch 1648: 100%|██████████| 258/258 [00:02<00:00, 105.30it/s]\n",
      "Training Epoch 1649: 100%|██████████| 258/258 [00:02<00:00, 105.32it/s]\n",
      "Training Epoch 1650: 100%|██████████| 258/258 [00:02<00:00, 101.33it/s]\n",
      "Training Epoch 1651: 100%|██████████| 258/258 [00:02<00:00, 103.59it/s]\n"
     ]
    },
    {
     "name": "stdout",
     "output_type": "stream",
     "text": [
      "Epoch 1650 - Train Loss: 0.1360, Train MSE: 0.1359, Train MAE: 0.2732\n",
      "Epoch 1650 - Validation Loss: 2.0247, Validation MSE: 2.0094, Validation MAE: 1.0666\n"
     ]
    },
    {
     "name": "stderr",
     "output_type": "stream",
     "text": [
      "Training Epoch 1652: 100%|██████████| 258/258 [00:02<00:00, 95.50it/s] \n",
      "Training Epoch 1653: 100%|██████████| 258/258 [00:02<00:00, 95.98it/s] \n",
      "Training Epoch 1654: 100%|██████████| 258/258 [00:02<00:00, 102.27it/s]\n",
      "Training Epoch 1655: 100%|██████████| 258/258 [00:02<00:00, 102.42it/s]\n",
      "Training Epoch 1656: 100%|██████████| 258/258 [00:02<00:00, 99.86it/s] \n",
      "Training Epoch 1657: 100%|██████████| 258/258 [00:02<00:00, 103.13it/s]\n",
      "Training Epoch 1658: 100%|██████████| 258/258 [00:02<00:00, 100.06it/s]\n",
      "Training Epoch 1659: 100%|██████████| 258/258 [00:02<00:00, 103.52it/s]\n",
      "Training Epoch 1660: 100%|██████████| 258/258 [00:02<00:00, 105.44it/s]\n",
      "Training Epoch 1661: 100%|██████████| 258/258 [00:02<00:00, 104.15it/s]\n"
     ]
    },
    {
     "name": "stdout",
     "output_type": "stream",
     "text": [
      "Epoch 1660 - Train Loss: 0.1393, Train MSE: 0.1388, Train MAE: 0.2740\n",
      "Epoch 1660 - Validation Loss: 2.0053, Validation MSE: 1.9914, Validation MAE: 1.0499\n"
     ]
    },
    {
     "name": "stderr",
     "output_type": "stream",
     "text": [
      "Training Epoch 1662: 100%|██████████| 258/258 [00:02<00:00, 100.46it/s]\n",
      "Training Epoch 1663: 100%|██████████| 258/258 [00:02<00:00, 102.58it/s]\n",
      "Training Epoch 1664: 100%|██████████| 258/258 [00:02<00:00, 102.71it/s]\n",
      "Training Epoch 1665: 100%|██████████| 258/258 [00:02<00:00, 100.70it/s]\n",
      "Training Epoch 1666: 100%|██████████| 258/258 [00:02<00:00, 100.60it/s]\n",
      "Training Epoch 1667: 100%|██████████| 258/258 [00:02<00:00, 102.58it/s]\n",
      "Training Epoch 1668: 100%|██████████| 258/258 [00:02<00:00, 103.76it/s]\n",
      "Training Epoch 1669: 100%|██████████| 258/258 [00:02<00:00, 105.37it/s]\n",
      "Training Epoch 1670: 100%|██████████| 258/258 [00:02<00:00, 105.09it/s]\n",
      "Training Epoch 1671: 100%|██████████| 258/258 [00:02<00:00, 103.68it/s]\n"
     ]
    },
    {
     "name": "stdout",
     "output_type": "stream",
     "text": [
      "Epoch 1670 - Train Loss: 0.1342, Train MSE: 0.1343, Train MAE: 0.2696\n",
      "Epoch 1670 - Validation Loss: 2.0022, Validation MSE: 1.9858, Validation MAE: 1.0593\n"
     ]
    },
    {
     "name": "stderr",
     "output_type": "stream",
     "text": [
      "Training Epoch 1672: 100%|██████████| 258/258 [00:02<00:00, 107.81it/s]\n",
      "Training Epoch 1673: 100%|██████████| 258/258 [00:02<00:00, 105.07it/s]\n",
      "Training Epoch 1674: 100%|██████████| 258/258 [00:02<00:00, 101.22it/s]\n",
      "Training Epoch 1675: 100%|██████████| 258/258 [00:02<00:00, 94.51it/s] \n",
      "Training Epoch 1676: 100%|██████████| 258/258 [00:02<00:00, 103.74it/s]\n",
      "Training Epoch 1677: 100%|██████████| 258/258 [00:02<00:00, 103.37it/s]\n",
      "Training Epoch 1678: 100%|██████████| 258/258 [00:02<00:00, 97.33it/s] \n",
      "Training Epoch 1679: 100%|██████████| 258/258 [00:02<00:00, 103.27it/s]\n",
      "Training Epoch 1680: 100%|██████████| 258/258 [00:02<00:00, 97.70it/s] \n",
      "Training Epoch 1681: 100%|██████████| 258/258 [00:02<00:00, 102.51it/s]\n"
     ]
    },
    {
     "name": "stdout",
     "output_type": "stream",
     "text": [
      "Epoch 1680 - Train Loss: 0.1319, Train MSE: 0.1322, Train MAE: 0.2670\n",
      "Epoch 1680 - Validation Loss: 2.0445, Validation MSE: 2.0285, Validation MAE: 1.0725\n"
     ]
    },
    {
     "name": "stderr",
     "output_type": "stream",
     "text": [
      "Training Epoch 1682: 100%|██████████| 258/258 [00:02<00:00, 103.71it/s]\n",
      "Training Epoch 1683: 100%|██████████| 258/258 [00:02<00:00, 101.84it/s]\n",
      "Training Epoch 1684: 100%|██████████| 258/258 [00:02<00:00, 104.84it/s]\n",
      "Training Epoch 1685: 100%|██████████| 258/258 [00:02<00:00, 103.89it/s]\n",
      "Training Epoch 1686: 100%|██████████| 258/258 [00:02<00:00, 101.01it/s]\n",
      "Training Epoch 1687: 100%|██████████| 258/258 [00:02<00:00, 103.89it/s]\n",
      "Training Epoch 1688: 100%|██████████| 258/258 [00:02<00:00, 103.80it/s]\n",
      "Training Epoch 1689: 100%|██████████| 258/258 [00:02<00:00, 103.55it/s]\n",
      "Training Epoch 1690: 100%|██████████| 258/258 [00:02<00:00, 104.41it/s]\n",
      "Training Epoch 1691: 100%|██████████| 258/258 [00:02<00:00, 98.63it/s] \n"
     ]
    },
    {
     "name": "stdout",
     "output_type": "stream",
     "text": [
      "Epoch 1690 - Train Loss: 0.1329, Train MSE: 0.1329, Train MAE: 0.2686\n",
      "Epoch 1690 - Validation Loss: 2.0178, Validation MSE: 2.0009, Validation MAE: 1.0618\n"
     ]
    },
    {
     "name": "stderr",
     "output_type": "stream",
     "text": [
      "Training Epoch 1692: 100%|██████████| 258/258 [00:02<00:00, 98.35it/s] \n",
      "Training Epoch 1693: 100%|██████████| 258/258 [00:02<00:00, 104.22it/s]\n",
      "Training Epoch 1694: 100%|██████████| 258/258 [00:02<00:00, 102.64it/s]\n",
      "Training Epoch 1695: 100%|██████████| 258/258 [00:02<00:00, 103.72it/s]\n",
      "Training Epoch 1696: 100%|██████████| 258/258 [00:02<00:00, 104.12it/s]\n",
      "Training Epoch 1697: 100%|██████████| 258/258 [00:02<00:00, 100.17it/s]\n",
      "Training Epoch 1698: 100%|██████████| 258/258 [00:02<00:00, 100.54it/s]\n",
      "Training Epoch 1699: 100%|██████████| 258/258 [00:02<00:00, 105.81it/s]\n",
      "Training Epoch 1700: 100%|██████████| 258/258 [00:02<00:00, 103.75it/s]\n",
      "Training Epoch 1701: 100%|██████████| 258/258 [00:02<00:00, 104.37it/s]\n"
     ]
    },
    {
     "name": "stdout",
     "output_type": "stream",
     "text": [
      "Epoch 1700 - Train Loss: 0.1306, Train MSE: 0.1305, Train MAE: 0.2676\n",
      "Epoch 1700 - Validation Loss: 2.0438, Validation MSE: 2.0306, Validation MAE: 1.0760\n"
     ]
    },
    {
     "name": "stderr",
     "output_type": "stream",
     "text": [
      "Training Epoch 1702: 100%|██████████| 258/258 [00:02<00:00, 100.06it/s]\n",
      "Training Epoch 1703: 100%|██████████| 258/258 [00:02<00:00, 102.44it/s]\n",
      "Training Epoch 1704: 100%|██████████| 258/258 [00:02<00:00, 92.75it/s] \n",
      "Training Epoch 1705: 100%|██████████| 258/258 [00:02<00:00, 99.65it/s] \n",
      "Training Epoch 1706: 100%|██████████| 258/258 [00:02<00:00, 105.02it/s]\n",
      "Training Epoch 1707: 100%|██████████| 258/258 [00:02<00:00, 108.29it/s]\n",
      "Training Epoch 1708: 100%|██████████| 258/258 [00:02<00:00, 104.05it/s]\n",
      "Training Epoch 1709: 100%|██████████| 258/258 [00:02<00:00, 105.50it/s]\n",
      "Training Epoch 1710: 100%|██████████| 258/258 [00:02<00:00, 103.57it/s]\n",
      "Training Epoch 1711: 100%|██████████| 258/258 [00:02<00:00, 106.65it/s]\n"
     ]
    },
    {
     "name": "stdout",
     "output_type": "stream",
     "text": [
      "Epoch 1710 - Train Loss: 0.1308, Train MSE: 0.1310, Train MAE: 0.2694\n",
      "Epoch 1710 - Validation Loss: 2.0250, Validation MSE: 2.0155, Validation MAE: 1.0670\n"
     ]
    },
    {
     "name": "stderr",
     "output_type": "stream",
     "text": [
      "Training Epoch 1712: 100%|██████████| 258/258 [00:02<00:00, 101.57it/s]\n",
      "Training Epoch 1713: 100%|██████████| 258/258 [00:02<00:00, 103.75it/s]\n",
      "Training Epoch 1714: 100%|██████████| 258/258 [00:02<00:00, 102.78it/s]\n",
      "Training Epoch 1715: 100%|██████████| 258/258 [00:02<00:00, 104.18it/s]\n",
      "Training Epoch 1716: 100%|██████████| 258/258 [00:02<00:00, 103.57it/s]\n",
      "Training Epoch 1717: 100%|██████████| 258/258 [00:02<00:00, 98.13it/s] \n",
      "Training Epoch 1718: 100%|██████████| 258/258 [00:02<00:00, 99.13it/s] \n",
      "Training Epoch 1719: 100%|██████████| 258/258 [00:02<00:00, 95.28it/s] \n",
      "Training Epoch 1720: 100%|██████████| 258/258 [00:02<00:00, 89.86it/s] \n",
      "Training Epoch 1721: 100%|██████████| 258/258 [00:02<00:00, 98.97it/s] \n"
     ]
    },
    {
     "name": "stdout",
     "output_type": "stream",
     "text": [
      "Epoch 1720 - Train Loss: 0.1372, Train MSE: 0.1373, Train MAE: 0.2734\n",
      "Epoch 1720 - Validation Loss: 2.0528, Validation MSE: 2.0409, Validation MAE: 1.0730\n"
     ]
    },
    {
     "name": "stderr",
     "output_type": "stream",
     "text": [
      "Training Epoch 1722: 100%|██████████| 258/258 [00:02<00:00, 99.86it/s] \n",
      "Training Epoch 1723: 100%|██████████| 258/258 [00:02<00:00, 100.38it/s]\n",
      "Training Epoch 1724: 100%|██████████| 258/258 [00:02<00:00, 103.44it/s]\n",
      "Training Epoch 1725: 100%|██████████| 258/258 [00:02<00:00, 104.19it/s]\n",
      "Training Epoch 1726: 100%|██████████| 258/258 [00:02<00:00, 98.58it/s] \n",
      "Training Epoch 1727: 100%|██████████| 258/258 [00:02<00:00, 106.36it/s]\n",
      "Training Epoch 1728: 100%|██████████| 258/258 [00:02<00:00, 100.99it/s]\n",
      "Training Epoch 1729: 100%|██████████| 258/258 [00:02<00:00, 105.97it/s]\n",
      "Training Epoch 1730: 100%|██████████| 258/258 [00:02<00:00, 107.43it/s]\n",
      "Training Epoch 1731: 100%|██████████| 258/258 [00:02<00:00, 103.30it/s]\n"
     ]
    },
    {
     "name": "stdout",
     "output_type": "stream",
     "text": [
      "Epoch 1730 - Train Loss: 0.1319, Train MSE: 0.1322, Train MAE: 0.2681\n",
      "Epoch 1730 - Validation Loss: 2.0109, Validation MSE: 1.9984, Validation MAE: 1.0609\n"
     ]
    },
    {
     "name": "stderr",
     "output_type": "stream",
     "text": [
      "Training Epoch 1732: 100%|██████████| 258/258 [00:02<00:00, 100.98it/s]\n",
      "Training Epoch 1733: 100%|██████████| 258/258 [00:02<00:00, 106.16it/s]\n",
      "Training Epoch 1734: 100%|██████████| 258/258 [00:02<00:00, 106.52it/s]\n",
      "Training Epoch 1735: 100%|██████████| 258/258 [00:02<00:00, 103.59it/s]\n",
      "Training Epoch 1736: 100%|██████████| 258/258 [00:02<00:00, 105.55it/s]\n",
      "Training Epoch 1737: 100%|██████████| 258/258 [00:02<00:00, 104.86it/s]\n",
      "Training Epoch 1738: 100%|██████████| 258/258 [00:02<00:00, 105.00it/s]\n",
      "Training Epoch 1739: 100%|██████████| 258/258 [00:02<00:00, 101.46it/s]\n",
      "Training Epoch 1740: 100%|██████████| 258/258 [00:02<00:00, 104.66it/s]\n",
      "Training Epoch 1741: 100%|██████████| 258/258 [00:02<00:00, 101.60it/s]\n"
     ]
    },
    {
     "name": "stdout",
     "output_type": "stream",
     "text": [
      "Epoch 1740 - Train Loss: 0.1360, Train MSE: 0.1352, Train MAE: 0.2710\n",
      "Epoch 1740 - Validation Loss: 2.0436, Validation MSE: 2.0313, Validation MAE: 1.0710\n"
     ]
    },
    {
     "name": "stderr",
     "output_type": "stream",
     "text": [
      "Training Epoch 1742: 100%|██████████| 258/258 [00:02<00:00, 103.32it/s]\n",
      "Training Epoch 1743: 100%|██████████| 258/258 [00:02<00:00, 92.66it/s] \n",
      "Training Epoch 1744: 100%|██████████| 258/258 [00:02<00:00, 101.91it/s]\n",
      "Training Epoch 1745: 100%|██████████| 258/258 [00:02<00:00, 103.30it/s]\n",
      "Training Epoch 1746: 100%|██████████| 258/258 [00:02<00:00, 94.89it/s] \n",
      "Training Epoch 1747: 100%|██████████| 258/258 [00:02<00:00, 106.72it/s]\n",
      "Training Epoch 1748: 100%|██████████| 258/258 [00:02<00:00, 99.04it/s] \n",
      "Training Epoch 1749: 100%|██████████| 258/258 [00:02<00:00, 103.98it/s]\n",
      "Training Epoch 1750: 100%|██████████| 258/258 [00:02<00:00, 104.21it/s]\n",
      "Training Epoch 1751: 100%|██████████| 258/258 [00:02<00:00, 101.24it/s]\n"
     ]
    },
    {
     "name": "stdout",
     "output_type": "stream",
     "text": [
      "Epoch 1750 - Train Loss: 0.1370, Train MSE: 0.1370, Train MAE: 0.2716\n",
      "Epoch 1750 - Validation Loss: 2.0100, Validation MSE: 1.9935, Validation MAE: 1.0602\n"
     ]
    },
    {
     "name": "stderr",
     "output_type": "stream",
     "text": [
      "Training Epoch 1752: 100%|██████████| 258/258 [00:02<00:00, 103.64it/s]\n",
      "Training Epoch 1753: 100%|██████████| 258/258 [00:02<00:00, 102.45it/s]\n",
      "Training Epoch 1754: 100%|██████████| 258/258 [00:02<00:00, 102.87it/s]\n",
      "Training Epoch 1755: 100%|██████████| 258/258 [00:02<00:00, 103.73it/s]\n",
      "Training Epoch 1756: 100%|██████████| 258/258 [00:02<00:00, 104.37it/s]\n",
      "Training Epoch 1757: 100%|██████████| 258/258 [00:02<00:00, 102.97it/s]\n",
      "Training Epoch 1758: 100%|██████████| 258/258 [00:02<00:00, 104.24it/s]\n",
      "Training Epoch 1759: 100%|██████████| 258/258 [00:02<00:00, 96.72it/s] \n",
      "Training Epoch 1760: 100%|██████████| 258/258 [00:02<00:00, 103.38it/s]\n",
      "Training Epoch 1761: 100%|██████████| 258/258 [00:02<00:00, 104.12it/s]\n"
     ]
    },
    {
     "name": "stdout",
     "output_type": "stream",
     "text": [
      "Epoch 1760 - Train Loss: 0.1334, Train MSE: 0.1325, Train MAE: 0.2680\n",
      "Epoch 1760 - Validation Loss: 1.9812, Validation MSE: 1.9630, Validation MAE: 1.0537\n"
     ]
    },
    {
     "name": "stderr",
     "output_type": "stream",
     "text": [
      "Training Epoch 1762: 100%|██████████| 258/258 [00:02<00:00, 107.14it/s]\n",
      "Training Epoch 1763: 100%|██████████| 258/258 [00:02<00:00, 107.89it/s]\n",
      "Training Epoch 1764: 100%|██████████| 258/258 [00:02<00:00, 101.33it/s]\n",
      "Training Epoch 1765: 100%|██████████| 258/258 [00:02<00:00, 97.44it/s] \n",
      "Training Epoch 1766: 100%|██████████| 258/258 [00:02<00:00, 101.76it/s]\n",
      "Training Epoch 1767: 100%|██████████| 258/258 [00:02<00:00, 99.94it/s] \n",
      "Training Epoch 1768: 100%|██████████| 258/258 [00:02<00:00, 101.76it/s]\n",
      "Training Epoch 1769: 100%|██████████| 258/258 [00:02<00:00, 108.39it/s]\n",
      "Training Epoch 1770: 100%|██████████| 258/258 [00:02<00:00, 105.40it/s]\n",
      "Training Epoch 1771: 100%|██████████| 258/258 [00:02<00:00, 99.85it/s] \n"
     ]
    },
    {
     "name": "stdout",
     "output_type": "stream",
     "text": [
      "Epoch 1770 - Train Loss: 0.1405, Train MSE: 0.1403, Train MAE: 0.2741\n",
      "Epoch 1770 - Validation Loss: 2.0093, Validation MSE: 1.9918, Validation MAE: 1.0600\n"
     ]
    },
    {
     "name": "stderr",
     "output_type": "stream",
     "text": [
      "Training Epoch 1772: 100%|██████████| 258/258 [00:02<00:00, 100.74it/s]\n",
      "Training Epoch 1773: 100%|██████████| 258/258 [00:02<00:00, 100.13it/s]\n",
      "Training Epoch 1774: 100%|██████████| 258/258 [00:02<00:00, 101.88it/s]\n",
      "Training Epoch 1775: 100%|██████████| 258/258 [00:02<00:00, 105.53it/s]\n",
      "Training Epoch 1776: 100%|██████████| 258/258 [00:02<00:00, 105.75it/s]\n",
      "Training Epoch 1777: 100%|██████████| 258/258 [00:02<00:00, 102.43it/s]\n",
      "Training Epoch 1778: 100%|██████████| 258/258 [00:02<00:00, 104.40it/s]\n",
      "Training Epoch 1779: 100%|██████████| 258/258 [00:02<00:00, 104.15it/s]\n",
      "Training Epoch 1780: 100%|██████████| 258/258 [00:02<00:00, 107.58it/s]\n",
      "Training Epoch 1781: 100%|██████████| 258/258 [00:02<00:00, 108.84it/s]\n"
     ]
    },
    {
     "name": "stdout",
     "output_type": "stream",
     "text": [
      "Epoch 1780 - Train Loss: 0.1416, Train MSE: 0.1416, Train MAE: 0.2690\n",
      "Epoch 1780 - Validation Loss: 2.0291, Validation MSE: 2.0148, Validation MAE: 1.0629\n"
     ]
    },
    {
     "name": "stderr",
     "output_type": "stream",
     "text": [
      "Training Epoch 1782: 100%|██████████| 258/258 [00:02<00:00, 106.15it/s]\n",
      "Training Epoch 1783: 100%|██████████| 258/258 [00:02<00:00, 99.35it/s] \n",
      "Training Epoch 1784: 100%|██████████| 258/258 [00:02<00:00, 102.94it/s]\n",
      "Training Epoch 1785: 100%|██████████| 258/258 [00:02<00:00, 102.84it/s]\n",
      "Training Epoch 1786: 100%|██████████| 258/258 [00:02<00:00, 103.01it/s]\n",
      "Training Epoch 1787: 100%|██████████| 258/258 [00:02<00:00, 104.19it/s]\n",
      "Training Epoch 1788: 100%|██████████| 258/258 [00:02<00:00, 96.35it/s] \n",
      "Training Epoch 1789: 100%|██████████| 258/258 [00:02<00:00, 99.01it/s] \n",
      "Training Epoch 1790: 100%|██████████| 258/258 [00:02<00:00, 100.80it/s]\n",
      "Training Epoch 1791: 100%|██████████| 258/258 [00:02<00:00, 104.79it/s]\n"
     ]
    },
    {
     "name": "stdout",
     "output_type": "stream",
     "text": [
      "Epoch 1790 - Train Loss: 0.1322, Train MSE: 0.1319, Train MAE: 0.2664\n",
      "Epoch 1790 - Validation Loss: 1.9746, Validation MSE: 1.9612, Validation MAE: 1.0568\n"
     ]
    },
    {
     "name": "stderr",
     "output_type": "stream",
     "text": [
      "Training Epoch 1792: 100%|██████████| 258/258 [00:02<00:00, 103.92it/s]\n",
      "Training Epoch 1793: 100%|██████████| 258/258 [00:02<00:00, 106.53it/s]\n",
      "Training Epoch 1794: 100%|██████████| 258/258 [00:02<00:00, 102.91it/s]\n",
      "Training Epoch 1795: 100%|██████████| 258/258 [00:02<00:00, 100.18it/s]\n",
      "Training Epoch 1796: 100%|██████████| 258/258 [00:02<00:00, 104.13it/s]\n",
      "Training Epoch 1797: 100%|██████████| 258/258 [00:02<00:00, 107.60it/s]\n",
      "Training Epoch 1798: 100%|██████████| 258/258 [00:02<00:00, 101.01it/s]\n",
      "Training Epoch 1799: 100%|██████████| 258/258 [00:02<00:00, 105.08it/s]\n",
      "Training Epoch 1800: 100%|██████████| 258/258 [00:02<00:00, 104.95it/s]\n",
      "Training Epoch 1801: 100%|██████████| 258/258 [00:02<00:00, 101.95it/s]\n"
     ]
    },
    {
     "name": "stdout",
     "output_type": "stream",
     "text": [
      "Epoch 1800 - Train Loss: 0.1321, Train MSE: 0.1313, Train MAE: 0.2677\n",
      "Epoch 1800 - Validation Loss: 2.0515, Validation MSE: 2.0380, Validation MAE: 1.0683\n"
     ]
    },
    {
     "name": "stderr",
     "output_type": "stream",
     "text": [
      "Training Epoch 1802: 100%|██████████| 258/258 [00:02<00:00, 103.92it/s]\n",
      "Training Epoch 1803: 100%|██████████| 258/258 [00:02<00:00, 106.94it/s]\n",
      "Training Epoch 1804: 100%|██████████| 258/258 [00:02<00:00, 105.91it/s]\n",
      "Training Epoch 1805: 100%|██████████| 258/258 [00:02<00:00, 103.33it/s]\n",
      "Training Epoch 1806: 100%|██████████| 258/258 [00:02<00:00, 104.75it/s]\n",
      "Training Epoch 1807: 100%|██████████| 258/258 [00:02<00:00, 103.19it/s]\n",
      "Training Epoch 1808: 100%|██████████| 258/258 [00:02<00:00, 103.84it/s]\n",
      "Training Epoch 1809: 100%|██████████| 258/258 [00:02<00:00, 108.68it/s]\n",
      "Training Epoch 1810: 100%|██████████| 258/258 [00:02<00:00, 101.32it/s]\n",
      "Training Epoch 1811: 100%|██████████| 258/258 [00:02<00:00, 97.78it/s] \n"
     ]
    },
    {
     "name": "stdout",
     "output_type": "stream",
     "text": [
      "Epoch 1810 - Train Loss: 0.1375, Train MSE: 0.1361, Train MAE: 0.2715\n",
      "Epoch 1810 - Validation Loss: 2.0070, Validation MSE: 1.9892, Validation MAE: 1.0644\n"
     ]
    },
    {
     "name": "stderr",
     "output_type": "stream",
     "text": [
      "Training Epoch 1812: 100%|██████████| 258/258 [00:02<00:00, 98.64it/s] \n",
      "Training Epoch 1813: 100%|██████████| 258/258 [00:02<00:00, 95.15it/s] \n",
      "Training Epoch 1814: 100%|██████████| 258/258 [00:02<00:00, 99.18it/s] \n",
      "Training Epoch 1815: 100%|██████████| 258/258 [00:02<00:00, 102.42it/s]\n",
      "Training Epoch 1816: 100%|██████████| 258/258 [00:02<00:00, 106.31it/s]\n",
      "Training Epoch 1817: 100%|██████████| 258/258 [00:02<00:00, 104.58it/s]\n",
      "Training Epoch 1818: 100%|██████████| 258/258 [00:02<00:00, 104.26it/s]\n",
      "Training Epoch 1819: 100%|██████████| 258/258 [00:02<00:00, 102.15it/s]\n",
      "Training Epoch 1820: 100%|██████████| 258/258 [00:02<00:00, 97.75it/s] \n",
      "Training Epoch 1821: 100%|██████████| 258/258 [00:02<00:00, 106.67it/s]\n"
     ]
    },
    {
     "name": "stdout",
     "output_type": "stream",
     "text": [
      "Epoch 1820 - Train Loss: 0.1292, Train MSE: 0.1292, Train MAE: 0.2636\n",
      "Epoch 1820 - Validation Loss: 2.0355, Validation MSE: 2.0221, Validation MAE: 1.0682\n"
     ]
    },
    {
     "name": "stderr",
     "output_type": "stream",
     "text": [
      "Training Epoch 1822: 100%|██████████| 258/258 [00:02<00:00, 101.65it/s]\n",
      "Training Epoch 1823: 100%|██████████| 258/258 [00:02<00:00, 104.41it/s]\n",
      "Training Epoch 1824: 100%|██████████| 258/258 [00:02<00:00, 105.55it/s]\n",
      "Training Epoch 1825: 100%|██████████| 258/258 [00:02<00:00, 102.30it/s]\n",
      "Training Epoch 1826: 100%|██████████| 258/258 [00:02<00:00, 99.21it/s] \n",
      "Training Epoch 1827: 100%|██████████| 258/258 [00:02<00:00, 103.10it/s]\n",
      "Training Epoch 1828: 100%|██████████| 258/258 [00:02<00:00, 102.06it/s]\n",
      "Training Epoch 1829: 100%|██████████| 258/258 [00:02<00:00, 103.59it/s]\n",
      "Training Epoch 1830: 100%|██████████| 258/258 [00:02<00:00, 104.99it/s]\n",
      "Training Epoch 1831: 100%|██████████| 258/258 [00:02<00:00, 102.98it/s]\n"
     ]
    },
    {
     "name": "stdout",
     "output_type": "stream",
     "text": [
      "Epoch 1830 - Train Loss: 0.1300, Train MSE: 0.1301, Train MAE: 0.2660\n",
      "Epoch 1830 - Validation Loss: 2.0578, Validation MSE: 2.0443, Validation MAE: 1.0722\n"
     ]
    },
    {
     "name": "stderr",
     "output_type": "stream",
     "text": [
      "Training Epoch 1832: 100%|██████████| 258/258 [00:02<00:00, 100.04it/s]\n",
      "Training Epoch 1833: 100%|██████████| 258/258 [00:02<00:00, 105.31it/s]\n",
      "Training Epoch 1834: 100%|██████████| 258/258 [00:02<00:00, 93.53it/s] \n",
      "Training Epoch 1835: 100%|██████████| 258/258 [00:02<00:00, 98.81it/s] \n",
      "Training Epoch 1836: 100%|██████████| 258/258 [00:02<00:00, 103.99it/s]\n",
      "Training Epoch 1837: 100%|██████████| 258/258 [00:02<00:00, 98.56it/s] \n",
      "Training Epoch 1838: 100%|██████████| 258/258 [00:02<00:00, 103.42it/s]\n",
      "Training Epoch 1839: 100%|██████████| 258/258 [00:02<00:00, 100.51it/s]\n",
      "Training Epoch 1840: 100%|██████████| 258/258 [00:02<00:00, 107.08it/s]\n",
      "Training Epoch 1841: 100%|██████████| 258/258 [00:02<00:00, 104.94it/s]\n"
     ]
    },
    {
     "name": "stdout",
     "output_type": "stream",
     "text": [
      "Epoch 1840 - Train Loss: 0.1323, Train MSE: 0.1315, Train MAE: 0.2672\n",
      "Epoch 1840 - Validation Loss: 1.9756, Validation MSE: 1.9599, Validation MAE: 1.0586\n"
     ]
    },
    {
     "name": "stderr",
     "output_type": "stream",
     "text": [
      "Training Epoch 1842: 100%|██████████| 258/258 [00:02<00:00, 103.50it/s]\n",
      "Training Epoch 1843: 100%|██████████| 258/258 [00:02<00:00, 104.55it/s]\n",
      "Training Epoch 1844: 100%|██████████| 258/258 [00:02<00:00, 103.68it/s]\n",
      "Training Epoch 1845: 100%|██████████| 258/258 [00:02<00:00, 103.01it/s]\n",
      "Training Epoch 1846: 100%|██████████| 258/258 [00:02<00:00, 102.34it/s]\n",
      "Training Epoch 1847: 100%|██████████| 258/258 [00:02<00:00, 103.86it/s]\n",
      "Training Epoch 1848: 100%|██████████| 258/258 [00:02<00:00, 104.82it/s]\n",
      "Training Epoch 1849: 100%|██████████| 258/258 [00:02<00:00, 106.44it/s]\n",
      "Training Epoch 1850: 100%|██████████| 258/258 [00:02<00:00, 104.18it/s]\n",
      "Training Epoch 1851: 100%|██████████| 258/258 [00:02<00:00, 101.02it/s]\n"
     ]
    },
    {
     "name": "stdout",
     "output_type": "stream",
     "text": [
      "Epoch 1850 - Train Loss: 0.1302, Train MSE: 0.1304, Train MAE: 0.2667\n",
      "Epoch 1850 - Validation Loss: 2.0063, Validation MSE: 1.9961, Validation MAE: 1.0623\n"
     ]
    },
    {
     "name": "stderr",
     "output_type": "stream",
     "text": [
      "Training Epoch 1852: 100%|██████████| 258/258 [00:02<00:00, 104.89it/s]\n",
      "Training Epoch 1853: 100%|██████████| 258/258 [00:02<00:00, 105.15it/s]\n",
      "Training Epoch 1854: 100%|██████████| 258/258 [00:02<00:00, 106.97it/s]\n",
      "Training Epoch 1855: 100%|██████████| 258/258 [00:02<00:00, 104.24it/s]\n",
      "Training Epoch 1856: 100%|██████████| 258/258 [00:02<00:00, 92.88it/s] \n",
      "Training Epoch 1857: 100%|██████████| 258/258 [00:02<00:00, 97.08it/s] \n",
      "Training Epoch 1858: 100%|██████████| 258/258 [00:02<00:00, 101.04it/s]\n",
      "Training Epoch 1859: 100%|██████████| 258/258 [00:02<00:00, 107.27it/s]\n",
      "Training Epoch 1860: 100%|██████████| 258/258 [00:02<00:00, 103.52it/s]\n",
      "Training Epoch 1861: 100%|██████████| 258/258 [00:02<00:00, 104.92it/s]\n"
     ]
    },
    {
     "name": "stdout",
     "output_type": "stream",
     "text": [
      "Epoch 1860 - Train Loss: 0.1307, Train MSE: 0.1308, Train MAE: 0.2662\n",
      "Epoch 1860 - Validation Loss: 2.0099, Validation MSE: 2.0024, Validation MAE: 1.0670\n"
     ]
    },
    {
     "name": "stderr",
     "output_type": "stream",
     "text": [
      "Training Epoch 1862: 100%|██████████| 258/258 [00:02<00:00, 103.40it/s]\n",
      "Training Epoch 1863: 100%|██████████| 258/258 [00:02<00:00, 105.78it/s]\n",
      "Training Epoch 1864: 100%|██████████| 258/258 [00:02<00:00, 107.02it/s]\n",
      "Training Epoch 1865: 100%|██████████| 258/258 [00:02<00:00, 107.10it/s]\n",
      "Training Epoch 1866: 100%|██████████| 258/258 [00:02<00:00, 101.74it/s]\n",
      "Training Epoch 1867: 100%|██████████| 258/258 [00:02<00:00, 105.04it/s]\n",
      "Training Epoch 1868: 100%|██████████| 258/258 [00:02<00:00, 99.38it/s] \n",
      "Training Epoch 1869: 100%|██████████| 258/258 [00:02<00:00, 103.46it/s]\n",
      "Training Epoch 1870: 100%|██████████| 258/258 [00:02<00:00, 106.75it/s]\n",
      "Training Epoch 1871: 100%|██████████| 258/258 [00:02<00:00, 100.82it/s]\n"
     ]
    },
    {
     "name": "stdout",
     "output_type": "stream",
     "text": [
      "Epoch 1870 - Train Loss: 0.1289, Train MSE: 0.1290, Train MAE: 0.2615\n",
      "Epoch 1870 - Validation Loss: 1.9905, Validation MSE: 1.9776, Validation MAE: 1.0594\n"
     ]
    },
    {
     "name": "stderr",
     "output_type": "stream",
     "text": [
      "Training Epoch 1872: 100%|██████████| 258/258 [00:02<00:00, 102.98it/s]\n",
      "Training Epoch 1873: 100%|██████████| 258/258 [00:02<00:00, 103.70it/s]\n",
      "Training Epoch 1874: 100%|██████████| 258/258 [00:02<00:00, 99.77it/s] \n",
      "Training Epoch 1875: 100%|██████████| 258/258 [00:02<00:00, 103.35it/s]\n",
      "Training Epoch 1876: 100%|██████████| 258/258 [00:02<00:00, 102.12it/s]\n",
      "Training Epoch 1877: 100%|██████████| 258/258 [00:02<00:00, 104.77it/s]\n",
      "Training Epoch 1878: 100%|██████████| 258/258 [00:02<00:00, 107.67it/s]\n",
      "Training Epoch 1879: 100%|██████████| 258/258 [00:02<00:00, 97.37it/s] \n",
      "Training Epoch 1880: 100%|██████████| 258/258 [00:02<00:00, 99.72it/s] \n",
      "Training Epoch 1881: 100%|██████████| 258/258 [00:02<00:00, 92.74it/s] \n"
     ]
    },
    {
     "name": "stdout",
     "output_type": "stream",
     "text": [
      "Epoch 1880 - Train Loss: 0.1333, Train MSE: 0.1335, Train MAE: 0.2677\n",
      "Epoch 1880 - Validation Loss: 2.0061, Validation MSE: 1.9930, Validation MAE: 1.0649\n"
     ]
    },
    {
     "name": "stderr",
     "output_type": "stream",
     "text": [
      "Training Epoch 1882: 100%|██████████| 258/258 [00:02<00:00, 103.77it/s]\n",
      "Training Epoch 1883: 100%|██████████| 258/258 [00:02<00:00, 102.75it/s]\n",
      "Training Epoch 1884: 100%|██████████| 258/258 [00:02<00:00, 99.05it/s] \n",
      "Training Epoch 1885: 100%|██████████| 258/258 [00:02<00:00, 101.29it/s]\n",
      "Training Epoch 1886: 100%|██████████| 258/258 [00:02<00:00, 97.69it/s] \n",
      "Training Epoch 1887: 100%|██████████| 258/258 [00:02<00:00, 103.17it/s]\n",
      "Training Epoch 1888: 100%|██████████| 258/258 [00:02<00:00, 106.53it/s]\n",
      "Training Epoch 1889: 100%|██████████| 258/258 [00:02<00:00, 105.22it/s]\n",
      "Training Epoch 1890: 100%|██████████| 258/258 [00:02<00:00, 104.69it/s]\n",
      "Training Epoch 1891: 100%|██████████| 258/258 [00:02<00:00, 103.84it/s]\n"
     ]
    },
    {
     "name": "stdout",
     "output_type": "stream",
     "text": [
      "Epoch 1890 - Train Loss: 0.1267, Train MSE: 0.1267, Train MAE: 0.2648\n",
      "Epoch 1890 - Validation Loss: 2.0339, Validation MSE: 2.0141, Validation MAE: 1.0746\n"
     ]
    },
    {
     "name": "stderr",
     "output_type": "stream",
     "text": [
      "Training Epoch 1892: 100%|██████████| 258/258 [00:02<00:00, 104.81it/s]\n",
      "Training Epoch 1893: 100%|██████████| 258/258 [00:02<00:00, 103.85it/s]\n",
      "Training Epoch 1894: 100%|██████████| 258/258 [00:02<00:00, 103.81it/s]\n",
      "Training Epoch 1895: 100%|██████████| 258/258 [00:02<00:00, 98.92it/s] \n",
      "Training Epoch 1896: 100%|██████████| 258/258 [00:02<00:00, 104.15it/s]\n",
      "Training Epoch 1897: 100%|██████████| 258/258 [00:02<00:00, 103.97it/s]\n",
      "Training Epoch 1898: 100%|██████████| 258/258 [00:02<00:00, 101.44it/s]\n",
      "Training Epoch 1899: 100%|██████████| 258/258 [00:02<00:00, 104.59it/s]\n",
      "Training Epoch 1900: 100%|██████████| 258/258 [00:02<00:00, 104.45it/s]\n",
      "Training Epoch 1901: 100%|██████████| 258/258 [00:02<00:00, 104.33it/s]\n"
     ]
    },
    {
     "name": "stdout",
     "output_type": "stream",
     "text": [
      "Epoch 1900 - Train Loss: 0.1249, Train MSE: 0.1249, Train MAE: 0.2608\n",
      "Epoch 1900 - Validation Loss: 1.9931, Validation MSE: 1.9808, Validation MAE: 1.0624\n"
     ]
    },
    {
     "name": "stderr",
     "output_type": "stream",
     "text": [
      "Training Epoch 1902: 100%|██████████| 258/258 [00:02<00:00, 95.54it/s] \n",
      "Training Epoch 1903: 100%|██████████| 258/258 [00:02<00:00, 96.28it/s] \n",
      "Training Epoch 1904: 100%|██████████| 258/258 [00:02<00:00, 103.28it/s]\n",
      "Training Epoch 1905: 100%|██████████| 258/258 [00:02<00:00, 104.36it/s]\n",
      "Training Epoch 1906: 100%|██████████| 258/258 [00:02<00:00, 104.47it/s]\n",
      "Training Epoch 1907: 100%|██████████| 258/258 [00:02<00:00, 107.70it/s]\n",
      "Training Epoch 1908: 100%|██████████| 258/258 [00:02<00:00, 96.32it/s] \n",
      "Training Epoch 1909: 100%|██████████| 258/258 [00:02<00:00, 98.09it/s] \n",
      "Training Epoch 1910: 100%|██████████| 258/258 [00:02<00:00, 98.73it/s] \n",
      "Training Epoch 1911: 100%|██████████| 258/258 [00:02<00:00, 103.89it/s]\n"
     ]
    },
    {
     "name": "stdout",
     "output_type": "stream",
     "text": [
      "Epoch 1910 - Train Loss: 0.1341, Train MSE: 0.1341, Train MAE: 0.2665\n",
      "Epoch 1910 - Validation Loss: 2.0295, Validation MSE: 2.0142, Validation MAE: 1.0657\n"
     ]
    },
    {
     "name": "stderr",
     "output_type": "stream",
     "text": [
      "Training Epoch 1912: 100%|██████████| 258/258 [00:02<00:00, 102.95it/s]\n",
      "Training Epoch 1913: 100%|██████████| 258/258 [00:02<00:00, 104.43it/s]\n",
      "Training Epoch 1914: 100%|██████████| 258/258 [00:02<00:00, 104.89it/s]\n",
      "Training Epoch 1915: 100%|██████████| 258/258 [00:02<00:00, 102.34it/s]\n",
      "Training Epoch 1916: 100%|██████████| 258/258 [00:02<00:00, 104.06it/s]\n",
      "Training Epoch 1917: 100%|██████████| 258/258 [00:02<00:00, 104.79it/s]\n",
      "Training Epoch 1918: 100%|██████████| 258/258 [00:02<00:00, 105.02it/s]\n",
      "Training Epoch 1919: 100%|██████████| 258/258 [00:02<00:00, 104.92it/s]\n",
      "Training Epoch 1920: 100%|██████████| 258/258 [00:02<00:00, 105.10it/s]\n",
      "Training Epoch 1921: 100%|██████████| 258/258 [00:02<00:00, 107.73it/s]\n"
     ]
    },
    {
     "name": "stdout",
     "output_type": "stream",
     "text": [
      "Epoch 1920 - Train Loss: 0.1272, Train MSE: 0.1274, Train MAE: 0.2623\n",
      "Epoch 1920 - Validation Loss: 1.9495, Validation MSE: 1.9295, Validation MAE: 1.0369\n"
     ]
    },
    {
     "name": "stderr",
     "output_type": "stream",
     "text": [
      "Training Epoch 1922: 100%|██████████| 258/258 [00:02<00:00, 104.61it/s]\n",
      "Training Epoch 1923: 100%|██████████| 258/258 [00:02<00:00, 98.20it/s] \n",
      "Training Epoch 1924: 100%|██████████| 258/258 [00:02<00:00, 105.90it/s]\n",
      "Training Epoch 1925: 100%|██████████| 258/258 [00:02<00:00, 92.99it/s] \n",
      "Training Epoch 1926: 100%|██████████| 258/258 [00:02<00:00, 102.04it/s]\n",
      "Training Epoch 1927: 100%|██████████| 258/258 [00:02<00:00, 103.46it/s]\n",
      "Training Epoch 1928: 100%|██████████| 258/258 [00:02<00:00, 100.86it/s]\n",
      "Training Epoch 1929: 100%|██████████| 258/258 [00:02<00:00, 102.18it/s]\n",
      "Training Epoch 1930: 100%|██████████| 258/258 [00:02<00:00, 104.32it/s]\n",
      "Training Epoch 1931: 100%|██████████| 258/258 [00:02<00:00, 102.44it/s]\n"
     ]
    },
    {
     "name": "stdout",
     "output_type": "stream",
     "text": [
      "Epoch 1930 - Train Loss: 0.1323, Train MSE: 0.1324, Train MAE: 0.2655\n",
      "Epoch 1930 - Validation Loss: 2.0600, Validation MSE: 2.0398, Validation MAE: 1.0700\n"
     ]
    },
    {
     "name": "stderr",
     "output_type": "stream",
     "text": [
      "Training Epoch 1932: 100%|██████████| 258/258 [00:02<00:00, 103.28it/s]\n",
      "Training Epoch 1933: 100%|██████████| 258/258 [00:02<00:00, 103.42it/s]\n",
      "Training Epoch 1934: 100%|██████████| 258/258 [00:02<00:00, 101.50it/s]\n",
      "Training Epoch 1935: 100%|██████████| 258/258 [00:02<00:00, 99.89it/s] \n",
      "Training Epoch 1936: 100%|██████████| 258/258 [00:02<00:00, 104.24it/s]\n",
      "Training Epoch 1937: 100%|██████████| 258/258 [00:02<00:00, 98.43it/s] \n",
      "Training Epoch 1938: 100%|██████████| 258/258 [00:02<00:00, 104.29it/s]\n",
      "Training Epoch 1939: 100%|██████████| 258/258 [00:02<00:00, 105.27it/s]\n",
      "Training Epoch 1940: 100%|██████████| 258/258 [00:02<00:00, 102.73it/s]\n",
      "Training Epoch 1941: 100%|██████████| 258/258 [00:02<00:00, 102.89it/s]\n"
     ]
    },
    {
     "name": "stdout",
     "output_type": "stream",
     "text": [
      "Epoch 1940 - Train Loss: 0.1367, Train MSE: 0.1362, Train MAE: 0.2643\n",
      "Epoch 1940 - Validation Loss: 2.0493, Validation MSE: 2.0350, Validation MAE: 1.0737\n"
     ]
    },
    {
     "name": "stderr",
     "output_type": "stream",
     "text": [
      "Training Epoch 1942: 100%|██████████| 258/258 [00:02<00:00, 102.95it/s]\n",
      "Training Epoch 1943: 100%|██████████| 258/258 [00:02<00:00, 106.95it/s]\n",
      "Training Epoch 1944: 100%|██████████| 258/258 [00:02<00:00, 107.69it/s]\n",
      "Training Epoch 1945: 100%|██████████| 258/258 [00:02<00:00, 101.18it/s]\n",
      "Training Epoch 1946: 100%|██████████| 258/258 [00:02<00:00, 103.16it/s]\n",
      "Training Epoch 1947: 100%|██████████| 258/258 [00:02<00:00, 104.26it/s]\n",
      "Training Epoch 1948: 100%|██████████| 258/258 [00:02<00:00, 95.61it/s] \n",
      "Training Epoch 1949: 100%|██████████| 258/258 [00:02<00:00, 99.89it/s] \n",
      "Training Epoch 1950: 100%|██████████| 258/258 [00:02<00:00, 94.94it/s] \n",
      "Training Epoch 1951: 100%|██████████| 258/258 [00:02<00:00, 102.12it/s]\n"
     ]
    },
    {
     "name": "stdout",
     "output_type": "stream",
     "text": [
      "Epoch 1950 - Train Loss: 0.1320, Train MSE: 0.1319, Train MAE: 0.2645\n",
      "Epoch 1950 - Validation Loss: 1.9920, Validation MSE: 1.9827, Validation MAE: 1.0523\n"
     ]
    },
    {
     "name": "stderr",
     "output_type": "stream",
     "text": [
      "Training Epoch 1952: 100%|██████████| 258/258 [00:02<00:00, 100.77it/s]\n",
      "Training Epoch 1953: 100%|██████████| 258/258 [00:02<00:00, 99.06it/s] \n",
      "Training Epoch 1954: 100%|██████████| 258/258 [00:02<00:00, 105.39it/s]\n",
      "Training Epoch 1955: 100%|██████████| 258/258 [00:02<00:00, 105.42it/s]\n",
      "Training Epoch 1956: 100%|██████████| 258/258 [00:02<00:00, 104.39it/s]\n",
      "Training Epoch 1957: 100%|██████████| 258/258 [00:02<00:00, 106.48it/s]\n",
      "Training Epoch 1958: 100%|██████████| 258/258 [00:02<00:00, 102.31it/s]\n",
      "Training Epoch 1959: 100%|██████████| 258/258 [00:02<00:00, 99.61it/s] \n",
      "Training Epoch 1960: 100%|██████████| 258/258 [00:02<00:00, 109.06it/s]\n",
      "Training Epoch 1961: 100%|██████████| 258/258 [00:02<00:00, 105.44it/s]\n"
     ]
    },
    {
     "name": "stdout",
     "output_type": "stream",
     "text": [
      "Epoch 1960 - Train Loss: 0.1389, Train MSE: 0.1391, Train MAE: 0.2683\n",
      "Epoch 1960 - Validation Loss: 2.0122, Validation MSE: 1.9960, Validation MAE: 1.0574\n"
     ]
    },
    {
     "name": "stderr",
     "output_type": "stream",
     "text": [
      "Training Epoch 1962: 100%|██████████| 258/258 [00:02<00:00, 101.79it/s]\n",
      "Training Epoch 1963: 100%|██████████| 258/258 [00:02<00:00, 101.60it/s]\n",
      "Training Epoch 1964: 100%|██████████| 258/258 [00:02<00:00, 104.79it/s]\n",
      "Training Epoch 1965: 100%|██████████| 258/258 [00:02<00:00, 100.98it/s]\n",
      "Training Epoch 1966: 100%|██████████| 258/258 [00:02<00:00, 103.82it/s]\n",
      "Training Epoch 1967: 100%|██████████| 258/258 [00:02<00:00, 104.12it/s]\n",
      "Training Epoch 1968: 100%|██████████| 258/258 [00:02<00:00, 103.26it/s]\n",
      "Training Epoch 1969: 100%|██████████| 258/258 [00:02<00:00, 103.87it/s]\n",
      "Training Epoch 1970: 100%|██████████| 258/258 [00:02<00:00, 96.52it/s] \n",
      "Training Epoch 1971: 100%|██████████| 258/258 [00:02<00:00, 98.79it/s] \n"
     ]
    },
    {
     "name": "stdout",
     "output_type": "stream",
     "text": [
      "Epoch 1970 - Train Loss: 0.1285, Train MSE: 0.1286, Train MAE: 0.2631\n",
      "Epoch 1970 - Validation Loss: 1.9969, Validation MSE: 1.9880, Validation MAE: 1.0564\n"
     ]
    },
    {
     "name": "stderr",
     "output_type": "stream",
     "text": [
      "Training Epoch 1972: 100%|██████████| 258/258 [00:02<00:00, 101.68it/s]\n",
      "Training Epoch 1973: 100%|██████████| 258/258 [00:02<00:00, 101.39it/s]\n",
      "Training Epoch 1974: 100%|██████████| 258/258 [00:02<00:00, 101.86it/s]\n",
      "Training Epoch 1975: 100%|██████████| 258/258 [00:02<00:00, 98.74it/s] \n",
      "Training Epoch 1976: 100%|██████████| 258/258 [00:02<00:00, 102.99it/s]\n",
      "Training Epoch 1977: 100%|██████████| 258/258 [00:02<00:00, 99.25it/s] \n",
      "Training Epoch 1978: 100%|██████████| 258/258 [00:02<00:00, 103.39it/s]\n",
      "Training Epoch 1979: 100%|██████████| 258/258 [00:02<00:00, 108.26it/s]\n",
      "Training Epoch 1980: 100%|██████████| 258/258 [00:02<00:00, 104.46it/s]\n",
      "Training Epoch 1981: 100%|██████████| 258/258 [00:02<00:00, 105.75it/s]\n"
     ]
    },
    {
     "name": "stdout",
     "output_type": "stream",
     "text": [
      "Epoch 1980 - Train Loss: 0.1207, Train MSE: 0.1209, Train MAE: 0.2580\n",
      "Epoch 1980 - Validation Loss: 2.0537, Validation MSE: 2.0368, Validation MAE: 1.0642\n"
     ]
    },
    {
     "name": "stderr",
     "output_type": "stream",
     "text": [
      "Training Epoch 1982: 100%|██████████| 258/258 [00:02<00:00, 103.83it/s]\n",
      "Training Epoch 1983: 100%|██████████| 258/258 [00:02<00:00, 102.54it/s]\n",
      "Training Epoch 1984: 100%|██████████| 258/258 [00:02<00:00, 106.07it/s]\n",
      "Training Epoch 1985: 100%|██████████| 258/258 [00:02<00:00, 104.98it/s]\n",
      "Training Epoch 1986: 100%|██████████| 258/258 [00:02<00:00, 103.02it/s]\n",
      "Training Epoch 1987: 100%|██████████| 258/258 [00:02<00:00, 105.29it/s]\n",
      "Training Epoch 1988: 100%|██████████| 258/258 [00:02<00:00, 99.53it/s] \n",
      "Training Epoch 1989: 100%|██████████| 258/258 [00:02<00:00, 102.59it/s]\n",
      "Training Epoch 1990: 100%|██████████| 258/258 [00:02<00:00, 104.07it/s]\n",
      "Training Epoch 1991: 100%|██████████| 258/258 [00:02<00:00, 103.53it/s]\n"
     ]
    },
    {
     "name": "stdout",
     "output_type": "stream",
     "text": [
      "Epoch 1990 - Train Loss: 0.1263, Train MSE: 0.1262, Train MAE: 0.2614\n",
      "Epoch 1990 - Validation Loss: 2.0408, Validation MSE: 2.0260, Validation MAE: 1.0692\n"
     ]
    },
    {
     "name": "stderr",
     "output_type": "stream",
     "text": [
      "Training Epoch 1992: 100%|██████████| 258/258 [00:02<00:00, 106.90it/s]\n",
      "Training Epoch 1993: 100%|██████████| 258/258 [00:02<00:00, 94.26it/s] \n",
      "Training Epoch 1994: 100%|██████████| 258/258 [00:02<00:00, 105.71it/s]\n",
      "Training Epoch 1995: 100%|██████████| 258/258 [00:02<00:00, 101.29it/s]\n",
      "Training Epoch 1996: 100%|██████████| 258/258 [00:02<00:00, 104.58it/s]\n",
      "Training Epoch 1997: 100%|██████████| 258/258 [00:02<00:00, 101.85it/s]\n",
      "Training Epoch 1998: 100%|██████████| 258/258 [00:02<00:00, 103.82it/s]\n",
      "Training Epoch 1999: 100%|██████████| 258/258 [00:02<00:00, 102.60it/s]\n",
      "Training Epoch 2000: 100%|██████████| 258/258 [00:02<00:00, 104.54it/s]\n"
     ]
    },
    {
     "name": "stdout",
     "output_type": "stream",
     "text": [
      "Test MSE: 1.7285, Test MAE: 0.9898\n"
     ]
    }
   ],
   "source": [
    "train_history_2 = pd.DataFrame(columns=[  'epoch',\n",
    "    'Train Loss', 'Train MSE', 'Train MAE', 'Train RMSE', 'Train R2', 'Train Pearson', 'Train Median_AE', 'Train Explained_VAR'\n",
    "    'Val Loss', 'Val MSE', 'Val MAE', 'Val RMSE', 'Val R2', 'Val Pearson', 'Val Median_AE', 'Val Explained_VAR'])\n",
    "# Verify feature dimensions\n",
    "for batch in train_loader_mols:\n",
    "    mol_input_dim = batch['metabolite_features'].shape[1]  # Dynamically determine mol input dimension\n",
    "    protein_input_dim = batch['protein_features'].shape[1]  # Dynamically determine protein input dimension\n",
    "    break\n",
    "\n",
    "# Initialize model, optimizer, and loss function\n",
    "num_timesteps = 10\n",
    "model_2 = DiffusionGenerativeModel(mol_input_dim=mol_input_dim, protein_input_dim=protein_input_dim, hidden_dim=512, num_timesteps=num_timesteps)\n",
    "model_2 = model_2.to(device)\n",
    "optimizer_2 = optim.Adam(model_2.parameters(), lr=0.0001)\n",
    "criterion = nn.MSELoss()\n",
    "\n",
    "# Training and Validation Loop\n",
    "for epoch in range(2000):\n",
    "    model_2.train()\n",
    "    total_loss = 0.0\n",
    "    val_total_loss = 0.0\n",
    "    train_predictions, train_labels = [], []\n",
    "\n",
    "    for batch in tqdm(train_loader_mols, desc=f\"Training Epoch {epoch + 1}\"):\n",
    "        mol_features = batch['metabolite_features'].to(device)\n",
    "        protein_features = batch['protein_features'].to(device)\n",
    "        labels = batch['label'].to(device)\n",
    "\n",
    "        # Add noise to the features\n",
    "        noisy_mol_features = model_2.add_noise(mol_features, noise_level=0.1)\n",
    "        noisy_protein_features = model_2.add_noise(protein_features, noise_level=0.1)\n",
    "\n",
    "        optimizer_2.zero_grad()\n",
    "        outputs = model_2(noisy_mol_features, noisy_protein_features, torch.randint(0, num_timesteps, (mol_features.size(0),)).to(device)).squeeze()\n",
    "        loss = criterion(outputs, labels)\n",
    "        loss.backward()\n",
    "        optimizer_2.step()\n",
    "        total_loss += loss.item()\n",
    "\n",
    "        # Store predictions and labels for metrics\n",
    "        outputs = outputs.view(-1)\n",
    "        labels = labels.view(-1)\n",
    "        train_predictions.extend(outputs.detach().cpu().numpy())\n",
    "        train_labels.extend(labels.cpu().numpy())\n",
    "\n",
    "    # Calculate training metrics\n",
    "    train_mse = ((torch.tensor(train_predictions) - torch.tensor(train_labels))**2).mean().item()\n",
    "    train_mae = torch.abs(torch.tensor(train_predictions) - torch.tensor(train_labels)).mean().item()\n",
    "    train_rmse = torch.sqrt((torch.tensor(train_predictions) - torch.tensor(train_labels)) ** 2).mean().item()\n",
    "    train_r2 = r2_score(np.array(train_labels), np.array(train_predictions))\n",
    "    train_pearson_corr, _ = pearsonr(np.array(train_labels), np.array(train_predictions))\n",
    "    train_median_ae = median_absolute_error(np.array(train_labels), np.array(train_predictions))\n",
    "    train_explained_var = explained_variance_score(np.array(train_labels), np.array(train_predictions))\n",
    "\n",
    "\n",
    "\n",
    "    if epoch % 10 == 0:\n",
    "        print(f\"Epoch {epoch} - Train Loss: {total_loss / len(train_loader_mols):.4f}, Train MSE: {train_mse:.4f}, Train MAE: {train_mae:.4f}\")\n",
    "\n",
    "    # Validation\n",
    "    model_2.eval()\n",
    "    val_predictions, val_labels = [], []\n",
    "    with torch.no_grad():\n",
    "        for batch in val_loader_mols:\n",
    "            mol_features = batch['metabolite_features'].to(device)\n",
    "            protein_features = batch['protein_features'].to(device)\n",
    "            labels = batch['label'].to(device)\n",
    "\n",
    "            # Add noise to the features\n",
    "            noisy_mol_features = model_2.add_noise(mol_features, noise_level=0.1)\n",
    "            noisy_protein_features = model_2.add_noise(protein_features, noise_level=0.1)\n",
    "\n",
    "            outputs = model_2(noisy_mol_features, noisy_protein_features, torch.randint(0, num_timesteps, (mol_features.size(0),)).to(device)).squeeze()\n",
    "            val_predictions.extend(outputs.cpu().numpy())\n",
    "            val_labels.extend(labels.cpu().numpy())\n",
    "            val_loss = criterion(outputs, labels)\n",
    "            val_total_loss += val_loss.item()\n",
    "\n",
    "    val_mse = ((torch.tensor(val_predictions) - torch.tensor(val_labels))**2).mean().item()\n",
    "    val_mae = torch.abs(torch.tensor(val_predictions) - torch.tensor(val_labels)).mean().item()\n",
    "    val_rmse = torch.sqrt((torch.tensor(val_predictions) - torch.tensor(val_labels)) ** 2).mean().item()\n",
    "    val_r2 = r2_score(np.array(val_labels), np.array(val_predictions))\n",
    "    val_pearson_corr, _ = pearsonr(np.array(val_labels), np.array(val_predictions))\n",
    "    val_median_ae = median_absolute_error(np.array(val_labels), np.array(val_predictions))\n",
    "    val_explained_var = explained_variance_score(np.array(val_labels), np.array(val_predictions))\n",
    "\n",
    "    if epoch % 10 == 0:\n",
    "        print(f\"Epoch {epoch} - Validation Loss: {val_total_loss / len(val_loader_mols):.4f}, Validation MSE: {val_mse:.4f}, Validation MAE: {val_mae:.4f}\")\n",
    "\n",
    "    # Save metrics to DataFrame\n",
    "    new_row = {'epoch': epoch + 1, 'Train Loss': total_loss / len(train_loader_mols), 'Train MSE': train_mse, 'Train MAE': train_mae, 'Train RMSE': train_rmse, 'Train R2': train_r2, 'Train Pearson': train_pearson_corr, 'Train Median_AE': train_median_ae, 'Train Explained_VAR': train_explained_var, \n",
    "               'Val Loss': val_total_loss / len(val_loader_mols), 'Val MSE': val_mse, 'Val MAE': val_mae, 'Val RMSE': val_rmse, 'Val R2': val_r2, 'Val Pearson': val_pearson_corr, 'Val Median_AE': val_median_ae, 'Val Explained_VAR': val_explained_var}\n",
    "    train_history_2 = pd.concat([train_history_2, pd.DataFrame([new_row])], ignore_index=True)\n",
    "\n",
    "\n"
   ]
  },
  {
   "cell_type": "code",
   "execution_count": 16,
   "metadata": {},
   "outputs": [],
   "source": [
    "for batch in train_loader_mols:\n",
    "    mol_input_dim = batch['metabolite_features'].shape[1]  # Dynamically determine mol input dimension\n",
    "    protein_input_dim = batch['protein_features'].shape[1]  # Dynamically determine protein input dimension\n",
    "    break\n",
    "# First, reinitialize the model with the same architecture\n",
    "model = DiffusionGenerativeModel(mol_input_dim=mol_input_dim, protein_input_dim=protein_input_dim,hidden_dim=512, num_timesteps=10)\n",
    "\n",
    "# Load the saved model weights\n",
    "model.load_state_dict(torch.load('/Users/pinchichen/2025S lab/AI drug project/Catpred/Ki/trained_model/cold_mols/Diffusion model_Catpred_Ki_cold_mols.pt'))\n",
    "\n",
    "# Move to device if using GPU\n",
    "model = model.to(device)\n"
   ]
  },
  {
   "cell_type": "code",
   "execution_count": 18,
   "metadata": {},
   "outputs": [
    {
     "name": "stdout",
     "output_type": "stream",
     "text": [
      "Test MSE: 1.7370, Test MAE: 0.9917\n"
     ]
    }
   ],
   "source": [
    "# Test Metrics\n",
    "model.eval()\n",
    "test_predictions, test_labels = [], []\n",
    "with torch.no_grad():\n",
    "    for batch in test_loader_mols:\n",
    "        mol_features = batch['metabolite_features'].to(device)\n",
    "        protein_features = batch['protein_features'].to(device)\n",
    "        labels = batch['label'].to(device)\n",
    "\n",
    "        # Add noise to the features\n",
    "        noisy_mol_features = model.add_noise(mol_features, noise_level=0.1)\n",
    "        noisy_protein_features = model.add_noise(protein_features, noise_level=0.1)\n",
    "\n",
    "        outputs = model(noisy_mol_features, noisy_protein_features, torch.randint(0, 10, (mol_features.size(0),)).to(device)).squeeze()\n",
    "        test_predictions.extend(outputs.cpu().numpy())\n",
    "        test_labels.extend(labels.cpu().numpy())\n",
    "\n",
    "test_mse = ((torch.tensor(test_predictions) - torch.tensor(test_labels))**2).mean().item()\n",
    "test_mae = torch.abs(torch.tensor(test_predictions) - torch.tensor(test_labels)).mean().item()\n",
    "test_rmse = torch.sqrt((torch.tensor(test_predictions) - torch.tensor(test_labels)) ** 2).mean().item()\n",
    "test_r2 = r2_score(np.array(test_labels), np.array(test_predictions))\n",
    "test_pearson_corr, _ = pearsonr(np.array(test_labels), np.array(test_predictions))\n",
    "test_median_ae = median_absolute_error(np.array(test_labels), np.array(test_predictions))\n",
    "test_explained_var = explained_variance_score(np.array(test_labels), np.array(test_predictions))\n",
    "\n",
    "print(f\"Test MSE: {test_mse:.4f}, Test MAE: {test_mae:.4f}\")"
   ]
  },
  {
   "cell_type": "code",
   "execution_count": 19,
   "metadata": {},
   "outputs": [],
   "source": [
    "model.eval()\n",
    "train_pred, train_labels = [], []\n",
    "with torch.no_grad():\n",
    "    for batch in train_loader_mols:\n",
    "        mol_features = batch['metabolite_features'].to(device)\n",
    "        protein_features = batch['protein_features'].to(device)\n",
    "        labels = batch['label'].to(device)\n",
    "\n",
    "        noisy_mol_features = model.add_noise(mol_features, noise_level=0.1)\n",
    "        noisy_protein_features = model.add_noise(protein_features, noise_level=0.1)\n",
    "\n",
    "        outputs = model(noisy_mol_features, noisy_protein_features, torch.randint(0, 10, (mol_features.size(0),)).to(device)).squeeze()\n",
    "        train_pred.extend(outputs.cpu().numpy())\n",
    "        train_labels.extend(labels.cpu().numpy())\n",
    "\n",
    "train_mse, train_rmse, train_mae, train_r2, train_pearson_corr, train_median_ae, train_explained_var = evaluate_model(train_pred, train_labels)"
   ]
  },
  {
   "cell_type": "code",
   "execution_count": 20,
   "metadata": {},
   "outputs": [],
   "source": [
    "model.eval()\n",
    "val_pred, val_labels = [], []\n",
    "with torch.no_grad():\n",
    "    for batch in val_loader_mols:\n",
    "        mol_features = batch['metabolite_features'].to(device)\n",
    "        protein_features = batch['protein_features'].to(device)\n",
    "        labels = batch['label'].to(device)\n",
    "\n",
    "        noisy_mol_features = model.add_noise(mol_features, noise_level=0.1)\n",
    "        noisy_protein_features = model.add_noise(protein_features, noise_level=0.1)\n",
    "\n",
    "        outputs = model(noisy_mol_features, noisy_protein_features, torch.randint(0, 10, (mol_features.size(0),)).to(device)).squeeze()\n",
    "        val_pred.extend(outputs.cpu().numpy())\n",
    "        val_labels.extend(labels.cpu().numpy())\n",
    "\n",
    "val_mse, val_rmse, val_mae, val_r2, val_pearson_corr, val_median_ae, val_explained_var = evaluate_model(val_pred, val_labels)\n"
   ]
  },
  {
   "cell_type": "code",
   "execution_count": 21,
   "metadata": {},
   "outputs": [],
   "source": [
    "# append the performance to the csv file\n",
    "df = {\n",
    "    'Model':['Diffusion Model','Diffusion Model','Diffusion Model'],\n",
    "    'Dataset':['Train','Validation','Test'],\n",
    "    'MSE':[train_mse,val_mse,test_mse],\n",
    "    'RMSE':[train_rmse,val_rmse,test_rmse],\n",
    "    'MAE':[train_mae,val_mae,test_mae],\n",
    "    'R2':[train_r2,val_r2,test_r2],\n",
    "    'Pearson':[train_pearson_corr,val_pearson_corr,test_pearson_corr],\n",
    "    'Median_AE':[train_median_ae,val_median_ae,test_median_ae],\n",
    "    'Explained_VAR':[train_explained_var,val_explained_var,test_explained_var],\n",
    "    'Dataspliting Mode':['cold mols','cold mols','cold mols']\n",
    "}\n",
    "df = pd.DataFrame(df)\n",
    "\n",
    "df.to_csv('/Users/pinchichen/2025S lab/AI drug project/Catpred/Ki/model performance metrics_Catpred_Ki.csv', mode='a', header=False)"
   ]
  },
  {
   "cell_type": "code",
   "execution_count": 15,
   "metadata": {},
   "outputs": [],
   "source": [
    "# Save the model and training history\n",
    "save_dir = '/Users/pinchichen/2025S lab/AI drug project/Catpred/Ki/trained_model/cold_mols'\n",
    "# save model weights and optimizer state\n",
    "torch.save(model_2.state_dict(), os.path.join(save_dir, 'Diffusion model_Catpred_Ki_cold_mols.pt'))\n",
    "torch.save(optimizer_2.state_dict(), os.path.join(save_dir, 'Diffusion optimizer_Catpred_Ki_cold_mols.pt'))"
   ]
  },
  {
   "cell_type": "code",
   "execution_count": 16,
   "metadata": {},
   "outputs": [
    {
     "data": {
      "text/html": [
       "<div>\n",
       "<style scoped>\n",
       "    .dataframe tbody tr th:only-of-type {\n",
       "        vertical-align: middle;\n",
       "    }\n",
       "\n",
       "    .dataframe tbody tr th {\n",
       "        vertical-align: top;\n",
       "    }\n",
       "\n",
       "    .dataframe thead th {\n",
       "        text-align: right;\n",
       "    }\n",
       "</style>\n",
       "<table border=\"1\" class=\"dataframe\">\n",
       "  <thead>\n",
       "    <tr style=\"text-align: right;\">\n",
       "      <th></th>\n",
       "      <th>epoch</th>\n",
       "      <th>Train Loss</th>\n",
       "      <th>Train MSE</th>\n",
       "      <th>Train MAE</th>\n",
       "      <th>Train RMSE</th>\n",
       "      <th>Train R2</th>\n",
       "      <th>Train Pearson</th>\n",
       "      <th>Train Median_AE</th>\n",
       "      <th>Train Explained_VARVal Loss</th>\n",
       "      <th>Val MSE</th>\n",
       "      <th>Val MAE</th>\n",
       "      <th>Val RMSE</th>\n",
       "      <th>Val R2</th>\n",
       "      <th>Val Pearson</th>\n",
       "      <th>Val Median_AE</th>\n",
       "      <th>Val Explained_VAR</th>\n",
       "      <th>Train Explained_VAR</th>\n",
       "      <th>Val Loss</th>\n",
       "    </tr>\n",
       "  </thead>\n",
       "  <tbody>\n",
       "    <tr>\n",
       "      <th>1995</th>\n",
       "      <td>1996</td>\n",
       "      <td>0.125243</td>\n",
       "      <td>0.125098</td>\n",
       "      <td>0.261663</td>\n",
       "      <td>0.261663</td>\n",
       "      <td>0.967849</td>\n",
       "      <td>0.983794</td>\n",
       "      <td>0.202357</td>\n",
       "      <td>NaN</td>\n",
       "      <td>1.987089</td>\n",
       "      <td>1.057926</td>\n",
       "      <td>1.057926</td>\n",
       "      <td>0.511478</td>\n",
       "      <td>0.717888</td>\n",
       "      <td>0.796005</td>\n",
       "      <td>0.512533</td>\n",
       "      <td>0.967850</td>\n",
       "      <td>1.994539</td>\n",
       "    </tr>\n",
       "    <tr>\n",
       "      <th>1996</th>\n",
       "      <td>1997</td>\n",
       "      <td>0.124230</td>\n",
       "      <td>0.124463</td>\n",
       "      <td>0.260497</td>\n",
       "      <td>0.260497</td>\n",
       "      <td>0.968013</td>\n",
       "      <td>0.983877</td>\n",
       "      <td>0.199613</td>\n",
       "      <td>NaN</td>\n",
       "      <td>2.053056</td>\n",
       "      <td>1.074522</td>\n",
       "      <td>1.074522</td>\n",
       "      <td>0.495260</td>\n",
       "      <td>0.705659</td>\n",
       "      <td>0.818832</td>\n",
       "      <td>0.495527</td>\n",
       "      <td>0.968013</td>\n",
       "      <td>2.070398</td>\n",
       "    </tr>\n",
       "    <tr>\n",
       "      <th>1997</th>\n",
       "      <td>1998</td>\n",
       "      <td>0.128506</td>\n",
       "      <td>0.128592</td>\n",
       "      <td>0.264717</td>\n",
       "      <td>0.264717</td>\n",
       "      <td>0.966952</td>\n",
       "      <td>0.983338</td>\n",
       "      <td>0.205428</td>\n",
       "      <td>NaN</td>\n",
       "      <td>2.023929</td>\n",
       "      <td>1.067557</td>\n",
       "      <td>1.067557</td>\n",
       "      <td>0.502421</td>\n",
       "      <td>0.711237</td>\n",
       "      <td>0.797254</td>\n",
       "      <td>0.503059</td>\n",
       "      <td>0.966953</td>\n",
       "      <td>2.037284</td>\n",
       "    </tr>\n",
       "    <tr>\n",
       "      <th>1998</th>\n",
       "      <td>1999</td>\n",
       "      <td>0.124456</td>\n",
       "      <td>0.124649</td>\n",
       "      <td>0.261140</td>\n",
       "      <td>0.261140</td>\n",
       "      <td>0.967965</td>\n",
       "      <td>0.983854</td>\n",
       "      <td>0.203840</td>\n",
       "      <td>NaN</td>\n",
       "      <td>2.003866</td>\n",
       "      <td>1.065941</td>\n",
       "      <td>1.065941</td>\n",
       "      <td>0.507354</td>\n",
       "      <td>0.714746</td>\n",
       "      <td>0.812684</td>\n",
       "      <td>0.507771</td>\n",
       "      <td>0.967966</td>\n",
       "      <td>2.019694</td>\n",
       "    </tr>\n",
       "    <tr>\n",
       "      <th>1999</th>\n",
       "      <td>2000</td>\n",
       "      <td>0.125828</td>\n",
       "      <td>0.125446</td>\n",
       "      <td>0.259445</td>\n",
       "      <td>0.259445</td>\n",
       "      <td>0.967760</td>\n",
       "      <td>0.983748</td>\n",
       "      <td>0.199121</td>\n",
       "      <td>NaN</td>\n",
       "      <td>1.981236</td>\n",
       "      <td>1.058233</td>\n",
       "      <td>1.058233</td>\n",
       "      <td>0.512917</td>\n",
       "      <td>0.718349</td>\n",
       "      <td>0.800431</td>\n",
       "      <td>0.514090</td>\n",
       "      <td>0.967760</td>\n",
       "      <td>1.990538</td>\n",
       "    </tr>\n",
       "  </tbody>\n",
       "</table>\n",
       "</div>"
      ],
      "text/plain": [
       "     epoch  Train Loss  Train MSE  Train MAE  Train RMSE  Train R2  \\\n",
       "1995  1996    0.125243   0.125098   0.261663    0.261663  0.967849   \n",
       "1996  1997    0.124230   0.124463   0.260497    0.260497  0.968013   \n",
       "1997  1998    0.128506   0.128592   0.264717    0.264717  0.966952   \n",
       "1998  1999    0.124456   0.124649   0.261140    0.261140  0.967965   \n",
       "1999  2000    0.125828   0.125446   0.259445    0.259445  0.967760   \n",
       "\n",
       "      Train Pearson  Train Median_AE Train Explained_VARVal Loss   Val MSE  \\\n",
       "1995       0.983794         0.202357                         NaN  1.987089   \n",
       "1996       0.983877         0.199613                         NaN  2.053056   \n",
       "1997       0.983338         0.205428                         NaN  2.023929   \n",
       "1998       0.983854         0.203840                         NaN  2.003866   \n",
       "1999       0.983748         0.199121                         NaN  1.981236   \n",
       "\n",
       "       Val MAE  Val RMSE    Val R2  Val Pearson  Val Median_AE  \\\n",
       "1995  1.057926  1.057926  0.511478     0.717888       0.796005   \n",
       "1996  1.074522  1.074522  0.495260     0.705659       0.818832   \n",
       "1997  1.067557  1.067557  0.502421     0.711237       0.797254   \n",
       "1998  1.065941  1.065941  0.507354     0.714746       0.812684   \n",
       "1999  1.058233  1.058233  0.512917     0.718349       0.800431   \n",
       "\n",
       "      Val Explained_VAR  Train Explained_VAR  Val Loss  \n",
       "1995           0.512533             0.967850  1.994539  \n",
       "1996           0.495527             0.968013  2.070398  \n",
       "1997           0.503059             0.966953  2.037284  \n",
       "1998           0.507771             0.967966  2.019694  \n",
       "1999           0.514090             0.967760  1.990538  "
      ]
     },
     "execution_count": 16,
     "metadata": {},
     "output_type": "execute_result"
    }
   ],
   "source": [
    "train_history_2.tail()"
   ]
  },
  {
   "cell_type": "code",
   "execution_count": null,
   "metadata": {},
   "outputs": [],
   "source": []
  }
 ],
 "metadata": {
  "kernelspec": {
   "display_name": "base",
   "language": "python",
   "name": "python3"
  },
  "language_info": {
   "codemirror_mode": {
    "name": "ipython",
    "version": 3
   },
   "file_extension": ".py",
   "mimetype": "text/x-python",
   "name": "python",
   "nbconvert_exporter": "python",
   "pygments_lexer": "ipython3",
   "version": "3.12.2"
  }
 },
 "nbformat": 4,
 "nbformat_minor": 2
}
