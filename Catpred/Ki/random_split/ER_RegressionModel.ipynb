{
 "cells": [
  {
   "cell_type": "code",
   "execution_count": 1,
   "metadata": {},
   "outputs": [],
   "source": [
    "import pandas as pd\n",
    "import numpy as np\n",
    "from tqdm import tqdm\n",
    "import torch\n",
    "import torch.nn as nn\n",
    "import torch.optim as optim\n",
    "from torch.utils.data import DataLoader, Dataset\n",
    "from sklearn.metrics import roc_auc_score\n",
    "from sklearn.model_selection import train_test_split\n",
    "import os\n"
   ]
  },
  {
   "cell_type": "code",
   "execution_count": 2,
   "metadata": {},
   "outputs": [
    {
     "data": {
      "text/html": [
       "<div>\n",
       "<style scoped>\n",
       "    .dataframe tbody tr th:only-of-type {\n",
       "        vertical-align: middle;\n",
       "    }\n",
       "\n",
       "    .dataframe tbody tr th {\n",
       "        vertical-align: top;\n",
       "    }\n",
       "\n",
       "    .dataframe thead th {\n",
       "        text-align: right;\n",
       "    }\n",
       "</style>\n",
       "<table border=\"1\" class=\"dataframe\">\n",
       "  <thead>\n",
       "    <tr style=\"text-align: right;\">\n",
       "      <th></th>\n",
       "      <th>Sequence</th>\n",
       "      <th>sequence_source</th>\n",
       "      <th>uniprot</th>\n",
       "      <th>Smiles</th>\n",
       "      <th>value</th>\n",
       "      <th>ec</th>\n",
       "      <th>log10_value</th>\n",
       "      <th>log10ki_mean</th>\n",
       "      <th>metabolite_features</th>\n",
       "      <th>protein_features</th>\n",
       "    </tr>\n",
       "  </thead>\n",
       "  <tbody>\n",
       "    <tr>\n",
       "      <th>0</th>\n",
       "      <td>MHTKGPTPQQHDGSALRIGIVHARWNETIIEPLLAGTKAKLLACGV...</td>\n",
       "      <td>uniprot_search</td>\n",
       "      <td>A0A6P8BCR9</td>\n",
       "      <td>O=c1n(C[C@H](O)[C@H](O)[C@H](O)CO)c2nc(O)nc(O)...</td>\n",
       "      <td>0.000002</td>\n",
       "      <td>2.5.1.78</td>\n",
       "      <td>-5.698970</td>\n",
       "      <td>-5.698970</td>\n",
       "      <td>[0.17249086, -0.23665705, -0.11737049, -0.0940...</td>\n",
       "      <td>[0.026722027, -0.06119407, 0.041440543, -0.109...</td>\n",
       "    </tr>\n",
       "    <tr>\n",
       "      <th>1</th>\n",
       "      <td>MASPDWGYDDKNGPEQWSKLYPIANGNNQSPVDIKTSETKHDTSLK...</td>\n",
       "      <td>brenda</td>\n",
       "      <td>P00915</td>\n",
       "      <td>CN1CCN(C(=O)c2ccc(S(N)(=O)=O)cc2)[C@@H](Cc2ccc...</td>\n",
       "      <td>0.000707</td>\n",
       "      <td>4.2.1.1</td>\n",
       "      <td>-3.150581</td>\n",
       "      <td>-3.150581</td>\n",
       "      <td>[0.4240491, 0.28231123, 0.2642891, -0.7667821,...</td>\n",
       "      <td>[-0.029181704, -0.12635791, 0.10866662, 0.0339...</td>\n",
       "    </tr>\n",
       "    <tr>\n",
       "      <th>2</th>\n",
       "      <td>MLDDIRGFMNTFSETMFMDVINYSLTRDRYDSVFLQRQNYRDLGQL...</td>\n",
       "      <td>brenda</td>\n",
       "      <td>Q9HLD0</td>\n",
       "      <td>C[C@H]1O[C@H](O[C@H]2[C@H](O)[C@@H](O)[C@@H](O...</td>\n",
       "      <td>0.002990</td>\n",
       "      <td>3.2.1.20</td>\n",
       "      <td>-2.524329</td>\n",
       "      <td>-2.524329</td>\n",
       "      <td>[0.50005734, 0.3923428, 0.064121775, -0.635894...</td>\n",
       "      <td>[0.02874529, -0.17312695, -0.0026887748, 0.035...</td>\n",
       "    </tr>\n",
       "    <tr>\n",
       "      <th>3</th>\n",
       "      <td>MKLMENIFDLAKANKKKIVLAEGEEERNIRASEEIIKDGIADIILV...</td>\n",
       "      <td>uniprot_search</td>\n",
       "      <td>A0A1L5F6Z9</td>\n",
       "      <td>CCN=C(O)CCN=C(O)[C@H](O)C(C)(C)COP(=O)(O)OP(=O...</td>\n",
       "      <td>0.020000</td>\n",
       "      <td>2.3.1.8</td>\n",
       "      <td>-1.698970</td>\n",
       "      <td>-1.698970</td>\n",
       "      <td>[0.28353548, 0.018489605, -0.5459905, -0.34693...</td>\n",
       "      <td>[-0.06555556, 0.04763434, 0.031432115, 0.17143...</td>\n",
       "    </tr>\n",
       "    <tr>\n",
       "      <th>4</th>\n",
       "      <td>MAKRIVEPFRIKMVEKIRVPSREEREAALKEAGYNPFLLPSSAVYI...</td>\n",
       "      <td>sabio</td>\n",
       "      <td>P28796</td>\n",
       "      <td>CC(N)C(=O)O</td>\n",
       "      <td>24.500000</td>\n",
       "      <td>4.1.99.1</td>\n",
       "      <td>1.389166</td>\n",
       "      <td>1.419631</td>\n",
       "      <td>[0.051456872, 0.35619217, 0.10593035, -1.04098...</td>\n",
       "      <td>[0.049294557, -0.043596543, 0.0546125, 0.35600...</td>\n",
       "    </tr>\n",
       "  </tbody>\n",
       "</table>\n",
       "</div>"
      ],
      "text/plain": [
       "                                            Sequence sequence_source  \\\n",
       "0  MHTKGPTPQQHDGSALRIGIVHARWNETIIEPLLAGTKAKLLACGV...  uniprot_search   \n",
       "1  MASPDWGYDDKNGPEQWSKLYPIANGNNQSPVDIKTSETKHDTSLK...          brenda   \n",
       "2  MLDDIRGFMNTFSETMFMDVINYSLTRDRYDSVFLQRQNYRDLGQL...          brenda   \n",
       "3  MKLMENIFDLAKANKKKIVLAEGEEERNIRASEEIIKDGIADIILV...  uniprot_search   \n",
       "4  MAKRIVEPFRIKMVEKIRVPSREEREAALKEAGYNPFLLPSSAVYI...           sabio   \n",
       "\n",
       "      uniprot                                             Smiles      value  \\\n",
       "0  A0A6P8BCR9  O=c1n(C[C@H](O)[C@H](O)[C@H](O)CO)c2nc(O)nc(O)...   0.000002   \n",
       "1      P00915  CN1CCN(C(=O)c2ccc(S(N)(=O)=O)cc2)[C@@H](Cc2ccc...   0.000707   \n",
       "2      Q9HLD0  C[C@H]1O[C@H](O[C@H]2[C@H](O)[C@@H](O)[C@@H](O...   0.002990   \n",
       "3  A0A1L5F6Z9  CCN=C(O)CCN=C(O)[C@H](O)C(C)(C)COP(=O)(O)OP(=O...   0.020000   \n",
       "4      P28796                                        CC(N)C(=O)O  24.500000   \n",
       "\n",
       "         ec  log10_value  log10ki_mean  \\\n",
       "0  2.5.1.78    -5.698970     -5.698970   \n",
       "1   4.2.1.1    -3.150581     -3.150581   \n",
       "2  3.2.1.20    -2.524329     -2.524329   \n",
       "3   2.3.1.8    -1.698970     -1.698970   \n",
       "4  4.1.99.1     1.389166      1.419631   \n",
       "\n",
       "                                 metabolite_features  \\\n",
       "0  [0.17249086, -0.23665705, -0.11737049, -0.0940...   \n",
       "1  [0.4240491, 0.28231123, 0.2642891, -0.7667821,...   \n",
       "2  [0.50005734, 0.3923428, 0.064121775, -0.635894...   \n",
       "3  [0.28353548, 0.018489605, -0.5459905, -0.34693...   \n",
       "4  [0.051456872, 0.35619217, 0.10593035, -1.04098...   \n",
       "\n",
       "                                    protein_features  \n",
       "0  [0.026722027, -0.06119407, 0.041440543, -0.109...  \n",
       "1  [-0.029181704, -0.12635791, 0.10866662, 0.0339...  \n",
       "2  [0.02874529, -0.17312695, -0.0026887748, 0.035...  \n",
       "3  [-0.06555556, 0.04763434, 0.031432115, 0.17143...  \n",
       "4  [0.049294557, -0.043596543, 0.0546125, 0.35600...  "
      ]
     },
     "execution_count": 2,
     "metadata": {},
     "output_type": "execute_result"
    }
   ],
   "source": [
    "import joblib\n",
    "import pandas as pd\n",
    "\n",
    "data_ki = joblib.load('/Users/pinchichen/2025S lab/AI drug project/Catpred/dataset/ki/ki_with_features.joblib')\n",
    "data_ki.head()"
   ]
  },
  {
   "cell_type": "code",
   "execution_count": 3,
   "metadata": {},
   "outputs": [
    {
     "data": {
      "text/html": [
       "<div>\n",
       "<style scoped>\n",
       "    .dataframe tbody tr th:only-of-type {\n",
       "        vertical-align: middle;\n",
       "    }\n",
       "\n",
       "    .dataframe tbody tr th {\n",
       "        vertical-align: top;\n",
       "    }\n",
       "\n",
       "    .dataframe thead th {\n",
       "        text-align: right;\n",
       "    }\n",
       "</style>\n",
       "<table border=\"1\" class=\"dataframe\">\n",
       "  <thead>\n",
       "    <tr style=\"text-align: right;\">\n",
       "      <th></th>\n",
       "      <th>Sequence</th>\n",
       "      <th>sequence_source</th>\n",
       "      <th>uniprot</th>\n",
       "      <th>Smiles</th>\n",
       "      <th>value</th>\n",
       "      <th>ec</th>\n",
       "      <th>log10_value</th>\n",
       "      <th>label</th>\n",
       "      <th>metabolite_features</th>\n",
       "      <th>protein_features</th>\n",
       "    </tr>\n",
       "  </thead>\n",
       "  <tbody>\n",
       "    <tr>\n",
       "      <th>0</th>\n",
       "      <td>MHTKGPTPQQHDGSALRIGIVHARWNETIIEPLLAGTKAKLLACGV...</td>\n",
       "      <td>uniprot_search</td>\n",
       "      <td>A0A6P8BCR9</td>\n",
       "      <td>O=c1n(C[C@H](O)[C@H](O)[C@H](O)CO)c2nc(O)nc(O)...</td>\n",
       "      <td>0.000002</td>\n",
       "      <td>2.5.1.78</td>\n",
       "      <td>-5.698970</td>\n",
       "      <td>-5.698970</td>\n",
       "      <td>[0.17249086, -0.23665705, -0.11737049, -0.0940...</td>\n",
       "      <td>[0.026722027, -0.06119407, 0.041440543, -0.109...</td>\n",
       "    </tr>\n",
       "    <tr>\n",
       "      <th>1</th>\n",
       "      <td>MASPDWGYDDKNGPEQWSKLYPIANGNNQSPVDIKTSETKHDTSLK...</td>\n",
       "      <td>brenda</td>\n",
       "      <td>P00915</td>\n",
       "      <td>CN1CCN(C(=O)c2ccc(S(N)(=O)=O)cc2)[C@@H](Cc2ccc...</td>\n",
       "      <td>0.000707</td>\n",
       "      <td>4.2.1.1</td>\n",
       "      <td>-3.150581</td>\n",
       "      <td>-3.150581</td>\n",
       "      <td>[0.4240491, 0.28231123, 0.2642891, -0.7667821,...</td>\n",
       "      <td>[-0.029181704, -0.12635791, 0.10866662, 0.0339...</td>\n",
       "    </tr>\n",
       "    <tr>\n",
       "      <th>2</th>\n",
       "      <td>MLDDIRGFMNTFSETMFMDVINYSLTRDRYDSVFLQRQNYRDLGQL...</td>\n",
       "      <td>brenda</td>\n",
       "      <td>Q9HLD0</td>\n",
       "      <td>C[C@H]1O[C@H](O[C@H]2[C@H](O)[C@@H](O)[C@@H](O...</td>\n",
       "      <td>0.002990</td>\n",
       "      <td>3.2.1.20</td>\n",
       "      <td>-2.524329</td>\n",
       "      <td>-2.524329</td>\n",
       "      <td>[0.50005734, 0.3923428, 0.064121775, -0.635894...</td>\n",
       "      <td>[0.02874529, -0.17312695, -0.0026887748, 0.035...</td>\n",
       "    </tr>\n",
       "    <tr>\n",
       "      <th>3</th>\n",
       "      <td>MKLMENIFDLAKANKKKIVLAEGEEERNIRASEEIIKDGIADIILV...</td>\n",
       "      <td>uniprot_search</td>\n",
       "      <td>A0A1L5F6Z9</td>\n",
       "      <td>CCN=C(O)CCN=C(O)[C@H](O)C(C)(C)COP(=O)(O)OP(=O...</td>\n",
       "      <td>0.020000</td>\n",
       "      <td>2.3.1.8</td>\n",
       "      <td>-1.698970</td>\n",
       "      <td>-1.698970</td>\n",
       "      <td>[0.28353548, 0.018489605, -0.5459905, -0.34693...</td>\n",
       "      <td>[-0.06555556, 0.04763434, 0.031432115, 0.17143...</td>\n",
       "    </tr>\n",
       "    <tr>\n",
       "      <th>4</th>\n",
       "      <td>MAKRIVEPFRIKMVEKIRVPSREEREAALKEAGYNPFLLPSSAVYI...</td>\n",
       "      <td>sabio</td>\n",
       "      <td>P28796</td>\n",
       "      <td>CC(N)C(=O)O</td>\n",
       "      <td>24.500000</td>\n",
       "      <td>4.1.99.1</td>\n",
       "      <td>1.389166</td>\n",
       "      <td>1.419631</td>\n",
       "      <td>[0.051456872, 0.35619217, 0.10593035, -1.04098...</td>\n",
       "      <td>[0.049294557, -0.043596543, 0.0546125, 0.35600...</td>\n",
       "    </tr>\n",
       "  </tbody>\n",
       "</table>\n",
       "</div>"
      ],
      "text/plain": [
       "                                            Sequence sequence_source  \\\n",
       "0  MHTKGPTPQQHDGSALRIGIVHARWNETIIEPLLAGTKAKLLACGV...  uniprot_search   \n",
       "1  MASPDWGYDDKNGPEQWSKLYPIANGNNQSPVDIKTSETKHDTSLK...          brenda   \n",
       "2  MLDDIRGFMNTFSETMFMDVINYSLTRDRYDSVFLQRQNYRDLGQL...          brenda   \n",
       "3  MKLMENIFDLAKANKKKIVLAEGEEERNIRASEEIIKDGIADIILV...  uniprot_search   \n",
       "4  MAKRIVEPFRIKMVEKIRVPSREEREAALKEAGYNPFLLPSSAVYI...           sabio   \n",
       "\n",
       "      uniprot                                             Smiles      value  \\\n",
       "0  A0A6P8BCR9  O=c1n(C[C@H](O)[C@H](O)[C@H](O)CO)c2nc(O)nc(O)...   0.000002   \n",
       "1      P00915  CN1CCN(C(=O)c2ccc(S(N)(=O)=O)cc2)[C@@H](Cc2ccc...   0.000707   \n",
       "2      Q9HLD0  C[C@H]1O[C@H](O[C@H]2[C@H](O)[C@@H](O)[C@@H](O...   0.002990   \n",
       "3  A0A1L5F6Z9  CCN=C(O)CCN=C(O)[C@H](O)C(C)(C)COP(=O)(O)OP(=O...   0.020000   \n",
       "4      P28796                                        CC(N)C(=O)O  24.500000   \n",
       "\n",
       "         ec  log10_value     label  \\\n",
       "0  2.5.1.78    -5.698970 -5.698970   \n",
       "1   4.2.1.1    -3.150581 -3.150581   \n",
       "2  3.2.1.20    -2.524329 -2.524329   \n",
       "3   2.3.1.8    -1.698970 -1.698970   \n",
       "4  4.1.99.1     1.389166  1.419631   \n",
       "\n",
       "                                 metabolite_features  \\\n",
       "0  [0.17249086, -0.23665705, -0.11737049, -0.0940...   \n",
       "1  [0.4240491, 0.28231123, 0.2642891, -0.7667821,...   \n",
       "2  [0.50005734, 0.3923428, 0.064121775, -0.635894...   \n",
       "3  [0.28353548, 0.018489605, -0.5459905, -0.34693...   \n",
       "4  [0.051456872, 0.35619217, 0.10593035, -1.04098...   \n",
       "\n",
       "                                    protein_features  \n",
       "0  [0.026722027, -0.06119407, 0.041440543, -0.109...  \n",
       "1  [-0.029181704, -0.12635791, 0.10866662, 0.0339...  \n",
       "2  [0.02874529, -0.17312695, -0.0026887748, 0.035...  \n",
       "3  [-0.06555556, 0.04763434, 0.031432115, 0.17143...  \n",
       "4  [0.049294557, -0.043596543, 0.0546125, 0.35600...  "
      ]
     },
     "execution_count": 3,
     "metadata": {},
     "output_type": "execute_result"
    }
   ],
   "source": [
    "data_ki.rename(columns={'log10ki_mean':'label'},inplace=True)\n",
    "data_ki.head()"
   ]
  },
  {
   "cell_type": "code",
   "execution_count": 4,
   "metadata": {},
   "outputs": [],
   "source": [
    "# Define dataset\n",
    "class MPI_Dataset(Dataset):\n",
    "    def __init__(self, dataframe):\n",
    "        self.dataframe = dataframe\n",
    "\n",
    "    def __len__(self):\n",
    "        return len(self.dataframe)\n",
    "\n",
    "    def __getitem__(self, idx):\n",
    "        row = self.dataframe.iloc[idx]\n",
    "        return {\n",
    "            'metabolite_features': torch.tensor(np.asarray(row['metabolite_features'], dtype=np.float32)),\n",
    "            'protein_features': torch.tensor(np.asarray(row['protein_features'], dtype=np.float32)),\n",
    "            'label': torch.tensor(float(row['label']), dtype=torch.float32),\n",
    "        }"
   ]
  },
  {
   "cell_type": "code",
   "execution_count": 5,
   "metadata": {},
   "outputs": [],
   "source": [
    "# Load data\n",
    "# Assuming `combined_df` is a pandas DataFrame containing all necessary columns\n",
    "train_df, temp_df = train_test_split(data_ki, test_size=0.3, shuffle=True, random_state=42)\n",
    "val_df, test_df = train_test_split(temp_df, test_size=0.5, shuffle=True, random_state=42)\n",
    "\n",
    "train_dataset = MPI_Dataset(train_df)\n",
    "val_dataset = MPI_Dataset(val_df)\n",
    "test_dataset = MPI_Dataset(test_df)\n",
    "\n",
    "train_loader = DataLoader(train_dataset, batch_size=32, shuffle=True)\n",
    "val_loader = DataLoader(val_dataset, batch_size=32)\n",
    "test_loader = DataLoader(test_dataset, batch_size=32)"
   ]
  },
  {
   "cell_type": "code",
   "execution_count": 6,
   "metadata": {},
   "outputs": [],
   "source": [
    "import torch.nn as nn\n",
    "import torch\n",
    "\n",
    "# Define Diffusion Generative Model for Regression\n",
    "class DiffusionGenerativeModel(nn.Module):\n",
    "    def __init__(self, mol_input_dim, protein_input_dim, hidden_dim, num_timesteps):\n",
    "        super(DiffusionGenerativeModel, self).__init__()\n",
    "        self.num_timesteps = num_timesteps\n",
    "        self.mol_encoder = nn.Linear(mol_input_dim, hidden_dim)\n",
    "        self.protein_encoder = nn.Linear(protein_input_dim, hidden_dim)\n",
    "        self.layer_norm = nn.LayerNorm(hidden_dim * 2)\n",
    "        self.dropout = nn.Dropout(0.3)\n",
    "        self.denoise_model = nn.Linear(hidden_dim * 2, hidden_dim)\n",
    "        self.regressor = nn.Linear(hidden_dim, 1)  # Regression layer\n",
    "        self.activation = nn.ReLU()\n",
    "\n",
    "        # Embedding for timesteps\n",
    "        self.timestep_embedding = nn.Embedding(num_timesteps, hidden_dim * 2)\n",
    "\n",
    "    def forward(self, mol_features, protein_features, t):\n",
    "        # Encode mol and protein features\n",
    "        mol_embedding = self.activation(self.mol_encoder(mol_features))\n",
    "        protein_embedding = self.activation(self.protein_encoder(protein_features))\n",
    "\n",
    "        # Concatenate embeddings\n",
    "        combined = torch.cat((mol_embedding, protein_embedding), dim=-1)\n",
    "        combined = self.layer_norm(combined)\n",
    "        combined = self.dropout(combined)\n",
    "\n",
    "        # Add learnable timestep embedding\n",
    "        t_embedding = self.timestep_embedding(t.long())\n",
    "        combined += t_embedding\n",
    "\n",
    "        # Denoise process\n",
    "        denoised = self.activation(self.denoise_model(combined))\n",
    "\n",
    "        # Regression layer\n",
    "        output = self.regressor(denoised)  # Predict continuous values\n",
    "        return output\n",
    "\n",
    "    def add_noise(self, x, noise_level=0.1):\n",
    "        noise = noise_level * torch.randn_like(x)\n",
    "        return x + noise\n"
   ]
  },
  {
   "cell_type": "code",
   "execution_count": 7,
   "metadata": {},
   "outputs": [],
   "source": [
    "# Check CUDA availability\n",
    "device = torch.device(\"cuda\" if torch.cuda.is_available() else \"cpu\")"
   ]
  },
  {
   "cell_type": "code",
   "execution_count": null,
   "metadata": {},
   "outputs": [
    {
     "name": "stderr",
     "output_type": "stream",
     "text": [
      "Training Epoch 1: 100%|██████████| 261/261 [00:01<00:00, 133.30it/s]\n",
      "/var/folders/yz/c1z6m9_d5d3f80sywjc3rqsc0000gn/T/ipykernel_17914/374893312.py:97: FutureWarning: The behavior of DataFrame concatenation with empty or all-NA entries is deprecated. In a future version, this will no longer exclude empty or all-NA columns when determining the result dtypes. To retain the old behavior, exclude the relevant entries before the concat operation.\n",
      "  train_history = pd.concat([train_history, pd.DataFrame([new_row])], ignore_index=True)\n"
     ]
    },
    {
     "name": "stdout",
     "output_type": "stream",
     "text": [
      "Epoch 0 - Train Loss: 2.8376, Train MSE: 2.8378, Train MAE: 1.3324\n",
      "Epoch 0 - Validation Loss: 2.5444, Validation MSE: 2.5454, Validation MAE: 1.2457\n"
     ]
    },
    {
     "name": "stderr",
     "output_type": "stream",
     "text": [
      "Training Epoch 2: 100%|██████████| 261/261 [00:01<00:00, 137.43it/s]\n",
      "Training Epoch 3: 100%|██████████| 261/261 [00:01<00:00, 144.79it/s]\n",
      "Training Epoch 4: 100%|██████████| 261/261 [00:01<00:00, 142.86it/s]\n",
      "Training Epoch 5: 100%|██████████| 261/261 [00:01<00:00, 139.99it/s]\n",
      "Training Epoch 6: 100%|██████████| 261/261 [00:01<00:00, 141.72it/s]\n",
      "Training Epoch 7: 100%|██████████| 261/261 [00:02<00:00, 125.54it/s]\n",
      "Training Epoch 8: 100%|██████████| 261/261 [00:01<00:00, 133.88it/s]\n",
      "Training Epoch 9: 100%|██████████| 261/261 [00:02<00:00, 125.66it/s]\n",
      "Training Epoch 10: 100%|██████████| 261/261 [00:01<00:00, 132.19it/s]\n",
      "Training Epoch 11: 100%|██████████| 261/261 [00:02<00:00, 125.40it/s]\n"
     ]
    },
    {
     "name": "stdout",
     "output_type": "stream",
     "text": [
      "Epoch 10 - Train Loss: 1.9936, Train MSE: 1.9935, Train MAE: 1.1014\n",
      "Epoch 10 - Validation Loss: 2.3666, Validation MSE: 2.3680, Validation MAE: 1.1921\n"
     ]
    },
    {
     "name": "stderr",
     "output_type": "stream",
     "text": [
      "Training Epoch 12: 100%|██████████| 261/261 [00:02<00:00, 123.39it/s]\n",
      "Training Epoch 13: 100%|██████████| 261/261 [00:02<00:00, 127.89it/s]\n",
      "Training Epoch 14: 100%|██████████| 261/261 [00:02<00:00, 108.48it/s]\n",
      "Training Epoch 15: 100%|██████████| 261/261 [00:02<00:00, 103.31it/s]\n",
      "Training Epoch 16: 100%|██████████| 261/261 [00:02<00:00, 102.80it/s]\n",
      "Training Epoch 17: 100%|██████████| 261/261 [00:02<00:00, 115.23it/s]\n",
      "Training Epoch 18: 100%|██████████| 261/261 [00:02<00:00, 119.65it/s]\n",
      "Training Epoch 19: 100%|██████████| 261/261 [00:02<00:00, 113.98it/s]\n",
      "Training Epoch 20: 100%|██████████| 261/261 [00:02<00:00, 114.24it/s]\n",
      "Training Epoch 21: 100%|██████████| 261/261 [00:02<00:00, 117.51it/s]\n"
     ]
    },
    {
     "name": "stdout",
     "output_type": "stream",
     "text": [
      "Epoch 20 - Train Loss: 1.6147, Train MSE: 1.6149, Train MAE: 0.9925\n",
      "Epoch 20 - Validation Loss: 2.0403, Validation MSE: 2.0409, Validation MAE: 1.0968\n"
     ]
    },
    {
     "name": "stderr",
     "output_type": "stream",
     "text": [
      "Training Epoch 22: 100%|██████████| 261/261 [00:02<00:00, 113.07it/s]\n",
      "Training Epoch 23: 100%|██████████| 261/261 [00:02<00:00, 115.58it/s]\n",
      "Training Epoch 24: 100%|██████████| 261/261 [00:02<00:00, 118.82it/s]\n",
      "Training Epoch 25: 100%|██████████| 261/261 [00:02<00:00, 121.44it/s]\n",
      "Training Epoch 26: 100%|██████████| 261/261 [00:02<00:00, 125.92it/s]\n",
      "Training Epoch 27: 100%|██████████| 261/261 [00:02<00:00, 121.67it/s]\n",
      "Training Epoch 28: 100%|██████████| 261/261 [00:02<00:00, 123.36it/s]\n",
      "Training Epoch 29: 100%|██████████| 261/261 [00:02<00:00, 117.76it/s]\n",
      "Training Epoch 30: 100%|██████████| 261/261 [00:02<00:00, 117.63it/s]\n",
      "Training Epoch 31: 100%|██████████| 261/261 [00:02<00:00, 121.65it/s]\n"
     ]
    },
    {
     "name": "stdout",
     "output_type": "stream",
     "text": [
      "Epoch 30 - Train Loss: 1.3939, Train MSE: 1.3938, Train MAE: 0.9129\n",
      "Epoch 30 - Validation Loss: 1.9411, Validation MSE: 1.9415, Validation MAE: 1.0728\n"
     ]
    },
    {
     "name": "stderr",
     "output_type": "stream",
     "text": [
      "Training Epoch 32: 100%|██████████| 261/261 [00:02<00:00, 117.61it/s]\n",
      "Training Epoch 33: 100%|██████████| 261/261 [00:02<00:00, 123.61it/s]\n",
      "Training Epoch 34: 100%|██████████| 261/261 [00:02<00:00, 123.83it/s]\n",
      "Training Epoch 35: 100%|██████████| 261/261 [00:02<00:00, 119.17it/s]\n",
      "Training Epoch 36: 100%|██████████| 261/261 [00:02<00:00, 117.23it/s]\n",
      "Training Epoch 37: 100%|██████████| 261/261 [00:02<00:00, 120.65it/s]\n",
      "Training Epoch 38: 100%|██████████| 261/261 [00:02<00:00, 117.49it/s]\n",
      "Training Epoch 39: 100%|██████████| 261/261 [00:02<00:00, 121.57it/s]\n",
      "Training Epoch 40: 100%|██████████| 261/261 [00:02<00:00, 122.28it/s]\n",
      "Training Epoch 41: 100%|██████████| 261/261 [00:02<00:00, 126.11it/s]\n"
     ]
    },
    {
     "name": "stdout",
     "output_type": "stream",
     "text": [
      "Epoch 40 - Train Loss: 1.2239, Train MSE: 1.2238, Train MAE: 0.8520\n",
      "Epoch 40 - Validation Loss: 1.8650, Validation MSE: 1.8663, Validation MAE: 1.0499\n"
     ]
    },
    {
     "name": "stderr",
     "output_type": "stream",
     "text": [
      "Training Epoch 42: 100%|██████████| 261/261 [00:02<00:00, 125.59it/s]\n",
      "Training Epoch 43: 100%|██████████| 261/261 [00:02<00:00, 117.73it/s]\n",
      "Training Epoch 44: 100%|██████████| 261/261 [00:02<00:00, 117.33it/s]\n",
      "Training Epoch 45: 100%|██████████| 261/261 [00:02<00:00, 98.30it/s] \n",
      "Training Epoch 46: 100%|██████████| 261/261 [00:02<00:00, 113.75it/s]\n",
      "Training Epoch 47: 100%|██████████| 261/261 [00:02<00:00, 118.12it/s]\n",
      "Training Epoch 48: 100%|██████████| 261/261 [00:02<00:00, 119.72it/s]\n",
      "Training Epoch 49: 100%|██████████| 261/261 [00:02<00:00, 117.68it/s]\n",
      "Training Epoch 50: 100%|██████████| 261/261 [00:02<00:00, 121.98it/s]\n",
      "Training Epoch 51: 100%|██████████| 261/261 [00:02<00:00, 121.29it/s]\n"
     ]
    },
    {
     "name": "stdout",
     "output_type": "stream",
     "text": [
      "Epoch 50 - Train Loss: 1.0730, Train MSE: 1.0728, Train MAE: 0.7989\n",
      "Epoch 50 - Validation Loss: 1.8484, Validation MSE: 1.8495, Validation MAE: 1.0348\n"
     ]
    },
    {
     "name": "stderr",
     "output_type": "stream",
     "text": [
      "Training Epoch 52: 100%|██████████| 261/261 [00:02<00:00, 125.10it/s]\n",
      "Training Epoch 53: 100%|██████████| 261/261 [00:02<00:00, 116.17it/s]\n",
      "Training Epoch 54: 100%|██████████| 261/261 [00:02<00:00, 119.52it/s]\n",
      "Training Epoch 55: 100%|██████████| 261/261 [00:02<00:00, 124.38it/s]\n",
      "Training Epoch 56: 100%|██████████| 261/261 [00:02<00:00, 117.57it/s]\n",
      "Training Epoch 57: 100%|██████████| 261/261 [00:02<00:00, 123.13it/s]\n",
      "Training Epoch 58: 100%|██████████| 261/261 [00:02<00:00, 115.10it/s]\n",
      "Training Epoch 59: 100%|██████████| 261/261 [00:02<00:00, 121.32it/s]\n",
      "Training Epoch 60: 100%|██████████| 261/261 [00:02<00:00, 123.83it/s]\n",
      "Training Epoch 61: 100%|██████████| 261/261 [00:02<00:00, 125.06it/s]\n"
     ]
    },
    {
     "name": "stdout",
     "output_type": "stream",
     "text": [
      "Epoch 60 - Train Loss: 0.9712, Train MSE: 0.9712, Train MAE: 0.7616\n",
      "Epoch 60 - Validation Loss: 1.7629, Validation MSE: 1.7635, Validation MAE: 1.0034\n"
     ]
    },
    {
     "name": "stderr",
     "output_type": "stream",
     "text": [
      "Training Epoch 62: 100%|██████████| 261/261 [00:02<00:00, 118.73it/s]\n",
      "Training Epoch 63: 100%|██████████| 261/261 [00:02<00:00, 115.96it/s]\n",
      "Training Epoch 64: 100%|██████████| 261/261 [00:02<00:00, 120.75it/s]\n",
      "Training Epoch 65: 100%|██████████| 261/261 [00:02<00:00, 123.86it/s]\n",
      "Training Epoch 66: 100%|██████████| 261/261 [00:02<00:00, 122.67it/s]\n",
      "Training Epoch 67: 100%|██████████| 261/261 [00:02<00:00, 121.23it/s]\n",
      "Training Epoch 68: 100%|██████████| 261/261 [00:02<00:00, 115.06it/s]\n",
      "Training Epoch 69: 100%|██████████| 261/261 [00:02<00:00, 123.11it/s]\n",
      "Training Epoch 70: 100%|██████████| 261/261 [00:02<00:00, 121.98it/s]\n",
      "Training Epoch 71: 100%|██████████| 261/261 [00:02<00:00, 103.96it/s]\n"
     ]
    },
    {
     "name": "stdout",
     "output_type": "stream",
     "text": [
      "Epoch 70 - Train Loss: 0.8915, Train MSE: 0.8916, Train MAE: 0.7255\n",
      "Epoch 70 - Validation Loss: 1.7394, Validation MSE: 1.7407, Validation MAE: 0.9978\n"
     ]
    },
    {
     "name": "stderr",
     "output_type": "stream",
     "text": [
      "Training Epoch 72: 100%|██████████| 261/261 [00:02<00:00, 117.31it/s]\n",
      "Training Epoch 73: 100%|██████████| 261/261 [00:02<00:00, 122.83it/s]\n",
      "Training Epoch 74: 100%|██████████| 261/261 [00:02<00:00, 121.98it/s]\n",
      "Training Epoch 75: 100%|██████████| 261/261 [00:02<00:00, 119.80it/s]\n",
      "Training Epoch 76: 100%|██████████| 261/261 [00:02<00:00, 120.85it/s]\n",
      "Training Epoch 77: 100%|██████████| 261/261 [00:02<00:00, 116.68it/s]\n",
      "Training Epoch 78: 100%|██████████| 261/261 [00:02<00:00, 123.81it/s]\n",
      "Training Epoch 79: 100%|██████████| 261/261 [00:02<00:00, 125.59it/s]\n",
      "Training Epoch 80: 100%|██████████| 261/261 [00:02<00:00, 114.53it/s]\n",
      "Training Epoch 81: 100%|██████████| 261/261 [00:02<00:00, 121.75it/s]\n"
     ]
    },
    {
     "name": "stdout",
     "output_type": "stream",
     "text": [
      "Epoch 80 - Train Loss: 0.8139, Train MSE: 0.8139, Train MAE: 0.6910\n",
      "Epoch 80 - Validation Loss: 1.7497, Validation MSE: 1.7513, Validation MAE: 0.9995\n"
     ]
    },
    {
     "name": "stderr",
     "output_type": "stream",
     "text": [
      "Training Epoch 82: 100%|██████████| 261/261 [00:02<00:00, 122.35it/s]\n",
      "Training Epoch 83: 100%|██████████| 261/261 [00:02<00:00, 122.35it/s]\n",
      "Training Epoch 84: 100%|██████████| 261/261 [00:02<00:00, 115.05it/s]\n",
      "Training Epoch 85: 100%|██████████| 261/261 [00:02<00:00, 121.18it/s]\n",
      "Training Epoch 86: 100%|██████████| 261/261 [00:02<00:00, 125.14it/s]\n",
      "Training Epoch 87: 100%|██████████| 261/261 [00:02<00:00, 121.75it/s]\n",
      "Training Epoch 88: 100%|██████████| 261/261 [00:02<00:00, 121.07it/s]\n",
      "Training Epoch 89: 100%|██████████| 261/261 [00:02<00:00, 118.50it/s]\n",
      "Training Epoch 90: 100%|██████████| 261/261 [00:02<00:00, 120.88it/s]\n",
      "Training Epoch 91: 100%|██████████| 261/261 [00:02<00:00, 116.67it/s]\n"
     ]
    },
    {
     "name": "stdout",
     "output_type": "stream",
     "text": [
      "Epoch 90 - Train Loss: 0.7517, Train MSE: 0.7518, Train MAE: 0.6706\n",
      "Epoch 90 - Validation Loss: 1.7429, Validation MSE: 1.7443, Validation MAE: 0.9956\n"
     ]
    },
    {
     "name": "stderr",
     "output_type": "stream",
     "text": [
      "Training Epoch 92: 100%|██████████| 261/261 [00:02<00:00, 118.38it/s]\n",
      "Training Epoch 93: 100%|██████████| 261/261 [00:02<00:00, 119.57it/s]\n",
      "Training Epoch 94: 100%|██████████| 261/261 [00:02<00:00, 121.92it/s]\n",
      "Training Epoch 95: 100%|██████████| 261/261 [00:02<00:00, 121.96it/s]\n",
      "Training Epoch 96: 100%|██████████| 261/261 [00:02<00:00, 125.06it/s]\n",
      "Training Epoch 97: 100%|██████████| 261/261 [00:02<00:00, 106.05it/s]\n",
      "Training Epoch 98: 100%|██████████| 261/261 [00:02<00:00, 118.90it/s]\n",
      "Training Epoch 99: 100%|██████████| 261/261 [00:02<00:00, 118.78it/s]\n",
      "Training Epoch 100: 100%|██████████| 261/261 [00:02<00:00, 119.23it/s]\n",
      "Training Epoch 101: 100%|██████████| 261/261 [00:02<00:00, 122.52it/s]\n"
     ]
    },
    {
     "name": "stdout",
     "output_type": "stream",
     "text": [
      "Epoch 100 - Train Loss: 0.6746, Train MSE: 0.6745, Train MAE: 0.6353\n",
      "Epoch 100 - Validation Loss: 1.7056, Validation MSE: 1.7073, Validation MAE: 0.9830\n"
     ]
    },
    {
     "name": "stderr",
     "output_type": "stream",
     "text": [
      "Training Epoch 102: 100%|██████████| 261/261 [00:02<00:00, 121.30it/s]\n",
      "Training Epoch 103: 100%|██████████| 261/261 [00:02<00:00, 121.22it/s]\n",
      "Training Epoch 104: 100%|██████████| 261/261 [00:02<00:00, 112.75it/s]\n",
      "Training Epoch 105: 100%|██████████| 261/261 [00:02<00:00, 124.93it/s]\n",
      "Training Epoch 106: 100%|██████████| 261/261 [00:02<00:00, 122.98it/s]\n",
      "Training Epoch 107: 100%|██████████| 261/261 [00:02<00:00, 122.55it/s]\n",
      "Training Epoch 108: 100%|██████████| 261/261 [00:02<00:00, 124.85it/s]\n",
      "Training Epoch 109: 100%|██████████| 261/261 [00:02<00:00, 121.03it/s]\n",
      "Training Epoch 110: 100%|██████████| 261/261 [00:02<00:00, 120.49it/s]\n",
      "Training Epoch 111: 100%|██████████| 261/261 [00:02<00:00, 109.26it/s]\n"
     ]
    },
    {
     "name": "stdout",
     "output_type": "stream",
     "text": [
      "Epoch 110 - Train Loss: 0.6587, Train MSE: 0.6587, Train MAE: 0.6268\n",
      "Epoch 110 - Validation Loss: 1.7486, Validation MSE: 1.7500, Validation MAE: 0.9942\n"
     ]
    },
    {
     "name": "stderr",
     "output_type": "stream",
     "text": [
      "Training Epoch 112: 100%|██████████| 261/261 [00:02<00:00, 97.21it/s] \n",
      "Training Epoch 113: 100%|██████████| 261/261 [00:02<00:00, 111.91it/s]\n",
      "Training Epoch 114: 100%|██████████| 261/261 [00:02<00:00, 116.08it/s]\n",
      "Training Epoch 115: 100%|██████████| 261/261 [00:02<00:00, 125.39it/s]\n",
      "Training Epoch 116: 100%|██████████| 261/261 [00:02<00:00, 115.14it/s]\n",
      "Training Epoch 117: 100%|██████████| 261/261 [00:02<00:00, 125.97it/s]\n",
      "Training Epoch 118: 100%|██████████| 261/261 [00:02<00:00, 120.31it/s]\n",
      "Training Epoch 119: 100%|██████████| 261/261 [06:48<00:00,  1.57s/it] \n",
      "Training Epoch 120: 100%|██████████| 261/261 [00:02<00:00, 108.74it/s]\n",
      "Training Epoch 121: 100%|██████████| 261/261 [00:06<00:00, 41.93it/s]\n"
     ]
    },
    {
     "name": "stdout",
     "output_type": "stream",
     "text": [
      "Epoch 120 - Train Loss: 0.6071, Train MSE: 0.6071, Train MAE: 0.5985\n",
      "Epoch 120 - Validation Loss: 1.7165, Validation MSE: 1.7177, Validation MAE: 0.9849\n"
     ]
    },
    {
     "name": "stderr",
     "output_type": "stream",
     "text": [
      "Training Epoch 122: 100%|██████████| 261/261 [00:02<00:00, 87.46it/s]\n",
      "Training Epoch 123: 100%|██████████| 261/261 [00:03<00:00, 77.73it/s]\n",
      "Training Epoch 124: 100%|██████████| 261/261 [00:03<00:00, 85.28it/s]\n",
      "Training Epoch 125: 100%|██████████| 261/261 [00:03<00:00, 83.44it/s]\n",
      "Training Epoch 126: 100%|██████████| 261/261 [00:03<00:00, 80.18it/s]\n",
      "Training Epoch 127: 100%|██████████| 261/261 [00:03<00:00, 78.23it/s]\n",
      "Training Epoch 128: 100%|██████████| 261/261 [00:03<00:00, 85.99it/s]\n",
      "Training Epoch 129: 100%|██████████| 261/261 [00:03<00:00, 85.12it/s]\n",
      "Training Epoch 130: 100%|██████████| 261/261 [17:48<00:00,  4.09s/it]\n",
      "Training Epoch 131: 100%|██████████| 261/261 [00:02<00:00, 88.84it/s] \n"
     ]
    },
    {
     "name": "stdout",
     "output_type": "stream",
     "text": [
      "Epoch 130 - Train Loss: 0.5812, Train MSE: 0.5812, Train MAE: 0.5837\n",
      "Epoch 130 - Validation Loss: 1.6709, Validation MSE: 1.6721, Validation MAE: 0.9675\n"
     ]
    },
    {
     "name": "stderr",
     "output_type": "stream",
     "text": [
      "Training Epoch 132: 100%|██████████| 261/261 [16:50<00:00,  3.87s/it]  \n",
      "Training Epoch 133: 100%|██████████| 261/261 [15:42<00:00,  3.61s/it]\n",
      "Training Epoch 134: 100%|██████████| 261/261 [00:03<00:00, 85.28it/s]\n",
      "Training Epoch 135: 100%|██████████| 261/261 [16:00<00:00,  3.68s/it]  \n",
      "Training Epoch 136: 100%|██████████| 261/261 [16:30<00:00,  3.79s/it]\n",
      "Training Epoch 137: 100%|██████████| 261/261 [00:02<00:00, 87.39it/s]\n",
      "Training Epoch 138: 100%|██████████| 261/261 [17:50<00:00,  4.10s/it]  \n",
      "Training Epoch 139: 100%|██████████| 261/261 [09:50<00:00,  2.26s/it]\n",
      "Training Epoch 140: 100%|██████████| 261/261 [00:03<00:00, 70.47it/s]\n",
      "Training Epoch 141: 100%|██████████| 261/261 [00:04<00:00, 52.32it/s]\n"
     ]
    },
    {
     "name": "stdout",
     "output_type": "stream",
     "text": [
      "Epoch 140 - Train Loss: 0.5458, Train MSE: 0.5458, Train MAE: 0.5691\n",
      "Epoch 140 - Validation Loss: 1.6828, Validation MSE: 1.6843, Validation MAE: 0.9749\n"
     ]
    },
    {
     "name": "stderr",
     "output_type": "stream",
     "text": [
      "Training Epoch 142: 100%|██████████| 261/261 [02:28<00:00,  1.75it/s]\n",
      "Training Epoch 143: 100%|██████████| 261/261 [00:03<00:00, 76.25it/s]\n",
      "Training Epoch 144: 100%|██████████| 261/261 [17:25<00:00,  4.01s/it]\n",
      "Training Epoch 145: 100%|██████████| 261/261 [00:03<00:00, 73.59it/s]\n",
      "Training Epoch 146: 100%|██████████| 261/261 [16:06<00:00,  3.70s/it] \n",
      "Training Epoch 147: 100%|██████████| 261/261 [17:54<00:00,  4.12s/it]  \n",
      "Training Epoch 148: 100%|██████████| 261/261 [09:23<00:00,  2.16s/it]\n",
      "Training Epoch 149: 100%|██████████| 261/261 [00:04<00:00, 63.62it/s]\n",
      "Training Epoch 150: 100%|██████████| 261/261 [00:03<00:00, 71.29it/s]\n",
      "Training Epoch 151: 100%|██████████| 261/261 [00:03<00:00, 72.41it/s]\n"
     ]
    },
    {
     "name": "stdout",
     "output_type": "stream",
     "text": [
      "Epoch 150 - Train Loss: 0.5297, Train MSE: 0.5297, Train MAE: 0.5558\n",
      "Epoch 150 - Validation Loss: 1.7715, Validation MSE: 1.7732, Validation MAE: 0.9836\n"
     ]
    },
    {
     "name": "stderr",
     "output_type": "stream",
     "text": [
      "Training Epoch 152: 100%|██████████| 261/261 [00:03<00:00, 73.82it/s]\n",
      "Training Epoch 153: 100%|██████████| 261/261 [00:03<00:00, 70.79it/s]\n",
      "Training Epoch 154: 100%|██████████| 261/261 [00:03<00:00, 77.27it/s]\n",
      "Training Epoch 155: 100%|██████████| 261/261 [00:04<00:00, 64.31it/s]\n",
      "Training Epoch 156: 100%|██████████| 261/261 [00:04<00:00, 63.88it/s]\n",
      "Training Epoch 157: 100%|██████████| 261/261 [00:03<00:00, 79.57it/s]\n",
      "Training Epoch 158: 100%|██████████| 261/261 [00:03<00:00, 82.13it/s]\n",
      "Training Epoch 159: 100%|██████████| 261/261 [00:03<00:00, 86.12it/s]\n",
      "Training Epoch 160: 100%|██████████| 261/261 [00:03<00:00, 73.54it/s]\n",
      "Training Epoch 161: 100%|██████████| 261/261 [17:13<00:00,  3.96s/it]\n"
     ]
    },
    {
     "name": "stdout",
     "output_type": "stream",
     "text": [
      "Epoch 160 - Train Loss: 0.5075, Train MSE: 0.5075, Train MAE: 0.5448\n",
      "Epoch 160 - Validation Loss: 1.7064, Validation MSE: 1.7077, Validation MAE: 0.9736\n"
     ]
    },
    {
     "name": "stderr",
     "output_type": "stream",
     "text": [
      "Training Epoch 162: 100%|██████████| 261/261 [00:03<00:00, 80.29it/s]\n",
      "Training Epoch 163: 100%|██████████| 261/261 [02:11<00:00,  1.98it/s]\n",
      "Training Epoch 164: 100%|██████████| 261/261 [00:02<00:00, 107.29it/s]\n",
      "Training Epoch 165: 100%|██████████| 261/261 [00:02<00:00, 111.59it/s]\n",
      "Training Epoch 166: 100%|██████████| 261/261 [00:02<00:00, 118.78it/s]\n",
      "Training Epoch 167: 100%|██████████| 261/261 [00:02<00:00, 111.40it/s]\n",
      "Training Epoch 168: 100%|██████████| 261/261 [00:02<00:00, 107.55it/s]\n",
      "Training Epoch 169: 100%|██████████| 261/261 [00:02<00:00, 115.25it/s]\n",
      "Training Epoch 170: 100%|██████████| 261/261 [00:02<00:00, 119.61it/s]\n",
      "Training Epoch 171: 100%|██████████| 261/261 [00:02<00:00, 117.41it/s]\n"
     ]
    },
    {
     "name": "stdout",
     "output_type": "stream",
     "text": [
      "Epoch 170 - Train Loss: 0.4805, Train MSE: 0.4805, Train MAE: 0.5303\n",
      "Epoch 170 - Validation Loss: 1.6872, Validation MSE: 1.6883, Validation MAE: 0.9658\n"
     ]
    },
    {
     "name": "stderr",
     "output_type": "stream",
     "text": [
      "Training Epoch 172: 100%|██████████| 261/261 [00:02<00:00, 101.91it/s]\n",
      "Training Epoch 173: 100%|██████████| 261/261 [00:02<00:00, 125.67it/s]\n",
      "Training Epoch 174: 100%|██████████| 261/261 [00:02<00:00, 124.60it/s]\n",
      "Training Epoch 175: 100%|██████████| 261/261 [00:02<00:00, 106.47it/s]\n",
      "Training Epoch 176: 100%|██████████| 261/261 [00:02<00:00, 122.99it/s]\n",
      "Training Epoch 177: 100%|██████████| 261/261 [00:02<00:00, 122.91it/s]\n",
      "Training Epoch 178: 100%|██████████| 261/261 [00:02<00:00, 107.76it/s]\n",
      "Training Epoch 179: 100%|██████████| 261/261 [00:02<00:00, 117.87it/s]\n",
      "Training Epoch 180: 100%|██████████| 261/261 [00:02<00:00, 127.82it/s]\n",
      "Training Epoch 181: 100%|██████████| 261/261 [00:02<00:00, 127.21it/s]\n"
     ]
    },
    {
     "name": "stdout",
     "output_type": "stream",
     "text": [
      "Epoch 180 - Train Loss: 0.4547, Train MSE: 0.4547, Train MAE: 0.5175\n",
      "Epoch 180 - Validation Loss: 1.6514, Validation MSE: 1.6525, Validation MAE: 0.9679\n"
     ]
    },
    {
     "name": "stderr",
     "output_type": "stream",
     "text": [
      "Training Epoch 182: 100%|██████████| 261/261 [00:02<00:00, 118.49it/s]\n",
      "Training Epoch 183: 100%|██████████| 261/261 [00:02<00:00, 113.04it/s]\n",
      "Training Epoch 184: 100%|██████████| 261/261 [00:02<00:00, 115.60it/s]\n",
      "Training Epoch 185: 100%|██████████| 261/261 [00:02<00:00, 114.54it/s]\n",
      "Training Epoch 186: 100%|██████████| 261/261 [00:02<00:00, 115.43it/s]\n",
      "Training Epoch 187: 100%|██████████| 261/261 [00:02<00:00, 129.21it/s]\n",
      "Training Epoch 188: 100%|██████████| 261/261 [00:02<00:00, 125.97it/s]\n",
      "Training Epoch 189: 100%|██████████| 261/261 [00:02<00:00, 128.63it/s]\n",
      "Training Epoch 190: 100%|██████████| 261/261 [00:02<00:00, 128.99it/s]\n",
      "Training Epoch 191: 100%|██████████| 261/261 [00:02<00:00, 122.48it/s]\n"
     ]
    },
    {
     "name": "stdout",
     "output_type": "stream",
     "text": [
      "Epoch 190 - Train Loss: 0.4478, Train MSE: 0.4478, Train MAE: 0.5134\n",
      "Epoch 190 - Validation Loss: 1.7001, Validation MSE: 1.7018, Validation MAE: 0.9784\n"
     ]
    },
    {
     "name": "stderr",
     "output_type": "stream",
     "text": [
      "Training Epoch 192: 100%|██████████| 261/261 [00:02<00:00, 121.46it/s]\n",
      "Training Epoch 193: 100%|██████████| 261/261 [00:02<00:00, 127.97it/s]\n",
      "Training Epoch 194: 100%|██████████| 261/261 [00:02<00:00, 121.23it/s]\n",
      "Training Epoch 195: 100%|██████████| 261/261 [00:02<00:00, 113.21it/s]\n",
      "Training Epoch 196: 100%|██████████| 261/261 [00:02<00:00, 127.96it/s]\n",
      "Training Epoch 197: 100%|██████████| 261/261 [00:02<00:00, 98.04it/s] \n",
      "Training Epoch 198: 100%|██████████| 261/261 [00:02<00:00, 115.49it/s]\n",
      "Training Epoch 199: 100%|██████████| 261/261 [00:02<00:00, 107.82it/s]\n",
      "Training Epoch 200: 100%|██████████| 261/261 [00:02<00:00, 123.80it/s]\n",
      "Training Epoch 201: 100%|██████████| 261/261 [00:02<00:00, 118.61it/s]\n"
     ]
    },
    {
     "name": "stdout",
     "output_type": "stream",
     "text": [
      "Epoch 200 - Train Loss: 0.4398, Train MSE: 0.4398, Train MAE: 0.5078\n",
      "Epoch 200 - Validation Loss: 1.7639, Validation MSE: 1.7653, Validation MAE: 0.9799\n"
     ]
    },
    {
     "name": "stderr",
     "output_type": "stream",
     "text": [
      "Training Epoch 202: 100%|██████████| 261/261 [00:02<00:00, 119.53it/s]\n",
      "Training Epoch 203: 100%|██████████| 261/261 [00:02<00:00, 123.60it/s]\n",
      "Training Epoch 204: 100%|██████████| 261/261 [00:02<00:00, 124.72it/s]\n",
      "Training Epoch 205: 100%|██████████| 261/261 [00:02<00:00, 128.43it/s]\n",
      "Training Epoch 206: 100%|██████████| 261/261 [00:02<00:00, 107.79it/s]\n",
      "Training Epoch 207: 100%|██████████| 261/261 [00:02<00:00, 117.30it/s]\n",
      "Training Epoch 208: 100%|██████████| 261/261 [00:02<00:00, 127.31it/s]\n",
      "Training Epoch 209: 100%|██████████| 261/261 [00:02<00:00, 122.96it/s]\n",
      "Training Epoch 210: 100%|██████████| 261/261 [00:02<00:00, 126.84it/s]\n",
      "Training Epoch 211: 100%|██████████| 261/261 [00:02<00:00, 114.94it/s]\n"
     ]
    },
    {
     "name": "stdout",
     "output_type": "stream",
     "text": [
      "Epoch 210 - Train Loss: 0.4210, Train MSE: 0.4210, Train MAE: 0.4970\n",
      "Epoch 210 - Validation Loss: 1.7310, Validation MSE: 1.7325, Validation MAE: 0.9655\n"
     ]
    },
    {
     "name": "stderr",
     "output_type": "stream",
     "text": [
      "Training Epoch 212: 100%|██████████| 261/261 [00:02<00:00, 127.81it/s]\n",
      "Training Epoch 213: 100%|██████████| 261/261 [00:02<00:00, 121.92it/s]\n",
      "Training Epoch 214: 100%|██████████| 261/261 [00:01<00:00, 131.09it/s]\n",
      "Training Epoch 215: 100%|██████████| 261/261 [00:02<00:00, 128.97it/s]\n",
      "Training Epoch 216: 100%|██████████| 261/261 [00:03<00:00, 71.13it/s]\n",
      "Training Epoch 217: 100%|██████████| 261/261 [00:03<00:00, 72.25it/s] \n",
      "Training Epoch 218: 100%|██████████| 261/261 [00:02<00:00, 98.00it/s] \n",
      "Training Epoch 219: 100%|██████████| 261/261 [00:02<00:00, 108.77it/s]\n",
      "Training Epoch 220: 100%|██████████| 261/261 [00:02<00:00, 130.10it/s]\n",
      "Training Epoch 221: 100%|██████████| 261/261 [00:02<00:00, 110.81it/s]\n"
     ]
    },
    {
     "name": "stdout",
     "output_type": "stream",
     "text": [
      "Epoch 220 - Train Loss: 0.4136, Train MSE: 0.4136, Train MAE: 0.4930\n",
      "Epoch 220 - Validation Loss: 1.7029, Validation MSE: 1.7040, Validation MAE: 0.9587\n"
     ]
    },
    {
     "name": "stderr",
     "output_type": "stream",
     "text": [
      "Training Epoch 222: 100%|██████████| 261/261 [00:02<00:00, 122.99it/s]\n",
      "Training Epoch 223: 100%|██████████| 261/261 [00:02<00:00, 129.39it/s]\n",
      "Training Epoch 224: 100%|██████████| 261/261 [00:02<00:00, 103.51it/s]\n",
      "Training Epoch 225: 100%|██████████| 261/261 [00:02<00:00, 112.92it/s]\n",
      "Training Epoch 226: 100%|██████████| 261/261 [00:02<00:00, 124.77it/s]\n",
      "Training Epoch 227: 100%|██████████| 261/261 [00:02<00:00, 130.23it/s]\n",
      "Training Epoch 228: 100%|██████████| 261/261 [00:02<00:00, 129.75it/s]\n",
      "Training Epoch 229: 100%|██████████| 261/261 [00:02<00:00, 116.52it/s]\n",
      "Training Epoch 230: 100%|██████████| 261/261 [00:02<00:00, 127.65it/s]\n",
      "Training Epoch 231: 100%|██████████| 261/261 [00:02<00:00, 127.19it/s]\n"
     ]
    },
    {
     "name": "stdout",
     "output_type": "stream",
     "text": [
      "Epoch 230 - Train Loss: 0.3867, Train MSE: 0.3867, Train MAE: 0.4774\n",
      "Epoch 230 - Validation Loss: 1.6792, Validation MSE: 1.6806, Validation MAE: 0.9671\n"
     ]
    },
    {
     "name": "stderr",
     "output_type": "stream",
     "text": [
      "Training Epoch 232: 100%|██████████| 261/261 [00:02<00:00, 119.05it/s]\n",
      "Training Epoch 233: 100%|██████████| 261/261 [00:01<00:00, 130.82it/s]\n",
      "Training Epoch 234: 100%|██████████| 261/261 [00:02<00:00, 112.20it/s]\n",
      "Training Epoch 235: 100%|██████████| 261/261 [00:02<00:00, 129.33it/s]\n",
      "Training Epoch 236: 100%|██████████| 261/261 [00:02<00:00, 126.04it/s]\n",
      "Training Epoch 237: 100%|██████████| 261/261 [00:02<00:00, 126.80it/s]\n",
      "Training Epoch 238: 100%|██████████| 261/261 [00:02<00:00, 128.31it/s]\n",
      "Training Epoch 239: 100%|██████████| 261/261 [00:02<00:00, 99.04it/s] \n",
      "Training Epoch 240: 100%|██████████| 261/261 [00:02<00:00, 103.35it/s]\n",
      "Training Epoch 241: 100%|██████████| 261/261 [00:02<00:00, 112.10it/s]\n"
     ]
    },
    {
     "name": "stdout",
     "output_type": "stream",
     "text": [
      "Epoch 240 - Train Loss: 0.3891, Train MSE: 0.3891, Train MAE: 0.4790\n",
      "Epoch 240 - Validation Loss: 1.6567, Validation MSE: 1.6580, Validation MAE: 0.9519\n"
     ]
    },
    {
     "name": "stderr",
     "output_type": "stream",
     "text": [
      "Training Epoch 242: 100%|██████████| 261/261 [00:02<00:00, 107.95it/s]\n",
      "Training Epoch 243: 100%|██████████| 261/261 [00:02<00:00, 108.94it/s]\n",
      "Training Epoch 244: 100%|██████████| 261/261 [00:02<00:00, 103.46it/s]\n",
      "Training Epoch 245: 100%|██████████| 261/261 [00:02<00:00, 101.45it/s]\n",
      "Training Epoch 246: 100%|██████████| 261/261 [00:02<00:00, 95.23it/s] \n",
      "Training Epoch 247: 100%|██████████| 261/261 [00:02<00:00, 111.60it/s]\n",
      "Training Epoch 248: 100%|██████████| 261/261 [00:02<00:00, 112.90it/s]\n",
      "Training Epoch 249: 100%|██████████| 261/261 [00:02<00:00, 103.25it/s]\n",
      "Training Epoch 250: 100%|██████████| 261/261 [00:02<00:00, 102.29it/s]\n",
      "Training Epoch 251: 100%|██████████| 261/261 [00:02<00:00, 105.22it/s]\n"
     ]
    },
    {
     "name": "stdout",
     "output_type": "stream",
     "text": [
      "Epoch 250 - Train Loss: 0.3700, Train MSE: 0.3700, Train MAE: 0.4652\n",
      "Epoch 250 - Validation Loss: 1.6527, Validation MSE: 1.6538, Validation MAE: 0.9487\n"
     ]
    },
    {
     "name": "stderr",
     "output_type": "stream",
     "text": [
      "Training Epoch 252: 100%|██████████| 261/261 [00:02<00:00, 106.96it/s]\n",
      "Training Epoch 253: 100%|██████████| 261/261 [00:02<00:00, 113.69it/s]\n",
      "Training Epoch 254: 100%|██████████| 261/261 [00:02<00:00, 110.97it/s]\n",
      "Training Epoch 255: 100%|██████████| 261/261 [00:02<00:00, 108.43it/s]\n",
      "Training Epoch 256: 100%|██████████| 261/261 [00:02<00:00, 111.04it/s]\n",
      "Training Epoch 257: 100%|██████████| 261/261 [00:02<00:00, 109.49it/s]\n",
      "Training Epoch 258: 100%|██████████| 261/261 [00:02<00:00, 110.23it/s]\n",
      "Training Epoch 259: 100%|██████████| 261/261 [00:02<00:00, 107.31it/s]\n",
      "Training Epoch 260: 100%|██████████| 261/261 [00:02<00:00, 109.05it/s]\n",
      "Training Epoch 261: 100%|██████████| 261/261 [00:02<00:00, 102.75it/s]\n"
     ]
    },
    {
     "name": "stdout",
     "output_type": "stream",
     "text": [
      "Epoch 260 - Train Loss: 0.3806, Train MSE: 0.3806, Train MAE: 0.4692\n",
      "Epoch 260 - Validation Loss: 1.6855, Validation MSE: 1.6867, Validation MAE: 0.9615\n"
     ]
    },
    {
     "name": "stderr",
     "output_type": "stream",
     "text": [
      "Training Epoch 262: 100%|██████████| 261/261 [00:02<00:00, 109.69it/s]\n",
      "Training Epoch 263: 100%|██████████| 261/261 [00:02<00:00, 108.52it/s]\n",
      "Training Epoch 264: 100%|██████████| 261/261 [00:02<00:00, 111.07it/s]\n",
      "Training Epoch 265: 100%|██████████| 261/261 [00:02<00:00, 115.05it/s]\n",
      "Training Epoch 266: 100%|██████████| 261/261 [00:02<00:00, 106.75it/s]\n",
      "Training Epoch 267: 100%|██████████| 261/261 [00:02<00:00, 102.98it/s]\n",
      "Training Epoch 268: 100%|██████████| 261/261 [00:02<00:00, 106.34it/s]\n",
      "Training Epoch 269: 100%|██████████| 261/261 [00:02<00:00, 97.55it/s] \n",
      "Training Epoch 270: 100%|██████████| 261/261 [00:02<00:00, 102.84it/s]\n",
      "Training Epoch 271: 100%|██████████| 261/261 [00:02<00:00, 110.05it/s]\n"
     ]
    },
    {
     "name": "stdout",
     "output_type": "stream",
     "text": [
      "Epoch 270 - Train Loss: 0.3543, Train MSE: 0.3542, Train MAE: 0.4575\n",
      "Epoch 270 - Validation Loss: 1.7054, Validation MSE: 1.7068, Validation MAE: 0.9634\n"
     ]
    },
    {
     "name": "stderr",
     "output_type": "stream",
     "text": [
      "Training Epoch 272: 100%|██████████| 261/261 [00:02<00:00, 109.23it/s]\n",
      "Training Epoch 273: 100%|██████████| 261/261 [00:02<00:00, 96.68it/s] \n",
      "Training Epoch 274: 100%|██████████| 261/261 [00:02<00:00, 110.04it/s]\n",
      "Training Epoch 275: 100%|██████████| 261/261 [00:02<00:00, 110.50it/s]\n",
      "Training Epoch 276: 100%|██████████| 261/261 [00:02<00:00, 103.66it/s]\n",
      "Training Epoch 277: 100%|██████████| 261/261 [00:02<00:00, 111.88it/s]\n",
      "Training Epoch 278: 100%|██████████| 261/261 [00:02<00:00, 113.46it/s]\n",
      "Training Epoch 279: 100%|██████████| 261/261 [00:02<00:00, 113.58it/s]\n",
      "Training Epoch 280: 100%|██████████| 261/261 [00:02<00:00, 111.90it/s]\n",
      "Training Epoch 281: 100%|██████████| 261/261 [00:02<00:00, 112.73it/s]\n"
     ]
    },
    {
     "name": "stdout",
     "output_type": "stream",
     "text": [
      "Epoch 280 - Train Loss: 0.3405, Train MSE: 0.3406, Train MAE: 0.4453\n",
      "Epoch 280 - Validation Loss: 1.6730, Validation MSE: 1.6745, Validation MAE: 0.9488\n"
     ]
    },
    {
     "name": "stderr",
     "output_type": "stream",
     "text": [
      "Training Epoch 282: 100%|██████████| 261/261 [00:02<00:00, 109.76it/s]\n",
      "Training Epoch 283: 100%|██████████| 261/261 [00:02<00:00, 112.71it/s]\n",
      "Training Epoch 284: 100%|██████████| 261/261 [00:02<00:00, 108.47it/s]\n",
      "Training Epoch 285: 100%|██████████| 261/261 [00:02<00:00, 100.04it/s]\n",
      "Training Epoch 286: 100%|██████████| 261/261 [00:02<00:00, 102.86it/s]\n",
      "Training Epoch 287: 100%|██████████| 261/261 [00:02<00:00, 105.48it/s]\n",
      "Training Epoch 288: 100%|██████████| 261/261 [00:02<00:00, 105.96it/s]\n",
      "Training Epoch 289: 100%|██████████| 261/261 [00:02<00:00, 110.78it/s]\n",
      "Training Epoch 290: 100%|██████████| 261/261 [00:02<00:00, 108.27it/s]\n",
      "Training Epoch 291: 100%|██████████| 261/261 [00:02<00:00, 108.43it/s]\n"
     ]
    },
    {
     "name": "stdout",
     "output_type": "stream",
     "text": [
      "Epoch 290 - Train Loss: 0.3463, Train MSE: 0.3463, Train MAE: 0.4454\n",
      "Epoch 290 - Validation Loss: 1.6438, Validation MSE: 1.6453, Validation MAE: 0.9438\n"
     ]
    },
    {
     "name": "stderr",
     "output_type": "stream",
     "text": [
      "Training Epoch 292: 100%|██████████| 261/261 [00:02<00:00, 103.73it/s]\n",
      "Training Epoch 293: 100%|██████████| 261/261 [00:02<00:00, 106.62it/s]\n",
      "Training Epoch 294: 100%|██████████| 261/261 [00:02<00:00, 106.82it/s]\n",
      "Training Epoch 295: 100%|██████████| 261/261 [00:02<00:00, 105.66it/s]\n",
      "Training Epoch 296: 100%|██████████| 261/261 [00:02<00:00, 97.18it/s] \n",
      "Training Epoch 297: 100%|██████████| 261/261 [00:02<00:00, 102.03it/s]\n",
      "Training Epoch 298: 100%|██████████| 261/261 [00:02<00:00, 113.65it/s]\n",
      "Training Epoch 299: 100%|██████████| 261/261 [00:02<00:00, 112.61it/s]\n",
      "Training Epoch 300: 100%|██████████| 261/261 [00:02<00:00, 111.03it/s]\n",
      "Training Epoch 301: 100%|██████████| 261/261 [00:02<00:00, 110.76it/s]\n"
     ]
    },
    {
     "name": "stdout",
     "output_type": "stream",
     "text": [
      "Epoch 300 - Train Loss: 0.3362, Train MSE: 0.3362, Train MAE: 0.4402\n",
      "Epoch 300 - Validation Loss: 1.6504, Validation MSE: 1.6516, Validation MAE: 0.9512\n"
     ]
    },
    {
     "name": "stderr",
     "output_type": "stream",
     "text": [
      "Training Epoch 302: 100%|██████████| 261/261 [00:02<00:00, 109.59it/s]\n",
      "Training Epoch 303: 100%|██████████| 261/261 [00:02<00:00, 109.49it/s]\n",
      "Training Epoch 304: 100%|██████████| 261/261 [00:02<00:00, 105.11it/s]\n",
      "Training Epoch 305: 100%|██████████| 261/261 [00:02<00:00, 105.28it/s]\n",
      "Training Epoch 306: 100%|██████████| 261/261 [00:02<00:00, 111.49it/s]\n",
      "Training Epoch 307: 100%|██████████| 261/261 [00:02<00:00, 108.15it/s]\n",
      "Training Epoch 308: 100%|██████████| 261/261 [00:02<00:00, 110.93it/s]\n",
      "Training Epoch 309: 100%|██████████| 261/261 [00:02<00:00, 113.27it/s]\n",
      "Training Epoch 310: 100%|██████████| 261/261 [00:02<00:00, 105.94it/s]\n",
      "Training Epoch 311: 100%|██████████| 261/261 [00:02<00:00, 112.52it/s]\n"
     ]
    },
    {
     "name": "stdout",
     "output_type": "stream",
     "text": [
      "Epoch 310 - Train Loss: 0.3129, Train MSE: 0.3129, Train MAE: 0.4267\n",
      "Epoch 310 - Validation Loss: 1.6747, Validation MSE: 1.6763, Validation MAE: 0.9518\n"
     ]
    },
    {
     "name": "stderr",
     "output_type": "stream",
     "text": [
      "Training Epoch 312: 100%|██████████| 261/261 [00:02<00:00, 112.92it/s]\n",
      "Training Epoch 313: 100%|██████████| 261/261 [00:02<00:00, 106.32it/s]\n",
      "Training Epoch 314: 100%|██████████| 261/261 [00:02<00:00, 113.64it/s]\n",
      "Training Epoch 315: 100%|██████████| 261/261 [00:02<00:00, 104.71it/s]\n",
      "Training Epoch 316: 100%|██████████| 261/261 [00:02<00:00, 109.78it/s]\n",
      "Training Epoch 317: 100%|██████████| 261/261 [00:02<00:00, 110.09it/s]\n",
      "Training Epoch 318: 100%|██████████| 261/261 [00:02<00:00, 111.92it/s]\n",
      "Training Epoch 319: 100%|██████████| 261/261 [00:02<00:00, 108.72it/s]\n",
      "Training Epoch 320: 100%|██████████| 261/261 [00:02<00:00, 113.55it/s]\n",
      "Training Epoch 321: 100%|██████████| 261/261 [00:03<00:00, 85.09it/s] \n"
     ]
    },
    {
     "name": "stdout",
     "output_type": "stream",
     "text": [
      "Epoch 320 - Train Loss: 0.3104, Train MSE: 0.3104, Train MAE: 0.4235\n",
      "Epoch 320 - Validation Loss: 1.6541, Validation MSE: 1.6552, Validation MAE: 0.9494\n"
     ]
    },
    {
     "name": "stderr",
     "output_type": "stream",
     "text": [
      "Training Epoch 322: 100%|██████████| 261/261 [00:03<00:00, 78.54it/s]\n",
      "Training Epoch 323: 100%|██████████| 261/261 [00:04<00:00, 62.76it/s]\n",
      "Training Epoch 324: 100%|██████████| 261/261 [00:05<00:00, 45.52it/s]\n",
      "Training Epoch 325: 100%|██████████| 261/261 [00:05<00:00, 46.74it/s]\n",
      "Training Epoch 326: 100%|██████████| 261/261 [00:05<00:00, 45.81it/s]\n",
      "Training Epoch 327: 100%|██████████| 261/261 [00:05<00:00, 45.03it/s]\n",
      "Training Epoch 328: 100%|██████████| 261/261 [00:05<00:00, 48.89it/s]\n",
      "Training Epoch 329: 100%|██████████| 261/261 [00:06<00:00, 37.86it/s]\n",
      "Training Epoch 330: 100%|██████████| 261/261 [00:06<00:00, 40.90it/s]\n",
      "Training Epoch 331: 100%|██████████| 261/261 [00:06<00:00, 43.04it/s]\n"
     ]
    },
    {
     "name": "stdout",
     "output_type": "stream",
     "text": [
      "Epoch 330 - Train Loss: 0.3087, Train MSE: 0.3086, Train MAE: 0.4215\n",
      "Epoch 330 - Validation Loss: 1.6965, Validation MSE: 1.6982, Validation MAE: 0.9548\n"
     ]
    },
    {
     "name": "stderr",
     "output_type": "stream",
     "text": [
      "Training Epoch 332: 100%|██████████| 261/261 [00:05<00:00, 45.20it/s]\n",
      "Training Epoch 333: 100%|██████████| 261/261 [00:05<00:00, 46.16it/s]\n",
      "Training Epoch 334: 100%|██████████| 261/261 [00:04<00:00, 63.67it/s]\n",
      "Training Epoch 335: 100%|██████████| 261/261 [00:02<00:00, 87.15it/s]\n",
      "Training Epoch 336: 100%|██████████| 261/261 [00:03<00:00, 86.17it/s]\n",
      "Training Epoch 337: 100%|██████████| 261/261 [00:03<00:00, 84.27it/s]\n",
      "Training Epoch 338: 100%|██████████| 261/261 [00:03<00:00, 86.11it/s]\n",
      "Training Epoch 339: 100%|██████████| 261/261 [00:03<00:00, 86.46it/s]\n",
      "Training Epoch 340: 100%|██████████| 261/261 [00:02<00:00, 87.91it/s]\n",
      "Training Epoch 341: 100%|██████████| 261/261 [00:02<00:00, 88.64it/s]\n"
     ]
    },
    {
     "name": "stdout",
     "output_type": "stream",
     "text": [
      "Epoch 340 - Train Loss: 0.3085, Train MSE: 0.3085, Train MAE: 0.4209\n",
      "Epoch 340 - Validation Loss: 1.6872, Validation MSE: 1.6886, Validation MAE: 0.9473\n"
     ]
    },
    {
     "name": "stderr",
     "output_type": "stream",
     "text": [
      "Training Epoch 342: 100%|██████████| 261/261 [00:02<00:00, 87.45it/s]\n",
      "Training Epoch 343: 100%|██████████| 261/261 [00:02<00:00, 87.47it/s]\n",
      "Training Epoch 344: 100%|██████████| 261/261 [00:03<00:00, 80.32it/s]\n",
      "Training Epoch 345: 100%|██████████| 261/261 [00:03<00:00, 85.27it/s]\n",
      "Training Epoch 346: 100%|██████████| 261/261 [00:03<00:00, 87.00it/s]\n",
      "Training Epoch 347: 100%|██████████| 261/261 [00:04<00:00, 61.73it/s]\n",
      "Training Epoch 348: 100%|██████████| 261/261 [00:03<00:00, 75.50it/s]\n",
      "Training Epoch 349: 100%|██████████| 261/261 [00:03<00:00, 76.37it/s]\n",
      "Training Epoch 350: 100%|██████████| 261/261 [00:03<00:00, 80.64it/s]\n",
      "Training Epoch 351: 100%|██████████| 261/261 [00:03<00:00, 79.81it/s]\n"
     ]
    },
    {
     "name": "stdout",
     "output_type": "stream",
     "text": [
      "Epoch 350 - Train Loss: 0.2976, Train MSE: 0.2976, Train MAE: 0.4122\n",
      "Epoch 350 - Validation Loss: 1.6764, Validation MSE: 1.6778, Validation MAE: 0.9508\n"
     ]
    },
    {
     "name": "stderr",
     "output_type": "stream",
     "text": [
      "Training Epoch 352: 100%|██████████| 261/261 [00:03<00:00, 76.28it/s]\n",
      "Training Epoch 353: 100%|██████████| 261/261 [00:03<00:00, 77.78it/s]\n",
      "Training Epoch 354: 100%|██████████| 261/261 [00:03<00:00, 80.65it/s]\n",
      "Training Epoch 355: 100%|██████████| 261/261 [00:03<00:00, 80.36it/s]\n",
      "Training Epoch 356: 100%|██████████| 261/261 [00:03<00:00, 75.02it/s]\n",
      "Training Epoch 357: 100%|██████████| 261/261 [00:03<00:00, 80.69it/s]\n",
      "Training Epoch 358: 100%|██████████| 261/261 [00:03<00:00, 81.59it/s]\n",
      "Training Epoch 359: 100%|██████████| 261/261 [00:03<00:00, 69.21it/s]\n",
      "Training Epoch 360: 100%|██████████| 261/261 [00:05<00:00, 51.21it/s]\n",
      "Training Epoch 361: 100%|██████████| 261/261 [00:03<00:00, 67.30it/s]\n"
     ]
    },
    {
     "name": "stdout",
     "output_type": "stream",
     "text": [
      "Epoch 360 - Train Loss: 0.3037, Train MSE: 0.3037, Train MAE: 0.4185\n",
      "Epoch 360 - Validation Loss: 1.6613, Validation MSE: 1.6625, Validation MAE: 0.9477\n"
     ]
    },
    {
     "name": "stderr",
     "output_type": "stream",
     "text": [
      "Training Epoch 362: 100%|██████████| 261/261 [00:03<00:00, 79.02it/s]\n",
      "Training Epoch 363: 100%|██████████| 261/261 [00:03<00:00, 71.94it/s]\n",
      "Training Epoch 364: 100%|██████████| 261/261 [00:03<00:00, 77.02it/s]\n",
      "Training Epoch 365: 100%|██████████| 261/261 [00:03<00:00, 82.32it/s]\n",
      "Training Epoch 366: 100%|██████████| 261/261 [00:03<00:00, 80.89it/s]\n",
      "Training Epoch 367: 100%|██████████| 261/261 [00:03<00:00, 83.19it/s]\n",
      "Training Epoch 368: 100%|██████████| 261/261 [00:03<00:00, 77.10it/s]\n",
      "Training Epoch 369: 100%|██████████| 261/261 [00:03<00:00, 76.33it/s]\n",
      "Training Epoch 370: 100%|██████████| 261/261 [00:03<00:00, 75.94it/s]\n",
      "Training Epoch 371: 100%|██████████| 261/261 [00:04<00:00, 64.10it/s]\n"
     ]
    },
    {
     "name": "stdout",
     "output_type": "stream",
     "text": [
      "Epoch 370 - Train Loss: 0.2836, Train MSE: 0.2836, Train MAE: 0.4043\n",
      "Epoch 370 - Validation Loss: 1.6438, Validation MSE: 1.6454, Validation MAE: 0.9493\n"
     ]
    },
    {
     "name": "stderr",
     "output_type": "stream",
     "text": [
      "Training Epoch 372: 100%|██████████| 261/261 [00:05<00:00, 46.09it/s]\n",
      "Training Epoch 373: 100%|██████████| 261/261 [00:03<00:00, 68.59it/s]\n",
      "Training Epoch 374: 100%|██████████| 261/261 [00:03<00:00, 68.92it/s]\n",
      "Training Epoch 375: 100%|██████████| 261/261 [00:04<00:00, 62.85it/s]\n",
      "Training Epoch 376: 100%|██████████| 261/261 [00:03<00:00, 71.25it/s]\n",
      "Training Epoch 377: 100%|██████████| 261/261 [00:03<00:00, 75.28it/s]\n",
      "Training Epoch 378: 100%|██████████| 261/261 [00:03<00:00, 72.89it/s]\n",
      "Training Epoch 379: 100%|██████████| 261/261 [00:03<00:00, 69.76it/s]\n",
      "Training Epoch 380: 100%|██████████| 261/261 [00:04<00:00, 53.27it/s]\n",
      "Training Epoch 381: 100%|██████████| 261/261 [00:03<00:00, 65.45it/s]\n"
     ]
    },
    {
     "name": "stdout",
     "output_type": "stream",
     "text": [
      "Epoch 380 - Train Loss: 0.2885, Train MSE: 0.2886, Train MAE: 0.4072\n",
      "Epoch 380 - Validation Loss: 1.6800, Validation MSE: 1.6815, Validation MAE: 0.9484\n"
     ]
    },
    {
     "name": "stderr",
     "output_type": "stream",
     "text": [
      "Training Epoch 382: 100%|██████████| 261/261 [00:04<00:00, 59.62it/s]\n",
      "Training Epoch 383: 100%|██████████| 261/261 [00:03<00:00, 66.73it/s]\n",
      "Training Epoch 384: 100%|██████████| 261/261 [00:03<00:00, 68.86it/s]\n",
      "Training Epoch 385: 100%|██████████| 261/261 [00:03<00:00, 65.73it/s]\n",
      "Training Epoch 386: 100%|██████████| 261/261 [00:05<00:00, 50.11it/s]\n",
      "Training Epoch 387: 100%|██████████| 261/261 [00:04<00:00, 57.11it/s]\n",
      "Training Epoch 388: 100%|██████████| 261/261 [00:04<00:00, 60.81it/s]\n",
      "Training Epoch 389: 100%|██████████| 261/261 [00:04<00:00, 55.72it/s]\n",
      "Training Epoch 390: 100%|██████████| 261/261 [00:04<00:00, 59.32it/s]\n",
      "Training Epoch 391: 100%|██████████| 261/261 [00:04<00:00, 61.18it/s]\n"
     ]
    },
    {
     "name": "stdout",
     "output_type": "stream",
     "text": [
      "Epoch 390 - Train Loss: 0.2868, Train MSE: 0.2868, Train MAE: 0.4063\n",
      "Epoch 390 - Validation Loss: 1.6543, Validation MSE: 1.6552, Validation MAE: 0.9363\n"
     ]
    },
    {
     "name": "stderr",
     "output_type": "stream",
     "text": [
      "Training Epoch 392: 100%|██████████| 261/261 [00:04<00:00, 53.75it/s]\n",
      "Training Epoch 393: 100%|██████████| 261/261 [00:05<00:00, 47.61it/s]\n",
      "Training Epoch 394: 100%|██████████| 261/261 [00:05<00:00, 50.14it/s]\n",
      "Training Epoch 395: 100%|██████████| 261/261 [00:04<00:00, 53.35it/s]\n",
      "Training Epoch 396: 100%|██████████| 261/261 [00:04<00:00, 62.48it/s]\n",
      "Training Epoch 397: 100%|██████████| 261/261 [00:04<00:00, 63.36it/s]\n",
      "Training Epoch 398: 100%|██████████| 261/261 [00:04<00:00, 61.00it/s]\n",
      "Training Epoch 399: 100%|██████████| 261/261 [00:04<00:00, 59.82it/s]\n",
      "Training Epoch 400: 100%|██████████| 261/261 [00:04<00:00, 61.34it/s]\n",
      "Training Epoch 401: 100%|██████████| 261/261 [00:04<00:00, 58.71it/s]\n"
     ]
    },
    {
     "name": "stdout",
     "output_type": "stream",
     "text": [
      "Epoch 400 - Train Loss: 0.2636, Train MSE: 0.2636, Train MAE: 0.3913\n",
      "Epoch 400 - Validation Loss: 1.7099, Validation MSE: 1.7109, Validation MAE: 0.9589\n"
     ]
    },
    {
     "name": "stderr",
     "output_type": "stream",
     "text": [
      "Training Epoch 402: 100%|██████████| 261/261 [00:04<00:00, 61.53it/s]\n",
      "Training Epoch 403: 100%|██████████| 261/261 [00:04<00:00, 63.38it/s]\n",
      "Training Epoch 404: 100%|██████████| 261/261 [00:04<00:00, 65.12it/s]\n",
      "Training Epoch 405: 100%|██████████| 261/261 [00:04<00:00, 60.56it/s]\n",
      "Training Epoch 406: 100%|██████████| 261/261 [00:04<00:00, 63.92it/s]\n",
      "Training Epoch 407: 100%|██████████| 261/261 [00:04<00:00, 63.27it/s]\n",
      "Training Epoch 408: 100%|██████████| 261/261 [00:04<00:00, 61.82it/s]\n",
      "Training Epoch 409: 100%|██████████| 261/261 [00:04<00:00, 61.69it/s]\n",
      "Training Epoch 410: 100%|██████████| 261/261 [00:04<00:00, 62.86it/s]\n",
      "Training Epoch 411: 100%|██████████| 261/261 [00:04<00:00, 62.39it/s]\n"
     ]
    },
    {
     "name": "stdout",
     "output_type": "stream",
     "text": [
      "Epoch 410 - Train Loss: 0.2816, Train MSE: 0.2816, Train MAE: 0.4024\n",
      "Epoch 410 - Validation Loss: 1.6693, Validation MSE: 1.6705, Validation MAE: 0.9418\n"
     ]
    },
    {
     "name": "stderr",
     "output_type": "stream",
     "text": [
      "Training Epoch 412: 100%|██████████| 261/261 [00:04<00:00, 61.56it/s]\n",
      "Training Epoch 413: 100%|██████████| 261/261 [00:04<00:00, 61.50it/s]\n",
      "Training Epoch 414: 100%|██████████| 261/261 [00:03<00:00, 66.23it/s]\n",
      "Training Epoch 415: 100%|██████████| 261/261 [00:04<00:00, 60.23it/s]\n",
      "Training Epoch 416: 100%|██████████| 261/261 [00:04<00:00, 64.28it/s]\n",
      "Training Epoch 417: 100%|██████████| 261/261 [00:03<00:00, 69.07it/s]\n",
      "Training Epoch 418: 100%|██████████| 261/261 [00:03<00:00, 69.10it/s]\n",
      "Training Epoch 419: 100%|██████████| 261/261 [00:03<00:00, 65.40it/s]\n",
      "Training Epoch 420: 100%|██████████| 261/261 [00:03<00:00, 68.71it/s]\n",
      "Training Epoch 421: 100%|██████████| 261/261 [00:03<00:00, 66.00it/s]\n"
     ]
    },
    {
     "name": "stdout",
     "output_type": "stream",
     "text": [
      "Epoch 420 - Train Loss: 0.2705, Train MSE: 0.2705, Train MAE: 0.3949\n",
      "Epoch 420 - Validation Loss: 1.6729, Validation MSE: 1.6742, Validation MAE: 0.9555\n"
     ]
    },
    {
     "name": "stderr",
     "output_type": "stream",
     "text": [
      "Training Epoch 422: 100%|██████████| 261/261 [00:03<00:00, 69.72it/s]\n",
      "Training Epoch 423: 100%|██████████| 261/261 [00:03<00:00, 67.07it/s]\n",
      "Training Epoch 424: 100%|██████████| 261/261 [00:03<00:00, 66.27it/s]\n",
      "Training Epoch 425: 100%|██████████| 261/261 [00:04<00:00, 64.31it/s]\n",
      "Training Epoch 426: 100%|██████████| 261/261 [17:44<00:00,  4.08s/it]  \n",
      "Training Epoch 427: 100%|██████████| 261/261 [00:12<00:00, 20.47it/s]\n",
      "Training Epoch 428: 100%|██████████| 261/261 [00:05<00:00, 44.28it/s]\n",
      "Training Epoch 429: 100%|██████████| 261/261 [00:06<00:00, 42.36it/s]\n",
      "Training Epoch 430: 100%|██████████| 261/261 [00:06<00:00, 39.79it/s]\n",
      "Training Epoch 431: 100%|██████████| 261/261 [00:05<00:00, 43.98it/s]\n"
     ]
    },
    {
     "name": "stdout",
     "output_type": "stream",
     "text": [
      "Epoch 430 - Train Loss: 0.2644, Train MSE: 0.2644, Train MAE: 0.3898\n",
      "Epoch 430 - Validation Loss: 1.6236, Validation MSE: 1.6250, Validation MAE: 0.9347\n"
     ]
    },
    {
     "name": "stderr",
     "output_type": "stream",
     "text": [
      "Training Epoch 432: 100%|██████████| 261/261 [00:06<00:00, 40.36it/s]\n",
      "Training Epoch 433: 100%|██████████| 261/261 [11:41<00:00,  2.69s/it]\n",
      "Training Epoch 434: 100%|██████████| 261/261 [00:06<00:00, 40.84it/s]\n",
      "Training Epoch 435: 100%|██████████| 261/261 [00:06<00:00, 43.32it/s]\n",
      "Training Epoch 436: 100%|██████████| 261/261 [00:06<00:00, 41.49it/s]\n",
      "Training Epoch 437: 100%|██████████| 261/261 [00:06<00:00, 42.10it/s]\n",
      "Training Epoch 438: 100%|██████████| 261/261 [00:05<00:00, 45.76it/s]\n",
      "Training Epoch 439: 100%|██████████| 261/261 [00:05<00:00, 46.46it/s]\n",
      "Training Epoch 440: 100%|██████████| 261/261 [00:05<00:00, 46.85it/s]\n",
      "Training Epoch 441: 100%|██████████| 261/261 [16:39<00:00,  3.83s/it]\n"
     ]
    },
    {
     "name": "stdout",
     "output_type": "stream",
     "text": [
      "Epoch 440 - Train Loss: 0.2678, Train MSE: 0.2678, Train MAE: 0.3924\n",
      "Epoch 440 - Validation Loss: 1.6360, Validation MSE: 1.6371, Validation MAE: 0.9431\n"
     ]
    },
    {
     "name": "stderr",
     "output_type": "stream",
     "text": [
      "Training Epoch 442: 100%|██████████| 261/261 [16:02<00:00,  3.69s/it]  \n",
      "Training Epoch 443: 100%|██████████| 261/261 [00:06<00:00, 37.79it/s]\n",
      "Training Epoch 444: 100%|██████████| 261/261 [00:06<00:00, 40.88it/s]\n",
      "Training Epoch 445: 100%|██████████| 261/261 [00:06<00:00, 42.36it/s]\n",
      "Training Epoch 446: 100%|██████████| 261/261 [00:06<00:00, 43.40it/s]\n",
      "Training Epoch 447: 100%|██████████| 261/261 [00:06<00:00, 43.29it/s]\n",
      "Training Epoch 448: 100%|██████████| 261/261 [00:05<00:00, 44.82it/s]\n",
      "Training Epoch 449: 100%|██████████| 261/261 [00:06<00:00, 39.17it/s]\n",
      "Training Epoch 450: 100%|██████████| 261/261 [16:43<00:00,  3.84s/it]\n",
      "Training Epoch 451: 100%|██████████| 261/261 [00:07<00:00, 36.68it/s]\n"
     ]
    },
    {
     "name": "stdout",
     "output_type": "stream",
     "text": [
      "Epoch 450 - Train Loss: 0.2673, Train MSE: 0.2673, Train MAE: 0.3905\n",
      "Epoch 450 - Validation Loss: 1.6717, Validation MSE: 1.6731, Validation MAE: 0.9422\n"
     ]
    },
    {
     "name": "stderr",
     "output_type": "stream",
     "text": [
      "Training Epoch 452: 100%|██████████| 261/261 [00:06<00:00, 40.93it/s]\n",
      "Training Epoch 453: 100%|██████████| 261/261 [00:06<00:00, 41.69it/s]\n",
      "Training Epoch 454: 100%|██████████| 261/261 [00:05<00:00, 44.11it/s]\n",
      "Training Epoch 455: 100%|██████████| 261/261 [00:05<00:00, 45.34it/s]\n",
      "Training Epoch 456: 100%|██████████| 261/261 [00:05<00:00, 46.21it/s]\n",
      "Training Epoch 457: 100%|██████████| 261/261 [00:05<00:00, 46.75it/s]\n",
      "Training Epoch 458: 100%|██████████| 261/261 [00:05<00:00, 46.90it/s]\n",
      "Training Epoch 459: 100%|██████████| 261/261 [03:27<00:00,  1.26it/s] \n",
      "Training Epoch 460: 100%|██████████| 261/261 [00:03<00:00, 65.99it/s]\n",
      "Training Epoch 461: 100%|██████████| 261/261 [00:04<00:00, 52.46it/s]\n"
     ]
    },
    {
     "name": "stdout",
     "output_type": "stream",
     "text": [
      "Epoch 460 - Train Loss: 0.2526, Train MSE: 0.2525, Train MAE: 0.3792\n",
      "Epoch 460 - Validation Loss: 1.6504, Validation MSE: 1.6516, Validation MAE: 0.9436\n"
     ]
    },
    {
     "name": "stderr",
     "output_type": "stream",
     "text": [
      "Training Epoch 462: 100%|██████████| 261/261 [00:04<00:00, 65.25it/s]\n",
      "Training Epoch 463: 100%|██████████| 261/261 [00:03<00:00, 68.42it/s]\n",
      "Training Epoch 464: 100%|██████████| 261/261 [00:04<00:00, 63.69it/s]\n",
      "Training Epoch 465: 100%|██████████| 261/261 [00:04<00:00, 62.18it/s]\n",
      "Training Epoch 466: 100%|██████████| 261/261 [00:05<00:00, 50.83it/s]\n",
      "Training Epoch 467: 100%|██████████| 261/261 [00:03<00:00, 66.88it/s]\n",
      "Training Epoch 468: 100%|██████████| 261/261 [00:04<00:00, 64.81it/s]\n",
      "Training Epoch 469: 100%|██████████| 261/261 [00:04<00:00, 65.01it/s]\n",
      "Training Epoch 470: 100%|██████████| 261/261 [00:03<00:00, 69.64it/s]\n",
      "Training Epoch 471: 100%|██████████| 261/261 [00:03<00:00, 71.34it/s]\n"
     ]
    },
    {
     "name": "stdout",
     "output_type": "stream",
     "text": [
      "Epoch 470 - Train Loss: 0.2491, Train MSE: 0.2492, Train MAE: 0.3790\n",
      "Epoch 470 - Validation Loss: 1.6165, Validation MSE: 1.6178, Validation MAE: 0.9330\n"
     ]
    },
    {
     "name": "stderr",
     "output_type": "stream",
     "text": [
      "Training Epoch 472: 100%|██████████| 261/261 [00:03<00:00, 67.26it/s]\n",
      "Training Epoch 473: 100%|██████████| 261/261 [00:03<00:00, 67.31it/s]\n",
      "Training Epoch 474: 100%|██████████| 261/261 [00:03<00:00, 69.48it/s]\n",
      "Training Epoch 475: 100%|██████████| 261/261 [00:03<00:00, 71.30it/s]\n",
      "Training Epoch 476: 100%|██████████| 261/261 [00:03<00:00, 76.04it/s]\n",
      "Training Epoch 477: 100%|██████████| 261/261 [00:03<00:00, 75.84it/s]\n",
      "Training Epoch 478: 100%|██████████| 261/261 [00:03<00:00, 72.38it/s]\n",
      "Training Epoch 479: 100%|██████████| 261/261 [00:03<00:00, 76.46it/s]\n",
      "Training Epoch 480: 100%|██████████| 261/261 [00:03<00:00, 76.49it/s]\n",
      "Training Epoch 481: 100%|██████████| 261/261 [00:03<00:00, 71.75it/s]\n"
     ]
    },
    {
     "name": "stdout",
     "output_type": "stream",
     "text": [
      "Epoch 480 - Train Loss: 0.2583, Train MSE: 0.2583, Train MAE: 0.3813\n",
      "Epoch 480 - Validation Loss: 1.6723, Validation MSE: 1.6739, Validation MAE: 0.9430\n"
     ]
    },
    {
     "name": "stderr",
     "output_type": "stream",
     "text": [
      "Training Epoch 482: 100%|██████████| 261/261 [00:03<00:00, 75.65it/s]\n",
      "Training Epoch 483: 100%|██████████| 261/261 [00:03<00:00, 72.79it/s]\n",
      "Training Epoch 484: 100%|██████████| 261/261 [00:03<00:00, 75.82it/s]\n",
      "Training Epoch 485: 100%|██████████| 261/261 [00:03<00:00, 75.04it/s]\n",
      "Training Epoch 486: 100%|██████████| 261/261 [00:03<00:00, 76.09it/s]\n",
      "Training Epoch 487: 100%|██████████| 261/261 [00:03<00:00, 75.89it/s]\n",
      "Training Epoch 488: 100%|██████████| 261/261 [00:03<00:00, 76.42it/s]\n",
      "Training Epoch 489: 100%|██████████| 261/261 [00:03<00:00, 77.93it/s]\n",
      "Training Epoch 490: 100%|██████████| 261/261 [00:03<00:00, 76.36it/s]\n",
      "Training Epoch 491: 100%|██████████| 261/261 [00:03<00:00, 78.30it/s]\n"
     ]
    },
    {
     "name": "stdout",
     "output_type": "stream",
     "text": [
      "Epoch 490 - Train Loss: 0.2448, Train MSE: 0.2448, Train MAE: 0.3729\n",
      "Epoch 490 - Validation Loss: 1.6486, Validation MSE: 1.6498, Validation MAE: 0.9419\n"
     ]
    },
    {
     "name": "stderr",
     "output_type": "stream",
     "text": [
      "Training Epoch 492: 100%|██████████| 261/261 [00:03<00:00, 78.27it/s]\n",
      "Training Epoch 493: 100%|██████████| 261/261 [00:03<00:00, 77.12it/s]\n",
      "Training Epoch 494: 100%|██████████| 261/261 [00:03<00:00, 76.47it/s]\n",
      "Training Epoch 495: 100%|██████████| 261/261 [00:03<00:00, 74.57it/s]\n",
      "Training Epoch 496: 100%|██████████| 261/261 [00:03<00:00, 78.91it/s]\n",
      "Training Epoch 497: 100%|██████████| 261/261 [00:03<00:00, 76.99it/s]\n",
      "Training Epoch 498: 100%|██████████| 261/261 [00:03<00:00, 72.82it/s]\n",
      "Training Epoch 499: 100%|██████████| 261/261 [00:03<00:00, 76.12it/s]\n",
      "Training Epoch 500: 100%|██████████| 261/261 [00:03<00:00, 78.64it/s]\n",
      "Training Epoch 501: 100%|██████████| 261/261 [00:03<00:00, 78.38it/s]\n"
     ]
    },
    {
     "name": "stdout",
     "output_type": "stream",
     "text": [
      "Epoch 500 - Train Loss: 0.2478, Train MSE: 0.2477, Train MAE: 0.3773\n",
      "Epoch 500 - Validation Loss: 1.6894, Validation MSE: 1.6909, Validation MAE: 0.9465\n"
     ]
    },
    {
     "name": "stderr",
     "output_type": "stream",
     "text": [
      "Training Epoch 502: 100%|██████████| 261/261 [00:03<00:00, 75.48it/s]\n",
      "Training Epoch 503: 100%|██████████| 261/261 [00:03<00:00, 71.66it/s]\n",
      "Training Epoch 504: 100%|██████████| 261/261 [00:03<00:00, 74.07it/s]\n",
      "Training Epoch 505: 100%|██████████| 261/261 [00:03<00:00, 77.58it/s]\n",
      "Training Epoch 506: 100%|██████████| 261/261 [00:03<00:00, 77.04it/s]\n",
      "Training Epoch 507: 100%|██████████| 261/261 [00:03<00:00, 72.26it/s]\n",
      "Training Epoch 508: 100%|██████████| 261/261 [00:03<00:00, 78.91it/s]\n",
      "Training Epoch 509: 100%|██████████| 261/261 [00:03<00:00, 75.56it/s]\n",
      "Training Epoch 510: 100%|██████████| 261/261 [00:03<00:00, 78.40it/s]\n",
      "Training Epoch 511: 100%|██████████| 261/261 [00:03<00:00, 78.11it/s]\n"
     ]
    },
    {
     "name": "stdout",
     "output_type": "stream",
     "text": [
      "Epoch 510 - Train Loss: 0.2374, Train MSE: 0.2374, Train MAE: 0.3695\n",
      "Epoch 510 - Validation Loss: 1.6303, Validation MSE: 1.6316, Validation MAE: 0.9324\n"
     ]
    },
    {
     "name": "stderr",
     "output_type": "stream",
     "text": [
      "Training Epoch 512: 100%|██████████| 261/261 [00:03<00:00, 76.30it/s]\n",
      "Training Epoch 513: 100%|██████████| 261/261 [00:03<00:00, 76.29it/s]\n",
      "Training Epoch 514: 100%|██████████| 261/261 [00:03<00:00, 73.98it/s]\n",
      "Training Epoch 515: 100%|██████████| 261/261 [00:03<00:00, 76.04it/s]\n",
      "Training Epoch 516: 100%|██████████| 261/261 [00:03<00:00, 74.87it/s]\n",
      "Training Epoch 517: 100%|██████████| 261/261 [00:03<00:00, 74.87it/s]\n",
      "Training Epoch 518: 100%|██████████| 261/261 [00:03<00:00, 77.74it/s]\n",
      "Training Epoch 519: 100%|██████████| 261/261 [00:03<00:00, 78.30it/s]\n",
      "Training Epoch 520: 100%|██████████| 261/261 [00:03<00:00, 75.68it/s]\n",
      "Training Epoch 521: 100%|██████████| 261/261 [00:03<00:00, 78.71it/s]\n"
     ]
    },
    {
     "name": "stdout",
     "output_type": "stream",
     "text": [
      "Epoch 520 - Train Loss: 0.2315, Train MSE: 0.2315, Train MAE: 0.3643\n",
      "Epoch 520 - Validation Loss: 1.6448, Validation MSE: 1.6461, Validation MAE: 0.9422\n"
     ]
    },
    {
     "name": "stderr",
     "output_type": "stream",
     "text": [
      "Training Epoch 522: 100%|██████████| 261/261 [00:03<00:00, 76.81it/s]\n",
      "Training Epoch 523: 100%|██████████| 261/261 [00:03<00:00, 75.45it/s]\n",
      "Training Epoch 524: 100%|██████████| 261/261 [00:03<00:00, 79.29it/s]\n",
      "Training Epoch 525: 100%|██████████| 261/261 [00:03<00:00, 76.17it/s]\n",
      "Training Epoch 526: 100%|██████████| 261/261 [00:03<00:00, 80.19it/s]\n",
      "Training Epoch 527: 100%|██████████| 261/261 [00:03<00:00, 78.43it/s]\n",
      "Training Epoch 528: 100%|██████████| 261/261 [00:03<00:00, 80.40it/s]\n",
      "Training Epoch 529: 100%|██████████| 261/261 [00:03<00:00, 77.86it/s]\n",
      "Training Epoch 530: 100%|██████████| 261/261 [00:03<00:00, 77.08it/s]\n",
      "Training Epoch 531: 100%|██████████| 261/261 [00:03<00:00, 70.20it/s]\n"
     ]
    },
    {
     "name": "stdout",
     "output_type": "stream",
     "text": [
      "Epoch 530 - Train Loss: 0.2377, Train MSE: 0.2377, Train MAE: 0.3667\n",
      "Epoch 530 - Validation Loss: 1.6721, Validation MSE: 1.6734, Validation MAE: 0.9429\n"
     ]
    },
    {
     "name": "stderr",
     "output_type": "stream",
     "text": [
      "Training Epoch 532: 100%|██████████| 261/261 [00:03<00:00, 75.65it/s]\n",
      "Training Epoch 533: 100%|██████████| 261/261 [00:03<00:00, 71.99it/s]\n",
      "Training Epoch 534: 100%|██████████| 261/261 [00:03<00:00, 74.61it/s]\n",
      "Training Epoch 535: 100%|██████████| 261/261 [00:03<00:00, 77.79it/s]\n",
      "Training Epoch 536: 100%|██████████| 261/261 [00:03<00:00, 81.43it/s]\n",
      "Training Epoch 537: 100%|██████████| 261/261 [00:03<00:00, 78.92it/s]\n",
      "Training Epoch 538: 100%|██████████| 261/261 [00:03<00:00, 76.72it/s]\n",
      "Training Epoch 539: 100%|██████████| 261/261 [00:03<00:00, 75.43it/s]\n",
      "Training Epoch 540: 100%|██████████| 261/261 [00:03<00:00, 76.19it/s]\n",
      "Training Epoch 541: 100%|██████████| 261/261 [00:03<00:00, 78.01it/s]\n"
     ]
    },
    {
     "name": "stdout",
     "output_type": "stream",
     "text": [
      "Epoch 540 - Train Loss: 0.2363, Train MSE: 0.2363, Train MAE: 0.3677\n",
      "Epoch 540 - Validation Loss: 1.6712, Validation MSE: 1.6723, Validation MAE: 0.9423\n"
     ]
    },
    {
     "name": "stderr",
     "output_type": "stream",
     "text": [
      "Training Epoch 542: 100%|██████████| 261/261 [00:03<00:00, 81.01it/s]\n",
      "Training Epoch 543: 100%|██████████| 261/261 [00:03<00:00, 76.19it/s]\n",
      "Training Epoch 544: 100%|██████████| 261/261 [00:03<00:00, 77.86it/s]\n",
      "Training Epoch 545: 100%|██████████| 261/261 [00:03<00:00, 79.27it/s]\n",
      "Training Epoch 546: 100%|██████████| 261/261 [00:03<00:00, 73.89it/s]\n",
      "Training Epoch 547: 100%|██████████| 261/261 [00:03<00:00, 74.98it/s]\n",
      "Training Epoch 548: 100%|██████████| 261/261 [00:03<00:00, 72.29it/s]\n",
      "Training Epoch 549: 100%|██████████| 261/261 [00:03<00:00, 74.73it/s]\n",
      "Training Epoch 550: 100%|██████████| 261/261 [00:03<00:00, 77.33it/s]\n",
      "Training Epoch 551: 100%|██████████| 261/261 [00:03<00:00, 80.28it/s]\n"
     ]
    },
    {
     "name": "stdout",
     "output_type": "stream",
     "text": [
      "Epoch 550 - Train Loss: 0.2312, Train MSE: 0.2312, Train MAE: 0.3599\n",
      "Epoch 550 - Validation Loss: 1.6206, Validation MSE: 1.6220, Validation MAE: 0.9303\n"
     ]
    },
    {
     "name": "stderr",
     "output_type": "stream",
     "text": [
      "Training Epoch 552: 100%|██████████| 261/261 [00:03<00:00, 76.52it/s]\n",
      "Training Epoch 553: 100%|██████████| 261/261 [00:03<00:00, 78.88it/s]\n",
      "Training Epoch 554: 100%|██████████| 261/261 [00:03<00:00, 79.38it/s]\n",
      "Training Epoch 555: 100%|██████████| 261/261 [00:03<00:00, 78.27it/s]\n",
      "Training Epoch 556: 100%|██████████| 261/261 [00:03<00:00, 76.28it/s]\n",
      "Training Epoch 557: 100%|██████████| 261/261 [00:03<00:00, 71.93it/s]\n",
      "Training Epoch 558: 100%|██████████| 261/261 [00:03<00:00, 73.21it/s]\n",
      "Training Epoch 559: 100%|██████████| 261/261 [00:03<00:00, 73.22it/s]\n",
      "Training Epoch 560: 100%|██████████| 261/261 [00:03<00:00, 74.24it/s]\n",
      "Training Epoch 561: 100%|██████████| 261/261 [00:03<00:00, 76.79it/s]\n"
     ]
    },
    {
     "name": "stdout",
     "output_type": "stream",
     "text": [
      "Epoch 560 - Train Loss: 0.2257, Train MSE: 0.2257, Train MAE: 0.3608\n",
      "Epoch 560 - Validation Loss: 1.6374, Validation MSE: 1.6386, Validation MAE: 0.9405\n"
     ]
    },
    {
     "name": "stderr",
     "output_type": "stream",
     "text": [
      "Training Epoch 562: 100%|██████████| 261/261 [00:03<00:00, 75.08it/s]\n",
      "Training Epoch 563: 100%|██████████| 261/261 [00:03<00:00, 75.75it/s]\n",
      "Training Epoch 564: 100%|██████████| 261/261 [00:03<00:00, 66.21it/s]\n",
      "Training Epoch 565: 100%|██████████| 261/261 [00:03<00:00, 73.78it/s]\n",
      "Training Epoch 566: 100%|██████████| 261/261 [00:03<00:00, 74.99it/s]\n",
      "Training Epoch 567: 100%|██████████| 261/261 [00:03<00:00, 74.76it/s]\n",
      "Training Epoch 568: 100%|██████████| 261/261 [00:03<00:00, 76.48it/s]\n",
      "Training Epoch 569: 100%|██████████| 261/261 [00:03<00:00, 73.65it/s]\n",
      "Training Epoch 570: 100%|██████████| 261/261 [00:03<00:00, 78.25it/s]\n",
      "Training Epoch 571: 100%|██████████| 261/261 [00:03<00:00, 77.60it/s]\n"
     ]
    },
    {
     "name": "stdout",
     "output_type": "stream",
     "text": [
      "Epoch 570 - Train Loss: 0.2273, Train MSE: 0.2273, Train MAE: 0.3592\n",
      "Epoch 570 - Validation Loss: 1.6259, Validation MSE: 1.6274, Validation MAE: 0.9342\n"
     ]
    },
    {
     "name": "stderr",
     "output_type": "stream",
     "text": [
      "Training Epoch 572: 100%|██████████| 261/261 [00:03<00:00, 77.88it/s]\n",
      "Training Epoch 573: 100%|██████████| 261/261 [00:03<00:00, 75.36it/s]\n",
      "Training Epoch 574: 100%|██████████| 261/261 [00:03<00:00, 80.14it/s]\n",
      "Training Epoch 575: 100%|██████████| 261/261 [00:03<00:00, 76.36it/s]\n",
      "Training Epoch 576: 100%|██████████| 261/261 [00:03<00:00, 77.25it/s]\n",
      "Training Epoch 577: 100%|██████████| 261/261 [00:03<00:00, 78.19it/s]\n",
      "Training Epoch 578: 100%|██████████| 261/261 [00:03<00:00, 75.84it/s]\n",
      "Training Epoch 579: 100%|██████████| 261/261 [00:03<00:00, 78.74it/s]\n",
      "Training Epoch 580: 100%|██████████| 261/261 [00:03<00:00, 73.82it/s]\n",
      "Training Epoch 581: 100%|██████████| 261/261 [00:03<00:00, 72.08it/s]\n"
     ]
    },
    {
     "name": "stdout",
     "output_type": "stream",
     "text": [
      "Epoch 580 - Train Loss: 0.2298, Train MSE: 0.2298, Train MAE: 0.3611\n",
      "Epoch 580 - Validation Loss: 1.6743, Validation MSE: 1.6758, Validation MAE: 0.9390\n"
     ]
    },
    {
     "name": "stderr",
     "output_type": "stream",
     "text": [
      "Training Epoch 582: 100%|██████████| 261/261 [00:03<00:00, 74.73it/s]\n",
      "Training Epoch 583: 100%|██████████| 261/261 [00:03<00:00, 76.85it/s]\n",
      "Training Epoch 584: 100%|██████████| 261/261 [00:03<00:00, 75.93it/s]\n",
      "Training Epoch 585: 100%|██████████| 261/261 [00:03<00:00, 79.48it/s]\n",
      "Training Epoch 586: 100%|██████████| 261/261 [00:03<00:00, 77.47it/s]\n",
      "Training Epoch 587: 100%|██████████| 261/261 [00:03<00:00, 77.21it/s]\n",
      "Training Epoch 588: 100%|██████████| 261/261 [00:03<00:00, 77.18it/s]\n",
      "Training Epoch 589: 100%|██████████| 261/261 [00:03<00:00, 79.29it/s]\n",
      "Training Epoch 590: 100%|██████████| 261/261 [00:03<00:00, 76.45it/s]\n",
      "Training Epoch 591: 100%|██████████| 261/261 [00:03<00:00, 77.53it/s]\n"
     ]
    },
    {
     "name": "stdout",
     "output_type": "stream",
     "text": [
      "Epoch 590 - Train Loss: 0.2198, Train MSE: 0.2197, Train MAE: 0.3538\n",
      "Epoch 590 - Validation Loss: 1.6340, Validation MSE: 1.6352, Validation MAE: 0.9291\n"
     ]
    },
    {
     "name": "stderr",
     "output_type": "stream",
     "text": [
      "Training Epoch 592: 100%|██████████| 261/261 [00:03<00:00, 75.50it/s]\n",
      "Training Epoch 593: 100%|██████████| 261/261 [00:03<00:00, 74.93it/s]\n",
      "Training Epoch 594: 100%|██████████| 261/261 [00:03<00:00, 77.54it/s]\n",
      "Training Epoch 595: 100%|██████████| 261/261 [00:03<00:00, 77.35it/s]\n",
      "Training Epoch 596: 100%|██████████| 261/261 [00:03<00:00, 76.37it/s]\n",
      "Training Epoch 597: 100%|██████████| 261/261 [00:03<00:00, 71.45it/s]\n",
      "Training Epoch 598: 100%|██████████| 261/261 [00:03<00:00, 75.22it/s]\n",
      "Training Epoch 599: 100%|██████████| 261/261 [00:03<00:00, 76.98it/s]\n",
      "Training Epoch 600: 100%|██████████| 261/261 [00:03<00:00, 72.79it/s]\n",
      "Training Epoch 601: 100%|██████████| 261/261 [00:03<00:00, 77.76it/s]\n"
     ]
    },
    {
     "name": "stdout",
     "output_type": "stream",
     "text": [
      "Epoch 600 - Train Loss: 0.2306, Train MSE: 0.2306, Train MAE: 0.3600\n",
      "Epoch 600 - Validation Loss: 1.6647, Validation MSE: 1.6663, Validation MAE: 0.9347\n"
     ]
    },
    {
     "name": "stderr",
     "output_type": "stream",
     "text": [
      "Training Epoch 602: 100%|██████████| 261/261 [00:03<00:00, 76.25it/s]\n",
      "Training Epoch 603: 100%|██████████| 261/261 [00:03<00:00, 73.69it/s]\n",
      "Training Epoch 604: 100%|██████████| 261/261 [00:03<00:00, 74.06it/s]\n",
      "Training Epoch 605: 100%|██████████| 261/261 [00:03<00:00, 77.20it/s]\n",
      "Training Epoch 606: 100%|██████████| 261/261 [00:03<00:00, 79.72it/s]\n",
      "Training Epoch 607: 100%|██████████| 261/261 [00:03<00:00, 77.87it/s]\n",
      "Training Epoch 608: 100%|██████████| 261/261 [00:03<00:00, 78.70it/s]\n",
      "Training Epoch 609: 100%|██████████| 261/261 [00:03<00:00, 75.86it/s]\n",
      "Training Epoch 610: 100%|██████████| 261/261 [00:03<00:00, 78.28it/s]\n",
      "Training Epoch 611: 100%|██████████| 261/261 [00:03<00:00, 78.00it/s]\n"
     ]
    },
    {
     "name": "stdout",
     "output_type": "stream",
     "text": [
      "Epoch 610 - Train Loss: 0.2113, Train MSE: 0.2113, Train MAE: 0.3457\n",
      "Epoch 610 - Validation Loss: 1.6416, Validation MSE: 1.6433, Validation MAE: 0.9363\n"
     ]
    },
    {
     "name": "stderr",
     "output_type": "stream",
     "text": [
      "Training Epoch 612: 100%|██████████| 261/261 [00:03<00:00, 73.56it/s]\n",
      "Training Epoch 613: 100%|██████████| 261/261 [00:03<00:00, 70.10it/s]\n",
      "Training Epoch 614: 100%|██████████| 261/261 [00:03<00:00, 74.38it/s]\n",
      "Training Epoch 615: 100%|██████████| 261/261 [00:03<00:00, 70.78it/s]\n",
      "Training Epoch 616: 100%|██████████| 261/261 [00:03<00:00, 69.41it/s]\n",
      "Training Epoch 617: 100%|██████████| 261/261 [00:03<00:00, 68.44it/s]\n",
      "Training Epoch 618: 100%|██████████| 261/261 [00:03<00:00, 70.59it/s]\n",
      "Training Epoch 619: 100%|██████████| 261/261 [00:03<00:00, 77.42it/s]\n",
      "Training Epoch 620: 100%|██████████| 261/261 [00:04<00:00, 60.86it/s]\n",
      "Training Epoch 621: 100%|██████████| 261/261 [00:03<00:00, 68.88it/s]\n"
     ]
    },
    {
     "name": "stdout",
     "output_type": "stream",
     "text": [
      "Epoch 620 - Train Loss: 0.2189, Train MSE: 0.2189, Train MAE: 0.3521\n",
      "Epoch 620 - Validation Loss: 1.6814, Validation MSE: 1.6831, Validation MAE: 0.9440\n"
     ]
    },
    {
     "name": "stderr",
     "output_type": "stream",
     "text": [
      "Training Epoch 622: 100%|██████████| 261/261 [00:03<00:00, 72.92it/s]\n",
      "Training Epoch 623: 100%|██████████| 261/261 [00:03<00:00, 75.72it/s]\n",
      "Training Epoch 624: 100%|██████████| 261/261 [00:03<00:00, 74.25it/s]\n",
      "Training Epoch 625: 100%|██████████| 261/261 [00:03<00:00, 70.32it/s]\n",
      "Training Epoch 626: 100%|██████████| 261/261 [00:03<00:00, 76.87it/s]\n",
      "Training Epoch 627: 100%|██████████| 261/261 [00:03<00:00, 75.97it/s]\n",
      "Training Epoch 628: 100%|██████████| 261/261 [00:03<00:00, 71.95it/s]\n",
      "Training Epoch 629: 100%|██████████| 261/261 [00:03<00:00, 72.42it/s]\n",
      "Training Epoch 630: 100%|██████████| 261/261 [00:03<00:00, 71.32it/s]\n",
      "Training Epoch 631: 100%|██████████| 261/261 [00:03<00:00, 73.89it/s]\n"
     ]
    },
    {
     "name": "stdout",
     "output_type": "stream",
     "text": [
      "Epoch 630 - Train Loss: 0.2163, Train MSE: 0.2163, Train MAE: 0.3493\n",
      "Epoch 630 - Validation Loss: 1.5985, Validation MSE: 1.5998, Validation MAE: 0.9223\n"
     ]
    },
    {
     "name": "stderr",
     "output_type": "stream",
     "text": [
      "Training Epoch 632: 100%|██████████| 261/261 [00:03<00:00, 74.33it/s]\n",
      "Training Epoch 633: 100%|██████████| 261/261 [00:03<00:00, 74.61it/s]\n",
      "Training Epoch 634: 100%|██████████| 261/261 [00:03<00:00, 74.15it/s]\n",
      "Training Epoch 635: 100%|██████████| 261/261 [00:03<00:00, 79.36it/s]\n",
      "Training Epoch 636: 100%|██████████| 261/261 [00:03<00:00, 68.51it/s]\n",
      "Training Epoch 637: 100%|██████████| 261/261 [00:03<00:00, 72.55it/s]\n",
      "Training Epoch 638: 100%|██████████| 261/261 [00:03<00:00, 76.22it/s]\n",
      "Training Epoch 639: 100%|██████████| 261/261 [00:03<00:00, 79.66it/s]\n",
      "Training Epoch 640: 100%|██████████| 261/261 [00:03<00:00, 81.48it/s]\n",
      "Training Epoch 641: 100%|██████████| 261/261 [00:03<00:00, 79.30it/s]\n"
     ]
    },
    {
     "name": "stdout",
     "output_type": "stream",
     "text": [
      "Epoch 640 - Train Loss: 0.2160, Train MSE: 0.2160, Train MAE: 0.3504\n",
      "Epoch 640 - Validation Loss: 1.6472, Validation MSE: 1.6485, Validation MAE: 0.9371\n"
     ]
    },
    {
     "name": "stderr",
     "output_type": "stream",
     "text": [
      "Training Epoch 642: 100%|██████████| 261/261 [00:03<00:00, 82.74it/s]\n",
      "Training Epoch 643: 100%|██████████| 261/261 [00:03<00:00, 83.28it/s]\n",
      "Training Epoch 644: 100%|██████████| 261/261 [00:03<00:00, 85.24it/s]\n",
      "Training Epoch 645: 100%|██████████| 261/261 [00:03<00:00, 81.73it/s]\n",
      "Training Epoch 646: 100%|██████████| 261/261 [00:03<00:00, 83.60it/s]\n",
      "Training Epoch 647: 100%|██████████| 261/261 [00:03<00:00, 81.82it/s]\n",
      "Training Epoch 648: 100%|██████████| 261/261 [00:03<00:00, 84.13it/s]\n",
      "Training Epoch 649: 100%|██████████| 261/261 [00:03<00:00, 80.51it/s]\n",
      "Training Epoch 650: 100%|██████████| 261/261 [00:03<00:00, 82.88it/s]\n",
      "Training Epoch 651: 100%|██████████| 261/261 [00:03<00:00, 84.42it/s]\n"
     ]
    },
    {
     "name": "stdout",
     "output_type": "stream",
     "text": [
      "Epoch 650 - Train Loss: 0.2065, Train MSE: 0.2065, Train MAE: 0.3406\n",
      "Epoch 650 - Validation Loss: 1.6152, Validation MSE: 1.6165, Validation MAE: 0.9309\n"
     ]
    },
    {
     "name": "stderr",
     "output_type": "stream",
     "text": [
      "Training Epoch 652: 100%|██████████| 261/261 [00:03<00:00, 84.35it/s]\n",
      "Training Epoch 653: 100%|██████████| 261/261 [00:03<00:00, 83.32it/s]\n",
      "Training Epoch 654: 100%|██████████| 261/261 [00:03<00:00, 85.77it/s]\n",
      "Training Epoch 655: 100%|██████████| 261/261 [00:03<00:00, 81.10it/s]\n",
      "Training Epoch 656: 100%|██████████| 261/261 [00:02<00:00, 87.77it/s]\n",
      "Training Epoch 657: 100%|██████████| 261/261 [00:03<00:00, 83.53it/s]\n",
      "Training Epoch 658: 100%|██████████| 261/261 [00:03<00:00, 84.79it/s]\n",
      "Training Epoch 659: 100%|██████████| 261/261 [00:03<00:00, 84.82it/s]\n",
      "Training Epoch 660: 100%|██████████| 261/261 [00:03<00:00, 86.32it/s]\n",
      "Training Epoch 661: 100%|██████████| 261/261 [00:02<00:00, 88.04it/s]\n"
     ]
    },
    {
     "name": "stdout",
     "output_type": "stream",
     "text": [
      "Epoch 660 - Train Loss: 0.2100, Train MSE: 0.2100, Train MAE: 0.3454\n",
      "Epoch 660 - Validation Loss: 1.6155, Validation MSE: 1.6168, Validation MAE: 0.9262\n"
     ]
    },
    {
     "name": "stderr",
     "output_type": "stream",
     "text": [
      "Training Epoch 662: 100%|██████████| 261/261 [00:03<00:00, 83.62it/s]\n",
      "Training Epoch 663: 100%|██████████| 261/261 [00:03<00:00, 85.63it/s]\n",
      "Training Epoch 664: 100%|██████████| 261/261 [00:03<00:00, 80.79it/s]\n",
      "Training Epoch 665: 100%|██████████| 261/261 [00:03<00:00, 83.07it/s]\n",
      "Training Epoch 666: 100%|██████████| 261/261 [00:03<00:00, 80.18it/s]\n",
      "Training Epoch 667: 100%|██████████| 261/261 [00:03<00:00, 85.63it/s]\n",
      "Training Epoch 668: 100%|██████████| 261/261 [00:03<00:00, 83.75it/s]\n",
      "Training Epoch 669: 100%|██████████| 261/261 [00:03<00:00, 85.42it/s]\n",
      "Training Epoch 670: 100%|██████████| 261/261 [00:03<00:00, 84.16it/s]\n",
      "Training Epoch 671: 100%|██████████| 261/261 [00:03<00:00, 83.60it/s]\n"
     ]
    },
    {
     "name": "stdout",
     "output_type": "stream",
     "text": [
      "Epoch 670 - Train Loss: 0.2093, Train MSE: 0.2093, Train MAE: 0.3433\n",
      "Epoch 670 - Validation Loss: 1.6447, Validation MSE: 1.6461, Validation MAE: 0.9304\n"
     ]
    },
    {
     "name": "stderr",
     "output_type": "stream",
     "text": [
      "Training Epoch 672: 100%|██████████| 261/261 [00:03<00:00, 83.58it/s]\n",
      "Training Epoch 673: 100%|██████████| 261/261 [00:03<00:00, 82.99it/s]\n",
      "Training Epoch 674: 100%|██████████| 261/261 [00:03<00:00, 86.08it/s]\n",
      "Training Epoch 675: 100%|██████████| 261/261 [00:03<00:00, 86.01it/s]\n",
      "Training Epoch 676: 100%|██████████| 261/261 [00:02<00:00, 87.37it/s]\n",
      "Training Epoch 677: 100%|██████████| 261/261 [00:03<00:00, 80.56it/s]\n",
      "Training Epoch 678: 100%|██████████| 261/261 [00:03<00:00, 84.33it/s]\n",
      "Training Epoch 679: 100%|██████████| 261/261 [00:03<00:00, 79.61it/s]\n",
      "Training Epoch 680: 100%|██████████| 261/261 [00:03<00:00, 85.45it/s]\n",
      "Training Epoch 681: 100%|██████████| 261/261 [00:03<00:00, 83.84it/s]\n"
     ]
    },
    {
     "name": "stdout",
     "output_type": "stream",
     "text": [
      "Epoch 680 - Train Loss: 0.2010, Train MSE: 0.2009, Train MAE: 0.3367\n",
      "Epoch 680 - Validation Loss: 1.6788, Validation MSE: 1.6802, Validation MAE: 0.9456\n"
     ]
    },
    {
     "name": "stderr",
     "output_type": "stream",
     "text": [
      "Training Epoch 682: 100%|██████████| 261/261 [00:03<00:00, 83.71it/s]\n",
      "Training Epoch 683: 100%|██████████| 261/261 [00:03<00:00, 83.81it/s]\n",
      "Training Epoch 684: 100%|██████████| 261/261 [00:03<00:00, 85.85it/s]\n",
      "Training Epoch 685: 100%|██████████| 261/261 [00:03<00:00, 83.96it/s]\n",
      "Training Epoch 686: 100%|██████████| 261/261 [00:03<00:00, 82.19it/s]\n",
      "Training Epoch 687: 100%|██████████| 261/261 [00:03<00:00, 82.47it/s]\n",
      "Training Epoch 688: 100%|██████████| 261/261 [00:03<00:00, 85.44it/s]\n",
      "Training Epoch 689: 100%|██████████| 261/261 [00:03<00:00, 83.27it/s]\n",
      "Training Epoch 690: 100%|██████████| 261/261 [00:03<00:00, 85.50it/s]\n",
      "Training Epoch 691: 100%|██████████| 261/261 [00:03<00:00, 80.24it/s]\n"
     ]
    },
    {
     "name": "stdout",
     "output_type": "stream",
     "text": [
      "Epoch 690 - Train Loss: 0.2030, Train MSE: 0.2030, Train MAE: 0.3386\n",
      "Epoch 690 - Validation Loss: 1.6388, Validation MSE: 1.6401, Validation MAE: 0.9343\n"
     ]
    },
    {
     "name": "stderr",
     "output_type": "stream",
     "text": [
      "Training Epoch 692: 100%|██████████| 261/261 [00:03<00:00, 84.31it/s]\n",
      "Training Epoch 693: 100%|██████████| 261/261 [00:03<00:00, 85.23it/s]\n",
      "Training Epoch 694: 100%|██████████| 261/261 [00:03<00:00, 81.79it/s]\n",
      "Training Epoch 695: 100%|██████████| 261/261 [00:03<00:00, 78.69it/s]\n",
      "Training Epoch 696: 100%|██████████| 261/261 [00:03<00:00, 83.26it/s]\n",
      "Training Epoch 697: 100%|██████████| 261/261 [00:03<00:00, 84.52it/s]\n",
      "Training Epoch 698: 100%|██████████| 261/261 [00:02<00:00, 87.19it/s]\n",
      "Training Epoch 699: 100%|██████████| 261/261 [00:03<00:00, 86.64it/s]\n",
      "Training Epoch 700: 100%|██████████| 261/261 [00:03<00:00, 76.72it/s]\n",
      "Training Epoch 701: 100%|██████████| 261/261 [00:03<00:00, 77.65it/s]\n"
     ]
    },
    {
     "name": "stdout",
     "output_type": "stream",
     "text": [
      "Epoch 700 - Train Loss: 0.1971, Train MSE: 0.1971, Train MAE: 0.3314\n",
      "Epoch 700 - Validation Loss: 1.5838, Validation MSE: 1.5850, Validation MAE: 0.9214\n"
     ]
    },
    {
     "name": "stderr",
     "output_type": "stream",
     "text": [
      "Training Epoch 702: 100%|██████████| 261/261 [00:03<00:00, 82.59it/s]\n",
      "Training Epoch 703: 100%|██████████| 261/261 [00:03<00:00, 85.80it/s]\n",
      "Training Epoch 704: 100%|██████████| 261/261 [00:03<00:00, 86.05it/s]\n",
      "Training Epoch 705: 100%|██████████| 261/261 [00:03<00:00, 83.14it/s]\n",
      "Training Epoch 706: 100%|██████████| 261/261 [00:03<00:00, 83.69it/s]\n",
      "Training Epoch 707: 100%|██████████| 261/261 [00:03<00:00, 81.06it/s]\n",
      "Training Epoch 708: 100%|██████████| 261/261 [00:03<00:00, 86.81it/s]\n",
      "Training Epoch 709: 100%|██████████| 261/261 [00:03<00:00, 85.45it/s]\n",
      "Training Epoch 710: 100%|██████████| 261/261 [00:03<00:00, 85.08it/s]\n",
      "Training Epoch 711: 100%|██████████| 261/261 [00:03<00:00, 82.42it/s]\n"
     ]
    },
    {
     "name": "stdout",
     "output_type": "stream",
     "text": [
      "Epoch 710 - Train Loss: 0.2008, Train MSE: 0.2008, Train MAE: 0.3365\n",
      "Epoch 710 - Validation Loss: 1.6309, Validation MSE: 1.6322, Validation MAE: 0.9302\n"
     ]
    },
    {
     "name": "stderr",
     "output_type": "stream",
     "text": [
      "Training Epoch 712: 100%|██████████| 261/261 [00:03<00:00, 85.14it/s]\n",
      "Training Epoch 713: 100%|██████████| 261/261 [00:03<00:00, 86.23it/s]\n",
      "Training Epoch 714: 100%|██████████| 261/261 [00:03<00:00, 83.52it/s]\n",
      "Training Epoch 715: 100%|██████████| 261/261 [00:03<00:00, 84.30it/s]\n",
      "Training Epoch 716: 100%|██████████| 261/261 [00:03<00:00, 85.38it/s]\n",
      "Training Epoch 717: 100%|██████████| 261/261 [00:03<00:00, 84.27it/s]\n",
      "Training Epoch 718: 100%|██████████| 261/261 [00:03<00:00, 79.29it/s]\n",
      "Training Epoch 719: 100%|██████████| 261/261 [00:03<00:00, 83.37it/s]\n",
      "Training Epoch 720: 100%|██████████| 261/261 [00:03<00:00, 80.26it/s]\n",
      "Training Epoch 721: 100%|██████████| 261/261 [00:02<00:00, 87.07it/s]\n"
     ]
    },
    {
     "name": "stdout",
     "output_type": "stream",
     "text": [
      "Epoch 720 - Train Loss: 0.1957, Train MSE: 0.1957, Train MAE: 0.3302\n",
      "Epoch 720 - Validation Loss: 1.5726, Validation MSE: 1.5742, Validation MAE: 0.9147\n"
     ]
    },
    {
     "name": "stderr",
     "output_type": "stream",
     "text": [
      "Training Epoch 722: 100%|██████████| 261/261 [00:03<00:00, 82.22it/s]\n",
      "Training Epoch 723: 100%|██████████| 261/261 [00:03<00:00, 84.55it/s]\n",
      "Training Epoch 724: 100%|██████████| 261/261 [00:03<00:00, 84.42it/s]\n",
      "Training Epoch 725: 100%|██████████| 261/261 [00:03<00:00, 79.62it/s]\n",
      "Training Epoch 726: 100%|██████████| 261/261 [00:03<00:00, 86.16it/s]\n",
      "Training Epoch 727: 100%|██████████| 261/261 [00:03<00:00, 84.19it/s]\n",
      "Training Epoch 728: 100%|██████████| 261/261 [00:03<00:00, 84.14it/s]\n",
      "Training Epoch 729: 100%|██████████| 261/261 [00:03<00:00, 83.99it/s]\n",
      "Training Epoch 730: 100%|██████████| 261/261 [00:03<00:00, 82.82it/s]\n",
      "Training Epoch 731: 100%|██████████| 261/261 [00:02<00:00, 87.28it/s]\n"
     ]
    },
    {
     "name": "stdout",
     "output_type": "stream",
     "text": [
      "Epoch 730 - Train Loss: 0.1911, Train MSE: 0.1911, Train MAE: 0.3278\n",
      "Epoch 730 - Validation Loss: 1.6269, Validation MSE: 1.6283, Validation MAE: 0.9251\n"
     ]
    },
    {
     "name": "stderr",
     "output_type": "stream",
     "text": [
      "Training Epoch 732: 100%|██████████| 261/261 [00:03<00:00, 83.07it/s]\n",
      "Training Epoch 733: 100%|██████████| 261/261 [00:02<00:00, 87.64it/s]\n",
      "Training Epoch 734: 100%|██████████| 261/261 [00:03<00:00, 84.06it/s]\n",
      "Training Epoch 735: 100%|██████████| 261/261 [00:03<00:00, 83.00it/s]\n",
      "Training Epoch 736: 100%|██████████| 261/261 [00:03<00:00, 82.86it/s]\n",
      "Training Epoch 737: 100%|██████████| 261/261 [00:03<00:00, 83.99it/s]\n",
      "Training Epoch 738: 100%|██████████| 261/261 [00:03<00:00, 81.73it/s]\n",
      "Training Epoch 739: 100%|██████████| 261/261 [00:03<00:00, 83.52it/s]\n",
      "Training Epoch 740: 100%|██████████| 261/261 [00:03<00:00, 86.87it/s]\n",
      "Training Epoch 741: 100%|██████████| 261/261 [00:03<00:00, 83.69it/s]\n"
     ]
    },
    {
     "name": "stdout",
     "output_type": "stream",
     "text": [
      "Epoch 740 - Train Loss: 0.2013, Train MSE: 0.2013, Train MAE: 0.3355\n",
      "Epoch 740 - Validation Loss: 1.6033, Validation MSE: 1.6046, Validation MAE: 0.9257\n"
     ]
    },
    {
     "name": "stderr",
     "output_type": "stream",
     "text": [
      "Training Epoch 742: 100%|██████████| 261/261 [00:03<00:00, 85.80it/s]\n",
      "Training Epoch 743: 100%|██████████| 261/261 [00:03<00:00, 84.83it/s]\n",
      "Training Epoch 744: 100%|██████████| 261/261 [00:03<00:00, 82.57it/s]\n",
      "Training Epoch 745: 100%|██████████| 261/261 [00:03<00:00, 82.49it/s]\n",
      "Training Epoch 746: 100%|██████████| 261/261 [00:03<00:00, 84.99it/s]\n",
      "Training Epoch 747: 100%|██████████| 261/261 [00:03<00:00, 77.97it/s]\n",
      "Training Epoch 748: 100%|██████████| 261/261 [00:03<00:00, 80.90it/s]\n",
      "Training Epoch 749: 100%|██████████| 261/261 [00:03<00:00, 82.89it/s]\n",
      "Training Epoch 750: 100%|██████████| 261/261 [00:03<00:00, 85.63it/s]\n",
      "Training Epoch 751: 100%|██████████| 261/261 [00:03<00:00, 86.09it/s]\n"
     ]
    },
    {
     "name": "stdout",
     "output_type": "stream",
     "text": [
      "Epoch 750 - Train Loss: 0.1910, Train MSE: 0.1909, Train MAE: 0.3289\n",
      "Epoch 750 - Validation Loss: 1.6269, Validation MSE: 1.6277, Validation MAE: 0.9296\n"
     ]
    },
    {
     "name": "stderr",
     "output_type": "stream",
     "text": [
      "Training Epoch 752: 100%|██████████| 261/261 [00:03<00:00, 85.20it/s]\n",
      "Training Epoch 753: 100%|██████████| 261/261 [00:03<00:00, 83.60it/s]\n",
      "Training Epoch 754: 100%|██████████| 261/261 [00:03<00:00, 78.52it/s]\n",
      "Training Epoch 755: 100%|██████████| 261/261 [00:03<00:00, 82.60it/s]\n",
      "Training Epoch 756: 100%|██████████| 261/261 [00:03<00:00, 86.24it/s]\n",
      "Training Epoch 757: 100%|██████████| 261/261 [00:03<00:00, 86.94it/s]\n",
      "Training Epoch 758: 100%|██████████| 261/261 [00:03<00:00, 84.00it/s]\n",
      "Training Epoch 759: 100%|██████████| 261/261 [00:03<00:00, 76.62it/s]\n",
      "Training Epoch 760: 100%|██████████| 261/261 [00:03<00:00, 82.88it/s]\n",
      "Training Epoch 761: 100%|██████████| 261/261 [00:03<00:00, 85.74it/s]\n"
     ]
    },
    {
     "name": "stdout",
     "output_type": "stream",
     "text": [
      "Epoch 760 - Train Loss: 0.1990, Train MSE: 0.1990, Train MAE: 0.3346\n",
      "Epoch 760 - Validation Loss: 1.6866, Validation MSE: 1.6882, Validation MAE: 0.9361\n"
     ]
    },
    {
     "name": "stderr",
     "output_type": "stream",
     "text": [
      "Training Epoch 762: 100%|██████████| 261/261 [00:03<00:00, 85.05it/s]\n",
      "Training Epoch 763: 100%|██████████| 261/261 [00:03<00:00, 83.95it/s]\n",
      "Training Epoch 764: 100%|██████████| 261/261 [00:03<00:00, 84.77it/s]\n",
      "Training Epoch 765: 100%|██████████| 261/261 [00:03<00:00, 83.66it/s]\n",
      "Training Epoch 766: 100%|██████████| 261/261 [00:03<00:00, 83.89it/s]\n",
      "Training Epoch 767: 100%|██████████| 261/261 [00:03<00:00, 86.26it/s]\n",
      "Training Epoch 768: 100%|██████████| 261/261 [00:03<00:00, 83.24it/s]\n",
      "Training Epoch 769: 100%|██████████| 261/261 [00:03<00:00, 82.68it/s]\n",
      "Training Epoch 770: 100%|██████████| 261/261 [00:03<00:00, 85.72it/s]\n",
      "Training Epoch 771: 100%|██████████| 261/261 [00:03<00:00, 83.75it/s]\n"
     ]
    },
    {
     "name": "stdout",
     "output_type": "stream",
     "text": [
      "Epoch 770 - Train Loss: 0.1839, Train MSE: 0.1839, Train MAE: 0.3206\n",
      "Epoch 770 - Validation Loss: 1.6447, Validation MSE: 1.6461, Validation MAE: 0.9348\n"
     ]
    },
    {
     "name": "stderr",
     "output_type": "stream",
     "text": [
      "Training Epoch 772: 100%|██████████| 261/261 [00:03<00:00, 86.31it/s]\n",
      "Training Epoch 773: 100%|██████████| 261/261 [00:03<00:00, 79.00it/s]\n",
      "Training Epoch 774: 100%|██████████| 261/261 [00:03<00:00, 83.72it/s]\n",
      "Training Epoch 775: 100%|██████████| 261/261 [00:03<00:00, 83.50it/s]\n",
      "Training Epoch 776: 100%|██████████| 261/261 [00:03<00:00, 85.02it/s]\n",
      "Training Epoch 777: 100%|██████████| 261/261 [00:03<00:00, 83.15it/s]\n",
      "Training Epoch 778: 100%|██████████| 261/261 [00:03<00:00, 82.27it/s]\n",
      "Training Epoch 779: 100%|██████████| 261/261 [00:03<00:00, 83.10it/s]\n",
      "Training Epoch 780: 100%|██████████| 261/261 [00:03<00:00, 84.53it/s]\n",
      "Training Epoch 781: 100%|██████████| 261/261 [00:03<00:00, 85.07it/s]\n"
     ]
    },
    {
     "name": "stdout",
     "output_type": "stream",
     "text": [
      "Epoch 780 - Train Loss: 0.1855, Train MSE: 0.1855, Train MAE: 0.3239\n",
      "Epoch 780 - Validation Loss: 1.6595, Validation MSE: 1.6610, Validation MAE: 0.9397\n"
     ]
    },
    {
     "name": "stderr",
     "output_type": "stream",
     "text": [
      "Training Epoch 782: 100%|██████████| 261/261 [00:03<00:00, 82.74it/s]\n",
      "Training Epoch 783: 100%|██████████| 261/261 [00:03<00:00, 81.34it/s]\n",
      "Training Epoch 784: 100%|██████████| 261/261 [00:03<00:00, 86.45it/s]\n",
      "Training Epoch 785: 100%|██████████| 261/261 [00:03<00:00, 86.17it/s]\n",
      "Training Epoch 786: 100%|██████████| 261/261 [00:03<00:00, 84.22it/s]\n",
      "Training Epoch 787: 100%|██████████| 261/261 [00:02<00:00, 87.05it/s]\n",
      "Training Epoch 788: 100%|██████████| 261/261 [00:03<00:00, 81.28it/s]\n",
      "Training Epoch 789: 100%|██████████| 261/261 [00:03<00:00, 86.13it/s]\n",
      "Training Epoch 790: 100%|██████████| 261/261 [00:03<00:00, 83.52it/s]\n",
      "Training Epoch 791: 100%|██████████| 261/261 [00:03<00:00, 80.41it/s]\n"
     ]
    },
    {
     "name": "stdout",
     "output_type": "stream",
     "text": [
      "Epoch 790 - Train Loss: 0.1860, Train MSE: 0.1860, Train MAE: 0.3231\n",
      "Epoch 790 - Validation Loss: 1.6612, Validation MSE: 1.6628, Validation MAE: 0.9309\n"
     ]
    },
    {
     "name": "stderr",
     "output_type": "stream",
     "text": [
      "Training Epoch 792: 100%|██████████| 261/261 [00:03<00:00, 81.30it/s]\n",
      "Training Epoch 793: 100%|██████████| 261/261 [00:03<00:00, 80.73it/s]\n",
      "Training Epoch 794: 100%|██████████| 261/261 [00:03<00:00, 84.18it/s]\n",
      "Training Epoch 795: 100%|██████████| 261/261 [00:02<00:00, 87.38it/s]\n",
      "Training Epoch 796: 100%|██████████| 261/261 [00:03<00:00, 85.42it/s]\n",
      "Training Epoch 797: 100%|██████████| 261/261 [00:03<00:00, 82.43it/s]\n",
      "Training Epoch 798: 100%|██████████| 261/261 [00:03<00:00, 85.48it/s]\n",
      "Training Epoch 799: 100%|██████████| 261/261 [00:03<00:00, 84.48it/s]\n",
      "Training Epoch 800: 100%|██████████| 261/261 [00:03<00:00, 84.48it/s]\n",
      "Training Epoch 801: 100%|██████████| 261/261 [00:03<00:00, 84.42it/s]\n"
     ]
    },
    {
     "name": "stdout",
     "output_type": "stream",
     "text": [
      "Epoch 800 - Train Loss: 0.1872, Train MSE: 0.1871, Train MAE: 0.3266\n",
      "Epoch 800 - Validation Loss: 1.6212, Validation MSE: 1.6227, Validation MAE: 0.9271\n"
     ]
    },
    {
     "name": "stderr",
     "output_type": "stream",
     "text": [
      "Training Epoch 802: 100%|██████████| 261/261 [00:02<00:00, 88.07it/s]\n",
      "Training Epoch 803: 100%|██████████| 261/261 [00:03<00:00, 86.20it/s]\n",
      "Training Epoch 804: 100%|██████████| 261/261 [00:03<00:00, 84.81it/s]\n",
      "Training Epoch 805: 100%|██████████| 261/261 [00:03<00:00, 85.74it/s]\n",
      "Training Epoch 806: 100%|██████████| 261/261 [00:03<00:00, 84.02it/s]\n",
      "Training Epoch 807: 100%|██████████| 261/261 [00:03<00:00, 78.97it/s]\n",
      "Training Epoch 808: 100%|██████████| 261/261 [00:03<00:00, 86.66it/s]\n",
      "Training Epoch 809: 100%|██████████| 261/261 [00:03<00:00, 79.33it/s]\n",
      "Training Epoch 810: 100%|██████████| 261/261 [00:03<00:00, 79.52it/s]\n",
      "Training Epoch 811: 100%|██████████| 261/261 [00:03<00:00, 82.11it/s]\n"
     ]
    },
    {
     "name": "stdout",
     "output_type": "stream",
     "text": [
      "Epoch 810 - Train Loss: 0.1906, Train MSE: 0.1906, Train MAE: 0.3252\n",
      "Epoch 810 - Validation Loss: 1.6270, Validation MSE: 1.6285, Validation MAE: 0.9278\n"
     ]
    },
    {
     "name": "stderr",
     "output_type": "stream",
     "text": [
      "Training Epoch 812: 100%|██████████| 261/261 [00:03<00:00, 82.80it/s]\n",
      "Training Epoch 813: 100%|██████████| 261/261 [00:03<00:00, 84.64it/s]\n",
      "Training Epoch 814: 100%|██████████| 261/261 [00:03<00:00, 85.46it/s]\n",
      "Training Epoch 815: 100%|██████████| 261/261 [00:03<00:00, 84.66it/s]\n",
      "Training Epoch 816: 100%|██████████| 261/261 [00:03<00:00, 83.12it/s]\n",
      "Training Epoch 817: 100%|██████████| 261/261 [00:03<00:00, 80.10it/s]\n",
      "Training Epoch 818: 100%|██████████| 261/261 [00:03<00:00, 79.01it/s]\n",
      "Training Epoch 819: 100%|██████████| 261/261 [00:03<00:00, 81.78it/s]\n",
      "Training Epoch 820: 100%|██████████| 261/261 [00:03<00:00, 84.98it/s]\n",
      "Training Epoch 821: 100%|██████████| 261/261 [00:03<00:00, 82.62it/s]\n"
     ]
    },
    {
     "name": "stdout",
     "output_type": "stream",
     "text": [
      "Epoch 820 - Train Loss: 0.1848, Train MSE: 0.1848, Train MAE: 0.3231\n",
      "Epoch 820 - Validation Loss: 1.6118, Validation MSE: 1.6131, Validation MAE: 0.9306\n"
     ]
    },
    {
     "name": "stderr",
     "output_type": "stream",
     "text": [
      "Training Epoch 822: 100%|██████████| 261/261 [00:03<00:00, 74.58it/s]\n",
      "Training Epoch 823: 100%|██████████| 261/261 [00:03<00:00, 85.80it/s]\n",
      "Training Epoch 824: 100%|██████████| 261/261 [00:03<00:00, 70.01it/s]\n",
      "Training Epoch 825: 100%|██████████| 261/261 [00:03<00:00, 81.13it/s]\n",
      "Training Epoch 826: 100%|██████████| 261/261 [00:03<00:00, 69.81it/s]\n",
      "Training Epoch 827: 100%|██████████| 261/261 [00:03<00:00, 72.70it/s]\n",
      "Training Epoch 828: 100%|██████████| 261/261 [00:03<00:00, 78.54it/s]\n",
      "Training Epoch 829: 100%|██████████| 261/261 [00:03<00:00, 77.11it/s]\n",
      "Training Epoch 830: 100%|██████████| 261/261 [00:03<00:00, 80.02it/s]\n",
      "Training Epoch 831: 100%|██████████| 261/261 [00:03<00:00, 78.01it/s]\n"
     ]
    },
    {
     "name": "stdout",
     "output_type": "stream",
     "text": [
      "Epoch 830 - Train Loss: 0.1865, Train MSE: 0.1865, Train MAE: 0.3229\n",
      "Epoch 830 - Validation Loss: 1.6172, Validation MSE: 1.6184, Validation MAE: 0.9263\n"
     ]
    },
    {
     "name": "stderr",
     "output_type": "stream",
     "text": [
      "Training Epoch 832: 100%|██████████| 261/261 [00:03<00:00, 78.80it/s]\n",
      "Training Epoch 833: 100%|██████████| 261/261 [00:03<00:00, 84.12it/s]\n",
      "Training Epoch 834: 100%|██████████| 261/261 [00:03<00:00, 83.88it/s]\n",
      "Training Epoch 835: 100%|██████████| 261/261 [00:05<00:00, 51.97it/s]\n",
      "Training Epoch 836: 100%|██████████| 261/261 [00:04<00:00, 60.84it/s]\n",
      "Training Epoch 837: 100%|██████████| 261/261 [00:04<00:00, 56.35it/s]\n",
      "Training Epoch 838: 100%|██████████| 261/261 [00:03<00:00, 75.02it/s]\n",
      "Training Epoch 839: 100%|██████████| 261/261 [00:03<00:00, 83.69it/s]\n",
      "Training Epoch 840: 100%|██████████| 261/261 [00:03<00:00, 76.70it/s]\n",
      "Training Epoch 841: 100%|██████████| 261/261 [00:03<00:00, 85.83it/s]\n"
     ]
    },
    {
     "name": "stdout",
     "output_type": "stream",
     "text": [
      "Epoch 840 - Train Loss: 0.1832, Train MSE: 0.1832, Train MAE: 0.3216\n",
      "Epoch 840 - Validation Loss: 1.6077, Validation MSE: 1.6093, Validation MAE: 0.9262\n"
     ]
    },
    {
     "name": "stderr",
     "output_type": "stream",
     "text": [
      "Training Epoch 842: 100%|██████████| 261/261 [00:03<00:00, 75.04it/s]\n",
      "Training Epoch 843: 100%|██████████| 261/261 [00:03<00:00, 77.97it/s]\n",
      "Training Epoch 844: 100%|██████████| 261/261 [00:03<00:00, 86.69it/s]\n",
      "Training Epoch 845: 100%|██████████| 261/261 [00:03<00:00, 84.42it/s]\n",
      "Training Epoch 846: 100%|██████████| 261/261 [00:03<00:00, 85.17it/s]\n",
      "Training Epoch 847: 100%|██████████| 261/261 [00:03<00:00, 81.09it/s]\n",
      "Training Epoch 848: 100%|██████████| 261/261 [00:03<00:00, 75.43it/s]\n",
      "Training Epoch 849: 100%|██████████| 261/261 [00:03<00:00, 81.51it/s]\n",
      "Training Epoch 850: 100%|██████████| 261/261 [00:03<00:00, 82.38it/s]\n",
      "Training Epoch 851: 100%|██████████| 261/261 [00:03<00:00, 68.52it/s]\n"
     ]
    },
    {
     "name": "stdout",
     "output_type": "stream",
     "text": [
      "Epoch 850 - Train Loss: 0.1820, Train MSE: 0.1820, Train MAE: 0.3175\n",
      "Epoch 850 - Validation Loss: 1.6111, Validation MSE: 1.6125, Validation MAE: 0.9257\n"
     ]
    },
    {
     "name": "stderr",
     "output_type": "stream",
     "text": [
      "Training Epoch 852: 100%|██████████| 261/261 [00:03<00:00, 75.58it/s]\n",
      "Training Epoch 853: 100%|██████████| 261/261 [00:03<00:00, 84.38it/s]\n",
      "Training Epoch 854: 100%|██████████| 261/261 [00:03<00:00, 84.11it/s]\n",
      "Training Epoch 855: 100%|██████████| 261/261 [00:03<00:00, 85.11it/s]\n",
      "Training Epoch 856: 100%|██████████| 261/261 [00:02<00:00, 88.09it/s]\n",
      "Training Epoch 857: 100%|██████████| 261/261 [00:03<00:00, 80.54it/s]\n",
      "Training Epoch 858: 100%|██████████| 261/261 [00:03<00:00, 81.79it/s]\n",
      "Training Epoch 859: 100%|██████████| 261/261 [00:03<00:00, 80.92it/s]\n",
      "Training Epoch 860: 100%|██████████| 261/261 [00:03<00:00, 69.27it/s]\n",
      "Training Epoch 861: 100%|██████████| 261/261 [00:03<00:00, 75.98it/s]\n"
     ]
    },
    {
     "name": "stdout",
     "output_type": "stream",
     "text": [
      "Epoch 860 - Train Loss: 0.1840, Train MSE: 0.1840, Train MAE: 0.3201\n",
      "Epoch 860 - Validation Loss: 1.6114, Validation MSE: 1.6129, Validation MAE: 0.9250\n"
     ]
    },
    {
     "name": "stderr",
     "output_type": "stream",
     "text": [
      "Training Epoch 862: 100%|██████████| 261/261 [00:03<00:00, 84.14it/s]\n",
      "Training Epoch 863: 100%|██████████| 261/261 [00:03<00:00, 84.17it/s]\n",
      "Training Epoch 864: 100%|██████████| 261/261 [00:03<00:00, 76.74it/s]\n",
      "Training Epoch 865: 100%|██████████| 261/261 [00:03<00:00, 81.07it/s]\n",
      "Training Epoch 866: 100%|██████████| 261/261 [00:03<00:00, 86.30it/s]\n",
      "Training Epoch 867: 100%|██████████| 261/261 [00:03<00:00, 83.29it/s]\n",
      "Training Epoch 868: 100%|██████████| 261/261 [00:03<00:00, 83.72it/s]\n",
      "Training Epoch 869: 100%|██████████| 261/261 [00:03<00:00, 79.78it/s]\n",
      "Training Epoch 870: 100%|██████████| 261/261 [00:03<00:00, 76.37it/s]\n",
      "Training Epoch 871: 100%|██████████| 261/261 [00:03<00:00, 82.35it/s]\n"
     ]
    },
    {
     "name": "stdout",
     "output_type": "stream",
     "text": [
      "Epoch 870 - Train Loss: 0.1854, Train MSE: 0.1854, Train MAE: 0.3217\n",
      "Epoch 870 - Validation Loss: 1.6680, Validation MSE: 1.6695, Validation MAE: 0.9375\n"
     ]
    },
    {
     "name": "stderr",
     "output_type": "stream",
     "text": [
      "Training Epoch 872: 100%|██████████| 261/261 [00:03<00:00, 80.75it/s]\n",
      "Training Epoch 873: 100%|██████████| 261/261 [00:02<00:00, 87.87it/s]\n",
      "Training Epoch 874: 100%|██████████| 261/261 [00:03<00:00, 84.06it/s]\n",
      "Training Epoch 875: 100%|██████████| 261/261 [00:03<00:00, 80.28it/s]\n",
      "Training Epoch 876: 100%|██████████| 261/261 [00:03<00:00, 82.87it/s]\n",
      "Training Epoch 877: 100%|██████████| 261/261 [00:03<00:00, 69.70it/s]\n",
      "Training Epoch 878: 100%|██████████| 261/261 [00:03<00:00, 81.14it/s]\n",
      "Training Epoch 879: 100%|██████████| 261/261 [00:03<00:00, 82.81it/s]\n",
      "Training Epoch 880: 100%|██████████| 261/261 [00:03<00:00, 80.65it/s]\n",
      "Training Epoch 881: 100%|██████████| 261/261 [00:03<00:00, 77.68it/s]\n"
     ]
    },
    {
     "name": "stdout",
     "output_type": "stream",
     "text": [
      "Epoch 880 - Train Loss: 0.1775, Train MSE: 0.1775, Train MAE: 0.3150\n",
      "Epoch 880 - Validation Loss: 1.6071, Validation MSE: 1.6083, Validation MAE: 0.9218\n"
     ]
    },
    {
     "name": "stderr",
     "output_type": "stream",
     "text": [
      "Training Epoch 882: 100%|██████████| 261/261 [00:03<00:00, 71.93it/s]\n",
      "Training Epoch 883: 100%|██████████| 261/261 [00:03<00:00, 78.86it/s]\n",
      "Training Epoch 884: 100%|██████████| 261/261 [00:03<00:00, 68.34it/s]\n",
      "Training Epoch 885: 100%|██████████| 261/261 [00:03<00:00, 79.93it/s]\n",
      "Training Epoch 886: 100%|██████████| 261/261 [00:03<00:00, 79.99it/s]\n",
      "Training Epoch 887: 100%|██████████| 261/261 [00:03<00:00, 77.91it/s]\n",
      "Training Epoch 888: 100%|██████████| 261/261 [00:03<00:00, 75.15it/s]\n",
      "Training Epoch 889: 100%|██████████| 261/261 [00:03<00:00, 77.76it/s]\n",
      "Training Epoch 890: 100%|██████████| 261/261 [00:03<00:00, 80.48it/s]\n",
      "Training Epoch 891: 100%|██████████| 261/261 [00:03<00:00, 81.17it/s]\n"
     ]
    },
    {
     "name": "stdout",
     "output_type": "stream",
     "text": [
      "Epoch 890 - Train Loss: 0.1787, Train MSE: 0.1787, Train MAE: 0.3141\n",
      "Epoch 890 - Validation Loss: 1.6261, Validation MSE: 1.6274, Validation MAE: 0.9372\n"
     ]
    },
    {
     "name": "stderr",
     "output_type": "stream",
     "text": [
      "Training Epoch 892: 100%|██████████| 261/261 [00:03<00:00, 83.80it/s]\n",
      "Training Epoch 893: 100%|██████████| 261/261 [00:03<00:00, 83.32it/s]\n",
      "Training Epoch 894: 100%|██████████| 261/261 [00:04<00:00, 62.86it/s]\n",
      "Training Epoch 895: 100%|██████████| 261/261 [00:03<00:00, 76.07it/s]\n",
      "Training Epoch 896: 100%|██████████| 261/261 [00:04<00:00, 59.42it/s]\n",
      "Training Epoch 897: 100%|██████████| 261/261 [00:03<00:00, 79.43it/s]\n",
      "Training Epoch 898: 100%|██████████| 261/261 [00:03<00:00, 71.81it/s]\n",
      "Training Epoch 899: 100%|██████████| 261/261 [00:03<00:00, 79.83it/s]\n",
      "Training Epoch 900: 100%|██████████| 261/261 [00:03<00:00, 83.75it/s]\n",
      "Training Epoch 901: 100%|██████████| 261/261 [00:03<00:00, 80.59it/s]\n"
     ]
    },
    {
     "name": "stdout",
     "output_type": "stream",
     "text": [
      "Epoch 900 - Train Loss: 0.1733, Train MSE: 0.1733, Train MAE: 0.3129\n",
      "Epoch 900 - Validation Loss: 1.6226, Validation MSE: 1.6238, Validation MAE: 0.9273\n"
     ]
    },
    {
     "name": "stderr",
     "output_type": "stream",
     "text": [
      "Training Epoch 902: 100%|██████████| 261/261 [00:03<00:00, 72.34it/s]\n",
      "Training Epoch 903: 100%|██████████| 261/261 [00:03<00:00, 78.37it/s]\n",
      "Training Epoch 904: 100%|██████████| 261/261 [00:03<00:00, 82.08it/s]\n",
      "Training Epoch 905: 100%|██████████| 261/261 [00:03<00:00, 75.51it/s]\n",
      "Training Epoch 906: 100%|██████████| 261/261 [00:03<00:00, 69.78it/s]\n",
      "Training Epoch 907: 100%|██████████| 261/261 [00:03<00:00, 77.36it/s]\n",
      "Training Epoch 908: 100%|██████████| 261/261 [00:03<00:00, 86.32it/s]\n",
      "Training Epoch 909: 100%|██████████| 261/261 [00:03<00:00, 86.39it/s]\n",
      "Training Epoch 910: 100%|██████████| 261/261 [00:03<00:00, 86.20it/s]\n",
      "Training Epoch 911: 100%|██████████| 261/261 [00:03<00:00, 71.33it/s]\n"
     ]
    },
    {
     "name": "stdout",
     "output_type": "stream",
     "text": [
      "Epoch 910 - Train Loss: 0.1760, Train MSE: 0.1760, Train MAE: 0.3151\n",
      "Epoch 910 - Validation Loss: 1.6372, Validation MSE: 1.6387, Validation MAE: 0.9329\n"
     ]
    },
    {
     "name": "stderr",
     "output_type": "stream",
     "text": [
      "Training Epoch 912: 100%|██████████| 261/261 [00:03<00:00, 73.25it/s]\n",
      "Training Epoch 913: 100%|██████████| 261/261 [00:03<00:00, 80.31it/s]\n",
      "Training Epoch 914: 100%|██████████| 261/261 [00:03<00:00, 81.94it/s]\n",
      "Training Epoch 915: 100%|██████████| 261/261 [00:03<00:00, 82.54it/s]\n",
      "Training Epoch 916: 100%|██████████| 261/261 [00:03<00:00, 76.18it/s]\n",
      "Training Epoch 917: 100%|██████████| 261/261 [00:03<00:00, 78.76it/s]\n",
      "Training Epoch 918: 100%|██████████| 261/261 [00:03<00:00, 80.80it/s]\n",
      "Training Epoch 919: 100%|██████████| 261/261 [00:03<00:00, 73.62it/s]\n",
      "Training Epoch 920: 100%|██████████| 261/261 [00:03<00:00, 71.37it/s]\n",
      "Training Epoch 921: 100%|██████████| 261/261 [00:03<00:00, 76.46it/s]\n"
     ]
    },
    {
     "name": "stdout",
     "output_type": "stream",
     "text": [
      "Epoch 920 - Train Loss: 0.1750, Train MSE: 0.1749, Train MAE: 0.3119\n",
      "Epoch 920 - Validation Loss: 1.6182, Validation MSE: 1.6198, Validation MAE: 0.9271\n"
     ]
    },
    {
     "name": "stderr",
     "output_type": "stream",
     "text": [
      "Training Epoch 922: 100%|██████████| 261/261 [00:03<00:00, 83.35it/s]\n",
      "Training Epoch 923: 100%|██████████| 261/261 [00:03<00:00, 83.75it/s]\n",
      "Training Epoch 924: 100%|██████████| 261/261 [00:03<00:00, 86.99it/s]\n",
      "Training Epoch 925: 100%|██████████| 261/261 [00:03<00:00, 81.20it/s]\n",
      "Training Epoch 926: 100%|██████████| 261/261 [00:03<00:00, 85.57it/s]\n",
      "Training Epoch 927: 100%|██████████| 261/261 [00:03<00:00, 79.05it/s]\n",
      "Training Epoch 928: 100%|██████████| 261/261 [00:03<00:00, 67.38it/s]\n",
      "Training Epoch 929: 100%|██████████| 261/261 [00:03<00:00, 78.50it/s]\n",
      "Training Epoch 930: 100%|██████████| 261/261 [00:02<00:00, 88.54it/s]\n",
      "Training Epoch 931: 100%|██████████| 261/261 [00:03<00:00, 83.59it/s]\n"
     ]
    },
    {
     "name": "stdout",
     "output_type": "stream",
     "text": [
      "Epoch 930 - Train Loss: 0.1752, Train MSE: 0.1752, Train MAE: 0.3115\n",
      "Epoch 930 - Validation Loss: 1.5747, Validation MSE: 1.5762, Validation MAE: 0.9175\n"
     ]
    },
    {
     "name": "stderr",
     "output_type": "stream",
     "text": [
      "Training Epoch 932: 100%|██████████| 261/261 [00:03<00:00, 82.23it/s]\n",
      "Training Epoch 933: 100%|██████████| 261/261 [00:03<00:00, 86.27it/s]\n",
      "Training Epoch 934: 100%|██████████| 261/261 [00:03<00:00, 82.69it/s]\n",
      "Training Epoch 935: 100%|██████████| 261/261 [00:03<00:00, 82.80it/s]\n",
      "Training Epoch 936: 100%|██████████| 261/261 [00:03<00:00, 83.24it/s]\n",
      "Training Epoch 937: 100%|██████████| 261/261 [00:03<00:00, 80.44it/s]\n",
      "Training Epoch 938: 100%|██████████| 261/261 [00:03<00:00, 79.84it/s]\n",
      "Training Epoch 939: 100%|██████████| 261/261 [00:03<00:00, 81.33it/s]\n",
      "Training Epoch 940: 100%|██████████| 261/261 [00:02<00:00, 87.41it/s]\n",
      "Training Epoch 941: 100%|██████████| 261/261 [00:03<00:00, 84.58it/s]\n"
     ]
    },
    {
     "name": "stdout",
     "output_type": "stream",
     "text": [
      "Epoch 940 - Train Loss: 0.1779, Train MSE: 0.1779, Train MAE: 0.3140\n",
      "Epoch 940 - Validation Loss: 1.5866, Validation MSE: 1.5879, Validation MAE: 0.9223\n"
     ]
    },
    {
     "name": "stderr",
     "output_type": "stream",
     "text": [
      "Training Epoch 942: 100%|██████████| 261/261 [00:02<00:00, 87.05it/s]\n",
      "Training Epoch 943: 100%|██████████| 261/261 [00:03<00:00, 85.18it/s]\n",
      "Training Epoch 944: 100%|██████████| 261/261 [00:03<00:00, 77.11it/s]\n",
      "Training Epoch 945: 100%|██████████| 261/261 [00:03<00:00, 80.93it/s]\n",
      "Training Epoch 946: 100%|██████████| 261/261 [00:03<00:00, 78.27it/s]\n",
      "Training Epoch 947: 100%|██████████| 261/261 [00:03<00:00, 81.24it/s]\n",
      "Training Epoch 948: 100%|██████████| 261/261 [00:03<00:00, 82.77it/s]\n",
      "Training Epoch 949: 100%|██████████| 261/261 [00:03<00:00, 80.79it/s]\n",
      "Training Epoch 950: 100%|██████████| 261/261 [00:03<00:00, 86.82it/s]\n",
      "Training Epoch 951: 100%|██████████| 261/261 [00:03<00:00, 85.37it/s]\n"
     ]
    },
    {
     "name": "stdout",
     "output_type": "stream",
     "text": [
      "Epoch 950 - Train Loss: 0.1778, Train MSE: 0.1778, Train MAE: 0.3159\n",
      "Epoch 950 - Validation Loss: 1.6388, Validation MSE: 1.6401, Validation MAE: 0.9268\n"
     ]
    },
    {
     "name": "stderr",
     "output_type": "stream",
     "text": [
      "Training Epoch 952: 100%|██████████| 261/261 [00:03<00:00, 81.00it/s]\n",
      "Training Epoch 953: 100%|██████████| 261/261 [00:03<00:00, 79.81it/s]\n",
      "Training Epoch 954: 100%|██████████| 261/261 [00:03<00:00, 82.32it/s]\n",
      "Training Epoch 955: 100%|██████████| 261/261 [00:03<00:00, 85.22it/s]\n",
      "Training Epoch 956: 100%|██████████| 261/261 [00:03<00:00, 86.88it/s]\n",
      "Training Epoch 957: 100%|██████████| 261/261 [00:03<00:00, 84.11it/s]\n",
      "Training Epoch 958: 100%|██████████| 261/261 [00:03<00:00, 82.24it/s]\n",
      "Training Epoch 959: 100%|██████████| 261/261 [00:03<00:00, 79.66it/s]\n",
      "Training Epoch 960: 100%|██████████| 261/261 [00:03<00:00, 82.13it/s]\n",
      "Training Epoch 961: 100%|██████████| 261/261 [00:03<00:00, 79.78it/s]\n"
     ]
    },
    {
     "name": "stdout",
     "output_type": "stream",
     "text": [
      "Epoch 960 - Train Loss: 0.1699, Train MSE: 0.1699, Train MAE: 0.3069\n",
      "Epoch 960 - Validation Loss: 1.6305, Validation MSE: 1.6318, Validation MAE: 0.9328\n"
     ]
    },
    {
     "name": "stderr",
     "output_type": "stream",
     "text": [
      "Training Epoch 962: 100%|██████████| 261/261 [00:03<00:00, 84.22it/s]\n",
      "Training Epoch 963: 100%|██████████| 261/261 [00:03<00:00, 75.31it/s]\n",
      "Training Epoch 964: 100%|██████████| 261/261 [00:03<00:00, 79.07it/s]\n",
      "Training Epoch 965: 100%|██████████| 261/261 [00:03<00:00, 84.13it/s]\n",
      "Training Epoch 966: 100%|██████████| 261/261 [00:03<00:00, 81.45it/s]\n",
      "Training Epoch 967: 100%|██████████| 261/261 [00:03<00:00, 84.22it/s]\n",
      "Training Epoch 968: 100%|██████████| 261/261 [00:03<00:00, 86.23it/s]\n",
      "Training Epoch 969: 100%|██████████| 261/261 [00:03<00:00, 82.30it/s]\n",
      "Training Epoch 970: 100%|██████████| 261/261 [00:03<00:00, 84.16it/s]\n",
      "Training Epoch 971: 100%|██████████| 261/261 [00:02<00:00, 89.21it/s]\n"
     ]
    },
    {
     "name": "stdout",
     "output_type": "stream",
     "text": [
      "Epoch 970 - Train Loss: 0.1669, Train MSE: 0.1669, Train MAE: 0.3074\n",
      "Epoch 970 - Validation Loss: 1.5896, Validation MSE: 1.5912, Validation MAE: 0.9171\n"
     ]
    },
    {
     "name": "stderr",
     "output_type": "stream",
     "text": [
      "Training Epoch 972: 100%|██████████| 261/261 [00:03<00:00, 82.30it/s]\n",
      "Training Epoch 973: 100%|██████████| 261/261 [00:03<00:00, 83.09it/s]\n",
      "Training Epoch 974: 100%|██████████| 261/261 [00:03<00:00, 82.15it/s]\n",
      "Training Epoch 975: 100%|██████████| 261/261 [00:03<00:00, 80.93it/s]\n",
      "Training Epoch 976: 100%|██████████| 261/261 [00:03<00:00, 82.29it/s]\n",
      "Training Epoch 977: 100%|██████████| 261/261 [00:03<00:00, 82.99it/s]\n",
      "Training Epoch 978: 100%|██████████| 261/261 [00:03<00:00, 86.20it/s]\n",
      "Training Epoch 979: 100%|██████████| 261/261 [00:03<00:00, 85.57it/s]\n",
      "Training Epoch 980: 100%|██████████| 261/261 [00:02<00:00, 87.04it/s]\n",
      "Training Epoch 981: 100%|██████████| 261/261 [00:03<00:00, 77.81it/s]\n"
     ]
    },
    {
     "name": "stdout",
     "output_type": "stream",
     "text": [
      "Epoch 980 - Train Loss: 0.1694, Train MSE: 0.1694, Train MAE: 0.3076\n",
      "Epoch 980 - Validation Loss: 1.5936, Validation MSE: 1.5949, Validation MAE: 0.9127\n"
     ]
    },
    {
     "name": "stderr",
     "output_type": "stream",
     "text": [
      "Training Epoch 982: 100%|██████████| 261/261 [00:03<00:00, 75.22it/s]\n",
      "Training Epoch 983: 100%|██████████| 261/261 [00:03<00:00, 82.48it/s]\n",
      "Training Epoch 984: 100%|██████████| 261/261 [00:02<00:00, 87.24it/s]\n",
      "Training Epoch 985: 100%|██████████| 261/261 [00:03<00:00, 85.52it/s]\n",
      "Training Epoch 986: 100%|██████████| 261/261 [00:03<00:00, 84.32it/s]\n",
      "Training Epoch 987: 100%|██████████| 261/261 [00:03<00:00, 82.74it/s]\n",
      "Training Epoch 988: 100%|██████████| 261/261 [00:03<00:00, 82.55it/s]\n",
      "Training Epoch 989: 100%|██████████| 261/261 [00:03<00:00, 76.27it/s]\n",
      "Training Epoch 990: 100%|██████████| 261/261 [00:03<00:00, 79.96it/s]\n",
      "Training Epoch 991: 100%|██████████| 261/261 [00:03<00:00, 79.95it/s]\n"
     ]
    },
    {
     "name": "stdout",
     "output_type": "stream",
     "text": [
      "Epoch 990 - Train Loss: 0.1706, Train MSE: 0.1706, Train MAE: 0.3085\n",
      "Epoch 990 - Validation Loss: 1.6237, Validation MSE: 1.6251, Validation MAE: 0.9295\n"
     ]
    },
    {
     "name": "stderr",
     "output_type": "stream",
     "text": [
      "Training Epoch 992: 100%|██████████| 261/261 [00:03<00:00, 78.51it/s]\n",
      "Training Epoch 993: 100%|██████████| 261/261 [00:03<00:00, 85.88it/s]\n",
      "Training Epoch 994: 100%|██████████| 261/261 [00:03<00:00, 83.88it/s]\n",
      "Training Epoch 995: 100%|██████████| 261/261 [00:03<00:00, 84.45it/s]\n",
      "Training Epoch 996: 100%|██████████| 261/261 [00:03<00:00, 80.86it/s]\n",
      "Training Epoch 997: 100%|██████████| 261/261 [00:03<00:00, 79.23it/s]\n",
      "Training Epoch 998: 100%|██████████| 261/261 [00:03<00:00, 80.36it/s]\n",
      "Training Epoch 999: 100%|██████████| 261/261 [00:03<00:00, 69.86it/s]\n",
      "Training Epoch 1000: 100%|██████████| 261/261 [00:03<00:00, 79.27it/s]\n",
      "Training Epoch 1001: 100%|██████████| 261/261 [00:03<00:00, 84.86it/s]\n"
     ]
    },
    {
     "name": "stdout",
     "output_type": "stream",
     "text": [
      "Epoch 1000 - Train Loss: 0.1647, Train MSE: 0.1646, Train MAE: 0.3042\n",
      "Epoch 1000 - Validation Loss: 1.5901, Validation MSE: 1.5915, Validation MAE: 0.9164\n"
     ]
    },
    {
     "name": "stderr",
     "output_type": "stream",
     "text": [
      "Training Epoch 1002: 100%|██████████| 261/261 [00:04<00:00, 63.08it/s]\n",
      "Training Epoch 1003: 100%|██████████| 261/261 [00:03<00:00, 76.73it/s]\n",
      "Training Epoch 1004: 100%|██████████| 261/261 [00:03<00:00, 82.48it/s]\n",
      "Training Epoch 1005: 100%|██████████| 261/261 [00:03<00:00, 83.15it/s]\n",
      "Training Epoch 1006: 100%|██████████| 261/261 [00:03<00:00, 82.77it/s]\n",
      "Training Epoch 1007: 100%|██████████| 261/261 [00:03<00:00, 78.41it/s]\n",
      "Training Epoch 1008: 100%|██████████| 261/261 [00:03<00:00, 82.46it/s]\n",
      "Training Epoch 1009: 100%|██████████| 261/261 [00:03<00:00, 79.00it/s]\n",
      "Training Epoch 1010: 100%|██████████| 261/261 [00:03<00:00, 79.29it/s]\n",
      "Training Epoch 1011: 100%|██████████| 261/261 [00:03<00:00, 84.44it/s]\n"
     ]
    },
    {
     "name": "stdout",
     "output_type": "stream",
     "text": [
      "Epoch 1010 - Train Loss: 0.1716, Train MSE: 0.1716, Train MAE: 0.3093\n",
      "Epoch 1010 - Validation Loss: 1.5992, Validation MSE: 1.6005, Validation MAE: 0.9236\n"
     ]
    },
    {
     "name": "stderr",
     "output_type": "stream",
     "text": [
      "Training Epoch 1012: 100%|██████████| 261/261 [00:03<00:00, 84.16it/s]\n",
      "Training Epoch 1013: 100%|██████████| 261/261 [00:03<00:00, 83.84it/s]\n",
      "Training Epoch 1014: 100%|██████████| 261/261 [00:03<00:00, 86.65it/s]\n",
      "Training Epoch 1015: 100%|██████████| 261/261 [00:03<00:00, 81.66it/s]\n",
      "Training Epoch 1016: 100%|██████████| 261/261 [00:03<00:00, 70.32it/s]\n",
      "Training Epoch 1017: 100%|██████████| 261/261 [00:03<00:00, 74.51it/s]\n",
      "Training Epoch 1018: 100%|██████████| 261/261 [00:03<00:00, 82.43it/s]\n",
      "Training Epoch 1019: 100%|██████████| 261/261 [00:03<00:00, 82.93it/s]\n",
      "Training Epoch 1020: 100%|██████████| 261/261 [00:03<00:00, 80.33it/s]\n",
      "Training Epoch 1021: 100%|██████████| 261/261 [00:03<00:00, 81.47it/s]\n"
     ]
    },
    {
     "name": "stdout",
     "output_type": "stream",
     "text": [
      "Epoch 1020 - Train Loss: 0.1661, Train MSE: 0.1661, Train MAE: 0.3027\n",
      "Epoch 1020 - Validation Loss: 1.6218, Validation MSE: 1.6230, Validation MAE: 0.9257\n"
     ]
    },
    {
     "name": "stderr",
     "output_type": "stream",
     "text": [
      "Training Epoch 1022: 100%|██████████| 261/261 [00:03<00:00, 79.78it/s]\n",
      "Training Epoch 1023: 100%|██████████| 261/261 [00:03<00:00, 77.08it/s]\n",
      "Training Epoch 1024: 100%|██████████| 261/261 [00:03<00:00, 77.57it/s]\n",
      "Training Epoch 1025: 100%|██████████| 261/261 [00:03<00:00, 81.22it/s]\n",
      "Training Epoch 1026: 100%|██████████| 261/261 [00:03<00:00, 80.70it/s]\n",
      "Training Epoch 1027: 100%|██████████| 261/261 [00:03<00:00, 79.52it/s]\n",
      "Training Epoch 1028: 100%|██████████| 261/261 [00:03<00:00, 82.77it/s]\n",
      "Training Epoch 1029: 100%|██████████| 261/261 [00:03<00:00, 76.65it/s]\n",
      "Training Epoch 1030: 100%|██████████| 261/261 [00:03<00:00, 81.28it/s]\n",
      "Training Epoch 1031: 100%|██████████| 261/261 [00:03<00:00, 86.40it/s]\n"
     ]
    },
    {
     "name": "stdout",
     "output_type": "stream",
     "text": [
      "Epoch 1030 - Train Loss: 0.1609, Train MSE: 0.1609, Train MAE: 0.3004\n",
      "Epoch 1030 - Validation Loss: 1.6341, Validation MSE: 1.6357, Validation MAE: 0.9277\n"
     ]
    },
    {
     "name": "stderr",
     "output_type": "stream",
     "text": [
      "Training Epoch 1032: 100%|██████████| 261/261 [00:03<00:00, 81.76it/s]\n",
      "Training Epoch 1033: 100%|██████████| 261/261 [00:03<00:00, 77.06it/s]\n",
      "Training Epoch 1034: 100%|██████████| 261/261 [00:03<00:00, 78.90it/s]\n",
      "Training Epoch 1035: 100%|██████████| 261/261 [00:03<00:00, 78.30it/s]\n",
      "Training Epoch 1036: 100%|██████████| 261/261 [00:03<00:00, 77.19it/s]\n",
      "Training Epoch 1037: 100%|██████████| 261/261 [00:03<00:00, 82.11it/s]\n",
      "Training Epoch 1038: 100%|██████████| 261/261 [00:03<00:00, 81.76it/s]\n",
      "Training Epoch 1039: 100%|██████████| 261/261 [00:03<00:00, 81.69it/s]\n",
      "Training Epoch 1040: 100%|██████████| 261/261 [00:03<00:00, 84.04it/s]\n",
      "Training Epoch 1041: 100%|██████████| 261/261 [00:03<00:00, 77.55it/s]\n"
     ]
    },
    {
     "name": "stdout",
     "output_type": "stream",
     "text": [
      "Epoch 1040 - Train Loss: 0.1603, Train MSE: 0.1603, Train MAE: 0.2982\n",
      "Epoch 1040 - Validation Loss: 1.6166, Validation MSE: 1.6179, Validation MAE: 0.9297\n"
     ]
    },
    {
     "name": "stderr",
     "output_type": "stream",
     "text": [
      "Training Epoch 1042: 100%|██████████| 261/261 [00:03<00:00, 68.88it/s]\n",
      "Training Epoch 1043: 100%|██████████| 261/261 [00:03<00:00, 76.13it/s]\n",
      "Training Epoch 1044: 100%|██████████| 261/261 [00:04<00:00, 56.55it/s]\n",
      "Training Epoch 1045: 100%|██████████| 261/261 [00:05<00:00, 51.29it/s]\n",
      "Training Epoch 1046: 100%|██████████| 261/261 [00:03<00:00, 73.51it/s]\n",
      "Training Epoch 1047: 100%|██████████| 261/261 [00:02<00:00, 87.37it/s]\n",
      "Training Epoch 1048: 100%|██████████| 261/261 [00:03<00:00, 80.32it/s]\n",
      "Training Epoch 1049: 100%|██████████| 261/261 [00:03<00:00, 76.69it/s]\n",
      "Training Epoch 1050: 100%|██████████| 261/261 [00:03<00:00, 77.99it/s]\n",
      "Training Epoch 1051: 100%|██████████| 261/261 [00:03<00:00, 84.62it/s]\n"
     ]
    },
    {
     "name": "stdout",
     "output_type": "stream",
     "text": [
      "Epoch 1050 - Train Loss: 0.1675, Train MSE: 0.1675, Train MAE: 0.3056\n",
      "Epoch 1050 - Validation Loss: 1.6054, Validation MSE: 1.6069, Validation MAE: 0.9260\n"
     ]
    },
    {
     "name": "stderr",
     "output_type": "stream",
     "text": [
      "Training Epoch 1052: 100%|██████████| 261/261 [00:03<00:00, 83.63it/s]\n",
      "Training Epoch 1053: 100%|██████████| 261/261 [00:03<00:00, 85.32it/s]\n",
      "Training Epoch 1054: 100%|██████████| 261/261 [00:03<00:00, 81.76it/s]\n",
      "Training Epoch 1055: 100%|██████████| 261/261 [00:03<00:00, 81.98it/s]\n",
      "Training Epoch 1056: 100%|██████████| 261/261 [00:03<00:00, 85.51it/s]\n",
      "Training Epoch 1057: 100%|██████████| 261/261 [00:11<00:00, 23.65it/s]\n",
      "Training Epoch 1058: 100%|██████████| 261/261 [00:08<00:00, 31.31it/s]\n",
      "Training Epoch 1059: 100%|██████████| 261/261 [00:03<00:00, 86.40it/s]\n",
      "Training Epoch 1060: 100%|██████████| 261/261 [00:02<00:00, 87.26it/s]\n",
      "Training Epoch 1061: 100%|██████████| 261/261 [00:03<00:00, 85.37it/s]\n"
     ]
    },
    {
     "name": "stdout",
     "output_type": "stream",
     "text": [
      "Epoch 1060 - Train Loss: 0.1602, Train MSE: 0.1602, Train MAE: 0.3003\n",
      "Epoch 1060 - Validation Loss: 1.6374, Validation MSE: 1.6389, Validation MAE: 0.9298\n"
     ]
    },
    {
     "name": "stderr",
     "output_type": "stream",
     "text": [
      "Training Epoch 1062: 100%|██████████| 261/261 [00:03<00:00, 81.85it/s]\n",
      "Training Epoch 1063: 100%|██████████| 261/261 [00:03<00:00, 83.21it/s]\n",
      "Training Epoch 1064: 100%|██████████| 261/261 [00:03<00:00, 85.56it/s]\n",
      "Training Epoch 1065: 100%|██████████| 261/261 [00:03<00:00, 86.34it/s]\n",
      "Training Epoch 1066: 100%|██████████| 261/261 [00:03<00:00, 82.50it/s]\n",
      "Training Epoch 1067: 100%|██████████| 261/261 [00:03<00:00, 81.85it/s]\n",
      "Training Epoch 1068: 100%|██████████| 261/261 [00:02<00:00, 87.18it/s]\n",
      "Training Epoch 1069: 100%|██████████| 261/261 [00:06<00:00, 37.74it/s]\n",
      "Training Epoch 1070: 100%|██████████| 261/261 [00:03<00:00, 85.23it/s]\n",
      "Training Epoch 1071: 100%|██████████| 261/261 [00:08<00:00, 31.27it/s]\n"
     ]
    },
    {
     "name": "stdout",
     "output_type": "stream",
     "text": [
      "Epoch 1070 - Train Loss: 0.1561, Train MSE: 0.1561, Train MAE: 0.2965\n",
      "Epoch 1070 - Validation Loss: 1.6336, Validation MSE: 1.6348, Validation MAE: 0.9277\n"
     ]
    },
    {
     "name": "stderr",
     "output_type": "stream",
     "text": [
      "Training Epoch 1072: 100%|██████████| 261/261 [00:03<00:00, 83.62it/s]\n",
      "Training Epoch 1073: 100%|██████████| 261/261 [00:03<00:00, 81.70it/s]\n",
      "Training Epoch 1074: 100%|██████████| 261/261 [00:03<00:00, 84.10it/s]\n",
      "Training Epoch 1075: 100%|██████████| 261/261 [00:03<00:00, 82.70it/s]\n",
      "Training Epoch 1076: 100%|██████████| 261/261 [00:03<00:00, 82.94it/s]\n",
      "Training Epoch 1077: 100%|██████████| 261/261 [00:03<00:00, 66.98it/s]\n",
      "Training Epoch 1078: 100%|██████████| 261/261 [00:03<00:00, 81.45it/s]\n",
      "Training Epoch 1079: 100%|██████████| 261/261 [00:03<00:00, 76.60it/s]\n",
      "Training Epoch 1080: 100%|██████████| 261/261 [00:03<00:00, 80.59it/s]\n",
      "Training Epoch 1081: 100%|██████████| 261/261 [00:16<00:00, 16.30it/s]\n"
     ]
    },
    {
     "name": "stdout",
     "output_type": "stream",
     "text": [
      "Epoch 1080 - Train Loss: 0.1595, Train MSE: 0.1595, Train MAE: 0.2980\n",
      "Epoch 1080 - Validation Loss: 1.5878, Validation MSE: 1.5892, Validation MAE: 0.9160\n"
     ]
    },
    {
     "name": "stderr",
     "output_type": "stream",
     "text": [
      "Training Epoch 1082: 100%|██████████| 261/261 [00:03<00:00, 75.49it/s]\n",
      "Training Epoch 1083: 100%|██████████| 261/261 [00:08<00:00, 31.70it/s]\n",
      "Training Epoch 1084: 100%|██████████| 261/261 [00:03<00:00, 85.98it/s]\n",
      "Training Epoch 1085: 100%|██████████| 261/261 [00:03<00:00, 77.58it/s]\n",
      "Training Epoch 1086: 100%|██████████| 261/261 [00:03<00:00, 80.29it/s]\n",
      "Training Epoch 1087: 100%|██████████| 261/261 [00:03<00:00, 80.73it/s]\n",
      "Training Epoch 1088: 100%|██████████| 261/261 [00:03<00:00, 76.47it/s]\n",
      "Training Epoch 1089: 100%|██████████| 261/261 [00:03<00:00, 81.14it/s]\n",
      "Training Epoch 1090: 100%|██████████| 261/261 [00:03<00:00, 85.72it/s]\n",
      "Training Epoch 1091: 100%|██████████| 261/261 [00:03<00:00, 79.73it/s]\n"
     ]
    },
    {
     "name": "stdout",
     "output_type": "stream",
     "text": [
      "Epoch 1090 - Train Loss: 0.1602, Train MSE: 0.1602, Train MAE: 0.2980\n",
      "Epoch 1090 - Validation Loss: 1.6164, Validation MSE: 1.6177, Validation MAE: 0.9233\n"
     ]
    },
    {
     "name": "stderr",
     "output_type": "stream",
     "text": [
      "Training Epoch 1092: 100%|██████████| 261/261 [00:03<00:00, 76.10it/s]\n",
      "Training Epoch 1093: 100%|██████████| 261/261 [00:03<00:00, 82.51it/s]\n",
      "Training Epoch 1094: 100%|██████████| 261/261 [00:16<00:00, 16.01it/s]\n",
      "Training Epoch 1095: 100%|██████████| 261/261 [00:07<00:00, 32.73it/s]\n",
      "Training Epoch 1096: 100%|██████████| 261/261 [00:03<00:00, 75.01it/s]\n",
      "Training Epoch 1097: 100%|██████████| 261/261 [00:03<00:00, 78.78it/s]\n",
      "Training Epoch 1098: 100%|██████████| 261/261 [00:03<00:00, 83.99it/s]\n",
      "Training Epoch 1099: 100%|██████████| 261/261 [00:03<00:00, 77.32it/s]\n",
      "Training Epoch 1100: 100%|██████████| 261/261 [00:03<00:00, 78.36it/s]\n",
      "Training Epoch 1101: 100%|██████████| 261/261 [00:03<00:00, 82.19it/s]\n"
     ]
    },
    {
     "name": "stdout",
     "output_type": "stream",
     "text": [
      "Epoch 1100 - Train Loss: 0.1562, Train MSE: 0.1562, Train MAE: 0.2951\n",
      "Epoch 1100 - Validation Loss: 1.6464, Validation MSE: 1.6477, Validation MAE: 0.9331\n"
     ]
    },
    {
     "name": "stderr",
     "output_type": "stream",
     "text": [
      "Training Epoch 1102: 100%|██████████| 261/261 [00:03<00:00, 85.47it/s]\n",
      "Training Epoch 1103: 100%|██████████| 261/261 [00:02<00:00, 87.35it/s]\n",
      "Training Epoch 1104: 100%|██████████| 261/261 [00:03<00:00, 84.29it/s]\n",
      "Training Epoch 1105: 100%|██████████| 261/261 [00:03<00:00, 83.96it/s]\n",
      "Training Epoch 1106: 100%|██████████| 261/261 [00:16<00:00, 15.83it/s]\n",
      "Training Epoch 1107: 100%|██████████| 261/261 [00:07<00:00, 35.10it/s]\n",
      "Training Epoch 1108: 100%|██████████| 261/261 [00:03<00:00, 86.88it/s]\n",
      "Training Epoch 1109: 100%|██████████| 261/261 [00:03<00:00, 84.50it/s]\n",
      "Training Epoch 1110: 100%|██████████| 261/261 [00:03<00:00, 85.05it/s]\n",
      "Training Epoch 1111: 100%|██████████| 261/261 [00:03<00:00, 86.04it/s]\n"
     ]
    },
    {
     "name": "stdout",
     "output_type": "stream",
     "text": [
      "Epoch 1110 - Train Loss: 0.1564, Train MSE: 0.1564, Train MAE: 0.2948\n",
      "Epoch 1110 - Validation Loss: 1.6162, Validation MSE: 1.6175, Validation MAE: 0.9293\n"
     ]
    },
    {
     "name": "stderr",
     "output_type": "stream",
     "text": [
      "Training Epoch 1112: 100%|██████████| 261/261 [00:03<00:00, 83.76it/s]\n",
      "Training Epoch 1113: 100%|██████████| 261/261 [00:03<00:00, 71.38it/s]\n",
      "Training Epoch 1114: 100%|██████████| 261/261 [00:03<00:00, 76.45it/s]\n",
      "Training Epoch 1115: 100%|██████████| 261/261 [00:03<00:00, 85.49it/s]\n",
      "Training Epoch 1116: 100%|██████████| 261/261 [00:03<00:00, 85.75it/s]\n",
      "Training Epoch 1117: 100%|██████████| 261/261 [00:03<00:00, 86.96it/s]\n",
      "Training Epoch 1118: 100%|██████████| 261/261 [00:03<00:00, 83.67it/s]\n",
      "Training Epoch 1119: 100%|██████████| 261/261 [00:15<00:00, 16.61it/s]\n",
      "Training Epoch 1120: 100%|██████████| 261/261 [00:08<00:00, 31.81it/s]\n",
      "Training Epoch 1121: 100%|██████████| 261/261 [00:02<00:00, 87.67it/s]\n"
     ]
    },
    {
     "name": "stdout",
     "output_type": "stream",
     "text": [
      "Epoch 1120 - Train Loss: 0.1601, Train MSE: 0.1601, Train MAE: 0.3005\n",
      "Epoch 1120 - Validation Loss: 1.6543, Validation MSE: 1.6558, Validation MAE: 0.9235\n"
     ]
    },
    {
     "name": "stderr",
     "output_type": "stream",
     "text": [
      "Training Epoch 1122: 100%|██████████| 261/261 [00:03<00:00, 85.81it/s]\n",
      "Training Epoch 1123: 100%|██████████| 261/261 [00:03<00:00, 81.03it/s]\n",
      "Training Epoch 1124: 100%|██████████| 261/261 [00:03<00:00, 84.52it/s]\n",
      "Training Epoch 1125: 100%|██████████| 261/261 [00:03<00:00, 82.15it/s]\n",
      "Training Epoch 1126: 100%|██████████| 261/261 [00:03<00:00, 81.82it/s]\n",
      "Training Epoch 1127: 100%|██████████| 261/261 [00:03<00:00, 79.43it/s]\n",
      "Training Epoch 1128: 100%|██████████| 261/261 [00:03<00:00, 82.73it/s]\n",
      "Training Epoch 1129: 100%|██████████| 261/261 [00:03<00:00, 77.60it/s]\n",
      "Training Epoch 1130: 100%|██████████| 261/261 [00:03<00:00, 79.58it/s]\n",
      "Training Epoch 1131: 100%|██████████| 261/261 [00:17<00:00, 14.86it/s]\n"
     ]
    },
    {
     "name": "stdout",
     "output_type": "stream",
     "text": [
      "Epoch 1130 - Train Loss: 0.1643, Train MSE: 0.1643, Train MAE: 0.3009\n",
      "Epoch 1130 - Validation Loss: 1.6056, Validation MSE: 1.6069, Validation MAE: 0.9317\n"
     ]
    },
    {
     "name": "stderr",
     "output_type": "stream",
     "text": [
      "Training Epoch 1132: 100%|██████████| 261/261 [00:03<00:00, 71.08it/s]\n",
      "Training Epoch 1133: 100%|██████████| 261/261 [00:03<00:00, 84.56it/s]\n",
      "Training Epoch 1134: 100%|██████████| 261/261 [00:03<00:00, 80.26it/s]\n",
      "Training Epoch 1135: 100%|██████████| 261/261 [00:12<00:00, 21.00it/s]\n",
      "Training Epoch 1136: 100%|██████████| 261/261 [00:20<00:00, 13.03it/s]\n",
      "Training Epoch 1137: 100%|██████████| 261/261 [15:17<00:00,  3.52s/it]   \n",
      "Training Epoch 1138: 100%|██████████| 261/261 [00:05<00:00, 51.96it/s]\n",
      "Training Epoch 1139: 100%|██████████| 261/261 [00:05<00:00, 49.08it/s]\n",
      "Training Epoch 1140: 100%|██████████| 261/261 [00:04<00:00, 53.43it/s]\n",
      "Training Epoch 1141: 100%|██████████| 261/261 [00:05<00:00, 47.61it/s]\n"
     ]
    },
    {
     "name": "stdout",
     "output_type": "stream",
     "text": [
      "Epoch 1140 - Train Loss: 0.1563, Train MSE: 0.1563, Train MAE: 0.2951\n",
      "Epoch 1140 - Validation Loss: 1.5976, Validation MSE: 1.5990, Validation MAE: 0.9176\n"
     ]
    },
    {
     "name": "stderr",
     "output_type": "stream",
     "text": [
      "Training Epoch 1142: 100%|██████████| 261/261 [00:05<00:00, 48.01it/s]\n",
      "Training Epoch 1143: 100%|██████████| 261/261 [00:05<00:00, 47.93it/s]\n",
      "Training Epoch 1144: 100%|██████████| 261/261 [00:05<00:00, 45.35it/s]\n",
      "Training Epoch 1145: 100%|██████████| 261/261 [00:05<00:00, 49.81it/s]\n",
      "Training Epoch 1146: 100%|██████████| 261/261 [00:05<00:00, 47.14it/s]\n",
      "Training Epoch 1147: 100%|██████████| 261/261 [00:05<00:00, 51.68it/s]\n",
      "Training Epoch 1148: 100%|██████████| 261/261 [00:04<00:00, 52.52it/s]\n",
      "Training Epoch 1149: 100%|██████████| 261/261 [00:05<00:00, 51.69it/s]\n",
      "Training Epoch 1150: 100%|██████████| 261/261 [00:04<00:00, 53.79it/s]\n",
      "Training Epoch 1151: 100%|██████████| 261/261 [00:04<00:00, 54.47it/s]\n"
     ]
    },
    {
     "name": "stdout",
     "output_type": "stream",
     "text": [
      "Epoch 1150 - Train Loss: 0.1652, Train MSE: 0.1652, Train MAE: 0.2970\n",
      "Epoch 1150 - Validation Loss: 1.5974, Validation MSE: 1.5988, Validation MAE: 0.9179\n"
     ]
    },
    {
     "name": "stderr",
     "output_type": "stream",
     "text": [
      "Training Epoch 1152: 100%|██████████| 261/261 [00:04<00:00, 52.30it/s]\n",
      "Training Epoch 1153: 100%|██████████| 261/261 [00:05<00:00, 51.36it/s]\n",
      "Training Epoch 1154: 100%|██████████| 261/261 [00:04<00:00, 54.24it/s]\n",
      "Training Epoch 1155: 100%|██████████| 261/261 [00:05<00:00, 51.96it/s]\n",
      "Training Epoch 1156: 100%|██████████| 261/261 [00:04<00:00, 54.03it/s]\n",
      "Training Epoch 1157: 100%|██████████| 261/261 [00:05<00:00, 51.67it/s]\n",
      "Training Epoch 1158: 100%|██████████| 261/261 [00:04<00:00, 52.48it/s]\n",
      "Training Epoch 1159: 100%|██████████| 261/261 [00:04<00:00, 54.74it/s]\n",
      "Training Epoch 1160: 100%|██████████| 261/261 [00:04<00:00, 54.01it/s]\n",
      "Training Epoch 1161: 100%|██████████| 261/261 [00:04<00:00, 52.55it/s]\n"
     ]
    },
    {
     "name": "stdout",
     "output_type": "stream",
     "text": [
      "Epoch 1160 - Train Loss: 0.1639, Train MSE: 0.1640, Train MAE: 0.2970\n",
      "Epoch 1160 - Validation Loss: 1.6064, Validation MSE: 1.6075, Validation MAE: 0.9243\n"
     ]
    },
    {
     "name": "stderr",
     "output_type": "stream",
     "text": [
      "Training Epoch 1162: 100%|██████████| 261/261 [00:05<00:00, 51.11it/s]\n",
      "Training Epoch 1163: 100%|██████████| 261/261 [00:04<00:00, 53.01it/s]\n",
      "Training Epoch 1164: 100%|██████████| 261/261 [00:05<00:00, 51.37it/s]\n",
      "Training Epoch 1165: 100%|██████████| 261/261 [00:04<00:00, 52.51it/s]\n",
      "Training Epoch 1166: 100%|██████████| 261/261 [00:05<00:00, 51.93it/s]\n",
      "Training Epoch 1167: 100%|██████████| 261/261 [00:05<00:00, 51.90it/s]\n",
      "Training Epoch 1168: 100%|██████████| 261/261 [00:05<00:00, 50.57it/s]\n",
      "Training Epoch 1169: 100%|██████████| 261/261 [00:04<00:00, 52.83it/s]\n",
      "Training Epoch 1170: 100%|██████████| 261/261 [00:04<00:00, 54.45it/s]\n",
      "Training Epoch 1171: 100%|██████████| 261/261 [00:04<00:00, 55.18it/s]\n"
     ]
    },
    {
     "name": "stdout",
     "output_type": "stream",
     "text": [
      "Epoch 1170 - Train Loss: 0.1539, Train MSE: 0.1539, Train MAE: 0.2923\n",
      "Epoch 1170 - Validation Loss: 1.5835, Validation MSE: 1.5847, Validation MAE: 0.9104\n"
     ]
    },
    {
     "name": "stderr",
     "output_type": "stream",
     "text": [
      "Training Epoch 1172: 100%|██████████| 261/261 [00:04<00:00, 52.82it/s]\n",
      "Training Epoch 1173: 100%|██████████| 261/261 [00:05<00:00, 51.61it/s]\n",
      "Training Epoch 1174: 100%|██████████| 261/261 [00:04<00:00, 52.30it/s]\n",
      "Training Epoch 1175: 100%|██████████| 261/261 [00:04<00:00, 53.05it/s]\n",
      "Training Epoch 1176: 100%|██████████| 261/261 [00:05<00:00, 51.31it/s]\n",
      "Training Epoch 1177: 100%|██████████| 261/261 [00:04<00:00, 53.52it/s]\n",
      "Training Epoch 1178: 100%|██████████| 261/261 [00:05<00:00, 49.45it/s]\n",
      "Training Epoch 1179: 100%|██████████| 261/261 [00:05<00:00, 50.10it/s]\n",
      "Training Epoch 1180: 100%|██████████| 261/261 [00:04<00:00, 53.33it/s]\n",
      "Training Epoch 1181: 100%|██████████| 261/261 [00:04<00:00, 54.06it/s]\n"
     ]
    },
    {
     "name": "stdout",
     "output_type": "stream",
     "text": [
      "Epoch 1180 - Train Loss: 0.1567, Train MSE: 0.1567, Train MAE: 0.2935\n",
      "Epoch 1180 - Validation Loss: 1.6005, Validation MSE: 1.6018, Validation MAE: 0.9257\n"
     ]
    },
    {
     "name": "stderr",
     "output_type": "stream",
     "text": [
      "Training Epoch 1182: 100%|██████████| 261/261 [00:04<00:00, 52.59it/s]\n",
      "Training Epoch 1183: 100%|██████████| 261/261 [00:05<00:00, 51.49it/s]\n",
      "Training Epoch 1184: 100%|██████████| 261/261 [00:12<00:00, 20.61it/s]\n",
      "Training Epoch 1185: 100%|██████████| 261/261 [00:16<00:00, 16.04it/s]\n",
      "Training Epoch 1186: 100%|██████████| 261/261 [00:15<00:00, 17.35it/s]\n",
      "Training Epoch 1187: 100%|██████████| 261/261 [00:17<00:00, 15.18it/s]\n",
      "Training Epoch 1188: 100%|██████████| 261/261 [00:15<00:00, 16.81it/s]\n",
      "Training Epoch 1189: 100%|██████████| 261/261 [00:16<00:00, 16.01it/s]\n",
      "Training Epoch 1190: 100%|██████████| 261/261 [00:16<00:00, 15.60it/s]\n",
      "Training Epoch 1191: 100%|██████████| 261/261 [00:15<00:00, 17.02it/s]\n"
     ]
    },
    {
     "name": "stdout",
     "output_type": "stream",
     "text": [
      "Epoch 1190 - Train Loss: 0.1506, Train MSE: 0.1506, Train MAE: 0.2905\n",
      "Epoch 1190 - Validation Loss: 1.5594, Validation MSE: 1.5608, Validation MAE: 0.9108\n"
     ]
    },
    {
     "name": "stderr",
     "output_type": "stream",
     "text": [
      "Training Epoch 1192: 100%|██████████| 261/261 [00:15<00:00, 16.73it/s]\n",
      "Training Epoch 1193: 100%|██████████| 261/261 [00:16<00:00, 16.09it/s]\n",
      "Training Epoch 1194: 100%|██████████| 261/261 [00:15<00:00, 16.47it/s]\n",
      "Training Epoch 1195: 100%|██████████| 261/261 [00:15<00:00, 17.04it/s]\n",
      "Training Epoch 1196: 100%|██████████| 261/261 [00:18<00:00, 14.43it/s]\n",
      "Training Epoch 1197: 100%|██████████| 261/261 [00:15<00:00, 16.35it/s]\n",
      "Training Epoch 1198: 100%|██████████| 261/261 [00:15<00:00, 16.46it/s]\n",
      "Training Epoch 1199: 100%|██████████| 261/261 [00:16<00:00, 15.75it/s]\n",
      "Training Epoch 1200: 100%|██████████| 261/261 [00:16<00:00, 16.12it/s]\n",
      "Training Epoch 1201: 100%|██████████| 261/261 [00:16<00:00, 16.10it/s]\n"
     ]
    },
    {
     "name": "stdout",
     "output_type": "stream",
     "text": [
      "Epoch 1200 - Train Loss: 0.1615, Train MSE: 0.1615, Train MAE: 0.2955\n",
      "Epoch 1200 - Validation Loss: 1.6425, Validation MSE: 1.6442, Validation MAE: 0.9284\n"
     ]
    },
    {
     "name": "stderr",
     "output_type": "stream",
     "text": [
      "Training Epoch 1202: 100%|██████████| 261/261 [00:16<00:00, 16.29it/s]\n",
      "Training Epoch 1203: 100%|██████████| 261/261 [00:17<00:00, 15.05it/s]\n",
      "Training Epoch 1204: 100%|██████████| 261/261 [00:16<00:00, 15.70it/s]\n",
      "Training Epoch 1205: 100%|██████████| 261/261 [00:15<00:00, 16.57it/s]\n",
      "Training Epoch 1206: 100%|██████████| 261/261 [16:23<00:00,  3.77s/it] \n",
      "Training Epoch 1207: 100%|██████████| 261/261 [00:08<00:00, 30.73it/s]\n",
      "Training Epoch 1208: 100%|██████████| 261/261 [00:04<00:00, 53.88it/s]\n",
      "Training Epoch 1209: 100%|██████████| 261/261 [00:04<00:00, 53.39it/s]\n",
      "Training Epoch 1210: 100%|██████████| 261/261 [00:04<00:00, 54.07it/s]\n",
      "Training Epoch 1211: 100%|██████████| 261/261 [00:04<00:00, 54.17it/s]\n"
     ]
    },
    {
     "name": "stdout",
     "output_type": "stream",
     "text": [
      "Epoch 1210 - Train Loss: 0.1496, Train MSE: 0.1497, Train MAE: 0.2898\n",
      "Epoch 1210 - Validation Loss: 1.6425, Validation MSE: 1.6438, Validation MAE: 0.9322\n"
     ]
    },
    {
     "name": "stderr",
     "output_type": "stream",
     "text": [
      "Training Epoch 1212: 100%|██████████| 261/261 [00:04<00:00, 55.71it/s]\n",
      "Training Epoch 1213: 100%|██████████| 261/261 [00:05<00:00, 46.71it/s]\n",
      "Training Epoch 1214: 100%|██████████| 261/261 [00:04<00:00, 52.50it/s]\n",
      "Training Epoch 1215: 100%|██████████| 261/261 [00:04<00:00, 54.05it/s]\n",
      "Training Epoch 1216: 100%|██████████| 261/261 [00:04<00:00, 53.26it/s]\n",
      "Training Epoch 1217: 100%|██████████| 261/261 [00:04<00:00, 54.00it/s]\n",
      "Training Epoch 1218: 100%|██████████| 261/261 [00:05<00:00, 50.09it/s]\n",
      "Training Epoch 1219: 100%|██████████| 261/261 [00:04<00:00, 54.51it/s]\n",
      "Training Epoch 1220: 100%|██████████| 261/261 [00:04<00:00, 56.27it/s]\n",
      "Training Epoch 1221: 100%|██████████| 261/261 [00:04<00:00, 55.25it/s]\n"
     ]
    },
    {
     "name": "stdout",
     "output_type": "stream",
     "text": [
      "Epoch 1220 - Train Loss: 0.1573, Train MSE: 0.1573, Train MAE: 0.2943\n",
      "Epoch 1220 - Validation Loss: 1.5609, Validation MSE: 1.5623, Validation MAE: 0.9102\n"
     ]
    },
    {
     "name": "stderr",
     "output_type": "stream",
     "text": [
      "Training Epoch 1222: 100%|██████████| 261/261 [00:04<00:00, 53.62it/s]\n",
      "Training Epoch 1223: 100%|██████████| 261/261 [00:05<00:00, 49.50it/s]\n",
      "Training Epoch 1224: 100%|██████████| 261/261 [00:04<00:00, 52.36it/s]\n",
      "Training Epoch 1225: 100%|██████████| 261/261 [00:04<00:00, 54.85it/s]\n",
      "Training Epoch 1226: 100%|██████████| 261/261 [00:04<00:00, 53.29it/s]\n",
      "Training Epoch 1227: 100%|██████████| 261/261 [00:05<00:00, 49.45it/s]\n",
      "Training Epoch 1228: 100%|██████████| 261/261 [00:05<00:00, 49.13it/s]\n",
      "Training Epoch 1229: 100%|██████████| 261/261 [00:04<00:00, 53.71it/s]\n",
      "Training Epoch 1230: 100%|██████████| 261/261 [00:05<00:00, 52.00it/s]\n",
      "Training Epoch 1231: 100%|██████████| 261/261 [00:04<00:00, 54.51it/s]\n"
     ]
    },
    {
     "name": "stdout",
     "output_type": "stream",
     "text": [
      "Epoch 1230 - Train Loss: 0.1499, Train MSE: 0.1498, Train MAE: 0.2893\n",
      "Epoch 1230 - Validation Loss: 1.5919, Validation MSE: 1.5932, Validation MAE: 0.9193\n"
     ]
    },
    {
     "name": "stderr",
     "output_type": "stream",
     "text": [
      "Training Epoch 1232: 100%|██████████| 261/261 [00:04<00:00, 53.67it/s]\n",
      "Training Epoch 1233: 100%|██████████| 261/261 [00:04<00:00, 52.39it/s]\n",
      "Training Epoch 1234: 100%|██████████| 261/261 [00:04<00:00, 54.74it/s]\n",
      "Training Epoch 1235: 100%|██████████| 261/261 [00:04<00:00, 52.71it/s]\n",
      "Training Epoch 1236: 100%|██████████| 261/261 [00:05<00:00, 51.38it/s]\n",
      "Training Epoch 1237: 100%|██████████| 261/261 [00:04<00:00, 52.36it/s]\n",
      "Training Epoch 1238: 100%|██████████| 261/261 [00:04<00:00, 53.44it/s]\n",
      "Training Epoch 1239: 100%|██████████| 261/261 [00:05<00:00, 51.69it/s]\n",
      "Training Epoch 1240: 100%|██████████| 261/261 [00:04<00:00, 53.53it/s]\n",
      "Training Epoch 1241: 100%|██████████| 261/261 [00:05<00:00, 52.04it/s]\n"
     ]
    },
    {
     "name": "stdout",
     "output_type": "stream",
     "text": [
      "Epoch 1240 - Train Loss: 0.1536, Train MSE: 0.1536, Train MAE: 0.2891\n",
      "Epoch 1240 - Validation Loss: 1.6133, Validation MSE: 1.6148, Validation MAE: 0.9176\n"
     ]
    },
    {
     "name": "stderr",
     "output_type": "stream",
     "text": [
      "Training Epoch 1242: 100%|██████████| 261/261 [00:05<00:00, 52.12it/s]\n",
      "Training Epoch 1243: 100%|██████████| 261/261 [00:04<00:00, 52.75it/s]\n",
      "Training Epoch 1244: 100%|██████████| 261/261 [00:04<00:00, 54.06it/s]\n",
      "Training Epoch 1245: 100%|██████████| 261/261 [00:04<00:00, 53.14it/s]\n",
      "Training Epoch 1246: 100%|██████████| 261/261 [00:05<00:00, 52.07it/s]\n",
      "Training Epoch 1247: 100%|██████████| 261/261 [00:04<00:00, 53.46it/s]\n",
      "Training Epoch 1248: 100%|██████████| 261/261 [00:05<00:00, 51.49it/s]\n",
      "Training Epoch 1249: 100%|██████████| 261/261 [00:04<00:00, 53.65it/s]\n",
      "Training Epoch 1250: 100%|██████████| 261/261 [00:05<00:00, 50.90it/s]\n",
      "Training Epoch 1251: 100%|██████████| 261/261 [00:05<00:00, 47.05it/s]\n"
     ]
    },
    {
     "name": "stdout",
     "output_type": "stream",
     "text": [
      "Epoch 1250 - Train Loss: 0.1492, Train MSE: 0.1492, Train MAE: 0.2893\n",
      "Epoch 1250 - Validation Loss: 1.6189, Validation MSE: 1.6203, Validation MAE: 0.9283\n"
     ]
    },
    {
     "name": "stderr",
     "output_type": "stream",
     "text": [
      "Training Epoch 1252: 100%|██████████| 261/261 [00:05<00:00, 52.13it/s]\n",
      "Training Epoch 1253: 100%|██████████| 261/261 [00:04<00:00, 53.78it/s]\n",
      "Training Epoch 1254: 100%|██████████| 261/261 [00:04<00:00, 53.58it/s]\n",
      "Training Epoch 1255: 100%|██████████| 261/261 [00:05<00:00, 51.74it/s]\n",
      "Training Epoch 1256: 100%|██████████| 261/261 [00:05<00:00, 51.70it/s]\n",
      "Training Epoch 1257: 100%|██████████| 261/261 [00:05<00:00, 51.86it/s]\n",
      "Training Epoch 1258: 100%|██████████| 261/261 [00:04<00:00, 52.94it/s]\n",
      "Training Epoch 1259: 100%|██████████| 261/261 [00:04<00:00, 54.70it/s]\n",
      "Training Epoch 1260: 100%|██████████| 261/261 [00:05<00:00, 48.26it/s]\n",
      "Training Epoch 1261: 100%|██████████| 261/261 [00:05<00:00, 50.35it/s]\n"
     ]
    },
    {
     "name": "stdout",
     "output_type": "stream",
     "text": [
      "Epoch 1260 - Train Loss: 0.1477, Train MSE: 0.1478, Train MAE: 0.2851\n",
      "Epoch 1260 - Validation Loss: 1.6026, Validation MSE: 1.6041, Validation MAE: 0.9193\n"
     ]
    },
    {
     "name": "stderr",
     "output_type": "stream",
     "text": [
      "Training Epoch 1262: 100%|██████████| 261/261 [00:05<00:00, 52.03it/s]\n",
      "Training Epoch 1263: 100%|██████████| 261/261 [00:05<00:00, 51.22it/s]\n",
      "Training Epoch 1264: 100%|██████████| 261/261 [00:05<00:00, 52.12it/s]\n",
      "Training Epoch 1265: 100%|██████████| 261/261 [00:04<00:00, 53.58it/s]\n",
      "Training Epoch 1266: 100%|██████████| 261/261 [00:05<00:00, 52.11it/s]\n",
      "Training Epoch 1267: 100%|██████████| 261/261 [00:04<00:00, 54.30it/s]\n",
      "Training Epoch 1268: 100%|██████████| 261/261 [00:04<00:00, 53.29it/s]\n",
      "Training Epoch 1269: 100%|██████████| 261/261 [00:05<00:00, 51.30it/s]\n",
      "Training Epoch 1270: 100%|██████████| 261/261 [00:04<00:00, 52.52it/s]\n",
      "Training Epoch 1271: 100%|██████████| 261/261 [00:04<00:00, 52.94it/s]\n"
     ]
    },
    {
     "name": "stdout",
     "output_type": "stream",
     "text": [
      "Epoch 1270 - Train Loss: 0.1531, Train MSE: 0.1531, Train MAE: 0.2886\n",
      "Epoch 1270 - Validation Loss: 1.5937, Validation MSE: 1.5951, Validation MAE: 0.9197\n"
     ]
    },
    {
     "name": "stderr",
     "output_type": "stream",
     "text": [
      "Training Epoch 1272: 100%|██████████| 261/261 [00:05<00:00, 47.84it/s]\n",
      "Training Epoch 1273: 100%|██████████| 261/261 [00:05<00:00, 49.92it/s]\n",
      "Training Epoch 1274: 100%|██████████| 261/261 [00:04<00:00, 53.07it/s]\n",
      "Training Epoch 1275: 100%|██████████| 261/261 [00:04<00:00, 52.71it/s]\n",
      "Training Epoch 1276: 100%|██████████| 261/261 [00:04<00:00, 54.08it/s]\n",
      "Training Epoch 1277: 100%|██████████| 261/261 [00:04<00:00, 52.91it/s]\n",
      "Training Epoch 1278: 100%|██████████| 261/261 [00:05<00:00, 49.89it/s]\n",
      "Training Epoch 1279: 100%|██████████| 261/261 [00:04<00:00, 53.59it/s]\n",
      "Training Epoch 1280: 100%|██████████| 261/261 [00:04<00:00, 53.66it/s]\n",
      "Training Epoch 1281: 100%|██████████| 261/261 [00:05<00:00, 50.75it/s]\n"
     ]
    },
    {
     "name": "stdout",
     "output_type": "stream",
     "text": [
      "Epoch 1280 - Train Loss: 0.1586, Train MSE: 0.1586, Train MAE: 0.2925\n",
      "Epoch 1280 - Validation Loss: 1.6129, Validation MSE: 1.6142, Validation MAE: 0.9191\n"
     ]
    },
    {
     "name": "stderr",
     "output_type": "stream",
     "text": [
      "Training Epoch 1282: 100%|██████████| 261/261 [00:04<00:00, 52.80it/s]\n",
      "Training Epoch 1283: 100%|██████████| 261/261 [00:05<00:00, 49.69it/s]\n",
      "Training Epoch 1284: 100%|██████████| 261/261 [00:05<00:00, 51.04it/s]\n",
      "Training Epoch 1285: 100%|██████████| 261/261 [00:04<00:00, 52.96it/s]\n",
      "Training Epoch 1286: 100%|██████████| 261/261 [00:05<00:00, 50.02it/s]\n",
      "Training Epoch 1287: 100%|██████████| 261/261 [00:05<00:00, 51.10it/s]\n",
      "Training Epoch 1288: 100%|██████████| 261/261 [00:04<00:00, 53.48it/s]\n",
      "Training Epoch 1289: 100%|██████████| 261/261 [00:05<00:00, 50.72it/s]\n",
      "Training Epoch 1290: 100%|██████████| 261/261 [00:04<00:00, 52.60it/s]\n",
      "Training Epoch 1291: 100%|██████████| 261/261 [00:04<00:00, 53.22it/s]\n"
     ]
    },
    {
     "name": "stdout",
     "output_type": "stream",
     "text": [
      "Epoch 1290 - Train Loss: 0.1525, Train MSE: 0.1526, Train MAE: 0.2907\n",
      "Epoch 1290 - Validation Loss: 1.5827, Validation MSE: 1.5840, Validation MAE: 0.9168\n"
     ]
    },
    {
     "name": "stderr",
     "output_type": "stream",
     "text": [
      "Training Epoch 1292: 100%|██████████| 261/261 [00:05<00:00, 48.74it/s]\n",
      "Training Epoch 1293: 100%|██████████| 261/261 [00:05<00:00, 51.97it/s]\n",
      "Training Epoch 1294: 100%|██████████| 261/261 [00:05<00:00, 48.74it/s]\n",
      "Training Epoch 1295: 100%|██████████| 261/261 [00:14<00:00, 18.29it/s]\n",
      "Training Epoch 1296: 100%|██████████| 261/261 [00:15<00:00, 16.55it/s]\n",
      "Training Epoch 1297: 100%|██████████| 261/261 [00:15<00:00, 16.60it/s]\n",
      "Training Epoch 1298: 100%|██████████| 261/261 [00:17<00:00, 14.83it/s]\n",
      "Training Epoch 1299: 100%|██████████| 261/261 [00:15<00:00, 16.40it/s]\n",
      "Training Epoch 1300: 100%|██████████| 261/261 [00:10<00:00, 23.74it/s]\n",
      "Training Epoch 1301: 100%|██████████| 261/261 [00:05<00:00, 44.28it/s]\n"
     ]
    },
    {
     "name": "stdout",
     "output_type": "stream",
     "text": [
      "Epoch 1300 - Train Loss: 0.1487, Train MSE: 0.1486, Train MAE: 0.2877\n",
      "Epoch 1300 - Validation Loss: 1.6065, Validation MSE: 1.6079, Validation MAE: 0.9183\n"
     ]
    },
    {
     "name": "stderr",
     "output_type": "stream",
     "text": [
      "Training Epoch 1302: 100%|██████████| 261/261 [00:05<00:00, 50.78it/s]\n",
      "Training Epoch 1303: 100%|██████████| 261/261 [00:05<00:00, 50.51it/s]\n",
      "Training Epoch 1304: 100%|██████████| 261/261 [00:05<00:00, 47.34it/s]\n",
      "Training Epoch 1305: 100%|██████████| 261/261 [00:05<00:00, 44.62it/s]\n",
      "Training Epoch 1306: 100%|██████████| 261/261 [00:05<00:00, 48.15it/s]\n",
      "Training Epoch 1307: 100%|██████████| 261/261 [00:04<00:00, 60.27it/s]\n",
      "Training Epoch 1308: 100%|██████████| 261/261 [00:03<00:00, 72.76it/s]\n",
      "Training Epoch 1309: 100%|██████████| 261/261 [00:03<00:00, 74.69it/s]\n",
      "Training Epoch 1310: 100%|██████████| 261/261 [00:03<00:00, 76.03it/s]\n",
      "Training Epoch 1311: 100%|██████████| 261/261 [00:03<00:00, 79.20it/s]\n"
     ]
    },
    {
     "name": "stdout",
     "output_type": "stream",
     "text": [
      "Epoch 1310 - Train Loss: 0.1448, Train MSE: 0.1448, Train MAE: 0.2806\n",
      "Epoch 1310 - Validation Loss: 1.5957, Validation MSE: 1.5969, Validation MAE: 0.9223\n"
     ]
    },
    {
     "name": "stderr",
     "output_type": "stream",
     "text": [
      "Training Epoch 1312: 100%|██████████| 261/261 [00:03<00:00, 80.13it/s]\n",
      "Training Epoch 1313: 100%|██████████| 261/261 [00:03<00:00, 79.39it/s]\n",
      "Training Epoch 1314: 100%|██████████| 261/261 [00:03<00:00, 71.77it/s]\n",
      "Training Epoch 1315: 100%|██████████| 261/261 [00:03<00:00, 71.44it/s]\n",
      "Training Epoch 1316: 100%|██████████| 261/261 [00:03<00:00, 76.10it/s]\n",
      "Training Epoch 1317: 100%|██████████| 261/261 [00:03<00:00, 74.94it/s]\n",
      "Training Epoch 1318: 100%|██████████| 261/261 [00:03<00:00, 81.08it/s]\n",
      "Training Epoch 1319: 100%|██████████| 261/261 [00:03<00:00, 66.66it/s]\n",
      "Training Epoch 1320: 100%|██████████| 261/261 [00:03<00:00, 82.53it/s]\n",
      "Training Epoch 1321: 100%|██████████| 261/261 [00:03<00:00, 79.10it/s]\n"
     ]
    },
    {
     "name": "stdout",
     "output_type": "stream",
     "text": [
      "Epoch 1320 - Train Loss: 0.1471, Train MSE: 0.1471, Train MAE: 0.2861\n",
      "Epoch 1320 - Validation Loss: 1.6333, Validation MSE: 1.6345, Validation MAE: 0.9314\n"
     ]
    },
    {
     "name": "stderr",
     "output_type": "stream",
     "text": [
      "Training Epoch 1322: 100%|██████████| 261/261 [00:03<00:00, 81.83it/s]\n",
      "Training Epoch 1323: 100%|██████████| 261/261 [00:03<00:00, 79.77it/s]\n",
      "Training Epoch 1324: 100%|██████████| 261/261 [00:03<00:00, 80.60it/s]\n",
      "Training Epoch 1325: 100%|██████████| 261/261 [00:03<00:00, 80.34it/s]\n",
      "Training Epoch 1326: 100%|██████████| 261/261 [00:03<00:00, 82.79it/s]\n",
      "Training Epoch 1327: 100%|██████████| 261/261 [00:03<00:00, 84.64it/s]\n",
      "Training Epoch 1328: 100%|██████████| 261/261 [00:03<00:00, 78.77it/s]\n",
      "Training Epoch 1329: 100%|██████████| 261/261 [00:03<00:00, 80.40it/s]\n",
      "Training Epoch 1330: 100%|██████████| 261/261 [00:03<00:00, 80.14it/s]\n",
      "Training Epoch 1331: 100%|██████████| 261/261 [00:03<00:00, 81.26it/s]\n"
     ]
    },
    {
     "name": "stdout",
     "output_type": "stream",
     "text": [
      "Epoch 1330 - Train Loss: 0.1547, Train MSE: 0.1547, Train MAE: 0.2900\n",
      "Epoch 1330 - Validation Loss: 1.5953, Validation MSE: 1.5967, Validation MAE: 0.9152\n"
     ]
    },
    {
     "name": "stderr",
     "output_type": "stream",
     "text": [
      "Training Epoch 1332: 100%|██████████| 261/261 [00:03<00:00, 82.52it/s]\n",
      "Training Epoch 1333: 100%|██████████| 261/261 [00:03<00:00, 76.55it/s]\n",
      "Training Epoch 1334: 100%|██████████| 261/261 [00:03<00:00, 81.92it/s]\n",
      "Training Epoch 1335: 100%|██████████| 261/261 [00:03<00:00, 76.35it/s]\n",
      "Training Epoch 1336: 100%|██████████| 261/261 [00:03<00:00, 77.35it/s]\n",
      "Training Epoch 1337: 100%|██████████| 261/261 [00:03<00:00, 79.27it/s]\n",
      "Training Epoch 1338: 100%|██████████| 261/261 [00:03<00:00, 83.09it/s]\n",
      "Training Epoch 1339: 100%|██████████| 261/261 [00:03<00:00, 79.51it/s]\n",
      "Training Epoch 1340: 100%|██████████| 261/261 [00:03<00:00, 81.49it/s]\n",
      "Training Epoch 1341: 100%|██████████| 261/261 [00:03<00:00, 81.86it/s]\n"
     ]
    },
    {
     "name": "stdout",
     "output_type": "stream",
     "text": [
      "Epoch 1340 - Train Loss: 0.1440, Train MSE: 0.1440, Train MAE: 0.2832\n",
      "Epoch 1340 - Validation Loss: 1.5965, Validation MSE: 1.5979, Validation MAE: 0.9213\n"
     ]
    },
    {
     "name": "stderr",
     "output_type": "stream",
     "text": [
      "Training Epoch 1342: 100%|██████████| 261/261 [00:03<00:00, 77.19it/s]\n",
      "Training Epoch 1343: 100%|██████████| 261/261 [00:03<00:00, 77.90it/s]\n",
      "Training Epoch 1344: 100%|██████████| 261/261 [00:03<00:00, 79.66it/s]\n",
      "Training Epoch 1345: 100%|██████████| 261/261 [00:03<00:00, 78.59it/s]\n",
      "Training Epoch 1346: 100%|██████████| 261/261 [00:03<00:00, 79.30it/s]\n",
      "Training Epoch 1347: 100%|██████████| 261/261 [00:03<00:00, 80.27it/s]\n",
      "Training Epoch 1348: 100%|██████████| 261/261 [00:03<00:00, 78.34it/s]\n",
      "Training Epoch 1349: 100%|██████████| 261/261 [00:03<00:00, 78.45it/s]\n",
      "Training Epoch 1350: 100%|██████████| 261/261 [00:03<00:00, 80.93it/s]\n",
      "Training Epoch 1351: 100%|██████████| 261/261 [00:03<00:00, 77.80it/s]\n"
     ]
    },
    {
     "name": "stdout",
     "output_type": "stream",
     "text": [
      "Epoch 1350 - Train Loss: 0.1483, Train MSE: 0.1483, Train MAE: 0.2835\n",
      "Epoch 1350 - Validation Loss: 1.6112, Validation MSE: 1.6125, Validation MAE: 0.9250\n"
     ]
    },
    {
     "name": "stderr",
     "output_type": "stream",
     "text": [
      "Training Epoch 1352: 100%|██████████| 261/261 [00:03<00:00, 83.34it/s]\n",
      "Training Epoch 1353: 100%|██████████| 261/261 [00:03<00:00, 75.34it/s]\n",
      "Training Epoch 1354: 100%|██████████| 261/261 [00:03<00:00, 78.75it/s]\n",
      "Training Epoch 1355: 100%|██████████| 261/261 [00:03<00:00, 81.86it/s]\n",
      "Training Epoch 1356: 100%|██████████| 261/261 [00:03<00:00, 77.48it/s]\n",
      "Training Epoch 1357: 100%|██████████| 261/261 [00:03<00:00, 83.53it/s]\n",
      "Training Epoch 1358: 100%|██████████| 261/261 [00:03<00:00, 82.09it/s]\n",
      "Training Epoch 1359: 100%|██████████| 261/261 [00:03<00:00, 79.12it/s]\n",
      "Training Epoch 1360: 100%|██████████| 261/261 [00:03<00:00, 81.24it/s]\n",
      "Training Epoch 1361: 100%|██████████| 261/261 [00:03<00:00, 80.37it/s]\n"
     ]
    },
    {
     "name": "stdout",
     "output_type": "stream",
     "text": [
      "Epoch 1360 - Train Loss: 0.1406, Train MSE: 0.1406, Train MAE: 0.2801\n",
      "Epoch 1360 - Validation Loss: 1.6175, Validation MSE: 1.6192, Validation MAE: 0.9233\n"
     ]
    },
    {
     "name": "stderr",
     "output_type": "stream",
     "text": [
      "Training Epoch 1362: 100%|██████████| 261/261 [00:03<00:00, 80.91it/s]\n",
      "Training Epoch 1363: 100%|██████████| 261/261 [00:03<00:00, 80.52it/s]\n",
      "Training Epoch 1364: 100%|██████████| 261/261 [00:03<00:00, 81.46it/s]\n",
      "Training Epoch 1365: 100%|██████████| 261/261 [00:03<00:00, 78.84it/s]\n",
      "Training Epoch 1366: 100%|██████████| 261/261 [00:03<00:00, 77.87it/s]\n",
      "Training Epoch 1367: 100%|██████████| 261/261 [00:03<00:00, 81.17it/s]\n",
      "Training Epoch 1368: 100%|██████████| 261/261 [00:03<00:00, 78.20it/s]\n",
      "Training Epoch 1369: 100%|██████████| 261/261 [00:03<00:00, 81.12it/s]\n",
      "Training Epoch 1370: 100%|██████████| 261/261 [00:03<00:00, 70.92it/s]\n",
      "Training Epoch 1371: 100%|██████████| 261/261 [00:03<00:00, 79.64it/s]\n"
     ]
    },
    {
     "name": "stdout",
     "output_type": "stream",
     "text": [
      "Epoch 1370 - Train Loss: 0.1519, Train MSE: 0.1518, Train MAE: 0.2876\n",
      "Epoch 1370 - Validation Loss: 1.5927, Validation MSE: 1.5943, Validation MAE: 0.9193\n"
     ]
    },
    {
     "name": "stderr",
     "output_type": "stream",
     "text": [
      "Training Epoch 1372: 100%|██████████| 261/261 [00:03<00:00, 76.52it/s]\n",
      "Training Epoch 1373: 100%|██████████| 261/261 [00:03<00:00, 77.83it/s]\n",
      "Training Epoch 1374: 100%|██████████| 261/261 [00:03<00:00, 76.90it/s]\n",
      "Training Epoch 1375: 100%|██████████| 261/261 [00:03<00:00, 82.80it/s]\n",
      "Training Epoch 1376: 100%|██████████| 261/261 [00:03<00:00, 82.50it/s]\n",
      "Training Epoch 1377: 100%|██████████| 261/261 [00:03<00:00, 79.37it/s]\n",
      "Training Epoch 1378: 100%|██████████| 261/261 [00:03<00:00, 82.45it/s]\n",
      "Training Epoch 1379: 100%|██████████| 261/261 [00:03<00:00, 80.47it/s]\n",
      "Training Epoch 1380: 100%|██████████| 261/261 [00:03<00:00, 81.66it/s]\n",
      "Training Epoch 1381: 100%|██████████| 261/261 [00:03<00:00, 81.92it/s]\n"
     ]
    },
    {
     "name": "stdout",
     "output_type": "stream",
     "text": [
      "Epoch 1380 - Train Loss: 0.1504, Train MSE: 0.1504, Train MAE: 0.2853\n",
      "Epoch 1380 - Validation Loss: 1.6058, Validation MSE: 1.6071, Validation MAE: 0.9204\n"
     ]
    },
    {
     "name": "stderr",
     "output_type": "stream",
     "text": [
      "Training Epoch 1382: 100%|██████████| 261/261 [00:03<00:00, 82.70it/s]\n",
      "Training Epoch 1383: 100%|██████████| 261/261 [00:03<00:00, 80.77it/s]\n",
      "Training Epoch 1384: 100%|██████████| 261/261 [00:03<00:00, 76.05it/s]\n",
      "Training Epoch 1385: 100%|██████████| 261/261 [00:03<00:00, 81.23it/s]\n",
      "Training Epoch 1386: 100%|██████████| 261/261 [00:03<00:00, 80.68it/s]\n",
      "Training Epoch 1387: 100%|██████████| 261/261 [00:03<00:00, 72.74it/s]\n",
      "Training Epoch 1388: 100%|██████████| 261/261 [00:03<00:00, 80.46it/s]\n",
      "Training Epoch 1389: 100%|██████████| 261/261 [00:03<00:00, 81.78it/s]\n",
      "Training Epoch 1390: 100%|██████████| 261/261 [00:03<00:00, 80.00it/s]\n",
      "Training Epoch 1391: 100%|██████████| 261/261 [00:03<00:00, 77.82it/s]\n"
     ]
    },
    {
     "name": "stdout",
     "output_type": "stream",
     "text": [
      "Epoch 1390 - Train Loss: 0.1362, Train MSE: 0.1362, Train MAE: 0.2769\n",
      "Epoch 1390 - Validation Loss: 1.6165, Validation MSE: 1.6177, Validation MAE: 0.9291\n"
     ]
    },
    {
     "name": "stderr",
     "output_type": "stream",
     "text": [
      "Training Epoch 1392: 100%|██████████| 261/261 [00:03<00:00, 83.96it/s]\n",
      "Training Epoch 1393: 100%|██████████| 261/261 [00:03<00:00, 77.90it/s]\n",
      "Training Epoch 1394: 100%|██████████| 261/261 [00:03<00:00, 80.35it/s]\n",
      "Training Epoch 1395: 100%|██████████| 261/261 [00:03<00:00, 80.98it/s]\n",
      "Training Epoch 1396: 100%|██████████| 261/261 [00:03<00:00, 83.16it/s]\n",
      "Training Epoch 1397: 100%|██████████| 261/261 [00:03<00:00, 78.74it/s]\n",
      "Training Epoch 1398: 100%|██████████| 261/261 [00:03<00:00, 79.62it/s]\n",
      "Training Epoch 1399: 100%|██████████| 261/261 [00:03<00:00, 79.10it/s]\n",
      "Training Epoch 1400: 100%|██████████| 261/261 [00:03<00:00, 79.65it/s]\n",
      "Training Epoch 1401: 100%|██████████| 261/261 [00:03<00:00, 82.39it/s]\n"
     ]
    },
    {
     "name": "stdout",
     "output_type": "stream",
     "text": [
      "Epoch 1400 - Train Loss: 0.1449, Train MSE: 0.1449, Train MAE: 0.2824\n",
      "Epoch 1400 - Validation Loss: 1.5937, Validation MSE: 1.5945, Validation MAE: 0.9144\n"
     ]
    },
    {
     "name": "stderr",
     "output_type": "stream",
     "text": [
      "Training Epoch 1402: 100%|██████████| 261/261 [00:03<00:00, 80.11it/s]\n",
      "Training Epoch 1403: 100%|██████████| 261/261 [00:03<00:00, 79.45it/s]\n",
      "Training Epoch 1404: 100%|██████████| 261/261 [00:03<00:00, 84.11it/s]\n",
      "Training Epoch 1405: 100%|██████████| 261/261 [00:03<00:00, 74.92it/s]\n",
      "Training Epoch 1406: 100%|██████████| 261/261 [00:03<00:00, 80.43it/s]\n",
      "Training Epoch 1407: 100%|██████████| 261/261 [00:03<00:00, 80.11it/s]\n",
      "Training Epoch 1408: 100%|██████████| 261/261 [00:03<00:00, 78.36it/s]\n",
      "Training Epoch 1409: 100%|██████████| 261/261 [00:03<00:00, 78.29it/s]\n",
      "Training Epoch 1410: 100%|██████████| 261/261 [00:03<00:00, 81.69it/s]\n",
      "Training Epoch 1411: 100%|██████████| 261/261 [00:03<00:00, 80.60it/s]\n"
     ]
    },
    {
     "name": "stdout",
     "output_type": "stream",
     "text": [
      "Epoch 1410 - Train Loss: 0.1424, Train MSE: 0.1424, Train MAE: 0.2804\n",
      "Epoch 1410 - Validation Loss: 1.6349, Validation MSE: 1.6360, Validation MAE: 0.9273\n"
     ]
    },
    {
     "name": "stderr",
     "output_type": "stream",
     "text": [
      "Training Epoch 1412: 100%|██████████| 261/261 [00:03<00:00, 84.00it/s]\n",
      "Training Epoch 1413: 100%|██████████| 261/261 [00:03<00:00, 82.10it/s]\n",
      "Training Epoch 1414: 100%|██████████| 261/261 [00:03<00:00, 81.37it/s]\n",
      "Training Epoch 1415: 100%|██████████| 261/261 [00:03<00:00, 79.65it/s]\n",
      "Training Epoch 1416: 100%|██████████| 261/261 [00:03<00:00, 78.99it/s]\n",
      "Training Epoch 1417: 100%|██████████| 261/261 [00:03<00:00, 83.18it/s]\n",
      "Training Epoch 1418: 100%|██████████| 261/261 [00:03<00:00, 82.08it/s]\n",
      "Training Epoch 1419: 100%|██████████| 261/261 [00:03<00:00, 78.19it/s]\n",
      "Training Epoch 1420: 100%|██████████| 261/261 [00:03<00:00, 79.32it/s]\n",
      "Training Epoch 1421: 100%|██████████| 261/261 [00:03<00:00, 83.95it/s]\n"
     ]
    },
    {
     "name": "stdout",
     "output_type": "stream",
     "text": [
      "Epoch 1420 - Train Loss: 0.1434, Train MSE: 0.1434, Train MAE: 0.2801\n",
      "Epoch 1420 - Validation Loss: 1.5738, Validation MSE: 1.5752, Validation MAE: 0.9180\n"
     ]
    },
    {
     "name": "stderr",
     "output_type": "stream",
     "text": [
      "Training Epoch 1422: 100%|██████████| 261/261 [00:03<00:00, 77.32it/s]\n",
      "Training Epoch 1423: 100%|██████████| 261/261 [00:03<00:00, 82.30it/s]\n",
      "Training Epoch 1424: 100%|██████████| 261/261 [00:03<00:00, 81.36it/s]\n",
      "Training Epoch 1425: 100%|██████████| 261/261 [00:03<00:00, 78.19it/s]\n",
      "Training Epoch 1426: 100%|██████████| 261/261 [00:03<00:00, 79.53it/s]\n",
      "Training Epoch 1427: 100%|██████████| 261/261 [00:03<00:00, 80.81it/s]\n",
      "Training Epoch 1428: 100%|██████████| 261/261 [00:03<00:00, 81.63it/s]\n",
      "Training Epoch 1429: 100%|██████████| 261/261 [00:03<00:00, 81.56it/s]\n",
      "Training Epoch 1430: 100%|██████████| 261/261 [00:03<00:00, 75.13it/s]\n",
      "Training Epoch 1431: 100%|██████████| 261/261 [00:03<00:00, 79.80it/s]\n"
     ]
    },
    {
     "name": "stdout",
     "output_type": "stream",
     "text": [
      "Epoch 1430 - Train Loss: 0.1475, Train MSE: 0.1475, Train MAE: 0.2818\n",
      "Epoch 1430 - Validation Loss: 1.5995, Validation MSE: 1.6008, Validation MAE: 0.9255\n"
     ]
    },
    {
     "name": "stderr",
     "output_type": "stream",
     "text": [
      "Training Epoch 1432: 100%|██████████| 261/261 [00:03<00:00, 79.23it/s]\n",
      "Training Epoch 1433: 100%|██████████| 261/261 [00:03<00:00, 81.79it/s]\n",
      "Training Epoch 1434: 100%|██████████| 261/261 [00:03<00:00, 76.71it/s]\n",
      "Training Epoch 1435: 100%|██████████| 261/261 [00:03<00:00, 81.85it/s]\n",
      "Training Epoch 1436: 100%|██████████| 261/261 [00:03<00:00, 80.07it/s]\n",
      "Training Epoch 1437: 100%|██████████| 261/261 [00:03<00:00, 79.33it/s]\n",
      "Training Epoch 1438: 100%|██████████| 261/261 [00:03<00:00, 81.33it/s]\n",
      "Training Epoch 1439: 100%|██████████| 261/261 [00:03<00:00, 70.80it/s]\n",
      "Training Epoch 1440: 100%|██████████| 261/261 [00:03<00:00, 75.39it/s]\n",
      "Training Epoch 1441: 100%|██████████| 261/261 [00:03<00:00, 81.01it/s]\n"
     ]
    },
    {
     "name": "stdout",
     "output_type": "stream",
     "text": [
      "Epoch 1440 - Train Loss: 0.1452, Train MSE: 0.1452, Train MAE: 0.2824\n",
      "Epoch 1440 - Validation Loss: 1.5945, Validation MSE: 1.5957, Validation MAE: 0.9177\n"
     ]
    },
    {
     "name": "stderr",
     "output_type": "stream",
     "text": [
      "Training Epoch 1442: 100%|██████████| 261/261 [00:03<00:00, 79.06it/s]\n",
      "Training Epoch 1443: 100%|██████████| 261/261 [00:03<00:00, 74.80it/s]\n",
      "Training Epoch 1444: 100%|██████████| 261/261 [00:03<00:00, 82.02it/s]\n",
      "Training Epoch 1445: 100%|██████████| 261/261 [00:03<00:00, 81.05it/s]\n",
      "Training Epoch 1446: 100%|██████████| 261/261 [00:03<00:00, 80.96it/s]\n",
      "Training Epoch 1447: 100%|██████████| 261/261 [00:03<00:00, 79.90it/s]\n",
      "Training Epoch 1448: 100%|██████████| 261/261 [00:03<00:00, 80.30it/s]\n",
      "Training Epoch 1449: 100%|██████████| 261/261 [00:03<00:00, 81.01it/s]\n",
      "Training Epoch 1450: 100%|██████████| 261/261 [00:03<00:00, 81.16it/s]\n",
      "Training Epoch 1451: 100%|██████████| 261/261 [00:03<00:00, 78.03it/s]\n"
     ]
    },
    {
     "name": "stdout",
     "output_type": "stream",
     "text": [
      "Epoch 1450 - Train Loss: 0.1446, Train MSE: 0.1446, Train MAE: 0.2801\n",
      "Epoch 1450 - Validation Loss: 1.5831, Validation MSE: 1.5849, Validation MAE: 0.9158\n"
     ]
    },
    {
     "name": "stderr",
     "output_type": "stream",
     "text": [
      "Training Epoch 1452: 100%|██████████| 261/261 [00:03<00:00, 80.87it/s]\n",
      "Training Epoch 1453: 100%|██████████| 261/261 [00:03<00:00, 79.37it/s]\n",
      "Training Epoch 1454: 100%|██████████| 261/261 [00:03<00:00, 82.07it/s]\n",
      "Training Epoch 1455: 100%|██████████| 261/261 [00:03<00:00, 84.14it/s]\n",
      "Training Epoch 1456: 100%|██████████| 261/261 [00:03<00:00, 79.90it/s]\n",
      "Training Epoch 1457: 100%|██████████| 261/261 [00:03<00:00, 73.60it/s]\n",
      "Training Epoch 1458: 100%|██████████| 261/261 [00:03<00:00, 78.22it/s]\n",
      "Training Epoch 1459: 100%|██████████| 261/261 [00:03<00:00, 78.05it/s]\n",
      "Training Epoch 1460: 100%|██████████| 261/261 [00:03<00:00, 80.63it/s]\n",
      "Training Epoch 1461: 100%|██████████| 261/261 [00:03<00:00, 78.81it/s]\n"
     ]
    },
    {
     "name": "stdout",
     "output_type": "stream",
     "text": [
      "Epoch 1460 - Train Loss: 0.1444, Train MSE: 0.1444, Train MAE: 0.2800\n",
      "Epoch 1460 - Validation Loss: 1.5950, Validation MSE: 1.5963, Validation MAE: 0.9212\n"
     ]
    },
    {
     "name": "stderr",
     "output_type": "stream",
     "text": [
      "Training Epoch 1462: 100%|██████████| 261/261 [00:03<00:00, 80.27it/s]\n",
      "Training Epoch 1463: 100%|██████████| 261/261 [00:03<00:00, 82.07it/s]\n",
      "Training Epoch 1464: 100%|██████████| 261/261 [00:03<00:00, 80.39it/s]\n",
      "Training Epoch 1465: 100%|██████████| 261/261 [15:43<00:00,  3.62s/it]\n",
      "Training Epoch 1466: 100%|██████████| 261/261 [00:03<00:00, 78.96it/s]\n",
      "Training Epoch 1467: 100%|██████████| 261/261 [00:06<00:00, 42.08it/s]\n",
      "Training Epoch 1468: 100%|██████████| 261/261 [00:04<00:00, 57.18it/s]\n",
      "Training Epoch 1469: 100%|██████████| 261/261 [00:04<00:00, 54.58it/s]\n",
      "Training Epoch 1470: 100%|██████████| 261/261 [00:05<00:00, 52.18it/s]\n",
      "Training Epoch 1471: 100%|██████████| 261/261 [00:04<00:00, 52.60it/s]\n"
     ]
    },
    {
     "name": "stdout",
     "output_type": "stream",
     "text": [
      "Epoch 1470 - Train Loss: 0.1350, Train MSE: 0.1350, Train MAE: 0.2721\n",
      "Epoch 1470 - Validation Loss: 1.6149, Validation MSE: 1.6162, Validation MAE: 0.9278\n"
     ]
    },
    {
     "name": "stderr",
     "output_type": "stream",
     "text": [
      "Training Epoch 1472: 100%|██████████| 261/261 [00:05<00:00, 51.68it/s]\n",
      "Training Epoch 1473: 100%|██████████| 261/261 [00:05<00:00, 46.70it/s]\n",
      "Training Epoch 1474: 100%|██████████| 261/261 [00:05<00:00, 49.39it/s]\n",
      "Training Epoch 1475: 100%|██████████| 261/261 [16:20<00:00,  3.76s/it]  \n",
      "Training Epoch 1476: 100%|██████████| 261/261 [00:04<00:00, 52.70it/s]\n",
      "Training Epoch 1477: 100%|██████████| 261/261 [00:04<00:00, 52.32it/s]\n",
      "Training Epoch 1478: 100%|██████████| 261/261 [00:04<00:00, 54.71it/s]\n",
      "Training Epoch 1479: 100%|██████████| 261/261 [00:04<00:00, 59.48it/s]\n",
      "Training Epoch 1480: 100%|██████████| 261/261 [00:04<00:00, 57.29it/s]\n",
      "Training Epoch 1481: 100%|██████████| 261/261 [00:04<00:00, 55.48it/s]\n"
     ]
    },
    {
     "name": "stdout",
     "output_type": "stream",
     "text": [
      "Epoch 1480 - Train Loss: 0.1442, Train MSE: 0.1441, Train MAE: 0.2818\n",
      "Epoch 1480 - Validation Loss: 1.6014, Validation MSE: 1.6028, Validation MAE: 0.9239\n"
     ]
    },
    {
     "name": "stderr",
     "output_type": "stream",
     "text": [
      "Training Epoch 1482: 100%|██████████| 261/261 [00:04<00:00, 56.61it/s]\n",
      "Training Epoch 1483: 100%|██████████| 261/261 [00:04<00:00, 59.64it/s]\n",
      "Training Epoch 1484: 100%|██████████| 261/261 [15:33<00:00,  3.58s/it]\n",
      "Training Epoch 1485: 100%|██████████| 261/261 [00:04<00:00, 56.57it/s]\n",
      "Training Epoch 1486: 100%|██████████| 261/261 [00:04<00:00, 56.27it/s]\n",
      "Training Epoch 1487: 100%|██████████| 261/261 [00:04<00:00, 59.70it/s]\n",
      "Training Epoch 1488: 100%|██████████| 261/261 [00:04<00:00, 54.90it/s]\n",
      "Training Epoch 1489: 100%|██████████| 261/261 [00:04<00:00, 57.44it/s]\n",
      "Training Epoch 1490: 100%|██████████| 261/261 [00:04<00:00, 59.41it/s]\n",
      "Training Epoch 1491: 100%|██████████| 261/261 [00:04<00:00, 57.32it/s]\n"
     ]
    },
    {
     "name": "stdout",
     "output_type": "stream",
     "text": [
      "Epoch 1490 - Train Loss: 0.1385, Train MSE: 0.1385, Train MAE: 0.2752\n",
      "Epoch 1490 - Validation Loss: 1.5914, Validation MSE: 1.5929, Validation MAE: 0.9205\n"
     ]
    },
    {
     "name": "stderr",
     "output_type": "stream",
     "text": [
      "Training Epoch 1492: 100%|██████████| 261/261 [00:04<00:00, 58.18it/s]\n",
      "Training Epoch 1493: 100%|██████████| 261/261 [00:04<00:00, 60.66it/s]\n",
      "Training Epoch 1494: 100%|██████████| 261/261 [01:47<00:00,  2.43it/s]\n",
      "Training Epoch 1495: 100%|██████████| 261/261 [00:04<00:00, 55.51it/s]\n",
      "Training Epoch 1496: 100%|██████████| 261/261 [00:04<00:00, 56.62it/s]\n",
      "Training Epoch 1497: 100%|██████████| 261/261 [00:04<00:00, 59.34it/s]\n",
      "Training Epoch 1498: 100%|██████████| 261/261 [00:04<00:00, 54.30it/s]\n",
      "Training Epoch 1499: 100%|██████████| 261/261 [00:04<00:00, 57.47it/s]\n",
      "Training Epoch 1500: 100%|██████████| 261/261 [00:04<00:00, 60.04it/s]\n",
      "Training Epoch 1501: 100%|██████████| 261/261 [00:04<00:00, 54.70it/s]\n"
     ]
    },
    {
     "name": "stdout",
     "output_type": "stream",
     "text": [
      "Epoch 1500 - Train Loss: 0.1428, Train MSE: 0.1428, Train MAE: 0.2771\n",
      "Epoch 1500 - Validation Loss: 1.6029, Validation MSE: 1.6041, Validation MAE: 0.9237\n"
     ]
    },
    {
     "name": "stderr",
     "output_type": "stream",
     "text": [
      "Training Epoch 1502: 100%|██████████| 261/261 [00:04<00:00, 59.01it/s]\n",
      "Training Epoch 1503: 100%|██████████| 261/261 [00:04<00:00, 59.87it/s]\n",
      "Training Epoch 1504: 100%|██████████| 261/261 [15:57<00:00,  3.67s/it] \n",
      "Training Epoch 1505: 100%|██████████| 261/261 [00:04<00:00, 58.80it/s]\n",
      "Training Epoch 1506: 100%|██████████| 261/261 [00:04<00:00, 60.61it/s]\n",
      "Training Epoch 1507: 100%|██████████| 261/261 [00:04<00:00, 56.37it/s]\n",
      "Training Epoch 1508: 100%|██████████| 261/261 [00:04<00:00, 56.15it/s]\n",
      "Training Epoch 1509: 100%|██████████| 261/261 [00:04<00:00, 57.40it/s]\n",
      "Training Epoch 1510: 100%|██████████| 261/261 [00:04<00:00, 58.61it/s]\n",
      "Training Epoch 1511: 100%|██████████| 261/261 [00:04<00:00, 56.68it/s]\n"
     ]
    },
    {
     "name": "stdout",
     "output_type": "stream",
     "text": [
      "Epoch 1510 - Train Loss: 0.1371, Train MSE: 0.1371, Train MAE: 0.2741\n",
      "Epoch 1510 - Validation Loss: 1.5932, Validation MSE: 1.5946, Validation MAE: 0.9161\n"
     ]
    },
    {
     "name": "stderr",
     "output_type": "stream",
     "text": [
      "Training Epoch 1512: 100%|██████████| 261/261 [00:04<00:00, 57.84it/s]\n",
      "Training Epoch 1513: 100%|██████████| 261/261 [00:05<00:00, 51.72it/s]\n",
      "Training Epoch 1514: 100%|██████████| 261/261 [00:04<00:00, 56.62it/s]\n",
      "Training Epoch 1515: 100%|██████████| 261/261 [00:04<00:00, 58.03it/s]\n",
      "Training Epoch 1516: 100%|██████████| 261/261 [00:04<00:00, 61.30it/s]\n",
      "Training Epoch 1517: 100%|██████████| 261/261 [00:04<00:00, 56.61it/s]\n",
      "Training Epoch 1518: 100%|██████████| 261/261 [00:04<00:00, 57.18it/s]\n",
      "Training Epoch 1519: 100%|██████████| 261/261 [00:04<00:00, 55.66it/s]\n",
      "Training Epoch 1520: 100%|██████████| 261/261 [00:04<00:00, 59.06it/s]\n",
      "Training Epoch 1521: 100%|██████████| 261/261 [00:04<00:00, 55.27it/s]\n"
     ]
    },
    {
     "name": "stdout",
     "output_type": "stream",
     "text": [
      "Epoch 1520 - Train Loss: 0.1349, Train MSE: 0.1349, Train MAE: 0.2735\n",
      "Epoch 1520 - Validation Loss: 1.6067, Validation MSE: 1.6082, Validation MAE: 0.9240\n"
     ]
    },
    {
     "name": "stderr",
     "output_type": "stream",
     "text": [
      "Training Epoch 1522: 100%|██████████| 261/261 [00:04<00:00, 56.11it/s]\n",
      "Training Epoch 1523: 100%|██████████| 261/261 [15:28<00:00,  3.56s/it]  \n",
      "Training Epoch 1524: 100%|██████████| 261/261 [00:05<00:00, 43.95it/s]\n",
      "Training Epoch 1525: 100%|██████████| 261/261 [00:05<00:00, 50.03it/s]\n",
      "Training Epoch 1526: 100%|██████████| 261/261 [00:04<00:00, 55.23it/s]\n",
      "Training Epoch 1527: 100%|██████████| 261/261 [00:04<00:00, 52.86it/s]\n",
      "Training Epoch 1528: 100%|██████████| 261/261 [00:05<00:00, 50.74it/s]\n",
      "Training Epoch 1529: 100%|██████████| 261/261 [00:04<00:00, 54.18it/s]\n",
      "Training Epoch 1530: 100%|██████████| 261/261 [00:04<00:00, 58.53it/s]\n",
      "Training Epoch 1531: 100%|██████████| 261/261 [00:04<00:00, 53.24it/s]\n"
     ]
    },
    {
     "name": "stdout",
     "output_type": "stream",
     "text": [
      "Epoch 1530 - Train Loss: 0.1353, Train MSE: 0.1353, Train MAE: 0.2725\n",
      "Epoch 1530 - Validation Loss: 1.5556, Validation MSE: 1.5568, Validation MAE: 0.9026\n"
     ]
    },
    {
     "name": "stderr",
     "output_type": "stream",
     "text": [
      "Training Epoch 1532: 100%|██████████| 261/261 [00:04<00:00, 58.00it/s]\n",
      "Training Epoch 1533: 100%|██████████| 261/261 [00:04<00:00, 57.36it/s]\n",
      "Training Epoch 1534: 100%|██████████| 261/261 [00:04<00:00, 58.40it/s]\n",
      "Training Epoch 1535: 100%|██████████| 261/261 [00:04<00:00, 58.83it/s]\n",
      "Training Epoch 1536: 100%|██████████| 261/261 [15:36<00:00,  3.59s/it]  \n",
      "Training Epoch 1537: 100%|██████████| 261/261 [00:04<00:00, 54.59it/s]\n",
      "Training Epoch 1538: 100%|██████████| 261/261 [00:04<00:00, 56.05it/s]\n",
      "Training Epoch 1539: 100%|██████████| 261/261 [00:04<00:00, 54.73it/s]\n",
      "Training Epoch 1540: 100%|██████████| 261/261 [00:04<00:00, 54.39it/s]\n",
      "Training Epoch 1541: 100%|██████████| 261/261 [00:04<00:00, 55.00it/s]\n"
     ]
    },
    {
     "name": "stdout",
     "output_type": "stream",
     "text": [
      "Epoch 1540 - Train Loss: 0.1395, Train MSE: 0.1395, Train MAE: 0.2769\n",
      "Epoch 1540 - Validation Loss: 1.6243, Validation MSE: 1.6255, Validation MAE: 0.9299\n"
     ]
    },
    {
     "name": "stderr",
     "output_type": "stream",
     "text": [
      "Training Epoch 1542: 100%|██████████| 261/261 [00:04<00:00, 53.16it/s]\n",
      "Training Epoch 1543: 100%|██████████| 261/261 [00:05<00:00, 52.19it/s]\n",
      "Training Epoch 1544: 100%|██████████| 261/261 [00:04<00:00, 53.86it/s]\n",
      "Training Epoch 1545: 100%|██████████| 261/261 [00:04<00:00, 55.23it/s]\n",
      "Training Epoch 1546: 100%|██████████| 261/261 [00:04<00:00, 55.96it/s]\n",
      "Training Epoch 1547: 100%|██████████| 261/261 [00:04<00:00, 55.88it/s]\n",
      "Training Epoch 1548: 100%|██████████| 261/261 [00:04<00:00, 57.43it/s]\n",
      "Training Epoch 1549: 100%|██████████| 261/261 [00:04<00:00, 53.36it/s]\n",
      "Training Epoch 1550: 100%|██████████| 261/261 [00:04<00:00, 56.82it/s]\n",
      "Training Epoch 1551: 100%|██████████| 261/261 [00:04<00:00, 56.64it/s]\n"
     ]
    },
    {
     "name": "stdout",
     "output_type": "stream",
     "text": [
      "Epoch 1550 - Train Loss: 0.1349, Train MSE: 0.1349, Train MAE: 0.2722\n",
      "Epoch 1550 - Validation Loss: 1.5899, Validation MSE: 1.5910, Validation MAE: 0.9212\n"
     ]
    },
    {
     "name": "stderr",
     "output_type": "stream",
     "text": [
      "Training Epoch 1552: 100%|██████████| 261/261 [00:04<00:00, 54.96it/s]\n",
      "Training Epoch 1553: 100%|██████████| 261/261 [00:04<00:00, 56.51it/s]\n",
      "Training Epoch 1554: 100%|██████████| 261/261 [00:04<00:00, 57.02it/s]\n",
      "Training Epoch 1555: 100%|██████████| 261/261 [00:04<00:00, 52.64it/s]\n",
      "Training Epoch 1556: 100%|██████████| 261/261 [00:04<00:00, 55.17it/s]\n",
      "Training Epoch 1557: 100%|██████████| 261/261 [00:04<00:00, 55.05it/s]\n",
      "Training Epoch 1558: 100%|██████████| 261/261 [00:05<00:00, 52.17it/s]\n",
      "Training Epoch 1559: 100%|██████████| 261/261 [00:04<00:00, 55.72it/s]\n",
      "Training Epoch 1560: 100%|██████████| 261/261 [00:04<00:00, 56.68it/s]\n",
      "Training Epoch 1561: 100%|██████████| 261/261 [00:04<00:00, 52.51it/s]\n"
     ]
    },
    {
     "name": "stdout",
     "output_type": "stream",
     "text": [
      "Epoch 1560 - Train Loss: 0.1380, Train MSE: 0.1380, Train MAE: 0.2756\n",
      "Epoch 1560 - Validation Loss: 1.5871, Validation MSE: 1.5884, Validation MAE: 0.9220\n"
     ]
    },
    {
     "name": "stderr",
     "output_type": "stream",
     "text": [
      "Training Epoch 1562: 100%|██████████| 261/261 [00:04<00:00, 57.40it/s]\n",
      "Training Epoch 1563: 100%|██████████| 261/261 [00:04<00:00, 52.28it/s]\n",
      "Training Epoch 1564: 100%|██████████| 261/261 [00:04<00:00, 54.09it/s]\n",
      "Training Epoch 1565: 100%|██████████| 261/261 [00:04<00:00, 54.90it/s]\n",
      "Training Epoch 1566: 100%|██████████| 261/261 [00:04<00:00, 57.26it/s]\n",
      "Training Epoch 1567: 100%|██████████| 261/261 [00:04<00:00, 53.63it/s]\n",
      "Training Epoch 1568: 100%|██████████| 261/261 [00:04<00:00, 54.51it/s]\n",
      "Training Epoch 1569: 100%|██████████| 261/261 [00:04<00:00, 53.14it/s]\n",
      "Training Epoch 1570: 100%|██████████| 261/261 [00:04<00:00, 57.36it/s]\n",
      "Training Epoch 1571: 100%|██████████| 261/261 [00:04<00:00, 53.23it/s]\n"
     ]
    },
    {
     "name": "stdout",
     "output_type": "stream",
     "text": [
      "Epoch 1570 - Train Loss: 0.1390, Train MSE: 0.1390, Train MAE: 0.2749\n",
      "Epoch 1570 - Validation Loss: 1.5693, Validation MSE: 1.5706, Validation MAE: 0.9112\n"
     ]
    },
    {
     "name": "stderr",
     "output_type": "stream",
     "text": [
      "Training Epoch 1572: 100%|██████████| 261/261 [00:04<00:00, 54.03it/s]\n",
      "Training Epoch 1573: 100%|██████████| 261/261 [00:04<00:00, 55.23it/s]\n",
      "Training Epoch 1574: 100%|██████████| 261/261 [00:04<00:00, 52.31it/s]\n",
      "Training Epoch 1575: 100%|██████████| 261/261 [00:04<00:00, 55.92it/s]\n",
      "Training Epoch 1576: 100%|██████████| 261/261 [00:04<00:00, 56.11it/s]\n",
      "Training Epoch 1577: 100%|██████████| 261/261 [00:04<00:00, 54.25it/s]\n",
      "Training Epoch 1578: 100%|██████████| 261/261 [00:04<00:00, 53.33it/s]\n",
      "Training Epoch 1579: 100%|██████████| 261/261 [00:04<00:00, 54.17it/s]\n",
      "Training Epoch 1580: 100%|██████████| 261/261 [00:05<00:00, 51.55it/s]\n",
      "Training Epoch 1581: 100%|██████████| 261/261 [16:34<00:00,  3.81s/it]  \n"
     ]
    },
    {
     "name": "stdout",
     "output_type": "stream",
     "text": [
      "Epoch 1580 - Train Loss: 0.1412, Train MSE: 0.1412, Train MAE: 0.2742\n",
      "Epoch 1580 - Validation Loss: 1.6140, Validation MSE: 1.6152, Validation MAE: 0.9195\n"
     ]
    },
    {
     "name": "stderr",
     "output_type": "stream",
     "text": [
      "Training Epoch 1582: 100%|██████████| 261/261 [00:04<00:00, 56.99it/s]\n",
      "Training Epoch 1583: 100%|██████████| 261/261 [00:04<00:00, 55.97it/s]\n",
      "Training Epoch 1584: 100%|██████████| 261/261 [00:04<00:00, 55.71it/s]\n",
      "Training Epoch 1585: 100%|██████████| 261/261 [00:04<00:00, 59.17it/s]\n",
      "Training Epoch 1586: 100%|██████████| 261/261 [00:04<00:00, 56.85it/s]\n",
      "Training Epoch 1587: 100%|██████████| 261/261 [00:04<00:00, 54.08it/s]\n",
      "Training Epoch 1588: 100%|██████████| 261/261 [00:04<00:00, 57.99it/s]\n",
      "Training Epoch 1589: 100%|██████████| 261/261 [00:04<00:00, 57.69it/s]\n",
      "Training Epoch 1590: 100%|██████████| 261/261 [16:37<00:00,  3.82s/it]  \n",
      "Training Epoch 1591: 100%|██████████| 261/261 [00:04<00:00, 52.40it/s]\n"
     ]
    },
    {
     "name": "stdout",
     "output_type": "stream",
     "text": [
      "Epoch 1590 - Train Loss: 0.1375, Train MSE: 0.1375, Train MAE: 0.2734\n",
      "Epoch 1590 - Validation Loss: 1.6095, Validation MSE: 1.6109, Validation MAE: 0.9265\n"
     ]
    },
    {
     "name": "stderr",
     "output_type": "stream",
     "text": [
      "Training Epoch 1592: 100%|██████████| 261/261 [00:04<00:00, 53.15it/s]\n",
      "Training Epoch 1593: 100%|██████████| 261/261 [00:04<00:00, 55.70it/s]\n",
      "Training Epoch 1594: 100%|██████████| 261/261 [00:04<00:00, 57.18it/s]\n",
      "Training Epoch 1595: 100%|██████████| 261/261 [00:04<00:00, 55.35it/s]\n",
      "Training Epoch 1596: 100%|██████████| 261/261 [00:04<00:00, 55.61it/s]\n",
      "Training Epoch 1597: 100%|██████████| 261/261 [00:04<00:00, 54.23it/s]\n",
      "Training Epoch 1598: 100%|██████████| 261/261 [00:04<00:00, 59.67it/s]\n",
      "Training Epoch 1599: 100%|██████████| 261/261 [00:04<00:00, 57.75it/s]\n",
      "Training Epoch 1600: 100%|██████████| 261/261 [00:04<00:00, 57.37it/s]\n",
      "Training Epoch 1601: 100%|██████████| 261/261 [00:04<00:00, 58.11it/s]\n"
     ]
    },
    {
     "name": "stdout",
     "output_type": "stream",
     "text": [
      "Epoch 1600 - Train Loss: 0.1369, Train MSE: 0.1369, Train MAE: 0.2733\n",
      "Epoch 1600 - Validation Loss: 1.6212, Validation MSE: 1.6225, Validation MAE: 0.9239\n"
     ]
    },
    {
     "name": "stderr",
     "output_type": "stream",
     "text": [
      "Training Epoch 1602: 100%|██████████| 261/261 [00:04<00:00, 56.55it/s]\n",
      "Training Epoch 1603: 100%|██████████| 261/261 [15:41<00:00,  3.61s/it]  \n",
      "Training Epoch 1604: 100%|██████████| 261/261 [00:05<00:00, 49.38it/s]\n",
      "Training Epoch 1605: 100%|██████████| 261/261 [00:05<00:00, 48.59it/s]\n",
      "Training Epoch 1606: 100%|██████████| 261/261 [00:05<00:00, 47.70it/s]\n",
      "Training Epoch 1607: 100%|██████████| 261/261 [00:05<00:00, 50.27it/s]\n",
      "Training Epoch 1608: 100%|██████████| 261/261 [00:04<00:00, 53.81it/s]\n",
      "Training Epoch 1609: 100%|██████████| 261/261 [00:04<00:00, 57.20it/s]\n",
      "Training Epoch 1610: 100%|██████████| 261/261 [00:04<00:00, 59.48it/s]\n",
      "Training Epoch 1611: 100%|██████████| 261/261 [00:04<00:00, 57.37it/s]\n"
     ]
    },
    {
     "name": "stdout",
     "output_type": "stream",
     "text": [
      "Epoch 1610 - Train Loss: 0.1365, Train MSE: 0.1365, Train MAE: 0.2737\n",
      "Epoch 1610 - Validation Loss: 1.6221, Validation MSE: 1.6235, Validation MAE: 0.9251\n"
     ]
    },
    {
     "name": "stderr",
     "output_type": "stream",
     "text": [
      "Training Epoch 1612: 100%|██████████| 261/261 [15:15<00:00,  3.51s/it]  \n",
      "Training Epoch 1613: 100%|██████████| 261/261 [00:04<00:00, 57.58it/s]\n",
      "Training Epoch 1614: 100%|██████████| 261/261 [00:05<00:00, 50.87it/s]\n",
      "Training Epoch 1615: 100%|██████████| 261/261 [00:04<00:00, 54.29it/s]\n",
      "Training Epoch 1616: 100%|██████████| 261/261 [00:04<00:00, 56.57it/s]\n",
      "Training Epoch 1617: 100%|██████████| 261/261 [00:04<00:00, 57.90it/s]\n",
      "Training Epoch 1618: 100%|██████████| 261/261 [00:04<00:00, 55.63it/s]\n",
      "Training Epoch 1619: 100%|██████████| 261/261 [00:04<00:00, 57.23it/s]\n",
      "Training Epoch 1620: 100%|██████████| 261/261 [00:04<00:00, 59.25it/s]\n",
      "Training Epoch 1621: 100%|██████████| 261/261 [16:32<00:00,  3.80s/it]\n"
     ]
    },
    {
     "name": "stdout",
     "output_type": "stream",
     "text": [
      "Epoch 1620 - Train Loss: 0.1339, Train MSE: 0.1339, Train MAE: 0.2708\n",
      "Epoch 1620 - Validation Loss: 1.6277, Validation MSE: 1.6289, Validation MAE: 0.9278\n"
     ]
    },
    {
     "name": "stderr",
     "output_type": "stream",
     "text": [
      "Training Epoch 1622: 100%|██████████| 261/261 [00:04<00:00, 52.34it/s]\n",
      "Training Epoch 1623: 100%|██████████| 261/261 [00:04<00:00, 58.87it/s]\n",
      "Training Epoch 1624: 100%|██████████| 261/261 [00:04<00:00, 59.17it/s]\n",
      "Training Epoch 1625: 100%|██████████| 261/261 [00:04<00:00, 56.75it/s]\n",
      "Training Epoch 1626: 100%|██████████| 261/261 [00:05<00:00, 49.70it/s]\n",
      "Training Epoch 1627: 100%|██████████| 261/261 [00:04<00:00, 58.92it/s]\n",
      "Training Epoch 1628: 100%|██████████| 261/261 [00:04<00:00, 55.32it/s]\n",
      "Training Epoch 1629: 100%|██████████| 261/261 [00:04<00:00, 54.34it/s]\n",
      "Training Epoch 1630: 100%|██████████| 261/261 [00:04<00:00, 59.13it/s]\n",
      "Training Epoch 1631: 100%|██████████| 261/261 [16:16<00:00,  3.74s/it] \n"
     ]
    },
    {
     "name": "stdout",
     "output_type": "stream",
     "text": [
      "Epoch 1630 - Train Loss: 0.1330, Train MSE: 0.1330, Train MAE: 0.2695\n",
      "Epoch 1630 - Validation Loss: 1.5885, Validation MSE: 1.5899, Validation MAE: 0.9197\n"
     ]
    },
    {
     "name": "stderr",
     "output_type": "stream",
     "text": [
      "Training Epoch 1632: 100%|██████████| 261/261 [00:05<00:00, 49.86it/s]\n",
      "Training Epoch 1633: 100%|██████████| 261/261 [00:05<00:00, 47.34it/s]\n",
      "Training Epoch 1634: 100%|██████████| 261/261 [00:05<00:00, 49.83it/s]\n",
      "Training Epoch 1635: 100%|██████████| 261/261 [00:05<00:00, 51.87it/s]\n",
      "Training Epoch 1636: 100%|██████████| 261/261 [00:04<00:00, 54.25it/s]\n",
      "Training Epoch 1637: 100%|██████████| 261/261 [00:04<00:00, 53.29it/s]\n",
      "Training Epoch 1638: 100%|██████████| 261/261 [00:04<00:00, 56.83it/s]\n",
      "Training Epoch 1639: 100%|██████████| 261/261 [00:04<00:00, 60.09it/s]\n",
      "Training Epoch 1640: 100%|██████████| 261/261 [00:04<00:00, 53.46it/s]\n",
      "Training Epoch 1641: 100%|██████████| 261/261 [00:04<00:00, 56.88it/s]\n"
     ]
    },
    {
     "name": "stdout",
     "output_type": "stream",
     "text": [
      "Epoch 1640 - Train Loss: 0.1340, Train MSE: 0.1340, Train MAE: 0.2693\n",
      "Epoch 1640 - Validation Loss: 1.6308, Validation MSE: 1.6323, Validation MAE: 0.9314\n"
     ]
    },
    {
     "name": "stderr",
     "output_type": "stream",
     "text": [
      "Training Epoch 1642: 100%|██████████| 261/261 [00:04<00:00, 55.53it/s]\n",
      "Training Epoch 1643: 100%|██████████| 261/261 [00:04<00:00, 52.24it/s]\n",
      "Training Epoch 1644: 100%|██████████| 261/261 [00:04<00:00, 57.08it/s]\n",
      "Training Epoch 1645: 100%|██████████| 261/261 [00:04<00:00, 55.98it/s]\n",
      "Training Epoch 1646: 100%|██████████| 261/261 [00:04<00:00, 56.19it/s]\n",
      "Training Epoch 1647: 100%|██████████| 261/261 [00:04<00:00, 54.96it/s]\n",
      "Training Epoch 1648: 100%|██████████| 261/261 [00:04<00:00, 56.08it/s]\n",
      "Training Epoch 1649: 100%|██████████| 261/261 [00:04<00:00, 52.75it/s]\n",
      "Training Epoch 1650: 100%|██████████| 261/261 [00:04<00:00, 53.16it/s]\n",
      "Training Epoch 1651: 100%|██████████| 261/261 [00:04<00:00, 55.19it/s]\n"
     ]
    },
    {
     "name": "stdout",
     "output_type": "stream",
     "text": [
      "Epoch 1650 - Train Loss: 0.1342, Train MSE: 0.1341, Train MAE: 0.2727\n",
      "Epoch 1650 - Validation Loss: 1.6423, Validation MSE: 1.6436, Validation MAE: 0.9274\n"
     ]
    },
    {
     "name": "stderr",
     "output_type": "stream",
     "text": [
      "Training Epoch 1652: 100%|██████████| 261/261 [00:04<00:00, 53.51it/s]\n",
      "Training Epoch 1653: 100%|██████████| 261/261 [00:04<00:00, 54.54it/s]\n",
      "Training Epoch 1654: 100%|██████████| 261/261 [00:04<00:00, 57.27it/s]\n",
      "Training Epoch 1655: 100%|██████████| 261/261 [00:04<00:00, 55.68it/s]\n",
      "Training Epoch 1656: 100%|██████████| 261/261 [00:04<00:00, 55.59it/s]\n",
      "Training Epoch 1657: 100%|██████████| 261/261 [00:04<00:00, 57.56it/s]\n",
      "Training Epoch 1658: 100%|██████████| 261/261 [00:04<00:00, 53.42it/s]\n",
      "Training Epoch 1659: 100%|██████████| 261/261 [00:04<00:00, 53.64it/s]\n",
      "Training Epoch 1660: 100%|██████████| 261/261 [00:04<00:00, 54.26it/s]\n",
      "Training Epoch 1661: 100%|██████████| 261/261 [00:05<00:00, 50.47it/s]\n"
     ]
    },
    {
     "name": "stdout",
     "output_type": "stream",
     "text": [
      "Epoch 1660 - Train Loss: 0.1370, Train MSE: 0.1370, Train MAE: 0.2726\n",
      "Epoch 1660 - Validation Loss: 1.5739, Validation MSE: 1.5752, Validation MAE: 0.9143\n"
     ]
    },
    {
     "name": "stderr",
     "output_type": "stream",
     "text": [
      "Training Epoch 1662: 100%|██████████| 261/261 [00:04<00:00, 53.87it/s]\n",
      "Training Epoch 1663: 100%|██████████| 261/261 [00:04<00:00, 54.22it/s]\n",
      "Training Epoch 1664: 100%|██████████| 261/261 [00:04<00:00, 52.74it/s]\n",
      "Training Epoch 1665: 100%|██████████| 261/261 [00:04<00:00, 55.55it/s]\n",
      "Training Epoch 1666: 100%|██████████| 261/261 [00:04<00:00, 55.25it/s]\n",
      "Training Epoch 1667: 100%|██████████| 261/261 [00:04<00:00, 54.28it/s]\n",
      "Training Epoch 1668: 100%|██████████| 261/261 [00:05<00:00, 51.99it/s]\n",
      "Training Epoch 1669: 100%|██████████| 261/261 [00:04<00:00, 57.04it/s]\n",
      "Training Epoch 1670: 100%|██████████| 261/261 [00:04<00:00, 55.22it/s]\n",
      "Training Epoch 1671: 100%|██████████| 261/261 [00:04<00:00, 54.55it/s]\n"
     ]
    },
    {
     "name": "stdout",
     "output_type": "stream",
     "text": [
      "Epoch 1670 - Train Loss: 0.1373, Train MSE: 0.1373, Train MAE: 0.2730\n",
      "Epoch 1670 - Validation Loss: 1.5928, Validation MSE: 1.5940, Validation MAE: 0.9215\n"
     ]
    },
    {
     "name": "stderr",
     "output_type": "stream",
     "text": [
      "Training Epoch 1672: 100%|██████████| 261/261 [00:05<00:00, 50.18it/s]\n",
      "Training Epoch 1673: 100%|██████████| 261/261 [00:04<00:00, 54.28it/s]\n",
      "Training Epoch 1674: 100%|██████████| 261/261 [00:04<00:00, 52.24it/s]\n",
      "Training Epoch 1675: 100%|██████████| 261/261 [00:04<00:00, 55.95it/s]\n",
      "Training Epoch 1676: 100%|██████████| 261/261 [00:04<00:00, 53.26it/s]\n",
      "Training Epoch 1677: 100%|██████████| 261/261 [00:04<00:00, 56.06it/s]\n",
      "Training Epoch 1678: 100%|██████████| 261/261 [00:04<00:00, 53.11it/s]\n",
      "Training Epoch 1679: 100%|██████████| 261/261 [00:04<00:00, 56.03it/s]\n",
      "Training Epoch 1680: 100%|██████████| 261/261 [00:04<00:00, 55.50it/s]\n",
      "Training Epoch 1681: 100%|██████████| 261/261 [00:04<00:00, 52.50it/s]\n"
     ]
    },
    {
     "name": "stdout",
     "output_type": "stream",
     "text": [
      "Epoch 1680 - Train Loss: 0.1355, Train MSE: 0.1355, Train MAE: 0.2738\n",
      "Epoch 1680 - Validation Loss: 1.5794, Validation MSE: 1.5807, Validation MAE: 0.9176\n"
     ]
    },
    {
     "name": "stderr",
     "output_type": "stream",
     "text": [
      "Training Epoch 1682: 100%|██████████| 261/261 [00:04<00:00, 54.02it/s]\n",
      "Training Epoch 1683: 100%|██████████| 261/261 [00:04<00:00, 55.33it/s]\n",
      "Training Epoch 1684: 100%|██████████| 261/261 [00:05<00:00, 49.60it/s]\n",
      "Training Epoch 1685: 100%|██████████| 261/261 [00:04<00:00, 55.85it/s]\n",
      "Training Epoch 1686: 100%|██████████| 261/261 [00:04<00:00, 55.29it/s]\n",
      "Training Epoch 1687: 100%|██████████| 261/261 [00:05<00:00, 51.14it/s]\n",
      "Training Epoch 1688: 100%|██████████| 261/261 [00:04<00:00, 55.24it/s]\n",
      "Training Epoch 1689: 100%|██████████| 261/261 [00:04<00:00, 53.13it/s]\n",
      "Training Epoch 1690: 100%|██████████| 261/261 [00:04<00:00, 53.08it/s]\n",
      "Training Epoch 1691: 100%|██████████| 261/261 [00:04<00:00, 56.62it/s]\n"
     ]
    },
    {
     "name": "stdout",
     "output_type": "stream",
     "text": [
      "Epoch 1690 - Train Loss: 0.1349, Train MSE: 0.1349, Train MAE: 0.2707\n",
      "Epoch 1690 - Validation Loss: 1.6081, Validation MSE: 1.6095, Validation MAE: 0.9194\n"
     ]
    },
    {
     "name": "stderr",
     "output_type": "stream",
     "text": [
      "Training Epoch 1692: 100%|██████████| 261/261 [16:34<00:00,  3.81s/it] \n",
      "Training Epoch 1693: 100%|██████████| 261/261 [00:05<00:00, 50.43it/s]\n",
      "Training Epoch 1694: 100%|██████████| 261/261 [00:04<00:00, 55.33it/s]\n",
      "Training Epoch 1695: 100%|██████████| 261/261 [00:04<00:00, 56.33it/s]\n",
      "Training Epoch 1696: 100%|██████████| 261/261 [00:05<00:00, 50.52it/s]\n",
      "Training Epoch 1697: 100%|██████████| 261/261 [00:04<00:00, 56.06it/s]\n",
      "Training Epoch 1698: 100%|██████████| 261/261 [00:04<00:00, 58.17it/s]\n",
      "Training Epoch 1699: 100%|██████████| 261/261 [00:04<00:00, 52.91it/s]\n",
      "Training Epoch 1700: 100%|██████████| 261/261 [00:04<00:00, 60.39it/s]\n",
      "Training Epoch 1701: 100%|██████████| 261/261 [15:15<00:00,  3.51s/it]  \n"
     ]
    },
    {
     "name": "stdout",
     "output_type": "stream",
     "text": [
      "Epoch 1700 - Train Loss: 0.1302, Train MSE: 0.1302, Train MAE: 0.2655\n",
      "Epoch 1700 - Validation Loss: 1.5961, Validation MSE: 1.5975, Validation MAE: 0.9248\n"
     ]
    },
    {
     "name": "stderr",
     "output_type": "stream",
     "text": [
      "Training Epoch 1702: 100%|██████████| 261/261 [00:04<00:00, 53.39it/s]\n",
      "Training Epoch 1703: 100%|██████████| 261/261 [00:04<00:00, 52.89it/s]\n",
      "Training Epoch 1704: 100%|██████████| 261/261 [00:04<00:00, 53.32it/s]\n",
      "Training Epoch 1705: 100%|██████████| 261/261 [00:04<00:00, 53.20it/s]\n",
      "Training Epoch 1706: 100%|██████████| 261/261 [00:04<00:00, 52.27it/s]\n",
      "Training Epoch 1707: 100%|██████████| 261/261 [00:04<00:00, 54.15it/s]\n",
      "Training Epoch 1708: 100%|██████████| 261/261 [00:04<00:00, 59.66it/s]\n",
      "Training Epoch 1709: 100%|██████████| 261/261 [00:04<00:00, 56.42it/s]\n",
      "Training Epoch 1710: 100%|██████████| 261/261 [15:09<00:00,  3.49s/it]\n",
      "Training Epoch 1711: 100%|██████████| 261/261 [00:05<00:00, 51.41it/s]\n"
     ]
    },
    {
     "name": "stdout",
     "output_type": "stream",
     "text": [
      "Epoch 1710 - Train Loss: 0.1290, Train MSE: 0.1289, Train MAE: 0.2641\n",
      "Epoch 1710 - Validation Loss: 1.5993, Validation MSE: 1.6007, Validation MAE: 0.9197\n"
     ]
    },
    {
     "name": "stderr",
     "output_type": "stream",
     "text": [
      "Training Epoch 1712: 100%|██████████| 261/261 [00:04<00:00, 54.51it/s]\n",
      "Training Epoch 1713: 100%|██████████| 261/261 [00:04<00:00, 57.83it/s]\n",
      "Training Epoch 1714: 100%|██████████| 261/261 [00:04<00:00, 59.70it/s]\n",
      "Training Epoch 1715: 100%|██████████| 261/261 [00:04<00:00, 59.05it/s]\n",
      "Training Epoch 1716: 100%|██████████| 261/261 [00:04<00:00, 59.90it/s]\n",
      "Training Epoch 1717: 100%|██████████| 261/261 [00:04<00:00, 58.47it/s]\n",
      "Training Epoch 1718: 100%|██████████| 261/261 [00:04<00:00, 56.81it/s]\n",
      "Training Epoch 1719: 100%|██████████| 261/261 [00:04<00:00, 60.24it/s]\n",
      "Training Epoch 1720: 100%|██████████| 261/261 [15:45<00:00,  3.62s/it]  \n",
      "Training Epoch 1721: 100%|██████████| 261/261 [00:05<00:00, 49.21it/s]\n"
     ]
    },
    {
     "name": "stdout",
     "output_type": "stream",
     "text": [
      "Epoch 1720 - Train Loss: 0.1306, Train MSE: 0.1306, Train MAE: 0.2653\n",
      "Epoch 1720 - Validation Loss: 1.5838, Validation MSE: 1.5852, Validation MAE: 0.9203\n"
     ]
    },
    {
     "name": "stderr",
     "output_type": "stream",
     "text": [
      "Training Epoch 1722: 100%|██████████| 261/261 [00:04<00:00, 53.59it/s]\n",
      "Training Epoch 1723: 100%|██████████| 261/261 [00:05<00:00, 51.38it/s]\n",
      "Training Epoch 1724: 100%|██████████| 261/261 [00:05<00:00, 50.18it/s]\n",
      "Training Epoch 1725: 100%|██████████| 261/261 [00:05<00:00, 51.41it/s]\n",
      "Training Epoch 1726: 100%|██████████| 261/261 [00:04<00:00, 53.42it/s]\n",
      "Training Epoch 1727: 100%|██████████| 261/261 [00:04<00:00, 55.67it/s]\n",
      "Training Epoch 1728: 100%|██████████| 261/261 [00:04<00:00, 52.59it/s]\n",
      "Training Epoch 1729: 100%|██████████| 261/261 [04:34<00:00,  1.05s/it]\n",
      "Training Epoch 1730: 100%|██████████| 261/261 [00:04<00:00, 58.06it/s]\n",
      "Training Epoch 1731: 100%|██████████| 261/261 [00:04<00:00, 53.44it/s]\n"
     ]
    },
    {
     "name": "stdout",
     "output_type": "stream",
     "text": [
      "Epoch 1730 - Train Loss: 0.1313, Train MSE: 0.1313, Train MAE: 0.2675\n",
      "Epoch 1730 - Validation Loss: 1.6048, Validation MSE: 1.6063, Validation MAE: 0.9197\n"
     ]
    },
    {
     "name": "stderr",
     "output_type": "stream",
     "text": [
      "Training Epoch 1732: 100%|██████████| 261/261 [00:04<00:00, 56.49it/s]\n",
      "Training Epoch 1733: 100%|██████████| 261/261 [00:04<00:00, 59.05it/s]\n",
      "Training Epoch 1734: 100%|██████████| 261/261 [00:04<00:00, 57.10it/s]\n",
      "Training Epoch 1735: 100%|██████████| 261/261 [00:04<00:00, 57.94it/s]\n",
      "Training Epoch 1736: 100%|██████████| 261/261 [00:04<00:00, 58.34it/s]\n",
      "Training Epoch 1737: 100%|██████████| 261/261 [00:04<00:00, 55.99it/s]\n",
      "Training Epoch 1738: 100%|██████████| 261/261 [00:47<00:00,  5.49it/s]\n",
      "Training Epoch 1739: 100%|██████████| 261/261 [00:04<00:00, 55.99it/s]\n",
      "Training Epoch 1740: 100%|██████████| 261/261 [00:04<00:00, 54.81it/s]\n",
      "Training Epoch 1741: 100%|██████████| 261/261 [00:04<00:00, 59.99it/s]\n"
     ]
    },
    {
     "name": "stdout",
     "output_type": "stream",
     "text": [
      "Epoch 1740 - Train Loss: 0.1356, Train MSE: 0.1356, Train MAE: 0.2714\n",
      "Epoch 1740 - Validation Loss: 1.5925, Validation MSE: 1.5940, Validation MAE: 0.9184\n"
     ]
    },
    {
     "name": "stderr",
     "output_type": "stream",
     "text": [
      "Training Epoch 1742: 100%|██████████| 261/261 [00:04<00:00, 58.75it/s]\n",
      "Training Epoch 1743: 100%|██████████| 261/261 [00:04<00:00, 52.52it/s]\n",
      "Training Epoch 1744: 100%|██████████| 261/261 [00:05<00:00, 50.90it/s]\n",
      "Training Epoch 1745: 100%|██████████| 261/261 [00:04<00:00, 56.39it/s]\n",
      "Training Epoch 1746: 100%|██████████| 261/261 [00:04<00:00, 59.74it/s]\n",
      "Training Epoch 1747: 100%|██████████| 261/261 [00:04<00:00, 57.60it/s]\n",
      "Training Epoch 1748: 100%|██████████| 261/261 [15:44<00:00,  3.62s/it] \n",
      "Training Epoch 1749: 100%|██████████| 261/261 [00:04<00:00, 55.28it/s]\n",
      "Training Epoch 1750: 100%|██████████| 261/261 [00:04<00:00, 53.16it/s]\n",
      "Training Epoch 1751: 100%|██████████| 261/261 [00:04<00:00, 59.60it/s]\n"
     ]
    },
    {
     "name": "stdout",
     "output_type": "stream",
     "text": [
      "Epoch 1750 - Train Loss: 0.1303, Train MSE: 0.1303, Train MAE: 0.2649\n",
      "Epoch 1750 - Validation Loss: 1.5952, Validation MSE: 1.5966, Validation MAE: 0.9197\n"
     ]
    },
    {
     "name": "stderr",
     "output_type": "stream",
     "text": [
      "Training Epoch 1752: 100%|██████████| 261/261 [00:05<00:00, 50.24it/s]\n",
      "Training Epoch 1753: 100%|██████████| 261/261 [00:04<00:00, 53.86it/s]\n",
      "Training Epoch 1754: 100%|██████████| 261/261 [00:04<00:00, 60.03it/s]\n",
      "Training Epoch 1755: 100%|██████████| 261/261 [00:04<00:00, 53.04it/s]\n",
      "Training Epoch 1756: 100%|██████████| 261/261 [00:04<00:00, 54.79it/s]\n",
      "Training Epoch 1757: 100%|██████████| 261/261 [15:39<00:00,  3.60s/it]  \n",
      "Training Epoch 1758: 100%|██████████| 261/261 [00:04<00:00, 56.44it/s]\n",
      "Training Epoch 1759: 100%|██████████| 261/261 [00:04<00:00, 53.29it/s]\n",
      "Training Epoch 1760: 100%|██████████| 261/261 [00:05<00:00, 51.82it/s]\n",
      "Training Epoch 1761: 100%|██████████| 261/261 [00:04<00:00, 54.03it/s]\n"
     ]
    },
    {
     "name": "stdout",
     "output_type": "stream",
     "text": [
      "Epoch 1760 - Train Loss: 0.1316, Train MSE: 0.1316, Train MAE: 0.2687\n",
      "Epoch 1760 - Validation Loss: 1.5958, Validation MSE: 1.5974, Validation MAE: 0.9202\n"
     ]
    },
    {
     "name": "stderr",
     "output_type": "stream",
     "text": [
      "Training Epoch 1762: 100%|██████████| 261/261 [00:04<00:00, 55.99it/s]\n",
      "Training Epoch 1763: 100%|██████████| 261/261 [00:04<00:00, 59.64it/s]\n",
      "Training Epoch 1764: 100%|██████████| 261/261 [00:04<00:00, 58.94it/s]\n",
      "Training Epoch 1765: 100%|██████████| 261/261 [00:04<00:00, 58.27it/s]\n",
      "Training Epoch 1766: 100%|██████████| 261/261 [15:45<00:00,  3.62s/it]\n",
      "Training Epoch 1767: 100%|██████████| 261/261 [00:05<00:00, 46.59it/s]\n",
      "Training Epoch 1768: 100%|██████████| 261/261 [00:05<00:00, 49.30it/s]\n",
      "Training Epoch 1769: 100%|██████████| 261/261 [00:05<00:00, 51.09it/s]\n",
      "Training Epoch 1770: 100%|██████████| 261/261 [00:05<00:00, 50.67it/s]\n",
      "Training Epoch 1771: 100%|██████████| 261/261 [00:05<00:00, 45.84it/s]\n"
     ]
    },
    {
     "name": "stdout",
     "output_type": "stream",
     "text": [
      "Epoch 1770 - Train Loss: 0.1278, Train MSE: 0.1278, Train MAE: 0.2626\n",
      "Epoch 1770 - Validation Loss: 1.6128, Validation MSE: 1.6142, Validation MAE: 0.9303\n"
     ]
    },
    {
     "name": "stderr",
     "output_type": "stream",
     "text": [
      "Training Epoch 1772: 100%|██████████| 261/261 [00:05<00:00, 50.35it/s]\n",
      "Training Epoch 1773: 100%|██████████| 261/261 [00:05<00:00, 50.47it/s]\n",
      "Training Epoch 1774: 100%|██████████| 261/261 [00:05<00:00, 51.20it/s]\n",
      "Training Epoch 1775: 100%|██████████| 261/261 [00:04<00:00, 54.68it/s]\n",
      "Training Epoch 1776: 100%|██████████| 261/261 [00:04<00:00, 58.87it/s]\n",
      "Training Epoch 1777: 100%|██████████| 261/261 [00:05<00:00, 48.54it/s]\n",
      "Training Epoch 1778: 100%|██████████| 261/261 [00:05<00:00, 48.05it/s]\n",
      "Training Epoch 1779: 100%|██████████| 261/261 [00:04<00:00, 52.56it/s]\n",
      "Training Epoch 1780: 100%|██████████| 261/261 [00:05<00:00, 49.96it/s]\n",
      "Training Epoch 1781: 100%|██████████| 261/261 [15:52<00:00,  3.65s/it] \n"
     ]
    },
    {
     "name": "stdout",
     "output_type": "stream",
     "text": [
      "Epoch 1780 - Train Loss: 0.1311, Train MSE: 0.1311, Train MAE: 0.2649\n",
      "Epoch 1780 - Validation Loss: 1.6076, Validation MSE: 1.6089, Validation MAE: 0.9216\n"
     ]
    },
    {
     "name": "stderr",
     "output_type": "stream",
     "text": [
      "Training Epoch 1782: 100%|██████████| 261/261 [00:04<00:00, 57.99it/s]\n",
      "Training Epoch 1783: 100%|██████████| 261/261 [00:04<00:00, 58.54it/s]\n",
      "Training Epoch 1784: 100%|██████████| 261/261 [00:04<00:00, 60.62it/s]\n",
      "Training Epoch 1785: 100%|██████████| 261/261 [00:04<00:00, 57.93it/s]\n",
      "Training Epoch 1786: 100%|██████████| 261/261 [00:04<00:00, 55.14it/s]\n",
      "Training Epoch 1787: 100%|██████████| 261/261 [00:04<00:00, 56.11it/s]\n",
      "Training Epoch 1788: 100%|██████████| 261/261 [00:04<00:00, 55.30it/s]\n",
      "Training Epoch 1789: 100%|██████████| 261/261 [00:04<00:00, 57.58it/s]\n",
      "Training Epoch 1790: 100%|██████████| 261/261 [16:17<00:00,  3.75s/it]\n",
      "Training Epoch 1791: 100%|██████████| 261/261 [00:05<00:00, 47.76it/s]\n"
     ]
    },
    {
     "name": "stdout",
     "output_type": "stream",
     "text": [
      "Epoch 1790 - Train Loss: 0.1283, Train MSE: 0.1283, Train MAE: 0.2641\n",
      "Epoch 1790 - Validation Loss: 1.5785, Validation MSE: 1.5800, Validation MAE: 0.9186\n"
     ]
    },
    {
     "name": "stderr",
     "output_type": "stream",
     "text": [
      "Training Epoch 1792: 100%|██████████| 261/261 [00:05<00:00, 47.96it/s]\n",
      "Training Epoch 1793: 100%|██████████| 261/261 [00:04<00:00, 53.88it/s]\n",
      "Training Epoch 1794: 100%|██████████| 261/261 [00:04<00:00, 58.86it/s]\n",
      "Training Epoch 1795: 100%|██████████| 261/261 [00:04<00:00, 56.52it/s]\n",
      "Training Epoch 1796: 100%|██████████| 261/261 [00:05<00:00, 44.20it/s]\n",
      "Training Epoch 1797: 100%|██████████| 261/261 [00:04<00:00, 57.80it/s]\n",
      "Training Epoch 1798: 100%|██████████| 261/261 [00:04<00:00, 58.22it/s]\n",
      "Training Epoch 1799: 100%|██████████| 261/261 [00:10<00:00, 23.84it/s]\n",
      "Training Epoch 1800: 100%|██████████| 261/261 [00:04<00:00, 55.89it/s]\n",
      "Training Epoch 1801: 100%|██████████| 261/261 [00:04<00:00, 57.56it/s]\n"
     ]
    },
    {
     "name": "stdout",
     "output_type": "stream",
     "text": [
      "Epoch 1800 - Train Loss: 0.1323, Train MSE: 0.1324, Train MAE: 0.2659\n",
      "Epoch 1800 - Validation Loss: 1.6102, Validation MSE: 1.6117, Validation MAE: 0.9202\n"
     ]
    },
    {
     "name": "stderr",
     "output_type": "stream",
     "text": [
      "Training Epoch 1802: 100%|██████████| 261/261 [00:04<00:00, 54.02it/s]\n",
      "Training Epoch 1803: 100%|██████████| 261/261 [00:04<00:00, 56.76it/s]\n",
      "Training Epoch 1804: 100%|██████████| 261/261 [00:04<00:00, 56.30it/s]\n",
      "Training Epoch 1805: 100%|██████████| 261/261 [00:04<00:00, 57.01it/s]\n",
      "Training Epoch 1806: 100%|██████████| 261/261 [00:04<00:00, 57.36it/s]\n",
      "Training Epoch 1807: 100%|██████████| 261/261 [00:04<00:00, 54.12it/s]\n",
      "Training Epoch 1808: 100%|██████████| 261/261 [00:04<00:00, 56.67it/s]\n",
      "Training Epoch 1809: 100%|██████████| 261/261 [15:43<00:00,  3.61s/it] \n",
      "Training Epoch 1810: 100%|██████████| 261/261 [00:04<00:00, 54.53it/s]\n",
      "Training Epoch 1811: 100%|██████████| 261/261 [00:04<00:00, 52.74it/s]\n"
     ]
    },
    {
     "name": "stdout",
     "output_type": "stream",
     "text": [
      "Epoch 1810 - Train Loss: 0.1304, Train MSE: 0.1304, Train MAE: 0.2648\n",
      "Epoch 1810 - Validation Loss: 1.6128, Validation MSE: 1.6143, Validation MAE: 0.9267\n"
     ]
    },
    {
     "name": "stderr",
     "output_type": "stream",
     "text": [
      "Training Epoch 1812: 100%|██████████| 261/261 [00:05<00:00, 50.62it/s]\n",
      "Training Epoch 1813: 100%|██████████| 261/261 [00:05<00:00, 47.88it/s]\n",
      "Training Epoch 1814: 100%|██████████| 261/261 [00:04<00:00, 56.72it/s]\n",
      "Training Epoch 1815: 100%|██████████| 261/261 [00:04<00:00, 53.73it/s]\n",
      "Training Epoch 1816: 100%|██████████| 261/261 [00:04<00:00, 56.96it/s]\n",
      "Training Epoch 1817: 100%|██████████| 261/261 [00:04<00:00, 59.26it/s]\n",
      "Training Epoch 1818: 100%|██████████| 261/261 [17:12<00:00,  3.96s/it] \n",
      "Training Epoch 1819: 100%|██████████| 261/261 [00:04<00:00, 55.28it/s]\n",
      "Training Epoch 1820: 100%|██████████| 261/261 [00:04<00:00, 55.72it/s]\n",
      "Training Epoch 1821: 100%|██████████| 261/261 [00:04<00:00, 57.87it/s]\n"
     ]
    },
    {
     "name": "stdout",
     "output_type": "stream",
     "text": [
      "Epoch 1820 - Train Loss: 0.1309, Train MSE: 0.1309, Train MAE: 0.2669\n",
      "Epoch 1820 - Validation Loss: 1.5997, Validation MSE: 1.6012, Validation MAE: 0.9216\n"
     ]
    },
    {
     "name": "stderr",
     "output_type": "stream",
     "text": [
      "Training Epoch 1822: 100%|██████████| 261/261 [00:04<00:00, 58.58it/s]\n",
      "Training Epoch 1823: 100%|██████████| 261/261 [00:04<00:00, 57.50it/s]\n",
      "Training Epoch 1824: 100%|██████████| 261/261 [00:04<00:00, 58.21it/s]\n",
      "Training Epoch 1825: 100%|██████████| 261/261 [00:04<00:00, 55.46it/s]\n",
      "Training Epoch 1826: 100%|██████████| 261/261 [00:04<00:00, 55.10it/s]\n",
      "Training Epoch 1827: 100%|██████████| 261/261 [00:11<00:00, 22.01it/s]\n",
      "Training Epoch 1828: 100%|██████████| 261/261 [00:04<00:00, 58.89it/s]\n",
      "Training Epoch 1829: 100%|██████████| 261/261 [00:04<00:00, 54.79it/s]\n",
      "Training Epoch 1830: 100%|██████████| 261/261 [00:04<00:00, 56.27it/s]\n",
      "Training Epoch 1831: 100%|██████████| 261/261 [00:04<00:00, 54.84it/s]\n"
     ]
    },
    {
     "name": "stdout",
     "output_type": "stream",
     "text": [
      "Epoch 1830 - Train Loss: 0.1268, Train MSE: 0.1268, Train MAE: 0.2624\n",
      "Epoch 1830 - Validation Loss: 1.6127, Validation MSE: 1.6143, Validation MAE: 0.9139\n"
     ]
    },
    {
     "name": "stderr",
     "output_type": "stream",
     "text": [
      "Training Epoch 1832: 100%|██████████| 261/261 [00:04<00:00, 54.83it/s]\n",
      "Training Epoch 1833: 100%|██████████| 261/261 [00:04<00:00, 58.42it/s]\n",
      "Training Epoch 1834: 100%|██████████| 261/261 [00:04<00:00, 58.43it/s]\n",
      "Training Epoch 1835: 100%|██████████| 261/261 [00:04<00:00, 56.78it/s]\n",
      "Training Epoch 1836: 100%|██████████| 261/261 [00:04<00:00, 58.57it/s]\n",
      "Training Epoch 1837: 100%|██████████| 261/261 [15:30<00:00,  3.57s/it]  \n",
      "Training Epoch 1838: 100%|██████████| 261/261 [00:04<00:00, 55.13it/s]\n",
      "Training Epoch 1839: 100%|██████████| 261/261 [00:03<00:00, 66.83it/s]\n",
      "Training Epoch 1840: 100%|██████████| 261/261 [00:04<00:00, 64.46it/s]\n",
      "Training Epoch 1841: 100%|██████████| 261/261 [00:04<00:00, 64.10it/s]\n"
     ]
    },
    {
     "name": "stdout",
     "output_type": "stream",
     "text": [
      "Epoch 1840 - Train Loss: 0.1241, Train MSE: 0.1240, Train MAE: 0.2613\n",
      "Epoch 1840 - Validation Loss: 1.5939, Validation MSE: 1.5952, Validation MAE: 0.9192\n"
     ]
    },
    {
     "name": "stderr",
     "output_type": "stream",
     "text": [
      "Training Epoch 1842: 100%|██████████| 261/261 [00:04<00:00, 63.94it/s]\n",
      "Training Epoch 1843: 100%|██████████| 261/261 [00:04<00:00, 63.32it/s]\n",
      "Training Epoch 1844: 100%|██████████| 261/261 [00:04<00:00, 63.19it/s]\n",
      "Training Epoch 1845: 100%|██████████| 261/261 [00:03<00:00, 67.02it/s]\n",
      "Training Epoch 1846: 100%|██████████| 261/261 [00:03<00:00, 66.62it/s]\n",
      "Training Epoch 1847: 100%|██████████| 261/261 [00:04<00:00, 59.24it/s]\n",
      "Training Epoch 1848: 100%|██████████| 261/261 [00:04<00:00, 58.92it/s]\n",
      "Training Epoch 1849: 100%|██████████| 261/261 [00:04<00:00, 62.84it/s]\n",
      "Training Epoch 1850: 100%|██████████| 261/261 [00:05<00:00, 50.07it/s]\n",
      "Training Epoch 1851: 100%|██████████| 261/261 [00:04<00:00, 56.90it/s]\n"
     ]
    },
    {
     "name": "stdout",
     "output_type": "stream",
     "text": [
      "Epoch 1850 - Train Loss: 0.1294, Train MSE: 0.1294, Train MAE: 0.2650\n",
      "Epoch 1850 - Validation Loss: 1.6096, Validation MSE: 1.6109, Validation MAE: 0.9247\n"
     ]
    },
    {
     "name": "stderr",
     "output_type": "stream",
     "text": [
      "Training Epoch 1852: 100%|██████████| 261/261 [00:04<00:00, 58.81it/s]\n",
      "Training Epoch 1853: 100%|██████████| 261/261 [00:04<00:00, 59.76it/s]\n",
      "Training Epoch 1854: 100%|██████████| 261/261 [00:04<00:00, 60.49it/s]\n",
      "Training Epoch 1855: 100%|██████████| 261/261 [00:04<00:00, 58.93it/s]\n",
      "Training Epoch 1856: 100%|██████████| 261/261 [00:04<00:00, 59.45it/s]\n",
      "Training Epoch 1857: 100%|██████████| 261/261 [00:04<00:00, 64.47it/s]\n",
      "Training Epoch 1858: 100%|██████████| 261/261 [00:04<00:00, 60.61it/s]\n",
      "Training Epoch 1859: 100%|██████████| 261/261 [00:03<00:00, 65.81it/s]\n",
      "Training Epoch 1860: 100%|██████████| 261/261 [00:03<00:00, 65.66it/s]\n",
      "Training Epoch 1861: 100%|██████████| 261/261 [00:03<00:00, 67.50it/s]\n"
     ]
    },
    {
     "name": "stdout",
     "output_type": "stream",
     "text": [
      "Epoch 1860 - Train Loss: 0.1315, Train MSE: 0.1315, Train MAE: 0.2681\n",
      "Epoch 1860 - Validation Loss: 1.5966, Validation MSE: 1.5983, Validation MAE: 0.9202\n"
     ]
    },
    {
     "name": "stderr",
     "output_type": "stream",
     "text": [
      "Training Epoch 1862: 100%|██████████| 261/261 [00:04<00:00, 64.79it/s]\n",
      "Training Epoch 1863: 100%|██████████| 261/261 [00:04<00:00, 62.90it/s]\n",
      "Training Epoch 1864: 100%|██████████| 261/261 [00:04<00:00, 63.91it/s]\n",
      "Training Epoch 1865: 100%|██████████| 261/261 [00:04<00:00, 63.00it/s]\n",
      "Training Epoch 1866: 100%|██████████| 261/261 [16:26<00:00,  3.78s/it]  \n",
      "Training Epoch 1867: 100%|██████████| 261/261 [00:04<00:00, 59.29it/s]\n",
      "Training Epoch 1868: 100%|██████████| 261/261 [00:04<00:00, 58.97it/s]\n",
      "Training Epoch 1869: 100%|██████████| 261/261 [00:04<00:00, 55.31it/s]\n",
      "Training Epoch 1870: 100%|██████████| 261/261 [00:04<00:00, 59.53it/s]\n",
      "Training Epoch 1871: 100%|██████████| 261/261 [00:04<00:00, 60.57it/s]\n"
     ]
    },
    {
     "name": "stdout",
     "output_type": "stream",
     "text": [
      "Epoch 1870 - Train Loss: 0.1309, Train MSE: 0.1309, Train MAE: 0.2645\n",
      "Epoch 1870 - Validation Loss: 1.5938, Validation MSE: 1.5953, Validation MAE: 0.9216\n"
     ]
    },
    {
     "name": "stderr",
     "output_type": "stream",
     "text": [
      "Training Epoch 1872: 100%|██████████| 261/261 [00:04<00:00, 53.24it/s]\n",
      "Training Epoch 1873: 100%|██████████| 261/261 [00:04<00:00, 59.98it/s]\n",
      "Training Epoch 1874: 100%|██████████| 261/261 [00:04<00:00, 57.79it/s]\n",
      "Training Epoch 1875: 100%|██████████| 261/261 [00:04<00:00, 58.66it/s]\n",
      "Training Epoch 1876: 100%|██████████| 261/261 [00:05<00:00, 50.61it/s]\n",
      "Training Epoch 1877: 100%|██████████| 261/261 [00:04<00:00, 55.20it/s]\n",
      "Training Epoch 1878: 100%|██████████| 261/261 [00:04<00:00, 63.02it/s]\n",
      "Training Epoch 1879: 100%|██████████| 261/261 [00:04<00:00, 60.56it/s]\n",
      "Training Epoch 1880: 100%|██████████| 261/261 [00:04<00:00, 64.33it/s]\n",
      "Training Epoch 1881: 100%|██████████| 261/261 [00:04<00:00, 62.58it/s]\n"
     ]
    },
    {
     "name": "stdout",
     "output_type": "stream",
     "text": [
      "Epoch 1880 - Train Loss: 0.1306, Train MSE: 0.1306, Train MAE: 0.2643\n",
      "Epoch 1880 - Validation Loss: 1.6176, Validation MSE: 1.6192, Validation MAE: 0.9283\n"
     ]
    },
    {
     "name": "stderr",
     "output_type": "stream",
     "text": [
      "Training Epoch 1882: 100%|██████████| 261/261 [07:30<00:00,  1.73s/it] \n",
      "Training Epoch 1883: 100%|██████████| 261/261 [00:03<00:00, 66.36it/s]\n",
      "Training Epoch 1884: 100%|██████████| 261/261 [00:03<00:00, 67.09it/s]\n",
      "Training Epoch 1885: 100%|██████████| 261/261 [00:03<00:00, 67.52it/s]\n",
      "Training Epoch 1886: 100%|██████████| 261/261 [00:04<00:00, 59.37it/s]\n",
      "Training Epoch 1887: 100%|██████████| 261/261 [00:04<00:00, 62.28it/s]\n",
      "Training Epoch 1888: 100%|██████████| 261/261 [00:04<00:00, 58.37it/s]\n",
      "Training Epoch 1889: 100%|██████████| 261/261 [00:04<00:00, 62.67it/s]\n",
      "Training Epoch 1890: 100%|██████████| 261/261 [00:04<00:00, 58.17it/s]\n",
      "Training Epoch 1891: 100%|██████████| 261/261 [00:03<00:00, 66.86it/s]\n"
     ]
    },
    {
     "name": "stdout",
     "output_type": "stream",
     "text": [
      "Epoch 1890 - Train Loss: 0.1250, Train MSE: 0.1250, Train MAE: 0.2590\n",
      "Epoch 1890 - Validation Loss: 1.5815, Validation MSE: 1.5831, Validation MAE: 0.9116\n"
     ]
    },
    {
     "name": "stderr",
     "output_type": "stream",
     "text": [
      "Training Epoch 1892: 100%|██████████| 261/261 [15:18<00:00,  3.52s/it]\n",
      "Training Epoch 1893: 100%|██████████| 261/261 [00:04<00:00, 55.96it/s]\n",
      "Training Epoch 1894: 100%|██████████| 261/261 [00:03<00:00, 66.29it/s]\n",
      "Training Epoch 1895: 100%|██████████| 261/261 [00:03<00:00, 68.68it/s]\n",
      "Training Epoch 1896: 100%|██████████| 261/261 [00:04<00:00, 64.82it/s]\n",
      "Training Epoch 1897: 100%|██████████| 261/261 [00:04<00:00, 63.93it/s]\n",
      "Training Epoch 1898: 100%|██████████| 261/261 [00:03<00:00, 66.58it/s]\n",
      "Training Epoch 1899: 100%|██████████| 261/261 [00:03<00:00, 65.66it/s]\n",
      "Training Epoch 1900: 100%|██████████| 261/261 [00:03<00:00, 67.48it/s]\n",
      "Training Epoch 1901: 100%|██████████| 261/261 [00:03<00:00, 65.30it/s]\n"
     ]
    },
    {
     "name": "stdout",
     "output_type": "stream",
     "text": [
      "Epoch 1900 - Train Loss: 0.1275, Train MSE: 0.1275, Train MAE: 0.2630\n",
      "Epoch 1900 - Validation Loss: 1.6090, Validation MSE: 1.6105, Validation MAE: 0.9229\n"
     ]
    },
    {
     "name": "stderr",
     "output_type": "stream",
     "text": [
      "Training Epoch 1902: 100%|██████████| 261/261 [00:03<00:00, 66.82it/s]\n",
      "Training Epoch 1903: 100%|██████████| 261/261 [00:09<00:00, 26.78it/s]\n",
      "Training Epoch 1904: 100%|██████████| 261/261 [00:05<00:00, 51.16it/s]\n",
      "Training Epoch 1905: 100%|██████████| 261/261 [00:04<00:00, 53.05it/s]\n",
      "Training Epoch 1906: 100%|██████████| 261/261 [00:04<00:00, 55.70it/s]\n",
      "Training Epoch 1907: 100%|██████████| 261/261 [00:04<00:00, 56.23it/s]\n",
      "Training Epoch 1908: 100%|██████████| 261/261 [00:04<00:00, 55.19it/s]\n",
      "Training Epoch 1909: 100%|██████████| 261/261 [00:04<00:00, 56.98it/s]\n",
      "Training Epoch 1910: 100%|██████████| 261/261 [00:04<00:00, 58.03it/s]\n",
      "Training Epoch 1911: 100%|██████████| 261/261 [00:04<00:00, 59.74it/s]\n"
     ]
    },
    {
     "name": "stdout",
     "output_type": "stream",
     "text": [
      "Epoch 1910 - Train Loss: 0.1227, Train MSE: 0.1227, Train MAE: 0.2590\n",
      "Epoch 1910 - Validation Loss: 1.6022, Validation MSE: 1.6038, Validation MAE: 0.9184\n"
     ]
    },
    {
     "name": "stderr",
     "output_type": "stream",
     "text": [
      "Training Epoch 1912: 100%|██████████| 261/261 [00:04<00:00, 62.73it/s]\n",
      "Training Epoch 1913: 100%|██████████| 261/261 [00:04<00:00, 65.07it/s]\n",
      "Training Epoch 1914: 100%|██████████| 261/261 [00:04<00:00, 60.46it/s]\n",
      "Training Epoch 1915: 100%|██████████| 261/261 [00:04<00:00, 59.14it/s]\n",
      "Training Epoch 1916: 100%|██████████| 261/261 [00:04<00:00, 57.41it/s]\n",
      "Training Epoch 1917: 100%|██████████| 261/261 [00:04<00:00, 59.31it/s]\n",
      "Training Epoch 1918: 100%|██████████| 261/261 [00:04<00:00, 65.23it/s]\n",
      "Training Epoch 1919: 100%|██████████| 261/261 [00:04<00:00, 62.52it/s]\n",
      "Training Epoch 1920: 100%|██████████| 261/261 [00:03<00:00, 67.33it/s]\n",
      "Training Epoch 1921: 100%|██████████| 261/261 [00:04<00:00, 64.88it/s]\n"
     ]
    },
    {
     "name": "stdout",
     "output_type": "stream",
     "text": [
      "Epoch 1920 - Train Loss: 0.1297, Train MSE: 0.1297, Train MAE: 0.2631\n",
      "Epoch 1920 - Validation Loss: 1.6162, Validation MSE: 1.6175, Validation MAE: 0.9207\n"
     ]
    },
    {
     "name": "stderr",
     "output_type": "stream",
     "text": [
      "Training Epoch 1922: 100%|██████████| 261/261 [00:04<00:00, 64.71it/s]\n",
      "Training Epoch 1923: 100%|██████████| 261/261 [00:04<00:00, 62.71it/s]\n",
      "Training Epoch 1924: 100%|██████████| 261/261 [00:04<00:00, 65.09it/s]\n",
      "Training Epoch 1925: 100%|██████████| 261/261 [16:35<00:00,  3.81s/it]  \n",
      "Training Epoch 1926: 100%|██████████| 261/261 [00:04<00:00, 52.87it/s]\n",
      "Training Epoch 1927: 100%|██████████| 261/261 [00:04<00:00, 58.67it/s]\n",
      "Training Epoch 1928: 100%|██████████| 261/261 [00:04<00:00, 56.50it/s]\n",
      "Training Epoch 1929: 100%|██████████| 261/261 [00:04<00:00, 58.50it/s]\n",
      "Training Epoch 1930: 100%|██████████| 261/261 [00:04<00:00, 58.36it/s]\n",
      "Training Epoch 1931: 100%|██████████| 261/261 [00:04<00:00, 59.12it/s]\n"
     ]
    },
    {
     "name": "stdout",
     "output_type": "stream",
     "text": [
      "Epoch 1930 - Train Loss: 0.1242, Train MSE: 0.1242, Train MAE: 0.2608\n",
      "Epoch 1930 - Validation Loss: 1.6263, Validation MSE: 1.6279, Validation MAE: 0.9210\n"
     ]
    },
    {
     "name": "stderr",
     "output_type": "stream",
     "text": [
      "Training Epoch 1932: 100%|██████████| 261/261 [00:04<00:00, 62.07it/s]\n",
      "Training Epoch 1933: 100%|██████████| 261/261 [00:03<00:00, 68.20it/s]\n",
      "Training Epoch 1934: 100%|██████████| 261/261 [00:03<00:00, 66.01it/s]\n",
      "Training Epoch 1935: 100%|██████████| 261/261 [00:03<00:00, 65.25it/s]\n",
      "Training Epoch 1936: 100%|██████████| 261/261 [00:03<00:00, 65.52it/s]\n",
      "Training Epoch 1937: 100%|██████████| 261/261 [00:04<00:00, 61.45it/s]\n",
      "Training Epoch 1938: 100%|██████████| 261/261 [00:04<00:00, 58.37it/s]\n",
      "Training Epoch 1939: 100%|██████████| 261/261 [00:04<00:00, 60.20it/s]\n",
      "Training Epoch 1940: 100%|██████████| 261/261 [00:04<00:00, 58.68it/s]\n",
      "Training Epoch 1941: 100%|██████████| 261/261 [00:04<00:00, 58.84it/s]\n"
     ]
    },
    {
     "name": "stdout",
     "output_type": "stream",
     "text": [
      "Epoch 1940 - Train Loss: 0.1280, Train MSE: 0.1280, Train MAE: 0.2635\n",
      "Epoch 1940 - Validation Loss: 1.5926, Validation MSE: 1.5940, Validation MAE: 0.9159\n"
     ]
    },
    {
     "name": "stderr",
     "output_type": "stream",
     "text": [
      "Training Epoch 1942: 100%|██████████| 261/261 [00:04<00:00, 56.66it/s]\n",
      "Training Epoch 1943: 100%|██████████| 261/261 [00:04<00:00, 55.41it/s]\n",
      "Training Epoch 1944: 100%|██████████| 261/261 [00:04<00:00, 62.94it/s]\n",
      "Training Epoch 1945: 100%|██████████| 261/261 [00:04<00:00, 60.83it/s]\n",
      "Training Epoch 1946: 100%|██████████| 261/261 [00:04<00:00, 62.54it/s]\n",
      "Training Epoch 1947: 100%|██████████| 261/261 [00:04<00:00, 64.45it/s]\n",
      "Training Epoch 1948: 100%|██████████| 261/261 [00:03<00:00, 65.65it/s]\n",
      "Training Epoch 1949: 100%|██████████| 261/261 [00:04<00:00, 57.96it/s]\n",
      "Training Epoch 1950: 100%|██████████| 261/261 [00:04<00:00, 62.91it/s]\n",
      "Training Epoch 1951: 100%|██████████| 261/261 [00:04<00:00, 64.29it/s]\n"
     ]
    },
    {
     "name": "stdout",
     "output_type": "stream",
     "text": [
      "Epoch 1950 - Train Loss: 0.1212, Train MSE: 0.1212, Train MAE: 0.2550\n",
      "Epoch 1950 - Validation Loss: 1.5997, Validation MSE: 1.6012, Validation MAE: 0.9243\n"
     ]
    },
    {
     "name": "stderr",
     "output_type": "stream",
     "text": [
      "Training Epoch 1952: 100%|██████████| 261/261 [00:03<00:00, 65.39it/s]\n",
      "Training Epoch 1953: 100%|██████████| 261/261 [00:04<00:00, 61.22it/s]\n",
      "Training Epoch 1954: 100%|██████████| 261/261 [00:04<00:00, 62.37it/s]\n",
      "Training Epoch 1955: 100%|██████████| 261/261 [00:04<00:00, 62.33it/s]\n",
      "Training Epoch 1956: 100%|██████████| 261/261 [00:04<00:00, 59.83it/s]\n",
      "Training Epoch 1957: 100%|██████████| 261/261 [00:04<00:00, 63.44it/s]\n",
      "Training Epoch 1958: 100%|██████████| 261/261 [00:04<00:00, 64.28it/s]\n",
      "Training Epoch 1959: 100%|██████████| 261/261 [00:03<00:00, 65.87it/s]\n",
      "Training Epoch 1960: 100%|██████████| 261/261 [00:04<00:00, 63.94it/s]\n",
      "Training Epoch 1961: 100%|██████████| 261/261 [00:04<00:00, 65.12it/s]\n"
     ]
    },
    {
     "name": "stdout",
     "output_type": "stream",
     "text": [
      "Epoch 1960 - Train Loss: 0.1222, Train MSE: 0.1222, Train MAE: 0.2573\n",
      "Epoch 1960 - Validation Loss: 1.6347, Validation MSE: 1.6362, Validation MAE: 0.9316\n"
     ]
    },
    {
     "name": "stderr",
     "output_type": "stream",
     "text": [
      "Training Epoch 1962: 100%|██████████| 261/261 [00:04<00:00, 57.95it/s]\n",
      "Training Epoch 1963: 100%|██████████| 261/261 [00:04<00:00, 58.39it/s]\n",
      "Training Epoch 1964: 100%|██████████| 261/261 [00:04<00:00, 61.86it/s]\n",
      "Training Epoch 1965: 100%|██████████| 261/261 [00:04<00:00, 63.87it/s]\n",
      "Training Epoch 1966: 100%|██████████| 261/261 [00:03<00:00, 65.74it/s]\n",
      "Training Epoch 1967: 100%|██████████| 261/261 [00:04<00:00, 59.47it/s]\n",
      "Training Epoch 1968: 100%|██████████| 261/261 [00:04<00:00, 54.90it/s]\n",
      "Training Epoch 1969: 100%|██████████| 261/261 [00:04<00:00, 62.63it/s]\n",
      "Training Epoch 1970: 100%|██████████| 261/261 [00:04<00:00, 63.06it/s]\n",
      "Training Epoch 1971: 100%|██████████| 261/261 [00:04<00:00, 64.84it/s]\n"
     ]
    },
    {
     "name": "stdout",
     "output_type": "stream",
     "text": [
      "Epoch 1970 - Train Loss: 0.1267, Train MSE: 0.1267, Train MAE: 0.2628\n",
      "Epoch 1970 - Validation Loss: 1.6178, Validation MSE: 1.6192, Validation MAE: 0.9238\n"
     ]
    },
    {
     "name": "stderr",
     "output_type": "stream",
     "text": [
      "Training Epoch 1972: 100%|██████████| 261/261 [00:03<00:00, 65.65it/s]\n",
      "Training Epoch 1973: 100%|██████████| 261/261 [00:04<00:00, 64.54it/s]\n",
      "Training Epoch 1974: 100%|██████████| 261/261 [00:04<00:00, 61.81it/s]\n",
      "Training Epoch 1975: 100%|██████████| 261/261 [00:04<00:00, 64.73it/s]\n",
      "Training Epoch 1976: 100%|██████████| 261/261 [00:03<00:00, 66.40it/s]\n",
      "Training Epoch 1977: 100%|██████████| 261/261 [00:04<00:00, 64.25it/s]\n",
      "Training Epoch 1978: 100%|██████████| 261/261 [00:04<00:00, 65.12it/s]\n",
      "Training Epoch 1979: 100%|██████████| 261/261 [00:03<00:00, 66.07it/s]\n",
      "Training Epoch 1980: 100%|██████████| 261/261 [00:04<00:00, 63.00it/s]\n",
      "Training Epoch 1981: 100%|██████████| 261/261 [00:04<00:00, 62.87it/s]\n"
     ]
    },
    {
     "name": "stdout",
     "output_type": "stream",
     "text": [
      "Epoch 1980 - Train Loss: 0.1281, Train MSE: 0.1281, Train MAE: 0.2600\n",
      "Epoch 1980 - Validation Loss: 1.5877, Validation MSE: 1.5892, Validation MAE: 0.9216\n"
     ]
    },
    {
     "name": "stderr",
     "output_type": "stream",
     "text": [
      "Training Epoch 1982: 100%|██████████| 261/261 [00:04<00:00, 62.27it/s]\n",
      "Training Epoch 1983: 100%|██████████| 261/261 [00:04<00:00, 62.50it/s]\n",
      "Training Epoch 1984: 100%|██████████| 261/261 [00:04<00:00, 60.71it/s]\n",
      "Training Epoch 1985: 100%|██████████| 261/261 [00:04<00:00, 58.40it/s]\n",
      "Training Epoch 1986: 100%|██████████| 261/261 [00:04<00:00, 62.09it/s]\n",
      "Training Epoch 1987: 100%|██████████| 261/261 [00:04<00:00, 64.19it/s]\n",
      "Training Epoch 1988: 100%|██████████| 261/261 [00:04<00:00, 62.31it/s]\n",
      "Training Epoch 1989: 100%|██████████| 261/261 [00:04<00:00, 63.39it/s]\n",
      "Training Epoch 1990: 100%|██████████| 261/261 [00:04<00:00, 64.24it/s]\n",
      "Training Epoch 1991: 100%|██████████| 261/261 [00:04<00:00, 61.14it/s]\n"
     ]
    },
    {
     "name": "stdout",
     "output_type": "stream",
     "text": [
      "Epoch 1990 - Train Loss: 0.1231, Train MSE: 0.1231, Train MAE: 0.2575\n",
      "Epoch 1990 - Validation Loss: 1.5875, Validation MSE: 1.5887, Validation MAE: 0.9199\n"
     ]
    },
    {
     "name": "stderr",
     "output_type": "stream",
     "text": [
      "Training Epoch 1992: 100%|██████████| 261/261 [00:04<00:00, 58.62it/s]\n",
      "Training Epoch 1993: 100%|██████████| 261/261 [00:04<00:00, 64.37it/s]\n",
      "Training Epoch 1994: 100%|██████████| 261/261 [00:04<00:00, 64.64it/s]\n",
      "Training Epoch 1995: 100%|██████████| 261/261 [00:04<00:00, 55.77it/s]\n",
      "Training Epoch 1996: 100%|██████████| 261/261 [00:04<00:00, 62.63it/s]\n",
      "Training Epoch 1997: 100%|██████████| 261/261 [00:04<00:00, 59.08it/s]\n",
      "Training Epoch 1998: 100%|██████████| 261/261 [00:04<00:00, 64.33it/s]\n",
      "Training Epoch 1999: 100%|██████████| 261/261 [00:04<00:00, 61.19it/s]\n",
      "Training Epoch 2000: 100%|██████████| 261/261 [00:03<00:00, 65.91it/s]\n"
     ]
    },
    {
     "name": "stdout",
     "output_type": "stream",
     "text": [
      "Test MSE: 1.6854, Test MAE: 0.9460\n"
     ]
    }
   ],
   "source": [
    "import torch\n",
    "import torch.nn as nn\n",
    "import torch.optim as optim\n",
    "from tqdm import tqdm\n",
    "import pandas as pd\n",
    "from sklearn.metrics import r2_score, median_absolute_error, explained_variance_score\n",
    "from scipy.stats import pearsonr\n",
    "\n",
    "train_history = pd.DataFrame(columns=[ 'epoch',\n",
    "    'Train Loss', 'Train MSE', 'Train MAE', 'Train RMSE', 'Train R2', 'Train Pearson', 'Train Median_AE', 'Train Explained_VAR'\n",
    "    'Val Loss', 'Val MSE', 'Val MAE', 'Val RMSE', 'Val R2', 'Val Pearson', 'Val Median_AE', 'Val Explained_VAR'])\n",
    "# Verify feature dimensions\n",
    "for batch in train_loader:\n",
    "    mol_input_dim = batch['metabolite_features'].shape[1]  # Dynamically determine mol input dimension\n",
    "    protein_input_dim = batch['protein_features'].shape[1]  # Dynamically determine protein input dimension\n",
    "    break\n",
    "\n",
    "# Initialize model, optimizer, and loss function\n",
    "num_timesteps = 10\n",
    "model = DiffusionGenerativeModel(mol_input_dim=mol_input_dim, protein_input_dim=protein_input_dim, hidden_dim=512, num_timesteps=num_timesteps)\n",
    "model = model.to(device)\n",
    "optimizer = optim.Adam(model.parameters(), lr=0.0001)\n",
    "criterion = nn.MSELoss()\n",
    "\n",
    "# Training and Validation Loop\n",
    "for epoch in range(2000):\n",
    "    model.train()\n",
    "    total_loss = 0.0\n",
    "    val_total_loss = 0.0\n",
    "    train_predictions, train_labels = [], []\n",
    "\n",
    "    for batch in tqdm(train_loader, desc=f\"Training Epoch {epoch + 1}\"):\n",
    "        mol_features = batch['metabolite_features'].to(device)\n",
    "        protein_features = batch['protein_features'].to(device)\n",
    "        labels = batch['label'].to(device)\n",
    "\n",
    "        # Add noise to the features\n",
    "        noisy_mol_features = model.add_noise(mol_features, noise_level=0.1)\n",
    "        noisy_protein_features = model.add_noise(protein_features, noise_level=0.1)\n",
    "\n",
    "        optimizer.zero_grad()\n",
    "        outputs = model(noisy_mol_features, noisy_protein_features, torch.randint(0, num_timesteps, (mol_features.size(0),)).to(device)).squeeze()\n",
    "        loss = criterion(outputs, labels)\n",
    "        loss.backward()\n",
    "        optimizer.step()\n",
    "        total_loss += loss.item()\n",
    "\n",
    "        # Store predictions and labels for metrics\n",
    "        train_predictions.extend(outputs.detach().cpu().numpy())\n",
    "        train_labels.extend(labels.cpu().numpy())\n",
    "\n",
    "    # Calculate training metrics\n",
    "    train_mse = ((torch.tensor(train_predictions) - torch.tensor(train_labels))**2).mean().item()\n",
    "    train_mae = torch.abs(torch.tensor(train_predictions) - torch.tensor(train_labels)).mean().item()\n",
    "    train_rmse = torch.sqrt((torch.tensor(train_predictions) - torch.tensor(train_labels)) ** 2).mean().item()\n",
    "    train_r2 = r2_score(np.array(train_labels), np.array(train_predictions))\n",
    "    train_pearson_corr, _ = pearsonr(np.array(train_labels), np.array(train_predictions))\n",
    "    train_median_ae = median_absolute_error(np.array(train_labels), np.array(train_predictions))\n",
    "    train_explained_var = explained_variance_score(np.array(train_labels), np.array(train_predictions))\n",
    "\n",
    "    if epoch % 10 == 0:\n",
    "        print(f\"Epoch {epoch} - Train Loss: {total_loss / len(train_loader):.4f}, Train MSE: {train_mse:.4f}, Train MAE: {train_mae:.4f}\")\n",
    "\n",
    "    # Validation\n",
    "    model.eval()\n",
    "    val_predictions, val_labels = [], []\n",
    "    with torch.no_grad():\n",
    "        for batch in val_loader:\n",
    "            mol_features = batch['metabolite_features'].to(device)\n",
    "            protein_features = batch['protein_features'].to(device)\n",
    "            labels = batch['label'].to(device)\n",
    "\n",
    "            # Add noise to the features\n",
    "            noisy_mol_features = model.add_noise(mol_features, noise_level=0.1)\n",
    "            noisy_protein_features = model.add_noise(protein_features, noise_level=0.1)\n",
    "\n",
    "            outputs = model(noisy_mol_features, noisy_protein_features, torch.randint(0, num_timesteps, (mol_features.size(0),)).to(device)).squeeze()\n",
    "            val_predictions.extend(outputs.cpu().numpy())\n",
    "            val_labels.extend(labels.cpu().numpy())\n",
    "            val_loss = criterion(outputs, labels)\n",
    "            val_total_loss += val_loss.item()\n",
    "\n",
    "    val_mse = ((torch.tensor(val_predictions) - torch.tensor(val_labels))**2).mean().item()\n",
    "    val_mae = torch.abs(torch.tensor(val_predictions) - torch.tensor(val_labels)).mean().item()\n",
    "    val_rmse = torch.sqrt((torch.tensor(val_predictions) - torch.tensor(val_labels)) ** 2).mean().item()\n",
    "    val_r2 = r2_score(np.array(val_labels), np.array(val_predictions))\n",
    "    val_pearson_corr, _ = pearsonr(np.array(val_labels), np.array(val_predictions))\n",
    "    val_median_ae = median_absolute_error(np.array(val_labels), np.array(val_predictions))\n",
    "    val_explained_var = explained_variance_score(np.array(val_labels), np.array(val_predictions))\n",
    "\n",
    "    if epoch % 10 == 0:\n",
    "        print(f\"Epoch {epoch} - Validation Loss: {val_total_loss / len(val_loader):.4f}, Validation MSE: {val_mse:.4f}, Validation MAE: {val_mae:.4f}\")\n",
    "\n",
    "    # Save metrics to DataFrame\n",
    "    new_row = {'epoch': epoch + 1, 'Train Loss': total_loss / len(train_loader), 'Train MSE': train_mse, 'Train MAE': train_mae, 'Train RMSE': train_rmse, 'Train R2': train_r2, 'Train Pearson': train_pearson_corr, 'Train Median_AE': train_median_ae, 'Train Explained_VAR': train_explained_var, \n",
    "               'Val Loss': val_total_loss / len(val_loader), 'Val MSE': val_mse, 'Val MAE': val_mae, 'Val RMSE': val_rmse, 'Val R2': val_r2, 'Val Pearson': val_pearson_corr, 'Val Median_AE': val_median_ae, 'Val Explained_VAR': val_explained_var}\n",
    "    train_history = pd.concat([train_history, pd.DataFrame([new_row])], ignore_index=True)\n",
    "\n",
    "\n"
   ]
  },
  {
   "cell_type": "code",
   "execution_count": 8,
   "metadata": {},
   "outputs": [],
   "source": [
    "for batch in train_loader:\n",
    "    mol_input_dim = batch['metabolite_features'].shape[1]  # Dynamically determine mol input dimension\n",
    "    protein_input_dim = batch['protein_features'].shape[1]  # Dynamically determine protein input dimension\n",
    "    break\n",
    "model = DiffusionGenerativeModel(mol_input_dim=mol_input_dim, protein_input_dim=protein_input_dim, hidden_dim=512, num_timesteps=10)\n",
    "# Load the saved model weights\n",
    "model.load_state_dict(torch.load('/Users/pinchichen/2025S lab/AI drug project/Catpred/Ki/trained_model/random_split/Diffusion model_Catpred_Ki.pt'))\n",
    "# Move to device if using GPU\n",
    "model = model.to(device)"
   ]
  },
  {
   "cell_type": "code",
   "execution_count": 10,
   "metadata": {},
   "outputs": [
    {
     "name": "stdout",
     "output_type": "stream",
     "text": [
      "Test MSE: 1.6965, Test MAE: 0.9460\n"
     ]
    }
   ],
   "source": [
    "from sklearn.metrics import mean_squared_error,mean_absolute_error,r2_score, median_absolute_error, explained_variance_score\n",
    "from scipy.stats import pearsonr\n",
    "# Test Metrics\n",
    "model.eval()\n",
    "test_predictions, test_labels = [], []\n",
    "with torch.no_grad():\n",
    "    for batch in test_loader:\n",
    "        mol_features = batch['metabolite_features'].to(device)\n",
    "        protein_features = batch['protein_features'].to(device)\n",
    "        labels = batch['label'].to(device)\n",
    "\n",
    "        # Add noise to the features\n",
    "        noisy_mol_features = model.add_noise(mol_features, noise_level=0.1)\n",
    "        noisy_protein_features = model.add_noise(protein_features, noise_level=0.1)\n",
    "\n",
    "        outputs = model(noisy_mol_features, noisy_protein_features, torch.randint(0, 10, (mol_features.size(0),)).to(device)).squeeze()\n",
    "        test_predictions.extend(outputs.cpu().numpy())\n",
    "        test_labels.extend(labels.cpu().numpy())\n",
    "\n",
    "test_mse = ((torch.tensor(test_predictions) - torch.tensor(test_labels))**2).mean().item()\n",
    "test_mae = torch.abs(torch.tensor(test_predictions) - torch.tensor(test_labels)).mean().item()\n",
    "test_rmse = torch.sqrt((torch.tensor(test_predictions) - torch.tensor(test_labels)) ** 2).mean().item()\n",
    "test_r2 = r2_score(np.array(test_labels), np.array(test_predictions))\n",
    "test_pearson_corr, _ = pearsonr(np.array(test_labels), np.array(test_predictions))\n",
    "test_median_ae = median_absolute_error(np.array(test_labels), np.array(test_predictions))\n",
    "test_explained_var = explained_variance_score(np.array(test_labels), np.array(test_predictions))\n",
    "print(f\"Test MSE: {test_mse:.4f}, Test MAE: {test_mae:.4f}\")"
   ]
  },
  {
   "cell_type": "code",
   "execution_count": 11,
   "metadata": {},
   "outputs": [],
   "source": [
    "def evaluate_model(predictions, labels):\n",
    "    mse = mean_squared_error(labels, predictions)\n",
    "    rmse = np.sqrt(mse)\n",
    "    mae = mean_absolute_error(labels, predictions)\n",
    "    r2 = r2_score(labels, predictions)\n",
    "    pearson_corr, _ = pearsonr(labels, predictions)\n",
    "    medae = median_absolute_error(labels, predictions)\n",
    "    evs = explained_variance_score(labels, predictions)\n",
    "\n",
    "    return mse, rmse, mae, r2, pearson_corr, medae, evs"
   ]
  },
  {
   "cell_type": "code",
   "execution_count": 12,
   "metadata": {},
   "outputs": [],
   "source": [
    "model.eval()\n",
    "train_pred, train_labels = [], []\n",
    "with torch.no_grad():\n",
    "    for batch in train_loader:\n",
    "        mol_features = batch['metabolite_features'].to(device)\n",
    "        protein_features = batch['protein_features'].to(device)\n",
    "        labels = batch['label'].to(device)\n",
    "\n",
    "        noisy_mol_features = model.add_noise(mol_features, noise_level=0.1)\n",
    "        noisy_protein_features = model.add_noise(protein_features, noise_level=0.1)\n",
    "\n",
    "        outputs = model(noisy_mol_features, noisy_protein_features, torch.randint(0, 10, (mol_features.size(0),)).to(device)).squeeze()\n",
    "        train_pred.extend(outputs.cpu().numpy())\n",
    "        train_labels.extend(labels.cpu().numpy())\n",
    "\n",
    "train_mse, train_rmse, train_mae, train_r2, train_pearson_corr, train_median_ae, train_explained_var = evaluate_model(train_pred, train_labels)"
   ]
  },
  {
   "cell_type": "code",
   "execution_count": 13,
   "metadata": {},
   "outputs": [],
   "source": [
    "model.eval()\n",
    "val_pred, val_labels = [], []\n",
    "with torch.no_grad():\n",
    "    for batch in val_loader:\n",
    "        mol_features = batch['metabolite_features'].to(device)\n",
    "        protein_features = batch['protein_features'].to(device)\n",
    "        labels = batch['label'].to(device)\n",
    "\n",
    "        noisy_mol_features = model.add_noise(mol_features, noise_level=0.1)\n",
    "        noisy_protein_features = model.add_noise(protein_features, noise_level=0.1)\n",
    "\n",
    "        outputs = model(noisy_mol_features, noisy_protein_features, torch.randint(0, 10, (mol_features.size(0),)).to(device)).squeeze()\n",
    "        val_pred.extend(outputs.cpu().numpy())\n",
    "        val_labels.extend(labels.cpu().numpy())\n",
    "\n",
    "val_mse, val_rmse, val_mae, val_r2, val_pearson_corr, val_median_ae, val_explained_var = evaluate_model(val_pred, val_labels)\n"
   ]
  },
  {
   "cell_type": "code",
   "execution_count": 14,
   "metadata": {},
   "outputs": [],
   "source": [
    "# append the performance to the csv file\n",
    "df = {\n",
    "    'Model':['Diffusion Model','Diffusion Model','Diffusion Model'],\n",
    "    'Dataset':['Train','Validation','Test'],\n",
    "    'MSE':[train_mse,val_rmse,test_mse],\n",
    "    'RMSE':[train_rmse,val_rmse,test_rmse],\n",
    "    'MAE':[train_mae,val_mae,test_mae],\n",
    "    'R2':[train_r2,val_r2,test_r2],\n",
    "    'Pearson':[train_pearson_corr,val_pearson_corr,test_pearson_corr],\n",
    "    'Median_AE':[train_median_ae,val_median_ae,test_median_ae],\n",
    "    'Explained_VAR':[train_explained_var,val_explained_var,test_explained_var],\n",
    "    'Dataspliting Mode':['random','random','random']\n",
    "}\n",
    "df = pd.DataFrame(df)\n",
    "\n",
    "df.to_csv('/Users/pinchichen/2025S lab/AI drug project/Catpred/Ki/model performance metrics_Catpred_Ki.csv', mode='a', header=False)"
   ]
  },
  {
   "cell_type": "code",
   "execution_count": 10,
   "metadata": {},
   "outputs": [],
   "source": [
    "# Save the model and training history\n",
    "save_dir = '/Users/pinchichen/2025S lab/AI drug project/Catpred/Ki/trained_model/random_split'\n",
    "# save model weights and optimizer state\n",
    "torch.save(model.state_dict(), os.path.join(save_dir, 'Diffusion model_Catpred_Ki.pt'))\n",
    "torch.save(optimizer.state_dict(), os.path.join(save_dir, 'Diffusion model optimizer_Catpred_Ki.pt'))"
   ]
  },
  {
   "cell_type": "code",
   "execution_count": 11,
   "metadata": {},
   "outputs": [
    {
     "data": {
      "image/png": "[encoded data removed]",
      "text/plain": [
       "<Figure size 1000x600 with 1 Axes>"
      ]
     },
     "metadata": {},
     "output_type": "display_data"
    }
   ],
   "source": [
    "import matplotlib.pyplot as plt\n",
    "import seaborn as sns\n",
    "sns.set(style='ticks')\n",
    "# Load metrics\n",
    "\n",
    "metrics = train_history\n",
    "\n",
    "# Plot the training loss over epochs using seaborn\n",
    "plt.figure(figsize=(10, 6))\n",
    "# sns.lineplot(data=metrics, x='epoch', y='Train Loss', label='Train Loss')\n",
    "# sns.lineplot(data=metrics, x='epoch', y='Val Loss', label='Val Loss')\n",
    "sns.lineplot(data=metrics, x='epoch', y='Val MSE', label='Valid_RMSE')\n",
    "sns.lineplot(data=metrics, x='epoch', y='Train MSE', label='Train_RMSE')\n",
    "# sns.lineplot(data=metrics, x='Epoch', y='Valid_MAE', label='Valid_MAE')\n",
    "# Add titles and labels\n",
    "plt.title('Training and Validation Metrics Over Epochs', fontsize=14)\n",
    "# Define the range of tick positions\n",
    "plt.xlabel('Epoch', fontsize=12)\n",
    "plt.ylabel('Loss', fontsize=12)\n",
    "plt.grid(False)\n",
    "# Show the plot\n",
    "plt.show()\n"
   ]
  },
  {
   "cell_type": "code",
   "execution_count": 12,
   "metadata": {},
   "outputs": [
    {
     "data": {
      "text/html": [
       "<div>\n",
       "<style scoped>\n",
       "    .dataframe tbody tr th:only-of-type {\n",
       "        vertical-align: middle;\n",
       "    }\n",
       "\n",
       "    .dataframe tbody tr th {\n",
       "        vertical-align: top;\n",
       "    }\n",
       "\n",
       "    .dataframe thead th {\n",
       "        text-align: right;\n",
       "    }\n",
       "</style>\n",
       "<table border=\"1\" class=\"dataframe\">\n",
       "  <thead>\n",
       "    <tr style=\"text-align: right;\">\n",
       "      <th></th>\n",
       "      <th>epoch</th>\n",
       "      <th>Train Loss</th>\n",
       "      <th>Train MSE</th>\n",
       "      <th>Train MAE</th>\n",
       "      <th>Train RMSE</th>\n",
       "      <th>Train R2</th>\n",
       "      <th>Train Pearson</th>\n",
       "      <th>Train Median_AE</th>\n",
       "      <th>Train Explained_VARVal Loss</th>\n",
       "      <th>Val MSE</th>\n",
       "      <th>Val MAE</th>\n",
       "      <th>Val RMSE</th>\n",
       "      <th>Val R2</th>\n",
       "      <th>Val Pearson</th>\n",
       "      <th>Val Median_AE</th>\n",
       "      <th>Val Explained_VAR</th>\n",
       "      <th>Train Explained_VAR</th>\n",
       "      <th>Val Loss</th>\n",
       "    </tr>\n",
       "  </thead>\n",
       "  <tbody>\n",
       "    <tr>\n",
       "      <th>1995</th>\n",
       "      <td>1996</td>\n",
       "      <td>0.126728</td>\n",
       "      <td>0.126742</td>\n",
       "      <td>0.262054</td>\n",
       "      <td>0.262054</td>\n",
       "      <td>0.967559</td>\n",
       "      <td>0.983646</td>\n",
       "      <td>0.204395</td>\n",
       "      <td>NaN</td>\n",
       "      <td>1.646109</td>\n",
       "      <td>0.926407</td>\n",
       "      <td>0.926407</td>\n",
       "      <td>0.588267</td>\n",
       "      <td>0.768888</td>\n",
       "      <td>0.679746</td>\n",
       "      <td>0.588275</td>\n",
       "      <td>0.967559</td>\n",
       "      <td>1.644423</td>\n",
       "    </tr>\n",
       "    <tr>\n",
       "      <th>1996</th>\n",
       "      <td>1997</td>\n",
       "      <td>0.119563</td>\n",
       "      <td>0.119577</td>\n",
       "      <td>0.256170</td>\n",
       "      <td>0.256170</td>\n",
       "      <td>0.969393</td>\n",
       "      <td>0.984578</td>\n",
       "      <td>0.197675</td>\n",
       "      <td>NaN</td>\n",
       "      <td>1.615105</td>\n",
       "      <td>0.922699</td>\n",
       "      <td>0.922699</td>\n",
       "      <td>0.596021</td>\n",
       "      <td>0.774079</td>\n",
       "      <td>0.673539</td>\n",
       "      <td>0.596047</td>\n",
       "      <td>0.969393</td>\n",
       "      <td>1.613621</td>\n",
       "    </tr>\n",
       "    <tr>\n",
       "      <th>1997</th>\n",
       "      <td>1998</td>\n",
       "      <td>0.122997</td>\n",
       "      <td>0.123005</td>\n",
       "      <td>0.260031</td>\n",
       "      <td>0.260031</td>\n",
       "      <td>0.968515</td>\n",
       "      <td>0.984132</td>\n",
       "      <td>0.200466</td>\n",
       "      <td>NaN</td>\n",
       "      <td>1.622323</td>\n",
       "      <td>0.925035</td>\n",
       "      <td>0.925035</td>\n",
       "      <td>0.594216</td>\n",
       "      <td>0.773303</td>\n",
       "      <td>0.684346</td>\n",
       "      <td>0.594316</td>\n",
       "      <td>0.968515</td>\n",
       "      <td>1.620892</td>\n",
       "    </tr>\n",
       "    <tr>\n",
       "      <th>1998</th>\n",
       "      <td>1999</td>\n",
       "      <td>0.118314</td>\n",
       "      <td>0.118316</td>\n",
       "      <td>0.255416</td>\n",
       "      <td>0.255416</td>\n",
       "      <td>0.969715</td>\n",
       "      <td>0.984742</td>\n",
       "      <td>0.196365</td>\n",
       "      <td>NaN</td>\n",
       "      <td>1.561977</td>\n",
       "      <td>0.914574</td>\n",
       "      <td>0.914574</td>\n",
       "      <td>0.609310</td>\n",
       "      <td>0.781687</td>\n",
       "      <td>0.663798</td>\n",
       "      <td>0.609468</td>\n",
       "      <td>0.969715</td>\n",
       "      <td>1.560796</td>\n",
       "    </tr>\n",
       "    <tr>\n",
       "      <th>1999</th>\n",
       "      <td>2000</td>\n",
       "      <td>0.123995</td>\n",
       "      <td>0.124005</td>\n",
       "      <td>0.257665</td>\n",
       "      <td>0.257665</td>\n",
       "      <td>0.968259</td>\n",
       "      <td>0.984002</td>\n",
       "      <td>0.196738</td>\n",
       "      <td>NaN</td>\n",
       "      <td>1.619998</td>\n",
       "      <td>0.913994</td>\n",
       "      <td>0.913994</td>\n",
       "      <td>0.594798</td>\n",
       "      <td>0.773761</td>\n",
       "      <td>0.665192</td>\n",
       "      <td>0.595335</td>\n",
       "      <td>0.968259</td>\n",
       "      <td>1.618768</td>\n",
       "    </tr>\n",
       "  </tbody>\n",
       "</table>\n",
       "</div>"
      ],
      "text/plain": [
       "     epoch  Train Loss  Train MSE  Train MAE  Train RMSE  Train R2  \\\n",
       "1995  1996    0.126728   0.126742   0.262054    0.262054  0.967559   \n",
       "1996  1997    0.119563   0.119577   0.256170    0.256170  0.969393   \n",
       "1997  1998    0.122997   0.123005   0.260031    0.260031  0.968515   \n",
       "1998  1999    0.118314   0.118316   0.255416    0.255416  0.969715   \n",
       "1999  2000    0.123995   0.124005   0.257665    0.257665  0.968259   \n",
       "\n",
       "      Train Pearson  Train Median_AE Train Explained_VARVal Loss   Val MSE  \\\n",
       "1995       0.983646         0.204395                         NaN  1.646109   \n",
       "1996       0.984578         0.197675                         NaN  1.615105   \n",
       "1997       0.984132         0.200466                         NaN  1.622323   \n",
       "1998       0.984742         0.196365                         NaN  1.561977   \n",
       "1999       0.984002         0.196738                         NaN  1.619998   \n",
       "\n",
       "       Val MAE  Val RMSE    Val R2  Val Pearson  Val Median_AE  \\\n",
       "1995  0.926407  0.926407  0.588267     0.768888       0.679746   \n",
       "1996  0.922699  0.922699  0.596021     0.774079       0.673539   \n",
       "1997  0.925035  0.925035  0.594216     0.773303       0.684346   \n",
       "1998  0.914574  0.914574  0.609310     0.781687       0.663798   \n",
       "1999  0.913994  0.913994  0.594798     0.773761       0.665192   \n",
       "\n",
       "      Val Explained_VAR  Train Explained_VAR  Val Loss  \n",
       "1995           0.588275             0.967559  1.644423  \n",
       "1996           0.596047             0.969393  1.613621  \n",
       "1997           0.594316             0.968515  1.620892  \n",
       "1998           0.609468             0.969715  1.560796  \n",
       "1999           0.595335             0.968259  1.618768  "
      ]
     },
     "execution_count": 12,
     "metadata": {},
     "output_type": "execute_result"
    }
   ],
   "source": [
    "train_history.tail()"
   ]
  },
  {
   "cell_type": "code",
   "execution_count": null,
   "metadata": {},
   "outputs": [],
   "source": []
  }
 ],
 "metadata": {
  "kernelspec": {
   "display_name": "base",
   "language": "python",
   "name": "python3"
  },
  "language_info": {
   "codemirror_mode": {
    "name": "ipython",
    "version": 3
   },
   "file_extension": ".py",
   "mimetype": "text/x-python",
   "name": "python",
   "nbconvert_exporter": "python",
   "pygments_lexer": "ipython3",
   "version": "3.12.2"
  }
 },
 "nbformat": 4,
 "nbformat_minor": 2
}
