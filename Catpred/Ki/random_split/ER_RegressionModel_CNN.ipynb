{
 "cells": [
  {
   "cell_type": "code",
   "execution_count": 1,
   "metadata": {},
   "outputs": [],
   "source": [
    "import pandas as pd\n",
    "import numpy as np\n",
    "from tqdm import tqdm\n",
    "import torch\n",
    "import torch.nn as nn\n",
    "import torch.optim as optim\n",
    "from torch.utils.data import DataLoader, Dataset\n",
    "from sklearn.metrics import roc_auc_score\n",
    "from sklearn.model_selection import train_test_split\n",
    "import os\n"
   ]
  },
  {
   "cell_type": "code",
   "execution_count": 2,
   "metadata": {},
   "outputs": [
    {
     "data": {
      "text/html": [
       "<div>\n",
       "<style scoped>\n",
       "    .dataframe tbody tr th:only-of-type {\n",
       "        vertical-align: middle;\n",
       "    }\n",
       "\n",
       "    .dataframe tbody tr th {\n",
       "        vertical-align: top;\n",
       "    }\n",
       "\n",
       "    .dataframe thead th {\n",
       "        text-align: right;\n",
       "    }\n",
       "</style>\n",
       "<table border=\"1\" class=\"dataframe\">\n",
       "  <thead>\n",
       "    <tr style=\"text-align: right;\">\n",
       "      <th></th>\n",
       "      <th>Sequence</th>\n",
       "      <th>sequence_source</th>\n",
       "      <th>uniprot</th>\n",
       "      <th>Smiles</th>\n",
       "      <th>value</th>\n",
       "      <th>ec</th>\n",
       "      <th>log10_value</th>\n",
       "      <th>log10ki_mean</th>\n",
       "      <th>metabolite_features</th>\n",
       "      <th>protein_features</th>\n",
       "    </tr>\n",
       "  </thead>\n",
       "  <tbody>\n",
       "    <tr>\n",
       "      <th>0</th>\n",
       "      <td>MHTKGPTPQQHDGSALRIGIVHARWNETIIEPLLAGTKAKLLACGV...</td>\n",
       "      <td>uniprot_search</td>\n",
       "      <td>A0A6P8BCR9</td>\n",
       "      <td>O=c1n(C[C@H](O)[C@H](O)[C@H](O)CO)c2nc(O)nc(O)...</td>\n",
       "      <td>0.000002</td>\n",
       "      <td>2.5.1.78</td>\n",
       "      <td>-5.698970</td>\n",
       "      <td>-5.698970</td>\n",
       "      <td>[0.17249086, -0.23665705, -0.11737049, -0.0940...</td>\n",
       "      <td>[0.026722027, -0.06119407, 0.041440543, -0.109...</td>\n",
       "    </tr>\n",
       "    <tr>\n",
       "      <th>1</th>\n",
       "      <td>MASPDWGYDDKNGPEQWSKLYPIANGNNQSPVDIKTSETKHDTSLK...</td>\n",
       "      <td>brenda</td>\n",
       "      <td>P00915</td>\n",
       "      <td>CN1CCN(C(=O)c2ccc(S(N)(=O)=O)cc2)[C@@H](Cc2ccc...</td>\n",
       "      <td>0.000707</td>\n",
       "      <td>4.2.1.1</td>\n",
       "      <td>-3.150581</td>\n",
       "      <td>-3.150581</td>\n",
       "      <td>[0.4240491, 0.28231123, 0.2642891, -0.7667821,...</td>\n",
       "      <td>[-0.029181704, -0.12635791, 0.10866662, 0.0339...</td>\n",
       "    </tr>\n",
       "    <tr>\n",
       "      <th>2</th>\n",
       "      <td>MLDDIRGFMNTFSETMFMDVINYSLTRDRYDSVFLQRQNYRDLGQL...</td>\n",
       "      <td>brenda</td>\n",
       "      <td>Q9HLD0</td>\n",
       "      <td>C[C@H]1O[C@H](O[C@H]2[C@H](O)[C@@H](O)[C@@H](O...</td>\n",
       "      <td>0.002990</td>\n",
       "      <td>3.2.1.20</td>\n",
       "      <td>-2.524329</td>\n",
       "      <td>-2.524329</td>\n",
       "      <td>[0.50005734, 0.3923428, 0.064121775, -0.635894...</td>\n",
       "      <td>[0.02874529, -0.17312695, -0.0026887748, 0.035...</td>\n",
       "    </tr>\n",
       "    <tr>\n",
       "      <th>3</th>\n",
       "      <td>MKLMENIFDLAKANKKKIVLAEGEEERNIRASEEIIKDGIADIILV...</td>\n",
       "      <td>uniprot_search</td>\n",
       "      <td>A0A1L5F6Z9</td>\n",
       "      <td>CCN=C(O)CCN=C(O)[C@H](O)C(C)(C)COP(=O)(O)OP(=O...</td>\n",
       "      <td>0.020000</td>\n",
       "      <td>2.3.1.8</td>\n",
       "      <td>-1.698970</td>\n",
       "      <td>-1.698970</td>\n",
       "      <td>[0.28353548, 0.018489605, -0.5459905, -0.34693...</td>\n",
       "      <td>[-0.06555556, 0.04763434, 0.031432115, 0.17143...</td>\n",
       "    </tr>\n",
       "    <tr>\n",
       "      <th>4</th>\n",
       "      <td>MAKRIVEPFRIKMVEKIRVPSREEREAALKEAGYNPFLLPSSAVYI...</td>\n",
       "      <td>sabio</td>\n",
       "      <td>P28796</td>\n",
       "      <td>CC(N)C(=O)O</td>\n",
       "      <td>24.500000</td>\n",
       "      <td>4.1.99.1</td>\n",
       "      <td>1.389166</td>\n",
       "      <td>1.419631</td>\n",
       "      <td>[0.051456872, 0.35619217, 0.10593035, -1.04098...</td>\n",
       "      <td>[0.049294557, -0.043596543, 0.0546125, 0.35600...</td>\n",
       "    </tr>\n",
       "  </tbody>\n",
       "</table>\n",
       "</div>"
      ],
      "text/plain": [
       "                                            Sequence sequence_source  \\\n",
       "0  MHTKGPTPQQHDGSALRIGIVHARWNETIIEPLLAGTKAKLLACGV...  uniprot_search   \n",
       "1  MASPDWGYDDKNGPEQWSKLYPIANGNNQSPVDIKTSETKHDTSLK...          brenda   \n",
       "2  MLDDIRGFMNTFSETMFMDVINYSLTRDRYDSVFLQRQNYRDLGQL...          brenda   \n",
       "3  MKLMENIFDLAKANKKKIVLAEGEEERNIRASEEIIKDGIADIILV...  uniprot_search   \n",
       "4  MAKRIVEPFRIKMVEKIRVPSREEREAALKEAGYNPFLLPSSAVYI...           sabio   \n",
       "\n",
       "      uniprot                                             Smiles      value  \\\n",
       "0  A0A6P8BCR9  O=c1n(C[C@H](O)[C@H](O)[C@H](O)CO)c2nc(O)nc(O)...   0.000002   \n",
       "1      P00915  CN1CCN(C(=O)c2ccc(S(N)(=O)=O)cc2)[C@@H](Cc2ccc...   0.000707   \n",
       "2      Q9HLD0  C[C@H]1O[C@H](O[C@H]2[C@H](O)[C@@H](O)[C@@H](O...   0.002990   \n",
       "3  A0A1L5F6Z9  CCN=C(O)CCN=C(O)[C@H](O)C(C)(C)COP(=O)(O)OP(=O...   0.020000   \n",
       "4      P28796                                        CC(N)C(=O)O  24.500000   \n",
       "\n",
       "         ec  log10_value  log10ki_mean  \\\n",
       "0  2.5.1.78    -5.698970     -5.698970   \n",
       "1   4.2.1.1    -3.150581     -3.150581   \n",
       "2  3.2.1.20    -2.524329     -2.524329   \n",
       "3   2.3.1.8    -1.698970     -1.698970   \n",
       "4  4.1.99.1     1.389166      1.419631   \n",
       "\n",
       "                                 metabolite_features  \\\n",
       "0  [0.17249086, -0.23665705, -0.11737049, -0.0940...   \n",
       "1  [0.4240491, 0.28231123, 0.2642891, -0.7667821,...   \n",
       "2  [0.50005734, 0.3923428, 0.064121775, -0.635894...   \n",
       "3  [0.28353548, 0.018489605, -0.5459905, -0.34693...   \n",
       "4  [0.051456872, 0.35619217, 0.10593035, -1.04098...   \n",
       "\n",
       "                                    protein_features  \n",
       "0  [0.026722027, -0.06119407, 0.041440543, -0.109...  \n",
       "1  [-0.029181704, -0.12635791, 0.10866662, 0.0339...  \n",
       "2  [0.02874529, -0.17312695, -0.0026887748, 0.035...  \n",
       "3  [-0.06555556, 0.04763434, 0.031432115, 0.17143...  \n",
       "4  [0.049294557, -0.043596543, 0.0546125, 0.35600...  "
      ]
     },
     "execution_count": 2,
     "metadata": {},
     "output_type": "execute_result"
    }
   ],
   "source": [
    "import joblib\n",
    "import pandas as pd\n",
    "\n",
    "data_ki = joblib.load('/Users/pinchichen/2025S lab/AI drug project/Catpred/dataset/ki/ki_with_features.joblib')\n",
    "data_ki.head()"
   ]
  },
  {
   "cell_type": "code",
   "execution_count": 3,
   "metadata": {},
   "outputs": [
    {
     "data": {
      "text/html": [
       "<div>\n",
       "<style scoped>\n",
       "    .dataframe tbody tr th:only-of-type {\n",
       "        vertical-align: middle;\n",
       "    }\n",
       "\n",
       "    .dataframe tbody tr th {\n",
       "        vertical-align: top;\n",
       "    }\n",
       "\n",
       "    .dataframe thead th {\n",
       "        text-align: right;\n",
       "    }\n",
       "</style>\n",
       "<table border=\"1\" class=\"dataframe\">\n",
       "  <thead>\n",
       "    <tr style=\"text-align: right;\">\n",
       "      <th></th>\n",
       "      <th>Sequence</th>\n",
       "      <th>sequence_source</th>\n",
       "      <th>uniprot</th>\n",
       "      <th>Smiles</th>\n",
       "      <th>value</th>\n",
       "      <th>ec</th>\n",
       "      <th>log10_value</th>\n",
       "      <th>label</th>\n",
       "      <th>metabolite_features</th>\n",
       "      <th>protein_features</th>\n",
       "    </tr>\n",
       "  </thead>\n",
       "  <tbody>\n",
       "    <tr>\n",
       "      <th>0</th>\n",
       "      <td>MHTKGPTPQQHDGSALRIGIVHARWNETIIEPLLAGTKAKLLACGV...</td>\n",
       "      <td>uniprot_search</td>\n",
       "      <td>A0A6P8BCR9</td>\n",
       "      <td>O=c1n(C[C@H](O)[C@H](O)[C@H](O)CO)c2nc(O)nc(O)...</td>\n",
       "      <td>0.000002</td>\n",
       "      <td>2.5.1.78</td>\n",
       "      <td>-5.698970</td>\n",
       "      <td>-5.698970</td>\n",
       "      <td>[0.17249086, -0.23665705, -0.11737049, -0.0940...</td>\n",
       "      <td>[0.026722027, -0.06119407, 0.041440543, -0.109...</td>\n",
       "    </tr>\n",
       "    <tr>\n",
       "      <th>1</th>\n",
       "      <td>MASPDWGYDDKNGPEQWSKLYPIANGNNQSPVDIKTSETKHDTSLK...</td>\n",
       "      <td>brenda</td>\n",
       "      <td>P00915</td>\n",
       "      <td>CN1CCN(C(=O)c2ccc(S(N)(=O)=O)cc2)[C@@H](Cc2ccc...</td>\n",
       "      <td>0.000707</td>\n",
       "      <td>4.2.1.1</td>\n",
       "      <td>-3.150581</td>\n",
       "      <td>-3.150581</td>\n",
       "      <td>[0.4240491, 0.28231123, 0.2642891, -0.7667821,...</td>\n",
       "      <td>[-0.029181704, -0.12635791, 0.10866662, 0.0339...</td>\n",
       "    </tr>\n",
       "    <tr>\n",
       "      <th>2</th>\n",
       "      <td>MLDDIRGFMNTFSETMFMDVINYSLTRDRYDSVFLQRQNYRDLGQL...</td>\n",
       "      <td>brenda</td>\n",
       "      <td>Q9HLD0</td>\n",
       "      <td>C[C@H]1O[C@H](O[C@H]2[C@H](O)[C@@H](O)[C@@H](O...</td>\n",
       "      <td>0.002990</td>\n",
       "      <td>3.2.1.20</td>\n",
       "      <td>-2.524329</td>\n",
       "      <td>-2.524329</td>\n",
       "      <td>[0.50005734, 0.3923428, 0.064121775, -0.635894...</td>\n",
       "      <td>[0.02874529, -0.17312695, -0.0026887748, 0.035...</td>\n",
       "    </tr>\n",
       "    <tr>\n",
       "      <th>3</th>\n",
       "      <td>MKLMENIFDLAKANKKKIVLAEGEEERNIRASEEIIKDGIADIILV...</td>\n",
       "      <td>uniprot_search</td>\n",
       "      <td>A0A1L5F6Z9</td>\n",
       "      <td>CCN=C(O)CCN=C(O)[C@H](O)C(C)(C)COP(=O)(O)OP(=O...</td>\n",
       "      <td>0.020000</td>\n",
       "      <td>2.3.1.8</td>\n",
       "      <td>-1.698970</td>\n",
       "      <td>-1.698970</td>\n",
       "      <td>[0.28353548, 0.018489605, -0.5459905, -0.34693...</td>\n",
       "      <td>[-0.06555556, 0.04763434, 0.031432115, 0.17143...</td>\n",
       "    </tr>\n",
       "    <tr>\n",
       "      <th>4</th>\n",
       "      <td>MAKRIVEPFRIKMVEKIRVPSREEREAALKEAGYNPFLLPSSAVYI...</td>\n",
       "      <td>sabio</td>\n",
       "      <td>P28796</td>\n",
       "      <td>CC(N)C(=O)O</td>\n",
       "      <td>24.500000</td>\n",
       "      <td>4.1.99.1</td>\n",
       "      <td>1.389166</td>\n",
       "      <td>1.419631</td>\n",
       "      <td>[0.051456872, 0.35619217, 0.10593035, -1.04098...</td>\n",
       "      <td>[0.049294557, -0.043596543, 0.0546125, 0.35600...</td>\n",
       "    </tr>\n",
       "  </tbody>\n",
       "</table>\n",
       "</div>"
      ],
      "text/plain": [
       "                                            Sequence sequence_source  \\\n",
       "0  MHTKGPTPQQHDGSALRIGIVHARWNETIIEPLLAGTKAKLLACGV...  uniprot_search   \n",
       "1  MASPDWGYDDKNGPEQWSKLYPIANGNNQSPVDIKTSETKHDTSLK...          brenda   \n",
       "2  MLDDIRGFMNTFSETMFMDVINYSLTRDRYDSVFLQRQNYRDLGQL...          brenda   \n",
       "3  MKLMENIFDLAKANKKKIVLAEGEEERNIRASEEIIKDGIADIILV...  uniprot_search   \n",
       "4  MAKRIVEPFRIKMVEKIRVPSREEREAALKEAGYNPFLLPSSAVYI...           sabio   \n",
       "\n",
       "      uniprot                                             Smiles      value  \\\n",
       "0  A0A6P8BCR9  O=c1n(C[C@H](O)[C@H](O)[C@H](O)CO)c2nc(O)nc(O)...   0.000002   \n",
       "1      P00915  CN1CCN(C(=O)c2ccc(S(N)(=O)=O)cc2)[C@@H](Cc2ccc...   0.000707   \n",
       "2      Q9HLD0  C[C@H]1O[C@H](O[C@H]2[C@H](O)[C@@H](O)[C@@H](O...   0.002990   \n",
       "3  A0A1L5F6Z9  CCN=C(O)CCN=C(O)[C@H](O)C(C)(C)COP(=O)(O)OP(=O...   0.020000   \n",
       "4      P28796                                        CC(N)C(=O)O  24.500000   \n",
       "\n",
       "         ec  log10_value     label  \\\n",
       "0  2.5.1.78    -5.698970 -5.698970   \n",
       "1   4.2.1.1    -3.150581 -3.150581   \n",
       "2  3.2.1.20    -2.524329 -2.524329   \n",
       "3   2.3.1.8    -1.698970 -1.698970   \n",
       "4  4.1.99.1     1.389166  1.419631   \n",
       "\n",
       "                                 metabolite_features  \\\n",
       "0  [0.17249086, -0.23665705, -0.11737049, -0.0940...   \n",
       "1  [0.4240491, 0.28231123, 0.2642891, -0.7667821,...   \n",
       "2  [0.50005734, 0.3923428, 0.064121775, -0.635894...   \n",
       "3  [0.28353548, 0.018489605, -0.5459905, -0.34693...   \n",
       "4  [0.051456872, 0.35619217, 0.10593035, -1.04098...   \n",
       "\n",
       "                                    protein_features  \n",
       "0  [0.026722027, -0.06119407, 0.041440543, -0.109...  \n",
       "1  [-0.029181704, -0.12635791, 0.10866662, 0.0339...  \n",
       "2  [0.02874529, -0.17312695, -0.0026887748, 0.035...  \n",
       "3  [-0.06555556, 0.04763434, 0.031432115, 0.17143...  \n",
       "4  [0.049294557, -0.043596543, 0.0546125, 0.35600...  "
      ]
     },
     "execution_count": 3,
     "metadata": {},
     "output_type": "execute_result"
    }
   ],
   "source": [
    "data_ki.rename(columns={'log10ki_mean':'label'},inplace=True)\n",
    "data_ki.head()"
   ]
  },
  {
   "cell_type": "code",
   "execution_count": 4,
   "metadata": {},
   "outputs": [
    {
     "data": {
      "text/plain": [
       "(11929, 10)"
      ]
     },
     "execution_count": 4,
     "metadata": {},
     "output_type": "execute_result"
    }
   ],
   "source": [
    "data_ki.shape"
   ]
  },
  {
   "cell_type": "code",
   "execution_count": 5,
   "metadata": {},
   "outputs": [],
   "source": [
    "# Define dataset\n",
    "class MPI_Dataset(Dataset):\n",
    "    def __init__(self, dataframe):\n",
    "        self.dataframe = dataframe\n",
    "\n",
    "    def __len__(self):\n",
    "        return len(self.dataframe)\n",
    "\n",
    "    def __getitem__(self, idx):\n",
    "        row = self.dataframe.iloc[idx]\n",
    "        return {\n",
    "            'metabolite_features': torch.tensor(np.asarray(row['metabolite_features'], dtype=np.float32)),\n",
    "            'protein_features': torch.tensor(np.asarray(row['protein_features'], dtype=np.float32)),\n",
    "            'label': torch.tensor(float(row['label']), dtype=torch.float32),\n",
    "        }"
   ]
  },
  {
   "cell_type": "code",
   "execution_count": 6,
   "metadata": {},
   "outputs": [],
   "source": [
    "# Separate the dataset by unique proteins and drugs\n",
    "unique_proteins = data_ki['Sequence'].unique()\n",
    "unique_mols = data_ki['Smiles'].unique()\n",
    "# Set the seed for reproducibility\n",
    "torch.manual_seed(42)\n",
    "# Function to perform a cold split\n",
    "def cold_split(unique_items, test_size=0.2, val_size=0.1):\n",
    "    train_items, test_items = train_test_split(unique_items, test_size=test_size, random_state=42)\n",
    "    train_items, val_items = train_test_split(train_items, test_size=val_size / (1 - test_size), random_state=42)\n",
    "    return train_items, val_items, test_items\n",
    "# Cold split by proteins\n",
    "train_proteins, val_proteins, test_proteins = cold_split(unique_proteins)\n",
    "train_cold_protein = data_ki[data_ki['Sequence'].isin(train_proteins)]\n",
    "val_cold_protein = data_ki[data_ki['Sequence'].isin(val_proteins)]\n",
    "test_cold_protein = data_ki[data_ki['Sequence'].isin(test_proteins)]\n",
    "# Cold split by molecules\n",
    "train_mols, val_mols, test_mols = cold_split(unique_mols)\n",
    "train_cold_mols = data_ki[data_ki['Smiles'].isin(train_mols)]\n",
    "val_cold_mols = data_ki[data_ki['Smiles'].isin(val_mols)]\n",
    "test_cold_mols = data_ki[data_ki['Smiles'].isin(test_mols)]"
   ]
  },
  {
   "cell_type": "code",
   "execution_count": 7,
   "metadata": {},
   "outputs": [
    {
     "data": {
      "text/plain": [
       "'\\ntrain_dataset = MPI_Dataset(train_cold_mols)\\nval_dataset = MPI_Dataset(val_cold_mols)\\ntest_dataset = MPI_Dataset(test_cold_mols)\\n\\ntrain_loader = DataLoader(train_dataset, batch_size=32, shuffle=True)\\nval_loader = DataLoader(val_dataset, batch_size=32)\\ntest_loader = DataLoader(test_dataset, batch_size=32)\\n\\n'"
      ]
     },
     "execution_count": 7,
     "metadata": {},
     "output_type": "execute_result"
    }
   ],
   "source": [
    "# cold protein\n",
    "'''\n",
    "train_dataset = MPI_Dataset(train_cold_protein)\n",
    "val_dataset = MPI_Dataset(val_cold_protein)\n",
    "test_dataset = MPI_Dataset(test_cold_protein)\n",
    "\n",
    "train_loader = DataLoader(train_dataset, batch_size=32, shuffle=True)\n",
    "val_loader = DataLoader(val_dataset, batch_size=32)\n",
    "test_loader = DataLoader(test_dataset, batch_size=32)\n",
    "\n",
    "'''\n",
    "\n",
    "# cold mols\n",
    "\n",
    "'''\n",
    "train_dataset = MPI_Dataset(train_cold_mols)\n",
    "val_dataset = MPI_Dataset(val_cold_mols)\n",
    "test_dataset = MPI_Dataset(test_cold_mols)\n",
    "\n",
    "train_loader = DataLoader(train_dataset, batch_size=32, shuffle=True)\n",
    "val_loader = DataLoader(val_dataset, batch_size=32)\n",
    "test_loader = DataLoader(test_dataset, batch_size=32)\n",
    "\n",
    "'''"
   ]
  },
  {
   "cell_type": "code",
   "execution_count": 8,
   "metadata": {},
   "outputs": [],
   "source": [
    "# Load data_ki\n",
    "# Assuming `combined_df` is a pandas DataFrame containing all necessary columns\n",
    "train_df, temp_df = train_test_split(data_ki, test_size=0.3, shuffle=True, random_state=42)\n",
    "val_df, test_df = train_test_split(temp_df, test_size=0.5, shuffle=True, random_state=42)\n",
    "\n",
    "train_dataset = MPI_Dataset(train_df)\n",
    "val_dataset = MPI_Dataset(val_df)\n",
    "test_dataset = MPI_Dataset(test_df)\n",
    "\n",
    "train_loader = DataLoader(train_dataset, batch_size=32, shuffle=True)\n",
    "val_loader = DataLoader(val_dataset, batch_size=32)\n",
    "test_loader = DataLoader(test_dataset, batch_size=32)"
   ]
  },
  {
   "cell_type": "code",
   "execution_count": 9,
   "metadata": {},
   "outputs": [],
   "source": [
    "import torch.nn as nn\n",
    "import torch\n",
    "import torch.nn.functional as F\n",
    "\n",
    "# Define CNN Model for Regression\n",
    "class CNNRegressor(nn.Module):\n",
    "    def __init__(self, mol_input_dim, protein_input_dim, out_dim=1):\n",
    "        super(CNNRegressor, self).__init__()\n",
    "\n",
    "        self.mol_conv = nn.Sequential(\n",
    "            nn.Conv1d(in_channels=1, out_channels=16, kernel_size=3, padding=1),\n",
    "            nn.ReLU(),\n",
    "            nn.MaxPool1d(2),\n",
    "            nn.Conv1d(16, 32, kernel_size=3, padding=1),\n",
    "            nn.ReLU(),\n",
    "            nn.MaxPool1d(2),\n",
    "        )\n",
    "\n",
    "        self.protein_conv = nn.Sequential(\n",
    "            nn.Conv1d(1, 16, kernel_size=3, padding=1),\n",
    "            nn.ReLU(),\n",
    "            nn.MaxPool1d(2),\n",
    "            nn.Conv1d(16, 32, kernel_size=3, padding=1),\n",
    "            nn.ReLU(),\n",
    "            nn.MaxPool1d(2),\n",
    "        )\n",
    "\n",
    "        with torch.no_grad():\n",
    "            dummy_mol = torch.zeros(1, 1, mol_input_dim)\n",
    "            dummy_protein = torch.zeros(1, 1, protein_input_dim)\n",
    "    \n",
    "            mol_flatten_len = self.mol_conv(dummy_mol).view(1, -1).size(1)\n",
    "            protein_flatten_len = self.protein_conv(dummy_protein).view(1, -1).size(1)\n",
    "\n",
    "        self.fc = nn.Sequential(\n",
    "            nn.Linear(mol_flatten_len + protein_flatten_len, 128),\n",
    "            nn.ReLU(),\n",
    "            nn.Dropout(0.3),\n",
    "            nn.Linear(128, out_dim)\n",
    "        )\n",
    "\n",
    "    def forward(self, mol_input, protein_input):\n",
    "        # Reshape to (B, 1, L) for Conv1d\n",
    "        mol_input = mol_input.unsqueeze(1)\n",
    "        protein_input = protein_input.unsqueeze(1)\n",
    "\n",
    "        mol_out = self.mol_conv(mol_input)\n",
    "        protein_out = self.protein_conv(protein_input)\n",
    "\n",
    "        # Flatten\n",
    "        mol_out = mol_out.view(mol_out.size(0), -1)\n",
    "        protein_out = protein_out.view(protein_out.size(0), -1)\n",
    "\n",
    "        combined = torch.cat([mol_out, protein_out], dim=1)\n",
    "        output = self.fc(combined).squeeze()\n",
    "        return output\n"
   ]
  },
  {
   "cell_type": "code",
   "execution_count": 10,
   "metadata": {},
   "outputs": [],
   "source": [
    "# Check CUDA availability\n",
    "device = torch.device(\"cuda\" if torch.cuda.is_available() else \"cpu\")"
   ]
  },
  {
   "cell_type": "code",
   "execution_count": null,
   "metadata": {},
   "outputs": [
    {
     "name": "stderr",
     "output_type": "stream",
     "text": [
      "Training Epoch 1: 100%|██████████| 261/261 [00:08<00:00, 30.43it/s]\n"
     ]
    },
    {
     "name": "stdout",
     "output_type": "stream",
     "text": [
      "Epoch 0 - Train Loss: 3.3708, Train MSE: 3.3710, Train MAE: 1.4650\n"
     ]
    },
    {
     "name": "stderr",
     "output_type": "stream",
     "text": [
      "/var/folders/yz/c1z6m9_d5d3f80sywjc3rqsc0000gn/T/ipykernel_17517/3486802603.py:92: FutureWarning: The behavior of DataFrame concatenation with empty or all-NA entries is deprecated. In a future version, this will no longer exclude empty or all-NA columns when determining the result dtypes. To retain the old behavior, exclude the relevant entries before the concat operation.\n",
      "  train_history = pd.concat([train_history, pd.DataFrame([new_row])], ignore_index=True)\n"
     ]
    },
    {
     "name": "stdout",
     "output_type": "stream",
     "text": [
      "Epoch 0 - Validation Loss: 2.9432, Validation MSE: 2.9446, Validation MAE: 1.3357\n"
     ]
    },
    {
     "name": "stderr",
     "output_type": "stream",
     "text": [
      "Training Epoch 2: 100%|██████████| 261/261 [00:08<00:00, 30.61it/s]\n",
      "Training Epoch 3: 100%|██████████| 261/261 [00:08<00:00, 30.50it/s]\n",
      "Training Epoch 4: 100%|██████████| 261/261 [00:08<00:00, 30.50it/s]\n",
      "Training Epoch 5: 100%|██████████| 261/261 [00:08<00:00, 31.09it/s]\n",
      "Training Epoch 6: 100%|██████████| 261/261 [00:09<00:00, 27.94it/s]\n",
      "Training Epoch 7: 100%|██████████| 261/261 [00:08<00:00, 30.22it/s]\n",
      "Training Epoch 8: 100%|██████████| 261/261 [00:08<00:00, 30.97it/s]\n",
      "Training Epoch 9: 100%|██████████| 261/261 [00:08<00:00, 31.37it/s]\n",
      "Training Epoch 10: 100%|██████████| 261/261 [00:09<00:00, 26.61it/s]\n",
      "Training Epoch 11: 100%|██████████| 261/261 [00:08<00:00, 30.19it/s]\n"
     ]
    },
    {
     "name": "stdout",
     "output_type": "stream",
     "text": [
      "Epoch 10 - Train Loss: 2.3449, Train MSE: 2.3450, Train MAE: 1.2096\n",
      "Epoch 10 - Validation Loss: 2.4539, Validation MSE: 2.4548, Validation MAE: 1.2242\n"
     ]
    },
    {
     "name": "stderr",
     "output_type": "stream",
     "text": [
      "Training Epoch 12: 100%|██████████| 261/261 [00:08<00:00, 30.68it/s]\n",
      "Training Epoch 13: 100%|██████████| 261/261 [00:09<00:00, 27.92it/s]\n",
      "Training Epoch 14: 100%|██████████| 261/261 [00:08<00:00, 31.09it/s]\n",
      "Training Epoch 15: 100%|██████████| 261/261 [00:08<00:00, 30.38it/s]\n",
      "Training Epoch 16: 100%|██████████| 261/261 [00:08<00:00, 30.77it/s]\n",
      "Training Epoch 17: 100%|██████████| 261/261 [00:08<00:00, 31.34it/s]\n",
      "Training Epoch 18: 100%|██████████| 261/261 [00:08<00:00, 30.80it/s]\n",
      "Training Epoch 19: 100%|██████████| 261/261 [00:08<00:00, 29.46it/s]\n",
      "Training Epoch 20: 100%|██████████| 261/261 [00:08<00:00, 31.02it/s]\n",
      "Training Epoch 21: 100%|██████████| 261/261 [00:08<00:00, 31.25it/s]\n"
     ]
    },
    {
     "name": "stdout",
     "output_type": "stream",
     "text": [
      "Epoch 20 - Train Loss: 2.0732, Train MSE: 2.0733, Train MAE: 1.1321\n",
      "Epoch 20 - Validation Loss: 2.3720, Validation MSE: 2.3727, Validation MAE: 1.2185\n"
     ]
    },
    {
     "name": "stderr",
     "output_type": "stream",
     "text": [
      "Training Epoch 22: 100%|██████████| 261/261 [00:08<00:00, 30.11it/s]\n",
      "Training Epoch 23: 100%|██████████| 261/261 [00:08<00:00, 29.59it/s]\n",
      "Training Epoch 24: 100%|██████████| 261/261 [00:08<00:00, 31.65it/s]\n",
      "Training Epoch 25: 100%|██████████| 261/261 [00:08<00:00, 30.03it/s]\n",
      "Training Epoch 26: 100%|██████████| 261/261 [00:08<00:00, 30.59it/s]\n",
      "Training Epoch 27: 100%|██████████| 261/261 [00:08<00:00, 30.19it/s]\n",
      "Training Epoch 28: 100%|██████████| 261/261 [00:10<00:00, 25.97it/s]\n",
      "Training Epoch 29: 100%|██████████| 261/261 [00:09<00:00, 26.88it/s]\n",
      "Training Epoch 30: 100%|██████████| 261/261 [00:09<00:00, 27.23it/s]\n",
      "Training Epoch 31: 100%|██████████| 261/261 [00:09<00:00, 28.94it/s]\n"
     ]
    },
    {
     "name": "stdout",
     "output_type": "stream",
     "text": [
      "Epoch 30 - Train Loss: 1.8586, Train MSE: 1.8587, Train MAE: 1.0674\n",
      "Epoch 30 - Validation Loss: 2.1537, Validation MSE: 2.1547, Validation MAE: 1.1369\n"
     ]
    },
    {
     "name": "stderr",
     "output_type": "stream",
     "text": [
      "Training Epoch 32: 100%|██████████| 261/261 [00:09<00:00, 28.56it/s]\n",
      "Training Epoch 33: 100%|██████████| 261/261 [00:09<00:00, 28.50it/s]\n",
      "Training Epoch 34: 100%|██████████| 261/261 [00:09<00:00, 27.46it/s]\n",
      "Training Epoch 35: 100%|██████████| 261/261 [00:10<00:00, 24.55it/s]\n",
      "Training Epoch 36: 100%|██████████| 261/261 [00:09<00:00, 28.81it/s]\n",
      "Training Epoch 37: 100%|██████████| 261/261 [00:09<00:00, 28.86it/s]\n",
      "Training Epoch 38: 100%|██████████| 261/261 [00:11<00:00, 22.43it/s]\n",
      "Training Epoch 39: 100%|██████████| 261/261 [00:10<00:00, 23.81it/s]\n",
      "Training Epoch 40: 100%|██████████| 261/261 [00:12<00:00, 20.54it/s]\n",
      "Training Epoch 41: 100%|██████████| 261/261 [00:11<00:00, 22.82it/s]\n"
     ]
    },
    {
     "name": "stdout",
     "output_type": "stream",
     "text": [
      "Epoch 40 - Train Loss: 1.6394, Train MSE: 1.6392, Train MAE: 0.9990\n",
      "Epoch 40 - Validation Loss: 2.1492, Validation MSE: 2.1506, Validation MAE: 1.1283\n"
     ]
    },
    {
     "name": "stderr",
     "output_type": "stream",
     "text": [
      "Training Epoch 42: 100%|██████████| 261/261 [00:13<00:00, 19.17it/s]\n",
      "Training Epoch 43: 100%|██████████| 261/261 [00:10<00:00, 24.92it/s]\n",
      "Training Epoch 44: 100%|██████████| 261/261 [00:10<00:00, 25.99it/s]\n",
      "Training Epoch 45: 100%|██████████| 261/261 [00:11<00:00, 22.43it/s]\n",
      "Training Epoch 46: 100%|██████████| 261/261 [00:11<00:00, 22.62it/s]\n",
      "Training Epoch 47: 100%|██████████| 261/261 [00:13<00:00, 19.38it/s]\n",
      "Training Epoch 48: 100%|██████████| 261/261 [00:13<00:00, 18.72it/s]\n",
      "Training Epoch 49: 100%|██████████| 261/261 [00:13<00:00, 19.90it/s]\n",
      "Training Epoch 50: 100%|██████████| 261/261 [00:13<00:00, 19.69it/s]\n",
      "Training Epoch 51: 100%|██████████| 261/261 [00:13<00:00, 19.80it/s]\n"
     ]
    },
    {
     "name": "stdout",
     "output_type": "stream",
     "text": [
      "Epoch 50 - Train Loss: 1.5047, Train MSE: 1.5048, Train MAE: 0.9529\n",
      "Epoch 50 - Validation Loss: 2.0610, Validation MSE: 2.0623, Validation MAE: 1.1068\n"
     ]
    },
    {
     "name": "stderr",
     "output_type": "stream",
     "text": [
      "Training Epoch 52: 100%|██████████| 261/261 [00:13<00:00, 18.82it/s]\n",
      "Training Epoch 53: 100%|██████████| 261/261 [00:13<00:00, 19.64it/s]\n",
      "Training Epoch 54: 100%|██████████| 261/261 [00:13<00:00, 19.66it/s]\n",
      "Training Epoch 55: 100%|██████████| 261/261 [00:13<00:00, 19.91it/s]\n",
      "Training Epoch 56: 100%|██████████| 261/261 [00:13<00:00, 19.29it/s]\n",
      "Training Epoch 57: 100%|██████████| 261/261 [00:13<00:00, 19.59it/s]\n",
      "Training Epoch 58: 100%|██████████| 261/261 [00:13<00:00, 19.80it/s]\n",
      "Training Epoch 59: 100%|██████████| 261/261 [00:12<00:00, 20.16it/s]\n",
      "Training Epoch 60: 100%|██████████| 261/261 [00:13<00:00, 19.31it/s]\n",
      "Training Epoch 61: 100%|██████████| 261/261 [00:13<00:00, 19.87it/s]\n"
     ]
    },
    {
     "name": "stdout",
     "output_type": "stream",
     "text": [
      "Epoch 60 - Train Loss: 1.3976, Train MSE: 1.3977, Train MAE: 0.9138\n",
      "Epoch 60 - Validation Loss: 1.9750, Validation MSE: 1.9765, Validation MAE: 1.0810\n"
     ]
    },
    {
     "name": "stderr",
     "output_type": "stream",
     "text": [
      "Training Epoch 62: 100%|██████████| 261/261 [00:13<00:00, 19.91it/s]\n",
      "Training Epoch 63: 100%|██████████| 261/261 [00:14<00:00, 17.85it/s]\n",
      "Training Epoch 64: 100%|██████████| 261/261 [07:05<00:00,  1.63s/it] \n",
      "Training Epoch 65: 100%|██████████| 261/261 [00:19<00:00, 13.12it/s]\n",
      "Training Epoch 66: 100%|██████████| 261/261 [1:06:27<00:00, 15.28s/it]   \n",
      "Training Epoch 67: 100%|██████████| 261/261 [30:22<00:00,  6.98s/it]  \n",
      "Training Epoch 68: 100%|██████████| 261/261 [1:00:57<00:00, 14.01s/it] \n",
      "Training Epoch 69: 100%|██████████| 261/261 [00:21<00:00, 11.98it/s]\n",
      "Training Epoch 70: 100%|██████████| 261/261 [00:21<00:00, 12.40it/s]\n",
      "Training Epoch 71: 100%|██████████| 261/261 [02:24<00:00,  1.81it/s] \n"
     ]
    },
    {
     "name": "stdout",
     "output_type": "stream",
     "text": [
      "Epoch 70 - Train Loss: 1.2926, Train MSE: 1.2925, Train MAE: 0.8805\n",
      "Epoch 70 - Validation Loss: 1.9766, Validation MSE: 1.9783, Validation MAE: 1.0697\n"
     ]
    },
    {
     "name": "stderr",
     "output_type": "stream",
     "text": [
      "Training Epoch 72: 100%|██████████| 261/261 [00:13<00:00, 19.13it/s]\n",
      "Training Epoch 73: 100%|██████████| 261/261 [00:13<00:00, 19.46it/s]\n",
      "Training Epoch 74: 100%|██████████| 261/261 [00:13<00:00, 19.42it/s]\n",
      "Training Epoch 75: 100%|██████████| 261/261 [00:12<00:00, 20.86it/s]\n",
      "Training Epoch 76: 100%|██████████| 261/261 [00:13<00:00, 19.18it/s]\n",
      "Training Epoch 77: 100%|██████████| 261/261 [00:12<00:00, 20.24it/s]\n",
      "Training Epoch 78: 100%|██████████| 261/261 [00:13<00:00, 20.05it/s]\n",
      "Training Epoch 79: 100%|██████████| 261/261 [00:15<00:00, 16.66it/s]\n",
      "Training Epoch 80: 100%|██████████| 261/261 [00:13<00:00, 19.10it/s]\n",
      "Training Epoch 81: 100%|██████████| 261/261 [00:12<00:00, 20.36it/s]\n"
     ]
    },
    {
     "name": "stdout",
     "output_type": "stream",
     "text": [
      "Epoch 80 - Train Loss: 1.1928, Train MSE: 1.1928, Train MAE: 0.8455\n",
      "Epoch 80 - Validation Loss: 2.0021, Validation MSE: 2.0038, Validation MAE: 1.0853\n"
     ]
    },
    {
     "name": "stderr",
     "output_type": "stream",
     "text": [
      "Training Epoch 82: 100%|██████████| 261/261 [00:12<00:00, 20.52it/s]\n",
      "Training Epoch 83: 100%|██████████| 261/261 [00:12<00:00, 20.18it/s]\n",
      "Training Epoch 84: 100%|██████████| 261/261 [00:13<00:00, 19.31it/s]\n",
      "Training Epoch 85: 100%|██████████| 261/261 [00:13<00:00, 19.64it/s]\n",
      "Training Epoch 86: 100%|██████████| 261/261 [00:12<00:00, 20.43it/s]\n",
      "Training Epoch 87: 100%|██████████| 261/261 [00:12<00:00, 20.40it/s]\n",
      "Training Epoch 88: 100%|██████████| 261/261 [00:13<00:00, 19.81it/s]\n",
      "Training Epoch 89: 100%|██████████| 261/261 [00:13<00:00, 19.73it/s]\n",
      "Training Epoch 90: 100%|██████████| 261/261 [00:12<00:00, 20.47it/s]\n",
      "Training Epoch 91: 100%|██████████| 261/261 [00:12<00:00, 20.36it/s]\n"
     ]
    },
    {
     "name": "stdout",
     "output_type": "stream",
     "text": [
      "Epoch 90 - Train Loss: 1.0955, Train MSE: 1.0955, Train MAE: 0.8095\n",
      "Epoch 90 - Validation Loss: 1.8985, Validation MSE: 1.9001, Validation MAE: 1.0517\n"
     ]
    },
    {
     "name": "stderr",
     "output_type": "stream",
     "text": [
      "Training Epoch 92: 100%|██████████| 261/261 [00:12<00:00, 20.08it/s]\n",
      "Training Epoch 93: 100%|██████████| 261/261 [00:13<00:00, 19.69it/s]\n",
      "Training Epoch 94: 100%|██████████| 261/261 [00:12<00:00, 20.42it/s]\n",
      "Training Epoch 95: 100%|██████████| 261/261 [00:13<00:00, 19.75it/s]\n",
      "Training Epoch 96: 100%|██████████| 261/261 [00:12<00:00, 20.21it/s]\n",
      "Training Epoch 97: 100%|██████████| 261/261 [00:12<00:00, 20.44it/s]\n",
      "Training Epoch 98: 100%|██████████| 261/261 [00:19<00:00, 13.07it/s]\n",
      "Training Epoch 99: 100%|██████████| 261/261 [00:32<00:00,  7.99it/s]\n",
      "Training Epoch 100: 100%|██████████| 261/261 [00:25<00:00, 10.08it/s]\n",
      "Training Epoch 101: 100%|██████████| 261/261 [00:16<00:00, 15.55it/s]\n"
     ]
    },
    {
     "name": "stdout",
     "output_type": "stream",
     "text": [
      "Epoch 100 - Train Loss: 1.0347, Train MSE: 1.0348, Train MAE: 0.7847\n",
      "Epoch 100 - Validation Loss: 1.9099, Validation MSE: 1.9116, Validation MAE: 1.0498\n"
     ]
    },
    {
     "name": "stderr",
     "output_type": "stream",
     "text": [
      "Training Epoch 102: 100%|██████████| 261/261 [00:17<00:00, 14.55it/s]\n",
      "Training Epoch 103: 100%|██████████| 261/261 [00:18<00:00, 14.13it/s]\n",
      "Training Epoch 104: 100%|██████████| 261/261 [00:18<00:00, 14.45it/s]\n",
      "Training Epoch 105: 100%|██████████| 261/261 [00:21<00:00, 12.11it/s]\n",
      "Training Epoch 106: 100%|██████████| 261/261 [00:17<00:00, 14.58it/s]\n",
      "Training Epoch 107: 100%|██████████| 261/261 [00:23<00:00, 11.20it/s]\n",
      "Training Epoch 108: 100%|██████████| 261/261 [00:21<00:00, 12.23it/s]\n",
      "Training Epoch 109: 100%|██████████| 261/261 [00:23<00:00, 11.30it/s]\n",
      "Training Epoch 110: 100%|██████████| 261/261 [00:23<00:00, 11.01it/s]\n",
      "Training Epoch 111: 100%|██████████| 261/261 [00:24<00:00, 10.49it/s]\n"
     ]
    },
    {
     "name": "stdout",
     "output_type": "stream",
     "text": [
      "Epoch 110 - Train Loss: 0.9574, Train MSE: 0.9574, Train MAE: 0.7520\n",
      "Epoch 110 - Validation Loss: 1.8938, Validation MSE: 1.8956, Validation MAE: 1.0443\n"
     ]
    },
    {
     "name": "stderr",
     "output_type": "stream",
     "text": [
      "Training Epoch 112: 100%|██████████| 261/261 [00:22<00:00, 11.48it/s]\n",
      "Training Epoch 113: 100%|██████████| 261/261 [00:21<00:00, 12.04it/s]\n",
      "Training Epoch 114: 100%|██████████| 261/261 [00:22<00:00, 11.67it/s]\n",
      "Training Epoch 115: 100%|██████████| 261/261 [00:21<00:00, 12.29it/s]\n",
      "Training Epoch 116: 100%|██████████| 261/261 [00:21<00:00, 12.33it/s]\n",
      "Training Epoch 117: 100%|██████████| 261/261 [00:39<00:00,  6.64it/s]\n",
      "Training Epoch 118: 100%|██████████| 261/261 [12:08<00:00,  2.79s/it]  \n",
      "Training Epoch 119: 100%|██████████| 261/261 [49:09<00:00, 11.30s/it]   \n",
      "Training Epoch 120: 100%|██████████| 261/261 [00:34<00:00,  7.65it/s]\n",
      "Training Epoch 121: 100%|██████████| 261/261 [17:10<00:00,  3.95s/it]  \n"
     ]
    },
    {
     "name": "stdout",
     "output_type": "stream",
     "text": [
      "Epoch 120 - Train Loss: 0.8962, Train MSE: 0.8963, Train MAE: 0.7308\n",
      "Epoch 120 - Validation Loss: 1.8539, Validation MSE: 1.8557, Validation MAE: 1.0233\n"
     ]
    },
    {
     "name": "stderr",
     "output_type": "stream",
     "text": [
      "Training Epoch 122: 100%|██████████| 261/261 [03:50<00:00,  1.13it/s]\n",
      "Training Epoch 123: 100%|██████████| 261/261 [00:22<00:00, 11.56it/s]\n",
      "Training Epoch 124: 100%|██████████| 261/261 [00:22<00:00, 11.75it/s]\n",
      "Training Epoch 125: 100%|██████████| 261/261 [00:19<00:00, 13.09it/s]\n",
      "Training Epoch 126: 100%|██████████| 261/261 [00:19<00:00, 13.55it/s]\n",
      "Training Epoch 127: 100%|██████████| 261/261 [00:19<00:00, 13.68it/s]\n",
      "Training Epoch 128: 100%|██████████| 261/261 [00:18<00:00, 13.80it/s]\n",
      "Training Epoch 129: 100%|██████████| 261/261 [00:19<00:00, 13.57it/s]\n",
      "Training Epoch 130: 100%|██████████| 261/261 [00:19<00:00, 13.56it/s]\n",
      "Training Epoch 131: 100%|██████████| 261/261 [00:19<00:00, 13.59it/s]\n"
     ]
    },
    {
     "name": "stdout",
     "output_type": "stream",
     "text": [
      "Epoch 130 - Train Loss: 0.8575, Train MSE: 0.8575, Train MAE: 0.7100\n",
      "Epoch 130 - Validation Loss: 1.8924, Validation MSE: 1.8941, Validation MAE: 1.0381\n"
     ]
    },
    {
     "name": "stderr",
     "output_type": "stream",
     "text": [
      "Training Epoch 132: 100%|██████████| 261/261 [00:19<00:00, 13.40it/s]\n",
      "Training Epoch 133: 100%|██████████| 261/261 [00:18<00:00, 13.93it/s]\n",
      "Training Epoch 134: 100%|██████████| 261/261 [00:18<00:00, 13.98it/s]\n",
      "Training Epoch 135: 100%|██████████| 261/261 [00:19<00:00, 13.48it/s]\n",
      "Training Epoch 136: 100%|██████████| 261/261 [00:19<00:00, 13.69it/s]\n",
      "Training Epoch 137: 100%|██████████| 261/261 [00:18<00:00, 13.83it/s]\n",
      "Training Epoch 138: 100%|██████████| 261/261 [00:19<00:00, 13.65it/s]\n",
      "Training Epoch 139: 100%|██████████| 261/261 [00:18<00:00, 13.92it/s]\n",
      "Training Epoch 140: 100%|██████████| 261/261 [00:18<00:00, 13.89it/s]\n",
      "Training Epoch 141: 100%|██████████| 261/261 [00:19<00:00, 13.71it/s]\n"
     ]
    },
    {
     "name": "stdout",
     "output_type": "stream",
     "text": [
      "Epoch 140 - Train Loss: 0.8079, Train MSE: 0.8079, Train MAE: 0.6918\n",
      "Epoch 140 - Validation Loss: 2.0996, Validation MSE: 2.1016, Validation MAE: 1.1021\n"
     ]
    },
    {
     "name": "stderr",
     "output_type": "stream",
     "text": [
      "Training Epoch 142: 100%|██████████| 261/261 [00:18<00:00, 13.85it/s]\n",
      "Training Epoch 143: 100%|██████████| 261/261 [00:18<00:00, 13.94it/s]\n",
      "Training Epoch 144: 100%|██████████| 261/261 [00:18<00:00, 13.75it/s]\n",
      "Training Epoch 145: 100%|██████████| 261/261 [00:18<00:00, 13.94it/s]\n",
      "Training Epoch 146: 100%|██████████| 261/261 [00:18<00:00, 14.07it/s]\n",
      "Training Epoch 147: 100%|██████████| 261/261 [00:19<00:00, 13.64it/s]\n",
      "Training Epoch 148: 100%|██████████| 261/261 [00:18<00:00, 13.75it/s]\n",
      "Training Epoch 149: 100%|██████████| 261/261 [00:18<00:00, 13.85it/s]\n",
      "Training Epoch 150: 100%|██████████| 261/261 [00:19<00:00, 13.50it/s]\n",
      "Training Epoch 151: 100%|██████████| 261/261 [00:20<00:00, 13.00it/s]\n"
     ]
    },
    {
     "name": "stdout",
     "output_type": "stream",
     "text": [
      "Epoch 150 - Train Loss: 0.7523, Train MSE: 0.7523, Train MAE: 0.6654\n",
      "Epoch 150 - Validation Loss: 1.8728, Validation MSE: 1.8746, Validation MAE: 1.0344\n"
     ]
    },
    {
     "name": "stderr",
     "output_type": "stream",
     "text": [
      "Training Epoch 152: 100%|██████████| 261/261 [00:18<00:00, 13.76it/s]\n",
      "Training Epoch 153: 100%|██████████| 261/261 [00:19<00:00, 13.66it/s]\n",
      "Training Epoch 154: 100%|██████████| 261/261 [00:18<00:00, 14.42it/s]\n",
      "Training Epoch 155: 100%|██████████| 261/261 [00:17<00:00, 15.05it/s]\n",
      "Training Epoch 156: 100%|██████████| 261/261 [00:17<00:00, 15.23it/s]\n",
      "Training Epoch 157: 100%|██████████| 261/261 [00:17<00:00, 15.10it/s]\n",
      "Training Epoch 158: 100%|██████████| 261/261 [00:17<00:00, 15.18it/s]\n",
      "Training Epoch 159: 100%|██████████| 261/261 [00:17<00:00, 15.30it/s]\n",
      "Training Epoch 160: 100%|██████████| 261/261 [00:17<00:00, 15.19it/s]\n",
      "Training Epoch 161: 100%|██████████| 261/261 [00:17<00:00, 15.23it/s]\n"
     ]
    },
    {
     "name": "stdout",
     "output_type": "stream",
     "text": [
      "Epoch 160 - Train Loss: 0.7329, Train MSE: 0.7329, Train MAE: 0.6577\n",
      "Epoch 160 - Validation Loss: 2.0430, Validation MSE: 2.0450, Validation MAE: 1.0817\n"
     ]
    },
    {
     "name": "stderr",
     "output_type": "stream",
     "text": [
      "Training Epoch 162: 100%|██████████| 261/261 [00:17<00:00, 15.08it/s]\n",
      "Training Epoch 163: 100%|██████████| 261/261 [00:17<00:00, 15.10it/s]\n",
      "Training Epoch 164: 100%|██████████| 261/261 [00:17<00:00, 15.18it/s]\n",
      "Training Epoch 165: 100%|██████████| 261/261 [00:17<00:00, 15.02it/s]\n",
      "Training Epoch 166: 100%|██████████| 261/261 [00:17<00:00, 15.29it/s]\n",
      "Training Epoch 167: 100%|██████████| 261/261 [00:17<00:00, 15.22it/s]\n",
      "Training Epoch 168: 100%|██████████| 261/261 [00:17<00:00, 15.01it/s]\n",
      "Training Epoch 169: 100%|██████████| 261/261 [00:16<00:00, 15.40it/s]\n",
      "Training Epoch 170: 100%|██████████| 261/261 [00:17<00:00, 15.28it/s]\n",
      "Training Epoch 171: 100%|██████████| 261/261 [00:17<00:00, 15.10it/s]\n"
     ]
    },
    {
     "name": "stdout",
     "output_type": "stream",
     "text": [
      "Epoch 170 - Train Loss: 0.7091, Train MSE: 0.7091, Train MAE: 0.6439\n",
      "Epoch 170 - Validation Loss: 1.8763, Validation MSE: 1.8782, Validation MAE: 1.0285\n"
     ]
    },
    {
     "name": "stderr",
     "output_type": "stream",
     "text": [
      "Training Epoch 172: 100%|██████████| 261/261 [00:17<00:00, 15.35it/s]\n",
      "Training Epoch 173: 100%|██████████| 261/261 [00:17<00:00, 15.05it/s]\n",
      "Training Epoch 174: 100%|██████████| 261/261 [00:17<00:00, 15.34it/s]\n",
      "Training Epoch 175: 100%|██████████| 261/261 [00:17<00:00, 15.21it/s]\n",
      "Training Epoch 176: 100%|██████████| 261/261 [00:17<00:00, 15.13it/s]\n",
      "Training Epoch 177: 100%|██████████| 261/261 [00:17<00:00, 15.29it/s]\n",
      "Training Epoch 178: 100%|██████████| 261/261 [00:17<00:00, 15.04it/s]\n",
      "Training Epoch 179: 100%|██████████| 261/261 [00:17<00:00, 15.13it/s]\n",
      "Training Epoch 180: 100%|██████████| 261/261 [00:16<00:00, 15.41it/s]\n",
      "Training Epoch 181: 100%|██████████| 261/261 [00:17<00:00, 14.74it/s]\n"
     ]
    },
    {
     "name": "stdout",
     "output_type": "stream",
     "text": [
      "Epoch 180 - Train Loss: 0.6886, Train MSE: 0.6887, Train MAE: 0.6308\n",
      "Epoch 180 - Validation Loss: 2.0836, Validation MSE: 2.0855, Validation MAE: 1.0877\n"
     ]
    },
    {
     "name": "stderr",
     "output_type": "stream",
     "text": [
      "Training Epoch 182: 100%|██████████| 261/261 [00:17<00:00, 15.04it/s]\n",
      "Training Epoch 183: 100%|██████████| 261/261 [00:17<00:00, 15.35it/s]\n",
      "Training Epoch 184: 100%|██████████| 261/261 [00:17<00:00, 15.18it/s]\n",
      "Training Epoch 185: 100%|██████████| 261/261 [00:16<00:00, 15.49it/s]\n",
      "Training Epoch 186: 100%|██████████| 261/261 [00:17<00:00, 14.64it/s]\n",
      "Training Epoch 187: 100%|██████████| 261/261 [00:19<00:00, 13.60it/s]\n",
      "Training Epoch 188: 100%|██████████| 261/261 [00:18<00:00, 14.46it/s]\n",
      "Training Epoch 189: 100%|██████████| 261/261 [00:21<00:00, 11.95it/s]\n",
      "Training Epoch 190: 100%|██████████| 261/261 [00:17<00:00, 14.53it/s]\n",
      "Training Epoch 191: 100%|██████████| 261/261 [00:18<00:00, 14.01it/s]\n"
     ]
    },
    {
     "name": "stdout",
     "output_type": "stream",
     "text": [
      "Epoch 190 - Train Loss: 0.6304, Train MSE: 0.6304, Train MAE: 0.6034\n",
      "Epoch 190 - Validation Loss: 1.9096, Validation MSE: 1.9115, Validation MAE: 1.0384\n"
     ]
    },
    {
     "name": "stderr",
     "output_type": "stream",
     "text": [
      "Training Epoch 192: 100%|██████████| 261/261 [00:17<00:00, 15.23it/s]\n",
      "Training Epoch 193: 100%|██████████| 261/261 [00:18<00:00, 14.19it/s]\n",
      "Training Epoch 194: 100%|██████████| 261/261 [00:17<00:00, 14.84it/s]\n",
      "Training Epoch 195: 100%|██████████| 261/261 [00:17<00:00, 14.87it/s]\n",
      "Training Epoch 196: 100%|██████████| 261/261 [00:18<00:00, 14.27it/s]\n",
      "Training Epoch 197: 100%|██████████| 261/261 [00:19<00:00, 13.61it/s]\n",
      "Training Epoch 198: 100%|██████████| 261/261 [00:18<00:00, 14.48it/s]\n",
      "Training Epoch 199: 100%|██████████| 261/261 [00:19<00:00, 13.30it/s]\n",
      "Training Epoch 200: 100%|██████████| 261/261 [00:18<00:00, 14.33it/s]\n",
      "Training Epoch 201: 100%|██████████| 261/261 [00:18<00:00, 14.23it/s]\n"
     ]
    },
    {
     "name": "stdout",
     "output_type": "stream",
     "text": [
      "Epoch 200 - Train Loss: 0.6362, Train MSE: 0.6361, Train MAE: 0.6081\n",
      "Epoch 200 - Validation Loss: 1.9326, Validation MSE: 1.9345, Validation MAE: 1.0406\n"
     ]
    },
    {
     "name": "stderr",
     "output_type": "stream",
     "text": [
      "Training Epoch 202: 100%|██████████| 261/261 [00:18<00:00, 14.15it/s]\n",
      "Training Epoch 203: 100%|██████████| 261/261 [00:18<00:00, 14.38it/s]\n",
      "Training Epoch 204: 100%|██████████| 261/261 [00:17<00:00, 14.91it/s]\n",
      "Training Epoch 205: 100%|██████████| 261/261 [00:17<00:00, 14.53it/s]\n",
      "Training Epoch 206: 100%|██████████| 261/261 [00:17<00:00, 15.32it/s]\n",
      "Training Epoch 207: 100%|██████████| 261/261 [00:17<00:00, 15.19it/s]\n",
      "Training Epoch 208: 100%|██████████| 261/261 [00:17<00:00, 14.59it/s]\n",
      "Training Epoch 209: 100%|██████████| 261/261 [00:17<00:00, 14.97it/s]\n",
      "Training Epoch 210: 100%|██████████| 261/261 [00:17<00:00, 15.02it/s]\n",
      "Training Epoch 211: 100%|██████████| 261/261 [00:18<00:00, 14.34it/s]\n"
     ]
    },
    {
     "name": "stdout",
     "output_type": "stream",
     "text": [
      "Epoch 210 - Train Loss: 0.5748, Train MSE: 0.5749, Train MAE: 0.5781\n",
      "Epoch 210 - Validation Loss: 1.8519, Validation MSE: 1.8537, Validation MAE: 1.0223\n"
     ]
    },
    {
     "name": "stderr",
     "output_type": "stream",
     "text": [
      "Training Epoch 212: 100%|██████████| 261/261 [00:17<00:00, 15.06it/s]\n",
      "Training Epoch 213: 100%|██████████| 261/261 [00:17<00:00, 14.97it/s]\n",
      "Training Epoch 214: 100%|██████████| 261/261 [00:17<00:00, 14.81it/s]\n",
      "Training Epoch 215: 100%|██████████| 261/261 [00:17<00:00, 15.28it/s]\n",
      "Training Epoch 216: 100%|██████████| 261/261 [00:17<00:00, 14.62it/s]\n",
      "Training Epoch 217: 100%|██████████| 261/261 [00:17<00:00, 14.54it/s]\n",
      "Training Epoch 218: 100%|██████████| 261/261 [00:18<00:00, 13.96it/s]\n",
      "Training Epoch 219: 100%|██████████| 261/261 [00:17<00:00, 14.97it/s]\n",
      "Training Epoch 220: 100%|██████████| 261/261 [00:17<00:00, 14.88it/s]\n",
      "Training Epoch 221: 100%|██████████| 261/261 [00:18<00:00, 14.46it/s]\n"
     ]
    },
    {
     "name": "stdout",
     "output_type": "stream",
     "text": [
      "Epoch 220 - Train Loss: 0.5768, Train MSE: 0.5768, Train MAE: 0.5789\n",
      "Epoch 220 - Validation Loss: 1.9481, Validation MSE: 1.9499, Validation MAE: 1.0417\n"
     ]
    },
    {
     "name": "stderr",
     "output_type": "stream",
     "text": [
      "Training Epoch 222: 100%|██████████| 261/261 [00:17<00:00, 14.52it/s]\n",
      "Training Epoch 223: 100%|██████████| 261/261 [00:17<00:00, 15.00it/s]\n",
      "Training Epoch 224: 100%|██████████| 261/261 [00:18<00:00, 14.19it/s]\n",
      "Training Epoch 225: 100%|██████████| 261/261 [00:19<00:00, 13.12it/s]\n",
      "Training Epoch 226: 100%|██████████| 261/261 [00:22<00:00, 11.43it/s]\n",
      "Training Epoch 227: 100%|██████████| 261/261 [00:17<00:00, 15.26it/s]\n",
      "Training Epoch 228: 100%|██████████| 261/261 [00:29<00:00,  8.78it/s]\n",
      "Training Epoch 229: 100%|██████████| 261/261 [00:17<00:00, 15.17it/s]\n",
      "Training Epoch 230: 100%|██████████| 261/261 [00:26<00:00,  9.89it/s]\n",
      "Training Epoch 231: 100%|██████████| 261/261 [00:18<00:00, 14.36it/s]\n"
     ]
    },
    {
     "name": "stdout",
     "output_type": "stream",
     "text": [
      "Epoch 230 - Train Loss: 0.5650, Train MSE: 0.5651, Train MAE: 0.5725\n",
      "Epoch 230 - Validation Loss: 1.8541, Validation MSE: 1.8559, Validation MAE: 1.0198\n"
     ]
    },
    {
     "name": "stderr",
     "output_type": "stream",
     "text": [
      "Training Epoch 232: 100%|██████████| 261/261 [00:35<00:00,  7.33it/s]\n",
      "Training Epoch 233: 100%|██████████| 261/261 [00:17<00:00, 14.50it/s]\n",
      "Training Epoch 234: 100%|██████████| 261/261 [00:30<00:00,  8.46it/s]\n",
      "Training Epoch 235: 100%|██████████| 261/261 [00:18<00:00, 14.17it/s]\n",
      "Training Epoch 236: 100%|██████████| 261/261 [00:30<00:00,  8.59it/s]\n",
      "Training Epoch 237: 100%|██████████| 261/261 [00:21<00:00, 11.94it/s]\n",
      "Training Epoch 238: 100%|██████████| 261/261 [00:17<00:00, 14.95it/s]\n",
      "Training Epoch 239: 100%|██████████| 261/261 [00:34<00:00,  7.53it/s]\n",
      "Training Epoch 240: 100%|██████████| 261/261 [00:17<00:00, 14.82it/s]\n",
      "Training Epoch 241: 100%|██████████| 261/261 [00:36<00:00,  7.16it/s]\n"
     ]
    },
    {
     "name": "stdout",
     "output_type": "stream",
     "text": [
      "Epoch 240 - Train Loss: 0.5377, Train MSE: 0.5377, Train MAE: 0.5547\n",
      "Epoch 240 - Validation Loss: 1.8784, Validation MSE: 1.8801, Validation MAE: 1.0262\n"
     ]
    },
    {
     "name": "stderr",
     "output_type": "stream",
     "text": [
      "Training Epoch 242: 100%|██████████| 261/261 [16:10<00:00,  3.72s/it]    \n",
      "Training Epoch 243: 100%|██████████| 261/261 [00:30<00:00,  8.63it/s]\n",
      "Training Epoch 244: 100%|██████████| 261/261 [00:26<00:00,  9.95it/s]\n",
      "Training Epoch 245: 100%|██████████| 261/261 [00:27<00:00,  9.52it/s]\n",
      "Training Epoch 246: 100%|██████████| 261/261 [00:26<00:00,  9.71it/s]\n",
      "Training Epoch 247: 100%|██████████| 261/261 [00:27<00:00,  9.50it/s]\n",
      "Training Epoch 248: 100%|██████████| 261/261 [00:26<00:00,  9.90it/s]\n",
      "Training Epoch 249: 100%|██████████| 261/261 [00:27<00:00,  9.37it/s]\n",
      "Training Epoch 250: 100%|██████████| 261/261 [00:51<00:00,  5.05it/s]\n",
      "Training Epoch 251: 100%|██████████| 261/261 [01:38<00:00,  2.66it/s]\n"
     ]
    },
    {
     "name": "stdout",
     "output_type": "stream",
     "text": [
      "Epoch 250 - Train Loss: 0.5219, Train MSE: 0.5219, Train MAE: 0.5467\n",
      "Epoch 250 - Validation Loss: 1.9385, Validation MSE: 1.9403, Validation MAE: 1.0366\n"
     ]
    },
    {
     "name": "stderr",
     "output_type": "stream",
     "text": [
      "Training Epoch 252: 100%|██████████| 261/261 [01:38<00:00,  2.66it/s]\n",
      "Training Epoch 253: 100%|██████████| 261/261 [01:38<00:00,  2.66it/s]\n",
      "Training Epoch 254: 100%|██████████| 261/261 [16:48<00:00,  3.86s/it]   \n",
      "Training Epoch 255: 100%|██████████| 261/261 [00:26<00:00,  9.67it/s]\n",
      "Training Epoch 256: 100%|██████████| 261/261 [00:26<00:00,  9.99it/s]\n",
      "Training Epoch 257: 100%|██████████| 261/261 [00:27<00:00,  9.51it/s]\n",
      "Training Epoch 258: 100%|██████████| 261/261 [00:26<00:00,  9.91it/s]\n",
      "Training Epoch 259: 100%|██████████| 261/261 [00:26<00:00,  9.87it/s]\n",
      "Training Epoch 260: 100%|██████████| 261/261 [00:26<00:00,  9.75it/s]\n",
      "Training Epoch 261: 100%|██████████| 261/261 [00:26<00:00,  9.98it/s]\n"
     ]
    },
    {
     "name": "stdout",
     "output_type": "stream",
     "text": [
      "Epoch 260 - Train Loss: 0.5187, Train MSE: 0.5187, Train MAE: 0.5484\n",
      "Epoch 260 - Validation Loss: 1.9296, Validation MSE: 1.9316, Validation MAE: 1.0339\n"
     ]
    },
    {
     "name": "stderr",
     "output_type": "stream",
     "text": [
      "Training Epoch 262: 100%|██████████| 261/261 [00:26<00:00,  9.67it/s]\n",
      "Training Epoch 263: 100%|██████████| 261/261 [00:26<00:00,  9.76it/s]\n",
      "Training Epoch 264: 100%|██████████| 261/261 [00:26<00:00,  9.75it/s]\n",
      "Training Epoch 265: 100%|██████████| 261/261 [00:27<00:00,  9.64it/s]\n",
      "Training Epoch 266: 100%|██████████| 261/261 [00:26<00:00,  9.97it/s]\n",
      "Training Epoch 267: 100%|██████████| 261/261 [00:27<00:00,  9.64it/s]\n",
      "Training Epoch 268: 100%|██████████| 261/261 [00:26<00:00,  9.68it/s]\n",
      "Training Epoch 269: 100%|██████████| 261/261 [00:29<00:00,  8.99it/s]\n",
      "Training Epoch 270: 100%|██████████| 261/261 [01:24<00:00,  3.09it/s]\n",
      "Training Epoch 271: 100%|██████████| 261/261 [00:29<00:00,  8.96it/s]\n"
     ]
    },
    {
     "name": "stdout",
     "output_type": "stream",
     "text": [
      "Epoch 270 - Train Loss: 0.5025, Train MSE: 0.5026, Train MAE: 0.5385\n",
      "Epoch 270 - Validation Loss: 1.8581, Validation MSE: 1.8601, Validation MAE: 1.0099\n"
     ]
    },
    {
     "name": "stderr",
     "output_type": "stream",
     "text": [
      "Training Epoch 272: 100%|██████████| 261/261 [00:17<00:00, 14.71it/s]\n",
      "Training Epoch 273: 100%|██████████| 261/261 [00:18<00:00, 14.17it/s]\n",
      "Training Epoch 274: 100%|██████████| 261/261 [00:18<00:00, 14.43it/s]\n",
      "Training Epoch 275: 100%|██████████| 261/261 [00:17<00:00, 14.91it/s]\n",
      "Training Epoch 276: 100%|██████████| 261/261 [00:17<00:00, 15.01it/s]\n",
      "Training Epoch 277: 100%|██████████| 261/261 [00:17<00:00, 14.75it/s]\n",
      "Training Epoch 278: 100%|██████████| 261/261 [00:17<00:00, 14.98it/s]\n",
      "Training Epoch 279: 100%|██████████| 261/261 [00:17<00:00, 14.93it/s]\n",
      "Training Epoch 280: 100%|██████████| 261/261 [00:17<00:00, 14.50it/s]\n",
      "Training Epoch 281: 100%|██████████| 261/261 [00:17<00:00, 14.97it/s]\n"
     ]
    },
    {
     "name": "stdout",
     "output_type": "stream",
     "text": [
      "Epoch 280 - Train Loss: 0.5033, Train MSE: 0.5032, Train MAE: 0.5374\n",
      "Epoch 280 - Validation Loss: 1.9093, Validation MSE: 1.9112, Validation MAE: 1.0308\n"
     ]
    },
    {
     "name": "stderr",
     "output_type": "stream",
     "text": [
      "Training Epoch 282: 100%|██████████| 261/261 [00:17<00:00, 15.06it/s]\n",
      "Training Epoch 283: 100%|██████████| 261/261 [00:18<00:00, 14.47it/s]\n",
      "Training Epoch 284: 100%|██████████| 261/261 [00:17<00:00, 15.02it/s]\n",
      "Training Epoch 285: 100%|██████████| 261/261 [00:17<00:00, 15.34it/s]\n",
      "Training Epoch 286: 100%|██████████| 261/261 [00:17<00:00, 14.75it/s]\n",
      "Training Epoch 287: 100%|██████████| 261/261 [00:17<00:00, 14.80it/s]\n",
      "Training Epoch 288: 100%|██████████| 261/261 [00:17<00:00, 15.05it/s]\n",
      "Training Epoch 289: 100%|██████████| 261/261 [00:17<00:00, 14.64it/s]\n",
      "Training Epoch 290: 100%|██████████| 261/261 [00:17<00:00, 14.94it/s]\n",
      "Training Epoch 291: 100%|██████████| 261/261 [00:17<00:00, 15.02it/s]\n"
     ]
    },
    {
     "name": "stdout",
     "output_type": "stream",
     "text": [
      "Epoch 290 - Train Loss: 0.4754, Train MSE: 0.4754, Train MAE: 0.5220\n",
      "Epoch 290 - Validation Loss: 2.0183, Validation MSE: 2.0200, Validation MAE: 1.0563\n"
     ]
    },
    {
     "name": "stderr",
     "output_type": "stream",
     "text": [
      "Training Epoch 292: 100%|██████████| 261/261 [00:17<00:00, 15.07it/s]\n",
      "Training Epoch 293: 100%|██████████| 261/261 [00:17<00:00, 14.85it/s]\n",
      "Training Epoch 294: 100%|██████████| 261/261 [00:17<00:00, 14.92it/s]\n",
      "Training Epoch 295: 100%|██████████| 261/261 [00:17<00:00, 14.89it/s]\n",
      "Training Epoch 296: 100%|██████████| 261/261 [00:17<00:00, 14.97it/s]\n",
      "Training Epoch 297: 100%|██████████| 261/261 [00:17<00:00, 15.20it/s]\n",
      "Training Epoch 298: 100%|██████████| 261/261 [00:17<00:00, 15.12it/s]\n",
      "Training Epoch 299: 100%|██████████| 261/261 [00:18<00:00, 14.41it/s]\n",
      "Training Epoch 300: 100%|██████████| 261/261 [15:59<00:00,  3.68s/it]   \n",
      "Training Epoch 301: 100%|██████████| 261/261 [00:27<00:00,  9.66it/s]\n"
     ]
    },
    {
     "name": "stdout",
     "output_type": "stream",
     "text": [
      "Epoch 300 - Train Loss: 0.4613, Train MSE: 0.4613, Train MAE: 0.5133\n",
      "Epoch 300 - Validation Loss: 1.9083, Validation MSE: 1.9102, Validation MAE: 1.0208\n"
     ]
    },
    {
     "name": "stderr",
     "output_type": "stream",
     "text": [
      "Training Epoch 302: 100%|██████████| 261/261 [16:41<00:00,  3.84s/it]  \n",
      "Training Epoch 303: 100%|██████████| 261/261 [00:24<00:00, 10.58it/s]\n",
      "Training Epoch 304: 100%|██████████| 261/261 [00:24<00:00, 10.74it/s]\n",
      "Training Epoch 305: 100%|██████████| 261/261 [02:07<00:00,  2.05it/s]\n",
      "Training Epoch 306: 100%|██████████| 261/261 [00:24<00:00, 10.56it/s]\n",
      "Training Epoch 307: 100%|██████████| 261/261 [16:17<00:00,  3.74s/it]   \n",
      "Training Epoch 308: 100%|██████████| 261/261 [00:24<00:00, 10.62it/s]\n",
      "Training Epoch 309: 100%|██████████| 261/261 [00:25<00:00, 10.40it/s]\n",
      "Training Epoch 310: 100%|██████████| 261/261 [15:48<00:00,  3.63s/it]   \n",
      "Training Epoch 311: 100%|██████████| 261/261 [00:26<00:00,  9.85it/s]\n"
     ]
    },
    {
     "name": "stdout",
     "output_type": "stream",
     "text": [
      "Epoch 310 - Train Loss: 0.4653, Train MSE: 0.4653, Train MAE: 0.5136\n",
      "Epoch 310 - Validation Loss: 1.8695, Validation MSE: 1.8713, Validation MAE: 1.0192\n"
     ]
    },
    {
     "name": "stderr",
     "output_type": "stream",
     "text": [
      "Training Epoch 312: 100%|██████████| 261/261 [00:24<00:00, 10.50it/s]\n",
      "Training Epoch 313: 100%|██████████| 261/261 [15:57<00:00,  3.67s/it]  \n",
      "Training Epoch 314: 100%|██████████| 261/261 [00:25<00:00, 10.14it/s]\n",
      "Training Epoch 315: 100%|██████████| 261/261 [00:25<00:00, 10.29it/s]\n",
      "Training Epoch 316: 100%|██████████| 261/261 [00:25<00:00, 10.14it/s]\n",
      "Training Epoch 317: 100%|██████████| 261/261 [00:25<00:00, 10.10it/s]\n",
      "Training Epoch 318: 100%|██████████| 261/261 [00:25<00:00, 10.12it/s]\n",
      "Training Epoch 319: 100%|██████████| 261/261 [00:25<00:00, 10.37it/s]\n",
      "Training Epoch 320: 100%|██████████| 261/261 [00:25<00:00, 10.23it/s]\n",
      "Training Epoch 321: 100%|██████████| 261/261 [16:55<00:00,  3.89s/it]   \n"
     ]
    },
    {
     "name": "stdout",
     "output_type": "stream",
     "text": [
      "Epoch 320 - Train Loss: 0.4371, Train MSE: 0.4371, Train MAE: 0.4985\n",
      "Epoch 320 - Validation Loss: 1.8576, Validation MSE: 1.8593, Validation MAE: 1.0094\n"
     ]
    },
    {
     "name": "stderr",
     "output_type": "stream",
     "text": [
      "Training Epoch 322: 100%|██████████| 261/261 [16:57<00:00,  3.90s/it]   \n",
      "Training Epoch 323: 100%|██████████| 261/261 [00:25<00:00, 10.16it/s]\n",
      "Training Epoch 324: 100%|██████████| 261/261 [00:24<00:00, 10.55it/s]\n",
      "Training Epoch 325: 100%|██████████| 261/261 [16:04<00:00,  3.70s/it]  \n",
      "Training Epoch 326: 100%|██████████| 261/261 [15:35<00:00,  3.58s/it]   \n",
      "Training Epoch 327: 100%|██████████| 261/261 [00:25<00:00, 10.43it/s]\n",
      "Training Epoch 328: 100%|██████████| 261/261 [16:53<00:00,  3.88s/it]  \n",
      "Training Epoch 329: 100%|██████████| 261/261 [16:36<00:00,  3.82s/it]\n",
      "Training Epoch 330: 100%|██████████| 261/261 [00:28<00:00,  9.23it/s]\n",
      "Training Epoch 331: 100%|██████████| 261/261 [00:25<00:00, 10.33it/s]\n"
     ]
    },
    {
     "name": "stdout",
     "output_type": "stream",
     "text": [
      "Epoch 330 - Train Loss: 0.4434, Train MSE: 0.4434, Train MAE: 0.5056\n",
      "Epoch 330 - Validation Loss: 1.9556, Validation MSE: 1.9574, Validation MAE: 1.0392\n"
     ]
    },
    {
     "name": "stderr",
     "output_type": "stream",
     "text": [
      "Training Epoch 332: 100%|██████████| 261/261 [00:25<00:00, 10.29it/s]\n",
      "Training Epoch 333: 100%|██████████| 261/261 [00:25<00:00, 10.07it/s]\n",
      "Training Epoch 334: 100%|██████████| 261/261 [00:25<00:00, 10.33it/s]\n",
      "Training Epoch 335: 100%|██████████| 261/261 [00:26<00:00,  9.87it/s]\n",
      "Training Epoch 336: 100%|██████████| 261/261 [00:25<00:00, 10.18it/s]\n",
      "Training Epoch 337: 100%|██████████| 261/261 [00:26<00:00,  9.74it/s]\n",
      "Training Epoch 338: 100%|██████████| 261/261 [00:26<00:00,  9.94it/s]\n",
      "Training Epoch 339: 100%|██████████| 261/261 [00:26<00:00,  9.96it/s]\n",
      "Training Epoch 340: 100%|██████████| 261/261 [16:56<00:00,  3.89s/it]   \n",
      "Training Epoch 341: 100%|██████████| 261/261 [00:25<00:00, 10.24it/s]\n"
     ]
    },
    {
     "name": "stdout",
     "output_type": "stream",
     "text": [
      "Epoch 340 - Train Loss: 0.4317, Train MSE: 0.4317, Train MAE: 0.4942\n",
      "Epoch 340 - Validation Loss: 1.8837, Validation MSE: 1.8854, Validation MAE: 1.0158\n"
     ]
    },
    {
     "name": "stderr",
     "output_type": "stream",
     "text": [
      "Training Epoch 342: 100%|██████████| 261/261 [15:36<00:00,  3.59s/it]   \n",
      "Training Epoch 343: 100%|██████████| 261/261 [00:25<00:00, 10.07it/s]\n",
      "Training Epoch 344: 100%|██████████| 261/261 [00:25<00:00, 10.27it/s]\n",
      "Training Epoch 345: 100%|██████████| 261/261 [16:05<00:00,  3.70s/it]   \n",
      "Training Epoch 346: 100%|██████████| 261/261 [00:26<00:00,  9.82it/s]\n",
      "Training Epoch 347: 100%|██████████| 261/261 [04:54<00:00,  1.13s/it] \n",
      "Training Epoch 348: 100%|██████████| 261/261 [00:25<00:00, 10.41it/s]\n",
      "Training Epoch 349: 100%|██████████| 261/261 [00:25<00:00, 10.13it/s]\n",
      "Training Epoch 350: 100%|██████████| 261/261 [16:05<00:00,  3.70s/it]   \n",
      "Training Epoch 351: 100%|██████████| 261/261 [00:26<00:00, 10.03it/s]\n"
     ]
    },
    {
     "name": "stdout",
     "output_type": "stream",
     "text": [
      "Epoch 350 - Train Loss: 0.4339, Train MSE: 0.4339, Train MAE: 0.4970\n",
      "Epoch 350 - Validation Loss: 1.8988, Validation MSE: 1.9006, Validation MAE: 1.0225\n"
     ]
    },
    {
     "name": "stderr",
     "output_type": "stream",
     "text": [
      "Training Epoch 352: 100%|██████████| 261/261 [16:01<00:00,  3.68s/it]  \n",
      "Training Epoch 353: 100%|██████████| 261/261 [16:06<00:00,  3.70s/it] \n",
      "Training Epoch 354: 100%|██████████| 261/261 [00:27<00:00,  9.37it/s]\n",
      "Training Epoch 355: 100%|██████████| 261/261 [00:27<00:00,  9.66it/s]\n",
      "Training Epoch 356: 100%|██████████| 261/261 [16:13<00:00,  3.73s/it]   \n",
      "Training Epoch 357: 100%|██████████| 261/261 [00:24<00:00, 10.52it/s]\n",
      "Training Epoch 358: 100%|██████████| 261/261 [16:39<00:00,  3.83s/it]   \n",
      "Training Epoch 359: 100%|██████████| 261/261 [00:32<00:00,  7.96it/s]\n",
      "Training Epoch 360: 100%|██████████| 261/261 [00:25<00:00, 10.21it/s]\n",
      "Training Epoch 361: 100%|██████████| 261/261 [16:05<00:00,  3.70s/it]   \n"
     ]
    },
    {
     "name": "stdout",
     "output_type": "stream",
     "text": [
      "Epoch 360 - Train Loss: 0.4315, Train MSE: 0.4315, Train MAE: 0.4943\n",
      "Epoch 360 - Validation Loss: 1.8966, Validation MSE: 1.8987, Validation MAE: 1.0176\n"
     ]
    },
    {
     "name": "stderr",
     "output_type": "stream",
     "text": [
      "Training Epoch 362: 100%|██████████| 261/261 [00:26<00:00,  9.86it/s]\n",
      "Training Epoch 363: 100%|██████████| 261/261 [00:25<00:00, 10.33it/s]\n",
      "Training Epoch 364: 100%|██████████| 261/261 [00:32<00:00,  7.94it/s]\n",
      "Training Epoch 365: 100%|██████████| 261/261 [00:25<00:00, 10.30it/s]\n",
      "Training Epoch 366: 100%|██████████| 261/261 [15:50<00:00,  3.64s/it]  \n",
      "Training Epoch 367: 100%|██████████| 261/261 [00:22<00:00, 11.59it/s]\n",
      "Training Epoch 368: 100%|██████████| 261/261 [00:25<00:00, 10.31it/s]\n",
      "Training Epoch 369: 100%|██████████| 261/261 [17:03<00:00,  3.92s/it]   \n",
      "Training Epoch 370: 100%|██████████| 261/261 [00:22<00:00, 11.51it/s]\n",
      "Training Epoch 371: 100%|██████████| 261/261 [16:46<00:00,  3.86s/it]  \n"
     ]
    },
    {
     "name": "stdout",
     "output_type": "stream",
     "text": [
      "Epoch 370 - Train Loss: 0.4185, Train MSE: 0.4186, Train MAE: 0.4856\n",
      "Epoch 370 - Validation Loss: 1.8984, Validation MSE: 1.9002, Validation MAE: 1.0244\n"
     ]
    },
    {
     "name": "stderr",
     "output_type": "stream",
     "text": [
      "Training Epoch 372: 100%|██████████| 261/261 [00:24<00:00, 10.52it/s]\n",
      "Training Epoch 373: 100%|██████████| 261/261 [00:24<00:00, 10.67it/s]\n",
      "Training Epoch 374: 100%|██████████| 261/261 [00:22<00:00, 11.68it/s]\n",
      "Training Epoch 375: 100%|██████████| 261/261 [15:37<00:00,  3.59s/it]   \n",
      "Training Epoch 376: 100%|██████████| 261/261 [00:22<00:00, 11.52it/s]\n",
      "Training Epoch 377: 100%|██████████| 261/261 [00:28<00:00,  9.03it/s]\n",
      "Training Epoch 378: 100%|██████████| 261/261 [00:25<00:00, 10.08it/s]\n",
      "Training Epoch 379: 100%|██████████| 261/261 [15:31<00:00,  3.57s/it]   \n",
      "Training Epoch 380: 100%|██████████| 261/261 [00:23<00:00, 11.16it/s]\n",
      "Training Epoch 381: 100%|██████████| 261/261 [16:55<00:00,  3.89s/it]   \n"
     ]
    },
    {
     "name": "stdout",
     "output_type": "stream",
     "text": [
      "Epoch 380 - Train Loss: 0.4268, Train MSE: 0.4268, Train MAE: 0.4931\n",
      "Epoch 380 - Validation Loss: 1.9084, Validation MSE: 1.9103, Validation MAE: 1.0245\n"
     ]
    },
    {
     "name": "stderr",
     "output_type": "stream",
     "text": [
      "Training Epoch 382: 100%|██████████| 261/261 [00:24<00:00, 10.79it/s]\n",
      "Training Epoch 383: 100%|██████████| 261/261 [00:23<00:00, 11.29it/s]\n",
      "Training Epoch 384: 100%|██████████| 261/261 [00:24<00:00, 10.85it/s]\n",
      "Training Epoch 385: 100%|██████████| 261/261 [00:23<00:00, 11.30it/s]\n",
      "Training Epoch 386: 100%|██████████| 261/261 [00:23<00:00, 11.09it/s]\n",
      "Training Epoch 387: 100%|██████████| 261/261 [00:23<00:00, 11.34it/s]\n",
      "Training Epoch 388: 100%|██████████| 261/261 [00:23<00:00, 10.93it/s]\n",
      "Training Epoch 389: 100%|██████████| 261/261 [00:23<00:00, 11.14it/s]\n",
      "Training Epoch 390: 100%|██████████| 261/261 [00:23<00:00, 11.32it/s]\n",
      "Training Epoch 391: 100%|██████████| 261/261 [00:23<00:00, 10.94it/s]\n"
     ]
    },
    {
     "name": "stdout",
     "output_type": "stream",
     "text": [
      "Epoch 390 - Train Loss: 0.3970, Train MSE: 0.3969, Train MAE: 0.4730\n",
      "Epoch 390 - Validation Loss: 1.9093, Validation MSE: 1.9111, Validation MAE: 1.0202\n"
     ]
    },
    {
     "name": "stderr",
     "output_type": "stream",
     "text": [
      "Training Epoch 392: 100%|██████████| 261/261 [00:23<00:00, 10.98it/s]\n",
      "Training Epoch 393: 100%|██████████| 261/261 [00:23<00:00, 10.92it/s]\n",
      "Training Epoch 394: 100%|██████████| 261/261 [00:22<00:00, 11.85it/s]\n",
      "Training Epoch 395: 100%|██████████| 261/261 [00:20<00:00, 12.59it/s]\n",
      "Training Epoch 396: 100%|██████████| 261/261 [00:21<00:00, 12.23it/s]\n",
      "Training Epoch 397: 100%|██████████| 261/261 [00:20<00:00, 12.62it/s]\n",
      "Training Epoch 398: 100%|██████████| 261/261 [00:21<00:00, 12.11it/s]\n",
      "Training Epoch 399: 100%|██████████| 261/261 [00:20<00:00, 12.61it/s]\n",
      "Training Epoch 400: 100%|██████████| 261/261 [00:20<00:00, 12.70it/s]\n",
      "Training Epoch 401: 100%|██████████| 261/261 [00:21<00:00, 12.24it/s]\n"
     ]
    },
    {
     "name": "stdout",
     "output_type": "stream",
     "text": [
      "Epoch 400 - Train Loss: 0.3988, Train MSE: 0.3988, Train MAE: 0.4735\n",
      "Epoch 400 - Validation Loss: 2.0588, Validation MSE: 2.0606, Validation MAE: 1.0676\n"
     ]
    },
    {
     "name": "stderr",
     "output_type": "stream",
     "text": [
      "Training Epoch 402: 100%|██████████| 261/261 [00:20<00:00, 12.53it/s]\n",
      "Training Epoch 403: 100%|██████████| 261/261 [00:21<00:00, 12.30it/s]\n",
      "Training Epoch 404: 100%|██████████| 261/261 [00:20<00:00, 12.44it/s]\n",
      "Training Epoch 405: 100%|██████████| 261/261 [00:21<00:00, 12.39it/s]\n",
      "Training Epoch 406: 100%|██████████| 261/261 [00:21<00:00, 12.34it/s]\n",
      "Training Epoch 407: 100%|██████████| 261/261 [00:22<00:00, 11.59it/s]\n",
      "Training Epoch 408: 100%|██████████| 261/261 [00:21<00:00, 12.23it/s]\n",
      "Training Epoch 409: 100%|██████████| 261/261 [00:21<00:00, 12.24it/s]\n",
      "Training Epoch 410: 100%|██████████| 261/261 [00:20<00:00, 12.62it/s]\n",
      "Training Epoch 411: 100%|██████████| 261/261 [00:21<00:00, 12.04it/s]\n"
     ]
    },
    {
     "name": "stdout",
     "output_type": "stream",
     "text": [
      "Epoch 410 - Train Loss: 0.3992, Train MSE: 0.3993, Train MAE: 0.4755\n",
      "Epoch 410 - Validation Loss: 1.8957, Validation MSE: 1.8976, Validation MAE: 1.0135\n"
     ]
    },
    {
     "name": "stderr",
     "output_type": "stream",
     "text": [
      "Training Epoch 412: 100%|██████████| 261/261 [00:20<00:00, 12.46it/s]\n",
      "Training Epoch 413: 100%|██████████| 261/261 [00:21<00:00, 12.20it/s]\n",
      "Training Epoch 414: 100%|██████████| 261/261 [00:21<00:00, 11.91it/s]\n",
      "Training Epoch 415: 100%|██████████| 261/261 [00:21<00:00, 12.25it/s]\n",
      "Training Epoch 416: 100%|██████████| 261/261 [00:21<00:00, 12.05it/s]\n",
      "Training Epoch 417: 100%|██████████| 261/261 [00:39<00:00,  6.61it/s]\n",
      "Training Epoch 418: 100%|██████████| 261/261 [00:56<00:00,  4.59it/s]\n",
      "Training Epoch 419: 100%|██████████| 261/261 [00:21<00:00, 11.91it/s]\n",
      "Training Epoch 420: 100%|██████████| 261/261 [00:32<00:00,  7.96it/s]\n",
      "Training Epoch 421: 100%|██████████| 261/261 [01:17<00:00,  3.36it/s]\n"
     ]
    },
    {
     "name": "stdout",
     "output_type": "stream",
     "text": [
      "Epoch 420 - Train Loss: 0.4080, Train MSE: 0.4080, Train MAE: 0.4806\n",
      "Epoch 420 - Validation Loss: 1.9277, Validation MSE: 1.9295, Validation MAE: 1.0292\n"
     ]
    },
    {
     "name": "stderr",
     "output_type": "stream",
     "text": [
      "Training Epoch 422: 100%|██████████| 261/261 [00:37<00:00,  6.91it/s]\n",
      "Training Epoch 423: 100%|██████████| 261/261 [01:16<00:00,  3.40it/s]\n",
      "Training Epoch 424: 100%|██████████| 261/261 [00:42<00:00,  6.14it/s]\n",
      "Training Epoch 425: 100%|██████████| 261/261 [01:00<00:00,  4.34it/s]\n",
      "Training Epoch 426: 100%|██████████| 261/261 [01:17<00:00,  3.38it/s]\n",
      "Training Epoch 427: 100%|██████████| 261/261 [01:16<00:00,  3.39it/s]\n",
      "Training Epoch 428: 100%|██████████| 261/261 [00:49<00:00,  5.26it/s]\n",
      "Training Epoch 429: 100%|██████████| 261/261 [01:19<00:00,  3.27it/s]\n",
      "Training Epoch 430: 100%|██████████| 261/261 [01:17<00:00,  3.38it/s]\n",
      "Training Epoch 431: 100%|██████████| 261/261 [01:04<00:00,  4.05it/s]\n"
     ]
    },
    {
     "name": "stdout",
     "output_type": "stream",
     "text": [
      "Epoch 430 - Train Loss: 0.4018, Train MSE: 0.4018, Train MAE: 0.4728\n",
      "Epoch 430 - Validation Loss: 1.9711, Validation MSE: 1.9727, Validation MAE: 1.0340\n"
     ]
    },
    {
     "name": "stderr",
     "output_type": "stream",
     "text": [
      "Training Epoch 432: 100%|██████████| 261/261 [01:11<00:00,  3.65it/s]\n",
      "Training Epoch 433: 100%|██████████| 261/261 [00:33<00:00,  7.73it/s]\n",
      "Training Epoch 434: 100%|██████████| 261/261 [00:36<00:00,  7.14it/s]\n",
      "Training Epoch 435: 100%|██████████| 261/261 [00:35<00:00,  7.32it/s]\n",
      "Training Epoch 436: 100%|██████████| 261/261 [00:33<00:00,  7.81it/s]\n",
      "Training Epoch 437: 100%|██████████| 261/261 [00:34<00:00,  7.66it/s]\n",
      "Training Epoch 438: 100%|██████████| 261/261 [00:32<00:00,  8.09it/s]\n",
      "Training Epoch 439: 100%|██████████| 261/261 [00:34<00:00,  7.57it/s]\n",
      "Training Epoch 440: 100%|██████████| 261/261 [00:32<00:00,  8.13it/s]\n",
      "Training Epoch 441: 100%|██████████| 261/261 [00:32<00:00,  8.05it/s]\n"
     ]
    },
    {
     "name": "stdout",
     "output_type": "stream",
     "text": [
      "Epoch 440 - Train Loss: 0.3970, Train MSE: 0.3971, Train MAE: 0.4717\n",
      "Epoch 440 - Validation Loss: 1.8956, Validation MSE: 1.8974, Validation MAE: 1.0192\n"
     ]
    },
    {
     "name": "stderr",
     "output_type": "stream",
     "text": [
      "Training Epoch 442: 100%|██████████| 261/261 [00:33<00:00,  7.90it/s]\n",
      "Training Epoch 443: 100%|██████████| 261/261 [00:32<00:00,  8.02it/s]\n",
      "Training Epoch 444: 100%|██████████| 261/261 [00:33<00:00,  7.88it/s]\n",
      "Training Epoch 445: 100%|██████████| 261/261 [00:33<00:00,  7.88it/s]\n",
      "Training Epoch 446: 100%|██████████| 261/261 [00:32<00:00,  7.99it/s]\n",
      "Training Epoch 447: 100%|██████████| 261/261 [00:34<00:00,  7.64it/s]\n",
      "Training Epoch 448: 100%|██████████| 261/261 [00:34<00:00,  7.57it/s]\n",
      "Training Epoch 449: 100%|██████████| 261/261 [00:33<00:00,  7.84it/s]\n",
      "Training Epoch 450: 100%|██████████| 261/261 [00:34<00:00,  7.64it/s]\n",
      "Training Epoch 451: 100%|██████████| 261/261 [00:33<00:00,  7.77it/s]\n"
     ]
    },
    {
     "name": "stdout",
     "output_type": "stream",
     "text": [
      "Epoch 450 - Train Loss: 0.3844, Train MSE: 0.3844, Train MAE: 0.4625\n",
      "Epoch 450 - Validation Loss: 1.9117, Validation MSE: 1.9133, Validation MAE: 1.0254\n"
     ]
    },
    {
     "name": "stderr",
     "output_type": "stream",
     "text": [
      "Training Epoch 452: 100%|██████████| 261/261 [00:34<00:00,  7.47it/s]\n",
      "Training Epoch 453: 100%|██████████| 261/261 [00:35<00:00,  7.38it/s]\n",
      "Training Epoch 454: 100%|██████████| 261/261 [00:35<00:00,  7.38it/s]\n",
      "Training Epoch 455: 100%|██████████| 261/261 [00:35<00:00,  7.31it/s]\n",
      "Training Epoch 456: 100%|██████████| 261/261 [00:35<00:00,  7.35it/s]\n",
      "Training Epoch 457: 100%|██████████| 261/261 [00:37<00:00,  6.94it/s]\n",
      "Training Epoch 458: 100%|██████████| 261/261 [00:36<00:00,  7.22it/s]\n",
      "Training Epoch 459: 100%|██████████| 261/261 [00:36<00:00,  7.08it/s]\n",
      "Training Epoch 460: 100%|██████████| 261/261 [00:37<00:00,  6.94it/s]\n",
      "Training Epoch 461: 100%|██████████| 261/261 [00:38<00:00,  6.78it/s]\n"
     ]
    },
    {
     "name": "stdout",
     "output_type": "stream",
     "text": [
      "Epoch 460 - Train Loss: 0.3800, Train MSE: 0.3800, Train MAE: 0.4609\n",
      "Epoch 460 - Validation Loss: 1.9585, Validation MSE: 1.9601, Validation MAE: 1.0344\n"
     ]
    },
    {
     "name": "stderr",
     "output_type": "stream",
     "text": [
      "Training Epoch 462: 100%|██████████| 261/261 [15:43<00:00,  3.62s/it]    \n",
      "Training Epoch 463: 100%|██████████| 261/261 [00:21<00:00, 12.14it/s]\n",
      "Training Epoch 464: 100%|██████████| 261/261 [00:20<00:00, 12.68it/s]\n",
      "Training Epoch 465: 100%|██████████| 261/261 [00:21<00:00, 12.25it/s]\n",
      "Training Epoch 466: 100%|██████████| 261/261 [00:20<00:00, 12.59it/s]\n",
      "Training Epoch 467: 100%|██████████| 261/261 [00:21<00:00, 12.12it/s]\n",
      "Training Epoch 468: 100%|██████████| 261/261 [00:20<00:00, 12.49it/s]\n",
      "Training Epoch 469: 100%|██████████| 261/261 [00:20<00:00, 12.54it/s]\n",
      "Training Epoch 470: 100%|██████████| 261/261 [00:21<00:00, 12.15it/s]\n",
      "Training Epoch 471: 100%|██████████| 261/261 [00:20<00:00, 12.63it/s]\n"
     ]
    },
    {
     "name": "stdout",
     "output_type": "stream",
     "text": [
      "Epoch 470 - Train Loss: 0.3758, Train MSE: 0.3759, Train MAE: 0.4581\n",
      "Epoch 470 - Validation Loss: 1.9167, Validation MSE: 1.9182, Validation MAE: 1.0271\n"
     ]
    },
    {
     "name": "stderr",
     "output_type": "stream",
     "text": [
      "Training Epoch 472: 100%|██████████| 261/261 [00:20<00:00, 12.44it/s]\n",
      "Training Epoch 473: 100%|██████████| 261/261 [00:21<00:00, 11.96it/s]\n",
      "Training Epoch 474: 100%|██████████| 261/261 [00:21<00:00, 12.43it/s]\n",
      "Training Epoch 475: 100%|██████████| 261/261 [00:21<00:00, 12.06it/s]\n",
      "Training Epoch 476: 100%|██████████| 261/261 [00:21<00:00, 12.30it/s]\n",
      "Training Epoch 477: 100%|██████████| 261/261 [00:20<00:00, 12.55it/s]\n",
      "Training Epoch 478: 100%|██████████| 261/261 [00:21<00:00, 11.91it/s]\n",
      "Training Epoch 479: 100%|██████████| 261/261 [00:20<00:00, 12.62it/s]\n",
      "Training Epoch 480: 100%|██████████| 261/261 [00:21<00:00, 11.98it/s]\n",
      "Training Epoch 481: 100%|██████████| 261/261 [00:21<00:00, 12.41it/s]\n"
     ]
    },
    {
     "name": "stdout",
     "output_type": "stream",
     "text": [
      "Epoch 480 - Train Loss: 0.3751, Train MSE: 0.3752, Train MAE: 0.4597\n",
      "Epoch 480 - Validation Loss: 1.9255, Validation MSE: 1.9272, Validation MAE: 1.0259\n"
     ]
    },
    {
     "name": "stderr",
     "output_type": "stream",
     "text": [
      "Training Epoch 482: 100%|██████████| 261/261 [00:21<00:00, 12.26it/s]\n",
      "Training Epoch 483: 100%|██████████| 261/261 [15:32<00:00,  3.57s/it]  \n",
      "Training Epoch 484: 100%|██████████| 261/261 [00:20<00:00, 12.60it/s]\n",
      "Training Epoch 485: 100%|██████████| 261/261 [15:48<00:00,  3.63s/it]   \n",
      "Training Epoch 486: 100%|██████████| 261/261 [00:20<00:00, 12.80it/s]\n",
      "Training Epoch 487: 100%|██████████| 261/261 [16:48<00:00,  3.86s/it]   \n",
      "Training Epoch 488: 100%|██████████| 261/261 [00:20<00:00, 12.71it/s]\n",
      "Training Epoch 489: 100%|██████████| 261/261 [00:20<00:00, 12.70it/s]\n",
      "Training Epoch 490: 100%|██████████| 261/261 [02:29<00:00,  1.74it/s]\n",
      "Training Epoch 491: 100%|██████████| 261/261 [00:13<00:00, 18.89it/s]\n"
     ]
    },
    {
     "name": "stdout",
     "output_type": "stream",
     "text": [
      "Epoch 490 - Train Loss: 0.3793, Train MSE: 0.3793, Train MAE: 0.4573\n",
      "Epoch 490 - Validation Loss: 1.9940, Validation MSE: 1.9958, Validation MAE: 1.0368\n"
     ]
    },
    {
     "name": "stderr",
     "output_type": "stream",
     "text": [
      "Training Epoch 492: 100%|██████████| 261/261 [00:13<00:00, 19.48it/s]\n",
      "Training Epoch 493: 100%|██████████| 261/261 [00:14<00:00, 18.63it/s]\n",
      "Training Epoch 494: 100%|██████████| 261/261 [00:13<00:00, 19.10it/s]\n",
      "Training Epoch 495: 100%|██████████| 261/261 [00:13<00:00, 18.69it/s]\n",
      "Training Epoch 496: 100%|██████████| 261/261 [00:13<00:00, 18.73it/s]\n",
      "Training Epoch 497: 100%|██████████| 261/261 [00:14<00:00, 18.18it/s]\n",
      "Training Epoch 498: 100%|██████████| 261/261 [00:16<00:00, 15.82it/s]\n",
      "Training Epoch 499: 100%|██████████| 261/261 [00:13<00:00, 18.72it/s]\n",
      "Training Epoch 500: 100%|██████████| 261/261 [00:14<00:00, 17.65it/s]\n",
      "Training Epoch 501: 100%|██████████| 261/261 [00:14<00:00, 17.83it/s]\n"
     ]
    },
    {
     "name": "stdout",
     "output_type": "stream",
     "text": [
      "Epoch 500 - Train Loss: 0.3702, Train MSE: 0.3701, Train MAE: 0.4505\n",
      "Epoch 500 - Validation Loss: 1.9372, Validation MSE: 1.9390, Validation MAE: 1.0339\n"
     ]
    },
    {
     "name": "stderr",
     "output_type": "stream",
     "text": [
      "Training Epoch 502: 100%|██████████| 261/261 [00:14<00:00, 18.14it/s]\n",
      "Training Epoch 503: 100%|██████████| 261/261 [00:14<00:00, 18.37it/s]\n",
      "Training Epoch 504: 100%|██████████| 261/261 [00:14<00:00, 17.98it/s]\n",
      "Training Epoch 505: 100%|██████████| 261/261 [00:15<00:00, 17.22it/s]\n",
      "Training Epoch 506: 100%|██████████| 261/261 [00:13<00:00, 19.02it/s]\n",
      "Training Epoch 507: 100%|██████████| 261/261 [00:14<00:00, 18.46it/s]\n",
      "Training Epoch 508: 100%|██████████| 261/261 [00:14<00:00, 18.31it/s]\n",
      "Training Epoch 509: 100%|██████████| 261/261 [00:14<00:00, 18.57it/s]\n",
      "Training Epoch 510: 100%|██████████| 261/261 [00:15<00:00, 16.50it/s]\n",
      "Training Epoch 511: 100%|██████████| 261/261 [00:15<00:00, 16.88it/s]\n"
     ]
    },
    {
     "name": "stdout",
     "output_type": "stream",
     "text": [
      "Epoch 510 - Train Loss: 0.3643, Train MSE: 0.3643, Train MAE: 0.4513\n",
      "Epoch 510 - Validation Loss: 1.9732, Validation MSE: 1.9748, Validation MAE: 1.0335\n"
     ]
    },
    {
     "name": "stderr",
     "output_type": "stream",
     "text": [
      "Training Epoch 512: 100%|██████████| 261/261 [00:14<00:00, 18.10it/s]\n",
      "Training Epoch 513: 100%|██████████| 261/261 [00:14<00:00, 18.19it/s]\n",
      "Training Epoch 514: 100%|██████████| 261/261 [00:13<00:00, 18.79it/s]\n",
      "Training Epoch 515: 100%|██████████| 261/261 [00:13<00:00, 19.03it/s]\n",
      "Training Epoch 516: 100%|██████████| 261/261 [00:16<00:00, 16.30it/s]\n",
      "Training Epoch 517: 100%|██████████| 261/261 [00:14<00:00, 17.89it/s]\n",
      "Training Epoch 518: 100%|██████████| 261/261 [00:14<00:00, 18.01it/s]\n",
      "Training Epoch 519: 100%|██████████| 261/261 [00:13<00:00, 19.09it/s]\n",
      "Training Epoch 520: 100%|██████████| 261/261 [00:13<00:00, 19.03it/s]\n",
      "Training Epoch 521: 100%|██████████| 261/261 [00:13<00:00, 19.48it/s]\n"
     ]
    },
    {
     "name": "stdout",
     "output_type": "stream",
     "text": [
      "Epoch 520 - Train Loss: 0.3604, Train MSE: 0.3605, Train MAE: 0.4461\n",
      "Epoch 520 - Validation Loss: 2.0079, Validation MSE: 2.0096, Validation MAE: 1.0393\n"
     ]
    },
    {
     "name": "stderr",
     "output_type": "stream",
     "text": [
      "Training Epoch 522: 100%|██████████| 261/261 [00:13<00:00, 19.43it/s]\n",
      "Training Epoch 523: 100%|██████████| 261/261 [00:13<00:00, 19.80it/s]\n",
      "Training Epoch 524: 100%|██████████| 261/261 [00:13<00:00, 18.97it/s]\n",
      "Training Epoch 525: 100%|██████████| 261/261 [00:13<00:00, 19.03it/s]\n",
      "Training Epoch 526: 100%|██████████| 261/261 [00:13<00:00, 19.54it/s]\n",
      "Training Epoch 527: 100%|██████████| 261/261 [00:13<00:00, 18.71it/s]\n",
      "Training Epoch 528: 100%|██████████| 261/261 [00:15<00:00, 16.68it/s]\n",
      "Training Epoch 529: 100%|██████████| 261/261 [00:15<00:00, 16.98it/s]\n",
      "Training Epoch 530: 100%|██████████| 261/261 [00:14<00:00, 18.27it/s]\n",
      "Training Epoch 531: 100%|██████████| 261/261 [00:14<00:00, 18.50it/s]\n"
     ]
    },
    {
     "name": "stdout",
     "output_type": "stream",
     "text": [
      "Epoch 530 - Train Loss: 0.3861, Train MSE: 0.3861, Train MAE: 0.4611\n",
      "Epoch 530 - Validation Loss: 1.9595, Validation MSE: 1.9611, Validation MAE: 1.0268\n"
     ]
    },
    {
     "name": "stderr",
     "output_type": "stream",
     "text": [
      "Training Epoch 532: 100%|██████████| 261/261 [00:14<00:00, 18.37it/s]\n",
      "Training Epoch 533: 100%|██████████| 261/261 [00:14<00:00, 18.40it/s]\n",
      "Training Epoch 534: 100%|██████████| 261/261 [00:13<00:00, 18.76it/s]\n",
      "Training Epoch 535: 100%|██████████| 261/261 [00:14<00:00, 18.34it/s]\n",
      "Training Epoch 536: 100%|██████████| 261/261 [00:14<00:00, 18.34it/s]\n",
      "Training Epoch 537: 100%|██████████| 261/261 [00:13<00:00, 18.82it/s]\n",
      "Training Epoch 538: 100%|██████████| 261/261 [00:14<00:00, 18.40it/s]\n",
      "Training Epoch 539: 100%|██████████| 261/261 [00:14<00:00, 18.32it/s]\n",
      "Training Epoch 540: 100%|██████████| 261/261 [00:14<00:00, 18.24it/s]\n",
      "Training Epoch 541: 100%|██████████| 261/261 [00:14<00:00, 18.59it/s]\n"
     ]
    },
    {
     "name": "stdout",
     "output_type": "stream",
     "text": [
      "Epoch 540 - Train Loss: 0.3609, Train MSE: 0.3609, Train MAE: 0.4486\n",
      "Epoch 540 - Validation Loss: 1.9425, Validation MSE: 1.9442, Validation MAE: 1.0288\n"
     ]
    },
    {
     "name": "stderr",
     "output_type": "stream",
     "text": [
      "Training Epoch 542: 100%|██████████| 261/261 [00:14<00:00, 18.16it/s]\n",
      "Training Epoch 543: 100%|██████████| 261/261 [00:14<00:00, 18.26it/s]\n",
      "Training Epoch 544: 100%|██████████| 261/261 [00:13<00:00, 18.72it/s]\n",
      "Training Epoch 545: 100%|██████████| 261/261 [00:14<00:00, 18.44it/s]\n",
      "Training Epoch 546: 100%|██████████| 261/261 [00:14<00:00, 18.62it/s]\n",
      "Training Epoch 547: 100%|██████████| 261/261 [00:14<00:00, 17.42it/s]\n",
      "Training Epoch 548: 100%|██████████| 261/261 [00:13<00:00, 18.69it/s]\n",
      "Training Epoch 549: 100%|██████████| 261/261 [00:13<00:00, 18.78it/s]\n",
      "Training Epoch 550: 100%|██████████| 261/261 [00:13<00:00, 19.00it/s]\n",
      "Training Epoch 551: 100%|██████████| 261/261 [00:14<00:00, 18.44it/s]\n"
     ]
    },
    {
     "name": "stdout",
     "output_type": "stream",
     "text": [
      "Epoch 550 - Train Loss: 0.3595, Train MSE: 0.3595, Train MAE: 0.4464\n",
      "Epoch 550 - Validation Loss: 1.9476, Validation MSE: 1.9492, Validation MAE: 1.0274\n"
     ]
    },
    {
     "name": "stderr",
     "output_type": "stream",
     "text": [
      "Training Epoch 552: 100%|██████████| 261/261 [00:14<00:00, 18.55it/s]\n",
      "Training Epoch 553: 100%|██████████| 261/261 [00:13<00:00, 18.87it/s]\n",
      "Training Epoch 554: 100%|██████████| 261/261 [00:14<00:00, 18.61it/s]\n",
      "Training Epoch 555: 100%|██████████| 261/261 [00:14<00:00, 18.49it/s]\n",
      "Training Epoch 556: 100%|██████████| 261/261 [00:13<00:00, 18.88it/s]\n",
      "Training Epoch 557: 100%|██████████| 261/261 [00:13<00:00, 18.89it/s]\n",
      "Training Epoch 558: 100%|██████████| 261/261 [00:13<00:00, 18.96it/s]\n",
      "Training Epoch 559: 100%|██████████| 261/261 [00:14<00:00, 18.20it/s]\n",
      "Training Epoch 560: 100%|██████████| 261/261 [00:14<00:00, 18.45it/s]\n",
      "Training Epoch 561: 100%|██████████| 261/261 [00:13<00:00, 18.87it/s]\n"
     ]
    },
    {
     "name": "stdout",
     "output_type": "stream",
     "text": [
      "Epoch 560 - Train Loss: 0.3518, Train MSE: 0.3518, Train MAE: 0.4372\n",
      "Epoch 560 - Validation Loss: 1.9430, Validation MSE: 1.9447, Validation MAE: 1.0224\n"
     ]
    },
    {
     "name": "stderr",
     "output_type": "stream",
     "text": [
      "Training Epoch 562: 100%|██████████| 261/261 [00:13<00:00, 18.88it/s]\n",
      "Training Epoch 563: 100%|██████████| 261/261 [00:14<00:00, 18.17it/s]\n",
      "Training Epoch 564: 100%|██████████| 261/261 [00:14<00:00, 18.61it/s]\n",
      "Training Epoch 565: 100%|██████████| 261/261 [00:13<00:00, 18.72it/s]\n",
      "Training Epoch 566: 100%|██████████| 261/261 [00:13<00:00, 18.82it/s]\n",
      "Training Epoch 567: 100%|██████████| 261/261 [00:14<00:00, 18.54it/s]\n",
      "Training Epoch 568: 100%|██████████| 261/261 [00:13<00:00, 18.73it/s]\n",
      "Training Epoch 569: 100%|██████████| 261/261 [00:13<00:00, 18.83it/s]\n",
      "Training Epoch 570: 100%|██████████| 261/261 [00:14<00:00, 18.49it/s]\n",
      "Training Epoch 571: 100%|██████████| 261/261 [00:14<00:00, 18.55it/s]\n"
     ]
    },
    {
     "name": "stdout",
     "output_type": "stream",
     "text": [
      "Epoch 570 - Train Loss: 0.3529, Train MSE: 0.3529, Train MAE: 0.4359\n",
      "Epoch 570 - Validation Loss: 1.9655, Validation MSE: 1.9670, Validation MAE: 1.0305\n"
     ]
    },
    {
     "name": "stderr",
     "output_type": "stream",
     "text": [
      "Training Epoch 572: 100%|██████████| 261/261 [00:14<00:00, 18.63it/s]\n",
      "Training Epoch 573: 100%|██████████| 261/261 [00:14<00:00, 18.61it/s]\n",
      "Training Epoch 574: 100%|██████████| 261/261 [00:14<00:00, 18.52it/s]\n",
      "Training Epoch 575: 100%|██████████| 261/261 [00:13<00:00, 18.72it/s]\n",
      "Training Epoch 576: 100%|██████████| 261/261 [00:14<00:00, 18.52it/s]\n",
      "Training Epoch 577: 100%|██████████| 261/261 [00:13<00:00, 18.75it/s]\n",
      "Training Epoch 578: 100%|██████████| 261/261 [00:14<00:00, 18.53it/s]\n",
      "Training Epoch 579: 100%|██████████| 261/261 [00:13<00:00, 18.76it/s]\n",
      "Training Epoch 580: 100%|██████████| 261/261 [00:13<00:00, 18.78it/s]\n",
      "Training Epoch 581: 100%|██████████| 261/261 [00:14<00:00, 18.57it/s]\n"
     ]
    },
    {
     "name": "stdout",
     "output_type": "stream",
     "text": [
      "Epoch 580 - Train Loss: 0.3559, Train MSE: 0.3559, Train MAE: 0.4428\n",
      "Epoch 580 - Validation Loss: 1.8876, Validation MSE: 1.8893, Validation MAE: 1.0124\n"
     ]
    },
    {
     "name": "stderr",
     "output_type": "stream",
     "text": [
      "Training Epoch 582: 100%|██████████| 261/261 [00:14<00:00, 18.29it/s]\n",
      "Training Epoch 583: 100%|██████████| 261/261 [00:13<00:00, 18.65it/s]\n",
      "Training Epoch 584: 100%|██████████| 261/261 [00:14<00:00, 18.45it/s]\n",
      "Training Epoch 585: 100%|██████████| 261/261 [00:14<00:00, 18.50it/s]\n",
      "Training Epoch 586: 100%|██████████| 261/261 [00:14<00:00, 18.25it/s]\n",
      "Training Epoch 587: 100%|██████████| 261/261 [00:14<00:00, 18.58it/s]\n",
      "Training Epoch 588: 100%|██████████| 261/261 [00:13<00:00, 18.74it/s]\n",
      "Training Epoch 589: 100%|██████████| 261/261 [00:13<00:00, 18.99it/s]\n",
      "Training Epoch 590: 100%|██████████| 261/261 [00:14<00:00, 18.35it/s]\n",
      "Training Epoch 591: 100%|██████████| 261/261 [00:13<00:00, 18.71it/s]\n"
     ]
    },
    {
     "name": "stdout",
     "output_type": "stream",
     "text": [
      "Epoch 590 - Train Loss: 0.3513, Train MSE: 0.3513, Train MAE: 0.4372\n",
      "Epoch 590 - Validation Loss: 1.9114, Validation MSE: 1.9131, Validation MAE: 1.0150\n"
     ]
    },
    {
     "name": "stderr",
     "output_type": "stream",
     "text": [
      "Training Epoch 592: 100%|██████████| 261/261 [00:13<00:00, 18.84it/s]\n",
      "Training Epoch 593: 100%|██████████| 261/261 [00:13<00:00, 18.65it/s]\n",
      "Training Epoch 594: 100%|██████████| 261/261 [00:14<00:00, 18.42it/s]\n",
      "Training Epoch 595: 100%|██████████| 261/261 [00:14<00:00, 18.40it/s]\n",
      "Training Epoch 596: 100%|██████████| 261/261 [00:13<00:00, 18.79it/s]\n",
      "Training Epoch 597: 100%|██████████| 261/261 [00:13<00:00, 18.69it/s]\n",
      "Training Epoch 598: 100%|██████████| 261/261 [00:14<00:00, 18.58it/s]\n",
      "Training Epoch 599: 100%|██████████| 261/261 [00:13<00:00, 18.82it/s]\n",
      "Training Epoch 600: 100%|██████████| 261/261 [00:14<00:00, 18.60it/s]\n",
      "Training Epoch 601: 100%|██████████| 261/261 [00:13<00:00, 18.89it/s]\n"
     ]
    },
    {
     "name": "stdout",
     "output_type": "stream",
     "text": [
      "Epoch 600 - Train Loss: 0.3344, Train MSE: 0.3345, Train MAE: 0.4305\n",
      "Epoch 600 - Validation Loss: 1.9940, Validation MSE: 1.9958, Validation MAE: 1.0336\n"
     ]
    },
    {
     "name": "stderr",
     "output_type": "stream",
     "text": [
      "Training Epoch 602: 100%|██████████| 261/261 [00:14<00:00, 18.05it/s]\n",
      "Training Epoch 603: 100%|██████████| 261/261 [00:14<00:00, 18.61it/s]\n",
      "Training Epoch 604: 100%|██████████| 261/261 [00:13<00:00, 18.66it/s]\n",
      "Training Epoch 605: 100%|██████████| 261/261 [00:13<00:00, 18.80it/s]\n",
      "Training Epoch 606: 100%|██████████| 261/261 [00:14<00:00, 17.89it/s]\n",
      "Training Epoch 607: 100%|██████████| 261/261 [00:14<00:00, 18.60it/s]\n",
      "Training Epoch 608: 100%|██████████| 261/261 [00:13<00:00, 18.90it/s]\n",
      "Training Epoch 609: 100%|██████████| 261/261 [00:14<00:00, 18.55it/s]\n",
      "Training Epoch 610: 100%|██████████| 261/261 [00:14<00:00, 18.02it/s]\n",
      "Training Epoch 611: 100%|██████████| 261/261 [00:13<00:00, 18.74it/s]\n"
     ]
    },
    {
     "name": "stdout",
     "output_type": "stream",
     "text": [
      "Epoch 610 - Train Loss: 0.3431, Train MSE: 0.3431, Train MAE: 0.4341\n",
      "Epoch 610 - Validation Loss: 2.1403, Validation MSE: 2.1420, Validation MAE: 1.0835\n"
     ]
    },
    {
     "name": "stderr",
     "output_type": "stream",
     "text": [
      "Training Epoch 612: 100%|██████████| 261/261 [00:13<00:00, 18.91it/s]\n",
      "Training Epoch 613: 100%|██████████| 261/261 [00:14<00:00, 18.39it/s]\n",
      "Training Epoch 614: 100%|██████████| 261/261 [00:13<00:00, 18.64it/s]\n",
      "Training Epoch 615: 100%|██████████| 261/261 [00:14<00:00, 18.47it/s]\n",
      "Training Epoch 616: 100%|██████████| 261/261 [00:13<00:00, 18.98it/s]\n",
      "Training Epoch 617: 100%|██████████| 261/261 [00:14<00:00, 18.40it/s]\n",
      "Training Epoch 618: 100%|██████████| 261/261 [00:13<00:00, 18.66it/s]\n",
      "Training Epoch 619: 100%|██████████| 261/261 [00:14<00:00, 18.48it/s]\n",
      "Training Epoch 620: 100%|██████████| 261/261 [00:13<00:00, 18.72it/s]\n",
      "Training Epoch 621: 100%|██████████| 261/261 [00:14<00:00, 18.40it/s]\n"
     ]
    },
    {
     "name": "stdout",
     "output_type": "stream",
     "text": [
      "Epoch 620 - Train Loss: 0.3638, Train MSE: 0.3638, Train MAE: 0.4450\n",
      "Epoch 620 - Validation Loss: 1.9951, Validation MSE: 1.9968, Validation MAE: 1.0363\n"
     ]
    },
    {
     "name": "stderr",
     "output_type": "stream",
     "text": [
      "Training Epoch 622: 100%|██████████| 261/261 [00:13<00:00, 18.83it/s]\n",
      "Training Epoch 623: 100%|██████████| 261/261 [00:14<00:00, 18.51it/s]\n",
      "Training Epoch 624: 100%|██████████| 261/261 [00:13<00:00, 18.98it/s]\n",
      "Training Epoch 625: 100%|██████████| 261/261 [00:14<00:00, 18.39it/s]\n",
      "Training Epoch 626: 100%|██████████| 261/261 [00:14<00:00, 18.60it/s]\n",
      "Training Epoch 627: 100%|██████████| 261/261 [00:13<00:00, 18.72it/s]\n",
      "Training Epoch 628: 100%|██████████| 261/261 [00:13<00:00, 18.69it/s]\n",
      "Training Epoch 629: 100%|██████████| 261/261 [00:14<00:00, 18.46it/s]\n",
      "Training Epoch 630: 100%|██████████| 261/261 [00:14<00:00, 18.64it/s]\n",
      "Training Epoch 631: 100%|██████████| 261/261 [00:13<00:00, 18.84it/s]\n"
     ]
    },
    {
     "name": "stdout",
     "output_type": "stream",
     "text": [
      "Epoch 630 - Train Loss: 0.3355, Train MSE: 0.3355, Train MAE: 0.4323\n",
      "Epoch 630 - Validation Loss: 1.9296, Validation MSE: 1.9313, Validation MAE: 1.0241\n"
     ]
    },
    {
     "name": "stderr",
     "output_type": "stream",
     "text": [
      "Training Epoch 632: 100%|██████████| 261/261 [00:13<00:00, 18.91it/s]\n",
      "Training Epoch 633: 100%|██████████| 261/261 [00:14<00:00, 18.42it/s]\n",
      "Training Epoch 634: 100%|██████████| 261/261 [00:14<00:00, 18.58it/s]\n",
      "Training Epoch 635: 100%|██████████| 261/261 [00:13<00:00, 18.73it/s]\n",
      "Training Epoch 636: 100%|██████████| 261/261 [00:13<00:00, 18.85it/s]\n",
      "Training Epoch 637: 100%|██████████| 261/261 [00:14<00:00, 18.32it/s]\n",
      "Training Epoch 638: 100%|██████████| 261/261 [00:13<00:00, 18.69it/s]\n",
      "Training Epoch 639: 100%|██████████| 261/261 [00:13<00:00, 18.80it/s]\n",
      "Training Epoch 640: 100%|██████████| 261/261 [00:13<00:00, 18.77it/s]\n",
      "Training Epoch 641: 100%|██████████| 261/261 [00:14<00:00, 18.26it/s]\n"
     ]
    },
    {
     "name": "stdout",
     "output_type": "stream",
     "text": [
      "Epoch 640 - Train Loss: 0.3387, Train MSE: 0.3387, Train MAE: 0.4280\n",
      "Epoch 640 - Validation Loss: 1.9484, Validation MSE: 1.9501, Validation MAE: 1.0236\n"
     ]
    },
    {
     "name": "stderr",
     "output_type": "stream",
     "text": [
      "Training Epoch 642: 100%|██████████| 261/261 [00:13<00:00, 18.92it/s]\n",
      "Training Epoch 643: 100%|██████████| 261/261 [00:13<00:00, 18.68it/s]\n",
      "Training Epoch 644: 100%|██████████| 261/261 [00:14<00:00, 18.58it/s]\n",
      "Training Epoch 645: 100%|██████████| 261/261 [00:14<00:00, 18.29it/s]\n",
      "Training Epoch 646: 100%|██████████| 261/261 [00:13<00:00, 18.67it/s]\n",
      "Training Epoch 647: 100%|██████████| 261/261 [00:14<00:00, 18.50it/s]\n",
      "Training Epoch 648: 100%|██████████| 261/261 [00:13<00:00, 18.78it/s]\n",
      "Training Epoch 649: 100%|██████████| 261/261 [00:14<00:00, 18.31it/s]\n",
      "Training Epoch 650: 100%|██████████| 261/261 [00:14<00:00, 18.55it/s]\n",
      "Training Epoch 651: 100%|██████████| 261/261 [00:13<00:00, 18.65it/s]\n"
     ]
    },
    {
     "name": "stdout",
     "output_type": "stream",
     "text": [
      "Epoch 650 - Train Loss: 0.3330, Train MSE: 0.3330, Train MAE: 0.4287\n",
      "Epoch 650 - Validation Loss: 1.9806, Validation MSE: 1.9824, Validation MAE: 1.0371\n"
     ]
    },
    {
     "name": "stderr",
     "output_type": "stream",
     "text": [
      "Training Epoch 652: 100%|██████████| 261/261 [00:14<00:00, 18.39it/s]\n",
      "Training Epoch 653: 100%|██████████| 261/261 [00:14<00:00, 18.49it/s]\n",
      "Training Epoch 654: 100%|██████████| 261/261 [00:13<00:00, 18.93it/s]\n",
      "Training Epoch 655: 100%|██████████| 261/261 [00:13<00:00, 18.95it/s]\n",
      "Training Epoch 656: 100%|██████████| 261/261 [00:14<00:00, 18.42it/s]\n",
      "Training Epoch 657: 100%|██████████| 261/261 [00:14<00:00, 18.59it/s]\n",
      "Training Epoch 658: 100%|██████████| 261/261 [00:13<00:00, 18.94it/s]\n",
      "Training Epoch 659: 100%|██████████| 261/261 [00:14<00:00, 18.55it/s]\n",
      "Training Epoch 660: 100%|██████████| 261/261 [00:14<00:00, 18.59it/s]\n",
      "Training Epoch 661: 100%|██████████| 261/261 [00:14<00:00, 18.63it/s]\n"
     ]
    },
    {
     "name": "stdout",
     "output_type": "stream",
     "text": [
      "Epoch 660 - Train Loss: 0.3526, Train MSE: 0.3526, Train MAE: 0.4374\n",
      "Epoch 660 - Validation Loss: 1.9081, Validation MSE: 1.9098, Validation MAE: 1.0196\n"
     ]
    },
    {
     "name": "stderr",
     "output_type": "stream",
     "text": [
      "Training Epoch 662: 100%|██████████| 261/261 [00:13<00:00, 18.67it/s]\n",
      "Training Epoch 663: 100%|██████████| 261/261 [00:13<00:00, 18.83it/s]\n",
      "Training Epoch 664: 100%|██████████| 261/261 [00:14<00:00, 18.58it/s]\n",
      "Training Epoch 665: 100%|██████████| 261/261 [00:13<00:00, 18.94it/s]\n",
      "Training Epoch 666: 100%|██████████| 261/261 [00:14<00:00, 18.57it/s]\n",
      "Training Epoch 667: 100%|██████████| 261/261 [00:14<00:00, 18.58it/s]\n",
      "Training Epoch 668: 100%|██████████| 261/261 [00:14<00:00, 18.48it/s]\n",
      "Training Epoch 669: 100%|██████████| 261/261 [00:13<00:00, 18.67it/s]\n",
      "Training Epoch 670: 100%|██████████| 261/261 [00:14<00:00, 18.55it/s]\n",
      "Training Epoch 671: 100%|██████████| 261/261 [00:14<00:00, 18.63it/s]\n"
     ]
    },
    {
     "name": "stdout",
     "output_type": "stream",
     "text": [
      "Epoch 670 - Train Loss: 0.3287, Train MSE: 0.3287, Train MAE: 0.4277\n",
      "Epoch 670 - Validation Loss: 1.9516, Validation MSE: 1.9532, Validation MAE: 1.0269\n"
     ]
    },
    {
     "name": "stderr",
     "output_type": "stream",
     "text": [
      "Training Epoch 672: 100%|██████████| 261/261 [00:14<00:00, 18.47it/s]\n",
      "Training Epoch 673: 100%|██████████| 261/261 [00:13<00:00, 18.69it/s]\n",
      "Training Epoch 674: 100%|██████████| 261/261 [00:13<00:00, 18.74it/s]\n",
      "Training Epoch 675: 100%|██████████| 261/261 [00:14<00:00, 18.64it/s]\n",
      "Training Epoch 676: 100%|██████████| 261/261 [00:14<00:00, 18.60it/s]\n",
      "Training Epoch 677: 100%|██████████| 261/261 [00:14<00:00, 18.52it/s]\n",
      "Training Epoch 678: 100%|██████████| 261/261 [00:13<00:00, 18.84it/s]\n",
      "Training Epoch 679: 100%|██████████| 261/261 [00:13<00:00, 18.80it/s]\n",
      "Training Epoch 680: 100%|██████████| 261/261 [00:14<00:00, 18.42it/s]\n",
      "Training Epoch 681: 100%|██████████| 261/261 [00:14<00:00, 18.58it/s]\n"
     ]
    },
    {
     "name": "stdout",
     "output_type": "stream",
     "text": [
      "Epoch 680 - Train Loss: 0.3324, Train MSE: 0.3324, Train MAE: 0.4243\n",
      "Epoch 680 - Validation Loss: 1.9740, Validation MSE: 1.9757, Validation MAE: 1.0305\n"
     ]
    },
    {
     "name": "stderr",
     "output_type": "stream",
     "text": [
      "Training Epoch 682: 100%|██████████| 261/261 [00:14<00:00, 18.38it/s]\n",
      "Training Epoch 683: 100%|██████████| 261/261 [00:14<00:00, 18.35it/s]\n",
      "Training Epoch 684: 100%|██████████| 261/261 [00:15<00:00, 16.95it/s]\n",
      "Training Epoch 685: 100%|██████████| 261/261 [00:14<00:00, 18.49it/s]\n",
      "Training Epoch 686: 100%|██████████| 261/261 [00:14<00:00, 18.26it/s]\n",
      "Training Epoch 687: 100%|██████████| 261/261 [00:14<00:00, 18.40it/s]\n",
      "Training Epoch 688: 100%|██████████| 261/261 [00:14<00:00, 18.38it/s]\n",
      "Training Epoch 689: 100%|██████████| 261/261 [00:14<00:00, 18.49it/s]\n",
      "Training Epoch 690: 100%|██████████| 261/261 [00:14<00:00, 18.52it/s]\n",
      "Training Epoch 691: 100%|██████████| 261/261 [00:14<00:00, 17.96it/s]\n"
     ]
    },
    {
     "name": "stdout",
     "output_type": "stream",
     "text": [
      "Epoch 690 - Train Loss: 0.3247, Train MSE: 0.3247, Train MAE: 0.4172\n",
      "Epoch 690 - Validation Loss: 2.0216, Validation MSE: 2.0232, Validation MAE: 1.0425\n"
     ]
    },
    {
     "name": "stderr",
     "output_type": "stream",
     "text": [
      "Training Epoch 692: 100%|██████████| 261/261 [00:14<00:00, 18.09it/s]\n",
      "Training Epoch 693: 100%|██████████| 261/261 [00:13<00:00, 18.70it/s]\n",
      "Training Epoch 694: 100%|██████████| 261/261 [00:14<00:00, 18.54it/s]\n",
      "Training Epoch 695: 100%|██████████| 261/261 [00:14<00:00, 18.26it/s]\n",
      "Training Epoch 696: 100%|██████████| 261/261 [00:14<00:00, 18.32it/s]\n",
      "Training Epoch 697: 100%|██████████| 261/261 [00:13<00:00, 18.71it/s]\n",
      "Training Epoch 698: 100%|██████████| 261/261 [00:14<00:00, 18.62it/s]\n",
      "Training Epoch 699: 100%|██████████| 261/261 [00:14<00:00, 18.50it/s]\n",
      "Training Epoch 700: 100%|██████████| 261/261 [00:14<00:00, 18.51it/s]\n",
      "Training Epoch 701: 100%|██████████| 261/261 [00:13<00:00, 18.84it/s]\n"
     ]
    },
    {
     "name": "stdout",
     "output_type": "stream",
     "text": [
      "Epoch 700 - Train Loss: 0.3267, Train MSE: 0.3268, Train MAE: 0.4200\n",
      "Epoch 700 - Validation Loss: 1.9563, Validation MSE: 1.9578, Validation MAE: 1.0297\n"
     ]
    },
    {
     "name": "stderr",
     "output_type": "stream",
     "text": [
      "Training Epoch 702: 100%|██████████| 261/261 [00:14<00:00, 18.40it/s]\n",
      "Training Epoch 703: 100%|██████████| 261/261 [00:14<00:00, 18.44it/s]\n",
      "Training Epoch 704: 100%|██████████| 261/261 [00:14<00:00, 18.24it/s]\n",
      "Training Epoch 705: 100%|██████████| 261/261 [00:14<00:00, 18.58it/s]\n",
      "Training Epoch 706: 100%|██████████| 261/261 [00:14<00:00, 18.47it/s]\n",
      "Training Epoch 707: 100%|██████████| 261/261 [00:14<00:00, 18.22it/s]\n",
      "Training Epoch 708: 100%|██████████| 261/261 [00:14<00:00, 18.27it/s]\n",
      "Training Epoch 709: 100%|██████████| 261/261 [00:14<00:00, 18.51it/s]\n",
      "Training Epoch 710: 100%|██████████| 261/261 [00:14<00:00, 18.37it/s]\n",
      "Training Epoch 711: 100%|██████████| 261/261 [00:14<00:00, 18.20it/s]\n"
     ]
    },
    {
     "name": "stdout",
     "output_type": "stream",
     "text": [
      "Epoch 710 - Train Loss: 0.3252, Train MSE: 0.3251, Train MAE: 0.4206\n",
      "Epoch 710 - Validation Loss: 1.9447, Validation MSE: 1.9462, Validation MAE: 1.0252\n"
     ]
    },
    {
     "name": "stderr",
     "output_type": "stream",
     "text": [
      "Training Epoch 712: 100%|██████████| 261/261 [00:14<00:00, 18.41it/s]\n",
      "Training Epoch 713: 100%|██████████| 261/261 [00:14<00:00, 18.64it/s]\n",
      "Training Epoch 714: 100%|██████████| 261/261 [00:13<00:00, 18.65it/s]\n",
      "Training Epoch 715: 100%|██████████| 261/261 [00:14<00:00, 18.01it/s]\n",
      "Training Epoch 716: 100%|██████████| 261/261 [00:14<00:00, 18.45it/s]\n",
      "Training Epoch 717: 100%|██████████| 261/261 [00:14<00:00, 18.63it/s]\n",
      "Training Epoch 718: 100%|██████████| 261/261 [00:14<00:00, 18.64it/s]\n",
      "Training Epoch 719: 100%|██████████| 261/261 [00:14<00:00, 18.38it/s]\n",
      "Training Epoch 720: 100%|██████████| 261/261 [00:14<00:00, 18.34it/s]\n",
      "Training Epoch 721: 100%|██████████| 261/261 [00:14<00:00, 18.58it/s]\n"
     ]
    },
    {
     "name": "stdout",
     "output_type": "stream",
     "text": [
      "Epoch 720 - Train Loss: 0.3174, Train MSE: 0.3174, Train MAE: 0.4118\n",
      "Epoch 720 - Validation Loss: 1.9274, Validation MSE: 1.9291, Validation MAE: 1.0242\n"
     ]
    },
    {
     "name": "stderr",
     "output_type": "stream",
     "text": [
      "Training Epoch 722: 100%|██████████| 261/261 [00:14<00:00, 18.02it/s]\n",
      "Training Epoch 723: 100%|██████████| 261/261 [00:14<00:00, 18.00it/s]\n",
      "Training Epoch 724: 100%|██████████| 261/261 [00:14<00:00, 18.18it/s]\n",
      "Training Epoch 725: 100%|██████████| 261/261 [00:14<00:00, 18.60it/s]\n",
      "Training Epoch 726: 100%|██████████| 261/261 [00:14<00:00, 17.84it/s]\n",
      "Training Epoch 727: 100%|██████████| 261/261 [00:14<00:00, 18.47it/s]\n",
      "Training Epoch 728: 100%|██████████| 261/261 [00:14<00:00, 18.43it/s]\n",
      "Training Epoch 729: 100%|██████████| 261/261 [00:14<00:00, 18.54it/s]\n",
      "Training Epoch 730: 100%|██████████| 261/261 [00:14<00:00, 18.42it/s]\n",
      "Training Epoch 731: 100%|██████████| 261/261 [00:14<00:00, 18.08it/s]\n"
     ]
    },
    {
     "name": "stdout",
     "output_type": "stream",
     "text": [
      "Epoch 730 - Train Loss: 0.3293, Train MSE: 0.3293, Train MAE: 0.4219\n",
      "Epoch 730 - Validation Loss: 1.9244, Validation MSE: 1.9262, Validation MAE: 1.0255\n"
     ]
    },
    {
     "name": "stderr",
     "output_type": "stream",
     "text": [
      "Training Epoch 732: 100%|██████████| 261/261 [00:14<00:00, 18.59it/s]\n",
      "Training Epoch 733: 100%|██████████| 261/261 [00:14<00:00, 18.35it/s]\n",
      "Training Epoch 734: 100%|██████████| 261/261 [00:14<00:00, 18.27it/s]\n",
      "Training Epoch 735: 100%|██████████| 261/261 [00:14<00:00, 18.12it/s]\n",
      "Training Epoch 736: 100%|██████████| 261/261 [00:14<00:00, 18.50it/s]\n",
      "Training Epoch 737: 100%|██████████| 261/261 [00:14<00:00, 18.35it/s]\n",
      "Training Epoch 738: 100%|██████████| 261/261 [00:14<00:00, 17.60it/s]\n",
      "Training Epoch 739: 100%|██████████| 261/261 [00:14<00:00, 18.55it/s]\n",
      "Training Epoch 740: 100%|██████████| 261/261 [00:14<00:00, 18.60it/s]\n",
      "Training Epoch 741: 100%|██████████| 261/261 [00:13<00:00, 18.81it/s]\n"
     ]
    },
    {
     "name": "stdout",
     "output_type": "stream",
     "text": [
      "Epoch 740 - Train Loss: 0.3145, Train MSE: 0.3145, Train MAE: 0.4145\n",
      "Epoch 740 - Validation Loss: 1.9375, Validation MSE: 1.9390, Validation MAE: 1.0227\n"
     ]
    },
    {
     "name": "stderr",
     "output_type": "stream",
     "text": [
      "Training Epoch 742: 100%|██████████| 261/261 [00:14<00:00, 18.17it/s]\n",
      "Training Epoch 743: 100%|██████████| 261/261 [00:13<00:00, 18.80it/s]\n",
      "Training Epoch 744: 100%|██████████| 261/261 [00:14<00:00, 18.46it/s]\n",
      "Training Epoch 745: 100%|██████████| 261/261 [00:14<00:00, 18.43it/s]\n",
      "Training Epoch 746: 100%|██████████| 261/261 [00:13<00:00, 18.66it/s]\n",
      "Training Epoch 747: 100%|██████████| 261/261 [00:14<00:00, 18.37it/s]\n",
      "Training Epoch 748: 100%|██████████| 261/261 [00:13<00:00, 18.71it/s]\n",
      "Training Epoch 749: 100%|██████████| 261/261 [00:14<00:00, 18.60it/s]\n",
      "Training Epoch 750: 100%|██████████| 261/261 [00:14<00:00, 18.58it/s]\n",
      "Training Epoch 751: 100%|██████████| 261/261 [00:13<00:00, 18.73it/s]\n"
     ]
    },
    {
     "name": "stdout",
     "output_type": "stream",
     "text": [
      "Epoch 750 - Train Loss: 0.3199, Train MSE: 0.3199, Train MAE: 0.4149\n",
      "Epoch 750 - Validation Loss: 1.9776, Validation MSE: 1.9794, Validation MAE: 1.0293\n"
     ]
    },
    {
     "name": "stderr",
     "output_type": "stream",
     "text": [
      "Training Epoch 752: 100%|██████████| 261/261 [00:13<00:00, 18.80it/s]\n",
      "Training Epoch 753: 100%|██████████| 261/261 [00:14<00:00, 18.30it/s]\n",
      "Training Epoch 754: 100%|██████████| 261/261 [00:14<00:00, 18.41it/s]\n",
      "Training Epoch 755: 100%|██████████| 261/261 [00:14<00:00, 18.59it/s]\n",
      "Training Epoch 756: 100%|██████████| 261/261 [00:14<00:00, 18.48it/s]\n",
      "Training Epoch 757: 100%|██████████| 261/261 [00:14<00:00, 18.06it/s]\n",
      "Training Epoch 758: 100%|██████████| 261/261 [00:14<00:00, 18.47it/s]\n",
      "Training Epoch 759: 100%|██████████| 261/261 [00:13<00:00, 18.90it/s]\n",
      "Training Epoch 760: 100%|██████████| 261/261 [00:14<00:00, 18.53it/s]\n",
      "Training Epoch 761: 100%|██████████| 261/261 [00:14<00:00, 18.31it/s]\n"
     ]
    },
    {
     "name": "stdout",
     "output_type": "stream",
     "text": [
      "Epoch 760 - Train Loss: 0.3279, Train MSE: 0.3279, Train MAE: 0.4205\n",
      "Epoch 760 - Validation Loss: 1.9132, Validation MSE: 1.9150, Validation MAE: 1.0185\n"
     ]
    },
    {
     "name": "stderr",
     "output_type": "stream",
     "text": [
      "Training Epoch 762: 100%|██████████| 261/261 [00:13<00:00, 18.67it/s]\n",
      "Training Epoch 763: 100%|██████████| 261/261 [00:13<00:00, 18.65it/s]\n",
      "Training Epoch 764: 100%|██████████| 261/261 [00:14<00:00, 18.57it/s]\n",
      "Training Epoch 765: 100%|██████████| 261/261 [00:14<00:00, 18.07it/s]\n",
      "Training Epoch 766: 100%|██████████| 261/261 [00:14<00:00, 18.45it/s]\n",
      "Training Epoch 767: 100%|██████████| 261/261 [00:14<00:00, 18.54it/s]\n",
      "Training Epoch 768: 100%|██████████| 261/261 [00:13<00:00, 18.69it/s]\n",
      "Training Epoch 769: 100%|██████████| 261/261 [00:14<00:00, 17.91it/s]\n",
      "Training Epoch 770: 100%|██████████| 261/261 [00:14<00:00, 18.55it/s]\n",
      "Training Epoch 771: 100%|██████████| 261/261 [00:13<00:00, 18.71it/s]\n"
     ]
    },
    {
     "name": "stdout",
     "output_type": "stream",
     "text": [
      "Epoch 770 - Train Loss: 0.3061, Train MSE: 0.3061, Train MAE: 0.4093\n",
      "Epoch 770 - Validation Loss: 1.8824, Validation MSE: 1.8839, Validation MAE: 1.0125\n"
     ]
    },
    {
     "name": "stderr",
     "output_type": "stream",
     "text": [
      "Training Epoch 772: 100%|██████████| 261/261 [00:13<00:00, 18.71it/s]\n",
      "Training Epoch 773: 100%|██████████| 261/261 [00:14<00:00, 17.98it/s]\n",
      "Training Epoch 774: 100%|██████████| 261/261 [00:14<00:00, 18.61it/s]\n",
      "Training Epoch 775: 100%|██████████| 261/261 [00:13<00:00, 18.69it/s]\n",
      "Training Epoch 776: 100%|██████████| 261/261 [00:14<00:00, 18.38it/s]\n",
      "Training Epoch 777: 100%|██████████| 261/261 [00:14<00:00, 18.22it/s]\n",
      "Training Epoch 778: 100%|██████████| 261/261 [00:13<00:00, 18.80it/s]\n",
      "Training Epoch 779: 100%|██████████| 261/261 [00:13<00:00, 18.93it/s]\n",
      "Training Epoch 780: 100%|██████████| 261/261 [00:14<00:00, 18.53it/s]\n",
      "Training Epoch 781: 100%|██████████| 261/261 [00:14<00:00, 18.20it/s]\n"
     ]
    },
    {
     "name": "stdout",
     "output_type": "stream",
     "text": [
      "Epoch 780 - Train Loss: 0.3209, Train MSE: 0.3208, Train MAE: 0.4167\n",
      "Epoch 780 - Validation Loss: 2.0400, Validation MSE: 2.0415, Validation MAE: 1.0433\n"
     ]
    },
    {
     "name": "stderr",
     "output_type": "stream",
     "text": [
      "Training Epoch 782: 100%|██████████| 261/261 [00:13<00:00, 18.78it/s]\n",
      "Training Epoch 783: 100%|██████████| 261/261 [00:13<00:00, 18.81it/s]\n",
      "Training Epoch 784: 100%|██████████| 261/261 [00:14<00:00, 18.18it/s]\n",
      "Training Epoch 785: 100%|██████████| 261/261 [00:14<00:00, 18.38it/s]\n",
      "Training Epoch 786: 100%|██████████| 261/261 [00:12<00:00, 20.62it/s]\n",
      "Training Epoch 787: 100%|██████████| 261/261 [00:12<00:00, 21.36it/s]\n",
      "Training Epoch 788: 100%|██████████| 261/261 [00:12<00:00, 21.46it/s]\n",
      "Training Epoch 789: 100%|██████████| 261/261 [00:12<00:00, 21.12it/s]\n",
      "Training Epoch 790: 100%|██████████| 261/261 [00:12<00:00, 21.62it/s]\n",
      "Training Epoch 791: 100%|██████████| 261/261 [00:12<00:00, 21.66it/s]\n"
     ]
    },
    {
     "name": "stdout",
     "output_type": "stream",
     "text": [
      "Epoch 790 - Train Loss: 0.3239, Train MSE: 0.3239, Train MAE: 0.4214\n",
      "Epoch 790 - Validation Loss: 1.9169, Validation MSE: 1.9185, Validation MAE: 1.0147\n"
     ]
    },
    {
     "name": "stderr",
     "output_type": "stream",
     "text": [
      "Training Epoch 792: 100%|██████████| 261/261 [00:12<00:00, 21.40it/s]\n",
      "Training Epoch 793: 100%|██████████| 261/261 [00:12<00:00, 20.82it/s]\n",
      "Training Epoch 794: 100%|██████████| 261/261 [00:11<00:00, 22.04it/s]\n",
      "Training Epoch 795: 100%|██████████| 261/261 [00:11<00:00, 22.88it/s]\n",
      "Training Epoch 796: 100%|██████████| 261/261 [00:11<00:00, 22.96it/s]\n",
      "Training Epoch 797: 100%|██████████| 261/261 [00:11<00:00, 22.82it/s]\n",
      "Training Epoch 798: 100%|██████████| 261/261 [00:11<00:00, 22.03it/s]\n",
      "Training Epoch 799: 100%|██████████| 261/261 [00:11<00:00, 22.65it/s]\n",
      "Training Epoch 800: 100%|██████████| 261/261 [00:11<00:00, 22.63it/s]\n",
      "Training Epoch 801: 100%|██████████| 261/261 [00:11<00:00, 23.00it/s]\n"
     ]
    },
    {
     "name": "stdout",
     "output_type": "stream",
     "text": [
      "Epoch 800 - Train Loss: 0.3221, Train MSE: 0.3220, Train MAE: 0.4171\n",
      "Epoch 800 - Validation Loss: 1.9002, Validation MSE: 1.9021, Validation MAE: 1.0149\n"
     ]
    },
    {
     "name": "stderr",
     "output_type": "stream",
     "text": [
      "Training Epoch 802: 100%|██████████| 261/261 [00:11<00:00, 22.37it/s]\n",
      "Training Epoch 803: 100%|██████████| 261/261 [00:11<00:00, 22.22it/s]\n",
      "Training Epoch 804: 100%|██████████| 261/261 [00:11<00:00, 22.76it/s]\n",
      "Training Epoch 805: 100%|██████████| 261/261 [00:11<00:00, 22.80it/s]\n",
      "Training Epoch 806: 100%|██████████| 261/261 [00:11<00:00, 22.68it/s]\n",
      "Training Epoch 807: 100%|██████████| 261/261 [00:11<00:00, 22.39it/s]\n",
      "Training Epoch 808: 100%|██████████| 261/261 [00:11<00:00, 22.76it/s]\n",
      "Training Epoch 809: 100%|██████████| 261/261 [00:11<00:00, 22.65it/s]\n",
      "Training Epoch 810: 100%|██████████| 261/261 [00:11<00:00, 22.56it/s]\n",
      "Training Epoch 811: 100%|██████████| 261/261 [00:11<00:00, 22.83it/s]\n"
     ]
    },
    {
     "name": "stdout",
     "output_type": "stream",
     "text": [
      "Epoch 810 - Train Loss: 0.3146, Train MSE: 0.3146, Train MAE: 0.4131\n",
      "Epoch 810 - Validation Loss: 1.9383, Validation MSE: 1.9400, Validation MAE: 1.0232\n"
     ]
    },
    {
     "name": "stderr",
     "output_type": "stream",
     "text": [
      "Training Epoch 812: 100%|██████████| 261/261 [00:11<00:00, 21.83it/s]\n",
      "Training Epoch 813: 100%|██████████| 261/261 [00:11<00:00, 22.55it/s]\n",
      "Training Epoch 814: 100%|██████████| 261/261 [00:11<00:00, 22.62it/s]\n",
      "Training Epoch 815: 100%|██████████| 261/261 [00:11<00:00, 22.74it/s]\n",
      "Training Epoch 816: 100%|██████████| 261/261 [00:11<00:00, 22.88it/s]\n",
      "Training Epoch 817: 100%|██████████| 261/261 [00:11<00:00, 22.65it/s]\n",
      "Training Epoch 818: 100%|██████████| 261/261 [00:11<00:00, 22.71it/s]\n",
      "Training Epoch 819: 100%|██████████| 261/261 [00:11<00:00, 22.62it/s]\n",
      "Training Epoch 820: 100%|██████████| 261/261 [00:11<00:00, 22.70it/s]\n",
      "Training Epoch 821: 100%|██████████| 261/261 [00:11<00:00, 22.35it/s]\n"
     ]
    },
    {
     "name": "stdout",
     "output_type": "stream",
     "text": [
      "Epoch 820 - Train Loss: 0.3155, Train MSE: 0.3154, Train MAE: 0.4126\n",
      "Epoch 820 - Validation Loss: 1.8994, Validation MSE: 1.9009, Validation MAE: 1.0126\n"
     ]
    },
    {
     "name": "stderr",
     "output_type": "stream",
     "text": [
      "Training Epoch 822: 100%|██████████| 261/261 [00:11<00:00, 22.69it/s]\n",
      "Training Epoch 823: 100%|██████████| 261/261 [00:11<00:00, 22.77it/s]\n",
      "Training Epoch 824: 100%|██████████| 261/261 [00:11<00:00, 22.45it/s]\n",
      "Training Epoch 825: 100%|██████████| 261/261 [00:11<00:00, 23.01it/s]\n",
      "Training Epoch 826: 100%|██████████| 261/261 [00:11<00:00, 22.39it/s]\n",
      "Training Epoch 827: 100%|██████████| 261/261 [00:11<00:00, 22.27it/s]\n",
      "Training Epoch 828: 100%|██████████| 261/261 [00:11<00:00, 22.89it/s]\n",
      "Training Epoch 829: 100%|██████████| 261/261 [00:11<00:00, 22.95it/s]\n",
      "Training Epoch 830: 100%|██████████| 261/261 [00:11<00:00, 22.67it/s]\n",
      "Training Epoch 831: 100%|██████████| 261/261 [00:11<00:00, 22.35it/s]\n"
     ]
    },
    {
     "name": "stdout",
     "output_type": "stream",
     "text": [
      "Epoch 830 - Train Loss: 0.3156, Train MSE: 0.3156, Train MAE: 0.4160\n",
      "Epoch 830 - Validation Loss: 1.9512, Validation MSE: 1.9529, Validation MAE: 1.0231\n"
     ]
    },
    {
     "name": "stderr",
     "output_type": "stream",
     "text": [
      "Training Epoch 832: 100%|██████████| 261/261 [00:11<00:00, 22.79it/s]\n",
      "Training Epoch 833: 100%|██████████| 261/261 [00:11<00:00, 23.03it/s]\n",
      "Training Epoch 834: 100%|██████████| 261/261 [00:11<00:00, 22.40it/s]\n",
      "Training Epoch 835: 100%|██████████| 261/261 [00:11<00:00, 22.78it/s]\n",
      "Training Epoch 836: 100%|██████████| 261/261 [00:11<00:00, 23.05it/s]\n",
      "Training Epoch 837: 100%|██████████| 261/261 [00:11<00:00, 22.82it/s]\n",
      "Training Epoch 838: 100%|██████████| 261/261 [00:11<00:00, 22.88it/s]\n",
      "Training Epoch 839: 100%|██████████| 261/261 [00:11<00:00, 22.99it/s]\n",
      "Training Epoch 840: 100%|██████████| 261/261 [00:11<00:00, 22.53it/s]\n",
      "Training Epoch 841: 100%|██████████| 261/261 [00:11<00:00, 22.45it/s]\n"
     ]
    },
    {
     "name": "stdout",
     "output_type": "stream",
     "text": [
      "Epoch 840 - Train Loss: 0.3183, Train MSE: 0.3183, Train MAE: 0.4144\n",
      "Epoch 840 - Validation Loss: 1.9199, Validation MSE: 1.9216, Validation MAE: 1.0171\n"
     ]
    },
    {
     "name": "stderr",
     "output_type": "stream",
     "text": [
      "Training Epoch 842: 100%|██████████| 261/261 [00:11<00:00, 22.92it/s]\n",
      "Training Epoch 843: 100%|██████████| 261/261 [00:11<00:00, 23.03it/s]\n",
      "Training Epoch 844: 100%|██████████| 261/261 [00:11<00:00, 22.71it/s]\n",
      "Training Epoch 845: 100%|██████████| 261/261 [00:11<00:00, 22.32it/s]\n",
      "Training Epoch 846: 100%|██████████| 261/261 [00:11<00:00, 22.72it/s]\n",
      "Training Epoch 847: 100%|██████████| 261/261 [00:11<00:00, 22.77it/s]\n",
      "Training Epoch 848: 100%|██████████| 261/261 [00:11<00:00, 22.68it/s]\n",
      "Training Epoch 849: 100%|██████████| 261/261 [00:11<00:00, 22.87it/s]\n",
      "Training Epoch 850: 100%|██████████| 261/261 [00:11<00:00, 22.52it/s]\n",
      "Training Epoch 851: 100%|██████████| 261/261 [00:11<00:00, 23.07it/s]\n"
     ]
    },
    {
     "name": "stdout",
     "output_type": "stream",
     "text": [
      "Epoch 850 - Train Loss: 0.3112, Train MSE: 0.3113, Train MAE: 0.4091\n",
      "Epoch 850 - Validation Loss: 1.9297, Validation MSE: 1.9313, Validation MAE: 1.0183\n"
     ]
    },
    {
     "name": "stderr",
     "output_type": "stream",
     "text": [
      "Training Epoch 852: 100%|██████████| 261/261 [00:11<00:00, 22.80it/s]\n",
      "Training Epoch 853: 100%|██████████| 261/261 [00:11<00:00, 23.05it/s]\n",
      "Training Epoch 854: 100%|██████████| 261/261 [00:11<00:00, 22.51it/s]\n",
      "Training Epoch 855: 100%|██████████| 261/261 [00:11<00:00, 23.10it/s]\n",
      "Training Epoch 856: 100%|██████████| 261/261 [00:11<00:00, 22.67it/s]\n",
      "Training Epoch 857: 100%|██████████| 261/261 [00:11<00:00, 23.01it/s]\n",
      "Training Epoch 858: 100%|██████████| 261/261 [00:11<00:00, 22.97it/s]\n",
      "Training Epoch 859: 100%|██████████| 261/261 [00:11<00:00, 22.59it/s]\n",
      "Training Epoch 860: 100%|██████████| 261/261 [00:11<00:00, 22.60it/s]\n",
      "Training Epoch 861: 100%|██████████| 261/261 [00:11<00:00, 23.12it/s]\n"
     ]
    },
    {
     "name": "stdout",
     "output_type": "stream",
     "text": [
      "Epoch 860 - Train Loss: 0.3143, Train MSE: 0.3143, Train MAE: 0.4084\n",
      "Epoch 860 - Validation Loss: 1.9569, Validation MSE: 1.9585, Validation MAE: 1.0226\n"
     ]
    },
    {
     "name": "stderr",
     "output_type": "stream",
     "text": [
      "Training Epoch 862: 100%|██████████| 261/261 [00:11<00:00, 23.11it/s]\n",
      "Training Epoch 863: 100%|██████████| 261/261 [00:11<00:00, 22.92it/s]\n",
      "Training Epoch 864: 100%|██████████| 261/261 [00:11<00:00, 22.68it/s]\n",
      "Training Epoch 865: 100%|██████████| 261/261 [00:11<00:00, 22.77it/s]\n",
      "Training Epoch 866: 100%|██████████| 261/261 [00:11<00:00, 23.11it/s]\n",
      "Training Epoch 867: 100%|██████████| 261/261 [00:11<00:00, 22.93it/s]\n",
      "Training Epoch 868: 100%|██████████| 261/261 [00:11<00:00, 23.22it/s]\n",
      "Training Epoch 869: 100%|██████████| 261/261 [00:11<00:00, 22.29it/s]\n",
      "Training Epoch 870: 100%|██████████| 261/261 [00:11<00:00, 23.06it/s]\n",
      "Training Epoch 871: 100%|██████████| 261/261 [00:11<00:00, 23.06it/s]\n"
     ]
    },
    {
     "name": "stdout",
     "output_type": "stream",
     "text": [
      "Epoch 870 - Train Loss: 0.3117, Train MSE: 0.3117, Train MAE: 0.4096\n",
      "Epoch 870 - Validation Loss: 1.9423, Validation MSE: 1.9438, Validation MAE: 1.0182\n"
     ]
    },
    {
     "name": "stderr",
     "output_type": "stream",
     "text": [
      "Training Epoch 872: 100%|██████████| 261/261 [00:11<00:00, 22.54it/s]\n",
      "Training Epoch 873: 100%|██████████| 261/261 [00:11<00:00, 22.55it/s]\n",
      "Training Epoch 874: 100%|██████████| 261/261 [00:11<00:00, 22.99it/s]\n",
      "Training Epoch 875: 100%|██████████| 261/261 [00:11<00:00, 22.93it/s]\n",
      "Training Epoch 876: 100%|██████████| 261/261 [00:11<00:00, 23.00it/s]\n",
      "Training Epoch 877: 100%|██████████| 261/261 [00:11<00:00, 23.00it/s]\n",
      "Training Epoch 878: 100%|██████████| 261/261 [00:11<00:00, 22.60it/s]\n",
      "Training Epoch 879: 100%|██████████| 261/261 [00:11<00:00, 22.52it/s]\n",
      "Training Epoch 880: 100%|██████████| 261/261 [00:11<00:00, 23.03it/s]\n",
      "Training Epoch 881: 100%|██████████| 261/261 [00:11<00:00, 23.18it/s]\n"
     ]
    },
    {
     "name": "stdout",
     "output_type": "stream",
     "text": [
      "Epoch 880 - Train Loss: 0.3064, Train MSE: 0.3064, Train MAE: 0.4035\n",
      "Epoch 880 - Validation Loss: 2.0098, Validation MSE: 2.0114, Validation MAE: 1.0407\n"
     ]
    },
    {
     "name": "stderr",
     "output_type": "stream",
     "text": [
      "Training Epoch 882: 100%|██████████| 261/261 [00:11<00:00, 23.15it/s]\n",
      "Training Epoch 883: 100%|██████████| 261/261 [00:11<00:00, 23.01it/s]\n",
      "Training Epoch 884: 100%|██████████| 261/261 [00:11<00:00, 23.09it/s]\n",
      "Training Epoch 885: 100%|██████████| 261/261 [00:11<00:00, 22.99it/s]\n",
      "Training Epoch 886: 100%|██████████| 261/261 [00:11<00:00, 22.96it/s]\n",
      "Training Epoch 887: 100%|██████████| 261/261 [00:11<00:00, 23.17it/s]\n",
      "Training Epoch 888: 100%|██████████| 261/261 [00:11<00:00, 22.68it/s]\n",
      "Training Epoch 889: 100%|██████████| 261/261 [00:11<00:00, 22.57it/s]\n",
      "Training Epoch 890: 100%|██████████| 261/261 [00:11<00:00, 23.13it/s]\n",
      "Training Epoch 891: 100%|██████████| 261/261 [00:11<00:00, 22.87it/s]\n"
     ]
    },
    {
     "name": "stdout",
     "output_type": "stream",
     "text": [
      "Epoch 890 - Train Loss: 0.3068, Train MSE: 0.3067, Train MAE: 0.4079\n",
      "Epoch 890 - Validation Loss: 1.9247, Validation MSE: 1.9265, Validation MAE: 1.0193\n"
     ]
    },
    {
     "name": "stderr",
     "output_type": "stream",
     "text": [
      "Training Epoch 892: 100%|██████████| 261/261 [00:11<00:00, 23.03it/s]\n",
      "Training Epoch 893: 100%|██████████| 261/261 [00:11<00:00, 23.10it/s]\n",
      "Training Epoch 894: 100%|██████████| 261/261 [00:11<00:00, 22.82it/s]\n",
      "Training Epoch 895: 100%|██████████| 261/261 [00:11<00:00, 23.11it/s]\n",
      "Training Epoch 896: 100%|██████████| 261/261 [00:11<00:00, 23.08it/s]\n",
      "Training Epoch 897: 100%|██████████| 261/261 [00:11<00:00, 22.60it/s]\n",
      "Training Epoch 898: 100%|██████████| 261/261 [00:11<00:00, 23.08it/s]\n",
      "Training Epoch 899: 100%|██████████| 261/261 [00:11<00:00, 22.92it/s]\n",
      "Training Epoch 900: 100%|██████████| 261/261 [00:11<00:00, 22.91it/s]\n",
      "Training Epoch 901: 100%|██████████| 261/261 [00:11<00:00, 23.11it/s]\n"
     ]
    },
    {
     "name": "stdout",
     "output_type": "stream",
     "text": [
      "Epoch 900 - Train Loss: 0.3083, Train MSE: 0.3083, Train MAE: 0.4064\n",
      "Epoch 900 - Validation Loss: 1.9104, Validation MSE: 1.9118, Validation MAE: 1.0153\n"
     ]
    },
    {
     "name": "stderr",
     "output_type": "stream",
     "text": [
      "Training Epoch 902: 100%|██████████| 261/261 [00:11<00:00, 22.48it/s]\n",
      "Training Epoch 903: 100%|██████████| 261/261 [00:11<00:00, 22.94it/s]\n",
      "Training Epoch 904: 100%|██████████| 261/261 [00:11<00:00, 23.03it/s]\n",
      "Training Epoch 905: 100%|██████████| 261/261 [00:11<00:00, 22.94it/s]\n",
      "Training Epoch 906: 100%|██████████| 261/261 [00:11<00:00, 22.99it/s]\n",
      "Training Epoch 907: 100%|██████████| 261/261 [00:11<00:00, 22.59it/s]\n",
      "Training Epoch 908: 100%|██████████| 261/261 [00:11<00:00, 22.84it/s]\n",
      "Training Epoch 909: 100%|██████████| 261/261 [00:11<00:00, 22.62it/s]\n",
      "Training Epoch 910: 100%|██████████| 261/261 [00:11<00:00, 23.20it/s]\n",
      "Training Epoch 911: 100%|██████████| 261/261 [00:11<00:00, 23.11it/s]\n"
     ]
    },
    {
     "name": "stdout",
     "output_type": "stream",
     "text": [
      "Epoch 910 - Train Loss: 0.3048, Train MSE: 0.3048, Train MAE: 0.4028\n",
      "Epoch 910 - Validation Loss: 1.9328, Validation MSE: 1.9344, Validation MAE: 1.0231\n"
     ]
    },
    {
     "name": "stderr",
     "output_type": "stream",
     "text": [
      "Training Epoch 912: 100%|██████████| 261/261 [00:11<00:00, 22.26it/s]\n",
      "Training Epoch 913: 100%|██████████| 261/261 [00:11<00:00, 22.66it/s]\n",
      "Training Epoch 914: 100%|██████████| 261/261 [00:11<00:00, 22.96it/s]\n",
      "Training Epoch 915: 100%|██████████| 261/261 [00:11<00:00, 23.34it/s]\n",
      "Training Epoch 916: 100%|██████████| 261/261 [00:11<00:00, 22.41it/s]\n",
      "Training Epoch 917: 100%|██████████| 261/261 [00:11<00:00, 22.86it/s]\n",
      "Training Epoch 918: 100%|██████████| 261/261 [00:11<00:00, 23.17it/s]\n",
      "Training Epoch 919: 100%|██████████| 261/261 [00:11<00:00, 23.15it/s]\n",
      "Training Epoch 920: 100%|██████████| 261/261 [00:11<00:00, 22.88it/s]\n",
      "Training Epoch 921: 100%|██████████| 261/261 [00:11<00:00, 22.57it/s]\n"
     ]
    },
    {
     "name": "stdout",
     "output_type": "stream",
     "text": [
      "Epoch 920 - Train Loss: 0.3027, Train MSE: 0.3027, Train MAE: 0.4033\n",
      "Epoch 920 - Validation Loss: 1.9095, Validation MSE: 1.9111, Validation MAE: 1.0150\n"
     ]
    },
    {
     "name": "stderr",
     "output_type": "stream",
     "text": [
      "Training Epoch 922: 100%|██████████| 261/261 [00:11<00:00, 23.20it/s]\n",
      "Training Epoch 923: 100%|██████████| 261/261 [00:11<00:00, 23.31it/s]\n",
      "Training Epoch 924: 100%|██████████| 261/261 [00:11<00:00, 22.86it/s]\n",
      "Training Epoch 925: 100%|██████████| 261/261 [00:11<00:00, 23.33it/s]\n",
      "Training Epoch 926: 100%|██████████| 261/261 [00:11<00:00, 22.29it/s]\n",
      "Training Epoch 927: 100%|██████████| 261/261 [00:11<00:00, 22.61it/s]\n",
      "Training Epoch 928: 100%|██████████| 261/261 [00:11<00:00, 23.00it/s]\n",
      "Training Epoch 929: 100%|██████████| 261/261 [00:11<00:00, 23.03it/s]\n",
      "Training Epoch 930: 100%|██████████| 261/261 [00:11<00:00, 22.86it/s]\n",
      "Training Epoch 931: 100%|██████████| 261/261 [00:11<00:00, 22.25it/s]\n"
     ]
    },
    {
     "name": "stdout",
     "output_type": "stream",
     "text": [
      "Epoch 930 - Train Loss: 0.2987, Train MSE: 0.2987, Train MAE: 0.4015\n",
      "Epoch 930 - Validation Loss: 1.9785, Validation MSE: 1.9800, Validation MAE: 1.0270\n"
     ]
    },
    {
     "name": "stderr",
     "output_type": "stream",
     "text": [
      "Training Epoch 932: 100%|██████████| 261/261 [00:11<00:00, 23.07it/s]\n",
      "Training Epoch 933: 100%|██████████| 261/261 [00:11<00:00, 23.01it/s]\n",
      "Training Epoch 934: 100%|██████████| 261/261 [00:11<00:00, 23.27it/s]\n",
      "Training Epoch 935: 100%|██████████| 261/261 [00:11<00:00, 23.37it/s]\n",
      "Training Epoch 936: 100%|██████████| 261/261 [00:11<00:00, 22.45it/s]\n",
      "Training Epoch 937: 100%|██████████| 261/261 [00:11<00:00, 23.19it/s]\n",
      "Training Epoch 938: 100%|██████████| 261/261 [00:11<00:00, 22.84it/s]\n",
      "Training Epoch 939: 100%|██████████| 261/261 [00:11<00:00, 22.99it/s]\n",
      "Training Epoch 940: 100%|██████████| 261/261 [00:11<00:00, 22.63it/s]\n",
      "Training Epoch 941: 100%|██████████| 261/261 [00:11<00:00, 23.07it/s]\n"
     ]
    },
    {
     "name": "stdout",
     "output_type": "stream",
     "text": [
      "Epoch 940 - Train Loss: 0.2965, Train MSE: 0.2965, Train MAE: 0.3981\n",
      "Epoch 940 - Validation Loss: 1.9215, Validation MSE: 1.9230, Validation MAE: 1.0149\n"
     ]
    },
    {
     "name": "stderr",
     "output_type": "stream",
     "text": [
      "Training Epoch 942: 100%|██████████| 261/261 [00:11<00:00, 22.78it/s]\n",
      "Training Epoch 943: 100%|██████████| 261/261 [00:11<00:00, 23.10it/s]\n",
      "Training Epoch 944: 100%|██████████| 261/261 [00:11<00:00, 22.99it/s]\n",
      "Training Epoch 945: 100%|██████████| 261/261 [00:11<00:00, 22.57it/s]\n",
      "Training Epoch 946: 100%|██████████| 261/261 [00:11<00:00, 22.89it/s]\n",
      "Training Epoch 947: 100%|██████████| 261/261 [00:11<00:00, 22.87it/s]\n",
      "Training Epoch 948: 100%|██████████| 261/261 [00:11<00:00, 23.18it/s]\n",
      "Training Epoch 949: 100%|██████████| 261/261 [00:11<00:00, 22.68it/s]\n",
      "Training Epoch 950: 100%|██████████| 261/261 [00:11<00:00, 22.71it/s]\n",
      "Training Epoch 951: 100%|██████████| 261/261 [00:11<00:00, 22.96it/s]\n"
     ]
    },
    {
     "name": "stdout",
     "output_type": "stream",
     "text": [
      "Epoch 950 - Train Loss: 0.3096, Train MSE: 0.3095, Train MAE: 0.4055\n",
      "Epoch 950 - Validation Loss: 1.9547, Validation MSE: 1.9565, Validation MAE: 1.0297\n"
     ]
    },
    {
     "name": "stderr",
     "output_type": "stream",
     "text": [
      "Training Epoch 952: 100%|██████████| 261/261 [00:11<00:00, 22.89it/s]\n",
      "Training Epoch 953: 100%|██████████| 261/261 [00:11<00:00, 23.28it/s]\n",
      "Training Epoch 954: 100%|██████████| 261/261 [00:11<00:00, 23.10it/s]\n",
      "Training Epoch 955: 100%|██████████| 261/261 [00:11<00:00, 23.16it/s]\n",
      "Training Epoch 956: 100%|██████████| 261/261 [00:11<00:00, 22.58it/s]\n",
      "Training Epoch 957: 100%|██████████| 261/261 [00:11<00:00, 23.22it/s]\n",
      "Training Epoch 958: 100%|██████████| 261/261 [00:11<00:00, 23.16it/s]\n",
      "Training Epoch 959: 100%|██████████| 261/261 [00:11<00:00, 22.54it/s]\n",
      "Training Epoch 960: 100%|██████████| 261/261 [00:11<00:00, 22.81it/s]\n",
      "Training Epoch 961: 100%|██████████| 261/261 [00:11<00:00, 23.02it/s]\n"
     ]
    },
    {
     "name": "stdout",
     "output_type": "stream",
     "text": [
      "Epoch 960 - Train Loss: 0.2941, Train MSE: 0.2941, Train MAE: 0.3946\n",
      "Epoch 960 - Validation Loss: 1.9583, Validation MSE: 1.9601, Validation MAE: 1.0287\n"
     ]
    },
    {
     "name": "stderr",
     "output_type": "stream",
     "text": [
      "Training Epoch 962: 100%|██████████| 261/261 [00:11<00:00, 23.06it/s]\n",
      "Training Epoch 963: 100%|██████████| 261/261 [00:11<00:00, 22.63it/s]\n",
      "Training Epoch 964: 100%|██████████| 261/261 [00:11<00:00, 22.54it/s]\n",
      "Training Epoch 965: 100%|██████████| 261/261 [00:11<00:00, 23.09it/s]\n",
      "Training Epoch 966: 100%|██████████| 261/261 [00:11<00:00, 23.09it/s]\n",
      "Training Epoch 967: 100%|██████████| 261/261 [00:11<00:00, 22.95it/s]\n",
      "Training Epoch 968: 100%|██████████| 261/261 [00:11<00:00, 22.97it/s]\n",
      "Training Epoch 969: 100%|██████████| 261/261 [00:11<00:00, 22.11it/s]\n",
      "Training Epoch 970: 100%|██████████| 261/261 [00:11<00:00, 22.40it/s]\n",
      "Training Epoch 971: 100%|██████████| 261/261 [00:11<00:00, 23.14it/s]\n"
     ]
    },
    {
     "name": "stdout",
     "output_type": "stream",
     "text": [
      "Epoch 970 - Train Loss: 0.2932, Train MSE: 0.2931, Train MAE: 0.3967\n",
      "Epoch 970 - Validation Loss: 1.9107, Validation MSE: 1.9124, Validation MAE: 1.0137\n"
     ]
    },
    {
     "name": "stderr",
     "output_type": "stream",
     "text": [
      "Training Epoch 972: 100%|██████████| 261/261 [00:11<00:00, 23.12it/s]\n",
      "Training Epoch 973: 100%|██████████| 261/261 [00:11<00:00, 23.05it/s]\n",
      "Training Epoch 974: 100%|██████████| 261/261 [00:11<00:00, 22.70it/s]\n",
      "Training Epoch 975: 100%|██████████| 261/261 [00:11<00:00, 23.03it/s]\n",
      "Training Epoch 976: 100%|██████████| 261/261 [00:11<00:00, 23.05it/s]\n",
      "Training Epoch 977: 100%|██████████| 261/261 [00:11<00:00, 22.70it/s]\n",
      "Training Epoch 978: 100%|██████████| 261/261 [00:11<00:00, 22.74it/s]\n",
      "Training Epoch 979: 100%|██████████| 261/261 [00:11<00:00, 22.96it/s]\n",
      "Training Epoch 980: 100%|██████████| 261/261 [00:11<00:00, 22.97it/s]\n",
      "Training Epoch 981: 100%|██████████| 261/261 [00:11<00:00, 23.34it/s]\n"
     ]
    },
    {
     "name": "stdout",
     "output_type": "stream",
     "text": [
      "Epoch 980 - Train Loss: 0.2972, Train MSE: 0.2972, Train MAE: 0.3984\n",
      "Epoch 980 - Validation Loss: 1.9052, Validation MSE: 1.9068, Validation MAE: 1.0152\n"
     ]
    },
    {
     "name": "stderr",
     "output_type": "stream",
     "text": [
      "Training Epoch 982: 100%|██████████| 261/261 [00:11<00:00, 22.92it/s]\n",
      "Training Epoch 983: 100%|██████████| 261/261 [00:11<00:00, 22.64it/s]\n",
      "Training Epoch 984: 100%|██████████| 261/261 [00:11<00:00, 22.48it/s]\n",
      "Training Epoch 985: 100%|██████████| 261/261 [00:11<00:00, 22.82it/s]\n",
      "Training Epoch 986: 100%|██████████| 261/261 [00:11<00:00, 22.86it/s]\n",
      "Training Epoch 987: 100%|██████████| 261/261 [00:11<00:00, 22.98it/s]\n",
      "Training Epoch 988: 100%|██████████| 261/261 [00:11<00:00, 22.35it/s]\n",
      "Training Epoch 989: 100%|██████████| 261/261 [00:11<00:00, 22.67it/s]\n",
      "Training Epoch 990: 100%|██████████| 261/261 [00:11<00:00, 23.04it/s]\n",
      "Training Epoch 991: 100%|██████████| 261/261 [00:11<00:00, 23.01it/s]\n"
     ]
    },
    {
     "name": "stdout",
     "output_type": "stream",
     "text": [
      "Epoch 990 - Train Loss: 0.3107, Train MSE: 0.3106, Train MAE: 0.4055\n",
      "Epoch 990 - Validation Loss: 1.9348, Validation MSE: 1.9363, Validation MAE: 1.0212\n"
     ]
    },
    {
     "name": "stderr",
     "output_type": "stream",
     "text": [
      "Training Epoch 992: 100%|██████████| 261/261 [00:11<00:00, 23.14it/s]\n",
      "Training Epoch 993: 100%|██████████| 261/261 [00:11<00:00, 22.30it/s]\n",
      "Training Epoch 994: 100%|██████████| 261/261 [00:11<00:00, 22.61it/s]\n",
      "Training Epoch 995: 100%|██████████| 261/261 [00:11<00:00, 23.18it/s]\n",
      "Training Epoch 996: 100%|██████████| 261/261 [00:11<00:00, 22.94it/s]\n",
      "Training Epoch 997: 100%|██████████| 261/261 [00:11<00:00, 22.92it/s]\n",
      "Training Epoch 998: 100%|██████████| 261/261 [00:11<00:00, 22.85it/s]\n",
      "Training Epoch 999: 100%|██████████| 261/261 [00:11<00:00, 22.77it/s]\n",
      "Training Epoch 1000: 100%|██████████| 261/261 [00:11<00:00, 22.99it/s]\n",
      "Training Epoch 1001: 100%|██████████| 261/261 [00:11<00:00, 23.10it/s]\n"
     ]
    },
    {
     "name": "stdout",
     "output_type": "stream",
     "text": [
      "Epoch 1000 - Train Loss: 0.3064, Train MSE: 0.3064, Train MAE: 0.4056\n",
      "Epoch 1000 - Validation Loss: 1.9801, Validation MSE: 1.9816, Validation MAE: 1.0343\n"
     ]
    },
    {
     "name": "stderr",
     "output_type": "stream",
     "text": [
      "Training Epoch 1002: 100%|██████████| 261/261 [00:11<00:00, 22.68it/s]\n",
      "Training Epoch 1003: 100%|██████████| 261/261 [00:11<00:00, 22.97it/s]\n",
      "Training Epoch 1004: 100%|██████████| 261/261 [00:11<00:00, 23.11it/s]\n",
      "Training Epoch 1005: 100%|██████████| 261/261 [00:11<00:00, 22.91it/s]\n",
      "Training Epoch 1006: 100%|██████████| 261/261 [00:11<00:00, 22.90it/s]\n",
      "Training Epoch 1007: 100%|██████████| 261/261 [00:11<00:00, 22.67it/s]\n",
      "Training Epoch 1008: 100%|██████████| 261/261 [00:11<00:00, 23.01it/s]\n",
      "Training Epoch 1009: 100%|██████████| 261/261 [00:11<00:00, 22.69it/s]\n",
      "Training Epoch 1010: 100%|██████████| 261/261 [00:11<00:00, 22.95it/s]\n",
      "Training Epoch 1011: 100%|██████████| 261/261 [00:11<00:00, 22.91it/s]\n"
     ]
    },
    {
     "name": "stdout",
     "output_type": "stream",
     "text": [
      "Epoch 1010 - Train Loss: 0.3042, Train MSE: 0.3042, Train MAE: 0.4030\n",
      "Epoch 1010 - Validation Loss: 1.9166, Validation MSE: 1.9183, Validation MAE: 1.0190\n"
     ]
    },
    {
     "name": "stderr",
     "output_type": "stream",
     "text": [
      "Training Epoch 1012: 100%|██████████| 261/261 [00:11<00:00, 21.89it/s]\n",
      "Training Epoch 1013: 100%|██████████| 261/261 [00:11<00:00, 23.10it/s]\n",
      "Training Epoch 1014: 100%|██████████| 261/261 [00:11<00:00, 23.25it/s]\n",
      "Training Epoch 1015: 100%|██████████| 261/261 [00:11<00:00, 23.07it/s]\n",
      "Training Epoch 1016: 100%|██████████| 261/261 [00:11<00:00, 23.14it/s]\n",
      "Training Epoch 1017: 100%|██████████| 261/261 [00:11<00:00, 23.07it/s]\n",
      "Training Epoch 1018: 100%|██████████| 261/261 [00:11<00:00, 23.09it/s]\n",
      "Training Epoch 1019: 100%|██████████| 261/261 [00:11<00:00, 22.95it/s]\n",
      "Training Epoch 1020: 100%|██████████| 261/261 [00:11<00:00, 22.62it/s]\n",
      "Training Epoch 1021: 100%|██████████| 261/261 [00:11<00:00, 22.55it/s]\n"
     ]
    },
    {
     "name": "stdout",
     "output_type": "stream",
     "text": [
      "Epoch 1020 - Train Loss: 0.2872, Train MSE: 0.2872, Train MAE: 0.3884\n",
      "Epoch 1020 - Validation Loss: 1.9060, Validation MSE: 1.9075, Validation MAE: 1.0142\n"
     ]
    },
    {
     "name": "stderr",
     "output_type": "stream",
     "text": [
      "Training Epoch 1022: 100%|██████████| 261/261 [00:11<00:00, 22.82it/s]\n",
      "Training Epoch 1023: 100%|██████████| 261/261 [00:11<00:00, 23.02it/s]\n",
      "Training Epoch 1024: 100%|██████████| 261/261 [00:11<00:00, 23.10it/s]\n",
      "Training Epoch 1025: 100%|██████████| 261/261 [00:11<00:00, 23.03it/s]\n",
      "Training Epoch 1026: 100%|██████████| 261/261 [00:11<00:00, 22.62it/s]\n",
      "Training Epoch 1027: 100%|██████████| 261/261 [00:11<00:00, 23.02it/s]\n",
      "Training Epoch 1028: 100%|██████████| 261/261 [00:11<00:00, 23.03it/s]\n",
      "Training Epoch 1029: 100%|██████████| 261/261 [00:11<00:00, 23.26it/s]\n",
      "Training Epoch 1030: 100%|██████████| 261/261 [00:11<00:00, 22.98it/s]\n",
      "Training Epoch 1031: 100%|██████████| 261/261 [00:11<00:00, 22.49it/s]\n"
     ]
    },
    {
     "name": "stdout",
     "output_type": "stream",
     "text": [
      "Epoch 1030 - Train Loss: 0.2915, Train MSE: 0.2915, Train MAE: 0.3968\n",
      "Epoch 1030 - Validation Loss: 1.8952, Validation MSE: 1.8968, Validation MAE: 1.0095\n"
     ]
    },
    {
     "name": "stderr",
     "output_type": "stream",
     "text": [
      "Training Epoch 1032: 100%|██████████| 261/261 [00:11<00:00, 23.18it/s]\n",
      "Training Epoch 1033: 100%|██████████| 261/261 [00:11<00:00, 22.82it/s]\n",
      "Training Epoch 1034: 100%|██████████| 261/261 [00:11<00:00, 22.84it/s]\n",
      "Training Epoch 1035: 100%|██████████| 261/261 [00:11<00:00, 22.97it/s]\n",
      "Training Epoch 1036: 100%|██████████| 261/261 [00:11<00:00, 22.54it/s]\n",
      "Training Epoch 1037: 100%|██████████| 261/261 [00:11<00:00, 23.13it/s]\n",
      "Training Epoch 1038: 100%|██████████| 261/261 [00:11<00:00, 22.86it/s]\n",
      "Training Epoch 1039: 100%|██████████| 261/261 [00:11<00:00, 22.98it/s]\n",
      "Training Epoch 1040: 100%|██████████| 261/261 [00:11<00:00, 22.36it/s]\n",
      "Training Epoch 1041: 100%|██████████| 261/261 [00:11<00:00, 22.70it/s]\n"
     ]
    },
    {
     "name": "stdout",
     "output_type": "stream",
     "text": [
      "Epoch 1040 - Train Loss: 0.2965, Train MSE: 0.2966, Train MAE: 0.3991\n",
      "Epoch 1040 - Validation Loss: 1.9753, Validation MSE: 1.9770, Validation MAE: 1.0326\n"
     ]
    },
    {
     "name": "stderr",
     "output_type": "stream",
     "text": [
      "Training Epoch 1042: 100%|██████████| 261/261 [00:11<00:00, 23.10it/s]\n",
      "Training Epoch 1043: 100%|██████████| 261/261 [00:11<00:00, 22.86it/s]\n",
      "Training Epoch 1044: 100%|██████████| 261/261 [00:11<00:00, 23.01it/s]\n",
      "Training Epoch 1045: 100%|██████████| 261/261 [00:11<00:00, 22.65it/s]\n",
      "Training Epoch 1046: 100%|██████████| 261/261 [00:11<00:00, 23.08it/s]\n",
      "Training Epoch 1047: 100%|██████████| 261/261 [00:11<00:00, 22.95it/s]\n",
      "Training Epoch 1048: 100%|██████████| 261/261 [00:11<00:00, 22.97it/s]\n",
      "Training Epoch 1049: 100%|██████████| 261/261 [00:11<00:00, 23.16it/s]\n",
      "Training Epoch 1050: 100%|██████████| 261/261 [00:11<00:00, 22.58it/s]\n",
      "Training Epoch 1051: 100%|██████████| 261/261 [00:11<00:00, 23.19it/s]\n"
     ]
    },
    {
     "name": "stdout",
     "output_type": "stream",
     "text": [
      "Epoch 1050 - Train Loss: 0.2957, Train MSE: 0.2957, Train MAE: 0.3983\n",
      "Epoch 1050 - Validation Loss: 1.9106, Validation MSE: 1.9121, Validation MAE: 1.0173\n"
     ]
    },
    {
     "name": "stderr",
     "output_type": "stream",
     "text": [
      "Training Epoch 1052: 100%|██████████| 261/261 [00:11<00:00, 22.97it/s]\n",
      "Training Epoch 1053: 100%|██████████| 261/261 [00:11<00:00, 22.87it/s]\n",
      "Training Epoch 1054: 100%|██████████| 261/261 [00:11<00:00, 22.94it/s]\n",
      "Training Epoch 1055: 100%|██████████| 261/261 [00:11<00:00, 22.28it/s]\n",
      "Training Epoch 1056: 100%|██████████| 261/261 [00:11<00:00, 22.78it/s]\n",
      "Training Epoch 1057: 100%|██████████| 261/261 [00:11<00:00, 22.92it/s]\n",
      "Training Epoch 1058: 100%|██████████| 261/261 [00:11<00:00, 23.29it/s]\n",
      "Training Epoch 1059: 100%|██████████| 261/261 [00:11<00:00, 22.36it/s]\n",
      "Training Epoch 1060: 100%|██████████| 261/261 [00:11<00:00, 22.93it/s]\n",
      "Training Epoch 1061: 100%|██████████| 261/261 [00:11<00:00, 23.15it/s]\n"
     ]
    },
    {
     "name": "stdout",
     "output_type": "stream",
     "text": [
      "Epoch 1060 - Train Loss: 0.2862, Train MSE: 0.2862, Train MAE: 0.3953\n",
      "Epoch 1060 - Validation Loss: 1.9084, Validation MSE: 1.9100, Validation MAE: 1.0197\n"
     ]
    },
    {
     "name": "stderr",
     "output_type": "stream",
     "text": [
      "Training Epoch 1062: 100%|██████████| 261/261 [00:11<00:00, 22.61it/s]\n",
      "Training Epoch 1063: 100%|██████████| 261/261 [00:11<00:00, 22.88it/s]\n",
      "Training Epoch 1064: 100%|██████████| 261/261 [00:11<00:00, 22.66it/s]\n",
      "Training Epoch 1065: 100%|██████████| 261/261 [00:11<00:00, 23.06it/s]\n",
      "Training Epoch 1066: 100%|██████████| 261/261 [00:11<00:00, 22.97it/s]\n",
      "Training Epoch 1067: 100%|██████████| 261/261 [00:11<00:00, 23.17it/s]\n",
      "Training Epoch 1068: 100%|██████████| 261/261 [00:11<00:00, 22.89it/s]\n",
      "Training Epoch 1069: 100%|██████████| 261/261 [00:11<00:00, 22.57it/s]\n",
      "Training Epoch 1070: 100%|██████████| 261/261 [00:11<00:00, 22.94it/s]\n",
      "Training Epoch 1071: 100%|██████████| 261/261 [00:11<00:00, 23.27it/s]\n"
     ]
    },
    {
     "name": "stdout",
     "output_type": "stream",
     "text": [
      "Epoch 1070 - Train Loss: 0.2865, Train MSE: 0.2865, Train MAE: 0.3902\n",
      "Epoch 1070 - Validation Loss: 1.8930, Validation MSE: 1.8948, Validation MAE: 1.0250\n"
     ]
    },
    {
     "name": "stderr",
     "output_type": "stream",
     "text": [
      "Training Epoch 1072: 100%|██████████| 261/261 [00:11<00:00, 22.60it/s]\n",
      "Training Epoch 1073: 100%|██████████| 261/261 [00:11<00:00, 22.99it/s]\n",
      "Training Epoch 1074: 100%|██████████| 261/261 [00:11<00:00, 22.68it/s]\n",
      "Training Epoch 1075: 100%|██████████| 261/261 [00:11<00:00, 22.86it/s]\n",
      "Training Epoch 1076: 100%|██████████| 261/261 [00:11<00:00, 22.60it/s]\n",
      "Training Epoch 1077: 100%|██████████| 261/261 [00:11<00:00, 23.06it/s]\n",
      "Training Epoch 1078: 100%|██████████| 261/261 [00:11<00:00, 23.37it/s]\n",
      "Training Epoch 1079: 100%|██████████| 261/261 [00:11<00:00, 22.55it/s]\n",
      "Training Epoch 1080: 100%|██████████| 261/261 [00:11<00:00, 23.08it/s]\n",
      "Training Epoch 1081: 100%|██████████| 261/261 [00:11<00:00, 23.29it/s]\n"
     ]
    },
    {
     "name": "stdout",
     "output_type": "stream",
     "text": [
      "Epoch 1080 - Train Loss: 0.2830, Train MSE: 0.2830, Train MAE: 0.3880\n",
      "Epoch 1080 - Validation Loss: 1.9629, Validation MSE: 1.9644, Validation MAE: 1.0324\n"
     ]
    },
    {
     "name": "stderr",
     "output_type": "stream",
     "text": [
      "Training Epoch 1082: 100%|██████████| 261/261 [00:11<00:00, 23.01it/s]\n",
      "Training Epoch 1083: 100%|██████████| 261/261 [00:11<00:00, 22.40it/s]\n",
      "Training Epoch 1084: 100%|██████████| 261/261 [00:11<00:00, 22.73it/s]\n",
      "Training Epoch 1085: 100%|██████████| 261/261 [00:11<00:00, 23.09it/s]\n",
      "Training Epoch 1086: 100%|██████████| 261/261 [00:11<00:00, 23.04it/s]\n",
      "Training Epoch 1087: 100%|██████████| 261/261 [00:11<00:00, 23.03it/s]\n",
      "Training Epoch 1088: 100%|██████████| 261/261 [00:11<00:00, 22.51it/s]\n",
      "Training Epoch 1089: 100%|██████████| 261/261 [00:11<00:00, 22.89it/s]\n",
      "Training Epoch 1090: 100%|██████████| 261/261 [00:11<00:00, 22.82it/s]\n",
      "Training Epoch 1091: 100%|██████████| 261/261 [00:11<00:00, 23.12it/s]\n"
     ]
    },
    {
     "name": "stdout",
     "output_type": "stream",
     "text": [
      "Epoch 1090 - Train Loss: 0.2881, Train MSE: 0.2880, Train MAE: 0.3901\n",
      "Epoch 1090 - Validation Loss: 1.9440, Validation MSE: 1.9456, Validation MAE: 1.0189\n"
     ]
    },
    {
     "name": "stderr",
     "output_type": "stream",
     "text": [
      "Training Epoch 1092: 100%|██████████| 261/261 [00:11<00:00, 23.01it/s]\n",
      "Training Epoch 1093: 100%|██████████| 261/261 [00:11<00:00, 22.38it/s]\n",
      "Training Epoch 1094: 100%|██████████| 261/261 [00:11<00:00, 22.86it/s]\n",
      "Training Epoch 1095: 100%|██████████| 261/261 [00:11<00:00, 23.18it/s]\n",
      "Training Epoch 1096: 100%|██████████| 261/261 [00:11<00:00, 22.73it/s]\n",
      "Training Epoch 1097: 100%|██████████| 261/261 [00:11<00:00, 23.00it/s]\n",
      "Training Epoch 1098: 100%|██████████| 261/261 [00:11<00:00, 22.77it/s]\n",
      "Training Epoch 1099: 100%|██████████| 261/261 [00:11<00:00, 22.99it/s]\n",
      "Training Epoch 1100: 100%|██████████| 261/261 [00:11<00:00, 22.91it/s]\n",
      "Training Epoch 1101: 100%|██████████| 261/261 [00:11<00:00, 22.78it/s]\n"
     ]
    },
    {
     "name": "stdout",
     "output_type": "stream",
     "text": [
      "Epoch 1100 - Train Loss: 0.2740, Train MSE: 0.2739, Train MAE: 0.3849\n",
      "Epoch 1100 - Validation Loss: 1.9195, Validation MSE: 1.9211, Validation MAE: 1.0188\n"
     ]
    },
    {
     "name": "stderr",
     "output_type": "stream",
     "text": [
      "Training Epoch 1102: 100%|██████████| 261/261 [00:11<00:00, 22.81it/s]\n",
      "Training Epoch 1103: 100%|██████████| 261/261 [00:11<00:00, 22.89it/s]\n",
      "Training Epoch 1104: 100%|██████████| 261/261 [00:11<00:00, 22.79it/s]\n",
      "Training Epoch 1105: 100%|██████████| 261/261 [00:11<00:00, 23.29it/s]\n",
      "Training Epoch 1106: 100%|██████████| 261/261 [00:11<00:00, 22.90it/s]\n",
      "Training Epoch 1107: 100%|██████████| 261/261 [00:11<00:00, 22.51it/s]\n",
      "Training Epoch 1108: 100%|██████████| 261/261 [00:11<00:00, 22.75it/s]\n",
      "Training Epoch 1109: 100%|██████████| 261/261 [00:11<00:00, 23.32it/s]\n",
      "Training Epoch 1110: 100%|██████████| 261/261 [00:11<00:00, 23.09it/s]\n",
      "Training Epoch 1111: 100%|██████████| 261/261 [00:11<00:00, 22.84it/s]\n"
     ]
    },
    {
     "name": "stdout",
     "output_type": "stream",
     "text": [
      "Epoch 1110 - Train Loss: 0.2891, Train MSE: 0.2891, Train MAE: 0.3905\n",
      "Epoch 1110 - Validation Loss: 1.9383, Validation MSE: 1.9396, Validation MAE: 1.0240\n"
     ]
    },
    {
     "name": "stderr",
     "output_type": "stream",
     "text": [
      "Training Epoch 1112: 100%|██████████| 261/261 [00:11<00:00, 22.26it/s]\n",
      "Training Epoch 1113: 100%|██████████| 261/261 [00:11<00:00, 23.02it/s]\n",
      "Training Epoch 1114: 100%|██████████| 261/261 [00:11<00:00, 23.04it/s]\n",
      "Training Epoch 1115: 100%|██████████| 261/261 [00:11<00:00, 22.89it/s]\n",
      "Training Epoch 1116: 100%|██████████| 261/261 [00:11<00:00, 23.00it/s]\n",
      "Training Epoch 1117: 100%|██████████| 261/261 [00:11<00:00, 22.61it/s]\n",
      "Training Epoch 1118: 100%|██████████| 261/261 [00:11<00:00, 23.08it/s]\n",
      "Training Epoch 1119: 100%|██████████| 261/261 [00:11<00:00, 22.89it/s]\n",
      "Training Epoch 1120: 100%|██████████| 261/261 [00:11<00:00, 23.06it/s]\n",
      "Training Epoch 1121: 100%|██████████| 261/261 [00:11<00:00, 23.27it/s]\n"
     ]
    },
    {
     "name": "stdout",
     "output_type": "stream",
     "text": [
      "Epoch 1120 - Train Loss: 0.2919, Train MSE: 0.2919, Train MAE: 0.3912\n",
      "Epoch 1120 - Validation Loss: 1.9439, Validation MSE: 1.9457, Validation MAE: 1.0260\n"
     ]
    },
    {
     "name": "stderr",
     "output_type": "stream",
     "text": [
      "Training Epoch 1122: 100%|██████████| 261/261 [00:11<00:00, 22.74it/s]\n",
      "Training Epoch 1123: 100%|██████████| 261/261 [00:11<00:00, 22.92it/s]\n",
      "Training Epoch 1124: 100%|██████████| 261/261 [00:11<00:00, 22.85it/s]\n",
      "Training Epoch 1125: 100%|██████████| 261/261 [00:11<00:00, 23.09it/s]\n",
      "Training Epoch 1126: 100%|██████████| 261/261 [00:11<00:00, 22.67it/s]\n",
      "Training Epoch 1127: 100%|██████████| 261/261 [00:11<00:00, 22.99it/s]\n",
      "Training Epoch 1128: 100%|██████████| 261/261 [00:11<00:00, 22.86it/s]\n",
      "Training Epoch 1129: 100%|██████████| 261/261 [00:11<00:00, 22.88it/s]\n",
      "Training Epoch 1130: 100%|██████████| 261/261 [00:11<00:00, 22.95it/s]\n",
      "Training Epoch 1131: 100%|██████████| 261/261 [00:11<00:00, 22.63it/s]\n"
     ]
    },
    {
     "name": "stdout",
     "output_type": "stream",
     "text": [
      "Epoch 1130 - Train Loss: 0.2815, Train MSE: 0.2814, Train MAE: 0.3874\n",
      "Epoch 1130 - Validation Loss: 1.8913, Validation MSE: 1.8929, Validation MAE: 1.0203\n"
     ]
    },
    {
     "name": "stderr",
     "output_type": "stream",
     "text": [
      "Training Epoch 1132: 100%|██████████| 261/261 [00:11<00:00, 22.93it/s]\n",
      "Training Epoch 1133: 100%|██████████| 261/261 [00:11<00:00, 23.13it/s]\n",
      "Training Epoch 1134: 100%|██████████| 261/261 [00:11<00:00, 23.12it/s]\n",
      "Training Epoch 1135: 100%|██████████| 261/261 [00:11<00:00, 23.20it/s]\n",
      "Training Epoch 1136: 100%|██████████| 261/261 [00:12<00:00, 20.75it/s]\n",
      "Training Epoch 1137: 100%|██████████| 261/261 [00:11<00:00, 22.61it/s]\n",
      "Training Epoch 1138: 100%|██████████| 261/261 [00:11<00:00, 23.03it/s]\n",
      "Training Epoch 1139: 100%|██████████| 261/261 [00:11<00:00, 22.82it/s]\n",
      "Training Epoch 1140: 100%|██████████| 261/261 [00:11<00:00, 23.32it/s]\n",
      "Training Epoch 1141: 100%|██████████| 261/261 [00:11<00:00, 22.91it/s]\n"
     ]
    },
    {
     "name": "stdout",
     "output_type": "stream",
     "text": [
      "Epoch 1140 - Train Loss: 0.2891, Train MSE: 0.2891, Train MAE: 0.3925\n",
      "Epoch 1140 - Validation Loss: 1.9062, Validation MSE: 1.9077, Validation MAE: 1.0298\n"
     ]
    },
    {
     "name": "stderr",
     "output_type": "stream",
     "text": [
      "Training Epoch 1142: 100%|██████████| 261/261 [00:11<00:00, 22.88it/s]\n",
      "Training Epoch 1143: 100%|██████████| 261/261 [00:11<00:00, 22.69it/s]\n",
      "Training Epoch 1144: 100%|██████████| 261/261 [00:11<00:00, 22.96it/s]\n",
      "Training Epoch 1145: 100%|██████████| 261/261 [00:11<00:00, 22.89it/s]\n",
      "Training Epoch 1146: 100%|██████████| 261/261 [00:11<00:00, 22.59it/s]\n",
      "Training Epoch 1147: 100%|██████████| 261/261 [00:11<00:00, 22.91it/s]\n",
      "Training Epoch 1148: 100%|██████████| 261/261 [00:11<00:00, 23.10it/s]\n",
      "Training Epoch 1149: 100%|██████████| 261/261 [00:11<00:00, 22.29it/s]\n",
      "Training Epoch 1150: 100%|██████████| 261/261 [00:11<00:00, 22.19it/s]\n",
      "Training Epoch 1151: 100%|██████████| 261/261 [00:11<00:00, 22.88it/s]\n"
     ]
    },
    {
     "name": "stdout",
     "output_type": "stream",
     "text": [
      "Epoch 1150 - Train Loss: 0.2744, Train MSE: 0.2743, Train MAE: 0.3809\n",
      "Epoch 1150 - Validation Loss: 1.9444, Validation MSE: 1.9459, Validation MAE: 1.0258\n"
     ]
    },
    {
     "name": "stderr",
     "output_type": "stream",
     "text": [
      "Training Epoch 1152: 100%|██████████| 261/261 [00:11<00:00, 22.66it/s]\n",
      "Training Epoch 1153: 100%|██████████| 261/261 [00:11<00:00, 22.72it/s]\n",
      "Training Epoch 1154: 100%|██████████| 261/261 [00:11<00:00, 22.90it/s]\n",
      "Training Epoch 1155: 100%|██████████| 261/261 [00:11<00:00, 22.50it/s]\n",
      "Training Epoch 1156: 100%|██████████| 261/261 [00:11<00:00, 22.80it/s]\n",
      "Training Epoch 1157: 100%|██████████| 261/261 [00:11<00:00, 22.73it/s]\n",
      "Training Epoch 1158: 100%|██████████| 261/261 [00:11<00:00, 22.87it/s]\n",
      "Training Epoch 1159: 100%|██████████| 261/261 [00:11<00:00, 22.49it/s]\n",
      "Training Epoch 1160: 100%|██████████| 261/261 [00:10<00:00, 25.35it/s]\n",
      "Training Epoch 1161: 100%|██████████| 261/261 [00:09<00:00, 26.49it/s]\n"
     ]
    },
    {
     "name": "stdout",
     "output_type": "stream",
     "text": [
      "Epoch 1160 - Train Loss: 0.2904, Train MSE: 0.2904, Train MAE: 0.3934\n",
      "Epoch 1160 - Validation Loss: 1.9569, Validation MSE: 1.9586, Validation MAE: 1.0482\n"
     ]
    },
    {
     "name": "stderr",
     "output_type": "stream",
     "text": [
      "Training Epoch 1162: 100%|██████████| 261/261 [00:09<00:00, 26.73it/s]\n",
      "Training Epoch 1163: 100%|██████████| 261/261 [00:10<00:00, 26.07it/s]\n",
      "Training Epoch 1164: 100%|██████████| 261/261 [00:09<00:00, 26.24it/s]\n",
      "Training Epoch 1165: 100%|██████████| 261/261 [00:10<00:00, 25.19it/s]\n",
      "Training Epoch 1166: 100%|██████████| 261/261 [00:09<00:00, 26.47it/s]\n",
      "Training Epoch 1167: 100%|██████████| 261/261 [00:09<00:00, 26.44it/s]\n",
      "Training Epoch 1168: 100%|██████████| 261/261 [00:09<00:00, 26.31it/s]\n",
      "Training Epoch 1169: 100%|██████████| 261/261 [00:09<00:00, 26.53it/s]\n",
      "Training Epoch 1170: 100%|██████████| 261/261 [00:10<00:00, 25.67it/s]\n",
      "Training Epoch 1171: 100%|██████████| 261/261 [00:09<00:00, 26.17it/s]\n"
     ]
    },
    {
     "name": "stdout",
     "output_type": "stream",
     "text": [
      "Epoch 1170 - Train Loss: 0.2842, Train MSE: 0.2842, Train MAE: 0.3871\n",
      "Epoch 1170 - Validation Loss: 1.9381, Validation MSE: 1.9397, Validation MAE: 1.0239\n"
     ]
    },
    {
     "name": "stderr",
     "output_type": "stream",
     "text": [
      "Training Epoch 1172: 100%|██████████| 261/261 [00:09<00:00, 26.68it/s]\n",
      "Training Epoch 1173: 100%|██████████| 261/261 [00:10<00:00, 26.06it/s]\n",
      "Training Epoch 1174: 100%|██████████| 261/261 [00:09<00:00, 26.32it/s]\n",
      "Training Epoch 1175: 100%|██████████| 261/261 [00:09<00:00, 26.67it/s]\n",
      "Training Epoch 1176: 100%|██████████| 261/261 [00:10<00:00, 25.64it/s]\n",
      "Training Epoch 1177: 100%|██████████| 261/261 [00:09<00:00, 26.17it/s]\n",
      "Training Epoch 1178: 100%|██████████| 261/261 [00:09<00:00, 26.58it/s]\n",
      "Training Epoch 1179: 100%|██████████| 261/261 [00:10<00:00, 26.07it/s]\n",
      "Training Epoch 1180: 100%|██████████| 261/261 [00:09<00:00, 26.26it/s]\n",
      "Training Epoch 1181: 100%|██████████| 261/261 [00:10<00:00, 25.90it/s]\n"
     ]
    },
    {
     "name": "stdout",
     "output_type": "stream",
     "text": [
      "Epoch 1180 - Train Loss: 0.2731, Train MSE: 0.2731, Train MAE: 0.3792\n",
      "Epoch 1180 - Validation Loss: 1.8990, Validation MSE: 1.9007, Validation MAE: 1.0112\n"
     ]
    },
    {
     "name": "stderr",
     "output_type": "stream",
     "text": [
      "Training Epoch 1182: 100%|██████████| 261/261 [00:09<00:00, 26.88it/s]\n",
      "Training Epoch 1183: 100%|██████████| 261/261 [00:09<00:00, 26.43it/s]\n",
      "Training Epoch 1184: 100%|██████████| 261/261 [00:09<00:00, 26.32it/s]\n",
      "Training Epoch 1185: 100%|██████████| 261/261 [00:09<00:00, 26.54it/s]\n",
      "Training Epoch 1186: 100%|██████████| 261/261 [00:09<00:00, 26.13it/s]\n",
      "Training Epoch 1187: 100%|██████████| 261/261 [00:10<00:00, 25.57it/s]\n",
      "Training Epoch 1188: 100%|██████████| 261/261 [00:09<00:00, 26.32it/s]\n",
      "Training Epoch 1189: 100%|██████████| 261/261 [00:10<00:00, 25.97it/s]\n",
      "Training Epoch 1190: 100%|██████████| 261/261 [00:09<00:00, 26.16it/s]\n",
      "Training Epoch 1191: 100%|██████████| 261/261 [00:09<00:00, 26.48it/s]\n"
     ]
    },
    {
     "name": "stdout",
     "output_type": "stream",
     "text": [
      "Epoch 1190 - Train Loss: 0.2793, Train MSE: 0.2793, Train MAE: 0.3848\n",
      "Epoch 1190 - Validation Loss: 1.9784, Validation MSE: 1.9799, Validation MAE: 1.0284\n"
     ]
    },
    {
     "name": "stderr",
     "output_type": "stream",
     "text": [
      "Training Epoch 1192: 100%|██████████| 261/261 [00:09<00:00, 26.20it/s]\n",
      "Training Epoch 1193: 100%|██████████| 261/261 [00:09<00:00, 26.51it/s]\n",
      "Training Epoch 1194: 100%|██████████| 261/261 [00:09<00:00, 26.32it/s]\n",
      "Training Epoch 1195: 100%|██████████| 261/261 [00:09<00:00, 26.92it/s]\n",
      "Training Epoch 1196: 100%|██████████| 261/261 [00:09<00:00, 26.22it/s]\n",
      "Training Epoch 1197: 100%|██████████| 261/261 [00:09<00:00, 26.31it/s]\n",
      "Training Epoch 1198: 100%|██████████| 261/261 [00:09<00:00, 26.60it/s]\n",
      "Training Epoch 1199: 100%|██████████| 261/261 [00:09<00:00, 26.48it/s]\n",
      "Training Epoch 1200: 100%|██████████| 261/261 [00:09<00:00, 26.24it/s]\n",
      "Training Epoch 1201: 100%|██████████| 261/261 [00:09<00:00, 26.22it/s]\n"
     ]
    },
    {
     "name": "stdout",
     "output_type": "stream",
     "text": [
      "Epoch 1200 - Train Loss: 0.2824, Train MSE: 0.2825, Train MAE: 0.3853\n",
      "Epoch 1200 - Validation Loss: 1.9137, Validation MSE: 1.9152, Validation MAE: 1.0220\n"
     ]
    },
    {
     "name": "stderr",
     "output_type": "stream",
     "text": [
      "Training Epoch 1202: 100%|██████████| 261/261 [00:09<00:00, 26.43it/s]\n",
      "Training Epoch 1203: 100%|██████████| 261/261 [00:10<00:00, 25.17it/s]\n",
      "Training Epoch 1204: 100%|██████████| 261/261 [00:09<00:00, 26.13it/s]\n",
      "Training Epoch 1205: 100%|██████████| 261/261 [00:09<00:00, 26.52it/s]\n",
      "Training Epoch 1206: 100%|██████████| 261/261 [00:10<00:00, 26.09it/s]\n",
      "Training Epoch 1207: 100%|██████████| 261/261 [00:09<00:00, 26.23it/s]\n",
      "Training Epoch 1208: 100%|██████████| 261/261 [00:10<00:00, 25.98it/s]\n",
      "Training Epoch 1209: 100%|██████████| 261/261 [00:09<00:00, 26.19it/s]\n",
      "Training Epoch 1210: 100%|██████████| 261/261 [00:10<00:00, 25.73it/s]\n",
      "Training Epoch 1211: 100%|██████████| 261/261 [00:09<00:00, 26.44it/s]\n"
     ]
    },
    {
     "name": "stdout",
     "output_type": "stream",
     "text": [
      "Epoch 1210 - Train Loss: 0.2779, Train MSE: 0.2779, Train MAE: 0.3850\n",
      "Epoch 1210 - Validation Loss: 1.9577, Validation MSE: 1.9593, Validation MAE: 1.0299\n"
     ]
    },
    {
     "name": "stderr",
     "output_type": "stream",
     "text": [
      "Training Epoch 1212: 100%|██████████| 261/261 [00:09<00:00, 26.43it/s]\n",
      "Training Epoch 1213: 100%|██████████| 261/261 [00:09<00:00, 26.43it/s]\n",
      "Training Epoch 1214: 100%|██████████| 261/261 [00:10<00:00, 26.02it/s]\n",
      "Training Epoch 1215: 100%|██████████| 261/261 [00:09<00:00, 26.15it/s]\n",
      "Training Epoch 1216: 100%|██████████| 261/261 [00:10<00:00, 25.69it/s]\n",
      "Training Epoch 1217: 100%|██████████| 261/261 [00:09<00:00, 26.30it/s]\n",
      "Training Epoch 1218: 100%|██████████| 261/261 [00:09<00:00, 26.36it/s]\n",
      "Training Epoch 1219: 100%|██████████| 261/261 [00:10<00:00, 25.94it/s]\n",
      "Training Epoch 1220: 100%|██████████| 261/261 [00:09<00:00, 26.19it/s]\n",
      "Training Epoch 1221: 100%|██████████| 261/261 [00:10<00:00, 25.49it/s]\n"
     ]
    },
    {
     "name": "stdout",
     "output_type": "stream",
     "text": [
      "Epoch 1220 - Train Loss: 0.2889, Train MSE: 0.2889, Train MAE: 0.3896\n",
      "Epoch 1220 - Validation Loss: 1.9072, Validation MSE: 1.9087, Validation MAE: 1.0097\n"
     ]
    },
    {
     "name": "stderr",
     "output_type": "stream",
     "text": [
      "Training Epoch 1222: 100%|██████████| 261/261 [00:09<00:00, 26.80it/s]\n",
      "Training Epoch 1223: 100%|██████████| 261/261 [00:09<00:00, 26.34it/s]\n",
      "Training Epoch 1224: 100%|██████████| 261/261 [00:09<00:00, 26.50it/s]\n",
      "Training Epoch 1225: 100%|██████████| 261/261 [00:10<00:00, 25.52it/s]\n",
      "Training Epoch 1226: 100%|██████████| 261/261 [00:09<00:00, 26.18it/s]\n",
      "Training Epoch 1227: 100%|██████████| 261/261 [00:09<00:00, 26.44it/s]\n",
      "Training Epoch 1228: 100%|██████████| 261/261 [00:09<00:00, 26.45it/s]\n",
      "Training Epoch 1229: 100%|██████████| 261/261 [00:09<00:00, 26.49it/s]\n",
      "Training Epoch 1230: 100%|██████████| 261/261 [00:09<00:00, 26.27it/s]\n",
      "Training Epoch 1231: 100%|██████████| 261/261 [00:09<00:00, 26.14it/s]\n"
     ]
    },
    {
     "name": "stdout",
     "output_type": "stream",
     "text": [
      "Epoch 1230 - Train Loss: 0.2913, Train MSE: 0.2913, Train MAE: 0.3925\n",
      "Epoch 1230 - Validation Loss: 1.9366, Validation MSE: 1.9381, Validation MAE: 1.0210\n"
     ]
    },
    {
     "name": "stderr",
     "output_type": "stream",
     "text": [
      "Training Epoch 1232: 100%|██████████| 261/261 [00:09<00:00, 26.15it/s]\n",
      "Training Epoch 1233: 100%|██████████| 261/261 [00:09<00:00, 26.30it/s]\n",
      "Training Epoch 1234: 100%|██████████| 261/261 [00:09<00:00, 26.52it/s]\n",
      "Training Epoch 1235: 100%|██████████| 261/261 [00:09<00:00, 26.62it/s]\n",
      "Training Epoch 1236: 100%|██████████| 261/261 [00:10<00:00, 25.43it/s]\n",
      "Training Epoch 1237: 100%|██████████| 261/261 [00:10<00:00, 25.79it/s]\n",
      "Training Epoch 1238: 100%|██████████| 261/261 [00:09<00:00, 26.24it/s]\n",
      "Training Epoch 1239: 100%|██████████| 261/261 [00:09<00:00, 26.31it/s]\n",
      "Training Epoch 1240: 100%|██████████| 261/261 [00:09<00:00, 26.17it/s]\n",
      "Training Epoch 1241: 100%|██████████| 261/261 [00:10<00:00, 25.68it/s]\n"
     ]
    },
    {
     "name": "stdout",
     "output_type": "stream",
     "text": [
      "Epoch 1240 - Train Loss: 0.2836, Train MSE: 0.2836, Train MAE: 0.3847\n",
      "Epoch 1240 - Validation Loss: 1.9391, Validation MSE: 1.9406, Validation MAE: 1.0201\n"
     ]
    },
    {
     "name": "stderr",
     "output_type": "stream",
     "text": [
      "Training Epoch 1242: 100%|██████████| 261/261 [00:09<00:00, 26.25it/s]\n",
      "Training Epoch 1243: 100%|██████████| 261/261 [00:10<00:00, 25.93it/s]\n",
      "Training Epoch 1244: 100%|██████████| 261/261 [00:09<00:00, 26.37it/s]\n",
      "Training Epoch 1245: 100%|██████████| 261/261 [00:09<00:00, 26.27it/s]\n",
      "Training Epoch 1246: 100%|██████████| 261/261 [00:10<00:00, 26.03it/s]\n",
      "Training Epoch 1247: 100%|██████████| 261/261 [00:09<00:00, 26.28it/s]\n",
      "Training Epoch 1248: 100%|██████████| 261/261 [00:10<00:00, 26.05it/s]\n",
      "Training Epoch 1249: 100%|██████████| 261/261 [00:09<00:00, 26.43it/s]\n",
      "Training Epoch 1250: 100%|██████████| 261/261 [00:09<00:00, 26.78it/s]\n",
      "Training Epoch 1251: 100%|██████████| 261/261 [00:09<00:00, 26.11it/s]\n"
     ]
    },
    {
     "name": "stdout",
     "output_type": "stream",
     "text": [
      "Epoch 1250 - Train Loss: 0.2759, Train MSE: 0.2759, Train MAE: 0.3803\n",
      "Epoch 1250 - Validation Loss: 1.8986, Validation MSE: 1.9002, Validation MAE: 1.0172\n"
     ]
    },
    {
     "name": "stderr",
     "output_type": "stream",
     "text": [
      "Training Epoch 1252: 100%|██████████| 261/261 [00:10<00:00, 25.64it/s]\n",
      "Training Epoch 1253: 100%|██████████| 261/261 [00:09<00:00, 26.39it/s]\n",
      "Training Epoch 1254: 100%|██████████| 261/261 [00:10<00:00, 25.95it/s]\n",
      "Training Epoch 1255: 100%|██████████| 261/261 [00:09<00:00, 26.29it/s]\n",
      "Training Epoch 1256: 100%|██████████| 261/261 [00:09<00:00, 26.68it/s]\n",
      "Training Epoch 1257: 100%|██████████| 261/261 [00:10<00:00, 25.79it/s]\n",
      "Training Epoch 1258: 100%|██████████| 261/261 [00:10<00:00, 25.90it/s]\n",
      "Training Epoch 1259: 100%|██████████| 261/261 [00:09<00:00, 26.75it/s]\n",
      "Training Epoch 1260: 100%|██████████| 261/261 [00:10<00:00, 26.02it/s]\n",
      "Training Epoch 1261: 100%|██████████| 261/261 [00:10<00:00, 25.84it/s]\n"
     ]
    },
    {
     "name": "stdout",
     "output_type": "stream",
     "text": [
      "Epoch 1260 - Train Loss: 0.2728, Train MSE: 0.2729, Train MAE: 0.3792\n",
      "Epoch 1260 - Validation Loss: 1.9001, Validation MSE: 1.9018, Validation MAE: 1.0134\n"
     ]
    },
    {
     "name": "stderr",
     "output_type": "stream",
     "text": [
      "Training Epoch 1262: 100%|██████████| 261/261 [00:09<00:00, 26.63it/s]\n",
      "Training Epoch 1263: 100%|██████████| 261/261 [00:10<00:00, 25.48it/s]\n",
      "Training Epoch 1264: 100%|██████████| 261/261 [00:09<00:00, 26.25it/s]\n",
      "Training Epoch 1265: 100%|██████████| 261/261 [00:09<00:00, 26.35it/s]\n",
      "Training Epoch 1266: 100%|██████████| 261/261 [00:09<00:00, 26.62it/s]\n",
      "Training Epoch 1267: 100%|██████████| 261/261 [00:09<00:00, 26.43it/s]\n",
      "Training Epoch 1268: 100%|██████████| 261/261 [00:10<00:00, 25.20it/s]\n",
      "Training Epoch 1269: 100%|██████████| 261/261 [00:09<00:00, 26.48it/s]\n",
      "Training Epoch 1270: 100%|██████████| 261/261 [00:09<00:00, 26.27it/s]\n",
      "Training Epoch 1271: 100%|██████████| 261/261 [00:09<00:00, 26.29it/s]\n"
     ]
    },
    {
     "name": "stdout",
     "output_type": "stream",
     "text": [
      "Epoch 1270 - Train Loss: 0.2756, Train MSE: 0.2756, Train MAE: 0.3812\n",
      "Epoch 1270 - Validation Loss: 1.9028, Validation MSE: 1.9043, Validation MAE: 1.0179\n"
     ]
    },
    {
     "name": "stderr",
     "output_type": "stream",
     "text": [
      "Training Epoch 1272: 100%|██████████| 261/261 [00:09<00:00, 26.39it/s]\n",
      "Training Epoch 1273: 100%|██████████| 261/261 [00:09<00:00, 26.44it/s]\n",
      "Training Epoch 1274: 100%|██████████| 261/261 [00:09<00:00, 26.23it/s]\n",
      "Training Epoch 1275: 100%|██████████| 261/261 [00:10<00:00, 25.61it/s]\n",
      "Training Epoch 1276: 100%|██████████| 261/261 [00:09<00:00, 26.70it/s]\n",
      "Training Epoch 1277: 100%|██████████| 261/261 [00:09<00:00, 26.30it/s]\n",
      "Training Epoch 1278: 100%|██████████| 261/261 [00:09<00:00, 26.33it/s]\n",
      "Training Epoch 1279: 100%|██████████| 261/261 [00:09<00:00, 26.22it/s]\n",
      "Training Epoch 1280: 100%|██████████| 261/261 [00:10<00:00, 25.73it/s]\n",
      "Training Epoch 1281: 100%|██████████| 261/261 [00:09<00:00, 26.12it/s]\n"
     ]
    },
    {
     "name": "stdout",
     "output_type": "stream",
     "text": [
      "Epoch 1280 - Train Loss: 0.2737, Train MSE: 0.2737, Train MAE: 0.3774\n",
      "Epoch 1280 - Validation Loss: 1.9043, Validation MSE: 1.9060, Validation MAE: 1.0218\n"
     ]
    },
    {
     "name": "stderr",
     "output_type": "stream",
     "text": [
      "Training Epoch 1282: 100%|██████████| 261/261 [00:09<00:00, 26.74it/s]\n",
      "Training Epoch 1283: 100%|██████████| 261/261 [00:09<00:00, 26.54it/s]\n",
      "Training Epoch 1284: 100%|██████████| 261/261 [00:10<00:00, 26.01it/s]\n",
      "Training Epoch 1285: 100%|██████████| 261/261 [00:10<00:00, 26.04it/s]\n",
      "Training Epoch 1286: 100%|██████████| 261/261 [00:09<00:00, 26.67it/s]\n",
      "Training Epoch 1287: 100%|██████████| 261/261 [00:09<00:00, 26.18it/s]\n",
      "Training Epoch 1288: 100%|██████████| 261/261 [00:10<00:00, 25.76it/s]\n",
      "Training Epoch 1289: 100%|██████████| 261/261 [00:09<00:00, 26.42it/s]\n",
      "Training Epoch 1290: 100%|██████████| 261/261 [00:10<00:00, 25.89it/s]\n",
      "Training Epoch 1291: 100%|██████████| 261/261 [00:10<00:00, 25.83it/s]\n"
     ]
    },
    {
     "name": "stdout",
     "output_type": "stream",
     "text": [
      "Epoch 1290 - Train Loss: 0.2856, Train MSE: 0.2856, Train MAE: 0.3863\n",
      "Epoch 1290 - Validation Loss: 1.9066, Validation MSE: 1.9081, Validation MAE: 1.0138\n"
     ]
    },
    {
     "name": "stderr",
     "output_type": "stream",
     "text": [
      "Training Epoch 1292: 100%|██████████| 261/261 [00:09<00:00, 26.43it/s]\n",
      "Training Epoch 1293: 100%|██████████| 261/261 [00:09<00:00, 26.46it/s]\n",
      "Training Epoch 1294: 100%|██████████| 261/261 [00:09<00:00, 26.19it/s]\n",
      "Training Epoch 1295: 100%|██████████| 261/261 [00:10<00:00, 25.85it/s]\n",
      "Training Epoch 1296: 100%|██████████| 261/261 [00:09<00:00, 26.17it/s]\n",
      "Training Epoch 1297: 100%|██████████| 261/261 [00:10<00:00, 25.87it/s]\n",
      "Training Epoch 1298: 100%|██████████| 261/261 [00:10<00:00, 25.81it/s]\n",
      "Training Epoch 1299: 100%|██████████| 261/261 [00:09<00:00, 26.25it/s]\n",
      "Training Epoch 1300: 100%|██████████| 261/261 [00:10<00:00, 26.00it/s]\n",
      "Training Epoch 1301: 100%|██████████| 261/261 [00:10<00:00, 25.88it/s]\n"
     ]
    },
    {
     "name": "stdout",
     "output_type": "stream",
     "text": [
      "Epoch 1300 - Train Loss: 0.2841, Train MSE: 0.2841, Train MAE: 0.3869\n",
      "Epoch 1300 - Validation Loss: 1.9463, Validation MSE: 1.9478, Validation MAE: 1.0286\n"
     ]
    },
    {
     "name": "stderr",
     "output_type": "stream",
     "text": [
      "Training Epoch 1302: 100%|██████████| 261/261 [00:10<00:00, 25.79it/s]\n",
      "Training Epoch 1303: 100%|██████████| 261/261 [00:10<00:00, 25.64it/s]\n",
      "Training Epoch 1304: 100%|██████████| 261/261 [00:09<00:00, 26.16it/s]\n",
      "Training Epoch 1305: 100%|██████████| 261/261 [00:09<00:00, 26.19it/s]\n",
      "Training Epoch 1306: 100%|██████████| 261/261 [00:10<00:00, 25.21it/s]\n",
      "Training Epoch 1307: 100%|██████████| 261/261 [00:09<00:00, 26.20it/s]\n",
      "Training Epoch 1308: 100%|██████████| 261/261 [00:09<00:00, 26.28it/s]\n",
      "Training Epoch 1309: 100%|██████████| 261/261 [00:10<00:00, 25.86it/s]\n",
      "Training Epoch 1310: 100%|██████████| 261/261 [00:10<00:00, 25.69it/s]\n",
      "Training Epoch 1311: 100%|██████████| 261/261 [00:10<00:00, 25.40it/s]\n"
     ]
    },
    {
     "name": "stdout",
     "output_type": "stream",
     "text": [
      "Epoch 1310 - Train Loss: 0.2765, Train MSE: 0.2765, Train MAE: 0.3789\n",
      "Epoch 1310 - Validation Loss: 1.9295, Validation MSE: 1.9310, Validation MAE: 1.0249\n"
     ]
    },
    {
     "name": "stderr",
     "output_type": "stream",
     "text": [
      "Training Epoch 1312: 100%|██████████| 261/261 [00:10<00:00, 25.83it/s]\n",
      "Training Epoch 1313: 100%|██████████| 261/261 [00:09<00:00, 26.15it/s]\n",
      "Training Epoch 1314: 100%|██████████| 261/261 [00:09<00:00, 26.20it/s]\n",
      "Training Epoch 1315: 100%|██████████| 261/261 [00:09<00:00, 26.18it/s]\n",
      "Training Epoch 1316: 100%|██████████| 261/261 [00:09<00:00, 26.23it/s]\n",
      "Training Epoch 1317: 100%|██████████| 261/261 [00:10<00:00, 24.85it/s]\n",
      "Training Epoch 1318: 100%|██████████| 261/261 [00:10<00:00, 26.06it/s]\n",
      "Training Epoch 1319: 100%|██████████| 261/261 [00:09<00:00, 26.60it/s]\n",
      "Training Epoch 1320: 100%|██████████| 261/261 [00:09<00:00, 28.60it/s]\n",
      "Training Epoch 1321: 100%|██████████| 261/261 [00:09<00:00, 28.90it/s]\n"
     ]
    },
    {
     "name": "stdout",
     "output_type": "stream",
     "text": [
      "Epoch 1320 - Train Loss: 0.2638, Train MSE: 0.2638, Train MAE: 0.3726\n",
      "Epoch 1320 - Validation Loss: 1.9344, Validation MSE: 1.9359, Validation MAE: 1.0222\n"
     ]
    },
    {
     "name": "stderr",
     "output_type": "stream",
     "text": [
      "Training Epoch 1322: 100%|██████████| 261/261 [00:09<00:00, 27.84it/s]\n",
      "Training Epoch 1323: 100%|██████████| 261/261 [00:09<00:00, 28.63it/s]\n",
      "Training Epoch 1324: 100%|██████████| 261/261 [00:09<00:00, 28.85it/s]\n",
      "Training Epoch 1325: 100%|██████████| 261/261 [00:09<00:00, 28.14it/s]\n",
      "Training Epoch 1326: 100%|██████████| 261/261 [00:09<00:00, 28.67it/s]\n",
      "Training Epoch 1327: 100%|██████████| 261/261 [00:09<00:00, 28.96it/s]\n",
      "Training Epoch 1328: 100%|██████████| 261/261 [00:09<00:00, 27.60it/s]\n",
      "Training Epoch 1329: 100%|██████████| 261/261 [00:09<00:00, 28.74it/s]\n",
      "Training Epoch 1330: 100%|██████████| 261/261 [00:09<00:00, 28.87it/s]\n",
      "Training Epoch 1331: 100%|██████████| 261/261 [00:09<00:00, 28.65it/s]\n"
     ]
    },
    {
     "name": "stdout",
     "output_type": "stream",
     "text": [
      "Epoch 1330 - Train Loss: 0.2720, Train MSE: 0.2720, Train MAE: 0.3797\n",
      "Epoch 1330 - Validation Loss: 1.8980, Validation MSE: 1.8994, Validation MAE: 1.0159\n"
     ]
    },
    {
     "name": "stderr",
     "output_type": "stream",
     "text": [
      "Training Epoch 1332: 100%|██████████| 261/261 [00:09<00:00, 28.80it/s]\n",
      "Training Epoch 1333: 100%|██████████| 261/261 [00:09<00:00, 28.26it/s]\n",
      "Training Epoch 1334: 100%|██████████| 261/261 [00:09<00:00, 28.28it/s]\n",
      "Training Epoch 1335: 100%|██████████| 261/261 [00:09<00:00, 28.65it/s]\n",
      "Training Epoch 1336: 100%|██████████| 261/261 [00:09<00:00, 28.70it/s]\n",
      "Training Epoch 1337: 100%|██████████| 261/261 [00:09<00:00, 28.94it/s]\n",
      "Training Epoch 1338: 100%|██████████| 261/261 [00:09<00:00, 27.94it/s]\n",
      "Training Epoch 1339: 100%|██████████| 261/261 [00:09<00:00, 28.83it/s]\n",
      "Training Epoch 1340: 100%|██████████| 261/261 [00:09<00:00, 28.55it/s]\n",
      "Training Epoch 1341: 100%|██████████| 261/261 [00:09<00:00, 28.49it/s]\n"
     ]
    },
    {
     "name": "stdout",
     "output_type": "stream",
     "text": [
      "Epoch 1340 - Train Loss: 0.2739, Train MSE: 0.2738, Train MAE: 0.3820\n",
      "Epoch 1340 - Validation Loss: 1.9201, Validation MSE: 1.9216, Validation MAE: 1.0259\n"
     ]
    },
    {
     "name": "stderr",
     "output_type": "stream",
     "text": [
      "Training Epoch 1342: 100%|██████████| 261/261 [00:09<00:00, 28.56it/s]\n",
      "Training Epoch 1343: 100%|██████████| 261/261 [00:08<00:00, 29.05it/s]\n",
      "Training Epoch 1344: 100%|██████████| 261/261 [00:09<00:00, 28.20it/s]\n",
      "Training Epoch 1345: 100%|██████████| 261/261 [00:09<00:00, 28.78it/s]\n",
      "Training Epoch 1346: 100%|██████████| 261/261 [00:09<00:00, 27.99it/s]\n",
      "Training Epoch 1347: 100%|██████████| 261/261 [00:09<00:00, 29.00it/s]\n",
      "Training Epoch 1348: 100%|██████████| 261/261 [00:09<00:00, 28.69it/s]\n",
      "Training Epoch 1349: 100%|██████████| 261/261 [00:09<00:00, 28.63it/s]\n",
      "Training Epoch 1350: 100%|██████████| 261/261 [00:09<00:00, 28.32it/s]\n",
      "Training Epoch 1351: 100%|██████████| 261/261 [00:09<00:00, 28.66it/s]\n"
     ]
    },
    {
     "name": "stdout",
     "output_type": "stream",
     "text": [
      "Epoch 1350 - Train Loss: 0.2780, Train MSE: 0.2781, Train MAE: 0.3823\n",
      "Epoch 1350 - Validation Loss: 1.8934, Validation MSE: 1.8951, Validation MAE: 1.0121\n"
     ]
    },
    {
     "name": "stderr",
     "output_type": "stream",
     "text": [
      "Training Epoch 1352: 100%|██████████| 261/261 [00:09<00:00, 27.46it/s]\n",
      "Training Epoch 1353: 100%|██████████| 261/261 [00:09<00:00, 28.53it/s]\n",
      "Training Epoch 1354: 100%|██████████| 261/261 [00:09<00:00, 28.92it/s]\n",
      "Training Epoch 1355: 100%|██████████| 261/261 [00:09<00:00, 28.39it/s]\n",
      "Training Epoch 1356: 100%|██████████| 261/261 [00:08<00:00, 29.15it/s]\n",
      "Training Epoch 1357: 100%|██████████| 261/261 [00:09<00:00, 28.88it/s]\n",
      "Training Epoch 1358: 100%|██████████| 261/261 [00:09<00:00, 27.91it/s]\n",
      "Training Epoch 1359: 100%|██████████| 261/261 [00:09<00:00, 28.31it/s]\n",
      "Training Epoch 1360: 100%|██████████| 261/261 [00:09<00:00, 28.77it/s]\n",
      "Training Epoch 1361: 100%|██████████| 261/261 [00:09<00:00, 28.61it/s]\n"
     ]
    },
    {
     "name": "stdout",
     "output_type": "stream",
     "text": [
      "Epoch 1360 - Train Loss: 0.2801, Train MSE: 0.2801, Train MAE: 0.3824\n",
      "Epoch 1360 - Validation Loss: 1.9435, Validation MSE: 1.9449, Validation MAE: 1.0224\n"
     ]
    },
    {
     "name": "stderr",
     "output_type": "stream",
     "text": [
      "Training Epoch 1362: 100%|██████████| 261/261 [00:09<00:00, 28.67it/s]\n",
      "Training Epoch 1363: 100%|██████████| 261/261 [00:09<00:00, 28.86it/s]\n",
      "Training Epoch 1364: 100%|██████████| 261/261 [00:09<00:00, 28.83it/s]\n",
      "Training Epoch 1365: 100%|██████████| 261/261 [00:09<00:00, 28.68it/s]\n",
      "Training Epoch 1366: 100%|██████████| 261/261 [00:09<00:00, 28.93it/s]\n",
      "Training Epoch 1367: 100%|██████████| 261/261 [00:09<00:00, 28.26it/s]\n",
      "Training Epoch 1368: 100%|██████████| 261/261 [00:09<00:00, 28.69it/s]\n",
      "Training Epoch 1369: 100%|██████████| 261/261 [00:09<00:00, 28.10it/s]\n",
      "Training Epoch 1370: 100%|██████████| 261/261 [00:09<00:00, 28.38it/s]\n",
      "Training Epoch 1371: 100%|██████████| 261/261 [00:09<00:00, 28.58it/s]\n"
     ]
    },
    {
     "name": "stdout",
     "output_type": "stream",
     "text": [
      "Epoch 1370 - Train Loss: 0.2723, Train MSE: 0.2723, Train MAE: 0.3795\n",
      "Epoch 1370 - Validation Loss: 1.9603, Validation MSE: 1.9619, Validation MAE: 1.0306\n"
     ]
    },
    {
     "name": "stderr",
     "output_type": "stream",
     "text": [
      "Training Epoch 1372: 100%|██████████| 261/261 [00:09<00:00, 28.88it/s]\n",
      "Training Epoch 1373: 100%|██████████| 261/261 [00:09<00:00, 28.49it/s]\n",
      "Training Epoch 1374: 100%|██████████| 261/261 [00:09<00:00, 28.40it/s]\n",
      "Training Epoch 1375: 100%|██████████| 261/261 [00:09<00:00, 27.93it/s]\n",
      "Training Epoch 1376: 100%|██████████| 261/261 [00:09<00:00, 28.40it/s]\n",
      "Training Epoch 1377: 100%|██████████| 261/261 [00:09<00:00, 28.70it/s]\n",
      "Training Epoch 1378: 100%|██████████| 261/261 [00:09<00:00, 28.85it/s]\n",
      "Training Epoch 1379: 100%|██████████| 261/261 [00:09<00:00, 28.60it/s]\n",
      "Training Epoch 1380: 100%|██████████| 261/261 [00:09<00:00, 28.79it/s]\n",
      "Training Epoch 1381: 100%|██████████| 261/261 [00:09<00:00, 27.62it/s]\n"
     ]
    },
    {
     "name": "stdout",
     "output_type": "stream",
     "text": [
      "Epoch 1380 - Train Loss: 0.2740, Train MSE: 0.2740, Train MAE: 0.3775\n",
      "Epoch 1380 - Validation Loss: 1.9560, Validation MSE: 1.9575, Validation MAE: 1.0295\n"
     ]
    },
    {
     "name": "stderr",
     "output_type": "stream",
     "text": [
      "Training Epoch 1382: 100%|██████████| 261/261 [00:08<00:00, 29.25it/s]\n",
      "Training Epoch 1383: 100%|██████████| 261/261 [00:09<00:00, 28.61it/s]\n",
      "Training Epoch 1384: 100%|██████████| 261/261 [00:09<00:00, 28.71it/s]\n",
      "Training Epoch 1385: 100%|██████████| 261/261 [00:09<00:00, 28.97it/s]\n",
      "Training Epoch 1386: 100%|██████████| 261/261 [00:09<00:00, 28.38it/s]\n",
      "Training Epoch 1387: 100%|██████████| 261/261 [00:09<00:00, 28.06it/s]\n",
      "Training Epoch 1388: 100%|██████████| 261/261 [00:08<00:00, 29.09it/s]\n",
      "Training Epoch 1389: 100%|██████████| 261/261 [00:09<00:00, 28.60it/s]\n",
      "Training Epoch 1390: 100%|██████████| 261/261 [00:09<00:00, 28.77it/s]\n",
      "Training Epoch 1391: 100%|██████████| 261/261 [00:09<00:00, 28.55it/s]\n"
     ]
    },
    {
     "name": "stdout",
     "output_type": "stream",
     "text": [
      "Epoch 1390 - Train Loss: 0.2682, Train MSE: 0.2682, Train MAE: 0.3736\n",
      "Epoch 1390 - Validation Loss: 1.9877, Validation MSE: 1.9890, Validation MAE: 1.0366\n"
     ]
    },
    {
     "name": "stderr",
     "output_type": "stream",
     "text": [
      "Training Epoch 1392: 100%|██████████| 261/261 [00:09<00:00, 28.63it/s]\n",
      "Training Epoch 1393: 100%|██████████| 261/261 [00:09<00:00, 27.85it/s]\n",
      "Training Epoch 1394: 100%|██████████| 261/261 [00:09<00:00, 28.86it/s]\n",
      "Training Epoch 1395: 100%|██████████| 261/261 [00:09<00:00, 28.81it/s]\n",
      "Training Epoch 1396: 100%|██████████| 261/261 [00:09<00:00, 28.54it/s]\n",
      "Training Epoch 1397: 100%|██████████| 261/261 [00:09<00:00, 28.60it/s]\n",
      "Training Epoch 1398: 100%|██████████| 261/261 [00:09<00:00, 28.89it/s]\n",
      "Training Epoch 1399: 100%|██████████| 261/261 [00:09<00:00, 27.61it/s]\n",
      "Training Epoch 1400: 100%|██████████| 261/261 [00:09<00:00, 28.43it/s]\n",
      "Training Epoch 1401: 100%|██████████| 261/261 [00:09<00:00, 28.87it/s]\n"
     ]
    },
    {
     "name": "stdout",
     "output_type": "stream",
     "text": [
      "Epoch 1400 - Train Loss: 0.2731, Train MSE: 0.2731, Train MAE: 0.3802\n",
      "Epoch 1400 - Validation Loss: 1.8872, Validation MSE: 1.8885, Validation MAE: 1.0139\n"
     ]
    },
    {
     "name": "stderr",
     "output_type": "stream",
     "text": [
      "Training Epoch 1402: 100%|██████████| 261/261 [00:09<00:00, 28.07it/s]\n",
      "Training Epoch 1403: 100%|██████████| 261/261 [00:09<00:00, 28.89it/s]\n",
      "Training Epoch 1404: 100%|██████████| 261/261 [00:09<00:00, 28.86it/s]\n",
      "Training Epoch 1405: 100%|██████████| 261/261 [00:09<00:00, 27.88it/s]\n",
      "Training Epoch 1406: 100%|██████████| 261/261 [00:09<00:00, 28.97it/s]\n",
      "Training Epoch 1407: 100%|██████████| 261/261 [00:09<00:00, 28.95it/s]\n",
      "Training Epoch 1408: 100%|██████████| 261/261 [00:09<00:00, 28.80it/s]\n",
      "Training Epoch 1409: 100%|██████████| 261/261 [00:09<00:00, 28.72it/s]\n",
      "Training Epoch 1410: 100%|██████████| 261/261 [00:09<00:00, 28.91it/s]\n",
      "Training Epoch 1411: 100%|██████████| 261/261 [00:09<00:00, 28.15it/s]\n"
     ]
    },
    {
     "name": "stdout",
     "output_type": "stream",
     "text": [
      "Epoch 1410 - Train Loss: 0.2719, Train MSE: 0.2719, Train MAE: 0.3757\n",
      "Epoch 1410 - Validation Loss: 1.9177, Validation MSE: 1.9191, Validation MAE: 1.0183\n"
     ]
    },
    {
     "name": "stderr",
     "output_type": "stream",
     "text": [
      "Training Epoch 1412: 100%|██████████| 261/261 [00:09<00:00, 28.60it/s]\n",
      "Training Epoch 1413: 100%|██████████| 261/261 [00:08<00:00, 29.04it/s]\n",
      "Training Epoch 1414: 100%|██████████| 261/261 [00:09<00:00, 28.56it/s]\n",
      "Training Epoch 1415: 100%|██████████| 261/261 [00:09<00:00, 28.78it/s]\n",
      "Training Epoch 1416: 100%|██████████| 261/261 [00:09<00:00, 28.88it/s]\n",
      "Training Epoch 1417: 100%|██████████| 261/261 [00:09<00:00, 28.27it/s]\n",
      "Training Epoch 1418: 100%|██████████| 261/261 [00:09<00:00, 28.53it/s]\n",
      "Training Epoch 1419: 100%|██████████| 261/261 [00:09<00:00, 28.43it/s]\n",
      "Training Epoch 1420: 100%|██████████| 261/261 [00:09<00:00, 28.89it/s]\n",
      "Training Epoch 1421: 100%|██████████| 261/261 [00:09<00:00, 28.86it/s]\n"
     ]
    },
    {
     "name": "stdout",
     "output_type": "stream",
     "text": [
      "Epoch 1420 - Train Loss: 0.2592, Train MSE: 0.2592, Train MAE: 0.3675\n",
      "Epoch 1420 - Validation Loss: 1.9295, Validation MSE: 1.9310, Validation MAE: 1.0220\n"
     ]
    },
    {
     "name": "stderr",
     "output_type": "stream",
     "text": [
      "Training Epoch 1422: 100%|██████████| 261/261 [00:09<00:00, 28.63it/s]\n",
      "Training Epoch 1423: 100%|██████████| 261/261 [00:09<00:00, 28.71it/s]\n",
      "Training Epoch 1424: 100%|██████████| 261/261 [00:09<00:00, 28.51it/s]\n",
      "Training Epoch 1425: 100%|██████████| 261/261 [00:09<00:00, 28.66it/s]\n",
      "Training Epoch 1426: 100%|██████████| 261/261 [00:09<00:00, 28.86it/s]\n",
      "Training Epoch 1427: 100%|██████████| 261/261 [00:09<00:00, 28.57it/s]\n",
      "Training Epoch 1428: 100%|██████████| 261/261 [00:09<00:00, 28.33it/s]\n",
      "Training Epoch 1429: 100%|██████████| 261/261 [00:09<00:00, 28.44it/s]\n",
      "Training Epoch 1430: 100%|██████████| 261/261 [00:09<00:00, 28.90it/s]\n",
      "Training Epoch 1431: 100%|██████████| 261/261 [00:09<00:00, 28.65it/s]\n"
     ]
    },
    {
     "name": "stdout",
     "output_type": "stream",
     "text": [
      "Epoch 1430 - Train Loss: 0.2745, Train MSE: 0.2745, Train MAE: 0.3784\n",
      "Epoch 1430 - Validation Loss: 1.8840, Validation MSE: 1.8855, Validation MAE: 1.0145\n"
     ]
    },
    {
     "name": "stderr",
     "output_type": "stream",
     "text": [
      "Training Epoch 1432: 100%|██████████| 261/261 [00:09<00:00, 28.75it/s]\n",
      "Training Epoch 1433: 100%|██████████| 261/261 [00:09<00:00, 28.91it/s]\n",
      "Training Epoch 1434: 100%|██████████| 261/261 [00:09<00:00, 28.16it/s]\n",
      "Training Epoch 1435: 100%|██████████| 261/261 [00:09<00:00, 28.36it/s]\n",
      "Training Epoch 1436: 100%|██████████| 261/261 [00:09<00:00, 28.90it/s]\n",
      "Training Epoch 1437: 100%|██████████| 261/261 [00:09<00:00, 28.91it/s]\n",
      "Training Epoch 1438: 100%|██████████| 261/261 [00:09<00:00, 28.70it/s]\n",
      "Training Epoch 1439: 100%|██████████| 261/261 [00:09<00:00, 28.93it/s]\n",
      "Training Epoch 1440: 100%|██████████| 261/261 [00:09<00:00, 28.06it/s]\n",
      "Training Epoch 1441: 100%|██████████| 261/261 [00:09<00:00, 28.75it/s]\n"
     ]
    },
    {
     "name": "stdout",
     "output_type": "stream",
     "text": [
      "Epoch 1440 - Train Loss: 0.2712, Train MSE: 0.2712, Train MAE: 0.3772\n",
      "Epoch 1440 - Validation Loss: 1.9179, Validation MSE: 1.9194, Validation MAE: 1.0202\n"
     ]
    },
    {
     "name": "stderr",
     "output_type": "stream",
     "text": [
      "Training Epoch 1442: 100%|██████████| 261/261 [00:09<00:00, 28.34it/s]\n",
      "Training Epoch 1443: 100%|██████████| 261/261 [00:09<00:00, 28.87it/s]\n",
      "Training Epoch 1444: 100%|██████████| 261/261 [00:09<00:00, 28.59it/s]\n",
      "Training Epoch 1445: 100%|██████████| 261/261 [00:08<00:00, 29.00it/s]\n",
      "Training Epoch 1446: 100%|██████████| 261/261 [00:09<00:00, 28.28it/s]\n",
      "Training Epoch 1447: 100%|██████████| 261/261 [00:09<00:00, 28.24it/s]\n",
      "Training Epoch 1448: 100%|██████████| 261/261 [00:09<00:00, 28.86it/s]\n",
      "Training Epoch 1449: 100%|██████████| 261/261 [00:09<00:00, 29.00it/s]\n",
      "Training Epoch 1450: 100%|██████████| 261/261 [00:09<00:00, 28.74it/s]\n",
      "Training Epoch 1451: 100%|██████████| 261/261 [00:09<00:00, 28.74it/s]\n"
     ]
    },
    {
     "name": "stdout",
     "output_type": "stream",
     "text": [
      "Epoch 1450 - Train Loss: 0.2696, Train MSE: 0.2696, Train MAE: 0.3772\n",
      "Epoch 1450 - Validation Loss: 1.9126, Validation MSE: 1.9140, Validation MAE: 1.0161\n"
     ]
    },
    {
     "name": "stderr",
     "output_type": "stream",
     "text": [
      "Training Epoch 1452: 100%|██████████| 261/261 [00:09<00:00, 28.42it/s]\n",
      "Training Epoch 1453: 100%|██████████| 261/261 [00:09<00:00, 28.93it/s]\n",
      "Training Epoch 1454: 100%|██████████| 261/261 [00:09<00:00, 28.61it/s]\n",
      "Training Epoch 1455: 100%|██████████| 261/261 [00:09<00:00, 28.56it/s]\n",
      "Training Epoch 1456: 100%|██████████| 261/261 [00:09<00:00, 28.83it/s]\n",
      "Training Epoch 1457: 100%|██████████| 261/261 [00:09<00:00, 28.69it/s]\n",
      "Training Epoch 1458: 100%|██████████| 261/261 [00:09<00:00, 27.87it/s]\n",
      "Training Epoch 1459: 100%|██████████| 261/261 [00:09<00:00, 28.43it/s]\n",
      "Training Epoch 1460: 100%|██████████| 261/261 [00:09<00:00, 28.78it/s]\n",
      "Training Epoch 1461: 100%|██████████| 261/261 [00:09<00:00, 28.56it/s]\n"
     ]
    },
    {
     "name": "stdout",
     "output_type": "stream",
     "text": [
      "Epoch 1460 - Train Loss: 0.2751, Train MSE: 0.2751, Train MAE: 0.3810\n",
      "Epoch 1460 - Validation Loss: 1.9309, Validation MSE: 1.9324, Validation MAE: 1.0149\n"
     ]
    },
    {
     "name": "stderr",
     "output_type": "stream",
     "text": [
      "Training Epoch 1462: 100%|██████████| 261/261 [00:09<00:00, 28.94it/s]\n",
      "Training Epoch 1463: 100%|██████████| 261/261 [00:09<00:00, 28.70it/s]\n",
      "Training Epoch 1464: 100%|██████████| 261/261 [00:09<00:00, 28.37it/s]\n",
      "Training Epoch 1465: 100%|██████████| 261/261 [00:09<00:00, 28.81it/s]\n",
      "Training Epoch 1466: 100%|██████████| 261/261 [00:09<00:00, 28.37it/s]\n",
      "Training Epoch 1467: 100%|██████████| 261/261 [00:09<00:00, 28.89it/s]\n",
      "Training Epoch 1468: 100%|██████████| 261/261 [00:09<00:00, 28.58it/s]\n",
      "Training Epoch 1469: 100%|██████████| 261/261 [00:09<00:00, 28.70it/s]\n",
      "Training Epoch 1470: 100%|██████████| 261/261 [00:09<00:00, 27.46it/s]\n",
      "Training Epoch 1471: 100%|██████████| 261/261 [00:09<00:00, 28.82it/s]\n"
     ]
    },
    {
     "name": "stdout",
     "output_type": "stream",
     "text": [
      "Epoch 1470 - Train Loss: 0.2682, Train MSE: 0.2682, Train MAE: 0.3714\n",
      "Epoch 1470 - Validation Loss: 1.9126, Validation MSE: 1.9142, Validation MAE: 1.0171\n"
     ]
    },
    {
     "name": "stderr",
     "output_type": "stream",
     "text": [
      "Training Epoch 1472: 100%|██████████| 261/261 [00:09<00:00, 28.62it/s]\n",
      "Training Epoch 1473: 100%|██████████| 261/261 [00:09<00:00, 28.93it/s]\n",
      "Training Epoch 1474: 100%|██████████| 261/261 [00:09<00:00, 28.78it/s]\n",
      "Training Epoch 1475: 100%|██████████| 261/261 [00:08<00:00, 29.24it/s]\n",
      "Training Epoch 1476: 100%|██████████| 261/261 [00:09<00:00, 28.07it/s]\n",
      "Training Epoch 1477: 100%|██████████| 261/261 [00:09<00:00, 28.61it/s]\n",
      "Training Epoch 1478: 100%|██████████| 261/261 [00:09<00:00, 28.68it/s]\n",
      "Training Epoch 1479: 100%|██████████| 261/261 [00:09<00:00, 28.79it/s]\n",
      "Training Epoch 1480: 100%|██████████| 261/261 [00:09<00:00, 28.93it/s]\n",
      "Training Epoch 1481: 100%|██████████| 261/261 [00:08<00:00, 29.24it/s]\n"
     ]
    },
    {
     "name": "stdout",
     "output_type": "stream",
     "text": [
      "Epoch 1480 - Train Loss: 0.2755, Train MSE: 0.2755, Train MAE: 0.3771\n",
      "Epoch 1480 - Validation Loss: 1.9335, Validation MSE: 1.9349, Validation MAE: 1.0206\n"
     ]
    },
    {
     "name": "stderr",
     "output_type": "stream",
     "text": [
      "Training Epoch 1482: 100%|██████████| 261/261 [00:09<00:00, 28.94it/s]\n",
      "Training Epoch 1483: 100%|██████████| 261/261 [00:08<00:00, 30.75it/s]\n",
      "Training Epoch 1484: 100%|██████████| 261/261 [00:08<00:00, 31.52it/s]\n",
      "Training Epoch 1485: 100%|██████████| 261/261 [00:08<00:00, 31.72it/s]\n",
      "Training Epoch 1486: 100%|██████████| 261/261 [00:08<00:00, 31.69it/s]\n",
      "Training Epoch 1487: 100%|██████████| 261/261 [00:08<00:00, 31.76it/s]\n",
      "Training Epoch 1488: 100%|██████████| 261/261 [00:08<00:00, 30.90it/s]\n",
      "Training Epoch 1489: 100%|██████████| 261/261 [00:08<00:00, 31.72it/s]\n",
      "Training Epoch 1490: 100%|██████████| 261/261 [00:08<00:00, 31.42it/s]\n",
      "Training Epoch 1491: 100%|██████████| 261/261 [00:08<00:00, 31.63it/s]\n"
     ]
    },
    {
     "name": "stdout",
     "output_type": "stream",
     "text": [
      "Epoch 1490 - Train Loss: 0.2736, Train MSE: 0.2737, Train MAE: 0.3803\n",
      "Epoch 1490 - Validation Loss: 1.9177, Validation MSE: 1.9192, Validation MAE: 1.0159\n"
     ]
    },
    {
     "name": "stderr",
     "output_type": "stream",
     "text": [
      "Training Epoch 1492: 100%|██████████| 261/261 [00:08<00:00, 31.51it/s]\n",
      "Training Epoch 1493: 100%|██████████| 261/261 [00:08<00:00, 30.89it/s]\n",
      "Training Epoch 1494: 100%|██████████| 261/261 [00:08<00:00, 31.22it/s]\n",
      "Training Epoch 1495: 100%|██████████| 261/261 [00:08<00:00, 31.15it/s]\n",
      "Training Epoch 1496: 100%|██████████| 261/261 [00:08<00:00, 31.55it/s]\n",
      "Training Epoch 1497: 100%|██████████| 261/261 [00:08<00:00, 31.98it/s]\n",
      "Training Epoch 1498: 100%|██████████| 261/261 [00:08<00:00, 31.88it/s]\n",
      "Training Epoch 1499: 100%|██████████| 261/261 [00:08<00:00, 31.70it/s]\n",
      "Training Epoch 1500: 100%|██████████| 261/261 [00:08<00:00, 31.63it/s]\n",
      "Training Epoch 1501: 100%|██████████| 261/261 [00:08<00:00, 30.86it/s]\n"
     ]
    },
    {
     "name": "stdout",
     "output_type": "stream",
     "text": [
      "Epoch 1500 - Train Loss: 0.2715, Train MSE: 0.2715, Train MAE: 0.3774\n",
      "Epoch 1500 - Validation Loss: 1.9252, Validation MSE: 1.9267, Validation MAE: 1.0200\n"
     ]
    },
    {
     "name": "stderr",
     "output_type": "stream",
     "text": [
      "Training Epoch 1502: 100%|██████████| 261/261 [00:08<00:00, 31.96it/s]\n",
      "Training Epoch 1503: 100%|██████████| 261/261 [00:08<00:00, 31.84it/s]\n",
      "Training Epoch 1504: 100%|██████████| 261/261 [00:08<00:00, 31.77it/s]\n",
      "Training Epoch 1505: 100%|██████████| 261/261 [00:08<00:00, 31.69it/s]\n",
      "Training Epoch 1506: 100%|██████████| 261/261 [00:08<00:00, 31.95it/s]\n",
      "Training Epoch 1507: 100%|██████████| 261/261 [00:08<00:00, 31.26it/s]\n",
      "Training Epoch 1508: 100%|██████████| 261/261 [00:08<00:00, 31.69it/s]\n",
      "Training Epoch 1509: 100%|██████████| 261/261 [00:08<00:00, 31.02it/s]\n",
      "Training Epoch 1510: 100%|██████████| 261/261 [00:08<00:00, 31.97it/s]\n",
      "Training Epoch 1511: 100%|██████████| 261/261 [00:08<00:00, 31.77it/s]\n"
     ]
    },
    {
     "name": "stdout",
     "output_type": "stream",
     "text": [
      "Epoch 1510 - Train Loss: 0.2701, Train MSE: 0.2701, Train MAE: 0.3748\n",
      "Epoch 1510 - Validation Loss: 1.9267, Validation MSE: 1.9283, Validation MAE: 1.0190\n"
     ]
    },
    {
     "name": "stderr",
     "output_type": "stream",
     "text": [
      "Training Epoch 1512: 100%|██████████| 261/261 [00:08<00:00, 31.46it/s]\n",
      "Training Epoch 1513: 100%|██████████| 261/261 [00:08<00:00, 32.14it/s]\n",
      "Training Epoch 1514: 100%|██████████| 261/261 [00:08<00:00, 31.08it/s]\n",
      "Training Epoch 1515: 100%|██████████| 261/261 [00:08<00:00, 31.75it/s]\n",
      "Training Epoch 1516: 100%|██████████| 261/261 [00:08<00:00, 31.91it/s]\n",
      "Training Epoch 1517: 100%|██████████| 261/261 [00:08<00:00, 31.40it/s]\n",
      "Training Epoch 1518: 100%|██████████| 261/261 [00:08<00:00, 31.65it/s]\n",
      "Training Epoch 1519: 100%|██████████| 261/261 [00:08<00:00, 31.77it/s]\n",
      "Training Epoch 1520: 100%|██████████| 261/261 [00:08<00:00, 31.23it/s]\n",
      "Training Epoch 1521: 100%|██████████| 261/261 [00:08<00:00, 31.72it/s]\n"
     ]
    },
    {
     "name": "stdout",
     "output_type": "stream",
     "text": [
      "Epoch 1520 - Train Loss: 0.2563, Train MSE: 0.2563, Train MAE: 0.3664\n",
      "Epoch 1520 - Validation Loss: 1.9237, Validation MSE: 1.9253, Validation MAE: 1.0170\n"
     ]
    },
    {
     "name": "stderr",
     "output_type": "stream",
     "text": [
      "Training Epoch 1522: 100%|██████████| 261/261 [00:08<00:00, 31.63it/s]\n",
      "Training Epoch 1523: 100%|██████████| 261/261 [00:08<00:00, 32.09it/s]\n",
      "Training Epoch 1524: 100%|██████████| 261/261 [00:08<00:00, 31.91it/s]\n",
      "Training Epoch 1525: 100%|██████████| 261/261 [00:08<00:00, 31.55it/s]\n",
      "Training Epoch 1526: 100%|██████████| 261/261 [00:08<00:00, 32.24it/s]\n",
      "Training Epoch 1527: 100%|██████████| 261/261 [00:08<00:00, 30.90it/s]\n",
      "Training Epoch 1528: 100%|██████████| 261/261 [00:08<00:00, 31.13it/s]\n",
      "Training Epoch 1529: 100%|██████████| 261/261 [00:08<00:00, 32.10it/s]\n",
      "Training Epoch 1530: 100%|██████████| 261/261 [00:08<00:00, 31.79it/s]\n",
      "Training Epoch 1531: 100%|██████████| 261/261 [00:08<00:00, 31.72it/s]\n"
     ]
    },
    {
     "name": "stdout",
     "output_type": "stream",
     "text": [
      "Epoch 1530 - Train Loss: 0.2659, Train MSE: 0.2659, Train MAE: 0.3720\n",
      "Epoch 1530 - Validation Loss: 1.9269, Validation MSE: 1.9283, Validation MAE: 1.0184\n"
     ]
    },
    {
     "name": "stderr",
     "output_type": "stream",
     "text": [
      "Training Epoch 1532: 100%|██████████| 261/261 [00:08<00:00, 31.85it/s]\n",
      "Training Epoch 1533: 100%|██████████| 261/261 [00:08<00:00, 30.95it/s]\n",
      "Training Epoch 1534: 100%|██████████| 261/261 [00:08<00:00, 31.19it/s]\n",
      "Training Epoch 1535: 100%|██████████| 261/261 [00:08<00:00, 31.79it/s]\n",
      "Training Epoch 1536: 100%|██████████| 261/261 [00:08<00:00, 31.79it/s]\n",
      "Training Epoch 1537: 100%|██████████| 261/261 [00:08<00:00, 31.74it/s]\n",
      "Training Epoch 1538: 100%|██████████| 261/261 [00:08<00:00, 31.63it/s]\n",
      "Training Epoch 1539: 100%|██████████| 261/261 [00:08<00:00, 32.34it/s]\n",
      "Training Epoch 1540: 100%|██████████| 261/261 [00:08<00:00, 30.87it/s]\n",
      "Training Epoch 1541: 100%|██████████| 261/261 [00:08<00:00, 31.72it/s]\n"
     ]
    },
    {
     "name": "stdout",
     "output_type": "stream",
     "text": [
      "Epoch 1540 - Train Loss: 0.2687, Train MSE: 0.2686, Train MAE: 0.3749\n",
      "Epoch 1540 - Validation Loss: 1.9153, Validation MSE: 1.9168, Validation MAE: 1.0162\n"
     ]
    },
    {
     "name": "stderr",
     "output_type": "stream",
     "text": [
      "Training Epoch 1542: 100%|██████████| 261/261 [00:08<00:00, 31.73it/s]\n",
      "Training Epoch 1543: 100%|██████████| 261/261 [00:08<00:00, 31.22it/s]\n",
      "Training Epoch 1544: 100%|██████████| 261/261 [00:08<00:00, 31.72it/s]\n",
      "Training Epoch 1545: 100%|██████████| 261/261 [00:08<00:00, 31.95it/s]\n",
      "Training Epoch 1546: 100%|██████████| 261/261 [00:08<00:00, 30.78it/s]\n",
      "Training Epoch 1547: 100%|██████████| 261/261 [00:08<00:00, 31.60it/s]\n",
      "Training Epoch 1548: 100%|██████████| 261/261 [00:08<00:00, 31.89it/s]\n",
      "Training Epoch 1549: 100%|██████████| 261/261 [00:08<00:00, 31.67it/s]\n",
      "Training Epoch 1550: 100%|██████████| 261/261 [00:08<00:00, 31.32it/s]\n",
      "Training Epoch 1551: 100%|██████████| 261/261 [00:08<00:00, 31.63it/s]\n"
     ]
    },
    {
     "name": "stdout",
     "output_type": "stream",
     "text": [
      "Epoch 1550 - Train Loss: 0.2628, Train MSE: 0.2628, Train MAE: 0.3705\n",
      "Epoch 1550 - Validation Loss: 1.9332, Validation MSE: 1.9346, Validation MAE: 1.0193\n"
     ]
    },
    {
     "name": "stderr",
     "output_type": "stream",
     "text": [
      "Training Epoch 1552: 100%|██████████| 261/261 [00:08<00:00, 32.20it/s]\n",
      "Training Epoch 1553: 100%|██████████| 261/261 [00:08<00:00, 30.52it/s]\n",
      "Training Epoch 1554: 100%|██████████| 261/261 [00:08<00:00, 31.59it/s]\n",
      "Training Epoch 1555: 100%|██████████| 261/261 [00:08<00:00, 31.53it/s]\n",
      "Training Epoch 1556: 100%|██████████| 261/261 [00:08<00:00, 31.63it/s]\n",
      "Training Epoch 1557: 100%|██████████| 261/261 [00:08<00:00, 31.77it/s]\n",
      "Training Epoch 1558: 100%|██████████| 261/261 [00:08<00:00, 31.68it/s]\n",
      "Training Epoch 1559: 100%|██████████| 261/261 [00:08<00:00, 31.21it/s]\n",
      "Training Epoch 1560: 100%|██████████| 261/261 [00:08<00:00, 31.66it/s]\n",
      "Training Epoch 1561: 100%|██████████| 261/261 [00:08<00:00, 31.84it/s]\n"
     ]
    },
    {
     "name": "stdout",
     "output_type": "stream",
     "text": [
      "Epoch 1560 - Train Loss: 0.2639, Train MSE: 0.2639, Train MAE: 0.3715\n",
      "Epoch 1560 - Validation Loss: 1.9406, Validation MSE: 1.9419, Validation MAE: 1.0245\n"
     ]
    },
    {
     "name": "stderr",
     "output_type": "stream",
     "text": [
      "Training Epoch 1562: 100%|██████████| 261/261 [00:08<00:00, 31.67it/s]\n",
      "Training Epoch 1563: 100%|██████████| 261/261 [00:08<00:00, 31.65it/s]\n",
      "Training Epoch 1564: 100%|██████████| 261/261 [00:08<00:00, 31.68it/s]\n",
      "Training Epoch 1565: 100%|██████████| 261/261 [00:08<00:00, 31.92it/s]\n",
      "Training Epoch 1566: 100%|██████████| 261/261 [00:08<00:00, 31.07it/s]\n",
      "Training Epoch 1567: 100%|██████████| 261/261 [00:08<00:00, 31.65it/s]\n",
      "Training Epoch 1568: 100%|██████████| 261/261 [00:08<00:00, 32.13it/s]\n",
      "Training Epoch 1569: 100%|██████████| 261/261 [00:08<00:00, 31.71it/s]\n",
      "Training Epoch 1570: 100%|██████████| 261/261 [00:08<00:00, 31.62it/s]\n",
      "Training Epoch 1571: 100%|██████████| 261/261 [00:08<00:00, 31.85it/s]\n"
     ]
    },
    {
     "name": "stdout",
     "output_type": "stream",
     "text": [
      "Epoch 1570 - Train Loss: 0.2544, Train MSE: 0.2543, Train MAE: 0.3655\n",
      "Epoch 1570 - Validation Loss: 1.9636, Validation MSE: 1.9652, Validation MAE: 1.0298\n"
     ]
    },
    {
     "name": "stderr",
     "output_type": "stream",
     "text": [
      "Training Epoch 1572: 100%|██████████| 261/261 [00:08<00:00, 30.96it/s]\n",
      "Training Epoch 1573: 100%|██████████| 261/261 [00:08<00:00, 31.81it/s]\n",
      "Training Epoch 1574: 100%|██████████| 261/261 [00:08<00:00, 31.83it/s]\n",
      "Training Epoch 1575: 100%|██████████| 261/261 [00:08<00:00, 31.18it/s]\n",
      "Training Epoch 1576: 100%|██████████| 261/261 [00:08<00:00, 31.90it/s]\n",
      "Training Epoch 1577: 100%|██████████| 261/261 [00:08<00:00, 31.79it/s]\n",
      "Training Epoch 1578: 100%|██████████| 261/261 [00:08<00:00, 31.96it/s]\n",
      "Training Epoch 1579: 100%|██████████| 261/261 [00:08<00:00, 31.85it/s]\n",
      "Training Epoch 1580: 100%|██████████| 261/261 [00:08<00:00, 31.67it/s]\n",
      "Training Epoch 1581: 100%|██████████| 261/261 [00:08<00:00, 32.22it/s]\n"
     ]
    },
    {
     "name": "stdout",
     "output_type": "stream",
     "text": [
      "Epoch 1580 - Train Loss: 0.2678, Train MSE: 0.2678, Train MAE: 0.3736\n",
      "Epoch 1580 - Validation Loss: 1.9678, Validation MSE: 1.9691, Validation MAE: 1.0317\n"
     ]
    },
    {
     "name": "stderr",
     "output_type": "stream",
     "text": [
      "Training Epoch 1582: 100%|██████████| 261/261 [00:08<00:00, 31.38it/s]\n",
      "Training Epoch 1583: 100%|██████████| 261/261 [00:08<00:00, 31.95it/s]\n",
      "Training Epoch 1584: 100%|██████████| 261/261 [00:08<00:00, 31.95it/s]\n",
      "Training Epoch 1585: 100%|██████████| 261/261 [00:08<00:00, 31.11it/s]\n",
      "Training Epoch 1586: 100%|██████████| 261/261 [00:08<00:00, 31.70it/s]\n",
      "Training Epoch 1587: 100%|██████████| 261/261 [00:08<00:00, 31.88it/s]\n",
      "Training Epoch 1588: 100%|██████████| 261/261 [00:08<00:00, 31.35it/s]\n",
      "Training Epoch 1589: 100%|██████████| 261/261 [00:08<00:00, 31.59it/s]\n",
      "Training Epoch 1590: 100%|██████████| 261/261 [00:08<00:00, 31.83it/s]\n",
      "Training Epoch 1591: 100%|██████████| 261/261 [00:08<00:00, 31.72it/s]\n"
     ]
    },
    {
     "name": "stdout",
     "output_type": "stream",
     "text": [
      "Epoch 1590 - Train Loss: 0.2573, Train MSE: 0.2573, Train MAE: 0.3674\n",
      "Epoch 1590 - Validation Loss: 2.0166, Validation MSE: 2.0180, Validation MAE: 1.0433\n"
     ]
    },
    {
     "name": "stderr",
     "output_type": "stream",
     "text": [
      "Training Epoch 1592: 100%|██████████| 261/261 [00:08<00:00, 31.58it/s]\n",
      "Training Epoch 1593: 100%|██████████| 261/261 [00:08<00:00, 31.42it/s]\n",
      "Training Epoch 1594: 100%|██████████| 261/261 [00:08<00:00, 32.04it/s]\n",
      "Training Epoch 1595: 100%|██████████| 261/261 [00:08<00:00, 31.84it/s]\n",
      "Training Epoch 1596: 100%|██████████| 261/261 [00:08<00:00, 31.70it/s]\n",
      "Training Epoch 1597: 100%|██████████| 261/261 [00:08<00:00, 32.04it/s]\n",
      "Training Epoch 1598: 100%|██████████| 261/261 [00:08<00:00, 30.89it/s]\n",
      "Training Epoch 1599: 100%|██████████| 261/261 [00:08<00:00, 30.72it/s]\n",
      "Training Epoch 1600: 100%|██████████| 261/261 [00:08<00:00, 31.88it/s]\n",
      "Training Epoch 1601: 100%|██████████| 261/261 [00:08<00:00, 31.71it/s]\n"
     ]
    },
    {
     "name": "stdout",
     "output_type": "stream",
     "text": [
      "Epoch 1600 - Train Loss: 0.2742, Train MSE: 0.2742, Train MAE: 0.3773\n",
      "Epoch 1600 - Validation Loss: 1.9352, Validation MSE: 1.9366, Validation MAE: 1.0204\n"
     ]
    },
    {
     "name": "stderr",
     "output_type": "stream",
     "text": [
      "Training Epoch 1602: 100%|██████████| 261/261 [00:08<00:00, 31.68it/s]\n",
      "Training Epoch 1603: 100%|██████████| 261/261 [00:08<00:00, 31.80it/s]\n",
      "Training Epoch 1604: 100%|██████████| 261/261 [00:08<00:00, 31.10it/s]\n",
      "Training Epoch 1605: 100%|██████████| 261/261 [00:08<00:00, 31.54it/s]\n",
      "Training Epoch 1606: 100%|██████████| 261/261 [00:08<00:00, 30.98it/s]\n",
      "Training Epoch 1607: 100%|██████████| 261/261 [00:08<00:00, 31.75it/s]\n",
      "Training Epoch 1608: 100%|██████████| 261/261 [00:08<00:00, 31.47it/s]\n",
      "Training Epoch 1609: 100%|██████████| 261/261 [00:08<00:00, 31.74it/s]\n",
      "Training Epoch 1610: 100%|██████████| 261/261 [00:08<00:00, 31.95it/s]\n",
      "Training Epoch 1611: 100%|██████████| 261/261 [00:08<00:00, 31.20it/s]\n"
     ]
    },
    {
     "name": "stdout",
     "output_type": "stream",
     "text": [
      "Epoch 1610 - Train Loss: 0.2776, Train MSE: 0.2776, Train MAE: 0.3777\n",
      "Epoch 1610 - Validation Loss: 1.9988, Validation MSE: 2.0002, Validation MAE: 1.0349\n"
     ]
    },
    {
     "name": "stderr",
     "output_type": "stream",
     "text": [
      "Training Epoch 1612: 100%|██████████| 261/261 [00:08<00:00, 31.71it/s]\n",
      "Training Epoch 1613: 100%|██████████| 261/261 [00:08<00:00, 31.59it/s]\n",
      "Training Epoch 1614: 100%|██████████| 261/261 [00:08<00:00, 31.85it/s]\n",
      "Training Epoch 1615: 100%|██████████| 261/261 [00:08<00:00, 31.54it/s]\n",
      "Training Epoch 1616: 100%|██████████| 261/261 [00:08<00:00, 31.99it/s]\n",
      "Training Epoch 1617: 100%|██████████| 261/261 [00:08<00:00, 31.06it/s]\n",
      "Training Epoch 1618: 100%|██████████| 261/261 [00:08<00:00, 31.40it/s]\n",
      "Training Epoch 1619: 100%|██████████| 261/261 [00:08<00:00, 30.94it/s]\n",
      "Training Epoch 1620: 100%|██████████| 261/261 [00:08<00:00, 31.66it/s]\n",
      "Training Epoch 1621: 100%|██████████| 261/261 [00:08<00:00, 31.82it/s]\n"
     ]
    },
    {
     "name": "stdout",
     "output_type": "stream",
     "text": [
      "Epoch 1620 - Train Loss: 0.2802, Train MSE: 0.2802, Train MAE: 0.3784\n",
      "Epoch 1620 - Validation Loss: 1.9636, Validation MSE: 1.9650, Validation MAE: 1.0282\n"
     ]
    },
    {
     "name": "stderr",
     "output_type": "stream",
     "text": [
      "Training Epoch 1622: 100%|██████████| 261/261 [00:08<00:00, 31.67it/s]\n",
      "Training Epoch 1623: 100%|██████████| 261/261 [00:08<00:00, 32.32it/s]\n",
      "Training Epoch 1624: 100%|██████████| 261/261 [00:08<00:00, 30.90it/s]\n",
      "Training Epoch 1625: 100%|██████████| 261/261 [00:08<00:00, 31.94it/s]\n",
      "Training Epoch 1626: 100%|██████████| 261/261 [00:08<00:00, 32.02it/s]\n",
      "Training Epoch 1627: 100%|██████████| 261/261 [00:08<00:00, 31.59it/s]\n",
      "Training Epoch 1628: 100%|██████████| 261/261 [00:08<00:00, 31.61it/s]\n",
      "Training Epoch 1629: 100%|██████████| 261/261 [00:08<00:00, 31.95it/s]\n",
      "Training Epoch 1630: 100%|██████████| 261/261 [00:08<00:00, 30.84it/s]\n",
      "Training Epoch 1631: 100%|██████████| 261/261 [00:08<00:00, 31.73it/s]\n"
     ]
    },
    {
     "name": "stdout",
     "output_type": "stream",
     "text": [
      "Epoch 1630 - Train Loss: 0.2656, Train MSE: 0.2656, Train MAE: 0.3716\n",
      "Epoch 1630 - Validation Loss: 1.9481, Validation MSE: 1.9496, Validation MAE: 1.0280\n"
     ]
    },
    {
     "name": "stderr",
     "output_type": "stream",
     "text": [
      "Training Epoch 1632: 100%|██████████| 261/261 [00:08<00:00, 31.90it/s]\n",
      "Training Epoch 1633: 100%|██████████| 261/261 [00:08<00:00, 31.76it/s]\n",
      "Training Epoch 1634: 100%|██████████| 261/261 [00:08<00:00, 31.78it/s]\n",
      "Training Epoch 1635: 100%|██████████| 261/261 [00:08<00:00, 31.74it/s]\n",
      "Training Epoch 1636: 100%|██████████| 261/261 [00:08<00:00, 31.60it/s]\n",
      "Training Epoch 1637: 100%|██████████| 261/261 [00:08<00:00, 31.25it/s]\n",
      "Training Epoch 1638: 100%|██████████| 261/261 [00:08<00:00, 31.37it/s]\n",
      "Training Epoch 1639: 100%|██████████| 261/261 [00:08<00:00, 31.86it/s]\n",
      "Training Epoch 1640: 100%|██████████| 261/261 [00:08<00:00, 31.74it/s]\n",
      "Training Epoch 1641: 100%|██████████| 261/261 [00:08<00:00, 31.53it/s]\n"
     ]
    },
    {
     "name": "stdout",
     "output_type": "stream",
     "text": [
      "Epoch 1640 - Train Loss: 0.2576, Train MSE: 0.2576, Train MAE: 0.3666\n",
      "Epoch 1640 - Validation Loss: 1.9665, Validation MSE: 1.9679, Validation MAE: 1.0302\n"
     ]
    },
    {
     "name": "stderr",
     "output_type": "stream",
     "text": [
      "Training Epoch 1642: 100%|██████████| 261/261 [00:08<00:00, 31.69it/s]\n",
      "Training Epoch 1643: 100%|██████████| 261/261 [00:08<00:00, 31.11it/s]\n",
      "Training Epoch 1644: 100%|██████████| 261/261 [00:08<00:00, 31.95it/s]\n",
      "Training Epoch 1645: 100%|██████████| 261/261 [00:08<00:00, 31.94it/s]\n",
      "Training Epoch 1646: 100%|██████████| 261/261 [00:08<00:00, 31.41it/s]\n",
      "Training Epoch 1647: 100%|██████████| 261/261 [00:08<00:00, 31.85it/s]\n",
      "Training Epoch 1648: 100%|██████████| 261/261 [00:08<00:00, 32.10it/s]\n",
      "Training Epoch 1649: 100%|██████████| 261/261 [00:08<00:00, 31.88it/s]\n",
      "Training Epoch 1650: 100%|██████████| 261/261 [00:08<00:00, 30.72it/s]\n",
      "Training Epoch 1651: 100%|██████████| 261/261 [00:08<00:00, 31.53it/s]\n"
     ]
    },
    {
     "name": "stdout",
     "output_type": "stream",
     "text": [
      "Epoch 1650 - Train Loss: 0.2713, Train MSE: 0.2713, Train MAE: 0.3774\n",
      "Epoch 1650 - Validation Loss: 1.9692, Validation MSE: 1.9705, Validation MAE: 1.0285\n"
     ]
    },
    {
     "name": "stderr",
     "output_type": "stream",
     "text": [
      "Training Epoch 1652: 100%|██████████| 261/261 [00:08<00:00, 32.16it/s]\n",
      "Training Epoch 1653: 100%|██████████| 261/261 [00:08<00:00, 31.74it/s]\n",
      "Training Epoch 1654: 100%|██████████| 261/261 [00:08<00:00, 31.74it/s]\n",
      "Training Epoch 1655: 100%|██████████| 261/261 [00:08<00:00, 31.80it/s]\n",
      "Training Epoch 1656: 100%|██████████| 261/261 [00:08<00:00, 31.02it/s]\n",
      "Training Epoch 1657: 100%|██████████| 261/261 [00:08<00:00, 31.63it/s]\n",
      "Training Epoch 1658: 100%|██████████| 261/261 [00:08<00:00, 31.80it/s]\n",
      "Training Epoch 1659: 100%|██████████| 261/261 [00:08<00:00, 31.88it/s]\n",
      "Training Epoch 1660: 100%|██████████| 261/261 [00:08<00:00, 31.19it/s]\n",
      "Training Epoch 1661: 100%|██████████| 261/261 [00:08<00:00, 31.80it/s]\n"
     ]
    },
    {
     "name": "stdout",
     "output_type": "stream",
     "text": [
      "Epoch 1660 - Train Loss: 0.2683, Train MSE: 0.2683, Train MAE: 0.3714\n",
      "Epoch 1660 - Validation Loss: 1.9406, Validation MSE: 1.9420, Validation MAE: 1.0229\n"
     ]
    },
    {
     "name": "stderr",
     "output_type": "stream",
     "text": [
      "Training Epoch 1662: 100%|██████████| 261/261 [00:08<00:00, 31.74it/s]\n",
      "Training Epoch 1663: 100%|██████████| 261/261 [00:08<00:00, 30.96it/s]\n",
      "Training Epoch 1664: 100%|██████████| 261/261 [00:08<00:00, 31.87it/s]\n",
      "Training Epoch 1665: 100%|██████████| 261/261 [00:08<00:00, 32.13it/s]\n",
      "Training Epoch 1666: 100%|██████████| 261/261 [00:08<00:00, 31.88it/s]\n",
      "Training Epoch 1667: 100%|██████████| 261/261 [00:08<00:00, 31.92it/s]\n",
      "Training Epoch 1668: 100%|██████████| 261/261 [00:08<00:00, 31.69it/s]\n",
      "Training Epoch 1669: 100%|██████████| 261/261 [00:08<00:00, 31.24it/s]\n",
      "Training Epoch 1670: 100%|██████████| 261/261 [00:08<00:00, 31.92it/s]\n",
      "Training Epoch 1671: 100%|██████████| 261/261 [00:08<00:00, 31.96it/s]\n"
     ]
    },
    {
     "name": "stdout",
     "output_type": "stream",
     "text": [
      "Epoch 1670 - Train Loss: 0.2615, Train MSE: 0.2615, Train MAE: 0.3665\n",
      "Epoch 1670 - Validation Loss: 1.9935, Validation MSE: 1.9949, Validation MAE: 1.0393\n"
     ]
    },
    {
     "name": "stderr",
     "output_type": "stream",
     "text": [
      "Training Epoch 1672: 100%|██████████| 261/261 [00:08<00:00, 31.85it/s]\n",
      "Training Epoch 1673: 100%|██████████| 261/261 [00:08<00:00, 31.80it/s]\n",
      "Training Epoch 1674: 100%|██████████| 261/261 [00:08<00:00, 32.15it/s]\n",
      "Training Epoch 1675: 100%|██████████| 261/261 [00:08<00:00, 31.80it/s]\n",
      "Training Epoch 1676: 100%|██████████| 261/261 [00:08<00:00, 31.39it/s]\n",
      "Training Epoch 1677: 100%|██████████| 261/261 [00:08<00:00, 32.14it/s]\n",
      "Training Epoch 1678: 100%|██████████| 261/261 [00:08<00:00, 31.92it/s]\n",
      "Training Epoch 1679: 100%|██████████| 261/261 [00:08<00:00, 31.78it/s]\n",
      "Training Epoch 1680: 100%|██████████| 261/261 [00:08<00:00, 31.94it/s]\n",
      "Training Epoch 1681: 100%|██████████| 261/261 [00:08<00:00, 32.05it/s]\n"
     ]
    },
    {
     "name": "stdout",
     "output_type": "stream",
     "text": [
      "Epoch 1680 - Train Loss: 0.2507, Train MSE: 0.2507, Train MAE: 0.3636\n",
      "Epoch 1680 - Validation Loss: 1.9637, Validation MSE: 1.9651, Validation MAE: 1.0263\n"
     ]
    },
    {
     "name": "stderr",
     "output_type": "stream",
     "text": [
      "Training Epoch 1682: 100%|██████████| 261/261 [00:08<00:00, 31.51it/s]\n",
      "Training Epoch 1683: 100%|██████████| 261/261 [00:08<00:00, 31.74it/s]\n",
      "Training Epoch 1684: 100%|██████████| 261/261 [00:08<00:00, 31.97it/s]\n",
      "Training Epoch 1685: 100%|██████████| 261/261 [00:08<00:00, 31.90it/s]\n",
      "Training Epoch 1686: 100%|██████████| 261/261 [00:08<00:00, 31.77it/s]\n",
      "Training Epoch 1687: 100%|██████████| 261/261 [00:08<00:00, 31.41it/s]\n",
      "Training Epoch 1688: 100%|██████████| 261/261 [00:08<00:00, 31.71it/s]\n",
      "Training Epoch 1689: 100%|██████████| 261/261 [00:08<00:00, 31.51it/s]\n",
      "Training Epoch 1690: 100%|██████████| 261/261 [00:08<00:00, 31.97it/s]\n",
      "Training Epoch 1691: 100%|██████████| 261/261 [00:08<00:00, 31.71it/s]\n"
     ]
    },
    {
     "name": "stdout",
     "output_type": "stream",
     "text": [
      "Epoch 1690 - Train Loss: 0.2708, Train MSE: 0.2708, Train MAE: 0.3725\n",
      "Epoch 1690 - Validation Loss: 1.9132, Validation MSE: 1.9148, Validation MAE: 1.0191\n"
     ]
    },
    {
     "name": "stderr",
     "output_type": "stream",
     "text": [
      "Training Epoch 1692: 100%|██████████| 261/261 [00:08<00:00, 32.07it/s]\n",
      "Training Epoch 1693: 100%|██████████| 261/261 [00:08<00:00, 31.77it/s]\n",
      "Training Epoch 1694: 100%|██████████| 261/261 [00:08<00:00, 32.17it/s]\n",
      "Training Epoch 1695: 100%|██████████| 261/261 [00:08<00:00, 31.00it/s]\n",
      "Training Epoch 1696: 100%|██████████| 261/261 [00:08<00:00, 31.89it/s]\n",
      "Training Epoch 1697: 100%|██████████| 261/261 [00:08<00:00, 32.12it/s]\n",
      "Training Epoch 1698: 100%|██████████| 261/261 [00:08<00:00, 32.01it/s]\n",
      "Training Epoch 1699: 100%|██████████| 261/261 [00:08<00:00, 31.94it/s]\n",
      "Training Epoch 1700: 100%|██████████| 261/261 [00:08<00:00, 32.03it/s]\n",
      "Training Epoch 1701: 100%|██████████| 261/261 [00:08<00:00, 31.75it/s]\n"
     ]
    },
    {
     "name": "stdout",
     "output_type": "stream",
     "text": [
      "Epoch 1700 - Train Loss: 0.2588, Train MSE: 0.2588, Train MAE: 0.3663\n",
      "Epoch 1700 - Validation Loss: 1.9113, Validation MSE: 1.9129, Validation MAE: 1.0198\n"
     ]
    },
    {
     "name": "stderr",
     "output_type": "stream",
     "text": [
      "Training Epoch 1702: 100%|██████████| 261/261 [00:08<00:00, 30.81it/s]\n",
      "Training Epoch 1703: 100%|██████████| 261/261 [00:08<00:00, 31.99it/s]\n",
      "Training Epoch 1704: 100%|██████████| 261/261 [00:08<00:00, 31.86it/s]\n",
      "Training Epoch 1705: 100%|██████████| 261/261 [00:08<00:00, 32.12it/s]\n",
      "Training Epoch 1706: 100%|██████████| 261/261 [00:08<00:00, 32.12it/s]\n",
      "Training Epoch 1707: 100%|██████████| 261/261 [00:08<00:00, 31.81it/s]\n",
      "Training Epoch 1708: 100%|██████████| 261/261 [00:08<00:00, 31.52it/s]\n",
      "Training Epoch 1709: 100%|██████████| 261/261 [00:08<00:00, 31.84it/s]\n",
      "Training Epoch 1710: 100%|██████████| 261/261 [00:08<00:00, 31.78it/s]\n",
      "Training Epoch 1711: 100%|██████████| 261/261 [00:08<00:00, 32.03it/s]\n"
     ]
    },
    {
     "name": "stdout",
     "output_type": "stream",
     "text": [
      "Epoch 1710 - Train Loss: 0.2651, Train MSE: 0.2650, Train MAE: 0.3716\n",
      "Epoch 1710 - Validation Loss: 1.8948, Validation MSE: 1.8964, Validation MAE: 1.0124\n"
     ]
    },
    {
     "name": "stderr",
     "output_type": "stream",
     "text": [
      "Training Epoch 1712: 100%|██████████| 261/261 [00:08<00:00, 31.78it/s]\n",
      "Training Epoch 1713: 100%|██████████| 261/261 [00:08<00:00, 32.13it/s]\n",
      "Training Epoch 1714: 100%|██████████| 261/261 [00:08<00:00, 31.80it/s]\n",
      "Training Epoch 1715: 100%|██████████| 261/261 [00:08<00:00, 31.31it/s]\n",
      "Training Epoch 1716: 100%|██████████| 261/261 [00:08<00:00, 31.37it/s]\n",
      "Training Epoch 1717: 100%|██████████| 261/261 [00:08<00:00, 31.85it/s]\n",
      "Training Epoch 1718: 100%|██████████| 261/261 [00:08<00:00, 31.80it/s]\n",
      "Training Epoch 1719: 100%|██████████| 261/261 [00:08<00:00, 31.37it/s]\n",
      "Training Epoch 1720: 100%|██████████| 261/261 [00:08<00:00, 32.10it/s]\n",
      "Training Epoch 1721: 100%|██████████| 261/261 [00:08<00:00, 31.22it/s]\n"
     ]
    },
    {
     "name": "stdout",
     "output_type": "stream",
     "text": [
      "Epoch 1720 - Train Loss: 0.2668, Train MSE: 0.2669, Train MAE: 0.3715\n",
      "Epoch 1720 - Validation Loss: 1.9076, Validation MSE: 1.9092, Validation MAE: 1.0178\n"
     ]
    },
    {
     "name": "stderr",
     "output_type": "stream",
     "text": [
      "Training Epoch 1722: 100%|██████████| 261/261 [00:08<00:00, 31.97it/s]\n",
      "Training Epoch 1723: 100%|██████████| 261/261 [00:08<00:00, 31.76it/s]\n",
      "Training Epoch 1724: 100%|██████████| 261/261 [00:08<00:00, 31.48it/s]\n",
      "Training Epoch 1725: 100%|██████████| 261/261 [00:08<00:00, 32.01it/s]\n",
      "Training Epoch 1726: 100%|██████████| 261/261 [00:08<00:00, 31.96it/s]\n",
      "Training Epoch 1727: 100%|██████████| 261/261 [00:08<00:00, 31.91it/s]\n",
      "Training Epoch 1728: 100%|██████████| 261/261 [00:08<00:00, 31.41it/s]\n",
      "Training Epoch 1729: 100%|██████████| 261/261 [00:08<00:00, 32.01it/s]\n",
      "Training Epoch 1730: 100%|██████████| 261/261 [00:08<00:00, 31.96it/s]\n",
      "Training Epoch 1731: 100%|██████████| 261/261 [00:08<00:00, 31.33it/s]\n"
     ]
    },
    {
     "name": "stdout",
     "output_type": "stream",
     "text": [
      "Epoch 1730 - Train Loss: 0.2625, Train MSE: 0.2625, Train MAE: 0.3688\n",
      "Epoch 1730 - Validation Loss: 1.9805, Validation MSE: 1.9820, Validation MAE: 1.0382\n"
     ]
    },
    {
     "name": "stderr",
     "output_type": "stream",
     "text": [
      "Training Epoch 1732: 100%|██████████| 261/261 [00:08<00:00, 32.00it/s]\n",
      "Training Epoch 1733: 100%|██████████| 261/261 [00:08<00:00, 31.96it/s]\n",
      "Training Epoch 1734: 100%|██████████| 261/261 [00:08<00:00, 31.22it/s]\n",
      "Training Epoch 1735: 100%|██████████| 261/261 [00:08<00:00, 31.91it/s]\n",
      "Training Epoch 1736: 100%|██████████| 261/261 [00:08<00:00, 32.17it/s]\n",
      "Training Epoch 1737: 100%|██████████| 261/261 [00:08<00:00, 31.96it/s]\n",
      "Training Epoch 1738: 100%|██████████| 261/261 [00:08<00:00, 31.90it/s]\n",
      "Training Epoch 1739: 100%|██████████| 261/261 [00:08<00:00, 31.77it/s]\n",
      "Training Epoch 1740: 100%|██████████| 261/261 [00:08<00:00, 31.38it/s]\n",
      "Training Epoch 1741: 100%|██████████| 261/261 [00:08<00:00, 31.57it/s]\n"
     ]
    },
    {
     "name": "stdout",
     "output_type": "stream",
     "text": [
      "Epoch 1740 - Train Loss: 0.2625, Train MSE: 0.2625, Train MAE: 0.3706\n",
      "Epoch 1740 - Validation Loss: 1.9115, Validation MSE: 1.9130, Validation MAE: 1.0167\n"
     ]
    },
    {
     "name": "stderr",
     "output_type": "stream",
     "text": [
      "Training Epoch 1742: 100%|██████████| 261/261 [00:08<00:00, 31.93it/s]\n",
      "Training Epoch 1743: 100%|██████████| 261/261 [00:08<00:00, 31.93it/s]\n",
      "Training Epoch 1744: 100%|██████████| 261/261 [00:08<00:00, 32.06it/s]\n",
      "Training Epoch 1745: 100%|██████████| 261/261 [00:08<00:00, 32.00it/s]\n",
      "Training Epoch 1746: 100%|██████████| 261/261 [00:08<00:00, 31.89it/s]\n",
      "Training Epoch 1747: 100%|██████████| 261/261 [00:08<00:00, 32.15it/s]\n",
      "Training Epoch 1748: 100%|██████████| 261/261 [00:08<00:00, 31.75it/s]\n",
      "Training Epoch 1749: 100%|██████████| 261/261 [00:08<00:00, 32.20it/s]\n",
      "Training Epoch 1750: 100%|██████████| 261/261 [00:08<00:00, 31.77it/s]\n",
      "Training Epoch 1751: 100%|██████████| 261/261 [00:08<00:00, 31.85it/s]\n"
     ]
    },
    {
     "name": "stdout",
     "output_type": "stream",
     "text": [
      "Epoch 1750 - Train Loss: 0.2676, Train MSE: 0.2676, Train MAE: 0.3728\n",
      "Epoch 1750 - Validation Loss: 1.9232, Validation MSE: 1.9248, Validation MAE: 1.0194\n"
     ]
    },
    {
     "name": "stderr",
     "output_type": "stream",
     "text": [
      "Training Epoch 1752: 100%|██████████| 261/261 [00:08<00:00, 32.08it/s]\n",
      "Training Epoch 1753: 100%|██████████| 261/261 [00:08<00:00, 31.98it/s]\n",
      "Training Epoch 1754: 100%|██████████| 261/261 [00:08<00:00, 31.44it/s]\n",
      "Training Epoch 1755: 100%|██████████| 261/261 [00:08<00:00, 32.02it/s]\n",
      "Training Epoch 1756: 100%|██████████| 261/261 [00:08<00:00, 31.70it/s]\n",
      "Training Epoch 1757: 100%|██████████| 261/261 [00:08<00:00, 32.15it/s]\n",
      "Training Epoch 1758: 100%|██████████| 261/261 [00:08<00:00, 32.08it/s]\n",
      "Training Epoch 1759: 100%|██████████| 261/261 [00:08<00:00, 32.13it/s]\n",
      "Training Epoch 1760: 100%|██████████| 261/261 [00:08<00:00, 31.92it/s]\n",
      "Training Epoch 1761: 100%|██████████| 261/261 [00:08<00:00, 31.82it/s]\n"
     ]
    },
    {
     "name": "stdout",
     "output_type": "stream",
     "text": [
      "Epoch 1760 - Train Loss: 0.2635, Train MSE: 0.2634, Train MAE: 0.3674\n",
      "Epoch 1760 - Validation Loss: 1.9857, Validation MSE: 1.9870, Validation MAE: 1.0358\n"
     ]
    },
    {
     "name": "stderr",
     "output_type": "stream",
     "text": [
      "Training Epoch 1762: 100%|██████████| 261/261 [00:08<00:00, 32.09it/s]\n",
      "Training Epoch 1763: 100%|██████████| 261/261 [00:08<00:00, 31.55it/s]\n",
      "Training Epoch 1764: 100%|██████████| 261/261 [00:08<00:00, 32.07it/s]\n",
      "Training Epoch 1765: 100%|██████████| 261/261 [00:08<00:00, 31.99it/s]\n",
      "Training Epoch 1766: 100%|██████████| 261/261 [00:08<00:00, 31.79it/s]\n",
      "Training Epoch 1767: 100%|██████████| 261/261 [00:08<00:00, 31.52it/s]\n",
      "Training Epoch 1768: 100%|██████████| 261/261 [00:08<00:00, 31.88it/s]\n",
      "Training Epoch 1769: 100%|██████████| 261/261 [00:08<00:00, 31.53it/s]\n",
      "Training Epoch 1770: 100%|██████████| 261/261 [00:08<00:00, 31.98it/s]\n",
      "Training Epoch 1771: 100%|██████████| 261/261 [00:08<00:00, 31.25it/s]\n"
     ]
    },
    {
     "name": "stdout",
     "output_type": "stream",
     "text": [
      "Epoch 1770 - Train Loss: 0.2713, Train MSE: 0.2713, Train MAE: 0.3761\n",
      "Epoch 1770 - Validation Loss: 1.9074, Validation MSE: 1.9088, Validation MAE: 1.0206\n"
     ]
    },
    {
     "name": "stderr",
     "output_type": "stream",
     "text": [
      "Training Epoch 1772: 100%|██████████| 261/261 [00:08<00:00, 32.06it/s]\n",
      "Training Epoch 1773: 100%|██████████| 261/261 [00:08<00:00, 31.88it/s]\n",
      "Training Epoch 1774: 100%|██████████| 261/261 [00:08<00:00, 31.60it/s]\n",
      "Training Epoch 1775: 100%|██████████| 261/261 [00:08<00:00, 32.10it/s]\n",
      "Training Epoch 1776: 100%|██████████| 261/261 [00:08<00:00, 31.82it/s]\n",
      "Training Epoch 1777: 100%|██████████| 261/261 [00:08<00:00, 31.96it/s]\n",
      "Training Epoch 1778: 100%|██████████| 261/261 [00:08<00:00, 31.59it/s]\n",
      "Training Epoch 1779: 100%|██████████| 261/261 [00:08<00:00, 31.96it/s]\n",
      "Training Epoch 1780: 100%|██████████| 261/261 [00:08<00:00, 31.40it/s]\n",
      "Training Epoch 1781: 100%|██████████| 261/261 [00:08<00:00, 31.83it/s]\n"
     ]
    },
    {
     "name": "stdout",
     "output_type": "stream",
     "text": [
      "Epoch 1780 - Train Loss: 0.2774, Train MSE: 0.2775, Train MAE: 0.3784\n",
      "Epoch 1780 - Validation Loss: 2.0114, Validation MSE: 2.0127, Validation MAE: 1.0469\n"
     ]
    },
    {
     "name": "stderr",
     "output_type": "stream",
     "text": [
      "Training Epoch 1782: 100%|██████████| 261/261 [00:08<00:00, 31.97it/s]\n",
      "Training Epoch 1783: 100%|██████████| 261/261 [00:08<00:00, 31.32it/s]\n",
      "Training Epoch 1784: 100%|██████████| 261/261 [00:08<00:00, 31.96it/s]\n",
      "Training Epoch 1785: 100%|██████████| 261/261 [00:08<00:00, 32.19it/s]\n",
      "Training Epoch 1786: 100%|██████████| 261/261 [00:08<00:00, 32.15it/s]\n",
      "Training Epoch 1787: 100%|██████████| 261/261 [00:08<00:00, 31.01it/s]\n",
      "Training Epoch 1788: 100%|██████████| 261/261 [00:08<00:00, 32.31it/s]\n",
      "Training Epoch 1789: 100%|██████████| 261/261 [00:08<00:00, 31.94it/s]\n",
      "Training Epoch 1790: 100%|██████████| 261/261 [00:08<00:00, 32.04it/s]\n",
      "Training Epoch 1791: 100%|██████████| 261/261 [00:08<00:00, 32.28it/s]\n"
     ]
    },
    {
     "name": "stdout",
     "output_type": "stream",
     "text": [
      "Epoch 1790 - Train Loss: 0.2664, Train MSE: 0.2664, Train MAE: 0.3707\n",
      "Epoch 1790 - Validation Loss: 1.9519, Validation MSE: 1.9534, Validation MAE: 1.0246\n"
     ]
    },
    {
     "name": "stderr",
     "output_type": "stream",
     "text": [
      "Training Epoch 1792: 100%|██████████| 261/261 [00:08<00:00, 31.99it/s]\n",
      "Training Epoch 1793: 100%|██████████| 261/261 [00:08<00:00, 31.24it/s]\n",
      "Training Epoch 1794: 100%|██████████| 261/261 [00:08<00:00, 31.73it/s]\n",
      "Training Epoch 1795: 100%|██████████| 261/261 [00:08<00:00, 31.95it/s]\n",
      "Training Epoch 1796: 100%|██████████| 261/261 [00:08<00:00, 31.28it/s]\n",
      "Training Epoch 1797: 100%|██████████| 261/261 [00:08<00:00, 31.99it/s]\n",
      "Training Epoch 1798: 100%|██████████| 261/261 [00:08<00:00, 32.24it/s]\n",
      "Training Epoch 1799: 100%|██████████| 261/261 [00:08<00:00, 32.39it/s]\n",
      "Training Epoch 1800: 100%|██████████| 261/261 [00:08<00:00, 31.08it/s]\n",
      "Training Epoch 1801: 100%|██████████| 261/261 [00:08<00:00, 32.13it/s]\n"
     ]
    },
    {
     "name": "stdout",
     "output_type": "stream",
     "text": [
      "Epoch 1800 - Train Loss: 0.2645, Train MSE: 0.2645, Train MAE: 0.3686\n",
      "Epoch 1800 - Validation Loss: 1.9249, Validation MSE: 1.9263, Validation MAE: 1.0173\n"
     ]
    },
    {
     "name": "stderr",
     "output_type": "stream",
     "text": [
      "Training Epoch 1802: 100%|██████████| 261/261 [00:08<00:00, 31.95it/s]\n",
      "Training Epoch 1803: 100%|██████████| 261/261 [00:08<00:00, 31.91it/s]\n",
      "Training Epoch 1804: 100%|██████████| 261/261 [00:08<00:00, 31.53it/s]\n",
      "Training Epoch 1805: 100%|██████████| 261/261 [00:08<00:00, 31.94it/s]\n",
      "Training Epoch 1806: 100%|██████████| 261/261 [00:08<00:00, 31.55it/s]\n",
      "Training Epoch 1807: 100%|██████████| 261/261 [00:08<00:00, 32.16it/s]\n",
      "Training Epoch 1808: 100%|██████████| 261/261 [00:08<00:00, 32.04it/s]\n",
      "Training Epoch 1809: 100%|██████████| 261/261 [00:08<00:00, 32.20it/s]\n",
      "Training Epoch 1810: 100%|██████████| 261/261 [00:08<00:00, 32.13it/s]\n",
      "Training Epoch 1811: 100%|██████████| 261/261 [00:08<00:00, 32.10it/s]\n"
     ]
    },
    {
     "name": "stdout",
     "output_type": "stream",
     "text": [
      "Epoch 1810 - Train Loss: 0.2575, Train MSE: 0.2575, Train MAE: 0.3659\n",
      "Epoch 1810 - Validation Loss: 1.9131, Validation MSE: 1.9147, Validation MAE: 1.0203\n"
     ]
    },
    {
     "name": "stderr",
     "output_type": "stream",
     "text": [
      "Training Epoch 1812: 100%|██████████| 261/261 [00:08<00:00, 32.03it/s]\n",
      "Training Epoch 1813: 100%|██████████| 261/261 [00:08<00:00, 31.22it/s]\n",
      "Training Epoch 1814: 100%|██████████| 261/261 [00:08<00:00, 32.52it/s]\n",
      "Training Epoch 1815: 100%|██████████| 261/261 [00:08<00:00, 32.05it/s]\n",
      "Training Epoch 1816: 100%|██████████| 261/261 [00:08<00:00, 31.64it/s]\n",
      "Training Epoch 1817: 100%|██████████| 261/261 [00:08<00:00, 32.52it/s]\n",
      "Training Epoch 1818: 100%|██████████| 261/261 [00:08<00:00, 32.05it/s]\n",
      "Training Epoch 1819: 100%|██████████| 261/261 [00:08<00:00, 31.35it/s]\n",
      "Training Epoch 1820: 100%|██████████| 261/261 [00:08<00:00, 31.79it/s]\n",
      "Training Epoch 1821: 100%|██████████| 261/261 [00:08<00:00, 31.04it/s]\n"
     ]
    },
    {
     "name": "stdout",
     "output_type": "stream",
     "text": [
      "Epoch 1820 - Train Loss: 0.2572, Train MSE: 0.2572, Train MAE: 0.3660\n",
      "Epoch 1820 - Validation Loss: 1.9064, Validation MSE: 1.9080, Validation MAE: 1.0180\n"
     ]
    },
    {
     "name": "stderr",
     "output_type": "stream",
     "text": [
      "Training Epoch 1822: 100%|██████████| 261/261 [00:08<00:00, 32.17it/s]\n",
      "Training Epoch 1823: 100%|██████████| 261/261 [00:08<00:00, 31.79it/s]\n",
      "Training Epoch 1824: 100%|██████████| 261/261 [00:08<00:00, 31.97it/s]\n",
      "Training Epoch 1825: 100%|██████████| 261/261 [00:08<00:00, 31.88it/s]\n",
      "Training Epoch 1826: 100%|██████████| 261/261 [00:08<00:00, 31.36it/s]\n",
      "Training Epoch 1827: 100%|██████████| 261/261 [00:07<00:00, 32.74it/s]\n",
      "Training Epoch 1828: 100%|██████████| 261/261 [00:08<00:00, 31.77it/s]\n",
      "Training Epoch 1829: 100%|██████████| 261/261 [00:08<00:00, 31.39it/s]\n",
      "Training Epoch 1830: 100%|██████████| 261/261 [00:08<00:00, 32.06it/s]\n",
      "Training Epoch 1831: 100%|██████████| 261/261 [00:08<00:00, 31.98it/s]\n"
     ]
    },
    {
     "name": "stdout",
     "output_type": "stream",
     "text": [
      "Epoch 1830 - Train Loss: 0.2580, Train MSE: 0.2579, Train MAE: 0.3640\n",
      "Epoch 1830 - Validation Loss: 1.9078, Validation MSE: 1.9094, Validation MAE: 1.0239\n"
     ]
    },
    {
     "name": "stderr",
     "output_type": "stream",
     "text": [
      "Training Epoch 1832: 100%|██████████| 261/261 [00:08<00:00, 31.25it/s]\n",
      "Training Epoch 1833: 100%|██████████| 261/261 [00:08<00:00, 32.43it/s]\n",
      "Training Epoch 1834: 100%|██████████| 261/261 [00:08<00:00, 31.91it/s]\n",
      "Training Epoch 1835: 100%|██████████| 261/261 [00:08<00:00, 31.98it/s]\n",
      "Training Epoch 1836: 100%|██████████| 261/261 [00:08<00:00, 31.87it/s]\n",
      "Training Epoch 1837: 100%|██████████| 261/261 [00:08<00:00, 31.59it/s]\n",
      "Training Epoch 1838: 100%|██████████| 261/261 [00:08<00:00, 31.86it/s]\n",
      "Training Epoch 1839: 100%|██████████| 261/261 [00:08<00:00, 31.43it/s]\n",
      "Training Epoch 1840: 100%|██████████| 261/261 [00:08<00:00, 32.41it/s]\n",
      "Training Epoch 1841: 100%|██████████| 261/261 [00:08<00:00, 31.76it/s]\n"
     ]
    },
    {
     "name": "stdout",
     "output_type": "stream",
     "text": [
      "Epoch 1840 - Train Loss: 0.2478, Train MSE: 0.2478, Train MAE: 0.3565\n",
      "Epoch 1840 - Validation Loss: 1.9411, Validation MSE: 1.9425, Validation MAE: 1.0245\n"
     ]
    },
    {
     "name": "stderr",
     "output_type": "stream",
     "text": [
      "Training Epoch 1842: 100%|██████████| 261/261 [00:08<00:00, 32.12it/s]\n",
      "Training Epoch 1843: 100%|██████████| 261/261 [00:08<00:00, 32.13it/s]\n",
      "Training Epoch 1844: 100%|██████████| 261/261 [00:08<00:00, 31.27it/s]\n",
      "Training Epoch 1845: 100%|██████████| 261/261 [00:08<00:00, 31.16it/s]\n",
      "Training Epoch 1846: 100%|██████████| 261/261 [00:08<00:00, 31.96it/s]\n",
      "Training Epoch 1847: 100%|██████████| 261/261 [00:08<00:00, 31.95it/s]\n",
      "Training Epoch 1848: 100%|██████████| 261/261 [00:08<00:00, 32.10it/s]\n",
      "Training Epoch 1849: 100%|██████████| 261/261 [00:08<00:00, 31.50it/s]\n",
      "Training Epoch 1850: 100%|██████████| 261/261 [00:08<00:00, 32.18it/s]\n",
      "Training Epoch 1851: 100%|██████████| 261/261 [00:08<00:00, 31.93it/s]\n"
     ]
    },
    {
     "name": "stdout",
     "output_type": "stream",
     "text": [
      "Epoch 1850 - Train Loss: 0.2605, Train MSE: 0.2605, Train MAE: 0.3664\n",
      "Epoch 1850 - Validation Loss: 1.9761, Validation MSE: 1.9776, Validation MAE: 1.0270\n"
     ]
    },
    {
     "name": "stderr",
     "output_type": "stream",
     "text": [
      "Training Epoch 1852: 100%|██████████| 261/261 [00:08<00:00, 31.22it/s]\n",
      "Training Epoch 1853: 100%|██████████| 261/261 [00:08<00:00, 31.87it/s]\n",
      "Training Epoch 1854: 100%|██████████| 261/261 [00:08<00:00, 31.82it/s]\n",
      "Training Epoch 1855: 100%|██████████| 261/261 [00:08<00:00, 31.81it/s]\n",
      "Training Epoch 1856: 100%|██████████| 261/261 [00:08<00:00, 32.28it/s]\n",
      "Training Epoch 1857: 100%|██████████| 261/261 [00:08<00:00, 31.99it/s]\n",
      "Training Epoch 1858: 100%|██████████| 261/261 [00:08<00:00, 31.12it/s]\n",
      "Training Epoch 1859: 100%|██████████| 261/261 [00:08<00:00, 31.82it/s]\n",
      "Training Epoch 1860: 100%|██████████| 261/261 [00:08<00:00, 30.67it/s]\n",
      "Training Epoch 1861: 100%|██████████| 261/261 [00:08<00:00, 31.83it/s]\n"
     ]
    },
    {
     "name": "stdout",
     "output_type": "stream",
     "text": [
      "Epoch 1860 - Train Loss: 0.2557, Train MSE: 0.2557, Train MAE: 0.3637\n",
      "Epoch 1860 - Validation Loss: 1.9490, Validation MSE: 1.9504, Validation MAE: 1.0253\n"
     ]
    },
    {
     "name": "stderr",
     "output_type": "stream",
     "text": [
      "Training Epoch 1862: 100%|██████████| 261/261 [00:08<00:00, 31.76it/s]\n",
      "Training Epoch 1863: 100%|██████████| 261/261 [00:08<00:00, 32.13it/s]\n",
      "Training Epoch 1864: 100%|██████████| 261/261 [00:08<00:00, 31.67it/s]\n",
      "Training Epoch 1865: 100%|██████████| 261/261 [00:08<00:00, 31.35it/s]\n",
      "Training Epoch 1866: 100%|██████████| 261/261 [00:08<00:00, 32.10it/s]\n",
      "Training Epoch 1867: 100%|██████████| 261/261 [00:08<00:00, 31.68it/s]\n",
      "Training Epoch 1868: 100%|██████████| 261/261 [00:08<00:00, 31.26it/s]\n",
      "Training Epoch 1869: 100%|██████████| 261/261 [00:08<00:00, 31.97it/s]\n",
      "Training Epoch 1870: 100%|██████████| 261/261 [00:08<00:00, 31.90it/s]\n",
      "Training Epoch 1871: 100%|██████████| 261/261 [00:08<00:00, 31.65it/s]\n"
     ]
    },
    {
     "name": "stdout",
     "output_type": "stream",
     "text": [
      "Epoch 1870 - Train Loss: 0.2542, Train MSE: 0.2542, Train MAE: 0.3637\n",
      "Epoch 1870 - Validation Loss: 1.9166, Validation MSE: 1.9181, Validation MAE: 1.0207\n"
     ]
    },
    {
     "name": "stderr",
     "output_type": "stream",
     "text": [
      "Training Epoch 1872: 100%|██████████| 261/261 [00:08<00:00, 32.08it/s]\n",
      "Training Epoch 1873: 100%|██████████| 261/261 [00:08<00:00, 31.67it/s]\n",
      "Training Epoch 1874: 100%|██████████| 261/261 [00:08<00:00, 31.93it/s]\n",
      "Training Epoch 1875: 100%|██████████| 261/261 [00:08<00:00, 31.56it/s]\n",
      "Training Epoch 1876: 100%|██████████| 261/261 [00:08<00:00, 31.95it/s]\n",
      "Training Epoch 1877: 100%|██████████| 261/261 [00:08<00:00, 31.53it/s]\n",
      "Training Epoch 1878: 100%|██████████| 261/261 [00:08<00:00, 31.03it/s]\n",
      "Training Epoch 1879: 100%|██████████| 261/261 [00:08<00:00, 32.05it/s]\n",
      "Training Epoch 1880: 100%|██████████| 261/261 [00:08<00:00, 31.25it/s]\n",
      "Training Epoch 1881: 100%|██████████| 261/261 [00:08<00:00, 31.84it/s]\n"
     ]
    },
    {
     "name": "stdout",
     "output_type": "stream",
     "text": [
      "Epoch 1880 - Train Loss: 0.2563, Train MSE: 0.2563, Train MAE: 0.3658\n",
      "Epoch 1880 - Validation Loss: 1.9070, Validation MSE: 1.9085, Validation MAE: 1.0136\n"
     ]
    },
    {
     "name": "stderr",
     "output_type": "stream",
     "text": [
      "Training Epoch 1882: 100%|██████████| 261/261 [00:08<00:00, 32.18it/s]\n",
      "Training Epoch 1883: 100%|██████████| 261/261 [00:08<00:00, 31.98it/s]\n",
      "Training Epoch 1884: 100%|██████████| 261/261 [00:08<00:00, 31.09it/s]\n",
      "Training Epoch 1885: 100%|██████████| 261/261 [00:08<00:00, 31.64it/s]\n",
      "Training Epoch 1886: 100%|██████████| 261/261 [00:08<00:00, 31.82it/s]\n",
      "Training Epoch 1887: 100%|██████████| 261/261 [00:08<00:00, 31.75it/s]\n",
      "Training Epoch 1888: 100%|██████████| 261/261 [00:08<00:00, 31.81it/s]\n",
      "Training Epoch 1889: 100%|██████████| 261/261 [00:08<00:00, 31.94it/s]\n",
      "Training Epoch 1890: 100%|██████████| 261/261 [00:08<00:00, 31.63it/s]\n",
      "Training Epoch 1891: 100%|██████████| 261/261 [00:08<00:00, 31.25it/s]\n"
     ]
    },
    {
     "name": "stdout",
     "output_type": "stream",
     "text": [
      "Epoch 1890 - Train Loss: 0.2601, Train MSE: 0.2601, Train MAE: 0.3681\n",
      "Epoch 1890 - Validation Loss: 1.9050, Validation MSE: 1.9066, Validation MAE: 1.0134\n"
     ]
    },
    {
     "name": "stderr",
     "output_type": "stream",
     "text": [
      "Training Epoch 1892: 100%|██████████| 261/261 [00:08<00:00, 32.09it/s]\n",
      "Training Epoch 1893: 100%|██████████| 261/261 [00:08<00:00, 31.71it/s]\n",
      "Training Epoch 1894: 100%|██████████| 261/261 [00:08<00:00, 31.99it/s]\n",
      "Training Epoch 1895: 100%|██████████| 261/261 [00:08<00:00, 31.96it/s]\n",
      "Training Epoch 1896: 100%|██████████| 261/261 [00:08<00:00, 31.76it/s]\n",
      "Training Epoch 1897: 100%|██████████| 261/261 [00:08<00:00, 31.46it/s]\n",
      "Training Epoch 1898: 100%|██████████| 261/261 [00:08<00:00, 31.85it/s]\n",
      "Training Epoch 1899: 100%|██████████| 261/261 [00:08<00:00, 30.97it/s]\n",
      "Training Epoch 1900: 100%|██████████| 261/261 [00:08<00:00, 31.90it/s]\n",
      "Training Epoch 1901: 100%|██████████| 261/261 [00:08<00:00, 32.02it/s]\n"
     ]
    },
    {
     "name": "stdout",
     "output_type": "stream",
     "text": [
      "Epoch 1900 - Train Loss: 0.2436, Train MSE: 0.2436, Train MAE: 0.3561\n",
      "Epoch 1900 - Validation Loss: 1.9050, Validation MSE: 1.9065, Validation MAE: 1.0153\n"
     ]
    },
    {
     "name": "stderr",
     "output_type": "stream",
     "text": [
      "Training Epoch 1902: 100%|██████████| 261/261 [00:08<00:00, 32.38it/s]\n",
      "Training Epoch 1903: 100%|██████████| 261/261 [00:08<00:00, 31.85it/s]\n",
      "Training Epoch 1904: 100%|██████████| 261/261 [00:08<00:00, 31.50it/s]\n",
      "Training Epoch 1905: 100%|██████████| 261/261 [00:08<00:00, 32.03it/s]\n",
      "Training Epoch 1906: 100%|██████████| 261/261 [00:08<00:00, 31.14it/s]\n",
      "Training Epoch 1907: 100%|██████████| 261/261 [00:08<00:00, 31.65it/s]\n",
      "Training Epoch 1908: 100%|██████████| 261/261 [00:08<00:00, 32.01it/s]\n",
      "Training Epoch 1909: 100%|██████████| 261/261 [00:08<00:00, 31.63it/s]\n",
      "Training Epoch 1910: 100%|██████████| 261/261 [00:08<00:00, 31.37it/s]\n",
      "Training Epoch 1911: 100%|██████████| 261/261 [00:08<00:00, 32.16it/s]\n"
     ]
    },
    {
     "name": "stdout",
     "output_type": "stream",
     "text": [
      "Epoch 1910 - Train Loss: 0.2631, Train MSE: 0.2631, Train MAE: 0.3692\n",
      "Epoch 1910 - Validation Loss: 1.9645, Validation MSE: 1.9659, Validation MAE: 1.0291\n"
     ]
    },
    {
     "name": "stderr",
     "output_type": "stream",
     "text": [
      "Training Epoch 1912: 100%|██████████| 261/261 [00:08<00:00, 31.62it/s]\n",
      "Training Epoch 1913: 100%|██████████| 261/261 [00:08<00:00, 32.03it/s]\n",
      "Training Epoch 1914: 100%|██████████| 261/261 [00:08<00:00, 31.66it/s]\n",
      "Training Epoch 1915: 100%|██████████| 261/261 [00:08<00:00, 32.18it/s]\n",
      "Training Epoch 1916: 100%|██████████| 261/261 [00:08<00:00, 31.82it/s]\n",
      "Training Epoch 1917: 100%|██████████| 261/261 [00:08<00:00, 30.64it/s]\n",
      "Training Epoch 1918: 100%|██████████| 261/261 [00:08<00:00, 32.36it/s]\n",
      "Training Epoch 1919: 100%|██████████| 261/261 [00:08<00:00, 31.82it/s]\n",
      "Training Epoch 1920: 100%|██████████| 261/261 [00:08<00:00, 31.91it/s]\n",
      "Training Epoch 1921: 100%|██████████| 261/261 [00:08<00:00, 31.71it/s]\n"
     ]
    },
    {
     "name": "stdout",
     "output_type": "stream",
     "text": [
      "Epoch 1920 - Train Loss: 0.2614, Train MSE: 0.2615, Train MAE: 0.3675\n",
      "Epoch 1920 - Validation Loss: 1.8957, Validation MSE: 1.8974, Validation MAE: 1.0191\n"
     ]
    },
    {
     "name": "stderr",
     "output_type": "stream",
     "text": [
      "Training Epoch 1922: 100%|██████████| 261/261 [00:08<00:00, 31.82it/s]\n",
      "Training Epoch 1923: 100%|██████████| 261/261 [00:08<00:00, 31.98it/s]\n",
      "Training Epoch 1924: 100%|██████████| 261/261 [00:08<00:00, 32.03it/s]\n",
      "Training Epoch 1925: 100%|██████████| 261/261 [00:08<00:00, 31.69it/s]\n",
      "Training Epoch 1926: 100%|██████████| 261/261 [00:08<00:00, 31.83it/s]\n",
      "Training Epoch 1927: 100%|██████████| 261/261 [00:08<00:00, 31.76it/s]\n",
      "Training Epoch 1928: 100%|██████████| 261/261 [00:08<00:00, 32.03it/s]\n",
      "Training Epoch 1929: 100%|██████████| 261/261 [00:08<00:00, 31.66it/s]\n",
      "Training Epoch 1930: 100%|██████████| 261/261 [00:08<00:00, 31.04it/s]\n",
      "Training Epoch 1931: 100%|██████████| 261/261 [00:08<00:00, 32.11it/s]\n"
     ]
    },
    {
     "name": "stdout",
     "output_type": "stream",
     "text": [
      "Epoch 1930 - Train Loss: 0.2599, Train MSE: 0.2599, Train MAE: 0.3648\n",
      "Epoch 1930 - Validation Loss: 1.9315, Validation MSE: 1.9332, Validation MAE: 1.0266\n"
     ]
    },
    {
     "name": "stderr",
     "output_type": "stream",
     "text": [
      "Training Epoch 1932: 100%|██████████| 261/261 [00:08<00:00, 31.46it/s]\n",
      "Training Epoch 1933: 100%|██████████| 261/261 [00:08<00:00, 31.69it/s]\n",
      "Training Epoch 1934: 100%|██████████| 261/261 [00:08<00:00, 32.02it/s]\n",
      "Training Epoch 1935: 100%|██████████| 261/261 [00:08<00:00, 31.91it/s]\n",
      "Training Epoch 1936: 100%|██████████| 261/261 [00:08<00:00, 31.74it/s]\n",
      "Training Epoch 1937: 100%|██████████| 261/261 [00:08<00:00, 31.90it/s]\n",
      "Training Epoch 1938: 100%|██████████| 261/261 [00:08<00:00, 31.23it/s]\n",
      "Training Epoch 1939: 100%|██████████| 261/261 [00:08<00:00, 31.81it/s]\n",
      "Training Epoch 1940: 100%|██████████| 261/261 [00:08<00:00, 31.67it/s]\n",
      "Training Epoch 1941: 100%|██████████| 261/261 [00:08<00:00, 32.25it/s]\n"
     ]
    },
    {
     "name": "stdout",
     "output_type": "stream",
     "text": [
      "Epoch 1940 - Train Loss: 0.2595, Train MSE: 0.2595, Train MAE: 0.3661\n",
      "Epoch 1940 - Validation Loss: 1.9377, Validation MSE: 1.9392, Validation MAE: 1.0251\n"
     ]
    },
    {
     "name": "stderr",
     "output_type": "stream",
     "text": [
      "Training Epoch 1942: 100%|██████████| 261/261 [00:08<00:00, 31.65it/s]\n",
      "Training Epoch 1943: 100%|██████████| 261/261 [00:08<00:00, 31.09it/s]\n",
      "Training Epoch 1944: 100%|██████████| 261/261 [00:08<00:00, 31.64it/s]\n",
      "Training Epoch 1945: 100%|██████████| 261/261 [00:08<00:00, 31.56it/s]\n",
      "Training Epoch 1946: 100%|██████████| 261/261 [00:08<00:00, 31.94it/s]\n",
      "Training Epoch 1947: 100%|██████████| 261/261 [00:08<00:00, 31.77it/s]\n",
      "Training Epoch 1948: 100%|██████████| 261/261 [00:08<00:00, 31.68it/s]\n",
      "Training Epoch 1949: 100%|██████████| 261/261 [00:08<00:00, 31.49it/s]\n",
      "Training Epoch 1950: 100%|██████████| 261/261 [00:08<00:00, 32.22it/s]\n",
      "Training Epoch 1951: 100%|██████████| 261/261 [00:08<00:00, 31.98it/s]\n"
     ]
    },
    {
     "name": "stdout",
     "output_type": "stream",
     "text": [
      "Epoch 1950 - Train Loss: 0.2586, Train MSE: 0.2585, Train MAE: 0.3662\n",
      "Epoch 1950 - Validation Loss: 1.9446, Validation MSE: 1.9461, Validation MAE: 1.0280\n"
     ]
    },
    {
     "name": "stderr",
     "output_type": "stream",
     "text": [
      "Training Epoch 1952: 100%|██████████| 261/261 [00:08<00:00, 31.65it/s]\n",
      "Training Epoch 1953: 100%|██████████| 261/261 [00:08<00:00, 31.84it/s]\n",
      "Training Epoch 1954: 100%|██████████| 261/261 [00:08<00:00, 31.91it/s]\n",
      "Training Epoch 1955: 100%|██████████| 261/261 [00:08<00:00, 31.75it/s]\n",
      "Training Epoch 1956: 100%|██████████| 261/261 [00:08<00:00, 31.23it/s]\n",
      "Training Epoch 1957: 100%|██████████| 261/261 [00:08<00:00, 31.83it/s]\n",
      "Training Epoch 1958: 100%|██████████| 261/261 [00:08<00:00, 31.98it/s]\n",
      "Training Epoch 1959: 100%|██████████| 261/261 [00:08<00:00, 31.96it/s]\n",
      "Training Epoch 1960: 100%|██████████| 261/261 [00:08<00:00, 31.95it/s]\n",
      "Training Epoch 1961: 100%|██████████| 261/261 [00:08<00:00, 31.95it/s]\n"
     ]
    },
    {
     "name": "stdout",
     "output_type": "stream",
     "text": [
      "Epoch 1960 - Train Loss: 0.2486, Train MSE: 0.2485, Train MAE: 0.3593\n",
      "Epoch 1960 - Validation Loss: 1.9933, Validation MSE: 1.9947, Validation MAE: 1.0357\n"
     ]
    },
    {
     "name": "stderr",
     "output_type": "stream",
     "text": [
      "Training Epoch 1962: 100%|██████████| 261/261 [00:08<00:00, 31.86it/s]\n",
      "Training Epoch 1963: 100%|██████████| 261/261 [00:08<00:00, 31.94it/s]\n",
      "Training Epoch 1964: 100%|██████████| 261/261 [00:08<00:00, 31.88it/s]\n",
      "Training Epoch 1965: 100%|██████████| 261/261 [00:08<00:00, 32.18it/s]\n",
      "Training Epoch 1966: 100%|██████████| 261/261 [00:08<00:00, 31.98it/s]\n",
      "Training Epoch 1967: 100%|██████████| 261/261 [00:08<00:00, 32.16it/s]\n",
      "Training Epoch 1968: 100%|██████████| 261/261 [00:08<00:00, 32.11it/s]\n",
      "Training Epoch 1969: 100%|██████████| 261/261 [00:08<00:00, 31.45it/s]\n",
      "Training Epoch 1970: 100%|██████████| 261/261 [00:08<00:00, 31.62it/s]\n",
      "Training Epoch 1971: 100%|██████████| 261/261 [00:08<00:00, 31.74it/s]\n"
     ]
    },
    {
     "name": "stdout",
     "output_type": "stream",
     "text": [
      "Epoch 1970 - Train Loss: 0.2504, Train MSE: 0.2505, Train MAE: 0.3615\n",
      "Epoch 1970 - Validation Loss: 1.9695, Validation MSE: 1.9711, Validation MAE: 1.0287\n"
     ]
    },
    {
     "name": "stderr",
     "output_type": "stream",
     "text": [
      "Training Epoch 1972: 100%|██████████| 261/261 [00:08<00:00, 31.98it/s]\n",
      "Training Epoch 1973: 100%|██████████| 261/261 [00:08<00:00, 31.90it/s]\n",
      "Training Epoch 1974: 100%|██████████| 261/261 [00:08<00:00, 31.77it/s]\n",
      "Training Epoch 1975: 100%|██████████| 261/261 [00:08<00:00, 31.85it/s]\n",
      "Training Epoch 1976: 100%|██████████| 261/261 [00:08<00:00, 31.16it/s]\n",
      "Training Epoch 1977: 100%|██████████| 261/261 [00:08<00:00, 32.12it/s]\n",
      "Training Epoch 1978: 100%|██████████| 261/261 [00:08<00:00, 31.73it/s]\n",
      "Training Epoch 1979: 100%|██████████| 261/261 [00:08<00:00, 31.63it/s]\n",
      "Training Epoch 1980: 100%|██████████| 261/261 [00:08<00:00, 31.88it/s]\n",
      "Training Epoch 1981: 100%|██████████| 261/261 [00:08<00:00, 31.64it/s]\n"
     ]
    },
    {
     "name": "stdout",
     "output_type": "stream",
     "text": [
      "Epoch 1980 - Train Loss: 0.2516, Train MSE: 0.2516, Train MAE: 0.3574\n",
      "Epoch 1980 - Validation Loss: 1.8950, Validation MSE: 1.8965, Validation MAE: 1.0105\n"
     ]
    },
    {
     "name": "stderr",
     "output_type": "stream",
     "text": [
      "Training Epoch 1982: 100%|██████████| 261/261 [00:08<00:00, 31.06it/s]\n",
      "Training Epoch 1983: 100%|██████████| 261/261 [00:08<00:00, 31.84it/s]\n",
      "Training Epoch 1984: 100%|██████████| 261/261 [00:08<00:00, 31.61it/s]\n",
      "Training Epoch 1985: 100%|██████████| 261/261 [00:08<00:00, 31.35it/s]\n",
      "Training Epoch 1986: 100%|██████████| 261/261 [00:08<00:00, 31.93it/s]\n",
      "Training Epoch 1987: 100%|██████████| 261/261 [00:08<00:00, 31.90it/s]\n",
      "Training Epoch 1988: 100%|██████████| 261/261 [00:08<00:00, 31.79it/s]\n",
      "Training Epoch 1989: 100%|██████████| 261/261 [00:08<00:00, 31.69it/s]\n",
      "Training Epoch 1990: 100%|██████████| 261/261 [00:08<00:00, 32.19it/s]\n",
      "Training Epoch 1991: 100%|██████████| 261/261 [00:08<00:00, 31.98it/s]\n"
     ]
    },
    {
     "name": "stdout",
     "output_type": "stream",
     "text": [
      "Epoch 1990 - Train Loss: 0.2551, Train MSE: 0.2551, Train MAE: 0.3615\n",
      "Epoch 1990 - Validation Loss: 1.9139, Validation MSE: 1.9155, Validation MAE: 1.0131\n"
     ]
    },
    {
     "name": "stderr",
     "output_type": "stream",
     "text": [
      "Training Epoch 1992: 100%|██████████| 261/261 [00:08<00:00, 31.83it/s]\n",
      "Training Epoch 1993: 100%|██████████| 261/261 [00:08<00:00, 31.91it/s]\n",
      "Training Epoch 1994: 100%|██████████| 261/261 [00:08<00:00, 31.40it/s]\n",
      "Training Epoch 1995: 100%|██████████| 261/261 [00:08<00:00, 30.45it/s]\n",
      "Training Epoch 1996: 100%|██████████| 261/261 [00:08<00:00, 31.98it/s]\n",
      "Training Epoch 1997: 100%|██████████| 261/261 [00:08<00:00, 31.21it/s]\n",
      "Training Epoch 1998: 100%|██████████| 261/261 [00:08<00:00, 31.67it/s]\n",
      "Training Epoch 1999: 100%|██████████| 261/261 [00:08<00:00, 31.94it/s]\n",
      "Training Epoch 2000: 100%|██████████| 261/261 [00:08<00:00, 31.46it/s]\n"
     ]
    },
    {
     "name": "stdout",
     "output_type": "stream",
     "text": [
      "Test MSE: 1.9974, Test MAE: 1.0376\n"
     ]
    }
   ],
   "source": [
    "import torch\n",
    "import torch.nn as nn\n",
    "import torch.optim as optim\n",
    "from tqdm import tqdm\n",
    "import pandas as pd\n",
    "from sklearn.metrics import r2_score, median_absolute_error, explained_variance_score\n",
    "from scipy.stats import pearsonr\n",
    "\n",
    "\n",
    "train_history = pd.DataFrame(columns=[  'epoch',\n",
    "    'Train Loss', 'Train MSE', 'Train MAE', 'Train RMSE', 'Train R2', 'Train Pearson', 'Train Median_AE', 'Train Explained_VAR'\n",
    "    'Val Loss', 'Val MSE', 'Val MAE', 'Val RMSE', 'Val R2', 'Val Pearson', 'Val Median_AE', 'Val Explained_VAR'])\n",
    "# Verify feature dimensions\n",
    "for batch in train_loader:\n",
    "    mol_input_dim = batch['metabolite_features'].shape[1]  # Dynamically determine mol input dimension\n",
    "    protein_input_dim = batch['protein_features'].shape[1]  # Dynamically determine protein input dimension\n",
    "    break\n",
    "\n",
    "# Initialize model, optimizer, and loss function\n",
    "num_timesteps = 10\n",
    "model = CNNRegressor(mol_input_dim=mol_input_dim, protein_input_dim=protein_input_dim)\n",
    "model = model.to(device)\n",
    "optimizer = optim.Adam(model.parameters(), lr=0.0001)\n",
    "criterion = nn.MSELoss()\n",
    "\n",
    "# Training and Validation Loop\n",
    "for epoch in range(2000):\n",
    "    model.train()\n",
    "    total_loss = 0.0\n",
    "    val_total_loss = 0.0\n",
    "    train_predictions, train_labels = [], []\n",
    "\n",
    "    for batch in tqdm(train_loader, desc=f\"Training Epoch {epoch + 1}\"):\n",
    "        mol_features = batch['metabolite_features'].to(device)\n",
    "        protein_features = batch['protein_features'].to(device)\n",
    "        labels = batch['label'].to(device)\n",
    "\n",
    "        optimizer.zero_grad()\n",
    "        outputs = model(mol_features, protein_features)\n",
    "        loss = criterion(outputs, labels)\n",
    "        loss.backward()\n",
    "        optimizer.step()\n",
    "        total_loss += loss.item()\n",
    "\n",
    "        # Store predictions and labels for metrics\n",
    "        train_predictions.extend(outputs.detach().cpu().numpy())\n",
    "        train_labels.extend(labels.cpu().numpy())\n",
    "\n",
    "    # Calculate training metrics\n",
    "    train_mse = ((torch.tensor(train_predictions) - torch.tensor(train_labels))**2).mean().item()\n",
    "    train_mae = torch.abs(torch.tensor(train_predictions) - torch.tensor(train_labels)).mean().item()\n",
    "    train_rmse = torch.sqrt((torch.tensor(train_predictions) - torch.tensor(train_labels)) ** 2).mean().item()\n",
    "    train_r2 = r2_score(np.array(train_labels), np.array(train_predictions))\n",
    "    train_pearson_corr, _ = pearsonr(np.array(train_labels), np.array(train_predictions))\n",
    "    train_median_ae = median_absolute_error(np.array(train_labels), np.array(train_predictions))\n",
    "    train_explained_var = explained_variance_score(np.array(train_labels), np.array(train_predictions))\n",
    "\n",
    "\n",
    "\n",
    "    if epoch % 10 == 0:\n",
    "        print(f\"Epoch {epoch} - Train Loss: {total_loss / len(train_loader):.4f}, Train MSE: {train_mse:.4f}, Train MAE: {train_mae:.4f}\")\n",
    "\n",
    "    # Validation\n",
    "    model.eval()\n",
    "    val_predictions, val_labels = [], []\n",
    "    with torch.no_grad():\n",
    "        for batch in val_loader:\n",
    "            mol_features = batch['metabolite_features'].to(device)\n",
    "            protein_features = batch['protein_features'].to(device)\n",
    "            labels = batch['label'].to(device)\n",
    "\n",
    "            outputs = model(mol_features, protein_features)\n",
    "            val_predictions.extend(outputs.cpu().numpy())\n",
    "            val_labels.extend(labels.cpu().numpy())\n",
    "            val_loss = criterion(outputs, labels)\n",
    "            val_total_loss += val_loss.item()\n",
    "\n",
    "    val_mse = ((torch.tensor(val_predictions) - torch.tensor(val_labels))**2).mean().item()\n",
    "    val_mae = torch.abs(torch.tensor(val_predictions) - torch.tensor(val_labels)).mean().item()\n",
    "    val_rmse = torch.sqrt((torch.tensor(val_predictions) - torch.tensor(val_labels)) ** 2).mean().item()\n",
    "    val_r2 = r2_score(np.array(val_labels), np.array(val_predictions))\n",
    "    val_pearson_corr, _ = pearsonr(np.array(val_labels), np.array(val_predictions))\n",
    "    val_median_ae = median_absolute_error(np.array(val_labels), np.array(val_predictions))\n",
    "    val_explained_var = explained_variance_score(np.array(val_labels), np.array(val_predictions))\n",
    "\n",
    "    if epoch % 10 == 0:\n",
    "        print(f\"Epoch {epoch} - Validation Loss: {val_total_loss / len(val_loader):.4f}, Validation MSE: {val_mse:.4f}, Validation MAE: {val_mae:.4f}\")\n",
    "\n",
    "    # Save metrics to DataFrame\n",
    "    new_row = {'epoch': epoch + 1, 'Train Loss': total_loss / len(train_loader), 'Train MSE': train_mse, 'Train MAE': train_mae, 'Train RMSE': train_rmse, 'Train R2': train_r2, 'Train Pearson': train_pearson_corr, 'Train Median_AE': train_median_ae, 'Train Explained_VAR': train_explained_var, \n",
    "               'Val Loss': val_total_loss / len(val_loader), 'Val MSE': val_mse, 'Val MAE': val_mae, 'Val RMSE': val_rmse, 'Val R2': val_r2, 'Val Pearson': val_pearson_corr, 'Val Median_AE': val_median_ae, 'Val Explained_VAR': val_explained_var}\n",
    "    train_history = pd.concat([train_history, pd.DataFrame([new_row])], ignore_index=True)\n",
    "\n",
    "\n"
   ]
  },
  {
   "cell_type": "code",
   "execution_count": 11,
   "metadata": {},
   "outputs": [],
   "source": [
    "for batch in train_loader:\n",
    "    mol_input_dim = batch['metabolite_features'].shape[1]  # Dynamically determine mol input dimension\n",
    "    protein_input_dim = batch['protein_features'].shape[1]  # Dynamically determine protein input dimension\n",
    "    break\n",
    "# First, reinitialize the model with the same architecture\n",
    "model = CNNRegressor(mol_input_dim=mol_input_dim, protein_input_dim=protein_input_dim)\n",
    "\n",
    "# Load the saved model weights\n",
    "model.load_state_dict(torch.load('/Users/pinchichen/2025S lab/AI drug project/Catpred/Ki/trained_model/random_split/CNN model_Catpred_Ki.pt'))\n",
    "\n",
    "# Move to device if using GPU\n",
    "model = model.to(device)\n"
   ]
  },
  {
   "cell_type": "code",
   "execution_count": 12,
   "metadata": {},
   "outputs": [
    {
     "name": "stdout",
     "output_type": "stream",
     "text": [
      "Test MSE: 1.9974, Test RMSE: 1.413287546, Test MAE: 1.0376, Test R2: 0.4731, Test Pearson Correlation: 0.7097, Test Median AE: 0.7706, Test Explained Variance: 0.4734\n"
     ]
    }
   ],
   "source": [
    "from sklearn.metrics import mean_squared_error, mean_absolute_error, r2_score, median_absolute_error, explained_variance_score\n",
    "from scipy.stats import pearsonr\n",
    "# Test Metrics\n",
    "model.eval()\n",
    "test_predictions, test_labels = [], []\n",
    "with torch.no_grad():\n",
    "    for batch in test_loader:\n",
    "        mol_features = batch['metabolite_features'].to(device)\n",
    "        protein_features = batch['protein_features'].to(device)\n",
    "        labels = batch['label'].to(device)\n",
    "\n",
    "        outputs = model(mol_features, protein_features)\n",
    "        test_predictions.extend(outputs.cpu().numpy())\n",
    "        test_labels.extend(labels.cpu().numpy())\n",
    "\n",
    "test_mse = ((torch.tensor(test_predictions) - torch.tensor(test_labels))**2).mean().item()\n",
    "test_mae = torch.abs(torch.tensor(test_predictions) - torch.tensor(test_labels)).mean().item()\n",
    "test_rmse = np.sqrt(test_mse)\n",
    "test_r2 = r2_score(np.array(test_labels), np.array(test_predictions))\n",
    "test_pearson_corr, _ = pearsonr(np.array(test_labels), np.array(test_predictions))\n",
    "test_median_ae = median_absolute_error(np.array(test_labels), np.array(test_predictions))\n",
    "test_explained_var = explained_variance_score(np.array(test_labels), np.array(test_predictions))\n",
    "\n",
    "print(f\"Test MSE: {test_mse:.4f}, Test RMSE: {test_rmse:.9f}, Test MAE: {test_mae:.4f}, Test R2: {test_r2:.4f}, Test Pearson Correlation: {test_pearson_corr:.4f}, Test Median AE: {test_median_ae:.4f}, Test Explained Variance: {test_explained_var:.4f}\")"
   ]
  },
  {
   "cell_type": "code",
   "execution_count": 13,
   "metadata": {},
   "outputs": [],
   "source": [
    "\n",
    "def evaluate_model(predictions, labels):\n",
    "    mse = mean_squared_error(labels, predictions)\n",
    "    rmse = np.sqrt(mse)\n",
    "    mae = mean_absolute_error(labels, predictions)\n",
    "    r2 = r2_score(labels, predictions)\n",
    "    pearson_corr, _ = pearsonr(labels, predictions)\n",
    "    medae = median_absolute_error(labels, predictions)\n",
    "    evs = explained_variance_score(labels, predictions)\n",
    "\n",
    "    return mse, rmse, mae, r2, pearson_corr, medae, evs"
   ]
  },
  {
   "cell_type": "code",
   "execution_count": 14,
   "metadata": {},
   "outputs": [],
   "source": [
    "model.eval()\n",
    "train_pred, train_labels = [], []\n",
    "with torch.no_grad():\n",
    "    for batch in train_loader:\n",
    "        mol_features = batch['metabolite_features'].to(device)\n",
    "        protein_features = batch['protein_features'].to(device)\n",
    "        labels = batch['label'].to(device)\n",
    "\n",
    "        outputs = model(mol_features, protein_features)\n",
    "        train_pred.extend(outputs.cpu().numpy())\n",
    "        train_labels.extend(labels.cpu().numpy())\n",
    "\n",
    "train_mse, train_rmse, train_mae, train_r2, train_pearson_corr, train_median_ae, train_explained_var = evaluate_model(train_pred, train_labels)"
   ]
  },
  {
   "cell_type": "code",
   "execution_count": 15,
   "metadata": {},
   "outputs": [],
   "source": [
    "model.eval()\n",
    "val_pred, val_labels = [], []\n",
    "with torch.no_grad():\n",
    "    for batch in val_loader:\n",
    "        mol_features = batch['metabolite_features'].to(device)\n",
    "        protein_features = batch['protein_features'].to(device)\n",
    "        labels = batch['label'].to(device)\n",
    "\n",
    "        outputs = model(mol_features, protein_features)\n",
    "        val_pred.extend(outputs.cpu().numpy())\n",
    "        val_labels.extend(labels.cpu().numpy())\n",
    "\n",
    "val_mse, val_rmse, val_mae, val_r2, val_pearson_corr, val_median_ae, val_explained_var = evaluate_model(val_pred, val_labels)\n"
   ]
  },
  {
   "cell_type": "code",
   "execution_count": 16,
   "metadata": {},
   "outputs": [],
   "source": [
    "# append the performance to the csv file\n",
    "df = {\n",
    "    'Model':['CNN','CNN','CNN'],\n",
    "    'Dataset':['Train','Validation','Test'],\n",
    "    'MSE':[train_mse,val_mse,test_mse],\n",
    "    'RMSE':[train_rmse,val_rmse,test_rmse],\n",
    "    'MAE':[train_mae,val_mae,test_mae],\n",
    "    'R2':[train_r2,val_r2,test_r2],\n",
    "    'Pearson':[train_pearson_corr,val_pearson_corr,test_pearson_corr],\n",
    "    'Median_AE':[train_median_ae,val_median_ae,test_median_ae],\n",
    "    'Explained_VAR':[train_explained_var,val_explained_var,test_explained_var],\n",
    "    'Dataspliting Mode':['random','random','random']\n",
    "}\n",
    "df = pd.DataFrame(df)\n",
    "\n",
    "df.to_csv('/Users/pinchichen/2025S lab/AI drug project/Catpred/Ki/model performance metrics_Catpred_Ki.csv', mode='a', header=False)"
   ]
  },
  {
   "cell_type": "code",
   "execution_count": 13,
   "metadata": {},
   "outputs": [],
   "source": [
    "# Save the model and training history\n",
    "save_dir = '/Users/pinchichen/2025S lab/AI drug project/Catpred/Ki/trained_model/random_split'\n",
    "# save model weights and optimizer state\n",
    "torch.save(model.state_dict(), os.path.join(save_dir, 'CNN model_Catpred_Ki.pt'))\n",
    "torch.save(optimizer.state_dict(), os.path.join(save_dir, 'CNN optimizer_Catpred_Ki.pt'))"
   ]
  },
  {
   "cell_type": "code",
   "execution_count": 14,
   "metadata": {},
   "outputs": [
    {
     "data": {
      "image/png": "[encoded data removed]",
      "text/plain": [
       "<Figure size 1000x600 with 1 Axes>"
      ]
     },
     "metadata": {},
     "output_type": "display_data"
    }
   ],
   "source": [
    "import matplotlib.pyplot as plt\n",
    "import seaborn as sns\n",
    "sns.set(style='ticks')\n",
    "# Load metrics\n",
    "\n",
    "metrics = train_history\n",
    "\n",
    "# Plot the training loss over epochs using seaborn\n",
    "plt.figure(figsize=(10, 6))\n",
    "# sns.lineplot(data=metrics, x='epoch', y='Train Loss', label='Train Loss')\n",
    "# sns.lineplot(data=metrics, x='epoch', y='Val Loss', label='Val Loss')\n",
    "sns.lineplot(data=metrics, x='epoch', y='Val MSE', label='Valid_RMSE')\n",
    "sns.lineplot(data=metrics, x='epoch', y='Train MSE', label='Train_RMSE')\n",
    "# sns.lineplot(data=metrics, x='Epoch', y='Valid_MAE', label='Valid_MAE')\n",
    "# Add titles and labels\n",
    "plt.title('Training and Validation Metrics Over Epochs', fontsize=14)\n",
    "# Define the range of tick positions\n",
    "plt.xlabel('Epoch', fontsize=12)\n",
    "plt.ylabel('Loss', fontsize=12)\n",
    "plt.grid(False)\n",
    "# Show the plot\n",
    "plt.show()\n"
   ]
  },
  {
   "cell_type": "code",
   "execution_count": 15,
   "metadata": {},
   "outputs": [
    {
     "data": {
      "text/html": [
       "<div>\n",
       "<style scoped>\n",
       "    .dataframe tbody tr th:only-of-type {\n",
       "        vertical-align: middle;\n",
       "    }\n",
       "\n",
       "    .dataframe tbody tr th {\n",
       "        vertical-align: top;\n",
       "    }\n",
       "\n",
       "    .dataframe thead th {\n",
       "        text-align: right;\n",
       "    }\n",
       "</style>\n",
       "<table border=\"1\" class=\"dataframe\">\n",
       "  <thead>\n",
       "    <tr style=\"text-align: right;\">\n",
       "      <th></th>\n",
       "      <th>epoch</th>\n",
       "      <th>Train Loss</th>\n",
       "      <th>Train MSE</th>\n",
       "      <th>Train MAE</th>\n",
       "      <th>Train RMSE</th>\n",
       "      <th>Train R2</th>\n",
       "      <th>Train Pearson</th>\n",
       "      <th>Train Median_AE</th>\n",
       "      <th>Train Explained_VARVal Loss</th>\n",
       "      <th>Val MSE</th>\n",
       "      <th>Val MAE</th>\n",
       "      <th>Val RMSE</th>\n",
       "      <th>Val R2</th>\n",
       "      <th>Val Pearson</th>\n",
       "      <th>Val Median_AE</th>\n",
       "      <th>Val Explained_VAR</th>\n",
       "      <th>Train Explained_VAR</th>\n",
       "      <th>Val Loss</th>\n",
       "    </tr>\n",
       "  </thead>\n",
       "  <tbody>\n",
       "    <tr>\n",
       "      <th>1995</th>\n",
       "      <td>1996</td>\n",
       "      <td>0.261549</td>\n",
       "      <td>0.261525</td>\n",
       "      <td>0.368036</td>\n",
       "      <td>0.368036</td>\n",
       "      <td>0.933060</td>\n",
       "      <td>0.965950</td>\n",
       "      <td>0.263815</td>\n",
       "      <td>NaN</td>\n",
       "      <td>1.953102</td>\n",
       "      <td>1.028199</td>\n",
       "      <td>1.028199</td>\n",
       "      <td>0.511480</td>\n",
       "      <td>0.733383</td>\n",
       "      <td>0.776502</td>\n",
       "      <td>0.515125</td>\n",
       "      <td>0.933060</td>\n",
       "      <td>1.951727</td>\n",
       "    </tr>\n",
       "    <tr>\n",
       "      <th>1996</th>\n",
       "      <td>1997</td>\n",
       "      <td>0.250682</td>\n",
       "      <td>0.250682</td>\n",
       "      <td>0.359190</td>\n",
       "      <td>0.359190</td>\n",
       "      <td>0.935835</td>\n",
       "      <td>0.967389</td>\n",
       "      <td>0.258224</td>\n",
       "      <td>NaN</td>\n",
       "      <td>1.916344</td>\n",
       "      <td>1.022682</td>\n",
       "      <td>1.022682</td>\n",
       "      <td>0.520674</td>\n",
       "      <td>0.734752</td>\n",
       "      <td>0.774346</td>\n",
       "      <td>0.520855</td>\n",
       "      <td>0.935836</td>\n",
       "      <td>1.914927</td>\n",
       "    </tr>\n",
       "    <tr>\n",
       "      <th>1997</th>\n",
       "      <td>1998</td>\n",
       "      <td>0.252900</td>\n",
       "      <td>0.252888</td>\n",
       "      <td>0.359103</td>\n",
       "      <td>0.359103</td>\n",
       "      <td>0.935270</td>\n",
       "      <td>0.967096</td>\n",
       "      <td>0.253441</td>\n",
       "      <td>NaN</td>\n",
       "      <td>1.924931</td>\n",
       "      <td>1.021799</td>\n",
       "      <td>1.021799</td>\n",
       "      <td>0.518526</td>\n",
       "      <td>0.738491</td>\n",
       "      <td>0.765843</td>\n",
       "      <td>0.521721</td>\n",
       "      <td>0.935271</td>\n",
       "      <td>1.923562</td>\n",
       "    </tr>\n",
       "    <tr>\n",
       "      <th>1998</th>\n",
       "      <td>1999</td>\n",
       "      <td>0.263997</td>\n",
       "      <td>0.263965</td>\n",
       "      <td>0.366609</td>\n",
       "      <td>0.366609</td>\n",
       "      <td>0.932435</td>\n",
       "      <td>0.965627</td>\n",
       "      <td>0.260321</td>\n",
       "      <td>NaN</td>\n",
       "      <td>1.926127</td>\n",
       "      <td>1.021542</td>\n",
       "      <td>1.021542</td>\n",
       "      <td>0.518227</td>\n",
       "      <td>0.737734</td>\n",
       "      <td>0.760816</td>\n",
       "      <td>0.520283</td>\n",
       "      <td>0.932436</td>\n",
       "      <td>1.924702</td>\n",
       "    </tr>\n",
       "    <tr>\n",
       "      <th>1999</th>\n",
       "      <td>2000</td>\n",
       "      <td>0.256371</td>\n",
       "      <td>0.256338</td>\n",
       "      <td>0.360791</td>\n",
       "      <td>0.360791</td>\n",
       "      <td>0.934387</td>\n",
       "      <td>0.966646</td>\n",
       "      <td>0.249604</td>\n",
       "      <td>NaN</td>\n",
       "      <td>1.926651</td>\n",
       "      <td>1.020989</td>\n",
       "      <td>1.020989</td>\n",
       "      <td>0.518096</td>\n",
       "      <td>0.736345</td>\n",
       "      <td>0.759109</td>\n",
       "      <td>0.518453</td>\n",
       "      <td>0.934388</td>\n",
       "      <td>1.925114</td>\n",
       "    </tr>\n",
       "  </tbody>\n",
       "</table>\n",
       "</div>"
      ],
      "text/plain": [
       "     epoch  Train Loss  Train MSE  Train MAE  Train RMSE  Train R2  \\\n",
       "1995  1996    0.261549   0.261525   0.368036    0.368036  0.933060   \n",
       "1996  1997    0.250682   0.250682   0.359190    0.359190  0.935835   \n",
       "1997  1998    0.252900   0.252888   0.359103    0.359103  0.935270   \n",
       "1998  1999    0.263997   0.263965   0.366609    0.366609  0.932435   \n",
       "1999  2000    0.256371   0.256338   0.360791    0.360791  0.934387   \n",
       "\n",
       "      Train Pearson  Train Median_AE Train Explained_VARVal Loss   Val MSE  \\\n",
       "1995       0.965950         0.263815                         NaN  1.953102   \n",
       "1996       0.967389         0.258224                         NaN  1.916344   \n",
       "1997       0.967096         0.253441                         NaN  1.924931   \n",
       "1998       0.965627         0.260321                         NaN  1.926127   \n",
       "1999       0.966646         0.249604                         NaN  1.926651   \n",
       "\n",
       "       Val MAE  Val RMSE    Val R2  Val Pearson  Val Median_AE  \\\n",
       "1995  1.028199  1.028199  0.511480     0.733383       0.776502   \n",
       "1996  1.022682  1.022682  0.520674     0.734752       0.774346   \n",
       "1997  1.021799  1.021799  0.518526     0.738491       0.765843   \n",
       "1998  1.021542  1.021542  0.518227     0.737734       0.760816   \n",
       "1999  1.020989  1.020989  0.518096     0.736345       0.759109   \n",
       "\n",
       "      Val Explained_VAR  Train Explained_VAR  Val Loss  \n",
       "1995           0.515125             0.933060  1.951727  \n",
       "1996           0.520855             0.935836  1.914927  \n",
       "1997           0.521721             0.935271  1.923562  \n",
       "1998           0.520283             0.932436  1.924702  \n",
       "1999           0.518453             0.934388  1.925114  "
      ]
     },
     "execution_count": 15,
     "metadata": {},
     "output_type": "execute_result"
    }
   ],
   "source": [
    "train_history.tail()"
   ]
  },
  {
   "cell_type": "code",
   "execution_count": 16,
   "metadata": {},
   "outputs": [
    {
     "data": {
      "image/png": "[encoded data removed]",
      "text/plain": [
       "<Figure size 640x480 with 1 Axes>"
      ]
     },
     "metadata": {},
     "output_type": "display_data"
    }
   ],
   "source": [
    "# Plot the performance\n",
    "import matplotlib.pyplot as plt\n",
    "\n",
    "plt.scatter(test_labels, test_predictions, alpha=0.5)\n",
    "plt.xlabel(\"True Reactivity\")\n",
    "plt.ylabel(\"Predicted Reactivity\")\n",
    "plt.title(\"CNN Predictions vs True Values\")\n",
    "plt.plot([min(test_labels), max(test_labels)], [min(test_labels), max(test_labels)], 'r--')\n",
    "plt.show()\n"
   ]
  }
 ],
 "metadata": {
  "kernelspec": {
   "display_name": "base",
   "language": "python",
   "name": "python3"
  },
  "language_info": {
   "codemirror_mode": {
    "name": "ipython",
    "version": 3
   },
   "file_extension": ".py",
   "mimetype": "text/x-python",
   "name": "python",
   "nbconvert_exporter": "python",
   "pygments_lexer": "ipython3",
   "version": "3.12.2"
  }
 },
 "nbformat": 4,
 "nbformat_minor": 2
}
