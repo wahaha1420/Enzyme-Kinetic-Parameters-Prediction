{
 "cells": [
  {
   "cell_type": "code",
   "execution_count": 1,
   "metadata": {},
   "outputs": [],
   "source": [
    "import pandas as pd\n",
    "import numpy as np\n",
    "from tqdm import tqdm\n",
    "import torch\n",
    "import torch.nn as nn\n",
    "import torch.optim as optim\n",
    "from torch.utils.data import DataLoader, Dataset\n",
    "from sklearn.metrics import roc_auc_score\n",
    "from sklearn.model_selection import train_test_split\n",
    "import os\n"
   ]
  },
  {
   "cell_type": "code",
   "execution_count": 2,
   "metadata": {},
   "outputs": [
    {
     "data": {
      "text/html": [
       "<div>\n",
       "<style scoped>\n",
       "    .dataframe tbody tr th:only-of-type {\n",
       "        vertical-align: middle;\n",
       "    }\n",
       "\n",
       "    .dataframe tbody tr th {\n",
       "        vertical-align: top;\n",
       "    }\n",
       "\n",
       "    .dataframe thead th {\n",
       "        text-align: right;\n",
       "    }\n",
       "</style>\n",
       "<table border=\"1\" class=\"dataframe\">\n",
       "  <thead>\n",
       "    <tr style=\"text-align: right;\">\n",
       "      <th></th>\n",
       "      <th>Sequence</th>\n",
       "      <th>sequence_source</th>\n",
       "      <th>uniprot</th>\n",
       "      <th>Smiles</th>\n",
       "      <th>value</th>\n",
       "      <th>ec</th>\n",
       "      <th>log10_value</th>\n",
       "      <th>log10ki_mean</th>\n",
       "      <th>metabolite_features</th>\n",
       "      <th>protein_features</th>\n",
       "    </tr>\n",
       "  </thead>\n",
       "  <tbody>\n",
       "    <tr>\n",
       "      <th>0</th>\n",
       "      <td>MHTKGPTPQQHDGSALRIGIVHARWNETIIEPLLAGTKAKLLACGV...</td>\n",
       "      <td>uniprot_search</td>\n",
       "      <td>A0A6P8BCR9</td>\n",
       "      <td>O=c1n(C[C@H](O)[C@H](O)[C@H](O)CO)c2nc(O)nc(O)...</td>\n",
       "      <td>0.000002</td>\n",
       "      <td>2.5.1.78</td>\n",
       "      <td>-5.698970</td>\n",
       "      <td>-5.698970</td>\n",
       "      <td>[0.17249086, -0.23665705, -0.11737049, -0.0940...</td>\n",
       "      <td>[0.026722027, -0.06119407, 0.041440543, -0.109...</td>\n",
       "    </tr>\n",
       "    <tr>\n",
       "      <th>1</th>\n",
       "      <td>MASPDWGYDDKNGPEQWSKLYPIANGNNQSPVDIKTSETKHDTSLK...</td>\n",
       "      <td>brenda</td>\n",
       "      <td>P00915</td>\n",
       "      <td>CN1CCN(C(=O)c2ccc(S(N)(=O)=O)cc2)[C@@H](Cc2ccc...</td>\n",
       "      <td>0.000707</td>\n",
       "      <td>4.2.1.1</td>\n",
       "      <td>-3.150581</td>\n",
       "      <td>-3.150581</td>\n",
       "      <td>[0.4240491, 0.28231123, 0.2642891, -0.7667821,...</td>\n",
       "      <td>[-0.029181704, -0.12635791, 0.10866662, 0.0339...</td>\n",
       "    </tr>\n",
       "    <tr>\n",
       "      <th>2</th>\n",
       "      <td>MLDDIRGFMNTFSETMFMDVINYSLTRDRYDSVFLQRQNYRDLGQL...</td>\n",
       "      <td>brenda</td>\n",
       "      <td>Q9HLD0</td>\n",
       "      <td>C[C@H]1O[C@H](O[C@H]2[C@H](O)[C@@H](O)[C@@H](O...</td>\n",
       "      <td>0.002990</td>\n",
       "      <td>3.2.1.20</td>\n",
       "      <td>-2.524329</td>\n",
       "      <td>-2.524329</td>\n",
       "      <td>[0.50005734, 0.3923428, 0.064121775, -0.635894...</td>\n",
       "      <td>[0.02874529, -0.17312695, -0.0026887748, 0.035...</td>\n",
       "    </tr>\n",
       "    <tr>\n",
       "      <th>3</th>\n",
       "      <td>MKLMENIFDLAKANKKKIVLAEGEEERNIRASEEIIKDGIADIILV...</td>\n",
       "      <td>uniprot_search</td>\n",
       "      <td>A0A1L5F6Z9</td>\n",
       "      <td>CCN=C(O)CCN=C(O)[C@H](O)C(C)(C)COP(=O)(O)OP(=O...</td>\n",
       "      <td>0.020000</td>\n",
       "      <td>2.3.1.8</td>\n",
       "      <td>-1.698970</td>\n",
       "      <td>-1.698970</td>\n",
       "      <td>[0.28353548, 0.018489605, -0.5459905, -0.34693...</td>\n",
       "      <td>[-0.06555556, 0.04763434, 0.031432115, 0.17143...</td>\n",
       "    </tr>\n",
       "    <tr>\n",
       "      <th>4</th>\n",
       "      <td>MAKRIVEPFRIKMVEKIRVPSREEREAALKEAGYNPFLLPSSAVYI...</td>\n",
       "      <td>sabio</td>\n",
       "      <td>P28796</td>\n",
       "      <td>CC(N)C(=O)O</td>\n",
       "      <td>24.500000</td>\n",
       "      <td>4.1.99.1</td>\n",
       "      <td>1.389166</td>\n",
       "      <td>1.419631</td>\n",
       "      <td>[0.051456872, 0.35619217, 0.10593035, -1.04098...</td>\n",
       "      <td>[0.049294557, -0.043596543, 0.0546125, 0.35600...</td>\n",
       "    </tr>\n",
       "  </tbody>\n",
       "</table>\n",
       "</div>"
      ],
      "text/plain": [
       "                                            Sequence sequence_source  \\\n",
       "0  MHTKGPTPQQHDGSALRIGIVHARWNETIIEPLLAGTKAKLLACGV...  uniprot_search   \n",
       "1  MASPDWGYDDKNGPEQWSKLYPIANGNNQSPVDIKTSETKHDTSLK...          brenda   \n",
       "2  MLDDIRGFMNTFSETMFMDVINYSLTRDRYDSVFLQRQNYRDLGQL...          brenda   \n",
       "3  MKLMENIFDLAKANKKKIVLAEGEEERNIRASEEIIKDGIADIILV...  uniprot_search   \n",
       "4  MAKRIVEPFRIKMVEKIRVPSREEREAALKEAGYNPFLLPSSAVYI...           sabio   \n",
       "\n",
       "      uniprot                                             Smiles      value  \\\n",
       "0  A0A6P8BCR9  O=c1n(C[C@H](O)[C@H](O)[C@H](O)CO)c2nc(O)nc(O)...   0.000002   \n",
       "1      P00915  CN1CCN(C(=O)c2ccc(S(N)(=O)=O)cc2)[C@@H](Cc2ccc...   0.000707   \n",
       "2      Q9HLD0  C[C@H]1O[C@H](O[C@H]2[C@H](O)[C@@H](O)[C@@H](O...   0.002990   \n",
       "3  A0A1L5F6Z9  CCN=C(O)CCN=C(O)[C@H](O)C(C)(C)COP(=O)(O)OP(=O...   0.020000   \n",
       "4      P28796                                        CC(N)C(=O)O  24.500000   \n",
       "\n",
       "         ec  log10_value  log10ki_mean  \\\n",
       "0  2.5.1.78    -5.698970     -5.698970   \n",
       "1   4.2.1.1    -3.150581     -3.150581   \n",
       "2  3.2.1.20    -2.524329     -2.524329   \n",
       "3   2.3.1.8    -1.698970     -1.698970   \n",
       "4  4.1.99.1     1.389166      1.419631   \n",
       "\n",
       "                                 metabolite_features  \\\n",
       "0  [0.17249086, -0.23665705, -0.11737049, -0.0940...   \n",
       "1  [0.4240491, 0.28231123, 0.2642891, -0.7667821,...   \n",
       "2  [0.50005734, 0.3923428, 0.064121775, -0.635894...   \n",
       "3  [0.28353548, 0.018489605, -0.5459905, -0.34693...   \n",
       "4  [0.051456872, 0.35619217, 0.10593035, -1.04098...   \n",
       "\n",
       "                                    protein_features  \n",
       "0  [0.026722027, -0.06119407, 0.041440543, -0.109...  \n",
       "1  [-0.029181704, -0.12635791, 0.10866662, 0.0339...  \n",
       "2  [0.02874529, -0.17312695, -0.0026887748, 0.035...  \n",
       "3  [-0.06555556, 0.04763434, 0.031432115, 0.17143...  \n",
       "4  [0.049294557, -0.043596543, 0.0546125, 0.35600...  "
      ]
     },
     "execution_count": 2,
     "metadata": {},
     "output_type": "execute_result"
    }
   ],
   "source": [
    "import joblib\n",
    "import pandas as pd\n",
    "\n",
    "data_ki = joblib.load('/Users/pinchichen/2025S lab/AI drug project/Catpred/dataset/ki/ki_with_features.joblib')\n",
    "data_ki.head()"
   ]
  },
  {
   "cell_type": "code",
   "execution_count": 3,
   "metadata": {},
   "outputs": [
    {
     "data": {
      "text/html": [
       "<div>\n",
       "<style scoped>\n",
       "    .dataframe tbody tr th:only-of-type {\n",
       "        vertical-align: middle;\n",
       "    }\n",
       "\n",
       "    .dataframe tbody tr th {\n",
       "        vertical-align: top;\n",
       "    }\n",
       "\n",
       "    .dataframe thead th {\n",
       "        text-align: right;\n",
       "    }\n",
       "</style>\n",
       "<table border=\"1\" class=\"dataframe\">\n",
       "  <thead>\n",
       "    <tr style=\"text-align: right;\">\n",
       "      <th></th>\n",
       "      <th>Sequence</th>\n",
       "      <th>sequence_source</th>\n",
       "      <th>uniprot</th>\n",
       "      <th>Smiles</th>\n",
       "      <th>value</th>\n",
       "      <th>ec</th>\n",
       "      <th>log10_value</th>\n",
       "      <th>label</th>\n",
       "      <th>metabolite_features</th>\n",
       "      <th>protein_features</th>\n",
       "    </tr>\n",
       "  </thead>\n",
       "  <tbody>\n",
       "    <tr>\n",
       "      <th>0</th>\n",
       "      <td>MHTKGPTPQQHDGSALRIGIVHARWNETIIEPLLAGTKAKLLACGV...</td>\n",
       "      <td>uniprot_search</td>\n",
       "      <td>A0A6P8BCR9</td>\n",
       "      <td>O=c1n(C[C@H](O)[C@H](O)[C@H](O)CO)c2nc(O)nc(O)...</td>\n",
       "      <td>0.000002</td>\n",
       "      <td>2.5.1.78</td>\n",
       "      <td>-5.698970</td>\n",
       "      <td>-5.698970</td>\n",
       "      <td>[0.17249086, -0.23665705, -0.11737049, -0.0940...</td>\n",
       "      <td>[0.026722027, -0.06119407, 0.041440543, -0.109...</td>\n",
       "    </tr>\n",
       "    <tr>\n",
       "      <th>1</th>\n",
       "      <td>MASPDWGYDDKNGPEQWSKLYPIANGNNQSPVDIKTSETKHDTSLK...</td>\n",
       "      <td>brenda</td>\n",
       "      <td>P00915</td>\n",
       "      <td>CN1CCN(C(=O)c2ccc(S(N)(=O)=O)cc2)[C@@H](Cc2ccc...</td>\n",
       "      <td>0.000707</td>\n",
       "      <td>4.2.1.1</td>\n",
       "      <td>-3.150581</td>\n",
       "      <td>-3.150581</td>\n",
       "      <td>[0.4240491, 0.28231123, 0.2642891, -0.7667821,...</td>\n",
       "      <td>[-0.029181704, -0.12635791, 0.10866662, 0.0339...</td>\n",
       "    </tr>\n",
       "    <tr>\n",
       "      <th>2</th>\n",
       "      <td>MLDDIRGFMNTFSETMFMDVINYSLTRDRYDSVFLQRQNYRDLGQL...</td>\n",
       "      <td>brenda</td>\n",
       "      <td>Q9HLD0</td>\n",
       "      <td>C[C@H]1O[C@H](O[C@H]2[C@H](O)[C@@H](O)[C@@H](O...</td>\n",
       "      <td>0.002990</td>\n",
       "      <td>3.2.1.20</td>\n",
       "      <td>-2.524329</td>\n",
       "      <td>-2.524329</td>\n",
       "      <td>[0.50005734, 0.3923428, 0.064121775, -0.635894...</td>\n",
       "      <td>[0.02874529, -0.17312695, -0.0026887748, 0.035...</td>\n",
       "    </tr>\n",
       "    <tr>\n",
       "      <th>3</th>\n",
       "      <td>MKLMENIFDLAKANKKKIVLAEGEEERNIRASEEIIKDGIADIILV...</td>\n",
       "      <td>uniprot_search</td>\n",
       "      <td>A0A1L5F6Z9</td>\n",
       "      <td>CCN=C(O)CCN=C(O)[C@H](O)C(C)(C)COP(=O)(O)OP(=O...</td>\n",
       "      <td>0.020000</td>\n",
       "      <td>2.3.1.8</td>\n",
       "      <td>-1.698970</td>\n",
       "      <td>-1.698970</td>\n",
       "      <td>[0.28353548, 0.018489605, -0.5459905, -0.34693...</td>\n",
       "      <td>[-0.06555556, 0.04763434, 0.031432115, 0.17143...</td>\n",
       "    </tr>\n",
       "    <tr>\n",
       "      <th>4</th>\n",
       "      <td>MAKRIVEPFRIKMVEKIRVPSREEREAALKEAGYNPFLLPSSAVYI...</td>\n",
       "      <td>sabio</td>\n",
       "      <td>P28796</td>\n",
       "      <td>CC(N)C(=O)O</td>\n",
       "      <td>24.500000</td>\n",
       "      <td>4.1.99.1</td>\n",
       "      <td>1.389166</td>\n",
       "      <td>1.419631</td>\n",
       "      <td>[0.051456872, 0.35619217, 0.10593035, -1.04098...</td>\n",
       "      <td>[0.049294557, -0.043596543, 0.0546125, 0.35600...</td>\n",
       "    </tr>\n",
       "  </tbody>\n",
       "</table>\n",
       "</div>"
      ],
      "text/plain": [
       "                                            Sequence sequence_source  \\\n",
       "0  MHTKGPTPQQHDGSALRIGIVHARWNETIIEPLLAGTKAKLLACGV...  uniprot_search   \n",
       "1  MASPDWGYDDKNGPEQWSKLYPIANGNNQSPVDIKTSETKHDTSLK...          brenda   \n",
       "2  MLDDIRGFMNTFSETMFMDVINYSLTRDRYDSVFLQRQNYRDLGQL...          brenda   \n",
       "3  MKLMENIFDLAKANKKKIVLAEGEEERNIRASEEIIKDGIADIILV...  uniprot_search   \n",
       "4  MAKRIVEPFRIKMVEKIRVPSREEREAALKEAGYNPFLLPSSAVYI...           sabio   \n",
       "\n",
       "      uniprot                                             Smiles      value  \\\n",
       "0  A0A6P8BCR9  O=c1n(C[C@H](O)[C@H](O)[C@H](O)CO)c2nc(O)nc(O)...   0.000002   \n",
       "1      P00915  CN1CCN(C(=O)c2ccc(S(N)(=O)=O)cc2)[C@@H](Cc2ccc...   0.000707   \n",
       "2      Q9HLD0  C[C@H]1O[C@H](O[C@H]2[C@H](O)[C@@H](O)[C@@H](O...   0.002990   \n",
       "3  A0A1L5F6Z9  CCN=C(O)CCN=C(O)[C@H](O)C(C)(C)COP(=O)(O)OP(=O...   0.020000   \n",
       "4      P28796                                        CC(N)C(=O)O  24.500000   \n",
       "\n",
       "         ec  log10_value     label  \\\n",
       "0  2.5.1.78    -5.698970 -5.698970   \n",
       "1   4.2.1.1    -3.150581 -3.150581   \n",
       "2  3.2.1.20    -2.524329 -2.524329   \n",
       "3   2.3.1.8    -1.698970 -1.698970   \n",
       "4  4.1.99.1     1.389166  1.419631   \n",
       "\n",
       "                                 metabolite_features  \\\n",
       "0  [0.17249086, -0.23665705, -0.11737049, -0.0940...   \n",
       "1  [0.4240491, 0.28231123, 0.2642891, -0.7667821,...   \n",
       "2  [0.50005734, 0.3923428, 0.064121775, -0.635894...   \n",
       "3  [0.28353548, 0.018489605, -0.5459905, -0.34693...   \n",
       "4  [0.051456872, 0.35619217, 0.10593035, -1.04098...   \n",
       "\n",
       "                                    protein_features  \n",
       "0  [0.026722027, -0.06119407, 0.041440543, -0.109...  \n",
       "1  [-0.029181704, -0.12635791, 0.10866662, 0.0339...  \n",
       "2  [0.02874529, -0.17312695, -0.0026887748, 0.035...  \n",
       "3  [-0.06555556, 0.04763434, 0.031432115, 0.17143...  \n",
       "4  [0.049294557, -0.043596543, 0.0546125, 0.35600...  "
      ]
     },
     "execution_count": 3,
     "metadata": {},
     "output_type": "execute_result"
    }
   ],
   "source": [
    "data_ki.rename(columns={'log10ki_mean':'label'},inplace=True)\n",
    "data_ki.head()"
   ]
  },
  {
   "cell_type": "code",
   "execution_count": 4,
   "metadata": {},
   "outputs": [],
   "source": [
    "# Define dataset\n",
    "class MPI_Dataset(Dataset):\n",
    "    def __init__(self, dataframe):\n",
    "        self.dataframe = dataframe\n",
    "\n",
    "    def __len__(self):\n",
    "        return len(self.dataframe)\n",
    "\n",
    "    def __getitem__(self, idx):\n",
    "        row = self.dataframe.iloc[idx]\n",
    "        return {\n",
    "            'metabolite_features': torch.tensor(np.asarray(row['metabolite_features'], dtype=np.float32)),\n",
    "            'protein_features': torch.tensor(np.asarray(row['protein_features'], dtype=np.float32)),\n",
    "            'label': torch.tensor(float(row['label']), dtype=torch.float32),\n",
    "        }"
   ]
  },
  {
   "cell_type": "code",
   "execution_count": 5,
   "metadata": {},
   "outputs": [],
   "source": [
    "# Load data\n",
    "# Assuming `combined_df` is a pandas DataFrame containing all necessary columns\n",
    "train_df, temp_df = train_test_split(data_ki, test_size=0.3, shuffle=True, random_state=42)\n",
    "val_df, test_df = train_test_split(temp_df, test_size=0.5, shuffle=True, random_state=42)\n",
    "\n",
    "train_dataset = MPI_Dataset(train_df)\n",
    "val_dataset = MPI_Dataset(val_df)\n",
    "test_dataset = MPI_Dataset(test_df)\n",
    "\n",
    "train_loader = DataLoader(train_dataset, batch_size=32, shuffle=True)\n",
    "val_loader = DataLoader(val_dataset, batch_size=32)\n",
    "test_loader = DataLoader(test_dataset, batch_size=32)"
   ]
  },
  {
   "cell_type": "code",
   "execution_count": 6,
   "metadata": {},
   "outputs": [],
   "source": [
    "import torch.nn as nn\n",
    "import torch\n",
    "import torch.nn.functional as F\n",
    "\n",
    "# Define MLP Model for Regression\n",
    "class MLPRegressor(nn.Module):\n",
    "    def __init__(self, mol_input_dim, protein_input_dim, hidden_dim=1):\n",
    "        super(MLPRegressor, self).__init__()\n",
    "\n",
    "        self.mol_encoder = nn.Linear(mol_input_dim, hidden_dim)\n",
    "        self.protein_encoder = nn.Linear(protein_input_dim, hidden_dim)\n",
    "        \n",
    "        # norm layer + Dropout\n",
    "        self.layer_norm = nn.LayerNorm(hidden_dim * 2)\n",
    "        self.dropout = nn.Dropout(0.3)\n",
    "\n",
    "        # hidden layer + output layer\n",
    "        self.hidden = nn.Linear(hidden_dim * 2, hidden_dim)\n",
    "        self.regressor = nn.Linear(hidden_dim, 1)\n",
    "\n",
    "        self.activation = nn.ReLU()\n",
    "\n",
    "    def forward(self, mol_input, protein_input):\n",
    "        # Reshape to (B, 1, L) for Conv1d\n",
    "        mol_embedding = self.activation(self.mol_encoder(mol_input))\n",
    "        protein_embedding = self.activation(self.protein_encoder(protein_input))\n",
    "\n",
    "        # Concatenate + Normalize + Dropout\n",
    "        combined = torch.cat((mol_embedding, protein_embedding), dim=-1)\n",
    "        combined = self.layer_norm(combined)\n",
    "        combined = self.dropout(combined)\n",
    "\n",
    "        # Hidden → Regress\n",
    "        hidden_out = self.activation(self.hidden(combined))\n",
    "        output = self.regressor(hidden_out)\n",
    "\n",
    "        return output.squeeze(1)\n"
   ]
  },
  {
   "cell_type": "code",
   "execution_count": 7,
   "metadata": {},
   "outputs": [],
   "source": [
    "# Check CUDA availability\n",
    "device = torch.device(\"cuda\" if torch.cuda.is_available() else \"cpu\")"
   ]
  },
  {
   "cell_type": "code",
   "execution_count": null,
   "metadata": {},
   "outputs": [
    {
     "name": "stderr",
     "output_type": "stream",
     "text": [
      "Training Epoch 1: 100%|██████████| 261/261 [00:02<00:00, 117.69it/s]\n",
      "/var/folders/yz/c1z6m9_d5d3f80sywjc3rqsc0000gn/T/ipykernel_17615/3008050676.py:91: FutureWarning: The behavior of DataFrame concatenation with empty or all-NA entries is deprecated. In a future version, this will no longer exclude empty or all-NA columns when determining the result dtypes. To retain the old behavior, exclude the relevant entries before the concat operation.\n",
      "  train_history = pd.concat([train_history, pd.DataFrame([new_row])], ignore_index=True)\n"
     ]
    },
    {
     "name": "stdout",
     "output_type": "stream",
     "text": [
      "Epoch 0 - Train Loss: 2.7302, Train MSE: 2.7300, Train MAE: 1.3059\n",
      "Epoch 0 - Validation Loss: 2.4800, Validation MSE: 2.4812, Validation MAE: 1.2270\n"
     ]
    },
    {
     "name": "stderr",
     "output_type": "stream",
     "text": [
      "Training Epoch 2: 100%|██████████| 261/261 [00:02<00:00, 112.13it/s]\n",
      "Training Epoch 3: 100%|██████████| 261/261 [00:02<00:00, 118.98it/s]\n",
      "Training Epoch 4: 100%|██████████| 261/261 [00:01<00:00, 132.53it/s]\n",
      "Training Epoch 5: 100%|██████████| 261/261 [00:02<00:00, 125.10it/s]\n",
      "Training Epoch 6: 100%|██████████| 261/261 [00:02<00:00, 114.23it/s]\n",
      "Training Epoch 7: 100%|██████████| 261/261 [00:02<00:00, 126.39it/s]\n",
      "Training Epoch 8: 100%|██████████| 261/261 [00:02<00:00, 126.35it/s]\n",
      "Training Epoch 9: 100%|██████████| 261/261 [00:02<00:00, 124.75it/s]\n",
      "Training Epoch 10: 100%|██████████| 261/261 [00:02<00:00, 124.47it/s]\n",
      "Training Epoch 11: 100%|██████████| 261/261 [00:01<00:00, 131.96it/s]\n"
     ]
    },
    {
     "name": "stdout",
     "output_type": "stream",
     "text": [
      "Epoch 10 - Train Loss: 1.5002, Train MSE: 1.5003, Train MAE: 0.9514\n",
      "Epoch 10 - Validation Loss: 1.8826, Validation MSE: 1.8836, Validation MAE: 1.0546\n"
     ]
    },
    {
     "name": "stderr",
     "output_type": "stream",
     "text": [
      "Training Epoch 12: 100%|██████████| 261/261 [00:02<00:00, 127.83it/s]\n",
      "Training Epoch 13: 100%|██████████| 261/261 [00:01<00:00, 131.23it/s]\n",
      "Training Epoch 14: 100%|██████████| 261/261 [00:01<00:00, 132.45it/s]\n",
      "Training Epoch 15: 100%|██████████| 261/261 [00:01<00:00, 134.03it/s]\n",
      "Training Epoch 16: 100%|██████████| 261/261 [00:01<00:00, 140.67it/s]\n",
      "Training Epoch 17: 100%|██████████| 261/261 [00:02<00:00, 128.18it/s]\n",
      "Training Epoch 18: 100%|██████████| 261/261 [00:01<00:00, 132.54it/s]\n",
      "Training Epoch 19: 100%|██████████| 261/261 [00:01<00:00, 136.52it/s]\n",
      "Training Epoch 20: 100%|██████████| 261/261 [00:01<00:00, 136.54it/s]\n",
      "Training Epoch 21: 100%|██████████| 261/261 [00:01<00:00, 134.22it/s]\n"
     ]
    },
    {
     "name": "stdout",
     "output_type": "stream",
     "text": [
      "Epoch 20 - Train Loss: 1.0730, Train MSE: 1.0731, Train MAE: 0.7982\n",
      "Epoch 20 - Validation Loss: 1.7056, Validation MSE: 1.7070, Validation MAE: 0.9950\n"
     ]
    },
    {
     "name": "stderr",
     "output_type": "stream",
     "text": [
      "Training Epoch 22: 100%|██████████| 261/261 [00:01<00:00, 133.74it/s]\n",
      "Training Epoch 23: 100%|██████████| 261/261 [00:01<00:00, 132.71it/s]\n",
      "Training Epoch 24: 100%|██████████| 261/261 [00:01<00:00, 131.76it/s]\n",
      "Training Epoch 25: 100%|██████████| 261/261 [00:01<00:00, 136.63it/s]\n",
      "Training Epoch 26: 100%|██████████| 261/261 [00:01<00:00, 130.86it/s]\n",
      "Training Epoch 27: 100%|██████████| 261/261 [00:02<00:00, 127.43it/s]\n",
      "Training Epoch 28: 100%|██████████| 261/261 [00:01<00:00, 131.44it/s]\n",
      "Training Epoch 29: 100%|██████████| 261/261 [00:02<00:00, 127.97it/s]\n",
      "Training Epoch 30: 100%|██████████| 261/261 [00:01<00:00, 136.30it/s]\n",
      "Training Epoch 31: 100%|██████████| 261/261 [00:01<00:00, 135.31it/s]\n"
     ]
    },
    {
     "name": "stdout",
     "output_type": "stream",
     "text": [
      "Epoch 30 - Train Loss: 0.8156, Train MSE: 0.8155, Train MAE: 0.6950\n",
      "Epoch 30 - Validation Loss: 1.6958, Validation MSE: 1.6966, Validation MAE: 0.9835\n"
     ]
    },
    {
     "name": "stderr",
     "output_type": "stream",
     "text": [
      "Training Epoch 32: 100%|██████████| 261/261 [00:02<00:00, 125.08it/s]\n",
      "Training Epoch 33: 100%|██████████| 261/261 [00:02<00:00, 129.64it/s]\n",
      "Training Epoch 34: 100%|██████████| 261/261 [00:02<00:00, 129.71it/s]\n",
      "Training Epoch 35: 100%|██████████| 261/261 [00:02<00:00, 106.09it/s]\n",
      "Training Epoch 36: 100%|██████████| 261/261 [00:01<00:00, 133.88it/s]\n",
      "Training Epoch 37: 100%|██████████| 261/261 [00:02<00:00, 128.43it/s]\n",
      "Training Epoch 38: 100%|██████████| 261/261 [00:02<00:00, 128.77it/s]\n",
      "Training Epoch 39: 100%|██████████| 261/261 [00:02<00:00, 121.39it/s]\n",
      "Training Epoch 40: 100%|██████████| 261/261 [00:01<00:00, 133.46it/s]\n",
      "Training Epoch 41: 100%|██████████| 261/261 [00:01<00:00, 139.13it/s]\n"
     ]
    },
    {
     "name": "stdout",
     "output_type": "stream",
     "text": [
      "Epoch 40 - Train Loss: 0.6568, Train MSE: 0.6568, Train MAE: 0.6204\n",
      "Epoch 40 - Validation Loss: 1.7086, Validation MSE: 1.7100, Validation MAE: 0.9828\n"
     ]
    },
    {
     "name": "stderr",
     "output_type": "stream",
     "text": [
      "Training Epoch 42: 100%|██████████| 261/261 [00:01<00:00, 135.85it/s]\n",
      "Training Epoch 43: 100%|██████████| 261/261 [00:02<00:00, 128.05it/s]\n",
      "Training Epoch 44: 100%|██████████| 261/261 [00:01<00:00, 132.23it/s]\n",
      "Training Epoch 45: 100%|██████████| 261/261 [00:02<00:00, 129.21it/s]\n",
      "Training Epoch 46: 100%|██████████| 261/261 [00:01<00:00, 136.77it/s]\n",
      "Training Epoch 47: 100%|██████████| 261/261 [00:02<00:00, 130.07it/s]\n",
      "Training Epoch 48: 100%|██████████| 261/261 [00:01<00:00, 134.67it/s]\n",
      "Training Epoch 49: 100%|██████████| 261/261 [00:02<00:00, 120.82it/s]\n",
      "Training Epoch 50: 100%|██████████| 261/261 [00:02<00:00, 129.98it/s]\n",
      "Training Epoch 51: 100%|██████████| 261/261 [00:02<00:00, 127.98it/s]\n"
     ]
    },
    {
     "name": "stdout",
     "output_type": "stream",
     "text": [
      "Epoch 50 - Train Loss: 0.5558, Train MSE: 0.5559, Train MAE: 0.5701\n",
      "Epoch 50 - Validation Loss: 1.6707, Validation MSE: 1.6721, Validation MAE: 0.9537\n"
     ]
    },
    {
     "name": "stderr",
     "output_type": "stream",
     "text": [
      "Training Epoch 52: 100%|██████████| 261/261 [00:01<00:00, 136.73it/s]\n",
      "Training Epoch 53: 100%|██████████| 261/261 [00:02<00:00, 127.89it/s]\n",
      "Training Epoch 54: 100%|██████████| 261/261 [00:02<00:00, 128.64it/s]\n",
      "Training Epoch 55: 100%|██████████| 261/261 [00:01<00:00, 133.32it/s]\n",
      "Training Epoch 56: 100%|██████████| 261/261 [00:01<00:00, 135.08it/s]\n",
      "Training Epoch 57: 100%|██████████| 261/261 [00:01<00:00, 136.54it/s]\n",
      "Training Epoch 58: 100%|██████████| 261/261 [00:02<00:00, 127.68it/s]\n",
      "Training Epoch 59: 100%|██████████| 261/261 [00:02<00:00, 129.45it/s]\n",
      "Training Epoch 60: 100%|██████████| 261/261 [00:01<00:00, 131.93it/s]\n",
      "Training Epoch 61: 100%|██████████| 261/261 [00:02<00:00, 128.77it/s]\n"
     ]
    },
    {
     "name": "stdout",
     "output_type": "stream",
     "text": [
      "Epoch 60 - Train Loss: 0.4657, Train MSE: 0.4657, Train MAE: 0.5227\n",
      "Epoch 60 - Validation Loss: 1.6701, Validation MSE: 1.6713, Validation MAE: 0.9524\n"
     ]
    },
    {
     "name": "stderr",
     "output_type": "stream",
     "text": [
      "Training Epoch 62: 100%|██████████| 261/261 [00:02<00:00, 124.71it/s]\n",
      "Training Epoch 63: 100%|██████████| 261/261 [00:02<00:00, 113.54it/s]\n",
      "Training Epoch 64: 100%|██████████| 261/261 [00:01<00:00, 132.83it/s]\n",
      "Training Epoch 65: 100%|██████████| 261/261 [00:02<00:00, 129.95it/s]\n",
      "Training Epoch 66: 100%|██████████| 261/261 [00:01<00:00, 132.09it/s]\n",
      "Training Epoch 67: 100%|██████████| 261/261 [00:02<00:00, 129.48it/s]\n",
      "Training Epoch 68: 100%|██████████| 261/261 [00:01<00:00, 134.08it/s]\n",
      "Training Epoch 69: 100%|██████████| 261/261 [00:02<00:00, 129.21it/s]\n",
      "Training Epoch 70: 100%|██████████| 261/261 [00:01<00:00, 133.55it/s]\n",
      "Training Epoch 71: 100%|██████████| 261/261 [00:01<00:00, 131.53it/s]\n"
     ]
    },
    {
     "name": "stdout",
     "output_type": "stream",
     "text": [
      "Epoch 70 - Train Loss: 0.4299, Train MSE: 0.4299, Train MAE: 0.5035\n",
      "Epoch 70 - Validation Loss: 1.6438, Validation MSE: 1.6451, Validation MAE: 0.9471\n"
     ]
    },
    {
     "name": "stderr",
     "output_type": "stream",
     "text": [
      "Training Epoch 72: 100%|██████████| 261/261 [00:01<00:00, 134.04it/s]\n",
      "Training Epoch 73: 100%|██████████| 261/261 [00:02<00:00, 126.39it/s]\n",
      "Training Epoch 74: 100%|██████████| 261/261 [00:01<00:00, 138.16it/s]\n",
      "Training Epoch 75: 100%|██████████| 261/261 [00:01<00:00, 132.85it/s]\n",
      "Training Epoch 76: 100%|██████████| 261/261 [00:01<00:00, 130.65it/s]\n",
      "Training Epoch 77: 100%|██████████| 261/261 [00:02<00:00, 124.73it/s]\n",
      "Training Epoch 78: 100%|██████████| 261/261 [00:01<00:00, 137.13it/s]\n",
      "Training Epoch 79: 100%|██████████| 261/261 [00:01<00:00, 138.94it/s]\n",
      "Training Epoch 80: 100%|██████████| 261/261 [00:01<00:00, 135.23it/s]\n",
      "Training Epoch 81: 100%|██████████| 261/261 [00:01<00:00, 132.26it/s]\n"
     ]
    },
    {
     "name": "stdout",
     "output_type": "stream",
     "text": [
      "Epoch 80 - Train Loss: 0.3754, Train MSE: 0.3754, Train MAE: 0.4685\n",
      "Epoch 80 - Validation Loss: 1.5795, Validation MSE: 1.5810, Validation MAE: 0.9207\n"
     ]
    },
    {
     "name": "stderr",
     "output_type": "stream",
     "text": [
      "Training Epoch 82: 100%|██████████| 261/261 [00:01<00:00, 131.60it/s]\n",
      "Training Epoch 83: 100%|██████████| 261/261 [00:01<00:00, 131.36it/s]\n",
      "Training Epoch 84: 100%|██████████| 261/261 [00:01<00:00, 136.04it/s]\n",
      "Training Epoch 85: 100%|██████████| 261/261 [00:01<00:00, 130.80it/s]\n",
      "Training Epoch 86: 100%|██████████| 261/261 [00:02<00:00, 127.89it/s]\n",
      "Training Epoch 87: 100%|██████████| 261/261 [00:02<00:00, 128.10it/s]\n",
      "Training Epoch 88: 100%|██████████| 261/261 [00:01<00:00, 132.70it/s]\n",
      "Training Epoch 89: 100%|██████████| 261/261 [00:01<00:00, 135.30it/s]\n",
      "Training Epoch 90: 100%|██████████| 261/261 [00:01<00:00, 132.81it/s]\n",
      "Training Epoch 91: 100%|██████████| 261/261 [00:02<00:00, 114.14it/s]\n"
     ]
    },
    {
     "name": "stdout",
     "output_type": "stream",
     "text": [
      "Epoch 90 - Train Loss: 0.3499, Train MSE: 0.3499, Train MAE: 0.4500\n",
      "Epoch 90 - Validation Loss: 1.5621, Validation MSE: 1.5634, Validation MAE: 0.9203\n"
     ]
    },
    {
     "name": "stderr",
     "output_type": "stream",
     "text": [
      "Training Epoch 92: 100%|██████████| 261/261 [00:02<00:00, 126.54it/s]\n",
      "Training Epoch 93: 100%|██████████| 261/261 [00:01<00:00, 132.54it/s]\n",
      "Training Epoch 94: 100%|██████████| 261/261 [00:02<00:00, 129.25it/s]\n",
      "Training Epoch 95: 100%|██████████| 261/261 [00:01<00:00, 138.03it/s]\n",
      "Training Epoch 96: 100%|██████████| 261/261 [00:01<00:00, 136.03it/s]\n",
      "Training Epoch 97: 100%|██████████| 261/261 [00:01<00:00, 132.61it/s]\n",
      "Training Epoch 98: 100%|██████████| 261/261 [00:01<00:00, 132.13it/s]\n",
      "Training Epoch 99: 100%|██████████| 261/261 [00:02<00:00, 128.69it/s]\n",
      "Training Epoch 100: 100%|██████████| 261/261 [00:01<00:00, 135.03it/s]\n",
      "Training Epoch 101: 100%|██████████| 261/261 [00:01<00:00, 131.27it/s]\n"
     ]
    },
    {
     "name": "stdout",
     "output_type": "stream",
     "text": [
      "Epoch 100 - Train Loss: 0.3258, Train MSE: 0.3257, Train MAE: 0.4355\n",
      "Epoch 100 - Validation Loss: 1.6291, Validation MSE: 1.6306, Validation MAE: 0.9297\n"
     ]
    },
    {
     "name": "stderr",
     "output_type": "stream",
     "text": [
      "Training Epoch 102: 100%|██████████| 261/261 [00:01<00:00, 131.28it/s]\n",
      "Training Epoch 103: 100%|██████████| 261/261 [00:01<00:00, 132.42it/s]\n",
      "Training Epoch 104: 100%|██████████| 261/261 [00:01<00:00, 140.48it/s]\n",
      "Training Epoch 105: 100%|██████████| 261/261 [00:01<00:00, 131.53it/s]\n",
      "Training Epoch 106: 100%|██████████| 261/261 [00:02<00:00, 130.06it/s]\n",
      "Training Epoch 107: 100%|██████████| 261/261 [00:02<00:00, 99.44it/s] \n",
      "Training Epoch 108: 100%|██████████| 261/261 [00:02<00:00, 107.78it/s]\n",
      "Training Epoch 109: 100%|██████████| 261/261 [00:02<00:00, 122.23it/s]\n",
      "Training Epoch 110: 100%|██████████| 261/261 [00:02<00:00, 121.10it/s]\n",
      "Training Epoch 111: 100%|██████████| 261/261 [00:01<00:00, 132.98it/s]\n"
     ]
    },
    {
     "name": "stdout",
     "output_type": "stream",
     "text": [
      "Epoch 110 - Train Loss: 0.3043, Train MSE: 0.3043, Train MAE: 0.4214\n",
      "Epoch 110 - Validation Loss: 1.6007, Validation MSE: 1.6022, Validation MAE: 0.9215\n"
     ]
    },
    {
     "name": "stderr",
     "output_type": "stream",
     "text": [
      "Training Epoch 112: 100%|██████████| 261/261 [00:02<00:00, 123.35it/s]\n",
      "Training Epoch 113: 100%|██████████| 261/261 [00:01<00:00, 131.87it/s]\n",
      "Training Epoch 114: 100%|██████████| 261/261 [00:02<00:00, 128.38it/s]\n",
      "Training Epoch 115: 100%|██████████| 261/261 [06:48<00:00,  1.56s/it] \n",
      "Training Epoch 116: 100%|██████████| 261/261 [00:02<00:00, 119.84it/s]\n",
      "Training Epoch 117: 100%|██████████| 261/261 [00:05<00:00, 46.26it/s] \n",
      "Training Epoch 118: 100%|██████████| 261/261 [00:02<00:00, 94.09it/s] \n",
      "Training Epoch 119: 100%|██████████| 261/261 [00:02<00:00, 87.21it/s]\n",
      "Training Epoch 120: 100%|██████████| 261/261 [00:03<00:00, 86.76it/s]\n",
      "Training Epoch 121: 100%|██████████| 261/261 [00:02<00:00, 94.62it/s]\n"
     ]
    },
    {
     "name": "stdout",
     "output_type": "stream",
     "text": [
      "Epoch 120 - Train Loss: 0.2812, Train MSE: 0.2812, Train MAE: 0.4049\n",
      "Epoch 120 - Validation Loss: 1.5903, Validation MSE: 1.5915, Validation MAE: 0.9222\n"
     ]
    },
    {
     "name": "stderr",
     "output_type": "stream",
     "text": [
      "Training Epoch 122: 100%|██████████| 261/261 [00:02<00:00, 91.90it/s]\n",
      "Training Epoch 123: 100%|██████████| 261/261 [00:02<00:00, 88.74it/s]\n",
      "Training Epoch 124: 100%|██████████| 261/261 [00:02<00:00, 89.86it/s]\n",
      "Training Epoch 125: 100%|██████████| 261/261 [00:02<00:00, 91.03it/s] \n",
      "Training Epoch 126: 100%|██████████| 261/261 [00:02<00:00, 95.35it/s]\n",
      "Training Epoch 127: 100%|██████████| 261/261 [00:02<00:00, 95.06it/s]\n",
      "Training Epoch 128: 100%|██████████| 261/261 [17:48<00:00,  4.09s/it] \n",
      "Training Epoch 129: 100%|██████████| 261/261 [00:02<00:00, 89.27it/s]\n",
      "Training Epoch 130: 100%|██████████| 261/261 [16:49<00:00,  3.87s/it]  \n",
      "Training Epoch 131: 100%|██████████| 261/261 [15:41<00:00,  3.61s/it]\n"
     ]
    },
    {
     "name": "stdout",
     "output_type": "stream",
     "text": [
      "Epoch 130 - Train Loss: 0.2704, Train MSE: 0.2704, Train MAE: 0.3935\n",
      "Epoch 130 - Validation Loss: 1.5968, Validation MSE: 1.5980, Validation MAE: 0.9225\n"
     ]
    },
    {
     "name": "stderr",
     "output_type": "stream",
     "text": [
      "Training Epoch 132: 100%|██████████| 261/261 [00:02<00:00, 91.56it/s]\n",
      "Training Epoch 133: 100%|██████████| 261/261 [15:59<00:00,  3.68s/it] \n",
      "Training Epoch 134: 100%|██████████| 261/261 [16:29<00:00,  3.79s/it]\n",
      "Training Epoch 135: 100%|██████████| 261/261 [00:02<00:00, 93.09it/s] \n",
      "Training Epoch 136: 100%|██████████| 261/261 [17:50<00:00,  4.10s/it]\n",
      "Training Epoch 137: 100%|██████████| 261/261 [00:03<00:00, 83.90it/s]\n",
      "Training Epoch 138: 100%|██████████| 261/261 [09:49<00:00,  2.26s/it] \n",
      "Training Epoch 139: 100%|██████████| 261/261 [00:04<00:00, 58.35it/s]\n",
      "Training Epoch 140: 100%|██████████| 261/261 [02:29<00:00,  1.75it/s]\n",
      "Training Epoch 141: 100%|██████████| 261/261 [00:03<00:00, 80.41it/s]\n"
     ]
    },
    {
     "name": "stdout",
     "output_type": "stream",
     "text": [
      "Epoch 140 - Train Loss: 0.2552, Train MSE: 0.2552, Train MAE: 0.3853\n",
      "Epoch 140 - Validation Loss: 1.6068, Validation MSE: 1.6084, Validation MAE: 0.9201\n"
     ]
    },
    {
     "name": "stderr",
     "output_type": "stream",
     "text": [
      "Training Epoch 142: 100%|██████████| 261/261 [00:03<00:00, 86.73it/s]\n",
      "Training Epoch 143: 100%|██████████| 261/261 [17:25<00:00,  4.00s/it]\n",
      "Training Epoch 144: 100%|██████████| 261/261 [00:03<00:00, 79.64it/s]\n",
      "Training Epoch 145: 100%|██████████| 261/261 [16:06<00:00,  3.70s/it] \n",
      "Training Epoch 146: 100%|██████████| 261/261 [17:54<00:00,  4.12s/it]\n",
      "Training Epoch 147: 100%|██████████| 261/261 [00:02<00:00, 87.97it/s]\n",
      "Training Epoch 148: 100%|██████████| 261/261 [09:23<00:00,  2.16s/it] \n",
      "Training Epoch 149: 100%|██████████| 261/261 [00:03<00:00, 75.59it/s]\n",
      "Training Epoch 150: 100%|██████████| 261/261 [00:03<00:00, 70.72it/s]\n",
      "Training Epoch 151: 100%|██████████| 261/261 [00:03<00:00, 85.92it/s]\n"
     ]
    },
    {
     "name": "stdout",
     "output_type": "stream",
     "text": [
      "Epoch 150 - Train Loss: 0.2466, Train MSE: 0.2466, Train MAE: 0.3775\n",
      "Epoch 150 - Validation Loss: 1.6322, Validation MSE: 1.6337, Validation MAE: 0.9254\n"
     ]
    },
    {
     "name": "stderr",
     "output_type": "stream",
     "text": [
      "Training Epoch 152: 100%|██████████| 261/261 [00:03<00:00, 75.42it/s]\n",
      "Training Epoch 153: 100%|██████████| 261/261 [00:03<00:00, 81.49it/s]\n",
      "Training Epoch 154: 100%|██████████| 261/261 [00:02<00:00, 87.83it/s]\n",
      "Training Epoch 155: 100%|██████████| 261/261 [00:03<00:00, 67.86it/s]\n",
      "Training Epoch 156: 100%|██████████| 261/261 [00:03<00:00, 70.65it/s]\n",
      "Training Epoch 157: 100%|██████████| 261/261 [00:02<00:00, 89.79it/s]\n",
      "Training Epoch 158: 100%|██████████| 261/261 [00:02<00:00, 89.53it/s]\n",
      "Training Epoch 159: 100%|██████████| 261/261 [00:02<00:00, 91.13it/s]\n",
      "Training Epoch 160: 100%|██████████| 261/261 [00:03<00:00, 86.62it/s]\n",
      "Training Epoch 161: 100%|██████████| 261/261 [00:03<00:00, 78.43it/s]\n"
     ]
    },
    {
     "name": "stdout",
     "output_type": "stream",
     "text": [
      "Epoch 160 - Train Loss: 0.2330, Train MSE: 0.2331, Train MAE: 0.3650\n",
      "Epoch 160 - Validation Loss: 1.6044, Validation MSE: 1.6059, Validation MAE: 0.9173\n"
     ]
    },
    {
     "name": "stderr",
     "output_type": "stream",
     "text": [
      "Training Epoch 162: 100%|██████████| 261/261 [17:13<00:00,  3.96s/it] \n",
      "Training Epoch 163: 100%|██████████| 261/261 [02:10<00:00,  2.01it/s]\n",
      "Training Epoch 164: 100%|██████████| 261/261 [00:04<00:00, 61.87it/s] \n",
      "Training Epoch 165: 100%|██████████| 261/261 [00:02<00:00, 113.97it/s]\n",
      "Training Epoch 166: 100%|██████████| 261/261 [00:02<00:00, 129.92it/s]\n",
      "Training Epoch 167: 100%|██████████| 261/261 [00:02<00:00, 124.37it/s]\n",
      "Training Epoch 168: 100%|██████████| 261/261 [00:02<00:00, 120.67it/s]\n",
      "Training Epoch 169: 100%|██████████| 261/261 [00:02<00:00, 121.33it/s]\n",
      "Training Epoch 170: 100%|██████████| 261/261 [00:02<00:00, 128.46it/s]\n",
      "Training Epoch 171: 100%|██████████| 261/261 [00:01<00:00, 137.92it/s]\n"
     ]
    },
    {
     "name": "stdout",
     "output_type": "stream",
     "text": [
      "Epoch 170 - Train Loss: 0.2271, Train MSE: 0.2272, Train MAE: 0.3582\n",
      "Epoch 170 - Validation Loss: 1.6088, Validation MSE: 1.6101, Validation MAE: 0.9204\n"
     ]
    },
    {
     "name": "stderr",
     "output_type": "stream",
     "text": [
      "Training Epoch 172: 100%|██████████| 261/261 [00:02<00:00, 123.64it/s]\n",
      "Training Epoch 173: 100%|██████████| 261/261 [00:02<00:00, 108.77it/s]\n",
      "Training Epoch 174: 100%|██████████| 261/261 [00:01<00:00, 132.32it/s]\n",
      "Training Epoch 175: 100%|██████████| 261/261 [00:01<00:00, 132.24it/s]\n",
      "Training Epoch 176: 100%|██████████| 261/261 [00:02<00:00, 127.69it/s]\n",
      "Training Epoch 177: 100%|██████████| 261/261 [00:02<00:00, 119.88it/s]\n",
      "Training Epoch 178: 100%|██████████| 261/261 [00:01<00:00, 133.47it/s]\n",
      "Training Epoch 179: 100%|██████████| 261/261 [00:01<00:00, 135.87it/s]\n",
      "Training Epoch 180: 100%|██████████| 261/261 [00:02<00:00, 119.37it/s]\n",
      "Training Epoch 181: 100%|██████████| 261/261 [00:02<00:00, 128.81it/s]\n"
     ]
    },
    {
     "name": "stdout",
     "output_type": "stream",
     "text": [
      "Epoch 180 - Train Loss: 0.2162, Train MSE: 0.2162, Train MAE: 0.3496\n",
      "Epoch 180 - Validation Loss: 1.5737, Validation MSE: 1.5749, Validation MAE: 0.9120\n"
     ]
    },
    {
     "name": "stderr",
     "output_type": "stream",
     "text": [
      "Training Epoch 182: 100%|██████████| 261/261 [00:01<00:00, 142.47it/s]\n",
      "Training Epoch 183: 100%|██████████| 261/261 [00:01<00:00, 137.09it/s]\n",
      "Training Epoch 184: 100%|██████████| 261/261 [00:01<00:00, 136.24it/s]\n",
      "Training Epoch 185: 100%|██████████| 261/261 [00:02<00:00, 128.99it/s]\n",
      "Training Epoch 186: 100%|██████████| 261/261 [00:02<00:00, 125.15it/s]\n",
      "Training Epoch 187: 100%|██████████| 261/261 [00:01<00:00, 130.97it/s]\n",
      "Training Epoch 188: 100%|██████████| 261/261 [00:02<00:00, 122.75it/s]\n",
      "Training Epoch 189: 100%|██████████| 261/261 [00:02<00:00, 124.48it/s]\n",
      "Training Epoch 190: 100%|██████████| 261/261 [00:01<00:00, 140.66it/s]\n",
      "Training Epoch 191: 100%|██████████| 261/261 [00:01<00:00, 136.64it/s]\n"
     ]
    },
    {
     "name": "stdout",
     "output_type": "stream",
     "text": [
      "Epoch 190 - Train Loss: 0.2066, Train MSE: 0.2066, Train MAE: 0.3444\n",
      "Epoch 190 - Validation Loss: 1.5853, Validation MSE: 1.5867, Validation MAE: 0.9125\n"
     ]
    },
    {
     "name": "stderr",
     "output_type": "stream",
     "text": [
      "Training Epoch 192: 100%|██████████| 261/261 [00:01<00:00, 140.64it/s]\n",
      "Training Epoch 193: 100%|██████████| 261/261 [00:01<00:00, 138.23it/s]\n",
      "Training Epoch 194: 100%|██████████| 261/261 [00:01<00:00, 142.52it/s]\n",
      "Training Epoch 195: 100%|██████████| 261/261 [00:01<00:00, 136.67it/s]\n",
      "Training Epoch 196: 100%|██████████| 261/261 [00:02<00:00, 127.55it/s]\n",
      "Training Epoch 197: 100%|██████████| 261/261 [00:01<00:00, 140.38it/s]\n",
      "Training Epoch 198: 100%|██████████| 261/261 [00:02<00:00, 126.71it/s]\n",
      "Training Epoch 199: 100%|██████████| 261/261 [00:01<00:00, 134.83it/s]\n",
      "Training Epoch 200: 100%|██████████| 261/261 [00:01<00:00, 137.44it/s]\n",
      "Training Epoch 201: 100%|██████████| 261/261 [00:02<00:00, 107.72it/s]\n"
     ]
    },
    {
     "name": "stdout",
     "output_type": "stream",
     "text": [
      "Epoch 200 - Train Loss: 0.2055, Train MSE: 0.2055, Train MAE: 0.3397\n",
      "Epoch 200 - Validation Loss: 1.5512, Validation MSE: 1.5527, Validation MAE: 0.9022\n"
     ]
    },
    {
     "name": "stderr",
     "output_type": "stream",
     "text": [
      "Training Epoch 202: 100%|██████████| 261/261 [00:02<00:00, 124.84it/s]\n",
      "Training Epoch 203: 100%|██████████| 261/261 [00:02<00:00, 117.04it/s]\n",
      "Training Epoch 204: 100%|██████████| 261/261 [00:01<00:00, 134.32it/s]\n",
      "Training Epoch 205: 100%|██████████| 261/261 [00:02<00:00, 119.60it/s]\n",
      "Training Epoch 206: 100%|██████████| 261/261 [00:01<00:00, 133.52it/s]\n",
      "Training Epoch 207: 100%|██████████| 261/261 [00:01<00:00, 137.35it/s]\n",
      "Training Epoch 208: 100%|██████████| 261/261 [00:01<00:00, 139.94it/s]\n",
      "Training Epoch 209: 100%|██████████| 261/261 [00:01<00:00, 137.20it/s]\n",
      "Training Epoch 210: 100%|██████████| 261/261 [00:01<00:00, 139.10it/s]\n",
      "Training Epoch 211: 100%|██████████| 261/261 [00:02<00:00, 116.58it/s]\n"
     ]
    },
    {
     "name": "stdout",
     "output_type": "stream",
     "text": [
      "Epoch 210 - Train Loss: 0.1917, Train MSE: 0.1917, Train MAE: 0.3278\n",
      "Epoch 210 - Validation Loss: 1.5786, Validation MSE: 1.5801, Validation MAE: 0.9078\n"
     ]
    },
    {
     "name": "stderr",
     "output_type": "stream",
     "text": [
      "Training Epoch 212: 100%|██████████| 261/261 [00:02<00:00, 128.04it/s]\n",
      "Training Epoch 213: 100%|██████████| 261/261 [00:01<00:00, 136.28it/s]\n",
      "Training Epoch 214: 100%|██████████| 261/261 [00:01<00:00, 134.59it/s]\n",
      "Training Epoch 215: 100%|██████████| 261/261 [00:01<00:00, 141.65it/s]\n",
      "Training Epoch 216: 100%|██████████| 261/261 [00:01<00:00, 135.40it/s]\n",
      "Training Epoch 217: 100%|██████████| 261/261 [00:02<00:00, 117.94it/s]\n",
      "Training Epoch 218: 100%|██████████| 261/261 [00:01<00:00, 133.06it/s]\n",
      "Training Epoch 219: 100%|██████████| 261/261 [00:01<00:00, 144.76it/s]\n",
      "Training Epoch 220: 100%|██████████| 261/261 [00:01<00:00, 140.50it/s]\n",
      "Training Epoch 221: 100%|██████████| 261/261 [00:01<00:00, 132.67it/s]\n"
     ]
    },
    {
     "name": "stdout",
     "output_type": "stream",
     "text": [
      "Epoch 220 - Train Loss: 0.1825, Train MSE: 0.1825, Train MAE: 0.3201\n",
      "Epoch 220 - Validation Loss: 1.5659, Validation MSE: 1.5671, Validation MAE: 0.9065\n"
     ]
    },
    {
     "name": "stderr",
     "output_type": "stream",
     "text": [
      "Training Epoch 222: 100%|██████████| 261/261 [00:04<00:00, 60.35it/s]\n",
      "Training Epoch 223: 100%|██████████| 261/261 [00:02<00:00, 87.78it/s] \n",
      "Training Epoch 224: 100%|██████████| 261/261 [00:02<00:00, 103.33it/s]\n",
      "Training Epoch 225: 100%|██████████| 261/261 [00:02<00:00, 119.42it/s]\n",
      "Training Epoch 226: 100%|██████████| 261/261 [00:01<00:00, 142.77it/s]\n",
      "Training Epoch 227: 100%|██████████| 261/261 [00:02<00:00, 111.94it/s]\n",
      "Training Epoch 228: 100%|██████████| 261/261 [00:01<00:00, 134.27it/s]\n",
      "Training Epoch 229: 100%|██████████| 261/261 [00:01<00:00, 144.98it/s]\n",
      "Training Epoch 230: 100%|██████████| 261/261 [00:02<00:00, 113.18it/s]\n",
      "Training Epoch 231: 100%|██████████| 261/261 [00:02<00:00, 129.07it/s]\n"
     ]
    },
    {
     "name": "stdout",
     "output_type": "stream",
     "text": [
      "Epoch 230 - Train Loss: 0.1826, Train MSE: 0.1826, Train MAE: 0.3224\n",
      "Epoch 230 - Validation Loss: 1.5589, Validation MSE: 1.5603, Validation MAE: 0.9036\n"
     ]
    },
    {
     "name": "stderr",
     "output_type": "stream",
     "text": [
      "Training Epoch 232: 100%|██████████| 261/261 [00:02<00:00, 128.55it/s]\n",
      "Training Epoch 233: 100%|██████████| 261/261 [00:01<00:00, 136.97it/s]\n",
      "Training Epoch 234: 100%|██████████| 261/261 [00:01<00:00, 137.35it/s]\n",
      "Training Epoch 235: 100%|██████████| 261/261 [00:01<00:00, 143.74it/s]\n",
      "Training Epoch 236: 100%|██████████| 261/261 [00:01<00:00, 130.52it/s]\n",
      "Training Epoch 237: 100%|██████████| 261/261 [00:01<00:00, 137.38it/s]\n",
      "Training Epoch 238: 100%|██████████| 261/261 [00:01<00:00, 140.11it/s]\n",
      "Training Epoch 239: 100%|██████████| 261/261 [00:01<00:00, 139.50it/s]\n",
      "Training Epoch 240: 100%|██████████| 261/261 [00:01<00:00, 134.77it/s]\n",
      "Training Epoch 241: 100%|██████████| 261/261 [00:02<00:00, 125.23it/s]\n"
     ]
    },
    {
     "name": "stdout",
     "output_type": "stream",
     "text": [
      "Epoch 240 - Train Loss: 0.1749, Train MSE: 0.1749, Train MAE: 0.3169\n",
      "Epoch 240 - Validation Loss: 1.5694, Validation MSE: 1.5708, Validation MAE: 0.9094\n"
     ]
    },
    {
     "name": "stderr",
     "output_type": "stream",
     "text": [
      "Training Epoch 242: 100%|██████████| 261/261 [00:02<00:00, 129.64it/s]\n",
      "Training Epoch 243: 100%|██████████| 261/261 [00:01<00:00, 136.79it/s]\n",
      "Training Epoch 244: 100%|██████████| 261/261 [00:01<00:00, 143.31it/s]\n",
      "Training Epoch 245: 100%|██████████| 261/261 [00:01<00:00, 131.57it/s]\n",
      "Training Epoch 246: 100%|██████████| 261/261 [00:02<00:00, 120.29it/s]\n",
      "Training Epoch 247: 100%|██████████| 261/261 [00:02<00:00, 109.75it/s]\n",
      "Training Epoch 248: 100%|██████████| 261/261 [00:02<00:00, 113.58it/s]\n",
      "Training Epoch 249: 100%|██████████| 261/261 [00:02<00:00, 125.62it/s]\n",
      "Training Epoch 250: 100%|██████████| 261/261 [00:02<00:00, 120.85it/s]\n",
      "Training Epoch 251: 100%|██████████| 261/261 [00:02<00:00, 119.49it/s]\n"
     ]
    },
    {
     "name": "stdout",
     "output_type": "stream",
     "text": [
      "Epoch 250 - Train Loss: 0.1663, Train MSE: 0.1663, Train MAE: 0.3078\n",
      "Epoch 250 - Validation Loss: 1.5937, Validation MSE: 1.5950, Validation MAE: 0.9169\n"
     ]
    },
    {
     "name": "stderr",
     "output_type": "stream",
     "text": [
      "Training Epoch 252: 100%|██████████| 261/261 [00:02<00:00, 115.74it/s]\n",
      "Training Epoch 253: 100%|██████████| 261/261 [00:02<00:00, 122.89it/s]\n",
      "Training Epoch 254: 100%|██████████| 261/261 [00:02<00:00, 100.44it/s]\n",
      "Training Epoch 255: 100%|██████████| 261/261 [00:02<00:00, 118.78it/s]\n",
      "Training Epoch 256: 100%|██████████| 261/261 [00:02<00:00, 122.83it/s]\n",
      "Training Epoch 257: 100%|██████████| 261/261 [00:02<00:00, 122.65it/s]\n",
      "Training Epoch 258: 100%|██████████| 261/261 [00:02<00:00, 115.31it/s]\n",
      "Training Epoch 259: 100%|██████████| 261/261 [00:02<00:00, 115.07it/s]\n",
      "Training Epoch 260: 100%|██████████| 261/261 [00:02<00:00, 113.19it/s]\n",
      "Training Epoch 261: 100%|██████████| 261/261 [00:02<00:00, 118.91it/s]\n"
     ]
    },
    {
     "name": "stdout",
     "output_type": "stream",
     "text": [
      "Epoch 260 - Train Loss: 0.1735, Train MSE: 0.1735, Train MAE: 0.3120\n",
      "Epoch 260 - Validation Loss: 1.5497, Validation MSE: 1.5511, Validation MAE: 0.9046\n"
     ]
    },
    {
     "name": "stderr",
     "output_type": "stream",
     "text": [
      "Training Epoch 262: 100%|██████████| 261/261 [00:02<00:00, 124.86it/s]\n",
      "Training Epoch 263: 100%|██████████| 261/261 [00:02<00:00, 126.33it/s]\n",
      "Training Epoch 264: 100%|██████████| 261/261 [00:02<00:00, 125.04it/s]\n",
      "Training Epoch 265: 100%|██████████| 261/261 [00:02<00:00, 122.50it/s]\n",
      "Training Epoch 266: 100%|██████████| 261/261 [00:02<00:00, 126.23it/s]\n",
      "Training Epoch 267: 100%|██████████| 261/261 [00:02<00:00, 121.16it/s]\n",
      "Training Epoch 268: 100%|██████████| 261/261 [00:02<00:00, 122.85it/s]\n",
      "Training Epoch 269: 100%|██████████| 261/261 [00:02<00:00, 116.65it/s]\n",
      "Training Epoch 270: 100%|██████████| 261/261 [00:02<00:00, 119.86it/s]\n",
      "Training Epoch 271: 100%|██████████| 261/261 [00:02<00:00, 112.60it/s]\n"
     ]
    },
    {
     "name": "stdout",
     "output_type": "stream",
     "text": [
      "Epoch 270 - Train Loss: 0.1602, Train MSE: 0.1603, Train MAE: 0.3021\n",
      "Epoch 270 - Validation Loss: 1.5397, Validation MSE: 1.5412, Validation MAE: 0.8968\n"
     ]
    },
    {
     "name": "stderr",
     "output_type": "stream",
     "text": [
      "Training Epoch 272: 100%|██████████| 261/261 [00:02<00:00, 122.27it/s]\n",
      "Training Epoch 273: 100%|██████████| 261/261 [00:02<00:00, 122.83it/s]\n",
      "Training Epoch 274: 100%|██████████| 261/261 [00:02<00:00, 117.73it/s]\n",
      "Training Epoch 275: 100%|██████████| 261/261 [00:02<00:00, 125.21it/s]\n",
      "Training Epoch 276: 100%|██████████| 261/261 [00:02<00:00, 126.24it/s]\n",
      "Training Epoch 277: 100%|██████████| 261/261 [00:02<00:00, 119.30it/s]\n",
      "Training Epoch 278: 100%|██████████| 261/261 [00:02<00:00, 116.63it/s]\n",
      "Training Epoch 279: 100%|██████████| 261/261 [00:02<00:00, 119.16it/s]\n",
      "Training Epoch 280: 100%|██████████| 261/261 [00:02<00:00, 107.65it/s]\n",
      "Training Epoch 281: 100%|██████████| 261/261 [00:02<00:00, 115.94it/s]\n"
     ]
    },
    {
     "name": "stdout",
     "output_type": "stream",
     "text": [
      "Epoch 280 - Train Loss: 0.1601, Train MSE: 0.1601, Train MAE: 0.3010\n",
      "Epoch 280 - Validation Loss: 1.5503, Validation MSE: 1.5517, Validation MAE: 0.8998\n"
     ]
    },
    {
     "name": "stderr",
     "output_type": "stream",
     "text": [
      "Training Epoch 282: 100%|██████████| 261/261 [00:02<00:00, 120.12it/s]\n",
      "Training Epoch 283: 100%|██████████| 261/261 [00:02<00:00, 118.61it/s]\n",
      "Training Epoch 284: 100%|██████████| 261/261 [00:02<00:00, 120.39it/s]\n",
      "Training Epoch 285: 100%|██████████| 261/261 [00:02<00:00, 105.69it/s]\n",
      "Training Epoch 286: 100%|██████████| 261/261 [00:02<00:00, 123.66it/s]\n",
      "Training Epoch 287: 100%|██████████| 261/261 [00:02<00:00, 120.30it/s]\n",
      "Training Epoch 288: 100%|██████████| 261/261 [00:02<00:00, 116.43it/s]\n",
      "Training Epoch 289: 100%|██████████| 261/261 [00:02<00:00, 120.87it/s]\n",
      "Training Epoch 290: 100%|██████████| 261/261 [00:02<00:00, 128.94it/s]\n",
      "Training Epoch 291: 100%|██████████| 261/261 [00:02<00:00, 127.43it/s]\n"
     ]
    },
    {
     "name": "stdout",
     "output_type": "stream",
     "text": [
      "Epoch 290 - Train Loss: 0.1530, Train MSE: 0.1530, Train MAE: 0.2933\n",
      "Epoch 290 - Validation Loss: 1.5475, Validation MSE: 1.5491, Validation MAE: 0.9005\n"
     ]
    },
    {
     "name": "stderr",
     "output_type": "stream",
     "text": [
      "Training Epoch 292: 100%|██████████| 261/261 [00:02<00:00, 123.79it/s]\n",
      "Training Epoch 293: 100%|██████████| 261/261 [00:02<00:00, 123.27it/s]\n",
      "Training Epoch 294: 100%|██████████| 261/261 [00:02<00:00, 128.24it/s]\n",
      "Training Epoch 295: 100%|██████████| 261/261 [00:02<00:00, 123.12it/s]\n",
      "Training Epoch 296: 100%|██████████| 261/261 [00:02<00:00, 124.72it/s]\n",
      "Training Epoch 297: 100%|██████████| 261/261 [00:02<00:00, 123.36it/s]\n",
      "Training Epoch 298: 100%|██████████| 261/261 [00:02<00:00, 114.24it/s]\n",
      "Training Epoch 299: 100%|██████████| 261/261 [00:02<00:00, 122.63it/s]\n",
      "Training Epoch 300: 100%|██████████| 261/261 [00:02<00:00, 110.15it/s]\n",
      "Training Epoch 301: 100%|██████████| 261/261 [00:02<00:00, 120.90it/s]\n"
     ]
    },
    {
     "name": "stdout",
     "output_type": "stream",
     "text": [
      "Epoch 300 - Train Loss: 0.1467, Train MSE: 0.1467, Train MAE: 0.2886\n",
      "Epoch 300 - Validation Loss: 1.5500, Validation MSE: 1.5516, Validation MAE: 0.8977\n"
     ]
    },
    {
     "name": "stderr",
     "output_type": "stream",
     "text": [
      "Training Epoch 302: 100%|██████████| 261/261 [00:02<00:00, 121.11it/s]\n",
      "Training Epoch 303: 100%|██████████| 261/261 [00:02<00:00, 128.78it/s]\n",
      "Training Epoch 304: 100%|██████████| 261/261 [00:02<00:00, 125.93it/s]\n",
      "Training Epoch 305: 100%|██████████| 261/261 [00:02<00:00, 121.54it/s]\n",
      "Training Epoch 306: 100%|██████████| 261/261 [00:02<00:00, 116.69it/s]\n",
      "Training Epoch 307: 100%|██████████| 261/261 [00:02<00:00, 118.71it/s]\n",
      "Training Epoch 308: 100%|██████████| 261/261 [00:02<00:00, 122.34it/s]\n",
      "Training Epoch 309: 100%|██████████| 261/261 [00:02<00:00, 122.17it/s]\n",
      "Training Epoch 310: 100%|██████████| 261/261 [00:02<00:00, 121.99it/s]\n",
      "Training Epoch 311: 100%|██████████| 261/261 [00:02<00:00, 109.72it/s]\n"
     ]
    },
    {
     "name": "stdout",
     "output_type": "stream",
     "text": [
      "Epoch 310 - Train Loss: 0.1499, Train MSE: 0.1499, Train MAE: 0.2883\n",
      "Epoch 310 - Validation Loss: 1.5421, Validation MSE: 1.5436, Validation MAE: 0.8987\n"
     ]
    },
    {
     "name": "stderr",
     "output_type": "stream",
     "text": [
      "Training Epoch 312: 100%|██████████| 261/261 [00:02<00:00, 112.84it/s]\n",
      "Training Epoch 313: 100%|██████████| 261/261 [00:02<00:00, 125.55it/s]\n",
      "Training Epoch 314: 100%|██████████| 261/261 [00:02<00:00, 123.28it/s]\n",
      "Training Epoch 315: 100%|██████████| 261/261 [00:02<00:00, 124.03it/s]\n",
      "Training Epoch 316: 100%|██████████| 261/261 [00:02<00:00, 121.57it/s]\n",
      "Training Epoch 317: 100%|██████████| 261/261 [00:02<00:00, 122.86it/s]\n",
      "Training Epoch 318: 100%|██████████| 261/261 [00:02<00:00, 121.61it/s]\n",
      "Training Epoch 319: 100%|██████████| 261/261 [00:02<00:00, 121.83it/s]\n",
      "Training Epoch 320: 100%|██████████| 261/261 [00:02<00:00, 111.88it/s]\n",
      "Training Epoch 321: 100%|██████████| 261/261 [00:02<00:00, 116.90it/s]\n"
     ]
    },
    {
     "name": "stdout",
     "output_type": "stream",
     "text": [
      "Epoch 320 - Train Loss: 0.1460, Train MSE: 0.1460, Train MAE: 0.2844\n",
      "Epoch 320 - Validation Loss: 1.5355, Validation MSE: 1.5371, Validation MAE: 0.8894\n"
     ]
    },
    {
     "name": "stderr",
     "output_type": "stream",
     "text": [
      "Training Epoch 322: 100%|██████████| 261/261 [00:02<00:00, 119.26it/s]\n",
      "Training Epoch 323: 100%|██████████| 261/261 [00:02<00:00, 116.45it/s]\n",
      "Training Epoch 324: 100%|██████████| 261/261 [00:02<00:00, 120.51it/s]\n",
      "Training Epoch 325: 100%|██████████| 261/261 [00:02<00:00, 121.86it/s]\n",
      "Training Epoch 326: 100%|██████████| 261/261 [00:02<00:00, 111.91it/s]\n",
      "Training Epoch 327: 100%|██████████| 261/261 [00:02<00:00, 120.96it/s]\n",
      "Training Epoch 328: 100%|██████████| 261/261 [00:02<00:00, 120.56it/s]\n",
      "Training Epoch 329: 100%|██████████| 261/261 [00:02<00:00, 120.84it/s]\n",
      "Training Epoch 330: 100%|██████████| 261/261 [00:02<00:00, 119.60it/s]\n",
      "Training Epoch 331: 100%|██████████| 261/261 [00:02<00:00, 118.44it/s]\n"
     ]
    },
    {
     "name": "stdout",
     "output_type": "stream",
     "text": [
      "Epoch 330 - Train Loss: 0.1417, Train MSE: 0.1417, Train MAE: 0.2814\n",
      "Epoch 330 - Validation Loss: 1.5269, Validation MSE: 1.5283, Validation MAE: 0.8948\n"
     ]
    },
    {
     "name": "stderr",
     "output_type": "stream",
     "text": [
      "Training Epoch 332: 100%|██████████| 261/261 [00:02<00:00, 112.38it/s]\n",
      "Training Epoch 333: 100%|██████████| 261/261 [00:02<00:00, 121.93it/s]\n",
      "Training Epoch 334: 100%|██████████| 261/261 [00:02<00:00, 122.20it/s]\n",
      "Training Epoch 335: 100%|██████████| 261/261 [00:02<00:00, 120.20it/s]\n",
      "Training Epoch 336: 100%|██████████| 261/261 [00:02<00:00, 115.44it/s]\n",
      "Training Epoch 337: 100%|██████████| 261/261 [00:02<00:00, 119.78it/s]\n",
      "Training Epoch 338: 100%|██████████| 261/261 [00:02<00:00, 101.38it/s]\n",
      "Training Epoch 339: 100%|██████████| 261/261 [00:03<00:00, 73.52it/s]\n",
      "Training Epoch 340: 100%|██████████| 261/261 [00:03<00:00, 81.55it/s] \n",
      "Training Epoch 341: 100%|██████████| 261/261 [00:05<00:00, 48.45it/s]\n"
     ]
    },
    {
     "name": "stdout",
     "output_type": "stream",
     "text": [
      "Epoch 340 - Train Loss: 0.1385, Train MSE: 0.1384, Train MAE: 0.2793\n",
      "Epoch 340 - Validation Loss: 1.5593, Validation MSE: 1.5609, Validation MAE: 0.9044\n"
     ]
    },
    {
     "name": "stderr",
     "output_type": "stream",
     "text": [
      "Training Epoch 342: 100%|██████████| 261/261 [00:05<00:00, 51.88it/s]\n",
      "Training Epoch 343: 100%|██████████| 261/261 [00:05<00:00, 49.91it/s]\n",
      "Training Epoch 344: 100%|██████████| 261/261 [00:05<00:00, 48.81it/s]\n",
      "Training Epoch 345: 100%|██████████| 261/261 [00:05<00:00, 50.98it/s]\n",
      "Training Epoch 346: 100%|██████████| 261/261 [00:05<00:00, 49.77it/s]\n",
      "Training Epoch 347: 100%|██████████| 261/261 [00:06<00:00, 38.19it/s]\n",
      "Training Epoch 348: 100%|██████████| 261/261 [00:05<00:00, 45.52it/s]\n",
      "Training Epoch 349: 100%|██████████| 261/261 [00:05<00:00, 45.74it/s]\n",
      "Training Epoch 350: 100%|██████████| 261/261 [00:05<00:00, 49.07it/s]\n",
      "Training Epoch 351: 100%|██████████| 261/261 [00:05<00:00, 49.21it/s]\n"
     ]
    },
    {
     "name": "stdout",
     "output_type": "stream",
     "text": [
      "Epoch 350 - Train Loss: 0.1419, Train MSE: 0.1419, Train MAE: 0.2819\n",
      "Epoch 350 - Validation Loss: 1.5249, Validation MSE: 1.5263, Validation MAE: 0.8866\n"
     ]
    },
    {
     "name": "stderr",
     "output_type": "stream",
     "text": [
      "Training Epoch 352: 100%|██████████| 261/261 [00:03<00:00, 70.86it/s]\n",
      "Training Epoch 353: 100%|██████████| 261/261 [00:02<00:00, 90.42it/s] \n",
      "Training Epoch 354: 100%|██████████| 261/261 [00:02<00:00, 93.17it/s] \n",
      "Training Epoch 355: 100%|██████████| 261/261 [00:02<00:00, 92.36it/s] \n",
      "Training Epoch 356: 100%|██████████| 261/261 [00:02<00:00, 95.06it/s] \n",
      "Training Epoch 357: 100%|██████████| 261/261 [00:02<00:00, 96.89it/s] \n",
      "Training Epoch 358: 100%|██████████| 261/261 [00:02<00:00, 92.21it/s]\n",
      "Training Epoch 359: 100%|██████████| 261/261 [00:02<00:00, 95.84it/s]\n",
      "Training Epoch 360: 100%|██████████| 261/261 [00:02<00:00, 93.98it/s]\n",
      "Training Epoch 361: 100%|██████████| 261/261 [00:02<00:00, 94.61it/s] \n"
     ]
    },
    {
     "name": "stdout",
     "output_type": "stream",
     "text": [
      "Epoch 360 - Train Loss: 0.1367, Train MSE: 0.1367, Train MAE: 0.2761\n",
      "Epoch 360 - Validation Loss: 1.5073, Validation MSE: 1.5088, Validation MAE: 0.8884\n"
     ]
    },
    {
     "name": "stderr",
     "output_type": "stream",
     "text": [
      "Training Epoch 362: 100%|██████████| 261/261 [00:02<00:00, 93.28it/s]\n",
      "Training Epoch 363: 100%|██████████| 261/261 [00:02<00:00, 88.04it/s] \n",
      "Training Epoch 364: 100%|██████████| 261/261 [00:02<00:00, 92.01it/s] \n",
      "Training Epoch 365: 100%|██████████| 261/261 [00:02<00:00, 95.69it/s] \n",
      "Training Epoch 366: 100%|██████████| 261/261 [00:04<00:00, 63.50it/s]\n",
      "Training Epoch 367: 100%|██████████| 261/261 [00:03<00:00, 76.59it/s]\n",
      "Training Epoch 368: 100%|██████████| 261/261 [00:03<00:00, 78.37it/s]\n",
      "Training Epoch 369: 100%|██████████| 261/261 [00:02<00:00, 88.53it/s]\n",
      "Training Epoch 370: 100%|██████████| 261/261 [00:02<00:00, 87.27it/s]\n",
      "Training Epoch 371: 100%|██████████| 261/261 [00:03<00:00, 84.53it/s]\n"
     ]
    },
    {
     "name": "stdout",
     "output_type": "stream",
     "text": [
      "Epoch 370 - Train Loss: 0.1362, Train MSE: 0.1362, Train MAE: 0.2737\n",
      "Epoch 370 - Validation Loss: 1.5261, Validation MSE: 1.5274, Validation MAE: 0.8937\n"
     ]
    },
    {
     "name": "stderr",
     "output_type": "stream",
     "text": [
      "Training Epoch 372: 100%|██████████| 261/261 [00:03<00:00, 84.00it/s]\n",
      "Training Epoch 373: 100%|██████████| 261/261 [00:03<00:00, 86.30it/s]\n",
      "Training Epoch 374: 100%|██████████| 261/261 [00:02<00:00, 89.35it/s]\n",
      "Training Epoch 375: 100%|██████████| 261/261 [00:02<00:00, 88.95it/s]\n",
      "Training Epoch 376: 100%|██████████| 261/261 [00:03<00:00, 74.90it/s]\n",
      "Training Epoch 377: 100%|██████████| 261/261 [00:02<00:00, 89.17it/s]\n",
      "Training Epoch 378: 100%|██████████| 261/261 [00:02<00:00, 89.04it/s]\n",
      "Training Epoch 379: 100%|██████████| 261/261 [00:02<00:00, 92.38it/s]\n",
      "Training Epoch 380: 100%|██████████| 261/261 [00:04<00:00, 53.06it/s]\n",
      "Training Epoch 381: 100%|██████████| 261/261 [00:03<00:00, 67.52it/s]\n"
     ]
    },
    {
     "name": "stdout",
     "output_type": "stream",
     "text": [
      "Epoch 380 - Train Loss: 0.1255, Train MSE: 0.1255, Train MAE: 0.2642\n",
      "Epoch 380 - Validation Loss: 1.5345, Validation MSE: 1.5359, Validation MAE: 0.8920\n"
     ]
    },
    {
     "name": "stderr",
     "output_type": "stream",
     "text": [
      "Training Epoch 382: 100%|██████████| 261/261 [00:03<00:00, 78.81it/s]\n",
      "Training Epoch 383: 100%|██████████| 261/261 [00:03<00:00, 80.96it/s]\n",
      "Training Epoch 384: 100%|██████████| 261/261 [00:03<00:00, 79.38it/s]\n",
      "Training Epoch 385: 100%|██████████| 261/261 [00:03<00:00, 85.12it/s]\n",
      "Training Epoch 386: 100%|██████████| 261/261 [00:02<00:00, 90.80it/s]\n",
      "Training Epoch 387: 100%|██████████| 261/261 [00:02<00:00, 87.01it/s]\n",
      "Training Epoch 388: 100%|██████████| 261/261 [00:02<00:00, 90.39it/s]\n",
      "Training Epoch 389: 100%|██████████| 261/261 [00:03<00:00, 81.34it/s]\n",
      "Training Epoch 390: 100%|██████████| 261/261 [00:03<00:00, 85.94it/s]\n",
      "Training Epoch 391: 100%|██████████| 261/261 [00:02<00:00, 89.01it/s]\n"
     ]
    },
    {
     "name": "stdout",
     "output_type": "stream",
     "text": [
      "Epoch 390 - Train Loss: 0.1260, Train MSE: 0.1260, Train MAE: 0.2641\n",
      "Epoch 390 - Validation Loss: 1.5255, Validation MSE: 1.5271, Validation MAE: 0.8876\n"
     ]
    },
    {
     "name": "stderr",
     "output_type": "stream",
     "text": [
      "Training Epoch 392: 100%|██████████| 261/261 [00:03<00:00, 77.88it/s]\n",
      "Training Epoch 393: 100%|██████████| 261/261 [00:05<00:00, 50.61it/s]\n",
      "Training Epoch 394: 100%|██████████| 261/261 [00:04<00:00, 62.21it/s]\n",
      "Training Epoch 395: 100%|██████████| 261/261 [00:03<00:00, 73.11it/s]\n",
      "Training Epoch 396: 100%|██████████| 261/261 [00:03<00:00, 79.59it/s]\n",
      "Training Epoch 397: 100%|██████████| 261/261 [00:03<00:00, 69.53it/s]\n",
      "Training Epoch 398: 100%|██████████| 261/261 [00:03<00:00, 79.08it/s]\n",
      "Training Epoch 399: 100%|██████████| 261/261 [00:03<00:00, 77.25it/s]\n",
      "Training Epoch 400: 100%|██████████| 261/261 [00:03<00:00, 78.23it/s]\n",
      "Training Epoch 401: 100%|██████████| 261/261 [00:03<00:00, 78.82it/s]\n"
     ]
    },
    {
     "name": "stdout",
     "output_type": "stream",
     "text": [
      "Epoch 400 - Train Loss: 0.1252, Train MSE: 0.1252, Train MAE: 0.2637\n",
      "Epoch 400 - Validation Loss: 1.5392, Validation MSE: 1.5407, Validation MAE: 0.9019\n"
     ]
    },
    {
     "name": "stderr",
     "output_type": "stream",
     "text": [
      "Training Epoch 402: 100%|██████████| 261/261 [00:04<00:00, 55.86it/s]\n",
      "Training Epoch 403: 100%|██████████| 261/261 [00:03<00:00, 70.33it/s]\n",
      "Training Epoch 404: 100%|██████████| 261/261 [00:03<00:00, 68.58it/s]\n",
      "Training Epoch 405: 100%|██████████| 261/261 [00:04<00:00, 63.58it/s]\n",
      "Training Epoch 406: 100%|██████████| 261/261 [00:03<00:00, 74.54it/s]\n",
      "Training Epoch 407: 100%|██████████| 261/261 [00:03<00:00, 71.22it/s]\n",
      "Training Epoch 408: 100%|██████████| 261/261 [00:03<00:00, 70.61it/s]\n",
      "Training Epoch 409: 100%|██████████| 261/261 [00:05<00:00, 50.48it/s]\n",
      "Training Epoch 410: 100%|██████████| 261/261 [00:04<00:00, 64.48it/s]\n",
      "Training Epoch 411: 100%|██████████| 261/261 [00:04<00:00, 64.56it/s]\n"
     ]
    },
    {
     "name": "stdout",
     "output_type": "stream",
     "text": [
      "Epoch 410 - Train Loss: 0.1241, Train MSE: 0.1241, Train MAE: 0.2609\n",
      "Epoch 410 - Validation Loss: 1.5347, Validation MSE: 1.5361, Validation MAE: 0.8963\n"
     ]
    },
    {
     "name": "stderr",
     "output_type": "stream",
     "text": [
      "Training Epoch 412: 100%|██████████| 261/261 [00:04<00:00, 58.19it/s]\n",
      "Training Epoch 413: 100%|██████████| 261/261 [00:04<00:00, 63.39it/s]\n",
      "Training Epoch 414: 100%|██████████| 261/261 [00:03<00:00, 67.07it/s]\n",
      "Training Epoch 415: 100%|██████████| 261/261 [00:04<00:00, 57.61it/s]\n",
      "Training Epoch 416: 100%|██████████| 261/261 [00:04<00:00, 53.18it/s]\n",
      "Training Epoch 417: 100%|██████████| 261/261 [00:04<00:00, 54.49it/s]\n",
      "Training Epoch 418: 100%|██████████| 261/261 [00:05<00:00, 51.02it/s]\n",
      "Training Epoch 419: 100%|██████████| 261/261 [00:03<00:00, 66.23it/s]\n",
      "Training Epoch 420: 100%|██████████| 261/261 [00:04<00:00, 64.15it/s]\n",
      "Training Epoch 421: 100%|██████████| 261/261 [00:04<00:00, 64.77it/s]\n"
     ]
    },
    {
     "name": "stdout",
     "output_type": "stream",
     "text": [
      "Epoch 420 - Train Loss: 0.1204, Train MSE: 0.1204, Train MAE: 0.2577\n",
      "Epoch 420 - Validation Loss: 1.5289, Validation MSE: 1.5304, Validation MAE: 0.8898\n"
     ]
    },
    {
     "name": "stderr",
     "output_type": "stream",
     "text": [
      "Training Epoch 422: 100%|██████████| 261/261 [00:04<00:00, 64.82it/s]\n",
      "Training Epoch 423: 100%|██████████| 261/261 [00:03<00:00, 67.43it/s]\n",
      "Training Epoch 424: 100%|██████████| 261/261 [00:04<00:00, 63.94it/s]\n",
      "Training Epoch 425: 100%|██████████| 261/261 [00:04<00:00, 59.55it/s]\n",
      "Training Epoch 426: 100%|██████████| 261/261 [00:03<00:00, 65.59it/s]\n",
      "Training Epoch 427: 100%|██████████| 261/261 [00:03<00:00, 71.19it/s]\n",
      "Training Epoch 428: 100%|██████████| 261/261 [00:03<00:00, 68.83it/s]\n",
      "Training Epoch 429: 100%|██████████| 261/261 [00:03<00:00, 66.16it/s]\n",
      "Training Epoch 430: 100%|██████████| 261/261 [00:03<00:00, 67.12it/s]\n",
      "Training Epoch 431: 100%|██████████| 261/261 [00:03<00:00, 68.84it/s]\n"
     ]
    },
    {
     "name": "stdout",
     "output_type": "stream",
     "text": [
      "Epoch 430 - Train Loss: 0.1204, Train MSE: 0.1205, Train MAE: 0.2566\n",
      "Epoch 430 - Validation Loss: 1.5271, Validation MSE: 1.5284, Validation MAE: 0.8932\n"
     ]
    },
    {
     "name": "stderr",
     "output_type": "stream",
     "text": [
      "Training Epoch 432: 100%|██████████| 261/261 [00:03<00:00, 67.66it/s]\n",
      "Training Epoch 433: 100%|██████████| 261/261 [00:03<00:00, 67.37it/s]\n",
      "Training Epoch 434: 100%|██████████| 261/261 [00:03<00:00, 67.35it/s]\n",
      "Training Epoch 435: 100%|██████████| 261/261 [00:03<00:00, 67.87it/s]\n",
      "Training Epoch 436: 100%|██████████| 261/261 [00:04<00:00, 65.06it/s]\n",
      "Training Epoch 437: 100%|██████████| 261/261 [00:03<00:00, 66.65it/s]\n",
      "Training Epoch 438: 100%|██████████| 261/261 [00:03<00:00, 67.20it/s]\n",
      "Training Epoch 439: 100%|██████████| 261/261 [00:03<00:00, 70.42it/s]\n",
      "Training Epoch 440: 100%|██████████| 261/261 [00:03<00:00, 69.59it/s]\n",
      "Training Epoch 441: 100%|██████████| 261/261 [00:03<00:00, 70.36it/s]\n"
     ]
    },
    {
     "name": "stdout",
     "output_type": "stream",
     "text": [
      "Epoch 440 - Train Loss: 0.1209, Train MSE: 0.1209, Train MAE: 0.2563\n",
      "Epoch 440 - Validation Loss: 1.5279, Validation MSE: 1.5295, Validation MAE: 0.8928\n"
     ]
    },
    {
     "name": "stderr",
     "output_type": "stream",
     "text": [
      "Training Epoch 442: 100%|██████████| 261/261 [00:03<00:00, 72.38it/s]\n",
      "Training Epoch 443: 100%|██████████| 261/261 [00:03<00:00, 73.20it/s]\n",
      "Training Epoch 444: 100%|██████████| 261/261 [00:03<00:00, 71.70it/s]\n",
      "Training Epoch 445: 100%|██████████| 261/261 [00:03<00:00, 71.08it/s]\n",
      "Training Epoch 446: 100%|██████████| 261/261 [00:03<00:00, 72.69it/s]\n",
      "Training Epoch 447: 100%|██████████| 261/261 [00:03<00:00, 71.29it/s]\n",
      "Training Epoch 448: 100%|██████████| 261/261 [00:03<00:00, 72.66it/s]\n",
      "Training Epoch 449: 100%|██████████| 261/261 [00:03<00:00, 70.75it/s]\n",
      "Training Epoch 450: 100%|██████████| 261/261 [00:03<00:00, 68.77it/s]\n",
      "Training Epoch 451: 100%|██████████| 261/261 [00:03<00:00, 71.16it/s]\n"
     ]
    },
    {
     "name": "stdout",
     "output_type": "stream",
     "text": [
      "Epoch 450 - Train Loss: 0.1172, Train MSE: 0.1172, Train MAE: 0.2535\n",
      "Epoch 450 - Validation Loss: 1.5579, Validation MSE: 1.5593, Validation MAE: 0.9045\n"
     ]
    },
    {
     "name": "stderr",
     "output_type": "stream",
     "text": [
      "Training Epoch 452: 100%|██████████| 261/261 [17:44<00:00,  4.08s/it] \n",
      "Training Epoch 453: 100%|██████████| 261/261 [00:12<00:00, 20.60it/s]\n",
      "Training Epoch 454: 100%|██████████| 261/261 [00:05<00:00, 45.65it/s]\n",
      "Training Epoch 455: 100%|██████████| 261/261 [00:05<00:00, 46.49it/s]\n",
      "Training Epoch 456: 100%|██████████| 261/261 [00:05<00:00, 44.54it/s]\n",
      "Training Epoch 457: 100%|██████████| 261/261 [00:05<00:00, 47.30it/s]\n",
      "Training Epoch 458: 100%|██████████| 261/261 [00:05<00:00, 44.40it/s]\n",
      "Training Epoch 459: 100%|██████████| 261/261 [11:40<00:00,  2.69s/it]\n",
      "Training Epoch 460: 100%|██████████| 261/261 [00:05<00:00, 45.98it/s]\n",
      "Training Epoch 461: 100%|██████████| 261/261 [00:05<00:00, 45.18it/s]\n"
     ]
    },
    {
     "name": "stdout",
     "output_type": "stream",
     "text": [
      "Epoch 460 - Train Loss: 0.1132, Train MSE: 0.1132, Train MAE: 0.2486\n",
      "Epoch 460 - Validation Loss: 1.5371, Validation MSE: 1.5386, Validation MAE: 0.8939\n"
     ]
    },
    {
     "name": "stderr",
     "output_type": "stream",
     "text": [
      "Training Epoch 462: 100%|██████████| 261/261 [00:05<00:00, 47.49it/s]\n",
      "Training Epoch 463: 100%|██████████| 261/261 [00:05<00:00, 45.56it/s]\n",
      "Training Epoch 464: 100%|██████████| 261/261 [00:05<00:00, 46.35it/s]\n",
      "Training Epoch 465: 100%|██████████| 261/261 [00:05<00:00, 49.68it/s]\n",
      "Training Epoch 466: 100%|██████████| 261/261 [00:05<00:00, 51.31it/s]\n",
      "Training Epoch 467: 100%|██████████| 261/261 [16:13<00:00,  3.73s/it]\n",
      "Training Epoch 468: 100%|██████████| 261/261 [16:39<00:00,  3.83s/it]\n",
      "Training Epoch 469: 100%|██████████| 261/261 [16:02<00:00,  3.69s/it]\n",
      "Training Epoch 470: 100%|██████████| 261/261 [00:06<00:00, 40.76it/s]\n",
      "Training Epoch 471: 100%|██████████| 261/261 [00:06<00:00, 42.14it/s]\n"
     ]
    },
    {
     "name": "stdout",
     "output_type": "stream",
     "text": [
      "Epoch 470 - Train Loss: 0.1121, Train MSE: 0.1121, Train MAE: 0.2474\n",
      "Epoch 470 - Validation Loss: 1.5464, Validation MSE: 1.5479, Validation MAE: 0.8998\n"
     ]
    },
    {
     "name": "stderr",
     "output_type": "stream",
     "text": [
      "Training Epoch 472: 100%|██████████| 261/261 [00:05<00:00, 46.56it/s]\n",
      "Training Epoch 473: 100%|██████████| 261/261 [00:05<00:00, 45.34it/s]\n",
      "Training Epoch 474: 100%|██████████| 261/261 [00:05<00:00, 47.67it/s]\n",
      "Training Epoch 475: 100%|██████████| 261/261 [00:05<00:00, 47.21it/s]\n",
      "Training Epoch 476: 100%|██████████| 261/261 [00:06<00:00, 41.36it/s]\n",
      "Training Epoch 477: 100%|██████████| 261/261 [00:05<00:00, 48.38it/s]\n",
      "Training Epoch 478: 100%|██████████| 261/261 [16:42<00:00,  3.84s/it]  \n",
      "Training Epoch 479: 100%|██████████| 261/261 [00:06<00:00, 39.52it/s]\n",
      "Training Epoch 480: 100%|██████████| 261/261 [00:05<00:00, 46.21it/s]\n",
      "Training Epoch 481: 100%|██████████| 261/261 [00:05<00:00, 44.97it/s]\n"
     ]
    },
    {
     "name": "stdout",
     "output_type": "stream",
     "text": [
      "Epoch 480 - Train Loss: 0.1143, Train MSE: 0.1143, Train MAE: 0.2489\n",
      "Epoch 480 - Validation Loss: 1.5434, Validation MSE: 1.5448, Validation MAE: 0.9007\n"
     ]
    },
    {
     "name": "stderr",
     "output_type": "stream",
     "text": [
      "Training Epoch 482: 100%|██████████| 261/261 [00:05<00:00, 47.96it/s]\n",
      "Training Epoch 483: 100%|██████████| 261/261 [00:05<00:00, 50.20it/s]\n",
      "Training Epoch 484: 100%|██████████| 261/261 [00:05<00:00, 50.21it/s]\n",
      "Training Epoch 485: 100%|██████████| 261/261 [00:05<00:00, 50.93it/s]\n",
      "Training Epoch 486: 100%|██████████| 261/261 [00:04<00:00, 52.49it/s]\n",
      "Training Epoch 487: 100%|██████████| 261/261 [03:27<00:00,  1.26it/s]\n",
      "Training Epoch 488: 100%|██████████| 261/261 [00:04<00:00, 59.70it/s]\n",
      "Training Epoch 489: 100%|██████████| 261/261 [00:04<00:00, 64.37it/s]\n",
      "Training Epoch 490: 100%|██████████| 261/261 [00:04<00:00, 64.89it/s]\n",
      "Training Epoch 491: 100%|██████████| 261/261 [00:03<00:00, 69.55it/s]\n"
     ]
    },
    {
     "name": "stdout",
     "output_type": "stream",
     "text": [
      "Epoch 490 - Train Loss: 0.1112, Train MSE: 0.1112, Train MAE: 0.2476\n",
      "Epoch 490 - Validation Loss: 1.5546, Validation MSE: 1.5561, Validation MAE: 0.8965\n"
     ]
    },
    {
     "name": "stderr",
     "output_type": "stream",
     "text": [
      "Training Epoch 492: 100%|██████████| 261/261 [00:03<00:00, 74.14it/s]\n",
      "Training Epoch 493: 100%|██████████| 261/261 [00:03<00:00, 69.27it/s]\n",
      "Training Epoch 494: 100%|██████████| 261/261 [00:03<00:00, 68.61it/s]\n",
      "Training Epoch 495: 100%|██████████| 261/261 [00:04<00:00, 53.01it/s]\n",
      "Training Epoch 496: 100%|██████████| 261/261 [00:03<00:00, 65.74it/s]\n",
      "Training Epoch 497: 100%|██████████| 261/261 [00:03<00:00, 71.43it/s]\n",
      "Training Epoch 498: 100%|██████████| 261/261 [00:03<00:00, 71.83it/s]\n",
      "Training Epoch 499: 100%|██████████| 261/261 [00:03<00:00, 71.92it/s]\n",
      "Training Epoch 500: 100%|██████████| 261/261 [00:03<00:00, 75.48it/s]\n",
      "Training Epoch 501: 100%|██████████| 261/261 [00:03<00:00, 73.43it/s]\n"
     ]
    },
    {
     "name": "stdout",
     "output_type": "stream",
     "text": [
      "Epoch 500 - Train Loss: 0.1089, Train MSE: 0.1089, Train MAE: 0.2449\n",
      "Epoch 500 - Validation Loss: 1.5168, Validation MSE: 1.5184, Validation MAE: 0.8925\n"
     ]
    },
    {
     "name": "stderr",
     "output_type": "stream",
     "text": [
      "Training Epoch 502: 100%|██████████| 261/261 [00:03<00:00, 74.07it/s]\n",
      "Training Epoch 503: 100%|██████████| 261/261 [00:03<00:00, 75.18it/s]\n",
      "Training Epoch 504: 100%|██████████| 261/261 [00:03<00:00, 75.03it/s]\n",
      "Training Epoch 505: 100%|██████████| 261/261 [00:03<00:00, 75.91it/s]\n",
      "Training Epoch 506: 100%|██████████| 261/261 [00:03<00:00, 80.28it/s]\n",
      "Training Epoch 507: 100%|██████████| 261/261 [00:03<00:00, 81.30it/s]\n",
      "Training Epoch 508: 100%|██████████| 261/261 [00:03<00:00, 82.80it/s]\n",
      "Training Epoch 509: 100%|██████████| 261/261 [00:03<00:00, 82.47it/s]\n",
      "Training Epoch 510: 100%|██████████| 261/261 [00:03<00:00, 83.11it/s]\n",
      "Training Epoch 511: 100%|██████████| 261/261 [00:03<00:00, 83.26it/s]\n"
     ]
    },
    {
     "name": "stdout",
     "output_type": "stream",
     "text": [
      "Epoch 510 - Train Loss: 0.1086, Train MSE: 0.1086, Train MAE: 0.2433\n",
      "Epoch 510 - Validation Loss: 1.5483, Validation MSE: 1.5499, Validation MAE: 0.8992\n"
     ]
    },
    {
     "name": "stderr",
     "output_type": "stream",
     "text": [
      "Training Epoch 512: 100%|██████████| 261/261 [00:03<00:00, 77.03it/s]\n",
      "Training Epoch 513: 100%|██████████| 261/261 [00:03<00:00, 82.75it/s]\n",
      "Training Epoch 514: 100%|██████████| 261/261 [00:03<00:00, 79.07it/s]\n",
      "Training Epoch 515: 100%|██████████| 261/261 [00:03<00:00, 81.49it/s]\n",
      "Training Epoch 516: 100%|██████████| 261/261 [00:03<00:00, 81.24it/s]\n",
      "Training Epoch 517: 100%|██████████| 261/261 [00:03<00:00, 79.36it/s]\n",
      "Training Epoch 518: 100%|██████████| 261/261 [00:03<00:00, 82.99it/s]\n",
      "Training Epoch 519: 100%|██████████| 261/261 [00:03<00:00, 84.15it/s]\n",
      "Training Epoch 520: 100%|██████████| 261/261 [00:03<00:00, 83.60it/s]\n",
      "Training Epoch 521: 100%|██████████| 261/261 [00:03<00:00, 79.95it/s]\n"
     ]
    },
    {
     "name": "stdout",
     "output_type": "stream",
     "text": [
      "Epoch 520 - Train Loss: 0.1118, Train MSE: 0.1118, Train MAE: 0.2447\n",
      "Epoch 520 - Validation Loss: 1.5372, Validation MSE: 1.5387, Validation MAE: 0.8966\n"
     ]
    },
    {
     "name": "stderr",
     "output_type": "stream",
     "text": [
      "Training Epoch 522: 100%|██████████| 261/261 [00:03<00:00, 84.16it/s]\n",
      "Training Epoch 523: 100%|██████████| 261/261 [00:02<00:00, 87.94it/s]\n",
      "Training Epoch 524: 100%|██████████| 261/261 [00:03<00:00, 82.99it/s]\n",
      "Training Epoch 525: 100%|██████████| 261/261 [00:03<00:00, 85.45it/s]\n",
      "Training Epoch 526: 100%|██████████| 261/261 [00:03<00:00, 80.63it/s]\n",
      "Training Epoch 527: 100%|██████████| 261/261 [00:03<00:00, 81.92it/s]\n",
      "Training Epoch 528: 100%|██████████| 261/261 [00:03<00:00, 83.83it/s]\n",
      "Training Epoch 529: 100%|██████████| 261/261 [00:03<00:00, 84.85it/s]\n",
      "Training Epoch 530: 100%|██████████| 261/261 [00:03<00:00, 77.97it/s]\n",
      "Training Epoch 531: 100%|██████████| 261/261 [00:03<00:00, 82.22it/s]\n"
     ]
    },
    {
     "name": "stdout",
     "output_type": "stream",
     "text": [
      "Epoch 530 - Train Loss: 0.1019, Train MSE: 0.1019, Train MAE: 0.2349\n",
      "Epoch 530 - Validation Loss: 1.5208, Validation MSE: 1.5223, Validation MAE: 0.8923\n"
     ]
    },
    {
     "name": "stderr",
     "output_type": "stream",
     "text": [
      "Training Epoch 532: 100%|██████████| 261/261 [00:03<00:00, 83.61it/s]\n",
      "Training Epoch 533: 100%|██████████| 261/261 [00:03<00:00, 83.86it/s]\n",
      "Training Epoch 534: 100%|██████████| 261/261 [00:03<00:00, 84.47it/s]\n",
      "Training Epoch 535: 100%|██████████| 261/261 [00:03<00:00, 72.86it/s]\n",
      "Training Epoch 536: 100%|██████████| 261/261 [00:03<00:00, 81.65it/s]\n",
      "Training Epoch 537: 100%|██████████| 261/261 [00:03<00:00, 82.95it/s]\n",
      "Training Epoch 538: 100%|██████████| 261/261 [00:03<00:00, 86.41it/s]\n",
      "Training Epoch 539: 100%|██████████| 261/261 [00:03<00:00, 82.38it/s]\n",
      "Training Epoch 540: 100%|██████████| 261/261 [00:03<00:00, 79.10it/s]\n",
      "Training Epoch 541: 100%|██████████| 261/261 [00:03<00:00, 83.32it/s]\n"
     ]
    },
    {
     "name": "stdout",
     "output_type": "stream",
     "text": [
      "Epoch 540 - Train Loss: 0.1059, Train MSE: 0.1059, Train MAE: 0.2378\n",
      "Epoch 540 - Validation Loss: 1.5364, Validation MSE: 1.5379, Validation MAE: 0.8964\n"
     ]
    },
    {
     "name": "stderr",
     "output_type": "stream",
     "text": [
      "Training Epoch 542: 100%|██████████| 261/261 [00:03<00:00, 81.19it/s]\n",
      "Training Epoch 543: 100%|██████████| 261/261 [00:03<00:00, 84.90it/s]\n",
      "Training Epoch 544: 100%|██████████| 261/261 [00:03<00:00, 85.43it/s]\n",
      "Training Epoch 545: 100%|██████████| 261/261 [00:03<00:00, 79.33it/s]\n",
      "Training Epoch 546: 100%|██████████| 261/261 [00:03<00:00, 82.52it/s]\n",
      "Training Epoch 547: 100%|██████████| 261/261 [00:03<00:00, 85.26it/s]\n",
      "Training Epoch 548: 100%|██████████| 261/261 [00:03<00:00, 77.93it/s]\n",
      "Training Epoch 549: 100%|██████████| 261/261 [00:03<00:00, 81.87it/s]\n",
      "Training Epoch 550: 100%|██████████| 261/261 [00:03<00:00, 80.46it/s]\n",
      "Training Epoch 551: 100%|██████████| 261/261 [00:03<00:00, 83.23it/s]\n"
     ]
    },
    {
     "name": "stdout",
     "output_type": "stream",
     "text": [
      "Epoch 550 - Train Loss: 0.1023, Train MSE: 0.1023, Train MAE: 0.2358\n",
      "Epoch 550 - Validation Loss: 1.5604, Validation MSE: 1.5618, Validation MAE: 0.9003\n"
     ]
    },
    {
     "name": "stderr",
     "output_type": "stream",
     "text": [
      "Training Epoch 552: 100%|██████████| 261/261 [00:03<00:00, 85.04it/s]\n",
      "Training Epoch 553: 100%|██████████| 261/261 [00:03<00:00, 83.83it/s]\n",
      "Training Epoch 554: 100%|██████████| 261/261 [00:03<00:00, 83.48it/s]\n",
      "Training Epoch 555: 100%|██████████| 261/261 [00:03<00:00, 85.77it/s]\n",
      "Training Epoch 556: 100%|██████████| 261/261 [00:03<00:00, 83.74it/s]\n",
      "Training Epoch 557: 100%|██████████| 261/261 [00:03<00:00, 81.11it/s]\n",
      "Training Epoch 558: 100%|██████████| 261/261 [00:02<00:00, 89.73it/s] \n",
      "Training Epoch 559: 100%|██████████| 261/261 [00:03<00:00, 80.15it/s]\n",
      "Training Epoch 560: 100%|██████████| 261/261 [00:03<00:00, 85.19it/s]\n",
      "Training Epoch 561: 100%|██████████| 261/261 [00:03<00:00, 83.71it/s]\n"
     ]
    },
    {
     "name": "stdout",
     "output_type": "stream",
     "text": [
      "Epoch 560 - Train Loss: 0.0991, Train MSE: 0.0991, Train MAE: 0.2316\n",
      "Epoch 560 - Validation Loss: 1.5354, Validation MSE: 1.5368, Validation MAE: 0.8944\n"
     ]
    },
    {
     "name": "stderr",
     "output_type": "stream",
     "text": [
      "Training Epoch 562: 100%|██████████| 261/261 [00:03<00:00, 84.88it/s]\n",
      "Training Epoch 563: 100%|██████████| 261/261 [00:03<00:00, 83.79it/s]\n",
      "Training Epoch 564: 100%|██████████| 261/261 [00:03<00:00, 81.59it/s]\n",
      "Training Epoch 565: 100%|██████████| 261/261 [00:03<00:00, 84.09it/s]\n",
      "Training Epoch 566: 100%|██████████| 261/261 [00:03<00:00, 76.36it/s]\n",
      "Training Epoch 567: 100%|██████████| 261/261 [00:03<00:00, 82.66it/s]\n",
      "Training Epoch 568: 100%|██████████| 261/261 [00:03<00:00, 78.29it/s]\n",
      "Training Epoch 569: 100%|██████████| 261/261 [00:03<00:00, 79.83it/s]\n",
      "Training Epoch 570: 100%|██████████| 261/261 [00:03<00:00, 85.68it/s]\n",
      "Training Epoch 571: 100%|██████████| 261/261 [00:03<00:00, 86.15it/s]\n"
     ]
    },
    {
     "name": "stdout",
     "output_type": "stream",
     "text": [
      "Epoch 570 - Train Loss: 0.0976, Train MSE: 0.0976, Train MAE: 0.2307\n",
      "Epoch 570 - Validation Loss: 1.5464, Validation MSE: 1.5480, Validation MAE: 0.8954\n"
     ]
    },
    {
     "name": "stderr",
     "output_type": "stream",
     "text": [
      "Training Epoch 572: 100%|██████████| 261/261 [00:03<00:00, 83.62it/s]\n",
      "Training Epoch 573: 100%|██████████| 261/261 [00:03<00:00, 86.73it/s]\n",
      "Training Epoch 574: 100%|██████████| 261/261 [00:03<00:00, 84.07it/s]\n",
      "Training Epoch 575: 100%|██████████| 261/261 [00:03<00:00, 80.81it/s]\n",
      "Training Epoch 576: 100%|██████████| 261/261 [00:03<00:00, 84.98it/s]\n",
      "Training Epoch 577: 100%|██████████| 261/261 [00:02<00:00, 87.34it/s]\n",
      "Training Epoch 578: 100%|██████████| 261/261 [00:03<00:00, 83.59it/s]\n",
      "Training Epoch 579: 100%|██████████| 261/261 [00:03<00:00, 82.95it/s]\n",
      "Training Epoch 580: 100%|██████████| 261/261 [00:02<00:00, 88.08it/s]\n",
      "Training Epoch 581: 100%|██████████| 261/261 [00:03<00:00, 83.24it/s]\n"
     ]
    },
    {
     "name": "stdout",
     "output_type": "stream",
     "text": [
      "Epoch 580 - Train Loss: 0.0962, Train MSE: 0.0962, Train MAE: 0.2296\n",
      "Epoch 580 - Validation Loss: 1.5220, Validation MSE: 1.5234, Validation MAE: 0.8897\n"
     ]
    },
    {
     "name": "stderr",
     "output_type": "stream",
     "text": [
      "Training Epoch 582: 100%|██████████| 261/261 [00:03<00:00, 82.63it/s]\n",
      "Training Epoch 583: 100%|██████████| 261/261 [00:03<00:00, 81.13it/s]\n",
      "Training Epoch 584: 100%|██████████| 261/261 [00:03<00:00, 76.53it/s]\n",
      "Training Epoch 585: 100%|██████████| 261/261 [00:03<00:00, 80.11it/s]\n",
      "Training Epoch 586: 100%|██████████| 261/261 [00:03<00:00, 84.40it/s]\n",
      "Training Epoch 587: 100%|██████████| 261/261 [00:03<00:00, 83.82it/s]\n",
      "Training Epoch 588: 100%|██████████| 261/261 [00:03<00:00, 84.04it/s]\n",
      "Training Epoch 589: 100%|██████████| 261/261 [00:03<00:00, 85.42it/s]\n",
      "Training Epoch 590: 100%|██████████| 261/261 [00:03<00:00, 85.32it/s]\n",
      "Training Epoch 591: 100%|██████████| 261/261 [00:02<00:00, 87.04it/s]\n"
     ]
    },
    {
     "name": "stdout",
     "output_type": "stream",
     "text": [
      "Epoch 590 - Train Loss: 0.0977, Train MSE: 0.0977, Train MAE: 0.2281\n",
      "Epoch 590 - Validation Loss: 1.5194, Validation MSE: 1.5209, Validation MAE: 0.8889\n"
     ]
    },
    {
     "name": "stderr",
     "output_type": "stream",
     "text": [
      "Training Epoch 592: 100%|██████████| 261/261 [00:03<00:00, 84.71it/s]\n",
      "Training Epoch 593: 100%|██████████| 261/261 [00:03<00:00, 80.90it/s]\n",
      "Training Epoch 594: 100%|██████████| 261/261 [00:03<00:00, 83.59it/s]\n",
      "Training Epoch 595: 100%|██████████| 261/261 [00:03<00:00, 80.05it/s]\n",
      "Training Epoch 596: 100%|██████████| 261/261 [00:03<00:00, 84.65it/s]\n",
      "Training Epoch 597: 100%|██████████| 261/261 [00:03<00:00, 83.95it/s]\n",
      "Training Epoch 598: 100%|██████████| 261/261 [00:03<00:00, 82.50it/s]\n",
      "Training Epoch 599: 100%|██████████| 261/261 [00:03<00:00, 82.87it/s]\n",
      "Training Epoch 600: 100%|██████████| 261/261 [00:03<00:00, 81.95it/s]\n",
      "Training Epoch 601: 100%|██████████| 261/261 [00:03<00:00, 84.37it/s]\n"
     ]
    },
    {
     "name": "stdout",
     "output_type": "stream",
     "text": [
      "Epoch 600 - Train Loss: 0.0982, Train MSE: 0.0982, Train MAE: 0.2296\n",
      "Epoch 600 - Validation Loss: 1.5204, Validation MSE: 1.5218, Validation MAE: 0.8925\n"
     ]
    },
    {
     "name": "stderr",
     "output_type": "stream",
     "text": [
      "Training Epoch 602: 100%|██████████| 261/261 [00:03<00:00, 73.71it/s]\n",
      "Training Epoch 603: 100%|██████████| 261/261 [00:03<00:00, 81.03it/s]\n",
      "Training Epoch 604: 100%|██████████| 261/261 [00:03<00:00, 82.06it/s]\n",
      "Training Epoch 605: 100%|██████████| 261/261 [00:03<00:00, 81.70it/s]\n",
      "Training Epoch 606: 100%|██████████| 261/261 [00:03<00:00, 81.06it/s]\n",
      "Training Epoch 607: 100%|██████████| 261/261 [00:03<00:00, 78.26it/s]\n",
      "Training Epoch 608: 100%|██████████| 261/261 [00:03<00:00, 84.21it/s]\n",
      "Training Epoch 609: 100%|██████████| 261/261 [00:03<00:00, 85.09it/s]\n",
      "Training Epoch 610: 100%|██████████| 261/261 [00:03<00:00, 85.26it/s]\n",
      "Training Epoch 611: 100%|██████████| 261/261 [00:03<00:00, 84.22it/s]\n"
     ]
    },
    {
     "name": "stdout",
     "output_type": "stream",
     "text": [
      "Epoch 610 - Train Loss: 0.0988, Train MSE: 0.0988, Train MAE: 0.2294\n",
      "Epoch 610 - Validation Loss: 1.5416, Validation MSE: 1.5431, Validation MAE: 0.9014\n"
     ]
    },
    {
     "name": "stderr",
     "output_type": "stream",
     "text": [
      "Training Epoch 612: 100%|██████████| 261/261 [00:03<00:00, 83.14it/s]\n",
      "Training Epoch 613: 100%|██████████| 261/261 [00:02<00:00, 88.40it/s]\n",
      "Training Epoch 614: 100%|██████████| 261/261 [00:03<00:00, 83.90it/s]\n",
      "Training Epoch 615: 100%|██████████| 261/261 [00:03<00:00, 84.65it/s]\n",
      "Training Epoch 616: 100%|██████████| 261/261 [00:03<00:00, 83.58it/s]\n",
      "Training Epoch 617: 100%|██████████| 261/261 [00:03<00:00, 81.65it/s]\n",
      "Training Epoch 618: 100%|██████████| 261/261 [00:03<00:00, 82.53it/s]\n",
      "Training Epoch 619: 100%|██████████| 261/261 [00:03<00:00, 85.53it/s]\n",
      "Training Epoch 620: 100%|██████████| 261/261 [00:03<00:00, 75.97it/s]\n",
      "Training Epoch 621: 100%|██████████| 261/261 [00:03<00:00, 81.60it/s]\n"
     ]
    },
    {
     "name": "stdout",
     "output_type": "stream",
     "text": [
      "Epoch 620 - Train Loss: 0.0924, Train MSE: 0.0924, Train MAE: 0.2228\n",
      "Epoch 620 - Validation Loss: 1.5331, Validation MSE: 1.5344, Validation MAE: 0.8981\n"
     ]
    },
    {
     "name": "stderr",
     "output_type": "stream",
     "text": [
      "Training Epoch 622: 100%|██████████| 261/261 [00:03<00:00, 80.71it/s]\n",
      "Training Epoch 623: 100%|██████████| 261/261 [00:03<00:00, 80.47it/s]\n",
      "Training Epoch 624: 100%|██████████| 261/261 [00:03<00:00, 85.91it/s]\n",
      "Training Epoch 625: 100%|██████████| 261/261 [00:03<00:00, 85.92it/s]\n",
      "Training Epoch 626: 100%|██████████| 261/261 [00:03<00:00, 82.05it/s]\n",
      "Training Epoch 627: 100%|██████████| 261/261 [00:03<00:00, 86.15it/s]\n",
      "Training Epoch 628: 100%|██████████| 261/261 [00:03<00:00, 83.06it/s]\n",
      "Training Epoch 629: 100%|██████████| 261/261 [00:03<00:00, 81.91it/s]\n",
      "Training Epoch 630: 100%|██████████| 261/261 [00:02<00:00, 89.59it/s]\n",
      "Training Epoch 631: 100%|██████████| 261/261 [00:03<00:00, 79.86it/s]\n"
     ]
    },
    {
     "name": "stdout",
     "output_type": "stream",
     "text": [
      "Epoch 630 - Train Loss: 0.0939, Train MSE: 0.0939, Train MAE: 0.2247\n",
      "Epoch 630 - Validation Loss: 1.5496, Validation MSE: 1.5509, Validation MAE: 0.8996\n"
     ]
    },
    {
     "name": "stderr",
     "output_type": "stream",
     "text": [
      "Training Epoch 632: 100%|██████████| 261/261 [00:03<00:00, 85.90it/s]\n",
      "Training Epoch 633: 100%|██████████| 261/261 [00:03<00:00, 79.96it/s]\n",
      "Training Epoch 634: 100%|██████████| 261/261 [00:03<00:00, 82.98it/s]\n",
      "Training Epoch 635: 100%|██████████| 261/261 [00:03<00:00, 84.43it/s]\n",
      "Training Epoch 636: 100%|██████████| 261/261 [00:03<00:00, 84.41it/s]\n",
      "Training Epoch 637: 100%|██████████| 261/261 [00:03<00:00, 84.78it/s]\n",
      "Training Epoch 638: 100%|██████████| 261/261 [00:03<00:00, 75.06it/s]\n",
      "Training Epoch 639: 100%|██████████| 261/261 [00:03<00:00, 82.02it/s]\n",
      "Training Epoch 640: 100%|██████████| 261/261 [00:03<00:00, 80.97it/s]\n",
      "Training Epoch 641: 100%|██████████| 261/261 [00:03<00:00, 82.62it/s]\n"
     ]
    },
    {
     "name": "stdout",
     "output_type": "stream",
     "text": [
      "Epoch 640 - Train Loss: 0.0944, Train MSE: 0.0944, Train MAE: 0.2260\n",
      "Epoch 640 - Validation Loss: 1.5359, Validation MSE: 1.5372, Validation MAE: 0.8936\n"
     ]
    },
    {
     "name": "stderr",
     "output_type": "stream",
     "text": [
      "Training Epoch 642: 100%|██████████| 261/261 [00:03<00:00, 81.53it/s]\n",
      "Training Epoch 643: 100%|██████████| 261/261 [00:03<00:00, 84.08it/s]\n",
      "Training Epoch 644: 100%|██████████| 261/261 [00:03<00:00, 82.44it/s]\n",
      "Training Epoch 645: 100%|██████████| 261/261 [00:03<00:00, 81.03it/s]\n",
      "Training Epoch 646: 100%|██████████| 261/261 [00:03<00:00, 80.47it/s]\n",
      "Training Epoch 647: 100%|██████████| 261/261 [00:03<00:00, 83.55it/s]\n",
      "Training Epoch 648: 100%|██████████| 261/261 [00:02<00:00, 87.14it/s]\n",
      "Training Epoch 649: 100%|██████████| 261/261 [00:03<00:00, 82.48it/s]\n",
      "Training Epoch 650: 100%|██████████| 261/261 [00:02<00:00, 89.40it/s]\n",
      "Training Epoch 651: 100%|██████████| 261/261 [00:03<00:00, 79.17it/s]\n"
     ]
    },
    {
     "name": "stdout",
     "output_type": "stream",
     "text": [
      "Epoch 650 - Train Loss: 0.0915, Train MSE: 0.0915, Train MAE: 0.2205\n",
      "Epoch 650 - Validation Loss: 1.5245, Validation MSE: 1.5259, Validation MAE: 0.8941\n"
     ]
    },
    {
     "name": "stderr",
     "output_type": "stream",
     "text": [
      "Training Epoch 652: 100%|██████████| 261/261 [00:03<00:00, 83.97it/s]\n",
      "Training Epoch 653: 100%|██████████| 261/261 [00:03<00:00, 79.99it/s]\n",
      "Training Epoch 654: 100%|██████████| 261/261 [00:03<00:00, 85.86it/s]\n",
      "Training Epoch 655: 100%|██████████| 261/261 [00:03<00:00, 79.70it/s]\n",
      "Training Epoch 656: 100%|██████████| 261/261 [00:03<00:00, 80.06it/s]\n",
      "Training Epoch 657: 100%|██████████| 261/261 [00:03<00:00, 77.65it/s]\n",
      "Training Epoch 658: 100%|██████████| 261/261 [00:03<00:00, 79.99it/s]\n",
      "Training Epoch 659: 100%|██████████| 261/261 [00:03<00:00, 77.47it/s]\n",
      "Training Epoch 660: 100%|██████████| 261/261 [00:03<00:00, 74.30it/s]\n",
      "Training Epoch 661: 100%|██████████| 261/261 [00:03<00:00, 82.32it/s]\n"
     ]
    },
    {
     "name": "stdout",
     "output_type": "stream",
     "text": [
      "Epoch 660 - Train Loss: 0.0958, Train MSE: 0.0958, Train MAE: 0.2253\n",
      "Epoch 660 - Validation Loss: 1.5372, Validation MSE: 1.5387, Validation MAE: 0.8971\n"
     ]
    },
    {
     "name": "stderr",
     "output_type": "stream",
     "text": [
      "Training Epoch 662: 100%|██████████| 261/261 [00:03<00:00, 83.16it/s]\n",
      "Training Epoch 663: 100%|██████████| 261/261 [00:03<00:00, 67.93it/s]\n",
      "Training Epoch 664: 100%|██████████| 261/261 [00:03<00:00, 75.71it/s]\n",
      "Training Epoch 665: 100%|██████████| 261/261 [00:03<00:00, 79.57it/s]\n",
      "Training Epoch 666: 100%|██████████| 261/261 [00:03<00:00, 83.14it/s]\n",
      "Training Epoch 667: 100%|██████████| 261/261 [00:03<00:00, 81.23it/s]\n",
      "Training Epoch 668: 100%|██████████| 261/261 [00:03<00:00, 81.31it/s]\n",
      "Training Epoch 669: 100%|██████████| 261/261 [00:03<00:00, 76.60it/s]\n",
      "Training Epoch 670: 100%|██████████| 261/261 [00:03<00:00, 82.14it/s]\n",
      "Training Epoch 671: 100%|██████████| 261/261 [00:03<00:00, 80.65it/s]\n"
     ]
    },
    {
     "name": "stdout",
     "output_type": "stream",
     "text": [
      "Epoch 670 - Train Loss: 0.0935, Train MSE: 0.0935, Train MAE: 0.2203\n",
      "Epoch 670 - Validation Loss: 1.5649, Validation MSE: 1.5663, Validation MAE: 0.9053\n"
     ]
    },
    {
     "name": "stderr",
     "output_type": "stream",
     "text": [
      "Training Epoch 672: 100%|██████████| 261/261 [00:03<00:00, 81.74it/s]\n",
      "Training Epoch 673: 100%|██████████| 261/261 [00:03<00:00, 79.87it/s]\n",
      "Training Epoch 674: 100%|██████████| 261/261 [00:03<00:00, 75.86it/s]\n",
      "Training Epoch 675: 100%|██████████| 261/261 [00:03<00:00, 78.98it/s]\n",
      "Training Epoch 676: 100%|██████████| 261/261 [00:03<00:00, 81.13it/s]\n",
      "Training Epoch 677: 100%|██████████| 261/261 [00:03<00:00, 77.27it/s]\n",
      "Training Epoch 678: 100%|██████████| 261/261 [00:03<00:00, 79.39it/s]\n",
      "Training Epoch 679: 100%|██████████| 261/261 [00:03<00:00, 84.10it/s]\n",
      "Training Epoch 680: 100%|██████████| 261/261 [00:03<00:00, 83.53it/s]\n",
      "Training Epoch 681: 100%|██████████| 261/261 [00:03<00:00, 71.37it/s]\n"
     ]
    },
    {
     "name": "stdout",
     "output_type": "stream",
     "text": [
      "Epoch 680 - Train Loss: 0.0908, Train MSE: 0.0908, Train MAE: 0.2199\n",
      "Epoch 680 - Validation Loss: 1.5542, Validation MSE: 1.5557, Validation MAE: 0.9018\n"
     ]
    },
    {
     "name": "stderr",
     "output_type": "stream",
     "text": [
      "Training Epoch 682: 100%|██████████| 261/261 [00:03<00:00, 83.79it/s]\n",
      "Training Epoch 683: 100%|██████████| 261/261 [00:03<00:00, 86.40it/s]\n",
      "Training Epoch 684: 100%|██████████| 261/261 [00:02<00:00, 89.12it/s]\n",
      "Training Epoch 685: 100%|██████████| 261/261 [00:02<00:00, 89.75it/s]\n",
      "Training Epoch 686: 100%|██████████| 261/261 [00:02<00:00, 87.03it/s]\n",
      "Training Epoch 687: 100%|██████████| 261/261 [00:02<00:00, 91.57it/s]\n",
      "Training Epoch 688: 100%|██████████| 261/261 [00:02<00:00, 90.44it/s]\n",
      "Training Epoch 689: 100%|██████████| 261/261 [00:02<00:00, 89.22it/s]\n",
      "Training Epoch 690: 100%|██████████| 261/261 [00:02<00:00, 92.43it/s]\n",
      "Training Epoch 691: 100%|██████████| 261/261 [00:03<00:00, 85.14it/s]\n"
     ]
    },
    {
     "name": "stdout",
     "output_type": "stream",
     "text": [
      "Epoch 690 - Train Loss: 0.0895, Train MSE: 0.0895, Train MAE: 0.2175\n",
      "Epoch 690 - Validation Loss: 1.5408, Validation MSE: 1.5423, Validation MAE: 0.8978\n"
     ]
    },
    {
     "name": "stderr",
     "output_type": "stream",
     "text": [
      "Training Epoch 692: 100%|██████████| 261/261 [00:02<00:00, 87.35it/s]\n",
      "Training Epoch 693: 100%|██████████| 261/261 [00:02<00:00, 90.40it/s]\n",
      "Training Epoch 694: 100%|██████████| 261/261 [00:02<00:00, 90.87it/s]\n",
      "Training Epoch 695: 100%|██████████| 261/261 [00:02<00:00, 90.63it/s]\n",
      "Training Epoch 696: 100%|██████████| 261/261 [00:02<00:00, 93.75it/s]\n",
      "Training Epoch 697: 100%|██████████| 261/261 [00:02<00:00, 92.33it/s] \n",
      "Training Epoch 698: 100%|██████████| 261/261 [00:02<00:00, 90.42it/s] \n",
      "Training Epoch 699: 100%|██████████| 261/261 [00:02<00:00, 92.75it/s] \n",
      "Training Epoch 700: 100%|██████████| 261/261 [00:02<00:00, 91.79it/s]\n",
      "Training Epoch 701: 100%|██████████| 261/261 [00:02<00:00, 90.81it/s]\n"
     ]
    },
    {
     "name": "stdout",
     "output_type": "stream",
     "text": [
      "Epoch 700 - Train Loss: 0.0862, Train MSE: 0.0862, Train MAE: 0.2155\n",
      "Epoch 700 - Validation Loss: 1.5348, Validation MSE: 1.5363, Validation MAE: 0.8917\n"
     ]
    },
    {
     "name": "stderr",
     "output_type": "stream",
     "text": [
      "Training Epoch 702: 100%|██████████| 261/261 [00:02<00:00, 92.19it/s] \n",
      "Training Epoch 703: 100%|██████████| 261/261 [00:02<00:00, 91.51it/s]\n",
      "Training Epoch 704: 100%|██████████| 261/261 [00:02<00:00, 89.60it/s]\n",
      "Training Epoch 705: 100%|██████████| 261/261 [00:02<00:00, 95.61it/s] \n",
      "Training Epoch 706: 100%|██████████| 261/261 [00:02<00:00, 93.58it/s] \n",
      "Training Epoch 707: 100%|██████████| 261/261 [00:02<00:00, 94.83it/s] \n",
      "Training Epoch 708: 100%|██████████| 261/261 [00:02<00:00, 95.25it/s] \n",
      "Training Epoch 709: 100%|██████████| 261/261 [00:02<00:00, 90.37it/s]\n",
      "Training Epoch 710: 100%|██████████| 261/261 [00:02<00:00, 91.24it/s]\n",
      "Training Epoch 711: 100%|██████████| 261/261 [00:02<00:00, 90.07it/s]\n"
     ]
    },
    {
     "name": "stdout",
     "output_type": "stream",
     "text": [
      "Epoch 710 - Train Loss: 0.0879, Train MSE: 0.0879, Train MAE: 0.2169\n",
      "Epoch 710 - Validation Loss: 1.5422, Validation MSE: 1.5437, Validation MAE: 0.8959\n"
     ]
    },
    {
     "name": "stderr",
     "output_type": "stream",
     "text": [
      "Training Epoch 712: 100%|██████████| 261/261 [00:02<00:00, 91.10it/s] \n",
      "Training Epoch 713: 100%|██████████| 261/261 [00:02<00:00, 91.13it/s]\n",
      "Training Epoch 714: 100%|██████████| 261/261 [00:02<00:00, 89.48it/s]\n",
      "Training Epoch 715: 100%|██████████| 261/261 [00:02<00:00, 96.22it/s] \n",
      "Training Epoch 716: 100%|██████████| 261/261 [00:02<00:00, 91.23it/s] \n",
      "Training Epoch 717: 100%|██████████| 261/261 [00:02<00:00, 93.75it/s]\n",
      "Training Epoch 718: 100%|██████████| 261/261 [00:02<00:00, 93.70it/s] \n",
      "Training Epoch 719: 100%|██████████| 261/261 [00:02<00:00, 93.49it/s] \n",
      "Training Epoch 720: 100%|██████████| 261/261 [00:02<00:00, 90.68it/s] \n",
      "Training Epoch 721: 100%|██████████| 261/261 [00:02<00:00, 91.04it/s]\n"
     ]
    },
    {
     "name": "stdout",
     "output_type": "stream",
     "text": [
      "Epoch 720 - Train Loss: 0.0877, Train MSE: 0.0877, Train MAE: 0.2158\n",
      "Epoch 720 - Validation Loss: 1.5301, Validation MSE: 1.5316, Validation MAE: 0.8957\n"
     ]
    },
    {
     "name": "stderr",
     "output_type": "stream",
     "text": [
      "Training Epoch 722: 100%|██████████| 261/261 [00:02<00:00, 90.96it/s]\n",
      "Training Epoch 723: 100%|██████████| 261/261 [00:02<00:00, 94.12it/s]\n",
      "Training Epoch 724: 100%|██████████| 261/261 [00:02<00:00, 90.83it/s]\n",
      "Training Epoch 725: 100%|██████████| 261/261 [00:02<00:00, 89.93it/s]\n",
      "Training Epoch 726: 100%|██████████| 261/261 [00:02<00:00, 93.30it/s]\n",
      "Training Epoch 727: 100%|██████████| 261/261 [00:02<00:00, 91.53it/s]\n",
      "Training Epoch 728: 100%|██████████| 261/261 [00:02<00:00, 92.25it/s] \n",
      "Training Epoch 729: 100%|██████████| 261/261 [00:02<00:00, 89.62it/s]\n",
      "Training Epoch 730: 100%|██████████| 261/261 [00:02<00:00, 95.90it/s] \n",
      "Training Epoch 731: 100%|██████████| 261/261 [00:02<00:00, 92.18it/s]\n"
     ]
    },
    {
     "name": "stdout",
     "output_type": "stream",
     "text": [
      "Epoch 730 - Train Loss: 0.0893, Train MSE: 0.0893, Train MAE: 0.2150\n",
      "Epoch 730 - Validation Loss: 1.5402, Validation MSE: 1.5416, Validation MAE: 0.8953\n"
     ]
    },
    {
     "name": "stderr",
     "output_type": "stream",
     "text": [
      "Training Epoch 732: 100%|██████████| 261/261 [00:02<00:00, 88.79it/s]\n",
      "Training Epoch 733: 100%|██████████| 261/261 [00:02<00:00, 91.27it/s] \n",
      "Training Epoch 734: 100%|██████████| 261/261 [00:02<00:00, 94.36it/s] \n",
      "Training Epoch 735: 100%|██████████| 261/261 [00:02<00:00, 89.11it/s]\n",
      "Training Epoch 736: 100%|██████████| 261/261 [00:02<00:00, 92.22it/s]\n",
      "Training Epoch 737: 100%|██████████| 261/261 [00:02<00:00, 93.24it/s]\n",
      "Training Epoch 738: 100%|██████████| 261/261 [00:02<00:00, 90.95it/s] \n",
      "Training Epoch 739: 100%|██████████| 261/261 [00:02<00:00, 93.28it/s] \n",
      "Training Epoch 740: 100%|██████████| 261/261 [00:02<00:00, 91.47it/s]\n",
      "Training Epoch 741: 100%|██████████| 261/261 [00:02<00:00, 87.67it/s]\n"
     ]
    },
    {
     "name": "stdout",
     "output_type": "stream",
     "text": [
      "Epoch 740 - Train Loss: 0.0853, Train MSE: 0.0852, Train MAE: 0.2139\n",
      "Epoch 740 - Validation Loss: 1.5175, Validation MSE: 1.5190, Validation MAE: 0.8925\n"
     ]
    },
    {
     "name": "stderr",
     "output_type": "stream",
     "text": [
      "Training Epoch 742: 100%|██████████| 261/261 [00:02<00:00, 90.98it/s]\n",
      "Training Epoch 743: 100%|██████████| 261/261 [00:02<00:00, 94.72it/s]\n",
      "Training Epoch 744: 100%|██████████| 261/261 [00:02<00:00, 92.59it/s] \n",
      "Training Epoch 745: 100%|██████████| 261/261 [00:03<00:00, 83.77it/s]\n",
      "Training Epoch 746: 100%|██████████| 261/261 [00:02<00:00, 89.18it/s] \n",
      "Training Epoch 747: 100%|██████████| 261/261 [00:02<00:00, 92.33it/s]\n",
      "Training Epoch 748: 100%|██████████| 261/261 [00:02<00:00, 94.33it/s]\n",
      "Training Epoch 749: 100%|██████████| 261/261 [00:02<00:00, 92.39it/s]\n",
      "Training Epoch 750: 100%|██████████| 261/261 [00:02<00:00, 93.87it/s] \n",
      "Training Epoch 751: 100%|██████████| 261/261 [00:03<00:00, 83.93it/s]\n"
     ]
    },
    {
     "name": "stdout",
     "output_type": "stream",
     "text": [
      "Epoch 750 - Train Loss: 0.0842, Train MSE: 0.0842, Train MAE: 0.2113\n",
      "Epoch 750 - Validation Loss: 1.5426, Validation MSE: 1.5441, Validation MAE: 0.8966\n"
     ]
    },
    {
     "name": "stderr",
     "output_type": "stream",
     "text": [
      "Training Epoch 752: 100%|██████████| 261/261 [00:02<00:00, 88.71it/s]\n",
      "Training Epoch 753: 100%|██████████| 261/261 [00:02<00:00, 89.97it/s]\n",
      "Training Epoch 754: 100%|██████████| 261/261 [00:02<00:00, 95.72it/s] \n",
      "Training Epoch 755: 100%|██████████| 261/261 [00:02<00:00, 94.76it/s] \n",
      "Training Epoch 756: 100%|██████████| 261/261 [00:02<00:00, 92.51it/s]\n",
      "Training Epoch 757: 100%|██████████| 261/261 [00:02<00:00, 87.74it/s]\n",
      "Training Epoch 758: 100%|██████████| 261/261 [00:02<00:00, 93.34it/s] \n",
      "Training Epoch 759: 100%|██████████| 261/261 [00:02<00:00, 91.26it/s]\n",
      "Training Epoch 760: 100%|██████████| 261/261 [00:02<00:00, 93.24it/s] \n",
      "Training Epoch 761: 100%|██████████| 261/261 [00:02<00:00, 91.58it/s]\n"
     ]
    },
    {
     "name": "stdout",
     "output_type": "stream",
     "text": [
      "Epoch 760 - Train Loss: 0.0834, Train MSE: 0.0834, Train MAE: 0.2108\n",
      "Epoch 760 - Validation Loss: 1.5287, Validation MSE: 1.5302, Validation MAE: 0.8963\n"
     ]
    },
    {
     "name": "stderr",
     "output_type": "stream",
     "text": [
      "Training Epoch 762: 100%|██████████| 261/261 [00:02<00:00, 89.94it/s]\n",
      "Training Epoch 763: 100%|██████████| 261/261 [00:02<00:00, 89.77it/s]\n",
      "Training Epoch 764: 100%|██████████| 261/261 [00:02<00:00, 93.34it/s]\n",
      "Training Epoch 765: 100%|██████████| 261/261 [00:02<00:00, 92.64it/s]\n",
      "Training Epoch 766: 100%|██████████| 261/261 [00:02<00:00, 93.04it/s] \n",
      "Training Epoch 767: 100%|██████████| 261/261 [00:02<00:00, 87.89it/s]\n",
      "Training Epoch 768: 100%|██████████| 261/261 [00:02<00:00, 93.51it/s]\n",
      "Training Epoch 769: 100%|██████████| 261/261 [00:02<00:00, 94.38it/s]\n",
      "Training Epoch 770: 100%|██████████| 261/261 [00:02<00:00, 95.67it/s] \n",
      "Training Epoch 771: 100%|██████████| 261/261 [00:03<00:00, 86.86it/s]\n"
     ]
    },
    {
     "name": "stdout",
     "output_type": "stream",
     "text": [
      "Epoch 770 - Train Loss: 0.0841, Train MSE: 0.0841, Train MAE: 0.2117\n",
      "Epoch 770 - Validation Loss: 1.5220, Validation MSE: 1.5236, Validation MAE: 0.8934\n"
     ]
    },
    {
     "name": "stderr",
     "output_type": "stream",
     "text": [
      "Training Epoch 772: 100%|██████████| 261/261 [00:02<00:00, 93.09it/s]\n",
      "Training Epoch 773: 100%|██████████| 261/261 [00:03<00:00, 84.59it/s]\n",
      "Training Epoch 774: 100%|██████████| 261/261 [00:02<00:00, 92.00it/s] \n",
      "Training Epoch 775: 100%|██████████| 261/261 [00:02<00:00, 94.10it/s] \n",
      "Training Epoch 776: 100%|██████████| 261/261 [00:02<00:00, 92.42it/s] \n",
      "Training Epoch 777: 100%|██████████| 261/261 [00:02<00:00, 90.52it/s]\n",
      "Training Epoch 778: 100%|██████████| 261/261 [00:02<00:00, 89.72it/s]\n",
      "Training Epoch 779: 100%|██████████| 261/261 [00:02<00:00, 90.92it/s]\n",
      "Training Epoch 780: 100%|██████████| 261/261 [00:02<00:00, 93.58it/s]\n",
      "Training Epoch 781: 100%|██████████| 261/261 [00:02<00:00, 91.35it/s]\n"
     ]
    },
    {
     "name": "stdout",
     "output_type": "stream",
     "text": [
      "Epoch 780 - Train Loss: 0.0809, Train MSE: 0.0809, Train MAE: 0.2056\n",
      "Epoch 780 - Validation Loss: 1.5473, Validation MSE: 1.5488, Validation MAE: 0.8984\n"
     ]
    },
    {
     "name": "stderr",
     "output_type": "stream",
     "text": [
      "Training Epoch 782: 100%|██████████| 261/261 [00:02<00:00, 90.61it/s]\n",
      "Training Epoch 783: 100%|██████████| 261/261 [00:02<00:00, 88.40it/s]\n",
      "Training Epoch 784: 100%|██████████| 261/261 [00:02<00:00, 93.15it/s] \n",
      "Training Epoch 785: 100%|██████████| 261/261 [00:02<00:00, 91.33it/s]\n",
      "Training Epoch 786: 100%|██████████| 261/261 [00:02<00:00, 94.65it/s] \n",
      "Training Epoch 787: 100%|██████████| 261/261 [00:02<00:00, 95.12it/s] \n",
      "Training Epoch 788: 100%|██████████| 261/261 [00:02<00:00, 89.78it/s]\n",
      "Training Epoch 789: 100%|██████████| 261/261 [00:02<00:00, 92.15it/s]\n",
      "Training Epoch 790: 100%|██████████| 261/261 [00:02<00:00, 91.14it/s] \n",
      "Training Epoch 791: 100%|██████████| 261/261 [00:02<00:00, 91.23it/s]\n"
     ]
    },
    {
     "name": "stdout",
     "output_type": "stream",
     "text": [
      "Epoch 790 - Train Loss: 0.0789, Train MSE: 0.0789, Train MAE: 0.2051\n",
      "Epoch 790 - Validation Loss: 1.5506, Validation MSE: 1.5522, Validation MAE: 0.9047\n"
     ]
    },
    {
     "name": "stderr",
     "output_type": "stream",
     "text": [
      "Training Epoch 792: 100%|██████████| 261/261 [00:02<00:00, 88.36it/s]\n",
      "Training Epoch 793: 100%|██████████| 261/261 [00:02<00:00, 91.24it/s] \n",
      "Training Epoch 794: 100%|██████████| 261/261 [00:02<00:00, 92.26it/s]\n",
      "Training Epoch 795: 100%|██████████| 261/261 [00:02<00:00, 93.36it/s] \n",
      "Training Epoch 796: 100%|██████████| 261/261 [00:02<00:00, 94.89it/s] \n",
      "Training Epoch 797: 100%|██████████| 261/261 [00:02<00:00, 92.89it/s]\n",
      "Training Epoch 798: 100%|██████████| 261/261 [00:02<00:00, 91.15it/s]\n",
      "Training Epoch 799: 100%|██████████| 261/261 [00:02<00:00, 90.65it/s]\n",
      "Training Epoch 800: 100%|██████████| 261/261 [00:02<00:00, 90.26it/s]\n",
      "Training Epoch 801: 100%|██████████| 261/261 [00:02<00:00, 94.20it/s] \n"
     ]
    },
    {
     "name": "stdout",
     "output_type": "stream",
     "text": [
      "Epoch 800 - Train Loss: 0.0868, Train MSE: 0.0868, Train MAE: 0.2113\n",
      "Epoch 800 - Validation Loss: 1.5479, Validation MSE: 1.5494, Validation MAE: 0.9011\n"
     ]
    },
    {
     "name": "stderr",
     "output_type": "stream",
     "text": [
      "Training Epoch 802: 100%|██████████| 261/261 [00:02<00:00, 94.04it/s]\n",
      "Training Epoch 803: 100%|██████████| 261/261 [00:02<00:00, 88.08it/s]\n",
      "Training Epoch 804: 100%|██████████| 261/261 [00:02<00:00, 93.35it/s] \n",
      "Training Epoch 805: 100%|██████████| 261/261 [00:02<00:00, 91.04it/s]\n",
      "Training Epoch 806: 100%|██████████| 261/261 [00:02<00:00, 89.74it/s]\n",
      "Training Epoch 807: 100%|██████████| 261/261 [00:02<00:00, 94.26it/s]\n",
      "Training Epoch 808: 100%|██████████| 261/261 [00:02<00:00, 94.05it/s]\n",
      "Training Epoch 809: 100%|██████████| 261/261 [00:02<00:00, 90.67it/s]\n",
      "Training Epoch 810: 100%|██████████| 261/261 [00:03<00:00, 86.78it/s]\n",
      "Training Epoch 811: 100%|██████████| 261/261 [00:02<00:00, 91.07it/s]\n"
     ]
    },
    {
     "name": "stdout",
     "output_type": "stream",
     "text": [
      "Epoch 810 - Train Loss: 0.0827, Train MSE: 0.0827, Train MAE: 0.2094\n",
      "Epoch 810 - Validation Loss: 1.5326, Validation MSE: 1.5341, Validation MAE: 0.8939\n"
     ]
    },
    {
     "name": "stderr",
     "output_type": "stream",
     "text": [
      "Training Epoch 812: 100%|██████████| 261/261 [00:02<00:00, 89.12it/s]\n",
      "Training Epoch 813: 100%|██████████| 261/261 [00:02<00:00, 95.20it/s] \n",
      "Training Epoch 814: 100%|██████████| 261/261 [00:02<00:00, 96.00it/s] \n",
      "Training Epoch 815: 100%|██████████| 261/261 [00:02<00:00, 89.59it/s]\n",
      "Training Epoch 816: 100%|██████████| 261/261 [00:03<00:00, 83.44it/s]\n",
      "Training Epoch 817: 100%|██████████| 261/261 [00:02<00:00, 91.16it/s]\n",
      "Training Epoch 818: 100%|██████████| 261/261 [00:02<00:00, 93.49it/s]\n",
      "Training Epoch 819: 100%|██████████| 261/261 [00:02<00:00, 93.87it/s] \n",
      "Training Epoch 820: 100%|██████████| 261/261 [00:02<00:00, 87.85it/s]\n",
      "Training Epoch 821: 100%|██████████| 261/261 [00:02<00:00, 93.92it/s]\n"
     ]
    },
    {
     "name": "stdout",
     "output_type": "stream",
     "text": [
      "Epoch 820 - Train Loss: 0.0790, Train MSE: 0.0790, Train MAE: 0.2044\n",
      "Epoch 820 - Validation Loss: 1.5338, Validation MSE: 1.5353, Validation MAE: 0.8931\n"
     ]
    },
    {
     "name": "stderr",
     "output_type": "stream",
     "text": [
      "Training Epoch 822: 100%|██████████| 261/261 [00:02<00:00, 93.74it/s]\n",
      "Training Epoch 823: 100%|██████████| 261/261 [00:02<00:00, 94.72it/s] \n",
      "Training Epoch 824: 100%|██████████| 261/261 [00:02<00:00, 93.53it/s] \n",
      "Training Epoch 825: 100%|██████████| 261/261 [00:02<00:00, 91.80it/s]\n",
      "Training Epoch 826: 100%|██████████| 261/261 [00:02<00:00, 90.86it/s] \n",
      "Training Epoch 827: 100%|██████████| 261/261 [00:02<00:00, 94.82it/s] \n",
      "Training Epoch 828: 100%|██████████| 261/261 [00:02<00:00, 93.37it/s] \n",
      "Training Epoch 829: 100%|██████████| 261/261 [00:02<00:00, 90.10it/s]\n",
      "Training Epoch 830: 100%|██████████| 261/261 [00:02<00:00, 87.73it/s]\n",
      "Training Epoch 831: 100%|██████████| 261/261 [00:03<00:00, 85.72it/s]\n"
     ]
    },
    {
     "name": "stdout",
     "output_type": "stream",
     "text": [
      "Epoch 830 - Train Loss: 0.0829, Train MSE: 0.0829, Train MAE: 0.2086\n",
      "Epoch 830 - Validation Loss: 1.5461, Validation MSE: 1.5477, Validation MAE: 0.8958\n"
     ]
    },
    {
     "name": "stderr",
     "output_type": "stream",
     "text": [
      "Training Epoch 832: 100%|██████████| 261/261 [00:02<00:00, 91.08it/s]\n",
      "Training Epoch 833: 100%|██████████| 261/261 [00:02<00:00, 89.62it/s]\n",
      "Training Epoch 834: 100%|██████████| 261/261 [00:02<00:00, 92.49it/s] \n",
      "Training Epoch 835: 100%|██████████| 261/261 [00:02<00:00, 90.00it/s] \n",
      "Training Epoch 836: 100%|██████████| 261/261 [00:02<00:00, 93.83it/s]\n",
      "Training Epoch 837: 100%|██████████| 261/261 [00:02<00:00, 94.86it/s] \n",
      "Training Epoch 838: 100%|██████████| 261/261 [00:02<00:00, 93.78it/s] \n",
      "Training Epoch 839: 100%|██████████| 261/261 [00:02<00:00, 94.44it/s] \n",
      "Training Epoch 840: 100%|██████████| 261/261 [00:02<00:00, 94.09it/s]\n",
      "Training Epoch 841: 100%|██████████| 261/261 [00:02<00:00, 92.43it/s]\n"
     ]
    },
    {
     "name": "stdout",
     "output_type": "stream",
     "text": [
      "Epoch 840 - Train Loss: 0.0796, Train MSE: 0.0796, Train MAE: 0.2040\n",
      "Epoch 840 - Validation Loss: 1.5503, Validation MSE: 1.5518, Validation MAE: 0.9019\n"
     ]
    },
    {
     "name": "stderr",
     "output_type": "stream",
     "text": [
      "Training Epoch 842: 100%|██████████| 261/261 [00:03<00:00, 86.54it/s]\n",
      "Training Epoch 843: 100%|██████████| 261/261 [00:02<00:00, 96.12it/s] \n",
      "Training Epoch 844: 100%|██████████| 261/261 [00:02<00:00, 90.57it/s]\n",
      "Training Epoch 845: 100%|██████████| 261/261 [00:02<00:00, 91.98it/s]\n",
      "Training Epoch 846: 100%|██████████| 261/261 [00:02<00:00, 93.58it/s]\n",
      "Training Epoch 847: 100%|██████████| 261/261 [00:02<00:00, 87.49it/s]\n",
      "Training Epoch 848: 100%|██████████| 261/261 [00:02<00:00, 93.97it/s]\n",
      "Training Epoch 849: 100%|██████████| 261/261 [00:02<00:00, 94.91it/s] \n",
      "Training Epoch 850: 100%|██████████| 261/261 [00:03<00:00, 84.03it/s]\n",
      "Training Epoch 851: 100%|██████████| 261/261 [00:02<00:00, 91.17it/s]\n"
     ]
    },
    {
     "name": "stdout",
     "output_type": "stream",
     "text": [
      "Epoch 850 - Train Loss: 0.0814, Train MSE: 0.0814, Train MAE: 0.2045\n",
      "Epoch 850 - Validation Loss: 1.5496, Validation MSE: 1.5511, Validation MAE: 0.9003\n"
     ]
    },
    {
     "name": "stderr",
     "output_type": "stream",
     "text": [
      "Training Epoch 852: 100%|██████████| 261/261 [00:02<00:00, 89.13it/s]\n",
      "Training Epoch 853: 100%|██████████| 261/261 [00:02<00:00, 93.36it/s]\n",
      "Training Epoch 854: 100%|██████████| 261/261 [00:02<00:00, 88.65it/s]\n",
      "Training Epoch 855: 100%|██████████| 261/261 [00:02<00:00, 92.04it/s]\n",
      "Training Epoch 856: 100%|██████████| 261/261 [00:02<00:00, 94.09it/s]\n",
      "Training Epoch 857: 100%|██████████| 261/261 [00:02<00:00, 90.78it/s]\n",
      "Training Epoch 858: 100%|██████████| 261/261 [00:02<00:00, 91.80it/s] \n",
      "Training Epoch 859: 100%|██████████| 261/261 [00:02<00:00, 92.16it/s]\n",
      "Training Epoch 860: 100%|██████████| 261/261 [00:02<00:00, 91.41it/s] \n",
      "Training Epoch 861: 100%|██████████| 261/261 [00:02<00:00, 90.14it/s]\n"
     ]
    },
    {
     "name": "stdout",
     "output_type": "stream",
     "text": [
      "Epoch 860 - Train Loss: 0.0747, Train MSE: 0.0747, Train MAE: 0.1996\n",
      "Epoch 860 - Validation Loss: 1.5601, Validation MSE: 1.5617, Validation MAE: 0.9029\n"
     ]
    },
    {
     "name": "stderr",
     "output_type": "stream",
     "text": [
      "Training Epoch 862: 100%|██████████| 261/261 [00:02<00:00, 93.09it/s] \n",
      "Training Epoch 863: 100%|██████████| 261/261 [00:02<00:00, 92.10it/s] \n",
      "Training Epoch 864: 100%|██████████| 261/261 [00:02<00:00, 92.82it/s]\n",
      "Training Epoch 865: 100%|██████████| 261/261 [00:02<00:00, 90.38it/s]\n",
      "Training Epoch 866: 100%|██████████| 261/261 [00:02<00:00, 92.83it/s]\n",
      "Training Epoch 867: 100%|██████████| 261/261 [00:02<00:00, 90.06it/s]\n",
      "Training Epoch 868: 100%|██████████| 261/261 [00:02<00:00, 92.97it/s]\n",
      "Training Epoch 869: 100%|██████████| 261/261 [00:02<00:00, 97.51it/s] \n",
      "Training Epoch 870: 100%|██████████| 261/261 [00:02<00:00, 87.75it/s]\n",
      "Training Epoch 871: 100%|██████████| 261/261 [00:02<00:00, 87.90it/s]\n"
     ]
    },
    {
     "name": "stdout",
     "output_type": "stream",
     "text": [
      "Epoch 870 - Train Loss: 0.0782, Train MSE: 0.0783, Train MAE: 0.2025\n",
      "Epoch 870 - Validation Loss: 1.5400, Validation MSE: 1.5416, Validation MAE: 0.8998\n"
     ]
    },
    {
     "name": "stderr",
     "output_type": "stream",
     "text": [
      "Training Epoch 872: 100%|██████████| 261/261 [00:02<00:00, 91.41it/s]\n",
      "Training Epoch 873: 100%|██████████| 261/261 [00:02<00:00, 90.58it/s] \n",
      "Training Epoch 874: 100%|██████████| 261/261 [00:02<00:00, 94.48it/s] \n",
      "Training Epoch 875: 100%|██████████| 261/261 [00:02<00:00, 90.92it/s]\n",
      "Training Epoch 876: 100%|██████████| 261/261 [00:02<00:00, 92.21it/s]\n",
      "Training Epoch 877: 100%|██████████| 261/261 [00:02<00:00, 94.22it/s]\n",
      "Training Epoch 878: 100%|██████████| 261/261 [00:02<00:00, 93.91it/s]\n",
      "Training Epoch 879: 100%|██████████| 261/261 [00:03<00:00, 85.58it/s]\n",
      "Training Epoch 880: 100%|██████████| 261/261 [00:03<00:00, 84.92it/s]\n",
      "Training Epoch 881: 100%|██████████| 261/261 [00:02<00:00, 91.23it/s]\n"
     ]
    },
    {
     "name": "stdout",
     "output_type": "stream",
     "text": [
      "Epoch 880 - Train Loss: 0.0758, Train MSE: 0.0758, Train MAE: 0.2020\n",
      "Epoch 880 - Validation Loss: 1.5498, Validation MSE: 1.5514, Validation MAE: 0.8965\n"
     ]
    },
    {
     "name": "stderr",
     "output_type": "stream",
     "text": [
      "Training Epoch 882: 100%|██████████| 261/261 [00:02<00:00, 87.33it/s]\n",
      "Training Epoch 883: 100%|██████████| 261/261 [00:02<00:00, 92.57it/s]\n",
      "Training Epoch 884: 100%|██████████| 261/261 [00:02<00:00, 87.37it/s]\n",
      "Training Epoch 885: 100%|██████████| 261/261 [00:03<00:00, 85.08it/s]\n",
      "Training Epoch 886: 100%|██████████| 261/261 [00:02<00:00, 88.08it/s]\n",
      "Training Epoch 887: 100%|██████████| 261/261 [00:03<00:00, 77.81it/s]\n",
      "Training Epoch 888: 100%|██████████| 261/261 [00:03<00:00, 82.97it/s]\n",
      "Training Epoch 889: 100%|██████████| 261/261 [00:03<00:00, 78.78it/s]\n",
      "Training Epoch 890: 100%|██████████| 261/261 [00:03<00:00, 75.51it/s]\n",
      "Training Epoch 891: 100%|██████████| 261/261 [00:03<00:00, 83.23it/s]\n"
     ]
    },
    {
     "name": "stdout",
     "output_type": "stream",
     "text": [
      "Epoch 890 - Train Loss: 0.0757, Train MSE: 0.0756, Train MAE: 0.1996\n",
      "Epoch 890 - Validation Loss: 1.5392, Validation MSE: 1.5408, Validation MAE: 0.8969\n"
     ]
    },
    {
     "name": "stderr",
     "output_type": "stream",
     "text": [
      "Training Epoch 892: 100%|██████████| 261/261 [00:03<00:00, 79.01it/s]\n",
      "Training Epoch 893: 100%|██████████| 261/261 [00:03<00:00, 84.62it/s]\n",
      "Training Epoch 894: 100%|██████████| 261/261 [00:03<00:00, 82.55it/s]\n",
      "Training Epoch 895: 100%|██████████| 261/261 [00:02<00:00, 90.29it/s]\n",
      "Training Epoch 896: 100%|██████████| 261/261 [00:02<00:00, 88.45it/s]\n",
      "Training Epoch 897: 100%|██████████| 261/261 [00:02<00:00, 95.55it/s] \n",
      "Training Epoch 898: 100%|██████████| 261/261 [00:03<00:00, 82.50it/s]\n",
      "Training Epoch 899: 100%|██████████| 261/261 [00:04<00:00, 54.33it/s]\n",
      "Training Epoch 900: 100%|██████████| 261/261 [00:03<00:00, 66.65it/s]\n",
      "Training Epoch 901: 100%|██████████| 261/261 [00:04<00:00, 61.75it/s]\n"
     ]
    },
    {
     "name": "stdout",
     "output_type": "stream",
     "text": [
      "Epoch 900 - Train Loss: 0.0773, Train MSE: 0.0773, Train MAE: 0.2037\n",
      "Epoch 900 - Validation Loss: 1.5219, Validation MSE: 1.5235, Validation MAE: 0.8919\n"
     ]
    },
    {
     "name": "stderr",
     "output_type": "stream",
     "text": [
      "Training Epoch 902: 100%|██████████| 261/261 [00:03<00:00, 78.32it/s]\n",
      "Training Epoch 903: 100%|██████████| 261/261 [00:02<00:00, 90.48it/s]\n",
      "Training Epoch 904: 100%|██████████| 261/261 [00:03<00:00, 86.04it/s]\n",
      "Training Epoch 905: 100%|██████████| 261/261 [00:02<00:00, 89.56it/s]\n",
      "Training Epoch 906: 100%|██████████| 261/261 [00:03<00:00, 82.71it/s]\n",
      "Training Epoch 907: 100%|██████████| 261/261 [00:03<00:00, 85.61it/s] \n",
      "Training Epoch 908: 100%|██████████| 261/261 [00:02<00:00, 91.73it/s] \n",
      "Training Epoch 909: 100%|██████████| 261/261 [00:02<00:00, 93.84it/s] \n",
      "Training Epoch 910: 100%|██████████| 261/261 [00:02<00:00, 92.77it/s]\n",
      "Training Epoch 911: 100%|██████████| 261/261 [00:02<00:00, 90.97it/s] \n"
     ]
    },
    {
     "name": "stdout",
     "output_type": "stream",
     "text": [
      "Epoch 910 - Train Loss: 0.0744, Train MSE: 0.0744, Train MAE: 0.1989\n",
      "Epoch 910 - Validation Loss: 1.5247, Validation MSE: 1.5263, Validation MAE: 0.8917\n"
     ]
    },
    {
     "name": "stderr",
     "output_type": "stream",
     "text": [
      "Training Epoch 912: 100%|██████████| 261/261 [00:03<00:00, 85.73it/s]\n",
      "Training Epoch 913: 100%|██████████| 261/261 [00:03<00:00, 81.72it/s]\n",
      "Training Epoch 914: 100%|██████████| 261/261 [00:03<00:00, 86.88it/s]\n",
      "Training Epoch 915: 100%|██████████| 261/261 [00:02<00:00, 87.89it/s] \n",
      "Training Epoch 916: 100%|██████████| 261/261 [00:03<00:00, 75.39it/s]\n",
      "Training Epoch 917: 100%|██████████| 261/261 [00:03<00:00, 84.55it/s]\n",
      "Training Epoch 918: 100%|██████████| 261/261 [00:02<00:00, 91.65it/s]\n",
      "Training Epoch 919: 100%|██████████| 261/261 [00:02<00:00, 91.01it/s]\n",
      "Training Epoch 920: 100%|██████████| 261/261 [00:02<00:00, 89.93it/s] \n",
      "Training Epoch 921: 100%|██████████| 261/261 [00:02<00:00, 94.46it/s]\n"
     ]
    },
    {
     "name": "stdout",
     "output_type": "stream",
     "text": [
      "Epoch 920 - Train Loss: 0.0730, Train MSE: 0.0730, Train MAE: 0.1970\n",
      "Epoch 920 - Validation Loss: 1.5354, Validation MSE: 1.5370, Validation MAE: 0.8960\n"
     ]
    },
    {
     "name": "stderr",
     "output_type": "stream",
     "text": [
      "Training Epoch 922: 100%|██████████| 261/261 [00:02<00:00, 93.07it/s]\n",
      "Training Epoch 923: 100%|██████████| 261/261 [00:02<00:00, 89.08it/s] \n",
      "Training Epoch 924: 100%|██████████| 261/261 [00:02<00:00, 90.18it/s]\n",
      "Training Epoch 925: 100%|██████████| 261/261 [00:02<00:00, 87.01it/s]\n",
      "Training Epoch 926: 100%|██████████| 261/261 [00:03<00:00, 75.05it/s]\n",
      "Training Epoch 927: 100%|██████████| 261/261 [00:03<00:00, 82.91it/s]\n",
      "Training Epoch 928: 100%|██████████| 261/261 [00:02<00:00, 89.97it/s] \n",
      "Training Epoch 929: 100%|██████████| 261/261 [00:02<00:00, 89.28it/s]\n",
      "Training Epoch 930: 100%|██████████| 261/261 [00:03<00:00, 85.47it/s]\n",
      "Training Epoch 931: 100%|██████████| 261/261 [00:02<00:00, 89.36it/s]\n"
     ]
    },
    {
     "name": "stdout",
     "output_type": "stream",
     "text": [
      "Epoch 930 - Train Loss: 0.0744, Train MSE: 0.0744, Train MAE: 0.1968\n",
      "Epoch 930 - Validation Loss: 1.5219, Validation MSE: 1.5235, Validation MAE: 0.8918\n"
     ]
    },
    {
     "name": "stderr",
     "output_type": "stream",
     "text": [
      "Training Epoch 932: 100%|██████████| 261/261 [00:02<00:00, 91.23it/s]\n",
      "Training Epoch 933: 100%|██████████| 261/261 [00:02<00:00, 94.54it/s] \n",
      "Training Epoch 934: 100%|██████████| 261/261 [00:02<00:00, 92.49it/s]\n",
      "Training Epoch 935: 100%|██████████| 261/261 [00:02<00:00, 89.80it/s]\n",
      "Training Epoch 936: 100%|██████████| 261/261 [00:03<00:00, 84.07it/s]\n",
      "Training Epoch 937: 100%|██████████| 261/261 [00:02<00:00, 87.15it/s] \n",
      "Training Epoch 938: 100%|██████████| 261/261 [00:02<00:00, 89.53it/s]\n",
      "Training Epoch 939: 100%|██████████| 261/261 [00:02<00:00, 90.78it/s] \n",
      "Training Epoch 940: 100%|██████████| 261/261 [00:02<00:00, 93.21it/s]\n",
      "Training Epoch 941: 100%|██████████| 261/261 [00:02<00:00, 94.79it/s] \n"
     ]
    },
    {
     "name": "stdout",
     "output_type": "stream",
     "text": [
      "Epoch 940 - Train Loss: 0.0732, Train MSE: 0.0732, Train MAE: 0.1958\n",
      "Epoch 940 - Validation Loss: 1.5315, Validation MSE: 1.5331, Validation MAE: 0.8938\n"
     ]
    },
    {
     "name": "stderr",
     "output_type": "stream",
     "text": [
      "Training Epoch 942: 100%|██████████| 261/261 [00:03<00:00, 86.35it/s]\n",
      "Training Epoch 943: 100%|██████████| 261/261 [00:02<00:00, 90.74it/s]\n",
      "Training Epoch 944: 100%|██████████| 261/261 [00:02<00:00, 89.66it/s]\n",
      "Training Epoch 945: 100%|██████████| 261/261 [00:03<00:00, 76.26it/s]\n",
      "Training Epoch 946: 100%|██████████| 261/261 [00:02<00:00, 88.72it/s]\n",
      "Training Epoch 947: 100%|██████████| 261/261 [00:02<00:00, 90.04it/s] \n",
      "Training Epoch 948: 100%|██████████| 261/261 [00:03<00:00, 86.97it/s]\n",
      "Training Epoch 949: 100%|██████████| 261/261 [00:03<00:00, 83.34it/s]\n",
      "Training Epoch 950: 100%|██████████| 261/261 [00:03<00:00, 81.76it/s]\n",
      "Training Epoch 951: 100%|██████████| 261/261 [00:03<00:00, 85.29it/s] \n"
     ]
    },
    {
     "name": "stdout",
     "output_type": "stream",
     "text": [
      "Epoch 950 - Train Loss: 0.0745, Train MSE: 0.0745, Train MAE: 0.1978\n",
      "Epoch 950 - Validation Loss: 1.5167, Validation MSE: 1.5184, Validation MAE: 0.8912\n"
     ]
    },
    {
     "name": "stderr",
     "output_type": "stream",
     "text": [
      "Training Epoch 952: 100%|██████████| 261/261 [00:03<00:00, 78.25it/s]\n",
      "Training Epoch 953: 100%|██████████| 261/261 [00:03<00:00, 81.95it/s]\n",
      "Training Epoch 954: 100%|██████████| 261/261 [00:03<00:00, 80.82it/s]\n",
      "Training Epoch 955: 100%|██████████| 261/261 [00:02<00:00, 87.88it/s]\n",
      "Training Epoch 956: 100%|██████████| 261/261 [00:02<00:00, 87.68it/s]\n",
      "Training Epoch 957: 100%|██████████| 261/261 [00:03<00:00, 85.65it/s] \n",
      "Training Epoch 958: 100%|██████████| 261/261 [00:03<00:00, 85.66it/s]\n",
      "Training Epoch 959: 100%|██████████| 261/261 [00:03<00:00, 84.38it/s]\n",
      "Training Epoch 960: 100%|██████████| 261/261 [00:02<00:00, 91.60it/s]\n",
      "Training Epoch 961: 100%|██████████| 261/261 [00:02<00:00, 90.95it/s]\n"
     ]
    },
    {
     "name": "stdout",
     "output_type": "stream",
     "text": [
      "Epoch 960 - Train Loss: 0.0715, Train MSE: 0.0715, Train MAE: 0.1932\n",
      "Epoch 960 - Validation Loss: 1.5363, Validation MSE: 1.5379, Validation MAE: 0.8941\n"
     ]
    },
    {
     "name": "stderr",
     "output_type": "stream",
     "text": [
      "Training Epoch 962: 100%|██████████| 261/261 [00:02<00:00, 88.99it/s]\n",
      "Training Epoch 963: 100%|██████████| 261/261 [00:03<00:00, 70.37it/s]\n",
      "Training Epoch 964: 100%|██████████| 261/261 [00:03<00:00, 79.10it/s]\n",
      "Training Epoch 965: 100%|██████████| 261/261 [00:03<00:00, 69.72it/s]\n",
      "Training Epoch 966: 100%|██████████| 261/261 [00:03<00:00, 78.57it/s]\n",
      "Training Epoch 967: 100%|██████████| 261/261 [00:03<00:00, 78.52it/s]\n",
      "Training Epoch 968: 100%|██████████| 261/261 [00:03<00:00, 84.78it/s]\n",
      "Training Epoch 969: 100%|██████████| 261/261 [00:02<00:00, 92.40it/s]\n",
      "Training Epoch 970: 100%|██████████| 261/261 [00:02<00:00, 87.81it/s]\n",
      "Training Epoch 971: 100%|██████████| 261/261 [00:02<00:00, 90.53it/s]\n"
     ]
    },
    {
     "name": "stdout",
     "output_type": "stream",
     "text": [
      "Epoch 970 - Train Loss: 0.0702, Train MSE: 0.0702, Train MAE: 0.1933\n",
      "Epoch 970 - Validation Loss: 1.5440, Validation MSE: 1.5455, Validation MAE: 0.8973\n"
     ]
    },
    {
     "name": "stderr",
     "output_type": "stream",
     "text": [
      "Training Epoch 972: 100%|██████████| 261/261 [00:03<00:00, 79.60it/s]\n",
      "Training Epoch 973: 100%|██████████| 261/261 [00:03<00:00, 82.30it/s]\n",
      "Training Epoch 974: 100%|██████████| 261/261 [00:02<00:00, 87.65it/s]\n",
      "Training Epoch 975: 100%|██████████| 261/261 [00:03<00:00, 85.42it/s]\n",
      "Training Epoch 976: 100%|██████████| 261/261 [00:03<00:00, 76.63it/s]\n",
      "Training Epoch 977: 100%|██████████| 261/261 [00:03<00:00, 76.81it/s]\n",
      "Training Epoch 978: 100%|██████████| 261/261 [00:02<00:00, 93.24it/s]\n",
      "Training Epoch 979: 100%|██████████| 261/261 [00:02<00:00, 92.09it/s]\n",
      "Training Epoch 980: 100%|██████████| 261/261 [00:02<00:00, 94.56it/s] \n",
      "Training Epoch 981: 100%|██████████| 261/261 [00:03<00:00, 83.87it/s] \n"
     ]
    },
    {
     "name": "stdout",
     "output_type": "stream",
     "text": [
      "Epoch 980 - Train Loss: 0.0684, Train MSE: 0.0684, Train MAE: 0.1890\n",
      "Epoch 980 - Validation Loss: 1.5362, Validation MSE: 1.5377, Validation MAE: 0.8970\n"
     ]
    },
    {
     "name": "stderr",
     "output_type": "stream",
     "text": [
      "Training Epoch 982: 100%|██████████| 261/261 [00:03<00:00, 78.03it/s]\n",
      "Training Epoch 983: 100%|██████████| 261/261 [00:03<00:00, 81.48it/s]\n",
      "Training Epoch 984: 100%|██████████| 261/261 [00:03<00:00, 83.98it/s]\n",
      "Training Epoch 985: 100%|██████████| 261/261 [00:03<00:00, 84.21it/s]\n",
      "Training Epoch 986: 100%|██████████| 261/261 [00:02<00:00, 90.71it/s]\n",
      "Training Epoch 987: 100%|██████████| 261/261 [00:02<00:00, 88.41it/s] \n",
      "Training Epoch 988: 100%|██████████| 261/261 [00:03<00:00, 79.35it/s]\n",
      "Training Epoch 989: 100%|██████████| 261/261 [00:02<00:00, 89.06it/s]\n",
      "Training Epoch 990: 100%|██████████| 261/261 [00:03<00:00, 83.72it/s]\n",
      "Training Epoch 991: 100%|██████████| 261/261 [00:03<00:00, 77.04it/s]\n"
     ]
    },
    {
     "name": "stdout",
     "output_type": "stream",
     "text": [
      "Epoch 990 - Train Loss: 0.0686, Train MSE: 0.0686, Train MAE: 0.1910\n",
      "Epoch 990 - Validation Loss: 1.5310, Validation MSE: 1.5326, Validation MAE: 0.8937\n"
     ]
    },
    {
     "name": "stderr",
     "output_type": "stream",
     "text": [
      "Training Epoch 992: 100%|██████████| 261/261 [00:03<00:00, 77.94it/s]\n",
      "Training Epoch 993: 100%|██████████| 261/261 [00:02<00:00, 88.92it/s]\n",
      "Training Epoch 994: 100%|██████████| 261/261 [00:02<00:00, 93.92it/s]\n",
      "Training Epoch 995: 100%|██████████| 261/261 [00:02<00:00, 92.19it/s]\n",
      "Training Epoch 996: 100%|██████████| 261/261 [00:02<00:00, 95.58it/s] \n",
      "Training Epoch 997: 100%|██████████| 261/261 [00:02<00:00, 87.50it/s]\n",
      "Training Epoch 998: 100%|██████████| 261/261 [00:02<00:00, 94.04it/s] \n",
      "Training Epoch 999: 100%|██████████| 261/261 [00:02<00:00, 87.93it/s]\n",
      "Training Epoch 1000: 100%|██████████| 261/261 [00:03<00:00, 71.28it/s]\n",
      "Training Epoch 1001: 100%|██████████| 261/261 [00:02<00:00, 88.54it/s]\n"
     ]
    },
    {
     "name": "stdout",
     "output_type": "stream",
     "text": [
      "Epoch 1000 - Train Loss: 0.0717, Train MSE: 0.0717, Train MAE: 0.1935\n",
      "Epoch 1000 - Validation Loss: 1.5447, Validation MSE: 1.5463, Validation MAE: 0.8985\n"
     ]
    },
    {
     "name": "stderr",
     "output_type": "stream",
     "text": [
      "Training Epoch 1002: 100%|██████████| 261/261 [00:02<00:00, 92.60it/s] \n",
      "Training Epoch 1003: 100%|██████████| 261/261 [00:02<00:00, 89.56it/s]\n",
      "Training Epoch 1004: 100%|██████████| 261/261 [00:02<00:00, 93.36it/s]\n",
      "Training Epoch 1005: 100%|██████████| 261/261 [00:02<00:00, 91.93it/s]\n",
      "Training Epoch 1006: 100%|██████████| 261/261 [00:02<00:00, 92.10it/s]\n",
      "Training Epoch 1007: 100%|██████████| 261/261 [00:02<00:00, 89.41it/s]\n",
      "Training Epoch 1008: 100%|██████████| 261/261 [00:02<00:00, 91.05it/s]\n",
      "Training Epoch 1009: 100%|██████████| 261/261 [00:02<00:00, 87.40it/s]\n",
      "Training Epoch 1010: 100%|██████████| 261/261 [00:03<00:00, 84.08it/s]\n",
      "Training Epoch 1011: 100%|██████████| 261/261 [00:03<00:00, 85.72it/s]\n"
     ]
    },
    {
     "name": "stdout",
     "output_type": "stream",
     "text": [
      "Epoch 1010 - Train Loss: 0.0690, Train MSE: 0.0690, Train MAE: 0.1910\n",
      "Epoch 1010 - Validation Loss: 1.5305, Validation MSE: 1.5321, Validation MAE: 0.8957\n"
     ]
    },
    {
     "name": "stderr",
     "output_type": "stream",
     "text": [
      "Training Epoch 1012: 100%|██████████| 261/261 [00:02<00:00, 88.57it/s]\n",
      "Training Epoch 1013: 100%|██████████| 261/261 [00:02<00:00, 92.40it/s]\n",
      "Training Epoch 1014: 100%|██████████| 261/261 [00:02<00:00, 91.71it/s]\n",
      "Training Epoch 1015: 100%|██████████| 261/261 [00:02<00:00, 90.49it/s]\n",
      "Training Epoch 1016: 100%|██████████| 261/261 [00:02<00:00, 89.43it/s]\n",
      "Training Epoch 1017: 100%|██████████| 261/261 [00:03<00:00, 83.27it/s]\n",
      "Training Epoch 1018: 100%|██████████| 261/261 [00:02<00:00, 92.32it/s] \n",
      "Training Epoch 1019: 100%|██████████| 261/261 [00:03<00:00, 82.57it/s] \n",
      "Training Epoch 1020: 100%|██████████| 261/261 [00:03<00:00, 85.87it/s]\n",
      "Training Epoch 1021: 100%|██████████| 261/261 [00:03<00:00, 85.93it/s]\n"
     ]
    },
    {
     "name": "stdout",
     "output_type": "stream",
     "text": [
      "Epoch 1020 - Train Loss: 0.0719, Train MSE: 0.0719, Train MAE: 0.1929\n",
      "Epoch 1020 - Validation Loss: 1.5468, Validation MSE: 1.5485, Validation MAE: 0.8922\n"
     ]
    },
    {
     "name": "stderr",
     "output_type": "stream",
     "text": [
      "Training Epoch 1022: 100%|██████████| 261/261 [00:02<00:00, 89.50it/s]\n",
      "Training Epoch 1023: 100%|██████████| 261/261 [00:02<00:00, 89.27it/s]\n",
      "Training Epoch 1024: 100%|██████████| 261/261 [00:02<00:00, 92.11it/s]\n",
      "Training Epoch 1025: 100%|██████████| 261/261 [00:02<00:00, 94.11it/s] \n",
      "Training Epoch 1026: 100%|██████████| 261/261 [00:02<00:00, 89.17it/s]\n",
      "Training Epoch 1027: 100%|██████████| 261/261 [00:03<00:00, 86.38it/s]\n",
      "Training Epoch 1028: 100%|██████████| 261/261 [00:02<00:00, 91.39it/s]\n",
      "Training Epoch 1029: 100%|██████████| 261/261 [00:02<00:00, 90.18it/s]\n",
      "Training Epoch 1030: 100%|██████████| 261/261 [00:02<00:00, 92.01it/s]\n",
      "Training Epoch 1031: 100%|██████████| 261/261 [00:02<00:00, 88.37it/s]\n"
     ]
    },
    {
     "name": "stdout",
     "output_type": "stream",
     "text": [
      "Epoch 1030 - Train Loss: 0.0693, Train MSE: 0.0694, Train MAE: 0.1909\n",
      "Epoch 1030 - Validation Loss: 1.5410, Validation MSE: 1.5426, Validation MAE: 0.8985\n"
     ]
    },
    {
     "name": "stderr",
     "output_type": "stream",
     "text": [
      "Training Epoch 1032: 100%|██████████| 261/261 [00:02<00:00, 92.74it/s]\n",
      "Training Epoch 1033: 100%|██████████| 261/261 [00:02<00:00, 90.93it/s] \n",
      "Training Epoch 1034: 100%|██████████| 261/261 [00:03<00:00, 85.72it/s]\n",
      "Training Epoch 1035: 100%|██████████| 261/261 [00:03<00:00, 85.85it/s]\n",
      "Training Epoch 1036: 100%|██████████| 261/261 [00:02<00:00, 87.88it/s]\n",
      "Training Epoch 1037: 100%|██████████| 261/261 [00:02<00:00, 90.14it/s]\n",
      "Training Epoch 1038: 100%|██████████| 261/261 [00:03<00:00, 82.70it/s] \n",
      "Training Epoch 1039: 100%|██████████| 261/261 [00:03<00:00, 82.91it/s]\n",
      "Training Epoch 1040: 100%|██████████| 261/261 [00:02<00:00, 90.49it/s]\n",
      "Training Epoch 1041: 100%|██████████| 261/261 [00:02<00:00, 92.54it/s]\n"
     ]
    },
    {
     "name": "stdout",
     "output_type": "stream",
     "text": [
      "Epoch 1040 - Train Loss: 0.0668, Train MSE: 0.0668, Train MAE: 0.1865\n",
      "Epoch 1040 - Validation Loss: 1.5428, Validation MSE: 1.5444, Validation MAE: 0.8980\n"
     ]
    },
    {
     "name": "stderr",
     "output_type": "stream",
     "text": [
      "Training Epoch 1042: 100%|██████████| 261/261 [00:03<00:00, 86.87it/s]\n",
      "Training Epoch 1043: 100%|██████████| 261/261 [00:02<00:00, 88.40it/s]\n",
      "Training Epoch 1044: 100%|██████████| 261/261 [00:02<00:00, 91.63it/s]\n",
      "Training Epoch 1045: 100%|██████████| 261/261 [00:02<00:00, 91.61it/s]\n",
      "Training Epoch 1046: 100%|██████████| 261/261 [00:02<00:00, 90.22it/s]\n",
      "Training Epoch 1047: 100%|██████████| 261/261 [00:02<00:00, 97.57it/s] \n",
      "Training Epoch 1048: 100%|██████████| 261/261 [00:02<00:00, 91.22it/s]\n",
      "Training Epoch 1049: 100%|██████████| 261/261 [00:02<00:00, 90.57it/s]\n",
      "Training Epoch 1050: 100%|██████████| 261/261 [00:02<00:00, 88.41it/s]\n",
      "Training Epoch 1051: 100%|██████████| 261/261 [00:02<00:00, 87.22it/s]\n"
     ]
    },
    {
     "name": "stdout",
     "output_type": "stream",
     "text": [
      "Epoch 1050 - Train Loss: 0.0682, Train MSE: 0.0682, Train MAE: 0.1878\n",
      "Epoch 1050 - Validation Loss: 1.5534, Validation MSE: 1.5551, Validation MAE: 0.8992\n"
     ]
    },
    {
     "name": "stderr",
     "output_type": "stream",
     "text": [
      "Training Epoch 1052: 100%|██████████| 261/261 [00:02<00:00, 90.07it/s]\n",
      "Training Epoch 1053: 100%|██████████| 261/261 [00:02<00:00, 89.55it/s]\n",
      "Training Epoch 1054: 100%|██████████| 261/261 [00:02<00:00, 92.70it/s] \n",
      "Training Epoch 1055: 100%|██████████| 261/261 [00:02<00:00, 89.78it/s]\n",
      "Training Epoch 1056: 100%|██████████| 261/261 [00:02<00:00, 93.90it/s] \n",
      "Training Epoch 1057: 100%|██████████| 261/261 [00:02<00:00, 93.64it/s]\n",
      "Training Epoch 1058: 100%|██████████| 261/261 [00:03<00:00, 74.32it/s]\n",
      "Training Epoch 1059: 100%|██████████| 261/261 [00:03<00:00, 86.57it/s]\n",
      "Training Epoch 1060: 100%|██████████| 261/261 [00:02<00:00, 92.58it/s] \n",
      "Training Epoch 1061: 100%|██████████| 261/261 [00:02<00:00, 93.11it/s] \n"
     ]
    },
    {
     "name": "stdout",
     "output_type": "stream",
     "text": [
      "Epoch 1060 - Train Loss: 0.0683, Train MSE: 0.0683, Train MAE: 0.1874\n",
      "Epoch 1060 - Validation Loss: 1.5302, Validation MSE: 1.5318, Validation MAE: 0.8954\n"
     ]
    },
    {
     "name": "stderr",
     "output_type": "stream",
     "text": [
      "Training Epoch 1062: 100%|██████████| 261/261 [00:02<00:00, 94.71it/s]\n",
      "Training Epoch 1063: 100%|██████████| 261/261 [00:02<00:00, 93.51it/s] \n",
      "Training Epoch 1064: 100%|██████████| 261/261 [00:02<00:00, 92.11it/s] \n",
      "Training Epoch 1065: 100%|██████████| 261/261 [00:02<00:00, 92.89it/s]\n",
      "Training Epoch 1066: 100%|██████████| 261/261 [00:02<00:00, 88.63it/s]\n",
      "Training Epoch 1067: 100%|██████████| 261/261 [00:03<00:00, 85.67it/s]\n",
      "Training Epoch 1068: 100%|██████████| 261/261 [00:02<00:00, 90.56it/s]\n",
      "Training Epoch 1069: 100%|██████████| 261/261 [00:03<00:00, 79.80it/s]\n",
      "Training Epoch 1070: 100%|██████████| 261/261 [00:02<00:00, 91.11it/s]\n",
      "Training Epoch 1071: 100%|██████████| 261/261 [00:02<00:00, 92.91it/s] \n"
     ]
    },
    {
     "name": "stdout",
     "output_type": "stream",
     "text": [
      "Epoch 1070 - Train Loss: 0.0676, Train MSE: 0.0676, Train MAE: 0.1876\n",
      "Epoch 1070 - Validation Loss: 1.5525, Validation MSE: 1.5541, Validation MAE: 0.8945\n"
     ]
    },
    {
     "name": "stderr",
     "output_type": "stream",
     "text": [
      "Training Epoch 1072: 100%|██████████| 261/261 [00:02<00:00, 87.36it/s]\n",
      "Training Epoch 1073: 100%|██████████| 261/261 [00:02<00:00, 90.12it/s] \n",
      "Training Epoch 1074: 100%|██████████| 261/261 [00:02<00:00, 89.51it/s]\n",
      "Training Epoch 1075: 100%|██████████| 261/261 [00:02<00:00, 91.85it/s]\n",
      "Training Epoch 1076: 100%|██████████| 261/261 [00:03<00:00, 84.29it/s]\n",
      "Training Epoch 1077: 100%|██████████| 261/261 [00:03<00:00, 80.07it/s]\n",
      "Training Epoch 1078: 100%|██████████| 261/261 [00:03<00:00, 76.08it/s]\n",
      "Training Epoch 1079: 100%|██████████| 261/261 [00:02<00:00, 88.63it/s]\n",
      "Training Epoch 1080: 100%|██████████| 261/261 [00:03<00:00, 84.58it/s]\n",
      "Training Epoch 1081: 100%|██████████| 261/261 [00:03<00:00, 68.73it/s]\n"
     ]
    },
    {
     "name": "stdout",
     "output_type": "stream",
     "text": [
      "Epoch 1080 - Train Loss: 0.0669, Train MSE: 0.0669, Train MAE: 0.1863\n",
      "Epoch 1080 - Validation Loss: 1.5373, Validation MSE: 1.5389, Validation MAE: 0.8946\n"
     ]
    },
    {
     "name": "stderr",
     "output_type": "stream",
     "text": [
      "Training Epoch 1082: 100%|██████████| 261/261 [00:03<00:00, 83.65it/s]\n",
      "Training Epoch 1083: 100%|██████████| 261/261 [00:02<00:00, 88.55it/s]\n",
      "Training Epoch 1084: 100%|██████████| 261/261 [00:02<00:00, 90.66it/s]\n",
      "Training Epoch 1085: 100%|██████████| 261/261 [00:02<00:00, 90.96it/s]\n",
      "Training Epoch 1086: 100%|██████████| 261/261 [00:03<00:00, 86.57it/s]\n",
      "Training Epoch 1087: 100%|██████████| 261/261 [00:02<00:00, 91.48it/s]\n",
      "Training Epoch 1088: 100%|██████████| 261/261 [00:02<00:00, 88.72it/s]\n",
      "Training Epoch 1089: 100%|██████████| 261/261 [00:03<00:00, 82.70it/s]\n",
      "Training Epoch 1090: 100%|██████████| 261/261 [00:03<00:00, 86.82it/s]\n",
      "Training Epoch 1091: 100%|██████████| 261/261 [00:02<00:00, 90.83it/s] \n"
     ]
    },
    {
     "name": "stdout",
     "output_type": "stream",
     "text": [
      "Epoch 1090 - Train Loss: 0.0674, Train MSE: 0.0674, Train MAE: 0.1868\n",
      "Epoch 1090 - Validation Loss: 1.5605, Validation MSE: 1.5622, Validation MAE: 0.9012\n"
     ]
    },
    {
     "name": "stderr",
     "output_type": "stream",
     "text": [
      "Training Epoch 1092: 100%|██████████| 261/261 [00:03<00:00, 86.98it/s]\n",
      "Training Epoch 1093: 100%|██████████| 261/261 [00:02<00:00, 94.88it/s]\n",
      "Training Epoch 1094: 100%|██████████| 261/261 [00:02<00:00, 88.44it/s]\n",
      "Training Epoch 1095: 100%|██████████| 261/261 [00:02<00:00, 87.56it/s]\n",
      "Training Epoch 1096: 100%|██████████| 261/261 [00:03<00:00, 73.93it/s]\n",
      "Training Epoch 1097: 100%|██████████| 261/261 [00:03<00:00, 83.99it/s]\n",
      "Training Epoch 1098: 100%|██████████| 261/261 [00:02<00:00, 88.67it/s]\n",
      "Training Epoch 1099: 100%|██████████| 261/261 [00:02<00:00, 89.66it/s]\n",
      "Training Epoch 1100: 100%|██████████| 261/261 [00:03<00:00, 84.39it/s]\n",
      "Training Epoch 1101: 100%|██████████| 261/261 [00:02<00:00, 90.08it/s] \n"
     ]
    },
    {
     "name": "stdout",
     "output_type": "stream",
     "text": [
      "Epoch 1100 - Train Loss: 0.0685, Train MSE: 0.0685, Train MAE: 0.1894\n",
      "Epoch 1100 - Validation Loss: 1.5231, Validation MSE: 1.5248, Validation MAE: 0.8914\n"
     ]
    },
    {
     "name": "stderr",
     "output_type": "stream",
     "text": [
      "Training Epoch 1102: 100%|██████████| 261/261 [00:02<00:00, 91.53it/s]\n",
      "Training Epoch 1103: 100%|██████████| 261/261 [00:03<00:00, 83.03it/s]\n",
      "Training Epoch 1104: 100%|██████████| 261/261 [00:03<00:00, 83.09it/s]\n",
      "Training Epoch 1105: 100%|██████████| 261/261 [00:03<00:00, 86.18it/s]\n",
      "Training Epoch 1106: 100%|██████████| 261/261 [00:03<00:00, 85.67it/s]\n",
      "Training Epoch 1107: 100%|██████████| 261/261 [00:02<00:00, 89.98it/s]\n",
      "Training Epoch 1108: 100%|██████████| 261/261 [00:02<00:00, 91.17it/s]\n",
      "Training Epoch 1109: 100%|██████████| 261/261 [00:02<00:00, 89.86it/s]\n",
      "Training Epoch 1110: 100%|██████████| 261/261 [00:03<00:00, 85.75it/s]\n",
      "Training Epoch 1111: 100%|██████████| 261/261 [00:03<00:00, 86.54it/s]\n"
     ]
    },
    {
     "name": "stdout",
     "output_type": "stream",
     "text": [
      "Epoch 1110 - Train Loss: 0.0671, Train MSE: 0.0671, Train MAE: 0.1874\n",
      "Epoch 1110 - Validation Loss: 1.5350, Validation MSE: 1.5366, Validation MAE: 0.8932\n"
     ]
    },
    {
     "name": "stderr",
     "output_type": "stream",
     "text": [
      "Training Epoch 1112: 100%|██████████| 261/261 [00:02<00:00, 90.90it/s] \n",
      "Training Epoch 1113: 100%|██████████| 261/261 [00:02<00:00, 93.17it/s]\n",
      "Training Epoch 1114: 100%|██████████| 261/261 [00:02<00:00, 89.02it/s]\n",
      "Training Epoch 1115: 100%|██████████| 261/261 [00:03<00:00, 78.85it/s]\n",
      "Training Epoch 1116: 100%|██████████| 261/261 [00:03<00:00, 82.28it/s]\n",
      "Training Epoch 1117: 100%|██████████| 261/261 [00:02<00:00, 87.16it/s]\n",
      "Training Epoch 1118: 100%|██████████| 261/261 [00:03<00:00, 86.69it/s]\n",
      "Training Epoch 1119: 100%|██████████| 261/261 [00:03<00:00, 85.25it/s]\n",
      "Training Epoch 1120: 100%|██████████| 261/261 [00:02<00:00, 92.48it/s]\n",
      "Training Epoch 1121: 100%|██████████| 261/261 [00:02<00:00, 93.34it/s] \n"
     ]
    },
    {
     "name": "stdout",
     "output_type": "stream",
     "text": [
      "Epoch 1120 - Train Loss: 0.0637, Train MSE: 0.0637, Train MAE: 0.1823\n",
      "Epoch 1120 - Validation Loss: 1.5379, Validation MSE: 1.5396, Validation MAE: 0.8951\n"
     ]
    },
    {
     "name": "stderr",
     "output_type": "stream",
     "text": [
      "Training Epoch 1122: 100%|██████████| 261/261 [00:02<00:00, 89.36it/s]\n",
      "Training Epoch 1123: 100%|██████████| 261/261 [00:03<00:00, 82.51it/s]\n",
      "Training Epoch 1124: 100%|██████████| 261/261 [00:03<00:00, 79.91it/s]\n",
      "Training Epoch 1125: 100%|██████████| 261/261 [00:03<00:00, 78.19it/s]\n",
      "Training Epoch 1126: 100%|██████████| 261/261 [00:04<00:00, 59.96it/s] \n",
      "Training Epoch 1127: 100%|██████████| 261/261 [00:02<00:00, 89.22it/s] \n",
      "Training Epoch 1128: 100%|██████████| 261/261 [00:07<00:00, 33.00it/s]\n",
      "Training Epoch 1129: 100%|██████████| 261/261 [00:02<00:00, 96.88it/s] \n",
      "Training Epoch 1130: 100%|██████████| 261/261 [00:02<00:00, 94.11it/s] \n",
      "Training Epoch 1131: 100%|██████████| 261/261 [00:03<00:00, 82.84it/s]\n"
     ]
    },
    {
     "name": "stdout",
     "output_type": "stream",
     "text": [
      "Epoch 1130 - Train Loss: 0.0655, Train MSE: 0.0655, Train MAE: 0.1862\n",
      "Epoch 1130 - Validation Loss: 1.5499, Validation MSE: 1.5516, Validation MAE: 0.8958\n"
     ]
    },
    {
     "name": "stderr",
     "output_type": "stream",
     "text": [
      "Training Epoch 1132: 100%|██████████| 261/261 [00:03<00:00, 82.68it/s]\n",
      "Training Epoch 1133: 100%|██████████| 261/261 [00:03<00:00, 83.35it/s]\n",
      "Training Epoch 1134: 100%|██████████| 261/261 [00:02<00:00, 93.91it/s]\n",
      "Training Epoch 1135: 100%|██████████| 261/261 [00:02<00:00, 93.89it/s]\n",
      "Training Epoch 1136: 100%|██████████| 261/261 [00:02<00:00, 90.37it/s]\n",
      "Training Epoch 1137: 100%|██████████| 261/261 [00:02<00:00, 92.64it/s]\n",
      "Training Epoch 1138: 100%|██████████| 261/261 [00:02<00:00, 87.57it/s]\n",
      "Training Epoch 1139: 100%|██████████| 261/261 [00:02<00:00, 94.09it/s]\n",
      "Training Epoch 1140: 100%|██████████| 261/261 [00:10<00:00, 24.12it/s]\n",
      "Training Epoch 1141: 100%|██████████| 261/261 [00:02<00:00, 93.43it/s] \n"
     ]
    },
    {
     "name": "stdout",
     "output_type": "stream",
     "text": [
      "Epoch 1140 - Train Loss: 0.0651, Train MSE: 0.0651, Train MAE: 0.1830\n",
      "Epoch 1140 - Validation Loss: 1.5450, Validation MSE: 1.5468, Validation MAE: 0.9002\n"
     ]
    },
    {
     "name": "stderr",
     "output_type": "stream",
     "text": [
      "Training Epoch 1142: 100%|██████████| 261/261 [00:07<00:00, 33.33it/s]\n",
      "Training Epoch 1143: 100%|██████████| 261/261 [00:02<00:00, 97.27it/s] \n",
      "Training Epoch 1144: 100%|██████████| 261/261 [00:02<00:00, 94.34it/s]\n",
      "Training Epoch 1145: 100%|██████████| 261/261 [00:02<00:00, 93.84it/s]\n",
      "Training Epoch 1146: 100%|██████████| 261/261 [00:02<00:00, 89.37it/s]\n",
      "Training Epoch 1147: 100%|██████████| 261/261 [00:02<00:00, 92.99it/s] \n",
      "Training Epoch 1148: 100%|██████████| 261/261 [00:02<00:00, 94.79it/s] \n",
      "Training Epoch 1149: 100%|██████████| 261/261 [00:02<00:00, 92.70it/s]\n",
      "Training Epoch 1150: 100%|██████████| 261/261 [00:02<00:00, 88.45it/s]\n",
      "Training Epoch 1151: 100%|██████████| 261/261 [00:02<00:00, 93.88it/s]\n"
     ]
    },
    {
     "name": "stdout",
     "output_type": "stream",
     "text": [
      "Epoch 1150 - Train Loss: 0.0657, Train MSE: 0.0657, Train MAE: 0.1825\n",
      "Epoch 1150 - Validation Loss: 1.5415, Validation MSE: 1.5432, Validation MAE: 0.8965\n"
     ]
    },
    {
     "name": "stderr",
     "output_type": "stream",
     "text": [
      "Training Epoch 1152: 100%|██████████| 261/261 [00:02<00:00, 87.73it/s]\n",
      "Training Epoch 1153: 100%|██████████| 261/261 [00:02<00:00, 91.22it/s]\n",
      "Training Epoch 1154: 100%|██████████| 261/261 [00:06<00:00, 38.40it/s]\n",
      "Training Epoch 1155: 100%|██████████| 261/261 [00:02<00:00, 91.16it/s]\n",
      "Training Epoch 1156: 100%|██████████| 261/261 [00:07<00:00, 33.76it/s]\n",
      "Training Epoch 1157: 100%|██████████| 261/261 [00:02<00:00, 89.18it/s]\n",
      "Training Epoch 1158: 100%|██████████| 261/261 [00:02<00:00, 88.55it/s]\n",
      "Training Epoch 1159: 100%|██████████| 261/261 [00:02<00:00, 92.25it/s]\n",
      "Training Epoch 1160: 100%|██████████| 261/261 [00:02<00:00, 94.66it/s]\n",
      "Training Epoch 1161: 100%|██████████| 261/261 [00:03<00:00, 83.90it/s]\n"
     ]
    },
    {
     "name": "stdout",
     "output_type": "stream",
     "text": [
      "Epoch 1160 - Train Loss: 0.0632, Train MSE: 0.0632, Train MAE: 0.1802\n",
      "Epoch 1160 - Validation Loss: 1.5209, Validation MSE: 1.5226, Validation MAE: 0.8859\n"
     ]
    },
    {
     "name": "stderr",
     "output_type": "stream",
     "text": [
      "Training Epoch 1162: 100%|██████████| 261/261 [00:03<00:00, 77.69it/s]\n",
      "Training Epoch 1163: 100%|██████████| 261/261 [00:03<00:00, 85.91it/s]\n",
      "Training Epoch 1164: 100%|██████████| 261/261 [00:02<00:00, 90.27it/s]\n",
      "Training Epoch 1165: 100%|██████████| 261/261 [00:03<00:00, 83.88it/s]\n",
      "Training Epoch 1166: 100%|██████████| 261/261 [00:03<00:00, 83.76it/s]\n",
      "Training Epoch 1167: 100%|██████████| 261/261 [00:15<00:00, 16.62it/s]\n",
      "Training Epoch 1168: 100%|██████████| 261/261 [00:03<00:00, 80.79it/s]\n",
      "Training Epoch 1169: 100%|██████████| 261/261 [00:07<00:00, 33.09it/s]\n",
      "Training Epoch 1170: 100%|██████████| 261/261 [00:02<00:00, 94.37it/s]\n",
      "Training Epoch 1171: 100%|██████████| 261/261 [00:03<00:00, 86.77it/s]\n"
     ]
    },
    {
     "name": "stdout",
     "output_type": "stream",
     "text": [
      "Epoch 1170 - Train Loss: 0.0633, Train MSE: 0.0633, Train MAE: 0.1814\n",
      "Epoch 1170 - Validation Loss: 1.5434, Validation MSE: 1.5451, Validation MAE: 0.8921\n"
     ]
    },
    {
     "name": "stderr",
     "output_type": "stream",
     "text": [
      "Training Epoch 1172: 100%|██████████| 261/261 [00:03<00:00, 78.18it/s]\n",
      "Training Epoch 1173: 100%|██████████| 261/261 [00:02<00:00, 91.25it/s]\n",
      "Training Epoch 1174: 100%|██████████| 261/261 [00:02<00:00, 89.62it/s]\n",
      "Training Epoch 1175: 100%|██████████| 261/261 [00:03<00:00, 79.80it/s]\n",
      "Training Epoch 1176: 100%|██████████| 261/261 [00:02<00:00, 92.01it/s]\n",
      "Training Epoch 1177: 100%|██████████| 261/261 [00:02<00:00, 92.68it/s]\n",
      "Training Epoch 1178: 100%|██████████| 261/261 [00:02<00:00, 90.58it/s]\n",
      "Training Epoch 1179: 100%|██████████| 261/261 [00:03<00:00, 85.76it/s]\n",
      "Training Epoch 1180: 100%|██████████| 261/261 [00:02<00:00, 88.19it/s]\n",
      "Training Epoch 1181: 100%|██████████| 261/261 [00:16<00:00, 16.20it/s]\n"
     ]
    },
    {
     "name": "stdout",
     "output_type": "stream",
     "text": [
      "Epoch 1180 - Train Loss: 0.0651, Train MSE: 0.0651, Train MAE: 0.1809\n",
      "Epoch 1180 - Validation Loss: 1.5361, Validation MSE: 1.5377, Validation MAE: 0.8966\n"
     ]
    },
    {
     "name": "stderr",
     "output_type": "stream",
     "text": [
      "Training Epoch 1182: 100%|██████████| 261/261 [00:04<00:00, 55.85it/s]\n",
      "Training Epoch 1183: 100%|██████████| 261/261 [00:02<00:00, 89.38it/s] \n",
      "Training Epoch 1184: 100%|██████████| 261/261 [00:03<00:00, 79.69it/s]\n",
      "Training Epoch 1185: 100%|██████████| 261/261 [00:02<00:00, 90.19it/s]\n",
      "Training Epoch 1186: 100%|██████████| 261/261 [00:02<00:00, 90.83it/s]\n",
      "Training Epoch 1187: 100%|██████████| 261/261 [00:03<00:00, 80.98it/s]\n",
      "Training Epoch 1188: 100%|██████████| 261/261 [00:03<00:00, 82.83it/s]\n",
      "Training Epoch 1189: 100%|██████████| 261/261 [00:02<00:00, 91.53it/s]\n",
      "Training Epoch 1190: 100%|██████████| 261/261 [00:02<00:00, 92.34it/s]\n",
      "Training Epoch 1191: 100%|██████████| 261/261 [00:02<00:00, 89.46it/s]\n"
     ]
    },
    {
     "name": "stdout",
     "output_type": "stream",
     "text": [
      "Epoch 1190 - Train Loss: 0.0612, Train MSE: 0.0612, Train MAE: 0.1778\n",
      "Epoch 1190 - Validation Loss: 1.5310, Validation MSE: 1.5327, Validation MAE: 0.8946\n"
     ]
    },
    {
     "name": "stderr",
     "output_type": "stream",
     "text": [
      "Training Epoch 1192: 100%|██████████| 261/261 [00:02<00:00, 91.40it/s]\n",
      "Training Epoch 1193: 100%|██████████| 261/261 [00:02<00:00, 90.22it/s]\n",
      "Training Epoch 1194: 100%|██████████| 261/261 [00:16<00:00, 15.99it/s]\n",
      "Training Epoch 1195: 100%|██████████| 261/261 [00:02<00:00, 89.80it/s]\n",
      "Training Epoch 1196: 100%|██████████| 261/261 [00:07<00:00, 34.11it/s]\n",
      "Training Epoch 1197: 100%|██████████| 261/261 [00:02<00:00, 92.03it/s]\n",
      "Training Epoch 1198: 100%|██████████| 261/261 [00:02<00:00, 92.93it/s] \n",
      "Training Epoch 1199: 100%|██████████| 261/261 [00:02<00:00, 89.26it/s] \n",
      "Training Epoch 1200: 100%|██████████| 261/261 [00:02<00:00, 93.37it/s]\n",
      "Training Epoch 1201: 100%|██████████| 261/261 [00:03<00:00, 85.85it/s]\n"
     ]
    },
    {
     "name": "stdout",
     "output_type": "stream",
     "text": [
      "Epoch 1200 - Train Loss: 0.0620, Train MSE: 0.0619, Train MAE: 0.1798\n",
      "Epoch 1200 - Validation Loss: 1.5678, Validation MSE: 1.5696, Validation MAE: 0.9024\n"
     ]
    },
    {
     "name": "stderr",
     "output_type": "stream",
     "text": [
      "Training Epoch 1202: 100%|██████████| 261/261 [00:03<00:00, 85.62it/s]\n",
      "Training Epoch 1203: 100%|██████████| 261/261 [00:03<00:00, 80.86it/s]\n",
      "Training Epoch 1204: 100%|██████████| 261/261 [00:02<00:00, 92.26it/s]\n",
      "Training Epoch 1205: 100%|██████████| 261/261 [00:02<00:00, 93.25it/s]\n",
      "Training Epoch 1206: 100%|██████████| 261/261 [00:02<00:00, 94.37it/s]\n",
      "Training Epoch 1207: 100%|██████████| 261/261 [00:03<00:00, 86.92it/s]\n",
      "Training Epoch 1208: 100%|██████████| 261/261 [00:15<00:00, 16.79it/s]\n",
      "Training Epoch 1209: 100%|██████████| 261/261 [00:03<00:00, 73.63it/s]\n",
      "Training Epoch 1210: 100%|██████████| 261/261 [00:04<00:00, 59.06it/s]\n",
      "Training Epoch 1211: 100%|██████████| 261/261 [00:02<00:00, 92.75it/s] \n"
     ]
    },
    {
     "name": "stdout",
     "output_type": "stream",
     "text": [
      "Epoch 1210 - Train Loss: 0.0620, Train MSE: 0.0620, Train MAE: 0.1791\n",
      "Epoch 1210 - Validation Loss: 1.5379, Validation MSE: 1.5395, Validation MAE: 0.9010\n"
     ]
    },
    {
     "name": "stderr",
     "output_type": "stream",
     "text": [
      "Training Epoch 1212: 100%|██████████| 261/261 [00:02<00:00, 90.75it/s] \n",
      "Training Epoch 1213: 100%|██████████| 261/261 [00:02<00:00, 93.24it/s]\n",
      "Training Epoch 1214: 100%|██████████| 261/261 [00:02<00:00, 96.03it/s] \n",
      "Training Epoch 1215: 100%|██████████| 261/261 [00:02<00:00, 88.47it/s]\n",
      "Training Epoch 1216: 100%|██████████| 261/261 [00:03<00:00, 86.63it/s]\n",
      "Training Epoch 1217: 100%|██████████| 261/261 [00:03<00:00, 86.50it/s]\n",
      "Training Epoch 1218: 100%|██████████| 261/261 [00:02<00:00, 91.56it/s]\n",
      "Training Epoch 1219: 100%|██████████| 261/261 [00:03<00:00, 85.45it/s]\n",
      "Training Epoch 1220: 100%|██████████| 261/261 [00:03<00:00, 83.38it/s]\n",
      "Training Epoch 1221: 100%|██████████| 261/261 [00:17<00:00, 15.13it/s]\n"
     ]
    },
    {
     "name": "stdout",
     "output_type": "stream",
     "text": [
      "Epoch 1220 - Train Loss: 0.0633, Train MSE: 0.0633, Train MAE: 0.1809\n",
      "Epoch 1220 - Validation Loss: 1.5431, Validation MSE: 1.5447, Validation MAE: 0.8977\n"
     ]
    },
    {
     "name": "stderr",
     "output_type": "stream",
     "text": [
      "Training Epoch 1222: 100%|██████████| 261/261 [00:02<00:00, 94.57it/s]\n",
      "Training Epoch 1223: 100%|██████████| 261/261 [00:07<00:00, 33.40it/s]\n",
      "Training Epoch 1224: 100%|██████████| 261/261 [00:02<00:00, 89.62it/s]\n",
      "Training Epoch 1225: 100%|██████████| 261/261 [00:02<00:00, 92.41it/s]\n",
      "Training Epoch 1226: 100%|██████████| 261/261 [00:15<00:00, 16.72it/s]\n",
      "Training Epoch 1227: 100%|██████████| 261/261 [00:27<00:00,  9.42it/s]\n",
      "Training Epoch 1228: 100%|██████████| 261/261 [15:15<00:00,  3.51s/it]   \n",
      "Training Epoch 1229: 100%|██████████| 261/261 [00:04<00:00, 53.28it/s]\n",
      "Training Epoch 1230: 100%|██████████| 261/261 [00:04<00:00, 54.56it/s]\n",
      "Training Epoch 1231: 100%|██████████| 261/261 [00:04<00:00, 56.74it/s]\n"
     ]
    },
    {
     "name": "stdout",
     "output_type": "stream",
     "text": [
      "Epoch 1230 - Train Loss: 0.0626, Train MSE: 0.0626, Train MAE: 0.1807\n",
      "Epoch 1230 - Validation Loss: 1.5542, Validation MSE: 1.5558, Validation MAE: 0.9008\n"
     ]
    },
    {
     "name": "stderr",
     "output_type": "stream",
     "text": [
      "Training Epoch 1232: 100%|██████████| 261/261 [00:04<00:00, 54.33it/s]\n",
      "Training Epoch 1233: 100%|██████████| 261/261 [00:05<00:00, 52.04it/s]\n",
      "Training Epoch 1234: 100%|██████████| 261/261 [00:04<00:00, 54.75it/s]\n",
      "Training Epoch 1235: 100%|██████████| 261/261 [00:05<00:00, 50.72it/s]\n",
      "Training Epoch 1236: 100%|██████████| 261/261 [00:05<00:00, 48.19it/s]\n",
      "Training Epoch 1237: 100%|██████████| 261/261 [00:05<00:00, 50.80it/s]\n",
      "Training Epoch 1238: 100%|██████████| 261/261 [00:04<00:00, 53.89it/s]\n",
      "Training Epoch 1239: 100%|██████████| 261/261 [00:04<00:00, 56.37it/s]\n",
      "Training Epoch 1240: 100%|██████████| 261/261 [00:04<00:00, 56.24it/s]\n",
      "Training Epoch 1241: 100%|██████████| 261/261 [00:04<00:00, 55.58it/s]\n"
     ]
    },
    {
     "name": "stdout",
     "output_type": "stream",
     "text": [
      "Epoch 1240 - Train Loss: 0.0618, Train MSE: 0.0618, Train MAE: 0.1784\n",
      "Epoch 1240 - Validation Loss: 1.5460, Validation MSE: 1.5475, Validation MAE: 0.9003\n"
     ]
    },
    {
     "name": "stderr",
     "output_type": "stream",
     "text": [
      "Training Epoch 1242: 100%|██████████| 261/261 [00:04<00:00, 59.60it/s]\n",
      "Training Epoch 1243: 100%|██████████| 261/261 [00:04<00:00, 60.40it/s]\n",
      "Training Epoch 1244: 100%|██████████| 261/261 [00:04<00:00, 57.07it/s]\n",
      "Training Epoch 1245: 100%|██████████| 261/261 [00:04<00:00, 56.12it/s]\n",
      "Training Epoch 1246: 100%|██████████| 261/261 [00:04<00:00, 59.46it/s]\n",
      "Training Epoch 1247: 100%|██████████| 261/261 [00:04<00:00, 57.88it/s]\n",
      "Training Epoch 1248: 100%|██████████| 261/261 [00:04<00:00, 57.25it/s]\n",
      "Training Epoch 1249: 100%|██████████| 261/261 [00:04<00:00, 58.04it/s]\n",
      "Training Epoch 1250: 100%|██████████| 261/261 [00:04<00:00, 57.07it/s]\n",
      "Training Epoch 1251: 100%|██████████| 261/261 [00:04<00:00, 57.86it/s]\n"
     ]
    },
    {
     "name": "stdout",
     "output_type": "stream",
     "text": [
      "Epoch 1250 - Train Loss: 0.0620, Train MSE: 0.0620, Train MAE: 0.1781\n",
      "Epoch 1250 - Validation Loss: 1.5684, Validation MSE: 1.5700, Validation MAE: 0.9036\n"
     ]
    },
    {
     "name": "stderr",
     "output_type": "stream",
     "text": [
      "Training Epoch 1252: 100%|██████████| 261/261 [00:04<00:00, 61.32it/s]\n",
      "Training Epoch 1253: 100%|██████████| 261/261 [00:04<00:00, 59.31it/s]\n",
      "Training Epoch 1254: 100%|██████████| 261/261 [00:04<00:00, 59.27it/s]\n",
      "Training Epoch 1255: 100%|██████████| 261/261 [00:04<00:00, 56.29it/s]\n",
      "Training Epoch 1256: 100%|██████████| 261/261 [00:04<00:00, 57.02it/s]\n",
      "Training Epoch 1257: 100%|██████████| 261/261 [00:04<00:00, 58.45it/s]\n",
      "Training Epoch 1258: 100%|██████████| 261/261 [00:04<00:00, 53.88it/s]\n",
      "Training Epoch 1259: 100%|██████████| 261/261 [00:04<00:00, 59.16it/s]\n",
      "Training Epoch 1260: 100%|██████████| 261/261 [00:04<00:00, 56.16it/s]\n",
      "Training Epoch 1261: 100%|██████████| 261/261 [00:04<00:00, 56.98it/s]\n"
     ]
    },
    {
     "name": "stdout",
     "output_type": "stream",
     "text": [
      "Epoch 1260 - Train Loss: 0.0600, Train MSE: 0.0600, Train MAE: 0.1772\n",
      "Epoch 1260 - Validation Loss: 1.5666, Validation MSE: 1.5683, Validation MAE: 0.9007\n"
     ]
    },
    {
     "name": "stderr",
     "output_type": "stream",
     "text": [
      "Training Epoch 1262: 100%|██████████| 261/261 [00:04<00:00, 55.83it/s]\n",
      "Training Epoch 1263: 100%|██████████| 261/261 [00:04<00:00, 58.93it/s]\n",
      "Training Epoch 1264: 100%|██████████| 261/261 [00:04<00:00, 59.20it/s]\n",
      "Training Epoch 1265: 100%|██████████| 261/261 [00:04<00:00, 59.72it/s]\n",
      "Training Epoch 1266: 100%|██████████| 261/261 [00:04<00:00, 58.94it/s]\n",
      "Training Epoch 1267: 100%|██████████| 261/261 [00:04<00:00, 60.20it/s]\n",
      "Training Epoch 1268: 100%|██████████| 261/261 [00:04<00:00, 54.82it/s]\n",
      "Training Epoch 1269: 100%|██████████| 261/261 [00:04<00:00, 58.16it/s]\n",
      "Training Epoch 1270: 100%|██████████| 261/261 [00:04<00:00, 57.06it/s]\n",
      "Training Epoch 1271: 100%|██████████| 261/261 [00:04<00:00, 55.25it/s]\n"
     ]
    },
    {
     "name": "stdout",
     "output_type": "stream",
     "text": [
      "Epoch 1270 - Train Loss: 0.0582, Train MSE: 0.0582, Train MAE: 0.1734\n",
      "Epoch 1270 - Validation Loss: 1.5303, Validation MSE: 1.5318, Validation MAE: 0.8931\n"
     ]
    },
    {
     "name": "stderr",
     "output_type": "stream",
     "text": [
      "Training Epoch 1272: 100%|██████████| 261/261 [00:04<00:00, 54.57it/s]\n",
      "Training Epoch 1273: 100%|██████████| 261/261 [00:04<00:00, 53.40it/s]\n",
      "Training Epoch 1274: 100%|██████████| 261/261 [00:04<00:00, 54.62it/s]\n",
      "Training Epoch 1275: 100%|██████████| 261/261 [00:04<00:00, 57.01it/s]\n",
      "Training Epoch 1276: 100%|██████████| 261/261 [00:04<00:00, 58.64it/s]\n",
      "Training Epoch 1277: 100%|██████████| 261/261 [00:04<00:00, 56.67it/s]\n",
      "Training Epoch 1278: 100%|██████████| 261/261 [00:04<00:00, 55.07it/s]\n",
      "Training Epoch 1279: 100%|██████████| 261/261 [00:08<00:00, 31.79it/s]\n",
      "Training Epoch 1280: 100%|██████████| 261/261 [00:14<00:00, 18.61it/s]\n",
      "Training Epoch 1281: 100%|██████████| 261/261 [00:14<00:00, 17.95it/s]\n"
     ]
    },
    {
     "name": "stdout",
     "output_type": "stream",
     "text": [
      "Epoch 1280 - Train Loss: 0.0605, Train MSE: 0.0605, Train MAE: 0.1773\n",
      "Epoch 1280 - Validation Loss: 1.5472, Validation MSE: 1.5489, Validation MAE: 0.8996\n"
     ]
    },
    {
     "name": "stderr",
     "output_type": "stream",
     "text": [
      "Training Epoch 1282: 100%|██████████| 261/261 [00:14<00:00, 17.96it/s]\n",
      "Training Epoch 1283: 100%|██████████| 261/261 [00:14<00:00, 17.87it/s]\n",
      "Training Epoch 1284: 100%|██████████| 261/261 [00:14<00:00, 17.94it/s]\n",
      "Training Epoch 1285: 100%|██████████| 261/261 [00:14<00:00, 17.55it/s]\n",
      "Training Epoch 1286: 100%|██████████| 261/261 [00:15<00:00, 16.95it/s]\n",
      "Training Epoch 1287: 100%|██████████| 261/261 [00:14<00:00, 18.49it/s]\n",
      "Training Epoch 1288: 100%|██████████| 261/261 [00:13<00:00, 19.59it/s]\n",
      "Training Epoch 1289: 100%|██████████| 261/261 [00:15<00:00, 17.11it/s]\n",
      "Training Epoch 1290: 100%|██████████| 261/261 [00:14<00:00, 17.67it/s]\n",
      "Training Epoch 1291: 100%|██████████| 261/261 [00:13<00:00, 18.75it/s]\n"
     ]
    },
    {
     "name": "stdout",
     "output_type": "stream",
     "text": [
      "Epoch 1290 - Train Loss: 0.0617, Train MSE: 0.0617, Train MAE: 0.1791\n",
      "Epoch 1290 - Validation Loss: 1.5519, Validation MSE: 1.5535, Validation MAE: 0.9026\n"
     ]
    },
    {
     "name": "stderr",
     "output_type": "stream",
     "text": [
      "Training Epoch 1292: 100%|██████████| 261/261 [00:14<00:00, 18.50it/s]\n",
      "Training Epoch 1293: 100%|██████████| 261/261 [00:15<00:00, 17.10it/s]\n",
      "Training Epoch 1294: 100%|██████████| 261/261 [00:14<00:00, 18.38it/s]\n",
      "Training Epoch 1295: 100%|██████████| 261/261 [00:14<00:00, 17.86it/s]\n",
      "Training Epoch 1296: 100%|██████████| 261/261 [00:14<00:00, 17.59it/s]\n",
      "Training Epoch 1297: 100%|██████████| 261/261 [00:14<00:00, 17.91it/s]\n",
      "Training Epoch 1298: 100%|██████████| 261/261 [00:14<00:00, 18.59it/s]\n",
      "Training Epoch 1299: 100%|██████████| 261/261 [00:14<00:00, 18.17it/s]\n",
      "Training Epoch 1300: 100%|██████████| 261/261 [00:14<00:00, 17.70it/s]\n",
      "Training Epoch 1301: 100%|██████████| 261/261 [00:14<00:00, 18.40it/s]\n"
     ]
    },
    {
     "name": "stdout",
     "output_type": "stream",
     "text": [
      "Epoch 1300 - Train Loss: 0.0610, Train MSE: 0.0610, Train MAE: 0.1779\n",
      "Epoch 1300 - Validation Loss: 1.5488, Validation MSE: 1.5504, Validation MAE: 0.9014\n"
     ]
    },
    {
     "name": "stderr",
     "output_type": "stream",
     "text": [
      "Training Epoch 1302: 100%|██████████| 261/261 [00:14<00:00, 17.46it/s]\n",
      "Training Epoch 1303: 100%|██████████| 261/261 [00:14<00:00, 18.36it/s]\n",
      "Training Epoch 1304: 100%|██████████| 261/261 [00:14<00:00, 18.21it/s]\n",
      "Training Epoch 1305: 100%|██████████| 261/261 [16:15<00:00,  3.74s/it]  \n",
      "Training Epoch 1306: 100%|██████████| 261/261 [00:05<00:00, 52.06it/s]\n",
      "Training Epoch 1307: 100%|██████████| 261/261 [00:04<00:00, 58.23it/s]\n",
      "Training Epoch 1308: 100%|██████████| 261/261 [00:04<00:00, 58.87it/s]\n",
      "Training Epoch 1309: 100%|██████████| 261/261 [00:04<00:00, 60.95it/s]\n",
      "Training Epoch 1310: 100%|██████████| 261/261 [00:04<00:00, 57.78it/s]\n",
      "Training Epoch 1311: 100%|██████████| 261/261 [00:04<00:00, 56.37it/s]\n"
     ]
    },
    {
     "name": "stdout",
     "output_type": "stream",
     "text": [
      "Epoch 1310 - Train Loss: 0.0571, Train MSE: 0.0571, Train MAE: 0.1726\n",
      "Epoch 1310 - Validation Loss: 1.5369, Validation MSE: 1.5386, Validation MAE: 0.8981\n"
     ]
    },
    {
     "name": "stderr",
     "output_type": "stream",
     "text": [
      "Training Epoch 1312: 100%|██████████| 261/261 [00:04<00:00, 53.86it/s]\n",
      "Training Epoch 1313: 100%|██████████| 261/261 [00:04<00:00, 56.41it/s]\n",
      "Training Epoch 1314: 100%|██████████| 261/261 [00:04<00:00, 60.89it/s]\n",
      "Training Epoch 1315: 100%|██████████| 261/261 [00:04<00:00, 57.66it/s]\n",
      "Training Epoch 1316: 100%|██████████| 261/261 [00:04<00:00, 60.48it/s]\n",
      "Training Epoch 1317: 100%|██████████| 261/261 [00:04<00:00, 54.78it/s]\n",
      "Training Epoch 1318: 100%|██████████| 261/261 [00:04<00:00, 58.16it/s]\n",
      "Training Epoch 1319: 100%|██████████| 261/261 [00:04<00:00, 60.71it/s]\n",
      "Training Epoch 1320: 100%|██████████| 261/261 [00:04<00:00, 61.46it/s]\n",
      "Training Epoch 1321: 100%|██████████| 261/261 [00:04<00:00, 59.92it/s]\n"
     ]
    },
    {
     "name": "stdout",
     "output_type": "stream",
     "text": [
      "Epoch 1320 - Train Loss: 0.0588, Train MSE: 0.0588, Train MAE: 0.1720\n",
      "Epoch 1320 - Validation Loss: 1.5226, Validation MSE: 1.5242, Validation MAE: 0.8952\n"
     ]
    },
    {
     "name": "stderr",
     "output_type": "stream",
     "text": [
      "Training Epoch 1322: 100%|██████████| 261/261 [00:04<00:00, 54.73it/s]\n",
      "Training Epoch 1323: 100%|██████████| 261/261 [00:04<00:00, 55.69it/s]\n",
      "Training Epoch 1324: 100%|██████████| 261/261 [00:04<00:00, 61.00it/s]\n",
      "Training Epoch 1325: 100%|██████████| 261/261 [00:04<00:00, 58.71it/s]\n",
      "Training Epoch 1326: 100%|██████████| 261/261 [00:04<00:00, 59.37it/s]\n",
      "Training Epoch 1327: 100%|██████████| 261/261 [00:04<00:00, 53.70it/s]\n",
      "Training Epoch 1328: 100%|██████████| 261/261 [00:04<00:00, 52.79it/s]\n",
      "Training Epoch 1329: 100%|██████████| 261/261 [00:04<00:00, 57.46it/s]\n",
      "Training Epoch 1330: 100%|██████████| 261/261 [00:04<00:00, 59.79it/s]\n",
      "Training Epoch 1331: 100%|██████████| 261/261 [00:04<00:00, 59.90it/s]\n"
     ]
    },
    {
     "name": "stdout",
     "output_type": "stream",
     "text": [
      "Epoch 1330 - Train Loss: 0.0590, Train MSE: 0.0590, Train MAE: 0.1739\n",
      "Epoch 1330 - Validation Loss: 1.5359, Validation MSE: 1.5375, Validation MAE: 0.8982\n"
     ]
    },
    {
     "name": "stderr",
     "output_type": "stream",
     "text": [
      "Training Epoch 1332: 100%|██████████| 261/261 [00:04<00:00, 59.92it/s]\n",
      "Training Epoch 1333: 100%|██████████| 261/261 [00:04<00:00, 58.37it/s]\n",
      "Training Epoch 1334: 100%|██████████| 261/261 [00:04<00:00, 59.18it/s]\n",
      "Training Epoch 1335: 100%|██████████| 261/261 [00:04<00:00, 60.79it/s]\n",
      "Training Epoch 1336: 100%|██████████| 261/261 [00:04<00:00, 57.92it/s]\n",
      "Training Epoch 1337: 100%|██████████| 261/261 [00:04<00:00, 57.12it/s]\n",
      "Training Epoch 1338: 100%|██████████| 261/261 [00:04<00:00, 58.44it/s]\n",
      "Training Epoch 1339: 100%|██████████| 261/261 [00:04<00:00, 58.99it/s]\n",
      "Training Epoch 1340: 100%|██████████| 261/261 [00:04<00:00, 54.54it/s]\n",
      "Training Epoch 1341: 100%|██████████| 261/261 [00:04<00:00, 57.39it/s]\n"
     ]
    },
    {
     "name": "stdout",
     "output_type": "stream",
     "text": [
      "Epoch 1340 - Train Loss: 0.0613, Train MSE: 0.0613, Train MAE: 0.1778\n",
      "Epoch 1340 - Validation Loss: 1.5517, Validation MSE: 1.5534, Validation MAE: 0.9035\n"
     ]
    },
    {
     "name": "stderr",
     "output_type": "stream",
     "text": [
      "Training Epoch 1342: 100%|██████████| 261/261 [00:04<00:00, 58.33it/s]\n",
      "Training Epoch 1343: 100%|██████████| 261/261 [00:04<00:00, 55.62it/s]\n",
      "Training Epoch 1344: 100%|██████████| 261/261 [00:04<00:00, 55.40it/s]\n",
      "Training Epoch 1345: 100%|██████████| 261/261 [00:04<00:00, 61.82it/s]\n",
      "Training Epoch 1346: 100%|██████████| 261/261 [00:04<00:00, 60.08it/s]\n",
      "Training Epoch 1347: 100%|██████████| 261/261 [00:04<00:00, 57.96it/s]\n",
      "Training Epoch 1348: 100%|██████████| 261/261 [00:04<00:00, 57.34it/s]\n",
      "Training Epoch 1349: 100%|██████████| 261/261 [00:04<00:00, 58.54it/s]\n",
      "Training Epoch 1350: 100%|██████████| 261/261 [00:04<00:00, 57.28it/s]\n",
      "Training Epoch 1351: 100%|██████████| 261/261 [00:04<00:00, 57.77it/s]\n"
     ]
    },
    {
     "name": "stdout",
     "output_type": "stream",
     "text": [
      "Epoch 1350 - Train Loss: 0.0564, Train MSE: 0.0564, Train MAE: 0.1703\n",
      "Epoch 1350 - Validation Loss: 1.5300, Validation MSE: 1.5318, Validation MAE: 0.8942\n"
     ]
    },
    {
     "name": "stderr",
     "output_type": "stream",
     "text": [
      "Training Epoch 1352: 100%|██████████| 261/261 [00:04<00:00, 57.43it/s]\n",
      "Training Epoch 1353: 100%|██████████| 261/261 [00:04<00:00, 54.10it/s]\n",
      "Training Epoch 1354: 100%|██████████| 261/261 [00:04<00:00, 54.81it/s]\n",
      "Training Epoch 1355: 100%|██████████| 261/261 [00:04<00:00, 57.19it/s]\n",
      "Training Epoch 1356: 100%|██████████| 261/261 [00:04<00:00, 57.67it/s]\n",
      "Training Epoch 1357: 100%|██████████| 261/261 [00:04<00:00, 58.33it/s]\n",
      "Training Epoch 1358: 100%|██████████| 261/261 [00:04<00:00, 56.71it/s]\n",
      "Training Epoch 1359: 100%|██████████| 261/261 [00:04<00:00, 57.03it/s]\n",
      "Training Epoch 1360: 100%|██████████| 261/261 [00:04<00:00, 56.53it/s]\n",
      "Training Epoch 1361: 100%|██████████| 261/261 [00:04<00:00, 59.16it/s]\n"
     ]
    },
    {
     "name": "stdout",
     "output_type": "stream",
     "text": [
      "Epoch 1360 - Train Loss: 0.0580, Train MSE: 0.0580, Train MAE: 0.1715\n",
      "Epoch 1360 - Validation Loss: 1.5411, Validation MSE: 1.5428, Validation MAE: 0.8996\n"
     ]
    },
    {
     "name": "stderr",
     "output_type": "stream",
     "text": [
      "Training Epoch 1362: 100%|██████████| 261/261 [00:04<00:00, 60.43it/s]\n",
      "Training Epoch 1363: 100%|██████████| 261/261 [00:04<00:00, 56.59it/s]\n",
      "Training Epoch 1364: 100%|██████████| 261/261 [00:04<00:00, 55.70it/s]\n",
      "Training Epoch 1365: 100%|██████████| 261/261 [00:04<00:00, 55.40it/s]\n",
      "Training Epoch 1366: 100%|██████████| 261/261 [00:04<00:00, 56.46it/s]\n",
      "Training Epoch 1367: 100%|██████████| 261/261 [00:04<00:00, 56.71it/s]\n",
      "Training Epoch 1368: 100%|██████████| 261/261 [00:04<00:00, 56.16it/s]\n",
      "Training Epoch 1369: 100%|██████████| 261/261 [00:04<00:00, 60.28it/s]\n",
      "Training Epoch 1370: 100%|██████████| 261/261 [00:04<00:00, 59.21it/s]\n",
      "Training Epoch 1371: 100%|██████████| 261/261 [00:04<00:00, 59.76it/s]\n"
     ]
    },
    {
     "name": "stdout",
     "output_type": "stream",
     "text": [
      "Epoch 1370 - Train Loss: 0.0591, Train MSE: 0.0590, Train MAE: 0.1733\n",
      "Epoch 1370 - Validation Loss: 1.5375, Validation MSE: 1.5392, Validation MAE: 0.8990\n"
     ]
    },
    {
     "name": "stderr",
     "output_type": "stream",
     "text": [
      "Training Epoch 1372: 100%|██████████| 261/261 [00:04<00:00, 59.29it/s]\n",
      "Training Epoch 1373: 100%|██████████| 261/261 [00:04<00:00, 54.62it/s]\n",
      "Training Epoch 1374: 100%|██████████| 261/261 [00:04<00:00, 57.82it/s]\n",
      "Training Epoch 1375: 100%|██████████| 261/261 [00:04<00:00, 56.46it/s]\n",
      "Training Epoch 1376: 100%|██████████| 261/261 [00:04<00:00, 57.55it/s]\n",
      "Training Epoch 1377: 100%|██████████| 261/261 [00:04<00:00, 55.43it/s]\n",
      "Training Epoch 1378: 100%|██████████| 261/261 [00:04<00:00, 53.40it/s]\n",
      "Training Epoch 1379: 100%|██████████| 261/261 [00:04<00:00, 58.44it/s]\n",
      "Training Epoch 1380: 100%|██████████| 261/261 [00:04<00:00, 57.88it/s]\n",
      "Training Epoch 1381: 100%|██████████| 261/261 [00:04<00:00, 61.66it/s]\n"
     ]
    },
    {
     "name": "stdout",
     "output_type": "stream",
     "text": [
      "Epoch 1380 - Train Loss: 0.0559, Train MSE: 0.0559, Train MAE: 0.1707\n",
      "Epoch 1380 - Validation Loss: 1.5443, Validation MSE: 1.5459, Validation MAE: 0.9026\n"
     ]
    },
    {
     "name": "stderr",
     "output_type": "stream",
     "text": [
      "Training Epoch 1382: 100%|██████████| 261/261 [00:04<00:00, 57.97it/s]\n",
      "Training Epoch 1383: 100%|██████████| 261/261 [00:04<00:00, 54.57it/s]\n",
      "Training Epoch 1384: 100%|██████████| 261/261 [00:04<00:00, 55.95it/s]\n",
      "Training Epoch 1385: 100%|██████████| 261/261 [00:04<00:00, 60.47it/s]\n",
      "Training Epoch 1386: 100%|██████████| 261/261 [00:04<00:00, 56.16it/s]\n",
      "Training Epoch 1387: 100%|██████████| 261/261 [00:04<00:00, 55.70it/s]\n",
      "Training Epoch 1388: 100%|██████████| 261/261 [00:04<00:00, 57.75it/s]\n",
      "Training Epoch 1389: 100%|██████████| 261/261 [00:04<00:00, 53.87it/s]\n",
      "Training Epoch 1390: 100%|██████████| 261/261 [00:04<00:00, 56.46it/s]\n",
      "Training Epoch 1391: 100%|██████████| 261/261 [00:04<00:00, 55.87it/s]\n"
     ]
    },
    {
     "name": "stdout",
     "output_type": "stream",
     "text": [
      "Epoch 1390 - Train Loss: 0.0573, Train MSE: 0.0573, Train MAE: 0.1722\n",
      "Epoch 1390 - Validation Loss: 1.5668, Validation MSE: 1.5685, Validation MAE: 0.9072\n"
     ]
    },
    {
     "name": "stderr",
     "output_type": "stream",
     "text": [
      "Training Epoch 1392: 100%|██████████| 261/261 [00:04<00:00, 57.23it/s]\n",
      "Training Epoch 1393: 100%|██████████| 261/261 [00:04<00:00, 53.19it/s]\n",
      "Training Epoch 1394: 100%|██████████| 261/261 [00:04<00:00, 57.43it/s]\n",
      "Training Epoch 1395: 100%|██████████| 261/261 [00:04<00:00, 58.50it/s]\n",
      "Training Epoch 1396: 100%|██████████| 261/261 [00:04<00:00, 56.49it/s]\n",
      "Training Epoch 1397: 100%|██████████| 261/261 [00:04<00:00, 57.40it/s]\n",
      "Training Epoch 1398: 100%|██████████| 261/261 [00:04<00:00, 57.77it/s]\n",
      "Training Epoch 1399: 100%|██████████| 261/261 [00:04<00:00, 52.87it/s]\n",
      "Training Epoch 1400: 100%|██████████| 261/261 [00:04<00:00, 56.17it/s]\n",
      "Training Epoch 1401: 100%|██████████| 261/261 [00:04<00:00, 53.42it/s]\n"
     ]
    },
    {
     "name": "stdout",
     "output_type": "stream",
     "text": [
      "Epoch 1400 - Train Loss: 0.0563, Train MSE: 0.0563, Train MAE: 0.1710\n",
      "Epoch 1400 - Validation Loss: 1.5303, Validation MSE: 1.5320, Validation MAE: 0.8992\n"
     ]
    },
    {
     "name": "stderr",
     "output_type": "stream",
     "text": [
      "Training Epoch 1402: 100%|██████████| 261/261 [00:12<00:00, 21.22it/s]\n",
      "Training Epoch 1403: 100%|██████████| 261/261 [00:14<00:00, 18.55it/s]\n",
      "Training Epoch 1404: 100%|██████████| 261/261 [00:14<00:00, 18.51it/s]\n",
      "Training Epoch 1405: 100%|██████████| 261/261 [00:13<00:00, 19.02it/s]\n",
      "Training Epoch 1406: 100%|██████████| 261/261 [00:14<00:00, 18.00it/s]\n",
      "Training Epoch 1407: 100%|██████████| 261/261 [00:14<00:00, 17.96it/s]\n",
      "Training Epoch 1408: 100%|██████████| 261/261 [00:07<00:00, 33.90it/s]\n",
      "Training Epoch 1409: 100%|██████████| 261/261 [00:05<00:00, 52.18it/s]\n",
      "Training Epoch 1410: 100%|██████████| 261/261 [00:04<00:00, 55.07it/s]\n",
      "Training Epoch 1411: 100%|██████████| 261/261 [00:04<00:00, 55.49it/s]\n"
     ]
    },
    {
     "name": "stdout",
     "output_type": "stream",
     "text": [
      "Epoch 1410 - Train Loss: 0.0554, Train MSE: 0.0554, Train MAE: 0.1688\n",
      "Epoch 1410 - Validation Loss: 1.5470, Validation MSE: 1.5488, Validation MAE: 0.9006\n"
     ]
    },
    {
     "name": "stderr",
     "output_type": "stream",
     "text": [
      "Training Epoch 1412: 100%|██████████| 261/261 [00:05<00:00, 50.66it/s]\n",
      "Training Epoch 1413: 100%|██████████| 261/261 [00:05<00:00, 51.07it/s]\n",
      "Training Epoch 1414: 100%|██████████| 261/261 [00:04<00:00, 58.86it/s]\n",
      "Training Epoch 1415: 100%|██████████| 261/261 [00:06<00:00, 42.06it/s]\n",
      "Training Epoch 1416: 100%|██████████| 261/261 [00:03<00:00, 78.61it/s]\n",
      "Training Epoch 1417: 100%|██████████| 261/261 [00:03<00:00, 84.18it/s]\n",
      "Training Epoch 1418: 100%|██████████| 261/261 [00:03<00:00, 82.82it/s]\n",
      "Training Epoch 1419: 100%|██████████| 261/261 [00:03<00:00, 79.96it/s]\n",
      "Training Epoch 1420: 100%|██████████| 261/261 [00:03<00:00, 86.91it/s]\n",
      "Training Epoch 1421: 100%|██████████| 261/261 [00:02<00:00, 88.09it/s]\n"
     ]
    },
    {
     "name": "stdout",
     "output_type": "stream",
     "text": [
      "Epoch 1420 - Train Loss: 0.0551, Train MSE: 0.0551, Train MAE: 0.1672\n",
      "Epoch 1420 - Validation Loss: 1.5634, Validation MSE: 1.5651, Validation MAE: 0.9082\n"
     ]
    },
    {
     "name": "stderr",
     "output_type": "stream",
     "text": [
      "Training Epoch 1422: 100%|██████████| 261/261 [00:03<00:00, 85.94it/s] \n",
      "Training Epoch 1423: 100%|██████████| 261/261 [00:03<00:00, 75.70it/s]\n",
      "Training Epoch 1424: 100%|██████████| 261/261 [00:03<00:00, 79.16it/s]\n",
      "Training Epoch 1425: 100%|██████████| 261/261 [00:03<00:00, 82.42it/s]\n",
      "Training Epoch 1426: 100%|██████████| 261/261 [00:03<00:00, 84.44it/s]\n",
      "Training Epoch 1427: 100%|██████████| 261/261 [00:03<00:00, 82.82it/s]\n",
      "Training Epoch 1428: 100%|██████████| 261/261 [00:03<00:00, 75.41it/s]\n",
      "Training Epoch 1429: 100%|██████████| 261/261 [00:03<00:00, 82.08it/s]\n",
      "Training Epoch 1430: 100%|██████████| 261/261 [00:02<00:00, 91.07it/s]\n",
      "Training Epoch 1431: 100%|██████████| 261/261 [00:03<00:00, 81.24it/s]\n"
     ]
    },
    {
     "name": "stdout",
     "output_type": "stream",
     "text": [
      "Epoch 1430 - Train Loss: 0.0595, Train MSE: 0.0595, Train MAE: 0.1743\n",
      "Epoch 1430 - Validation Loss: 1.5556, Validation MSE: 1.5572, Validation MAE: 0.9038\n"
     ]
    },
    {
     "name": "stderr",
     "output_type": "stream",
     "text": [
      "Training Epoch 1432: 100%|██████████| 261/261 [00:03<00:00, 86.67it/s]\n",
      "Training Epoch 1433: 100%|██████████| 261/261 [00:03<00:00, 86.19it/s]\n",
      "Training Epoch 1434: 100%|██████████| 261/261 [00:03<00:00, 85.25it/s]\n",
      "Training Epoch 1435: 100%|██████████| 261/261 [00:02<00:00, 87.24it/s]\n",
      "Training Epoch 1436: 100%|██████████| 261/261 [00:02<00:00, 87.33it/s]\n",
      "Training Epoch 1437: 100%|██████████| 261/261 [00:02<00:00, 88.33it/s]\n",
      "Training Epoch 1438: 100%|██████████| 261/261 [00:03<00:00, 86.45it/s]\n",
      "Training Epoch 1439: 100%|██████████| 261/261 [00:03<00:00, 85.56it/s]\n",
      "Training Epoch 1440: 100%|██████████| 261/261 [00:02<00:00, 91.79it/s]\n",
      "Training Epoch 1441: 100%|██████████| 261/261 [00:02<00:00, 87.25it/s]\n"
     ]
    },
    {
     "name": "stdout",
     "output_type": "stream",
     "text": [
      "Epoch 1440 - Train Loss: 0.0566, Train MSE: 0.0566, Train MAE: 0.1700\n",
      "Epoch 1440 - Validation Loss: 1.5558, Validation MSE: 1.5575, Validation MAE: 0.9070\n"
     ]
    },
    {
     "name": "stderr",
     "output_type": "stream",
     "text": [
      "Training Epoch 1442: 100%|██████████| 261/261 [00:03<00:00, 86.31it/s]\n",
      "Training Epoch 1443: 100%|██████████| 261/261 [00:02<00:00, 90.54it/s]\n",
      "Training Epoch 1444: 100%|██████████| 261/261 [00:03<00:00, 85.53it/s]\n",
      "Training Epoch 1445: 100%|██████████| 261/261 [00:03<00:00, 86.47it/s]\n",
      "Training Epoch 1446: 100%|██████████| 261/261 [00:03<00:00, 84.02it/s]\n",
      "Training Epoch 1447: 100%|██████████| 261/261 [00:03<00:00, 84.64it/s]\n",
      "Training Epoch 1448: 100%|██████████| 261/261 [00:03<00:00, 86.91it/s]\n",
      "Training Epoch 1449: 100%|██████████| 261/261 [00:02<00:00, 87.30it/s]\n",
      "Training Epoch 1450: 100%|██████████| 261/261 [00:03<00:00, 86.19it/s]\n",
      "Training Epoch 1451: 100%|██████████| 261/261 [00:03<00:00, 86.88it/s]\n"
     ]
    },
    {
     "name": "stdout",
     "output_type": "stream",
     "text": [
      "Epoch 1450 - Train Loss: 0.0557, Train MSE: 0.0557, Train MAE: 0.1681\n",
      "Epoch 1450 - Validation Loss: 1.5598, Validation MSE: 1.5614, Validation MAE: 0.9057\n"
     ]
    },
    {
     "name": "stderr",
     "output_type": "stream",
     "text": [
      "Training Epoch 1452: 100%|██████████| 261/261 [00:03<00:00, 85.51it/s]\n",
      "Training Epoch 1453: 100%|██████████| 261/261 [00:03<00:00, 86.64it/s]\n",
      "Training Epoch 1454: 100%|██████████| 261/261 [00:03<00:00, 80.93it/s]\n",
      "Training Epoch 1455: 100%|██████████| 261/261 [00:02<00:00, 88.06it/s]\n",
      "Training Epoch 1456: 100%|██████████| 261/261 [00:03<00:00, 85.59it/s]\n",
      "Training Epoch 1457: 100%|██████████| 261/261 [00:02<00:00, 87.54it/s]\n",
      "Training Epoch 1458: 100%|██████████| 261/261 [00:02<00:00, 89.97it/s]\n",
      "Training Epoch 1459: 100%|██████████| 261/261 [00:02<00:00, 87.31it/s]\n",
      "Training Epoch 1460: 100%|██████████| 261/261 [00:02<00:00, 89.37it/s]\n",
      "Training Epoch 1461: 100%|██████████| 261/261 [00:03<00:00, 81.77it/s]\n"
     ]
    },
    {
     "name": "stdout",
     "output_type": "stream",
     "text": [
      "Epoch 1460 - Train Loss: 0.0570, Train MSE: 0.0570, Train MAE: 0.1713\n",
      "Epoch 1460 - Validation Loss: 1.5269, Validation MSE: 1.5286, Validation MAE: 0.8958\n"
     ]
    },
    {
     "name": "stderr",
     "output_type": "stream",
     "text": [
      "Training Epoch 1462: 100%|██████████| 261/261 [00:02<00:00, 89.89it/s]\n",
      "Training Epoch 1463: 100%|██████████| 261/261 [00:03<00:00, 86.75it/s]\n",
      "Training Epoch 1464: 100%|██████████| 261/261 [00:03<00:00, 85.46it/s]\n",
      "Training Epoch 1465: 100%|██████████| 261/261 [00:03<00:00, 81.29it/s]\n",
      "Training Epoch 1466: 100%|██████████| 261/261 [00:03<00:00, 86.04it/s]\n",
      "Training Epoch 1467: 100%|██████████| 261/261 [00:02<00:00, 89.03it/s]\n",
      "Training Epoch 1468: 100%|██████████| 261/261 [00:03<00:00, 84.79it/s]\n",
      "Training Epoch 1469: 100%|██████████| 261/261 [00:03<00:00, 78.97it/s]\n",
      "Training Epoch 1470: 100%|██████████| 261/261 [00:02<00:00, 88.51it/s]\n",
      "Training Epoch 1471: 100%|██████████| 261/261 [00:02<00:00, 87.86it/s]\n"
     ]
    },
    {
     "name": "stdout",
     "output_type": "stream",
     "text": [
      "Epoch 1470 - Train Loss: 0.0552, Train MSE: 0.0552, Train MAE: 0.1687\n",
      "Epoch 1470 - Validation Loss: 1.5541, Validation MSE: 1.5557, Validation MAE: 0.9039\n"
     ]
    },
    {
     "name": "stderr",
     "output_type": "stream",
     "text": [
      "Training Epoch 1472: 100%|██████████| 261/261 [00:02<00:00, 87.85it/s]\n",
      "Training Epoch 1473: 100%|██████████| 261/261 [00:02<00:00, 88.14it/s]\n",
      "Training Epoch 1474: 100%|██████████| 261/261 [00:03<00:00, 85.10it/s]\n",
      "Training Epoch 1475: 100%|██████████| 261/261 [00:03<00:00, 86.32it/s]\n",
      "Training Epoch 1476: 100%|██████████| 261/261 [00:02<00:00, 89.45it/s] \n",
      "Training Epoch 1477: 100%|██████████| 261/261 [00:02<00:00, 88.49it/s]\n",
      "Training Epoch 1478: 100%|██████████| 261/261 [00:02<00:00, 88.59it/s]\n",
      "Training Epoch 1479: 100%|██████████| 261/261 [00:03<00:00, 86.07it/s]\n",
      "Training Epoch 1480: 100%|██████████| 261/261 [00:02<00:00, 87.49it/s]\n",
      "Training Epoch 1481: 100%|██████████| 261/261 [00:02<00:00, 87.13it/s]\n"
     ]
    },
    {
     "name": "stdout",
     "output_type": "stream",
     "text": [
      "Epoch 1480 - Train Loss: 0.0552, Train MSE: 0.0552, Train MAE: 0.1690\n",
      "Epoch 1480 - Validation Loss: 1.5480, Validation MSE: 1.5496, Validation MAE: 0.9045\n"
     ]
    },
    {
     "name": "stderr",
     "output_type": "stream",
     "text": [
      "Training Epoch 1482: 100%|██████████| 261/261 [00:02<00:00, 87.16it/s]\n",
      "Training Epoch 1483: 100%|██████████| 261/261 [00:03<00:00, 85.52it/s]\n",
      "Training Epoch 1484: 100%|██████████| 261/261 [00:03<00:00, 77.44it/s]\n",
      "Training Epoch 1485: 100%|██████████| 261/261 [00:03<00:00, 85.59it/s]\n",
      "Training Epoch 1486: 100%|██████████| 261/261 [00:03<00:00, 82.67it/s]\n",
      "Training Epoch 1487: 100%|██████████| 261/261 [00:03<00:00, 85.63it/s]\n",
      "Training Epoch 1488: 100%|██████████| 261/261 [00:03<00:00, 84.77it/s]\n",
      "Training Epoch 1489: 100%|██████████| 261/261 [00:02<00:00, 87.91it/s]\n",
      "Training Epoch 1490: 100%|██████████| 261/261 [00:02<00:00, 87.21it/s]\n",
      "Training Epoch 1491: 100%|██████████| 261/261 [00:02<00:00, 88.77it/s]\n"
     ]
    },
    {
     "name": "stdout",
     "output_type": "stream",
     "text": [
      "Epoch 1490 - Train Loss: 0.0548, Train MSE: 0.0548, Train MAE: 0.1668\n",
      "Epoch 1490 - Validation Loss: 1.5421, Validation MSE: 1.5437, Validation MAE: 0.9033\n"
     ]
    },
    {
     "name": "stderr",
     "output_type": "stream",
     "text": [
      "Training Epoch 1492: 100%|██████████| 261/261 [00:02<00:00, 89.85it/s]\n",
      "Training Epoch 1493: 100%|██████████| 261/261 [00:02<00:00, 87.32it/s]\n",
      "Training Epoch 1494: 100%|██████████| 261/261 [00:03<00:00, 84.13it/s]\n",
      "Training Epoch 1495: 100%|██████████| 261/261 [00:02<00:00, 91.36it/s]\n",
      "Training Epoch 1496: 100%|██████████| 261/261 [00:02<00:00, 89.32it/s]\n",
      "Training Epoch 1497: 100%|██████████| 261/261 [00:03<00:00, 84.44it/s]\n",
      "Training Epoch 1498: 100%|██████████| 261/261 [00:02<00:00, 90.18it/s]\n",
      "Training Epoch 1499: 100%|██████████| 261/261 [00:03<00:00, 84.57it/s]\n",
      "Training Epoch 1500: 100%|██████████| 261/261 [00:03<00:00, 86.17it/s]\n",
      "Training Epoch 1501: 100%|██████████| 261/261 [00:02<00:00, 87.54it/s]\n"
     ]
    },
    {
     "name": "stdout",
     "output_type": "stream",
     "text": [
      "Epoch 1500 - Train Loss: 0.0538, Train MSE: 0.0538, Train MAE: 0.1658\n",
      "Epoch 1500 - Validation Loss: 1.5452, Validation MSE: 1.5470, Validation MAE: 0.9009\n"
     ]
    },
    {
     "name": "stderr",
     "output_type": "stream",
     "text": [
      "Training Epoch 1502: 100%|██████████| 261/261 [00:03<00:00, 83.11it/s]\n",
      "Training Epoch 1503: 100%|██████████| 261/261 [00:03<00:00, 78.73it/s]\n",
      "Training Epoch 1504: 100%|██████████| 261/261 [00:03<00:00, 85.13it/s]\n",
      "Training Epoch 1505: 100%|██████████| 261/261 [00:02<00:00, 88.90it/s]\n",
      "Training Epoch 1506: 100%|██████████| 261/261 [00:03<00:00, 84.68it/s]\n",
      "Training Epoch 1507: 100%|██████████| 261/261 [00:03<00:00, 84.39it/s]\n",
      "Training Epoch 1508: 100%|██████████| 261/261 [00:03<00:00, 86.80it/s] \n",
      "Training Epoch 1509: 100%|██████████| 261/261 [00:02<00:00, 89.04it/s]\n",
      "Training Epoch 1510: 100%|██████████| 261/261 [00:03<00:00, 83.41it/s]\n",
      "Training Epoch 1511: 100%|██████████| 261/261 [00:03<00:00, 86.26it/s]\n"
     ]
    },
    {
     "name": "stdout",
     "output_type": "stream",
     "text": [
      "Epoch 1510 - Train Loss: 0.0533, Train MSE: 0.0533, Train MAE: 0.1652\n",
      "Epoch 1510 - Validation Loss: 1.5438, Validation MSE: 1.5454, Validation MAE: 0.9007\n"
     ]
    },
    {
     "name": "stderr",
     "output_type": "stream",
     "text": [
      "Training Epoch 1512: 100%|██████████| 261/261 [00:02<00:00, 88.90it/s]\n",
      "Training Epoch 1513: 100%|██████████| 261/261 [00:03<00:00, 84.91it/s]\n",
      "Training Epoch 1514: 100%|██████████| 261/261 [00:02<00:00, 88.99it/s]\n",
      "Training Epoch 1515: 100%|██████████| 261/261 [00:02<00:00, 88.46it/s]\n",
      "Training Epoch 1516: 100%|██████████| 261/261 [00:03<00:00, 84.84it/s]\n",
      "Training Epoch 1517: 100%|██████████| 261/261 [00:02<00:00, 89.31it/s]\n",
      "Training Epoch 1518: 100%|██████████| 261/261 [00:03<00:00, 84.49it/s]\n",
      "Training Epoch 1519: 100%|██████████| 261/261 [00:02<00:00, 87.87it/s]\n",
      "Training Epoch 1520: 100%|██████████| 261/261 [00:02<00:00, 88.31it/s]\n",
      "Training Epoch 1521: 100%|██████████| 261/261 [00:03<00:00, 83.66it/s]\n"
     ]
    },
    {
     "name": "stdout",
     "output_type": "stream",
     "text": [
      "Epoch 1520 - Train Loss: 0.0542, Train MSE: 0.0542, Train MAE: 0.1664\n",
      "Epoch 1520 - Validation Loss: 1.5223, Validation MSE: 1.5239, Validation MAE: 0.8950\n"
     ]
    },
    {
     "name": "stderr",
     "output_type": "stream",
     "text": [
      "Training Epoch 1522: 100%|██████████| 261/261 [00:02<00:00, 89.16it/s] \n",
      "Training Epoch 1523: 100%|██████████| 261/261 [00:03<00:00, 82.01it/s]\n",
      "Training Epoch 1524: 100%|██████████| 261/261 [00:03<00:00, 85.96it/s]\n",
      "Training Epoch 1525: 100%|██████████| 261/261 [00:03<00:00, 86.02it/s]\n",
      "Training Epoch 1526: 100%|██████████| 261/261 [00:03<00:00, 84.92it/s]\n",
      "Training Epoch 1527: 100%|██████████| 261/261 [00:02<00:00, 89.83it/s] \n",
      "Training Epoch 1528: 100%|██████████| 261/261 [00:03<00:00, 83.33it/s]\n",
      "Training Epoch 1529: 100%|██████████| 261/261 [00:02<00:00, 87.77it/s]\n",
      "Training Epoch 1530: 100%|██████████| 261/261 [00:03<00:00, 86.59it/s]\n",
      "Training Epoch 1531: 100%|██████████| 261/261 [00:02<00:00, 87.79it/s]\n"
     ]
    },
    {
     "name": "stdout",
     "output_type": "stream",
     "text": [
      "Epoch 1530 - Train Loss: 0.0535, Train MSE: 0.0535, Train MAE: 0.1641\n",
      "Epoch 1530 - Validation Loss: 1.5369, Validation MSE: 1.5386, Validation MAE: 0.8990\n"
     ]
    },
    {
     "name": "stderr",
     "output_type": "stream",
     "text": [
      "Training Epoch 1532: 100%|██████████| 261/261 [00:03<00:00, 86.75it/s]\n",
      "Training Epoch 1533: 100%|██████████| 261/261 [00:03<00:00, 83.40it/s]\n",
      "Training Epoch 1534: 100%|██████████| 261/261 [00:02<00:00, 89.79it/s]\n",
      "Training Epoch 1535: 100%|██████████| 261/261 [00:02<00:00, 90.59it/s]\n",
      "Training Epoch 1536: 100%|██████████| 261/261 [00:02<00:00, 88.92it/s]\n",
      "Training Epoch 1537: 100%|██████████| 261/261 [00:02<00:00, 87.67it/s]\n",
      "Training Epoch 1538: 100%|██████████| 261/261 [00:02<00:00, 87.53it/s]\n",
      "Training Epoch 1539: 100%|██████████| 261/261 [00:03<00:00, 85.35it/s]\n",
      "Training Epoch 1540: 100%|██████████| 261/261 [00:03<00:00, 82.95it/s]\n",
      "Training Epoch 1541: 100%|██████████| 261/261 [00:02<00:00, 88.92it/s]\n"
     ]
    },
    {
     "name": "stdout",
     "output_type": "stream",
     "text": [
      "Epoch 1540 - Train Loss: 0.0530, Train MSE: 0.0530, Train MAE: 0.1650\n",
      "Epoch 1540 - Validation Loss: 1.5543, Validation MSE: 1.5560, Validation MAE: 0.9010\n"
     ]
    },
    {
     "name": "stderr",
     "output_type": "stream",
     "text": [
      "Training Epoch 1542: 100%|██████████| 261/261 [00:02<00:00, 90.46it/s]\n",
      "Training Epoch 1543: 100%|██████████| 261/261 [00:03<00:00, 82.81it/s]\n",
      "Training Epoch 1544: 100%|██████████| 261/261 [00:02<00:00, 88.75it/s] \n",
      "Training Epoch 1545: 100%|██████████| 261/261 [00:03<00:00, 86.62it/s]\n",
      "Training Epoch 1546: 100%|██████████| 261/261 [00:02<00:00, 87.65it/s]\n",
      "Training Epoch 1547: 100%|██████████| 261/261 [00:02<00:00, 88.23it/s]\n",
      "Training Epoch 1548: 100%|██████████| 261/261 [00:03<00:00, 82.61it/s]\n",
      "Training Epoch 1549: 100%|██████████| 261/261 [00:02<00:00, 88.51it/s]\n",
      "Training Epoch 1550: 100%|██████████| 261/261 [00:03<00:00, 86.70it/s]\n",
      "Training Epoch 1551: 100%|██████████| 261/261 [00:02<00:00, 89.04it/s]\n"
     ]
    },
    {
     "name": "stdout",
     "output_type": "stream",
     "text": [
      "Epoch 1550 - Train Loss: 0.0539, Train MSE: 0.0539, Train MAE: 0.1651\n",
      "Epoch 1550 - Validation Loss: 1.5494, Validation MSE: 1.5511, Validation MAE: 0.9020\n"
     ]
    },
    {
     "name": "stderr",
     "output_type": "stream",
     "text": [
      "Training Epoch 1552: 100%|██████████| 261/261 [00:02<00:00, 88.69it/s]\n",
      "Training Epoch 1553: 100%|██████████| 261/261 [00:03<00:00, 84.91it/s]\n",
      "Training Epoch 1554: 100%|██████████| 261/261 [00:02<00:00, 89.12it/s]\n",
      "Training Epoch 1555: 100%|██████████| 261/261 [00:02<00:00, 89.02it/s]\n",
      "Training Epoch 1556: 100%|██████████| 261/261 [00:02<00:00, 89.04it/s]\n",
      "Training Epoch 1557: 100%|██████████| 261/261 [00:02<00:00, 90.80it/s]\n",
      "Training Epoch 1558: 100%|██████████| 261/261 [00:02<00:00, 87.45it/s]\n",
      "Training Epoch 1559: 100%|██████████| 261/261 [00:03<00:00, 73.53it/s]\n",
      "Training Epoch 1560: 100%|██████████| 261/261 [00:03<00:00, 83.83it/s]\n",
      "Training Epoch 1561: 100%|██████████| 261/261 [00:03<00:00, 85.58it/s]\n"
     ]
    },
    {
     "name": "stdout",
     "output_type": "stream",
     "text": [
      "Epoch 1560 - Train Loss: 0.0558, Train MSE: 0.0558, Train MAE: 0.1668\n",
      "Epoch 1560 - Validation Loss: 1.5457, Validation MSE: 1.5474, Validation MAE: 0.9025\n"
     ]
    },
    {
     "name": "stderr",
     "output_type": "stream",
     "text": [
      "Training Epoch 1562: 100%|██████████| 261/261 [00:02<00:00, 87.96it/s]\n",
      "Training Epoch 1563: 100%|██████████| 261/261 [00:03<00:00, 83.78it/s]\n",
      "Training Epoch 1564: 100%|██████████| 261/261 [00:03<00:00, 85.87it/s]\n",
      "Training Epoch 1565: 100%|██████████| 261/261 [00:02<00:00, 89.11it/s]\n",
      "Training Epoch 1566: 100%|██████████| 261/261 [00:02<00:00, 88.58it/s]\n",
      "Training Epoch 1567: 100%|██████████| 261/261 [00:02<00:00, 89.30it/s]\n",
      "Training Epoch 1568: 100%|██████████| 261/261 [00:02<00:00, 87.15it/s]\n",
      "Training Epoch 1569: 100%|██████████| 261/261 [00:03<00:00, 85.61it/s]\n",
      "Training Epoch 1570: 100%|██████████| 261/261 [00:02<00:00, 89.32it/s]\n",
      "Training Epoch 1571: 100%|██████████| 261/261 [00:03<00:00, 86.61it/s]\n"
     ]
    },
    {
     "name": "stdout",
     "output_type": "stream",
     "text": [
      "Epoch 1570 - Train Loss: 0.0554, Train MSE: 0.0554, Train MAE: 0.1678\n",
      "Epoch 1570 - Validation Loss: 1.5425, Validation MSE: 1.5441, Validation MAE: 0.9016\n"
     ]
    },
    {
     "name": "stderr",
     "output_type": "stream",
     "text": [
      "Training Epoch 1572: 100%|██████████| 261/261 [00:03<00:00, 86.94it/s]\n",
      "Training Epoch 1573: 100%|██████████| 261/261 [00:03<00:00, 85.24it/s]\n",
      "Training Epoch 1574: 100%|██████████| 261/261 [00:02<00:00, 87.95it/s]\n",
      "Training Epoch 1575: 100%|██████████| 261/261 [00:02<00:00, 87.21it/s]\n",
      "Training Epoch 1576: 100%|██████████| 261/261 [00:03<00:00, 86.85it/s]\n",
      "Training Epoch 1577: 100%|██████████| 261/261 [00:02<00:00, 87.77it/s]\n",
      "Training Epoch 1578: 100%|██████████| 261/261 [00:03<00:00, 75.83it/s]\n",
      "Training Epoch 1579: 100%|██████████| 261/261 [00:03<00:00, 84.88it/s]\n",
      "Training Epoch 1580: 100%|██████████| 261/261 [00:03<00:00, 84.70it/s]\n",
      "Training Epoch 1581: 100%|██████████| 261/261 [00:02<00:00, 89.07it/s]\n"
     ]
    },
    {
     "name": "stdout",
     "output_type": "stream",
     "text": [
      "Epoch 1580 - Train Loss: 0.0518, Train MSE: 0.0518, Train MAE: 0.1632\n",
      "Epoch 1580 - Validation Loss: 1.5359, Validation MSE: 1.5375, Validation MAE: 0.8974\n"
     ]
    },
    {
     "name": "stderr",
     "output_type": "stream",
     "text": [
      "Training Epoch 1582: 100%|██████████| 261/261 [00:02<00:00, 89.72it/s]\n",
      "Training Epoch 1583: 100%|██████████| 261/261 [00:03<00:00, 83.38it/s]\n",
      "Training Epoch 1584: 100%|██████████| 261/261 [00:02<00:00, 87.15it/s]\n",
      "Training Epoch 1585: 100%|██████████| 261/261 [00:02<00:00, 88.24it/s]\n",
      "Training Epoch 1586: 100%|██████████| 261/261 [00:03<00:00, 85.68it/s]\n",
      "Training Epoch 1587: 100%|██████████| 261/261 [15:43<00:00,  3.61s/it]\n",
      "Training Epoch 1588: 100%|██████████| 261/261 [00:03<00:00, 84.80it/s]\n",
      "Training Epoch 1589: 100%|██████████| 261/261 [00:05<00:00, 44.18it/s]\n",
      "Training Epoch 1590: 100%|██████████| 261/261 [00:04<00:00, 62.29it/s]\n",
      "Training Epoch 1591: 100%|██████████| 261/261 [00:04<00:00, 59.84it/s]\n"
     ]
    },
    {
     "name": "stdout",
     "output_type": "stream",
     "text": [
      "Epoch 1590 - Train Loss: 0.0515, Train MSE: 0.0515, Train MAE: 0.1618\n",
      "Epoch 1590 - Validation Loss: 1.5506, Validation MSE: 1.5522, Validation MAE: 0.9012\n"
     ]
    },
    {
     "name": "stderr",
     "output_type": "stream",
     "text": [
      "Training Epoch 1592: 100%|██████████| 261/261 [00:04<00:00, 55.81it/s]\n",
      "Training Epoch 1593: 100%|██████████| 261/261 [00:04<00:00, 59.57it/s]\n",
      "Training Epoch 1594: 100%|██████████| 261/261 [00:04<00:00, 58.99it/s]\n",
      "Training Epoch 1595: 100%|██████████| 261/261 [00:05<00:00, 51.98it/s]\n",
      "Training Epoch 1596: 100%|██████████| 261/261 [00:04<00:00, 53.77it/s]\n",
      "Training Epoch 1597: 100%|██████████| 261/261 [00:04<00:00, 55.39it/s]\n",
      "Training Epoch 1598: 100%|██████████| 261/261 [16:19<00:00,  3.75s/it] \n",
      "Training Epoch 1599: 100%|██████████| 261/261 [00:04<00:00, 56.31it/s]\n",
      "Training Epoch 1600: 100%|██████████| 261/261 [00:04<00:00, 59.05it/s]\n",
      "Training Epoch 1601: 100%|██████████| 261/261 [00:04<00:00, 59.38it/s]\n"
     ]
    },
    {
     "name": "stdout",
     "output_type": "stream",
     "text": [
      "Epoch 1600 - Train Loss: 0.0530, Train MSE: 0.0530, Train MAE: 0.1620\n",
      "Epoch 1600 - Validation Loss: 1.5425, Validation MSE: 1.5441, Validation MAE: 0.9023\n"
     ]
    },
    {
     "name": "stderr",
     "output_type": "stream",
     "text": [
      "Training Epoch 1602: 100%|██████████| 261/261 [00:04<00:00, 64.66it/s]\n",
      "Training Epoch 1603: 100%|██████████| 261/261 [00:04<00:00, 62.86it/s]\n",
      "Training Epoch 1604: 100%|██████████| 261/261 [00:04<00:00, 65.07it/s]\n",
      "Training Epoch 1605: 100%|██████████| 261/261 [00:04<00:00, 61.81it/s]\n",
      "Training Epoch 1606: 100%|██████████| 261/261 [00:04<00:00, 61.16it/s]\n",
      "Training Epoch 1607: 100%|██████████| 261/261 [00:04<00:00, 64.15it/s]\n",
      "Training Epoch 1608: 100%|██████████| 261/261 [15:33<00:00,  3.58s/it]  \n",
      "Training Epoch 1609: 100%|██████████| 261/261 [00:04<00:00, 62.65it/s]\n",
      "Training Epoch 1610: 100%|██████████| 261/261 [00:04<00:00, 63.84it/s]\n",
      "Training Epoch 1611: 100%|██████████| 261/261 [00:04<00:00, 63.93it/s]\n"
     ]
    },
    {
     "name": "stdout",
     "output_type": "stream",
     "text": [
      "Epoch 1610 - Train Loss: 0.0529, Train MSE: 0.0529, Train MAE: 0.1615\n",
      "Epoch 1610 - Validation Loss: 1.5432, Validation MSE: 1.5449, Validation MAE: 0.8998\n"
     ]
    },
    {
     "name": "stderr",
     "output_type": "stream",
     "text": [
      "Training Epoch 1612: 100%|██████████| 261/261 [00:04<00:00, 60.87it/s]\n",
      "Training Epoch 1613: 100%|██████████| 261/261 [00:04<00:00, 64.56it/s]\n",
      "Training Epoch 1614: 100%|██████████| 261/261 [00:04<00:00, 63.96it/s]\n",
      "Training Epoch 1615: 100%|██████████| 261/261 [00:03<00:00, 65.32it/s]\n",
      "Training Epoch 1616: 100%|██████████| 261/261 [00:04<00:00, 61.34it/s]\n",
      "Training Epoch 1617: 100%|██████████| 261/261 [00:03<00:00, 66.57it/s]\n",
      "Training Epoch 1618: 100%|██████████| 261/261 [00:04<00:00, 64.17it/s]\n",
      "Training Epoch 1619: 100%|██████████| 261/261 [01:46<00:00,  2.44it/s]\n",
      "Training Epoch 1620: 100%|██████████| 261/261 [00:04<00:00, 59.44it/s]\n",
      "Training Epoch 1621: 100%|██████████| 261/261 [00:04<00:00, 62.50it/s]\n"
     ]
    },
    {
     "name": "stdout",
     "output_type": "stream",
     "text": [
      "Epoch 1620 - Train Loss: 0.0528, Train MSE: 0.0528, Train MAE: 0.1624\n",
      "Epoch 1620 - Validation Loss: 1.5260, Validation MSE: 1.5276, Validation MAE: 0.8979\n"
     ]
    },
    {
     "name": "stderr",
     "output_type": "stream",
     "text": [
      "Training Epoch 1622: 100%|██████████| 261/261 [00:03<00:00, 65.40it/s]\n",
      "Training Epoch 1623: 100%|██████████| 261/261 [00:04<00:00, 60.68it/s]\n",
      "Training Epoch 1624: 100%|██████████| 261/261 [00:04<00:00, 62.49it/s]\n",
      "Training Epoch 1625: 100%|██████████| 261/261 [00:04<00:00, 65.07it/s]\n",
      "Training Epoch 1626: 100%|██████████| 261/261 [00:03<00:00, 65.96it/s]\n",
      "Training Epoch 1627: 100%|██████████| 261/261 [00:04<00:00, 60.71it/s]\n",
      "Training Epoch 1628: 100%|██████████| 261/261 [00:04<00:00, 64.90it/s]\n",
      "Training Epoch 1629: 100%|██████████| 261/261 [15:57<00:00,  3.67s/it]\n",
      "Training Epoch 1630: 100%|██████████| 261/261 [00:04<00:00, 62.02it/s]\n",
      "Training Epoch 1631: 100%|██████████| 261/261 [00:04<00:00, 63.04it/s]\n"
     ]
    },
    {
     "name": "stdout",
     "output_type": "stream",
     "text": [
      "Epoch 1630 - Train Loss: 0.0525, Train MSE: 0.0525, Train MAE: 0.1620\n",
      "Epoch 1630 - Validation Loss: 1.5369, Validation MSE: 1.5385, Validation MAE: 0.9033\n"
     ]
    },
    {
     "name": "stderr",
     "output_type": "stream",
     "text": [
      "Training Epoch 1632: 100%|██████████| 261/261 [00:03<00:00, 67.03it/s]\n",
      "Training Epoch 1633: 100%|██████████| 261/261 [00:04<00:00, 60.50it/s]\n",
      "Training Epoch 1634: 100%|██████████| 261/261 [00:04<00:00, 62.45it/s]\n",
      "Training Epoch 1635: 100%|██████████| 261/261 [00:04<00:00, 64.08it/s]\n",
      "Training Epoch 1636: 100%|██████████| 261/261 [00:03<00:00, 66.65it/s]\n",
      "Training Epoch 1637: 100%|██████████| 261/261 [00:04<00:00, 64.15it/s]\n",
      "Training Epoch 1638: 100%|██████████| 261/261 [00:04<00:00, 64.98it/s]\n",
      "Training Epoch 1639: 100%|██████████| 261/261 [00:04<00:00, 62.56it/s]\n",
      "Training Epoch 1640: 100%|██████████| 261/261 [00:04<00:00, 54.70it/s]\n",
      "Training Epoch 1641: 100%|██████████| 261/261 [00:04<00:00, 61.90it/s]\n"
     ]
    },
    {
     "name": "stdout",
     "output_type": "stream",
     "text": [
      "Epoch 1640 - Train Loss: 0.0522, Train MSE: 0.0522, Train MAE: 0.1624\n",
      "Epoch 1640 - Validation Loss: 1.5381, Validation MSE: 1.5398, Validation MAE: 0.8976\n"
     ]
    },
    {
     "name": "stderr",
     "output_type": "stream",
     "text": [
      "Training Epoch 1642: 100%|██████████| 261/261 [00:03<00:00, 65.76it/s]\n",
      "Training Epoch 1643: 100%|██████████| 261/261 [00:03<00:00, 66.52it/s]\n",
      "Training Epoch 1644: 100%|██████████| 261/261 [00:04<00:00, 63.91it/s]\n",
      "Training Epoch 1645: 100%|██████████| 261/261 [00:04<00:00, 62.01it/s]\n",
      "Training Epoch 1646: 100%|██████████| 261/261 [00:03<00:00, 65.46it/s]\n",
      "Training Epoch 1647: 100%|██████████| 261/261 [00:04<00:00, 60.73it/s]\n",
      "Training Epoch 1648: 100%|██████████| 261/261 [00:04<00:00, 63.05it/s]\n",
      "Training Epoch 1649: 100%|██████████| 261/261 [00:04<00:00, 64.39it/s]\n",
      "Training Epoch 1650: 100%|██████████| 261/261 [00:04<00:00, 60.93it/s]\n",
      "Training Epoch 1651: 100%|██████████| 261/261 [15:27<00:00,  3.55s/it]  \n"
     ]
    },
    {
     "name": "stdout",
     "output_type": "stream",
     "text": [
      "Epoch 1650 - Train Loss: 0.0533, Train MSE: 0.0533, Train MAE: 0.1640\n",
      "Epoch 1650 - Validation Loss: 1.5458, Validation MSE: 1.5474, Validation MAE: 0.9024\n"
     ]
    },
    {
     "name": "stderr",
     "output_type": "stream",
     "text": [
      "Training Epoch 1652: 100%|██████████| 261/261 [00:05<00:00, 47.98it/s]\n",
      "Training Epoch 1653: 100%|██████████| 261/261 [00:04<00:00, 55.27it/s]\n",
      "Training Epoch 1654: 100%|██████████| 261/261 [00:04<00:00, 61.49it/s]\n",
      "Training Epoch 1655: 100%|██████████| 261/261 [00:04<00:00, 58.91it/s]\n",
      "Training Epoch 1656: 100%|██████████| 261/261 [00:04<00:00, 56.49it/s]\n",
      "Training Epoch 1657: 100%|██████████| 261/261 [00:04<00:00, 56.69it/s]\n",
      "Training Epoch 1658: 100%|██████████| 261/261 [00:04<00:00, 63.64it/s]\n",
      "Training Epoch 1659: 100%|██████████| 261/261 [00:04<00:00, 59.56it/s]\n",
      "Training Epoch 1660: 100%|██████████| 261/261 [00:04<00:00, 61.16it/s]\n",
      "Training Epoch 1661: 100%|██████████| 261/261 [00:04<00:00, 63.14it/s]\n"
     ]
    },
    {
     "name": "stdout",
     "output_type": "stream",
     "text": [
      "Epoch 1660 - Train Loss: 0.0509, Train MSE: 0.0509, Train MAE: 0.1610\n",
      "Epoch 1660 - Validation Loss: 1.5619, Validation MSE: 1.5635, Validation MAE: 0.9064\n"
     ]
    },
    {
     "name": "stderr",
     "output_type": "stream",
     "text": [
      "Training Epoch 1662: 100%|██████████| 261/261 [00:04<00:00, 62.89it/s]\n",
      "Training Epoch 1663: 100%|██████████| 261/261 [00:04<00:00, 64.31it/s]\n",
      "Training Epoch 1664: 100%|██████████| 261/261 [00:03<00:00, 65.85it/s]\n",
      "Training Epoch 1665: 100%|██████████| 261/261 [15:35<00:00,  3.59s/it] \n",
      "Training Epoch 1666: 100%|██████████| 261/261 [00:04<00:00, 58.24it/s]\n",
      "Training Epoch 1667: 100%|██████████| 261/261 [00:04<00:00, 60.78it/s]\n",
      "Training Epoch 1668: 100%|██████████| 261/261 [00:04<00:00, 62.05it/s]\n",
      "Training Epoch 1669: 100%|██████████| 261/261 [00:04<00:00, 56.31it/s]\n",
      "Training Epoch 1670: 100%|██████████| 261/261 [00:04<00:00, 62.06it/s]\n",
      "Training Epoch 1671: 100%|██████████| 261/261 [00:04<00:00, 61.19it/s]\n"
     ]
    },
    {
     "name": "stdout",
     "output_type": "stream",
     "text": [
      "Epoch 1670 - Train Loss: 0.0514, Train MSE: 0.0514, Train MAE: 0.1616\n",
      "Epoch 1670 - Validation Loss: 1.5534, Validation MSE: 1.5550, Validation MAE: 0.9036\n"
     ]
    },
    {
     "name": "stderr",
     "output_type": "stream",
     "text": [
      "Training Epoch 1672: 100%|██████████| 261/261 [00:04<00:00, 61.24it/s]\n",
      "Training Epoch 1673: 100%|██████████| 261/261 [00:04<00:00, 57.07it/s]\n",
      "Training Epoch 1674: 100%|██████████| 261/261 [00:04<00:00, 59.52it/s]\n",
      "Training Epoch 1675: 100%|██████████| 261/261 [00:04<00:00, 61.37it/s]\n",
      "Training Epoch 1676: 100%|██████████| 261/261 [00:04<00:00, 62.41it/s]\n",
      "Training Epoch 1677: 100%|██████████| 261/261 [00:04<00:00, 62.98it/s]\n",
      "Training Epoch 1678: 100%|██████████| 261/261 [00:04<00:00, 61.66it/s]\n",
      "Training Epoch 1679: 100%|██████████| 261/261 [00:04<00:00, 60.61it/s]\n",
      "Training Epoch 1680: 100%|██████████| 261/261 [00:04<00:00, 59.69it/s]\n",
      "Training Epoch 1681: 100%|██████████| 261/261 [00:04<00:00, 62.41it/s]\n"
     ]
    },
    {
     "name": "stdout",
     "output_type": "stream",
     "text": [
      "Epoch 1680 - Train Loss: 0.0531, Train MSE: 0.0531, Train MAE: 0.1624\n",
      "Epoch 1680 - Validation Loss: 1.5523, Validation MSE: 1.5540, Validation MAE: 0.9022\n"
     ]
    },
    {
     "name": "stderr",
     "output_type": "stream",
     "text": [
      "Training Epoch 1682: 100%|██████████| 261/261 [00:04<00:00, 62.17it/s]\n",
      "Training Epoch 1683: 100%|██████████| 261/261 [00:04<00:00, 58.47it/s]\n",
      "Training Epoch 1684: 100%|██████████| 261/261 [00:04<00:00, 62.65it/s]\n",
      "Training Epoch 1685: 100%|██████████| 261/261 [00:04<00:00, 64.30it/s]\n",
      "Training Epoch 1686: 100%|██████████| 261/261 [00:04<00:00, 59.61it/s]\n",
      "Training Epoch 1687: 100%|██████████| 261/261 [00:04<00:00, 59.99it/s]\n",
      "Training Epoch 1688: 100%|██████████| 261/261 [00:04<00:00, 61.59it/s]\n",
      "Training Epoch 1689: 100%|██████████| 261/261 [00:04<00:00, 59.13it/s]\n",
      "Training Epoch 1690: 100%|██████████| 261/261 [00:04<00:00, 57.70it/s]\n",
      "Training Epoch 1691: 100%|██████████| 261/261 [00:04<00:00, 62.18it/s]\n"
     ]
    },
    {
     "name": "stdout",
     "output_type": "stream",
     "text": [
      "Epoch 1690 - Train Loss: 0.0491, Train MSE: 0.0491, Train MAE: 0.1568\n",
      "Epoch 1690 - Validation Loss: 1.5498, Validation MSE: 1.5515, Validation MAE: 0.9050\n"
     ]
    },
    {
     "name": "stderr",
     "output_type": "stream",
     "text": [
      "Training Epoch 1692: 100%|██████████| 261/261 [00:04<00:00, 59.16it/s]\n",
      "Training Epoch 1693: 100%|██████████| 261/261 [00:04<00:00, 57.76it/s]\n",
      "Training Epoch 1694: 100%|██████████| 261/261 [00:04<00:00, 62.42it/s]\n",
      "Training Epoch 1695: 100%|██████████| 261/261 [00:04<00:00, 60.23it/s]\n",
      "Training Epoch 1696: 100%|██████████| 261/261 [00:04<00:00, 58.82it/s]\n",
      "Training Epoch 1697: 100%|██████████| 261/261 [00:04<00:00, 59.71it/s]\n",
      "Training Epoch 1698: 100%|██████████| 261/261 [00:04<00:00, 62.36it/s]\n",
      "Training Epoch 1699: 100%|██████████| 261/261 [00:04<00:00, 57.77it/s]\n",
      "Training Epoch 1700: 100%|██████████| 261/261 [00:04<00:00, 61.11it/s]\n",
      "Training Epoch 1701: 100%|██████████| 261/261 [00:04<00:00, 59.60it/s]\n"
     ]
    },
    {
     "name": "stdout",
     "output_type": "stream",
     "text": [
      "Epoch 1700 - Train Loss: 0.0499, Train MSE: 0.0499, Train MAE: 0.1575\n",
      "Epoch 1700 - Validation Loss: 1.5417, Validation MSE: 1.5433, Validation MAE: 0.9023\n"
     ]
    },
    {
     "name": "stderr",
     "output_type": "stream",
     "text": [
      "Training Epoch 1702: 100%|██████████| 261/261 [00:04<00:00, 57.81it/s]\n",
      "Training Epoch 1703: 100%|██████████| 261/261 [00:04<00:00, 61.55it/s]\n",
      "Training Epoch 1704: 100%|██████████| 261/261 [00:04<00:00, 59.70it/s]\n",
      "Training Epoch 1705: 100%|██████████| 261/261 [00:04<00:00, 58.92it/s]\n",
      "Training Epoch 1706: 100%|██████████| 261/261 [00:04<00:00, 61.90it/s]\n",
      "Training Epoch 1707: 100%|██████████| 261/261 [00:04<00:00, 58.37it/s]\n",
      "Training Epoch 1708: 100%|██████████| 261/261 [00:04<00:00, 59.54it/s]\n",
      "Training Epoch 1709: 100%|██████████| 261/261 [00:04<00:00, 62.44it/s]\n",
      "Training Epoch 1710: 100%|██████████| 261/261 [00:04<00:00, 60.17it/s]\n",
      "Training Epoch 1711: 100%|██████████| 261/261 [00:04<00:00, 59.75it/s]\n"
     ]
    },
    {
     "name": "stdout",
     "output_type": "stream",
     "text": [
      "Epoch 1710 - Train Loss: 0.0491, Train MSE: 0.0491, Train MAE: 0.1580\n",
      "Epoch 1710 - Validation Loss: 1.5504, Validation MSE: 1.5520, Validation MAE: 0.9030\n"
     ]
    },
    {
     "name": "stderr",
     "output_type": "stream",
     "text": [
      "Training Epoch 1712: 100%|██████████| 261/261 [00:04<00:00, 59.47it/s]\n",
      "Training Epoch 1713: 100%|██████████| 261/261 [00:04<00:00, 58.09it/s]\n",
      "Training Epoch 1714: 100%|██████████| 261/261 [00:04<00:00, 56.32it/s]\n",
      "Training Epoch 1715: 100%|██████████| 261/261 [16:34<00:00,  3.81s/it] \n",
      "Training Epoch 1716: 100%|██████████| 261/261 [00:04<00:00, 60.50it/s]\n",
      "Training Epoch 1717: 100%|██████████| 261/261 [00:04<00:00, 64.38it/s]\n",
      "Training Epoch 1718: 100%|██████████| 261/261 [00:04<00:00, 61.19it/s]\n",
      "Training Epoch 1719: 100%|██████████| 261/261 [00:04<00:00, 59.12it/s]\n",
      "Training Epoch 1720: 100%|██████████| 261/261 [00:04<00:00, 64.57it/s]\n",
      "Training Epoch 1721: 100%|██████████| 261/261 [00:04<00:00, 58.68it/s]\n"
     ]
    },
    {
     "name": "stdout",
     "output_type": "stream",
     "text": [
      "Epoch 1720 - Train Loss: 0.0486, Train MSE: 0.0486, Train MAE: 0.1576\n",
      "Epoch 1720 - Validation Loss: 1.5592, Validation MSE: 1.5609, Validation MAE: 0.9097\n"
     ]
    },
    {
     "name": "stderr",
     "output_type": "stream",
     "text": [
      "Training Epoch 1722: 100%|██████████| 261/261 [00:04<00:00, 61.39it/s]\n",
      "Training Epoch 1723: 100%|██████████| 261/261 [00:04<00:00, 63.87it/s]\n",
      "Training Epoch 1724: 100%|██████████| 261/261 [00:04<00:00, 63.41it/s]\n",
      "Training Epoch 1725: 100%|██████████| 261/261 [16:36<00:00,  3.82s/it]  \n",
      "Training Epoch 1726: 100%|██████████| 261/261 [00:04<00:00, 56.58it/s]\n",
      "Training Epoch 1727: 100%|██████████| 261/261 [00:04<00:00, 58.60it/s]\n",
      "Training Epoch 1728: 100%|██████████| 261/261 [00:04<00:00, 60.22it/s]\n",
      "Training Epoch 1729: 100%|██████████| 261/261 [00:04<00:00, 62.60it/s]\n",
      "Training Epoch 1730: 100%|██████████| 261/261 [00:04<00:00, 62.22it/s]\n",
      "Training Epoch 1731: 100%|██████████| 261/261 [00:04<00:00, 63.18it/s]\n"
     ]
    },
    {
     "name": "stdout",
     "output_type": "stream",
     "text": [
      "Epoch 1730 - Train Loss: 0.0498, Train MSE: 0.0498, Train MAE: 0.1575\n",
      "Epoch 1730 - Validation Loss: 1.5471, Validation MSE: 1.5487, Validation MAE: 0.9046\n"
     ]
    },
    {
     "name": "stderr",
     "output_type": "stream",
     "text": [
      "Training Epoch 1732: 100%|██████████| 261/261 [00:04<00:00, 60.33it/s]\n",
      "Training Epoch 1733: 100%|██████████| 261/261 [00:04<00:00, 60.37it/s]\n",
      "Training Epoch 1734: 100%|██████████| 261/261 [00:03<00:00, 65.42it/s]\n",
      "Training Epoch 1735: 100%|██████████| 261/261 [00:04<00:00, 62.10it/s]\n",
      "Training Epoch 1736: 100%|██████████| 261/261 [00:04<00:00, 64.70it/s]\n",
      "Training Epoch 1737: 100%|██████████| 261/261 [00:03<00:00, 65.54it/s]\n",
      "Training Epoch 1738: 100%|██████████| 261/261 [00:04<00:00, 64.71it/s]\n",
      "Training Epoch 1739: 100%|██████████| 261/261 [15:40<00:00,  3.60s/it]\n",
      "Training Epoch 1740: 100%|██████████| 261/261 [00:04<00:00, 56.89it/s]\n",
      "Training Epoch 1741: 100%|██████████| 261/261 [00:04<00:00, 52.66it/s]\n"
     ]
    },
    {
     "name": "stdout",
     "output_type": "stream",
     "text": [
      "Epoch 1740 - Train Loss: 0.0507, Train MSE: 0.0507, Train MAE: 0.1598\n",
      "Epoch 1740 - Validation Loss: 1.5617, Validation MSE: 1.5634, Validation MAE: 0.9080\n"
     ]
    },
    {
     "name": "stderr",
     "output_type": "stream",
     "text": [
      "Training Epoch 1742: 100%|██████████| 261/261 [00:05<00:00, 51.68it/s]\n",
      "Training Epoch 1743: 100%|██████████| 261/261 [00:04<00:00, 53.40it/s]\n",
      "Training Epoch 1744: 100%|██████████| 261/261 [00:04<00:00, 57.24it/s]\n",
      "Training Epoch 1745: 100%|██████████| 261/261 [00:04<00:00, 57.75it/s]\n",
      "Training Epoch 1746: 100%|██████████| 261/261 [00:04<00:00, 63.31it/s]\n",
      "Training Epoch 1747: 100%|██████████| 261/261 [00:04<00:00, 63.66it/s]\n",
      "Training Epoch 1748: 100%|██████████| 261/261 [00:03<00:00, 65.48it/s]\n",
      "Training Epoch 1749: 100%|██████████| 261/261 [15:15<00:00,  3.51s/it]  \n",
      "Training Epoch 1750: 100%|██████████| 261/261 [00:04<00:00, 64.33it/s]\n",
      "Training Epoch 1751: 100%|██████████| 261/261 [00:04<00:00, 58.71it/s]\n"
     ]
    },
    {
     "name": "stdout",
     "output_type": "stream",
     "text": [
      "Epoch 1750 - Train Loss: 0.0509, Train MSE: 0.0509, Train MAE: 0.1592\n",
      "Epoch 1750 - Validation Loss: 1.5545, Validation MSE: 1.5562, Validation MAE: 0.9016\n"
     ]
    },
    {
     "name": "stderr",
     "output_type": "stream",
     "text": [
      "Training Epoch 1752: 100%|██████████| 261/261 [00:04<00:00, 58.71it/s]\n",
      "Training Epoch 1753: 100%|██████████| 261/261 [00:04<00:00, 61.93it/s]\n",
      "Training Epoch 1754: 100%|██████████| 261/261 [00:04<00:00, 63.52it/s]\n",
      "Training Epoch 1755: 100%|██████████| 261/261 [00:04<00:00, 64.19it/s]\n",
      "Training Epoch 1756: 100%|██████████| 261/261 [00:04<00:00, 60.04it/s]\n",
      "Training Epoch 1757: 100%|██████████| 261/261 [00:04<00:00, 62.83it/s]\n",
      "Training Epoch 1758: 100%|██████████| 261/261 [00:03<00:00, 65.46it/s]\n",
      "Training Epoch 1759: 100%|██████████| 261/261 [00:03<00:00, 65.37it/s]\n",
      "Training Epoch 1760: 100%|██████████| 261/261 [16:32<00:00,  3.80s/it] \n",
      "Training Epoch 1761: 100%|██████████| 261/261 [00:04<00:00, 58.25it/s]\n"
     ]
    },
    {
     "name": "stdout",
     "output_type": "stream",
     "text": [
      "Epoch 1760 - Train Loss: 0.0490, Train MSE: 0.0490, Train MAE: 0.1576\n",
      "Epoch 1760 - Validation Loss: 1.5621, Validation MSE: 1.5636, Validation MAE: 0.9087\n"
     ]
    },
    {
     "name": "stderr",
     "output_type": "stream",
     "text": [
      "Training Epoch 1762: 100%|██████████| 261/261 [00:04<00:00, 62.37it/s]\n",
      "Training Epoch 1763: 100%|██████████| 261/261 [00:04<00:00, 61.82it/s]\n",
      "Training Epoch 1764: 100%|██████████| 261/261 [00:04<00:00, 53.29it/s]\n",
      "Training Epoch 1765: 100%|██████████| 261/261 [00:04<00:00, 62.18it/s]\n",
      "Training Epoch 1766: 100%|██████████| 261/261 [00:04<00:00, 62.39it/s]\n",
      "Training Epoch 1767: 100%|██████████| 261/261 [00:04<00:00, 62.15it/s]\n",
      "Training Epoch 1768: 100%|██████████| 261/261 [00:04<00:00, 59.02it/s]\n",
      "Training Epoch 1769: 100%|██████████| 261/261 [00:03<00:00, 66.50it/s]\n",
      "Training Epoch 1770: 100%|██████████| 261/261 [16:15<00:00,  3.74s/it]  \n",
      "Training Epoch 1771: 100%|██████████| 261/261 [00:04<00:00, 56.91it/s]\n"
     ]
    },
    {
     "name": "stdout",
     "output_type": "stream",
     "text": [
      "Epoch 1770 - Train Loss: 0.0500, Train MSE: 0.0500, Train MAE: 0.1583\n",
      "Epoch 1770 - Validation Loss: 1.5475, Validation MSE: 1.5491, Validation MAE: 0.9019\n"
     ]
    },
    {
     "name": "stderr",
     "output_type": "stream",
     "text": [
      "Training Epoch 1772: 100%|██████████| 261/261 [00:04<00:00, 52.67it/s]\n",
      "Training Epoch 1773: 100%|██████████| 261/261 [00:05<00:00, 51.83it/s]\n",
      "Training Epoch 1774: 100%|██████████| 261/261 [00:04<00:00, 55.93it/s]\n",
      "Training Epoch 1775: 100%|██████████| 261/261 [00:04<00:00, 58.06it/s]\n",
      "Training Epoch 1776: 100%|██████████| 261/261 [00:04<00:00, 61.61it/s]\n",
      "Training Epoch 1777: 100%|██████████| 261/261 [00:04<00:00, 60.11it/s]\n",
      "Training Epoch 1778: 100%|██████████| 261/261 [00:04<00:00, 62.12it/s]\n",
      "Training Epoch 1779: 100%|██████████| 261/261 [00:03<00:00, 65.27it/s]\n",
      "Training Epoch 1780: 100%|██████████| 261/261 [00:04<00:00, 59.56it/s]\n",
      "Training Epoch 1781: 100%|██████████| 261/261 [00:04<00:00, 62.58it/s]\n"
     ]
    },
    {
     "name": "stdout",
     "output_type": "stream",
     "text": [
      "Epoch 1780 - Train Loss: 0.0499, Train MSE: 0.0499, Train MAE: 0.1583\n",
      "Epoch 1780 - Validation Loss: 1.5451, Validation MSE: 1.5467, Validation MAE: 0.9035\n"
     ]
    },
    {
     "name": "stderr",
     "output_type": "stream",
     "text": [
      "Training Epoch 1782: 100%|██████████| 261/261 [00:04<00:00, 60.41it/s]\n",
      "Training Epoch 1783: 100%|██████████| 261/261 [00:04<00:00, 58.72it/s]\n",
      "Training Epoch 1784: 100%|██████████| 261/261 [00:04<00:00, 58.62it/s]\n",
      "Training Epoch 1785: 100%|██████████| 261/261 [00:04<00:00, 62.75it/s]\n",
      "Training Epoch 1786: 100%|██████████| 261/261 [00:04<00:00, 63.94it/s]\n",
      "Training Epoch 1787: 100%|██████████| 261/261 [00:04<00:00, 60.75it/s]\n",
      "Training Epoch 1788: 100%|██████████| 261/261 [00:04<00:00, 61.23it/s]\n",
      "Training Epoch 1789: 100%|██████████| 261/261 [00:04<00:00, 61.18it/s]\n",
      "Training Epoch 1790: 100%|██████████| 261/261 [00:04<00:00, 58.21it/s]\n",
      "Training Epoch 1791: 100%|██████████| 261/261 [00:04<00:00, 58.28it/s]\n"
     ]
    },
    {
     "name": "stdout",
     "output_type": "stream",
     "text": [
      "Epoch 1790 - Train Loss: 0.0470, Train MSE: 0.0470, Train MAE: 0.1548\n",
      "Epoch 1790 - Validation Loss: 1.5597, Validation MSE: 1.5613, Validation MAE: 0.9055\n"
     ]
    },
    {
     "name": "stderr",
     "output_type": "stream",
     "text": [
      "Training Epoch 1792: 100%|██████████| 261/261 [00:04<00:00, 60.74it/s]\n",
      "Training Epoch 1793: 100%|██████████| 261/261 [00:04<00:00, 60.57it/s]\n",
      "Training Epoch 1794: 100%|██████████| 261/261 [00:04<00:00, 59.15it/s]\n",
      "Training Epoch 1795: 100%|██████████| 261/261 [00:04<00:00, 61.47it/s]\n",
      "Training Epoch 1796: 100%|██████████| 261/261 [00:04<00:00, 63.88it/s]\n",
      "Training Epoch 1797: 100%|██████████| 261/261 [00:04<00:00, 61.99it/s]\n",
      "Training Epoch 1798: 100%|██████████| 261/261 [00:04<00:00, 62.83it/s]\n",
      "Training Epoch 1799: 100%|██████████| 261/261 [00:04<00:00, 62.93it/s]\n",
      "Training Epoch 1800: 100%|██████████| 261/261 [00:04<00:00, 59.57it/s]\n",
      "Training Epoch 1801: 100%|██████████| 261/261 [00:04<00:00, 60.36it/s]\n"
     ]
    },
    {
     "name": "stdout",
     "output_type": "stream",
     "text": [
      "Epoch 1800 - Train Loss: 0.0513, Train MSE: 0.0513, Train MAE: 0.1591\n",
      "Epoch 1800 - Validation Loss: 1.5328, Validation MSE: 1.5344, Validation MAE: 0.8971\n"
     ]
    },
    {
     "name": "stderr",
     "output_type": "stream",
     "text": [
      "Training Epoch 1802: 100%|██████████| 261/261 [00:04<00:00, 59.67it/s]\n",
      "Training Epoch 1803: 100%|██████████| 261/261 [00:04<00:00, 57.43it/s]\n",
      "Training Epoch 1804: 100%|██████████| 261/261 [00:04<00:00, 56.75it/s]\n",
      "Training Epoch 1805: 100%|██████████| 261/261 [00:04<00:00, 57.05it/s]\n",
      "Training Epoch 1806: 100%|██████████| 261/261 [00:04<00:00, 60.63it/s]\n",
      "Training Epoch 1807: 100%|██████████| 261/261 [00:04<00:00, 57.04it/s]\n",
      "Training Epoch 1808: 100%|██████████| 261/261 [00:04<00:00, 61.05it/s]\n",
      "Training Epoch 1809: 100%|██████████| 261/261 [00:04<00:00, 62.41it/s]\n",
      "Training Epoch 1810: 100%|██████████| 261/261 [00:04<00:00, 61.25it/s]\n",
      "Training Epoch 1811: 100%|██████████| 261/261 [00:04<00:00, 63.95it/s]\n"
     ]
    },
    {
     "name": "stdout",
     "output_type": "stream",
     "text": [
      "Epoch 1810 - Train Loss: 0.0482, Train MSE: 0.0482, Train MAE: 0.1570\n",
      "Epoch 1810 - Validation Loss: 1.5307, Validation MSE: 1.5323, Validation MAE: 0.8977\n"
     ]
    },
    {
     "name": "stderr",
     "output_type": "stream",
     "text": [
      "Training Epoch 1812: 100%|██████████| 261/261 [00:04<00:00, 58.74it/s]\n",
      "Training Epoch 1813: 100%|██████████| 261/261 [00:04<00:00, 64.42it/s]\n",
      "Training Epoch 1814: 100%|██████████| 261/261 [00:04<00:00, 58.37it/s]\n",
      "Training Epoch 1815: 100%|██████████| 261/261 [00:04<00:00, 58.96it/s]\n",
      "Training Epoch 1816: 100%|██████████| 261/261 [00:04<00:00, 56.72it/s]\n",
      "Training Epoch 1817: 100%|██████████| 261/261 [00:04<00:00, 58.43it/s]\n",
      "Training Epoch 1818: 100%|██████████| 261/261 [00:04<00:00, 59.22it/s]\n",
      "Training Epoch 1819: 100%|██████████| 261/261 [00:04<00:00, 61.92it/s]\n",
      "Training Epoch 1820: 100%|██████████| 261/261 [00:04<00:00, 59.06it/s]\n",
      "Training Epoch 1821: 100%|██████████| 261/261 [00:04<00:00, 62.29it/s]\n"
     ]
    },
    {
     "name": "stdout",
     "output_type": "stream",
     "text": [
      "Epoch 1820 - Train Loss: 0.0494, Train MSE: 0.0494, Train MAE: 0.1561\n",
      "Epoch 1820 - Validation Loss: 1.5501, Validation MSE: 1.5518, Validation MAE: 0.9024\n"
     ]
    },
    {
     "name": "stderr",
     "output_type": "stream",
     "text": [
      "Training Epoch 1822: 100%|██████████| 261/261 [00:04<00:00, 59.02it/s]\n",
      "Training Epoch 1823: 100%|██████████| 261/261 [00:04<00:00, 59.65it/s]\n",
      "Training Epoch 1824: 100%|██████████| 261/261 [00:04<00:00, 61.70it/s]\n",
      "Training Epoch 1825: 100%|██████████| 261/261 [00:04<00:00, 58.34it/s]\n",
      "Training Epoch 1826: 100%|██████████| 261/261 [00:04<00:00, 60.78it/s]\n",
      "Training Epoch 1827: 100%|██████████| 261/261 [00:04<00:00, 59.47it/s]\n",
      "Training Epoch 1828: 100%|██████████| 261/261 [00:04<00:00, 62.43it/s]\n",
      "Training Epoch 1829: 100%|██████████| 261/261 [00:04<00:00, 55.15it/s]\n",
      "Training Epoch 1830: 100%|██████████| 261/261 [00:04<00:00, 59.46it/s]\n",
      "Training Epoch 1831: 100%|██████████| 261/261 [00:04<00:00, 60.52it/s]\n"
     ]
    },
    {
     "name": "stdout",
     "output_type": "stream",
     "text": [
      "Epoch 1830 - Train Loss: 0.0481, Train MSE: 0.0481, Train MAE: 0.1553\n",
      "Epoch 1830 - Validation Loss: 1.5363, Validation MSE: 1.5378, Validation MAE: 0.8992\n"
     ]
    },
    {
     "name": "stderr",
     "output_type": "stream",
     "text": [
      "Training Epoch 1832: 100%|██████████| 261/261 [00:04<00:00, 58.07it/s]\n",
      "Training Epoch 1833: 100%|██████████| 261/261 [00:04<00:00, 58.34it/s]\n",
      "Training Epoch 1834: 100%|██████████| 261/261 [00:04<00:00, 63.34it/s]\n",
      "Training Epoch 1835: 100%|██████████| 261/261 [00:04<00:00, 60.77it/s]\n",
      "Training Epoch 1836: 100%|██████████| 261/261 [00:04<00:00, 57.74it/s]\n",
      "Training Epoch 1837: 100%|██████████| 261/261 [00:04<00:00, 61.30it/s]\n",
      "Training Epoch 1838: 100%|██████████| 261/261 [16:34<00:00,  3.81s/it] \n",
      "Training Epoch 1839: 100%|██████████| 261/261 [00:04<00:00, 55.15it/s]\n",
      "Training Epoch 1840: 100%|██████████| 261/261 [00:04<00:00, 63.39it/s]\n",
      "Training Epoch 1841: 100%|██████████| 261/261 [00:04<00:00, 60.96it/s]\n"
     ]
    },
    {
     "name": "stdout",
     "output_type": "stream",
     "text": [
      "Epoch 1840 - Train Loss: 0.0485, Train MSE: 0.0485, Train MAE: 0.1551\n",
      "Epoch 1840 - Validation Loss: 1.5386, Validation MSE: 1.5402, Validation MAE: 0.9014\n"
     ]
    },
    {
     "name": "stderr",
     "output_type": "stream",
     "text": [
      "Training Epoch 1842: 100%|██████████| 261/261 [00:04<00:00, 58.63it/s]\n",
      "Training Epoch 1843: 100%|██████████| 261/261 [00:04<00:00, 61.71it/s]\n",
      "Training Epoch 1844: 100%|██████████| 261/261 [00:04<00:00, 64.60it/s]\n",
      "Training Epoch 1845: 100%|██████████| 261/261 [00:04<00:00, 63.60it/s]\n",
      "Training Epoch 1846: 100%|██████████| 261/261 [00:04<00:00, 56.94it/s]\n",
      "Training Epoch 1847: 100%|██████████| 261/261 [00:04<00:00, 64.58it/s]\n",
      "Training Epoch 1848: 100%|██████████| 261/261 [15:15<00:00,  3.51s/it]\n",
      "Training Epoch 1849: 100%|██████████| 261/261 [00:04<00:00, 61.05it/s]\n",
      "Training Epoch 1850: 100%|██████████| 261/261 [00:04<00:00, 57.01it/s]\n",
      "Training Epoch 1851: 100%|██████████| 261/261 [00:04<00:00, 61.18it/s]\n"
     ]
    },
    {
     "name": "stdout",
     "output_type": "stream",
     "text": [
      "Epoch 1850 - Train Loss: 0.0493, Train MSE: 0.0493, Train MAE: 0.1573\n",
      "Epoch 1850 - Validation Loss: 1.5396, Validation MSE: 1.5412, Validation MAE: 0.9034\n"
     ]
    },
    {
     "name": "stderr",
     "output_type": "stream",
     "text": [
      "Training Epoch 1852: 100%|██████████| 261/261 [00:04<00:00, 63.30it/s]\n",
      "Training Epoch 1853: 100%|██████████| 261/261 [00:04<00:00, 56.90it/s]\n",
      "Training Epoch 1854: 100%|██████████| 261/261 [00:04<00:00, 59.32it/s]\n",
      "Training Epoch 1855: 100%|██████████| 261/261 [00:04<00:00, 61.94it/s]\n",
      "Training Epoch 1856: 100%|██████████| 261/261 [00:04<00:00, 64.97it/s]\n",
      "Training Epoch 1857: 100%|██████████| 261/261 [00:04<00:00, 63.08it/s]\n",
      "Training Epoch 1858: 100%|██████████| 261/261 [00:04<00:00, 64.17it/s]\n",
      "Training Epoch 1859: 100%|██████████| 261/261 [00:04<00:00, 59.70it/s]\n",
      "Training Epoch 1860: 100%|██████████| 261/261 [00:04<00:00, 55.93it/s]\n",
      "Training Epoch 1861: 100%|██████████| 261/261 [00:04<00:00, 63.11it/s]\n"
     ]
    },
    {
     "name": "stdout",
     "output_type": "stream",
     "text": [
      "Epoch 1860 - Train Loss: 0.0466, Train MSE: 0.0466, Train MAE: 0.1535\n",
      "Epoch 1860 - Validation Loss: 1.5461, Validation MSE: 1.5477, Validation MAE: 0.9012\n"
     ]
    },
    {
     "name": "stderr",
     "output_type": "stream",
     "text": [
      "Training Epoch 1862: 100%|██████████| 261/261 [00:04<00:00, 63.61it/s]\n",
      "Training Epoch 1863: 100%|██████████| 261/261 [00:03<00:00, 65.99it/s]\n",
      "Training Epoch 1864: 100%|██████████| 261/261 [00:04<00:00, 62.20it/s]\n",
      "Training Epoch 1865: 100%|██████████| 261/261 [00:03<00:00, 66.35it/s]\n",
      "Training Epoch 1866: 100%|██████████| 261/261 [00:04<00:00, 62.98it/s]\n",
      "Training Epoch 1867: 100%|██████████| 261/261 [00:04<00:00, 61.50it/s]\n",
      "Training Epoch 1868: 100%|██████████| 261/261 [00:03<00:00, 65.27it/s]\n",
      "Training Epoch 1869: 100%|██████████| 261/261 [15:44<00:00,  3.62s/it]  \n",
      "Training Epoch 1870: 100%|██████████| 261/261 [00:04<00:00, 56.65it/s]\n",
      "Training Epoch 1871: 100%|██████████| 261/261 [00:04<00:00, 54.60it/s]\n"
     ]
    },
    {
     "name": "stdout",
     "output_type": "stream",
     "text": [
      "Epoch 1870 - Train Loss: 0.0490, Train MSE: 0.0490, Train MAE: 0.1554\n",
      "Epoch 1870 - Validation Loss: 1.5544, Validation MSE: 1.5561, Validation MAE: 0.9081\n"
     ]
    },
    {
     "name": "stderr",
     "output_type": "stream",
     "text": [
      "Training Epoch 1872: 100%|██████████| 261/261 [00:04<00:00, 57.87it/s]\n",
      "Training Epoch 1873: 100%|██████████| 261/261 [00:04<00:00, 59.63it/s]\n",
      "Training Epoch 1874: 100%|██████████| 261/261 [00:04<00:00, 54.16it/s]\n",
      "Training Epoch 1875: 100%|██████████| 261/261 [00:04<00:00, 58.18it/s]\n",
      "Training Epoch 1876: 100%|██████████| 261/261 [00:04<00:00, 61.70it/s]\n",
      "Training Epoch 1877: 100%|██████████| 261/261 [00:04<00:00, 62.89it/s]\n",
      "Training Epoch 1878: 100%|██████████| 261/261 [00:04<00:00, 59.59it/s]\n",
      "Training Epoch 1879: 100%|██████████| 261/261 [04:33<00:00,  1.05s/it]\n",
      "Training Epoch 1880: 100%|██████████| 261/261 [00:04<00:00, 63.74it/s]\n",
      "Training Epoch 1881: 100%|██████████| 261/261 [00:04<00:00, 57.84it/s]\n"
     ]
    },
    {
     "name": "stdout",
     "output_type": "stream",
     "text": [
      "Epoch 1880 - Train Loss: 0.0474, Train MSE: 0.0474, Train MAE: 0.1548\n",
      "Epoch 1880 - Validation Loss: 1.5628, Validation MSE: 1.5644, Validation MAE: 0.9078\n"
     ]
    },
    {
     "name": "stderr",
     "output_type": "stream",
     "text": [
      "Training Epoch 1882: 100%|██████████| 261/261 [00:04<00:00, 60.74it/s]\n",
      "Training Epoch 1883: 100%|██████████| 261/261 [00:04<00:00, 64.49it/s]\n",
      "Training Epoch 1884: 100%|██████████| 261/261 [00:04<00:00, 61.39it/s]\n",
      "Training Epoch 1885: 100%|██████████| 261/261 [00:04<00:00, 61.67it/s]\n",
      "Training Epoch 1886: 100%|██████████| 261/261 [00:03<00:00, 66.26it/s]\n",
      "Training Epoch 1887: 100%|██████████| 261/261 [00:03<00:00, 65.28it/s]\n",
      "Training Epoch 1888: 100%|██████████| 261/261 [00:04<00:00, 63.17it/s]\n",
      "Training Epoch 1889: 100%|██████████| 261/261 [00:04<00:00, 64.28it/s]\n",
      "Training Epoch 1890: 100%|██████████| 261/261 [00:04<00:00, 62.56it/s]\n",
      "Training Epoch 1891: 100%|██████████| 261/261 [00:04<00:00, 62.88it/s]\n"
     ]
    },
    {
     "name": "stdout",
     "output_type": "stream",
     "text": [
      "Epoch 1890 - Train Loss: 0.0472, Train MSE: 0.0472, Train MAE: 0.1547\n",
      "Epoch 1890 - Validation Loss: 1.5442, Validation MSE: 1.5457, Validation MAE: 0.9035\n"
     ]
    },
    {
     "name": "stderr",
     "output_type": "stream",
     "text": [
      "Training Epoch 1892: 100%|██████████| 261/261 [00:04<00:00, 63.92it/s]\n",
      "Training Epoch 1893: 100%|██████████| 261/261 [00:04<00:00, 61.97it/s]\n",
      "Training Epoch 1894: 100%|██████████| 261/261 [00:03<00:00, 66.34it/s]\n",
      "Training Epoch 1895: 100%|██████████| 261/261 [00:04<00:00, 57.23it/s]\n",
      "Training Epoch 1896: 100%|██████████| 261/261 [00:04<00:00, 54.79it/s]\n",
      "Training Epoch 1897: 100%|██████████| 261/261 [00:04<00:00, 63.05it/s]\n",
      "Training Epoch 1898: 100%|██████████| 261/261 [00:03<00:00, 65.34it/s]\n",
      "Training Epoch 1899: 100%|██████████| 261/261 [00:04<00:00, 64.62it/s]\n",
      "Training Epoch 1900: 100%|██████████| 261/261 [15:43<00:00,  3.61s/it]  \n",
      "Training Epoch 1901: 100%|██████████| 261/261 [00:04<00:00, 57.55it/s]\n"
     ]
    },
    {
     "name": "stdout",
     "output_type": "stream",
     "text": [
      "Epoch 1900 - Train Loss: 0.0483, Train MSE: 0.0483, Train MAE: 0.1543\n",
      "Epoch 1900 - Validation Loss: 1.5454, Validation MSE: 1.5470, Validation MAE: 0.9022\n"
     ]
    },
    {
     "name": "stderr",
     "output_type": "stream",
     "text": [
      "Training Epoch 1902: 100%|██████████| 261/261 [00:04<00:00, 60.12it/s]\n",
      "Training Epoch 1903: 100%|██████████| 261/261 [00:04<00:00, 64.94it/s]\n",
      "Training Epoch 1904: 100%|██████████| 261/261 [00:04<00:00, 63.73it/s]\n",
      "Training Epoch 1905: 100%|██████████| 261/261 [00:04<00:00, 57.00it/s]\n",
      "Training Epoch 1906: 100%|██████████| 261/261 [00:04<00:00, 61.21it/s]\n",
      "Training Epoch 1907: 100%|██████████| 261/261 [00:03<00:00, 65.48it/s]\n",
      "Training Epoch 1908: 100%|██████████| 261/261 [00:04<00:00, 58.11it/s]\n",
      "Training Epoch 1909: 100%|██████████| 261/261 [00:04<00:00, 61.72it/s]\n",
      "Training Epoch 1910: 100%|██████████| 261/261 [00:04<00:00, 62.20it/s]\n",
      "Training Epoch 1911: 100%|██████████| 261/261 [00:04<00:00, 64.93it/s]\n"
     ]
    },
    {
     "name": "stdout",
     "output_type": "stream",
     "text": [
      "Epoch 1910 - Train Loss: 0.0474, Train MSE: 0.0474, Train MAE: 0.1545\n",
      "Epoch 1910 - Validation Loss: 1.5727, Validation MSE: 1.5743, Validation MAE: 0.9106\n"
     ]
    },
    {
     "name": "stderr",
     "output_type": "stream",
     "text": [
      "Training Epoch 1912: 100%|██████████| 261/261 [00:04<00:00, 63.94it/s]\n",
      "Training Epoch 1913: 100%|██████████| 261/261 [00:04<00:00, 57.04it/s]\n",
      "Training Epoch 1914: 100%|██████████| 261/261 [00:04<00:00, 58.62it/s]\n",
      "Training Epoch 1915: 100%|██████████| 261/261 [00:04<00:00, 58.01it/s]\n",
      "Training Epoch 1916: 100%|██████████| 261/261 [00:03<00:00, 65.34it/s]\n",
      "Training Epoch 1917: 100%|██████████| 261/261 [00:04<00:00, 63.20it/s]\n",
      "Training Epoch 1918: 100%|██████████| 261/261 [00:03<00:00, 66.57it/s]\n",
      "Training Epoch 1919: 100%|██████████| 261/261 [00:03<00:00, 65.78it/s]\n",
      "Training Epoch 1920: 100%|██████████| 261/261 [00:04<00:00, 59.65it/s]\n",
      "Training Epoch 1921: 100%|██████████| 261/261 [15:45<00:00,  3.62s/it]  \n"
     ]
    },
    {
     "name": "stdout",
     "output_type": "stream",
     "text": [
      "Epoch 1920 - Train Loss: 0.0480, Train MSE: 0.0480, Train MAE: 0.1549\n",
      "Epoch 1920 - Validation Loss: 1.5436, Validation MSE: 1.5452, Validation MAE: 0.9031\n"
     ]
    },
    {
     "name": "stderr",
     "output_type": "stream",
     "text": [
      "Training Epoch 1922: 100%|██████████| 261/261 [00:05<00:00, 51.38it/s]\n",
      "Training Epoch 1923: 100%|██████████| 261/261 [00:04<00:00, 54.55it/s]\n",
      "Training Epoch 1924: 100%|██████████| 261/261 [00:04<00:00, 59.53it/s]\n",
      "Training Epoch 1925: 100%|██████████| 261/261 [00:04<00:00, 55.50it/s]\n",
      "Training Epoch 1926: 100%|██████████| 261/261 [00:05<00:00, 52.13it/s]\n",
      "Training Epoch 1927: 100%|██████████| 261/261 [00:04<00:00, 55.65it/s]\n",
      "Training Epoch 1928: 100%|██████████| 261/261 [00:04<00:00, 57.78it/s]\n",
      "Training Epoch 1929: 100%|██████████| 261/261 [00:04<00:00, 57.24it/s]\n",
      "Training Epoch 1930: 100%|██████████| 261/261 [00:04<00:00, 57.84it/s]\n",
      "Training Epoch 1931: 100%|██████████| 261/261 [00:04<00:00, 61.43it/s]\n"
     ]
    },
    {
     "name": "stdout",
     "output_type": "stream",
     "text": [
      "Epoch 1930 - Train Loss: 0.0453, Train MSE: 0.0452, Train MAE: 0.1516\n",
      "Epoch 1930 - Validation Loss: 1.5567, Validation MSE: 1.5584, Validation MAE: 0.9056\n"
     ]
    },
    {
     "name": "stderr",
     "output_type": "stream",
     "text": [
      "Training Epoch 1932: 100%|██████████| 261/261 [00:04<00:00, 59.17it/s]\n",
      "Training Epoch 1933: 100%|██████████| 261/261 [00:04<00:00, 55.62it/s]\n",
      "Training Epoch 1934: 100%|██████████| 261/261 [00:04<00:00, 53.75it/s]\n",
      "Training Epoch 1935: 100%|██████████| 261/261 [00:04<00:00, 57.72it/s]\n",
      "Training Epoch 1936: 100%|██████████| 261/261 [00:04<00:00, 57.92it/s]\n",
      "Training Epoch 1937: 100%|██████████| 261/261 [15:52<00:00,  3.65s/it]  \n",
      "Training Epoch 1938: 100%|██████████| 261/261 [00:04<00:00, 60.32it/s]\n",
      "Training Epoch 1939: 100%|██████████| 261/261 [00:03<00:00, 65.33it/s]\n",
      "Training Epoch 1940: 100%|██████████| 261/261 [00:04<00:00, 63.38it/s]\n",
      "Training Epoch 1941: 100%|██████████| 261/261 [00:03<00:00, 67.53it/s]\n"
     ]
    },
    {
     "name": "stdout",
     "output_type": "stream",
     "text": [
      "Epoch 1940 - Train Loss: 0.0459, Train MSE: 0.0459, Train MAE: 0.1546\n",
      "Epoch 1940 - Validation Loss: 1.5570, Validation MSE: 1.5588, Validation MAE: 0.9057\n"
     ]
    },
    {
     "name": "stderr",
     "output_type": "stream",
     "text": [
      "Training Epoch 1942: 100%|██████████| 261/261 [00:04<00:00, 64.32it/s]\n",
      "Training Epoch 1943: 100%|██████████| 261/261 [00:04<00:00, 60.60it/s]\n",
      "Training Epoch 1944: 100%|██████████| 261/261 [00:04<00:00, 59.95it/s]\n",
      "Training Epoch 1945: 100%|██████████| 261/261 [00:04<00:00, 61.29it/s]\n",
      "Training Epoch 1946: 100%|██████████| 261/261 [00:04<00:00, 63.30it/s]\n",
      "Training Epoch 1947: 100%|██████████| 261/261 [00:04<00:00, 60.10it/s]\n",
      "Training Epoch 1948: 100%|██████████| 261/261 [16:17<00:00,  3.75s/it]  \n",
      "Training Epoch 1949: 100%|██████████| 261/261 [00:04<00:00, 57.23it/s]\n",
      "Training Epoch 1950: 100%|██████████| 261/261 [00:05<00:00, 51.77it/s]\n",
      "Training Epoch 1951: 100%|██████████| 261/261 [00:04<00:00, 62.86it/s]\n"
     ]
    },
    {
     "name": "stdout",
     "output_type": "stream",
     "text": [
      "Epoch 1950 - Train Loss: 0.0475, Train MSE: 0.0475, Train MAE: 0.1534\n",
      "Epoch 1950 - Validation Loss: 1.5576, Validation MSE: 1.5593, Validation MAE: 0.9072\n"
     ]
    },
    {
     "name": "stderr",
     "output_type": "stream",
     "text": [
      "Training Epoch 1952: 100%|██████████| 261/261 [00:03<00:00, 66.17it/s]\n",
      "Training Epoch 1953: 100%|██████████| 261/261 [00:04<00:00, 61.31it/s]\n",
      "Training Epoch 1954: 100%|██████████| 261/261 [00:05<00:00, 47.81it/s]\n",
      "Training Epoch 1955: 100%|██████████| 261/261 [00:04<00:00, 62.94it/s]\n",
      "Training Epoch 1956: 100%|██████████| 261/261 [00:04<00:00, 63.51it/s]\n",
      "Training Epoch 1957: 100%|██████████| 261/261 [00:10<00:00, 24.66it/s]\n",
      "Training Epoch 1958: 100%|██████████| 261/261 [00:04<00:00, 64.34it/s]\n",
      "Training Epoch 1959: 100%|██████████| 261/261 [00:04<00:00, 62.22it/s]\n",
      "Training Epoch 1960: 100%|██████████| 261/261 [00:04<00:00, 60.54it/s]\n",
      "Training Epoch 1961: 100%|██████████| 261/261 [00:04<00:00, 60.66it/s]\n"
     ]
    },
    {
     "name": "stdout",
     "output_type": "stream",
     "text": [
      "Epoch 1960 - Train Loss: 0.0451, Train MSE: 0.0451, Train MAE: 0.1496\n",
      "Epoch 1960 - Validation Loss: 1.5573, Validation MSE: 1.5590, Validation MAE: 0.9062\n"
     ]
    },
    {
     "name": "stderr",
     "output_type": "stream",
     "text": [
      "Training Epoch 1962: 100%|██████████| 261/261 [00:04<00:00, 64.63it/s]\n",
      "Training Epoch 1963: 100%|██████████| 261/261 [00:04<00:00, 63.11it/s]\n",
      "Training Epoch 1964: 100%|██████████| 261/261 [00:04<00:00, 62.96it/s]\n",
      "Training Epoch 1965: 100%|██████████| 261/261 [00:04<00:00, 64.88it/s]\n",
      "Training Epoch 1966: 100%|██████████| 261/261 [00:04<00:00, 60.14it/s]\n",
      "Training Epoch 1967: 100%|██████████| 261/261 [00:04<00:00, 64.47it/s]\n",
      "Training Epoch 1968: 100%|██████████| 261/261 [15:42<00:00,  3.61s/it]  \n",
      "Training Epoch 1969: 100%|██████████| 261/261 [00:04<00:00, 60.73it/s]\n",
      "Training Epoch 1970: 100%|██████████| 261/261 [00:04<00:00, 60.07it/s]\n",
      "Training Epoch 1971: 100%|██████████| 261/261 [00:04<00:00, 56.44it/s]\n"
     ]
    },
    {
     "name": "stdout",
     "output_type": "stream",
     "text": [
      "Epoch 1970 - Train Loss: 0.0476, Train MSE: 0.0476, Train MAE: 0.1541\n",
      "Epoch 1970 - Validation Loss: 1.5519, Validation MSE: 1.5535, Validation MAE: 0.9001\n"
     ]
    },
    {
     "name": "stderr",
     "output_type": "stream",
     "text": [
      "Training Epoch 1972: 100%|██████████| 261/261 [00:04<00:00, 55.54it/s]\n",
      "Training Epoch 1973: 100%|██████████| 261/261 [00:04<00:00, 52.37it/s]\n",
      "Training Epoch 1974: 100%|██████████| 261/261 [00:04<00:00, 62.73it/s]\n",
      "Training Epoch 1975: 100%|██████████| 261/261 [00:04<00:00, 59.35it/s]\n",
      "Training Epoch 1976: 100%|██████████| 261/261 [00:04<00:00, 63.10it/s]\n",
      "Training Epoch 1977: 100%|██████████| 261/261 [00:04<00:00, 62.29it/s]\n",
      "Training Epoch 1978: 100%|██████████| 261/261 [17:12<00:00,  3.96s/it]  \n",
      "Training Epoch 1979: 100%|██████████| 261/261 [00:04<00:00, 59.87it/s]\n",
      "Training Epoch 1980: 100%|██████████| 261/261 [00:04<00:00, 63.22it/s]\n",
      "Training Epoch 1981: 100%|██████████| 261/261 [00:04<00:00, 64.51it/s]\n"
     ]
    },
    {
     "name": "stdout",
     "output_type": "stream",
     "text": [
      "Epoch 1980 - Train Loss: 0.0475, Train MSE: 0.0475, Train MAE: 0.1532\n",
      "Epoch 1980 - Validation Loss: 1.5538, Validation MSE: 1.5555, Validation MAE: 0.9059\n"
     ]
    },
    {
     "name": "stderr",
     "output_type": "stream",
     "text": [
      "Training Epoch 1982: 100%|██████████| 261/261 [00:04<00:00, 61.92it/s]\n",
      "Training Epoch 1983: 100%|██████████| 261/261 [00:03<00:00, 66.31it/s]\n",
      "Training Epoch 1984: 100%|██████████| 261/261 [00:04<00:00, 63.40it/s]\n",
      "Training Epoch 1985: 100%|██████████| 261/261 [00:04<00:00, 63.74it/s]\n",
      "Training Epoch 1986: 100%|██████████| 261/261 [00:04<00:00, 61.10it/s]\n",
      "Training Epoch 1987: 100%|██████████| 261/261 [00:04<00:00, 59.91it/s]\n",
      "Training Epoch 1988: 100%|██████████| 261/261 [00:04<00:00, 64.18it/s]\n",
      "Training Epoch 1989: 100%|██████████| 261/261 [00:11<00:00, 22.93it/s]\n",
      "Training Epoch 1990: 100%|██████████| 261/261 [00:04<00:00, 63.92it/s]\n",
      "Training Epoch 1991: 100%|██████████| 261/261 [00:04<00:00, 57.89it/s]\n"
     ]
    },
    {
     "name": "stdout",
     "output_type": "stream",
     "text": [
      "Epoch 1990 - Train Loss: 0.0470, Train MSE: 0.0470, Train MAE: 0.1524\n",
      "Epoch 1990 - Validation Loss: 1.5393, Validation MSE: 1.5410, Validation MAE: 0.8980\n"
     ]
    },
    {
     "name": "stderr",
     "output_type": "stream",
     "text": [
      "Training Epoch 1992: 100%|██████████| 261/261 [00:04<00:00, 59.70it/s]\n",
      "Training Epoch 1993: 100%|██████████| 261/261 [00:04<00:00, 61.41it/s]\n",
      "Training Epoch 1994: 100%|██████████| 261/261 [00:04<00:00, 62.26it/s]\n",
      "Training Epoch 1995: 100%|██████████| 261/261 [00:04<00:00, 64.56it/s]\n",
      "Training Epoch 1996: 100%|██████████| 261/261 [00:04<00:00, 60.96it/s]\n",
      "Training Epoch 1997: 100%|██████████| 261/261 [00:04<00:00, 60.76it/s]\n",
      "Training Epoch 1998: 100%|██████████| 261/261 [00:04<00:00, 64.86it/s]\n",
      "Training Epoch 1999: 100%|██████████| 261/261 [15:29<00:00,  3.56s/it]\n",
      "Training Epoch 2000: 100%|██████████| 261/261 [00:04<00:00, 58.69it/s]\n"
     ]
    },
    {
     "name": "stdout",
     "output_type": "stream",
     "text": [
      "Test MSE: 1.6362, Test MAE: 0.9364\n"
     ]
    }
   ],
   "source": [
    "import torch\n",
    "import torch.nn as nn\n",
    "import torch.optim as optim\n",
    "from tqdm import tqdm\n",
    "import pandas as pd\n",
    "from sklearn.metrics import r2_score, median_absolute_error, explained_variance_score\n",
    "from scipy.stats import pearsonr\n",
    "\n",
    "\n",
    "train_history = pd.DataFrame(columns=[  'epoch',\n",
    "    'Train Loss', 'Train MSE', 'Train MAE', 'Train RMSE', 'Train R2', 'Train Pearson', 'Train Median_AE', 'Train Explained_VAR'\n",
    "    'Val Loss', 'Val MSE', 'Val MAE', 'Val RMSE', 'Val R2', 'Val Pearson', 'Val Median_AE', 'Val Explained_VAR'])\n",
    "# Verify feature dimensions\n",
    "for batch in train_loader:\n",
    "    mol_input_dim = batch['metabolite_features'].shape[1]  # Dynamically determine mol input dimension\n",
    "    protein_input_dim = batch['protein_features'].shape[1]  # Dynamically determine protein input dimension\n",
    "    break\n",
    "\n",
    "# Initialize model, optimizer, and loss function\n",
    "model = MLPRegressor(mol_input_dim=mol_input_dim, protein_input_dim=protein_input_dim,hidden_dim=512)\n",
    "model = model.to(device)\n",
    "optimizer = optim.Adam(model.parameters(), lr=0.0001)\n",
    "criterion = nn.MSELoss()\n",
    "\n",
    "# Training and Validation Loop\n",
    "for epoch in range(2000):\n",
    "    model.train()\n",
    "    total_loss = 0.0\n",
    "    val_total_loss = 0.0\n",
    "    train_predictions, train_labels = [], []\n",
    "\n",
    "    for batch in tqdm(train_loader, desc=f\"Training Epoch {epoch + 1}\"):\n",
    "        mol_features = batch['metabolite_features'].to(device)\n",
    "        protein_features = batch['protein_features'].to(device)\n",
    "        labels = batch['label'].to(device)\n",
    "\n",
    "        optimizer.zero_grad()\n",
    "        outputs = model(mol_features, protein_features)\n",
    "        loss = criterion(outputs, labels)\n",
    "        loss.backward()\n",
    "        optimizer.step()\n",
    "        total_loss += loss.item()\n",
    "\n",
    "        # Store predictions and labels for metrics\n",
    "        train_predictions.extend(outputs.detach().cpu().numpy())\n",
    "        train_labels.extend(labels.cpu().numpy())\n",
    "\n",
    "    # Calculate training metrics\n",
    "    train_mse = ((torch.tensor(train_predictions) - torch.tensor(train_labels))**2).mean().item()\n",
    "    train_mae = torch.abs(torch.tensor(train_predictions) - torch.tensor(train_labels)).mean().item()\n",
    "    train_rmse = torch.sqrt((torch.tensor(train_predictions) - torch.tensor(train_labels)) ** 2).mean().item()\n",
    "    train_r2 = r2_score(np.array(train_labels), np.array(train_predictions))\n",
    "    train_pearson_corr, _ = pearsonr(np.array(train_labels), np.array(train_predictions))\n",
    "    train_median_ae = median_absolute_error(np.array(train_labels), np.array(train_predictions))\n",
    "    train_explained_var = explained_variance_score(np.array(train_labels), np.array(train_predictions))\n",
    "\n",
    "\n",
    "\n",
    "    if epoch % 10 == 0:\n",
    "        print(f\"Epoch {epoch} - Train Loss: {total_loss / len(train_loader):.4f}, Train MSE: {train_mse:.4f}, Train MAE: {train_mae:.4f}\")\n",
    "\n",
    "    # Validation\n",
    "    model.eval()\n",
    "    val_predictions, val_labels = [], []\n",
    "    with torch.no_grad():\n",
    "        for batch in val_loader:\n",
    "            mol_features = batch['metabolite_features'].to(device)\n",
    "            protein_features = batch['protein_features'].to(device)\n",
    "            labels = batch['label'].to(device)\n",
    "\n",
    "            outputs = model(mol_features, protein_features)\n",
    "            val_predictions.extend(outputs.cpu().numpy())\n",
    "            val_labels.extend(labels.cpu().numpy())\n",
    "            val_loss = criterion(outputs, labels)\n",
    "            val_total_loss += val_loss.item()\n",
    "\n",
    "    val_mse = ((torch.tensor(val_predictions) - torch.tensor(val_labels))**2).mean().item()\n",
    "    val_mae = torch.abs(torch.tensor(val_predictions) - torch.tensor(val_labels)).mean().item()\n",
    "    val_rmse = torch.sqrt((torch.tensor(val_predictions) - torch.tensor(val_labels)) ** 2).mean().item()\n",
    "    val_r2 = r2_score(np.array(val_labels), np.array(val_predictions))\n",
    "    val_pearson_corr, _ = pearsonr(np.array(val_labels), np.array(val_predictions))\n",
    "    val_median_ae = median_absolute_error(np.array(val_labels), np.array(val_predictions))\n",
    "    val_explained_var = explained_variance_score(np.array(val_labels), np.array(val_predictions))\n",
    "\n",
    "    if epoch % 10 == 0:\n",
    "        print(f\"Epoch {epoch} - Validation Loss: {val_total_loss / len(val_loader):.4f}, Validation MSE: {val_mse:.4f}, Validation MAE: {val_mae:.4f}\")\n",
    "\n",
    "    # Save metrics to DataFrame\n",
    "    new_row = {'epoch': epoch + 1, 'Train Loss': total_loss / len(train_loader), 'Train MSE': train_mse, 'Train MAE': train_mae, 'Train RMSE': train_rmse, 'Train R2': train_r2, 'Train Pearson': train_pearson_corr, 'Train Median_AE': train_median_ae, 'Train Explained_VAR': train_explained_var, \n",
    "               'Val Loss': val_total_loss / len(val_loader), 'Val MSE': val_mse, 'Val MAE': val_mae, 'Val RMSE': val_rmse, 'Val R2': val_r2, 'Val Pearson': val_pearson_corr, 'Val Median_AE': val_median_ae, 'Val Explained_VAR': val_explained_var}\n",
    "    train_history = pd.concat([train_history, pd.DataFrame([new_row])], ignore_index=True)\n",
    "\n",
    "\n"
   ]
  },
  {
   "cell_type": "code",
   "execution_count": 8,
   "metadata": {},
   "outputs": [],
   "source": [
    "for batch in train_loader:\n",
    "    mol_input_dim = batch['metabolite_features'].shape[1]  # Dynamically determine mol input dimension\n",
    "    protein_input_dim = batch['protein_features'].shape[1]  # Dynamically determine protein input dimension\n",
    "    break\n",
    "\n",
    "model = MLPRegressor(mol_input_dim=mol_input_dim, protein_input_dim=protein_input_dim, hidden_dim=512)\n",
    "model.load_state_dict(torch.load('/Users/pinchichen/2025S lab/AI drug project/Catpred/Ki/trained_model/random_split/MLP model_Catpred_Ki.pt'))\n",
    "model = model.to(device)"
   ]
  },
  {
   "cell_type": "code",
   "execution_count": 9,
   "metadata": {},
   "outputs": [
    {
     "name": "stdout",
     "output_type": "stream",
     "text": [
      "Test MSE: 1.6362, Test RMSE: 1.279141622, Test MAE: 0.9364, Test R2: 0.5683, Test Pearson Correlation: 0.7560, Test Median AE: 0.6827, Test Explained Variance: 0.5684\n"
     ]
    }
   ],
   "source": [
    "from sklearn.metrics import mean_squared_error,mean_absolute_error,r2_score, median_absolute_error, explained_variance_score\n",
    "from scipy.stats import pearsonr\n",
    "# Test Metrics\n",
    "model.eval()\n",
    "test_predictions, test_labels = [], []\n",
    "with torch.no_grad():\n",
    "    for batch in test_loader:\n",
    "        mol_features = batch['metabolite_features'].to(device)\n",
    "        protein_features = batch['protein_features'].to(device)\n",
    "        labels = batch['label'].to(device)\n",
    "\n",
    "        outputs = model(mol_features, protein_features)\n",
    "        test_predictions.extend(outputs.cpu().numpy())\n",
    "        test_labels.extend(labels.cpu().numpy())\n",
    "\n",
    "test_mse = ((torch.tensor(test_predictions) - torch.tensor(test_labels))**2).mean().item()\n",
    "test_mae = torch.abs(torch.tensor(test_predictions) - torch.tensor(test_labels)).mean().item()\n",
    "test_rmse = np.sqrt(test_mse)\n",
    "test_r2 = r2_score(np.array(test_labels), np.array(test_predictions))\n",
    "test_pearson_corr, _ = pearsonr(np.array(test_labels), np.array(test_predictions))\n",
    "test_median_ae = median_absolute_error(np.array(test_labels), np.array(test_predictions))\n",
    "test_explained_var = explained_variance_score(np.array(test_labels), np.array(test_predictions))\n",
    "\n",
    "print(f\"Test MSE: {test_mse:.4f}, Test RMSE: {test_rmse:.9f}, Test MAE: {test_mae:.4f}, Test R2: {test_r2:.4f}, Test Pearson Correlation: {test_pearson_corr:.4f}, Test Median AE: {test_median_ae:.4f}, Test Explained Variance: {test_explained_var:.4f}\")"
   ]
  },
  {
   "cell_type": "code",
   "execution_count": 10,
   "metadata": {},
   "outputs": [],
   "source": [
    "\n",
    "def evaluate_model(predictions, labels):\n",
    "    mse = mean_squared_error(labels, predictions)\n",
    "    rmse = np.sqrt(mse)\n",
    "    mae = mean_absolute_error(labels, predictions)\n",
    "    r2 = r2_score(labels, predictions)\n",
    "    pearson_corr, _ = pearsonr(labels, predictions)\n",
    "    medae = median_absolute_error(labels, predictions)\n",
    "    evs = explained_variance_score(labels, predictions)\n",
    "\n",
    "    return mse, rmse, mae, r2, pearson_corr, medae, evs"
   ]
  },
  {
   "cell_type": "code",
   "execution_count": 11,
   "metadata": {},
   "outputs": [],
   "source": [
    "model.eval()\n",
    "val_pred, val_labels = [], []\n",
    "with torch.no_grad():\n",
    "    for batch in val_loader:\n",
    "        mol_features = batch['metabolite_features'].to(device)\n",
    "        protein_features = batch['protein_features'].to(device)\n",
    "        labels = batch['label'].to(device)\n",
    "\n",
    "        outputs = model(mol_features, protein_features)\n",
    "        val_pred.extend(outputs.cpu().numpy())\n",
    "        val_labels.extend(labels.cpu().numpy())\n",
    "\n",
    "val_mse, val_rmse, val_mae, val_r2, val_pearson_corr, val_median_ae, val_explained_var = evaluate_model(val_pred, val_labels)\n"
   ]
  },
  {
   "cell_type": "code",
   "execution_count": 12,
   "metadata": {},
   "outputs": [],
   "source": [
    "model.eval()\n",
    "train_pred, train_labels = [], []\n",
    "with torch.no_grad():\n",
    "    for batch in train_loader:\n",
    "        mol_features = batch['metabolite_features'].to(device)\n",
    "        protein_features = batch['protein_features'].to(device)\n",
    "        labels = batch['label'].to(device)\n",
    "\n",
    "        outputs = model(mol_features, protein_features)\n",
    "        train_pred.extend(outputs.cpu().numpy())\n",
    "        train_labels.extend(labels.cpu().numpy())\n",
    "\n",
    "train_mse, train_rmse, train_mae, train_r2, train_pearson_corr, train_median_ae, train_explained_var = evaluate_model(train_pred, train_labels)"
   ]
  },
  {
   "cell_type": "code",
   "execution_count": 13,
   "metadata": {},
   "outputs": [],
   "source": [
    "# append the performance to the csv file\n",
    "df = {\n",
    "    'Model':['MLP','MLP','MLP'],\n",
    "    'Dataset':['Train','Validation','Test'],\n",
    "    'MSE':[train_mse,val_mse,test_mse],\n",
    "    'RMSE':[train_rmse,val_rmse,test_rmse],\n",
    "    'MAE':[train_mae,val_mae,test_mae],\n",
    "    'R2':[train_r2,val_r2,test_r2],\n",
    "    'Pearson':[train_pearson_corr,val_pearson_corr,test_pearson_corr],\n",
    "    'Median_AE':[train_median_ae,val_median_ae,test_median_ae],\n",
    "    'Explained_VAR':[train_explained_var,val_explained_var,test_explained_var],\n",
    "    'Dataspliting Mode':['random','random','random']\n",
    "}\n",
    "df = pd.DataFrame(df)\n",
    "\n",
    "df.to_csv('/Users/pinchichen/2025S lab/AI drug project/Catpred/Ki/model performance metrics_Catpred_Ki.csv', mode='a', header=False)"
   ]
  },
  {
   "cell_type": "code",
   "execution_count": 20,
   "metadata": {},
   "outputs": [],
   "source": [
    "# Save the model and training history\n",
    "save_dir = '/Users/pinchichen/2025S lab/AI drug project/Catpred/Ki/trained_model/random_split'\n",
    "# save model weights and optimizer state\n",
    "torch.save(model.state_dict(), os.path.join(save_dir, 'MLP model_Catpred_Ki.pt'))\n",
    "torch.save(optimizer.state_dict(), os.path.join(save_dir, 'MLP optimizer_Catpred_Ki.pt'))"
   ]
  },
  {
   "cell_type": "code",
   "execution_count": 21,
   "metadata": {},
   "outputs": [
    {
     "data": {
      "image/png": "[encoded data removed]",
      "text/plain": [
       "<Figure size 1000x600 with 1 Axes>"
      ]
     },
     "metadata": {},
     "output_type": "display_data"
    }
   ],
   "source": [
    "import matplotlib.pyplot as plt\n",
    "import seaborn as sns\n",
    "sns.set(style='ticks')\n",
    "# Load metrics\n",
    "\n",
    "metrics = train_history\n",
    "\n",
    "# Plot the training loss over epochs using seaborn\n",
    "plt.figure(figsize=(10, 6))\n",
    "# sns.lineplot(data=metrics, x='epoch', y='Train Loss', label='Train Loss')\n",
    "# sns.lineplot(data=metrics, x='epoch', y='Val Loss', label='Val Loss')\n",
    "sns.lineplot(data=metrics, x='epoch', y='Val MSE', label='Valid_RMSE')\n",
    "sns.lineplot(data=metrics, x='epoch', y='Train MSE', label='Train_RMSE')\n",
    "# sns.lineplot(data=metrics, x='Epoch', y='Valid_MAE', label='Valid_MAE')\n",
    "# Add titles and labels\n",
    "plt.title('Training and Validation Metrics Over Epochs', fontsize=14)\n",
    "# Define the range of tick positions\n",
    "plt.xlabel('Epoch', fontsize=12)\n",
    "plt.ylabel('Loss', fontsize=12)\n",
    "plt.grid(False)\n",
    "# Show the plot\n",
    "plt.show()\n"
   ]
  },
  {
   "cell_type": "code",
   "execution_count": 22,
   "metadata": {},
   "outputs": [
    {
     "data": {
      "text/html": [
       "<div>\n",
       "<style scoped>\n",
       "    .dataframe tbody tr th:only-of-type {\n",
       "        vertical-align: middle;\n",
       "    }\n",
       "\n",
       "    .dataframe tbody tr th {\n",
       "        vertical-align: top;\n",
       "    }\n",
       "\n",
       "    .dataframe thead th {\n",
       "        text-align: right;\n",
       "    }\n",
       "</style>\n",
       "<table border=\"1\" class=\"dataframe\">\n",
       "  <thead>\n",
       "    <tr style=\"text-align: right;\">\n",
       "      <th></th>\n",
       "      <th>epoch</th>\n",
       "      <th>Train Loss</th>\n",
       "      <th>Train MSE</th>\n",
       "      <th>Train MAE</th>\n",
       "      <th>Train RMSE</th>\n",
       "      <th>Train R2</th>\n",
       "      <th>Train Pearson</th>\n",
       "      <th>Train Median_AE</th>\n",
       "      <th>Train Explained_VARVal Loss</th>\n",
       "      <th>Val MSE</th>\n",
       "      <th>Val MAE</th>\n",
       "      <th>Val RMSE</th>\n",
       "      <th>Val R2</th>\n",
       "      <th>Val Pearson</th>\n",
       "      <th>Val Median_AE</th>\n",
       "      <th>Val Explained_VAR</th>\n",
       "      <th>Train Explained_VAR</th>\n",
       "      <th>Val Loss</th>\n",
       "    </tr>\n",
       "  </thead>\n",
       "  <tbody>\n",
       "    <tr>\n",
       "      <th>1995</th>\n",
       "      <td>1996</td>\n",
       "      <td>0.045892</td>\n",
       "      <td>0.045879</td>\n",
       "      <td>0.150911</td>\n",
       "      <td>0.150911</td>\n",
       "      <td>0.988257</td>\n",
       "      <td>0.994111</td>\n",
       "      <td>0.114812</td>\n",
       "      <td>NaN</td>\n",
       "      <td>1.563642</td>\n",
       "      <td>0.910056</td>\n",
       "      <td>0.910056</td>\n",
       "      <td>0.608894</td>\n",
       "      <td>0.780971</td>\n",
       "      <td>0.662533</td>\n",
       "      <td>0.609321</td>\n",
       "      <td>0.988257</td>\n",
       "      <td>1.561946</td>\n",
       "    </tr>\n",
       "    <tr>\n",
       "      <th>1996</th>\n",
       "      <td>1997</td>\n",
       "      <td>0.047322</td>\n",
       "      <td>0.047325</td>\n",
       "      <td>0.153436</td>\n",
       "      <td>0.153436</td>\n",
       "      <td>0.987887</td>\n",
       "      <td>0.993925</td>\n",
       "      <td>0.118118</td>\n",
       "      <td>NaN</td>\n",
       "      <td>1.546492</td>\n",
       "      <td>0.903428</td>\n",
       "      <td>0.903428</td>\n",
       "      <td>0.613183</td>\n",
       "      <td>0.784203</td>\n",
       "      <td>0.650546</td>\n",
       "      <td>0.613911</td>\n",
       "      <td>0.987887</td>\n",
       "      <td>1.544790</td>\n",
       "    </tr>\n",
       "    <tr>\n",
       "      <th>1997</th>\n",
       "      <td>1998</td>\n",
       "      <td>0.046743</td>\n",
       "      <td>0.046746</td>\n",
       "      <td>0.152805</td>\n",
       "      <td>0.152805</td>\n",
       "      <td>0.988035</td>\n",
       "      <td>0.993999</td>\n",
       "      <td>0.118039</td>\n",
       "      <td>NaN</td>\n",
       "      <td>1.550236</td>\n",
       "      <td>0.902831</td>\n",
       "      <td>0.902831</td>\n",
       "      <td>0.612247</td>\n",
       "      <td>0.784234</td>\n",
       "      <td>0.650334</td>\n",
       "      <td>0.613556</td>\n",
       "      <td>0.988035</td>\n",
       "      <td>1.548560</td>\n",
       "    </tr>\n",
       "    <tr>\n",
       "      <th>1998</th>\n",
       "      <td>1999</td>\n",
       "      <td>0.044860</td>\n",
       "      <td>0.044863</td>\n",
       "      <td>0.150929</td>\n",
       "      <td>0.150929</td>\n",
       "      <td>0.988517</td>\n",
       "      <td>0.994242</td>\n",
       "      <td>0.116114</td>\n",
       "      <td>NaN</td>\n",
       "      <td>1.549982</td>\n",
       "      <td>0.903259</td>\n",
       "      <td>0.903259</td>\n",
       "      <td>0.612310</td>\n",
       "      <td>0.783222</td>\n",
       "      <td>0.638044</td>\n",
       "      <td>0.612656</td>\n",
       "      <td>0.988517</td>\n",
       "      <td>1.548296</td>\n",
       "    </tr>\n",
       "    <tr>\n",
       "      <th>1999</th>\n",
       "      <td>2000</td>\n",
       "      <td>0.045516</td>\n",
       "      <td>0.045506</td>\n",
       "      <td>0.149358</td>\n",
       "      <td>0.149358</td>\n",
       "      <td>0.988352</td>\n",
       "      <td>0.994159</td>\n",
       "      <td>0.114357</td>\n",
       "      <td>NaN</td>\n",
       "      <td>1.555346</td>\n",
       "      <td>0.904277</td>\n",
       "      <td>0.904277</td>\n",
       "      <td>0.610969</td>\n",
       "      <td>0.782975</td>\n",
       "      <td>0.660453</td>\n",
       "      <td>0.611958</td>\n",
       "      <td>0.988352</td>\n",
       "      <td>1.553677</td>\n",
       "    </tr>\n",
       "  </tbody>\n",
       "</table>\n",
       "</div>"
      ],
      "text/plain": [
       "     epoch  Train Loss  Train MSE  Train MAE  Train RMSE  Train R2  \\\n",
       "1995  1996    0.045892   0.045879   0.150911    0.150911  0.988257   \n",
       "1996  1997    0.047322   0.047325   0.153436    0.153436  0.987887   \n",
       "1997  1998    0.046743   0.046746   0.152805    0.152805  0.988035   \n",
       "1998  1999    0.044860   0.044863   0.150929    0.150929  0.988517   \n",
       "1999  2000    0.045516   0.045506   0.149358    0.149358  0.988352   \n",
       "\n",
       "      Train Pearson  Train Median_AE Train Explained_VARVal Loss   Val MSE  \\\n",
       "1995       0.994111         0.114812                         NaN  1.563642   \n",
       "1996       0.993925         0.118118                         NaN  1.546492   \n",
       "1997       0.993999         0.118039                         NaN  1.550236   \n",
       "1998       0.994242         0.116114                         NaN  1.549982   \n",
       "1999       0.994159         0.114357                         NaN  1.555346   \n",
       "\n",
       "       Val MAE  Val RMSE    Val R2  Val Pearson  Val Median_AE  \\\n",
       "1995  0.910056  0.910056  0.608894     0.780971       0.662533   \n",
       "1996  0.903428  0.903428  0.613183     0.784203       0.650546   \n",
       "1997  0.902831  0.902831  0.612247     0.784234       0.650334   \n",
       "1998  0.903259  0.903259  0.612310     0.783222       0.638044   \n",
       "1999  0.904277  0.904277  0.610969     0.782975       0.660453   \n",
       "\n",
       "      Val Explained_VAR  Train Explained_VAR  Val Loss  \n",
       "1995           0.609321             0.988257  1.561946  \n",
       "1996           0.613911             0.987887  1.544790  \n",
       "1997           0.613556             0.988035  1.548560  \n",
       "1998           0.612656             0.988517  1.548296  \n",
       "1999           0.611958             0.988352  1.553677  "
      ]
     },
     "execution_count": 22,
     "metadata": {},
     "output_type": "execute_result"
    }
   ],
   "source": [
    "train_history.tail()"
   ]
  },
  {
   "cell_type": "code",
   "execution_count": 23,
   "metadata": {},
   "outputs": [
    {
     "data": {
      "image/png": "[encoded data removed]",
      "text/plain": [
       "<Figure size 640x480 with 1 Axes>"
      ]
     },
     "metadata": {},
     "output_type": "display_data"
    }
   ],
   "source": [
    "# Plot the performance\n",
    "import matplotlib.pyplot as plt\n",
    "\n",
    "plt.scatter(test_labels, test_predictions, alpha=0.5)\n",
    "plt.xlabel(\"True Reactivity\")\n",
    "plt.ylabel(\"Predicted Reactivity\")\n",
    "plt.title(\"CNN Predictions vs True Values\")\n",
    "plt.plot([min(test_labels), max(test_labels)], [min(test_labels), max(test_labels)], 'r--')\n",
    "plt.show()\n"
   ]
  }
 ],
 "metadata": {
  "kernelspec": {
   "display_name": "base",
   "language": "python",
   "name": "python3"
  },
  "language_info": {
   "codemirror_mode": {
    "name": "ipython",
    "version": 3
   },
   "file_extension": ".py",
   "mimetype": "text/x-python",
   "name": "python",
   "nbconvert_exporter": "python",
   "pygments_lexer": "ipython3",
   "version": "3.12.2"
  }
 },
 "nbformat": 4,
 "nbformat_minor": 2
}
