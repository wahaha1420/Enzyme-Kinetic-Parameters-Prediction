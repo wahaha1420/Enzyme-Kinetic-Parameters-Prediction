{
 "cells": [
  {
   "cell_type": "code",
   "execution_count": 1,
   "metadata": {},
   "outputs": [],
   "source": [
    "import pandas as pd\n",
    "import numpy as np\n",
    "from tqdm import tqdm\n",
    "import torch\n",
    "import torch.nn as nn\n",
    "import torch.optim as optim\n",
    "from torch.utils.data import DataLoader, Dataset\n",
    "from sklearn.metrics import roc_auc_score\n",
    "from sklearn.model_selection import train_test_split\n",
    "import os\n"
   ]
  },
  {
   "cell_type": "code",
   "execution_count": 2,
   "metadata": {},
   "outputs": [
    {
     "data": {
      "text/html": [
       "<div>\n",
       "<style scoped>\n",
       "    .dataframe tbody tr th:only-of-type {\n",
       "        vertical-align: middle;\n",
       "    }\n",
       "\n",
       "    .dataframe tbody tr th {\n",
       "        vertical-align: top;\n",
       "    }\n",
       "\n",
       "    .dataframe thead th {\n",
       "        text-align: right;\n",
       "    }\n",
       "</style>\n",
       "<table border=\"1\" class=\"dataframe\">\n",
       "  <thead>\n",
       "    <tr style=\"text-align: right;\">\n",
       "      <th></th>\n",
       "      <th>Sequence</th>\n",
       "      <th>sequence_source</th>\n",
       "      <th>uniprot</th>\n",
       "      <th>Smiles</th>\n",
       "      <th>value</th>\n",
       "      <th>ec</th>\n",
       "      <th>log10_value</th>\n",
       "      <th>log10ki_mean</th>\n",
       "      <th>metabolite_features</th>\n",
       "      <th>protein_features</th>\n",
       "    </tr>\n",
       "  </thead>\n",
       "  <tbody>\n",
       "    <tr>\n",
       "      <th>0</th>\n",
       "      <td>MHTKGPTPQQHDGSALRIGIVHARWNETIIEPLLAGTKAKLLACGV...</td>\n",
       "      <td>uniprot_search</td>\n",
       "      <td>A0A6P8BCR9</td>\n",
       "      <td>O=c1n(C[C@H](O)[C@H](O)[C@H](O)CO)c2nc(O)nc(O)...</td>\n",
       "      <td>0.000002</td>\n",
       "      <td>2.5.1.78</td>\n",
       "      <td>-5.698970</td>\n",
       "      <td>-5.698970</td>\n",
       "      <td>[0.17249086, -0.23665705, -0.11737049, -0.0940...</td>\n",
       "      <td>[0.026722027, -0.06119407, 0.041440543, -0.109...</td>\n",
       "    </tr>\n",
       "    <tr>\n",
       "      <th>1</th>\n",
       "      <td>MASPDWGYDDKNGPEQWSKLYPIANGNNQSPVDIKTSETKHDTSLK...</td>\n",
       "      <td>brenda</td>\n",
       "      <td>P00915</td>\n",
       "      <td>CN1CCN(C(=O)c2ccc(S(N)(=O)=O)cc2)[C@@H](Cc2ccc...</td>\n",
       "      <td>0.000707</td>\n",
       "      <td>4.2.1.1</td>\n",
       "      <td>-3.150581</td>\n",
       "      <td>-3.150581</td>\n",
       "      <td>[0.4240491, 0.28231123, 0.2642891, -0.7667821,...</td>\n",
       "      <td>[-0.029181704, -0.12635791, 0.10866662, 0.0339...</td>\n",
       "    </tr>\n",
       "    <tr>\n",
       "      <th>2</th>\n",
       "      <td>MLDDIRGFMNTFSETMFMDVINYSLTRDRYDSVFLQRQNYRDLGQL...</td>\n",
       "      <td>brenda</td>\n",
       "      <td>Q9HLD0</td>\n",
       "      <td>C[C@H]1O[C@H](O[C@H]2[C@H](O)[C@@H](O)[C@@H](O...</td>\n",
       "      <td>0.002990</td>\n",
       "      <td>3.2.1.20</td>\n",
       "      <td>-2.524329</td>\n",
       "      <td>-2.524329</td>\n",
       "      <td>[0.50005734, 0.3923428, 0.064121775, -0.635894...</td>\n",
       "      <td>[0.02874529, -0.17312695, -0.0026887748, 0.035...</td>\n",
       "    </tr>\n",
       "    <tr>\n",
       "      <th>3</th>\n",
       "      <td>MKLMENIFDLAKANKKKIVLAEGEEERNIRASEEIIKDGIADIILV...</td>\n",
       "      <td>uniprot_search</td>\n",
       "      <td>A0A1L5F6Z9</td>\n",
       "      <td>CCN=C(O)CCN=C(O)[C@H](O)C(C)(C)COP(=O)(O)OP(=O...</td>\n",
       "      <td>0.020000</td>\n",
       "      <td>2.3.1.8</td>\n",
       "      <td>-1.698970</td>\n",
       "      <td>-1.698970</td>\n",
       "      <td>[0.28353548, 0.018489605, -0.5459905, -0.34693...</td>\n",
       "      <td>[-0.06555556, 0.04763434, 0.031432115, 0.17143...</td>\n",
       "    </tr>\n",
       "    <tr>\n",
       "      <th>4</th>\n",
       "      <td>MAKRIVEPFRIKMVEKIRVPSREEREAALKEAGYNPFLLPSSAVYI...</td>\n",
       "      <td>sabio</td>\n",
       "      <td>P28796</td>\n",
       "      <td>CC(N)C(=O)O</td>\n",
       "      <td>24.500000</td>\n",
       "      <td>4.1.99.1</td>\n",
       "      <td>1.389166</td>\n",
       "      <td>1.419631</td>\n",
       "      <td>[0.051456872, 0.35619217, 0.10593035, -1.04098...</td>\n",
       "      <td>[0.049294557, -0.043596543, 0.0546125, 0.35600...</td>\n",
       "    </tr>\n",
       "  </tbody>\n",
       "</table>\n",
       "</div>"
      ],
      "text/plain": [
       "                                            Sequence sequence_source  \\\n",
       "0  MHTKGPTPQQHDGSALRIGIVHARWNETIIEPLLAGTKAKLLACGV...  uniprot_search   \n",
       "1  MASPDWGYDDKNGPEQWSKLYPIANGNNQSPVDIKTSETKHDTSLK...          brenda   \n",
       "2  MLDDIRGFMNTFSETMFMDVINYSLTRDRYDSVFLQRQNYRDLGQL...          brenda   \n",
       "3  MKLMENIFDLAKANKKKIVLAEGEEERNIRASEEIIKDGIADIILV...  uniprot_search   \n",
       "4  MAKRIVEPFRIKMVEKIRVPSREEREAALKEAGYNPFLLPSSAVYI...           sabio   \n",
       "\n",
       "      uniprot                                             Smiles      value  \\\n",
       "0  A0A6P8BCR9  O=c1n(C[C@H](O)[C@H](O)[C@H](O)CO)c2nc(O)nc(O)...   0.000002   \n",
       "1      P00915  CN1CCN(C(=O)c2ccc(S(N)(=O)=O)cc2)[C@@H](Cc2ccc...   0.000707   \n",
       "2      Q9HLD0  C[C@H]1O[C@H](O[C@H]2[C@H](O)[C@@H](O)[C@@H](O...   0.002990   \n",
       "3  A0A1L5F6Z9  CCN=C(O)CCN=C(O)[C@H](O)C(C)(C)COP(=O)(O)OP(=O...   0.020000   \n",
       "4      P28796                                        CC(N)C(=O)O  24.500000   \n",
       "\n",
       "         ec  log10_value  log10ki_mean  \\\n",
       "0  2.5.1.78    -5.698970     -5.698970   \n",
       "1   4.2.1.1    -3.150581     -3.150581   \n",
       "2  3.2.1.20    -2.524329     -2.524329   \n",
       "3   2.3.1.8    -1.698970     -1.698970   \n",
       "4  4.1.99.1     1.389166      1.419631   \n",
       "\n",
       "                                 metabolite_features  \\\n",
       "0  [0.17249086, -0.23665705, -0.11737049, -0.0940...   \n",
       "1  [0.4240491, 0.28231123, 0.2642891, -0.7667821,...   \n",
       "2  [0.50005734, 0.3923428, 0.064121775, -0.635894...   \n",
       "3  [0.28353548, 0.018489605, -0.5459905, -0.34693...   \n",
       "4  [0.051456872, 0.35619217, 0.10593035, -1.04098...   \n",
       "\n",
       "                                    protein_features  \n",
       "0  [0.026722027, -0.06119407, 0.041440543, -0.109...  \n",
       "1  [-0.029181704, -0.12635791, 0.10866662, 0.0339...  \n",
       "2  [0.02874529, -0.17312695, -0.0026887748, 0.035...  \n",
       "3  [-0.06555556, 0.04763434, 0.031432115, 0.17143...  \n",
       "4  [0.049294557, -0.043596543, 0.0546125, 0.35600...  "
      ]
     },
     "execution_count": 2,
     "metadata": {},
     "output_type": "execute_result"
    }
   ],
   "source": [
    "import joblib\n",
    "import pandas as pd\n",
    "\n",
    "data_ki = joblib.load('/Users/pinchichen/2025S lab/AI drug project/Catpred/dataset/ki/ki_with_features.joblib')\n",
    "data_ki.head()"
   ]
  },
  {
   "cell_type": "code",
   "execution_count": 3,
   "metadata": {},
   "outputs": [
    {
     "data": {
      "text/html": [
       "<div>\n",
       "<style scoped>\n",
       "    .dataframe tbody tr th:only-of-type {\n",
       "        vertical-align: middle;\n",
       "    }\n",
       "\n",
       "    .dataframe tbody tr th {\n",
       "        vertical-align: top;\n",
       "    }\n",
       "\n",
       "    .dataframe thead th {\n",
       "        text-align: right;\n",
       "    }\n",
       "</style>\n",
       "<table border=\"1\" class=\"dataframe\">\n",
       "  <thead>\n",
       "    <tr style=\"text-align: right;\">\n",
       "      <th></th>\n",
       "      <th>Sequence</th>\n",
       "      <th>sequence_source</th>\n",
       "      <th>uniprot</th>\n",
       "      <th>Smiles</th>\n",
       "      <th>value</th>\n",
       "      <th>ec</th>\n",
       "      <th>log10_value</th>\n",
       "      <th>label</th>\n",
       "      <th>metabolite_features</th>\n",
       "      <th>protein_features</th>\n",
       "    </tr>\n",
       "  </thead>\n",
       "  <tbody>\n",
       "    <tr>\n",
       "      <th>0</th>\n",
       "      <td>MHTKGPTPQQHDGSALRIGIVHARWNETIIEPLLAGTKAKLLACGV...</td>\n",
       "      <td>uniprot_search</td>\n",
       "      <td>A0A6P8BCR9</td>\n",
       "      <td>O=c1n(C[C@H](O)[C@H](O)[C@H](O)CO)c2nc(O)nc(O)...</td>\n",
       "      <td>0.000002</td>\n",
       "      <td>2.5.1.78</td>\n",
       "      <td>-5.698970</td>\n",
       "      <td>-5.698970</td>\n",
       "      <td>[0.17249086, -0.23665705, -0.11737049, -0.0940...</td>\n",
       "      <td>[0.026722027, -0.06119407, 0.041440543, -0.109...</td>\n",
       "    </tr>\n",
       "    <tr>\n",
       "      <th>1</th>\n",
       "      <td>MASPDWGYDDKNGPEQWSKLYPIANGNNQSPVDIKTSETKHDTSLK...</td>\n",
       "      <td>brenda</td>\n",
       "      <td>P00915</td>\n",
       "      <td>CN1CCN(C(=O)c2ccc(S(N)(=O)=O)cc2)[C@@H](Cc2ccc...</td>\n",
       "      <td>0.000707</td>\n",
       "      <td>4.2.1.1</td>\n",
       "      <td>-3.150581</td>\n",
       "      <td>-3.150581</td>\n",
       "      <td>[0.4240491, 0.28231123, 0.2642891, -0.7667821,...</td>\n",
       "      <td>[-0.029181704, -0.12635791, 0.10866662, 0.0339...</td>\n",
       "    </tr>\n",
       "    <tr>\n",
       "      <th>2</th>\n",
       "      <td>MLDDIRGFMNTFSETMFMDVINYSLTRDRYDSVFLQRQNYRDLGQL...</td>\n",
       "      <td>brenda</td>\n",
       "      <td>Q9HLD0</td>\n",
       "      <td>C[C@H]1O[C@H](O[C@H]2[C@H](O)[C@@H](O)[C@@H](O...</td>\n",
       "      <td>0.002990</td>\n",
       "      <td>3.2.1.20</td>\n",
       "      <td>-2.524329</td>\n",
       "      <td>-2.524329</td>\n",
       "      <td>[0.50005734, 0.3923428, 0.064121775, -0.635894...</td>\n",
       "      <td>[0.02874529, -0.17312695, -0.0026887748, 0.035...</td>\n",
       "    </tr>\n",
       "    <tr>\n",
       "      <th>3</th>\n",
       "      <td>MKLMENIFDLAKANKKKIVLAEGEEERNIRASEEIIKDGIADIILV...</td>\n",
       "      <td>uniprot_search</td>\n",
       "      <td>A0A1L5F6Z9</td>\n",
       "      <td>CCN=C(O)CCN=C(O)[C@H](O)C(C)(C)COP(=O)(O)OP(=O...</td>\n",
       "      <td>0.020000</td>\n",
       "      <td>2.3.1.8</td>\n",
       "      <td>-1.698970</td>\n",
       "      <td>-1.698970</td>\n",
       "      <td>[0.28353548, 0.018489605, -0.5459905, -0.34693...</td>\n",
       "      <td>[-0.06555556, 0.04763434, 0.031432115, 0.17143...</td>\n",
       "    </tr>\n",
       "    <tr>\n",
       "      <th>4</th>\n",
       "      <td>MAKRIVEPFRIKMVEKIRVPSREEREAALKEAGYNPFLLPSSAVYI...</td>\n",
       "      <td>sabio</td>\n",
       "      <td>P28796</td>\n",
       "      <td>CC(N)C(=O)O</td>\n",
       "      <td>24.500000</td>\n",
       "      <td>4.1.99.1</td>\n",
       "      <td>1.389166</td>\n",
       "      <td>1.419631</td>\n",
       "      <td>[0.051456872, 0.35619217, 0.10593035, -1.04098...</td>\n",
       "      <td>[0.049294557, -0.043596543, 0.0546125, 0.35600...</td>\n",
       "    </tr>\n",
       "  </tbody>\n",
       "</table>\n",
       "</div>"
      ],
      "text/plain": [
       "                                            Sequence sequence_source  \\\n",
       "0  MHTKGPTPQQHDGSALRIGIVHARWNETIIEPLLAGTKAKLLACGV...  uniprot_search   \n",
       "1  MASPDWGYDDKNGPEQWSKLYPIANGNNQSPVDIKTSETKHDTSLK...          brenda   \n",
       "2  MLDDIRGFMNTFSETMFMDVINYSLTRDRYDSVFLQRQNYRDLGQL...          brenda   \n",
       "3  MKLMENIFDLAKANKKKIVLAEGEEERNIRASEEIIKDGIADIILV...  uniprot_search   \n",
       "4  MAKRIVEPFRIKMVEKIRVPSREEREAALKEAGYNPFLLPSSAVYI...           sabio   \n",
       "\n",
       "      uniprot                                             Smiles      value  \\\n",
       "0  A0A6P8BCR9  O=c1n(C[C@H](O)[C@H](O)[C@H](O)CO)c2nc(O)nc(O)...   0.000002   \n",
       "1      P00915  CN1CCN(C(=O)c2ccc(S(N)(=O)=O)cc2)[C@@H](Cc2ccc...   0.000707   \n",
       "2      Q9HLD0  C[C@H]1O[C@H](O[C@H]2[C@H](O)[C@@H](O)[C@@H](O...   0.002990   \n",
       "3  A0A1L5F6Z9  CCN=C(O)CCN=C(O)[C@H](O)C(C)(C)COP(=O)(O)OP(=O...   0.020000   \n",
       "4      P28796                                        CC(N)C(=O)O  24.500000   \n",
       "\n",
       "         ec  log10_value     label  \\\n",
       "0  2.5.1.78    -5.698970 -5.698970   \n",
       "1   4.2.1.1    -3.150581 -3.150581   \n",
       "2  3.2.1.20    -2.524329 -2.524329   \n",
       "3   2.3.1.8    -1.698970 -1.698970   \n",
       "4  4.1.99.1     1.389166  1.419631   \n",
       "\n",
       "                                 metabolite_features  \\\n",
       "0  [0.17249086, -0.23665705, -0.11737049, -0.0940...   \n",
       "1  [0.4240491, 0.28231123, 0.2642891, -0.7667821,...   \n",
       "2  [0.50005734, 0.3923428, 0.064121775, -0.635894...   \n",
       "3  [0.28353548, 0.018489605, -0.5459905, -0.34693...   \n",
       "4  [0.051456872, 0.35619217, 0.10593035, -1.04098...   \n",
       "\n",
       "                                    protein_features  \n",
       "0  [0.026722027, -0.06119407, 0.041440543, -0.109...  \n",
       "1  [-0.029181704, -0.12635791, 0.10866662, 0.0339...  \n",
       "2  [0.02874529, -0.17312695, -0.0026887748, 0.035...  \n",
       "3  [-0.06555556, 0.04763434, 0.031432115, 0.17143...  \n",
       "4  [0.049294557, -0.043596543, 0.0546125, 0.35600...  "
      ]
     },
     "execution_count": 3,
     "metadata": {},
     "output_type": "execute_result"
    }
   ],
   "source": [
    "data_ki.rename(columns={'log10ki_mean':'label'},inplace=True)\n",
    "data_ki.head()"
   ]
  },
  {
   "cell_type": "code",
   "execution_count": 4,
   "metadata": {},
   "outputs": [],
   "source": [
    "# Define dataset\n",
    "class MPI_Dataset(Dataset):\n",
    "    def __init__(self, dataframe):\n",
    "        self.dataframe = dataframe\n",
    "\n",
    "    def __len__(self):\n",
    "        return len(self.dataframe)\n",
    "\n",
    "    def __getitem__(self, idx):\n",
    "        row = self.dataframe.iloc[idx]\n",
    "        return {\n",
    "            'metabolite_features': torch.tensor(np.asarray(row['metabolite_features'], dtype=np.float32)),\n",
    "            'protein_features': torch.tensor(np.asarray(row['protein_features'], dtype=np.float32)),\n",
    "            'label': torch.tensor(float(row['label']), dtype=torch.float32),\n",
    "        }"
   ]
  },
  {
   "cell_type": "code",
   "execution_count": 5,
   "metadata": {},
   "outputs": [],
   "source": [
    "# Load data\n",
    "# Assuming `combined_df` is a pandas DataFrame containing all necessary columns\n",
    "train_df, temp_df = train_test_split(data_ki, test_size=0.3, shuffle=True, random_state=42)\n",
    "val_df, test_df = train_test_split(temp_df, test_size=0.5, shuffle=True, random_state=42)\n",
    "\n",
    "train_dataset = MPI_Dataset(train_df)\n",
    "val_dataset = MPI_Dataset(val_df)\n",
    "test_dataset = MPI_Dataset(test_df)\n",
    "\n",
    "train_loader = DataLoader(train_dataset, batch_size=32, shuffle=True)\n",
    "val_loader = DataLoader(val_dataset, batch_size=32)\n",
    "test_loader = DataLoader(test_dataset, batch_size=32)"
   ]
  },
  {
   "cell_type": "code",
   "execution_count": 6,
   "metadata": {},
   "outputs": [],
   "source": [
    "import torch.nn as nn\n",
    "import torch\n",
    "import torch.nn.functional as F\n",
    "\n",
    "# Define Transformer for Regression\n",
    "# https://www.datacamp.com/tutorial/building-a-transformer-with-py-torch\n",
    "class TransformerRegressor(nn.Module):\n",
    "    def __init__(self, mol_input_dim, protein_input_dim, d_model=128, nhead=4, num_layers=2, dropout=0.1):\n",
    "        super().__init__()\n",
    "\n",
    "        # Linear projection to embedding space\n",
    "        self.mol_proj = nn.Linear(mol_input_dim, d_model)\n",
    "        self.protein_proj = nn.Linear(protein_input_dim, d_model)\n",
    "\n",
    "        # Positional encoding (learnable)\n",
    "        self.pos_embedding = nn.Parameter(torch.randn(2, d_model))  # 2 positions: [mol, protein]\n",
    "\n",
    "        # Transformer encoder\n",
    "        encoder_layer = nn.TransformerEncoderLayer(d_model=d_model, nhead=nhead, dropout=dropout, batch_first=True)\n",
    "        self.transformer = nn.TransformerEncoder(encoder_layer, num_layers=num_layers)\n",
    "\n",
    "        # Regression head\n",
    "        self.regressor = nn.Sequential(\n",
    "            nn.Linear(d_model * 2, d_model),\n",
    "            nn.ReLU(),\n",
    "            nn.Dropout(dropout),\n",
    "            nn.Linear(d_model, 1)\n",
    "        )\n",
    "\n",
    "    def forward(self, mol_input, protein_input):\n",
    "        # Project input to embedding space\n",
    "        mol_embed = self.mol_proj(mol_input).unsqueeze(1)       # shape: (B, 1, d_model)\n",
    "        protein_embed = self.protein_proj(protein_input).unsqueeze(1)  # shape: (B, 1, d_model)\n",
    "\n",
    "        # Concatenate [mol, protein] tokens → sequence length = 2\n",
    "        x = torch.cat([mol_embed, protein_embed], dim=1)  # shape: (B, 2, d_model)\n",
    "\n",
    "        # Add learnable positional encoding\n",
    "        x = x + self.pos_embedding.unsqueeze(0)  # broadcast (1, 2, d_model)\n",
    "\n",
    "        # Pass through Transformer encoder\n",
    "        encoded = self.transformer(x)  # shape: (B, 2, d_model)\n",
    "\n",
    "        # Flatten both tokens\n",
    "        flattened = encoded.view(encoded.size(0), -1)  # shape: (B, 2 * d_model)\n",
    "\n",
    "        # Regression\n",
    "        out = self.regressor(flattened)\n",
    "        return out.view(-1)"
   ]
  },
  {
   "cell_type": "code",
   "execution_count": 7,
   "metadata": {},
   "outputs": [],
   "source": [
    "# Check CUDA availability\n",
    "device = torch.device(\"cuda\" if torch.cuda.is_available() else \"cpu\")"
   ]
  },
  {
   "cell_type": "code",
   "execution_count": null,
   "metadata": {},
   "outputs": [
    {
     "name": "stderr",
     "output_type": "stream",
     "text": [
      "Training Epoch 1: 100%|██████████| 261/261 [00:04<00:00, 59.92it/s]\n",
      "/var/folders/yz/c1z6m9_d5d3f80sywjc3rqsc0000gn/T/ipykernel_17858/1634219118.py:92: FutureWarning: The behavior of DataFrame concatenation with empty or all-NA entries is deprecated. In a future version, this will no longer exclude empty or all-NA columns when determining the result dtypes. To retain the old behavior, exclude the relevant entries before the concat operation.\n",
      "  train_history = pd.concat([train_history, pd.DataFrame([new_row])], ignore_index=True)\n"
     ]
    },
    {
     "name": "stdout",
     "output_type": "stream",
     "text": [
      "Epoch 0 - Train Loss: 3.0208, Train MSE: 3.0211, Train MAE: 1.3789\n",
      "Epoch 0 - Validation Loss: 2.6287, Validation MSE: 2.6295, Validation MAE: 1.2910\n"
     ]
    },
    {
     "name": "stderr",
     "output_type": "stream",
     "text": [
      "Training Epoch 2: 100%|██████████| 261/261 [00:04<00:00, 59.92it/s]\n",
      "Training Epoch 3: 100%|██████████| 261/261 [00:04<00:00, 65.02it/s]\n",
      "Training Epoch 4: 100%|██████████| 261/261 [00:04<00:00, 61.67it/s]\n",
      "Training Epoch 5: 100%|██████████| 261/261 [00:03<00:00, 72.31it/s]\n",
      "Training Epoch 6: 100%|██████████| 261/261 [00:03<00:00, 73.80it/s]\n",
      "Training Epoch 7: 100%|██████████| 261/261 [00:05<00:00, 45.48it/s]\n",
      "Training Epoch 8: 100%|██████████| 261/261 [00:05<00:00, 49.73it/s]\n",
      "Training Epoch 9: 100%|██████████| 261/261 [00:03<00:00, 72.35it/s]\n",
      "Training Epoch 10: 100%|██████████| 261/261 [00:03<00:00, 74.06it/s]\n",
      "Training Epoch 11: 100%|██████████| 261/261 [00:03<00:00, 66.21it/s]\n"
     ]
    },
    {
     "name": "stdout",
     "output_type": "stream",
     "text": [
      "Epoch 10 - Train Loss: 2.0619, Train MSE: 2.0621, Train MAE: 1.1258\n",
      "Epoch 10 - Validation Loss: 2.3966, Validation MSE: 2.3972, Validation MAE: 1.1956\n"
     ]
    },
    {
     "name": "stderr",
     "output_type": "stream",
     "text": [
      "Training Epoch 12: 100%|██████████| 261/261 [00:03<00:00, 73.94it/s]\n",
      "Training Epoch 13: 100%|██████████| 261/261 [00:03<00:00, 78.67it/s]\n",
      "Training Epoch 14: 100%|██████████| 261/261 [00:03<00:00, 82.25it/s]\n",
      "Training Epoch 15: 100%|██████████| 261/261 [00:04<00:00, 58.48it/s]\n",
      "Training Epoch 16: 100%|██████████| 261/261 [00:03<00:00, 68.02it/s]\n",
      "Training Epoch 17: 100%|██████████| 261/261 [00:03<00:00, 68.07it/s]\n",
      "Training Epoch 18: 100%|██████████| 261/261 [00:03<00:00, 70.06it/s]\n",
      "Training Epoch 19: 100%|██████████| 261/261 [00:03<00:00, 66.00it/s]\n",
      "Training Epoch 20: 100%|██████████| 261/261 [00:04<00:00, 61.62it/s]\n",
      "Training Epoch 21: 100%|██████████| 261/261 [00:04<00:00, 58.07it/s]\n"
     ]
    },
    {
     "name": "stdout",
     "output_type": "stream",
     "text": [
      "Epoch 20 - Train Loss: 1.5745, Train MSE: 1.5746, Train MAE: 0.9762\n",
      "Epoch 20 - Validation Loss: 2.1352, Validation MSE: 2.1363, Validation MAE: 1.1264\n"
     ]
    },
    {
     "name": "stderr",
     "output_type": "stream",
     "text": [
      "Training Epoch 22: 100%|██████████| 261/261 [00:04<00:00, 55.37it/s]\n",
      "Training Epoch 23: 100%|██████████| 261/261 [00:05<00:00, 51.26it/s]\n",
      "Training Epoch 24: 100%|██████████| 261/261 [00:04<00:00, 55.11it/s]\n",
      "Training Epoch 25: 100%|██████████| 261/261 [00:04<00:00, 52.64it/s]\n",
      "Training Epoch 26: 100%|██████████| 261/261 [00:04<00:00, 54.39it/s]\n",
      "Training Epoch 27: 100%|██████████| 261/261 [00:04<00:00, 56.60it/s]\n",
      "Training Epoch 28: 100%|██████████| 261/261 [00:04<00:00, 60.08it/s]\n",
      "Training Epoch 29: 100%|██████████| 261/261 [00:04<00:00, 59.08it/s]\n",
      "Training Epoch 30: 100%|██████████| 261/261 [00:04<00:00, 54.95it/s]\n",
      "Training Epoch 31: 100%|██████████| 261/261 [00:04<00:00, 56.93it/s]\n"
     ]
    },
    {
     "name": "stdout",
     "output_type": "stream",
     "text": [
      "Epoch 30 - Train Loss: 1.1732, Train MSE: 1.1732, Train MAE: 0.8390\n",
      "Epoch 30 - Validation Loss: 1.9161, Validation MSE: 1.9176, Validation MAE: 1.0529\n"
     ]
    },
    {
     "name": "stderr",
     "output_type": "stream",
     "text": [
      "Training Epoch 32: 100%|██████████| 261/261 [00:04<00:00, 59.33it/s]\n",
      "Training Epoch 33: 100%|██████████| 261/261 [00:04<00:00, 60.39it/s]\n",
      "Training Epoch 34: 100%|██████████| 261/261 [00:04<00:00, 56.65it/s]\n",
      "Training Epoch 35: 100%|██████████| 261/261 [00:04<00:00, 58.76it/s]\n",
      "Training Epoch 36: 100%|██████████| 261/261 [00:04<00:00, 57.04it/s]\n",
      "Training Epoch 37: 100%|██████████| 261/261 [00:04<00:00, 57.43it/s]\n",
      "Training Epoch 38: 100%|██████████| 261/261 [00:05<00:00, 51.75it/s]\n",
      "Training Epoch 39: 100%|██████████| 261/261 [00:04<00:00, 55.33it/s]\n",
      "Training Epoch 40: 100%|██████████| 261/261 [00:04<00:00, 57.73it/s]\n",
      "Training Epoch 41: 100%|██████████| 261/261 [00:04<00:00, 55.95it/s]\n"
     ]
    },
    {
     "name": "stdout",
     "output_type": "stream",
     "text": [
      "Epoch 40 - Train Loss: 0.9027, Train MSE: 0.9028, Train MAE: 0.7316\n",
      "Epoch 40 - Validation Loss: 1.9042, Validation MSE: 1.9056, Validation MAE: 1.0368\n"
     ]
    },
    {
     "name": "stderr",
     "output_type": "stream",
     "text": [
      "Training Epoch 42: 100%|██████████| 261/261 [00:04<00:00, 58.34it/s]\n",
      "Training Epoch 43: 100%|██████████| 261/261 [00:04<00:00, 58.89it/s]\n",
      "Training Epoch 44: 100%|██████████| 261/261 [00:04<00:00, 56.35it/s]\n",
      "Training Epoch 45: 100%|██████████| 261/261 [00:04<00:00, 60.03it/s]\n",
      "Training Epoch 46: 100%|██████████| 261/261 [00:04<00:00, 57.68it/s]\n",
      "Training Epoch 47: 100%|██████████| 261/261 [00:04<00:00, 55.73it/s]\n",
      "Training Epoch 48: 100%|██████████| 261/261 [00:04<00:00, 53.72it/s]\n",
      "Training Epoch 49: 100%|██████████| 261/261 [00:04<00:00, 58.14it/s]\n",
      "Training Epoch 50: 100%|██████████| 261/261 [00:04<00:00, 52.36it/s]\n",
      "Training Epoch 51: 100%|██████████| 261/261 [00:04<00:00, 57.42it/s]\n"
     ]
    },
    {
     "name": "stdout",
     "output_type": "stream",
     "text": [
      "Epoch 50 - Train Loss: 0.7283, Train MSE: 0.7283, Train MAE: 0.6568\n",
      "Epoch 50 - Validation Loss: 1.8903, Validation MSE: 1.8922, Validation MAE: 1.0226\n"
     ]
    },
    {
     "name": "stderr",
     "output_type": "stream",
     "text": [
      "Training Epoch 52: 100%|██████████| 261/261 [00:04<00:00, 58.01it/s]\n",
      "Training Epoch 53: 100%|██████████| 261/261 [00:04<00:00, 58.38it/s]\n",
      "Training Epoch 54: 100%|██████████| 261/261 [00:04<00:00, 59.39it/s]\n",
      "Training Epoch 55: 100%|██████████| 261/261 [00:04<00:00, 57.48it/s]\n",
      "Training Epoch 56: 100%|██████████| 261/261 [00:04<00:00, 57.79it/s]\n",
      "Training Epoch 57: 100%|██████████| 261/261 [00:04<00:00, 57.90it/s]\n",
      "Training Epoch 58: 100%|██████████| 261/261 [00:04<00:00, 58.50it/s]\n",
      "Training Epoch 59: 100%|██████████| 261/261 [00:04<00:00, 57.39it/s]\n",
      "Training Epoch 60: 100%|██████████| 261/261 [00:04<00:00, 56.23it/s]\n",
      "Training Epoch 61: 100%|██████████| 261/261 [00:04<00:00, 59.04it/s]\n"
     ]
    },
    {
     "name": "stdout",
     "output_type": "stream",
     "text": [
      "Epoch 60 - Train Loss: 0.6083, Train MSE: 0.6081, Train MAE: 0.5977\n",
      "Epoch 60 - Validation Loss: 1.8698, Validation MSE: 1.8713, Validation MAE: 1.0181\n"
     ]
    },
    {
     "name": "stderr",
     "output_type": "stream",
     "text": [
      "Training Epoch 62: 100%|██████████| 261/261 [00:04<00:00, 58.91it/s]\n",
      "Training Epoch 63: 100%|██████████| 261/261 [00:04<00:00, 52.58it/s]\n",
      "Training Epoch 64: 100%|██████████| 261/261 [00:04<00:00, 57.68it/s]\n",
      "Training Epoch 65: 100%|██████████| 261/261 [00:04<00:00, 60.28it/s]\n",
      "Training Epoch 66: 100%|██████████| 261/261 [00:04<00:00, 55.32it/s]\n",
      "Training Epoch 67: 100%|██████████| 261/261 [00:04<00:00, 58.05it/s]\n",
      "Training Epoch 68: 100%|██████████| 261/261 [00:04<00:00, 59.52it/s]\n",
      "Training Epoch 69: 100%|██████████| 261/261 [00:04<00:00, 59.49it/s]\n",
      "Training Epoch 70: 100%|██████████| 261/261 [00:05<00:00, 43.93it/s]\n",
      "Training Epoch 71: 100%|██████████| 261/261 [00:04<00:00, 52.89it/s]\n"
     ]
    },
    {
     "name": "stdout",
     "output_type": "stream",
     "text": [
      "Epoch 70 - Train Loss: 0.5030, Train MSE: 0.5029, Train MAE: 0.5425\n",
      "Epoch 70 - Validation Loss: 1.9110, Validation MSE: 1.9128, Validation MAE: 1.0155\n"
     ]
    },
    {
     "name": "stderr",
     "output_type": "stream",
     "text": [
      "Training Epoch 72: 100%|██████████| 261/261 [00:04<00:00, 56.86it/s]\n",
      "Training Epoch 73: 100%|██████████| 261/261 [00:04<00:00, 56.97it/s]\n",
      "Training Epoch 74: 100%|██████████| 261/261 [06:55<00:00,  1.59s/it] \n",
      "Training Epoch 75: 100%|██████████| 261/261 [00:07<00:00, 36.19it/s]\n",
      "Training Epoch 76: 100%|██████████| 261/261 [00:07<00:00, 36.73it/s]\n",
      "Training Epoch 77: 100%|██████████| 261/261 [00:07<00:00, 35.27it/s]\n",
      "Training Epoch 78: 100%|██████████| 261/261 [00:07<00:00, 37.05it/s]\n",
      "Training Epoch 79: 100%|██████████| 261/261 [34:39<00:00,  7.97s/it]  \n",
      "Training Epoch 80: 100%|██████████| 261/261 [15:45<00:00,  3.62s/it]  \n",
      "Training Epoch 81: 100%|██████████| 261/261 [16:03<00:00,  3.69s/it] \n"
     ]
    },
    {
     "name": "stdout",
     "output_type": "stream",
     "text": [
      "Epoch 80 - Train Loss: 0.4301, Train MSE: 0.4301, Train MAE: 0.5031\n",
      "Epoch 80 - Validation Loss: 1.9192, Validation MSE: 1.9206, Validation MAE: 1.0239\n"
     ]
    },
    {
     "name": "stderr",
     "output_type": "stream",
     "text": [
      "Training Epoch 82: 100%|██████████| 261/261 [17:54<00:00,  4.12s/it]  \n",
      "Training Epoch 83: 100%|██████████| 261/261 [09:55<00:00,  2.28s/it] \n",
      "Training Epoch 84: 100%|██████████| 261/261 [02:33<00:00,  1.69it/s]\n",
      "Training Epoch 85: 100%|██████████| 261/261 [17:29<00:00,  4.02s/it]  \n",
      "Training Epoch 86: 100%|██████████| 261/261 [34:01<00:00,  7.82s/it] \n",
      "Training Epoch 87: 100%|██████████| 261/261 [09:28<00:00,  2.18s/it]  \n",
      "Training Epoch 88: 100%|██████████| 261/261 [00:08<00:00, 32.11it/s]\n",
      "Training Epoch 89: 100%|██████████| 261/261 [00:07<00:00, 33.25it/s]\n",
      "Training Epoch 90: 100%|██████████| 261/261 [00:08<00:00, 29.39it/s]\n",
      "Training Epoch 91: 100%|██████████| 261/261 [00:07<00:00, 34.29it/s]\n"
     ]
    },
    {
     "name": "stdout",
     "output_type": "stream",
     "text": [
      "Epoch 90 - Train Loss: 0.3788, Train MSE: 0.3788, Train MAE: 0.4703\n",
      "Epoch 90 - Validation Loss: 1.8833, Validation MSE: 1.8849, Validation MAE: 1.0066\n"
     ]
    },
    {
     "name": "stderr",
     "output_type": "stream",
     "text": [
      "Training Epoch 92: 100%|██████████| 261/261 [00:07<00:00, 33.93it/s]\n",
      "Training Epoch 93: 100%|██████████| 261/261 [19:24<00:00,  4.46s/it] \n",
      "Training Epoch 94: 100%|██████████| 261/261 [00:07<00:00, 36.58it/s]\n",
      "Training Epoch 95: 100%|██████████| 261/261 [00:04<00:00, 56.02it/s]\n",
      "Training Epoch 96: 100%|██████████| 261/261 [00:04<00:00, 53.57it/s]\n",
      "Training Epoch 97: 100%|██████████| 261/261 [00:04<00:00, 59.15it/s]\n",
      "Training Epoch 98: 100%|██████████| 261/261 [00:04<00:00, 54.58it/s]\n",
      "Training Epoch 99: 100%|██████████| 261/261 [00:04<00:00, 54.62it/s]\n",
      "Training Epoch 100: 100%|██████████| 261/261 [00:04<00:00, 57.31it/s]\n",
      "Training Epoch 101: 100%|██████████| 261/261 [00:04<00:00, 52.42it/s]\n"
     ]
    },
    {
     "name": "stdout",
     "output_type": "stream",
     "text": [
      "Epoch 100 - Train Loss: 0.3370, Train MSE: 0.3369, Train MAE: 0.4413\n",
      "Epoch 100 - Validation Loss: 1.9294, Validation MSE: 1.9311, Validation MAE: 1.0091\n"
     ]
    },
    {
     "name": "stderr",
     "output_type": "stream",
     "text": [
      "Training Epoch 102: 100%|██████████| 261/261 [00:04<00:00, 59.58it/s]\n",
      "Training Epoch 103: 100%|██████████| 261/261 [00:04<00:00, 56.49it/s]\n",
      "Training Epoch 104: 100%|██████████| 261/261 [00:04<00:00, 56.43it/s]\n",
      "Training Epoch 105: 100%|██████████| 261/261 [00:04<00:00, 57.72it/s]\n",
      "Training Epoch 106: 100%|██████████| 261/261 [00:04<00:00, 60.82it/s]\n",
      "Training Epoch 107: 100%|██████████| 261/261 [00:04<00:00, 60.55it/s]\n",
      "Training Epoch 108: 100%|██████████| 261/261 [00:04<00:00, 59.22it/s]\n",
      "Training Epoch 109: 100%|██████████| 261/261 [00:04<00:00, 57.34it/s]\n",
      "Training Epoch 110: 100%|██████████| 261/261 [00:05<00:00, 51.52it/s]\n",
      "Training Epoch 111: 100%|██████████| 261/261 [00:04<00:00, 55.25it/s]\n"
     ]
    },
    {
     "name": "stdout",
     "output_type": "stream",
     "text": [
      "Epoch 110 - Train Loss: 0.3027, Train MSE: 0.3027, Train MAE: 0.4214\n",
      "Epoch 110 - Validation Loss: 1.8242, Validation MSE: 1.8253, Validation MAE: 0.9989\n"
     ]
    },
    {
     "name": "stderr",
     "output_type": "stream",
     "text": [
      "Training Epoch 112: 100%|██████████| 261/261 [00:04<00:00, 56.54it/s]\n",
      "Training Epoch 113: 100%|██████████| 261/261 [00:04<00:00, 59.88it/s]\n",
      "Training Epoch 114: 100%|██████████| 261/261 [00:04<00:00, 61.81it/s]\n",
      "Training Epoch 115: 100%|██████████| 261/261 [00:04<00:00, 55.26it/s]\n",
      "Training Epoch 116: 100%|██████████| 261/261 [00:04<00:00, 60.44it/s]\n",
      "Training Epoch 117: 100%|██████████| 261/261 [00:04<00:00, 55.03it/s]\n",
      "Training Epoch 118: 100%|██████████| 261/261 [00:04<00:00, 61.36it/s]\n",
      "Training Epoch 119: 100%|██████████| 261/261 [00:04<00:00, 53.40it/s]\n",
      "Training Epoch 120: 100%|██████████| 261/261 [00:07<00:00, 37.14it/s]\n",
      "Training Epoch 121: 100%|██████████| 261/261 [00:04<00:00, 52.48it/s]\n"
     ]
    },
    {
     "name": "stdout",
     "output_type": "stream",
     "text": [
      "Epoch 120 - Train Loss: 0.2863, Train MSE: 0.2863, Train MAE: 0.4044\n",
      "Epoch 120 - Validation Loss: 1.8452, Validation MSE: 1.8469, Validation MAE: 0.9874\n"
     ]
    },
    {
     "name": "stderr",
     "output_type": "stream",
     "text": [
      "Training Epoch 122: 100%|██████████| 261/261 [00:04<00:00, 55.69it/s]\n",
      "Training Epoch 123: 100%|██████████| 261/261 [00:04<00:00, 56.77it/s]\n",
      "Training Epoch 124: 100%|██████████| 261/261 [00:04<00:00, 56.50it/s]\n",
      "Training Epoch 125: 100%|██████████| 261/261 [00:04<00:00, 62.92it/s]\n",
      "Training Epoch 126: 100%|██████████| 261/261 [00:04<00:00, 58.09it/s]\n",
      "Training Epoch 127: 100%|██████████| 261/261 [00:04<00:00, 61.28it/s]\n",
      "Training Epoch 128: 100%|██████████| 261/261 [00:04<00:00, 57.58it/s]\n",
      "Training Epoch 129: 100%|██████████| 261/261 [00:04<00:00, 60.73it/s]\n",
      "Training Epoch 130: 100%|██████████| 261/261 [00:04<00:00, 62.02it/s]\n",
      "Training Epoch 131: 100%|██████████| 261/261 [00:05<00:00, 51.44it/s]\n"
     ]
    },
    {
     "name": "stdout",
     "output_type": "stream",
     "text": [
      "Epoch 130 - Train Loss: 0.2584, Train MSE: 0.2584, Train MAE: 0.3845\n",
      "Epoch 130 - Validation Loss: 1.8201, Validation MSE: 1.8217, Validation MAE: 0.9742\n"
     ]
    },
    {
     "name": "stderr",
     "output_type": "stream",
     "text": [
      "Training Epoch 132: 100%|██████████| 261/261 [00:04<00:00, 53.66it/s]\n",
      "Training Epoch 133: 100%|██████████| 261/261 [00:05<00:00, 52.16it/s]\n",
      "Training Epoch 134: 100%|██████████| 261/261 [00:05<00:00, 49.77it/s]\n",
      "Training Epoch 135: 100%|██████████| 261/261 [00:04<00:00, 55.68it/s]\n",
      "Training Epoch 136: 100%|██████████| 261/261 [00:05<00:00, 51.39it/s]\n",
      "Training Epoch 137: 100%|██████████| 261/261 [00:05<00:00, 51.86it/s]\n",
      "Training Epoch 138: 100%|██████████| 261/261 [00:04<00:00, 56.18it/s]\n",
      "Training Epoch 139: 100%|██████████| 261/261 [00:04<00:00, 55.40it/s]\n",
      "Training Epoch 140: 100%|██████████| 261/261 [00:04<00:00, 53.63it/s]\n",
      "Training Epoch 141: 100%|██████████| 261/261 [00:04<00:00, 53.21it/s]\n"
     ]
    },
    {
     "name": "stdout",
     "output_type": "stream",
     "text": [
      "Epoch 140 - Train Loss: 0.2519, Train MSE: 0.2519, Train MAE: 0.3752\n",
      "Epoch 140 - Validation Loss: 1.8017, Validation MSE: 1.8032, Validation MAE: 0.9779\n"
     ]
    },
    {
     "name": "stderr",
     "output_type": "stream",
     "text": [
      "Training Epoch 142: 100%|██████████| 261/261 [00:05<00:00, 52.08it/s]\n",
      "Training Epoch 143: 100%|██████████| 261/261 [00:04<00:00, 54.10it/s]\n",
      "Training Epoch 144: 100%|██████████| 261/261 [00:04<00:00, 54.46it/s]\n",
      "Training Epoch 145: 100%|██████████| 261/261 [00:04<00:00, 52.44it/s]\n",
      "Training Epoch 146: 100%|██████████| 261/261 [00:05<00:00, 51.61it/s]\n",
      "Training Epoch 147: 100%|██████████| 261/261 [00:04<00:00, 53.38it/s]\n",
      "Training Epoch 148: 100%|██████████| 261/261 [00:05<00:00, 51.07it/s]\n",
      "Training Epoch 149: 100%|██████████| 261/261 [00:04<00:00, 53.81it/s]\n",
      "Training Epoch 150: 100%|██████████| 261/261 [00:04<00:00, 53.95it/s]\n",
      "Training Epoch 151: 100%|██████████| 261/261 [00:04<00:00, 55.46it/s]\n"
     ]
    },
    {
     "name": "stdout",
     "output_type": "stream",
     "text": [
      "Epoch 150 - Train Loss: 0.2180, Train MSE: 0.2180, Train MAE: 0.3499\n",
      "Epoch 150 - Validation Loss: 1.7989, Validation MSE: 1.8002, Validation MAE: 0.9693\n"
     ]
    },
    {
     "name": "stderr",
     "output_type": "stream",
     "text": [
      "Training Epoch 152: 100%|██████████| 261/261 [00:04<00:00, 56.13it/s]\n",
      "Training Epoch 153: 100%|██████████| 261/261 [00:04<00:00, 56.96it/s]\n",
      "Training Epoch 154: 100%|██████████| 261/261 [00:04<00:00, 52.71it/s]\n",
      "Training Epoch 155: 100%|██████████| 261/261 [00:05<00:00, 51.89it/s]\n",
      "Training Epoch 156: 100%|██████████| 261/261 [00:04<00:00, 52.97it/s]\n",
      "Training Epoch 157: 100%|██████████| 261/261 [00:04<00:00, 55.89it/s]\n",
      "Training Epoch 158: 100%|██████████| 261/261 [00:05<00:00, 52.18it/s]\n",
      "Training Epoch 159: 100%|██████████| 261/261 [00:04<00:00, 53.84it/s]\n",
      "Training Epoch 160: 100%|██████████| 261/261 [00:05<00:00, 51.11it/s]\n",
      "Training Epoch 161: 100%|██████████| 261/261 [00:04<00:00, 53.91it/s]\n"
     ]
    },
    {
     "name": "stdout",
     "output_type": "stream",
     "text": [
      "Epoch 160 - Train Loss: 0.2008, Train MSE: 0.2008, Train MAE: 0.3387\n",
      "Epoch 160 - Validation Loss: 1.8355, Validation MSE: 1.8370, Validation MAE: 0.9849\n"
     ]
    },
    {
     "name": "stderr",
     "output_type": "stream",
     "text": [
      "Training Epoch 162: 100%|██████████| 261/261 [00:04<00:00, 55.15it/s]\n",
      "Training Epoch 163: 100%|██████████| 261/261 [00:04<00:00, 55.62it/s]\n",
      "Training Epoch 164: 100%|██████████| 261/261 [00:04<00:00, 52.85it/s]\n",
      "Training Epoch 165: 100%|██████████| 261/261 [00:04<00:00, 53.30it/s]\n",
      "Training Epoch 166: 100%|██████████| 261/261 [00:04<00:00, 53.89it/s]\n",
      "Training Epoch 167: 100%|██████████| 261/261 [00:04<00:00, 52.59it/s]\n",
      "Training Epoch 168: 100%|██████████| 261/261 [00:04<00:00, 52.92it/s]\n",
      "Training Epoch 169: 100%|██████████| 261/261 [00:04<00:00, 53.30it/s]\n",
      "Training Epoch 170: 100%|██████████| 261/261 [00:04<00:00, 53.56it/s]\n",
      "Training Epoch 171: 100%|██████████| 261/261 [00:04<00:00, 52.67it/s]\n"
     ]
    },
    {
     "name": "stdout",
     "output_type": "stream",
     "text": [
      "Epoch 170 - Train Loss: 0.1949, Train MSE: 0.1949, Train MAE: 0.3310\n",
      "Epoch 170 - Validation Loss: 1.7762, Validation MSE: 1.7777, Validation MAE: 0.9751\n"
     ]
    },
    {
     "name": "stderr",
     "output_type": "stream",
     "text": [
      "Training Epoch 172: 100%|██████████| 261/261 [00:04<00:00, 53.70it/s]\n",
      "Training Epoch 173: 100%|██████████| 261/261 [00:07<00:00, 34.49it/s]\n",
      "Training Epoch 174: 100%|██████████| 261/261 [00:11<00:00, 21.97it/s]\n",
      "Training Epoch 175: 100%|██████████| 261/261 [00:12<00:00, 21.00it/s]\n",
      "Training Epoch 176: 100%|██████████| 261/261 [00:11<00:00, 21.75it/s]\n",
      "Training Epoch 177: 100%|██████████| 261/261 [00:12<00:00, 20.99it/s]\n",
      "Training Epoch 178: 100%|██████████| 261/261 [00:11<00:00, 22.59it/s]\n",
      "Training Epoch 179: 100%|██████████| 261/261 [00:07<00:00, 35.76it/s]\n",
      "Training Epoch 180: 100%|██████████| 261/261 [00:06<00:00, 42.71it/s]\n",
      "Training Epoch 181: 100%|██████████| 261/261 [00:05<00:00, 43.61it/s]\n"
     ]
    },
    {
     "name": "stdout",
     "output_type": "stream",
     "text": [
      "Epoch 180 - Train Loss: 0.1756, Train MSE: 0.1756, Train MAE: 0.3149\n",
      "Epoch 180 - Validation Loss: 1.7685, Validation MSE: 1.7701, Validation MAE: 0.9625\n"
     ]
    },
    {
     "name": "stderr",
     "output_type": "stream",
     "text": [
      "Training Epoch 182: 100%|██████████| 261/261 [00:06<00:00, 42.86it/s]\n",
      "Training Epoch 183: 100%|██████████| 261/261 [00:05<00:00, 45.35it/s]\n",
      "Training Epoch 184: 100%|██████████| 261/261 [00:06<00:00, 39.01it/s]\n",
      "Training Epoch 185: 100%|██████████| 261/261 [00:06<00:00, 37.35it/s]\n",
      "Training Epoch 186: 100%|██████████| 261/261 [00:06<00:00, 38.11it/s]\n",
      "Training Epoch 187: 100%|██████████| 261/261 [00:06<00:00, 41.06it/s]\n",
      "Training Epoch 188: 100%|██████████| 261/261 [00:06<00:00, 41.09it/s]\n",
      "Training Epoch 189: 100%|██████████| 261/261 [00:06<00:00, 41.08it/s]\n",
      "Training Epoch 190: 100%|██████████| 261/261 [00:06<00:00, 39.63it/s]\n",
      "Training Epoch 191: 100%|██████████| 261/261 [00:06<00:00, 41.04it/s]\n"
     ]
    },
    {
     "name": "stdout",
     "output_type": "stream",
     "text": [
      "Epoch 190 - Train Loss: 0.1753, Train MSE: 0.1753, Train MAE: 0.3131\n",
      "Epoch 190 - Validation Loss: 1.8108, Validation MSE: 1.8123, Validation MAE: 0.9738\n"
     ]
    },
    {
     "name": "stderr",
     "output_type": "stream",
     "text": [
      "Training Epoch 192: 100%|██████████| 261/261 [00:08<00:00, 32.39it/s]\n",
      "Training Epoch 193: 100%|██████████| 261/261 [00:06<00:00, 37.50it/s]\n",
      "Training Epoch 194: 100%|██████████| 261/261 [00:06<00:00, 40.59it/s]\n",
      "Training Epoch 195: 100%|██████████| 261/261 [00:06<00:00, 42.60it/s]\n",
      "Training Epoch 196: 100%|██████████| 261/261 [00:06<00:00, 43.02it/s]\n",
      "Training Epoch 197: 100%|██████████| 261/261 [00:06<00:00, 41.43it/s]\n",
      "Training Epoch 198: 100%|██████████| 261/261 [00:06<00:00, 41.74it/s]\n",
      "Training Epoch 199: 100%|██████████| 261/261 [00:08<00:00, 29.04it/s]\n",
      "Training Epoch 200: 100%|██████████| 261/261 [00:06<00:00, 39.52it/s]\n",
      "Training Epoch 201: 100%|██████████| 261/261 [00:07<00:00, 35.71it/s]\n"
     ]
    },
    {
     "name": "stdout",
     "output_type": "stream",
     "text": [
      "Epoch 200 - Train Loss: 0.1620, Train MSE: 0.1620, Train MAE: 0.3005\n",
      "Epoch 200 - Validation Loss: 1.7312, Validation MSE: 1.7325, Validation MAE: 0.9594\n"
     ]
    },
    {
     "name": "stderr",
     "output_type": "stream",
     "text": [
      "Training Epoch 202: 100%|██████████| 261/261 [00:07<00:00, 36.72it/s]\n",
      "Training Epoch 203: 100%|██████████| 261/261 [00:07<00:00, 33.02it/s]\n",
      "Training Epoch 204: 100%|██████████| 261/261 [00:07<00:00, 34.00it/s]\n",
      "Training Epoch 205: 100%|██████████| 261/261 [00:08<00:00, 32.49it/s]\n",
      "Training Epoch 206: 100%|██████████| 261/261 [00:07<00:00, 36.05it/s]\n",
      "Training Epoch 207: 100%|██████████| 261/261 [00:09<00:00, 26.91it/s]\n",
      "Training Epoch 208: 100%|██████████| 261/261 [00:08<00:00, 29.85it/s]\n",
      "Training Epoch 209: 100%|██████████| 261/261 [00:07<00:00, 33.81it/s]\n",
      "Training Epoch 210: 100%|██████████| 261/261 [00:10<00:00, 25.90it/s]\n",
      "Training Epoch 211: 100%|██████████| 261/261 [00:09<00:00, 26.15it/s]\n"
     ]
    },
    {
     "name": "stdout",
     "output_type": "stream",
     "text": [
      "Epoch 210 - Train Loss: 0.1571, Train MSE: 0.1571, Train MAE: 0.2941\n",
      "Epoch 210 - Validation Loss: 1.7774, Validation MSE: 1.7788, Validation MAE: 0.9572\n"
     ]
    },
    {
     "name": "stderr",
     "output_type": "stream",
     "text": [
      "Training Epoch 212: 100%|██████████| 261/261 [00:07<00:00, 32.74it/s]\n",
      "Training Epoch 213: 100%|██████████| 261/261 [00:07<00:00, 32.68it/s]\n",
      "Training Epoch 214: 100%|██████████| 261/261 [00:07<00:00, 33.43it/s]\n",
      "Training Epoch 215: 100%|██████████| 261/261 [00:08<00:00, 30.97it/s]\n",
      "Training Epoch 216: 100%|██████████| 261/261 [00:07<00:00, 34.24it/s]\n",
      "Training Epoch 217: 100%|██████████| 261/261 [00:08<00:00, 32.60it/s]\n",
      "Training Epoch 218: 100%|██████████| 261/261 [00:07<00:00, 33.83it/s]\n",
      "Training Epoch 219: 100%|██████████| 261/261 [00:07<00:00, 32.85it/s]\n",
      "Training Epoch 220: 100%|██████████| 261/261 [00:07<00:00, 34.87it/s]\n",
      "Training Epoch 221: 100%|██████████| 261/261 [00:07<00:00, 32.69it/s]\n"
     ]
    },
    {
     "name": "stdout",
     "output_type": "stream",
     "text": [
      "Epoch 220 - Train Loss: 0.1403, Train MSE: 0.1403, Train MAE: 0.2821\n",
      "Epoch 220 - Validation Loss: 1.7779, Validation MSE: 1.7792, Validation MAE: 0.9651\n"
     ]
    },
    {
     "name": "stderr",
     "output_type": "stream",
     "text": [
      "Training Epoch 222: 100%|██████████| 261/261 [00:07<00:00, 32.88it/s]\n",
      "Training Epoch 223: 100%|██████████| 261/261 [00:07<00:00, 35.17it/s]\n",
      "Training Epoch 224: 100%|██████████| 261/261 [00:07<00:00, 36.69it/s]\n",
      "Training Epoch 225: 100%|██████████| 261/261 [00:07<00:00, 35.86it/s]\n",
      "Training Epoch 226: 100%|██████████| 261/261 [00:07<00:00, 36.76it/s]\n",
      "Training Epoch 227: 100%|██████████| 261/261 [00:07<00:00, 36.29it/s]\n",
      "Training Epoch 228: 100%|██████████| 261/261 [17:48<00:00,  4.09s/it]  \n",
      "Training Epoch 229: 100%|██████████| 261/261 [00:20<00:00, 12.64it/s]\n",
      "Training Epoch 230: 100%|██████████| 261/261 [00:12<00:00, 21.20it/s]\n",
      "Training Epoch 231: 100%|██████████| 261/261 [00:11<00:00, 22.53it/s]\n"
     ]
    },
    {
     "name": "stdout",
     "output_type": "stream",
     "text": [
      "Epoch 230 - Train Loss: 0.1476, Train MSE: 0.1476, Train MAE: 0.2835\n",
      "Epoch 230 - Validation Loss: 1.7627, Validation MSE: 1.7640, Validation MAE: 0.9533\n"
     ]
    },
    {
     "name": "stderr",
     "output_type": "stream",
     "text": [
      "Training Epoch 232: 100%|██████████| 261/261 [11:48<00:00,  2.71s/it]  \n",
      "Training Epoch 233: 100%|██████████| 261/261 [00:11<00:00, 22.22it/s]\n",
      "Training Epoch 234: 100%|██████████| 261/261 [00:11<00:00, 23.10it/s]\n",
      "Training Epoch 235: 100%|██████████| 261/261 [00:10<00:00, 24.11it/s]\n",
      "Training Epoch 236: 100%|██████████| 261/261 [32:54<00:00,  7.57s/it]   \n",
      "Training Epoch 237: 100%|██████████| 261/261 [00:12<00:00, 21.59it/s]\n",
      "Training Epoch 238: 100%|██████████| 261/261 [00:11<00:00, 22.52it/s]\n",
      "Training Epoch 239: 100%|██████████| 261/261 [00:11<00:00, 22.79it/s]\n",
      "Training Epoch 240: 100%|██████████| 261/261 [00:12<00:00, 20.43it/s]\n",
      "Training Epoch 241: 100%|██████████| 261/261 [16:50<00:00,  3.87s/it]  \n"
     ]
    },
    {
     "name": "stdout",
     "output_type": "stream",
     "text": [
      "Epoch 240 - Train Loss: 0.1348, Train MSE: 0.1347, Train MAE: 0.2731\n",
      "Epoch 240 - Validation Loss: 1.7714, Validation MSE: 1.7729, Validation MAE: 0.9627\n"
     ]
    },
    {
     "name": "stderr",
     "output_type": "stream",
     "text": [
      "Training Epoch 242: 100%|██████████| 261/261 [00:11<00:00, 22.49it/s]\n",
      "Training Epoch 243: 100%|██████████| 261/261 [00:11<00:00, 23.16it/s]\n",
      "Training Epoch 244: 100%|██████████| 261/261 [00:10<00:00, 24.00it/s]\n",
      "Training Epoch 245: 100%|██████████| 261/261 [03:33<00:00,  1.22it/s]\n",
      "Training Epoch 246: 100%|██████████| 261/261 [00:07<00:00, 33.09it/s]\n",
      "Training Epoch 247: 100%|██████████| 261/261 [00:08<00:00, 32.26it/s]\n",
      "Training Epoch 248: 100%|██████████| 261/261 [00:07<00:00, 33.85it/s]\n",
      "Training Epoch 249: 100%|██████████| 261/261 [00:08<00:00, 29.66it/s]\n",
      "Training Epoch 250: 100%|██████████| 261/261 [00:07<00:00, 36.89it/s]\n",
      "Training Epoch 251: 100%|██████████| 261/261 [00:07<00:00, 36.68it/s]\n"
     ]
    },
    {
     "name": "stdout",
     "output_type": "stream",
     "text": [
      "Epoch 250 - Train Loss: 0.1286, Train MSE: 0.1286, Train MAE: 0.2662\n",
      "Epoch 250 - Validation Loss: 1.7403, Validation MSE: 1.7415, Validation MAE: 0.9493\n"
     ]
    },
    {
     "name": "stderr",
     "output_type": "stream",
     "text": [
      "Training Epoch 252: 100%|██████████| 261/261 [00:07<00:00, 36.59it/s]\n",
      "Training Epoch 253: 100%|██████████| 261/261 [00:07<00:00, 36.36it/s]\n",
      "Training Epoch 254: 100%|██████████| 261/261 [00:07<00:00, 35.64it/s]\n",
      "Training Epoch 255: 100%|██████████| 261/261 [00:06<00:00, 38.18it/s]\n",
      "Training Epoch 256: 100%|██████████| 261/261 [00:06<00:00, 38.96it/s]\n",
      "Training Epoch 257: 100%|██████████| 261/261 [00:07<00:00, 36.23it/s]\n",
      "Training Epoch 258: 100%|██████████| 261/261 [00:07<00:00, 36.92it/s]\n",
      "Training Epoch 259: 100%|██████████| 261/261 [00:06<00:00, 37.79it/s]\n",
      "Training Epoch 260: 100%|██████████| 261/261 [00:06<00:00, 37.93it/s]\n",
      "Training Epoch 261: 100%|██████████| 261/261 [00:06<00:00, 38.45it/s]\n"
     ]
    },
    {
     "name": "stdout",
     "output_type": "stream",
     "text": [
      "Epoch 260 - Train Loss: 0.1294, Train MSE: 0.1294, Train MAE: 0.2639\n",
      "Epoch 260 - Validation Loss: 1.7179, Validation MSE: 1.7195, Validation MAE: 0.9396\n"
     ]
    },
    {
     "name": "stderr",
     "output_type": "stream",
     "text": [
      "Training Epoch 262: 100%|██████████| 261/261 [00:06<00:00, 37.95it/s]\n",
      "Training Epoch 263: 100%|██████████| 261/261 [00:06<00:00, 38.28it/s]\n",
      "Training Epoch 264: 100%|██████████| 261/261 [00:06<00:00, 37.91it/s]\n",
      "Training Epoch 265: 100%|██████████| 261/261 [00:06<00:00, 38.06it/s]\n",
      "Training Epoch 266: 100%|██████████| 261/261 [00:07<00:00, 35.93it/s]\n",
      "Training Epoch 267: 100%|██████████| 261/261 [00:06<00:00, 38.13it/s]\n",
      "Training Epoch 268: 100%|██████████| 261/261 [00:06<00:00, 37.78it/s]\n",
      "Training Epoch 269: 100%|██████████| 261/261 [00:06<00:00, 37.37it/s]\n",
      "Training Epoch 270: 100%|██████████| 261/261 [00:06<00:00, 37.88it/s]\n",
      "Training Epoch 271: 100%|██████████| 261/261 [00:06<00:00, 37.93it/s]\n"
     ]
    },
    {
     "name": "stdout",
     "output_type": "stream",
     "text": [
      "Epoch 270 - Train Loss: 0.1268, Train MSE: 0.1268, Train MAE: 0.2627\n",
      "Epoch 270 - Validation Loss: 1.7519, Validation MSE: 1.7535, Validation MAE: 0.9521\n"
     ]
    },
    {
     "name": "stderr",
     "output_type": "stream",
     "text": [
      "Training Epoch 272: 100%|██████████| 261/261 [00:06<00:00, 38.18it/s]\n",
      "Training Epoch 273: 100%|██████████| 261/261 [00:06<00:00, 38.35it/s]\n",
      "Training Epoch 274: 100%|██████████| 261/261 [00:07<00:00, 36.09it/s]\n",
      "Training Epoch 275: 100%|██████████| 261/261 [00:06<00:00, 38.38it/s]\n",
      "Training Epoch 276: 100%|██████████| 261/261 [00:06<00:00, 38.28it/s]\n",
      "Training Epoch 277: 100%|██████████| 261/261 [00:06<00:00, 38.19it/s]\n",
      "Training Epoch 278: 100%|██████████| 261/261 [00:07<00:00, 37.05it/s]\n",
      "Training Epoch 279: 100%|██████████| 261/261 [00:06<00:00, 37.92it/s]\n",
      "Training Epoch 280: 100%|██████████| 261/261 [00:06<00:00, 38.01it/s]\n",
      "Training Epoch 281: 100%|██████████| 261/261 [00:06<00:00, 38.55it/s]\n"
     ]
    },
    {
     "name": "stdout",
     "output_type": "stream",
     "text": [
      "Epoch 280 - Train Loss: 0.1180, Train MSE: 0.1180, Train MAE: 0.2530\n",
      "Epoch 280 - Validation Loss: 1.7751, Validation MSE: 1.7766, Validation MAE: 0.9481\n"
     ]
    },
    {
     "name": "stderr",
     "output_type": "stream",
     "text": [
      "Training Epoch 282: 100%|██████████| 261/261 [00:07<00:00, 35.75it/s]\n",
      "Training Epoch 283: 100%|██████████| 261/261 [00:07<00:00, 36.20it/s]\n",
      "Training Epoch 284: 100%|██████████| 261/261 [00:06<00:00, 37.99it/s]\n",
      "Training Epoch 285: 100%|██████████| 261/261 [00:06<00:00, 38.25it/s]\n",
      "Training Epoch 286: 100%|██████████| 261/261 [00:06<00:00, 38.83it/s]\n",
      "Training Epoch 287: 100%|██████████| 261/261 [00:06<00:00, 38.38it/s]\n",
      "Training Epoch 288: 100%|██████████| 261/261 [00:06<00:00, 37.92it/s]\n",
      "Training Epoch 289: 100%|██████████| 261/261 [00:06<00:00, 37.97it/s]\n",
      "Training Epoch 290: 100%|██████████| 261/261 [00:06<00:00, 39.04it/s]\n",
      "Training Epoch 291: 100%|██████████| 261/261 [00:07<00:00, 35.97it/s]\n"
     ]
    },
    {
     "name": "stdout",
     "output_type": "stream",
     "text": [
      "Epoch 290 - Train Loss: 0.1254, Train MSE: 0.1254, Train MAE: 0.2598\n",
      "Epoch 290 - Validation Loss: 1.7420, Validation MSE: 1.7436, Validation MAE: 0.9408\n"
     ]
    },
    {
     "name": "stderr",
     "output_type": "stream",
     "text": [
      "Training Epoch 292: 100%|██████████| 261/261 [00:06<00:00, 37.35it/s]\n",
      "Training Epoch 293: 100%|██████████| 261/261 [00:06<00:00, 38.04it/s]\n",
      "Training Epoch 294: 100%|██████████| 261/261 [00:06<00:00, 37.74it/s]\n",
      "Training Epoch 295: 100%|██████████| 261/261 [00:07<00:00, 37.22it/s]\n",
      "Training Epoch 296: 100%|██████████| 261/261 [00:06<00:00, 38.64it/s]\n",
      "Training Epoch 297: 100%|██████████| 261/261 [00:06<00:00, 38.22it/s]\n",
      "Training Epoch 298: 100%|██████████| 261/261 [00:06<00:00, 38.72it/s]\n",
      "Training Epoch 299: 100%|██████████| 261/261 [00:07<00:00, 36.62it/s]\n",
      "Training Epoch 300: 100%|██████████| 261/261 [00:07<00:00, 37.27it/s]\n",
      "Training Epoch 301: 100%|██████████| 261/261 [00:07<00:00, 36.76it/s]\n"
     ]
    },
    {
     "name": "stdout",
     "output_type": "stream",
     "text": [
      "Epoch 300 - Train Loss: 0.1152, Train MSE: 0.1152, Train MAE: 0.2530\n",
      "Epoch 300 - Validation Loss: 1.7263, Validation MSE: 1.7280, Validation MAE: 0.9446\n"
     ]
    },
    {
     "name": "stderr",
     "output_type": "stream",
     "text": [
      "Training Epoch 302: 100%|██████████| 261/261 [00:06<00:00, 38.13it/s]\n",
      "Training Epoch 303: 100%|██████████| 261/261 [00:06<00:00, 38.06it/s]\n",
      "Training Epoch 304: 100%|██████████| 261/261 [00:06<00:00, 37.90it/s]\n",
      "Training Epoch 305: 100%|██████████| 261/261 [00:06<00:00, 37.85it/s]\n",
      "Training Epoch 306: 100%|██████████| 261/261 [00:06<00:00, 38.85it/s]\n",
      "Training Epoch 307: 100%|██████████| 261/261 [00:07<00:00, 35.52it/s]\n",
      "Training Epoch 308: 100%|██████████| 261/261 [00:06<00:00, 37.60it/s]\n",
      "Training Epoch 309: 100%|██████████| 261/261 [00:06<00:00, 38.71it/s]\n",
      "Training Epoch 310: 100%|██████████| 261/261 [00:06<00:00, 38.31it/s]\n",
      "Training Epoch 311: 100%|██████████| 261/261 [00:06<00:00, 37.88it/s]\n"
     ]
    },
    {
     "name": "stdout",
     "output_type": "stream",
     "text": [
      "Epoch 310 - Train Loss: 0.1139, Train MSE: 0.1138, Train MAE: 0.2478\n",
      "Epoch 310 - Validation Loss: 1.7246, Validation MSE: 1.7261, Validation MAE: 0.9479\n"
     ]
    },
    {
     "name": "stderr",
     "output_type": "stream",
     "text": [
      "Training Epoch 312: 100%|██████████| 261/261 [00:07<00:00, 37.14it/s]\n",
      "Training Epoch 313: 100%|██████████| 261/261 [00:06<00:00, 37.83it/s]\n",
      "Training Epoch 314: 100%|██████████| 261/261 [00:06<00:00, 38.34it/s]\n",
      "Training Epoch 315: 100%|██████████| 261/261 [00:06<00:00, 38.35it/s]\n",
      "Training Epoch 316: 100%|██████████| 261/261 [00:07<00:00, 36.59it/s]\n",
      "Training Epoch 317: 100%|██████████| 261/261 [00:07<00:00, 37.11it/s]\n",
      "Training Epoch 318: 100%|██████████| 261/261 [00:06<00:00, 38.19it/s]\n",
      "Training Epoch 319: 100%|██████████| 261/261 [00:07<00:00, 36.84it/s]\n",
      "Training Epoch 320: 100%|██████████| 261/261 [00:06<00:00, 37.70it/s]\n",
      "Training Epoch 321: 100%|██████████| 261/261 [00:06<00:00, 38.36it/s]\n"
     ]
    },
    {
     "name": "stdout",
     "output_type": "stream",
     "text": [
      "Epoch 320 - Train Loss: 0.1168, Train MSE: 0.1169, Train MAE: 0.2476\n",
      "Epoch 320 - Validation Loss: 1.7255, Validation MSE: 1.7271, Validation MAE: 0.9502\n"
     ]
    },
    {
     "name": "stderr",
     "output_type": "stream",
     "text": [
      "Training Epoch 322: 100%|██████████| 261/261 [00:06<00:00, 38.08it/s]\n",
      "Training Epoch 323: 100%|██████████| 261/261 [00:06<00:00, 38.09it/s]\n",
      "Training Epoch 324: 100%|██████████| 261/261 [00:06<00:00, 37.90it/s]\n",
      "Training Epoch 325: 100%|██████████| 261/261 [00:06<00:00, 38.21it/s]\n",
      "Training Epoch 326: 100%|██████████| 261/261 [00:07<00:00, 35.55it/s]\n",
      "Training Epoch 327: 100%|██████████| 261/261 [00:07<00:00, 36.21it/s]\n",
      "Training Epoch 328: 100%|██████████| 261/261 [00:06<00:00, 37.90it/s]\n",
      "Training Epoch 329: 100%|██████████| 261/261 [00:06<00:00, 39.17it/s]\n",
      "Training Epoch 330: 100%|██████████| 261/261 [00:07<00:00, 37.10it/s]\n",
      "Training Epoch 331: 100%|██████████| 261/261 [00:06<00:00, 39.56it/s]\n"
     ]
    },
    {
     "name": "stdout",
     "output_type": "stream",
     "text": [
      "Epoch 330 - Train Loss: 0.1117, Train MSE: 0.1117, Train MAE: 0.2433\n",
      "Epoch 330 - Validation Loss: 1.6745, Validation MSE: 1.6762, Validation MAE: 0.9243\n"
     ]
    },
    {
     "name": "stderr",
     "output_type": "stream",
     "text": [
      "Training Epoch 332: 100%|██████████| 261/261 [00:06<00:00, 38.53it/s]\n",
      "Training Epoch 333: 100%|██████████| 261/261 [00:06<00:00, 37.78it/s]\n",
      "Training Epoch 334: 100%|██████████| 261/261 [00:06<00:00, 38.89it/s]\n",
      "Training Epoch 335: 100%|██████████| 261/261 [00:06<00:00, 39.20it/s]\n",
      "Training Epoch 336: 100%|██████████| 261/261 [00:07<00:00, 35.46it/s]\n",
      "Training Epoch 337: 100%|██████████| 261/261 [00:06<00:00, 39.36it/s]\n",
      "Training Epoch 338: 100%|██████████| 261/261 [00:06<00:00, 40.48it/s]\n",
      "Training Epoch 339: 100%|██████████| 261/261 [00:06<00:00, 39.30it/s]\n",
      "Training Epoch 340: 100%|██████████| 261/261 [00:06<00:00, 39.74it/s]\n",
      "Training Epoch 341: 100%|██████████| 261/261 [00:06<00:00, 37.35it/s]\n"
     ]
    },
    {
     "name": "stdout",
     "output_type": "stream",
     "text": [
      "Epoch 340 - Train Loss: 0.1051, Train MSE: 0.1051, Train MAE: 0.2384\n",
      "Epoch 340 - Validation Loss: 1.6993, Validation MSE: 1.7009, Validation MAE: 0.9359\n"
     ]
    },
    {
     "name": "stderr",
     "output_type": "stream",
     "text": [
      "Training Epoch 342: 100%|██████████| 261/261 [00:06<00:00, 38.92it/s]\n",
      "Training Epoch 343: 100%|██████████| 261/261 [00:06<00:00, 39.59it/s]\n",
      "Training Epoch 344: 100%|██████████| 261/261 [00:06<00:00, 39.00it/s]\n",
      "Training Epoch 345: 100%|██████████| 261/261 [00:06<00:00, 38.83it/s]\n",
      "Training Epoch 346: 100%|██████████| 261/261 [00:06<00:00, 39.83it/s]\n",
      "Training Epoch 347: 100%|██████████| 261/261 [00:06<00:00, 39.31it/s]\n",
      "Training Epoch 348: 100%|██████████| 261/261 [00:06<00:00, 38.18it/s]\n",
      "Training Epoch 349: 100%|██████████| 261/261 [00:06<00:00, 37.56it/s]\n",
      "Training Epoch 350: 100%|██████████| 261/261 [00:06<00:00, 37.99it/s]\n",
      "Training Epoch 351: 100%|██████████| 261/261 [00:06<00:00, 39.35it/s]\n"
     ]
    },
    {
     "name": "stdout",
     "output_type": "stream",
     "text": [
      "Epoch 350 - Train Loss: 0.1108, Train MSE: 0.1108, Train MAE: 0.2408\n",
      "Epoch 350 - Validation Loss: 1.7239, Validation MSE: 1.7256, Validation MAE: 0.9444\n"
     ]
    },
    {
     "name": "stderr",
     "output_type": "stream",
     "text": [
      "Training Epoch 352: 100%|██████████| 261/261 [00:06<00:00, 39.40it/s]\n",
      "Training Epoch 353: 100%|██████████| 261/261 [00:06<00:00, 39.85it/s]\n",
      "Training Epoch 354: 100%|██████████| 261/261 [00:06<00:00, 39.30it/s]\n",
      "Training Epoch 355: 100%|██████████| 261/261 [00:06<00:00, 40.02it/s]\n",
      "Training Epoch 356: 100%|██████████| 261/261 [00:06<00:00, 38.40it/s]\n",
      "Training Epoch 357: 100%|██████████| 261/261 [00:06<00:00, 40.18it/s]\n",
      "Training Epoch 358: 100%|██████████| 261/261 [00:06<00:00, 38.60it/s]\n",
      "Training Epoch 359: 100%|██████████| 261/261 [00:06<00:00, 39.33it/s]\n",
      "Training Epoch 360: 100%|██████████| 261/261 [00:06<00:00, 39.28it/s]\n",
      "Training Epoch 361: 100%|██████████| 261/261 [00:06<00:00, 40.62it/s]\n"
     ]
    },
    {
     "name": "stdout",
     "output_type": "stream",
     "text": [
      "Epoch 360 - Train Loss: 0.1041, Train MSE: 0.1041, Train MAE: 0.2338\n",
      "Epoch 360 - Validation Loss: 1.7047, Validation MSE: 1.7061, Validation MAE: 0.9380\n"
     ]
    },
    {
     "name": "stderr",
     "output_type": "stream",
     "text": [
      "Training Epoch 362: 100%|██████████| 261/261 [00:06<00:00, 37.91it/s]\n",
      "Training Epoch 363: 100%|██████████| 261/261 [00:06<00:00, 39.21it/s]\n",
      "Training Epoch 364: 100%|██████████| 261/261 [00:07<00:00, 37.14it/s]\n",
      "Training Epoch 365: 100%|██████████| 261/261 [00:06<00:00, 39.42it/s]\n",
      "Training Epoch 366: 100%|██████████| 261/261 [00:06<00:00, 38.91it/s]\n",
      "Training Epoch 367: 100%|██████████| 261/261 [00:06<00:00, 38.17it/s]\n",
      "Training Epoch 368: 100%|██████████| 261/261 [00:06<00:00, 38.88it/s]\n",
      "Training Epoch 369: 100%|██████████| 261/261 [00:06<00:00, 38.92it/s]\n",
      "Training Epoch 370: 100%|██████████| 261/261 [00:06<00:00, 38.77it/s]\n",
      "Training Epoch 371: 100%|██████████| 261/261 [00:06<00:00, 38.48it/s]\n"
     ]
    },
    {
     "name": "stdout",
     "output_type": "stream",
     "text": [
      "Epoch 370 - Train Loss: 0.0966, Train MSE: 0.0966, Train MAE: 0.2263\n",
      "Epoch 370 - Validation Loss: 1.7205, Validation MSE: 1.7222, Validation MAE: 0.9422\n"
     ]
    },
    {
     "name": "stderr",
     "output_type": "stream",
     "text": [
      "Training Epoch 372: 100%|██████████| 261/261 [00:06<00:00, 39.44it/s]\n",
      "Training Epoch 373: 100%|██████████| 261/261 [00:06<00:00, 40.00it/s]\n",
      "Training Epoch 374: 100%|██████████| 261/261 [00:06<00:00, 40.83it/s]\n",
      "Training Epoch 375: 100%|██████████| 261/261 [00:06<00:00, 38.14it/s]\n",
      "Training Epoch 376: 100%|██████████| 261/261 [00:06<00:00, 40.18it/s]\n",
      "Training Epoch 377: 100%|██████████| 261/261 [00:06<00:00, 39.59it/s]\n",
      "Training Epoch 378: 100%|██████████| 261/261 [00:06<00:00, 38.26it/s]\n",
      "Training Epoch 379: 100%|██████████| 261/261 [00:06<00:00, 39.01it/s]\n",
      "Training Epoch 380: 100%|██████████| 261/261 [00:06<00:00, 38.96it/s]\n",
      "Training Epoch 381: 100%|██████████| 261/261 [00:06<00:00, 41.06it/s]\n"
     ]
    },
    {
     "name": "stdout",
     "output_type": "stream",
     "text": [
      "Epoch 380 - Train Loss: 0.1001, Train MSE: 0.1001, Train MAE: 0.2311\n",
      "Epoch 380 - Validation Loss: 1.6839, Validation MSE: 1.6854, Validation MAE: 0.9304\n"
     ]
    },
    {
     "name": "stderr",
     "output_type": "stream",
     "text": [
      "Training Epoch 382: 100%|██████████| 261/261 [00:06<00:00, 38.66it/s]\n",
      "Training Epoch 383: 100%|██████████| 261/261 [00:06<00:00, 38.67it/s]\n",
      "Training Epoch 384: 100%|██████████| 261/261 [00:06<00:00, 37.79it/s]\n",
      "Training Epoch 385: 100%|██████████| 261/261 [00:06<00:00, 38.42it/s]\n",
      "Training Epoch 386: 100%|██████████| 261/261 [00:06<00:00, 39.42it/s]\n",
      "Training Epoch 387: 100%|██████████| 261/261 [00:06<00:00, 38.08it/s]\n",
      "Training Epoch 388: 100%|██████████| 261/261 [00:06<00:00, 39.60it/s]\n",
      "Training Epoch 389: 100%|██████████| 261/261 [00:06<00:00, 38.51it/s]\n",
      "Training Epoch 390: 100%|██████████| 261/261 [00:06<00:00, 39.07it/s]\n",
      "Training Epoch 391: 100%|██████████| 261/261 [00:06<00:00, 39.21it/s]\n"
     ]
    },
    {
     "name": "stdout",
     "output_type": "stream",
     "text": [
      "Epoch 390 - Train Loss: 0.0937, Train MSE: 0.0937, Train MAE: 0.2208\n",
      "Epoch 390 - Validation Loss: 1.7013, Validation MSE: 1.7030, Validation MAE: 0.9330\n"
     ]
    },
    {
     "name": "stderr",
     "output_type": "stream",
     "text": [
      "Training Epoch 392: 100%|██████████| 261/261 [00:06<00:00, 39.20it/s]\n",
      "Training Epoch 393: 100%|██████████| 261/261 [00:06<00:00, 38.32it/s]\n",
      "Training Epoch 394: 100%|██████████| 261/261 [00:06<00:00, 37.89it/s]\n",
      "Training Epoch 395: 100%|██████████| 261/261 [00:06<00:00, 39.22it/s]\n",
      "Training Epoch 396: 100%|██████████| 261/261 [00:06<00:00, 38.83it/s]\n",
      "Training Epoch 397: 100%|██████████| 261/261 [00:06<00:00, 39.83it/s]\n",
      "Training Epoch 398: 100%|██████████| 261/261 [00:06<00:00, 39.66it/s]\n",
      "Training Epoch 399: 100%|██████████| 261/261 [00:06<00:00, 39.55it/s]\n",
      "Training Epoch 400: 100%|██████████| 261/261 [00:06<00:00, 38.82it/s]\n",
      "Training Epoch 401: 100%|██████████| 261/261 [00:06<00:00, 37.49it/s]\n"
     ]
    },
    {
     "name": "stdout",
     "output_type": "stream",
     "text": [
      "Epoch 400 - Train Loss: 0.0930, Train MSE: 0.0930, Train MAE: 0.2221\n",
      "Epoch 400 - Validation Loss: 1.7040, Validation MSE: 1.7059, Validation MAE: 0.9327\n"
     ]
    },
    {
     "name": "stderr",
     "output_type": "stream",
     "text": [
      "Training Epoch 402: 100%|██████████| 261/261 [00:06<00:00, 38.25it/s]\n",
      "Training Epoch 403: 100%|██████████| 261/261 [00:06<00:00, 39.03it/s]\n",
      "Training Epoch 404: 100%|██████████| 261/261 [00:06<00:00, 39.82it/s]\n",
      "Training Epoch 405: 100%|██████████| 261/261 [00:06<00:00, 40.57it/s]\n",
      "Training Epoch 406: 100%|██████████| 261/261 [00:06<00:00, 38.86it/s]\n",
      "Training Epoch 407: 100%|██████████| 261/261 [00:06<00:00, 39.15it/s]\n",
      "Training Epoch 408: 100%|██████████| 261/261 [00:06<00:00, 39.87it/s]\n",
      "Training Epoch 409: 100%|██████████| 261/261 [00:06<00:00, 39.86it/s]\n",
      "Training Epoch 410: 100%|██████████| 261/261 [00:06<00:00, 37.97it/s]\n",
      "Training Epoch 411: 100%|██████████| 261/261 [00:06<00:00, 38.69it/s]\n"
     ]
    },
    {
     "name": "stdout",
     "output_type": "stream",
     "text": [
      "Epoch 410 - Train Loss: 0.0931, Train MSE: 0.0931, Train MAE: 0.2195\n",
      "Epoch 410 - Validation Loss: 1.7433, Validation MSE: 1.7450, Validation MAE: 0.9453\n"
     ]
    },
    {
     "name": "stderr",
     "output_type": "stream",
     "text": [
      "Training Epoch 412: 100%|██████████| 261/261 [00:06<00:00, 38.56it/s]\n",
      "Training Epoch 413: 100%|██████████| 261/261 [00:06<00:00, 39.67it/s]\n",
      "Training Epoch 414: 100%|██████████| 261/261 [00:06<00:00, 38.69it/s]\n",
      "Training Epoch 415: 100%|██████████| 261/261 [00:06<00:00, 38.89it/s]\n",
      "Training Epoch 416: 100%|██████████| 261/261 [00:06<00:00, 38.98it/s]\n",
      "Training Epoch 417: 100%|██████████| 261/261 [00:06<00:00, 38.76it/s]\n",
      "Training Epoch 418: 100%|██████████| 261/261 [00:06<00:00, 37.76it/s]\n",
      "Training Epoch 419: 100%|██████████| 261/261 [00:06<00:00, 38.79it/s]\n",
      "Training Epoch 420: 100%|██████████| 261/261 [00:06<00:00, 38.21it/s]\n",
      "Training Epoch 421: 100%|██████████| 261/261 [00:06<00:00, 39.38it/s]\n"
     ]
    },
    {
     "name": "stdout",
     "output_type": "stream",
     "text": [
      "Epoch 420 - Train Loss: 0.0875, Train MSE: 0.0875, Train MAE: 0.2145\n",
      "Epoch 420 - Validation Loss: 1.7043, Validation MSE: 1.7061, Validation MAE: 0.9375\n"
     ]
    },
    {
     "name": "stderr",
     "output_type": "stream",
     "text": [
      "Training Epoch 422: 100%|██████████| 261/261 [00:06<00:00, 37.31it/s]\n",
      "Training Epoch 423: 100%|██████████| 261/261 [00:06<00:00, 39.55it/s]\n",
      "Training Epoch 424: 100%|██████████| 261/261 [00:07<00:00, 36.36it/s]\n",
      "Training Epoch 425: 100%|██████████| 261/261 [00:07<00:00, 36.86it/s]\n",
      "Training Epoch 426: 100%|██████████| 261/261 [00:07<00:00, 35.30it/s]\n",
      "Training Epoch 427: 100%|██████████| 261/261 [00:07<00:00, 33.65it/s]\n",
      "Training Epoch 428: 100%|██████████| 261/261 [00:07<00:00, 36.44it/s]\n",
      "Training Epoch 429: 100%|██████████| 261/261 [00:07<00:00, 37.25it/s]\n",
      "Training Epoch 430: 100%|██████████| 261/261 [00:08<00:00, 29.97it/s]\n",
      "Training Epoch 431: 100%|██████████| 261/261 [00:09<00:00, 27.70it/s]\n"
     ]
    },
    {
     "name": "stdout",
     "output_type": "stream",
     "text": [
      "Epoch 430 - Train Loss: 0.0904, Train MSE: 0.0904, Train MAE: 0.2191\n",
      "Epoch 430 - Validation Loss: 1.7337, Validation MSE: 1.7356, Validation MAE: 0.9426\n"
     ]
    },
    {
     "name": "stderr",
     "output_type": "stream",
     "text": [
      "Training Epoch 432: 100%|██████████| 261/261 [00:07<00:00, 36.66it/s]\n",
      "Training Epoch 433: 100%|██████████| 261/261 [00:07<00:00, 37.22it/s]\n",
      "Training Epoch 434: 100%|██████████| 261/261 [00:07<00:00, 33.96it/s]\n",
      "Training Epoch 435: 100%|██████████| 261/261 [00:06<00:00, 38.72it/s]\n",
      "Training Epoch 436: 100%|██████████| 261/261 [00:06<00:00, 37.55it/s]\n",
      "Training Epoch 437: 100%|██████████| 261/261 [00:06<00:00, 37.78it/s]\n",
      "Training Epoch 438: 100%|██████████| 261/261 [00:07<00:00, 34.86it/s]\n",
      "Training Epoch 439: 100%|██████████| 261/261 [00:06<00:00, 38.51it/s]\n",
      "Training Epoch 440: 100%|██████████| 261/261 [00:06<00:00, 38.02it/s]\n",
      "Training Epoch 441: 100%|██████████| 261/261 [00:07<00:00, 36.99it/s]\n"
     ]
    },
    {
     "name": "stdout",
     "output_type": "stream",
     "text": [
      "Epoch 440 - Train Loss: 0.0861, Train MSE: 0.0861, Train MAE: 0.2113\n",
      "Epoch 440 - Validation Loss: 1.7317, Validation MSE: 1.7334, Validation MAE: 0.9452\n"
     ]
    },
    {
     "name": "stderr",
     "output_type": "stream",
     "text": [
      "Training Epoch 442: 100%|██████████| 261/261 [00:07<00:00, 34.48it/s]\n",
      "Training Epoch 443: 100%|██████████| 261/261 [00:07<00:00, 37.27it/s]\n",
      "Training Epoch 444: 100%|██████████| 261/261 [00:07<00:00, 35.76it/s]\n",
      "Training Epoch 445: 100%|██████████| 261/261 [00:06<00:00, 37.94it/s]\n",
      "Training Epoch 446: 100%|██████████| 261/261 [00:07<00:00, 36.97it/s]\n",
      "Training Epoch 447: 100%|██████████| 261/261 [00:07<00:00, 37.07it/s]\n",
      "Training Epoch 448: 100%|██████████| 261/261 [00:06<00:00, 38.85it/s]\n",
      "Training Epoch 449: 100%|██████████| 261/261 [00:06<00:00, 37.78it/s]\n",
      "Training Epoch 450: 100%|██████████| 261/261 [00:07<00:00, 33.72it/s]\n",
      "Training Epoch 451: 100%|██████████| 261/261 [00:06<00:00, 37.59it/s]\n"
     ]
    },
    {
     "name": "stdout",
     "output_type": "stream",
     "text": [
      "Epoch 450 - Train Loss: 0.0960, Train MSE: 0.0960, Train MAE: 0.2196\n",
      "Epoch 450 - Validation Loss: 1.7092, Validation MSE: 1.7110, Validation MAE: 0.9333\n"
     ]
    },
    {
     "name": "stderr",
     "output_type": "stream",
     "text": [
      "Training Epoch 452: 100%|██████████| 261/261 [00:07<00:00, 34.73it/s]\n",
      "Training Epoch 453: 100%|██████████| 261/261 [00:07<00:00, 34.44it/s]\n",
      "Training Epoch 454: 100%|██████████| 261/261 [00:07<00:00, 36.32it/s]\n",
      "Training Epoch 455: 100%|██████████| 261/261 [00:07<00:00, 35.27it/s]\n",
      "Training Epoch 456: 100%|██████████| 261/261 [00:07<00:00, 36.51it/s]\n",
      "Training Epoch 457: 100%|██████████| 261/261 [00:06<00:00, 38.23it/s]\n",
      "Training Epoch 458: 100%|██████████| 261/261 [00:08<00:00, 32.45it/s]\n",
      "Training Epoch 459: 100%|██████████| 261/261 [00:07<00:00, 33.33it/s]\n",
      "Training Epoch 460: 100%|██████████| 261/261 [00:07<00:00, 36.75it/s]\n",
      "Training Epoch 461: 100%|██████████| 261/261 [00:06<00:00, 38.08it/s]\n"
     ]
    },
    {
     "name": "stdout",
     "output_type": "stream",
     "text": [
      "Epoch 460 - Train Loss: 0.0839, Train MSE: 0.0839, Train MAE: 0.2114\n",
      "Epoch 460 - Validation Loss: 1.7078, Validation MSE: 1.7097, Validation MAE: 0.9310\n"
     ]
    },
    {
     "name": "stderr",
     "output_type": "stream",
     "text": [
      "Training Epoch 462: 100%|██████████| 261/261 [00:07<00:00, 34.20it/s]\n",
      "Training Epoch 463: 100%|██████████| 261/261 [00:07<00:00, 35.69it/s]\n",
      "Training Epoch 464: 100%|██████████| 261/261 [00:07<00:00, 35.73it/s]\n",
      "Training Epoch 465: 100%|██████████| 261/261 [00:06<00:00, 39.56it/s]\n",
      "Training Epoch 466: 100%|██████████| 261/261 [00:07<00:00, 33.80it/s]\n",
      "Training Epoch 467: 100%|██████████| 261/261 [00:07<00:00, 36.07it/s]\n",
      "Training Epoch 468: 100%|██████████| 261/261 [00:07<00:00, 36.31it/s]\n",
      "Training Epoch 469: 100%|██████████| 261/261 [00:07<00:00, 35.48it/s]\n",
      "Training Epoch 470: 100%|██████████| 261/261 [00:07<00:00, 33.59it/s]\n",
      "Training Epoch 471: 100%|██████████| 261/261 [00:07<00:00, 37.27it/s]\n"
     ]
    },
    {
     "name": "stdout",
     "output_type": "stream",
     "text": [
      "Epoch 470 - Train Loss: 0.0829, Train MSE: 0.0829, Train MAE: 0.2072\n",
      "Epoch 470 - Validation Loss: 1.7217, Validation MSE: 1.7235, Validation MAE: 0.9359\n"
     ]
    },
    {
     "name": "stderr",
     "output_type": "stream",
     "text": [
      "Training Epoch 472: 100%|██████████| 261/261 [00:06<00:00, 37.99it/s]\n",
      "Training Epoch 473: 100%|██████████| 261/261 [00:06<00:00, 38.38it/s]\n",
      "Training Epoch 474: 100%|██████████| 261/261 [00:07<00:00, 33.53it/s]\n",
      "Training Epoch 475: 100%|██████████| 261/261 [00:06<00:00, 38.99it/s]\n",
      "Training Epoch 476: 100%|██████████| 261/261 [00:06<00:00, 38.96it/s]\n",
      "Training Epoch 477: 100%|██████████| 261/261 [00:06<00:00, 38.67it/s]\n",
      "Training Epoch 478: 100%|██████████| 261/261 [00:07<00:00, 36.02it/s]\n",
      "Training Epoch 479: 100%|██████████| 261/261 [00:06<00:00, 37.65it/s]\n",
      "Training Epoch 480: 100%|██████████| 261/261 [00:06<00:00, 38.28it/s]\n",
      "Training Epoch 481: 100%|██████████| 261/261 [00:07<00:00, 37.12it/s]\n"
     ]
    },
    {
     "name": "stdout",
     "output_type": "stream",
     "text": [
      "Epoch 480 - Train Loss: 0.0889, Train MSE: 0.0889, Train MAE: 0.2130\n",
      "Epoch 480 - Validation Loss: 1.7067, Validation MSE: 1.7085, Validation MAE: 0.9329\n"
     ]
    },
    {
     "name": "stderr",
     "output_type": "stream",
     "text": [
      "Training Epoch 482: 100%|██████████| 261/261 [00:07<00:00, 35.38it/s]\n",
      "Training Epoch 483: 100%|██████████| 261/261 [00:06<00:00, 38.47it/s]\n",
      "Training Epoch 484: 100%|██████████| 261/261 [00:06<00:00, 38.91it/s]\n",
      "Training Epoch 485: 100%|██████████| 261/261 [00:06<00:00, 37.76it/s]\n",
      "Training Epoch 486: 100%|██████████| 261/261 [00:06<00:00, 37.44it/s]\n",
      "Training Epoch 487: 100%|██████████| 261/261 [00:06<00:00, 37.86it/s]\n",
      "Training Epoch 488: 100%|██████████| 261/261 [00:07<00:00, 36.91it/s]\n",
      "Training Epoch 489: 100%|██████████| 261/261 [00:06<00:00, 38.00it/s]\n",
      "Training Epoch 490: 100%|██████████| 261/261 [00:07<00:00, 35.29it/s]\n",
      "Training Epoch 491: 100%|██████████| 261/261 [00:06<00:00, 38.87it/s]\n"
     ]
    },
    {
     "name": "stdout",
     "output_type": "stream",
     "text": [
      "Epoch 490 - Train Loss: 0.0809, Train MSE: 0.0809, Train MAE: 0.2046\n",
      "Epoch 490 - Validation Loss: 1.7030, Validation MSE: 1.7046, Validation MAE: 0.9314\n"
     ]
    },
    {
     "name": "stderr",
     "output_type": "stream",
     "text": [
      "Training Epoch 492: 100%|██████████| 261/261 [00:07<00:00, 36.35it/s]\n",
      "Training Epoch 493: 100%|██████████| 261/261 [00:06<00:00, 38.71it/s]\n",
      "Training Epoch 494: 100%|██████████| 261/261 [00:06<00:00, 38.70it/s]\n",
      "Training Epoch 495: 100%|██████████| 261/261 [00:06<00:00, 37.53it/s]\n",
      "Training Epoch 496: 100%|██████████| 261/261 [00:06<00:00, 38.41it/s]\n",
      "Training Epoch 497: 100%|██████████| 261/261 [00:06<00:00, 39.04it/s]\n",
      "Training Epoch 498: 100%|██████████| 261/261 [00:07<00:00, 35.92it/s]\n",
      "Training Epoch 499: 100%|██████████| 261/261 [00:07<00:00, 36.91it/s]\n",
      "Training Epoch 500: 100%|██████████| 261/261 [00:06<00:00, 37.84it/s]\n",
      "Training Epoch 501: 100%|██████████| 261/261 [00:06<00:00, 38.67it/s]\n"
     ]
    },
    {
     "name": "stdout",
     "output_type": "stream",
     "text": [
      "Epoch 500 - Train Loss: 0.0837, Train MSE: 0.0837, Train MAE: 0.2085\n",
      "Epoch 500 - Validation Loss: 1.7063, Validation MSE: 1.7077, Validation MAE: 0.9371\n"
     ]
    },
    {
     "name": "stderr",
     "output_type": "stream",
     "text": [
      "Training Epoch 502: 100%|██████████| 261/261 [00:06<00:00, 37.80it/s]\n",
      "Training Epoch 503: 100%|██████████| 261/261 [00:07<00:00, 36.39it/s]\n",
      "Training Epoch 504: 100%|██████████| 261/261 [00:06<00:00, 38.96it/s]\n",
      "Training Epoch 505: 100%|██████████| 261/261 [00:06<00:00, 37.95it/s]\n",
      "Training Epoch 506: 100%|██████████| 261/261 [00:07<00:00, 37.01it/s]\n",
      "Training Epoch 507: 100%|██████████| 261/261 [00:07<00:00, 33.93it/s]\n",
      "Training Epoch 508: 100%|██████████| 261/261 [00:07<00:00, 34.10it/s]\n",
      "Training Epoch 509: 100%|██████████| 261/261 [00:06<00:00, 37.44it/s]\n",
      "Training Epoch 510: 100%|██████████| 261/261 [00:06<00:00, 37.52it/s]\n",
      "Training Epoch 511: 100%|██████████| 261/261 [00:06<00:00, 37.71it/s]\n"
     ]
    },
    {
     "name": "stdout",
     "output_type": "stream",
     "text": [
      "Epoch 510 - Train Loss: 0.0782, Train MSE: 0.0782, Train MAE: 0.2007\n",
      "Epoch 510 - Validation Loss: 1.6706, Validation MSE: 1.6720, Validation MAE: 0.9189\n"
     ]
    },
    {
     "name": "stderr",
     "output_type": "stream",
     "text": [
      "Training Epoch 512: 100%|██████████| 261/261 [00:06<00:00, 37.32it/s]\n",
      "Training Epoch 513: 100%|██████████| 261/261 [00:06<00:00, 38.11it/s]\n",
      "Training Epoch 514: 100%|██████████| 261/261 [00:06<00:00, 38.30it/s]\n",
      "Training Epoch 515: 100%|██████████| 261/261 [00:07<00:00, 33.08it/s]\n",
      "Training Epoch 516: 100%|██████████| 261/261 [00:07<00:00, 37.02it/s]\n",
      "Training Epoch 517: 100%|██████████| 261/261 [00:06<00:00, 37.45it/s]\n",
      "Training Epoch 518: 100%|██████████| 261/261 [00:07<00:00, 35.29it/s]\n",
      "Training Epoch 519: 100%|██████████| 261/261 [00:06<00:00, 37.82it/s]\n",
      "Training Epoch 520: 100%|██████████| 261/261 [00:06<00:00, 38.11it/s]\n",
      "Training Epoch 521: 100%|██████████| 261/261 [00:07<00:00, 37.01it/s]\n"
     ]
    },
    {
     "name": "stdout",
     "output_type": "stream",
     "text": [
      "Epoch 520 - Train Loss: 0.0803, Train MSE: 0.0803, Train MAE: 0.2042\n",
      "Epoch 520 - Validation Loss: 1.6973, Validation MSE: 1.6989, Validation MAE: 0.9315\n"
     ]
    },
    {
     "name": "stderr",
     "output_type": "stream",
     "text": [
      "Training Epoch 522: 100%|██████████| 261/261 [00:06<00:00, 37.84it/s]\n",
      "Training Epoch 523: 100%|██████████| 261/261 [00:07<00:00, 35.98it/s]\n",
      "Training Epoch 524: 100%|██████████| 261/261 [00:06<00:00, 37.40it/s]\n",
      "Training Epoch 525: 100%|██████████| 261/261 [00:07<00:00, 36.38it/s]\n",
      "Training Epoch 526: 100%|██████████| 261/261 [00:06<00:00, 37.96it/s]\n",
      "Training Epoch 527: 100%|██████████| 261/261 [00:07<00:00, 34.86it/s]\n",
      "Training Epoch 528: 100%|██████████| 261/261 [00:08<00:00, 30.76it/s]\n",
      "Training Epoch 529: 100%|██████████| 261/261 [00:11<00:00, 22.62it/s]\n",
      "Training Epoch 530: 100%|██████████| 261/261 [00:07<00:00, 36.81it/s]\n",
      "Training Epoch 531: 100%|██████████| 261/261 [00:06<00:00, 38.02it/s]\n"
     ]
    },
    {
     "name": "stdout",
     "output_type": "stream",
     "text": [
      "Epoch 530 - Train Loss: 0.0791, Train MSE: 0.0791, Train MAE: 0.2011\n",
      "Epoch 530 - Validation Loss: 1.7166, Validation MSE: 1.7185, Validation MAE: 0.9340\n"
     ]
    },
    {
     "name": "stderr",
     "output_type": "stream",
     "text": [
      "Training Epoch 532: 100%|██████████| 261/261 [00:06<00:00, 39.38it/s]\n",
      "Training Epoch 533: 100%|██████████| 261/261 [00:06<00:00, 37.47it/s]\n",
      "Training Epoch 534: 100%|██████████| 261/261 [00:14<00:00, 17.57it/s]\n",
      "Training Epoch 535: 100%|██████████| 261/261 [00:11<00:00, 22.58it/s]\n",
      "Training Epoch 536: 100%|██████████| 261/261 [00:06<00:00, 38.09it/s]\n",
      "Training Epoch 537: 100%|██████████| 261/261 [00:06<00:00, 39.46it/s]\n",
      "Training Epoch 538: 100%|██████████| 261/261 [00:06<00:00, 38.29it/s]\n",
      "Training Epoch 539: 100%|██████████| 261/261 [00:06<00:00, 37.86it/s]\n",
      "Training Epoch 540: 100%|██████████| 261/261 [00:15<00:00, 16.44it/s]\n",
      "Training Epoch 541: 100%|██████████| 261/261 [00:06<00:00, 38.68it/s]\n"
     ]
    },
    {
     "name": "stdout",
     "output_type": "stream",
     "text": [
      "Epoch 540 - Train Loss: 0.0778, Train MSE: 0.0778, Train MAE: 0.2005\n",
      "Epoch 540 - Validation Loss: 1.7093, Validation MSE: 1.7110, Validation MAE: 0.9349\n"
     ]
    },
    {
     "name": "stderr",
     "output_type": "stream",
     "text": [
      "Training Epoch 542: 100%|██████████| 261/261 [00:06<00:00, 38.62it/s]\n",
      "Training Epoch 543: 100%|██████████| 261/261 [00:07<00:00, 35.87it/s]\n",
      "Training Epoch 544: 100%|██████████| 261/261 [00:06<00:00, 37.57it/s]\n",
      "Training Epoch 545: 100%|██████████| 261/261 [00:19<00:00, 13.32it/s]\n",
      "Training Epoch 546: 100%|██████████| 261/261 [00:11<00:00, 21.79it/s]\n",
      "Training Epoch 547: 100%|██████████| 261/261 [00:06<00:00, 37.87it/s]\n",
      "Training Epoch 548: 100%|██████████| 261/261 [00:06<00:00, 37.44it/s]\n",
      "Training Epoch 549: 100%|██████████| 261/261 [00:06<00:00, 37.32it/s]\n",
      "Training Epoch 550: 100%|██████████| 261/261 [00:07<00:00, 37.17it/s]\n",
      "Training Epoch 551: 100%|██████████| 261/261 [00:20<00:00, 12.74it/s]\n"
     ]
    },
    {
     "name": "stdout",
     "output_type": "stream",
     "text": [
      "Epoch 550 - Train Loss: 0.0732, Train MSE: 0.0732, Train MAE: 0.1940\n",
      "Epoch 550 - Validation Loss: 1.6747, Validation MSE: 1.6765, Validation MAE: 0.9230\n"
     ]
    },
    {
     "name": "stderr",
     "output_type": "stream",
     "text": [
      "Training Epoch 552: 100%|██████████| 261/261 [00:11<00:00, 22.53it/s]\n",
      "Training Epoch 553: 100%|██████████| 261/261 [00:06<00:00, 37.47it/s]\n",
      "Training Epoch 554: 100%|██████████| 261/261 [00:07<00:00, 34.83it/s]\n",
      "Training Epoch 555: 100%|██████████| 261/261 [00:06<00:00, 39.23it/s]\n",
      "Training Epoch 556: 100%|██████████| 261/261 [00:06<00:00, 39.91it/s]\n",
      "Training Epoch 557: 100%|██████████| 261/261 [00:20<00:00, 12.98it/s]\n",
      "Training Epoch 558: 100%|██████████| 261/261 [00:11<00:00, 21.96it/s]\n",
      "Training Epoch 559: 100%|██████████| 261/261 [00:06<00:00, 38.62it/s]\n",
      "Training Epoch 560: 100%|██████████| 261/261 [00:07<00:00, 36.76it/s]\n",
      "Training Epoch 561: 100%|██████████| 261/261 [00:07<00:00, 37.04it/s]\n"
     ]
    },
    {
     "name": "stdout",
     "output_type": "stream",
     "text": [
      "Epoch 560 - Train Loss: 0.0730, Train MSE: 0.0730, Train MAE: 0.1946\n",
      "Epoch 560 - Validation Loss: 1.6842, Validation MSE: 1.6859, Validation MAE: 0.9268\n"
     ]
    },
    {
     "name": "stderr",
     "output_type": "stream",
     "text": [
      "Training Epoch 562: 100%|██████████| 261/261 [00:06<00:00, 37.71it/s]\n",
      "Training Epoch 563: 100%|██████████| 261/261 [00:19<00:00, 13.36it/s]\n",
      "Training Epoch 564: 100%|██████████| 261/261 [00:11<00:00, 22.87it/s]\n",
      "Training Epoch 565: 100%|██████████| 261/261 [00:06<00:00, 37.82it/s]\n",
      "Training Epoch 566: 100%|██████████| 261/261 [00:06<00:00, 37.96it/s]\n",
      "Training Epoch 567: 100%|██████████| 261/261 [00:07<00:00, 37.20it/s]\n",
      "Training Epoch 568: 100%|██████████| 261/261 [00:07<00:00, 35.41it/s]\n",
      "Training Epoch 569: 100%|██████████| 261/261 [00:26<00:00, 10.00it/s]\n",
      "Training Epoch 570: 100%|██████████| 261/261 [00:06<00:00, 38.87it/s]\n",
      "Training Epoch 571: 100%|██████████| 261/261 [00:26<00:00,  9.99it/s]\n"
     ]
    },
    {
     "name": "stdout",
     "output_type": "stream",
     "text": [
      "Epoch 570 - Train Loss: 0.0715, Train MSE: 0.0714, Train MAE: 0.1928\n",
      "Epoch 570 - Validation Loss: 1.7176, Validation MSE: 1.7193, Validation MAE: 0.9331\n"
     ]
    },
    {
     "name": "stderr",
     "output_type": "stream",
     "text": [
      "Training Epoch 572: 100%|██████████| 261/261 [15:35<00:00,  3.58s/it]   \n",
      "Training Epoch 573: 100%|██████████| 261/261 [00:11<00:00, 22.68it/s]\n",
      "Training Epoch 574: 100%|██████████| 261/261 [00:10<00:00, 24.12it/s]\n",
      "Training Epoch 575: 100%|██████████| 261/261 [00:11<00:00, 22.57it/s]\n",
      "Training Epoch 576: 100%|██████████| 261/261 [00:10<00:00, 23.77it/s]\n",
      "Training Epoch 577: 100%|██████████| 261/261 [00:10<00:00, 24.55it/s]\n",
      "Training Epoch 578: 100%|██████████| 261/261 [00:10<00:00, 24.85it/s]\n",
      "Training Epoch 579: 100%|██████████| 261/261 [00:10<00:00, 25.55it/s]\n",
      "Training Epoch 580: 100%|██████████| 261/261 [00:10<00:00, 24.95it/s]\n",
      "Training Epoch 581: 100%|██████████| 261/261 [00:10<00:00, 24.64it/s]\n"
     ]
    },
    {
     "name": "stdout",
     "output_type": "stream",
     "text": [
      "Epoch 580 - Train Loss: 0.0920, Train MSE: 0.0920, Train MAE: 0.2115\n",
      "Epoch 580 - Validation Loss: 1.6599, Validation MSE: 1.6614, Validation MAE: 0.9236\n"
     ]
    },
    {
     "name": "stderr",
     "output_type": "stream",
     "text": [
      "Training Epoch 582: 100%|██████████| 261/261 [00:10<00:00, 24.49it/s]\n",
      "Training Epoch 583: 100%|██████████| 261/261 [00:10<00:00, 25.86it/s]\n",
      "Training Epoch 584: 100%|██████████| 261/261 [00:10<00:00, 23.77it/s]\n",
      "Training Epoch 585: 100%|██████████| 261/261 [00:10<00:00, 24.64it/s]\n",
      "Training Epoch 586: 100%|██████████| 261/261 [00:10<00:00, 24.77it/s]\n",
      "Training Epoch 587: 100%|██████████| 261/261 [00:10<00:00, 24.01it/s]\n",
      "Training Epoch 588: 100%|██████████| 261/261 [00:10<00:00, 24.71it/s]\n",
      "Training Epoch 589: 100%|██████████| 261/261 [00:10<00:00, 25.02it/s]\n",
      "Training Epoch 590: 100%|██████████| 261/261 [00:10<00:00, 23.94it/s]\n",
      "Training Epoch 591: 100%|██████████| 261/261 [00:10<00:00, 24.11it/s]\n"
     ]
    },
    {
     "name": "stdout",
     "output_type": "stream",
     "text": [
      "Epoch 590 - Train Loss: 0.0760, Train MSE: 0.0760, Train MAE: 0.1948\n",
      "Epoch 590 - Validation Loss: 1.7130, Validation MSE: 1.7148, Validation MAE: 0.9282\n"
     ]
    },
    {
     "name": "stderr",
     "output_type": "stream",
     "text": [
      "Training Epoch 592: 100%|██████████| 261/261 [00:11<00:00, 22.84it/s]\n",
      "Training Epoch 593: 100%|██████████| 261/261 [00:10<00:00, 24.26it/s]\n",
      "Training Epoch 594: 100%|██████████| 261/261 [00:11<00:00, 23.69it/s]\n",
      "Training Epoch 595: 100%|██████████| 261/261 [00:34<00:00,  7.60it/s]\n",
      "Training Epoch 596: 100%|██████████| 261/261 [00:34<00:00,  7.59it/s]\n",
      "Training Epoch 597: 100%|██████████| 261/261 [00:35<00:00,  7.29it/s]\n",
      "Training Epoch 598: 100%|██████████| 261/261 [00:33<00:00,  7.72it/s]\n",
      "Training Epoch 599: 100%|██████████| 261/261 [00:34<00:00,  7.50it/s]\n",
      "Training Epoch 600: 100%|██████████| 261/261 [00:35<00:00,  7.32it/s]\n",
      "Training Epoch 601: 100%|██████████| 261/261 [00:34<00:00,  7.50it/s]\n"
     ]
    },
    {
     "name": "stdout",
     "output_type": "stream",
     "text": [
      "Epoch 600 - Train Loss: 0.0719, Train MSE: 0.0719, Train MAE: 0.1922\n",
      "Epoch 600 - Validation Loss: 1.6965, Validation MSE: 1.6982, Validation MAE: 0.9262\n"
     ]
    },
    {
     "name": "stderr",
     "output_type": "stream",
     "text": [
      "Training Epoch 602: 100%|██████████| 261/261 [00:35<00:00,  7.42it/s]\n",
      "Training Epoch 603: 100%|██████████| 261/261 [00:34<00:00,  7.55it/s]\n",
      "Training Epoch 604: 100%|██████████| 261/261 [00:34<00:00,  7.50it/s]\n",
      "Training Epoch 605: 100%|██████████| 261/261 [16:39<00:00,  3.83s/it]   \n",
      "Training Epoch 606: 100%|██████████| 261/261 [00:13<00:00, 20.07it/s]\n",
      "Training Epoch 607: 100%|██████████| 261/261 [00:10<00:00, 25.34it/s]\n",
      "Training Epoch 608: 100%|██████████| 261/261 [00:10<00:00, 24.98it/s]\n",
      "Training Epoch 609: 100%|██████████| 261/261 [00:10<00:00, 23.92it/s]\n",
      "Training Epoch 610: 100%|██████████| 261/261 [00:10<00:00, 24.95it/s]\n",
      "Training Epoch 611: 100%|██████████| 261/261 [00:10<00:00, 25.16it/s]\n"
     ]
    },
    {
     "name": "stdout",
     "output_type": "stream",
     "text": [
      "Epoch 610 - Train Loss: 0.0698, Train MSE: 0.0698, Train MAE: 0.1872\n",
      "Epoch 610 - Validation Loss: 1.6938, Validation MSE: 1.6956, Validation MAE: 0.9232\n"
     ]
    },
    {
     "name": "stderr",
     "output_type": "stream",
     "text": [
      "Training Epoch 612: 100%|██████████| 261/261 [00:10<00:00, 25.16it/s]\n",
      "Training Epoch 613: 100%|██████████| 261/261 [00:10<00:00, 24.74it/s]\n",
      "Training Epoch 614: 100%|██████████| 261/261 [00:10<00:00, 25.28it/s]\n",
      "Training Epoch 615: 100%|██████████| 261/261 [00:10<00:00, 24.12it/s]\n",
      "Training Epoch 616: 100%|██████████| 261/261 [00:10<00:00, 24.33it/s]\n",
      "Training Epoch 617: 100%|██████████| 261/261 [00:10<00:00, 25.03it/s]\n",
      "Training Epoch 618: 100%|██████████| 261/261 [00:10<00:00, 24.80it/s]\n",
      "Training Epoch 619: 100%|██████████| 261/261 [00:10<00:00, 24.77it/s]\n",
      "Training Epoch 620: 100%|██████████| 261/261 [00:10<00:00, 24.23it/s]\n",
      "Training Epoch 621: 100%|██████████| 261/261 [00:10<00:00, 23.97it/s]\n"
     ]
    },
    {
     "name": "stdout",
     "output_type": "stream",
     "text": [
      "Epoch 620 - Train Loss: 0.0731, Train MSE: 0.0731, Train MAE: 0.1917\n",
      "Epoch 620 - Validation Loss: 1.6965, Validation MSE: 1.6980, Validation MAE: 0.9304\n"
     ]
    },
    {
     "name": "stderr",
     "output_type": "stream",
     "text": [
      "Training Epoch 622: 100%|██████████| 261/261 [00:10<00:00, 24.56it/s]\n",
      "Training Epoch 623: 100%|██████████| 261/261 [00:10<00:00, 25.07it/s]\n",
      "Training Epoch 624: 100%|██████████| 261/261 [00:10<00:00, 24.90it/s]\n",
      "Training Epoch 625: 100%|██████████| 261/261 [00:10<00:00, 24.79it/s]\n",
      "Training Epoch 626: 100%|██████████| 261/261 [00:10<00:00, 24.54it/s]\n",
      "Training Epoch 627: 100%|██████████| 261/261 [00:10<00:00, 23.84it/s]\n",
      "Training Epoch 628: 100%|██████████| 261/261 [00:10<00:00, 24.59it/s]\n",
      "Training Epoch 629: 100%|██████████| 261/261 [00:10<00:00, 24.59it/s]\n",
      "Training Epoch 630: 100%|██████████| 261/261 [00:10<00:00, 24.70it/s]\n",
      "Training Epoch 631: 100%|██████████| 261/261 [00:10<00:00, 24.18it/s]\n"
     ]
    },
    {
     "name": "stdout",
     "output_type": "stream",
     "text": [
      "Epoch 630 - Train Loss: 0.0666, Train MSE: 0.0666, Train MAE: 0.1829\n",
      "Epoch 630 - Validation Loss: 1.6951, Validation MSE: 1.6967, Validation MAE: 0.9296\n"
     ]
    },
    {
     "name": "stderr",
     "output_type": "stream",
     "text": [
      "Training Epoch 632: 100%|██████████| 261/261 [00:10<00:00, 24.07it/s]\n",
      "Training Epoch 633: 100%|██████████| 261/261 [00:10<00:00, 24.83it/s]\n",
      "Training Epoch 634: 100%|██████████| 261/261 [00:10<00:00, 24.45it/s]\n",
      "Training Epoch 635: 100%|██████████| 261/261 [00:10<00:00, 24.89it/s]\n",
      "Training Epoch 636: 100%|██████████| 261/261 [00:10<00:00, 24.33it/s]\n",
      "Training Epoch 637: 100%|██████████| 261/261 [00:10<00:00, 23.77it/s]\n",
      "Training Epoch 638: 100%|██████████| 261/261 [00:10<00:00, 24.12it/s]\n",
      "Training Epoch 639: 100%|██████████| 261/261 [00:10<00:00, 24.70it/s]\n",
      "Training Epoch 640: 100%|██████████| 261/261 [00:10<00:00, 24.08it/s]\n",
      "Training Epoch 641: 100%|██████████| 261/261 [00:10<00:00, 24.06it/s]\n"
     ]
    },
    {
     "name": "stdout",
     "output_type": "stream",
     "text": [
      "Epoch 640 - Train Loss: 0.0683, Train MSE: 0.0683, Train MAE: 0.1860\n",
      "Epoch 640 - Validation Loss: 1.6850, Validation MSE: 1.6868, Validation MAE: 0.9211\n"
     ]
    },
    {
     "name": "stderr",
     "output_type": "stream",
     "text": [
      "Training Epoch 642: 100%|██████████| 261/261 [00:11<00:00, 22.83it/s]\n",
      "Training Epoch 643: 100%|██████████| 261/261 [00:10<00:00, 23.94it/s]\n",
      "Training Epoch 644: 100%|██████████| 261/261 [00:10<00:00, 24.03it/s]\n",
      "Training Epoch 645: 100%|██████████| 261/261 [00:10<00:00, 24.30it/s]\n",
      "Training Epoch 646: 100%|██████████| 261/261 [00:10<00:00, 24.39it/s]\n",
      "Training Epoch 647: 100%|██████████| 261/261 [00:10<00:00, 24.00it/s]\n",
      "Training Epoch 648: 100%|██████████| 261/261 [00:27<00:00,  9.58it/s]\n",
      "Training Epoch 649: 100%|██████████| 261/261 [00:34<00:00,  7.49it/s]\n",
      "Training Epoch 650: 100%|██████████| 261/261 [00:32<00:00,  8.02it/s]\n",
      "Training Epoch 651: 100%|██████████| 261/261 [00:11<00:00, 23.64it/s]\n"
     ]
    },
    {
     "name": "stdout",
     "output_type": "stream",
     "text": [
      "Epoch 650 - Train Loss: 0.0653, Train MSE: 0.0653, Train MAE: 0.1837\n",
      "Epoch 650 - Validation Loss: 1.7272, Validation MSE: 1.7289, Validation MAE: 0.9352\n"
     ]
    },
    {
     "name": "stderr",
     "output_type": "stream",
     "text": [
      "Training Epoch 652: 100%|██████████| 261/261 [00:11<00:00, 22.74it/s]\n",
      "Training Epoch 653: 100%|██████████| 261/261 [00:10<00:00, 24.45it/s]\n",
      "Training Epoch 654: 100%|██████████| 261/261 [00:09<00:00, 28.77it/s]\n",
      "Training Epoch 655: 100%|██████████| 261/261 [00:06<00:00, 38.21it/s]\n",
      "Training Epoch 656: 100%|██████████| 261/261 [00:06<00:00, 37.29it/s]\n",
      "Training Epoch 657: 100%|██████████| 261/261 [00:07<00:00, 36.24it/s]\n",
      "Training Epoch 658: 100%|██████████| 261/261 [00:06<00:00, 37.79it/s]\n",
      "Training Epoch 659: 100%|██████████| 261/261 [00:07<00:00, 36.47it/s]\n",
      "Training Epoch 660: 100%|██████████| 261/261 [00:07<00:00, 35.75it/s]\n",
      "Training Epoch 661: 100%|██████████| 261/261 [00:07<00:00, 36.26it/s]\n"
     ]
    },
    {
     "name": "stdout",
     "output_type": "stream",
     "text": [
      "Epoch 660 - Train Loss: 0.0776, Train MSE: 0.0776, Train MAE: 0.1946\n",
      "Epoch 660 - Validation Loss: 1.7342, Validation MSE: 1.7360, Validation MAE: 0.9307\n"
     ]
    },
    {
     "name": "stderr",
     "output_type": "stream",
     "text": [
      "Training Epoch 662: 100%|██████████| 261/261 [00:07<00:00, 37.23it/s]\n",
      "Training Epoch 663: 100%|██████████| 261/261 [00:06<00:00, 40.14it/s]\n",
      "Training Epoch 664: 100%|██████████| 261/261 [00:06<00:00, 37.86it/s]\n",
      "Training Epoch 665: 100%|██████████| 261/261 [00:06<00:00, 38.15it/s]\n",
      "Training Epoch 666: 100%|██████████| 261/261 [00:07<00:00, 37.07it/s]\n",
      "Training Epoch 667: 100%|██████████| 261/261 [00:06<00:00, 38.85it/s]\n",
      "Training Epoch 668: 100%|██████████| 261/261 [00:07<00:00, 37.07it/s]\n",
      "Training Epoch 669: 100%|██████████| 261/261 [00:06<00:00, 37.35it/s]\n",
      "Training Epoch 670: 100%|██████████| 261/261 [00:06<00:00, 37.67it/s]\n",
      "Training Epoch 671: 100%|██████████| 261/261 [00:07<00:00, 37.11it/s]\n"
     ]
    },
    {
     "name": "stdout",
     "output_type": "stream",
     "text": [
      "Epoch 670 - Train Loss: 0.0687, Train MSE: 0.0687, Train MAE: 0.1868\n",
      "Epoch 670 - Validation Loss: 1.6617, Validation MSE: 1.6632, Validation MAE: 0.9146\n"
     ]
    },
    {
     "name": "stderr",
     "output_type": "stream",
     "text": [
      "Training Epoch 672: 100%|██████████| 261/261 [00:06<00:00, 38.44it/s]\n",
      "Training Epoch 673: 100%|██████████| 261/261 [00:06<00:00, 37.68it/s]\n",
      "Training Epoch 674: 100%|██████████| 261/261 [00:06<00:00, 37.70it/s]\n",
      "Training Epoch 675: 100%|██████████| 261/261 [00:06<00:00, 37.43it/s]\n",
      "Training Epoch 676: 100%|██████████| 261/261 [00:06<00:00, 37.41it/s]\n",
      "Training Epoch 677: 100%|██████████| 261/261 [00:06<00:00, 37.58it/s]\n",
      "Training Epoch 678: 100%|██████████| 261/261 [00:07<00:00, 36.76it/s]\n",
      "Training Epoch 679: 100%|██████████| 261/261 [00:06<00:00, 37.38it/s]\n",
      "Training Epoch 680: 100%|██████████| 261/261 [00:06<00:00, 37.88it/s]\n",
      "Training Epoch 681: 100%|██████████| 261/261 [00:06<00:00, 38.50it/s]\n"
     ]
    },
    {
     "name": "stdout",
     "output_type": "stream",
     "text": [
      "Epoch 680 - Train Loss: 0.0689, Train MSE: 0.0689, Train MAE: 0.1847\n",
      "Epoch 680 - Validation Loss: 1.6796, Validation MSE: 1.6813, Validation MAE: 0.9287\n"
     ]
    },
    {
     "name": "stderr",
     "output_type": "stream",
     "text": [
      "Training Epoch 682: 100%|██████████| 261/261 [00:06<00:00, 37.37it/s]\n",
      "Training Epoch 683: 100%|██████████| 261/261 [00:06<00:00, 37.49it/s]\n",
      "Training Epoch 684: 100%|██████████| 261/261 [00:07<00:00, 36.77it/s]\n",
      "Training Epoch 685: 100%|██████████| 261/261 [00:06<00:00, 38.02it/s]\n",
      "Training Epoch 686: 100%|██████████| 261/261 [00:07<00:00, 36.04it/s]\n",
      "Training Epoch 687: 100%|██████████| 261/261 [00:06<00:00, 38.68it/s]\n",
      "Training Epoch 688: 100%|██████████| 261/261 [00:06<00:00, 37.68it/s]\n",
      "Training Epoch 689: 100%|██████████| 261/261 [00:07<00:00, 37.21it/s]\n",
      "Training Epoch 690: 100%|██████████| 261/261 [00:06<00:00, 39.07it/s]\n",
      "Training Epoch 691: 100%|██████████| 261/261 [00:07<00:00, 37.02it/s]\n"
     ]
    },
    {
     "name": "stdout",
     "output_type": "stream",
     "text": [
      "Epoch 690 - Train Loss: 0.0650, Train MSE: 0.0650, Train MAE: 0.1825\n",
      "Epoch 690 - Validation Loss: 1.6866, Validation MSE: 1.6882, Validation MAE: 0.9285\n"
     ]
    },
    {
     "name": "stderr",
     "output_type": "stream",
     "text": [
      "Training Epoch 692: 100%|██████████| 261/261 [00:07<00:00, 37.19it/s]\n",
      "Training Epoch 693: 100%|██████████| 261/261 [00:07<00:00, 37.00it/s]\n",
      "Training Epoch 694: 100%|██████████| 261/261 [00:07<00:00, 36.49it/s]\n",
      "Training Epoch 695: 100%|██████████| 261/261 [00:07<00:00, 37.12it/s]\n",
      "Training Epoch 696: 100%|██████████| 261/261 [00:06<00:00, 38.46it/s]\n",
      "Training Epoch 697: 100%|██████████| 261/261 [00:06<00:00, 37.66it/s]\n",
      "Training Epoch 698: 100%|██████████| 261/261 [00:06<00:00, 38.74it/s]\n",
      "Training Epoch 699: 100%|██████████| 261/261 [00:06<00:00, 38.36it/s]\n",
      "Training Epoch 700: 100%|██████████| 261/261 [00:06<00:00, 37.95it/s]\n",
      "Training Epoch 701: 100%|██████████| 261/261 [00:07<00:00, 36.51it/s]\n"
     ]
    },
    {
     "name": "stdout",
     "output_type": "stream",
     "text": [
      "Epoch 700 - Train Loss: 0.0959, Train MSE: 0.0959, Train MAE: 0.2103\n",
      "Epoch 700 - Validation Loss: 1.7063, Validation MSE: 1.7080, Validation MAE: 0.9344\n"
     ]
    },
    {
     "name": "stderr",
     "output_type": "stream",
     "text": [
      "Training Epoch 702: 100%|██████████| 261/261 [00:07<00:00, 36.99it/s]\n",
      "Training Epoch 703: 100%|██████████| 261/261 [00:06<00:00, 37.69it/s]\n",
      "Training Epoch 704: 100%|██████████| 261/261 [00:06<00:00, 37.34it/s]\n",
      "Training Epoch 705: 100%|██████████| 261/261 [00:06<00:00, 38.29it/s]\n",
      "Training Epoch 706: 100%|██████████| 261/261 [00:07<00:00, 35.99it/s]\n",
      "Training Epoch 707: 100%|██████████| 261/261 [00:06<00:00, 38.62it/s]\n",
      "Training Epoch 708: 100%|██████████| 261/261 [00:06<00:00, 37.76it/s]\n",
      "Training Epoch 709: 100%|██████████| 261/261 [00:07<00:00, 36.25it/s]\n",
      "Training Epoch 710: 100%|██████████| 261/261 [00:06<00:00, 37.98it/s]\n",
      "Training Epoch 711: 100%|██████████| 261/261 [00:06<00:00, 37.55it/s]\n"
     ]
    },
    {
     "name": "stdout",
     "output_type": "stream",
     "text": [
      "Epoch 710 - Train Loss: 0.0719, Train MSE: 0.0719, Train MAE: 0.1895\n",
      "Epoch 710 - Validation Loss: 1.7041, Validation MSE: 1.7059, Validation MAE: 0.9305\n"
     ]
    },
    {
     "name": "stderr",
     "output_type": "stream",
     "text": [
      "Training Epoch 712: 100%|██████████| 261/261 [00:07<00:00, 36.93it/s]\n",
      "Training Epoch 713: 100%|██████████| 261/261 [00:06<00:00, 38.42it/s]\n",
      "Training Epoch 714: 100%|██████████| 261/261 [00:06<00:00, 37.93it/s]\n",
      "Training Epoch 715: 100%|██████████| 261/261 [00:06<00:00, 38.23it/s]\n",
      "Training Epoch 716: 100%|██████████| 261/261 [00:06<00:00, 39.09it/s]\n",
      "Training Epoch 717: 100%|██████████| 261/261 [00:06<00:00, 38.22it/s]\n",
      "Training Epoch 718: 100%|██████████| 261/261 [00:07<00:00, 35.59it/s]\n",
      "Training Epoch 719: 100%|██████████| 261/261 [00:07<00:00, 36.07it/s]\n",
      "Training Epoch 720: 100%|██████████| 261/261 [00:06<00:00, 38.45it/s]\n",
      "Training Epoch 721: 100%|██████████| 261/261 [00:06<00:00, 38.07it/s]\n"
     ]
    },
    {
     "name": "stdout",
     "output_type": "stream",
     "text": [
      "Epoch 720 - Train Loss: 0.0602, Train MSE: 0.0602, Train MAE: 0.1743\n",
      "Epoch 720 - Validation Loss: 1.6598, Validation MSE: 1.6614, Validation MAE: 0.9218\n"
     ]
    },
    {
     "name": "stderr",
     "output_type": "stream",
     "text": [
      "Training Epoch 722: 100%|██████████| 261/261 [00:06<00:00, 37.64it/s]\n",
      "Training Epoch 723: 100%|██████████| 261/261 [00:06<00:00, 38.47it/s]\n",
      "Training Epoch 724: 100%|██████████| 261/261 [00:06<00:00, 38.57it/s]\n",
      "Training Epoch 725: 100%|██████████| 261/261 [00:06<00:00, 38.33it/s]\n",
      "Training Epoch 726: 100%|██████████| 261/261 [00:07<00:00, 35.87it/s]\n",
      "Training Epoch 727: 100%|██████████| 261/261 [00:06<00:00, 37.69it/s]\n",
      "Training Epoch 728: 100%|██████████| 261/261 [00:06<00:00, 37.82it/s]\n",
      "Training Epoch 729: 100%|██████████| 261/261 [00:06<00:00, 38.59it/s]\n",
      "Training Epoch 730: 100%|██████████| 261/261 [15:47<00:00,  3.63s/it]  \n",
      "Training Epoch 731: 100%|██████████| 261/261 [00:11<00:00, 23.65it/s]\n"
     ]
    },
    {
     "name": "stdout",
     "output_type": "stream",
     "text": [
      "Epoch 730 - Train Loss: 0.0660, Train MSE: 0.0661, Train MAE: 0.1825\n",
      "Epoch 730 - Validation Loss: 1.7193, Validation MSE: 1.7211, Validation MAE: 0.9351\n"
     ]
    },
    {
     "name": "stderr",
     "output_type": "stream",
     "text": [
      "Training Epoch 732: 100%|██████████| 261/261 [00:10<00:00, 25.76it/s]\n",
      "Training Epoch 733: 100%|██████████| 261/261 [00:10<00:00, 24.90it/s]\n",
      "Training Epoch 734: 100%|██████████| 261/261 [00:11<00:00, 23.62it/s]\n",
      "Training Epoch 735: 100%|██████████| 261/261 [16:26<00:00,  3.78s/it] \n",
      "Training Epoch 736: 100%|██████████| 261/261 [00:09<00:00, 26.30it/s]\n",
      "Training Epoch 737: 100%|██████████| 261/261 [00:09<00:00, 26.43it/s]\n",
      "Training Epoch 738: 100%|██████████| 261/261 [00:10<00:00, 25.93it/s]\n",
      "Training Epoch 739: 100%|██████████| 261/261 [15:39<00:00,  3.60s/it]  \n",
      "Training Epoch 740: 100%|██████████| 261/261 [00:09<00:00, 26.70it/s]\n",
      "Training Epoch 741: 100%|██████████| 261/261 [00:09<00:00, 26.13it/s]\n"
     ]
    },
    {
     "name": "stdout",
     "output_type": "stream",
     "text": [
      "Epoch 740 - Train Loss: 0.0611, Train MSE: 0.0611, Train MAE: 0.1737\n",
      "Epoch 740 - Validation Loss: 1.6837, Validation MSE: 1.6855, Validation MAE: 0.9239\n"
     ]
    },
    {
     "name": "stderr",
     "output_type": "stream",
     "text": [
      "Training Epoch 742: 100%|██████████| 261/261 [00:09<00:00, 26.43it/s]\n",
      "Training Epoch 743: 100%|██████████| 261/261 [00:09<00:00, 26.90it/s]\n",
      "Training Epoch 744: 100%|██████████| 261/261 [01:53<00:00,  2.29it/s]\n",
      "Training Epoch 745: 100%|██████████| 261/261 [00:09<00:00, 26.13it/s]\n",
      "Training Epoch 746: 100%|██████████| 261/261 [00:09<00:00, 26.62it/s]\n",
      "Training Epoch 747: 100%|██████████| 261/261 [00:10<00:00, 25.72it/s]\n",
      "Training Epoch 748: 100%|██████████| 261/261 [16:03<00:00,  3.69s/it]  \n",
      "Training Epoch 749: 100%|██████████| 261/261 [00:09<00:00, 26.43it/s]\n",
      "Training Epoch 750: 100%|██████████| 261/261 [00:10<00:00, 25.71it/s]\n",
      "Training Epoch 751: 100%|██████████| 261/261 [00:09<00:00, 26.66it/s]\n"
     ]
    },
    {
     "name": "stdout",
     "output_type": "stream",
     "text": [
      "Epoch 750 - Train Loss: 0.0614, Train MSE: 0.0614, Train MAE: 0.1768\n",
      "Epoch 750 - Validation Loss: 1.6861, Validation MSE: 1.6879, Validation MAE: 0.9235\n"
     ]
    },
    {
     "name": "stderr",
     "output_type": "stream",
     "text": [
      "Training Epoch 752: 100%|██████████| 261/261 [00:09<00:00, 26.49it/s]\n",
      "Training Epoch 753: 100%|██████████| 261/261 [00:11<00:00, 23.31it/s]\n",
      "Training Epoch 754: 100%|██████████| 261/261 [00:09<00:00, 27.17it/s]\n",
      "Training Epoch 755: 100%|██████████| 261/261 [00:10<00:00, 26.10it/s]\n",
      "Training Epoch 756: 100%|██████████| 261/261 [00:09<00:00, 26.58it/s]\n",
      "Training Epoch 757: 100%|██████████| 261/261 [15:33<00:00,  3.58s/it]  \n",
      "Training Epoch 758: 100%|██████████| 261/261 [00:10<00:00, 24.49it/s]\n",
      "Training Epoch 759: 100%|██████████| 261/261 [00:09<00:00, 26.57it/s]\n",
      "Training Epoch 760: 100%|██████████| 261/261 [00:10<00:00, 25.42it/s]\n",
      "Training Epoch 761: 100%|██████████| 261/261 [00:10<00:00, 25.30it/s]\n"
     ]
    },
    {
     "name": "stdout",
     "output_type": "stream",
     "text": [
      "Epoch 760 - Train Loss: 0.0669, Train MSE: 0.0669, Train MAE: 0.1784\n",
      "Epoch 760 - Validation Loss: 1.6513, Validation MSE: 1.6529, Validation MAE: 0.9219\n"
     ]
    },
    {
     "name": "stderr",
     "output_type": "stream",
     "text": [
      "Training Epoch 762: 100%|██████████| 261/261 [00:09<00:00, 26.59it/s]\n",
      "Training Epoch 763: 100%|██████████| 261/261 [15:41<00:00,  3.61s/it]  \n",
      "Training Epoch 764: 100%|██████████| 261/261 [00:10<00:00, 23.99it/s]\n",
      "Training Epoch 765: 100%|██████████| 261/261 [00:10<00:00, 25.57it/s]\n",
      "Training Epoch 766: 100%|██████████| 261/261 [00:09<00:00, 26.20it/s]\n",
      "Training Epoch 767: 100%|██████████| 261/261 [00:10<00:00, 25.40it/s]\n",
      "Training Epoch 768: 100%|██████████| 261/261 [00:09<00:00, 26.26it/s]\n",
      "Training Epoch 769: 100%|██████████| 261/261 [00:09<00:00, 26.39it/s]\n",
      "Training Epoch 770: 100%|██████████| 261/261 [00:09<00:00, 26.43it/s]\n",
      "Training Epoch 771: 100%|██████████| 261/261 [00:10<00:00, 25.88it/s]\n"
     ]
    },
    {
     "name": "stdout",
     "output_type": "stream",
     "text": [
      "Epoch 770 - Train Loss: 0.0815, Train MSE: 0.0815, Train MAE: 0.1940\n",
      "Epoch 770 - Validation Loss: 1.6626, Validation MSE: 1.6644, Validation MAE: 0.9203\n"
     ]
    },
    {
     "name": "stderr",
     "output_type": "stream",
     "text": [
      "Training Epoch 772: 100%|██████████| 261/261 [00:10<00:00, 25.06it/s]\n",
      "Training Epoch 773: 100%|██████████| 261/261 [00:10<00:00, 25.94it/s]\n",
      "Training Epoch 774: 100%|██████████| 261/261 [00:10<00:00, 25.41it/s]\n",
      "Training Epoch 775: 100%|██████████| 261/261 [00:10<00:00, 25.82it/s]\n",
      "Training Epoch 776: 100%|██████████| 261/261 [00:09<00:00, 26.17it/s]\n",
      "Training Epoch 777: 100%|██████████| 261/261 [00:09<00:00, 26.30it/s]\n",
      "Training Epoch 778: 100%|██████████| 261/261 [00:10<00:00, 25.92it/s]\n",
      "Training Epoch 779: 100%|██████████| 261/261 [00:10<00:00, 25.60it/s]\n",
      "Training Epoch 780: 100%|██████████| 261/261 [00:10<00:00, 25.51it/s]\n",
      "Training Epoch 781: 100%|██████████| 261/261 [00:09<00:00, 26.36it/s]\n"
     ]
    },
    {
     "name": "stdout",
     "output_type": "stream",
     "text": [
      "Epoch 780 - Train Loss: 0.0614, Train MSE: 0.0614, Train MAE: 0.1763\n",
      "Epoch 780 - Validation Loss: 1.6722, Validation MSE: 1.6741, Validation MAE: 0.9169\n"
     ]
    },
    {
     "name": "stderr",
     "output_type": "stream",
     "text": [
      "Training Epoch 782: 100%|██████████| 261/261 [00:10<00:00, 25.83it/s]\n",
      "Training Epoch 783: 100%|██████████| 261/261 [00:10<00:00, 25.97it/s]\n",
      "Training Epoch 784: 100%|██████████| 261/261 [00:10<00:00, 24.48it/s]\n",
      "Training Epoch 785: 100%|██████████| 261/261 [16:40<00:00,  3.83s/it] \n",
      "Training Epoch 786: 100%|██████████| 261/261 [00:10<00:00, 25.97it/s]\n",
      "Training Epoch 787: 100%|██████████| 261/261 [00:09<00:00, 26.40it/s]\n",
      "Training Epoch 788: 100%|██████████| 261/261 [00:10<00:00, 25.56it/s]\n",
      "Training Epoch 789: 100%|██████████| 261/261 [16:42<00:00,  3.84s/it]  \n",
      "Training Epoch 790: 100%|██████████| 261/261 [00:09<00:00, 26.40it/s]\n",
      "Training Epoch 791: 100%|██████████| 261/261 [00:10<00:00, 25.81it/s]\n"
     ]
    },
    {
     "name": "stdout",
     "output_type": "stream",
     "text": [
      "Epoch 790 - Train Loss: 0.0573, Train MSE: 0.0573, Train MAE: 0.1695\n",
      "Epoch 790 - Validation Loss: 1.6521, Validation MSE: 1.6539, Validation MAE: 0.9150\n"
     ]
    },
    {
     "name": "stderr",
     "output_type": "stream",
     "text": [
      "Training Epoch 792: 100%|██████████| 261/261 [00:09<00:00, 26.12it/s]\n",
      "Training Epoch 793: 100%|██████████| 261/261 [00:09<00:00, 26.53it/s]\n",
      "Training Epoch 794: 100%|██████████| 261/261 [00:10<00:00, 25.84it/s]\n",
      "Training Epoch 795: 100%|██████████| 261/261 [15:47<00:00,  3.63s/it]  \n",
      "Training Epoch 796: 100%|██████████| 261/261 [00:10<00:00, 24.17it/s]\n",
      "Training Epoch 797: 100%|██████████| 261/261 [00:10<00:00, 25.20it/s]\n",
      "Training Epoch 798: 100%|██████████| 261/261 [00:10<00:00, 25.85it/s]\n",
      "Training Epoch 799: 100%|██████████| 261/261 [00:09<00:00, 26.96it/s]\n",
      "Training Epoch 800: 100%|██████████| 261/261 [15:21<00:00,  3.53s/it] \n",
      "Training Epoch 801: 100%|██████████| 261/261 [00:10<00:00, 25.31it/s]\n"
     ]
    },
    {
     "name": "stdout",
     "output_type": "stream",
     "text": [
      "Epoch 800 - Train Loss: 0.0661, Train MSE: 0.0661, Train MAE: 0.1792\n",
      "Epoch 800 - Validation Loss: 1.6891, Validation MSE: 1.6909, Validation MAE: 0.9251\n"
     ]
    },
    {
     "name": "stderr",
     "output_type": "stream",
     "text": [
      "Training Epoch 802: 100%|██████████| 261/261 [00:09<00:00, 26.92it/s]\n",
      "Training Epoch 803: 100%|██████████| 261/261 [00:10<00:00, 25.97it/s]\n",
      "Training Epoch 804: 100%|██████████| 261/261 [16:38<00:00,  3.83s/it]  \n",
      "Training Epoch 805: 100%|██████████| 261/261 [00:09<00:00, 26.26it/s]\n",
      "Training Epoch 806: 100%|██████████| 261/261 [00:11<00:00, 23.68it/s]\n",
      "Training Epoch 807: 100%|██████████| 261/261 [00:10<00:00, 25.32it/s]\n",
      "Training Epoch 808: 100%|██████████| 261/261 [16:21<00:00,  3.76s/it]  \n",
      "Training Epoch 809: 100%|██████████| 261/261 [00:10<00:00, 25.43it/s]\n",
      "Training Epoch 810: 100%|██████████| 261/261 [00:10<00:00, 24.41it/s]\n",
      "Training Epoch 811: 100%|██████████| 261/261 [00:10<00:00, 26.00it/s]\n"
     ]
    },
    {
     "name": "stdout",
     "output_type": "stream",
     "text": [
      "Epoch 810 - Train Loss: 0.0603, Train MSE: 0.0603, Train MAE: 0.1744\n",
      "Epoch 810 - Validation Loss: 1.6930, Validation MSE: 1.6947, Validation MAE: 0.9245\n"
     ]
    },
    {
     "name": "stderr",
     "output_type": "stream",
     "text": [
      "Training Epoch 812: 100%|██████████| 261/261 [00:09<00:00, 26.25it/s]\n",
      "Training Epoch 813: 100%|██████████| 261/261 [00:09<00:00, 26.12it/s]\n",
      "Training Epoch 814: 100%|██████████| 261/261 [00:09<00:00, 26.15it/s]\n",
      "Training Epoch 815: 100%|██████████| 261/261 [00:09<00:00, 26.78it/s]\n",
      "Training Epoch 816: 100%|██████████| 261/261 [00:09<00:00, 26.69it/s]\n",
      "Training Epoch 817: 100%|██████████| 261/261 [00:09<00:00, 26.37it/s]\n",
      "Training Epoch 818: 100%|██████████| 261/261 [00:09<00:00, 26.18it/s]\n",
      "Training Epoch 819: 100%|██████████| 261/261 [00:09<00:00, 26.42it/s]\n",
      "Training Epoch 820: 100%|██████████| 261/261 [00:09<00:00, 26.37it/s]\n",
      "Training Epoch 821: 100%|██████████| 261/261 [00:09<00:00, 26.57it/s]\n"
     ]
    },
    {
     "name": "stdout",
     "output_type": "stream",
     "text": [
      "Epoch 820 - Train Loss: 0.0630, Train MSE: 0.0630, Train MAE: 0.1764\n",
      "Epoch 820 - Validation Loss: 1.6526, Validation MSE: 1.6546, Validation MAE: 0.9098\n"
     ]
    },
    {
     "name": "stderr",
     "output_type": "stream",
     "text": [
      "Training Epoch 822: 100%|██████████| 261/261 [00:09<00:00, 26.42it/s]\n",
      "Training Epoch 823: 100%|██████████| 261/261 [00:10<00:00, 24.41it/s]\n",
      "Training Epoch 824: 100%|██████████| 261/261 [00:09<00:00, 26.24it/s]\n",
      "Training Epoch 825: 100%|██████████| 261/261 [00:09<00:00, 26.33it/s]\n",
      "Training Epoch 826: 100%|██████████| 261/261 [00:09<00:00, 26.48it/s]\n",
      "Training Epoch 827: 100%|██████████| 261/261 [00:09<00:00, 26.24it/s]\n",
      "Training Epoch 828: 100%|██████████| 261/261 [00:09<00:00, 26.20it/s]\n",
      "Training Epoch 829: 100%|██████████| 261/261 [00:10<00:00, 25.39it/s]\n",
      "Training Epoch 830: 100%|██████████| 261/261 [00:10<00:00, 25.99it/s]\n",
      "Training Epoch 831: 100%|██████████| 261/261 [00:10<00:00, 25.81it/s]\n"
     ]
    },
    {
     "name": "stdout",
     "output_type": "stream",
     "text": [
      "Epoch 830 - Train Loss: 0.0576, Train MSE: 0.0576, Train MAE: 0.1685\n",
      "Epoch 830 - Validation Loss: 1.6853, Validation MSE: 1.6871, Validation MAE: 0.9248\n"
     ]
    },
    {
     "name": "stderr",
     "output_type": "stream",
     "text": [
      "Training Epoch 832: 100%|██████████| 261/261 [00:09<00:00, 26.40it/s]\n",
      "Training Epoch 833: 100%|██████████| 261/261 [00:10<00:00, 25.90it/s]\n",
      "Training Epoch 834: 100%|██████████| 261/261 [00:10<00:00, 25.17it/s]\n",
      "Training Epoch 835: 100%|██████████| 261/261 [00:10<00:00, 25.97it/s]\n",
      "Training Epoch 836: 100%|██████████| 261/261 [00:10<00:00, 25.37it/s]\n",
      "Training Epoch 837: 100%|██████████| 261/261 [00:10<00:00, 24.88it/s]\n",
      "Training Epoch 838: 100%|██████████| 261/261 [16:40<00:00,  3.83s/it]  \n",
      "Training Epoch 839: 100%|██████████| 261/261 [00:10<00:00, 25.68it/s]\n",
      "Training Epoch 840: 100%|██████████| 261/261 [00:10<00:00, 24.85it/s]\n",
      "Training Epoch 841: 100%|██████████| 261/261 [00:09<00:00, 26.57it/s]\n"
     ]
    },
    {
     "name": "stdout",
     "output_type": "stream",
     "text": [
      "Epoch 840 - Train Loss: 0.0584, Train MSE: 0.0584, Train MAE: 0.1698\n",
      "Epoch 840 - Validation Loss: 1.6707, Validation MSE: 1.6723, Validation MAE: 0.9271\n"
     ]
    },
    {
     "name": "stderr",
     "output_type": "stream",
     "text": [
      "Training Epoch 842: 100%|██████████| 261/261 [00:10<00:00, 25.87it/s]\n",
      "Training Epoch 843: 100%|██████████| 261/261 [15:22<00:00,  3.53s/it] \n",
      "Training Epoch 844: 100%|██████████| 261/261 [00:10<00:00, 25.93it/s]\n",
      "Training Epoch 845: 100%|██████████| 261/261 [00:10<00:00, 24.56it/s]\n",
      "Training Epoch 846: 100%|██████████| 261/261 [00:10<00:00, 24.28it/s]\n",
      "Training Epoch 847: 100%|██████████| 261/261 [15:15<00:00,  3.51s/it]  \n",
      "Training Epoch 848: 100%|██████████| 261/261 [00:10<00:00, 25.89it/s]\n",
      "Training Epoch 849: 100%|██████████| 261/261 [00:09<00:00, 26.80it/s]\n",
      "Training Epoch 850: 100%|██████████| 261/261 [00:09<00:00, 26.91it/s]\n",
      "Training Epoch 851: 100%|██████████| 261/261 [15:50<00:00,  3.64s/it]  \n"
     ]
    },
    {
     "name": "stdout",
     "output_type": "stream",
     "text": [
      "Epoch 850 - Train Loss: 0.0628, Train MSE: 0.0628, Train MAE: 0.1772\n",
      "Epoch 850 - Validation Loss: 1.6895, Validation MSE: 1.6913, Validation MAE: 0.9348\n"
     ]
    },
    {
     "name": "stderr",
     "output_type": "stream",
     "text": [
      "Training Epoch 852: 100%|██████████| 261/261 [00:10<00:00, 25.32it/s]\n",
      "Training Epoch 853: 100%|██████████| 261/261 [00:10<00:00, 25.27it/s]\n",
      "Training Epoch 854: 100%|██████████| 261/261 [00:10<00:00, 25.46it/s]\n",
      "Training Epoch 855: 100%|██████████| 261/261 [00:10<00:00, 26.01it/s]\n",
      "Training Epoch 856: 100%|██████████| 261/261 [04:39<00:00,  1.07s/it] \n",
      "Training Epoch 857: 100%|██████████| 261/261 [00:10<00:00, 25.26it/s]\n",
      "Training Epoch 858: 100%|██████████| 261/261 [00:09<00:00, 26.14it/s]\n",
      "Training Epoch 859: 100%|██████████| 261/261 [00:09<00:00, 26.94it/s]\n",
      "Training Epoch 860: 100%|██████████| 261/261 [00:53<00:00,  4.90it/s]\n",
      "Training Epoch 861: 100%|██████████| 261/261 [00:09<00:00, 26.22it/s]\n"
     ]
    },
    {
     "name": "stdout",
     "output_type": "stream",
     "text": [
      "Epoch 860 - Train Loss: 0.0553, Train MSE: 0.0553, Train MAE: 0.1664\n",
      "Epoch 860 - Validation Loss: 1.6749, Validation MSE: 1.6768, Validation MAE: 0.9297\n"
     ]
    },
    {
     "name": "stderr",
     "output_type": "stream",
     "text": [
      "Training Epoch 862: 100%|██████████| 261/261 [00:09<00:00, 26.90it/s]\n",
      "Training Epoch 863: 100%|██████████| 261/261 [00:10<00:00, 24.80it/s]\n",
      "Training Epoch 864: 100%|██████████| 261/261 [00:09<00:00, 26.75it/s]\n",
      "Training Epoch 865: 100%|██████████| 261/261 [15:50<00:00,  3.64s/it] \n",
      "Training Epoch 866: 100%|██████████| 261/261 [00:09<00:00, 26.26it/s]\n",
      "Training Epoch 867: 100%|██████████| 261/261 [00:10<00:00, 25.54it/s]\n",
      "Training Epoch 868: 100%|██████████| 261/261 [00:10<00:00, 24.49it/s]\n",
      "Training Epoch 869: 100%|██████████| 261/261 [15:45<00:00,  3.62s/it]  \n",
      "Training Epoch 870: 100%|██████████| 261/261 [00:10<00:00, 25.62it/s]\n",
      "Training Epoch 871: 100%|██████████| 261/261 [00:09<00:00, 26.53it/s]\n"
     ]
    },
    {
     "name": "stdout",
     "output_type": "stream",
     "text": [
      "Epoch 870 - Train Loss: 0.0553, Train MSE: 0.0553, Train MAE: 0.1670\n",
      "Epoch 870 - Validation Loss: 1.6712, Validation MSE: 1.6730, Validation MAE: 0.9192\n"
     ]
    },
    {
     "name": "stderr",
     "output_type": "stream",
     "text": [
      "Training Epoch 872: 100%|██████████| 261/261 [00:09<00:00, 26.64it/s]\n",
      "Training Epoch 873: 100%|██████████| 261/261 [00:09<00:00, 26.79it/s]\n",
      "Training Epoch 874: 100%|██████████| 261/261 [00:11<00:00, 23.70it/s]\n",
      "Training Epoch 875: 100%|██████████| 261/261 [00:10<00:00, 25.25it/s]\n",
      "Training Epoch 876: 100%|██████████| 261/261 [00:11<00:00, 23.39it/s]\n",
      "Training Epoch 877: 100%|██████████| 261/261 [00:10<00:00, 25.71it/s]\n",
      "Training Epoch 878: 100%|██████████| 261/261 [00:09<00:00, 26.20it/s]\n",
      "Training Epoch 879: 100%|██████████| 261/261 [00:10<00:00, 23.97it/s]\n",
      "Training Epoch 880: 100%|██████████| 261/261 [00:10<00:00, 25.84it/s]\n",
      "Training Epoch 881: 100%|██████████| 261/261 [15:58<00:00,  3.67s/it] \n"
     ]
    },
    {
     "name": "stdout",
     "output_type": "stream",
     "text": [
      "Epoch 880 - Train Loss: 0.0551, Train MSE: 0.0551, Train MAE: 0.1656\n",
      "Epoch 880 - Validation Loss: 1.6418, Validation MSE: 1.6435, Validation MAE: 0.9206\n"
     ]
    },
    {
     "name": "stderr",
     "output_type": "stream",
     "text": [
      "Training Epoch 882: 100%|██████████| 261/261 [00:09<00:00, 26.75it/s]\n",
      "Training Epoch 883: 100%|██████████| 261/261 [00:09<00:00, 26.54it/s]\n",
      "Training Epoch 884: 100%|██████████| 261/261 [00:10<00:00, 26.07it/s]\n",
      "Training Epoch 885: 100%|██████████| 261/261 [16:23<00:00,  3.77s/it]  \n",
      "Training Epoch 886: 100%|██████████| 261/261 [00:10<00:00, 24.07it/s]\n",
      "Training Epoch 887: 100%|██████████| 261/261 [00:09<00:00, 27.07it/s]\n",
      "Training Epoch 888: 100%|██████████| 261/261 [00:11<00:00, 21.81it/s]\n",
      "Training Epoch 889: 100%|██████████| 261/261 [00:16<00:00, 16.13it/s]\n",
      "Training Epoch 890: 100%|██████████| 261/261 [00:09<00:00, 26.12it/s]\n",
      "Training Epoch 891: 100%|██████████| 261/261 [00:10<00:00, 25.93it/s]\n"
     ]
    },
    {
     "name": "stdout",
     "output_type": "stream",
     "text": [
      "Epoch 890 - Train Loss: 0.0534, Train MSE: 0.0533, Train MAE: 0.1625\n",
      "Epoch 890 - Validation Loss: 1.6771, Validation MSE: 1.6789, Validation MAE: 0.9229\n"
     ]
    },
    {
     "name": "stderr",
     "output_type": "stream",
     "text": [
      "Training Epoch 892: 100%|██████████| 261/261 [00:09<00:00, 26.83it/s]\n",
      "Training Epoch 893: 100%|██████████| 261/261 [00:10<00:00, 25.95it/s]\n",
      "Training Epoch 894: 100%|██████████| 261/261 [15:49<00:00,  3.64s/it]  \n",
      "Training Epoch 895: 100%|██████████| 261/261 [00:10<00:00, 24.98it/s]\n",
      "Training Epoch 896: 100%|██████████| 261/261 [00:10<00:00, 23.78it/s]\n",
      "Training Epoch 897: 100%|██████████| 261/261 [00:10<00:00, 25.47it/s]\n",
      "Training Epoch 898: 100%|██████████| 261/261 [17:18<00:00,  3.98s/it]   \n",
      "Training Epoch 899: 100%|██████████| 261/261 [00:09<00:00, 26.34it/s]\n",
      "Training Epoch 900: 100%|██████████| 261/261 [00:09<00:00, 26.49it/s]\n",
      "Training Epoch 901: 100%|██████████| 261/261 [00:10<00:00, 25.64it/s]\n"
     ]
    },
    {
     "name": "stdout",
     "output_type": "stream",
     "text": [
      "Epoch 900 - Train Loss: 0.0554, Train MSE: 0.0554, Train MAE: 0.1639\n",
      "Epoch 900 - Validation Loss: 1.6766, Validation MSE: 1.6784, Validation MAE: 0.9231\n"
     ]
    },
    {
     "name": "stderr",
     "output_type": "stream",
     "text": [
      "Training Epoch 902: 100%|██████████| 261/261 [00:09<00:00, 26.23it/s]\n",
      "Training Epoch 903: 100%|██████████| 261/261 [00:17<00:00, 15.20it/s]\n",
      "Training Epoch 904: 100%|██████████| 261/261 [00:10<00:00, 25.13it/s]\n",
      "Training Epoch 905: 100%|██████████| 261/261 [00:09<00:00, 26.57it/s]\n",
      "Training Epoch 906: 100%|██████████| 261/261 [00:09<00:00, 26.13it/s]\n",
      "Training Epoch 907: 100%|██████████| 261/261 [15:36<00:00,  3.59s/it]  \n",
      "Training Epoch 908: 100%|██████████| 261/261 [00:09<00:00, 28.07it/s]\n",
      "Training Epoch 909: 100%|██████████| 261/261 [00:08<00:00, 29.35it/s]\n",
      "Training Epoch 910: 100%|██████████| 261/261 [00:09<00:00, 28.72it/s]\n",
      "Training Epoch 911: 100%|██████████| 261/261 [00:08<00:00, 29.47it/s]\n"
     ]
    },
    {
     "name": "stdout",
     "output_type": "stream",
     "text": [
      "Epoch 910 - Train Loss: 0.0534, Train MSE: 0.0534, Train MAE: 0.1626\n",
      "Epoch 910 - Validation Loss: 1.6411, Validation MSE: 1.6429, Validation MAE: 0.9163\n"
     ]
    },
    {
     "name": "stderr",
     "output_type": "stream",
     "text": [
      "Training Epoch 912: 100%|██████████| 261/261 [00:09<00:00, 27.59it/s]\n",
      "Training Epoch 913: 100%|██████████| 261/261 [00:10<00:00, 25.73it/s]\n",
      "Training Epoch 914: 100%|██████████| 261/261 [00:09<00:00, 26.80it/s]\n",
      "Training Epoch 915: 100%|██████████| 261/261 [00:09<00:00, 27.34it/s]\n",
      "Training Epoch 916: 100%|██████████| 261/261 [16:48<00:00,  3.86s/it] \n",
      "Training Epoch 917: 100%|██████████| 261/261 [00:08<00:00, 29.97it/s]\n",
      "Training Epoch 918: 100%|██████████| 261/261 [00:08<00:00, 29.36it/s]\n",
      "Training Epoch 919: 100%|██████████| 261/261 [00:08<00:00, 29.36it/s]\n",
      "Training Epoch 920: 100%|██████████| 261/261 [00:08<00:00, 29.70it/s]\n",
      "Training Epoch 921: 100%|██████████| 261/261 [16:32<00:00,  3.80s/it] \n"
     ]
    },
    {
     "name": "stdout",
     "output_type": "stream",
     "text": [
      "Epoch 920 - Train Loss: 0.0556, Train MSE: 0.0556, Train MAE: 0.1646\n",
      "Epoch 920 - Validation Loss: 1.6508, Validation MSE: 1.6524, Validation MAE: 0.9195\n"
     ]
    },
    {
     "name": "stderr",
     "output_type": "stream",
     "text": [
      "Training Epoch 922: 100%|██████████| 261/261 [00:09<00:00, 27.36it/s]\n",
      "Training Epoch 923: 100%|██████████| 261/261 [00:09<00:00, 27.24it/s]\n",
      "Training Epoch 924: 100%|██████████| 261/261 [00:09<00:00, 26.99it/s]\n",
      "Training Epoch 925: 100%|██████████| 261/261 [00:10<00:00, 24.30it/s]\n",
      "Training Epoch 926: 100%|██████████| 261/261 [00:09<00:00, 27.20it/s]\n",
      "Training Epoch 927: 100%|██████████| 261/261 [00:09<00:00, 28.28it/s]\n",
      "Training Epoch 928: 100%|██████████| 261/261 [07:35<00:00,  1.75s/it]  \n",
      "Training Epoch 929: 100%|██████████| 261/261 [00:08<00:00, 30.37it/s]\n",
      "Training Epoch 930: 100%|██████████| 261/261 [00:09<00:00, 28.15it/s]\n",
      "Training Epoch 931: 100%|██████████| 261/261 [00:09<00:00, 28.09it/s]\n"
     ]
    },
    {
     "name": "stdout",
     "output_type": "stream",
     "text": [
      "Epoch 930 - Train Loss: 0.0547, Train MSE: 0.0547, Train MAE: 0.1657\n",
      "Epoch 930 - Validation Loss: 1.6603, Validation MSE: 1.6620, Validation MAE: 0.9194\n"
     ]
    },
    {
     "name": "stderr",
     "output_type": "stream",
     "text": [
      "Training Epoch 932: 100%|██████████| 261/261 [00:08<00:00, 29.10it/s]\n",
      "Training Epoch 933: 100%|██████████| 261/261 [15:24<00:00,  3.54s/it]  \n",
      "Training Epoch 934: 100%|██████████| 261/261 [00:09<00:00, 28.79it/s]\n",
      "Training Epoch 935: 100%|██████████| 261/261 [00:08<00:00, 29.08it/s]\n",
      "Training Epoch 936: 100%|██████████| 261/261 [00:08<00:00, 29.76it/s]\n",
      "Training Epoch 937: 100%|██████████| 261/261 [00:08<00:00, 30.10it/s]\n",
      "Training Epoch 938: 100%|██████████| 261/261 [00:16<00:00, 15.79it/s]\n",
      "Training Epoch 939: 100%|██████████| 261/261 [00:09<00:00, 26.72it/s]\n",
      "Training Epoch 940: 100%|██████████| 261/261 [00:09<00:00, 26.11it/s]\n",
      "Training Epoch 941: 100%|██████████| 261/261 [00:09<00:00, 27.00it/s]\n"
     ]
    },
    {
     "name": "stdout",
     "output_type": "stream",
     "text": [
      "Epoch 940 - Train Loss: 0.0544, Train MSE: 0.0544, Train MAE: 0.1641\n",
      "Epoch 940 - Validation Loss: 1.7038, Validation MSE: 1.7055, Validation MAE: 0.9244\n"
     ]
    },
    {
     "name": "stderr",
     "output_type": "stream",
     "text": [
      "Training Epoch 942: 100%|██████████| 261/261 [00:09<00:00, 28.31it/s]\n",
      "Training Epoch 943: 100%|██████████| 261/261 [15:17<00:00,  3.51s/it]  \n",
      "Training Epoch 944: 100%|██████████| 261/261 [00:09<00:00, 26.91it/s]\n",
      "Training Epoch 945: 100%|██████████| 261/261 [00:09<00:00, 28.40it/s]\n",
      "Training Epoch 946: 100%|██████████| 261/261 [00:08<00:00, 29.53it/s]\n",
      "Training Epoch 947: 100%|██████████| 261/261 [00:09<00:00, 28.50it/s]\n",
      "Training Epoch 948: 100%|██████████| 261/261 [16:41<00:00,  3.84s/it]  \n",
      "Training Epoch 949: 100%|██████████| 261/261 [00:09<00:00, 27.33it/s]\n",
      "Training Epoch 950: 100%|██████████| 261/261 [00:09<00:00, 26.85it/s]\n",
      "Training Epoch 951: 100%|██████████| 261/261 [00:09<00:00, 27.22it/s]\n"
     ]
    },
    {
     "name": "stdout",
     "output_type": "stream",
     "text": [
      "Epoch 950 - Train Loss: 0.0591, Train MSE: 0.0591, Train MAE: 0.1682\n",
      "Epoch 950 - Validation Loss: 1.6678, Validation MSE: 1.6693, Validation MAE: 0.9274\n"
     ]
    },
    {
     "name": "stderr",
     "output_type": "stream",
     "text": [
      "Training Epoch 952: 100%|██████████| 261/261 [00:08<00:00, 29.63it/s]\n",
      "Training Epoch 953: 100%|██████████| 261/261 [00:09<00:00, 29.00it/s]\n",
      "Training Epoch 954: 100%|██████████| 261/261 [00:09<00:00, 27.12it/s]\n",
      "Training Epoch 955: 100%|██████████| 261/261 [00:09<00:00, 27.32it/s]\n",
      "Training Epoch 956: 100%|██████████| 261/261 [00:09<00:00, 26.50it/s]\n",
      "Training Epoch 957: 100%|██████████| 261/261 [00:09<00:00, 28.37it/s]\n",
      "Training Epoch 958: 100%|██████████| 261/261 [00:08<00:00, 29.05it/s]\n",
      "Training Epoch 959: 100%|██████████| 261/261 [00:09<00:00, 28.61it/s]\n",
      "Training Epoch 960: 100%|██████████| 261/261 [00:08<00:00, 29.04it/s]\n",
      "Training Epoch 961: 100%|██████████| 261/261 [00:09<00:00, 28.81it/s]\n"
     ]
    },
    {
     "name": "stdout",
     "output_type": "stream",
     "text": [
      "Epoch 960 - Train Loss: 0.0563, Train MSE: 0.0563, Train MAE: 0.1655\n",
      "Epoch 960 - Validation Loss: 1.6834, Validation MSE: 1.6851, Validation MAE: 0.9242\n"
     ]
    },
    {
     "name": "stderr",
     "output_type": "stream",
     "text": [
      "Training Epoch 962: 100%|██████████| 261/261 [00:09<00:00, 28.12it/s]\n",
      "Training Epoch 963: 100%|██████████| 261/261 [00:09<00:00, 28.69it/s]\n",
      "Training Epoch 964: 100%|██████████| 261/261 [00:08<00:00, 29.58it/s]\n",
      "Training Epoch 965: 100%|██████████| 261/261 [00:09<00:00, 27.47it/s]\n",
      "Training Epoch 966: 100%|██████████| 261/261 [00:09<00:00, 27.90it/s]\n",
      "Training Epoch 967: 100%|██████████| 261/261 [00:09<00:00, 28.26it/s]\n",
      "Training Epoch 968: 100%|██████████| 261/261 [00:10<00:00, 24.93it/s]\n",
      "Training Epoch 969: 100%|██████████| 261/261 [00:09<00:00, 28.15it/s]\n",
      "Training Epoch 970: 100%|██████████| 261/261 [00:09<00:00, 28.99it/s]\n",
      "Training Epoch 971: 100%|██████████| 261/261 [00:09<00:00, 28.45it/s]\n"
     ]
    },
    {
     "name": "stdout",
     "output_type": "stream",
     "text": [
      "Epoch 970 - Train Loss: 0.0569, Train MSE: 0.0569, Train MAE: 0.1671\n",
      "Epoch 970 - Validation Loss: 1.7137, Validation MSE: 1.7156, Validation MAE: 0.9302\n"
     ]
    },
    {
     "name": "stderr",
     "output_type": "stream",
     "text": [
      "Training Epoch 972: 100%|██████████| 261/261 [00:09<00:00, 28.50it/s]\n",
      "Training Epoch 973: 100%|██████████| 261/261 [00:08<00:00, 29.08it/s]\n",
      "Training Epoch 974: 100%|██████████| 261/261 [00:09<00:00, 27.43it/s]\n",
      "Training Epoch 975: 100%|██████████| 261/261 [00:09<00:00, 27.43it/s]\n",
      "Training Epoch 976: 100%|██████████| 261/261 [00:09<00:00, 27.75it/s]\n",
      "Training Epoch 977: 100%|██████████| 261/261 [00:09<00:00, 28.16it/s]\n",
      "Training Epoch 978: 100%|██████████| 261/261 [00:09<00:00, 28.29it/s]\n",
      "Training Epoch 979: 100%|██████████| 261/261 [00:09<00:00, 27.65it/s]\n",
      "Training Epoch 980: 100%|██████████| 261/261 [00:09<00:00, 28.20it/s]\n",
      "Training Epoch 981: 100%|██████████| 261/261 [00:09<00:00, 27.96it/s]\n"
     ]
    },
    {
     "name": "stdout",
     "output_type": "stream",
     "text": [
      "Epoch 980 - Train Loss: 0.0565, Train MSE: 0.0565, Train MAE: 0.1651\n",
      "Epoch 980 - Validation Loss: 1.6853, Validation MSE: 1.6869, Validation MAE: 0.9251\n"
     ]
    },
    {
     "name": "stderr",
     "output_type": "stream",
     "text": [
      "Training Epoch 982: 100%|██████████| 261/261 [00:09<00:00, 28.14it/s]\n",
      "Training Epoch 983: 100%|██████████| 261/261 [00:08<00:00, 30.25it/s]\n",
      "Training Epoch 984: 100%|██████████| 261/261 [00:08<00:00, 31.34it/s]\n",
      "Training Epoch 985: 100%|██████████| 261/261 [00:08<00:00, 32.55it/s]\n",
      "Training Epoch 986: 100%|██████████| 261/261 [00:08<00:00, 31.85it/s]\n",
      "Training Epoch 987: 100%|██████████| 261/261 [00:08<00:00, 29.75it/s]\n",
      "Training Epoch 988: 100%|██████████| 261/261 [00:08<00:00, 30.40it/s]\n",
      "Training Epoch 989: 100%|██████████| 261/261 [00:08<00:00, 31.05it/s]\n",
      "Training Epoch 990: 100%|██████████| 261/261 [00:08<00:00, 32.50it/s]\n",
      "Training Epoch 991: 100%|██████████| 261/261 [00:08<00:00, 32.12it/s]\n"
     ]
    },
    {
     "name": "stdout",
     "output_type": "stream",
     "text": [
      "Epoch 990 - Train Loss: 0.0509, Train MSE: 0.0509, Train MAE: 0.1578\n",
      "Epoch 990 - Validation Loss: 1.6831, Validation MSE: 1.6848, Validation MAE: 0.9229\n"
     ]
    },
    {
     "name": "stderr",
     "output_type": "stream",
     "text": [
      "Training Epoch 992: 100%|██████████| 261/261 [00:07<00:00, 32.76it/s]\n",
      "Training Epoch 993: 100%|██████████| 261/261 [00:08<00:00, 31.44it/s]\n",
      "Training Epoch 994: 100%|██████████| 261/261 [00:08<00:00, 30.35it/s]\n",
      "Training Epoch 995: 100%|██████████| 261/261 [00:08<00:00, 31.21it/s]\n",
      "Training Epoch 996: 100%|██████████| 261/261 [00:08<00:00, 32.45it/s]\n",
      "Training Epoch 997: 100%|██████████| 261/261 [00:08<00:00, 31.54it/s]\n",
      "Training Epoch 998: 100%|██████████| 261/261 [00:08<00:00, 31.94it/s]\n",
      "Training Epoch 999: 100%|██████████| 261/261 [00:08<00:00, 31.97it/s]\n",
      "Training Epoch 1000: 100%|██████████| 261/261 [00:07<00:00, 32.68it/s]\n",
      "Training Epoch 1001: 100%|██████████| 261/261 [00:08<00:00, 30.64it/s]\n"
     ]
    },
    {
     "name": "stdout",
     "output_type": "stream",
     "text": [
      "Epoch 1000 - Train Loss: 0.0549, Train MSE: 0.0549, Train MAE: 0.1647\n",
      "Epoch 1000 - Validation Loss: 1.7220, Validation MSE: 1.7235, Validation MAE: 0.9297\n"
     ]
    },
    {
     "name": "stderr",
     "output_type": "stream",
     "text": [
      "Training Epoch 1002: 100%|██████████| 261/261 [00:08<00:00, 30.91it/s]\n",
      "Training Epoch 1003: 100%|██████████| 261/261 [00:08<00:00, 30.82it/s]\n",
      "Training Epoch 1004: 100%|██████████| 261/261 [00:08<00:00, 31.75it/s]\n",
      "Training Epoch 1005: 100%|██████████| 261/261 [00:08<00:00, 32.04it/s]\n",
      "Training Epoch 1006: 100%|██████████| 261/261 [00:08<00:00, 31.47it/s]\n",
      "Training Epoch 1007: 100%|██████████| 261/261 [00:08<00:00, 31.75it/s]\n",
      "Training Epoch 1008: 100%|██████████| 261/261 [00:08<00:00, 30.14it/s]\n",
      "Training Epoch 1009: 100%|██████████| 261/261 [00:08<00:00, 31.80it/s]\n",
      "Training Epoch 1010: 100%|██████████| 261/261 [00:08<00:00, 31.98it/s]\n",
      "Training Epoch 1011: 100%|██████████| 261/261 [00:08<00:00, 31.73it/s]\n"
     ]
    },
    {
     "name": "stdout",
     "output_type": "stream",
     "text": [
      "Epoch 1010 - Train Loss: 0.0541, Train MSE: 0.0541, Train MAE: 0.1634\n",
      "Epoch 1010 - Validation Loss: 1.6811, Validation MSE: 1.6829, Validation MAE: 0.9225\n"
     ]
    },
    {
     "name": "stderr",
     "output_type": "stream",
     "text": [
      "Training Epoch 1012: 100%|██████████| 261/261 [00:08<00:00, 31.16it/s]\n",
      "Training Epoch 1013: 100%|██████████| 261/261 [00:08<00:00, 31.91it/s]\n",
      "Training Epoch 1014: 100%|██████████| 261/261 [00:08<00:00, 31.36it/s]\n",
      "Training Epoch 1015: 100%|██████████| 261/261 [00:08<00:00, 30.32it/s]\n",
      "Training Epoch 1016: 100%|██████████| 261/261 [00:08<00:00, 32.27it/s]\n",
      "Training Epoch 1017: 100%|██████████| 261/261 [00:08<00:00, 29.66it/s]\n",
      "Training Epoch 1018: 100%|██████████| 261/261 [00:09<00:00, 28.84it/s]\n",
      "Training Epoch 1019: 100%|██████████| 261/261 [00:08<00:00, 30.27it/s]\n",
      "Training Epoch 1020: 100%|██████████| 261/261 [00:08<00:00, 32.09it/s]\n",
      "Training Epoch 1021: 100%|██████████| 261/261 [00:08<00:00, 29.44it/s]\n"
     ]
    },
    {
     "name": "stdout",
     "output_type": "stream",
     "text": [
      "Epoch 1020 - Train Loss: 0.0525, Train MSE: 0.0525, Train MAE: 0.1590\n",
      "Epoch 1020 - Validation Loss: 1.6854, Validation MSE: 1.6870, Validation MAE: 0.9264\n"
     ]
    },
    {
     "name": "stderr",
     "output_type": "stream",
     "text": [
      "Training Epoch 1022: 100%|██████████| 261/261 [00:08<00:00, 30.48it/s]\n",
      "Training Epoch 1023: 100%|██████████| 261/261 [00:08<00:00, 31.42it/s]\n",
      "Training Epoch 1024: 100%|██████████| 261/261 [00:08<00:00, 30.62it/s]\n",
      "Training Epoch 1025: 100%|██████████| 261/261 [00:08<00:00, 31.72it/s]\n",
      "Training Epoch 1026: 100%|██████████| 261/261 [00:08<00:00, 32.28it/s]\n",
      "Training Epoch 1027: 100%|██████████| 261/261 [00:08<00:00, 31.86it/s]\n",
      "Training Epoch 1028: 100%|██████████| 261/261 [00:08<00:00, 29.22it/s]\n",
      "Training Epoch 1029: 100%|██████████| 261/261 [00:08<00:00, 31.23it/s]\n",
      "Training Epoch 1030: 100%|██████████| 261/261 [00:08<00:00, 31.07it/s]\n",
      "Training Epoch 1031: 100%|██████████| 261/261 [00:08<00:00, 31.54it/s]\n"
     ]
    },
    {
     "name": "stdout",
     "output_type": "stream",
     "text": [
      "Epoch 1030 - Train Loss: 0.0496, Train MSE: 0.0496, Train MAE: 0.1555\n",
      "Epoch 1030 - Validation Loss: 1.6876, Validation MSE: 1.6895, Validation MAE: 0.9266\n"
     ]
    },
    {
     "name": "stderr",
     "output_type": "stream",
     "text": [
      "Training Epoch 1032: 100%|██████████| 261/261 [00:08<00:00, 30.95it/s]\n",
      "Training Epoch 1033: 100%|██████████| 261/261 [00:08<00:00, 31.36it/s]\n",
      "Training Epoch 1034: 100%|██████████| 261/261 [00:08<00:00, 31.93it/s]\n",
      "Training Epoch 1035: 100%|██████████| 261/261 [00:08<00:00, 29.77it/s]\n",
      "Training Epoch 1036: 100%|██████████| 261/261 [00:09<00:00, 27.86it/s]\n",
      "Training Epoch 1037: 100%|██████████| 261/261 [00:08<00:00, 30.73it/s]\n",
      "Training Epoch 1038: 100%|██████████| 261/261 [00:08<00:00, 31.49it/s]\n",
      "Training Epoch 1039: 100%|██████████| 261/261 [00:08<00:00, 31.02it/s]\n",
      "Training Epoch 1040: 100%|██████████| 261/261 [00:08<00:00, 30.57it/s]\n",
      "Training Epoch 1041: 100%|██████████| 261/261 [00:08<00:00, 31.75it/s]\n"
     ]
    },
    {
     "name": "stdout",
     "output_type": "stream",
     "text": [
      "Epoch 1040 - Train Loss: 0.0502, Train MSE: 0.0502, Train MAE: 0.1580\n",
      "Epoch 1040 - Validation Loss: 1.6857, Validation MSE: 1.6873, Validation MAE: 0.9240\n"
     ]
    },
    {
     "name": "stderr",
     "output_type": "stream",
     "text": [
      "Training Epoch 1042: 100%|██████████| 261/261 [00:08<00:00, 30.52it/s]\n",
      "Training Epoch 1043: 100%|██████████| 261/261 [00:09<00:00, 28.83it/s]\n",
      "Training Epoch 1044: 100%|██████████| 261/261 [00:08<00:00, 30.53it/s]\n",
      "Training Epoch 1045: 100%|██████████| 261/261 [00:16<00:00, 16.09it/s]\n",
      "Training Epoch 1046: 100%|██████████| 261/261 [00:30<00:00,  8.52it/s]\n",
      "Training Epoch 1047: 100%|██████████| 261/261 [00:27<00:00,  9.43it/s]\n",
      "Training Epoch 1048: 100%|██████████| 261/261 [00:16<00:00, 15.66it/s]\n",
      "Training Epoch 1049: 100%|██████████| 261/261 [00:09<00:00, 28.99it/s]\n",
      "Training Epoch 1050: 100%|██████████| 261/261 [00:08<00:00, 29.99it/s]\n",
      "Training Epoch 1051: 100%|██████████| 261/261 [00:08<00:00, 30.05it/s]\n"
     ]
    },
    {
     "name": "stdout",
     "output_type": "stream",
     "text": [
      "Epoch 1050 - Train Loss: 0.0513, Train MSE: 0.0513, Train MAE: 0.1572\n",
      "Epoch 1050 - Validation Loss: 1.6691, Validation MSE: 1.6707, Validation MAE: 0.9212\n"
     ]
    },
    {
     "name": "stderr",
     "output_type": "stream",
     "text": [
      "Training Epoch 1052: 100%|██████████| 261/261 [00:08<00:00, 29.49it/s]\n",
      "Training Epoch 1053: 100%|██████████| 261/261 [00:08<00:00, 29.84it/s]\n",
      "Training Epoch 1054: 100%|██████████| 261/261 [00:25<00:00, 10.41it/s]\n",
      "Training Epoch 1055: 100%|██████████| 261/261 [00:28<00:00,  9.09it/s]\n",
      "Training Epoch 1056: 100%|██████████| 261/261 [00:27<00:00,  9.35it/s]\n",
      "Training Epoch 1057: 100%|██████████| 261/261 [00:28<00:00,  9.16it/s]\n",
      "Training Epoch 1058: 100%|██████████| 261/261 [00:21<00:00, 12.09it/s]\n",
      "Training Epoch 1059: 100%|██████████| 261/261 [00:09<00:00, 26.93it/s]\n",
      "Training Epoch 1060: 100%|██████████| 261/261 [00:14<00:00, 18.49it/s]\n",
      "Training Epoch 1061: 100%|██████████| 261/261 [00:26<00:00,  9.76it/s]\n"
     ]
    },
    {
     "name": "stdout",
     "output_type": "stream",
     "text": [
      "Epoch 1060 - Train Loss: 0.0491, Train MSE: 0.0491, Train MAE: 0.1554\n",
      "Epoch 1060 - Validation Loss: 1.6906, Validation MSE: 1.6924, Validation MAE: 0.9198\n"
     ]
    },
    {
     "name": "stderr",
     "output_type": "stream",
     "text": [
      "Training Epoch 1062: 100%|██████████| 261/261 [00:29<00:00,  8.92it/s]\n",
      "Training Epoch 1063: 100%|██████████| 261/261 [00:27<00:00,  9.34it/s]\n",
      "Training Epoch 1064: 100%|██████████| 261/261 [00:15<00:00, 17.40it/s]\n",
      "Training Epoch 1065: 100%|██████████| 261/261 [00:13<00:00, 19.62it/s]\n",
      "Training Epoch 1066: 100%|██████████| 261/261 [00:27<00:00,  9.36it/s]\n",
      "Training Epoch 1067: 100%|██████████| 261/261 [00:28<00:00,  9.09it/s]\n",
      "Training Epoch 1068: 100%|██████████| 261/261 [00:14<00:00, 18.28it/s]\n",
      "Training Epoch 1069: 100%|██████████| 261/261 [00:27<00:00,  9.38it/s]\n",
      "Training Epoch 1070: 100%|██████████| 261/261 [00:27<00:00,  9.42it/s]\n",
      "Training Epoch 1071: 100%|██████████| 261/261 [00:27<00:00,  9.45it/s]\n"
     ]
    },
    {
     "name": "stdout",
     "output_type": "stream",
     "text": [
      "Epoch 1070 - Train Loss: 0.0526, Train MSE: 0.0525, Train MAE: 0.1602\n",
      "Epoch 1070 - Validation Loss: 1.6666, Validation MSE: 1.6685, Validation MAE: 0.9185\n"
     ]
    },
    {
     "name": "stderr",
     "output_type": "stream",
     "text": [
      "Training Epoch 1072: 100%|██████████| 261/261 [00:27<00:00,  9.35it/s]\n",
      "Training Epoch 1073: 100%|██████████| 261/261 [00:29<00:00,  8.72it/s]\n",
      "Training Epoch 1074: 100%|██████████| 261/261 [00:28<00:00,  9.17it/s]\n",
      "Training Epoch 1075: 100%|██████████| 261/261 [00:27<00:00,  9.59it/s]\n",
      "Training Epoch 1076: 100%|██████████| 261/261 [00:20<00:00, 12.50it/s]\n",
      "Training Epoch 1077: 100%|██████████| 261/261 [00:14<00:00, 18.10it/s]\n",
      "Training Epoch 1078: 100%|██████████| 261/261 [00:30<00:00,  8.68it/s]\n",
      "Training Epoch 1079: 100%|██████████| 261/261 [00:29<00:00,  8.78it/s]\n",
      "Training Epoch 1080: 100%|██████████| 261/261 [00:29<00:00,  8.88it/s]\n",
      "Training Epoch 1081: 100%|██████████| 261/261 [00:26<00:00,  9.87it/s]\n"
     ]
    },
    {
     "name": "stdout",
     "output_type": "stream",
     "text": [
      "Epoch 1080 - Train Loss: 0.0510, Train MSE: 0.0510, Train MAE: 0.1552\n",
      "Epoch 1080 - Validation Loss: 1.6950, Validation MSE: 1.6967, Validation MAE: 0.9275\n"
     ]
    },
    {
     "name": "stderr",
     "output_type": "stream",
     "text": [
      "Training Epoch 1082: 100%|██████████| 261/261 [00:29<00:00,  8.95it/s]\n",
      "Training Epoch 1083: 100%|██████████| 261/261 [00:29<00:00,  8.88it/s]\n",
      "Training Epoch 1084: 100%|██████████| 261/261 [00:20<00:00, 12.66it/s]\n",
      "Training Epoch 1085: 100%|██████████| 261/261 [00:24<00:00, 10.55it/s]\n",
      "Training Epoch 1086: 100%|██████████| 261/261 [00:28<00:00,  9.31it/s]\n",
      "Training Epoch 1087: 100%|██████████| 261/261 [00:29<00:00,  8.81it/s]\n",
      "Training Epoch 1088: 100%|██████████| 261/261 [00:23<00:00, 11.31it/s]\n",
      "Training Epoch 1089: 100%|██████████| 261/261 [00:19<00:00, 13.53it/s]\n",
      "Training Epoch 1090: 100%|██████████| 261/261 [00:10<00:00, 24.33it/s]\n",
      "Training Epoch 1091: 100%|██████████| 261/261 [00:11<00:00, 22.75it/s]\n"
     ]
    },
    {
     "name": "stdout",
     "output_type": "stream",
     "text": [
      "Epoch 1090 - Train Loss: 0.0525, Train MSE: 0.0525, Train MAE: 0.1588\n",
      "Epoch 1090 - Validation Loss: 1.7148, Validation MSE: 1.7164, Validation MAE: 0.9320\n"
     ]
    },
    {
     "name": "stderr",
     "output_type": "stream",
     "text": [
      "Training Epoch 1092: 100%|██████████| 261/261 [00:11<00:00, 22.63it/s]\n",
      "Training Epoch 1093: 100%|██████████| 261/261 [00:12<00:00, 21.10it/s]\n",
      "Training Epoch 1094: 100%|██████████| 261/261 [00:11<00:00, 22.36it/s]\n",
      "Training Epoch 1095: 100%|██████████| 261/261 [00:12<00:00, 21.34it/s]\n",
      "Training Epoch 1096: 100%|██████████| 261/261 [00:11<00:00, 23.40it/s]\n",
      "Training Epoch 1097: 100%|██████████| 261/261 [00:12<00:00, 21.19it/s]\n",
      "Training Epoch 1098: 100%|██████████| 261/261 [00:13<00:00, 19.29it/s]\n",
      "Training Epoch 1099: 100%|██████████| 261/261 [00:11<00:00, 23.70it/s]\n",
      "Training Epoch 1100: 100%|██████████| 261/261 [00:12<00:00, 21.36it/s]\n",
      "Training Epoch 1101: 100%|██████████| 261/261 [00:11<00:00, 23.36it/s]\n"
     ]
    },
    {
     "name": "stdout",
     "output_type": "stream",
     "text": [
      "Epoch 1100 - Train Loss: 0.0524, Train MSE: 0.0524, Train MAE: 0.1564\n",
      "Epoch 1100 - Validation Loss: 1.6740, Validation MSE: 1.6756, Validation MAE: 0.9220\n"
     ]
    },
    {
     "name": "stderr",
     "output_type": "stream",
     "text": [
      "Training Epoch 1102: 100%|██████████| 261/261 [00:10<00:00, 23.98it/s]\n",
      "Training Epoch 1103: 100%|██████████| 261/261 [00:12<00:00, 20.48it/s]\n",
      "Training Epoch 1104: 100%|██████████| 261/261 [00:11<00:00, 22.41it/s]\n",
      "Training Epoch 1105: 100%|██████████| 261/261 [00:12<00:00, 20.69it/s]\n",
      "Training Epoch 1106: 100%|██████████| 261/261 [00:11<00:00, 22.36it/s]\n",
      "Training Epoch 1107: 100%|██████████| 261/261 [00:11<00:00, 21.80it/s]\n",
      "Training Epoch 1108: 100%|██████████| 261/261 [00:11<00:00, 23.66it/s]\n",
      "Training Epoch 1109: 100%|██████████| 261/261 [00:12<00:00, 21.21it/s]\n",
      "Training Epoch 1110: 100%|██████████| 261/261 [00:11<00:00, 22.38it/s]\n",
      "Training Epoch 1111: 100%|██████████| 261/261 [00:10<00:00, 24.68it/s]\n"
     ]
    },
    {
     "name": "stdout",
     "output_type": "stream",
     "text": [
      "Epoch 1110 - Train Loss: 0.0493, Train MSE: 0.0493, Train MAE: 0.1537\n",
      "Epoch 1110 - Validation Loss: 1.6928, Validation MSE: 1.6946, Validation MAE: 0.9246\n"
     ]
    },
    {
     "name": "stderr",
     "output_type": "stream",
     "text": [
      "Training Epoch 1112: 100%|██████████| 261/261 [00:10<00:00, 23.85it/s]\n",
      "Training Epoch 1113: 100%|██████████| 261/261 [00:11<00:00, 22.56it/s]\n",
      "Training Epoch 1114: 100%|██████████| 261/261 [00:11<00:00, 22.97it/s]\n",
      "Training Epoch 1115: 100%|██████████| 261/261 [00:10<00:00, 23.77it/s]\n",
      "Training Epoch 1116: 100%|██████████| 261/261 [00:11<00:00, 23.32it/s]\n",
      "Training Epoch 1117: 100%|██████████| 261/261 [00:10<00:00, 23.85it/s]\n",
      "Training Epoch 1118: 100%|██████████| 261/261 [00:12<00:00, 21.25it/s]\n",
      "Training Epoch 1119: 100%|██████████| 261/261 [00:11<00:00, 23.20it/s]\n",
      "Training Epoch 1120: 100%|██████████| 261/261 [00:12<00:00, 21.25it/s]\n",
      "Training Epoch 1121: 100%|██████████| 261/261 [00:10<00:00, 23.81it/s]\n"
     ]
    },
    {
     "name": "stdout",
     "output_type": "stream",
     "text": [
      "Epoch 1120 - Train Loss: 0.0516, Train MSE: 0.0516, Train MAE: 0.1584\n",
      "Epoch 1120 - Validation Loss: 1.7006, Validation MSE: 1.7024, Validation MAE: 0.9211\n"
     ]
    },
    {
     "name": "stderr",
     "output_type": "stream",
     "text": [
      "Training Epoch 1122: 100%|██████████| 261/261 [00:11<00:00, 22.95it/s]\n",
      "Training Epoch 1123: 100%|██████████| 261/261 [00:12<00:00, 20.74it/s]\n",
      "Training Epoch 1124: 100%|██████████| 261/261 [00:11<00:00, 23.06it/s]\n",
      "Training Epoch 1125: 100%|██████████| 261/261 [00:11<00:00, 23.43it/s]\n",
      "Training Epoch 1126: 100%|██████████| 261/261 [00:12<00:00, 20.96it/s]\n",
      "Training Epoch 1127: 100%|██████████| 261/261 [00:11<00:00, 23.32it/s]\n",
      "Training Epoch 1128: 100%|██████████| 261/261 [00:11<00:00, 22.02it/s]\n",
      "Training Epoch 1129: 100%|██████████| 261/261 [00:11<00:00, 23.20it/s]\n",
      "Training Epoch 1130: 100%|██████████| 261/261 [00:12<00:00, 20.91it/s]\n",
      "Training Epoch 1131: 100%|██████████| 261/261 [00:11<00:00, 23.42it/s]\n"
     ]
    },
    {
     "name": "stdout",
     "output_type": "stream",
     "text": [
      "Epoch 1130 - Train Loss: 0.0519, Train MSE: 0.0519, Train MAE: 0.1567\n",
      "Epoch 1130 - Validation Loss: 1.6657, Validation MSE: 1.6674, Validation MAE: 0.9137\n"
     ]
    },
    {
     "name": "stderr",
     "output_type": "stream",
     "text": [
      "Training Epoch 1132: 100%|██████████| 261/261 [00:11<00:00, 22.64it/s]\n",
      "Training Epoch 1133: 100%|██████████| 261/261 [00:12<00:00, 21.61it/s]\n",
      "Training Epoch 1134: 100%|██████████| 261/261 [00:11<00:00, 23.04it/s]\n",
      "Training Epoch 1135: 100%|██████████| 261/261 [00:12<00:00, 21.44it/s]\n",
      "Training Epoch 1136: 100%|██████████| 261/261 [00:11<00:00, 22.27it/s]\n",
      "Training Epoch 1137: 100%|██████████| 261/261 [00:11<00:00, 22.57it/s]\n",
      "Training Epoch 1138: 100%|██████████| 261/261 [00:13<00:00, 18.65it/s]\n",
      "Training Epoch 1139: 100%|██████████| 261/261 [00:13<00:00, 19.70it/s]\n",
      "Training Epoch 1140: 100%|██████████| 261/261 [00:11<00:00, 22.62it/s]\n",
      "Training Epoch 1141: 100%|██████████| 261/261 [00:11<00:00, 21.80it/s]\n"
     ]
    },
    {
     "name": "stdout",
     "output_type": "stream",
     "text": [
      "Epoch 1140 - Train Loss: 0.0502, Train MSE: 0.0502, Train MAE: 0.1554\n",
      "Epoch 1140 - Validation Loss: 1.7078, Validation MSE: 1.7097, Validation MAE: 0.9231\n"
     ]
    },
    {
     "name": "stderr",
     "output_type": "stream",
     "text": [
      "Training Epoch 1142: 100%|██████████| 261/261 [00:12<00:00, 21.58it/s]\n",
      "Training Epoch 1143: 100%|██████████| 261/261 [00:11<00:00, 21.88it/s]\n",
      "Training Epoch 1144: 100%|██████████| 261/261 [00:12<00:00, 20.70it/s]\n",
      "Training Epoch 1145: 100%|██████████| 261/261 [00:11<00:00, 22.05it/s]\n",
      "Training Epoch 1146: 100%|██████████| 261/261 [00:11<00:00, 22.56it/s]\n",
      "Training Epoch 1147: 100%|██████████| 261/261 [00:13<00:00, 19.31it/s]\n",
      "Training Epoch 1148: 100%|██████████| 261/261 [00:11<00:00, 22.05it/s]\n",
      "Training Epoch 1149: 100%|██████████| 261/261 [00:11<00:00, 22.57it/s]\n",
      "Training Epoch 1150: 100%|██████████| 261/261 [00:12<00:00, 21.11it/s]\n",
      "Training Epoch 1151: 100%|██████████| 261/261 [00:11<00:00, 22.40it/s]\n"
     ]
    },
    {
     "name": "stdout",
     "output_type": "stream",
     "text": [
      "Epoch 1150 - Train Loss: 0.0535, Train MSE: 0.0535, Train MAE: 0.1588\n",
      "Epoch 1150 - Validation Loss: 1.7005, Validation MSE: 1.7022, Validation MAE: 0.9188\n"
     ]
    },
    {
     "name": "stderr",
     "output_type": "stream",
     "text": [
      "Training Epoch 1152: 100%|██████████| 261/261 [00:13<00:00, 18.85it/s]\n",
      "Training Epoch 1153: 100%|██████████| 261/261 [00:12<00:00, 21.63it/s]\n",
      "Training Epoch 1154: 100%|██████████| 261/261 [00:12<00:00, 20.47it/s]\n",
      "Training Epoch 1155: 100%|██████████| 261/261 [00:11<00:00, 22.71it/s]\n",
      "Training Epoch 1156: 100%|██████████| 261/261 [00:12<00:00, 21.49it/s]\n",
      "Training Epoch 1157: 100%|██████████| 261/261 [00:11<00:00, 22.40it/s]\n",
      "Training Epoch 1158: 100%|██████████| 261/261 [00:12<00:00, 21.02it/s]\n",
      "Training Epoch 1159: 100%|██████████| 261/261 [00:12<00:00, 21.26it/s]\n",
      "Training Epoch 1160: 100%|██████████| 261/261 [00:11<00:00, 22.53it/s]\n",
      "Training Epoch 1161: 100%|██████████| 261/261 [00:12<00:00, 21.20it/s]\n"
     ]
    },
    {
     "name": "stdout",
     "output_type": "stream",
     "text": [
      "Epoch 1160 - Train Loss: 0.0520, Train MSE: 0.0520, Train MAE: 0.1570\n",
      "Epoch 1160 - Validation Loss: 1.6859, Validation MSE: 1.6877, Validation MAE: 0.9251\n"
     ]
    },
    {
     "name": "stderr",
     "output_type": "stream",
     "text": [
      "Training Epoch 1162: 100%|██████████| 261/261 [00:11<00:00, 22.66it/s]\n",
      "Training Epoch 1163: 100%|██████████| 261/261 [00:11<00:00, 22.45it/s]\n",
      "Training Epoch 1164: 100%|██████████| 261/261 [00:11<00:00, 22.13it/s]\n",
      "Training Epoch 1165: 100%|██████████| 261/261 [00:11<00:00, 23.24it/s]\n",
      "Training Epoch 1166: 100%|██████████| 261/261 [00:12<00:00, 20.71it/s]\n",
      "Training Epoch 1167: 100%|██████████| 261/261 [00:12<00:00, 21.60it/s]\n",
      "Training Epoch 1168: 100%|██████████| 261/261 [00:12<00:00, 20.49it/s]\n",
      "Training Epoch 1169: 100%|██████████| 261/261 [00:11<00:00, 22.08it/s]\n",
      "Training Epoch 1170: 100%|██████████| 261/261 [00:14<00:00, 18.37it/s]\n",
      "Training Epoch 1171: 100%|██████████| 261/261 [00:14<00:00, 17.63it/s]\n"
     ]
    },
    {
     "name": "stdout",
     "output_type": "stream",
     "text": [
      "Epoch 1170 - Train Loss: 0.0499, Train MSE: 0.0499, Train MAE: 0.1537\n",
      "Epoch 1170 - Validation Loss: 1.6729, Validation MSE: 1.6747, Validation MAE: 0.9171\n"
     ]
    },
    {
     "name": "stderr",
     "output_type": "stream",
     "text": [
      "Training Epoch 1172: 100%|██████████| 261/261 [00:11<00:00, 21.89it/s]\n",
      "Training Epoch 1173: 100%|██████████| 261/261 [00:11<00:00, 22.36it/s]\n",
      "Training Epoch 1174: 100%|██████████| 261/261 [00:12<00:00, 20.45it/s]\n",
      "Training Epoch 1175: 100%|██████████| 261/261 [00:12<00:00, 20.77it/s]\n",
      "Training Epoch 1176: 100%|██████████| 261/261 [00:15<00:00, 17.29it/s]\n",
      "Training Epoch 1177: 100%|██████████| 261/261 [00:11<00:00, 22.05it/s]\n",
      "Training Epoch 1178: 100%|██████████| 261/261 [00:11<00:00, 22.11it/s]\n",
      "Training Epoch 1179: 100%|██████████| 261/261 [00:12<00:00, 21.75it/s]\n",
      "Training Epoch 1180: 100%|██████████| 261/261 [15:26<00:00,  3.55s/it]   \n",
      "Training Epoch 1181: 100%|██████████| 261/261 [00:08<00:00, 29.82it/s]\n"
     ]
    },
    {
     "name": "stdout",
     "output_type": "stream",
     "text": [
      "Epoch 1180 - Train Loss: 0.0484, Train MSE: 0.0484, Train MAE: 0.1503\n",
      "Epoch 1180 - Validation Loss: 1.6483, Validation MSE: 1.6500, Validation MAE: 0.9121\n"
     ]
    },
    {
     "name": "stderr",
     "output_type": "stream",
     "text": [
      "Training Epoch 1182: 100%|██████████| 261/261 [00:08<00:00, 31.28it/s]\n",
      "Training Epoch 1183: 100%|██████████| 261/261 [00:08<00:00, 29.24it/s]\n",
      "Training Epoch 1184: 100%|██████████| 261/261 [00:08<00:00, 30.90it/s]\n",
      "Training Epoch 1185: 100%|██████████| 261/261 [00:08<00:00, 32.29it/s]\n",
      "Training Epoch 1186: 100%|██████████| 261/261 [00:08<00:00, 31.16it/s]\n",
      "Training Epoch 1187: 100%|██████████| 261/261 [00:08<00:00, 30.81it/s]\n",
      "Training Epoch 1188: 100%|██████████| 261/261 [00:08<00:00, 30.69it/s]\n",
      "Training Epoch 1189: 100%|██████████| 261/261 [00:08<00:00, 30.95it/s]\n",
      "Training Epoch 1190: 100%|██████████| 261/261 [00:08<00:00, 32.61it/s]\n",
      "Training Epoch 1191: 100%|██████████| 261/261 [00:08<00:00, 32.02it/s]\n"
     ]
    },
    {
     "name": "stdout",
     "output_type": "stream",
     "text": [
      "Epoch 1190 - Train Loss: 0.0511, Train MSE: 0.0511, Train MAE: 0.1556\n",
      "Epoch 1190 - Validation Loss: 1.6301, Validation MSE: 1.6317, Validation MAE: 0.9170\n"
     ]
    },
    {
     "name": "stderr",
     "output_type": "stream",
     "text": [
      "Training Epoch 1192: 100%|██████████| 261/261 [00:08<00:00, 31.05it/s]\n",
      "Training Epoch 1193: 100%|██████████| 261/261 [00:08<00:00, 29.13it/s]\n",
      "Training Epoch 1194: 100%|██████████| 261/261 [00:08<00:00, 30.37it/s]\n",
      "Training Epoch 1195: 100%|██████████| 261/261 [00:08<00:00, 30.57it/s]\n",
      "Training Epoch 1196: 100%|██████████| 261/261 [00:08<00:00, 32.59it/s]\n",
      "Training Epoch 1197: 100%|██████████| 261/261 [00:08<00:00, 31.54it/s]\n",
      "Training Epoch 1198: 100%|██████████| 261/261 [00:08<00:00, 31.51it/s]\n",
      "Training Epoch 1199: 100%|██████████| 261/261 [00:08<00:00, 32.24it/s]\n",
      "Training Epoch 1200: 100%|██████████| 261/261 [00:08<00:00, 30.95it/s]\n",
      "Training Epoch 1201: 100%|██████████| 261/261 [00:08<00:00, 30.60it/s]\n"
     ]
    },
    {
     "name": "stdout",
     "output_type": "stream",
     "text": [
      "Epoch 1200 - Train Loss: 0.0461, Train MSE: 0.0461, Train MAE: 0.1496\n",
      "Epoch 1200 - Validation Loss: 1.6803, Validation MSE: 1.6821, Validation MAE: 0.9239\n"
     ]
    },
    {
     "name": "stderr",
     "output_type": "stream",
     "text": [
      "Training Epoch 1202: 100%|██████████| 261/261 [00:08<00:00, 29.52it/s]\n",
      "Training Epoch 1203: 100%|██████████| 261/261 [00:08<00:00, 30.28it/s]\n",
      "Training Epoch 1204: 100%|██████████| 261/261 [00:08<00:00, 31.51it/s]\n",
      "Training Epoch 1205: 100%|██████████| 261/261 [00:08<00:00, 32.48it/s]\n",
      "Training Epoch 1206: 100%|██████████| 261/261 [00:08<00:00, 30.96it/s]\n",
      "Training Epoch 1207: 100%|██████████| 261/261 [00:08<00:00, 30.34it/s]\n",
      "Training Epoch 1208: 100%|██████████| 261/261 [00:08<00:00, 29.94it/s]\n",
      "Training Epoch 1209: 100%|██████████| 261/261 [00:08<00:00, 30.18it/s]\n",
      "Training Epoch 1210: 100%|██████████| 261/261 [00:08<00:00, 30.07it/s]\n",
      "Training Epoch 1211: 100%|██████████| 261/261 [00:08<00:00, 31.38it/s]\n"
     ]
    },
    {
     "name": "stdout",
     "output_type": "stream",
     "text": [
      "Epoch 1210 - Train Loss: 0.0488, Train MSE: 0.0488, Train MAE: 0.1523\n",
      "Epoch 1210 - Validation Loss: 1.7083, Validation MSE: 1.7101, Validation MAE: 0.9249\n"
     ]
    },
    {
     "name": "stderr",
     "output_type": "stream",
     "text": [
      "Training Epoch 1212: 100%|██████████| 261/261 [00:08<00:00, 31.91it/s]\n",
      "Training Epoch 1213: 100%|██████████| 261/261 [00:08<00:00, 30.63it/s]\n",
      "Training Epoch 1214: 100%|██████████| 261/261 [00:08<00:00, 30.14it/s]\n",
      "Training Epoch 1215: 100%|██████████| 261/261 [00:08<00:00, 29.87it/s]\n",
      "Training Epoch 1216: 100%|██████████| 261/261 [00:08<00:00, 29.59it/s]\n",
      "Training Epoch 1217: 100%|██████████| 261/261 [00:07<00:00, 32.63it/s]\n",
      "Training Epoch 1218: 100%|██████████| 261/261 [00:08<00:00, 30.43it/s]\n",
      "Training Epoch 1219: 100%|██████████| 261/261 [00:08<00:00, 31.76it/s]\n",
      "Training Epoch 1220: 100%|██████████| 261/261 [00:08<00:00, 30.52it/s]\n",
      "Training Epoch 1221: 100%|██████████| 261/261 [00:08<00:00, 31.43it/s]\n"
     ]
    },
    {
     "name": "stdout",
     "output_type": "stream",
     "text": [
      "Epoch 1220 - Train Loss: 0.0520, Train MSE: 0.0520, Train MAE: 0.1578\n",
      "Epoch 1220 - Validation Loss: 1.6703, Validation MSE: 1.6719, Validation MAE: 0.9251\n"
     ]
    },
    {
     "name": "stderr",
     "output_type": "stream",
     "text": [
      "Training Epoch 1222: 100%|██████████| 261/261 [00:09<00:00, 28.65it/s]\n",
      "Training Epoch 1223: 100%|██████████| 261/261 [00:08<00:00, 29.51it/s]\n",
      "Training Epoch 1224: 100%|██████████| 261/261 [00:08<00:00, 32.21it/s]\n",
      "Training Epoch 1225: 100%|██████████| 261/261 [00:08<00:00, 30.85it/s]\n",
      "Training Epoch 1226: 100%|██████████| 261/261 [00:08<00:00, 31.86it/s]\n",
      "Training Epoch 1227: 100%|██████████| 261/261 [00:08<00:00, 30.27it/s]\n",
      "Training Epoch 1228: 100%|██████████| 261/261 [00:08<00:00, 30.31it/s]\n",
      "Training Epoch 1229: 100%|██████████| 261/261 [00:08<00:00, 29.37it/s]\n",
      "Training Epoch 1230: 100%|██████████| 261/261 [00:08<00:00, 30.77it/s]\n",
      "Training Epoch 1231: 100%|██████████| 261/261 [00:08<00:00, 31.13it/s]\n"
     ]
    },
    {
     "name": "stdout",
     "output_type": "stream",
     "text": [
      "Epoch 1230 - Train Loss: 0.0491, Train MSE: 0.0491, Train MAE: 0.1506\n",
      "Epoch 1230 - Validation Loss: 1.6663, Validation MSE: 1.6680, Validation MAE: 0.9220\n"
     ]
    },
    {
     "name": "stderr",
     "output_type": "stream",
     "text": [
      "Training Epoch 1232: 100%|██████████| 261/261 [00:08<00:00, 32.05it/s]\n",
      "Training Epoch 1233: 100%|██████████| 261/261 [00:08<00:00, 31.22it/s]\n",
      "Training Epoch 1234: 100%|██████████| 261/261 [00:08<00:00, 30.28it/s]\n",
      "Training Epoch 1235: 100%|██████████| 261/261 [15:19<00:00,  3.52s/it]\n",
      "Training Epoch 1236: 100%|██████████| 261/261 [00:08<00:00, 29.27it/s]\n",
      "Training Epoch 1237: 100%|██████████| 261/261 [00:08<00:00, 30.40it/s]\n",
      "Training Epoch 1238: 100%|██████████| 261/261 [00:08<00:00, 31.15it/s]\n",
      "Training Epoch 1239: 100%|██████████| 261/261 [00:08<00:00, 32.06it/s]\n",
      "Training Epoch 1240: 100%|██████████| 261/261 [00:08<00:00, 31.05it/s]\n",
      "Training Epoch 1241: 100%|██████████| 261/261 [15:35<00:00,  3.58s/it]  \n"
     ]
    },
    {
     "name": "stdout",
     "output_type": "stream",
     "text": [
      "Epoch 1240 - Train Loss: 0.0485, Train MSE: 0.0485, Train MAE: 0.1522\n",
      "Epoch 1240 - Validation Loss: 1.6644, Validation MSE: 1.6662, Validation MAE: 0.9216\n"
     ]
    },
    {
     "name": "stderr",
     "output_type": "stream",
     "text": [
      "Training Epoch 1242: 100%|██████████| 261/261 [00:08<00:00, 30.60it/s]\n",
      "Training Epoch 1243: 100%|██████████| 261/261 [00:08<00:00, 31.53it/s]\n",
      "Training Epoch 1244: 100%|██████████| 261/261 [00:08<00:00, 32.43it/s]\n",
      "Training Epoch 1245: 100%|██████████| 261/261 [00:08<00:00, 32.47it/s]\n",
      "Training Epoch 1246: 100%|██████████| 261/261 [00:08<00:00, 31.85it/s]\n",
      "Training Epoch 1247: 100%|██████████| 261/261 [16:36<00:00,  3.82s/it] \n",
      "Training Epoch 1248: 100%|██████████| 261/261 [00:07<00:00, 33.66it/s]\n",
      "Training Epoch 1249: 100%|██████████| 261/261 [00:07<00:00, 33.50it/s]\n",
      "Training Epoch 1250: 100%|██████████| 261/261 [00:08<00:00, 32.36it/s]\n",
      "Training Epoch 1251: 100%|██████████| 261/261 [00:08<00:00, 31.21it/s]\n"
     ]
    },
    {
     "name": "stdout",
     "output_type": "stream",
     "text": [
      "Epoch 1250 - Train Loss: 0.0457, Train MSE: 0.0457, Train MAE: 0.1472\n",
      "Epoch 1250 - Validation Loss: 1.6949, Validation MSE: 1.6966, Validation MAE: 0.9253\n"
     ]
    },
    {
     "name": "stderr",
     "output_type": "stream",
     "text": [
      "Training Epoch 1252: 100%|██████████| 261/261 [00:08<00:00, 31.95it/s]\n",
      "Training Epoch 1253: 100%|██████████| 261/261 [00:08<00:00, 31.85it/s]\n",
      "Training Epoch 1254: 100%|██████████| 261/261 [02:19<00:00,  1.87it/s]\n",
      "Training Epoch 1255: 100%|██████████| 261/261 [00:06<00:00, 40.80it/s]\n",
      "Training Epoch 1256: 100%|██████████| 261/261 [00:05<00:00, 44.35it/s]\n",
      "Training Epoch 1257: 100%|██████████| 261/261 [00:05<00:00, 44.26it/s]\n",
      "Training Epoch 1258: 100%|██████████| 261/261 [00:06<00:00, 43.19it/s]\n",
      "Training Epoch 1259: 100%|██████████| 261/261 [00:05<00:00, 44.70it/s]\n",
      "Training Epoch 1260: 100%|██████████| 261/261 [00:05<00:00, 44.33it/s]\n",
      "Training Epoch 1261: 100%|██████████| 261/261 [00:05<00:00, 44.51it/s]\n"
     ]
    },
    {
     "name": "stdout",
     "output_type": "stream",
     "text": [
      "Epoch 1260 - Train Loss: 0.0487, Train MSE: 0.0487, Train MAE: 0.1526\n",
      "Epoch 1260 - Validation Loss: 1.6683, Validation MSE: 1.6703, Validation MAE: 0.9187\n"
     ]
    },
    {
     "name": "stderr",
     "output_type": "stream",
     "text": [
      "Training Epoch 1262: 100%|██████████| 261/261 [00:06<00:00, 42.22it/s]\n",
      "Training Epoch 1263: 100%|██████████| 261/261 [00:05<00:00, 45.35it/s]\n",
      "Training Epoch 1264: 100%|██████████| 261/261 [00:05<00:00, 44.33it/s]\n",
      "Training Epoch 1265: 100%|██████████| 261/261 [00:05<00:00, 46.42it/s]\n",
      "Training Epoch 1266: 100%|██████████| 261/261 [00:06<00:00, 43.49it/s]\n",
      "Training Epoch 1267: 100%|██████████| 261/261 [00:05<00:00, 43.85it/s]\n",
      "Training Epoch 1268: 100%|██████████| 261/261 [00:05<00:00, 44.48it/s]\n",
      "Training Epoch 1269: 100%|██████████| 261/261 [00:05<00:00, 44.41it/s]\n",
      "Training Epoch 1270: 100%|██████████| 261/261 [00:05<00:00, 43.83it/s]\n",
      "Training Epoch 1271: 100%|██████████| 261/261 [00:06<00:00, 41.44it/s]\n"
     ]
    },
    {
     "name": "stdout",
     "output_type": "stream",
     "text": [
      "Epoch 1270 - Train Loss: 0.0480, Train MSE: 0.0480, Train MAE: 0.1503\n",
      "Epoch 1270 - Validation Loss: 1.6450, Validation MSE: 1.6468, Validation MAE: 0.9148\n"
     ]
    },
    {
     "name": "stderr",
     "output_type": "stream",
     "text": [
      "Training Epoch 1272: 100%|██████████| 261/261 [00:05<00:00, 43.97it/s]\n",
      "Training Epoch 1273: 100%|██████████| 261/261 [00:06<00:00, 39.58it/s]\n",
      "Training Epoch 1274: 100%|██████████| 261/261 [00:06<00:00, 39.79it/s]\n",
      "Training Epoch 1275: 100%|██████████| 261/261 [00:06<00:00, 38.85it/s]\n",
      "Training Epoch 1276: 100%|██████████| 261/261 [00:06<00:00, 42.20it/s]\n",
      "Training Epoch 1277: 100%|██████████| 261/261 [00:06<00:00, 40.59it/s]\n",
      "Training Epoch 1278: 100%|██████████| 261/261 [00:06<00:00, 42.18it/s]\n",
      "Training Epoch 1279: 100%|██████████| 261/261 [00:06<00:00, 41.13it/s]\n",
      "Training Epoch 1280: 100%|██████████| 261/261 [00:06<00:00, 43.12it/s]\n",
      "Training Epoch 1281: 100%|██████████| 261/261 [00:06<00:00, 39.97it/s]\n"
     ]
    },
    {
     "name": "stdout",
     "output_type": "stream",
     "text": [
      "Epoch 1280 - Train Loss: 0.0522, Train MSE: 0.0522, Train MAE: 0.1574\n",
      "Epoch 1280 - Validation Loss: 1.6839, Validation MSE: 1.6857, Validation MAE: 0.9203\n"
     ]
    },
    {
     "name": "stderr",
     "output_type": "stream",
     "text": [
      "Training Epoch 1282: 100%|██████████| 261/261 [00:06<00:00, 41.53it/s]\n",
      "Training Epoch 1283: 100%|██████████| 261/261 [00:06<00:00, 42.68it/s]\n",
      "Training Epoch 1284: 100%|██████████| 261/261 [00:06<00:00, 42.11it/s]\n",
      "Training Epoch 1285: 100%|██████████| 261/261 [00:06<00:00, 41.92it/s]\n",
      "Training Epoch 1286: 100%|██████████| 261/261 [00:06<00:00, 42.15it/s]\n",
      "Training Epoch 1287: 100%|██████████| 261/261 [00:05<00:00, 45.37it/s]\n",
      "Training Epoch 1288: 100%|██████████| 261/261 [00:06<00:00, 43.07it/s]\n",
      "Training Epoch 1289: 100%|██████████| 261/261 [00:06<00:00, 40.64it/s]\n",
      "Training Epoch 1290: 100%|██████████| 261/261 [00:06<00:00, 40.83it/s]\n",
      "Training Epoch 1291: 100%|██████████| 261/261 [00:06<00:00, 39.88it/s]\n"
     ]
    },
    {
     "name": "stdout",
     "output_type": "stream",
     "text": [
      "Epoch 1290 - Train Loss: 0.0499, Train MSE: 0.0499, Train MAE: 0.1520\n",
      "Epoch 1290 - Validation Loss: 1.6695, Validation MSE: 1.6714, Validation MAE: 0.9184\n"
     ]
    },
    {
     "name": "stderr",
     "output_type": "stream",
     "text": [
      "Training Epoch 1292: 100%|██████████| 261/261 [00:06<00:00, 43.01it/s]\n",
      "Training Epoch 1293: 100%|██████████| 261/261 [00:06<00:00, 43.17it/s]\n",
      "Training Epoch 1294: 100%|██████████| 261/261 [00:05<00:00, 45.15it/s]\n",
      "Training Epoch 1295: 100%|██████████| 261/261 [00:06<00:00, 41.56it/s]\n",
      "Training Epoch 1296: 100%|██████████| 261/261 [00:06<00:00, 43.47it/s]\n",
      "Training Epoch 1297: 100%|██████████| 261/261 [00:06<00:00, 43.37it/s]\n",
      "Training Epoch 1298: 100%|██████████| 261/261 [00:06<00:00, 42.22it/s]\n",
      "Training Epoch 1299: 100%|██████████| 261/261 [00:06<00:00, 42.68it/s]\n",
      "Training Epoch 1300: 100%|██████████| 261/261 [00:05<00:00, 43.78it/s]\n",
      "Training Epoch 1301: 100%|██████████| 261/261 [00:05<00:00, 43.68it/s]\n"
     ]
    },
    {
     "name": "stdout",
     "output_type": "stream",
     "text": [
      "Epoch 1300 - Train Loss: 0.0454, Train MSE: 0.0454, Train MAE: 0.1466\n",
      "Epoch 1300 - Validation Loss: 1.6405, Validation MSE: 1.6423, Validation MAE: 0.9076\n"
     ]
    },
    {
     "name": "stderr",
     "output_type": "stream",
     "text": [
      "Training Epoch 1302: 100%|██████████| 261/261 [00:06<00:00, 39.14it/s]\n",
      "Training Epoch 1303: 100%|██████████| 261/261 [00:06<00:00, 41.36it/s]\n",
      "Training Epoch 1304: 100%|██████████| 261/261 [00:07<00:00, 35.77it/s]\n",
      "Training Epoch 1305: 100%|██████████| 261/261 [00:06<00:00, 37.99it/s]\n",
      "Training Epoch 1306: 100%|██████████| 261/261 [00:06<00:00, 39.82it/s]\n",
      "Training Epoch 1307: 100%|██████████| 261/261 [00:06<00:00, 43.32it/s]\n",
      "Training Epoch 1308: 100%|██████████| 261/261 [00:05<00:00, 44.98it/s]\n",
      "Training Epoch 1309: 100%|██████████| 261/261 [00:06<00:00, 40.29it/s]\n",
      "Training Epoch 1310: 100%|██████████| 261/261 [00:06<00:00, 43.14it/s]\n",
      "Training Epoch 1311: 100%|██████████| 261/261 [00:06<00:00, 41.97it/s]\n"
     ]
    },
    {
     "name": "stdout",
     "output_type": "stream",
     "text": [
      "Epoch 1310 - Train Loss: 0.0489, Train MSE: 0.0489, Train MAE: 0.1504\n",
      "Epoch 1310 - Validation Loss: 1.6629, Validation MSE: 1.6648, Validation MAE: 0.9231\n"
     ]
    },
    {
     "name": "stderr",
     "output_type": "stream",
     "text": [
      "Training Epoch 1312: 100%|██████████| 261/261 [00:06<00:00, 42.99it/s]\n",
      "Training Epoch 1313: 100%|██████████| 261/261 [00:05<00:00, 44.54it/s]\n",
      "Training Epoch 1314: 100%|██████████| 261/261 [00:05<00:00, 44.93it/s]\n",
      "Training Epoch 1315: 100%|██████████| 261/261 [00:05<00:00, 46.04it/s]\n",
      "Training Epoch 1316: 100%|██████████| 261/261 [00:06<00:00, 42.58it/s]\n",
      "Training Epoch 1317: 100%|██████████| 261/261 [00:05<00:00, 45.11it/s]\n",
      "Training Epoch 1318: 100%|██████████| 261/261 [00:07<00:00, 34.57it/s]\n",
      "Training Epoch 1319: 100%|██████████| 261/261 [00:06<00:00, 40.49it/s]\n",
      "Training Epoch 1320: 100%|██████████| 261/261 [00:05<00:00, 45.08it/s]\n",
      "Training Epoch 1321: 100%|██████████| 261/261 [00:06<00:00, 40.77it/s]\n"
     ]
    },
    {
     "name": "stdout",
     "output_type": "stream",
     "text": [
      "Epoch 1320 - Train Loss: 0.0450, Train MSE: 0.0450, Train MAE: 0.1460\n",
      "Epoch 1320 - Validation Loss: 1.6546, Validation MSE: 1.6565, Validation MAE: 0.9169\n"
     ]
    },
    {
     "name": "stderr",
     "output_type": "stream",
     "text": [
      "Training Epoch 1322: 100%|██████████| 261/261 [00:06<00:00, 38.97it/s]\n",
      "Training Epoch 1323: 100%|██████████| 261/261 [00:06<00:00, 42.62it/s]\n",
      "Training Epoch 1324: 100%|██████████| 261/261 [00:05<00:00, 44.97it/s]\n",
      "Training Epoch 1325: 100%|██████████| 261/261 [00:05<00:00, 46.08it/s]\n",
      "Training Epoch 1326: 100%|██████████| 261/261 [00:06<00:00, 43.14it/s]\n",
      "Training Epoch 1327: 100%|██████████| 261/261 [00:05<00:00, 45.44it/s]\n",
      "Training Epoch 1328: 100%|██████████| 261/261 [00:05<00:00, 45.78it/s]\n",
      "Training Epoch 1329: 100%|██████████| 261/261 [00:05<00:00, 45.83it/s]\n",
      "Training Epoch 1330: 100%|██████████| 261/261 [00:05<00:00, 45.64it/s]\n",
      "Training Epoch 1331: 100%|██████████| 261/261 [00:05<00:00, 45.00it/s]\n"
     ]
    },
    {
     "name": "stdout",
     "output_type": "stream",
     "text": [
      "Epoch 1330 - Train Loss: 0.0463, Train MSE: 0.0463, Train MAE: 0.1473\n",
      "Epoch 1330 - Validation Loss: 1.7029, Validation MSE: 1.7047, Validation MAE: 0.9250\n"
     ]
    },
    {
     "name": "stderr",
     "output_type": "stream",
     "text": [
      "Training Epoch 1332: 100%|██████████| 261/261 [00:05<00:00, 45.53it/s]\n",
      "Training Epoch 1333: 100%|██████████| 261/261 [00:05<00:00, 45.74it/s]\n",
      "Training Epoch 1334: 100%|██████████| 261/261 [00:05<00:00, 45.23it/s]\n",
      "Training Epoch 1335: 100%|██████████| 261/261 [00:05<00:00, 46.68it/s]\n",
      "Training Epoch 1336: 100%|██████████| 261/261 [00:05<00:00, 45.96it/s]\n",
      "Training Epoch 1337: 100%|██████████| 261/261 [00:05<00:00, 45.07it/s]\n",
      "Training Epoch 1338: 100%|██████████| 261/261 [00:05<00:00, 44.42it/s]\n",
      "Training Epoch 1339: 100%|██████████| 261/261 [00:06<00:00, 43.33it/s]\n",
      "Training Epoch 1340: 100%|██████████| 261/261 [00:06<00:00, 43.29it/s]\n",
      "Training Epoch 1341: 100%|██████████| 261/261 [00:05<00:00, 45.21it/s]\n"
     ]
    },
    {
     "name": "stdout",
     "output_type": "stream",
     "text": [
      "Epoch 1340 - Train Loss: 0.0450, Train MSE: 0.0450, Train MAE: 0.1460\n",
      "Epoch 1340 - Validation Loss: 1.6756, Validation MSE: 1.6774, Validation MAE: 0.9191\n"
     ]
    },
    {
     "name": "stderr",
     "output_type": "stream",
     "text": [
      "Training Epoch 1342: 100%|██████████| 261/261 [00:05<00:00, 45.66it/s]\n",
      "Training Epoch 1343: 100%|██████████| 261/261 [00:05<00:00, 46.42it/s]\n",
      "Training Epoch 1344: 100%|██████████| 261/261 [00:05<00:00, 46.67it/s]\n",
      "Training Epoch 1345: 100%|██████████| 261/261 [00:05<00:00, 45.08it/s]\n",
      "Training Epoch 1346: 100%|██████████| 261/261 [00:06<00:00, 41.57it/s]\n",
      "Training Epoch 1347: 100%|██████████| 261/261 [00:06<00:00, 39.58it/s]\n",
      "Training Epoch 1348: 100%|██████████| 261/261 [00:06<00:00, 39.95it/s]\n",
      "Training Epoch 1349: 100%|██████████| 261/261 [00:06<00:00, 40.10it/s]\n",
      "Training Epoch 1350: 100%|██████████| 261/261 [00:06<00:00, 40.25it/s]\n",
      "Training Epoch 1351: 100%|██████████| 261/261 [00:06<00:00, 42.24it/s]\n"
     ]
    },
    {
     "name": "stdout",
     "output_type": "stream",
     "text": [
      "Epoch 1350 - Train Loss: 0.0466, Train MSE: 0.0466, Train MAE: 0.1478\n",
      "Epoch 1350 - Validation Loss: 1.6637, Validation MSE: 1.6656, Validation MAE: 0.9178\n"
     ]
    },
    {
     "name": "stderr",
     "output_type": "stream",
     "text": [
      "Training Epoch 1352: 100%|██████████| 261/261 [00:06<00:00, 42.94it/s]\n",
      "Training Epoch 1353: 100%|██████████| 261/261 [00:05<00:00, 44.07it/s]\n",
      "Training Epoch 1354: 100%|██████████| 261/261 [00:06<00:00, 42.63it/s]\n",
      "Training Epoch 1355: 100%|██████████| 261/261 [00:05<00:00, 44.28it/s]\n",
      "Training Epoch 1356: 100%|██████████| 261/261 [00:06<00:00, 42.15it/s]\n",
      "Training Epoch 1357: 100%|██████████| 261/261 [00:06<00:00, 42.06it/s]\n",
      "Training Epoch 1358: 100%|██████████| 261/261 [00:05<00:00, 43.71it/s]\n",
      "Training Epoch 1359: 100%|██████████| 261/261 [00:06<00:00, 43.07it/s]\n",
      "Training Epoch 1360: 100%|██████████| 261/261 [00:06<00:00, 43.26it/s]\n",
      "Training Epoch 1361: 100%|██████████| 261/261 [00:06<00:00, 42.95it/s]\n"
     ]
    },
    {
     "name": "stdout",
     "output_type": "stream",
     "text": [
      "Epoch 1360 - Train Loss: 0.0434, Train MSE: 0.0434, Train MAE: 0.1444\n",
      "Epoch 1360 - Validation Loss: 1.6876, Validation MSE: 1.6893, Validation MAE: 0.9235\n"
     ]
    },
    {
     "name": "stderr",
     "output_type": "stream",
     "text": [
      "Training Epoch 1362: 100%|██████████| 261/261 [00:05<00:00, 44.88it/s]\n",
      "Training Epoch 1363: 100%|██████████| 261/261 [00:05<00:00, 44.79it/s]\n",
      "Training Epoch 1364: 100%|██████████| 261/261 [00:06<00:00, 42.51it/s]\n",
      "Training Epoch 1365: 100%|██████████| 261/261 [00:05<00:00, 44.64it/s]\n",
      "Training Epoch 1366: 100%|██████████| 261/261 [00:06<00:00, 41.33it/s]\n",
      "Training Epoch 1367: 100%|██████████| 261/261 [00:06<00:00, 42.96it/s]\n",
      "Training Epoch 1368: 100%|██████████| 261/261 [00:05<00:00, 44.43it/s]\n",
      "Training Epoch 1369: 100%|██████████| 261/261 [00:06<00:00, 42.48it/s]\n",
      "Training Epoch 1370: 100%|██████████| 261/261 [00:05<00:00, 44.40it/s]\n",
      "Training Epoch 1371: 100%|██████████| 261/261 [00:06<00:00, 42.79it/s]\n"
     ]
    },
    {
     "name": "stdout",
     "output_type": "stream",
     "text": [
      "Epoch 1370 - Train Loss: 0.0448, Train MSE: 0.0448, Train MAE: 0.1456\n",
      "Epoch 1370 - Validation Loss: 1.6839, Validation MSE: 1.6858, Validation MAE: 0.9248\n"
     ]
    },
    {
     "name": "stderr",
     "output_type": "stream",
     "text": [
      "Training Epoch 1372: 100%|██████████| 261/261 [00:06<00:00, 42.84it/s]\n",
      "Training Epoch 1373: 100%|██████████| 261/261 [00:05<00:00, 43.77it/s]\n",
      "Training Epoch 1374: 100%|██████████| 261/261 [00:05<00:00, 44.25it/s]\n",
      "Training Epoch 1375: 100%|██████████| 261/261 [00:06<00:00, 42.66it/s]\n",
      "Training Epoch 1376: 100%|██████████| 261/261 [00:06<00:00, 42.58it/s]\n",
      "Training Epoch 1377: 100%|██████████| 261/261 [00:05<00:00, 43.70it/s]\n",
      "Training Epoch 1378: 100%|██████████| 261/261 [00:05<00:00, 44.54it/s]\n",
      "Training Epoch 1379: 100%|██████████| 261/261 [00:05<00:00, 43.99it/s]\n",
      "Training Epoch 1380: 100%|██████████| 261/261 [00:05<00:00, 44.80it/s]\n",
      "Training Epoch 1381: 100%|██████████| 261/261 [00:06<00:00, 43.41it/s]\n"
     ]
    },
    {
     "name": "stdout",
     "output_type": "stream",
     "text": [
      "Epoch 1380 - Train Loss: 0.0432, Train MSE: 0.0432, Train MAE: 0.1450\n",
      "Epoch 1380 - Validation Loss: 1.6308, Validation MSE: 1.6326, Validation MAE: 0.9117\n"
     ]
    },
    {
     "name": "stderr",
     "output_type": "stream",
     "text": [
      "Training Epoch 1382: 100%|██████████| 261/261 [00:06<00:00, 43.49it/s]\n",
      "Training Epoch 1383: 100%|██████████| 261/261 [00:06<00:00, 42.16it/s]\n",
      "Training Epoch 1384: 100%|██████████| 261/261 [00:05<00:00, 43.66it/s]\n",
      "Training Epoch 1385: 100%|██████████| 261/261 [00:06<00:00, 42.49it/s]\n",
      "Training Epoch 1386: 100%|██████████| 261/261 [00:06<00:00, 43.43it/s]\n",
      "Training Epoch 1387: 100%|██████████| 261/261 [00:06<00:00, 42.65it/s]\n",
      "Training Epoch 1388: 100%|██████████| 261/261 [00:05<00:00, 44.18it/s]\n",
      "Training Epoch 1389: 100%|██████████| 261/261 [00:05<00:00, 43.61it/s]\n",
      "Training Epoch 1390: 100%|██████████| 261/261 [00:05<00:00, 44.34it/s]\n",
      "Training Epoch 1391: 100%|██████████| 261/261 [00:05<00:00, 44.52it/s]\n"
     ]
    },
    {
     "name": "stdout",
     "output_type": "stream",
     "text": [
      "Epoch 1390 - Train Loss: 0.0432, Train MSE: 0.0432, Train MAE: 0.1425\n",
      "Epoch 1390 - Validation Loss: 1.6942, Validation MSE: 1.6961, Validation MAE: 0.9231\n"
     ]
    },
    {
     "name": "stderr",
     "output_type": "stream",
     "text": [
      "Training Epoch 1392: 100%|██████████| 261/261 [00:06<00:00, 42.76it/s]\n",
      "Training Epoch 1393: 100%|██████████| 261/261 [00:05<00:00, 44.52it/s]\n",
      "Training Epoch 1394: 100%|██████████| 261/261 [00:06<00:00, 38.87it/s]\n",
      "Training Epoch 1395: 100%|██████████| 261/261 [00:06<00:00, 40.26it/s]\n",
      "Training Epoch 1396: 100%|██████████| 261/261 [00:06<00:00, 42.75it/s]\n",
      "Training Epoch 1397: 100%|██████████| 261/261 [00:06<00:00, 43.34it/s]\n",
      "Training Epoch 1398: 100%|██████████| 261/261 [00:05<00:00, 43.88it/s]\n",
      "Training Epoch 1399: 100%|██████████| 261/261 [00:06<00:00, 43.32it/s]\n",
      "Training Epoch 1400: 100%|██████████| 261/261 [00:06<00:00, 41.73it/s]\n",
      "Training Epoch 1401: 100%|██████████| 261/261 [00:05<00:00, 45.34it/s]\n"
     ]
    },
    {
     "name": "stdout",
     "output_type": "stream",
     "text": [
      "Epoch 1400 - Train Loss: 0.0455, Train MSE: 0.0455, Train MAE: 0.1459\n",
      "Epoch 1400 - Validation Loss: 1.6852, Validation MSE: 1.6870, Validation MAE: 0.9183\n"
     ]
    },
    {
     "name": "stderr",
     "output_type": "stream",
     "text": [
      "Training Epoch 1402: 100%|██████████| 261/261 [00:05<00:00, 43.77it/s]\n",
      "Training Epoch 1403: 100%|██████████| 261/261 [00:06<00:00, 43.25it/s]\n",
      "Training Epoch 1404: 100%|██████████| 261/261 [00:06<00:00, 42.64it/s]\n",
      "Training Epoch 1405: 100%|██████████| 261/261 [00:06<00:00, 42.68it/s]\n",
      "Training Epoch 1406: 100%|██████████| 261/261 [00:05<00:00, 44.21it/s]\n",
      "Training Epoch 1407: 100%|██████████| 261/261 [00:06<00:00, 43.38it/s]\n",
      "Training Epoch 1408: 100%|██████████| 261/261 [00:05<00:00, 44.46it/s]\n",
      "Training Epoch 1409: 100%|██████████| 261/261 [00:06<00:00, 42.67it/s]\n",
      "Training Epoch 1410: 100%|██████████| 261/261 [00:05<00:00, 44.17it/s]\n",
      "Training Epoch 1411: 100%|██████████| 261/261 [00:05<00:00, 43.53it/s]\n"
     ]
    },
    {
     "name": "stdout",
     "output_type": "stream",
     "text": [
      "Epoch 1410 - Train Loss: 0.0471, Train MSE: 0.0471, Train MAE: 0.1484\n",
      "Epoch 1410 - Validation Loss: 1.6631, Validation MSE: 1.6649, Validation MAE: 0.9159\n"
     ]
    },
    {
     "name": "stderr",
     "output_type": "stream",
     "text": [
      "Training Epoch 1412: 100%|██████████| 261/261 [00:05<00:00, 45.00it/s]\n",
      "Training Epoch 1413: 100%|██████████| 261/261 [00:06<00:00, 43.21it/s]\n",
      "Training Epoch 1414: 100%|██████████| 261/261 [00:06<00:00, 42.70it/s]\n",
      "Training Epoch 1415: 100%|██████████| 261/261 [00:06<00:00, 43.33it/s]\n",
      "Training Epoch 1416: 100%|██████████| 261/261 [00:06<00:00, 42.95it/s]\n",
      "Training Epoch 1417: 100%|██████████| 261/261 [00:05<00:00, 44.89it/s]\n",
      "Training Epoch 1418: 100%|██████████| 261/261 [00:06<00:00, 43.32it/s]\n",
      "Training Epoch 1419: 100%|██████████| 261/261 [00:05<00:00, 43.85it/s]\n",
      "Training Epoch 1420: 100%|██████████| 261/261 [00:06<00:00, 43.45it/s]\n",
      "Training Epoch 1421: 100%|██████████| 261/261 [00:06<00:00, 43.38it/s]\n"
     ]
    },
    {
     "name": "stdout",
     "output_type": "stream",
     "text": [
      "Epoch 1420 - Train Loss: 0.0449, Train MSE: 0.0449, Train MAE: 0.1459\n",
      "Epoch 1420 - Validation Loss: 1.6634, Validation MSE: 1.6652, Validation MAE: 0.9148\n"
     ]
    },
    {
     "name": "stderr",
     "output_type": "stream",
     "text": [
      "Training Epoch 1422: 100%|██████████| 261/261 [00:05<00:00, 44.04it/s]\n",
      "Training Epoch 1423: 100%|██████████| 261/261 [00:06<00:00, 40.67it/s]\n",
      "Training Epoch 1424: 100%|██████████| 261/261 [00:05<00:00, 44.45it/s]\n",
      "Training Epoch 1425: 100%|██████████| 261/261 [00:06<00:00, 43.47it/s]\n",
      "Training Epoch 1426: 100%|██████████| 261/261 [00:06<00:00, 41.99it/s]\n",
      "Training Epoch 1427: 100%|██████████| 261/261 [00:05<00:00, 44.31it/s]\n",
      "Training Epoch 1428: 100%|██████████| 261/261 [00:06<00:00, 43.12it/s]\n",
      "Training Epoch 1429: 100%|██████████| 261/261 [00:05<00:00, 44.47it/s]\n",
      "Training Epoch 1430: 100%|██████████| 261/261 [00:05<00:00, 44.50it/s]\n",
      "Training Epoch 1431: 100%|██████████| 261/261 [00:06<00:00, 43.12it/s]\n"
     ]
    },
    {
     "name": "stdout",
     "output_type": "stream",
     "text": [
      "Epoch 1430 - Train Loss: 0.0478, Train MSE: 0.0478, Train MAE: 0.1471\n",
      "Epoch 1430 - Validation Loss: 1.6591, Validation MSE: 1.6610, Validation MAE: 0.9156\n"
     ]
    },
    {
     "name": "stderr",
     "output_type": "stream",
     "text": [
      "Training Epoch 1432: 100%|██████████| 261/261 [00:05<00:00, 44.50it/s]\n",
      "Training Epoch 1433: 100%|██████████| 261/261 [00:06<00:00, 41.76it/s]\n",
      "Training Epoch 1434: 100%|██████████| 261/261 [00:06<00:00, 43.32it/s]\n",
      "Training Epoch 1435: 100%|██████████| 261/261 [00:06<00:00, 42.78it/s]\n",
      "Training Epoch 1436: 100%|██████████| 261/261 [00:06<00:00, 43.28it/s]\n",
      "Training Epoch 1437: 100%|██████████| 261/261 [00:05<00:00, 44.53it/s]\n",
      "Training Epoch 1438: 100%|██████████| 261/261 [00:06<00:00, 41.27it/s]\n",
      "Training Epoch 1439: 100%|██████████| 261/261 [00:05<00:00, 43.51it/s]\n",
      "Training Epoch 1440: 100%|██████████| 261/261 [00:05<00:00, 44.23it/s]\n",
      "Training Epoch 1441: 100%|██████████| 261/261 [00:05<00:00, 44.55it/s]\n"
     ]
    },
    {
     "name": "stdout",
     "output_type": "stream",
     "text": [
      "Epoch 1440 - Train Loss: 0.0437, Train MSE: 0.0437, Train MAE: 0.1415\n",
      "Epoch 1440 - Validation Loss: 1.6932, Validation MSE: 1.6950, Validation MAE: 0.9239\n"
     ]
    },
    {
     "name": "stderr",
     "output_type": "stream",
     "text": [
      "Training Epoch 1442: 100%|██████████| 261/261 [00:06<00:00, 42.63it/s]\n",
      "Training Epoch 1443: 100%|██████████| 261/261 [00:06<00:00, 42.89it/s]\n",
      "Training Epoch 1444: 100%|██████████| 261/261 [00:06<00:00, 41.85it/s]\n",
      "Training Epoch 1445: 100%|██████████| 261/261 [00:06<00:00, 43.50it/s]\n",
      "Training Epoch 1446: 100%|██████████| 261/261 [00:05<00:00, 43.87it/s]\n",
      "Training Epoch 1447: 100%|██████████| 261/261 [00:05<00:00, 43.89it/s]\n",
      "Training Epoch 1448: 100%|██████████| 261/261 [00:06<00:00, 42.29it/s]\n",
      "Training Epoch 1449: 100%|██████████| 261/261 [00:05<00:00, 44.20it/s]\n",
      "Training Epoch 1450: 100%|██████████| 261/261 [00:05<00:00, 44.52it/s]\n",
      "Training Epoch 1451: 100%|██████████| 261/261 [00:05<00:00, 44.74it/s]\n"
     ]
    },
    {
     "name": "stdout",
     "output_type": "stream",
     "text": [
      "Epoch 1450 - Train Loss: 0.0465, Train MSE: 0.0465, Train MAE: 0.1465\n",
      "Epoch 1450 - Validation Loss: 1.6674, Validation MSE: 1.6689, Validation MAE: 0.9174\n"
     ]
    },
    {
     "name": "stderr",
     "output_type": "stream",
     "text": [
      "Training Epoch 1452: 100%|██████████| 261/261 [00:06<00:00, 41.66it/s]\n",
      "Training Epoch 1453: 100%|██████████| 261/261 [00:05<00:00, 43.97it/s]\n",
      "Training Epoch 1454: 100%|██████████| 261/261 [00:05<00:00, 43.53it/s]\n",
      "Training Epoch 1455: 100%|██████████| 261/261 [00:05<00:00, 44.00it/s]\n",
      "Training Epoch 1456: 100%|██████████| 261/261 [00:06<00:00, 42.66it/s]\n",
      "Training Epoch 1457: 100%|██████████| 261/261 [00:06<00:00, 42.29it/s]\n",
      "Training Epoch 1458: 100%|██████████| 261/261 [00:05<00:00, 44.12it/s]\n",
      "Training Epoch 1459: 100%|██████████| 261/261 [00:06<00:00, 42.98it/s]\n",
      "Training Epoch 1460: 100%|██████████| 261/261 [00:05<00:00, 43.90it/s]\n",
      "Training Epoch 1461: 100%|██████████| 261/261 [00:06<00:00, 41.53it/s]\n"
     ]
    },
    {
     "name": "stdout",
     "output_type": "stream",
     "text": [
      "Epoch 1460 - Train Loss: 0.0425, Train MSE: 0.0425, Train MAE: 0.1424\n",
      "Epoch 1460 - Validation Loss: 1.6917, Validation MSE: 1.6933, Validation MAE: 0.9228\n"
     ]
    },
    {
     "name": "stderr",
     "output_type": "stream",
     "text": [
      "Training Epoch 1462: 100%|██████████| 261/261 [00:05<00:00, 44.26it/s]\n",
      "Training Epoch 1463: 100%|██████████| 261/261 [00:05<00:00, 43.74it/s]\n",
      "Training Epoch 1464: 100%|██████████| 261/261 [00:05<00:00, 43.74it/s]\n",
      "Training Epoch 1465: 100%|██████████| 261/261 [00:05<00:00, 43.92it/s]\n",
      "Training Epoch 1466: 100%|██████████| 261/261 [00:05<00:00, 43.90it/s]\n",
      "Training Epoch 1467: 100%|██████████| 261/261 [00:06<00:00, 43.33it/s]\n",
      "Training Epoch 1468: 100%|██████████| 261/261 [00:06<00:00, 42.81it/s]\n",
      "Training Epoch 1469: 100%|██████████| 261/261 [00:05<00:00, 44.32it/s]\n",
      "Training Epoch 1470: 100%|██████████| 261/261 [00:05<00:00, 44.05it/s]\n",
      "Training Epoch 1471: 100%|██████████| 261/261 [00:06<00:00, 42.35it/s]\n"
     ]
    },
    {
     "name": "stdout",
     "output_type": "stream",
     "text": [
      "Epoch 1470 - Train Loss: 0.0415, Train MSE: 0.0415, Train MAE: 0.1410\n",
      "Epoch 1470 - Validation Loss: 1.6870, Validation MSE: 1.6888, Validation MAE: 0.9288\n"
     ]
    },
    {
     "name": "stderr",
     "output_type": "stream",
     "text": [
      "Training Epoch 1472: 100%|██████████| 261/261 [00:05<00:00, 44.12it/s]\n",
      "Training Epoch 1473: 100%|██████████| 261/261 [00:05<00:00, 43.93it/s]\n",
      "Training Epoch 1474: 100%|██████████| 261/261 [00:06<00:00, 42.45it/s]\n",
      "Training Epoch 1475: 100%|██████████| 261/261 [00:05<00:00, 44.31it/s]\n",
      "Training Epoch 1476: 100%|██████████| 261/261 [00:06<00:00, 42.92it/s]\n",
      "Training Epoch 1477: 100%|██████████| 261/261 [00:06<00:00, 42.70it/s]\n",
      "Training Epoch 1478: 100%|██████████| 261/261 [00:05<00:00, 43.80it/s]\n",
      "Training Epoch 1479: 100%|██████████| 261/261 [00:05<00:00, 44.01it/s]\n",
      "Training Epoch 1480: 100%|██████████| 261/261 [00:06<00:00, 41.70it/s]\n",
      "Training Epoch 1481: 100%|██████████| 261/261 [00:06<00:00, 41.20it/s]\n"
     ]
    },
    {
     "name": "stdout",
     "output_type": "stream",
     "text": [
      "Epoch 1480 - Train Loss: 0.0435, Train MSE: 0.0435, Train MAE: 0.1429\n",
      "Epoch 1480 - Validation Loss: 1.7152, Validation MSE: 1.7171, Validation MAE: 0.9273\n"
     ]
    },
    {
     "name": "stderr",
     "output_type": "stream",
     "text": [
      "Training Epoch 1482: 100%|██████████| 261/261 [00:05<00:00, 43.68it/s]\n",
      "Training Epoch 1483: 100%|██████████| 261/261 [00:05<00:00, 43.82it/s]\n",
      "Training Epoch 1484: 100%|██████████| 261/261 [00:05<00:00, 43.77it/s]\n",
      "Training Epoch 1485: 100%|██████████| 261/261 [00:06<00:00, 42.36it/s]\n",
      "Training Epoch 1486: 100%|██████████| 261/261 [00:05<00:00, 43.56it/s]\n",
      "Training Epoch 1487: 100%|██████████| 261/261 [00:05<00:00, 44.86it/s]\n",
      "Training Epoch 1488: 100%|██████████| 261/261 [00:05<00:00, 43.55it/s]\n",
      "Training Epoch 1489: 100%|██████████| 261/261 [00:05<00:00, 43.94it/s]\n",
      "Training Epoch 1490: 100%|██████████| 261/261 [00:06<00:00, 41.15it/s]\n",
      "Training Epoch 1491: 100%|██████████| 261/261 [00:06<00:00, 43.21it/s]\n"
     ]
    },
    {
     "name": "stdout",
     "output_type": "stream",
     "text": [
      "Epoch 1490 - Train Loss: 0.0436, Train MSE: 0.0436, Train MAE: 0.1414\n",
      "Epoch 1490 - Validation Loss: 1.6768, Validation MSE: 1.6786, Validation MAE: 0.9194\n"
     ]
    },
    {
     "name": "stderr",
     "output_type": "stream",
     "text": [
      "Training Epoch 1492: 100%|██████████| 261/261 [00:05<00:00, 44.51it/s]\n",
      "Training Epoch 1493: 100%|██████████| 261/261 [00:05<00:00, 44.27it/s]\n",
      "Training Epoch 1494: 100%|██████████| 261/261 [00:05<00:00, 43.82it/s]\n",
      "Training Epoch 1495: 100%|██████████| 261/261 [00:06<00:00, 42.48it/s]\n",
      "Training Epoch 1496: 100%|██████████| 261/261 [00:05<00:00, 45.41it/s]\n",
      "Training Epoch 1497: 100%|██████████| 261/261 [00:05<00:00, 44.25it/s]\n",
      "Training Epoch 1498: 100%|██████████| 261/261 [00:05<00:00, 44.13it/s]\n",
      "Training Epoch 1499: 100%|██████████| 261/261 [00:06<00:00, 42.56it/s]\n",
      "Training Epoch 1500: 100%|██████████| 261/261 [00:05<00:00, 44.58it/s]\n",
      "Training Epoch 1501: 100%|██████████| 261/261 [00:06<00:00, 42.39it/s]\n"
     ]
    },
    {
     "name": "stdout",
     "output_type": "stream",
     "text": [
      "Epoch 1500 - Train Loss: 0.0467, Train MSE: 0.0467, Train MAE: 0.1442\n",
      "Epoch 1500 - Validation Loss: 1.6525, Validation MSE: 1.6542, Validation MAE: 0.9119\n"
     ]
    },
    {
     "name": "stderr",
     "output_type": "stream",
     "text": [
      "Training Epoch 1502: 100%|██████████| 261/261 [00:05<00:00, 43.62it/s]\n",
      "Training Epoch 1503: 100%|██████████| 261/261 [00:05<00:00, 44.30it/s]\n",
      "Training Epoch 1504: 100%|██████████| 261/261 [00:05<00:00, 44.69it/s]\n",
      "Training Epoch 1505: 100%|██████████| 261/261 [00:05<00:00, 44.47it/s]\n",
      "Training Epoch 1506: 100%|██████████| 261/261 [00:05<00:00, 43.93it/s]\n",
      "Training Epoch 1507: 100%|██████████| 261/261 [00:06<00:00, 42.36it/s]\n",
      "Training Epoch 1508: 100%|██████████| 261/261 [00:05<00:00, 44.56it/s]\n",
      "Training Epoch 1509: 100%|██████████| 261/261 [00:06<00:00, 41.77it/s]\n",
      "Training Epoch 1510: 100%|██████████| 261/261 [00:06<00:00, 43.14it/s]\n",
      "Training Epoch 1511: 100%|██████████| 261/261 [00:05<00:00, 44.34it/s]\n"
     ]
    },
    {
     "name": "stdout",
     "output_type": "stream",
     "text": [
      "Epoch 1510 - Train Loss: 0.0396, Train MSE: 0.0396, Train MAE: 0.1371\n",
      "Epoch 1510 - Validation Loss: 1.6754, Validation MSE: 1.6771, Validation MAE: 0.9197\n"
     ]
    },
    {
     "name": "stderr",
     "output_type": "stream",
     "text": [
      "Training Epoch 1512: 100%|██████████| 261/261 [00:06<00:00, 42.72it/s]\n",
      "Training Epoch 1513: 100%|██████████| 261/261 [00:05<00:00, 43.67it/s]\n",
      "Training Epoch 1514: 100%|██████████| 261/261 [00:05<00:00, 43.64it/s]\n",
      "Training Epoch 1515: 100%|██████████| 261/261 [00:05<00:00, 43.66it/s]\n",
      "Training Epoch 1516: 100%|██████████| 261/261 [00:05<00:00, 44.22it/s]\n",
      "Training Epoch 1517: 100%|██████████| 261/261 [00:05<00:00, 43.80it/s]\n",
      "Training Epoch 1518: 100%|██████████| 261/261 [00:05<00:00, 43.93it/s]\n",
      "Training Epoch 1519: 100%|██████████| 261/261 [00:06<00:00, 42.04it/s]\n",
      "Training Epoch 1520: 100%|██████████| 261/261 [00:05<00:00, 43.59it/s]\n",
      "Training Epoch 1521: 100%|██████████| 261/261 [00:05<00:00, 44.43it/s]\n"
     ]
    },
    {
     "name": "stdout",
     "output_type": "stream",
     "text": [
      "Epoch 1520 - Train Loss: 0.0423, Train MSE: 0.0423, Train MAE: 0.1398\n",
      "Epoch 1520 - Validation Loss: 1.7237, Validation MSE: 1.7255, Validation MAE: 0.9294\n"
     ]
    },
    {
     "name": "stderr",
     "output_type": "stream",
     "text": [
      "Training Epoch 1522: 100%|██████████| 261/261 [00:06<00:00, 42.47it/s]\n",
      "Training Epoch 1523: 100%|██████████| 261/261 [00:05<00:00, 43.96it/s]\n",
      "Training Epoch 1524: 100%|██████████| 261/261 [00:05<00:00, 43.97it/s]\n",
      "Training Epoch 1525: 100%|██████████| 261/261 [00:05<00:00, 43.84it/s]\n",
      "Training Epoch 1526: 100%|██████████| 261/261 [00:05<00:00, 44.08it/s]\n",
      "Training Epoch 1527: 100%|██████████| 261/261 [00:05<00:00, 43.56it/s]\n",
      "Training Epoch 1528: 100%|██████████| 261/261 [00:06<00:00, 43.12it/s]\n",
      "Training Epoch 1529: 100%|██████████| 261/261 [00:06<00:00, 41.45it/s]\n",
      "Training Epoch 1530: 100%|██████████| 261/261 [00:06<00:00, 42.93it/s]\n",
      "Training Epoch 1531: 100%|██████████| 261/261 [00:05<00:00, 43.65it/s]\n"
     ]
    },
    {
     "name": "stdout",
     "output_type": "stream",
     "text": [
      "Epoch 1530 - Train Loss: 0.0502, Train MSE: 0.0502, Train MAE: 0.1499\n",
      "Epoch 1530 - Validation Loss: 1.6916, Validation MSE: 1.6933, Validation MAE: 0.9309\n"
     ]
    },
    {
     "name": "stderr",
     "output_type": "stream",
     "text": [
      "Training Epoch 1532: 100%|██████████| 261/261 [00:05<00:00, 44.46it/s]\n",
      "Training Epoch 1533: 100%|██████████| 261/261 [00:05<00:00, 44.09it/s]\n",
      "Training Epoch 1534: 100%|██████████| 261/261 [00:05<00:00, 43.64it/s]\n",
      "Training Epoch 1535: 100%|██████████| 261/261 [00:05<00:00, 44.52it/s]\n",
      "Training Epoch 1536: 100%|██████████| 261/261 [00:06<00:00, 42.61it/s]\n",
      "Training Epoch 1537: 100%|██████████| 261/261 [00:05<00:00, 44.24it/s]\n",
      "Training Epoch 1538: 100%|██████████| 261/261 [00:06<00:00, 41.13it/s]\n",
      "Training Epoch 1539: 100%|██████████| 261/261 [00:05<00:00, 44.35it/s]\n",
      "Training Epoch 1540: 100%|██████████| 261/261 [00:06<00:00, 41.38it/s]\n",
      "Training Epoch 1541: 100%|██████████| 261/261 [00:05<00:00, 43.68it/s]\n"
     ]
    },
    {
     "name": "stdout",
     "output_type": "stream",
     "text": [
      "Epoch 1540 - Train Loss: 0.0455, Train MSE: 0.0455, Train MAE: 0.1425\n",
      "Epoch 1540 - Validation Loss: 1.6788, Validation MSE: 1.6806, Validation MAE: 0.9154\n"
     ]
    },
    {
     "name": "stderr",
     "output_type": "stream",
     "text": [
      "Training Epoch 1542: 100%|██████████| 261/261 [00:06<00:00, 42.38it/s]\n",
      "Training Epoch 1543: 100%|██████████| 261/261 [00:05<00:00, 44.75it/s]\n",
      "Training Epoch 1544: 100%|██████████| 261/261 [00:05<00:00, 44.27it/s]\n",
      "Training Epoch 1545: 100%|██████████| 261/261 [00:06<00:00, 42.90it/s]\n",
      "Training Epoch 1546: 100%|██████████| 261/261 [00:05<00:00, 43.96it/s]\n",
      "Training Epoch 1547: 100%|██████████| 261/261 [00:06<00:00, 41.94it/s]\n",
      "Training Epoch 1548: 100%|██████████| 261/261 [00:06<00:00, 42.40it/s]\n",
      "Training Epoch 1549: 100%|██████████| 261/261 [00:06<00:00, 42.40it/s]\n",
      "Training Epoch 1550: 100%|██████████| 261/261 [00:06<00:00, 43.29it/s]\n",
      "Training Epoch 1551: 100%|██████████| 261/261 [00:05<00:00, 44.24it/s]\n"
     ]
    },
    {
     "name": "stdout",
     "output_type": "stream",
     "text": [
      "Epoch 1550 - Train Loss: 0.0439, Train MSE: 0.0439, Train MAE: 0.1425\n",
      "Epoch 1550 - Validation Loss: 1.6821, Validation MSE: 1.6840, Validation MAE: 0.9205\n"
     ]
    },
    {
     "name": "stderr",
     "output_type": "stream",
     "text": [
      "Training Epoch 1552: 100%|██████████| 261/261 [00:05<00:00, 44.61it/s]\n",
      "Training Epoch 1553: 100%|██████████| 261/261 [00:05<00:00, 43.68it/s]\n",
      "Training Epoch 1554: 100%|██████████| 261/261 [00:05<00:00, 44.23it/s]\n",
      "Training Epoch 1555: 100%|██████████| 261/261 [00:06<00:00, 43.42it/s]\n",
      "Training Epoch 1556: 100%|██████████| 261/261 [00:05<00:00, 44.34it/s]\n",
      "Training Epoch 1557: 100%|██████████| 261/261 [00:05<00:00, 43.55it/s]\n",
      "Training Epoch 1558: 100%|██████████| 261/261 [00:05<00:00, 43.78it/s]\n",
      "Training Epoch 1559: 100%|██████████| 261/261 [00:05<00:00, 43.89it/s]\n",
      "Training Epoch 1560: 100%|██████████| 261/261 [00:05<00:00, 43.84it/s]\n",
      "Training Epoch 1561: 100%|██████████| 261/261 [00:05<00:00, 43.74it/s]\n"
     ]
    },
    {
     "name": "stdout",
     "output_type": "stream",
     "text": [
      "Epoch 1560 - Train Loss: 0.0408, Train MSE: 0.0408, Train MAE: 0.1385\n",
      "Epoch 1560 - Validation Loss: 1.6988, Validation MSE: 1.7008, Validation MAE: 0.9200\n"
     ]
    },
    {
     "name": "stderr",
     "output_type": "stream",
     "text": [
      "Training Epoch 1562: 100%|██████████| 261/261 [00:05<00:00, 45.02it/s]\n",
      "Training Epoch 1563: 100%|██████████| 261/261 [00:06<00:00, 42.85it/s]\n",
      "Training Epoch 1564: 100%|██████████| 261/261 [00:05<00:00, 43.50it/s]\n",
      "Training Epoch 1565: 100%|██████████| 261/261 [00:05<00:00, 44.50it/s]\n",
      "Training Epoch 1566: 100%|██████████| 261/261 [00:05<00:00, 44.47it/s]\n",
      "Training Epoch 1567: 100%|██████████| 261/261 [00:06<00:00, 41.90it/s]\n",
      "Training Epoch 1568: 100%|██████████| 261/261 [00:05<00:00, 44.15it/s]\n",
      "Training Epoch 1569: 100%|██████████| 261/261 [00:05<00:00, 43.78it/s]\n",
      "Training Epoch 1570: 100%|██████████| 261/261 [00:05<00:00, 44.35it/s]\n",
      "Training Epoch 1571: 100%|██████████| 261/261 [00:06<00:00, 43.21it/s]\n"
     ]
    },
    {
     "name": "stdout",
     "output_type": "stream",
     "text": [
      "Epoch 1570 - Train Loss: 0.0430, Train MSE: 0.0430, Train MAE: 0.1403\n",
      "Epoch 1570 - Validation Loss: 1.6844, Validation MSE: 1.6863, Validation MAE: 0.9205\n"
     ]
    },
    {
     "name": "stderr",
     "output_type": "stream",
     "text": [
      "Training Epoch 1572: 100%|██████████| 261/261 [00:06<00:00, 43.17it/s]\n",
      "Training Epoch 1573: 100%|██████████| 261/261 [00:05<00:00, 44.89it/s]\n",
      "Training Epoch 1574: 100%|██████████| 261/261 [00:05<00:00, 44.58it/s]\n",
      "Training Epoch 1575: 100%|██████████| 261/261 [00:05<00:00, 44.15it/s]\n",
      "Training Epoch 1576: 100%|██████████| 261/261 [00:06<00:00, 40.69it/s]\n",
      "Training Epoch 1577: 100%|██████████| 261/261 [00:06<00:00, 41.87it/s]\n",
      "Training Epoch 1578: 100%|██████████| 261/261 [00:05<00:00, 44.32it/s]\n",
      "Training Epoch 1579: 100%|██████████| 261/261 [00:06<00:00, 42.89it/s]\n",
      "Training Epoch 1580: 100%|██████████| 261/261 [00:05<00:00, 44.78it/s]\n",
      "Training Epoch 1581: 100%|██████████| 261/261 [00:06<00:00, 43.25it/s]\n"
     ]
    },
    {
     "name": "stdout",
     "output_type": "stream",
     "text": [
      "Epoch 1580 - Train Loss: 0.0439, Train MSE: 0.0439, Train MAE: 0.1421\n",
      "Epoch 1580 - Validation Loss: 1.6968, Validation MSE: 1.6986, Validation MAE: 0.9275\n"
     ]
    },
    {
     "name": "stderr",
     "output_type": "stream",
     "text": [
      "Training Epoch 1582: 100%|██████████| 261/261 [00:05<00:00, 44.02it/s]\n",
      "Training Epoch 1583: 100%|██████████| 261/261 [00:05<00:00, 43.89it/s]\n",
      "Training Epoch 1584: 100%|██████████| 261/261 [00:06<00:00, 42.31it/s]\n",
      "Training Epoch 1585: 100%|██████████| 261/261 [00:05<00:00, 44.61it/s]\n",
      "Training Epoch 1586: 100%|██████████| 261/261 [00:06<00:00, 42.24it/s]\n",
      "Training Epoch 1587: 100%|██████████| 261/261 [00:05<00:00, 43.97it/s]\n",
      "Training Epoch 1588: 100%|██████████| 261/261 [00:06<00:00, 42.39it/s]\n",
      "Training Epoch 1589: 100%|██████████| 261/261 [00:05<00:00, 43.69it/s]\n",
      "Training Epoch 1590: 100%|██████████| 261/261 [00:05<00:00, 44.01it/s]\n",
      "Training Epoch 1591: 100%|██████████| 261/261 [00:05<00:00, 45.36it/s]\n"
     ]
    },
    {
     "name": "stdout",
     "output_type": "stream",
     "text": [
      "Epoch 1590 - Train Loss: 0.0448, Train MSE: 0.0448, Train MAE: 0.1427\n",
      "Epoch 1590 - Validation Loss: 1.6813, Validation MSE: 1.6831, Validation MAE: 0.9203\n"
     ]
    },
    {
     "name": "stderr",
     "output_type": "stream",
     "text": [
      "Training Epoch 1592: 100%|██████████| 261/261 [00:06<00:00, 42.87it/s]\n",
      "Training Epoch 1593: 100%|██████████| 261/261 [00:05<00:00, 45.24it/s]\n",
      "Training Epoch 1594: 100%|██████████| 261/261 [00:05<00:00, 44.04it/s]\n",
      "Training Epoch 1595: 100%|██████████| 261/261 [00:06<00:00, 42.99it/s]\n",
      "Training Epoch 1596: 100%|██████████| 261/261 [00:06<00:00, 42.41it/s]\n",
      "Training Epoch 1597: 100%|██████████| 261/261 [00:05<00:00, 43.91it/s]\n",
      "Training Epoch 1598: 100%|██████████| 261/261 [00:06<00:00, 43.36it/s]\n",
      "Training Epoch 1599: 100%|██████████| 261/261 [00:05<00:00, 43.99it/s]\n",
      "Training Epoch 1600: 100%|██████████| 261/261 [00:05<00:00, 44.23it/s]\n",
      "Training Epoch 1601: 100%|██████████| 261/261 [00:06<00:00, 42.86it/s]\n"
     ]
    },
    {
     "name": "stdout",
     "output_type": "stream",
     "text": [
      "Epoch 1600 - Train Loss: 0.0405, Train MSE: 0.0404, Train MAE: 0.1371\n",
      "Epoch 1600 - Validation Loss: 1.6512, Validation MSE: 1.6531, Validation MAE: 0.9133\n"
     ]
    },
    {
     "name": "stderr",
     "output_type": "stream",
     "text": [
      "Training Epoch 1602: 100%|██████████| 261/261 [00:05<00:00, 43.91it/s]\n",
      "Training Epoch 1603: 100%|██████████| 261/261 [00:05<00:00, 44.83it/s]\n",
      "Training Epoch 1604: 100%|██████████| 261/261 [00:05<00:00, 43.81it/s]\n",
      "Training Epoch 1605: 100%|██████████| 261/261 [00:06<00:00, 42.90it/s]\n",
      "Training Epoch 1606: 100%|██████████| 261/261 [00:06<00:00, 43.40it/s]\n",
      "Training Epoch 1607: 100%|██████████| 261/261 [00:06<00:00, 43.29it/s]\n",
      "Training Epoch 1608: 100%|██████████| 261/261 [00:05<00:00, 43.92it/s]\n",
      "Training Epoch 1609: 100%|██████████| 261/261 [00:06<00:00, 43.35it/s]\n",
      "Training Epoch 1610: 100%|██████████| 261/261 [00:05<00:00, 43.54it/s]\n",
      "Training Epoch 1611: 100%|██████████| 261/261 [00:05<00:00, 44.06it/s]\n"
     ]
    },
    {
     "name": "stdout",
     "output_type": "stream",
     "text": [
      "Epoch 1610 - Train Loss: 0.0414, Train MSE: 0.0414, Train MAE: 0.1405\n",
      "Epoch 1610 - Validation Loss: 1.6713, Validation MSE: 1.6731, Validation MAE: 0.9190\n"
     ]
    },
    {
     "name": "stderr",
     "output_type": "stream",
     "text": [
      "Training Epoch 1612: 100%|██████████| 261/261 [00:05<00:00, 45.00it/s]\n",
      "Training Epoch 1613: 100%|██████████| 261/261 [00:05<00:00, 43.64it/s]\n",
      "Training Epoch 1614: 100%|██████████| 261/261 [00:06<00:00, 42.89it/s]\n",
      "Training Epoch 1615: 100%|██████████| 261/261 [00:06<00:00, 43.49it/s]\n",
      "Training Epoch 1616: 100%|██████████| 261/261 [00:05<00:00, 44.71it/s]\n",
      "Training Epoch 1617: 100%|██████████| 261/261 [00:05<00:00, 44.34it/s]\n",
      "Training Epoch 1618: 100%|██████████| 261/261 [00:06<00:00, 43.03it/s]\n",
      "Training Epoch 1619: 100%|██████████| 261/261 [00:05<00:00, 44.89it/s]\n",
      "Training Epoch 1620: 100%|██████████| 261/261 [00:05<00:00, 44.06it/s]\n",
      "Training Epoch 1621: 100%|██████████| 261/261 [00:05<00:00, 45.74it/s]\n"
     ]
    },
    {
     "name": "stdout",
     "output_type": "stream",
     "text": [
      "Epoch 1620 - Train Loss: 0.0423, Train MSE: 0.0423, Train MAE: 0.1394\n",
      "Epoch 1620 - Validation Loss: 1.6877, Validation MSE: 1.6896, Validation MAE: 0.9219\n"
     ]
    },
    {
     "name": "stderr",
     "output_type": "stream",
     "text": [
      "Training Epoch 1622: 100%|██████████| 261/261 [00:05<00:00, 44.01it/s]\n",
      "Training Epoch 1623: 100%|██████████| 261/261 [00:05<00:00, 45.08it/s]\n",
      "Training Epoch 1624: 100%|██████████| 261/261 [00:06<00:00, 43.28it/s]\n",
      "Training Epoch 1625: 100%|██████████| 261/261 [00:06<00:00, 41.49it/s]\n",
      "Training Epoch 1626: 100%|██████████| 261/261 [00:05<00:00, 43.80it/s]\n",
      "Training Epoch 1627: 100%|██████████| 261/261 [00:06<00:00, 43.19it/s]\n",
      "Training Epoch 1628: 100%|██████████| 261/261 [00:06<00:00, 43.30it/s]\n",
      "Training Epoch 1629: 100%|██████████| 261/261 [00:06<00:00, 43.46it/s]\n",
      "Training Epoch 1630: 100%|██████████| 261/261 [00:05<00:00, 43.71it/s]\n",
      "Training Epoch 1631: 100%|██████████| 261/261 [00:05<00:00, 45.22it/s]\n"
     ]
    },
    {
     "name": "stdout",
     "output_type": "stream",
     "text": [
      "Epoch 1630 - Train Loss: 0.0404, Train MSE: 0.0405, Train MAE: 0.1367\n",
      "Epoch 1630 - Validation Loss: 1.7464, Validation MSE: 1.7483, Validation MAE: 0.9355\n"
     ]
    },
    {
     "name": "stderr",
     "output_type": "stream",
     "text": [
      "Training Epoch 1632: 100%|██████████| 261/261 [00:06<00:00, 42.31it/s]\n",
      "Training Epoch 1633: 100%|██████████| 261/261 [00:05<00:00, 44.31it/s]\n",
      "Training Epoch 1634: 100%|██████████| 261/261 [00:05<00:00, 44.38it/s]\n",
      "Training Epoch 1635: 100%|██████████| 261/261 [00:06<00:00, 42.51it/s]\n",
      "Training Epoch 1636: 100%|██████████| 261/261 [00:05<00:00, 44.69it/s]\n",
      "Training Epoch 1637: 100%|██████████| 261/261 [00:05<00:00, 44.39it/s]\n",
      "Training Epoch 1638: 100%|██████████| 261/261 [00:06<00:00, 43.13it/s]\n",
      "Training Epoch 1639: 100%|██████████| 261/261 [00:06<00:00, 43.26it/s]\n",
      "Training Epoch 1640: 100%|██████████| 261/261 [00:05<00:00, 43.71it/s]\n",
      "Training Epoch 1641: 100%|██████████| 261/261 [00:05<00:00, 44.87it/s]\n"
     ]
    },
    {
     "name": "stdout",
     "output_type": "stream",
     "text": [
      "Epoch 1640 - Train Loss: 0.0428, Train MSE: 0.0428, Train MAE: 0.1404\n",
      "Epoch 1640 - Validation Loss: 1.6798, Validation MSE: 1.6815, Validation MAE: 0.9193\n"
     ]
    },
    {
     "name": "stderr",
     "output_type": "stream",
     "text": [
      "Training Epoch 1642: 100%|██████████| 261/261 [00:05<00:00, 43.91it/s]\n",
      "Training Epoch 1643: 100%|██████████| 261/261 [00:06<00:00, 42.70it/s]\n",
      "Training Epoch 1644: 100%|██████████| 261/261 [00:06<00:00, 42.97it/s]\n",
      "Training Epoch 1645: 100%|██████████| 261/261 [00:06<00:00, 42.79it/s]\n",
      "Training Epoch 1646: 100%|██████████| 261/261 [00:06<00:00, 43.40it/s]\n",
      "Training Epoch 1647: 100%|██████████| 261/261 [00:05<00:00, 43.99it/s]\n",
      "Training Epoch 1648: 100%|██████████| 261/261 [00:05<00:00, 44.48it/s]\n",
      "Training Epoch 1649: 100%|██████████| 261/261 [00:05<00:00, 45.12it/s]\n",
      "Training Epoch 1650: 100%|██████████| 261/261 [00:06<00:00, 42.74it/s]\n",
      "Training Epoch 1651: 100%|██████████| 261/261 [00:05<00:00, 44.38it/s]\n"
     ]
    },
    {
     "name": "stdout",
     "output_type": "stream",
     "text": [
      "Epoch 1650 - Train Loss: 0.0439, Train MSE: 0.0439, Train MAE: 0.1413\n",
      "Epoch 1650 - Validation Loss: 1.7086, Validation MSE: 1.7106, Validation MAE: 0.9296\n"
     ]
    },
    {
     "name": "stderr",
     "output_type": "stream",
     "text": [
      "Training Epoch 1652: 100%|██████████| 261/261 [00:05<00:00, 43.67it/s]\n",
      "Training Epoch 1653: 100%|██████████| 261/261 [00:06<00:00, 42.88it/s]\n",
      "Training Epoch 1654: 100%|██████████| 261/261 [00:05<00:00, 44.33it/s]\n",
      "Training Epoch 1655: 100%|██████████| 261/261 [00:06<00:00, 43.04it/s]\n",
      "Training Epoch 1656: 100%|██████████| 261/261 [00:05<00:00, 43.85it/s]\n",
      "Training Epoch 1657: 100%|██████████| 261/261 [00:05<00:00, 43.80it/s]\n",
      "Training Epoch 1658: 100%|██████████| 261/261 [00:05<00:00, 45.20it/s]\n",
      "Training Epoch 1659: 100%|██████████| 261/261 [00:05<00:00, 44.53it/s]\n",
      "Training Epoch 1660: 100%|██████████| 261/261 [00:05<00:00, 44.19it/s]\n",
      "Training Epoch 1661: 100%|██████████| 261/261 [00:06<00:00, 42.45it/s]\n"
     ]
    },
    {
     "name": "stdout",
     "output_type": "stream",
     "text": [
      "Epoch 1660 - Train Loss: 0.0456, Train MSE: 0.0456, Train MAE: 0.1439\n",
      "Epoch 1660 - Validation Loss: 1.6880, Validation MSE: 1.6899, Validation MAE: 0.9316\n"
     ]
    },
    {
     "name": "stderr",
     "output_type": "stream",
     "text": [
      "Training Epoch 1662: 100%|██████████| 261/261 [00:06<00:00, 43.28it/s]\n",
      "Training Epoch 1663: 100%|██████████| 261/261 [00:06<00:00, 41.12it/s]\n",
      "Training Epoch 1664: 100%|██████████| 261/261 [00:06<00:00, 42.49it/s]\n",
      "Training Epoch 1665: 100%|██████████| 261/261 [00:05<00:00, 43.67it/s]\n",
      "Training Epoch 1666: 100%|██████████| 261/261 [00:05<00:00, 45.26it/s]\n",
      "Training Epoch 1667: 100%|██████████| 261/261 [00:05<00:00, 44.35it/s]\n",
      "Training Epoch 1668: 100%|██████████| 261/261 [00:06<00:00, 42.85it/s]\n",
      "Training Epoch 1669: 100%|██████████| 261/261 [00:05<00:00, 44.09it/s]\n",
      "Training Epoch 1670: 100%|██████████| 261/261 [00:05<00:00, 44.81it/s]\n",
      "Training Epoch 1671: 100%|██████████| 261/261 [00:05<00:00, 44.13it/s]\n"
     ]
    },
    {
     "name": "stdout",
     "output_type": "stream",
     "text": [
      "Epoch 1670 - Train Loss: 0.0418, Train MSE: 0.0418, Train MAE: 0.1366\n",
      "Epoch 1670 - Validation Loss: 1.6801, Validation MSE: 1.6820, Validation MAE: 0.9217\n"
     ]
    },
    {
     "name": "stderr",
     "output_type": "stream",
     "text": [
      "Training Epoch 1672: 100%|██████████| 261/261 [00:06<00:00, 43.44it/s]\n",
      "Training Epoch 1673: 100%|██████████| 261/261 [00:06<00:00, 42.89it/s]\n",
      "Training Epoch 1674: 100%|██████████| 261/261 [00:05<00:00, 44.48it/s]\n",
      "Training Epoch 1675: 100%|██████████| 261/261 [00:06<00:00, 42.73it/s]\n",
      "Training Epoch 1676: 100%|██████████| 261/261 [00:06<00:00, 43.12it/s]\n",
      "Training Epoch 1677: 100%|██████████| 261/261 [00:05<00:00, 43.91it/s]\n",
      "Training Epoch 1678: 100%|██████████| 261/261 [00:06<00:00, 43.46it/s]\n",
      "Training Epoch 1679: 100%|██████████| 261/261 [00:05<00:00, 45.24it/s]\n",
      "Training Epoch 1680: 100%|██████████| 261/261 [00:06<00:00, 42.89it/s]\n",
      "Training Epoch 1681: 100%|██████████| 261/261 [00:05<00:00, 43.67it/s]\n"
     ]
    },
    {
     "name": "stdout",
     "output_type": "stream",
     "text": [
      "Epoch 1680 - Train Loss: 0.0431, Train MSE: 0.0431, Train MAE: 0.1399\n",
      "Epoch 1680 - Validation Loss: 1.6791, Validation MSE: 1.6809, Validation MAE: 0.9227\n"
     ]
    },
    {
     "name": "stderr",
     "output_type": "stream",
     "text": [
      "Training Epoch 1682: 100%|██████████| 261/261 [00:05<00:00, 44.73it/s]\n",
      "Training Epoch 1683: 100%|██████████| 261/261 [00:05<00:00, 44.37it/s]\n",
      "Training Epoch 1684: 100%|██████████| 261/261 [00:05<00:00, 44.73it/s]\n",
      "Training Epoch 1685: 100%|██████████| 261/261 [00:06<00:00, 43.13it/s]\n",
      "Training Epoch 1686: 100%|██████████| 261/261 [00:05<00:00, 43.91it/s]\n",
      "Training Epoch 1687: 100%|██████████| 261/261 [00:06<00:00, 43.26it/s]\n",
      "Training Epoch 1688: 100%|██████████| 261/261 [00:05<00:00, 44.04it/s]\n",
      "Training Epoch 1689: 100%|██████████| 261/261 [00:06<00:00, 42.95it/s]\n",
      "Training Epoch 1690: 100%|██████████| 261/261 [00:05<00:00, 45.62it/s]\n",
      "Training Epoch 1691: 100%|██████████| 261/261 [00:05<00:00, 44.15it/s]\n"
     ]
    },
    {
     "name": "stdout",
     "output_type": "stream",
     "text": [
      "Epoch 1690 - Train Loss: 0.0416, Train MSE: 0.0416, Train MAE: 0.1366\n",
      "Epoch 1690 - Validation Loss: 1.6785, Validation MSE: 1.6802, Validation MAE: 0.9205\n"
     ]
    },
    {
     "name": "stderr",
     "output_type": "stream",
     "text": [
      "Training Epoch 1692: 100%|██████████| 261/261 [00:06<00:00, 43.38it/s]\n",
      "Training Epoch 1693: 100%|██████████| 261/261 [00:05<00:00, 44.34it/s]\n",
      "Training Epoch 1694: 100%|██████████| 261/261 [00:05<00:00, 43.72it/s]\n",
      "Training Epoch 1695: 100%|██████████| 261/261 [00:05<00:00, 43.75it/s]\n",
      "Training Epoch 1696: 100%|██████████| 261/261 [00:05<00:00, 44.30it/s]\n",
      "Training Epoch 1697: 100%|██████████| 261/261 [00:05<00:00, 44.76it/s]\n",
      "Training Epoch 1698: 100%|██████████| 261/261 [00:05<00:00, 44.63it/s]\n",
      "Training Epoch 1699: 100%|██████████| 261/261 [00:06<00:00, 43.11it/s]\n",
      "Training Epoch 1700: 100%|██████████| 261/261 [00:05<00:00, 44.16it/s]\n",
      "Training Epoch 1701: 100%|██████████| 261/261 [00:06<00:00, 42.79it/s]\n"
     ]
    },
    {
     "name": "stdout",
     "output_type": "stream",
     "text": [
      "Epoch 1700 - Train Loss: 0.0383, Train MSE: 0.0383, Train MAE: 0.1344\n",
      "Epoch 1700 - Validation Loss: 1.6922, Validation MSE: 1.6940, Validation MAE: 0.9210\n"
     ]
    },
    {
     "name": "stderr",
     "output_type": "stream",
     "text": [
      "Training Epoch 1702: 100%|██████████| 261/261 [00:06<00:00, 42.43it/s]\n",
      "Training Epoch 1703: 100%|██████████| 261/261 [00:05<00:00, 43.81it/s]\n",
      "Training Epoch 1704: 100%|██████████| 261/261 [00:05<00:00, 44.08it/s]\n",
      "Training Epoch 1705: 100%|██████████| 261/261 [00:05<00:00, 44.72it/s]\n",
      "Training Epoch 1706: 100%|██████████| 261/261 [00:06<00:00, 43.08it/s]\n",
      "Training Epoch 1707: 100%|██████████| 261/261 [00:05<00:00, 44.04it/s]\n",
      "Training Epoch 1708: 100%|██████████| 261/261 [00:05<00:00, 44.02it/s]\n",
      "Training Epoch 1709: 100%|██████████| 261/261 [00:06<00:00, 43.32it/s]\n",
      "Training Epoch 1710: 100%|██████████| 261/261 [00:05<00:00, 44.36it/s]\n",
      "Training Epoch 1711: 100%|██████████| 261/261 [00:05<00:00, 44.16it/s]\n"
     ]
    },
    {
     "name": "stdout",
     "output_type": "stream",
     "text": [
      "Epoch 1710 - Train Loss: 0.0413, Train MSE: 0.0413, Train MAE: 0.1375\n",
      "Epoch 1710 - Validation Loss: 1.6736, Validation MSE: 1.6755, Validation MAE: 0.9177\n"
     ]
    },
    {
     "name": "stderr",
     "output_type": "stream",
     "text": [
      "Training Epoch 1712: 100%|██████████| 261/261 [00:06<00:00, 42.57it/s]\n",
      "Training Epoch 1713: 100%|██████████| 261/261 [00:05<00:00, 44.18it/s]\n",
      "Training Epoch 1714: 100%|██████████| 261/261 [00:05<00:00, 43.80it/s]\n",
      "Training Epoch 1715: 100%|██████████| 261/261 [00:05<00:00, 44.99it/s]\n",
      "Training Epoch 1716: 100%|██████████| 261/261 [00:05<00:00, 44.11it/s]\n",
      "Training Epoch 1717: 100%|██████████| 261/261 [00:06<00:00, 43.31it/s]\n",
      "Training Epoch 1718: 100%|██████████| 261/261 [00:05<00:00, 43.84it/s]\n",
      "Training Epoch 1719: 100%|██████████| 261/261 [00:06<00:00, 43.32it/s]\n",
      "Training Epoch 1720: 100%|██████████| 261/261 [00:06<00:00, 43.20it/s]\n",
      "Training Epoch 1721: 100%|██████████| 261/261 [00:05<00:00, 44.51it/s]\n"
     ]
    },
    {
     "name": "stdout",
     "output_type": "stream",
     "text": [
      "Epoch 1720 - Train Loss: 0.0414, Train MSE: 0.0414, Train MAE: 0.1353\n",
      "Epoch 1720 - Validation Loss: 1.7067, Validation MSE: 1.7086, Validation MAE: 0.9261\n"
     ]
    },
    {
     "name": "stderr",
     "output_type": "stream",
     "text": [
      "Training Epoch 1722: 100%|██████████| 261/261 [00:06<00:00, 41.97it/s]\n",
      "Training Epoch 1723: 100%|██████████| 261/261 [00:06<00:00, 42.38it/s]\n",
      "Training Epoch 1724: 100%|██████████| 261/261 [00:05<00:00, 44.41it/s]\n",
      "Training Epoch 1725: 100%|██████████| 261/261 [00:06<00:00, 42.70it/s]\n",
      "Training Epoch 1726: 100%|██████████| 261/261 [00:05<00:00, 44.15it/s]\n",
      "Training Epoch 1727: 100%|██████████| 261/261 [00:06<00:00, 42.33it/s]\n",
      "Training Epoch 1728: 100%|██████████| 261/261 [00:05<00:00, 43.98it/s]\n",
      "Training Epoch 1729: 100%|██████████| 261/261 [00:06<00:00, 42.27it/s]\n",
      "Training Epoch 1730: 100%|██████████| 261/261 [00:06<00:00, 42.01it/s]\n",
      "Training Epoch 1731: 100%|██████████| 261/261 [00:07<00:00, 36.29it/s]\n"
     ]
    },
    {
     "name": "stdout",
     "output_type": "stream",
     "text": [
      "Epoch 1730 - Train Loss: 0.0408, Train MSE: 0.0408, Train MAE: 0.1354\n",
      "Epoch 1730 - Validation Loss: 1.6482, Validation MSE: 1.6500, Validation MAE: 0.9091\n"
     ]
    },
    {
     "name": "stderr",
     "output_type": "stream",
     "text": [
      "Training Epoch 1732: 100%|██████████| 261/261 [00:05<00:00, 43.53it/s]\n",
      "Training Epoch 1733: 100%|██████████| 261/261 [00:06<00:00, 43.36it/s]\n",
      "Training Epoch 1734: 100%|██████████| 261/261 [00:06<00:00, 41.63it/s]\n",
      "Training Epoch 1735: 100%|██████████| 261/261 [00:05<00:00, 44.91it/s]\n",
      "Training Epoch 1736: 100%|██████████| 261/261 [00:05<00:00, 44.41it/s]\n",
      "Training Epoch 1737: 100%|██████████| 261/261 [00:06<00:00, 43.25it/s]\n",
      "Training Epoch 1738: 100%|██████████| 261/261 [00:05<00:00, 43.97it/s]\n",
      "Training Epoch 1739: 100%|██████████| 261/261 [00:06<00:00, 41.90it/s]\n",
      "Training Epoch 1740: 100%|██████████| 261/261 [00:05<00:00, 44.11it/s]\n",
      "Training Epoch 1741: 100%|██████████| 261/261 [00:05<00:00, 43.59it/s]\n"
     ]
    },
    {
     "name": "stdout",
     "output_type": "stream",
     "text": [
      "Epoch 1740 - Train Loss: 0.0376, Train MSE: 0.0376, Train MAE: 0.1326\n",
      "Epoch 1740 - Validation Loss: 1.6710, Validation MSE: 1.6728, Validation MAE: 0.9196\n"
     ]
    },
    {
     "name": "stderr",
     "output_type": "stream",
     "text": [
      "Training Epoch 1742: 100%|██████████| 261/261 [00:06<00:00, 42.93it/s]\n",
      "Training Epoch 1743: 100%|██████████| 261/261 [00:05<00:00, 44.11it/s]\n",
      "Training Epoch 1744: 100%|██████████| 261/261 [00:06<00:00, 43.09it/s]\n",
      "Training Epoch 1745: 100%|██████████| 261/261 [00:05<00:00, 43.63it/s]\n",
      "Training Epoch 1746: 100%|██████████| 261/261 [00:05<00:00, 43.64it/s]\n",
      "Training Epoch 1747: 100%|██████████| 261/261 [00:05<00:00, 43.85it/s]\n",
      "Training Epoch 1748: 100%|██████████| 261/261 [00:06<00:00, 42.97it/s]\n",
      "Training Epoch 1749: 100%|██████████| 261/261 [00:06<00:00, 42.03it/s]\n",
      "Training Epoch 1750: 100%|██████████| 261/261 [00:06<00:00, 42.60it/s]\n",
      "Training Epoch 1751: 100%|██████████| 261/261 [00:05<00:00, 44.25it/s]\n"
     ]
    },
    {
     "name": "stdout",
     "output_type": "stream",
     "text": [
      "Epoch 1750 - Train Loss: 0.0394, Train MSE: 0.0394, Train MAE: 0.1338\n",
      "Epoch 1750 - Validation Loss: 1.7183, Validation MSE: 1.7203, Validation MAE: 0.9288\n"
     ]
    },
    {
     "name": "stderr",
     "output_type": "stream",
     "text": [
      "Training Epoch 1752: 100%|██████████| 261/261 [00:06<00:00, 43.27it/s]\n",
      "Training Epoch 1753: 100%|██████████| 261/261 [00:05<00:00, 44.76it/s]\n",
      "Training Epoch 1754: 100%|██████████| 261/261 [00:06<00:00, 42.40it/s]\n",
      "Training Epoch 1755: 100%|██████████| 261/261 [00:05<00:00, 44.08it/s]\n",
      "Training Epoch 1756: 100%|██████████| 261/261 [00:05<00:00, 44.12it/s]\n",
      "Training Epoch 1757: 100%|██████████| 261/261 [00:05<00:00, 43.56it/s]\n",
      "Training Epoch 1758: 100%|██████████| 261/261 [00:06<00:00, 42.67it/s]\n",
      "Training Epoch 1759: 100%|██████████| 261/261 [00:06<00:00, 42.62it/s]\n",
      "Training Epoch 1760: 100%|██████████| 261/261 [00:06<00:00, 41.77it/s]\n",
      "Training Epoch 1761: 100%|██████████| 261/261 [00:06<00:00, 43.02it/s]\n"
     ]
    },
    {
     "name": "stdout",
     "output_type": "stream",
     "text": [
      "Epoch 1760 - Train Loss: 0.0411, Train MSE: 0.0411, Train MAE: 0.1383\n",
      "Epoch 1760 - Validation Loss: 1.7181, Validation MSE: 1.7199, Validation MAE: 0.9365\n"
     ]
    },
    {
     "name": "stderr",
     "output_type": "stream",
     "text": [
      "Training Epoch 1762: 100%|██████████| 261/261 [00:05<00:00, 43.73it/s]\n",
      "Training Epoch 1763: 100%|██████████| 261/261 [00:06<00:00, 42.88it/s]\n",
      "Training Epoch 1764: 100%|██████████| 261/261 [00:06<00:00, 42.73it/s]\n",
      "Training Epoch 1765: 100%|██████████| 261/261 [00:06<00:00, 43.23it/s]\n",
      "Training Epoch 1766: 100%|██████████| 261/261 [00:06<00:00, 43.28it/s]\n",
      "Training Epoch 1767: 100%|██████████| 261/261 [00:05<00:00, 45.23it/s]\n",
      "Training Epoch 1768: 100%|██████████| 261/261 [00:05<00:00, 43.72it/s]\n",
      "Training Epoch 1769: 100%|██████████| 261/261 [00:05<00:00, 43.98it/s]\n",
      "Training Epoch 1770: 100%|██████████| 261/261 [00:06<00:00, 42.92it/s]\n",
      "Training Epoch 1771: 100%|██████████| 261/261 [00:05<00:00, 45.40it/s]\n"
     ]
    },
    {
     "name": "stdout",
     "output_type": "stream",
     "text": [
      "Epoch 1770 - Train Loss: 0.0418, Train MSE: 0.0418, Train MAE: 0.1364\n",
      "Epoch 1770 - Validation Loss: 1.6691, Validation MSE: 1.6710, Validation MAE: 0.9147\n"
     ]
    },
    {
     "name": "stderr",
     "output_type": "stream",
     "text": [
      "Training Epoch 1772: 100%|██████████| 261/261 [00:06<00:00, 43.10it/s]\n",
      "Training Epoch 1773: 100%|██████████| 261/261 [00:05<00:00, 44.40it/s]\n",
      "Training Epoch 1774: 100%|██████████| 261/261 [00:05<00:00, 44.51it/s]\n",
      "Training Epoch 1775: 100%|██████████| 261/261 [00:06<00:00, 42.12it/s]\n",
      "Training Epoch 1776: 100%|██████████| 261/261 [00:05<00:00, 44.72it/s]\n",
      "Training Epoch 1777: 100%|██████████| 261/261 [00:06<00:00, 43.11it/s]\n",
      "Training Epoch 1778: 100%|██████████| 261/261 [00:06<00:00, 43.32it/s]\n",
      "Training Epoch 1779: 100%|██████████| 261/261 [00:05<00:00, 44.96it/s]\n",
      "Training Epoch 1780: 100%|██████████| 261/261 [00:06<00:00, 43.06it/s]\n",
      "Training Epoch 1781: 100%|██████████| 261/261 [00:05<00:00, 44.33it/s]\n"
     ]
    },
    {
     "name": "stdout",
     "output_type": "stream",
     "text": [
      "Epoch 1780 - Train Loss: 0.0397, Train MSE: 0.0397, Train MAE: 0.1341\n",
      "Epoch 1780 - Validation Loss: 1.6983, Validation MSE: 1.7000, Validation MAE: 0.9261\n"
     ]
    },
    {
     "name": "stderr",
     "output_type": "stream",
     "text": [
      "Training Epoch 1782: 100%|██████████| 261/261 [00:06<00:00, 43.27it/s]\n",
      "Training Epoch 1783: 100%|██████████| 261/261 [00:06<00:00, 43.30it/s]\n",
      "Training Epoch 1784: 100%|██████████| 261/261 [00:05<00:00, 44.72it/s]\n",
      "Training Epoch 1785: 100%|██████████| 261/261 [00:06<00:00, 43.11it/s]\n",
      "Training Epoch 1786: 100%|██████████| 261/261 [00:05<00:00, 43.52it/s]\n",
      "Training Epoch 1787: 100%|██████████| 261/261 [00:06<00:00, 41.13it/s]\n",
      "Training Epoch 1788: 100%|██████████| 261/261 [00:05<00:00, 43.70it/s]\n",
      "Training Epoch 1789: 100%|██████████| 261/261 [00:05<00:00, 44.20it/s]\n",
      "Training Epoch 1790: 100%|██████████| 261/261 [00:06<00:00, 43.16it/s]\n",
      "Training Epoch 1791: 100%|██████████| 261/261 [00:06<00:00, 43.02it/s]\n"
     ]
    },
    {
     "name": "stdout",
     "output_type": "stream",
     "text": [
      "Epoch 1790 - Train Loss: 0.0384, Train MSE: 0.0384, Train MAE: 0.1336\n",
      "Epoch 1790 - Validation Loss: 1.7107, Validation MSE: 1.7125, Validation MAE: 0.9323\n"
     ]
    },
    {
     "name": "stderr",
     "output_type": "stream",
     "text": [
      "Training Epoch 1792: 100%|██████████| 261/261 [00:06<00:00, 43.44it/s]\n",
      "Training Epoch 1793: 100%|██████████| 261/261 [00:06<00:00, 43.13it/s]\n",
      "Training Epoch 1794: 100%|██████████| 261/261 [00:06<00:00, 43.11it/s]\n",
      "Training Epoch 1795: 100%|██████████| 261/261 [00:05<00:00, 44.21it/s]\n",
      "Training Epoch 1796: 100%|██████████| 261/261 [00:06<00:00, 43.27it/s]\n",
      "Training Epoch 1797: 100%|██████████| 261/261 [00:06<00:00, 41.94it/s]\n",
      "Training Epoch 1798: 100%|██████████| 261/261 [00:05<00:00, 44.35it/s]\n",
      "Training Epoch 1799: 100%|██████████| 261/261 [00:05<00:00, 44.17it/s]\n",
      "Training Epoch 1800: 100%|██████████| 261/261 [00:06<00:00, 41.78it/s]\n",
      "Training Epoch 1801: 100%|██████████| 261/261 [00:06<00:00, 43.34it/s]\n"
     ]
    },
    {
     "name": "stdout",
     "output_type": "stream",
     "text": [
      "Epoch 1800 - Train Loss: 0.0434, Train MSE: 0.0434, Train MAE: 0.1376\n",
      "Epoch 1800 - Validation Loss: 1.7096, Validation MSE: 1.7116, Validation MAE: 0.9246\n"
     ]
    },
    {
     "name": "stderr",
     "output_type": "stream",
     "text": [
      "Training Epoch 1802: 100%|██████████| 261/261 [00:05<00:00, 44.48it/s]\n",
      "Training Epoch 1803: 100%|██████████| 261/261 [00:05<00:00, 43.82it/s]\n",
      "Training Epoch 1804: 100%|██████████| 261/261 [00:05<00:00, 44.99it/s]\n",
      "Training Epoch 1805: 100%|██████████| 261/261 [00:06<00:00, 42.29it/s]\n",
      "Training Epoch 1806: 100%|██████████| 261/261 [00:06<00:00, 40.95it/s]\n",
      "Training Epoch 1807: 100%|██████████| 261/261 [00:06<00:00, 42.91it/s]\n",
      "Training Epoch 1808: 100%|██████████| 261/261 [00:06<00:00, 43.03it/s]\n",
      "Training Epoch 1809: 100%|██████████| 261/261 [00:06<00:00, 42.61it/s]\n",
      "Training Epoch 1810: 100%|██████████| 261/261 [00:05<00:00, 43.93it/s]\n",
      "Training Epoch 1811: 100%|██████████| 261/261 [00:05<00:00, 43.69it/s]\n"
     ]
    },
    {
     "name": "stdout",
     "output_type": "stream",
     "text": [
      "Epoch 1810 - Train Loss: 0.0379, Train MSE: 0.0379, Train MAE: 0.1304\n",
      "Epoch 1810 - Validation Loss: 1.7067, Validation MSE: 1.7085, Validation MAE: 0.9275\n"
     ]
    },
    {
     "name": "stderr",
     "output_type": "stream",
     "text": [
      "Training Epoch 1812: 100%|██████████| 261/261 [00:06<00:00, 43.13it/s]\n",
      "Training Epoch 1813: 100%|██████████| 261/261 [00:06<00:00, 43.07it/s]\n",
      "Training Epoch 1814: 100%|██████████| 261/261 [00:05<00:00, 43.88it/s]\n",
      "Training Epoch 1815: 100%|██████████| 261/261 [00:06<00:00, 42.87it/s]\n",
      "Training Epoch 1816: 100%|██████████| 261/261 [00:06<00:00, 40.94it/s]\n",
      "Training Epoch 1817: 100%|██████████| 261/261 [00:05<00:00, 44.77it/s]\n",
      "Training Epoch 1818: 100%|██████████| 261/261 [00:06<00:00, 43.43it/s]\n",
      "Training Epoch 1819: 100%|██████████| 261/261 [00:06<00:00, 43.37it/s]\n",
      "Training Epoch 1820: 100%|██████████| 261/261 [00:06<00:00, 43.21it/s]\n",
      "Training Epoch 1821: 100%|██████████| 261/261 [00:06<00:00, 42.79it/s]\n"
     ]
    },
    {
     "name": "stdout",
     "output_type": "stream",
     "text": [
      "Epoch 1820 - Train Loss: 0.0434, Train MSE: 0.0434, Train MAE: 0.1378\n",
      "Epoch 1820 - Validation Loss: 1.6976, Validation MSE: 1.6993, Validation MAE: 0.9276\n"
     ]
    },
    {
     "name": "stderr",
     "output_type": "stream",
     "text": [
      "Training Epoch 1822: 100%|██████████| 261/261 [00:05<00:00, 43.56it/s]\n",
      "Training Epoch 1823: 100%|██████████| 261/261 [00:05<00:00, 44.54it/s]\n",
      "Training Epoch 1824: 100%|██████████| 261/261 [00:06<00:00, 43.07it/s]\n",
      "Training Epoch 1825: 100%|██████████| 261/261 [00:06<00:00, 42.87it/s]\n",
      "Training Epoch 1826: 100%|██████████| 261/261 [00:06<00:00, 42.75it/s]\n",
      "Training Epoch 1827: 100%|██████████| 261/261 [00:05<00:00, 43.55it/s]\n",
      "Training Epoch 1828: 100%|██████████| 261/261 [00:06<00:00, 43.34it/s]\n",
      "Training Epoch 1829: 100%|██████████| 261/261 [00:05<00:00, 43.82it/s]\n",
      "Training Epoch 1830: 100%|██████████| 261/261 [00:06<00:00, 42.10it/s]\n",
      "Training Epoch 1831: 100%|██████████| 261/261 [00:06<00:00, 43.35it/s]\n"
     ]
    },
    {
     "name": "stdout",
     "output_type": "stream",
     "text": [
      "Epoch 1830 - Train Loss: 0.0391, Train MSE: 0.0391, Train MAE: 0.1307\n",
      "Epoch 1830 - Validation Loss: 1.6900, Validation MSE: 1.6917, Validation MAE: 0.9238\n"
     ]
    },
    {
     "name": "stderr",
     "output_type": "stream",
     "text": [
      "Training Epoch 1832: 100%|██████████| 261/261 [00:05<00:00, 43.94it/s]\n",
      "Training Epoch 1833: 100%|██████████| 261/261 [00:06<00:00, 42.35it/s]\n",
      "Training Epoch 1834: 100%|██████████| 261/261 [00:06<00:00, 43.48it/s]\n",
      "Training Epoch 1835: 100%|██████████| 261/261 [00:06<00:00, 41.48it/s]\n",
      "Training Epoch 1836: 100%|██████████| 261/261 [00:05<00:00, 44.00it/s]\n",
      "Training Epoch 1837: 100%|██████████| 261/261 [00:06<00:00, 42.97it/s]\n",
      "Training Epoch 1838: 100%|██████████| 261/261 [00:06<00:00, 43.48it/s]\n",
      "Training Epoch 1839: 100%|██████████| 261/261 [00:05<00:00, 44.75it/s]\n",
      "Training Epoch 1840: 100%|██████████| 261/261 [00:05<00:00, 43.91it/s]\n",
      "Training Epoch 1841: 100%|██████████| 261/261 [00:06<00:00, 42.87it/s]\n"
     ]
    },
    {
     "name": "stdout",
     "output_type": "stream",
     "text": [
      "Epoch 1840 - Train Loss: 0.0365, Train MSE: 0.0365, Train MAE: 0.1299\n",
      "Epoch 1840 - Validation Loss: 1.6728, Validation MSE: 1.6746, Validation MAE: 0.9203\n"
     ]
    },
    {
     "name": "stderr",
     "output_type": "stream",
     "text": [
      "Training Epoch 1842: 100%|██████████| 261/261 [00:05<00:00, 43.63it/s]\n",
      "Training Epoch 1843: 100%|██████████| 261/261 [00:05<00:00, 45.52it/s]\n",
      "Training Epoch 1844: 100%|██████████| 261/261 [00:06<00:00, 40.94it/s]\n",
      "Training Epoch 1845: 100%|██████████| 261/261 [00:05<00:00, 43.58it/s]\n",
      "Training Epoch 1846: 100%|██████████| 261/261 [00:06<00:00, 43.31it/s]\n",
      "Training Epoch 1847: 100%|██████████| 261/261 [00:06<00:00, 42.69it/s]\n",
      "Training Epoch 1848: 100%|██████████| 261/261 [00:05<00:00, 44.75it/s]\n",
      "Training Epoch 1849: 100%|██████████| 261/261 [00:05<00:00, 44.56it/s]\n",
      "Training Epoch 1850: 100%|██████████| 261/261 [00:05<00:00, 44.25it/s]\n",
      "Training Epoch 1851: 100%|██████████| 261/261 [00:06<00:00, 42.92it/s]\n"
     ]
    },
    {
     "name": "stdout",
     "output_type": "stream",
     "text": [
      "Epoch 1850 - Train Loss: 0.0403, Train MSE: 0.0403, Train MAE: 0.1342\n",
      "Epoch 1850 - Validation Loss: 1.6689, Validation MSE: 1.6705, Validation MAE: 0.9174\n"
     ]
    },
    {
     "name": "stderr",
     "output_type": "stream",
     "text": [
      "Training Epoch 1852: 100%|██████████| 261/261 [00:05<00:00, 44.15it/s]\n",
      "Training Epoch 1853: 100%|██████████| 261/261 [00:05<00:00, 45.13it/s]\n",
      "Training Epoch 1854: 100%|██████████| 261/261 [00:06<00:00, 41.94it/s]\n",
      "Training Epoch 1855: 100%|██████████| 261/261 [00:05<00:00, 43.73it/s]\n",
      "Training Epoch 1856: 100%|██████████| 261/261 [00:06<00:00, 43.30it/s]\n",
      "Training Epoch 1857: 100%|██████████| 261/261 [00:06<00:00, 41.26it/s]\n",
      "Training Epoch 1858: 100%|██████████| 261/261 [00:05<00:00, 44.39it/s]\n",
      "Training Epoch 1859: 100%|██████████| 261/261 [00:05<00:00, 44.37it/s]\n",
      "Training Epoch 1860: 100%|██████████| 261/261 [00:05<00:00, 45.23it/s]\n",
      "Training Epoch 1861: 100%|██████████| 261/261 [00:05<00:00, 44.63it/s]\n"
     ]
    },
    {
     "name": "stdout",
     "output_type": "stream",
     "text": [
      "Epoch 1860 - Train Loss: 0.0390, Train MSE: 0.0390, Train MAE: 0.1319\n",
      "Epoch 1860 - Validation Loss: 1.6799, Validation MSE: 1.6816, Validation MAE: 0.9182\n"
     ]
    },
    {
     "name": "stderr",
     "output_type": "stream",
     "text": [
      "Training Epoch 1862: 100%|██████████| 261/261 [00:06<00:00, 41.09it/s]\n",
      "Training Epoch 1863: 100%|██████████| 261/261 [00:06<00:00, 40.32it/s]\n",
      "Training Epoch 1864: 100%|██████████| 261/261 [00:06<00:00, 42.06it/s]\n",
      "Training Epoch 1865: 100%|██████████| 261/261 [00:05<00:00, 43.74it/s]\n",
      "Training Epoch 1866: 100%|██████████| 261/261 [00:05<00:00, 43.84it/s]\n",
      "Training Epoch 1867: 100%|██████████| 261/261 [00:05<00:00, 44.25it/s]\n",
      "Training Epoch 1868: 100%|██████████| 261/261 [00:06<00:00, 43.25it/s]\n",
      "Training Epoch 1869: 100%|██████████| 261/261 [00:06<00:00, 43.15it/s]\n",
      "Training Epoch 1870: 100%|██████████| 261/261 [00:05<00:00, 44.19it/s]\n",
      "Training Epoch 1871: 100%|██████████| 261/261 [00:05<00:00, 44.15it/s]\n"
     ]
    },
    {
     "name": "stdout",
     "output_type": "stream",
     "text": [
      "Epoch 1870 - Train Loss: 0.0374, Train MSE: 0.0374, Train MAE: 0.1314\n",
      "Epoch 1870 - Validation Loss: 1.6885, Validation MSE: 1.6901, Validation MAE: 0.9238\n"
     ]
    },
    {
     "name": "stderr",
     "output_type": "stream",
     "text": [
      "Training Epoch 1872: 100%|██████████| 261/261 [00:06<00:00, 43.26it/s]\n",
      "Training Epoch 1873: 100%|██████████| 261/261 [00:06<00:00, 41.11it/s]\n",
      "Training Epoch 1874: 100%|██████████| 261/261 [00:06<00:00, 40.72it/s]\n",
      "Training Epoch 1875: 100%|██████████| 261/261 [00:05<00:00, 44.05it/s]\n",
      "Training Epoch 1876: 100%|██████████| 261/261 [00:05<00:00, 43.96it/s]\n",
      "Training Epoch 1877: 100%|██████████| 261/261 [00:06<00:00, 43.07it/s]\n",
      "Training Epoch 1878: 100%|██████████| 261/261 [00:05<00:00, 43.88it/s]\n",
      "Training Epoch 1879: 100%|██████████| 261/261 [00:05<00:00, 45.05it/s]\n",
      "Training Epoch 1880: 100%|██████████| 261/261 [00:06<00:00, 42.93it/s]\n",
      "Training Epoch 1881: 100%|██████████| 261/261 [00:05<00:00, 43.77it/s]\n"
     ]
    },
    {
     "name": "stdout",
     "output_type": "stream",
     "text": [
      "Epoch 1880 - Train Loss: 0.0381, Train MSE: 0.0380, Train MAE: 0.1323\n",
      "Epoch 1880 - Validation Loss: 1.7023, Validation MSE: 1.7040, Validation MAE: 0.9245\n"
     ]
    },
    {
     "name": "stderr",
     "output_type": "stream",
     "text": [
      "Training Epoch 1882: 100%|██████████| 261/261 [00:06<00:00, 42.36it/s]\n",
      "Training Epoch 1883: 100%|██████████| 261/261 [00:05<00:00, 44.51it/s]\n",
      "Training Epoch 1884: 100%|██████████| 261/261 [00:05<00:00, 44.08it/s]\n",
      "Training Epoch 1885: 100%|██████████| 261/261 [00:06<00:00, 42.42it/s]\n",
      "Training Epoch 1886: 100%|██████████| 261/261 [00:05<00:00, 43.58it/s]\n",
      "Training Epoch 1887: 100%|██████████| 261/261 [00:05<00:00, 43.54it/s]\n",
      "Training Epoch 1888: 100%|██████████| 261/261 [00:05<00:00, 44.15it/s]\n",
      "Training Epoch 1889: 100%|██████████| 261/261 [00:05<00:00, 43.71it/s]\n",
      "Training Epoch 1890: 100%|██████████| 261/261 [00:05<00:00, 43.74it/s]\n",
      "Training Epoch 1891: 100%|██████████| 261/261 [00:05<00:00, 43.51it/s]\n"
     ]
    },
    {
     "name": "stdout",
     "output_type": "stream",
     "text": [
      "Epoch 1890 - Train Loss: 0.0382, Train MSE: 0.0383, Train MAE: 0.1341\n",
      "Epoch 1890 - Validation Loss: 1.6763, Validation MSE: 1.6781, Validation MAE: 0.9188\n"
     ]
    },
    {
     "name": "stderr",
     "output_type": "stream",
     "text": [
      "Training Epoch 1892: 100%|██████████| 261/261 [00:06<00:00, 42.22it/s]\n",
      "Training Epoch 1893: 100%|██████████| 261/261 [00:06<00:00, 42.99it/s]\n",
      "Training Epoch 1894: 100%|██████████| 261/261 [00:06<00:00, 43.25it/s]\n",
      "Training Epoch 1895: 100%|██████████| 261/261 [00:06<00:00, 42.75it/s]\n",
      "Training Epoch 1896: 100%|██████████| 261/261 [00:05<00:00, 43.81it/s]\n",
      "Training Epoch 1897: 100%|██████████| 261/261 [00:05<00:00, 43.87it/s]\n",
      "Training Epoch 1898: 100%|██████████| 261/261 [00:05<00:00, 45.18it/s]\n",
      "Training Epoch 1899: 100%|██████████| 261/261 [00:05<00:00, 44.32it/s]\n",
      "Training Epoch 1900: 100%|██████████| 261/261 [00:05<00:00, 43.97it/s]\n",
      "Training Epoch 1901: 100%|██████████| 261/261 [00:06<00:00, 42.66it/s]\n"
     ]
    },
    {
     "name": "stdout",
     "output_type": "stream",
     "text": [
      "Epoch 1900 - Train Loss: 0.0418, Train MSE: 0.0418, Train MAE: 0.1361\n",
      "Epoch 1900 - Validation Loss: 1.6746, Validation MSE: 1.6765, Validation MAE: 0.9196\n"
     ]
    },
    {
     "name": "stderr",
     "output_type": "stream",
     "text": [
      "Training Epoch 1902: 100%|██████████| 261/261 [00:06<00:00, 42.62it/s]\n",
      "Training Epoch 1903: 100%|██████████| 261/261 [00:06<00:00, 43.50it/s]\n",
      "Training Epoch 1904: 100%|██████████| 261/261 [00:05<00:00, 44.02it/s]\n",
      "Training Epoch 1905: 100%|██████████| 261/261 [00:05<00:00, 44.03it/s]\n",
      "Training Epoch 1906: 100%|██████████| 261/261 [00:06<00:00, 42.39it/s]\n",
      "Training Epoch 1907: 100%|██████████| 261/261 [00:06<00:00, 43.41it/s]\n",
      "Training Epoch 1908: 100%|██████████| 261/261 [00:05<00:00, 44.91it/s]\n",
      "Training Epoch 1909: 100%|██████████| 261/261 [00:05<00:00, 44.40it/s]\n",
      "Training Epoch 1910: 100%|██████████| 261/261 [00:06<00:00, 43.11it/s]\n",
      "Training Epoch 1911: 100%|██████████| 261/261 [00:06<00:00, 43.04it/s]\n"
     ]
    },
    {
     "name": "stdout",
     "output_type": "stream",
     "text": [
      "Epoch 1910 - Train Loss: 0.0422, Train MSE: 0.0422, Train MAE: 0.1371\n",
      "Epoch 1910 - Validation Loss: 1.6734, Validation MSE: 1.6752, Validation MAE: 0.9174\n"
     ]
    },
    {
     "name": "stderr",
     "output_type": "stream",
     "text": [
      "Training Epoch 1912: 100%|██████████| 261/261 [00:05<00:00, 43.54it/s]\n",
      "Training Epoch 1913: 100%|██████████| 261/261 [00:06<00:00, 43.41it/s]\n",
      "Training Epoch 1914: 100%|██████████| 261/261 [00:05<00:00, 43.71it/s]\n",
      "Training Epoch 1915: 100%|██████████| 261/261 [00:05<00:00, 44.04it/s]\n",
      "Training Epoch 1916: 100%|██████████| 261/261 [00:05<00:00, 45.43it/s]\n",
      "Training Epoch 1917: 100%|██████████| 261/261 [00:05<00:00, 44.83it/s]\n",
      "Training Epoch 1918: 100%|██████████| 261/261 [00:05<00:00, 44.50it/s]\n",
      "Training Epoch 1919: 100%|██████████| 261/261 [00:05<00:00, 43.64it/s]\n",
      "Training Epoch 1920: 100%|██████████| 261/261 [00:05<00:00, 43.53it/s]\n",
      "Training Epoch 1921: 100%|██████████| 261/261 [00:06<00:00, 41.31it/s]\n"
     ]
    },
    {
     "name": "stdout",
     "output_type": "stream",
     "text": [
      "Epoch 1920 - Train Loss: 0.0392, Train MSE: 0.0392, Train MAE: 0.1345\n",
      "Epoch 1920 - Validation Loss: 1.7047, Validation MSE: 1.7066, Validation MAE: 0.9208\n"
     ]
    },
    {
     "name": "stderr",
     "output_type": "stream",
     "text": [
      "Training Epoch 1922: 100%|██████████| 261/261 [00:05<00:00, 44.36it/s]\n",
      "Training Epoch 1923: 100%|██████████| 261/261 [00:05<00:00, 44.39it/s]\n",
      "Training Epoch 1924: 100%|██████████| 261/261 [00:06<00:00, 43.49it/s]\n",
      "Training Epoch 1925: 100%|██████████| 261/261 [00:06<00:00, 42.80it/s]\n",
      "Training Epoch 1926: 100%|██████████| 261/261 [00:05<00:00, 44.33it/s]\n",
      "Training Epoch 1927: 100%|██████████| 261/261 [00:05<00:00, 44.75it/s]\n",
      "Training Epoch 1928: 100%|██████████| 261/261 [00:05<00:00, 43.74it/s]\n",
      "Training Epoch 1929: 100%|██████████| 261/261 [00:05<00:00, 44.75it/s]\n",
      "Training Epoch 1930: 100%|██████████| 261/261 [00:06<00:00, 42.84it/s]\n",
      "Training Epoch 1931: 100%|██████████| 261/261 [00:06<00:00, 41.73it/s]\n"
     ]
    },
    {
     "name": "stdout",
     "output_type": "stream",
     "text": [
      "Epoch 1930 - Train Loss: 0.0386, Train MSE: 0.0386, Train MAE: 0.1309\n",
      "Epoch 1930 - Validation Loss: 1.6907, Validation MSE: 1.6925, Validation MAE: 0.9241\n"
     ]
    },
    {
     "name": "stderr",
     "output_type": "stream",
     "text": [
      "Training Epoch 1932: 100%|██████████| 261/261 [00:06<00:00, 43.46it/s]\n",
      "Training Epoch 1933: 100%|██████████| 261/261 [00:06<00:00, 43.01it/s]\n",
      "Training Epoch 1934: 100%|██████████| 261/261 [00:06<00:00, 43.00it/s]\n",
      "Training Epoch 1935: 100%|██████████| 261/261 [00:05<00:00, 44.08it/s]\n",
      "Training Epoch 1936: 100%|██████████| 261/261 [00:05<00:00, 43.79it/s]\n",
      "Training Epoch 1937: 100%|██████████| 261/261 [00:05<00:00, 43.55it/s]\n",
      "Training Epoch 1938: 100%|██████████| 261/261 [00:06<00:00, 43.41it/s]\n",
      "Training Epoch 1939: 100%|██████████| 261/261 [00:05<00:00, 44.74it/s]\n",
      "Training Epoch 1940: 100%|██████████| 261/261 [00:06<00:00, 41.41it/s]\n",
      "Training Epoch 1941: 100%|██████████| 261/261 [00:05<00:00, 43.99it/s]\n"
     ]
    },
    {
     "name": "stdout",
     "output_type": "stream",
     "text": [
      "Epoch 1940 - Train Loss: 0.0354, Train MSE: 0.0354, Train MAE: 0.1277\n",
      "Epoch 1940 - Validation Loss: 1.6875, Validation MSE: 1.6892, Validation MAE: 0.9224\n"
     ]
    },
    {
     "name": "stderr",
     "output_type": "stream",
     "text": [
      "Training Epoch 1942: 100%|██████████| 261/261 [00:06<00:00, 43.43it/s]\n",
      "Training Epoch 1943: 100%|██████████| 261/261 [00:06<00:00, 42.40it/s]\n",
      "Training Epoch 1944: 100%|██████████| 261/261 [00:06<00:00, 43.32it/s]\n",
      "Training Epoch 1945: 100%|██████████| 261/261 [00:06<00:00, 43.37it/s]\n",
      "Training Epoch 1946: 100%|██████████| 261/261 [00:05<00:00, 44.01it/s]\n",
      "Training Epoch 1947: 100%|██████████| 261/261 [00:05<00:00, 45.12it/s]\n",
      "Training Epoch 1948: 100%|██████████| 261/261 [00:05<00:00, 44.23it/s]\n",
      "Training Epoch 1949: 100%|██████████| 261/261 [00:06<00:00, 41.99it/s]\n",
      "Training Epoch 1950: 100%|██████████| 261/261 [00:06<00:00, 43.13it/s]\n",
      "Training Epoch 1951: 100%|██████████| 261/261 [00:05<00:00, 43.76it/s]\n"
     ]
    },
    {
     "name": "stdout",
     "output_type": "stream",
     "text": [
      "Epoch 1950 - Train Loss: 0.0392, Train MSE: 0.0392, Train MAE: 0.1335\n",
      "Epoch 1950 - Validation Loss: 1.6869, Validation MSE: 1.6887, Validation MAE: 0.9256\n"
     ]
    },
    {
     "name": "stderr",
     "output_type": "stream",
     "text": [
      "Training Epoch 1952: 100%|██████████| 261/261 [00:06<00:00, 42.76it/s]\n",
      "Training Epoch 1953: 100%|██████████| 261/261 [00:05<00:00, 44.54it/s]\n",
      "Training Epoch 1954: 100%|██████████| 261/261 [00:05<00:00, 44.46it/s]\n",
      "Training Epoch 1955: 100%|██████████| 261/261 [00:05<00:00, 43.56it/s]\n",
      "Training Epoch 1956: 100%|██████████| 261/261 [00:05<00:00, 44.76it/s]\n",
      "Training Epoch 1957: 100%|██████████| 261/261 [00:05<00:00, 44.24it/s]\n",
      "Training Epoch 1958: 100%|██████████| 261/261 [00:05<00:00, 44.96it/s]\n",
      "Training Epoch 1959: 100%|██████████| 261/261 [00:06<00:00, 42.51it/s]\n",
      "Training Epoch 1960: 100%|██████████| 261/261 [00:06<00:00, 42.04it/s]\n",
      "Training Epoch 1961: 100%|██████████| 261/261 [00:05<00:00, 44.28it/s]\n"
     ]
    },
    {
     "name": "stdout",
     "output_type": "stream",
     "text": [
      "Epoch 1960 - Train Loss: 0.0362, Train MSE: 0.0362, Train MAE: 0.1283\n",
      "Epoch 1960 - Validation Loss: 1.6818, Validation MSE: 1.6837, Validation MAE: 0.9212\n"
     ]
    },
    {
     "name": "stderr",
     "output_type": "stream",
     "text": [
      "Training Epoch 1962: 100%|██████████| 261/261 [00:05<00:00, 45.04it/s]\n",
      "Training Epoch 1963: 100%|██████████| 261/261 [00:05<00:00, 44.89it/s]\n",
      "Training Epoch 1964: 100%|██████████| 261/261 [00:06<00:00, 43.27it/s]\n",
      "Training Epoch 1965: 100%|██████████| 261/261 [00:05<00:00, 44.89it/s]\n",
      "Training Epoch 1966: 100%|██████████| 261/261 [00:06<00:00, 43.18it/s]\n",
      "Training Epoch 1967: 100%|██████████| 261/261 [00:05<00:00, 43.63it/s]\n",
      "Training Epoch 1968: 100%|██████████| 261/261 [00:05<00:00, 44.83it/s]\n",
      "Training Epoch 1969: 100%|██████████| 261/261 [00:06<00:00, 40.72it/s]\n",
      "Training Epoch 1970: 100%|██████████| 261/261 [00:05<00:00, 43.93it/s]\n",
      "Training Epoch 1971: 100%|██████████| 261/261 [00:06<00:00, 42.46it/s]\n"
     ]
    },
    {
     "name": "stdout",
     "output_type": "stream",
     "text": [
      "Epoch 1970 - Train Loss: 0.0376, Train MSE: 0.0376, Train MAE: 0.1306\n",
      "Epoch 1970 - Validation Loss: 1.7056, Validation MSE: 1.7074, Validation MAE: 0.9251\n"
     ]
    },
    {
     "name": "stderr",
     "output_type": "stream",
     "text": [
      "Training Epoch 1972: 100%|██████████| 261/261 [00:05<00:00, 43.91it/s]\n",
      "Training Epoch 1973: 100%|██████████| 261/261 [00:05<00:00, 43.83it/s]\n",
      "Training Epoch 1974: 100%|██████████| 261/261 [00:06<00:00, 43.24it/s]\n",
      "Training Epoch 1975: 100%|██████████| 261/261 [00:05<00:00, 45.00it/s]\n",
      "Training Epoch 1976: 100%|██████████| 261/261 [00:06<00:00, 43.46it/s]\n",
      "Training Epoch 1977: 100%|██████████| 261/261 [00:06<00:00, 43.04it/s]\n",
      "Training Epoch 1978: 100%|██████████| 261/261 [00:06<00:00, 42.06it/s]\n",
      "Training Epoch 1979: 100%|██████████| 261/261 [00:06<00:00, 43.09it/s]\n",
      "Training Epoch 1980: 100%|██████████| 261/261 [00:05<00:00, 43.97it/s]\n",
      "Training Epoch 1981: 100%|██████████| 261/261 [00:06<00:00, 42.67it/s]\n"
     ]
    },
    {
     "name": "stdout",
     "output_type": "stream",
     "text": [
      "Epoch 1980 - Train Loss: 0.0388, Train MSE: 0.0388, Train MAE: 0.1290\n",
      "Epoch 1980 - Validation Loss: 1.7023, Validation MSE: 1.7040, Validation MAE: 0.9253\n"
     ]
    },
    {
     "name": "stderr",
     "output_type": "stream",
     "text": [
      "Training Epoch 1982: 100%|██████████| 261/261 [00:05<00:00, 47.49it/s]\n",
      "Training Epoch 1983: 100%|██████████| 261/261 [00:05<00:00, 49.03it/s]\n",
      "Training Epoch 1984: 100%|██████████| 261/261 [00:05<00:00, 49.06it/s]\n",
      "Training Epoch 1985: 100%|██████████| 261/261 [00:05<00:00, 48.35it/s]\n",
      "Training Epoch 1986: 100%|██████████| 261/261 [00:05<00:00, 48.75it/s]\n",
      "Training Epoch 1987: 100%|██████████| 261/261 [00:05<00:00, 50.60it/s]\n",
      "Training Epoch 1988: 100%|██████████| 261/261 [00:05<00:00, 48.68it/s]\n",
      "Training Epoch 1989: 100%|██████████| 261/261 [00:05<00:00, 47.06it/s]\n",
      "Training Epoch 1990: 100%|██████████| 261/261 [00:05<00:00, 47.14it/s]\n",
      "Training Epoch 1991: 100%|██████████| 261/261 [00:05<00:00, 48.36it/s]\n"
     ]
    },
    {
     "name": "stdout",
     "output_type": "stream",
     "text": [
      "Epoch 1990 - Train Loss: 0.0368, Train MSE: 0.0368, Train MAE: 0.1294\n",
      "Epoch 1990 - Validation Loss: 1.6746, Validation MSE: 1.6763, Validation MAE: 0.9133\n"
     ]
    },
    {
     "name": "stderr",
     "output_type": "stream",
     "text": [
      "Training Epoch 1992: 100%|██████████| 261/261 [00:05<00:00, 49.66it/s]\n",
      "Training Epoch 1993: 100%|██████████| 261/261 [00:05<00:00, 47.90it/s]\n",
      "Training Epoch 1994: 100%|██████████| 261/261 [00:05<00:00, 48.98it/s]\n",
      "Training Epoch 1995: 100%|██████████| 261/261 [00:05<00:00, 47.65it/s]\n",
      "Training Epoch 1996: 100%|██████████| 261/261 [00:05<00:00, 48.22it/s]\n",
      "Training Epoch 1997: 100%|██████████| 261/261 [00:05<00:00, 49.63it/s]\n",
      "Training Epoch 1998: 100%|██████████| 261/261 [00:05<00:00, 49.91it/s]\n",
      "Training Epoch 1999: 100%|██████████| 261/261 [00:05<00:00, 47.68it/s]\n",
      "Training Epoch 2000: 100%|██████████| 261/261 [00:05<00:00, 48.30it/s]\n"
     ]
    },
    {
     "name": "stdout",
     "output_type": "stream",
     "text": [
      "Test MSE: 1.8406, Test MAE: 0.9671\n"
     ]
    }
   ],
   "source": [
    "import torch\n",
    "import torch.nn as nn\n",
    "import torch.optim as optim\n",
    "from tqdm import tqdm\n",
    "import pandas as pd\n",
    "from sklearn.metrics import r2_score, median_absolute_error, explained_variance_score\n",
    "from scipy.stats import pearsonr\n",
    "\n",
    "\n",
    "train_history = pd.DataFrame(columns=[  'epoch',\n",
    "    'Train Loss', 'Train MSE', 'Train MAE', 'Train RMSE', 'Train R2', 'Train Pearson', 'Train Median_AE', 'Train Explained_VAR'\n",
    "    'Val Loss', 'Val MSE', 'Val MAE', 'Val RMSE', 'Val R2', 'Val Pearson', 'Val Median_AE', 'Val Explained_VAR'])\n",
    "# Verify feature dimensions\n",
    "for batch in train_loader:\n",
    "    mol_input_dim = batch['metabolite_features'].shape[1]  # Dynamically determine mol input dimension\n",
    "    protein_input_dim = batch['protein_features'].shape[1]  # Dynamically determine protein input dimension\n",
    "    break\n",
    "\n",
    "# Initialize model, optimizer, and loss function\n",
    "num_timesteps = 10\n",
    "model = TransformerRegressor(mol_input_dim=mol_input_dim, protein_input_dim=protein_input_dim)\n",
    "model = model.to(device)\n",
    "optimizer = optim.Adam(model.parameters(), lr=0.0001)\n",
    "criterion = nn.MSELoss()\n",
    "\n",
    "# Training and Validation Loop\n",
    "for epoch in range(2000):\n",
    "    model.train()\n",
    "    total_loss = 0.0\n",
    "    val_total_loss = 0.0\n",
    "    train_predictions, train_labels = [], []\n",
    "\n",
    "    for batch in tqdm(train_loader, desc=f\"Training Epoch {epoch + 1}\"):\n",
    "        mol_features = batch['metabolite_features'].to(device)\n",
    "        protein_features = batch['protein_features'].to(device)\n",
    "        labels = batch['label'].to(device)\n",
    "\n",
    "        optimizer.zero_grad()\n",
    "        outputs = model(mol_features, protein_features)\n",
    "        loss = criterion(outputs, labels)\n",
    "        loss.backward()\n",
    "        optimizer.step()\n",
    "        total_loss += loss.item()\n",
    "\n",
    "        # Store predictions and labels for metrics\n",
    "        train_predictions.extend(outputs.detach().cpu().numpy())\n",
    "        train_labels.extend(labels.cpu().numpy())\n",
    "\n",
    "    # Calculate training metrics\n",
    "    train_mse = ((torch.tensor(train_predictions) - torch.tensor(train_labels))**2).mean().item()\n",
    "    train_mae = torch.abs(torch.tensor(train_predictions) - torch.tensor(train_labels)).mean().item()\n",
    "    train_rmse = torch.sqrt((torch.tensor(train_predictions) - torch.tensor(train_labels)) ** 2).mean().item()\n",
    "    train_r2 = r2_score(np.array(train_labels), np.array(train_predictions))\n",
    "    train_pearson_corr, _ = pearsonr(np.array(train_labels), np.array(train_predictions))\n",
    "    train_median_ae = median_absolute_error(np.array(train_labels), np.array(train_predictions))\n",
    "    train_explained_var = explained_variance_score(np.array(train_labels), np.array(train_predictions))\n",
    "\n",
    "\n",
    "\n",
    "    if epoch % 10 == 0:\n",
    "        print(f\"Epoch {epoch} - Train Loss: {total_loss / len(train_loader):.4f}, Train MSE: {train_mse:.4f}, Train MAE: {train_mae:.4f}\")\n",
    "\n",
    "    # Validation\n",
    "    model.eval()\n",
    "    val_predictions, val_labels = [], []\n",
    "    with torch.no_grad():\n",
    "        for batch in val_loader:\n",
    "            mol_features = batch['metabolite_features'].to(device)\n",
    "            protein_features = batch['protein_features'].to(device)\n",
    "            labels = batch['label'].to(device)\n",
    "\n",
    "            outputs = model(mol_features, protein_features)\n",
    "            val_predictions.extend(outputs.cpu().numpy())\n",
    "            val_labels.extend(labels.cpu().numpy())\n",
    "            val_loss = criterion(outputs, labels)\n",
    "            val_total_loss += val_loss.item()\n",
    "\n",
    "    val_mse = ((torch.tensor(val_predictions) - torch.tensor(val_labels))**2).mean().item()\n",
    "    val_mae = torch.abs(torch.tensor(val_predictions) - torch.tensor(val_labels)).mean().item()\n",
    "    val_rmse = torch.sqrt((torch.tensor(val_predictions) - torch.tensor(val_labels)) ** 2).mean().item()\n",
    "    val_r2 = r2_score(np.array(val_labels), np.array(val_predictions))\n",
    "    val_pearson_corr, _ = pearsonr(np.array(val_labels), np.array(val_predictions))\n",
    "    val_median_ae = median_absolute_error(np.array(val_labels), np.array(val_predictions))\n",
    "    val_explained_var = explained_variance_score(np.array(val_labels), np.array(val_predictions))\n",
    "\n",
    "    if epoch % 10 == 0:\n",
    "        print(f\"Epoch {epoch} - Validation Loss: {val_total_loss / len(val_loader):.4f}, Validation MSE: {val_mse:.4f}, Validation MAE: {val_mae:.4f}\")\n",
    "\n",
    "    # Save metrics to DataFrame\n",
    "    new_row = {'epoch': epoch + 1, 'Train Loss': total_loss / len(train_loader), 'Train MSE': train_mse, 'Train MAE': train_mae, 'Train RMSE': train_rmse, 'Train R2': train_r2, 'Train Pearson': train_pearson_corr, 'Train Median_AE': train_median_ae, 'Train Explained_VAR': train_explained_var, \n",
    "               'Val Loss': val_total_loss / len(val_loader), 'Val MSE': val_mse, 'Val MAE': val_mae, 'Val RMSE': val_rmse, 'Val R2': val_r2, 'Val Pearson': val_pearson_corr, 'Val Median_AE': val_median_ae, 'Val Explained_VAR': val_explained_var}\n",
    "    train_history = pd.concat([train_history, pd.DataFrame([new_row])], ignore_index=True)\n",
    "\n"
   ]
  },
  {
   "cell_type": "code",
   "execution_count": 8,
   "metadata": {},
   "outputs": [],
   "source": [
    "for batch in train_loader:\n",
    "    mol_input_dim = batch['metabolite_features'].shape[1]  # Dynamically determine mol input dimension\n",
    "    protein_input_dim = batch['protein_features'].shape[1]  # Dynamically determine protein input dimension\n",
    "    break\n",
    "# First, reinitialize the model with the same architecture\n",
    "model = TransformerRegressor(mol_input_dim=mol_input_dim, protein_input_dim=protein_input_dim)\n",
    "\n",
    "# Load the saved model weights\n",
    "model.load_state_dict(torch.load('/Users/pinchichen/2025S lab/AI drug project/Catpred/Ki/trained_model/random_split/Transformer model_Catpred_Ki.pt'))\n",
    "\n",
    "# Move to device if using GPU\n",
    "model = model.to(device)\n"
   ]
  },
  {
   "cell_type": "code",
   "execution_count": 9,
   "metadata": {},
   "outputs": [
    {
     "name": "stdout",
     "output_type": "stream",
     "text": [
      "Test MSE: 1.8406, Test RMSE: 1.356681831, Test MAE: 0.9671, Test R2: 0.5144, Test Pearson Correlation: 0.7418, Test Median AE: 0.6727, Test Explained Variance: 0.5144\n"
     ]
    }
   ],
   "source": [
    "from sklearn.metrics import mean_squared_error, mean_absolute_error, r2_score, median_absolute_error, explained_variance_score\n",
    "from scipy.stats import pearsonr\n",
    "# Test Metrics\n",
    "model.eval()\n",
    "test_predictions, test_labels = [], []\n",
    "with torch.no_grad():\n",
    "    for batch in test_loader:\n",
    "        mol_features = batch['metabolite_features'].to(device)\n",
    "        protein_features = batch['protein_features'].to(device)\n",
    "        labels = batch['label'].to(device)\n",
    "\n",
    "        outputs = model(mol_features, protein_features)\n",
    "        test_predictions.extend(outputs.cpu().numpy())\n",
    "        test_labels.extend(labels.cpu().numpy())\n",
    "\n",
    "test_mse = ((torch.tensor(test_predictions) - torch.tensor(test_labels))**2).mean().item()\n",
    "test_mae = torch.abs(torch.tensor(test_predictions) - torch.tensor(test_labels)).mean().item()\n",
    "test_rmse = np.sqrt(test_mse)\n",
    "test_r2 = r2_score(np.array(test_labels), np.array(test_predictions))\n",
    "test_pearson_corr, _ = pearsonr(np.array(test_labels), np.array(test_predictions))\n",
    "test_median_ae = median_absolute_error(np.array(test_labels), np.array(test_predictions))\n",
    "test_explained_var = explained_variance_score(np.array(test_labels), np.array(test_predictions))\n",
    "\n",
    "print(f\"Test MSE: {test_mse:.4f}, Test RMSE: {test_rmse:.9f}, Test MAE: {test_mae:.4f}, Test R2: {test_r2:.4f}, Test Pearson Correlation: {test_pearson_corr:.4f}, Test Median AE: {test_median_ae:.4f}, Test Explained Variance: {test_explained_var:.4f}\")\n"
   ]
  },
  {
   "cell_type": "code",
   "execution_count": 10,
   "metadata": {},
   "outputs": [],
   "source": [
    "\n",
    "def evaluate_model(predictions, labels):\n",
    "    mse = mean_squared_error(labels, predictions)\n",
    "    rmse = np.sqrt(mse)\n",
    "    mae = mean_absolute_error(labels, predictions)\n",
    "    r2 = r2_score(labels, predictions)\n",
    "    pearson_corr, _ = pearsonr(labels, predictions)\n",
    "    medae = median_absolute_error(labels, predictions)\n",
    "    evs = explained_variance_score(labels, predictions)\n",
    "\n",
    "    return mse, rmse, mae, r2, pearson_corr, medae, evs"
   ]
  },
  {
   "cell_type": "code",
   "execution_count": 11,
   "metadata": {},
   "outputs": [],
   "source": [
    "model.eval()\n",
    "train_pred, train_labels = [], []\n",
    "with torch.no_grad():\n",
    "    for batch in train_loader:\n",
    "        mol_features = batch['metabolite_features'].to(device)\n",
    "        protein_features = batch['protein_features'].to(device)\n",
    "        labels = batch['label'].to(device)\n",
    "\n",
    "        outputs = model(mol_features, protein_features)\n",
    "        train_pred.extend(outputs.cpu().numpy())\n",
    "        train_labels.extend(labels.cpu().numpy())\n",
    "\n",
    "train_mse, train_rmse, train_mae, train_r2, train_pearson_corr, train_median_ae, train_explained_var = evaluate_model(train_pred, train_labels)"
   ]
  },
  {
   "cell_type": "code",
   "execution_count": 12,
   "metadata": {},
   "outputs": [],
   "source": [
    "model.eval()\n",
    "val_pred, val_labels = [], []\n",
    "with torch.no_grad():\n",
    "    for batch in val_loader:\n",
    "        mol_features = batch['metabolite_features'].to(device)\n",
    "        protein_features = batch['protein_features'].to(device)\n",
    "        labels = batch['label'].to(device)\n",
    "\n",
    "        outputs = model(mol_features, protein_features)\n",
    "        val_pred.extend(outputs.cpu().numpy())\n",
    "        val_labels.extend(labels.cpu().numpy())\n",
    "\n",
    "val_mse, val_rmse, val_mae, val_r2, val_pearson_corr, val_median_ae, val_explained_var = evaluate_model(val_pred, val_labels)\n"
   ]
  },
  {
   "cell_type": "code",
   "execution_count": 13,
   "metadata": {},
   "outputs": [],
   "source": [
    "# append the performance to the csv file\n",
    "df = {\n",
    "    'Model':['Transformer','Transformer','Transformer'],\n",
    "    'Dataset':['Train','Validation','Test'],\n",
    "    'MSE':[train_mse,val_mse,test_mse],\n",
    "    'RMSE':[train_rmse,val_rmse,test_rmse],\n",
    "    'MAE':[train_mae,val_mae,test_mae],\n",
    "    'R2':[train_r2,val_r2,test_r2],\n",
    "    'Pearson':[train_pearson_corr,val_pearson_corr,test_pearson_corr],\n",
    "    'Median_AE':[train_median_ae,val_median_ae,test_median_ae],\n",
    "    'Explained_VAR':[train_explained_var,val_explained_var,test_explained_var],\n",
    "    'Dataspliting Mode':['random','random','random']\n",
    "}\n",
    "df = pd.DataFrame(df)\n",
    "\n",
    "df.to_csv('/Users/pinchichen/2025S lab/AI drug project/Catpred/Ki/model performance metrics_Catpred_Ki.csv', mode='a', header=False)"
   ]
  },
  {
   "cell_type": "code",
   "execution_count": 10,
   "metadata": {},
   "outputs": [],
   "source": [
    "# Save the model and training history\n",
    "save_dir = '/Users/pinchichen/2025S lab/AI drug project/Catpred/Ki/trained_model/random_split'\n",
    "# save model weights and optimizer state\n",
    "torch.save(model.state_dict(), os.path.join(save_dir, 'Transformer model_Catpred_Ki.pt'))\n",
    "torch.save(optimizer.state_dict(), os.path.join(save_dir, 'Transformer optimizer_Catpred_Ki.pt'))"
   ]
  },
  {
   "cell_type": "code",
   "execution_count": 11,
   "metadata": {},
   "outputs": [
    {
     "data": {
      "image/png": "[encoded data removed]",
      "text/plain": [
       "<Figure size 1000x600 with 1 Axes>"
      ]
     },
     "metadata": {},
     "output_type": "display_data"
    }
   ],
   "source": [
    "import matplotlib.pyplot as plt\n",
    "import seaborn as sns\n",
    "sns.set(style='ticks')\n",
    "# Load metrics\n",
    "\n",
    "metrics = train_history\n",
    "\n",
    "# Plot the training loss over epochs using seaborn\n",
    "plt.figure(figsize=(10, 6))\n",
    "# sns.lineplot(data=metrics, x='epoch', y='Train Loss', label='Train Loss')\n",
    "# sns.lineplot(data=metrics, x='epoch', y='Val Loss', label='Val Loss')\n",
    "sns.lineplot(data=metrics, x='epoch', y='Val MSE', label='Valid_RMSE')\n",
    "sns.lineplot(data=metrics, x='epoch', y='Train MSE', label='Train_RMSE')\n",
    "# sns.lineplot(data=metrics, x='Epoch', y='Valid_MAE', label='Valid_MAE')\n",
    "# Add titles and labels\n",
    "plt.title('Training and Validation Metrics Over Epochs', fontsize=14)\n",
    "# Define the range of tick positions\n",
    "plt.xlabel('Epoch', fontsize=12)\n",
    "plt.ylabel('Loss', fontsize=12)\n",
    "plt.grid(False)\n",
    "# Show the plot\n",
    "plt.show()\n"
   ]
  },
  {
   "cell_type": "code",
   "execution_count": 12,
   "metadata": {},
   "outputs": [
    {
     "data": {
      "text/html": [
       "<div>\n",
       "<style scoped>\n",
       "    .dataframe tbody tr th:only-of-type {\n",
       "        vertical-align: middle;\n",
       "    }\n",
       "\n",
       "    .dataframe tbody tr th {\n",
       "        vertical-align: top;\n",
       "    }\n",
       "\n",
       "    .dataframe thead th {\n",
       "        text-align: right;\n",
       "    }\n",
       "</style>\n",
       "<table border=\"1\" class=\"dataframe\">\n",
       "  <thead>\n",
       "    <tr style=\"text-align: right;\">\n",
       "      <th></th>\n",
       "      <th>epoch</th>\n",
       "      <th>Train Loss</th>\n",
       "      <th>Train MSE</th>\n",
       "      <th>Train MAE</th>\n",
       "      <th>Train RMSE</th>\n",
       "      <th>Train R2</th>\n",
       "      <th>Train Pearson</th>\n",
       "      <th>Train Median_AE</th>\n",
       "      <th>Train Explained_VARVal Loss</th>\n",
       "      <th>Val MSE</th>\n",
       "      <th>Val MAE</th>\n",
       "      <th>Val RMSE</th>\n",
       "      <th>Val R2</th>\n",
       "      <th>Val Pearson</th>\n",
       "      <th>Val Median_AE</th>\n",
       "      <th>Val Explained_VAR</th>\n",
       "      <th>Train Explained_VAR</th>\n",
       "      <th>Val Loss</th>\n",
       "    </tr>\n",
       "  </thead>\n",
       "  <tbody>\n",
       "    <tr>\n",
       "      <th>1995</th>\n",
       "      <td>1996</td>\n",
       "      <td>0.036864</td>\n",
       "      <td>0.036864</td>\n",
       "      <td>0.127437</td>\n",
       "      <td>0.127437</td>\n",
       "      <td>0.990564</td>\n",
       "      <td>0.995271</td>\n",
       "      <td>0.092126</td>\n",
       "      <td>NaN</td>\n",
       "      <td>1.695220</td>\n",
       "      <td>0.921327</td>\n",
       "      <td>0.921327</td>\n",
       "      <td>0.575983</td>\n",
       "      <td>0.776300</td>\n",
       "      <td>0.640671</td>\n",
       "      <td>0.577165</td>\n",
       "      <td>0.990564</td>\n",
       "      <td>1.693445</td>\n",
       "    </tr>\n",
       "    <tr>\n",
       "      <th>1996</th>\n",
       "      <td>1997</td>\n",
       "      <td>0.035635</td>\n",
       "      <td>0.035632</td>\n",
       "      <td>0.127789</td>\n",
       "      <td>0.127789</td>\n",
       "      <td>0.990879</td>\n",
       "      <td>0.995429</td>\n",
       "      <td>0.092462</td>\n",
       "      <td>NaN</td>\n",
       "      <td>1.657063</td>\n",
       "      <td>0.911629</td>\n",
       "      <td>0.911629</td>\n",
       "      <td>0.585527</td>\n",
       "      <td>0.777496</td>\n",
       "      <td>0.629470</td>\n",
       "      <td>0.586170</td>\n",
       "      <td>0.990879</td>\n",
       "      <td>1.655252</td>\n",
       "    </tr>\n",
       "    <tr>\n",
       "      <th>1997</th>\n",
       "      <td>1998</td>\n",
       "      <td>0.037042</td>\n",
       "      <td>0.037042</td>\n",
       "      <td>0.128474</td>\n",
       "      <td>0.128474</td>\n",
       "      <td>0.990519</td>\n",
       "      <td>0.995248</td>\n",
       "      <td>0.092514</td>\n",
       "      <td>NaN</td>\n",
       "      <td>1.696821</td>\n",
       "      <td>0.918274</td>\n",
       "      <td>0.918274</td>\n",
       "      <td>0.575582</td>\n",
       "      <td>0.776311</td>\n",
       "      <td>0.630190</td>\n",
       "      <td>0.576624</td>\n",
       "      <td>0.990519</td>\n",
       "      <td>1.695179</td>\n",
       "    </tr>\n",
       "    <tr>\n",
       "      <th>1998</th>\n",
       "      <td>1999</td>\n",
       "      <td>0.036447</td>\n",
       "      <td>0.036451</td>\n",
       "      <td>0.127630</td>\n",
       "      <td>0.127630</td>\n",
       "      <td>0.990670</td>\n",
       "      <td>0.995324</td>\n",
       "      <td>0.092423</td>\n",
       "      <td>NaN</td>\n",
       "      <td>1.702532</td>\n",
       "      <td>0.926897</td>\n",
       "      <td>0.926897</td>\n",
       "      <td>0.574154</td>\n",
       "      <td>0.776669</td>\n",
       "      <td>0.649205</td>\n",
       "      <td>0.577019</td>\n",
       "      <td>0.990670</td>\n",
       "      <td>1.700648</td>\n",
       "    </tr>\n",
       "    <tr>\n",
       "      <th>1999</th>\n",
       "      <td>2000</td>\n",
       "      <td>0.039433</td>\n",
       "      <td>0.039434</td>\n",
       "      <td>0.131707</td>\n",
       "      <td>0.131707</td>\n",
       "      <td>0.989906</td>\n",
       "      <td>0.994941</td>\n",
       "      <td>0.095825</td>\n",
       "      <td>NaN</td>\n",
       "      <td>1.693484</td>\n",
       "      <td>0.922117</td>\n",
       "      <td>0.922117</td>\n",
       "      <td>0.576417</td>\n",
       "      <td>0.777954</td>\n",
       "      <td>0.632196</td>\n",
       "      <td>0.576971</td>\n",
       "      <td>0.989907</td>\n",
       "      <td>1.691645</td>\n",
       "    </tr>\n",
       "  </tbody>\n",
       "</table>\n",
       "</div>"
      ],
      "text/plain": [
       "     epoch  Train Loss  Train MSE  Train MAE  Train RMSE  Train R2  \\\n",
       "1995  1996    0.036864   0.036864   0.127437    0.127437  0.990564   \n",
       "1996  1997    0.035635   0.035632   0.127789    0.127789  0.990879   \n",
       "1997  1998    0.037042   0.037042   0.128474    0.128474  0.990519   \n",
       "1998  1999    0.036447   0.036451   0.127630    0.127630  0.990670   \n",
       "1999  2000    0.039433   0.039434   0.131707    0.131707  0.989906   \n",
       "\n",
       "      Train Pearson  Train Median_AE Train Explained_VARVal Loss   Val MSE  \\\n",
       "1995       0.995271         0.092126                         NaN  1.695220   \n",
       "1996       0.995429         0.092462                         NaN  1.657063   \n",
       "1997       0.995248         0.092514                         NaN  1.696821   \n",
       "1998       0.995324         0.092423                         NaN  1.702532   \n",
       "1999       0.994941         0.095825                         NaN  1.693484   \n",
       "\n",
       "       Val MAE  Val RMSE    Val R2  Val Pearson  Val Median_AE  \\\n",
       "1995  0.921327  0.921327  0.575983     0.776300       0.640671   \n",
       "1996  0.911629  0.911629  0.585527     0.777496       0.629470   \n",
       "1997  0.918274  0.918274  0.575582     0.776311       0.630190   \n",
       "1998  0.926897  0.926897  0.574154     0.776669       0.649205   \n",
       "1999  0.922117  0.922117  0.576417     0.777954       0.632196   \n",
       "\n",
       "      Val Explained_VAR  Train Explained_VAR  Val Loss  \n",
       "1995           0.577165             0.990564  1.693445  \n",
       "1996           0.586170             0.990879  1.655252  \n",
       "1997           0.576624             0.990519  1.695179  \n",
       "1998           0.577019             0.990670  1.700648  \n",
       "1999           0.576971             0.989907  1.691645  "
      ]
     },
     "execution_count": 12,
     "metadata": {},
     "output_type": "execute_result"
    }
   ],
   "source": [
    "train_history.tail()"
   ]
  },
  {
   "cell_type": "code",
   "execution_count": 13,
   "metadata": {},
   "outputs": [
    {
     "data": {
      "image/png": "[encoded data removed]",
      "text/plain": [
       "<Figure size 640x480 with 1 Axes>"
      ]
     },
     "metadata": {},
     "output_type": "display_data"
    }
   ],
   "source": [
    "# Plot the performance\n",
    "import matplotlib.pyplot as plt\n",
    "\n",
    "plt.scatter(test_labels, test_predictions, alpha=0.5)\n",
    "plt.xlabel(\"True Reactivity\")\n",
    "plt.ylabel(\"Predicted Reactivity\")\n",
    "plt.title(\"Transformer Predictions vs True Values\")\n",
    "plt.plot([min(test_labels), max(test_labels)], [min(test_labels), max(test_labels)], 'r--')\n",
    "plt.show()\n"
   ]
  }
 ],
 "metadata": {
  "kernelspec": {
   "display_name": "base",
   "language": "python",
   "name": "python3"
  },
  "language_info": {
   "codemirror_mode": {
    "name": "ipython",
    "version": 3
   },
   "file_extension": ".py",
   "mimetype": "text/x-python",
   "name": "python",
   "nbconvert_exporter": "python",
   "pygments_lexer": "ipython3",
   "version": "3.12.2"
  }
 },
 "nbformat": 4,
 "nbformat_minor": 2
}
