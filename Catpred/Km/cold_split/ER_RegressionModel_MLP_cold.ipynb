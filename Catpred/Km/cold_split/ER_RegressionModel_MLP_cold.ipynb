{
 "cells": [
  {
   "cell_type": "code",
   "execution_count": 1,
   "metadata": {},
   "outputs": [],
   "source": [
    "import pandas as pd\n",
    "import numpy as np\n",
    "from tqdm import tqdm\n",
    "import torch\n",
    "import torch.nn as nn\n",
    "import torch.optim as optim\n",
    "from torch.utils.data import DataLoader, Dataset\n",
    "from sklearn.metrics import roc_auc_score\n",
    "from sklearn.model_selection import train_test_split\n",
    "import os\n"
   ]
  },
  {
   "cell_type": "code",
   "execution_count": 2,
   "metadata": {},
   "outputs": [
    {
     "data": {
      "text/html": [
       "<div>\n",
       "<style scoped>\n",
       "    .dataframe tbody tr th:only-of-type {\n",
       "        vertical-align: middle;\n",
       "    }\n",
       "\n",
       "    .dataframe tbody tr th {\n",
       "        vertical-align: top;\n",
       "    }\n",
       "\n",
       "    .dataframe thead th {\n",
       "        text-align: right;\n",
       "    }\n",
       "</style>\n",
       "<table border=\"1\" class=\"dataframe\">\n",
       "  <thead>\n",
       "    <tr style=\"text-align: right;\">\n",
       "      <th></th>\n",
       "      <th>Sequence</th>\n",
       "      <th>sequence_source</th>\n",
       "      <th>uniprot</th>\n",
       "      <th>Smiles</th>\n",
       "      <th>value</th>\n",
       "      <th>ec</th>\n",
       "      <th>taxonomy_id</th>\n",
       "      <th>log10_value</th>\n",
       "      <th>log10km_mean</th>\n",
       "      <th>metabolite_features</th>\n",
       "      <th>protein_features</th>\n",
       "    </tr>\n",
       "  </thead>\n",
       "  <tbody>\n",
       "    <tr>\n",
       "      <th>0</th>\n",
       "      <td>MGQEKLYIEKELSWLSFNERVLQEAADKSNPLIERMRFLGIYSNNL...</td>\n",
       "      <td>sabio</td>\n",
       "      <td>P0A7B1</td>\n",
       "      <td>Nc1nc2c(ncn2C2OC(COP(=O)(O)OP(=O)(O)O)C(O)C2O)...</td>\n",
       "      <td>0.6300</td>\n",
       "      <td>2.7.4.1</td>\n",
       "      <td>562</td>\n",
       "      <td>-0.200659</td>\n",
       "      <td>-0.200659</td>\n",
       "      <td>[0.25370342, -0.3417107, -0.28024313, -0.04292...</td>\n",
       "      <td>[-0.06592023, -0.062496405, -0.012068139, 0.06...</td>\n",
       "    </tr>\n",
       "    <tr>\n",
       "      <th>1</th>\n",
       "      <td>MSQQPHTEQFPKNQPPLAERLASARQLVTKAISAVPPHPEPLPSPN...</td>\n",
       "      <td>brenda</td>\n",
       "      <td>A0A0S2SWE4</td>\n",
       "      <td>CC/C=C\\C/C=C\\C/C=C\\CCCCCCCC(=O)O</td>\n",
       "      <td>0.0264</td>\n",
       "      <td>1.13.11.60</td>\n",
       "      <td>474922</td>\n",
       "      <td>-1.578396</td>\n",
       "      <td>-1.553572</td>\n",
       "      <td>[0.61067283, 0.46248585, -0.051634412, -0.7397...</td>\n",
       "      <td>[0.16962084, -0.09671225, 0.116663285, 0.05065...</td>\n",
       "    </tr>\n",
       "    <tr>\n",
       "      <th>2</th>\n",
       "      <td>MSAAADRLNLTSGHLNAGRKRSSSSVSLKAVEKPFKVTVIGSGNWG...</td>\n",
       "      <td>uniprot_search</td>\n",
       "      <td>A0A060KZ16</td>\n",
       "      <td>O=C(CO)COP(=O)(O)O</td>\n",
       "      <td>0.6100</td>\n",
       "      <td>1.1.1.8</td>\n",
       "      <td>114524</td>\n",
       "      <td>-0.214670</td>\n",
       "      <td>-0.214670</td>\n",
       "      <td>[0.29938427, -0.0972216, -0.3334697, -0.721026...</td>\n",
       "      <td>[0.0933136, -0.117130496, 0.0676241, 0.0187789...</td>\n",
       "    </tr>\n",
       "    <tr>\n",
       "      <th>3</th>\n",
       "      <td>MLAEKTRSIIKATVPVLEQQGTVITRTFYKNMLTEHTELLNIFNRT...</td>\n",
       "      <td>sabio</td>\n",
       "      <td>P39676</td>\n",
       "      <td>NC(=O)C1=CN(C2OC(COP(=O)(O)OP(=O)(O)OCC3OC(n4c...</td>\n",
       "      <td>0.0280</td>\n",
       "      <td>1.14.12.17</td>\n",
       "      <td>4932</td>\n",
       "      <td>-1.552842</td>\n",
       "      <td>-1.552842</td>\n",
       "      <td>[0.639636, -0.14536878, -0.52627945, 0.1240742...</td>\n",
       "      <td>[-0.02827879, -0.04372119, 0.03182794, 0.19197...</td>\n",
       "    </tr>\n",
       "    <tr>\n",
       "      <th>4</th>\n",
       "      <td>MASAERVPVSFNKPGRVPFGEVQGYAPGHIPAYSNKHDHFFSGERS...</td>\n",
       "      <td>uniprot_search</td>\n",
       "      <td>O60993</td>\n",
       "      <td>Nc1ncnc2c1ncn2[C@H]1O[C@H](COP(=O)([O-])OP(=O)...</td>\n",
       "      <td>0.4000</td>\n",
       "      <td>6.3.1.9</td>\n",
       "      <td>5656</td>\n",
       "      <td>-0.397940</td>\n",
       "      <td>-0.397940</td>\n",
       "      <td>[0.25855744, 0.43888408, -0.7136499, 0.0234168...</td>\n",
       "      <td>[0.074476704, -0.050253637, 0.05497695, 0.1402...</td>\n",
       "    </tr>\n",
       "  </tbody>\n",
       "</table>\n",
       "</div>"
      ],
      "text/plain": [
       "                                            Sequence sequence_source  \\\n",
       "0  MGQEKLYIEKELSWLSFNERVLQEAADKSNPLIERMRFLGIYSNNL...           sabio   \n",
       "1  MSQQPHTEQFPKNQPPLAERLASARQLVTKAISAVPPHPEPLPSPN...          brenda   \n",
       "2  MSAAADRLNLTSGHLNAGRKRSSSSVSLKAVEKPFKVTVIGSGNWG...  uniprot_search   \n",
       "3  MLAEKTRSIIKATVPVLEQQGTVITRTFYKNMLTEHTELLNIFNRT...           sabio   \n",
       "4  MASAERVPVSFNKPGRVPFGEVQGYAPGHIPAYSNKHDHFFSGERS...  uniprot_search   \n",
       "\n",
       "      uniprot                                             Smiles   value  \\\n",
       "0      P0A7B1  Nc1nc2c(ncn2C2OC(COP(=O)(O)OP(=O)(O)O)C(O)C2O)...  0.6300   \n",
       "1  A0A0S2SWE4                   CC/C=C\\C/C=C\\C/C=C\\CCCCCCCC(=O)O  0.0264   \n",
       "2  A0A060KZ16                                 O=C(CO)COP(=O)(O)O  0.6100   \n",
       "3      P39676  NC(=O)C1=CN(C2OC(COP(=O)(O)OP(=O)(O)OCC3OC(n4c...  0.0280   \n",
       "4      O60993  Nc1ncnc2c1ncn2[C@H]1O[C@H](COP(=O)([O-])OP(=O)...  0.4000   \n",
       "\n",
       "           ec  taxonomy_id  log10_value  log10km_mean  \\\n",
       "0     2.7.4.1          562    -0.200659     -0.200659   \n",
       "1  1.13.11.60       474922    -1.578396     -1.553572   \n",
       "2     1.1.1.8       114524    -0.214670     -0.214670   \n",
       "3  1.14.12.17         4932    -1.552842     -1.552842   \n",
       "4     6.3.1.9         5656    -0.397940     -0.397940   \n",
       "\n",
       "                                 metabolite_features  \\\n",
       "0  [0.25370342, -0.3417107, -0.28024313, -0.04292...   \n",
       "1  [0.61067283, 0.46248585, -0.051634412, -0.7397...   \n",
       "2  [0.29938427, -0.0972216, -0.3334697, -0.721026...   \n",
       "3  [0.639636, -0.14536878, -0.52627945, 0.1240742...   \n",
       "4  [0.25855744, 0.43888408, -0.7136499, 0.0234168...   \n",
       "\n",
       "                                    protein_features  \n",
       "0  [-0.06592023, -0.062496405, -0.012068139, 0.06...  \n",
       "1  [0.16962084, -0.09671225, 0.116663285, 0.05065...  \n",
       "2  [0.0933136, -0.117130496, 0.0676241, 0.0187789...  \n",
       "3  [-0.02827879, -0.04372119, 0.03182794, 0.19197...  \n",
       "4  [0.074476704, -0.050253637, 0.05497695, 0.1402...  "
      ]
     },
     "execution_count": 2,
     "metadata": {},
     "output_type": "execute_result"
    }
   ],
   "source": [
    "import joblib\n",
    "import pandas as pd\n",
    "\n",
    "data_km = joblib.load('/Users/pinchichen/2025S lab/AI drug project/Catpred/dataset/km/km_with_features.joblib')\n",
    "data_km.head()"
   ]
  },
  {
   "cell_type": "code",
   "execution_count": 3,
   "metadata": {},
   "outputs": [
    {
     "data": {
      "text/html": [
       "<div>\n",
       "<style scoped>\n",
       "    .dataframe tbody tr th:only-of-type {\n",
       "        vertical-align: middle;\n",
       "    }\n",
       "\n",
       "    .dataframe tbody tr th {\n",
       "        vertical-align: top;\n",
       "    }\n",
       "\n",
       "    .dataframe thead th {\n",
       "        text-align: right;\n",
       "    }\n",
       "</style>\n",
       "<table border=\"1\" class=\"dataframe\">\n",
       "  <thead>\n",
       "    <tr style=\"text-align: right;\">\n",
       "      <th></th>\n",
       "      <th>Sequence</th>\n",
       "      <th>sequence_source</th>\n",
       "      <th>uniprot</th>\n",
       "      <th>Smiles</th>\n",
       "      <th>value</th>\n",
       "      <th>ec</th>\n",
       "      <th>taxonomy_id</th>\n",
       "      <th>log10_value</th>\n",
       "      <th>label</th>\n",
       "      <th>metabolite_features</th>\n",
       "      <th>protein_features</th>\n",
       "    </tr>\n",
       "  </thead>\n",
       "  <tbody>\n",
       "    <tr>\n",
       "      <th>0</th>\n",
       "      <td>MGQEKLYIEKELSWLSFNERVLQEAADKSNPLIERMRFLGIYSNNL...</td>\n",
       "      <td>sabio</td>\n",
       "      <td>P0A7B1</td>\n",
       "      <td>Nc1nc2c(ncn2C2OC(COP(=O)(O)OP(=O)(O)O)C(O)C2O)...</td>\n",
       "      <td>0.6300</td>\n",
       "      <td>2.7.4.1</td>\n",
       "      <td>562</td>\n",
       "      <td>-0.200659</td>\n",
       "      <td>-0.200659</td>\n",
       "      <td>[0.25370342, -0.3417107, -0.28024313, -0.04292...</td>\n",
       "      <td>[-0.06592023, -0.062496405, -0.012068139, 0.06...</td>\n",
       "    </tr>\n",
       "    <tr>\n",
       "      <th>1</th>\n",
       "      <td>MSQQPHTEQFPKNQPPLAERLASARQLVTKAISAVPPHPEPLPSPN...</td>\n",
       "      <td>brenda</td>\n",
       "      <td>A0A0S2SWE4</td>\n",
       "      <td>CC/C=C\\C/C=C\\C/C=C\\CCCCCCCC(=O)O</td>\n",
       "      <td>0.0264</td>\n",
       "      <td>1.13.11.60</td>\n",
       "      <td>474922</td>\n",
       "      <td>-1.578396</td>\n",
       "      <td>-1.553572</td>\n",
       "      <td>[0.61067283, 0.46248585, -0.051634412, -0.7397...</td>\n",
       "      <td>[0.16962084, -0.09671225, 0.116663285, 0.05065...</td>\n",
       "    </tr>\n",
       "    <tr>\n",
       "      <th>2</th>\n",
       "      <td>MSAAADRLNLTSGHLNAGRKRSSSSVSLKAVEKPFKVTVIGSGNWG...</td>\n",
       "      <td>uniprot_search</td>\n",
       "      <td>A0A060KZ16</td>\n",
       "      <td>O=C(CO)COP(=O)(O)O</td>\n",
       "      <td>0.6100</td>\n",
       "      <td>1.1.1.8</td>\n",
       "      <td>114524</td>\n",
       "      <td>-0.214670</td>\n",
       "      <td>-0.214670</td>\n",
       "      <td>[0.29938427, -0.0972216, -0.3334697, -0.721026...</td>\n",
       "      <td>[0.0933136, -0.117130496, 0.0676241, 0.0187789...</td>\n",
       "    </tr>\n",
       "    <tr>\n",
       "      <th>3</th>\n",
       "      <td>MLAEKTRSIIKATVPVLEQQGTVITRTFYKNMLTEHTELLNIFNRT...</td>\n",
       "      <td>sabio</td>\n",
       "      <td>P39676</td>\n",
       "      <td>NC(=O)C1=CN(C2OC(COP(=O)(O)OP(=O)(O)OCC3OC(n4c...</td>\n",
       "      <td>0.0280</td>\n",
       "      <td>1.14.12.17</td>\n",
       "      <td>4932</td>\n",
       "      <td>-1.552842</td>\n",
       "      <td>-1.552842</td>\n",
       "      <td>[0.639636, -0.14536878, -0.52627945, 0.1240742...</td>\n",
       "      <td>[-0.02827879, -0.04372119, 0.03182794, 0.19197...</td>\n",
       "    </tr>\n",
       "    <tr>\n",
       "      <th>4</th>\n",
       "      <td>MASAERVPVSFNKPGRVPFGEVQGYAPGHIPAYSNKHDHFFSGERS...</td>\n",
       "      <td>uniprot_search</td>\n",
       "      <td>O60993</td>\n",
       "      <td>Nc1ncnc2c1ncn2[C@H]1O[C@H](COP(=O)([O-])OP(=O)...</td>\n",
       "      <td>0.4000</td>\n",
       "      <td>6.3.1.9</td>\n",
       "      <td>5656</td>\n",
       "      <td>-0.397940</td>\n",
       "      <td>-0.397940</td>\n",
       "      <td>[0.25855744, 0.43888408, -0.7136499, 0.0234168...</td>\n",
       "      <td>[0.074476704, -0.050253637, 0.05497695, 0.1402...</td>\n",
       "    </tr>\n",
       "  </tbody>\n",
       "</table>\n",
       "</div>"
      ],
      "text/plain": [
       "                                            Sequence sequence_source  \\\n",
       "0  MGQEKLYIEKELSWLSFNERVLQEAADKSNPLIERMRFLGIYSNNL...           sabio   \n",
       "1  MSQQPHTEQFPKNQPPLAERLASARQLVTKAISAVPPHPEPLPSPN...          brenda   \n",
       "2  MSAAADRLNLTSGHLNAGRKRSSSSVSLKAVEKPFKVTVIGSGNWG...  uniprot_search   \n",
       "3  MLAEKTRSIIKATVPVLEQQGTVITRTFYKNMLTEHTELLNIFNRT...           sabio   \n",
       "4  MASAERVPVSFNKPGRVPFGEVQGYAPGHIPAYSNKHDHFFSGERS...  uniprot_search   \n",
       "\n",
       "      uniprot                                             Smiles   value  \\\n",
       "0      P0A7B1  Nc1nc2c(ncn2C2OC(COP(=O)(O)OP(=O)(O)O)C(O)C2O)...  0.6300   \n",
       "1  A0A0S2SWE4                   CC/C=C\\C/C=C\\C/C=C\\CCCCCCCC(=O)O  0.0264   \n",
       "2  A0A060KZ16                                 O=C(CO)COP(=O)(O)O  0.6100   \n",
       "3      P39676  NC(=O)C1=CN(C2OC(COP(=O)(O)OP(=O)(O)OCC3OC(n4c...  0.0280   \n",
       "4      O60993  Nc1ncnc2c1ncn2[C@H]1O[C@H](COP(=O)([O-])OP(=O)...  0.4000   \n",
       "\n",
       "           ec  taxonomy_id  log10_value     label  \\\n",
       "0     2.7.4.1          562    -0.200659 -0.200659   \n",
       "1  1.13.11.60       474922    -1.578396 -1.553572   \n",
       "2     1.1.1.8       114524    -0.214670 -0.214670   \n",
       "3  1.14.12.17         4932    -1.552842 -1.552842   \n",
       "4     6.3.1.9         5656    -0.397940 -0.397940   \n",
       "\n",
       "                                 metabolite_features  \\\n",
       "0  [0.25370342, -0.3417107, -0.28024313, -0.04292...   \n",
       "1  [0.61067283, 0.46248585, -0.051634412, -0.7397...   \n",
       "2  [0.29938427, -0.0972216, -0.3334697, -0.721026...   \n",
       "3  [0.639636, -0.14536878, -0.52627945, 0.1240742...   \n",
       "4  [0.25855744, 0.43888408, -0.7136499, 0.0234168...   \n",
       "\n",
       "                                    protein_features  \n",
       "0  [-0.06592023, -0.062496405, -0.012068139, 0.06...  \n",
       "1  [0.16962084, -0.09671225, 0.116663285, 0.05065...  \n",
       "2  [0.0933136, -0.117130496, 0.0676241, 0.0187789...  \n",
       "3  [-0.02827879, -0.04372119, 0.03182794, 0.19197...  \n",
       "4  [0.074476704, -0.050253637, 0.05497695, 0.1402...  "
      ]
     },
     "execution_count": 3,
     "metadata": {},
     "output_type": "execute_result"
    }
   ],
   "source": [
    "data_km.rename(columns={'log10km_mean':'label'},inplace=True)\n",
    "data_km.head()"
   ]
  },
  {
   "cell_type": "code",
   "execution_count": 4,
   "metadata": {},
   "outputs": [],
   "source": [
    "# Define dataset\n",
    "class MPI_Dataset(Dataset):\n",
    "    def __init__(self, dataframe):\n",
    "        self.dataframe = dataframe\n",
    "\n",
    "    def __len__(self):\n",
    "        return len(self.dataframe)\n",
    "\n",
    "    def __getitem__(self, idx):\n",
    "        row = self.dataframe.iloc[idx]\n",
    "        return {\n",
    "            'metabolite_features': torch.tensor(np.asarray(row['metabolite_features'], dtype=np.float32)),\n",
    "            'protein_features': torch.tensor(np.asarray(row['protein_features'], dtype=np.float32)),\n",
    "            'label': torch.tensor(float(row['label']), dtype=torch.float32),\n",
    "        }"
   ]
  },
  {
   "cell_type": "code",
   "execution_count": 5,
   "metadata": {},
   "outputs": [],
   "source": [
    "# Separate the dataset by unique proteins and drugs\n",
    "unique_proteins = data_km['Sequence'].unique()\n",
    "unique_mols = data_km['Smiles'].unique()\n",
    "# Set the seed for reproducibility\n",
    "torch.manual_seed(42)\n",
    "# Function to perform a cold split\n",
    "def cold_split(unique_items, test_size=0.2, val_size=0.1):\n",
    "    train_items, test_items = train_test_split(unique_items, test_size=test_size, random_state=42)\n",
    "    train_items, val_items = train_test_split(train_items, test_size=val_size / (1 - test_size), random_state=42)\n",
    "    return train_items, val_items, test_items\n",
    "# Cold split by proteins\n",
    "train_proteins, val_proteins, test_proteins = cold_split(unique_proteins)\n",
    "train_cold_protein = data_km[data_km['Sequence'].isin(train_proteins)]\n",
    "val_cold_protein = data_km[data_km['Sequence'].isin(val_proteins)]\n",
    "test_cold_protein = data_km[data_km['Sequence'].isin(test_proteins)]\n",
    "# Cold split by molecules\n",
    "train_mols, val_mols, test_mols = cold_split(unique_mols)\n",
    "train_cold_mols = data_km[data_km['Smiles'].isin(train_mols)]\n",
    "val_cold_mols = data_km[data_km['Smiles'].isin(val_mols)]\n",
    "test_cold_mols = data_km[data_km['Smiles'].isin(test_mols)]"
   ]
  },
  {
   "cell_type": "code",
   "execution_count": 6,
   "metadata": {},
   "outputs": [],
   "source": [
    "# cold protein\n",
    "train_dataset = MPI_Dataset(train_cold_protein)\n",
    "val_dataset = MPI_Dataset(val_cold_protein)\n",
    "test_dataset = MPI_Dataset(test_cold_protein)\n",
    "\n",
    "train_loader = DataLoader(train_dataset, batch_size=32, shuffle=True)\n",
    "val_loader = DataLoader(val_dataset, batch_size=32)\n",
    "test_loader = DataLoader(test_dataset, batch_size=32)\n",
    "\n",
    "# cold mols\n",
    "train_dataset_mols = MPI_Dataset(train_cold_mols)\n",
    "val_dataset_mols = MPI_Dataset(val_cold_mols)\n",
    "test_dataset_mols = MPI_Dataset(test_cold_mols)\n",
    "\n",
    "train_loader_mols = DataLoader(train_dataset_mols, batch_size=32, shuffle=True)\n",
    "val_loader_mols = DataLoader(val_dataset_mols, batch_size=32)\n",
    "test_loader_mols = DataLoader(test_dataset_mols, batch_size=32)"
   ]
  },
  {
   "cell_type": "code",
   "execution_count": 7,
   "metadata": {},
   "outputs": [],
   "source": [
    "import torch.nn as nn\n",
    "import torch\n",
    "import torch.nn.functional as F\n",
    "\n",
    "# Define MLP Model for Regression\n",
    "class MLPRegressor(nn.Module):\n",
    "    def __init__(self, mol_input_dim, protein_input_dim, hidden_dim=512):\n",
    "        super(MLPRegressor, self).__init__()\n",
    "\n",
    "        self.mol_encoder = nn.Linear(mol_input_dim, hidden_dim)\n",
    "        self.protein_encoder = nn.Linear(protein_input_dim, hidden_dim)\n",
    "        \n",
    "        # norm layer + Dropout\n",
    "        self.layer_norm = nn.LayerNorm(hidden_dim * 2)\n",
    "        self.dropout = nn.Dropout(0.3)\n",
    "\n",
    "        # hidden layer + output layer\n",
    "        self.hidden = nn.Linear(hidden_dim * 2, hidden_dim)\n",
    "        self.regressor = nn.Linear(hidden_dim, 1)\n",
    "\n",
    "        self.activation = nn.ReLU()\n",
    "\n",
    "    def forward(self, mol_input, protein_input):\n",
    "        # Reshape to (B, 1, L) for Conv1d\n",
    "        mol_embedding = self.activation(self.mol_encoder(mol_input))\n",
    "        protein_embedding = self.activation(self.protein_encoder(protein_input))\n",
    "\n",
    "        # Concatenate + Normalize + Dropout\n",
    "        combined = torch.cat((mol_embedding, protein_embedding), dim=-1)\n",
    "        combined = self.layer_norm(combined)\n",
    "        combined = self.dropout(combined)\n",
    "\n",
    "        # Hidden → Regress\n",
    "        hidden_out = self.activation(self.hidden(combined))\n",
    "        output = self.regressor(hidden_out)\n",
    "\n",
    "        return output.squeeze(1)\n"
   ]
  },
  {
   "cell_type": "code",
   "execution_count": 8,
   "metadata": {},
   "outputs": [],
   "source": [
    "# Check CUDA availability\n",
    "device = torch.device(\"cuda\" if torch.cuda.is_available() else \"cpu\")"
   ]
  },
  {
   "cell_type": "code",
   "execution_count": null,
   "metadata": {},
   "outputs": [
    {
     "name": "stderr",
     "output_type": "stream",
     "text": [
      "Training Epoch 1: 100%|██████████| 890/890 [00:03<00:00, 250.53it/s]\n",
      "/var/folders/yz/c1z6m9_d5d3f80sywjc3rqsc0000gn/T/ipykernel_95873/3478497585.py:92: FutureWarning: The behavior of DataFrame concatenation with empty or all-NA entries is deprecated. In a future version, this will no longer exclude empty or all-NA columns when determining the result dtypes. To retain the old behavior, exclude the relevant entries before the concat operation.\n",
      "  train_history = pd.concat([train_history, pd.DataFrame([new_row])], ignore_index=True)\n"
     ]
    },
    {
     "name": "stdout",
     "output_type": "stream",
     "text": [
      "Epoch 0 - Train Loss: 1.1744, Train MSE: 1.1730, Train MAE: 0.8454\n",
      "Epoch 0 - Validation Loss: 1.0930, Validation MSE: 1.0967, Validation MAE: 0.8187\n"
     ]
    },
    {
     "name": "stderr",
     "output_type": "stream",
     "text": [
      "Training Epoch 2: 100%|██████████| 890/890 [00:03<00:00, 248.90it/s]\n",
      "Training Epoch 3: 100%|██████████| 890/890 [00:03<00:00, 264.92it/s]\n",
      "Training Epoch 4: 100%|██████████| 890/890 [00:03<00:00, 259.03it/s]\n",
      "Training Epoch 5: 100%|██████████| 890/890 [00:03<00:00, 253.36it/s]\n",
      "Training Epoch 6: 100%|██████████| 890/890 [00:03<00:00, 254.83it/s]\n",
      "Training Epoch 7: 100%|██████████| 890/890 [00:03<00:00, 252.12it/s]\n",
      "Training Epoch 8: 100%|██████████| 890/890 [00:03<00:00, 245.77it/s]\n",
      "Training Epoch 9: 100%|██████████| 890/890 [00:03<00:00, 242.78it/s]\n",
      "Training Epoch 10: 100%|██████████| 890/890 [00:03<00:00, 245.22it/s]\n",
      "Training Epoch 11: 100%|██████████| 890/890 [00:03<00:00, 265.08it/s]\n"
     ]
    },
    {
     "name": "stdout",
     "output_type": "stream",
     "text": [
      "Epoch 10 - Train Loss: 0.7843, Train MSE: 0.7851, Train MAE: 0.6824\n",
      "Epoch 10 - Validation Loss: 0.9511, Validation MSE: 0.9556, Validation MAE: 0.7619\n"
     ]
    },
    {
     "name": "stderr",
     "output_type": "stream",
     "text": [
      "Training Epoch 12: 100%|██████████| 890/890 [00:03<00:00, 240.96it/s]\n",
      "Training Epoch 13: 100%|██████████| 890/890 [00:03<00:00, 235.61it/s]\n",
      "Training Epoch 14: 100%|██████████| 890/890 [00:03<00:00, 244.65it/s]\n",
      "Training Epoch 15: 100%|██████████| 890/890 [00:03<00:00, 243.03it/s]\n",
      "Training Epoch 16: 100%|██████████| 890/890 [00:03<00:00, 243.89it/s]\n",
      "Training Epoch 17: 100%|██████████| 890/890 [00:03<00:00, 242.34it/s]\n",
      "Training Epoch 18: 100%|██████████| 890/890 [00:03<00:00, 244.94it/s]\n",
      "Training Epoch 19: 100%|██████████| 890/890 [00:03<00:00, 236.40it/s]\n",
      "Training Epoch 20: 100%|██████████| 890/890 [00:03<00:00, 253.85it/s]\n",
      "Training Epoch 21: 100%|██████████| 890/890 [00:03<00:00, 250.01it/s]\n"
     ]
    },
    {
     "name": "stdout",
     "output_type": "stream",
     "text": [
      "Epoch 20 - Train Loss: 0.6256, Train MSE: 0.6253, Train MAE: 0.6074\n",
      "Epoch 20 - Validation Loss: 0.9188, Validation MSE: 0.9216, Validation MAE: 0.7470\n"
     ]
    },
    {
     "name": "stderr",
     "output_type": "stream",
     "text": [
      "Training Epoch 22: 100%|██████████| 890/890 [00:03<00:00, 248.26it/s]\n",
      "Training Epoch 23: 100%|██████████| 890/890 [00:03<00:00, 230.70it/s]\n",
      "Training Epoch 24: 100%|██████████| 890/890 [00:03<00:00, 236.58it/s]\n",
      "Training Epoch 25: 100%|██████████| 890/890 [00:03<00:00, 250.08it/s]\n",
      "Training Epoch 26: 100%|██████████| 890/890 [00:03<00:00, 242.54it/s]\n",
      "Training Epoch 27: 100%|██████████| 890/890 [00:03<00:00, 247.88it/s]\n",
      "Training Epoch 28: 100%|██████████| 890/890 [00:03<00:00, 252.01it/s]\n",
      "Training Epoch 29: 100%|██████████| 890/890 [00:03<00:00, 237.08it/s]\n",
      "Training Epoch 30: 100%|██████████| 890/890 [00:03<00:00, 244.72it/s]\n",
      "Training Epoch 31: 100%|██████████| 890/890 [00:03<00:00, 251.48it/s]\n"
     ]
    },
    {
     "name": "stdout",
     "output_type": "stream",
     "text": [
      "Epoch 30 - Train Loss: 0.5201, Train MSE: 0.5196, Train MAE: 0.5538\n",
      "Epoch 30 - Validation Loss: 0.9283, Validation MSE: 0.9312, Validation MAE: 0.7458\n"
     ]
    },
    {
     "name": "stderr",
     "output_type": "stream",
     "text": [
      "Training Epoch 32: 100%|██████████| 890/890 [00:03<00:00, 244.79it/s]\n",
      "Training Epoch 33: 100%|██████████| 890/890 [00:03<00:00, 244.76it/s]\n",
      "Training Epoch 34: 100%|██████████| 890/890 [00:04<00:00, 193.96it/s]\n",
      "Training Epoch 35: 100%|██████████| 890/890 [00:03<00:00, 253.72it/s]\n",
      "Training Epoch 36: 100%|██████████| 890/890 [00:03<00:00, 243.40it/s]\n",
      "Training Epoch 37: 100%|██████████| 890/890 [00:03<00:00, 250.61it/s]\n",
      "Training Epoch 38: 100%|██████████| 890/890 [00:03<00:00, 243.81it/s]\n",
      "Training Epoch 39: 100%|██████████| 890/890 [00:03<00:00, 249.05it/s]\n",
      "Training Epoch 40: 100%|██████████| 890/890 [00:03<00:00, 236.05it/s]\n",
      "Training Epoch 41: 100%|██████████| 890/890 [00:03<00:00, 249.55it/s]\n"
     ]
    },
    {
     "name": "stdout",
     "output_type": "stream",
     "text": [
      "Epoch 40 - Train Loss: 0.4520, Train MSE: 0.4492, Train MAE: 0.5133\n",
      "Epoch 40 - Validation Loss: 0.9388, Validation MSE: 0.9423, Validation MAE: 0.7489\n"
     ]
    },
    {
     "name": "stderr",
     "output_type": "stream",
     "text": [
      "Training Epoch 42: 100%|██████████| 890/890 [00:03<00:00, 248.60it/s]\n",
      "Training Epoch 43: 100%|██████████| 890/890 [00:03<00:00, 247.89it/s]\n",
      "Training Epoch 44: 100%|██████████| 890/890 [00:03<00:00, 240.52it/s]\n",
      "Training Epoch 45: 100%|██████████| 890/890 [00:03<00:00, 240.40it/s]\n",
      "Training Epoch 46: 100%|██████████| 890/890 [00:03<00:00, 236.55it/s]\n",
      "Training Epoch 47: 100%|██████████| 890/890 [00:03<00:00, 235.55it/s]\n",
      "Training Epoch 48: 100%|██████████| 890/890 [00:03<00:00, 233.94it/s]\n",
      "Training Epoch 49: 100%|██████████| 890/890 [00:03<00:00, 243.79it/s]\n",
      "Training Epoch 50: 100%|██████████| 890/890 [00:03<00:00, 238.27it/s]\n",
      "Training Epoch 51: 100%|██████████| 890/890 [00:03<00:00, 244.83it/s]\n"
     ]
    },
    {
     "name": "stdout",
     "output_type": "stream",
     "text": [
      "Epoch 50 - Train Loss: 0.3963, Train MSE: 0.3967, Train MAE: 0.4836\n",
      "Epoch 50 - Validation Loss: 0.9617, Validation MSE: 0.9639, Validation MAE: 0.7582\n"
     ]
    },
    {
     "name": "stderr",
     "output_type": "stream",
     "text": [
      "Training Epoch 52: 100%|██████████| 890/890 [00:03<00:00, 234.41it/s]\n",
      "Training Epoch 53: 100%|██████████| 890/890 [00:03<00:00, 238.24it/s]\n",
      "Training Epoch 54: 100%|██████████| 890/890 [00:03<00:00, 235.29it/s]\n",
      "Training Epoch 55: 100%|██████████| 890/890 [00:03<00:00, 240.21it/s]\n",
      "Training Epoch 56: 100%|██████████| 890/890 [00:03<00:00, 242.28it/s]\n",
      "Training Epoch 57: 100%|██████████| 890/890 [00:03<00:00, 245.98it/s]\n",
      "Training Epoch 58: 100%|██████████| 890/890 [00:03<00:00, 243.44it/s]\n",
      "Training Epoch 59: 100%|██████████| 890/890 [00:04<00:00, 202.09it/s]\n",
      "Training Epoch 60: 100%|██████████| 890/890 [00:04<00:00, 217.98it/s]\n",
      "Training Epoch 61: 100%|██████████| 890/890 [00:04<00:00, 204.43it/s]\n"
     ]
    },
    {
     "name": "stdout",
     "output_type": "stream",
     "text": [
      "Epoch 60 - Train Loss: 0.3622, Train MSE: 0.3572, Train MAE: 0.4567\n",
      "Epoch 60 - Validation Loss: 0.9969, Validation MSE: 0.9965, Validation MAE: 0.7645\n"
     ]
    },
    {
     "name": "stderr",
     "output_type": "stream",
     "text": [
      "Training Epoch 62: 100%|██████████| 890/890 [00:04<00:00, 212.66it/s]\n",
      "Training Epoch 63: 100%|██████████| 890/890 [00:04<00:00, 202.09it/s]\n",
      "Training Epoch 64: 100%|██████████| 890/890 [00:04<00:00, 212.09it/s]\n",
      "Training Epoch 65: 100%|██████████| 890/890 [00:04<00:00, 213.07it/s]\n",
      "Training Epoch 66: 100%|██████████| 890/890 [00:04<00:00, 196.57it/s]\n",
      "Training Epoch 67: 100%|██████████| 890/890 [00:04<00:00, 206.77it/s]\n",
      "Training Epoch 68: 100%|██████████| 890/890 [00:04<00:00, 210.11it/s]\n",
      "Training Epoch 69: 100%|██████████| 890/890 [00:04<00:00, 213.87it/s]\n",
      "Training Epoch 70: 100%|██████████| 890/890 [00:04<00:00, 214.63it/s]\n",
      "Training Epoch 71: 100%|██████████| 890/890 [00:04<00:00, 200.47it/s]\n"
     ]
    },
    {
     "name": "stdout",
     "output_type": "stream",
     "text": [
      "Epoch 70 - Train Loss: 0.3264, Train MSE: 0.3268, Train MAE: 0.4372\n",
      "Epoch 70 - Validation Loss: 0.9680, Validation MSE: 0.9674, Validation MAE: 0.7531\n"
     ]
    },
    {
     "name": "stderr",
     "output_type": "stream",
     "text": [
      "Training Epoch 72: 100%|██████████| 890/890 [00:04<00:00, 213.30it/s]\n",
      "Training Epoch 73: 100%|██████████| 890/890 [00:04<00:00, 206.31it/s]\n",
      "Training Epoch 74: 100%|██████████| 890/890 [00:04<00:00, 204.18it/s]\n",
      "Training Epoch 75: 100%|██████████| 890/890 [00:03<00:00, 222.71it/s]\n",
      "Training Epoch 76: 100%|██████████| 890/890 [00:04<00:00, 215.25it/s]\n",
      "Training Epoch 77: 100%|██████████| 890/890 [00:04<00:00, 210.20it/s]\n",
      "Training Epoch 78: 100%|██████████| 890/890 [00:04<00:00, 213.67it/s]\n",
      "Training Epoch 79: 100%|██████████| 890/890 [00:03<00:00, 222.50it/s]\n",
      "Training Epoch 80: 100%|██████████| 890/890 [00:04<00:00, 219.03it/s]\n",
      "Training Epoch 81: 100%|██████████| 890/890 [00:03<00:00, 222.68it/s]\n"
     ]
    },
    {
     "name": "stdout",
     "output_type": "stream",
     "text": [
      "Epoch 80 - Train Loss: 0.3001, Train MSE: 0.3002, Train MAE: 0.4184\n",
      "Epoch 80 - Validation Loss: 0.9648, Validation MSE: 0.9651, Validation MAE: 0.7561\n"
     ]
    },
    {
     "name": "stderr",
     "output_type": "stream",
     "text": [
      "Training Epoch 82: 100%|██████████| 890/890 [00:03<00:00, 222.89it/s]\n",
      "Training Epoch 83: 100%|██████████| 890/890 [00:05<00:00, 154.27it/s]\n",
      "Training Epoch 84: 100%|██████████| 890/890 [00:04<00:00, 187.51it/s]\n",
      "Training Epoch 85: 100%|██████████| 890/890 [00:04<00:00, 183.70it/s]\n",
      "Training Epoch 86: 100%|██████████| 890/890 [00:04<00:00, 187.27it/s]\n",
      "Training Epoch 87: 100%|██████████| 890/890 [00:04<00:00, 183.86it/s]\n",
      "Training Epoch 88: 100%|██████████| 890/890 [00:04<00:00, 183.76it/s]\n",
      "Training Epoch 89: 100%|██████████| 890/890 [00:04<00:00, 178.16it/s]\n",
      "Training Epoch 90: 100%|██████████| 890/890 [00:04<00:00, 184.88it/s]\n",
      "Training Epoch 91: 100%|██████████| 890/890 [00:04<00:00, 180.17it/s]\n"
     ]
    },
    {
     "name": "stdout",
     "output_type": "stream",
     "text": [
      "Epoch 90 - Train Loss: 0.2743, Train MSE: 0.2739, Train MAE: 0.4007\n",
      "Epoch 90 - Validation Loss: 0.9745, Validation MSE: 0.9741, Validation MAE: 0.7556\n"
     ]
    },
    {
     "name": "stderr",
     "output_type": "stream",
     "text": [
      "Training Epoch 92: 100%|██████████| 890/890 [00:04<00:00, 181.48it/s]\n",
      "Training Epoch 93: 100%|██████████| 890/890 [00:04<00:00, 179.38it/s]\n",
      "Training Epoch 94: 100%|██████████| 890/890 [00:04<00:00, 183.26it/s]\n",
      "Training Epoch 95: 100%|██████████| 890/890 [00:04<00:00, 189.06it/s]\n",
      "Training Epoch 96: 100%|██████████| 890/890 [00:04<00:00, 184.98it/s]\n",
      "Training Epoch 97: 100%|██████████| 890/890 [00:06<00:00, 145.82it/s]\n",
      "Training Epoch 98: 100%|██████████| 890/890 [00:08<00:00, 109.88it/s]\n",
      "Training Epoch 99: 100%|██████████| 890/890 [00:06<00:00, 146.81it/s]\n",
      "Training Epoch 100: 100%|██████████| 890/890 [00:04<00:00, 200.24it/s]\n",
      "Training Epoch 101: 100%|██████████| 890/890 [00:04<00:00, 197.72it/s]\n"
     ]
    },
    {
     "name": "stdout",
     "output_type": "stream",
     "text": [
      "Epoch 100 - Train Loss: 0.2574, Train MSE: 0.2576, Train MAE: 0.3881\n",
      "Epoch 100 - Validation Loss: 0.9660, Validation MSE: 0.9673, Validation MAE: 0.7538\n"
     ]
    },
    {
     "name": "stderr",
     "output_type": "stream",
     "text": [
      "Training Epoch 102: 100%|██████████| 890/890 [00:04<00:00, 199.90it/s]\n",
      "Training Epoch 103: 100%|██████████| 890/890 [00:04<00:00, 196.01it/s]\n",
      "Training Epoch 104: 100%|██████████| 890/890 [00:04<00:00, 202.04it/s]\n",
      "Training Epoch 105: 100%|██████████| 890/890 [00:04<00:00, 193.04it/s]\n",
      "Training Epoch 106: 100%|██████████| 890/890 [00:04<00:00, 200.58it/s]\n",
      "Training Epoch 107: 100%|██████████| 890/890 [00:04<00:00, 199.70it/s]\n",
      "Training Epoch 108: 100%|██████████| 890/890 [00:04<00:00, 197.81it/s]\n",
      "Training Epoch 109: 100%|██████████| 890/890 [00:04<00:00, 202.69it/s]\n",
      "Training Epoch 110: 100%|██████████| 890/890 [00:04<00:00, 199.21it/s]\n",
      "Training Epoch 111: 100%|██████████| 890/890 [00:04<00:00, 194.94it/s]\n"
     ]
    },
    {
     "name": "stdout",
     "output_type": "stream",
     "text": [
      "Epoch 110 - Train Loss: 0.2446, Train MSE: 0.2448, Train MAE: 0.3770\n",
      "Epoch 110 - Validation Loss: 0.9741, Validation MSE: 0.9738, Validation MAE: 0.7529\n"
     ]
    },
    {
     "name": "stderr",
     "output_type": "stream",
     "text": [
      "Training Epoch 112: 100%|██████████| 890/890 [00:04<00:00, 199.88it/s]\n",
      "Training Epoch 113: 100%|██████████| 890/890 [00:04<00:00, 199.87it/s]\n",
      "Training Epoch 114: 100%|██████████| 890/890 [00:04<00:00, 197.30it/s]\n",
      "Training Epoch 115: 100%|██████████| 890/890 [00:04<00:00, 198.64it/s]\n",
      "Training Epoch 116: 100%|██████████| 890/890 [00:04<00:00, 202.29it/s]\n",
      "Training Epoch 117: 100%|██████████| 890/890 [00:04<00:00, 199.63it/s]\n",
      "Training Epoch 118: 100%|██████████| 890/890 [00:04<00:00, 185.88it/s]\n",
      "Training Epoch 119: 100%|██████████| 890/890 [00:04<00:00, 198.77it/s]\n",
      "Training Epoch 120: 100%|██████████| 890/890 [00:04<00:00, 198.51it/s]\n",
      "Training Epoch 121: 100%|██████████| 890/890 [00:04<00:00, 199.23it/s]\n"
     ]
    },
    {
     "name": "stdout",
     "output_type": "stream",
     "text": [
      "Epoch 120 - Train Loss: 0.2301, Train MSE: 0.2303, Train MAE: 0.3666\n",
      "Epoch 120 - Validation Loss: 0.9816, Validation MSE: 0.9842, Validation MAE: 0.7586\n"
     ]
    },
    {
     "name": "stderr",
     "output_type": "stream",
     "text": [
      "Training Epoch 122: 100%|██████████| 890/890 [00:04<00:00, 198.13it/s]\n",
      "Training Epoch 123: 100%|██████████| 890/890 [00:04<00:00, 203.06it/s]\n",
      "Training Epoch 124: 100%|██████████| 890/890 [00:04<00:00, 200.84it/s]\n",
      "Training Epoch 125: 100%|██████████| 890/890 [00:04<00:00, 195.36it/s]\n",
      "Training Epoch 126: 100%|██████████| 890/890 [00:04<00:00, 197.22it/s]\n",
      "Training Epoch 127: 100%|██████████| 890/890 [00:04<00:00, 198.10it/s]\n",
      "Training Epoch 128: 100%|██████████| 890/890 [00:04<00:00, 195.51it/s]\n",
      "Training Epoch 129: 100%|██████████| 890/890 [00:04<00:00, 201.19it/s]\n",
      "Training Epoch 130: 100%|██████████| 890/890 [00:04<00:00, 195.25it/s]\n",
      "Training Epoch 131: 100%|██████████| 890/890 [00:04<00:00, 201.22it/s]\n"
     ]
    },
    {
     "name": "stdout",
     "output_type": "stream",
     "text": [
      "Epoch 130 - Train Loss: 0.2240, Train MSE: 0.2242, Train MAE: 0.3610\n",
      "Epoch 130 - Validation Loss: 0.9800, Validation MSE: 0.9813, Validation MAE: 0.7578\n"
     ]
    },
    {
     "name": "stderr",
     "output_type": "stream",
     "text": [
      "Training Epoch 132: 100%|██████████| 890/890 [00:04<00:00, 197.25it/s]\n",
      "Training Epoch 133: 100%|██████████| 890/890 [00:04<00:00, 200.63it/s]\n",
      "Training Epoch 134: 100%|██████████| 890/890 [00:04<00:00, 200.44it/s]\n",
      "Training Epoch 135: 100%|██████████| 890/890 [00:04<00:00, 197.70it/s]\n",
      "Training Epoch 136: 100%|██████████| 890/890 [00:04<00:00, 200.17it/s]\n",
      "Training Epoch 137: 100%|██████████| 890/890 [00:04<00:00, 200.72it/s]\n",
      "Training Epoch 138: 100%|██████████| 890/890 [00:04<00:00, 201.38it/s]\n",
      "Training Epoch 139: 100%|██████████| 890/890 [00:04<00:00, 200.14it/s]\n",
      "Training Epoch 140: 100%|██████████| 890/890 [00:04<00:00, 200.41it/s]\n",
      "Training Epoch 141: 100%|██████████| 890/890 [00:04<00:00, 201.35it/s]\n"
     ]
    },
    {
     "name": "stdout",
     "output_type": "stream",
     "text": [
      "Epoch 140 - Train Loss: 0.2099, Train MSE: 0.2100, Train MAE: 0.3499\n",
      "Epoch 140 - Validation Loss: 0.9698, Validation MSE: 0.9713, Validation MAE: 0.7519\n"
     ]
    },
    {
     "name": "stderr",
     "output_type": "stream",
     "text": [
      "Training Epoch 142: 100%|██████████| 890/890 [00:04<00:00, 194.31it/s]\n",
      "Training Epoch 143: 100%|██████████| 890/890 [00:04<00:00, 198.08it/s]\n",
      "Training Epoch 144: 100%|██████████| 890/890 [00:04<00:00, 199.05it/s]\n",
      "Training Epoch 145: 100%|██████████| 890/890 [00:04<00:00, 197.40it/s]\n",
      "Training Epoch 146: 100%|██████████| 890/890 [00:04<00:00, 202.62it/s]\n",
      "Training Epoch 147: 100%|██████████| 890/890 [00:04<00:00, 195.29it/s]\n",
      "Training Epoch 148: 100%|██████████| 890/890 [00:04<00:00, 199.27it/s]\n",
      "Training Epoch 149: 100%|██████████| 890/890 [00:04<00:00, 195.47it/s]\n",
      "Training Epoch 150: 100%|██████████| 890/890 [00:04<00:00, 198.50it/s]\n",
      "Training Epoch 151: 100%|██████████| 890/890 [00:04<00:00, 191.25it/s]\n"
     ]
    },
    {
     "name": "stdout",
     "output_type": "stream",
     "text": [
      "Epoch 150 - Train Loss: 0.2021, Train MSE: 0.2023, Train MAE: 0.3424\n",
      "Epoch 150 - Validation Loss: 0.9688, Validation MSE: 0.9714, Validation MAE: 0.7533\n"
     ]
    },
    {
     "name": "stderr",
     "output_type": "stream",
     "text": [
      "Training Epoch 152: 100%|██████████| 890/890 [00:05<00:00, 165.78it/s]\n",
      "Training Epoch 153: 100%|██████████| 890/890 [00:05<00:00, 164.67it/s]\n",
      "Training Epoch 154: 100%|██████████| 890/890 [00:05<00:00, 165.78it/s]\n",
      "Training Epoch 155: 100%|██████████| 890/890 [00:05<00:00, 162.78it/s]\n",
      "Training Epoch 156: 100%|██████████| 890/890 [00:05<00:00, 169.44it/s]\n",
      "Training Epoch 157: 100%|██████████| 890/890 [00:05<00:00, 167.29it/s]\n",
      "Training Epoch 158: 100%|██████████| 890/890 [00:05<00:00, 162.61it/s]\n",
      "Training Epoch 159: 100%|██████████| 890/890 [00:05<00:00, 169.18it/s]\n",
      "Training Epoch 160: 100%|██████████| 890/890 [00:05<00:00, 163.35it/s]\n",
      "Training Epoch 161: 100%|██████████| 890/890 [00:05<00:00, 163.88it/s]\n"
     ]
    },
    {
     "name": "stdout",
     "output_type": "stream",
     "text": [
      "Epoch 160 - Train Loss: 0.1943, Train MSE: 0.1944, Train MAE: 0.3369\n",
      "Epoch 160 - Validation Loss: 0.9814, Validation MSE: 0.9820, Validation MAE: 0.7587\n"
     ]
    },
    {
     "name": "stderr",
     "output_type": "stream",
     "text": [
      "Training Epoch 162: 100%|██████████| 890/890 [00:05<00:00, 167.17it/s]\n",
      "Training Epoch 163: 100%|██████████| 890/890 [00:05<00:00, 171.63it/s]\n",
      "Training Epoch 164: 100%|██████████| 890/890 [00:04<00:00, 180.08it/s]\n",
      "Training Epoch 165: 100%|██████████| 890/890 [00:04<00:00, 185.81it/s]\n",
      "Training Epoch 166: 100%|██████████| 890/890 [00:05<00:00, 177.02it/s]\n",
      "Training Epoch 167: 100%|██████████| 890/890 [00:04<00:00, 179.14it/s]\n",
      "Training Epoch 168: 100%|██████████| 890/890 [00:04<00:00, 180.47it/s]\n",
      "Training Epoch 169: 100%|██████████| 890/890 [00:05<00:00, 176.05it/s]\n",
      "Training Epoch 170: 100%|██████████| 890/890 [00:04<00:00, 180.19it/s]\n",
      "Training Epoch 171: 100%|██████████| 890/890 [00:04<00:00, 184.70it/s]\n"
     ]
    },
    {
     "name": "stdout",
     "output_type": "stream",
     "text": [
      "Epoch 170 - Train Loss: 0.1890, Train MSE: 0.1890, Train MAE: 0.3323\n",
      "Epoch 170 - Validation Loss: 0.9914, Validation MSE: 0.9925, Validation MAE: 0.7639\n"
     ]
    },
    {
     "name": "stderr",
     "output_type": "stream",
     "text": [
      "Training Epoch 172: 100%|██████████| 890/890 [00:04<00:00, 179.26it/s]\n",
      "Training Epoch 173: 100%|██████████| 890/890 [00:04<00:00, 180.88it/s]\n",
      "Training Epoch 174: 100%|██████████| 890/890 [00:04<00:00, 179.46it/s]\n",
      "Training Epoch 175: 100%|██████████| 890/890 [00:04<00:00, 181.49it/s]\n",
      "Training Epoch 176: 100%|██████████| 890/890 [00:05<00:00, 177.41it/s]\n",
      "Training Epoch 177: 100%|██████████| 890/890 [00:04<00:00, 181.32it/s]\n",
      "Training Epoch 178: 100%|██████████| 890/890 [00:05<00:00, 177.42it/s]\n",
      "Training Epoch 179: 100%|██████████| 890/890 [00:04<00:00, 178.65it/s]\n",
      "Training Epoch 180: 100%|██████████| 890/890 [00:04<00:00, 180.49it/s]\n",
      "Training Epoch 181: 100%|██████████| 890/890 [00:04<00:00, 179.90it/s]\n"
     ]
    },
    {
     "name": "stdout",
     "output_type": "stream",
     "text": [
      "Epoch 180 - Train Loss: 0.1850, Train MSE: 0.1851, Train MAE: 0.3268\n",
      "Epoch 180 - Validation Loss: 0.9705, Validation MSE: 0.9721, Validation MAE: 0.7571\n"
     ]
    },
    {
     "name": "stderr",
     "output_type": "stream",
     "text": [
      "Training Epoch 182: 100%|██████████| 890/890 [00:05<00:00, 174.59it/s]\n",
      "Training Epoch 183: 100%|██████████| 890/890 [00:04<00:00, 180.58it/s]\n",
      "Training Epoch 184: 100%|██████████| 890/890 [00:04<00:00, 178.16it/s]\n",
      "Training Epoch 185: 100%|██████████| 890/890 [00:05<00:00, 175.15it/s]\n",
      "Training Epoch 186: 100%|██████████| 890/890 [00:04<00:00, 180.54it/s]\n",
      "Training Epoch 187: 100%|██████████| 890/890 [00:05<00:00, 176.31it/s]\n",
      "Training Epoch 188: 100%|██████████| 890/890 [00:05<00:00, 175.48it/s]\n",
      "Training Epoch 189: 100%|██████████| 890/890 [00:04<00:00, 178.41it/s]\n",
      "Training Epoch 190: 100%|██████████| 890/890 [00:04<00:00, 179.80it/s]\n",
      "Training Epoch 191: 100%|██████████| 890/890 [00:05<00:00, 176.92it/s]\n"
     ]
    },
    {
     "name": "stdout",
     "output_type": "stream",
     "text": [
      "Epoch 190 - Train Loss: 0.1738, Train MSE: 0.1738, Train MAE: 0.3179\n",
      "Epoch 190 - Validation Loss: 0.9727, Validation MSE: 0.9719, Validation MAE: 0.7537\n"
     ]
    },
    {
     "name": "stderr",
     "output_type": "stream",
     "text": [
      "Training Epoch 192: 100%|██████████| 890/890 [00:04<00:00, 180.72it/s]\n",
      "Training Epoch 193: 100%|██████████| 890/890 [00:04<00:00, 178.83it/s]\n",
      "Training Epoch 194: 100%|██████████| 890/890 [00:05<00:00, 177.55it/s]\n",
      "Training Epoch 195: 100%|██████████| 890/890 [00:04<00:00, 179.93it/s]\n",
      "Training Epoch 196: 100%|██████████| 890/890 [00:04<00:00, 179.53it/s]\n",
      "Training Epoch 197: 100%|██████████| 890/890 [00:05<00:00, 176.91it/s]\n",
      "Training Epoch 198: 100%|██████████| 890/890 [00:05<00:00, 177.30it/s]\n",
      "Training Epoch 199: 100%|██████████| 890/890 [00:05<00:00, 176.68it/s]\n",
      "Training Epoch 200: 100%|██████████| 890/890 [00:04<00:00, 178.22it/s]\n",
      "Training Epoch 201: 100%|██████████| 890/890 [00:04<00:00, 179.98it/s]\n"
     ]
    },
    {
     "name": "stdout",
     "output_type": "stream",
     "text": [
      "Epoch 200 - Train Loss: 0.1708, Train MSE: 0.1710, Train MAE: 0.3142\n",
      "Epoch 200 - Validation Loss: 0.9712, Validation MSE: 0.9730, Validation MAE: 0.7540\n"
     ]
    },
    {
     "name": "stderr",
     "output_type": "stream",
     "text": [
      "Training Epoch 202: 100%|██████████| 890/890 [00:04<00:00, 179.69it/s]\n",
      "Training Epoch 203: 100%|██████████| 890/890 [00:05<00:00, 176.20it/s]\n",
      "Training Epoch 204: 100%|██████████| 890/890 [00:04<00:00, 178.57it/s]\n",
      "Training Epoch 205: 100%|██████████| 890/890 [00:05<00:00, 177.43it/s]\n",
      "Training Epoch 206: 100%|██████████| 890/890 [00:05<00:00, 174.98it/s]\n",
      "Training Epoch 207: 100%|██████████| 890/890 [00:04<00:00, 178.10it/s]\n",
      "Training Epoch 208: 100%|██████████| 890/890 [00:04<00:00, 181.69it/s]\n",
      "Training Epoch 209: 100%|██████████| 890/890 [00:05<00:00, 173.75it/s]\n",
      "Training Epoch 210: 100%|██████████| 890/890 [00:05<00:00, 176.69it/s]\n",
      "Training Epoch 211: 100%|██████████| 890/890 [00:05<00:00, 177.62it/s]\n"
     ]
    },
    {
     "name": "stdout",
     "output_type": "stream",
     "text": [
      "Epoch 210 - Train Loss: 0.1660, Train MSE: 0.1659, Train MAE: 0.3102\n",
      "Epoch 210 - Validation Loss: 0.9630, Validation MSE: 0.9649, Validation MAE: 0.7509\n"
     ]
    },
    {
     "name": "stderr",
     "output_type": "stream",
     "text": [
      "Training Epoch 212: 100%|██████████| 890/890 [00:05<00:00, 175.31it/s]\n",
      "Training Epoch 213: 100%|██████████| 890/890 [00:04<00:00, 178.32it/s]\n",
      "Training Epoch 214: 100%|██████████| 890/890 [00:04<00:00, 181.47it/s]\n",
      "Training Epoch 215: 100%|██████████| 890/890 [00:05<00:00, 176.21it/s]\n",
      "Training Epoch 216: 100%|██████████| 890/890 [00:05<00:00, 177.96it/s]\n",
      "Training Epoch 217: 100%|██████████| 890/890 [00:05<00:00, 177.92it/s]\n",
      "Training Epoch 218: 100%|██████████| 890/890 [00:05<00:00, 176.15it/s]\n",
      "Training Epoch 219: 100%|██████████| 890/890 [00:04<00:00, 179.05it/s]\n",
      "Training Epoch 220: 100%|██████████| 890/890 [00:04<00:00, 182.56it/s]\n",
      "Training Epoch 221: 100%|██████████| 890/890 [00:05<00:00, 177.47it/s]\n"
     ]
    },
    {
     "name": "stdout",
     "output_type": "stream",
     "text": [
      "Epoch 220 - Train Loss: 0.1625, Train MSE: 0.1625, Train MAE: 0.3058\n",
      "Epoch 220 - Validation Loss: 0.9674, Validation MSE: 0.9694, Validation MAE: 0.7534\n"
     ]
    },
    {
     "name": "stderr",
     "output_type": "stream",
     "text": [
      "Training Epoch 222: 100%|██████████| 890/890 [00:05<00:00, 177.28it/s]\n",
      "Training Epoch 223: 100%|██████████| 890/890 [00:05<00:00, 173.56it/s]\n",
      "Training Epoch 224: 100%|██████████| 890/890 [00:05<00:00, 175.77it/s]\n",
      "Training Epoch 225: 100%|██████████| 890/890 [00:04<00:00, 179.08it/s]\n",
      "Training Epoch 226: 100%|██████████| 890/890 [00:04<00:00, 183.69it/s]\n",
      "Training Epoch 227: 100%|██████████| 890/890 [00:05<00:00, 153.01it/s]\n",
      "Training Epoch 228: 100%|██████████| 890/890 [00:05<00:00, 176.39it/s]\n",
      "Training Epoch 229: 100%|██████████| 890/890 [00:04<00:00, 178.49it/s]\n",
      "Training Epoch 230: 100%|██████████| 890/890 [00:04<00:00, 179.23it/s]\n",
      "Training Epoch 231: 100%|██████████| 890/890 [00:05<00:00, 177.84it/s]\n"
     ]
    },
    {
     "name": "stdout",
     "output_type": "stream",
     "text": [
      "Epoch 230 - Train Loss: 0.1573, Train MSE: 0.1571, Train MAE: 0.3030\n",
      "Epoch 230 - Validation Loss: 0.9639, Validation MSE: 0.9647, Validation MAE: 0.7518\n"
     ]
    },
    {
     "name": "stderr",
     "output_type": "stream",
     "text": [
      "Training Epoch 232: 100%|██████████| 890/890 [00:04<00:00, 183.50it/s]\n",
      "Training Epoch 233: 100%|██████████| 890/890 [00:05<00:00, 174.84it/s]\n",
      "Training Epoch 234: 100%|██████████| 890/890 [00:05<00:00, 175.14it/s]\n",
      "Training Epoch 235: 100%|██████████| 890/890 [00:04<00:00, 178.01it/s]\n",
      "Training Epoch 236: 100%|██████████| 890/890 [00:05<00:00, 175.37it/s]\n",
      "Training Epoch 237: 100%|██████████| 890/890 [00:05<00:00, 176.95it/s]\n",
      "Training Epoch 238: 100%|██████████| 890/890 [00:04<00:00, 183.18it/s]\n",
      "Training Epoch 239: 100%|██████████| 890/890 [00:05<00:00, 175.15it/s]\n",
      "Training Epoch 240: 100%|██████████| 890/890 [00:05<00:00, 174.71it/s]\n",
      "Training Epoch 241: 100%|██████████| 890/890 [00:05<00:00, 176.22it/s]\n"
     ]
    },
    {
     "name": "stdout",
     "output_type": "stream",
     "text": [
      "Epoch 240 - Train Loss: 0.1542, Train MSE: 0.1544, Train MAE: 0.2992\n",
      "Epoch 240 - Validation Loss: 0.9702, Validation MSE: 0.9710, Validation MAE: 0.7514\n"
     ]
    },
    {
     "name": "stderr",
     "output_type": "stream",
     "text": [
      "Training Epoch 242: 100%|██████████| 890/890 [00:05<00:00, 174.20it/s]\n",
      "Training Epoch 243: 100%|██████████| 890/890 [00:05<00:00, 176.08it/s]\n",
      "Training Epoch 244: 100%|██████████| 890/890 [00:04<00:00, 181.25it/s]\n",
      "Training Epoch 245: 100%|██████████| 890/890 [00:05<00:00, 176.22it/s]\n",
      "Training Epoch 246: 100%|██████████| 890/890 [00:04<00:00, 180.40it/s]\n",
      "Training Epoch 247: 100%|██████████| 890/890 [00:04<00:00, 189.65it/s]\n",
      "Training Epoch 248: 100%|██████████| 890/890 [00:04<00:00, 187.69it/s]\n",
      "Training Epoch 249: 100%|██████████| 890/890 [00:04<00:00, 190.19it/s]\n",
      "Training Epoch 250: 100%|██████████| 890/890 [00:04<00:00, 192.01it/s]\n",
      "Training Epoch 251: 100%|██████████| 890/890 [00:04<00:00, 192.23it/s]\n"
     ]
    },
    {
     "name": "stdout",
     "output_type": "stream",
     "text": [
      "Epoch 250 - Train Loss: 0.1516, Train MSE: 0.1518, Train MAE: 0.2968\n",
      "Epoch 250 - Validation Loss: 0.9725, Validation MSE: 0.9745, Validation MAE: 0.7532\n"
     ]
    },
    {
     "name": "stderr",
     "output_type": "stream",
     "text": [
      "Training Epoch 252: 100%|██████████| 890/890 [00:04<00:00, 184.00it/s]\n",
      "Training Epoch 253: 100%|██████████| 890/890 [00:04<00:00, 188.72it/s]\n",
      "Training Epoch 254: 100%|██████████| 890/890 [00:04<00:00, 187.52it/s]\n",
      "Training Epoch 255: 100%|██████████| 890/890 [00:04<00:00, 187.64it/s]\n",
      "Training Epoch 256: 100%|██████████| 890/890 [00:04<00:00, 190.20it/s]\n",
      "Training Epoch 257: 100%|██████████| 890/890 [00:04<00:00, 193.53it/s]\n",
      "Training Epoch 258: 100%|██████████| 890/890 [00:04<00:00, 185.51it/s]\n",
      "Training Epoch 259: 100%|██████████| 890/890 [00:04<00:00, 190.30it/s]\n",
      "Training Epoch 260: 100%|██████████| 890/890 [00:04<00:00, 189.56it/s]\n",
      "Training Epoch 261: 100%|██████████| 890/890 [00:04<00:00, 188.34it/s]\n"
     ]
    },
    {
     "name": "stdout",
     "output_type": "stream",
     "text": [
      "Epoch 260 - Train Loss: 0.1484, Train MSE: 0.1485, Train MAE: 0.2927\n",
      "Epoch 260 - Validation Loss: 0.9667, Validation MSE: 0.9677, Validation MAE: 0.7523\n"
     ]
    },
    {
     "name": "stderr",
     "output_type": "stream",
     "text": [
      "Training Epoch 262: 100%|██████████| 890/890 [00:04<00:00, 188.95it/s]\n",
      "Training Epoch 263: 100%|██████████| 890/890 [00:04<00:00, 195.21it/s]\n",
      "Training Epoch 264: 100%|██████████| 890/890 [00:04<00:00, 188.42it/s]\n",
      "Training Epoch 265: 100%|██████████| 890/890 [00:04<00:00, 188.05it/s]\n",
      "Training Epoch 266: 100%|██████████| 890/890 [00:04<00:00, 190.00it/s]\n",
      "Training Epoch 267: 100%|██████████| 890/890 [00:04<00:00, 188.05it/s]\n",
      "Training Epoch 268: 100%|██████████| 890/890 [00:04<00:00, 184.84it/s]\n",
      "Training Epoch 269: 100%|██████████| 890/890 [00:04<00:00, 192.95it/s]\n",
      "Training Epoch 270: 100%|██████████| 890/890 [00:04<00:00, 186.25it/s]\n",
      "Training Epoch 271: 100%|██████████| 890/890 [00:04<00:00, 187.53it/s]\n"
     ]
    },
    {
     "name": "stdout",
     "output_type": "stream",
     "text": [
      "Epoch 270 - Train Loss: 0.1452, Train MSE: 0.1454, Train MAE: 0.2898\n",
      "Epoch 270 - Validation Loss: 0.9569, Validation MSE: 0.9586, Validation MAE: 0.7495\n"
     ]
    },
    {
     "name": "stderr",
     "output_type": "stream",
     "text": [
      "Training Epoch 272: 100%|██████████| 890/890 [00:04<00:00, 188.75it/s]\n",
      "Training Epoch 273: 100%|██████████| 890/890 [00:04<00:00, 187.14it/s]\n",
      "Training Epoch 274: 100%|██████████| 890/890 [00:04<00:00, 188.31it/s]\n",
      "Training Epoch 275: 100%|██████████| 890/890 [00:04<00:00, 192.48it/s]\n",
      "Training Epoch 276: 100%|██████████| 890/890 [00:04<00:00, 189.22it/s]\n",
      "Training Epoch 277: 100%|██████████| 890/890 [00:04<00:00, 182.69it/s]\n",
      "Training Epoch 278: 100%|██████████| 890/890 [00:04<00:00, 194.20it/s]\n",
      "Training Epoch 279: 100%|██████████| 890/890 [00:04<00:00, 187.29it/s]\n",
      "Training Epoch 280: 100%|██████████| 890/890 [00:04<00:00, 191.90it/s]\n",
      "Training Epoch 281: 100%|██████████| 890/890 [00:04<00:00, 186.88it/s]\n"
     ]
    },
    {
     "name": "stdout",
     "output_type": "stream",
     "text": [
      "Epoch 280 - Train Loss: 0.1436, Train MSE: 0.1434, Train MAE: 0.2880\n",
      "Epoch 280 - Validation Loss: 0.9560, Validation MSE: 0.9576, Validation MAE: 0.7476\n"
     ]
    },
    {
     "name": "stderr",
     "output_type": "stream",
     "text": [
      "Training Epoch 282: 100%|██████████| 890/890 [00:04<00:00, 190.25it/s]\n",
      "Training Epoch 283: 100%|██████████| 890/890 [00:04<00:00, 189.98it/s]\n",
      "Training Epoch 284: 100%|██████████| 890/890 [00:04<00:00, 183.67it/s]\n",
      "Training Epoch 285: 100%|██████████| 890/890 [00:04<00:00, 187.79it/s]\n",
      "Training Epoch 286: 100%|██████████| 890/890 [00:04<00:00, 188.27it/s]\n",
      "Training Epoch 287: 100%|██████████| 890/890 [00:04<00:00, 186.38it/s]\n",
      "Training Epoch 288: 100%|██████████| 890/890 [00:04<00:00, 192.09it/s]\n",
      "Training Epoch 289: 100%|██████████| 890/890 [00:04<00:00, 192.60it/s]\n",
      "Training Epoch 290: 100%|██████████| 890/890 [00:04<00:00, 188.17it/s]\n",
      "Training Epoch 291: 100%|██████████| 890/890 [00:04<00:00, 188.47it/s]\n"
     ]
    },
    {
     "name": "stdout",
     "output_type": "stream",
     "text": [
      "Epoch 290 - Train Loss: 0.1394, Train MSE: 0.1394, Train MAE: 0.2840\n",
      "Epoch 290 - Validation Loss: 0.9631, Validation MSE: 0.9656, Validation MAE: 0.7500\n"
     ]
    },
    {
     "name": "stderr",
     "output_type": "stream",
     "text": [
      "Training Epoch 292: 100%|██████████| 890/890 [00:04<00:00, 185.75it/s]\n",
      "Training Epoch 293: 100%|██████████| 890/890 [00:04<00:00, 187.51it/s]\n",
      "Training Epoch 294: 100%|██████████| 890/890 [00:04<00:00, 189.56it/s]\n",
      "Training Epoch 295: 100%|██████████| 890/890 [00:04<00:00, 186.73it/s]\n",
      "Training Epoch 296: 100%|██████████| 890/890 [00:04<00:00, 188.91it/s]\n",
      "Training Epoch 297: 100%|██████████| 890/890 [00:04<00:00, 187.38it/s]\n",
      "Training Epoch 298: 100%|██████████| 890/890 [00:04<00:00, 188.02it/s]\n",
      "Training Epoch 299: 100%|██████████| 890/890 [00:04<00:00, 187.91it/s]\n",
      "Training Epoch 300: 100%|██████████| 890/890 [00:04<00:00, 187.75it/s]\n",
      "Training Epoch 301: 100%|██████████| 890/890 [00:04<00:00, 188.96it/s]\n"
     ]
    },
    {
     "name": "stdout",
     "output_type": "stream",
     "text": [
      "Epoch 300 - Train Loss: 0.1393, Train MSE: 0.1390, Train MAE: 0.2834\n",
      "Epoch 300 - Validation Loss: 0.9516, Validation MSE: 0.9530, Validation MAE: 0.7452\n"
     ]
    },
    {
     "name": "stderr",
     "output_type": "stream",
     "text": [
      "Training Epoch 302: 100%|██████████| 890/890 [00:04<00:00, 187.75it/s]\n",
      "Training Epoch 303: 100%|██████████| 890/890 [00:04<00:00, 186.02it/s]\n",
      "Training Epoch 304: 100%|██████████| 890/890 [00:04<00:00, 188.81it/s]\n",
      "Training Epoch 305: 100%|██████████| 890/890 [00:04<00:00, 185.71it/s]\n",
      "Training Epoch 306: 100%|██████████| 890/890 [00:04<00:00, 188.26it/s]\n",
      "Training Epoch 307: 100%|██████████| 890/890 [00:04<00:00, 190.57it/s]\n",
      "Training Epoch 308: 100%|██████████| 890/890 [00:04<00:00, 190.18it/s]\n",
      "Training Epoch 309: 100%|██████████| 890/890 [00:04<00:00, 188.14it/s]\n",
      "Training Epoch 310: 100%|██████████| 890/890 [00:04<00:00, 182.08it/s]\n",
      "Training Epoch 311: 100%|██████████| 890/890 [00:04<00:00, 191.37it/s]\n"
     ]
    },
    {
     "name": "stdout",
     "output_type": "stream",
     "text": [
      "Epoch 310 - Train Loss: 0.1360, Train MSE: 0.1360, Train MAE: 0.2799\n",
      "Epoch 310 - Validation Loss: 0.9711, Validation MSE: 0.9738, Validation MAE: 0.7529\n"
     ]
    },
    {
     "name": "stderr",
     "output_type": "stream",
     "text": [
      "Training Epoch 312: 100%|██████████| 890/890 [00:04<00:00, 189.46it/s]\n",
      "Training Epoch 313: 100%|██████████| 890/890 [00:04<00:00, 192.58it/s]\n",
      "Training Epoch 314: 100%|██████████| 890/890 [00:04<00:00, 188.13it/s]\n",
      "Training Epoch 315: 100%|██████████| 890/890 [00:04<00:00, 185.74it/s]\n",
      "Training Epoch 316: 100%|██████████| 890/890 [00:04<00:00, 187.40it/s]\n",
      "Training Epoch 317: 100%|██████████| 890/890 [00:04<00:00, 187.63it/s]\n",
      "Training Epoch 318: 100%|██████████| 890/890 [00:04<00:00, 186.34it/s]\n",
      "Training Epoch 319: 100%|██████████| 890/890 [00:04<00:00, 191.61it/s]\n",
      "Training Epoch 320: 100%|██████████| 890/890 [00:04<00:00, 189.24it/s]\n",
      "Training Epoch 321: 100%|██████████| 890/890 [00:04<00:00, 187.00it/s]\n"
     ]
    },
    {
     "name": "stdout",
     "output_type": "stream",
     "text": [
      "Epoch 320 - Train Loss: 0.1309, Train MSE: 0.1309, Train MAE: 0.2754\n",
      "Epoch 320 - Validation Loss: 0.9512, Validation MSE: 0.9539, Validation MAE: 0.7466\n"
     ]
    },
    {
     "name": "stderr",
     "output_type": "stream",
     "text": [
      "Training Epoch 322: 100%|██████████| 890/890 [00:04<00:00, 186.74it/s]\n",
      "Training Epoch 323: 100%|██████████| 890/890 [00:04<00:00, 186.76it/s]\n",
      "Training Epoch 324: 100%|██████████| 890/890 [00:04<00:00, 190.51it/s]\n",
      "Training Epoch 325: 100%|██████████| 890/890 [00:04<00:00, 191.21it/s]\n",
      "Training Epoch 326: 100%|██████████| 890/890 [00:04<00:00, 189.42it/s]\n",
      "Training Epoch 327: 100%|██████████| 890/890 [00:04<00:00, 192.06it/s]\n",
      "Training Epoch 328: 100%|██████████| 890/890 [00:04<00:00, 187.54it/s]\n",
      "Training Epoch 329: 100%|██████████| 890/890 [00:04<00:00, 184.67it/s]\n",
      "Training Epoch 330: 100%|██████████| 890/890 [00:04<00:00, 187.46it/s]\n",
      "Training Epoch 331: 100%|██████████| 890/890 [00:04<00:00, 187.46it/s]\n"
     ]
    },
    {
     "name": "stdout",
     "output_type": "stream",
     "text": [
      "Epoch 330 - Train Loss: 0.1310, Train MSE: 0.1311, Train MAE: 0.2740\n",
      "Epoch 330 - Validation Loss: 0.9606, Validation MSE: 0.9628, Validation MAE: 0.7504\n"
     ]
    },
    {
     "name": "stderr",
     "output_type": "stream",
     "text": [
      "Training Epoch 332: 100%|██████████| 890/890 [00:04<00:00, 190.61it/s]\n",
      "Training Epoch 333: 100%|██████████| 890/890 [00:04<00:00, 188.87it/s]\n",
      "Training Epoch 334: 100%|██████████| 890/890 [00:04<00:00, 185.19it/s]\n",
      "Training Epoch 335: 100%|██████████| 890/890 [00:04<00:00, 189.35it/s]\n",
      "Training Epoch 336: 100%|██████████| 890/890 [00:04<00:00, 188.08it/s]\n",
      "Training Epoch 337: 100%|██████████| 890/890 [00:04<00:00, 188.05it/s]\n",
      "Training Epoch 338: 100%|██████████| 890/890 [00:04<00:00, 193.90it/s]\n",
      "Training Epoch 339: 100%|██████████| 890/890 [00:04<00:00, 187.37it/s]\n",
      "Training Epoch 340: 100%|██████████| 890/890 [00:04<00:00, 187.57it/s]\n",
      "Training Epoch 341: 100%|██████████| 890/890 [00:04<00:00, 187.22it/s]\n"
     ]
    },
    {
     "name": "stdout",
     "output_type": "stream",
     "text": [
      "Epoch 340 - Train Loss: 0.1317, Train MSE: 0.1318, Train MAE: 0.2748\n",
      "Epoch 340 - Validation Loss: 0.9395, Validation MSE: 0.9417, Validation MAE: 0.7435\n"
     ]
    },
    {
     "name": "stderr",
     "output_type": "stream",
     "text": [
      "Training Epoch 342: 100%|██████████| 890/890 [00:04<00:00, 188.11it/s]\n",
      "Training Epoch 343: 100%|██████████| 890/890 [00:04<00:00, 188.04it/s]\n",
      "Training Epoch 344: 100%|██████████| 890/890 [00:04<00:00, 193.55it/s]\n",
      "Training Epoch 345: 100%|██████████| 890/890 [00:04<00:00, 185.63it/s]\n",
      "Training Epoch 346: 100%|██████████| 890/890 [00:04<00:00, 187.97it/s]\n",
      "Training Epoch 347: 100%|██████████| 890/890 [00:04<00:00, 184.29it/s]\n",
      "Training Epoch 348: 100%|██████████| 890/890 [00:04<00:00, 186.54it/s]\n",
      "Training Epoch 349: 100%|██████████| 890/890 [00:04<00:00, 189.34it/s]\n",
      "Training Epoch 350: 100%|██████████| 890/890 [00:04<00:00, 192.17it/s]\n",
      "Training Epoch 351: 100%|██████████| 890/890 [00:04<00:00, 190.76it/s]\n"
     ]
    },
    {
     "name": "stdout",
     "output_type": "stream",
     "text": [
      "Epoch 350 - Train Loss: 0.1270, Train MSE: 0.1270, Train MAE: 0.2703\n",
      "Epoch 350 - Validation Loss: 0.9513, Validation MSE: 0.9533, Validation MAE: 0.7473\n"
     ]
    },
    {
     "name": "stderr",
     "output_type": "stream",
     "text": [
      "Training Epoch 352: 100%|██████████| 890/890 [00:04<00:00, 187.20it/s]\n",
      "Training Epoch 353: 100%|██████████| 890/890 [00:04<00:00, 188.38it/s]\n",
      "Training Epoch 354: 100%|██████████| 890/890 [00:04<00:00, 187.41it/s]\n",
      "Training Epoch 355: 100%|██████████| 890/890 [00:04<00:00, 187.95it/s]\n",
      "Training Epoch 356: 100%|██████████| 890/890 [00:04<00:00, 189.52it/s]\n",
      "Training Epoch 357: 100%|██████████| 890/890 [00:04<00:00, 195.47it/s]\n",
      "Training Epoch 358: 100%|██████████| 890/890 [00:04<00:00, 187.48it/s]\n",
      "Training Epoch 359: 100%|██████████| 890/890 [00:04<00:00, 188.15it/s]\n",
      "Training Epoch 360: 100%|██████████| 890/890 [00:04<00:00, 187.43it/s]\n",
      "Training Epoch 361: 100%|██████████| 890/890 [00:04<00:00, 185.61it/s]\n"
     ]
    },
    {
     "name": "stdout",
     "output_type": "stream",
     "text": [
      "Epoch 360 - Train Loss: 0.1261, Train MSE: 0.1261, Train MAE: 0.2693\n",
      "Epoch 360 - Validation Loss: 0.9521, Validation MSE: 0.9540, Validation MAE: 0.7471\n"
     ]
    },
    {
     "name": "stderr",
     "output_type": "stream",
     "text": [
      "Training Epoch 362: 100%|██████████| 890/890 [00:04<00:00, 189.38it/s]\n",
      "Training Epoch 363: 100%|██████████| 890/890 [00:04<00:00, 190.31it/s]\n",
      "Training Epoch 364: 100%|██████████| 890/890 [00:04<00:00, 187.67it/s]\n",
      "Training Epoch 365: 100%|██████████| 890/890 [00:04<00:00, 185.86it/s]\n",
      "Training Epoch 366: 100%|██████████| 890/890 [00:04<00:00, 185.70it/s]\n",
      "Training Epoch 367: 100%|██████████| 890/890 [00:04<00:00, 187.80it/s]\n",
      "Training Epoch 368: 100%|██████████| 890/890 [00:04<00:00, 185.89it/s]\n",
      "Training Epoch 369: 100%|██████████| 890/890 [00:04<00:00, 192.67it/s]\n",
      "Training Epoch 370: 100%|██████████| 890/890 [00:04<00:00, 187.31it/s]\n",
      "Training Epoch 371: 100%|██████████| 890/890 [00:04<00:00, 186.82it/s]\n"
     ]
    },
    {
     "name": "stdout",
     "output_type": "stream",
     "text": [
      "Epoch 370 - Train Loss: 0.1230, Train MSE: 0.1222, Train MAE: 0.2656\n",
      "Epoch 370 - Validation Loss: 0.9463, Validation MSE: 0.9487, Validation MAE: 0.7460\n"
     ]
    },
    {
     "name": "stderr",
     "output_type": "stream",
     "text": [
      "Training Epoch 372: 100%|██████████| 890/890 [00:04<00:00, 186.16it/s]\n",
      "Training Epoch 373: 100%|██████████| 890/890 [00:04<00:00, 187.33it/s]\n",
      "Training Epoch 374: 100%|██████████| 890/890 [00:04<00:00, 182.74it/s]\n",
      "Training Epoch 375: 100%|██████████| 890/890 [00:04<00:00, 192.77it/s]\n",
      "Training Epoch 376: 100%|██████████| 890/890 [00:04<00:00, 187.97it/s]\n",
      "Training Epoch 377: 100%|██████████| 890/890 [00:04<00:00, 190.23it/s]\n",
      "Training Epoch 378: 100%|██████████| 890/890 [00:04<00:00, 185.08it/s]\n",
      "Training Epoch 379: 100%|██████████| 890/890 [00:04<00:00, 188.29it/s]\n",
      "Training Epoch 380: 100%|██████████| 890/890 [00:04<00:00, 188.31it/s]\n",
      "Training Epoch 381: 100%|██████████| 890/890 [00:04<00:00, 195.10it/s]\n"
     ]
    },
    {
     "name": "stdout",
     "output_type": "stream",
     "text": [
      "Epoch 380 - Train Loss: 0.1203, Train MSE: 0.1200, Train MAE: 0.2618\n",
      "Epoch 380 - Validation Loss: 0.9465, Validation MSE: 0.9485, Validation MAE: 0.7468\n"
     ]
    },
    {
     "name": "stderr",
     "output_type": "stream",
     "text": [
      "Training Epoch 382: 100%|██████████| 890/890 [00:04<00:00, 191.51it/s]\n",
      "Training Epoch 383: 100%|██████████| 890/890 [00:04<00:00, 188.27it/s]\n",
      "Training Epoch 384: 100%|██████████| 890/890 [00:04<00:00, 187.36it/s]\n",
      "Training Epoch 385: 100%|██████████| 890/890 [00:04<00:00, 189.01it/s]\n",
      "Training Epoch 386: 100%|██████████| 890/890 [00:04<00:00, 186.62it/s]\n",
      "Training Epoch 387: 100%|██████████| 890/890 [00:04<00:00, 187.67it/s]\n",
      "Training Epoch 388: 100%|██████████| 890/890 [00:04<00:00, 193.01it/s]\n",
      "Training Epoch 389: 100%|██████████| 890/890 [00:04<00:00, 186.57it/s]\n",
      "Training Epoch 390: 100%|██████████| 890/890 [00:04<00:00, 186.22it/s]\n",
      "Training Epoch 391: 100%|██████████| 890/890 [00:04<00:00, 189.48it/s]\n"
     ]
    },
    {
     "name": "stdout",
     "output_type": "stream",
     "text": [
      "Epoch 390 - Train Loss: 0.1207, Train MSE: 0.1205, Train MAE: 0.2634\n",
      "Epoch 390 - Validation Loss: 0.9572, Validation MSE: 0.9600, Validation MAE: 0.7498\n"
     ]
    },
    {
     "name": "stderr",
     "output_type": "stream",
     "text": [
      "Training Epoch 392: 100%|██████████| 890/890 [00:04<00:00, 189.06it/s]\n",
      "Training Epoch 393: 100%|██████████| 890/890 [00:05<00:00, 175.77it/s]\n",
      "Training Epoch 394: 100%|██████████| 890/890 [00:04<00:00, 185.22it/s]\n",
      "Training Epoch 395: 100%|██████████| 890/890 [00:05<00:00, 176.62it/s]\n",
      "Training Epoch 396: 100%|██████████| 890/890 [00:05<00:00, 171.48it/s]\n",
      "Training Epoch 397: 100%|██████████| 890/890 [00:05<00:00, 152.31it/s]\n",
      "Training Epoch 398: 100%|██████████| 890/890 [00:04<00:00, 184.39it/s]\n",
      "Training Epoch 399: 100%|██████████| 890/890 [00:04<00:00, 186.15it/s]\n",
      "Training Epoch 400: 100%|██████████| 890/890 [00:04<00:00, 187.93it/s]\n",
      "Training Epoch 401: 100%|██████████| 890/890 [00:05<00:00, 173.85it/s]\n"
     ]
    },
    {
     "name": "stdout",
     "output_type": "stream",
     "text": [
      "Epoch 400 - Train Loss: 0.1191, Train MSE: 0.1192, Train MAE: 0.2617\n",
      "Epoch 400 - Validation Loss: 0.9426, Validation MSE: 0.9449, Validation MAE: 0.7447\n"
     ]
    },
    {
     "name": "stderr",
     "output_type": "stream",
     "text": [
      "Training Epoch 402: 100%|██████████| 890/890 [00:05<00:00, 175.99it/s]\n",
      "Training Epoch 403: 100%|██████████| 890/890 [00:04<00:00, 188.40it/s]\n",
      "Training Epoch 404: 100%|██████████| 890/890 [00:04<00:00, 186.72it/s]\n",
      "Training Epoch 405: 100%|██████████| 890/890 [00:04<00:00, 182.79it/s]\n",
      "Training Epoch 406: 100%|██████████| 890/890 [00:04<00:00, 189.18it/s]\n",
      "Training Epoch 407: 100%|██████████| 890/890 [00:04<00:00, 184.54it/s]\n",
      "Training Epoch 408: 100%|██████████| 890/890 [00:04<00:00, 184.48it/s]\n",
      "Training Epoch 409: 100%|██████████| 890/890 [00:04<00:00, 190.88it/s]\n",
      "Training Epoch 410: 100%|██████████| 890/890 [00:05<00:00, 175.12it/s]\n",
      "Training Epoch 411: 100%|██████████| 890/890 [00:04<00:00, 184.32it/s]\n"
     ]
    },
    {
     "name": "stdout",
     "output_type": "stream",
     "text": [
      "Epoch 410 - Train Loss: 0.1180, Train MSE: 0.1181, Train MAE: 0.2603\n",
      "Epoch 410 - Validation Loss: 0.9396, Validation MSE: 0.9421, Validation MAE: 0.7418\n"
     ]
    },
    {
     "name": "stderr",
     "output_type": "stream",
     "text": [
      "Training Epoch 412: 100%|██████████| 890/890 [00:04<00:00, 187.51it/s]\n",
      "Training Epoch 413: 100%|██████████| 890/890 [00:04<00:00, 184.46it/s]\n",
      "Training Epoch 414: 100%|██████████| 890/890 [00:04<00:00, 183.15it/s]\n",
      "Training Epoch 415: 100%|██████████| 890/890 [00:04<00:00, 185.45it/s]\n",
      "Training Epoch 416: 100%|██████████| 890/890 [00:04<00:00, 188.80it/s]\n",
      "Training Epoch 417: 100%|██████████| 890/890 [00:04<00:00, 188.73it/s]\n",
      "Training Epoch 418: 100%|██████████| 890/890 [00:04<00:00, 190.11it/s]\n",
      "Training Epoch 419: 100%|██████████| 890/890 [00:04<00:00, 185.44it/s]\n",
      "Training Epoch 420: 100%|██████████| 890/890 [00:04<00:00, 186.53it/s]\n",
      "Training Epoch 421: 100%|██████████| 890/890 [00:04<00:00, 187.55it/s]\n"
     ]
    },
    {
     "name": "stdout",
     "output_type": "stream",
     "text": [
      "Epoch 420 - Train Loss: 0.1144, Train MSE: 0.1145, Train MAE: 0.2572\n",
      "Epoch 420 - Validation Loss: 0.9623, Validation MSE: 0.9646, Validation MAE: 0.7515\n"
     ]
    },
    {
     "name": "stderr",
     "output_type": "stream",
     "text": [
      "Training Epoch 422: 100%|██████████| 890/890 [00:04<00:00, 189.45it/s]\n",
      "Training Epoch 423: 100%|██████████| 890/890 [00:04<00:00, 188.84it/s]\n",
      "Training Epoch 424: 100%|██████████| 890/890 [00:04<00:00, 186.35it/s]\n",
      "Training Epoch 425: 100%|██████████| 890/890 [00:04<00:00, 190.34it/s]\n",
      "Training Epoch 426: 100%|██████████| 890/890 [00:04<00:00, 185.71it/s]\n",
      "Training Epoch 427: 100%|██████████| 890/890 [00:04<00:00, 186.16it/s]\n",
      "Training Epoch 428: 100%|██████████| 890/890 [00:04<00:00, 184.20it/s]\n",
      "Training Epoch 429: 100%|██████████| 890/890 [00:04<00:00, 184.51it/s]\n",
      "Training Epoch 430: 100%|██████████| 890/890 [00:04<00:00, 183.80it/s]\n",
      "Training Epoch 431: 100%|██████████| 890/890 [00:04<00:00, 180.87it/s]\n"
     ]
    },
    {
     "name": "stdout",
     "output_type": "stream",
     "text": [
      "Epoch 430 - Train Loss: 0.1123, Train MSE: 0.1124, Train MAE: 0.2551\n",
      "Epoch 430 - Validation Loss: 0.9497, Validation MSE: 0.9525, Validation MAE: 0.7462\n"
     ]
    },
    {
     "name": "stderr",
     "output_type": "stream",
     "text": [
      "Training Epoch 432: 100%|██████████| 890/890 [00:04<00:00, 181.06it/s]\n",
      "Training Epoch 433: 100%|██████████| 890/890 [00:05<00:00, 177.89it/s]\n",
      "Training Epoch 434: 100%|██████████| 890/890 [00:04<00:00, 179.38it/s]\n",
      "Training Epoch 435: 100%|██████████| 890/890 [00:04<00:00, 180.09it/s]\n",
      "Training Epoch 436: 100%|██████████| 890/890 [00:05<00:00, 175.57it/s]\n",
      "Training Epoch 437: 100%|██████████| 890/890 [00:04<00:00, 188.16it/s]\n",
      "Training Epoch 438: 100%|██████████| 890/890 [00:04<00:00, 183.80it/s]\n",
      "Training Epoch 439: 100%|██████████| 890/890 [00:04<00:00, 189.99it/s]\n",
      "Training Epoch 440: 100%|██████████| 890/890 [00:04<00:00, 183.72it/s]\n",
      "Training Epoch 441: 100%|██████████| 890/890 [00:04<00:00, 186.01it/s]\n"
     ]
    },
    {
     "name": "stdout",
     "output_type": "stream",
     "text": [
      "Epoch 440 - Train Loss: 0.1112, Train MSE: 0.1113, Train MAE: 0.2537\n",
      "Epoch 440 - Validation Loss: 0.9402, Validation MSE: 0.9420, Validation MAE: 0.7434\n"
     ]
    },
    {
     "name": "stderr",
     "output_type": "stream",
     "text": [
      "Training Epoch 442: 100%|██████████| 890/890 [00:04<00:00, 189.19it/s]\n",
      "Training Epoch 443: 100%|██████████| 890/890 [00:04<00:00, 187.32it/s]\n",
      "Training Epoch 444: 100%|██████████| 890/890 [00:04<00:00, 187.72it/s]\n",
      "Training Epoch 445: 100%|██████████| 890/890 [00:04<00:00, 191.11it/s]\n",
      "Training Epoch 446: 100%|██████████| 890/890 [00:04<00:00, 186.73it/s]\n",
      "Training Epoch 447: 100%|██████████| 890/890 [00:04<00:00, 183.32it/s]\n",
      "Training Epoch 448: 100%|██████████| 890/890 [00:04<00:00, 185.37it/s]\n",
      "Training Epoch 449: 100%|██████████| 890/890 [00:04<00:00, 190.01it/s]\n",
      "Training Epoch 450: 100%|██████████| 890/890 [00:04<00:00, 181.22it/s]\n",
      "Training Epoch 451: 100%|██████████| 890/890 [00:04<00:00, 185.22it/s]\n"
     ]
    },
    {
     "name": "stdout",
     "output_type": "stream",
     "text": [
      "Epoch 450 - Train Loss: 0.1104, Train MSE: 0.1104, Train MAE: 0.2525\n",
      "Epoch 450 - Validation Loss: 0.9443, Validation MSE: 0.9468, Validation MAE: 0.7462\n"
     ]
    },
    {
     "name": "stderr",
     "output_type": "stream",
     "text": [
      "Training Epoch 452: 100%|██████████| 890/890 [00:04<00:00, 187.38it/s]\n",
      "Training Epoch 453: 100%|██████████| 890/890 [00:04<00:00, 182.60it/s]\n",
      "Training Epoch 454: 100%|██████████| 890/890 [00:04<00:00, 186.18it/s]\n",
      "Training Epoch 455: 100%|██████████| 890/890 [00:04<00:00, 189.29it/s]\n",
      "Training Epoch 456: 100%|██████████| 890/890 [00:04<00:00, 191.39it/s]\n",
      "Training Epoch 457: 100%|██████████| 890/890 [00:04<00:00, 182.86it/s]\n",
      "Training Epoch 458: 100%|██████████| 890/890 [00:04<00:00, 187.39it/s]\n",
      "Training Epoch 459: 100%|██████████| 890/890 [00:04<00:00, 189.32it/s]\n",
      "Training Epoch 460: 100%|██████████| 890/890 [00:04<00:00, 185.94it/s]\n",
      "Training Epoch 461: 100%|██████████| 890/890 [00:04<00:00, 181.37it/s]\n"
     ]
    },
    {
     "name": "stdout",
     "output_type": "stream",
     "text": [
      "Epoch 460 - Train Loss: 0.1111, Train MSE: 0.1112, Train MAE: 0.2522\n",
      "Epoch 460 - Validation Loss: 0.9550, Validation MSE: 0.9582, Validation MAE: 0.7477\n"
     ]
    },
    {
     "name": "stderr",
     "output_type": "stream",
     "text": [
      "Training Epoch 462: 100%|██████████| 890/890 [00:04<00:00, 191.59it/s]\n",
      "Training Epoch 463: 100%|██████████| 890/890 [00:04<00:00, 180.10it/s]\n",
      "Training Epoch 464: 100%|██████████| 890/890 [00:04<00:00, 180.27it/s]\n",
      "Training Epoch 465: 100%|██████████| 890/890 [00:04<00:00, 179.79it/s]\n",
      "Training Epoch 466: 100%|██████████| 890/890 [00:05<00:00, 176.24it/s]\n",
      "Training Epoch 467: 100%|██████████| 890/890 [00:04<00:00, 185.41it/s]\n",
      "Training Epoch 468: 100%|██████████| 890/890 [00:04<00:00, 188.84it/s]\n",
      "Training Epoch 469: 100%|██████████| 890/890 [00:04<00:00, 182.77it/s]\n",
      "Training Epoch 470: 100%|██████████| 890/890 [00:04<00:00, 180.08it/s]\n",
      "Training Epoch 471: 100%|██████████| 890/890 [00:04<00:00, 180.24it/s]\n"
     ]
    },
    {
     "name": "stdout",
     "output_type": "stream",
     "text": [
      "Epoch 470 - Train Loss: 0.1091, Train MSE: 0.1092, Train MAE: 0.2512\n",
      "Epoch 470 - Validation Loss: 0.9468, Validation MSE: 0.9492, Validation MAE: 0.7434\n"
     ]
    },
    {
     "name": "stderr",
     "output_type": "stream",
     "text": [
      "Training Epoch 472: 100%|██████████| 890/890 [00:04<00:00, 178.65it/s]\n",
      "Training Epoch 473: 100%|██████████| 890/890 [00:05<00:00, 177.53it/s]\n",
      "Training Epoch 474: 100%|██████████| 890/890 [00:04<00:00, 191.75it/s]\n",
      "Training Epoch 475: 100%|██████████| 890/890 [00:04<00:00, 187.31it/s]\n",
      "Training Epoch 476: 100%|██████████| 890/890 [00:04<00:00, 181.45it/s]\n",
      "Training Epoch 477: 100%|██████████| 890/890 [00:04<00:00, 184.87it/s]\n",
      "Training Epoch 478: 100%|██████████| 890/890 [00:04<00:00, 183.25it/s]\n",
      "Training Epoch 479: 100%|██████████| 890/890 [00:04<00:00, 188.07it/s]\n",
      "Training Epoch 480: 100%|██████████| 890/890 [00:04<00:00, 192.06it/s]\n",
      "Training Epoch 481: 100%|██████████| 890/890 [00:04<00:00, 186.05it/s]\n"
     ]
    },
    {
     "name": "stdout",
     "output_type": "stream",
     "text": [
      "Epoch 480 - Train Loss: 0.1077, Train MSE: 0.1078, Train MAE: 0.2488\n",
      "Epoch 480 - Validation Loss: 0.9618, Validation MSE: 0.9649, Validation MAE: 0.7507\n"
     ]
    },
    {
     "name": "stderr",
     "output_type": "stream",
     "text": [
      "Training Epoch 482: 100%|██████████| 890/890 [00:04<00:00, 187.39it/s]\n",
      "Training Epoch 483: 100%|██████████| 890/890 [00:04<00:00, 190.47it/s]\n",
      "Training Epoch 484: 100%|██████████| 890/890 [00:04<00:00, 188.15it/s]\n",
      "Training Epoch 485: 100%|██████████| 890/890 [00:04<00:00, 184.54it/s]\n",
      "Training Epoch 486: 100%|██████████| 890/890 [00:04<00:00, 192.54it/s]\n",
      "Training Epoch 487: 100%|██████████| 890/890 [00:04<00:00, 191.02it/s]\n",
      "Training Epoch 488: 100%|██████████| 890/890 [00:04<00:00, 182.25it/s]\n",
      "Training Epoch 489: 100%|██████████| 890/890 [00:04<00:00, 182.29it/s]\n",
      "Training Epoch 490: 100%|██████████| 890/890 [00:04<00:00, 186.13it/s]\n",
      "Training Epoch 491: 100%|██████████| 890/890 [00:04<00:00, 188.93it/s]\n"
     ]
    },
    {
     "name": "stdout",
     "output_type": "stream",
     "text": [
      "Epoch 490 - Train Loss: 0.1041, Train MSE: 0.1036, Train MAE: 0.2447\n",
      "Epoch 490 - Validation Loss: 0.9558, Validation MSE: 0.9582, Validation MAE: 0.7468\n"
     ]
    },
    {
     "name": "stderr",
     "output_type": "stream",
     "text": [
      "Training Epoch 492: 100%|██████████| 890/890 [00:04<00:00, 187.86it/s]\n",
      "Training Epoch 493: 100%|██████████| 890/890 [00:04<00:00, 189.97it/s]\n",
      "Training Epoch 494: 100%|██████████| 890/890 [00:04<00:00, 185.88it/s]\n",
      "Training Epoch 495: 100%|██████████| 890/890 [00:04<00:00, 187.51it/s]\n",
      "Training Epoch 496: 100%|██████████| 890/890 [00:04<00:00, 190.47it/s]\n",
      "Training Epoch 497: 100%|██████████| 890/890 [00:04<00:00, 188.56it/s]\n",
      "Training Epoch 498: 100%|██████████| 890/890 [00:04<00:00, 187.00it/s]\n",
      "Training Epoch 499: 100%|██████████| 890/890 [00:04<00:00, 192.11it/s]\n",
      "Training Epoch 500: 100%|██████████| 890/890 [00:04<00:00, 188.66it/s]\n",
      "Training Epoch 501: 100%|██████████| 890/890 [00:04<00:00, 180.39it/s]\n"
     ]
    },
    {
     "name": "stdout",
     "output_type": "stream",
     "text": [
      "Epoch 500 - Train Loss: 0.1044, Train MSE: 0.1045, Train MAE: 0.2451\n",
      "Epoch 500 - Validation Loss: 0.9443, Validation MSE: 0.9466, Validation MAE: 0.7453\n"
     ]
    },
    {
     "name": "stderr",
     "output_type": "stream",
     "text": [
      "Training Epoch 502: 100%|██████████| 890/890 [00:05<00:00, 164.15it/s]\n",
      "Training Epoch 503: 100%|██████████| 890/890 [00:05<00:00, 175.57it/s]\n",
      "Training Epoch 504: 100%|██████████| 890/890 [00:04<00:00, 182.80it/s]\n",
      "Training Epoch 505: 100%|██████████| 890/890 [00:04<00:00, 190.03it/s]\n",
      "Training Epoch 506: 100%|██████████| 890/890 [00:04<00:00, 188.36it/s]\n",
      "Training Epoch 507: 100%|██████████| 890/890 [00:04<00:00, 181.86it/s]\n",
      "Training Epoch 508: 100%|██████████| 890/890 [00:04<00:00, 188.50it/s]\n",
      "Training Epoch 509: 100%|██████████| 890/890 [00:04<00:00, 183.94it/s]\n",
      "Training Epoch 510: 100%|██████████| 890/890 [00:04<00:00, 182.49it/s]\n",
      "Training Epoch 511: 100%|██████████| 890/890 [00:04<00:00, 186.31it/s]\n"
     ]
    },
    {
     "name": "stdout",
     "output_type": "stream",
     "text": [
      "Epoch 510 - Train Loss: 0.1049, Train MSE: 0.1049, Train MAE: 0.2467\n",
      "Epoch 510 - Validation Loss: 0.9347, Validation MSE: 0.9372, Validation MAE: 0.7395\n"
     ]
    },
    {
     "name": "stderr",
     "output_type": "stream",
     "text": [
      "Training Epoch 512: 100%|██████████| 890/890 [00:04<00:00, 187.77it/s]\n",
      "Training Epoch 513: 100%|██████████| 890/890 [00:04<00:00, 186.81it/s]\n",
      "Training Epoch 514: 100%|██████████| 890/890 [00:04<00:00, 189.52it/s]\n",
      "Training Epoch 515: 100%|██████████| 890/890 [00:05<00:00, 176.93it/s]\n",
      "Training Epoch 516: 100%|██████████| 890/890 [00:04<00:00, 189.27it/s]\n",
      "Training Epoch 517: 100%|██████████| 890/890 [00:04<00:00, 188.69it/s]\n",
      "Training Epoch 518: 100%|██████████| 890/890 [00:04<00:00, 189.78it/s]\n",
      "Training Epoch 519: 100%|██████████| 890/890 [00:04<00:00, 187.34it/s]\n",
      "Training Epoch 520: 100%|██████████| 890/890 [00:04<00:00, 188.45it/s]\n",
      "Training Epoch 521: 100%|██████████| 890/890 [00:04<00:00, 181.28it/s]\n"
     ]
    },
    {
     "name": "stdout",
     "output_type": "stream",
     "text": [
      "Epoch 520 - Train Loss: 0.1051, Train MSE: 0.1051, Train MAE: 0.2446\n",
      "Epoch 520 - Validation Loss: 0.9551, Validation MSE: 0.9576, Validation MAE: 0.7472\n"
     ]
    },
    {
     "name": "stderr",
     "output_type": "stream",
     "text": [
      "Training Epoch 522: 100%|██████████| 890/890 [00:04<00:00, 183.81it/s]\n",
      "Training Epoch 523: 100%|██████████| 890/890 [00:05<00:00, 177.70it/s]\n",
      "Training Epoch 524: 100%|██████████| 890/890 [00:04<00:00, 186.29it/s]\n",
      "Training Epoch 525: 100%|██████████| 890/890 [00:04<00:00, 190.39it/s]\n",
      "Training Epoch 526: 100%|██████████| 890/890 [00:04<00:00, 190.26it/s]\n",
      "Training Epoch 527: 100%|██████████| 890/890 [00:04<00:00, 187.85it/s]\n",
      "Training Epoch 528: 100%|██████████| 890/890 [00:04<00:00, 190.53it/s]\n",
      "Training Epoch 529: 100%|██████████| 890/890 [00:04<00:00, 184.74it/s]\n",
      "Training Epoch 530: 100%|██████████| 890/890 [00:04<00:00, 199.50it/s]\n",
      "Training Epoch 531: 100%|██████████| 890/890 [00:04<00:00, 191.60it/s]\n"
     ]
    },
    {
     "name": "stdout",
     "output_type": "stream",
     "text": [
      "Epoch 530 - Train Loss: 0.1016, Train MSE: 0.1016, Train MAE: 0.2421\n",
      "Epoch 530 - Validation Loss: 0.9530, Validation MSE: 0.9555, Validation MAE: 0.7467\n"
     ]
    },
    {
     "name": "stderr",
     "output_type": "stream",
     "text": [
      "Training Epoch 532: 100%|██████████| 890/890 [00:04<00:00, 191.04it/s]\n",
      "Training Epoch 533: 100%|██████████| 890/890 [00:04<00:00, 189.19it/s]\n",
      "Training Epoch 534: 100%|██████████| 890/890 [00:04<00:00, 185.22it/s]\n",
      "Training Epoch 535: 100%|██████████| 890/890 [00:04<00:00, 192.13it/s]\n",
      "Training Epoch 536: 100%|██████████| 890/890 [00:04<00:00, 189.95it/s]\n",
      "Training Epoch 537: 100%|██████████| 890/890 [00:04<00:00, 192.23it/s]\n",
      "Training Epoch 538: 100%|██████████| 890/890 [00:04<00:00, 189.72it/s]\n",
      "Training Epoch 539: 100%|██████████| 890/890 [00:04<00:00, 187.88it/s]\n",
      "Training Epoch 540: 100%|██████████| 890/890 [00:04<00:00, 189.77it/s]\n",
      "Training Epoch 541: 100%|██████████| 890/890 [00:04<00:00, 190.26it/s]\n"
     ]
    },
    {
     "name": "stdout",
     "output_type": "stream",
     "text": [
      "Epoch 540 - Train Loss: 0.0998, Train MSE: 0.0998, Train MAE: 0.2402\n",
      "Epoch 540 - Validation Loss: 0.9506, Validation MSE: 0.9519, Validation MAE: 0.7452\n"
     ]
    },
    {
     "name": "stderr",
     "output_type": "stream",
     "text": [
      "Training Epoch 542: 100%|██████████| 890/890 [00:04<00:00, 189.60it/s]\n",
      "Training Epoch 543: 100%|██████████| 890/890 [00:04<00:00, 195.28it/s]\n",
      "Training Epoch 544: 100%|██████████| 890/890 [00:04<00:00, 188.37it/s]\n",
      "Training Epoch 545: 100%|██████████| 890/890 [00:04<00:00, 183.61it/s]\n",
      "Training Epoch 546: 100%|██████████| 890/890 [00:04<00:00, 188.58it/s]\n",
      "Training Epoch 547: 100%|██████████| 890/890 [00:04<00:00, 187.67it/s]\n",
      "Training Epoch 548: 100%|██████████| 890/890 [00:04<00:00, 189.36it/s]\n",
      "Training Epoch 549: 100%|██████████| 890/890 [00:04<00:00, 193.82it/s]\n",
      "Training Epoch 550: 100%|██████████| 890/890 [00:04<00:00, 186.23it/s]\n",
      "Training Epoch 551: 100%|██████████| 890/890 [00:04<00:00, 184.82it/s]\n"
     ]
    },
    {
     "name": "stdout",
     "output_type": "stream",
     "text": [
      "Epoch 550 - Train Loss: 0.1001, Train MSE: 0.1001, Train MAE: 0.2403\n",
      "Epoch 550 - Validation Loss: 0.9421, Validation MSE: 0.9445, Validation MAE: 0.7412\n"
     ]
    },
    {
     "name": "stderr",
     "output_type": "stream",
     "text": [
      "Training Epoch 552: 100%|██████████| 890/890 [00:04<00:00, 181.73it/s]\n",
      "Training Epoch 553: 100%|██████████| 890/890 [00:04<00:00, 187.05it/s]\n",
      "Training Epoch 554: 100%|██████████| 890/890 [00:04<00:00, 184.99it/s]\n",
      "Training Epoch 555: 100%|██████████| 890/890 [00:04<00:00, 184.67it/s]\n",
      "Training Epoch 556: 100%|██████████| 890/890 [00:04<00:00, 182.96it/s]\n",
      "Training Epoch 557: 100%|██████████| 890/890 [00:04<00:00, 185.20it/s]\n",
      "Training Epoch 558: 100%|██████████| 890/890 [00:04<00:00, 185.19it/s]\n",
      "Training Epoch 559: 100%|██████████| 890/890 [00:04<00:00, 187.03it/s]\n",
      "Training Epoch 560: 100%|██████████| 890/890 [00:04<00:00, 190.45it/s]\n",
      "Training Epoch 561: 100%|██████████| 890/890 [00:04<00:00, 186.23it/s]\n"
     ]
    },
    {
     "name": "stdout",
     "output_type": "stream",
     "text": [
      "Epoch 560 - Train Loss: 0.0993, Train MSE: 0.0991, Train MAE: 0.2389\n",
      "Epoch 560 - Validation Loss: 0.9427, Validation MSE: 0.9452, Validation MAE: 0.7436\n"
     ]
    },
    {
     "name": "stderr",
     "output_type": "stream",
     "text": [
      "Training Epoch 562: 100%|██████████| 890/890 [00:04<00:00, 188.47it/s]\n",
      "Training Epoch 563: 100%|██████████| 890/890 [00:04<00:00, 183.65it/s]\n",
      "Training Epoch 564: 100%|██████████| 890/890 [00:04<00:00, 182.43it/s]\n",
      "Training Epoch 565: 100%|██████████| 890/890 [00:04<00:00, 181.45it/s]\n",
      "Training Epoch 566: 100%|██████████| 890/890 [00:04<00:00, 189.48it/s]\n",
      "Training Epoch 567: 100%|██████████| 890/890 [00:04<00:00, 185.80it/s]\n",
      "Training Epoch 568: 100%|██████████| 890/890 [00:04<00:00, 188.02it/s]\n",
      "Training Epoch 569: 100%|██████████| 890/890 [00:04<00:00, 192.32it/s]\n",
      "Training Epoch 570: 100%|██████████| 890/890 [00:04<00:00, 184.87it/s]\n",
      "Training Epoch 571: 100%|██████████| 890/890 [00:04<00:00, 182.71it/s]\n"
     ]
    },
    {
     "name": "stdout",
     "output_type": "stream",
     "text": [
      "Epoch 570 - Train Loss: 0.0994, Train MSE: 0.0993, Train MAE: 0.2379\n",
      "Epoch 570 - Validation Loss: 0.9348, Validation MSE: 0.9370, Validation MAE: 0.7405\n"
     ]
    },
    {
     "name": "stderr",
     "output_type": "stream",
     "text": [
      "Training Epoch 572: 100%|██████████| 890/890 [00:04<00:00, 191.01it/s]\n",
      "Training Epoch 573: 100%|██████████| 890/890 [00:04<00:00, 186.69it/s]\n",
      "Training Epoch 574: 100%|██████████| 890/890 [00:04<00:00, 188.84it/s]\n",
      "Training Epoch 575: 100%|██████████| 890/890 [00:04<00:00, 184.79it/s]\n",
      "Training Epoch 576: 100%|██████████| 890/890 [00:04<00:00, 188.54it/s]\n",
      "Training Epoch 577: 100%|██████████| 890/890 [00:04<00:00, 187.25it/s]\n",
      "Training Epoch 578: 100%|██████████| 890/890 [00:04<00:00, 190.42it/s]\n",
      "Training Epoch 579: 100%|██████████| 890/890 [00:04<00:00, 189.54it/s]\n",
      "Training Epoch 580: 100%|██████████| 890/890 [00:04<00:00, 193.64it/s]\n",
      "Training Epoch 581: 100%|██████████| 890/890 [00:04<00:00, 188.17it/s]\n"
     ]
    },
    {
     "name": "stdout",
     "output_type": "stream",
     "text": [
      "Epoch 580 - Train Loss: 0.0971, Train MSE: 0.0972, Train MAE: 0.2365\n",
      "Epoch 580 - Validation Loss: 0.9332, Validation MSE: 0.9355, Validation MAE: 0.7397\n"
     ]
    },
    {
     "name": "stderr",
     "output_type": "stream",
     "text": [
      "Training Epoch 582: 100%|██████████| 890/890 [00:04<00:00, 188.41it/s]\n",
      "Training Epoch 583: 100%|██████████| 890/890 [00:04<00:00, 188.62it/s]\n",
      "Training Epoch 584: 100%|██████████| 890/890 [00:04<00:00, 189.88it/s]\n",
      "Training Epoch 585: 100%|██████████| 890/890 [00:04<00:00, 184.45it/s]\n",
      "Training Epoch 586: 100%|██████████| 890/890 [00:04<00:00, 190.87it/s]\n",
      "Training Epoch 587: 100%|██████████| 890/890 [00:04<00:00, 191.56it/s]\n",
      "Training Epoch 588: 100%|██████████| 890/890 [00:04<00:00, 185.61it/s]\n",
      "Training Epoch 589: 100%|██████████| 890/890 [00:04<00:00, 191.38it/s]\n",
      "Training Epoch 590: 100%|██████████| 890/890 [00:04<00:00, 190.23it/s]\n",
      "Training Epoch 591: 100%|██████████| 890/890 [00:04<00:00, 188.20it/s]\n"
     ]
    },
    {
     "name": "stdout",
     "output_type": "stream",
     "text": [
      "Epoch 590 - Train Loss: 0.0951, Train MSE: 0.0948, Train MAE: 0.2341\n",
      "Epoch 590 - Validation Loss: 0.9333, Validation MSE: 0.9359, Validation MAE: 0.7393\n"
     ]
    },
    {
     "name": "stderr",
     "output_type": "stream",
     "text": [
      "Training Epoch 592: 100%|██████████| 890/890 [00:04<00:00, 185.91it/s]\n",
      "Training Epoch 593: 100%|██████████| 890/890 [00:04<00:00, 183.39it/s]\n",
      "Training Epoch 594: 100%|██████████| 890/890 [00:04<00:00, 188.24it/s]\n",
      "Training Epoch 595: 100%|██████████| 890/890 [00:04<00:00, 186.39it/s]\n",
      "Training Epoch 596: 100%|██████████| 890/890 [00:04<00:00, 189.58it/s]\n",
      "Training Epoch 597: 100%|██████████| 890/890 [00:04<00:00, 179.03it/s]\n",
      "Training Epoch 598: 100%|██████████| 890/890 [00:04<00:00, 187.91it/s]\n",
      "Training Epoch 599: 100%|██████████| 890/890 [00:04<00:00, 194.10it/s]\n",
      "Training Epoch 600: 100%|██████████| 890/890 [00:04<00:00, 189.73it/s]\n",
      "Training Epoch 601: 100%|██████████| 890/890 [00:04<00:00, 193.53it/s]\n"
     ]
    },
    {
     "name": "stdout",
     "output_type": "stream",
     "text": [
      "Epoch 600 - Train Loss: 0.0953, Train MSE: 0.0954, Train MAE: 0.2343\n",
      "Epoch 600 - Validation Loss: 0.9326, Validation MSE: 0.9344, Validation MAE: 0.7395\n"
     ]
    },
    {
     "name": "stderr",
     "output_type": "stream",
     "text": [
      "Training Epoch 602: 100%|██████████| 890/890 [00:04<00:00, 189.72it/s]\n",
      "Training Epoch 603: 100%|██████████| 890/890 [00:04<00:00, 190.79it/s]\n",
      "Training Epoch 604: 100%|██████████| 890/890 [00:04<00:00, 188.71it/s]\n",
      "Training Epoch 605: 100%|██████████| 890/890 [00:04<00:00, 187.25it/s]\n",
      "Training Epoch 606: 100%|██████████| 890/890 [00:04<00:00, 191.51it/s]\n",
      "Training Epoch 607: 100%|██████████| 890/890 [00:04<00:00, 191.74it/s]\n",
      "Training Epoch 608: 100%|██████████| 890/890 [00:04<00:00, 186.62it/s]\n",
      "Training Epoch 609: 100%|██████████| 890/890 [00:04<00:00, 179.84it/s]\n",
      "Training Epoch 610: 100%|██████████| 890/890 [00:04<00:00, 189.68it/s]\n",
      "Training Epoch 611: 100%|██████████| 890/890 [00:04<00:00, 195.27it/s]\n"
     ]
    },
    {
     "name": "stdout",
     "output_type": "stream",
     "text": [
      "Epoch 610 - Train Loss: 0.0944, Train MSE: 0.0945, Train MAE: 0.2329\n",
      "Epoch 610 - Validation Loss: 0.9494, Validation MSE: 0.9524, Validation MAE: 0.7442\n"
     ]
    },
    {
     "name": "stderr",
     "output_type": "stream",
     "text": [
      "Training Epoch 612: 100%|██████████| 890/890 [00:04<00:00, 198.03it/s]\n",
      "Training Epoch 613: 100%|██████████| 890/890 [00:04<00:00, 191.64it/s]\n",
      "Training Epoch 614: 100%|██████████| 890/890 [00:04<00:00, 195.49it/s]\n",
      "Training Epoch 615: 100%|██████████| 890/890 [00:04<00:00, 192.42it/s]\n",
      "Training Epoch 616: 100%|██████████| 890/890 [00:04<00:00, 190.78it/s]\n",
      "Training Epoch 617: 100%|██████████| 890/890 [00:04<00:00, 187.94it/s]\n",
      "Training Epoch 618: 100%|██████████| 890/890 [00:04<00:00, 193.73it/s]\n",
      "Training Epoch 619: 100%|██████████| 890/890 [00:04<00:00, 188.33it/s]\n",
      "Training Epoch 620: 100%|██████████| 890/890 [00:04<00:00, 185.97it/s]\n",
      "Training Epoch 621: 100%|██████████| 890/890 [00:04<00:00, 185.49it/s]\n"
     ]
    },
    {
     "name": "stdout",
     "output_type": "stream",
     "text": [
      "Epoch 620 - Train Loss: 0.0950, Train MSE: 0.0951, Train MAE: 0.2334\n",
      "Epoch 620 - Validation Loss: 0.9326, Validation MSE: 0.9353, Validation MAE: 0.7403\n"
     ]
    },
    {
     "name": "stderr",
     "output_type": "stream",
     "text": [
      "Training Epoch 622: 100%|██████████| 890/890 [00:04<00:00, 190.25it/s]\n",
      "Training Epoch 623: 100%|██████████| 890/890 [00:04<00:00, 190.93it/s]\n",
      "Training Epoch 624: 100%|██████████| 890/890 [00:04<00:00, 197.18it/s]\n",
      "Training Epoch 625: 100%|██████████| 890/890 [00:04<00:00, 195.09it/s]\n",
      "Training Epoch 626: 100%|██████████| 890/890 [00:04<00:00, 190.54it/s]\n",
      "Training Epoch 627: 100%|██████████| 890/890 [00:04<00:00, 192.35it/s]\n",
      "Training Epoch 628: 100%|██████████| 890/890 [00:04<00:00, 195.40it/s]\n",
      "Training Epoch 629: 100%|██████████| 890/890 [00:04<00:00, 185.44it/s]\n",
      "Training Epoch 630: 100%|██████████| 890/890 [00:04<00:00, 186.34it/s]\n",
      "Training Epoch 631: 100%|██████████| 890/890 [00:04<00:00, 194.00it/s]\n"
     ]
    },
    {
     "name": "stdout",
     "output_type": "stream",
     "text": [
      "Epoch 630 - Train Loss: 0.0942, Train MSE: 0.0942, Train MAE: 0.2322\n",
      "Epoch 630 - Validation Loss: 0.9322, Validation MSE: 0.9344, Validation MAE: 0.7411\n"
     ]
    },
    {
     "name": "stderr",
     "output_type": "stream",
     "text": [
      "Training Epoch 632: 100%|██████████| 890/890 [00:04<00:00, 183.31it/s]\n",
      "Training Epoch 633: 100%|██████████| 890/890 [00:04<00:00, 193.62it/s]\n",
      "Training Epoch 634: 100%|██████████| 890/890 [00:04<00:00, 189.54it/s]\n",
      "Training Epoch 635: 100%|██████████| 890/890 [00:04<00:00, 184.71it/s]\n",
      "Training Epoch 636: 100%|██████████| 890/890 [00:04<00:00, 188.83it/s]\n",
      "Training Epoch 637: 100%|██████████| 890/890 [00:04<00:00, 188.16it/s]\n",
      "Training Epoch 638: 100%|██████████| 890/890 [00:04<00:00, 189.51it/s]\n",
      "Training Epoch 639: 100%|██████████| 890/890 [00:04<00:00, 190.04it/s]\n",
      "Training Epoch 640: 100%|██████████| 890/890 [00:04<00:00, 189.74it/s]\n",
      "Training Epoch 641: 100%|██████████| 890/890 [00:04<00:00, 184.27it/s]\n"
     ]
    },
    {
     "name": "stdout",
     "output_type": "stream",
     "text": [
      "Epoch 640 - Train Loss: 0.0950, Train MSE: 0.0949, Train MAE: 0.2331\n",
      "Epoch 640 - Validation Loss: 0.9519, Validation MSE: 0.9546, Validation MAE: 0.7480\n"
     ]
    },
    {
     "name": "stderr",
     "output_type": "stream",
     "text": [
      "Training Epoch 642: 100%|██████████| 890/890 [00:04<00:00, 193.08it/s]\n",
      "Training Epoch 643: 100%|██████████| 890/890 [00:04<00:00, 200.13it/s]\n",
      "Training Epoch 644: 100%|██████████| 890/890 [00:04<00:00, 197.44it/s]\n",
      "Training Epoch 645: 100%|██████████| 890/890 [00:04<00:00, 188.18it/s]\n",
      "Training Epoch 646: 100%|██████████| 890/890 [00:04<00:00, 191.37it/s]\n",
      "Training Epoch 647: 100%|██████████| 890/890 [00:04<00:00, 192.35it/s]\n",
      "Training Epoch 648: 100%|██████████| 890/890 [00:04<00:00, 189.92it/s]\n",
      "Training Epoch 649: 100%|██████████| 890/890 [00:04<00:00, 195.55it/s]\n",
      "Training Epoch 650: 100%|██████████| 890/890 [00:04<00:00, 193.10it/s]\n",
      "Training Epoch 651: 100%|██████████| 890/890 [00:04<00:00, 191.95it/s]\n"
     ]
    },
    {
     "name": "stdout",
     "output_type": "stream",
     "text": [
      "Epoch 650 - Train Loss: 0.0923, Train MSE: 0.0923, Train MAE: 0.2303\n",
      "Epoch 650 - Validation Loss: 0.9321, Validation MSE: 0.9346, Validation MAE: 0.7403\n"
     ]
    },
    {
     "name": "stderr",
     "output_type": "stream",
     "text": [
      "Training Epoch 652: 100%|██████████| 890/890 [00:04<00:00, 187.89it/s]\n",
      "Training Epoch 653: 100%|██████████| 890/890 [00:04<00:00, 193.81it/s]\n",
      "Training Epoch 654: 100%|██████████| 890/890 [00:04<00:00, 193.62it/s]\n",
      "Training Epoch 655: 100%|██████████| 890/890 [00:04<00:00, 192.25it/s]\n",
      "Training Epoch 656: 100%|██████████| 890/890 [00:04<00:00, 199.92it/s]\n",
      "Training Epoch 657: 100%|██████████| 890/890 [00:04<00:00, 191.26it/s]\n",
      "Training Epoch 658: 100%|██████████| 890/890 [00:04<00:00, 191.40it/s]\n",
      "Training Epoch 659: 100%|██████████| 890/890 [00:04<00:00, 194.42it/s]\n",
      "Training Epoch 660: 100%|██████████| 890/890 [00:04<00:00, 191.66it/s]\n",
      "Training Epoch 661: 100%|██████████| 890/890 [00:04<00:00, 193.81it/s]\n"
     ]
    },
    {
     "name": "stdout",
     "output_type": "stream",
     "text": [
      "Epoch 660 - Train Loss: 0.0925, Train MSE: 0.0923, Train MAE: 0.2301\n",
      "Epoch 660 - Validation Loss: 0.9341, Validation MSE: 0.9359, Validation MAE: 0.7395\n"
     ]
    },
    {
     "name": "stderr",
     "output_type": "stream",
     "text": [
      "Training Epoch 662: 100%|██████████| 890/890 [00:04<00:00, 192.07it/s]\n",
      "Training Epoch 663: 100%|██████████| 890/890 [00:04<00:00, 192.90it/s]\n",
      "Training Epoch 664: 100%|██████████| 890/890 [00:04<00:00, 190.67it/s]\n",
      "Training Epoch 665: 100%|██████████| 890/890 [00:04<00:00, 186.68it/s]\n",
      "Training Epoch 666: 100%|██████████| 890/890 [00:04<00:00, 183.60it/s]\n",
      "Training Epoch 667: 100%|██████████| 890/890 [00:04<00:00, 188.30it/s]\n",
      "Training Epoch 668: 100%|██████████| 890/890 [00:04<00:00, 192.97it/s]\n",
      "Training Epoch 669: 100%|██████████| 890/890 [00:04<00:00, 197.95it/s]\n",
      "Training Epoch 670: 100%|██████████| 890/890 [00:04<00:00, 187.54it/s]\n",
      "Training Epoch 671: 100%|██████████| 890/890 [00:04<00:00, 189.70it/s]\n"
     ]
    },
    {
     "name": "stdout",
     "output_type": "stream",
     "text": [
      "Epoch 670 - Train Loss: 0.0905, Train MSE: 0.0905, Train MAE: 0.2278\n",
      "Epoch 670 - Validation Loss: 0.9189, Validation MSE: 0.9204, Validation MAE: 0.7327\n"
     ]
    },
    {
     "name": "stderr",
     "output_type": "stream",
     "text": [
      "Training Epoch 672: 100%|██████████| 890/890 [00:04<00:00, 183.16it/s]\n",
      "Training Epoch 673: 100%|██████████| 890/890 [00:04<00:00, 193.05it/s]\n",
      "Training Epoch 674: 100%|██████████| 890/890 [00:04<00:00, 192.32it/s]\n",
      "Training Epoch 675: 100%|██████████| 890/890 [00:04<00:00, 197.24it/s]\n",
      "Training Epoch 676: 100%|██████████| 890/890 [00:04<00:00, 192.08it/s]\n",
      "Training Epoch 677: 100%|██████████| 890/890 [00:04<00:00, 189.11it/s]\n",
      "Training Epoch 678: 100%|██████████| 890/890 [00:04<00:00, 181.35it/s]\n",
      "Training Epoch 679: 100%|██████████| 890/890 [00:04<00:00, 192.69it/s]\n",
      "Training Epoch 680: 100%|██████████| 890/890 [00:04<00:00, 191.35it/s]\n",
      "Training Epoch 681: 100%|██████████| 890/890 [00:04<00:00, 194.48it/s]\n"
     ]
    },
    {
     "name": "stdout",
     "output_type": "stream",
     "text": [
      "Epoch 680 - Train Loss: 0.0900, Train MSE: 0.0899, Train MAE: 0.2277\n",
      "Epoch 680 - Validation Loss: 0.9287, Validation MSE: 0.9319, Validation MAE: 0.7374\n"
     ]
    },
    {
     "name": "stderr",
     "output_type": "stream",
     "text": [
      "Training Epoch 682: 100%|██████████| 890/890 [00:04<00:00, 192.37it/s]\n",
      "Training Epoch 683: 100%|██████████| 890/890 [00:04<00:00, 188.76it/s]\n",
      "Training Epoch 684: 100%|██████████| 890/890 [00:04<00:00, 188.74it/s]\n",
      "Training Epoch 685: 100%|██████████| 890/890 [00:04<00:00, 190.19it/s]\n",
      "Training Epoch 686: 100%|██████████| 890/890 [00:04<00:00, 186.71it/s]\n",
      "Training Epoch 687: 100%|██████████| 890/890 [00:04<00:00, 194.09it/s]\n",
      "Training Epoch 688: 100%|██████████| 890/890 [00:04<00:00, 195.02it/s]\n",
      "Training Epoch 689: 100%|██████████| 890/890 [00:04<00:00, 187.83it/s]\n",
      "Training Epoch 690: 100%|██████████| 890/890 [00:04<00:00, 186.16it/s]\n",
      "Training Epoch 691: 100%|██████████| 890/890 [00:04<00:00, 189.17it/s]\n"
     ]
    },
    {
     "name": "stdout",
     "output_type": "stream",
     "text": [
      "Epoch 690 - Train Loss: 0.0892, Train MSE: 0.0892, Train MAE: 0.2255\n",
      "Epoch 690 - Validation Loss: 0.9324, Validation MSE: 0.9354, Validation MAE: 0.7373\n"
     ]
    },
    {
     "name": "stderr",
     "output_type": "stream",
     "text": [
      "Training Epoch 692: 100%|██████████| 890/890 [00:04<00:00, 190.18it/s]\n",
      "Training Epoch 693: 100%|██████████| 890/890 [00:04<00:00, 191.66it/s]\n",
      "Training Epoch 694: 100%|██████████| 890/890 [00:04<00:00, 198.01it/s]\n",
      "Training Epoch 695: 100%|██████████| 890/890 [00:04<00:00, 189.73it/s]\n",
      "Training Epoch 696: 100%|██████████| 890/890 [00:04<00:00, 191.27it/s]\n",
      "Training Epoch 697: 100%|██████████| 890/890 [00:04<00:00, 194.17it/s]\n",
      "Training Epoch 698: 100%|██████████| 890/890 [00:04<00:00, 192.04it/s]\n",
      "Training Epoch 699: 100%|██████████| 890/890 [00:04<00:00, 192.16it/s]\n",
      "Training Epoch 700: 100%|██████████| 890/890 [00:04<00:00, 192.08it/s]\n",
      "Training Epoch 701: 100%|██████████| 890/890 [00:04<00:00, 198.44it/s]\n"
     ]
    },
    {
     "name": "stdout",
     "output_type": "stream",
     "text": [
      "Epoch 700 - Train Loss: 0.0894, Train MSE: 0.0892, Train MAE: 0.2250\n",
      "Epoch 700 - Validation Loss: 0.9381, Validation MSE: 0.9406, Validation MAE: 0.7413\n"
     ]
    },
    {
     "name": "stderr",
     "output_type": "stream",
     "text": [
      "Training Epoch 702: 100%|██████████| 890/890 [00:04<00:00, 191.40it/s]\n",
      "Training Epoch 703: 100%|██████████| 890/890 [00:04<00:00, 189.27it/s]\n",
      "Training Epoch 704: 100%|██████████| 890/890 [00:04<00:00, 192.30it/s]\n",
      "Training Epoch 705: 100%|██████████| 890/890 [00:04<00:00, 192.29it/s]\n",
      "Training Epoch 706: 100%|██████████| 890/890 [00:04<00:00, 190.95it/s]\n",
      "Training Epoch 707: 100%|██████████| 890/890 [00:04<00:00, 194.92it/s]\n",
      "Training Epoch 708: 100%|██████████| 890/890 [00:04<00:00, 191.77it/s]\n",
      "Training Epoch 709: 100%|██████████| 890/890 [00:04<00:00, 191.33it/s]\n",
      "Training Epoch 710: 100%|██████████| 890/890 [00:04<00:00, 187.79it/s]\n",
      "Training Epoch 711: 100%|██████████| 890/890 [00:04<00:00, 185.41it/s]\n"
     ]
    },
    {
     "name": "stdout",
     "output_type": "stream",
     "text": [
      "Epoch 710 - Train Loss: 0.0889, Train MSE: 0.0890, Train MAE: 0.2255\n",
      "Epoch 710 - Validation Loss: 0.9349, Validation MSE: 0.9375, Validation MAE: 0.7395\n"
     ]
    },
    {
     "name": "stderr",
     "output_type": "stream",
     "text": [
      "Training Epoch 712: 100%|██████████| 890/890 [00:04<00:00, 186.40it/s]\n",
      "Training Epoch 713: 100%|██████████| 890/890 [00:04<00:00, 195.83it/s]\n",
      "Training Epoch 714: 100%|██████████| 890/890 [00:04<00:00, 187.33it/s]\n",
      "Training Epoch 715: 100%|██████████| 890/890 [00:04<00:00, 185.76it/s]\n",
      "Training Epoch 716: 100%|██████████| 890/890 [00:04<00:00, 186.10it/s]\n",
      "Training Epoch 717: 100%|██████████| 890/890 [00:04<00:00, 186.82it/s]\n",
      "Training Epoch 718: 100%|██████████| 890/890 [00:04<00:00, 190.20it/s]\n",
      "Training Epoch 719: 100%|██████████| 890/890 [00:04<00:00, 196.42it/s]\n",
      "Training Epoch 720: 100%|██████████| 890/890 [00:04<00:00, 190.23it/s]\n",
      "Training Epoch 721: 100%|██████████| 890/890 [00:04<00:00, 193.17it/s]\n"
     ]
    },
    {
     "name": "stdout",
     "output_type": "stream",
     "text": [
      "Epoch 720 - Train Loss: 0.0871, Train MSE: 0.0871, Train MAE: 0.2236\n",
      "Epoch 720 - Validation Loss: 0.9401, Validation MSE: 0.9430, Validation MAE: 0.7432\n"
     ]
    },
    {
     "name": "stderr",
     "output_type": "stream",
     "text": [
      "Training Epoch 722: 100%|██████████| 890/890 [00:04<00:00, 192.23it/s]\n",
      "Training Epoch 723: 100%|██████████| 890/890 [00:04<00:00, 189.57it/s]\n",
      "Training Epoch 724: 100%|██████████| 890/890 [00:04<00:00, 191.25it/s]\n",
      "Training Epoch 725: 100%|██████████| 890/890 [00:04<00:00, 194.49it/s]\n",
      "Training Epoch 726: 100%|██████████| 890/890 [00:04<00:00, 196.26it/s]\n",
      "Training Epoch 727: 100%|██████████| 890/890 [00:04<00:00, 185.04it/s]\n",
      "Training Epoch 728: 100%|██████████| 890/890 [00:04<00:00, 190.08it/s]\n",
      "Training Epoch 729: 100%|██████████| 890/890 [00:04<00:00, 192.35it/s]\n",
      "Training Epoch 730: 100%|██████████| 890/890 [00:04<00:00, 190.23it/s]\n",
      "Training Epoch 731: 100%|██████████| 890/890 [00:04<00:00, 190.84it/s]\n"
     ]
    },
    {
     "name": "stdout",
     "output_type": "stream",
     "text": [
      "Epoch 730 - Train Loss: 0.0877, Train MSE: 0.0878, Train MAE: 0.2245\n",
      "Epoch 730 - Validation Loss: 0.9364, Validation MSE: 0.9386, Validation MAE: 0.7407\n"
     ]
    },
    {
     "name": "stderr",
     "output_type": "stream",
     "text": [
      "Training Epoch 732: 100%|██████████| 890/890 [00:04<00:00, 197.66it/s]\n",
      "Training Epoch 733: 100%|██████████| 890/890 [00:04<00:00, 186.38it/s]\n",
      "Training Epoch 734: 100%|██████████| 890/890 [00:04<00:00, 189.68it/s]\n",
      "Training Epoch 735: 100%|██████████| 890/890 [00:04<00:00, 191.27it/s]\n",
      "Training Epoch 736: 100%|██████████| 890/890 [00:04<00:00, 190.91it/s]\n",
      "Training Epoch 737: 100%|██████████| 890/890 [00:04<00:00, 188.15it/s]\n",
      "Training Epoch 738: 100%|██████████| 890/890 [00:04<00:00, 193.86it/s]\n",
      "Training Epoch 739: 100%|██████████| 890/890 [00:04<00:00, 183.16it/s]\n",
      "Training Epoch 740: 100%|██████████| 890/890 [00:04<00:00, 190.52it/s]\n",
      "Training Epoch 741: 100%|██████████| 890/890 [00:04<00:00, 192.88it/s]\n"
     ]
    },
    {
     "name": "stdout",
     "output_type": "stream",
     "text": [
      "Epoch 740 - Train Loss: 0.0869, Train MSE: 0.0869, Train MAE: 0.2231\n",
      "Epoch 740 - Validation Loss: 0.9368, Validation MSE: 0.9392, Validation MAE: 0.7424\n"
     ]
    },
    {
     "name": "stderr",
     "output_type": "stream",
     "text": [
      "Training Epoch 742: 100%|██████████| 890/890 [00:04<00:00, 193.73it/s]\n",
      "Training Epoch 743: 100%|██████████| 890/890 [00:04<00:00, 190.96it/s]\n",
      "Training Epoch 744: 100%|██████████| 890/890 [00:04<00:00, 186.56it/s]\n",
      "Training Epoch 745: 100%|██████████| 890/890 [00:04<00:00, 194.47it/s]\n",
      "Training Epoch 746: 100%|██████████| 890/890 [00:04<00:00, 192.92it/s]\n",
      "Training Epoch 747: 100%|██████████| 890/890 [00:04<00:00, 192.04it/s]\n",
      "Training Epoch 748: 100%|██████████| 890/890 [00:04<00:00, 191.39it/s]\n",
      "Training Epoch 749: 100%|██████████| 890/890 [00:04<00:00, 191.22it/s]\n",
      "Training Epoch 750: 100%|██████████| 890/890 [00:04<00:00, 189.76it/s]\n",
      "Training Epoch 751: 100%|██████████| 890/890 [00:04<00:00, 198.04it/s]\n"
     ]
    },
    {
     "name": "stdout",
     "output_type": "stream",
     "text": [
      "Epoch 750 - Train Loss: 0.0862, Train MSE: 0.0862, Train MAE: 0.2232\n",
      "Epoch 750 - Validation Loss: 0.9293, Validation MSE: 0.9316, Validation MAE: 0.7383\n"
     ]
    },
    {
     "name": "stderr",
     "output_type": "stream",
     "text": [
      "Training Epoch 752: 100%|██████████| 890/890 [00:04<00:00, 186.81it/s]\n",
      "Training Epoch 753: 100%|██████████| 890/890 [00:04<00:00, 187.23it/s]\n",
      "Training Epoch 754: 100%|██████████| 890/890 [00:04<00:00, 192.56it/s]\n",
      "Training Epoch 755: 100%|██████████| 890/890 [00:04<00:00, 188.33it/s]\n",
      "Training Epoch 756: 100%|██████████| 890/890 [00:04<00:00, 185.66it/s]\n",
      "Training Epoch 757: 100%|██████████| 890/890 [00:04<00:00, 197.90it/s]\n",
      "Training Epoch 758: 100%|██████████| 890/890 [00:04<00:00, 189.55it/s]\n",
      "Training Epoch 759: 100%|██████████| 890/890 [00:04<00:00, 191.20it/s]\n",
      "Training Epoch 760: 100%|██████████| 890/890 [00:04<00:00, 188.21it/s]\n",
      "Training Epoch 761: 100%|██████████| 890/890 [00:04<00:00, 190.18it/s]\n"
     ]
    },
    {
     "name": "stdout",
     "output_type": "stream",
     "text": [
      "Epoch 760 - Train Loss: 0.0864, Train MSE: 0.0865, Train MAE: 0.2227\n",
      "Epoch 760 - Validation Loss: 0.9368, Validation MSE: 0.9391, Validation MAE: 0.7406\n"
     ]
    },
    {
     "name": "stderr",
     "output_type": "stream",
     "text": [
      "Training Epoch 762: 100%|██████████| 890/890 [00:04<00:00, 188.03it/s]\n",
      "Training Epoch 763: 100%|██████████| 890/890 [00:04<00:00, 192.11it/s]\n",
      "Training Epoch 764: 100%|██████████| 890/890 [00:04<00:00, 188.82it/s]\n",
      "Training Epoch 765: 100%|██████████| 890/890 [00:04<00:00, 192.31it/s]\n",
      "Training Epoch 766: 100%|██████████| 890/890 [00:04<00:00, 192.85it/s]\n",
      "Training Epoch 767: 100%|██████████| 890/890 [00:04<00:00, 192.85it/s]\n",
      "Training Epoch 768: 100%|██████████| 890/890 [00:04<00:00, 190.17it/s]\n",
      "Training Epoch 769: 100%|██████████| 890/890 [00:04<00:00, 188.24it/s]\n",
      "Training Epoch 770: 100%|██████████| 890/890 [00:04<00:00, 199.75it/s]\n",
      "Training Epoch 771: 100%|██████████| 890/890 [00:04<00:00, 185.73it/s]\n"
     ]
    },
    {
     "name": "stdout",
     "output_type": "stream",
     "text": [
      "Epoch 770 - Train Loss: 0.0841, Train MSE: 0.0842, Train MAE: 0.2202\n",
      "Epoch 770 - Validation Loss: 0.9459, Validation MSE: 0.9481, Validation MAE: 0.7466\n"
     ]
    },
    {
     "name": "stderr",
     "output_type": "stream",
     "text": [
      "Training Epoch 772: 100%|██████████| 890/890 [00:04<00:00, 185.49it/s]\n",
      "Training Epoch 773: 100%|██████████| 890/890 [00:04<00:00, 189.19it/s]\n",
      "Training Epoch 774: 100%|██████████| 890/890 [00:04<00:00, 192.64it/s]\n",
      "Training Epoch 775: 100%|██████████| 890/890 [00:04<00:00, 188.06it/s]\n",
      "Training Epoch 776: 100%|██████████| 890/890 [00:04<00:00, 191.45it/s]\n",
      "Training Epoch 777: 100%|██████████| 890/890 [00:04<00:00, 189.15it/s]\n",
      "Training Epoch 778: 100%|██████████| 890/890 [00:04<00:00, 189.94it/s]\n",
      "Training Epoch 779: 100%|██████████| 890/890 [00:04<00:00, 188.73it/s]\n",
      "Training Epoch 780: 100%|██████████| 890/890 [00:04<00:00, 190.17it/s]\n",
      "Training Epoch 781: 100%|██████████| 890/890 [00:04<00:00, 181.16it/s]\n"
     ]
    },
    {
     "name": "stdout",
     "output_type": "stream",
     "text": [
      "Epoch 780 - Train Loss: 0.0852, Train MSE: 0.0853, Train MAE: 0.2204\n",
      "Epoch 780 - Validation Loss: 0.9327, Validation MSE: 0.9356, Validation MAE: 0.7388\n"
     ]
    },
    {
     "name": "stderr",
     "output_type": "stream",
     "text": [
      "Training Epoch 782: 100%|██████████| 890/890 [00:04<00:00, 193.18it/s]\n",
      "Training Epoch 783: 100%|██████████| 890/890 [00:04<00:00, 195.90it/s]\n",
      "Training Epoch 784: 100%|██████████| 890/890 [00:04<00:00, 189.03it/s]\n",
      "Training Epoch 785: 100%|██████████| 890/890 [00:04<00:00, 189.43it/s]\n",
      "Training Epoch 786: 100%|██████████| 890/890 [00:04<00:00, 181.00it/s]\n",
      "Training Epoch 787: 100%|██████████| 890/890 [00:04<00:00, 191.74it/s]\n",
      "Training Epoch 788: 100%|██████████| 890/890 [00:04<00:00, 185.90it/s]\n",
      "Training Epoch 789: 100%|██████████| 890/890 [00:04<00:00, 196.64it/s]\n",
      "Training Epoch 790: 100%|██████████| 890/890 [00:04<00:00, 190.22it/s]\n",
      "Training Epoch 791: 100%|██████████| 890/890 [00:04<00:00, 191.97it/s]\n"
     ]
    },
    {
     "name": "stdout",
     "output_type": "stream",
     "text": [
      "Epoch 790 - Train Loss: 0.0845, Train MSE: 0.0845, Train MAE: 0.2205\n",
      "Epoch 790 - Validation Loss: 0.9392, Validation MSE: 0.9417, Validation MAE: 0.7419\n"
     ]
    },
    {
     "name": "stderr",
     "output_type": "stream",
     "text": [
      "Training Epoch 792: 100%|██████████| 890/890 [00:04<00:00, 185.83it/s]\n",
      "Training Epoch 793: 100%|██████████| 890/890 [00:04<00:00, 188.96it/s]\n",
      "Training Epoch 794: 100%|██████████| 890/890 [00:04<00:00, 186.48it/s]\n",
      "Training Epoch 795: 100%|██████████| 890/890 [00:04<00:00, 197.23it/s]\n",
      "Training Epoch 796: 100%|██████████| 890/890 [00:04<00:00, 191.55it/s]\n",
      "Training Epoch 797: 100%|██████████| 890/890 [00:04<00:00, 191.76it/s]\n",
      "Training Epoch 798: 100%|██████████| 890/890 [00:04<00:00, 189.87it/s]\n",
      "Training Epoch 799: 100%|██████████| 890/890 [00:04<00:00, 189.08it/s]\n",
      "Training Epoch 800: 100%|██████████| 890/890 [00:04<00:00, 181.24it/s]\n",
      "Training Epoch 801: 100%|██████████| 890/890 [00:04<00:00, 195.33it/s]\n"
     ]
    },
    {
     "name": "stdout",
     "output_type": "stream",
     "text": [
      "Epoch 800 - Train Loss: 0.0839, Train MSE: 0.0838, Train MAE: 0.2187\n",
      "Epoch 800 - Validation Loss: 0.9485, Validation MSE: 0.9513, Validation MAE: 0.7445\n"
     ]
    },
    {
     "name": "stderr",
     "output_type": "stream",
     "text": [
      "Training Epoch 802: 100%|██████████| 890/890 [00:04<00:00, 193.04it/s]\n",
      "Training Epoch 803: 100%|██████████| 890/890 [00:04<00:00, 188.86it/s]\n",
      "Training Epoch 804: 100%|██████████| 890/890 [00:04<00:00, 191.94it/s]\n",
      "Training Epoch 805: 100%|██████████| 890/890 [00:04<00:00, 181.70it/s]\n",
      "Training Epoch 806: 100%|██████████| 890/890 [00:04<00:00, 188.56it/s]\n",
      "Training Epoch 807: 100%|██████████| 890/890 [00:04<00:00, 187.55it/s]\n",
      "Training Epoch 808: 100%|██████████| 890/890 [00:04<00:00, 189.48it/s]\n",
      "Training Epoch 809: 100%|██████████| 890/890 [00:04<00:00, 189.48it/s]\n",
      "Training Epoch 810: 100%|██████████| 890/890 [00:04<00:00, 191.06it/s]\n",
      "Training Epoch 811: 100%|██████████| 890/890 [00:04<00:00, 188.27it/s]\n"
     ]
    },
    {
     "name": "stdout",
     "output_type": "stream",
     "text": [
      "Epoch 810 - Train Loss: 0.0823, Train MSE: 0.0823, Train MAE: 0.2163\n",
      "Epoch 810 - Validation Loss: 0.9294, Validation MSE: 0.9327, Validation MAE: 0.7362\n"
     ]
    },
    {
     "name": "stderr",
     "output_type": "stream",
     "text": [
      "Training Epoch 812: 100%|██████████| 890/890 [00:04<00:00, 184.00it/s]\n",
      "Training Epoch 813: 100%|██████████| 890/890 [00:04<00:00, 191.19it/s]\n",
      "Training Epoch 814: 100%|██████████| 890/890 [00:04<00:00, 198.71it/s]\n",
      "Training Epoch 815: 100%|██████████| 890/890 [00:04<00:00, 186.27it/s]\n",
      "Training Epoch 816: 100%|██████████| 890/890 [00:04<00:00, 186.43it/s]\n",
      "Training Epoch 817: 100%|██████████| 890/890 [00:04<00:00, 189.22it/s]\n",
      "Training Epoch 818: 100%|██████████| 890/890 [00:04<00:00, 187.98it/s]\n",
      "Training Epoch 819: 100%|██████████| 890/890 [00:04<00:00, 187.08it/s]\n",
      "Training Epoch 820: 100%|██████████| 890/890 [00:04<00:00, 197.89it/s]\n",
      "Training Epoch 821: 100%|██████████| 890/890 [00:04<00:00, 190.01it/s]\n"
     ]
    },
    {
     "name": "stdout",
     "output_type": "stream",
     "text": [
      "Epoch 820 - Train Loss: 0.0839, Train MSE: 0.0840, Train MAE: 0.2192\n",
      "Epoch 820 - Validation Loss: 0.9284, Validation MSE: 0.9307, Validation MAE: 0.7376\n"
     ]
    },
    {
     "name": "stderr",
     "output_type": "stream",
     "text": [
      "Training Epoch 822: 100%|██████████| 890/890 [00:04<00:00, 187.24it/s]\n",
      "Training Epoch 823: 100%|██████████| 890/890 [00:04<00:00, 188.68it/s]\n",
      "Training Epoch 824: 100%|██████████| 890/890 [00:04<00:00, 186.94it/s]\n",
      "Training Epoch 825: 100%|██████████| 890/890 [00:04<00:00, 197.30it/s]\n",
      "Training Epoch 826: 100%|██████████| 890/890 [00:04<00:00, 187.04it/s]\n",
      "Training Epoch 827: 100%|██████████| 890/890 [00:04<00:00, 193.99it/s]\n",
      "Training Epoch 828: 100%|██████████| 890/890 [00:04<00:00, 189.19it/s]\n",
      "Training Epoch 829: 100%|██████████| 890/890 [00:04<00:00, 184.35it/s]\n",
      "Training Epoch 830: 100%|██████████| 890/890 [00:04<00:00, 185.27it/s]\n",
      "Training Epoch 831: 100%|██████████| 890/890 [00:04<00:00, 185.25it/s]\n"
     ]
    },
    {
     "name": "stdout",
     "output_type": "stream",
     "text": [
      "Epoch 830 - Train Loss: 0.0795, Train MSE: 0.0792, Train MAE: 0.2138\n",
      "Epoch 830 - Validation Loss: 0.9364, Validation MSE: 0.9393, Validation MAE: 0.7406\n"
     ]
    },
    {
     "name": "stderr",
     "output_type": "stream",
     "text": [
      "Training Epoch 832: 100%|██████████| 890/890 [00:04<00:00, 190.35it/s]\n",
      "Training Epoch 833: 100%|██████████| 890/890 [00:04<00:00, 188.03it/s]\n",
      "Training Epoch 834: 100%|██████████| 890/890 [00:04<00:00, 186.80it/s]\n",
      "Training Epoch 835: 100%|██████████| 890/890 [00:04<00:00, 188.17it/s]\n",
      "Training Epoch 836: 100%|██████████| 890/890 [00:04<00:00, 182.33it/s]\n",
      "Training Epoch 837: 100%|██████████| 890/890 [00:05<00:00, 175.70it/s]\n",
      "Training Epoch 838: 100%|██████████| 890/890 [00:04<00:00, 188.00it/s]\n",
      "Training Epoch 839: 100%|██████████| 890/890 [00:04<00:00, 197.02it/s]\n",
      "Training Epoch 840: 100%|██████████| 890/890 [00:04<00:00, 188.08it/s]\n",
      "Training Epoch 841: 100%|██████████| 890/890 [00:04<00:00, 187.71it/s]\n"
     ]
    },
    {
     "name": "stdout",
     "output_type": "stream",
     "text": [
      "Epoch 840 - Train Loss: 0.0827, Train MSE: 0.0828, Train MAE: 0.2182\n",
      "Epoch 840 - Validation Loss: 0.9269, Validation MSE: 0.9293, Validation MAE: 0.7356\n"
     ]
    },
    {
     "name": "stderr",
     "output_type": "stream",
     "text": [
      "Training Epoch 842: 100%|██████████| 890/890 [00:04<00:00, 190.52it/s]\n",
      "Training Epoch 843: 100%|██████████| 890/890 [00:04<00:00, 187.40it/s]\n",
      "Training Epoch 844: 100%|██████████| 890/890 [00:04<00:00, 191.48it/s]\n",
      "Training Epoch 845: 100%|██████████| 890/890 [00:04<00:00, 193.51it/s]\n",
      "Training Epoch 846: 100%|██████████| 890/890 [00:04<00:00, 196.03it/s]\n",
      "Training Epoch 847: 100%|██████████| 890/890 [00:04<00:00, 189.80it/s]\n",
      "Training Epoch 848: 100%|██████████| 890/890 [00:04<00:00, 190.61it/s]\n",
      "Training Epoch 849: 100%|██████████| 890/890 [00:04<00:00, 187.29it/s]\n",
      "Training Epoch 850: 100%|██████████| 890/890 [00:04<00:00, 190.09it/s]\n",
      "Training Epoch 851: 100%|██████████| 890/890 [00:04<00:00, 184.58it/s]\n"
     ]
    },
    {
     "name": "stdout",
     "output_type": "stream",
     "text": [
      "Epoch 850 - Train Loss: 0.0816, Train MSE: 0.0816, Train MAE: 0.2164\n",
      "Epoch 850 - Validation Loss: 0.9234, Validation MSE: 0.9259, Validation MAE: 0.7353\n"
     ]
    },
    {
     "name": "stderr",
     "output_type": "stream",
     "text": [
      "Training Epoch 852: 100%|██████████| 890/890 [00:04<00:00, 193.85it/s]\n",
      "Training Epoch 853: 100%|██████████| 890/890 [00:04<00:00, 185.36it/s]\n",
      "Training Epoch 854: 100%|██████████| 890/890 [00:04<00:00, 188.37it/s]\n",
      "Training Epoch 855: 100%|██████████| 890/890 [00:04<00:00, 185.72it/s]\n",
      "Training Epoch 856: 100%|██████████| 890/890 [00:04<00:00, 190.12it/s]\n",
      "Training Epoch 857: 100%|██████████| 890/890 [00:04<00:00, 188.83it/s]\n",
      "Training Epoch 858: 100%|██████████| 890/890 [00:04<00:00, 196.92it/s]\n",
      "Training Epoch 859: 100%|██████████| 890/890 [00:04<00:00, 184.20it/s]\n",
      "Training Epoch 860: 100%|██████████| 890/890 [00:04<00:00, 186.76it/s]\n",
      "Training Epoch 861: 100%|██████████| 890/890 [00:04<00:00, 180.81it/s]\n"
     ]
    },
    {
     "name": "stdout",
     "output_type": "stream",
     "text": [
      "Epoch 860 - Train Loss: 0.0813, Train MSE: 0.0814, Train MAE: 0.2152\n",
      "Epoch 860 - Validation Loss: 0.9268, Validation MSE: 0.9297, Validation MAE: 0.7363\n"
     ]
    },
    {
     "name": "stderr",
     "output_type": "stream",
     "text": [
      "Training Epoch 862: 100%|██████████| 890/890 [00:04<00:00, 187.33it/s]\n",
      "Training Epoch 863: 100%|██████████| 890/890 [00:04<00:00, 184.66it/s]\n",
      "Training Epoch 864: 100%|██████████| 890/890 [00:04<00:00, 193.34it/s]\n",
      "Training Epoch 865: 100%|██████████| 890/890 [00:04<00:00, 188.50it/s]\n",
      "Training Epoch 866: 100%|██████████| 890/890 [00:04<00:00, 189.16it/s]\n",
      "Training Epoch 867: 100%|██████████| 890/890 [00:04<00:00, 185.81it/s]\n",
      "Training Epoch 868: 100%|██████████| 890/890 [00:04<00:00, 188.55it/s]\n",
      "Training Epoch 869: 100%|██████████| 890/890 [00:04<00:00, 184.61it/s]\n",
      "Training Epoch 870: 100%|██████████| 890/890 [00:04<00:00, 188.47it/s]\n",
      "Training Epoch 871: 100%|██████████| 890/890 [00:04<00:00, 189.06it/s]\n"
     ]
    },
    {
     "name": "stdout",
     "output_type": "stream",
     "text": [
      "Epoch 870 - Train Loss: 0.0808, Train MSE: 0.0808, Train MAE: 0.2144\n",
      "Epoch 870 - Validation Loss: 0.9308, Validation MSE: 0.9334, Validation MAE: 0.7383\n"
     ]
    },
    {
     "name": "stderr",
     "output_type": "stream",
     "text": [
      "Training Epoch 872: 100%|██████████| 890/890 [00:04<00:00, 185.42it/s]\n",
      "Training Epoch 873: 100%|██████████| 890/890 [00:05<00:00, 177.40it/s]\n",
      "Training Epoch 874: 100%|██████████| 890/890 [00:04<00:00, 182.60it/s]\n",
      "Training Epoch 875: 100%|██████████| 890/890 [00:04<00:00, 187.18it/s]\n",
      "Training Epoch 876: 100%|██████████| 890/890 [00:04<00:00, 187.46it/s]\n",
      "Training Epoch 877: 100%|██████████| 890/890 [00:04<00:00, 195.17it/s]\n",
      "Training Epoch 878: 100%|██████████| 890/890 [00:04<00:00, 186.70it/s]\n",
      "Training Epoch 879: 100%|██████████| 890/890 [00:04<00:00, 185.32it/s]\n",
      "Training Epoch 880: 100%|██████████| 890/890 [00:04<00:00, 185.46it/s]\n",
      "Training Epoch 881: 100%|██████████| 890/890 [00:04<00:00, 187.56it/s]\n"
     ]
    },
    {
     "name": "stdout",
     "output_type": "stream",
     "text": [
      "Epoch 880 - Train Loss: 0.0797, Train MSE: 0.0796, Train MAE: 0.2133\n",
      "Epoch 880 - Validation Loss: 0.9129, Validation MSE: 0.9158, Validation MAE: 0.7329\n"
     ]
    },
    {
     "name": "stderr",
     "output_type": "stream",
     "text": [
      "Training Epoch 882: 100%|██████████| 890/890 [00:04<00:00, 185.43it/s]\n",
      "Training Epoch 883: 100%|██████████| 890/890 [00:04<00:00, 188.94it/s]\n",
      "Training Epoch 884: 100%|██████████| 890/890 [00:04<00:00, 182.35it/s]\n",
      "Training Epoch 885: 100%|██████████| 890/890 [00:05<00:00, 174.40it/s]\n",
      "Training Epoch 886: 100%|██████████| 890/890 [00:04<00:00, 188.27it/s]\n",
      "Training Epoch 887: 100%|██████████| 890/890 [00:04<00:00, 188.85it/s]\n",
      "Training Epoch 888: 100%|██████████| 890/890 [00:04<00:00, 186.56it/s]\n",
      "Training Epoch 889: 100%|██████████| 890/890 [00:04<00:00, 188.07it/s]\n",
      "Training Epoch 890: 100%|██████████| 890/890 [00:04<00:00, 188.33it/s]\n",
      "Training Epoch 891: 100%|██████████| 890/890 [00:04<00:00, 186.52it/s]\n"
     ]
    },
    {
     "name": "stdout",
     "output_type": "stream",
     "text": [
      "Epoch 890 - Train Loss: 0.0790, Train MSE: 0.0790, Train MAE: 0.2124\n",
      "Epoch 890 - Validation Loss: 0.9303, Validation MSE: 0.9327, Validation MAE: 0.7386\n"
     ]
    },
    {
     "name": "stderr",
     "output_type": "stream",
     "text": [
      "Training Epoch 892: 100%|██████████| 890/890 [00:04<00:00, 186.38it/s]\n",
      "Training Epoch 893: 100%|██████████| 890/890 [00:04<00:00, 188.89it/s]\n",
      "Training Epoch 894: 100%|██████████| 890/890 [00:04<00:00, 186.46it/s]\n",
      "Training Epoch 895: 100%|██████████| 890/890 [00:04<00:00, 190.73it/s]\n",
      "Training Epoch 896: 100%|██████████| 890/890 [00:04<00:00, 187.92it/s]\n",
      "Training Epoch 897: 100%|██████████| 890/890 [00:04<00:00, 187.24it/s]\n",
      "Training Epoch 898: 100%|██████████| 890/890 [00:04<00:00, 183.78it/s]\n",
      "Training Epoch 899: 100%|██████████| 890/890 [00:04<00:00, 187.08it/s]\n",
      "Training Epoch 900: 100%|██████████| 890/890 [00:04<00:00, 187.60it/s]\n",
      "Training Epoch 901: 100%|██████████| 890/890 [00:04<00:00, 184.35it/s]\n"
     ]
    },
    {
     "name": "stdout",
     "output_type": "stream",
     "text": [
      "Epoch 900 - Train Loss: 0.0784, Train MSE: 0.0785, Train MAE: 0.2125\n",
      "Epoch 900 - Validation Loss: 0.9348, Validation MSE: 0.9372, Validation MAE: 0.7400\n"
     ]
    },
    {
     "name": "stderr",
     "output_type": "stream",
     "text": [
      "Training Epoch 902: 100%|██████████| 890/890 [00:04<00:00, 192.60it/s]\n",
      "Training Epoch 903: 100%|██████████| 890/890 [00:04<00:00, 185.44it/s]\n",
      "Training Epoch 904: 100%|██████████| 890/890 [00:04<00:00, 188.74it/s]\n",
      "Training Epoch 905: 100%|██████████| 890/890 [00:04<00:00, 188.82it/s]\n",
      "Training Epoch 906: 100%|██████████| 890/890 [00:04<00:00, 184.99it/s]\n",
      "Training Epoch 907: 100%|██████████| 890/890 [00:04<00:00, 188.52it/s]\n",
      "Training Epoch 908: 100%|██████████| 890/890 [00:04<00:00, 187.63it/s]\n",
      "Training Epoch 909: 100%|██████████| 890/890 [00:04<00:00, 189.18it/s]\n",
      "Training Epoch 910: 100%|██████████| 890/890 [00:04<00:00, 185.31it/s]\n",
      "Training Epoch 911: 100%|██████████| 890/890 [00:04<00:00, 187.74it/s]\n"
     ]
    },
    {
     "name": "stdout",
     "output_type": "stream",
     "text": [
      "Epoch 910 - Train Loss: 0.0799, Train MSE: 0.0796, Train MAE: 0.2137\n",
      "Epoch 910 - Validation Loss: 0.9334, Validation MSE: 0.9364, Validation MAE: 0.7417\n"
     ]
    },
    {
     "name": "stderr",
     "output_type": "stream",
     "text": [
      "Training Epoch 912: 100%|██████████| 890/890 [00:04<00:00, 187.48it/s]\n",
      "Training Epoch 913: 100%|██████████| 890/890 [00:04<00:00, 190.16it/s]\n",
      "Training Epoch 914: 100%|██████████| 890/890 [00:04<00:00, 191.38it/s]\n",
      "Training Epoch 915: 100%|██████████| 890/890 [00:04<00:00, 189.03it/s]\n",
      "Training Epoch 916: 100%|██████████| 890/890 [00:04<00:00, 190.49it/s]\n",
      "Training Epoch 917: 100%|██████████| 890/890 [00:04<00:00, 186.01it/s]\n",
      "Training Epoch 918: 100%|██████████| 890/890 [00:04<00:00, 190.24it/s]\n",
      "Training Epoch 919: 100%|██████████| 890/890 [00:04<00:00, 188.20it/s]\n",
      "Training Epoch 920: 100%|██████████| 890/890 [00:04<00:00, 191.87it/s]\n",
      "Training Epoch 921: 100%|██████████| 890/890 [00:04<00:00, 193.00it/s]\n"
     ]
    },
    {
     "name": "stdout",
     "output_type": "stream",
     "text": [
      "Epoch 920 - Train Loss: 0.0786, Train MSE: 0.0787, Train MAE: 0.2118\n",
      "Epoch 920 - Validation Loss: 0.9298, Validation MSE: 0.9323, Validation MAE: 0.7373\n"
     ]
    },
    {
     "name": "stderr",
     "output_type": "stream",
     "text": [
      "Training Epoch 922: 100%|██████████| 890/890 [00:04<00:00, 191.63it/s]\n",
      "Training Epoch 923: 100%|██████████| 890/890 [00:04<00:00, 189.50it/s]\n",
      "Training Epoch 924: 100%|██████████| 890/890 [00:04<00:00, 188.25it/s]\n",
      "Training Epoch 925: 100%|██████████| 890/890 [00:04<00:00, 190.63it/s]\n",
      "Training Epoch 926: 100%|██████████| 890/890 [00:04<00:00, 192.32it/s]\n",
      "Training Epoch 927: 100%|██████████| 890/890 [00:04<00:00, 193.29it/s]\n",
      "Training Epoch 928: 100%|██████████| 890/890 [00:04<00:00, 191.66it/s]\n",
      "Training Epoch 929: 100%|██████████| 890/890 [00:04<00:00, 187.36it/s]\n",
      "Training Epoch 930: 100%|██████████| 890/890 [00:04<00:00, 188.77it/s]\n",
      "Training Epoch 931: 100%|██████████| 890/890 [00:04<00:00, 187.53it/s]\n"
     ]
    },
    {
     "name": "stdout",
     "output_type": "stream",
     "text": [
      "Epoch 930 - Train Loss: 0.0785, Train MSE: 0.0785, Train MAE: 0.2114\n",
      "Epoch 930 - Validation Loss: 0.9359, Validation MSE: 0.9386, Validation MAE: 0.7371\n"
     ]
    },
    {
     "name": "stderr",
     "output_type": "stream",
     "text": [
      "Training Epoch 932: 100%|██████████| 890/890 [00:04<00:00, 179.93it/s]\n",
      "Training Epoch 933: 100%|██████████| 890/890 [00:04<00:00, 178.12it/s]\n",
      "Training Epoch 934: 100%|██████████| 890/890 [00:04<00:00, 182.42it/s]\n",
      "Training Epoch 935: 100%|██████████| 890/890 [00:04<00:00, 185.15it/s]\n",
      "Training Epoch 936: 100%|██████████| 890/890 [00:04<00:00, 182.65it/s]\n",
      "Training Epoch 937: 100%|██████████| 890/890 [00:07<00:00, 123.60it/s]\n",
      "Training Epoch 938: 100%|██████████| 890/890 [00:08<00:00, 98.97it/s] \n",
      "Training Epoch 939: 100%|██████████| 890/890 [00:04<00:00, 197.22it/s]\n",
      "Training Epoch 940: 100%|██████████| 890/890 [00:04<00:00, 191.83it/s]\n",
      "Training Epoch 941: 100%|██████████| 890/890 [00:04<00:00, 190.53it/s]\n"
     ]
    },
    {
     "name": "stdout",
     "output_type": "stream",
     "text": [
      "Epoch 940 - Train Loss: 0.0801, Train MSE: 0.0799, Train MAE: 0.2138\n",
      "Epoch 940 - Validation Loss: 0.9254, Validation MSE: 0.9271, Validation MAE: 0.7358\n"
     ]
    },
    {
     "name": "stderr",
     "output_type": "stream",
     "text": [
      "Training Epoch 942: 100%|██████████| 890/890 [00:04<00:00, 190.64it/s]\n",
      "Training Epoch 943: 100%|██████████| 890/890 [00:04<00:00, 192.44it/s]\n",
      "Training Epoch 944: 100%|██████████| 890/890 [00:04<00:00, 186.17it/s]\n",
      "Training Epoch 945: 100%|██████████| 890/890 [00:04<00:00, 194.08it/s]\n",
      "Training Epoch 946: 100%|██████████| 890/890 [00:11<00:00, 80.39it/s] \n",
      "Training Epoch 947: 100%|██████████| 890/890 [00:08<00:00, 99.70it/s] \n",
      "Training Epoch 948: 100%|██████████| 890/890 [00:04<00:00, 194.12it/s]\n",
      "Training Epoch 949: 100%|██████████| 890/890 [00:04<00:00, 191.27it/s]\n",
      "Training Epoch 950: 100%|██████████| 890/890 [00:04<00:00, 191.62it/s]\n",
      "Training Epoch 951: 100%|██████████| 890/890 [00:04<00:00, 193.25it/s]\n"
     ]
    },
    {
     "name": "stdout",
     "output_type": "stream",
     "text": [
      "Epoch 950 - Train Loss: 0.0769, Train MSE: 0.0770, Train MAE: 0.2101\n",
      "Epoch 950 - Validation Loss: 0.9304, Validation MSE: 0.9329, Validation MAE: 0.7390\n"
     ]
    },
    {
     "name": "stderr",
     "output_type": "stream",
     "text": [
      "Training Epoch 952: 100%|██████████| 890/890 [00:04<00:00, 196.85it/s]\n",
      "Training Epoch 953: 100%|██████████| 890/890 [00:04<00:00, 192.86it/s]\n",
      "Training Epoch 954: 100%|██████████| 890/890 [00:07<00:00, 118.56it/s]\n",
      "Training Epoch 955: 100%|██████████| 890/890 [00:04<00:00, 182.80it/s]\n",
      "Training Epoch 956: 100%|██████████| 890/890 [00:08<00:00, 101.90it/s]\n",
      "Training Epoch 957: 100%|██████████| 890/890 [00:04<00:00, 192.79it/s]\n",
      "Training Epoch 958: 100%|██████████| 890/890 [00:04<00:00, 197.16it/s]\n",
      "Training Epoch 959: 100%|██████████| 890/890 [00:04<00:00, 191.60it/s]\n",
      "Training Epoch 960: 100%|██████████| 890/890 [00:04<00:00, 190.66it/s]\n",
      "Training Epoch 961: 100%|██████████| 890/890 [00:04<00:00, 190.82it/s]\n"
     ]
    },
    {
     "name": "stdout",
     "output_type": "stream",
     "text": [
      "Epoch 960 - Train Loss: 0.0778, Train MSE: 0.0779, Train MAE: 0.2109\n",
      "Epoch 960 - Validation Loss: 0.9199, Validation MSE: 0.9228, Validation MAE: 0.7325\n"
     ]
    },
    {
     "name": "stderr",
     "output_type": "stream",
     "text": [
      "Training Epoch 962: 100%|██████████| 890/890 [00:04<00:00, 189.97it/s]\n",
      "Training Epoch 963: 100%|██████████| 890/890 [00:17<00:00, 50.80it/s] \n",
      "Training Epoch 964: 100%|██████████| 890/890 [00:08<00:00, 108.01it/s]\n",
      "Training Epoch 965: 100%|██████████| 890/890 [00:04<00:00, 188.24it/s]\n",
      "Training Epoch 966: 100%|██████████| 890/890 [00:04<00:00, 188.84it/s]\n",
      "Training Epoch 967: 100%|██████████| 890/890 [00:04<00:00, 191.87it/s]\n",
      "Training Epoch 968: 100%|██████████| 890/890 [00:04<00:00, 191.26it/s]\n",
      "Training Epoch 969: 100%|██████████| 890/890 [00:04<00:00, 188.41it/s]\n",
      "Training Epoch 970: 100%|██████████| 890/890 [00:04<00:00, 192.10it/s]\n",
      "Training Epoch 971: 100%|██████████| 890/890 [00:04<00:00, 194.07it/s]\n"
     ]
    },
    {
     "name": "stdout",
     "output_type": "stream",
     "text": [
      "Epoch 970 - Train Loss: 0.0764, Train MSE: 0.0765, Train MAE: 0.2090\n",
      "Epoch 970 - Validation Loss: 0.9269, Validation MSE: 0.9296, Validation MAE: 0.7359\n"
     ]
    },
    {
     "name": "stderr",
     "output_type": "stream",
     "text": [
      "Training Epoch 972: 100%|██████████| 890/890 [00:18<00:00, 47.57it/s] \n",
      "Training Epoch 973: 100%|██████████| 890/890 [00:08<00:00, 101.37it/s]\n",
      "Training Epoch 974: 100%|██████████| 890/890 [00:04<00:00, 191.37it/s]\n",
      "Training Epoch 975: 100%|██████████| 890/890 [00:04<00:00, 195.03it/s]\n",
      "Training Epoch 976: 100%|██████████| 890/890 [00:04<00:00, 192.72it/s]\n",
      "Training Epoch 977: 100%|██████████| 890/890 [00:04<00:00, 189.35it/s]\n",
      "Training Epoch 978: 100%|██████████| 890/890 [00:04<00:00, 191.87it/s]\n",
      "Training Epoch 979: 100%|██████████| 890/890 [00:04<00:00, 192.03it/s]\n",
      "Training Epoch 980: 100%|██████████| 890/890 [00:04<00:00, 191.03it/s]\n",
      "Training Epoch 981: 100%|██████████| 890/890 [00:17<00:00, 49.56it/s] \n"
     ]
    },
    {
     "name": "stdout",
     "output_type": "stream",
     "text": [
      "Epoch 980 - Train Loss: 0.0764, Train MSE: 0.0762, Train MAE: 0.2084\n",
      "Epoch 980 - Validation Loss: 0.9256, Validation MSE: 0.9284, Validation MAE: 0.7365\n"
     ]
    },
    {
     "name": "stderr",
     "output_type": "stream",
     "text": [
      "Training Epoch 982: 100%|██████████| 890/890 [00:08<00:00, 102.45it/s]\n",
      "Training Epoch 983: 100%|██████████| 890/890 [00:04<00:00, 197.49it/s]\n",
      "Training Epoch 984: 100%|██████████| 890/890 [00:04<00:00, 197.67it/s]\n",
      "Training Epoch 985: 100%|██████████| 890/890 [00:04<00:00, 192.89it/s]\n",
      "Training Epoch 986: 100%|██████████| 890/890 [00:04<00:00, 191.09it/s]\n",
      "Training Epoch 987: 100%|██████████| 890/890 [00:04<00:00, 191.99it/s]\n",
      "Training Epoch 988: 100%|██████████| 890/890 [00:04<00:00, 189.89it/s]\n",
      "Training Epoch 989: 100%|██████████| 890/890 [00:18<00:00, 48.41it/s] \n",
      "Training Epoch 990: 100%|██████████| 890/890 [00:08<00:00, 101.50it/s]\n",
      "Training Epoch 991: 100%|██████████| 890/890 [00:04<00:00, 192.23it/s]\n"
     ]
    },
    {
     "name": "stdout",
     "output_type": "stream",
     "text": [
      "Epoch 990 - Train Loss: 0.0756, Train MSE: 0.0755, Train MAE: 0.2080\n",
      "Epoch 990 - Validation Loss: 0.9265, Validation MSE: 0.9291, Validation MAE: 0.7358\n"
     ]
    },
    {
     "name": "stderr",
     "output_type": "stream",
     "text": [
      "Training Epoch 992: 100%|██████████| 890/890 [00:04<00:00, 187.55it/s]\n",
      "Training Epoch 993: 100%|██████████| 890/890 [00:04<00:00, 192.12it/s]\n",
      "Training Epoch 994: 100%|██████████| 890/890 [00:04<00:00, 191.62it/s]\n",
      "Training Epoch 995: 100%|██████████| 890/890 [00:04<00:00, 192.61it/s]\n",
      "Training Epoch 996: 100%|██████████| 890/890 [00:04<00:00, 194.82it/s]\n",
      "Training Epoch 997: 100%|██████████| 890/890 [00:04<00:00, 192.25it/s]\n",
      "Training Epoch 998: 100%|██████████| 890/890 [00:17<00:00, 50.48it/s] \n",
      "Training Epoch 999: 100%|██████████| 890/890 [00:09<00:00, 98.81it/s] \n",
      "Training Epoch 1000: 100%|██████████| 890/890 [00:04<00:00, 193.19it/s]\n",
      "Training Epoch 1001: 100%|██████████| 890/890 [00:04<00:00, 192.07it/s]\n"
     ]
    },
    {
     "name": "stdout",
     "output_type": "stream",
     "text": [
      "Epoch 1000 - Train Loss: 0.0751, Train MSE: 0.0750, Train MAE: 0.2076\n",
      "Epoch 1000 - Validation Loss: 0.9258, Validation MSE: 0.9288, Validation MAE: 0.7365\n"
     ]
    },
    {
     "name": "stderr",
     "output_type": "stream",
     "text": [
      "Training Epoch 1002: 100%|██████████| 890/890 [00:04<00:00, 198.69it/s]\n",
      "Training Epoch 1003: 100%|██████████| 890/890 [00:04<00:00, 189.26it/s]\n",
      "Training Epoch 1004: 100%|██████████| 890/890 [00:04<00:00, 190.21it/s]\n",
      "Training Epoch 1005: 100%|██████████| 890/890 [00:04<00:00, 191.26it/s]\n",
      "Training Epoch 1006: 100%|██████████| 890/890 [00:04<00:00, 193.22it/s]\n",
      "Training Epoch 1007: 100%|██████████| 890/890 [00:17<00:00, 50.68it/s] \n",
      "Training Epoch 1008: 100%|██████████| 890/890 [00:08<00:00, 101.67it/s]\n",
      "Training Epoch 1009: 100%|██████████| 890/890 [00:04<00:00, 191.05it/s]\n",
      "Training Epoch 1010: 100%|██████████| 890/890 [00:04<00:00, 186.46it/s]\n",
      "Training Epoch 1011: 100%|██████████| 890/890 [00:04<00:00, 190.70it/s]\n"
     ]
    },
    {
     "name": "stdout",
     "output_type": "stream",
     "text": [
      "Epoch 1010 - Train Loss: 0.0753, Train MSE: 0.0754, Train MAE: 0.2088\n",
      "Epoch 1010 - Validation Loss: 0.9285, Validation MSE: 0.9309, Validation MAE: 0.7387\n"
     ]
    },
    {
     "name": "stderr",
     "output_type": "stream",
     "text": [
      "Training Epoch 1012: 100%|██████████| 890/890 [00:04<00:00, 190.29it/s]\n",
      "Training Epoch 1013: 100%|██████████| 890/890 [00:04<00:00, 188.97it/s]\n",
      "Training Epoch 1014: 100%|██████████| 890/890 [00:04<00:00, 196.05it/s]\n",
      "Training Epoch 1015: 100%|██████████| 890/890 [00:18<00:00, 48.52it/s] \n",
      "Training Epoch 1016: 100%|██████████| 890/890 [00:04<00:00, 180.86it/s]\n",
      "Training Epoch 1017: 100%|██████████| 890/890 [00:08<00:00, 105.42it/s]\n",
      "Training Epoch 1018: 100%|██████████| 890/890 [00:04<00:00, 191.82it/s]\n",
      "Training Epoch 1019: 100%|██████████| 890/890 [00:04<00:00, 192.91it/s]\n",
      "Training Epoch 1020: 100%|██████████| 890/890 [00:04<00:00, 191.39it/s]\n",
      "Training Epoch 1021: 100%|██████████| 890/890 [00:04<00:00, 196.46it/s]\n"
     ]
    },
    {
     "name": "stdout",
     "output_type": "stream",
     "text": [
      "Epoch 1020 - Train Loss: 0.0753, Train MSE: 0.0752, Train MAE: 0.2078\n",
      "Epoch 1020 - Validation Loss: 0.9341, Validation MSE: 0.9368, Validation MAE: 0.7402\n"
     ]
    },
    {
     "name": "stderr",
     "output_type": "stream",
     "text": [
      "Training Epoch 1022: 100%|██████████| 890/890 [00:04<00:00, 188.84it/s]\n",
      "Training Epoch 1023: 100%|██████████| 890/890 [00:04<00:00, 189.83it/s]\n",
      "Training Epoch 1024: 100%|██████████| 890/890 [00:17<00:00, 51.12it/s] \n",
      "Training Epoch 1025: 100%|██████████| 890/890 [00:09<00:00, 98.27it/s] \n",
      "Training Epoch 1026: 100%|██████████| 890/890 [00:04<00:00, 191.78it/s]\n",
      "Training Epoch 1027: 100%|██████████| 890/890 [00:04<00:00, 198.96it/s]\n",
      "Training Epoch 1028: 100%|██████████| 890/890 [00:04<00:00, 191.47it/s]\n",
      "Training Epoch 1029: 100%|██████████| 890/890 [00:04<00:00, 190.39it/s]\n",
      "Training Epoch 1030: 100%|██████████| 890/890 [00:04<00:00, 192.80it/s]\n",
      "Training Epoch 1031: 100%|██████████| 890/890 [00:04<00:00, 191.96it/s]\n"
     ]
    },
    {
     "name": "stdout",
     "output_type": "stream",
     "text": [
      "Epoch 1030 - Train Loss: 0.0766, Train MSE: 0.0766, Train MAE: 0.2089\n",
      "Epoch 1030 - Validation Loss: 0.9281, Validation MSE: 0.9309, Validation MAE: 0.7374\n"
     ]
    },
    {
     "name": "stderr",
     "output_type": "stream",
     "text": [
      "Training Epoch 1032: 100%|██████████| 890/890 [00:04<00:00, 191.56it/s]\n",
      "Training Epoch 1033: 100%|██████████| 890/890 [00:18<00:00, 47.73it/s] \n",
      "Training Epoch 1034: 100%|██████████| 890/890 [00:09<00:00, 98.12it/s] \n",
      "Training Epoch 1035: 100%|██████████| 890/890 [00:04<00:00, 192.91it/s]\n",
      "Training Epoch 1036: 100%|██████████| 890/890 [00:04<00:00, 192.84it/s]\n",
      "Training Epoch 1037: 100%|██████████| 890/890 [00:04<00:00, 192.07it/s]\n",
      "Training Epoch 1038: 100%|██████████| 890/890 [00:04<00:00, 192.14it/s]\n",
      "Training Epoch 1039: 100%|██████████| 890/890 [00:04<00:00, 192.58it/s]\n",
      "Training Epoch 1040: 100%|██████████| 890/890 [00:04<00:00, 196.05it/s]\n",
      "Training Epoch 1041: 100%|██████████| 890/890 [00:04<00:00, 194.14it/s]\n"
     ]
    },
    {
     "name": "stdout",
     "output_type": "stream",
     "text": [
      "Epoch 1040 - Train Loss: 0.0748, Train MSE: 0.0748, Train MAE: 0.2058\n",
      "Epoch 1040 - Validation Loss: 0.9302, Validation MSE: 0.9330, Validation MAE: 0.7389\n"
     ]
    },
    {
     "name": "stderr",
     "output_type": "stream",
     "text": [
      "Training Epoch 1042: 100%|██████████| 890/890 [00:04<00:00, 187.32it/s]\n",
      "Training Epoch 1043: 100%|██████████| 890/890 [00:08<00:00, 100.79it/s]\n",
      "Training Epoch 1044: 100%|██████████| 890/890 [00:04<00:00, 192.77it/s]\n",
      "Training Epoch 1045: 100%|██████████| 890/890 [00:04<00:00, 191.96it/s]\n",
      "Training Epoch 1046: 100%|██████████| 890/890 [00:04<00:00, 197.09it/s]\n",
      "Training Epoch 1047: 100%|██████████| 890/890 [00:04<00:00, 191.60it/s]\n",
      "Training Epoch 1048: 100%|██████████| 890/890 [00:04<00:00, 190.49it/s]\n",
      "Training Epoch 1049: 100%|██████████| 890/890 [00:04<00:00, 191.12it/s]\n",
      "Training Epoch 1050: 100%|██████████| 890/890 [00:17<00:00, 49.90it/s] \n",
      "Training Epoch 1051: 100%|██████████| 890/890 [00:05<00:00, 177.65it/s]\n"
     ]
    },
    {
     "name": "stdout",
     "output_type": "stream",
     "text": [
      "Epoch 1050 - Train Loss: 0.0737, Train MSE: 0.0738, Train MAE: 0.2057\n",
      "Epoch 1050 - Validation Loss: 0.9195, Validation MSE: 0.9223, Validation MAE: 0.7353\n"
     ]
    },
    {
     "name": "stderr",
     "output_type": "stream",
     "text": [
      "Training Epoch 1052: 100%|██████████| 890/890 [00:07<00:00, 112.83it/s]\n",
      "Training Epoch 1053: 100%|██████████| 890/890 [00:04<00:00, 194.40it/s]\n",
      "Training Epoch 1054: 100%|██████████| 890/890 [00:04<00:00, 192.71it/s]\n",
      "Training Epoch 1055: 100%|██████████| 890/890 [00:04<00:00, 190.82it/s]\n",
      "Training Epoch 1056: 100%|██████████| 890/890 [00:04<00:00, 190.78it/s]\n",
      "Training Epoch 1057: 100%|██████████| 890/890 [00:04<00:00, 192.61it/s]\n",
      "Training Epoch 1058: 100%|██████████| 890/890 [00:04<00:00, 193.82it/s]\n",
      "Training Epoch 1059: 100%|██████████| 890/890 [00:18<00:00, 49.44it/s] \n",
      "Training Epoch 1060: 100%|██████████| 890/890 [00:08<00:00, 100.88it/s]\n",
      "Training Epoch 1061: 100%|██████████| 890/890 [00:04<00:00, 192.50it/s]\n"
     ]
    },
    {
     "name": "stdout",
     "output_type": "stream",
     "text": [
      "Epoch 1060 - Train Loss: 0.0738, Train MSE: 0.0738, Train MAE: 0.2049\n",
      "Epoch 1060 - Validation Loss: 0.9211, Validation MSE: 0.9240, Validation MAE: 0.7371\n"
     ]
    },
    {
     "name": "stderr",
     "output_type": "stream",
     "text": [
      "Training Epoch 1062: 100%|██████████| 890/890 [00:04<00:00, 190.19it/s]\n",
      "Training Epoch 1063: 100%|██████████| 890/890 [00:04<00:00, 190.49it/s]\n",
      "Training Epoch 1064: 100%|██████████| 890/890 [00:04<00:00, 190.10it/s]\n",
      "Training Epoch 1065: 100%|██████████| 890/890 [00:04<00:00, 197.81it/s]\n",
      "Training Epoch 1066: 100%|██████████| 890/890 [00:04<00:00, 187.10it/s]\n",
      "Training Epoch 1067: 100%|██████████| 890/890 [00:04<00:00, 192.34it/s]\n",
      "Training Epoch 1068: 100%|██████████| 890/890 [00:17<00:00, 51.61it/s] \n",
      "Training Epoch 1069: 100%|██████████| 890/890 [16:31<00:00,  1.11s/it]    \n",
      "Training Epoch 1070: 100%|██████████| 890/890 [00:06<00:00, 139.76it/s]\n",
      "Training Epoch 1071: 100%|██████████| 890/890 [00:05<00:00, 171.30it/s]\n"
     ]
    },
    {
     "name": "stdout",
     "output_type": "stream",
     "text": [
      "Epoch 1070 - Train Loss: 0.0738, Train MSE: 0.0737, Train MAE: 0.2050\n",
      "Epoch 1070 - Validation Loss: 0.9357, Validation MSE: 0.9376, Validation MAE: 0.7401\n"
     ]
    },
    {
     "name": "stderr",
     "output_type": "stream",
     "text": [
      "Training Epoch 1072: 100%|██████████| 890/890 [00:05<00:00, 162.73it/s]\n",
      "Training Epoch 1073: 100%|██████████| 890/890 [00:05<00:00, 164.70it/s]\n",
      "Training Epoch 1074: 100%|██████████| 890/890 [00:05<00:00, 156.55it/s]\n",
      "Training Epoch 1075: 100%|██████████| 890/890 [00:07<00:00, 115.37it/s]\n",
      "Training Epoch 1076: 100%|██████████| 890/890 [00:05<00:00, 165.33it/s]\n",
      "Training Epoch 1077: 100%|██████████| 890/890 [00:05<00:00, 165.84it/s]\n",
      "Training Epoch 1078: 100%|██████████| 890/890 [00:05<00:00, 163.37it/s]\n",
      "Training Epoch 1079: 100%|██████████| 890/890 [00:05<00:00, 168.30it/s]\n",
      "Training Epoch 1080: 100%|██████████| 890/890 [00:05<00:00, 165.39it/s]\n",
      "Training Epoch 1081: 100%|██████████| 890/890 [00:05<00:00, 166.26it/s]\n"
     ]
    },
    {
     "name": "stdout",
     "output_type": "stream",
     "text": [
      "Epoch 1080 - Train Loss: 0.0738, Train MSE: 0.0737, Train MAE: 0.2051\n",
      "Epoch 1080 - Validation Loss: 0.9306, Validation MSE: 0.9326, Validation MAE: 0.7409\n"
     ]
    },
    {
     "name": "stderr",
     "output_type": "stream",
     "text": [
      "Training Epoch 1082: 100%|██████████| 890/890 [00:05<00:00, 162.20it/s]\n",
      "Training Epoch 1083: 100%|██████████| 890/890 [00:05<00:00, 164.03it/s]\n",
      "Training Epoch 1084: 100%|██████████| 890/890 [00:05<00:00, 160.66it/s]\n",
      "Training Epoch 1085: 100%|██████████| 890/890 [00:05<00:00, 167.06it/s]\n",
      "Training Epoch 1086: 100%|██████████| 890/890 [00:05<00:00, 162.05it/s]\n",
      "Training Epoch 1087: 100%|██████████| 890/890 [00:05<00:00, 167.31it/s]\n",
      "Training Epoch 1088: 100%|██████████| 890/890 [00:05<00:00, 161.02it/s]\n",
      "Training Epoch 1089: 100%|██████████| 890/890 [00:05<00:00, 162.29it/s]\n",
      "Training Epoch 1090: 100%|██████████| 890/890 [00:05<00:00, 165.94it/s]\n",
      "Training Epoch 1091: 100%|██████████| 890/890 [00:05<00:00, 169.91it/s]\n"
     ]
    },
    {
     "name": "stdout",
     "output_type": "stream",
     "text": [
      "Epoch 1090 - Train Loss: 0.0734, Train MSE: 0.0735, Train MAE: 0.2050\n",
      "Epoch 1090 - Validation Loss: 0.9293, Validation MSE: 0.9323, Validation MAE: 0.7381\n"
     ]
    },
    {
     "name": "stderr",
     "output_type": "stream",
     "text": [
      "Training Epoch 1092: 100%|██████████| 890/890 [00:19<00:00, 46.27it/s] \n",
      "Training Epoch 1093: 100%|██████████| 890/890 [00:05<00:00, 164.60it/s]\n",
      "Training Epoch 1094: 100%|██████████| 890/890 [00:05<00:00, 164.20it/s]\n",
      "Training Epoch 1095: 100%|██████████| 890/890 [00:05<00:00, 162.41it/s]\n",
      "Training Epoch 1096: 100%|██████████| 890/890 [00:05<00:00, 166.74it/s]\n",
      "Training Epoch 1097: 100%|██████████| 890/890 [00:05<00:00, 163.12it/s]\n",
      "Training Epoch 1098: 100%|██████████| 890/890 [00:05<00:00, 166.20it/s]\n",
      "Training Epoch 1099: 100%|██████████| 890/890 [00:05<00:00, 160.89it/s]\n",
      "Training Epoch 1100: 100%|██████████| 890/890 [00:18<00:00, 49.01it/s] \n",
      "Training Epoch 1101: 100%|██████████| 890/890 [00:05<00:00, 165.94it/s]\n"
     ]
    },
    {
     "name": "stdout",
     "output_type": "stream",
     "text": [
      "Epoch 1100 - Train Loss: 0.0720, Train MSE: 0.0721, Train MAE: 0.2035\n",
      "Epoch 1100 - Validation Loss: 0.9240, Validation MSE: 0.9262, Validation MAE: 0.7345\n"
     ]
    },
    {
     "name": "stderr",
     "output_type": "stream",
     "text": [
      "Training Epoch 1102: 100%|██████████| 890/890 [00:05<00:00, 161.58it/s]\n",
      "Training Epoch 1103: 100%|██████████| 890/890 [00:05<00:00, 160.48it/s]\n",
      "Training Epoch 1104: 100%|██████████| 890/890 [00:05<00:00, 167.42it/s]\n",
      "Training Epoch 1105: 100%|██████████| 890/890 [00:05<00:00, 158.15it/s]\n",
      "Training Epoch 1106: 100%|██████████| 890/890 [00:05<00:00, 162.80it/s]\n",
      "Training Epoch 1107: 100%|██████████| 890/890 [00:05<00:00, 159.00it/s]\n",
      "Training Epoch 1108: 100%|██████████| 890/890 [04:12<00:00,  3.52it/s] \n",
      "Training Epoch 1109: 100%|██████████| 890/890 [00:06<00:00, 137.33it/s]\n",
      "Training Epoch 1110: 100%|██████████| 890/890 [00:04<00:00, 191.25it/s]\n",
      "Training Epoch 1111: 100%|██████████| 890/890 [00:04<00:00, 191.43it/s]\n"
     ]
    },
    {
     "name": "stdout",
     "output_type": "stream",
     "text": [
      "Epoch 1110 - Train Loss: 0.0721, Train MSE: 0.0721, Train MAE: 0.2027\n",
      "Epoch 1110 - Validation Loss: 0.9200, Validation MSE: 0.9227, Validation MAE: 0.7364\n"
     ]
    },
    {
     "name": "stderr",
     "output_type": "stream",
     "text": [
      "Training Epoch 1112: 100%|██████████| 890/890 [00:04<00:00, 189.49it/s]\n",
      "Training Epoch 1113: 100%|██████████| 890/890 [00:04<00:00, 187.71it/s]\n",
      "Training Epoch 1114: 100%|██████████| 890/890 [00:04<00:00, 188.23it/s]\n",
      "Training Epoch 1115: 100%|██████████| 890/890 [00:04<00:00, 186.83it/s]\n",
      "Training Epoch 1116: 100%|██████████| 890/890 [00:04<00:00, 181.90it/s]\n",
      "Training Epoch 1117: 100%|██████████| 890/890 [00:04<00:00, 192.01it/s]\n",
      "Training Epoch 1118: 100%|██████████| 890/890 [00:04<00:00, 189.74it/s]\n",
      "Training Epoch 1119: 100%|██████████| 890/890 [00:04<00:00, 186.11it/s]\n",
      "Training Epoch 1120: 100%|██████████| 890/890 [00:04<00:00, 185.10it/s]\n",
      "Training Epoch 1121: 100%|██████████| 890/890 [00:04<00:00, 181.37it/s]\n"
     ]
    },
    {
     "name": "stdout",
     "output_type": "stream",
     "text": [
      "Epoch 1120 - Train Loss: 0.0711, Train MSE: 0.0712, Train MAE: 0.2019\n",
      "Epoch 1120 - Validation Loss: 0.9170, Validation MSE: 0.9196, Validation MAE: 0.7345\n"
     ]
    },
    {
     "name": "stderr",
     "output_type": "stream",
     "text": [
      "Training Epoch 1122: 100%|██████████| 890/890 [00:04<00:00, 182.80it/s]\n",
      "Training Epoch 1123: 100%|██████████| 890/890 [00:04<00:00, 189.44it/s]\n",
      "Training Epoch 1124: 100%|██████████| 890/890 [00:04<00:00, 183.63it/s]\n",
      "Training Epoch 1125: 100%|██████████| 890/890 [00:04<00:00, 180.90it/s]\n",
      "Training Epoch 1126: 100%|██████████| 890/890 [00:04<00:00, 184.89it/s]\n",
      "Training Epoch 1127: 100%|██████████| 890/890 [00:04<00:00, 183.25it/s]\n",
      "Training Epoch 1128: 100%|██████████| 890/890 [00:04<00:00, 181.30it/s]\n",
      "Training Epoch 1129: 100%|██████████| 890/890 [00:04<00:00, 190.76it/s]\n",
      "Training Epoch 1130: 100%|██████████| 890/890 [00:04<00:00, 185.36it/s]\n",
      "Training Epoch 1131: 100%|██████████| 890/890 [00:04<00:00, 186.83it/s]\n"
     ]
    },
    {
     "name": "stdout",
     "output_type": "stream",
     "text": [
      "Epoch 1130 - Train Loss: 0.0708, Train MSE: 0.0706, Train MAE: 0.2021\n",
      "Epoch 1130 - Validation Loss: 0.9209, Validation MSE: 0.9237, Validation MAE: 0.7348\n"
     ]
    },
    {
     "name": "stderr",
     "output_type": "stream",
     "text": [
      "Training Epoch 1132: 100%|██████████| 890/890 [00:04<00:00, 185.62it/s]\n",
      "Training Epoch 1133: 100%|██████████| 890/890 [00:04<00:00, 185.14it/s]\n",
      "Training Epoch 1134: 100%|██████████| 890/890 [00:04<00:00, 185.16it/s]\n",
      "Training Epoch 1135: 100%|██████████| 890/890 [00:04<00:00, 188.61it/s]\n",
      "Training Epoch 1136: 100%|██████████| 890/890 [00:04<00:00, 187.30it/s]\n",
      "Training Epoch 1137: 100%|██████████| 890/890 [00:04<00:00, 185.73it/s]\n",
      "Training Epoch 1138: 100%|██████████| 890/890 [00:04<00:00, 185.32it/s]\n",
      "Training Epoch 1139: 100%|██████████| 890/890 [00:04<00:00, 184.07it/s]\n",
      "Training Epoch 1140: 100%|██████████| 890/890 [00:04<00:00, 179.54it/s]\n",
      "Training Epoch 1141: 100%|██████████| 890/890 [00:04<00:00, 187.99it/s]\n"
     ]
    },
    {
     "name": "stdout",
     "output_type": "stream",
     "text": [
      "Epoch 1140 - Train Loss: 0.0719, Train MSE: 0.0720, Train MAE: 0.2018\n",
      "Epoch 1140 - Validation Loss: 0.9191, Validation MSE: 0.9221, Validation MAE: 0.7360\n"
     ]
    },
    {
     "name": "stderr",
     "output_type": "stream",
     "text": [
      "Training Epoch 1142: 100%|██████████| 890/890 [00:04<00:00, 185.78it/s]\n",
      "Training Epoch 1143: 100%|██████████| 890/890 [00:04<00:00, 187.61it/s]\n",
      "Training Epoch 1144: 100%|██████████| 890/890 [00:04<00:00, 184.40it/s]\n",
      "Training Epoch 1145: 100%|██████████| 890/890 [00:04<00:00, 183.19it/s]\n",
      "Training Epoch 1146: 100%|██████████| 890/890 [00:04<00:00, 182.50it/s]\n",
      "Training Epoch 1147: 100%|██████████| 890/890 [00:04<00:00, 186.32it/s]\n",
      "Training Epoch 1148: 100%|██████████| 890/890 [00:04<00:00, 190.64it/s]\n",
      "Training Epoch 1149: 100%|██████████| 890/890 [00:04<00:00, 184.07it/s]\n",
      "Training Epoch 1150: 100%|██████████| 890/890 [00:04<00:00, 184.28it/s]\n",
      "Training Epoch 1151: 100%|██████████| 890/890 [00:04<00:00, 185.56it/s]\n"
     ]
    },
    {
     "name": "stdout",
     "output_type": "stream",
     "text": [
      "Epoch 1150 - Train Loss: 0.0700, Train MSE: 0.0700, Train MAE: 0.2007\n",
      "Epoch 1150 - Validation Loss: 0.9234, Validation MSE: 0.9262, Validation MAE: 0.7368\n"
     ]
    },
    {
     "name": "stderr",
     "output_type": "stream",
     "text": [
      "Training Epoch 1152: 100%|██████████| 890/890 [00:04<00:00, 181.95it/s]\n",
      "Training Epoch 1153: 100%|██████████| 890/890 [00:04<00:00, 185.22it/s]\n",
      "Training Epoch 1154: 100%|██████████| 890/890 [00:04<00:00, 191.80it/s]\n",
      "Training Epoch 1155: 100%|██████████| 890/890 [00:04<00:00, 184.95it/s]\n",
      "Training Epoch 1156: 100%|██████████| 890/890 [00:04<00:00, 184.46it/s]\n",
      "Training Epoch 1157: 100%|██████████| 890/890 [00:04<00:00, 184.43it/s]\n",
      "Training Epoch 1158: 100%|██████████| 890/890 [00:04<00:00, 185.45it/s]\n",
      "Training Epoch 1159: 100%|██████████| 890/890 [00:04<00:00, 185.93it/s]\n",
      "Training Epoch 1160: 100%|██████████| 890/890 [00:04<00:00, 189.81it/s]\n",
      "Training Epoch 1161: 100%|██████████| 890/890 [00:04<00:00, 185.10it/s]\n"
     ]
    },
    {
     "name": "stdout",
     "output_type": "stream",
     "text": [
      "Epoch 1160 - Train Loss: 0.0696, Train MSE: 0.0696, Train MAE: 0.2011\n",
      "Epoch 1160 - Validation Loss: 0.9225, Validation MSE: 0.9256, Validation MAE: 0.7356\n"
     ]
    },
    {
     "name": "stderr",
     "output_type": "stream",
     "text": [
      "Training Epoch 1162: 100%|██████████| 890/890 [00:04<00:00, 186.95it/s]\n",
      "Training Epoch 1163: 100%|██████████| 890/890 [00:04<00:00, 186.76it/s]\n",
      "Training Epoch 1164: 100%|██████████| 890/890 [00:04<00:00, 183.16it/s]\n",
      "Training Epoch 1165: 100%|██████████| 890/890 [00:04<00:00, 184.62it/s]\n",
      "Training Epoch 1166: 100%|██████████| 890/890 [00:04<00:00, 186.25it/s]\n",
      "Training Epoch 1167: 100%|██████████| 890/890 [00:05<00:00, 171.24it/s]\n",
      "Training Epoch 1168: 100%|██████████| 890/890 [00:05<00:00, 170.08it/s]\n",
      "Training Epoch 1169: 100%|██████████| 890/890 [00:04<00:00, 187.37it/s]\n",
      "Training Epoch 1170: 100%|██████████| 890/890 [00:05<00:00, 174.63it/s]\n",
      "Training Epoch 1171: 100%|██████████| 890/890 [00:04<00:00, 181.74it/s]\n"
     ]
    },
    {
     "name": "stdout",
     "output_type": "stream",
     "text": [
      "Epoch 1170 - Train Loss: 0.0703, Train MSE: 0.0703, Train MAE: 0.2010\n",
      "Epoch 1170 - Validation Loss: 0.9159, Validation MSE: 0.9186, Validation MAE: 0.7320\n"
     ]
    },
    {
     "name": "stderr",
     "output_type": "stream",
     "text": [
      "Training Epoch 1172: 100%|██████████| 890/890 [00:04<00:00, 188.81it/s]\n",
      "Training Epoch 1173: 100%|██████████| 890/890 [00:04<00:00, 191.57it/s]\n",
      "Training Epoch 1174: 100%|██████████| 890/890 [00:04<00:00, 187.02it/s]\n",
      "Training Epoch 1175: 100%|██████████| 890/890 [00:05<00:00, 176.76it/s]\n",
      "Training Epoch 1176: 100%|██████████| 890/890 [00:04<00:00, 191.89it/s]\n",
      "Training Epoch 1177: 100%|██████████| 890/890 [00:04<00:00, 184.87it/s]\n",
      "Training Epoch 1178: 100%|██████████| 890/890 [00:04<00:00, 188.86it/s]\n",
      "Training Epoch 1179: 100%|██████████| 890/890 [00:04<00:00, 190.10it/s]\n",
      "Training Epoch 1180: 100%|██████████| 890/890 [00:04<00:00, 188.34it/s]\n",
      "Training Epoch 1181: 100%|██████████| 890/890 [00:04<00:00, 190.75it/s]\n"
     ]
    },
    {
     "name": "stdout",
     "output_type": "stream",
     "text": [
      "Epoch 1180 - Train Loss: 0.0708, Train MSE: 0.0709, Train MAE: 0.2009\n",
      "Epoch 1180 - Validation Loss: 0.9208, Validation MSE: 0.9235, Validation MAE: 0.7348\n"
     ]
    },
    {
     "name": "stderr",
     "output_type": "stream",
     "text": [
      "Training Epoch 1182: 100%|██████████| 890/890 [00:04<00:00, 188.01it/s]\n",
      "Training Epoch 1183: 100%|██████████| 890/890 [00:04<00:00, 187.56it/s]\n",
      "Training Epoch 1184: 100%|██████████| 890/890 [00:04<00:00, 180.04it/s]\n",
      "Training Epoch 1185: 100%|██████████| 890/890 [00:04<00:00, 191.57it/s]\n",
      "Training Epoch 1186: 100%|██████████| 890/890 [00:04<00:00, 188.71it/s]\n",
      "Training Epoch 1187: 100%|██████████| 890/890 [00:04<00:00, 179.47it/s]\n",
      "Training Epoch 1188: 100%|██████████| 890/890 [00:04<00:00, 182.36it/s]\n",
      "Training Epoch 1189: 100%|██████████| 890/890 [00:04<00:00, 190.23it/s]\n",
      "Training Epoch 1190: 100%|██████████| 890/890 [00:05<00:00, 174.60it/s]\n",
      "Training Epoch 1191: 100%|██████████| 890/890 [00:04<00:00, 188.21it/s]\n"
     ]
    },
    {
     "name": "stdout",
     "output_type": "stream",
     "text": [
      "Epoch 1190 - Train Loss: 0.0692, Train MSE: 0.0692, Train MAE: 0.1987\n",
      "Epoch 1190 - Validation Loss: 0.9166, Validation MSE: 0.9196, Validation MAE: 0.7321\n"
     ]
    },
    {
     "name": "stderr",
     "output_type": "stream",
     "text": [
      "Training Epoch 1192: 100%|██████████| 890/890 [00:04<00:00, 188.17it/s]\n",
      "Training Epoch 1193: 100%|██████████| 890/890 [00:04<00:00, 189.00it/s]\n",
      "Training Epoch 1194: 100%|██████████| 890/890 [00:04<00:00, 191.18it/s]\n",
      "Training Epoch 1195: 100%|██████████| 890/890 [00:04<00:00, 190.00it/s]\n",
      "Training Epoch 1196: 100%|██████████| 890/890 [00:04<00:00, 187.30it/s]\n",
      "Training Epoch 1197: 100%|██████████| 890/890 [00:04<00:00, 187.44it/s]\n",
      "Training Epoch 1198: 100%|██████████| 890/890 [00:05<00:00, 176.11it/s]\n",
      "Training Epoch 1199: 100%|██████████| 890/890 [00:04<00:00, 181.07it/s]\n",
      "Training Epoch 1200: 100%|██████████| 890/890 [00:04<00:00, 184.00it/s]\n",
      "Training Epoch 1201: 100%|██████████| 890/890 [00:04<00:00, 181.29it/s]\n"
     ]
    },
    {
     "name": "stdout",
     "output_type": "stream",
     "text": [
      "Epoch 1200 - Train Loss: 0.0703, Train MSE: 0.0702, Train MAE: 0.2005\n",
      "Epoch 1200 - Validation Loss: 0.9191, Validation MSE: 0.9216, Validation MAE: 0.7344\n"
     ]
    },
    {
     "name": "stderr",
     "output_type": "stream",
     "text": [
      "Training Epoch 1202: 100%|██████████| 890/890 [00:04<00:00, 183.40it/s]\n",
      "Training Epoch 1203: 100%|██████████| 890/890 [00:04<00:00, 178.61it/s]\n",
      "Training Epoch 1204: 100%|██████████| 890/890 [00:04<00:00, 186.84it/s]\n",
      "Training Epoch 1205: 100%|██████████| 890/890 [00:04<00:00, 185.58it/s]\n",
      "Training Epoch 1206: 100%|██████████| 890/890 [00:04<00:00, 184.39it/s]\n",
      "Training Epoch 1207: 100%|██████████| 890/890 [00:04<00:00, 188.76it/s]\n",
      "Training Epoch 1208: 100%|██████████| 890/890 [00:04<00:00, 187.44it/s]\n",
      "Training Epoch 1209: 100%|██████████| 890/890 [00:04<00:00, 187.08it/s]\n",
      "Training Epoch 1210: 100%|██████████| 890/890 [00:04<00:00, 184.70it/s]\n",
      "Training Epoch 1211: 100%|██████████| 890/890 [00:05<00:00, 171.84it/s]\n"
     ]
    },
    {
     "name": "stdout",
     "output_type": "stream",
     "text": [
      "Epoch 1210 - Train Loss: 0.0691, Train MSE: 0.0691, Train MAE: 0.1999\n",
      "Epoch 1210 - Validation Loss: 0.9254, Validation MSE: 0.9280, Validation MAE: 0.7341\n"
     ]
    },
    {
     "name": "stderr",
     "output_type": "stream",
     "text": [
      "Training Epoch 1212: 100%|██████████| 890/890 [00:04<00:00, 184.65it/s]\n",
      "Training Epoch 1213: 100%|██████████| 890/890 [00:04<00:00, 179.63it/s]\n",
      "Training Epoch 1214: 100%|██████████| 890/890 [00:04<00:00, 183.27it/s]\n",
      "Training Epoch 1215: 100%|██████████| 890/890 [00:04<00:00, 182.25it/s]\n",
      "Training Epoch 1216: 100%|██████████| 890/890 [00:04<00:00, 188.85it/s]\n",
      "Training Epoch 1217: 100%|██████████| 890/890 [00:04<00:00, 182.73it/s]\n",
      "Training Epoch 1218: 100%|██████████| 890/890 [00:04<00:00, 181.92it/s]\n",
      "Training Epoch 1219: 100%|██████████| 890/890 [00:04<00:00, 187.63it/s]\n",
      "Training Epoch 1220: 100%|██████████| 890/890 [00:04<00:00, 192.02it/s]\n",
      "Training Epoch 1221: 100%|██████████| 890/890 [00:04<00:00, 190.05it/s]\n"
     ]
    },
    {
     "name": "stdout",
     "output_type": "stream",
     "text": [
      "Epoch 1220 - Train Loss: 0.0686, Train MSE: 0.0687, Train MAE: 0.1976\n",
      "Epoch 1220 - Validation Loss: 0.9191, Validation MSE: 0.9221, Validation MAE: 0.7333\n"
     ]
    },
    {
     "name": "stderr",
     "output_type": "stream",
     "text": [
      "Training Epoch 1222: 100%|██████████| 890/890 [00:04<00:00, 191.49it/s]\n",
      "Training Epoch 1223: 100%|██████████| 890/890 [00:04<00:00, 187.17it/s]\n",
      "Training Epoch 1224: 100%|██████████| 890/890 [00:04<00:00, 184.26it/s]\n",
      "Training Epoch 1225: 100%|██████████| 890/890 [00:04<00:00, 185.96it/s]\n",
      "Training Epoch 1226: 100%|██████████| 890/890 [00:04<00:00, 188.44it/s]\n",
      "Training Epoch 1227: 100%|██████████| 890/890 [00:04<00:00, 189.14it/s]\n",
      "Training Epoch 1228: 100%|██████████| 890/890 [00:04<00:00, 190.91it/s]\n",
      "Training Epoch 1229: 100%|██████████| 890/890 [00:04<00:00, 187.18it/s]\n",
      "Training Epoch 1230: 100%|██████████| 890/890 [00:04<00:00, 187.68it/s]\n",
      "Training Epoch 1231: 100%|██████████| 890/890 [00:04<00:00, 187.68it/s]\n"
     ]
    },
    {
     "name": "stdout",
     "output_type": "stream",
     "text": [
      "Epoch 1230 - Train Loss: 0.0699, Train MSE: 0.0699, Train MAE: 0.2001\n",
      "Epoch 1230 - Validation Loss: 0.9157, Validation MSE: 0.9185, Validation MAE: 0.7316\n"
     ]
    },
    {
     "name": "stderr",
     "output_type": "stream",
     "text": [
      "Training Epoch 1232: 100%|██████████| 890/890 [00:04<00:00, 193.94it/s]\n",
      "Training Epoch 1233: 100%|██████████| 890/890 [00:04<00:00, 186.19it/s]\n",
      "Training Epoch 1234: 100%|██████████| 890/890 [00:04<00:00, 190.60it/s]\n",
      "Training Epoch 1235: 100%|██████████| 890/890 [00:04<00:00, 187.62it/s]\n",
      "Training Epoch 1236: 100%|██████████| 890/890 [00:04<00:00, 186.49it/s]\n",
      "Training Epoch 1237: 100%|██████████| 890/890 [00:04<00:00, 190.14it/s]\n",
      "Training Epoch 1238: 100%|██████████| 890/890 [00:04<00:00, 190.47it/s]\n",
      "Training Epoch 1239: 100%|██████████| 890/890 [00:05<00:00, 177.26it/s]\n",
      "Training Epoch 1240: 100%|██████████| 890/890 [00:04<00:00, 192.18it/s]\n",
      "Training Epoch 1241: 100%|██████████| 890/890 [00:04<00:00, 196.90it/s]\n"
     ]
    },
    {
     "name": "stdout",
     "output_type": "stream",
     "text": [
      "Epoch 1240 - Train Loss: 0.0685, Train MSE: 0.0686, Train MAE: 0.1989\n",
      "Epoch 1240 - Validation Loss: 0.9133, Validation MSE: 0.9160, Validation MAE: 0.7320\n"
     ]
    },
    {
     "name": "stderr",
     "output_type": "stream",
     "text": [
      "Training Epoch 1242: 100%|██████████| 890/890 [00:04<00:00, 188.08it/s]\n",
      "Training Epoch 1243: 100%|██████████| 890/890 [00:04<00:00, 183.44it/s]\n",
      "Training Epoch 1244: 100%|██████████| 890/890 [00:04<00:00, 188.28it/s]\n",
      "Training Epoch 1245: 100%|██████████| 890/890 [00:04<00:00, 187.66it/s]\n",
      "Training Epoch 1246: 100%|██████████| 890/890 [00:04<00:00, 190.91it/s]\n",
      "Training Epoch 1247: 100%|██████████| 890/890 [00:04<00:00, 192.63it/s]\n",
      "Training Epoch 1248: 100%|██████████| 890/890 [00:04<00:00, 190.62it/s]\n",
      "Training Epoch 1249: 100%|██████████| 890/890 [00:04<00:00, 190.01it/s]\n",
      "Training Epoch 1250: 100%|██████████| 890/890 [00:04<00:00, 190.72it/s]\n",
      "Training Epoch 1251: 100%|██████████| 890/890 [00:04<00:00, 188.00it/s]\n"
     ]
    },
    {
     "name": "stdout",
     "output_type": "stream",
     "text": [
      "Epoch 1250 - Train Loss: 0.0683, Train MSE: 0.0683, Train MAE: 0.1983\n",
      "Epoch 1250 - Validation Loss: 0.9262, Validation MSE: 0.9286, Validation MAE: 0.7367\n"
     ]
    },
    {
     "name": "stderr",
     "output_type": "stream",
     "text": [
      "Training Epoch 1252: 100%|██████████| 890/890 [00:04<00:00, 191.18it/s]\n",
      "Training Epoch 1253: 100%|██████████| 890/890 [00:04<00:00, 195.01it/s]\n",
      "Training Epoch 1254: 100%|██████████| 890/890 [00:04<00:00, 192.57it/s]\n",
      "Training Epoch 1255: 100%|██████████| 890/890 [00:04<00:00, 192.25it/s]\n",
      "Training Epoch 1256: 100%|██████████| 890/890 [00:04<00:00, 189.43it/s]\n",
      "Training Epoch 1257: 100%|██████████| 890/890 [00:04<00:00, 192.33it/s]\n",
      "Training Epoch 1258: 100%|██████████| 890/890 [00:04<00:00, 188.22it/s]\n",
      "Training Epoch 1259: 100%|██████████| 890/890 [00:04<00:00, 193.90it/s]\n",
      "Training Epoch 1260: 100%|██████████| 890/890 [00:04<00:00, 192.80it/s]\n",
      "Training Epoch 1261: 100%|██████████| 890/890 [00:04<00:00, 187.94it/s]\n"
     ]
    },
    {
     "name": "stdout",
     "output_type": "stream",
     "text": [
      "Epoch 1260 - Train Loss: 0.0686, Train MSE: 0.0686, Train MAE: 0.1973\n",
      "Epoch 1260 - Validation Loss: 0.9224, Validation MSE: 0.9248, Validation MAE: 0.7334\n"
     ]
    },
    {
     "name": "stderr",
     "output_type": "stream",
     "text": [
      "Training Epoch 1262: 100%|██████████| 890/890 [00:04<00:00, 191.90it/s]\n",
      "Training Epoch 1263: 100%|██████████| 890/890 [00:04<00:00, 187.90it/s]\n",
      "Training Epoch 1264: 100%|██████████| 890/890 [00:04<00:00, 190.60it/s]\n",
      "Training Epoch 1265: 100%|██████████| 890/890 [00:04<00:00, 192.52it/s]\n",
      "Training Epoch 1266: 100%|██████████| 890/890 [00:04<00:00, 193.44it/s]\n",
      "Training Epoch 1267: 100%|██████████| 890/890 [00:04<00:00, 183.22it/s]\n",
      "Training Epoch 1268: 100%|██████████| 890/890 [00:04<00:00, 186.97it/s]\n",
      "Training Epoch 1269: 100%|██████████| 890/890 [00:04<00:00, 192.13it/s]\n",
      "Training Epoch 1270: 100%|██████████| 890/890 [00:04<00:00, 189.51it/s]\n",
      "Training Epoch 1271: 100%|██████████| 890/890 [00:04<00:00, 186.68it/s]\n"
     ]
    },
    {
     "name": "stdout",
     "output_type": "stream",
     "text": [
      "Epoch 1270 - Train Loss: 0.0689, Train MSE: 0.0686, Train MAE: 0.1981\n",
      "Epoch 1270 - Validation Loss: 0.9202, Validation MSE: 0.9229, Validation MAE: 0.7316\n"
     ]
    },
    {
     "name": "stderr",
     "output_type": "stream",
     "text": [
      "Training Epoch 1272: 100%|██████████| 890/890 [00:04<00:00, 194.10it/s]\n",
      "Training Epoch 1273: 100%|██████████| 890/890 [00:04<00:00, 194.51it/s]\n",
      "Training Epoch 1274: 100%|██████████| 890/890 [00:04<00:00, 186.27it/s]\n",
      "Training Epoch 1275: 100%|██████████| 890/890 [00:04<00:00, 186.85it/s]\n",
      "Training Epoch 1276: 100%|██████████| 890/890 [00:04<00:00, 188.47it/s]\n",
      "Training Epoch 1277: 100%|██████████| 890/890 [00:04<00:00, 187.12it/s]\n",
      "Training Epoch 1278: 100%|██████████| 890/890 [00:04<00:00, 190.32it/s]\n",
      "Training Epoch 1279: 100%|██████████| 890/890 [00:04<00:00, 195.36it/s]\n",
      "Training Epoch 1280: 100%|██████████| 890/890 [00:04<00:00, 194.67it/s]\n",
      "Training Epoch 1281: 100%|██████████| 890/890 [00:04<00:00, 191.03it/s]\n"
     ]
    },
    {
     "name": "stdout",
     "output_type": "stream",
     "text": [
      "Epoch 1280 - Train Loss: 0.0672, Train MSE: 0.0672, Train MAE: 0.1964\n",
      "Epoch 1280 - Validation Loss: 0.9170, Validation MSE: 0.9194, Validation MAE: 0.7304\n"
     ]
    },
    {
     "name": "stderr",
     "output_type": "stream",
     "text": [
      "Training Epoch 1282: 100%|██████████| 890/890 [00:04<00:00, 189.53it/s]\n",
      "Training Epoch 1283: 100%|██████████| 890/890 [00:04<00:00, 184.29it/s]\n",
      "Training Epoch 1284: 100%|██████████| 890/890 [00:04<00:00, 193.13it/s]\n",
      "Training Epoch 1285: 100%|██████████| 890/890 [00:04<00:00, 198.57it/s]\n",
      "Training Epoch 1286: 100%|██████████| 890/890 [00:04<00:00, 190.78it/s]\n",
      "Training Epoch 1287: 100%|██████████| 890/890 [00:04<00:00, 195.42it/s]\n",
      "Training Epoch 1288: 100%|██████████| 890/890 [00:04<00:00, 189.70it/s]\n",
      "Training Epoch 1289: 100%|██████████| 890/890 [00:04<00:00, 189.55it/s]\n",
      "Training Epoch 1290: 100%|██████████| 890/890 [00:04<00:00, 190.27it/s]\n",
      "Training Epoch 1291: 100%|██████████| 890/890 [00:04<00:00, 193.53it/s]\n"
     ]
    },
    {
     "name": "stdout",
     "output_type": "stream",
     "text": [
      "Epoch 1290 - Train Loss: 0.0674, Train MSE: 0.0675, Train MAE: 0.1957\n",
      "Epoch 1290 - Validation Loss: 0.9180, Validation MSE: 0.9209, Validation MAE: 0.7304\n"
     ]
    },
    {
     "name": "stderr",
     "output_type": "stream",
     "text": [
      "Training Epoch 1292: 100%|██████████| 890/890 [00:04<00:00, 192.38it/s]\n",
      "Training Epoch 1293: 100%|██████████| 890/890 [00:04<00:00, 189.93it/s]\n",
      "Training Epoch 1294: 100%|██████████| 890/890 [00:04<00:00, 190.79it/s]\n",
      "Training Epoch 1295: 100%|██████████| 890/890 [00:04<00:00, 190.68it/s]\n",
      "Training Epoch 1296: 100%|██████████| 890/890 [00:04<00:00, 187.32it/s]\n",
      "Training Epoch 1297: 100%|██████████| 890/890 [00:04<00:00, 188.56it/s]\n",
      "Training Epoch 1298: 100%|██████████| 890/890 [00:04<00:00, 185.79it/s]\n",
      "Training Epoch 1299: 100%|██████████| 890/890 [00:04<00:00, 190.78it/s]\n",
      "Training Epoch 1300: 100%|██████████| 890/890 [00:04<00:00, 192.02it/s]\n",
      "Training Epoch 1301: 100%|██████████| 890/890 [00:04<00:00, 190.41it/s]\n"
     ]
    },
    {
     "name": "stdout",
     "output_type": "stream",
     "text": [
      "Epoch 1300 - Train Loss: 0.0671, Train MSE: 0.0671, Train MAE: 0.1965\n",
      "Epoch 1300 - Validation Loss: 0.9197, Validation MSE: 0.9217, Validation MAE: 0.7304\n"
     ]
    },
    {
     "name": "stderr",
     "output_type": "stream",
     "text": [
      "Training Epoch 1302: 100%|██████████| 890/890 [00:04<00:00, 189.90it/s]\n",
      "Training Epoch 1303: 100%|██████████| 890/890 [00:04<00:00, 197.39it/s]\n",
      "Training Epoch 1304: 100%|██████████| 890/890 [00:04<00:00, 198.23it/s]\n",
      "Training Epoch 1305: 100%|██████████| 890/890 [00:04<00:00, 190.35it/s]\n",
      "Training Epoch 1306: 100%|██████████| 890/890 [00:04<00:00, 187.90it/s]\n",
      "Training Epoch 1307: 100%|██████████| 890/890 [00:04<00:00, 191.02it/s]\n",
      "Training Epoch 1308: 100%|██████████| 890/890 [00:04<00:00, 188.24it/s]\n",
      "Training Epoch 1309: 100%|██████████| 890/890 [00:04<00:00, 187.32it/s]\n",
      "Training Epoch 1310: 100%|██████████| 890/890 [00:04<00:00, 193.02it/s]\n",
      "Training Epoch 1311: 100%|██████████| 890/890 [00:04<00:00, 192.30it/s]\n"
     ]
    },
    {
     "name": "stdout",
     "output_type": "stream",
     "text": [
      "Epoch 1310 - Train Loss: 0.0671, Train MSE: 0.0671, Train MAE: 0.1952\n",
      "Epoch 1310 - Validation Loss: 0.9170, Validation MSE: 0.9197, Validation MAE: 0.7309\n"
     ]
    },
    {
     "name": "stderr",
     "output_type": "stream",
     "text": [
      "Training Epoch 1312: 100%|██████████| 890/890 [00:04<00:00, 189.09it/s]\n",
      "Training Epoch 1313: 100%|██████████| 890/890 [00:04<00:00, 190.87it/s]\n",
      "Training Epoch 1314: 100%|██████████| 890/890 [00:04<00:00, 191.79it/s]\n",
      "Training Epoch 1315: 100%|██████████| 890/890 [00:04<00:00, 190.30it/s]\n",
      "Training Epoch 1316: 100%|██████████| 890/890 [00:04<00:00, 191.54it/s]\n",
      "Training Epoch 1317: 100%|██████████| 890/890 [00:04<00:00, 197.38it/s]\n",
      "Training Epoch 1318: 100%|██████████| 890/890 [00:04<00:00, 193.34it/s]\n",
      "Training Epoch 1319: 100%|██████████| 890/890 [00:04<00:00, 183.01it/s]\n",
      "Training Epoch 1320: 100%|██████████| 890/890 [00:04<00:00, 185.87it/s]\n",
      "Training Epoch 1321: 100%|██████████| 890/890 [00:04<00:00, 192.24it/s]\n"
     ]
    },
    {
     "name": "stdout",
     "output_type": "stream",
     "text": [
      "Epoch 1320 - Train Loss: 0.0668, Train MSE: 0.0669, Train MAE: 0.1959\n",
      "Epoch 1320 - Validation Loss: 0.9095, Validation MSE: 0.9123, Validation MAE: 0.7290\n"
     ]
    },
    {
     "name": "stderr",
     "output_type": "stream",
     "text": [
      "Training Epoch 1322: 100%|██████████| 890/890 [00:04<00:00, 187.72it/s]\n",
      "Training Epoch 1323: 100%|██████████| 890/890 [00:04<00:00, 197.79it/s]\n",
      "Training Epoch 1324: 100%|██████████| 890/890 [00:04<00:00, 189.46it/s]\n",
      "Training Epoch 1325: 100%|██████████| 890/890 [00:04<00:00, 189.09it/s]\n",
      "Training Epoch 1326: 100%|██████████| 890/890 [00:04<00:00, 190.02it/s]\n",
      "Training Epoch 1327: 100%|██████████| 890/890 [00:04<00:00, 194.30it/s]\n",
      "Training Epoch 1328: 100%|██████████| 890/890 [00:04<00:00, 195.32it/s]\n",
      "Training Epoch 1329: 100%|██████████| 890/890 [00:04<00:00, 195.74it/s]\n",
      "Training Epoch 1330: 100%|██████████| 890/890 [00:04<00:00, 196.07it/s]\n",
      "Training Epoch 1331: 100%|██████████| 890/890 [00:04<00:00, 191.42it/s]\n"
     ]
    },
    {
     "name": "stdout",
     "output_type": "stream",
     "text": [
      "Epoch 1330 - Train Loss: 0.0678, Train MSE: 0.0679, Train MAE: 0.1968\n",
      "Epoch 1330 - Validation Loss: 0.9071, Validation MSE: 0.9097, Validation MAE: 0.7269\n"
     ]
    },
    {
     "name": "stderr",
     "output_type": "stream",
     "text": [
      "Training Epoch 1332: 100%|██████████| 890/890 [00:04<00:00, 183.68it/s]\n",
      "Training Epoch 1333: 100%|██████████| 890/890 [00:04<00:00, 191.70it/s]\n",
      "Training Epoch 1334: 100%|██████████| 890/890 [00:04<00:00, 191.14it/s]\n",
      "Training Epoch 1335: 100%|██████████| 890/890 [00:04<00:00, 189.25it/s]\n",
      "Training Epoch 1336: 100%|██████████| 890/890 [00:04<00:00, 196.87it/s]\n",
      "Training Epoch 1337: 100%|██████████| 890/890 [00:04<00:00, 190.92it/s]\n",
      "Training Epoch 1338: 100%|██████████| 890/890 [00:04<00:00, 190.71it/s]\n",
      "Training Epoch 1339: 100%|██████████| 890/890 [00:04<00:00, 191.05it/s]\n",
      "Training Epoch 1340: 100%|██████████| 890/890 [00:04<00:00, 189.80it/s]\n",
      "Training Epoch 1341: 100%|██████████| 890/890 [00:04<00:00, 188.56it/s]\n"
     ]
    },
    {
     "name": "stdout",
     "output_type": "stream",
     "text": [
      "Epoch 1340 - Train Loss: 0.0669, Train MSE: 0.0669, Train MAE: 0.1950\n",
      "Epoch 1340 - Validation Loss: 0.9200, Validation MSE: 0.9224, Validation MAE: 0.7305\n"
     ]
    },
    {
     "name": "stderr",
     "output_type": "stream",
     "text": [
      "Training Epoch 1342: 100%|██████████| 890/890 [00:04<00:00, 199.81it/s]\n",
      "Training Epoch 1343: 100%|██████████| 890/890 [00:04<00:00, 192.61it/s]\n",
      "Training Epoch 1344: 100%|██████████| 890/890 [00:04<00:00, 194.66it/s]\n",
      "Training Epoch 1345: 100%|██████████| 890/890 [00:04<00:00, 189.71it/s]\n",
      "Training Epoch 1346: 100%|██████████| 890/890 [00:04<00:00, 192.64it/s]\n",
      "Training Epoch 1347: 100%|██████████| 890/890 [00:04<00:00, 192.44it/s]\n",
      "Training Epoch 1348: 100%|██████████| 890/890 [00:04<00:00, 193.40it/s]\n",
      "Training Epoch 1349: 100%|██████████| 890/890 [00:04<00:00, 195.41it/s]\n",
      "Training Epoch 1350: 100%|██████████| 890/890 [00:04<00:00, 193.74it/s]\n",
      "Training Epoch 1351: 100%|██████████| 890/890 [00:04<00:00, 190.25it/s]\n"
     ]
    },
    {
     "name": "stdout",
     "output_type": "stream",
     "text": [
      "Epoch 1350 - Train Loss: 0.0653, Train MSE: 0.0654, Train MAE: 0.1945\n",
      "Epoch 1350 - Validation Loss: 0.9089, Validation MSE: 0.9118, Validation MAE: 0.7275\n"
     ]
    },
    {
     "name": "stderr",
     "output_type": "stream",
     "text": [
      "Training Epoch 1352: 100%|██████████| 890/890 [00:04<00:00, 191.55it/s]\n",
      "Training Epoch 1353: 100%|██████████| 890/890 [00:04<00:00, 192.25it/s]\n",
      "Training Epoch 1354: 100%|██████████| 890/890 [00:04<00:00, 190.87it/s]\n",
      "Training Epoch 1355: 100%|██████████| 890/890 [00:04<00:00, 198.51it/s]\n",
      "Training Epoch 1356: 100%|██████████| 890/890 [00:04<00:00, 190.36it/s]\n",
      "Training Epoch 1357: 100%|██████████| 890/890 [00:04<00:00, 189.63it/s]\n",
      "Training Epoch 1358: 100%|██████████| 890/890 [00:04<00:00, 190.28it/s]\n",
      "Training Epoch 1359: 100%|██████████| 890/890 [00:04<00:00, 191.85it/s]\n",
      "Training Epoch 1360: 100%|██████████| 890/890 [00:04<00:00, 192.73it/s]\n",
      "Training Epoch 1361: 100%|██████████| 890/890 [00:04<00:00, 194.38it/s]\n"
     ]
    },
    {
     "name": "stdout",
     "output_type": "stream",
     "text": [
      "Epoch 1360 - Train Loss: 0.0649, Train MSE: 0.0649, Train MAE: 0.1933\n",
      "Epoch 1360 - Validation Loss: 0.9044, Validation MSE: 0.9071, Validation MAE: 0.7261\n"
     ]
    },
    {
     "name": "stderr",
     "output_type": "stream",
     "text": [
      "Training Epoch 1362: 100%|██████████| 890/890 [00:04<00:00, 194.17it/s]\n",
      "Training Epoch 1363: 100%|██████████| 890/890 [00:04<00:00, 193.74it/s]\n",
      "Training Epoch 1364: 100%|██████████| 890/890 [00:04<00:00, 192.35it/s]\n",
      "Training Epoch 1365: 100%|██████████| 890/890 [00:04<00:00, 193.11it/s]\n",
      "Training Epoch 1366: 100%|██████████| 890/890 [00:04<00:00, 190.58it/s]\n",
      "Training Epoch 1367: 100%|██████████| 890/890 [00:04<00:00, 193.53it/s]\n",
      "Training Epoch 1368: 100%|██████████| 890/890 [00:04<00:00, 196.31it/s]\n",
      "Training Epoch 1369: 100%|██████████| 890/890 [00:04<00:00, 188.32it/s]\n",
      "Training Epoch 1370: 100%|██████████| 890/890 [00:04<00:00, 189.62it/s]\n",
      "Training Epoch 1371: 100%|██████████| 890/890 [00:04<00:00, 192.11it/s]\n"
     ]
    },
    {
     "name": "stdout",
     "output_type": "stream",
     "text": [
      "Epoch 1370 - Train Loss: 0.0656, Train MSE: 0.0656, Train MAE: 0.1944\n",
      "Epoch 1370 - Validation Loss: 0.9225, Validation MSE: 0.9253, Validation MAE: 0.7330\n"
     ]
    },
    {
     "name": "stderr",
     "output_type": "stream",
     "text": [
      "Training Epoch 1372: 100%|██████████| 890/890 [00:04<00:00, 191.39it/s]\n",
      "Training Epoch 1373: 100%|██████████| 890/890 [00:06<00:00, 146.52it/s]\n",
      "Training Epoch 1374: 100%|██████████| 890/890 [00:04<00:00, 194.94it/s]\n",
      "Training Epoch 1375: 100%|██████████| 890/890 [00:04<00:00, 192.09it/s]\n",
      "Training Epoch 1376: 100%|██████████| 890/890 [00:04<00:00, 191.08it/s]\n",
      "Training Epoch 1377: 100%|██████████| 890/890 [00:04<00:00, 183.96it/s]\n",
      "Training Epoch 1378: 100%|██████████| 890/890 [00:04<00:00, 192.13it/s]\n",
      "Training Epoch 1379: 100%|██████████| 890/890 [00:04<00:00, 192.25it/s]\n",
      "Training Epoch 1380: 100%|██████████| 890/890 [00:04<00:00, 195.19it/s]\n",
      "Training Epoch 1381: 100%|██████████| 890/890 [00:04<00:00, 188.06it/s]\n"
     ]
    },
    {
     "name": "stdout",
     "output_type": "stream",
     "text": [
      "Epoch 1380 - Train Loss: 0.0660, Train MSE: 0.0660, Train MAE: 0.1939\n",
      "Epoch 1380 - Validation Loss: 0.9165, Validation MSE: 0.9189, Validation MAE: 0.7310\n"
     ]
    },
    {
     "name": "stderr",
     "output_type": "stream",
     "text": [
      "Training Epoch 1382: 100%|██████████| 890/890 [00:04<00:00, 190.49it/s]\n",
      "Training Epoch 1383: 100%|██████████| 890/890 [00:04<00:00, 193.45it/s]\n",
      "Training Epoch 1384: 100%|██████████| 890/890 [00:04<00:00, 195.39it/s]\n",
      "Training Epoch 1385: 100%|██████████| 890/890 [00:04<00:00, 196.68it/s]\n",
      "Training Epoch 1386: 100%|██████████| 890/890 [00:04<00:00, 193.73it/s]\n",
      "Training Epoch 1387: 100%|██████████| 890/890 [00:04<00:00, 199.68it/s]\n",
      "Training Epoch 1388: 100%|██████████| 890/890 [00:04<00:00, 192.48it/s]\n",
      "Training Epoch 1389: 100%|██████████| 890/890 [00:04<00:00, 193.03it/s]\n",
      "Training Epoch 1390: 100%|██████████| 890/890 [00:04<00:00, 193.31it/s]\n",
      "Training Epoch 1391: 100%|██████████| 890/890 [00:04<00:00, 192.64it/s]\n"
     ]
    },
    {
     "name": "stdout",
     "output_type": "stream",
     "text": [
      "Epoch 1390 - Train Loss: 0.0669, Train MSE: 0.0670, Train MAE: 0.1945\n",
      "Epoch 1390 - Validation Loss: 0.9135, Validation MSE: 0.9162, Validation MAE: 0.7323\n"
     ]
    },
    {
     "name": "stderr",
     "output_type": "stream",
     "text": [
      "Training Epoch 1392: 100%|██████████| 890/890 [00:04<00:00, 190.35it/s]\n",
      "Training Epoch 1393: 100%|██████████| 890/890 [00:04<00:00, 192.59it/s]\n",
      "Training Epoch 1394: 100%|██████████| 890/890 [00:04<00:00, 192.38it/s]\n",
      "Training Epoch 1395: 100%|██████████| 890/890 [00:04<00:00, 192.77it/s]\n",
      "Training Epoch 1396: 100%|██████████| 890/890 [00:04<00:00, 190.80it/s]\n",
      "Training Epoch 1397: 100%|██████████| 890/890 [00:04<00:00, 190.55it/s]\n",
      "Training Epoch 1398: 100%|██████████| 890/890 [00:04<00:00, 190.37it/s]\n",
      "Training Epoch 1399: 100%|██████████| 890/890 [00:04<00:00, 195.92it/s]\n",
      "Training Epoch 1400: 100%|██████████| 890/890 [00:04<00:00, 193.12it/s]\n",
      "Training Epoch 1401: 100%|██████████| 890/890 [00:04<00:00, 193.12it/s]\n"
     ]
    },
    {
     "name": "stdout",
     "output_type": "stream",
     "text": [
      "Epoch 1400 - Train Loss: 0.0642, Train MSE: 0.0643, Train MAE: 0.1926\n",
      "Epoch 1400 - Validation Loss: 0.9140, Validation MSE: 0.9162, Validation MAE: 0.7303\n"
     ]
    },
    {
     "name": "stderr",
     "output_type": "stream",
     "text": [
      "Training Epoch 1402: 100%|██████████| 890/890 [00:04<00:00, 192.70it/s]\n",
      "Training Epoch 1403: 100%|██████████| 890/890 [00:04<00:00, 189.84it/s]\n",
      "Training Epoch 1404: 100%|██████████| 890/890 [00:04<00:00, 192.04it/s]\n",
      "Training Epoch 1405: 100%|██████████| 890/890 [00:04<00:00, 192.09it/s]\n",
      "Training Epoch 1406: 100%|██████████| 890/890 [00:04<00:00, 193.86it/s]\n",
      "Training Epoch 1407: 100%|██████████| 890/890 [00:04<00:00, 188.42it/s]\n",
      "Training Epoch 1408: 100%|██████████| 890/890 [00:04<00:00, 188.43it/s]\n",
      "Training Epoch 1409: 100%|██████████| 890/890 [00:04<00:00, 190.74it/s]\n",
      "Training Epoch 1410: 100%|██████████| 890/890 [00:04<00:00, 189.63it/s]\n",
      "Training Epoch 1411: 100%|██████████| 890/890 [00:04<00:00, 194.39it/s]\n"
     ]
    },
    {
     "name": "stdout",
     "output_type": "stream",
     "text": [
      "Epoch 1410 - Train Loss: 0.0654, Train MSE: 0.0654, Train MAE: 0.1927\n",
      "Epoch 1410 - Validation Loss: 0.9126, Validation MSE: 0.9158, Validation MAE: 0.7314\n"
     ]
    },
    {
     "name": "stderr",
     "output_type": "stream",
     "text": [
      "Training Epoch 1412: 100%|██████████| 890/890 [00:04<00:00, 197.47it/s]\n",
      "Training Epoch 1413: 100%|██████████| 890/890 [00:04<00:00, 192.59it/s]\n",
      "Training Epoch 1414: 100%|██████████| 890/890 [00:04<00:00, 190.34it/s]\n",
      "Training Epoch 1415: 100%|██████████| 890/890 [00:04<00:00, 190.43it/s]\n",
      "Training Epoch 1416: 100%|██████████| 890/890 [00:04<00:00, 188.34it/s]\n",
      "Training Epoch 1417: 100%|██████████| 890/890 [00:04<00:00, 190.79it/s]\n",
      "Training Epoch 1418: 100%|██████████| 890/890 [00:04<00:00, 191.48it/s]\n",
      "Training Epoch 1419: 100%|██████████| 890/890 [00:04<00:00, 193.12it/s]\n",
      "Training Epoch 1420: 100%|██████████| 890/890 [00:04<00:00, 193.78it/s]\n",
      "Training Epoch 1421: 100%|██████████| 890/890 [00:04<00:00, 191.84it/s]\n"
     ]
    },
    {
     "name": "stdout",
     "output_type": "stream",
     "text": [
      "Epoch 1420 - Train Loss: 0.0657, Train MSE: 0.0657, Train MAE: 0.1924\n",
      "Epoch 1420 - Validation Loss: 0.9159, Validation MSE: 0.9193, Validation MAE: 0.7309\n"
     ]
    },
    {
     "name": "stderr",
     "output_type": "stream",
     "text": [
      "Training Epoch 1422: 100%|██████████| 890/890 [00:04<00:00, 187.88it/s]\n",
      "Training Epoch 1423: 100%|██████████| 890/890 [00:04<00:00, 191.71it/s]\n",
      "Training Epoch 1424: 100%|██████████| 890/890 [00:04<00:00, 194.33it/s]\n",
      "Training Epoch 1425: 100%|██████████| 890/890 [00:04<00:00, 196.90it/s]\n",
      "Training Epoch 1426: 100%|██████████| 890/890 [00:04<00:00, 192.00it/s]\n",
      "Training Epoch 1427: 100%|██████████| 890/890 [00:04<00:00, 191.76it/s]\n",
      "Training Epoch 1428: 100%|██████████| 890/890 [00:04<00:00, 192.71it/s]\n",
      "Training Epoch 1429: 100%|██████████| 890/890 [00:04<00:00, 191.61it/s]\n",
      "Training Epoch 1430: 100%|██████████| 890/890 [00:04<00:00, 187.67it/s]\n",
      "Training Epoch 1431: 100%|██████████| 890/890 [00:04<00:00, 199.64it/s]\n"
     ]
    },
    {
     "name": "stdout",
     "output_type": "stream",
     "text": [
      "Epoch 1430 - Train Loss: 0.0646, Train MSE: 0.0646, Train MAE: 0.1920\n",
      "Epoch 1430 - Validation Loss: 0.9128, Validation MSE: 0.9162, Validation MAE: 0.7304\n"
     ]
    },
    {
     "name": "stderr",
     "output_type": "stream",
     "text": [
      "Training Epoch 1432: 100%|██████████| 890/890 [00:04<00:00, 192.28it/s]\n",
      "Training Epoch 1433: 100%|██████████| 890/890 [00:04<00:00, 189.63it/s]\n",
      "Training Epoch 1434: 100%|██████████| 890/890 [00:04<00:00, 191.86it/s]\n",
      "Training Epoch 1435: 100%|██████████| 890/890 [00:04<00:00, 192.40it/s]\n",
      "Training Epoch 1436: 100%|██████████| 890/890 [00:04<00:00, 194.54it/s]\n",
      "Training Epoch 1437: 100%|██████████| 890/890 [00:04<00:00, 197.38it/s]\n",
      "Training Epoch 1438: 100%|██████████| 890/890 [00:04<00:00, 195.39it/s]\n",
      "Training Epoch 1439: 100%|██████████| 890/890 [00:04<00:00, 188.88it/s]\n",
      "Training Epoch 1440: 100%|██████████| 890/890 [00:04<00:00, 195.30it/s]\n",
      "Training Epoch 1441: 100%|██████████| 890/890 [00:04<00:00, 192.20it/s]\n"
     ]
    },
    {
     "name": "stdout",
     "output_type": "stream",
     "text": [
      "Epoch 1440 - Train Loss: 0.0644, Train MSE: 0.0645, Train MAE: 0.1924\n",
      "Epoch 1440 - Validation Loss: 0.9205, Validation MSE: 0.9230, Validation MAE: 0.7323\n"
     ]
    },
    {
     "name": "stderr",
     "output_type": "stream",
     "text": [
      "Training Epoch 1442: 100%|██████████| 890/890 [00:04<00:00, 187.34it/s]\n",
      "Training Epoch 1443: 100%|██████████| 890/890 [00:04<00:00, 188.54it/s]\n",
      "Training Epoch 1444: 100%|██████████| 890/890 [00:04<00:00, 195.17it/s]\n",
      "Training Epoch 1445: 100%|██████████| 890/890 [00:04<00:00, 190.23it/s]\n",
      "Training Epoch 1446: 100%|██████████| 890/890 [00:04<00:00, 187.80it/s]\n",
      "Training Epoch 1447: 100%|██████████| 890/890 [00:04<00:00, 187.28it/s]\n",
      "Training Epoch 1448: 100%|██████████| 890/890 [00:04<00:00, 191.02it/s]\n",
      "Training Epoch 1449: 100%|██████████| 890/890 [00:04<00:00, 189.91it/s]\n",
      "Training Epoch 1450: 100%|██████████| 890/890 [00:04<00:00, 195.48it/s]\n",
      "Training Epoch 1451: 100%|██████████| 890/890 [00:04<00:00, 187.83it/s]\n"
     ]
    },
    {
     "name": "stdout",
     "output_type": "stream",
     "text": [
      "Epoch 1450 - Train Loss: 0.0641, Train MSE: 0.0642, Train MAE: 0.1916\n",
      "Epoch 1450 - Validation Loss: 0.9131, Validation MSE: 0.9151, Validation MAE: 0.7312\n"
     ]
    },
    {
     "name": "stderr",
     "output_type": "stream",
     "text": [
      "Training Epoch 1452: 100%|██████████| 890/890 [00:04<00:00, 184.08it/s]\n",
      "Training Epoch 1453: 100%|██████████| 890/890 [00:04<00:00, 184.50it/s]\n",
      "Training Epoch 1454: 100%|██████████| 890/890 [00:04<00:00, 185.26it/s]\n",
      "Training Epoch 1455: 100%|██████████| 890/890 [00:04<00:00, 182.26it/s]\n",
      "Training Epoch 1456: 100%|██████████| 890/890 [00:04<00:00, 196.04it/s]\n",
      "Training Epoch 1457: 100%|██████████| 890/890 [00:04<00:00, 192.47it/s]\n",
      "Training Epoch 1458: 100%|██████████| 890/890 [00:04<00:00, 188.37it/s]\n",
      "Training Epoch 1459: 100%|██████████| 890/890 [00:04<00:00, 187.99it/s]\n",
      "Training Epoch 1460: 100%|██████████| 890/890 [00:04<00:00, 191.19it/s]\n",
      "Training Epoch 1461: 100%|██████████| 890/890 [00:04<00:00, 188.98it/s]\n"
     ]
    },
    {
     "name": "stdout",
     "output_type": "stream",
     "text": [
      "Epoch 1460 - Train Loss: 0.0628, Train MSE: 0.0628, Train MAE: 0.1899\n",
      "Epoch 1460 - Validation Loss: 0.9094, Validation MSE: 0.9123, Validation MAE: 0.7279\n"
     ]
    },
    {
     "name": "stderr",
     "output_type": "stream",
     "text": [
      "Training Epoch 1462: 100%|██████████| 890/890 [00:04<00:00, 188.15it/s]\n",
      "Training Epoch 1463: 100%|██████████| 890/890 [00:04<00:00, 194.28it/s]\n",
      "Training Epoch 1464: 100%|██████████| 890/890 [00:04<00:00, 188.93it/s]\n",
      "Training Epoch 1465: 100%|██████████| 890/890 [00:04<00:00, 188.87it/s]\n",
      "Training Epoch 1466: 100%|██████████| 890/890 [00:04<00:00, 187.27it/s]\n",
      "Training Epoch 1467: 100%|██████████| 890/890 [00:04<00:00, 188.86it/s]\n",
      "Training Epoch 1468: 100%|██████████| 890/890 [00:04<00:00, 191.23it/s]\n",
      "Training Epoch 1469: 100%|██████████| 890/890 [00:04<00:00, 194.79it/s]\n",
      "Training Epoch 1470: 100%|██████████| 890/890 [00:04<00:00, 190.90it/s]\n",
      "Training Epoch 1471: 100%|██████████| 890/890 [00:04<00:00, 183.93it/s]\n"
     ]
    },
    {
     "name": "stdout",
     "output_type": "stream",
     "text": [
      "Epoch 1470 - Train Loss: 0.0624, Train MSE: 0.0624, Train MAE: 0.1897\n",
      "Epoch 1470 - Validation Loss: 0.9114, Validation MSE: 0.9141, Validation MAE: 0.7304\n"
     ]
    },
    {
     "name": "stderr",
     "output_type": "stream",
     "text": [
      "Training Epoch 1472: 100%|██████████| 890/890 [00:04<00:00, 191.97it/s]\n",
      "Training Epoch 1473: 100%|██████████| 890/890 [00:04<00:00, 188.74it/s]\n",
      "Training Epoch 1474: 100%|██████████| 890/890 [00:04<00:00, 182.55it/s]\n",
      "Training Epoch 1475: 100%|██████████| 890/890 [00:04<00:00, 178.48it/s]\n",
      "Training Epoch 1476: 100%|██████████| 890/890 [00:04<00:00, 183.43it/s]\n",
      "Training Epoch 1477: 100%|██████████| 890/890 [00:04<00:00, 183.48it/s]\n",
      "Training Epoch 1478: 100%|██████████| 890/890 [00:04<00:00, 180.13it/s]\n",
      "Training Epoch 1479: 100%|██████████| 890/890 [00:04<00:00, 190.64it/s]\n",
      "Training Epoch 1480: 100%|██████████| 890/890 [00:04<00:00, 192.76it/s]\n",
      "Training Epoch 1481: 100%|██████████| 890/890 [00:04<00:00, 192.65it/s]\n"
     ]
    },
    {
     "name": "stdout",
     "output_type": "stream",
     "text": [
      "Epoch 1480 - Train Loss: 0.0623, Train MSE: 0.0622, Train MAE: 0.1889\n",
      "Epoch 1480 - Validation Loss: 0.9094, Validation MSE: 0.9120, Validation MAE: 0.7275\n"
     ]
    },
    {
     "name": "stderr",
     "output_type": "stream",
     "text": [
      "Training Epoch 1482: 100%|██████████| 890/890 [00:04<00:00, 193.58it/s]\n",
      "Training Epoch 1483: 100%|██████████| 890/890 [00:04<00:00, 186.85it/s]\n",
      "Training Epoch 1484: 100%|██████████| 890/890 [00:04<00:00, 188.98it/s]\n",
      "Training Epoch 1485: 100%|██████████| 890/890 [00:04<00:00, 189.41it/s]\n",
      "Training Epoch 1486: 100%|██████████| 890/890 [00:04<00:00, 190.39it/s]\n",
      "Training Epoch 1487: 100%|██████████| 890/890 [00:04<00:00, 193.45it/s]\n",
      "Training Epoch 1488: 100%|██████████| 890/890 [00:04<00:00, 193.34it/s]\n",
      "Training Epoch 1489: 100%|██████████| 890/890 [00:04<00:00, 192.18it/s]\n",
      "Training Epoch 1490: 100%|██████████| 890/890 [00:04<00:00, 184.23it/s]\n",
      "Training Epoch 1491: 100%|██████████| 890/890 [00:04<00:00, 184.77it/s]\n"
     ]
    },
    {
     "name": "stdout",
     "output_type": "stream",
     "text": [
      "Epoch 1490 - Train Loss: 0.0630, Train MSE: 0.0630, Train MAE: 0.1891\n",
      "Epoch 1490 - Validation Loss: 0.9098, Validation MSE: 0.9124, Validation MAE: 0.7298\n"
     ]
    },
    {
     "name": "stderr",
     "output_type": "stream",
     "text": [
      "Training Epoch 1492: 100%|██████████| 890/890 [00:04<00:00, 192.12it/s]\n",
      "Training Epoch 1493: 100%|██████████| 890/890 [00:04<00:00, 186.86it/s]\n",
      "Training Epoch 1494: 100%|██████████| 890/890 [00:04<00:00, 190.39it/s]\n",
      "Training Epoch 1495: 100%|██████████| 890/890 [00:04<00:00, 191.43it/s]\n",
      "Training Epoch 1496: 100%|██████████| 890/890 [00:04<00:00, 189.91it/s]\n",
      "Training Epoch 1497: 100%|██████████| 890/890 [00:04<00:00, 188.20it/s]\n",
      "Training Epoch 1498: 100%|██████████| 890/890 [00:04<00:00, 196.50it/s]\n",
      "Training Epoch 1499: 100%|██████████| 890/890 [00:04<00:00, 191.54it/s]\n",
      "Training Epoch 1500: 100%|██████████| 890/890 [00:04<00:00, 190.92it/s]\n",
      "Training Epoch 1501: 100%|██████████| 890/890 [00:04<00:00, 195.75it/s]\n"
     ]
    },
    {
     "name": "stdout",
     "output_type": "stream",
     "text": [
      "Epoch 1500 - Train Loss: 0.0623, Train MSE: 0.0624, Train MAE: 0.1889\n",
      "Epoch 1500 - Validation Loss: 0.9055, Validation MSE: 0.9077, Validation MAE: 0.7276\n"
     ]
    },
    {
     "name": "stderr",
     "output_type": "stream",
     "text": [
      "Training Epoch 1502: 100%|██████████| 890/890 [00:04<00:00, 192.05it/s]\n",
      "Training Epoch 1503: 100%|██████████| 890/890 [00:04<00:00, 191.83it/s]\n",
      "Training Epoch 1504: 100%|██████████| 890/890 [00:04<00:00, 192.55it/s]\n",
      "Training Epoch 1505: 100%|██████████| 890/890 [00:04<00:00, 194.21it/s]\n",
      "Training Epoch 1506: 100%|██████████| 890/890 [00:04<00:00, 192.02it/s]\n",
      "Training Epoch 1507: 100%|██████████| 890/890 [00:04<00:00, 199.72it/s]\n",
      "Training Epoch 1508: 100%|██████████| 890/890 [00:04<00:00, 190.80it/s]\n",
      "Training Epoch 1509: 100%|██████████| 890/890 [00:04<00:00, 190.58it/s]\n",
      "Training Epoch 1510: 100%|██████████| 890/890 [00:04<00:00, 190.96it/s]\n",
      "Training Epoch 1511: 100%|██████████| 890/890 [00:04<00:00, 197.47it/s]\n"
     ]
    },
    {
     "name": "stdout",
     "output_type": "stream",
     "text": [
      "Epoch 1510 - Train Loss: 0.0625, Train MSE: 0.0626, Train MAE: 0.1905\n",
      "Epoch 1510 - Validation Loss: 0.9122, Validation MSE: 0.9139, Validation MAE: 0.7309\n"
     ]
    },
    {
     "name": "stderr",
     "output_type": "stream",
     "text": [
      "Training Epoch 1512: 100%|██████████| 890/890 [00:04<00:00, 187.07it/s]\n",
      "Training Epoch 1513: 100%|██████████| 890/890 [00:04<00:00, 190.11it/s]\n",
      "Training Epoch 1514: 100%|██████████| 890/890 [00:04<00:00, 185.19it/s]\n",
      "Training Epoch 1515: 100%|██████████| 890/890 [00:04<00:00, 187.49it/s]\n",
      "Training Epoch 1516: 100%|██████████| 890/890 [00:04<00:00, 197.29it/s]\n",
      "Training Epoch 1517: 100%|██████████| 890/890 [00:04<00:00, 188.45it/s]\n",
      "Training Epoch 1518: 100%|██████████| 890/890 [00:04<00:00, 184.76it/s]\n",
      "Training Epoch 1519: 100%|██████████| 890/890 [00:04<00:00, 184.28it/s]\n",
      "Training Epoch 1520: 100%|██████████| 890/890 [00:04<00:00, 187.68it/s]\n",
      "Training Epoch 1521: 100%|██████████| 890/890 [00:04<00:00, 191.78it/s]\n"
     ]
    },
    {
     "name": "stdout",
     "output_type": "stream",
     "text": [
      "Epoch 1520 - Train Loss: 0.0630, Train MSE: 0.0630, Train MAE: 0.1902\n",
      "Epoch 1520 - Validation Loss: 0.9099, Validation MSE: 0.9119, Validation MAE: 0.7263\n"
     ]
    },
    {
     "name": "stderr",
     "output_type": "stream",
     "text": [
      "Training Epoch 1522: 100%|██████████| 890/890 [00:04<00:00, 188.82it/s]\n",
      "Training Epoch 1523: 100%|██████████| 890/890 [00:04<00:00, 184.87it/s]\n",
      "Training Epoch 1524: 100%|██████████| 890/890 [00:04<00:00, 190.26it/s]\n",
      "Training Epoch 1525: 100%|██████████| 890/890 [00:04<00:00, 191.68it/s]\n",
      "Training Epoch 1526: 100%|██████████| 890/890 [00:04<00:00, 197.11it/s]\n",
      "Training Epoch 1527: 100%|██████████| 890/890 [00:04<00:00, 180.78it/s]\n",
      "Training Epoch 1528: 100%|██████████| 890/890 [00:04<00:00, 187.08it/s]\n",
      "Training Epoch 1529: 100%|██████████| 890/890 [00:04<00:00, 182.60it/s]\n",
      "Training Epoch 1530: 100%|██████████| 890/890 [00:04<00:00, 187.13it/s]\n",
      "Training Epoch 1531: 100%|██████████| 890/890 [00:04<00:00, 190.46it/s]\n"
     ]
    },
    {
     "name": "stdout",
     "output_type": "stream",
     "text": [
      "Epoch 1530 - Train Loss: 0.0625, Train MSE: 0.0626, Train MAE: 0.1892\n",
      "Epoch 1530 - Validation Loss: 0.9090, Validation MSE: 0.9115, Validation MAE: 0.7289\n"
     ]
    },
    {
     "name": "stderr",
     "output_type": "stream",
     "text": [
      "Training Epoch 1532: 100%|██████████| 890/890 [00:04<00:00, 194.94it/s]\n",
      "Training Epoch 1533: 100%|██████████| 890/890 [00:04<00:00, 192.17it/s]\n",
      "Training Epoch 1534: 100%|██████████| 890/890 [00:04<00:00, 189.96it/s]\n",
      "Training Epoch 1535: 100%|██████████| 890/890 [00:04<00:00, 188.26it/s]\n",
      "Training Epoch 1536: 100%|██████████| 890/890 [00:04<00:00, 191.03it/s]\n",
      "Training Epoch 1537: 100%|██████████| 890/890 [00:04<00:00, 194.08it/s]\n",
      "Training Epoch 1538: 100%|██████████| 890/890 [00:04<00:00, 196.35it/s]\n",
      "Training Epoch 1539: 100%|██████████| 890/890 [00:04<00:00, 190.56it/s]\n",
      "Training Epoch 1540: 100%|██████████| 890/890 [00:04<00:00, 194.15it/s]\n",
      "Training Epoch 1541: 100%|██████████| 890/890 [00:04<00:00, 196.86it/s]\n"
     ]
    },
    {
     "name": "stdout",
     "output_type": "stream",
     "text": [
      "Epoch 1540 - Train Loss: 0.0626, Train MSE: 0.0626, Train MAE: 0.1891\n",
      "Epoch 1540 - Validation Loss: 0.9164, Validation MSE: 0.9184, Validation MAE: 0.7318\n"
     ]
    },
    {
     "name": "stderr",
     "output_type": "stream",
     "text": [
      "Training Epoch 1542: 100%|██████████| 890/890 [00:04<00:00, 194.85it/s]\n",
      "Training Epoch 1543: 100%|██████████| 890/890 [00:04<00:00, 197.30it/s]\n",
      "Training Epoch 1544: 100%|██████████| 890/890 [00:04<00:00, 194.10it/s]\n",
      "Training Epoch 1545: 100%|██████████| 890/890 [00:04<00:00, 200.63it/s]\n",
      "Training Epoch 1546: 100%|██████████| 890/890 [00:04<00:00, 191.28it/s]\n",
      "Training Epoch 1547: 100%|██████████| 890/890 [00:04<00:00, 192.47it/s]\n",
      "Training Epoch 1548: 100%|██████████| 890/890 [00:04<00:00, 188.17it/s]\n",
      "Training Epoch 1549: 100%|██████████| 890/890 [00:04<00:00, 188.61it/s]\n",
      "Training Epoch 1550: 100%|██████████| 890/890 [00:04<00:00, 186.48it/s]\n",
      "Training Epoch 1551: 100%|██████████| 890/890 [00:04<00:00, 184.71it/s]\n"
     ]
    },
    {
     "name": "stdout",
     "output_type": "stream",
     "text": [
      "Epoch 1550 - Train Loss: 0.0636, Train MSE: 0.0637, Train MAE: 0.1905\n",
      "Epoch 1550 - Validation Loss: 0.9106, Validation MSE: 0.9134, Validation MAE: 0.7283\n"
     ]
    },
    {
     "name": "stderr",
     "output_type": "stream",
     "text": [
      "Training Epoch 1552: 100%|██████████| 890/890 [00:04<00:00, 184.90it/s]\n",
      "Training Epoch 1553: 100%|██████████| 890/890 [00:04<00:00, 189.36it/s]\n",
      "Training Epoch 1554: 100%|██████████| 890/890 [00:04<00:00, 183.46it/s]\n",
      "Training Epoch 1555: 100%|██████████| 890/890 [00:04<00:00, 189.23it/s]\n",
      "Training Epoch 1556: 100%|██████████| 890/890 [00:04<00:00, 184.10it/s]\n",
      "Training Epoch 1557: 100%|██████████| 890/890 [00:04<00:00, 187.04it/s]\n",
      "Training Epoch 1558: 100%|██████████| 890/890 [00:04<00:00, 187.93it/s]\n",
      "Training Epoch 1559: 100%|██████████| 890/890 [00:04<00:00, 186.68it/s]\n",
      "Training Epoch 1560: 100%|██████████| 890/890 [00:04<00:00, 188.68it/s]\n",
      "Training Epoch 1561: 100%|██████████| 890/890 [00:04<00:00, 185.67it/s]\n"
     ]
    },
    {
     "name": "stdout",
     "output_type": "stream",
     "text": [
      "Epoch 1560 - Train Loss: 0.0629, Train MSE: 0.0627, Train MAE: 0.1889\n",
      "Epoch 1560 - Validation Loss: 0.9110, Validation MSE: 0.9133, Validation MAE: 0.7299\n"
     ]
    },
    {
     "name": "stderr",
     "output_type": "stream",
     "text": [
      "Training Epoch 1562: 100%|██████████| 890/890 [00:04<00:00, 186.95it/s]\n",
      "Training Epoch 1563: 100%|██████████| 890/890 [00:04<00:00, 178.05it/s]\n",
      "Training Epoch 1564: 100%|██████████| 890/890 [00:04<00:00, 198.51it/s]\n",
      "Training Epoch 1565: 100%|██████████| 890/890 [00:04<00:00, 189.29it/s]\n",
      "Training Epoch 1566: 100%|██████████| 890/890 [00:04<00:00, 188.99it/s]\n",
      "Training Epoch 1567: 100%|██████████| 890/890 [00:04<00:00, 197.51it/s]\n",
      "Training Epoch 1568: 100%|██████████| 890/890 [00:04<00:00, 191.92it/s]\n",
      "Training Epoch 1569: 100%|██████████| 890/890 [00:04<00:00, 187.66it/s]\n",
      "Training Epoch 1570: 100%|██████████| 890/890 [00:04<00:00, 192.14it/s]\n",
      "Training Epoch 1571: 100%|██████████| 890/890 [00:04<00:00, 186.35it/s]\n"
     ]
    },
    {
     "name": "stdout",
     "output_type": "stream",
     "text": [
      "Epoch 1570 - Train Loss: 0.0608, Train MSE: 0.0608, Train MAE: 0.1868\n",
      "Epoch 1570 - Validation Loss: 0.9083, Validation MSE: 0.9104, Validation MAE: 0.7291\n"
     ]
    },
    {
     "name": "stderr",
     "output_type": "stream",
     "text": [
      "Training Epoch 1572: 100%|██████████| 890/890 [00:04<00:00, 183.83it/s]\n",
      "Training Epoch 1573: 100%|██████████| 890/890 [00:04<00:00, 185.79it/s]\n",
      "Training Epoch 1574: 100%|██████████| 890/890 [00:04<00:00, 190.22it/s]\n",
      "Training Epoch 1575: 100%|██████████| 890/890 [00:05<00:00, 176.84it/s]\n",
      "Training Epoch 1576: 100%|██████████| 890/890 [00:05<00:00, 171.96it/s]\n",
      "Training Epoch 1577: 100%|██████████| 890/890 [00:04<00:00, 181.14it/s]\n",
      "Training Epoch 1578: 100%|██████████| 890/890 [00:04<00:00, 180.38it/s]\n",
      "Training Epoch 1579: 100%|██████████| 890/890 [00:04<00:00, 194.80it/s]\n",
      "Training Epoch 1580: 100%|██████████| 890/890 [00:04<00:00, 192.83it/s]\n",
      "Training Epoch 1581: 100%|██████████| 890/890 [00:04<00:00, 192.27it/s]\n"
     ]
    },
    {
     "name": "stdout",
     "output_type": "stream",
     "text": [
      "Epoch 1580 - Train Loss: 0.0608, Train MSE: 0.0609, Train MAE: 0.1864\n",
      "Epoch 1580 - Validation Loss: 0.9071, Validation MSE: 0.9094, Validation MAE: 0.7275\n"
     ]
    },
    {
     "name": "stderr",
     "output_type": "stream",
     "text": [
      "Training Epoch 1582: 100%|██████████| 890/890 [00:04<00:00, 193.27it/s]\n",
      "Training Epoch 1583: 100%|██████████| 890/890 [00:04<00:00, 197.33it/s]\n",
      "Training Epoch 1584: 100%|██████████| 890/890 [00:04<00:00, 185.99it/s]\n",
      "Training Epoch 1585: 100%|██████████| 890/890 [00:04<00:00, 194.92it/s]\n",
      "Training Epoch 1586: 100%|██████████| 890/890 [00:04<00:00, 194.70it/s]\n",
      "Training Epoch 1587: 100%|██████████| 890/890 [00:04<00:00, 189.76it/s]\n",
      "Training Epoch 1588: 100%|██████████| 890/890 [00:04<00:00, 192.70it/s]\n",
      "Training Epoch 1589: 100%|██████████| 890/890 [00:04<00:00, 202.57it/s]\n",
      "Training Epoch 1590: 100%|██████████| 890/890 [00:04<00:00, 193.94it/s]\n",
      "Training Epoch 1591: 100%|██████████| 890/890 [00:04<00:00, 192.26it/s]\n"
     ]
    },
    {
     "name": "stdout",
     "output_type": "stream",
     "text": [
      "Epoch 1590 - Train Loss: 0.0622, Train MSE: 0.0622, Train MAE: 0.1882\n",
      "Epoch 1590 - Validation Loss: 0.9105, Validation MSE: 0.9128, Validation MAE: 0.7284\n"
     ]
    },
    {
     "name": "stderr",
     "output_type": "stream",
     "text": [
      "Training Epoch 1592: 100%|██████████| 890/890 [00:04<00:00, 191.46it/s]\n",
      "Training Epoch 1593: 100%|██████████| 890/890 [00:04<00:00, 191.99it/s]\n",
      "Training Epoch 1594: 100%|██████████| 890/890 [00:04<00:00, 192.55it/s]\n",
      "Training Epoch 1595: 100%|██████████| 890/890 [00:04<00:00, 197.24it/s]\n",
      "Training Epoch 1596: 100%|██████████| 890/890 [00:04<00:00, 194.13it/s]\n",
      "Training Epoch 1597: 100%|██████████| 890/890 [00:04<00:00, 195.00it/s]\n",
      "Training Epoch 1598: 100%|██████████| 890/890 [00:04<00:00, 189.94it/s]\n",
      "Training Epoch 1599: 100%|██████████| 890/890 [00:04<00:00, 196.22it/s]\n",
      "Training Epoch 1600: 100%|██████████| 890/890 [00:04<00:00, 190.17it/s]\n",
      "Training Epoch 1601: 100%|██████████| 890/890 [00:04<00:00, 193.87it/s]\n"
     ]
    },
    {
     "name": "stdout",
     "output_type": "stream",
     "text": [
      "Epoch 1600 - Train Loss: 0.0616, Train MSE: 0.0616, Train MAE: 0.1884\n",
      "Epoch 1600 - Validation Loss: 0.9088, Validation MSE: 0.9111, Validation MAE: 0.7281\n"
     ]
    },
    {
     "name": "stderr",
     "output_type": "stream",
     "text": [
      "Training Epoch 1602: 100%|██████████| 890/890 [00:04<00:00, 199.76it/s]\n",
      "Training Epoch 1603: 100%|██████████| 890/890 [00:04<00:00, 195.58it/s]\n",
      "Training Epoch 1604: 100%|██████████| 890/890 [00:04<00:00, 187.82it/s]\n",
      "Training Epoch 1605: 100%|██████████| 890/890 [00:04<00:00, 194.37it/s]\n",
      "Training Epoch 1606: 100%|██████████| 890/890 [00:04<00:00, 192.37it/s]\n",
      "Training Epoch 1607: 100%|██████████| 890/890 [00:04<00:00, 194.67it/s]\n",
      "Training Epoch 1608: 100%|██████████| 890/890 [00:04<00:00, 200.44it/s]\n",
      "Training Epoch 1609: 100%|██████████| 890/890 [00:04<00:00, 193.73it/s]\n",
      "Training Epoch 1610: 100%|██████████| 890/890 [00:04<00:00, 193.95it/s]\n",
      "Training Epoch 1611: 100%|██████████| 890/890 [00:04<00:00, 194.81it/s]\n"
     ]
    },
    {
     "name": "stdout",
     "output_type": "stream",
     "text": [
      "Epoch 1610 - Train Loss: 0.0610, Train MSE: 0.0610, Train MAE: 0.1869\n",
      "Epoch 1610 - Validation Loss: 0.9009, Validation MSE: 0.9035, Validation MAE: 0.7258\n"
     ]
    },
    {
     "name": "stderr",
     "output_type": "stream",
     "text": [
      "Training Epoch 1612: 100%|██████████| 890/890 [00:04<00:00, 192.19it/s]\n",
      "Training Epoch 1613: 100%|██████████| 890/890 [00:04<00:00, 194.79it/s]\n",
      "Training Epoch 1614: 100%|██████████| 890/890 [00:04<00:00, 192.72it/s]\n",
      "Training Epoch 1615: 100%|██████████| 890/890 [00:04<00:00, 199.79it/s]\n",
      "Training Epoch 1616: 100%|██████████| 890/890 [00:04<00:00, 193.38it/s]\n",
      "Training Epoch 1617: 100%|██████████| 890/890 [00:04<00:00, 191.55it/s]\n",
      "Training Epoch 1618: 100%|██████████| 890/890 [00:04<00:00, 186.28it/s]\n",
      "Training Epoch 1619: 100%|██████████| 890/890 [00:04<00:00, 195.86it/s]\n",
      "Training Epoch 1620: 100%|██████████| 890/890 [00:04<00:00, 194.14it/s]\n",
      "Training Epoch 1621: 100%|██████████| 890/890 [00:04<00:00, 200.15it/s]\n"
     ]
    },
    {
     "name": "stdout",
     "output_type": "stream",
     "text": [
      "Epoch 1620 - Train Loss: 0.0603, Train MSE: 0.0603, Train MAE: 0.1852\n",
      "Epoch 1620 - Validation Loss: 0.9103, Validation MSE: 0.9129, Validation MAE: 0.7282\n"
     ]
    },
    {
     "name": "stderr",
     "output_type": "stream",
     "text": [
      "Training Epoch 1622: 100%|██████████| 890/890 [00:04<00:00, 194.77it/s]\n",
      "Training Epoch 1623: 100%|██████████| 890/890 [00:04<00:00, 198.84it/s]\n",
      "Training Epoch 1624: 100%|██████████| 890/890 [00:04<00:00, 189.65it/s]\n",
      "Training Epoch 1625: 100%|██████████| 890/890 [00:04<00:00, 188.69it/s]\n",
      "Training Epoch 1626: 100%|██████████| 890/890 [00:04<00:00, 192.66it/s]\n",
      "Training Epoch 1627: 100%|██████████| 890/890 [00:04<00:00, 199.05it/s]\n",
      "Training Epoch 1628: 100%|██████████| 890/890 [00:04<00:00, 193.33it/s]\n",
      "Training Epoch 1629: 100%|██████████| 890/890 [00:04<00:00, 193.11it/s]\n",
      "Training Epoch 1630: 100%|██████████| 890/890 [00:04<00:00, 191.56it/s]\n",
      "Training Epoch 1631: 100%|██████████| 890/890 [00:04<00:00, 191.57it/s]\n"
     ]
    },
    {
     "name": "stdout",
     "output_type": "stream",
     "text": [
      "Epoch 1630 - Train Loss: 0.0607, Train MSE: 0.0608, Train MAE: 0.1854\n",
      "Epoch 1630 - Validation Loss: 0.9122, Validation MSE: 0.9144, Validation MAE: 0.7283\n"
     ]
    },
    {
     "name": "stderr",
     "output_type": "stream",
     "text": [
      "Training Epoch 1632: 100%|██████████| 890/890 [00:04<00:00, 193.59it/s]\n",
      "Training Epoch 1633: 100%|██████████| 890/890 [00:04<00:00, 193.15it/s]\n",
      "Training Epoch 1634: 100%|██████████| 890/890 [00:04<00:00, 196.88it/s]\n",
      "Training Epoch 1635: 100%|██████████| 890/890 [00:04<00:00, 197.52it/s]\n",
      "Training Epoch 1636: 100%|██████████| 890/890 [00:04<00:00, 192.64it/s]\n",
      "Training Epoch 1637: 100%|██████████| 890/890 [00:04<00:00, 191.52it/s]\n",
      "Training Epoch 1638: 100%|██████████| 890/890 [00:04<00:00, 196.88it/s]\n",
      "Training Epoch 1639: 100%|██████████| 890/890 [00:04<00:00, 183.28it/s]\n",
      "Training Epoch 1640: 100%|██████████| 890/890 [00:04<00:00, 200.97it/s]\n",
      "Training Epoch 1641: 100%|██████████| 890/890 [00:04<00:00, 194.28it/s]\n"
     ]
    },
    {
     "name": "stdout",
     "output_type": "stream",
     "text": [
      "Epoch 1640 - Train Loss: 0.0607, Train MSE: 0.0608, Train MAE: 0.1871\n",
      "Epoch 1640 - Validation Loss: 0.9120, Validation MSE: 0.9144, Validation MAE: 0.7302\n"
     ]
    },
    {
     "name": "stderr",
     "output_type": "stream",
     "text": [
      "Training Epoch 1642: 100%|██████████| 890/890 [00:04<00:00, 194.51it/s]\n",
      "Training Epoch 1643: 100%|██████████| 890/890 [00:04<00:00, 192.91it/s]\n",
      "Training Epoch 1644: 100%|██████████| 890/890 [00:04<00:00, 194.19it/s]\n",
      "Training Epoch 1645: 100%|██████████| 890/890 [00:04<00:00, 194.58it/s]\n",
      "Training Epoch 1646: 100%|██████████| 890/890 [00:04<00:00, 200.54it/s]\n",
      "Training Epoch 1647: 100%|██████████| 890/890 [00:04<00:00, 193.86it/s]\n",
      "Training Epoch 1648: 100%|██████████| 890/890 [00:04<00:00, 194.15it/s]\n",
      "Training Epoch 1649: 100%|██████████| 890/890 [00:04<00:00, 184.46it/s]\n",
      "Training Epoch 1650: 100%|██████████| 890/890 [00:04<00:00, 192.15it/s]\n",
      "Training Epoch 1651: 100%|██████████| 890/890 [00:04<00:00, 194.03it/s]\n"
     ]
    },
    {
     "name": "stdout",
     "output_type": "stream",
     "text": [
      "Epoch 1650 - Train Loss: 0.0606, Train MSE: 0.0606, Train MAE: 0.1858\n",
      "Epoch 1650 - Validation Loss: 0.9044, Validation MSE: 0.9073, Validation MAE: 0.7265\n"
     ]
    },
    {
     "name": "stderr",
     "output_type": "stream",
     "text": [
      "Training Epoch 1652: 100%|██████████| 890/890 [00:04<00:00, 196.35it/s]\n",
      "Training Epoch 1653: 100%|██████████| 890/890 [00:04<00:00, 194.95it/s]\n",
      "Training Epoch 1654: 100%|██████████| 890/890 [00:04<00:00, 190.71it/s]\n",
      "Training Epoch 1655: 100%|██████████| 890/890 [00:04<00:00, 194.93it/s]\n",
      "Training Epoch 1656: 100%|██████████| 890/890 [00:04<00:00, 203.16it/s]\n",
      "Training Epoch 1657: 100%|██████████| 890/890 [00:04<00:00, 192.49it/s]\n",
      "Training Epoch 1658: 100%|██████████| 890/890 [00:04<00:00, 191.63it/s]\n",
      "Training Epoch 1659: 100%|██████████| 890/890 [00:04<00:00, 200.04it/s]\n",
      "Training Epoch 1660: 100%|██████████| 890/890 [00:04<00:00, 194.65it/s]\n",
      "Training Epoch 1661: 100%|██████████| 890/890 [00:04<00:00, 194.30it/s]\n"
     ]
    },
    {
     "name": "stdout",
     "output_type": "stream",
     "text": [
      "Epoch 1660 - Train Loss: 0.0613, Train MSE: 0.0613, Train MAE: 0.1873\n",
      "Epoch 1660 - Validation Loss: 0.9054, Validation MSE: 0.9082, Validation MAE: 0.7267\n"
     ]
    },
    {
     "name": "stderr",
     "output_type": "stream",
     "text": [
      "Training Epoch 1662: 100%|██████████| 890/890 [00:04<00:00, 191.58it/s]\n",
      "Training Epoch 1663: 100%|██████████| 890/890 [00:04<00:00, 191.98it/s]\n",
      "Training Epoch 1664: 100%|██████████| 890/890 [00:04<00:00, 193.03it/s]\n",
      "Training Epoch 1665: 100%|██████████| 890/890 [00:04<00:00, 198.78it/s]\n",
      "Training Epoch 1666: 100%|██████████| 890/890 [00:04<00:00, 198.94it/s]\n",
      "Training Epoch 1667: 100%|██████████| 890/890 [00:04<00:00, 195.24it/s]\n",
      "Training Epoch 1668: 100%|██████████| 890/890 [00:04<00:00, 196.60it/s]\n",
      "Training Epoch 1669: 100%|██████████| 890/890 [00:04<00:00, 191.88it/s]\n",
      "Training Epoch 1670: 100%|██████████| 890/890 [00:04<00:00, 192.64it/s]\n",
      "Training Epoch 1671: 100%|██████████| 890/890 [00:04<00:00, 192.66it/s]\n"
     ]
    },
    {
     "name": "stdout",
     "output_type": "stream",
     "text": [
      "Epoch 1670 - Train Loss: 0.0607, Train MSE: 0.0605, Train MAE: 0.1867\n",
      "Epoch 1670 - Validation Loss: 0.8999, Validation MSE: 0.9024, Validation MAE: 0.7243\n"
     ]
    },
    {
     "name": "stderr",
     "output_type": "stream",
     "text": [
      "Training Epoch 1672: 100%|██████████| 890/890 [00:04<00:00, 191.42it/s]\n",
      "Training Epoch 1673: 100%|██████████| 890/890 [00:04<00:00, 194.05it/s]\n",
      "Training Epoch 1674: 100%|██████████| 890/890 [00:04<00:00, 191.36it/s]\n",
      "Training Epoch 1675: 100%|██████████| 890/890 [00:04<00:00, 187.56it/s]\n",
      "Training Epoch 1676: 100%|██████████| 890/890 [00:04<00:00, 193.24it/s]\n",
      "Training Epoch 1677: 100%|██████████| 890/890 [00:04<00:00, 191.10it/s]\n",
      "Training Epoch 1678: 100%|██████████| 890/890 [00:04<00:00, 203.86it/s]\n",
      "Training Epoch 1679: 100%|██████████| 890/890 [00:04<00:00, 192.16it/s]\n",
      "Training Epoch 1680: 100%|██████████| 890/890 [00:04<00:00, 193.20it/s]\n",
      "Training Epoch 1681: 100%|██████████| 890/890 [00:04<00:00, 193.37it/s]\n"
     ]
    },
    {
     "name": "stdout",
     "output_type": "stream",
     "text": [
      "Epoch 1680 - Train Loss: 0.0594, Train MSE: 0.0595, Train MAE: 0.1852\n",
      "Epoch 1680 - Validation Loss: 0.9081, Validation MSE: 0.9112, Validation MAE: 0.7279\n"
     ]
    },
    {
     "name": "stderr",
     "output_type": "stream",
     "text": [
      "Training Epoch 1682: 100%|██████████| 890/890 [00:04<00:00, 197.92it/s]\n",
      "Training Epoch 1683: 100%|██████████| 890/890 [00:04<00:00, 192.51it/s]\n",
      "Training Epoch 1684: 100%|██████████| 890/890 [00:04<00:00, 200.52it/s]\n",
      "Training Epoch 1685: 100%|██████████| 890/890 [00:04<00:00, 192.31it/s]\n",
      "Training Epoch 1686: 100%|██████████| 890/890 [00:04<00:00, 193.86it/s]\n",
      "Training Epoch 1687: 100%|██████████| 890/890 [00:04<00:00, 189.01it/s]\n",
      "Training Epoch 1688: 100%|██████████| 890/890 [00:04<00:00, 194.45it/s]\n",
      "Training Epoch 1689: 100%|██████████| 890/890 [00:04<00:00, 192.36it/s]\n",
      "Training Epoch 1690: 100%|██████████| 890/890 [00:04<00:00, 193.90it/s]\n",
      "Training Epoch 1691: 100%|██████████| 890/890 [00:04<00:00, 198.74it/s]\n"
     ]
    },
    {
     "name": "stdout",
     "output_type": "stream",
     "text": [
      "Epoch 1690 - Train Loss: 0.0607, Train MSE: 0.0607, Train MAE: 0.1866\n",
      "Epoch 1690 - Validation Loss: 0.9114, Validation MSE: 0.9144, Validation MAE: 0.7284\n"
     ]
    },
    {
     "name": "stderr",
     "output_type": "stream",
     "text": [
      "Training Epoch 1692: 100%|██████████| 890/890 [00:04<00:00, 196.35it/s]\n",
      "Training Epoch 1693: 100%|██████████| 890/890 [00:04<00:00, 194.59it/s]\n",
      "Training Epoch 1694: 100%|██████████| 890/890 [00:04<00:00, 193.54it/s]\n",
      "Training Epoch 1695: 100%|██████████| 890/890 [00:04<00:00, 191.21it/s]\n",
      "Training Epoch 1696: 100%|██████████| 890/890 [00:04<00:00, 193.95it/s]\n",
      "Training Epoch 1697: 100%|██████████| 890/890 [00:04<00:00, 197.80it/s]\n",
      "Training Epoch 1698: 100%|██████████| 890/890 [00:04<00:00, 191.86it/s]\n",
      "Training Epoch 1699: 100%|██████████| 890/890 [00:04<00:00, 191.85it/s]\n",
      "Training Epoch 1700: 100%|██████████| 890/890 [00:04<00:00, 194.68it/s]\n",
      "Training Epoch 1701: 100%|██████████| 890/890 [00:04<00:00, 192.97it/s]\n"
     ]
    },
    {
     "name": "stdout",
     "output_type": "stream",
     "text": [
      "Epoch 1700 - Train Loss: 0.0598, Train MSE: 0.0598, Train MAE: 0.1858\n",
      "Epoch 1700 - Validation Loss: 0.9070, Validation MSE: 0.9099, Validation MAE: 0.7268\n"
     ]
    },
    {
     "name": "stderr",
     "output_type": "stream",
     "text": [
      "Training Epoch 1702: 100%|██████████| 890/890 [00:04<00:00, 195.54it/s]\n",
      "Training Epoch 1703: 100%|██████████| 890/890 [00:04<00:00, 196.55it/s]\n",
      "Training Epoch 1704: 100%|██████████| 890/890 [00:04<00:00, 198.13it/s]\n",
      "Training Epoch 1705: 100%|██████████| 890/890 [00:04<00:00, 194.83it/s]\n",
      "Training Epoch 1706: 100%|██████████| 890/890 [00:04<00:00, 193.67it/s]\n",
      "Training Epoch 1707: 100%|██████████| 890/890 [00:04<00:00, 192.65it/s]\n",
      "Training Epoch 1708: 100%|██████████| 890/890 [00:04<00:00, 194.44it/s]\n",
      "Training Epoch 1709: 100%|██████████| 890/890 [00:04<00:00, 193.98it/s]\n",
      "Training Epoch 1710: 100%|██████████| 890/890 [00:04<00:00, 196.32it/s]\n",
      "Training Epoch 1711: 100%|██████████| 890/890 [00:04<00:00, 190.36it/s]\n"
     ]
    },
    {
     "name": "stdout",
     "output_type": "stream",
     "text": [
      "Epoch 1710 - Train Loss: 0.0596, Train MSE: 0.0590, Train MAE: 0.1840\n",
      "Epoch 1710 - Validation Loss: 0.9018, Validation MSE: 0.9043, Validation MAE: 0.7260\n"
     ]
    },
    {
     "name": "stderr",
     "output_type": "stream",
     "text": [
      "Training Epoch 1712: 100%|██████████| 890/890 [00:04<00:00, 194.06it/s]\n",
      "Training Epoch 1713: 100%|██████████| 890/890 [00:04<00:00, 195.16it/s]\n",
      "Training Epoch 1714: 100%|██████████| 890/890 [00:04<00:00, 202.73it/s]\n",
      "Training Epoch 1715: 100%|██████████| 890/890 [00:04<00:00, 196.73it/s]\n",
      "Training Epoch 1716: 100%|██████████| 890/890 [00:04<00:00, 194.49it/s]\n",
      "Training Epoch 1717: 100%|██████████| 890/890 [00:04<00:00, 190.67it/s]\n",
      "Training Epoch 1718: 100%|██████████| 890/890 [00:04<00:00, 194.84it/s]\n",
      "Training Epoch 1719: 100%|██████████| 890/890 [00:04<00:00, 197.96it/s]\n",
      "Training Epoch 1720: 100%|██████████| 890/890 [00:04<00:00, 193.40it/s]\n",
      "Training Epoch 1721: 100%|██████████| 890/890 [00:04<00:00, 192.82it/s]\n"
     ]
    },
    {
     "name": "stdout",
     "output_type": "stream",
     "text": [
      "Epoch 1720 - Train Loss: 0.0596, Train MSE: 0.0596, Train MAE: 0.1837\n",
      "Epoch 1720 - Validation Loss: 0.9087, Validation MSE: 0.9116, Validation MAE: 0.7284\n"
     ]
    },
    {
     "name": "stderr",
     "output_type": "stream",
     "text": [
      "Training Epoch 1722: 100%|██████████| 890/890 [00:04<00:00, 196.75it/s]\n",
      "Training Epoch 1723: 100%|██████████| 890/890 [00:04<00:00, 195.00it/s]\n",
      "Training Epoch 1724: 100%|██████████| 890/890 [00:04<00:00, 190.05it/s]\n",
      "Training Epoch 1725: 100%|██████████| 890/890 [00:04<00:00, 196.63it/s]\n",
      "Training Epoch 1726: 100%|██████████| 890/890 [00:04<00:00, 195.00it/s]\n",
      "Training Epoch 1727: 100%|██████████| 890/890 [00:04<00:00, 192.74it/s]\n",
      "Training Epoch 1728: 100%|██████████| 890/890 [00:04<00:00, 191.94it/s]\n",
      "Training Epoch 1729: 100%|██████████| 890/890 [00:04<00:00, 201.86it/s]\n",
      "Training Epoch 1730: 100%|██████████| 890/890 [00:04<00:00, 191.75it/s]\n",
      "Training Epoch 1731: 100%|██████████| 890/890 [00:04<00:00, 196.31it/s]\n"
     ]
    },
    {
     "name": "stdout",
     "output_type": "stream",
     "text": [
      "Epoch 1730 - Train Loss: 0.0603, Train MSE: 0.0603, Train MAE: 0.1865\n",
      "Epoch 1730 - Validation Loss: 0.9036, Validation MSE: 0.9064, Validation MAE: 0.7271\n"
     ]
    },
    {
     "name": "stderr",
     "output_type": "stream",
     "text": [
      "Training Epoch 1732: 100%|██████████| 890/890 [00:04<00:00, 179.00it/s]\n",
      "Training Epoch 1733: 100%|██████████| 890/890 [00:04<00:00, 182.77it/s]\n",
      "Training Epoch 1734: 100%|██████████| 890/890 [00:04<00:00, 192.00it/s]\n",
      "Training Epoch 1735: 100%|██████████| 890/890 [00:04<00:00, 198.12it/s]\n",
      "Training Epoch 1736: 100%|██████████| 890/890 [00:04<00:00, 187.10it/s]\n",
      "Training Epoch 1737: 100%|██████████| 890/890 [00:04<00:00, 192.48it/s]\n",
      "Training Epoch 1738: 100%|██████████| 890/890 [00:04<00:00, 193.90it/s]\n",
      "Training Epoch 1739: 100%|██████████| 890/890 [00:04<00:00, 192.67it/s]\n",
      "Training Epoch 1740: 100%|██████████| 890/890 [00:04<00:00, 194.27it/s]\n",
      "Training Epoch 1741: 100%|██████████| 890/890 [00:04<00:00, 196.15it/s]\n"
     ]
    },
    {
     "name": "stdout",
     "output_type": "stream",
     "text": [
      "Epoch 1740 - Train Loss: 0.0591, Train MSE: 0.0591, Train MAE: 0.1836\n",
      "Epoch 1740 - Validation Loss: 0.9086, Validation MSE: 0.9105, Validation MAE: 0.7281\n"
     ]
    },
    {
     "name": "stderr",
     "output_type": "stream",
     "text": [
      "Training Epoch 1742: 100%|██████████| 890/890 [00:04<00:00, 196.18it/s]\n",
      "Training Epoch 1743: 100%|██████████| 890/890 [00:04<00:00, 193.19it/s]\n",
      "Training Epoch 1744: 100%|██████████| 890/890 [00:04<00:00, 195.57it/s]\n",
      "Training Epoch 1745: 100%|██████████| 890/890 [00:04<00:00, 196.95it/s]\n",
      "Training Epoch 1746: 100%|██████████| 890/890 [00:04<00:00, 193.10it/s]\n",
      "Training Epoch 1747: 100%|██████████| 890/890 [00:04<00:00, 194.61it/s]\n",
      "Training Epoch 1748: 100%|██████████| 890/890 [00:04<00:00, 198.97it/s]\n",
      "Training Epoch 1749: 100%|██████████| 890/890 [00:04<00:00, 194.76it/s]\n",
      "Training Epoch 1750: 100%|██████████| 890/890 [00:04<00:00, 191.03it/s]\n",
      "Training Epoch 1751: 100%|██████████| 890/890 [00:04<00:00, 195.06it/s]\n"
     ]
    },
    {
     "name": "stdout",
     "output_type": "stream",
     "text": [
      "Epoch 1750 - Train Loss: 0.0596, Train MSE: 0.0596, Train MAE: 0.1846\n",
      "Epoch 1750 - Validation Loss: 0.8998, Validation MSE: 0.9032, Validation MAE: 0.7258\n"
     ]
    },
    {
     "name": "stderr",
     "output_type": "stream",
     "text": [
      "Training Epoch 1752: 100%|██████████| 890/890 [00:04<00:00, 193.17it/s]\n",
      "Training Epoch 1753: 100%|██████████| 890/890 [00:04<00:00, 191.62it/s]\n",
      "Training Epoch 1754: 100%|██████████| 890/890 [00:04<00:00, 205.17it/s]\n",
      "Training Epoch 1755: 100%|██████████| 890/890 [00:04<00:00, 196.51it/s]\n",
      "Training Epoch 1756: 100%|██████████| 890/890 [00:04<00:00, 194.45it/s]\n",
      "Training Epoch 1757: 100%|██████████| 890/890 [00:04<00:00, 193.86it/s]\n",
      "Training Epoch 1758: 100%|██████████| 890/890 [00:04<00:00, 194.61it/s]\n",
      "Training Epoch 1759: 100%|██████████| 890/890 [00:04<00:00, 193.30it/s]\n",
      "Training Epoch 1760: 100%|██████████| 890/890 [00:04<00:00, 194.70it/s]\n",
      "Training Epoch 1761: 100%|██████████| 890/890 [00:04<00:00, 193.71it/s]\n"
     ]
    },
    {
     "name": "stdout",
     "output_type": "stream",
     "text": [
      "Epoch 1760 - Train Loss: 0.0581, Train MSE: 0.0581, Train MAE: 0.1823\n",
      "Epoch 1760 - Validation Loss: 0.9109, Validation MSE: 0.9141, Validation MAE: 0.7286\n"
     ]
    },
    {
     "name": "stderr",
     "output_type": "stream",
     "text": [
      "Training Epoch 1762: 100%|██████████| 890/890 [00:04<00:00, 195.38it/s]\n",
      "Training Epoch 1763: 100%|██████████| 890/890 [00:04<00:00, 195.29it/s]\n",
      "Training Epoch 1764: 100%|██████████| 890/890 [00:04<00:00, 194.55it/s]\n",
      "Training Epoch 1765: 100%|██████████| 890/890 [00:04<00:00, 193.73it/s]\n",
      "Training Epoch 1766: 100%|██████████| 890/890 [00:04<00:00, 188.65it/s]\n",
      "Training Epoch 1767: 100%|██████████| 890/890 [00:04<00:00, 203.92it/s]\n",
      "Training Epoch 1768: 100%|██████████| 890/890 [00:04<00:00, 198.19it/s]\n",
      "Training Epoch 1769: 100%|██████████| 890/890 [00:04<00:00, 186.53it/s]\n",
      "Training Epoch 1770: 100%|██████████| 890/890 [00:04<00:00, 195.19it/s]\n",
      "Training Epoch 1771: 100%|██████████| 890/890 [00:04<00:00, 195.86it/s]\n"
     ]
    },
    {
     "name": "stdout",
     "output_type": "stream",
     "text": [
      "Epoch 1770 - Train Loss: 0.0583, Train MSE: 0.0583, Train MAE: 0.1833\n",
      "Epoch 1770 - Validation Loss: 0.9045, Validation MSE: 0.9077, Validation MAE: 0.7267\n"
     ]
    },
    {
     "name": "stderr",
     "output_type": "stream",
     "text": [
      "Training Epoch 1772: 100%|██████████| 890/890 [00:04<00:00, 189.65it/s]\n",
      "Training Epoch 1773: 100%|██████████| 890/890 [00:04<00:00, 191.56it/s]\n",
      "Training Epoch 1774: 100%|██████████| 890/890 [00:04<00:00, 195.66it/s]\n",
      "Training Epoch 1775: 100%|██████████| 890/890 [00:04<00:00, 195.85it/s]\n",
      "Training Epoch 1776: 100%|██████████| 890/890 [00:04<00:00, 192.71it/s]\n",
      "Training Epoch 1777: 100%|██████████| 890/890 [00:04<00:00, 193.73it/s]\n",
      "Training Epoch 1778: 100%|██████████| 890/890 [00:04<00:00, 197.50it/s]\n",
      "Training Epoch 1779: 100%|██████████| 890/890 [00:04<00:00, 193.98it/s]\n",
      "Training Epoch 1780: 100%|██████████| 890/890 [00:04<00:00, 201.63it/s]\n",
      "Training Epoch 1781: 100%|██████████| 890/890 [00:04<00:00, 195.23it/s]\n"
     ]
    },
    {
     "name": "stdout",
     "output_type": "stream",
     "text": [
      "Epoch 1780 - Train Loss: 0.0586, Train MSE: 0.0586, Train MAE: 0.1827\n",
      "Epoch 1780 - Validation Loss: 0.9174, Validation MSE: 0.9201, Validation MAE: 0.7336\n"
     ]
    },
    {
     "name": "stderr",
     "output_type": "stream",
     "text": [
      "Training Epoch 1782: 100%|██████████| 890/890 [00:04<00:00, 187.41it/s]\n",
      "Training Epoch 1783: 100%|██████████| 890/890 [00:04<00:00, 201.67it/s]\n",
      "Training Epoch 1784: 100%|██████████| 890/890 [00:04<00:00, 188.14it/s]\n",
      "Training Epoch 1785: 100%|██████████| 890/890 [00:04<00:00, 194.88it/s]\n",
      "Training Epoch 1786: 100%|██████████| 890/890 [00:04<00:00, 194.24it/s]\n",
      "Training Epoch 1787: 100%|██████████| 890/890 [00:04<00:00, 194.47it/s]\n",
      "Training Epoch 1788: 100%|██████████| 890/890 [00:04<00:00, 195.14it/s]\n",
      "Training Epoch 1789: 100%|██████████| 890/890 [00:04<00:00, 188.31it/s]\n",
      "Training Epoch 1790: 100%|██████████| 890/890 [00:04<00:00, 196.27it/s]\n",
      "Training Epoch 1791: 100%|██████████| 890/890 [00:05<00:00, 167.94it/s]\n"
     ]
    },
    {
     "name": "stdout",
     "output_type": "stream",
     "text": [
      "Epoch 1790 - Train Loss: 0.0589, Train MSE: 0.0590, Train MAE: 0.1838\n",
      "Epoch 1790 - Validation Loss: 0.9136, Validation MSE: 0.9161, Validation MAE: 0.7305\n"
     ]
    },
    {
     "name": "stderr",
     "output_type": "stream",
     "text": [
      "Training Epoch 1792: 100%|██████████| 890/890 [00:04<00:00, 189.28it/s]\n",
      "Training Epoch 1793: 100%|██████████| 890/890 [00:04<00:00, 195.87it/s]\n",
      "Training Epoch 1794: 100%|██████████| 890/890 [00:04<00:00, 190.68it/s]\n",
      "Training Epoch 1795: 100%|██████████| 890/890 [00:04<00:00, 193.70it/s]\n",
      "Training Epoch 1796: 100%|██████████| 890/890 [00:04<00:00, 194.11it/s]\n",
      "Training Epoch 1797: 100%|██████████| 890/890 [00:04<00:00, 188.10it/s]\n",
      "Training Epoch 1798: 100%|██████████| 890/890 [00:04<00:00, 185.51it/s]\n",
      "Training Epoch 1799: 100%|██████████| 890/890 [00:04<00:00, 195.49it/s]\n",
      "Training Epoch 1800: 100%|██████████| 890/890 [00:04<00:00, 187.70it/s]\n",
      "Training Epoch 1801: 100%|██████████| 890/890 [00:04<00:00, 195.33it/s]\n"
     ]
    },
    {
     "name": "stdout",
     "output_type": "stream",
     "text": [
      "Epoch 1800 - Train Loss: 0.0579, Train MSE: 0.0579, Train MAE: 0.1821\n",
      "Epoch 1800 - Validation Loss: 0.9092, Validation MSE: 0.9120, Validation MAE: 0.7284\n"
     ]
    },
    {
     "name": "stderr",
     "output_type": "stream",
     "text": [
      "Training Epoch 1802: 100%|██████████| 890/890 [00:04<00:00, 192.20it/s]\n",
      "Training Epoch 1803: 100%|██████████| 890/890 [00:04<00:00, 196.78it/s]\n",
      "Training Epoch 1804: 100%|██████████| 890/890 [00:04<00:00, 193.47it/s]\n",
      "Training Epoch 1805: 100%|██████████| 890/890 [00:04<00:00, 198.66it/s]\n",
      "Training Epoch 1806: 100%|██████████| 890/890 [00:04<00:00, 195.06it/s]\n",
      "Training Epoch 1807: 100%|██████████| 890/890 [00:04<00:00, 186.52it/s]\n",
      "Training Epoch 1808: 100%|██████████| 890/890 [00:04<00:00, 190.89it/s]\n",
      "Training Epoch 1809: 100%|██████████| 890/890 [00:04<00:00, 178.19it/s]\n",
      "Training Epoch 1810: 100%|██████████| 890/890 [00:04<00:00, 186.10it/s]\n",
      "Training Epoch 1811: 100%|██████████| 890/890 [00:04<00:00, 193.55it/s]\n"
     ]
    },
    {
     "name": "stdout",
     "output_type": "stream",
     "text": [
      "Epoch 1810 - Train Loss: 0.0580, Train MSE: 0.0581, Train MAE: 0.1820\n",
      "Epoch 1810 - Validation Loss: 0.9139, Validation MSE: 0.9160, Validation MAE: 0.7291\n"
     ]
    },
    {
     "name": "stderr",
     "output_type": "stream",
     "text": [
      "Training Epoch 1812: 100%|██████████| 890/890 [00:04<00:00, 190.57it/s]\n",
      "Training Epoch 1813: 100%|██████████| 890/890 [00:04<00:00, 191.80it/s]\n",
      "Training Epoch 1814: 100%|██████████| 890/890 [00:04<00:00, 186.72it/s]\n",
      "Training Epoch 1815: 100%|██████████| 890/890 [00:04<00:00, 188.67it/s]\n",
      "Training Epoch 1816: 100%|██████████| 890/890 [00:04<00:00, 189.75it/s]\n",
      "Training Epoch 1817: 100%|██████████| 890/890 [00:04<00:00, 189.99it/s]\n",
      "Training Epoch 1818: 100%|██████████| 890/890 [00:04<00:00, 193.69it/s]\n",
      "Training Epoch 1819: 100%|██████████| 890/890 [00:04<00:00, 186.62it/s]\n",
      "Training Epoch 1820: 100%|██████████| 890/890 [00:09<00:00, 93.11it/s] \n",
      "Training Epoch 1821: 100%|██████████| 890/890 [00:06<00:00, 133.82it/s]\n"
     ]
    },
    {
     "name": "stdout",
     "output_type": "stream",
     "text": [
      "Epoch 1820 - Train Loss: 0.0578, Train MSE: 0.0579, Train MAE: 0.1815\n",
      "Epoch 1820 - Validation Loss: 0.9047, Validation MSE: 0.9080, Validation MAE: 0.7266\n"
     ]
    },
    {
     "name": "stderr",
     "output_type": "stream",
     "text": [
      "Training Epoch 1822: 100%|██████████| 890/890 [00:04<00:00, 192.41it/s]\n",
      "Training Epoch 1823: 100%|██████████| 890/890 [00:04<00:00, 195.50it/s]\n",
      "Training Epoch 1824: 100%|██████████| 890/890 [00:04<00:00, 201.07it/s]\n",
      "Training Epoch 1825: 100%|██████████| 890/890 [00:04<00:00, 197.54it/s]\n",
      "Training Epoch 1826: 100%|██████████| 890/890 [00:04<00:00, 192.09it/s]\n",
      "Training Epoch 1827: 100%|██████████| 890/890 [00:04<00:00, 195.06it/s]\n",
      "Training Epoch 1828: 100%|██████████| 890/890 [00:04<00:00, 193.04it/s]\n",
      "Training Epoch 1829: 100%|██████████| 890/890 [16:29<00:00,  1.11s/it]  \n",
      "Training Epoch 1830: 100%|██████████| 890/890 [00:07<00:00, 124.37it/s]\n",
      "Training Epoch 1831: 100%|██████████| 890/890 [00:05<00:00, 176.08it/s]\n"
     ]
    },
    {
     "name": "stdout",
     "output_type": "stream",
     "text": [
      "Epoch 1830 - Train Loss: 0.0580, Train MSE: 0.0579, Train MAE: 0.1818\n",
      "Epoch 1830 - Validation Loss: 0.9102, Validation MSE: 0.9134, Validation MAE: 0.7274\n"
     ]
    },
    {
     "name": "stderr",
     "output_type": "stream",
     "text": [
      "Training Epoch 1832: 100%|██████████| 890/890 [00:05<00:00, 170.06it/s]\n",
      "Training Epoch 1833: 100%|██████████| 890/890 [00:05<00:00, 163.19it/s]\n",
      "Training Epoch 1834: 100%|██████████| 890/890 [00:05<00:00, 170.66it/s]\n",
      "Training Epoch 1835: 100%|██████████| 890/890 [00:05<00:00, 171.09it/s]\n",
      "Training Epoch 1836: 100%|██████████| 890/890 [00:05<00:00, 167.83it/s]\n",
      "Training Epoch 1837: 100%|██████████| 890/890 [09:26<00:00,  1.57it/s] \n",
      "Training Epoch 1838: 100%|██████████| 890/890 [00:05<00:00, 160.33it/s]\n",
      "Training Epoch 1839: 100%|██████████| 890/890 [00:05<00:00, 164.42it/s]\n",
      "Training Epoch 1840: 100%|██████████| 890/890 [16:59<00:00,  1.15s/it]  \n",
      "Training Epoch 1841: 100%|██████████| 890/890 [15:06<00:00,  1.02s/it]  \n"
     ]
    },
    {
     "name": "stdout",
     "output_type": "stream",
     "text": [
      "Epoch 1840 - Train Loss: 0.0575, Train MSE: 0.0575, Train MAE: 0.1816\n",
      "Epoch 1840 - Validation Loss: 0.9120, Validation MSE: 0.9149, Validation MAE: 0.7292\n"
     ]
    },
    {
     "name": "stderr",
     "output_type": "stream",
     "text": [
      "Training Epoch 1842: 100%|██████████| 890/890 [15:41<00:00,  1.06s/it]  \n",
      "Training Epoch 1843: 100%|██████████| 890/890 [16:28<00:00,  1.11s/it]  \n",
      "Training Epoch 1844: 100%|██████████| 890/890 [17:11<00:00,  1.16s/it]  \n",
      "Training Epoch 1845: 100%|██████████| 890/890 [00:07<00:00, 125.06it/s]\n",
      "Training Epoch 1846: 100%|██████████| 890/890 [15:13<00:00,  1.03s/it] \n",
      "Training Epoch 1847: 100%|██████████| 890/890 [15:22<00:00,  1.04s/it]  \n",
      "Training Epoch 1848: 100%|██████████| 890/890 [14:04<00:00,  1.05it/s]  \n",
      "Training Epoch 1849: 100%|██████████| 890/890 [17:15<00:00,  1.16s/it] \n",
      "Training Epoch 1850: 100%|██████████| 890/890 [15:06<00:00,  1.02s/it]  \n",
      "Training Epoch 1851: 100%|██████████| 890/890 [10:18<00:00,  1.44it/s] \n"
     ]
    },
    {
     "name": "stdout",
     "output_type": "stream",
     "text": [
      "Epoch 1850 - Train Loss: 0.0580, Train MSE: 0.0580, Train MAE: 0.1822\n",
      "Epoch 1850 - Validation Loss: 0.9000, Validation MSE: 0.9036, Validation MAE: 0.7260\n"
     ]
    },
    {
     "name": "stderr",
     "output_type": "stream",
     "text": [
      "Training Epoch 1852: 100%|██████████| 890/890 [17:01<00:00,  1.15s/it] \n",
      "Training Epoch 1853: 100%|██████████| 890/890 [01:16<00:00, 11.58it/s] \n",
      "Training Epoch 1854: 100%|██████████| 890/890 [00:05<00:00, 169.78it/s]\n",
      "Training Epoch 1855: 100%|██████████| 890/890 [16:36<00:00,  1.12s/it]  \n",
      "Training Epoch 1856: 100%|██████████| 890/890 [15:10<00:00,  1.02s/it]  \n",
      "Training Epoch 1857: 100%|██████████| 890/890 [16:28<00:00,  1.11s/it]  \n",
      "Training Epoch 1858: 100%|██████████| 890/890 [12:40<00:00,  1.17it/s]  \n",
      "Training Epoch 1859: 100%|██████████| 890/890 [15:40<00:00,  1.06s/it]  \n",
      "Training Epoch 1860: 100%|██████████| 890/890 [16:34<00:00,  1.12s/it]  \n",
      "Training Epoch 1861: 100%|██████████| 890/890 [18:02<00:00,  1.22s/it]  \n"
     ]
    },
    {
     "name": "stdout",
     "output_type": "stream",
     "text": [
      "Epoch 1860 - Train Loss: 0.0583, Train MSE: 0.0584, Train MAE: 0.1823\n",
      "Epoch 1860 - Validation Loss: 0.9046, Validation MSE: 0.9077, Validation MAE: 0.7259\n"
     ]
    },
    {
     "name": "stderr",
     "output_type": "stream",
     "text": [
      "Training Epoch 1862: 100%|██████████| 890/890 [15:54<00:00,  1.07s/it]  \n",
      "Training Epoch 1863: 100%|██████████| 890/890 [15:53<00:00,  1.07s/it]  \n",
      "Training Epoch 1864: 100%|██████████| 890/890 [00:05<00:00, 169.24it/s]\n",
      "Training Epoch 1865: 100%|██████████| 890/890 [15:08<00:00,  1.02s/it]  \n",
      "Training Epoch 1866: 100%|██████████| 890/890 [17:34<00:00,  1.18s/it]  \n",
      "Training Epoch 1867: 100%|██████████| 890/890 [16:17<00:00,  1.10s/it]  \n",
      "Training Epoch 1868: 100%|██████████| 890/890 [16:16<00:00,  1.10s/it] \n",
      "Training Epoch 1869: 100%|██████████| 890/890 [15:28<00:00,  1.04s/it] \n",
      "Training Epoch 1870: 100%|██████████| 890/890 [17:44<00:00,  1.20s/it]  \n",
      "Training Epoch 1871: 100%|██████████| 890/890 [15:20<00:00,  1.03s/it]  \n"
     ]
    },
    {
     "name": "stdout",
     "output_type": "stream",
     "text": [
      "Epoch 1870 - Train Loss: 0.0569, Train MSE: 0.0570, Train MAE: 0.1810\n",
      "Epoch 1870 - Validation Loss: 0.9097, Validation MSE: 0.9127, Validation MAE: 0.7275\n"
     ]
    },
    {
     "name": "stderr",
     "output_type": "stream",
     "text": [
      "Training Epoch 1872: 100%|██████████| 890/890 [14:55<00:00,  1.01s/it]  \n",
      "Training Epoch 1873: 100%|██████████| 890/890 [00:06<00:00, 139.41it/s]\n",
      "Training Epoch 1874: 100%|██████████| 890/890 [16:18<00:00,  1.10s/it]  \n",
      "Training Epoch 1875: 100%|██████████| 890/890 [16:39<00:00,  1.12s/it] \n",
      "Training Epoch 1876: 100%|██████████| 890/890 [15:37<00:00,  1.05s/it]  \n",
      "Training Epoch 1877: 100%|██████████| 890/890 [17:14<00:00,  1.16s/it]  \n",
      "Training Epoch 1878: 100%|██████████| 890/890 [17:18<00:00,  1.17s/it]  \n",
      "Training Epoch 1879: 100%|██████████| 890/890 [16:04<00:00,  1.08s/it]  \n",
      "Training Epoch 1880: 100%|██████████| 890/890 [03:56<00:00,  3.77it/s] \n",
      "Training Epoch 1881: 100%|██████████| 890/890 [17:27<00:00,  1.18s/it]  \n"
     ]
    },
    {
     "name": "stdout",
     "output_type": "stream",
     "text": [
      "Epoch 1880 - Train Loss: 0.0570, Train MSE: 0.0570, Train MAE: 0.1806\n",
      "Epoch 1880 - Validation Loss: 0.9025, Validation MSE: 0.9050, Validation MAE: 0.7249\n"
     ]
    },
    {
     "name": "stderr",
     "output_type": "stream",
     "text": [
      "Training Epoch 1882: 100%|██████████| 890/890 [14:38<00:00,  1.01it/s]  \n",
      "Training Epoch 1883: 100%|██████████| 890/890 [00:05<00:00, 176.15it/s]\n",
      "Training Epoch 1884: 100%|██████████| 890/890 [00:46<00:00, 19.06it/s] \n",
      "Training Epoch 1885: 100%|██████████| 890/890 [00:05<00:00, 163.33it/s]\n",
      "Training Epoch 1886: 100%|██████████| 890/890 [00:05<00:00, 174.99it/s]\n",
      "Training Epoch 1887: 100%|██████████| 890/890 [00:04<00:00, 184.07it/s]\n",
      "Training Epoch 1888: 100%|██████████| 890/890 [00:04<00:00, 184.29it/s]\n",
      "Training Epoch 1889: 100%|██████████| 890/890 [00:04<00:00, 192.66it/s]\n",
      "Training Epoch 1890: 100%|██████████| 890/890 [00:04<00:00, 192.53it/s]\n",
      "Training Epoch 1891: 100%|██████████| 890/890 [00:05<00:00, 174.00it/s]\n"
     ]
    },
    {
     "name": "stdout",
     "output_type": "stream",
     "text": [
      "Epoch 1890 - Train Loss: 0.0582, Train MSE: 0.0582, Train MAE: 0.1821\n",
      "Epoch 1890 - Validation Loss: 0.9059, Validation MSE: 0.9089, Validation MAE: 0.7268\n"
     ]
    },
    {
     "name": "stderr",
     "output_type": "stream",
     "text": [
      "Training Epoch 1892: 100%|██████████| 890/890 [00:04<00:00, 181.50it/s]\n",
      "Training Epoch 1893: 100%|██████████| 890/890 [00:04<00:00, 194.50it/s]\n",
      "Training Epoch 1894: 100%|██████████| 890/890 [00:04<00:00, 183.88it/s]\n",
      "Training Epoch 1895: 100%|██████████| 890/890 [00:04<00:00, 194.22it/s]\n",
      "Training Epoch 1896: 100%|██████████| 890/890 [00:04<00:00, 193.97it/s]\n",
      "Training Epoch 1897: 100%|██████████| 890/890 [00:04<00:00, 194.49it/s]\n",
      "Training Epoch 1898: 100%|██████████| 890/890 [00:04<00:00, 191.37it/s]\n",
      "Training Epoch 1899: 100%|██████████| 890/890 [00:04<00:00, 192.70it/s]\n",
      "Training Epoch 1900: 100%|██████████| 890/890 [00:04<00:00, 195.06it/s]\n",
      "Training Epoch 1901: 100%|██████████| 890/890 [00:04<00:00, 193.28it/s]\n"
     ]
    },
    {
     "name": "stdout",
     "output_type": "stream",
     "text": [
      "Epoch 1900 - Train Loss: 0.0581, Train MSE: 0.0581, Train MAE: 0.1817\n",
      "Epoch 1900 - Validation Loss: 0.9049, Validation MSE: 0.9073, Validation MAE: 0.7266\n"
     ]
    },
    {
     "name": "stderr",
     "output_type": "stream",
     "text": [
      "Training Epoch 1902: 100%|██████████| 890/890 [00:04<00:00, 200.40it/s]\n",
      "Training Epoch 1903: 100%|██████████| 890/890 [00:04<00:00, 193.43it/s]\n",
      "Training Epoch 1904: 100%|██████████| 890/890 [00:04<00:00, 194.65it/s]\n",
      "Training Epoch 1905: 100%|██████████| 890/890 [00:04<00:00, 194.46it/s]\n",
      "Training Epoch 1906: 100%|██████████| 890/890 [00:04<00:00, 188.93it/s]\n",
      "Training Epoch 1907: 100%|██████████| 890/890 [00:04<00:00, 192.69it/s]\n",
      "Training Epoch 1908: 100%|██████████| 890/890 [00:04<00:00, 199.17it/s]\n",
      "Training Epoch 1909: 100%|██████████| 890/890 [00:04<00:00, 192.61it/s]\n",
      "Training Epoch 1910: 100%|██████████| 890/890 [00:04<00:00, 193.41it/s]\n",
      "Training Epoch 1911: 100%|██████████| 890/890 [00:04<00:00, 191.93it/s]\n"
     ]
    },
    {
     "name": "stdout",
     "output_type": "stream",
     "text": [
      "Epoch 1910 - Train Loss: 0.0571, Train MSE: 0.0570, Train MAE: 0.1802\n",
      "Epoch 1910 - Validation Loss: 0.9079, Validation MSE: 0.9111, Validation MAE: 0.7271\n"
     ]
    },
    {
     "name": "stderr",
     "output_type": "stream",
     "text": [
      "Training Epoch 1912: 100%|██████████| 890/890 [00:04<00:00, 192.50it/s]\n",
      "Training Epoch 1913: 100%|██████████| 890/890 [00:04<00:00, 193.96it/s]\n",
      "Training Epoch 1914: 100%|██████████| 890/890 [00:04<00:00, 195.39it/s]\n",
      "Training Epoch 1915: 100%|██████████| 890/890 [00:04<00:00, 192.18it/s]\n",
      "Training Epoch 1916: 100%|██████████| 890/890 [00:04<00:00, 192.49it/s]\n",
      "Training Epoch 1917: 100%|██████████| 890/890 [00:04<00:00, 193.31it/s]\n",
      "Training Epoch 1918: 100%|██████████| 890/890 [00:04<00:00, 187.73it/s]\n",
      "Training Epoch 1919: 100%|██████████| 890/890 [00:04<00:00, 179.65it/s]\n",
      "Training Epoch 1920: 100%|██████████| 890/890 [00:04<00:00, 190.95it/s]\n",
      "Training Epoch 1921: 100%|██████████| 890/890 [00:04<00:00, 201.77it/s]\n"
     ]
    },
    {
     "name": "stdout",
     "output_type": "stream",
     "text": [
      "Epoch 1920 - Train Loss: 0.0565, Train MSE: 0.0566, Train MAE: 0.1795\n",
      "Epoch 1920 - Validation Loss: 0.9050, Validation MSE: 0.9080, Validation MAE: 0.7285\n"
     ]
    },
    {
     "name": "stderr",
     "output_type": "stream",
     "text": [
      "Training Epoch 1922: 100%|██████████| 890/890 [00:04<00:00, 194.09it/s]\n",
      "Training Epoch 1923: 100%|██████████| 890/890 [00:04<00:00, 190.69it/s]\n",
      "Training Epoch 1924: 100%|██████████| 890/890 [00:04<00:00, 188.68it/s]\n",
      "Training Epoch 1925: 100%|██████████| 890/890 [00:04<00:00, 185.75it/s]\n",
      "Training Epoch 1926: 100%|██████████| 890/890 [00:04<00:00, 185.74it/s]\n",
      "Training Epoch 1927: 100%|██████████| 890/890 [00:04<00:00, 182.38it/s]\n",
      "Training Epoch 1928: 100%|██████████| 890/890 [00:04<00:00, 178.17it/s]\n",
      "Training Epoch 1929: 100%|██████████| 890/890 [00:04<00:00, 185.18it/s]\n",
      "Training Epoch 1930: 100%|██████████| 890/890 [00:04<00:00, 182.34it/s]\n",
      "Training Epoch 1931: 100%|██████████| 890/890 [00:04<00:00, 181.97it/s]\n"
     ]
    },
    {
     "name": "stdout",
     "output_type": "stream",
     "text": [
      "Epoch 1930 - Train Loss: 0.0562, Train MSE: 0.0563, Train MAE: 0.1795\n",
      "Epoch 1930 - Validation Loss: 0.9024, Validation MSE: 0.9055, Validation MAE: 0.7257\n"
     ]
    },
    {
     "name": "stderr",
     "output_type": "stream",
     "text": [
      "Training Epoch 1932: 100%|██████████| 890/890 [00:04<00:00, 189.51it/s]\n",
      "Training Epoch 1933: 100%|██████████| 890/890 [00:04<00:00, 192.54it/s]\n",
      "Training Epoch 1934: 100%|██████████| 890/890 [00:04<00:00, 194.63it/s]\n",
      "Training Epoch 1935: 100%|██████████| 890/890 [00:04<00:00, 187.51it/s]\n",
      "Training Epoch 1936: 100%|██████████| 890/890 [00:04<00:00, 189.73it/s]\n",
      "Training Epoch 1937: 100%|██████████| 890/890 [00:04<00:00, 190.57it/s]\n",
      "Training Epoch 1938: 100%|██████████| 890/890 [00:04<00:00, 186.89it/s]\n",
      "Training Epoch 1939: 100%|██████████| 890/890 [00:04<00:00, 189.05it/s]\n",
      "Training Epoch 1940: 100%|██████████| 890/890 [00:04<00:00, 191.23it/s]\n",
      "Training Epoch 1941: 100%|██████████| 890/890 [00:04<00:00, 187.97it/s]\n"
     ]
    },
    {
     "name": "stdout",
     "output_type": "stream",
     "text": [
      "Epoch 1940 - Train Loss: 0.0552, Train MSE: 0.0551, Train MAE: 0.1784\n",
      "Epoch 1940 - Validation Loss: 0.9088, Validation MSE: 0.9117, Validation MAE: 0.7281\n"
     ]
    },
    {
     "name": "stderr",
     "output_type": "stream",
     "text": [
      "Training Epoch 1942: 100%|██████████| 890/890 [00:04<00:00, 188.68it/s]\n",
      "Training Epoch 1943: 100%|██████████| 890/890 [00:04<00:00, 190.29it/s]\n",
      "Training Epoch 1944: 100%|██████████| 890/890 [00:04<00:00, 190.54it/s]\n",
      "Training Epoch 1945: 100%|██████████| 890/890 [00:04<00:00, 186.60it/s]\n",
      "Training Epoch 1946: 100%|██████████| 890/890 [00:04<00:00, 193.84it/s]\n",
      "Training Epoch 1947: 100%|██████████| 890/890 [00:04<00:00, 190.54it/s]\n",
      "Training Epoch 1948: 100%|██████████| 890/890 [00:04<00:00, 191.00it/s]\n",
      "Training Epoch 1949: 100%|██████████| 890/890 [00:04<00:00, 189.09it/s]\n",
      "Training Epoch 1950: 100%|██████████| 890/890 [00:04<00:00, 192.01it/s]\n",
      "Training Epoch 1951: 100%|██████████| 890/890 [00:04<00:00, 188.45it/s]\n"
     ]
    },
    {
     "name": "stdout",
     "output_type": "stream",
     "text": [
      "Epoch 1950 - Train Loss: 0.0555, Train MSE: 0.0554, Train MAE: 0.1776\n",
      "Epoch 1950 - Validation Loss: 0.9050, Validation MSE: 0.9076, Validation MAE: 0.7257\n"
     ]
    },
    {
     "name": "stderr",
     "output_type": "stream",
     "text": [
      "Training Epoch 1952: 100%|██████████| 890/890 [00:04<00:00, 190.14it/s]\n",
      "Training Epoch 1953: 100%|██████████| 890/890 [00:04<00:00, 196.15it/s]\n",
      "Training Epoch 1954: 100%|██████████| 890/890 [00:04<00:00, 190.18it/s]\n",
      "Training Epoch 1955: 100%|██████████| 890/890 [00:04<00:00, 190.98it/s]\n",
      "Training Epoch 1956: 100%|██████████| 890/890 [00:04<00:00, 187.02it/s]\n",
      "Training Epoch 1957: 100%|██████████| 890/890 [00:04<00:00, 193.54it/s]\n",
      "Training Epoch 1958: 100%|██████████| 890/890 [00:04<00:00, 190.13it/s]\n",
      "Training Epoch 1959: 100%|██████████| 890/890 [00:04<00:00, 190.58it/s]\n",
      "Training Epoch 1960: 100%|██████████| 890/890 [04:13<00:00,  3.51it/s] \n",
      "Training Epoch 1961: 100%|██████████| 890/890 [00:05<00:00, 167.68it/s]\n"
     ]
    },
    {
     "name": "stdout",
     "output_type": "stream",
     "text": [
      "Epoch 1960 - Train Loss: 0.0576, Train MSE: 0.0576, Train MAE: 0.1804\n",
      "Epoch 1960 - Validation Loss: 0.9021, Validation MSE: 0.9048, Validation MAE: 0.7249\n"
     ]
    },
    {
     "name": "stderr",
     "output_type": "stream",
     "text": [
      "Training Epoch 1962: 100%|██████████| 890/890 [00:04<00:00, 196.02it/s]\n",
      "Training Epoch 1963: 100%|██████████| 890/890 [16:08<00:00,  1.09s/it]  \n",
      "Training Epoch 1964: 100%|██████████| 890/890 [05:04<00:00,  2.92it/s] \n",
      "Training Epoch 1965: 100%|██████████| 890/890 [00:04<00:00, 187.72it/s]\n",
      "Training Epoch 1966: 100%|██████████| 890/890 [00:04<00:00, 194.90it/s]\n",
      "Training Epoch 1967: 100%|██████████| 890/890 [00:04<00:00, 191.74it/s]\n",
      "Training Epoch 1968: 100%|██████████| 890/890 [00:04<00:00, 195.45it/s]\n",
      "Training Epoch 1969: 100%|██████████| 890/890 [00:04<00:00, 195.39it/s]\n",
      "Training Epoch 1970: 100%|██████████| 890/890 [00:04<00:00, 199.72it/s]\n",
      "Training Epoch 1971: 100%|██████████| 890/890 [00:04<00:00, 194.27it/s]\n"
     ]
    },
    {
     "name": "stdout",
     "output_type": "stream",
     "text": [
      "Epoch 1970 - Train Loss: 0.0556, Train MSE: 0.0554, Train MAE: 0.1791\n",
      "Epoch 1970 - Validation Loss: 0.9042, Validation MSE: 0.9072, Validation MAE: 0.7263\n"
     ]
    },
    {
     "name": "stderr",
     "output_type": "stream",
     "text": [
      "Training Epoch 1972: 100%|██████████| 890/890 [00:04<00:00, 197.45it/s]\n",
      "Training Epoch 1973: 100%|██████████| 890/890 [00:04<00:00, 193.32it/s]\n",
      "Training Epoch 1974: 100%|██████████| 890/890 [00:04<00:00, 196.56it/s]\n",
      "Training Epoch 1975: 100%|██████████| 890/890 [00:04<00:00, 195.12it/s]\n",
      "Training Epoch 1976: 100%|██████████| 890/890 [00:04<00:00, 193.63it/s]\n",
      "Training Epoch 1977: 100%|██████████| 890/890 [00:04<00:00, 193.03it/s]\n",
      "Training Epoch 1978: 100%|██████████| 890/890 [00:04<00:00, 194.58it/s]\n",
      "Training Epoch 1979: 100%|██████████| 890/890 [00:04<00:00, 197.16it/s]\n",
      "Training Epoch 1980: 100%|██████████| 890/890 [00:04<00:00, 193.72it/s]\n",
      "Training Epoch 1981: 100%|██████████| 890/890 [00:04<00:00, 192.82it/s]\n"
     ]
    },
    {
     "name": "stdout",
     "output_type": "stream",
     "text": [
      "Epoch 1980 - Train Loss: 0.0570, Train MSE: 0.0570, Train MAE: 0.1801\n",
      "Epoch 1980 - Validation Loss: 0.9048, Validation MSE: 0.9075, Validation MAE: 0.7270\n"
     ]
    },
    {
     "name": "stderr",
     "output_type": "stream",
     "text": [
      "Training Epoch 1982: 100%|██████████| 890/890 [00:04<00:00, 194.75it/s]\n",
      "Training Epoch 1983: 100%|██████████| 890/890 [00:04<00:00, 191.66it/s]\n",
      "Training Epoch 1984: 100%|██████████| 890/890 [00:04<00:00, 187.55it/s]\n",
      "Training Epoch 1985: 100%|██████████| 890/890 [00:04<00:00, 196.29it/s]\n",
      "Training Epoch 1986: 100%|██████████| 890/890 [00:04<00:00, 191.68it/s]\n",
      "Training Epoch 1987: 100%|██████████| 890/890 [00:04<00:00, 194.38it/s]\n",
      "Training Epoch 1988: 100%|██████████| 890/890 [00:04<00:00, 191.92it/s]\n",
      "Training Epoch 1989: 100%|██████████| 890/890 [00:04<00:00, 191.70it/s]\n",
      "Training Epoch 1990: 100%|██████████| 890/890 [00:04<00:00, 188.29it/s]\n",
      "Training Epoch 1991: 100%|██████████| 890/890 [00:04<00:00, 187.78it/s]\n"
     ]
    },
    {
     "name": "stdout",
     "output_type": "stream",
     "text": [
      "Epoch 1990 - Train Loss: 0.0563, Train MSE: 0.0563, Train MAE: 0.1799\n",
      "Epoch 1990 - Validation Loss: 0.9073, Validation MSE: 0.9099, Validation MAE: 0.7283\n"
     ]
    },
    {
     "name": "stderr",
     "output_type": "stream",
     "text": [
      "Training Epoch 1992: 100%|██████████| 890/890 [00:04<00:00, 195.95it/s]\n",
      "Training Epoch 1993: 100%|██████████| 890/890 [00:04<00:00, 191.53it/s]\n",
      "Training Epoch 1994: 100%|██████████| 890/890 [00:04<00:00, 189.47it/s]\n",
      "Training Epoch 1995: 100%|██████████| 890/890 [00:04<00:00, 185.93it/s]\n",
      "Training Epoch 1996: 100%|██████████| 890/890 [00:04<00:00, 188.65it/s]\n",
      "Training Epoch 1997: 100%|██████████| 890/890 [00:04<00:00, 189.62it/s]\n",
      "Training Epoch 1998: 100%|██████████| 890/890 [00:04<00:00, 193.95it/s]\n",
      "Training Epoch 1999: 100%|██████████| 890/890 [00:04<00:00, 191.96it/s]\n",
      "Training Epoch 2000: 100%|██████████| 890/890 [00:04<00:00, 186.70it/s]\n"
     ]
    },
    {
     "name": "stdout",
     "output_type": "stream",
     "text": [
      "Test MSE: 0.9136, Test MAE: 0.7210\n"
     ]
    }
   ],
   "source": [
    "import torch\n",
    "import torch.nn as nn\n",
    "import torch.optim as optim\n",
    "from tqdm import tqdm\n",
    "import pandas as pd\n",
    "from sklearn.metrics import r2_score, median_absolute_error, explained_variance_score\n",
    "from scipy.stats import pearsonr\n",
    "\n",
    "\n",
    "train_history = pd.DataFrame(columns=[  'epoch',\n",
    "    'Train Loss', 'Train MSE', 'Train MAE', 'Train RMSE', 'Train R2', 'Train Pearson', 'Train Median_AE', 'Train Explained_VAR'\n",
    "    'Val Loss', 'Val MSE', 'Val MAE', 'Val RMSE', 'Val R2', 'Val Pearson', 'Val Median_AE', 'Val Explained_VAR'])\n",
    "# Verify feature dimensions\n",
    "for batch in train_loader:\n",
    "    mol_input_dim = batch['metabolite_features'].shape[1]  # Dynamically determine mol input dimension\n",
    "    protein_input_dim = batch['protein_features'].shape[1]  # Dynamically determine protein input dimension\n",
    "    break\n",
    "\n",
    "# Initialize model, optimizer, and loss function\n",
    "num_timesteps = 10\n",
    "model = MLPRegressor(mol_input_dim=mol_input_dim, protein_input_dim=protein_input_dim,hidden_dim=512)\n",
    "model = model.to(device)\n",
    "optimizer = optim.Adam(model.parameters(), lr=0.0001)\n",
    "criterion = nn.MSELoss()\n",
    "\n",
    "# Training and Validation Loop\n",
    "for epoch in range(2000):\n",
    "    model.train()\n",
    "    total_loss = 0.0\n",
    "    val_total_loss = 0.0\n",
    "    train_predictions, train_labels = [], []\n",
    "\n",
    "    for batch in tqdm(train_loader, desc=f\"Training Epoch {epoch + 1}\"):\n",
    "        mol_features = batch['metabolite_features'].to(device)\n",
    "        protein_features = batch['protein_features'].to(device)\n",
    "        labels = batch['label'].to(device)\n",
    "\n",
    "        optimizer.zero_grad()\n",
    "        outputs = model(mol_features, protein_features)\n",
    "        loss = criterion(outputs, labels)\n",
    "        loss.backward()\n",
    "        optimizer.step()\n",
    "        total_loss += loss.item()\n",
    "\n",
    "        # Store predictions and labels for metrics\n",
    "        train_predictions.extend(outputs.detach().cpu().numpy())\n",
    "        train_labels.extend(labels.cpu().numpy())\n",
    "\n",
    "    # Calculate training metrics\n",
    "    train_mse = ((torch.tensor(train_predictions) - torch.tensor(train_labels))**2).mean().item()\n",
    "    train_mae = torch.abs(torch.tensor(train_predictions) - torch.tensor(train_labels)).mean().item()\n",
    "    train_rmse = torch.sqrt((torch.tensor(train_predictions) - torch.tensor(train_labels)) ** 2).mean().item()\n",
    "    train_r2 = r2_score(np.array(train_labels), np.array(train_predictions))\n",
    "    train_pearson_corr, _ = pearsonr(np.array(train_labels), np.array(train_predictions))\n",
    "    train_median_ae = median_absolute_error(np.array(train_labels), np.array(train_predictions))\n",
    "    train_explained_var = explained_variance_score(np.array(train_labels), np.array(train_predictions))\n",
    "\n",
    "\n",
    "\n",
    "    if epoch % 10 == 0:\n",
    "        print(f\"Epoch {epoch} - Train Loss: {total_loss / len(train_loader):.4f}, Train MSE: {train_mse:.4f}, Train MAE: {train_mae:.4f}\")\n",
    "\n",
    "    # Validation\n",
    "    model.eval()\n",
    "    val_predictions, val_labels = [], []\n",
    "    with torch.no_grad():\n",
    "        for batch in val_loader:\n",
    "            mol_features = batch['metabolite_features'].to(device)\n",
    "            protein_features = batch['protein_features'].to(device)\n",
    "            labels = batch['label'].to(device)\n",
    "\n",
    "            outputs = model(mol_features, protein_features)\n",
    "            val_predictions.extend(outputs.cpu().numpy())\n",
    "            val_labels.extend(labels.cpu().numpy())\n",
    "            val_loss = criterion(outputs, labels)\n",
    "            val_total_loss += val_loss.item()\n",
    "\n",
    "    val_mse = ((torch.tensor(val_predictions) - torch.tensor(val_labels))**2).mean().item()\n",
    "    val_mae = torch.abs(torch.tensor(val_predictions) - torch.tensor(val_labels)).mean().item()\n",
    "    val_rmse = torch.sqrt((torch.tensor(val_predictions) - torch.tensor(val_labels)) ** 2).mean().item()\n",
    "    val_r2 = r2_score(np.array(val_labels), np.array(val_predictions))\n",
    "    val_pearson_corr, _ = pearsonr(np.array(val_labels), np.array(val_predictions))\n",
    "    val_median_ae = median_absolute_error(np.array(val_labels), np.array(val_predictions))\n",
    "    val_explained_var = explained_variance_score(np.array(val_labels), np.array(val_predictions))\n",
    "\n",
    "    if epoch % 10 == 0:\n",
    "        print(f\"Epoch {epoch} - Validation Loss: {val_total_loss / len(val_loader):.4f}, Validation MSE: {val_mse:.4f}, Validation MAE: {val_mae:.4f}\")\n",
    "\n",
    "    # Save metrics to DataFrame\n",
    "    new_row = {'epoch': epoch + 1, 'Train Loss': total_loss / len(train_loader), 'Train MSE': train_mse, 'Train MAE': train_mae, 'Train RMSE': train_rmse, 'Train R2': train_r2, 'Train Pearson': train_pearson_corr, 'Train Median_AE': train_median_ae, 'Train Explained_VAR': train_explained_var, \n",
    "               'Val Loss': val_total_loss / len(val_loader), 'Val MSE': val_mse, 'Val MAE': val_mae, 'Val RMSE': val_rmse, 'Val R2': val_r2, 'Val Pearson': val_pearson_corr, 'Val Median_AE': val_median_ae, 'Val Explained_VAR': val_explained_var}\n",
    "    train_history = pd.concat([train_history, pd.DataFrame([new_row])], ignore_index=True)\n",
    "\n",
    "\n"
   ]
  },
  {
   "cell_type": "code",
   "execution_count": 10,
   "metadata": {},
   "outputs": [],
   "source": [
    "for batch in train_loader:\n",
    "    mol_input_dim = batch['metabolite_features'].shape[1]  # Dynamically determine mol input dimension\n",
    "    protein_input_dim = batch['protein_features'].shape[1]  # Dynamically determine protein input dimension\n",
    "    break\n",
    "\n",
    "model = MLPRegressor(mol_input_dim=mol_input_dim, protein_input_dim=protein_input_dim, hidden_dim=512)\n",
    "model.load_state_dict(torch.load('/Users/pinchichen/2025S lab/AI drug project/Catpred/Km/trained_model/cold_protein/MLP model_Catpred_Km_cold_protein.pt'))\n",
    "model = model.to(device)"
   ]
  },
  {
   "cell_type": "code",
   "execution_count": 11,
   "metadata": {},
   "outputs": [
    {
     "name": "stdout",
     "output_type": "stream",
     "text": [
      "Test MSE: 0.9136, Test RMSE: 0.955808801, Test MAE: 0.7210, Test R2: 0.4169, Test Pearson Correlation: 0.6500, Test Median AE: 0.5623, Test Explained Variance: 0.4175\n"
     ]
    }
   ],
   "source": [
    "from sklearn.metrics import mean_squared_error,mean_absolute_error,r2_score, median_absolute_error, explained_variance_score\n",
    "from scipy.stats import pearsonr\n",
    "# Test Metrics\n",
    "model.eval()\n",
    "test_predictions, test_labels = [], []\n",
    "with torch.no_grad():\n",
    "    for batch in test_loader:\n",
    "        mol_features = batch['metabolite_features'].to(device)\n",
    "        protein_features = batch['protein_features'].to(device)\n",
    "        labels = batch['label'].to(device)\n",
    "\n",
    "        outputs = model(mol_features, protein_features)\n",
    "        test_predictions.extend(outputs.cpu().numpy())\n",
    "        test_labels.extend(labels.cpu().numpy())\n",
    "\n",
    "test_mse = ((torch.tensor(test_predictions) - torch.tensor(test_labels))**2).mean().item()\n",
    "test_mae = torch.abs(torch.tensor(test_predictions) - torch.tensor(test_labels)).mean().item()\n",
    "test_rmse = np.sqrt(test_mse)\n",
    "test_r2 = r2_score(np.array(test_labels), np.array(test_predictions))\n",
    "test_pearson_corr, _ = pearsonr(np.array(test_labels), np.array(test_predictions))\n",
    "test_median_ae = median_absolute_error(np.array(test_labels), np.array(test_predictions))\n",
    "test_explained_var = explained_variance_score(np.array(test_labels), np.array(test_predictions))\n",
    "\n",
    "print(f\"Test MSE: {test_mse:.4f}, Test RMSE: {test_rmse:.9f}, Test MAE: {test_mae:.4f}, Test R2: {test_r2:.4f}, Test Pearson Correlation: {test_pearson_corr:.4f}, Test Median AE: {test_median_ae:.4f}, Test Explained Variance: {test_explained_var:.4f}\")"
   ]
  },
  {
   "cell_type": "code",
   "execution_count": 11,
   "metadata": {},
   "outputs": [],
   "source": [
    "\n",
    "def evaluate_model(predictions, labels):\n",
    "    mse = mean_squared_error(labels, predictions)\n",
    "    rmse = np.sqrt(mse)\n",
    "    mae = mean_absolute_error(labels, predictions)\n",
    "    r2 = r2_score(labels, predictions)\n",
    "    pearson_corr, _ = pearsonr(labels, predictions)\n",
    "    medae = median_absolute_error(labels, predictions)\n",
    "    evs = explained_variance_score(labels, predictions)\n",
    "\n",
    "    return mse, rmse, mae, r2, pearson_corr, medae, evs"
   ]
  },
  {
   "cell_type": "code",
   "execution_count": 12,
   "metadata": {},
   "outputs": [],
   "source": [
    "model.eval()\n",
    "train_pred, train_labels = [], []\n",
    "with torch.no_grad():\n",
    "    for batch in train_loader:\n",
    "        mol_features = batch['metabolite_features'].to(device)\n",
    "        protein_features = batch['protein_features'].to(device)\n",
    "        labels = batch['label'].to(device)\n",
    "\n",
    "        outputs = model(mol_features, protein_features)\n",
    "        train_pred.extend(outputs.cpu().numpy())\n",
    "        train_labels.extend(labels.cpu().numpy())\n",
    "\n",
    "train_mse, train_rmse, train_mae, train_r2, train_pearson_corr, train_median_ae, train_explained_var = evaluate_model(train_pred, train_labels)"
   ]
  },
  {
   "cell_type": "code",
   "execution_count": 13,
   "metadata": {},
   "outputs": [],
   "source": [
    "model.eval()\n",
    "val_pred, val_labels = [], []\n",
    "with torch.no_grad():\n",
    "    for batch in val_loader:\n",
    "        mol_features = batch['metabolite_features'].to(device)\n",
    "        protein_features = batch['protein_features'].to(device)\n",
    "        labels = batch['label'].to(device)\n",
    "\n",
    "        outputs = model(mol_features, protein_features)\n",
    "        val_pred.extend(outputs.cpu().numpy())\n",
    "        val_labels.extend(labels.cpu().numpy())\n",
    "\n",
    "val_mse, val_rmse, val_mae, val_r2, val_pearson_corr, val_median_ae, val_explained_var = evaluate_model(val_pred, val_labels)\n"
   ]
  },
  {
   "cell_type": "code",
   "execution_count": 14,
   "metadata": {},
   "outputs": [],
   "source": [
    "# append the performance to the csv file\n",
    "df = {\n",
    "    'Model':['MLP','MLP','MLP'],\n",
    "    'Dataset':['Train','Validation','Test'],\n",
    "    'MSE':[train_mse,val_mse,test_mse],\n",
    "    'RMSE':[train_rmse,val_rmse,test_rmse],\n",
    "    'MAE':[train_mae,val_mae,test_mae],\n",
    "    'R2':[train_r2,val_r2,test_r2],\n",
    "    'Pearson':[train_pearson_corr,val_pearson_corr,test_pearson_corr],\n",
    "    'Median_AE':[train_median_ae,val_median_ae,test_median_ae],\n",
    "    'Explained_VAR':[train_explained_var,val_explained_var,test_explained_var],\n",
    "    'Dataspliting Mode':['cold protein','cold protein','cold protein']\n",
    "}\n",
    "df = pd.DataFrame(df)\n",
    "\n",
    "df.to_csv('/Users/pinchichen/2025S lab/AI drug project/Catpred/Km/model performance metrics_Catpred_Km.csv', mode='a', header=False)"
   ]
  },
  {
   "cell_type": "code",
   "execution_count": 11,
   "metadata": {},
   "outputs": [],
   "source": [
    "# Save the model and training history\n",
    "save_dir = '/Users/pinchichen/2025S lab/AI drug project/Catpred/Km/trained_model/cold_protein'\n",
    "# save model weights and optimizer state\n",
    "torch.save(model.state_dict(), os.path.join(save_dir, 'MLP model_Catpred_Km_cold_protein.pt'))\n",
    "torch.save(optimizer.state_dict(), os.path.join(save_dir, 'MLP optimizer_Catpred_Km_cold_protein.pt'))"
   ]
  },
  {
   "cell_type": "code",
   "execution_count": 9,
   "metadata": {},
   "outputs": [],
   "source": [
    "import torch\n",
    "import torch.nn as nn\n",
    "import torch.optim as optim\n",
    "from tqdm import tqdm\n",
    "import pandas as pd\n",
    "from sklearn.metrics import r2_score, median_absolute_error, explained_variance_score\n",
    "from scipy.stats import pearsonr"
   ]
  },
  {
   "cell_type": "code",
   "execution_count": null,
   "metadata": {},
   "outputs": [
    {
     "name": "stderr",
     "output_type": "stream",
     "text": [
      "Training Epoch 1: 100%|██████████| 891/891 [00:04<00:00, 205.20it/s]\n"
     ]
    },
    {
     "name": "stdout",
     "output_type": "stream",
     "text": [
      "Epoch 0 - Train Loss: 1.1667, Train MSE: 1.1671, Train MAE: 0.8415\n"
     ]
    },
    {
     "name": "stderr",
     "output_type": "stream",
     "text": [
      "/var/folders/yz/c1z6m9_d5d3f80sywjc3rqsc0000gn/T/ipykernel_16496/650137755.py:82: FutureWarning: The behavior of DataFrame concatenation with empty or all-NA entries is deprecated. In a future version, this will no longer exclude empty or all-NA columns when determining the result dtypes. To retain the old behavior, exclude the relevant entries before the concat operation.\n",
      "  train_history_2 = pd.concat([train_history_2, pd.DataFrame([new_row])], ignore_index=True)\n"
     ]
    },
    {
     "name": "stdout",
     "output_type": "stream",
     "text": [
      "Epoch 0 - Validation Loss: 1.0324, Validation MSE: 1.0367, Validation MAE: 0.7868\n"
     ]
    },
    {
     "name": "stderr",
     "output_type": "stream",
     "text": [
      "Training Epoch 2: 100%|██████████| 891/891 [00:04<00:00, 216.37it/s]\n",
      "Training Epoch 3: 100%|██████████| 891/891 [00:04<00:00, 217.06it/s]\n",
      "Training Epoch 4: 100%|██████████| 891/891 [00:04<00:00, 214.48it/s]\n",
      "Training Epoch 5: 100%|██████████| 891/891 [00:04<00:00, 211.73it/s]\n",
      "Training Epoch 6: 100%|██████████| 891/891 [00:04<00:00, 214.68it/s]\n",
      "Training Epoch 7: 100%|██████████| 891/891 [00:04<00:00, 219.79it/s]\n",
      "Training Epoch 8: 100%|██████████| 891/891 [00:04<00:00, 210.85it/s]\n",
      "Training Epoch 9: 100%|██████████| 891/891 [00:04<00:00, 220.46it/s]\n",
      "Training Epoch 10: 100%|██████████| 891/891 [00:04<00:00, 214.87it/s]\n",
      "Training Epoch 11: 100%|██████████| 891/891 [00:04<00:00, 212.72it/s]\n"
     ]
    },
    {
     "name": "stdout",
     "output_type": "stream",
     "text": [
      "Epoch 10 - Train Loss: 0.7705, Train MSE: 0.7703, Train MAE: 0.6747\n",
      "Epoch 10 - Validation Loss: 0.9130, Validation MSE: 0.9157, Validation MAE: 0.7312\n"
     ]
    },
    {
     "name": "stderr",
     "output_type": "stream",
     "text": [
      "Training Epoch 12: 100%|██████████| 891/891 [00:04<00:00, 216.95it/s]\n",
      "Training Epoch 13: 100%|██████████| 891/891 [00:04<00:00, 215.24it/s]\n",
      "Training Epoch 14: 100%|██████████| 891/891 [00:04<00:00, 214.32it/s]\n",
      "Training Epoch 15: 100%|██████████| 891/891 [00:04<00:00, 214.30it/s]\n",
      "Training Epoch 16: 100%|██████████| 891/891 [00:04<00:00, 215.70it/s]\n",
      "Training Epoch 17: 100%|██████████| 891/891 [00:04<00:00, 216.74it/s]\n",
      "Training Epoch 18: 100%|██████████| 891/891 [00:04<00:00, 211.98it/s]\n",
      "Training Epoch 19: 100%|██████████| 891/891 [00:04<00:00, 211.24it/s]\n",
      "Training Epoch 20: 100%|██████████| 891/891 [00:04<00:00, 210.21it/s]\n",
      "Training Epoch 21: 100%|██████████| 891/891 [00:04<00:00, 181.69it/s]\n"
     ]
    },
    {
     "name": "stdout",
     "output_type": "stream",
     "text": [
      "Epoch 20 - Train Loss: 0.6242, Train MSE: 0.6244, Train MAE: 0.6065\n",
      "Epoch 20 - Validation Loss: 0.8647, Validation MSE: 0.8664, Validation MAE: 0.7154\n"
     ]
    },
    {
     "name": "stderr",
     "output_type": "stream",
     "text": [
      "Training Epoch 22: 100%|██████████| 891/891 [00:04<00:00, 203.39it/s]\n",
      "Training Epoch 23: 100%|██████████| 891/891 [00:04<00:00, 213.89it/s]\n",
      "Training Epoch 24: 100%|██████████| 891/891 [00:04<00:00, 221.82it/s]\n",
      "Training Epoch 25: 100%|██████████| 891/891 [00:04<00:00, 216.94it/s]\n",
      "Training Epoch 26: 100%|██████████| 891/891 [00:04<00:00, 214.87it/s]\n",
      "Training Epoch 27: 100%|██████████| 891/891 [00:04<00:00, 209.86it/s]\n",
      "Training Epoch 28: 100%|██████████| 891/891 [00:04<00:00, 216.90it/s]\n",
      "Training Epoch 29: 100%|██████████| 891/891 [00:04<00:00, 211.87it/s]\n",
      "Training Epoch 30: 100%|██████████| 891/891 [00:04<00:00, 208.68it/s]\n",
      "Training Epoch 31: 100%|██████████| 891/891 [00:04<00:00, 220.54it/s]\n"
     ]
    },
    {
     "name": "stdout",
     "output_type": "stream",
     "text": [
      "Epoch 30 - Train Loss: 0.5284, Train MSE: 0.5282, Train MAE: 0.5575\n",
      "Epoch 30 - Validation Loss: 0.8245, Validation MSE: 0.8249, Validation MAE: 0.6986\n"
     ]
    },
    {
     "name": "stderr",
     "output_type": "stream",
     "text": [
      "Training Epoch 32: 100%|██████████| 891/891 [00:04<00:00, 220.80it/s]\n",
      "Training Epoch 33: 100%|██████████| 891/891 [00:04<00:00, 218.21it/s]\n",
      "Training Epoch 34: 100%|██████████| 891/891 [00:04<00:00, 219.58it/s]\n",
      "Training Epoch 35: 100%|██████████| 891/891 [00:04<00:00, 206.50it/s]\n",
      "Training Epoch 36: 100%|██████████| 891/891 [00:04<00:00, 215.74it/s]\n",
      "Training Epoch 37: 100%|██████████| 891/891 [00:04<00:00, 219.55it/s]\n",
      "Training Epoch 38: 100%|██████████| 891/891 [00:04<00:00, 219.99it/s]\n",
      "Training Epoch 39: 100%|██████████| 891/891 [00:04<00:00, 221.51it/s]\n",
      "Training Epoch 40: 100%|██████████| 891/891 [00:04<00:00, 218.24it/s]\n",
      "Training Epoch 41: 100%|██████████| 891/891 [00:04<00:00, 220.44it/s]\n"
     ]
    },
    {
     "name": "stdout",
     "output_type": "stream",
     "text": [
      "Epoch 40 - Train Loss: 0.4539, Train MSE: 0.4527, Train MAE: 0.5157\n",
      "Epoch 40 - Validation Loss: 0.8464, Validation MSE: 0.8476, Validation MAE: 0.7050\n"
     ]
    },
    {
     "name": "stderr",
     "output_type": "stream",
     "text": [
      "Training Epoch 42: 100%|██████████| 891/891 [00:04<00:00, 220.98it/s]\n",
      "Training Epoch 43: 100%|██████████| 891/891 [00:04<00:00, 220.36it/s]\n",
      "Training Epoch 44: 100%|██████████| 891/891 [00:04<00:00, 217.60it/s]\n",
      "Training Epoch 45: 100%|██████████| 891/891 [00:04<00:00, 220.88it/s]\n",
      "Training Epoch 46: 100%|██████████| 891/891 [00:04<00:00, 220.50it/s]\n",
      "Training Epoch 47: 100%|██████████| 891/891 [00:04<00:00, 216.76it/s]\n",
      "Training Epoch 48: 100%|██████████| 891/891 [00:04<00:00, 216.47it/s]\n",
      "Training Epoch 49: 100%|██████████| 891/891 [00:04<00:00, 220.67it/s]\n",
      "Training Epoch 50: 100%|██████████| 891/891 [00:04<00:00, 220.10it/s]\n",
      "Training Epoch 51: 100%|██████████| 891/891 [00:04<00:00, 218.86it/s]\n"
     ]
    },
    {
     "name": "stdout",
     "output_type": "stream",
     "text": [
      "Epoch 50 - Train Loss: 0.3966, Train MSE: 0.3967, Train MAE: 0.4818\n",
      "Epoch 50 - Validation Loss: 0.8665, Validation MSE: 0.8666, Validation MAE: 0.7162\n"
     ]
    },
    {
     "name": "stderr",
     "output_type": "stream",
     "text": [
      "Training Epoch 52: 100%|██████████| 891/891 [00:04<00:00, 220.89it/s]\n",
      "Training Epoch 53: 100%|██████████| 891/891 [00:04<00:00, 220.93it/s]\n",
      "Training Epoch 54: 100%|██████████| 891/891 [00:04<00:00, 221.33it/s]\n",
      "Training Epoch 55: 100%|██████████| 891/891 [00:04<00:00, 217.37it/s]\n",
      "Training Epoch 56: 100%|██████████| 891/891 [00:04<00:00, 222.05it/s]\n",
      "Training Epoch 57: 100%|██████████| 891/891 [00:04<00:00, 220.74it/s]\n",
      "Training Epoch 58: 100%|██████████| 891/891 [00:04<00:00, 221.91it/s]\n",
      "Training Epoch 59: 100%|██████████| 891/891 [00:04<00:00, 217.55it/s]\n",
      "Training Epoch 60: 100%|██████████| 891/891 [00:04<00:00, 219.31it/s]\n",
      "Training Epoch 61: 100%|██████████| 891/891 [00:04<00:00, 209.11it/s]\n"
     ]
    },
    {
     "name": "stdout",
     "output_type": "stream",
     "text": [
      "Epoch 60 - Train Loss: 0.3558, Train MSE: 0.3555, Train MAE: 0.4568\n",
      "Epoch 60 - Validation Loss: 0.8405, Validation MSE: 0.8412, Validation MAE: 0.7020\n"
     ]
    },
    {
     "name": "stderr",
     "output_type": "stream",
     "text": [
      "Training Epoch 62: 100%|██████████| 891/891 [00:04<00:00, 212.81it/s]\n",
      "Training Epoch 63: 100%|██████████| 891/891 [00:04<00:00, 220.61it/s]\n",
      "Training Epoch 64: 100%|██████████| 891/891 [00:04<00:00, 217.17it/s]\n",
      "Training Epoch 65: 100%|██████████| 891/891 [00:04<00:00, 220.74it/s]\n",
      "Training Epoch 66: 100%|██████████| 891/891 [13:32<00:00,  1.10it/s]  \n",
      "Training Epoch 67: 100%|██████████| 891/891 [00:06<00:00, 134.60it/s]\n",
      "Training Epoch 68: 100%|██████████| 891/891 [00:04<00:00, 195.91it/s]\n",
      "Training Epoch 69: 100%|██████████| 891/891 [00:05<00:00, 177.15it/s]\n",
      "Training Epoch 70: 100%|██████████| 891/891 [00:04<00:00, 182.01it/s]\n",
      "Training Epoch 71: 100%|██████████| 891/891 [00:04<00:00, 184.69it/s]\n"
     ]
    },
    {
     "name": "stdout",
     "output_type": "stream",
     "text": [
      "Epoch 70 - Train Loss: 0.3248, Train MSE: 0.3248, Train MAE: 0.4349\n",
      "Epoch 70 - Validation Loss: 0.8560, Validation MSE: 0.8557, Validation MAE: 0.7026\n"
     ]
    },
    {
     "name": "stderr",
     "output_type": "stream",
     "text": [
      "Training Epoch 72: 100%|██████████| 891/891 [00:04<00:00, 180.92it/s]\n",
      "Training Epoch 73: 100%|██████████| 891/891 [00:04<00:00, 184.36it/s]\n",
      "Training Epoch 74: 100%|██████████| 891/891 [00:04<00:00, 182.07it/s]\n",
      "Training Epoch 75: 100%|██████████| 891/891 [06:46<00:00,  2.19it/s]  \n",
      "Training Epoch 76: 100%|██████████| 891/891 [00:05<00:00, 166.73it/s]\n",
      "Training Epoch 77: 100%|██████████| 891/891 [00:05<00:00, 171.21it/s]\n",
      "Training Epoch 78: 100%|██████████| 891/891 [00:05<00:00, 158.61it/s]\n",
      "Training Epoch 79: 100%|██████████| 891/891 [00:05<00:00, 172.15it/s]\n",
      "Training Epoch 80: 100%|██████████| 891/891 [00:05<00:00, 175.47it/s]\n",
      "Training Epoch 81: 100%|██████████| 891/891 [00:05<00:00, 176.42it/s]\n"
     ]
    },
    {
     "name": "stdout",
     "output_type": "stream",
     "text": [
      "Epoch 80 - Train Loss: 0.2992, Train MSE: 0.2993, Train MAE: 0.4179\n",
      "Epoch 80 - Validation Loss: 0.8427, Validation MSE: 0.8431, Validation MAE: 0.6980\n"
     ]
    },
    {
     "name": "stderr",
     "output_type": "stream",
     "text": [
      "Training Epoch 82: 100%|██████████| 891/891 [00:04<00:00, 179.48it/s]\n",
      "Training Epoch 83: 100%|██████████| 891/891 [00:05<00:00, 176.80it/s]\n",
      "Training Epoch 84: 100%|██████████| 891/891 [00:05<00:00, 173.03it/s]\n",
      "Training Epoch 85: 100%|██████████| 891/891 [00:05<00:00, 171.35it/s]\n",
      "Training Epoch 86: 100%|██████████| 891/891 [00:04<00:00, 180.46it/s]\n",
      "Training Epoch 87: 100%|██████████| 891/891 [00:04<00:00, 183.05it/s]\n",
      "Training Epoch 88: 100%|██████████| 891/891 [00:05<00:00, 177.71it/s]\n",
      "Training Epoch 89: 100%|██████████| 891/891 [00:04<00:00, 182.08it/s]\n",
      "Training Epoch 90: 100%|██████████| 891/891 [00:05<00:00, 177.61it/s]\n",
      "Training Epoch 91: 100%|██████████| 891/891 [00:04<00:00, 180.06it/s]\n"
     ]
    },
    {
     "name": "stdout",
     "output_type": "stream",
     "text": [
      "Epoch 90 - Train Loss: 0.2793, Train MSE: 0.2792, Train MAE: 0.4033\n",
      "Epoch 90 - Validation Loss: 0.8729, Validation MSE: 0.8734, Validation MAE: 0.7123\n"
     ]
    },
    {
     "name": "stderr",
     "output_type": "stream",
     "text": [
      "Training Epoch 92: 100%|██████████| 891/891 [00:04<00:00, 179.70it/s]\n",
      "Training Epoch 93: 100%|██████████| 891/891 [00:04<00:00, 181.72it/s]\n",
      "Training Epoch 94: 100%|██████████| 891/891 [00:04<00:00, 186.51it/s]\n",
      "Training Epoch 95: 100%|██████████| 891/891 [00:04<00:00, 180.71it/s]\n",
      "Training Epoch 96: 100%|██████████| 891/891 [00:04<00:00, 180.34it/s]\n",
      "Training Epoch 97: 100%|██████████| 891/891 [00:05<00:00, 176.62it/s]\n",
      "Training Epoch 98: 100%|██████████| 891/891 [00:04<00:00, 181.54it/s]\n",
      "Training Epoch 99: 100%|██████████| 891/891 [00:04<00:00, 182.34it/s]\n",
      "Training Epoch 100: 100%|██████████| 891/891 [00:04<00:00, 181.41it/s]\n",
      "Training Epoch 101: 100%|██████████| 891/891 [00:04<00:00, 181.14it/s]\n"
     ]
    },
    {
     "name": "stdout",
     "output_type": "stream",
     "text": [
      "Epoch 100 - Train Loss: 0.2584, Train MSE: 0.2585, Train MAE: 0.3890\n",
      "Epoch 100 - Validation Loss: 0.8834, Validation MSE: 0.8837, Validation MAE: 0.7141\n"
     ]
    },
    {
     "name": "stderr",
     "output_type": "stream",
     "text": [
      "Training Epoch 102: 100%|██████████| 891/891 [00:05<00:00, 177.37it/s]\n",
      "Training Epoch 103: 100%|██████████| 891/891 [00:04<00:00, 181.28it/s]\n",
      "Training Epoch 104: 100%|██████████| 891/891 [00:04<00:00, 180.23it/s]\n",
      "Training Epoch 105: 100%|██████████| 891/891 [00:05<00:00, 165.63it/s]\n",
      "Training Epoch 106: 100%|██████████| 891/891 [00:04<00:00, 183.24it/s]\n",
      "Training Epoch 107: 100%|██████████| 891/891 [00:04<00:00, 180.29it/s]\n",
      "Training Epoch 108: 100%|██████████| 891/891 [00:05<00:00, 176.73it/s]\n",
      "Training Epoch 109: 100%|██████████| 891/891 [00:04<00:00, 179.88it/s]\n",
      "Training Epoch 110: 100%|██████████| 891/891 [00:04<00:00, 180.06it/s]\n",
      "Training Epoch 111: 100%|██████████| 891/891 [00:05<00:00, 177.79it/s]\n"
     ]
    },
    {
     "name": "stdout",
     "output_type": "stream",
     "text": [
      "Epoch 110 - Train Loss: 0.2436, Train MSE: 0.2434, Train MAE: 0.3762\n",
      "Epoch 110 - Validation Loss: 0.8676, Validation MSE: 0.8691, Validation MAE: 0.7070\n"
     ]
    },
    {
     "name": "stderr",
     "output_type": "stream",
     "text": [
      "Training Epoch 112: 100%|██████████| 891/891 [00:04<00:00, 188.11it/s]\n",
      "Training Epoch 113: 100%|██████████| 891/891 [00:04<00:00, 181.71it/s]\n",
      "Training Epoch 114: 100%|██████████| 891/891 [00:04<00:00, 180.03it/s]\n",
      "Training Epoch 115: 100%|██████████| 891/891 [00:05<00:00, 174.95it/s]\n",
      "Training Epoch 116: 100%|██████████| 891/891 [00:05<00:00, 175.94it/s]\n",
      "Training Epoch 117: 100%|██████████| 891/891 [00:05<00:00, 172.84it/s]\n",
      "Training Epoch 118: 100%|██████████| 891/891 [00:04<00:00, 181.33it/s]\n",
      "Training Epoch 119: 100%|██████████| 891/891 [00:05<00:00, 176.98it/s]\n",
      "Training Epoch 120: 100%|██████████| 891/891 [00:04<00:00, 180.79it/s]\n",
      "Training Epoch 121: 100%|██████████| 891/891 [00:04<00:00, 179.42it/s]\n"
     ]
    },
    {
     "name": "stdout",
     "output_type": "stream",
     "text": [
      "Epoch 120 - Train Loss: 0.2287, Train MSE: 0.2288, Train MAE: 0.3652\n",
      "Epoch 120 - Validation Loss: 0.8842, Validation MSE: 0.8846, Validation MAE: 0.7156\n"
     ]
    },
    {
     "name": "stderr",
     "output_type": "stream",
     "text": [
      "Training Epoch 122: 100%|██████████| 891/891 [00:04<00:00, 180.73it/s]\n",
      "Training Epoch 123: 100%|██████████| 891/891 [00:04<00:00, 179.44it/s]\n",
      "Training Epoch 124: 100%|██████████| 891/891 [00:05<00:00, 169.84it/s]\n",
      "Training Epoch 125: 100%|██████████| 891/891 [00:05<00:00, 173.90it/s]\n",
      "Training Epoch 126: 100%|██████████| 891/891 [00:05<00:00, 176.88it/s]\n",
      "Training Epoch 127: 100%|██████████| 891/891 [00:04<00:00, 178.35it/s]\n",
      "Training Epoch 128: 100%|██████████| 891/891 [00:04<00:00, 179.82it/s]\n",
      "Training Epoch 129: 100%|██████████| 891/891 [00:05<00:00, 176.85it/s]\n",
      "Training Epoch 130: 100%|██████████| 891/891 [00:05<00:00, 175.73it/s]\n",
      "Training Epoch 131: 100%|██████████| 891/891 [00:05<00:00, 172.91it/s]\n"
     ]
    },
    {
     "name": "stdout",
     "output_type": "stream",
     "text": [
      "Epoch 130 - Train Loss: 0.2179, Train MSE: 0.2179, Train MAE: 0.3561\n",
      "Epoch 130 - Validation Loss: 0.8699, Validation MSE: 0.8705, Validation MAE: 0.7072\n"
     ]
    },
    {
     "name": "stderr",
     "output_type": "stream",
     "text": [
      "Training Epoch 132: 100%|██████████| 891/891 [00:05<00:00, 177.39it/s]\n",
      "Training Epoch 133: 100%|██████████| 891/891 [00:04<00:00, 178.95it/s]\n",
      "Training Epoch 134: 100%|██████████| 891/891 [00:05<00:00, 177.20it/s]\n",
      "Training Epoch 135: 100%|██████████| 891/891 [00:04<00:00, 182.35it/s]\n",
      "Training Epoch 136: 100%|██████████| 891/891 [00:05<00:00, 174.80it/s]\n",
      "Training Epoch 137: 100%|██████████| 891/891 [00:05<00:00, 175.92it/s]\n",
      "Training Epoch 138: 100%|██████████| 891/891 [00:05<00:00, 175.18it/s]\n",
      "Training Epoch 139: 100%|██████████| 891/891 [00:05<00:00, 177.06it/s]\n",
      "Training Epoch 140: 100%|██████████| 891/891 [00:04<00:00, 180.53it/s]\n",
      "Training Epoch 141: 100%|██████████| 891/891 [00:05<00:00, 175.17it/s]\n"
     ]
    },
    {
     "name": "stdout",
     "output_type": "stream",
     "text": [
      "Epoch 140 - Train Loss: 0.2091, Train MSE: 0.2090, Train MAE: 0.3495\n",
      "Epoch 140 - Validation Loss: 0.8850, Validation MSE: 0.8874, Validation MAE: 0.7096\n"
     ]
    },
    {
     "name": "stderr",
     "output_type": "stream",
     "text": [
      "Training Epoch 142: 100%|██████████| 891/891 [00:05<00:00, 173.70it/s]\n",
      "Training Epoch 143: 100%|██████████| 891/891 [00:05<00:00, 172.85it/s]\n",
      "Training Epoch 144: 100%|██████████| 891/891 [00:05<00:00, 176.95it/s]\n",
      "Training Epoch 145: 100%|██████████| 891/891 [00:05<00:00, 175.60it/s]\n",
      "Training Epoch 146: 100%|██████████| 891/891 [00:05<00:00, 177.40it/s]\n",
      "Training Epoch 147: 100%|██████████| 891/891 [00:05<00:00, 176.25it/s]\n",
      "Training Epoch 148: 100%|██████████| 891/891 [00:05<00:00, 176.83it/s]\n",
      "Training Epoch 149: 100%|██████████| 891/891 [00:05<00:00, 176.54it/s]\n",
      "Training Epoch 150: 100%|██████████| 891/891 [00:05<00:00, 177.38it/s]\n",
      "Training Epoch 151: 100%|██████████| 891/891 [00:05<00:00, 176.82it/s]\n"
     ]
    },
    {
     "name": "stdout",
     "output_type": "stream",
     "text": [
      "Epoch 150 - Train Loss: 0.2024, Train MSE: 0.2024, Train MAE: 0.3430\n",
      "Epoch 150 - Validation Loss: 0.8863, Validation MSE: 0.8867, Validation MAE: 0.7165\n"
     ]
    },
    {
     "name": "stderr",
     "output_type": "stream",
     "text": [
      "Training Epoch 152: 100%|██████████| 891/891 [00:05<00:00, 177.92it/s]\n",
      "Training Epoch 153: 100%|██████████| 891/891 [00:05<00:00, 174.68it/s]\n",
      "Training Epoch 154: 100%|██████████| 891/891 [00:05<00:00, 170.92it/s]\n",
      "Training Epoch 155: 100%|██████████| 891/891 [00:05<00:00, 176.72it/s]\n",
      "Training Epoch 156: 100%|██████████| 891/891 [00:05<00:00, 177.42it/s]\n",
      "Training Epoch 157: 100%|██████████| 891/891 [00:05<00:00, 176.38it/s]\n",
      "Training Epoch 158: 100%|██████████| 891/891 [00:05<00:00, 175.07it/s]\n",
      "Training Epoch 159: 100%|██████████| 891/891 [00:05<00:00, 177.96it/s]\n",
      "Training Epoch 160: 100%|██████████| 891/891 [00:05<00:00, 173.64it/s]\n",
      "Training Epoch 161: 100%|██████████| 891/891 [00:05<00:00, 173.29it/s]\n"
     ]
    },
    {
     "name": "stdout",
     "output_type": "stream",
     "text": [
      "Epoch 160 - Train Loss: 0.1966, Train MSE: 0.1967, Train MAE: 0.3381\n",
      "Epoch 160 - Validation Loss: 0.8549, Validation MSE: 0.8549, Validation MAE: 0.7035\n"
     ]
    },
    {
     "name": "stderr",
     "output_type": "stream",
     "text": [
      "Training Epoch 162: 100%|██████████| 891/891 [00:05<00:00, 176.84it/s]\n",
      "Training Epoch 163: 100%|██████████| 891/891 [00:05<00:00, 175.67it/s]\n",
      "Training Epoch 164: 100%|██████████| 891/891 [00:05<00:00, 165.04it/s]\n",
      "Training Epoch 165: 100%|██████████| 891/891 [00:05<00:00, 173.53it/s]\n",
      "Training Epoch 166: 100%|██████████| 891/891 [00:05<00:00, 173.89it/s]\n",
      "Training Epoch 167: 100%|██████████| 891/891 [00:05<00:00, 175.27it/s]\n",
      "Training Epoch 168: 100%|██████████| 891/891 [00:05<00:00, 176.14it/s]\n",
      "Training Epoch 169: 100%|██████████| 891/891 [00:05<00:00, 176.68it/s]\n",
      "Training Epoch 170: 100%|██████████| 891/891 [00:05<00:00, 175.47it/s]\n",
      "Training Epoch 171: 100%|██████████| 891/891 [00:04<00:00, 179.34it/s]\n"
     ]
    },
    {
     "name": "stdout",
     "output_type": "stream",
     "text": [
      "Epoch 170 - Train Loss: 0.1881, Train MSE: 0.1882, Train MAE: 0.3304\n",
      "Epoch 170 - Validation Loss: 0.8697, Validation MSE: 0.8701, Validation MAE: 0.7070\n"
     ]
    },
    {
     "name": "stderr",
     "output_type": "stream",
     "text": [
      "Training Epoch 172: 100%|██████████| 891/891 [00:05<00:00, 177.38it/s]\n",
      "Training Epoch 173: 100%|██████████| 891/891 [00:05<00:00, 175.32it/s]\n",
      "Training Epoch 174: 100%|██████████| 891/891 [00:05<00:00, 176.18it/s]\n",
      "Training Epoch 175: 100%|██████████| 891/891 [00:05<00:00, 174.52it/s]\n",
      "Training Epoch 176: 100%|██████████| 891/891 [00:04<00:00, 178.37it/s]\n",
      "Training Epoch 177: 100%|██████████| 891/891 [00:04<00:00, 178.33it/s]\n",
      "Training Epoch 178: 100%|██████████| 891/891 [00:05<00:00, 173.61it/s]\n",
      "Training Epoch 179: 100%|██████████| 891/891 [00:05<00:00, 175.16it/s]\n",
      "Training Epoch 180: 100%|██████████| 891/891 [00:04<00:00, 178.29it/s]\n",
      "Training Epoch 181: 100%|██████████| 891/891 [00:05<00:00, 171.88it/s]\n"
     ]
    },
    {
     "name": "stdout",
     "output_type": "stream",
     "text": [
      "Epoch 180 - Train Loss: 0.1799, Train MSE: 0.1800, Train MAE: 0.3218\n",
      "Epoch 180 - Validation Loss: 0.8806, Validation MSE: 0.8799, Validation MAE: 0.7087\n"
     ]
    },
    {
     "name": "stderr",
     "output_type": "stream",
     "text": [
      "Training Epoch 182: 100%|██████████| 891/891 [00:05<00:00, 173.65it/s]\n",
      "Training Epoch 183: 100%|██████████| 891/891 [00:05<00:00, 173.79it/s]\n",
      "Training Epoch 184: 100%|██████████| 891/891 [00:05<00:00, 171.39it/s]\n",
      "Training Epoch 185: 100%|██████████| 891/891 [00:04<00:00, 181.95it/s]\n",
      "Training Epoch 186: 100%|██████████| 891/891 [00:05<00:00, 175.85it/s]\n",
      "Training Epoch 187: 100%|██████████| 891/891 [00:05<00:00, 175.92it/s]\n",
      "Training Epoch 188: 100%|██████████| 891/891 [00:04<00:00, 179.51it/s]\n",
      "Training Epoch 189: 100%|██████████| 891/891 [00:04<00:00, 178.36it/s]\n",
      "Training Epoch 190: 100%|██████████| 891/891 [00:05<00:00, 177.29it/s]\n",
      "Training Epoch 191: 100%|██████████| 891/891 [00:04<00:00, 178.80it/s]\n"
     ]
    },
    {
     "name": "stdout",
     "output_type": "stream",
     "text": [
      "Epoch 190 - Train Loss: 0.1767, Train MSE: 0.1768, Train MAE: 0.3203\n",
      "Epoch 190 - Validation Loss: 0.8702, Validation MSE: 0.8704, Validation MAE: 0.7089\n"
     ]
    },
    {
     "name": "stderr",
     "output_type": "stream",
     "text": [
      "Training Epoch 192: 100%|██████████| 891/891 [00:05<00:00, 175.06it/s]\n",
      "Training Epoch 193: 100%|██████████| 891/891 [00:05<00:00, 175.97it/s]\n",
      "Training Epoch 194: 100%|██████████| 891/891 [00:05<00:00, 177.36it/s]\n",
      "Training Epoch 195: 100%|██████████| 891/891 [00:05<00:00, 175.89it/s]\n",
      "Training Epoch 196: 100%|██████████| 891/891 [00:05<00:00, 176.26it/s]\n",
      "Training Epoch 197: 100%|██████████| 891/891 [00:04<00:00, 178.69it/s]\n",
      "Training Epoch 198: 100%|██████████| 891/891 [00:05<00:00, 170.08it/s]\n",
      "Training Epoch 199: 100%|██████████| 891/891 [00:04<00:00, 179.10it/s]\n",
      "Training Epoch 200: 100%|██████████| 891/891 [00:04<00:00, 178.59it/s]\n",
      "Training Epoch 201: 100%|██████████| 891/891 [00:05<00:00, 173.40it/s]\n"
     ]
    },
    {
     "name": "stdout",
     "output_type": "stream",
     "text": [
      "Epoch 200 - Train Loss: 0.1717, Train MSE: 0.1716, Train MAE: 0.3161\n",
      "Epoch 200 - Validation Loss: 0.8581, Validation MSE: 0.8592, Validation MAE: 0.7036\n"
     ]
    },
    {
     "name": "stderr",
     "output_type": "stream",
     "text": [
      "Training Epoch 202: 100%|██████████| 891/891 [00:05<00:00, 175.29it/s]\n",
      "Training Epoch 203: 100%|██████████| 891/891 [00:05<00:00, 177.49it/s]\n",
      "Training Epoch 204: 100%|██████████| 891/891 [00:05<00:00, 175.48it/s]\n",
      "Training Epoch 205: 100%|██████████| 891/891 [00:05<00:00, 177.96it/s]\n",
      "Training Epoch 206: 100%|██████████| 891/891 [00:04<00:00, 178.37it/s]\n",
      "Training Epoch 207: 100%|██████████| 891/891 [00:05<00:00, 176.35it/s]\n",
      "Training Epoch 208: 100%|██████████| 891/891 [00:05<00:00, 177.84it/s]\n",
      "Training Epoch 209: 100%|██████████| 891/891 [00:05<00:00, 171.88it/s]\n",
      "Training Epoch 210: 100%|██████████| 891/891 [00:05<00:00, 171.84it/s]\n",
      "Training Epoch 211: 100%|██████████| 891/891 [00:05<00:00, 176.45it/s]\n"
     ]
    },
    {
     "name": "stdout",
     "output_type": "stream",
     "text": [
      "Epoch 210 - Train Loss: 0.1679, Train MSE: 0.1680, Train MAE: 0.3121\n",
      "Epoch 210 - Validation Loss: 0.8684, Validation MSE: 0.8696, Validation MAE: 0.7054\n"
     ]
    },
    {
     "name": "stderr",
     "output_type": "stream",
     "text": [
      "Training Epoch 212: 100%|██████████| 891/891 [00:05<00:00, 177.44it/s]\n",
      "Training Epoch 213: 100%|██████████| 891/891 [00:04<00:00, 182.66it/s]\n",
      "Training Epoch 214: 100%|██████████| 891/891 [00:04<00:00, 178.34it/s]\n",
      "Training Epoch 215: 100%|██████████| 891/891 [00:05<00:00, 173.33it/s]\n",
      "Training Epoch 216: 100%|██████████| 891/891 [00:05<00:00, 171.62it/s]\n",
      "Training Epoch 217: 100%|██████████| 891/891 [00:04<00:00, 178.87it/s]\n",
      "Training Epoch 218: 100%|██████████| 891/891 [00:04<00:00, 178.90it/s]\n",
      "Training Epoch 219: 100%|██████████| 891/891 [00:05<00:00, 177.07it/s]\n",
      "Training Epoch 220: 100%|██████████| 891/891 [00:05<00:00, 171.29it/s]\n",
      "Training Epoch 221: 100%|██████████| 891/891 [00:05<00:00, 178.12it/s]\n"
     ]
    },
    {
     "name": "stdout",
     "output_type": "stream",
     "text": [
      "Epoch 220 - Train Loss: 0.1630, Train MSE: 0.1630, Train MAE: 0.3070\n",
      "Epoch 220 - Validation Loss: 0.8607, Validation MSE: 0.8613, Validation MAE: 0.7017\n"
     ]
    },
    {
     "name": "stderr",
     "output_type": "stream",
     "text": [
      "Training Epoch 222: 100%|██████████| 891/891 [00:05<00:00, 175.71it/s]\n",
      "Training Epoch 223: 100%|██████████| 891/891 [00:05<00:00, 177.56it/s]\n",
      "Training Epoch 224: 100%|██████████| 891/891 [00:05<00:00, 178.10it/s]\n",
      "Training Epoch 225: 100%|██████████| 891/891 [00:05<00:00, 177.47it/s]\n",
      "Training Epoch 226: 100%|██████████| 891/891 [00:05<00:00, 175.91it/s]\n",
      "Training Epoch 227: 100%|██████████| 891/891 [00:04<00:00, 181.56it/s]\n",
      "Training Epoch 228: 100%|██████████| 891/891 [00:05<00:00, 175.77it/s]\n",
      "Training Epoch 229: 100%|██████████| 891/891 [00:05<00:00, 176.88it/s]\n",
      "Training Epoch 230: 100%|██████████| 891/891 [00:05<00:00, 177.22it/s]\n",
      "Training Epoch 231: 100%|██████████| 891/891 [00:05<00:00, 175.90it/s]\n"
     ]
    },
    {
     "name": "stdout",
     "output_type": "stream",
     "text": [
      "Epoch 230 - Train Loss: 0.1550, Train MSE: 0.1550, Train MAE: 0.2992\n",
      "Epoch 230 - Validation Loss: 0.8710, Validation MSE: 0.8706, Validation MAE: 0.7051\n"
     ]
    },
    {
     "name": "stderr",
     "output_type": "stream",
     "text": [
      "Training Epoch 232: 100%|██████████| 891/891 [00:05<00:00, 172.18it/s]\n",
      "Training Epoch 233: 100%|██████████| 891/891 [00:05<00:00, 177.53it/s]\n",
      "Training Epoch 234: 100%|██████████| 891/891 [00:04<00:00, 178.84it/s]\n",
      "Training Epoch 235: 100%|██████████| 891/891 [00:05<00:00, 173.61it/s]\n",
      "Training Epoch 236: 100%|██████████| 891/891 [00:05<00:00, 175.70it/s]\n",
      "Training Epoch 237: 100%|██████████| 891/891 [00:04<00:00, 178.39it/s]\n",
      "Training Epoch 238: 100%|██████████| 891/891 [00:05<00:00, 177.00it/s]\n",
      "Training Epoch 239: 100%|██████████| 891/891 [00:04<00:00, 180.87it/s]\n",
      "Training Epoch 240: 100%|██████████| 891/891 [00:05<00:00, 176.78it/s]\n",
      "Training Epoch 241: 100%|██████████| 891/891 [00:05<00:00, 172.31it/s]\n"
     ]
    },
    {
     "name": "stdout",
     "output_type": "stream",
     "text": [
      "Epoch 240 - Train Loss: 0.1542, Train MSE: 0.1541, Train MAE: 0.2983\n",
      "Epoch 240 - Validation Loss: 0.8775, Validation MSE: 0.8775, Validation MAE: 0.7087\n"
     ]
    },
    {
     "name": "stderr",
     "output_type": "stream",
     "text": [
      "Training Epoch 242: 100%|██████████| 891/891 [00:05<00:00, 175.35it/s]\n",
      "Training Epoch 243: 100%|██████████| 891/891 [00:05<00:00, 170.07it/s]\n",
      "Training Epoch 244: 100%|██████████| 891/891 [00:05<00:00, 173.65it/s]\n",
      "Training Epoch 245: 100%|██████████| 891/891 [00:04<00:00, 178.78it/s]\n",
      "Training Epoch 246: 100%|██████████| 891/891 [00:05<00:00, 177.75it/s]\n",
      "Training Epoch 247: 100%|██████████| 891/891 [00:05<00:00, 176.63it/s]\n",
      "Training Epoch 248: 100%|██████████| 891/891 [00:05<00:00, 174.96it/s]\n",
      "Training Epoch 249: 100%|██████████| 891/891 [00:05<00:00, 177.17it/s]\n",
      "Training Epoch 250: 100%|██████████| 891/891 [00:04<00:00, 180.79it/s]\n",
      "Training Epoch 251: 100%|██████████| 891/891 [00:05<00:00, 176.44it/s]\n"
     ]
    },
    {
     "name": "stdout",
     "output_type": "stream",
     "text": [
      "Epoch 250 - Train Loss: 0.1510, Train MSE: 0.1510, Train MAE: 0.2962\n",
      "Epoch 250 - Validation Loss: 0.8838, Validation MSE: 0.8841, Validation MAE: 0.7108\n"
     ]
    },
    {
     "name": "stderr",
     "output_type": "stream",
     "text": [
      "Training Epoch 252: 100%|██████████| 891/891 [00:05<00:00, 174.50it/s]\n",
      "Training Epoch 253: 100%|██████████| 891/891 [00:05<00:00, 175.17it/s]\n",
      "Training Epoch 254: 100%|██████████| 891/891 [00:05<00:00, 171.92it/s]\n",
      "Training Epoch 255: 100%|██████████| 891/891 [00:05<00:00, 172.65it/s]\n",
      "Training Epoch 256: 100%|██████████| 891/891 [00:05<00:00, 177.35it/s]\n",
      "Training Epoch 257: 100%|██████████| 891/891 [00:05<00:00, 171.75it/s]\n",
      "Training Epoch 258: 100%|██████████| 891/891 [00:05<00:00, 175.09it/s]\n",
      "Training Epoch 259: 100%|██████████| 891/891 [00:05<00:00, 177.74it/s]\n",
      "Training Epoch 260: 100%|██████████| 891/891 [00:05<00:00, 174.93it/s]\n",
      "Training Epoch 261: 100%|██████████| 891/891 [00:05<00:00, 175.58it/s]\n"
     ]
    },
    {
     "name": "stdout",
     "output_type": "stream",
     "text": [
      "Epoch 260 - Train Loss: 0.1484, Train MSE: 0.1483, Train MAE: 0.2924\n",
      "Epoch 260 - Validation Loss: 0.8827, Validation MSE: 0.8839, Validation MAE: 0.7091\n"
     ]
    },
    {
     "name": "stderr",
     "output_type": "stream",
     "text": [
      "Training Epoch 262: 100%|██████████| 891/891 [00:05<00:00, 175.32it/s]\n",
      "Training Epoch 263: 100%|██████████| 891/891 [00:05<00:00, 177.84it/s]\n",
      "Training Epoch 264: 100%|██████████| 891/891 [00:05<00:00, 176.37it/s]\n",
      "Training Epoch 265: 100%|██████████| 891/891 [00:05<00:00, 172.12it/s]\n",
      "Training Epoch 266: 100%|██████████| 891/891 [00:05<00:00, 172.22it/s]\n",
      "Training Epoch 267: 100%|██████████| 891/891 [00:05<00:00, 174.70it/s]\n",
      "Training Epoch 268: 100%|██████████| 891/891 [00:05<00:00, 176.17it/s]\n",
      "Training Epoch 269: 100%|██████████| 891/891 [00:05<00:00, 177.85it/s]\n",
      "Training Epoch 270: 100%|██████████| 891/891 [00:05<00:00, 177.69it/s]\n",
      "Training Epoch 271: 100%|██████████| 891/891 [00:05<00:00, 177.81it/s]\n"
     ]
    },
    {
     "name": "stdout",
     "output_type": "stream",
     "text": [
      "Epoch 270 - Train Loss: 0.1432, Train MSE: 0.1431, Train MAE: 0.2879\n",
      "Epoch 270 - Validation Loss: 0.8859, Validation MSE: 0.8864, Validation MAE: 0.7099\n"
     ]
    },
    {
     "name": "stderr",
     "output_type": "stream",
     "text": [
      "Training Epoch 272: 100%|██████████| 891/891 [00:05<00:00, 178.17it/s]\n",
      "Training Epoch 273: 100%|██████████| 891/891 [00:05<00:00, 177.22it/s]\n",
      "Training Epoch 274: 100%|██████████| 891/891 [00:05<00:00, 177.89it/s]\n",
      "Training Epoch 275: 100%|██████████| 891/891 [00:04<00:00, 178.69it/s]\n",
      "Training Epoch 276: 100%|██████████| 891/891 [00:05<00:00, 170.78it/s]\n",
      "Training Epoch 277: 100%|██████████| 891/891 [00:05<00:00, 176.61it/s]\n",
      "Training Epoch 278: 100%|██████████| 891/891 [00:04<00:00, 180.20it/s]\n",
      "Training Epoch 279: 100%|██████████| 891/891 [00:04<00:00, 180.92it/s]\n",
      "Training Epoch 280: 100%|██████████| 891/891 [00:04<00:00, 179.61it/s]\n",
      "Training Epoch 281: 100%|██████████| 891/891 [00:04<00:00, 180.89it/s]\n"
     ]
    },
    {
     "name": "stdout",
     "output_type": "stream",
     "text": [
      "Epoch 280 - Train Loss: 0.1394, Train MSE: 0.1394, Train MAE: 0.2846\n",
      "Epoch 280 - Validation Loss: 0.8590, Validation MSE: 0.8608, Validation MAE: 0.7000\n"
     ]
    },
    {
     "name": "stderr",
     "output_type": "stream",
     "text": [
      "Training Epoch 282: 100%|██████████| 891/891 [00:05<00:00, 176.19it/s]\n",
      "Training Epoch 283: 100%|██████████| 891/891 [00:04<00:00, 178.79it/s]\n",
      "Training Epoch 284: 100%|██████████| 891/891 [00:04<00:00, 178.61it/s]\n",
      "Training Epoch 285: 100%|██████████| 891/891 [00:04<00:00, 179.20it/s]\n",
      "Training Epoch 286: 100%|██████████| 891/891 [00:04<00:00, 178.51it/s]\n",
      "Training Epoch 287: 100%|██████████| 891/891 [00:05<00:00, 174.61it/s]\n",
      "Training Epoch 288: 100%|██████████| 891/891 [00:05<00:00, 171.32it/s]\n",
      "Training Epoch 289: 100%|██████████| 891/891 [00:04<00:00, 178.37it/s]\n",
      "Training Epoch 290: 100%|██████████| 891/891 [00:05<00:00, 177.78it/s]\n",
      "Training Epoch 291: 100%|██████████| 891/891 [00:04<00:00, 179.76it/s]\n"
     ]
    },
    {
     "name": "stdout",
     "output_type": "stream",
     "text": [
      "Epoch 290 - Train Loss: 0.1398, Train MSE: 0.1397, Train MAE: 0.2824\n",
      "Epoch 290 - Validation Loss: 0.8858, Validation MSE: 0.8854, Validation MAE: 0.7104\n"
     ]
    },
    {
     "name": "stderr",
     "output_type": "stream",
     "text": [
      "Training Epoch 292: 100%|██████████| 891/891 [00:04<00:00, 178.81it/s]\n",
      "Training Epoch 293: 100%|██████████| 891/891 [00:04<00:00, 178.60it/s]\n",
      "Training Epoch 294: 100%|██████████| 891/891 [00:05<00:00, 172.16it/s]\n",
      "Training Epoch 295: 100%|██████████| 891/891 [00:05<00:00, 177.34it/s]\n",
      "Training Epoch 296: 100%|██████████| 891/891 [00:05<00:00, 177.66it/s]\n",
      "Training Epoch 297: 100%|██████████| 891/891 [00:05<00:00, 174.25it/s]\n",
      "Training Epoch 298: 100%|██████████| 891/891 [00:05<00:00, 175.24it/s]\n",
      "Training Epoch 299: 100%|██████████| 891/891 [00:05<00:00, 170.13it/s]\n",
      "Training Epoch 300: 100%|██████████| 891/891 [00:05<00:00, 174.01it/s]\n",
      "Training Epoch 301: 100%|██████████| 891/891 [00:05<00:00, 177.73it/s]\n"
     ]
    },
    {
     "name": "stdout",
     "output_type": "stream",
     "text": [
      "Epoch 300 - Train Loss: 0.1339, Train MSE: 0.1338, Train MAE: 0.2773\n",
      "Epoch 300 - Validation Loss: 0.8733, Validation MSE: 0.8745, Validation MAE: 0.7076\n"
     ]
    },
    {
     "name": "stderr",
     "output_type": "stream",
     "text": [
      "Training Epoch 302: 100%|██████████| 891/891 [00:04<00:00, 180.16it/s]\n",
      "Training Epoch 303: 100%|██████████| 891/891 [00:05<00:00, 175.23it/s]\n",
      "Training Epoch 304: 100%|██████████| 891/891 [00:04<00:00, 178.40it/s]\n",
      "Training Epoch 305: 100%|██████████| 891/891 [00:05<00:00, 176.93it/s]\n",
      "Training Epoch 306: 100%|██████████| 891/891 [00:05<00:00, 174.48it/s]\n",
      "Training Epoch 307: 100%|██████████| 891/891 [00:05<00:00, 176.76it/s]\n",
      "Training Epoch 308: 100%|██████████| 891/891 [00:05<00:00, 176.77it/s]\n",
      "Training Epoch 309: 100%|██████████| 891/891 [00:05<00:00, 174.89it/s]\n",
      "Training Epoch 310: 100%|██████████| 891/891 [00:05<00:00, 173.59it/s]\n",
      "Training Epoch 311: 100%|██████████| 891/891 [00:05<00:00, 171.18it/s]\n"
     ]
    },
    {
     "name": "stdout",
     "output_type": "stream",
     "text": [
      "Epoch 310 - Train Loss: 0.1332, Train MSE: 0.1332, Train MAE: 0.2770\n",
      "Epoch 310 - Validation Loss: 0.8627, Validation MSE: 0.8643, Validation MAE: 0.7010\n"
     ]
    },
    {
     "name": "stderr",
     "output_type": "stream",
     "text": [
      "Training Epoch 312: 100%|██████████| 891/891 [00:05<00:00, 170.01it/s]\n",
      "Training Epoch 313: 100%|██████████| 891/891 [00:05<00:00, 169.58it/s]\n",
      "Training Epoch 314: 100%|██████████| 891/891 [00:05<00:00, 170.19it/s]\n",
      "Training Epoch 315: 100%|██████████| 891/891 [00:05<00:00, 175.84it/s]\n",
      "Training Epoch 316: 100%|██████████| 891/891 [00:05<00:00, 174.46it/s]\n",
      "Training Epoch 317: 100%|██████████| 891/891 [00:05<00:00, 176.16it/s]\n",
      "Training Epoch 318: 100%|██████████| 891/891 [00:05<00:00, 177.01it/s]\n",
      "Training Epoch 319: 100%|██████████| 891/891 [00:05<00:00, 174.77it/s]\n",
      "Training Epoch 320: 100%|██████████| 891/891 [00:05<00:00, 177.76it/s]\n",
      "Training Epoch 321: 100%|██████████| 891/891 [00:05<00:00, 172.64it/s]\n"
     ]
    },
    {
     "name": "stdout",
     "output_type": "stream",
     "text": [
      "Epoch 320 - Train Loss: 0.1312, Train MSE: 0.1312, Train MAE: 0.2743\n",
      "Epoch 320 - Validation Loss: 0.8941, Validation MSE: 0.8936, Validation MAE: 0.7123\n"
     ]
    },
    {
     "name": "stderr",
     "output_type": "stream",
     "text": [
      "Training Epoch 322: 100%|██████████| 891/891 [00:05<00:00, 173.29it/s]\n",
      "Training Epoch 323: 100%|██████████| 891/891 [00:05<00:00, 176.45it/s]\n",
      "Training Epoch 324: 100%|██████████| 891/891 [00:04<00:00, 182.06it/s]\n",
      "Training Epoch 325: 100%|██████████| 891/891 [00:04<00:00, 179.08it/s]\n",
      "Training Epoch 326: 100%|██████████| 891/891 [00:05<00:00, 176.27it/s]\n",
      "Training Epoch 327: 100%|██████████| 891/891 [00:05<00:00, 176.69it/s]\n",
      "Training Epoch 328: 100%|██████████| 891/891 [00:05<00:00, 174.89it/s]\n",
      "Training Epoch 329: 100%|██████████| 891/891 [00:05<00:00, 174.96it/s]\n",
      "Training Epoch 330: 100%|██████████| 891/891 [00:05<00:00, 175.48it/s]\n",
      "Training Epoch 331: 100%|██████████| 891/891 [00:05<00:00, 176.73it/s]\n"
     ]
    },
    {
     "name": "stdout",
     "output_type": "stream",
     "text": [
      "Epoch 330 - Train Loss: 0.1298, Train MSE: 0.1298, Train MAE: 0.2724\n",
      "Epoch 330 - Validation Loss: 0.8743, Validation MSE: 0.8756, Validation MAE: 0.7050\n"
     ]
    },
    {
     "name": "stderr",
     "output_type": "stream",
     "text": [
      "Training Epoch 332: 100%|██████████| 891/891 [00:05<00:00, 173.67it/s]\n",
      "Training Epoch 333: 100%|██████████| 891/891 [00:05<00:00, 173.81it/s]\n",
      "Training Epoch 334: 100%|██████████| 891/891 [00:05<00:00, 177.59it/s]\n",
      "Training Epoch 335: 100%|██████████| 891/891 [00:05<00:00, 174.53it/s]\n",
      "Training Epoch 336: 100%|██████████| 891/891 [00:05<00:00, 174.48it/s]\n",
      "Training Epoch 337: 100%|██████████| 891/891 [00:05<00:00, 175.18it/s]\n",
      "Training Epoch 338: 100%|██████████| 891/891 [00:05<00:00, 176.23it/s]\n",
      "Training Epoch 339: 100%|██████████| 891/891 [00:05<00:00, 177.49it/s]\n",
      "Training Epoch 340: 100%|██████████| 891/891 [00:04<00:00, 178.68it/s]\n",
      "Training Epoch 341: 100%|██████████| 891/891 [00:04<00:00, 178.37it/s]\n"
     ]
    },
    {
     "name": "stdout",
     "output_type": "stream",
     "text": [
      "Epoch 340 - Train Loss: 0.1277, Train MSE: 0.1276, Train MAE: 0.2711\n",
      "Epoch 340 - Validation Loss: 0.8787, Validation MSE: 0.8791, Validation MAE: 0.7075\n"
     ]
    },
    {
     "name": "stderr",
     "output_type": "stream",
     "text": [
      "Training Epoch 342: 100%|██████████| 891/891 [00:05<00:00, 176.90it/s]\n",
      "Training Epoch 343: 100%|██████████| 891/891 [00:05<00:00, 176.08it/s]\n",
      "Training Epoch 344: 100%|██████████| 891/891 [00:05<00:00, 167.05it/s]\n",
      "Training Epoch 345: 100%|██████████| 891/891 [00:05<00:00, 177.14it/s]\n",
      "Training Epoch 346: 100%|██████████| 891/891 [00:05<00:00, 175.54it/s]\n",
      "Training Epoch 347: 100%|██████████| 891/891 [00:05<00:00, 176.04it/s]\n",
      "Training Epoch 348: 100%|██████████| 891/891 [00:05<00:00, 173.22it/s]\n",
      "Training Epoch 349: 100%|██████████| 891/891 [00:05<00:00, 172.85it/s]\n",
      "Training Epoch 350: 100%|██████████| 891/891 [00:05<00:00, 173.45it/s]\n",
      "Training Epoch 351: 100%|██████████| 891/891 [00:04<00:00, 179.25it/s]\n"
     ]
    },
    {
     "name": "stdout",
     "output_type": "stream",
     "text": [
      "Epoch 350 - Train Loss: 0.1255, Train MSE: 0.1255, Train MAE: 0.2685\n",
      "Epoch 350 - Validation Loss: 0.8702, Validation MSE: 0.8718, Validation MAE: 0.7037\n"
     ]
    },
    {
     "name": "stderr",
     "output_type": "stream",
     "text": [
      "Training Epoch 352: 100%|██████████| 891/891 [00:04<00:00, 179.48it/s]\n",
      "Training Epoch 353: 100%|██████████| 891/891 [00:05<00:00, 175.80it/s]\n",
      "Training Epoch 354: 100%|██████████| 891/891 [00:05<00:00, 175.52it/s]\n",
      "Training Epoch 355: 100%|██████████| 891/891 [00:05<00:00, 170.30it/s]\n",
      "Training Epoch 356: 100%|██████████| 891/891 [00:04<00:00, 178.58it/s]\n",
      "Training Epoch 357: 100%|██████████| 891/891 [00:05<00:00, 175.91it/s]\n",
      "Training Epoch 358: 100%|██████████| 891/891 [00:05<00:00, 174.55it/s]\n",
      "Training Epoch 359: 100%|██████████| 891/891 [00:05<00:00, 172.87it/s]\n",
      "Training Epoch 360: 100%|██████████| 891/891 [00:05<00:00, 178.00it/s]\n",
      "Training Epoch 361: 100%|██████████| 891/891 [00:05<00:00, 166.39it/s]\n"
     ]
    },
    {
     "name": "stdout",
     "output_type": "stream",
     "text": [
      "Epoch 360 - Train Loss: 0.1218, Train MSE: 0.1219, Train MAE: 0.2652\n",
      "Epoch 360 - Validation Loss: 0.8678, Validation MSE: 0.8689, Validation MAE: 0.6999\n"
     ]
    },
    {
     "name": "stderr",
     "output_type": "stream",
     "text": [
      "Training Epoch 362: 100%|██████████| 891/891 [00:05<00:00, 172.37it/s]\n",
      "Training Epoch 363: 100%|██████████| 891/891 [00:05<00:00, 175.19it/s]\n",
      "Training Epoch 364: 100%|██████████| 891/891 [00:05<00:00, 175.09it/s]\n",
      "Training Epoch 365: 100%|██████████| 891/891 [00:05<00:00, 175.61it/s]\n",
      "Training Epoch 366: 100%|██████████| 891/891 [00:05<00:00, 169.14it/s]\n",
      "Training Epoch 367: 100%|██████████| 891/891 [00:04<00:00, 179.75it/s]\n",
      "Training Epoch 368: 100%|██████████| 891/891 [00:05<00:00, 176.56it/s]\n",
      "Training Epoch 369: 100%|██████████| 891/891 [00:05<00:00, 177.87it/s]\n",
      "Training Epoch 370: 100%|██████████| 891/891 [00:05<00:00, 175.62it/s]\n",
      "Training Epoch 371: 100%|██████████| 891/891 [00:05<00:00, 175.87it/s]\n"
     ]
    },
    {
     "name": "stdout",
     "output_type": "stream",
     "text": [
      "Epoch 370 - Train Loss: 0.1204, Train MSE: 0.1203, Train MAE: 0.2626\n",
      "Epoch 370 - Validation Loss: 0.8823, Validation MSE: 0.8835, Validation MAE: 0.7057\n"
     ]
    },
    {
     "name": "stderr",
     "output_type": "stream",
     "text": [
      "Training Epoch 372: 100%|██████████| 891/891 [00:05<00:00, 176.75it/s]\n",
      "Training Epoch 373: 100%|██████████| 891/891 [00:05<00:00, 170.95it/s]\n",
      "Training Epoch 374: 100%|██████████| 891/891 [00:05<00:00, 176.23it/s]\n",
      "Training Epoch 375: 100%|██████████| 891/891 [00:05<00:00, 176.08it/s]\n",
      "Training Epoch 376: 100%|██████████| 891/891 [00:05<00:00, 176.01it/s]\n",
      "Training Epoch 377: 100%|██████████| 891/891 [00:05<00:00, 162.68it/s]\n",
      "Training Epoch 378: 100%|██████████| 891/891 [00:04<00:00, 180.69it/s]\n",
      "Training Epoch 379: 100%|██████████| 891/891 [00:05<00:00, 178.12it/s]\n",
      "Training Epoch 380: 100%|██████████| 891/891 [00:05<00:00, 177.21it/s]\n",
      "Training Epoch 381: 100%|██████████| 891/891 [00:05<00:00, 176.74it/s]\n"
     ]
    },
    {
     "name": "stdout",
     "output_type": "stream",
     "text": [
      "Epoch 380 - Train Loss: 0.1192, Train MSE: 0.1191, Train MAE: 0.2619\n",
      "Epoch 380 - Validation Loss: 0.8776, Validation MSE: 0.8783, Validation MAE: 0.7043\n"
     ]
    },
    {
     "name": "stderr",
     "output_type": "stream",
     "text": [
      "Training Epoch 382: 100%|██████████| 891/891 [00:05<00:00, 175.94it/s]\n",
      "Training Epoch 383: 100%|██████████| 891/891 [00:05<00:00, 175.40it/s]\n",
      "Training Epoch 384: 100%|██████████| 891/891 [00:05<00:00, 177.51it/s]\n",
      "Training Epoch 385: 100%|██████████| 891/891 [00:05<00:00, 177.11it/s]\n",
      "Training Epoch 386: 100%|██████████| 891/891 [00:05<00:00, 176.48it/s]\n",
      "Training Epoch 387: 100%|██████████| 891/891 [00:05<00:00, 173.34it/s]\n",
      "Training Epoch 388: 100%|██████████| 891/891 [00:05<00:00, 165.46it/s]\n",
      "Training Epoch 389: 100%|██████████| 891/891 [00:05<00:00, 169.64it/s]\n",
      "Training Epoch 390: 100%|██████████| 891/891 [00:05<00:00, 171.54it/s]\n",
      "Training Epoch 391: 100%|██████████| 891/891 [00:05<00:00, 172.93it/s]\n"
     ]
    },
    {
     "name": "stdout",
     "output_type": "stream",
     "text": [
      "Epoch 390 - Train Loss: 0.1181, Train MSE: 0.1182, Train MAE: 0.2606\n",
      "Epoch 390 - Validation Loss: 0.8695, Validation MSE: 0.8704, Validation MAE: 0.7032\n"
     ]
    },
    {
     "name": "stderr",
     "output_type": "stream",
     "text": [
      "Training Epoch 392: 100%|██████████| 891/891 [00:05<00:00, 174.19it/s]\n",
      "Training Epoch 393: 100%|██████████| 891/891 [00:05<00:00, 168.23it/s]\n",
      "Training Epoch 394: 100%|██████████| 891/891 [00:05<00:00, 173.89it/s]\n",
      "Training Epoch 395: 100%|██████████| 891/891 [00:05<00:00, 171.48it/s]\n",
      "Training Epoch 396: 100%|██████████| 891/891 [00:05<00:00, 171.25it/s]\n",
      "Training Epoch 397: 100%|██████████| 891/891 [00:05<00:00, 171.41it/s]\n",
      "Training Epoch 398: 100%|██████████| 891/891 [00:05<00:00, 178.10it/s]\n",
      "Training Epoch 399: 100%|██████████| 891/891 [00:05<00:00, 173.34it/s]\n",
      "Training Epoch 400: 100%|██████████| 891/891 [00:04<00:00, 179.20it/s]\n",
      "Training Epoch 401: 100%|██████████| 891/891 [00:05<00:00, 168.52it/s]\n"
     ]
    },
    {
     "name": "stdout",
     "output_type": "stream",
     "text": [
      "Epoch 400 - Train Loss: 0.1151, Train MSE: 0.1151, Train MAE: 0.2577\n",
      "Epoch 400 - Validation Loss: 0.8623, Validation MSE: 0.8624, Validation MAE: 0.7000\n"
     ]
    },
    {
     "name": "stderr",
     "output_type": "stream",
     "text": [
      "Training Epoch 402: 100%|██████████| 891/891 [00:05<00:00, 166.52it/s]\n",
      "Training Epoch 403: 100%|██████████| 891/891 [00:05<00:00, 170.14it/s]\n",
      "Training Epoch 404: 100%|██████████| 891/891 [00:05<00:00, 169.47it/s]\n",
      "Training Epoch 405: 100%|██████████| 891/891 [00:05<00:00, 172.34it/s]\n",
      "Training Epoch 406: 100%|██████████| 891/891 [00:05<00:00, 173.05it/s]\n",
      "Training Epoch 407: 100%|██████████| 891/891 [00:05<00:00, 175.95it/s]\n",
      "Training Epoch 408: 100%|██████████| 891/891 [00:05<00:00, 162.07it/s]\n",
      "Training Epoch 409: 100%|██████████| 891/891 [00:05<00:00, 170.75it/s]\n",
      "Training Epoch 410: 100%|██████████| 891/891 [00:05<00:00, 167.69it/s]\n",
      "Training Epoch 411: 100%|██████████| 891/891 [00:05<00:00, 172.41it/s]\n"
     ]
    },
    {
     "name": "stdout",
     "output_type": "stream",
     "text": [
      "Epoch 410 - Train Loss: 0.1141, Train MSE: 0.1141, Train MAE: 0.2569\n",
      "Epoch 410 - Validation Loss: 0.8652, Validation MSE: 0.8660, Validation MAE: 0.7008\n"
     ]
    },
    {
     "name": "stderr",
     "output_type": "stream",
     "text": [
      "Training Epoch 412: 100%|██████████| 891/891 [00:05<00:00, 175.31it/s]\n",
      "Training Epoch 413: 100%|██████████| 891/891 [00:05<00:00, 177.66it/s]\n",
      "Training Epoch 414: 100%|██████████| 891/891 [00:05<00:00, 176.08it/s]\n",
      "Training Epoch 415: 100%|██████████| 891/891 [00:05<00:00, 177.75it/s]\n",
      "Training Epoch 416: 100%|██████████| 891/891 [00:05<00:00, 177.68it/s]\n",
      "Training Epoch 417: 100%|██████████| 891/891 [00:05<00:00, 176.71it/s]\n",
      "Training Epoch 418: 100%|██████████| 891/891 [00:05<00:00, 177.74it/s]\n",
      "Training Epoch 419: 100%|██████████| 891/891 [00:04<00:00, 178.78it/s]\n",
      "Training Epoch 420: 100%|██████████| 891/891 [00:05<00:00, 176.12it/s]\n",
      "Training Epoch 421: 100%|██████████| 891/891 [00:05<00:00, 173.22it/s]\n"
     ]
    },
    {
     "name": "stdout",
     "output_type": "stream",
     "text": [
      "Epoch 420 - Train Loss: 0.1123, Train MSE: 0.1122, Train MAE: 0.2542\n",
      "Epoch 420 - Validation Loss: 0.8534, Validation MSE: 0.8549, Validation MAE: 0.6948\n"
     ]
    },
    {
     "name": "stderr",
     "output_type": "stream",
     "text": [
      "Training Epoch 422: 100%|██████████| 891/891 [00:05<00:00, 177.23it/s]\n",
      "Training Epoch 423: 100%|██████████| 891/891 [00:04<00:00, 180.44it/s]\n",
      "Training Epoch 424: 100%|██████████| 891/891 [00:05<00:00, 177.55it/s]\n",
      "Training Epoch 425: 100%|██████████| 891/891 [00:04<00:00, 179.94it/s]\n",
      "Training Epoch 426: 100%|██████████| 891/891 [00:05<00:00, 175.77it/s]\n",
      "Training Epoch 427: 100%|██████████| 891/891 [00:05<00:00, 175.27it/s]\n",
      "Training Epoch 428: 100%|██████████| 891/891 [00:05<00:00, 177.82it/s]\n",
      "Training Epoch 429: 100%|██████████| 891/891 [00:05<00:00, 176.78it/s]\n",
      "Training Epoch 430: 100%|██████████| 891/891 [00:05<00:00, 175.73it/s]\n",
      "Training Epoch 431: 100%|██████████| 891/891 [00:04<00:00, 178.82it/s]\n"
     ]
    },
    {
     "name": "stdout",
     "output_type": "stream",
     "text": [
      "Epoch 430 - Train Loss: 0.1117, Train MSE: 0.1117, Train MAE: 0.2538\n",
      "Epoch 430 - Validation Loss: 0.8610, Validation MSE: 0.8618, Validation MAE: 0.6993\n"
     ]
    },
    {
     "name": "stderr",
     "output_type": "stream",
     "text": [
      "Training Epoch 432: 100%|██████████| 891/891 [00:04<00:00, 178.24it/s]\n",
      "Training Epoch 433: 100%|██████████| 891/891 [00:05<00:00, 170.79it/s]\n",
      "Training Epoch 434: 100%|██████████| 891/891 [00:05<00:00, 177.56it/s]\n",
      "Training Epoch 435: 100%|██████████| 891/891 [00:05<00:00, 176.18it/s]\n",
      "Training Epoch 436: 100%|██████████| 891/891 [00:05<00:00, 175.54it/s]\n",
      "Training Epoch 437: 100%|██████████| 891/891 [00:05<00:00, 176.27it/s]\n",
      "Training Epoch 438: 100%|██████████| 891/891 [00:05<00:00, 174.90it/s]\n",
      "Training Epoch 439: 100%|██████████| 891/891 [00:05<00:00, 173.57it/s]\n",
      "Training Epoch 440: 100%|██████████| 891/891 [00:05<00:00, 177.01it/s]\n",
      "Training Epoch 441: 100%|██████████| 891/891 [00:04<00:00, 179.00it/s]\n"
     ]
    },
    {
     "name": "stdout",
     "output_type": "stream",
     "text": [
      "Epoch 440 - Train Loss: 0.1120, Train MSE: 0.1119, Train MAE: 0.2535\n",
      "Epoch 440 - Validation Loss: 0.8719, Validation MSE: 0.8723, Validation MAE: 0.7018\n"
     ]
    },
    {
     "name": "stderr",
     "output_type": "stream",
     "text": [
      "Training Epoch 442: 100%|██████████| 891/891 [00:05<00:00, 178.02it/s]\n",
      "Training Epoch 443: 100%|██████████| 891/891 [00:04<00:00, 179.11it/s]\n",
      "Training Epoch 444: 100%|██████████| 891/891 [00:05<00:00, 174.25it/s]\n",
      "Training Epoch 445: 100%|██████████| 891/891 [00:05<00:00, 176.78it/s]\n",
      "Training Epoch 446: 100%|██████████| 891/891 [00:04<00:00, 178.92it/s]\n",
      "Training Epoch 447: 100%|██████████| 891/891 [00:05<00:00, 175.78it/s]\n",
      "Training Epoch 448: 100%|██████████| 891/891 [00:05<00:00, 175.76it/s]\n",
      "Training Epoch 449: 100%|██████████| 891/891 [00:05<00:00, 176.50it/s]\n",
      "Training Epoch 450: 100%|██████████| 891/891 [00:05<00:00, 175.35it/s]\n",
      "Training Epoch 451: 100%|██████████| 891/891 [00:05<00:00, 176.27it/s]\n"
     ]
    },
    {
     "name": "stdout",
     "output_type": "stream",
     "text": [
      "Epoch 450 - Train Loss: 0.1090, Train MSE: 0.1090, Train MAE: 0.2499\n",
      "Epoch 450 - Validation Loss: 0.8604, Validation MSE: 0.8607, Validation MAE: 0.6985\n"
     ]
    },
    {
     "name": "stderr",
     "output_type": "stream",
     "text": [
      "Training Epoch 452: 100%|██████████| 891/891 [00:05<00:00, 175.52it/s]\n",
      "Training Epoch 453: 100%|██████████| 891/891 [00:05<00:00, 176.06it/s]\n",
      "Training Epoch 454: 100%|██████████| 891/891 [00:05<00:00, 171.52it/s]\n",
      "Training Epoch 455: 100%|██████████| 891/891 [00:05<00:00, 171.94it/s]\n",
      "Training Epoch 456: 100%|██████████| 891/891 [00:04<00:00, 178.33it/s]\n",
      "Training Epoch 457: 100%|██████████| 891/891 [00:05<00:00, 174.48it/s]\n",
      "Training Epoch 458: 100%|██████████| 891/891 [00:05<00:00, 176.59it/s]\n",
      "Training Epoch 459: 100%|██████████| 891/891 [00:05<00:00, 176.98it/s]\n",
      "Training Epoch 460: 100%|██████████| 891/891 [00:05<00:00, 176.74it/s]\n",
      "Training Epoch 461: 100%|██████████| 891/891 [00:05<00:00, 177.42it/s]\n"
     ]
    },
    {
     "name": "stdout",
     "output_type": "stream",
     "text": [
      "Epoch 460 - Train Loss: 0.1078, Train MSE: 0.1077, Train MAE: 0.2494\n",
      "Epoch 460 - Validation Loss: 0.8637, Validation MSE: 0.8639, Validation MAE: 0.7001\n"
     ]
    },
    {
     "name": "stderr",
     "output_type": "stream",
     "text": [
      "Training Epoch 462: 100%|██████████| 891/891 [00:05<00:00, 178.18it/s]\n",
      "Training Epoch 463: 100%|██████████| 891/891 [00:05<00:00, 175.47it/s]\n",
      "Training Epoch 464: 100%|██████████| 891/891 [00:05<00:00, 176.05it/s]\n",
      "Training Epoch 465: 100%|██████████| 891/891 [00:05<00:00, 176.81it/s]\n",
      "Training Epoch 466: 100%|██████████| 891/891 [00:05<00:00, 168.86it/s]\n",
      "Training Epoch 467: 100%|██████████| 891/891 [00:05<00:00, 175.01it/s]\n",
      "Training Epoch 468: 100%|██████████| 891/891 [00:05<00:00, 175.98it/s]\n",
      "Training Epoch 469: 100%|██████████| 891/891 [00:05<00:00, 175.66it/s]\n",
      "Training Epoch 470: 100%|██████████| 891/891 [00:05<00:00, 177.21it/s]\n",
      "Training Epoch 471: 100%|██████████| 891/891 [00:05<00:00, 177.10it/s]\n"
     ]
    },
    {
     "name": "stdout",
     "output_type": "stream",
     "text": [
      "Epoch 470 - Train Loss: 0.1058, Train MSE: 0.1058, Train MAE: 0.2453\n",
      "Epoch 470 - Validation Loss: 0.8666, Validation MSE: 0.8667, Validation MAE: 0.7007\n"
     ]
    },
    {
     "name": "stderr",
     "output_type": "stream",
     "text": [
      "Training Epoch 472: 100%|██████████| 891/891 [00:05<00:00, 174.48it/s]\n",
      "Training Epoch 473: 100%|██████████| 891/891 [00:05<00:00, 175.31it/s]\n",
      "Training Epoch 474: 100%|██████████| 891/891 [00:05<00:00, 176.10it/s]\n",
      "Training Epoch 475: 100%|██████████| 891/891 [00:05<00:00, 172.32it/s]\n",
      "Training Epoch 476: 100%|██████████| 891/891 [00:05<00:00, 177.95it/s]\n",
      "Training Epoch 477: 100%|██████████| 891/891 [00:05<00:00, 172.86it/s]\n",
      "Training Epoch 478: 100%|██████████| 891/891 [00:05<00:00, 173.56it/s]\n",
      "Training Epoch 479: 100%|██████████| 891/891 [00:05<00:00, 174.66it/s]\n",
      "Training Epoch 480: 100%|██████████| 891/891 [00:05<00:00, 177.90it/s]\n",
      "Training Epoch 481: 100%|██████████| 891/891 [00:04<00:00, 178.26it/s]\n"
     ]
    },
    {
     "name": "stdout",
     "output_type": "stream",
     "text": [
      "Epoch 480 - Train Loss: 0.1052, Train MSE: 0.1052, Train MAE: 0.2460\n",
      "Epoch 480 - Validation Loss: 0.8770, Validation MSE: 0.8774, Validation MAE: 0.7047\n"
     ]
    },
    {
     "name": "stderr",
     "output_type": "stream",
     "text": [
      "Training Epoch 482: 100%|██████████| 891/891 [00:05<00:00, 175.93it/s]\n",
      "Training Epoch 483: 100%|██████████| 891/891 [00:05<00:00, 176.42it/s]\n",
      "Training Epoch 484: 100%|██████████| 891/891 [00:05<00:00, 176.44it/s]\n",
      "Training Epoch 485: 100%|██████████| 891/891 [00:05<00:00, 174.91it/s]\n",
      "Training Epoch 486: 100%|██████████| 891/891 [00:05<00:00, 173.36it/s]\n",
      "Training Epoch 487: 100%|██████████| 891/891 [00:05<00:00, 177.44it/s]\n",
      "Training Epoch 488: 100%|██████████| 891/891 [00:05<00:00, 177.76it/s]\n",
      "Training Epoch 489: 100%|██████████| 891/891 [00:05<00:00, 164.51it/s]\n",
      "Training Epoch 490: 100%|██████████| 891/891 [00:05<00:00, 174.37it/s]\n",
      "Training Epoch 491: 100%|██████████| 891/891 [00:05<00:00, 173.42it/s]\n"
     ]
    },
    {
     "name": "stdout",
     "output_type": "stream",
     "text": [
      "Epoch 490 - Train Loss: 0.1041, Train MSE: 0.1041, Train MAE: 0.2442\n",
      "Epoch 490 - Validation Loss: 0.8588, Validation MSE: 0.8579, Validation MAE: 0.6973\n"
     ]
    },
    {
     "name": "stderr",
     "output_type": "stream",
     "text": [
      "Training Epoch 492: 100%|██████████| 891/891 [00:05<00:00, 176.02it/s]\n",
      "Training Epoch 493: 100%|██████████| 891/891 [00:04<00:00, 178.26it/s]\n",
      "Training Epoch 494: 100%|██████████| 891/891 [00:05<00:00, 175.56it/s]\n",
      "Training Epoch 495: 100%|██████████| 891/891 [00:05<00:00, 176.99it/s]\n",
      "Training Epoch 496: 100%|██████████| 891/891 [00:05<00:00, 176.47it/s]\n",
      "Training Epoch 497: 100%|██████████| 891/891 [00:04<00:00, 187.53it/s]\n",
      "Training Epoch 498: 100%|██████████| 891/891 [00:05<00:00, 176.37it/s]\n",
      "Training Epoch 499: 100%|██████████| 891/891 [00:05<00:00, 178.14it/s]\n",
      "Training Epoch 500: 100%|██████████| 891/891 [00:05<00:00, 165.90it/s]\n",
      "Training Epoch 501: 100%|██████████| 891/891 [00:05<00:00, 176.78it/s]\n"
     ]
    },
    {
     "name": "stdout",
     "output_type": "stream",
     "text": [
      "Epoch 500 - Train Loss: 0.1043, Train MSE: 0.1043, Train MAE: 0.2452\n",
      "Epoch 500 - Validation Loss: 0.8626, Validation MSE: 0.8623, Validation MAE: 0.6971\n"
     ]
    },
    {
     "name": "stderr",
     "output_type": "stream",
     "text": [
      "Training Epoch 502: 100%|██████████| 891/891 [00:05<00:00, 176.45it/s]\n",
      "Training Epoch 503: 100%|██████████| 891/891 [00:05<00:00, 174.46it/s]\n",
      "Training Epoch 504: 100%|██████████| 891/891 [00:05<00:00, 174.92it/s]\n",
      "Training Epoch 505: 100%|██████████| 891/891 [00:05<00:00, 170.17it/s]\n",
      "Training Epoch 506: 100%|██████████| 891/891 [00:05<00:00, 175.49it/s]\n",
      "Training Epoch 507: 100%|██████████| 891/891 [00:05<00:00, 175.59it/s]\n",
      "Training Epoch 508: 100%|██████████| 891/891 [00:05<00:00, 175.60it/s]\n",
      "Training Epoch 509: 100%|██████████| 891/891 [00:05<00:00, 175.61it/s]\n",
      "Training Epoch 510: 100%|██████████| 891/891 [00:04<00:00, 179.35it/s]\n",
      "Training Epoch 511: 100%|██████████| 891/891 [00:05<00:00, 169.41it/s]\n"
     ]
    },
    {
     "name": "stdout",
     "output_type": "stream",
     "text": [
      "Epoch 510 - Train Loss: 0.1030, Train MSE: 0.1030, Train MAE: 0.2446\n",
      "Epoch 510 - Validation Loss: 0.8565, Validation MSE: 0.8571, Validation MAE: 0.6973\n"
     ]
    },
    {
     "name": "stderr",
     "output_type": "stream",
     "text": [
      "Training Epoch 512: 100%|██████████| 891/891 [00:05<00:00, 171.39it/s]\n",
      "Training Epoch 513: 100%|██████████| 891/891 [00:04<00:00, 178.26it/s]\n",
      "Training Epoch 514: 100%|██████████| 891/891 [00:05<00:00, 172.90it/s]\n",
      "Training Epoch 515: 100%|██████████| 891/891 [00:05<00:00, 175.31it/s]\n",
      "Training Epoch 516: 100%|██████████| 891/891 [00:05<00:00, 175.43it/s]\n",
      "Training Epoch 517: 100%|██████████| 891/891 [00:05<00:00, 175.19it/s]\n",
      "Training Epoch 518: 100%|██████████| 891/891 [00:05<00:00, 174.12it/s]\n",
      "Training Epoch 519: 100%|██████████| 891/891 [00:05<00:00, 175.10it/s]\n",
      "Training Epoch 520: 100%|██████████| 891/891 [00:05<00:00, 174.90it/s]\n",
      "Training Epoch 521: 100%|██████████| 891/891 [00:05<00:00, 175.86it/s]\n"
     ]
    },
    {
     "name": "stdout",
     "output_type": "stream",
     "text": [
      "Epoch 520 - Train Loss: 0.1036, Train MSE: 0.1036, Train MAE: 0.2442\n",
      "Epoch 520 - Validation Loss: 0.8799, Validation MSE: 0.8809, Validation MAE: 0.7040\n"
     ]
    },
    {
     "name": "stderr",
     "output_type": "stream",
     "text": [
      "Training Epoch 522: 100%|██████████| 891/891 [00:05<00:00, 166.96it/s]\n",
      "Training Epoch 523: 100%|██████████| 891/891 [00:05<00:00, 168.73it/s]\n",
      "Training Epoch 524: 100%|██████████| 891/891 [00:05<00:00, 168.79it/s]\n",
      "Training Epoch 525: 100%|██████████| 891/891 [00:05<00:00, 175.88it/s]\n",
      "Training Epoch 526: 100%|██████████| 891/891 [00:05<00:00, 162.11it/s]\n",
      "Training Epoch 527: 100%|██████████| 891/891 [00:05<00:00, 164.43it/s]\n",
      "Training Epoch 528: 100%|██████████| 891/891 [00:05<00:00, 174.31it/s]\n",
      "Training Epoch 529: 100%|██████████| 891/891 [00:05<00:00, 175.44it/s]\n",
      "Training Epoch 530: 100%|██████████| 891/891 [00:05<00:00, 176.77it/s]\n",
      "Training Epoch 531: 100%|██████████| 891/891 [00:04<00:00, 179.48it/s]\n"
     ]
    },
    {
     "name": "stdout",
     "output_type": "stream",
     "text": [
      "Epoch 530 - Train Loss: 0.1005, Train MSE: 0.1006, Train MAE: 0.2405\n",
      "Epoch 530 - Validation Loss: 0.8661, Validation MSE: 0.8664, Validation MAE: 0.7000\n"
     ]
    },
    {
     "name": "stderr",
     "output_type": "stream",
     "text": [
      "Training Epoch 532: 100%|██████████| 891/891 [00:04<00:00, 180.66it/s]\n",
      "Training Epoch 533: 100%|██████████| 891/891 [00:05<00:00, 177.36it/s]\n",
      "Training Epoch 534: 100%|██████████| 891/891 [00:04<00:00, 179.12it/s]\n",
      "Training Epoch 535: 100%|██████████| 891/891 [00:04<00:00, 181.33it/s]\n",
      "Training Epoch 536: 100%|██████████| 891/891 [00:04<00:00, 179.78it/s]\n",
      "Training Epoch 537: 100%|██████████| 891/891 [00:04<00:00, 178.97it/s]\n",
      "Training Epoch 538: 100%|██████████| 891/891 [00:04<00:00, 179.75it/s]\n",
      "Training Epoch 539: 100%|██████████| 891/891 [00:04<00:00, 179.80it/s]\n",
      "Training Epoch 540: 100%|██████████| 891/891 [00:04<00:00, 180.59it/s]\n",
      "Training Epoch 541: 100%|██████████| 891/891 [00:04<00:00, 181.36it/s]\n"
     ]
    },
    {
     "name": "stdout",
     "output_type": "stream",
     "text": [
      "Epoch 540 - Train Loss: 0.0995, Train MSE: 0.0996, Train MAE: 0.2382\n",
      "Epoch 540 - Validation Loss: 0.8576, Validation MSE: 0.8571, Validation MAE: 0.6972\n"
     ]
    },
    {
     "name": "stderr",
     "output_type": "stream",
     "text": [
      "Training Epoch 542: 100%|██████████| 891/891 [00:04<00:00, 180.84it/s]\n",
      "Training Epoch 543: 100%|██████████| 891/891 [00:04<00:00, 180.06it/s]\n",
      "Training Epoch 544: 100%|██████████| 891/891 [00:04<00:00, 179.24it/s]\n",
      "Training Epoch 545: 100%|██████████| 891/891 [00:04<00:00, 178.82it/s]\n",
      "Training Epoch 546: 100%|██████████| 891/891 [00:04<00:00, 180.17it/s]\n",
      "Training Epoch 547: 100%|██████████| 891/891 [00:04<00:00, 179.91it/s]\n",
      "Training Epoch 548: 100%|██████████| 891/891 [00:04<00:00, 180.58it/s]\n",
      "Training Epoch 549: 100%|██████████| 891/891 [00:04<00:00, 179.49it/s]\n",
      "Training Epoch 550: 100%|██████████| 891/891 [00:04<00:00, 179.62it/s]\n",
      "Training Epoch 551: 100%|██████████| 891/891 [00:05<00:00, 178.05it/s]\n"
     ]
    },
    {
     "name": "stdout",
     "output_type": "stream",
     "text": [
      "Epoch 550 - Train Loss: 0.0999, Train MSE: 0.0998, Train MAE: 0.2391\n",
      "Epoch 550 - Validation Loss: 0.8498, Validation MSE: 0.8502, Validation MAE: 0.6932\n"
     ]
    },
    {
     "name": "stderr",
     "output_type": "stream",
     "text": [
      "Training Epoch 552: 100%|██████████| 891/891 [00:04<00:00, 180.27it/s]\n",
      "Training Epoch 553: 100%|██████████| 891/891 [00:04<00:00, 178.86it/s]\n",
      "Training Epoch 554: 100%|██████████| 891/891 [00:04<00:00, 179.48it/s]\n",
      "Training Epoch 555: 100%|██████████| 891/891 [00:05<00:00, 177.55it/s]\n",
      "Training Epoch 556: 100%|██████████| 891/891 [00:05<00:00, 172.50it/s]\n",
      "Training Epoch 557: 100%|██████████| 891/891 [00:04<00:00, 183.38it/s]\n",
      "Training Epoch 558: 100%|██████████| 891/891 [00:04<00:00, 179.65it/s]\n",
      "Training Epoch 559: 100%|██████████| 891/891 [00:04<00:00, 180.12it/s]\n",
      "Training Epoch 560: 100%|██████████| 891/891 [00:04<00:00, 180.23it/s]\n",
      "Training Epoch 561: 100%|██████████| 891/891 [00:04<00:00, 181.43it/s]\n"
     ]
    },
    {
     "name": "stdout",
     "output_type": "stream",
     "text": [
      "Epoch 560 - Train Loss: 0.0966, Train MSE: 0.0965, Train MAE: 0.2358\n",
      "Epoch 560 - Validation Loss: 0.8706, Validation MSE: 0.8715, Validation MAE: 0.7035\n"
     ]
    },
    {
     "name": "stderr",
     "output_type": "stream",
     "text": [
      "Training Epoch 562: 100%|██████████| 891/891 [00:05<00:00, 177.88it/s]\n",
      "Training Epoch 563: 100%|██████████| 891/891 [00:04<00:00, 200.30it/s]\n",
      "Training Epoch 564: 100%|██████████| 891/891 [00:04<00:00, 203.28it/s]\n",
      "Training Epoch 565: 100%|██████████| 891/891 [00:04<00:00, 203.16it/s]\n",
      "Training Epoch 566: 100%|██████████| 891/891 [00:04<00:00, 205.31it/s]\n",
      "Training Epoch 567: 100%|██████████| 891/891 [00:04<00:00, 204.74it/s]\n",
      "Training Epoch 568: 100%|██████████| 891/891 [00:04<00:00, 200.51it/s]\n",
      "Training Epoch 569: 100%|██████████| 891/891 [00:04<00:00, 204.60it/s]\n",
      "Training Epoch 570: 100%|██████████| 891/891 [00:04<00:00, 206.44it/s]\n",
      "Training Epoch 571: 100%|██████████| 891/891 [00:04<00:00, 201.66it/s]\n"
     ]
    },
    {
     "name": "stdout",
     "output_type": "stream",
     "text": [
      "Epoch 570 - Train Loss: 0.0982, Train MSE: 0.0982, Train MAE: 0.2376\n",
      "Epoch 570 - Validation Loss: 0.8747, Validation MSE: 0.8743, Validation MAE: 0.7025\n"
     ]
    },
    {
     "name": "stderr",
     "output_type": "stream",
     "text": [
      "Training Epoch 572: 100%|██████████| 891/891 [00:04<00:00, 202.64it/s]\n",
      "Training Epoch 573: 100%|██████████| 891/891 [00:04<00:00, 205.69it/s]\n",
      "Training Epoch 574: 100%|██████████| 891/891 [00:04<00:00, 204.71it/s]\n",
      "Training Epoch 575: 100%|██████████| 891/891 [00:04<00:00, 203.55it/s]\n",
      "Training Epoch 576: 100%|██████████| 891/891 [00:04<00:00, 205.02it/s]\n",
      "Training Epoch 577: 100%|██████████| 891/891 [00:04<00:00, 206.12it/s]\n",
      "Training Epoch 578: 100%|██████████| 891/891 [00:04<00:00, 204.07it/s]\n",
      "Training Epoch 579: 100%|██████████| 891/891 [00:04<00:00, 203.10it/s]\n",
      "Training Epoch 580: 100%|██████████| 891/891 [00:04<00:00, 203.73it/s]\n",
      "Training Epoch 581: 100%|██████████| 891/891 [00:04<00:00, 202.47it/s]\n"
     ]
    },
    {
     "name": "stdout",
     "output_type": "stream",
     "text": [
      "Epoch 580 - Train Loss: 0.0989, Train MSE: 0.0988, Train MAE: 0.2376\n",
      "Epoch 580 - Validation Loss: 0.8829, Validation MSE: 0.8835, Validation MAE: 0.7068\n"
     ]
    },
    {
     "name": "stderr",
     "output_type": "stream",
     "text": [
      "Training Epoch 582: 100%|██████████| 891/891 [00:04<00:00, 201.22it/s]\n",
      "Training Epoch 583: 100%|██████████| 891/891 [00:04<00:00, 203.04it/s]\n",
      "Training Epoch 584: 100%|██████████| 891/891 [00:04<00:00, 202.09it/s]\n",
      "Training Epoch 585: 100%|██████████| 891/891 [00:04<00:00, 202.87it/s]\n",
      "Training Epoch 586: 100%|██████████| 891/891 [00:04<00:00, 203.31it/s]\n",
      "Training Epoch 587: 100%|██████████| 891/891 [00:04<00:00, 203.61it/s]\n",
      "Training Epoch 588: 100%|██████████| 891/891 [00:04<00:00, 198.99it/s]\n",
      "Training Epoch 589: 100%|██████████| 891/891 [00:04<00:00, 203.68it/s]\n",
      "Training Epoch 590: 100%|██████████| 891/891 [00:04<00:00, 203.55it/s]\n",
      "Training Epoch 591: 100%|██████████| 891/891 [00:04<00:00, 201.92it/s]\n"
     ]
    },
    {
     "name": "stdout",
     "output_type": "stream",
     "text": [
      "Epoch 590 - Train Loss: 0.0951, Train MSE: 0.0952, Train MAE: 0.2338\n",
      "Epoch 590 - Validation Loss: 0.8616, Validation MSE: 0.8613, Validation MAE: 0.6999\n"
     ]
    },
    {
     "name": "stderr",
     "output_type": "stream",
     "text": [
      "Training Epoch 592: 100%|██████████| 891/891 [00:04<00:00, 205.96it/s]\n",
      "Training Epoch 593: 100%|██████████| 891/891 [00:04<00:00, 203.88it/s]\n",
      "Training Epoch 594: 100%|██████████| 891/891 [00:04<00:00, 196.01it/s]\n",
      "Training Epoch 595: 100%|██████████| 891/891 [00:04<00:00, 203.92it/s]\n",
      "Training Epoch 596: 100%|██████████| 891/891 [00:04<00:00, 203.16it/s]\n",
      "Training Epoch 597: 100%|██████████| 891/891 [00:04<00:00, 205.11it/s]\n",
      "Training Epoch 598: 100%|██████████| 891/891 [00:04<00:00, 202.29it/s]\n",
      "Training Epoch 599: 100%|██████████| 891/891 [00:04<00:00, 205.58it/s]\n",
      "Training Epoch 600: 100%|██████████| 891/891 [00:04<00:00, 202.28it/s]\n",
      "Training Epoch 601: 100%|██████████| 891/891 [00:04<00:00, 203.60it/s]\n"
     ]
    },
    {
     "name": "stdout",
     "output_type": "stream",
     "text": [
      "Epoch 600 - Train Loss: 0.0954, Train MSE: 0.0955, Train MAE: 0.2352\n",
      "Epoch 600 - Validation Loss: 0.8630, Validation MSE: 0.8631, Validation MAE: 0.6989\n"
     ]
    },
    {
     "name": "stderr",
     "output_type": "stream",
     "text": [
      "Training Epoch 602: 100%|██████████| 891/891 [00:04<00:00, 205.11it/s]\n",
      "Training Epoch 603: 100%|██████████| 891/891 [00:04<00:00, 200.52it/s]\n",
      "Training Epoch 604: 100%|██████████| 891/891 [00:04<00:00, 204.31it/s]\n",
      "Training Epoch 605: 100%|██████████| 891/891 [00:04<00:00, 202.97it/s]\n",
      "Training Epoch 606: 100%|██████████| 891/891 [00:04<00:00, 208.74it/s]\n",
      "Training Epoch 607: 100%|██████████| 891/891 [00:04<00:00, 199.79it/s]\n",
      "Training Epoch 608: 100%|██████████| 891/891 [00:04<00:00, 202.82it/s]\n",
      "Training Epoch 609: 100%|██████████| 891/891 [00:04<00:00, 200.20it/s]\n",
      "Training Epoch 610: 100%|██████████| 891/891 [00:04<00:00, 178.74it/s]\n",
      "Training Epoch 611: 100%|██████████| 891/891 [00:04<00:00, 204.59it/s]\n"
     ]
    },
    {
     "name": "stdout",
     "output_type": "stream",
     "text": [
      "Epoch 610 - Train Loss: 0.0929, Train MSE: 0.0929, Train MAE: 0.2316\n",
      "Epoch 610 - Validation Loss: 0.8468, Validation MSE: 0.8468, Validation MAE: 0.6948\n"
     ]
    },
    {
     "name": "stderr",
     "output_type": "stream",
     "text": [
      "Training Epoch 612: 100%|██████████| 891/891 [00:04<00:00, 201.03it/s]\n",
      "Training Epoch 613: 100%|██████████| 891/891 [00:04<00:00, 205.03it/s]\n",
      "Training Epoch 614: 100%|██████████| 891/891 [00:04<00:00, 206.10it/s]\n",
      "Training Epoch 615: 100%|██████████| 891/891 [00:04<00:00, 205.47it/s]\n",
      "Training Epoch 616: 100%|██████████| 891/891 [00:04<00:00, 203.89it/s]\n",
      "Training Epoch 617: 100%|██████████| 891/891 [00:04<00:00, 205.02it/s]\n",
      "Training Epoch 618: 100%|██████████| 891/891 [00:04<00:00, 202.88it/s]\n",
      "Training Epoch 619: 100%|██████████| 891/891 [00:04<00:00, 193.06it/s]\n",
      "Training Epoch 620: 100%|██████████| 891/891 [00:04<00:00, 207.34it/s]\n",
      "Training Epoch 621: 100%|██████████| 891/891 [00:04<00:00, 203.21it/s]\n"
     ]
    },
    {
     "name": "stdout",
     "output_type": "stream",
     "text": [
      "Epoch 620 - Train Loss: 0.0922, Train MSE: 0.0922, Train MAE: 0.2294\n",
      "Epoch 620 - Validation Loss: 0.8799, Validation MSE: 0.8802, Validation MAE: 0.7045\n"
     ]
    },
    {
     "name": "stderr",
     "output_type": "stream",
     "text": [
      "Training Epoch 622: 100%|██████████| 891/891 [00:04<00:00, 197.90it/s]\n",
      "Training Epoch 623: 100%|██████████| 891/891 [00:04<00:00, 199.53it/s]\n",
      "Training Epoch 624: 100%|██████████| 891/891 [00:04<00:00, 202.71it/s]\n",
      "Training Epoch 625: 100%|██████████| 891/891 [00:04<00:00, 203.53it/s]\n",
      "Training Epoch 626: 100%|██████████| 891/891 [00:04<00:00, 203.06it/s]\n",
      "Training Epoch 627: 100%|██████████| 891/891 [00:04<00:00, 206.68it/s]\n",
      "Training Epoch 628: 100%|██████████| 891/891 [00:04<00:00, 206.31it/s]\n",
      "Training Epoch 629: 100%|██████████| 891/891 [00:04<00:00, 205.40it/s]\n",
      "Training Epoch 630: 100%|██████████| 891/891 [00:04<00:00, 204.28it/s]\n",
      "Training Epoch 631: 100%|██████████| 891/891 [00:04<00:00, 205.59it/s]\n"
     ]
    },
    {
     "name": "stdout",
     "output_type": "stream",
     "text": [
      "Epoch 630 - Train Loss: 0.0922, Train MSE: 0.0921, Train MAE: 0.2294\n",
      "Epoch 630 - Validation Loss: 0.8689, Validation MSE: 0.8691, Validation MAE: 0.7010\n"
     ]
    },
    {
     "name": "stderr",
     "output_type": "stream",
     "text": [
      "Training Epoch 632: 100%|██████████| 891/891 [00:04<00:00, 198.81it/s]\n",
      "Training Epoch 633: 100%|██████████| 891/891 [00:04<00:00, 210.31it/s]\n",
      "Training Epoch 634: 100%|██████████| 891/891 [00:04<00:00, 203.52it/s]\n",
      "Training Epoch 635: 100%|██████████| 891/891 [00:04<00:00, 203.74it/s]\n",
      "Training Epoch 636: 100%|██████████| 891/891 [00:04<00:00, 203.36it/s]\n",
      "Training Epoch 637: 100%|██████████| 891/891 [00:04<00:00, 201.20it/s]\n",
      "Training Epoch 638: 100%|██████████| 891/891 [00:04<00:00, 203.96it/s]\n",
      "Training Epoch 639: 100%|██████████| 891/891 [00:04<00:00, 203.91it/s]\n",
      "Training Epoch 640: 100%|██████████| 891/891 [00:04<00:00, 203.82it/s]\n",
      "Training Epoch 641: 100%|██████████| 891/891 [00:04<00:00, 202.77it/s]\n"
     ]
    },
    {
     "name": "stdout",
     "output_type": "stream",
     "text": [
      "Epoch 640 - Train Loss: 0.0907, Train MSE: 0.0907, Train MAE: 0.2288\n",
      "Epoch 640 - Validation Loss: 0.8676, Validation MSE: 0.8657, Validation MAE: 0.6995\n"
     ]
    },
    {
     "name": "stderr",
     "output_type": "stream",
     "text": [
      "Training Epoch 642: 100%|██████████| 891/891 [00:04<00:00, 201.99it/s]\n",
      "Training Epoch 643: 100%|██████████| 891/891 [00:04<00:00, 207.01it/s]\n",
      "Training Epoch 644: 100%|██████████| 891/891 [00:04<00:00, 202.09it/s]\n",
      "Training Epoch 645: 100%|██████████| 891/891 [00:04<00:00, 203.43it/s]\n",
      "Training Epoch 646: 100%|██████████| 891/891 [00:04<00:00, 184.24it/s]\n",
      "Training Epoch 647: 100%|██████████| 891/891 [00:04<00:00, 208.32it/s]\n",
      "Training Epoch 648: 100%|██████████| 891/891 [00:04<00:00, 206.88it/s]\n",
      "Training Epoch 649: 100%|██████████| 891/891 [00:04<00:00, 206.37it/s]\n",
      "Training Epoch 650: 100%|██████████| 891/891 [00:04<00:00, 203.98it/s]\n",
      "Training Epoch 651: 100%|██████████| 891/891 [00:04<00:00, 210.89it/s]\n"
     ]
    },
    {
     "name": "stdout",
     "output_type": "stream",
     "text": [
      "Epoch 650 - Train Loss: 0.0900, Train MSE: 0.0900, Train MAE: 0.2276\n",
      "Epoch 650 - Validation Loss: 0.8661, Validation MSE: 0.8663, Validation MAE: 0.7018\n"
     ]
    },
    {
     "name": "stderr",
     "output_type": "stream",
     "text": [
      "Training Epoch 652: 100%|██████████| 891/891 [00:04<00:00, 205.79it/s]\n",
      "Training Epoch 653: 100%|██████████| 891/891 [00:04<00:00, 205.90it/s]\n",
      "Training Epoch 654: 100%|██████████| 891/891 [00:04<00:00, 204.56it/s]\n",
      "Training Epoch 655: 100%|██████████| 891/891 [00:04<00:00, 204.82it/s]\n",
      "Training Epoch 656: 100%|██████████| 891/891 [00:04<00:00, 204.62it/s]\n",
      "Training Epoch 657: 100%|██████████| 891/891 [00:04<00:00, 205.14it/s]\n",
      "Training Epoch 658: 100%|██████████| 891/891 [00:04<00:00, 196.89it/s]\n",
      "Training Epoch 659: 100%|██████████| 891/891 [00:04<00:00, 209.53it/s]\n",
      "Training Epoch 660: 100%|██████████| 891/891 [00:04<00:00, 204.23it/s]\n",
      "Training Epoch 661: 100%|██████████| 891/891 [00:04<00:00, 204.37it/s]\n"
     ]
    },
    {
     "name": "stdout",
     "output_type": "stream",
     "text": [
      "Epoch 660 - Train Loss: 0.0911, Train MSE: 0.0911, Train MAE: 0.2275\n",
      "Epoch 660 - Validation Loss: 0.8676, Validation MSE: 0.8676, Validation MAE: 0.7010\n"
     ]
    },
    {
     "name": "stderr",
     "output_type": "stream",
     "text": [
      "Training Epoch 662: 100%|██████████| 891/891 [00:04<00:00, 203.83it/s]\n",
      "Training Epoch 663: 100%|██████████| 891/891 [00:04<00:00, 206.30it/s]\n",
      "Training Epoch 664: 100%|██████████| 891/891 [00:04<00:00, 205.55it/s]\n",
      "Training Epoch 665: 100%|██████████| 891/891 [00:04<00:00, 204.95it/s]\n",
      "Training Epoch 666: 100%|██████████| 891/891 [00:04<00:00, 207.40it/s]\n",
      "Training Epoch 667: 100%|██████████| 891/891 [00:04<00:00, 205.06it/s]\n",
      "Training Epoch 668: 100%|██████████| 891/891 [00:04<00:00, 206.53it/s]\n",
      "Training Epoch 669: 100%|██████████| 891/891 [00:04<00:00, 204.24it/s]\n",
      "Training Epoch 670: 100%|██████████| 891/891 [00:04<00:00, 205.56it/s]\n",
      "Training Epoch 671: 100%|██████████| 891/891 [00:04<00:00, 199.37it/s]\n"
     ]
    },
    {
     "name": "stdout",
     "output_type": "stream",
     "text": [
      "Epoch 670 - Train Loss: 0.0909, Train MSE: 0.0910, Train MAE: 0.2285\n",
      "Epoch 670 - Validation Loss: 0.8535, Validation MSE: 0.8523, Validation MAE: 0.6957\n"
     ]
    },
    {
     "name": "stderr",
     "output_type": "stream",
     "text": [
      "Training Epoch 672: 100%|██████████| 891/891 [00:04<00:00, 201.85it/s]\n",
      "Training Epoch 673: 100%|██████████| 891/891 [00:04<00:00, 205.92it/s]\n",
      "Training Epoch 674: 100%|██████████| 891/891 [00:04<00:00, 205.61it/s]\n",
      "Training Epoch 675: 100%|██████████| 891/891 [00:04<00:00, 205.47it/s]\n",
      "Training Epoch 676: 100%|██████████| 891/891 [00:04<00:00, 205.14it/s]\n",
      "Training Epoch 677: 100%|██████████| 891/891 [00:04<00:00, 209.21it/s]\n",
      "Training Epoch 678: 100%|██████████| 891/891 [00:04<00:00, 206.50it/s]\n",
      "Training Epoch 679: 100%|██████████| 891/891 [00:04<00:00, 198.82it/s]\n",
      "Training Epoch 680: 100%|██████████| 891/891 [00:04<00:00, 204.36it/s]\n",
      "Training Epoch 681: 100%|██████████| 891/891 [00:04<00:00, 204.38it/s]\n"
     ]
    },
    {
     "name": "stdout",
     "output_type": "stream",
     "text": [
      "Epoch 680 - Train Loss: 0.0896, Train MSE: 0.0896, Train MAE: 0.2251\n",
      "Epoch 680 - Validation Loss: 0.8638, Validation MSE: 0.8649, Validation MAE: 0.7020\n"
     ]
    },
    {
     "name": "stderr",
     "output_type": "stream",
     "text": [
      "Training Epoch 682: 100%|██████████| 891/891 [00:04<00:00, 205.19it/s]\n",
      "Training Epoch 683: 100%|██████████| 891/891 [00:04<00:00, 204.42it/s]\n",
      "Training Epoch 684: 100%|██████████| 891/891 [00:04<00:00, 195.13it/s]\n",
      "Training Epoch 685: 100%|██████████| 891/891 [00:04<00:00, 205.50it/s]\n",
      "Training Epoch 686: 100%|██████████| 891/891 [00:04<00:00, 204.96it/s]\n",
      "Training Epoch 687: 100%|██████████| 891/891 [00:04<00:00, 206.31it/s]\n",
      "Training Epoch 688: 100%|██████████| 891/891 [00:04<00:00, 205.72it/s]\n",
      "Training Epoch 689: 100%|██████████| 891/891 [00:04<00:00, 202.71it/s]\n",
      "Training Epoch 690: 100%|██████████| 891/891 [00:04<00:00, 197.81it/s]\n",
      "Training Epoch 691: 100%|██████████| 891/891 [00:04<00:00, 204.57it/s]\n"
     ]
    },
    {
     "name": "stdout",
     "output_type": "stream",
     "text": [
      "Epoch 690 - Train Loss: 0.0888, Train MSE: 0.0888, Train MAE: 0.2258\n",
      "Epoch 690 - Validation Loss: 0.8629, Validation MSE: 0.8644, Validation MAE: 0.7004\n"
     ]
    },
    {
     "name": "stderr",
     "output_type": "stream",
     "text": [
      "Training Epoch 692: 100%|██████████| 891/891 [00:04<00:00, 203.36it/s]\n",
      "Training Epoch 693: 100%|██████████| 891/891 [00:04<00:00, 202.90it/s]\n",
      "Training Epoch 694: 100%|██████████| 891/891 [00:04<00:00, 204.57it/s]\n",
      "Training Epoch 695: 100%|██████████| 891/891 [00:04<00:00, 204.78it/s]\n",
      "Training Epoch 696: 100%|██████████| 891/891 [00:04<00:00, 203.99it/s]\n",
      "Training Epoch 697: 100%|██████████| 891/891 [00:04<00:00, 199.41it/s]\n",
      "Training Epoch 698: 100%|██████████| 891/891 [00:04<00:00, 205.62it/s]\n",
      "Training Epoch 699: 100%|██████████| 891/891 [00:04<00:00, 207.67it/s]\n",
      "Training Epoch 700: 100%|██████████| 891/891 [00:04<00:00, 202.41it/s]\n",
      "Training Epoch 701: 100%|██████████| 891/891 [00:04<00:00, 204.83it/s]\n"
     ]
    },
    {
     "name": "stdout",
     "output_type": "stream",
     "text": [
      "Epoch 700 - Train Loss: 0.0872, Train MSE: 0.0871, Train MAE: 0.2243\n",
      "Epoch 700 - Validation Loss: 0.8621, Validation MSE: 0.8625, Validation MAE: 0.7010\n"
     ]
    },
    {
     "name": "stderr",
     "output_type": "stream",
     "text": [
      "Training Epoch 702: 100%|██████████| 891/891 [00:04<00:00, 204.70it/s]\n",
      "Training Epoch 703: 100%|██████████| 891/891 [00:04<00:00, 208.05it/s]\n",
      "Training Epoch 704: 100%|██████████| 891/891 [00:04<00:00, 204.47it/s]\n",
      "Training Epoch 705: 100%|██████████| 891/891 [00:04<00:00, 206.83it/s]\n",
      "Training Epoch 706: 100%|██████████| 891/891 [00:04<00:00, 205.19it/s]\n",
      "Training Epoch 707: 100%|██████████| 891/891 [00:04<00:00, 202.81it/s]\n",
      "Training Epoch 708: 100%|██████████| 891/891 [00:04<00:00, 204.35it/s]\n",
      "Training Epoch 709: 100%|██████████| 891/891 [00:04<00:00, 205.10it/s]\n",
      "Training Epoch 710: 100%|██████████| 891/891 [00:04<00:00, 198.81it/s]\n",
      "Training Epoch 711: 100%|██████████| 891/891 [00:04<00:00, 206.01it/s]\n"
     ]
    },
    {
     "name": "stdout",
     "output_type": "stream",
     "text": [
      "Epoch 710 - Train Loss: 0.0883, Train MSE: 0.0883, Train MAE: 0.2237\n",
      "Epoch 710 - Validation Loss: 0.8609, Validation MSE: 0.8611, Validation MAE: 0.7007\n"
     ]
    },
    {
     "name": "stderr",
     "output_type": "stream",
     "text": [
      "Training Epoch 712: 100%|██████████| 891/891 [00:04<00:00, 204.28it/s]\n",
      "Training Epoch 713: 100%|██████████| 891/891 [00:04<00:00, 204.93it/s]\n",
      "Training Epoch 714: 100%|██████████| 891/891 [00:04<00:00, 214.18it/s]\n",
      "Training Epoch 715: 100%|██████████| 891/891 [00:04<00:00, 205.95it/s]\n",
      "Training Epoch 716: 100%|██████████| 891/891 [00:04<00:00, 206.87it/s]\n",
      "Training Epoch 717: 100%|██████████| 891/891 [00:04<00:00, 202.11it/s]\n",
      "Training Epoch 718: 100%|██████████| 891/891 [00:04<00:00, 205.30it/s]\n",
      "Training Epoch 719: 100%|██████████| 891/891 [00:04<00:00, 209.56it/s]\n",
      "Training Epoch 720: 100%|██████████| 891/891 [00:04<00:00, 204.95it/s]\n",
      "Training Epoch 721: 100%|██████████| 891/891 [00:04<00:00, 205.40it/s]\n"
     ]
    },
    {
     "name": "stdout",
     "output_type": "stream",
     "text": [
      "Epoch 720 - Train Loss: 0.0872, Train MSE: 0.0872, Train MAE: 0.2234\n",
      "Epoch 720 - Validation Loss: 0.8578, Validation MSE: 0.8567, Validation MAE: 0.6987\n"
     ]
    },
    {
     "name": "stderr",
     "output_type": "stream",
     "text": [
      "Training Epoch 722: 100%|██████████| 891/891 [00:04<00:00, 204.43it/s]\n",
      "Training Epoch 723: 100%|██████████| 891/891 [00:04<00:00, 202.02it/s]\n",
      "Training Epoch 724: 100%|██████████| 891/891 [00:04<00:00, 205.82it/s]\n",
      "Training Epoch 725: 100%|██████████| 891/891 [00:04<00:00, 211.59it/s]\n",
      "Training Epoch 726: 100%|██████████| 891/891 [00:04<00:00, 203.95it/s]\n",
      "Training Epoch 727: 100%|██████████| 891/891 [00:04<00:00, 201.69it/s]\n",
      "Training Epoch 728: 100%|██████████| 891/891 [00:04<00:00, 205.69it/s]\n",
      "Training Epoch 729: 100%|██████████| 891/891 [00:04<00:00, 205.81it/s]\n",
      "Training Epoch 730: 100%|██████████| 891/891 [00:04<00:00, 203.60it/s]\n",
      "Training Epoch 731: 100%|██████████| 891/891 [00:04<00:00, 203.13it/s]\n"
     ]
    },
    {
     "name": "stdout",
     "output_type": "stream",
     "text": [
      "Epoch 730 - Train Loss: 0.0873, Train MSE: 0.0873, Train MAE: 0.2232\n",
      "Epoch 730 - Validation Loss: 0.8541, Validation MSE: 0.8542, Validation MAE: 0.6972\n"
     ]
    },
    {
     "name": "stderr",
     "output_type": "stream",
     "text": [
      "Training Epoch 732: 100%|██████████| 891/891 [00:04<00:00, 208.79it/s]\n",
      "Training Epoch 733: 100%|██████████| 891/891 [00:04<00:00, 205.50it/s]\n",
      "Training Epoch 734: 100%|██████████| 891/891 [00:04<00:00, 203.77it/s]\n",
      "Training Epoch 735: 100%|██████████| 891/891 [00:04<00:00, 204.35it/s]\n",
      "Training Epoch 736: 100%|██████████| 891/891 [00:04<00:00, 199.86it/s]\n",
      "Training Epoch 737: 100%|██████████| 891/891 [00:04<00:00, 204.12it/s]\n",
      "Training Epoch 738: 100%|██████████| 891/891 [00:04<00:00, 208.58it/s]\n",
      "Training Epoch 739: 100%|██████████| 891/891 [00:04<00:00, 205.58it/s]\n",
      "Training Epoch 740: 100%|██████████| 891/891 [00:04<00:00, 204.74it/s]\n",
      "Training Epoch 741: 100%|██████████| 891/891 [00:04<00:00, 203.22it/s]\n"
     ]
    },
    {
     "name": "stdout",
     "output_type": "stream",
     "text": [
      "Epoch 740 - Train Loss: 0.0865, Train MSE: 0.0866, Train MAE: 0.2229\n",
      "Epoch 740 - Validation Loss: 0.8457, Validation MSE: 0.8451, Validation MAE: 0.6933\n"
     ]
    },
    {
     "name": "stderr",
     "output_type": "stream",
     "text": [
      "Training Epoch 742: 100%|██████████| 891/891 [00:04<00:00, 205.39it/s]\n",
      "Training Epoch 743: 100%|██████████| 891/891 [00:04<00:00, 203.71it/s]\n",
      "Training Epoch 744: 100%|██████████| 891/891 [00:04<00:00, 205.47it/s]\n",
      "Training Epoch 745: 100%|██████████| 891/891 [00:04<00:00, 205.01it/s]\n",
      "Training Epoch 746: 100%|██████████| 891/891 [00:04<00:00, 205.21it/s]\n",
      "Training Epoch 747: 100%|██████████| 891/891 [00:04<00:00, 206.04it/s]\n",
      "Training Epoch 748: 100%|██████████| 891/891 [00:04<00:00, 202.04it/s]\n",
      "Training Epoch 749: 100%|██████████| 891/891 [00:04<00:00, 200.57it/s]\n",
      "Training Epoch 750: 100%|██████████| 891/891 [00:04<00:00, 206.90it/s]\n",
      "Training Epoch 751: 100%|██████████| 891/891 [00:04<00:00, 202.41it/s]\n"
     ]
    },
    {
     "name": "stdout",
     "output_type": "stream",
     "text": [
      "Epoch 750 - Train Loss: 0.0858, Train MSE: 0.0859, Train MAE: 0.2216\n",
      "Epoch 750 - Validation Loss: 0.8436, Validation MSE: 0.8431, Validation MAE: 0.6915\n"
     ]
    },
    {
     "name": "stderr",
     "output_type": "stream",
     "text": [
      "Training Epoch 752: 100%|██████████| 891/891 [00:04<00:00, 203.82it/s]\n",
      "Training Epoch 753: 100%|██████████| 891/891 [00:04<00:00, 213.03it/s]\n",
      "Training Epoch 754: 100%|██████████| 891/891 [00:04<00:00, 201.16it/s]\n",
      "Training Epoch 755: 100%|██████████| 891/891 [00:04<00:00, 204.73it/s]\n",
      "Training Epoch 756: 100%|██████████| 891/891 [00:04<00:00, 204.16it/s]\n",
      "Training Epoch 757: 100%|██████████| 891/891 [00:04<00:00, 205.03it/s]\n",
      "Training Epoch 758: 100%|██████████| 891/891 [00:04<00:00, 206.27it/s]\n",
      "Training Epoch 759: 100%|██████████| 891/891 [00:04<00:00, 202.80it/s]\n",
      "Training Epoch 760: 100%|██████████| 891/891 [00:04<00:00, 204.54it/s]\n",
      "Training Epoch 761: 100%|██████████| 891/891 [00:04<00:00, 202.95it/s]\n"
     ]
    },
    {
     "name": "stdout",
     "output_type": "stream",
     "text": [
      "Epoch 760 - Train Loss: 0.0839, Train MSE: 0.0839, Train MAE: 0.2192\n",
      "Epoch 760 - Validation Loss: 0.8592, Validation MSE: 0.8600, Validation MAE: 0.6993\n"
     ]
    },
    {
     "name": "stderr",
     "output_type": "stream",
     "text": [
      "Training Epoch 762: 100%|██████████| 891/891 [00:04<00:00, 200.53it/s]\n",
      "Training Epoch 763: 100%|██████████| 891/891 [00:04<00:00, 205.23it/s]\n",
      "Training Epoch 764: 100%|██████████| 891/891 [00:04<00:00, 205.31it/s]\n",
      "Training Epoch 765: 100%|██████████| 891/891 [00:04<00:00, 203.89it/s]\n",
      "Training Epoch 766: 100%|██████████| 891/891 [00:04<00:00, 202.28it/s]\n",
      "Training Epoch 767: 100%|██████████| 891/891 [00:04<00:00, 204.76it/s]\n",
      "Training Epoch 768: 100%|██████████| 891/891 [00:04<00:00, 203.32it/s]\n",
      "Training Epoch 769: 100%|██████████| 891/891 [00:04<00:00, 200.37it/s]\n",
      "Training Epoch 770: 100%|██████████| 891/891 [00:04<00:00, 204.79it/s]\n",
      "Training Epoch 771: 100%|██████████| 891/891 [00:04<00:00, 204.18it/s]\n"
     ]
    },
    {
     "name": "stdout",
     "output_type": "stream",
     "text": [
      "Epoch 770 - Train Loss: 0.0839, Train MSE: 0.0839, Train MAE: 0.2195\n",
      "Epoch 770 - Validation Loss: 0.8785, Validation MSE: 0.8786, Validation MAE: 0.7060\n"
     ]
    },
    {
     "name": "stderr",
     "output_type": "stream",
     "text": [
      "Training Epoch 772: 100%|██████████| 891/891 [00:04<00:00, 201.78it/s]\n",
      "Training Epoch 773: 100%|██████████| 891/891 [00:04<00:00, 205.89it/s]\n",
      "Training Epoch 774: 100%|██████████| 891/891 [00:04<00:00, 205.61it/s]\n",
      "Training Epoch 775: 100%|██████████| 891/891 [00:04<00:00, 202.97it/s]\n",
      "Training Epoch 776: 100%|██████████| 891/891 [00:04<00:00, 201.67it/s]\n",
      "Training Epoch 777: 100%|██████████| 891/891 [00:04<00:00, 204.84it/s]\n",
      "Training Epoch 778: 100%|██████████| 891/891 [00:04<00:00, 194.10it/s]\n",
      "Training Epoch 779: 100%|██████████| 891/891 [00:04<00:00, 203.81it/s]\n",
      "Training Epoch 780: 100%|██████████| 891/891 [00:04<00:00, 200.05it/s]\n",
      "Training Epoch 781: 100%|██████████| 891/891 [00:04<00:00, 204.62it/s]\n"
     ]
    },
    {
     "name": "stdout",
     "output_type": "stream",
     "text": [
      "Epoch 780 - Train Loss: 0.0840, Train MSE: 0.0840, Train MAE: 0.2202\n",
      "Epoch 780 - Validation Loss: 0.8528, Validation MSE: 0.8532, Validation MAE: 0.6974\n"
     ]
    },
    {
     "name": "stderr",
     "output_type": "stream",
     "text": [
      "Training Epoch 782: 100%|██████████| 891/891 [00:04<00:00, 202.27it/s]\n",
      "Training Epoch 783: 100%|██████████| 891/891 [00:04<00:00, 200.22it/s]\n",
      "Training Epoch 784: 100%|██████████| 891/891 [00:04<00:00, 204.36it/s]\n",
      "Training Epoch 785: 100%|██████████| 891/891 [00:04<00:00, 202.41it/s]\n",
      "Training Epoch 786: 100%|██████████| 891/891 [00:04<00:00, 201.17it/s]\n",
      "Training Epoch 787: 100%|██████████| 891/891 [00:04<00:00, 205.52it/s]\n",
      "Training Epoch 788: 100%|██████████| 891/891 [00:04<00:00, 196.26it/s]\n",
      "Training Epoch 789: 100%|██████████| 891/891 [00:04<00:00, 201.64it/s]\n",
      "Training Epoch 790: 100%|██████████| 891/891 [00:04<00:00, 202.04it/s]\n",
      "Training Epoch 791: 100%|██████████| 891/891 [00:04<00:00, 202.50it/s]\n"
     ]
    },
    {
     "name": "stdout",
     "output_type": "stream",
     "text": [
      "Epoch 790 - Train Loss: 0.0820, Train MSE: 0.0821, Train MAE: 0.2166\n",
      "Epoch 790 - Validation Loss: 0.8598, Validation MSE: 0.8603, Validation MAE: 0.6991\n"
     ]
    },
    {
     "name": "stderr",
     "output_type": "stream",
     "text": [
      "Training Epoch 792: 100%|██████████| 891/891 [00:04<00:00, 202.92it/s]\n",
      "Training Epoch 793: 100%|██████████| 891/891 [00:04<00:00, 203.21it/s]\n",
      "Training Epoch 794: 100%|██████████| 891/891 [00:04<00:00, 202.86it/s]\n",
      "Training Epoch 795: 100%|██████████| 891/891 [00:04<00:00, 202.66it/s]\n",
      "Training Epoch 796: 100%|██████████| 891/891 [00:04<00:00, 203.12it/s]\n",
      "Training Epoch 797: 100%|██████████| 891/891 [00:04<00:00, 200.77it/s]\n",
      "Training Epoch 798: 100%|██████████| 891/891 [00:04<00:00, 203.20it/s]\n",
      "Training Epoch 799: 100%|██████████| 891/891 [00:04<00:00, 204.04it/s]\n",
      "Training Epoch 800: 100%|██████████| 891/891 [00:04<00:00, 202.39it/s]\n",
      "Training Epoch 801: 100%|██████████| 891/891 [00:04<00:00, 198.66it/s]\n"
     ]
    },
    {
     "name": "stdout",
     "output_type": "stream",
     "text": [
      "Epoch 800 - Train Loss: 0.0841, Train MSE: 0.0841, Train MAE: 0.2180\n",
      "Epoch 800 - Validation Loss: 0.8513, Validation MSE: 0.8518, Validation MAE: 0.6942\n"
     ]
    },
    {
     "name": "stderr",
     "output_type": "stream",
     "text": [
      "Training Epoch 802: 100%|██████████| 891/891 [00:04<00:00, 201.57it/s]\n",
      "Training Epoch 803: 100%|██████████| 891/891 [00:04<00:00, 204.38it/s]\n",
      "Training Epoch 804: 100%|██████████| 891/891 [00:04<00:00, 204.62it/s]\n",
      "Training Epoch 805: 100%|██████████| 891/891 [00:04<00:00, 203.59it/s]\n",
      "Training Epoch 806: 100%|██████████| 891/891 [00:04<00:00, 204.35it/s]\n",
      "Training Epoch 807: 100%|██████████| 891/891 [00:04<00:00, 203.27it/s]\n",
      "Training Epoch 808: 100%|██████████| 891/891 [00:04<00:00, 201.09it/s]\n",
      "Training Epoch 809: 100%|██████████| 891/891 [00:04<00:00, 202.93it/s]\n",
      "Training Epoch 810: 100%|██████████| 891/891 [00:04<00:00, 200.81it/s]\n",
      "Training Epoch 811: 100%|██████████| 891/891 [00:04<00:00, 202.58it/s]\n"
     ]
    },
    {
     "name": "stdout",
     "output_type": "stream",
     "text": [
      "Epoch 810 - Train Loss: 0.0838, Train MSE: 0.0839, Train MAE: 0.2190\n",
      "Epoch 810 - Validation Loss: 0.8719, Validation MSE: 0.8717, Validation MAE: 0.7046\n"
     ]
    },
    {
     "name": "stderr",
     "output_type": "stream",
     "text": [
      "Training Epoch 812: 100%|██████████| 891/891 [00:04<00:00, 204.18it/s]\n",
      "Training Epoch 813: 100%|██████████| 891/891 [00:04<00:00, 203.61it/s]\n",
      "Training Epoch 814: 100%|██████████| 891/891 [00:04<00:00, 198.19it/s]\n",
      "Training Epoch 815: 100%|██████████| 891/891 [00:04<00:00, 204.04it/s]\n",
      "Training Epoch 816: 100%|██████████| 891/891 [00:04<00:00, 201.49it/s]\n",
      "Training Epoch 817: 100%|██████████| 891/891 [00:04<00:00, 203.34it/s]\n",
      "Training Epoch 818: 100%|██████████| 891/891 [00:04<00:00, 204.23it/s]\n",
      "Training Epoch 819: 100%|██████████| 891/891 [00:04<00:00, 204.67it/s]\n",
      "Training Epoch 820: 100%|██████████| 891/891 [00:04<00:00, 206.69it/s]\n",
      "Training Epoch 821: 100%|██████████| 891/891 [00:04<00:00, 202.47it/s]\n"
     ]
    },
    {
     "name": "stdout",
     "output_type": "stream",
     "text": [
      "Epoch 820 - Train Loss: 0.0828, Train MSE: 0.0826, Train MAE: 0.2169\n",
      "Epoch 820 - Validation Loss: 0.8691, Validation MSE: 0.8697, Validation MAE: 0.7029\n"
     ]
    },
    {
     "name": "stderr",
     "output_type": "stream",
     "text": [
      "Training Epoch 822: 100%|██████████| 891/891 [00:04<00:00, 205.31it/s]\n",
      "Training Epoch 823: 100%|██████████| 891/891 [00:04<00:00, 201.62it/s]\n",
      "Training Epoch 824: 100%|██████████| 891/891 [00:04<00:00, 200.00it/s]\n",
      "Training Epoch 825: 100%|██████████| 891/891 [00:04<00:00, 199.62it/s]\n",
      "Training Epoch 826: 100%|██████████| 891/891 [00:04<00:00, 203.76it/s]\n",
      "Training Epoch 827: 100%|██████████| 891/891 [00:04<00:00, 196.10it/s]\n",
      "Training Epoch 828: 100%|██████████| 891/891 [00:04<00:00, 205.16it/s]\n",
      "Training Epoch 829: 100%|██████████| 891/891 [00:04<00:00, 205.38it/s]\n",
      "Training Epoch 830: 100%|██████████| 891/891 [00:04<00:00, 203.31it/s]\n",
      "Training Epoch 831: 100%|██████████| 891/891 [00:04<00:00, 202.11it/s]\n"
     ]
    },
    {
     "name": "stdout",
     "output_type": "stream",
     "text": [
      "Epoch 830 - Train Loss: 0.0813, Train MSE: 0.0813, Train MAE: 0.2164\n",
      "Epoch 830 - Validation Loss: 0.8569, Validation MSE: 0.8574, Validation MAE: 0.6981\n"
     ]
    },
    {
     "name": "stderr",
     "output_type": "stream",
     "text": [
      "Training Epoch 832: 100%|██████████| 891/891 [00:04<00:00, 204.73it/s]\n",
      "Training Epoch 833: 100%|██████████| 891/891 [00:04<00:00, 203.73it/s]\n",
      "Training Epoch 834: 100%|██████████| 891/891 [00:04<00:00, 203.06it/s]\n",
      "Training Epoch 835: 100%|██████████| 891/891 [00:04<00:00, 203.20it/s]\n",
      "Training Epoch 836: 100%|██████████| 891/891 [00:04<00:00, 203.36it/s]\n",
      "Training Epoch 837: 100%|██████████| 891/891 [00:04<00:00, 202.62it/s]\n",
      "Training Epoch 838: 100%|██████████| 891/891 [00:04<00:00, 202.83it/s]\n",
      "Training Epoch 839: 100%|██████████| 891/891 [00:04<00:00, 202.27it/s]\n",
      "Training Epoch 840: 100%|██████████| 891/891 [00:04<00:00, 204.34it/s]\n",
      "Training Epoch 841: 100%|██████████| 891/891 [00:04<00:00, 201.58it/s]\n"
     ]
    },
    {
     "name": "stdout",
     "output_type": "stream",
     "text": [
      "Epoch 840 - Train Loss: 0.0808, Train MSE: 0.0808, Train MAE: 0.2155\n",
      "Epoch 840 - Validation Loss: 0.8572, Validation MSE: 0.8570, Validation MAE: 0.6968\n"
     ]
    },
    {
     "name": "stderr",
     "output_type": "stream",
     "text": [
      "Training Epoch 842: 100%|██████████| 891/891 [00:04<00:00, 205.51it/s]\n",
      "Training Epoch 843: 100%|██████████| 891/891 [00:04<00:00, 202.01it/s]\n",
      "Training Epoch 844: 100%|██████████| 891/891 [00:04<00:00, 204.41it/s]\n",
      "Training Epoch 845: 100%|██████████| 891/891 [00:04<00:00, 201.56it/s]\n",
      "Training Epoch 846: 100%|██████████| 891/891 [00:04<00:00, 200.42it/s]\n",
      "Training Epoch 847: 100%|██████████| 891/891 [00:04<00:00, 202.25it/s]\n",
      "Training Epoch 848: 100%|██████████| 891/891 [00:04<00:00, 200.46it/s]\n",
      "Training Epoch 849: 100%|██████████| 891/891 [00:04<00:00, 204.38it/s]\n",
      "Training Epoch 850: 100%|██████████| 891/891 [00:04<00:00, 204.28it/s]\n",
      "Training Epoch 851: 100%|██████████| 891/891 [00:04<00:00, 203.02it/s]\n"
     ]
    },
    {
     "name": "stdout",
     "output_type": "stream",
     "text": [
      "Epoch 850 - Train Loss: 0.0809, Train MSE: 0.0809, Train MAE: 0.2146\n",
      "Epoch 850 - Validation Loss: 0.8630, Validation MSE: 0.8624, Validation MAE: 0.6998\n"
     ]
    },
    {
     "name": "stderr",
     "output_type": "stream",
     "text": [
      "Training Epoch 852: 100%|██████████| 891/891 [00:04<00:00, 196.72it/s]\n",
      "Training Epoch 853: 100%|██████████| 891/891 [00:04<00:00, 202.75it/s]\n",
      "Training Epoch 854: 100%|██████████| 891/891 [00:04<00:00, 201.53it/s]\n",
      "Training Epoch 855: 100%|██████████| 891/891 [00:04<00:00, 199.89it/s]\n",
      "Training Epoch 856: 100%|██████████| 891/891 [00:04<00:00, 204.29it/s]\n",
      "Training Epoch 857: 100%|██████████| 891/891 [00:04<00:00, 203.22it/s]\n",
      "Training Epoch 858: 100%|██████████| 891/891 [00:04<00:00, 202.22it/s]\n",
      "Training Epoch 859: 100%|██████████| 891/891 [00:04<00:00, 207.63it/s]\n",
      "Training Epoch 860: 100%|██████████| 891/891 [00:04<00:00, 201.13it/s]\n",
      "Training Epoch 861: 100%|██████████| 891/891 [00:04<00:00, 202.83it/s]\n"
     ]
    },
    {
     "name": "stdout",
     "output_type": "stream",
     "text": [
      "Epoch 860 - Train Loss: 0.0785, Train MSE: 0.0785, Train MAE: 0.2131\n",
      "Epoch 860 - Validation Loss: 0.8639, Validation MSE: 0.8637, Validation MAE: 0.7000\n"
     ]
    },
    {
     "name": "stderr",
     "output_type": "stream",
     "text": [
      "Training Epoch 862: 100%|██████████| 891/891 [00:04<00:00, 201.53it/s]\n",
      "Training Epoch 863: 100%|██████████| 891/891 [00:04<00:00, 201.69it/s]\n",
      "Training Epoch 864: 100%|██████████| 891/891 [00:04<00:00, 202.57it/s]\n",
      "Training Epoch 865: 100%|██████████| 891/891 [00:04<00:00, 195.82it/s]\n",
      "Training Epoch 866: 100%|██████████| 891/891 [00:04<00:00, 199.69it/s]\n",
      "Training Epoch 867: 100%|██████████| 891/891 [00:04<00:00, 201.40it/s]\n",
      "Training Epoch 868: 100%|██████████| 891/891 [00:04<00:00, 202.75it/s]\n",
      "Training Epoch 869: 100%|██████████| 891/891 [00:04<00:00, 201.08it/s]\n",
      "Training Epoch 870: 100%|██████████| 891/891 [00:04<00:00, 199.69it/s]\n",
      "Training Epoch 871: 100%|██████████| 891/891 [00:04<00:00, 202.60it/s]\n"
     ]
    },
    {
     "name": "stdout",
     "output_type": "stream",
     "text": [
      "Epoch 870 - Train Loss: 0.0802, Train MSE: 0.0800, Train MAE: 0.2140\n",
      "Epoch 870 - Validation Loss: 0.8476, Validation MSE: 0.8477, Validation MAE: 0.6932\n"
     ]
    },
    {
     "name": "stderr",
     "output_type": "stream",
     "text": [
      "Training Epoch 872: 100%|██████████| 891/891 [00:04<00:00, 199.94it/s]\n",
      "Training Epoch 873: 100%|██████████| 891/891 [00:04<00:00, 203.36it/s]\n",
      "Training Epoch 874: 100%|██████████| 891/891 [00:04<00:00, 201.86it/s]\n",
      "Training Epoch 875: 100%|██████████| 891/891 [00:04<00:00, 199.64it/s]\n",
      "Training Epoch 876: 100%|██████████| 891/891 [00:04<00:00, 201.58it/s]\n",
      "Training Epoch 877: 100%|██████████| 891/891 [00:04<00:00, 205.84it/s]\n",
      "Training Epoch 878: 100%|██████████| 891/891 [00:04<00:00, 193.65it/s]\n",
      "Training Epoch 879: 100%|██████████| 891/891 [00:04<00:00, 204.44it/s]\n",
      "Training Epoch 880: 100%|██████████| 891/891 [00:04<00:00, 203.22it/s]\n",
      "Training Epoch 881: 100%|██████████| 891/891 [00:04<00:00, 201.27it/s]\n"
     ]
    },
    {
     "name": "stdout",
     "output_type": "stream",
     "text": [
      "Epoch 880 - Train Loss: 0.0814, Train MSE: 0.0814, Train MAE: 0.2131\n",
      "Epoch 880 - Validation Loss: 0.8559, Validation MSE: 0.8554, Validation MAE: 0.6959\n"
     ]
    },
    {
     "name": "stderr",
     "output_type": "stream",
     "text": [
      "Training Epoch 882: 100%|██████████| 891/891 [00:04<00:00, 201.91it/s]\n",
      "Training Epoch 883: 100%|██████████| 891/891 [00:04<00:00, 199.14it/s]\n",
      "Training Epoch 884: 100%|██████████| 891/891 [00:04<00:00, 203.46it/s]\n",
      "Training Epoch 885: 100%|██████████| 891/891 [00:04<00:00, 202.44it/s]\n",
      "Training Epoch 886: 100%|██████████| 891/891 [00:04<00:00, 207.68it/s]\n",
      "Training Epoch 887: 100%|██████████| 891/891 [00:04<00:00, 203.38it/s]\n",
      "Training Epoch 888: 100%|██████████| 891/891 [00:04<00:00, 203.08it/s]\n",
      "Training Epoch 889: 100%|██████████| 891/891 [00:04<00:00, 201.92it/s]\n",
      "Training Epoch 890: 100%|██████████| 891/891 [00:04<00:00, 204.98it/s]\n",
      "Training Epoch 891: 100%|██████████| 891/891 [00:04<00:00, 198.38it/s]\n"
     ]
    },
    {
     "name": "stdout",
     "output_type": "stream",
     "text": [
      "Epoch 890 - Train Loss: 0.0796, Train MSE: 0.0796, Train MAE: 0.2122\n",
      "Epoch 890 - Validation Loss: 0.8610, Validation MSE: 0.8613, Validation MAE: 0.6994\n"
     ]
    },
    {
     "name": "stderr",
     "output_type": "stream",
     "text": [
      "Training Epoch 892: 100%|██████████| 891/891 [00:04<00:00, 205.96it/s]\n",
      "Training Epoch 893: 100%|██████████| 891/891 [00:04<00:00, 201.35it/s]\n",
      "Training Epoch 894: 100%|██████████| 891/891 [00:04<00:00, 204.81it/s]\n",
      "Training Epoch 895: 100%|██████████| 891/891 [00:04<00:00, 202.42it/s]\n",
      "Training Epoch 896: 100%|██████████| 891/891 [00:04<00:00, 201.23it/s]\n",
      "Training Epoch 897: 100%|██████████| 891/891 [00:04<00:00, 202.06it/s]\n",
      "Training Epoch 898: 100%|██████████| 891/891 [00:04<00:00, 203.71it/s]\n",
      "Training Epoch 899: 100%|██████████| 891/891 [00:04<00:00, 201.82it/s]\n",
      "Training Epoch 900: 100%|██████████| 891/891 [00:04<00:00, 204.94it/s]\n",
      "Training Epoch 901: 100%|██████████| 891/891 [00:04<00:00, 202.96it/s]\n"
     ]
    },
    {
     "name": "stdout",
     "output_type": "stream",
     "text": [
      "Epoch 900 - Train Loss: 0.0780, Train MSE: 0.0780, Train MAE: 0.2117\n",
      "Epoch 900 - Validation Loss: 0.8469, Validation MSE: 0.8469, Validation MAE: 0.6953\n"
     ]
    },
    {
     "name": "stderr",
     "output_type": "stream",
     "text": [
      "Training Epoch 902: 100%|██████████| 891/891 [00:04<00:00, 203.87it/s]\n",
      "Training Epoch 903: 100%|██████████| 891/891 [00:04<00:00, 203.27it/s]\n",
      "Training Epoch 904: 100%|██████████| 891/891 [00:04<00:00, 199.39it/s]\n",
      "Training Epoch 905: 100%|██████████| 891/891 [00:04<00:00, 203.13it/s]\n",
      "Training Epoch 906: 100%|██████████| 891/891 [00:04<00:00, 201.99it/s]\n",
      "Training Epoch 907: 100%|██████████| 891/891 [00:04<00:00, 205.62it/s]\n",
      "Training Epoch 908: 100%|██████████| 891/891 [00:04<00:00, 203.66it/s]\n",
      "Training Epoch 909: 100%|██████████| 891/891 [00:04<00:00, 202.79it/s]\n",
      "Training Epoch 910: 100%|██████████| 891/891 [00:04<00:00, 202.47it/s]\n",
      "Training Epoch 911: 100%|██████████| 891/891 [00:04<00:00, 200.97it/s]\n"
     ]
    },
    {
     "name": "stdout",
     "output_type": "stream",
     "text": [
      "Epoch 910 - Train Loss: 0.0775, Train MSE: 0.0775, Train MAE: 0.2101\n",
      "Epoch 910 - Validation Loss: 0.8587, Validation MSE: 0.8586, Validation MAE: 0.6961\n"
     ]
    },
    {
     "name": "stderr",
     "output_type": "stream",
     "text": [
      "Training Epoch 912: 100%|██████████| 891/891 [00:04<00:00, 204.01it/s]\n",
      "Training Epoch 913: 100%|██████████| 891/891 [00:04<00:00, 203.68it/s]\n",
      "Training Epoch 914: 100%|██████████| 891/891 [00:04<00:00, 205.63it/s]\n",
      "Training Epoch 915: 100%|██████████| 891/891 [00:04<00:00, 208.46it/s]\n",
      "Training Epoch 916: 100%|██████████| 891/891 [00:04<00:00, 208.42it/s]\n",
      "Training Epoch 917: 100%|██████████| 891/891 [00:04<00:00, 196.76it/s]\n",
      "Training Epoch 918: 100%|██████████| 891/891 [00:04<00:00, 201.17it/s]\n",
      "Training Epoch 919: 100%|██████████| 891/891 [00:04<00:00, 205.05it/s]\n",
      "Training Epoch 920: 100%|██████████| 891/891 [00:04<00:00, 200.67it/s]\n",
      "Training Epoch 921: 100%|██████████| 891/891 [00:04<00:00, 204.18it/s]\n"
     ]
    },
    {
     "name": "stdout",
     "output_type": "stream",
     "text": [
      "Epoch 920 - Train Loss: 0.0777, Train MSE: 0.0777, Train MAE: 0.2110\n",
      "Epoch 920 - Validation Loss: 0.8574, Validation MSE: 0.8570, Validation MAE: 0.6949\n"
     ]
    },
    {
     "name": "stderr",
     "output_type": "stream",
     "text": [
      "Training Epoch 922: 100%|██████████| 891/891 [00:04<00:00, 204.21it/s]\n",
      "Training Epoch 923: 100%|██████████| 891/891 [00:04<00:00, 203.04it/s]\n",
      "Training Epoch 924: 100%|██████████| 891/891 [00:04<00:00, 204.52it/s]\n",
      "Training Epoch 925: 100%|██████████| 891/891 [00:04<00:00, 204.04it/s]\n",
      "Training Epoch 926: 100%|██████████| 891/891 [00:04<00:00, 204.73it/s]\n",
      "Training Epoch 927: 100%|██████████| 891/891 [00:04<00:00, 203.01it/s]\n",
      "Training Epoch 928: 100%|██████████| 891/891 [00:04<00:00, 203.06it/s]\n",
      "Training Epoch 929: 100%|██████████| 891/891 [00:04<00:00, 202.58it/s]\n",
      "Training Epoch 930: 100%|██████████| 891/891 [00:04<00:00, 197.24it/s]\n",
      "Training Epoch 931: 100%|██████████| 891/891 [00:04<00:00, 203.36it/s]\n"
     ]
    },
    {
     "name": "stdout",
     "output_type": "stream",
     "text": [
      "Epoch 930 - Train Loss: 0.0763, Train MSE: 0.0763, Train MAE: 0.2095\n",
      "Epoch 930 - Validation Loss: 0.8419, Validation MSE: 0.8419, Validation MAE: 0.6909\n"
     ]
    },
    {
     "name": "stderr",
     "output_type": "stream",
     "text": [
      "Training Epoch 932: 100%|██████████| 891/891 [00:04<00:00, 204.53it/s]\n",
      "Training Epoch 933: 100%|██████████| 891/891 [00:04<00:00, 205.99it/s]\n",
      "Training Epoch 934: 100%|██████████| 891/891 [00:04<00:00, 201.58it/s]\n",
      "Training Epoch 935: 100%|██████████| 891/891 [00:04<00:00, 201.26it/s]\n",
      "Training Epoch 936: 100%|██████████| 891/891 [00:04<00:00, 206.61it/s]\n",
      "Training Epoch 937: 100%|██████████| 891/891 [00:04<00:00, 203.83it/s]\n",
      "Training Epoch 938: 100%|██████████| 891/891 [00:04<00:00, 200.88it/s]\n",
      "Training Epoch 939: 100%|██████████| 891/891 [00:04<00:00, 203.13it/s]\n",
      "Training Epoch 940: 100%|██████████| 891/891 [00:04<00:00, 202.53it/s]\n",
      "Training Epoch 941: 100%|██████████| 891/891 [00:04<00:00, 202.78it/s]\n"
     ]
    },
    {
     "name": "stdout",
     "output_type": "stream",
     "text": [
      "Epoch 940 - Train Loss: 0.0780, Train MSE: 0.0781, Train MAE: 0.2112\n",
      "Epoch 940 - Validation Loss: 0.8587, Validation MSE: 0.8590, Validation MAE: 0.6972\n"
     ]
    },
    {
     "name": "stderr",
     "output_type": "stream",
     "text": [
      "Training Epoch 942: 100%|██████████| 891/891 [00:04<00:00, 203.54it/s]\n",
      "Training Epoch 943: 100%|██████████| 891/891 [00:04<00:00, 199.01it/s]\n",
      "Training Epoch 944: 100%|██████████| 891/891 [00:04<00:00, 202.92it/s]\n",
      "Training Epoch 945: 100%|██████████| 891/891 [00:04<00:00, 203.75it/s]\n",
      "Training Epoch 946: 100%|██████████| 891/891 [00:04<00:00, 204.74it/s]\n",
      "Training Epoch 947: 100%|██████████| 891/891 [00:04<00:00, 201.02it/s]\n",
      "Training Epoch 948: 100%|██████████| 891/891 [00:04<00:00, 203.39it/s]\n",
      "Training Epoch 949: 100%|██████████| 891/891 [00:04<00:00, 204.29it/s]\n",
      "Training Epoch 950: 100%|██████████| 891/891 [00:04<00:00, 204.62it/s]\n",
      "Training Epoch 951: 100%|██████████| 891/891 [00:04<00:00, 205.34it/s]\n"
     ]
    },
    {
     "name": "stdout",
     "output_type": "stream",
     "text": [
      "Epoch 950 - Train Loss: 0.0768, Train MSE: 0.0768, Train MAE: 0.2095\n",
      "Epoch 950 - Validation Loss: 0.8536, Validation MSE: 0.8529, Validation MAE: 0.6967\n"
     ]
    },
    {
     "name": "stderr",
     "output_type": "stream",
     "text": [
      "Training Epoch 952: 100%|██████████| 891/891 [00:04<00:00, 205.10it/s]\n",
      "Training Epoch 953: 100%|██████████| 891/891 [00:04<00:00, 204.44it/s]\n",
      "Training Epoch 954: 100%|██████████| 891/891 [00:04<00:00, 203.17it/s]\n",
      "Training Epoch 955: 100%|██████████| 891/891 [00:04<00:00, 205.16it/s]\n",
      "Training Epoch 956: 100%|██████████| 891/891 [00:04<00:00, 204.33it/s]\n",
      "Training Epoch 957: 100%|██████████| 891/891 [00:04<00:00, 202.89it/s]\n",
      "Training Epoch 958: 100%|██████████| 891/891 [00:04<00:00, 201.69it/s]\n",
      "Training Epoch 959: 100%|██████████| 891/891 [00:04<00:00, 201.58it/s]\n",
      "Training Epoch 960: 100%|██████████| 891/891 [00:04<00:00, 202.80it/s]\n",
      "Training Epoch 961: 100%|██████████| 891/891 [00:04<00:00, 199.72it/s]\n"
     ]
    },
    {
     "name": "stdout",
     "output_type": "stream",
     "text": [
      "Epoch 960 - Train Loss: 0.0753, Train MSE: 0.0753, Train MAE: 0.2078\n",
      "Epoch 960 - Validation Loss: 0.8549, Validation MSE: 0.8547, Validation MAE: 0.6963\n"
     ]
    },
    {
     "name": "stderr",
     "output_type": "stream",
     "text": [
      "Training Epoch 962: 100%|██████████| 891/891 [00:04<00:00, 202.80it/s]\n",
      "Training Epoch 963: 100%|██████████| 891/891 [00:04<00:00, 205.87it/s]\n",
      "Training Epoch 964: 100%|██████████| 891/891 [00:04<00:00, 203.13it/s]\n",
      "Training Epoch 965: 100%|██████████| 891/891 [00:04<00:00, 202.26it/s]\n",
      "Training Epoch 966: 100%|██████████| 891/891 [00:04<00:00, 203.54it/s]\n",
      "Training Epoch 967: 100%|██████████| 891/891 [00:04<00:00, 201.51it/s]\n",
      "Training Epoch 968: 100%|██████████| 891/891 [00:04<00:00, 199.07it/s]\n",
      "Training Epoch 969: 100%|██████████| 891/891 [00:04<00:00, 204.62it/s]\n",
      "Training Epoch 970: 100%|██████████| 891/891 [00:04<00:00, 205.96it/s]\n",
      "Training Epoch 971: 100%|██████████| 891/891 [00:04<00:00, 206.59it/s]\n"
     ]
    },
    {
     "name": "stdout",
     "output_type": "stream",
     "text": [
      "Epoch 970 - Train Loss: 0.0753, Train MSE: 0.0753, Train MAE: 0.2086\n",
      "Epoch 970 - Validation Loss: 0.8536, Validation MSE: 0.8536, Validation MAE: 0.6954\n"
     ]
    },
    {
     "name": "stderr",
     "output_type": "stream",
     "text": [
      "Training Epoch 972: 100%|██████████| 891/891 [00:04<00:00, 200.51it/s]\n",
      "Training Epoch 973: 100%|██████████| 891/891 [00:04<00:00, 203.77it/s]\n",
      "Training Epoch 974: 100%|██████████| 891/891 [00:04<00:00, 204.27it/s]\n",
      "Training Epoch 975: 100%|██████████| 891/891 [00:04<00:00, 185.78it/s]\n",
      "Training Epoch 976: 100%|██████████| 891/891 [00:04<00:00, 188.12it/s]\n",
      "Training Epoch 977: 100%|██████████| 891/891 [00:04<00:00, 191.56it/s]\n",
      "Training Epoch 978: 100%|██████████| 891/891 [00:04<00:00, 191.31it/s]\n",
      "Training Epoch 979: 100%|██████████| 891/891 [00:04<00:00, 198.19it/s]\n",
      "Training Epoch 980: 100%|██████████| 891/891 [00:04<00:00, 199.27it/s]\n",
      "Training Epoch 981: 100%|██████████| 891/891 [00:04<00:00, 190.22it/s]\n"
     ]
    },
    {
     "name": "stdout",
     "output_type": "stream",
     "text": [
      "Epoch 980 - Train Loss: 0.0751, Train MSE: 0.0751, Train MAE: 0.2067\n",
      "Epoch 980 - Validation Loss: 0.8615, Validation MSE: 0.8602, Validation MAE: 0.6978\n"
     ]
    },
    {
     "name": "stderr",
     "output_type": "stream",
     "text": [
      "Training Epoch 982: 100%|██████████| 891/891 [00:04<00:00, 194.93it/s]\n",
      "Training Epoch 983: 100%|██████████| 891/891 [00:04<00:00, 194.28it/s]\n",
      "Training Epoch 984: 100%|██████████| 891/891 [00:04<00:00, 187.20it/s]\n",
      "Training Epoch 985: 100%|██████████| 891/891 [00:04<00:00, 193.54it/s]\n",
      "Training Epoch 986: 100%|██████████| 891/891 [00:04<00:00, 203.98it/s]\n",
      "Training Epoch 987: 100%|██████████| 891/891 [00:04<00:00, 205.39it/s]\n",
      "Training Epoch 988: 100%|██████████| 891/891 [00:04<00:00, 202.29it/s]\n",
      "Training Epoch 989: 100%|██████████| 891/891 [00:04<00:00, 204.77it/s]\n",
      "Training Epoch 990: 100%|██████████| 891/891 [00:04<00:00, 204.26it/s]\n",
      "Training Epoch 991: 100%|██████████| 891/891 [00:04<00:00, 201.89it/s]\n"
     ]
    },
    {
     "name": "stdout",
     "output_type": "stream",
     "text": [
      "Epoch 990 - Train Loss: 0.0738, Train MSE: 0.0738, Train MAE: 0.2060\n",
      "Epoch 990 - Validation Loss: 0.8419, Validation MSE: 0.8414, Validation MAE: 0.6909\n"
     ]
    },
    {
     "name": "stderr",
     "output_type": "stream",
     "text": [
      "Training Epoch 992: 100%|██████████| 891/891 [00:04<00:00, 201.75it/s]\n",
      "Training Epoch 993: 100%|██████████| 891/891 [00:04<00:00, 208.65it/s]\n",
      "Training Epoch 994: 100%|██████████| 891/891 [00:04<00:00, 197.37it/s]\n",
      "Training Epoch 995: 100%|██████████| 891/891 [00:04<00:00, 201.84it/s]\n",
      "Training Epoch 996: 100%|██████████| 891/891 [00:04<00:00, 203.19it/s]\n",
      "Training Epoch 997: 100%|██████████| 891/891 [00:04<00:00, 203.04it/s]\n",
      "Training Epoch 998: 100%|██████████| 891/891 [00:04<00:00, 202.82it/s]\n",
      "Training Epoch 999: 100%|██████████| 891/891 [00:04<00:00, 201.23it/s]\n",
      "Training Epoch 1000: 100%|██████████| 891/891 [00:04<00:00, 202.62it/s]\n",
      "Training Epoch 1001: 100%|██████████| 891/891 [00:04<00:00, 204.56it/s]\n"
     ]
    },
    {
     "name": "stdout",
     "output_type": "stream",
     "text": [
      "Epoch 1000 - Train Loss: 0.0746, Train MSE: 0.0747, Train MAE: 0.2061\n",
      "Epoch 1000 - Validation Loss: 0.8579, Validation MSE: 0.8561, Validation MAE: 0.6976\n"
     ]
    },
    {
     "name": "stderr",
     "output_type": "stream",
     "text": [
      "Training Epoch 1002: 100%|██████████| 891/891 [00:04<00:00, 203.05it/s]\n",
      "Training Epoch 1003: 100%|██████████| 891/891 [00:04<00:00, 203.79it/s]\n",
      "Training Epoch 1004: 100%|██████████| 891/891 [00:04<00:00, 204.70it/s]\n",
      "Training Epoch 1005: 100%|██████████| 891/891 [00:04<00:00, 202.19it/s]\n",
      "Training Epoch 1006: 100%|██████████| 891/891 [00:04<00:00, 199.49it/s]\n",
      "Training Epoch 1007: 100%|██████████| 891/891 [00:04<00:00, 206.59it/s]\n",
      "Training Epoch 1008: 100%|██████████| 891/891 [00:04<00:00, 204.41it/s]\n",
      "Training Epoch 1009: 100%|██████████| 891/891 [00:04<00:00, 208.64it/s]\n",
      "Training Epoch 1010: 100%|██████████| 891/891 [00:04<00:00, 200.34it/s]\n",
      "Training Epoch 1011: 100%|██████████| 891/891 [00:04<00:00, 204.17it/s]\n"
     ]
    },
    {
     "name": "stdout",
     "output_type": "stream",
     "text": [
      "Epoch 1010 - Train Loss: 0.0728, Train MSE: 0.0728, Train MAE: 0.2044\n",
      "Epoch 1010 - Validation Loss: 0.8519, Validation MSE: 0.8500, Validation MAE: 0.6939\n"
     ]
    },
    {
     "name": "stderr",
     "output_type": "stream",
     "text": [
      "Training Epoch 1012: 100%|██████████| 891/891 [00:04<00:00, 202.62it/s]\n",
      "Training Epoch 1013: 100%|██████████| 891/891 [00:04<00:00, 201.97it/s]\n",
      "Training Epoch 1014: 100%|██████████| 891/891 [00:04<00:00, 203.23it/s]\n",
      "Training Epoch 1015: 100%|██████████| 891/891 [00:04<00:00, 202.99it/s]\n",
      "Training Epoch 1016: 100%|██████████| 891/891 [00:04<00:00, 202.56it/s]\n",
      "Training Epoch 1017: 100%|██████████| 891/891 [00:04<00:00, 201.56it/s]\n",
      "Training Epoch 1018: 100%|██████████| 891/891 [00:04<00:00, 203.95it/s]\n",
      "Training Epoch 1019: 100%|██████████| 891/891 [00:04<00:00, 197.36it/s]\n",
      "Training Epoch 1020: 100%|██████████| 891/891 [00:04<00:00, 201.65it/s]\n",
      "Training Epoch 1021: 100%|██████████| 891/891 [00:04<00:00, 204.29it/s]\n"
     ]
    },
    {
     "name": "stdout",
     "output_type": "stream",
     "text": [
      "Epoch 1020 - Train Loss: 0.0739, Train MSE: 0.0738, Train MAE: 0.2050\n",
      "Epoch 1020 - Validation Loss: 0.8518, Validation MSE: 0.8518, Validation MAE: 0.6963\n"
     ]
    },
    {
     "name": "stderr",
     "output_type": "stream",
     "text": [
      "Training Epoch 1022: 100%|██████████| 891/891 [00:04<00:00, 202.86it/s]\n",
      "Training Epoch 1023: 100%|██████████| 891/891 [00:04<00:00, 203.37it/s]\n",
      "Training Epoch 1024: 100%|██████████| 891/891 [00:04<00:00, 200.77it/s]\n",
      "Training Epoch 1025: 100%|██████████| 891/891 [00:04<00:00, 190.44it/s]\n",
      "Training Epoch 1026: 100%|██████████| 891/891 [00:04<00:00, 200.80it/s]\n",
      "Training Epoch 1027: 100%|██████████| 891/891 [00:04<00:00, 190.97it/s]\n",
      "Training Epoch 1028: 100%|██████████| 891/891 [16:29<00:00,  1.11s/it] \n",
      "Training Epoch 1029: 100%|██████████| 891/891 [00:05<00:00, 164.53it/s]\n",
      "Training Epoch 1030: 100%|██████████| 891/891 [00:04<00:00, 197.79it/s]\n",
      "Training Epoch 1031: 100%|██████████| 891/891 [00:04<00:00, 197.37it/s]\n"
     ]
    },
    {
     "name": "stdout",
     "output_type": "stream",
     "text": [
      "Epoch 1030 - Train Loss: 0.0738, Train MSE: 0.0739, Train MAE: 0.2054\n",
      "Epoch 1030 - Validation Loss: 0.8624, Validation MSE: 0.8612, Validation MAE: 0.6977\n"
     ]
    },
    {
     "name": "stderr",
     "output_type": "stream",
     "text": [
      "Training Epoch 1032: 100%|██████████| 891/891 [00:04<00:00, 189.05it/s]\n",
      "Training Epoch 1033: 100%|██████████| 891/891 [00:04<00:00, 194.97it/s]\n",
      "Training Epoch 1034: 100%|██████████| 891/891 [00:04<00:00, 194.34it/s]\n",
      "Training Epoch 1035: 100%|██████████| 891/891 [00:04<00:00, 193.47it/s]\n",
      "Training Epoch 1036: 100%|██████████| 891/891 [00:04<00:00, 196.04it/s]\n",
      "Training Epoch 1037: 100%|██████████| 891/891 [00:04<00:00, 198.47it/s]\n",
      "Training Epoch 1038: 100%|██████████| 891/891 [16:41<00:00,  1.12s/it] \n",
      "Training Epoch 1039: 100%|██████████| 891/891 [15:28<00:00,  1.04s/it]  \n",
      "Training Epoch 1040: 100%|██████████| 891/891 [15:08<00:00,  1.02s/it]  \n",
      "Training Epoch 1041: 100%|██████████| 891/891 [13:06<00:00,  1.13it/s]  \n"
     ]
    },
    {
     "name": "stdout",
     "output_type": "stream",
     "text": [
      "Epoch 1040 - Train Loss: 0.0716, Train MSE: 0.0716, Train MAE: 0.2025\n",
      "Epoch 1040 - Validation Loss: 0.8481, Validation MSE: 0.8476, Validation MAE: 0.6904\n"
     ]
    },
    {
     "name": "stderr",
     "output_type": "stream",
     "text": [
      "Training Epoch 1042: 100%|██████████| 891/891 [00:07<00:00, 124.36it/s]\n",
      "Training Epoch 1043: 100%|██████████| 891/891 [00:04<00:00, 186.72it/s]\n",
      "Training Epoch 1044: 100%|██████████| 891/891 [00:04<00:00, 197.99it/s]\n",
      "Training Epoch 1045: 100%|██████████| 891/891 [00:04<00:00, 195.98it/s]\n",
      "Training Epoch 1046: 100%|██████████| 891/891 [00:07<00:00, 119.58it/s]\n",
      "Training Epoch 1047: 100%|██████████| 891/891 [00:04<00:00, 191.77it/s]\n",
      "Training Epoch 1048: 100%|██████████| 891/891 [00:04<00:00, 192.78it/s]\n",
      "Training Epoch 1049: 100%|██████████| 891/891 [00:04<00:00, 189.89it/s]\n",
      "Training Epoch 1050: 100%|██████████| 891/891 [00:05<00:00, 167.46it/s]\n",
      "Training Epoch 1051: 100%|██████████| 891/891 [00:04<00:00, 189.76it/s]\n"
     ]
    },
    {
     "name": "stdout",
     "output_type": "stream",
     "text": [
      "Epoch 1050 - Train Loss: 0.0734, Train MSE: 0.0734, Train MAE: 0.2038\n",
      "Epoch 1050 - Validation Loss: 0.8494, Validation MSE: 0.8488, Validation MAE: 0.6937\n"
     ]
    },
    {
     "name": "stderr",
     "output_type": "stream",
     "text": [
      "Training Epoch 1052: 100%|██████████| 891/891 [00:04<00:00, 202.07it/s]\n",
      "Training Epoch 1053: 100%|██████████| 891/891 [00:04<00:00, 201.18it/s]\n",
      "Training Epoch 1054: 100%|██████████| 891/891 [00:04<00:00, 200.74it/s]\n",
      "Training Epoch 1055: 100%|██████████| 891/891 [00:05<00:00, 178.16it/s]\n",
      "Training Epoch 1056: 100%|██████████| 891/891 [00:04<00:00, 197.31it/s]\n",
      "Training Epoch 1057: 100%|██████████| 891/891 [00:04<00:00, 194.88it/s]\n",
      "Training Epoch 1058: 100%|██████████| 891/891 [00:04<00:00, 198.94it/s]\n",
      "Training Epoch 1059: 100%|██████████| 891/891 [00:04<00:00, 188.98it/s]\n",
      "Training Epoch 1060: 100%|██████████| 891/891 [00:04<00:00, 195.51it/s]\n",
      "Training Epoch 1061: 100%|██████████| 891/891 [00:04<00:00, 194.84it/s]\n"
     ]
    },
    {
     "name": "stdout",
     "output_type": "stream",
     "text": [
      "Epoch 1060 - Train Loss: 0.0734, Train MSE: 0.0734, Train MAE: 0.2041\n",
      "Epoch 1060 - Validation Loss: 0.8586, Validation MSE: 0.8580, Validation MAE: 0.6954\n"
     ]
    },
    {
     "name": "stderr",
     "output_type": "stream",
     "text": [
      "Training Epoch 1062: 100%|██████████| 891/891 [00:04<00:00, 199.73it/s]\n",
      "Training Epoch 1063: 100%|██████████| 891/891 [00:04<00:00, 199.14it/s]\n",
      "Training Epoch 1064: 100%|██████████| 891/891 [00:04<00:00, 195.23it/s]\n",
      "Training Epoch 1065: 100%|██████████| 891/891 [00:04<00:00, 196.67it/s]\n",
      "Training Epoch 1066: 100%|██████████| 891/891 [00:04<00:00, 196.17it/s]\n",
      "Training Epoch 1067: 100%|██████████| 891/891 [00:04<00:00, 195.69it/s]\n",
      "Training Epoch 1068: 100%|██████████| 891/891 [00:04<00:00, 197.91it/s]\n",
      "Training Epoch 1069: 100%|██████████| 891/891 [00:04<00:00, 201.54it/s]\n",
      "Training Epoch 1070: 100%|██████████| 891/891 [00:04<00:00, 200.83it/s]\n",
      "Training Epoch 1071: 100%|██████████| 891/891 [13:28<00:00,  1.10it/s] \n"
     ]
    },
    {
     "name": "stdout",
     "output_type": "stream",
     "text": [
      "Epoch 1070 - Train Loss: 0.0712, Train MSE: 0.0713, Train MAE: 0.2025\n",
      "Epoch 1070 - Validation Loss: 0.8471, Validation MSE: 0.8473, Validation MAE: 0.6923\n"
     ]
    },
    {
     "name": "stderr",
     "output_type": "stream",
     "text": [
      "Training Epoch 1072: 100%|██████████| 891/891 [00:04<00:00, 200.81it/s]\n",
      "Training Epoch 1073: 100%|██████████| 891/891 [00:04<00:00, 199.69it/s]\n",
      "Training Epoch 1074: 100%|██████████| 891/891 [00:04<00:00, 194.55it/s]\n",
      "Training Epoch 1075: 100%|██████████| 891/891 [00:04<00:00, 197.04it/s]\n",
      "Training Epoch 1076: 100%|██████████| 891/891 [00:04<00:00, 196.18it/s]\n",
      "Training Epoch 1077: 100%|██████████| 891/891 [00:04<00:00, 190.38it/s]\n",
      "Training Epoch 1078: 100%|██████████| 891/891 [00:04<00:00, 198.75it/s]\n",
      "Training Epoch 1079: 100%|██████████| 891/891 [00:04<00:00, 191.16it/s]\n",
      "Training Epoch 1080: 100%|██████████| 891/891 [00:04<00:00, 191.54it/s]\n",
      "Training Epoch 1081: 100%|██████████| 891/891 [15:15<00:00,  1.03s/it]  \n"
     ]
    },
    {
     "name": "stdout",
     "output_type": "stream",
     "text": [
      "Epoch 1080 - Train Loss: 0.0714, Train MSE: 0.0714, Train MAE: 0.2021\n",
      "Epoch 1080 - Validation Loss: 0.8516, Validation MSE: 0.8508, Validation MAE: 0.6963\n"
     ]
    },
    {
     "name": "stderr",
     "output_type": "stream",
     "text": [
      "Training Epoch 1082: 100%|██████████| 891/891 [11:25<00:00,  1.30it/s]  \n",
      "Training Epoch 1083: 100%|██████████| 891/891 [00:04<00:00, 195.44it/s]\n",
      "Training Epoch 1084: 100%|██████████| 891/891 [00:04<00:00, 191.90it/s]\n",
      "Training Epoch 1085: 100%|██████████| 891/891 [00:04<00:00, 201.08it/s]\n",
      "Training Epoch 1086: 100%|██████████| 891/891 [00:04<00:00, 193.08it/s]\n",
      "Training Epoch 1087: 100%|██████████| 891/891 [00:04<00:00, 197.37it/s]\n",
      "Training Epoch 1088: 100%|██████████| 891/891 [00:04<00:00, 201.17it/s]\n",
      "Training Epoch 1089: 100%|██████████| 891/891 [00:04<00:00, 198.33it/s]\n",
      "Training Epoch 1090: 100%|██████████| 891/891 [00:04<00:00, 198.89it/s]\n",
      "Training Epoch 1091: 100%|██████████| 891/891 [00:04<00:00, 202.41it/s]\n"
     ]
    },
    {
     "name": "stdout",
     "output_type": "stream",
     "text": [
      "Epoch 1090 - Train Loss: 0.0697, Train MSE: 0.0696, Train MAE: 0.2006\n",
      "Epoch 1090 - Validation Loss: 0.8474, Validation MSE: 0.8470, Validation MAE: 0.6906\n"
     ]
    },
    {
     "name": "stderr",
     "output_type": "stream",
     "text": [
      "Training Epoch 1092: 100%|██████████| 891/891 [04:33<00:00,  3.26it/s] \n",
      "Training Epoch 1093: 100%|██████████| 891/891 [00:04<00:00, 193.20it/s]\n",
      "Training Epoch 1094: 100%|██████████| 891/891 [00:04<00:00, 206.54it/s]\n",
      "Training Epoch 1095: 100%|██████████| 891/891 [00:04<00:00, 204.83it/s]\n",
      "Training Epoch 1096: 100%|██████████| 891/891 [00:04<00:00, 205.37it/s]\n",
      "Training Epoch 1097: 100%|██████████| 891/891 [00:04<00:00, 201.49it/s]\n",
      "Training Epoch 1098: 100%|██████████| 891/891 [00:04<00:00, 203.76it/s]\n",
      "Training Epoch 1099: 100%|██████████| 891/891 [00:04<00:00, 179.73it/s]\n",
      "Training Epoch 1100: 100%|██████████| 891/891 [00:04<00:00, 187.74it/s]\n",
      "Training Epoch 1101: 100%|██████████| 891/891 [00:04<00:00, 198.42it/s]\n"
     ]
    },
    {
     "name": "stdout",
     "output_type": "stream",
     "text": [
      "Epoch 1100 - Train Loss: 0.0723, Train MSE: 0.0723, Train MAE: 0.2027\n",
      "Epoch 1100 - Validation Loss: 0.8546, Validation MSE: 0.8548, Validation MAE: 0.6941\n"
     ]
    },
    {
     "name": "stderr",
     "output_type": "stream",
     "text": [
      "Training Epoch 1102: 100%|██████████| 891/891 [00:04<00:00, 198.59it/s]\n",
      "Training Epoch 1103: 100%|██████████| 891/891 [00:04<00:00, 197.97it/s]\n",
      "Training Epoch 1104: 100%|██████████| 891/891 [00:04<00:00, 183.96it/s]\n",
      "Training Epoch 1105: 100%|██████████| 891/891 [00:04<00:00, 199.11it/s]\n",
      "Training Epoch 1106: 100%|██████████| 891/891 [00:04<00:00, 194.17it/s]\n",
      "Training Epoch 1107: 100%|██████████| 891/891 [00:04<00:00, 196.03it/s]\n",
      "Training Epoch 1108: 100%|██████████| 891/891 [00:04<00:00, 197.19it/s]\n",
      "Training Epoch 1109: 100%|██████████| 891/891 [00:04<00:00, 200.87it/s]\n",
      "Training Epoch 1110: 100%|██████████| 891/891 [00:04<00:00, 198.11it/s]\n",
      "Training Epoch 1111: 100%|██████████| 891/891 [00:04<00:00, 198.95it/s]\n"
     ]
    },
    {
     "name": "stdout",
     "output_type": "stream",
     "text": [
      "Epoch 1110 - Train Loss: 0.0723, Train MSE: 0.0722, Train MAE: 0.2021\n",
      "Epoch 1110 - Validation Loss: 0.8681, Validation MSE: 0.8679, Validation MAE: 0.7015\n"
     ]
    },
    {
     "name": "stderr",
     "output_type": "stream",
     "text": [
      "Training Epoch 1112: 100%|██████████| 891/891 [00:04<00:00, 199.62it/s]\n",
      "Training Epoch 1113: 100%|██████████| 891/891 [00:04<00:00, 190.01it/s]\n",
      "Training Epoch 1114: 100%|██████████| 891/891 [00:04<00:00, 188.29it/s]\n",
      "Training Epoch 1115: 100%|██████████| 891/891 [00:04<00:00, 197.43it/s]\n",
      "Training Epoch 1116: 100%|██████████| 891/891 [00:04<00:00, 198.87it/s]\n",
      "Training Epoch 1117: 100%|██████████| 891/891 [00:04<00:00, 193.51it/s]\n",
      "Training Epoch 1118: 100%|██████████| 891/891 [00:04<00:00, 196.32it/s]\n",
      "Training Epoch 1119: 100%|██████████| 891/891 [00:04<00:00, 198.01it/s]\n",
      "Training Epoch 1120: 100%|██████████| 891/891 [00:04<00:00, 197.48it/s]\n",
      "Training Epoch 1121: 100%|██████████| 891/891 [00:04<00:00, 198.82it/s]\n"
     ]
    },
    {
     "name": "stdout",
     "output_type": "stream",
     "text": [
      "Epoch 1120 - Train Loss: 0.0700, Train MSE: 0.0700, Train MAE: 0.1998\n",
      "Epoch 1120 - Validation Loss: 0.8578, Validation MSE: 0.8571, Validation MAE: 0.6964\n"
     ]
    },
    {
     "name": "stderr",
     "output_type": "stream",
     "text": [
      "Training Epoch 1122: 100%|██████████| 891/891 [00:04<00:00, 199.34it/s]\n",
      "Training Epoch 1123: 100%|██████████| 891/891 [00:04<00:00, 198.91it/s]\n",
      "Training Epoch 1124: 100%|██████████| 891/891 [00:04<00:00, 197.05it/s]\n",
      "Training Epoch 1125: 100%|██████████| 891/891 [00:04<00:00, 197.66it/s]\n",
      "Training Epoch 1126: 100%|██████████| 891/891 [00:04<00:00, 199.29it/s]\n",
      "Training Epoch 1127: 100%|██████████| 891/891 [00:04<00:00, 197.61it/s]\n",
      "Training Epoch 1128: 100%|██████████| 891/891 [00:04<00:00, 195.72it/s]\n",
      "Training Epoch 1129: 100%|██████████| 891/891 [00:04<00:00, 192.02it/s]\n",
      "Training Epoch 1130: 100%|██████████| 891/891 [00:04<00:00, 201.50it/s]\n",
      "Training Epoch 1131: 100%|██████████| 891/891 [00:04<00:00, 197.76it/s]\n"
     ]
    },
    {
     "name": "stdout",
     "output_type": "stream",
     "text": [
      "Epoch 1130 - Train Loss: 0.0684, Train MSE: 0.0684, Train MAE: 0.1974\n",
      "Epoch 1130 - Validation Loss: 0.8544, Validation MSE: 0.8539, Validation MAE: 0.6964\n"
     ]
    },
    {
     "name": "stderr",
     "output_type": "stream",
     "text": [
      "Training Epoch 1132: 100%|██████████| 891/891 [00:04<00:00, 195.85it/s]\n",
      "Training Epoch 1133: 100%|██████████| 891/891 [00:04<00:00, 195.34it/s]\n",
      "Training Epoch 1134: 100%|██████████| 891/891 [00:04<00:00, 197.91it/s]\n",
      "Training Epoch 1135: 100%|██████████| 891/891 [00:04<00:00, 199.09it/s]\n",
      "Training Epoch 1136: 100%|██████████| 891/891 [00:04<00:00, 195.94it/s]\n",
      "Training Epoch 1137: 100%|██████████| 891/891 [00:04<00:00, 187.46it/s]\n",
      "Training Epoch 1138: 100%|██████████| 891/891 [00:04<00:00, 195.00it/s]\n",
      "Training Epoch 1139: 100%|██████████| 891/891 [00:04<00:00, 197.46it/s]\n",
      "Training Epoch 1140: 100%|██████████| 891/891 [00:04<00:00, 197.60it/s]\n",
      "Training Epoch 1141: 100%|██████████| 891/891 [00:04<00:00, 198.19it/s]\n"
     ]
    },
    {
     "name": "stdout",
     "output_type": "stream",
     "text": [
      "Epoch 1140 - Train Loss: 0.0714, Train MSE: 0.0714, Train MAE: 0.2013\n",
      "Epoch 1140 - Validation Loss: 0.8481, Validation MSE: 0.8476, Validation MAE: 0.6911\n"
     ]
    },
    {
     "name": "stderr",
     "output_type": "stream",
     "text": [
      "Training Epoch 1142: 100%|██████████| 891/891 [00:04<00:00, 189.75it/s]\n",
      "Training Epoch 1143: 100%|██████████| 891/891 [00:04<00:00, 199.13it/s]\n",
      "Training Epoch 1144: 100%|██████████| 891/891 [00:04<00:00, 197.94it/s]\n",
      "Training Epoch 1145: 100%|██████████| 891/891 [00:04<00:00, 197.86it/s]\n",
      "Training Epoch 1146: 100%|██████████| 891/891 [00:04<00:00, 197.78it/s]\n",
      "Training Epoch 1147: 100%|██████████| 891/891 [00:04<00:00, 198.50it/s]\n",
      "Training Epoch 1148: 100%|██████████| 891/891 [00:04<00:00, 199.61it/s]\n",
      "Training Epoch 1149: 100%|██████████| 891/891 [00:04<00:00, 197.71it/s]\n",
      "Training Epoch 1150: 100%|██████████| 891/891 [00:04<00:00, 197.96it/s]\n",
      "Training Epoch 1151: 100%|██████████| 891/891 [00:04<00:00, 202.03it/s]\n"
     ]
    },
    {
     "name": "stdout",
     "output_type": "stream",
     "text": [
      "Epoch 1150 - Train Loss: 0.0703, Train MSE: 0.0703, Train MAE: 0.2005\n",
      "Epoch 1150 - Validation Loss: 0.8635, Validation MSE: 0.8632, Validation MAE: 0.6977\n"
     ]
    },
    {
     "name": "stderr",
     "output_type": "stream",
     "text": [
      "Training Epoch 1152: 100%|██████████| 891/891 [00:04<00:00, 199.02it/s]\n",
      "Training Epoch 1153: 100%|██████████| 891/891 [00:04<00:00, 197.79it/s]\n",
      "Training Epoch 1154: 100%|██████████| 891/891 [00:04<00:00, 201.75it/s]\n",
      "Training Epoch 1155: 100%|██████████| 891/891 [00:04<00:00, 197.75it/s]\n",
      "Training Epoch 1156: 100%|██████████| 891/891 [00:04<00:00, 196.97it/s]\n",
      "Training Epoch 1157: 100%|██████████| 891/891 [00:04<00:00, 198.24it/s]\n",
      "Training Epoch 1158: 100%|██████████| 891/891 [00:04<00:00, 198.21it/s]\n",
      "Training Epoch 1159: 100%|██████████| 891/891 [00:04<00:00, 198.33it/s]\n",
      "Training Epoch 1160: 100%|██████████| 891/891 [00:04<00:00, 196.35it/s]\n",
      "Training Epoch 1161: 100%|██████████| 891/891 [00:04<00:00, 197.46it/s]\n"
     ]
    },
    {
     "name": "stdout",
     "output_type": "stream",
     "text": [
      "Epoch 1160 - Train Loss: 0.0699, Train MSE: 0.0699, Train MAE: 0.1999\n",
      "Epoch 1160 - Validation Loss: 0.8447, Validation MSE: 0.8444, Validation MAE: 0.6919\n"
     ]
    },
    {
     "name": "stderr",
     "output_type": "stream",
     "text": [
      "Training Epoch 1162: 100%|██████████| 891/891 [00:04<00:00, 199.60it/s]\n",
      "Training Epoch 1163: 100%|██████████| 891/891 [00:04<00:00, 197.61it/s]\n",
      "Training Epoch 1164: 100%|██████████| 891/891 [00:04<00:00, 198.40it/s]\n",
      "Training Epoch 1165: 100%|██████████| 891/891 [00:04<00:00, 197.79it/s]\n",
      "Training Epoch 1166: 100%|██████████| 891/891 [00:04<00:00, 195.96it/s]\n",
      "Training Epoch 1167: 100%|██████████| 891/891 [00:04<00:00, 195.92it/s]\n",
      "Training Epoch 1168: 100%|██████████| 891/891 [00:04<00:00, 196.85it/s]\n",
      "Training Epoch 1169: 100%|██████████| 891/891 [00:04<00:00, 188.89it/s]\n",
      "Training Epoch 1170: 100%|██████████| 891/891 [00:04<00:00, 198.14it/s]\n",
      "Training Epoch 1171: 100%|██████████| 891/891 [00:04<00:00, 202.45it/s]\n"
     ]
    },
    {
     "name": "stdout",
     "output_type": "stream",
     "text": [
      "Epoch 1170 - Train Loss: 0.0691, Train MSE: 0.0691, Train MAE: 0.1997\n",
      "Epoch 1170 - Validation Loss: 0.8502, Validation MSE: 0.8498, Validation MAE: 0.6957\n"
     ]
    },
    {
     "name": "stderr",
     "output_type": "stream",
     "text": [
      "Training Epoch 1172: 100%|██████████| 891/891 [00:04<00:00, 200.41it/s]\n",
      "Training Epoch 1173: 100%|██████████| 891/891 [00:04<00:00, 201.11it/s]\n",
      "Training Epoch 1174: 100%|██████████| 891/891 [00:04<00:00, 198.05it/s]\n",
      "Training Epoch 1175: 100%|██████████| 891/891 [00:04<00:00, 196.37it/s]\n",
      "Training Epoch 1176: 100%|██████████| 891/891 [00:04<00:00, 203.46it/s]\n",
      "Training Epoch 1177: 100%|██████████| 891/891 [00:04<00:00, 196.18it/s]\n",
      "Training Epoch 1178: 100%|██████████| 891/891 [00:04<00:00, 195.22it/s]\n",
      "Training Epoch 1179: 100%|██████████| 891/891 [00:04<00:00, 196.88it/s]\n",
      "Training Epoch 1180: 100%|██████████| 891/891 [00:04<00:00, 202.63it/s]\n",
      "Training Epoch 1181: 100%|██████████| 891/891 [00:04<00:00, 212.94it/s]\n"
     ]
    },
    {
     "name": "stdout",
     "output_type": "stream",
     "text": [
      "Epoch 1180 - Train Loss: 0.0687, Train MSE: 0.0688, Train MAE: 0.1985\n",
      "Epoch 1180 - Validation Loss: 0.8654, Validation MSE: 0.8647, Validation MAE: 0.6969\n"
     ]
    },
    {
     "name": "stderr",
     "output_type": "stream",
     "text": [
      "Training Epoch 1182: 100%|██████████| 891/891 [00:04<00:00, 220.05it/s]\n",
      "Training Epoch 1183: 100%|██████████| 891/891 [00:04<00:00, 220.18it/s]\n",
      "Training Epoch 1184: 100%|██████████| 891/891 [00:03<00:00, 223.98it/s]\n",
      "Training Epoch 1185: 100%|██████████| 891/891 [00:04<00:00, 221.70it/s]\n",
      "Training Epoch 1186: 100%|██████████| 891/891 [00:04<00:00, 222.28it/s]\n",
      "Training Epoch 1187: 100%|██████████| 891/891 [00:04<00:00, 219.58it/s]\n",
      "Training Epoch 1188: 100%|██████████| 891/891 [00:03<00:00, 224.82it/s]\n",
      "Training Epoch 1189: 100%|██████████| 891/891 [00:04<00:00, 218.77it/s]\n",
      "Training Epoch 1190: 100%|██████████| 891/891 [00:04<00:00, 222.24it/s]\n",
      "Training Epoch 1191: 100%|██████████| 891/891 [00:04<00:00, 221.14it/s]\n"
     ]
    },
    {
     "name": "stdout",
     "output_type": "stream",
     "text": [
      "Epoch 1190 - Train Loss: 0.0700, Train MSE: 0.0700, Train MAE: 0.1999\n",
      "Epoch 1190 - Validation Loss: 0.8460, Validation MSE: 0.8457, Validation MAE: 0.6915\n"
     ]
    },
    {
     "name": "stderr",
     "output_type": "stream",
     "text": [
      "Training Epoch 1192: 100%|██████████| 891/891 [00:03<00:00, 222.89it/s]\n",
      "Training Epoch 1193: 100%|██████████| 891/891 [00:04<00:00, 220.92it/s]\n",
      "Training Epoch 1194: 100%|██████████| 891/891 [00:04<00:00, 216.81it/s]\n",
      "Training Epoch 1195: 100%|██████████| 891/891 [00:04<00:00, 218.61it/s]\n",
      "Training Epoch 1196: 100%|██████████| 891/891 [00:03<00:00, 223.85it/s]\n",
      "Training Epoch 1197: 100%|██████████| 891/891 [00:03<00:00, 237.40it/s]\n",
      "Training Epoch 1198: 100%|██████████| 891/891 [00:03<00:00, 234.87it/s]\n",
      "Training Epoch 1199: 100%|██████████| 891/891 [00:03<00:00, 222.99it/s]\n",
      "Training Epoch 1200: 100%|██████████| 891/891 [00:04<00:00, 219.54it/s]\n",
      "Training Epoch 1201: 100%|██████████| 891/891 [00:03<00:00, 223.82it/s]\n"
     ]
    },
    {
     "name": "stdout",
     "output_type": "stream",
     "text": [
      "Epoch 1200 - Train Loss: 0.0682, Train MSE: 0.0682, Train MAE: 0.1968\n",
      "Epoch 1200 - Validation Loss: 0.8404, Validation MSE: 0.8401, Validation MAE: 0.6914\n"
     ]
    },
    {
     "name": "stderr",
     "output_type": "stream",
     "text": [
      "Training Epoch 1202: 100%|██████████| 891/891 [00:03<00:00, 230.59it/s]\n",
      "Training Epoch 1203: 100%|██████████| 891/891 [00:03<00:00, 224.34it/s]\n",
      "Training Epoch 1204: 100%|██████████| 891/891 [00:04<00:00, 221.52it/s]\n",
      "Training Epoch 1205: 100%|██████████| 891/891 [00:04<00:00, 222.34it/s]\n",
      "Training Epoch 1206: 100%|██████████| 891/891 [00:03<00:00, 226.69it/s]\n",
      "Training Epoch 1207: 100%|██████████| 891/891 [00:03<00:00, 223.52it/s]\n",
      "Training Epoch 1208: 100%|██████████| 891/891 [00:04<00:00, 215.97it/s]\n",
      "Training Epoch 1209: 100%|██████████| 891/891 [00:03<00:00, 224.93it/s]\n",
      "Training Epoch 1210: 100%|██████████| 891/891 [00:04<00:00, 222.63it/s]\n",
      "Training Epoch 1211: 100%|██████████| 891/891 [00:04<00:00, 222.61it/s]\n"
     ]
    },
    {
     "name": "stdout",
     "output_type": "stream",
     "text": [
      "Epoch 1210 - Train Loss: 0.0681, Train MSE: 0.0680, Train MAE: 0.1971\n",
      "Epoch 1210 - Validation Loss: 0.8557, Validation MSE: 0.8551, Validation MAE: 0.6964\n"
     ]
    },
    {
     "name": "stderr",
     "output_type": "stream",
     "text": [
      "Training Epoch 1212: 100%|██████████| 891/891 [00:04<00:00, 220.28it/s]\n",
      "Training Epoch 1213: 100%|██████████| 891/891 [00:03<00:00, 222.94it/s]\n",
      "Training Epoch 1214: 100%|██████████| 891/891 [00:04<00:00, 220.71it/s]\n",
      "Training Epoch 1215: 100%|██████████| 891/891 [00:04<00:00, 219.84it/s]\n",
      "Training Epoch 1216: 100%|██████████| 891/891 [00:03<00:00, 224.07it/s]\n",
      "Training Epoch 1217: 100%|██████████| 891/891 [00:04<00:00, 221.40it/s]\n",
      "Training Epoch 1218: 100%|██████████| 891/891 [00:03<00:00, 223.06it/s]\n",
      "Training Epoch 1219: 100%|██████████| 891/891 [00:04<00:00, 221.40it/s]\n",
      "Training Epoch 1220: 100%|██████████| 891/891 [00:03<00:00, 223.78it/s]\n",
      "Training Epoch 1221: 100%|██████████| 891/891 [00:04<00:00, 222.48it/s]\n"
     ]
    },
    {
     "name": "stdout",
     "output_type": "stream",
     "text": [
      "Epoch 1220 - Train Loss: 0.0684, Train MSE: 0.0684, Train MAE: 0.1976\n",
      "Epoch 1220 - Validation Loss: 0.8642, Validation MSE: 0.8636, Validation MAE: 0.6997\n"
     ]
    },
    {
     "name": "stderr",
     "output_type": "stream",
     "text": [
      "Training Epoch 1222: 100%|██████████| 891/891 [00:04<00:00, 218.02it/s]\n",
      "Training Epoch 1223: 100%|██████████| 891/891 [00:03<00:00, 223.49it/s]\n",
      "Training Epoch 1224: 100%|██████████| 891/891 [00:03<00:00, 223.64it/s]\n",
      "Training Epoch 1225: 100%|██████████| 891/891 [00:04<00:00, 220.36it/s]\n",
      "Training Epoch 1226: 100%|██████████| 891/891 [00:03<00:00, 226.95it/s]\n",
      "Training Epoch 1227: 100%|██████████| 891/891 [00:03<00:00, 223.29it/s]\n",
      "Training Epoch 1228: 100%|██████████| 891/891 [00:03<00:00, 223.73it/s]\n",
      "Training Epoch 1229: 100%|██████████| 891/891 [00:04<00:00, 220.70it/s]\n",
      "Training Epoch 1230: 100%|██████████| 891/891 [00:04<00:00, 221.73it/s]\n",
      "Training Epoch 1231: 100%|██████████| 891/891 [00:04<00:00, 221.57it/s]\n"
     ]
    },
    {
     "name": "stdout",
     "output_type": "stream",
     "text": [
      "Epoch 1230 - Train Loss: 0.0672, Train MSE: 0.0673, Train MAE: 0.1968\n",
      "Epoch 1230 - Validation Loss: 0.8631, Validation MSE: 0.8633, Validation MAE: 0.6992\n"
     ]
    },
    {
     "name": "stderr",
     "output_type": "stream",
     "text": [
      "Training Epoch 1232: 100%|██████████| 891/891 [00:03<00:00, 224.09it/s]\n",
      "Training Epoch 1233: 100%|██████████| 891/891 [00:03<00:00, 223.27it/s]\n",
      "Training Epoch 1234: 100%|██████████| 891/891 [00:04<00:00, 222.09it/s]\n",
      "Training Epoch 1235: 100%|██████████| 891/891 [00:03<00:00, 224.77it/s]\n",
      "Training Epoch 1236: 100%|██████████| 891/891 [00:04<00:00, 220.44it/s]\n",
      "Training Epoch 1237: 100%|██████████| 891/891 [00:03<00:00, 224.99it/s]\n",
      "Training Epoch 1238: 100%|██████████| 891/891 [00:04<00:00, 221.47it/s]\n",
      "Training Epoch 1239: 100%|██████████| 891/891 [00:03<00:00, 225.76it/s]\n",
      "Training Epoch 1240: 100%|██████████| 891/891 [00:03<00:00, 230.48it/s]\n",
      "Training Epoch 1241: 100%|██████████| 891/891 [00:03<00:00, 225.22it/s]\n"
     ]
    },
    {
     "name": "stdout",
     "output_type": "stream",
     "text": [
      "Epoch 1240 - Train Loss: 0.0686, Train MSE: 0.0686, Train MAE: 0.1975\n",
      "Epoch 1240 - Validation Loss: 0.8295, Validation MSE: 0.8300, Validation MAE: 0.6874\n"
     ]
    },
    {
     "name": "stderr",
     "output_type": "stream",
     "text": [
      "Training Epoch 1242: 100%|██████████| 891/891 [00:03<00:00, 226.22it/s]\n",
      "Training Epoch 1243: 100%|██████████| 891/891 [00:03<00:00, 224.55it/s]\n",
      "Training Epoch 1244: 100%|██████████| 891/891 [00:03<00:00, 224.66it/s]\n",
      "Training Epoch 1245: 100%|██████████| 891/891 [00:03<00:00, 225.78it/s]\n",
      "Training Epoch 1246: 100%|██████████| 891/891 [00:03<00:00, 226.47it/s]\n",
      "Training Epoch 1247: 100%|██████████| 891/891 [00:04<00:00, 222.03it/s]\n",
      "Training Epoch 1248: 100%|██████████| 891/891 [00:03<00:00, 224.00it/s]\n",
      "Training Epoch 1249: 100%|██████████| 891/891 [00:04<00:00, 221.28it/s]\n",
      "Training Epoch 1250: 100%|██████████| 891/891 [00:03<00:00, 223.13it/s]\n",
      "Training Epoch 1251: 100%|██████████| 891/891 [00:04<00:00, 219.66it/s]\n"
     ]
    },
    {
     "name": "stdout",
     "output_type": "stream",
     "text": [
      "Epoch 1250 - Train Loss: 0.0655, Train MSE: 0.0655, Train MAE: 0.1935\n",
      "Epoch 1250 - Validation Loss: 0.8473, Validation MSE: 0.8469, Validation MAE: 0.6936\n"
     ]
    },
    {
     "name": "stderr",
     "output_type": "stream",
     "text": [
      "Training Epoch 1252: 100%|██████████| 891/891 [00:03<00:00, 226.39it/s]\n",
      "Training Epoch 1253: 100%|██████████| 891/891 [00:04<00:00, 222.36it/s]\n",
      "Training Epoch 1254: 100%|██████████| 891/891 [00:03<00:00, 225.03it/s]\n",
      "Training Epoch 1255: 100%|██████████| 891/891 [00:04<00:00, 218.71it/s]\n",
      "Training Epoch 1256: 100%|██████████| 891/891 [00:04<00:00, 216.40it/s]\n",
      "Training Epoch 1257: 100%|██████████| 891/891 [00:03<00:00, 225.28it/s]\n",
      "Training Epoch 1258: 100%|██████████| 891/891 [00:03<00:00, 224.33it/s]\n",
      "Training Epoch 1259: 100%|██████████| 891/891 [00:03<00:00, 223.61it/s]\n",
      "Training Epoch 1260: 100%|██████████| 891/891 [00:04<00:00, 221.66it/s]\n",
      "Training Epoch 1261: 100%|██████████| 891/891 [00:04<00:00, 217.19it/s]\n"
     ]
    },
    {
     "name": "stdout",
     "output_type": "stream",
     "text": [
      "Epoch 1260 - Train Loss: 0.0666, Train MSE: 0.0666, Train MAE: 0.1949\n",
      "Epoch 1260 - Validation Loss: 0.8525, Validation MSE: 0.8527, Validation MAE: 0.6959\n"
     ]
    },
    {
     "name": "stderr",
     "output_type": "stream",
     "text": [
      "Training Epoch 1262: 100%|██████████| 891/891 [00:03<00:00, 226.19it/s]\n",
      "Training Epoch 1263: 100%|██████████| 891/891 [00:04<00:00, 214.33it/s]\n",
      "Training Epoch 1264: 100%|██████████| 891/891 [00:03<00:00, 225.56it/s]\n",
      "Training Epoch 1265: 100%|██████████| 891/891 [00:04<00:00, 212.36it/s]\n",
      "Training Epoch 1266: 100%|██████████| 891/891 [00:04<00:00, 220.54it/s]\n",
      "Training Epoch 1267: 100%|██████████| 891/891 [00:03<00:00, 224.58it/s]\n",
      "Training Epoch 1268: 100%|██████████| 891/891 [00:04<00:00, 217.69it/s]\n",
      "Training Epoch 1269: 100%|██████████| 891/891 [00:04<00:00, 217.43it/s]\n",
      "Training Epoch 1270: 100%|██████████| 891/891 [00:03<00:00, 224.32it/s]\n",
      "Training Epoch 1271: 100%|██████████| 891/891 [00:04<00:00, 218.42it/s]\n"
     ]
    },
    {
     "name": "stdout",
     "output_type": "stream",
     "text": [
      "Epoch 1270 - Train Loss: 0.0664, Train MSE: 0.0664, Train MAE: 0.1947\n",
      "Epoch 1270 - Validation Loss: 0.8507, Validation MSE: 0.8512, Validation MAE: 0.6936\n"
     ]
    },
    {
     "name": "stderr",
     "output_type": "stream",
     "text": [
      "Training Epoch 1272: 100%|██████████| 891/891 [00:04<00:00, 219.25it/s]\n",
      "Training Epoch 1273: 100%|██████████| 891/891 [00:04<00:00, 216.80it/s]\n",
      "Training Epoch 1274: 100%|██████████| 891/891 [00:03<00:00, 224.41it/s]\n",
      "Training Epoch 1275: 100%|██████████| 891/891 [00:03<00:00, 226.58it/s]\n",
      "Training Epoch 1276: 100%|██████████| 891/891 [00:04<00:00, 218.50it/s]\n",
      "Training Epoch 1277: 100%|██████████| 891/891 [00:04<00:00, 216.63it/s]\n",
      "Training Epoch 1278: 100%|██████████| 891/891 [00:04<00:00, 215.33it/s]\n",
      "Training Epoch 1279: 100%|██████████| 891/891 [00:04<00:00, 197.46it/s]\n",
      "Training Epoch 1280: 100%|██████████| 891/891 [00:04<00:00, 216.73it/s]\n",
      "Training Epoch 1281: 100%|██████████| 891/891 [00:04<00:00, 215.76it/s]\n"
     ]
    },
    {
     "name": "stdout",
     "output_type": "stream",
     "text": [
      "Epoch 1280 - Train Loss: 0.0672, Train MSE: 0.0672, Train MAE: 0.1959\n",
      "Epoch 1280 - Validation Loss: 0.8652, Validation MSE: 0.8645, Validation MAE: 0.6977\n"
     ]
    },
    {
     "name": "stderr",
     "output_type": "stream",
     "text": [
      "Training Epoch 1282: 100%|██████████| 891/891 [00:04<00:00, 217.51it/s]\n",
      "Training Epoch 1283: 100%|██████████| 891/891 [00:04<00:00, 211.52it/s]\n",
      "Training Epoch 1284: 100%|██████████| 891/891 [00:04<00:00, 217.88it/s]\n",
      "Training Epoch 1285: 100%|██████████| 891/891 [00:04<00:00, 220.89it/s]\n",
      "Training Epoch 1286: 100%|██████████| 891/891 [00:04<00:00, 221.78it/s]\n",
      "Training Epoch 1287: 100%|██████████| 891/891 [00:03<00:00, 230.27it/s]\n",
      "Training Epoch 1288: 100%|██████████| 891/891 [00:03<00:00, 231.53it/s]\n",
      "Training Epoch 1289: 100%|██████████| 891/891 [00:04<00:00, 204.14it/s]\n",
      "Training Epoch 1290: 100%|██████████| 891/891 [00:03<00:00, 224.51it/s]\n",
      "Training Epoch 1291: 100%|██████████| 891/891 [00:04<00:00, 202.97it/s]\n"
     ]
    },
    {
     "name": "stdout",
     "output_type": "stream",
     "text": [
      "Epoch 1290 - Train Loss: 0.0672, Train MSE: 0.0672, Train MAE: 0.1958\n",
      "Epoch 1290 - Validation Loss: 0.8554, Validation MSE: 0.8551, Validation MAE: 0.6958\n"
     ]
    },
    {
     "name": "stderr",
     "output_type": "stream",
     "text": [
      "Training Epoch 1292: 100%|██████████| 891/891 [00:04<00:00, 201.31it/s]\n",
      "Training Epoch 1293: 100%|██████████| 891/891 [00:04<00:00, 212.55it/s]\n",
      "Training Epoch 1294: 100%|██████████| 891/891 [00:04<00:00, 216.56it/s]\n",
      "Training Epoch 1295: 100%|██████████| 891/891 [00:04<00:00, 216.72it/s]\n",
      "Training Epoch 1296: 100%|██████████| 891/891 [00:03<00:00, 233.32it/s]\n",
      "Training Epoch 1297: 100%|██████████| 891/891 [00:03<00:00, 233.45it/s]\n",
      "Training Epoch 1298: 100%|██████████| 891/891 [00:03<00:00, 233.45it/s]\n",
      "Training Epoch 1299: 100%|██████████| 891/891 [00:03<00:00, 230.98it/s]\n",
      "Training Epoch 1300: 100%|██████████| 891/891 [00:03<00:00, 229.71it/s]\n",
      "Training Epoch 1301: 100%|██████████| 891/891 [00:03<00:00, 228.46it/s]\n"
     ]
    },
    {
     "name": "stdout",
     "output_type": "stream",
     "text": [
      "Epoch 1300 - Train Loss: 0.0665, Train MSE: 0.0665, Train MAE: 0.1950\n",
      "Epoch 1300 - Validation Loss: 0.8437, Validation MSE: 0.8435, Validation MAE: 0.6923\n"
     ]
    },
    {
     "name": "stderr",
     "output_type": "stream",
     "text": [
      "Training Epoch 1302: 100%|██████████| 891/891 [00:03<00:00, 230.17it/s]\n",
      "Training Epoch 1303: 100%|██████████| 891/891 [00:03<00:00, 232.75it/s]\n",
      "Training Epoch 1304: 100%|██████████| 891/891 [00:03<00:00, 232.11it/s]\n",
      "Training Epoch 1305: 100%|██████████| 891/891 [00:03<00:00, 230.02it/s]\n",
      "Training Epoch 1306: 100%|██████████| 891/891 [00:03<00:00, 230.89it/s]\n",
      "Training Epoch 1307: 100%|██████████| 891/891 [00:03<00:00, 228.18it/s]\n",
      "Training Epoch 1308: 100%|██████████| 891/891 [00:03<00:00, 228.65it/s]\n",
      "Training Epoch 1309: 100%|██████████| 891/891 [00:03<00:00, 232.83it/s]\n",
      "Training Epoch 1310: 100%|██████████| 891/891 [00:03<00:00, 230.91it/s]\n",
      "Training Epoch 1311: 100%|██████████| 891/891 [00:03<00:00, 233.61it/s]\n"
     ]
    },
    {
     "name": "stdout",
     "output_type": "stream",
     "text": [
      "Epoch 1310 - Train Loss: 0.0636, Train MSE: 0.0637, Train MAE: 0.1914\n",
      "Epoch 1310 - Validation Loss: 0.8662, Validation MSE: 0.8657, Validation MAE: 0.7004\n"
     ]
    },
    {
     "name": "stderr",
     "output_type": "stream",
     "text": [
      "Training Epoch 1312: 100%|██████████| 891/891 [00:03<00:00, 232.72it/s]\n",
      "Training Epoch 1313: 100%|██████████| 891/891 [00:03<00:00, 230.60it/s]\n",
      "Training Epoch 1314: 100%|██████████| 891/891 [00:03<00:00, 230.56it/s]\n",
      "Training Epoch 1315: 100%|██████████| 891/891 [00:03<00:00, 226.71it/s]\n",
      "Training Epoch 1316: 100%|██████████| 891/891 [00:03<00:00, 228.16it/s]\n",
      "Training Epoch 1317: 100%|██████████| 891/891 [00:04<00:00, 215.04it/s]\n",
      "Training Epoch 1318: 100%|██████████| 891/891 [00:03<00:00, 234.92it/s]\n",
      "Training Epoch 1319: 100%|██████████| 891/891 [00:03<00:00, 234.00it/s]\n",
      "Training Epoch 1320: 100%|██████████| 891/891 [00:03<00:00, 232.85it/s]\n",
      "Training Epoch 1321: 100%|██████████| 891/891 [00:03<00:00, 228.28it/s]\n"
     ]
    },
    {
     "name": "stdout",
     "output_type": "stream",
     "text": [
      "Epoch 1320 - Train Loss: 0.0655, Train MSE: 0.0655, Train MAE: 0.1937\n",
      "Epoch 1320 - Validation Loss: 0.8480, Validation MSE: 0.8474, Validation MAE: 0.6913\n"
     ]
    },
    {
     "name": "stderr",
     "output_type": "stream",
     "text": [
      "Training Epoch 1322: 100%|██████████| 891/891 [00:03<00:00, 230.79it/s]\n",
      "Training Epoch 1323: 100%|██████████| 891/891 [00:03<00:00, 234.47it/s]\n",
      "Training Epoch 1324: 100%|██████████| 891/891 [00:03<00:00, 234.76it/s]\n",
      "Training Epoch 1325: 100%|██████████| 891/891 [00:03<00:00, 232.16it/s]\n",
      "Training Epoch 1326: 100%|██████████| 891/891 [00:03<00:00, 234.25it/s]\n",
      "Training Epoch 1327: 100%|██████████| 891/891 [00:03<00:00, 229.61it/s]\n",
      "Training Epoch 1328: 100%|██████████| 891/891 [00:03<00:00, 234.51it/s]\n",
      "Training Epoch 1329: 100%|██████████| 891/891 [00:03<00:00, 231.25it/s]\n",
      "Training Epoch 1330: 100%|██████████| 891/891 [00:03<00:00, 234.02it/s]\n",
      "Training Epoch 1331: 100%|██████████| 891/891 [00:03<00:00, 233.78it/s]\n"
     ]
    },
    {
     "name": "stdout",
     "output_type": "stream",
     "text": [
      "Epoch 1330 - Train Loss: 0.0658, Train MSE: 0.0658, Train MAE: 0.1943\n",
      "Epoch 1330 - Validation Loss: 0.8655, Validation MSE: 0.8655, Validation MAE: 0.6998\n"
     ]
    },
    {
     "name": "stderr",
     "output_type": "stream",
     "text": [
      "Training Epoch 1332: 100%|██████████| 891/891 [00:03<00:00, 231.07it/s]\n",
      "Training Epoch 1333: 100%|██████████| 891/891 [00:03<00:00, 234.01it/s]\n",
      "Training Epoch 1334: 100%|██████████| 891/891 [00:03<00:00, 233.42it/s]\n",
      "Training Epoch 1335: 100%|██████████| 891/891 [00:03<00:00, 235.82it/s]\n",
      "Training Epoch 1336: 100%|██████████| 891/891 [00:03<00:00, 229.45it/s]\n",
      "Training Epoch 1337: 100%|██████████| 891/891 [00:03<00:00, 229.38it/s]\n",
      "Training Epoch 1338: 100%|██████████| 891/891 [00:03<00:00, 233.40it/s]\n",
      "Training Epoch 1339: 100%|██████████| 891/891 [00:03<00:00, 230.76it/s]\n",
      "Training Epoch 1340: 100%|██████████| 891/891 [00:03<00:00, 231.02it/s]\n",
      "Training Epoch 1341: 100%|██████████| 891/891 [00:03<00:00, 232.30it/s]\n"
     ]
    },
    {
     "name": "stdout",
     "output_type": "stream",
     "text": [
      "Epoch 1340 - Train Loss: 0.0638, Train MSE: 0.0638, Train MAE: 0.1920\n",
      "Epoch 1340 - Validation Loss: 0.8530, Validation MSE: 0.8531, Validation MAE: 0.6951\n"
     ]
    },
    {
     "name": "stderr",
     "output_type": "stream",
     "text": [
      "Training Epoch 1342: 100%|██████████| 891/891 [00:03<00:00, 226.38it/s]\n",
      "Training Epoch 1343: 100%|██████████| 891/891 [00:03<00:00, 232.89it/s]\n",
      "Training Epoch 1344: 100%|██████████| 891/891 [00:03<00:00, 229.69it/s]\n",
      "Training Epoch 1345: 100%|██████████| 891/891 [00:03<00:00, 229.74it/s]\n",
      "Training Epoch 1346: 100%|██████████| 891/891 [00:03<00:00, 230.25it/s]\n",
      "Training Epoch 1347: 100%|██████████| 891/891 [00:03<00:00, 230.87it/s]\n",
      "Training Epoch 1348: 100%|██████████| 891/891 [00:03<00:00, 233.74it/s]\n",
      "Training Epoch 1349: 100%|██████████| 891/891 [00:03<00:00, 230.36it/s]\n",
      "Training Epoch 1350: 100%|██████████| 891/891 [00:03<00:00, 231.52it/s]\n",
      "Training Epoch 1351: 100%|██████████| 891/891 [00:03<00:00, 228.94it/s]\n"
     ]
    },
    {
     "name": "stdout",
     "output_type": "stream",
     "text": [
      "Epoch 1350 - Train Loss: 0.0667, Train MSE: 0.0667, Train MAE: 0.1945\n",
      "Epoch 1350 - Validation Loss: 0.8496, Validation MSE: 0.8498, Validation MAE: 0.6939\n"
     ]
    },
    {
     "name": "stderr",
     "output_type": "stream",
     "text": [
      "Training Epoch 1352: 100%|██████████| 891/891 [00:03<00:00, 238.93it/s]\n",
      "Training Epoch 1353: 100%|██████████| 891/891 [00:03<00:00, 229.87it/s]\n",
      "Training Epoch 1354: 100%|██████████| 891/891 [00:03<00:00, 229.49it/s]\n",
      "Training Epoch 1355: 100%|██████████| 891/891 [00:03<00:00, 235.51it/s]\n",
      "Training Epoch 1356: 100%|██████████| 891/891 [00:03<00:00, 232.85it/s]\n",
      "Training Epoch 1357: 100%|██████████| 891/891 [00:03<00:00, 233.06it/s]\n",
      "Training Epoch 1358: 100%|██████████| 891/891 [00:03<00:00, 236.11it/s]\n",
      "Training Epoch 1359: 100%|██████████| 891/891 [00:03<00:00, 230.93it/s]\n",
      "Training Epoch 1360: 100%|██████████| 891/891 [00:03<00:00, 230.86it/s]\n",
      "Training Epoch 1361: 100%|██████████| 891/891 [00:03<00:00, 230.86it/s]\n"
     ]
    },
    {
     "name": "stdout",
     "output_type": "stream",
     "text": [
      "Epoch 1360 - Train Loss: 0.0643, Train MSE: 0.0643, Train MAE: 0.1914\n",
      "Epoch 1360 - Validation Loss: 0.8546, Validation MSE: 0.8544, Validation MAE: 0.6945\n"
     ]
    },
    {
     "name": "stderr",
     "output_type": "stream",
     "text": [
      "Training Epoch 1362: 100%|██████████| 891/891 [00:03<00:00, 231.89it/s]\n",
      "Training Epoch 1363: 100%|██████████| 891/891 [00:03<00:00, 236.27it/s]\n",
      "Training Epoch 1364: 100%|██████████| 891/891 [00:03<00:00, 232.36it/s]\n",
      "Training Epoch 1365: 100%|██████████| 891/891 [00:03<00:00, 234.04it/s]\n",
      "Training Epoch 1366: 100%|██████████| 891/891 [00:03<00:00, 227.50it/s]\n",
      "Training Epoch 1367: 100%|██████████| 891/891 [00:03<00:00, 233.05it/s]\n",
      "Training Epoch 1368: 100%|██████████| 891/891 [00:03<00:00, 235.08it/s]\n",
      "Training Epoch 1369: 100%|██████████| 891/891 [00:04<00:00, 218.37it/s]\n",
      "Training Epoch 1370: 100%|██████████| 891/891 [00:04<00:00, 219.24it/s]\n",
      "Training Epoch 1371: 100%|██████████| 891/891 [00:04<00:00, 210.43it/s]\n"
     ]
    },
    {
     "name": "stdout",
     "output_type": "stream",
     "text": [
      "Epoch 1370 - Train Loss: 0.0650, Train MSE: 0.0650, Train MAE: 0.1916\n",
      "Epoch 1370 - Validation Loss: 0.8531, Validation MSE: 0.8537, Validation MAE: 0.6949\n"
     ]
    },
    {
     "name": "stderr",
     "output_type": "stream",
     "text": [
      "Training Epoch 1372: 100%|██████████| 891/891 [00:04<00:00, 214.99it/s]\n",
      "Training Epoch 1373: 100%|██████████| 891/891 [00:03<00:00, 232.43it/s]\n",
      "Training Epoch 1374: 100%|██████████| 891/891 [00:03<00:00, 230.70it/s]\n",
      "Training Epoch 1375: 100%|██████████| 891/891 [00:03<00:00, 230.48it/s]\n",
      "Training Epoch 1376: 100%|██████████| 891/891 [00:03<00:00, 230.70it/s]\n",
      "Training Epoch 1377: 100%|██████████| 891/891 [00:03<00:00, 228.55it/s]\n",
      "Training Epoch 1378: 100%|██████████| 891/891 [00:04<00:00, 222.64it/s]\n",
      "Training Epoch 1379: 100%|██████████| 891/891 [00:03<00:00, 223.11it/s]\n",
      "Training Epoch 1380: 100%|██████████| 891/891 [00:04<00:00, 218.59it/s]\n",
      "Training Epoch 1381: 100%|██████████| 891/891 [00:03<00:00, 228.60it/s]\n"
     ]
    },
    {
     "name": "stdout",
     "output_type": "stream",
     "text": [
      "Epoch 1380 - Train Loss: 0.0641, Train MSE: 0.0640, Train MAE: 0.1920\n",
      "Epoch 1380 - Validation Loss: 0.8504, Validation MSE: 0.8497, Validation MAE: 0.6946\n"
     ]
    },
    {
     "name": "stderr",
     "output_type": "stream",
     "text": [
      "Training Epoch 1382: 100%|██████████| 891/891 [00:03<00:00, 224.48it/s]\n",
      "Training Epoch 1383: 100%|██████████| 891/891 [00:03<00:00, 224.74it/s]\n",
      "Training Epoch 1384: 100%|██████████| 891/891 [00:03<00:00, 226.07it/s]\n",
      "Training Epoch 1385: 100%|██████████| 891/891 [00:04<00:00, 220.93it/s]\n",
      "Training Epoch 1386: 100%|██████████| 891/891 [00:03<00:00, 228.00it/s]\n",
      "Training Epoch 1387: 100%|██████████| 891/891 [00:04<00:00, 220.89it/s]\n",
      "Training Epoch 1388: 100%|██████████| 891/891 [00:04<00:00, 209.48it/s]\n",
      "Training Epoch 1389: 100%|██████████| 891/891 [00:04<00:00, 215.21it/s]\n",
      "Training Epoch 1390: 100%|██████████| 891/891 [00:04<00:00, 211.98it/s]\n",
      "Training Epoch 1391: 100%|██████████| 891/891 [00:03<00:00, 226.40it/s]\n"
     ]
    },
    {
     "name": "stdout",
     "output_type": "stream",
     "text": [
      "Epoch 1390 - Train Loss: 0.0632, Train MSE: 0.0632, Train MAE: 0.1910\n",
      "Epoch 1390 - Validation Loss: 0.8476, Validation MSE: 0.8466, Validation MAE: 0.6936\n"
     ]
    },
    {
     "name": "stderr",
     "output_type": "stream",
     "text": [
      "Training Epoch 1392: 100%|██████████| 891/891 [00:03<00:00, 230.20it/s]\n",
      "Training Epoch 1393: 100%|██████████| 891/891 [00:04<00:00, 219.33it/s]\n",
      "Training Epoch 1394: 100%|██████████| 891/891 [00:04<00:00, 218.52it/s]\n",
      "Training Epoch 1395: 100%|██████████| 891/891 [00:03<00:00, 224.48it/s]\n",
      "Training Epoch 1396: 100%|██████████| 891/891 [00:03<00:00, 223.58it/s]\n",
      "Training Epoch 1397: 100%|██████████| 891/891 [00:03<00:00, 224.59it/s]\n",
      "Training Epoch 1398: 100%|██████████| 891/891 [00:04<00:00, 219.22it/s]\n",
      "Training Epoch 1399: 100%|██████████| 891/891 [00:04<00:00, 216.97it/s]\n",
      "Training Epoch 1400: 100%|██████████| 891/891 [00:04<00:00, 222.26it/s]\n",
      "Training Epoch 1401: 100%|██████████| 891/891 [00:04<00:00, 219.74it/s]\n"
     ]
    },
    {
     "name": "stdout",
     "output_type": "stream",
     "text": [
      "Epoch 1400 - Train Loss: 0.0649, Train MSE: 0.0650, Train MAE: 0.1920\n",
      "Epoch 1400 - Validation Loss: 0.8492, Validation MSE: 0.8490, Validation MAE: 0.6921\n"
     ]
    },
    {
     "name": "stderr",
     "output_type": "stream",
     "text": [
      "Training Epoch 1402: 100%|██████████| 891/891 [00:04<00:00, 221.55it/s]\n",
      "Training Epoch 1403: 100%|██████████| 891/891 [00:04<00:00, 220.40it/s]\n",
      "Training Epoch 1404: 100%|██████████| 891/891 [00:04<00:00, 218.22it/s]\n",
      "Training Epoch 1405: 100%|██████████| 891/891 [00:04<00:00, 222.33it/s]\n",
      "Training Epoch 1406: 100%|██████████| 891/891 [00:04<00:00, 220.97it/s]\n",
      "Training Epoch 1407: 100%|██████████| 891/891 [00:04<00:00, 204.76it/s]\n",
      "Training Epoch 1408: 100%|██████████| 891/891 [00:04<00:00, 216.76it/s]\n",
      "Training Epoch 1409: 100%|██████████| 891/891 [00:04<00:00, 221.40it/s]\n",
      "Training Epoch 1410: 100%|██████████| 891/891 [00:04<00:00, 218.25it/s]\n",
      "Training Epoch 1411: 100%|██████████| 891/891 [00:04<00:00, 220.76it/s]\n"
     ]
    },
    {
     "name": "stdout",
     "output_type": "stream",
     "text": [
      "Epoch 1410 - Train Loss: 0.0627, Train MSE: 0.0627, Train MAE: 0.1905\n",
      "Epoch 1410 - Validation Loss: 0.8541, Validation MSE: 0.8537, Validation MAE: 0.6960\n"
     ]
    },
    {
     "name": "stderr",
     "output_type": "stream",
     "text": [
      "Training Epoch 1412: 100%|██████████| 891/891 [00:04<00:00, 222.42it/s]\n",
      "Training Epoch 1413: 100%|██████████| 891/891 [00:03<00:00, 225.02it/s]\n",
      "Training Epoch 1414: 100%|██████████| 891/891 [00:03<00:00, 226.72it/s]\n",
      "Training Epoch 1415: 100%|██████████| 891/891 [00:03<00:00, 232.78it/s]\n",
      "Training Epoch 1416: 100%|██████████| 891/891 [00:03<00:00, 232.14it/s]\n",
      "Training Epoch 1417: 100%|██████████| 891/891 [00:03<00:00, 223.56it/s]\n",
      "Training Epoch 1418: 100%|██████████| 891/891 [00:03<00:00, 222.81it/s]\n",
      "Training Epoch 1419: 100%|██████████| 891/891 [00:03<00:00, 230.70it/s]\n",
      "Training Epoch 1420: 100%|██████████| 891/891 [00:04<00:00, 213.22it/s]\n",
      "Training Epoch 1421: 100%|██████████| 891/891 [00:04<00:00, 190.38it/s]\n"
     ]
    },
    {
     "name": "stdout",
     "output_type": "stream",
     "text": [
      "Epoch 1420 - Train Loss: 0.0640, Train MSE: 0.0641, Train MAE: 0.1917\n",
      "Epoch 1420 - Validation Loss: 0.8454, Validation MSE: 0.8454, Validation MAE: 0.6919\n"
     ]
    },
    {
     "name": "stderr",
     "output_type": "stream",
     "text": [
      "Training Epoch 1422: 100%|██████████| 891/891 [00:04<00:00, 208.91it/s]\n",
      "Training Epoch 1423: 100%|██████████| 891/891 [00:04<00:00, 214.91it/s]\n",
      "Training Epoch 1424: 100%|██████████| 891/891 [00:04<00:00, 221.96it/s]\n",
      "Training Epoch 1425: 100%|██████████| 891/891 [00:04<00:00, 221.99it/s]\n",
      "Training Epoch 1426: 100%|██████████| 891/891 [00:03<00:00, 224.68it/s]\n",
      "Training Epoch 1427: 100%|██████████| 891/891 [00:03<00:00, 223.34it/s]\n",
      "Training Epoch 1428: 100%|██████████| 891/891 [00:03<00:00, 223.56it/s]\n",
      "Training Epoch 1429: 100%|██████████| 891/891 [00:04<00:00, 222.40it/s]\n",
      "Training Epoch 1430: 100%|██████████| 891/891 [00:04<00:00, 221.12it/s]\n",
      "Training Epoch 1431: 100%|██████████| 891/891 [00:03<00:00, 224.99it/s]\n"
     ]
    },
    {
     "name": "stdout",
     "output_type": "stream",
     "text": [
      "Epoch 1430 - Train Loss: 0.0632, Train MSE: 0.0632, Train MAE: 0.1902\n",
      "Epoch 1430 - Validation Loss: 0.8436, Validation MSE: 0.8442, Validation MAE: 0.6914\n"
     ]
    },
    {
     "name": "stderr",
     "output_type": "stream",
     "text": [
      "Training Epoch 1432: 100%|██████████| 891/891 [00:04<00:00, 218.36it/s]\n",
      "Training Epoch 1433: 100%|██████████| 891/891 [00:04<00:00, 221.02it/s]\n",
      "Training Epoch 1434: 100%|██████████| 891/891 [00:03<00:00, 229.82it/s]\n",
      "Training Epoch 1435: 100%|██████████| 891/891 [00:04<00:00, 216.73it/s]\n",
      "Training Epoch 1436: 100%|██████████| 891/891 [00:04<00:00, 215.92it/s]\n",
      "Training Epoch 1437: 100%|██████████| 891/891 [00:04<00:00, 220.71it/s]\n",
      "Training Epoch 1438: 100%|██████████| 891/891 [00:04<00:00, 222.32it/s]\n",
      "Training Epoch 1439: 100%|██████████| 891/891 [00:04<00:00, 207.87it/s]\n",
      "Training Epoch 1440: 100%|██████████| 891/891 [00:03<00:00, 229.39it/s]\n",
      "Training Epoch 1441: 100%|██████████| 891/891 [00:03<00:00, 226.12it/s]\n"
     ]
    },
    {
     "name": "stdout",
     "output_type": "stream",
     "text": [
      "Epoch 1440 - Train Loss: 0.0630, Train MSE: 0.0630, Train MAE: 0.1898\n",
      "Epoch 1440 - Validation Loss: 0.8406, Validation MSE: 0.8406, Validation MAE: 0.6931\n"
     ]
    },
    {
     "name": "stderr",
     "output_type": "stream",
     "text": [
      "Training Epoch 1442: 100%|██████████| 891/891 [00:03<00:00, 226.91it/s]\n",
      "Training Epoch 1443: 100%|██████████| 891/891 [00:03<00:00, 231.81it/s]\n",
      "Training Epoch 1444: 100%|██████████| 891/891 [00:03<00:00, 231.32it/s]\n",
      "Training Epoch 1445: 100%|██████████| 891/891 [00:03<00:00, 230.20it/s]\n",
      "Training Epoch 1446: 100%|██████████| 891/891 [00:03<00:00, 232.44it/s]\n",
      "Training Epoch 1447: 100%|██████████| 891/891 [00:03<00:00, 230.22it/s]\n",
      "Training Epoch 1448: 100%|██████████| 891/891 [00:03<00:00, 231.30it/s]\n",
      "Training Epoch 1449: 100%|██████████| 891/891 [00:03<00:00, 231.02it/s]\n",
      "Training Epoch 1450: 100%|██████████| 891/891 [00:03<00:00, 229.58it/s]\n",
      "Training Epoch 1451: 100%|██████████| 891/891 [00:03<00:00, 223.85it/s]\n"
     ]
    },
    {
     "name": "stdout",
     "output_type": "stream",
     "text": [
      "Epoch 1450 - Train Loss: 0.0629, Train MSE: 0.0629, Train MAE: 0.1902\n",
      "Epoch 1450 - Validation Loss: 0.8490, Validation MSE: 0.8480, Validation MAE: 0.6932\n"
     ]
    },
    {
     "name": "stderr",
     "output_type": "stream",
     "text": [
      "Training Epoch 1452: 100%|██████████| 891/891 [00:03<00:00, 234.09it/s]\n",
      "Training Epoch 1453: 100%|██████████| 891/891 [00:03<00:00, 232.65it/s]\n",
      "Training Epoch 1454: 100%|██████████| 891/891 [00:03<00:00, 229.63it/s]\n",
      "Training Epoch 1455: 100%|██████████| 891/891 [00:03<00:00, 230.33it/s]\n",
      "Training Epoch 1456: 100%|██████████| 891/891 [00:03<00:00, 231.61it/s]\n",
      "Training Epoch 1457: 100%|██████████| 891/891 [00:03<00:00, 231.39it/s]\n",
      "Training Epoch 1458: 100%|██████████| 891/891 [00:03<00:00, 234.39it/s]\n",
      "Training Epoch 1459: 100%|██████████| 891/891 [00:03<00:00, 227.90it/s]\n",
      "Training Epoch 1460: 100%|██████████| 891/891 [00:03<00:00, 230.21it/s]\n",
      "Training Epoch 1461: 100%|██████████| 891/891 [00:03<00:00, 232.56it/s]\n"
     ]
    },
    {
     "name": "stdout",
     "output_type": "stream",
     "text": [
      "Epoch 1460 - Train Loss: 0.0617, Train MSE: 0.0617, Train MAE: 0.1888\n",
      "Epoch 1460 - Validation Loss: 0.8405, Validation MSE: 0.8402, Validation MAE: 0.6901\n"
     ]
    },
    {
     "name": "stderr",
     "output_type": "stream",
     "text": [
      "Training Epoch 1462: 100%|██████████| 891/891 [00:03<00:00, 232.56it/s]\n",
      "Training Epoch 1463: 100%|██████████| 891/891 [00:03<00:00, 228.92it/s]\n",
      "Training Epoch 1464: 100%|██████████| 891/891 [00:03<00:00, 232.90it/s]\n",
      "Training Epoch 1465: 100%|██████████| 891/891 [00:03<00:00, 224.52it/s]\n",
      "Training Epoch 1466: 100%|██████████| 891/891 [00:03<00:00, 229.21it/s]\n",
      "Training Epoch 1467: 100%|██████████| 891/891 [00:03<00:00, 228.96it/s]\n",
      "Training Epoch 1468: 100%|██████████| 891/891 [00:03<00:00, 229.53it/s]\n",
      "Training Epoch 1469: 100%|██████████| 891/891 [00:03<00:00, 229.41it/s]\n",
      "Training Epoch 1470: 100%|██████████| 891/891 [00:03<00:00, 231.16it/s]\n",
      "Training Epoch 1471: 100%|██████████| 891/891 [00:03<00:00, 234.04it/s]\n"
     ]
    },
    {
     "name": "stdout",
     "output_type": "stream",
     "text": [
      "Epoch 1470 - Train Loss: 0.0626, Train MSE: 0.0625, Train MAE: 0.1893\n",
      "Epoch 1470 - Validation Loss: 0.8424, Validation MSE: 0.8419, Validation MAE: 0.6899\n"
     ]
    },
    {
     "name": "stderr",
     "output_type": "stream",
     "text": [
      "Training Epoch 1472: 100%|██████████| 891/891 [00:03<00:00, 230.02it/s]\n",
      "Training Epoch 1473: 100%|██████████| 891/891 [00:03<00:00, 229.32it/s]\n",
      "Training Epoch 1474: 100%|██████████| 891/891 [00:03<00:00, 232.07it/s]\n",
      "Training Epoch 1475: 100%|██████████| 891/891 [00:03<00:00, 232.69it/s]\n",
      "Training Epoch 1476: 100%|██████████| 891/891 [00:03<00:00, 230.95it/s]\n",
      "Training Epoch 1477: 100%|██████████| 891/891 [00:03<00:00, 229.91it/s]\n",
      "Training Epoch 1478: 100%|██████████| 891/891 [00:03<00:00, 230.00it/s]\n",
      "Training Epoch 1479: 100%|██████████| 891/891 [00:03<00:00, 229.58it/s]\n",
      "Training Epoch 1480: 100%|██████████| 891/891 [00:03<00:00, 224.78it/s]\n",
      "Training Epoch 1481: 100%|██████████| 891/891 [00:03<00:00, 233.35it/s]\n"
     ]
    },
    {
     "name": "stdout",
     "output_type": "stream",
     "text": [
      "Epoch 1480 - Train Loss: 0.0630, Train MSE: 0.0630, Train MAE: 0.1901\n",
      "Epoch 1480 - Validation Loss: 0.8478, Validation MSE: 0.8469, Validation MAE: 0.6928\n"
     ]
    },
    {
     "name": "stderr",
     "output_type": "stream",
     "text": [
      "Training Epoch 1482: 100%|██████████| 891/891 [00:03<00:00, 235.75it/s]\n",
      "Training Epoch 1483: 100%|██████████| 891/891 [00:03<00:00, 232.36it/s]\n",
      "Training Epoch 1484: 100%|██████████| 891/891 [00:03<00:00, 230.01it/s]\n",
      "Training Epoch 1485: 100%|██████████| 891/891 [00:03<00:00, 229.98it/s]\n",
      "Training Epoch 1486: 100%|██████████| 891/891 [00:03<00:00, 230.79it/s]\n",
      "Training Epoch 1487: 100%|██████████| 891/891 [00:03<00:00, 232.70it/s]\n",
      "Training Epoch 1488: 100%|██████████| 891/891 [00:03<00:00, 231.71it/s]\n",
      "Training Epoch 1489: 100%|██████████| 891/891 [00:03<00:00, 229.58it/s]\n",
      "Training Epoch 1490: 100%|██████████| 891/891 [00:03<00:00, 232.63it/s]\n",
      "Training Epoch 1491: 100%|██████████| 891/891 [00:03<00:00, 228.05it/s]\n"
     ]
    },
    {
     "name": "stdout",
     "output_type": "stream",
     "text": [
      "Epoch 1490 - Train Loss: 0.0622, Train MSE: 0.0622, Train MAE: 0.1890\n",
      "Epoch 1490 - Validation Loss: 0.8332, Validation MSE: 0.8331, Validation MAE: 0.6881\n"
     ]
    },
    {
     "name": "stderr",
     "output_type": "stream",
     "text": [
      "Training Epoch 1492: 100%|██████████| 891/891 [00:03<00:00, 229.03it/s]\n",
      "Training Epoch 1493: 100%|██████████| 891/891 [00:03<00:00, 232.30it/s]\n",
      "Training Epoch 1494: 100%|██████████| 891/891 [00:03<00:00, 241.03it/s]\n",
      "Training Epoch 1495: 100%|██████████| 891/891 [00:03<00:00, 227.39it/s]\n",
      "Training Epoch 1496: 100%|██████████| 891/891 [00:03<00:00, 229.34it/s]\n",
      "Training Epoch 1497: 100%|██████████| 891/891 [00:03<00:00, 234.02it/s]\n",
      "Training Epoch 1498: 100%|██████████| 891/891 [00:03<00:00, 228.61it/s]\n",
      "Training Epoch 1499: 100%|██████████| 891/891 [00:03<00:00, 232.74it/s]\n",
      "Training Epoch 1500: 100%|██████████| 891/891 [00:03<00:00, 228.94it/s]\n",
      "Training Epoch 1501: 100%|██████████| 891/891 [00:03<00:00, 230.11it/s]\n"
     ]
    },
    {
     "name": "stdout",
     "output_type": "stream",
     "text": [
      "Epoch 1500 - Train Loss: 0.0625, Train MSE: 0.0624, Train MAE: 0.1888\n",
      "Epoch 1500 - Validation Loss: 0.8411, Validation MSE: 0.8409, Validation MAE: 0.6918\n"
     ]
    },
    {
     "name": "stderr",
     "output_type": "stream",
     "text": [
      "Training Epoch 1502: 100%|██████████| 891/891 [00:03<00:00, 229.07it/s]\n",
      "Training Epoch 1503: 100%|██████████| 891/891 [00:03<00:00, 229.51it/s]\n",
      "Training Epoch 1504: 100%|██████████| 891/891 [00:03<00:00, 232.72it/s]\n",
      "Training Epoch 1505: 100%|██████████| 891/891 [00:03<00:00, 227.52it/s]\n",
      "Training Epoch 1506: 100%|██████████| 891/891 [00:03<00:00, 228.70it/s]\n",
      "Training Epoch 1507: 100%|██████████| 891/891 [00:03<00:00, 232.03it/s]\n",
      "Training Epoch 1508: 100%|██████████| 891/891 [00:03<00:00, 232.11it/s]\n",
      "Training Epoch 1509: 100%|██████████| 891/891 [00:03<00:00, 225.45it/s]\n",
      "Training Epoch 1510: 100%|██████████| 891/891 [00:03<00:00, 232.83it/s]\n",
      "Training Epoch 1511: 100%|██████████| 891/891 [00:03<00:00, 231.75it/s]\n"
     ]
    },
    {
     "name": "stdout",
     "output_type": "stream",
     "text": [
      "Epoch 1510 - Train Loss: 0.0619, Train MSE: 0.0619, Train MAE: 0.1882\n",
      "Epoch 1510 - Validation Loss: 0.8406, Validation MSE: 0.8401, Validation MAE: 0.6913\n"
     ]
    },
    {
     "name": "stderr",
     "output_type": "stream",
     "text": [
      "Training Epoch 1512: 100%|██████████| 891/891 [00:03<00:00, 231.25it/s]\n",
      "Training Epoch 1513: 100%|██████████| 891/891 [00:03<00:00, 229.32it/s]\n",
      "Training Epoch 1514: 100%|██████████| 891/891 [00:03<00:00, 231.86it/s]\n",
      "Training Epoch 1515: 100%|██████████| 891/891 [00:03<00:00, 229.84it/s]\n",
      "Training Epoch 1516: 100%|██████████| 891/891 [00:03<00:00, 233.00it/s]\n",
      "Training Epoch 1517: 100%|██████████| 891/891 [00:03<00:00, 233.18it/s]\n",
      "Training Epoch 1518: 100%|██████████| 891/891 [00:03<00:00, 233.59it/s]\n",
      "Training Epoch 1519: 100%|██████████| 891/891 [00:03<00:00, 232.31it/s]\n",
      "Training Epoch 1520: 100%|██████████| 891/891 [00:04<00:00, 214.38it/s]\n",
      "Training Epoch 1521: 100%|██████████| 891/891 [00:03<00:00, 228.29it/s]\n"
     ]
    },
    {
     "name": "stdout",
     "output_type": "stream",
     "text": [
      "Epoch 1520 - Train Loss: 0.0593, Train MSE: 0.0593, Train MAE: 0.1854\n",
      "Epoch 1520 - Validation Loss: 0.8526, Validation MSE: 0.8525, Validation MAE: 0.6958\n"
     ]
    },
    {
     "name": "stderr",
     "output_type": "stream",
     "text": [
      "Training Epoch 1522: 100%|██████████| 891/891 [00:03<00:00, 230.45it/s]\n",
      "Training Epoch 1523: 100%|██████████| 891/891 [00:03<00:00, 225.90it/s]\n",
      "Training Epoch 1524: 100%|██████████| 891/891 [00:03<00:00, 228.66it/s]\n",
      "Training Epoch 1525: 100%|██████████| 891/891 [00:03<00:00, 228.98it/s]\n",
      "Training Epoch 1526: 100%|██████████| 891/891 [00:03<00:00, 232.42it/s]\n",
      "Training Epoch 1527: 100%|██████████| 891/891 [00:03<00:00, 230.77it/s]\n",
      "Training Epoch 1528: 100%|██████████| 891/891 [00:03<00:00, 233.66it/s]\n",
      "Training Epoch 1529: 100%|██████████| 891/891 [00:03<00:00, 230.44it/s]\n",
      "Training Epoch 1530: 100%|██████████| 891/891 [00:03<00:00, 230.49it/s]\n",
      "Training Epoch 1531: 100%|██████████| 891/891 [00:03<00:00, 233.92it/s]\n"
     ]
    },
    {
     "name": "stdout",
     "output_type": "stream",
     "text": [
      "Epoch 1530 - Train Loss: 0.0627, Train MSE: 0.0627, Train MAE: 0.1900\n",
      "Epoch 1530 - Validation Loss: 0.8438, Validation MSE: 0.8432, Validation MAE: 0.6923\n"
     ]
    },
    {
     "name": "stderr",
     "output_type": "stream",
     "text": [
      "Training Epoch 1532: 100%|██████████| 891/891 [00:03<00:00, 230.75it/s]\n",
      "Training Epoch 1533: 100%|██████████| 891/891 [00:03<00:00, 230.89it/s]\n",
      "Training Epoch 1534: 100%|██████████| 891/891 [00:03<00:00, 229.13it/s]\n",
      "Training Epoch 1535: 100%|██████████| 891/891 [00:03<00:00, 233.05it/s]\n",
      "Training Epoch 1536: 100%|██████████| 891/891 [00:03<00:00, 229.16it/s]\n",
      "Training Epoch 1537: 100%|██████████| 891/891 [00:03<00:00, 235.38it/s]\n",
      "Training Epoch 1538: 100%|██████████| 891/891 [00:03<00:00, 233.31it/s]\n",
      "Training Epoch 1539: 100%|██████████| 891/891 [00:03<00:00, 229.52it/s]\n",
      "Training Epoch 1540: 100%|██████████| 891/891 [00:03<00:00, 232.42it/s]\n",
      "Training Epoch 1541: 100%|██████████| 891/891 [00:03<00:00, 230.33it/s]\n"
     ]
    },
    {
     "name": "stdout",
     "output_type": "stream",
     "text": [
      "Epoch 1540 - Train Loss: 0.0611, Train MSE: 0.0611, Train MAE: 0.1870\n",
      "Epoch 1540 - Validation Loss: 0.8478, Validation MSE: 0.8479, Validation MAE: 0.6927\n"
     ]
    },
    {
     "name": "stderr",
     "output_type": "stream",
     "text": [
      "Training Epoch 1542: 100%|██████████| 891/891 [00:03<00:00, 231.34it/s]\n",
      "Training Epoch 1543: 100%|██████████| 891/891 [00:03<00:00, 230.76it/s]\n",
      "Training Epoch 1544: 100%|██████████| 891/891 [00:03<00:00, 240.94it/s]\n",
      "Training Epoch 1545: 100%|██████████| 891/891 [00:03<00:00, 230.75it/s]\n",
      "Training Epoch 1546: 100%|██████████| 891/891 [00:03<00:00, 233.08it/s]\n",
      "Training Epoch 1547: 100%|██████████| 891/891 [00:04<00:00, 219.59it/s]\n",
      "Training Epoch 1548: 100%|██████████| 891/891 [00:03<00:00, 223.71it/s]\n",
      "Training Epoch 1549: 100%|██████████| 891/891 [00:04<00:00, 215.21it/s]\n",
      "Training Epoch 1550: 100%|██████████| 891/891 [00:03<00:00, 223.59it/s]\n",
      "Training Epoch 1551: 100%|██████████| 891/891 [00:04<00:00, 220.35it/s]\n"
     ]
    },
    {
     "name": "stdout",
     "output_type": "stream",
     "text": [
      "Epoch 1550 - Train Loss: 0.0601, Train MSE: 0.0601, Train MAE: 0.1867\n",
      "Epoch 1550 - Validation Loss: 0.8565, Validation MSE: 0.8562, Validation MAE: 0.6954\n"
     ]
    },
    {
     "name": "stderr",
     "output_type": "stream",
     "text": [
      "Training Epoch 1552: 100%|██████████| 891/891 [00:03<00:00, 228.30it/s]\n",
      "Training Epoch 1553: 100%|██████████| 891/891 [00:04<00:00, 204.34it/s]\n",
      "Training Epoch 1554: 100%|██████████| 891/891 [00:03<00:00, 223.23it/s]\n",
      "Training Epoch 1555: 100%|██████████| 891/891 [00:03<00:00, 224.70it/s]\n",
      "Training Epoch 1556: 100%|██████████| 891/891 [00:04<00:00, 222.03it/s]\n",
      "Training Epoch 1557: 100%|██████████| 891/891 [00:04<00:00, 220.18it/s]\n",
      "Training Epoch 1558: 100%|██████████| 891/891 [00:03<00:00, 223.82it/s]\n",
      "Training Epoch 1559: 100%|██████████| 891/891 [00:03<00:00, 224.08it/s]\n",
      "Training Epoch 1560: 100%|██████████| 891/891 [00:03<00:00, 225.32it/s]\n",
      "Training Epoch 1561: 100%|██████████| 891/891 [00:04<00:00, 218.56it/s]\n"
     ]
    },
    {
     "name": "stdout",
     "output_type": "stream",
     "text": [
      "Epoch 1560 - Train Loss: 0.0598, Train MSE: 0.0598, Train MAE: 0.1853\n",
      "Epoch 1560 - Validation Loss: 0.8496, Validation MSE: 0.8491, Validation MAE: 0.6939\n"
     ]
    },
    {
     "name": "stderr",
     "output_type": "stream",
     "text": [
      "Training Epoch 1562: 100%|██████████| 891/891 [00:04<00:00, 220.45it/s]\n",
      "Training Epoch 1563: 100%|██████████| 891/891 [00:03<00:00, 228.47it/s]\n",
      "Training Epoch 1564: 100%|██████████| 891/891 [00:03<00:00, 226.87it/s]\n",
      "Training Epoch 1565: 100%|██████████| 891/891 [00:03<00:00, 229.40it/s]\n",
      "Training Epoch 1566: 100%|██████████| 891/891 [00:03<00:00, 225.27it/s]\n",
      "Training Epoch 1567: 100%|██████████| 891/891 [00:04<00:00, 217.42it/s]\n",
      "Training Epoch 1568: 100%|██████████| 891/891 [00:03<00:00, 227.21it/s]\n",
      "Training Epoch 1569: 100%|██████████| 891/891 [00:04<00:00, 222.34it/s]\n",
      "Training Epoch 1570: 100%|██████████| 891/891 [00:04<00:00, 215.79it/s]\n",
      "Training Epoch 1571: 100%|██████████| 891/891 [00:03<00:00, 223.98it/s]\n"
     ]
    },
    {
     "name": "stdout",
     "output_type": "stream",
     "text": [
      "Epoch 1570 - Train Loss: 0.0606, Train MSE: 0.0607, Train MAE: 0.1863\n",
      "Epoch 1570 - Validation Loss: 0.8414, Validation MSE: 0.8408, Validation MAE: 0.6914\n"
     ]
    },
    {
     "name": "stderr",
     "output_type": "stream",
     "text": [
      "Training Epoch 1572: 100%|██████████| 891/891 [00:03<00:00, 226.86it/s]\n",
      "Training Epoch 1573: 100%|██████████| 891/891 [00:03<00:00, 223.62it/s]\n",
      "Training Epoch 1574: 100%|██████████| 891/891 [00:03<00:00, 224.77it/s]\n",
      "Training Epoch 1575: 100%|██████████| 891/891 [00:03<00:00, 224.48it/s]\n",
      "Training Epoch 1576: 100%|██████████| 891/891 [00:03<00:00, 223.12it/s]\n",
      "Training Epoch 1577: 100%|██████████| 891/891 [00:03<00:00, 229.72it/s]\n",
      "Training Epoch 1578: 100%|██████████| 891/891 [00:03<00:00, 226.52it/s]\n",
      "Training Epoch 1579: 100%|██████████| 891/891 [00:03<00:00, 223.43it/s]\n",
      "Training Epoch 1580: 100%|██████████| 891/891 [00:03<00:00, 223.92it/s]\n",
      "Training Epoch 1581: 100%|██████████| 891/891 [00:04<00:00, 221.16it/s]\n"
     ]
    },
    {
     "name": "stdout",
     "output_type": "stream",
     "text": [
      "Epoch 1580 - Train Loss: 0.0607, Train MSE: 0.0608, Train MAE: 0.1866\n",
      "Epoch 1580 - Validation Loss: 0.8616, Validation MSE: 0.8616, Validation MAE: 0.6950\n"
     ]
    },
    {
     "name": "stderr",
     "output_type": "stream",
     "text": [
      "Training Epoch 1582: 100%|██████████| 891/891 [00:04<00:00, 219.85it/s]\n",
      "Training Epoch 1583: 100%|██████████| 891/891 [00:03<00:00, 227.87it/s]\n",
      "Training Epoch 1584: 100%|██████████| 891/891 [00:03<00:00, 227.25it/s]\n",
      "Training Epoch 1585: 100%|██████████| 891/891 [00:03<00:00, 224.44it/s]\n",
      "Training Epoch 1586: 100%|██████████| 891/891 [00:03<00:00, 227.82it/s]\n",
      "Training Epoch 1587: 100%|██████████| 891/891 [00:03<00:00, 227.38it/s]\n",
      "Training Epoch 1588: 100%|██████████| 891/891 [00:03<00:00, 231.14it/s]\n",
      "Training Epoch 1589: 100%|██████████| 891/891 [00:03<00:00, 225.28it/s]\n",
      "Training Epoch 1590: 100%|██████████| 891/891 [00:03<00:00, 227.90it/s]\n",
      "Training Epoch 1591: 100%|██████████| 891/891 [00:04<00:00, 220.69it/s]\n"
     ]
    },
    {
     "name": "stdout",
     "output_type": "stream",
     "text": [
      "Epoch 1590 - Train Loss: 0.0605, Train MSE: 0.0605, Train MAE: 0.1861\n",
      "Epoch 1590 - Validation Loss: 0.8638, Validation MSE: 0.8630, Validation MAE: 0.6990\n"
     ]
    },
    {
     "name": "stderr",
     "output_type": "stream",
     "text": [
      "Training Epoch 1592: 100%|██████████| 891/891 [00:03<00:00, 227.72it/s]\n",
      "Training Epoch 1593: 100%|██████████| 891/891 [00:04<00:00, 219.99it/s]\n",
      "Training Epoch 1594: 100%|██████████| 891/891 [00:03<00:00, 232.33it/s]\n",
      "Training Epoch 1595: 100%|██████████| 891/891 [00:03<00:00, 231.43it/s]\n",
      "Training Epoch 1596: 100%|██████████| 891/891 [00:04<00:00, 217.20it/s]\n",
      "Training Epoch 1597: 100%|██████████| 891/891 [00:03<00:00, 224.11it/s]\n",
      "Training Epoch 1598: 100%|██████████| 891/891 [00:03<00:00, 236.15it/s]\n",
      "Training Epoch 1599: 100%|██████████| 891/891 [00:04<00:00, 221.55it/s]\n",
      "Training Epoch 1600: 100%|██████████| 891/891 [00:03<00:00, 228.03it/s]\n",
      "Training Epoch 1601: 100%|██████████| 891/891 [00:04<00:00, 222.01it/s]\n"
     ]
    },
    {
     "name": "stdout",
     "output_type": "stream",
     "text": [
      "Epoch 1600 - Train Loss: 0.0598, Train MSE: 0.0598, Train MAE: 0.1844\n",
      "Epoch 1600 - Validation Loss: 0.8586, Validation MSE: 0.8582, Validation MAE: 0.6954\n"
     ]
    },
    {
     "name": "stderr",
     "output_type": "stream",
     "text": [
      "Training Epoch 1602: 100%|██████████| 891/891 [00:03<00:00, 226.65it/s]\n",
      "Training Epoch 1603: 100%|██████████| 891/891 [00:03<00:00, 225.50it/s]\n",
      "Training Epoch 1604: 100%|██████████| 891/891 [00:03<00:00, 226.93it/s]\n",
      "Training Epoch 1605: 100%|██████████| 891/891 [00:04<00:00, 221.74it/s]\n",
      "Training Epoch 1606: 100%|██████████| 891/891 [00:03<00:00, 228.42it/s]\n",
      "Training Epoch 1607: 100%|██████████| 891/891 [00:03<00:00, 224.57it/s]\n",
      "Training Epoch 1608: 100%|██████████| 891/891 [00:03<00:00, 223.68it/s]\n",
      "Training Epoch 1609: 100%|██████████| 891/891 [00:03<00:00, 228.71it/s]\n",
      "Training Epoch 1610: 100%|██████████| 891/891 [00:03<00:00, 230.29it/s]\n",
      "Training Epoch 1611: 100%|██████████| 891/891 [00:03<00:00, 229.97it/s]\n"
     ]
    },
    {
     "name": "stdout",
     "output_type": "stream",
     "text": [
      "Epoch 1610 - Train Loss: 0.0607, Train MSE: 0.0607, Train MAE: 0.1860\n",
      "Epoch 1610 - Validation Loss: 0.8489, Validation MSE: 0.8488, Validation MAE: 0.6942\n"
     ]
    },
    {
     "name": "stderr",
     "output_type": "stream",
     "text": [
      "Training Epoch 1612: 100%|██████████| 891/891 [00:03<00:00, 229.20it/s]\n",
      "Training Epoch 1613: 100%|██████████| 891/891 [00:03<00:00, 230.64it/s]\n",
      "Training Epoch 1614: 100%|██████████| 891/891 [00:03<00:00, 227.63it/s]\n",
      "Training Epoch 1615: 100%|██████████| 891/891 [00:03<00:00, 224.10it/s]\n",
      "Training Epoch 1616: 100%|██████████| 891/891 [00:03<00:00, 224.20it/s]\n",
      "Training Epoch 1617: 100%|██████████| 891/891 [00:03<00:00, 225.72it/s]\n",
      "Training Epoch 1618: 100%|██████████| 891/891 [00:03<00:00, 227.83it/s]\n",
      "Training Epoch 1619: 100%|██████████| 891/891 [00:03<00:00, 224.29it/s]\n",
      "Training Epoch 1620: 100%|██████████| 891/891 [00:03<00:00, 224.23it/s]\n",
      "Training Epoch 1621: 100%|██████████| 891/891 [00:03<00:00, 230.48it/s]\n"
     ]
    },
    {
     "name": "stdout",
     "output_type": "stream",
     "text": [
      "Epoch 1620 - Train Loss: 0.0598, Train MSE: 0.0598, Train MAE: 0.1848\n",
      "Epoch 1620 - Validation Loss: 0.8515, Validation MSE: 0.8517, Validation MAE: 0.6960\n"
     ]
    },
    {
     "name": "stderr",
     "output_type": "stream",
     "text": [
      "Training Epoch 1622: 100%|██████████| 891/891 [00:03<00:00, 223.49it/s]\n",
      "Training Epoch 1623: 100%|██████████| 891/891 [00:03<00:00, 226.89it/s]\n",
      "Training Epoch 1624: 100%|██████████| 891/891 [00:03<00:00, 224.73it/s]\n",
      "Training Epoch 1625: 100%|██████████| 891/891 [00:03<00:00, 224.97it/s]\n",
      "Training Epoch 1626: 100%|██████████| 891/891 [00:03<00:00, 227.66it/s]\n",
      "Training Epoch 1627: 100%|██████████| 891/891 [00:03<00:00, 230.01it/s]\n",
      "Training Epoch 1628: 100%|██████████| 891/891 [00:03<00:00, 225.57it/s]\n",
      "Training Epoch 1629: 100%|██████████| 891/891 [00:03<00:00, 226.21it/s]\n",
      "Training Epoch 1630: 100%|██████████| 891/891 [00:03<00:00, 226.84it/s]\n",
      "Training Epoch 1631: 100%|██████████| 891/891 [00:03<00:00, 225.02it/s]\n"
     ]
    },
    {
     "name": "stdout",
     "output_type": "stream",
     "text": [
      "Epoch 1630 - Train Loss: 0.0602, Train MSE: 0.0602, Train MAE: 0.1856\n",
      "Epoch 1630 - Validation Loss: 0.8676, Validation MSE: 0.8676, Validation MAE: 0.7020\n"
     ]
    },
    {
     "name": "stderr",
     "output_type": "stream",
     "text": [
      "Training Epoch 1632: 100%|██████████| 891/891 [00:03<00:00, 230.42it/s]\n",
      "Training Epoch 1633: 100%|██████████| 891/891 [00:03<00:00, 227.22it/s]\n",
      "Training Epoch 1634: 100%|██████████| 891/891 [00:03<00:00, 229.75it/s]\n",
      "Training Epoch 1635: 100%|██████████| 891/891 [00:03<00:00, 228.64it/s]\n",
      "Training Epoch 1636: 100%|██████████| 891/891 [00:03<00:00, 232.34it/s]\n",
      "Training Epoch 1637: 100%|██████████| 891/891 [00:03<00:00, 229.87it/s]\n",
      "Training Epoch 1638: 100%|██████████| 891/891 [00:03<00:00, 230.27it/s]\n",
      "Training Epoch 1639: 100%|██████████| 891/891 [00:04<00:00, 221.63it/s]\n",
      "Training Epoch 1640: 100%|██████████| 891/891 [00:03<00:00, 236.14it/s]\n",
      "Training Epoch 1641: 100%|██████████| 891/891 [00:03<00:00, 223.47it/s]\n"
     ]
    },
    {
     "name": "stdout",
     "output_type": "stream",
     "text": [
      "Epoch 1640 - Train Loss: 0.0595, Train MSE: 0.0595, Train MAE: 0.1845\n",
      "Epoch 1640 - Validation Loss: 0.8478, Validation MSE: 0.8482, Validation MAE: 0.6928\n"
     ]
    },
    {
     "name": "stderr",
     "output_type": "stream",
     "text": [
      "Training Epoch 1642: 100%|██████████| 891/891 [00:03<00:00, 229.94it/s]\n",
      "Training Epoch 1643: 100%|██████████| 891/891 [00:03<00:00, 225.35it/s]\n",
      "Training Epoch 1644: 100%|██████████| 891/891 [00:03<00:00, 225.90it/s]\n",
      "Training Epoch 1645: 100%|██████████| 891/891 [00:03<00:00, 228.54it/s]\n",
      "Training Epoch 1646: 100%|██████████| 891/891 [00:03<00:00, 227.24it/s]\n",
      "Training Epoch 1647: 100%|██████████| 891/891 [00:03<00:00, 228.33it/s]\n",
      "Training Epoch 1648: 100%|██████████| 891/891 [00:03<00:00, 227.35it/s]\n",
      "Training Epoch 1649: 100%|██████████| 891/891 [00:03<00:00, 226.64it/s]\n",
      "Training Epoch 1650: 100%|██████████| 891/891 [00:03<00:00, 223.29it/s]\n",
      "Training Epoch 1651: 100%|██████████| 891/891 [00:03<00:00, 228.63it/s]\n"
     ]
    },
    {
     "name": "stdout",
     "output_type": "stream",
     "text": [
      "Epoch 1650 - Train Loss: 0.0598, Train MSE: 0.0598, Train MAE: 0.1847\n",
      "Epoch 1650 - Validation Loss: 0.8428, Validation MSE: 0.8437, Validation MAE: 0.6913\n"
     ]
    },
    {
     "name": "stderr",
     "output_type": "stream",
     "text": [
      "Training Epoch 1652: 100%|██████████| 891/891 [00:03<00:00, 223.79it/s]\n",
      "Training Epoch 1653: 100%|██████████| 891/891 [00:04<00:00, 222.10it/s]\n",
      "Training Epoch 1654: 100%|██████████| 891/891 [00:04<00:00, 219.56it/s]\n",
      "Training Epoch 1655: 100%|██████████| 891/891 [00:03<00:00, 227.38it/s]\n",
      "Training Epoch 1656: 100%|██████████| 891/891 [00:03<00:00, 225.54it/s]\n",
      "Training Epoch 1657: 100%|██████████| 891/891 [00:03<00:00, 226.89it/s]\n",
      "Training Epoch 1658: 100%|██████████| 891/891 [00:03<00:00, 224.72it/s]\n",
      "Training Epoch 1659: 100%|██████████| 891/891 [00:03<00:00, 233.21it/s]\n",
      "Training Epoch 1660: 100%|██████████| 891/891 [00:04<00:00, 222.13it/s]\n",
      "Training Epoch 1661: 100%|██████████| 891/891 [00:03<00:00, 228.86it/s]\n"
     ]
    },
    {
     "name": "stdout",
     "output_type": "stream",
     "text": [
      "Epoch 1660 - Train Loss: 0.0596, Train MSE: 0.0596, Train MAE: 0.1853\n",
      "Epoch 1660 - Validation Loss: 0.8505, Validation MSE: 0.8509, Validation MAE: 0.6971\n"
     ]
    },
    {
     "name": "stderr",
     "output_type": "stream",
     "text": [
      "Training Epoch 1662: 100%|██████████| 891/891 [00:03<00:00, 225.15it/s]\n",
      "Training Epoch 1663: 100%|██████████| 891/891 [00:03<00:00, 228.00it/s]\n",
      "Training Epoch 1664: 100%|██████████| 891/891 [00:03<00:00, 225.84it/s]\n",
      "Training Epoch 1665: 100%|██████████| 891/891 [00:03<00:00, 227.92it/s]\n",
      "Training Epoch 1666: 100%|██████████| 891/891 [00:03<00:00, 226.03it/s]\n",
      "Training Epoch 1667: 100%|██████████| 891/891 [00:03<00:00, 224.12it/s]\n",
      "Training Epoch 1668: 100%|██████████| 891/891 [00:04<00:00, 221.92it/s]\n",
      "Training Epoch 1669: 100%|██████████| 891/891 [00:03<00:00, 227.47it/s]\n",
      "Training Epoch 1670: 100%|██████████| 891/891 [00:03<00:00, 223.30it/s]\n",
      "Training Epoch 1671: 100%|██████████| 891/891 [00:03<00:00, 226.21it/s]\n"
     ]
    },
    {
     "name": "stdout",
     "output_type": "stream",
     "text": [
      "Epoch 1670 - Train Loss: 0.0585, Train MSE: 0.0585, Train MAE: 0.1830\n",
      "Epoch 1670 - Validation Loss: 0.8525, Validation MSE: 0.8526, Validation MAE: 0.6986\n"
     ]
    },
    {
     "name": "stderr",
     "output_type": "stream",
     "text": [
      "Training Epoch 1672: 100%|██████████| 891/891 [00:03<00:00, 223.48it/s]\n",
      "Training Epoch 1673: 100%|██████████| 891/891 [00:03<00:00, 223.67it/s]\n",
      "Training Epoch 1674: 100%|██████████| 891/891 [00:03<00:00, 225.01it/s]\n",
      "Training Epoch 1675: 100%|██████████| 891/891 [00:03<00:00, 224.76it/s]\n",
      "Training Epoch 1676: 100%|██████████| 891/891 [00:04<00:00, 221.71it/s]\n",
      "Training Epoch 1677: 100%|██████████| 891/891 [00:04<00:00, 222.54it/s]\n",
      "Training Epoch 1678: 100%|██████████| 891/891 [00:03<00:00, 230.87it/s]\n",
      "Training Epoch 1679: 100%|██████████| 891/891 [00:03<00:00, 229.54it/s]\n",
      "Training Epoch 1680: 100%|██████████| 891/891 [00:03<00:00, 227.08it/s]\n",
      "Training Epoch 1681: 100%|██████████| 891/891 [00:03<00:00, 229.28it/s]\n"
     ]
    },
    {
     "name": "stdout",
     "output_type": "stream",
     "text": [
      "Epoch 1680 - Train Loss: 0.0593, Train MSE: 0.0593, Train MAE: 0.1845\n",
      "Epoch 1680 - Validation Loss: 0.8533, Validation MSE: 0.8540, Validation MAE: 0.6967\n"
     ]
    },
    {
     "name": "stderr",
     "output_type": "stream",
     "text": [
      "Training Epoch 1682: 100%|██████████| 891/891 [00:03<00:00, 227.26it/s]\n",
      "Training Epoch 1683: 100%|██████████| 891/891 [00:04<00:00, 222.62it/s]\n",
      "Training Epoch 1684: 100%|██████████| 891/891 [00:03<00:00, 228.65it/s]\n",
      "Training Epoch 1685: 100%|██████████| 891/891 [00:03<00:00, 229.02it/s]\n",
      "Training Epoch 1686: 100%|██████████| 891/891 [00:03<00:00, 232.75it/s]\n",
      "Training Epoch 1687: 100%|██████████| 891/891 [00:04<00:00, 220.52it/s]\n",
      "Training Epoch 1688: 100%|██████████| 891/891 [00:03<00:00, 233.22it/s]\n",
      "Training Epoch 1689: 100%|██████████| 891/891 [00:04<00:00, 222.75it/s]\n",
      "Training Epoch 1690: 100%|██████████| 891/891 [00:03<00:00, 227.76it/s]\n",
      "Training Epoch 1691: 100%|██████████| 891/891 [00:03<00:00, 224.29it/s]\n"
     ]
    },
    {
     "name": "stdout",
     "output_type": "stream",
     "text": [
      "Epoch 1690 - Train Loss: 0.0600, Train MSE: 0.0600, Train MAE: 0.1847\n",
      "Epoch 1690 - Validation Loss: 0.8445, Validation MSE: 0.8443, Validation MAE: 0.6931\n"
     ]
    },
    {
     "name": "stderr",
     "output_type": "stream",
     "text": [
      "Training Epoch 1692: 100%|██████████| 891/891 [00:03<00:00, 229.21it/s]\n",
      "Training Epoch 1693: 100%|██████████| 891/891 [00:03<00:00, 223.33it/s]\n",
      "Training Epoch 1694: 100%|██████████| 891/891 [00:04<00:00, 222.59it/s]\n",
      "Training Epoch 1695: 100%|██████████| 891/891 [00:03<00:00, 224.45it/s]\n",
      "Training Epoch 1696: 100%|██████████| 891/891 [00:03<00:00, 229.03it/s]\n",
      "Training Epoch 1697: 100%|██████████| 891/891 [00:04<00:00, 218.52it/s]\n",
      "Training Epoch 1698: 100%|██████████| 891/891 [00:03<00:00, 230.60it/s]\n",
      "Training Epoch 1699: 100%|██████████| 891/891 [00:03<00:00, 229.62it/s]\n",
      "Training Epoch 1700: 100%|██████████| 891/891 [00:03<00:00, 228.31it/s]\n",
      "Training Epoch 1701: 100%|██████████| 891/891 [00:03<00:00, 232.78it/s]\n"
     ]
    },
    {
     "name": "stdout",
     "output_type": "stream",
     "text": [
      "Epoch 1700 - Train Loss: 0.0587, Train MSE: 0.0588, Train MAE: 0.1840\n",
      "Epoch 1700 - Validation Loss: 0.8431, Validation MSE: 0.8429, Validation MAE: 0.6920\n"
     ]
    },
    {
     "name": "stderr",
     "output_type": "stream",
     "text": [
      "Training Epoch 1702: 100%|██████████| 891/891 [00:03<00:00, 229.60it/s]\n",
      "Training Epoch 1703: 100%|██████████| 891/891 [00:03<00:00, 223.67it/s]\n",
      "Training Epoch 1704: 100%|██████████| 891/891 [00:03<00:00, 225.53it/s]\n",
      "Training Epoch 1705: 100%|██████████| 891/891 [00:03<00:00, 227.17it/s]\n",
      "Training Epoch 1706: 100%|██████████| 891/891 [00:03<00:00, 227.27it/s]\n",
      "Training Epoch 1707: 100%|██████████| 891/891 [00:03<00:00, 226.45it/s]\n",
      "Training Epoch 1708: 100%|██████████| 891/891 [00:03<00:00, 228.22it/s]\n",
      "Training Epoch 1709: 100%|██████████| 891/891 [00:04<00:00, 222.31it/s]\n",
      "Training Epoch 1710: 100%|██████████| 891/891 [00:03<00:00, 232.99it/s]\n",
      "Training Epoch 1711: 100%|██████████| 891/891 [00:04<00:00, 221.82it/s]\n"
     ]
    },
    {
     "name": "stdout",
     "output_type": "stream",
     "text": [
      "Epoch 1710 - Train Loss: 0.0586, Train MSE: 0.0586, Train MAE: 0.1826\n",
      "Epoch 1710 - Validation Loss: 0.8462, Validation MSE: 0.8460, Validation MAE: 0.6934\n"
     ]
    },
    {
     "name": "stderr",
     "output_type": "stream",
     "text": [
      "Training Epoch 1712: 100%|██████████| 891/891 [00:03<00:00, 233.76it/s]\n",
      "Training Epoch 1713: 100%|██████████| 891/891 [00:03<00:00, 230.10it/s]\n",
      "Training Epoch 1714: 100%|██████████| 891/891 [00:03<00:00, 229.77it/s]\n",
      "Training Epoch 1715: 100%|██████████| 891/891 [00:03<00:00, 225.98it/s]\n",
      "Training Epoch 1716: 100%|██████████| 891/891 [00:04<00:00, 222.24it/s]\n",
      "Training Epoch 1717: 100%|██████████| 891/891 [00:03<00:00, 226.44it/s]\n",
      "Training Epoch 1718: 100%|██████████| 891/891 [00:03<00:00, 223.53it/s]\n",
      "Training Epoch 1719: 100%|██████████| 891/891 [00:03<00:00, 228.69it/s]\n",
      "Training Epoch 1720: 100%|██████████| 891/891 [00:03<00:00, 226.91it/s]\n",
      "Training Epoch 1721: 100%|██████████| 891/891 [00:03<00:00, 224.29it/s]\n"
     ]
    },
    {
     "name": "stdout",
     "output_type": "stream",
     "text": [
      "Epoch 1720 - Train Loss: 0.0588, Train MSE: 0.0589, Train MAE: 0.1841\n",
      "Epoch 1720 - Validation Loss: 0.8445, Validation MSE: 0.8436, Validation MAE: 0.6927\n"
     ]
    },
    {
     "name": "stderr",
     "output_type": "stream",
     "text": [
      "Training Epoch 1722: 100%|██████████| 891/891 [00:04<00:00, 218.88it/s]\n",
      "Training Epoch 1723: 100%|██████████| 891/891 [00:03<00:00, 228.17it/s]\n",
      "Training Epoch 1724: 100%|██████████| 891/891 [00:03<00:00, 223.19it/s]\n",
      "Training Epoch 1725: 100%|██████████| 891/891 [00:03<00:00, 229.08it/s]\n",
      "Training Epoch 1726: 100%|██████████| 891/891 [00:04<00:00, 218.11it/s]\n",
      "Training Epoch 1727: 100%|██████████| 891/891 [00:03<00:00, 229.44it/s]\n",
      "Training Epoch 1728: 100%|██████████| 891/891 [00:04<00:00, 221.12it/s]\n",
      "Training Epoch 1729: 100%|██████████| 891/891 [00:03<00:00, 228.81it/s]\n",
      "Training Epoch 1730: 100%|██████████| 891/891 [00:03<00:00, 223.00it/s]\n",
      "Training Epoch 1731: 100%|██████████| 891/891 [00:03<00:00, 228.39it/s]\n"
     ]
    },
    {
     "name": "stdout",
     "output_type": "stream",
     "text": [
      "Epoch 1730 - Train Loss: 0.0585, Train MSE: 0.0585, Train MAE: 0.1833\n",
      "Epoch 1730 - Validation Loss: 0.8453, Validation MSE: 0.8456, Validation MAE: 0.6950\n"
     ]
    },
    {
     "name": "stderr",
     "output_type": "stream",
     "text": [
      "Training Epoch 1732: 100%|██████████| 891/891 [00:03<00:00, 224.21it/s]\n",
      "Training Epoch 1733: 100%|██████████| 891/891 [00:03<00:00, 225.20it/s]\n",
      "Training Epoch 1734: 100%|██████████| 891/891 [00:03<00:00, 225.38it/s]\n",
      "Training Epoch 1735: 100%|██████████| 891/891 [00:03<00:00, 222.99it/s]\n",
      "Training Epoch 1736: 100%|██████████| 891/891 [00:03<00:00, 224.25it/s]\n",
      "Training Epoch 1737: 100%|██████████| 891/891 [00:04<00:00, 218.79it/s]\n",
      "Training Epoch 1738: 100%|██████████| 891/891 [00:04<00:00, 214.87it/s]\n",
      "Training Epoch 1739: 100%|██████████| 891/891 [00:04<00:00, 222.43it/s]\n",
      "Training Epoch 1740: 100%|██████████| 891/891 [00:04<00:00, 220.64it/s]\n",
      "Training Epoch 1741: 100%|██████████| 891/891 [00:03<00:00, 226.55it/s]\n"
     ]
    },
    {
     "name": "stdout",
     "output_type": "stream",
     "text": [
      "Epoch 1740 - Train Loss: 0.0584, Train MSE: 0.0584, Train MAE: 0.1825\n",
      "Epoch 1740 - Validation Loss: 0.8559, Validation MSE: 0.8554, Validation MAE: 0.6957\n"
     ]
    },
    {
     "name": "stderr",
     "output_type": "stream",
     "text": [
      "Training Epoch 1742: 100%|██████████| 891/891 [00:04<00:00, 220.76it/s]\n",
      "Training Epoch 1743: 100%|██████████| 891/891 [00:03<00:00, 226.69it/s]\n",
      "Training Epoch 1744: 100%|██████████| 891/891 [00:03<00:00, 223.41it/s]\n",
      "Training Epoch 1745: 100%|██████████| 891/891 [00:03<00:00, 234.04it/s]\n",
      "Training Epoch 1746: 100%|██████████| 891/891 [00:03<00:00, 229.42it/s]\n",
      "Training Epoch 1747: 100%|██████████| 891/891 [00:03<00:00, 224.83it/s]\n",
      "Training Epoch 1748: 100%|██████████| 891/891 [00:03<00:00, 228.88it/s]\n",
      "Training Epoch 1749: 100%|██████████| 891/891 [00:03<00:00, 231.74it/s]\n",
      "Training Epoch 1750: 100%|██████████| 891/891 [00:03<00:00, 227.75it/s]\n",
      "Training Epoch 1751: 100%|██████████| 891/891 [00:03<00:00, 231.81it/s]\n"
     ]
    },
    {
     "name": "stdout",
     "output_type": "stream",
     "text": [
      "Epoch 1750 - Train Loss: 0.0580, Train MSE: 0.0580, Train MAE: 0.1817\n",
      "Epoch 1750 - Validation Loss: 0.8524, Validation MSE: 0.8514, Validation MAE: 0.6970\n"
     ]
    },
    {
     "name": "stderr",
     "output_type": "stream",
     "text": [
      "Training Epoch 1752: 100%|██████████| 891/891 [00:03<00:00, 222.84it/s]\n",
      "Training Epoch 1753: 100%|██████████| 891/891 [00:03<00:00, 225.33it/s]\n",
      "Training Epoch 1754: 100%|██████████| 891/891 [00:03<00:00, 224.54it/s]\n",
      "Training Epoch 1755: 100%|██████████| 891/891 [00:04<00:00, 214.23it/s]\n",
      "Training Epoch 1756: 100%|██████████| 891/891 [00:03<00:00, 227.83it/s]\n",
      "Training Epoch 1757: 100%|██████████| 891/891 [00:03<00:00, 229.56it/s]\n",
      "Training Epoch 1758: 100%|██████████| 891/891 [00:04<00:00, 214.49it/s]\n",
      "Training Epoch 1759: 100%|██████████| 891/891 [00:04<00:00, 216.89it/s]\n",
      "Training Epoch 1760: 100%|██████████| 891/891 [00:04<00:00, 216.75it/s]\n",
      "Training Epoch 1761: 100%|██████████| 891/891 [00:04<00:00, 222.15it/s]\n"
     ]
    },
    {
     "name": "stdout",
     "output_type": "stream",
     "text": [
      "Epoch 1760 - Train Loss: 0.0590, Train MSE: 0.0591, Train MAE: 0.1837\n",
      "Epoch 1760 - Validation Loss: 0.8507, Validation MSE: 0.8506, Validation MAE: 0.6943\n"
     ]
    },
    {
     "name": "stderr",
     "output_type": "stream",
     "text": [
      "Training Epoch 1762: 100%|██████████| 891/891 [00:03<00:00, 225.16it/s]\n",
      "Training Epoch 1763: 100%|██████████| 891/891 [00:04<00:00, 220.21it/s]\n",
      "Training Epoch 1764: 100%|██████████| 891/891 [00:03<00:00, 224.92it/s]\n",
      "Training Epoch 1765: 100%|██████████| 891/891 [00:03<00:00, 226.59it/s]\n",
      "Training Epoch 1766: 100%|██████████| 891/891 [00:03<00:00, 227.90it/s]\n",
      "Training Epoch 1767: 100%|██████████| 891/891 [00:03<00:00, 229.03it/s]\n",
      "Training Epoch 1768: 100%|██████████| 891/891 [00:03<00:00, 231.96it/s]\n",
      "Training Epoch 1769: 100%|██████████| 891/891 [00:04<00:00, 218.50it/s]\n",
      "Training Epoch 1770: 100%|██████████| 891/891 [00:03<00:00, 238.71it/s]\n",
      "Training Epoch 1771: 100%|██████████| 891/891 [00:03<00:00, 223.83it/s]\n"
     ]
    },
    {
     "name": "stdout",
     "output_type": "stream",
     "text": [
      "Epoch 1770 - Train Loss: 0.0577, Train MSE: 0.0577, Train MAE: 0.1809\n",
      "Epoch 1770 - Validation Loss: 0.8536, Validation MSE: 0.8543, Validation MAE: 0.6963\n"
     ]
    },
    {
     "name": "stderr",
     "output_type": "stream",
     "text": [
      "Training Epoch 1772: 100%|██████████| 891/891 [00:03<00:00, 227.14it/s]\n",
      "Training Epoch 1773: 100%|██████████| 891/891 [00:03<00:00, 224.65it/s]\n",
      "Training Epoch 1774: 100%|██████████| 891/891 [00:03<00:00, 228.24it/s]\n",
      "Training Epoch 1775: 100%|██████████| 891/891 [00:04<00:00, 220.79it/s]\n",
      "Training Epoch 1776: 100%|██████████| 891/891 [00:03<00:00, 227.15it/s]\n",
      "Training Epoch 1777: 100%|██████████| 891/891 [00:03<00:00, 228.02it/s]\n",
      "Training Epoch 1778: 100%|██████████| 891/891 [00:03<00:00, 226.87it/s]\n",
      "Training Epoch 1779: 100%|██████████| 891/891 [00:03<00:00, 227.95it/s]\n",
      "Training Epoch 1780: 100%|██████████| 891/891 [00:03<00:00, 224.72it/s]\n",
      "Training Epoch 1781: 100%|██████████| 891/891 [00:03<00:00, 227.89it/s]\n"
     ]
    },
    {
     "name": "stdout",
     "output_type": "stream",
     "text": [
      "Epoch 1780 - Train Loss: 0.0577, Train MSE: 0.0578, Train MAE: 0.1821\n",
      "Epoch 1780 - Validation Loss: 0.8461, Validation MSE: 0.8459, Validation MAE: 0.6915\n"
     ]
    },
    {
     "name": "stderr",
     "output_type": "stream",
     "text": [
      "Training Epoch 1782: 100%|██████████| 891/891 [00:03<00:00, 223.37it/s]\n",
      "Training Epoch 1783: 100%|██████████| 891/891 [00:03<00:00, 224.02it/s]\n",
      "Training Epoch 1784: 100%|██████████| 891/891 [00:03<00:00, 227.28it/s]\n",
      "Training Epoch 1785: 100%|██████████| 891/891 [00:03<00:00, 228.80it/s]\n",
      "Training Epoch 1786: 100%|██████████| 891/891 [00:03<00:00, 226.04it/s]\n",
      "Training Epoch 1787: 100%|██████████| 891/891 [00:03<00:00, 234.70it/s]\n",
      "Training Epoch 1788: 100%|██████████| 891/891 [00:03<00:00, 223.78it/s]\n",
      "Training Epoch 1789: 100%|██████████| 891/891 [00:03<00:00, 229.17it/s]\n",
      "Training Epoch 1790: 100%|██████████| 891/891 [00:03<00:00, 223.61it/s]\n",
      "Training Epoch 1791: 100%|██████████| 891/891 [00:03<00:00, 227.42it/s]\n"
     ]
    },
    {
     "name": "stdout",
     "output_type": "stream",
     "text": [
      "Epoch 1790 - Train Loss: 0.0577, Train MSE: 0.0577, Train MAE: 0.1807\n",
      "Epoch 1790 - Validation Loss: 0.8446, Validation MSE: 0.8440, Validation MAE: 0.6910\n"
     ]
    },
    {
     "name": "stderr",
     "output_type": "stream",
     "text": [
      "Training Epoch 1792: 100%|██████████| 891/891 [00:03<00:00, 222.95it/s]\n",
      "Training Epoch 1793: 100%|██████████| 891/891 [00:03<00:00, 227.86it/s]\n",
      "Training Epoch 1794: 100%|██████████| 891/891 [00:03<00:00, 226.29it/s]\n",
      "Training Epoch 1795: 100%|██████████| 891/891 [00:03<00:00, 229.01it/s]\n",
      "Training Epoch 1796: 100%|██████████| 891/891 [00:03<00:00, 225.91it/s]\n",
      "Training Epoch 1797: 100%|██████████| 891/891 [00:03<00:00, 225.39it/s]\n",
      "Training Epoch 1798: 100%|██████████| 891/891 [00:03<00:00, 223.90it/s]\n",
      "Training Epoch 1799: 100%|██████████| 891/891 [00:03<00:00, 227.10it/s]\n",
      "Training Epoch 1800: 100%|██████████| 891/891 [00:03<00:00, 227.48it/s]\n",
      "Training Epoch 1801: 100%|██████████| 891/891 [00:03<00:00, 229.32it/s]\n"
     ]
    },
    {
     "name": "stdout",
     "output_type": "stream",
     "text": [
      "Epoch 1800 - Train Loss: 0.0582, Train MSE: 0.0582, Train MAE: 0.1823\n",
      "Epoch 1800 - Validation Loss: 0.8540, Validation MSE: 0.8531, Validation MAE: 0.6953\n"
     ]
    },
    {
     "name": "stderr",
     "output_type": "stream",
     "text": [
      "Training Epoch 1802: 100%|██████████| 891/891 [00:03<00:00, 231.10it/s]\n",
      "Training Epoch 1803: 100%|██████████| 891/891 [00:03<00:00, 226.48it/s]\n",
      "Training Epoch 1804: 100%|██████████| 891/891 [00:03<00:00, 240.80it/s]\n",
      "Training Epoch 1805: 100%|██████████| 891/891 [00:03<00:00, 226.70it/s]\n",
      "Training Epoch 1806: 100%|██████████| 891/891 [00:03<00:00, 230.78it/s]\n",
      "Training Epoch 1807: 100%|██████████| 891/891 [00:03<00:00, 224.66it/s]\n",
      "Training Epoch 1808: 100%|██████████| 891/891 [00:03<00:00, 224.05it/s]\n",
      "Training Epoch 1809: 100%|██████████| 891/891 [00:03<00:00, 224.56it/s]\n",
      "Training Epoch 1810: 100%|██████████| 891/891 [00:03<00:00, 225.64it/s]\n",
      "Training Epoch 1811: 100%|██████████| 891/891 [00:03<00:00, 228.17it/s]\n"
     ]
    },
    {
     "name": "stdout",
     "output_type": "stream",
     "text": [
      "Epoch 1810 - Train Loss: 0.0572, Train MSE: 0.0573, Train MAE: 0.1816\n",
      "Epoch 1810 - Validation Loss: 0.8435, Validation MSE: 0.8430, Validation MAE: 0.6895\n"
     ]
    },
    {
     "name": "stderr",
     "output_type": "stream",
     "text": [
      "Training Epoch 1812: 100%|██████████| 891/891 [00:04<00:00, 219.90it/s]\n",
      "Training Epoch 1813: 100%|██████████| 891/891 [00:03<00:00, 224.67it/s]\n",
      "Training Epoch 1814: 100%|██████████| 891/891 [00:03<00:00, 232.34it/s]\n",
      "Training Epoch 1815: 100%|██████████| 891/891 [00:04<00:00, 220.85it/s]\n",
      "Training Epoch 1816: 100%|██████████| 891/891 [00:03<00:00, 223.37it/s]\n",
      "Training Epoch 1817: 100%|██████████| 891/891 [00:04<00:00, 221.87it/s]\n",
      "Training Epoch 1818: 100%|██████████| 891/891 [00:03<00:00, 228.91it/s]\n",
      "Training Epoch 1819: 100%|██████████| 891/891 [00:03<00:00, 228.78it/s]\n",
      "Training Epoch 1820: 100%|██████████| 891/891 [00:03<00:00, 229.45it/s]\n",
      "Training Epoch 1821: 100%|██████████| 891/891 [00:03<00:00, 227.28it/s]\n"
     ]
    },
    {
     "name": "stdout",
     "output_type": "stream",
     "text": [
      "Epoch 1820 - Train Loss: 0.0573, Train MSE: 0.0573, Train MAE: 0.1811\n",
      "Epoch 1820 - Validation Loss: 0.8490, Validation MSE: 0.8489, Validation MAE: 0.6936\n"
     ]
    },
    {
     "name": "stderr",
     "output_type": "stream",
     "text": [
      "Training Epoch 1822: 100%|██████████| 891/891 [00:03<00:00, 230.99it/s]\n",
      "Training Epoch 1823: 100%|██████████| 891/891 [00:03<00:00, 229.18it/s]\n",
      "Training Epoch 1824: 100%|██████████| 891/891 [00:03<00:00, 227.77it/s]\n",
      "Training Epoch 1825: 100%|██████████| 891/891 [00:03<00:00, 225.78it/s]\n",
      "Training Epoch 1826: 100%|██████████| 891/891 [00:04<00:00, 218.05it/s]\n",
      "Training Epoch 1827: 100%|██████████| 891/891 [00:03<00:00, 226.31it/s]\n",
      "Training Epoch 1828: 100%|██████████| 891/891 [00:03<00:00, 231.85it/s]\n",
      "Training Epoch 1829: 100%|██████████| 891/891 [00:03<00:00, 227.10it/s]\n",
      "Training Epoch 1830: 100%|██████████| 891/891 [00:04<00:00, 221.99it/s]\n",
      "Training Epoch 1831: 100%|██████████| 891/891 [00:03<00:00, 226.99it/s]\n"
     ]
    },
    {
     "name": "stdout",
     "output_type": "stream",
     "text": [
      "Epoch 1830 - Train Loss: 0.0568, Train MSE: 0.0568, Train MAE: 0.1805\n",
      "Epoch 1830 - Validation Loss: 0.8568, Validation MSE: 0.8565, Validation MAE: 0.6958\n"
     ]
    },
    {
     "name": "stderr",
     "output_type": "stream",
     "text": [
      "Training Epoch 1832: 100%|██████████| 891/891 [00:04<00:00, 216.14it/s]\n",
      "Training Epoch 1833: 100%|██████████| 891/891 [00:03<00:00, 225.29it/s]\n",
      "Training Epoch 1834: 100%|██████████| 891/891 [00:03<00:00, 228.06it/s]\n",
      "Training Epoch 1835: 100%|██████████| 891/891 [00:04<00:00, 221.27it/s]\n",
      "Training Epoch 1836: 100%|██████████| 891/891 [00:04<00:00, 221.74it/s]\n",
      "Training Epoch 1837: 100%|██████████| 891/891 [00:04<00:00, 220.92it/s]\n",
      "Training Epoch 1838: 100%|██████████| 891/891 [00:04<00:00, 222.67it/s]\n",
      "Training Epoch 1839: 100%|██████████| 891/891 [00:04<00:00, 222.60it/s]\n",
      "Training Epoch 1840: 100%|██████████| 891/891 [00:03<00:00, 226.08it/s]\n",
      "Training Epoch 1841: 100%|██████████| 891/891 [00:04<00:00, 216.50it/s]\n"
     ]
    },
    {
     "name": "stdout",
     "output_type": "stream",
     "text": [
      "Epoch 1840 - Train Loss: 0.0563, Train MSE: 0.0563, Train MAE: 0.1801\n",
      "Epoch 1840 - Validation Loss: 0.8533, Validation MSE: 0.8531, Validation MAE: 0.6978\n"
     ]
    },
    {
     "name": "stderr",
     "output_type": "stream",
     "text": [
      "Training Epoch 1842: 100%|██████████| 891/891 [00:03<00:00, 223.04it/s]\n",
      "Training Epoch 1843: 100%|██████████| 891/891 [00:03<00:00, 226.35it/s]\n",
      "Training Epoch 1844: 100%|██████████| 891/891 [00:03<00:00, 228.88it/s]\n",
      "Training Epoch 1845: 100%|██████████| 891/891 [00:03<00:00, 230.81it/s]\n",
      "Training Epoch 1846: 100%|██████████| 891/891 [00:04<00:00, 222.63it/s]\n",
      "Training Epoch 1847: 100%|██████████| 891/891 [00:04<00:00, 217.32it/s]\n",
      "Training Epoch 1848: 100%|██████████| 891/891 [00:04<00:00, 216.12it/s]\n",
      "Training Epoch 1849: 100%|██████████| 891/891 [00:04<00:00, 220.49it/s]\n",
      "Training Epoch 1850: 100%|██████████| 891/891 [00:03<00:00, 229.76it/s]\n",
      "Training Epoch 1851: 100%|██████████| 891/891 [00:04<00:00, 221.16it/s]\n"
     ]
    },
    {
     "name": "stdout",
     "output_type": "stream",
     "text": [
      "Epoch 1850 - Train Loss: 0.0569, Train MSE: 0.0569, Train MAE: 0.1796\n",
      "Epoch 1850 - Validation Loss: 0.8557, Validation MSE: 0.8549, Validation MAE: 0.6967\n"
     ]
    },
    {
     "name": "stderr",
     "output_type": "stream",
     "text": [
      "Training Epoch 1852: 100%|██████████| 891/891 [00:03<00:00, 224.02it/s]\n",
      "Training Epoch 1853: 100%|██████████| 891/891 [00:03<00:00, 230.40it/s]\n",
      "Training Epoch 1854: 100%|██████████| 891/891 [00:03<00:00, 226.03it/s]\n",
      "Training Epoch 1855: 100%|██████████| 891/891 [00:04<00:00, 217.06it/s]\n",
      "Training Epoch 1856: 100%|██████████| 891/891 [00:04<00:00, 221.27it/s]\n",
      "Training Epoch 1857: 100%|██████████| 891/891 [00:03<00:00, 234.17it/s]\n",
      "Training Epoch 1858: 100%|██████████| 891/891 [00:03<00:00, 226.00it/s]\n",
      "Training Epoch 1859: 100%|██████████| 891/891 [00:03<00:00, 229.68it/s]\n",
      "Training Epoch 1860: 100%|██████████| 891/891 [00:03<00:00, 226.87it/s]\n",
      "Training Epoch 1861: 100%|██████████| 891/891 [00:03<00:00, 229.30it/s]\n"
     ]
    },
    {
     "name": "stdout",
     "output_type": "stream",
     "text": [
      "Epoch 1860 - Train Loss: 0.0571, Train MSE: 0.0571, Train MAE: 0.1803\n",
      "Epoch 1860 - Validation Loss: 0.8481, Validation MSE: 0.8475, Validation MAE: 0.6932\n"
     ]
    },
    {
     "name": "stderr",
     "output_type": "stream",
     "text": [
      "Training Epoch 1862: 100%|██████████| 891/891 [00:03<00:00, 228.56it/s]\n",
      "Training Epoch 1863: 100%|██████████| 891/891 [00:03<00:00, 239.13it/s]\n",
      "Training Epoch 1864: 100%|██████████| 891/891 [00:03<00:00, 231.30it/s]\n",
      "Training Epoch 1865: 100%|██████████| 891/891 [00:03<00:00, 230.21it/s]\n",
      "Training Epoch 1866: 100%|██████████| 891/891 [00:03<00:00, 237.66it/s]\n",
      "Training Epoch 1867: 100%|██████████| 891/891 [00:03<00:00, 230.43it/s]\n",
      "Training Epoch 1868: 100%|██████████| 891/891 [00:03<00:00, 230.09it/s]\n",
      "Training Epoch 1869: 100%|██████████| 891/891 [00:03<00:00, 228.77it/s]\n",
      "Training Epoch 1870: 100%|██████████| 891/891 [00:03<00:00, 226.75it/s]\n",
      "Training Epoch 1871: 100%|██████████| 891/891 [00:03<00:00, 227.51it/s]\n"
     ]
    },
    {
     "name": "stdout",
     "output_type": "stream",
     "text": [
      "Epoch 1870 - Train Loss: 0.0555, Train MSE: 0.0555, Train MAE: 0.1787\n",
      "Epoch 1870 - Validation Loss: 0.8538, Validation MSE: 0.8537, Validation MAE: 0.6958\n"
     ]
    },
    {
     "name": "stderr",
     "output_type": "stream",
     "text": [
      "Training Epoch 1872: 100%|██████████| 891/891 [00:04<00:00, 206.39it/s]\n",
      "Training Epoch 1873: 100%|██████████| 891/891 [00:04<00:00, 209.02it/s]\n",
      "Training Epoch 1874: 100%|██████████| 891/891 [00:03<00:00, 229.00it/s]\n",
      "Training Epoch 1875: 100%|██████████| 891/891 [00:03<00:00, 223.31it/s]\n",
      "Training Epoch 1876: 100%|██████████| 891/891 [00:03<00:00, 224.99it/s]\n",
      "Training Epoch 1877: 100%|██████████| 891/891 [00:04<00:00, 219.03it/s]\n",
      "Training Epoch 1878: 100%|██████████| 891/891 [00:03<00:00, 224.18it/s]\n",
      "Training Epoch 1879: 100%|██████████| 891/891 [00:04<00:00, 222.73it/s]\n",
      "Training Epoch 1880: 100%|██████████| 891/891 [00:04<00:00, 221.93it/s]\n",
      "Training Epoch 1881: 100%|██████████| 891/891 [00:03<00:00, 224.89it/s]\n"
     ]
    },
    {
     "name": "stdout",
     "output_type": "stream",
     "text": [
      "Epoch 1880 - Train Loss: 0.0554, Train MSE: 0.0553, Train MAE: 0.1785\n",
      "Epoch 1880 - Validation Loss: 0.8417, Validation MSE: 0.8413, Validation MAE: 0.6890\n"
     ]
    },
    {
     "name": "stderr",
     "output_type": "stream",
     "text": [
      "Training Epoch 1882: 100%|██████████| 891/891 [00:04<00:00, 215.91it/s]\n",
      "Training Epoch 1883: 100%|██████████| 891/891 [00:04<00:00, 221.14it/s]\n",
      "Training Epoch 1884: 100%|██████████| 891/891 [00:04<00:00, 217.39it/s]\n",
      "Training Epoch 1885: 100%|██████████| 891/891 [00:04<00:00, 222.29it/s]\n",
      "Training Epoch 1886: 100%|██████████| 891/891 [00:04<00:00, 222.75it/s]\n",
      "Training Epoch 1887: 100%|██████████| 891/891 [00:03<00:00, 225.80it/s]\n",
      "Training Epoch 1888: 100%|██████████| 891/891 [00:04<00:00, 211.52it/s]\n",
      "Training Epoch 1889: 100%|██████████| 891/891 [00:04<00:00, 220.09it/s]\n",
      "Training Epoch 1890: 100%|██████████| 891/891 [00:03<00:00, 229.06it/s]\n",
      "Training Epoch 1891: 100%|██████████| 891/891 [00:03<00:00, 228.49it/s]\n"
     ]
    },
    {
     "name": "stdout",
     "output_type": "stream",
     "text": [
      "Epoch 1890 - Train Loss: 0.0576, Train MSE: 0.0576, Train MAE: 0.1805\n",
      "Epoch 1890 - Validation Loss: 0.8577, Validation MSE: 0.8574, Validation MAE: 0.6971\n"
     ]
    },
    {
     "name": "stderr",
     "output_type": "stream",
     "text": [
      "Training Epoch 1892: 100%|██████████| 891/891 [00:03<00:00, 227.97it/s]\n",
      "Training Epoch 1893: 100%|██████████| 891/891 [00:03<00:00, 227.14it/s]\n",
      "Training Epoch 1894: 100%|██████████| 891/891 [00:03<00:00, 225.09it/s]\n",
      "Training Epoch 1895: 100%|██████████| 891/891 [00:03<00:00, 231.71it/s]\n",
      "Training Epoch 1896: 100%|██████████| 891/891 [00:03<00:00, 227.57it/s]\n",
      "Training Epoch 1897: 100%|██████████| 891/891 [00:03<00:00, 231.38it/s]\n",
      "Training Epoch 1898: 100%|██████████| 891/891 [00:04<00:00, 222.14it/s]\n",
      "Training Epoch 1899: 100%|██████████| 891/891 [00:03<00:00, 229.18it/s]\n",
      "Training Epoch 1900: 100%|██████████| 891/891 [00:03<00:00, 231.94it/s]\n",
      "Training Epoch 1901: 100%|██████████| 891/891 [00:03<00:00, 226.92it/s]\n"
     ]
    },
    {
     "name": "stdout",
     "output_type": "stream",
     "text": [
      "Epoch 1900 - Train Loss: 0.0556, Train MSE: 0.0556, Train MAE: 0.1778\n",
      "Epoch 1900 - Validation Loss: 0.8495, Validation MSE: 0.8497, Validation MAE: 0.6939\n"
     ]
    },
    {
     "name": "stderr",
     "output_type": "stream",
     "text": [
      "Training Epoch 1902: 100%|██████████| 891/891 [00:03<00:00, 229.93it/s]\n",
      "Training Epoch 1903: 100%|██████████| 891/891 [00:03<00:00, 229.72it/s]\n",
      "Training Epoch 1904: 100%|██████████| 891/891 [00:03<00:00, 229.36it/s]\n",
      "Training Epoch 1905: 100%|██████████| 891/891 [00:03<00:00, 231.69it/s]\n",
      "Training Epoch 1906: 100%|██████████| 891/891 [00:03<00:00, 228.98it/s]\n",
      "Training Epoch 1907: 100%|██████████| 891/891 [00:03<00:00, 227.49it/s]\n",
      "Training Epoch 1908: 100%|██████████| 891/891 [00:03<00:00, 235.02it/s]\n",
      "Training Epoch 1909: 100%|██████████| 891/891 [00:03<00:00, 233.26it/s]\n",
      "Training Epoch 1910: 100%|██████████| 891/891 [00:03<00:00, 234.60it/s]\n",
      "Training Epoch 1911: 100%|██████████| 891/891 [00:03<00:00, 237.68it/s]\n"
     ]
    },
    {
     "name": "stdout",
     "output_type": "stream",
     "text": [
      "Epoch 1910 - Train Loss: 0.0555, Train MSE: 0.0549, Train MAE: 0.1776\n",
      "Epoch 1910 - Validation Loss: 0.8398, Validation MSE: 0.8396, Validation MAE: 0.6893\n"
     ]
    },
    {
     "name": "stderr",
     "output_type": "stream",
     "text": [
      "Training Epoch 1912: 100%|██████████| 891/891 [00:03<00:00, 234.64it/s]\n",
      "Training Epoch 1913: 100%|██████████| 891/891 [00:03<00:00, 232.01it/s]\n",
      "Training Epoch 1914: 100%|██████████| 891/891 [00:03<00:00, 235.60it/s]\n",
      "Training Epoch 1915: 100%|██████████| 891/891 [00:03<00:00, 238.77it/s]\n",
      "Training Epoch 1916: 100%|██████████| 891/891 [00:03<00:00, 229.97it/s]\n",
      "Training Epoch 1917: 100%|██████████| 891/891 [00:03<00:00, 234.34it/s]\n",
      "Training Epoch 1918: 100%|██████████| 891/891 [00:03<00:00, 231.24it/s]\n",
      "Training Epoch 1919: 100%|██████████| 891/891 [00:03<00:00, 233.18it/s]\n",
      "Training Epoch 1920: 100%|██████████| 891/891 [00:03<00:00, 232.88it/s]\n",
      "Training Epoch 1921: 100%|██████████| 891/891 [00:04<00:00, 219.17it/s]\n"
     ]
    },
    {
     "name": "stdout",
     "output_type": "stream",
     "text": [
      "Epoch 1920 - Train Loss: 0.0558, Train MSE: 0.0559, Train MAE: 0.1790\n",
      "Epoch 1920 - Validation Loss: 0.8494, Validation MSE: 0.8492, Validation MAE: 0.6927\n"
     ]
    },
    {
     "name": "stderr",
     "output_type": "stream",
     "text": [
      "Training Epoch 1922: 100%|██████████| 891/891 [00:04<00:00, 217.32it/s]\n",
      "Training Epoch 1923: 100%|██████████| 891/891 [00:04<00:00, 216.04it/s]\n",
      "Training Epoch 1924: 100%|██████████| 891/891 [00:04<00:00, 207.91it/s]\n",
      "Training Epoch 1925: 100%|██████████| 891/891 [00:03<00:00, 225.43it/s]\n",
      "Training Epoch 1926: 100%|██████████| 891/891 [00:03<00:00, 223.54it/s]\n",
      "Training Epoch 1927: 100%|██████████| 891/891 [00:04<00:00, 216.25it/s]\n",
      "Training Epoch 1928: 100%|██████████| 891/891 [00:04<00:00, 217.95it/s]\n",
      "Training Epoch 1929: 100%|██████████| 891/891 [00:04<00:00, 220.55it/s]\n",
      "Training Epoch 1930: 100%|██████████| 891/891 [00:03<00:00, 230.51it/s]\n",
      "Training Epoch 1931: 100%|██████████| 891/891 [00:04<00:00, 216.06it/s]\n"
     ]
    },
    {
     "name": "stdout",
     "output_type": "stream",
     "text": [
      "Epoch 1930 - Train Loss: 0.0552, Train MSE: 0.0552, Train MAE: 0.1773\n",
      "Epoch 1930 - Validation Loss: 0.8471, Validation MSE: 0.8465, Validation MAE: 0.6917\n"
     ]
    },
    {
     "name": "stderr",
     "output_type": "stream",
     "text": [
      "Training Epoch 1932: 100%|██████████| 891/891 [00:04<00:00, 218.71it/s]\n",
      "Training Epoch 1933: 100%|██████████| 891/891 [00:03<00:00, 230.38it/s]\n",
      "Training Epoch 1934: 100%|██████████| 891/891 [00:03<00:00, 233.95it/s]\n",
      "Training Epoch 1935: 100%|██████████| 891/891 [00:04<00:00, 215.06it/s]\n",
      "Training Epoch 1936: 100%|██████████| 891/891 [00:03<00:00, 226.43it/s]\n",
      "Training Epoch 1937: 100%|██████████| 891/891 [00:04<00:00, 221.95it/s]\n",
      "Training Epoch 1938: 100%|██████████| 891/891 [00:03<00:00, 234.44it/s]\n",
      "Training Epoch 1939: 100%|██████████| 891/891 [00:03<00:00, 226.15it/s]\n",
      "Training Epoch 1940: 100%|██████████| 891/891 [00:03<00:00, 228.09it/s]\n",
      "Training Epoch 1941: 100%|██████████| 891/891 [00:04<00:00, 218.38it/s]\n"
     ]
    },
    {
     "name": "stdout",
     "output_type": "stream",
     "text": [
      "Epoch 1940 - Train Loss: 0.0563, Train MSE: 0.0563, Train MAE: 0.1794\n",
      "Epoch 1940 - Validation Loss: 0.8532, Validation MSE: 0.8525, Validation MAE: 0.6965\n"
     ]
    },
    {
     "name": "stderr",
     "output_type": "stream",
     "text": [
      "Training Epoch 1942: 100%|██████████| 891/891 [00:03<00:00, 231.98it/s]\n",
      "Training Epoch 1943: 100%|██████████| 891/891 [00:03<00:00, 227.85it/s]\n",
      "Training Epoch 1944: 100%|██████████| 891/891 [00:03<00:00, 229.11it/s]\n",
      "Training Epoch 1945: 100%|██████████| 891/891 [00:03<00:00, 226.53it/s]\n",
      "Training Epoch 1946: 100%|██████████| 891/891 [00:03<00:00, 229.68it/s]\n",
      "Training Epoch 1947: 100%|██████████| 891/891 [00:03<00:00, 228.99it/s]\n",
      "Training Epoch 1948: 100%|██████████| 891/891 [00:03<00:00, 228.79it/s]\n",
      "Training Epoch 1949: 100%|██████████| 891/891 [00:03<00:00, 236.05it/s]\n",
      "Training Epoch 1950: 100%|██████████| 891/891 [00:03<00:00, 231.37it/s]\n",
      "Training Epoch 1951: 100%|██████████| 891/891 [00:03<00:00, 234.45it/s]\n"
     ]
    },
    {
     "name": "stdout",
     "output_type": "stream",
     "text": [
      "Epoch 1950 - Train Loss: 0.0545, Train MSE: 0.0545, Train MAE: 0.1770\n",
      "Epoch 1950 - Validation Loss: 0.8498, Validation MSE: 0.8502, Validation MAE: 0.6949\n"
     ]
    },
    {
     "name": "stderr",
     "output_type": "stream",
     "text": [
      "Training Epoch 1952: 100%|██████████| 891/891 [00:03<00:00, 228.75it/s]\n",
      "Training Epoch 1953: 100%|██████████| 891/891 [00:03<00:00, 230.99it/s]\n",
      "Training Epoch 1954: 100%|██████████| 891/891 [00:03<00:00, 226.43it/s]\n",
      "Training Epoch 1955: 100%|██████████| 891/891 [00:03<00:00, 232.38it/s]\n",
      "Training Epoch 1956: 100%|██████████| 891/891 [00:03<00:00, 228.42it/s]\n",
      "Training Epoch 1957: 100%|██████████| 891/891 [00:03<00:00, 228.41it/s]\n",
      "Training Epoch 1958: 100%|██████████| 891/891 [00:03<00:00, 226.20it/s]\n",
      "Training Epoch 1959: 100%|██████████| 891/891 [00:03<00:00, 229.31it/s]\n",
      "Training Epoch 1960: 100%|██████████| 891/891 [00:03<00:00, 226.88it/s]\n",
      "Training Epoch 1961: 100%|██████████| 891/891 [00:03<00:00, 228.91it/s]\n"
     ]
    },
    {
     "name": "stdout",
     "output_type": "stream",
     "text": [
      "Epoch 1960 - Train Loss: 0.0551, Train MSE: 0.0551, Train MAE: 0.1777\n",
      "Epoch 1960 - Validation Loss: 0.8478, Validation MSE: 0.8480, Validation MAE: 0.6924\n"
     ]
    },
    {
     "name": "stderr",
     "output_type": "stream",
     "text": [
      "Training Epoch 1962: 100%|██████████| 891/891 [00:03<00:00, 225.53it/s]\n",
      "Training Epoch 1963: 100%|██████████| 891/891 [00:03<00:00, 228.52it/s]\n",
      "Training Epoch 1964: 100%|██████████| 891/891 [00:03<00:00, 225.60it/s]\n",
      "Training Epoch 1965: 100%|██████████| 891/891 [00:03<00:00, 224.05it/s]\n",
      "Training Epoch 1966: 100%|██████████| 891/891 [00:03<00:00, 225.24it/s]\n",
      "Training Epoch 1967: 100%|██████████| 891/891 [00:03<00:00, 224.60it/s]\n",
      "Training Epoch 1968: 100%|██████████| 891/891 [00:03<00:00, 229.00it/s]\n",
      "Training Epoch 1969: 100%|██████████| 891/891 [00:03<00:00, 231.02it/s]\n",
      "Training Epoch 1970: 100%|██████████| 891/891 [00:03<00:00, 223.80it/s]\n",
      "Training Epoch 1971: 100%|██████████| 891/891 [00:03<00:00, 236.09it/s]\n"
     ]
    },
    {
     "name": "stdout",
     "output_type": "stream",
     "text": [
      "Epoch 1970 - Train Loss: 0.0544, Train MSE: 0.0544, Train MAE: 0.1769\n",
      "Epoch 1970 - Validation Loss: 0.8433, Validation MSE: 0.8434, Validation MAE: 0.6916\n"
     ]
    },
    {
     "name": "stderr",
     "output_type": "stream",
     "text": [
      "Training Epoch 1972: 100%|██████████| 891/891 [00:03<00:00, 230.39it/s]\n",
      "Training Epoch 1973: 100%|██████████| 891/891 [00:04<00:00, 214.57it/s]\n",
      "Training Epoch 1974: 100%|██████████| 891/891 [00:04<00:00, 221.13it/s]\n",
      "Training Epoch 1975: 100%|██████████| 891/891 [00:04<00:00, 218.67it/s]\n",
      "Training Epoch 1976: 100%|██████████| 891/891 [00:04<00:00, 215.84it/s]\n",
      "Training Epoch 1977: 100%|██████████| 891/891 [00:03<00:00, 226.82it/s]\n",
      "Training Epoch 1978: 100%|██████████| 891/891 [00:03<00:00, 222.89it/s]\n",
      "Training Epoch 1979: 100%|██████████| 891/891 [00:03<00:00, 228.07it/s]\n",
      "Training Epoch 1980: 100%|██████████| 891/891 [00:03<00:00, 226.94it/s]\n",
      "Training Epoch 1981: 100%|██████████| 891/891 [00:03<00:00, 226.54it/s]\n"
     ]
    },
    {
     "name": "stdout",
     "output_type": "stream",
     "text": [
      "Epoch 1980 - Train Loss: 0.0548, Train MSE: 0.0547, Train MAE: 0.1774\n",
      "Epoch 1980 - Validation Loss: 0.8612, Validation MSE: 0.8613, Validation MAE: 0.6990\n"
     ]
    },
    {
     "name": "stderr",
     "output_type": "stream",
     "text": [
      "Training Epoch 1982: 100%|██████████| 891/891 [00:03<00:00, 223.68it/s]\n",
      "Training Epoch 1983: 100%|██████████| 891/891 [00:03<00:00, 228.01it/s]\n",
      "Training Epoch 1984: 100%|██████████| 891/891 [00:03<00:00, 225.42it/s]\n",
      "Training Epoch 1985: 100%|██████████| 891/891 [00:03<00:00, 224.62it/s]\n",
      "Training Epoch 1986: 100%|██████████| 891/891 [00:03<00:00, 227.85it/s]\n",
      "Training Epoch 1987: 100%|██████████| 891/891 [00:03<00:00, 225.80it/s]\n",
      "Training Epoch 1988: 100%|██████████| 891/891 [00:03<00:00, 225.06it/s]\n",
      "Training Epoch 1989: 100%|██████████| 891/891 [00:03<00:00, 229.24it/s]\n",
      "Training Epoch 1990: 100%|██████████| 891/891 [00:03<00:00, 230.94it/s]\n",
      "Training Epoch 1991: 100%|██████████| 891/891 [00:03<00:00, 225.76it/s]\n"
     ]
    },
    {
     "name": "stdout",
     "output_type": "stream",
     "text": [
      "Epoch 1990 - Train Loss: 0.0552, Train MSE: 0.0552, Train MAE: 0.1773\n",
      "Epoch 1990 - Validation Loss: 0.8527, Validation MSE: 0.8524, Validation MAE: 0.6944\n"
     ]
    },
    {
     "name": "stderr",
     "output_type": "stream",
     "text": [
      "Training Epoch 1992: 100%|██████████| 891/891 [00:03<00:00, 226.85it/s]\n",
      "Training Epoch 1993: 100%|██████████| 891/891 [00:03<00:00, 225.85it/s]\n",
      "Training Epoch 1994: 100%|██████████| 891/891 [00:03<00:00, 224.77it/s]\n",
      "Training Epoch 1995: 100%|██████████| 891/891 [00:03<00:00, 228.44it/s]\n",
      "Training Epoch 1996: 100%|██████████| 891/891 [00:03<00:00, 223.04it/s]\n",
      "Training Epoch 1997: 100%|██████████| 891/891 [00:03<00:00, 229.92it/s]\n",
      "Training Epoch 1998: 100%|██████████| 891/891 [00:03<00:00, 226.32it/s]\n",
      "Training Epoch 1999: 100%|██████████| 891/891 [00:04<00:00, 219.83it/s]\n",
      "Training Epoch 2000: 100%|██████████| 891/891 [00:03<00:00, 225.24it/s]\n"
     ]
    },
    {
     "name": "stdout",
     "output_type": "stream",
     "text": [
      "Test MSE: 0.8366, Test MAE: 0.6994\n"
     ]
    }
   ],
   "source": [
    "train_history_2 = pd.DataFrame(columns=[ 'epoch',\n",
    "    'Train Loss', 'Train MSE', 'Train MAE', 'Train RMSE', 'Train R2', 'Train Pearson', 'Train Median_AE', 'Train Explained_VAR'\n",
    "    'Val Loss', 'Val MSE', 'Val MAE', 'Val RMSE', 'Val R2', 'Val Pearson', 'Val Median_AE', 'Val Explained_VAR'])\n",
    "# Verify feature dimensions\n",
    "for batch in train_loader_mols:\n",
    "    mol_input_dim = batch['metabolite_features'].shape[1]  # Dynamically determine mol input dimension\n",
    "    protein_input_dim = batch['protein_features'].shape[1]  # Dynamically determine protein input dimension\n",
    "    break\n",
    "\n",
    "# Initialize model, optimizer, and loss function\n",
    "model_2 = MLPRegressor(mol_input_dim=mol_input_dim, protein_input_dim=protein_input_dim)\n",
    "model_2 = model_2.to(device)\n",
    "optimizer_2 = optim.Adam(model_2.parameters(), lr=0.0001)\n",
    "criterion = nn.MSELoss()\n",
    "\n",
    "# Training and Validation Loop\n",
    "for epoch in range(2000):\n",
    "    model_2.train()\n",
    "    total_loss = 0.0\n",
    "    val_total_loss = 0.0\n",
    "    train_predictions, train_labels = [], []\n",
    "\n",
    "    for batch in tqdm(train_loader_mols, desc=f\"Training Epoch {epoch + 1}\"):\n",
    "        mol_features = batch['metabolite_features'].to(device)\n",
    "        protein_features = batch['protein_features'].to(device)\n",
    "        labels = batch['label'].to(device)\n",
    "\n",
    "        optimizer_2.zero_grad()\n",
    "        outputs = model_2(mol_features, protein_features)\n",
    "        loss = criterion(outputs, labels)\n",
    "        loss.backward()\n",
    "        optimizer_2.step()\n",
    "        total_loss += loss.item()\n",
    "\n",
    "        # Store predictions and labels for metrics\n",
    "        train_predictions.extend(outputs.detach().cpu().numpy())\n",
    "        train_labels.extend(labels.cpu().numpy())\n",
    "\n",
    "    # Calculate training metrics\n",
    "    train_mse = ((torch.tensor(train_predictions) - torch.tensor(train_labels))**2).mean().item()\n",
    "    train_mae = torch.abs(torch.tensor(train_predictions) - torch.tensor(train_labels)).mean().item()\n",
    "    train_rmse = torch.sqrt((torch.tensor(train_predictions) - torch.tensor(train_labels)) ** 2).mean().item()\n",
    "    train_r2 = r2_score(np.array(train_labels), np.array(train_predictions))\n",
    "    train_pearson_corr, _ = pearsonr(np.array(train_labels), np.array(train_predictions))\n",
    "    train_median_ae = median_absolute_error(np.array(train_labels), np.array(train_predictions))\n",
    "    train_explained_var = explained_variance_score(np.array(train_labels), np.array(train_predictions))\n",
    "\n",
    "\n",
    "\n",
    "    if epoch % 10 == 0:\n",
    "        print(f\"Epoch {epoch} - Train Loss: {total_loss / len(train_loader_mols):.4f}, Train MSE: {train_mse:.4f}, Train MAE: {train_mae:.4f}\")\n",
    "\n",
    "    # Validation\n",
    "    model_2.eval()\n",
    "    val_predictions, val_labels = [], []\n",
    "    with torch.no_grad():\n",
    "        for batch in val_loader_mols:\n",
    "            mol_features = batch['metabolite_features'].to(device)\n",
    "            protein_features = batch['protein_features'].to(device)\n",
    "            labels = batch['label'].to(device)\n",
    "\n",
    "            outputs = model_2(mol_features, protein_features)\n",
    "            val_predictions.extend(outputs.cpu().numpy())\n",
    "            val_labels.extend(labels.cpu().numpy())\n",
    "            val_loss = criterion(outputs, labels)\n",
    "            val_total_loss += val_loss.item()\n",
    "\n",
    "    val_mse = ((torch.tensor(val_predictions) - torch.tensor(val_labels))**2).mean().item()\n",
    "    val_mae = torch.abs(torch.tensor(val_predictions) - torch.tensor(val_labels)).mean().item()\n",
    "    val_rmse = torch.sqrt((torch.tensor(val_predictions) - torch.tensor(val_labels)) ** 2).mean().item()\n",
    "    val_r2 = r2_score(np.array(val_labels), np.array(val_predictions))\n",
    "    val_pearson_corr, _ = pearsonr(np.array(val_labels), np.array(val_predictions))\n",
    "    val_median_ae = median_absolute_error(np.array(val_labels), np.array(val_predictions))\n",
    "    val_explained_var = explained_variance_score(np.array(val_labels), np.array(val_predictions))\n",
    "\n",
    "    if epoch % 10 == 0:\n",
    "        print(f\"Epoch {epoch} - Validation Loss: {val_total_loss / len(val_loader_mols):.4f}, Validation MSE: {val_mse:.4f}, Validation MAE: {val_mae:.4f}\")\n",
    "\n",
    "    # Save metrics to DataFrame\n",
    "    new_row = {'epoch': epoch + 1, 'Train Loss': total_loss / len(train_loader_mols), 'Train MSE': train_mse, 'Train MAE': train_mae, 'Train RMSE': train_rmse, 'Train R2': train_r2, 'Train Pearson': train_pearson_corr, 'Train Median_AE': train_median_ae, 'Train Explained_VAR': train_explained_var, \n",
    "               'Val Loss': val_total_loss / len(val_loader_mols), 'Val MSE': val_mse, 'Val MAE': val_mae, 'Val RMSE': val_rmse, 'Val R2': val_r2, 'Val Pearson': val_pearson_corr, 'Val Median_AE': val_median_ae, 'Val Explained_VAR': val_explained_var}\n",
    "    train_history_2 = pd.concat([train_history_2, pd.DataFrame([new_row])], ignore_index=True)\n",
    "\n",
    "\n"
   ]
  },
  {
   "cell_type": "code",
   "execution_count": 12,
   "metadata": {},
   "outputs": [],
   "source": [
    "for batch in train_loader_mols:\n",
    "    mol_input_dim = batch['metabolite_features'].shape[1]  # Dynamically determine mol input dimension\n",
    "    protein_input_dim = batch['protein_features'].shape[1]  # Dynamically determine protein input dimension\n",
    "    break\n",
    "\n",
    "model = MLPRegressor(mol_input_dim=mol_input_dim, protein_input_dim=protein_input_dim, hidden_dim=512)\n",
    "model.load_state_dict(torch.load('/Users/pinchichen/2025S lab/AI drug project/Catpred/Km/trained_model/cold_mols/MLP model_Catpred_Km_cold_mols.pt'))\n",
    "model = model.to(device)"
   ]
  },
  {
   "cell_type": "code",
   "execution_count": 13,
   "metadata": {},
   "outputs": [
    {
     "name": "stdout",
     "output_type": "stream",
     "text": [
      "Test MSE: 0.8366, Test RMSE: 0.914666392, Test MAE: 0.6994, Test R2: 0.4744, Test Pearson Correlation: 0.6926, Test Median AE: 0.5533, Test Explained Variance: 0.4744\n"
     ]
    }
   ],
   "source": [
    "# Test Metrics\n",
    "model.eval()\n",
    "test_predictions, test_labels = [], []\n",
    "with torch.no_grad():\n",
    "    for batch in test_loader_mols:\n",
    "        mol_features = batch['metabolite_features'].to(device)\n",
    "        protein_features = batch['protein_features'].to(device)\n",
    "        labels = batch['label'].to(device)\n",
    "\n",
    "        outputs = model(mol_features, protein_features)\n",
    "        test_predictions.extend(outputs.cpu().numpy())\n",
    "        test_labels.extend(labels.cpu().numpy())\n",
    "\n",
    "test_mse = ((torch.tensor(test_predictions) - torch.tensor(test_labels))**2).mean().item()\n",
    "test_mae = torch.abs(torch.tensor(test_predictions) - torch.tensor(test_labels)).mean().item()\n",
    "test_rmse = np.sqrt(test_mse)\n",
    "test_r2 = r2_score(np.array(test_labels), np.array(test_predictions))\n",
    "test_pearson_corr, _ = pearsonr(np.array(test_labels), np.array(test_predictions))\n",
    "test_median_ae = median_absolute_error(np.array(test_labels), np.array(test_predictions))\n",
    "test_explained_var = explained_variance_score(np.array(test_labels), np.array(test_predictions))\n",
    "\n",
    "print(f\"Test MSE: {test_mse:.4f}, Test RMSE: {test_rmse:.9f}, Test MAE: {test_mae:.4f}, Test R2: {test_r2:.4f}, Test Pearson Correlation: {test_pearson_corr:.4f}, Test Median AE: {test_median_ae:.4f}, Test Explained Variance: {test_explained_var:.4f}\")"
   ]
  },
  {
   "cell_type": "code",
   "execution_count": 17,
   "metadata": {},
   "outputs": [],
   "source": [
    "model.eval()\n",
    "train_pred, train_labels = [], []\n",
    "with torch.no_grad():\n",
    "    for batch in train_loader_mols:\n",
    "        mol_features = batch['metabolite_features'].to(device)\n",
    "        protein_features = batch['protein_features'].to(device)\n",
    "        labels = batch['label'].to(device)\n",
    "\n",
    "        outputs = model(mol_features, protein_features)\n",
    "        train_pred.extend(outputs.cpu().numpy())\n",
    "        train_labels.extend(labels.cpu().numpy())\n",
    "\n",
    "train_mse, train_rmse, train_mae, train_r2, train_pearson_corr, train_median_ae, train_explained_var = evaluate_model(train_pred, train_labels)"
   ]
  },
  {
   "cell_type": "code",
   "execution_count": 18,
   "metadata": {},
   "outputs": [],
   "source": [
    "model.eval()\n",
    "val_pred, val_labels = [], []\n",
    "with torch.no_grad():\n",
    "    for batch in val_loader_mols:\n",
    "        mol_features = batch['metabolite_features'].to(device)\n",
    "        protein_features = batch['protein_features'].to(device)\n",
    "        labels = batch['label'].to(device)\n",
    "\n",
    "        outputs = model(mol_features, protein_features)\n",
    "        val_pred.extend(outputs.cpu().numpy())\n",
    "        val_labels.extend(labels.cpu().numpy())\n",
    "\n",
    "val_mse, val_rmse, val_mae, val_r2, val_pearson_corr, val_median_ae, val_explained_var = evaluate_model(val_pred, val_labels)\n"
   ]
  },
  {
   "cell_type": "code",
   "execution_count": 19,
   "metadata": {},
   "outputs": [],
   "source": [
    "# append the performance to the csv file\n",
    "df = {\n",
    "    'Model':['MLP','MLP','MLP'],\n",
    "    'Dataset':['Train','Validation','Test'],\n",
    "    'MSE':[train_mse,val_mse,test_mse],\n",
    "    'RMSE':[train_rmse,val_rmse,test_rmse],\n",
    "    'MAE':[train_mae,val_mae,test_mae],\n",
    "    'R2':[train_r2,val_r2,test_r2],\n",
    "    'Pearson':[train_pearson_corr,val_pearson_corr,test_pearson_corr],\n",
    "    'Median_AE':[train_median_ae,val_median_ae,test_median_ae],\n",
    "    'Explained_VAR':[train_explained_var,val_explained_var,test_explained_var],\n",
    "    'Dataspliting Mode':['cold mols','cold mols','cold mols']\n",
    "}\n",
    "df = pd.DataFrame(df)\n",
    "\n",
    "df.to_csv('/Users/pinchichen/2025S lab/AI drug project/Catpred/Km/model performance metrics_Catpred_Km.csv', mode='a', header=False)"
   ]
  },
  {
   "cell_type": "code",
   "execution_count": 12,
   "metadata": {},
   "outputs": [],
   "source": [
    "# Save the model and training history\n",
    "save_dir = '/Users/pinchichen/2025S lab/AI drug project/Catpred/Km/trained_model/cold_mols'\n",
    "# save model weights and optimizer state\n",
    "torch.save(model_2.state_dict(), os.path.join(save_dir, 'MLP model_Catpred_Km_cold_mols.pt'))\n",
    "torch.save(optimizer_2.state_dict(), os.path.join(save_dir, 'MLP optimizer_Catpred_Km_cold_mols.pt'))"
   ]
  }
 ],
 "metadata": {
  "kernelspec": {
   "display_name": "base",
   "language": "python",
   "name": "python3"
  },
  "language_info": {
   "codemirror_mode": {
    "name": "ipython",
    "version": 3
   },
   "file_extension": ".py",
   "mimetype": "text/x-python",
   "name": "python",
   "nbconvert_exporter": "python",
   "pygments_lexer": "ipython3",
   "version": "3.12.2"
  }
 },
 "nbformat": 4,
 "nbformat_minor": 2
}
