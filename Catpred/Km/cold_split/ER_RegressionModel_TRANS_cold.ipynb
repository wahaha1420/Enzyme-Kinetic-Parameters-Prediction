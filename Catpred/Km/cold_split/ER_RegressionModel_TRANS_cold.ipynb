{
 "cells": [
  {
   "cell_type": "code",
   "execution_count": 1,
   "metadata": {},
   "outputs": [],
   "source": [
    "import pandas as pd\n",
    "import numpy as np\n",
    "from tqdm import tqdm\n",
    "import torch\n",
    "import torch.nn as nn\n",
    "import torch.optim as optim\n",
    "from torch.utils.data import DataLoader, Dataset\n",
    "from sklearn.metrics import roc_auc_score\n",
    "from sklearn.model_selection import train_test_split\n",
    "import os\n"
   ]
  },
  {
   "cell_type": "code",
   "execution_count": 2,
   "metadata": {},
   "outputs": [
    {
     "data": {
      "text/html": [
       "<div>\n",
       "<style scoped>\n",
       "    .dataframe tbody tr th:only-of-type {\n",
       "        vertical-align: middle;\n",
       "    }\n",
       "\n",
       "    .dataframe tbody tr th {\n",
       "        vertical-align: top;\n",
       "    }\n",
       "\n",
       "    .dataframe thead th {\n",
       "        text-align: right;\n",
       "    }\n",
       "</style>\n",
       "<table border=\"1\" class=\"dataframe\">\n",
       "  <thead>\n",
       "    <tr style=\"text-align: right;\">\n",
       "      <th></th>\n",
       "      <th>Sequence</th>\n",
       "      <th>sequence_source</th>\n",
       "      <th>uniprot</th>\n",
       "      <th>Smiles</th>\n",
       "      <th>value</th>\n",
       "      <th>ec</th>\n",
       "      <th>taxonomy_id</th>\n",
       "      <th>log10_value</th>\n",
       "      <th>log10km_mean</th>\n",
       "      <th>metabolite_features</th>\n",
       "      <th>protein_features</th>\n",
       "    </tr>\n",
       "  </thead>\n",
       "  <tbody>\n",
       "    <tr>\n",
       "      <th>0</th>\n",
       "      <td>MGQEKLYIEKELSWLSFNERVLQEAADKSNPLIERMRFLGIYSNNL...</td>\n",
       "      <td>sabio</td>\n",
       "      <td>P0A7B1</td>\n",
       "      <td>Nc1nc2c(ncn2C2OC(COP(=O)(O)OP(=O)(O)O)C(O)C2O)...</td>\n",
       "      <td>0.6300</td>\n",
       "      <td>2.7.4.1</td>\n",
       "      <td>562</td>\n",
       "      <td>-0.200659</td>\n",
       "      <td>-0.200659</td>\n",
       "      <td>[0.25370342, -0.3417107, -0.28024313, -0.04292...</td>\n",
       "      <td>[-0.06592023, -0.062496405, -0.012068139, 0.06...</td>\n",
       "    </tr>\n",
       "    <tr>\n",
       "      <th>1</th>\n",
       "      <td>MSQQPHTEQFPKNQPPLAERLASARQLVTKAISAVPPHPEPLPSPN...</td>\n",
       "      <td>brenda</td>\n",
       "      <td>A0A0S2SWE4</td>\n",
       "      <td>CC/C=C\\C/C=C\\C/C=C\\CCCCCCCC(=O)O</td>\n",
       "      <td>0.0264</td>\n",
       "      <td>1.13.11.60</td>\n",
       "      <td>474922</td>\n",
       "      <td>-1.578396</td>\n",
       "      <td>-1.553572</td>\n",
       "      <td>[0.61067283, 0.46248585, -0.051634412, -0.7397...</td>\n",
       "      <td>[0.16962084, -0.09671225, 0.116663285, 0.05065...</td>\n",
       "    </tr>\n",
       "    <tr>\n",
       "      <th>2</th>\n",
       "      <td>MSAAADRLNLTSGHLNAGRKRSSSSVSLKAVEKPFKVTVIGSGNWG...</td>\n",
       "      <td>uniprot_search</td>\n",
       "      <td>A0A060KZ16</td>\n",
       "      <td>O=C(CO)COP(=O)(O)O</td>\n",
       "      <td>0.6100</td>\n",
       "      <td>1.1.1.8</td>\n",
       "      <td>114524</td>\n",
       "      <td>-0.214670</td>\n",
       "      <td>-0.214670</td>\n",
       "      <td>[0.29938427, -0.0972216, -0.3334697, -0.721026...</td>\n",
       "      <td>[0.0933136, -0.117130496, 0.0676241, 0.0187789...</td>\n",
       "    </tr>\n",
       "    <tr>\n",
       "      <th>3</th>\n",
       "      <td>MLAEKTRSIIKATVPVLEQQGTVITRTFYKNMLTEHTELLNIFNRT...</td>\n",
       "      <td>sabio</td>\n",
       "      <td>P39676</td>\n",
       "      <td>NC(=O)C1=CN(C2OC(COP(=O)(O)OP(=O)(O)OCC3OC(n4c...</td>\n",
       "      <td>0.0280</td>\n",
       "      <td>1.14.12.17</td>\n",
       "      <td>4932</td>\n",
       "      <td>-1.552842</td>\n",
       "      <td>-1.552842</td>\n",
       "      <td>[0.639636, -0.14536878, -0.52627945, 0.1240742...</td>\n",
       "      <td>[-0.02827879, -0.04372119, 0.03182794, 0.19197...</td>\n",
       "    </tr>\n",
       "    <tr>\n",
       "      <th>4</th>\n",
       "      <td>MASAERVPVSFNKPGRVPFGEVQGYAPGHIPAYSNKHDHFFSGERS...</td>\n",
       "      <td>uniprot_search</td>\n",
       "      <td>O60993</td>\n",
       "      <td>Nc1ncnc2c1ncn2[C@H]1O[C@H](COP(=O)([O-])OP(=O)...</td>\n",
       "      <td>0.4000</td>\n",
       "      <td>6.3.1.9</td>\n",
       "      <td>5656</td>\n",
       "      <td>-0.397940</td>\n",
       "      <td>-0.397940</td>\n",
       "      <td>[0.25855744, 0.43888408, -0.7136499, 0.0234168...</td>\n",
       "      <td>[0.074476704, -0.050253637, 0.05497695, 0.1402...</td>\n",
       "    </tr>\n",
       "  </tbody>\n",
       "</table>\n",
       "</div>"
      ],
      "text/plain": [
       "                                            Sequence sequence_source  \\\n",
       "0  MGQEKLYIEKELSWLSFNERVLQEAADKSNPLIERMRFLGIYSNNL...           sabio   \n",
       "1  MSQQPHTEQFPKNQPPLAERLASARQLVTKAISAVPPHPEPLPSPN...          brenda   \n",
       "2  MSAAADRLNLTSGHLNAGRKRSSSSVSLKAVEKPFKVTVIGSGNWG...  uniprot_search   \n",
       "3  MLAEKTRSIIKATVPVLEQQGTVITRTFYKNMLTEHTELLNIFNRT...           sabio   \n",
       "4  MASAERVPVSFNKPGRVPFGEVQGYAPGHIPAYSNKHDHFFSGERS...  uniprot_search   \n",
       "\n",
       "      uniprot                                             Smiles   value  \\\n",
       "0      P0A7B1  Nc1nc2c(ncn2C2OC(COP(=O)(O)OP(=O)(O)O)C(O)C2O)...  0.6300   \n",
       "1  A0A0S2SWE4                   CC/C=C\\C/C=C\\C/C=C\\CCCCCCCC(=O)O  0.0264   \n",
       "2  A0A060KZ16                                 O=C(CO)COP(=O)(O)O  0.6100   \n",
       "3      P39676  NC(=O)C1=CN(C2OC(COP(=O)(O)OP(=O)(O)OCC3OC(n4c...  0.0280   \n",
       "4      O60993  Nc1ncnc2c1ncn2[C@H]1O[C@H](COP(=O)([O-])OP(=O)...  0.4000   \n",
       "\n",
       "           ec  taxonomy_id  log10_value  log10km_mean  \\\n",
       "0     2.7.4.1          562    -0.200659     -0.200659   \n",
       "1  1.13.11.60       474922    -1.578396     -1.553572   \n",
       "2     1.1.1.8       114524    -0.214670     -0.214670   \n",
       "3  1.14.12.17         4932    -1.552842     -1.552842   \n",
       "4     6.3.1.9         5656    -0.397940     -0.397940   \n",
       "\n",
       "                                 metabolite_features  \\\n",
       "0  [0.25370342, -0.3417107, -0.28024313, -0.04292...   \n",
       "1  [0.61067283, 0.46248585, -0.051634412, -0.7397...   \n",
       "2  [0.29938427, -0.0972216, -0.3334697, -0.721026...   \n",
       "3  [0.639636, -0.14536878, -0.52627945, 0.1240742...   \n",
       "4  [0.25855744, 0.43888408, -0.7136499, 0.0234168...   \n",
       "\n",
       "                                    protein_features  \n",
       "0  [-0.06592023, -0.062496405, -0.012068139, 0.06...  \n",
       "1  [0.16962084, -0.09671225, 0.116663285, 0.05065...  \n",
       "2  [0.0933136, -0.117130496, 0.0676241, 0.0187789...  \n",
       "3  [-0.02827879, -0.04372119, 0.03182794, 0.19197...  \n",
       "4  [0.074476704, -0.050253637, 0.05497695, 0.1402...  "
      ]
     },
     "execution_count": 2,
     "metadata": {},
     "output_type": "execute_result"
    }
   ],
   "source": [
    "import joblib\n",
    "import pandas as pd\n",
    "\n",
    "data_km = joblib.load('/Users/pinchichen/2025S lab/AI drug project/Catpred/dataset/km/km_with_features.joblib')\n",
    "data_km.head()"
   ]
  },
  {
   "cell_type": "code",
   "execution_count": 3,
   "metadata": {},
   "outputs": [
    {
     "data": {
      "text/html": [
       "<div>\n",
       "<style scoped>\n",
       "    .dataframe tbody tr th:only-of-type {\n",
       "        vertical-align: middle;\n",
       "    }\n",
       "\n",
       "    .dataframe tbody tr th {\n",
       "        vertical-align: top;\n",
       "    }\n",
       "\n",
       "    .dataframe thead th {\n",
       "        text-align: right;\n",
       "    }\n",
       "</style>\n",
       "<table border=\"1\" class=\"dataframe\">\n",
       "  <thead>\n",
       "    <tr style=\"text-align: right;\">\n",
       "      <th></th>\n",
       "      <th>Sequence</th>\n",
       "      <th>sequence_source</th>\n",
       "      <th>uniprot</th>\n",
       "      <th>Smiles</th>\n",
       "      <th>value</th>\n",
       "      <th>ec</th>\n",
       "      <th>taxonomy_id</th>\n",
       "      <th>log10_value</th>\n",
       "      <th>label</th>\n",
       "      <th>metabolite_features</th>\n",
       "      <th>protein_features</th>\n",
       "    </tr>\n",
       "  </thead>\n",
       "  <tbody>\n",
       "    <tr>\n",
       "      <th>0</th>\n",
       "      <td>MGQEKLYIEKELSWLSFNERVLQEAADKSNPLIERMRFLGIYSNNL...</td>\n",
       "      <td>sabio</td>\n",
       "      <td>P0A7B1</td>\n",
       "      <td>Nc1nc2c(ncn2C2OC(COP(=O)(O)OP(=O)(O)O)C(O)C2O)...</td>\n",
       "      <td>0.6300</td>\n",
       "      <td>2.7.4.1</td>\n",
       "      <td>562</td>\n",
       "      <td>-0.200659</td>\n",
       "      <td>-0.200659</td>\n",
       "      <td>[0.25370342, -0.3417107, -0.28024313, -0.04292...</td>\n",
       "      <td>[-0.06592023, -0.062496405, -0.012068139, 0.06...</td>\n",
       "    </tr>\n",
       "    <tr>\n",
       "      <th>1</th>\n",
       "      <td>MSQQPHTEQFPKNQPPLAERLASARQLVTKAISAVPPHPEPLPSPN...</td>\n",
       "      <td>brenda</td>\n",
       "      <td>A0A0S2SWE4</td>\n",
       "      <td>CC/C=C\\C/C=C\\C/C=C\\CCCCCCCC(=O)O</td>\n",
       "      <td>0.0264</td>\n",
       "      <td>1.13.11.60</td>\n",
       "      <td>474922</td>\n",
       "      <td>-1.578396</td>\n",
       "      <td>-1.553572</td>\n",
       "      <td>[0.61067283, 0.46248585, -0.051634412, -0.7397...</td>\n",
       "      <td>[0.16962084, -0.09671225, 0.116663285, 0.05065...</td>\n",
       "    </tr>\n",
       "    <tr>\n",
       "      <th>2</th>\n",
       "      <td>MSAAADRLNLTSGHLNAGRKRSSSSVSLKAVEKPFKVTVIGSGNWG...</td>\n",
       "      <td>uniprot_search</td>\n",
       "      <td>A0A060KZ16</td>\n",
       "      <td>O=C(CO)COP(=O)(O)O</td>\n",
       "      <td>0.6100</td>\n",
       "      <td>1.1.1.8</td>\n",
       "      <td>114524</td>\n",
       "      <td>-0.214670</td>\n",
       "      <td>-0.214670</td>\n",
       "      <td>[0.29938427, -0.0972216, -0.3334697, -0.721026...</td>\n",
       "      <td>[0.0933136, -0.117130496, 0.0676241, 0.0187789...</td>\n",
       "    </tr>\n",
       "    <tr>\n",
       "      <th>3</th>\n",
       "      <td>MLAEKTRSIIKATVPVLEQQGTVITRTFYKNMLTEHTELLNIFNRT...</td>\n",
       "      <td>sabio</td>\n",
       "      <td>P39676</td>\n",
       "      <td>NC(=O)C1=CN(C2OC(COP(=O)(O)OP(=O)(O)OCC3OC(n4c...</td>\n",
       "      <td>0.0280</td>\n",
       "      <td>1.14.12.17</td>\n",
       "      <td>4932</td>\n",
       "      <td>-1.552842</td>\n",
       "      <td>-1.552842</td>\n",
       "      <td>[0.639636, -0.14536878, -0.52627945, 0.1240742...</td>\n",
       "      <td>[-0.02827879, -0.04372119, 0.03182794, 0.19197...</td>\n",
       "    </tr>\n",
       "    <tr>\n",
       "      <th>4</th>\n",
       "      <td>MASAERVPVSFNKPGRVPFGEVQGYAPGHIPAYSNKHDHFFSGERS...</td>\n",
       "      <td>uniprot_search</td>\n",
       "      <td>O60993</td>\n",
       "      <td>Nc1ncnc2c1ncn2[C@H]1O[C@H](COP(=O)([O-])OP(=O)...</td>\n",
       "      <td>0.4000</td>\n",
       "      <td>6.3.1.9</td>\n",
       "      <td>5656</td>\n",
       "      <td>-0.397940</td>\n",
       "      <td>-0.397940</td>\n",
       "      <td>[0.25855744, 0.43888408, -0.7136499, 0.0234168...</td>\n",
       "      <td>[0.074476704, -0.050253637, 0.05497695, 0.1402...</td>\n",
       "    </tr>\n",
       "  </tbody>\n",
       "</table>\n",
       "</div>"
      ],
      "text/plain": [
       "                                            Sequence sequence_source  \\\n",
       "0  MGQEKLYIEKELSWLSFNERVLQEAADKSNPLIERMRFLGIYSNNL...           sabio   \n",
       "1  MSQQPHTEQFPKNQPPLAERLASARQLVTKAISAVPPHPEPLPSPN...          brenda   \n",
       "2  MSAAADRLNLTSGHLNAGRKRSSSSVSLKAVEKPFKVTVIGSGNWG...  uniprot_search   \n",
       "3  MLAEKTRSIIKATVPVLEQQGTVITRTFYKNMLTEHTELLNIFNRT...           sabio   \n",
       "4  MASAERVPVSFNKPGRVPFGEVQGYAPGHIPAYSNKHDHFFSGERS...  uniprot_search   \n",
       "\n",
       "      uniprot                                             Smiles   value  \\\n",
       "0      P0A7B1  Nc1nc2c(ncn2C2OC(COP(=O)(O)OP(=O)(O)O)C(O)C2O)...  0.6300   \n",
       "1  A0A0S2SWE4                   CC/C=C\\C/C=C\\C/C=C\\CCCCCCCC(=O)O  0.0264   \n",
       "2  A0A060KZ16                                 O=C(CO)COP(=O)(O)O  0.6100   \n",
       "3      P39676  NC(=O)C1=CN(C2OC(COP(=O)(O)OP(=O)(O)OCC3OC(n4c...  0.0280   \n",
       "4      O60993  Nc1ncnc2c1ncn2[C@H]1O[C@H](COP(=O)([O-])OP(=O)...  0.4000   \n",
       "\n",
       "           ec  taxonomy_id  log10_value     label  \\\n",
       "0     2.7.4.1          562    -0.200659 -0.200659   \n",
       "1  1.13.11.60       474922    -1.578396 -1.553572   \n",
       "2     1.1.1.8       114524    -0.214670 -0.214670   \n",
       "3  1.14.12.17         4932    -1.552842 -1.552842   \n",
       "4     6.3.1.9         5656    -0.397940 -0.397940   \n",
       "\n",
       "                                 metabolite_features  \\\n",
       "0  [0.25370342, -0.3417107, -0.28024313, -0.04292...   \n",
       "1  [0.61067283, 0.46248585, -0.051634412, -0.7397...   \n",
       "2  [0.29938427, -0.0972216, -0.3334697, -0.721026...   \n",
       "3  [0.639636, -0.14536878, -0.52627945, 0.1240742...   \n",
       "4  [0.25855744, 0.43888408, -0.7136499, 0.0234168...   \n",
       "\n",
       "                                    protein_features  \n",
       "0  [-0.06592023, -0.062496405, -0.012068139, 0.06...  \n",
       "1  [0.16962084, -0.09671225, 0.116663285, 0.05065...  \n",
       "2  [0.0933136, -0.117130496, 0.0676241, 0.0187789...  \n",
       "3  [-0.02827879, -0.04372119, 0.03182794, 0.19197...  \n",
       "4  [0.074476704, -0.050253637, 0.05497695, 0.1402...  "
      ]
     },
     "execution_count": 3,
     "metadata": {},
     "output_type": "execute_result"
    }
   ],
   "source": [
    "data_km.rename(columns={'log10km_mean':'label'},inplace=True)\n",
    "data_km.head()"
   ]
  },
  {
   "cell_type": "code",
   "execution_count": 4,
   "metadata": {},
   "outputs": [],
   "source": [
    "# Define dataset\n",
    "class MPI_Dataset(Dataset):\n",
    "    def __init__(self, dataframe):\n",
    "        self.dataframe = dataframe\n",
    "\n",
    "    def __len__(self):\n",
    "        return len(self.dataframe)\n",
    "\n",
    "    def __getitem__(self, idx):\n",
    "        row = self.dataframe.iloc[idx]\n",
    "        return {\n",
    "            'metabolite_features': torch.tensor(np.asarray(row['metabolite_features'], dtype=np.float32)),\n",
    "            'protein_features': torch.tensor(np.asarray(row['protein_features'], dtype=np.float32)),\n",
    "            'label': torch.tensor(float(row['label']), dtype=torch.float32),\n",
    "        }"
   ]
  },
  {
   "cell_type": "code",
   "execution_count": 5,
   "metadata": {},
   "outputs": [],
   "source": [
    "# Separate the dataset by unique proteins and drugs\n",
    "unique_proteins = data_km['Sequence'].unique()\n",
    "unique_mols = data_km['Smiles'].unique()\n",
    "# Set the seed for reproducibility\n",
    "torch.manual_seed(42)\n",
    "# Function to perform a cold split\n",
    "def cold_split(unique_items, test_size=0.2, val_size=0.1):\n",
    "    train_items, test_items = train_test_split(unique_items, test_size=test_size, random_state=42)\n",
    "    train_items, val_items = train_test_split(train_items, test_size=val_size / (1 - test_size), random_state=42)\n",
    "    return train_items, val_items, test_items\n",
    "# Cold split by proteins\n",
    "train_proteins, val_proteins, test_proteins = cold_split(unique_proteins)\n",
    "train_cold_protein = data_km[data_km['Sequence'].isin(train_proteins)]\n",
    "val_cold_protein = data_km[data_km['Sequence'].isin(val_proteins)]\n",
    "test_cold_protein = data_km[data_km['Sequence'].isin(test_proteins)]\n",
    "# Cold split by molecules\n",
    "train_mols, val_mols, test_mols = cold_split(unique_mols)\n",
    "train_cold_mols = data_km[data_km['Smiles'].isin(train_mols)]\n",
    "val_cold_mols = data_km[data_km['Smiles'].isin(val_mols)]\n",
    "test_cold_mols = data_km[data_km['Smiles'].isin(test_mols)]"
   ]
  },
  {
   "cell_type": "code",
   "execution_count": 6,
   "metadata": {},
   "outputs": [],
   "source": [
    "# cold protein\n",
    "train_dataset = MPI_Dataset(train_cold_protein)\n",
    "val_dataset = MPI_Dataset(val_cold_protein)\n",
    "test_dataset = MPI_Dataset(test_cold_protein)\n",
    "\n",
    "train_loader = DataLoader(train_dataset, batch_size=32, shuffle=True)\n",
    "val_loader = DataLoader(val_dataset, batch_size=32)\n",
    "test_loader = DataLoader(test_dataset, batch_size=32)\n",
    "\n",
    "# cold mols\n",
    "train_dataset_mols = MPI_Dataset(train_cold_mols)\n",
    "val_dataset_mols = MPI_Dataset(val_cold_mols)\n",
    "test_dataset_mols = MPI_Dataset(test_cold_mols)\n",
    "\n",
    "train_loader_mols = DataLoader(train_dataset_mols, batch_size=32, shuffle=True)\n",
    "val_loader_mols = DataLoader(val_dataset_mols, batch_size=32)\n",
    "test_loader_mols = DataLoader(test_dataset_mols, batch_size=32)"
   ]
  },
  {
   "cell_type": "code",
   "execution_count": 7,
   "metadata": {},
   "outputs": [],
   "source": [
    "import torch.nn as nn\n",
    "import torch\n",
    "import torch.nn.functional as F\n",
    "\n",
    "# Define Transformer for Regression\n",
    "# https://www.datacamp.com/tutorial/building-a-transformer-with-py-torch\n",
    "class TransformerRegressor(nn.Module):\n",
    "    def __init__(self, mol_input_dim, protein_input_dim, d_model=128, nhead=4, num_layers=2, dropout=0.1):\n",
    "        super().__init__()\n",
    "\n",
    "        # Linear projection to embedding space\n",
    "        self.mol_proj = nn.Linear(mol_input_dim, d_model)\n",
    "        self.protein_proj = nn.Linear(protein_input_dim, d_model)\n",
    "\n",
    "        # Positional encoding (learnable)\n",
    "        self.pos_embedding = nn.Parameter(torch.randn(2, d_model))  # 2 positions: [mol, protein]\n",
    "\n",
    "        # Transformer encoder\n",
    "        encoder_layer = nn.TransformerEncoderLayer(d_model=d_model, nhead=nhead, dropout=dropout, batch_first=True)\n",
    "        self.transformer = nn.TransformerEncoder(encoder_layer, num_layers=num_layers)\n",
    "\n",
    "        # Regression head\n",
    "        self.regressor = nn.Sequential(\n",
    "            nn.Linear(d_model * 2, d_model),\n",
    "            nn.ReLU(),\n",
    "            nn.Dropout(dropout),\n",
    "            nn.Linear(d_model, 1)\n",
    "        )\n",
    "\n",
    "    def forward(self, mol_input, protein_input):\n",
    "        # Project input to embedding space\n",
    "        mol_embed = self.mol_proj(mol_input).unsqueeze(1)       # shape: (B, 1, d_model)\n",
    "        protein_embed = self.protein_proj(protein_input).unsqueeze(1)  # shape: (B, 1, d_model)\n",
    "\n",
    "        # Concatenate [mol, protein] tokens → sequence length = 2\n",
    "        x = torch.cat([mol_embed, protein_embed], dim=1)  # shape: (B, 2, d_model)\n",
    "\n",
    "        # Add learnable positional encoding\n",
    "        x = x + self.pos_embedding.unsqueeze(0)  # broadcast (1, 2, d_model)\n",
    "\n",
    "        # Pass through Transformer encoder\n",
    "        encoded = self.transformer(x)  # shape: (B, 2, d_model)\n",
    "\n",
    "        # Flatten both tokens\n",
    "        flattened = encoded.view(encoded.size(0), -1)  # shape: (B, 2 * d_model)\n",
    "\n",
    "        # Regression\n",
    "        out = self.regressor(flattened)\n",
    "        return out.view(-1)"
   ]
  },
  {
   "cell_type": "code",
   "execution_count": 8,
   "metadata": {},
   "outputs": [],
   "source": [
    "# Check CUDA availability\n",
    "device = torch.device(\"cuda\" if torch.cuda.is_available() else \"cpu\")"
   ]
  },
  {
   "cell_type": "code",
   "execution_count": null,
   "metadata": {},
   "outputs": [
    {
     "name": "stderr",
     "output_type": "stream",
     "text": [
      "Training Epoch 1: 100%|██████████| 890/890 [00:09<00:00, 89.33it/s]\n"
     ]
    },
    {
     "name": "stdout",
     "output_type": "stream",
     "text": [
      "Epoch 0 - Train Loss: 1.2545, Train MSE: 1.2527, Train MAE: 0.8774\n"
     ]
    },
    {
     "name": "stderr",
     "output_type": "stream",
     "text": [
      "/var/folders/yz/c1z6m9_d5d3f80sywjc3rqsc0000gn/T/ipykernel_96071/2430062344.py:91: FutureWarning: The behavior of DataFrame concatenation with empty or all-NA entries is deprecated. In a future version, this will no longer exclude empty or all-NA columns when determining the result dtypes. To retain the old behavior, exclude the relevant entries before the concat operation.\n",
      "  train_history = pd.concat([train_history, pd.DataFrame([new_row])], ignore_index=True)\n"
     ]
    },
    {
     "name": "stdout",
     "output_type": "stream",
     "text": [
      "Epoch 0 - Validation Loss: 1.1154, Validation MSE: 1.1189, Validation MAE: 0.8315\n"
     ]
    },
    {
     "name": "stderr",
     "output_type": "stream",
     "text": [
      "Training Epoch 2: 100%|██████████| 890/890 [00:09<00:00, 90.25it/s]\n",
      "Training Epoch 3: 100%|██████████| 890/890 [00:10<00:00, 87.36it/s]\n",
      "Training Epoch 4: 100%|██████████| 890/890 [00:09<00:00, 89.12it/s]\n",
      "Training Epoch 5: 100%|██████████| 890/890 [00:10<00:00, 88.47it/s]\n",
      "Training Epoch 6: 100%|██████████| 890/890 [00:09<00:00, 90.64it/s]\n",
      "Training Epoch 7: 100%|██████████| 890/890 [00:11<00:00, 79.17it/s]\n",
      "Training Epoch 8: 100%|██████████| 890/890 [00:15<00:00, 57.25it/s]\n",
      "Training Epoch 9: 100%|██████████| 890/890 [00:09<00:00, 90.88it/s]\n",
      "Training Epoch 10: 100%|██████████| 890/890 [00:09<00:00, 89.23it/s]\n",
      "Training Epoch 11: 100%|██████████| 890/890 [00:09<00:00, 90.45it/s]\n"
     ]
    },
    {
     "name": "stdout",
     "output_type": "stream",
     "text": [
      "Epoch 10 - Train Loss: 0.9089, Train MSE: 0.9094, Train MAE: 0.7369\n",
      "Epoch 10 - Validation Loss: 0.9672, Validation MSE: 0.9702, Validation MAE: 0.7667\n"
     ]
    },
    {
     "name": "stderr",
     "output_type": "stream",
     "text": [
      "Training Epoch 12: 100%|██████████| 890/890 [00:09<00:00, 91.71it/s]\n",
      "Training Epoch 13: 100%|██████████| 890/890 [00:09<00:00, 92.26it/s]\n",
      "Training Epoch 14: 100%|██████████| 890/890 [00:09<00:00, 92.74it/s]\n",
      "Training Epoch 15: 100%|██████████| 890/890 [00:09<00:00, 90.28it/s]\n",
      "Training Epoch 16: 100%|██████████| 890/890 [00:09<00:00, 91.73it/s]\n",
      "Training Epoch 17: 100%|██████████| 890/890 [00:09<00:00, 91.81it/s]\n",
      "Training Epoch 18: 100%|██████████| 890/890 [00:09<00:00, 96.15it/s] \n",
      "Training Epoch 19: 100%|██████████| 890/890 [00:09<00:00, 94.64it/s]\n",
      "Training Epoch 20: 100%|██████████| 890/890 [00:09<00:00, 94.59it/s] \n",
      "Training Epoch 21: 100%|██████████| 890/890 [00:09<00:00, 94.95it/s]\n"
     ]
    },
    {
     "name": "stdout",
     "output_type": "stream",
     "text": [
      "Epoch 20 - Train Loss: 0.7534, Train MSE: 0.7538, Train MAE: 0.6683\n",
      "Epoch 20 - Validation Loss: 0.9692, Validation MSE: 0.9726, Validation MAE: 0.7641\n"
     ]
    },
    {
     "name": "stderr",
     "output_type": "stream",
     "text": [
      "Training Epoch 22: 100%|██████████| 890/890 [00:09<00:00, 94.59it/s]\n",
      "Training Epoch 23: 100%|██████████| 890/890 [00:09<00:00, 95.07it/s] \n",
      "Training Epoch 24: 100%|██████████| 890/890 [00:09<00:00, 94.28it/s] \n",
      "Training Epoch 25: 100%|██████████| 890/890 [00:09<00:00, 94.79it/s] \n",
      "Training Epoch 26: 100%|██████████| 890/890 [00:09<00:00, 94.60it/s]\n",
      "Training Epoch 27: 100%|██████████| 890/890 [00:09<00:00, 94.43it/s]\n",
      "Training Epoch 28: 100%|██████████| 890/890 [00:09<00:00, 94.84it/s]\n",
      "Training Epoch 29: 100%|██████████| 890/890 [00:09<00:00, 95.61it/s] \n",
      "Training Epoch 30: 100%|██████████| 890/890 [00:09<00:00, 95.30it/s]\n",
      "Training Epoch 31: 100%|██████████| 890/890 [00:09<00:00, 93.75it/s]\n"
     ]
    },
    {
     "name": "stdout",
     "output_type": "stream",
     "text": [
      "Epoch 30 - Train Loss: 0.6351, Train MSE: 0.6356, Train MAE: 0.6123\n",
      "Epoch 30 - Validation Loss: 0.9556, Validation MSE: 0.9565, Validation MAE: 0.7565\n"
     ]
    },
    {
     "name": "stderr",
     "output_type": "stream",
     "text": [
      "Training Epoch 32: 100%|██████████| 890/890 [00:09<00:00, 94.58it/s] \n",
      "Training Epoch 33: 100%|██████████| 890/890 [00:10<00:00, 88.51it/s]\n",
      "Training Epoch 34: 100%|██████████| 890/890 [00:10<00:00, 83.15it/s]\n",
      "Training Epoch 35: 100%|██████████| 890/890 [00:10<00:00, 83.00it/s]\n",
      "Training Epoch 36: 100%|██████████| 890/890 [00:10<00:00, 84.27it/s]\n",
      "Training Epoch 37: 100%|██████████| 890/890 [00:10<00:00, 84.19it/s]\n",
      "Training Epoch 38: 100%|██████████| 890/890 [00:10<00:00, 82.29it/s]\n",
      "Training Epoch 39: 100%|██████████| 890/890 [00:10<00:00, 84.28it/s]\n",
      "Training Epoch 40: 100%|██████████| 890/890 [00:10<00:00, 87.44it/s]\n",
      "Training Epoch 41: 100%|██████████| 890/890 [00:10<00:00, 87.18it/s]\n"
     ]
    },
    {
     "name": "stdout",
     "output_type": "stream",
     "text": [
      "Epoch 40 - Train Loss: 0.5370, Train MSE: 0.5375, Train MAE: 0.5619\n",
      "Epoch 40 - Validation Loss: 0.9740, Validation MSE: 0.9768, Validation MAE: 0.7595\n"
     ]
    },
    {
     "name": "stderr",
     "output_type": "stream",
     "text": [
      "Training Epoch 42: 100%|██████████| 890/890 [00:10<00:00, 86.92it/s]\n",
      "Training Epoch 43: 100%|██████████| 890/890 [00:10<00:00, 87.56it/s]\n",
      "Training Epoch 44: 100%|██████████| 890/890 [00:09<00:00, 89.18it/s]\n",
      "Training Epoch 45: 100%|██████████| 890/890 [00:10<00:00, 86.95it/s]\n",
      "Training Epoch 46: 100%|██████████| 890/890 [00:10<00:00, 88.69it/s]\n",
      "Training Epoch 47: 100%|██████████| 890/890 [00:10<00:00, 87.74it/s]\n",
      "Training Epoch 48: 100%|██████████| 890/890 [00:10<00:00, 86.15it/s]\n",
      "Training Epoch 49: 100%|██████████| 890/890 [00:09<00:00, 89.69it/s]\n",
      "Training Epoch 50: 100%|██████████| 890/890 [00:10<00:00, 88.63it/s]\n",
      "Training Epoch 51: 100%|██████████| 890/890 [00:09<00:00, 92.27it/s]\n"
     ]
    },
    {
     "name": "stdout",
     "output_type": "stream",
     "text": [
      "Epoch 50 - Train Loss: 0.4541, Train MSE: 0.4546, Train MAE: 0.5155\n",
      "Epoch 50 - Validation Loss: 1.0479, Validation MSE: 1.0487, Validation MAE: 0.7857\n"
     ]
    },
    {
     "name": "stderr",
     "output_type": "stream",
     "text": [
      "Training Epoch 52: 100%|██████████| 890/890 [00:09<00:00, 90.32it/s]\n",
      "Training Epoch 53: 100%|██████████| 890/890 [00:09<00:00, 90.57it/s]\n",
      "Training Epoch 54: 100%|██████████| 890/890 [00:10<00:00, 87.80it/s]\n",
      "Training Epoch 55: 100%|██████████| 890/890 [00:09<00:00, 89.61it/s]\n",
      "Training Epoch 56: 100%|██████████| 890/890 [00:10<00:00, 88.06it/s]\n",
      "Training Epoch 57: 100%|██████████| 890/890 [00:10<00:00, 88.66it/s]\n",
      "Training Epoch 58: 100%|██████████| 890/890 [00:10<00:00, 88.37it/s]\n",
      "Training Epoch 59: 100%|██████████| 890/890 [00:09<00:00, 90.58it/s]\n",
      "Training Epoch 60: 100%|██████████| 890/890 [00:10<00:00, 88.54it/s]\n",
      "Training Epoch 61: 100%|██████████| 890/890 [00:10<00:00, 88.77it/s]\n"
     ]
    },
    {
     "name": "stdout",
     "output_type": "stream",
     "text": [
      "Epoch 60 - Train Loss: 0.3909, Train MSE: 0.3911, Train MAE: 0.4785\n",
      "Epoch 60 - Validation Loss: 1.0393, Validation MSE: 1.0386, Validation MAE: 0.7815\n"
     ]
    },
    {
     "name": "stderr",
     "output_type": "stream",
     "text": [
      "Training Epoch 62: 100%|██████████| 890/890 [00:09<00:00, 90.00it/s]\n",
      "Training Epoch 63: 100%|██████████| 890/890 [00:10<00:00, 88.60it/s]\n",
      "Training Epoch 64: 100%|██████████| 890/890 [00:10<00:00, 88.50it/s]\n",
      "Training Epoch 65: 100%|██████████| 890/890 [00:09<00:00, 89.37it/s]\n",
      "Training Epoch 66: 100%|██████████| 890/890 [00:10<00:00, 88.14it/s]\n",
      "Training Epoch 67: 100%|██████████| 890/890 [00:10<00:00, 88.60it/s]\n",
      "Training Epoch 68: 100%|██████████| 890/890 [00:09<00:00, 89.17it/s]\n",
      "Training Epoch 69: 100%|██████████| 890/890 [00:09<00:00, 89.55it/s]\n",
      "Training Epoch 70: 100%|██████████| 890/890 [00:10<00:00, 88.31it/s]\n",
      "Training Epoch 71: 100%|██████████| 890/890 [00:10<00:00, 84.67it/s]\n"
     ]
    },
    {
     "name": "stdout",
     "output_type": "stream",
     "text": [
      "Epoch 70 - Train Loss: 0.3429, Train MSE: 0.3414, Train MAE: 0.4468\n",
      "Epoch 70 - Validation Loss: 1.0118, Validation MSE: 1.0115, Validation MAE: 0.7752\n"
     ]
    },
    {
     "name": "stderr",
     "output_type": "stream",
     "text": [
      "Training Epoch 72: 100%|██████████| 890/890 [00:10<00:00, 88.09it/s]\n",
      "Training Epoch 73: 100%|██████████| 890/890 [00:09<00:00, 90.62it/s]\n",
      "Training Epoch 74: 100%|██████████| 890/890 [00:10<00:00, 88.53it/s]\n",
      "Training Epoch 75: 100%|██████████| 890/890 [00:10<00:00, 88.06it/s]\n",
      "Training Epoch 76: 100%|██████████| 890/890 [00:10<00:00, 88.16it/s]\n",
      "Training Epoch 77: 100%|██████████| 890/890 [00:09<00:00, 89.44it/s]\n",
      "Training Epoch 78: 100%|██████████| 890/890 [00:10<00:00, 88.36it/s]\n",
      "Training Epoch 79: 100%|██████████| 890/890 [00:10<00:00, 87.91it/s]\n",
      "Training Epoch 80: 100%|██████████| 890/890 [00:09<00:00, 89.76it/s]\n",
      "Training Epoch 81: 100%|██████████| 890/890 [00:09<00:00, 89.72it/s]\n"
     ]
    },
    {
     "name": "stdout",
     "output_type": "stream",
     "text": [
      "Epoch 80 - Train Loss: 0.3005, Train MSE: 0.3008, Train MAE: 0.4181\n",
      "Epoch 80 - Validation Loss: 1.0587, Validation MSE: 1.0565, Validation MAE: 0.7904\n"
     ]
    },
    {
     "name": "stderr",
     "output_type": "stream",
     "text": [
      "Training Epoch 82: 100%|██████████| 890/890 [00:09<00:00, 95.19it/s]\n",
      "Training Epoch 83: 100%|██████████| 890/890 [00:09<00:00, 94.56it/s] \n",
      "Training Epoch 84: 100%|██████████| 890/890 [00:09<00:00, 95.35it/s] \n",
      "Training Epoch 85: 100%|██████████| 890/890 [00:09<00:00, 92.74it/s]\n",
      "Training Epoch 86: 100%|██████████| 890/890 [00:09<00:00, 97.05it/s] \n",
      "Training Epoch 87: 100%|██████████| 890/890 [00:09<00:00, 92.80it/s]\n",
      "Training Epoch 88: 100%|██████████| 890/890 [00:09<00:00, 95.37it/s]\n",
      "Training Epoch 89: 100%|██████████| 890/890 [00:09<00:00, 93.78it/s]\n",
      "Training Epoch 90: 100%|██████████| 890/890 [00:09<00:00, 94.03it/s]\n",
      "Training Epoch 91: 100%|██████████| 890/890 [00:09<00:00, 92.97it/s]\n"
     ]
    },
    {
     "name": "stdout",
     "output_type": "stream",
     "text": [
      "Epoch 90 - Train Loss: 0.2612, Train MSE: 0.2614, Train MAE: 0.3894\n",
      "Epoch 90 - Validation Loss: 1.0539, Validation MSE: 1.0520, Validation MAE: 0.7836\n"
     ]
    },
    {
     "name": "stderr",
     "output_type": "stream",
     "text": [
      "Training Epoch 92: 100%|██████████| 890/890 [00:09<00:00, 93.41it/s]\n",
      "Training Epoch 93: 100%|██████████| 890/890 [00:09<00:00, 96.43it/s] \n",
      "Training Epoch 94: 100%|██████████| 890/890 [00:09<00:00, 93.25it/s]\n",
      "Training Epoch 95: 100%|██████████| 890/890 [00:09<00:00, 93.16it/s]\n",
      "Training Epoch 96: 100%|██████████| 890/890 [00:09<00:00, 93.62it/s] \n",
      "Training Epoch 97: 100%|██████████| 890/890 [00:09<00:00, 92.72it/s]\n",
      "Training Epoch 98: 100%|██████████| 890/890 [00:09<00:00, 96.61it/s] \n",
      "Training Epoch 99: 100%|██████████| 890/890 [00:09<00:00, 94.06it/s]\n",
      "Training Epoch 100: 100%|██████████| 890/890 [00:09<00:00, 93.49it/s] \n",
      "Training Epoch 101: 100%|██████████| 890/890 [00:09<00:00, 94.36it/s]\n"
     ]
    },
    {
     "name": "stdout",
     "output_type": "stream",
     "text": [
      "Epoch 100 - Train Loss: 0.2399, Train MSE: 0.2393, Train MAE: 0.3723\n",
      "Epoch 100 - Validation Loss: 1.0665, Validation MSE: 1.0673, Validation MAE: 0.7929\n"
     ]
    },
    {
     "name": "stderr",
     "output_type": "stream",
     "text": [
      "Training Epoch 102: 100%|██████████| 890/890 [00:09<00:00, 93.88it/s]\n",
      "Training Epoch 103: 100%|██████████| 890/890 [00:09<00:00, 95.66it/s] \n",
      "Training Epoch 104: 100%|██████████| 890/890 [00:09<00:00, 93.33it/s]\n",
      "Training Epoch 105: 100%|██████████| 890/890 [00:09<00:00, 94.78it/s] \n",
      "Training Epoch 106: 100%|██████████| 890/890 [00:09<00:00, 92.21it/s]\n",
      "Training Epoch 107: 100%|██████████| 890/890 [00:09<00:00, 95.66it/s] \n",
      "Training Epoch 108: 100%|██████████| 890/890 [00:09<00:00, 94.32it/s]\n",
      "Training Epoch 109: 100%|██████████| 890/890 [00:09<00:00, 95.71it/s] \n",
      "Training Epoch 110: 100%|██████████| 890/890 [00:09<00:00, 94.93it/s]\n",
      "Training Epoch 111: 100%|██████████| 890/890 [00:09<00:00, 93.56it/s]\n"
     ]
    },
    {
     "name": "stdout",
     "output_type": "stream",
     "text": [
      "Epoch 110 - Train Loss: 0.2158, Train MSE: 0.2159, Train MAE: 0.3542\n",
      "Epoch 110 - Validation Loss: 1.0705, Validation MSE: 1.0674, Validation MAE: 0.7894\n"
     ]
    },
    {
     "name": "stderr",
     "output_type": "stream",
     "text": [
      "Training Epoch 112: 100%|██████████| 890/890 [00:09<00:00, 95.47it/s] \n",
      "Training Epoch 113: 100%|██████████| 890/890 [00:09<00:00, 93.06it/s]\n",
      "Training Epoch 114: 100%|██████████| 890/890 [00:09<00:00, 93.00it/s]\n",
      "Training Epoch 115: 100%|██████████| 890/890 [00:09<00:00, 96.32it/s] \n",
      "Training Epoch 116: 100%|██████████| 890/890 [00:09<00:00, 94.27it/s]\n",
      "Training Epoch 117: 100%|██████████| 890/890 [00:09<00:00, 92.55it/s]\n",
      "Training Epoch 118: 100%|██████████| 890/890 [00:09<00:00, 97.03it/s] \n",
      "Training Epoch 119: 100%|██████████| 890/890 [00:09<00:00, 92.78it/s]\n",
      "Training Epoch 120: 100%|██████████| 890/890 [00:09<00:00, 93.05it/s]\n",
      "Training Epoch 121: 100%|██████████| 890/890 [00:09<00:00, 95.63it/s] \n"
     ]
    },
    {
     "name": "stdout",
     "output_type": "stream",
     "text": [
      "Epoch 120 - Train Loss: 0.2022, Train MSE: 0.2024, Train MAE: 0.3418\n",
      "Epoch 120 - Validation Loss: 1.0062, Validation MSE: 1.0068, Validation MAE: 0.7653\n"
     ]
    },
    {
     "name": "stderr",
     "output_type": "stream",
     "text": [
      "Training Epoch 122: 100%|██████████| 890/890 [00:09<00:00, 94.47it/s]\n",
      "Training Epoch 123: 100%|██████████| 890/890 [00:09<00:00, 94.51it/s]\n",
      "Training Epoch 124: 100%|██████████| 890/890 [00:09<00:00, 96.02it/s] \n",
      "Training Epoch 125: 100%|██████████| 890/890 [00:09<00:00, 93.28it/s]\n",
      "Training Epoch 126: 100%|██████████| 890/890 [00:09<00:00, 92.21it/s]\n",
      "Training Epoch 127: 100%|██████████| 890/890 [00:09<00:00, 93.64it/s]\n",
      "Training Epoch 128: 100%|██████████| 890/890 [00:09<00:00, 95.62it/s] \n",
      "Training Epoch 129: 100%|██████████| 890/890 [00:09<00:00, 93.50it/s]\n",
      "Training Epoch 130: 100%|██████████| 890/890 [00:09<00:00, 94.45it/s]\n",
      "Training Epoch 131: 100%|██████████| 890/890 [00:09<00:00, 94.16it/s] \n"
     ]
    },
    {
     "name": "stdout",
     "output_type": "stream",
     "text": [
      "Epoch 130 - Train Loss: 0.1849, Train MSE: 0.1846, Train MAE: 0.3264\n",
      "Epoch 130 - Validation Loss: 1.0446, Validation MSE: 1.0461, Validation MAE: 0.7786\n"
     ]
    },
    {
     "name": "stderr",
     "output_type": "stream",
     "text": [
      "Training Epoch 132: 100%|██████████| 890/890 [00:09<00:00, 94.03it/s] \n",
      "Training Epoch 133: 100%|██████████| 890/890 [00:09<00:00, 92.80it/s]\n",
      "Training Epoch 134: 100%|██████████| 890/890 [00:09<00:00, 94.05it/s]\n",
      "Training Epoch 135: 100%|██████████| 890/890 [00:09<00:00, 94.12it/s] \n",
      "Training Epoch 136: 100%|██████████| 890/890 [00:09<00:00, 92.06it/s]\n",
      "Training Epoch 137: 100%|██████████| 890/890 [00:09<00:00, 96.69it/s] \n",
      "Training Epoch 138: 100%|██████████| 890/890 [00:09<00:00, 93.36it/s]\n",
      "Training Epoch 139: 100%|██████████| 890/890 [00:09<00:00, 93.55it/s]\n",
      "Training Epoch 140: 100%|██████████| 890/890 [00:09<00:00, 95.49it/s] \n",
      "Training Epoch 141: 100%|██████████| 890/890 [00:09<00:00, 92.88it/s]\n"
     ]
    },
    {
     "name": "stdout",
     "output_type": "stream",
     "text": [
      "Epoch 140 - Train Loss: 0.1726, Train MSE: 0.1722, Train MAE: 0.3155\n",
      "Epoch 140 - Validation Loss: 1.0049, Validation MSE: 1.0045, Validation MAE: 0.7652\n"
     ]
    },
    {
     "name": "stderr",
     "output_type": "stream",
     "text": [
      "Training Epoch 142: 100%|██████████| 890/890 [00:09<00:00, 92.89it/s]\n",
      "Training Epoch 143: 100%|██████████| 890/890 [00:09<00:00, 94.88it/s]\n",
      "Training Epoch 144: 100%|██████████| 890/890 [00:09<00:00, 92.55it/s]\n",
      "Training Epoch 145: 100%|██████████| 890/890 [00:09<00:00, 94.82it/s]\n",
      "Training Epoch 146: 100%|██████████| 890/890 [00:09<00:00, 93.49it/s]\n",
      "Training Epoch 147: 100%|██████████| 890/890 [00:09<00:00, 95.90it/s]\n",
      "Training Epoch 148: 100%|██████████| 890/890 [00:09<00:00, 92.14it/s]\n",
      "Training Epoch 149: 100%|██████████| 890/890 [00:09<00:00, 93.44it/s]\n",
      "Training Epoch 150: 100%|██████████| 890/890 [00:09<00:00, 96.13it/s] \n",
      "Training Epoch 151: 100%|██████████| 890/890 [00:09<00:00, 94.98it/s]\n"
     ]
    },
    {
     "name": "stdout",
     "output_type": "stream",
     "text": [
      "Epoch 150 - Train Loss: 0.1657, Train MSE: 0.1659, Train MAE: 0.3077\n",
      "Epoch 150 - Validation Loss: 1.0361, Validation MSE: 1.0350, Validation MAE: 0.7742\n"
     ]
    },
    {
     "name": "stderr",
     "output_type": "stream",
     "text": [
      "Training Epoch 152: 100%|██████████| 890/890 [00:09<00:00, 92.84it/s]\n",
      "Training Epoch 153: 100%|██████████| 890/890 [00:09<00:00, 94.51it/s]\n",
      "Training Epoch 154: 100%|██████████| 890/890 [00:09<00:00, 93.25it/s]\n",
      "Training Epoch 155: 100%|██████████| 890/890 [00:09<00:00, 93.05it/s]\n",
      "Training Epoch 156: 100%|██████████| 890/890 [00:09<00:00, 90.25it/s]\n",
      "Training Epoch 157: 100%|██████████| 890/890 [00:11<00:00, 79.59it/s]\n",
      "Training Epoch 158: 100%|██████████| 890/890 [00:09<00:00, 93.55it/s]\n",
      "Training Epoch 159: 100%|██████████| 890/890 [00:09<00:00, 92.65it/s] \n",
      "Training Epoch 160: 100%|██████████| 890/890 [00:10<00:00, 88.30it/s]\n",
      "Training Epoch 161: 100%|██████████| 890/890 [00:09<00:00, 92.70it/s]\n"
     ]
    },
    {
     "name": "stdout",
     "output_type": "stream",
     "text": [
      "Epoch 160 - Train Loss: 0.1555, Train MSE: 0.1556, Train MAE: 0.2983\n",
      "Epoch 160 - Validation Loss: 1.0185, Validation MSE: 1.0170, Validation MAE: 0.7686\n"
     ]
    },
    {
     "name": "stderr",
     "output_type": "stream",
     "text": [
      "Training Epoch 162: 100%|██████████| 890/890 [00:09<00:00, 95.39it/s] \n",
      "Training Epoch 163: 100%|██████████| 890/890 [00:09<00:00, 92.23it/s]\n",
      "Training Epoch 164: 100%|██████████| 890/890 [00:09<00:00, 90.74it/s]\n",
      "Training Epoch 165: 100%|██████████| 890/890 [00:09<00:00, 93.06it/s] \n",
      "Training Epoch 166: 100%|██████████| 890/890 [00:09<00:00, 90.50it/s]\n",
      "Training Epoch 167: 100%|██████████| 890/890 [00:09<00:00, 92.57it/s]\n",
      "Training Epoch 168: 100%|██████████| 890/890 [00:09<00:00, 95.32it/s] \n",
      "Training Epoch 169: 100%|██████████| 890/890 [00:09<00:00, 91.85it/s]\n",
      "Training Epoch 170: 100%|██████████| 890/890 [00:09<00:00, 92.84it/s]\n",
      "Training Epoch 171: 100%|██████████| 890/890 [00:09<00:00, 92.52it/s]\n"
     ]
    },
    {
     "name": "stdout",
     "output_type": "stream",
     "text": [
      "Epoch 170 - Train Loss: 0.1497, Train MSE: 0.1498, Train MAE: 0.2930\n",
      "Epoch 170 - Validation Loss: 1.0032, Validation MSE: 1.0026, Validation MAE: 0.7633\n"
     ]
    },
    {
     "name": "stderr",
     "output_type": "stream",
     "text": [
      "Training Epoch 172: 100%|██████████| 890/890 [00:09<00:00, 91.99it/s]\n",
      "Training Epoch 173: 100%|██████████| 890/890 [00:09<00:00, 92.33it/s]\n",
      "Training Epoch 174: 100%|██████████| 890/890 [00:09<00:00, 91.99it/s]\n",
      "Training Epoch 175: 100%|██████████| 890/890 [00:09<00:00, 90.34it/s]\n",
      "Training Epoch 176: 100%|██████████| 890/890 [00:10<00:00, 87.91it/s]\n",
      "Training Epoch 177: 100%|██████████| 890/890 [00:10<00:00, 89.00it/s]\n",
      "Training Epoch 178: 100%|██████████| 890/890 [00:09<00:00, 92.37it/s]\n",
      "Training Epoch 179: 100%|██████████| 890/890 [00:09<00:00, 91.61it/s]\n",
      "Training Epoch 180: 100%|██████████| 890/890 [00:09<00:00, 93.87it/s]\n",
      "Training Epoch 181: 100%|██████████| 890/890 [00:09<00:00, 93.62it/s]\n"
     ]
    },
    {
     "name": "stdout",
     "output_type": "stream",
     "text": [
      "Epoch 180 - Train Loss: 0.1408, Train MSE: 0.1410, Train MAE: 0.2856\n",
      "Epoch 180 - Validation Loss: 1.0016, Validation MSE: 1.0021, Validation MAE: 0.7629\n"
     ]
    },
    {
     "name": "stderr",
     "output_type": "stream",
     "text": [
      "Training Epoch 182: 100%|██████████| 890/890 [00:09<00:00, 93.12it/s]\n",
      "Training Epoch 183: 100%|██████████| 890/890 [00:09<00:00, 91.15it/s]\n",
      "Training Epoch 184: 100%|██████████| 890/890 [00:09<00:00, 91.55it/s]\n",
      "Training Epoch 185: 100%|██████████| 890/890 [00:09<00:00, 91.47it/s]\n",
      "Training Epoch 186: 100%|██████████| 890/890 [00:09<00:00, 92.92it/s]\n",
      "Training Epoch 187: 100%|██████████| 890/890 [00:09<00:00, 94.46it/s] \n",
      "Training Epoch 188: 100%|██████████| 890/890 [00:09<00:00, 92.05it/s]\n",
      "Training Epoch 189: 100%|██████████| 890/890 [00:09<00:00, 93.72it/s]\n",
      "Training Epoch 190: 100%|██████████| 890/890 [00:09<00:00, 92.04it/s]\n",
      "Training Epoch 191: 100%|██████████| 890/890 [00:09<00:00, 89.47it/s]\n"
     ]
    },
    {
     "name": "stdout",
     "output_type": "stream",
     "text": [
      "Epoch 190 - Train Loss: 0.1319, Train MSE: 0.1320, Train MAE: 0.2755\n",
      "Epoch 190 - Validation Loss: 1.0117, Validation MSE: 1.0132, Validation MAE: 0.7708\n"
     ]
    },
    {
     "name": "stderr",
     "output_type": "stream",
     "text": [
      "Training Epoch 192: 100%|██████████| 890/890 [00:10<00:00, 87.80it/s]\n",
      "Training Epoch 193: 100%|██████████| 890/890 [00:09<00:00, 93.85it/s]\n",
      "Training Epoch 194: 100%|██████████| 890/890 [00:09<00:00, 90.64it/s]\n",
      "Training Epoch 195: 100%|██████████| 890/890 [00:09<00:00, 89.63it/s]\n",
      "Training Epoch 196: 100%|██████████| 890/890 [00:09<00:00, 90.01it/s]\n",
      "Training Epoch 197: 100%|██████████| 890/890 [00:09<00:00, 92.57it/s]\n",
      "Training Epoch 198: 100%|██████████| 890/890 [00:09<00:00, 92.37it/s]\n",
      "Training Epoch 199: 100%|██████████| 890/890 [00:09<00:00, 96.10it/s] \n",
      "Training Epoch 200: 100%|██████████| 890/890 [00:09<00:00, 92.62it/s]\n",
      "Training Epoch 201: 100%|██████████| 890/890 [00:09<00:00, 96.07it/s] \n"
     ]
    },
    {
     "name": "stdout",
     "output_type": "stream",
     "text": [
      "Epoch 200 - Train Loss: 0.1288, Train MSE: 0.1288, Train MAE: 0.2725\n",
      "Epoch 200 - Validation Loss: 1.0227, Validation MSE: 1.0253, Validation MAE: 0.7691\n"
     ]
    },
    {
     "name": "stderr",
     "output_type": "stream",
     "text": [
      "Training Epoch 202: 100%|██████████| 890/890 [00:09<00:00, 92.88it/s]\n",
      "Training Epoch 203: 100%|██████████| 890/890 [00:09<00:00, 92.00it/s]\n",
      "Training Epoch 204: 100%|██████████| 890/890 [00:09<00:00, 91.49it/s]\n",
      "Training Epoch 205: 100%|██████████| 890/890 [00:09<00:00, 94.40it/s]\n",
      "Training Epoch 206: 100%|██████████| 890/890 [00:09<00:00, 93.82it/s]\n",
      "Training Epoch 207: 100%|██████████| 890/890 [00:09<00:00, 92.31it/s]\n",
      "Training Epoch 208: 100%|██████████| 890/890 [00:09<00:00, 92.57it/s]\n",
      "Training Epoch 209: 100%|██████████| 890/890 [00:09<00:00, 93.82it/s]\n",
      "Training Epoch 210: 100%|██████████| 890/890 [00:10<00:00, 84.94it/s]\n",
      "Training Epoch 211: 100%|██████████| 890/890 [00:10<00:00, 88.18it/s]\n"
     ]
    },
    {
     "name": "stdout",
     "output_type": "stream",
     "text": [
      "Epoch 210 - Train Loss: 0.1238, Train MSE: 0.1240, Train MAE: 0.2661\n",
      "Epoch 210 - Validation Loss: 1.0077, Validation MSE: 1.0079, Validation MAE: 0.7656\n"
     ]
    },
    {
     "name": "stderr",
     "output_type": "stream",
     "text": [
      "Training Epoch 212: 100%|██████████| 890/890 [00:09<00:00, 90.63it/s]\n",
      "Training Epoch 213: 100%|██████████| 890/890 [00:09<00:00, 89.90it/s]\n",
      "Training Epoch 214: 100%|██████████| 890/890 [00:10<00:00, 87.57it/s]\n",
      "Training Epoch 215: 100%|██████████| 890/890 [00:09<00:00, 90.35it/s]\n",
      "Training Epoch 216: 100%|██████████| 890/890 [00:09<00:00, 91.74it/s]\n",
      "Training Epoch 217: 100%|██████████| 890/890 [00:10<00:00, 88.13it/s]\n",
      "Training Epoch 218: 100%|██████████| 890/890 [00:09<00:00, 94.28it/s] \n",
      "Training Epoch 219: 100%|██████████| 890/890 [00:09<00:00, 89.59it/s]\n",
      "Training Epoch 220: 100%|██████████| 890/890 [00:10<00:00, 87.78it/s]\n",
      "Training Epoch 221: 100%|██████████| 890/890 [00:09<00:00, 89.18it/s] \n"
     ]
    },
    {
     "name": "stdout",
     "output_type": "stream",
     "text": [
      "Epoch 220 - Train Loss: 0.1175, Train MSE: 0.1175, Train MAE: 0.2595\n",
      "Epoch 220 - Validation Loss: 1.0156, Validation MSE: 1.0165, Validation MAE: 0.7706\n"
     ]
    },
    {
     "name": "stderr",
     "output_type": "stream",
     "text": [
      "Training Epoch 222: 100%|██████████| 890/890 [00:09<00:00, 90.73it/s]\n",
      "Training Epoch 223: 100%|██████████| 890/890 [00:09<00:00, 92.73it/s]\n",
      "Training Epoch 224: 100%|██████████| 890/890 [00:09<00:00, 93.79it/s] \n",
      "Training Epoch 225: 100%|██████████| 890/890 [00:09<00:00, 93.69it/s] \n",
      "Training Epoch 226: 100%|██████████| 890/890 [00:09<00:00, 90.32it/s]\n",
      "Training Epoch 227: 100%|██████████| 890/890 [00:09<00:00, 91.35it/s]\n",
      "Training Epoch 228: 100%|██████████| 890/890 [00:09<00:00, 90.30it/s]\n",
      "Training Epoch 229: 100%|██████████| 890/890 [00:09<00:00, 91.15it/s]\n",
      "Training Epoch 230: 100%|██████████| 890/890 [00:09<00:00, 92.24it/s]\n",
      "Training Epoch 231: 100%|██████████| 890/890 [00:10<00:00, 88.71it/s]\n"
     ]
    },
    {
     "name": "stdout",
     "output_type": "stream",
     "text": [
      "Epoch 230 - Train Loss: 0.1143, Train MSE: 0.1141, Train MAE: 0.2545\n",
      "Epoch 230 - Validation Loss: 0.9912, Validation MSE: 0.9911, Validation MAE: 0.7613\n"
     ]
    },
    {
     "name": "stderr",
     "output_type": "stream",
     "text": [
      "Training Epoch 232: 100%|██████████| 890/890 [00:09<00:00, 90.91it/s]\n",
      "Training Epoch 233: 100%|██████████| 890/890 [00:09<00:00, 91.66it/s]\n",
      "Training Epoch 234: 100%|██████████| 890/890 [00:09<00:00, 89.82it/s]\n",
      "Training Epoch 235: 100%|██████████| 890/890 [00:10<00:00, 88.79it/s]\n",
      "Training Epoch 236: 100%|██████████| 890/890 [00:09<00:00, 92.42it/s]\n",
      "Training Epoch 237: 100%|██████████| 890/890 [00:10<00:00, 87.31it/s]\n",
      "Training Epoch 238: 100%|██████████| 890/890 [00:09<00:00, 90.18it/s]\n",
      "Training Epoch 239: 100%|██████████| 890/890 [00:09<00:00, 91.39it/s]\n",
      "Training Epoch 240: 100%|██████████| 890/890 [00:09<00:00, 89.11it/s]\n",
      "Training Epoch 241: 100%|██████████| 890/890 [00:10<00:00, 88.46it/s]\n"
     ]
    },
    {
     "name": "stdout",
     "output_type": "stream",
     "text": [
      "Epoch 240 - Train Loss: 0.1098, Train MSE: 0.1099, Train MAE: 0.2492\n",
      "Epoch 240 - Validation Loss: 0.9857, Validation MSE: 0.9865, Validation MAE: 0.7574\n"
     ]
    },
    {
     "name": "stderr",
     "output_type": "stream",
     "text": [
      "Training Epoch 242: 100%|██████████| 890/890 [00:09<00:00, 93.81it/s] \n",
      "Training Epoch 243: 100%|██████████| 890/890 [00:09<00:00, 90.49it/s]\n",
      "Training Epoch 244: 100%|██████████| 890/890 [00:09<00:00, 91.20it/s] \n",
      "Training Epoch 245: 100%|██████████| 890/890 [00:09<00:00, 89.87it/s]\n",
      "Training Epoch 246: 100%|██████████| 890/890 [00:09<00:00, 90.39it/s]\n",
      "Training Epoch 247: 100%|██████████| 890/890 [00:09<00:00, 92.34it/s]\n",
      "Training Epoch 248: 100%|██████████| 890/890 [00:09<00:00, 92.23it/s]\n",
      "Training Epoch 249: 100%|██████████| 890/890 [00:09<00:00, 92.30it/s] \n",
      "Training Epoch 250: 100%|██████████| 890/890 [00:09<00:00, 91.29it/s]\n",
      "Training Epoch 251: 100%|██████████| 890/890 [00:09<00:00, 92.75it/s] \n"
     ]
    },
    {
     "name": "stdout",
     "output_type": "stream",
     "text": [
      "Epoch 250 - Train Loss: 0.1060, Train MSE: 0.1061, Train MAE: 0.2449\n",
      "Epoch 250 - Validation Loss: 1.0006, Validation MSE: 1.0029, Validation MAE: 0.7637\n"
     ]
    },
    {
     "name": "stderr",
     "output_type": "stream",
     "text": [
      "Training Epoch 252: 100%|██████████| 890/890 [00:09<00:00, 93.46it/s]\n",
      "Training Epoch 253: 100%|██████████| 890/890 [00:09<00:00, 90.41it/s]\n",
      "Training Epoch 254: 100%|██████████| 890/890 [00:09<00:00, 90.48it/s]\n",
      "Training Epoch 255: 100%|██████████| 890/890 [00:10<00:00, 87.68it/s]\n",
      "Training Epoch 256: 100%|██████████| 890/890 [00:09<00:00, 90.94it/s]\n",
      "Training Epoch 257: 100%|██████████| 890/890 [00:09<00:00, 90.09it/s] \n",
      "Training Epoch 258: 100%|██████████| 890/890 [00:09<00:00, 92.48it/s] \n",
      "Training Epoch 259: 100%|██████████| 890/890 [00:09<00:00, 91.41it/s]\n",
      "Training Epoch 260: 100%|██████████| 890/890 [00:09<00:00, 92.51it/s]\n",
      "Training Epoch 261: 100%|██████████| 890/890 [00:09<00:00, 92.30it/s]\n"
     ]
    },
    {
     "name": "stdout",
     "output_type": "stream",
     "text": [
      "Epoch 260 - Train Loss: 0.1039, Train MSE: 0.1040, Train MAE: 0.2422\n",
      "Epoch 260 - Validation Loss: 0.9959, Validation MSE: 0.9961, Validation MAE: 0.7630\n"
     ]
    },
    {
     "name": "stderr",
     "output_type": "stream",
     "text": [
      "Training Epoch 262: 100%|██████████| 890/890 [00:09<00:00, 92.25it/s] \n",
      "Training Epoch 263: 100%|██████████| 890/890 [00:09<00:00, 89.82it/s]\n",
      "Training Epoch 264: 100%|██████████| 890/890 [00:09<00:00, 98.48it/s] \n",
      "Training Epoch 265: 100%|██████████| 890/890 [00:09<00:00, 93.41it/s] \n",
      "Training Epoch 266: 100%|██████████| 890/890 [00:09<00:00, 92.64it/s]\n",
      "Training Epoch 267: 100%|██████████| 890/890 [00:09<00:00, 93.73it/s] \n",
      "Training Epoch 268: 100%|██████████| 890/890 [00:09<00:00, 93.40it/s] \n",
      "Training Epoch 269: 100%|██████████| 890/890 [00:09<00:00, 91.98it/s] \n",
      "Training Epoch 270: 100%|██████████| 890/890 [00:09<00:00, 94.55it/s] \n",
      "Training Epoch 271: 100%|██████████| 890/890 [00:09<00:00, 95.41it/s] \n"
     ]
    },
    {
     "name": "stdout",
     "output_type": "stream",
     "text": [
      "Epoch 270 - Train Loss: 0.0996, Train MSE: 0.0996, Train MAE: 0.2373\n",
      "Epoch 270 - Validation Loss: 0.9736, Validation MSE: 0.9746, Validation MAE: 0.7533\n"
     ]
    },
    {
     "name": "stderr",
     "output_type": "stream",
     "text": [
      "Training Epoch 272: 100%|██████████| 890/890 [00:09<00:00, 92.50it/s]\n",
      "Training Epoch 273: 100%|██████████| 890/890 [00:09<00:00, 89.70it/s]\n",
      "Training Epoch 274: 100%|██████████| 890/890 [00:09<00:00, 93.19it/s] \n",
      "Training Epoch 275: 100%|██████████| 890/890 [00:09<00:00, 92.78it/s]\n",
      "Training Epoch 276: 100%|██████████| 890/890 [00:09<00:00, 90.87it/s]\n",
      "Training Epoch 277: 100%|██████████| 890/890 [00:09<00:00, 92.05it/s] \n",
      "Training Epoch 278: 100%|██████████| 890/890 [00:09<00:00, 94.09it/s] \n",
      "Training Epoch 279: 100%|██████████| 890/890 [00:09<00:00, 89.81it/s]\n",
      "Training Epoch 280: 100%|██████████| 890/890 [00:09<00:00, 95.33it/s] \n",
      "Training Epoch 281: 100%|██████████| 890/890 [00:09<00:00, 92.15it/s]\n"
     ]
    },
    {
     "name": "stdout",
     "output_type": "stream",
     "text": [
      "Epoch 280 - Train Loss: 0.0991, Train MSE: 0.0990, Train MAE: 0.2363\n",
      "Epoch 280 - Validation Loss: 1.0020, Validation MSE: 1.0044, Validation MAE: 0.7624\n"
     ]
    },
    {
     "name": "stderr",
     "output_type": "stream",
     "text": [
      "Training Epoch 282: 100%|██████████| 890/890 [00:09<00:00, 92.76it/s] \n",
      "Training Epoch 283: 100%|██████████| 890/890 [00:09<00:00, 96.24it/s] \n",
      "Training Epoch 284: 100%|██████████| 890/890 [00:09<00:00, 92.69it/s] \n",
      "Training Epoch 285: 100%|██████████| 890/890 [00:09<00:00, 94.25it/s] \n",
      "Training Epoch 286: 100%|██████████| 890/890 [00:09<00:00, 94.48it/s] \n",
      "Training Epoch 287: 100%|██████████| 890/890 [00:09<00:00, 93.17it/s] \n",
      "Training Epoch 288: 100%|██████████| 890/890 [00:09<00:00, 95.08it/s]\n",
      "Training Epoch 289: 100%|██████████| 890/890 [00:09<00:00, 95.83it/s] \n",
      "Training Epoch 290: 100%|██████████| 890/890 [00:09<00:00, 94.02it/s]\n",
      "Training Epoch 291: 100%|██████████| 890/890 [00:09<00:00, 90.36it/s]\n"
     ]
    },
    {
     "name": "stdout",
     "output_type": "stream",
     "text": [
      "Epoch 290 - Train Loss: 0.0982, Train MSE: 0.0981, Train MAE: 0.2341\n",
      "Epoch 290 - Validation Loss: 0.9762, Validation MSE: 0.9765, Validation MAE: 0.7546\n"
     ]
    },
    {
     "name": "stderr",
     "output_type": "stream",
     "text": [
      "Training Epoch 292: 100%|██████████| 890/890 [00:09<00:00, 94.55it/s] \n",
      "Training Epoch 293: 100%|██████████| 890/890 [00:09<00:00, 94.59it/s] \n",
      "Training Epoch 294: 100%|██████████| 890/890 [00:09<00:00, 91.02it/s] \n",
      "Training Epoch 295: 100%|██████████| 890/890 [00:09<00:00, 94.05it/s] \n",
      "Training Epoch 296: 100%|██████████| 890/890 [00:08<00:00, 98.99it/s] \n",
      "Training Epoch 297: 100%|██████████| 890/890 [00:09<00:00, 90.82it/s] \n",
      "Training Epoch 298: 100%|██████████| 890/890 [00:09<00:00, 93.91it/s] \n",
      "Training Epoch 299: 100%|██████████| 890/890 [00:09<00:00, 94.57it/s] \n",
      "Training Epoch 300: 100%|██████████| 890/890 [00:09<00:00, 93.61it/s] \n",
      "Training Epoch 301: 100%|██████████| 890/890 [00:09<00:00, 94.75it/s] \n"
     ]
    },
    {
     "name": "stdout",
     "output_type": "stream",
     "text": [
      "Epoch 300 - Train Loss: 0.0931, Train MSE: 0.0932, Train MAE: 0.2288\n",
      "Epoch 300 - Validation Loss: 1.0094, Validation MSE: 1.0102, Validation MAE: 0.7647\n"
     ]
    },
    {
     "name": "stderr",
     "output_type": "stream",
     "text": [
      "Training Epoch 302: 100%|██████████| 890/890 [00:09<00:00, 98.07it/s] \n",
      "Training Epoch 303: 100%|██████████| 890/890 [00:09<00:00, 90.99it/s]\n",
      "Training Epoch 304: 100%|██████████| 890/890 [00:09<00:00, 93.14it/s]\n",
      "Training Epoch 305: 100%|██████████| 890/890 [00:09<00:00, 94.24it/s] \n",
      "Training Epoch 306: 100%|██████████| 890/890 [00:09<00:00, 93.24it/s] \n",
      "Training Epoch 307: 100%|██████████| 890/890 [00:09<00:00, 96.93it/s] \n",
      "Training Epoch 308: 100%|██████████| 890/890 [00:09<00:00, 98.07it/s] \n",
      "Training Epoch 309: 100%|██████████| 890/890 [00:09<00:00, 93.69it/s]\n",
      "Training Epoch 310: 100%|██████████| 890/890 [00:09<00:00, 91.86it/s]\n",
      "Training Epoch 311: 100%|██████████| 890/890 [00:09<00:00, 93.65it/s] \n"
     ]
    },
    {
     "name": "stdout",
     "output_type": "stream",
     "text": [
      "Epoch 310 - Train Loss: 0.0921, Train MSE: 0.0922, Train MAE: 0.2273\n",
      "Epoch 310 - Validation Loss: 0.9805, Validation MSE: 0.9802, Validation MAE: 0.7533\n"
     ]
    },
    {
     "name": "stderr",
     "output_type": "stream",
     "text": [
      "Training Epoch 312: 100%|██████████| 890/890 [00:09<00:00, 93.17it/s] \n",
      "Training Epoch 313: 100%|██████████| 890/890 [00:09<00:00, 91.76it/s]\n",
      "Training Epoch 314: 100%|██████████| 890/890 [00:09<00:00, 92.02it/s]\n",
      "Training Epoch 315: 100%|██████████| 890/890 [00:09<00:00, 94.82it/s] \n",
      "Training Epoch 316: 100%|██████████| 890/890 [00:09<00:00, 91.72it/s] \n",
      "Training Epoch 317: 100%|██████████| 890/890 [00:09<00:00, 93.17it/s] \n",
      "Training Epoch 318: 100%|██████████| 890/890 [00:09<00:00, 93.86it/s] \n",
      "Training Epoch 319: 100%|██████████| 890/890 [00:09<00:00, 92.19it/s] \n",
      "Training Epoch 320: 100%|██████████| 890/890 [00:09<00:00, 95.31it/s] \n",
      "Training Epoch 321: 100%|██████████| 890/890 [00:09<00:00, 94.68it/s] \n"
     ]
    },
    {
     "name": "stdout",
     "output_type": "stream",
     "text": [
      "Epoch 320 - Train Loss: 0.0891, Train MSE: 0.0889, Train MAE: 0.2233\n",
      "Epoch 320 - Validation Loss: 0.9800, Validation MSE: 0.9818, Validation MAE: 0.7549\n"
     ]
    },
    {
     "name": "stderr",
     "output_type": "stream",
     "text": [
      "Training Epoch 322: 100%|██████████| 890/890 [00:09<00:00, 93.68it/s] \n",
      "Training Epoch 323: 100%|██████████| 890/890 [00:09<00:00, 93.88it/s]\n",
      "Training Epoch 324: 100%|██████████| 890/890 [00:09<00:00, 94.12it/s] \n",
      "Training Epoch 325: 100%|██████████| 890/890 [00:09<00:00, 92.75it/s] \n",
      "Training Epoch 326: 100%|██████████| 890/890 [00:09<00:00, 91.89it/s]\n",
      "Training Epoch 327: 100%|██████████| 890/890 [00:09<00:00, 93.75it/s] \n",
      "Training Epoch 328: 100%|██████████| 890/890 [00:09<00:00, 91.32it/s]\n",
      "Training Epoch 329: 100%|██████████| 890/890 [00:09<00:00, 94.80it/s]\n",
      "Training Epoch 330: 100%|██████████| 890/890 [00:09<00:00, 94.55it/s] \n",
      "Training Epoch 331: 100%|██████████| 890/890 [00:09<00:00, 93.76it/s] \n"
     ]
    },
    {
     "name": "stdout",
     "output_type": "stream",
     "text": [
      "Epoch 330 - Train Loss: 0.0874, Train MSE: 0.0874, Train MAE: 0.2212\n",
      "Epoch 330 - Validation Loss: 0.9877, Validation MSE: 0.9884, Validation MAE: 0.7557\n"
     ]
    },
    {
     "name": "stderr",
     "output_type": "stream",
     "text": [
      "Training Epoch 332: 100%|██████████| 890/890 [00:09<00:00, 95.50it/s] \n",
      "Training Epoch 333: 100%|██████████| 890/890 [00:09<00:00, 94.23it/s] \n",
      "Training Epoch 334: 100%|██████████| 890/890 [00:09<00:00, 93.97it/s] \n",
      "Training Epoch 335: 100%|██████████| 890/890 [00:09<00:00, 94.69it/s]\n",
      "Training Epoch 336: 100%|██████████| 890/890 [00:09<00:00, 94.77it/s]\n",
      "Training Epoch 337: 100%|██████████| 890/890 [00:09<00:00, 94.33it/s] \n",
      "Training Epoch 338: 100%|██████████| 890/890 [00:09<00:00, 91.28it/s]\n",
      "Training Epoch 339: 100%|██████████| 890/890 [00:09<00:00, 91.51it/s] \n",
      "Training Epoch 340: 100%|██████████| 890/890 [00:09<00:00, 93.28it/s] \n",
      "Training Epoch 341: 100%|██████████| 890/890 [00:09<00:00, 93.51it/s] \n"
     ]
    },
    {
     "name": "stdout",
     "output_type": "stream",
     "text": [
      "Epoch 340 - Train Loss: 0.0879, Train MSE: 0.0880, Train MAE: 0.2192\n",
      "Epoch 340 - Validation Loss: 0.9901, Validation MSE: 0.9914, Validation MAE: 0.7585\n"
     ]
    },
    {
     "name": "stderr",
     "output_type": "stream",
     "text": [
      "Training Epoch 342: 100%|██████████| 890/890 [00:09<00:00, 95.07it/s]\n",
      "Training Epoch 343: 100%|██████████| 890/890 [00:09<00:00, 94.78it/s] \n",
      "Training Epoch 344: 100%|██████████| 890/890 [00:09<00:00, 90.75it/s]\n",
      "Training Epoch 345: 100%|██████████| 890/890 [00:09<00:00, 92.26it/s] \n",
      "Training Epoch 346: 100%|██████████| 890/890 [00:09<00:00, 94.65it/s] \n",
      "Training Epoch 347: 100%|██████████| 890/890 [00:09<00:00, 92.72it/s] \n",
      "Training Epoch 348: 100%|██████████| 890/890 [00:09<00:00, 89.47it/s]\n",
      "Training Epoch 349: 100%|██████████| 890/890 [00:09<00:00, 95.40it/s] \n",
      "Training Epoch 350: 100%|██████████| 890/890 [00:09<00:00, 94.80it/s] \n",
      "Training Epoch 351: 100%|██████████| 890/890 [00:09<00:00, 90.58it/s] \n"
     ]
    },
    {
     "name": "stdout",
     "output_type": "stream",
     "text": [
      "Epoch 350 - Train Loss: 0.0826, Train MSE: 0.0824, Train MAE: 0.2151\n",
      "Epoch 350 - Validation Loss: 1.0043, Validation MSE: 1.0048, Validation MAE: 0.7628\n"
     ]
    },
    {
     "name": "stderr",
     "output_type": "stream",
     "text": [
      "Training Epoch 352: 100%|██████████| 890/890 [00:09<00:00, 93.26it/s] \n",
      "Training Epoch 353: 100%|██████████| 890/890 [00:09<00:00, 93.76it/s] \n",
      "Training Epoch 354: 100%|██████████| 890/890 [00:09<00:00, 90.55it/s]\n",
      "Training Epoch 355: 100%|██████████| 890/890 [00:09<00:00, 91.90it/s] \n",
      "Training Epoch 356: 100%|██████████| 890/890 [00:09<00:00, 93.72it/s] \n",
      "Training Epoch 357: 100%|██████████| 890/890 [00:09<00:00, 96.79it/s] \n",
      "Training Epoch 358: 100%|██████████| 890/890 [00:09<00:00, 89.38it/s]\n",
      "Training Epoch 359: 100%|██████████| 890/890 [00:09<00:00, 93.59it/s] \n",
      "Training Epoch 360: 100%|██████████| 890/890 [00:09<00:00, 92.67it/s]\n",
      "Training Epoch 361: 100%|██████████| 890/890 [00:09<00:00, 90.80it/s] \n"
     ]
    },
    {
     "name": "stdout",
     "output_type": "stream",
     "text": [
      "Epoch 360 - Train Loss: 0.0816, Train MSE: 0.0816, Train MAE: 0.2137\n",
      "Epoch 360 - Validation Loss: 0.9754, Validation MSE: 0.9769, Validation MAE: 0.7526\n"
     ]
    },
    {
     "name": "stderr",
     "output_type": "stream",
     "text": [
      "Training Epoch 362: 100%|██████████| 890/890 [00:09<00:00, 93.14it/s] \n",
      "Training Epoch 363: 100%|██████████| 890/890 [00:09<00:00, 91.67it/s] \n",
      "Training Epoch 364: 100%|██████████| 890/890 [00:09<00:00, 92.98it/s] \n",
      "Training Epoch 365: 100%|██████████| 890/890 [00:09<00:00, 92.75it/s] \n",
      "Training Epoch 366: 100%|██████████| 890/890 [00:09<00:00, 91.77it/s]\n",
      "Training Epoch 367: 100%|██████████| 890/890 [00:09<00:00, 90.94it/s]\n",
      "Training Epoch 368: 100%|██████████| 890/890 [00:09<00:00, 98.55it/s] \n",
      "Training Epoch 369: 100%|██████████| 890/890 [00:09<00:00, 92.64it/s]\n",
      "Training Epoch 370: 100%|██████████| 890/890 [00:09<00:00, 91.65it/s]\n",
      "Training Epoch 371: 100%|██████████| 890/890 [00:09<00:00, 93.02it/s] \n"
     ]
    },
    {
     "name": "stdout",
     "output_type": "stream",
     "text": [
      "Epoch 370 - Train Loss: 0.0789, Train MSE: 0.0790, Train MAE: 0.2103\n",
      "Epoch 370 - Validation Loss: 0.9808, Validation MSE: 0.9813, Validation MAE: 0.7541\n"
     ]
    },
    {
     "name": "stderr",
     "output_type": "stream",
     "text": [
      "Training Epoch 372: 100%|██████████| 890/890 [00:09<00:00, 90.51it/s]\n",
      "Training Epoch 373: 100%|██████████| 890/890 [00:09<00:00, 89.87it/s]\n",
      "Training Epoch 374: 100%|██████████| 890/890 [00:09<00:00, 95.09it/s] \n",
      "Training Epoch 375: 100%|██████████| 890/890 [00:09<00:00, 91.98it/s] \n",
      "Training Epoch 376: 100%|██████████| 890/890 [00:09<00:00, 89.51it/s]\n",
      "Training Epoch 377: 100%|██████████| 890/890 [00:09<00:00, 94.15it/s] \n",
      "Training Epoch 378: 100%|██████████| 890/890 [00:09<00:00, 96.54it/s] \n",
      "Training Epoch 379: 100%|██████████| 890/890 [00:09<00:00, 93.63it/s] \n",
      "Training Epoch 380: 100%|██████████| 890/890 [00:09<00:00, 93.32it/s] \n",
      "Training Epoch 381: 100%|██████████| 890/890 [00:09<00:00, 94.74it/s] \n"
     ]
    },
    {
     "name": "stdout",
     "output_type": "stream",
     "text": [
      "Epoch 380 - Train Loss: 0.0813, Train MSE: 0.0813, Train MAE: 0.2113\n",
      "Epoch 380 - Validation Loss: 0.9737, Validation MSE: 0.9737, Validation MAE: 0.7533\n"
     ]
    },
    {
     "name": "stderr",
     "output_type": "stream",
     "text": [
      "Training Epoch 382: 100%|██████████| 890/890 [00:09<00:00, 91.06it/s]\n",
      "Training Epoch 383: 100%|██████████| 890/890 [00:09<00:00, 90.59it/s]\n",
      "Training Epoch 384: 100%|██████████| 890/890 [00:09<00:00, 91.42it/s] \n",
      "Training Epoch 385: 100%|██████████| 890/890 [00:09<00:00, 90.86it/s]\n",
      "Training Epoch 386: 100%|██████████| 890/890 [00:09<00:00, 93.59it/s] \n",
      "Training Epoch 387: 100%|██████████| 890/890 [00:09<00:00, 95.15it/s] \n",
      "Training Epoch 388: 100%|██████████| 890/890 [00:10<00:00, 88.09it/s]\n",
      "Training Epoch 389: 100%|██████████| 890/890 [00:09<00:00, 92.28it/s]\n",
      "Training Epoch 390: 100%|██████████| 890/890 [00:09<00:00, 93.15it/s] \n",
      "Training Epoch 391: 100%|██████████| 890/890 [00:09<00:00, 93.61it/s] \n"
     ]
    },
    {
     "name": "stdout",
     "output_type": "stream",
     "text": [
      "Epoch 390 - Train Loss: 0.0780, Train MSE: 0.0781, Train MAE: 0.2090\n",
      "Epoch 390 - Validation Loss: 0.9605, Validation MSE: 0.9614, Validation MAE: 0.7442\n"
     ]
    },
    {
     "name": "stderr",
     "output_type": "stream",
     "text": [
      "Training Epoch 392: 100%|██████████| 890/890 [00:09<00:00, 92.71it/s] \n",
      "Training Epoch 393: 100%|██████████| 890/890 [00:09<00:00, 96.96it/s] \n",
      "Training Epoch 394: 100%|██████████| 890/890 [00:09<00:00, 89.76it/s]\n",
      "Training Epoch 395: 100%|██████████| 890/890 [00:09<00:00, 90.95it/s]\n",
      "Training Epoch 396: 100%|██████████| 890/890 [00:09<00:00, 94.81it/s] \n",
      "Training Epoch 397: 100%|██████████| 890/890 [00:09<00:00, 93.97it/s]\n",
      "Training Epoch 398: 100%|██████████| 890/890 [00:09<00:00, 94.23it/s] \n",
      "Training Epoch 399: 100%|██████████| 890/890 [00:09<00:00, 93.47it/s]\n",
      "Training Epoch 400: 100%|██████████| 890/890 [00:09<00:00, 89.78it/s] \n",
      "Training Epoch 401: 100%|██████████| 890/890 [00:09<00:00, 94.50it/s]\n"
     ]
    },
    {
     "name": "stdout",
     "output_type": "stream",
     "text": [
      "Epoch 400 - Train Loss: 0.0762, Train MSE: 0.0761, Train MAE: 0.2063\n",
      "Epoch 400 - Validation Loss: 0.9887, Validation MSE: 0.9893, Validation MAE: 0.7554\n"
     ]
    },
    {
     "name": "stderr",
     "output_type": "stream",
     "text": [
      "Training Epoch 402: 100%|██████████| 890/890 [00:09<00:00, 93.04it/s]\n",
      "Training Epoch 403: 100%|██████████| 890/890 [00:09<00:00, 96.13it/s] \n",
      "Training Epoch 404: 100%|██████████| 890/890 [00:09<00:00, 93.75it/s]\n",
      "Training Epoch 405: 100%|██████████| 890/890 [00:09<00:00, 95.40it/s]\n",
      "Training Epoch 406: 100%|██████████| 890/890 [00:09<00:00, 95.80it/s] \n",
      "Training Epoch 407: 100%|██████████| 890/890 [00:09<00:00, 93.94it/s] \n",
      "Training Epoch 408: 100%|██████████| 890/890 [00:09<00:00, 93.53it/s]\n",
      "Training Epoch 409: 100%|██████████| 890/890 [00:09<00:00, 95.49it/s] \n",
      "Training Epoch 410: 100%|██████████| 890/890 [00:09<00:00, 93.91it/s]\n",
      "Training Epoch 411: 100%|██████████| 890/890 [00:09<00:00, 94.38it/s]\n"
     ]
    },
    {
     "name": "stdout",
     "output_type": "stream",
     "text": [
      "Epoch 410 - Train Loss: 0.0765, Train MSE: 0.0765, Train MAE: 0.2049\n",
      "Epoch 410 - Validation Loss: 0.9760, Validation MSE: 0.9770, Validation MAE: 0.7512\n"
     ]
    },
    {
     "name": "stderr",
     "output_type": "stream",
     "text": [
      "Training Epoch 412: 100%|██████████| 890/890 [00:09<00:00, 94.70it/s] \n",
      "Training Epoch 413: 100%|██████████| 890/890 [00:09<00:00, 93.42it/s]\n",
      "Training Epoch 414: 100%|██████████| 890/890 [00:09<00:00, 96.22it/s] \n",
      "Training Epoch 415: 100%|██████████| 890/890 [00:09<00:00, 96.15it/s] \n",
      "Training Epoch 416: 100%|██████████| 890/890 [00:09<00:00, 96.06it/s] \n",
      "Training Epoch 417: 100%|██████████| 890/890 [00:09<00:00, 94.16it/s]\n",
      "Training Epoch 418: 100%|██████████| 890/890 [00:09<00:00, 96.54it/s] \n",
      "Training Epoch 419: 100%|██████████| 890/890 [00:09<00:00, 96.28it/s]\n",
      "Training Epoch 420: 100%|██████████| 890/890 [00:09<00:00, 96.95it/s] \n",
      "Training Epoch 421: 100%|██████████| 890/890 [00:09<00:00, 96.03it/s] \n"
     ]
    },
    {
     "name": "stdout",
     "output_type": "stream",
     "text": [
      "Epoch 420 - Train Loss: 0.0736, Train MSE: 0.0737, Train MAE: 0.2030\n",
      "Epoch 420 - Validation Loss: 0.9662, Validation MSE: 0.9666, Validation MAE: 0.7444\n"
     ]
    },
    {
     "name": "stderr",
     "output_type": "stream",
     "text": [
      "Training Epoch 422: 100%|██████████| 890/890 [00:09<00:00, 96.35it/s] \n",
      "Training Epoch 423: 100%|██████████| 890/890 [00:09<00:00, 94.33it/s]\n",
      "Training Epoch 424: 100%|██████████| 890/890 [00:09<00:00, 93.45it/s]\n",
      "Training Epoch 425: 100%|██████████| 890/890 [00:10<00:00, 87.93it/s]\n",
      "Training Epoch 426: 100%|██████████| 890/890 [00:09<00:00, 91.39it/s]\n",
      "Training Epoch 427: 100%|██████████| 890/890 [00:11<00:00, 76.00it/s] \n",
      "Training Epoch 428: 100%|██████████| 890/890 [00:13<00:00, 66.06it/s] \n",
      "Training Epoch 429: 100%|██████████| 890/890 [00:09<00:00, 96.67it/s] \n",
      "Training Epoch 430: 100%|██████████| 890/890 [00:09<00:00, 94.98it/s] \n",
      "Training Epoch 431: 100%|██████████| 890/890 [00:15<00:00, 57.23it/s] \n"
     ]
    },
    {
     "name": "stdout",
     "output_type": "stream",
     "text": [
      "Epoch 430 - Train Loss: 0.0734, Train MSE: 0.0735, Train MAE: 0.2012\n",
      "Epoch 430 - Validation Loss: 0.9820, Validation MSE: 0.9845, Validation MAE: 0.7529\n"
     ]
    },
    {
     "name": "stderr",
     "output_type": "stream",
     "text": [
      "Training Epoch 432: 100%|██████████| 890/890 [00:13<00:00, 65.58it/s] \n",
      "Training Epoch 433: 100%|██████████| 890/890 [00:09<00:00, 97.09it/s]\n",
      "Training Epoch 434: 100%|██████████| 890/890 [00:09<00:00, 96.89it/s] \n",
      "Training Epoch 435: 100%|██████████| 890/890 [00:09<00:00, 97.38it/s] \n",
      "Training Epoch 436: 100%|██████████| 890/890 [00:12<00:00, 71.22it/s] \n",
      "Training Epoch 437: 100%|██████████| 890/890 [00:10<00:00, 80.98it/s] \n",
      "Training Epoch 438: 100%|██████████| 890/890 [00:08<00:00, 100.78it/s]\n",
      "Training Epoch 439: 100%|██████████| 890/890 [00:09<00:00, 96.69it/s]\n",
      "Training Epoch 440: 100%|██████████| 890/890 [00:21<00:00, 40.51it/s] \n",
      "Training Epoch 441: 100%|██████████| 890/890 [00:13<00:00, 66.48it/s] \n"
     ]
    },
    {
     "name": "stdout",
     "output_type": "stream",
     "text": [
      "Epoch 440 - Train Loss: 0.0738, Train MSE: 0.0739, Train MAE: 0.2003\n",
      "Epoch 440 - Validation Loss: 0.9635, Validation MSE: 0.9646, Validation MAE: 0.7451\n"
     ]
    },
    {
     "name": "stderr",
     "output_type": "stream",
     "text": [
      "Training Epoch 442: 100%|██████████| 890/890 [00:09<00:00, 97.60it/s] \n",
      "Training Epoch 443: 100%|██████████| 890/890 [00:09<00:00, 98.54it/s] \n",
      "Training Epoch 444: 100%|██████████| 890/890 [00:08<00:00, 99.55it/s] \n",
      "Training Epoch 445: 100%|██████████| 890/890 [00:26<00:00, 33.13it/s]\n",
      "Training Epoch 446: 100%|██████████| 890/890 [00:09<00:00, 96.37it/s] \n",
      "Training Epoch 447: 100%|██████████| 890/890 [00:09<00:00, 98.88it/s] \n",
      "Training Epoch 448: 100%|██████████| 890/890 [00:09<00:00, 94.94it/s]\n",
      "Training Epoch 449: 100%|██████████| 890/890 [00:22<00:00, 40.27it/s] \n",
      "Training Epoch 450: 100%|██████████| 890/890 [00:13<00:00, 64.33it/s] \n",
      "Training Epoch 451: 100%|██████████| 890/890 [00:09<00:00, 98.54it/s] \n"
     ]
    },
    {
     "name": "stdout",
     "output_type": "stream",
     "text": [
      "Epoch 450 - Train Loss: 0.0705, Train MSE: 0.0704, Train MAE: 0.1972\n",
      "Epoch 450 - Validation Loss: 0.9791, Validation MSE: 0.9811, Validation MAE: 0.7502\n"
     ]
    },
    {
     "name": "stderr",
     "output_type": "stream",
     "text": [
      "Training Epoch 452: 100%|██████████| 890/890 [00:09<00:00, 97.25it/s] \n",
      "Training Epoch 453: 100%|██████████| 890/890 [00:09<00:00, 96.83it/s] \n",
      "Training Epoch 454: 100%|██████████| 890/890 [00:27<00:00, 32.85it/s] \n",
      "Training Epoch 455: 100%|██████████| 890/890 [00:09<00:00, 95.55it/s] \n",
      "Training Epoch 456: 100%|██████████| 890/890 [00:09<00:00, 96.87it/s]\n",
      "Training Epoch 457: 100%|██████████| 890/890 [00:09<00:00, 98.00it/s] \n",
      "Training Epoch 458: 100%|██████████| 890/890 [00:22<00:00, 40.28it/s] \n",
      "Training Epoch 459: 100%|██████████| 890/890 [00:13<00:00, 65.41it/s] \n",
      "Training Epoch 460: 100%|██████████| 890/890 [00:08<00:00, 99.96it/s] \n",
      "Training Epoch 461: 100%|██████████| 890/890 [00:09<00:00, 96.09it/s] \n"
     ]
    },
    {
     "name": "stdout",
     "output_type": "stream",
     "text": [
      "Epoch 460 - Train Loss: 0.0710, Train MSE: 0.0711, Train MAE: 0.1975\n",
      "Epoch 460 - Validation Loss: 0.9632, Validation MSE: 0.9647, Validation MAE: 0.7456\n"
     ]
    },
    {
     "name": "stderr",
     "output_type": "stream",
     "text": [
      "Training Epoch 462: 100%|██████████| 890/890 [00:09<00:00, 96.85it/s] \n",
      "Training Epoch 463: 100%|██████████| 890/890 [00:26<00:00, 33.44it/s] \n",
      "Training Epoch 464: 100%|██████████| 890/890 [00:09<00:00, 96.77it/s] \n",
      "Training Epoch 465: 100%|██████████| 890/890 [00:09<00:00, 96.09it/s] \n",
      "Training Epoch 466: 100%|██████████| 890/890 [00:09<00:00, 98.82it/s] \n",
      "Training Epoch 467: 100%|██████████| 890/890 [00:22<00:00, 39.12it/s] \n",
      "Training Epoch 468: 100%|██████████| 890/890 [00:13<00:00, 65.86it/s]\n",
      "Training Epoch 469: 100%|██████████| 890/890 [00:09<00:00, 96.58it/s]\n",
      "Training Epoch 470: 100%|██████████| 890/890 [00:08<00:00, 99.67it/s] \n",
      "Training Epoch 471: 100%|██████████| 890/890 [00:09<00:00, 97.11it/s] \n"
     ]
    },
    {
     "name": "stdout",
     "output_type": "stream",
     "text": [
      "Epoch 470 - Train Loss: 0.0698, Train MSE: 0.0699, Train MAE: 0.1966\n",
      "Epoch 470 - Validation Loss: 0.9748, Validation MSE: 0.9763, Validation MAE: 0.7496\n"
     ]
    },
    {
     "name": "stderr",
     "output_type": "stream",
     "text": [
      "Training Epoch 472: 100%|██████████| 890/890 [00:26<00:00, 33.62it/s]\n",
      "Training Epoch 473: 100%|██████████| 890/890 [00:09<00:00, 98.31it/s] \n",
      "Training Epoch 474: 100%|██████████| 890/890 [00:09<00:00, 97.60it/s] \n",
      "Training Epoch 475: 100%|██████████| 890/890 [00:09<00:00, 98.55it/s] \n",
      "Training Epoch 476: 100%|██████████| 890/890 [00:23<00:00, 38.35it/s] \n",
      "Training Epoch 477: 100%|██████████| 890/890 [00:13<00:00, 64.22it/s]\n",
      "Training Epoch 478: 100%|██████████| 890/890 [00:09<00:00, 97.39it/s] \n",
      "Training Epoch 479: 100%|██████████| 890/890 [00:09<00:00, 97.15it/s]\n",
      "Training Epoch 480: 100%|██████████| 890/890 [00:08<00:00, 100.44it/s]\n",
      "Training Epoch 481: 100%|██████████| 890/890 [00:26<00:00, 33.34it/s]\n"
     ]
    },
    {
     "name": "stdout",
     "output_type": "stream",
     "text": [
      "Epoch 480 - Train Loss: 0.0661, Train MSE: 0.0662, Train MAE: 0.1913\n",
      "Epoch 480 - Validation Loss: 0.9681, Validation MSE: 0.9700, Validation MAE: 0.7469\n"
     ]
    },
    {
     "name": "stderr",
     "output_type": "stream",
     "text": [
      "Training Epoch 482: 100%|██████████| 890/890 [00:09<00:00, 96.01it/s]\n",
      "Training Epoch 483: 100%|██████████| 890/890 [00:08<00:00, 100.98it/s]\n",
      "Training Epoch 484: 100%|██████████| 890/890 [00:09<00:00, 96.24it/s] \n",
      "Training Epoch 485: 100%|██████████| 890/890 [00:22<00:00, 39.71it/s]\n",
      "Training Epoch 486: 100%|██████████| 890/890 [00:13<00:00, 66.20it/s] \n",
      "Training Epoch 487: 100%|██████████| 890/890 [00:09<00:00, 98.72it/s] \n",
      "Training Epoch 488: 100%|██████████| 890/890 [00:09<00:00, 98.20it/s] \n",
      "Training Epoch 489: 100%|██████████| 890/890 [00:09<00:00, 97.86it/s] \n",
      "Training Epoch 490: 100%|██████████| 890/890 [00:27<00:00, 32.74it/s] \n",
      "Training Epoch 491: 100%|██████████| 890/890 [00:09<00:00, 96.67it/s]\n"
     ]
    },
    {
     "name": "stdout",
     "output_type": "stream",
     "text": [
      "Epoch 490 - Train Loss: 0.0658, Train MSE: 0.0658, Train MAE: 0.1909\n",
      "Epoch 490 - Validation Loss: 0.9742, Validation MSE: 0.9757, Validation MAE: 0.7491\n"
     ]
    },
    {
     "name": "stderr",
     "output_type": "stream",
     "text": [
      "Training Epoch 492: 100%|██████████| 890/890 [00:09<00:00, 97.57it/s] \n",
      "Training Epoch 493: 100%|██████████| 890/890 [00:09<00:00, 97.98it/s] \n",
      "Training Epoch 494: 100%|██████████| 890/890 [00:21<00:00, 40.94it/s] \n",
      "Training Epoch 495: 100%|██████████| 890/890 [16:38<00:00,  1.12s/it]    \n",
      "Training Epoch 496: 100%|██████████| 890/890 [00:10<00:00, 85.48it/s]\n",
      "Training Epoch 497: 100%|██████████| 890/890 [00:11<00:00, 78.70it/s]\n",
      "Training Epoch 498: 100%|██████████| 890/890 [00:13<00:00, 68.36it/s]\n",
      "Training Epoch 499: 100%|██████████| 890/890 [00:10<00:00, 81.45it/s]\n",
      "Training Epoch 500: 100%|██████████| 890/890 [00:10<00:00, 83.82it/s]\n",
      "Training Epoch 501: 100%|██████████| 890/890 [00:10<00:00, 82.05it/s]\n"
     ]
    },
    {
     "name": "stdout",
     "output_type": "stream",
     "text": [
      "Epoch 500 - Train Loss: 0.0655, Train MSE: 0.0648, Train MAE: 0.1890\n",
      "Epoch 500 - Validation Loss: 0.9817, Validation MSE: 0.9831, Validation MAE: 0.7504\n"
     ]
    },
    {
     "name": "stderr",
     "output_type": "stream",
     "text": [
      "Training Epoch 502: 100%|██████████| 890/890 [00:13<00:00, 65.87it/s]\n",
      "Training Epoch 503: 100%|██████████| 890/890 [00:10<00:00, 82.09it/s]\n",
      "Training Epoch 504: 100%|██████████| 890/890 [00:10<00:00, 82.15it/s]\n",
      "Training Epoch 505: 100%|██████████| 890/890 [00:10<00:00, 82.01it/s]\n",
      "Training Epoch 506: 100%|██████████| 890/890 [00:24<00:00, 36.40it/s]\n",
      "Training Epoch 507: 100%|██████████| 890/890 [00:10<00:00, 83.63it/s]\n",
      "Training Epoch 508: 100%|██████████| 890/890 [00:11<00:00, 80.45it/s]\n",
      "Training Epoch 509: 100%|██████████| 890/890 [00:10<00:00, 84.71it/s]\n",
      "Training Epoch 510: 100%|██████████| 890/890 [00:23<00:00, 37.66it/s]\n",
      "Training Epoch 511: 100%|██████████| 890/890 [00:10<00:00, 81.40it/s]\n"
     ]
    },
    {
     "name": "stdout",
     "output_type": "stream",
     "text": [
      "Epoch 510 - Train Loss: 0.0647, Train MSE: 0.0647, Train MAE: 0.1891\n",
      "Epoch 510 - Validation Loss: 0.9853, Validation MSE: 0.9879, Validation MAE: 0.7539\n"
     ]
    },
    {
     "name": "stderr",
     "output_type": "stream",
     "text": [
      "Training Epoch 512: 100%|██████████| 890/890 [00:11<00:00, 80.82it/s]\n",
      "Training Epoch 513: 100%|██████████| 890/890 [00:11<00:00, 80.52it/s]\n",
      "Training Epoch 514: 100%|██████████| 890/890 [04:16<00:00,  3.46it/s]\n",
      "Training Epoch 515: 100%|██████████| 890/890 [00:13<00:00, 68.23it/s]\n",
      "Training Epoch 516: 100%|██████████| 890/890 [00:09<00:00, 96.87it/s] \n",
      "Training Epoch 517: 100%|██████████| 890/890 [00:09<00:00, 96.16it/s] \n",
      "Training Epoch 518: 100%|██████████| 890/890 [00:09<00:00, 95.79it/s] \n",
      "Training Epoch 519: 100%|██████████| 890/890 [00:09<00:00, 94.56it/s] \n",
      "Training Epoch 520: 100%|██████████| 890/890 [00:09<00:00, 96.27it/s] \n",
      "Training Epoch 521: 100%|██████████| 890/890 [00:09<00:00, 93.45it/s]\n"
     ]
    },
    {
     "name": "stdout",
     "output_type": "stream",
     "text": [
      "Epoch 520 - Train Loss: 0.0630, Train MSE: 0.0631, Train MAE: 0.1870\n",
      "Epoch 520 - Validation Loss: 0.9743, Validation MSE: 0.9761, Validation MAE: 0.7440\n"
     ]
    },
    {
     "name": "stderr",
     "output_type": "stream",
     "text": [
      "Training Epoch 522: 100%|██████████| 890/890 [00:09<00:00, 97.70it/s] \n",
      "Training Epoch 523: 100%|██████████| 890/890 [00:09<00:00, 93.05it/s]\n",
      "Training Epoch 524: 100%|██████████| 890/890 [00:09<00:00, 96.59it/s]\n",
      "Training Epoch 525: 100%|██████████| 890/890 [00:09<00:00, 94.69it/s] \n",
      "Training Epoch 526: 100%|██████████| 890/890 [00:09<00:00, 98.81it/s] \n",
      "Training Epoch 527: 100%|██████████| 890/890 [00:09<00:00, 94.86it/s]\n",
      "Training Epoch 528: 100%|██████████| 890/890 [00:09<00:00, 94.70it/s]\n",
      "Training Epoch 529: 100%|██████████| 890/890 [00:09<00:00, 97.08it/s] \n",
      "Training Epoch 530: 100%|██████████| 890/890 [00:09<00:00, 94.91it/s]\n",
      "Training Epoch 531: 100%|██████████| 890/890 [00:09<00:00, 93.01it/s]\n"
     ]
    },
    {
     "name": "stdout",
     "output_type": "stream",
     "text": [
      "Epoch 530 - Train Loss: 0.0625, Train MSE: 0.0625, Train MAE: 0.1862\n",
      "Epoch 530 - Validation Loss: 0.9777, Validation MSE: 0.9782, Validation MAE: 0.7493\n"
     ]
    },
    {
     "name": "stderr",
     "output_type": "stream",
     "text": [
      "Training Epoch 532: 100%|██████████| 890/890 [00:09<00:00, 96.15it/s] \n",
      "Training Epoch 533: 100%|██████████| 890/890 [00:09<00:00, 96.50it/s] \n",
      "Training Epoch 534: 100%|██████████| 890/890 [00:09<00:00, 94.28it/s]\n",
      "Training Epoch 535: 100%|██████████| 890/890 [00:09<00:00, 96.23it/s] \n",
      "Training Epoch 536: 100%|██████████| 890/890 [00:09<00:00, 94.89it/s]\n",
      "Training Epoch 537: 100%|██████████| 890/890 [00:09<00:00, 94.06it/s] \n",
      "Training Epoch 538: 100%|██████████| 890/890 [00:09<00:00, 95.85it/s] \n",
      "Training Epoch 539: 100%|██████████| 890/890 [00:09<00:00, 95.88it/s] \n",
      "Training Epoch 540: 100%|██████████| 890/890 [00:09<00:00, 95.19it/s]\n",
      "Training Epoch 541: 100%|██████████| 890/890 [00:09<00:00, 94.88it/s] \n"
     ]
    },
    {
     "name": "stdout",
     "output_type": "stream",
     "text": [
      "Epoch 540 - Train Loss: 0.0642, Train MSE: 0.0643, Train MAE: 0.1871\n",
      "Epoch 540 - Validation Loss: 0.9746, Validation MSE: 0.9762, Validation MAE: 0.7491\n"
     ]
    },
    {
     "name": "stderr",
     "output_type": "stream",
     "text": [
      "Training Epoch 542: 100%|██████████| 890/890 [00:09<00:00, 95.58it/s] \n",
      "Training Epoch 543: 100%|██████████| 890/890 [00:09<00:00, 94.11it/s]\n",
      "Training Epoch 544: 100%|██████████| 890/890 [00:09<00:00, 95.66it/s]\n",
      "Training Epoch 545: 100%|██████████| 890/890 [00:09<00:00, 89.60it/s] \n",
      "Training Epoch 546: 100%|██████████| 890/890 [00:09<00:00, 92.64it/s]\n",
      "Training Epoch 547: 100%|██████████| 890/890 [00:10<00:00, 88.98it/s]\n",
      "Training Epoch 548: 100%|██████████| 890/890 [00:09<00:00, 98.09it/s] \n",
      "Training Epoch 549: 100%|██████████| 890/890 [00:09<00:00, 95.04it/s] \n",
      "Training Epoch 550: 100%|██████████| 890/890 [00:09<00:00, 97.20it/s] \n",
      "Training Epoch 551: 100%|██████████| 890/890 [00:09<00:00, 98.38it/s] \n"
     ]
    },
    {
     "name": "stdout",
     "output_type": "stream",
     "text": [
      "Epoch 550 - Train Loss: 0.0597, Train MSE: 0.0598, Train MAE: 0.1822\n",
      "Epoch 550 - Validation Loss: 0.9857, Validation MSE: 0.9863, Validation MAE: 0.7544\n"
     ]
    },
    {
     "name": "stderr",
     "output_type": "stream",
     "text": [
      "Training Epoch 552: 100%|██████████| 890/890 [00:09<00:00, 95.08it/s] \n",
      "Training Epoch 553: 100%|██████████| 890/890 [00:09<00:00, 96.20it/s] \n",
      "Training Epoch 554: 100%|██████████| 890/890 [00:09<00:00, 93.23it/s] \n",
      "Training Epoch 555: 100%|██████████| 890/890 [00:09<00:00, 96.36it/s]\n",
      "Training Epoch 556: 100%|██████████| 890/890 [00:09<00:00, 90.92it/s]\n",
      "Training Epoch 557: 100%|██████████| 890/890 [00:09<00:00, 92.50it/s] \n",
      "Training Epoch 558: 100%|██████████| 890/890 [00:09<00:00, 94.68it/s] \n",
      "Training Epoch 559: 100%|██████████| 890/890 [00:09<00:00, 95.80it/s]\n",
      "Training Epoch 560: 100%|██████████| 890/890 [00:09<00:00, 95.04it/s] \n",
      "Training Epoch 561: 100%|██████████| 890/890 [00:09<00:00, 91.94it/s] \n"
     ]
    },
    {
     "name": "stdout",
     "output_type": "stream",
     "text": [
      "Epoch 560 - Train Loss: 0.0605, Train MSE: 0.0604, Train MAE: 0.1828\n",
      "Epoch 560 - Validation Loss: 0.9730, Validation MSE: 0.9741, Validation MAE: 0.7501\n"
     ]
    },
    {
     "name": "stderr",
     "output_type": "stream",
     "text": [
      "Training Epoch 562: 100%|██████████| 890/890 [00:09<00:00, 93.48it/s]\n",
      "Training Epoch 563: 100%|██████████| 890/890 [00:09<00:00, 92.26it/s]\n",
      "Training Epoch 564: 100%|██████████| 890/890 [00:09<00:00, 94.41it/s] \n",
      "Training Epoch 565: 100%|██████████| 890/890 [00:09<00:00, 96.39it/s] \n",
      "Training Epoch 566: 100%|██████████| 890/890 [00:09<00:00, 93.42it/s]\n",
      "Training Epoch 567: 100%|██████████| 890/890 [00:09<00:00, 92.39it/s] \n",
      "Training Epoch 568: 100%|██████████| 890/890 [00:09<00:00, 89.78it/s]\n",
      "Training Epoch 569: 100%|██████████| 890/890 [00:09<00:00, 90.08it/s]\n",
      "Training Epoch 570: 100%|██████████| 890/890 [00:09<00:00, 91.61it/s] \n",
      "Training Epoch 571: 100%|██████████| 890/890 [00:09<00:00, 91.15it/s]\n"
     ]
    },
    {
     "name": "stdout",
     "output_type": "stream",
     "text": [
      "Epoch 570 - Train Loss: 0.0613, Train MSE: 0.0614, Train MAE: 0.1837\n",
      "Epoch 570 - Validation Loss: 0.9797, Validation MSE: 0.9823, Validation MAE: 0.7530\n"
     ]
    },
    {
     "name": "stderr",
     "output_type": "stream",
     "text": [
      "Training Epoch 572: 100%|██████████| 890/890 [00:09<00:00, 94.76it/s] \n",
      "Training Epoch 573: 100%|██████████| 890/890 [00:09<00:00, 96.12it/s] \n",
      "Training Epoch 574: 100%|██████████| 890/890 [00:09<00:00, 94.34it/s] \n",
      "Training Epoch 575: 100%|██████████| 890/890 [00:09<00:00, 93.78it/s]\n",
      "Training Epoch 576: 100%|██████████| 890/890 [00:09<00:00, 94.65it/s] \n",
      "Training Epoch 577: 100%|██████████| 890/890 [00:09<00:00, 95.26it/s] \n",
      "Training Epoch 578: 100%|██████████| 890/890 [00:09<00:00, 93.89it/s] \n",
      "Training Epoch 579: 100%|██████████| 890/890 [00:09<00:00, 94.05it/s]\n",
      "Training Epoch 580: 100%|██████████| 890/890 [00:09<00:00, 92.80it/s] \n",
      "Training Epoch 581: 100%|██████████| 890/890 [00:09<00:00, 96.22it/s] \n"
     ]
    },
    {
     "name": "stdout",
     "output_type": "stream",
     "text": [
      "Epoch 580 - Train Loss: 0.0587, Train MSE: 0.0588, Train MAE: 0.1803\n",
      "Epoch 580 - Validation Loss: 0.9573, Validation MSE: 0.9585, Validation MAE: 0.7427\n"
     ]
    },
    {
     "name": "stderr",
     "output_type": "stream",
     "text": [
      "Training Epoch 582: 100%|██████████| 890/890 [00:09<00:00, 93.07it/s] \n",
      "Training Epoch 583: 100%|██████████| 890/890 [00:09<00:00, 97.19it/s] \n",
      "Training Epoch 584: 100%|██████████| 890/890 [00:09<00:00, 93.24it/s]\n",
      "Training Epoch 585: 100%|██████████| 890/890 [00:09<00:00, 93.81it/s]\n",
      "Training Epoch 586: 100%|██████████| 890/890 [00:09<00:00, 95.68it/s] \n",
      "Training Epoch 587: 100%|██████████| 890/890 [00:09<00:00, 96.30it/s] \n",
      "Training Epoch 588: 100%|██████████| 890/890 [00:09<00:00, 94.76it/s]\n",
      "Training Epoch 589: 100%|██████████| 890/890 [00:09<00:00, 94.53it/s] \n",
      "Training Epoch 590: 100%|██████████| 890/890 [00:09<00:00, 96.44it/s] \n",
      "Training Epoch 591: 100%|██████████| 890/890 [00:09<00:00, 94.87it/s]\n"
     ]
    },
    {
     "name": "stdout",
     "output_type": "stream",
     "text": [
      "Epoch 590 - Train Loss: 0.0587, Train MSE: 0.0586, Train MAE: 0.1802\n",
      "Epoch 590 - Validation Loss: 0.9486, Validation MSE: 0.9491, Validation MAE: 0.7426\n"
     ]
    },
    {
     "name": "stderr",
     "output_type": "stream",
     "text": [
      "Training Epoch 592: 100%|██████████| 890/890 [00:09<00:00, 95.76it/s] \n",
      "Training Epoch 593: 100%|██████████| 890/890 [00:09<00:00, 94.96it/s] \n",
      "Training Epoch 594: 100%|██████████| 890/890 [00:09<00:00, 95.12it/s] \n",
      "Training Epoch 595: 100%|██████████| 890/890 [00:09<00:00, 96.27it/s] \n",
      "Training Epoch 596: 100%|██████████| 890/890 [00:09<00:00, 97.24it/s] \n",
      "Training Epoch 597: 100%|██████████| 890/890 [00:09<00:00, 95.78it/s] \n",
      "Training Epoch 598: 100%|██████████| 890/890 [00:09<00:00, 93.71it/s]\n",
      "Training Epoch 599: 100%|██████████| 890/890 [00:09<00:00, 94.40it/s] \n",
      "Training Epoch 600: 100%|██████████| 890/890 [00:09<00:00, 95.00it/s] \n",
      "Training Epoch 601: 100%|██████████| 890/890 [00:09<00:00, 93.31it/s]\n"
     ]
    },
    {
     "name": "stdout",
     "output_type": "stream",
     "text": [
      "Epoch 600 - Train Loss: 0.0583, Train MSE: 0.0583, Train MAE: 0.1785\n",
      "Epoch 600 - Validation Loss: 0.9438, Validation MSE: 0.9453, Validation MAE: 0.7387\n"
     ]
    },
    {
     "name": "stderr",
     "output_type": "stream",
     "text": [
      "Training Epoch 602: 100%|██████████| 890/890 [00:09<00:00, 96.98it/s] \n",
      "Training Epoch 603: 100%|██████████| 890/890 [00:09<00:00, 95.99it/s]\n",
      "Training Epoch 604: 100%|██████████| 890/890 [00:09<00:00, 95.61it/s] \n",
      "Training Epoch 605: 100%|██████████| 890/890 [00:09<00:00, 94.27it/s] \n",
      "Training Epoch 606: 100%|██████████| 890/890 [00:09<00:00, 98.84it/s] \n",
      "Training Epoch 607: 100%|██████████| 890/890 [00:09<00:00, 96.31it/s] \n",
      "Training Epoch 608: 100%|██████████| 890/890 [00:09<00:00, 96.03it/s]\n",
      "Training Epoch 609: 100%|██████████| 890/890 [00:09<00:00, 96.95it/s] \n",
      "Training Epoch 610: 100%|██████████| 890/890 [00:09<00:00, 97.14it/s] \n",
      "Training Epoch 611: 100%|██████████| 890/890 [00:09<00:00, 94.92it/s]\n"
     ]
    },
    {
     "name": "stdout",
     "output_type": "stream",
     "text": [
      "Epoch 610 - Train Loss: 0.0565, Train MSE: 0.0565, Train MAE: 0.1778\n",
      "Epoch 610 - Validation Loss: 0.9446, Validation MSE: 0.9463, Validation MAE: 0.7377\n"
     ]
    },
    {
     "name": "stderr",
     "output_type": "stream",
     "text": [
      "Training Epoch 612: 100%|██████████| 890/890 [00:09<00:00, 92.72it/s] \n",
      "Training Epoch 613: 100%|██████████| 890/890 [00:09<00:00, 96.33it/s]\n",
      "Training Epoch 614: 100%|██████████| 890/890 [00:09<00:00, 96.69it/s]\n",
      "Training Epoch 615: 100%|██████████| 890/890 [00:09<00:00, 98.10it/s] \n",
      "Training Epoch 616: 100%|██████████| 890/890 [00:09<00:00, 96.81it/s] \n",
      "Training Epoch 617: 100%|██████████| 890/890 [00:09<00:00, 93.68it/s]\n",
      "Training Epoch 618: 100%|██████████| 890/890 [00:09<00:00, 94.34it/s]\n",
      "Training Epoch 619: 100%|██████████| 890/890 [00:09<00:00, 96.33it/s] \n",
      "Training Epoch 620: 100%|██████████| 890/890 [00:09<00:00, 96.04it/s] \n",
      "Training Epoch 621: 100%|██████████| 890/890 [00:09<00:00, 95.79it/s] \n"
     ]
    },
    {
     "name": "stdout",
     "output_type": "stream",
     "text": [
      "Epoch 620 - Train Loss: 0.0604, Train MSE: 0.0605, Train MAE: 0.1801\n",
      "Epoch 620 - Validation Loss: 0.9576, Validation MSE: 0.9597, Validation MAE: 0.7409\n"
     ]
    },
    {
     "name": "stderr",
     "output_type": "stream",
     "text": [
      "Training Epoch 622: 100%|██████████| 890/890 [00:09<00:00, 97.14it/s] \n",
      "Training Epoch 623: 100%|██████████| 890/890 [00:09<00:00, 91.05it/s] \n",
      "Training Epoch 624: 100%|██████████| 890/890 [00:09<00:00, 94.85it/s]\n",
      "Training Epoch 625: 100%|██████████| 890/890 [00:09<00:00, 97.43it/s] \n",
      "Training Epoch 626: 100%|██████████| 890/890 [00:09<00:00, 95.00it/s] \n",
      "Training Epoch 627: 100%|██████████| 890/890 [00:09<00:00, 95.31it/s]\n",
      "Training Epoch 628: 100%|██████████| 890/890 [00:09<00:00, 96.93it/s] \n",
      "Training Epoch 629: 100%|██████████| 890/890 [00:09<00:00, 95.89it/s] \n",
      "Training Epoch 630: 100%|██████████| 890/890 [00:09<00:00, 94.88it/s] \n",
      "Training Epoch 631: 100%|██████████| 890/890 [00:09<00:00, 96.58it/s] \n"
     ]
    },
    {
     "name": "stdout",
     "output_type": "stream",
     "text": [
      "Epoch 630 - Train Loss: 0.0562, Train MSE: 0.0563, Train MAE: 0.1754\n",
      "Epoch 630 - Validation Loss: 0.9706, Validation MSE: 0.9716, Validation MAE: 0.7449\n"
     ]
    },
    {
     "name": "stderr",
     "output_type": "stream",
     "text": [
      "Training Epoch 632: 100%|██████████| 890/890 [00:09<00:00, 95.19it/s] \n",
      "Training Epoch 633: 100%|██████████| 890/890 [00:09<00:00, 95.61it/s] \n",
      "Training Epoch 634: 100%|██████████| 890/890 [00:09<00:00, 97.24it/s] \n",
      "Training Epoch 635: 100%|██████████| 890/890 [00:09<00:00, 98.45it/s] \n",
      "Training Epoch 636: 100%|██████████| 890/890 [00:09<00:00, 95.23it/s] \n",
      "Training Epoch 637: 100%|██████████| 890/890 [00:09<00:00, 95.91it/s] \n",
      "Training Epoch 638: 100%|██████████| 890/890 [00:09<00:00, 96.83it/s] \n",
      "Training Epoch 639: 100%|██████████| 890/890 [00:09<00:00, 97.91it/s] \n",
      "Training Epoch 640: 100%|██████████| 890/890 [00:09<00:00, 96.76it/s] \n",
      "Training Epoch 641: 100%|██████████| 890/890 [00:09<00:00, 97.77it/s] \n"
     ]
    },
    {
     "name": "stdout",
     "output_type": "stream",
     "text": [
      "Epoch 640 - Train Loss: 0.0576, Train MSE: 0.0574, Train MAE: 0.1770\n",
      "Epoch 640 - Validation Loss: 0.9723, Validation MSE: 0.9732, Validation MAE: 0.7459\n"
     ]
    },
    {
     "name": "stderr",
     "output_type": "stream",
     "text": [
      "Training Epoch 642: 100%|██████████| 890/890 [00:09<00:00, 92.87it/s]\n",
      "Training Epoch 643: 100%|██████████| 890/890 [00:09<00:00, 95.01it/s]\n",
      "Training Epoch 644: 100%|██████████| 890/890 [00:09<00:00, 97.86it/s] \n",
      "Training Epoch 645: 100%|██████████| 890/890 [00:09<00:00, 97.84it/s] \n",
      "Training Epoch 646: 100%|██████████| 890/890 [00:09<00:00, 95.67it/s]\n",
      "Training Epoch 647: 100%|██████████| 890/890 [00:09<00:00, 96.32it/s] \n",
      "Training Epoch 648: 100%|██████████| 890/890 [00:09<00:00, 96.73it/s] \n",
      "Training Epoch 649: 100%|██████████| 890/890 [00:09<00:00, 95.77it/s] \n",
      "Training Epoch 650: 100%|██████████| 890/890 [00:09<00:00, 95.33it/s]\n",
      "Training Epoch 651: 100%|██████████| 890/890 [00:10<00:00, 83.55it/s] \n"
     ]
    },
    {
     "name": "stdout",
     "output_type": "stream",
     "text": [
      "Epoch 650 - Train Loss: 0.0557, Train MSE: 0.0552, Train MAE: 0.1743\n",
      "Epoch 650 - Validation Loss: 0.9607, Validation MSE: 0.9631, Validation MAE: 0.7399\n"
     ]
    },
    {
     "name": "stderr",
     "output_type": "stream",
     "text": [
      "Training Epoch 652: 100%|██████████| 890/890 [00:09<00:00, 95.80it/s] \n",
      "Training Epoch 653: 100%|██████████| 890/890 [00:09<00:00, 97.59it/s] \n",
      "Training Epoch 654: 100%|██████████| 890/890 [00:09<00:00, 96.75it/s] \n",
      "Training Epoch 655: 100%|██████████| 890/890 [00:09<00:00, 98.50it/s] \n",
      "Training Epoch 656: 100%|██████████| 890/890 [00:09<00:00, 95.21it/s] \n",
      "Training Epoch 657: 100%|██████████| 890/890 [00:09<00:00, 96.09it/s] \n",
      "Training Epoch 658: 100%|██████████| 890/890 [00:09<00:00, 95.21it/s]\n",
      "Training Epoch 659: 100%|██████████| 890/890 [00:09<00:00, 96.08it/s] \n",
      "Training Epoch 660: 100%|██████████| 890/890 [00:09<00:00, 98.23it/s] \n",
      "Training Epoch 661: 100%|██████████| 890/890 [00:09<00:00, 95.27it/s]\n"
     ]
    },
    {
     "name": "stdout",
     "output_type": "stream",
     "text": [
      "Epoch 660 - Train Loss: 0.0551, Train MSE: 0.0551, Train MAE: 0.1740\n",
      "Epoch 660 - Validation Loss: 0.9594, Validation MSE: 0.9621, Validation MAE: 0.7409\n"
     ]
    },
    {
     "name": "stderr",
     "output_type": "stream",
     "text": [
      "Training Epoch 662: 100%|██████████| 890/890 [00:09<00:00, 95.01it/s]\n",
      "Training Epoch 663: 100%|██████████| 890/890 [00:09<00:00, 95.15it/s]\n",
      "Training Epoch 664: 100%|██████████| 890/890 [00:09<00:00, 98.68it/s] \n",
      "Training Epoch 665: 100%|██████████| 890/890 [00:09<00:00, 95.78it/s] \n",
      "Training Epoch 666: 100%|██████████| 890/890 [00:09<00:00, 96.46it/s] \n",
      "Training Epoch 667: 100%|██████████| 890/890 [00:09<00:00, 94.99it/s] \n",
      "Training Epoch 668: 100%|██████████| 890/890 [00:09<00:00, 96.68it/s] \n",
      "Training Epoch 669: 100%|██████████| 890/890 [00:09<00:00, 94.64it/s]\n",
      "Training Epoch 670: 100%|██████████| 890/890 [00:09<00:00, 97.43it/s] \n",
      "Training Epoch 671: 100%|██████████| 890/890 [00:09<00:00, 95.23it/s]\n"
     ]
    },
    {
     "name": "stdout",
     "output_type": "stream",
     "text": [
      "Epoch 670 - Train Loss: 0.0535, Train MSE: 0.0533, Train MAE: 0.1717\n",
      "Epoch 670 - Validation Loss: 0.9605, Validation MSE: 0.9622, Validation MAE: 0.7437\n"
     ]
    },
    {
     "name": "stderr",
     "output_type": "stream",
     "text": [
      "Training Epoch 672: 100%|██████████| 890/890 [00:09<00:00, 95.31it/s]\n",
      "Training Epoch 673: 100%|██████████| 890/890 [00:09<00:00, 97.46it/s] \n",
      "Training Epoch 674: 100%|██████████| 890/890 [00:09<00:00, 95.87it/s] \n",
      "Training Epoch 675: 100%|██████████| 890/890 [00:09<00:00, 94.92it/s]\n",
      "Training Epoch 676: 100%|██████████| 890/890 [00:09<00:00, 97.08it/s] \n",
      "Training Epoch 677: 100%|██████████| 890/890 [00:09<00:00, 98.67it/s] \n",
      "Training Epoch 678: 100%|██████████| 890/890 [00:09<00:00, 95.47it/s] \n",
      "Training Epoch 679: 100%|██████████| 890/890 [00:09<00:00, 94.48it/s]\n",
      "Training Epoch 680: 100%|██████████| 890/890 [00:09<00:00, 97.62it/s] \n",
      "Training Epoch 681: 100%|██████████| 890/890 [00:09<00:00, 95.38it/s] \n"
     ]
    },
    {
     "name": "stdout",
     "output_type": "stream",
     "text": [
      "Epoch 680 - Train Loss: 0.0537, Train MSE: 0.0537, Train MAE: 0.1723\n",
      "Epoch 680 - Validation Loss: 0.9546, Validation MSE: 0.9569, Validation MAE: 0.7427\n"
     ]
    },
    {
     "name": "stderr",
     "output_type": "stream",
     "text": [
      "Training Epoch 682: 100%|██████████| 890/890 [00:09<00:00, 96.42it/s] \n",
      "Training Epoch 683: 100%|██████████| 890/890 [00:09<00:00, 96.30it/s] \n",
      "Training Epoch 684: 100%|██████████| 890/890 [00:09<00:00, 95.18it/s] \n",
      "Training Epoch 685: 100%|██████████| 890/890 [00:09<00:00, 96.80it/s] \n",
      "Training Epoch 686: 100%|██████████| 890/890 [00:09<00:00, 94.95it/s] \n",
      "Training Epoch 687: 100%|██████████| 890/890 [00:09<00:00, 95.79it/s]\n",
      "Training Epoch 688: 100%|██████████| 890/890 [00:09<00:00, 93.95it/s]\n",
      "Training Epoch 689: 100%|██████████| 890/890 [00:09<00:00, 94.85it/s]\n",
      "Training Epoch 690: 100%|██████████| 890/890 [00:09<00:00, 94.82it/s] \n",
      "Training Epoch 691: 100%|██████████| 890/890 [00:09<00:00, 91.76it/s]\n"
     ]
    },
    {
     "name": "stdout",
     "output_type": "stream",
     "text": [
      "Epoch 690 - Train Loss: 0.0532, Train MSE: 0.0533, Train MAE: 0.1714\n",
      "Epoch 690 - Validation Loss: 0.9934, Validation MSE: 0.9943, Validation MAE: 0.7545\n"
     ]
    },
    {
     "name": "stderr",
     "output_type": "stream",
     "text": [
      "Training Epoch 692: 100%|██████████| 890/890 [00:09<00:00, 89.69it/s]\n",
      "Training Epoch 693: 100%|██████████| 890/890 [00:09<00:00, 96.69it/s] \n",
      "Training Epoch 694: 100%|██████████| 890/890 [00:09<00:00, 95.04it/s] \n",
      "Training Epoch 695: 100%|██████████| 890/890 [00:09<00:00, 94.75it/s]\n",
      "Training Epoch 696: 100%|██████████| 890/890 [00:09<00:00, 95.69it/s] \n",
      "Training Epoch 697: 100%|██████████| 890/890 [00:09<00:00, 95.43it/s] \n",
      "Training Epoch 698: 100%|██████████| 890/890 [00:09<00:00, 92.32it/s]\n",
      "Training Epoch 699: 100%|██████████| 890/890 [00:09<00:00, 97.86it/s] \n",
      "Training Epoch 700: 100%|██████████| 890/890 [00:09<00:00, 92.37it/s]\n",
      "Training Epoch 701: 100%|██████████| 890/890 [00:09<00:00, 95.01it/s]\n"
     ]
    },
    {
     "name": "stdout",
     "output_type": "stream",
     "text": [
      "Epoch 700 - Train Loss: 0.0530, Train MSE: 0.0531, Train MAE: 0.1713\n",
      "Epoch 700 - Validation Loss: 0.9504, Validation MSE: 0.9515, Validation MAE: 0.7391\n"
     ]
    },
    {
     "name": "stderr",
     "output_type": "stream",
     "text": [
      "Training Epoch 702: 100%|██████████| 890/890 [00:10<00:00, 88.94it/s] \n",
      "Training Epoch 703: 100%|██████████| 890/890 [00:09<00:00, 90.70it/s] \n",
      "Training Epoch 704: 100%|██████████| 890/890 [00:09<00:00, 90.42it/s]\n",
      "Training Epoch 705: 100%|██████████| 890/890 [00:09<00:00, 96.69it/s] \n",
      "Training Epoch 706: 100%|██████████| 890/890 [00:09<00:00, 94.43it/s] \n",
      "Training Epoch 707: 100%|██████████| 890/890 [00:09<00:00, 93.43it/s]\n",
      "Training Epoch 708: 100%|██████████| 890/890 [00:09<00:00, 94.70it/s]\n",
      "Training Epoch 709: 100%|██████████| 890/890 [00:09<00:00, 95.82it/s] \n",
      "Training Epoch 710: 100%|██████████| 890/890 [00:09<00:00, 92.66it/s]\n",
      "Training Epoch 711: 100%|██████████| 890/890 [00:09<00:00, 92.72it/s]\n"
     ]
    },
    {
     "name": "stdout",
     "output_type": "stream",
     "text": [
      "Epoch 710 - Train Loss: 0.0533, Train MSE: 0.0534, Train MAE: 0.1707\n",
      "Epoch 710 - Validation Loss: 0.9846, Validation MSE: 0.9863, Validation MAE: 0.7518\n"
     ]
    },
    {
     "name": "stderr",
     "output_type": "stream",
     "text": [
      "Training Epoch 712: 100%|██████████| 890/890 [00:09<00:00, 94.61it/s]\n",
      "Training Epoch 713: 100%|██████████| 890/890 [00:09<00:00, 96.69it/s] \n",
      "Training Epoch 714: 100%|██████████| 890/890 [00:09<00:00, 95.69it/s]\n",
      "Training Epoch 715: 100%|██████████| 890/890 [00:09<00:00, 97.83it/s] \n",
      "Training Epoch 716: 100%|██████████| 890/890 [00:09<00:00, 93.64it/s] \n",
      "Training Epoch 717: 100%|██████████| 890/890 [00:09<00:00, 95.62it/s]\n",
      "Training Epoch 718: 100%|██████████| 890/890 [00:09<00:00, 95.11it/s] \n",
      "Training Epoch 719: 100%|██████████| 890/890 [00:09<00:00, 97.55it/s] \n",
      "Training Epoch 720: 100%|██████████| 890/890 [00:09<00:00, 95.84it/s] \n",
      "Training Epoch 721: 100%|██████████| 890/890 [00:09<00:00, 92.97it/s]\n"
     ]
    },
    {
     "name": "stdout",
     "output_type": "stream",
     "text": [
      "Epoch 720 - Train Loss: 0.0522, Train MSE: 0.0523, Train MAE: 0.1698\n",
      "Epoch 720 - Validation Loss: 0.9755, Validation MSE: 0.9767, Validation MAE: 0.7465\n"
     ]
    },
    {
     "name": "stderr",
     "output_type": "stream",
     "text": [
      "Training Epoch 722: 100%|██████████| 890/890 [00:09<00:00, 92.62it/s] \n",
      "Training Epoch 723: 100%|██████████| 890/890 [00:09<00:00, 96.19it/s] \n",
      "Training Epoch 724: 100%|██████████| 890/890 [00:09<00:00, 92.44it/s]\n",
      "Training Epoch 725: 100%|██████████| 890/890 [00:09<00:00, 92.95it/s] \n",
      "Training Epoch 726: 100%|██████████| 890/890 [00:09<00:00, 92.45it/s]\n",
      "Training Epoch 727: 100%|██████████| 890/890 [00:09<00:00, 95.33it/s]\n",
      "Training Epoch 728: 100%|██████████| 890/890 [00:09<00:00, 94.63it/s] \n",
      "Training Epoch 729: 100%|██████████| 890/890 [00:09<00:00, 93.10it/s] \n",
      "Training Epoch 730: 100%|██████████| 890/890 [00:09<00:00, 93.11it/s]\n",
      "Training Epoch 731: 100%|██████████| 890/890 [00:09<00:00, 96.13it/s] \n"
     ]
    },
    {
     "name": "stdout",
     "output_type": "stream",
     "text": [
      "Epoch 730 - Train Loss: 0.0522, Train MSE: 0.0523, Train MAE: 0.1682\n",
      "Epoch 730 - Validation Loss: 0.9910, Validation MSE: 0.9929, Validation MAE: 0.7554\n"
     ]
    },
    {
     "name": "stderr",
     "output_type": "stream",
     "text": [
      "Training Epoch 732: 100%|██████████| 890/890 [00:09<00:00, 95.15it/s] \n",
      "Training Epoch 733: 100%|██████████| 890/890 [00:09<00:00, 94.76it/s]\n",
      "Training Epoch 734: 100%|██████████| 890/890 [00:08<00:00, 100.01it/s]\n",
      "Training Epoch 735: 100%|██████████| 890/890 [00:09<00:00, 96.43it/s] \n",
      "Training Epoch 736: 100%|██████████| 890/890 [00:09<00:00, 98.33it/s] \n",
      "Training Epoch 737: 100%|██████████| 890/890 [00:09<00:00, 97.48it/s] \n",
      "Training Epoch 738: 100%|██████████| 890/890 [00:09<00:00, 98.46it/s] \n",
      "Training Epoch 739: 100%|██████████| 890/890 [00:09<00:00, 93.65it/s]\n",
      "Training Epoch 740: 100%|██████████| 890/890 [00:09<00:00, 92.92it/s]\n",
      "Training Epoch 741: 100%|██████████| 890/890 [00:09<00:00, 90.14it/s] \n"
     ]
    },
    {
     "name": "stdout",
     "output_type": "stream",
     "text": [
      "Epoch 740 - Train Loss: 0.0511, Train MSE: 0.0510, Train MAE: 0.1657\n",
      "Epoch 740 - Validation Loss: 0.9768, Validation MSE: 0.9794, Validation MAE: 0.7479\n"
     ]
    },
    {
     "name": "stderr",
     "output_type": "stream",
     "text": [
      "Training Epoch 742: 100%|██████████| 890/890 [00:09<00:00, 92.79it/s]\n",
      "Training Epoch 743: 100%|██████████| 890/890 [00:09<00:00, 91.78it/s]\n",
      "Training Epoch 744: 100%|██████████| 890/890 [00:09<00:00, 94.84it/s] \n",
      "Training Epoch 745: 100%|██████████| 890/890 [00:09<00:00, 93.28it/s]\n",
      "Training Epoch 746: 100%|██████████| 890/890 [00:09<00:00, 91.70it/s]\n",
      "Training Epoch 747: 100%|██████████| 890/890 [00:09<00:00, 94.00it/s] \n",
      "Training Epoch 748: 100%|██████████| 890/890 [00:09<00:00, 94.10it/s] \n",
      "Training Epoch 749: 100%|██████████| 890/890 [00:09<00:00, 95.12it/s] \n",
      "Training Epoch 750: 100%|██████████| 890/890 [00:09<00:00, 94.56it/s] \n",
      "Training Epoch 751: 100%|██████████| 890/890 [00:09<00:00, 90.40it/s]\n"
     ]
    },
    {
     "name": "stdout",
     "output_type": "stream",
     "text": [
      "Epoch 750 - Train Loss: 0.0508, Train MSE: 0.0508, Train MAE: 0.1663\n",
      "Epoch 750 - Validation Loss: 0.9458, Validation MSE: 0.9485, Validation MAE: 0.7377\n"
     ]
    },
    {
     "name": "stderr",
     "output_type": "stream",
     "text": [
      "Training Epoch 752: 100%|██████████| 890/890 [00:09<00:00, 90.63it/s]\n",
      "Training Epoch 753: 100%|██████████| 890/890 [00:10<00:00, 81.98it/s]\n",
      "Training Epoch 754: 100%|██████████| 890/890 [00:10<00:00, 86.54it/s]\n",
      "Training Epoch 755: 100%|██████████| 890/890 [00:09<00:00, 92.93it/s]\n",
      "Training Epoch 756: 100%|██████████| 890/890 [00:09<00:00, 94.08it/s] \n",
      "Training Epoch 757: 100%|██████████| 890/890 [00:09<00:00, 92.62it/s]\n",
      "Training Epoch 758: 100%|██████████| 890/890 [00:09<00:00, 95.46it/s]\n",
      "Training Epoch 759: 100%|██████████| 890/890 [00:09<00:00, 92.28it/s]\n",
      "Training Epoch 760: 100%|██████████| 890/890 [00:09<00:00, 94.17it/s]\n",
      "Training Epoch 761: 100%|██████████| 890/890 [00:09<00:00, 92.99it/s]\n"
     ]
    },
    {
     "name": "stdout",
     "output_type": "stream",
     "text": [
      "Epoch 760 - Train Loss: 0.0522, Train MSE: 0.0522, Train MAE: 0.1672\n",
      "Epoch 760 - Validation Loss: 0.9676, Validation MSE: 0.9693, Validation MAE: 0.7437\n"
     ]
    },
    {
     "name": "stderr",
     "output_type": "stream",
     "text": [
      "Training Epoch 762: 100%|██████████| 890/890 [00:09<00:00, 96.99it/s]\n",
      "Training Epoch 763: 100%|██████████| 890/890 [00:09<00:00, 95.11it/s] \n",
      "Training Epoch 764: 100%|██████████| 890/890 [00:09<00:00, 94.53it/s] \n",
      "Training Epoch 765: 100%|██████████| 890/890 [00:09<00:00, 92.92it/s] \n",
      "Training Epoch 766: 100%|██████████| 890/890 [00:09<00:00, 95.42it/s] \n",
      "Training Epoch 767: 100%|██████████| 890/890 [00:09<00:00, 92.50it/s]\n",
      "Training Epoch 768: 100%|██████████| 890/890 [00:09<00:00, 93.95it/s]\n",
      "Training Epoch 769: 100%|██████████| 890/890 [00:09<00:00, 94.42it/s] \n",
      "Training Epoch 770: 100%|██████████| 890/890 [00:09<00:00, 93.60it/s]\n",
      "Training Epoch 771: 100%|██████████| 890/890 [00:09<00:00, 93.98it/s]\n"
     ]
    },
    {
     "name": "stdout",
     "output_type": "stream",
     "text": [
      "Epoch 770 - Train Loss: 0.0508, Train MSE: 0.0509, Train MAE: 0.1665\n",
      "Epoch 770 - Validation Loss: 0.9776, Validation MSE: 0.9799, Validation MAE: 0.7483\n"
     ]
    },
    {
     "name": "stderr",
     "output_type": "stream",
     "text": [
      "Training Epoch 772: 100%|██████████| 890/890 [00:09<00:00, 93.68it/s] \n",
      "Training Epoch 773: 100%|██████████| 890/890 [00:09<00:00, 93.92it/s]\n",
      "Training Epoch 774: 100%|██████████| 890/890 [00:09<00:00, 92.10it/s]\n",
      "Training Epoch 775: 100%|██████████| 890/890 [00:09<00:00, 94.57it/s]\n",
      "Training Epoch 776: 100%|██████████| 890/890 [00:09<00:00, 93.93it/s]\n",
      "Training Epoch 777: 100%|██████████| 890/890 [00:09<00:00, 91.49it/s]\n",
      "Training Epoch 778: 100%|██████████| 890/890 [00:09<00:00, 95.85it/s] \n",
      "Training Epoch 779: 100%|██████████| 890/890 [00:09<00:00, 93.71it/s]\n",
      "Training Epoch 780: 100%|██████████| 890/890 [00:09<00:00, 93.90it/s]\n",
      "Training Epoch 781: 100%|██████████| 890/890 [00:09<00:00, 94.50it/s] \n"
     ]
    },
    {
     "name": "stdout",
     "output_type": "stream",
     "text": [
      "Epoch 780 - Train Loss: 0.0492, Train MSE: 0.0492, Train MAE: 0.1648\n",
      "Epoch 780 - Validation Loss: 0.9575, Validation MSE: 0.9595, Validation MAE: 0.7404\n"
     ]
    },
    {
     "name": "stderr",
     "output_type": "stream",
     "text": [
      "Training Epoch 782: 100%|██████████| 890/890 [00:09<00:00, 93.94it/s]\n",
      "Training Epoch 783: 100%|██████████| 890/890 [00:09<00:00, 92.96it/s]\n",
      "Training Epoch 784: 100%|██████████| 890/890 [00:09<00:00, 91.51it/s]\n",
      "Training Epoch 785: 100%|██████████| 890/890 [00:09<00:00, 95.08it/s] \n",
      "Training Epoch 786: 100%|██████████| 890/890 [00:09<00:00, 94.25it/s]\n",
      "Training Epoch 787: 100%|██████████| 890/890 [00:09<00:00, 94.74it/s]\n",
      "Training Epoch 788: 100%|██████████| 890/890 [00:09<00:00, 95.34it/s] \n",
      "Training Epoch 789: 100%|██████████| 890/890 [00:09<00:00, 91.09it/s]\n",
      "Training Epoch 790: 100%|██████████| 890/890 [00:09<00:00, 93.43it/s]\n",
      "Training Epoch 791: 100%|██████████| 890/890 [00:09<00:00, 95.56it/s] \n"
     ]
    },
    {
     "name": "stdout",
     "output_type": "stream",
     "text": [
      "Epoch 790 - Train Loss: 0.0531, Train MSE: 0.0531, Train MAE: 0.1683\n",
      "Epoch 790 - Validation Loss: 0.9595, Validation MSE: 0.9611, Validation MAE: 0.7432\n"
     ]
    },
    {
     "name": "stderr",
     "output_type": "stream",
     "text": [
      "Training Epoch 792: 100%|██████████| 890/890 [00:09<00:00, 93.27it/s]\n",
      "Training Epoch 793: 100%|██████████| 890/890 [00:09<00:00, 94.67it/s] \n",
      "Training Epoch 794: 100%|██████████| 890/890 [00:09<00:00, 95.28it/s]\n",
      "Training Epoch 795: 100%|██████████| 890/890 [00:09<00:00, 95.04it/s] \n",
      "Training Epoch 796: 100%|██████████| 890/890 [00:09<00:00, 94.49it/s]\n",
      "Training Epoch 797: 100%|██████████| 890/890 [00:09<00:00, 96.66it/s] \n",
      "Training Epoch 798: 100%|██████████| 890/890 [00:09<00:00, 93.10it/s]\n",
      "Training Epoch 799: 100%|██████████| 890/890 [00:08<00:00, 99.61it/s] \n",
      "Training Epoch 800: 100%|██████████| 890/890 [00:09<00:00, 92.70it/s] \n",
      "Training Epoch 801: 100%|██████████| 890/890 [00:09<00:00, 96.09it/s] \n"
     ]
    },
    {
     "name": "stdout",
     "output_type": "stream",
     "text": [
      "Epoch 800 - Train Loss: 0.0517, Train MSE: 0.0518, Train MAE: 0.1664\n",
      "Epoch 800 - Validation Loss: 0.9591, Validation MSE: 0.9609, Validation MAE: 0.7417\n"
     ]
    },
    {
     "name": "stderr",
     "output_type": "stream",
     "text": [
      "Training Epoch 802: 100%|██████████| 890/890 [00:09<00:00, 91.33it/s]\n",
      "Training Epoch 803: 100%|██████████| 890/890 [00:09<00:00, 93.94it/s] \n",
      "Training Epoch 804: 100%|██████████| 890/890 [00:09<00:00, 95.73it/s] \n",
      "Training Epoch 805: 100%|██████████| 890/890 [00:09<00:00, 93.84it/s]\n",
      "Training Epoch 806: 100%|██████████| 890/890 [00:09<00:00, 94.16it/s]\n",
      "Training Epoch 807: 100%|██████████| 890/890 [00:09<00:00, 94.77it/s] \n",
      "Training Epoch 808: 100%|██████████| 890/890 [00:09<00:00, 92.47it/s]\n",
      "Training Epoch 809: 100%|██████████| 890/890 [00:09<00:00, 93.66it/s]\n",
      "Training Epoch 810: 100%|██████████| 890/890 [00:09<00:00, 96.36it/s] \n",
      "Training Epoch 811: 100%|██████████| 890/890 [00:09<00:00, 93.61it/s]\n"
     ]
    },
    {
     "name": "stdout",
     "output_type": "stream",
     "text": [
      "Epoch 810 - Train Loss: 0.0510, Train MSE: 0.0510, Train MAE: 0.1655\n",
      "Epoch 810 - Validation Loss: 0.9500, Validation MSE: 0.9519, Validation MAE: 0.7401\n"
     ]
    },
    {
     "name": "stderr",
     "output_type": "stream",
     "text": [
      "Training Epoch 812: 100%|██████████| 890/890 [00:09<00:00, 93.90it/s]\n",
      "Training Epoch 813: 100%|██████████| 890/890 [00:09<00:00, 93.25it/s] \n",
      "Training Epoch 814: 100%|██████████| 890/890 [00:09<00:00, 92.18it/s]\n",
      "Training Epoch 815: 100%|██████████| 890/890 [00:09<00:00, 92.93it/s]\n",
      "Training Epoch 816: 100%|██████████| 890/890 [00:09<00:00, 94.27it/s]\n",
      "Training Epoch 817: 100%|██████████| 890/890 [00:09<00:00, 93.32it/s]\n",
      "Training Epoch 818: 100%|██████████| 890/890 [00:09<00:00, 93.30it/s]\n",
      "Training Epoch 819: 100%|██████████| 890/890 [00:09<00:00, 94.46it/s] \n",
      "Training Epoch 820: 100%|██████████| 890/890 [00:09<00:00, 94.78it/s]\n",
      "Training Epoch 821: 100%|██████████| 890/890 [00:09<00:00, 93.09it/s]\n"
     ]
    },
    {
     "name": "stdout",
     "output_type": "stream",
     "text": [
      "Epoch 820 - Train Loss: 0.0500, Train MSE: 0.0501, Train MAE: 0.1630\n",
      "Epoch 820 - Validation Loss: 0.9698, Validation MSE: 0.9717, Validation MAE: 0.7460\n"
     ]
    },
    {
     "name": "stderr",
     "output_type": "stream",
     "text": [
      "Training Epoch 822: 100%|██████████| 890/890 [00:09<00:00, 94.73it/s] \n",
      "Training Epoch 823: 100%|██████████| 890/890 [00:09<00:00, 93.00it/s]\n",
      "Training Epoch 824: 100%|██████████| 890/890 [00:09<00:00, 93.48it/s]\n",
      "Training Epoch 825: 100%|██████████| 890/890 [00:09<00:00, 96.05it/s] \n",
      "Training Epoch 826: 100%|██████████| 890/890 [00:09<00:00, 92.93it/s]\n",
      "Training Epoch 827: 100%|██████████| 890/890 [00:09<00:00, 93.95it/s]\n",
      "Training Epoch 828: 100%|██████████| 890/890 [00:09<00:00, 94.71it/s]\n",
      "Training Epoch 829: 100%|██████████| 890/890 [00:09<00:00, 94.85it/s]\n",
      "Training Epoch 830: 100%|██████████| 890/890 [00:10<00:00, 87.49it/s]\n",
      "Training Epoch 831: 100%|██████████| 890/890 [00:09<00:00, 91.48it/s]\n"
     ]
    },
    {
     "name": "stdout",
     "output_type": "stream",
     "text": [
      "Epoch 830 - Train Loss: 0.0491, Train MSE: 0.0491, Train MAE: 0.1631\n",
      "Epoch 830 - Validation Loss: 0.9719, Validation MSE: 0.9732, Validation MAE: 0.7472\n"
     ]
    },
    {
     "name": "stderr",
     "output_type": "stream",
     "text": [
      "Training Epoch 832: 100%|██████████| 890/890 [00:09<00:00, 93.74it/s] \n",
      "Training Epoch 833: 100%|██████████| 890/890 [00:09<00:00, 93.80it/s] \n",
      "Training Epoch 834: 100%|██████████| 890/890 [00:09<00:00, 92.62it/s]\n",
      "Training Epoch 835: 100%|██████████| 890/890 [00:09<00:00, 94.63it/s] \n",
      "Training Epoch 836: 100%|██████████| 890/890 [00:09<00:00, 92.70it/s]\n",
      "Training Epoch 837: 100%|██████████| 890/890 [00:09<00:00, 96.76it/s] \n",
      "Training Epoch 838: 100%|██████████| 890/890 [00:09<00:00, 95.26it/s] \n",
      "Training Epoch 839: 100%|██████████| 890/890 [00:09<00:00, 93.34it/s]\n",
      "Training Epoch 840: 100%|██████████| 890/890 [00:09<00:00, 92.30it/s]\n",
      "Training Epoch 841: 100%|██████████| 890/890 [00:09<00:00, 95.26it/s] \n"
     ]
    },
    {
     "name": "stdout",
     "output_type": "stream",
     "text": [
      "Epoch 840 - Train Loss: 0.0488, Train MSE: 0.0488, Train MAE: 0.1623\n",
      "Epoch 840 - Validation Loss: 0.9698, Validation MSE: 0.9712, Validation MAE: 0.7465\n"
     ]
    },
    {
     "name": "stderr",
     "output_type": "stream",
     "text": [
      "Training Epoch 842: 100%|██████████| 890/890 [00:09<00:00, 92.50it/s]\n",
      "Training Epoch 843: 100%|██████████| 890/890 [00:09<00:00, 97.05it/s] \n",
      "Training Epoch 844: 100%|██████████| 890/890 [00:09<00:00, 92.44it/s] \n",
      "Training Epoch 845: 100%|██████████| 890/890 [00:09<00:00, 95.22it/s] \n",
      "Training Epoch 846: 100%|██████████| 890/890 [00:09<00:00, 94.55it/s] \n",
      "Training Epoch 847: 100%|██████████| 890/890 [00:09<00:00, 94.62it/s] \n",
      "Training Epoch 848: 100%|██████████| 890/890 [00:09<00:00, 93.24it/s] \n",
      "Training Epoch 849: 100%|██████████| 890/890 [00:09<00:00, 92.89it/s]\n",
      "Training Epoch 850: 100%|██████████| 890/890 [00:09<00:00, 92.09it/s] \n",
      "Training Epoch 851: 100%|██████████| 890/890 [00:09<00:00, 93.78it/s]\n"
     ]
    },
    {
     "name": "stdout",
     "output_type": "stream",
     "text": [
      "Epoch 850 - Train Loss: 0.0468, Train MSE: 0.0468, Train MAE: 0.1600\n",
      "Epoch 850 - Validation Loss: 0.9662, Validation MSE: 0.9682, Validation MAE: 0.7447\n"
     ]
    },
    {
     "name": "stderr",
     "output_type": "stream",
     "text": [
      "Training Epoch 852: 100%|██████████| 890/890 [00:09<00:00, 94.62it/s] \n",
      "Training Epoch 853: 100%|██████████| 890/890 [00:09<00:00, 94.25it/s]\n",
      "Training Epoch 854: 100%|██████████| 890/890 [00:09<00:00, 94.46it/s]\n",
      "Training Epoch 855: 100%|██████████| 890/890 [00:09<00:00, 93.26it/s]\n",
      "Training Epoch 856: 100%|██████████| 890/890 [00:09<00:00, 90.20it/s]\n",
      "Training Epoch 857: 100%|██████████| 890/890 [00:09<00:00, 93.98it/s] \n",
      "Training Epoch 858: 100%|██████████| 890/890 [00:09<00:00, 93.67it/s] \n",
      "Training Epoch 859: 100%|██████████| 890/890 [00:10<00:00, 83.50it/s]\n",
      "Training Epoch 860: 100%|██████████| 890/890 [00:09<00:00, 94.44it/s] \n",
      "Training Epoch 861: 100%|██████████| 890/890 [00:09<00:00, 95.06it/s]\n"
     ]
    },
    {
     "name": "stdout",
     "output_type": "stream",
     "text": [
      "Epoch 860 - Train Loss: 0.0482, Train MSE: 0.0482, Train MAE: 0.1605\n",
      "Epoch 860 - Validation Loss: 0.9578, Validation MSE: 0.9592, Validation MAE: 0.7415\n"
     ]
    },
    {
     "name": "stderr",
     "output_type": "stream",
     "text": [
      "Training Epoch 862: 100%|██████████| 890/890 [00:09<00:00, 91.09it/s]\n",
      "Training Epoch 863: 100%|██████████| 890/890 [00:09<00:00, 93.42it/s] \n",
      "Training Epoch 864: 100%|██████████| 890/890 [00:09<00:00, 94.08it/s]\n",
      "Training Epoch 865: 100%|██████████| 890/890 [00:09<00:00, 94.73it/s]\n",
      "Training Epoch 866: 100%|██████████| 890/890 [00:09<00:00, 96.90it/s] \n",
      "Training Epoch 867: 100%|██████████| 890/890 [00:09<00:00, 91.28it/s]\n",
      "Training Epoch 868: 100%|██████████| 890/890 [00:10<00:00, 85.47it/s]\n",
      "Training Epoch 869: 100%|██████████| 890/890 [00:09<00:00, 92.79it/s] \n",
      "Training Epoch 870: 100%|██████████| 890/890 [00:09<00:00, 90.84it/s]\n",
      "Training Epoch 871: 100%|██████████| 890/890 [00:09<00:00, 91.61it/s]\n"
     ]
    },
    {
     "name": "stdout",
     "output_type": "stream",
     "text": [
      "Epoch 870 - Train Loss: 0.0460, Train MSE: 0.0460, Train MAE: 0.1589\n",
      "Epoch 870 - Validation Loss: 0.9731, Validation MSE: 0.9744, Validation MAE: 0.7483\n"
     ]
    },
    {
     "name": "stderr",
     "output_type": "stream",
     "text": [
      "Training Epoch 872: 100%|██████████| 890/890 [00:09<00:00, 93.81it/s]\n",
      "Training Epoch 873: 100%|██████████| 890/890 [00:14<00:00, 60.22it/s]\n",
      "Training Epoch 874: 100%|██████████| 890/890 [00:14<00:00, 62.00it/s]\n",
      "Training Epoch 875: 100%|██████████| 890/890 [00:09<00:00, 96.25it/s] \n",
      "Training Epoch 876: 100%|██████████| 890/890 [00:09<00:00, 93.69it/s]\n",
      "Training Epoch 877: 100%|██████████| 890/890 [00:09<00:00, 93.41it/s]\n",
      "Training Epoch 878: 100%|██████████| 890/890 [16:37<00:00,  1.12s/it]  \n",
      "Training Epoch 879: 100%|██████████| 890/890 [00:11<00:00, 80.23it/s]\n",
      "Training Epoch 880: 100%|██████████| 890/890 [00:11<00:00, 78.89it/s]\n",
      "Training Epoch 881: 100%|██████████| 890/890 [09:32<00:00,  1.55it/s]\n"
     ]
    },
    {
     "name": "stdout",
     "output_type": "stream",
     "text": [
      "Epoch 880 - Train Loss: 0.0461, Train MSE: 0.0461, Train MAE: 0.1593\n",
      "Epoch 880 - Validation Loss: 0.9554, Validation MSE: 0.9572, Validation MAE: 0.7415\n"
     ]
    },
    {
     "name": "stderr",
     "output_type": "stream",
     "text": [
      "Training Epoch 882: 100%|██████████| 890/890 [00:11<00:00, 75.80it/s]\n",
      "Training Epoch 883: 100%|██████████| 890/890 [32:07<00:00,  2.17s/it]  \n",
      "Training Epoch 884: 100%|██████████| 890/890 [32:11<00:00,  2.17s/it]  \n",
      "Training Epoch 885: 100%|██████████| 890/890 [45:19<00:00,  3.06s/it]  \n",
      "Training Epoch 886: 100%|██████████| 890/890 [30:36<00:00,  2.06s/it]  \n",
      "Training Epoch 887: 100%|██████████| 890/890 [31:20<00:00,  2.11s/it]  \n",
      "Training Epoch 888: 100%|██████████| 890/890 [25:25<00:00,  1.71s/it]  \n",
      "Training Epoch 889: 100%|██████████| 890/890 [18:19<00:00,  1.24s/it]  \n",
      "Training Epoch 890: 100%|██████████| 890/890 [31:48<00:00,  2.14s/it]  \n",
      "Training Epoch 891: 100%|██████████| 890/890 [29:09<00:00,  1.97s/it]  \n"
     ]
    },
    {
     "name": "stdout",
     "output_type": "stream",
     "text": [
      "Epoch 890 - Train Loss: 0.0476, Train MSE: 0.0477, Train MAE: 0.1605\n",
      "Epoch 890 - Validation Loss: 0.9625, Validation MSE: 0.9651, Validation MAE: 0.7410\n"
     ]
    },
    {
     "name": "stderr",
     "output_type": "stream",
     "text": [
      "Training Epoch 892: 100%|██████████| 890/890 [32:15<00:00,  2.17s/it]  \n",
      "Training Epoch 893: 100%|██████████| 890/890 [49:46<00:00,  3.36s/it]  \n",
      "Training Epoch 894: 100%|██████████| 890/890 [17:53<00:00,  1.21s/it]\n",
      "Training Epoch 895: 100%|██████████| 890/890 [33:52<00:00,  2.28s/it]  \n",
      "Training Epoch 896: 100%|██████████| 890/890 [33:05<00:00,  2.23s/it]  \n",
      "Training Epoch 897: 100%|██████████| 890/890 [48:29<00:00,  3.27s/it]  \n",
      "Training Epoch 898: 100%|██████████| 890/890 [15:03<00:00,  1.02s/it]  \n",
      "Training Epoch 899: 100%|██████████| 890/890 [50:44<00:00,  3.42s/it]  \n",
      "Training Epoch 900: 100%|██████████| 890/890 [50:05<00:00,  3.38s/it]  \n",
      "Training Epoch 901: 100%|██████████| 890/890 [20:02<00:00,  1.35s/it]  \n"
     ]
    },
    {
     "name": "stdout",
     "output_type": "stream",
     "text": [
      "Epoch 900 - Train Loss: 0.0458, Train MSE: 0.0458, Train MAE: 0.1584\n",
      "Epoch 900 - Validation Loss: 0.9649, Validation MSE: 0.9665, Validation MAE: 0.7468\n"
     ]
    },
    {
     "name": "stderr",
     "output_type": "stream",
     "text": [
      "Training Epoch 902: 100%|██████████| 890/890 [32:05<00:00,  2.16s/it]  \n",
      "Training Epoch 903: 100%|██████████| 890/890 [00:10<00:00, 81.09it/s]\n",
      "Training Epoch 904: 100%|██████████| 890/890 [00:52<00:00, 16.94it/s]\n",
      "Training Epoch 905: 100%|██████████| 890/890 [00:10<00:00, 86.03it/s]\n",
      "Training Epoch 906: 100%|██████████| 890/890 [00:09<00:00, 93.15it/s]\n",
      "Training Epoch 907: 100%|██████████| 890/890 [00:10<00:00, 83.46it/s]\n",
      "Training Epoch 908: 100%|██████████| 890/890 [00:09<00:00, 91.25it/s]\n",
      "Training Epoch 909: 100%|██████████| 890/890 [00:09<00:00, 94.98it/s] \n",
      "Training Epoch 910: 100%|██████████| 890/890 [00:09<00:00, 93.26it/s] \n",
      "Training Epoch 911: 100%|██████████| 890/890 [00:09<00:00, 93.47it/s]\n"
     ]
    },
    {
     "name": "stdout",
     "output_type": "stream",
     "text": [
      "Epoch 910 - Train Loss: 0.0455, Train MSE: 0.0454, Train MAE: 0.1570\n",
      "Epoch 910 - Validation Loss: 0.9697, Validation MSE: 0.9717, Validation MAE: 0.7472\n"
     ]
    },
    {
     "name": "stderr",
     "output_type": "stream",
     "text": [
      "Training Epoch 912: 100%|██████████| 890/890 [00:09<00:00, 95.40it/s]\n",
      "Training Epoch 913: 100%|██████████| 890/890 [00:09<00:00, 93.37it/s]\n",
      "Training Epoch 914: 100%|██████████| 890/890 [00:09<00:00, 94.18it/s]\n",
      "Training Epoch 915: 100%|██████████| 890/890 [00:09<00:00, 94.74it/s] \n",
      "Training Epoch 916: 100%|██████████| 890/890 [00:09<00:00, 91.49it/s]\n",
      "Training Epoch 917: 100%|██████████| 890/890 [00:09<00:00, 94.02it/s] \n",
      "Training Epoch 918: 100%|██████████| 890/890 [00:09<00:00, 94.06it/s] \n",
      "Training Epoch 919: 100%|██████████| 890/890 [00:09<00:00, 91.53it/s]\n",
      "Training Epoch 920: 100%|██████████| 890/890 [00:10<00:00, 88.01it/s]\n",
      "Training Epoch 921: 100%|██████████| 890/890 [00:09<00:00, 94.21it/s] \n"
     ]
    },
    {
     "name": "stdout",
     "output_type": "stream",
     "text": [
      "Epoch 920 - Train Loss: 0.0462, Train MSE: 0.0462, Train MAE: 0.1578\n",
      "Epoch 920 - Validation Loss: 0.9801, Validation MSE: 0.9809, Validation MAE: 0.7474\n"
     ]
    },
    {
     "name": "stderr",
     "output_type": "stream",
     "text": [
      "Training Epoch 922: 100%|██████████| 890/890 [00:09<00:00, 94.73it/s]\n",
      "Training Epoch 923: 100%|██████████| 890/890 [00:09<00:00, 93.05it/s] \n",
      "Training Epoch 924: 100%|██████████| 890/890 [00:10<00:00, 85.97it/s]\n",
      "Training Epoch 925: 100%|██████████| 890/890 [00:09<00:00, 89.86it/s]\n",
      "Training Epoch 926: 100%|██████████| 890/890 [00:10<00:00, 85.73it/s]\n",
      "Training Epoch 927: 100%|██████████| 890/890 [00:09<00:00, 90.04it/s]\n",
      "Training Epoch 928: 100%|██████████| 890/890 [00:09<00:00, 91.65it/s]\n",
      "Training Epoch 929: 100%|██████████| 890/890 [00:09<00:00, 90.22it/s]\n",
      "Training Epoch 930: 100%|██████████| 890/890 [00:09<00:00, 90.19it/s]\n",
      "Training Epoch 931: 100%|██████████| 890/890 [00:09<00:00, 95.16it/s] \n"
     ]
    },
    {
     "name": "stdout",
     "output_type": "stream",
     "text": [
      "Epoch 930 - Train Loss: 0.0471, Train MSE: 0.0471, Train MAE: 0.1587\n",
      "Epoch 930 - Validation Loss: 0.9739, Validation MSE: 0.9752, Validation MAE: 0.7480\n"
     ]
    },
    {
     "name": "stderr",
     "output_type": "stream",
     "text": [
      "Training Epoch 932: 100%|██████████| 890/890 [00:09<00:00, 89.96it/s]\n",
      "Training Epoch 933: 100%|██████████| 890/890 [00:09<00:00, 90.76it/s]\n",
      "Training Epoch 934: 100%|██████████| 890/890 [00:09<00:00, 91.39it/s]\n",
      "Training Epoch 935: 100%|██████████| 890/890 [00:09<00:00, 90.67it/s]\n",
      "Training Epoch 936: 100%|██████████| 890/890 [00:09<00:00, 90.29it/s]\n",
      "Training Epoch 937: 100%|██████████| 890/890 [00:09<00:00, 92.21it/s]\n",
      "Training Epoch 938: 100%|██████████| 890/890 [00:09<00:00, 90.10it/s]\n",
      "Training Epoch 939: 100%|██████████| 890/890 [00:09<00:00, 91.25it/s]\n",
      "Training Epoch 940: 100%|██████████| 890/890 [00:09<00:00, 93.19it/s]\n",
      "Training Epoch 941: 100%|██████████| 890/890 [04:19<00:00,  3.43it/s]  \n"
     ]
    },
    {
     "name": "stdout",
     "output_type": "stream",
     "text": [
      "Epoch 940 - Train Loss: 0.0468, Train MSE: 0.0468, Train MAE: 0.1579\n",
      "Epoch 940 - Validation Loss: 0.9766, Validation MSE: 0.9778, Validation MAE: 0.7492\n"
     ]
    },
    {
     "name": "stderr",
     "output_type": "stream",
     "text": [
      "Training Epoch 942: 100%|██████████| 890/890 [21:12<00:00,  1.43s/it]  \n",
      "Training Epoch 943: 100%|██████████| 890/890 [00:10<00:00, 88.22it/s] \n",
      "Training Epoch 944: 100%|██████████| 890/890 [00:09<00:00, 92.62it/s]\n",
      "Training Epoch 945: 100%|██████████| 890/890 [00:09<00:00, 94.49it/s]\n",
      "Training Epoch 946: 100%|██████████| 890/890 [00:09<00:00, 93.40it/s]\n",
      "Training Epoch 947: 100%|██████████| 890/890 [00:09<00:00, 94.39it/s] \n",
      "Training Epoch 948: 100%|██████████| 890/890 [00:09<00:00, 95.98it/s]\n",
      "Training Epoch 949: 100%|██████████| 890/890 [00:09<00:00, 94.29it/s]\n",
      "Training Epoch 950: 100%|██████████| 890/890 [00:09<00:00, 93.37it/s]\n",
      "Training Epoch 951: 100%|██████████| 890/890 [00:09<00:00, 92.02it/s]\n"
     ]
    },
    {
     "name": "stdout",
     "output_type": "stream",
     "text": [
      "Epoch 950 - Train Loss: 0.0442, Train MSE: 0.0442, Train MAE: 0.1562\n",
      "Epoch 950 - Validation Loss: 0.9615, Validation MSE: 0.9625, Validation MAE: 0.7414\n"
     ]
    },
    {
     "name": "stderr",
     "output_type": "stream",
     "text": [
      "Training Epoch 952: 100%|██████████| 890/890 [00:09<00:00, 90.68it/s]\n",
      "Training Epoch 953: 100%|██████████| 890/890 [00:09<00:00, 93.48it/s] \n",
      "Training Epoch 954: 100%|██████████| 890/890 [00:09<00:00, 93.39it/s] \n",
      "Training Epoch 955: 100%|██████████| 890/890 [00:09<00:00, 89.76it/s]\n",
      "Training Epoch 956: 100%|██████████| 890/890 [00:09<00:00, 91.47it/s]\n",
      "Training Epoch 957: 100%|██████████| 890/890 [00:09<00:00, 91.14it/s]\n",
      "Training Epoch 958: 100%|██████████| 890/890 [00:09<00:00, 89.06it/s]\n",
      "Training Epoch 959: 100%|██████████| 890/890 [00:09<00:00, 91.94it/s]\n",
      "Training Epoch 960: 100%|██████████| 890/890 [00:09<00:00, 90.89it/s]\n",
      "Training Epoch 961: 100%|██████████| 890/890 [00:09<00:00, 98.03it/s] \n"
     ]
    },
    {
     "name": "stdout",
     "output_type": "stream",
     "text": [
      "Epoch 960 - Train Loss: 0.0440, Train MSE: 0.0439, Train MAE: 0.1545\n",
      "Epoch 960 - Validation Loss: 0.9682, Validation MSE: 0.9694, Validation MAE: 0.7434\n"
     ]
    },
    {
     "name": "stderr",
     "output_type": "stream",
     "text": [
      "Training Epoch 962: 100%|██████████| 890/890 [00:09<00:00, 97.77it/s] \n",
      "Training Epoch 963: 100%|██████████| 890/890 [00:09<00:00, 98.50it/s] \n",
      "Training Epoch 964: 100%|██████████| 890/890 [00:09<00:00, 96.70it/s] \n",
      "Training Epoch 965: 100%|██████████| 890/890 [00:09<00:00, 98.14it/s] \n",
      "Training Epoch 966: 100%|██████████| 890/890 [00:08<00:00, 99.69it/s] \n",
      "Training Epoch 967: 100%|██████████| 890/890 [00:09<00:00, 95.30it/s]\n",
      "Training Epoch 968: 100%|██████████| 890/890 [00:09<00:00, 96.70it/s] \n",
      "Training Epoch 969: 100%|██████████| 890/890 [00:09<00:00, 98.48it/s] \n",
      "Training Epoch 970: 100%|██████████| 890/890 [00:09<00:00, 95.56it/s]\n",
      "Training Epoch 971: 100%|██████████| 890/890 [00:09<00:00, 95.98it/s]\n"
     ]
    },
    {
     "name": "stdout",
     "output_type": "stream",
     "text": [
      "Epoch 970 - Train Loss: 0.0458, Train MSE: 0.0458, Train MAE: 0.1577\n",
      "Epoch 970 - Validation Loss: 0.9681, Validation MSE: 0.9693, Validation MAE: 0.7421\n"
     ]
    },
    {
     "name": "stderr",
     "output_type": "stream",
     "text": [
      "Training Epoch 972: 100%|██████████| 890/890 [00:08<00:00, 100.31it/s]\n",
      "Training Epoch 973: 100%|██████████| 890/890 [00:08<00:00, 99.78it/s] \n",
      "Training Epoch 974: 100%|██████████| 890/890 [00:09<00:00, 97.81it/s] \n",
      "Training Epoch 975: 100%|██████████| 890/890 [00:08<00:00, 98.91it/s] \n",
      "Training Epoch 976: 100%|██████████| 890/890 [00:09<00:00, 98.70it/s] \n",
      "Training Epoch 977: 100%|██████████| 890/890 [00:09<00:00, 96.98it/s] \n",
      "Training Epoch 978: 100%|██████████| 890/890 [00:09<00:00, 97.90it/s] \n",
      "Training Epoch 979: 100%|██████████| 890/890 [00:09<00:00, 96.99it/s] \n",
      "Training Epoch 980: 100%|██████████| 890/890 [00:09<00:00, 95.74it/s] \n",
      "Training Epoch 981: 100%|██████████| 890/890 [00:09<00:00, 97.71it/s] \n"
     ]
    },
    {
     "name": "stdout",
     "output_type": "stream",
     "text": [
      "Epoch 980 - Train Loss: 0.0439, Train MSE: 0.0439, Train MAE: 0.1544\n",
      "Epoch 980 - Validation Loss: 0.9659, Validation MSE: 0.9672, Validation MAE: 0.7439\n"
     ]
    },
    {
     "name": "stderr",
     "output_type": "stream",
     "text": [
      "Training Epoch 982: 100%|██████████| 890/890 [00:08<00:00, 99.85it/s] \n",
      "Training Epoch 983: 100%|██████████| 890/890 [00:09<00:00, 96.22it/s] \n",
      "Training Epoch 984: 100%|██████████| 890/890 [00:09<00:00, 96.14it/s] \n",
      "Training Epoch 985: 100%|██████████| 890/890 [00:09<00:00, 96.55it/s] \n",
      "Training Epoch 986: 100%|██████████| 890/890 [00:09<00:00, 97.61it/s] \n",
      "Training Epoch 987: 100%|██████████| 890/890 [00:09<00:00, 93.15it/s] \n",
      "Training Epoch 988: 100%|██████████| 890/890 [00:09<00:00, 95.03it/s] \n",
      "Training Epoch 989: 100%|██████████| 890/890 [00:09<00:00, 97.74it/s] \n",
      "Training Epoch 990: 100%|██████████| 890/890 [00:09<00:00, 96.91it/s] \n",
      "Training Epoch 991: 100%|██████████| 890/890 [00:08<00:00, 99.46it/s] \n"
     ]
    },
    {
     "name": "stdout",
     "output_type": "stream",
     "text": [
      "Epoch 990 - Train Loss: 0.0441, Train MSE: 0.0442, Train MAE: 0.1538\n",
      "Epoch 990 - Validation Loss: 0.9591, Validation MSE: 0.9593, Validation MAE: 0.7408\n"
     ]
    },
    {
     "name": "stderr",
     "output_type": "stream",
     "text": [
      "Training Epoch 992: 100%|██████████| 890/890 [00:08<00:00, 99.48it/s] \n",
      "Training Epoch 993: 100%|██████████| 890/890 [00:09<00:00, 95.44it/s] \n",
      "Training Epoch 994: 100%|██████████| 890/890 [00:09<00:00, 96.62it/s] \n",
      "Training Epoch 995: 100%|██████████| 890/890 [00:09<00:00, 98.32it/s] \n",
      "Training Epoch 996: 100%|██████████| 890/890 [00:09<00:00, 95.05it/s] \n",
      "Training Epoch 997: 100%|██████████| 890/890 [00:09<00:00, 94.67it/s]\n",
      "Training Epoch 998: 100%|██████████| 890/890 [00:09<00:00, 98.52it/s] \n",
      "Training Epoch 999: 100%|██████████| 890/890 [00:09<00:00, 97.80it/s] \n",
      "Training Epoch 1000: 100%|██████████| 890/890 [00:09<00:00, 96.78it/s] \n",
      "Training Epoch 1001: 100%|██████████| 890/890 [00:09<00:00, 98.28it/s] \n"
     ]
    },
    {
     "name": "stdout",
     "output_type": "stream",
     "text": [
      "Epoch 1000 - Train Loss: 0.0456, Train MSE: 0.0455, Train MAE: 0.1554\n",
      "Epoch 1000 - Validation Loss: 0.9568, Validation MSE: 0.9586, Validation MAE: 0.7430\n"
     ]
    },
    {
     "name": "stderr",
     "output_type": "stream",
     "text": [
      "Training Epoch 1002: 100%|██████████| 890/890 [00:09<00:00, 97.33it/s] \n",
      "Training Epoch 1003: 100%|██████████| 890/890 [00:09<00:00, 95.22it/s]\n",
      "Training Epoch 1004: 100%|██████████| 890/890 [00:09<00:00, 95.67it/s] \n",
      "Training Epoch 1005: 100%|██████████| 890/890 [00:08<00:00, 100.22it/s]\n",
      "Training Epoch 1006: 100%|██████████| 890/890 [00:09<00:00, 96.19it/s] \n",
      "Training Epoch 1007: 100%|██████████| 890/890 [00:09<00:00, 96.58it/s] \n",
      "Training Epoch 1008: 100%|██████████| 890/890 [00:09<00:00, 94.84it/s] \n",
      "Training Epoch 1009: 100%|██████████| 890/890 [00:09<00:00, 97.00it/s] \n",
      "Training Epoch 1010: 100%|██████████| 890/890 [00:09<00:00, 95.34it/s] \n",
      "Training Epoch 1011: 100%|██████████| 890/890 [00:08<00:00, 98.91it/s] \n"
     ]
    },
    {
     "name": "stdout",
     "output_type": "stream",
     "text": [
      "Epoch 1010 - Train Loss: 0.0416, Train MSE: 0.0416, Train MAE: 0.1506\n",
      "Epoch 1010 - Validation Loss: 0.9673, Validation MSE: 0.9694, Validation MAE: 0.7446\n"
     ]
    },
    {
     "name": "stderr",
     "output_type": "stream",
     "text": [
      "Training Epoch 1012: 100%|██████████| 890/890 [00:09<00:00, 97.29it/s] \n",
      "Training Epoch 1013: 100%|██████████| 890/890 [00:09<00:00, 95.27it/s] \n",
      "Training Epoch 1014: 100%|██████████| 890/890 [00:09<00:00, 96.18it/s] \n",
      "Training Epoch 1015: 100%|██████████| 890/890 [00:09<00:00, 97.65it/s] \n",
      "Training Epoch 1016: 100%|██████████| 890/890 [00:09<00:00, 95.43it/s] \n",
      "Training Epoch 1017: 100%|██████████| 890/890 [00:10<00:00, 87.16it/s] \n",
      "Training Epoch 1018: 100%|██████████| 890/890 [00:09<00:00, 92.24it/s] \n",
      "Training Epoch 1019: 100%|██████████| 890/890 [00:09<00:00, 94.82it/s] \n",
      "Training Epoch 1020: 100%|██████████| 890/890 [00:09<00:00, 95.70it/s]\n",
      "Training Epoch 1021: 100%|██████████| 890/890 [00:09<00:00, 96.62it/s] \n"
     ]
    },
    {
     "name": "stdout",
     "output_type": "stream",
     "text": [
      "Epoch 1020 - Train Loss: 0.0421, Train MSE: 0.0421, Train MAE: 0.1518\n",
      "Epoch 1020 - Validation Loss: 0.9532, Validation MSE: 0.9556, Validation MAE: 0.7385\n"
     ]
    },
    {
     "name": "stderr",
     "output_type": "stream",
     "text": [
      "Training Epoch 1022: 100%|██████████| 890/890 [00:09<00:00, 93.70it/s]\n",
      "Training Epoch 1023: 100%|██████████| 890/890 [00:09<00:00, 94.88it/s]\n",
      "Training Epoch 1024: 100%|██████████| 890/890 [00:09<00:00, 97.21it/s] \n",
      "Training Epoch 1025: 100%|██████████| 890/890 [00:09<00:00, 95.36it/s]\n",
      "Training Epoch 1026: 100%|██████████| 890/890 [00:09<00:00, 96.77it/s] \n",
      "Training Epoch 1027: 100%|██████████| 890/890 [00:09<00:00, 94.62it/s]\n",
      "Training Epoch 1028: 100%|██████████| 890/890 [00:09<00:00, 95.85it/s] \n",
      "Training Epoch 1029: 100%|██████████| 890/890 [00:09<00:00, 96.94it/s] \n",
      "Training Epoch 1030: 100%|██████████| 890/890 [00:09<00:00, 96.08it/s] \n",
      "Training Epoch 1031: 100%|██████████| 890/890 [00:09<00:00, 94.95it/s] \n"
     ]
    },
    {
     "name": "stdout",
     "output_type": "stream",
     "text": [
      "Epoch 1030 - Train Loss: 0.0422, Train MSE: 0.0422, Train MAE: 0.1510\n",
      "Epoch 1030 - Validation Loss: 0.9576, Validation MSE: 0.9589, Validation MAE: 0.7392\n"
     ]
    },
    {
     "name": "stderr",
     "output_type": "stream",
     "text": [
      "Training Epoch 1032: 100%|██████████| 890/890 [00:09<00:00, 95.13it/s]\n",
      "Training Epoch 1033: 100%|██████████| 890/890 [01:20<00:00, 11.12it/s] \n",
      "Training Epoch 1034: 100%|██████████| 890/890 [00:09<00:00, 90.80it/s] \n",
      "Training Epoch 1035: 100%|██████████| 890/890 [00:09<00:00, 91.73it/s]\n",
      "Training Epoch 1036: 100%|██████████| 890/890 [00:10<00:00, 88.72it/s]\n",
      "Training Epoch 1037: 100%|██████████| 890/890 [00:09<00:00, 96.40it/s] \n",
      "Training Epoch 1038: 100%|██████████| 890/890 [00:09<00:00, 93.20it/s] \n",
      "Training Epoch 1039: 100%|██████████| 890/890 [00:09<00:00, 95.17it/s]\n",
      "Training Epoch 1040: 100%|██████████| 890/890 [00:09<00:00, 98.73it/s] \n",
      "Training Epoch 1041: 100%|██████████| 890/890 [00:09<00:00, 96.95it/s] \n"
     ]
    },
    {
     "name": "stdout",
     "output_type": "stream",
     "text": [
      "Epoch 1040 - Train Loss: 0.0425, Train MSE: 0.0425, Train MAE: 0.1523\n",
      "Epoch 1040 - Validation Loss: 0.9531, Validation MSE: 0.9542, Validation MAE: 0.7368\n"
     ]
    },
    {
     "name": "stderr",
     "output_type": "stream",
     "text": [
      "Training Epoch 1042: 100%|██████████| 890/890 [00:09<00:00, 90.42it/s]\n",
      "Training Epoch 1043: 100%|██████████| 890/890 [00:09<00:00, 93.14it/s] \n",
      "Training Epoch 1044: 100%|██████████| 890/890 [00:09<00:00, 90.48it/s] \n",
      "Training Epoch 1045: 100%|██████████| 890/890 [00:09<00:00, 94.30it/s]\n",
      "Training Epoch 1046: 100%|██████████| 890/890 [00:09<00:00, 98.22it/s] \n",
      "Training Epoch 1047: 100%|██████████| 890/890 [00:08<00:00, 100.00it/s]\n",
      "Training Epoch 1048: 100%|██████████| 890/890 [00:09<00:00, 96.60it/s]\n",
      "Training Epoch 1049: 100%|██████████| 890/890 [00:09<00:00, 96.61it/s] \n",
      "Training Epoch 1050: 100%|██████████| 890/890 [00:08<00:00, 101.82it/s]\n",
      "Training Epoch 1051: 100%|██████████| 890/890 [00:09<00:00, 97.09it/s] \n"
     ]
    },
    {
     "name": "stdout",
     "output_type": "stream",
     "text": [
      "Epoch 1050 - Train Loss: 0.0415, Train MSE: 0.0416, Train MAE: 0.1512\n",
      "Epoch 1050 - Validation Loss: 0.9609, Validation MSE: 0.9621, Validation MAE: 0.7415\n"
     ]
    },
    {
     "name": "stderr",
     "output_type": "stream",
     "text": [
      "Training Epoch 1052: 100%|██████████| 890/890 [00:09<00:00, 98.64it/s] \n",
      "Training Epoch 1053: 100%|██████████| 890/890 [00:08<00:00, 99.55it/s] \n",
      "Training Epoch 1054: 100%|██████████| 890/890 [00:08<00:00, 99.25it/s] \n",
      "Training Epoch 1055: 100%|██████████| 890/890 [00:09<00:00, 91.26it/s]\n",
      "Training Epoch 1056: 100%|██████████| 890/890 [00:09<00:00, 90.54it/s] \n",
      "Training Epoch 1057: 100%|██████████| 890/890 [00:09<00:00, 93.65it/s] \n",
      "Training Epoch 1058: 100%|██████████| 890/890 [00:09<00:00, 95.09it/s]\n",
      "Training Epoch 1059: 100%|██████████| 890/890 [00:09<00:00, 90.96it/s]\n",
      "Training Epoch 1060: 100%|██████████| 890/890 [00:09<00:00, 94.35it/s] \n",
      "Training Epoch 1061: 100%|██████████| 890/890 [00:09<00:00, 92.04it/s]\n"
     ]
    },
    {
     "name": "stdout",
     "output_type": "stream",
     "text": [
      "Epoch 1060 - Train Loss: 0.0414, Train MSE: 0.0414, Train MAE: 0.1501\n",
      "Epoch 1060 - Validation Loss: 0.9482, Validation MSE: 0.9492, Validation MAE: 0.7359\n"
     ]
    },
    {
     "name": "stderr",
     "output_type": "stream",
     "text": [
      "Training Epoch 1062: 100%|██████████| 890/890 [00:09<00:00, 92.87it/s] \n",
      "Training Epoch 1063: 100%|██████████| 890/890 [00:09<00:00, 93.02it/s] \n",
      "Training Epoch 1064: 100%|██████████| 890/890 [00:09<00:00, 95.17it/s] \n",
      "Training Epoch 1065: 100%|██████████| 890/890 [00:09<00:00, 90.56it/s]\n",
      "Training Epoch 1066: 100%|██████████| 890/890 [00:10<00:00, 88.31it/s] \n",
      "Training Epoch 1067: 100%|██████████| 890/890 [00:10<00:00, 88.53it/s]\n",
      "Training Epoch 1068: 100%|██████████| 890/890 [00:09<00:00, 90.53it/s]\n",
      "Training Epoch 1069: 100%|██████████| 890/890 [00:09<00:00, 91.49it/s] \n",
      "Training Epoch 1070: 100%|██████████| 890/890 [00:09<00:00, 92.33it/s]\n",
      "Training Epoch 1071: 100%|██████████| 890/890 [00:09<00:00, 91.00it/s]\n"
     ]
    },
    {
     "name": "stdout",
     "output_type": "stream",
     "text": [
      "Epoch 1070 - Train Loss: 0.0417, Train MSE: 0.0417, Train MAE: 0.1506\n",
      "Epoch 1070 - Validation Loss: 0.9435, Validation MSE: 0.9456, Validation MAE: 0.7362\n"
     ]
    },
    {
     "name": "stderr",
     "output_type": "stream",
     "text": [
      "Training Epoch 1072: 100%|██████████| 890/890 [00:09<00:00, 95.75it/s]\n",
      "Training Epoch 1073: 100%|██████████| 890/890 [00:09<00:00, 93.76it/s] \n",
      "Training Epoch 1074: 100%|██████████| 890/890 [00:09<00:00, 93.04it/s]\n",
      "Training Epoch 1075: 100%|██████████| 890/890 [00:09<00:00, 90.93it/s]\n",
      "Training Epoch 1076: 100%|██████████| 890/890 [00:09<00:00, 92.25it/s]\n",
      "Training Epoch 1077: 100%|██████████| 890/890 [00:09<00:00, 93.57it/s] \n",
      "Training Epoch 1078: 100%|██████████| 890/890 [00:09<00:00, 94.20it/s] \n",
      "Training Epoch 1079: 100%|██████████| 890/890 [00:09<00:00, 96.25it/s] \n",
      "Training Epoch 1080: 100%|██████████| 890/890 [00:09<00:00, 90.66it/s]\n",
      "Training Epoch 1081: 100%|██████████| 890/890 [00:09<00:00, 95.60it/s] \n"
     ]
    },
    {
     "name": "stdout",
     "output_type": "stream",
     "text": [
      "Epoch 1080 - Train Loss: 0.0436, Train MSE: 0.0436, Train MAE: 0.1523\n",
      "Epoch 1080 - Validation Loss: 0.9547, Validation MSE: 0.9558, Validation MAE: 0.7389\n"
     ]
    },
    {
     "name": "stderr",
     "output_type": "stream",
     "text": [
      "Training Epoch 1082: 100%|██████████| 890/890 [00:09<00:00, 96.58it/s] \n",
      "Training Epoch 1083: 100%|██████████| 890/890 [00:09<00:00, 93.09it/s]\n",
      "Training Epoch 1084: 100%|██████████| 890/890 [00:09<00:00, 91.60it/s] \n",
      "Training Epoch 1085: 100%|██████████| 890/890 [00:10<00:00, 85.03it/s] \n",
      "Training Epoch 1086: 100%|██████████| 890/890 [00:09<00:00, 95.45it/s] \n",
      "Training Epoch 1087: 100%|██████████| 890/890 [00:09<00:00, 93.58it/s]\n",
      "Training Epoch 1088: 100%|██████████| 890/890 [00:09<00:00, 91.12it/s]\n",
      "Training Epoch 1089: 100%|██████████| 890/890 [00:09<00:00, 94.26it/s] \n",
      "Training Epoch 1090: 100%|██████████| 890/890 [00:09<00:00, 93.92it/s]\n",
      "Training Epoch 1091: 100%|██████████| 890/890 [00:09<00:00, 94.08it/s]\n"
     ]
    },
    {
     "name": "stdout",
     "output_type": "stream",
     "text": [
      "Epoch 1090 - Train Loss: 0.0418, Train MSE: 0.0418, Train MAE: 0.1504\n",
      "Epoch 1090 - Validation Loss: 0.9496, Validation MSE: 0.9503, Validation MAE: 0.7353\n"
     ]
    },
    {
     "name": "stderr",
     "output_type": "stream",
     "text": [
      "Training Epoch 1092: 100%|██████████| 890/890 [00:09<00:00, 95.51it/s] \n",
      "Training Epoch 1093: 100%|██████████| 890/890 [00:09<00:00, 90.41it/s]\n",
      "Training Epoch 1094: 100%|██████████| 890/890 [00:09<00:00, 93.63it/s]\n",
      "Training Epoch 1095: 100%|██████████| 890/890 [00:09<00:00, 93.93it/s] \n",
      "Training Epoch 1096: 100%|██████████| 890/890 [00:09<00:00, 91.41it/s]\n",
      "Training Epoch 1097: 100%|██████████| 890/890 [00:09<00:00, 92.11it/s]\n",
      "Training Epoch 1098: 100%|██████████| 890/890 [00:09<00:00, 93.75it/s] \n",
      "Training Epoch 1099: 100%|██████████| 890/890 [00:09<00:00, 94.60it/s] \n",
      "Training Epoch 1100: 100%|██████████| 890/890 [00:09<00:00, 92.80it/s]\n",
      "Training Epoch 1101: 100%|██████████| 890/890 [00:09<00:00, 95.60it/s] \n"
     ]
    },
    {
     "name": "stdout",
     "output_type": "stream",
     "text": [
      "Epoch 1100 - Train Loss: 0.0422, Train MSE: 0.0422, Train MAE: 0.1507\n",
      "Epoch 1100 - Validation Loss: 0.9734, Validation MSE: 0.9738, Validation MAE: 0.7443\n"
     ]
    },
    {
     "name": "stderr",
     "output_type": "stream",
     "text": [
      "Training Epoch 1102: 100%|██████████| 890/890 [00:09<00:00, 94.55it/s] \n",
      "Training Epoch 1103: 100%|██████████| 890/890 [00:09<00:00, 90.67it/s]\n",
      "Training Epoch 1104: 100%|██████████| 890/890 [00:09<00:00, 95.10it/s]\n",
      "Training Epoch 1105: 100%|██████████| 890/890 [00:09<00:00, 98.33it/s] \n",
      "Training Epoch 1106: 100%|██████████| 890/890 [00:09<00:00, 93.96it/s]\n",
      "Training Epoch 1107: 100%|██████████| 890/890 [00:09<00:00, 93.57it/s] \n",
      "Training Epoch 1108: 100%|██████████| 890/890 [00:09<00:00, 93.47it/s] \n",
      "Training Epoch 1109: 100%|██████████| 890/890 [00:09<00:00, 92.07it/s] \n",
      "Training Epoch 1110: 100%|██████████| 890/890 [00:09<00:00, 90.68it/s]\n",
      "Training Epoch 1111: 100%|██████████| 890/890 [00:09<00:00, 97.91it/s] \n"
     ]
    },
    {
     "name": "stdout",
     "output_type": "stream",
     "text": [
      "Epoch 1110 - Train Loss: 0.0401, Train MSE: 0.0401, Train MAE: 0.1479\n",
      "Epoch 1110 - Validation Loss: 0.9712, Validation MSE: 0.9723, Validation MAE: 0.7460\n"
     ]
    },
    {
     "name": "stderr",
     "output_type": "stream",
     "text": [
      "Training Epoch 1112: 100%|██████████| 890/890 [00:09<00:00, 93.72it/s]\n",
      "Training Epoch 1113: 100%|██████████| 890/890 [00:09<00:00, 89.61it/s]\n",
      "Training Epoch 1114: 100%|██████████| 890/890 [00:09<00:00, 92.18it/s] \n",
      "Training Epoch 1115: 100%|██████████| 890/890 [00:09<00:00, 90.63it/s] \n",
      "Training Epoch 1116: 100%|██████████| 890/890 [00:09<00:00, 90.20it/s]\n",
      "Training Epoch 1117: 100%|██████████| 890/890 [00:09<00:00, 92.08it/s]\n",
      "Training Epoch 1118: 100%|██████████| 890/890 [00:09<00:00, 92.38it/s] \n",
      "Training Epoch 1119: 100%|██████████| 890/890 [00:10<00:00, 87.09it/s]\n",
      "Training Epoch 1120: 100%|██████████| 890/890 [00:09<00:00, 89.85it/s]\n",
      "Training Epoch 1121: 100%|██████████| 890/890 [00:09<00:00, 90.49it/s]\n"
     ]
    },
    {
     "name": "stdout",
     "output_type": "stream",
     "text": [
      "Epoch 1120 - Train Loss: 0.0399, Train MSE: 0.0399, Train MAE: 0.1473\n",
      "Epoch 1120 - Validation Loss: 0.9469, Validation MSE: 0.9490, Validation MAE: 0.7354\n"
     ]
    },
    {
     "name": "stderr",
     "output_type": "stream",
     "text": [
      "Training Epoch 1122: 100%|██████████| 890/890 [00:09<00:00, 90.86it/s]\n",
      "Training Epoch 1123: 100%|██████████| 890/890 [00:09<00:00, 92.62it/s] \n",
      "Training Epoch 1124: 100%|██████████| 890/890 [00:09<00:00, 94.46it/s] \n",
      "Training Epoch 1125: 100%|██████████| 890/890 [00:09<00:00, 94.58it/s] \n",
      "Training Epoch 1126: 100%|██████████| 890/890 [00:09<00:00, 94.12it/s]\n",
      "Training Epoch 1127: 100%|██████████| 890/890 [00:09<00:00, 94.99it/s] \n",
      "Training Epoch 1128: 100%|██████████| 890/890 [00:09<00:00, 94.91it/s]\n",
      "Training Epoch 1129: 100%|██████████| 890/890 [00:09<00:00, 95.71it/s]\n",
      "Training Epoch 1130: 100%|██████████| 890/890 [00:09<00:00, 94.00it/s] \n",
      "Training Epoch 1131: 100%|██████████| 890/890 [00:09<00:00, 92.50it/s]\n"
     ]
    },
    {
     "name": "stdout",
     "output_type": "stream",
     "text": [
      "Epoch 1130 - Train Loss: 0.0417, Train MSE: 0.0417, Train MAE: 0.1484\n",
      "Epoch 1130 - Validation Loss: 0.9536, Validation MSE: 0.9547, Validation MAE: 0.7349\n"
     ]
    },
    {
     "name": "stderr",
     "output_type": "stream",
     "text": [
      "Training Epoch 1132: 100%|██████████| 890/890 [00:09<00:00, 93.04it/s]\n",
      "Training Epoch 1133: 100%|██████████| 890/890 [00:09<00:00, 95.48it/s] \n",
      "Training Epoch 1134: 100%|██████████| 890/890 [00:09<00:00, 92.13it/s]\n",
      "Training Epoch 1135: 100%|██████████| 890/890 [00:09<00:00, 94.68it/s] \n",
      "Training Epoch 1136: 100%|██████████| 890/890 [00:09<00:00, 91.02it/s]\n",
      "Training Epoch 1137: 100%|██████████| 890/890 [00:09<00:00, 93.34it/s]\n",
      "Training Epoch 1138: 100%|██████████| 890/890 [00:09<00:00, 91.63it/s]\n",
      "Training Epoch 1139: 100%|██████████| 890/890 [00:09<00:00, 96.17it/s] \n",
      "Training Epoch 1140: 100%|██████████| 890/890 [00:10<00:00, 88.66it/s]\n",
      "Training Epoch 1141: 100%|██████████| 890/890 [00:09<00:00, 90.68it/s]\n"
     ]
    },
    {
     "name": "stdout",
     "output_type": "stream",
     "text": [
      "Epoch 1140 - Train Loss: 0.0407, Train MSE: 0.0408, Train MAE: 0.1481\n",
      "Epoch 1140 - Validation Loss: 0.9375, Validation MSE: 0.9389, Validation MAE: 0.7331\n"
     ]
    },
    {
     "name": "stderr",
     "output_type": "stream",
     "text": [
      "Training Epoch 1142: 100%|██████████| 890/890 [00:11<00:00, 80.49it/s]\n",
      "Training Epoch 1143: 100%|██████████| 890/890 [00:10<00:00, 87.16it/s]\n",
      "Training Epoch 1144: 100%|██████████| 890/890 [00:10<00:00, 87.93it/s]\n",
      "Training Epoch 1145: 100%|██████████| 890/890 [00:11<00:00, 80.50it/s]\n",
      "Training Epoch 1146: 100%|██████████| 890/890 [00:10<00:00, 84.63it/s]\n",
      "Training Epoch 1147: 100%|██████████| 890/890 [00:09<00:00, 91.59it/s]\n",
      "Training Epoch 1148: 100%|██████████| 890/890 [00:10<00:00, 88.15it/s]\n",
      "Training Epoch 1149: 100%|██████████| 890/890 [00:09<00:00, 91.30it/s] \n",
      "Training Epoch 1150: 100%|██████████| 890/890 [00:09<00:00, 91.72it/s]\n",
      "Training Epoch 1151: 100%|██████████| 890/890 [00:10<00:00, 87.79it/s]\n"
     ]
    },
    {
     "name": "stdout",
     "output_type": "stream",
     "text": [
      "Epoch 1150 - Train Loss: 0.0398, Train MSE: 0.0398, Train MAE: 0.1475\n",
      "Epoch 1150 - Validation Loss: 0.9399, Validation MSE: 0.9405, Validation MAE: 0.7342\n"
     ]
    },
    {
     "name": "stderr",
     "output_type": "stream",
     "text": [
      "Training Epoch 1152: 100%|██████████| 890/890 [00:09<00:00, 96.76it/s] \n",
      "Training Epoch 1153: 100%|██████████| 890/890 [00:09<00:00, 91.18it/s]\n",
      "Training Epoch 1154: 100%|██████████| 890/890 [00:10<00:00, 88.11it/s]\n",
      "Training Epoch 1155: 100%|██████████| 890/890 [00:09<00:00, 90.11it/s] \n",
      "Training Epoch 1156: 100%|██████████| 890/890 [00:09<00:00, 89.82it/s]\n",
      "Training Epoch 1157: 100%|██████████| 890/890 [00:09<00:00, 90.31it/s]\n",
      "Training Epoch 1158: 100%|██████████| 890/890 [00:09<00:00, 89.77it/s] \n",
      "Training Epoch 1159: 100%|██████████| 890/890 [00:09<00:00, 93.08it/s] \n",
      "Training Epoch 1160: 100%|██████████| 890/890 [00:10<00:00, 87.55it/s]\n",
      "Training Epoch 1161: 100%|██████████| 890/890 [00:10<00:00, 87.78it/s]\n"
     ]
    },
    {
     "name": "stdout",
     "output_type": "stream",
     "text": [
      "Epoch 1160 - Train Loss: 0.0401, Train MSE: 0.0401, Train MAE: 0.1467\n",
      "Epoch 1160 - Validation Loss: 0.9659, Validation MSE: 0.9667, Validation MAE: 0.7416\n"
     ]
    },
    {
     "name": "stderr",
     "output_type": "stream",
     "text": [
      "Training Epoch 1162: 100%|██████████| 890/890 [00:09<00:00, 91.06it/s] \n",
      "Training Epoch 1163: 100%|██████████| 890/890 [00:10<00:00, 85.21it/s]\n",
      "Training Epoch 1164: 100%|██████████| 890/890 [00:09<00:00, 92.80it/s] \n",
      "Training Epoch 1165: 100%|██████████| 890/890 [00:09<00:00, 91.48it/s]\n",
      "Training Epoch 1166: 100%|██████████| 890/890 [00:09<00:00, 92.27it/s] \n",
      "Training Epoch 1167: 100%|██████████| 890/890 [00:09<00:00, 90.97it/s] \n",
      "Training Epoch 1168: 100%|██████████| 890/890 [00:09<00:00, 92.25it/s]\n",
      "Training Epoch 1169: 100%|██████████| 890/890 [00:09<00:00, 89.17it/s]\n",
      "Training Epoch 1170: 100%|██████████| 890/890 [00:09<00:00, 90.34it/s]\n",
      "Training Epoch 1171: 100%|██████████| 890/890 [00:10<00:00, 84.95it/s] \n"
     ]
    },
    {
     "name": "stdout",
     "output_type": "stream",
     "text": [
      "Epoch 1170 - Train Loss: 0.0444, Train MSE: 0.0444, Train MAE: 0.1524\n",
      "Epoch 1170 - Validation Loss: 0.9509, Validation MSE: 0.9512, Validation MAE: 0.7369\n"
     ]
    },
    {
     "name": "stderr",
     "output_type": "stream",
     "text": [
      "Training Epoch 1172: 100%|██████████| 890/890 [00:09<00:00, 89.18it/s]\n",
      "Training Epoch 1173: 100%|██████████| 890/890 [00:10<00:00, 87.05it/s]\n",
      "Training Epoch 1174: 100%|██████████| 890/890 [16:38<00:00,  1.12s/it]  \n",
      "Training Epoch 1175: 100%|██████████| 890/890 [17:51<00:00,  1.20s/it]  \n",
      "Training Epoch 1176: 100%|██████████| 890/890 [00:09<00:00, 94.45it/s] \n",
      "Training Epoch 1177: 100%|██████████| 890/890 [00:09<00:00, 96.15it/s] \n",
      "Training Epoch 1178: 100%|██████████| 890/890 [00:09<00:00, 98.18it/s] \n",
      "Training Epoch 1179: 100%|██████████| 890/890 [00:09<00:00, 95.23it/s] \n",
      "Training Epoch 1180: 100%|██████████| 890/890 [00:09<00:00, 97.47it/s] \n",
      "Training Epoch 1181: 100%|██████████| 890/890 [00:09<00:00, 97.13it/s] \n"
     ]
    },
    {
     "name": "stdout",
     "output_type": "stream",
     "text": [
      "Epoch 1180 - Train Loss: 0.0401, Train MSE: 0.0401, Train MAE: 0.1467\n",
      "Epoch 1180 - Validation Loss: 0.9528, Validation MSE: 0.9536, Validation MAE: 0.7370\n"
     ]
    },
    {
     "name": "stderr",
     "output_type": "stream",
     "text": [
      "Training Epoch 1182: 100%|██████████| 890/890 [00:09<00:00, 93.42it/s] \n",
      "Training Epoch 1183: 100%|██████████| 890/890 [00:08<00:00, 101.29it/s]\n",
      "Training Epoch 1184: 100%|██████████| 890/890 [00:09<00:00, 97.53it/s] \n",
      "Training Epoch 1185: 100%|██████████| 890/890 [00:09<00:00, 97.36it/s] \n",
      "Training Epoch 1186: 100%|██████████| 890/890 [00:09<00:00, 95.52it/s] \n",
      "Training Epoch 1187: 100%|██████████| 890/890 [00:09<00:00, 91.39it/s]\n",
      "Training Epoch 1188: 100%|██████████| 890/890 [00:09<00:00, 95.40it/s] \n",
      "Training Epoch 1189: 100%|██████████| 890/890 [00:09<00:00, 97.81it/s] \n",
      "Training Epoch 1190: 100%|██████████| 890/890 [00:08<00:00, 99.38it/s] \n",
      "Training Epoch 1191: 100%|██████████| 890/890 [00:09<00:00, 97.64it/s] \n"
     ]
    },
    {
     "name": "stdout",
     "output_type": "stream",
     "text": [
      "Epoch 1190 - Train Loss: 0.0425, Train MSE: 0.0425, Train MAE: 0.1493\n",
      "Epoch 1190 - Validation Loss: 0.9615, Validation MSE: 0.9616, Validation MAE: 0.7412\n"
     ]
    },
    {
     "name": "stderr",
     "output_type": "stream",
     "text": [
      "Training Epoch 1192: 100%|██████████| 890/890 [00:09<00:00, 96.38it/s] \n",
      "Training Epoch 1193: 100%|██████████| 890/890 [00:08<00:00, 99.73it/s] \n",
      "Training Epoch 1194: 100%|██████████| 890/890 [00:09<00:00, 95.67it/s]\n",
      "Training Epoch 1195: 100%|██████████| 890/890 [00:09<00:00, 98.55it/s] \n",
      "Training Epoch 1196: 100%|██████████| 890/890 [00:09<00:00, 96.64it/s] \n",
      "Training Epoch 1197: 100%|██████████| 890/890 [00:09<00:00, 95.81it/s]\n",
      "Training Epoch 1198: 100%|██████████| 890/890 [00:09<00:00, 95.66it/s] \n",
      "Training Epoch 1199: 100%|██████████| 890/890 [00:09<00:00, 92.48it/s] \n",
      "Training Epoch 1200: 100%|██████████| 890/890 [00:10<00:00, 87.92it/s] \n",
      "Training Epoch 1201: 100%|██████████| 890/890 [00:09<00:00, 90.34it/s]\n"
     ]
    },
    {
     "name": "stdout",
     "output_type": "stream",
     "text": [
      "Epoch 1200 - Train Loss: 0.0422, Train MSE: 0.0422, Train MAE: 0.1489\n",
      "Epoch 1200 - Validation Loss: 0.9656, Validation MSE: 0.9656, Validation MAE: 0.7423\n"
     ]
    },
    {
     "name": "stderr",
     "output_type": "stream",
     "text": [
      "Training Epoch 1202: 100%|██████████| 890/890 [00:09<00:00, 96.45it/s] \n",
      "Training Epoch 1203: 100%|██████████| 890/890 [00:09<00:00, 94.88it/s] \n",
      "Training Epoch 1204: 100%|██████████| 890/890 [00:09<00:00, 97.50it/s] \n",
      "Training Epoch 1205: 100%|██████████| 890/890 [00:09<00:00, 95.38it/s] \n",
      "Training Epoch 1206: 100%|██████████| 890/890 [00:09<00:00, 95.01it/s] \n",
      "Training Epoch 1207: 100%|██████████| 890/890 [00:08<00:00, 99.89it/s] \n",
      "Training Epoch 1208: 100%|██████████| 890/890 [00:09<00:00, 98.09it/s] \n",
      "Training Epoch 1209: 100%|██████████| 890/890 [00:09<00:00, 98.27it/s] \n",
      "Training Epoch 1210: 100%|██████████| 890/890 [00:09<00:00, 98.69it/s] \n",
      "Training Epoch 1211: 100%|██████████| 890/890 [00:08<00:00, 99.63it/s] \n"
     ]
    },
    {
     "name": "stdout",
     "output_type": "stream",
     "text": [
      "Epoch 1210 - Train Loss: 0.0380, Train MSE: 0.0380, Train MAE: 0.1448\n",
      "Epoch 1210 - Validation Loss: 0.9815, Validation MSE: 0.9813, Validation MAE: 0.7509\n"
     ]
    },
    {
     "name": "stderr",
     "output_type": "stream",
     "text": [
      "Training Epoch 1212: 100%|██████████| 890/890 [00:08<00:00, 100.44it/s]\n",
      "Training Epoch 1213: 100%|██████████| 890/890 [00:09<00:00, 97.32it/s] \n",
      "Training Epoch 1214: 100%|██████████| 890/890 [00:09<00:00, 94.25it/s]\n",
      "Training Epoch 1215: 100%|██████████| 890/890 [00:09<00:00, 97.45it/s] \n",
      "Training Epoch 1216: 100%|██████████| 890/890 [00:08<00:00, 99.84it/s] \n",
      "Training Epoch 1217: 100%|██████████| 890/890 [00:09<00:00, 92.65it/s] \n",
      "Training Epoch 1218: 100%|██████████| 890/890 [00:10<00:00, 88.87it/s] \n",
      "Training Epoch 1219: 100%|██████████| 890/890 [00:09<00:00, 98.38it/s] \n",
      "Training Epoch 1220: 100%|██████████| 890/890 [00:09<00:00, 96.83it/s] \n",
      "Training Epoch 1221: 100%|██████████| 890/890 [00:09<00:00, 95.21it/s] \n"
     ]
    },
    {
     "name": "stdout",
     "output_type": "stream",
     "text": [
      "Epoch 1220 - Train Loss: 0.0378, Train MSE: 0.0376, Train MAE: 0.1434\n",
      "Epoch 1220 - Validation Loss: 0.9885, Validation MSE: 0.9881, Validation MAE: 0.7524\n"
     ]
    },
    {
     "name": "stderr",
     "output_type": "stream",
     "text": [
      "Training Epoch 1222: 100%|██████████| 890/890 [00:08<00:00, 101.33it/s]\n",
      "Training Epoch 1223: 100%|██████████| 890/890 [00:09<00:00, 95.97it/s] \n",
      "Training Epoch 1224: 100%|██████████| 890/890 [00:09<00:00, 98.65it/s] \n",
      "Training Epoch 1225: 100%|██████████| 890/890 [00:09<00:00, 96.63it/s] \n",
      "Training Epoch 1226: 100%|██████████| 890/890 [00:08<00:00, 101.01it/s]\n",
      "Training Epoch 1227: 100%|██████████| 890/890 [00:09<00:00, 97.92it/s] \n",
      "Training Epoch 1228: 100%|██████████| 890/890 [00:09<00:00, 97.61it/s] \n",
      "Training Epoch 1229: 100%|██████████| 890/890 [00:09<00:00, 97.40it/s] \n",
      "Training Epoch 1230: 100%|██████████| 890/890 [00:09<00:00, 95.73it/s] \n",
      "Training Epoch 1231: 100%|██████████| 890/890 [00:09<00:00, 97.22it/s] \n"
     ]
    },
    {
     "name": "stdout",
     "output_type": "stream",
     "text": [
      "Epoch 1230 - Train Loss: 0.0394, Train MSE: 0.0394, Train MAE: 0.1460\n",
      "Epoch 1230 - Validation Loss: 0.9704, Validation MSE: 0.9702, Validation MAE: 0.7455\n"
     ]
    },
    {
     "name": "stderr",
     "output_type": "stream",
     "text": [
      "Training Epoch 1232: 100%|██████████| 890/890 [00:08<00:00, 99.90it/s] \n",
      "Training Epoch 1233: 100%|██████████| 890/890 [00:09<00:00, 97.12it/s] \n",
      "Training Epoch 1234: 100%|██████████| 890/890 [00:09<00:00, 97.59it/s] \n",
      "Training Epoch 1235: 100%|██████████| 890/890 [00:08<00:00, 100.71it/s]\n",
      "Training Epoch 1236: 100%|██████████| 890/890 [00:09<00:00, 97.67it/s] \n",
      "Training Epoch 1237: 100%|██████████| 890/890 [00:09<00:00, 97.24it/s] \n",
      "Training Epoch 1238: 100%|██████████| 890/890 [00:09<00:00, 97.83it/s] \n",
      "Training Epoch 1239: 100%|██████████| 890/890 [00:09<00:00, 97.00it/s] \n",
      "Training Epoch 1240: 100%|██████████| 890/890 [00:09<00:00, 96.00it/s] \n",
      "Training Epoch 1241: 100%|██████████| 890/890 [00:09<00:00, 94.74it/s] \n"
     ]
    },
    {
     "name": "stdout",
     "output_type": "stream",
     "text": [
      "Epoch 1240 - Train Loss: 0.0385, Train MSE: 0.0385, Train MAE: 0.1448\n",
      "Epoch 1240 - Validation Loss: 0.9726, Validation MSE: 0.9724, Validation MAE: 0.7443\n"
     ]
    },
    {
     "name": "stderr",
     "output_type": "stream",
     "text": [
      "Training Epoch 1242: 100%|██████████| 890/890 [00:09<00:00, 97.48it/s] \n",
      "Training Epoch 1243: 100%|██████████| 890/890 [00:09<00:00, 96.82it/s]\n",
      "Training Epoch 1244: 100%|██████████| 890/890 [00:09<00:00, 94.62it/s] \n",
      "Training Epoch 1245: 100%|██████████| 890/890 [00:09<00:00, 96.76it/s] \n",
      "Training Epoch 1246: 100%|██████████| 890/890 [00:09<00:00, 92.52it/s]\n",
      "Training Epoch 1247: 100%|██████████| 890/890 [00:09<00:00, 92.29it/s]\n",
      "Training Epoch 1248: 100%|██████████| 890/890 [00:09<00:00, 96.54it/s] \n",
      "Training Epoch 1249: 100%|██████████| 890/890 [00:09<00:00, 96.31it/s] \n",
      "Training Epoch 1250: 100%|██████████| 890/890 [00:09<00:00, 96.34it/s]\n",
      "Training Epoch 1251: 100%|██████████| 890/890 [00:09<00:00, 96.31it/s] \n"
     ]
    },
    {
     "name": "stdout",
     "output_type": "stream",
     "text": [
      "Epoch 1250 - Train Loss: 0.0381, Train MSE: 0.0381, Train MAE: 0.1441\n",
      "Epoch 1250 - Validation Loss: 0.9661, Validation MSE: 0.9666, Validation MAE: 0.7445\n"
     ]
    },
    {
     "name": "stderr",
     "output_type": "stream",
     "text": [
      "Training Epoch 1252: 100%|██████████| 890/890 [00:09<00:00, 95.05it/s] \n",
      "Training Epoch 1253: 100%|██████████| 890/890 [00:09<00:00, 97.49it/s] \n",
      "Training Epoch 1254: 100%|██████████| 890/890 [00:09<00:00, 96.31it/s] \n",
      "Training Epoch 1255: 100%|██████████| 890/890 [00:09<00:00, 95.47it/s] \n",
      "Training Epoch 1256: 100%|██████████| 890/890 [00:09<00:00, 95.89it/s] \n",
      "Training Epoch 1257: 100%|██████████| 890/890 [00:09<00:00, 96.38it/s] \n",
      "Training Epoch 1258: 100%|██████████| 890/890 [00:08<00:00, 99.52it/s] \n",
      "Training Epoch 1259: 100%|██████████| 890/890 [00:10<00:00, 85.20it/s]\n",
      "Training Epoch 1260: 100%|██████████| 890/890 [00:09<00:00, 90.71it/s] \n",
      "Training Epoch 1261: 100%|██████████| 890/890 [00:09<00:00, 97.83it/s] \n"
     ]
    },
    {
     "name": "stdout",
     "output_type": "stream",
     "text": [
      "Epoch 1260 - Train Loss: 0.0373, Train MSE: 0.0373, Train MAE: 0.1423\n",
      "Epoch 1260 - Validation Loss: 0.9826, Validation MSE: 0.9834, Validation MAE: 0.7494\n"
     ]
    },
    {
     "name": "stderr",
     "output_type": "stream",
     "text": [
      "Training Epoch 1262: 100%|██████████| 890/890 [00:09<00:00, 96.86it/s] \n",
      "Training Epoch 1263: 100%|██████████| 890/890 [00:09<00:00, 96.52it/s] \n",
      "Training Epoch 1264: 100%|██████████| 890/890 [00:08<00:00, 99.44it/s] \n",
      "Training Epoch 1265: 100%|██████████| 890/890 [00:09<00:00, 97.22it/s] \n",
      "Training Epoch 1266: 100%|██████████| 890/890 [00:09<00:00, 93.81it/s] \n",
      "Training Epoch 1267: 100%|██████████| 890/890 [00:09<00:00, 96.16it/s] \n",
      "Training Epoch 1268: 100%|██████████| 890/890 [00:08<00:00, 101.55it/s]\n",
      "Training Epoch 1269: 100%|██████████| 890/890 [00:09<00:00, 97.02it/s] \n",
      "Training Epoch 1270: 100%|██████████| 890/890 [00:09<00:00, 97.71it/s] \n",
      "Training Epoch 1271: 100%|██████████| 890/890 [00:08<00:00, 99.59it/s] \n"
     ]
    },
    {
     "name": "stdout",
     "output_type": "stream",
     "text": [
      "Epoch 1270 - Train Loss: 0.0387, Train MSE: 0.0387, Train MAE: 0.1450\n",
      "Epoch 1270 - Validation Loss: 0.9672, Validation MSE: 0.9682, Validation MAE: 0.7430\n"
     ]
    },
    {
     "name": "stderr",
     "output_type": "stream",
     "text": [
      "Training Epoch 1272: 100%|██████████| 890/890 [00:09<00:00, 97.41it/s] \n",
      "Training Epoch 1273: 100%|██████████| 890/890 [00:09<00:00, 96.41it/s] \n",
      "Training Epoch 1274: 100%|██████████| 890/890 [00:08<00:00, 100.38it/s]\n",
      "Training Epoch 1275: 100%|██████████| 890/890 [00:09<00:00, 96.80it/s] \n",
      "Training Epoch 1276: 100%|██████████| 890/890 [00:09<00:00, 94.51it/s] \n",
      "Training Epoch 1277: 100%|██████████| 890/890 [00:09<00:00, 93.34it/s] \n",
      "Training Epoch 1278: 100%|██████████| 890/890 [00:09<00:00, 95.31it/s] \n",
      "Training Epoch 1279: 100%|██████████| 890/890 [00:09<00:00, 98.37it/s] \n",
      "Training Epoch 1280: 100%|██████████| 890/890 [00:09<00:00, 92.34it/s] \n",
      "Training Epoch 1281: 100%|██████████| 890/890 [00:08<00:00, 99.92it/s] \n"
     ]
    },
    {
     "name": "stdout",
     "output_type": "stream",
     "text": [
      "Epoch 1280 - Train Loss: 0.0391, Train MSE: 0.0391, Train MAE: 0.1437\n",
      "Epoch 1280 - Validation Loss: 0.9919, Validation MSE: 0.9905, Validation MAE: 0.7519\n"
     ]
    },
    {
     "name": "stderr",
     "output_type": "stream",
     "text": [
      "Training Epoch 1282: 100%|██████████| 890/890 [00:09<00:00, 97.55it/s] \n",
      "Training Epoch 1283: 100%|██████████| 890/890 [00:09<00:00, 98.61it/s] \n",
      "Training Epoch 1284: 100%|██████████| 890/890 [00:08<00:00, 99.15it/s] \n",
      "Training Epoch 1285: 100%|██████████| 890/890 [00:09<00:00, 98.21it/s] \n",
      "Training Epoch 1286: 100%|██████████| 890/890 [00:09<00:00, 92.53it/s]\n",
      "Training Epoch 1287: 100%|██████████| 890/890 [00:09<00:00, 92.21it/s]\n",
      "Training Epoch 1288: 100%|██████████| 890/890 [00:09<00:00, 96.30it/s] \n",
      "Training Epoch 1289: 100%|██████████| 890/890 [00:09<00:00, 96.38it/s] \n",
      "Training Epoch 1290: 100%|██████████| 890/890 [00:08<00:00, 99.99it/s] \n",
      "Training Epoch 1291: 100%|██████████| 890/890 [00:08<00:00, 101.45it/s]\n"
     ]
    },
    {
     "name": "stdout",
     "output_type": "stream",
     "text": [
      "Epoch 1290 - Train Loss: 0.0365, Train MSE: 0.0364, Train MAE: 0.1418\n",
      "Epoch 1290 - Validation Loss: 0.9789, Validation MSE: 0.9801, Validation MAE: 0.7482\n"
     ]
    },
    {
     "name": "stderr",
     "output_type": "stream",
     "text": [
      "Training Epoch 1292: 100%|██████████| 890/890 [00:08<00:00, 99.25it/s] \n",
      "Training Epoch 1293: 100%|██████████| 890/890 [00:08<00:00, 98.93it/s] \n",
      "Training Epoch 1294: 100%|██████████| 890/890 [00:08<00:00, 101.64it/s]\n",
      "Training Epoch 1295: 100%|██████████| 890/890 [00:08<00:00, 99.81it/s] \n",
      "Training Epoch 1296: 100%|██████████| 890/890 [00:09<00:00, 97.74it/s] \n",
      "Training Epoch 1297: 100%|██████████| 890/890 [00:09<00:00, 95.62it/s] \n",
      "Training Epoch 1298: 100%|██████████| 890/890 [00:08<00:00, 99.74it/s] \n",
      "Training Epoch 1299: 100%|██████████| 890/890 [00:09<00:00, 95.17it/s] \n",
      "Training Epoch 1300: 100%|██████████| 890/890 [00:08<00:00, 99.15it/s] \n",
      "Training Epoch 1301: 100%|██████████| 890/890 [00:08<00:00, 100.71it/s]\n"
     ]
    },
    {
     "name": "stdout",
     "output_type": "stream",
     "text": [
      "Epoch 1300 - Train Loss: 0.0367, Train MSE: 0.0367, Train MAE: 0.1416\n",
      "Epoch 1300 - Validation Loss: 0.9835, Validation MSE: 0.9841, Validation MAE: 0.7495\n"
     ]
    },
    {
     "name": "stderr",
     "output_type": "stream",
     "text": [
      "Training Epoch 1302: 100%|██████████| 890/890 [00:08<00:00, 99.97it/s] \n",
      "Training Epoch 1303: 100%|██████████| 890/890 [00:08<00:00, 99.88it/s] \n",
      "Training Epoch 1304: 100%|██████████| 890/890 [00:08<00:00, 103.02it/s]\n",
      "Training Epoch 1305: 100%|██████████| 890/890 [00:08<00:00, 101.08it/s]\n",
      "Training Epoch 1306: 100%|██████████| 890/890 [00:08<00:00, 101.31it/s]\n",
      "Training Epoch 1307: 100%|██████████| 890/890 [00:09<00:00, 98.49it/s] \n",
      "Training Epoch 1308: 100%|██████████| 890/890 [00:08<00:00, 101.17it/s]\n",
      "Training Epoch 1309: 100%|██████████| 890/890 [00:08<00:00, 100.18it/s]\n",
      "Training Epoch 1310: 100%|██████████| 890/890 [00:09<00:00, 98.76it/s] \n",
      "Training Epoch 1311: 100%|██████████| 890/890 [00:08<00:00, 103.70it/s]\n"
     ]
    },
    {
     "name": "stdout",
     "output_type": "stream",
     "text": [
      "Epoch 1310 - Train Loss: 0.0364, Train MSE: 0.0364, Train MAE: 0.1406\n",
      "Epoch 1310 - Validation Loss: 0.9907, Validation MSE: 0.9920, Validation MAE: 0.7502\n"
     ]
    },
    {
     "name": "stderr",
     "output_type": "stream",
     "text": [
      "Training Epoch 1312: 100%|██████████| 890/890 [00:09<00:00, 96.60it/s] \n",
      "Training Epoch 1313: 100%|██████████| 890/890 [00:08<00:00, 98.91it/s] \n",
      "Training Epoch 1314: 100%|██████████| 890/890 [00:08<00:00, 102.51it/s]\n",
      "Training Epoch 1315: 100%|██████████| 890/890 [00:08<00:00, 100.99it/s]\n",
      "Training Epoch 1316: 100%|██████████| 890/890 [00:08<00:00, 101.52it/s]\n",
      "Training Epoch 1317: 100%|██████████| 890/890 [00:08<00:00, 98.90it/s] \n",
      "Training Epoch 1318: 100%|██████████| 890/890 [00:08<00:00, 101.22it/s]\n",
      "Training Epoch 1319: 100%|██████████| 890/890 [00:08<00:00, 100.47it/s]\n",
      "Training Epoch 1320: 100%|██████████| 890/890 [00:09<00:00, 98.82it/s] \n",
      "Training Epoch 1321: 100%|██████████| 890/890 [00:08<00:00, 98.89it/s] \n"
     ]
    },
    {
     "name": "stdout",
     "output_type": "stream",
     "text": [
      "Epoch 1320 - Train Loss: 0.0366, Train MSE: 0.0366, Train MAE: 0.1406\n",
      "Epoch 1320 - Validation Loss: 0.9739, Validation MSE: 0.9755, Validation MAE: 0.7434\n"
     ]
    },
    {
     "name": "stderr",
     "output_type": "stream",
     "text": [
      "Training Epoch 1322: 100%|██████████| 890/890 [00:09<00:00, 98.75it/s] \n",
      "Training Epoch 1323: 100%|██████████| 890/890 [00:08<00:00, 100.02it/s]\n",
      "Training Epoch 1324: 100%|██████████| 890/890 [00:08<00:00, 99.84it/s] \n",
      "Training Epoch 1325: 100%|██████████| 890/890 [00:09<00:00, 96.79it/s] \n",
      "Training Epoch 1326: 100%|██████████| 890/890 [00:08<00:00, 99.48it/s] \n",
      "Training Epoch 1327: 100%|██████████| 890/890 [00:08<00:00, 101.33it/s]\n",
      "Training Epoch 1328: 100%|██████████| 890/890 [00:08<00:00, 103.30it/s]\n",
      "Training Epoch 1329: 100%|██████████| 890/890 [00:08<00:00, 99.64it/s] \n",
      "Training Epoch 1330: 100%|██████████| 890/890 [00:08<00:00, 98.89it/s] \n",
      "Training Epoch 1331: 100%|██████████| 890/890 [00:08<00:00, 98.94it/s] \n"
     ]
    },
    {
     "name": "stdout",
     "output_type": "stream",
     "text": [
      "Epoch 1330 - Train Loss: 0.0375, Train MSE: 0.0376, Train MAE: 0.1423\n",
      "Epoch 1330 - Validation Loss: 0.9883, Validation MSE: 0.9882, Validation MAE: 0.7517\n"
     ]
    },
    {
     "name": "stderr",
     "output_type": "stream",
     "text": [
      "Training Epoch 1332: 100%|██████████| 890/890 [00:09<00:00, 98.68it/s] \n",
      "Training Epoch 1333: 100%|██████████| 890/890 [00:09<00:00, 97.67it/s] \n",
      "Training Epoch 1334: 100%|██████████| 890/890 [00:08<00:00, 101.08it/s]\n",
      "Training Epoch 1335: 100%|██████████| 890/890 [00:08<00:00, 102.20it/s]\n",
      "Training Epoch 1336: 100%|██████████| 890/890 [00:08<00:00, 101.61it/s]\n",
      "Training Epoch 1337: 100%|██████████| 890/890 [00:09<00:00, 97.87it/s] \n",
      "Training Epoch 1338: 100%|██████████| 890/890 [00:09<00:00, 94.23it/s] \n",
      "Training Epoch 1339: 100%|██████████| 890/890 [00:09<00:00, 97.13it/s] \n",
      "Training Epoch 1340: 100%|██████████| 890/890 [00:08<00:00, 99.31it/s] \n",
      "Training Epoch 1341: 100%|██████████| 890/890 [00:08<00:00, 100.11it/s]\n"
     ]
    },
    {
     "name": "stdout",
     "output_type": "stream",
     "text": [
      "Epoch 1340 - Train Loss: 0.0368, Train MSE: 0.0369, Train MAE: 0.1417\n",
      "Epoch 1340 - Validation Loss: 0.9730, Validation MSE: 0.9728, Validation MAE: 0.7464\n"
     ]
    },
    {
     "name": "stderr",
     "output_type": "stream",
     "text": [
      "Training Epoch 1342: 100%|██████████| 890/890 [00:08<00:00, 99.23it/s] \n",
      "Training Epoch 1343: 100%|██████████| 890/890 [00:08<00:00, 100.89it/s]\n",
      "Training Epoch 1344: 100%|██████████| 890/890 [00:09<00:00, 97.26it/s] \n",
      "Training Epoch 1345: 100%|██████████| 890/890 [00:08<00:00, 99.97it/s] \n",
      "Training Epoch 1346: 100%|██████████| 890/890 [00:08<00:00, 99.15it/s] \n",
      "Training Epoch 1347: 100%|██████████| 890/890 [00:08<00:00, 101.52it/s]\n",
      "Training Epoch 1348: 100%|██████████| 890/890 [00:08<00:00, 100.30it/s]\n",
      "Training Epoch 1349: 100%|██████████| 890/890 [00:09<00:00, 98.88it/s] \n",
      "Training Epoch 1350: 100%|██████████| 890/890 [00:08<00:00, 100.34it/s]\n",
      "Training Epoch 1351: 100%|██████████| 890/890 [00:08<00:00, 101.62it/s]\n"
     ]
    },
    {
     "name": "stdout",
     "output_type": "stream",
     "text": [
      "Epoch 1350 - Train Loss: 0.0358, Train MSE: 0.0357, Train MAE: 0.1398\n",
      "Epoch 1350 - Validation Loss: 0.9513, Validation MSE: 0.9519, Validation MAE: 0.7393\n"
     ]
    },
    {
     "name": "stderr",
     "output_type": "stream",
     "text": [
      "Training Epoch 1352: 100%|██████████| 890/890 [00:09<00:00, 98.86it/s] \n",
      "Training Epoch 1353: 100%|██████████| 890/890 [00:08<00:00, 100.30it/s]\n",
      "Training Epoch 1354: 100%|██████████| 890/890 [00:08<00:00, 103.28it/s]\n",
      "Training Epoch 1355: 100%|██████████| 890/890 [00:08<00:00, 99.42it/s] \n",
      "Training Epoch 1356: 100%|██████████| 890/890 [00:08<00:00, 100.44it/s]\n",
      "Training Epoch 1357: 100%|██████████| 890/890 [00:08<00:00, 100.10it/s]\n",
      "Training Epoch 1358: 100%|██████████| 890/890 [00:08<00:00, 99.76it/s] \n",
      "Training Epoch 1359: 100%|██████████| 890/890 [00:09<00:00, 98.34it/s] \n",
      "Training Epoch 1360: 100%|██████████| 890/890 [00:08<00:00, 99.41it/s] \n",
      "Training Epoch 1361: 100%|██████████| 890/890 [00:08<00:00, 100.46it/s]\n"
     ]
    },
    {
     "name": "stdout",
     "output_type": "stream",
     "text": [
      "Epoch 1360 - Train Loss: 0.0376, Train MSE: 0.0374, Train MAE: 0.1421\n",
      "Epoch 1360 - Validation Loss: 0.9697, Validation MSE: 0.9695, Validation MAE: 0.7474\n"
     ]
    },
    {
     "name": "stderr",
     "output_type": "stream",
     "text": [
      "Training Epoch 1362: 100%|██████████| 890/890 [00:09<00:00, 97.92it/s] \n",
      "Training Epoch 1363: 100%|██████████| 890/890 [00:08<00:00, 99.07it/s] \n",
      "Training Epoch 1364: 100%|██████████| 890/890 [00:08<00:00, 100.00it/s]\n",
      "Training Epoch 1365: 100%|██████████| 890/890 [00:09<00:00, 98.34it/s] \n",
      "Training Epoch 1366: 100%|██████████| 890/890 [00:09<00:00, 97.88it/s] \n",
      "Training Epoch 1367: 100%|██████████| 890/890 [00:08<00:00, 100.85it/s]\n",
      "Training Epoch 1368: 100%|██████████| 890/890 [00:08<00:00, 100.01it/s]\n",
      "Training Epoch 1369: 100%|██████████| 890/890 [00:08<00:00, 100.85it/s]\n",
      "Training Epoch 1370: 100%|██████████| 890/890 [00:09<00:00, 94.87it/s] \n",
      "Training Epoch 1371: 100%|██████████| 890/890 [00:08<00:00, 99.76it/s] \n"
     ]
    },
    {
     "name": "stdout",
     "output_type": "stream",
     "text": [
      "Epoch 1370 - Train Loss: 0.0372, Train MSE: 0.0373, Train MAE: 0.1412\n",
      "Epoch 1370 - Validation Loss: 0.9771, Validation MSE: 0.9769, Validation MAE: 0.7443\n"
     ]
    },
    {
     "name": "stderr",
     "output_type": "stream",
     "text": [
      "Training Epoch 1372: 100%|██████████| 890/890 [00:08<00:00, 99.64it/s] \n",
      "Training Epoch 1373: 100%|██████████| 890/890 [00:08<00:00, 99.51it/s] \n",
      "Training Epoch 1374: 100%|██████████| 890/890 [00:08<00:00, 98.94it/s] \n",
      "Training Epoch 1375: 100%|██████████| 890/890 [13:20<00:00,  1.11it/s]  \n",
      "Training Epoch 1376: 100%|██████████| 890/890 [00:10<00:00, 85.38it/s]\n",
      "Training Epoch 1377: 100%|██████████| 890/890 [00:10<00:00, 88.84it/s]\n",
      "Training Epoch 1378: 100%|██████████| 890/890 [00:10<00:00, 86.30it/s]\n",
      "Training Epoch 1379: 100%|██████████| 890/890 [00:10<00:00, 86.00it/s]\n",
      "Training Epoch 1380: 100%|██████████| 890/890 [15:19<00:00,  1.03s/it]  \n",
      "Training Epoch 1381: 100%|██████████| 890/890 [00:11<00:00, 78.97it/s]\n"
     ]
    },
    {
     "name": "stdout",
     "output_type": "stream",
     "text": [
      "Epoch 1380 - Train Loss: 0.0362, Train MSE: 0.0362, Train MAE: 0.1402\n",
      "Epoch 1380 - Validation Loss: 0.9726, Validation MSE: 0.9726, Validation MAE: 0.7463\n"
     ]
    },
    {
     "name": "stderr",
     "output_type": "stream",
     "text": [
      "Training Epoch 1382: 100%|██████████| 890/890 [00:10<00:00, 85.77it/s]\n",
      "Training Epoch 1383: 100%|██████████| 890/890 [00:10<00:00, 86.44it/s]\n",
      "Training Epoch 1384: 100%|██████████| 890/890 [00:10<00:00, 87.69it/s]\n",
      "Training Epoch 1385: 100%|██████████| 890/890 [00:10<00:00, 86.44it/s]\n",
      "Training Epoch 1386: 100%|██████████| 890/890 [00:10<00:00, 86.71it/s]\n",
      "Training Epoch 1387: 100%|██████████| 890/890 [00:10<00:00, 84.74it/s]\n",
      "Training Epoch 1388: 100%|██████████| 890/890 [00:10<00:00, 87.04it/s]\n",
      "Training Epoch 1389: 100%|██████████| 890/890 [00:10<00:00, 85.87it/s]\n",
      "Training Epoch 1390: 100%|██████████| 890/890 [00:10<00:00, 85.53it/s]\n",
      "Training Epoch 1391: 100%|██████████| 890/890 [00:09<00:00, 89.82it/s]\n"
     ]
    },
    {
     "name": "stdout",
     "output_type": "stream",
     "text": [
      "Epoch 1390 - Train Loss: 0.0363, Train MSE: 0.0363, Train MAE: 0.1398\n",
      "Epoch 1390 - Validation Loss: 0.9652, Validation MSE: 0.9657, Validation MAE: 0.7400\n"
     ]
    },
    {
     "name": "stderr",
     "output_type": "stream",
     "text": [
      "Training Epoch 1392: 100%|██████████| 890/890 [16:31<00:00,  1.11s/it]   \n",
      "Training Epoch 1393: 100%|██████████| 890/890 [00:10<00:00, 83.80it/s]\n",
      "Training Epoch 1394: 100%|██████████| 890/890 [00:10<00:00, 88.13it/s]\n",
      "Training Epoch 1395: 100%|██████████| 890/890 [00:10<00:00, 85.75it/s]\n",
      "Training Epoch 1396: 100%|██████████| 890/890 [05:42<00:00,  2.60it/s] \n",
      "Training Epoch 1397: 100%|██████████| 890/890 [00:10<00:00, 85.59it/s] \n",
      "Training Epoch 1398: 100%|██████████| 890/890 [00:10<00:00, 87.76it/s] \n",
      "Training Epoch 1399: 100%|██████████| 890/890 [00:09<00:00, 96.85it/s] \n",
      "Training Epoch 1400: 100%|██████████| 890/890 [00:09<00:00, 95.77it/s] \n",
      "Training Epoch 1401: 100%|██████████| 890/890 [00:09<00:00, 90.39it/s]\n"
     ]
    },
    {
     "name": "stdout",
     "output_type": "stream",
     "text": [
      "Epoch 1400 - Train Loss: 0.0372, Train MSE: 0.0372, Train MAE: 0.1416\n",
      "Epoch 1400 - Validation Loss: 0.9801, Validation MSE: 0.9806, Validation MAE: 0.7485\n"
     ]
    },
    {
     "name": "stderr",
     "output_type": "stream",
     "text": [
      "Training Epoch 1402: 100%|██████████| 890/890 [00:09<00:00, 96.76it/s] \n",
      "Training Epoch 1403: 100%|██████████| 890/890 [00:09<00:00, 97.62it/s] \n",
      "Training Epoch 1404: 100%|██████████| 890/890 [01:20<00:00, 10.99it/s] \n",
      "Training Epoch 1405: 100%|██████████| 890/890 [00:27<00:00, 31.81it/s]\n",
      "Training Epoch 1406: 100%|██████████| 890/890 [00:09<00:00, 97.14it/s] \n",
      "Training Epoch 1407: 100%|██████████| 890/890 [00:08<00:00, 99.63it/s] \n",
      "Training Epoch 1408: 100%|██████████| 890/890 [00:09<00:00, 96.98it/s] \n",
      "Training Epoch 1409: 100%|██████████| 890/890 [00:09<00:00, 97.32it/s] \n",
      "Training Epoch 1410: 100%|██████████| 890/890 [00:09<00:00, 93.11it/s] \n",
      "Training Epoch 1411: 100%|██████████| 890/890 [00:08<00:00, 99.50it/s] \n"
     ]
    },
    {
     "name": "stdout",
     "output_type": "stream",
     "text": [
      "Epoch 1410 - Train Loss: 0.0354, Train MSE: 0.0354, Train MAE: 0.1383\n",
      "Epoch 1410 - Validation Loss: 0.9843, Validation MSE: 0.9863, Validation MAE: 0.7497\n"
     ]
    },
    {
     "name": "stderr",
     "output_type": "stream",
     "text": [
      "Training Epoch 1412: 100%|██████████| 890/890 [00:09<00:00, 96.23it/s]\n",
      "Training Epoch 1413: 100%|██████████| 890/890 [00:09<00:00, 94.20it/s] \n",
      "Training Epoch 1414: 100%|██████████| 890/890 [00:08<00:00, 99.35it/s] \n",
      "Training Epoch 1415: 100%|██████████| 890/890 [00:09<00:00, 97.15it/s] \n",
      "Training Epoch 1416: 100%|██████████| 890/890 [00:09<00:00, 91.63it/s] \n",
      "Training Epoch 1417: 100%|██████████| 890/890 [00:09<00:00, 95.96it/s] \n",
      "Training Epoch 1418: 100%|██████████| 890/890 [00:09<00:00, 98.22it/s] \n",
      "Training Epoch 1419: 100%|██████████| 890/890 [00:08<00:00, 99.49it/s] \n",
      "Training Epoch 1420: 100%|██████████| 890/890 [00:09<00:00, 97.18it/s] \n",
      "Training Epoch 1421: 100%|██████████| 890/890 [00:09<00:00, 89.94it/s]\n"
     ]
    },
    {
     "name": "stdout",
     "output_type": "stream",
     "text": [
      "Epoch 1420 - Train Loss: 0.0346, Train MSE: 0.0347, Train MAE: 0.1374\n",
      "Epoch 1420 - Validation Loss: 0.9699, Validation MSE: 0.9720, Validation MAE: 0.7431\n"
     ]
    },
    {
     "name": "stderr",
     "output_type": "stream",
     "text": [
      "Training Epoch 1422: 100%|██████████| 890/890 [00:09<00:00, 93.46it/s] \n",
      "Training Epoch 1423: 100%|██████████| 890/890 [00:09<00:00, 97.84it/s] \n",
      "Training Epoch 1424: 100%|██████████| 890/890 [00:08<00:00, 99.33it/s] \n",
      "Training Epoch 1425: 100%|██████████| 890/890 [00:09<00:00, 92.85it/s] \n",
      "Training Epoch 1426: 100%|██████████| 890/890 [00:08<00:00, 100.48it/s]\n",
      "Training Epoch 1427: 100%|██████████| 890/890 [00:09<00:00, 98.25it/s] \n",
      "Training Epoch 1428: 100%|██████████| 890/890 [00:08<00:00, 100.51it/s]\n",
      "Training Epoch 1429: 100%|██████████| 890/890 [00:09<00:00, 95.72it/s] \n",
      "Training Epoch 1430: 100%|██████████| 890/890 [00:08<00:00, 102.07it/s]\n",
      "Training Epoch 1431: 100%|██████████| 890/890 [00:09<00:00, 98.88it/s] \n"
     ]
    },
    {
     "name": "stdout",
     "output_type": "stream",
     "text": [
      "Epoch 1430 - Train Loss: 0.0359, Train MSE: 0.0359, Train MAE: 0.1389\n",
      "Epoch 1430 - Validation Loss: 0.9640, Validation MSE: 0.9653, Validation MAE: 0.7418\n"
     ]
    },
    {
     "name": "stderr",
     "output_type": "stream",
     "text": [
      "Training Epoch 1432: 100%|██████████| 890/890 [00:09<00:00, 91.78it/s] \n",
      "Training Epoch 1433: 100%|██████████| 890/890 [00:09<00:00, 96.52it/s] \n",
      "Training Epoch 1434: 100%|██████████| 890/890 [00:09<00:00, 98.89it/s] \n",
      "Training Epoch 1435: 100%|██████████| 890/890 [00:08<00:00, 99.54it/s] \n",
      "Training Epoch 1436: 100%|██████████| 890/890 [00:08<00:00, 100.49it/s]\n",
      "Training Epoch 1437: 100%|██████████| 890/890 [00:09<00:00, 97.74it/s] \n",
      "Training Epoch 1438: 100%|██████████| 890/890 [00:09<00:00, 98.53it/s] \n",
      "Training Epoch 1439: 100%|██████████| 890/890 [00:08<00:00, 99.87it/s] \n",
      "Training Epoch 1440: 100%|██████████| 890/890 [00:08<00:00, 101.05it/s]\n",
      "Training Epoch 1441: 100%|██████████| 890/890 [00:09<00:00, 96.61it/s] \n"
     ]
    },
    {
     "name": "stdout",
     "output_type": "stream",
     "text": [
      "Epoch 1440 - Train Loss: 0.0366, Train MSE: 0.0365, Train MAE: 0.1395\n",
      "Epoch 1440 - Validation Loss: 0.9898, Validation MSE: 0.9904, Validation MAE: 0.7500\n"
     ]
    },
    {
     "name": "stderr",
     "output_type": "stream",
     "text": [
      "Training Epoch 1442: 100%|██████████| 890/890 [00:09<00:00, 96.15it/s] \n",
      "Training Epoch 1443: 100%|██████████| 890/890 [00:09<00:00, 96.38it/s] \n",
      "Training Epoch 1444: 100%|██████████| 890/890 [00:09<00:00, 98.57it/s] \n",
      "Training Epoch 1445: 100%|██████████| 890/890 [00:08<00:00, 99.72it/s] \n",
      "Training Epoch 1446: 100%|██████████| 890/890 [00:08<00:00, 101.41it/s]\n",
      "Training Epoch 1447: 100%|██████████| 890/890 [00:09<00:00, 98.45it/s] \n",
      "Training Epoch 1448: 100%|██████████| 890/890 [00:09<00:00, 95.46it/s] \n",
      "Training Epoch 1449: 100%|██████████| 890/890 [00:08<00:00, 99.12it/s] \n",
      "Training Epoch 1450: 100%|██████████| 890/890 [00:09<00:00, 98.89it/s] \n",
      "Training Epoch 1451: 100%|██████████| 890/890 [00:08<00:00, 100.04it/s]\n"
     ]
    },
    {
     "name": "stdout",
     "output_type": "stream",
     "text": [
      "Epoch 1450 - Train Loss: 0.0350, Train MSE: 0.0350, Train MAE: 0.1375\n",
      "Epoch 1450 - Validation Loss: 0.9805, Validation MSE: 0.9813, Validation MAE: 0.7473\n"
     ]
    },
    {
     "name": "stderr",
     "output_type": "stream",
     "text": [
      "Training Epoch 1452: 100%|██████████| 890/890 [00:08<00:00, 100.42it/s]\n",
      "Training Epoch 1453: 100%|██████████| 890/890 [00:08<00:00, 100.97it/s]\n",
      "Training Epoch 1454: 100%|██████████| 890/890 [00:08<00:00, 98.95it/s] \n",
      "Training Epoch 1455: 100%|██████████| 890/890 [00:08<00:00, 100.90it/s]\n",
      "Training Epoch 1456: 100%|██████████| 890/890 [00:08<00:00, 100.09it/s]\n",
      "Training Epoch 1457: 100%|██████████| 890/890 [00:08<00:00, 99.69it/s] \n",
      "Training Epoch 1458: 100%|██████████| 890/890 [00:09<00:00, 98.53it/s] \n",
      "Training Epoch 1459: 100%|██████████| 890/890 [00:08<00:00, 100.54it/s]\n",
      "Training Epoch 1460: 100%|██████████| 890/890 [00:09<00:00, 97.63it/s] \n",
      "Training Epoch 1461: 100%|██████████| 890/890 [00:09<00:00, 98.82it/s] \n"
     ]
    },
    {
     "name": "stdout",
     "output_type": "stream",
     "text": [
      "Epoch 1460 - Train Loss: 0.0355, Train MSE: 0.0355, Train MAE: 0.1384\n",
      "Epoch 1460 - Validation Loss: 0.9870, Validation MSE: 0.9888, Validation MAE: 0.7499\n"
     ]
    },
    {
     "name": "stderr",
     "output_type": "stream",
     "text": [
      "Training Epoch 1462: 100%|██████████| 890/890 [00:08<00:00, 99.50it/s] \n",
      "Training Epoch 1463: 100%|██████████| 890/890 [00:08<00:00, 101.59it/s]\n",
      "Training Epoch 1464: 100%|██████████| 890/890 [00:08<00:00, 100.30it/s]\n",
      "Training Epoch 1465: 100%|██████████| 890/890 [00:08<00:00, 99.60it/s] \n",
      "Training Epoch 1466: 100%|██████████| 890/890 [00:09<00:00, 89.16it/s] \n",
      "Training Epoch 1467: 100%|██████████| 890/890 [00:09<00:00, 89.96it/s]\n",
      "Training Epoch 1468: 100%|██████████| 890/890 [00:10<00:00, 81.57it/s] \n",
      "Training Epoch 1469: 100%|██████████| 890/890 [00:09<00:00, 96.48it/s] \n",
      "Training Epoch 1470: 100%|██████████| 890/890 [00:09<00:00, 90.87it/s]\n",
      "Training Epoch 1471: 100%|██████████| 890/890 [00:09<00:00, 98.03it/s] \n"
     ]
    },
    {
     "name": "stdout",
     "output_type": "stream",
     "text": [
      "Epoch 1470 - Train Loss: 0.0345, Train MSE: 0.0345, Train MAE: 0.1355\n",
      "Epoch 1470 - Validation Loss: 0.9672, Validation MSE: 0.9689, Validation MAE: 0.7439\n"
     ]
    },
    {
     "name": "stderr",
     "output_type": "stream",
     "text": [
      "Training Epoch 1472: 100%|██████████| 890/890 [00:08<00:00, 99.59it/s] \n",
      "Training Epoch 1473: 100%|██████████| 890/890 [00:09<00:00, 96.56it/s] \n",
      "Training Epoch 1474: 100%|██████████| 890/890 [00:09<00:00, 97.16it/s] \n",
      "Training Epoch 1475: 100%|██████████| 890/890 [00:09<00:00, 92.11it/s] \n",
      "Training Epoch 1476: 100%|██████████| 890/890 [00:09<00:00, 98.57it/s] \n",
      "Training Epoch 1477: 100%|██████████| 890/890 [00:09<00:00, 96.38it/s] \n",
      "Training Epoch 1478: 100%|██████████| 890/890 [00:09<00:00, 95.80it/s] \n",
      "Training Epoch 1479: 100%|██████████| 890/890 [00:09<00:00, 98.32it/s] \n",
      "Training Epoch 1480: 100%|██████████| 890/890 [00:09<00:00, 95.22it/s] \n",
      "Training Epoch 1481: 100%|██████████| 890/890 [00:09<00:00, 96.87it/s] \n"
     ]
    },
    {
     "name": "stdout",
     "output_type": "stream",
     "text": [
      "Epoch 1480 - Train Loss: 0.0346, Train MSE: 0.0347, Train MAE: 0.1367\n",
      "Epoch 1480 - Validation Loss: 0.9782, Validation MSE: 0.9800, Validation MAE: 0.7503\n"
     ]
    },
    {
     "name": "stderr",
     "output_type": "stream",
     "text": [
      "Training Epoch 1482: 100%|██████████| 890/890 [00:08<00:00, 101.01it/s]\n",
      "Training Epoch 1483: 100%|██████████| 890/890 [00:09<00:00, 98.78it/s] \n",
      "Training Epoch 1484: 100%|██████████| 890/890 [00:09<00:00, 95.49it/s] \n",
      "Training Epoch 1485: 100%|██████████| 890/890 [00:08<00:00, 103.72it/s]\n",
      "Training Epoch 1486: 100%|██████████| 890/890 [00:09<00:00, 95.66it/s] \n",
      "Training Epoch 1487: 100%|██████████| 890/890 [00:08<00:00, 106.36it/s]\n",
      "Training Epoch 1488: 100%|██████████| 890/890 [00:08<00:00, 107.18it/s]\n",
      "Training Epoch 1489: 100%|██████████| 890/890 [00:08<00:00, 107.68it/s]\n",
      "Training Epoch 1490: 100%|██████████| 890/890 [00:08<00:00, 107.73it/s]\n",
      "Training Epoch 1491: 100%|██████████| 890/890 [00:08<00:00, 104.81it/s]\n"
     ]
    },
    {
     "name": "stdout",
     "output_type": "stream",
     "text": [
      "Epoch 1490 - Train Loss: 0.0343, Train MSE: 0.0344, Train MAE: 0.1361\n",
      "Epoch 1490 - Validation Loss: 0.9798, Validation MSE: 0.9816, Validation MAE: 0.7478\n"
     ]
    },
    {
     "name": "stderr",
     "output_type": "stream",
     "text": [
      "Training Epoch 1492: 100%|██████████| 890/890 [00:07<00:00, 111.49it/s]\n",
      "Training Epoch 1493: 100%|██████████| 890/890 [00:08<00:00, 106.59it/s]\n",
      "Training Epoch 1494: 100%|██████████| 890/890 [00:08<00:00, 107.99it/s]\n",
      "Training Epoch 1495: 100%|██████████| 890/890 [00:08<00:00, 109.28it/s]\n",
      "Training Epoch 1496: 100%|██████████| 890/890 [00:08<00:00, 105.41it/s]\n",
      "Training Epoch 1497: 100%|██████████| 890/890 [00:08<00:00, 104.20it/s]\n",
      "Training Epoch 1498: 100%|██████████| 890/890 [00:08<00:00, 108.31it/s]\n",
      "Training Epoch 1499: 100%|██████████| 890/890 [00:08<00:00, 110.33it/s]\n",
      "Training Epoch 1500: 100%|██████████| 890/890 [00:08<00:00, 106.76it/s]\n",
      "Training Epoch 1501: 100%|██████████| 890/890 [00:08<00:00, 109.50it/s]\n"
     ]
    },
    {
     "name": "stdout",
     "output_type": "stream",
     "text": [
      "Epoch 1500 - Train Loss: 0.0338, Train MSE: 0.0338, Train MAE: 0.1357\n",
      "Epoch 1500 - Validation Loss: 0.9688, Validation MSE: 0.9703, Validation MAE: 0.7468\n"
     ]
    },
    {
     "name": "stderr",
     "output_type": "stream",
     "text": [
      "Training Epoch 1502: 100%|██████████| 890/890 [00:07<00:00, 111.62it/s]\n",
      "Training Epoch 1503: 100%|██████████| 890/890 [00:08<00:00, 103.29it/s]\n",
      "Training Epoch 1504: 100%|██████████| 890/890 [00:08<00:00, 110.31it/s]\n",
      "Training Epoch 1505: 100%|██████████| 890/890 [00:08<00:00, 106.61it/s]\n",
      "Training Epoch 1506: 100%|██████████| 890/890 [00:07<00:00, 111.28it/s]\n",
      "Training Epoch 1507: 100%|██████████| 890/890 [00:08<00:00, 106.65it/s]\n",
      "Training Epoch 1508: 100%|██████████| 890/890 [00:08<00:00, 107.56it/s]\n",
      "Training Epoch 1509: 100%|██████████| 890/890 [00:08<00:00, 111.03it/s]\n",
      "Training Epoch 1510: 100%|██████████| 890/890 [00:08<00:00, 106.69it/s]\n",
      "Training Epoch 1511: 100%|██████████| 890/890 [00:08<00:00, 107.85it/s]\n"
     ]
    },
    {
     "name": "stdout",
     "output_type": "stream",
     "text": [
      "Epoch 1510 - Train Loss: 0.0339, Train MSE: 0.0339, Train MAE: 0.1354\n",
      "Epoch 1510 - Validation Loss: 0.9845, Validation MSE: 0.9865, Validation MAE: 0.7505\n"
     ]
    },
    {
     "name": "stderr",
     "output_type": "stream",
     "text": [
      "Training Epoch 1512: 100%|██████████| 890/890 [00:08<00:00, 107.61it/s]\n",
      "Training Epoch 1513: 100%|██████████| 890/890 [00:08<00:00, 110.35it/s]\n",
      "Training Epoch 1514: 100%|██████████| 890/890 [00:08<00:00, 105.40it/s]\n",
      "Training Epoch 1515: 100%|██████████| 890/890 [00:08<00:00, 107.99it/s]\n",
      "Training Epoch 1516: 100%|██████████| 890/890 [00:07<00:00, 111.93it/s]\n",
      "Training Epoch 1517: 100%|██████████| 890/890 [00:08<00:00, 107.57it/s]\n",
      "Training Epoch 1518: 100%|██████████| 890/890 [00:08<00:00, 106.78it/s]\n",
      "Training Epoch 1519: 100%|██████████| 890/890 [00:08<00:00, 109.47it/s]\n",
      "Training Epoch 1520: 100%|██████████| 890/890 [00:08<00:00, 108.21it/s]\n",
      "Training Epoch 1521: 100%|██████████| 890/890 [00:08<00:00, 106.94it/s]\n"
     ]
    },
    {
     "name": "stdout",
     "output_type": "stream",
     "text": [
      "Epoch 1520 - Train Loss: 0.0358, Train MSE: 0.0359, Train MAE: 0.1377\n",
      "Epoch 1520 - Validation Loss: 0.9766, Validation MSE: 0.9782, Validation MAE: 0.7468\n"
     ]
    },
    {
     "name": "stderr",
     "output_type": "stream",
     "text": [
      "Training Epoch 1522: 100%|██████████| 890/890 [00:08<00:00, 108.32it/s]\n",
      "Training Epoch 1523: 100%|██████████| 890/890 [00:07<00:00, 111.35it/s]\n",
      "Training Epoch 1524: 100%|██████████| 890/890 [00:08<00:00, 103.99it/s]\n",
      "Training Epoch 1525: 100%|██████████| 890/890 [00:08<00:00, 105.43it/s]\n",
      "Training Epoch 1526: 100%|██████████| 890/890 [00:08<00:00, 110.01it/s]\n",
      "Training Epoch 1527: 100%|██████████| 890/890 [00:08<00:00, 107.14it/s]\n",
      "Training Epoch 1528: 100%|██████████| 890/890 [00:08<00:00, 106.21it/s]\n",
      "Training Epoch 1529: 100%|██████████| 890/890 [00:08<00:00, 107.34it/s]\n",
      "Training Epoch 1530: 100%|██████████| 890/890 [00:07<00:00, 113.23it/s]\n",
      "Training Epoch 1531: 100%|██████████| 890/890 [00:08<00:00, 108.50it/s]\n"
     ]
    },
    {
     "name": "stdout",
     "output_type": "stream",
     "text": [
      "Epoch 1530 - Train Loss: 0.0360, Train MSE: 0.0360, Train MAE: 0.1373\n",
      "Epoch 1530 - Validation Loss: 0.9848, Validation MSE: 0.9863, Validation MAE: 0.7513\n"
     ]
    },
    {
     "name": "stderr",
     "output_type": "stream",
     "text": [
      "Training Epoch 1532: 100%|██████████| 890/890 [00:08<00:00, 107.76it/s]\n",
      "Training Epoch 1533: 100%|██████████| 890/890 [00:08<00:00, 111.00it/s]\n",
      "Training Epoch 1534: 100%|██████████| 890/890 [00:08<00:00, 106.88it/s]\n",
      "Training Epoch 1535: 100%|██████████| 890/890 [00:08<00:00, 109.15it/s]\n",
      "Training Epoch 1536: 100%|██████████| 890/890 [00:08<00:00, 108.25it/s]\n",
      "Training Epoch 1537: 100%|██████████| 890/890 [00:07<00:00, 111.71it/s]\n",
      "Training Epoch 1538: 100%|██████████| 890/890 [00:08<00:00, 109.35it/s]\n",
      "Training Epoch 1539: 100%|██████████| 890/890 [00:08<00:00, 105.70it/s]\n",
      "Training Epoch 1540: 100%|██████████| 890/890 [00:08<00:00, 110.65it/s]\n",
      "Training Epoch 1541: 100%|██████████| 890/890 [00:08<00:00, 106.59it/s]\n"
     ]
    },
    {
     "name": "stdout",
     "output_type": "stream",
     "text": [
      "Epoch 1540 - Train Loss: 0.0347, Train MSE: 0.0348, Train MAE: 0.1366\n",
      "Epoch 1540 - Validation Loss: 0.9856, Validation MSE: 0.9862, Validation MAE: 0.7512\n"
     ]
    },
    {
     "name": "stderr",
     "output_type": "stream",
     "text": [
      "Training Epoch 1542: 100%|██████████| 890/890 [00:08<00:00, 107.35it/s]\n",
      "Training Epoch 1543: 100%|██████████| 890/890 [00:08<00:00, 109.23it/s]\n",
      "Training Epoch 1544: 100%|██████████| 890/890 [00:08<00:00, 109.84it/s]\n",
      "Training Epoch 1545: 100%|██████████| 890/890 [00:08<00:00, 109.05it/s]\n",
      "Training Epoch 1546: 100%|██████████| 890/890 [00:08<00:00, 107.85it/s]\n",
      "Training Epoch 1547: 100%|██████████| 890/890 [00:08<00:00, 111.24it/s]\n",
      "Training Epoch 1548: 100%|██████████| 890/890 [00:08<00:00, 108.15it/s]\n",
      "Training Epoch 1549: 100%|██████████| 890/890 [00:08<00:00, 104.80it/s]\n",
      "Training Epoch 1550: 100%|██████████| 890/890 [00:08<00:00, 106.07it/s]\n",
      "Training Epoch 1551: 100%|██████████| 890/890 [00:08<00:00, 105.28it/s]\n"
     ]
    },
    {
     "name": "stdout",
     "output_type": "stream",
     "text": [
      "Epoch 1550 - Train Loss: 0.0342, Train MSE: 0.0342, Train MAE: 0.1352\n",
      "Epoch 1550 - Validation Loss: 0.9740, Validation MSE: 0.9761, Validation MAE: 0.7443\n"
     ]
    },
    {
     "name": "stderr",
     "output_type": "stream",
     "text": [
      "Training Epoch 1552: 100%|██████████| 890/890 [00:08<00:00, 107.91it/s]\n",
      "Training Epoch 1553: 100%|██████████| 890/890 [00:08<00:00, 107.52it/s]\n",
      "Training Epoch 1554: 100%|██████████| 890/890 [00:08<00:00, 110.16it/s]\n",
      "Training Epoch 1555: 100%|██████████| 890/890 [00:08<00:00, 107.47it/s]\n",
      "Training Epoch 1556: 100%|██████████| 890/890 [00:08<00:00, 108.55it/s]\n",
      "Training Epoch 1557: 100%|██████████| 890/890 [00:08<00:00, 108.40it/s]\n",
      "Training Epoch 1558: 100%|██████████| 890/890 [00:08<00:00, 111.03it/s]\n",
      "Training Epoch 1559: 100%|██████████| 890/890 [00:08<00:00, 107.16it/s]\n",
      "Training Epoch 1560: 100%|██████████| 890/890 [00:08<00:00, 106.55it/s]\n",
      "Training Epoch 1561: 100%|██████████| 890/890 [00:08<00:00, 110.52it/s]\n"
     ]
    },
    {
     "name": "stdout",
     "output_type": "stream",
     "text": [
      "Epoch 1560 - Train Loss: 0.0341, Train MSE: 0.0341, Train MAE: 0.1352\n",
      "Epoch 1560 - Validation Loss: 0.9739, Validation MSE: 0.9760, Validation MAE: 0.7460\n"
     ]
    },
    {
     "name": "stderr",
     "output_type": "stream",
     "text": [
      "Training Epoch 1562: 100%|██████████| 890/890 [00:08<00:00, 108.56it/s]\n",
      "Training Epoch 1563: 100%|██████████| 890/890 [00:08<00:00, 107.94it/s]\n",
      "Training Epoch 1564: 100%|██████████| 890/890 [00:07<00:00, 111.36it/s]\n",
      "Training Epoch 1565: 100%|██████████| 890/890 [00:08<00:00, 110.08it/s]\n",
      "Training Epoch 1566: 100%|██████████| 890/890 [00:08<00:00, 108.69it/s]\n",
      "Training Epoch 1567: 100%|██████████| 890/890 [00:08<00:00, 107.32it/s]\n",
      "Training Epoch 1568: 100%|██████████| 890/890 [00:07<00:00, 112.98it/s]\n",
      "Training Epoch 1569: 100%|██████████| 890/890 [00:08<00:00, 107.10it/s]\n",
      "Training Epoch 1570: 100%|██████████| 890/890 [00:08<00:00, 108.13it/s]\n",
      "Training Epoch 1571: 100%|██████████| 890/890 [00:07<00:00, 112.08it/s]\n"
     ]
    },
    {
     "name": "stdout",
     "output_type": "stream",
     "text": [
      "Epoch 1570 - Train Loss: 0.0323, Train MSE: 0.0323, Train MAE: 0.1327\n",
      "Epoch 1570 - Validation Loss: 0.9668, Validation MSE: 0.9686, Validation MAE: 0.7433\n"
     ]
    },
    {
     "name": "stderr",
     "output_type": "stream",
     "text": [
      "Training Epoch 1572: 100%|██████████| 890/890 [00:08<00:00, 106.70it/s]\n",
      "Training Epoch 1573: 100%|██████████| 890/890 [00:08<00:00, 108.05it/s]\n",
      "Training Epoch 1574: 100%|██████████| 890/890 [00:08<00:00, 107.30it/s]\n",
      "Training Epoch 1575: 100%|██████████| 890/890 [00:07<00:00, 114.87it/s]\n",
      "Training Epoch 1576: 100%|██████████| 890/890 [00:08<00:00, 106.88it/s]\n",
      "Training Epoch 1577: 100%|██████████| 890/890 [00:07<00:00, 111.33it/s]\n",
      "Training Epoch 1578: 100%|██████████| 890/890 [00:07<00:00, 112.15it/s]\n",
      "Training Epoch 1579: 100%|██████████| 890/890 [00:08<00:00, 109.86it/s]\n",
      "Training Epoch 1580: 100%|██████████| 890/890 [00:08<00:00, 105.15it/s]\n",
      "Training Epoch 1581: 100%|██████████| 890/890 [00:08<00:00, 107.30it/s]\n"
     ]
    },
    {
     "name": "stdout",
     "output_type": "stream",
     "text": [
      "Epoch 1580 - Train Loss: 0.0343, Train MSE: 0.0343, Train MAE: 0.1353\n",
      "Epoch 1580 - Validation Loss: 0.9874, Validation MSE: 0.9895, Validation MAE: 0.7492\n"
     ]
    },
    {
     "name": "stderr",
     "output_type": "stream",
     "text": [
      "Training Epoch 1582: 100%|██████████| 890/890 [00:07<00:00, 111.25it/s]\n",
      "Training Epoch 1583: 100%|██████████| 890/890 [00:08<00:00, 108.75it/s]\n",
      "Training Epoch 1584: 100%|██████████| 890/890 [00:08<00:00, 107.30it/s]\n",
      "Training Epoch 1585: 100%|██████████| 890/890 [00:08<00:00, 110.16it/s]\n",
      "Training Epoch 1586: 100%|██████████| 890/890 [00:08<00:00, 106.51it/s]\n",
      "Training Epoch 1587: 100%|██████████| 890/890 [00:08<00:00, 107.92it/s]\n",
      "Training Epoch 1588: 100%|██████████| 890/890 [00:08<00:00, 110.24it/s]\n",
      "Training Epoch 1589: 100%|██████████| 890/890 [00:07<00:00, 112.83it/s]\n",
      "Training Epoch 1590: 100%|██████████| 890/890 [00:08<00:00, 108.85it/s]\n",
      "Training Epoch 1591: 100%|██████████| 890/890 [00:08<00:00, 108.69it/s]\n"
     ]
    },
    {
     "name": "stdout",
     "output_type": "stream",
     "text": [
      "Epoch 1590 - Train Loss: 0.0320, Train MSE: 0.0320, Train MAE: 0.1325\n",
      "Epoch 1590 - Validation Loss: 0.9726, Validation MSE: 0.9745, Validation MAE: 0.7444\n"
     ]
    },
    {
     "name": "stderr",
     "output_type": "stream",
     "text": [
      "Training Epoch 1592: 100%|██████████| 890/890 [00:08<00:00, 110.94it/s]\n",
      "Training Epoch 1593: 100%|██████████| 890/890 [00:08<00:00, 107.07it/s]\n",
      "Training Epoch 1594: 100%|██████████| 890/890 [00:08<00:00, 107.18it/s]\n",
      "Training Epoch 1595: 100%|██████████| 890/890 [00:08<00:00, 110.13it/s]\n",
      "Training Epoch 1596: 100%|██████████| 890/890 [00:07<00:00, 111.97it/s]\n",
      "Training Epoch 1597: 100%|██████████| 890/890 [00:08<00:00, 108.89it/s]\n",
      "Training Epoch 1598: 100%|██████████| 890/890 [00:08<00:00, 107.40it/s]\n",
      "Training Epoch 1599: 100%|██████████| 890/890 [00:08<00:00, 108.30it/s]\n",
      "Training Epoch 1600: 100%|██████████| 890/890 [00:08<00:00, 107.07it/s]\n",
      "Training Epoch 1601: 100%|██████████| 890/890 [00:08<00:00, 107.12it/s]\n"
     ]
    },
    {
     "name": "stdout",
     "output_type": "stream",
     "text": [
      "Epoch 1600 - Train Loss: 0.0337, Train MSE: 0.0336, Train MAE: 0.1348\n",
      "Epoch 1600 - Validation Loss: 0.9777, Validation MSE: 0.9793, Validation MAE: 0.7473\n"
     ]
    },
    {
     "name": "stderr",
     "output_type": "stream",
     "text": [
      "Training Epoch 1602: 100%|██████████| 890/890 [00:07<00:00, 111.93it/s]\n",
      "Training Epoch 1603: 100%|██████████| 890/890 [00:08<00:00, 108.42it/s]\n",
      "Training Epoch 1604: 100%|██████████| 890/890 [00:08<00:00, 107.12it/s]\n",
      "Training Epoch 1605: 100%|██████████| 890/890 [00:08<00:00, 108.37it/s]\n",
      "Training Epoch 1606: 100%|██████████| 890/890 [00:08<00:00, 108.94it/s]\n",
      "Training Epoch 1607: 100%|██████████| 890/890 [00:08<00:00, 108.81it/s]\n",
      "Training Epoch 1608: 100%|██████████| 890/890 [00:08<00:00, 107.56it/s]\n",
      "Training Epoch 1609: 100%|██████████| 890/890 [00:08<00:00, 110.70it/s]\n",
      "Training Epoch 1610: 100%|██████████| 890/890 [00:08<00:00, 107.64it/s]\n",
      "Training Epoch 1611: 100%|██████████| 890/890 [00:08<00:00, 107.45it/s]\n"
     ]
    },
    {
     "name": "stdout",
     "output_type": "stream",
     "text": [
      "Epoch 1610 - Train Loss: 0.0337, Train MSE: 0.0337, Train MAE: 0.1348\n",
      "Epoch 1610 - Validation Loss: 0.9825, Validation MSE: 0.9838, Validation MAE: 0.7492\n"
     ]
    },
    {
     "name": "stderr",
     "output_type": "stream",
     "text": [
      "Training Epoch 1612: 100%|██████████| 890/890 [00:08<00:00, 107.54it/s]\n",
      "Training Epoch 1613: 100%|██████████| 890/890 [00:07<00:00, 112.05it/s]\n",
      "Training Epoch 1614: 100%|██████████| 890/890 [00:08<00:00, 106.79it/s]\n",
      "Training Epoch 1615: 100%|██████████| 890/890 [00:08<00:00, 109.25it/s]\n",
      "Training Epoch 1616: 100%|██████████| 890/890 [00:07<00:00, 111.64it/s]\n",
      "Training Epoch 1617: 100%|██████████| 890/890 [00:08<00:00, 103.93it/s]\n",
      "Training Epoch 1618: 100%|██████████| 890/890 [00:08<00:00, 104.72it/s]\n",
      "Training Epoch 1619: 100%|██████████| 890/890 [00:08<00:00, 106.65it/s]\n",
      "Training Epoch 1620: 100%|██████████| 890/890 [00:08<00:00, 106.80it/s]\n",
      "Training Epoch 1621: 100%|██████████| 890/890 [00:08<00:00, 108.51it/s]\n"
     ]
    },
    {
     "name": "stdout",
     "output_type": "stream",
     "text": [
      "Epoch 1620 - Train Loss: 0.0354, Train MSE: 0.0353, Train MAE: 0.1369\n",
      "Epoch 1620 - Validation Loss: 0.9741, Validation MSE: 0.9759, Validation MAE: 0.7483\n"
     ]
    },
    {
     "name": "stderr",
     "output_type": "stream",
     "text": [
      "Training Epoch 1622: 100%|██████████| 890/890 [00:08<00:00, 108.00it/s]\n",
      "Training Epoch 1623: 100%|██████████| 890/890 [00:07<00:00, 114.80it/s]\n",
      "Training Epoch 1624: 100%|██████████| 890/890 [00:08<00:00, 108.48it/s]\n",
      "Training Epoch 1625: 100%|██████████| 890/890 [00:08<00:00, 110.35it/s]\n",
      "Training Epoch 1626: 100%|██████████| 890/890 [00:08<00:00, 109.74it/s]\n",
      "Training Epoch 1627: 100%|██████████| 890/890 [00:08<00:00, 110.63it/s]\n",
      "Training Epoch 1628: 100%|██████████| 890/890 [00:08<00:00, 108.79it/s]\n",
      "Training Epoch 1629: 100%|██████████| 890/890 [00:08<00:00, 101.10it/s]\n",
      "Training Epoch 1630: 100%|██████████| 890/890 [00:08<00:00, 107.71it/s]\n",
      "Training Epoch 1631: 100%|██████████| 890/890 [00:08<00:00, 107.08it/s]\n"
     ]
    },
    {
     "name": "stdout",
     "output_type": "stream",
     "text": [
      "Epoch 1630 - Train Loss: 0.0330, Train MSE: 0.0329, Train MAE: 0.1328\n",
      "Epoch 1630 - Validation Loss: 0.9858, Validation MSE: 0.9872, Validation MAE: 0.7505\n"
     ]
    },
    {
     "name": "stderr",
     "output_type": "stream",
     "text": [
      "Training Epoch 1632: 100%|██████████| 890/890 [00:08<00:00, 106.24it/s]\n",
      "Training Epoch 1633: 100%|██████████| 890/890 [00:08<00:00, 109.31it/s]\n",
      "Training Epoch 1634: 100%|██████████| 890/890 [00:08<00:00, 108.38it/s]\n",
      "Training Epoch 1635: 100%|██████████| 890/890 [00:08<00:00, 108.34it/s]\n",
      "Training Epoch 1636: 100%|██████████| 890/890 [00:08<00:00, 109.92it/s]\n",
      "Training Epoch 1637: 100%|██████████| 890/890 [00:07<00:00, 112.09it/s]\n",
      "Training Epoch 1638: 100%|██████████| 890/890 [00:08<00:00, 106.96it/s]\n",
      "Training Epoch 1639: 100%|██████████| 890/890 [00:08<00:00, 106.56it/s]\n",
      "Training Epoch 1640: 100%|██████████| 890/890 [00:07<00:00, 112.66it/s]\n",
      "Training Epoch 1641: 100%|██████████| 890/890 [00:08<00:00, 106.20it/s]\n"
     ]
    },
    {
     "name": "stdout",
     "output_type": "stream",
     "text": [
      "Epoch 1640 - Train Loss: 0.0367, Train MSE: 0.0367, Train MAE: 0.1376\n",
      "Epoch 1640 - Validation Loss: 0.9829, Validation MSE: 0.9835, Validation MAE: 0.7474\n"
     ]
    },
    {
     "name": "stderr",
     "output_type": "stream",
     "text": [
      "Training Epoch 1642: 100%|██████████| 890/890 [00:08<00:00, 105.74it/s]\n",
      "Training Epoch 1643: 100%|██████████| 890/890 [00:08<00:00, 107.45it/s]\n",
      "Training Epoch 1644: 100%|██████████| 890/890 [00:07<00:00, 111.47it/s]\n",
      "Training Epoch 1645: 100%|██████████| 890/890 [00:08<00:00, 106.20it/s]\n",
      "Training Epoch 1646: 100%|██████████| 890/890 [00:08<00:00, 107.08it/s]\n",
      "Training Epoch 1647: 100%|██████████| 890/890 [00:07<00:00, 111.50it/s]\n",
      "Training Epoch 1648: 100%|██████████| 890/890 [00:08<00:00, 105.41it/s]\n",
      "Training Epoch 1649: 100%|██████████| 890/890 [00:08<00:00, 107.82it/s]\n",
      "Training Epoch 1650: 100%|██████████| 890/890 [00:08<00:00, 107.60it/s]\n",
      "Training Epoch 1651: 100%|██████████| 890/890 [00:08<00:00, 110.19it/s]\n"
     ]
    },
    {
     "name": "stdout",
     "output_type": "stream",
     "text": [
      "Epoch 1650 - Train Loss: 0.0339, Train MSE: 0.0340, Train MAE: 0.1347\n",
      "Epoch 1650 - Validation Loss: 0.9826, Validation MSE: 0.9845, Validation MAE: 0.7450\n"
     ]
    },
    {
     "name": "stderr",
     "output_type": "stream",
     "text": [
      "Training Epoch 1652: 100%|██████████| 890/890 [00:08<00:00, 107.96it/s]\n",
      "Training Epoch 1653: 100%|██████████| 890/890 [00:08<00:00, 107.36it/s]\n",
      "Training Epoch 1654: 100%|██████████| 890/890 [00:08<00:00, 109.99it/s]\n",
      "Training Epoch 1655: 100%|██████████| 890/890 [00:08<00:00, 105.22it/s]\n",
      "Training Epoch 1656: 100%|██████████| 890/890 [00:08<00:00, 106.20it/s]\n",
      "Training Epoch 1657: 100%|██████████| 890/890 [00:08<00:00, 106.71it/s]\n",
      "Training Epoch 1658: 100%|██████████| 890/890 [00:08<00:00, 108.81it/s]\n",
      "Training Epoch 1659: 100%|██████████| 890/890 [00:08<00:00, 108.36it/s]\n",
      "Training Epoch 1660: 100%|██████████| 890/890 [00:08<00:00, 108.08it/s]\n",
      "Training Epoch 1661: 100%|██████████| 890/890 [00:07<00:00, 114.12it/s]\n"
     ]
    },
    {
     "name": "stdout",
     "output_type": "stream",
     "text": [
      "Epoch 1660 - Train Loss: 0.0320, Train MSE: 0.0320, Train MAE: 0.1322\n",
      "Epoch 1660 - Validation Loss: 0.9733, Validation MSE: 0.9755, Validation MAE: 0.7455\n"
     ]
    },
    {
     "name": "stderr",
     "output_type": "stream",
     "text": [
      "Training Epoch 1662: 100%|██████████| 890/890 [00:08<00:00, 106.92it/s]\n",
      "Training Epoch 1663: 100%|██████████| 890/890 [00:08<00:00, 107.40it/s]\n",
      "Training Epoch 1664: 100%|██████████| 890/890 [00:08<00:00, 110.62it/s]\n",
      "Training Epoch 1665: 100%|██████████| 890/890 [00:08<00:00, 109.97it/s]\n",
      "Training Epoch 1666: 100%|██████████| 890/890 [00:08<00:00, 107.68it/s]\n",
      "Training Epoch 1667: 100%|██████████| 890/890 [00:07<00:00, 111.82it/s]\n",
      "Training Epoch 1668: 100%|██████████| 890/890 [00:08<00:00, 110.07it/s]\n",
      "Training Epoch 1669: 100%|██████████| 890/890 [00:08<00:00, 106.91it/s]\n",
      "Training Epoch 1670: 100%|██████████| 890/890 [00:08<00:00, 107.79it/s]\n",
      "Training Epoch 1671: 100%|██████████| 890/890 [00:07<00:00, 113.03it/s]\n"
     ]
    },
    {
     "name": "stdout",
     "output_type": "stream",
     "text": [
      "Epoch 1670 - Train Loss: 0.0324, Train MSE: 0.0323, Train MAE: 0.1320\n",
      "Epoch 1670 - Validation Loss: 0.9588, Validation MSE: 0.9608, Validation MAE: 0.7404\n"
     ]
    },
    {
     "name": "stderr",
     "output_type": "stream",
     "text": [
      "Training Epoch 1672: 100%|██████████| 890/890 [00:08<00:00, 108.89it/s]\n",
      "Training Epoch 1673: 100%|██████████| 890/890 [00:08<00:00, 107.83it/s]\n",
      "Training Epoch 1674: 100%|██████████| 890/890 [00:08<00:00, 108.31it/s]\n",
      "Training Epoch 1675: 100%|██████████| 890/890 [00:07<00:00, 111.44it/s]\n",
      "Training Epoch 1676: 100%|██████████| 890/890 [00:08<00:00, 108.65it/s]\n",
      "Training Epoch 1677: 100%|██████████| 890/890 [00:08<00:00, 109.75it/s]\n",
      "Training Epoch 1678: 100%|██████████| 890/890 [00:08<00:00, 109.18it/s]\n",
      "Training Epoch 1679: 100%|██████████| 890/890 [00:07<00:00, 111.92it/s]\n",
      "Training Epoch 1680: 100%|██████████| 890/890 [00:08<00:00, 107.25it/s]\n",
      "Training Epoch 1681: 100%|██████████| 890/890 [00:08<00:00, 110.53it/s]\n"
     ]
    },
    {
     "name": "stdout",
     "output_type": "stream",
     "text": [
      "Epoch 1680 - Train Loss: 0.0321, Train MSE: 0.0321, Train MAE: 0.1315\n",
      "Epoch 1680 - Validation Loss: 0.9724, Validation MSE: 0.9742, Validation MAE: 0.7442\n"
     ]
    },
    {
     "name": "stderr",
     "output_type": "stream",
     "text": [
      "Training Epoch 1682: 100%|██████████| 890/890 [00:07<00:00, 112.04it/s]\n",
      "Training Epoch 1683: 100%|██████████| 890/890 [00:08<00:00, 104.03it/s]\n",
      "Training Epoch 1684: 100%|██████████| 890/890 [00:08<00:00, 107.75it/s]\n",
      "Training Epoch 1685: 100%|██████████| 890/890 [00:08<00:00, 109.97it/s]\n",
      "Training Epoch 1686: 100%|██████████| 890/890 [00:08<00:00, 109.53it/s]\n",
      "Training Epoch 1687: 100%|██████████| 890/890 [00:08<00:00, 109.91it/s]\n",
      "Training Epoch 1688: 100%|██████████| 890/890 [00:08<00:00, 108.78it/s]\n",
      "Training Epoch 1689: 100%|██████████| 890/890 [00:07<00:00, 111.70it/s]\n",
      "Training Epoch 1690: 100%|██████████| 890/890 [00:08<00:00, 109.89it/s]\n",
      "Training Epoch 1691: 100%|██████████| 890/890 [00:08<00:00, 108.21it/s]\n"
     ]
    },
    {
     "name": "stdout",
     "output_type": "stream",
     "text": [
      "Epoch 1690 - Train Loss: 0.0324, Train MSE: 0.0324, Train MAE: 0.1325\n",
      "Epoch 1690 - Validation Loss: 0.9703, Validation MSE: 0.9720, Validation MAE: 0.7433\n"
     ]
    },
    {
     "name": "stderr",
     "output_type": "stream",
     "text": [
      "Training Epoch 1692: 100%|██████████| 890/890 [00:07<00:00, 112.82it/s]\n",
      "Training Epoch 1693: 100%|██████████| 890/890 [00:08<00:00, 109.20it/s]\n",
      "Training Epoch 1694: 100%|██████████| 890/890 [00:08<00:00, 108.72it/s]\n",
      "Training Epoch 1695: 100%|██████████| 890/890 [00:08<00:00, 110.54it/s]\n",
      "Training Epoch 1696: 100%|██████████| 890/890 [00:07<00:00, 111.45it/s]\n",
      "Training Epoch 1697: 100%|██████████| 890/890 [00:08<00:00, 108.21it/s]\n",
      "Training Epoch 1698: 100%|██████████| 890/890 [00:08<00:00, 106.33it/s]\n",
      "Training Epoch 1699: 100%|██████████| 890/890 [00:07<00:00, 113.01it/s]\n",
      "Training Epoch 1700: 100%|██████████| 890/890 [00:08<00:00, 110.61it/s]\n",
      "Training Epoch 1701: 100%|██████████| 890/890 [00:08<00:00, 107.80it/s]\n"
     ]
    },
    {
     "name": "stdout",
     "output_type": "stream",
     "text": [
      "Epoch 1700 - Train Loss: 0.0322, Train MSE: 0.0322, Train MAE: 0.1326\n",
      "Epoch 1700 - Validation Loss: 0.9650, Validation MSE: 0.9664, Validation MAE: 0.7397\n"
     ]
    },
    {
     "name": "stderr",
     "output_type": "stream",
     "text": [
      "Training Epoch 1702: 100%|██████████| 890/890 [00:08<00:00, 108.15it/s]\n",
      "Training Epoch 1703: 100%|██████████| 890/890 [00:08<00:00, 110.38it/s]\n",
      "Training Epoch 1704: 100%|██████████| 890/890 [00:08<00:00, 106.88it/s]\n",
      "Training Epoch 1705: 100%|██████████| 890/890 [00:08<00:00, 107.10it/s]\n",
      "Training Epoch 1706: 100%|██████████| 890/890 [00:08<00:00, 111.08it/s]\n",
      "Training Epoch 1707: 100%|██████████| 890/890 [00:08<00:00, 108.28it/s]\n",
      "Training Epoch 1708: 100%|██████████| 890/890 [00:08<00:00, 107.91it/s]\n",
      "Training Epoch 1709: 100%|██████████| 890/890 [00:08<00:00, 109.01it/s]\n",
      "Training Epoch 1710: 100%|██████████| 890/890 [00:08<00:00, 107.94it/s]\n",
      "Training Epoch 1711: 100%|██████████| 890/890 [00:08<00:00, 109.94it/s]\n"
     ]
    },
    {
     "name": "stdout",
     "output_type": "stream",
     "text": [
      "Epoch 1710 - Train Loss: 0.0314, Train MSE: 0.0314, Train MAE: 0.1314\n",
      "Epoch 1710 - Validation Loss: 0.9999, Validation MSE: 1.0014, Validation MAE: 0.7528\n"
     ]
    },
    {
     "name": "stderr",
     "output_type": "stream",
     "text": [
      "Training Epoch 1712: 100%|██████████| 890/890 [00:08<00:00, 108.68it/s]\n",
      "Training Epoch 1713: 100%|██████████| 890/890 [00:08<00:00, 111.15it/s]\n",
      "Training Epoch 1714: 100%|██████████| 890/890 [00:08<00:00, 102.04it/s]\n",
      "Training Epoch 1715: 100%|██████████| 890/890 [00:08<00:00, 108.05it/s]\n",
      "Training Epoch 1716: 100%|██████████| 890/890 [00:08<00:00, 111.12it/s]\n",
      "Training Epoch 1717: 100%|██████████| 890/890 [00:07<00:00, 112.53it/s]\n",
      "Training Epoch 1718: 100%|██████████| 890/890 [00:08<00:00, 111.24it/s]\n",
      "Training Epoch 1719: 100%|██████████| 890/890 [00:08<00:00, 106.89it/s]\n",
      "Training Epoch 1720: 100%|██████████| 890/890 [00:07<00:00, 113.44it/s]\n",
      "Training Epoch 1721: 100%|██████████| 890/890 [00:08<00:00, 110.18it/s]\n"
     ]
    },
    {
     "name": "stdout",
     "output_type": "stream",
     "text": [
      "Epoch 1720 - Train Loss: 0.0330, Train MSE: 0.0329, Train MAE: 0.1327\n",
      "Epoch 1720 - Validation Loss: 0.9933, Validation MSE: 0.9956, Validation MAE: 0.7521\n"
     ]
    },
    {
     "name": "stderr",
     "output_type": "stream",
     "text": [
      "Training Epoch 1722: 100%|██████████| 890/890 [00:08<00:00, 109.10it/s]\n",
      "Training Epoch 1723: 100%|██████████| 890/890 [00:07<00:00, 112.76it/s]\n",
      "Training Epoch 1724: 100%|██████████| 890/890 [00:08<00:00, 108.87it/s]\n",
      "Training Epoch 1725: 100%|██████████| 890/890 [00:07<00:00, 112.44it/s]\n",
      "Training Epoch 1726: 100%|██████████| 890/890 [00:08<00:00, 107.57it/s]\n",
      "Training Epoch 1727: 100%|██████████| 890/890 [00:07<00:00, 111.95it/s]\n",
      "Training Epoch 1728: 100%|██████████| 890/890 [00:08<00:00, 110.28it/s]\n",
      "Training Epoch 1729: 100%|██████████| 890/890 [00:08<00:00, 107.48it/s]\n",
      "Training Epoch 1730: 100%|██████████| 890/890 [00:07<00:00, 112.62it/s]\n",
      "Training Epoch 1731: 100%|██████████| 890/890 [00:08<00:00, 110.29it/s]\n"
     ]
    },
    {
     "name": "stdout",
     "output_type": "stream",
     "text": [
      "Epoch 1730 - Train Loss: 0.0325, Train MSE: 0.0326, Train MAE: 0.1325\n",
      "Epoch 1730 - Validation Loss: 0.9683, Validation MSE: 0.9699, Validation MAE: 0.7436\n"
     ]
    },
    {
     "name": "stderr",
     "output_type": "stream",
     "text": [
      "Training Epoch 1732: 100%|██████████| 890/890 [00:08<00:00, 109.40it/s]\n",
      "Training Epoch 1733: 100%|██████████| 890/890 [00:08<00:00, 108.29it/s]\n",
      "Training Epoch 1734: 100%|██████████| 890/890 [00:07<00:00, 116.02it/s]\n",
      "Training Epoch 1735: 100%|██████████| 890/890 [00:08<00:00, 109.23it/s]\n",
      "Training Epoch 1736: 100%|██████████| 890/890 [00:08<00:00, 104.50it/s]\n",
      "Training Epoch 1737: 100%|██████████| 890/890 [00:07<00:00, 112.97it/s]\n",
      "Training Epoch 1738: 100%|██████████| 890/890 [00:08<00:00, 108.43it/s]\n",
      "Training Epoch 1739: 100%|██████████| 890/890 [00:08<00:00, 110.61it/s]\n",
      "Training Epoch 1740: 100%|██████████| 890/890 [00:08<00:00, 108.12it/s]\n",
      "Training Epoch 1741: 100%|██████████| 890/890 [00:07<00:00, 111.77it/s]\n"
     ]
    },
    {
     "name": "stdout",
     "output_type": "stream",
     "text": [
      "Epoch 1740 - Train Loss: 0.0311, Train MSE: 0.0312, Train MAE: 0.1306\n",
      "Epoch 1740 - Validation Loss: 0.9832, Validation MSE: 0.9848, Validation MAE: 0.7486\n"
     ]
    },
    {
     "name": "stderr",
     "output_type": "stream",
     "text": [
      "Training Epoch 1742: 100%|██████████| 890/890 [00:08<00:00, 109.14it/s]\n",
      "Training Epoch 1743: 100%|██████████| 890/890 [00:08<00:00, 108.79it/s]\n",
      "Training Epoch 1744: 100%|██████████| 890/890 [00:07<00:00, 111.86it/s]\n",
      "Training Epoch 1745: 100%|██████████| 890/890 [00:07<00:00, 111.25it/s]\n",
      "Training Epoch 1746: 100%|██████████| 890/890 [00:08<00:00, 108.98it/s]\n",
      "Training Epoch 1747: 100%|██████████| 890/890 [00:08<00:00, 109.17it/s]\n",
      "Training Epoch 1748: 100%|██████████| 890/890 [00:07<00:00, 112.35it/s]\n",
      "Training Epoch 1749: 100%|██████████| 890/890 [00:08<00:00, 109.87it/s]\n",
      "Training Epoch 1750: 100%|██████████| 890/890 [00:08<00:00, 110.95it/s]\n",
      "Training Epoch 1751: 100%|██████████| 890/890 [00:07<00:00, 112.41it/s]\n"
     ]
    },
    {
     "name": "stdout",
     "output_type": "stream",
     "text": [
      "Epoch 1750 - Train Loss: 0.0312, Train MSE: 0.0312, Train MAE: 0.1304\n",
      "Epoch 1750 - Validation Loss: 0.9822, Validation MSE: 0.9843, Validation MAE: 0.7490\n"
     ]
    },
    {
     "name": "stderr",
     "output_type": "stream",
     "text": [
      "Training Epoch 1752: 100%|██████████| 890/890 [00:08<00:00, 108.46it/s]\n",
      "Training Epoch 1753: 100%|██████████| 890/890 [00:08<00:00, 108.81it/s]\n",
      "Training Epoch 1754: 100%|██████████| 890/890 [00:08<00:00, 108.15it/s]\n",
      "Training Epoch 1755: 100%|██████████| 890/890 [00:07<00:00, 112.73it/s]\n",
      "Training Epoch 1756: 100%|██████████| 890/890 [00:08<00:00, 110.05it/s]\n",
      "Training Epoch 1757: 100%|██████████| 890/890 [00:08<00:00, 108.52it/s]\n",
      "Training Epoch 1758: 100%|██████████| 890/890 [00:07<00:00, 114.25it/s]\n",
      "Training Epoch 1759: 100%|██████████| 890/890 [00:08<00:00, 107.23it/s]\n",
      "Training Epoch 1760: 100%|██████████| 890/890 [00:08<00:00, 108.72it/s]\n",
      "Training Epoch 1761: 100%|██████████| 890/890 [00:08<00:00, 110.34it/s]\n"
     ]
    },
    {
     "name": "stdout",
     "output_type": "stream",
     "text": [
      "Epoch 1760 - Train Loss: 0.0324, Train MSE: 0.0325, Train MAE: 0.1322\n",
      "Epoch 1760 - Validation Loss: 0.9672, Validation MSE: 0.9686, Validation MAE: 0.7412\n"
     ]
    },
    {
     "name": "stderr",
     "output_type": "stream",
     "text": [
      "Training Epoch 1762: 100%|██████████| 890/890 [00:08<00:00, 109.75it/s]\n",
      "Training Epoch 1763: 100%|██████████| 890/890 [00:08<00:00, 108.07it/s]\n",
      "Training Epoch 1764: 100%|██████████| 890/890 [00:08<00:00, 109.43it/s]\n",
      "Training Epoch 1765: 100%|██████████| 890/890 [00:07<00:00, 111.75it/s]\n",
      "Training Epoch 1766: 100%|██████████| 890/890 [00:08<00:00, 110.76it/s]\n",
      "Training Epoch 1767: 100%|██████████| 890/890 [00:08<00:00, 108.95it/s]\n",
      "Training Epoch 1768: 100%|██████████| 890/890 [00:08<00:00, 110.24it/s]\n",
      "Training Epoch 1769: 100%|██████████| 890/890 [00:08<00:00, 108.81it/s]\n",
      "Training Epoch 1770: 100%|██████████| 890/890 [00:08<00:00, 110.41it/s]\n",
      "Training Epoch 1771: 100%|██████████| 890/890 [00:08<00:00, 108.77it/s]\n"
     ]
    },
    {
     "name": "stdout",
     "output_type": "stream",
     "text": [
      "Epoch 1770 - Train Loss: 0.0318, Train MSE: 0.0318, Train MAE: 0.1302\n",
      "Epoch 1770 - Validation Loss: 0.9702, Validation MSE: 0.9721, Validation MAE: 0.7416\n"
     ]
    },
    {
     "name": "stderr",
     "output_type": "stream",
     "text": [
      "Training Epoch 1772: 100%|██████████| 890/890 [00:07<00:00, 113.04it/s]\n",
      "Training Epoch 1773: 100%|██████████| 890/890 [00:08<00:00, 110.51it/s]\n",
      "Training Epoch 1774: 100%|██████████| 890/890 [00:08<00:00, 109.01it/s]\n",
      "Training Epoch 1775: 100%|██████████| 890/890 [00:07<00:00, 112.49it/s]\n",
      "Training Epoch 1776: 100%|██████████| 890/890 [00:08<00:00, 109.17it/s]\n",
      "Training Epoch 1777: 100%|██████████| 890/890 [00:08<00:00, 109.98it/s]\n",
      "Training Epoch 1778: 100%|██████████| 890/890 [00:08<00:00, 109.19it/s]\n",
      "Training Epoch 1779: 100%|██████████| 890/890 [00:07<00:00, 112.31it/s]\n",
      "Training Epoch 1780: 100%|██████████| 890/890 [00:08<00:00, 107.66it/s]\n",
      "Training Epoch 1781: 100%|██████████| 890/890 [00:08<00:00, 107.09it/s]\n"
     ]
    },
    {
     "name": "stdout",
     "output_type": "stream",
     "text": [
      "Epoch 1780 - Train Loss: 0.0327, Train MSE: 0.0327, Train MAE: 0.1314\n",
      "Epoch 1780 - Validation Loss: 0.9660, Validation MSE: 0.9673, Validation MAE: 0.7409\n"
     ]
    },
    {
     "name": "stderr",
     "output_type": "stream",
     "text": [
      "Training Epoch 1782: 100%|██████████| 890/890 [00:07<00:00, 114.52it/s]\n",
      "Training Epoch 1783: 100%|██████████| 890/890 [00:08<00:00, 103.26it/s]\n",
      "Training Epoch 1784: 100%|██████████| 890/890 [04:36<00:00,  3.22it/s] \n",
      "Training Epoch 1785: 100%|██████████| 890/890 [00:08<00:00, 99.71it/s] \n",
      "Training Epoch 1786: 100%|██████████| 890/890 [00:08<00:00, 109.70it/s]\n",
      "Training Epoch 1787: 100%|██████████| 890/890 [00:08<00:00, 106.44it/s]\n",
      "Training Epoch 1788: 100%|██████████| 890/890 [00:08<00:00, 106.52it/s]\n",
      "Training Epoch 1789: 100%|██████████| 890/890 [00:07<00:00, 112.95it/s]\n",
      "Training Epoch 1790: 100%|██████████| 890/890 [00:08<00:00, 105.10it/s]\n",
      "Training Epoch 1791: 100%|██████████| 890/890 [00:08<00:00, 110.56it/s]\n"
     ]
    },
    {
     "name": "stdout",
     "output_type": "stream",
     "text": [
      "Epoch 1790 - Train Loss: 0.0304, Train MSE: 0.0304, Train MAE: 0.1292\n",
      "Epoch 1790 - Validation Loss: 0.9800, Validation MSE: 0.9816, Validation MAE: 0.7490\n"
     ]
    },
    {
     "name": "stderr",
     "output_type": "stream",
     "text": [
      "Training Epoch 1792: 100%|██████████| 890/890 [00:07<00:00, 111.88it/s]\n",
      "Training Epoch 1793: 100%|██████████| 890/890 [00:08<00:00, 110.31it/s]\n",
      "Training Epoch 1794: 100%|██████████| 890/890 [00:08<00:00, 109.84it/s]\n",
      "Training Epoch 1795: 100%|██████████| 890/890 [00:08<00:00, 109.35it/s]\n",
      "Training Epoch 1796: 100%|██████████| 890/890 [00:07<00:00, 113.22it/s]\n",
      "Training Epoch 1797: 100%|██████████| 890/890 [00:08<00:00, 109.92it/s]\n",
      "Training Epoch 1798: 100%|██████████| 890/890 [00:08<00:00, 108.47it/s]\n",
      "Training Epoch 1799: 100%|██████████| 890/890 [00:08<00:00, 108.90it/s]\n",
      "Training Epoch 1800: 100%|██████████| 890/890 [00:08<00:00, 109.03it/s]\n",
      "Training Epoch 1801: 100%|██████████| 890/890 [00:08<00:00, 108.76it/s]\n"
     ]
    },
    {
     "name": "stdout",
     "output_type": "stream",
     "text": [
      "Epoch 1800 - Train Loss: 0.0299, Train MSE: 0.0300, Train MAE: 0.1284\n",
      "Epoch 1800 - Validation Loss: 0.9932, Validation MSE: 0.9947, Validation MAE: 0.7527\n"
     ]
    },
    {
     "name": "stderr",
     "output_type": "stream",
     "text": [
      "Training Epoch 1802: 100%|██████████| 890/890 [00:08<00:00, 109.92it/s]\n",
      "Training Epoch 1803: 100%|██████████| 890/890 [00:07<00:00, 114.03it/s]\n",
      "Training Epoch 1804: 100%|██████████| 890/890 [00:08<00:00, 108.27it/s]\n",
      "Training Epoch 1805: 100%|██████████| 890/890 [00:08<00:00, 107.81it/s]\n",
      "Training Epoch 1806: 100%|██████████| 890/890 [00:07<00:00, 111.76it/s]\n",
      "Training Epoch 1807: 100%|██████████| 890/890 [00:08<00:00, 106.62it/s]\n",
      "Training Epoch 1808: 100%|██████████| 890/890 [00:08<00:00, 107.80it/s]\n",
      "Training Epoch 1809: 100%|██████████| 890/890 [00:08<00:00, 108.81it/s]\n",
      "Training Epoch 1810: 100%|██████████| 890/890 [00:07<00:00, 112.05it/s]\n",
      "Training Epoch 1811: 100%|██████████| 890/890 [00:08<00:00, 109.41it/s]\n"
     ]
    },
    {
     "name": "stdout",
     "output_type": "stream",
     "text": [
      "Epoch 1810 - Train Loss: 0.0313, Train MSE: 0.0312, Train MAE: 0.1296\n",
      "Epoch 1810 - Validation Loss: 0.9701, Validation MSE: 0.9720, Validation MAE: 0.7436\n"
     ]
    },
    {
     "name": "stderr",
     "output_type": "stream",
     "text": [
      "Training Epoch 1812: 100%|██████████| 890/890 [00:08<00:00, 109.07it/s]\n",
      "Training Epoch 1813: 100%|██████████| 890/890 [00:07<00:00, 113.99it/s]\n",
      "Training Epoch 1814: 100%|██████████| 890/890 [00:08<00:00, 107.43it/s]\n",
      "Training Epoch 1815: 100%|██████████| 890/890 [00:08<00:00, 107.90it/s]\n",
      "Training Epoch 1816: 100%|██████████| 890/890 [00:08<00:00, 107.70it/s]\n",
      "Training Epoch 1817: 100%|██████████| 890/890 [00:07<00:00, 114.03it/s]\n",
      "Training Epoch 1818: 100%|██████████| 890/890 [00:08<00:00, 108.44it/s]\n",
      "Training Epoch 1819: 100%|██████████| 890/890 [00:08<00:00, 110.46it/s]\n",
      "Training Epoch 1820: 100%|██████████| 890/890 [00:07<00:00, 113.40it/s]\n",
      "Training Epoch 1821: 100%|██████████| 890/890 [00:08<00:00, 109.11it/s]\n"
     ]
    },
    {
     "name": "stdout",
     "output_type": "stream",
     "text": [
      "Epoch 1820 - Train Loss: 0.0327, Train MSE: 0.0327, Train MAE: 0.1313\n",
      "Epoch 1820 - Validation Loss: 0.9774, Validation MSE: 0.9793, Validation MAE: 0.7450\n"
     ]
    },
    {
     "name": "stderr",
     "output_type": "stream",
     "text": [
      "Training Epoch 1822: 100%|██████████| 890/890 [00:08<00:00, 110.74it/s]\n",
      "Training Epoch 1823: 100%|██████████| 890/890 [00:08<00:00, 110.21it/s]\n",
      "Training Epoch 1824: 100%|██████████| 890/890 [00:07<00:00, 111.79it/s]\n",
      "Training Epoch 1825: 100%|██████████| 890/890 [00:08<00:00, 107.71it/s]\n",
      "Training Epoch 1826: 100%|██████████| 890/890 [00:08<00:00, 107.91it/s]\n",
      "Training Epoch 1827: 100%|██████████| 890/890 [00:07<00:00, 112.06it/s]\n",
      "Training Epoch 1828: 100%|██████████| 890/890 [00:08<00:00, 109.00it/s]\n",
      "Training Epoch 1829: 100%|██████████| 890/890 [00:08<00:00, 109.98it/s]\n",
      "Training Epoch 1830: 100%|██████████| 890/890 [00:07<00:00, 112.65it/s]\n",
      "Training Epoch 1831: 100%|██████████| 890/890 [00:08<00:00, 109.70it/s]\n"
     ]
    },
    {
     "name": "stdout",
     "output_type": "stream",
     "text": [
      "Epoch 1830 - Train Loss: 0.0319, Train MSE: 0.0319, Train MAE: 0.1305\n",
      "Epoch 1830 - Validation Loss: 0.9786, Validation MSE: 0.9808, Validation MAE: 0.7460\n"
     ]
    },
    {
     "name": "stderr",
     "output_type": "stream",
     "text": [
      "Training Epoch 1832: 100%|██████████| 890/890 [00:08<00:00, 110.43it/s]\n",
      "Training Epoch 1833: 100%|██████████| 890/890 [00:08<00:00, 109.45it/s]\n",
      "Training Epoch 1834: 100%|██████████| 890/890 [00:07<00:00, 114.35it/s]\n",
      "Training Epoch 1835: 100%|██████████| 890/890 [00:08<00:00, 110.36it/s]\n",
      "Training Epoch 1836: 100%|██████████| 890/890 [00:08<00:00, 110.79it/s]\n",
      "Training Epoch 1837: 100%|██████████| 890/890 [00:08<00:00, 108.98it/s]\n",
      "Training Epoch 1838: 100%|██████████| 890/890 [00:07<00:00, 114.55it/s]\n",
      "Training Epoch 1839: 100%|██████████| 890/890 [00:08<00:00, 110.99it/s]\n",
      "Training Epoch 1840: 100%|██████████| 890/890 [00:07<00:00, 111.98it/s]\n",
      "Training Epoch 1841: 100%|██████████| 890/890 [00:07<00:00, 111.37it/s]\n"
     ]
    },
    {
     "name": "stdout",
     "output_type": "stream",
     "text": [
      "Epoch 1840 - Train Loss: 0.0328, Train MSE: 0.0328, Train MAE: 0.1316\n",
      "Epoch 1840 - Validation Loss: 0.9845, Validation MSE: 0.9860, Validation MAE: 0.7492\n"
     ]
    },
    {
     "name": "stderr",
     "output_type": "stream",
     "text": [
      "Training Epoch 1842: 100%|██████████| 890/890 [00:08<00:00, 109.80it/s]\n",
      "Training Epoch 1843: 100%|██████████| 890/890 [00:08<00:00, 109.40it/s]\n",
      "Training Epoch 1844: 100%|██████████| 890/890 [00:08<00:00, 110.62it/s]\n",
      "Training Epoch 1845: 100%|██████████| 890/890 [00:07<00:00, 111.67it/s]\n",
      "Training Epoch 1846: 100%|██████████| 890/890 [00:08<00:00, 108.97it/s]\n",
      "Training Epoch 1847: 100%|██████████| 890/890 [00:08<00:00, 109.46it/s]\n",
      "Training Epoch 1848: 100%|██████████| 890/890 [00:07<00:00, 113.85it/s]\n",
      "Training Epoch 1849: 100%|██████████| 890/890 [00:07<00:00, 111.83it/s]\n",
      "Training Epoch 1850: 100%|██████████| 890/890 [00:08<00:00, 110.70it/s]\n",
      "Training Epoch 1851: 100%|██████████| 890/890 [00:08<00:00, 109.71it/s]\n"
     ]
    },
    {
     "name": "stdout",
     "output_type": "stream",
     "text": [
      "Epoch 1850 - Train Loss: 0.0316, Train MSE: 0.0316, Train MAE: 0.1291\n",
      "Epoch 1850 - Validation Loss: 0.9866, Validation MSE: 0.9884, Validation MAE: 0.7534\n"
     ]
    },
    {
     "name": "stderr",
     "output_type": "stream",
     "text": [
      "Training Epoch 1852: 100%|██████████| 890/890 [00:08<00:00, 109.29it/s]\n",
      "Training Epoch 1853: 100%|██████████| 890/890 [00:08<00:00, 109.73it/s]\n",
      "Training Epoch 1854: 100%|██████████| 890/890 [00:08<00:00, 109.20it/s]\n",
      "Training Epoch 1855: 100%|██████████| 890/890 [00:07<00:00, 113.00it/s]\n",
      "Training Epoch 1856: 100%|██████████| 890/890 [00:08<00:00, 108.92it/s]\n",
      "Training Epoch 1857: 100%|██████████| 890/890 [00:08<00:00, 109.77it/s]\n",
      "Training Epoch 1858: 100%|██████████| 890/890 [00:07<00:00, 113.88it/s]\n",
      "Training Epoch 1859: 100%|██████████| 890/890 [00:08<00:00, 110.90it/s]\n",
      "Training Epoch 1860: 100%|██████████| 890/890 [00:08<00:00, 107.78it/s]\n",
      "Training Epoch 1861: 100%|██████████| 890/890 [00:08<00:00, 107.69it/s]\n"
     ]
    },
    {
     "name": "stdout",
     "output_type": "stream",
     "text": [
      "Epoch 1860 - Train Loss: 0.0326, Train MSE: 0.0326, Train MAE: 0.1313\n",
      "Epoch 1860 - Validation Loss: 0.9823, Validation MSE: 0.9837, Validation MAE: 0.7487\n"
     ]
    },
    {
     "name": "stderr",
     "output_type": "stream",
     "text": [
      "Training Epoch 1862: 100%|██████████| 890/890 [00:07<00:00, 114.58it/s]\n",
      "Training Epoch 1863: 100%|██████████| 890/890 [00:08<00:00, 111.08it/s]\n",
      "Training Epoch 1864: 100%|██████████| 890/890 [00:08<00:00, 108.43it/s]\n",
      "Training Epoch 1865: 100%|██████████| 890/890 [00:08<00:00, 111.20it/s]\n",
      "Training Epoch 1866: 100%|██████████| 890/890 [00:08<00:00, 108.89it/s]\n",
      "Training Epoch 1867: 100%|██████████| 890/890 [00:08<00:00, 108.76it/s]\n",
      "Training Epoch 1868: 100%|██████████| 890/890 [00:08<00:00, 108.06it/s]\n",
      "Training Epoch 1869: 100%|██████████| 890/890 [00:07<00:00, 113.36it/s]\n",
      "Training Epoch 1870: 100%|██████████| 890/890 [00:08<00:00, 111.03it/s]\n",
      "Training Epoch 1871: 100%|██████████| 890/890 [00:08<00:00, 109.12it/s]\n"
     ]
    },
    {
     "name": "stdout",
     "output_type": "stream",
     "text": [
      "Epoch 1870 - Train Loss: 0.0316, Train MSE: 0.0316, Train MAE: 0.1299\n",
      "Epoch 1870 - Validation Loss: 0.9942, Validation MSE: 0.9955, Validation MAE: 0.7527\n"
     ]
    },
    {
     "name": "stderr",
     "output_type": "stream",
     "text": [
      "Training Epoch 1872: 100%|██████████| 890/890 [00:07<00:00, 114.33it/s]\n",
      "Training Epoch 1873: 100%|██████████| 890/890 [00:08<00:00, 108.67it/s]\n",
      "Training Epoch 1874: 100%|██████████| 890/890 [00:08<00:00, 108.40it/s]\n",
      "Training Epoch 1875: 100%|██████████| 890/890 [00:08<00:00, 107.51it/s]\n",
      "Training Epoch 1876: 100%|██████████| 890/890 [00:07<00:00, 112.35it/s]\n",
      "Training Epoch 1877: 100%|██████████| 890/890 [00:08<00:00, 110.20it/s]\n",
      "Training Epoch 1878: 100%|██████████| 890/890 [00:07<00:00, 111.40it/s]\n",
      "Training Epoch 1879: 100%|██████████| 890/890 [00:07<00:00, 111.89it/s]\n",
      "Training Epoch 1880: 100%|██████████| 890/890 [00:08<00:00, 109.43it/s]\n",
      "Training Epoch 1881: 100%|██████████| 890/890 [00:08<00:00, 110.64it/s]\n"
     ]
    },
    {
     "name": "stdout",
     "output_type": "stream",
     "text": [
      "Epoch 1880 - Train Loss: 0.0307, Train MSE: 0.0307, Train MAE: 0.1292\n",
      "Epoch 1880 - Validation Loss: 0.9732, Validation MSE: 0.9743, Validation MAE: 0.7475\n"
     ]
    },
    {
     "name": "stderr",
     "output_type": "stream",
     "text": [
      "Training Epoch 1882: 100%|██████████| 890/890 [00:08<00:00, 110.61it/s]\n",
      "Training Epoch 1883: 100%|██████████| 890/890 [00:07<00:00, 116.70it/s]\n",
      "Training Epoch 1884: 100%|██████████| 890/890 [00:08<00:00, 101.49it/s]\n",
      "Training Epoch 1885: 100%|██████████| 890/890 [00:08<00:00, 108.40it/s]\n",
      "Training Epoch 1886: 100%|██████████| 890/890 [00:07<00:00, 112.42it/s]\n",
      "Training Epoch 1887: 100%|██████████| 890/890 [00:08<00:00, 109.22it/s]\n",
      "Training Epoch 1888: 100%|██████████| 890/890 [00:08<00:00, 109.90it/s]\n",
      "Training Epoch 1889: 100%|██████████| 890/890 [00:08<00:00, 109.68it/s]\n",
      "Training Epoch 1890: 100%|██████████| 890/890 [00:08<00:00, 110.95it/s]\n",
      "Training Epoch 1891: 100%|██████████| 890/890 [00:08<00:00, 109.13it/s]\n"
     ]
    },
    {
     "name": "stdout",
     "output_type": "stream",
     "text": [
      "Epoch 1890 - Train Loss: 0.0346, Train MSE: 0.0347, Train MAE: 0.1342\n",
      "Epoch 1890 - Validation Loss: 0.9873, Validation MSE: 0.9891, Validation MAE: 0.7501\n"
     ]
    },
    {
     "name": "stderr",
     "output_type": "stream",
     "text": [
      "Training Epoch 1892: 100%|██████████| 890/890 [00:08<00:00, 108.55it/s]\n",
      "Training Epoch 1893: 100%|██████████| 890/890 [00:07<00:00, 112.48it/s]\n",
      "Training Epoch 1894: 100%|██████████| 890/890 [00:08<00:00, 110.85it/s]\n",
      "Training Epoch 1895: 100%|██████████| 890/890 [00:08<00:00, 109.08it/s]\n",
      "Training Epoch 1896: 100%|██████████| 890/890 [00:08<00:00, 110.54it/s]\n",
      "Training Epoch 1897: 100%|██████████| 890/890 [00:08<00:00, 110.90it/s]\n",
      "Training Epoch 1898: 100%|██████████| 890/890 [00:08<00:00, 109.75it/s]\n",
      "Training Epoch 1899: 100%|██████████| 890/890 [00:08<00:00, 108.96it/s]\n",
      "Training Epoch 1900: 100%|██████████| 890/890 [00:07<00:00, 111.84it/s]\n",
      "Training Epoch 1901: 100%|██████████| 890/890 [00:07<00:00, 113.00it/s]\n"
     ]
    },
    {
     "name": "stdout",
     "output_type": "stream",
     "text": [
      "Epoch 1900 - Train Loss: 0.0310, Train MSE: 0.0311, Train MAE: 0.1293\n",
      "Epoch 1900 - Validation Loss: 0.9652, Validation MSE: 0.9670, Validation MAE: 0.7431\n"
     ]
    },
    {
     "name": "stderr",
     "output_type": "stream",
     "text": [
      "Training Epoch 1902: 100%|██████████| 890/890 [00:07<00:00, 111.54it/s]\n",
      "Training Epoch 1903: 100%|██████████| 890/890 [07:39<00:00,  1.94it/s]  \n",
      "Training Epoch 1904: 100%|██████████| 890/890 [09:09<00:00,  1.62it/s]  \n",
      "Training Epoch 1905: 100%|██████████| 890/890 [04:23<00:00,  3.38it/s] \n",
      "Training Epoch 1906: 100%|██████████| 890/890 [00:09<00:00, 90.60it/s] \n",
      "Training Epoch 1907: 100%|██████████| 890/890 [00:07<00:00, 111.75it/s]\n",
      "Training Epoch 1908: 100%|██████████| 890/890 [00:08<00:00, 111.15it/s]\n",
      "Training Epoch 1909: 100%|██████████| 890/890 [00:07<00:00, 111.33it/s]\n",
      "Training Epoch 1910: 100%|██████████| 890/890 [00:07<00:00, 112.58it/s]\n",
      "Training Epoch 1911: 100%|██████████| 890/890 [00:07<00:00, 112.80it/s]\n"
     ]
    },
    {
     "name": "stdout",
     "output_type": "stream",
     "text": [
      "Epoch 1910 - Train Loss: 0.0341, Train MSE: 0.0308, Train MAE: 0.1294\n",
      "Epoch 1910 - Validation Loss: 0.9779, Validation MSE: 0.9796, Validation MAE: 0.7462\n"
     ]
    },
    {
     "name": "stderr",
     "output_type": "stream",
     "text": [
      "Training Epoch 1912: 100%|██████████| 890/890 [00:08<00:00, 111.12it/s]\n",
      "Training Epoch 1913: 100%|██████████| 890/890 [00:08<00:00, 107.67it/s]\n",
      "Training Epoch 1914: 100%|██████████| 890/890 [00:08<00:00, 110.66it/s]\n",
      "Training Epoch 1915: 100%|██████████| 890/890 [00:08<00:00, 109.94it/s]\n",
      "Training Epoch 1916: 100%|██████████| 890/890 [00:08<00:00, 109.61it/s]\n",
      "Training Epoch 1917: 100%|██████████| 890/890 [00:07<00:00, 112.89it/s]\n",
      "Training Epoch 1918: 100%|██████████| 890/890 [00:07<00:00, 115.06it/s]\n",
      "Training Epoch 1919: 100%|██████████| 890/890 [00:07<00:00, 112.37it/s]\n",
      "Training Epoch 1920: 100%|██████████| 890/890 [00:07<00:00, 112.04it/s]\n",
      "Training Epoch 1921: 100%|██████████| 890/890 [00:07<00:00, 114.21it/s]\n"
     ]
    },
    {
     "name": "stdout",
     "output_type": "stream",
     "text": [
      "Epoch 1920 - Train Loss: 0.0313, Train MSE: 0.0311, Train MAE: 0.1290\n",
      "Epoch 1920 - Validation Loss: 0.9929, Validation MSE: 0.9948, Validation MAE: 0.7523\n"
     ]
    },
    {
     "name": "stderr",
     "output_type": "stream",
     "text": [
      "Training Epoch 1922: 100%|██████████| 890/890 [00:07<00:00, 112.88it/s]\n",
      "Training Epoch 1923: 100%|██████████| 890/890 [00:07<00:00, 113.23it/s]\n",
      "Training Epoch 1924: 100%|██████████| 890/890 [00:07<00:00, 112.42it/s]\n",
      "Training Epoch 1925: 100%|██████████| 890/890 [00:08<00:00, 109.96it/s]\n",
      "Training Epoch 1926: 100%|██████████| 890/890 [00:07<00:00, 112.63it/s]\n",
      "Training Epoch 1927: 100%|██████████| 890/890 [00:07<00:00, 111.78it/s]\n",
      "Training Epoch 1928: 100%|██████████| 890/890 [00:07<00:00, 115.44it/s]\n",
      "Training Epoch 1929: 100%|██████████| 890/890 [00:07<00:00, 116.24it/s]\n",
      "Training Epoch 1930: 100%|██████████| 890/890 [00:07<00:00, 112.72it/s]\n",
      "Training Epoch 1931: 100%|██████████| 890/890 [00:07<00:00, 113.21it/s]\n"
     ]
    },
    {
     "name": "stdout",
     "output_type": "stream",
     "text": [
      "Epoch 1930 - Train Loss: 0.0307, Train MSE: 0.0306, Train MAE: 0.1279\n",
      "Epoch 1930 - Validation Loss: 0.9753, Validation MSE: 0.9776, Validation MAE: 0.7450\n"
     ]
    },
    {
     "name": "stderr",
     "output_type": "stream",
     "text": [
      "Training Epoch 1932: 100%|██████████| 890/890 [00:07<00:00, 112.68it/s]\n",
      "Training Epoch 1933: 100%|██████████| 890/890 [00:07<00:00, 114.85it/s]\n",
      "Training Epoch 1934: 100%|██████████| 890/890 [00:08<00:00, 111.11it/s]\n",
      "Training Epoch 1935: 100%|██████████| 890/890 [00:08<00:00, 107.95it/s]\n",
      "Training Epoch 1936: 100%|██████████| 890/890 [05:27<00:00,  2.72it/s]  \n",
      "Training Epoch 1937: 100%|██████████| 890/890 [00:19<00:00, 46.65it/s] \n",
      "Training Epoch 1938: 100%|██████████| 890/890 [00:08<00:00, 102.32it/s]\n",
      "Training Epoch 1939: 100%|██████████| 890/890 [00:08<00:00, 107.21it/s]\n",
      "Training Epoch 1940: 100%|██████████| 890/890 [00:08<00:00, 107.08it/s]\n",
      "Training Epoch 1941: 100%|██████████| 890/890 [00:08<00:00, 110.15it/s]\n"
     ]
    },
    {
     "name": "stdout",
     "output_type": "stream",
     "text": [
      "Epoch 1940 - Train Loss: 0.0304, Train MSE: 0.0304, Train MAE: 0.1278\n",
      "Epoch 1940 - Validation Loss: 0.9824, Validation MSE: 0.9842, Validation MAE: 0.7476\n"
     ]
    },
    {
     "name": "stderr",
     "output_type": "stream",
     "text": [
      "Training Epoch 1942: 100%|██████████| 890/890 [00:07<00:00, 111.61it/s]\n",
      "Training Epoch 1943: 100%|██████████| 890/890 [00:08<00:00, 105.01it/s]\n",
      "Training Epoch 1944: 100%|██████████| 890/890 [00:08<00:00, 106.36it/s]\n",
      "Training Epoch 1945: 100%|██████████| 890/890 [00:07<00:00, 113.32it/s]\n",
      "Training Epoch 1946: 100%|██████████| 890/890 [00:07<00:00, 112.22it/s]\n",
      "Training Epoch 1947: 100%|██████████| 890/890 [00:08<00:00, 108.09it/s]\n",
      "Training Epoch 1948: 100%|██████████| 890/890 [00:08<00:00, 110.41it/s]\n",
      "Training Epoch 1949: 100%|██████████| 890/890 [00:07<00:00, 112.38it/s]\n",
      "Training Epoch 1950: 100%|██████████| 890/890 [00:07<00:00, 112.57it/s]\n",
      "Training Epoch 1951: 100%|██████████| 890/890 [00:07<00:00, 112.40it/s]\n"
     ]
    },
    {
     "name": "stdout",
     "output_type": "stream",
     "text": [
      "Epoch 1950 - Train Loss: 0.0308, Train MSE: 0.0308, Train MAE: 0.1284\n",
      "Epoch 1950 - Validation Loss: 0.9938, Validation MSE: 0.9944, Validation MAE: 0.7521\n"
     ]
    },
    {
     "name": "stderr",
     "output_type": "stream",
     "text": [
      "Training Epoch 1952: 100%|██████████| 890/890 [00:08<00:00, 110.16it/s]\n",
      "Training Epoch 1953: 100%|██████████| 890/890 [00:07<00:00, 114.70it/s]\n",
      "Training Epoch 1954: 100%|██████████| 890/890 [00:08<00:00, 108.64it/s]\n",
      "Training Epoch 1955: 100%|██████████| 890/890 [00:08<00:00, 107.80it/s]\n",
      "Training Epoch 1956: 100%|██████████| 890/890 [00:07<00:00, 112.19it/s]\n",
      "Training Epoch 1957: 100%|██████████| 890/890 [00:08<00:00, 108.12it/s]\n",
      "Training Epoch 1958: 100%|██████████| 890/890 [00:08<00:00, 104.40it/s]\n",
      "Training Epoch 1959: 100%|██████████| 890/890 [00:08<00:00, 110.89it/s]\n",
      "Training Epoch 1960: 100%|██████████| 890/890 [00:07<00:00, 112.58it/s]\n",
      "Training Epoch 1961: 100%|██████████| 890/890 [00:08<00:00, 107.89it/s]\n"
     ]
    },
    {
     "name": "stdout",
     "output_type": "stream",
     "text": [
      "Epoch 1960 - Train Loss: 0.0297, Train MSE: 0.0298, Train MAE: 0.1268\n",
      "Epoch 1960 - Validation Loss: 0.9851, Validation MSE: 0.9867, Validation MAE: 0.7471\n"
     ]
    },
    {
     "name": "stderr",
     "output_type": "stream",
     "text": [
      "Training Epoch 1962: 100%|██████████| 890/890 [00:08<00:00, 110.91it/s]\n",
      "Training Epoch 1963: 100%|██████████| 890/890 [00:07<00:00, 113.48it/s]\n",
      "Training Epoch 1964: 100%|██████████| 890/890 [00:07<00:00, 111.57it/s]\n",
      "Training Epoch 1965: 100%|██████████| 890/890 [00:07<00:00, 111.77it/s]\n",
      "Training Epoch 1966: 100%|██████████| 890/890 [00:08<00:00, 111.07it/s]\n",
      "Training Epoch 1967: 100%|██████████| 890/890 [00:07<00:00, 114.70it/s]\n",
      "Training Epoch 1968: 100%|██████████| 890/890 [00:08<00:00, 109.79it/s]\n",
      "Training Epoch 1969: 100%|██████████| 890/890 [00:07<00:00, 113.25it/s]\n",
      "Training Epoch 1970: 100%|██████████| 890/890 [00:07<00:00, 114.61it/s]\n",
      "Training Epoch 1971: 100%|██████████| 890/890 [00:07<00:00, 114.30it/s]\n"
     ]
    },
    {
     "name": "stdout",
     "output_type": "stream",
     "text": [
      "Epoch 1970 - Train Loss: 0.0299, Train MSE: 0.0299, Train MAE: 0.1269\n",
      "Epoch 1970 - Validation Loss: 0.9779, Validation MSE: 0.9801, Validation MAE: 0.7459\n"
     ]
    },
    {
     "name": "stderr",
     "output_type": "stream",
     "text": [
      "Training Epoch 1972: 100%|██████████| 890/890 [00:08<00:00, 110.92it/s]\n",
      "Training Epoch 1973: 100%|██████████| 890/890 [00:08<00:00, 109.49it/s]\n",
      "Training Epoch 1974: 100%|██████████| 890/890 [00:07<00:00, 115.63it/s]\n",
      "Training Epoch 1975: 100%|██████████| 890/890 [00:08<00:00, 110.10it/s]\n",
      "Training Epoch 1976: 100%|██████████| 890/890 [00:08<00:00, 110.40it/s]\n",
      "Training Epoch 1977: 100%|██████████| 890/890 [00:08<00:00, 110.88it/s]\n",
      "Training Epoch 1978: 100%|██████████| 890/890 [00:07<00:00, 114.59it/s]\n",
      "Training Epoch 1979: 100%|██████████| 890/890 [00:07<00:00, 113.05it/s]\n",
      "Training Epoch 1980: 100%|██████████| 890/890 [00:08<00:00, 107.80it/s]\n",
      "Training Epoch 1981: 100%|██████████| 890/890 [00:08<00:00, 106.26it/s]\n"
     ]
    },
    {
     "name": "stdout",
     "output_type": "stream",
     "text": [
      "Epoch 1980 - Train Loss: 0.0290, Train MSE: 0.0290, Train MAE: 0.1254\n",
      "Epoch 1980 - Validation Loss: 0.9770, Validation MSE: 0.9796, Validation MAE: 0.7444\n"
     ]
    },
    {
     "name": "stderr",
     "output_type": "stream",
     "text": [
      "Training Epoch 1982: 100%|██████████| 890/890 [00:08<00:00, 110.84it/s]\n",
      "Training Epoch 1983: 100%|██████████| 890/890 [00:07<00:00, 112.46it/s]\n",
      "Training Epoch 1984: 100%|██████████| 890/890 [00:07<00:00, 114.79it/s]\n",
      "Training Epoch 1985: 100%|██████████| 890/890 [00:07<00:00, 115.63it/s]\n",
      "Training Epoch 1986: 100%|██████████| 890/890 [00:08<00:00, 109.64it/s]\n",
      "Training Epoch 1987: 100%|██████████| 890/890 [00:07<00:00, 111.94it/s]\n",
      "Training Epoch 1988: 100%|██████████| 890/890 [00:07<00:00, 113.15it/s]\n",
      "Training Epoch 1989: 100%|██████████| 890/890 [00:08<00:00, 108.90it/s]\n",
      "Training Epoch 1990: 100%|██████████| 890/890 [00:07<00:00, 112.52it/s]\n",
      "Training Epoch 1991: 100%|██████████| 890/890 [00:07<00:00, 113.27it/s]\n"
     ]
    },
    {
     "name": "stdout",
     "output_type": "stream",
     "text": [
      "Epoch 1990 - Train Loss: 0.0290, Train MSE: 0.0290, Train MAE: 0.1257\n",
      "Epoch 1990 - Validation Loss: 0.9672, Validation MSE: 0.9695, Validation MAE: 0.7455\n"
     ]
    },
    {
     "name": "stderr",
     "output_type": "stream",
     "text": [
      "Training Epoch 1992: 100%|██████████| 890/890 [00:07<00:00, 116.07it/s]\n",
      "Training Epoch 1993: 100%|██████████| 890/890 [00:07<00:00, 113.46it/s]\n",
      "Training Epoch 1994: 100%|██████████| 890/890 [00:08<00:00, 110.82it/s]\n",
      "Training Epoch 1995: 100%|██████████| 890/890 [00:08<00:00, 109.88it/s]\n",
      "Training Epoch 1996: 100%|██████████| 890/890 [00:07<00:00, 111.67it/s]\n",
      "Training Epoch 1997: 100%|██████████| 890/890 [00:08<00:00, 107.74it/s]\n",
      "Training Epoch 1998: 100%|██████████| 890/890 [00:08<00:00, 110.48it/s]\n",
      "Training Epoch 1999: 100%|██████████| 890/890 [00:07<00:00, 113.84it/s]\n",
      "Training Epoch 2000: 100%|██████████| 890/890 [00:08<00:00, 109.01it/s]\n"
     ]
    },
    {
     "name": "stdout",
     "output_type": "stream",
     "text": [
      "Test MSE: 1.0005, Test MAE: 0.7490\n"
     ]
    }
   ],
   "source": [
    "import torch\n",
    "import torch.nn as nn\n",
    "import torch.optim as optim\n",
    "from tqdm import tqdm\n",
    "import pandas as pd\n",
    "from sklearn.metrics import r2_score, median_absolute_error, explained_variance_score\n",
    "from scipy.stats import pearsonr\n",
    "\n",
    "\n",
    "train_history = pd.DataFrame(columns=[  'epoch',\n",
    "    'Train Loss', 'Train MSE', 'Train MAE', 'Train RMSE', 'Train R2', 'Train Pearson', 'Train Median_AE', 'Train Explained_VAR'\n",
    "    'Val Loss', 'Val MSE', 'Val MAE', 'Val RMSE', 'Val R2', 'Val Pearson', 'Val Median_AE', 'Val Explained_VAR'])\n",
    "# Verify feature dimensions\n",
    "for batch in train_loader:\n",
    "    mol_input_dim = batch['metabolite_features'].shape[1]  # Dynamically determine mol input dimension\n",
    "    protein_input_dim = batch['protein_features'].shape[1]  # Dynamically determine protein input dimension\n",
    "    break\n",
    "\n",
    "# Initialize model, optimizer, and loss function\n",
    "model = TransformerRegressor(mol_input_dim=mol_input_dim, protein_input_dim=protein_input_dim)\n",
    "model = model.to(device)\n",
    "optimizer = optim.Adam(model.parameters(), lr=0.0001)\n",
    "criterion = nn.MSELoss()\n",
    "\n",
    "# Training and Validation Loop\n",
    "for epoch in range(2000):\n",
    "    model.train()\n",
    "    total_loss = 0.0\n",
    "    val_total_loss = 0.0\n",
    "    train_predictions, train_labels = [], []\n",
    "\n",
    "    for batch in tqdm(train_loader, desc=f\"Training Epoch {epoch + 1}\"):\n",
    "        mol_features = batch['metabolite_features'].to(device)\n",
    "        protein_features = batch['protein_features'].to(device)\n",
    "        labels = batch['label'].to(device)\n",
    "\n",
    "        optimizer.zero_grad()\n",
    "        outputs = model(mol_features, protein_features)\n",
    "        loss = criterion(outputs, labels)\n",
    "        loss.backward()\n",
    "        optimizer.step()\n",
    "        total_loss += loss.item()\n",
    "\n",
    "        # Store predictions and labels for metrics\n",
    "        train_predictions.extend(outputs.detach().cpu().numpy())\n",
    "        train_labels.extend(labels.cpu().numpy())\n",
    "\n",
    "    # Calculate training metrics\n",
    "    train_mse = ((torch.tensor(train_predictions) - torch.tensor(train_labels))**2).mean().item()\n",
    "    train_mae = torch.abs(torch.tensor(train_predictions) - torch.tensor(train_labels)).mean().item()\n",
    "    train_rmse = torch.sqrt((torch.tensor(train_predictions) - torch.tensor(train_labels)) ** 2).mean().item()\n",
    "    train_r2 = r2_score(np.array(train_labels), np.array(train_predictions))\n",
    "    train_pearson_corr, _ = pearsonr(np.array(train_labels), np.array(train_predictions))\n",
    "    train_median_ae = median_absolute_error(np.array(train_labels), np.array(train_predictions))\n",
    "    train_explained_var = explained_variance_score(np.array(train_labels), np.array(train_predictions))\n",
    "\n",
    "\n",
    "\n",
    "    if epoch % 10 == 0:\n",
    "        print(f\"Epoch {epoch} - Train Loss: {total_loss / len(train_loader):.4f}, Train MSE: {train_mse:.4f}, Train MAE: {train_mae:.4f}\")\n",
    "\n",
    "    # Validation\n",
    "    model.eval()\n",
    "    val_predictions, val_labels = [], []\n",
    "    with torch.no_grad():\n",
    "        for batch in val_loader:\n",
    "            mol_features = batch['metabolite_features'].to(device)\n",
    "            protein_features = batch['protein_features'].to(device)\n",
    "            labels = batch['label'].to(device)\n",
    "\n",
    "            outputs = model(mol_features, protein_features)\n",
    "            val_predictions.extend(outputs.cpu().numpy())\n",
    "            val_labels.extend(labels.cpu().numpy())\n",
    "            val_loss = criterion(outputs, labels)\n",
    "            val_total_loss += val_loss.item()\n",
    "\n",
    "    val_mse = ((torch.tensor(val_predictions) - torch.tensor(val_labels))**2).mean().item()\n",
    "    val_mae = torch.abs(torch.tensor(val_predictions) - torch.tensor(val_labels)).mean().item()\n",
    "    val_rmse = torch.sqrt((torch.tensor(val_predictions) - torch.tensor(val_labels)) ** 2).mean().item()\n",
    "    val_r2 = r2_score(np.array(val_labels), np.array(val_predictions))\n",
    "    val_pearson_corr, _ = pearsonr(np.array(val_labels), np.array(val_predictions))\n",
    "    val_median_ae = median_absolute_error(np.array(val_labels), np.array(val_predictions))\n",
    "    val_explained_var = explained_variance_score(np.array(val_labels), np.array(val_predictions))\n",
    "\n",
    "    if epoch % 10 == 0:\n",
    "        print(f\"Epoch {epoch} - Validation Loss: {val_total_loss / len(val_loader):.4f}, Validation MSE: {val_mse:.4f}, Validation MAE: {val_mae:.4f}\")\n",
    "\n",
    "    # Save metrics to DataFrame\n",
    "    new_row = {'epoch': epoch + 1, 'Train Loss': total_loss / len(train_loader), 'Train MSE': train_mse, 'Train MAE': train_mae, 'Train RMSE': train_rmse, 'Train R2': train_r2, 'Train Pearson': train_pearson_corr, 'Train Median_AE': train_median_ae, 'Train Explained_VAR': train_explained_var, \n",
    "               'Val Loss': val_total_loss / len(val_loader), 'Val MSE': val_mse, 'Val MAE': val_mae, 'Val RMSE': val_rmse, 'Val R2': val_r2, 'Val Pearson': val_pearson_corr, 'Val Median_AE': val_median_ae, 'Val Explained_VAR': val_explained_var}\n",
    "    train_history = pd.concat([train_history, pd.DataFrame([new_row])], ignore_index=True)\n",
    "\n",
    "\n"
   ]
  },
  {
   "cell_type": "code",
   "execution_count": 9,
   "metadata": {},
   "outputs": [],
   "source": [
    "for batch in train_loader:\n",
    "    mol_input_dim = batch['metabolite_features'].shape[1]  # Dynamically determine mol input dimension\n",
    "    protein_input_dim = batch['protein_features'].shape[1]  # Dynamically determine protein input dimension\n",
    "    break\n",
    "\n",
    "model = TransformerRegressor(mol_input_dim=mol_input_dim, protein_input_dim=protein_input_dim)\n",
    "model.load_state_dict(torch.load('/Users/pinchichen/2025S lab/AI drug project/Catpred/Km/trained_model/cold_protein/Transformer model_Catpred_Km_cold_protein.pt'))\n",
    "model = model.to(device)"
   ]
  },
  {
   "cell_type": "code",
   "execution_count": 10,
   "metadata": {},
   "outputs": [
    {
     "name": "stdout",
     "output_type": "stream",
     "text": [
      "Test MSE: 0.3258, Test RMSE: 0.570819264, Test MAE: 0.3125, Test R2: 0.7953, Test Pearson Correlation: 0.9019, Test Median AE: 0.1340, Test Explained Variance: 0.7954\n"
     ]
    }
   ],
   "source": [
    "from sklearn.metrics import mean_squared_error,mean_absolute_error,r2_score, median_absolute_error, explained_variance_score\n",
    "from scipy.stats import pearsonr\n",
    "# Test Metrics\n",
    "model.eval()\n",
    "test_predictions, test_labels = [], []\n",
    "with torch.no_grad():\n",
    "    for batch in test_loader_mols:\n",
    "        mol_features = batch['metabolite_features'].to(device)\n",
    "        protein_features = batch['protein_features'].to(device)\n",
    "        labels = batch['label'].to(device)\n",
    "\n",
    "        outputs = model(mol_features, protein_features)\n",
    "        test_predictions.extend(outputs.cpu().numpy())\n",
    "        test_labels.extend(labels.cpu().numpy())\n",
    "\n",
    "test_mse = ((torch.tensor(test_predictions) - torch.tensor(test_labels))**2).mean().item()\n",
    "test_mae = torch.abs(torch.tensor(test_predictions) - torch.tensor(test_labels)).mean().item()\n",
    "test_rmse = np.sqrt(test_mse)\n",
    "test_r2 = r2_score(np.array(test_labels), np.array(test_predictions))\n",
    "test_pearson_corr, _ = pearsonr(np.array(test_labels), np.array(test_predictions))\n",
    "test_median_ae = median_absolute_error(np.array(test_labels), np.array(test_predictions))\n",
    "test_explained_var = explained_variance_score(np.array(test_labels), np.array(test_predictions))\n",
    "\n",
    "print(f\"Test MSE: {test_mse:.4f}, Test RMSE: {test_rmse:.9f}, Test MAE: {test_mae:.4f}, Test R2: {test_r2:.4f}, Test Pearson Correlation: {test_pearson_corr:.4f}, Test Median AE: {test_median_ae:.4f}, Test Explained Variance: {test_explained_var:.4f}\")"
   ]
  },
  {
   "cell_type": "code",
   "execution_count": 12,
   "metadata": {},
   "outputs": [],
   "source": [
    "\n",
    "def evaluate_model(predictions, labels):\n",
    "    mse = mean_squared_error(labels, predictions)\n",
    "    rmse = np.sqrt(mse)\n",
    "    mae = mean_absolute_error(labels, predictions)\n",
    "    r2 = r2_score(labels, predictions)\n",
    "    pearson_corr, _ = pearsonr(labels, predictions)\n",
    "    medae = median_absolute_error(labels, predictions)\n",
    "    evs = explained_variance_score(labels, predictions)\n",
    "\n",
    "    return mse, rmse, mae, r2, pearson_corr, medae, evs"
   ]
  },
  {
   "cell_type": "code",
   "execution_count": 13,
   "metadata": {},
   "outputs": [],
   "source": [
    "model.eval()\n",
    "train_pred, train_labels = [], []\n",
    "with torch.no_grad():\n",
    "    for batch in train_loader_mols:\n",
    "        mol_features = batch['metabolite_features'].to(device)\n",
    "        protein_features = batch['protein_features'].to(device)\n",
    "        labels = batch['label'].to(device)\n",
    "\n",
    "        outputs = model(mol_features, protein_features)\n",
    "        train_pred.extend(outputs.cpu().numpy())\n",
    "        train_labels.extend(labels.cpu().numpy())\n",
    "\n",
    "train_mse, train_rmse, train_mae, train_r2, train_pearson_corr, train_median_ae, train_explained_var = evaluate_model(train_pred, train_labels)"
   ]
  },
  {
   "cell_type": "code",
   "execution_count": 14,
   "metadata": {},
   "outputs": [],
   "source": [
    "model.eval()\n",
    "val_pred, val_labels = [], []\n",
    "with torch.no_grad():\n",
    "    for batch in val_loader_mols:\n",
    "        mol_features = batch['metabolite_features'].to(device)\n",
    "        protein_features = batch['protein_features'].to(device)\n",
    "        labels = batch['label'].to(device)\n",
    "\n",
    "        outputs = model(mol_features, protein_features)\n",
    "        val_pred.extend(outputs.cpu().numpy())\n",
    "        val_labels.extend(labels.cpu().numpy())\n",
    "\n",
    "val_mse, val_rmse, val_mae, val_r2, val_pearson_corr, val_median_ae, val_explained_var = evaluate_model(val_pred, val_labels)\n"
   ]
  },
  {
   "cell_type": "code",
   "execution_count": 16,
   "metadata": {},
   "outputs": [],
   "source": [
    "# append the performance to the csv file\n",
    "df = {\n",
    "    'Model':['Transformer','Transformer','Transformer'],\n",
    "    'Dataset':['Train','Validation','Test'],\n",
    "    'MSE':[train_mse,val_mse,test_mse],\n",
    "    'RMSE':[train_rmse,val_rmse,test_rmse],\n",
    "    'MAE':[train_mae,val_mae,test_mae],\n",
    "    'R2':[train_r2,val_r2,test_r2],\n",
    "    'Pearson':[train_pearson_corr,val_pearson_corr,test_pearson_corr],\n",
    "    'Median_AE':[train_median_ae,val_median_ae,test_median_ae],\n",
    "    'Explained_VAR':[train_explained_var,val_explained_var,test_explained_var],\n",
    "    'Dataspliting Mode':['cold protein','cold protein','cold protein']\n",
    "}\n",
    "df = pd.DataFrame(df)\n",
    "\n",
    "df.to_csv('/Users/pinchichen/2025S lab/AI drug project/Catpred/Km/model performance metrics_Catpred_Km.csv', mode='a', header=False)"
   ]
  },
  {
   "cell_type": "code",
   "execution_count": 11,
   "metadata": {},
   "outputs": [],
   "source": [
    "# Save the model and training history\n",
    "save_dir = '/Users/pinchichen/2025S lab/AI drug project/Catpred/Km/trained_model/cold_protein'\n",
    "# save model weights and optimizer state\n",
    "torch.save(model.state_dict(), os.path.join(save_dir, 'Transformer model_Catpred_Km_cold_protein.pt'))\n",
    "torch.save(optimizer.state_dict(), os.path.join(save_dir, 'Transformer optimizer_Catpred_Km_cold_protein.pt'))"
   ]
  },
  {
   "cell_type": "code",
   "execution_count": null,
   "metadata": {},
   "outputs": [
    {
     "name": "stderr",
     "output_type": "stream",
     "text": [
      "Training Epoch 1: 100%|██████████| 891/891 [00:07<00:00, 114.99it/s]\n"
     ]
    },
    {
     "name": "stdout",
     "output_type": "stream",
     "text": [
      "Epoch 0 - Train Loss: 1.2559, Train MSE: 1.2562, Train MAE: 0.8781\n"
     ]
    },
    {
     "name": "stderr",
     "output_type": "stream",
     "text": [
      "/var/folders/yz/c1z6m9_d5d3f80sywjc3rqsc0000gn/T/ipykernel_96071/3620067097.py:83: FutureWarning: The behavior of DataFrame concatenation with empty or all-NA entries is deprecated. In a future version, this will no longer exclude empty or all-NA columns when determining the result dtypes. To retain the old behavior, exclude the relevant entries before the concat operation.\n",
      "  train_history_2 = pd.concat([train_history_2, pd.DataFrame([new_row])], ignore_index=True)\n"
     ]
    },
    {
     "name": "stdout",
     "output_type": "stream",
     "text": [
      "Epoch 0 - Validation Loss: 1.0701, Validation MSE: 1.0730, Validation MAE: 0.8011\n"
     ]
    },
    {
     "name": "stderr",
     "output_type": "stream",
     "text": [
      "Training Epoch 2: 100%|██████████| 891/891 [00:07<00:00, 115.66it/s]\n",
      "Training Epoch 3: 100%|██████████| 891/891 [00:07<00:00, 113.39it/s]\n",
      "Training Epoch 4: 100%|██████████| 891/891 [00:08<00:00, 108.04it/s]\n",
      "Training Epoch 5: 100%|██████████| 891/891 [00:07<00:00, 113.74it/s]\n",
      "Training Epoch 6: 100%|██████████| 891/891 [00:07<00:00, 111.71it/s]\n",
      "Training Epoch 7: 100%|██████████| 891/891 [00:07<00:00, 112.05it/s]\n",
      "Training Epoch 8: 100%|██████████| 891/891 [00:07<00:00, 114.20it/s]\n",
      "Training Epoch 9: 100%|██████████| 891/891 [00:08<00:00, 104.66it/s]\n",
      "Training Epoch 10: 100%|██████████| 891/891 [00:08<00:00, 107.62it/s]\n",
      "Training Epoch 11: 100%|██████████| 891/891 [00:07<00:00, 112.42it/s]\n"
     ]
    },
    {
     "name": "stdout",
     "output_type": "stream",
     "text": [
      "Epoch 10 - Train Loss: 0.9074, Train MSE: 0.9070, Train MAE: 0.7337\n",
      "Epoch 10 - Validation Loss: 0.9918, Validation MSE: 0.9963, Validation MAE: 0.7693\n"
     ]
    },
    {
     "name": "stderr",
     "output_type": "stream",
     "text": [
      "Training Epoch 12: 100%|██████████| 891/891 [00:07<00:00, 115.33it/s]\n",
      "Training Epoch 13: 100%|██████████| 891/891 [00:07<00:00, 114.82it/s]\n",
      "Training Epoch 14: 100%|██████████| 891/891 [00:08<00:00, 111.10it/s]\n",
      "Training Epoch 15: 100%|██████████| 891/891 [00:08<00:00, 110.97it/s]\n",
      "Training Epoch 16: 100%|██████████| 891/891 [00:07<00:00, 112.73it/s]\n",
      "Training Epoch 17: 100%|██████████| 891/891 [00:07<00:00, 117.98it/s]\n",
      "Training Epoch 18: 100%|██████████| 891/891 [00:07<00:00, 114.24it/s]\n",
      "Training Epoch 19: 100%|██████████| 891/891 [00:08<00:00, 108.55it/s]\n",
      "Training Epoch 20: 100%|██████████| 891/891 [00:07<00:00, 113.80it/s]\n",
      "Training Epoch 21: 100%|██████████| 891/891 [00:07<00:00, 112.12it/s]\n"
     ]
    },
    {
     "name": "stdout",
     "output_type": "stream",
     "text": [
      "Epoch 20 - Train Loss: 0.7500, Train MSE: 0.7495, Train MAE: 0.6659\n",
      "Epoch 20 - Validation Loss: 0.9569, Validation MSE: 0.9605, Validation MAE: 0.7448\n"
     ]
    },
    {
     "name": "stderr",
     "output_type": "stream",
     "text": [
      "Training Epoch 22: 100%|██████████| 891/891 [00:08<00:00, 102.37it/s]\n",
      "Training Epoch 23: 100%|██████████| 891/891 [00:07<00:00, 114.46it/s]\n",
      "Training Epoch 24: 100%|██████████| 891/891 [00:07<00:00, 117.28it/s]\n",
      "Training Epoch 25: 100%|██████████| 891/891 [00:08<00:00, 110.89it/s]\n",
      "Training Epoch 26: 100%|██████████| 891/891 [00:08<00:00, 110.78it/s]\n",
      "Training Epoch 27: 100%|██████████| 891/891 [08:30<00:00,  1.74it/s]  \n",
      "Training Epoch 28: 100%|██████████| 891/891 [00:09<00:00, 90.06it/s] \n",
      "Training Epoch 29: 100%|██████████| 891/891 [00:08<00:00, 106.04it/s]\n",
      "Training Epoch 30: 100%|██████████| 891/891 [00:08<00:00, 109.44it/s]\n",
      "Training Epoch 31: 100%|██████████| 891/891 [00:07<00:00, 112.03it/s]\n"
     ]
    },
    {
     "name": "stdout",
     "output_type": "stream",
     "text": [
      "Epoch 30 - Train Loss: 0.6380, Train MSE: 0.6381, Train MAE: 0.6116\n",
      "Epoch 30 - Validation Loss: 0.9668, Validation MSE: 0.9686, Validation MAE: 0.7474\n"
     ]
    },
    {
     "name": "stderr",
     "output_type": "stream",
     "text": [
      "Training Epoch 32: 100%|██████████| 891/891 [08:36<00:00,  1.73it/s]  \n",
      "Training Epoch 33: 100%|██████████| 891/891 [00:09<00:00, 97.04it/s] \n",
      "Training Epoch 34: 100%|██████████| 891/891 [00:09<00:00, 98.26it/s] \n",
      "Training Epoch 35: 100%|██████████| 891/891 [00:08<00:00, 111.03it/s]\n",
      "Training Epoch 36: 100%|██████████| 891/891 [00:08<00:00, 107.31it/s]\n",
      "Training Epoch 37: 100%|██████████| 891/891 [08:32<00:00,  1.74it/s] \n",
      "Training Epoch 38: 100%|██████████| 891/891 [00:09<00:00, 95.84it/s] \n",
      "Training Epoch 39: 100%|██████████| 891/891 [00:10<00:00, 85.01it/s] \n",
      "Training Epoch 40: 100%|██████████| 891/891 [00:09<00:00, 97.11it/s] \n",
      "Training Epoch 41: 100%|██████████| 891/891 [00:09<00:00, 89.36it/s] \n"
     ]
    },
    {
     "name": "stdout",
     "output_type": "stream",
     "text": [
      "Epoch 40 - Train Loss: 0.5376, Train MSE: 0.5376, Train MAE: 0.5585\n",
      "Epoch 40 - Validation Loss: 0.9717, Validation MSE: 0.9750, Validation MAE: 0.7452\n"
     ]
    },
    {
     "name": "stderr",
     "output_type": "stream",
     "text": [
      "Training Epoch 42: 100%|██████████| 891/891 [08:31<00:00,  1.74it/s]\n",
      "Training Epoch 43: 100%|██████████| 891/891 [00:10<00:00, 84.52it/s]\n",
      "Training Epoch 44: 100%|██████████| 891/891 [00:11<00:00, 76.36it/s] \n",
      "Training Epoch 45: 100%|██████████| 891/891 [00:07<00:00, 112.34it/s]\n",
      "Training Epoch 46: 100%|██████████| 891/891 [00:08<00:00, 102.46it/s]\n",
      "Training Epoch 47: 100%|██████████| 891/891 [00:09<00:00, 98.60it/s] \n",
      "Training Epoch 48: 100%|██████████| 891/891 [08:33<00:00,  1.74it/s] \n",
      "Training Epoch 49: 100%|██████████| 891/891 [00:08<00:00, 104.39it/s]\n",
      "Training Epoch 50: 100%|██████████| 891/891 [00:08<00:00, 110.43it/s]\n",
      "Training Epoch 51: 100%|██████████| 891/891 [00:08<00:00, 104.34it/s]\n"
     ]
    },
    {
     "name": "stdout",
     "output_type": "stream",
     "text": [
      "Epoch 50 - Train Loss: 0.4640, Train MSE: 0.4637, Train MAE: 0.5187\n",
      "Epoch 50 - Validation Loss: 0.9493, Validation MSE: 0.9493, Validation MAE: 0.7346\n"
     ]
    },
    {
     "name": "stderr",
     "output_type": "stream",
     "text": [
      "Training Epoch 52: 100%|██████████| 891/891 [00:07<00:00, 112.24it/s]\n",
      "Training Epoch 53: 100%|██████████| 891/891 [00:07<00:00, 112.21it/s]\n",
      "Training Epoch 54: 100%|██████████| 891/891 [00:08<00:00, 110.88it/s]\n",
      "Training Epoch 55: 100%|██████████| 891/891 [00:08<00:00, 108.30it/s]\n",
      "Training Epoch 56: 100%|██████████| 891/891 [00:08<00:00, 111.37it/s]\n",
      "Training Epoch 57: 100%|██████████| 891/891 [00:07<00:00, 112.86it/s]\n",
      "Training Epoch 58: 100%|██████████| 891/891 [00:08<00:00, 108.45it/s]\n",
      "Training Epoch 59: 100%|██████████| 891/891 [07:50<00:00,  1.89it/s] \n",
      "Training Epoch 60: 100%|██████████| 891/891 [00:08<00:00, 99.83it/s] \n",
      "Training Epoch 61: 100%|██████████| 891/891 [00:08<00:00, 108.03it/s]\n"
     ]
    },
    {
     "name": "stdout",
     "output_type": "stream",
     "text": [
      "Epoch 60 - Train Loss: 0.3966, Train MSE: 0.3965, Train MAE: 0.4780\n",
      "Epoch 60 - Validation Loss: 0.9929, Validation MSE: 0.9914, Validation MAE: 0.7534\n"
     ]
    },
    {
     "name": "stderr",
     "output_type": "stream",
     "text": [
      "Training Epoch 62: 100%|██████████| 891/891 [00:08<00:00, 109.51it/s]\n",
      "Training Epoch 63: 100%|██████████| 891/891 [00:08<00:00, 111.33it/s]\n",
      "Training Epoch 64: 100%|██████████| 891/891 [08:33<00:00,  1.73it/s]  \n",
      "Training Epoch 65: 100%|██████████| 891/891 [00:10<00:00, 87.30it/s] \n",
      "Training Epoch 66: 100%|██████████| 891/891 [00:08<00:00, 103.18it/s]\n",
      "Training Epoch 67: 100%|██████████| 891/891 [00:08<00:00, 111.32it/s]\n",
      "Training Epoch 68: 100%|██████████| 891/891 [00:07<00:00, 112.43it/s]\n",
      "Training Epoch 69: 100%|██████████| 891/891 [08:34<00:00,  1.73it/s]  \n",
      "Training Epoch 70: 100%|██████████| 891/891 [00:09<00:00, 96.08it/s] \n",
      "Training Epoch 71: 100%|██████████| 891/891 [00:08<00:00, 108.86it/s]\n"
     ]
    },
    {
     "name": "stdout",
     "output_type": "stream",
     "text": [
      "Epoch 70 - Train Loss: 0.3449, Train MSE: 0.3449, Train MAE: 0.4469\n",
      "Epoch 70 - Validation Loss: 0.8975, Validation MSE: 0.8976, Validation MAE: 0.7150\n"
     ]
    },
    {
     "name": "stderr",
     "output_type": "stream",
     "text": [
      "Training Epoch 72: 100%|██████████| 891/891 [00:07<00:00, 111.80it/s]\n",
      "Training Epoch 73: 100%|██████████| 891/891 [00:08<00:00, 109.12it/s]\n",
      "Training Epoch 74: 100%|██████████| 891/891 [08:33<00:00,  1.73it/s] \n",
      "Training Epoch 75: 100%|██████████| 891/891 [00:08<00:00, 100.91it/s]\n",
      "Training Epoch 76: 100%|██████████| 891/891 [00:08<00:00, 106.80it/s]\n",
      "Training Epoch 77: 100%|██████████| 891/891 [00:08<00:00, 108.99it/s]\n",
      "Training Epoch 78: 100%|██████████| 891/891 [00:08<00:00, 107.58it/s]\n",
      "Training Epoch 79: 100%|██████████| 891/891 [00:07<00:00, 113.16it/s]\n",
      "Training Epoch 80: 100%|██████████| 891/891 [01:29<00:00,  9.96it/s] \n",
      "Training Epoch 81: 100%|██████████| 891/891 [00:08<00:00, 108.56it/s]\n"
     ]
    },
    {
     "name": "stdout",
     "output_type": "stream",
     "text": [
      "Epoch 80 - Train Loss: 0.3017, Train MSE: 0.3017, Train MAE: 0.4176\n",
      "Epoch 80 - Validation Loss: 0.9601, Validation MSE: 0.9626, Validation MAE: 0.7387\n"
     ]
    },
    {
     "name": "stderr",
     "output_type": "stream",
     "text": [
      "Training Epoch 82: 100%|██████████| 891/891 [00:07<00:00, 115.76it/s]\n",
      "Training Epoch 83: 100%|██████████| 891/891 [00:08<00:00, 109.12it/s]\n",
      "Training Epoch 84: 100%|██████████| 891/891 [00:07<00:00, 113.12it/s]\n",
      "Training Epoch 85: 100%|██████████| 891/891 [00:07<00:00, 111.50it/s]\n",
      "Training Epoch 86: 100%|██████████| 891/891 [00:07<00:00, 119.01it/s]\n",
      "Training Epoch 87: 100%|██████████| 891/891 [00:07<00:00, 114.96it/s]\n",
      "Training Epoch 88: 100%|██████████| 891/891 [00:07<00:00, 113.95it/s]\n",
      "Training Epoch 89: 100%|██████████| 891/891 [00:07<00:00, 112.89it/s]\n",
      "Training Epoch 90: 100%|██████████| 891/891 [00:07<00:00, 114.64it/s]\n",
      "Training Epoch 91: 100%|██████████| 891/891 [00:07<00:00, 114.88it/s]\n"
     ]
    },
    {
     "name": "stdout",
     "output_type": "stream",
     "text": [
      "Epoch 90 - Train Loss: 0.2720, Train MSE: 0.2721, Train MAE: 0.3968\n",
      "Epoch 90 - Validation Loss: 0.9157, Validation MSE: 0.9186, Validation MAE: 0.7197\n"
     ]
    },
    {
     "name": "stderr",
     "output_type": "stream",
     "text": [
      "Training Epoch 92: 100%|██████████| 891/891 [00:07<00:00, 111.79it/s]\n",
      "Training Epoch 93: 100%|██████████| 891/891 [00:07<00:00, 118.60it/s]\n",
      "Training Epoch 94: 100%|██████████| 891/891 [00:07<00:00, 114.81it/s]\n",
      "Training Epoch 95: 100%|██████████| 891/891 [00:07<00:00, 115.48it/s]\n",
      "Training Epoch 96: 100%|██████████| 891/891 [00:08<00:00, 111.05it/s]\n",
      "Training Epoch 97: 100%|██████████| 891/891 [00:07<00:00, 114.27it/s]\n",
      "Training Epoch 98: 100%|██████████| 891/891 [00:07<00:00, 114.67it/s]\n",
      "Training Epoch 99: 100%|██████████| 891/891 [00:07<00:00, 114.76it/s]\n",
      "Training Epoch 100: 100%|██████████| 891/891 [00:07<00:00, 116.64it/s]\n",
      "Training Epoch 101: 100%|██████████| 891/891 [00:07<00:00, 116.50it/s]\n"
     ]
    },
    {
     "name": "stdout",
     "output_type": "stream",
     "text": [
      "Epoch 100 - Train Loss: 0.2458, Train MSE: 0.2458, Train MAE: 0.3783\n",
      "Epoch 100 - Validation Loss: 0.9770, Validation MSE: 0.9767, Validation MAE: 0.7457\n"
     ]
    },
    {
     "name": "stderr",
     "output_type": "stream",
     "text": [
      "Training Epoch 102: 100%|██████████| 891/891 [00:07<00:00, 115.57it/s]\n",
      "Training Epoch 103: 100%|██████████| 891/891 [00:07<00:00, 115.61it/s]\n",
      "Training Epoch 104: 100%|██████████| 891/891 [00:07<00:00, 117.71it/s]\n",
      "Training Epoch 105: 100%|██████████| 891/891 [00:07<00:00, 115.37it/s]\n",
      "Training Epoch 106: 100%|██████████| 891/891 [00:07<00:00, 115.14it/s]\n",
      "Training Epoch 107: 100%|██████████| 891/891 [00:07<00:00, 115.57it/s]\n",
      "Training Epoch 108: 100%|██████████| 891/891 [00:07<00:00, 120.32it/s]\n",
      "Training Epoch 109: 100%|██████████| 891/891 [00:07<00:00, 115.36it/s]\n",
      "Training Epoch 110: 100%|██████████| 891/891 [00:07<00:00, 111.87it/s]\n",
      "Training Epoch 111: 100%|██████████| 891/891 [00:08<00:00, 102.53it/s]\n"
     ]
    },
    {
     "name": "stdout",
     "output_type": "stream",
     "text": [
      "Epoch 110 - Train Loss: 0.2220, Train MSE: 0.2219, Train MAE: 0.3581\n",
      "Epoch 110 - Validation Loss: 1.0119, Validation MSE: 1.0122, Validation MAE: 0.7617\n"
     ]
    },
    {
     "name": "stderr",
     "output_type": "stream",
     "text": [
      "Training Epoch 112: 100%|██████████| 891/891 [00:08<00:00, 107.81it/s]\n",
      "Training Epoch 113: 100%|██████████| 891/891 [00:08<00:00, 101.05it/s]\n",
      "Training Epoch 114: 100%|██████████| 891/891 [00:08<00:00, 110.12it/s]\n",
      "Training Epoch 115: 100%|██████████| 891/891 [00:07<00:00, 113.62it/s]\n",
      "Training Epoch 116: 100%|██████████| 891/891 [00:08<00:00, 110.67it/s]\n",
      "Training Epoch 117: 100%|██████████| 891/891 [00:07<00:00, 112.07it/s]\n",
      "Training Epoch 118: 100%|██████████| 891/891 [00:07<00:00, 117.01it/s]\n",
      "Training Epoch 119: 100%|██████████| 891/891 [00:08<00:00, 111.31it/s]\n",
      "Training Epoch 120: 100%|██████████| 891/891 [00:08<00:00, 110.52it/s]\n",
      "Training Epoch 121: 100%|██████████| 891/891 [00:07<00:00, 112.00it/s]\n"
     ]
    },
    {
     "name": "stdout",
     "output_type": "stream",
     "text": [
      "Epoch 120 - Train Loss: 0.2030, Train MSE: 0.2029, Train MAE: 0.3426\n",
      "Epoch 120 - Validation Loss: 0.9710, Validation MSE: 0.9716, Validation MAE: 0.7437\n"
     ]
    },
    {
     "name": "stderr",
     "output_type": "stream",
     "text": [
      "Training Epoch 122: 100%|██████████| 891/891 [00:07<00:00, 115.62it/s]\n",
      "Training Epoch 123: 100%|██████████| 891/891 [00:08<00:00, 106.48it/s]\n",
      "Training Epoch 124: 100%|██████████| 891/891 [00:08<00:00, 105.93it/s]\n",
      "Training Epoch 125: 100%|██████████| 891/891 [00:07<00:00, 116.43it/s]\n",
      "Training Epoch 126: 100%|██████████| 891/891 [00:08<00:00, 108.53it/s]\n",
      "Training Epoch 127: 100%|██████████| 891/891 [00:08<00:00, 110.04it/s]\n",
      "Training Epoch 128: 100%|██████████| 891/891 [00:08<00:00, 107.45it/s]\n",
      "Training Epoch 129: 100%|██████████| 891/891 [00:07<00:00, 112.67it/s]\n",
      "Training Epoch 130: 100%|██████████| 891/891 [00:07<00:00, 112.57it/s]\n",
      "Training Epoch 131: 100%|██████████| 891/891 [00:08<00:00, 100.71it/s]\n"
     ]
    },
    {
     "name": "stdout",
     "output_type": "stream",
     "text": [
      "Epoch 130 - Train Loss: 0.1872, Train MSE: 0.1872, Train MAE: 0.3276\n",
      "Epoch 130 - Validation Loss: 0.9609, Validation MSE: 0.9609, Validation MAE: 0.7403\n"
     ]
    },
    {
     "name": "stderr",
     "output_type": "stream",
     "text": [
      "Training Epoch 132: 100%|██████████| 891/891 [00:07<00:00, 112.15it/s]\n",
      "Training Epoch 133: 100%|██████████| 891/891 [00:08<00:00, 110.28it/s]\n",
      "Training Epoch 134: 100%|██████████| 891/891 [00:08<00:00, 110.73it/s]\n",
      "Training Epoch 135: 100%|██████████| 891/891 [00:09<00:00, 97.53it/s] \n",
      "Training Epoch 136: 100%|██████████| 891/891 [00:08<00:00, 103.52it/s]\n",
      "Training Epoch 137: 100%|██████████| 891/891 [00:08<00:00, 107.96it/s]\n",
      "Training Epoch 138: 100%|██████████| 891/891 [00:08<00:00, 109.32it/s]\n",
      "Training Epoch 139: 100%|██████████| 891/891 [00:08<00:00, 111.30it/s]\n",
      "Training Epoch 140: 100%|██████████| 891/891 [00:08<00:00, 110.34it/s]\n",
      "Training Epoch 141: 100%|██████████| 891/891 [00:08<00:00, 104.24it/s]\n"
     ]
    },
    {
     "name": "stdout",
     "output_type": "stream",
     "text": [
      "Epoch 140 - Train Loss: 0.1769, Train MSE: 0.1769, Train MAE: 0.3185\n",
      "Epoch 140 - Validation Loss: 0.9593, Validation MSE: 0.9608, Validation MAE: 0.7416\n"
     ]
    },
    {
     "name": "stderr",
     "output_type": "stream",
     "text": [
      "Training Epoch 142: 100%|██████████| 891/891 [00:08<00:00, 110.56it/s]\n",
      "Training Epoch 143: 100%|██████████| 891/891 [00:08<00:00, 107.65it/s]\n",
      "Training Epoch 144: 100%|██████████| 891/891 [00:08<00:00, 108.94it/s]\n",
      "Training Epoch 145: 100%|██████████| 891/891 [00:08<00:00, 105.18it/s]\n",
      "Training Epoch 146: 100%|██████████| 891/891 [00:08<00:00, 105.69it/s]\n",
      "Training Epoch 147: 100%|██████████| 891/891 [00:08<00:00, 105.28it/s]\n",
      "Training Epoch 148: 100%|██████████| 891/891 [00:08<00:00, 108.51it/s]\n",
      "Training Epoch 149: 100%|██████████| 891/891 [00:07<00:00, 112.95it/s]\n",
      "Training Epoch 150: 100%|██████████| 891/891 [00:08<00:00, 106.87it/s]\n",
      "Training Epoch 151: 100%|██████████| 891/891 [00:08<00:00, 109.15it/s]\n"
     ]
    },
    {
     "name": "stdout",
     "output_type": "stream",
     "text": [
      "Epoch 150 - Train Loss: 0.1646, Train MSE: 0.1646, Train MAE: 0.3083\n",
      "Epoch 150 - Validation Loss: 0.9660, Validation MSE: 0.9656, Validation MAE: 0.7387\n"
     ]
    },
    {
     "name": "stderr",
     "output_type": "stream",
     "text": [
      "Training Epoch 152: 100%|██████████| 891/891 [00:07<00:00, 113.39it/s]\n",
      "Training Epoch 153: 100%|██████████| 891/891 [00:08<00:00, 105.69it/s]\n",
      "Training Epoch 154: 100%|██████████| 891/891 [00:08<00:00, 102.78it/s]\n",
      "Training Epoch 155: 100%|██████████| 891/891 [00:08<00:00, 111.33it/s]\n",
      "Training Epoch 156: 100%|██████████| 891/891 [00:07<00:00, 112.55it/s]\n",
      "Training Epoch 157: 100%|██████████| 891/891 [00:08<00:00, 105.45it/s]\n",
      "Training Epoch 158: 100%|██████████| 891/891 [00:08<00:00, 105.32it/s]\n",
      "Training Epoch 159: 100%|██████████| 891/891 [00:08<00:00, 109.38it/s]\n",
      "Training Epoch 160: 100%|██████████| 891/891 [00:08<00:00, 108.38it/s]\n",
      "Training Epoch 161: 100%|██████████| 891/891 [00:08<00:00, 108.98it/s]\n"
     ]
    },
    {
     "name": "stdout",
     "output_type": "stream",
     "text": [
      "Epoch 160 - Train Loss: 0.1535, Train MSE: 0.1536, Train MAE: 0.2972\n",
      "Epoch 160 - Validation Loss: 0.9948, Validation MSE: 0.9966, Validation MAE: 0.7535\n"
     ]
    },
    {
     "name": "stderr",
     "output_type": "stream",
     "text": [
      "Training Epoch 162: 100%|██████████| 891/891 [00:08<00:00, 110.59it/s]\n",
      "Training Epoch 163: 100%|██████████| 891/891 [00:08<00:00, 110.57it/s]\n",
      "Training Epoch 164: 100%|██████████| 891/891 [00:08<00:00, 107.95it/s]\n",
      "Training Epoch 165: 100%|██████████| 891/891 [00:08<00:00, 105.17it/s]\n",
      "Training Epoch 166: 100%|██████████| 891/891 [00:08<00:00, 103.73it/s]\n",
      "Training Epoch 167: 100%|██████████| 891/891 [00:08<00:00, 108.48it/s]\n",
      "Training Epoch 168: 100%|██████████| 891/891 [00:08<00:00, 107.91it/s]\n",
      "Training Epoch 169: 100%|██████████| 891/891 [00:07<00:00, 112.81it/s]\n",
      "Training Epoch 170: 100%|██████████| 891/891 [00:08<00:00, 109.46it/s]\n",
      "Training Epoch 171: 100%|██████████| 891/891 [00:08<00:00, 106.76it/s]\n"
     ]
    },
    {
     "name": "stdout",
     "output_type": "stream",
     "text": [
      "Epoch 170 - Train Loss: 0.1463, Train MSE: 0.1463, Train MAE: 0.2900\n",
      "Epoch 170 - Validation Loss: 0.9794, Validation MSE: 0.9815, Validation MAE: 0.7491\n"
     ]
    },
    {
     "name": "stderr",
     "output_type": "stream",
     "text": [
      "Training Epoch 172: 100%|██████████| 891/891 [00:08<00:00, 105.89it/s]\n",
      "Training Epoch 173: 100%|██████████| 891/891 [00:11<00:00, 78.54it/s] \n",
      "Training Epoch 174: 100%|██████████| 891/891 [00:09<00:00, 90.43it/s] \n",
      "Training Epoch 175: 100%|██████████| 891/891 [00:09<00:00, 94.73it/s] \n",
      "Training Epoch 176: 100%|██████████| 891/891 [00:08<00:00, 107.31it/s]\n",
      "Training Epoch 177: 100%|██████████| 891/891 [00:08<00:00, 105.37it/s]\n",
      "Training Epoch 178: 100%|██████████| 891/891 [00:08<00:00, 110.51it/s]\n",
      "Training Epoch 179: 100%|██████████| 891/891 [00:08<00:00, 110.70it/s]\n",
      "Training Epoch 180: 100%|██████████| 891/891 [00:08<00:00, 108.19it/s]\n",
      "Training Epoch 181: 100%|██████████| 891/891 [00:07<00:00, 111.57it/s]\n"
     ]
    },
    {
     "name": "stdout",
     "output_type": "stream",
     "text": [
      "Epoch 180 - Train Loss: 0.1385, Train MSE: 0.1385, Train MAE: 0.2826\n",
      "Epoch 180 - Validation Loss: 0.9870, Validation MSE: 0.9896, Validation MAE: 0.7505\n"
     ]
    },
    {
     "name": "stderr",
     "output_type": "stream",
     "text": [
      "Training Epoch 182: 100%|██████████| 891/891 [00:07<00:00, 115.34it/s]\n",
      "Training Epoch 183: 100%|██████████| 891/891 [00:07<00:00, 113.02it/s]\n",
      "Training Epoch 184: 100%|██████████| 891/891 [00:08<00:00, 110.26it/s]\n",
      "Training Epoch 185: 100%|██████████| 891/891 [00:08<00:00, 107.83it/s]\n",
      "Training Epoch 186: 100%|██████████| 891/891 [00:07<00:00, 111.68it/s]\n",
      "Training Epoch 187: 100%|██████████| 891/891 [00:07<00:00, 112.65it/s]\n",
      "Training Epoch 188: 100%|██████████| 891/891 [00:08<00:00, 110.46it/s]\n",
      "Training Epoch 189: 100%|██████████| 891/891 [00:07<00:00, 114.30it/s]\n",
      "Training Epoch 190: 100%|██████████| 891/891 [00:07<00:00, 112.54it/s]\n",
      "Training Epoch 191: 100%|██████████| 891/891 [00:08<00:00, 107.65it/s]\n"
     ]
    },
    {
     "name": "stdout",
     "output_type": "stream",
     "text": [
      "Epoch 190 - Train Loss: 0.1297, Train MSE: 0.1297, Train MAE: 0.2720\n",
      "Epoch 190 - Validation Loss: 0.9407, Validation MSE: 0.9412, Validation MAE: 0.7327\n"
     ]
    },
    {
     "name": "stderr",
     "output_type": "stream",
     "text": [
      "Training Epoch 192: 100%|██████████| 891/891 [00:08<00:00, 108.90it/s]\n",
      "Training Epoch 193: 100%|██████████| 891/891 [00:07<00:00, 111.87it/s]\n",
      "Training Epoch 194: 100%|██████████| 891/891 [00:08<00:00, 110.04it/s]\n",
      "Training Epoch 195: 100%|██████████| 891/891 [00:08<00:00, 108.21it/s]\n",
      "Training Epoch 196: 100%|██████████| 891/891 [00:07<00:00, 114.75it/s]\n",
      "Training Epoch 197: 100%|██████████| 891/891 [00:07<00:00, 113.27it/s]\n",
      "Training Epoch 198: 100%|██████████| 891/891 [00:07<00:00, 111.85it/s]\n",
      "Training Epoch 199: 100%|██████████| 891/891 [00:08<00:00, 109.38it/s]\n",
      "Training Epoch 200: 100%|██████████| 891/891 [00:07<00:00, 112.38it/s]\n",
      "Training Epoch 201: 100%|██████████| 891/891 [00:08<00:00, 108.03it/s]\n"
     ]
    },
    {
     "name": "stdout",
     "output_type": "stream",
     "text": [
      "Epoch 200 - Train Loss: 0.1262, Train MSE: 0.1262, Train MAE: 0.2679\n",
      "Epoch 200 - Validation Loss: 0.9561, Validation MSE: 0.9580, Validation MAE: 0.7356\n"
     ]
    },
    {
     "name": "stderr",
     "output_type": "stream",
     "text": [
      "Training Epoch 202: 100%|██████████| 891/891 [00:08<00:00, 109.04it/s]\n",
      "Training Epoch 203: 100%|██████████| 891/891 [00:07<00:00, 112.60it/s]\n",
      "Training Epoch 204: 100%|██████████| 891/891 [00:07<00:00, 111.85it/s]\n",
      "Training Epoch 205: 100%|██████████| 891/891 [00:07<00:00, 112.69it/s]\n",
      "Training Epoch 206: 100%|██████████| 891/891 [00:08<00:00, 110.41it/s]\n",
      "Training Epoch 207: 100%|██████████| 891/891 [00:07<00:00, 111.74it/s]\n",
      "Training Epoch 208: 100%|██████████| 891/891 [00:08<00:00, 108.75it/s]\n",
      "Training Epoch 209: 100%|██████████| 891/891 [00:08<00:00, 110.01it/s]\n",
      "Training Epoch 210: 100%|██████████| 891/891 [00:08<00:00, 110.59it/s]\n",
      "Training Epoch 211: 100%|██████████| 891/891 [00:08<00:00, 106.37it/s]\n"
     ]
    },
    {
     "name": "stdout",
     "output_type": "stream",
     "text": [
      "Epoch 210 - Train Loss: 0.1198, Train MSE: 0.1198, Train MAE: 0.2611\n",
      "Epoch 210 - Validation Loss: 0.9738, Validation MSE: 0.9745, Validation MAE: 0.7447\n"
     ]
    },
    {
     "name": "stderr",
     "output_type": "stream",
     "text": [
      "Training Epoch 212: 100%|██████████| 891/891 [00:08<00:00, 110.13it/s]\n",
      "Training Epoch 213: 100%|██████████| 891/891 [00:08<00:00, 106.32it/s]\n",
      "Training Epoch 214: 100%|██████████| 891/891 [00:07<00:00, 111.79it/s]\n",
      "Training Epoch 215: 100%|██████████| 891/891 [00:08<00:00, 108.60it/s]\n",
      "Training Epoch 216: 100%|██████████| 891/891 [00:08<00:00, 111.37it/s]\n",
      "Training Epoch 217: 100%|██████████| 891/891 [00:07<00:00, 115.56it/s]\n",
      "Training Epoch 218: 100%|██████████| 891/891 [00:07<00:00, 112.50it/s]\n",
      "Training Epoch 219: 100%|██████████| 891/891 [00:07<00:00, 112.52it/s]\n",
      "Training Epoch 220: 100%|██████████| 891/891 [00:07<00:00, 112.42it/s]\n",
      "Training Epoch 221: 100%|██████████| 891/891 [00:07<00:00, 114.87it/s]\n"
     ]
    },
    {
     "name": "stdout",
     "output_type": "stream",
     "text": [
      "Epoch 220 - Train Loss: 0.1157, Train MSE: 0.1157, Train MAE: 0.2558\n",
      "Epoch 220 - Validation Loss: 0.9508, Validation MSE: 0.9505, Validation MAE: 0.7345\n"
     ]
    },
    {
     "name": "stderr",
     "output_type": "stream",
     "text": [
      "Training Epoch 222: 100%|██████████| 891/891 [00:08<00:00, 102.98it/s]\n",
      "Training Epoch 223: 100%|██████████| 891/891 [00:07<00:00, 113.66it/s]\n",
      "Training Epoch 224: 100%|██████████| 891/891 [00:07<00:00, 116.50it/s]\n",
      "Training Epoch 225: 100%|██████████| 891/891 [00:07<00:00, 113.21it/s]\n",
      "Training Epoch 226: 100%|██████████| 891/891 [00:07<00:00, 112.52it/s]\n",
      "Training Epoch 227: 100%|██████████| 891/891 [00:07<00:00, 116.28it/s]\n",
      "Training Epoch 228: 100%|██████████| 891/891 [00:07<00:00, 112.48it/s]\n",
      "Training Epoch 229: 100%|██████████| 891/891 [00:07<00:00, 112.37it/s]\n",
      "Training Epoch 230: 100%|██████████| 891/891 [00:07<00:00, 111.83it/s]\n",
      "Training Epoch 231: 100%|██████████| 891/891 [00:07<00:00, 114.73it/s]\n"
     ]
    },
    {
     "name": "stdout",
     "output_type": "stream",
     "text": [
      "Epoch 230 - Train Loss: 0.1134, Train MSE: 0.1133, Train MAE: 0.2537\n",
      "Epoch 230 - Validation Loss: 0.9410, Validation MSE: 0.9420, Validation MAE: 0.7301\n"
     ]
    },
    {
     "name": "stderr",
     "output_type": "stream",
     "text": [
      "Training Epoch 232: 100%|██████████| 891/891 [00:07<00:00, 111.59it/s]\n",
      "Training Epoch 233: 100%|██████████| 891/891 [00:07<00:00, 112.84it/s]\n",
      "Training Epoch 234: 100%|██████████| 891/891 [00:07<00:00, 115.51it/s]\n",
      "Training Epoch 235: 100%|██████████| 891/891 [00:07<00:00, 113.21it/s]\n",
      "Training Epoch 236: 100%|██████████| 891/891 [00:07<00:00, 111.81it/s]\n",
      "Training Epoch 237: 100%|██████████| 891/891 [00:08<00:00, 111.24it/s]\n",
      "Training Epoch 238: 100%|██████████| 891/891 [00:07<00:00, 116.57it/s]\n",
      "Training Epoch 239: 100%|██████████| 891/891 [00:07<00:00, 112.87it/s]\n",
      "Training Epoch 240: 100%|██████████| 891/891 [00:07<00:00, 111.61it/s]\n",
      "Training Epoch 241: 100%|██████████| 891/891 [00:07<00:00, 113.49it/s]\n"
     ]
    },
    {
     "name": "stdout",
     "output_type": "stream",
     "text": [
      "Epoch 240 - Train Loss: 0.1076, Train MSE: 0.1076, Train MAE: 0.2469\n",
      "Epoch 240 - Validation Loss: 0.9420, Validation MSE: 0.9419, Validation MAE: 0.7286\n"
     ]
    },
    {
     "name": "stderr",
     "output_type": "stream",
     "text": [
      "Training Epoch 242: 100%|██████████| 891/891 [00:07<00:00, 115.93it/s]\n",
      "Training Epoch 243: 100%|██████████| 891/891 [00:07<00:00, 112.80it/s]\n",
      "Training Epoch 244: 100%|██████████| 891/891 [00:07<00:00, 114.11it/s]\n",
      "Training Epoch 245: 100%|██████████| 891/891 [00:07<00:00, 114.97it/s]\n",
      "Training Epoch 246: 100%|██████████| 891/891 [00:08<00:00, 110.93it/s]\n",
      "Training Epoch 247: 100%|██████████| 891/891 [00:07<00:00, 112.23it/s]\n",
      "Training Epoch 248: 100%|██████████| 891/891 [00:07<00:00, 113.72it/s]\n",
      "Training Epoch 249: 100%|██████████| 891/891 [00:07<00:00, 115.27it/s]\n",
      "Training Epoch 250: 100%|██████████| 891/891 [00:08<00:00, 110.40it/s]\n",
      "Training Epoch 251: 100%|██████████| 891/891 [00:07<00:00, 112.48it/s]\n"
     ]
    },
    {
     "name": "stdout",
     "output_type": "stream",
     "text": [
      "Epoch 250 - Train Loss: 0.1074, Train MSE: 0.1074, Train MAE: 0.2454\n",
      "Epoch 250 - Validation Loss: 0.9746, Validation MSE: 0.9756, Validation MAE: 0.7416\n"
     ]
    },
    {
     "name": "stderr",
     "output_type": "stream",
     "text": [
      "Training Epoch 252: 100%|██████████| 891/891 [00:07<00:00, 116.57it/s]\n",
      "Training Epoch 253: 100%|██████████| 891/891 [00:07<00:00, 114.02it/s]\n",
      "Training Epoch 254: 100%|██████████| 891/891 [00:07<00:00, 111.77it/s]\n",
      "Training Epoch 255: 100%|██████████| 891/891 [00:07<00:00, 112.25it/s]\n",
      "Training Epoch 256: 100%|██████████| 891/891 [00:07<00:00, 114.55it/s]\n",
      "Training Epoch 257: 100%|██████████| 891/891 [00:07<00:00, 112.00it/s]\n",
      "Training Epoch 258: 100%|██████████| 891/891 [00:07<00:00, 112.03it/s]\n",
      "Training Epoch 259: 100%|██████████| 891/891 [00:07<00:00, 116.48it/s]\n",
      "Training Epoch 260: 100%|██████████| 891/891 [00:07<00:00, 112.06it/s]\n",
      "Training Epoch 261: 100%|██████████| 891/891 [00:08<00:00, 109.97it/s]\n"
     ]
    },
    {
     "name": "stdout",
     "output_type": "stream",
     "text": [
      "Epoch 260 - Train Loss: 0.1022, Train MSE: 0.1022, Train MAE: 0.2396\n",
      "Epoch 260 - Validation Loss: 0.9624, Validation MSE: 0.9645, Validation MAE: 0.7399\n"
     ]
    },
    {
     "name": "stderr",
     "output_type": "stream",
     "text": [
      "Training Epoch 262: 100%|██████████| 891/891 [00:07<00:00, 111.89it/s]\n",
      "Training Epoch 263: 100%|██████████| 891/891 [00:08<00:00, 111.13it/s]\n",
      "Training Epoch 264: 100%|██████████| 891/891 [00:08<00:00, 106.77it/s]\n",
      "Training Epoch 265: 100%|██████████| 891/891 [00:08<00:00, 107.90it/s]\n",
      "Training Epoch 266: 100%|██████████| 891/891 [00:07<00:00, 113.55it/s]\n",
      "Training Epoch 267: 100%|██████████| 891/891 [00:08<00:00, 109.47it/s]\n",
      "Training Epoch 268: 100%|██████████| 891/891 [00:08<00:00, 105.13it/s]\n",
      "Training Epoch 269: 100%|██████████| 891/891 [00:07<00:00, 112.39it/s]\n",
      "Training Epoch 270: 100%|██████████| 891/891 [00:08<00:00, 110.79it/s]\n",
      "Training Epoch 271: 100%|██████████| 891/891 [00:08<00:00, 107.94it/s]\n"
     ]
    },
    {
     "name": "stdout",
     "output_type": "stream",
     "text": [
      "Epoch 270 - Train Loss: 0.0982, Train MSE: 0.0983, Train MAE: 0.2354\n",
      "Epoch 270 - Validation Loss: 0.9375, Validation MSE: 0.9396, Validation MAE: 0.7297\n"
     ]
    },
    {
     "name": "stderr",
     "output_type": "stream",
     "text": [
      "Training Epoch 272: 100%|██████████| 891/891 [00:08<00:00, 109.12it/s]\n",
      "Training Epoch 273: 100%|██████████| 891/891 [00:07<00:00, 113.00it/s]\n",
      "Training Epoch 274: 100%|██████████| 891/891 [00:08<00:00, 109.41it/s]\n",
      "Training Epoch 275: 100%|██████████| 891/891 [00:08<00:00, 111.04it/s]\n",
      "Training Epoch 276: 100%|██████████| 891/891 [00:07<00:00, 112.44it/s]\n",
      "Training Epoch 277: 100%|██████████| 891/891 [00:08<00:00, 109.26it/s]\n",
      "Training Epoch 278: 100%|██████████| 891/891 [00:07<00:00, 111.53it/s]\n",
      "Training Epoch 279: 100%|██████████| 891/891 [00:08<00:00, 109.23it/s]\n",
      "Training Epoch 280: 100%|██████████| 891/891 [00:07<00:00, 114.24it/s]\n",
      "Training Epoch 281: 100%|██████████| 891/891 [00:08<00:00, 110.59it/s]\n"
     ]
    },
    {
     "name": "stdout",
     "output_type": "stream",
     "text": [
      "Epoch 280 - Train Loss: 0.0961, Train MSE: 0.0961, Train MAE: 0.2322\n",
      "Epoch 280 - Validation Loss: 0.9338, Validation MSE: 0.9342, Validation MAE: 0.7270\n"
     ]
    },
    {
     "name": "stderr",
     "output_type": "stream",
     "text": [
      "Training Epoch 282: 100%|██████████| 891/891 [00:07<00:00, 112.37it/s]\n",
      "Training Epoch 283: 100%|██████████| 891/891 [00:07<00:00, 117.29it/s]\n",
      "Training Epoch 284: 100%|██████████| 891/891 [00:08<00:00, 111.30it/s]\n",
      "Training Epoch 285: 100%|██████████| 891/891 [00:08<00:00, 111.27it/s]\n",
      "Training Epoch 286: 100%|██████████| 891/891 [00:08<00:00, 108.96it/s]\n",
      "Training Epoch 287: 100%|██████████| 891/891 [00:07<00:00, 116.38it/s]\n",
      "Training Epoch 288: 100%|██████████| 891/891 [00:08<00:00, 110.42it/s]\n",
      "Training Epoch 289: 100%|██████████| 891/891 [00:07<00:00, 112.16it/s]\n",
      "Training Epoch 290: 100%|██████████| 891/891 [00:07<00:00, 112.78it/s]\n",
      "Training Epoch 291: 100%|██████████| 891/891 [00:08<00:00, 110.08it/s]\n"
     ]
    },
    {
     "name": "stdout",
     "output_type": "stream",
     "text": [
      "Epoch 290 - Train Loss: 0.0937, Train MSE: 0.0937, Train MAE: 0.2301\n",
      "Epoch 290 - Validation Loss: 0.9773, Validation MSE: 0.9788, Validation MAE: 0.7405\n"
     ]
    },
    {
     "name": "stderr",
     "output_type": "stream",
     "text": [
      "Training Epoch 292: 100%|██████████| 891/891 [00:08<00:00, 110.70it/s]\n",
      "Training Epoch 293: 100%|██████████| 891/891 [00:08<00:00, 106.51it/s]\n",
      "Training Epoch 294: 100%|██████████| 891/891 [00:07<00:00, 111.38it/s]\n",
      "Training Epoch 295: 100%|██████████| 891/891 [00:08<00:00, 109.46it/s]\n",
      "Training Epoch 296: 100%|██████████| 891/891 [00:08<00:00, 109.17it/s]\n",
      "Training Epoch 297: 100%|██████████| 891/891 [00:07<00:00, 115.31it/s]\n",
      "Training Epoch 298: 100%|██████████| 891/891 [00:08<00:00, 110.60it/s]\n",
      "Training Epoch 299: 100%|██████████| 891/891 [00:07<00:00, 112.60it/s]\n",
      "Training Epoch 300: 100%|██████████| 891/891 [00:07<00:00, 113.64it/s]\n",
      "Training Epoch 301: 100%|██████████| 891/891 [00:07<00:00, 114.52it/s]\n"
     ]
    },
    {
     "name": "stdout",
     "output_type": "stream",
     "text": [
      "Epoch 300 - Train Loss: 0.0898, Train MSE: 0.0897, Train MAE: 0.2240\n",
      "Epoch 300 - Validation Loss: 0.9365, Validation MSE: 0.9373, Validation MAE: 0.7226\n"
     ]
    },
    {
     "name": "stderr",
     "output_type": "stream",
     "text": [
      "Training Epoch 302: 100%|██████████| 891/891 [00:07<00:00, 111.54it/s]\n",
      "Training Epoch 303: 100%|██████████| 891/891 [00:08<00:00, 110.94it/s]\n",
      "Training Epoch 304: 100%|██████████| 891/891 [00:07<00:00, 115.94it/s]\n",
      "Training Epoch 305: 100%|██████████| 891/891 [00:07<00:00, 112.70it/s]\n",
      "Training Epoch 306: 100%|██████████| 891/891 [00:07<00:00, 112.13it/s]\n",
      "Training Epoch 307: 100%|██████████| 891/891 [00:07<00:00, 111.42it/s]\n",
      "Training Epoch 308: 100%|██████████| 891/891 [00:07<00:00, 115.47it/s]\n",
      "Training Epoch 309: 100%|██████████| 891/891 [00:07<00:00, 113.43it/s]\n",
      "Training Epoch 310: 100%|██████████| 891/891 [00:08<00:00, 110.95it/s]\n",
      "Training Epoch 311: 100%|██████████| 891/891 [00:07<00:00, 115.67it/s]\n"
     ]
    },
    {
     "name": "stdout",
     "output_type": "stream",
     "text": [
      "Epoch 310 - Train Loss: 0.0897, Train MSE: 0.0897, Train MAE: 0.2245\n",
      "Epoch 310 - Validation Loss: 0.9462, Validation MSE: 0.9482, Validation MAE: 0.7326\n"
     ]
    },
    {
     "name": "stderr",
     "output_type": "stream",
     "text": [
      "Training Epoch 312: 100%|██████████| 891/891 [00:07<00:00, 113.84it/s]\n",
      "Training Epoch 313: 100%|██████████| 891/891 [00:07<00:00, 112.77it/s]\n",
      "Training Epoch 314: 100%|██████████| 891/891 [00:07<00:00, 113.70it/s]\n",
      "Training Epoch 315: 100%|██████████| 891/891 [00:08<00:00, 110.19it/s]\n",
      "Training Epoch 316: 100%|██████████| 891/891 [00:08<00:00, 105.66it/s]\n",
      "Training Epoch 317: 100%|██████████| 891/891 [00:08<00:00, 107.61it/s]\n",
      "Training Epoch 318: 100%|██████████| 891/891 [00:07<00:00, 115.93it/s]\n",
      "Training Epoch 319: 100%|██████████| 891/891 [00:08<00:00, 110.67it/s]\n",
      "Training Epoch 320: 100%|██████████| 891/891 [00:08<00:00, 108.97it/s]\n",
      "Training Epoch 321: 100%|██████████| 891/891 [00:08<00:00, 106.20it/s]\n"
     ]
    },
    {
     "name": "stdout",
     "output_type": "stream",
     "text": [
      "Epoch 320 - Train Loss: 0.0904, Train MSE: 0.0903, Train MAE: 0.2243\n",
      "Epoch 320 - Validation Loss: 0.9361, Validation MSE: 0.9365, Validation MAE: 0.7298\n"
     ]
    },
    {
     "name": "stderr",
     "output_type": "stream",
     "text": [
      "Training Epoch 322: 100%|██████████| 891/891 [00:08<00:00, 108.63it/s]\n",
      "Training Epoch 323: 100%|██████████| 891/891 [00:07<00:00, 113.62it/s]\n",
      "Training Epoch 324: 100%|██████████| 891/891 [00:07<00:00, 111.73it/s]\n",
      "Training Epoch 325: 100%|██████████| 891/891 [00:07<00:00, 116.20it/s]\n",
      "Training Epoch 326: 100%|██████████| 891/891 [00:08<00:00, 111.10it/s]\n",
      "Training Epoch 327: 100%|██████████| 891/891 [00:08<00:00, 109.61it/s]\n",
      "Training Epoch 328: 100%|██████████| 891/891 [00:07<00:00, 112.57it/s]\n",
      "Training Epoch 329: 100%|██████████| 891/891 [00:07<00:00, 112.22it/s]\n",
      "Training Epoch 330: 100%|██████████| 891/891 [00:07<00:00, 112.09it/s]\n",
      "Training Epoch 331: 100%|██████████| 891/891 [00:08<00:00, 110.07it/s]\n"
     ]
    },
    {
     "name": "stdout",
     "output_type": "stream",
     "text": [
      "Epoch 330 - Train Loss: 0.0867, Train MSE: 0.0868, Train MAE: 0.2210\n",
      "Epoch 330 - Validation Loss: 0.9465, Validation MSE: 0.9477, Validation MAE: 0.7300\n"
     ]
    },
    {
     "name": "stderr",
     "output_type": "stream",
     "text": [
      "Training Epoch 332: 100%|██████████| 891/891 [00:07<00:00, 115.99it/s]\n",
      "Training Epoch 333: 100%|██████████| 891/891 [00:08<00:00, 110.83it/s]\n",
      "Training Epoch 334: 100%|██████████| 891/891 [00:08<00:00, 111.08it/s]\n",
      "Training Epoch 335: 100%|██████████| 891/891 [00:07<00:00, 112.94it/s]\n",
      "Training Epoch 336: 100%|██████████| 891/891 [00:07<00:00, 112.51it/s]\n",
      "Training Epoch 337: 100%|██████████| 891/891 [00:08<00:00, 109.97it/s]\n",
      "Training Epoch 338: 100%|██████████| 891/891 [00:08<00:00, 110.48it/s]\n",
      "Training Epoch 339: 100%|██████████| 891/891 [00:07<00:00, 115.14it/s]\n",
      "Training Epoch 340: 100%|██████████| 891/891 [00:08<00:00, 110.55it/s]\n",
      "Training Epoch 341: 100%|██████████| 891/891 [00:07<00:00, 111.51it/s]\n"
     ]
    },
    {
     "name": "stdout",
     "output_type": "stream",
     "text": [
      "Epoch 340 - Train Loss: 0.0878, Train MSE: 0.0879, Train MAE: 0.2200\n",
      "Epoch 340 - Validation Loss: 0.9494, Validation MSE: 0.9508, Validation MAE: 0.7317\n"
     ]
    },
    {
     "name": "stderr",
     "output_type": "stream",
     "text": [
      "Training Epoch 342: 100%|██████████| 891/891 [00:07<00:00, 111.47it/s]\n",
      "Training Epoch 343: 100%|██████████| 891/891 [00:07<00:00, 112.62it/s]\n",
      "Training Epoch 344: 100%|██████████| 891/891 [00:08<00:00, 110.99it/s]\n",
      "Training Epoch 345: 100%|██████████| 891/891 [00:07<00:00, 111.97it/s]\n",
      "Training Epoch 346: 100%|██████████| 891/891 [00:07<00:00, 112.21it/s]\n",
      "Training Epoch 347: 100%|██████████| 891/891 [00:08<00:00, 111.30it/s]\n",
      "Training Epoch 348: 100%|██████████| 891/891 [00:07<00:00, 112.21it/s]\n",
      "Training Epoch 349: 100%|██████████| 891/891 [00:08<00:00, 108.96it/s]\n",
      "Training Epoch 350: 100%|██████████| 891/891 [00:07<00:00, 111.59it/s]\n",
      "Training Epoch 351: 100%|██████████| 891/891 [00:08<00:00, 108.26it/s]\n"
     ]
    },
    {
     "name": "stdout",
     "output_type": "stream",
     "text": [
      "Epoch 350 - Train Loss: 0.0821, Train MSE: 0.0820, Train MAE: 0.2133\n",
      "Epoch 350 - Validation Loss: 0.9206, Validation MSE: 0.9209, Validation MAE: 0.7214\n"
     ]
    },
    {
     "name": "stderr",
     "output_type": "stream",
     "text": [
      "Training Epoch 352: 100%|██████████| 891/891 [00:08<00:00, 109.05it/s]\n",
      "Training Epoch 353: 100%|██████████| 891/891 [00:07<00:00, 113.38it/s]\n",
      "Training Epoch 354: 100%|██████████| 891/891 [00:08<00:00, 107.80it/s]\n",
      "Training Epoch 355: 100%|██████████| 891/891 [00:08<00:00, 106.92it/s]\n",
      "Training Epoch 356: 100%|██████████| 891/891 [00:07<00:00, 112.05it/s]\n",
      "Training Epoch 357: 100%|██████████| 891/891 [00:07<00:00, 112.03it/s]\n",
      "Training Epoch 358: 100%|██████████| 891/891 [00:08<00:00, 107.13it/s]\n",
      "Training Epoch 359: 100%|██████████| 891/891 [00:08<00:00, 101.95it/s]\n",
      "Training Epoch 360: 100%|██████████| 891/891 [00:08<00:00, 111.02it/s]\n",
      "Training Epoch 361: 100%|██████████| 891/891 [00:08<00:00, 110.42it/s]\n"
     ]
    },
    {
     "name": "stdout",
     "output_type": "stream",
     "text": [
      "Epoch 360 - Train Loss: 0.0813, Train MSE: 0.0812, Train MAE: 0.2113\n",
      "Epoch 360 - Validation Loss: 0.9540, Validation MSE: 0.9551, Validation MAE: 0.7303\n"
     ]
    },
    {
     "name": "stderr",
     "output_type": "stream",
     "text": [
      "Training Epoch 362: 100%|██████████| 891/891 [00:08<00:00, 110.43it/s]\n",
      "Training Epoch 363: 100%|██████████| 891/891 [00:08<00:00, 110.48it/s]\n",
      "Training Epoch 364: 100%|██████████| 891/891 [00:08<00:00, 107.63it/s]\n",
      "Training Epoch 365: 100%|██████████| 891/891 [00:08<00:00, 107.20it/s]\n",
      "Training Epoch 366: 100%|██████████| 891/891 [00:08<00:00, 106.06it/s]\n",
      "Training Epoch 367: 100%|██████████| 891/891 [00:07<00:00, 113.22it/s]\n",
      "Training Epoch 368: 100%|██████████| 891/891 [00:08<00:00, 107.81it/s]\n",
      "Training Epoch 369: 100%|██████████| 891/891 [00:08<00:00, 110.31it/s]\n",
      "Training Epoch 370: 100%|██████████| 891/891 [00:07<00:00, 112.54it/s]\n",
      "Training Epoch 371: 100%|██████████| 891/891 [00:08<00:00, 111.02it/s]\n"
     ]
    },
    {
     "name": "stdout",
     "output_type": "stream",
     "text": [
      "Epoch 370 - Train Loss: 0.0782, Train MSE: 0.0782, Train MAE: 0.2078\n",
      "Epoch 370 - Validation Loss: 0.9903, Validation MSE: 0.9928, Validation MAE: 0.7467\n"
     ]
    },
    {
     "name": "stderr",
     "output_type": "stream",
     "text": [
      "Training Epoch 372: 100%|██████████| 891/891 [00:08<00:00, 110.35it/s]\n",
      "Training Epoch 373: 100%|██████████| 891/891 [00:08<00:00, 109.06it/s]\n",
      "Training Epoch 374: 100%|██████████| 891/891 [00:08<00:00, 111.20it/s]\n",
      "Training Epoch 375: 100%|██████████| 891/891 [00:08<00:00, 109.34it/s]\n",
      "Training Epoch 376: 100%|██████████| 891/891 [00:08<00:00, 110.13it/s]\n",
      "Training Epoch 377: 100%|██████████| 891/891 [00:07<00:00, 114.35it/s]\n",
      "Training Epoch 378: 100%|██████████| 891/891 [00:07<00:00, 113.09it/s]\n",
      "Training Epoch 379: 100%|██████████| 891/891 [00:08<00:00, 110.63it/s]\n",
      "Training Epoch 380: 100%|██████████| 891/891 [00:08<00:00, 108.85it/s]\n",
      "Training Epoch 381: 100%|██████████| 891/891 [00:08<00:00, 110.39it/s]\n"
     ]
    },
    {
     "name": "stdout",
     "output_type": "stream",
     "text": [
      "Epoch 380 - Train Loss: 0.0805, Train MSE: 0.0805, Train MAE: 0.2091\n",
      "Epoch 380 - Validation Loss: 0.9557, Validation MSE: 0.9557, Validation MAE: 0.7324\n"
     ]
    },
    {
     "name": "stderr",
     "output_type": "stream",
     "text": [
      "Training Epoch 382: 100%|██████████| 891/891 [00:08<00:00, 108.01it/s]\n",
      "Training Epoch 383: 100%|██████████| 891/891 [00:08<00:00, 106.36it/s]\n",
      "Training Epoch 384: 100%|██████████| 891/891 [00:07<00:00, 111.55it/s]\n",
      "Training Epoch 385: 100%|██████████| 891/891 [00:08<00:00, 109.75it/s]\n",
      "Training Epoch 386: 100%|██████████| 891/891 [00:08<00:00, 104.34it/s]\n",
      "Training Epoch 387: 100%|██████████| 891/891 [00:08<00:00, 106.30it/s]\n",
      "Training Epoch 388: 100%|██████████| 891/891 [00:08<00:00, 108.25it/s]\n",
      "Training Epoch 389: 100%|██████████| 891/891 [00:10<00:00, 88.56it/s] \n",
      "Training Epoch 390: 100%|██████████| 891/891 [00:08<00:00, 107.80it/s]\n",
      "Training Epoch 391: 100%|██████████| 891/891 [00:10<00:00, 87.49it/s] \n"
     ]
    },
    {
     "name": "stdout",
     "output_type": "stream",
     "text": [
      "Epoch 390 - Train Loss: 0.0754, Train MSE: 0.0754, Train MAE: 0.2050\n",
      "Epoch 390 - Validation Loss: 0.9400, Validation MSE: 0.9412, Validation MAE: 0.7273\n"
     ]
    },
    {
     "name": "stderr",
     "output_type": "stream",
     "text": [
      "Training Epoch 392: 100%|██████████| 891/891 [00:08<00:00, 106.03it/s]\n",
      "Training Epoch 393: 100%|██████████| 891/891 [00:08<00:00, 100.40it/s]\n",
      "Training Epoch 394: 100%|██████████| 891/891 [00:07<00:00, 115.45it/s]\n",
      "Training Epoch 395: 100%|██████████| 891/891 [00:08<00:00, 101.17it/s]\n",
      "Training Epoch 396: 100%|██████████| 891/891 [00:09<00:00, 95.94it/s] \n",
      "Training Epoch 397: 100%|██████████| 891/891 [00:08<00:00, 105.96it/s]\n",
      "Training Epoch 398: 100%|██████████| 891/891 [00:08<00:00, 109.74it/s]\n",
      "Training Epoch 399: 100%|██████████| 891/891 [00:08<00:00, 104.36it/s]\n",
      "Training Epoch 400: 100%|██████████| 891/891 [00:08<00:00, 103.60it/s]\n",
      "Training Epoch 401: 100%|██████████| 891/891 [00:08<00:00, 110.92it/s]\n"
     ]
    },
    {
     "name": "stdout",
     "output_type": "stream",
     "text": [
      "Epoch 400 - Train Loss: 0.0766, Train MSE: 0.0766, Train MAE: 0.2047\n",
      "Epoch 400 - Validation Loss: 0.9396, Validation MSE: 0.9409, Validation MAE: 0.7290\n"
     ]
    },
    {
     "name": "stderr",
     "output_type": "stream",
     "text": [
      "Training Epoch 402: 100%|██████████| 891/891 [00:08<00:00, 103.85it/s]\n",
      "Training Epoch 403: 100%|██████████| 891/891 [00:08<00:00, 109.88it/s]\n",
      "Training Epoch 404: 100%|██████████| 891/891 [00:08<00:00, 109.21it/s]\n",
      "Training Epoch 405: 100%|██████████| 891/891 [00:08<00:00, 110.34it/s]\n",
      "Training Epoch 406: 100%|██████████| 891/891 [00:08<00:00, 108.65it/s]\n",
      "Training Epoch 407: 100%|██████████| 891/891 [00:07<00:00, 111.51it/s]\n",
      "Training Epoch 408: 100%|██████████| 891/891 [00:07<00:00, 114.67it/s]\n",
      "Training Epoch 409: 100%|██████████| 891/891 [00:08<00:00, 109.75it/s]\n",
      "Training Epoch 410: 100%|██████████| 891/891 [00:08<00:00, 110.80it/s]\n",
      "Training Epoch 411: 100%|██████████| 891/891 [00:07<00:00, 113.82it/s]\n"
     ]
    },
    {
     "name": "stdout",
     "output_type": "stream",
     "text": [
      "Epoch 410 - Train Loss: 0.0729, Train MSE: 0.0728, Train MAE: 0.2006\n",
      "Epoch 410 - Validation Loss: 0.9576, Validation MSE: 0.9583, Validation MAE: 0.7322\n"
     ]
    },
    {
     "name": "stderr",
     "output_type": "stream",
     "text": [
      "Training Epoch 412: 100%|██████████| 891/891 [00:08<00:00, 110.76it/s]\n",
      "Training Epoch 413: 100%|██████████| 891/891 [00:08<00:00, 110.02it/s]\n",
      "Training Epoch 414: 100%|██████████| 891/891 [00:08<00:00, 106.55it/s]\n",
      "Training Epoch 415: 100%|██████████| 891/891 [00:07<00:00, 114.87it/s]\n",
      "Training Epoch 416: 100%|██████████| 891/891 [00:07<00:00, 111.72it/s]\n",
      "Training Epoch 417: 100%|██████████| 891/891 [00:07<00:00, 111.38it/s]\n",
      "Training Epoch 418: 100%|██████████| 891/891 [00:07<00:00, 113.59it/s]\n",
      "Training Epoch 419: 100%|██████████| 891/891 [00:08<00:00, 110.02it/s]\n",
      "Training Epoch 420: 100%|██████████| 891/891 [00:08<00:00, 109.82it/s]\n",
      "Training Epoch 421: 100%|██████████| 891/891 [00:08<00:00, 107.23it/s]\n"
     ]
    },
    {
     "name": "stdout",
     "output_type": "stream",
     "text": [
      "Epoch 420 - Train Loss: 0.0724, Train MSE: 0.0724, Train MAE: 0.1996\n",
      "Epoch 420 - Validation Loss: 0.9547, Validation MSE: 0.9557, Validation MAE: 0.7313\n"
     ]
    },
    {
     "name": "stderr",
     "output_type": "stream",
     "text": [
      "Training Epoch 422: 100%|██████████| 891/891 [00:08<00:00, 107.73it/s]\n",
      "Training Epoch 423: 100%|██████████| 891/891 [00:08<00:00, 105.93it/s]\n",
      "Training Epoch 424: 100%|██████████| 891/891 [00:08<00:00, 106.98it/s]\n",
      "Training Epoch 425: 100%|██████████| 891/891 [00:07<00:00, 111.42it/s]\n",
      "Training Epoch 426: 100%|██████████| 891/891 [00:08<00:00, 109.85it/s]\n",
      "Training Epoch 427: 100%|██████████| 891/891 [00:08<00:00, 110.72it/s]\n",
      "Training Epoch 428: 100%|██████████| 891/891 [00:08<00:00, 111.35it/s]\n",
      "Training Epoch 429: 100%|██████████| 891/891 [00:08<00:00, 111.23it/s]\n",
      "Training Epoch 430: 100%|██████████| 891/891 [00:07<00:00, 111.45it/s]\n",
      "Training Epoch 431: 100%|██████████| 891/891 [00:07<00:00, 111.80it/s]\n"
     ]
    },
    {
     "name": "stdout",
     "output_type": "stream",
     "text": [
      "Epoch 430 - Train Loss: 0.0740, Train MSE: 0.0740, Train MAE: 0.2011\n",
      "Epoch 430 - Validation Loss: 0.9372, Validation MSE: 0.9375, Validation MAE: 0.7261\n"
     ]
    },
    {
     "name": "stderr",
     "output_type": "stream",
     "text": [
      "Training Epoch 432: 100%|██████████| 891/891 [00:07<00:00, 113.19it/s]\n",
      "Training Epoch 433: 100%|██████████| 891/891 [00:08<00:00, 108.38it/s]\n",
      "Training Epoch 434: 100%|██████████| 891/891 [00:08<00:00, 107.56it/s]\n",
      "Training Epoch 435: 100%|██████████| 891/891 [00:08<00:00, 106.20it/s]\n",
      "Training Epoch 436: 100%|██████████| 891/891 [00:08<00:00, 108.27it/s]\n",
      "Training Epoch 437: 100%|██████████| 891/891 [00:08<00:00, 111.19it/s]\n",
      "Training Epoch 438: 100%|██████████| 891/891 [00:08<00:00, 105.56it/s]\n",
      "Training Epoch 439: 100%|██████████| 891/891 [00:07<00:00, 114.90it/s]\n",
      "Training Epoch 440: 100%|██████████| 891/891 [00:08<00:00, 107.64it/s]\n",
      "Training Epoch 441: 100%|██████████| 891/891 [00:08<00:00, 108.15it/s]\n"
     ]
    },
    {
     "name": "stdout",
     "output_type": "stream",
     "text": [
      "Epoch 440 - Train Loss: 0.0698, Train MSE: 0.0698, Train MAE: 0.1965\n",
      "Epoch 440 - Validation Loss: 0.9273, Validation MSE: 0.9275, Validation MAE: 0.7209\n"
     ]
    },
    {
     "name": "stderr",
     "output_type": "stream",
     "text": [
      "Training Epoch 442: 100%|██████████| 891/891 [00:08<00:00, 110.45it/s]\n",
      "Training Epoch 443: 100%|██████████| 891/891 [00:08<00:00, 109.79it/s]\n",
      "Training Epoch 444: 100%|██████████| 891/891 [00:08<00:00, 111.33it/s]\n",
      "Training Epoch 445: 100%|██████████| 891/891 [00:07<00:00, 112.26it/s]\n",
      "Training Epoch 446: 100%|██████████| 891/891 [00:07<00:00, 113.65it/s]\n",
      "Training Epoch 447: 100%|██████████| 891/891 [00:08<00:00, 110.38it/s]\n",
      "Training Epoch 448: 100%|██████████| 891/891 [00:08<00:00, 110.70it/s]\n",
      "Training Epoch 449: 100%|██████████| 891/891 [00:07<00:00, 116.45it/s]\n",
      "Training Epoch 450: 100%|██████████| 891/891 [00:07<00:00, 111.68it/s]\n",
      "Training Epoch 451: 100%|██████████| 891/891 [00:08<00:00, 103.72it/s]\n"
     ]
    },
    {
     "name": "stdout",
     "output_type": "stream",
     "text": [
      "Epoch 450 - Train Loss: 0.0706, Train MSE: 0.0706, Train MAE: 0.1961\n",
      "Epoch 450 - Validation Loss: 0.9519, Validation MSE: 0.9525, Validation MAE: 0.7303\n"
     ]
    },
    {
     "name": "stderr",
     "output_type": "stream",
     "text": [
      "Training Epoch 452: 100%|██████████| 891/891 [00:08<00:00, 108.90it/s]\n",
      "Training Epoch 453: 100%|██████████| 891/891 [00:07<00:00, 114.85it/s]\n",
      "Training Epoch 454: 100%|██████████| 891/891 [00:07<00:00, 112.86it/s]\n",
      "Training Epoch 455: 100%|██████████| 891/891 [00:08<00:00, 109.58it/s]\n",
      "Training Epoch 456: 100%|██████████| 891/891 [00:08<00:00, 107.88it/s]\n",
      "Training Epoch 457: 100%|██████████| 891/891 [00:07<00:00, 111.76it/s]\n",
      "Training Epoch 458: 100%|██████████| 891/891 [00:08<00:00, 109.29it/s]\n",
      "Training Epoch 459: 100%|██████████| 891/891 [00:08<00:00, 108.02it/s]\n",
      "Training Epoch 460: 100%|██████████| 891/891 [00:07<00:00, 113.38it/s]\n",
      "Training Epoch 461: 100%|██████████| 891/891 [00:08<00:00, 109.09it/s]\n"
     ]
    },
    {
     "name": "stdout",
     "output_type": "stream",
     "text": [
      "Epoch 460 - Train Loss: 0.0678, Train MSE: 0.0678, Train MAE: 0.1931\n",
      "Epoch 460 - Validation Loss: 0.9330, Validation MSE: 0.9345, Validation MAE: 0.7193\n"
     ]
    },
    {
     "name": "stderr",
     "output_type": "stream",
     "text": [
      "Training Epoch 462: 100%|██████████| 891/891 [00:08<00:00, 107.02it/s]\n",
      "Training Epoch 463: 100%|██████████| 891/891 [00:08<00:00, 110.38it/s]\n",
      "Training Epoch 464: 100%|██████████| 891/891 [00:08<00:00, 108.85it/s]\n",
      "Training Epoch 465: 100%|██████████| 891/891 [00:08<00:00, 105.74it/s]\n",
      "Training Epoch 466: 100%|██████████| 891/891 [00:08<00:00, 105.90it/s]\n",
      "Training Epoch 467: 100%|██████████| 891/891 [00:08<00:00, 110.46it/s]\n",
      "Training Epoch 468: 100%|██████████| 891/891 [00:08<00:00, 106.14it/s]\n",
      "Training Epoch 469: 100%|██████████| 891/891 [00:07<00:00, 112.07it/s]\n",
      "Training Epoch 470: 100%|██████████| 891/891 [00:08<00:00, 109.52it/s]\n",
      "Training Epoch 471: 100%|██████████| 891/891 [00:08<00:00, 110.24it/s]\n"
     ]
    },
    {
     "name": "stdout",
     "output_type": "stream",
     "text": [
      "Epoch 470 - Train Loss: 0.0673, Train MSE: 0.0672, Train MAE: 0.1915\n",
      "Epoch 470 - Validation Loss: 0.9527, Validation MSE: 0.9536, Validation MAE: 0.7280\n"
     ]
    },
    {
     "name": "stderr",
     "output_type": "stream",
     "text": [
      "Training Epoch 472: 100%|██████████| 891/891 [00:08<00:00, 109.16it/s]\n",
      "Training Epoch 473: 100%|██████████| 891/891 [00:07<00:00, 111.91it/s]\n",
      "Training Epoch 474: 100%|██████████| 891/891 [00:08<00:00, 110.26it/s]\n",
      "Training Epoch 475: 100%|██████████| 891/891 [00:08<00:00, 110.67it/s]\n",
      "Training Epoch 476: 100%|██████████| 891/891 [00:08<00:00, 110.44it/s]\n",
      "Training Epoch 477: 100%|██████████| 891/891 [00:07<00:00, 115.63it/s]\n",
      "Training Epoch 478: 100%|██████████| 891/891 [00:08<00:00, 111.00it/s]\n",
      "Training Epoch 479: 100%|██████████| 891/891 [00:08<00:00, 107.26it/s]\n",
      "Training Epoch 480: 100%|██████████| 891/891 [00:08<00:00, 110.50it/s]\n",
      "Training Epoch 481: 100%|██████████| 891/891 [00:08<00:00, 111.00it/s]\n"
     ]
    },
    {
     "name": "stdout",
     "output_type": "stream",
     "text": [
      "Epoch 480 - Train Loss: 0.0655, Train MSE: 0.0655, Train MAE: 0.1893\n",
      "Epoch 480 - Validation Loss: 0.9338, Validation MSE: 0.9349, Validation MAE: 0.7243\n"
     ]
    },
    {
     "name": "stderr",
     "output_type": "stream",
     "text": [
      "Training Epoch 482: 100%|██████████| 891/891 [00:08<00:00, 106.19it/s]\n",
      "Training Epoch 483: 100%|██████████| 891/891 [00:08<00:00, 106.48it/s]\n",
      "Training Epoch 484: 100%|██████████| 891/891 [00:08<00:00, 111.37it/s]\n",
      "Training Epoch 485: 100%|██████████| 891/891 [00:08<00:00, 104.25it/s]\n",
      "Training Epoch 486: 100%|██████████| 891/891 [00:08<00:00, 108.00it/s]\n",
      "Training Epoch 487: 100%|██████████| 891/891 [00:07<00:00, 114.19it/s]\n",
      "Training Epoch 488: 100%|██████████| 891/891 [00:07<00:00, 111.62it/s]\n",
      "Training Epoch 489: 100%|██████████| 891/891 [00:07<00:00, 113.49it/s]\n",
      "Training Epoch 490: 100%|██████████| 891/891 [00:08<00:00, 108.21it/s]\n",
      "Training Epoch 491: 100%|██████████| 891/891 [00:08<00:00, 108.33it/s]\n"
     ]
    },
    {
     "name": "stdout",
     "output_type": "stream",
     "text": [
      "Epoch 490 - Train Loss: 0.0687, Train MSE: 0.0688, Train MAE: 0.1915\n",
      "Epoch 490 - Validation Loss: 0.9636, Validation MSE: 0.9629, Validation MAE: 0.7336\n"
     ]
    },
    {
     "name": "stderr",
     "output_type": "stream",
     "text": [
      "Training Epoch 492: 100%|██████████| 891/891 [00:08<00:00, 106.66it/s]\n",
      "Training Epoch 493: 100%|██████████| 891/891 [00:08<00:00, 107.82it/s]\n",
      "Training Epoch 494: 100%|██████████| 891/891 [00:07<00:00, 112.62it/s]\n",
      "Training Epoch 495: 100%|██████████| 891/891 [00:08<00:00, 108.06it/s]\n",
      "Training Epoch 496: 100%|██████████| 891/891 [00:08<00:00, 107.67it/s]\n",
      "Training Epoch 497: 100%|██████████| 891/891 [00:08<00:00, 109.91it/s]\n",
      "Training Epoch 498: 100%|██████████| 891/891 [00:07<00:00, 113.89it/s]\n",
      "Training Epoch 499: 100%|██████████| 891/891 [00:08<00:00, 109.45it/s]\n",
      "Training Epoch 500: 100%|██████████| 891/891 [00:08<00:00, 107.14it/s]\n",
      "Training Epoch 501: 100%|██████████| 891/891 [00:07<00:00, 112.96it/s]\n"
     ]
    },
    {
     "name": "stdout",
     "output_type": "stream",
     "text": [
      "Epoch 500 - Train Loss: 0.0650, Train MSE: 0.0650, Train MAE: 0.1887\n",
      "Epoch 500 - Validation Loss: 0.9563, Validation MSE: 0.9575, Validation MAE: 0.7294\n"
     ]
    },
    {
     "name": "stderr",
     "output_type": "stream",
     "text": [
      "Training Epoch 502: 100%|██████████| 891/891 [00:08<00:00, 109.44it/s]\n",
      "Training Epoch 503: 100%|██████████| 891/891 [00:08<00:00, 109.65it/s]\n",
      "Training Epoch 504: 100%|██████████| 891/891 [00:07<00:00, 111.51it/s]\n",
      "Training Epoch 505: 100%|██████████| 891/891 [00:07<00:00, 113.57it/s]\n",
      "Training Epoch 506: 100%|██████████| 891/891 [00:08<00:00, 109.47it/s]\n",
      "Training Epoch 507: 100%|██████████| 891/891 [00:08<00:00, 110.18it/s]\n",
      "Training Epoch 508: 100%|██████████| 891/891 [00:08<00:00, 111.29it/s]\n",
      "Training Epoch 509: 100%|██████████| 891/891 [00:07<00:00, 111.59it/s]\n",
      "Training Epoch 510: 100%|██████████| 891/891 [00:08<00:00, 108.82it/s]\n",
      "Training Epoch 511: 100%|██████████| 891/891 [00:07<00:00, 111.74it/s]\n"
     ]
    },
    {
     "name": "stdout",
     "output_type": "stream",
     "text": [
      "Epoch 510 - Train Loss: 0.0624, Train MSE: 0.0624, Train MAE: 0.1853\n",
      "Epoch 510 - Validation Loss: 0.9626, Validation MSE: 0.9629, Validation MAE: 0.7298\n"
     ]
    },
    {
     "name": "stderr",
     "output_type": "stream",
     "text": [
      "Training Epoch 512: 100%|██████████| 891/891 [00:07<00:00, 113.06it/s]\n",
      "Training Epoch 513: 100%|██████████| 891/891 [00:08<00:00, 110.57it/s]\n",
      "Training Epoch 514: 100%|██████████| 891/891 [00:08<00:00, 110.72it/s]\n",
      "Training Epoch 515: 100%|██████████| 891/891 [00:07<00:00, 115.77it/s]\n",
      "Training Epoch 516: 100%|██████████| 891/891 [00:07<00:00, 112.06it/s]\n",
      "Training Epoch 517: 100%|██████████| 891/891 [00:07<00:00, 111.46it/s]\n",
      "Training Epoch 518: 100%|██████████| 891/891 [00:07<00:00, 111.75it/s]\n",
      "Training Epoch 519: 100%|██████████| 891/891 [00:07<00:00, 113.63it/s]\n",
      "Training Epoch 520: 100%|██████████| 891/891 [00:07<00:00, 112.19it/s]\n",
      "Training Epoch 521: 100%|██████████| 891/891 [00:07<00:00, 111.45it/s]\n"
     ]
    },
    {
     "name": "stdout",
     "output_type": "stream",
     "text": [
      "Epoch 520 - Train Loss: 0.0652, Train MSE: 0.0649, Train MAE: 0.1867\n",
      "Epoch 520 - Validation Loss: 0.9590, Validation MSE: 0.9601, Validation MAE: 0.7297\n"
     ]
    },
    {
     "name": "stderr",
     "output_type": "stream",
     "text": [
      "Training Epoch 522: 100%|██████████| 891/891 [00:07<00:00, 114.16it/s]\n",
      "Training Epoch 523: 100%|██████████| 891/891 [00:07<00:00, 111.86it/s]\n",
      "Training Epoch 524: 100%|██████████| 891/891 [00:07<00:00, 111.41it/s]\n",
      "Training Epoch 525: 100%|██████████| 891/891 [00:07<00:00, 112.58it/s]\n",
      "Training Epoch 526: 100%|██████████| 891/891 [00:07<00:00, 115.20it/s]\n",
      "Training Epoch 527: 100%|██████████| 891/891 [00:07<00:00, 113.19it/s]\n",
      "Training Epoch 528: 100%|██████████| 891/891 [00:08<00:00, 109.92it/s]\n",
      "Training Epoch 529: 100%|██████████| 891/891 [00:07<00:00, 112.90it/s]\n",
      "Training Epoch 530: 100%|██████████| 891/891 [00:08<00:00, 109.20it/s]\n",
      "Training Epoch 531: 100%|██████████| 891/891 [00:08<00:00, 110.73it/s]\n"
     ]
    },
    {
     "name": "stdout",
     "output_type": "stream",
     "text": [
      "Epoch 530 - Train Loss: 0.0616, Train MSE: 0.0616, Train MAE: 0.1833\n",
      "Epoch 530 - Validation Loss: 0.9288, Validation MSE: 0.9297, Validation MAE: 0.7192\n"
     ]
    },
    {
     "name": "stderr",
     "output_type": "stream",
     "text": [
      "Training Epoch 532: 100%|██████████| 891/891 [00:08<00:00, 110.92it/s]\n",
      "Training Epoch 533: 100%|██████████| 891/891 [00:07<00:00, 113.75it/s]\n",
      "Training Epoch 534: 100%|██████████| 891/891 [00:07<00:00, 111.43it/s]\n",
      "Training Epoch 535: 100%|██████████| 891/891 [00:08<00:00, 108.38it/s]\n",
      "Training Epoch 536: 100%|██████████| 891/891 [00:07<00:00, 116.78it/s]\n",
      "Training Epoch 537: 100%|██████████| 891/891 [00:07<00:00, 113.31it/s]\n",
      "Training Epoch 538: 100%|██████████| 891/891 [00:08<00:00, 110.84it/s]\n",
      "Training Epoch 539: 100%|██████████| 891/891 [00:08<00:00, 110.63it/s]\n",
      "Training Epoch 540: 100%|██████████| 891/891 [00:07<00:00, 114.56it/s]\n",
      "Training Epoch 541: 100%|██████████| 891/891 [00:08<00:00, 110.11it/s]\n"
     ]
    },
    {
     "name": "stdout",
     "output_type": "stream",
     "text": [
      "Epoch 540 - Train Loss: 0.0628, Train MSE: 0.0628, Train MAE: 0.1838\n",
      "Epoch 540 - Validation Loss: 0.9486, Validation MSE: 0.9497, Validation MAE: 0.7277\n"
     ]
    },
    {
     "name": "stderr",
     "output_type": "stream",
     "text": [
      "Training Epoch 542: 100%|██████████| 891/891 [00:08<00:00, 110.86it/s]\n",
      "Training Epoch 543: 100%|██████████| 891/891 [00:07<00:00, 112.38it/s]\n",
      "Training Epoch 544: 100%|██████████| 891/891 [00:08<00:00, 110.50it/s]\n",
      "Training Epoch 545: 100%|██████████| 891/891 [00:07<00:00, 111.84it/s]\n",
      "Training Epoch 546: 100%|██████████| 891/891 [00:07<00:00, 113.67it/s]\n",
      "Training Epoch 547: 100%|██████████| 891/891 [00:07<00:00, 118.01it/s]\n",
      "Training Epoch 548: 100%|██████████| 891/891 [00:07<00:00, 111.77it/s]\n",
      "Training Epoch 549: 100%|██████████| 891/891 [00:08<00:00, 107.13it/s]\n",
      "Training Epoch 550: 100%|██████████| 891/891 [00:08<00:00, 110.68it/s]\n",
      "Training Epoch 551: 100%|██████████| 891/891 [00:07<00:00, 111.93it/s]\n"
     ]
    },
    {
     "name": "stdout",
     "output_type": "stream",
     "text": [
      "Epoch 550 - Train Loss: 0.0609, Train MSE: 0.0609, Train MAE: 0.1819\n",
      "Epoch 550 - Validation Loss: 0.9204, Validation MSE: 0.9216, Validation MAE: 0.7125\n"
     ]
    },
    {
     "name": "stderr",
     "output_type": "stream",
     "text": [
      "Training Epoch 552: 100%|██████████| 891/891 [00:07<00:00, 111.56it/s]\n",
      "Training Epoch 553: 100%|██████████| 891/891 [00:08<00:00, 109.72it/s]\n",
      "Training Epoch 554: 100%|██████████| 891/891 [00:07<00:00, 114.58it/s]\n",
      "Training Epoch 555: 100%|██████████| 891/891 [00:08<00:00, 111.32it/s]\n",
      "Training Epoch 556: 100%|██████████| 891/891 [00:08<00:00, 110.62it/s]\n",
      "Training Epoch 557: 100%|██████████| 891/891 [00:07<00:00, 113.68it/s]\n",
      "Training Epoch 558: 100%|██████████| 891/891 [00:07<00:00, 112.90it/s]\n",
      "Training Epoch 559: 100%|██████████| 891/891 [00:08<00:00, 110.85it/s]\n",
      "Training Epoch 560: 100%|██████████| 891/891 [00:08<00:00, 110.61it/s]\n",
      "Training Epoch 561: 100%|██████████| 891/891 [00:07<00:00, 113.60it/s]\n"
     ]
    },
    {
     "name": "stdout",
     "output_type": "stream",
     "text": [
      "Epoch 560 - Train Loss: 0.0619, Train MSE: 0.0619, Train MAE: 0.1829\n",
      "Epoch 560 - Validation Loss: 0.9211, Validation MSE: 0.9224, Validation MAE: 0.7169\n"
     ]
    },
    {
     "name": "stderr",
     "output_type": "stream",
     "text": [
      "Training Epoch 562: 100%|██████████| 891/891 [00:07<00:00, 111.71it/s]\n",
      "Training Epoch 563: 100%|██████████| 891/891 [00:07<00:00, 113.88it/s]\n",
      "Training Epoch 564: 100%|██████████| 891/891 [00:07<00:00, 111.43it/s]\n",
      "Training Epoch 565: 100%|██████████| 891/891 [00:07<00:00, 114.54it/s]\n",
      "Training Epoch 566: 100%|██████████| 891/891 [00:07<00:00, 113.32it/s]\n",
      "Training Epoch 567: 100%|██████████| 891/891 [00:07<00:00, 112.01it/s]\n",
      "Training Epoch 568: 100%|██████████| 891/891 [00:07<00:00, 116.01it/s]\n",
      "Training Epoch 569: 100%|██████████| 891/891 [00:08<00:00, 110.80it/s]\n",
      "Training Epoch 570: 100%|██████████| 891/891 [00:07<00:00, 112.31it/s]\n",
      "Training Epoch 571: 100%|██████████| 891/891 [00:08<00:00, 109.12it/s]\n"
     ]
    },
    {
     "name": "stdout",
     "output_type": "stream",
     "text": [
      "Epoch 570 - Train Loss: 0.0583, Train MSE: 0.0583, Train MAE: 0.1788\n",
      "Epoch 570 - Validation Loss: 0.9218, Validation MSE: 0.9233, Validation MAE: 0.7175\n"
     ]
    },
    {
     "name": "stderr",
     "output_type": "stream",
     "text": [
      "Training Epoch 572: 100%|██████████| 891/891 [00:07<00:00, 117.25it/s]\n",
      "Training Epoch 573: 100%|██████████| 891/891 [00:07<00:00, 113.27it/s]\n",
      "Training Epoch 574: 100%|██████████| 891/891 [00:08<00:00, 109.89it/s]\n",
      "Training Epoch 575: 100%|██████████| 891/891 [00:07<00:00, 113.98it/s]\n",
      "Training Epoch 576: 100%|██████████| 891/891 [00:07<00:00, 112.94it/s]\n",
      "Training Epoch 577: 100%|██████████| 891/891 [00:07<00:00, 113.31it/s]\n",
      "Training Epoch 578: 100%|██████████| 891/891 [00:07<00:00, 114.75it/s]\n",
      "Training Epoch 579: 100%|██████████| 891/891 [00:07<00:00, 113.36it/s]\n",
      "Training Epoch 580: 100%|██████████| 891/891 [00:07<00:00, 111.63it/s]\n",
      "Training Epoch 581: 100%|██████████| 891/891 [00:08<00:00, 110.63it/s]\n"
     ]
    },
    {
     "name": "stdout",
     "output_type": "stream",
     "text": [
      "Epoch 580 - Train Loss: 0.0597, Train MSE: 0.0598, Train MAE: 0.1799\n",
      "Epoch 580 - Validation Loss: 0.9269, Validation MSE: 0.9278, Validation MAE: 0.7179\n"
     ]
    },
    {
     "name": "stderr",
     "output_type": "stream",
     "text": [
      "Training Epoch 582: 100%|██████████| 891/891 [00:07<00:00, 111.73it/s]\n",
      "Training Epoch 583: 100%|██████████| 891/891 [00:07<00:00, 112.71it/s]\n",
      "Training Epoch 584: 100%|██████████| 891/891 [00:07<00:00, 112.45it/s]\n",
      "Training Epoch 585: 100%|██████████| 891/891 [00:08<00:00, 110.29it/s]\n",
      "Training Epoch 586: 100%|██████████| 891/891 [00:08<00:00, 108.44it/s]\n",
      "Training Epoch 587: 100%|██████████| 891/891 [00:07<00:00, 111.88it/s]\n",
      "Training Epoch 588: 100%|██████████| 891/891 [00:08<00:00, 107.83it/s]\n",
      "Training Epoch 589: 100%|██████████| 891/891 [00:09<00:00, 96.61it/s] \n",
      "Training Epoch 590: 100%|██████████| 891/891 [00:08<00:00, 105.94it/s]\n",
      "Training Epoch 591: 100%|██████████| 891/891 [00:07<00:00, 111.50it/s]\n"
     ]
    },
    {
     "name": "stdout",
     "output_type": "stream",
     "text": [
      "Epoch 590 - Train Loss: 0.0586, Train MSE: 0.0585, Train MAE: 0.1774\n",
      "Epoch 590 - Validation Loss: 0.9625, Validation MSE: 0.9647, Validation MAE: 0.7297\n"
     ]
    },
    {
     "name": "stderr",
     "output_type": "stream",
     "text": [
      "Training Epoch 592: 100%|██████████| 891/891 [00:08<00:00, 110.70it/s]\n",
      "Training Epoch 593: 100%|██████████| 891/891 [00:07<00:00, 112.28it/s]\n",
      "Training Epoch 594: 100%|██████████| 891/891 [00:08<00:00, 107.50it/s]\n",
      "Training Epoch 595: 100%|██████████| 891/891 [00:08<00:00, 102.19it/s]\n",
      "Training Epoch 596: 100%|██████████| 891/891 [00:07<00:00, 114.93it/s]\n",
      "Training Epoch 597: 100%|██████████| 891/891 [00:07<00:00, 111.71it/s]\n",
      "Training Epoch 598: 100%|██████████| 891/891 [00:08<00:00, 110.27it/s]\n",
      "Training Epoch 599: 100%|██████████| 891/891 [00:07<00:00, 114.26it/s]\n",
      "Training Epoch 600: 100%|██████████| 891/891 [00:07<00:00, 111.51it/s]\n",
      "Training Epoch 601: 100%|██████████| 891/891 [00:08<00:00, 110.26it/s]\n"
     ]
    },
    {
     "name": "stdout",
     "output_type": "stream",
     "text": [
      "Epoch 600 - Train Loss: 0.0590, Train MSE: 0.0589, Train MAE: 0.1780\n",
      "Epoch 600 - Validation Loss: 0.9598, Validation MSE: 0.9602, Validation MAE: 0.7304\n"
     ]
    },
    {
     "name": "stderr",
     "output_type": "stream",
     "text": [
      "Training Epoch 602: 100%|██████████| 891/891 [00:07<00:00, 113.26it/s]\n",
      "Training Epoch 603: 100%|██████████| 891/891 [00:08<00:00, 110.94it/s]\n",
      "Training Epoch 604: 100%|██████████| 891/891 [00:07<00:00, 115.45it/s]\n",
      "Training Epoch 605: 100%|██████████| 891/891 [00:07<00:00, 113.08it/s]\n",
      "Training Epoch 606: 100%|██████████| 891/891 [00:08<00:00, 110.13it/s]\n",
      "Training Epoch 607: 100%|██████████| 891/891 [00:07<00:00, 113.17it/s]\n",
      "Training Epoch 608: 100%|██████████| 891/891 [00:08<00:00, 108.46it/s]\n",
      "Training Epoch 609: 100%|██████████| 891/891 [00:08<00:00, 109.73it/s]\n",
      "Training Epoch 610: 100%|██████████| 891/891 [00:09<00:00, 97.10it/s] \n",
      "Training Epoch 611: 100%|██████████| 891/891 [00:07<00:00, 112.84it/s]\n"
     ]
    },
    {
     "name": "stdout",
     "output_type": "stream",
     "text": [
      "Epoch 610 - Train Loss: 0.0567, Train MSE: 0.0567, Train MAE: 0.1754\n",
      "Epoch 610 - Validation Loss: 0.9554, Validation MSE: 0.9560, Validation MAE: 0.7320\n"
     ]
    },
    {
     "name": "stderr",
     "output_type": "stream",
     "text": [
      "Training Epoch 612: 100%|██████████| 891/891 [00:08<00:00, 110.78it/s]\n",
      "Training Epoch 613: 100%|██████████| 891/891 [00:08<00:00, 109.17it/s]\n",
      "Training Epoch 614: 100%|██████████| 891/891 [00:08<00:00, 110.34it/s]\n",
      "Training Epoch 615: 100%|██████████| 891/891 [00:08<00:00, 111.36it/s]\n",
      "Training Epoch 616: 100%|██████████| 891/891 [00:08<00:00, 110.07it/s]\n",
      "Training Epoch 617: 100%|██████████| 891/891 [00:08<00:00, 111.15it/s]\n",
      "Training Epoch 618: 100%|██████████| 891/891 [00:07<00:00, 115.17it/s]\n",
      "Training Epoch 619: 100%|██████████| 891/891 [00:08<00:00, 109.62it/s]\n",
      "Training Epoch 620: 100%|██████████| 891/891 [00:08<00:00, 108.95it/s]\n",
      "Training Epoch 621: 100%|██████████| 891/891 [00:08<00:00, 109.86it/s]\n"
     ]
    },
    {
     "name": "stdout",
     "output_type": "stream",
     "text": [
      "Epoch 620 - Train Loss: 0.0593, Train MSE: 0.0593, Train MAE: 0.1788\n",
      "Epoch 620 - Validation Loss: 0.9447, Validation MSE: 0.9456, Validation MAE: 0.7235\n"
     ]
    },
    {
     "name": "stderr",
     "output_type": "stream",
     "text": [
      "Training Epoch 622: 100%|██████████| 891/891 [00:08<00:00, 109.06it/s]\n",
      "Training Epoch 623: 100%|██████████| 891/891 [00:08<00:00, 111.25it/s]\n",
      "Training Epoch 624: 100%|██████████| 891/891 [00:08<00:00, 108.89it/s]\n",
      "Training Epoch 625: 100%|██████████| 891/891 [00:07<00:00, 114.86it/s]\n",
      "Training Epoch 626: 100%|██████████| 891/891 [00:08<00:00, 110.28it/s]\n",
      "Training Epoch 627: 100%|██████████| 891/891 [00:08<00:00, 109.62it/s]\n",
      "Training Epoch 628: 100%|██████████| 891/891 [00:08<00:00, 109.27it/s]\n",
      "Training Epoch 629: 100%|██████████| 891/891 [00:08<00:00, 110.58it/s]\n",
      "Training Epoch 630: 100%|██████████| 891/891 [00:08<00:00, 109.99it/s]\n",
      "Training Epoch 631: 100%|██████████| 891/891 [00:08<00:00, 107.00it/s]\n"
     ]
    },
    {
     "name": "stdout",
     "output_type": "stream",
     "text": [
      "Epoch 630 - Train Loss: 0.0561, Train MSE: 0.0561, Train MAE: 0.1755\n",
      "Epoch 630 - Validation Loss: 0.9478, Validation MSE: 0.9485, Validation MAE: 0.7242\n"
     ]
    },
    {
     "name": "stderr",
     "output_type": "stream",
     "text": [
      "Training Epoch 632: 100%|██████████| 891/891 [00:07<00:00, 113.90it/s]\n",
      "Training Epoch 633: 100%|██████████| 891/891 [00:07<00:00, 112.24it/s]\n",
      "Training Epoch 634: 100%|██████████| 891/891 [00:08<00:00, 109.64it/s]\n",
      "Training Epoch 635: 100%|██████████| 891/891 [00:07<00:00, 111.53it/s]\n",
      "Training Epoch 636: 100%|██████████| 891/891 [00:08<00:00, 107.82it/s]\n",
      "Training Epoch 637: 100%|██████████| 891/891 [00:08<00:00, 110.17it/s]\n",
      "Training Epoch 638: 100%|██████████| 891/891 [00:07<00:00, 112.83it/s]\n",
      "Training Epoch 639: 100%|██████████| 891/891 [00:07<00:00, 117.19it/s]\n",
      "Training Epoch 640: 100%|██████████| 891/891 [00:07<00:00, 113.30it/s]\n",
      "Training Epoch 641: 100%|██████████| 891/891 [00:07<00:00, 112.44it/s]\n"
     ]
    },
    {
     "name": "stdout",
     "output_type": "stream",
     "text": [
      "Epoch 640 - Train Loss: 0.0545, Train MSE: 0.0544, Train MAE: 0.1722\n",
      "Epoch 640 - Validation Loss: 0.9417, Validation MSE: 0.9437, Validation MAE: 0.7232\n"
     ]
    },
    {
     "name": "stderr",
     "output_type": "stream",
     "text": [
      "Training Epoch 642: 100%|██████████| 891/891 [00:07<00:00, 114.14it/s]\n",
      "Training Epoch 643: 100%|██████████| 891/891 [00:07<00:00, 112.83it/s]\n",
      "Training Epoch 644: 100%|██████████| 891/891 [00:07<00:00, 113.13it/s]\n",
      "Training Epoch 645: 100%|██████████| 891/891 [00:07<00:00, 111.38it/s]\n",
      "Training Epoch 646: 100%|██████████| 891/891 [00:07<00:00, 115.74it/s]\n",
      "Training Epoch 647: 100%|██████████| 891/891 [00:07<00:00, 114.01it/s]\n",
      "Training Epoch 648: 100%|██████████| 891/891 [00:07<00:00, 113.28it/s]\n",
      "Training Epoch 649: 100%|██████████| 891/891 [00:07<00:00, 112.98it/s]\n",
      "Training Epoch 650: 100%|██████████| 891/891 [00:07<00:00, 112.04it/s]\n",
      "Training Epoch 651: 100%|██████████| 891/891 [00:08<00:00, 109.34it/s]\n"
     ]
    },
    {
     "name": "stdout",
     "output_type": "stream",
     "text": [
      "Epoch 650 - Train Loss: 0.0543, Train MSE: 0.0543, Train MAE: 0.1724\n",
      "Epoch 650 - Validation Loss: 0.9242, Validation MSE: 0.9243, Validation MAE: 0.7167\n"
     ]
    },
    {
     "name": "stderr",
     "output_type": "stream",
     "text": [
      "Training Epoch 652: 100%|██████████| 891/891 [00:07<00:00, 113.57it/s]\n",
      "Training Epoch 653: 100%|██████████| 891/891 [00:07<00:00, 115.74it/s]\n",
      "Training Epoch 654: 100%|██████████| 891/891 [00:07<00:00, 112.64it/s]\n",
      "Training Epoch 655: 100%|██████████| 891/891 [00:07<00:00, 111.75it/s]\n",
      "Training Epoch 656: 100%|██████████| 891/891 [00:08<00:00, 106.39it/s]\n",
      "Training Epoch 657: 100%|██████████| 891/891 [00:08<00:00, 107.43it/s]\n",
      "Training Epoch 658: 100%|██████████| 891/891 [00:08<00:00, 110.68it/s]\n",
      "Training Epoch 659: 100%|██████████| 891/891 [00:07<00:00, 112.79it/s]\n",
      "Training Epoch 660: 100%|██████████| 891/891 [00:07<00:00, 113.54it/s]\n",
      "Training Epoch 661: 100%|██████████| 891/891 [00:08<00:00, 108.93it/s]\n"
     ]
    },
    {
     "name": "stdout",
     "output_type": "stream",
     "text": [
      "Epoch 660 - Train Loss: 0.0559, Train MSE: 0.0560, Train MAE: 0.1722\n",
      "Epoch 660 - Validation Loss: 0.9496, Validation MSE: 0.9492, Validation MAE: 0.7224\n"
     ]
    },
    {
     "name": "stderr",
     "output_type": "stream",
     "text": [
      "Training Epoch 662: 100%|██████████| 891/891 [00:08<00:00, 110.13it/s]\n",
      "Training Epoch 663: 100%|██████████| 891/891 [00:07<00:00, 112.09it/s]\n",
      "Training Epoch 664: 100%|██████████| 891/891 [00:08<00:00, 108.18it/s]\n",
      "Training Epoch 665: 100%|██████████| 891/891 [00:08<00:00, 108.58it/s]\n",
      "Training Epoch 666: 100%|██████████| 891/891 [00:07<00:00, 112.70it/s]\n",
      "Training Epoch 667: 100%|██████████| 891/891 [00:07<00:00, 114.16it/s]\n",
      "Training Epoch 668: 100%|██████████| 891/891 [00:07<00:00, 112.78it/s]\n",
      "Training Epoch 669: 100%|██████████| 891/891 [00:07<00:00, 112.39it/s]\n",
      "Training Epoch 670: 100%|██████████| 891/891 [00:07<00:00, 112.67it/s]\n",
      "Training Epoch 671: 100%|██████████| 891/891 [00:07<00:00, 115.69it/s]\n"
     ]
    },
    {
     "name": "stdout",
     "output_type": "stream",
     "text": [
      "Epoch 670 - Train Loss: 0.0532, Train MSE: 0.0532, Train MAE: 0.1705\n",
      "Epoch 670 - Validation Loss: 0.9506, Validation MSE: 0.9514, Validation MAE: 0.7298\n"
     ]
    },
    {
     "name": "stderr",
     "output_type": "stream",
     "text": [
      "Training Epoch 672: 100%|██████████| 891/891 [00:08<00:00, 111.08it/s]\n",
      "Training Epoch 673: 100%|██████████| 891/891 [00:08<00:00, 107.91it/s]\n",
      "Training Epoch 674: 100%|██████████| 891/891 [00:08<00:00, 109.64it/s]\n",
      "Training Epoch 675: 100%|██████████| 891/891 [00:07<00:00, 113.11it/s]\n",
      "Training Epoch 676: 100%|██████████| 891/891 [00:07<00:00, 113.57it/s]\n",
      "Training Epoch 677: 100%|██████████| 891/891 [00:08<00:00, 110.95it/s]\n",
      "Training Epoch 678: 100%|██████████| 891/891 [00:07<00:00, 115.28it/s]\n",
      "Training Epoch 679: 100%|██████████| 891/891 [00:08<00:00, 110.30it/s]\n",
      "Training Epoch 680: 100%|██████████| 891/891 [00:07<00:00, 112.04it/s]\n",
      "Training Epoch 681: 100%|██████████| 891/891 [00:07<00:00, 111.70it/s]\n"
     ]
    },
    {
     "name": "stdout",
     "output_type": "stream",
     "text": [
      "Epoch 680 - Train Loss: 0.0553, Train MSE: 0.0553, Train MAE: 0.1718\n",
      "Epoch 680 - Validation Loss: 0.9529, Validation MSE: 0.9543, Validation MAE: 0.7251\n"
     ]
    },
    {
     "name": "stderr",
     "output_type": "stream",
     "text": [
      "Training Epoch 682: 100%|██████████| 891/891 [00:07<00:00, 114.70it/s]\n",
      "Training Epoch 683: 100%|██████████| 891/891 [00:08<00:00, 109.80it/s]\n",
      "Training Epoch 684: 100%|██████████| 891/891 [00:07<00:00, 112.61it/s]\n",
      "Training Epoch 685: 100%|██████████| 891/891 [00:07<00:00, 114.27it/s]\n",
      "Training Epoch 686: 100%|██████████| 891/891 [00:07<00:00, 111.83it/s]\n",
      "Training Epoch 687: 100%|██████████| 891/891 [00:07<00:00, 112.76it/s]\n",
      "Training Epoch 688: 100%|██████████| 891/891 [00:08<00:00, 109.39it/s]\n",
      "Training Epoch 689: 100%|██████████| 891/891 [00:07<00:00, 112.98it/s]\n",
      "Training Epoch 690: 100%|██████████| 891/891 [00:07<00:00, 111.48it/s]\n",
      "Training Epoch 691: 100%|██████████| 891/891 [00:07<00:00, 111.40it/s]\n"
     ]
    },
    {
     "name": "stdout",
     "output_type": "stream",
     "text": [
      "Epoch 690 - Train Loss: 0.0540, Train MSE: 0.0540, Train MAE: 0.1699\n",
      "Epoch 690 - Validation Loss: 0.9448, Validation MSE: 0.9459, Validation MAE: 0.7242\n"
     ]
    },
    {
     "name": "stderr",
     "output_type": "stream",
     "text": [
      "Training Epoch 692: 100%|██████████| 891/891 [00:07<00:00, 115.28it/s]\n",
      "Training Epoch 693: 100%|██████████| 891/891 [00:07<00:00, 112.62it/s]\n",
      "Training Epoch 694: 100%|██████████| 891/891 [00:08<00:00, 108.63it/s]\n",
      "Training Epoch 695: 100%|██████████| 891/891 [00:08<00:00, 107.26it/s]\n",
      "Training Epoch 696: 100%|██████████| 891/891 [00:07<00:00, 113.76it/s]\n",
      "Training Epoch 697: 100%|██████████| 891/891 [00:08<00:00, 111.10it/s]\n",
      "Training Epoch 698: 100%|██████████| 891/891 [00:08<00:00, 111.15it/s]\n",
      "Training Epoch 699: 100%|██████████| 891/891 [00:07<00:00, 113.30it/s]\n",
      "Training Epoch 700: 100%|██████████| 891/891 [00:08<00:00, 105.02it/s]\n",
      "Training Epoch 701: 100%|██████████| 891/891 [00:08<00:00, 100.25it/s]\n"
     ]
    },
    {
     "name": "stdout",
     "output_type": "stream",
     "text": [
      "Epoch 700 - Train Loss: 0.0508, Train MSE: 0.0509, Train MAE: 0.1671\n",
      "Epoch 700 - Validation Loss: 0.9649, Validation MSE: 0.9669, Validation MAE: 0.7313\n"
     ]
    },
    {
     "name": "stderr",
     "output_type": "stream",
     "text": [
      "Training Epoch 702: 100%|██████████| 891/891 [00:08<00:00, 106.47it/s]\n",
      "Training Epoch 703: 100%|██████████| 891/891 [00:07<00:00, 111.48it/s]\n",
      "Training Epoch 704: 100%|██████████| 891/891 [00:08<00:00, 110.47it/s]\n",
      "Training Epoch 705: 100%|██████████| 891/891 [00:07<00:00, 111.75it/s]\n",
      "Training Epoch 706: 100%|██████████| 891/891 [00:07<00:00, 112.09it/s]\n",
      "Training Epoch 707: 100%|██████████| 891/891 [00:08<00:00, 111.29it/s]\n",
      "Training Epoch 708: 100%|██████████| 891/891 [00:08<00:00, 108.27it/s]\n",
      "Training Epoch 709: 100%|██████████| 891/891 [00:08<00:00, 110.36it/s]\n",
      "Training Epoch 710: 100%|██████████| 891/891 [00:07<00:00, 115.86it/s]\n",
      "Training Epoch 711: 100%|██████████| 891/891 [00:08<00:00, 111.16it/s]\n"
     ]
    },
    {
     "name": "stdout",
     "output_type": "stream",
     "text": [
      "Epoch 710 - Train Loss: 0.0512, Train MSE: 0.0512, Train MAE: 0.1665\n",
      "Epoch 710 - Validation Loss: 0.9351, Validation MSE: 0.9362, Validation MAE: 0.7200\n"
     ]
    },
    {
     "name": "stderr",
     "output_type": "stream",
     "text": [
      "Training Epoch 712: 100%|██████████| 891/891 [00:07<00:00, 111.59it/s]\n",
      "Training Epoch 713: 100%|██████████| 891/891 [00:07<00:00, 111.99it/s]\n",
      "Training Epoch 714: 100%|██████████| 891/891 [00:07<00:00, 114.85it/s]\n",
      "Training Epoch 715: 100%|██████████| 891/891 [00:08<00:00, 108.80it/s]\n",
      "Training Epoch 716: 100%|██████████| 891/891 [00:07<00:00, 111.45it/s]\n",
      "Training Epoch 717: 100%|██████████| 891/891 [00:07<00:00, 114.22it/s]\n",
      "Training Epoch 718: 100%|██████████| 891/891 [00:08<00:00, 109.97it/s]\n",
      "Training Epoch 719: 100%|██████████| 891/891 [00:08<00:00, 110.18it/s]\n",
      "Training Epoch 720: 100%|██████████| 891/891 [00:08<00:00, 110.55it/s]\n",
      "Training Epoch 721: 100%|██████████| 891/891 [00:07<00:00, 114.84it/s]\n"
     ]
    },
    {
     "name": "stdout",
     "output_type": "stream",
     "text": [
      "Epoch 720 - Train Loss: 0.0518, Train MSE: 0.0518, Train MAE: 0.1675\n",
      "Epoch 720 - Validation Loss: 0.9630, Validation MSE: 0.9652, Validation MAE: 0.7334\n"
     ]
    },
    {
     "name": "stderr",
     "output_type": "stream",
     "text": [
      "Training Epoch 722: 100%|██████████| 891/891 [00:08<00:00, 110.30it/s]\n",
      "Training Epoch 723: 100%|██████████| 891/891 [00:07<00:00, 113.01it/s]\n",
      "Training Epoch 724: 100%|██████████| 891/891 [00:07<00:00, 113.80it/s]\n",
      "Training Epoch 725: 100%|██████████| 891/891 [00:08<00:00, 108.30it/s]\n",
      "Training Epoch 726: 100%|██████████| 891/891 [00:08<00:00, 109.54it/s]\n",
      "Training Epoch 727: 100%|██████████| 891/891 [00:08<00:00, 106.55it/s]\n",
      "Training Epoch 728: 100%|██████████| 891/891 [00:08<00:00, 103.18it/s]\n",
      "Training Epoch 729: 100%|██████████| 891/891 [00:08<00:00, 106.33it/s]\n",
      "Training Epoch 730: 100%|██████████| 891/891 [00:08<00:00, 108.55it/s]\n",
      "Training Epoch 731: 100%|██████████| 891/891 [00:08<00:00, 109.79it/s]\n"
     ]
    },
    {
     "name": "stdout",
     "output_type": "stream",
     "text": [
      "Epoch 730 - Train Loss: 0.0532, Train MSE: 0.0533, Train MAE: 0.1684\n",
      "Epoch 730 - Validation Loss: 0.9597, Validation MSE: 0.9615, Validation MAE: 0.7264\n"
     ]
    },
    {
     "name": "stderr",
     "output_type": "stream",
     "text": [
      "Training Epoch 732: 100%|██████████| 891/891 [00:08<00:00, 109.72it/s]\n",
      "Training Epoch 733: 100%|██████████| 891/891 [00:08<00:00, 109.58it/s]\n",
      "Training Epoch 734: 100%|██████████| 891/891 [00:08<00:00, 110.54it/s]\n",
      "Training Epoch 735: 100%|██████████| 891/891 [00:07<00:00, 114.90it/s]\n",
      "Training Epoch 736: 100%|██████████| 891/891 [00:08<00:00, 106.46it/s]\n",
      "Training Epoch 737: 100%|██████████| 891/891 [00:07<00:00, 111.67it/s]\n",
      "Training Epoch 738: 100%|██████████| 891/891 [00:07<00:00, 111.67it/s]\n",
      "Training Epoch 739: 100%|██████████| 891/891 [00:08<00:00, 110.72it/s]\n",
      "Training Epoch 740: 100%|██████████| 891/891 [00:07<00:00, 111.63it/s]\n",
      "Training Epoch 741: 100%|██████████| 891/891 [00:07<00:00, 111.73it/s]\n"
     ]
    },
    {
     "name": "stdout",
     "output_type": "stream",
     "text": [
      "Epoch 740 - Train Loss: 0.0518, Train MSE: 0.0518, Train MAE: 0.1668\n",
      "Epoch 740 - Validation Loss: 0.9406, Validation MSE: 0.9411, Validation MAE: 0.7197\n"
     ]
    },
    {
     "name": "stderr",
     "output_type": "stream",
     "text": [
      "Training Epoch 742: 100%|██████████| 891/891 [00:07<00:00, 114.22it/s]\n",
      "Training Epoch 743: 100%|██████████| 891/891 [00:08<00:00, 110.00it/s]\n",
      "Training Epoch 744: 100%|██████████| 891/891 [00:08<00:00, 107.82it/s]\n",
      "Training Epoch 745: 100%|██████████| 891/891 [00:07<00:00, 113.07it/s]\n",
      "Training Epoch 746: 100%|██████████| 891/891 [00:07<00:00, 115.08it/s]\n",
      "Training Epoch 747: 100%|██████████| 891/891 [00:08<00:00, 110.14it/s]\n",
      "Training Epoch 748: 100%|██████████| 891/891 [00:08<00:00, 107.72it/s]\n",
      "Training Epoch 749: 100%|██████████| 891/891 [00:07<00:00, 114.33it/s]\n",
      "Training Epoch 750: 100%|██████████| 891/891 [00:07<00:00, 111.71it/s]\n",
      "Training Epoch 751: 100%|██████████| 891/891 [00:08<00:00, 110.12it/s]\n"
     ]
    },
    {
     "name": "stdout",
     "output_type": "stream",
     "text": [
      "Epoch 750 - Train Loss: 0.0514, Train MSE: 0.0514, Train MAE: 0.1658\n",
      "Epoch 750 - Validation Loss: 0.9564, Validation MSE: 0.9574, Validation MAE: 0.7247\n"
     ]
    },
    {
     "name": "stderr",
     "output_type": "stream",
     "text": [
      "Training Epoch 752: 100%|██████████| 891/891 [00:07<00:00, 112.89it/s]\n",
      "Training Epoch 753: 100%|██████████| 891/891 [00:07<00:00, 114.96it/s]\n",
      "Training Epoch 754: 100%|██████████| 891/891 [00:08<00:00, 110.50it/s]\n",
      "Training Epoch 755: 100%|██████████| 891/891 [00:07<00:00, 113.43it/s]\n",
      "Training Epoch 756: 100%|██████████| 891/891 [00:07<00:00, 113.59it/s]\n",
      "Training Epoch 757: 100%|██████████| 891/891 [00:08<00:00, 110.75it/s]\n",
      "Training Epoch 758: 100%|██████████| 891/891 [00:08<00:00, 107.69it/s]\n",
      "Training Epoch 759: 100%|██████████| 891/891 [00:08<00:00, 104.34it/s]\n",
      "Training Epoch 760: 100%|██████████| 891/891 [00:07<00:00, 112.79it/s]\n",
      "Training Epoch 761: 100%|██████████| 891/891 [00:08<00:00, 106.99it/s]\n"
     ]
    },
    {
     "name": "stdout",
     "output_type": "stream",
     "text": [
      "Epoch 760 - Train Loss: 0.0516, Train MSE: 0.0516, Train MAE: 0.1658\n",
      "Epoch 760 - Validation Loss: 0.9543, Validation MSE: 0.9553, Validation MAE: 0.7257\n"
     ]
    },
    {
     "name": "stderr",
     "output_type": "stream",
     "text": [
      "Training Epoch 762: 100%|██████████| 891/891 [00:08<00:00, 110.17it/s]\n",
      "Training Epoch 763: 100%|██████████| 891/891 [00:07<00:00, 113.54it/s]\n",
      "Training Epoch 764: 100%|██████████| 891/891 [00:08<00:00, 108.51it/s]\n",
      "Training Epoch 765: 100%|██████████| 891/891 [00:08<00:00, 107.06it/s]\n",
      "Training Epoch 766: 100%|██████████| 891/891 [00:08<00:00, 109.98it/s]\n",
      "Training Epoch 767: 100%|██████████| 891/891 [00:08<00:00, 110.31it/s]\n",
      "Training Epoch 768: 100%|██████████| 891/891 [00:08<00:00, 108.97it/s]\n",
      "Training Epoch 769: 100%|██████████| 891/891 [00:08<00:00, 107.49it/s]\n",
      "Training Epoch 770: 100%|██████████| 891/891 [00:07<00:00, 112.74it/s]\n",
      "Training Epoch 771: 100%|██████████| 891/891 [00:08<00:00, 109.90it/s]\n"
     ]
    },
    {
     "name": "stdout",
     "output_type": "stream",
     "text": [
      "Epoch 770 - Train Loss: 0.0501, Train MSE: 0.0501, Train MAE: 0.1653\n",
      "Epoch 770 - Validation Loss: 0.9439, Validation MSE: 0.9451, Validation MAE: 0.7254\n"
     ]
    },
    {
     "name": "stderr",
     "output_type": "stream",
     "text": [
      "Training Epoch 772: 100%|██████████| 891/891 [00:08<00:00, 107.86it/s]\n",
      "Training Epoch 773: 100%|██████████| 891/891 [00:08<00:00, 103.81it/s]\n",
      "Training Epoch 774: 100%|██████████| 891/891 [00:08<00:00, 107.16it/s]\n",
      "Training Epoch 775: 100%|██████████| 891/891 [00:08<00:00, 107.18it/s]\n",
      "Training Epoch 776: 100%|██████████| 891/891 [00:08<00:00, 111.32it/s]\n",
      "Training Epoch 777: 100%|██████████| 891/891 [00:07<00:00, 115.57it/s]\n",
      "Training Epoch 778: 100%|██████████| 891/891 [00:07<00:00, 111.40it/s]\n",
      "Training Epoch 779: 100%|██████████| 891/891 [00:08<00:00, 110.41it/s]\n",
      "Training Epoch 780: 100%|██████████| 891/891 [00:08<00:00, 110.31it/s]\n",
      "Training Epoch 781: 100%|██████████| 891/891 [00:07<00:00, 113.78it/s]\n"
     ]
    },
    {
     "name": "stdout",
     "output_type": "stream",
     "text": [
      "Epoch 780 - Train Loss: 0.0485, Train MSE: 0.0485, Train MAE: 0.1609\n",
      "Epoch 780 - Validation Loss: 0.9410, Validation MSE: 0.9416, Validation MAE: 0.7225\n"
     ]
    },
    {
     "name": "stderr",
     "output_type": "stream",
     "text": [
      "Training Epoch 782: 100%|██████████| 891/891 [00:08<00:00, 106.54it/s]\n",
      "Training Epoch 783: 100%|██████████| 891/891 [00:08<00:00, 104.17it/s]\n",
      "Training Epoch 784: 100%|██████████| 891/891 [00:07<00:00, 114.51it/s]\n",
      "Training Epoch 785: 100%|██████████| 891/891 [00:08<00:00, 109.10it/s]\n",
      "Training Epoch 786: 100%|██████████| 891/891 [00:08<00:00, 105.20it/s]\n",
      "Training Epoch 787: 100%|██████████| 891/891 [00:08<00:00, 106.25it/s]\n",
      "Training Epoch 788: 100%|██████████| 891/891 [00:08<00:00, 105.29it/s]\n",
      "Training Epoch 789: 100%|██████████| 891/891 [00:08<00:00, 111.20it/s]\n",
      "Training Epoch 790: 100%|██████████| 891/891 [00:08<00:00, 107.79it/s]\n",
      "Training Epoch 791: 100%|██████████| 891/891 [00:07<00:00, 114.94it/s]\n"
     ]
    },
    {
     "name": "stdout",
     "output_type": "stream",
     "text": [
      "Epoch 790 - Train Loss: 0.0501, Train MSE: 0.0501, Train MAE: 0.1640\n",
      "Epoch 790 - Validation Loss: 0.9378, Validation MSE: 0.9398, Validation MAE: 0.7229\n"
     ]
    },
    {
     "name": "stderr",
     "output_type": "stream",
     "text": [
      "Training Epoch 792: 100%|██████████| 891/891 [00:08<00:00, 107.98it/s]\n",
      "Training Epoch 793: 100%|██████████| 891/891 [00:08<00:00, 108.20it/s]\n",
      "Training Epoch 794: 100%|██████████| 891/891 [00:07<00:00, 111.68it/s]\n",
      "Training Epoch 795: 100%|██████████| 891/891 [00:07<00:00, 113.25it/s]\n",
      "Training Epoch 796: 100%|██████████| 891/891 [00:08<00:00, 108.36it/s]\n",
      "Training Epoch 797: 100%|██████████| 891/891 [00:08<00:00, 110.23it/s]\n",
      "Training Epoch 798: 100%|██████████| 891/891 [00:08<00:00, 108.76it/s]\n",
      "Training Epoch 799: 100%|██████████| 891/891 [00:08<00:00, 107.31it/s]\n",
      "Training Epoch 800: 100%|██████████| 891/891 [00:08<00:00, 108.71it/s]\n",
      "Training Epoch 801: 100%|██████████| 891/891 [00:08<00:00, 108.32it/s]\n"
     ]
    },
    {
     "name": "stdout",
     "output_type": "stream",
     "text": [
      "Epoch 800 - Train Loss: 0.0522, Train MSE: 0.0522, Train MAE: 0.1649\n",
      "Epoch 800 - Validation Loss: 0.9452, Validation MSE: 0.9461, Validation MAE: 0.7258\n"
     ]
    },
    {
     "name": "stderr",
     "output_type": "stream",
     "text": [
      "Training Epoch 802: 100%|██████████| 891/891 [00:07<00:00, 113.65it/s]\n",
      "Training Epoch 803: 100%|██████████| 891/891 [00:08<00:00, 110.13it/s]\n",
      "Training Epoch 804: 100%|██████████| 891/891 [00:07<00:00, 114.11it/s]\n",
      "Training Epoch 805: 100%|██████████| 891/891 [00:08<00:00, 107.43it/s]\n",
      "Training Epoch 806: 100%|██████████| 891/891 [00:08<00:00, 102.37it/s]\n",
      "Training Epoch 807: 100%|██████████| 891/891 [00:08<00:00, 102.05it/s]\n",
      "Training Epoch 808: 100%|██████████| 891/891 [00:07<00:00, 112.65it/s]\n",
      "Training Epoch 809: 100%|██████████| 891/891 [00:07<00:00, 112.52it/s]\n",
      "Training Epoch 810: 100%|██████████| 891/891 [00:08<00:00, 105.62it/s]\n",
      "Training Epoch 811: 100%|██████████| 891/891 [00:08<00:00, 101.53it/s]\n"
     ]
    },
    {
     "name": "stdout",
     "output_type": "stream",
     "text": [
      "Epoch 810 - Train Loss: 0.0474, Train MSE: 0.0474, Train MAE: 0.1604\n",
      "Epoch 810 - Validation Loss: 0.9595, Validation MSE: 0.9606, Validation MAE: 0.7258\n"
     ]
    },
    {
     "name": "stderr",
     "output_type": "stream",
     "text": [
      "Training Epoch 812: 100%|██████████| 891/891 [00:08<00:00, 111.14it/s]\n",
      "Training Epoch 813: 100%|██████████| 891/891 [00:07<00:00, 112.37it/s]\n",
      "Training Epoch 814: 100%|██████████| 891/891 [00:08<00:00, 106.59it/s]\n",
      "Training Epoch 815: 100%|██████████| 891/891 [00:08<00:00, 107.16it/s]\n",
      "Training Epoch 816: 100%|██████████| 891/891 [00:08<00:00, 110.60it/s]\n",
      "Training Epoch 817: 100%|██████████| 891/891 [00:08<00:00, 102.31it/s]\n",
      "Training Epoch 818: 100%|██████████| 891/891 [00:08<00:00, 109.46it/s]\n",
      "Training Epoch 819: 100%|██████████| 891/891 [00:07<00:00, 111.81it/s]\n",
      "Training Epoch 820: 100%|██████████| 891/891 [00:08<00:00, 108.61it/s]\n",
      "Training Epoch 821: 100%|██████████| 891/891 [00:07<00:00, 112.92it/s]\n"
     ]
    },
    {
     "name": "stdout",
     "output_type": "stream",
     "text": [
      "Epoch 820 - Train Loss: 0.0468, Train MSE: 0.0467, Train MAE: 0.1592\n",
      "Epoch 820 - Validation Loss: 0.9567, Validation MSE: 0.9565, Validation MAE: 0.7288\n"
     ]
    },
    {
     "name": "stderr",
     "output_type": "stream",
     "text": [
      "Training Epoch 822: 100%|██████████| 891/891 [00:08<00:00, 100.94it/s]\n",
      "Training Epoch 823: 100%|██████████| 891/891 [00:08<00:00, 108.02it/s]\n",
      "Training Epoch 824: 100%|██████████| 891/891 [00:08<00:00, 105.11it/s]\n",
      "Training Epoch 825: 100%|██████████| 891/891 [00:08<00:00, 104.72it/s]\n",
      "Training Epoch 826: 100%|██████████| 891/891 [00:08<00:00, 107.03it/s]\n",
      "Training Epoch 827: 100%|██████████| 891/891 [00:08<00:00, 103.39it/s]\n",
      "Training Epoch 828: 100%|██████████| 891/891 [00:08<00:00, 102.54it/s]\n",
      "Training Epoch 829: 100%|██████████| 891/891 [00:08<00:00, 104.33it/s]\n",
      "Training Epoch 830: 100%|██████████| 891/891 [00:08<00:00, 106.35it/s]\n",
      "Training Epoch 831: 100%|██████████| 891/891 [00:08<00:00, 101.15it/s]\n"
     ]
    },
    {
     "name": "stdout",
     "output_type": "stream",
     "text": [
      "Epoch 830 - Train Loss: 0.0471, Train MSE: 0.0471, Train MAE: 0.1601\n",
      "Epoch 830 - Validation Loss: 0.9259, Validation MSE: 0.9272, Validation MAE: 0.7138\n"
     ]
    },
    {
     "name": "stderr",
     "output_type": "stream",
     "text": [
      "Training Epoch 832: 100%|██████████| 891/891 [00:08<00:00, 102.34it/s]\n",
      "Training Epoch 833: 100%|██████████| 891/891 [00:08<00:00, 107.71it/s]\n",
      "Training Epoch 834: 100%|██████████| 891/891 [00:08<00:00, 108.83it/s]\n",
      "Training Epoch 835: 100%|██████████| 891/891 [00:08<00:00, 101.91it/s]\n",
      "Training Epoch 836: 100%|██████████| 891/891 [00:08<00:00, 105.68it/s]\n",
      "Training Epoch 837: 100%|██████████| 891/891 [00:08<00:00, 100.16it/s]\n",
      "Training Epoch 838: 100%|██████████| 891/891 [00:08<00:00, 103.52it/s]\n",
      "Training Epoch 839: 100%|██████████| 891/891 [00:08<00:00, 107.02it/s]\n",
      "Training Epoch 840: 100%|██████████| 891/891 [00:08<00:00, 106.93it/s]\n",
      "Training Epoch 841: 100%|██████████| 891/891 [00:08<00:00, 104.01it/s]\n"
     ]
    },
    {
     "name": "stdout",
     "output_type": "stream",
     "text": [
      "Epoch 840 - Train Loss: 0.0496, Train MSE: 0.0494, Train MAE: 0.1627\n",
      "Epoch 840 - Validation Loss: 0.9473, Validation MSE: 0.9475, Validation MAE: 0.7249\n"
     ]
    },
    {
     "name": "stderr",
     "output_type": "stream",
     "text": [
      "Training Epoch 842: 100%|██████████| 891/891 [00:08<00:00, 103.20it/s]\n",
      "Training Epoch 843: 100%|██████████| 891/891 [00:08<00:00, 102.69it/s]\n",
      "Training Epoch 844: 100%|██████████| 891/891 [00:08<00:00, 104.84it/s]\n",
      "Training Epoch 845: 100%|██████████| 891/891 [00:08<00:00, 107.65it/s]\n",
      "Training Epoch 846: 100%|██████████| 891/891 [00:08<00:00, 109.64it/s]\n",
      "Training Epoch 847: 100%|██████████| 891/891 [00:09<00:00, 92.47it/s] \n",
      "Training Epoch 848: 100%|██████████| 891/891 [00:08<00:00, 101.55it/s]\n",
      "Training Epoch 849: 100%|██████████| 891/891 [00:08<00:00, 105.21it/s]\n",
      "Training Epoch 850: 100%|██████████| 891/891 [00:08<00:00, 103.21it/s]\n",
      "Training Epoch 851: 100%|██████████| 891/891 [00:08<00:00, 102.30it/s]\n"
     ]
    },
    {
     "name": "stdout",
     "output_type": "stream",
     "text": [
      "Epoch 850 - Train Loss: 0.0479, Train MSE: 0.0479, Train MAE: 0.1594\n",
      "Epoch 850 - Validation Loss: 0.9559, Validation MSE: 0.9560, Validation MAE: 0.7237\n"
     ]
    },
    {
     "name": "stderr",
     "output_type": "stream",
     "text": [
      "Training Epoch 852: 100%|██████████| 891/891 [00:08<00:00, 105.84it/s]\n",
      "Training Epoch 853: 100%|██████████| 891/891 [00:08<00:00, 105.79it/s]\n",
      "Training Epoch 854: 100%|██████████| 891/891 [00:08<00:00, 101.89it/s]\n",
      "Training Epoch 855: 100%|██████████| 891/891 [00:08<00:00, 102.71it/s]\n",
      "Training Epoch 856: 100%|██████████| 891/891 [00:08<00:00, 105.45it/s]\n",
      "Training Epoch 857: 100%|██████████| 891/891 [00:08<00:00, 105.24it/s]\n",
      "Training Epoch 858: 100%|██████████| 891/891 [00:08<00:00, 103.84it/s]\n",
      "Training Epoch 859: 100%|██████████| 891/891 [00:08<00:00, 105.70it/s]\n",
      "Training Epoch 860: 100%|██████████| 891/891 [00:08<00:00, 108.92it/s]\n",
      "Training Epoch 861: 100%|██████████| 891/891 [00:08<00:00, 104.92it/s]\n"
     ]
    },
    {
     "name": "stdout",
     "output_type": "stream",
     "text": [
      "Epoch 860 - Train Loss: 0.0471, Train MSE: 0.0471, Train MAE: 0.1579\n",
      "Epoch 860 - Validation Loss: 0.9317, Validation MSE: 0.9326, Validation MAE: 0.7191\n"
     ]
    },
    {
     "name": "stderr",
     "output_type": "stream",
     "text": [
      "Training Epoch 862: 100%|██████████| 891/891 [00:08<00:00, 105.14it/s]\n",
      "Training Epoch 863: 100%|██████████| 891/891 [00:08<00:00, 105.25it/s]\n",
      "Training Epoch 864: 100%|██████████| 891/891 [00:08<00:00, 106.48it/s]\n",
      "Training Epoch 865: 100%|██████████| 891/891 [00:08<00:00, 103.65it/s]\n",
      "Training Epoch 866: 100%|██████████| 891/891 [00:08<00:00, 103.36it/s]\n",
      "Training Epoch 867: 100%|██████████| 891/891 [00:08<00:00, 108.73it/s]\n",
      "Training Epoch 868: 100%|██████████| 891/891 [00:08<00:00, 100.68it/s]\n",
      "Training Epoch 869: 100%|██████████| 891/891 [00:08<00:00, 99.50it/s] \n",
      "Training Epoch 870: 100%|██████████| 891/891 [00:08<00:00, 102.81it/s]\n",
      "Training Epoch 871: 100%|██████████| 891/891 [00:08<00:00, 111.12it/s]\n"
     ]
    },
    {
     "name": "stdout",
     "output_type": "stream",
     "text": [
      "Epoch 870 - Train Loss: 0.0453, Train MSE: 0.0453, Train MAE: 0.1576\n",
      "Epoch 870 - Validation Loss: 0.9378, Validation MSE: 0.9386, Validation MAE: 0.7214\n"
     ]
    },
    {
     "name": "stderr",
     "output_type": "stream",
     "text": [
      "Training Epoch 872: 100%|██████████| 891/891 [00:08<00:00, 104.52it/s]\n",
      "Training Epoch 873: 100%|██████████| 891/891 [00:08<00:00, 106.20it/s]\n",
      "Training Epoch 874: 100%|██████████| 891/891 [00:08<00:00, 109.68it/s]\n",
      "Training Epoch 875: 100%|██████████| 891/891 [00:08<00:00, 107.03it/s]\n",
      "Training Epoch 876: 100%|██████████| 891/891 [00:08<00:00, 105.70it/s]\n",
      "Training Epoch 877: 100%|██████████| 891/891 [00:07<00:00, 112.14it/s]\n",
      "Training Epoch 878: 100%|██████████| 891/891 [00:07<00:00, 113.75it/s]\n",
      "Training Epoch 879: 100%|██████████| 891/891 [00:08<00:00, 109.38it/s]\n",
      "Training Epoch 880: 100%|██████████| 891/891 [00:08<00:00, 107.40it/s]\n",
      "Training Epoch 881: 100%|██████████| 891/891 [00:08<00:00, 107.70it/s]\n"
     ]
    },
    {
     "name": "stdout",
     "output_type": "stream",
     "text": [
      "Epoch 880 - Train Loss: 0.0453, Train MSE: 0.0453, Train MAE: 0.1559\n",
      "Epoch 880 - Validation Loss: 0.9304, Validation MSE: 0.9313, Validation MAE: 0.7170\n"
     ]
    },
    {
     "name": "stderr",
     "output_type": "stream",
     "text": [
      "Training Epoch 882: 100%|██████████| 891/891 [00:08<00:00, 104.38it/s]\n",
      "Training Epoch 883: 100%|██████████| 891/891 [00:08<00:00, 104.82it/s]\n",
      "Training Epoch 884: 100%|██████████| 891/891 [00:08<00:00, 107.53it/s]\n",
      "Training Epoch 885: 100%|██████████| 891/891 [00:08<00:00, 106.41it/s]\n",
      "Training Epoch 886: 100%|██████████| 891/891 [00:09<00:00, 98.46it/s] \n",
      "Training Epoch 887: 100%|██████████| 891/891 [00:08<00:00, 103.08it/s]\n",
      "Training Epoch 888: 100%|██████████| 891/891 [00:08<00:00, 104.12it/s]\n",
      "Training Epoch 889: 100%|██████████| 891/891 [00:08<00:00, 103.60it/s]\n",
      "Training Epoch 890: 100%|██████████| 891/891 [00:08<00:00, 108.03it/s]\n",
      "Training Epoch 891: 100%|██████████| 891/891 [00:08<00:00, 107.35it/s]\n"
     ]
    },
    {
     "name": "stdout",
     "output_type": "stream",
     "text": [
      "Epoch 890 - Train Loss: 0.0444, Train MSE: 0.0445, Train MAE: 0.1558\n",
      "Epoch 890 - Validation Loss: 0.9655, Validation MSE: 0.9671, Validation MAE: 0.7302\n"
     ]
    },
    {
     "name": "stderr",
     "output_type": "stream",
     "text": [
      "Training Epoch 892: 100%|██████████| 891/891 [00:08<00:00, 105.98it/s]\n",
      "Training Epoch 893: 100%|██████████| 891/891 [00:08<00:00, 108.51it/s]\n",
      "Training Epoch 894: 100%|██████████| 891/891 [00:08<00:00, 106.46it/s]\n",
      "Training Epoch 895: 100%|██████████| 891/891 [00:08<00:00, 108.28it/s]\n",
      "Training Epoch 896: 100%|██████████| 891/891 [00:09<00:00, 96.52it/s] \n",
      "Training Epoch 897: 100%|██████████| 891/891 [00:08<00:00, 104.26it/s]\n",
      "Training Epoch 898: 100%|██████████| 891/891 [00:09<00:00, 98.62it/s] \n",
      "Training Epoch 899: 100%|██████████| 891/891 [00:10<00:00, 85.48it/s] \n",
      "Training Epoch 900: 100%|██████████| 891/891 [00:09<00:00, 90.01it/s]\n",
      "Training Epoch 901: 100%|██████████| 891/891 [00:09<00:00, 95.49it/s] \n"
     ]
    },
    {
     "name": "stdout",
     "output_type": "stream",
     "text": [
      "Epoch 900 - Train Loss: 0.0452, Train MSE: 0.0453, Train MAE: 0.1559\n",
      "Epoch 900 - Validation Loss: 0.9394, Validation MSE: 0.9418, Validation MAE: 0.7199\n"
     ]
    },
    {
     "name": "stderr",
     "output_type": "stream",
     "text": [
      "Training Epoch 902: 100%|██████████| 891/891 [00:09<00:00, 92.67it/s]\n",
      "Training Epoch 903: 100%|██████████| 891/891 [00:09<00:00, 94.46it/s]\n",
      "Training Epoch 904: 100%|██████████| 891/891 [00:09<00:00, 95.62it/s] \n",
      "Training Epoch 905: 100%|██████████| 891/891 [00:09<00:00, 94.05it/s]\n",
      "Training Epoch 906: 100%|██████████| 891/891 [00:09<00:00, 95.36it/s]\n",
      "Training Epoch 907: 100%|██████████| 891/891 [00:09<00:00, 95.72it/s] \n",
      "Training Epoch 908: 100%|██████████| 891/891 [00:09<00:00, 97.41it/s] \n",
      "Training Epoch 909: 100%|██████████| 891/891 [00:09<00:00, 89.25it/s]\n",
      "Training Epoch 910: 100%|██████████| 891/891 [00:09<00:00, 94.73it/s] \n",
      "Training Epoch 911: 100%|██████████| 891/891 [00:09<00:00, 96.53it/s] \n"
     ]
    },
    {
     "name": "stdout",
     "output_type": "stream",
     "text": [
      "Epoch 910 - Train Loss: 0.0461, Train MSE: 0.0461, Train MAE: 0.1557\n",
      "Epoch 910 - Validation Loss: 0.9344, Validation MSE: 0.9355, Validation MAE: 0.7196\n"
     ]
    },
    {
     "name": "stderr",
     "output_type": "stream",
     "text": [
      "Training Epoch 912: 100%|██████████| 891/891 [00:09<00:00, 95.49it/s] \n",
      "Training Epoch 913: 100%|██████████| 891/891 [00:09<00:00, 94.87it/s]\n",
      "Training Epoch 914: 100%|██████████| 891/891 [00:09<00:00, 96.45it/s] \n",
      "Training Epoch 915: 100%|██████████| 891/891 [00:09<00:00, 92.66it/s] \n",
      "Training Epoch 916: 100%|██████████| 891/891 [00:09<00:00, 95.94it/s] \n",
      "Training Epoch 917: 100%|██████████| 891/891 [00:09<00:00, 96.26it/s] \n",
      "Training Epoch 918: 100%|██████████| 891/891 [00:09<00:00, 95.86it/s] \n",
      "Training Epoch 919: 100%|██████████| 891/891 [00:09<00:00, 94.40it/s] \n",
      "Training Epoch 920: 100%|██████████| 891/891 [00:09<00:00, 95.77it/s] \n",
      "Training Epoch 921: 100%|██████████| 891/891 [00:09<00:00, 94.83it/s] \n"
     ]
    },
    {
     "name": "stdout",
     "output_type": "stream",
     "text": [
      "Epoch 920 - Train Loss: 0.0436, Train MSE: 0.0436, Train MAE: 0.1537\n",
      "Epoch 920 - Validation Loss: 0.9743, Validation MSE: 0.9751, Validation MAE: 0.7333\n"
     ]
    },
    {
     "name": "stderr",
     "output_type": "stream",
     "text": [
      "Training Epoch 922: 100%|██████████| 891/891 [00:09<00:00, 93.24it/s]\n",
      "Training Epoch 923: 100%|██████████| 891/891 [00:09<00:00, 96.90it/s] \n",
      "Training Epoch 924: 100%|██████████| 891/891 [00:09<00:00, 97.19it/s] \n",
      "Training Epoch 925: 100%|██████████| 891/891 [00:09<00:00, 96.37it/s] \n",
      "Training Epoch 926: 100%|██████████| 891/891 [00:09<00:00, 94.15it/s] \n",
      "Training Epoch 927: 100%|██████████| 891/891 [00:09<00:00, 94.47it/s] \n",
      "Training Epoch 928: 100%|██████████| 891/891 [00:09<00:00, 95.64it/s] \n",
      "Training Epoch 929: 100%|██████████| 891/891 [00:09<00:00, 98.30it/s] \n",
      "Training Epoch 930: 100%|██████████| 891/891 [00:09<00:00, 93.70it/s]\n",
      "Training Epoch 931: 100%|██████████| 891/891 [00:09<00:00, 95.55it/s] \n"
     ]
    },
    {
     "name": "stdout",
     "output_type": "stream",
     "text": [
      "Epoch 930 - Train Loss: 0.0441, Train MSE: 0.0442, Train MAE: 0.1542\n",
      "Epoch 930 - Validation Loss: 0.9627, Validation MSE: 0.9620, Validation MAE: 0.7279\n"
     ]
    },
    {
     "name": "stderr",
     "output_type": "stream",
     "text": [
      "Training Epoch 932: 100%|██████████| 891/891 [00:09<00:00, 94.81it/s] \n",
      "Training Epoch 933: 100%|██████████| 891/891 [00:09<00:00, 92.90it/s]\n",
      "Training Epoch 934: 100%|██████████| 891/891 [00:09<00:00, 97.94it/s] \n",
      "Training Epoch 935: 100%|██████████| 891/891 [00:09<00:00, 96.59it/s] \n",
      "Training Epoch 936: 100%|██████████| 891/891 [00:09<00:00, 94.92it/s] \n",
      "Training Epoch 937: 100%|██████████| 891/891 [00:09<00:00, 96.41it/s] \n",
      "Training Epoch 938: 100%|██████████| 891/891 [00:09<00:00, 95.04it/s]\n",
      "Training Epoch 939: 100%|██████████| 891/891 [00:09<00:00, 94.05it/s] \n",
      "Training Epoch 940: 100%|██████████| 891/891 [00:09<00:00, 95.09it/s] \n",
      "Training Epoch 941: 100%|██████████| 891/891 [00:09<00:00, 98.80it/s] \n"
     ]
    },
    {
     "name": "stdout",
     "output_type": "stream",
     "text": [
      "Epoch 940 - Train Loss: 0.0432, Train MSE: 0.0432, Train MAE: 0.1520\n",
      "Epoch 940 - Validation Loss: 0.9787, Validation MSE: 0.9794, Validation MAE: 0.7346\n"
     ]
    },
    {
     "name": "stderr",
     "output_type": "stream",
     "text": [
      "Training Epoch 942: 100%|██████████| 891/891 [00:09<00:00, 95.83it/s] \n",
      "Training Epoch 943: 100%|██████████| 891/891 [00:09<00:00, 93.80it/s]\n",
      "Training Epoch 944: 100%|██████████| 891/891 [00:09<00:00, 95.87it/s] \n",
      "Training Epoch 945: 100%|██████████| 891/891 [00:09<00:00, 94.71it/s] \n",
      "Training Epoch 946: 100%|██████████| 891/891 [00:09<00:00, 90.85it/s]\n",
      "Training Epoch 947: 100%|██████████| 891/891 [00:09<00:00, 96.04it/s] \n",
      "Training Epoch 948: 100%|██████████| 891/891 [00:09<00:00, 95.13it/s] \n",
      "Training Epoch 949: 100%|██████████| 891/891 [00:09<00:00, 92.67it/s]\n",
      "Training Epoch 950: 100%|██████████| 891/891 [00:09<00:00, 96.40it/s] \n",
      "Training Epoch 951: 100%|██████████| 891/891 [00:09<00:00, 96.05it/s] \n"
     ]
    },
    {
     "name": "stdout",
     "output_type": "stream",
     "text": [
      "Epoch 950 - Train Loss: 0.0427, Train MSE: 0.0427, Train MAE: 0.1508\n",
      "Epoch 950 - Validation Loss: 0.9438, Validation MSE: 0.9456, Validation MAE: 0.7237\n"
     ]
    },
    {
     "name": "stderr",
     "output_type": "stream",
     "text": [
      "Training Epoch 952: 100%|██████████| 891/891 [00:09<00:00, 92.53it/s] \n",
      "Training Epoch 953: 100%|██████████| 891/891 [00:09<00:00, 94.05it/s] \n",
      "Training Epoch 954: 100%|██████████| 891/891 [00:09<00:00, 95.87it/s] \n",
      "Training Epoch 955: 100%|██████████| 891/891 [00:09<00:00, 94.96it/s] \n",
      "Training Epoch 956: 100%|██████████| 891/891 [00:09<00:00, 97.23it/s] \n",
      "Training Epoch 957: 100%|██████████| 891/891 [00:09<00:00, 96.95it/s] \n",
      "Training Epoch 958: 100%|██████████| 891/891 [00:09<00:00, 92.05it/s] \n",
      "Training Epoch 959: 100%|██████████| 891/891 [00:09<00:00, 95.29it/s] \n",
      "Training Epoch 960: 100%|██████████| 891/891 [00:09<00:00, 96.30it/s] \n",
      "Training Epoch 961: 100%|██████████| 891/891 [00:09<00:00, 96.24it/s] \n"
     ]
    },
    {
     "name": "stdout",
     "output_type": "stream",
     "text": [
      "Epoch 960 - Train Loss: 0.0459, Train MSE: 0.0459, Train MAE: 0.1554\n",
      "Epoch 960 - Validation Loss: 0.9435, Validation MSE: 0.9441, Validation MAE: 0.7213\n"
     ]
    },
    {
     "name": "stderr",
     "output_type": "stream",
     "text": [
      "Training Epoch 962: 100%|██████████| 891/891 [00:09<00:00, 96.61it/s] \n",
      "Training Epoch 963: 100%|██████████| 891/891 [00:09<00:00, 97.52it/s] \n",
      "Training Epoch 964: 100%|██████████| 891/891 [00:09<00:00, 93.02it/s] \n",
      "Training Epoch 965: 100%|██████████| 891/891 [00:09<00:00, 95.67it/s] \n",
      "Training Epoch 966: 100%|██████████| 891/891 [00:08<00:00, 99.47it/s] \n",
      "Training Epoch 967: 100%|██████████| 891/891 [00:09<00:00, 97.20it/s] \n",
      "Training Epoch 968: 100%|██████████| 891/891 [00:09<00:00, 94.84it/s] \n",
      "Training Epoch 969: 100%|██████████| 891/891 [00:09<00:00, 97.10it/s] \n",
      "Training Epoch 970: 100%|██████████| 891/891 [00:09<00:00, 94.96it/s] \n",
      "Training Epoch 971: 100%|██████████| 891/891 [00:09<00:00, 98.11it/s] \n"
     ]
    },
    {
     "name": "stdout",
     "output_type": "stream",
     "text": [
      "Epoch 970 - Train Loss: 0.0445, Train MSE: 0.0445, Train MAE: 0.1525\n",
      "Epoch 970 - Validation Loss: 0.9555, Validation MSE: 0.9569, Validation MAE: 0.7225\n"
     ]
    },
    {
     "name": "stderr",
     "output_type": "stream",
     "text": [
      "Training Epoch 972: 100%|██████████| 891/891 [00:09<00:00, 95.18it/s] \n",
      "Training Epoch 973: 100%|██████████| 891/891 [00:09<00:00, 97.05it/s] \n",
      "Training Epoch 974: 100%|██████████| 891/891 [00:09<00:00, 95.96it/s] \n",
      "Training Epoch 975: 100%|██████████| 891/891 [00:09<00:00, 97.94it/s] \n",
      "Training Epoch 976: 100%|██████████| 891/891 [00:09<00:00, 97.52it/s] \n",
      "Training Epoch 977: 100%|██████████| 891/891 [00:09<00:00, 93.12it/s] \n",
      "Training Epoch 978: 100%|██████████| 891/891 [00:09<00:00, 93.25it/s] \n",
      "Training Epoch 979: 100%|██████████| 891/891 [00:09<00:00, 91.32it/s] \n",
      "Training Epoch 980: 100%|██████████| 891/891 [00:09<00:00, 94.74it/s] \n",
      "Training Epoch 981: 100%|██████████| 891/891 [00:09<00:00, 95.43it/s] \n"
     ]
    },
    {
     "name": "stdout",
     "output_type": "stream",
     "text": [
      "Epoch 980 - Train Loss: 0.0422, Train MSE: 0.0423, Train MAE: 0.1512\n",
      "Epoch 980 - Validation Loss: 0.9649, Validation MSE: 0.9650, Validation MAE: 0.7294\n"
     ]
    },
    {
     "name": "stderr",
     "output_type": "stream",
     "text": [
      "Training Epoch 982: 100%|██████████| 891/891 [00:08<00:00, 100.78it/s]\n",
      "Training Epoch 983: 100%|██████████| 891/891 [00:09<00:00, 97.09it/s] \n",
      "Training Epoch 984: 100%|██████████| 891/891 [00:09<00:00, 96.89it/s] \n",
      "Training Epoch 985: 100%|██████████| 891/891 [00:08<00:00, 99.99it/s] \n",
      "Training Epoch 986: 100%|██████████| 891/891 [00:08<00:00, 103.28it/s]\n",
      "Training Epoch 987: 100%|██████████| 891/891 [00:09<00:00, 98.47it/s] \n",
      "Training Epoch 988: 100%|██████████| 891/891 [00:08<00:00, 100.01it/s]\n",
      "Training Epoch 989: 100%|██████████| 891/891 [00:08<00:00, 104.47it/s]\n",
      "Training Epoch 990: 100%|██████████| 891/891 [00:09<00:00, 98.90it/s] \n",
      "Training Epoch 991: 100%|██████████| 891/891 [00:09<00:00, 93.98it/s] \n"
     ]
    },
    {
     "name": "stdout",
     "output_type": "stream",
     "text": [
      "Epoch 990 - Train Loss: 0.0405, Train MSE: 0.0404, Train MAE: 0.1491\n",
      "Epoch 990 - Validation Loss: 0.9581, Validation MSE: 0.9597, Validation MAE: 0.7262\n"
     ]
    },
    {
     "name": "stderr",
     "output_type": "stream",
     "text": [
      "Training Epoch 992: 100%|██████████| 891/891 [00:09<00:00, 97.30it/s] \n",
      "Training Epoch 993: 100%|██████████| 891/891 [00:09<00:00, 98.71it/s] \n",
      "Training Epoch 994: 100%|██████████| 891/891 [00:08<00:00, 100.76it/s]\n",
      "Training Epoch 995: 100%|██████████| 891/891 [00:08<00:00, 99.45it/s] \n",
      "Training Epoch 996: 100%|██████████| 891/891 [00:09<00:00, 98.28it/s] \n",
      "Training Epoch 997: 100%|██████████| 891/891 [00:08<00:00, 100.13it/s]\n",
      "Training Epoch 998: 100%|██████████| 891/891 [00:08<00:00, 99.87it/s] \n",
      "Training Epoch 999: 100%|██████████| 891/891 [00:08<00:00, 100.22it/s]\n",
      "Training Epoch 1000: 100%|██████████| 891/891 [00:09<00:00, 98.39it/s] \n",
      "Training Epoch 1001: 100%|██████████| 891/891 [00:08<00:00, 100.07it/s]\n"
     ]
    },
    {
     "name": "stdout",
     "output_type": "stream",
     "text": [
      "Epoch 1000 - Train Loss: 0.0427, Train MSE: 0.0427, Train MAE: 0.1509\n",
      "Epoch 1000 - Validation Loss: 0.9668, Validation MSE: 0.9673, Validation MAE: 0.7271\n"
     ]
    },
    {
     "name": "stderr",
     "output_type": "stream",
     "text": [
      "Training Epoch 1002: 100%|██████████| 891/891 [00:09<00:00, 97.95it/s] \n",
      "Training Epoch 1003: 100%|██████████| 891/891 [00:09<00:00, 96.43it/s] \n",
      "Training Epoch 1004: 100%|██████████| 891/891 [00:09<00:00, 96.80it/s] \n",
      "Training Epoch 1005: 100%|██████████| 891/891 [00:08<00:00, 100.26it/s]\n",
      "Training Epoch 1006: 100%|██████████| 891/891 [00:09<00:00, 98.48it/s] \n",
      "Training Epoch 1007: 100%|██████████| 891/891 [00:08<00:00, 100.11it/s]\n",
      "Training Epoch 1008: 100%|██████████| 891/891 [00:08<00:00, 99.68it/s] \n",
      "Training Epoch 1009: 100%|██████████| 891/891 [00:08<00:00, 101.81it/s]\n",
      "Training Epoch 1010: 100%|██████████| 891/891 [00:08<00:00, 100.74it/s]\n",
      "Training Epoch 1011: 100%|██████████| 891/891 [00:09<00:00, 98.81it/s] \n"
     ]
    },
    {
     "name": "stdout",
     "output_type": "stream",
     "text": [
      "Epoch 1010 - Train Loss: 0.0418, Train MSE: 0.0418, Train MAE: 0.1503\n",
      "Epoch 1010 - Validation Loss: 0.9578, Validation MSE: 0.9584, Validation MAE: 0.7245\n"
     ]
    },
    {
     "name": "stderr",
     "output_type": "stream",
     "text": [
      "Training Epoch 1012: 100%|██████████| 891/891 [00:09<00:00, 98.49it/s] \n",
      "Training Epoch 1013: 100%|██████████| 891/891 [00:09<00:00, 97.64it/s] \n",
      "Training Epoch 1014: 100%|██████████| 891/891 [00:09<00:00, 97.04it/s] \n",
      "Training Epoch 1015: 100%|██████████| 891/891 [00:09<00:00, 91.52it/s] \n",
      "Training Epoch 1016: 100%|██████████| 891/891 [00:09<00:00, 96.90it/s] \n",
      "Training Epoch 1017: 100%|██████████| 891/891 [00:09<00:00, 96.31it/s] \n",
      "Training Epoch 1018: 100%|██████████| 891/891 [00:08<00:00, 103.21it/s]\n",
      "Training Epoch 1019: 100%|██████████| 891/891 [00:09<00:00, 95.93it/s] \n",
      "Training Epoch 1020: 100%|██████████| 891/891 [00:09<00:00, 98.18it/s] \n",
      "Training Epoch 1021: 100%|██████████| 891/891 [00:09<00:00, 94.79it/s] \n"
     ]
    },
    {
     "name": "stdout",
     "output_type": "stream",
     "text": [
      "Epoch 1020 - Train Loss: 0.0419, Train MSE: 0.0419, Train MAE: 0.1482\n",
      "Epoch 1020 - Validation Loss: 0.9396, Validation MSE: 0.9405, Validation MAE: 0.7175\n"
     ]
    },
    {
     "name": "stderr",
     "output_type": "stream",
     "text": [
      "Training Epoch 1022: 100%|██████████| 891/891 [00:09<00:00, 89.38it/s] \n",
      "Training Epoch 1023: 100%|██████████| 891/891 [00:27<00:00, 32.73it/s] \n",
      "Training Epoch 1024: 100%|██████████| 891/891 [00:09<00:00, 98.36it/s] \n",
      "Training Epoch 1025: 100%|██████████| 891/891 [00:10<00:00, 87.13it/s] \n",
      "Training Epoch 1026: 100%|██████████| 891/891 [00:10<00:00, 88.47it/s] \n",
      "Training Epoch 1027: 100%|██████████| 891/891 [00:09<00:00, 93.80it/s] \n",
      "Training Epoch 1028: 100%|██████████| 891/891 [00:11<00:00, 79.12it/s] \n",
      "Training Epoch 1029: 100%|██████████| 891/891 [00:10<00:00, 81.10it/s]\n",
      "Training Epoch 1030: 100%|██████████| 891/891 [00:10<00:00, 83.73it/s] \n",
      "Training Epoch 1031: 100%|██████████| 891/891 [00:11<00:00, 79.31it/s]\n"
     ]
    },
    {
     "name": "stdout",
     "output_type": "stream",
     "text": [
      "Epoch 1030 - Train Loss: 0.0443, Train MSE: 0.0443, Train MAE: 0.1532\n",
      "Epoch 1030 - Validation Loss: 0.9589, Validation MSE: 0.9592, Validation MAE: 0.7260\n"
     ]
    },
    {
     "name": "stderr",
     "output_type": "stream",
     "text": [
      "Training Epoch 1032: 100%|██████████| 891/891 [00:10<00:00, 82.85it/s]\n",
      "Training Epoch 1033: 100%|██████████| 891/891 [00:11<00:00, 77.45it/s]\n",
      "Training Epoch 1034: 100%|██████████| 891/891 [00:10<00:00, 82.26it/s]\n",
      "Training Epoch 1035: 100%|██████████| 891/891 [00:10<00:00, 85.93it/s]\n",
      "Training Epoch 1036: 100%|██████████| 891/891 [00:12<00:00, 72.14it/s]\n",
      "Training Epoch 1037: 100%|██████████| 891/891 [00:10<00:00, 81.15it/s]\n",
      "Training Epoch 1038: 100%|██████████| 891/891 [00:10<00:00, 83.30it/s]\n",
      "Training Epoch 1039: 100%|██████████| 891/891 [00:11<00:00, 77.73it/s]\n",
      "Training Epoch 1040: 100%|██████████| 891/891 [00:10<00:00, 84.44it/s]\n",
      "Training Epoch 1041: 100%|██████████| 891/891 [00:11<00:00, 77.80it/s]\n"
     ]
    },
    {
     "name": "stdout",
     "output_type": "stream",
     "text": [
      "Epoch 1040 - Train Loss: 0.0426, Train MSE: 0.0426, Train MAE: 0.1497\n",
      "Epoch 1040 - Validation Loss: 0.9506, Validation MSE: 0.9517, Validation MAE: 0.7235\n"
     ]
    },
    {
     "name": "stderr",
     "output_type": "stream",
     "text": [
      "Training Epoch 1042: 100%|██████████| 891/891 [00:10<00:00, 86.71it/s] \n",
      "Training Epoch 1043: 100%|██████████| 891/891 [00:10<00:00, 83.49it/s]\n",
      "Training Epoch 1044: 100%|██████████| 891/891 [00:11<00:00, 78.23it/s]\n",
      "Training Epoch 1045: 100%|██████████| 891/891 [00:10<00:00, 84.26it/s]\n",
      "Training Epoch 1046: 100%|██████████| 891/891 [00:10<00:00, 84.74it/s]\n",
      "Training Epoch 1047: 100%|██████████| 891/891 [00:10<00:00, 81.08it/s]\n",
      "Training Epoch 1048: 100%|██████████| 891/891 [00:10<00:00, 83.08it/s]\n",
      "Training Epoch 1049: 100%|██████████| 891/891 [00:10<00:00, 82.85it/s]\n",
      "Training Epoch 1050: 100%|██████████| 891/891 [00:10<00:00, 81.26it/s]\n",
      "Training Epoch 1051: 100%|██████████| 891/891 [00:10<00:00, 81.13it/s]\n"
     ]
    },
    {
     "name": "stdout",
     "output_type": "stream",
     "text": [
      "Epoch 1050 - Train Loss: 0.0409, Train MSE: 0.0409, Train MAE: 0.1480\n",
      "Epoch 1050 - Validation Loss: 0.9404, Validation MSE: 0.9420, Validation MAE: 0.7173\n"
     ]
    },
    {
     "name": "stderr",
     "output_type": "stream",
     "text": [
      "Training Epoch 1052: 100%|██████████| 891/891 [00:13<00:00, 68.06it/s]\n",
      "Training Epoch 1053: 100%|██████████| 891/891 [00:12<00:00, 69.18it/s]\n",
      "Training Epoch 1054: 100%|██████████| 891/891 [00:11<00:00, 75.15it/s]\n",
      "Training Epoch 1055: 100%|██████████| 891/891 [00:11<00:00, 77.63it/s]\n",
      "Training Epoch 1056: 100%|██████████| 891/891 [00:11<00:00, 78.44it/s]\n",
      "Training Epoch 1057: 100%|██████████| 891/891 [00:13<00:00, 67.23it/s]\n",
      "Training Epoch 1058: 100%|██████████| 891/891 [00:11<00:00, 76.97it/s]\n",
      "Training Epoch 1059: 100%|██████████| 891/891 [00:11<00:00, 76.86it/s]\n",
      "Training Epoch 1060: 100%|██████████| 891/891 [00:14<00:00, 60.91it/s]\n",
      "Training Epoch 1061: 100%|██████████| 891/891 [00:13<00:00, 65.81it/s]\n"
     ]
    },
    {
     "name": "stdout",
     "output_type": "stream",
     "text": [
      "Epoch 1060 - Train Loss: 0.0420, Train MSE: 0.0421, Train MAE: 0.1500\n",
      "Epoch 1060 - Validation Loss: 0.9562, Validation MSE: 0.9564, Validation MAE: 0.7283\n"
     ]
    },
    {
     "name": "stderr",
     "output_type": "stream",
     "text": [
      "Training Epoch 1062: 100%|██████████| 891/891 [00:15<00:00, 56.53it/s]\n",
      "Training Epoch 1063: 100%|██████████| 891/891 [00:14<00:00, 61.35it/s]\n",
      "Training Epoch 1064: 100%|██████████| 891/891 [00:18<00:00, 49.38it/s]\n",
      "Training Epoch 1065: 100%|██████████| 891/891 [00:13<00:00, 63.87it/s]\n",
      "Training Epoch 1066: 100%|██████████| 891/891 [00:14<00:00, 60.14it/s]\n",
      "Training Epoch 1067: 100%|██████████| 891/891 [00:16<00:00, 55.04it/s]\n",
      "Training Epoch 1068: 100%|██████████| 891/891 [00:18<00:00, 47.41it/s]\n",
      "Training Epoch 1069: 100%|██████████| 891/891 [00:17<00:00, 51.30it/s]\n",
      "Training Epoch 1070: 100%|██████████| 891/891 [00:17<00:00, 52.30it/s]\n",
      "Training Epoch 1071: 100%|██████████| 891/891 [00:17<00:00, 51.29it/s]\n"
     ]
    },
    {
     "name": "stdout",
     "output_type": "stream",
     "text": [
      "Epoch 1070 - Train Loss: 0.0398, Train MSE: 0.0398, Train MAE: 0.1469\n",
      "Epoch 1070 - Validation Loss: 0.9452, Validation MSE: 0.9465, Validation MAE: 0.7254\n"
     ]
    },
    {
     "name": "stderr",
     "output_type": "stream",
     "text": [
      "Training Epoch 1072: 100%|██████████| 891/891 [00:17<00:00, 50.58it/s]\n",
      "Training Epoch 1073: 100%|██████████| 891/891 [00:16<00:00, 53.17it/s]\n",
      "Training Epoch 1074: 100%|██████████| 891/891 [00:16<00:00, 52.61it/s]\n",
      "Training Epoch 1075: 100%|██████████| 891/891 [00:17<00:00, 49.83it/s]\n",
      "Training Epoch 1076: 100%|██████████| 891/891 [00:16<00:00, 52.60it/s]\n",
      "Training Epoch 1077: 100%|██████████| 891/891 [00:17<00:00, 51.99it/s]\n",
      "Training Epoch 1078: 100%|██████████| 891/891 [00:17<00:00, 52.37it/s]\n",
      "Training Epoch 1079: 100%|██████████| 891/891 [00:17<00:00, 50.68it/s]\n",
      "Training Epoch 1080: 100%|██████████| 891/891 [00:17<00:00, 49.82it/s]\n",
      "Training Epoch 1081: 100%|██████████| 891/891 [07:04<00:00,  2.10it/s]\n"
     ]
    },
    {
     "name": "stdout",
     "output_type": "stream",
     "text": [
      "Epoch 1080 - Train Loss: 0.0428, Train MSE: 0.0428, Train MAE: 0.1506\n",
      "Epoch 1080 - Validation Loss: 0.9774, Validation MSE: 0.9789, Validation MAE: 0.7326\n"
     ]
    },
    {
     "name": "stderr",
     "output_type": "stream",
     "text": [
      "Training Epoch 1082: 100%|██████████| 891/891 [00:29<00:00, 30.35it/s]\n",
      "Training Epoch 1083: 100%|██████████| 891/891 [1:06:35<00:00,  4.48s/it]  \n",
      "Training Epoch 1084: 100%|██████████| 891/891 [47:53<00:00,  3.22s/it]   \n",
      "Training Epoch 1085: 100%|██████████| 891/891 [43:45<00:00,  2.95s/it]   \n",
      "Training Epoch 1086: 100%|██████████| 891/891 [17:40<00:00,  1.19s/it]\n",
      "Training Epoch 1087: 100%|██████████| 891/891 [02:29<00:00,  5.97it/s]  \n",
      "Training Epoch 1088: 100%|██████████| 891/891 [00:17<00:00, 50.16it/s]\n",
      "Training Epoch 1089: 100%|██████████| 891/891 [00:17<00:00, 50.77it/s]\n",
      "Training Epoch 1090: 100%|██████████| 891/891 [00:16<00:00, 52.84it/s]\n",
      "Training Epoch 1091: 100%|██████████| 891/891 [00:18<00:00, 48.80it/s]\n"
     ]
    },
    {
     "name": "stdout",
     "output_type": "stream",
     "text": [
      "Epoch 1090 - Train Loss: 0.0408, Train MSE: 0.0408, Train MAE: 0.1470\n",
      "Epoch 1090 - Validation Loss: 0.9584, Validation MSE: 0.9596, Validation MAE: 0.7260\n"
     ]
    },
    {
     "name": "stderr",
     "output_type": "stream",
     "text": [
      "Training Epoch 1092: 100%|██████████| 891/891 [00:17<00:00, 51.90it/s]\n",
      "Training Epoch 1093: 100%|██████████| 891/891 [00:16<00:00, 54.01it/s]\n",
      "Training Epoch 1094: 100%|██████████| 891/891 [00:20<00:00, 42.93it/s]\n",
      "Training Epoch 1095: 100%|██████████| 891/891 [00:16<00:00, 52.49it/s]\n",
      "Training Epoch 1096: 100%|██████████| 891/891 [00:16<00:00, 53.42it/s]\n",
      "Training Epoch 1097: 100%|██████████| 891/891 [00:16<00:00, 53.95it/s]\n",
      "Training Epoch 1098: 100%|██████████| 891/891 [00:17<00:00, 51.48it/s]\n",
      "Training Epoch 1099: 100%|██████████| 891/891 [00:16<00:00, 55.66it/s]\n",
      "Training Epoch 1100: 100%|██████████| 891/891 [00:16<00:00, 54.01it/s]\n",
      "Training Epoch 1101: 100%|██████████| 891/891 [00:16<00:00, 54.17it/s]\n"
     ]
    },
    {
     "name": "stdout",
     "output_type": "stream",
     "text": [
      "Epoch 1100 - Train Loss: 0.0412, Train MSE: 0.0412, Train MAE: 0.1469\n",
      "Epoch 1100 - Validation Loss: 0.9499, Validation MSE: 0.9510, Validation MAE: 0.7211\n"
     ]
    },
    {
     "name": "stderr",
     "output_type": "stream",
     "text": [
      "Training Epoch 1102: 100%|██████████| 891/891 [00:16<00:00, 52.94it/s]\n",
      "Training Epoch 1103: 100%|██████████| 891/891 [00:15<00:00, 56.98it/s]\n",
      "Training Epoch 1104: 100%|██████████| 891/891 [00:16<00:00, 53.73it/s]\n",
      "Training Epoch 1105: 100%|██████████| 891/891 [00:16<00:00, 53.64it/s]\n",
      "Training Epoch 1106: 100%|██████████| 891/891 [00:16<00:00, 55.18it/s]\n",
      "Training Epoch 1107: 100%|██████████| 891/891 [00:16<00:00, 53.04it/s]\n",
      "Training Epoch 1108: 100%|██████████| 891/891 [00:16<00:00, 54.62it/s]\n",
      "Training Epoch 1109: 100%|██████████| 891/891 [00:20<00:00, 43.83it/s]\n",
      "Training Epoch 1110: 100%|██████████| 891/891 [00:41<00:00, 21.59it/s]\n",
      "Training Epoch 1111: 100%|██████████| 891/891 [00:30<00:00, 29.03it/s]\n"
     ]
    },
    {
     "name": "stdout",
     "output_type": "stream",
     "text": [
      "Epoch 1110 - Train Loss: 0.0421, Train MSE: 0.0421, Train MAE: 0.1476\n",
      "Epoch 1110 - Validation Loss: 0.9666, Validation MSE: 0.9683, Validation MAE: 0.7300\n"
     ]
    },
    {
     "name": "stderr",
     "output_type": "stream",
     "text": [
      "Training Epoch 1112: 100%|██████████| 891/891 [00:20<00:00, 44.39it/s]\n",
      "Training Epoch 1113: 100%|██████████| 891/891 [00:22<00:00, 40.26it/s]\n",
      "Training Epoch 1114: 100%|██████████| 891/891 [00:21<00:00, 41.79it/s]\n",
      "Training Epoch 1115: 100%|██████████| 891/891 [00:23<00:00, 37.30it/s]\n",
      "Training Epoch 1116: 100%|██████████| 891/891 [00:20<00:00, 43.15it/s]\n",
      "Training Epoch 1117: 100%|██████████| 891/891 [00:23<00:00, 37.34it/s]\n",
      "Training Epoch 1118: 100%|██████████| 891/891 [00:24<00:00, 36.77it/s]\n",
      "Training Epoch 1119: 100%|██████████| 891/891 [00:26<00:00, 33.49it/s]\n",
      "Training Epoch 1120: 100%|██████████| 891/891 [00:29<00:00, 30.62it/s]\n",
      "Training Epoch 1121: 100%|██████████| 891/891 [00:29<00:00, 29.93it/s]\n"
     ]
    },
    {
     "name": "stdout",
     "output_type": "stream",
     "text": [
      "Epoch 1120 - Train Loss: 0.0398, Train MSE: 0.0398, Train MAE: 0.1463\n",
      "Epoch 1120 - Validation Loss: 0.9856, Validation MSE: 0.9864, Validation MAE: 0.7383\n"
     ]
    },
    {
     "name": "stderr",
     "output_type": "stream",
     "text": [
      "Training Epoch 1122: 100%|██████████| 891/891 [00:26<00:00, 34.10it/s]\n",
      "Training Epoch 1123: 100%|██████████| 891/891 [00:25<00:00, 34.59it/s]\n",
      "Training Epoch 1124: 100%|██████████| 891/891 [00:25<00:00, 34.46it/s]\n",
      "Training Epoch 1125: 100%|██████████| 891/891 [00:23<00:00, 37.18it/s]\n",
      "Training Epoch 1126: 100%|██████████| 891/891 [18:16<00:00,  1.23s/it]  \n",
      "Training Epoch 1127: 100%|██████████| 891/891 [12:16<00:00,  1.21it/s]  \n",
      "Training Epoch 1128: 100%|██████████| 891/891 [16:44<00:00,  1.13s/it]  \n",
      "Training Epoch 1129: 100%|██████████| 891/891 [33:10<00:00,  2.23s/it]   \n",
      "Training Epoch 1130: 100%|██████████| 891/891 [17:17<00:00,  1.16s/it]   \n",
      "Training Epoch 1131: 100%|██████████| 891/891 [03:58<00:00,  3.74it/s]\n"
     ]
    },
    {
     "name": "stdout",
     "output_type": "stream",
     "text": [
      "Epoch 1130 - Train Loss: 0.0393, Train MSE: 0.0393, Train MAE: 0.1449\n",
      "Epoch 1130 - Validation Loss: 0.9660, Validation MSE: 0.9670, Validation MAE: 0.7287\n"
     ]
    },
    {
     "name": "stderr",
     "output_type": "stream",
     "text": [
      "Training Epoch 1132: 100%|██████████| 891/891 [00:26<00:00, 33.78it/s]\n",
      "Training Epoch 1133: 100%|██████████| 891/891 [00:24<00:00, 35.81it/s]\n",
      "Training Epoch 1134: 100%|██████████| 891/891 [00:23<00:00, 38.06it/s]\n",
      "Training Epoch 1135: 100%|██████████| 891/891 [00:23<00:00, 38.35it/s]\n",
      "Training Epoch 1136: 100%|██████████| 891/891 [00:22<00:00, 39.07it/s]\n",
      "Training Epoch 1137: 100%|██████████| 891/891 [00:22<00:00, 38.90it/s]\n",
      "Training Epoch 1138: 100%|██████████| 891/891 [00:23<00:00, 37.45it/s]\n",
      "Training Epoch 1139: 100%|██████████| 891/891 [00:22<00:00, 38.85it/s]\n",
      "Training Epoch 1140: 100%|██████████| 891/891 [00:23<00:00, 37.46it/s]\n",
      "Training Epoch 1141: 100%|██████████| 891/891 [00:23<00:00, 38.64it/s]\n"
     ]
    },
    {
     "name": "stdout",
     "output_type": "stream",
     "text": [
      "Epoch 1140 - Train Loss: 0.0397, Train MSE: 0.0397, Train MAE: 0.1462\n",
      "Epoch 1140 - Validation Loss: 0.9428, Validation MSE: 0.9425, Validation MAE: 0.7219\n"
     ]
    },
    {
     "name": "stderr",
     "output_type": "stream",
     "text": [
      "Training Epoch 1142: 100%|██████████| 891/891 [00:22<00:00, 38.89it/s]\n",
      "Training Epoch 1143: 100%|██████████| 891/891 [00:23<00:00, 37.75it/s]\n",
      "Training Epoch 1144: 100%|██████████| 891/891 [00:23<00:00, 38.62it/s]\n",
      "Training Epoch 1145: 100%|██████████| 891/891 [00:23<00:00, 38.64it/s]\n",
      "Training Epoch 1146: 100%|██████████| 891/891 [00:22<00:00, 38.78it/s]\n",
      "Training Epoch 1147: 100%|██████████| 891/891 [00:22<00:00, 39.59it/s]\n",
      "Training Epoch 1148: 100%|██████████| 891/891 [00:23<00:00, 38.05it/s]\n",
      "Training Epoch 1149: 100%|██████████| 891/891 [00:23<00:00, 38.64it/s]\n",
      "Training Epoch 1150: 100%|██████████| 891/891 [00:23<00:00, 37.98it/s]\n",
      "Training Epoch 1151: 100%|██████████| 891/891 [00:22<00:00, 39.32it/s]\n"
     ]
    },
    {
     "name": "stdout",
     "output_type": "stream",
     "text": [
      "Epoch 1150 - Train Loss: 0.0385, Train MSE: 0.0385, Train MAE: 0.1443\n",
      "Epoch 1150 - Validation Loss: 0.9478, Validation MSE: 0.9488, Validation MAE: 0.7206\n"
     ]
    },
    {
     "name": "stderr",
     "output_type": "stream",
     "text": [
      "Training Epoch 1152: 100%|██████████| 891/891 [00:23<00:00, 38.62it/s]\n",
      "Training Epoch 1153: 100%|██████████| 891/891 [00:23<00:00, 38.70it/s]\n",
      "Training Epoch 1154: 100%|██████████| 891/891 [00:22<00:00, 39.30it/s]\n",
      "Training Epoch 1155: 100%|██████████| 891/891 [00:22<00:00, 38.98it/s]\n",
      "Training Epoch 1156: 100%|██████████| 891/891 [00:23<00:00, 37.95it/s]\n",
      "Training Epoch 1157: 100%|██████████| 891/891 [00:22<00:00, 39.66it/s]\n",
      "Training Epoch 1158: 100%|██████████| 891/891 [00:22<00:00, 39.30it/s]\n",
      "Training Epoch 1159: 100%|██████████| 891/891 [00:22<00:00, 39.46it/s]\n",
      "Training Epoch 1160: 100%|██████████| 891/891 [00:22<00:00, 40.12it/s]\n",
      "Training Epoch 1161: 100%|██████████| 891/891 [00:22<00:00, 40.33it/s]\n"
     ]
    },
    {
     "name": "stdout",
     "output_type": "stream",
     "text": [
      "Epoch 1160 - Train Loss: 0.0394, Train MSE: 0.0394, Train MAE: 0.1450\n",
      "Epoch 1160 - Validation Loss: 0.9349, Validation MSE: 0.9359, Validation MAE: 0.7165\n"
     ]
    },
    {
     "name": "stderr",
     "output_type": "stream",
     "text": [
      "Training Epoch 1162: 100%|██████████| 891/891 [00:22<00:00, 39.85it/s]\n",
      "Training Epoch 1163: 100%|██████████| 891/891 [00:21<00:00, 40.88it/s]\n",
      "Training Epoch 1164: 100%|██████████| 891/891 [00:22<00:00, 40.18it/s]\n",
      "Training Epoch 1165: 100%|██████████| 891/891 [00:22<00:00, 40.25it/s]\n",
      "Training Epoch 1166: 100%|██████████| 891/891 [00:22<00:00, 39.90it/s]\n",
      "Training Epoch 1167: 100%|██████████| 891/891 [00:22<00:00, 40.37it/s]\n",
      "Training Epoch 1168: 100%|██████████| 891/891 [00:22<00:00, 39.92it/s]\n",
      "Training Epoch 1169: 100%|██████████| 891/891 [00:22<00:00, 39.44it/s]\n",
      "Training Epoch 1170: 100%|██████████| 891/891 [00:22<00:00, 40.03it/s]\n",
      "Training Epoch 1171: 100%|██████████| 891/891 [00:22<00:00, 40.50it/s]\n"
     ]
    },
    {
     "name": "stdout",
     "output_type": "stream",
     "text": [
      "Epoch 1170 - Train Loss: 0.0387, Train MSE: 0.0386, Train MAE: 0.1441\n",
      "Epoch 1170 - Validation Loss: 0.9389, Validation MSE: 0.9396, Validation MAE: 0.7179\n"
     ]
    },
    {
     "name": "stderr",
     "output_type": "stream",
     "text": [
      "Training Epoch 1172: 100%|██████████| 891/891 [00:22<00:00, 40.36it/s]\n",
      "Training Epoch 1173: 100%|██████████| 891/891 [00:22<00:00, 40.45it/s]\n",
      "Training Epoch 1174: 100%|██████████| 891/891 [00:22<00:00, 39.42it/s]\n",
      "Training Epoch 1175: 100%|██████████| 891/891 [00:22<00:00, 40.05it/s]\n",
      "Training Epoch 1176: 100%|██████████| 891/891 [00:22<00:00, 39.68it/s]\n",
      "Training Epoch 1177: 100%|██████████| 891/891 [00:22<00:00, 39.70it/s]\n",
      "Training Epoch 1178: 100%|██████████| 891/891 [00:21<00:00, 41.17it/s]\n",
      "Training Epoch 1179: 100%|██████████| 891/891 [00:22<00:00, 39.51it/s]\n",
      "Training Epoch 1180: 100%|██████████| 891/891 [00:22<00:00, 40.05it/s]\n",
      "Training Epoch 1181: 100%|██████████| 891/891 [00:22<00:00, 40.50it/s]\n"
     ]
    },
    {
     "name": "stdout",
     "output_type": "stream",
     "text": [
      "Epoch 1180 - Train Loss: 0.0396, Train MSE: 0.0396, Train MAE: 0.1453\n",
      "Epoch 1180 - Validation Loss: 0.9521, Validation MSE: 0.9529, Validation MAE: 0.7229\n"
     ]
    },
    {
     "name": "stderr",
     "output_type": "stream",
     "text": [
      "Training Epoch 1182: 100%|██████████| 891/891 [00:22<00:00, 39.85it/s]\n",
      "Training Epoch 1183: 100%|██████████| 891/891 [00:21<00:00, 40.68it/s]\n",
      "Training Epoch 1184: 100%|██████████| 891/891 [00:22<00:00, 39.71it/s]\n",
      "Training Epoch 1185: 100%|██████████| 891/891 [00:22<00:00, 40.14it/s]\n",
      "Training Epoch 1186: 100%|██████████| 891/891 [00:23<00:00, 38.33it/s]\n",
      "Training Epoch 1187: 100%|██████████| 891/891 [00:24<00:00, 36.29it/s]\n",
      "Training Epoch 1188: 100%|██████████| 891/891 [00:28<00:00, 31.82it/s]\n",
      "Training Epoch 1189: 100%|██████████| 891/891 [00:23<00:00, 37.97it/s]\n",
      "Training Epoch 1190: 100%|██████████| 891/891 [00:23<00:00, 37.99it/s]\n",
      "Training Epoch 1191: 100%|██████████| 891/891 [00:23<00:00, 38.10it/s]\n"
     ]
    },
    {
     "name": "stdout",
     "output_type": "stream",
     "text": [
      "Epoch 1190 - Train Loss: 0.0397, Train MSE: 0.0398, Train MAE: 0.1447\n",
      "Epoch 1190 - Validation Loss: 0.9483, Validation MSE: 0.9485, Validation MAE: 0.7231\n"
     ]
    },
    {
     "name": "stderr",
     "output_type": "stream",
     "text": [
      "Training Epoch 1192: 100%|██████████| 891/891 [00:23<00:00, 38.34it/s]\n",
      "Training Epoch 1193: 100%|██████████| 891/891 [00:22<00:00, 38.76it/s]\n",
      "Training Epoch 1194: 100%|██████████| 891/891 [00:24<00:00, 36.83it/s]\n",
      "Training Epoch 1195: 100%|██████████| 891/891 [00:24<00:00, 36.23it/s]\n",
      "Training Epoch 1196: 100%|██████████| 891/891 [00:25<00:00, 35.21it/s]\n",
      "Training Epoch 1197: 100%|██████████| 891/891 [00:24<00:00, 36.89it/s]\n",
      "Training Epoch 1198: 100%|██████████| 891/891 [00:23<00:00, 37.82it/s]\n",
      "Training Epoch 1199: 100%|██████████| 891/891 [00:24<00:00, 36.26it/s]\n",
      "Training Epoch 1200: 100%|██████████| 891/891 [00:23<00:00, 37.28it/s]\n",
      "Training Epoch 1201: 100%|██████████| 891/891 [00:23<00:00, 37.76it/s]\n"
     ]
    },
    {
     "name": "stdout",
     "output_type": "stream",
     "text": [
      "Epoch 1200 - Train Loss: 0.0377, Train MSE: 0.0377, Train MAE: 0.1419\n",
      "Epoch 1200 - Validation Loss: 0.9316, Validation MSE: 0.9327, Validation MAE: 0.7166\n"
     ]
    },
    {
     "name": "stderr",
     "output_type": "stream",
     "text": [
      "Training Epoch 1202: 100%|██████████| 891/891 [00:22<00:00, 38.92it/s]\n",
      "Training Epoch 1203: 100%|██████████| 891/891 [00:22<00:00, 39.25it/s]\n",
      "Training Epoch 1204: 100%|██████████| 891/891 [00:23<00:00, 37.94it/s]\n",
      "Training Epoch 1205: 100%|██████████| 891/891 [00:23<00:00, 38.60it/s]\n",
      "Training Epoch 1206: 100%|██████████| 891/891 [00:23<00:00, 37.79it/s]\n",
      "Training Epoch 1207: 100%|██████████| 891/891 [00:22<00:00, 39.06it/s]\n",
      "Training Epoch 1208: 100%|██████████| 891/891 [00:22<00:00, 39.62it/s]\n",
      "Training Epoch 1209: 100%|██████████| 891/891 [00:23<00:00, 37.91it/s]\n",
      "Training Epoch 1210: 100%|██████████| 891/891 [00:23<00:00, 38.66it/s]\n",
      "Training Epoch 1211: 100%|██████████| 891/891 [00:24<00:00, 36.95it/s]\n"
     ]
    },
    {
     "name": "stdout",
     "output_type": "stream",
     "text": [
      "Epoch 1210 - Train Loss: 0.0397, Train MSE: 0.0397, Train MAE: 0.1449\n",
      "Epoch 1210 - Validation Loss: 0.9590, Validation MSE: 0.9595, Validation MAE: 0.7268\n"
     ]
    },
    {
     "name": "stderr",
     "output_type": "stream",
     "text": [
      "Training Epoch 1212: 100%|██████████| 891/891 [00:23<00:00, 37.28it/s]\n",
      "Training Epoch 1213: 100%|██████████| 891/891 [00:22<00:00, 38.92it/s]\n",
      "Training Epoch 1214: 100%|██████████| 891/891 [00:23<00:00, 37.16it/s]\n",
      "Training Epoch 1215: 100%|██████████| 891/891 [00:23<00:00, 37.93it/s]\n",
      "Training Epoch 1216: 100%|██████████| 891/891 [00:23<00:00, 37.48it/s]\n",
      "Training Epoch 1217: 100%|██████████| 891/891 [00:24<00:00, 36.78it/s]\n",
      "Training Epoch 1218: 100%|██████████| 891/891 [00:27<00:00, 32.46it/s]\n",
      "Training Epoch 1219: 100%|██████████| 891/891 [00:29<00:00, 29.95it/s]\n",
      "Training Epoch 1220: 100%|██████████| 891/891 [00:27<00:00, 32.39it/s]\n",
      "Training Epoch 1221: 100%|██████████| 891/891 [00:31<00:00, 28.58it/s]\n"
     ]
    },
    {
     "name": "stdout",
     "output_type": "stream",
     "text": [
      "Epoch 1220 - Train Loss: 0.0396, Train MSE: 0.0396, Train MAE: 0.1442\n",
      "Epoch 1220 - Validation Loss: 0.9527, Validation MSE: 0.9529, Validation MAE: 0.7229\n"
     ]
    },
    {
     "name": "stderr",
     "output_type": "stream",
     "text": [
      "Training Epoch 1222: 100%|██████████| 891/891 [00:23<00:00, 38.59it/s]\n",
      "Training Epoch 1223: 100%|██████████| 891/891 [00:41<00:00, 21.68it/s]\n",
      "Training Epoch 1224: 100%|██████████| 891/891 [00:23<00:00, 38.49it/s]\n",
      "Training Epoch 1225: 100%|██████████| 891/891 [00:41<00:00, 21.37it/s]\n",
      "Training Epoch 1226: 100%|██████████| 891/891 [00:36<00:00, 24.51it/s]\n",
      "Training Epoch 1227: 100%|██████████| 891/891 [00:27<00:00, 32.51it/s]\n",
      "Training Epoch 1228: 100%|██████████| 891/891 [00:40<00:00, 22.07it/s]\n",
      "Training Epoch 1229: 100%|██████████| 891/891 [00:22<00:00, 39.84it/s]\n",
      "Training Epoch 1230: 100%|██████████| 891/891 [00:41<00:00, 21.29it/s]\n",
      "Training Epoch 1231: 100%|██████████| 891/891 [16:16<00:00,  1.10s/it]    \n"
     ]
    },
    {
     "name": "stdout",
     "output_type": "stream",
     "text": [
      "Epoch 1230 - Train Loss: 0.0390, Train MSE: 0.0390, Train MAE: 0.1435\n",
      "Epoch 1230 - Validation Loss: 0.9552, Validation MSE: 0.9547, Validation MAE: 0.7237\n"
     ]
    },
    {
     "name": "stderr",
     "output_type": "stream",
     "text": [
      "Training Epoch 1232: 100%|██████████| 891/891 [00:37<00:00, 23.99it/s]\n",
      "Training Epoch 1233: 100%|██████████| 891/891 [00:35<00:00, 25.44it/s]\n",
      "Training Epoch 1234: 100%|██████████| 891/891 [00:35<00:00, 25.41it/s]\n",
      "Training Epoch 1235: 100%|██████████| 891/891 [00:35<00:00, 24.76it/s]\n",
      "Training Epoch 1236: 100%|██████████| 891/891 [00:35<00:00, 25.04it/s]\n",
      "Training Epoch 1237: 100%|██████████| 891/891 [00:36<00:00, 24.53it/s]\n",
      "Training Epoch 1238: 100%|██████████| 891/891 [01:28<00:00, 10.08it/s]\n",
      "Training Epoch 1239: 100%|██████████| 891/891 [01:56<00:00,  7.64it/s]\n",
      "Training Epoch 1240: 100%|██████████| 891/891 [01:58<00:00,  7.55it/s]\n",
      "Training Epoch 1241: 100%|██████████| 891/891 [17:38<00:00,  1.19s/it]    \n"
     ]
    },
    {
     "name": "stdout",
     "output_type": "stream",
     "text": [
      "Epoch 1240 - Train Loss: 0.0375, Train MSE: 0.0375, Train MAE: 0.1427\n",
      "Epoch 1240 - Validation Loss: 0.9695, Validation MSE: 0.9697, Validation MAE: 0.7334\n"
     ]
    },
    {
     "name": "stderr",
     "output_type": "stream",
     "text": [
      "Training Epoch 1242: 100%|██████████| 891/891 [00:35<00:00, 25.13it/s]\n",
      "Training Epoch 1243: 100%|██████████| 891/891 [00:34<00:00, 25.96it/s]\n",
      "Training Epoch 1244: 100%|██████████| 891/891 [00:35<00:00, 25.08it/s]\n",
      "Training Epoch 1245: 100%|██████████| 891/891 [00:34<00:00, 25.65it/s]\n",
      "Training Epoch 1246: 100%|██████████| 891/891 [00:35<00:00, 25.19it/s]\n",
      "Training Epoch 1247: 100%|██████████| 891/891 [00:34<00:00, 25.49it/s]\n",
      "Training Epoch 1248: 100%|██████████| 891/891 [00:35<00:00, 25.08it/s]\n",
      "Training Epoch 1249: 100%|██████████| 891/891 [00:36<00:00, 24.69it/s]\n",
      "Training Epoch 1250: 100%|██████████| 891/891 [00:35<00:00, 25.45it/s]\n",
      "Training Epoch 1251: 100%|██████████| 891/891 [00:35<00:00, 24.97it/s]\n"
     ]
    },
    {
     "name": "stdout",
     "output_type": "stream",
     "text": [
      "Epoch 1250 - Train Loss: 0.0376, Train MSE: 0.0376, Train MAE: 0.1419\n",
      "Epoch 1250 - Validation Loss: 0.9540, Validation MSE: 0.9550, Validation MAE: 0.7255\n"
     ]
    },
    {
     "name": "stderr",
     "output_type": "stream",
     "text": [
      "Training Epoch 1252: 100%|██████████| 891/891 [00:36<00:00, 24.50it/s]\n",
      "Training Epoch 1253: 100%|██████████| 891/891 [00:35<00:00, 24.82it/s]\n",
      "Training Epoch 1254: 100%|██████████| 891/891 [01:14<00:00, 11.91it/s]\n",
      "Training Epoch 1255: 100%|██████████| 891/891 [01:00<00:00, 14.70it/s]\n",
      "Training Epoch 1256: 100%|██████████| 891/891 [00:27<00:00, 32.24it/s]\n",
      "Training Epoch 1257: 100%|██████████| 891/891 [00:23<00:00, 37.90it/s]\n",
      "Training Epoch 1258: 100%|██████████| 891/891 [00:23<00:00, 37.34it/s]\n",
      "Training Epoch 1259: 100%|██████████| 891/891 [00:22<00:00, 39.37it/s]\n",
      "Training Epoch 1260: 100%|██████████| 891/891 [00:22<00:00, 39.73it/s]\n",
      "Training Epoch 1261: 100%|██████████| 891/891 [00:23<00:00, 38.42it/s]\n"
     ]
    },
    {
     "name": "stdout",
     "output_type": "stream",
     "text": [
      "Epoch 1260 - Train Loss: 0.0376, Train MSE: 0.0376, Train MAE: 0.1424\n",
      "Epoch 1260 - Validation Loss: 0.9402, Validation MSE: 0.9400, Validation MAE: 0.7203\n"
     ]
    },
    {
     "name": "stderr",
     "output_type": "stream",
     "text": [
      "Training Epoch 1262: 100%|██████████| 891/891 [00:22<00:00, 39.93it/s]\n",
      "Training Epoch 1263: 100%|██████████| 891/891 [00:23<00:00, 38.11it/s]\n",
      "Training Epoch 1264: 100%|██████████| 891/891 [00:22<00:00, 39.60it/s]\n",
      "Training Epoch 1265: 100%|██████████| 891/891 [00:23<00:00, 38.55it/s]\n",
      "Training Epoch 1266: 100%|██████████| 891/891 [00:23<00:00, 38.51it/s]\n",
      "Training Epoch 1267: 100%|██████████| 891/891 [00:23<00:00, 38.24it/s]\n",
      "Training Epoch 1268: 100%|██████████| 891/891 [00:23<00:00, 37.95it/s]\n",
      "Training Epoch 1269: 100%|██████████| 891/891 [00:22<00:00, 38.77it/s]\n",
      "Training Epoch 1270: 100%|██████████| 891/891 [00:23<00:00, 38.64it/s]\n",
      "Training Epoch 1271: 100%|██████████| 891/891 [00:22<00:00, 39.38it/s]\n"
     ]
    },
    {
     "name": "stdout",
     "output_type": "stream",
     "text": [
      "Epoch 1270 - Train Loss: 0.0367, Train MSE: 0.0368, Train MAE: 0.1398\n",
      "Epoch 1270 - Validation Loss: 0.9677, Validation MSE: 0.9672, Validation MAE: 0.7291\n"
     ]
    },
    {
     "name": "stderr",
     "output_type": "stream",
     "text": [
      "Training Epoch 1272: 100%|██████████| 891/891 [00:22<00:00, 39.52it/s]\n",
      "Training Epoch 1273: 100%|██████████| 891/891 [00:23<00:00, 38.42it/s]\n",
      "Training Epoch 1274: 100%|██████████| 891/891 [00:22<00:00, 39.85it/s]\n",
      "Training Epoch 1275: 100%|██████████| 891/891 [00:23<00:00, 38.12it/s]\n",
      "Training Epoch 1276: 100%|██████████| 891/891 [00:22<00:00, 39.16it/s]\n",
      "Training Epoch 1277: 100%|██████████| 891/891 [00:22<00:00, 39.19it/s]\n",
      "Training Epoch 1278: 100%|██████████| 891/891 [00:23<00:00, 38.43it/s]\n",
      "Training Epoch 1279: 100%|██████████| 891/891 [16:05<00:00,  1.08s/it]  \n",
      "Training Epoch 1280: 100%|██████████| 891/891 [00:35<00:00, 25.10it/s]\n",
      "Training Epoch 1281: 100%|██████████| 891/891 [16:49<00:00,  1.13s/it]   \n"
     ]
    },
    {
     "name": "stdout",
     "output_type": "stream",
     "text": [
      "Epoch 1280 - Train Loss: 0.0401, Train MSE: 0.0401, Train MAE: 0.1431\n",
      "Epoch 1280 - Validation Loss: 0.9613, Validation MSE: 0.9631, Validation MAE: 0.7256\n"
     ]
    },
    {
     "name": "stderr",
     "output_type": "stream",
     "text": [
      "Training Epoch 1282: 100%|██████████| 891/891 [16:02<00:00,  1.08s/it]   \n",
      "Training Epoch 1283: 100%|██████████| 891/891 [02:15<00:00,  6.57it/s]\n",
      "Training Epoch 1284: 100%|██████████| 891/891 [00:32<00:00, 27.17it/s]\n",
      "Training Epoch 1285: 100%|██████████| 891/891 [16:25<00:00,  1.11s/it]   \n",
      "Training Epoch 1286: 100%|██████████| 891/891 [00:33<00:00, 26.58it/s]\n",
      "Training Epoch 1287: 100%|██████████| 891/891 [00:33<00:00, 26.85it/s]\n",
      "Training Epoch 1288: 100%|██████████| 891/891 [00:36<00:00, 24.68it/s]\n",
      "Training Epoch 1289: 100%|██████████| 891/891 [16:04<00:00,  1.08s/it]  \n",
      "Training Epoch 1290: 100%|██████████| 891/891 [00:33<00:00, 26.61it/s]\n",
      "Training Epoch 1291: 100%|██████████| 891/891 [00:32<00:00, 27.15it/s]\n"
     ]
    },
    {
     "name": "stdout",
     "output_type": "stream",
     "text": [
      "Epoch 1290 - Train Loss: 0.0396, Train MSE: 0.0396, Train MAE: 0.1439\n",
      "Epoch 1290 - Validation Loss: 0.9504, Validation MSE: 0.9514, Validation MAE: 0.7233\n"
     ]
    },
    {
     "name": "stderr",
     "output_type": "stream",
     "text": [
      "Training Epoch 1292: 100%|██████████| 891/891 [00:32<00:00, 27.07it/s]\n",
      "Training Epoch 1293: 100%|██████████| 891/891 [00:33<00:00, 26.28it/s]\n",
      "Training Epoch 1294: 100%|██████████| 891/891 [00:33<00:00, 26.71it/s]\n",
      "Training Epoch 1295: 100%|██████████| 891/891 [00:33<00:00, 26.55it/s]\n",
      "Training Epoch 1296: 100%|██████████| 891/891 [17:03<00:00,  1.15s/it]   \n",
      "Training Epoch 1297: 100%|██████████| 891/891 [17:06<00:00,  1.15s/it]  \n",
      "Training Epoch 1298: 100%|██████████| 891/891 [00:33<00:00, 26.62it/s]\n",
      "Training Epoch 1299: 100%|██████████| 891/891 [16:09<00:00,  1.09s/it]  \n",
      "Training Epoch 1300: 100%|██████████| 891/891 [00:33<00:00, 26.55it/s]\n",
      "Training Epoch 1301: 100%|██████████| 891/891 [15:44<00:00,  1.06s/it]   \n"
     ]
    },
    {
     "name": "stdout",
     "output_type": "stream",
     "text": [
      "Epoch 1300 - Train Loss: 0.0377, Train MSE: 0.0375, Train MAE: 0.1411\n",
      "Epoch 1300 - Validation Loss: 0.9397, Validation MSE: 0.9407, Validation MAE: 0.7182\n"
     ]
    },
    {
     "name": "stderr",
     "output_type": "stream",
     "text": [
      "Training Epoch 1302: 100%|██████████| 891/891 [17:01<00:00,  1.15s/it]   \n",
      "Training Epoch 1303: 100%|██████████| 891/891 [16:46<00:00,  1.13s/it]  \n",
      "Training Epoch 1304: 100%|██████████| 891/891 [00:33<00:00, 26.26it/s]\n",
      "Training Epoch 1305: 100%|██████████| 891/891 [00:32<00:00, 27.09it/s]\n",
      "Training Epoch 1306: 100%|██████████| 891/891 [00:34<00:00, 26.01it/s]\n",
      "Training Epoch 1307: 100%|██████████| 891/891 [00:33<00:00, 26.96it/s]\n",
      "Training Epoch 1308: 100%|██████████| 891/891 [00:34<00:00, 25.90it/s]\n",
      "Training Epoch 1309: 100%|██████████| 891/891 [00:33<00:00, 26.72it/s]\n",
      "Training Epoch 1310: 100%|██████████| 891/891 [00:33<00:00, 26.50it/s]\n",
      "Training Epoch 1311: 100%|██████████| 891/891 [00:34<00:00, 26.13it/s]\n"
     ]
    },
    {
     "name": "stdout",
     "output_type": "stream",
     "text": [
      "Epoch 1310 - Train Loss: 0.0357, Train MSE: 0.0357, Train MAE: 0.1380\n",
      "Epoch 1310 - Validation Loss: 0.9676, Validation MSE: 0.9670, Validation MAE: 0.7305\n"
     ]
    },
    {
     "name": "stderr",
     "output_type": "stream",
     "text": [
      "Training Epoch 1312: 100%|██████████| 891/891 [17:05<00:00,  1.15s/it]  \n",
      "Training Epoch 1313: 100%|██████████| 891/891 [00:33<00:00, 26.95it/s]\n",
      "Training Epoch 1314: 100%|██████████| 891/891 [15:44<00:00,  1.06s/it]  \n",
      "Training Epoch 1315: 100%|██████████| 891/891 [15:37<00:00,  1.05s/it]   \n",
      "Training Epoch 1316: 100%|██████████| 891/891 [16:13<00:00,  1.09s/it]  \n",
      "Training Epoch 1317: 100%|██████████| 891/891 [00:34<00:00, 26.06it/s]\n",
      "Training Epoch 1318: 100%|██████████| 891/891 [05:03<00:00,  2.94it/s]  \n",
      "Training Epoch 1319: 100%|██████████| 891/891 [01:15<00:00, 11.82it/s]\n",
      "Training Epoch 1320: 100%|██████████| 891/891 [16:14<00:00,  1.09s/it]  \n",
      "Training Epoch 1321: 100%|██████████| 891/891 [00:33<00:00, 26.41it/s]\n"
     ]
    },
    {
     "name": "stdout",
     "output_type": "stream",
     "text": [
      "Epoch 1320 - Train Loss: 0.0356, Train MSE: 0.0356, Train MAE: 0.1387\n",
      "Epoch 1320 - Validation Loss: 0.9588, Validation MSE: 0.9594, Validation MAE: 0.7275\n"
     ]
    },
    {
     "name": "stderr",
     "output_type": "stream",
     "text": [
      "Training Epoch 1322: 100%|██████████| 891/891 [16:08<00:00,  1.09s/it]   \n",
      "Training Epoch 1323: 100%|██████████| 891/891 [16:15<00:00,  1.09s/it]  \n",
      "Training Epoch 1324: 100%|██████████| 891/891 [00:35<00:00, 25.27it/s]\n",
      "Training Epoch 1325: 100%|██████████| 891/891 [16:21<00:00,  1.10s/it]  \n",
      "Training Epoch 1326: 100%|██████████| 891/891 [00:32<00:00, 27.29it/s]\n",
      "Training Epoch 1327: 100%|██████████| 891/891 [16:48<00:00,  1.13s/it]   \n",
      "Training Epoch 1328: 100%|██████████| 891/891 [00:39<00:00, 22.32it/s]\n",
      "Training Epoch 1329: 100%|██████████| 891/891 [16:11<00:00,  1.09s/it]  \n",
      "Training Epoch 1330: 100%|██████████| 891/891 [00:34<00:00, 26.20it/s]\n",
      "Training Epoch 1331: 100%|██████████| 891/891 [17:41<00:00,  1.19s/it]   \n"
     ]
    },
    {
     "name": "stdout",
     "output_type": "stream",
     "text": [
      "Epoch 1330 - Train Loss: 0.0375, Train MSE: 0.0375, Train MAE: 0.1409\n",
      "Epoch 1330 - Validation Loss: 0.9450, Validation MSE: 0.9457, Validation MAE: 0.7201\n"
     ]
    },
    {
     "name": "stderr",
     "output_type": "stream",
     "text": [
      "Training Epoch 1332: 100%|██████████| 891/891 [00:40<00:00, 22.01it/s]\n",
      "Training Epoch 1333: 100%|██████████| 891/891 [15:59<00:00,  1.08s/it]  \n",
      "Training Epoch 1334: 100%|██████████| 891/891 [00:30<00:00, 29.55it/s]\n",
      "Training Epoch 1335: 100%|██████████| 891/891 [00:31<00:00, 27.97it/s]\n",
      "Training Epoch 1336: 100%|██████████| 891/891 [17:10<00:00,  1.16s/it]   \n",
      "Training Epoch 1337: 100%|██████████| 891/891 [00:29<00:00, 29.85it/s]\n",
      "Training Epoch 1338: 100%|██████████| 891/891 [00:31<00:00, 28.18it/s]\n",
      "Training Epoch 1339: 100%|██████████| 891/891 [00:32<00:00, 27.17it/s]\n",
      "Training Epoch 1340: 100%|██████████| 891/891 [07:57<00:00,  1.87it/s]  \n",
      "Training Epoch 1341: 100%|██████████| 891/891 [15:44<00:00,  1.06s/it]  \n"
     ]
    },
    {
     "name": "stdout",
     "output_type": "stream",
     "text": [
      "Epoch 1340 - Train Loss: 0.0353, Train MSE: 0.0353, Train MAE: 0.1386\n",
      "Epoch 1340 - Validation Loss: 0.9375, Validation MSE: 0.9388, Validation MAE: 0.7195\n"
     ]
    },
    {
     "name": "stderr",
     "output_type": "stream",
     "text": [
      "Training Epoch 1342: 100%|██████████| 891/891 [00:29<00:00, 30.63it/s]\n",
      "Training Epoch 1343: 100%|██████████| 891/891 [00:38<00:00, 22.94it/s]\n",
      "Training Epoch 1344: 100%|██████████| 891/891 [15:38<00:00,  1.05s/it]  \n",
      "Training Epoch 1345: 100%|██████████| 891/891 [00:30<00:00, 28.96it/s]\n",
      "Training Epoch 1346: 100%|██████████| 891/891 [17:03<00:00,  1.15s/it]   \n",
      "Training Epoch 1347: 100%|██████████| 891/891 [00:30<00:00, 29.53it/s]\n",
      "Training Epoch 1348: 100%|██████████| 891/891 [00:31<00:00, 27.96it/s]\n",
      "Training Epoch 1349: 100%|██████████| 891/891 [00:29<00:00, 29.75it/s]\n",
      "Training Epoch 1350: 100%|██████████| 891/891 [00:30<00:00, 29.51it/s]\n",
      "Training Epoch 1351: 100%|██████████| 891/891 [00:30<00:00, 29.09it/s]\n"
     ]
    },
    {
     "name": "stdout",
     "output_type": "stream",
     "text": [
      "Epoch 1350 - Train Loss: 0.0356, Train MSE: 0.0356, Train MAE: 0.1391\n",
      "Epoch 1350 - Validation Loss: 0.9309, Validation MSE: 0.9313, Validation MAE: 0.7171\n"
     ]
    },
    {
     "name": "stderr",
     "output_type": "stream",
     "text": [
      "Training Epoch 1352: 100%|██████████| 891/891 [00:31<00:00, 28.67it/s]\n",
      "Training Epoch 1353: 100%|██████████| 891/891 [00:29<00:00, 30.11it/s]\n",
      "Training Epoch 1354: 100%|██████████| 891/891 [00:30<00:00, 28.82it/s]\n",
      "Training Epoch 1355: 100%|██████████| 891/891 [00:30<00:00, 29.48it/s]\n",
      "Training Epoch 1356: 100%|██████████| 891/891 [00:30<00:00, 29.04it/s]\n",
      "Training Epoch 1357: 100%|██████████| 891/891 [00:27<00:00, 32.99it/s]\n",
      "Training Epoch 1358: 100%|██████████| 891/891 [00:27<00:00, 32.75it/s]\n",
      "Training Epoch 1359: 100%|██████████| 891/891 [00:27<00:00, 32.79it/s]\n",
      "Training Epoch 1360: 100%|██████████| 891/891 [00:27<00:00, 32.31it/s]\n",
      "Training Epoch 1361: 100%|██████████| 891/891 [00:26<00:00, 33.56it/s]\n"
     ]
    },
    {
     "name": "stdout",
     "output_type": "stream",
     "text": [
      "Epoch 1360 - Train Loss: 0.0377, Train MSE: 0.0377, Train MAE: 0.1394\n",
      "Epoch 1360 - Validation Loss: 0.9371, Validation MSE: 0.9384, Validation MAE: 0.7200\n"
     ]
    },
    {
     "name": "stderr",
     "output_type": "stream",
     "text": [
      "Training Epoch 1362: 100%|██████████| 891/891 [00:26<00:00, 33.22it/s]\n",
      "Training Epoch 1363: 100%|██████████| 891/891 [00:26<00:00, 33.39it/s]\n",
      "Training Epoch 1364: 100%|██████████| 891/891 [00:27<00:00, 32.85it/s]\n",
      "Training Epoch 1365: 100%|██████████| 891/891 [00:26<00:00, 33.01it/s]\n",
      "Training Epoch 1366: 100%|██████████| 891/891 [00:27<00:00, 32.63it/s]\n",
      "Training Epoch 1367: 100%|██████████| 891/891 [00:27<00:00, 32.06it/s]\n",
      "Training Epoch 1368: 100%|██████████| 891/891 [00:28<00:00, 31.55it/s]\n",
      "Training Epoch 1369: 100%|██████████| 891/891 [00:27<00:00, 32.55it/s]\n",
      "Training Epoch 1370: 100%|██████████| 891/891 [00:26<00:00, 33.09it/s]\n",
      "Training Epoch 1371: 100%|██████████| 891/891 [00:27<00:00, 31.96it/s]\n"
     ]
    },
    {
     "name": "stdout",
     "output_type": "stream",
     "text": [
      "Epoch 1370 - Train Loss: 0.0376, Train MSE: 0.0376, Train MAE: 0.1399\n",
      "Epoch 1370 - Validation Loss: 0.9206, Validation MSE: 0.9216, Validation MAE: 0.7135\n"
     ]
    },
    {
     "name": "stderr",
     "output_type": "stream",
     "text": [
      "Training Epoch 1372: 100%|██████████| 891/891 [00:27<00:00, 32.77it/s]\n",
      "Training Epoch 1373: 100%|██████████| 891/891 [00:28<00:00, 30.92it/s]\n",
      "Training Epoch 1374: 100%|██████████| 891/891 [00:27<00:00, 32.22it/s]\n",
      "Training Epoch 1375: 100%|██████████| 891/891 [00:28<00:00, 31.15it/s]\n",
      "Training Epoch 1376: 100%|██████████| 891/891 [01:06<00:00, 13.38it/s]\n",
      "Training Epoch 1377: 100%|██████████| 891/891 [00:47<00:00, 18.66it/s]\n",
      "Training Epoch 1378: 100%|██████████| 891/891 [00:28<00:00, 30.99it/s]\n",
      "Training Epoch 1379: 100%|██████████| 891/891 [01:31<00:00,  9.70it/s]\n",
      "Training Epoch 1380: 100%|██████████| 891/891 [00:57<00:00, 15.61it/s]\n",
      "Training Epoch 1381: 100%|██████████| 891/891 [01:31<00:00,  9.79it/s]\n"
     ]
    },
    {
     "name": "stdout",
     "output_type": "stream",
     "text": [
      "Epoch 1380 - Train Loss: 0.0355, Train MSE: 0.0356, Train MAE: 0.1376\n",
      "Epoch 1380 - Validation Loss: 0.9718, Validation MSE: 0.9713, Validation MAE: 0.7307\n"
     ]
    },
    {
     "name": "stderr",
     "output_type": "stream",
     "text": [
      "Training Epoch 1382: 100%|██████████| 891/891 [01:01<00:00, 14.53it/s]\n",
      "Training Epoch 1383: 100%|██████████| 891/891 [01:19<00:00, 11.22it/s]\n",
      "Training Epoch 1384: 100%|██████████| 891/891 [01:34<00:00,  9.45it/s]\n",
      "Training Epoch 1385: 100%|██████████| 891/891 [01:28<00:00, 10.04it/s]\n",
      "Training Epoch 1386: 100%|██████████| 891/891 [01:21<00:00, 10.88it/s]\n",
      "Training Epoch 1387: 100%|██████████| 891/891 [01:34<00:00,  9.42it/s]\n",
      "Training Epoch 1388: 100%|██████████| 891/891 [01:23<00:00, 10.66it/s]\n",
      "Training Epoch 1389: 100%|██████████| 891/891 [01:19<00:00, 11.22it/s]\n",
      "Training Epoch 1390: 100%|██████████| 891/891 [00:38<00:00, 22.88it/s]\n",
      "Training Epoch 1391: 100%|██████████| 891/891 [00:39<00:00, 22.73it/s]\n"
     ]
    },
    {
     "name": "stdout",
     "output_type": "stream",
     "text": [
      "Epoch 1390 - Train Loss: 0.0353, Train MSE: 0.0353, Train MAE: 0.1376\n",
      "Epoch 1390 - Validation Loss: 0.9505, Validation MSE: 0.9513, Validation MAE: 0.7274\n"
     ]
    },
    {
     "name": "stderr",
     "output_type": "stream",
     "text": [
      "Training Epoch 1392: 100%|██████████| 891/891 [00:38<00:00, 22.87it/s]\n",
      "Training Epoch 1393: 100%|██████████| 891/891 [00:38<00:00, 23.18it/s]\n",
      "Training Epoch 1394: 100%|██████████| 891/891 [00:38<00:00, 22.89it/s]\n",
      "Training Epoch 1395: 100%|██████████| 891/891 [00:39<00:00, 22.83it/s]\n",
      "Training Epoch 1396: 100%|██████████| 891/891 [00:38<00:00, 23.39it/s]\n",
      "Training Epoch 1397: 100%|██████████| 891/891 [00:38<00:00, 23.29it/s]\n",
      "Training Epoch 1398: 100%|██████████| 891/891 [00:37<00:00, 23.55it/s]\n",
      "Training Epoch 1399: 100%|██████████| 891/891 [00:38<00:00, 23.25it/s]\n",
      "Training Epoch 1400: 100%|██████████| 891/891 [00:41<00:00, 21.70it/s]\n",
      "Training Epoch 1401: 100%|██████████| 891/891 [00:37<00:00, 23.56it/s]\n"
     ]
    },
    {
     "name": "stdout",
     "output_type": "stream",
     "text": [
      "Epoch 1400 - Train Loss: 0.0374, Train MSE: 0.0374, Train MAE: 0.1403\n",
      "Epoch 1400 - Validation Loss: 0.9419, Validation MSE: 0.9425, Validation MAE: 0.7205\n"
     ]
    },
    {
     "name": "stderr",
     "output_type": "stream",
     "text": [
      "Training Epoch 1402: 100%|██████████| 891/891 [00:39<00:00, 22.41it/s]\n",
      "Training Epoch 1403: 100%|██████████| 891/891 [00:40<00:00, 21.83it/s]\n",
      "Training Epoch 1404: 100%|██████████| 891/891 [00:39<00:00, 22.69it/s]\n",
      "Training Epoch 1405: 100%|██████████| 891/891 [00:37<00:00, 23.50it/s]\n",
      "Training Epoch 1406: 100%|██████████| 891/891 [00:40<00:00, 22.04it/s]\n",
      "Training Epoch 1407: 100%|██████████| 891/891 [00:40<00:00, 21.79it/s]\n",
      "Training Epoch 1408: 100%|██████████| 891/891 [00:39<00:00, 22.79it/s]\n",
      "Training Epoch 1409: 100%|██████████| 891/891 [00:40<00:00, 22.23it/s]\n",
      "Training Epoch 1410: 100%|██████████| 891/891 [00:39<00:00, 22.60it/s]\n",
      "Training Epoch 1411: 100%|██████████| 891/891 [00:41<00:00, 21.50it/s]\n"
     ]
    },
    {
     "name": "stdout",
     "output_type": "stream",
     "text": [
      "Epoch 1410 - Train Loss: 0.0353, Train MSE: 0.0353, Train MAE: 0.1354\n",
      "Epoch 1410 - Validation Loss: 0.9503, Validation MSE: 0.9505, Validation MAE: 0.7235\n"
     ]
    },
    {
     "name": "stderr",
     "output_type": "stream",
     "text": [
      "Training Epoch 1412: 100%|██████████| 891/891 [00:39<00:00, 22.48it/s]\n",
      "Training Epoch 1413: 100%|██████████| 891/891 [00:41<00:00, 21.71it/s]\n",
      "Training Epoch 1414: 100%|██████████| 891/891 [00:41<00:00, 21.30it/s]\n",
      "Training Epoch 1415: 100%|██████████| 891/891 [00:41<00:00, 21.68it/s]\n",
      "Training Epoch 1416: 100%|██████████| 891/891 [00:40<00:00, 22.27it/s]\n",
      "Training Epoch 1417: 100%|██████████| 891/891 [15:54<00:00,  1.07s/it]  \n",
      "Training Epoch 1418: 100%|██████████| 891/891 [00:28<00:00, 31.65it/s]\n",
      "Training Epoch 1419: 100%|██████████| 891/891 [00:26<00:00, 33.21it/s]\n",
      "Training Epoch 1420: 100%|██████████| 891/891 [00:27<00:00, 32.54it/s]\n",
      "Training Epoch 1421: 100%|██████████| 891/891 [00:27<00:00, 32.32it/s]\n"
     ]
    },
    {
     "name": "stdout",
     "output_type": "stream",
     "text": [
      "Epoch 1420 - Train Loss: 0.0345, Train MSE: 0.0344, Train MAE: 0.1359\n",
      "Epoch 1420 - Validation Loss: 0.9593, Validation MSE: 0.9599, Validation MAE: 0.7259\n"
     ]
    },
    {
     "name": "stderr",
     "output_type": "stream",
     "text": [
      "Training Epoch 1422: 100%|██████████| 891/891 [00:27<00:00, 32.56it/s]\n",
      "Training Epoch 1423: 100%|██████████| 891/891 [00:27<00:00, 32.64it/s]\n",
      "Training Epoch 1424: 100%|██████████| 891/891 [00:28<00:00, 31.08it/s]\n",
      "Training Epoch 1425: 100%|██████████| 891/891 [00:27<00:00, 32.49it/s]\n",
      "Training Epoch 1426: 100%|██████████| 891/891 [00:28<00:00, 31.11it/s]\n",
      "Training Epoch 1427: 100%|██████████| 891/891 [00:27<00:00, 32.84it/s]\n",
      "Training Epoch 1428: 100%|██████████| 891/891 [00:28<00:00, 30.96it/s]\n",
      "Training Epoch 1429: 100%|██████████| 891/891 [00:27<00:00, 32.59it/s]\n",
      "Training Epoch 1430: 100%|██████████| 891/891 [00:28<00:00, 31.04it/s]\n",
      "Training Epoch 1431: 100%|██████████| 891/891 [00:27<00:00, 32.55it/s]\n"
     ]
    },
    {
     "name": "stdout",
     "output_type": "stream",
     "text": [
      "Epoch 1430 - Train Loss: 0.0339, Train MSE: 0.0339, Train MAE: 0.1354\n",
      "Epoch 1430 - Validation Loss: 0.9693, Validation MSE: 0.9702, Validation MAE: 0.7289\n"
     ]
    },
    {
     "name": "stderr",
     "output_type": "stream",
     "text": [
      "Training Epoch 1432: 100%|██████████| 891/891 [00:28<00:00, 31.20it/s]\n",
      "Training Epoch 1433: 100%|██████████| 891/891 [00:27<00:00, 32.56it/s]\n",
      "Training Epoch 1434: 100%|██████████| 891/891 [15:39<00:00,  1.05s/it]  \n",
      "Training Epoch 1435: 100%|██████████| 891/891 [00:28<00:00, 31.81it/s]\n",
      "Training Epoch 1436: 100%|██████████| 891/891 [15:55<00:00,  1.07s/it]  \n",
      "Training Epoch 1437: 100%|██████████| 891/891 [00:26<00:00, 33.84it/s]\n",
      "Training Epoch 1438: 100%|██████████| 891/891 [16:55<00:00,  1.14s/it]   \n",
      "Training Epoch 1439: 100%|██████████| 891/891 [00:26<00:00, 33.69it/s]\n",
      "Training Epoch 1440: 100%|██████████| 891/891 [02:36<00:00,  5.71it/s]  \n",
      "Training Epoch 1441: 100%|██████████| 891/891 [00:19<00:00, 46.30it/s]\n"
     ]
    },
    {
     "name": "stdout",
     "output_type": "stream",
     "text": [
      "Epoch 1440 - Train Loss: 0.0338, Train MSE: 0.0338, Train MAE: 0.1355\n",
      "Epoch 1440 - Validation Loss: 0.9655, Validation MSE: 0.9659, Validation MAE: 0.7289\n"
     ]
    },
    {
     "name": "stderr",
     "output_type": "stream",
     "text": [
      "Training Epoch 1442: 100%|██████████| 891/891 [00:19<00:00, 45.60it/s]\n",
      "Training Epoch 1443: 100%|██████████| 891/891 [00:19<00:00, 46.58it/s]\n",
      "Training Epoch 1444: 100%|██████████| 891/891 [00:19<00:00, 44.84it/s]\n",
      "Training Epoch 1445: 100%|██████████| 891/891 [00:19<00:00, 44.67it/s]\n",
      "Training Epoch 1446: 100%|██████████| 891/891 [00:22<00:00, 39.91it/s]\n",
      "Training Epoch 1447: 100%|██████████| 891/891 [00:20<00:00, 42.88it/s]\n",
      "Training Epoch 1448: 100%|██████████| 891/891 [00:20<00:00, 43.04it/s]\n",
      "Training Epoch 1449: 100%|██████████| 891/891 [00:20<00:00, 44.04it/s]\n",
      "Training Epoch 1450: 100%|██████████| 891/891 [00:19<00:00, 44.97it/s]\n",
      "Training Epoch 1451: 100%|██████████| 891/891 [00:21<00:00, 41.42it/s]\n"
     ]
    },
    {
     "name": "stdout",
     "output_type": "stream",
     "text": [
      "Epoch 1450 - Train Loss: 0.0353, Train MSE: 0.0353, Train MAE: 0.1364\n",
      "Epoch 1450 - Validation Loss: 0.9396, Validation MSE: 0.9403, Validation MAE: 0.7209\n"
     ]
    },
    {
     "name": "stderr",
     "output_type": "stream",
     "text": [
      "Training Epoch 1452: 100%|██████████| 891/891 [00:20<00:00, 44.22it/s]\n",
      "Training Epoch 1453: 100%|██████████| 891/891 [00:19<00:00, 44.55it/s]\n",
      "Training Epoch 1454: 100%|██████████| 891/891 [00:19<00:00, 44.64it/s]\n",
      "Training Epoch 1455: 100%|██████████| 891/891 [00:22<00:00, 40.45it/s]\n",
      "Training Epoch 1456: 100%|██████████| 891/891 [00:21<00:00, 41.80it/s]\n",
      "Training Epoch 1457: 100%|██████████| 891/891 [00:20<00:00, 42.80it/s]\n",
      "Training Epoch 1458: 100%|██████████| 891/891 [00:19<00:00, 45.03it/s]\n",
      "Training Epoch 1459: 100%|██████████| 891/891 [00:20<00:00, 44.22it/s]\n",
      "Training Epoch 1460: 100%|██████████| 891/891 [00:20<00:00, 43.65it/s]\n",
      "Training Epoch 1461: 100%|██████████| 891/891 [00:21<00:00, 42.41it/s]\n"
     ]
    },
    {
     "name": "stdout",
     "output_type": "stream",
     "text": [
      "Epoch 1460 - Train Loss: 0.0345, Train MSE: 0.0345, Train MAE: 0.1359\n",
      "Epoch 1460 - Validation Loss: 0.9509, Validation MSE: 0.9500, Validation MAE: 0.7232\n"
     ]
    },
    {
     "name": "stderr",
     "output_type": "stream",
     "text": [
      "Training Epoch 1462: 100%|██████████| 891/891 [00:19<00:00, 46.66it/s]\n",
      "Training Epoch 1463: 100%|██████████| 891/891 [00:19<00:00, 46.66it/s]\n",
      "Training Epoch 1464: 100%|██████████| 891/891 [00:18<00:00, 47.57it/s]\n",
      "Training Epoch 1465: 100%|██████████| 891/891 [00:18<00:00, 47.30it/s]\n",
      "Training Epoch 1466: 100%|██████████| 891/891 [00:19<00:00, 45.77it/s]\n",
      "Training Epoch 1467: 100%|██████████| 891/891 [00:18<00:00, 47.78it/s]\n",
      "Training Epoch 1468: 100%|██████████| 891/891 [00:20<00:00, 44.18it/s]\n",
      "Training Epoch 1469: 100%|██████████| 891/891 [00:21<00:00, 41.91it/s]\n",
      "Training Epoch 1470: 100%|██████████| 891/891 [00:19<00:00, 45.54it/s]\n",
      "Training Epoch 1471: 100%|██████████| 891/891 [00:20<00:00, 43.93it/s]\n"
     ]
    },
    {
     "name": "stdout",
     "output_type": "stream",
     "text": [
      "Epoch 1470 - Train Loss: 0.0334, Train MSE: 0.0334, Train MAE: 0.1340\n",
      "Epoch 1470 - Validation Loss: 0.9655, Validation MSE: 0.9655, Validation MAE: 0.7279\n"
     ]
    },
    {
     "name": "stderr",
     "output_type": "stream",
     "text": [
      "Training Epoch 1472: 100%|██████████| 891/891 [00:20<00:00, 43.99it/s]\n",
      "Training Epoch 1473: 100%|██████████| 891/891 [00:19<00:00, 45.30it/s]\n",
      "Training Epoch 1474: 100%|██████████| 891/891 [00:19<00:00, 45.60it/s]\n",
      "Training Epoch 1475: 100%|██████████| 891/891 [00:19<00:00, 45.16it/s]\n",
      "Training Epoch 1476: 100%|██████████| 891/891 [00:19<00:00, 45.56it/s]\n",
      "Training Epoch 1477: 100%|██████████| 891/891 [00:20<00:00, 43.74it/s]\n",
      "Training Epoch 1478: 100%|██████████| 891/891 [00:19<00:00, 45.17it/s]\n",
      "Training Epoch 1479: 100%|██████████| 891/891 [00:20<00:00, 43.96it/s]\n",
      "Training Epoch 1480: 100%|██████████| 891/891 [00:19<00:00, 44.70it/s]\n",
      "Training Epoch 1481: 100%|██████████| 891/891 [00:19<00:00, 44.80it/s]\n"
     ]
    },
    {
     "name": "stdout",
     "output_type": "stream",
     "text": [
      "Epoch 1480 - Train Loss: 0.0347, Train MSE: 0.0347, Train MAE: 0.1364\n",
      "Epoch 1480 - Validation Loss: 0.9527, Validation MSE: 0.9531, Validation MAE: 0.7277\n"
     ]
    },
    {
     "name": "stderr",
     "output_type": "stream",
     "text": [
      "Training Epoch 1482: 100%|██████████| 891/891 [00:19<00:00, 45.08it/s]\n",
      "Training Epoch 1483: 100%|██████████| 891/891 [00:20<00:00, 43.07it/s]\n",
      "Training Epoch 1484: 100%|██████████| 891/891 [00:19<00:00, 45.00it/s]\n",
      "Training Epoch 1485: 100%|██████████| 891/891 [00:19<00:00, 44.65it/s]\n",
      "Training Epoch 1486: 100%|██████████| 891/891 [00:20<00:00, 44.51it/s]\n",
      "Training Epoch 1487: 100%|██████████| 891/891 [00:19<00:00, 45.16it/s]\n",
      "Training Epoch 1488: 100%|██████████| 891/891 [00:20<00:00, 44.26it/s]\n",
      "Training Epoch 1489: 100%|██████████| 891/891 [00:20<00:00, 44.54it/s]\n",
      "Training Epoch 1490: 100%|██████████| 891/891 [00:19<00:00, 45.33it/s]\n",
      "Training Epoch 1491: 100%|██████████| 891/891 [00:19<00:00, 45.43it/s]\n"
     ]
    },
    {
     "name": "stdout",
     "output_type": "stream",
     "text": [
      "Epoch 1490 - Train Loss: 0.0334, Train MSE: 0.0334, Train MAE: 0.1343\n",
      "Epoch 1490 - Validation Loss: 0.9539, Validation MSE: 0.9540, Validation MAE: 0.7247\n"
     ]
    },
    {
     "name": "stderr",
     "output_type": "stream",
     "text": [
      "Training Epoch 1492: 100%|██████████| 891/891 [00:19<00:00, 44.71it/s]\n",
      "Training Epoch 1493: 100%|██████████| 891/891 [00:19<00:00, 45.37it/s]\n",
      "Training Epoch 1494: 100%|██████████| 891/891 [00:19<00:00, 45.07it/s]\n",
      "Training Epoch 1495: 100%|██████████| 891/891 [00:19<00:00, 44.86it/s]\n",
      "Training Epoch 1496: 100%|██████████| 891/891 [00:19<00:00, 45.61it/s]\n",
      "Training Epoch 1497: 100%|██████████| 891/891 [00:19<00:00, 45.95it/s]\n",
      "Training Epoch 1498: 100%|██████████| 891/891 [00:20<00:00, 43.42it/s]\n",
      "Training Epoch 1499: 100%|██████████| 891/891 [00:19<00:00, 45.12it/s]\n",
      "Training Epoch 1500: 100%|██████████| 891/891 [00:19<00:00, 44.74it/s]\n",
      "Training Epoch 1501: 100%|██████████| 891/891 [00:19<00:00, 44.57it/s]\n"
     ]
    },
    {
     "name": "stdout",
     "output_type": "stream",
     "text": [
      "Epoch 1500 - Train Loss: 0.0333, Train MSE: 0.0333, Train MAE: 0.1334\n",
      "Epoch 1500 - Validation Loss: 0.9579, Validation MSE: 0.9581, Validation MAE: 0.7257\n"
     ]
    },
    {
     "name": "stderr",
     "output_type": "stream",
     "text": [
      "Training Epoch 1502: 100%|██████████| 891/891 [00:19<00:00, 45.25it/s]\n",
      "Training Epoch 1503: 100%|██████████| 891/891 [00:19<00:00, 44.77it/s]\n",
      "Training Epoch 1504: 100%|██████████| 891/891 [00:20<00:00, 44.44it/s]\n",
      "Training Epoch 1505: 100%|██████████| 891/891 [00:19<00:00, 45.51it/s]\n",
      "Training Epoch 1506: 100%|██████████| 891/891 [00:20<00:00, 44.24it/s]\n",
      "Training Epoch 1507: 100%|██████████| 891/891 [00:19<00:00, 44.74it/s]\n",
      "Training Epoch 1508: 100%|██████████| 891/891 [00:20<00:00, 44.53it/s]\n",
      "Training Epoch 1509: 100%|██████████| 891/891 [00:20<00:00, 43.70it/s]\n",
      "Training Epoch 1510: 100%|██████████| 891/891 [00:19<00:00, 45.84it/s]\n",
      "Training Epoch 1511: 100%|██████████| 891/891 [00:19<00:00, 45.47it/s]\n"
     ]
    },
    {
     "name": "stdout",
     "output_type": "stream",
     "text": [
      "Epoch 1510 - Train Loss: 0.0318, Train MSE: 0.0318, Train MAE: 0.1318\n",
      "Epoch 1510 - Validation Loss: 0.9390, Validation MSE: 0.9384, Validation MAE: 0.7192\n"
     ]
    },
    {
     "name": "stderr",
     "output_type": "stream",
     "text": [
      "Training Epoch 1512: 100%|██████████| 891/891 [00:20<00:00, 44.39it/s]\n",
      "Training Epoch 1513: 100%|██████████| 891/891 [00:19<00:00, 45.16it/s]\n",
      "Training Epoch 1514: 100%|██████████| 891/891 [00:19<00:00, 45.50it/s]\n",
      "Training Epoch 1515: 100%|██████████| 891/891 [00:20<00:00, 44.31it/s]\n",
      "Training Epoch 1516: 100%|██████████| 891/891 [00:19<00:00, 44.70it/s]\n",
      "Training Epoch 1517: 100%|██████████| 891/891 [00:19<00:00, 44.78it/s]\n",
      "Training Epoch 1518: 100%|██████████| 891/891 [00:19<00:00, 45.22it/s]\n",
      "Training Epoch 1519: 100%|██████████| 891/891 [00:19<00:00, 44.65it/s]\n",
      "Training Epoch 1520: 100%|██████████| 891/891 [00:19<00:00, 45.33it/s]\n",
      "Training Epoch 1521: 100%|██████████| 891/891 [00:19<00:00, 44.95it/s]\n"
     ]
    },
    {
     "name": "stdout",
     "output_type": "stream",
     "text": [
      "Epoch 1520 - Train Loss: 0.0334, Train MSE: 0.0334, Train MAE: 0.1335\n",
      "Epoch 1520 - Validation Loss: 0.9375, Validation MSE: 0.9380, Validation MAE: 0.7197\n"
     ]
    },
    {
     "name": "stderr",
     "output_type": "stream",
     "text": [
      "Training Epoch 1522: 100%|██████████| 891/891 [00:19<00:00, 45.10it/s]\n",
      "Training Epoch 1523: 100%|██████████| 891/891 [00:19<00:00, 45.34it/s]\n",
      "Training Epoch 1524: 100%|██████████| 891/891 [00:20<00:00, 43.85it/s]\n",
      "Training Epoch 1525: 100%|██████████| 891/891 [00:19<00:00, 44.83it/s]\n",
      "Training Epoch 1526: 100%|██████████| 891/891 [00:19<00:00, 45.15it/s]\n",
      "Training Epoch 1527: 100%|██████████| 891/891 [00:20<00:00, 43.65it/s]\n",
      "Training Epoch 1528: 100%|██████████| 891/891 [00:19<00:00, 44.70it/s]\n",
      "Training Epoch 1529: 100%|██████████| 891/891 [00:19<00:00, 46.25it/s]\n",
      "Training Epoch 1530: 100%|██████████| 891/891 [00:19<00:00, 45.03it/s]\n",
      "Training Epoch 1531: 100%|██████████| 891/891 [00:19<00:00, 45.96it/s]\n"
     ]
    },
    {
     "name": "stdout",
     "output_type": "stream",
     "text": [
      "Epoch 1530 - Train Loss: 0.0356, Train MSE: 0.0356, Train MAE: 0.1374\n",
      "Epoch 1530 - Validation Loss: 0.9393, Validation MSE: 0.9401, Validation MAE: 0.7180\n"
     ]
    },
    {
     "name": "stderr",
     "output_type": "stream",
     "text": [
      "Training Epoch 1532: 100%|██████████| 891/891 [00:19<00:00, 45.79it/s]\n",
      "Training Epoch 1533: 100%|██████████| 891/891 [00:19<00:00, 45.50it/s]\n",
      "Training Epoch 1534: 100%|██████████| 891/891 [00:19<00:00, 44.94it/s]\n",
      "Training Epoch 1535: 100%|██████████| 891/891 [00:19<00:00, 45.10it/s]\n",
      "Training Epoch 1536: 100%|██████████| 891/891 [00:19<00:00, 44.92it/s]\n",
      "Training Epoch 1537: 100%|██████████| 891/891 [00:19<00:00, 45.00it/s]\n",
      "Training Epoch 1538: 100%|██████████| 891/891 [00:19<00:00, 45.46it/s]\n",
      "Training Epoch 1539: 100%|██████████| 891/891 [00:20<00:00, 44.09it/s]\n",
      "Training Epoch 1540: 100%|██████████| 891/891 [00:19<00:00, 45.60it/s]\n",
      "Training Epoch 1541: 100%|██████████| 891/891 [00:19<00:00, 46.66it/s]\n"
     ]
    },
    {
     "name": "stdout",
     "output_type": "stream",
     "text": [
      "Epoch 1540 - Train Loss: 0.0345, Train MSE: 0.0345, Train MAE: 0.1334\n",
      "Epoch 1540 - Validation Loss: 0.9487, Validation MSE: 0.9481, Validation MAE: 0.7203\n"
     ]
    },
    {
     "name": "stderr",
     "output_type": "stream",
     "text": [
      "Training Epoch 1542: 100%|██████████| 891/891 [00:20<00:00, 44.40it/s]\n",
      "Training Epoch 1543: 100%|██████████| 891/891 [00:19<00:00, 45.57it/s]\n",
      "Training Epoch 1544: 100%|██████████| 891/891 [00:19<00:00, 45.88it/s]\n",
      "Training Epoch 1545: 100%|██████████| 891/891 [00:19<00:00, 45.52it/s]\n",
      "Training Epoch 1546: 100%|██████████| 891/891 [00:19<00:00, 45.15it/s]\n",
      "Training Epoch 1547: 100%|██████████| 891/891 [00:19<00:00, 45.84it/s]\n",
      "Training Epoch 1548: 100%|██████████| 891/891 [00:19<00:00, 45.65it/s]\n",
      "Training Epoch 1549: 100%|██████████| 891/891 [00:19<00:00, 45.67it/s]\n",
      "Training Epoch 1550: 100%|██████████| 891/891 [00:19<00:00, 45.17it/s]\n",
      "Training Epoch 1551: 100%|██████████| 891/891 [00:19<00:00, 45.64it/s]\n"
     ]
    },
    {
     "name": "stdout",
     "output_type": "stream",
     "text": [
      "Epoch 1550 - Train Loss: 0.0352, Train MSE: 0.0351, Train MAE: 0.1357\n",
      "Epoch 1550 - Validation Loss: 0.9480, Validation MSE: 0.9485, Validation MAE: 0.7219\n"
     ]
    },
    {
     "name": "stderr",
     "output_type": "stream",
     "text": [
      "Training Epoch 1552: 100%|██████████| 891/891 [00:19<00:00, 45.49it/s]\n",
      "Training Epoch 1553: 100%|██████████| 891/891 [00:19<00:00, 45.18it/s]\n",
      "Training Epoch 1554: 100%|██████████| 891/891 [00:19<00:00, 45.10it/s]\n",
      "Training Epoch 1555: 100%|██████████| 891/891 [00:19<00:00, 45.23it/s]\n",
      "Training Epoch 1556: 100%|██████████| 891/891 [00:19<00:00, 45.11it/s]\n",
      "Training Epoch 1557: 100%|██████████| 891/891 [00:19<00:00, 45.07it/s]\n",
      "Training Epoch 1558: 100%|██████████| 891/891 [00:19<00:00, 46.66it/s]\n",
      "Training Epoch 1559: 100%|██████████| 891/891 [00:19<00:00, 45.71it/s]\n",
      "Training Epoch 1560: 100%|██████████| 891/891 [00:19<00:00, 44.78it/s]\n",
      "Training Epoch 1561: 100%|██████████| 891/891 [00:19<00:00, 45.57it/s]\n"
     ]
    },
    {
     "name": "stdout",
     "output_type": "stream",
     "text": [
      "Epoch 1560 - Train Loss: 0.0350, Train MSE: 0.0350, Train MAE: 0.1359\n",
      "Epoch 1560 - Validation Loss: 0.9331, Validation MSE: 0.9336, Validation MAE: 0.7161\n"
     ]
    },
    {
     "name": "stderr",
     "output_type": "stream",
     "text": [
      "Training Epoch 1562: 100%|██████████| 891/891 [00:19<00:00, 45.23it/s]\n",
      "Training Epoch 1563: 100%|██████████| 891/891 [00:19<00:00, 44.66it/s]\n",
      "Training Epoch 1564: 100%|██████████| 891/891 [00:19<00:00, 45.48it/s]\n",
      "Training Epoch 1565: 100%|██████████| 891/891 [00:19<00:00, 45.50it/s]\n",
      "Training Epoch 1566: 100%|██████████| 891/891 [00:19<00:00, 45.01it/s]\n",
      "Training Epoch 1567: 100%|██████████| 891/891 [00:19<00:00, 45.14it/s]\n",
      "Training Epoch 1568: 100%|██████████| 891/891 [00:19<00:00, 44.92it/s]\n",
      "Training Epoch 1569: 100%|██████████| 891/891 [00:19<00:00, 45.23it/s]\n",
      "Training Epoch 1570: 100%|██████████| 891/891 [00:19<00:00, 45.90it/s]\n",
      "Training Epoch 1571: 100%|██████████| 891/891 [00:19<00:00, 44.93it/s]\n"
     ]
    },
    {
     "name": "stdout",
     "output_type": "stream",
     "text": [
      "Epoch 1570 - Train Loss: 0.0333, Train MSE: 0.0333, Train MAE: 0.1335\n",
      "Epoch 1570 - Validation Loss: 0.9405, Validation MSE: 0.9407, Validation MAE: 0.7196\n"
     ]
    },
    {
     "name": "stderr",
     "output_type": "stream",
     "text": [
      "Training Epoch 1572: 100%|██████████| 891/891 [00:19<00:00, 44.97it/s]\n",
      "Training Epoch 1573: 100%|██████████| 891/891 [00:19<00:00, 46.14it/s]\n",
      "Training Epoch 1574: 100%|██████████| 891/891 [00:19<00:00, 45.43it/s]\n",
      "Training Epoch 1575: 100%|██████████| 891/891 [00:19<00:00, 46.24it/s]\n",
      "Training Epoch 1576: 100%|██████████| 891/891 [00:19<00:00, 45.22it/s]\n",
      "Training Epoch 1577: 100%|██████████| 891/891 [00:19<00:00, 45.42it/s]\n",
      "Training Epoch 1578: 100%|██████████| 891/891 [00:19<00:00, 44.93it/s]\n",
      "Training Epoch 1579: 100%|██████████| 891/891 [00:19<00:00, 45.17it/s]\n",
      "Training Epoch 1580: 100%|██████████| 891/891 [00:19<00:00, 46.17it/s]\n",
      "Training Epoch 1581: 100%|██████████| 891/891 [00:19<00:00, 45.51it/s]\n"
     ]
    },
    {
     "name": "stdout",
     "output_type": "stream",
     "text": [
      "Epoch 1580 - Train Loss: 0.0337, Train MSE: 0.0337, Train MAE: 0.1333\n",
      "Epoch 1580 - Validation Loss: 0.9545, Validation MSE: 0.9550, Validation MAE: 0.7242\n"
     ]
    },
    {
     "name": "stderr",
     "output_type": "stream",
     "text": [
      "Training Epoch 1582: 100%|██████████| 891/891 [00:19<00:00, 46.21it/s]\n",
      "Training Epoch 1583: 100%|██████████| 891/891 [00:20<00:00, 44.36it/s]\n",
      "Training Epoch 1584: 100%|██████████| 891/891 [00:19<00:00, 45.52it/s]\n",
      "Training Epoch 1585: 100%|██████████| 891/891 [00:19<00:00, 45.70it/s]\n",
      "Training Epoch 1586: 100%|██████████| 891/891 [00:20<00:00, 42.92it/s]\n",
      "Training Epoch 1587: 100%|██████████| 891/891 [00:19<00:00, 44.81it/s]\n",
      "Training Epoch 1588: 100%|██████████| 891/891 [00:19<00:00, 45.91it/s]\n",
      "Training Epoch 1589: 100%|██████████| 891/891 [00:19<00:00, 45.38it/s]\n",
      "Training Epoch 1590: 100%|██████████| 891/891 [00:19<00:00, 45.11it/s]\n",
      "Training Epoch 1591: 100%|██████████| 891/891 [00:19<00:00, 45.49it/s]\n"
     ]
    },
    {
     "name": "stdout",
     "output_type": "stream",
     "text": [
      "Epoch 1590 - Train Loss: 0.0333, Train MSE: 0.0333, Train MAE: 0.1338\n",
      "Epoch 1590 - Validation Loss: 0.9560, Validation MSE: 0.9572, Validation MAE: 0.7230\n"
     ]
    },
    {
     "name": "stderr",
     "output_type": "stream",
     "text": [
      "Training Epoch 1592: 100%|██████████| 891/891 [00:19<00:00, 44.65it/s]\n",
      "Training Epoch 1593: 100%|██████████| 891/891 [00:19<00:00, 46.24it/s]\n",
      "Training Epoch 1594: 100%|██████████| 891/891 [00:19<00:00, 46.29it/s]\n",
      "Training Epoch 1595: 100%|██████████| 891/891 [00:19<00:00, 44.90it/s]\n",
      "Training Epoch 1596: 100%|██████████| 891/891 [00:19<00:00, 45.45it/s]\n",
      "Training Epoch 1597: 100%|██████████| 891/891 [00:19<00:00, 45.63it/s]\n",
      "Training Epoch 1598: 100%|██████████| 891/891 [00:19<00:00, 45.54it/s]\n",
      "Training Epoch 1599: 100%|██████████| 891/891 [00:19<00:00, 45.07it/s]\n",
      "Training Epoch 1600: 100%|██████████| 891/891 [00:19<00:00, 45.21it/s]\n",
      "Training Epoch 1601: 100%|██████████| 891/891 [00:19<00:00, 44.97it/s]\n"
     ]
    },
    {
     "name": "stdout",
     "output_type": "stream",
     "text": [
      "Epoch 1600 - Train Loss: 0.0341, Train MSE: 0.0340, Train MAE: 0.1329\n",
      "Epoch 1600 - Validation Loss: 0.9505, Validation MSE: 0.9510, Validation MAE: 0.7229\n"
     ]
    },
    {
     "name": "stderr",
     "output_type": "stream",
     "text": [
      "Training Epoch 1602: 100%|██████████| 891/891 [00:19<00:00, 44.59it/s]\n",
      "Training Epoch 1603: 100%|██████████| 891/891 [00:19<00:00, 45.49it/s]\n",
      "Training Epoch 1604: 100%|██████████| 891/891 [00:19<00:00, 45.65it/s]\n",
      "Training Epoch 1605: 100%|██████████| 891/891 [00:19<00:00, 45.29it/s]\n",
      "Training Epoch 1606: 100%|██████████| 891/891 [00:19<00:00, 45.27it/s]\n",
      "Training Epoch 1607: 100%|██████████| 891/891 [00:20<00:00, 44.47it/s]\n",
      "Training Epoch 1608: 100%|██████████| 891/891 [00:19<00:00, 45.71it/s]\n",
      "Training Epoch 1609: 100%|██████████| 891/891 [00:19<00:00, 45.33it/s]\n",
      "Training Epoch 1610: 100%|██████████| 891/891 [00:19<00:00, 46.56it/s]\n",
      "Training Epoch 1611: 100%|██████████| 891/891 [00:19<00:00, 44.92it/s]\n"
     ]
    },
    {
     "name": "stdout",
     "output_type": "stream",
     "text": [
      "Epoch 1610 - Train Loss: 0.0337, Train MSE: 0.0337, Train MAE: 0.1332\n",
      "Epoch 1610 - Validation Loss: 0.9398, Validation MSE: 0.9413, Validation MAE: 0.7180\n"
     ]
    },
    {
     "name": "stderr",
     "output_type": "stream",
     "text": [
      "Training Epoch 1612: 100%|██████████| 891/891 [00:19<00:00, 45.93it/s]\n",
      "Training Epoch 1613: 100%|██████████| 891/891 [00:19<00:00, 45.19it/s]\n",
      "Training Epoch 1614: 100%|██████████| 891/891 [00:19<00:00, 44.75it/s]\n",
      "Training Epoch 1615: 100%|██████████| 891/891 [00:19<00:00, 45.57it/s]\n",
      "Training Epoch 1616: 100%|██████████| 891/891 [00:20<00:00, 44.24it/s]\n",
      "Training Epoch 1617: 100%|██████████| 891/891 [00:19<00:00, 44.72it/s]\n",
      "Training Epoch 1618: 100%|██████████| 891/891 [00:19<00:00, 45.32it/s]\n",
      "Training Epoch 1619: 100%|██████████| 891/891 [00:20<00:00, 43.50it/s]\n",
      "Training Epoch 1620: 100%|██████████| 891/891 [00:19<00:00, 45.08it/s]\n",
      "Training Epoch 1621: 100%|██████████| 891/891 [00:20<00:00, 44.51it/s]\n"
     ]
    },
    {
     "name": "stdout",
     "output_type": "stream",
     "text": [
      "Epoch 1620 - Train Loss: 0.0311, Train MSE: 0.0311, Train MAE: 0.1295\n",
      "Epoch 1620 - Validation Loss: 0.9259, Validation MSE: 0.9265, Validation MAE: 0.7142\n"
     ]
    },
    {
     "name": "stderr",
     "output_type": "stream",
     "text": [
      "Training Epoch 1622: 100%|██████████| 891/891 [00:19<00:00, 44.74it/s]\n",
      "Training Epoch 1623: 100%|██████████| 891/891 [00:19<00:00, 45.46it/s]\n",
      "Training Epoch 1624: 100%|██████████| 891/891 [00:20<00:00, 43.81it/s]\n",
      "Training Epoch 1625: 100%|██████████| 891/891 [00:20<00:00, 43.92it/s]\n",
      "Training Epoch 1626: 100%|██████████| 891/891 [00:19<00:00, 45.48it/s]\n",
      "Training Epoch 1627: 100%|██████████| 891/891 [00:20<00:00, 42.64it/s]\n",
      "Training Epoch 1628: 100%|██████████| 891/891 [00:19<00:00, 44.75it/s]\n",
      "Training Epoch 1629: 100%|██████████| 891/891 [00:19<00:00, 44.66it/s]\n",
      "Training Epoch 1630: 100%|██████████| 891/891 [00:20<00:00, 44.21it/s]\n",
      "Training Epoch 1631: 100%|██████████| 891/891 [00:19<00:00, 44.93it/s]\n"
     ]
    },
    {
     "name": "stdout",
     "output_type": "stream",
     "text": [
      "Epoch 1630 - Train Loss: 0.0330, Train MSE: 0.0330, Train MAE: 0.1328\n",
      "Epoch 1630 - Validation Loss: 0.9442, Validation MSE: 0.9450, Validation MAE: 0.7227\n"
     ]
    },
    {
     "name": "stderr",
     "output_type": "stream",
     "text": [
      "Training Epoch 1632: 100%|██████████| 891/891 [00:19<00:00, 44.60it/s]\n",
      "Training Epoch 1633: 100%|██████████| 891/891 [00:20<00:00, 44.52it/s]\n",
      "Training Epoch 1634: 100%|██████████| 891/891 [00:20<00:00, 44.49it/s]\n",
      "Training Epoch 1635: 100%|██████████| 891/891 [00:19<00:00, 45.69it/s]\n",
      "Training Epoch 1636: 100%|██████████| 891/891 [00:19<00:00, 45.36it/s]\n",
      "Training Epoch 1637: 100%|██████████| 891/891 [00:19<00:00, 44.79it/s]\n",
      "Training Epoch 1638: 100%|██████████| 891/891 [00:19<00:00, 45.63it/s]\n",
      "Training Epoch 1639: 100%|██████████| 891/891 [00:19<00:00, 44.77it/s]\n",
      "Training Epoch 1640: 100%|██████████| 891/891 [00:19<00:00, 45.62it/s]\n",
      "Training Epoch 1641: 100%|██████████| 891/891 [00:19<00:00, 45.07it/s]\n"
     ]
    },
    {
     "name": "stdout",
     "output_type": "stream",
     "text": [
      "Epoch 1640 - Train Loss: 0.0333, Train MSE: 0.0333, Train MAE: 0.1330\n",
      "Epoch 1640 - Validation Loss: 0.9619, Validation MSE: 0.9630, Validation MAE: 0.7275\n"
     ]
    },
    {
     "name": "stderr",
     "output_type": "stream",
     "text": [
      "Training Epoch 1642: 100%|██████████| 891/891 [00:20<00:00, 43.49it/s]\n",
      "Training Epoch 1643: 100%|██████████| 891/891 [00:19<00:00, 45.69it/s]\n",
      "Training Epoch 1644: 100%|██████████| 891/891 [00:19<00:00, 45.14it/s]\n",
      "Training Epoch 1645: 100%|██████████| 891/891 [00:19<00:00, 44.64it/s]\n",
      "Training Epoch 1646: 100%|██████████| 891/891 [00:19<00:00, 45.87it/s]\n",
      "Training Epoch 1647: 100%|██████████| 891/891 [00:19<00:00, 45.04it/s]\n",
      "Training Epoch 1648: 100%|██████████| 891/891 [00:20<00:00, 44.21it/s]\n",
      "Training Epoch 1649: 100%|██████████| 891/891 [00:19<00:00, 45.67it/s]\n",
      "Training Epoch 1650: 100%|██████████| 891/891 [00:19<00:00, 44.77it/s]\n",
      "Training Epoch 1651: 100%|██████████| 891/891 [00:20<00:00, 44.42it/s]\n"
     ]
    },
    {
     "name": "stdout",
     "output_type": "stream",
     "text": [
      "Epoch 1650 - Train Loss: 0.0326, Train MSE: 0.0325, Train MAE: 0.1314\n",
      "Epoch 1650 - Validation Loss: 0.9497, Validation MSE: 0.9510, Validation MAE: 0.7228\n"
     ]
    },
    {
     "name": "stderr",
     "output_type": "stream",
     "text": [
      "Training Epoch 1652: 100%|██████████| 891/891 [00:19<00:00, 45.15it/s]\n",
      "Training Epoch 1653: 100%|██████████| 891/891 [00:19<00:00, 45.60it/s]\n",
      "Training Epoch 1654: 100%|██████████| 891/891 [00:20<00:00, 44.44it/s]\n",
      "Training Epoch 1655: 100%|██████████| 891/891 [00:19<00:00, 45.60it/s]\n",
      "Training Epoch 1656: 100%|██████████| 891/891 [00:19<00:00, 46.08it/s]\n",
      "Training Epoch 1657: 100%|██████████| 891/891 [00:20<00:00, 44.30it/s]\n",
      "Training Epoch 1658: 100%|██████████| 891/891 [00:19<00:00, 45.13it/s]\n",
      "Training Epoch 1659: 100%|██████████| 891/891 [00:19<00:00, 45.47it/s]\n",
      "Training Epoch 1660: 100%|██████████| 891/891 [00:20<00:00, 44.21it/s]\n",
      "Training Epoch 1661: 100%|██████████| 891/891 [00:19<00:00, 44.96it/s]\n"
     ]
    },
    {
     "name": "stdout",
     "output_type": "stream",
     "text": [
      "Epoch 1660 - Train Loss: 0.0326, Train MSE: 0.0325, Train MAE: 0.1319\n",
      "Epoch 1660 - Validation Loss: 0.9469, Validation MSE: 0.9481, Validation MAE: 0.7190\n"
     ]
    },
    {
     "name": "stderr",
     "output_type": "stream",
     "text": [
      "Training Epoch 1662: 100%|██████████| 891/891 [00:19<00:00, 44.71it/s]\n",
      "Training Epoch 1663: 100%|██████████| 891/891 [00:19<00:00, 44.75it/s]\n",
      "Training Epoch 1664: 100%|██████████| 891/891 [00:17<00:00, 50.00it/s]\n",
      "Training Epoch 1665: 100%|██████████| 891/891 [00:17<00:00, 50.45it/s]\n",
      "Training Epoch 1666: 100%|██████████| 891/891 [00:17<00:00, 49.78it/s]\n",
      "Training Epoch 1667: 100%|██████████| 891/891 [00:17<00:00, 50.40it/s]\n",
      "Training Epoch 1668: 100%|██████████| 891/891 [00:17<00:00, 50.44it/s]\n",
      "Training Epoch 1669: 100%|██████████| 891/891 [00:17<00:00, 51.15it/s]\n",
      "Training Epoch 1670: 100%|██████████| 891/891 [00:14<00:00, 63.23it/s]\n",
      "Training Epoch 1671: 100%|██████████| 891/891 [00:13<00:00, 65.09it/s]\n"
     ]
    },
    {
     "name": "stdout",
     "output_type": "stream",
     "text": [
      "Epoch 1670 - Train Loss: 0.0355, Train MSE: 0.0355, Train MAE: 0.1345\n",
      "Epoch 1670 - Validation Loss: 0.9507, Validation MSE: 0.9520, Validation MAE: 0.7217\n"
     ]
    },
    {
     "name": "stderr",
     "output_type": "stream",
     "text": [
      "Training Epoch 1672: 100%|██████████| 891/891 [00:13<00:00, 65.83it/s]\n",
      "Training Epoch 1673: 100%|██████████| 891/891 [00:14<00:00, 63.41it/s]\n",
      "Training Epoch 1674: 100%|██████████| 891/891 [00:13<00:00, 65.22it/s]\n",
      "Training Epoch 1675: 100%|██████████| 891/891 [00:13<00:00, 64.76it/s]\n",
      "Training Epoch 1676: 100%|██████████| 891/891 [00:13<00:00, 64.52it/s]\n",
      "Training Epoch 1677: 100%|██████████| 891/891 [00:13<00:00, 63.79it/s]\n",
      "Training Epoch 1678: 100%|██████████| 891/891 [00:13<00:00, 65.63it/s]\n",
      "Training Epoch 1679: 100%|██████████| 891/891 [00:13<00:00, 64.47it/s]\n",
      "Training Epoch 1680: 100%|██████████| 891/891 [00:13<00:00, 65.61it/s]\n",
      "Training Epoch 1681: 100%|██████████| 891/891 [00:13<00:00, 63.85it/s]\n"
     ]
    },
    {
     "name": "stdout",
     "output_type": "stream",
     "text": [
      "Epoch 1680 - Train Loss: 0.0323, Train MSE: 0.0322, Train MAE: 0.1311\n",
      "Epoch 1680 - Validation Loss: 0.9561, Validation MSE: 0.9572, Validation MAE: 0.7261\n"
     ]
    },
    {
     "name": "stderr",
     "output_type": "stream",
     "text": [
      "Training Epoch 1682: 100%|██████████| 891/891 [00:13<00:00, 65.23it/s]\n",
      "Training Epoch 1683: 100%|██████████| 891/891 [00:13<00:00, 64.34it/s]\n",
      "Training Epoch 1684: 100%|██████████| 891/891 [00:13<00:00, 65.06it/s]\n",
      "Training Epoch 1685: 100%|██████████| 891/891 [00:13<00:00, 63.68it/s]\n",
      "Training Epoch 1686: 100%|██████████| 891/891 [00:13<00:00, 65.10it/s]\n",
      "Training Epoch 1687: 100%|██████████| 891/891 [00:13<00:00, 66.43it/s]\n",
      "Training Epoch 1688: 100%|██████████| 891/891 [00:13<00:00, 65.31it/s]\n",
      "Training Epoch 1689: 100%|██████████| 891/891 [00:13<00:00, 65.20it/s]\n",
      "Training Epoch 1690: 100%|██████████| 891/891 [00:13<00:00, 64.67it/s]\n",
      "Training Epoch 1691: 100%|██████████| 891/891 [00:14<00:00, 63.40it/s]\n"
     ]
    },
    {
     "name": "stdout",
     "output_type": "stream",
     "text": [
      "Epoch 1690 - Train Loss: 0.0316, Train MSE: 0.0316, Train MAE: 0.1300\n",
      "Epoch 1690 - Validation Loss: 0.9662, Validation MSE: 0.9669, Validation MAE: 0.7297\n"
     ]
    },
    {
     "name": "stderr",
     "output_type": "stream",
     "text": [
      "Training Epoch 1692: 100%|██████████| 891/891 [00:13<00:00, 64.82it/s]\n",
      "Training Epoch 1693: 100%|██████████| 891/891 [00:13<00:00, 65.15it/s]\n",
      "Training Epoch 1694: 100%|██████████| 891/891 [00:13<00:00, 63.71it/s]\n",
      "Training Epoch 1695: 100%|██████████| 891/891 [00:13<00:00, 63.68it/s]\n",
      "Training Epoch 1696: 100%|██████████| 891/891 [00:13<00:00, 63.90it/s]\n",
      "Training Epoch 1697: 100%|██████████| 891/891 [00:13<00:00, 65.67it/s]\n",
      "Training Epoch 1698: 100%|██████████| 891/891 [00:13<00:00, 63.90it/s]\n",
      "Training Epoch 1699: 100%|██████████| 891/891 [00:14<00:00, 63.39it/s]\n",
      "Training Epoch 1700: 100%|██████████| 891/891 [00:13<00:00, 66.44it/s]\n",
      "Training Epoch 1701: 100%|██████████| 891/891 [00:13<00:00, 65.59it/s]\n"
     ]
    },
    {
     "name": "stdout",
     "output_type": "stream",
     "text": [
      "Epoch 1700 - Train Loss: 0.0320, Train MSE: 0.0320, Train MAE: 0.1297\n",
      "Epoch 1700 - Validation Loss: 0.9663, Validation MSE: 0.9673, Validation MAE: 0.7294\n"
     ]
    },
    {
     "name": "stderr",
     "output_type": "stream",
     "text": [
      "Training Epoch 1702: 100%|██████████| 891/891 [00:14<00:00, 63.58it/s]\n",
      "Training Epoch 1703: 100%|██████████| 891/891 [00:13<00:00, 65.35it/s]\n",
      "Training Epoch 1704: 100%|██████████| 891/891 [00:13<00:00, 66.42it/s]\n",
      "Training Epoch 1705: 100%|██████████| 891/891 [00:13<00:00, 67.20it/s]\n",
      "Training Epoch 1706: 100%|██████████| 891/891 [00:13<00:00, 66.39it/s]\n",
      "Training Epoch 1707: 100%|██████████| 891/891 [00:13<00:00, 64.26it/s]\n",
      "Training Epoch 1708: 100%|██████████| 891/891 [00:13<00:00, 65.74it/s]\n",
      "Training Epoch 1709: 100%|██████████| 891/891 [00:13<00:00, 64.65it/s]\n",
      "Training Epoch 1710: 100%|██████████| 891/891 [00:13<00:00, 67.25it/s]\n",
      "Training Epoch 1711: 100%|██████████| 891/891 [00:13<00:00, 63.96it/s]\n"
     ]
    },
    {
     "name": "stdout",
     "output_type": "stream",
     "text": [
      "Epoch 1710 - Train Loss: 0.0297, Train MSE: 0.0297, Train MAE: 0.1272\n",
      "Epoch 1710 - Validation Loss: 0.9583, Validation MSE: 0.9591, Validation MAE: 0.7256\n"
     ]
    },
    {
     "name": "stderr",
     "output_type": "stream",
     "text": [
      "Training Epoch 1712: 100%|██████████| 891/891 [00:13<00:00, 64.69it/s]\n",
      "Training Epoch 1713: 100%|██████████| 891/891 [00:13<00:00, 65.38it/s]\n",
      "Training Epoch 1714: 100%|██████████| 891/891 [00:13<00:00, 65.59it/s]\n",
      "Training Epoch 1715: 100%|██████████| 891/891 [00:13<00:00, 64.71it/s]\n",
      "Training Epoch 1716: 100%|██████████| 891/891 [00:13<00:00, 63.93it/s]\n",
      "Training Epoch 1717: 100%|██████████| 891/891 [00:13<00:00, 66.10it/s]\n",
      "Training Epoch 1718: 100%|██████████| 891/891 [00:13<00:00, 64.79it/s]\n",
      "Training Epoch 1719: 100%|██████████| 891/891 [00:13<00:00, 64.39it/s]\n",
      "Training Epoch 1720: 100%|██████████| 891/891 [00:13<00:00, 65.00it/s]\n",
      "Training Epoch 1721: 100%|██████████| 891/891 [00:13<00:00, 66.08it/s]\n"
     ]
    },
    {
     "name": "stdout",
     "output_type": "stream",
     "text": [
      "Epoch 1720 - Train Loss: 0.0308, Train MSE: 0.0308, Train MAE: 0.1283\n",
      "Epoch 1720 - Validation Loss: 0.9570, Validation MSE: 0.9576, Validation MAE: 0.7258\n"
     ]
    },
    {
     "name": "stderr",
     "output_type": "stream",
     "text": [
      "Training Epoch 1722: 100%|██████████| 891/891 [00:13<00:00, 67.27it/s]\n",
      "Training Epoch 1723: 100%|██████████| 891/891 [00:13<00:00, 66.74it/s]\n",
      "Training Epoch 1724: 100%|██████████| 891/891 [00:13<00:00, 65.47it/s]\n",
      "Training Epoch 1725: 100%|██████████| 891/891 [00:13<00:00, 66.63it/s]\n",
      "Training Epoch 1726: 100%|██████████| 891/891 [00:13<00:00, 67.32it/s]\n",
      "Training Epoch 1727: 100%|██████████| 891/891 [00:13<00:00, 67.95it/s]\n",
      "Training Epoch 1728: 100%|██████████| 891/891 [00:13<00:00, 66.68it/s]\n",
      "Training Epoch 1729: 100%|██████████| 891/891 [00:13<00:00, 67.12it/s]\n",
      "Training Epoch 1730: 100%|██████████| 891/891 [00:13<00:00, 68.28it/s]\n",
      "Training Epoch 1731: 100%|██████████| 891/891 [00:13<00:00, 67.66it/s]\n"
     ]
    },
    {
     "name": "stdout",
     "output_type": "stream",
     "text": [
      "Epoch 1730 - Train Loss: 0.0310, Train MSE: 0.0310, Train MAE: 0.1284\n",
      "Epoch 1730 - Validation Loss: 0.9524, Validation MSE: 0.9531, Validation MAE: 0.7240\n"
     ]
    },
    {
     "name": "stderr",
     "output_type": "stream",
     "text": [
      "Training Epoch 1732: 100%|██████████| 891/891 [00:13<00:00, 66.22it/s]\n",
      "Training Epoch 1733: 100%|██████████| 891/891 [00:13<00:00, 66.78it/s]\n",
      "Training Epoch 1734: 100%|██████████| 891/891 [00:13<00:00, 67.07it/s]\n",
      "Training Epoch 1735: 100%|██████████| 891/891 [00:13<00:00, 68.43it/s]\n",
      "Training Epoch 1736: 100%|██████████| 891/891 [00:13<00:00, 68.38it/s]\n",
      "Training Epoch 1737: 100%|██████████| 891/891 [00:13<00:00, 65.85it/s]\n",
      "Training Epoch 1738: 100%|██████████| 891/891 [00:12<00:00, 69.25it/s]\n",
      "Training Epoch 1739: 100%|██████████| 891/891 [00:12<00:00, 68.68it/s]\n",
      "Training Epoch 1740: 100%|██████████| 891/891 [00:13<00:00, 67.07it/s]\n",
      "Training Epoch 1741: 100%|██████████| 891/891 [00:13<00:00, 65.19it/s]\n"
     ]
    },
    {
     "name": "stdout",
     "output_type": "stream",
     "text": [
      "Epoch 1740 - Train Loss: 0.0303, Train MSE: 0.0303, Train MAE: 0.1275\n",
      "Epoch 1740 - Validation Loss: 0.9735, Validation MSE: 0.9750, Validation MAE: 0.7284\n"
     ]
    },
    {
     "name": "stderr",
     "output_type": "stream",
     "text": [
      "Training Epoch 1742: 100%|██████████| 891/891 [00:13<00:00, 67.00it/s]\n",
      "Training Epoch 1743: 100%|██████████| 891/891 [00:13<00:00, 67.71it/s]\n",
      "Training Epoch 1744: 100%|██████████| 891/891 [00:13<00:00, 67.44it/s]\n",
      "Training Epoch 1745: 100%|██████████| 891/891 [00:13<00:00, 67.58it/s]\n",
      "Training Epoch 1746: 100%|██████████| 891/891 [00:13<00:00, 66.05it/s]\n",
      "Training Epoch 1747: 100%|██████████| 891/891 [00:13<00:00, 67.13it/s]\n",
      "Training Epoch 1748: 100%|██████████| 891/891 [00:13<00:00, 67.50it/s]\n",
      "Training Epoch 1749: 100%|██████████| 891/891 [00:13<00:00, 67.98it/s]\n",
      "Training Epoch 1750: 100%|██████████| 891/891 [00:13<00:00, 67.78it/s]\n",
      "Training Epoch 1751: 100%|██████████| 891/891 [00:13<00:00, 67.73it/s]\n"
     ]
    },
    {
     "name": "stdout",
     "output_type": "stream",
     "text": [
      "Epoch 1750 - Train Loss: 0.0327, Train MSE: 0.0328, Train MAE: 0.1305\n",
      "Epoch 1750 - Validation Loss: 0.9586, Validation MSE: 0.9599, Validation MAE: 0.7270\n"
     ]
    },
    {
     "name": "stderr",
     "output_type": "stream",
     "text": [
      "Training Epoch 1752: 100%|██████████| 891/891 [00:13<00:00, 66.65it/s]\n",
      "Training Epoch 1753: 100%|██████████| 891/891 [00:13<00:00, 67.89it/s]\n",
      "Training Epoch 1754: 100%|██████████| 891/891 [00:13<00:00, 65.13it/s]\n",
      "Training Epoch 1755: 100%|██████████| 891/891 [00:13<00:00, 66.86it/s]\n",
      "Training Epoch 1756: 100%|██████████| 891/891 [00:13<00:00, 68.29it/s]\n",
      "Training Epoch 1757: 100%|██████████| 891/891 [00:13<00:00, 67.18it/s]\n",
      "Training Epoch 1758: 100%|██████████| 891/891 [00:13<00:00, 67.05it/s]\n",
      "Training Epoch 1759: 100%|██████████| 891/891 [00:13<00:00, 67.57it/s]\n",
      "Training Epoch 1760: 100%|██████████| 891/891 [00:13<00:00, 65.94it/s]\n",
      "Training Epoch 1761: 100%|██████████| 891/891 [00:13<00:00, 67.65it/s]\n"
     ]
    },
    {
     "name": "stdout",
     "output_type": "stream",
     "text": [
      "Epoch 1760 - Train Loss: 0.0307, Train MSE: 0.0307, Train MAE: 0.1275\n",
      "Epoch 1760 - Validation Loss: 0.9479, Validation MSE: 0.9485, Validation MAE: 0.7227\n"
     ]
    },
    {
     "name": "stderr",
     "output_type": "stream",
     "text": [
      "Training Epoch 1762: 100%|██████████| 891/891 [00:13<00:00, 67.17it/s]\n",
      "Training Epoch 1763: 100%|██████████| 891/891 [00:13<00:00, 67.26it/s]\n",
      "Training Epoch 1764: 100%|██████████| 891/891 [00:13<00:00, 67.64it/s]\n",
      "Training Epoch 1765: 100%|██████████| 891/891 [00:13<00:00, 68.48it/s]\n",
      "Training Epoch 1766: 100%|██████████| 891/891 [00:13<00:00, 67.99it/s]\n",
      "Training Epoch 1767: 100%|██████████| 891/891 [00:13<00:00, 66.88it/s]\n",
      "Training Epoch 1768: 100%|██████████| 891/891 [00:13<00:00, 67.33it/s]\n",
      "Training Epoch 1769: 100%|██████████| 891/891 [00:13<00:00, 66.68it/s]\n",
      "Training Epoch 1770: 100%|██████████| 891/891 [00:13<00:00, 67.69it/s]\n",
      "Training Epoch 1771: 100%|██████████| 891/891 [00:13<00:00, 67.57it/s]\n"
     ]
    },
    {
     "name": "stdout",
     "output_type": "stream",
     "text": [
      "Epoch 1770 - Train Loss: 0.0297, Train MSE: 0.0297, Train MAE: 0.1274\n",
      "Epoch 1770 - Validation Loss: 0.9565, Validation MSE: 0.9579, Validation MAE: 0.7241\n"
     ]
    },
    {
     "name": "stderr",
     "output_type": "stream",
     "text": [
      "Training Epoch 1772: 100%|██████████| 891/891 [00:13<00:00, 64.81it/s]\n",
      "Training Epoch 1773: 100%|██████████| 891/891 [00:13<00:00, 65.99it/s]\n",
      "Training Epoch 1774: 100%|██████████| 891/891 [00:13<00:00, 66.44it/s]\n",
      "Training Epoch 1775: 100%|██████████| 891/891 [00:13<00:00, 68.16it/s]\n",
      "Training Epoch 1776: 100%|██████████| 891/891 [00:13<00:00, 66.95it/s]\n",
      "Training Epoch 1777: 100%|██████████| 891/891 [00:13<00:00, 65.31it/s]\n",
      "Training Epoch 1778: 100%|██████████| 891/891 [00:13<00:00, 67.63it/s]\n",
      "Training Epoch 1779: 100%|██████████| 891/891 [00:12<00:00, 68.58it/s]\n",
      "Training Epoch 1780: 100%|██████████| 891/891 [00:13<00:00, 66.27it/s]\n",
      "Training Epoch 1781: 100%|██████████| 891/891 [00:13<00:00, 66.52it/s]\n"
     ]
    },
    {
     "name": "stdout",
     "output_type": "stream",
     "text": [
      "Epoch 1780 - Train Loss: 0.0305, Train MSE: 0.0305, Train MAE: 0.1273\n",
      "Epoch 1780 - Validation Loss: 0.9526, Validation MSE: 0.9532, Validation MAE: 0.7217\n"
     ]
    },
    {
     "name": "stderr",
     "output_type": "stream",
     "text": [
      "Training Epoch 1782: 100%|██████████| 891/891 [00:13<00:00, 67.41it/s]\n",
      "Training Epoch 1783: 100%|██████████| 891/891 [00:13<00:00, 68.41it/s]\n",
      "Training Epoch 1784: 100%|██████████| 891/891 [00:13<00:00, 66.99it/s]\n",
      "Training Epoch 1785: 100%|██████████| 891/891 [00:13<00:00, 66.40it/s]\n",
      "Training Epoch 1786: 100%|██████████| 891/891 [00:13<00:00, 68.08it/s]\n",
      "Training Epoch 1787: 100%|██████████| 891/891 [00:13<00:00, 68.16it/s]\n",
      "Training Epoch 1788: 100%|██████████| 891/891 [00:13<00:00, 67.23it/s]\n",
      "Training Epoch 1789: 100%|██████████| 891/891 [00:13<00:00, 65.48it/s]\n",
      "Training Epoch 1790: 100%|██████████| 891/891 [00:13<00:00, 67.29it/s]\n",
      "Training Epoch 1791: 100%|██████████| 891/891 [00:13<00:00, 67.34it/s]\n"
     ]
    },
    {
     "name": "stdout",
     "output_type": "stream",
     "text": [
      "Epoch 1790 - Train Loss: 0.0309, Train MSE: 0.0309, Train MAE: 0.1281\n",
      "Epoch 1790 - Validation Loss: 0.9526, Validation MSE: 0.9533, Validation MAE: 0.7230\n"
     ]
    },
    {
     "name": "stderr",
     "output_type": "stream",
     "text": [
      "Training Epoch 1792: 100%|██████████| 891/891 [00:13<00:00, 68.12it/s]\n",
      "Training Epoch 1793: 100%|██████████| 891/891 [00:13<00:00, 66.72it/s]\n",
      "Training Epoch 1794: 100%|██████████| 891/891 [00:13<00:00, 65.60it/s]\n",
      "Training Epoch 1795: 100%|██████████| 891/891 [00:13<00:00, 67.25it/s]\n",
      "Training Epoch 1796: 100%|██████████| 891/891 [00:13<00:00, 66.73it/s]\n",
      "Training Epoch 1797: 100%|██████████| 891/891 [00:13<00:00, 68.20it/s]\n",
      "Training Epoch 1798: 100%|██████████| 891/891 [00:13<00:00, 64.84it/s]\n",
      "Training Epoch 1799: 100%|██████████| 891/891 [00:13<00:00, 66.61it/s]\n",
      "Training Epoch 1800: 100%|██████████| 891/891 [00:13<00:00, 68.18it/s]\n",
      "Training Epoch 1801: 100%|██████████| 891/891 [00:13<00:00, 67.63it/s]\n"
     ]
    },
    {
     "name": "stdout",
     "output_type": "stream",
     "text": [
      "Epoch 1800 - Train Loss: 0.0318, Train MSE: 0.0318, Train MAE: 0.1282\n",
      "Epoch 1800 - Validation Loss: 0.9545, Validation MSE: 0.9551, Validation MAE: 0.7231\n"
     ]
    },
    {
     "name": "stderr",
     "output_type": "stream",
     "text": [
      "Training Epoch 1802: 100%|██████████| 891/891 [00:13<00:00, 66.24it/s]\n",
      "Training Epoch 1803: 100%|██████████| 891/891 [00:13<00:00, 67.46it/s]\n",
      "Training Epoch 1804: 100%|██████████| 891/891 [00:13<00:00, 66.80it/s]\n",
      "Training Epoch 1805: 100%|██████████| 891/891 [00:13<00:00, 67.54it/s]\n",
      "Training Epoch 1806: 100%|██████████| 891/891 [00:13<00:00, 67.77it/s]\n",
      "Training Epoch 1807: 100%|██████████| 891/891 [00:13<00:00, 65.64it/s]\n",
      "Training Epoch 1808: 100%|██████████| 891/891 [00:13<00:00, 67.72it/s]\n",
      "Training Epoch 1809: 100%|██████████| 891/891 [00:13<00:00, 67.78it/s]\n",
      "Training Epoch 1810: 100%|██████████| 891/891 [00:13<00:00, 67.13it/s]\n",
      "Training Epoch 1811: 100%|██████████| 891/891 [00:13<00:00, 66.68it/s]\n"
     ]
    },
    {
     "name": "stdout",
     "output_type": "stream",
     "text": [
      "Epoch 1810 - Train Loss: 0.0302, Train MSE: 0.0302, Train MAE: 0.1259\n",
      "Epoch 1810 - Validation Loss: 0.9520, Validation MSE: 0.9537, Validation MAE: 0.7234\n"
     ]
    },
    {
     "name": "stderr",
     "output_type": "stream",
     "text": [
      "Training Epoch 1812: 100%|██████████| 891/891 [00:13<00:00, 66.73it/s]\n",
      "Training Epoch 1813: 100%|██████████| 891/891 [00:13<00:00, 67.43it/s]\n",
      "Training Epoch 1814: 100%|██████████| 891/891 [00:13<00:00, 68.49it/s]\n",
      "Training Epoch 1815: 100%|██████████| 891/891 [00:13<00:00, 67.23it/s]\n",
      "Training Epoch 1816: 100%|██████████| 891/891 [00:13<00:00, 67.63it/s]\n",
      "Training Epoch 1817: 100%|██████████| 891/891 [00:13<00:00, 66.56it/s]\n",
      "Training Epoch 1818: 100%|██████████| 891/891 [00:13<00:00, 67.80it/s]\n",
      "Training Epoch 1819: 100%|██████████| 891/891 [00:12<00:00, 68.98it/s]\n",
      "Training Epoch 1820: 100%|██████████| 891/891 [00:13<00:00, 66.84it/s]\n",
      "Training Epoch 1821: 100%|██████████| 891/891 [00:13<00:00, 67.85it/s]\n"
     ]
    },
    {
     "name": "stdout",
     "output_type": "stream",
     "text": [
      "Epoch 1820 - Train Loss: 0.0291, Train MSE: 0.0291, Train MAE: 0.1256\n",
      "Epoch 1820 - Validation Loss: 0.9602, Validation MSE: 0.9604, Validation MAE: 0.7261\n"
     ]
    },
    {
     "name": "stderr",
     "output_type": "stream",
     "text": [
      "Training Epoch 1822: 100%|██████████| 891/891 [00:13<00:00, 67.47it/s]\n",
      "Training Epoch 1823: 100%|██████████| 891/891 [00:13<00:00, 66.49it/s]\n",
      "Training Epoch 1824: 100%|██████████| 891/891 [00:13<00:00, 65.23it/s]\n",
      "Training Epoch 1825: 100%|██████████| 891/891 [00:13<00:00, 67.86it/s]\n",
      "Training Epoch 1826: 100%|██████████| 891/891 [00:13<00:00, 68.23it/s]\n",
      "Training Epoch 1827: 100%|██████████| 891/891 [00:13<00:00, 67.67it/s]\n",
      "Training Epoch 1828: 100%|██████████| 891/891 [00:13<00:00, 67.03it/s]\n",
      "Training Epoch 1829: 100%|██████████| 891/891 [00:13<00:00, 64.62it/s]\n",
      "Training Epoch 1830: 100%|██████████| 891/891 [00:13<00:00, 66.88it/s]\n",
      "Training Epoch 1831: 100%|██████████| 891/891 [00:13<00:00, 67.78it/s]\n"
     ]
    },
    {
     "name": "stdout",
     "output_type": "stream",
     "text": [
      "Epoch 1830 - Train Loss: 0.0300, Train MSE: 0.0300, Train MAE: 0.1265\n",
      "Epoch 1830 - Validation Loss: 0.9712, Validation MSE: 0.9716, Validation MAE: 0.7300\n"
     ]
    },
    {
     "name": "stderr",
     "output_type": "stream",
     "text": [
      "Training Epoch 1832: 100%|██████████| 891/891 [00:13<00:00, 68.12it/s]\n",
      "Training Epoch 1833: 100%|██████████| 891/891 [00:13<00:00, 66.16it/s]\n",
      "Training Epoch 1834: 100%|██████████| 891/891 [00:13<00:00, 68.04it/s]\n",
      "Training Epoch 1835: 100%|██████████| 891/891 [00:13<00:00, 67.65it/s]\n",
      "Training Epoch 1836: 100%|██████████| 891/891 [00:13<00:00, 67.07it/s]\n",
      "Training Epoch 1837: 100%|██████████| 891/891 [00:13<00:00, 68.23it/s]\n",
      "Training Epoch 1838: 100%|██████████| 891/891 [00:13<00:00, 67.36it/s]\n",
      "Training Epoch 1839: 100%|██████████| 891/891 [00:13<00:00, 67.08it/s]\n",
      "Training Epoch 1840: 100%|██████████| 891/891 [00:12<00:00, 69.91it/s]\n",
      "Training Epoch 1841: 100%|██████████| 891/891 [00:13<00:00, 68.20it/s]\n"
     ]
    },
    {
     "name": "stdout",
     "output_type": "stream",
     "text": [
      "Epoch 1840 - Train Loss: 0.0309, Train MSE: 0.0309, Train MAE: 0.1285\n",
      "Epoch 1840 - Validation Loss: 0.9612, Validation MSE: 0.9627, Validation MAE: 0.7263\n"
     ]
    },
    {
     "name": "stderr",
     "output_type": "stream",
     "text": [
      "Training Epoch 1842: 100%|██████████| 891/891 [00:13<00:00, 65.11it/s]\n",
      "Training Epoch 1843: 100%|██████████| 891/891 [00:13<00:00, 66.46it/s]\n",
      "Training Epoch 1844: 100%|██████████| 891/891 [00:13<00:00, 67.57it/s]\n",
      "Training Epoch 1845: 100%|██████████| 891/891 [00:13<00:00, 68.27it/s]\n",
      "Training Epoch 1846: 100%|██████████| 891/891 [00:13<00:00, 67.94it/s]\n",
      "Training Epoch 1847: 100%|██████████| 891/891 [00:13<00:00, 64.77it/s]\n",
      "Training Epoch 1848: 100%|██████████| 891/891 [00:12<00:00, 68.73it/s]\n",
      "Training Epoch 1849: 100%|██████████| 891/891 [00:13<00:00, 67.41it/s]\n",
      "Training Epoch 1850: 100%|██████████| 891/891 [00:13<00:00, 65.72it/s]\n",
      "Training Epoch 1851: 100%|██████████| 891/891 [00:13<00:00, 65.81it/s]\n"
     ]
    },
    {
     "name": "stdout",
     "output_type": "stream",
     "text": [
      "Epoch 1850 - Train Loss: 0.0294, Train MSE: 0.0294, Train MAE: 0.1258\n",
      "Epoch 1850 - Validation Loss: 0.9523, Validation MSE: 0.9535, Validation MAE: 0.7252\n"
     ]
    },
    {
     "name": "stderr",
     "output_type": "stream",
     "text": [
      "Training Epoch 1852: 100%|██████████| 891/891 [00:13<00:00, 64.61it/s]\n",
      "Training Epoch 1853: 100%|██████████| 891/891 [00:13<00:00, 66.48it/s]\n",
      "Training Epoch 1854: 100%|██████████| 891/891 [00:13<00:00, 66.27it/s]\n",
      "Training Epoch 1855: 100%|██████████| 891/891 [00:13<00:00, 64.44it/s]\n",
      "Training Epoch 1856: 100%|██████████| 891/891 [00:13<00:00, 65.36it/s]\n",
      "Training Epoch 1857: 100%|██████████| 891/891 [00:13<00:00, 66.15it/s]\n",
      "Training Epoch 1858: 100%|██████████| 891/891 [00:13<00:00, 68.01it/s]\n",
      "Training Epoch 1859: 100%|██████████| 891/891 [00:13<00:00, 65.47it/s]\n",
      "Training Epoch 1860: 100%|██████████| 891/891 [00:13<00:00, 66.97it/s]\n",
      "Training Epoch 1861: 100%|██████████| 891/891 [00:13<00:00, 65.53it/s]\n"
     ]
    },
    {
     "name": "stdout",
     "output_type": "stream",
     "text": [
      "Epoch 1860 - Train Loss: 0.0289, Train MSE: 0.0289, Train MAE: 0.1250\n",
      "Epoch 1860 - Validation Loss: 0.9599, Validation MSE: 0.9603, Validation MAE: 0.7266\n"
     ]
    },
    {
     "name": "stderr",
     "output_type": "stream",
     "text": [
      "Training Epoch 1862: 100%|██████████| 891/891 [00:13<00:00, 65.12it/s]\n",
      "Training Epoch 1863: 100%|██████████| 891/891 [00:13<00:00, 64.83it/s]\n",
      "Training Epoch 1864: 100%|██████████| 891/891 [00:13<00:00, 66.46it/s]\n",
      "Training Epoch 1865: 100%|██████████| 891/891 [00:13<00:00, 65.30it/s]\n",
      "Training Epoch 1866: 100%|██████████| 891/891 [00:13<00:00, 67.32it/s]\n",
      "Training Epoch 1867: 100%|██████████| 891/891 [00:13<00:00, 66.51it/s]\n",
      "Training Epoch 1868: 100%|██████████| 891/891 [00:13<00:00, 64.37it/s]\n",
      "Training Epoch 1869: 100%|██████████| 891/891 [00:13<00:00, 67.67it/s]\n",
      "Training Epoch 1870: 100%|██████████| 891/891 [00:13<00:00, 66.15it/s]\n",
      "Training Epoch 1871: 100%|██████████| 891/891 [00:13<00:00, 65.98it/s]\n"
     ]
    },
    {
     "name": "stdout",
     "output_type": "stream",
     "text": [
      "Epoch 1870 - Train Loss: 0.0280, Train MSE: 0.0280, Train MAE: 0.1239\n",
      "Epoch 1870 - Validation Loss: 0.9552, Validation MSE: 0.9562, Validation MAE: 0.7272\n"
     ]
    },
    {
     "name": "stderr",
     "output_type": "stream",
     "text": [
      "Training Epoch 1872: 100%|██████████| 891/891 [00:13<00:00, 65.29it/s]\n",
      "Training Epoch 1873: 100%|██████████| 891/891 [00:12<00:00, 68.67it/s]\n",
      "Training Epoch 1874: 100%|██████████| 891/891 [00:13<00:00, 66.10it/s]\n",
      "Training Epoch 1875: 100%|██████████| 891/891 [00:13<00:00, 66.39it/s]\n",
      "Training Epoch 1876: 100%|██████████| 891/891 [00:13<00:00, 65.13it/s]\n",
      "Training Epoch 1877: 100%|██████████| 891/891 [00:13<00:00, 65.14it/s]\n",
      "Training Epoch 1878: 100%|██████████| 891/891 [00:13<00:00, 65.80it/s]\n",
      "Training Epoch 1879: 100%|██████████| 891/891 [00:13<00:00, 66.56it/s]\n",
      "Training Epoch 1880: 100%|██████████| 891/891 [00:13<00:00, 65.54it/s]\n",
      "Training Epoch 1881: 100%|██████████| 891/891 [00:13<00:00, 66.12it/s]\n"
     ]
    },
    {
     "name": "stdout",
     "output_type": "stream",
     "text": [
      "Epoch 1880 - Train Loss: 0.0296, Train MSE: 0.0296, Train MAE: 0.1265\n",
      "Epoch 1880 - Validation Loss: 0.9412, Validation MSE: 0.9419, Validation MAE: 0.7215\n"
     ]
    },
    {
     "name": "stderr",
     "output_type": "stream",
     "text": [
      "Training Epoch 1882: 100%|██████████| 891/891 [00:13<00:00, 65.24it/s]\n",
      "Training Epoch 1883: 100%|██████████| 891/891 [00:13<00:00, 67.83it/s]\n",
      "Training Epoch 1884: 100%|██████████| 891/891 [00:13<00:00, 66.36it/s]\n",
      "Training Epoch 1885: 100%|██████████| 891/891 [00:13<00:00, 65.51it/s]\n",
      "Training Epoch 1886: 100%|██████████| 891/891 [00:13<00:00, 65.84it/s]\n",
      "Training Epoch 1887: 100%|██████████| 891/891 [00:13<00:00, 65.36it/s]\n",
      "Training Epoch 1888: 100%|██████████| 891/891 [00:13<00:00, 66.69it/s]\n",
      "Training Epoch 1889: 100%|██████████| 891/891 [00:13<00:00, 64.62it/s]\n",
      "Training Epoch 1890: 100%|██████████| 891/891 [00:13<00:00, 66.24it/s]\n",
      "Training Epoch 1891: 100%|██████████| 891/891 [00:13<00:00, 64.39it/s]\n"
     ]
    },
    {
     "name": "stdout",
     "output_type": "stream",
     "text": [
      "Epoch 1890 - Train Loss: 0.0294, Train MSE: 0.0295, Train MAE: 0.1263\n",
      "Epoch 1890 - Validation Loss: 0.9852, Validation MSE: 0.9862, Validation MAE: 0.7378\n"
     ]
    },
    {
     "name": "stderr",
     "output_type": "stream",
     "text": [
      "Training Epoch 1892: 100%|██████████| 891/891 [00:13<00:00, 66.42it/s]\n",
      "Training Epoch 1893: 100%|██████████| 891/891 [00:13<00:00, 64.52it/s]\n",
      "Training Epoch 1894: 100%|██████████| 891/891 [00:13<00:00, 65.14it/s]\n",
      "Training Epoch 1895: 100%|██████████| 891/891 [00:13<00:00, 67.00it/s]\n",
      "Training Epoch 1896: 100%|██████████| 891/891 [00:13<00:00, 67.90it/s]\n",
      "Training Epoch 1897: 100%|██████████| 891/891 [00:13<00:00, 66.10it/s]\n",
      "Training Epoch 1898: 100%|██████████| 891/891 [00:13<00:00, 65.66it/s]\n",
      "Training Epoch 1899: 100%|██████████| 891/891 [00:13<00:00, 66.49it/s]\n",
      "Training Epoch 1900: 100%|██████████| 891/891 [00:13<00:00, 65.86it/s]\n",
      "Training Epoch 1901: 100%|██████████| 891/891 [00:13<00:00, 67.90it/s]\n"
     ]
    },
    {
     "name": "stdout",
     "output_type": "stream",
     "text": [
      "Epoch 1900 - Train Loss: 0.0302, Train MSE: 0.0302, Train MAE: 0.1263\n",
      "Epoch 1900 - Validation Loss: 0.9791, Validation MSE: 0.9795, Validation MAE: 0.7325\n"
     ]
    },
    {
     "name": "stderr",
     "output_type": "stream",
     "text": [
      "Training Epoch 1902: 100%|██████████| 891/891 [00:13<00:00, 65.03it/s]\n",
      "Training Epoch 1903: 100%|██████████| 891/891 [00:13<00:00, 67.10it/s]\n",
      "Training Epoch 1904: 100%|██████████| 891/891 [00:13<00:00, 66.07it/s]\n",
      "Training Epoch 1905: 100%|██████████| 891/891 [00:13<00:00, 67.41it/s]\n",
      "Training Epoch 1906: 100%|██████████| 891/891 [00:13<00:00, 65.59it/s]\n",
      "Training Epoch 1907: 100%|██████████| 891/891 [00:13<00:00, 64.71it/s]\n",
      "Training Epoch 1908: 100%|██████████| 891/891 [00:13<00:00, 66.20it/s]\n",
      "Training Epoch 1909: 100%|██████████| 891/891 [00:13<00:00, 67.53it/s]\n",
      "Training Epoch 1910: 100%|██████████| 891/891 [00:13<00:00, 65.71it/s]\n",
      "Training Epoch 1911: 100%|██████████| 891/891 [00:13<00:00, 65.17it/s]\n"
     ]
    },
    {
     "name": "stdout",
     "output_type": "stream",
     "text": [
      "Epoch 1910 - Train Loss: 0.0343, Train MSE: 0.0343, Train MAE: 0.1316\n",
      "Epoch 1910 - Validation Loss: 0.9308, Validation MSE: 0.9315, Validation MAE: 0.7184\n"
     ]
    },
    {
     "name": "stderr",
     "output_type": "stream",
     "text": [
      "Training Epoch 1912: 100%|██████████| 891/891 [00:13<00:00, 66.39it/s]\n",
      "Training Epoch 1913: 100%|██████████| 891/891 [00:13<00:00, 64.67it/s]\n",
      "Training Epoch 1914: 100%|██████████| 891/891 [00:13<00:00, 65.90it/s]\n",
      "Training Epoch 1915: 100%|██████████| 891/891 [00:13<00:00, 64.72it/s]\n",
      "Training Epoch 1916: 100%|██████████| 891/891 [00:13<00:00, 65.34it/s]\n",
      "Training Epoch 1917: 100%|██████████| 891/891 [00:13<00:00, 66.08it/s]\n",
      "Training Epoch 1918: 100%|██████████| 891/891 [00:13<00:00, 67.32it/s]\n",
      "Training Epoch 1919: 100%|██████████| 891/891 [00:13<00:00, 64.70it/s]\n",
      "Training Epoch 1920: 100%|██████████| 891/891 [00:13<00:00, 65.67it/s]\n",
      "Training Epoch 1921: 100%|██████████| 891/891 [00:13<00:00, 66.50it/s]\n"
     ]
    },
    {
     "name": "stdout",
     "output_type": "stream",
     "text": [
      "Epoch 1920 - Train Loss: 0.0316, Train MSE: 0.0316, Train MAE: 0.1280\n",
      "Epoch 1920 - Validation Loss: 0.9618, Validation MSE: 0.9616, Validation MAE: 0.7322\n"
     ]
    },
    {
     "name": "stderr",
     "output_type": "stream",
     "text": [
      "Training Epoch 1922: 100%|██████████| 891/891 [00:13<00:00, 66.29it/s]\n",
      "Training Epoch 1923: 100%|██████████| 891/891 [00:13<00:00, 65.74it/s]\n",
      "Training Epoch 1924: 100%|██████████| 891/891 [00:13<00:00, 66.50it/s]\n",
      "Training Epoch 1925: 100%|██████████| 891/891 [00:13<00:00, 65.69it/s]\n",
      "Training Epoch 1926: 100%|██████████| 891/891 [00:13<00:00, 65.72it/s]\n",
      "Training Epoch 1927: 100%|██████████| 891/891 [00:13<00:00, 66.84it/s]\n",
      "Training Epoch 1928: 100%|██████████| 891/891 [00:13<00:00, 64.23it/s]\n",
      "Training Epoch 1929: 100%|██████████| 891/891 [00:13<00:00, 65.13it/s]\n",
      "Training Epoch 1930: 100%|██████████| 891/891 [00:13<00:00, 67.55it/s]\n",
      "Training Epoch 1931: 100%|██████████| 891/891 [00:13<00:00, 66.26it/s]\n"
     ]
    },
    {
     "name": "stdout",
     "output_type": "stream",
     "text": [
      "Epoch 1930 - Train Loss: 0.0291, Train MSE: 0.0291, Train MAE: 0.1245\n",
      "Epoch 1930 - Validation Loss: 0.9506, Validation MSE: 0.9501, Validation MAE: 0.7232\n"
     ]
    },
    {
     "name": "stderr",
     "output_type": "stream",
     "text": [
      "Training Epoch 1932: 100%|██████████| 891/891 [00:13<00:00, 63.81it/s]\n",
      "Training Epoch 1933: 100%|██████████| 891/891 [00:13<00:00, 67.93it/s]\n",
      "Training Epoch 1934: 100%|██████████| 891/891 [00:13<00:00, 65.84it/s]\n",
      "Training Epoch 1935: 100%|██████████| 891/891 [00:13<00:00, 66.82it/s]\n",
      "Training Epoch 1936: 100%|██████████| 891/891 [00:13<00:00, 66.59it/s]\n",
      "Training Epoch 1937: 100%|██████████| 891/891 [00:13<00:00, 64.81it/s]\n",
      "Training Epoch 1938: 100%|██████████| 891/891 [00:13<00:00, 65.75it/s]\n",
      "Training Epoch 1939: 100%|██████████| 891/891 [00:13<00:00, 66.62it/s]\n",
      "Training Epoch 1940: 100%|██████████| 891/891 [00:13<00:00, 66.54it/s]\n",
      "Training Epoch 1941: 100%|██████████| 891/891 [00:13<00:00, 64.88it/s]\n"
     ]
    },
    {
     "name": "stdout",
     "output_type": "stream",
     "text": [
      "Epoch 1940 - Train Loss: 0.0282, Train MSE: 0.0282, Train MAE: 0.1229\n",
      "Epoch 1940 - Validation Loss: 0.9390, Validation MSE: 0.9400, Validation MAE: 0.7191\n"
     ]
    },
    {
     "name": "stderr",
     "output_type": "stream",
     "text": [
      "Training Epoch 1942: 100%|██████████| 891/891 [00:13<00:00, 65.89it/s]\n",
      "Training Epoch 1943: 100%|██████████| 891/891 [00:13<00:00, 67.04it/s]\n",
      "Training Epoch 1944: 100%|██████████| 891/891 [00:13<00:00, 65.35it/s]\n",
      "Training Epoch 1945: 100%|██████████| 891/891 [00:13<00:00, 65.80it/s]\n",
      "Training Epoch 1946: 100%|██████████| 891/891 [00:13<00:00, 66.80it/s]\n",
      "Training Epoch 1947: 100%|██████████| 891/891 [00:13<00:00, 67.26it/s]\n",
      "Training Epoch 1948: 100%|██████████| 891/891 [00:13<00:00, 65.41it/s]\n",
      "Training Epoch 1949: 100%|██████████| 891/891 [00:13<00:00, 66.25it/s]\n",
      "Training Epoch 1950: 100%|██████████| 891/891 [00:13<00:00, 66.15it/s]\n",
      "Training Epoch 1951: 100%|██████████| 891/891 [00:13<00:00, 66.46it/s]\n"
     ]
    },
    {
     "name": "stdout",
     "output_type": "stream",
     "text": [
      "Epoch 1950 - Train Loss: 0.0309, Train MSE: 0.0309, Train MAE: 0.1260\n",
      "Epoch 1950 - Validation Loss: 0.9534, Validation MSE: 0.9539, Validation MAE: 0.7277\n"
     ]
    },
    {
     "name": "stderr",
     "output_type": "stream",
     "text": [
      "Training Epoch 1952: 100%|██████████| 891/891 [00:13<00:00, 66.55it/s]\n",
      "Training Epoch 1953: 100%|██████████| 891/891 [00:13<00:00, 67.67it/s]\n",
      "Training Epoch 1954: 100%|██████████| 891/891 [00:13<00:00, 67.33it/s]\n",
      "Training Epoch 1955: 100%|██████████| 891/891 [00:13<00:00, 65.71it/s]\n",
      "Training Epoch 1956: 100%|██████████| 891/891 [00:13<00:00, 67.28it/s]\n",
      "Training Epoch 1957: 100%|██████████| 891/891 [00:13<00:00, 66.93it/s]\n",
      "Training Epoch 1958: 100%|██████████| 891/891 [00:13<00:00, 64.84it/s]\n",
      "Training Epoch 1959: 100%|██████████| 891/891 [00:13<00:00, 65.75it/s]\n",
      "Training Epoch 1960: 100%|██████████| 891/891 [00:13<00:00, 65.79it/s]\n",
      "Training Epoch 1961: 100%|██████████| 891/891 [00:13<00:00, 66.56it/s]\n"
     ]
    },
    {
     "name": "stdout",
     "output_type": "stream",
     "text": [
      "Epoch 1960 - Train Loss: 0.0302, Train MSE: 0.0302, Train MAE: 0.1256\n",
      "Epoch 1960 - Validation Loss: 0.9434, Validation MSE: 0.9441, Validation MAE: 0.7229\n"
     ]
    },
    {
     "name": "stderr",
     "output_type": "stream",
     "text": [
      "Training Epoch 1962: 100%|██████████| 891/891 [00:13<00:00, 65.92it/s]\n",
      "Training Epoch 1963: 100%|██████████| 891/891 [00:13<00:00, 65.66it/s]\n",
      "Training Epoch 1964: 100%|██████████| 891/891 [00:13<00:00, 65.55it/s]\n",
      "Training Epoch 1965: 100%|██████████| 891/891 [00:13<00:00, 66.34it/s]\n",
      "Training Epoch 1966: 100%|██████████| 891/891 [00:13<00:00, 65.19it/s]\n",
      "Training Epoch 1967: 100%|██████████| 891/891 [00:13<00:00, 65.59it/s]\n",
      "Training Epoch 1968: 100%|██████████| 891/891 [00:13<00:00, 66.46it/s]\n",
      "Training Epoch 1969: 100%|██████████| 891/891 [00:13<00:00, 66.23it/s]\n",
      "Training Epoch 1970: 100%|██████████| 891/891 [00:13<00:00, 66.39it/s]\n",
      "Training Epoch 1971: 100%|██████████| 891/891 [00:13<00:00, 64.53it/s]\n"
     ]
    },
    {
     "name": "stdout",
     "output_type": "stream",
     "text": [
      "Epoch 1970 - Train Loss: 0.0306, Train MSE: 0.0306, Train MAE: 0.1258\n",
      "Epoch 1970 - Validation Loss: 0.9513, Validation MSE: 0.9512, Validation MAE: 0.7235\n"
     ]
    },
    {
     "name": "stderr",
     "output_type": "stream",
     "text": [
      "Training Epoch 1972: 100%|██████████| 891/891 [00:13<00:00, 66.73it/s]\n",
      "Training Epoch 1973: 100%|██████████| 891/891 [00:13<00:00, 66.37it/s]\n",
      "Training Epoch 1974: 100%|██████████| 891/891 [00:13<00:00, 66.29it/s]\n",
      "Training Epoch 1975: 100%|██████████| 891/891 [00:13<00:00, 66.64it/s]\n",
      "Training Epoch 1976: 100%|██████████| 891/891 [00:13<00:00, 66.03it/s]\n",
      "Training Epoch 1977: 100%|██████████| 891/891 [00:13<00:00, 66.06it/s]\n",
      "Training Epoch 1978: 100%|██████████| 891/891 [00:13<00:00, 66.73it/s]\n",
      "Training Epoch 1979: 100%|██████████| 891/891 [00:13<00:00, 64.50it/s]\n",
      "Training Epoch 1980: 100%|██████████| 891/891 [00:15<00:00, 59.17it/s]\n",
      "Training Epoch 1981: 100%|██████████| 891/891 [00:13<00:00, 66.43it/s]\n"
     ]
    },
    {
     "name": "stdout",
     "output_type": "stream",
     "text": [
      "Epoch 1980 - Train Loss: 0.0321, Train MSE: 0.0321, Train MAE: 0.1288\n",
      "Epoch 1980 - Validation Loss: 0.9766, Validation MSE: 0.9768, Validation MAE: 0.7326\n"
     ]
    },
    {
     "name": "stderr",
     "output_type": "stream",
     "text": [
      "Training Epoch 1982: 100%|██████████| 891/891 [00:13<00:00, 64.42it/s]\n",
      "Training Epoch 1983: 100%|██████████| 891/891 [00:14<00:00, 63.58it/s]\n",
      "Training Epoch 1984: 100%|██████████| 891/891 [00:13<00:00, 65.09it/s]\n",
      "Training Epoch 1985: 100%|██████████| 891/891 [00:13<00:00, 64.72it/s]\n",
      "Training Epoch 1986: 100%|██████████| 891/891 [00:13<00:00, 66.90it/s]\n",
      "Training Epoch 1987: 100%|██████████| 891/891 [00:13<00:00, 65.45it/s]\n",
      "Training Epoch 1988: 100%|██████████| 891/891 [00:14<00:00, 63.34it/s]\n",
      "Training Epoch 1989: 100%|██████████| 891/891 [00:13<00:00, 66.80it/s]\n",
      "Training Epoch 1990: 100%|██████████| 891/891 [00:13<00:00, 67.84it/s]\n",
      "Training Epoch 1991: 100%|██████████| 891/891 [00:13<00:00, 64.07it/s]\n"
     ]
    },
    {
     "name": "stdout",
     "output_type": "stream",
     "text": [
      "Epoch 1990 - Train Loss: 0.0316, Train MSE: 0.0316, Train MAE: 0.1282\n",
      "Epoch 1990 - Validation Loss: 0.9477, Validation MSE: 0.9487, Validation MAE: 0.7208\n"
     ]
    },
    {
     "name": "stderr",
     "output_type": "stream",
     "text": [
      "Training Epoch 1992: 100%|██████████| 891/891 [00:14<00:00, 63.04it/s]\n",
      "Training Epoch 1993: 100%|██████████| 891/891 [00:13<00:00, 65.67it/s]\n",
      "Training Epoch 1994: 100%|██████████| 891/891 [00:13<00:00, 64.01it/s]\n",
      "Training Epoch 1995: 100%|██████████| 891/891 [00:13<00:00, 64.03it/s]\n",
      "Training Epoch 1996: 100%|██████████| 891/891 [00:13<00:00, 64.02it/s]\n",
      "Training Epoch 1997: 100%|██████████| 891/891 [00:13<00:00, 64.38it/s]\n",
      "Training Epoch 1998: 100%|██████████| 891/891 [00:13<00:00, 64.77it/s]\n",
      "Training Epoch 1999: 100%|██████████| 891/891 [00:13<00:00, 67.30it/s]\n",
      "Training Epoch 2000: 100%|██████████| 891/891 [00:13<00:00, 63.79it/s]\n"
     ]
    },
    {
     "name": "stdout",
     "output_type": "stream",
     "text": [
      "Test MSE: 0.9180, Test MAE: 0.7191\n"
     ]
    }
   ],
   "source": [
    "train_history_2 = pd.DataFrame(columns=[  'epoch',\n",
    "    'Train Loss', 'Train MSE', 'Train MAE', 'Train RMSE', 'Train R2', 'Train Pearson', 'Train Median_AE', 'Train Explained_VAR'\n",
    "    'Val Loss', 'Val MSE', 'Val MAE', 'Val RMSE', 'Val R2', 'Val Pearson', 'Val Median_AE', 'Val Explained_VAR'])\n",
    "# Verify feature dimensions\n",
    "for batch in train_loader_mols:\n",
    "    mol_input_dim = batch['metabolite_features'].shape[1]  # Dynamically determine mol input dimension\n",
    "    protein_input_dim = batch['protein_features'].shape[1]  # Dynamically determine protein input dimension\n",
    "    break\n",
    "\n",
    "# Initialize model, optimizer, and loss function\n",
    "num_timesteps = 10\n",
    "model_2 = TransformerRegressor(mol_input_dim=mol_input_dim, protein_input_dim=protein_input_dim)\n",
    "model_2 = model_2.to(device)\n",
    "optimizer_2 = optim.Adam(model_2.parameters(), lr=0.0001)\n",
    "criterion = nn.MSELoss()\n",
    "\n",
    "# Training and Validation Loop\n",
    "for epoch in range(2000):\n",
    "    model_2.train()\n",
    "    total_loss = 0.0\n",
    "    val_total_loss = 0.0\n",
    "    train_predictions, train_labels = [], []\n",
    "\n",
    "    for batch in tqdm(train_loader_mols, desc=f\"Training Epoch {epoch + 1}\"):\n",
    "        mol_features = batch['metabolite_features'].to(device)\n",
    "        protein_features = batch['protein_features'].to(device)\n",
    "        labels = batch['label'].to(device)\n",
    "\n",
    "        optimizer_2.zero_grad()\n",
    "        outputs = model_2(mol_features, protein_features)\n",
    "        loss = criterion(outputs, labels)\n",
    "        loss.backward()\n",
    "        optimizer_2.step()\n",
    "        total_loss += loss.item()\n",
    "\n",
    "        # Store predictions and labels for metrics\n",
    "        train_predictions.extend(outputs.detach().cpu().numpy())\n",
    "        train_labels.extend(labels.cpu().numpy())\n",
    "\n",
    "    # Calculate training metrics\n",
    "    train_mse = ((torch.tensor(train_predictions) - torch.tensor(train_labels))**2).mean().item()\n",
    "    train_mae = torch.abs(torch.tensor(train_predictions) - torch.tensor(train_labels)).mean().item()\n",
    "    train_rmse = torch.sqrt((torch.tensor(train_predictions) - torch.tensor(train_labels)) ** 2).mean().item()\n",
    "    train_r2 = r2_score(np.array(train_labels), np.array(train_predictions))\n",
    "    train_pearson_corr, _ = pearsonr(np.array(train_labels), np.array(train_predictions))\n",
    "    train_median_ae = median_absolute_error(np.array(train_labels), np.array(train_predictions))\n",
    "    train_explained_var = explained_variance_score(np.array(train_labels), np.array(train_predictions))\n",
    "\n",
    "\n",
    "\n",
    "    if epoch % 10 == 0:\n",
    "        print(f\"Epoch {epoch} - Train Loss: {total_loss / len(train_loader_mols):.4f}, Train MSE: {train_mse:.4f}, Train MAE: {train_mae:.4f}\")\n",
    "\n",
    "    # Validation\n",
    "    model_2.eval()\n",
    "    val_predictions, val_labels = [], []\n",
    "    with torch.no_grad():\n",
    "        for batch in val_loader_mols:\n",
    "            mol_features = batch['metabolite_features'].to(device)\n",
    "            protein_features = batch['protein_features'].to(device)\n",
    "            labels = batch['label'].to(device)\n",
    "\n",
    "            outputs = model_2(mol_features, protein_features)\n",
    "            val_predictions.extend(outputs.cpu().numpy())\n",
    "            val_labels.extend(labels.cpu().numpy())\n",
    "            val_loss = criterion(outputs, labels)\n",
    "            val_total_loss += val_loss.item()\n",
    "\n",
    "    val_mse = ((torch.tensor(val_predictions) - torch.tensor(val_labels))**2).mean().item()\n",
    "    val_mae = torch.abs(torch.tensor(val_predictions) - torch.tensor(val_labels)).mean().item()\n",
    "    val_rmse = torch.sqrt((torch.tensor(val_predictions) - torch.tensor(val_labels)) ** 2).mean().item()\n",
    "    val_r2 = r2_score(np.array(val_labels), np.array(val_predictions))\n",
    "    val_pearson_corr, _ = pearsonr(np.array(val_labels), np.array(val_predictions))\n",
    "    val_median_ae = median_absolute_error(np.array(val_labels), np.array(val_predictions))\n",
    "    val_explained_var = explained_variance_score(np.array(val_labels), np.array(val_predictions))\n",
    "\n",
    "    if epoch % 10 == 0:\n",
    "        print(f\"Epoch {epoch} - Validation Loss: {val_total_loss / len(val_loader_mols):.4f}, Validation MSE: {val_mse:.4f}, Validation MAE: {val_mae:.4f}\")\n",
    "\n",
    "    # Save metrics to DataFrame\n",
    "    new_row = {'epoch': epoch + 1, 'Train Loss': total_loss / len(train_loader_mols), 'Train MSE': train_mse, 'Train MAE': train_mae, 'Train RMSE': train_rmse, 'Train R2': train_r2, 'Train Pearson': train_pearson_corr, 'Train Median_AE': train_median_ae, 'Train Explained_VAR': train_explained_var, \n",
    "               'Val Loss': val_total_loss / len(val_loader_mols), 'Val MSE': val_mse, 'Val MAE': val_mae, 'Val RMSE': val_rmse, 'Val R2': val_r2, 'Val Pearson': val_pearson_corr, 'Val Median_AE': val_median_ae, 'Val Explained_VAR': val_explained_var}\n",
    "    train_history_2 = pd.concat([train_history_2, pd.DataFrame([new_row])], ignore_index=True)\n"
   ]
  },
  {
   "cell_type": "code",
   "execution_count": 11,
   "metadata": {},
   "outputs": [],
   "source": [
    "for batch in train_loader_mols:\n",
    "    mol_input_dim = batch['metabolite_features'].shape[1]  # Dynamically determine mol input dimension\n",
    "    protein_input_dim = batch['protein_features'].shape[1]  # Dynamically determine protein input dimension\n",
    "    break\n",
    "\n",
    "model = TransformerRegressor(mol_input_dim=mol_input_dim, protein_input_dim=protein_input_dim)\n",
    "model.load_state_dict(torch.load('/Users/pinchichen/2025S lab/AI drug project/Catpred/Km/trained_model/cold_mols/Transformer model_Catpred_Km_cold_mols.pt'))\n",
    "model = model.to(device)"
   ]
  },
  {
   "cell_type": "code",
   "execution_count": 12,
   "metadata": {},
   "outputs": [
    {
     "name": "stdout",
     "output_type": "stream",
     "text": [
      "Test MSE: 0.9180, Test RMSE: 0.958101756, Test MAE: 0.7191, Test R2: 0.4233, Test Pearson Correlation: 0.6881, Test Median AE: 0.5562, Test Explained Variance: 0.4234\n"
     ]
    }
   ],
   "source": [
    "\n",
    "# Test Metrics\n",
    "model.eval()\n",
    "test_predictions, test_labels = [], []\n",
    "with torch.no_grad():\n",
    "    for batch in test_loader_mols:\n",
    "        mol_features = batch['metabolite_features'].to(device)\n",
    "        protein_features = batch['protein_features'].to(device)\n",
    "        labels = batch['label'].to(device)\n",
    "\n",
    "        outputs = model(mol_features, protein_features)\n",
    "        test_predictions.extend(outputs.cpu().numpy())\n",
    "        test_labels.extend(labels.cpu().numpy())\n",
    "\n",
    "test_mse = ((torch.tensor(test_predictions) - torch.tensor(test_labels))**2).mean().item()\n",
    "test_mae = torch.abs(torch.tensor(test_predictions) - torch.tensor(test_labels)).mean().item()\n",
    "test_rmse = np.sqrt(test_mse)\n",
    "test_r2 = r2_score(np.array(test_labels), np.array(test_predictions))\n",
    "test_pearson_corr, _ = pearsonr(np.array(test_labels), np.array(test_predictions))\n",
    "test_median_ae = median_absolute_error(np.array(test_labels), np.array(test_predictions))\n",
    "test_explained_var = explained_variance_score(np.array(test_labels), np.array(test_predictions))\n",
    "\n",
    "print(f\"Test MSE: {test_mse:.4f}, Test RMSE: {test_rmse:.9f}, Test MAE: {test_mae:.4f}, Test R2: {test_r2:.4f}, Test Pearson Correlation: {test_pearson_corr:.4f}, Test Median AE: {test_median_ae:.4f}, Test Explained Variance: {test_explained_var:.4f}\")\n"
   ]
  },
  {
   "cell_type": "code",
   "execution_count": 19,
   "metadata": {},
   "outputs": [],
   "source": [
    "model.eval()\n",
    "train_pred, train_labels = [], []\n",
    "with torch.no_grad():\n",
    "    for batch in train_loader_mols:\n",
    "        mol_features = batch['metabolite_features'].to(device)\n",
    "        protein_features = batch['protein_features'].to(device)\n",
    "        labels = batch['label'].to(device)\n",
    "\n",
    "        outputs = model(mol_features, protein_features)\n",
    "        train_pred.extend(outputs.cpu().numpy())\n",
    "        train_labels.extend(labels.cpu().numpy())\n",
    "\n",
    "train_mse, train_rmse, train_mae, train_r2, train_pearson_corr, train_median_ae, train_explained_var = evaluate_model(train_pred, train_labels)"
   ]
  },
  {
   "cell_type": "code",
   "execution_count": 20,
   "metadata": {},
   "outputs": [],
   "source": [
    "model.eval()\n",
    "val_pred, val_labels = [], []\n",
    "with torch.no_grad():\n",
    "    for batch in val_loader_mols:\n",
    "        mol_features = batch['metabolite_features'].to(device)\n",
    "        protein_features = batch['protein_features'].to(device)\n",
    "        labels = batch['label'].to(device)\n",
    "\n",
    "        outputs = model(mol_features, protein_features)\n",
    "        val_pred.extend(outputs.cpu().numpy())\n",
    "        val_labels.extend(labels.cpu().numpy())\n",
    "\n",
    "val_mse, val_rmse, val_mae, val_r2, val_pearson_corr, val_median_ae, val_explained_var = evaluate_model(val_pred, val_labels)\n"
   ]
  },
  {
   "cell_type": "code",
   "execution_count": 21,
   "metadata": {},
   "outputs": [],
   "source": [
    "# append the performance to the csv file\n",
    "df = {\n",
    "    'Model':['Transformer','Transformer','Transformer'],\n",
    "    'Dataset':['Train','Validation','Test'],\n",
    "    'MSE':[train_mse,val_mse,test_mse],\n",
    "    'RMSE':[train_rmse,val_rmse,test_rmse],\n",
    "    'MAE':[train_mae,val_mae,test_mae],\n",
    "    'R2':[train_r2,val_r2,test_r2],\n",
    "    'Pearson':[train_pearson_corr,val_pearson_corr,test_pearson_corr],\n",
    "    'Median_AE':[train_median_ae,val_median_ae,test_median_ae],\n",
    "    'Explained_VAR':[train_explained_var,val_explained_var,test_explained_var],\n",
    "    'Dataspliting Mode':['cold mols','cold mols','cold mols']\n",
    "}\n",
    "df = pd.DataFrame(df)\n",
    "\n",
    "df.to_csv('/Users/pinchichen/2025S lab/AI drug project/Catpred/Km/model performance metrics_Catpred_Km.csv', mode='a', header=False)"
   ]
  },
  {
   "cell_type": "code",
   "execution_count": 14,
   "metadata": {},
   "outputs": [],
   "source": [
    "# Save the model and training history\n",
    "save_dir = '/Users/pinchichen/2025S lab/AI drug project/Catpred/Km/trained_model/cold_mols'\n",
    "# save model weights and optimizer state\n",
    "torch.save(model_2.state_dict(), os.path.join(save_dir, 'Transformer model_Catpred_Km_cold_mols.pt'))\n",
    "torch.save(optimizer_2.state_dict(), os.path.join(save_dir, 'Transformer optimizer_Catpred_Km_cold_mols.pt'))"
   ]
  }
 ],
 "metadata": {
  "kernelspec": {
   "display_name": "base",
   "language": "python",
   "name": "python3"
  },
  "language_info": {
   "codemirror_mode": {
    "name": "ipython",
    "version": 3
   },
   "file_extension": ".py",
   "mimetype": "text/x-python",
   "name": "python",
   "nbconvert_exporter": "python",
   "pygments_lexer": "ipython3",
   "version": "3.12.2"
  }
 },
 "nbformat": 4,
 "nbformat_minor": 2
}
