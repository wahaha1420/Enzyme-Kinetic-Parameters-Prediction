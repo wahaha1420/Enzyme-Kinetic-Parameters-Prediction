{
 "cells": [
  {
   "cell_type": "code",
   "execution_count": 7,
   "metadata": {},
   "outputs": [],
   "source": [
    "import pandas as pd\n",
    "import numpy as np\n",
    "from tqdm import tqdm\n",
    "import torch\n",
    "import torch.nn as nn\n",
    "import torch.optim as optim\n",
    "from torch.utils.data import DataLoader, Dataset\n",
    "from sklearn.metrics import roc_auc_score\n",
    "from sklearn.model_selection import train_test_split\n",
    "import os\n"
   ]
  },
  {
   "cell_type": "code",
   "execution_count": 8,
   "metadata": {},
   "outputs": [
    {
     "data": {
      "text/html": [
       "<div>\n",
       "<style scoped>\n",
       "    .dataframe tbody tr th:only-of-type {\n",
       "        vertical-align: middle;\n",
       "    }\n",
       "\n",
       "    .dataframe tbody tr th {\n",
       "        vertical-align: top;\n",
       "    }\n",
       "\n",
       "    .dataframe thead th {\n",
       "        text-align: right;\n",
       "    }\n",
       "</style>\n",
       "<table border=\"1\" class=\"dataframe\">\n",
       "  <thead>\n",
       "    <tr style=\"text-align: right;\">\n",
       "      <th></th>\n",
       "      <th>Sequence</th>\n",
       "      <th>sequence_source</th>\n",
       "      <th>uniprot</th>\n",
       "      <th>Smiles</th>\n",
       "      <th>value</th>\n",
       "      <th>ec</th>\n",
       "      <th>taxonomy_id</th>\n",
       "      <th>log10_value</th>\n",
       "      <th>log10km_mean</th>\n",
       "      <th>metabolite_features</th>\n",
       "      <th>protein_features</th>\n",
       "    </tr>\n",
       "  </thead>\n",
       "  <tbody>\n",
       "    <tr>\n",
       "      <th>0</th>\n",
       "      <td>MGQEKLYIEKELSWLSFNERVLQEAADKSNPLIERMRFLGIYSNNL...</td>\n",
       "      <td>sabio</td>\n",
       "      <td>P0A7B1</td>\n",
       "      <td>Nc1nc2c(ncn2C2OC(COP(=O)(O)OP(=O)(O)O)C(O)C2O)...</td>\n",
       "      <td>0.6300</td>\n",
       "      <td>2.7.4.1</td>\n",
       "      <td>562</td>\n",
       "      <td>-0.200659</td>\n",
       "      <td>-0.200659</td>\n",
       "      <td>[0.25370342, -0.3417107, -0.28024313, -0.04292...</td>\n",
       "      <td>[-0.06592023, -0.062496405, -0.012068139, 0.06...</td>\n",
       "    </tr>\n",
       "    <tr>\n",
       "      <th>1</th>\n",
       "      <td>MSQQPHTEQFPKNQPPLAERLASARQLVTKAISAVPPHPEPLPSPN...</td>\n",
       "      <td>brenda</td>\n",
       "      <td>A0A0S2SWE4</td>\n",
       "      <td>CC/C=C\\C/C=C\\C/C=C\\CCCCCCCC(=O)O</td>\n",
       "      <td>0.0264</td>\n",
       "      <td>1.13.11.60</td>\n",
       "      <td>474922</td>\n",
       "      <td>-1.578396</td>\n",
       "      <td>-1.553572</td>\n",
       "      <td>[0.61067283, 0.46248585, -0.051634412, -0.7397...</td>\n",
       "      <td>[0.16962084, -0.09671225, 0.116663285, 0.05065...</td>\n",
       "    </tr>\n",
       "    <tr>\n",
       "      <th>2</th>\n",
       "      <td>MSAAADRLNLTSGHLNAGRKRSSSSVSLKAVEKPFKVTVIGSGNWG...</td>\n",
       "      <td>uniprot_search</td>\n",
       "      <td>A0A060KZ16</td>\n",
       "      <td>O=C(CO)COP(=O)(O)O</td>\n",
       "      <td>0.6100</td>\n",
       "      <td>1.1.1.8</td>\n",
       "      <td>114524</td>\n",
       "      <td>-0.214670</td>\n",
       "      <td>-0.214670</td>\n",
       "      <td>[0.29938427, -0.0972216, -0.3334697, -0.721026...</td>\n",
       "      <td>[0.0933136, -0.117130496, 0.0676241, 0.0187789...</td>\n",
       "    </tr>\n",
       "    <tr>\n",
       "      <th>3</th>\n",
       "      <td>MLAEKTRSIIKATVPVLEQQGTVITRTFYKNMLTEHTELLNIFNRT...</td>\n",
       "      <td>sabio</td>\n",
       "      <td>P39676</td>\n",
       "      <td>NC(=O)C1=CN(C2OC(COP(=O)(O)OP(=O)(O)OCC3OC(n4c...</td>\n",
       "      <td>0.0280</td>\n",
       "      <td>1.14.12.17</td>\n",
       "      <td>4932</td>\n",
       "      <td>-1.552842</td>\n",
       "      <td>-1.552842</td>\n",
       "      <td>[0.639636, -0.14536878, -0.52627945, 0.1240742...</td>\n",
       "      <td>[-0.02827879, -0.04372119, 0.03182794, 0.19197...</td>\n",
       "    </tr>\n",
       "    <tr>\n",
       "      <th>4</th>\n",
       "      <td>MASAERVPVSFNKPGRVPFGEVQGYAPGHIPAYSNKHDHFFSGERS...</td>\n",
       "      <td>uniprot_search</td>\n",
       "      <td>O60993</td>\n",
       "      <td>Nc1ncnc2c1ncn2[C@H]1O[C@H](COP(=O)([O-])OP(=O)...</td>\n",
       "      <td>0.4000</td>\n",
       "      <td>6.3.1.9</td>\n",
       "      <td>5656</td>\n",
       "      <td>-0.397940</td>\n",
       "      <td>-0.397940</td>\n",
       "      <td>[0.25855744, 0.43888408, -0.7136499, 0.0234168...</td>\n",
       "      <td>[0.074476704, -0.050253637, 0.05497695, 0.1402...</td>\n",
       "    </tr>\n",
       "  </tbody>\n",
       "</table>\n",
       "</div>"
      ],
      "text/plain": [
       "                                            Sequence sequence_source  \\\n",
       "0  MGQEKLYIEKELSWLSFNERVLQEAADKSNPLIERMRFLGIYSNNL...           sabio   \n",
       "1  MSQQPHTEQFPKNQPPLAERLASARQLVTKAISAVPPHPEPLPSPN...          brenda   \n",
       "2  MSAAADRLNLTSGHLNAGRKRSSSSVSLKAVEKPFKVTVIGSGNWG...  uniprot_search   \n",
       "3  MLAEKTRSIIKATVPVLEQQGTVITRTFYKNMLTEHTELLNIFNRT...           sabio   \n",
       "4  MASAERVPVSFNKPGRVPFGEVQGYAPGHIPAYSNKHDHFFSGERS...  uniprot_search   \n",
       "\n",
       "      uniprot                                             Smiles   value  \\\n",
       "0      P0A7B1  Nc1nc2c(ncn2C2OC(COP(=O)(O)OP(=O)(O)O)C(O)C2O)...  0.6300   \n",
       "1  A0A0S2SWE4                   CC/C=C\\C/C=C\\C/C=C\\CCCCCCCC(=O)O  0.0264   \n",
       "2  A0A060KZ16                                 O=C(CO)COP(=O)(O)O  0.6100   \n",
       "3      P39676  NC(=O)C1=CN(C2OC(COP(=O)(O)OP(=O)(O)OCC3OC(n4c...  0.0280   \n",
       "4      O60993  Nc1ncnc2c1ncn2[C@H]1O[C@H](COP(=O)([O-])OP(=O)...  0.4000   \n",
       "\n",
       "           ec  taxonomy_id  log10_value  log10km_mean  \\\n",
       "0     2.7.4.1          562    -0.200659     -0.200659   \n",
       "1  1.13.11.60       474922    -1.578396     -1.553572   \n",
       "2     1.1.1.8       114524    -0.214670     -0.214670   \n",
       "3  1.14.12.17         4932    -1.552842     -1.552842   \n",
       "4     6.3.1.9         5656    -0.397940     -0.397940   \n",
       "\n",
       "                                 metabolite_features  \\\n",
       "0  [0.25370342, -0.3417107, -0.28024313, -0.04292...   \n",
       "1  [0.61067283, 0.46248585, -0.051634412, -0.7397...   \n",
       "2  [0.29938427, -0.0972216, -0.3334697, -0.721026...   \n",
       "3  [0.639636, -0.14536878, -0.52627945, 0.1240742...   \n",
       "4  [0.25855744, 0.43888408, -0.7136499, 0.0234168...   \n",
       "\n",
       "                                    protein_features  \n",
       "0  [-0.06592023, -0.062496405, -0.012068139, 0.06...  \n",
       "1  [0.16962084, -0.09671225, 0.116663285, 0.05065...  \n",
       "2  [0.0933136, -0.117130496, 0.0676241, 0.0187789...  \n",
       "3  [-0.02827879, -0.04372119, 0.03182794, 0.19197...  \n",
       "4  [0.074476704, -0.050253637, 0.05497695, 0.1402...  "
      ]
     },
     "execution_count": 8,
     "metadata": {},
     "output_type": "execute_result"
    }
   ],
   "source": [
    "import joblib\n",
    "import pandas as pd\n",
    "\n",
    "data_kcat = joblib.load('/Users/pinchichen/2025S lab/AI drug project/Catpred/dataset/km/km_with_features.joblib')\n",
    "data_kcat.head()"
   ]
  },
  {
   "cell_type": "code",
   "execution_count": 9,
   "metadata": {},
   "outputs": [
    {
     "data": {
      "text/html": [
       "<div>\n",
       "<style scoped>\n",
       "    .dataframe tbody tr th:only-of-type {\n",
       "        vertical-align: middle;\n",
       "    }\n",
       "\n",
       "    .dataframe tbody tr th {\n",
       "        vertical-align: top;\n",
       "    }\n",
       "\n",
       "    .dataframe thead th {\n",
       "        text-align: right;\n",
       "    }\n",
       "</style>\n",
       "<table border=\"1\" class=\"dataframe\">\n",
       "  <thead>\n",
       "    <tr style=\"text-align: right;\">\n",
       "      <th></th>\n",
       "      <th>Sequence</th>\n",
       "      <th>sequence_source</th>\n",
       "      <th>uniprot</th>\n",
       "      <th>Smiles</th>\n",
       "      <th>value</th>\n",
       "      <th>ec</th>\n",
       "      <th>taxonomy_id</th>\n",
       "      <th>log10_value</th>\n",
       "      <th>label</th>\n",
       "      <th>metabolite_features</th>\n",
       "      <th>protein_features</th>\n",
       "    </tr>\n",
       "  </thead>\n",
       "  <tbody>\n",
       "    <tr>\n",
       "      <th>0</th>\n",
       "      <td>MGQEKLYIEKELSWLSFNERVLQEAADKSNPLIERMRFLGIYSNNL...</td>\n",
       "      <td>sabio</td>\n",
       "      <td>P0A7B1</td>\n",
       "      <td>Nc1nc2c(ncn2C2OC(COP(=O)(O)OP(=O)(O)O)C(O)C2O)...</td>\n",
       "      <td>0.6300</td>\n",
       "      <td>2.7.4.1</td>\n",
       "      <td>562</td>\n",
       "      <td>-0.200659</td>\n",
       "      <td>-0.200659</td>\n",
       "      <td>[0.25370342, -0.3417107, -0.28024313, -0.04292...</td>\n",
       "      <td>[-0.06592023, -0.062496405, -0.012068139, 0.06...</td>\n",
       "    </tr>\n",
       "    <tr>\n",
       "      <th>1</th>\n",
       "      <td>MSQQPHTEQFPKNQPPLAERLASARQLVTKAISAVPPHPEPLPSPN...</td>\n",
       "      <td>brenda</td>\n",
       "      <td>A0A0S2SWE4</td>\n",
       "      <td>CC/C=C\\C/C=C\\C/C=C\\CCCCCCCC(=O)O</td>\n",
       "      <td>0.0264</td>\n",
       "      <td>1.13.11.60</td>\n",
       "      <td>474922</td>\n",
       "      <td>-1.578396</td>\n",
       "      <td>-1.553572</td>\n",
       "      <td>[0.61067283, 0.46248585, -0.051634412, -0.7397...</td>\n",
       "      <td>[0.16962084, -0.09671225, 0.116663285, 0.05065...</td>\n",
       "    </tr>\n",
       "    <tr>\n",
       "      <th>2</th>\n",
       "      <td>MSAAADRLNLTSGHLNAGRKRSSSSVSLKAVEKPFKVTVIGSGNWG...</td>\n",
       "      <td>uniprot_search</td>\n",
       "      <td>A0A060KZ16</td>\n",
       "      <td>O=C(CO)COP(=O)(O)O</td>\n",
       "      <td>0.6100</td>\n",
       "      <td>1.1.1.8</td>\n",
       "      <td>114524</td>\n",
       "      <td>-0.214670</td>\n",
       "      <td>-0.214670</td>\n",
       "      <td>[0.29938427, -0.0972216, -0.3334697, -0.721026...</td>\n",
       "      <td>[0.0933136, -0.117130496, 0.0676241, 0.0187789...</td>\n",
       "    </tr>\n",
       "    <tr>\n",
       "      <th>3</th>\n",
       "      <td>MLAEKTRSIIKATVPVLEQQGTVITRTFYKNMLTEHTELLNIFNRT...</td>\n",
       "      <td>sabio</td>\n",
       "      <td>P39676</td>\n",
       "      <td>NC(=O)C1=CN(C2OC(COP(=O)(O)OP(=O)(O)OCC3OC(n4c...</td>\n",
       "      <td>0.0280</td>\n",
       "      <td>1.14.12.17</td>\n",
       "      <td>4932</td>\n",
       "      <td>-1.552842</td>\n",
       "      <td>-1.552842</td>\n",
       "      <td>[0.639636, -0.14536878, -0.52627945, 0.1240742...</td>\n",
       "      <td>[-0.02827879, -0.04372119, 0.03182794, 0.19197...</td>\n",
       "    </tr>\n",
       "    <tr>\n",
       "      <th>4</th>\n",
       "      <td>MASAERVPVSFNKPGRVPFGEVQGYAPGHIPAYSNKHDHFFSGERS...</td>\n",
       "      <td>uniprot_search</td>\n",
       "      <td>O60993</td>\n",
       "      <td>Nc1ncnc2c1ncn2[C@H]1O[C@H](COP(=O)([O-])OP(=O)...</td>\n",
       "      <td>0.4000</td>\n",
       "      <td>6.3.1.9</td>\n",
       "      <td>5656</td>\n",
       "      <td>-0.397940</td>\n",
       "      <td>-0.397940</td>\n",
       "      <td>[0.25855744, 0.43888408, -0.7136499, 0.0234168...</td>\n",
       "      <td>[0.074476704, -0.050253637, 0.05497695, 0.1402...</td>\n",
       "    </tr>\n",
       "  </tbody>\n",
       "</table>\n",
       "</div>"
      ],
      "text/plain": [
       "                                            Sequence sequence_source  \\\n",
       "0  MGQEKLYIEKELSWLSFNERVLQEAADKSNPLIERMRFLGIYSNNL...           sabio   \n",
       "1  MSQQPHTEQFPKNQPPLAERLASARQLVTKAISAVPPHPEPLPSPN...          brenda   \n",
       "2  MSAAADRLNLTSGHLNAGRKRSSSSVSLKAVEKPFKVTVIGSGNWG...  uniprot_search   \n",
       "3  MLAEKTRSIIKATVPVLEQQGTVITRTFYKNMLTEHTELLNIFNRT...           sabio   \n",
       "4  MASAERVPVSFNKPGRVPFGEVQGYAPGHIPAYSNKHDHFFSGERS...  uniprot_search   \n",
       "\n",
       "      uniprot                                             Smiles   value  \\\n",
       "0      P0A7B1  Nc1nc2c(ncn2C2OC(COP(=O)(O)OP(=O)(O)O)C(O)C2O)...  0.6300   \n",
       "1  A0A0S2SWE4                   CC/C=C\\C/C=C\\C/C=C\\CCCCCCCC(=O)O  0.0264   \n",
       "2  A0A060KZ16                                 O=C(CO)COP(=O)(O)O  0.6100   \n",
       "3      P39676  NC(=O)C1=CN(C2OC(COP(=O)(O)OP(=O)(O)OCC3OC(n4c...  0.0280   \n",
       "4      O60993  Nc1ncnc2c1ncn2[C@H]1O[C@H](COP(=O)([O-])OP(=O)...  0.4000   \n",
       "\n",
       "           ec  taxonomy_id  log10_value     label  \\\n",
       "0     2.7.4.1          562    -0.200659 -0.200659   \n",
       "1  1.13.11.60       474922    -1.578396 -1.553572   \n",
       "2     1.1.1.8       114524    -0.214670 -0.214670   \n",
       "3  1.14.12.17         4932    -1.552842 -1.552842   \n",
       "4     6.3.1.9         5656    -0.397940 -0.397940   \n",
       "\n",
       "                                 metabolite_features  \\\n",
       "0  [0.25370342, -0.3417107, -0.28024313, -0.04292...   \n",
       "1  [0.61067283, 0.46248585, -0.051634412, -0.7397...   \n",
       "2  [0.29938427, -0.0972216, -0.3334697, -0.721026...   \n",
       "3  [0.639636, -0.14536878, -0.52627945, 0.1240742...   \n",
       "4  [0.25855744, 0.43888408, -0.7136499, 0.0234168...   \n",
       "\n",
       "                                    protein_features  \n",
       "0  [-0.06592023, -0.062496405, -0.012068139, 0.06...  \n",
       "1  [0.16962084, -0.09671225, 0.116663285, 0.05065...  \n",
       "2  [0.0933136, -0.117130496, 0.0676241, 0.0187789...  \n",
       "3  [-0.02827879, -0.04372119, 0.03182794, 0.19197...  \n",
       "4  [0.074476704, -0.050253637, 0.05497695, 0.1402...  "
      ]
     },
     "execution_count": 9,
     "metadata": {},
     "output_type": "execute_result"
    }
   ],
   "source": [
    "data_kcat.rename(columns={'log10km_mean':'label'},inplace=True)\n",
    "data_kcat.head()"
   ]
  },
  {
   "cell_type": "code",
   "execution_count": 10,
   "metadata": {},
   "outputs": [],
   "source": [
    "# Define dataset\n",
    "class MPI_Dataset(Dataset):\n",
    "    def __init__(self, dataframe):\n",
    "        self.dataframe = dataframe\n",
    "\n",
    "    def __len__(self):\n",
    "        return len(self.dataframe)\n",
    "\n",
    "    def __getitem__(self, idx):\n",
    "        row = self.dataframe.iloc[idx]\n",
    "        return {\n",
    "            'metabolite_features': torch.tensor(np.asarray(row['metabolite_features'], dtype=np.float32)),\n",
    "            'protein_features': torch.tensor(np.asarray(row['protein_features'], dtype=np.float32)),\n",
    "            'label': torch.tensor(float(row['label']), dtype=torch.float32),\n",
    "        }"
   ]
  },
  {
   "cell_type": "code",
   "execution_count": 11,
   "metadata": {},
   "outputs": [],
   "source": [
    "# Load data\n",
    "# Assuming `combined_df` is a pandas DataFrame containing all necessary columns\n",
    "train_df, temp_df = train_test_split(data_kcat, test_size=0.3, shuffle=True, random_state=42)\n",
    "val_df, test_df = train_test_split(temp_df, test_size=0.5, shuffle=True, random_state=42)\n",
    "\n",
    "train_dataset = MPI_Dataset(train_df)\n",
    "val_dataset = MPI_Dataset(val_df)\n",
    "test_dataset = MPI_Dataset(test_df)\n",
    "\n",
    "train_loader = DataLoader(train_dataset, batch_size=32, shuffle=True)\n",
    "val_loader = DataLoader(val_dataset, batch_size=32)\n",
    "test_loader = DataLoader(test_dataset, batch_size=32)"
   ]
  },
  {
   "cell_type": "code",
   "execution_count": 12,
   "metadata": {},
   "outputs": [],
   "source": [
    "import torch.nn as nn\n",
    "import torch\n",
    "\n",
    "# Define Diffusion Generative Model for Regression\n",
    "class DiffusionGenerativeModel(nn.Module):\n",
    "    def __init__(self, mol_input_dim, protein_input_dim, hidden_dim, num_timesteps):\n",
    "        super(DiffusionGenerativeModel, self).__init__()\n",
    "        self.num_timesteps = num_timesteps\n",
    "        self.mol_encoder = nn.Linear(mol_input_dim, hidden_dim)\n",
    "        self.protein_encoder = nn.Linear(protein_input_dim, hidden_dim)\n",
    "        self.layer_norm = nn.LayerNorm(hidden_dim * 2)\n",
    "        self.dropout = nn.Dropout(0.3)\n",
    "        self.denoise_model = nn.Linear(hidden_dim * 2, hidden_dim)\n",
    "        self.regressor = nn.Linear(hidden_dim, 1)  # Regression layer\n",
    "        self.activation = nn.ReLU()\n",
    "\n",
    "        # Embedding for timesteps\n",
    "        self.timestep_embedding = nn.Embedding(num_timesteps, hidden_dim * 2)\n",
    "\n",
    "    def forward(self, mol_features, protein_features, t):\n",
    "        # Encode mol and protein features\n",
    "        mol_embedding = self.activation(self.mol_encoder(mol_features))\n",
    "        protein_embedding = self.activation(self.protein_encoder(protein_features))\n",
    "\n",
    "        # Concatenate embeddings\n",
    "        combined = torch.cat((mol_embedding, protein_embedding), dim=-1)\n",
    "        combined = self.layer_norm(combined)\n",
    "        combined = self.dropout(combined)\n",
    "\n",
    "        # Add learnable timestep embedding\n",
    "        t_embedding = self.timestep_embedding(t.long())\n",
    "        combined += t_embedding\n",
    "\n",
    "        # Denoise process\n",
    "        denoised = self.activation(self.denoise_model(combined))\n",
    "\n",
    "        # Regression layer\n",
    "        output = self.regressor(denoised)  # Predict continuous values\n",
    "        return output\n",
    "\n",
    "    def add_noise(self, x, noise_level=0.1):\n",
    "        noise = noise_level * torch.randn_like(x)\n",
    "        return x + noise\n"
   ]
  },
  {
   "cell_type": "code",
   "execution_count": 13,
   "metadata": {},
   "outputs": [],
   "source": [
    "# Check CUDA availability\n",
    "device = torch.device(\"cuda\" if torch.cuda.is_available() else \"cpu\")"
   ]
  },
  {
   "cell_type": "code",
   "execution_count": null,
   "metadata": {},
   "outputs": [
    {
     "name": "stderr",
     "output_type": "stream",
     "text": [
      "Training Epoch 1: 100%|██████████| 901/901 [00:03<00:00, 241.34it/s]\n"
     ]
    },
    {
     "name": "stdout",
     "output_type": "stream",
     "text": [
      "Epoch 0 - Train Loss: 1.2214, Train MSE: 1.2214, Train MAE: 0.8661\n"
     ]
    },
    {
     "name": "stderr",
     "output_type": "stream",
     "text": [
      "/var/folders/yz/c1z6m9_d5d3f80sywjc3rqsc0000gn/T/ipykernel_83610/374893312.py:97: FutureWarning: The behavior of DataFrame concatenation with empty or all-NA entries is deprecated. In a future version, this will no longer exclude empty or all-NA columns when determining the result dtypes. To retain the old behavior, exclude the relevant entries before the concat operation.\n",
      "  train_history = pd.concat([train_history, pd.DataFrame([new_row])], ignore_index=True)\n"
     ]
    },
    {
     "name": "stdout",
     "output_type": "stream",
     "text": [
      "Epoch 0 - Validation Loss: 1.1071, Validation MSE: 1.1071, Validation MAE: 0.8212\n"
     ]
    },
    {
     "name": "stderr",
     "output_type": "stream",
     "text": [
      "Training Epoch 2: 100%|██████████| 901/901 [00:03<00:00, 238.75it/s]\n",
      "Training Epoch 3: 100%|██████████| 901/901 [00:03<00:00, 236.30it/s]\n",
      "Training Epoch 4: 100%|██████████| 901/901 [00:03<00:00, 239.58it/s]\n",
      "Training Epoch 5: 100%|██████████| 901/901 [00:03<00:00, 243.99it/s]\n",
      "Training Epoch 6: 100%|██████████| 901/901 [00:03<00:00, 250.49it/s]\n",
      "Training Epoch 7: 100%|██████████| 901/901 [00:03<00:00, 240.83it/s]\n",
      "Training Epoch 8: 100%|██████████| 901/901 [00:03<00:00, 232.00it/s]\n",
      "Training Epoch 9: 100%|██████████| 901/901 [00:03<00:00, 236.56it/s]\n",
      "Training Epoch 10: 100%|██████████| 901/901 [00:03<00:00, 239.65it/s]\n",
      "Training Epoch 11: 100%|██████████| 901/901 [00:04<00:00, 223.52it/s]\n"
     ]
    },
    {
     "name": "stdout",
     "output_type": "stream",
     "text": [
      "Epoch 10 - Train Loss: 0.9285, Train MSE: 0.9283, Train MAE: 0.7473\n",
      "Epoch 10 - Validation Loss: 0.9284, Validation MSE: 0.9284, Validation MAE: 0.7430\n"
     ]
    },
    {
     "name": "stderr",
     "output_type": "stream",
     "text": [
      "Training Epoch 12: 100%|██████████| 901/901 [00:03<00:00, 230.87it/s]\n",
      "Training Epoch 13: 100%|██████████| 901/901 [00:03<00:00, 248.37it/s]\n",
      "Training Epoch 14: 100%|██████████| 901/901 [00:03<00:00, 240.06it/s]\n",
      "Training Epoch 15: 100%|██████████| 901/901 [00:03<00:00, 241.11it/s]\n",
      "Training Epoch 16: 100%|██████████| 901/901 [00:03<00:00, 237.93it/s]\n",
      "Training Epoch 17: 100%|██████████| 901/901 [00:03<00:00, 238.21it/s]\n",
      "Training Epoch 18: 100%|██████████| 901/901 [00:03<00:00, 239.00it/s]\n",
      "Training Epoch 19: 100%|██████████| 901/901 [00:03<00:00, 242.35it/s]\n",
      "Training Epoch 20: 100%|██████████| 901/901 [00:03<00:00, 241.09it/s]\n",
      "Training Epoch 21: 100%|██████████| 901/901 [00:03<00:00, 237.30it/s]\n"
     ]
    },
    {
     "name": "stdout",
     "output_type": "stream",
     "text": [
      "Epoch 20 - Train Loss: 0.8286, Train MSE: 0.8288, Train MAE: 0.7045\n",
      "Epoch 20 - Validation Loss: 0.8726, Validation MSE: 0.8726, Validation MAE: 0.7176\n"
     ]
    },
    {
     "name": "stderr",
     "output_type": "stream",
     "text": [
      "Training Epoch 22: 100%|██████████| 901/901 [00:03<00:00, 233.50it/s]\n",
      "Training Epoch 23: 100%|██████████| 901/901 [00:03<00:00, 225.87it/s]\n",
      "Training Epoch 24: 100%|██████████| 901/901 [00:04<00:00, 202.00it/s]\n",
      "Training Epoch 25: 100%|██████████| 901/901 [00:03<00:00, 233.68it/s]\n",
      "Training Epoch 26: 100%|██████████| 901/901 [00:03<00:00, 250.07it/s]\n",
      "Training Epoch 27: 100%|██████████| 901/901 [00:03<00:00, 231.42it/s]\n",
      "Training Epoch 28: 100%|██████████| 901/901 [00:03<00:00, 236.15it/s]\n",
      "Training Epoch 29: 100%|██████████| 901/901 [00:03<00:00, 227.77it/s]\n",
      "Training Epoch 30: 100%|██████████| 901/901 [00:03<00:00, 241.45it/s]\n",
      "Training Epoch 31: 100%|██████████| 901/901 [00:03<00:00, 235.51it/s]\n"
     ]
    },
    {
     "name": "stdout",
     "output_type": "stream",
     "text": [
      "Epoch 30 - Train Loss: 0.7592, Train MSE: 0.7593, Train MAE: 0.6719\n",
      "Epoch 30 - Validation Loss: 0.8705, Validation MSE: 0.8705, Validation MAE: 0.7178\n"
     ]
    },
    {
     "name": "stderr",
     "output_type": "stream",
     "text": [
      "Training Epoch 32: 100%|██████████| 901/901 [00:03<00:00, 238.44it/s]\n",
      "Training Epoch 33: 100%|██████████| 901/901 [00:03<00:00, 253.53it/s]\n",
      "Training Epoch 34: 100%|██████████| 901/901 [00:03<00:00, 241.16it/s]\n",
      "Training Epoch 35: 100%|██████████| 901/901 [00:03<00:00, 238.53it/s]\n",
      "Training Epoch 36: 100%|██████████| 901/901 [00:03<00:00, 241.62it/s]\n",
      "Training Epoch 37: 100%|██████████| 901/901 [00:03<00:00, 241.95it/s]\n",
      "Training Epoch 38: 100%|██████████| 901/901 [00:03<00:00, 239.48it/s]\n",
      "Training Epoch 39: 100%|██████████| 901/901 [00:03<00:00, 249.03it/s]\n",
      "Training Epoch 40: 100%|██████████| 901/901 [00:04<00:00, 219.66it/s]\n",
      "Training Epoch 41: 100%|██████████| 901/901 [00:03<00:00, 236.37it/s]\n"
     ]
    },
    {
     "name": "stdout",
     "output_type": "stream",
     "text": [
      "Epoch 40 - Train Loss: 0.7052, Train MSE: 0.7053, Train MAE: 0.6480\n",
      "Epoch 40 - Validation Loss: 0.8333, Validation MSE: 0.8333, Validation MAE: 0.6978\n"
     ]
    },
    {
     "name": "stderr",
     "output_type": "stream",
     "text": [
      "Training Epoch 42: 100%|██████████| 901/901 [00:03<00:00, 238.17it/s]\n",
      "Training Epoch 43: 100%|██████████| 901/901 [00:03<00:00, 231.60it/s]\n",
      "Training Epoch 44: 100%|██████████| 901/901 [00:04<00:00, 224.48it/s]\n",
      "Training Epoch 45: 100%|██████████| 901/901 [00:03<00:00, 228.33it/s]\n",
      "Training Epoch 46: 100%|██████████| 901/901 [00:15<00:00, 58.60it/s] \n",
      "Training Epoch 47: 100%|██████████| 901/901 [00:09<00:00, 96.44it/s] \n",
      "Training Epoch 48: 100%|██████████| 901/901 [00:03<00:00, 233.80it/s]\n",
      "Training Epoch 49: 100%|██████████| 901/901 [00:03<00:00, 240.05it/s]\n",
      "Training Epoch 50: 100%|██████████| 901/901 [00:03<00:00, 234.44it/s]\n",
      "Training Epoch 51: 100%|██████████| 901/901 [00:04<00:00, 213.69it/s]\n"
     ]
    },
    {
     "name": "stdout",
     "output_type": "stream",
     "text": [
      "Epoch 50 - Train Loss: 0.6689, Train MSE: 0.6690, Train MAE: 0.6318\n",
      "Epoch 50 - Validation Loss: 0.8405, Validation MSE: 0.8405, Validation MAE: 0.6982\n"
     ]
    },
    {
     "name": "stderr",
     "output_type": "stream",
     "text": [
      "Training Epoch 52: 100%|██████████| 901/901 [00:03<00:00, 238.60it/s]\n",
      "Training Epoch 53: 100%|██████████| 901/901 [00:03<00:00, 237.90it/s]\n",
      "Training Epoch 54: 100%|██████████| 901/901 [00:03<00:00, 232.54it/s]\n",
      "Training Epoch 55: 100%|██████████| 901/901 [00:03<00:00, 235.10it/s]\n",
      "Training Epoch 56: 100%|██████████| 901/901 [00:03<00:00, 235.79it/s]\n",
      "Training Epoch 57: 100%|██████████| 901/901 [00:04<00:00, 212.93it/s]\n",
      "Training Epoch 58: 100%|██████████| 901/901 [00:03<00:00, 227.68it/s]\n",
      "Training Epoch 59: 100%|██████████| 901/901 [00:03<00:00, 239.88it/s]\n",
      "Training Epoch 60: 100%|██████████| 901/901 [00:03<00:00, 230.74it/s]\n",
      "Training Epoch 61: 100%|██████████| 901/901 [00:04<00:00, 220.98it/s]\n"
     ]
    },
    {
     "name": "stdout",
     "output_type": "stream",
     "text": [
      "Epoch 60 - Train Loss: 0.6313, Train MSE: 0.6313, Train MAE: 0.6125\n",
      "Epoch 60 - Validation Loss: 0.8089, Validation MSE: 0.8089, Validation MAE: 0.6849\n"
     ]
    },
    {
     "name": "stderr",
     "output_type": "stream",
     "text": [
      "Training Epoch 62: 100%|██████████| 901/901 [00:04<00:00, 196.10it/s]\n",
      "Training Epoch 63: 100%|██████████| 901/901 [00:04<00:00, 198.50it/s]\n",
      "Training Epoch 64: 100%|██████████| 901/901 [00:04<00:00, 197.15it/s]\n",
      "Training Epoch 65: 100%|██████████| 901/901 [00:04<00:00, 198.60it/s]\n",
      "Training Epoch 66: 100%|██████████| 901/901 [00:04<00:00, 203.42it/s]\n",
      "Training Epoch 67: 100%|██████████| 901/901 [00:04<00:00, 196.76it/s]\n",
      "Training Epoch 68: 100%|██████████| 901/901 [00:04<00:00, 197.44it/s]\n",
      "Training Epoch 69: 100%|██████████| 901/901 [00:04<00:00, 200.41it/s]\n",
      "Training Epoch 70: 100%|██████████| 901/901 [00:04<00:00, 204.83it/s]\n",
      "Training Epoch 71: 100%|██████████| 901/901 [00:04<00:00, 203.93it/s]\n"
     ]
    },
    {
     "name": "stdout",
     "output_type": "stream",
     "text": [
      "Epoch 70 - Train Loss: 0.5930, Train MSE: 0.5930, Train MAE: 0.5944\n",
      "Epoch 70 - Validation Loss: 0.7977, Validation MSE: 0.7977, Validation MAE: 0.6813\n"
     ]
    },
    {
     "name": "stderr",
     "output_type": "stream",
     "text": [
      "Training Epoch 72: 100%|██████████| 901/901 [00:04<00:00, 201.71it/s]\n",
      "Training Epoch 73: 100%|██████████| 901/901 [00:04<00:00, 192.78it/s]\n",
      "Training Epoch 74: 100%|██████████| 901/901 [00:04<00:00, 180.73it/s]\n",
      "Training Epoch 75: 100%|██████████| 901/901 [00:04<00:00, 190.27it/s]\n",
      "Training Epoch 76: 100%|██████████| 901/901 [00:04<00:00, 183.68it/s]\n",
      "Training Epoch 77: 100%|██████████| 901/901 [00:04<00:00, 189.42it/s]\n",
      "Training Epoch 78: 100%|██████████| 901/901 [00:04<00:00, 194.34it/s]\n",
      "Training Epoch 79: 100%|██████████| 901/901 [00:04<00:00, 190.19it/s]\n",
      "Training Epoch 80: 100%|██████████| 901/901 [00:04<00:00, 188.06it/s]\n",
      "Training Epoch 81: 100%|██████████| 901/901 [00:06<00:00, 149.41it/s]\n"
     ]
    },
    {
     "name": "stdout",
     "output_type": "stream",
     "text": [
      "Epoch 80 - Train Loss: 0.5706, Train MSE: 0.5706, Train MAE: 0.5832\n",
      "Epoch 80 - Validation Loss: 0.7955, Validation MSE: 0.7955, Validation MAE: 0.6779\n"
     ]
    },
    {
     "name": "stderr",
     "output_type": "stream",
     "text": [
      "Training Epoch 82: 100%|██████████| 901/901 [00:05<00:00, 168.07it/s]\n",
      "Training Epoch 83: 100%|██████████| 901/901 [00:05<00:00, 154.25it/s]\n",
      "Training Epoch 84: 100%|██████████| 901/901 [00:05<00:00, 167.93it/s]\n",
      "Training Epoch 85: 100%|██████████| 901/901 [00:05<00:00, 171.90it/s]\n",
      "Training Epoch 86: 100%|██████████| 901/901 [00:05<00:00, 168.25it/s]\n",
      "Training Epoch 87: 100%|██████████| 901/901 [00:05<00:00, 164.74it/s]\n",
      "Training Epoch 88: 100%|██████████| 901/901 [00:05<00:00, 166.91it/s]\n",
      "Training Epoch 89: 100%|██████████| 901/901 [00:05<00:00, 171.81it/s]\n",
      "Training Epoch 90: 100%|██████████| 901/901 [00:06<00:00, 134.08it/s]\n",
      "Training Epoch 91: 100%|██████████| 901/901 [00:06<00:00, 142.10it/s]\n"
     ]
    },
    {
     "name": "stdout",
     "output_type": "stream",
     "text": [
      "Epoch 90 - Train Loss: 0.5445, Train MSE: 0.5445, Train MAE: 0.5690\n",
      "Epoch 90 - Validation Loss: 0.7824, Validation MSE: 0.7824, Validation MAE: 0.6734\n"
     ]
    },
    {
     "name": "stderr",
     "output_type": "stream",
     "text": [
      "Training Epoch 92: 100%|██████████| 901/901 [00:07<00:00, 128.67it/s]\n",
      "Training Epoch 93: 100%|██████████| 901/901 [00:07<00:00, 124.08it/s]\n",
      "Training Epoch 94: 100%|██████████| 901/901 [00:06<00:00, 129.38it/s]\n",
      "Training Epoch 95: 100%|██████████| 901/901 [00:07<00:00, 127.27it/s]\n",
      "Training Epoch 96: 100%|██████████| 901/901 [00:06<00:00, 130.20it/s]\n",
      "Training Epoch 97: 100%|██████████| 901/901 [00:06<00:00, 132.07it/s]\n",
      "Training Epoch 98: 100%|██████████| 901/901 [00:06<00:00, 131.65it/s]\n",
      "Training Epoch 99: 100%|██████████| 901/901 [00:07<00:00, 122.69it/s]\n",
      "Training Epoch 100: 100%|██████████| 901/901 [00:07<00:00, 113.61it/s]\n",
      "Training Epoch 101: 100%|██████████| 901/901 [00:10<00:00, 86.42it/s] \n"
     ]
    },
    {
     "name": "stdout",
     "output_type": "stream",
     "text": [
      "Epoch 100 - Train Loss: 0.5247, Train MSE: 0.5247, Train MAE: 0.5577\n",
      "Epoch 100 - Validation Loss: 0.7827, Validation MSE: 0.7827, Validation MAE: 0.6685\n"
     ]
    },
    {
     "name": "stderr",
     "output_type": "stream",
     "text": [
      "Training Epoch 102: 100%|██████████| 901/901 [00:07<00:00, 124.93it/s]\n",
      "Training Epoch 103: 100%|██████████| 901/901 [00:07<00:00, 112.67it/s]\n",
      "Training Epoch 104: 100%|██████████| 901/901 [00:07<00:00, 126.84it/s]\n",
      "Training Epoch 105: 100%|██████████| 901/901 [00:06<00:00, 138.56it/s]\n",
      "Training Epoch 106: 100%|██████████| 901/901 [00:06<00:00, 133.91it/s]\n",
      "Training Epoch 107: 100%|██████████| 901/901 [00:06<00:00, 133.14it/s]\n",
      "Training Epoch 108: 100%|██████████| 901/901 [00:06<00:00, 133.92it/s]\n",
      "Training Epoch 109: 100%|██████████| 901/901 [00:06<00:00, 135.23it/s]\n",
      "Training Epoch 110: 100%|██████████| 901/901 [00:06<00:00, 133.20it/s]\n",
      "Training Epoch 111: 100%|██████████| 901/901 [00:06<00:00, 134.55it/s]\n"
     ]
    },
    {
     "name": "stdout",
     "output_type": "stream",
     "text": [
      "Epoch 110 - Train Loss: 0.5083, Train MSE: 0.5083, Train MAE: 0.5508\n",
      "Epoch 110 - Validation Loss: 0.7723, Validation MSE: 0.7723, Validation MAE: 0.6657\n"
     ]
    },
    {
     "name": "stderr",
     "output_type": "stream",
     "text": [
      "Training Epoch 112: 100%|██████████| 901/901 [00:06<00:00, 133.86it/s]\n",
      "Training Epoch 113: 100%|██████████| 901/901 [00:06<00:00, 135.19it/s]\n",
      "Training Epoch 114: 100%|██████████| 901/901 [00:06<00:00, 132.49it/s]\n",
      "Training Epoch 115: 100%|██████████| 901/901 [00:06<00:00, 134.13it/s]\n",
      "Training Epoch 116: 100%|██████████| 901/901 [00:06<00:00, 132.63it/s]\n",
      "Training Epoch 117: 100%|██████████| 901/901 [00:06<00:00, 135.05it/s]\n",
      "Training Epoch 118: 100%|██████████| 901/901 [00:06<00:00, 131.62it/s]\n",
      "Training Epoch 119: 100%|██████████| 901/901 [00:06<00:00, 132.69it/s]\n",
      "Training Epoch 120: 100%|██████████| 901/901 [00:06<00:00, 133.49it/s]\n",
      "Training Epoch 121: 100%|██████████| 901/901 [00:06<00:00, 131.40it/s]\n"
     ]
    },
    {
     "name": "stdout",
     "output_type": "stream",
     "text": [
      "Epoch 120 - Train Loss: 0.4856, Train MSE: 0.4857, Train MAE: 0.5368\n",
      "Epoch 120 - Validation Loss: 0.7811, Validation MSE: 0.7811, Validation MAE: 0.6686\n"
     ]
    },
    {
     "name": "stderr",
     "output_type": "stream",
     "text": [
      "Training Epoch 122: 100%|██████████| 901/901 [00:06<00:00, 134.79it/s]\n",
      "Training Epoch 123: 100%|██████████| 901/901 [00:06<00:00, 132.09it/s]\n",
      "Training Epoch 124: 100%|██████████| 901/901 [00:06<00:00, 134.56it/s]\n",
      "Training Epoch 125: 100%|██████████| 901/901 [00:06<00:00, 132.18it/s]\n",
      "Training Epoch 126: 100%|██████████| 901/901 [00:06<00:00, 136.44it/s]\n",
      "Training Epoch 127: 100%|██████████| 901/901 [00:06<00:00, 133.00it/s]\n",
      "Training Epoch 128: 100%|██████████| 901/901 [00:06<00:00, 136.18it/s]\n",
      "Training Epoch 129: 100%|██████████| 901/901 [00:06<00:00, 133.95it/s]\n",
      "Training Epoch 130: 100%|██████████| 901/901 [00:06<00:00, 133.45it/s]\n",
      "Training Epoch 131: 100%|██████████| 901/901 [00:06<00:00, 132.51it/s]\n"
     ]
    },
    {
     "name": "stdout",
     "output_type": "stream",
     "text": [
      "Epoch 130 - Train Loss: 0.4721, Train MSE: 0.4722, Train MAE: 0.5284\n",
      "Epoch 130 - Validation Loss: 0.7727, Validation MSE: 0.7727, Validation MAE: 0.6606\n"
     ]
    },
    {
     "name": "stderr",
     "output_type": "stream",
     "text": [
      "Training Epoch 132: 100%|██████████| 901/901 [00:06<00:00, 132.43it/s]\n",
      "Training Epoch 133: 100%|██████████| 901/901 [00:06<00:00, 135.68it/s]\n",
      "Training Epoch 134: 100%|██████████| 901/901 [00:06<00:00, 134.01it/s]\n",
      "Training Epoch 135: 100%|██████████| 901/901 [00:06<00:00, 132.51it/s]\n",
      "Training Epoch 136: 100%|██████████| 901/901 [00:06<00:00, 133.51it/s]\n",
      "Training Epoch 137: 100%|██████████| 901/901 [00:06<00:00, 132.97it/s]\n",
      "Training Epoch 138: 100%|██████████| 901/901 [00:06<00:00, 132.03it/s]\n",
      "Training Epoch 139: 100%|██████████| 901/901 [00:06<00:00, 133.11it/s]\n",
      "Training Epoch 140: 100%|██████████| 901/901 [00:06<00:00, 131.60it/s]\n",
      "Training Epoch 141: 100%|██████████| 901/901 [00:06<00:00, 129.76it/s]\n"
     ]
    },
    {
     "name": "stdout",
     "output_type": "stream",
     "text": [
      "Epoch 140 - Train Loss: 0.4602, Train MSE: 0.4601, Train MAE: 0.5207\n",
      "Epoch 140 - Validation Loss: 0.7599, Validation MSE: 0.7599, Validation MAE: 0.6613\n"
     ]
    },
    {
     "name": "stderr",
     "output_type": "stream",
     "text": [
      "Training Epoch 142: 100%|██████████| 901/901 [00:07<00:00, 127.14it/s]\n",
      "Training Epoch 143: 100%|██████████| 901/901 [00:06<00:00, 139.69it/s]\n",
      "Training Epoch 144: 100%|██████████| 901/901 [00:06<00:00, 142.36it/s]\n",
      "Training Epoch 145: 100%|██████████| 901/901 [00:06<00:00, 144.16it/s]\n",
      "Training Epoch 146: 100%|██████████| 901/901 [00:06<00:00, 144.26it/s]\n",
      "Training Epoch 147: 100%|██████████| 901/901 [00:06<00:00, 139.27it/s]\n",
      "Training Epoch 148: 100%|██████████| 901/901 [00:06<00:00, 141.56it/s]\n",
      "Training Epoch 149: 100%|██████████| 901/901 [00:06<00:00, 146.54it/s]\n",
      "Training Epoch 150: 100%|██████████| 901/901 [00:05<00:00, 156.79it/s]\n",
      "Training Epoch 151: 100%|██████████| 901/901 [00:05<00:00, 159.63it/s]\n"
     ]
    },
    {
     "name": "stdout",
     "output_type": "stream",
     "text": [
      "Epoch 150 - Train Loss: 0.4421, Train MSE: 0.4422, Train MAE: 0.5110\n",
      "Epoch 150 - Validation Loss: 0.7746, Validation MSE: 0.7746, Validation MAE: 0.6613\n"
     ]
    },
    {
     "name": "stderr",
     "output_type": "stream",
     "text": [
      "Training Epoch 152: 100%|██████████| 901/901 [00:05<00:00, 157.91it/s]\n",
      "Training Epoch 153: 100%|██████████| 901/901 [00:05<00:00, 155.43it/s]\n",
      "Training Epoch 154: 100%|██████████| 901/901 [00:05<00:00, 157.92it/s]\n",
      "Training Epoch 155: 100%|██████████| 901/901 [00:05<00:00, 158.56it/s]\n",
      "Training Epoch 156: 100%|██████████| 901/901 [00:05<00:00, 157.76it/s]\n",
      "Training Epoch 157: 100%|██████████| 901/901 [00:05<00:00, 157.68it/s]\n",
      "Training Epoch 158: 100%|██████████| 901/901 [00:05<00:00, 156.26it/s]\n",
      "Training Epoch 159: 100%|██████████| 901/901 [00:05<00:00, 158.81it/s]\n",
      "Training Epoch 160: 100%|██████████| 901/901 [00:05<00:00, 152.55it/s]\n",
      "Training Epoch 161: 100%|██████████| 901/901 [00:05<00:00, 157.66it/s]\n"
     ]
    },
    {
     "name": "stdout",
     "output_type": "stream",
     "text": [
      "Epoch 160 - Train Loss: 0.4332, Train MSE: 0.4332, Train MAE: 0.5061\n",
      "Epoch 160 - Validation Loss: 0.7696, Validation MSE: 0.7696, Validation MAE: 0.6631\n"
     ]
    },
    {
     "name": "stderr",
     "output_type": "stream",
     "text": [
      "Training Epoch 162: 100%|██████████| 901/901 [00:05<00:00, 159.45it/s]\n",
      "Training Epoch 163: 100%|██████████| 901/901 [00:05<00:00, 154.33it/s]\n",
      "Training Epoch 164: 100%|██████████| 901/901 [00:05<00:00, 156.05it/s]\n",
      "Training Epoch 165: 100%|██████████| 901/901 [00:05<00:00, 154.97it/s]\n",
      "Training Epoch 166: 100%|██████████| 901/901 [00:05<00:00, 160.03it/s]\n",
      "Training Epoch 167: 100%|██████████| 901/901 [00:05<00:00, 155.39it/s]\n",
      "Training Epoch 168: 100%|██████████| 901/901 [00:05<00:00, 155.96it/s]\n",
      "Training Epoch 169: 100%|██████████| 901/901 [00:05<00:00, 155.96it/s]\n",
      "Training Epoch 170: 100%|██████████| 901/901 [00:05<00:00, 156.72it/s]\n",
      "Training Epoch 171: 100%|██████████| 901/901 [00:05<00:00, 160.47it/s]\n"
     ]
    },
    {
     "name": "stdout",
     "output_type": "stream",
     "text": [
      "Epoch 170 - Train Loss: 0.4222, Train MSE: 0.4222, Train MAE: 0.4990\n",
      "Epoch 170 - Validation Loss: 0.7593, Validation MSE: 0.7593, Validation MAE: 0.6573\n"
     ]
    },
    {
     "name": "stderr",
     "output_type": "stream",
     "text": [
      "Training Epoch 172: 100%|██████████| 901/901 [00:05<00:00, 154.70it/s]\n",
      "Training Epoch 173: 100%|██████████| 901/901 [00:05<00:00, 154.97it/s]\n",
      "Training Epoch 174: 100%|██████████| 901/901 [00:05<00:00, 157.26it/s]\n",
      "Training Epoch 175: 100%|██████████| 901/901 [00:05<00:00, 158.23it/s]\n",
      "Training Epoch 176: 100%|██████████| 901/901 [00:05<00:00, 155.50it/s]\n",
      "Training Epoch 177: 100%|██████████| 901/901 [00:05<00:00, 160.03it/s]\n",
      "Training Epoch 178: 100%|██████████| 901/901 [00:05<00:00, 156.91it/s]\n",
      "Training Epoch 179: 100%|██████████| 901/901 [00:05<00:00, 158.08it/s]\n",
      "Training Epoch 180: 100%|██████████| 901/901 [00:05<00:00, 157.07it/s]\n",
      "Training Epoch 181: 100%|██████████| 901/901 [00:05<00:00, 156.60it/s]\n"
     ]
    },
    {
     "name": "stdout",
     "output_type": "stream",
     "text": [
      "Epoch 180 - Train Loss: 0.4122, Train MSE: 0.4122, Train MAE: 0.4928\n",
      "Epoch 180 - Validation Loss: 0.7658, Validation MSE: 0.7658, Validation MAE: 0.6602\n"
     ]
    },
    {
     "name": "stderr",
     "output_type": "stream",
     "text": [
      "Training Epoch 182: 100%|██████████| 901/901 [00:05<00:00, 157.66it/s]\n",
      "Training Epoch 183: 100%|██████████| 901/901 [00:05<00:00, 154.03it/s]\n",
      "Training Epoch 184: 100%|██████████| 901/901 [00:05<00:00, 157.47it/s]\n",
      "Training Epoch 185: 100%|██████████| 901/901 [00:05<00:00, 155.96it/s]\n",
      "Training Epoch 186: 100%|██████████| 901/901 [00:05<00:00, 156.62it/s]\n",
      "Training Epoch 187: 100%|██████████| 901/901 [00:05<00:00, 155.24it/s]\n",
      "Training Epoch 188: 100%|██████████| 901/901 [00:05<00:00, 159.19it/s]\n",
      "Training Epoch 189: 100%|██████████| 901/901 [00:05<00:00, 156.01it/s]\n",
      "Training Epoch 190: 100%|██████████| 901/901 [00:05<00:00, 155.90it/s]\n",
      "Training Epoch 191: 100%|██████████| 901/901 [00:05<00:00, 158.32it/s]\n"
     ]
    },
    {
     "name": "stdout",
     "output_type": "stream",
     "text": [
      "Epoch 190 - Train Loss: 0.3998, Train MSE: 0.3997, Train MAE: 0.4845\n",
      "Epoch 190 - Validation Loss: 0.7642, Validation MSE: 0.7642, Validation MAE: 0.6542\n"
     ]
    },
    {
     "name": "stderr",
     "output_type": "stream",
     "text": [
      "Training Epoch 192: 100%|██████████| 901/901 [00:05<00:00, 156.76it/s]\n",
      "Training Epoch 193: 100%|██████████| 901/901 [00:05<00:00, 161.12it/s]\n",
      "Training Epoch 194: 100%|██████████| 901/901 [00:05<00:00, 155.72it/s]\n",
      "Training Epoch 195: 100%|██████████| 901/901 [00:05<00:00, 154.42it/s]\n",
      "Training Epoch 196: 100%|██████████| 901/901 [00:05<00:00, 153.70it/s]\n",
      "Training Epoch 197: 100%|██████████| 901/901 [00:05<00:00, 157.60it/s]\n",
      "Training Epoch 198: 100%|██████████| 901/901 [00:05<00:00, 159.84it/s]\n",
      "Training Epoch 199: 100%|██████████| 901/901 [00:05<00:00, 155.29it/s]\n",
      "Training Epoch 200: 100%|██████████| 901/901 [00:05<00:00, 158.91it/s]\n",
      "Training Epoch 201: 100%|██████████| 901/901 [00:05<00:00, 156.13it/s]\n"
     ]
    },
    {
     "name": "stdout",
     "output_type": "stream",
     "text": [
      "Epoch 200 - Train Loss: 0.3946, Train MSE: 0.3947, Train MAE: 0.4801\n",
      "Epoch 200 - Validation Loss: 0.7711, Validation MSE: 0.7711, Validation MAE: 0.6610\n"
     ]
    },
    {
     "name": "stderr",
     "output_type": "stream",
     "text": [
      "Training Epoch 202: 100%|██████████| 901/901 [00:05<00:00, 156.25it/s]\n",
      "Training Epoch 203: 100%|██████████| 901/901 [00:05<00:00, 155.50it/s]\n",
      "Training Epoch 204: 100%|██████████| 901/901 [00:05<00:00, 155.69it/s]\n",
      "Training Epoch 205: 100%|██████████| 901/901 [00:05<00:00, 155.59it/s]\n",
      "Training Epoch 206: 100%|██████████| 901/901 [00:05<00:00, 157.16it/s]\n",
      "Training Epoch 207: 100%|██████████| 901/901 [00:05<00:00, 157.11it/s]\n",
      "Training Epoch 208: 100%|██████████| 901/901 [00:05<00:00, 158.39it/s]\n",
      "Training Epoch 209: 100%|██████████| 901/901 [00:05<00:00, 159.04it/s]\n",
      "Training Epoch 210: 100%|██████████| 901/901 [00:05<00:00, 157.42it/s]\n",
      "Training Epoch 211: 100%|██████████| 901/901 [00:05<00:00, 155.50it/s]\n"
     ]
    },
    {
     "name": "stdout",
     "output_type": "stream",
     "text": [
      "Epoch 210 - Train Loss: 0.3878, Train MSE: 0.3878, Train MAE: 0.4771\n",
      "Epoch 210 - Validation Loss: 0.7667, Validation MSE: 0.7667, Validation MAE: 0.6545\n"
     ]
    },
    {
     "name": "stderr",
     "output_type": "stream",
     "text": [
      "Training Epoch 212: 100%|██████████| 901/901 [00:05<00:00, 156.52it/s]\n",
      "Training Epoch 213: 100%|██████████| 901/901 [00:05<00:00, 157.48it/s]\n",
      "Training Epoch 214: 100%|██████████| 901/901 [00:05<00:00, 158.97it/s]\n",
      "Training Epoch 215: 100%|██████████| 901/901 [00:05<00:00, 160.33it/s]\n",
      "Training Epoch 216: 100%|██████████| 901/901 [00:05<00:00, 155.47it/s]\n",
      "Training Epoch 217: 100%|██████████| 901/901 [00:05<00:00, 156.84it/s]\n",
      "Training Epoch 218: 100%|██████████| 901/901 [00:05<00:00, 157.73it/s]\n",
      "Training Epoch 219: 100%|██████████| 901/901 [00:05<00:00, 157.29it/s]\n",
      "Training Epoch 220: 100%|██████████| 901/901 [00:05<00:00, 160.20it/s]\n",
      "Training Epoch 221: 100%|██████████| 901/901 [00:05<00:00, 155.69it/s]\n"
     ]
    },
    {
     "name": "stdout",
     "output_type": "stream",
     "text": [
      "Epoch 220 - Train Loss: 0.3778, Train MSE: 0.3778, Train MAE: 0.4712\n",
      "Epoch 220 - Validation Loss: 0.7651, Validation MSE: 0.7651, Validation MAE: 0.6581\n"
     ]
    },
    {
     "name": "stderr",
     "output_type": "stream",
     "text": [
      "Training Epoch 222: 100%|██████████| 901/901 [00:05<00:00, 156.51it/s]\n",
      "Training Epoch 223: 100%|██████████| 901/901 [00:05<00:00, 159.54it/s]\n",
      "Training Epoch 224: 100%|██████████| 901/901 [00:05<00:00, 158.68it/s]\n",
      "Training Epoch 225: 100%|██████████| 901/901 [00:05<00:00, 159.46it/s]\n",
      "Training Epoch 226: 100%|██████████| 901/901 [00:05<00:00, 158.83it/s]\n",
      "Training Epoch 227: 100%|██████████| 901/901 [00:05<00:00, 156.58it/s]\n",
      "Training Epoch 228: 100%|██████████| 901/901 [00:05<00:00, 159.38it/s]\n",
      "Training Epoch 229: 100%|██████████| 901/901 [00:05<00:00, 159.68it/s]\n",
      "Training Epoch 230: 100%|██████████| 901/901 [00:05<00:00, 155.61it/s]\n",
      "Training Epoch 231: 100%|██████████| 901/901 [00:05<00:00, 159.86it/s]\n"
     ]
    },
    {
     "name": "stdout",
     "output_type": "stream",
     "text": [
      "Epoch 230 - Train Loss: 0.3746, Train MSE: 0.3746, Train MAE: 0.4693\n",
      "Epoch 230 - Validation Loss: 0.7625, Validation MSE: 0.7625, Validation MAE: 0.6537\n"
     ]
    },
    {
     "name": "stderr",
     "output_type": "stream",
     "text": [
      "Training Epoch 232: 100%|██████████| 901/901 [00:05<00:00, 160.21it/s]\n",
      "Training Epoch 233: 100%|██████████| 901/901 [00:05<00:00, 158.06it/s]\n",
      "Training Epoch 234: 100%|██████████| 901/901 [00:05<00:00, 156.77it/s]\n",
      "Training Epoch 235: 100%|██████████| 901/901 [00:05<00:00, 155.36it/s]\n",
      "Training Epoch 236: 100%|██████████| 901/901 [00:05<00:00, 158.74it/s]\n",
      "Training Epoch 237: 100%|██████████| 901/901 [00:05<00:00, 158.19it/s]\n",
      "Training Epoch 238: 100%|██████████| 901/901 [00:05<00:00, 156.78it/s]\n",
      "Training Epoch 239: 100%|██████████| 901/901 [00:05<00:00, 155.25it/s]\n",
      "Training Epoch 240: 100%|██████████| 901/901 [00:05<00:00, 156.67it/s]\n",
      "Training Epoch 241: 100%|██████████| 901/901 [00:05<00:00, 157.10it/s]\n"
     ]
    },
    {
     "name": "stdout",
     "output_type": "stream",
     "text": [
      "Epoch 240 - Train Loss: 0.3642, Train MSE: 0.3642, Train MAE: 0.4628\n",
      "Epoch 240 - Validation Loss: 0.7726, Validation MSE: 0.7726, Validation MAE: 0.6570\n"
     ]
    },
    {
     "name": "stderr",
     "output_type": "stream",
     "text": [
      "Training Epoch 242: 100%|██████████| 901/901 [00:05<00:00, 162.43it/s]\n",
      "Training Epoch 243: 100%|██████████| 901/901 [00:05<00:00, 157.21it/s]\n",
      "Training Epoch 244: 100%|██████████| 901/901 [00:05<00:00, 160.07it/s]\n",
      "Training Epoch 245: 100%|██████████| 901/901 [00:05<00:00, 157.33it/s]\n",
      "Training Epoch 246: 100%|██████████| 901/901 [00:05<00:00, 156.85it/s]\n",
      "Training Epoch 247: 100%|██████████| 901/901 [00:05<00:00, 159.38it/s]\n",
      "Training Epoch 248: 100%|██████████| 901/901 [00:05<00:00, 158.00it/s]\n",
      "Training Epoch 249: 100%|██████████| 901/901 [00:05<00:00, 158.16it/s]\n",
      "Training Epoch 250: 100%|██████████| 901/901 [00:05<00:00, 158.19it/s]\n",
      "Training Epoch 251: 100%|██████████| 901/901 [00:05<00:00, 155.79it/s]\n"
     ]
    },
    {
     "name": "stdout",
     "output_type": "stream",
     "text": [
      "Epoch 250 - Train Loss: 0.3601, Train MSE: 0.3602, Train MAE: 0.4584\n",
      "Epoch 250 - Validation Loss: 0.7679, Validation MSE: 0.7679, Validation MAE: 0.6555\n"
     ]
    },
    {
     "name": "stderr",
     "output_type": "stream",
     "text": [
      "Training Epoch 252: 100%|██████████| 901/901 [00:05<00:00, 159.29it/s]\n",
      "Training Epoch 253: 100%|██████████| 901/901 [00:05<00:00, 159.29it/s]\n",
      "Training Epoch 254: 100%|██████████| 901/901 [00:05<00:00, 159.05it/s]\n",
      "Training Epoch 255: 100%|██████████| 901/901 [00:05<00:00, 155.84it/s]\n",
      "Training Epoch 256: 100%|██████████| 901/901 [00:05<00:00, 157.68it/s]\n",
      "Training Epoch 257: 100%|██████████| 901/901 [00:05<00:00, 159.33it/s]\n",
      "Training Epoch 258: 100%|██████████| 901/901 [00:05<00:00, 160.52it/s]\n",
      "Training Epoch 259: 100%|██████████| 901/901 [00:05<00:00, 156.50it/s]\n",
      "Training Epoch 260: 100%|██████████| 901/901 [00:05<00:00, 159.00it/s]\n",
      "Training Epoch 261: 100%|██████████| 901/901 [00:05<00:00, 157.84it/s]\n"
     ]
    },
    {
     "name": "stdout",
     "output_type": "stream",
     "text": [
      "Epoch 260 - Train Loss: 0.3593, Train MSE: 0.3593, Train MAE: 0.4598\n",
      "Epoch 260 - Validation Loss: 0.7784, Validation MSE: 0.7784, Validation MAE: 0.6589\n"
     ]
    },
    {
     "name": "stderr",
     "output_type": "stream",
     "text": [
      "Training Epoch 262: 100%|██████████| 901/901 [00:05<00:00, 159.18it/s]\n",
      "Training Epoch 263: 100%|██████████| 901/901 [00:05<00:00, 159.36it/s]\n",
      "Training Epoch 264: 100%|██████████| 901/901 [00:05<00:00, 158.84it/s]\n",
      "Training Epoch 265: 100%|██████████| 901/901 [00:05<00:00, 155.62it/s]\n",
      "Training Epoch 266: 100%|██████████| 901/901 [00:05<00:00, 159.55it/s]\n",
      "Training Epoch 267: 100%|██████████| 901/901 [00:05<00:00, 159.31it/s]\n",
      "Training Epoch 268: 100%|██████████| 901/901 [00:05<00:00, 159.46it/s]\n",
      "Training Epoch 269: 100%|██████████| 901/901 [00:05<00:00, 158.50it/s]\n",
      "Training Epoch 270: 100%|██████████| 901/901 [00:05<00:00, 158.25it/s]\n",
      "Training Epoch 271: 100%|██████████| 901/901 [00:05<00:00, 159.27it/s]\n"
     ]
    },
    {
     "name": "stdout",
     "output_type": "stream",
     "text": [
      "Epoch 270 - Train Loss: 0.3519, Train MSE: 0.3519, Train MAE: 0.4538\n",
      "Epoch 270 - Validation Loss: 0.7622, Validation MSE: 0.7622, Validation MAE: 0.6549\n"
     ]
    },
    {
     "name": "stderr",
     "output_type": "stream",
     "text": [
      "Training Epoch 272: 100%|██████████| 901/901 [00:05<00:00, 156.70it/s]\n",
      "Training Epoch 273: 100%|██████████| 901/901 [00:05<00:00, 157.24it/s]\n",
      "Training Epoch 274: 100%|██████████| 901/901 [00:05<00:00, 158.39it/s]\n",
      "Training Epoch 275: 100%|██████████| 901/901 [00:05<00:00, 161.66it/s]\n",
      "Training Epoch 276: 100%|██████████| 901/901 [00:05<00:00, 161.87it/s]\n",
      "Training Epoch 277: 100%|██████████| 901/901 [00:05<00:00, 157.65it/s]\n",
      "Training Epoch 278: 100%|██████████| 901/901 [00:05<00:00, 157.36it/s]\n",
      "Training Epoch 279: 100%|██████████| 901/901 [00:05<00:00, 155.92it/s]\n",
      "Training Epoch 280: 100%|██████████| 901/901 [00:05<00:00, 156.58it/s]\n",
      "Training Epoch 281: 100%|██████████| 901/901 [00:05<00:00, 157.36it/s]\n"
     ]
    },
    {
     "name": "stdout",
     "output_type": "stream",
     "text": [
      "Epoch 280 - Train Loss: 0.3436, Train MSE: 0.3436, Train MAE: 0.4514\n",
      "Epoch 280 - Validation Loss: 0.7643, Validation MSE: 0.7643, Validation MAE: 0.6527\n"
     ]
    },
    {
     "name": "stderr",
     "output_type": "stream",
     "text": [
      "Training Epoch 282: 100%|██████████| 901/901 [00:05<00:00, 158.80it/s]\n",
      "Training Epoch 283: 100%|██████████| 901/901 [00:05<00:00, 158.08it/s]\n",
      "Training Epoch 284: 100%|██████████| 901/901 [00:05<00:00, 158.90it/s]\n",
      "Training Epoch 285: 100%|██████████| 901/901 [00:05<00:00, 157.14it/s]\n",
      "Training Epoch 286: 100%|██████████| 901/901 [00:05<00:00, 157.36it/s]\n",
      "Training Epoch 287: 100%|██████████| 901/901 [00:05<00:00, 159.85it/s]\n",
      "Training Epoch 288: 100%|██████████| 901/901 [00:05<00:00, 159.81it/s]\n",
      "Training Epoch 289: 100%|██████████| 901/901 [00:05<00:00, 158.66it/s]\n",
      "Training Epoch 290: 100%|██████████| 901/901 [00:05<00:00, 157.01it/s]\n",
      "Training Epoch 291: 100%|██████████| 901/901 [00:05<00:00, 159.60it/s]\n"
     ]
    },
    {
     "name": "stdout",
     "output_type": "stream",
     "text": [
      "Epoch 290 - Train Loss: 0.3418, Train MSE: 0.3418, Train MAE: 0.4483\n",
      "Epoch 290 - Validation Loss: 0.7696, Validation MSE: 0.7696, Validation MAE: 0.6545\n"
     ]
    },
    {
     "name": "stderr",
     "output_type": "stream",
     "text": [
      "Training Epoch 292: 100%|██████████| 901/901 [00:05<00:00, 157.63it/s]\n",
      "Training Epoch 293: 100%|██████████| 901/901 [00:05<00:00, 157.87it/s]\n",
      "Training Epoch 294: 100%|██████████| 901/901 [00:05<00:00, 159.20it/s]\n",
      "Training Epoch 295: 100%|██████████| 901/901 [00:05<00:00, 156.72it/s]\n",
      "Training Epoch 296: 100%|██████████| 901/901 [00:05<00:00, 157.67it/s]\n",
      "Training Epoch 297: 100%|██████████| 901/901 [00:05<00:00, 159.56it/s]\n",
      "Training Epoch 298: 100%|██████████| 901/901 [00:05<00:00, 156.92it/s]\n",
      "Training Epoch 299: 100%|██████████| 901/901 [00:05<00:00, 156.67it/s]\n",
      "Training Epoch 300: 100%|██████████| 901/901 [00:05<00:00, 156.17it/s]\n",
      "Training Epoch 301: 100%|██████████| 901/901 [00:05<00:00, 156.56it/s]\n"
     ]
    },
    {
     "name": "stdout",
     "output_type": "stream",
     "text": [
      "Epoch 300 - Train Loss: 0.3352, Train MSE: 0.3352, Train MAE: 0.4433\n",
      "Epoch 300 - Validation Loss: 0.7609, Validation MSE: 0.7609, Validation MAE: 0.6511\n"
     ]
    },
    {
     "name": "stderr",
     "output_type": "stream",
     "text": [
      "Training Epoch 302: 100%|██████████| 901/901 [00:05<00:00, 159.50it/s]\n",
      "Training Epoch 303: 100%|██████████| 901/901 [00:05<00:00, 156.57it/s]\n",
      "Training Epoch 304: 100%|██████████| 901/901 [00:05<00:00, 158.02it/s]\n",
      "Training Epoch 305: 100%|██████████| 901/901 [00:05<00:00, 156.25it/s]\n",
      "Training Epoch 306: 100%|██████████| 901/901 [00:05<00:00, 157.72it/s]\n",
      "Training Epoch 307: 100%|██████████| 901/901 [00:05<00:00, 157.38it/s]\n",
      "Training Epoch 308: 100%|██████████| 901/901 [00:05<00:00, 157.33it/s]\n",
      "Training Epoch 309: 100%|██████████| 901/901 [00:05<00:00, 157.17it/s]\n",
      "Training Epoch 310: 100%|██████████| 901/901 [00:05<00:00, 155.58it/s]\n",
      "Training Epoch 311: 100%|██████████| 901/901 [00:05<00:00, 155.46it/s]\n"
     ]
    },
    {
     "name": "stdout",
     "output_type": "stream",
     "text": [
      "Epoch 310 - Train Loss: 0.3320, Train MSE: 0.3321, Train MAE: 0.4398\n",
      "Epoch 310 - Validation Loss: 0.7724, Validation MSE: 0.7724, Validation MAE: 0.6574\n"
     ]
    },
    {
     "name": "stderr",
     "output_type": "stream",
     "text": [
      "Training Epoch 312: 100%|██████████| 901/901 [00:05<00:00, 153.65it/s]\n",
      "Training Epoch 313: 100%|██████████| 901/901 [00:05<00:00, 166.23it/s]\n",
      "Training Epoch 314: 100%|██████████| 901/901 [00:05<00:00, 161.47it/s]\n",
      "Training Epoch 315: 100%|██████████| 901/901 [00:05<00:00, 161.04it/s]\n",
      "Training Epoch 316: 100%|██████████| 901/901 [00:05<00:00, 158.81it/s]\n",
      "Training Epoch 317: 100%|██████████| 901/901 [00:05<00:00, 161.47it/s]\n",
      "Training Epoch 318: 100%|██████████| 901/901 [00:05<00:00, 160.42it/s]\n",
      "Training Epoch 319: 100%|██████████| 901/901 [00:05<00:00, 156.43it/s]\n",
      "Training Epoch 320: 100%|██████████| 901/901 [00:05<00:00, 163.99it/s]\n",
      "Training Epoch 321: 100%|██████████| 901/901 [00:05<00:00, 155.51it/s]\n"
     ]
    },
    {
     "name": "stdout",
     "output_type": "stream",
     "text": [
      "Epoch 320 - Train Loss: 0.3270, Train MSE: 0.3270, Train MAE: 0.4372\n",
      "Epoch 320 - Validation Loss: 0.7715, Validation MSE: 0.7715, Validation MAE: 0.6567\n"
     ]
    },
    {
     "name": "stderr",
     "output_type": "stream",
     "text": [
      "Training Epoch 322: 100%|██████████| 901/901 [00:05<00:00, 161.09it/s]\n",
      "Training Epoch 323: 100%|██████████| 901/901 [00:05<00:00, 158.81it/s]\n",
      "Training Epoch 324: 100%|██████████| 901/901 [00:05<00:00, 163.90it/s]\n",
      "Training Epoch 325: 100%|██████████| 901/901 [00:05<00:00, 161.51it/s]\n",
      "Training Epoch 326: 100%|██████████| 901/901 [00:05<00:00, 159.66it/s]\n",
      "Training Epoch 327: 100%|██████████| 901/901 [00:05<00:00, 162.61it/s]\n",
      "Training Epoch 328: 100%|██████████| 901/901 [00:05<00:00, 161.70it/s]\n",
      "Training Epoch 329: 100%|██████████| 901/901 [00:05<00:00, 161.78it/s]\n",
      "Training Epoch 330: 100%|██████████| 901/901 [00:05<00:00, 159.18it/s]\n",
      "Training Epoch 331: 100%|██████████| 901/901 [00:05<00:00, 162.06it/s]\n"
     ]
    },
    {
     "name": "stdout",
     "output_type": "stream",
     "text": [
      "Epoch 330 - Train Loss: 0.3246, Train MSE: 0.3244, Train MAE: 0.4359\n",
      "Epoch 330 - Validation Loss: 0.7641, Validation MSE: 0.7641, Validation MAE: 0.6504\n"
     ]
    },
    {
     "name": "stderr",
     "output_type": "stream",
     "text": [
      "Training Epoch 332: 100%|██████████| 901/901 [00:05<00:00, 162.08it/s]\n",
      "Training Epoch 333: 100%|██████████| 901/901 [00:05<00:00, 162.12it/s]\n",
      "Training Epoch 334: 100%|██████████| 901/901 [00:05<00:00, 160.02it/s]\n",
      "Training Epoch 335: 100%|██████████| 901/901 [00:05<00:00, 162.21it/s]\n",
      "Training Epoch 336: 100%|██████████| 901/901 [00:05<00:00, 160.59it/s]\n",
      "Training Epoch 337: 100%|██████████| 901/901 [00:05<00:00, 160.52it/s]\n",
      "Training Epoch 338: 100%|██████████| 901/901 [00:05<00:00, 158.67it/s]\n",
      "Training Epoch 339: 100%|██████████| 901/901 [00:05<00:00, 160.52it/s]\n",
      "Training Epoch 340: 100%|██████████| 901/901 [00:05<00:00, 163.03it/s]\n",
      "Training Epoch 341: 100%|██████████| 901/901 [00:05<00:00, 158.64it/s]\n"
     ]
    },
    {
     "name": "stdout",
     "output_type": "stream",
     "text": [
      "Epoch 340 - Train Loss: 0.3226, Train MSE: 0.3226, Train MAE: 0.4342\n",
      "Epoch 340 - Validation Loss: 0.7680, Validation MSE: 0.7680, Validation MAE: 0.6560\n"
     ]
    },
    {
     "name": "stderr",
     "output_type": "stream",
     "text": [
      "Training Epoch 342: 100%|██████████| 901/901 [00:05<00:00, 160.98it/s]\n",
      "Training Epoch 343: 100%|██████████| 901/901 [00:05<00:00, 160.34it/s]\n",
      "Training Epoch 344: 100%|██████████| 901/901 [00:05<00:00, 160.58it/s]\n",
      "Training Epoch 345: 100%|██████████| 901/901 [00:05<00:00, 159.11it/s]\n",
      "Training Epoch 346: 100%|██████████| 901/901 [00:05<00:00, 162.02it/s]\n",
      "Training Epoch 347: 100%|██████████| 901/901 [00:05<00:00, 162.02it/s]\n",
      "Training Epoch 348: 100%|██████████| 901/901 [00:05<00:00, 160.02it/s]\n",
      "Training Epoch 349: 100%|██████████| 901/901 [00:05<00:00, 160.38it/s]\n",
      "Training Epoch 350: 100%|██████████| 901/901 [00:05<00:00, 161.65it/s]\n",
      "Training Epoch 351: 100%|██████████| 901/901 [00:05<00:00, 163.05it/s]\n"
     ]
    },
    {
     "name": "stdout",
     "output_type": "stream",
     "text": [
      "Epoch 350 - Train Loss: 0.3172, Train MSE: 0.3172, Train MAE: 0.4304\n",
      "Epoch 350 - Validation Loss: 0.7627, Validation MSE: 0.7627, Validation MAE: 0.6520\n"
     ]
    },
    {
     "name": "stderr",
     "output_type": "stream",
     "text": [
      "Training Epoch 352: 100%|██████████| 901/901 [00:05<00:00, 161.35it/s]\n",
      "Training Epoch 353: 100%|██████████| 901/901 [00:05<00:00, 159.74it/s]\n",
      "Training Epoch 354: 100%|██████████| 901/901 [00:05<00:00, 160.27it/s]\n",
      "Training Epoch 355: 100%|██████████| 901/901 [00:05<00:00, 161.20it/s]\n",
      "Training Epoch 356: 100%|██████████| 901/901 [00:05<00:00, 160.11it/s]\n",
      "Training Epoch 357: 100%|██████████| 901/901 [00:05<00:00, 163.29it/s]\n",
      "Training Epoch 358: 100%|██████████| 901/901 [00:05<00:00, 160.25it/s]\n",
      "Training Epoch 359: 100%|██████████| 901/901 [00:05<00:00, 161.24it/s]\n",
      "Training Epoch 360: 100%|██████████| 901/901 [00:05<00:00, 163.05it/s]\n",
      "Training Epoch 361: 100%|██████████| 901/901 [00:05<00:00, 159.62it/s]\n"
     ]
    },
    {
     "name": "stdout",
     "output_type": "stream",
     "text": [
      "Epoch 360 - Train Loss: 0.3202, Train MSE: 0.3202, Train MAE: 0.4317\n",
      "Epoch 360 - Validation Loss: 0.7695, Validation MSE: 0.7695, Validation MAE: 0.6523\n"
     ]
    },
    {
     "name": "stderr",
     "output_type": "stream",
     "text": [
      "Training Epoch 362: 100%|██████████| 901/901 [00:05<00:00, 163.65it/s]\n",
      "Training Epoch 363: 100%|██████████| 901/901 [00:05<00:00, 161.08it/s]\n",
      "Training Epoch 364: 100%|██████████| 901/901 [00:05<00:00, 159.77it/s]\n",
      "Training Epoch 365: 100%|██████████| 901/901 [00:05<00:00, 160.86it/s]\n",
      "Training Epoch 366: 100%|██████████| 901/901 [00:05<00:00, 160.52it/s]\n",
      "Training Epoch 367: 100%|██████████| 901/901 [00:05<00:00, 161.89it/s]\n",
      "Training Epoch 368: 100%|██████████| 901/901 [00:05<00:00, 164.10it/s]\n",
      "Training Epoch 369: 100%|██████████| 901/901 [00:05<00:00, 159.37it/s]\n",
      "Training Epoch 370: 100%|██████████| 901/901 [00:05<00:00, 160.15it/s]\n",
      "Training Epoch 371: 100%|██████████| 901/901 [00:05<00:00, 161.76it/s]\n"
     ]
    },
    {
     "name": "stdout",
     "output_type": "stream",
     "text": [
      "Epoch 370 - Train Loss: 0.3093, Train MSE: 0.3093, Train MAE: 0.4233\n",
      "Epoch 370 - Validation Loss: 0.7710, Validation MSE: 0.7710, Validation MAE: 0.6553\n"
     ]
    },
    {
     "name": "stderr",
     "output_type": "stream",
     "text": [
      "Training Epoch 372: 100%|██████████| 901/901 [00:05<00:00, 158.80it/s]\n",
      "Training Epoch 373: 100%|██████████| 901/901 [00:05<00:00, 162.17it/s]\n",
      "Training Epoch 374: 100%|██████████| 901/901 [00:05<00:00, 158.77it/s]\n",
      "Training Epoch 375: 100%|██████████| 901/901 [00:05<00:00, 162.72it/s]\n",
      "Training Epoch 376: 100%|██████████| 901/901 [00:05<00:00, 163.31it/s]\n",
      "Training Epoch 377: 100%|██████████| 901/901 [00:05<00:00, 163.79it/s]\n",
      "Training Epoch 378: 100%|██████████| 901/901 [00:05<00:00, 168.69it/s]\n",
      "Training Epoch 379: 100%|██████████| 901/901 [00:05<00:00, 164.48it/s]\n",
      "Training Epoch 380: 100%|██████████| 901/901 [00:05<00:00, 163.41it/s]\n",
      "Training Epoch 381: 100%|██████████| 901/901 [00:05<00:00, 164.83it/s]\n"
     ]
    },
    {
     "name": "stdout",
     "output_type": "stream",
     "text": [
      "Epoch 380 - Train Loss: 0.3058, Train MSE: 0.3058, Train MAE: 0.4227\n",
      "Epoch 380 - Validation Loss: 0.7683, Validation MSE: 0.7683, Validation MAE: 0.6502\n"
     ]
    },
    {
     "name": "stderr",
     "output_type": "stream",
     "text": [
      "Training Epoch 382: 100%|██████████| 901/901 [00:05<00:00, 161.62it/s]\n",
      "Training Epoch 383: 100%|██████████| 901/901 [00:05<00:00, 164.80it/s]\n",
      "Training Epoch 384: 100%|██████████| 901/901 [00:05<00:00, 166.20it/s]\n",
      "Training Epoch 385: 100%|██████████| 901/901 [00:05<00:00, 163.39it/s]\n",
      "Training Epoch 386: 100%|██████████| 901/901 [00:05<00:00, 164.91it/s]\n",
      "Training Epoch 387: 100%|██████████| 901/901 [00:05<00:00, 165.02it/s]\n",
      "Training Epoch 388: 100%|██████████| 901/901 [00:05<00:00, 163.89it/s]\n",
      "Training Epoch 389: 100%|██████████| 901/901 [00:05<00:00, 162.29it/s]\n",
      "Training Epoch 390: 100%|██████████| 901/901 [00:05<00:00, 164.99it/s]\n",
      "Training Epoch 391: 100%|██████████| 901/901 [00:05<00:00, 164.31it/s]\n"
     ]
    },
    {
     "name": "stdout",
     "output_type": "stream",
     "text": [
      "Epoch 390 - Train Loss: 0.3059, Train MSE: 0.3056, Train MAE: 0.4236\n",
      "Epoch 390 - Validation Loss: 0.7666, Validation MSE: 0.7666, Validation MAE: 0.6509\n"
     ]
    },
    {
     "name": "stderr",
     "output_type": "stream",
     "text": [
      "Training Epoch 392: 100%|██████████| 901/901 [00:05<00:00, 163.38it/s]\n",
      "Training Epoch 393: 100%|██████████| 901/901 [00:05<00:00, 162.04it/s]\n",
      "Training Epoch 394: 100%|██████████| 901/901 [00:05<00:00, 164.57it/s]\n",
      "Training Epoch 395: 100%|██████████| 901/901 [00:05<00:00, 167.11it/s]\n",
      "Training Epoch 396: 100%|██████████| 901/901 [00:05<00:00, 165.37it/s]\n",
      "Training Epoch 397: 100%|██████████| 901/901 [00:05<00:00, 161.65it/s]\n",
      "Training Epoch 398: 100%|██████████| 901/901 [00:05<00:00, 164.31it/s]\n",
      "Training Epoch 399: 100%|██████████| 901/901 [00:05<00:00, 163.24it/s]\n",
      "Training Epoch 400: 100%|██████████| 901/901 [00:05<00:00, 163.28it/s]\n",
      "Training Epoch 401: 100%|██████████| 901/901 [00:05<00:00, 167.06it/s]\n"
     ]
    },
    {
     "name": "stdout",
     "output_type": "stream",
     "text": [
      "Epoch 400 - Train Loss: 0.3006, Train MSE: 0.3005, Train MAE: 0.4198\n",
      "Epoch 400 - Validation Loss: 0.7561, Validation MSE: 0.7561, Validation MAE: 0.6478\n"
     ]
    },
    {
     "name": "stderr",
     "output_type": "stream",
     "text": [
      "Training Epoch 402: 100%|██████████| 901/901 [00:05<00:00, 163.17it/s]\n",
      "Training Epoch 403: 100%|██████████| 901/901 [00:05<00:00, 164.32it/s]\n",
      "Training Epoch 404: 100%|██████████| 901/901 [00:05<00:00, 162.80it/s]\n",
      "Training Epoch 405: 100%|██████████| 901/901 [00:05<00:00, 163.74it/s]\n",
      "Training Epoch 406: 100%|██████████| 901/901 [00:05<00:00, 167.91it/s]\n",
      "Training Epoch 407: 100%|██████████| 901/901 [00:05<00:00, 163.07it/s]\n",
      "Training Epoch 408: 100%|██████████| 901/901 [00:05<00:00, 164.59it/s]\n",
      "Training Epoch 409: 100%|██████████| 901/901 [00:05<00:00, 160.50it/s]\n",
      "Training Epoch 410: 100%|██████████| 901/901 [00:05<00:00, 163.22it/s]\n",
      "Training Epoch 411: 100%|██████████| 901/901 [00:05<00:00, 163.43it/s]\n"
     ]
    },
    {
     "name": "stdout",
     "output_type": "stream",
     "text": [
      "Epoch 410 - Train Loss: 0.2998, Train MSE: 0.2997, Train MAE: 0.4194\n",
      "Epoch 410 - Validation Loss: 0.7636, Validation MSE: 0.7636, Validation MAE: 0.6511\n"
     ]
    },
    {
     "name": "stderr",
     "output_type": "stream",
     "text": [
      "Training Epoch 412: 100%|██████████| 901/901 [00:05<00:00, 166.40it/s]\n",
      "Training Epoch 413: 100%|██████████| 901/901 [00:05<00:00, 163.93it/s]\n",
      "Training Epoch 414: 100%|██████████| 901/901 [00:05<00:00, 163.74it/s]\n",
      "Training Epoch 415: 100%|██████████| 901/901 [00:05<00:00, 162.17it/s]\n",
      "Training Epoch 416: 100%|██████████| 901/901 [00:05<00:00, 165.08it/s]\n",
      "Training Epoch 417: 100%|██████████| 901/901 [00:05<00:00, 163.23it/s]\n",
      "Training Epoch 418: 100%|██████████| 901/901 [00:05<00:00, 165.24it/s]\n",
      "Training Epoch 419: 100%|██████████| 901/901 [00:05<00:00, 163.34it/s]\n",
      "Training Epoch 420: 100%|██████████| 901/901 [00:05<00:00, 161.73it/s]\n",
      "Training Epoch 421: 100%|██████████| 901/901 [00:05<00:00, 165.03it/s]\n"
     ]
    },
    {
     "name": "stdout",
     "output_type": "stream",
     "text": [
      "Epoch 420 - Train Loss: 0.2988, Train MSE: 0.2988, Train MAE: 0.4167\n",
      "Epoch 420 - Validation Loss: 0.7617, Validation MSE: 0.7617, Validation MAE: 0.6503\n"
     ]
    },
    {
     "name": "stderr",
     "output_type": "stream",
     "text": [
      "Training Epoch 422: 100%|██████████| 901/901 [00:05<00:00, 162.52it/s]\n",
      "Training Epoch 423: 100%|██████████| 901/901 [00:05<00:00, 167.07it/s]\n",
      "Training Epoch 424: 100%|██████████| 901/901 [00:05<00:00, 161.24it/s]\n",
      "Training Epoch 425: 100%|██████████| 901/901 [00:05<00:00, 164.77it/s]\n",
      "Training Epoch 426: 100%|██████████| 901/901 [00:05<00:00, 161.42it/s]\n",
      "Training Epoch 427: 100%|██████████| 901/901 [00:05<00:00, 163.98it/s]\n",
      "Training Epoch 428: 100%|██████████| 901/901 [00:05<00:00, 164.25it/s]\n",
      "Training Epoch 429: 100%|██████████| 901/901 [00:05<00:00, 166.33it/s]\n",
      "Training Epoch 430: 100%|██████████| 901/901 [00:05<00:00, 163.45it/s]\n",
      "Training Epoch 431: 100%|██████████| 901/901 [00:05<00:00, 161.46it/s]\n"
     ]
    },
    {
     "name": "stdout",
     "output_type": "stream",
     "text": [
      "Epoch 430 - Train Loss: 0.2979, Train MSE: 0.2979, Train MAE: 0.4157\n",
      "Epoch 430 - Validation Loss: 0.7664, Validation MSE: 0.7664, Validation MAE: 0.6495\n"
     ]
    },
    {
     "name": "stderr",
     "output_type": "stream",
     "text": [
      "Training Epoch 432: 100%|██████████| 901/901 [00:05<00:00, 163.61it/s]\n",
      "Training Epoch 433: 100%|██████████| 901/901 [00:05<00:00, 162.29it/s]\n",
      "Training Epoch 434: 100%|██████████| 901/901 [00:05<00:00, 165.94it/s]\n",
      "Training Epoch 435: 100%|██████████| 901/901 [00:05<00:00, 161.50it/s]\n",
      "Training Epoch 436: 100%|██████████| 901/901 [00:05<00:00, 162.38it/s]\n",
      "Training Epoch 437: 100%|██████████| 901/901 [00:05<00:00, 163.00it/s]\n",
      "Training Epoch 438: 100%|██████████| 901/901 [00:05<00:00, 164.68it/s]\n",
      "Training Epoch 439: 100%|██████████| 901/901 [00:05<00:00, 162.85it/s]\n",
      "Training Epoch 440: 100%|██████████| 901/901 [00:05<00:00, 167.25it/s]\n",
      "Training Epoch 441: 100%|██████████| 901/901 [00:05<00:00, 163.16it/s]\n"
     ]
    },
    {
     "name": "stdout",
     "output_type": "stream",
     "text": [
      "Epoch 440 - Train Loss: 0.2952, Train MSE: 0.2952, Train MAE: 0.4159\n",
      "Epoch 440 - Validation Loss: 0.7704, Validation MSE: 0.7704, Validation MAE: 0.6555\n"
     ]
    },
    {
     "name": "stderr",
     "output_type": "stream",
     "text": [
      "Training Epoch 442: 100%|██████████| 901/901 [00:05<00:00, 163.24it/s]\n",
      "Training Epoch 443: 100%|██████████| 901/901 [00:05<00:00, 164.45it/s]\n",
      "Training Epoch 444: 100%|██████████| 901/901 [00:05<00:00, 163.96it/s]\n",
      "Training Epoch 445: 100%|██████████| 901/901 [00:05<00:00, 166.36it/s]\n",
      "Training Epoch 446: 100%|██████████| 901/901 [00:05<00:00, 162.64it/s]\n",
      "Training Epoch 447: 100%|██████████| 901/901 [00:05<00:00, 162.27it/s]\n",
      "Training Epoch 448: 100%|██████████| 901/901 [00:05<00:00, 163.02it/s]\n",
      "Training Epoch 449: 100%|██████████| 901/901 [00:05<00:00, 162.31it/s]\n",
      "Training Epoch 450: 100%|██████████| 901/901 [00:05<00:00, 165.45it/s]\n",
      "Training Epoch 451: 100%|██████████| 901/901 [00:05<00:00, 167.39it/s]\n"
     ]
    },
    {
     "name": "stdout",
     "output_type": "stream",
     "text": [
      "Epoch 450 - Train Loss: 0.2879, Train MSE: 0.2878, Train MAE: 0.4096\n",
      "Epoch 450 - Validation Loss: 0.7622, Validation MSE: 0.7622, Validation MAE: 0.6514\n"
     ]
    },
    {
     "name": "stderr",
     "output_type": "stream",
     "text": [
      "Training Epoch 452: 100%|██████████| 901/901 [00:05<00:00, 164.90it/s]\n",
      "Training Epoch 453: 100%|██████████| 901/901 [00:05<00:00, 162.68it/s]\n",
      "Training Epoch 454: 100%|██████████| 901/901 [00:05<00:00, 165.27it/s]\n",
      "Training Epoch 455: 100%|██████████| 901/901 [00:05<00:00, 163.08it/s]\n",
      "Training Epoch 456: 100%|██████████| 901/901 [00:05<00:00, 165.22it/s]\n",
      "Training Epoch 457: 100%|██████████| 901/901 [00:05<00:00, 165.28it/s]\n",
      "Training Epoch 458: 100%|██████████| 901/901 [00:05<00:00, 162.69it/s]\n",
      "Training Epoch 459: 100%|██████████| 901/901 [00:05<00:00, 164.22it/s]\n",
      "Training Epoch 460: 100%|██████████| 901/901 [00:05<00:00, 163.28it/s]\n",
      "Training Epoch 461: 100%|██████████| 901/901 [00:05<00:00, 162.42it/s]\n"
     ]
    },
    {
     "name": "stdout",
     "output_type": "stream",
     "text": [
      "Epoch 460 - Train Loss: 0.2865, Train MSE: 0.2865, Train MAE: 0.4087\n",
      "Epoch 460 - Validation Loss: 0.7645, Validation MSE: 0.7645, Validation MAE: 0.6489\n"
     ]
    },
    {
     "name": "stderr",
     "output_type": "stream",
     "text": [
      "Training Epoch 462: 100%|██████████| 901/901 [00:05<00:00, 163.84it/s]\n",
      "Training Epoch 463: 100%|██████████| 901/901 [00:05<00:00, 163.29it/s]\n",
      "Training Epoch 464: 100%|██████████| 901/901 [00:05<00:00, 161.58it/s]\n",
      "Training Epoch 465: 100%|██████████| 901/901 [00:05<00:00, 163.75it/s]\n",
      "Training Epoch 466: 100%|██████████| 901/901 [00:05<00:00, 162.83it/s]\n",
      "Training Epoch 467: 100%|██████████| 901/901 [00:05<00:00, 166.20it/s]\n",
      "Training Epoch 468: 100%|██████████| 901/901 [00:05<00:00, 166.71it/s]\n",
      "Training Epoch 469: 100%|██████████| 901/901 [00:05<00:00, 163.98it/s]\n",
      "Training Epoch 470: 100%|██████████| 901/901 [00:05<00:00, 162.91it/s]\n",
      "Training Epoch 471: 100%|██████████| 901/901 [00:05<00:00, 163.99it/s]\n"
     ]
    },
    {
     "name": "stdout",
     "output_type": "stream",
     "text": [
      "Epoch 470 - Train Loss: 0.2885, Train MSE: 0.2885, Train MAE: 0.4091\n",
      "Epoch 470 - Validation Loss: 0.7691, Validation MSE: 0.7691, Validation MAE: 0.6499\n"
     ]
    },
    {
     "name": "stderr",
     "output_type": "stream",
     "text": [
      "Training Epoch 472: 100%|██████████| 901/901 [00:05<00:00, 163.42it/s]\n",
      "Training Epoch 473: 100%|██████████| 901/901 [00:05<00:00, 167.20it/s]\n",
      "Training Epoch 474: 100%|██████████| 901/901 [00:05<00:00, 163.16it/s]\n",
      "Training Epoch 475: 100%|██████████| 901/901 [00:05<00:00, 164.00it/s]\n",
      "Training Epoch 476: 100%|██████████| 901/901 [00:05<00:00, 163.57it/s]\n",
      "Training Epoch 477: 100%|██████████| 901/901 [00:05<00:00, 164.06it/s]\n",
      "Training Epoch 478: 100%|██████████| 901/901 [00:05<00:00, 165.41it/s]\n",
      "Training Epoch 479: 100%|██████████| 901/901 [00:05<00:00, 166.98it/s]\n",
      "Training Epoch 480: 100%|██████████| 901/901 [00:05<00:00, 164.34it/s]\n",
      "Training Epoch 481: 100%|██████████| 901/901 [00:05<00:00, 164.11it/s]\n"
     ]
    },
    {
     "name": "stdout",
     "output_type": "stream",
     "text": [
      "Epoch 480 - Train Loss: 0.2844, Train MSE: 0.2844, Train MAE: 0.4074\n",
      "Epoch 480 - Validation Loss: 0.7473, Validation MSE: 0.7473, Validation MAE: 0.6435\n"
     ]
    },
    {
     "name": "stderr",
     "output_type": "stream",
     "text": [
      "Training Epoch 482: 100%|██████████| 901/901 [00:05<00:00, 168.03it/s]\n",
      "Training Epoch 483: 100%|██████████| 901/901 [00:05<00:00, 163.58it/s]\n",
      "Training Epoch 484: 100%|██████████| 901/901 [00:05<00:00, 168.69it/s]\n",
      "Training Epoch 485: 100%|██████████| 901/901 [00:05<00:00, 163.98it/s]\n",
      "Training Epoch 486: 100%|██████████| 901/901 [00:05<00:00, 165.14it/s]\n",
      "Training Epoch 487: 100%|██████████| 901/901 [00:05<00:00, 163.55it/s]\n",
      "Training Epoch 488: 100%|██████████| 901/901 [00:05<00:00, 163.39it/s]\n",
      "Training Epoch 489: 100%|██████████| 901/901 [00:05<00:00, 160.68it/s]\n",
      "Training Epoch 490: 100%|██████████| 901/901 [00:05<00:00, 164.65it/s]\n",
      "Training Epoch 491: 100%|██████████| 901/901 [00:05<00:00, 164.85it/s]\n"
     ]
    },
    {
     "name": "stdout",
     "output_type": "stream",
     "text": [
      "Epoch 490 - Train Loss: 0.2835, Train MSE: 0.2835, Train MAE: 0.4060\n",
      "Epoch 490 - Validation Loss: 0.7675, Validation MSE: 0.7675, Validation MAE: 0.6492\n"
     ]
    },
    {
     "name": "stderr",
     "output_type": "stream",
     "text": [
      "Training Epoch 492: 100%|██████████| 901/901 [00:05<00:00, 166.59it/s]\n",
      "Training Epoch 493: 100%|██████████| 901/901 [00:05<00:00, 160.72it/s]\n",
      "Training Epoch 494: 100%|██████████| 901/901 [00:05<00:00, 164.89it/s]\n",
      "Training Epoch 495: 100%|██████████| 901/901 [00:05<00:00, 166.93it/s]\n",
      "Training Epoch 496: 100%|██████████| 901/901 [00:05<00:00, 163.19it/s]\n",
      "Training Epoch 497: 100%|██████████| 901/901 [00:05<00:00, 164.41it/s]\n",
      "Training Epoch 498: 100%|██████████| 901/901 [00:05<00:00, 164.45it/s]\n",
      "Training Epoch 499: 100%|██████████| 901/901 [00:05<00:00, 164.07it/s]\n",
      "Training Epoch 500: 100%|██████████| 901/901 [00:05<00:00, 162.05it/s]\n",
      "Training Epoch 501: 100%|██████████| 901/901 [00:05<00:00, 174.43it/s]\n"
     ]
    },
    {
     "name": "stdout",
     "output_type": "stream",
     "text": [
      "Epoch 500 - Train Loss: 0.2786, Train MSE: 0.2787, Train MAE: 0.4028\n",
      "Epoch 500 - Validation Loss: 0.7599, Validation MSE: 0.7599, Validation MAE: 0.6500\n"
     ]
    },
    {
     "name": "stderr",
     "output_type": "stream",
     "text": [
      "Training Epoch 502: 100%|██████████| 901/901 [00:05<00:00, 164.61it/s]\n",
      "Training Epoch 503: 100%|██████████| 901/901 [00:05<00:00, 162.15it/s]\n",
      "Training Epoch 504: 100%|██████████| 901/901 [00:05<00:00, 163.10it/s]\n",
      "Training Epoch 505: 100%|██████████| 901/901 [00:05<00:00, 164.35it/s]\n",
      "Training Epoch 506: 100%|██████████| 901/901 [00:05<00:00, 166.90it/s]\n",
      "Training Epoch 507: 100%|██████████| 901/901 [00:05<00:00, 163.41it/s]\n",
      "Training Epoch 508: 100%|██████████| 901/901 [00:05<00:00, 162.30it/s]\n",
      "Training Epoch 509: 100%|██████████| 901/901 [00:05<00:00, 162.25it/s]\n",
      "Training Epoch 510: 100%|██████████| 901/901 [00:05<00:00, 162.81it/s]\n",
      "Training Epoch 511: 100%|██████████| 901/901 [00:05<00:00, 162.80it/s]\n"
     ]
    },
    {
     "name": "stdout",
     "output_type": "stream",
     "text": [
      "Epoch 510 - Train Loss: 0.2786, Train MSE: 0.2786, Train MAE: 0.4039\n",
      "Epoch 510 - Validation Loss: 0.7558, Validation MSE: 0.7558, Validation MAE: 0.6480\n"
     ]
    },
    {
     "name": "stderr",
     "output_type": "stream",
     "text": [
      "Training Epoch 512: 100%|██████████| 901/901 [00:05<00:00, 167.57it/s]\n",
      "Training Epoch 513: 100%|██████████| 901/901 [00:05<00:00, 164.45it/s]\n",
      "Training Epoch 514: 100%|██████████| 901/901 [00:05<00:00, 164.88it/s]\n",
      "Training Epoch 515: 100%|██████████| 901/901 [00:05<00:00, 163.99it/s]\n",
      "Training Epoch 516: 100%|██████████| 901/901 [00:05<00:00, 162.98it/s]\n",
      "Training Epoch 517: 100%|██████████| 901/901 [00:05<00:00, 164.71it/s]\n",
      "Training Epoch 518: 100%|██████████| 901/901 [00:05<00:00, 171.66it/s]\n",
      "Training Epoch 519: 100%|██████████| 901/901 [00:05<00:00, 170.80it/s]\n",
      "Training Epoch 520: 100%|██████████| 901/901 [00:05<00:00, 164.63it/s]\n",
      "Training Epoch 521: 100%|██████████| 901/901 [00:05<00:00, 165.83it/s]\n"
     ]
    },
    {
     "name": "stdout",
     "output_type": "stream",
     "text": [
      "Epoch 520 - Train Loss: 0.2756, Train MSE: 0.2756, Train MAE: 0.4023\n",
      "Epoch 520 - Validation Loss: 0.7662, Validation MSE: 0.7662, Validation MAE: 0.6500\n"
     ]
    },
    {
     "name": "stderr",
     "output_type": "stream",
     "text": [
      "Training Epoch 522: 100%|██████████| 901/901 [00:05<00:00, 163.52it/s]\n",
      "Training Epoch 523: 100%|██████████| 901/901 [00:05<00:00, 167.93it/s]\n",
      "Training Epoch 524: 100%|██████████| 901/901 [00:05<00:00, 164.42it/s]\n",
      "Training Epoch 525: 100%|██████████| 901/901 [00:05<00:00, 164.71it/s]\n",
      "Training Epoch 526: 100%|██████████| 901/901 [00:05<00:00, 162.45it/s]\n",
      "Training Epoch 527: 100%|██████████| 901/901 [00:05<00:00, 166.76it/s]\n",
      "Training Epoch 528: 100%|██████████| 901/901 [00:05<00:00, 163.85it/s]\n",
      "Training Epoch 529: 100%|██████████| 901/901 [00:05<00:00, 168.18it/s]\n",
      "Training Epoch 530: 100%|██████████| 901/901 [00:05<00:00, 165.64it/s]\n",
      "Training Epoch 531: 100%|██████████| 901/901 [00:05<00:00, 163.48it/s]\n"
     ]
    },
    {
     "name": "stdout",
     "output_type": "stream",
     "text": [
      "Epoch 530 - Train Loss: 0.2746, Train MSE: 0.2746, Train MAE: 0.3995\n",
      "Epoch 530 - Validation Loss: 0.7599, Validation MSE: 0.7599, Validation MAE: 0.6493\n"
     ]
    },
    {
     "name": "stderr",
     "output_type": "stream",
     "text": [
      "Training Epoch 532: 100%|██████████| 901/901 [00:05<00:00, 165.09it/s]\n",
      "Training Epoch 533: 100%|██████████| 901/901 [00:05<00:00, 163.79it/s]\n",
      "Training Epoch 534: 100%|██████████| 901/901 [00:05<00:00, 164.73it/s]\n",
      "Training Epoch 535: 100%|██████████| 901/901 [00:05<00:00, 166.66it/s]\n",
      "Training Epoch 536: 100%|██████████| 901/901 [00:05<00:00, 165.03it/s]\n",
      "Training Epoch 537: 100%|██████████| 901/901 [00:05<00:00, 164.35it/s]\n",
      "Training Epoch 538: 100%|██████████| 901/901 [00:05<00:00, 163.49it/s]\n",
      "Training Epoch 539: 100%|██████████| 901/901 [00:05<00:00, 161.12it/s]\n",
      "Training Epoch 540: 100%|██████████| 901/901 [00:05<00:00, 168.61it/s]\n",
      "Training Epoch 541: 100%|██████████| 901/901 [00:05<00:00, 164.06it/s]\n"
     ]
    },
    {
     "name": "stdout",
     "output_type": "stream",
     "text": [
      "Epoch 540 - Train Loss: 0.2750, Train MSE: 0.2750, Train MAE: 0.4012\n",
      "Epoch 540 - Validation Loss: 0.7599, Validation MSE: 0.7599, Validation MAE: 0.6497\n"
     ]
    },
    {
     "name": "stderr",
     "output_type": "stream",
     "text": [
      "Training Epoch 542: 100%|██████████| 901/901 [00:05<00:00, 160.32it/s]\n",
      "Training Epoch 543: 100%|██████████| 901/901 [00:05<00:00, 162.57it/s]\n",
      "Training Epoch 544: 100%|██████████| 901/901 [00:05<00:00, 162.06it/s]\n",
      "Training Epoch 545: 100%|██████████| 901/901 [00:05<00:00, 164.95it/s]\n",
      "Training Epoch 546: 100%|██████████| 901/901 [00:05<00:00, 168.07it/s]\n",
      "Training Epoch 547: 100%|██████████| 901/901 [00:05<00:00, 164.55it/s]\n",
      "Training Epoch 548: 100%|██████████| 901/901 [00:05<00:00, 164.41it/s]\n",
      "Training Epoch 549: 100%|██████████| 901/901 [00:05<00:00, 164.43it/s]\n",
      "Training Epoch 550: 100%|██████████| 901/901 [00:05<00:00, 162.79it/s]\n",
      "Training Epoch 551: 100%|██████████| 901/901 [00:05<00:00, 167.91it/s]\n"
     ]
    },
    {
     "name": "stdout",
     "output_type": "stream",
     "text": [
      "Epoch 550 - Train Loss: 0.2740, Train MSE: 0.2740, Train MAE: 0.3987\n",
      "Epoch 550 - Validation Loss: 0.7507, Validation MSE: 0.7507, Validation MAE: 0.6447\n"
     ]
    },
    {
     "name": "stderr",
     "output_type": "stream",
     "text": [
      "Training Epoch 552: 100%|██████████| 901/901 [00:05<00:00, 164.60it/s]\n",
      "Training Epoch 553: 100%|██████████| 901/901 [00:05<00:00, 164.15it/s]\n",
      "Training Epoch 554: 100%|██████████| 901/901 [00:05<00:00, 165.17it/s]\n",
      "Training Epoch 555: 100%|██████████| 901/901 [00:05<00:00, 162.13it/s]\n",
      "Training Epoch 556: 100%|██████████| 901/901 [00:05<00:00, 165.70it/s]\n",
      "Training Epoch 557: 100%|██████████| 901/901 [00:05<00:00, 166.74it/s]\n",
      "Training Epoch 558: 100%|██████████| 901/901 [00:05<00:00, 164.06it/s]\n",
      "Training Epoch 559: 100%|██████████| 901/901 [00:05<00:00, 168.39it/s]\n",
      "Training Epoch 560: 100%|██████████| 901/901 [00:05<00:00, 166.07it/s]\n",
      "Training Epoch 561: 100%|██████████| 901/901 [00:05<00:00, 163.14it/s]\n"
     ]
    },
    {
     "name": "stdout",
     "output_type": "stream",
     "text": [
      "Epoch 560 - Train Loss: 0.2701, Train MSE: 0.2700, Train MAE: 0.3969\n",
      "Epoch 560 - Validation Loss: 0.7612, Validation MSE: 0.7612, Validation MAE: 0.6451\n"
     ]
    },
    {
     "name": "stderr",
     "output_type": "stream",
     "text": [
      "Training Epoch 562: 100%|██████████| 901/901 [00:05<00:00, 165.55it/s]\n",
      "Training Epoch 563: 100%|██████████| 901/901 [00:05<00:00, 165.83it/s]\n",
      "Training Epoch 564: 100%|██████████| 901/901 [00:05<00:00, 165.41it/s]\n",
      "Training Epoch 565: 100%|██████████| 901/901 [00:05<00:00, 164.91it/s]\n",
      "Training Epoch 566: 100%|██████████| 901/901 [00:05<00:00, 162.33it/s]\n",
      "Training Epoch 567: 100%|██████████| 901/901 [00:05<00:00, 162.10it/s]\n",
      "Training Epoch 568: 100%|██████████| 901/901 [00:05<00:00, 163.02it/s]\n",
      "Training Epoch 569: 100%|██████████| 901/901 [00:05<00:00, 162.89it/s]\n",
      "Training Epoch 570: 100%|██████████| 901/901 [00:05<00:00, 164.19it/s]\n",
      "Training Epoch 571: 100%|██████████| 901/901 [00:05<00:00, 163.07it/s]\n"
     ]
    },
    {
     "name": "stdout",
     "output_type": "stream",
     "text": [
      "Epoch 570 - Train Loss: 0.2672, Train MSE: 0.2672, Train MAE: 0.3949\n",
      "Epoch 570 - Validation Loss: 0.7595, Validation MSE: 0.7595, Validation MAE: 0.6481\n"
     ]
    },
    {
     "name": "stderr",
     "output_type": "stream",
     "text": [
      "Training Epoch 572: 100%|██████████| 901/901 [00:05<00:00, 163.23it/s]\n",
      "Training Epoch 573: 100%|██████████| 901/901 [00:05<00:00, 170.09it/s]\n",
      "Training Epoch 574: 100%|██████████| 901/901 [00:05<00:00, 165.05it/s]\n",
      "Training Epoch 575: 100%|██████████| 901/901 [00:05<00:00, 163.75it/s]\n",
      "Training Epoch 576: 100%|██████████| 901/901 [00:05<00:00, 165.96it/s]\n",
      "Training Epoch 577: 100%|██████████| 901/901 [00:05<00:00, 162.79it/s]\n",
      "Training Epoch 578: 100%|██████████| 901/901 [00:05<00:00, 164.02it/s]\n",
      "Training Epoch 579: 100%|██████████| 901/901 [00:05<00:00, 163.35it/s]\n",
      "Training Epoch 580: 100%|██████████| 901/901 [00:05<00:00, 168.89it/s]\n",
      "Training Epoch 581: 100%|██████████| 901/901 [00:05<00:00, 163.95it/s]\n"
     ]
    },
    {
     "name": "stdout",
     "output_type": "stream",
     "text": [
      "Epoch 580 - Train Loss: 0.2640, Train MSE: 0.2640, Train MAE: 0.3926\n",
      "Epoch 580 - Validation Loss: 0.7518, Validation MSE: 0.7518, Validation MAE: 0.6454\n"
     ]
    },
    {
     "name": "stderr",
     "output_type": "stream",
     "text": [
      "Training Epoch 582: 100%|██████████| 901/901 [00:05<00:00, 163.23it/s]\n",
      "Training Epoch 583: 100%|██████████| 901/901 [00:05<00:00, 164.53it/s]\n",
      "Training Epoch 584: 100%|██████████| 901/901 [00:05<00:00, 163.08it/s]\n",
      "Training Epoch 585: 100%|██████████| 901/901 [00:05<00:00, 162.27it/s]\n",
      "Training Epoch 586: 100%|██████████| 901/901 [00:05<00:00, 162.21it/s]\n",
      "Training Epoch 587: 100%|██████████| 901/901 [00:05<00:00, 164.36it/s]\n",
      "Training Epoch 588: 100%|██████████| 901/901 [00:05<00:00, 162.96it/s]\n",
      "Training Epoch 589: 100%|██████████| 901/901 [00:05<00:00, 163.34it/s]\n",
      "Training Epoch 590: 100%|██████████| 901/901 [00:05<00:00, 165.94it/s]\n",
      "Training Epoch 591: 100%|██████████| 901/901 [00:05<00:00, 164.32it/s]\n"
     ]
    },
    {
     "name": "stdout",
     "output_type": "stream",
     "text": [
      "Epoch 590 - Train Loss: 0.2673, Train MSE: 0.2672, Train MAE: 0.3934\n",
      "Epoch 590 - Validation Loss: 0.7671, Validation MSE: 0.7671, Validation MAE: 0.6528\n"
     ]
    },
    {
     "name": "stderr",
     "output_type": "stream",
     "text": [
      "Training Epoch 592: 100%|██████████| 901/901 [00:05<00:00, 162.76it/s]\n",
      "Training Epoch 593: 100%|██████████| 901/901 [00:05<00:00, 163.19it/s]\n",
      "Training Epoch 594: 100%|██████████| 901/901 [00:05<00:00, 164.31it/s]\n",
      "Training Epoch 595: 100%|██████████| 901/901 [00:05<00:00, 163.49it/s]\n",
      "Training Epoch 596: 100%|██████████| 901/901 [00:05<00:00, 163.30it/s]\n",
      "Training Epoch 597: 100%|██████████| 901/901 [00:05<00:00, 163.89it/s]\n",
      "Training Epoch 598: 100%|██████████| 901/901 [00:05<00:00, 164.55it/s]\n",
      "Training Epoch 599: 100%|██████████| 901/901 [00:05<00:00, 161.24it/s]\n",
      "Training Epoch 600: 100%|██████████| 901/901 [00:05<00:00, 164.74it/s]\n",
      "Training Epoch 601: 100%|██████████| 901/901 [00:05<00:00, 164.24it/s]\n"
     ]
    },
    {
     "name": "stdout",
     "output_type": "stream",
     "text": [
      "Epoch 600 - Train Loss: 0.2655, Train MSE: 0.2656, Train MAE: 0.3931\n",
      "Epoch 600 - Validation Loss: 0.7613, Validation MSE: 0.7613, Validation MAE: 0.6473\n"
     ]
    },
    {
     "name": "stderr",
     "output_type": "stream",
     "text": [
      "Training Epoch 602: 100%|██████████| 901/901 [00:05<00:00, 162.07it/s]\n",
      "Training Epoch 603: 100%|██████████| 901/901 [00:05<00:00, 163.64it/s]\n",
      "Training Epoch 604: 100%|██████████| 901/901 [00:05<00:00, 166.04it/s]\n",
      "Training Epoch 605: 100%|██████████| 901/901 [00:05<00:00, 163.27it/s]\n",
      "Training Epoch 606: 100%|██████████| 901/901 [00:05<00:00, 164.15it/s]\n",
      "Training Epoch 607: 100%|██████████| 901/901 [00:05<00:00, 166.15it/s]\n",
      "Training Epoch 608: 100%|██████████| 901/901 [00:05<00:00, 162.94it/s]\n",
      "Training Epoch 609: 100%|██████████| 901/901 [00:05<00:00, 162.38it/s]\n",
      "Training Epoch 610: 100%|██████████| 901/901 [00:05<00:00, 163.85it/s]\n",
      "Training Epoch 611: 100%|██████████| 901/901 [00:05<00:00, 164.02it/s]\n"
     ]
    },
    {
     "name": "stdout",
     "output_type": "stream",
     "text": [
      "Epoch 610 - Train Loss: 0.2607, Train MSE: 0.2607, Train MAE: 0.3901\n",
      "Epoch 610 - Validation Loss: 0.7721, Validation MSE: 0.7721, Validation MAE: 0.6515\n"
     ]
    },
    {
     "name": "stderr",
     "output_type": "stream",
     "text": [
      "Training Epoch 612: 100%|██████████| 901/901 [00:05<00:00, 164.19it/s]\n",
      "Training Epoch 613: 100%|██████████| 901/901 [00:05<00:00, 163.73it/s]\n",
      "Training Epoch 614: 100%|██████████| 901/901 [00:05<00:00, 164.93it/s]\n",
      "Training Epoch 615: 100%|██████████| 901/901 [00:05<00:00, 166.20it/s]\n",
      "Training Epoch 616: 100%|██████████| 901/901 [00:05<00:00, 164.28it/s]\n",
      "Training Epoch 617: 100%|██████████| 901/901 [00:05<00:00, 162.69it/s]\n",
      "Training Epoch 618: 100%|██████████| 901/901 [00:05<00:00, 162.95it/s]\n",
      "Training Epoch 619: 100%|██████████| 901/901 [00:05<00:00, 163.37it/s]\n",
      "Training Epoch 620: 100%|██████████| 901/901 [00:05<00:00, 168.57it/s]\n",
      "Training Epoch 621: 100%|██████████| 901/901 [00:05<00:00, 165.07it/s]\n"
     ]
    },
    {
     "name": "stdout",
     "output_type": "stream",
     "text": [
      "Epoch 620 - Train Loss: 0.2624, Train MSE: 0.2624, Train MAE: 0.3900\n",
      "Epoch 620 - Validation Loss: 0.7608, Validation MSE: 0.7608, Validation MAE: 0.6490\n"
     ]
    },
    {
     "name": "stderr",
     "output_type": "stream",
     "text": [
      "Training Epoch 622: 100%|██████████| 901/901 [00:05<00:00, 161.46it/s]\n",
      "Training Epoch 623: 100%|██████████| 901/901 [00:05<00:00, 162.40it/s]\n",
      "Training Epoch 624: 100%|██████████| 901/901 [00:05<00:00, 165.23it/s]\n",
      "Training Epoch 625: 100%|██████████| 901/901 [00:05<00:00, 164.21it/s]\n",
      "Training Epoch 626: 100%|██████████| 901/901 [00:05<00:00, 163.83it/s]\n",
      "Training Epoch 627: 100%|██████████| 901/901 [00:05<00:00, 163.78it/s]\n",
      "Training Epoch 628: 100%|██████████| 901/901 [00:05<00:00, 162.80it/s]\n",
      "Training Epoch 629: 100%|██████████| 901/901 [00:05<00:00, 166.88it/s]\n",
      "Training Epoch 630: 100%|██████████| 901/901 [00:05<00:00, 164.36it/s]\n",
      "Training Epoch 631: 100%|██████████| 901/901 [00:05<00:00, 163.03it/s]\n"
     ]
    },
    {
     "name": "stdout",
     "output_type": "stream",
     "text": [
      "Epoch 630 - Train Loss: 0.2604, Train MSE: 0.2603, Train MAE: 0.3908\n",
      "Epoch 630 - Validation Loss: 0.7676, Validation MSE: 0.7676, Validation MAE: 0.6489\n"
     ]
    },
    {
     "name": "stderr",
     "output_type": "stream",
     "text": [
      "Training Epoch 632: 100%|██████████| 901/901 [00:05<00:00, 161.74it/s]\n",
      "Training Epoch 633: 100%|██████████| 901/901 [00:05<00:00, 162.61it/s]\n",
      "Training Epoch 634: 100%|██████████| 901/901 [00:05<00:00, 163.91it/s]\n",
      "Training Epoch 635: 100%|██████████| 901/901 [00:05<00:00, 166.25it/s]\n",
      "Training Epoch 636: 100%|██████████| 901/901 [00:05<00:00, 161.03it/s]\n",
      "Training Epoch 637: 100%|██████████| 901/901 [00:05<00:00, 162.19it/s]\n",
      "Training Epoch 638: 100%|██████████| 901/901 [00:05<00:00, 167.64it/s]\n",
      "Training Epoch 639: 100%|██████████| 901/901 [00:05<00:00, 163.76it/s]\n",
      "Training Epoch 640: 100%|██████████| 901/901 [00:05<00:00, 166.52it/s]\n",
      "Training Epoch 641: 100%|██████████| 901/901 [00:05<00:00, 165.62it/s]\n"
     ]
    },
    {
     "name": "stdout",
     "output_type": "stream",
     "text": [
      "Epoch 640 - Train Loss: 0.2582, Train MSE: 0.2582, Train MAE: 0.3875\n",
      "Epoch 640 - Validation Loss: 0.7547, Validation MSE: 0.7547, Validation MAE: 0.6444\n"
     ]
    },
    {
     "name": "stderr",
     "output_type": "stream",
     "text": [
      "Training Epoch 642: 100%|██████████| 901/901 [00:05<00:00, 163.53it/s]\n",
      "Training Epoch 643: 100%|██████████| 901/901 [00:05<00:00, 162.93it/s]\n",
      "Training Epoch 644: 100%|██████████| 901/901 [00:05<00:00, 162.58it/s]\n",
      "Training Epoch 645: 100%|██████████| 901/901 [00:05<00:00, 163.09it/s]\n",
      "Training Epoch 646: 100%|██████████| 901/901 [00:05<00:00, 167.23it/s]\n",
      "Training Epoch 647: 100%|██████████| 901/901 [00:05<00:00, 163.68it/s]\n",
      "Training Epoch 648: 100%|██████████| 901/901 [00:05<00:00, 162.84it/s]\n",
      "Training Epoch 649: 100%|██████████| 901/901 [00:05<00:00, 163.45it/s]\n",
      "Training Epoch 650: 100%|██████████| 901/901 [00:05<00:00, 162.93it/s]\n",
      "Training Epoch 651: 100%|██████████| 901/901 [00:05<00:00, 164.92it/s]\n"
     ]
    },
    {
     "name": "stdout",
     "output_type": "stream",
     "text": [
      "Epoch 650 - Train Loss: 0.2568, Train MSE: 0.2569, Train MAE: 0.3871\n",
      "Epoch 650 - Validation Loss: 0.7656, Validation MSE: 0.7656, Validation MAE: 0.6499\n"
     ]
    },
    {
     "name": "stderr",
     "output_type": "stream",
     "text": [
      "Training Epoch 652: 100%|██████████| 901/901 [00:05<00:00, 163.57it/s]\n",
      "Training Epoch 653: 100%|██████████| 901/901 [00:05<00:00, 163.13it/s]\n",
      "Training Epoch 654: 100%|██████████| 901/901 [00:05<00:00, 163.19it/s]\n",
      "Training Epoch 655: 100%|██████████| 901/901 [00:05<00:00, 166.13it/s]\n",
      "Training Epoch 656: 100%|██████████| 901/901 [00:05<00:00, 162.86it/s]\n",
      "Training Epoch 657: 100%|██████████| 901/901 [00:05<00:00, 168.35it/s]\n",
      "Training Epoch 658: 100%|██████████| 901/901 [00:05<00:00, 161.62it/s]\n",
      "Training Epoch 659: 100%|██████████| 901/901 [00:05<00:00, 163.41it/s]\n",
      "Training Epoch 660: 100%|██████████| 901/901 [00:05<00:00, 163.78it/s]\n",
      "Training Epoch 661: 100%|██████████| 901/901 [00:05<00:00, 163.52it/s]\n"
     ]
    },
    {
     "name": "stdout",
     "output_type": "stream",
     "text": [
      "Epoch 660 - Train Loss: 0.2554, Train MSE: 0.2554, Train MAE: 0.3838\n",
      "Epoch 660 - Validation Loss: 0.7536, Validation MSE: 0.7536, Validation MAE: 0.6431\n"
     ]
    },
    {
     "name": "stderr",
     "output_type": "stream",
     "text": [
      "Training Epoch 662: 100%|██████████| 901/901 [00:05<00:00, 163.93it/s]\n",
      "Training Epoch 663: 100%|██████████| 901/901 [00:05<00:00, 161.33it/s]\n",
      "Training Epoch 664: 100%|██████████| 901/901 [00:05<00:00, 164.24it/s]\n",
      "Training Epoch 665: 100%|██████████| 901/901 [00:05<00:00, 169.82it/s]\n",
      "Training Epoch 666: 100%|██████████| 901/901 [00:05<00:00, 161.51it/s]\n",
      "Training Epoch 667: 100%|██████████| 901/901 [00:05<00:00, 165.03it/s]\n",
      "Training Epoch 668: 100%|██████████| 901/901 [00:05<00:00, 167.29it/s]\n",
      "Training Epoch 669: 100%|██████████| 901/901 [00:05<00:00, 164.27it/s]\n",
      "Training Epoch 670: 100%|██████████| 901/901 [00:05<00:00, 163.75it/s]\n",
      "Training Epoch 671: 100%|██████████| 901/901 [00:05<00:00, 162.71it/s]\n"
     ]
    },
    {
     "name": "stdout",
     "output_type": "stream",
     "text": [
      "Epoch 670 - Train Loss: 0.2546, Train MSE: 0.2545, Train MAE: 0.3849\n",
      "Epoch 670 - Validation Loss: 0.7603, Validation MSE: 0.7603, Validation MAE: 0.6411\n"
     ]
    },
    {
     "name": "stderr",
     "output_type": "stream",
     "text": [
      "Training Epoch 672: 100%|██████████| 901/901 [00:05<00:00, 164.81it/s]\n",
      "Training Epoch 673: 100%|██████████| 901/901 [00:05<00:00, 163.98it/s]\n",
      "Training Epoch 674: 100%|██████████| 901/901 [00:05<00:00, 166.72it/s]\n",
      "Training Epoch 675: 100%|██████████| 901/901 [00:05<00:00, 164.38it/s]\n",
      "Training Epoch 676: 100%|██████████| 901/901 [00:05<00:00, 163.73it/s]\n",
      "Training Epoch 677: 100%|██████████| 901/901 [00:05<00:00, 162.66it/s]\n",
      "Training Epoch 678: 100%|██████████| 901/901 [00:05<00:00, 162.53it/s]\n",
      "Training Epoch 679: 100%|██████████| 901/901 [00:05<00:00, 164.83it/s]\n",
      "Training Epoch 680: 100%|██████████| 901/901 [00:05<00:00, 161.80it/s]\n",
      "Training Epoch 681: 100%|██████████| 901/901 [00:05<00:00, 161.98it/s]\n"
     ]
    },
    {
     "name": "stdout",
     "output_type": "stream",
     "text": [
      "Epoch 680 - Train Loss: 0.2535, Train MSE: 0.2534, Train MAE: 0.3841\n",
      "Epoch 680 - Validation Loss: 0.7506, Validation MSE: 0.7506, Validation MAE: 0.6417\n"
     ]
    },
    {
     "name": "stderr",
     "output_type": "stream",
     "text": [
      "Training Epoch 682: 100%|██████████| 901/901 [00:05<00:00, 162.26it/s]\n",
      "Training Epoch 683: 100%|██████████| 901/901 [00:05<00:00, 160.40it/s]\n",
      "Training Epoch 684: 100%|██████████| 901/901 [00:05<00:00, 161.79it/s]\n",
      "Training Epoch 685: 100%|██████████| 901/901 [00:05<00:00, 168.21it/s]\n",
      "Training Epoch 686: 100%|██████████| 901/901 [00:05<00:00, 162.51it/s]\n",
      "Training Epoch 687: 100%|██████████| 901/901 [00:05<00:00, 162.49it/s]\n",
      "Training Epoch 688: 100%|██████████| 901/901 [00:05<00:00, 160.13it/s]\n",
      "Training Epoch 689: 100%|██████████| 901/901 [00:05<00:00, 160.39it/s]\n",
      "Training Epoch 690: 100%|██████████| 901/901 [00:05<00:00, 162.16it/s]\n",
      "Training Epoch 691: 100%|██████████| 901/901 [00:05<00:00, 163.55it/s]\n"
     ]
    },
    {
     "name": "stdout",
     "output_type": "stream",
     "text": [
      "Epoch 690 - Train Loss: 0.2513, Train MSE: 0.2513, Train MAE: 0.3812\n",
      "Epoch 690 - Validation Loss: 0.7674, Validation MSE: 0.7674, Validation MAE: 0.6489\n"
     ]
    },
    {
     "name": "stderr",
     "output_type": "stream",
     "text": [
      "Training Epoch 692: 100%|██████████| 901/901 [00:05<00:00, 162.79it/s]\n",
      "Training Epoch 693: 100%|██████████| 901/901 [00:05<00:00, 160.50it/s]\n",
      "Training Epoch 694: 100%|██████████| 901/901 [00:05<00:00, 163.22it/s]\n",
      "Training Epoch 695: 100%|██████████| 901/901 [00:05<00:00, 162.17it/s]\n",
      "Training Epoch 696: 100%|██████████| 901/901 [00:05<00:00, 164.73it/s]\n",
      "Training Epoch 697: 100%|██████████| 901/901 [00:05<00:00, 163.70it/s]\n",
      "Training Epoch 698: 100%|██████████| 901/901 [00:05<00:00, 162.64it/s]\n",
      "Training Epoch 699: 100%|██████████| 901/901 [00:05<00:00, 162.34it/s]\n",
      "Training Epoch 700: 100%|██████████| 901/901 [00:05<00:00, 162.29it/s]\n",
      "Training Epoch 701: 100%|██████████| 901/901 [00:05<00:00, 158.21it/s]\n"
     ]
    },
    {
     "name": "stdout",
     "output_type": "stream",
     "text": [
      "Epoch 700 - Train Loss: 0.2523, Train MSE: 0.2523, Train MAE: 0.3828\n",
      "Epoch 700 - Validation Loss: 0.7677, Validation MSE: 0.7677, Validation MAE: 0.6490\n"
     ]
    },
    {
     "name": "stderr",
     "output_type": "stream",
     "text": [
      "Training Epoch 702: 100%|██████████| 901/901 [00:05<00:00, 161.36it/s]\n",
      "Training Epoch 703: 100%|██████████| 901/901 [00:05<00:00, 160.29it/s]\n",
      "Training Epoch 704: 100%|██████████| 901/901 [00:05<00:00, 161.32it/s]\n",
      "Training Epoch 705: 100%|██████████| 901/901 [00:05<00:00, 160.78it/s]\n",
      "Training Epoch 706: 100%|██████████| 901/901 [00:05<00:00, 162.08it/s]\n",
      "Training Epoch 707: 100%|██████████| 901/901 [00:05<00:00, 164.85it/s]\n",
      "Training Epoch 708: 100%|██████████| 901/901 [00:05<00:00, 161.88it/s]\n",
      "Training Epoch 709: 100%|██████████| 901/901 [00:05<00:00, 160.57it/s]\n",
      "Training Epoch 710: 100%|██████████| 901/901 [00:05<00:00, 161.46it/s]\n",
      "Training Epoch 711: 100%|██████████| 901/901 [00:05<00:00, 161.84it/s]\n"
     ]
    },
    {
     "name": "stdout",
     "output_type": "stream",
     "text": [
      "Epoch 710 - Train Loss: 0.2570, Train MSE: 0.2570, Train MAE: 0.3853\n",
      "Epoch 710 - Validation Loss: 0.7702, Validation MSE: 0.7702, Validation MAE: 0.6494\n"
     ]
    },
    {
     "name": "stderr",
     "output_type": "stream",
     "text": [
      "Training Epoch 712: 100%|██████████| 901/901 [00:05<00:00, 163.98it/s]\n",
      "Training Epoch 713: 100%|██████████| 901/901 [00:05<00:00, 165.70it/s]\n",
      "Training Epoch 714: 100%|██████████| 901/901 [00:05<00:00, 160.52it/s]\n",
      "Training Epoch 715: 100%|██████████| 901/901 [00:05<00:00, 164.68it/s]\n",
      "Training Epoch 716: 100%|██████████| 901/901 [00:05<00:00, 162.21it/s]\n",
      "Training Epoch 717: 100%|██████████| 901/901 [00:05<00:00, 160.69it/s]\n",
      "Training Epoch 718: 100%|██████████| 901/901 [00:05<00:00, 162.78it/s]\n",
      "Training Epoch 719: 100%|██████████| 901/901 [00:05<00:00, 163.51it/s]\n",
      "Training Epoch 720: 100%|██████████| 901/901 [00:05<00:00, 161.67it/s]\n",
      "Training Epoch 721: 100%|██████████| 901/901 [00:05<00:00, 164.79it/s]\n"
     ]
    },
    {
     "name": "stdout",
     "output_type": "stream",
     "text": [
      "Epoch 720 - Train Loss: 0.2479, Train MSE: 0.2478, Train MAE: 0.3799\n",
      "Epoch 720 - Validation Loss: 0.7676, Validation MSE: 0.7676, Validation MAE: 0.6482\n"
     ]
    },
    {
     "name": "stderr",
     "output_type": "stream",
     "text": [
      "Training Epoch 722: 100%|██████████| 901/901 [00:05<00:00, 160.66it/s]\n",
      "Training Epoch 723: 100%|██████████| 901/901 [00:05<00:00, 160.28it/s]\n",
      "Training Epoch 724: 100%|██████████| 901/901 [00:05<00:00, 163.51it/s]\n",
      "Training Epoch 725: 100%|██████████| 901/901 [00:05<00:00, 160.95it/s]\n",
      "Training Epoch 726: 100%|██████████| 901/901 [00:05<00:00, 165.32it/s]\n",
      "Training Epoch 727: 100%|██████████| 901/901 [00:05<00:00, 161.41it/s]\n",
      "Training Epoch 728: 100%|██████████| 901/901 [00:05<00:00, 162.46it/s]\n",
      "Training Epoch 729: 100%|██████████| 901/901 [00:05<00:00, 163.92it/s]\n",
      "Training Epoch 730: 100%|██████████| 901/901 [00:05<00:00, 164.11it/s]\n",
      "Training Epoch 731: 100%|██████████| 901/901 [00:05<00:00, 159.21it/s]\n"
     ]
    },
    {
     "name": "stdout",
     "output_type": "stream",
     "text": [
      "Epoch 730 - Train Loss: 0.2479, Train MSE: 0.2479, Train MAE: 0.3801\n",
      "Epoch 730 - Validation Loss: 0.7681, Validation MSE: 0.7681, Validation MAE: 0.6482\n"
     ]
    },
    {
     "name": "stderr",
     "output_type": "stream",
     "text": [
      "Training Epoch 732: 100%|██████████| 901/901 [00:05<00:00, 161.75it/s]\n",
      "Training Epoch 733: 100%|██████████| 901/901 [00:05<00:00, 161.92it/s]\n",
      "Training Epoch 734: 100%|██████████| 901/901 [00:05<00:00, 161.02it/s]\n",
      "Training Epoch 735: 100%|██████████| 901/901 [00:05<00:00, 159.59it/s]\n",
      "Training Epoch 736: 100%|██████████| 901/901 [00:05<00:00, 163.83it/s]\n",
      "Training Epoch 737: 100%|██████████| 901/901 [00:05<00:00, 162.35it/s]\n",
      "Training Epoch 738: 100%|██████████| 901/901 [00:05<00:00, 159.75it/s]\n",
      "Training Epoch 739: 100%|██████████| 901/901 [00:05<00:00, 162.01it/s]\n",
      "Training Epoch 740: 100%|██████████| 901/901 [00:05<00:00, 159.64it/s]\n",
      "Training Epoch 741: 100%|██████████| 901/901 [00:05<00:00, 161.98it/s]\n"
     ]
    },
    {
     "name": "stdout",
     "output_type": "stream",
     "text": [
      "Epoch 740 - Train Loss: 0.2481, Train MSE: 0.2481, Train MAE: 0.3789\n",
      "Epoch 740 - Validation Loss: 0.7531, Validation MSE: 0.7531, Validation MAE: 0.6455\n"
     ]
    },
    {
     "name": "stderr",
     "output_type": "stream",
     "text": [
      "Training Epoch 742: 100%|██████████| 901/901 [00:05<00:00, 161.52it/s]\n",
      "Training Epoch 743: 100%|██████████| 901/901 [00:05<00:00, 158.70it/s]\n",
      "Training Epoch 744: 100%|██████████| 901/901 [00:05<00:00, 159.84it/s]\n",
      "Training Epoch 745: 100%|██████████| 901/901 [00:05<00:00, 161.55it/s]\n",
      "Training Epoch 746: 100%|██████████| 901/901 [00:05<00:00, 156.41it/s]\n",
      "Training Epoch 747: 100%|██████████| 901/901 [00:05<00:00, 166.00it/s]\n",
      "Training Epoch 748: 100%|██████████| 901/901 [00:05<00:00, 159.40it/s]\n",
      "Training Epoch 749: 100%|██████████| 901/901 [00:05<00:00, 162.02it/s]\n",
      "Training Epoch 750: 100%|██████████| 901/901 [00:05<00:00, 162.89it/s]\n",
      "Training Epoch 751: 100%|██████████| 901/901 [00:05<00:00, 161.62it/s]\n"
     ]
    },
    {
     "name": "stdout",
     "output_type": "stream",
     "text": [
      "Epoch 750 - Train Loss: 0.2446, Train MSE: 0.2445, Train MAE: 0.3765\n",
      "Epoch 750 - Validation Loss: 0.7539, Validation MSE: 0.7539, Validation MAE: 0.6445\n"
     ]
    },
    {
     "name": "stderr",
     "output_type": "stream",
     "text": [
      "Training Epoch 752: 100%|██████████| 901/901 [00:05<00:00, 160.83it/s]\n",
      "Training Epoch 753: 100%|██████████| 901/901 [00:05<00:00, 160.78it/s]\n",
      "Training Epoch 754: 100%|██████████| 901/901 [00:05<00:00, 161.73it/s]\n",
      "Training Epoch 755: 100%|██████████| 901/901 [00:05<00:00, 161.46it/s]\n",
      "Training Epoch 756: 100%|██████████| 901/901 [00:05<00:00, 159.28it/s]\n",
      "Training Epoch 757: 100%|██████████| 901/901 [00:05<00:00, 158.81it/s]\n",
      "Training Epoch 758: 100%|██████████| 901/901 [00:05<00:00, 163.82it/s]\n",
      "Training Epoch 759: 100%|██████████| 901/901 [00:05<00:00, 164.47it/s]\n",
      "Training Epoch 760: 100%|██████████| 901/901 [00:05<00:00, 159.84it/s]\n",
      "Training Epoch 761: 100%|██████████| 901/901 [00:05<00:00, 162.14it/s]\n"
     ]
    },
    {
     "name": "stdout",
     "output_type": "stream",
     "text": [
      "Epoch 760 - Train Loss: 0.2458, Train MSE: 0.2458, Train MAE: 0.3767\n",
      "Epoch 760 - Validation Loss: 0.7600, Validation MSE: 0.7600, Validation MAE: 0.6479\n"
     ]
    },
    {
     "name": "stderr",
     "output_type": "stream",
     "text": [
      "Training Epoch 762: 100%|██████████| 901/901 [00:05<00:00, 162.71it/s]\n",
      "Training Epoch 763: 100%|██████████| 901/901 [00:05<00:00, 160.30it/s]\n",
      "Training Epoch 764: 100%|██████████| 901/901 [00:05<00:00, 168.03it/s]\n",
      "Training Epoch 765: 100%|██████████| 901/901 [00:05<00:00, 161.01it/s]\n",
      "Training Epoch 766: 100%|██████████| 901/901 [00:05<00:00, 163.55it/s]\n",
      "Training Epoch 767: 100%|██████████| 901/901 [00:05<00:00, 161.82it/s]\n",
      "Training Epoch 768: 100%|██████████| 901/901 [00:05<00:00, 160.65it/s]\n",
      "Training Epoch 769: 100%|██████████| 901/901 [00:05<00:00, 164.08it/s]\n",
      "Training Epoch 770: 100%|██████████| 901/901 [00:05<00:00, 164.09it/s]\n",
      "Training Epoch 771: 100%|██████████| 901/901 [00:05<00:00, 162.12it/s]\n"
     ]
    },
    {
     "name": "stdout",
     "output_type": "stream",
     "text": [
      "Epoch 770 - Train Loss: 0.2418, Train MSE: 0.2419, Train MAE: 0.3740\n",
      "Epoch 770 - Validation Loss: 0.7503, Validation MSE: 0.7503, Validation MAE: 0.6418\n"
     ]
    },
    {
     "name": "stderr",
     "output_type": "stream",
     "text": [
      "Training Epoch 772: 100%|██████████| 901/901 [00:05<00:00, 162.28it/s]\n",
      "Training Epoch 773: 100%|██████████| 901/901 [00:05<00:00, 160.39it/s]\n",
      "Training Epoch 774: 100%|██████████| 901/901 [00:05<00:00, 163.29it/s]\n",
      "Training Epoch 775: 100%|██████████| 901/901 [00:05<00:00, 168.35it/s]\n",
      "Training Epoch 776: 100%|██████████| 901/901 [00:05<00:00, 160.92it/s]\n",
      "Training Epoch 777: 100%|██████████| 901/901 [00:05<00:00, 160.32it/s]\n",
      "Training Epoch 778: 100%|██████████| 901/901 [00:05<00:00, 158.95it/s]\n",
      "Training Epoch 779: 100%|██████████| 901/901 [00:05<00:00, 162.57it/s]\n",
      "Training Epoch 780: 100%|██████████| 901/901 [00:05<00:00, 162.62it/s]\n",
      "Training Epoch 781: 100%|██████████| 901/901 [00:05<00:00, 164.39it/s]\n"
     ]
    },
    {
     "name": "stdout",
     "output_type": "stream",
     "text": [
      "Epoch 780 - Train Loss: 0.2391, Train MSE: 0.2390, Train MAE: 0.3726\n",
      "Epoch 780 - Validation Loss: 0.7497, Validation MSE: 0.7497, Validation MAE: 0.6402\n"
     ]
    },
    {
     "name": "stderr",
     "output_type": "stream",
     "text": [
      "Training Epoch 782: 100%|██████████| 901/901 [00:05<00:00, 161.34it/s]\n",
      "Training Epoch 783: 100%|██████████| 901/901 [00:05<00:00, 160.13it/s]\n",
      "Training Epoch 784: 100%|██████████| 901/901 [00:05<00:00, 163.98it/s]\n",
      "Training Epoch 785: 100%|██████████| 901/901 [00:05<00:00, 162.57it/s]\n",
      "Training Epoch 786: 100%|██████████| 901/901 [00:05<00:00, 164.12it/s]\n",
      "Training Epoch 787: 100%|██████████| 901/901 [00:05<00:00, 162.18it/s]\n",
      "Training Epoch 788: 100%|██████████| 901/901 [00:05<00:00, 160.89it/s]\n",
      "Training Epoch 789: 100%|██████████| 901/901 [00:05<00:00, 158.67it/s]\n",
      "Training Epoch 790: 100%|██████████| 901/901 [00:05<00:00, 167.66it/s]\n",
      "Training Epoch 791: 100%|██████████| 901/901 [00:05<00:00, 162.48it/s]\n"
     ]
    },
    {
     "name": "stdout",
     "output_type": "stream",
     "text": [
      "Epoch 790 - Train Loss: 0.2419, Train MSE: 0.2419, Train MAE: 0.3742\n",
      "Epoch 790 - Validation Loss: 0.7610, Validation MSE: 0.7610, Validation MAE: 0.6440\n"
     ]
    },
    {
     "name": "stderr",
     "output_type": "stream",
     "text": [
      "Training Epoch 792: 100%|██████████| 901/901 [00:05<00:00, 165.95it/s]\n",
      "Training Epoch 793: 100%|██████████| 901/901 [00:05<00:00, 158.29it/s]\n",
      "Training Epoch 794: 100%|██████████| 901/901 [00:05<00:00, 161.00it/s]\n",
      "Training Epoch 795: 100%|██████████| 901/901 [00:05<00:00, 162.59it/s]\n",
      "Training Epoch 796: 100%|██████████| 901/901 [00:05<00:00, 160.07it/s]\n",
      "Training Epoch 797: 100%|██████████| 901/901 [00:05<00:00, 163.66it/s]\n",
      "Training Epoch 798: 100%|██████████| 901/901 [00:05<00:00, 164.27it/s]\n",
      "Training Epoch 799: 100%|██████████| 901/901 [00:05<00:00, 160.12it/s]\n",
      "Training Epoch 800: 100%|██████████| 901/901 [00:05<00:00, 158.88it/s]\n",
      "Training Epoch 801: 100%|██████████| 901/901 [00:05<00:00, 163.62it/s]\n"
     ]
    },
    {
     "name": "stdout",
     "output_type": "stream",
     "text": [
      "Epoch 800 - Train Loss: 0.2390, Train MSE: 0.2390, Train MAE: 0.3723\n",
      "Epoch 800 - Validation Loss: 0.7608, Validation MSE: 0.7608, Validation MAE: 0.6463\n"
     ]
    },
    {
     "name": "stderr",
     "output_type": "stream",
     "text": [
      "Training Epoch 802: 100%|██████████| 901/901 [00:05<00:00, 160.30it/s]\n",
      "Training Epoch 803: 100%|██████████| 901/901 [00:05<00:00, 164.99it/s]\n",
      "Training Epoch 804: 100%|██████████| 901/901 [00:05<00:00, 160.06it/s]\n",
      "Training Epoch 805: 100%|██████████| 901/901 [00:05<00:00, 162.05it/s]\n",
      "Training Epoch 806: 100%|██████████| 901/901 [00:05<00:00, 159.05it/s]\n",
      "Training Epoch 807: 100%|██████████| 901/901 [00:05<00:00, 161.67it/s]\n",
      "Training Epoch 808: 100%|██████████| 901/901 [00:05<00:00, 159.92it/s]\n",
      "Training Epoch 809: 100%|██████████| 901/901 [00:05<00:00, 164.83it/s]\n",
      "Training Epoch 810: 100%|██████████| 901/901 [00:05<00:00, 161.22it/s]\n",
      "Training Epoch 811: 100%|██████████| 901/901 [00:05<00:00, 161.25it/s]\n"
     ]
    },
    {
     "name": "stdout",
     "output_type": "stream",
     "text": [
      "Epoch 810 - Train Loss: 0.2419, Train MSE: 0.2419, Train MAE: 0.3749\n",
      "Epoch 810 - Validation Loss: 0.7656, Validation MSE: 0.7656, Validation MAE: 0.6471\n"
     ]
    },
    {
     "name": "stderr",
     "output_type": "stream",
     "text": [
      "Training Epoch 812: 100%|██████████| 901/901 [00:05<00:00, 162.99it/s]\n",
      "Training Epoch 813: 100%|██████████| 901/901 [00:05<00:00, 161.10it/s]\n",
      "Training Epoch 814: 100%|██████████| 901/901 [00:05<00:00, 160.63it/s]\n",
      "Training Epoch 815: 100%|██████████| 901/901 [00:05<00:00, 163.95it/s]\n",
      "Training Epoch 816: 100%|██████████| 901/901 [00:05<00:00, 159.88it/s]\n",
      "Training Epoch 817: 100%|██████████| 901/901 [00:05<00:00, 162.43it/s]\n",
      "Training Epoch 818: 100%|██████████| 901/901 [00:05<00:00, 160.67it/s]\n",
      "Training Epoch 819: 100%|██████████| 901/901 [00:05<00:00, 162.71it/s]\n",
      "Training Epoch 820: 100%|██████████| 901/901 [00:05<00:00, 167.70it/s]\n",
      "Training Epoch 821: 100%|██████████| 901/901 [00:05<00:00, 161.33it/s]\n"
     ]
    },
    {
     "name": "stdout",
     "output_type": "stream",
     "text": [
      "Epoch 820 - Train Loss: 0.2413, Train MSE: 0.2413, Train MAE: 0.3723\n",
      "Epoch 820 - Validation Loss: 0.7589, Validation MSE: 0.7589, Validation MAE: 0.6416\n"
     ]
    },
    {
     "name": "stderr",
     "output_type": "stream",
     "text": [
      "Training Epoch 822: 100%|██████████| 901/901 [00:05<00:00, 161.84it/s]\n",
      "Training Epoch 823: 100%|██████████| 901/901 [00:05<00:00, 163.51it/s]\n",
      "Training Epoch 824: 100%|██████████| 901/901 [00:05<00:00, 163.16it/s]\n",
      "Training Epoch 825: 100%|██████████| 901/901 [00:05<00:00, 162.65it/s]\n",
      "Training Epoch 826: 100%|██████████| 901/901 [00:05<00:00, 164.78it/s]\n",
      "Training Epoch 827: 100%|██████████| 901/901 [00:05<00:00, 161.45it/s]\n",
      "Training Epoch 828: 100%|██████████| 901/901 [00:05<00:00, 161.73it/s]\n",
      "Training Epoch 829: 100%|██████████| 901/901 [00:05<00:00, 160.73it/s]\n",
      "Training Epoch 830: 100%|██████████| 901/901 [00:05<00:00, 160.98it/s]\n",
      "Training Epoch 831: 100%|██████████| 901/901 [00:05<00:00, 162.46it/s]\n"
     ]
    },
    {
     "name": "stdout",
     "output_type": "stream",
     "text": [
      "Epoch 830 - Train Loss: 0.2373, Train MSE: 0.2373, Train MAE: 0.3708\n",
      "Epoch 830 - Validation Loss: 0.7624, Validation MSE: 0.7624, Validation MAE: 0.6485\n"
     ]
    },
    {
     "name": "stderr",
     "output_type": "stream",
     "text": [
      "Training Epoch 832: 100%|██████████| 901/901 [00:05<00:00, 160.78it/s]\n",
      "Training Epoch 833: 100%|██████████| 901/901 [00:05<00:00, 159.73it/s]\n",
      "Training Epoch 834: 100%|██████████| 901/901 [00:05<00:00, 161.42it/s]\n",
      "Training Epoch 835: 100%|██████████| 901/901 [00:05<00:00, 165.96it/s]\n",
      "Training Epoch 836: 100%|██████████| 901/901 [00:05<00:00, 162.41it/s]\n",
      "Training Epoch 837: 100%|██████████| 901/901 [00:05<00:00, 165.60it/s]\n",
      "Training Epoch 838: 100%|██████████| 901/901 [00:05<00:00, 159.38it/s]\n",
      "Training Epoch 839: 100%|██████████| 901/901 [00:05<00:00, 161.62it/s]\n",
      "Training Epoch 840: 100%|██████████| 901/901 [00:05<00:00, 161.40it/s]\n",
      "Training Epoch 841: 100%|██████████| 901/901 [00:05<00:00, 161.74it/s]\n"
     ]
    },
    {
     "name": "stdout",
     "output_type": "stream",
     "text": [
      "Epoch 840 - Train Loss: 0.2379, Train MSE: 0.2377, Train MAE: 0.3714\n",
      "Epoch 840 - Validation Loss: 0.7602, Validation MSE: 0.7602, Validation MAE: 0.6435\n"
     ]
    },
    {
     "name": "stderr",
     "output_type": "stream",
     "text": [
      "Training Epoch 842: 100%|██████████| 901/901 [00:05<00:00, 160.44it/s]\n",
      "Training Epoch 843: 100%|██████████| 901/901 [00:05<00:00, 164.28it/s]\n",
      "Training Epoch 844: 100%|██████████| 901/901 [00:05<00:00, 162.75it/s]\n",
      "Training Epoch 845: 100%|██████████| 901/901 [00:05<00:00, 159.75it/s]\n",
      "Training Epoch 846: 100%|██████████| 901/901 [00:05<00:00, 162.13it/s]\n",
      "Training Epoch 847: 100%|██████████| 901/901 [00:05<00:00, 163.38it/s]\n",
      "Training Epoch 848: 100%|██████████| 901/901 [00:05<00:00, 165.87it/s]\n",
      "Training Epoch 849: 100%|██████████| 901/901 [00:05<00:00, 165.79it/s]\n",
      "Training Epoch 850: 100%|██████████| 901/901 [00:05<00:00, 159.74it/s]\n",
      "Training Epoch 851: 100%|██████████| 901/901 [00:05<00:00, 161.56it/s]\n"
     ]
    },
    {
     "name": "stdout",
     "output_type": "stream",
     "text": [
      "Epoch 850 - Train Loss: 0.2352, Train MSE: 0.2352, Train MAE: 0.3678\n",
      "Epoch 850 - Validation Loss: 0.7648, Validation MSE: 0.7648, Validation MAE: 0.6464\n"
     ]
    },
    {
     "name": "stderr",
     "output_type": "stream",
     "text": [
      "Training Epoch 852: 100%|██████████| 901/901 [00:05<00:00, 161.56it/s]\n",
      "Training Epoch 853: 100%|██████████| 901/901 [00:05<00:00, 159.49it/s]\n",
      "Training Epoch 854: 100%|██████████| 901/901 [00:05<00:00, 166.49it/s]\n",
      "Training Epoch 855: 100%|██████████| 901/901 [00:05<00:00, 161.83it/s]\n",
      "Training Epoch 856: 100%|██████████| 901/901 [00:05<00:00, 162.42it/s]\n",
      "Training Epoch 857: 100%|██████████| 901/901 [00:05<00:00, 163.59it/s]\n",
      "Training Epoch 858: 100%|██████████| 901/901 [00:05<00:00, 161.34it/s]\n",
      "Training Epoch 859: 100%|██████████| 901/901 [00:05<00:00, 162.59it/s]\n",
      "Training Epoch 860: 100%|██████████| 901/901 [00:05<00:00, 164.39it/s]\n",
      "Training Epoch 861: 100%|██████████| 901/901 [00:05<00:00, 160.52it/s]\n"
     ]
    },
    {
     "name": "stdout",
     "output_type": "stream",
     "text": [
      "Epoch 860 - Train Loss: 0.2365, Train MSE: 0.2365, Train MAE: 0.3710\n",
      "Epoch 860 - Validation Loss: 0.7617, Validation MSE: 0.7617, Validation MAE: 0.6470\n"
     ]
    },
    {
     "name": "stderr",
     "output_type": "stream",
     "text": [
      "Training Epoch 862: 100%|██████████| 901/901 [00:05<00:00, 160.64it/s]\n",
      "Training Epoch 863: 100%|██████████| 901/901 [00:05<00:00, 162.21it/s]\n",
      "Training Epoch 864: 100%|██████████| 901/901 [00:05<00:00, 161.96it/s]\n",
      "Training Epoch 865: 100%|██████████| 901/901 [00:05<00:00, 164.48it/s]\n",
      "Training Epoch 866: 100%|██████████| 901/901 [00:05<00:00, 159.36it/s]\n",
      "Training Epoch 867: 100%|██████████| 901/901 [00:05<00:00, 161.86it/s]\n",
      "Training Epoch 868: 100%|██████████| 901/901 [00:05<00:00, 160.12it/s]\n",
      "Training Epoch 869: 100%|██████████| 901/901 [00:05<00:00, 162.31it/s]\n",
      "Training Epoch 870: 100%|██████████| 901/901 [00:05<00:00, 162.81it/s]\n",
      "Training Epoch 871: 100%|██████████| 901/901 [00:05<00:00, 166.58it/s]\n"
     ]
    },
    {
     "name": "stdout",
     "output_type": "stream",
     "text": [
      "Epoch 870 - Train Loss: 0.2328, Train MSE: 0.2328, Train MAE: 0.3667\n",
      "Epoch 870 - Validation Loss: 0.7741, Validation MSE: 0.7741, Validation MAE: 0.6506\n"
     ]
    },
    {
     "name": "stderr",
     "output_type": "stream",
     "text": [
      "Training Epoch 872: 100%|██████████| 901/901 [00:05<00:00, 161.59it/s]\n",
      "Training Epoch 873: 100%|██████████| 901/901 [00:05<00:00, 163.17it/s]\n",
      "Training Epoch 874: 100%|██████████| 901/901 [00:05<00:00, 162.44it/s]\n",
      "Training Epoch 875: 100%|██████████| 901/901 [00:05<00:00, 162.15it/s]\n",
      "Training Epoch 876: 100%|██████████| 901/901 [00:05<00:00, 163.21it/s]\n",
      "Training Epoch 877: 100%|██████████| 901/901 [00:05<00:00, 162.57it/s]\n",
      "Training Epoch 878: 100%|██████████| 901/901 [00:05<00:00, 162.79it/s]\n",
      "Training Epoch 879: 100%|██████████| 901/901 [00:05<00:00, 159.06it/s]\n",
      "Training Epoch 880: 100%|██████████| 901/901 [00:05<00:00, 161.57it/s]\n",
      "Training Epoch 881: 100%|██████████| 901/901 [00:05<00:00, 161.58it/s]\n"
     ]
    },
    {
     "name": "stdout",
     "output_type": "stream",
     "text": [
      "Epoch 880 - Train Loss: 0.2338, Train MSE: 0.2338, Train MAE: 0.3693\n",
      "Epoch 880 - Validation Loss: 0.7648, Validation MSE: 0.7648, Validation MAE: 0.6474\n"
     ]
    },
    {
     "name": "stderr",
     "output_type": "stream",
     "text": [
      "Training Epoch 882: 100%|██████████| 901/901 [00:05<00:00, 169.09it/s]\n",
      "Training Epoch 883: 100%|██████████| 901/901 [00:05<00:00, 162.41it/s]\n",
      "Training Epoch 884: 100%|██████████| 901/901 [00:05<00:00, 159.63it/s]\n",
      "Training Epoch 885: 100%|██████████| 901/901 [00:05<00:00, 161.99it/s]\n",
      "Training Epoch 886: 100%|██████████| 901/901 [00:05<00:00, 161.18it/s]\n",
      "Training Epoch 887: 100%|██████████| 901/901 [00:05<00:00, 162.78it/s]\n",
      "Training Epoch 888: 100%|██████████| 901/901 [00:05<00:00, 163.27it/s]\n",
      "Training Epoch 889: 100%|██████████| 901/901 [00:05<00:00, 161.90it/s]\n",
      "Training Epoch 890: 100%|██████████| 901/901 [00:05<00:00, 161.17it/s]\n",
      "Training Epoch 891: 100%|██████████| 901/901 [00:05<00:00, 161.07it/s]\n"
     ]
    },
    {
     "name": "stdout",
     "output_type": "stream",
     "text": [
      "Epoch 890 - Train Loss: 0.2348, Train MSE: 0.2349, Train MAE: 0.3684\n",
      "Epoch 890 - Validation Loss: 0.7629, Validation MSE: 0.7629, Validation MAE: 0.6456\n"
     ]
    },
    {
     "name": "stderr",
     "output_type": "stream",
     "text": [
      "Training Epoch 892: 100%|██████████| 901/901 [00:05<00:00, 162.14it/s]\n",
      "Training Epoch 893: 100%|██████████| 901/901 [00:05<00:00, 161.44it/s]\n",
      "Training Epoch 894: 100%|██████████| 901/901 [00:05<00:00, 163.87it/s]\n",
      "Training Epoch 895: 100%|██████████| 901/901 [00:05<00:00, 160.61it/s]\n",
      "Training Epoch 896: 100%|██████████| 901/901 [00:05<00:00, 160.51it/s]\n",
      "Training Epoch 897: 100%|██████████| 901/901 [00:05<00:00, 160.69it/s]\n",
      "Training Epoch 898: 100%|██████████| 901/901 [00:05<00:00, 162.36it/s]\n",
      "Training Epoch 899: 100%|██████████| 901/901 [00:05<00:00, 165.41it/s]\n",
      "Training Epoch 900: 100%|██████████| 901/901 [00:05<00:00, 162.13it/s]\n",
      "Training Epoch 901: 100%|██████████| 901/901 [00:05<00:00, 158.50it/s]\n"
     ]
    },
    {
     "name": "stdout",
     "output_type": "stream",
     "text": [
      "Epoch 900 - Train Loss: 0.2338, Train MSE: 0.2338, Train MAE: 0.3678\n",
      "Epoch 900 - Validation Loss: 0.7586, Validation MSE: 0.7586, Validation MAE: 0.6461\n"
     ]
    },
    {
     "name": "stderr",
     "output_type": "stream",
     "text": [
      "Training Epoch 902: 100%|██████████| 901/901 [00:05<00:00, 162.39it/s]\n",
      "Training Epoch 903: 100%|██████████| 901/901 [00:05<00:00, 160.36it/s]\n",
      "Training Epoch 904: 100%|██████████| 901/901 [00:05<00:00, 162.80it/s]\n",
      "Training Epoch 905: 100%|██████████| 901/901 [00:05<00:00, 165.38it/s]\n",
      "Training Epoch 906: 100%|██████████| 901/901 [00:05<00:00, 162.75it/s]\n",
      "Training Epoch 907: 100%|██████████| 901/901 [00:05<00:00, 160.71it/s]\n",
      "Training Epoch 908: 100%|██████████| 901/901 [00:05<00:00, 165.87it/s]\n",
      "Training Epoch 909: 100%|██████████| 901/901 [00:05<00:00, 159.79it/s]\n",
      "Training Epoch 910: 100%|██████████| 901/901 [00:05<00:00, 164.50it/s]\n",
      "Training Epoch 911: 100%|██████████| 901/901 [00:05<00:00, 162.29it/s]\n"
     ]
    },
    {
     "name": "stdout",
     "output_type": "stream",
     "text": [
      "Epoch 910 - Train Loss: 0.2335, Train MSE: 0.2335, Train MAE: 0.3676\n",
      "Epoch 910 - Validation Loss: 0.7557, Validation MSE: 0.7557, Validation MAE: 0.6433\n"
     ]
    },
    {
     "name": "stderr",
     "output_type": "stream",
     "text": [
      "Training Epoch 912: 100%|██████████| 901/901 [00:05<00:00, 162.00it/s]\n",
      "Training Epoch 913: 100%|██████████| 901/901 [00:05<00:00, 162.02it/s]\n",
      "Training Epoch 914: 100%|██████████| 901/901 [00:05<00:00, 157.77it/s]\n",
      "Training Epoch 915: 100%|██████████| 901/901 [00:05<00:00, 163.12it/s]\n",
      "Training Epoch 916: 100%|██████████| 901/901 [00:05<00:00, 165.05it/s]\n",
      "Training Epoch 917: 100%|██████████| 901/901 [00:05<00:00, 162.17it/s]\n",
      "Training Epoch 918: 100%|██████████| 901/901 [00:05<00:00, 160.43it/s]\n",
      "Training Epoch 919: 100%|██████████| 901/901 [00:05<00:00, 163.54it/s]\n",
      "Training Epoch 920: 100%|██████████| 901/901 [00:05<00:00, 158.52it/s]\n",
      "Training Epoch 921: 100%|██████████| 901/901 [00:05<00:00, 162.66it/s]\n"
     ]
    },
    {
     "name": "stdout",
     "output_type": "stream",
     "text": [
      "Epoch 920 - Train Loss: 0.2284, Train MSE: 0.2284, Train MAE: 0.3632\n",
      "Epoch 920 - Validation Loss: 0.7656, Validation MSE: 0.7656, Validation MAE: 0.6457\n"
     ]
    },
    {
     "name": "stderr",
     "output_type": "stream",
     "text": [
      "Training Epoch 922: 100%|██████████| 901/901 [00:05<00:00, 165.46it/s]\n",
      "Training Epoch 923: 100%|██████████| 901/901 [00:05<00:00, 160.84it/s]\n",
      "Training Epoch 924: 100%|██████████| 901/901 [00:05<00:00, 162.36it/s]\n",
      "Training Epoch 925: 100%|██████████| 901/901 [00:05<00:00, 161.06it/s]\n",
      "Training Epoch 926: 100%|██████████| 901/901 [00:05<00:00, 159.86it/s]\n",
      "Training Epoch 927: 100%|██████████| 901/901 [00:05<00:00, 168.71it/s]\n",
      "Training Epoch 928: 100%|██████████| 901/901 [00:05<00:00, 162.51it/s]\n",
      "Training Epoch 929: 100%|██████████| 901/901 [00:05<00:00, 162.94it/s]\n",
      "Training Epoch 930: 100%|██████████| 901/901 [00:05<00:00, 163.63it/s]\n",
      "Training Epoch 931: 100%|██████████| 901/901 [00:05<00:00, 157.40it/s]\n"
     ]
    },
    {
     "name": "stdout",
     "output_type": "stream",
     "text": [
      "Epoch 930 - Train Loss: 0.2308, Train MSE: 0.2308, Train MAE: 0.3650\n",
      "Epoch 930 - Validation Loss: 0.7589, Validation MSE: 0.7589, Validation MAE: 0.6443\n"
     ]
    },
    {
     "name": "stderr",
     "output_type": "stream",
     "text": [
      "Training Epoch 932: 100%|██████████| 901/901 [00:05<00:00, 161.50it/s]\n",
      "Training Epoch 933: 100%|██████████| 901/901 [00:05<00:00, 167.58it/s]\n",
      "Training Epoch 934: 100%|██████████| 901/901 [00:05<00:00, 163.34it/s]\n",
      "Training Epoch 935: 100%|██████████| 901/901 [00:05<00:00, 162.59it/s]\n",
      "Training Epoch 936: 100%|██████████| 901/901 [00:05<00:00, 162.55it/s]\n",
      "Training Epoch 937: 100%|██████████| 901/901 [00:05<00:00, 161.20it/s]\n",
      "Training Epoch 938: 100%|██████████| 901/901 [00:05<00:00, 159.77it/s]\n",
      "Training Epoch 939: 100%|██████████| 901/901 [00:05<00:00, 164.72it/s]\n",
      "Training Epoch 940: 100%|██████████| 901/901 [00:05<00:00, 161.76it/s]\n",
      "Training Epoch 941: 100%|██████████| 901/901 [00:05<00:00, 162.12it/s]\n"
     ]
    },
    {
     "name": "stdout",
     "output_type": "stream",
     "text": [
      "Epoch 940 - Train Loss: 0.2341, Train MSE: 0.2341, Train MAE: 0.3681\n",
      "Epoch 940 - Validation Loss: 0.7637, Validation MSE: 0.7637, Validation MAE: 0.6467\n"
     ]
    },
    {
     "name": "stderr",
     "output_type": "stream",
     "text": [
      "Training Epoch 942: 100%|██████████| 901/901 [00:05<00:00, 161.45it/s]\n",
      "Training Epoch 943: 100%|██████████| 901/901 [00:05<00:00, 162.74it/s]\n",
      "Training Epoch 944: 100%|██████████| 901/901 [00:05<00:00, 169.11it/s]\n",
      "Training Epoch 945: 100%|██████████| 901/901 [00:05<00:00, 162.41it/s]\n",
      "Training Epoch 946: 100%|██████████| 901/901 [00:05<00:00, 164.50it/s]\n",
      "Training Epoch 947: 100%|██████████| 901/901 [00:05<00:00, 161.91it/s]\n",
      "Training Epoch 948: 100%|██████████| 901/901 [00:05<00:00, 160.38it/s]\n",
      "Training Epoch 949: 100%|██████████| 901/901 [00:05<00:00, 159.47it/s]\n",
      "Training Epoch 950: 100%|██████████| 901/901 [00:05<00:00, 165.48it/s]\n",
      "Training Epoch 951: 100%|██████████| 901/901 [00:05<00:00, 162.19it/s]\n"
     ]
    },
    {
     "name": "stdout",
     "output_type": "stream",
     "text": [
      "Epoch 950 - Train Loss: 0.2296, Train MSE: 0.2296, Train MAE: 0.3647\n",
      "Epoch 950 - Validation Loss: 0.7647, Validation MSE: 0.7647, Validation MAE: 0.6488\n"
     ]
    },
    {
     "name": "stderr",
     "output_type": "stream",
     "text": [
      "Training Epoch 952: 100%|██████████| 901/901 [00:05<00:00, 160.89it/s]\n",
      "Training Epoch 953: 100%|██████████| 901/901 [00:05<00:00, 160.09it/s]\n",
      "Training Epoch 954: 100%|██████████| 901/901 [00:05<00:00, 160.02it/s]\n",
      "Training Epoch 955: 100%|██████████| 901/901 [00:05<00:00, 162.96it/s]\n",
      "Training Epoch 956: 100%|██████████| 901/901 [00:05<00:00, 163.83it/s]\n",
      "Training Epoch 957: 100%|██████████| 901/901 [00:05<00:00, 161.78it/s]\n",
      "Training Epoch 958: 100%|██████████| 901/901 [00:05<00:00, 162.05it/s]\n",
      "Training Epoch 959: 100%|██████████| 901/901 [00:05<00:00, 161.99it/s]\n",
      "Training Epoch 960: 100%|██████████| 901/901 [00:05<00:00, 162.24it/s]\n",
      "Training Epoch 961: 100%|██████████| 901/901 [00:05<00:00, 166.69it/s]\n"
     ]
    },
    {
     "name": "stdout",
     "output_type": "stream",
     "text": [
      "Epoch 960 - Train Loss: 0.2266, Train MSE: 0.2265, Train MAE: 0.3625\n",
      "Epoch 960 - Validation Loss: 0.7574, Validation MSE: 0.7574, Validation MAE: 0.6448\n"
     ]
    },
    {
     "name": "stderr",
     "output_type": "stream",
     "text": [
      "Training Epoch 962: 100%|██████████| 901/901 [00:05<00:00, 161.83it/s]\n",
      "Training Epoch 963: 100%|██████████| 901/901 [00:05<00:00, 161.91it/s]\n",
      "Training Epoch 964: 100%|██████████| 901/901 [00:05<00:00, 159.71it/s]\n",
      "Training Epoch 965: 100%|██████████| 901/901 [00:05<00:00, 160.86it/s]\n",
      "Training Epoch 966: 100%|██████████| 901/901 [00:05<00:00, 163.12it/s]\n",
      "Training Epoch 967: 100%|██████████| 901/901 [00:05<00:00, 164.94it/s]\n",
      "Training Epoch 968: 100%|██████████| 901/901 [00:05<00:00, 161.22it/s]\n",
      "Training Epoch 969: 100%|██████████| 901/901 [00:05<00:00, 161.49it/s]\n",
      "Training Epoch 970: 100%|██████████| 901/901 [00:05<00:00, 163.11it/s]\n",
      "Training Epoch 971: 100%|██████████| 901/901 [00:05<00:00, 160.96it/s]\n"
     ]
    },
    {
     "name": "stdout",
     "output_type": "stream",
     "text": [
      "Epoch 970 - Train Loss: 0.2307, Train MSE: 0.2307, Train MAE: 0.3650\n",
      "Epoch 970 - Validation Loss: 0.7688, Validation MSE: 0.7688, Validation MAE: 0.6492\n"
     ]
    },
    {
     "name": "stderr",
     "output_type": "stream",
     "text": [
      "Training Epoch 972: 100%|██████████| 901/901 [00:05<00:00, 161.74it/s]\n",
      "Training Epoch 973: 100%|██████████| 901/901 [00:05<00:00, 161.63it/s]\n",
      "Training Epoch 974: 100%|██████████| 901/901 [00:05<00:00, 163.03it/s]\n",
      "Training Epoch 975: 100%|██████████| 901/901 [00:05<00:00, 159.27it/s]\n",
      "Training Epoch 976: 100%|██████████| 901/901 [00:05<00:00, 160.62it/s]\n",
      "Training Epoch 977: 100%|██████████| 901/901 [00:05<00:00, 163.16it/s]\n",
      "Training Epoch 978: 100%|██████████| 901/901 [00:05<00:00, 166.55it/s]\n",
      "Training Epoch 979: 100%|██████████| 901/901 [00:05<00:00, 160.87it/s]\n",
      "Training Epoch 980: 100%|██████████| 901/901 [00:05<00:00, 161.17it/s]\n",
      "Training Epoch 981: 100%|██████████| 901/901 [00:05<00:00, 162.41it/s]\n"
     ]
    },
    {
     "name": "stdout",
     "output_type": "stream",
     "text": [
      "Epoch 980 - Train Loss: 0.2293, Train MSE: 0.2294, Train MAE: 0.3642\n",
      "Epoch 980 - Validation Loss: 0.7529, Validation MSE: 0.7529, Validation MAE: 0.6415\n"
     ]
    },
    {
     "name": "stderr",
     "output_type": "stream",
     "text": [
      "Training Epoch 982: 100%|██████████| 901/901 [00:05<00:00, 163.10it/s]\n",
      "Training Epoch 983: 100%|██████████| 901/901 [00:05<00:00, 162.79it/s]\n",
      "Training Epoch 984: 100%|██████████| 901/901 [00:05<00:00, 163.32it/s]\n",
      "Training Epoch 985: 100%|██████████| 901/901 [00:05<00:00, 161.07it/s]\n",
      "Training Epoch 986: 100%|██████████| 901/901 [00:05<00:00, 162.36it/s]\n",
      "Training Epoch 987: 100%|██████████| 901/901 [00:05<00:00, 161.93it/s]\n",
      "Training Epoch 988: 100%|██████████| 901/901 [00:05<00:00, 162.69it/s]\n",
      "Training Epoch 989: 100%|██████████| 901/901 [00:05<00:00, 161.24it/s]\n",
      "Training Epoch 990: 100%|██████████| 901/901 [00:05<00:00, 161.92it/s]\n",
      "Training Epoch 991: 100%|██████████| 901/901 [00:05<00:00, 163.33it/s]\n"
     ]
    },
    {
     "name": "stdout",
     "output_type": "stream",
     "text": [
      "Epoch 990 - Train Loss: 0.2276, Train MSE: 0.2276, Train MAE: 0.3635\n",
      "Epoch 990 - Validation Loss: 0.7632, Validation MSE: 0.7632, Validation MAE: 0.6474\n"
     ]
    },
    {
     "name": "stderr",
     "output_type": "stream",
     "text": [
      "Training Epoch 992: 100%|██████████| 901/901 [00:05<00:00, 160.46it/s]\n",
      "Training Epoch 993: 100%|██████████| 901/901 [00:05<00:00, 161.11it/s]\n",
      "Training Epoch 994: 100%|██████████| 901/901 [00:05<00:00, 162.13it/s]\n",
      "Training Epoch 995: 100%|██████████| 901/901 [00:05<00:00, 165.56it/s]\n",
      "Training Epoch 996: 100%|██████████| 901/901 [00:05<00:00, 163.08it/s]\n",
      "Training Epoch 997: 100%|██████████| 901/901 [00:05<00:00, 162.76it/s]\n",
      "Training Epoch 998: 100%|██████████| 901/901 [00:05<00:00, 159.83it/s]\n",
      "Training Epoch 999: 100%|██████████| 901/901 [00:05<00:00, 168.45it/s]\n",
      "Training Epoch 1000: 100%|██████████| 901/901 [00:05<00:00, 164.88it/s]\n",
      "Training Epoch 1001: 100%|██████████| 901/901 [00:05<00:00, 162.62it/s]\n"
     ]
    },
    {
     "name": "stdout",
     "output_type": "stream",
     "text": [
      "Epoch 1000 - Train Loss: 0.2267, Train MSE: 0.2267, Train MAE: 0.3613\n",
      "Epoch 1000 - Validation Loss: 0.7573, Validation MSE: 0.7573, Validation MAE: 0.6439\n"
     ]
    },
    {
     "name": "stderr",
     "output_type": "stream",
     "text": [
      "Training Epoch 1002: 100%|██████████| 901/901 [00:05<00:00, 160.69it/s]\n",
      "Training Epoch 1003: 100%|██████████| 901/901 [00:05<00:00, 161.32it/s]\n",
      "Training Epoch 1004: 100%|██████████| 901/901 [00:05<00:00, 160.30it/s]\n",
      "Training Epoch 1005: 100%|██████████| 901/901 [00:05<00:00, 162.18it/s]\n",
      "Training Epoch 1006: 100%|██████████| 901/901 [00:05<00:00, 165.68it/s]\n",
      "Training Epoch 1007: 100%|██████████| 901/901 [00:05<00:00, 165.68it/s]\n",
      "Training Epoch 1008: 100%|██████████| 901/901 [00:05<00:00, 160.01it/s]\n",
      "Training Epoch 1009: 100%|██████████| 901/901 [00:05<00:00, 160.44it/s]\n",
      "Training Epoch 1010: 100%|██████████| 901/901 [00:05<00:00, 162.35it/s]\n",
      "Training Epoch 1011: 100%|██████████| 901/901 [00:05<00:00, 164.17it/s]\n"
     ]
    },
    {
     "name": "stdout",
     "output_type": "stream",
     "text": [
      "Epoch 1010 - Train Loss: 0.2278, Train MSE: 0.2279, Train MAE: 0.3619\n",
      "Epoch 1010 - Validation Loss: 0.7514, Validation MSE: 0.7514, Validation MAE: 0.6412\n"
     ]
    },
    {
     "name": "stderr",
     "output_type": "stream",
     "text": [
      "Training Epoch 1012: 100%|██████████| 901/901 [00:05<00:00, 162.56it/s]\n",
      "Training Epoch 1013: 100%|██████████| 901/901 [00:05<00:00, 160.77it/s]\n",
      "Training Epoch 1014: 100%|██████████| 901/901 [00:05<00:00, 160.02it/s]\n",
      "Training Epoch 1015: 100%|██████████| 901/901 [00:05<00:00, 163.15it/s]\n",
      "Training Epoch 1016: 100%|██████████| 901/901 [00:05<00:00, 161.59it/s]\n",
      "Training Epoch 1017: 100%|██████████| 901/901 [00:05<00:00, 165.33it/s]\n",
      "Training Epoch 1018: 100%|██████████| 901/901 [00:05<00:00, 166.08it/s]\n",
      "Training Epoch 1019: 100%|██████████| 901/901 [00:05<00:00, 162.14it/s]\n",
      "Training Epoch 1020: 100%|██████████| 901/901 [00:05<00:00, 162.63it/s]\n",
      "Training Epoch 1021: 100%|██████████| 901/901 [00:05<00:00, 161.85it/s]\n"
     ]
    },
    {
     "name": "stdout",
     "output_type": "stream",
     "text": [
      "Epoch 1020 - Train Loss: 0.2281, Train MSE: 0.2282, Train MAE: 0.3625\n",
      "Epoch 1020 - Validation Loss: 0.7518, Validation MSE: 0.7518, Validation MAE: 0.6428\n"
     ]
    },
    {
     "name": "stderr",
     "output_type": "stream",
     "text": [
      "Training Epoch 1022: 100%|██████████| 901/901 [00:05<00:00, 162.27it/s]\n",
      "Training Epoch 1023: 100%|██████████| 901/901 [00:05<00:00, 160.85it/s]\n",
      "Training Epoch 1024: 100%|██████████| 901/901 [00:05<00:00, 166.22it/s]\n",
      "Training Epoch 1025: 100%|██████████| 901/901 [00:05<00:00, 162.40it/s]\n",
      "Training Epoch 1026: 100%|██████████| 901/901 [00:05<00:00, 162.66it/s]\n",
      "Training Epoch 1027: 100%|██████████| 901/901 [00:05<00:00, 163.45it/s]\n",
      "Training Epoch 1028: 100%|██████████| 901/901 [00:05<00:00, 165.59it/s]\n",
      "Training Epoch 1029: 100%|██████████| 901/901 [00:05<00:00, 159.86it/s]\n",
      "Training Epoch 1030: 100%|██████████| 901/901 [00:05<00:00, 163.31it/s]\n",
      "Training Epoch 1031: 100%|██████████| 901/901 [00:05<00:00, 161.58it/s]\n"
     ]
    },
    {
     "name": "stdout",
     "output_type": "stream",
     "text": [
      "Epoch 1030 - Train Loss: 0.2267, Train MSE: 0.2267, Train MAE: 0.3618\n",
      "Epoch 1030 - Validation Loss: 0.7632, Validation MSE: 0.7632, Validation MAE: 0.6464\n"
     ]
    },
    {
     "name": "stderr",
     "output_type": "stream",
     "text": [
      "Training Epoch 1032: 100%|██████████| 901/901 [00:05<00:00, 163.41it/s]\n",
      "Training Epoch 1033: 100%|██████████| 901/901 [00:05<00:00, 161.44it/s]\n",
      "Training Epoch 1034: 100%|██████████| 901/901 [00:05<00:00, 162.84it/s]\n",
      "Training Epoch 1035: 100%|██████████| 901/901 [00:05<00:00, 162.04it/s]\n",
      "Training Epoch 1036: 100%|██████████| 901/901 [00:05<00:00, 162.53it/s]\n",
      "Training Epoch 1037: 100%|██████████| 901/901 [00:05<00:00, 162.65it/s]\n",
      "Training Epoch 1038: 100%|██████████| 901/901 [00:05<00:00, 160.57it/s]\n",
      "Training Epoch 1039: 100%|██████████| 901/901 [00:05<00:00, 164.04it/s]\n",
      "Training Epoch 1040: 100%|██████████| 901/901 [00:05<00:00, 161.65it/s]\n",
      "Training Epoch 1041: 100%|██████████| 901/901 [00:05<00:00, 161.99it/s]\n"
     ]
    },
    {
     "name": "stdout",
     "output_type": "stream",
     "text": [
      "Epoch 1040 - Train Loss: 0.2261, Train MSE: 0.2261, Train MAE: 0.3612\n",
      "Epoch 1040 - Validation Loss: 0.7702, Validation MSE: 0.7702, Validation MAE: 0.6473\n"
     ]
    },
    {
     "name": "stderr",
     "output_type": "stream",
     "text": [
      "Training Epoch 1042: 100%|██████████| 901/901 [00:05<00:00, 160.77it/s]\n",
      "Training Epoch 1043: 100%|██████████| 901/901 [00:05<00:00, 161.67it/s]\n",
      "Training Epoch 1044: 100%|██████████| 901/901 [00:05<00:00, 163.67it/s]\n",
      "Training Epoch 1045: 100%|██████████| 901/901 [00:05<00:00, 169.92it/s]\n",
      "Training Epoch 1046: 100%|██████████| 901/901 [00:05<00:00, 161.62it/s]\n",
      "Training Epoch 1047: 100%|██████████| 901/901 [00:05<00:00, 161.17it/s]\n",
      "Training Epoch 1048: 100%|██████████| 901/901 [00:05<00:00, 160.84it/s]\n",
      "Training Epoch 1049: 100%|██████████| 901/901 [00:05<00:00, 161.22it/s]\n",
      "Training Epoch 1050: 100%|██████████| 901/901 [00:05<00:00, 163.43it/s]\n",
      "Training Epoch 1051: 100%|██████████| 901/901 [00:05<00:00, 162.38it/s]\n"
     ]
    },
    {
     "name": "stdout",
     "output_type": "stream",
     "text": [
      "Epoch 1050 - Train Loss: 0.2268, Train MSE: 0.2268, Train MAE: 0.3625\n",
      "Epoch 1050 - Validation Loss: 0.7621, Validation MSE: 0.7621, Validation MAE: 0.6469\n"
     ]
    },
    {
     "name": "stderr",
     "output_type": "stream",
     "text": [
      "Training Epoch 1052: 100%|██████████| 901/901 [00:05<00:00, 159.26it/s]\n",
      "Training Epoch 1053: 100%|██████████| 901/901 [00:05<00:00, 160.18it/s]\n",
      "Training Epoch 1054: 100%|██████████| 901/901 [00:05<00:00, 162.45it/s]\n",
      "Training Epoch 1055: 100%|██████████| 901/901 [00:05<00:00, 160.60it/s]\n",
      "Training Epoch 1056: 100%|██████████| 901/901 [00:05<00:00, 165.59it/s]\n",
      "Training Epoch 1057: 100%|██████████| 901/901 [00:05<00:00, 160.44it/s]\n",
      "Training Epoch 1058: 100%|██████████| 901/901 [00:05<00:00, 162.79it/s]\n",
      "Training Epoch 1059: 100%|██████████| 901/901 [00:05<00:00, 161.70it/s]\n",
      "Training Epoch 1060: 100%|██████████| 901/901 [00:05<00:00, 163.88it/s]\n",
      "Training Epoch 1061: 100%|██████████| 901/901 [00:05<00:00, 163.02it/s]\n"
     ]
    },
    {
     "name": "stdout",
     "output_type": "stream",
     "text": [
      "Epoch 1060 - Train Loss: 0.2249, Train MSE: 0.2248, Train MAE: 0.3610\n",
      "Epoch 1060 - Validation Loss: 0.7607, Validation MSE: 0.7607, Validation MAE: 0.6456\n"
     ]
    },
    {
     "name": "stderr",
     "output_type": "stream",
     "text": [
      "Training Epoch 1062: 100%|██████████| 901/901 [00:05<00:00, 161.21it/s]\n",
      "Training Epoch 1063: 100%|██████████| 901/901 [00:05<00:00, 163.37it/s]\n",
      "Training Epoch 1064: 100%|██████████| 901/901 [00:05<00:00, 160.14it/s]\n",
      "Training Epoch 1065: 100%|██████████| 901/901 [00:05<00:00, 162.41it/s]\n",
      "Training Epoch 1066: 100%|██████████| 901/901 [00:05<00:00, 163.57it/s]\n",
      "Training Epoch 1067: 100%|██████████| 901/901 [00:05<00:00, 165.30it/s]\n",
      "Training Epoch 1068: 100%|██████████| 901/901 [00:05<00:00, 163.41it/s]\n",
      "Training Epoch 1069: 100%|██████████| 901/901 [00:05<00:00, 161.97it/s]\n",
      "Training Epoch 1070: 100%|██████████| 901/901 [00:05<00:00, 163.36it/s]\n",
      "Training Epoch 1071: 100%|██████████| 901/901 [00:05<00:00, 164.27it/s]\n"
     ]
    },
    {
     "name": "stdout",
     "output_type": "stream",
     "text": [
      "Epoch 1070 - Train Loss: 0.2223, Train MSE: 0.2223, Train MAE: 0.3588\n",
      "Epoch 1070 - Validation Loss: 0.7588, Validation MSE: 0.7588, Validation MAE: 0.6453\n"
     ]
    },
    {
     "name": "stderr",
     "output_type": "stream",
     "text": [
      "Training Epoch 1072: 100%|██████████| 901/901 [00:05<00:00, 161.85it/s]\n",
      "Training Epoch 1073: 100%|██████████| 901/901 [00:05<00:00, 162.87it/s]\n",
      "Training Epoch 1074: 100%|██████████| 901/901 [00:05<00:00, 164.86it/s]\n",
      "Training Epoch 1075: 100%|██████████| 901/901 [00:05<00:00, 162.61it/s]\n",
      "Training Epoch 1076: 100%|██████████| 901/901 [00:05<00:00, 162.19it/s]\n",
      "Training Epoch 1077: 100%|██████████| 901/901 [00:05<00:00, 159.88it/s]\n",
      "Training Epoch 1078: 100%|██████████| 901/901 [00:05<00:00, 164.99it/s]\n",
      "Training Epoch 1079: 100%|██████████| 901/901 [00:05<00:00, 162.68it/s]\n",
      "Training Epoch 1080: 100%|██████████| 901/901 [00:05<00:00, 159.49it/s]\n",
      "Training Epoch 1081: 100%|██████████| 901/901 [00:05<00:00, 164.66it/s]\n"
     ]
    },
    {
     "name": "stdout",
     "output_type": "stream",
     "text": [
      "Epoch 1080 - Train Loss: 0.2192, Train MSE: 0.2192, Train MAE: 0.3561\n",
      "Epoch 1080 - Validation Loss: 0.7552, Validation MSE: 0.7552, Validation MAE: 0.6418\n"
     ]
    },
    {
     "name": "stderr",
     "output_type": "stream",
     "text": [
      "Training Epoch 1082: 100%|██████████| 901/901 [00:05<00:00, 160.36it/s]\n",
      "Training Epoch 1083: 100%|██████████| 901/901 [00:05<00:00, 161.72it/s]\n",
      "Training Epoch 1084: 100%|██████████| 901/901 [00:05<00:00, 167.95it/s]\n",
      "Training Epoch 1085: 100%|██████████| 901/901 [00:05<00:00, 162.43it/s]\n",
      "Training Epoch 1086: 100%|██████████| 901/901 [00:05<00:00, 160.47it/s]\n",
      "Training Epoch 1087: 100%|██████████| 901/901 [00:05<00:00, 160.94it/s]\n",
      "Training Epoch 1088: 100%|██████████| 901/901 [00:05<00:00, 163.15it/s]\n",
      "Training Epoch 1089: 100%|██████████| 901/901 [00:05<00:00, 164.12it/s]\n",
      "Training Epoch 1090: 100%|██████████| 901/901 [00:05<00:00, 163.59it/s]\n",
      "Training Epoch 1091: 100%|██████████| 901/901 [00:05<00:00, 162.72it/s]\n"
     ]
    },
    {
     "name": "stdout",
     "output_type": "stream",
     "text": [
      "Epoch 1090 - Train Loss: 0.2211, Train MSE: 0.2211, Train MAE: 0.3578\n",
      "Epoch 1090 - Validation Loss: 0.7536, Validation MSE: 0.7536, Validation MAE: 0.6416\n"
     ]
    },
    {
     "name": "stderr",
     "output_type": "stream",
     "text": [
      "Training Epoch 1092: 100%|██████████| 901/901 [00:05<00:00, 162.58it/s]\n",
      "Training Epoch 1093: 100%|██████████| 901/901 [00:05<00:00, 161.97it/s]\n",
      "Training Epoch 1094: 100%|██████████| 901/901 [00:05<00:00, 158.13it/s]\n",
      "Training Epoch 1095: 100%|██████████| 901/901 [00:05<00:00, 167.05it/s]\n",
      "Training Epoch 1096: 100%|██████████| 901/901 [00:05<00:00, 161.25it/s]\n",
      "Training Epoch 1097: 100%|██████████| 901/901 [00:05<00:00, 161.81it/s]\n",
      "Training Epoch 1098: 100%|██████████| 901/901 [00:05<00:00, 162.95it/s]\n",
      "Training Epoch 1099: 100%|██████████| 901/901 [00:05<00:00, 160.99it/s]\n",
      "Training Epoch 1100: 100%|██████████| 901/901 [00:05<00:00, 163.81it/s]\n",
      "Training Epoch 1101: 100%|██████████| 901/901 [00:05<00:00, 161.71it/s]\n"
     ]
    },
    {
     "name": "stdout",
     "output_type": "stream",
     "text": [
      "Epoch 1100 - Train Loss: 0.2228, Train MSE: 0.2228, Train MAE: 0.3579\n",
      "Epoch 1100 - Validation Loss: 0.7591, Validation MSE: 0.7591, Validation MAE: 0.6412\n"
     ]
    },
    {
     "name": "stderr",
     "output_type": "stream",
     "text": [
      "Training Epoch 1102: 100%|██████████| 901/901 [00:05<00:00, 163.15it/s]\n",
      "Training Epoch 1103: 100%|██████████| 901/901 [00:05<00:00, 162.87it/s]\n",
      "Training Epoch 1104: 100%|██████████| 901/901 [00:05<00:00, 162.36it/s]\n",
      "Training Epoch 1105: 100%|██████████| 901/901 [00:05<00:00, 161.72it/s]\n",
      "Training Epoch 1106: 100%|██████████| 901/901 [00:05<00:00, 165.14it/s]\n",
      "Training Epoch 1107: 100%|██████████| 901/901 [00:05<00:00, 162.32it/s]\n",
      "Training Epoch 1108: 100%|██████████| 901/901 [00:05<00:00, 160.56it/s]\n",
      "Training Epoch 1109: 100%|██████████| 901/901 [00:05<00:00, 161.82it/s]\n",
      "Training Epoch 1110: 100%|██████████| 901/901 [00:05<00:00, 158.11it/s]\n",
      "Training Epoch 1111: 100%|██████████| 901/901 [00:05<00:00, 162.98it/s]\n"
     ]
    },
    {
     "name": "stdout",
     "output_type": "stream",
     "text": [
      "Epoch 1110 - Train Loss: 0.2189, Train MSE: 0.2189, Train MAE: 0.3561\n",
      "Epoch 1110 - Validation Loss: 0.7664, Validation MSE: 0.7664, Validation MAE: 0.6463\n"
     ]
    },
    {
     "name": "stderr",
     "output_type": "stream",
     "text": [
      "Training Epoch 1112: 100%|██████████| 901/901 [00:05<00:00, 163.18it/s]\n",
      "Training Epoch 1113: 100%|██████████| 901/901 [00:05<00:00, 161.59it/s]\n",
      "Training Epoch 1114: 100%|██████████| 901/901 [00:05<00:00, 161.50it/s]\n",
      "Training Epoch 1115: 100%|██████████| 901/901 [00:05<00:00, 162.26it/s]\n",
      "Training Epoch 1116: 100%|██████████| 901/901 [00:05<00:00, 160.08it/s]\n",
      "Training Epoch 1117: 100%|██████████| 901/901 [00:05<00:00, 168.77it/s]\n",
      "Training Epoch 1118: 100%|██████████| 901/901 [00:05<00:00, 162.48it/s]\n",
      "Training Epoch 1119: 100%|██████████| 901/901 [00:05<00:00, 163.36it/s]\n",
      "Training Epoch 1120: 100%|██████████| 901/901 [00:05<00:00, 162.43it/s]\n",
      "Training Epoch 1121: 100%|██████████| 901/901 [00:05<00:00, 160.87it/s]\n"
     ]
    },
    {
     "name": "stdout",
     "output_type": "stream",
     "text": [
      "Epoch 1120 - Train Loss: 0.2207, Train MSE: 0.2207, Train MAE: 0.3570\n",
      "Epoch 1120 - Validation Loss: 0.7491, Validation MSE: 0.7491, Validation MAE: 0.6390\n"
     ]
    },
    {
     "name": "stderr",
     "output_type": "stream",
     "text": [
      "Training Epoch 1122: 100%|██████████| 901/901 [00:05<00:00, 161.23it/s]\n",
      "Training Epoch 1123: 100%|██████████| 901/901 [00:05<00:00, 163.49it/s]\n",
      "Training Epoch 1124: 100%|██████████| 901/901 [00:05<00:00, 161.54it/s]\n",
      "Training Epoch 1125: 100%|██████████| 901/901 [00:05<00:00, 163.26it/s]\n",
      "Training Epoch 1126: 100%|██████████| 901/901 [00:05<00:00, 161.69it/s]\n",
      "Training Epoch 1127: 100%|██████████| 901/901 [00:05<00:00, 162.82it/s]\n",
      "Training Epoch 1128: 100%|██████████| 901/901 [00:05<00:00, 167.16it/s]\n",
      "Training Epoch 1129: 100%|██████████| 901/901 [00:05<00:00, 163.59it/s]\n",
      "Training Epoch 1130: 100%|██████████| 901/901 [00:05<00:00, 161.39it/s]\n",
      "Training Epoch 1131: 100%|██████████| 901/901 [00:05<00:00, 159.61it/s]\n"
     ]
    },
    {
     "name": "stdout",
     "output_type": "stream",
     "text": [
      "Epoch 1130 - Train Loss: 0.2194, Train MSE: 0.2193, Train MAE: 0.3562\n",
      "Epoch 1130 - Validation Loss: 0.7626, Validation MSE: 0.7626, Validation MAE: 0.6468\n"
     ]
    },
    {
     "name": "stderr",
     "output_type": "stream",
     "text": [
      "Training Epoch 1132: 100%|██████████| 901/901 [00:05<00:00, 163.72it/s]\n",
      "Training Epoch 1133: 100%|██████████| 901/901 [00:05<00:00, 161.09it/s]\n",
      "Training Epoch 1134: 100%|██████████| 901/901 [00:05<00:00, 164.05it/s]\n",
      "Training Epoch 1135: 100%|██████████| 901/901 [00:05<00:00, 162.01it/s]\n",
      "Training Epoch 1136: 100%|██████████| 901/901 [00:05<00:00, 164.19it/s]\n",
      "Training Epoch 1137: 100%|██████████| 901/901 [00:05<00:00, 163.79it/s]\n",
      "Training Epoch 1138: 100%|██████████| 901/901 [00:05<00:00, 162.38it/s]\n",
      "Training Epoch 1139: 100%|██████████| 901/901 [00:05<00:00, 159.72it/s]\n",
      "Training Epoch 1140: 100%|██████████| 901/901 [00:05<00:00, 164.89it/s]\n",
      "Training Epoch 1141: 100%|██████████| 901/901 [00:05<00:00, 163.59it/s]\n"
     ]
    },
    {
     "name": "stdout",
     "output_type": "stream",
     "text": [
      "Epoch 1140 - Train Loss: 0.2198, Train MSE: 0.2197, Train MAE: 0.3562\n",
      "Epoch 1140 - Validation Loss: 0.7527, Validation MSE: 0.7527, Validation MAE: 0.6390\n"
     ]
    },
    {
     "name": "stderr",
     "output_type": "stream",
     "text": [
      "Training Epoch 1142: 100%|██████████| 901/901 [00:05<00:00, 161.32it/s]\n",
      "Training Epoch 1143: 100%|██████████| 901/901 [00:05<00:00, 159.91it/s]\n",
      "Training Epoch 1144: 100%|██████████| 901/901 [00:05<00:00, 160.93it/s]\n",
      "Training Epoch 1145: 100%|██████████| 901/901 [00:05<00:00, 165.34it/s]\n",
      "Training Epoch 1146: 100%|██████████| 901/901 [00:05<00:00, 162.48it/s]\n",
      "Training Epoch 1147: 100%|██████████| 901/901 [00:05<00:00, 161.71it/s]\n",
      "Training Epoch 1148: 100%|██████████| 901/901 [00:05<00:00, 162.79it/s]\n",
      "Training Epoch 1149: 100%|██████████| 901/901 [00:05<00:00, 162.21it/s]\n",
      "Training Epoch 1150: 100%|██████████| 901/901 [00:05<00:00, 161.63it/s]\n",
      "Training Epoch 1151: 100%|██████████| 901/901 [00:05<00:00, 165.99it/s]\n"
     ]
    },
    {
     "name": "stdout",
     "output_type": "stream",
     "text": [
      "Epoch 1150 - Train Loss: 0.2180, Train MSE: 0.2181, Train MAE: 0.3547\n",
      "Epoch 1150 - Validation Loss: 0.7612, Validation MSE: 0.7612, Validation MAE: 0.6438\n"
     ]
    },
    {
     "name": "stderr",
     "output_type": "stream",
     "text": [
      "Training Epoch 1152: 100%|██████████| 901/901 [00:05<00:00, 160.10it/s]\n",
      "Training Epoch 1153: 100%|██████████| 901/901 [00:05<00:00, 162.24it/s]\n",
      "Training Epoch 1154: 100%|██████████| 901/901 [00:05<00:00, 164.80it/s]\n",
      "Training Epoch 1155: 100%|██████████| 901/901 [00:05<00:00, 162.07it/s]\n",
      "Training Epoch 1156: 100%|██████████| 901/901 [00:05<00:00, 165.75it/s]\n",
      "Training Epoch 1157: 100%|██████████| 901/901 [00:05<00:00, 169.18it/s]\n",
      "Training Epoch 1158: 100%|██████████| 901/901 [00:05<00:00, 160.19it/s]\n",
      "Training Epoch 1159: 100%|██████████| 901/901 [00:05<00:00, 161.63it/s]\n",
      "Training Epoch 1160: 100%|██████████| 901/901 [00:05<00:00, 162.72it/s]\n",
      "Training Epoch 1161: 100%|██████████| 901/901 [00:05<00:00, 164.96it/s]\n"
     ]
    },
    {
     "name": "stdout",
     "output_type": "stream",
     "text": [
      "Epoch 1160 - Train Loss: 0.2199, Train MSE: 0.2199, Train MAE: 0.3558\n",
      "Epoch 1160 - Validation Loss: 0.7595, Validation MSE: 0.7595, Validation MAE: 0.6452\n"
     ]
    },
    {
     "name": "stderr",
     "output_type": "stream",
     "text": [
      "Training Epoch 1162: 100%|██████████| 901/901 [00:05<00:00, 158.67it/s]\n",
      "Training Epoch 1163: 100%|██████████| 901/901 [00:05<00:00, 161.64it/s]\n",
      "Training Epoch 1164: 100%|██████████| 901/901 [00:05<00:00, 160.73it/s]\n",
      "Training Epoch 1165: 100%|██████████| 901/901 [00:05<00:00, 159.88it/s]\n",
      "Training Epoch 1166: 100%|██████████| 901/901 [00:05<00:00, 162.07it/s]\n",
      "Training Epoch 1167: 100%|██████████| 901/901 [00:05<00:00, 164.55it/s]\n",
      "Training Epoch 1168: 100%|██████████| 901/901 [00:05<00:00, 161.26it/s]\n",
      "Training Epoch 1169: 100%|██████████| 901/901 [00:05<00:00, 160.72it/s]\n",
      "Training Epoch 1170: 100%|██████████| 901/901 [00:05<00:00, 162.08it/s]\n",
      "Training Epoch 1171: 100%|██████████| 901/901 [00:05<00:00, 160.63it/s]\n"
     ]
    },
    {
     "name": "stdout",
     "output_type": "stream",
     "text": [
      "Epoch 1170 - Train Loss: 0.2184, Train MSE: 0.2185, Train MAE: 0.3548\n",
      "Epoch 1170 - Validation Loss: 0.7622, Validation MSE: 0.7622, Validation MAE: 0.6455\n"
     ]
    },
    {
     "name": "stderr",
     "output_type": "stream",
     "text": [
      "Training Epoch 1172: 100%|██████████| 901/901 [00:05<00:00, 164.15it/s]\n",
      "Training Epoch 1173: 100%|██████████| 901/901 [00:05<00:00, 166.03it/s]\n",
      "Training Epoch 1174: 100%|██████████| 901/901 [00:05<00:00, 164.99it/s]\n",
      "Training Epoch 1175: 100%|██████████| 901/901 [00:05<00:00, 163.31it/s]\n",
      "Training Epoch 1176: 100%|██████████| 901/901 [00:05<00:00, 163.10it/s]\n",
      "Training Epoch 1177: 100%|██████████| 901/901 [00:05<00:00, 161.45it/s]\n",
      "Training Epoch 1178: 100%|██████████| 901/901 [00:05<00:00, 166.15it/s]\n",
      "Training Epoch 1179: 100%|██████████| 901/901 [00:05<00:00, 163.68it/s]\n",
      "Training Epoch 1180: 100%|██████████| 901/901 [00:05<00:00, 159.89it/s]\n",
      "Training Epoch 1181: 100%|██████████| 901/901 [00:05<00:00, 162.03it/s]\n"
     ]
    },
    {
     "name": "stdout",
     "output_type": "stream",
     "text": [
      "Epoch 1180 - Train Loss: 0.2147, Train MSE: 0.2147, Train MAE: 0.3510\n",
      "Epoch 1180 - Validation Loss: 0.7519, Validation MSE: 0.7519, Validation MAE: 0.6399\n"
     ]
    },
    {
     "name": "stderr",
     "output_type": "stream",
     "text": [
      "Training Epoch 1182: 100%|██████████| 901/901 [00:05<00:00, 159.61it/s]\n",
      "Training Epoch 1183: 100%|██████████| 901/901 [00:05<00:00, 160.47it/s]\n",
      "Training Epoch 1184: 100%|██████████| 901/901 [00:05<00:00, 165.38it/s]\n",
      "Training Epoch 1185: 100%|██████████| 901/901 [00:05<00:00, 160.77it/s]\n",
      "Training Epoch 1186: 100%|██████████| 901/901 [00:05<00:00, 162.60it/s]\n",
      "Training Epoch 1187: 100%|██████████| 901/901 [00:05<00:00, 160.56it/s]\n",
      "Training Epoch 1188: 100%|██████████| 901/901 [00:05<00:00, 160.49it/s]\n",
      "Training Epoch 1189: 100%|██████████| 901/901 [00:05<00:00, 162.95it/s]\n",
      "Training Epoch 1190: 100%|██████████| 901/901 [00:05<00:00, 164.15it/s]\n",
      "Training Epoch 1191: 100%|██████████| 901/901 [00:05<00:00, 161.40it/s]\n"
     ]
    },
    {
     "name": "stdout",
     "output_type": "stream",
     "text": [
      "Epoch 1190 - Train Loss: 0.2121, Train MSE: 0.2121, Train MAE: 0.3504\n",
      "Epoch 1190 - Validation Loss: 0.7644, Validation MSE: 0.7644, Validation MAE: 0.6477\n"
     ]
    },
    {
     "name": "stderr",
     "output_type": "stream",
     "text": [
      "Training Epoch 1192: 100%|██████████| 901/901 [00:05<00:00, 159.56it/s]\n",
      "Training Epoch 1193: 100%|██████████| 901/901 [00:05<00:00, 161.57it/s]\n",
      "Training Epoch 1194: 100%|██████████| 901/901 [00:05<00:00, 161.66it/s]\n",
      "Training Epoch 1195: 100%|██████████| 901/901 [00:05<00:00, 170.08it/s]\n",
      "Training Epoch 1196: 100%|██████████| 901/901 [00:05<00:00, 165.73it/s]\n",
      "Training Epoch 1197: 100%|██████████| 901/901 [00:05<00:00, 166.78it/s]\n",
      "Training Epoch 1198: 100%|██████████| 901/901 [00:05<00:00, 162.12it/s]\n",
      "Training Epoch 1199: 100%|██████████| 901/901 [00:05<00:00, 164.04it/s]\n",
      "Training Epoch 1200: 100%|██████████| 901/901 [00:05<00:00, 162.34it/s]\n",
      "Training Epoch 1201: 100%|██████████| 901/901 [00:05<00:00, 163.57it/s]\n"
     ]
    },
    {
     "name": "stdout",
     "output_type": "stream",
     "text": [
      "Epoch 1200 - Train Loss: 0.2167, Train MSE: 0.2167, Train MAE: 0.3534\n",
      "Epoch 1200 - Validation Loss: 0.7611, Validation MSE: 0.7611, Validation MAE: 0.6455\n"
     ]
    },
    {
     "name": "stderr",
     "output_type": "stream",
     "text": [
      "Training Epoch 1202: 100%|██████████| 901/901 [00:05<00:00, 159.51it/s]\n",
      "Training Epoch 1203: 100%|██████████| 901/901 [00:05<00:00, 161.22it/s]\n",
      "Training Epoch 1204: 100%|██████████| 901/901 [00:05<00:00, 159.21it/s]\n",
      "Training Epoch 1205: 100%|██████████| 901/901 [00:05<00:00, 164.45it/s]\n",
      "Training Epoch 1206: 100%|██████████| 901/901 [00:05<00:00, 165.10it/s]\n",
      "Training Epoch 1207: 100%|██████████| 901/901 [00:05<00:00, 162.19it/s]\n",
      "Training Epoch 1208: 100%|██████████| 901/901 [00:05<00:00, 162.16it/s]\n",
      "Training Epoch 1209: 100%|██████████| 901/901 [00:05<00:00, 161.47it/s]\n",
      "Training Epoch 1210: 100%|██████████| 901/901 [00:05<00:00, 162.73it/s]\n",
      "Training Epoch 1211: 100%|██████████| 901/901 [00:05<00:00, 160.56it/s]\n"
     ]
    },
    {
     "name": "stdout",
     "output_type": "stream",
     "text": [
      "Epoch 1210 - Train Loss: 0.2177, Train MSE: 0.2177, Train MAE: 0.3535\n",
      "Epoch 1210 - Validation Loss: 0.7689, Validation MSE: 0.7689, Validation MAE: 0.6451\n"
     ]
    },
    {
     "name": "stderr",
     "output_type": "stream",
     "text": [
      "Training Epoch 1212: 100%|██████████| 901/901 [00:05<00:00, 164.32it/s]\n",
      "Training Epoch 1213: 100%|██████████| 901/901 [00:05<00:00, 159.36it/s]\n",
      "Training Epoch 1214: 100%|██████████| 901/901 [00:05<00:00, 161.19it/s]\n",
      "Training Epoch 1215: 100%|██████████| 901/901 [00:05<00:00, 161.44it/s]\n",
      "Training Epoch 1216: 100%|██████████| 901/901 [00:05<00:00, 162.49it/s]\n",
      "Training Epoch 1217: 100%|██████████| 901/901 [00:05<00:00, 161.63it/s]\n",
      "Training Epoch 1218: 100%|██████████| 901/901 [00:05<00:00, 161.64it/s]\n",
      "Training Epoch 1219: 100%|██████████| 901/901 [00:05<00:00, 162.08it/s]\n",
      "Training Epoch 1220: 100%|██████████| 901/901 [00:05<00:00, 161.22it/s]\n",
      "Training Epoch 1221: 100%|██████████| 901/901 [00:05<00:00, 163.48it/s]\n"
     ]
    },
    {
     "name": "stdout",
     "output_type": "stream",
     "text": [
      "Epoch 1220 - Train Loss: 0.2118, Train MSE: 0.2118, Train MAE: 0.3504\n",
      "Epoch 1220 - Validation Loss: 0.7536, Validation MSE: 0.7536, Validation MAE: 0.6400\n"
     ]
    },
    {
     "name": "stderr",
     "output_type": "stream",
     "text": [
      "Training Epoch 1222: 100%|██████████| 901/901 [00:05<00:00, 161.95it/s]\n",
      "Training Epoch 1223: 100%|██████████| 901/901 [00:05<00:00, 164.83it/s]\n",
      "Training Epoch 1224: 100%|██████████| 901/901 [00:05<00:00, 161.19it/s]\n",
      "Training Epoch 1225: 100%|██████████| 901/901 [00:05<00:00, 160.05it/s]\n",
      "Training Epoch 1226: 100%|██████████| 901/901 [00:05<00:00, 161.41it/s]\n",
      "Training Epoch 1227: 100%|██████████| 901/901 [00:05<00:00, 161.38it/s]\n",
      "Training Epoch 1228: 100%|██████████| 901/901 [00:05<00:00, 164.41it/s]\n",
      "Training Epoch 1229: 100%|██████████| 901/901 [00:05<00:00, 162.56it/s]\n",
      "Training Epoch 1230: 100%|██████████| 901/901 [00:05<00:00, 163.03it/s]\n",
      "Training Epoch 1231: 100%|██████████| 901/901 [00:05<00:00, 160.26it/s]\n"
     ]
    },
    {
     "name": "stdout",
     "output_type": "stream",
     "text": [
      "Epoch 1230 - Train Loss: 0.2127, Train MSE: 0.2127, Train MAE: 0.3499\n",
      "Epoch 1230 - Validation Loss: 0.7552, Validation MSE: 0.7552, Validation MAE: 0.6405\n"
     ]
    },
    {
     "name": "stderr",
     "output_type": "stream",
     "text": [
      "Training Epoch 1232: 100%|██████████| 901/901 [00:05<00:00, 163.94it/s]\n",
      "Training Epoch 1233: 100%|██████████| 901/901 [00:05<00:00, 163.02it/s]\n",
      "Training Epoch 1234: 100%|██████████| 901/901 [00:05<00:00, 165.41it/s]\n",
      "Training Epoch 1235: 100%|██████████| 901/901 [00:05<00:00, 159.19it/s]\n",
      "Training Epoch 1236: 100%|██████████| 901/901 [00:05<00:00, 163.80it/s]\n",
      "Training Epoch 1237: 100%|██████████| 901/901 [00:05<00:00, 161.77it/s]\n",
      "Training Epoch 1238: 100%|██████████| 901/901 [00:05<00:00, 162.02it/s]\n",
      "Training Epoch 1239: 100%|██████████| 901/901 [00:05<00:00, 159.87it/s]\n",
      "Training Epoch 1240: 100%|██████████| 901/901 [00:05<00:00, 165.43it/s]\n",
      "Training Epoch 1241: 100%|██████████| 901/901 [00:05<00:00, 162.16it/s]\n"
     ]
    },
    {
     "name": "stdout",
     "output_type": "stream",
     "text": [
      "Epoch 1240 - Train Loss: 0.2120, Train MSE: 0.2120, Train MAE: 0.3506\n",
      "Epoch 1240 - Validation Loss: 0.7654, Validation MSE: 0.7654, Validation MAE: 0.6447\n"
     ]
    },
    {
     "name": "stderr",
     "output_type": "stream",
     "text": [
      "Training Epoch 1242: 100%|██████████| 901/901 [00:05<00:00, 161.58it/s]\n",
      "Training Epoch 1243: 100%|██████████| 901/901 [00:05<00:00, 161.26it/s]\n",
      "Training Epoch 1244: 100%|██████████| 901/901 [00:05<00:00, 159.93it/s]\n",
      "Training Epoch 1245: 100%|██████████| 901/901 [00:05<00:00, 163.84it/s]\n",
      "Training Epoch 1246: 100%|██████████| 901/901 [00:05<00:00, 160.30it/s]\n",
      "Training Epoch 1247: 100%|██████████| 901/901 [00:05<00:00, 161.11it/s]\n",
      "Training Epoch 1248: 100%|██████████| 901/901 [00:05<00:00, 160.68it/s]\n",
      "Training Epoch 1249: 100%|██████████| 901/901 [00:05<00:00, 162.60it/s]\n",
      "Training Epoch 1250: 100%|██████████| 901/901 [00:05<00:00, 161.47it/s]\n",
      "Training Epoch 1251: 100%|██████████| 901/901 [00:05<00:00, 165.51it/s]\n"
     ]
    },
    {
     "name": "stdout",
     "output_type": "stream",
     "text": [
      "Epoch 1250 - Train Loss: 0.2128, Train MSE: 0.2128, Train MAE: 0.3513\n",
      "Epoch 1250 - Validation Loss: 0.7628, Validation MSE: 0.7628, Validation MAE: 0.6460\n"
     ]
    },
    {
     "name": "stderr",
     "output_type": "stream",
     "text": [
      "Training Epoch 1252: 100%|██████████| 901/901 [00:05<00:00, 159.79it/s]\n",
      "Training Epoch 1253: 100%|██████████| 901/901 [00:05<00:00, 162.91it/s]\n",
      "Training Epoch 1254: 100%|██████████| 901/901 [00:05<00:00, 161.07it/s]\n",
      "Training Epoch 1255: 100%|██████████| 901/901 [00:05<00:00, 159.63it/s]\n",
      "Training Epoch 1256: 100%|██████████| 901/901 [00:05<00:00, 164.43it/s]\n",
      "Training Epoch 1257: 100%|██████████| 901/901 [00:05<00:00, 159.92it/s]\n",
      "Training Epoch 1258: 100%|██████████| 901/901 [00:05<00:00, 161.63it/s]\n",
      "Training Epoch 1259: 100%|██████████| 901/901 [00:05<00:00, 162.16it/s]\n",
      "Training Epoch 1260: 100%|██████████| 901/901 [00:05<00:00, 162.70it/s]\n",
      "Training Epoch 1261: 100%|██████████| 901/901 [00:05<00:00, 162.12it/s]\n"
     ]
    },
    {
     "name": "stdout",
     "output_type": "stream",
     "text": [
      "Epoch 1260 - Train Loss: 0.2132, Train MSE: 0.2132, Train MAE: 0.3510\n",
      "Epoch 1260 - Validation Loss: 0.7531, Validation MSE: 0.7531, Validation MAE: 0.6415\n"
     ]
    },
    {
     "name": "stderr",
     "output_type": "stream",
     "text": [
      "Training Epoch 1262: 100%|██████████| 901/901 [00:05<00:00, 164.68it/s]\n",
      "Training Epoch 1263: 100%|██████████| 901/901 [00:05<00:00, 163.17it/s]\n",
      "Training Epoch 1264: 100%|██████████| 901/901 [00:05<00:00, 161.67it/s]\n",
      "Training Epoch 1265: 100%|██████████| 901/901 [00:05<00:00, 163.25it/s]\n",
      "Training Epoch 1266: 100%|██████████| 901/901 [00:05<00:00, 160.08it/s]\n",
      "Training Epoch 1267: 100%|██████████| 901/901 [00:05<00:00, 162.07it/s]\n",
      "Training Epoch 1268: 100%|██████████| 901/901 [00:05<00:00, 162.89it/s]\n",
      "Training Epoch 1269: 100%|██████████| 901/901 [00:05<00:00, 163.76it/s]\n",
      "Training Epoch 1270: 100%|██████████| 901/901 [00:05<00:00, 163.16it/s]\n",
      "Training Epoch 1271: 100%|██████████| 901/901 [00:05<00:00, 162.45it/s]\n"
     ]
    },
    {
     "name": "stdout",
     "output_type": "stream",
     "text": [
      "Epoch 1270 - Train Loss: 0.2126, Train MSE: 0.2126, Train MAE: 0.3512\n",
      "Epoch 1270 - Validation Loss: 0.7637, Validation MSE: 0.7637, Validation MAE: 0.6450\n"
     ]
    },
    {
     "name": "stderr",
     "output_type": "stream",
     "text": [
      "Training Epoch 1272: 100%|██████████| 901/901 [00:05<00:00, 161.06it/s]\n",
      "Training Epoch 1273: 100%|██████████| 901/901 [00:05<00:00, 163.89it/s]\n",
      "Training Epoch 1274: 100%|██████████| 901/901 [00:05<00:00, 161.83it/s]\n",
      "Training Epoch 1275: 100%|██████████| 901/901 [00:05<00:00, 161.78it/s]\n",
      "Training Epoch 1276: 100%|██████████| 901/901 [00:05<00:00, 164.22it/s]\n",
      "Training Epoch 1277: 100%|██████████| 901/901 [00:05<00:00, 160.33it/s]\n",
      "Training Epoch 1278: 100%|██████████| 901/901 [00:05<00:00, 163.27it/s]\n",
      "Training Epoch 1279: 100%|██████████| 901/901 [00:05<00:00, 162.99it/s]\n",
      "Training Epoch 1280: 100%|██████████| 901/901 [00:05<00:00, 163.61it/s]\n",
      "Training Epoch 1281: 100%|██████████| 901/901 [00:05<00:00, 163.06it/s]\n"
     ]
    },
    {
     "name": "stdout",
     "output_type": "stream",
     "text": [
      "Epoch 1280 - Train Loss: 0.2128, Train MSE: 0.2128, Train MAE: 0.3512\n",
      "Epoch 1280 - Validation Loss: 0.7507, Validation MSE: 0.7507, Validation MAE: 0.6404\n"
     ]
    },
    {
     "name": "stderr",
     "output_type": "stream",
     "text": [
      "Training Epoch 1282: 100%|██████████| 901/901 [00:05<00:00, 164.13it/s]\n",
      "Training Epoch 1283: 100%|██████████| 901/901 [00:05<00:00, 162.09it/s]\n",
      "Training Epoch 1284: 100%|██████████| 901/901 [00:05<00:00, 165.83it/s]\n",
      "Training Epoch 1285: 100%|██████████| 901/901 [00:05<00:00, 163.72it/s]\n",
      "Training Epoch 1286: 100%|██████████| 901/901 [00:05<00:00, 162.27it/s]\n",
      "Training Epoch 1287: 100%|██████████| 901/901 [00:05<00:00, 164.13it/s]\n",
      "Training Epoch 1288: 100%|██████████| 901/901 [00:05<00:00, 160.03it/s]\n",
      "Training Epoch 1289: 100%|██████████| 901/901 [00:05<00:00, 163.65it/s]\n",
      "Training Epoch 1290: 100%|██████████| 901/901 [00:05<00:00, 167.59it/s]\n",
      "Training Epoch 1291: 100%|██████████| 901/901 [00:05<00:00, 162.91it/s]\n"
     ]
    },
    {
     "name": "stdout",
     "output_type": "stream",
     "text": [
      "Epoch 1290 - Train Loss: 0.2105, Train MSE: 0.2104, Train MAE: 0.3494\n",
      "Epoch 1290 - Validation Loss: 0.7536, Validation MSE: 0.7536, Validation MAE: 0.6381\n"
     ]
    },
    {
     "name": "stderr",
     "output_type": "stream",
     "text": [
      "Training Epoch 1292: 100%|██████████| 901/901 [00:05<00:00, 165.87it/s]\n",
      "Training Epoch 1293: 100%|██████████| 901/901 [00:05<00:00, 163.48it/s]\n",
      "Training Epoch 1294: 100%|██████████| 901/901 [00:05<00:00, 160.71it/s]\n",
      "Training Epoch 1295: 100%|██████████| 901/901 [00:05<00:00, 166.11it/s]\n",
      "Training Epoch 1296: 100%|██████████| 901/901 [00:05<00:00, 164.30it/s]\n",
      "Training Epoch 1297: 100%|██████████| 901/901 [00:05<00:00, 164.14it/s]\n",
      "Training Epoch 1298: 100%|██████████| 901/901 [00:05<00:00, 165.32it/s]\n",
      "Training Epoch 1299: 100%|██████████| 901/901 [00:05<00:00, 162.49it/s]\n",
      "Training Epoch 1300: 100%|██████████| 901/901 [00:05<00:00, 164.29it/s]\n",
      "Training Epoch 1301: 100%|██████████| 901/901 [00:05<00:00, 168.19it/s]\n"
     ]
    },
    {
     "name": "stdout",
     "output_type": "stream",
     "text": [
      "Epoch 1300 - Train Loss: 0.2109, Train MSE: 0.2109, Train MAE: 0.3480\n",
      "Epoch 1300 - Validation Loss: 0.7572, Validation MSE: 0.7572, Validation MAE: 0.6425\n"
     ]
    },
    {
     "name": "stderr",
     "output_type": "stream",
     "text": [
      "Training Epoch 1302: 100%|██████████| 901/901 [00:05<00:00, 164.36it/s]\n",
      "Training Epoch 1303: 100%|██████████| 901/901 [00:05<00:00, 163.43it/s]\n",
      "Training Epoch 1304: 100%|██████████| 901/901 [00:05<00:00, 165.14it/s]\n",
      "Training Epoch 1305: 100%|██████████| 901/901 [00:05<00:00, 160.98it/s]\n",
      "Training Epoch 1306: 100%|██████████| 901/901 [00:05<00:00, 165.92it/s]\n",
      "Training Epoch 1307: 100%|██████████| 901/901 [00:05<00:00, 165.30it/s]\n",
      "Training Epoch 1308: 100%|██████████| 901/901 [00:05<00:00, 162.48it/s]\n",
      "Training Epoch 1309: 100%|██████████| 901/901 [00:05<00:00, 163.10it/s]\n",
      "Training Epoch 1310: 100%|██████████| 901/901 [00:05<00:00, 164.07it/s]\n",
      "Training Epoch 1311: 100%|██████████| 901/901 [00:05<00:00, 160.26it/s]\n"
     ]
    },
    {
     "name": "stdout",
     "output_type": "stream",
     "text": [
      "Epoch 1310 - Train Loss: 0.2073, Train MSE: 0.2073, Train MAE: 0.3466\n",
      "Epoch 1310 - Validation Loss: 0.7560, Validation MSE: 0.7560, Validation MAE: 0.6421\n"
     ]
    },
    {
     "name": "stderr",
     "output_type": "stream",
     "text": [
      "Training Epoch 1312: 100%|██████████| 901/901 [00:05<00:00, 165.94it/s]\n",
      "Training Epoch 1313: 100%|██████████| 901/901 [00:05<00:00, 162.43it/s]\n",
      "Training Epoch 1314: 100%|██████████| 901/901 [00:05<00:00, 159.62it/s]\n",
      "Training Epoch 1315: 100%|██████████| 901/901 [00:05<00:00, 164.26it/s]\n",
      "Training Epoch 1316: 100%|██████████| 901/901 [00:05<00:00, 164.19it/s]\n",
      "Training Epoch 1317: 100%|██████████| 901/901 [00:05<00:00, 169.94it/s]\n",
      "Training Epoch 1318: 100%|██████████| 901/901 [00:05<00:00, 164.81it/s]\n",
      "Training Epoch 1319: 100%|██████████| 901/901 [00:05<00:00, 162.51it/s]\n",
      "Training Epoch 1320: 100%|██████████| 901/901 [00:05<00:00, 164.99it/s]\n",
      "Training Epoch 1321: 100%|██████████| 901/901 [00:05<00:00, 162.04it/s]\n"
     ]
    },
    {
     "name": "stdout",
     "output_type": "stream",
     "text": [
      "Epoch 1320 - Train Loss: 0.2083, Train MSE: 0.2083, Train MAE: 0.3476\n",
      "Epoch 1320 - Validation Loss: 0.7664, Validation MSE: 0.7664, Validation MAE: 0.6442\n"
     ]
    },
    {
     "name": "stderr",
     "output_type": "stream",
     "text": [
      "Training Epoch 1322: 100%|██████████| 901/901 [00:05<00:00, 164.28it/s]\n",
      "Training Epoch 1323: 100%|██████████| 901/901 [00:05<00:00, 166.54it/s]\n",
      "Training Epoch 1324: 100%|██████████| 901/901 [00:05<00:00, 164.28it/s]\n",
      "Training Epoch 1325: 100%|██████████| 901/901 [00:05<00:00, 163.98it/s]\n",
      "Training Epoch 1326: 100%|██████████| 901/901 [00:05<00:00, 164.25it/s]\n",
      "Training Epoch 1327: 100%|██████████| 901/901 [00:05<00:00, 163.88it/s]\n",
      "Training Epoch 1328: 100%|██████████| 901/901 [00:05<00:00, 164.69it/s]\n",
      "Training Epoch 1329: 100%|██████████| 901/901 [00:05<00:00, 164.59it/s]\n",
      "Training Epoch 1330: 100%|██████████| 901/901 [00:05<00:00, 164.93it/s]\n",
      "Training Epoch 1331: 100%|██████████| 901/901 [00:05<00:00, 164.45it/s]\n"
     ]
    },
    {
     "name": "stdout",
     "output_type": "stream",
     "text": [
      "Epoch 1330 - Train Loss: 0.2123, Train MSE: 0.2123, Train MAE: 0.3501\n",
      "Epoch 1330 - Validation Loss: 0.7595, Validation MSE: 0.7595, Validation MAE: 0.6394\n"
     ]
    },
    {
     "name": "stderr",
     "output_type": "stream",
     "text": [
      "Training Epoch 1332: 100%|██████████| 901/901 [00:05<00:00, 163.58it/s]\n",
      "Training Epoch 1333: 100%|██████████| 901/901 [00:05<00:00, 161.59it/s]\n",
      "Training Epoch 1334: 100%|██████████| 901/901 [00:05<00:00, 166.89it/s]\n",
      "Training Epoch 1335: 100%|██████████| 901/901 [00:05<00:00, 163.56it/s]\n",
      "Training Epoch 1336: 100%|██████████| 901/901 [00:05<00:00, 162.84it/s]\n",
      "Training Epoch 1337: 100%|██████████| 901/901 [00:05<00:00, 164.36it/s]\n",
      "Training Epoch 1338: 100%|██████████| 901/901 [00:05<00:00, 164.30it/s]\n",
      "Training Epoch 1339: 100%|██████████| 901/901 [00:05<00:00, 164.09it/s]\n",
      "Training Epoch 1340: 100%|██████████| 901/901 [00:05<00:00, 170.76it/s]\n",
      "Training Epoch 1341: 100%|██████████| 901/901 [00:05<00:00, 165.38it/s]\n"
     ]
    },
    {
     "name": "stdout",
     "output_type": "stream",
     "text": [
      "Epoch 1340 - Train Loss: 0.2105, Train MSE: 0.2105, Train MAE: 0.3494\n",
      "Epoch 1340 - Validation Loss: 0.7580, Validation MSE: 0.7580, Validation MAE: 0.6378\n"
     ]
    },
    {
     "name": "stderr",
     "output_type": "stream",
     "text": [
      "Training Epoch 1342: 100%|██████████| 901/901 [00:05<00:00, 164.35it/s]\n",
      "Training Epoch 1343: 100%|██████████| 901/901 [00:05<00:00, 160.98it/s]\n",
      "Training Epoch 1344: 100%|██████████| 901/901 [00:05<00:00, 165.20it/s]\n",
      "Training Epoch 1345: 100%|██████████| 901/901 [00:05<00:00, 168.53it/s]\n",
      "Training Epoch 1346: 100%|██████████| 901/901 [00:05<00:00, 163.56it/s]\n",
      "Training Epoch 1347: 100%|██████████| 901/901 [00:05<00:00, 163.01it/s]\n",
      "Training Epoch 1348: 100%|██████████| 901/901 [00:05<00:00, 163.56it/s]\n",
      "Training Epoch 1349: 100%|██████████| 901/901 [00:05<00:00, 160.92it/s]\n",
      "Training Epoch 1350: 100%|██████████| 901/901 [00:05<00:00, 166.00it/s]\n",
      "Training Epoch 1351: 100%|██████████| 901/901 [00:05<00:00, 170.64it/s]\n"
     ]
    },
    {
     "name": "stdout",
     "output_type": "stream",
     "text": [
      "Epoch 1350 - Train Loss: 0.2106, Train MSE: 0.2106, Train MAE: 0.3474\n",
      "Epoch 1350 - Validation Loss: 0.7452, Validation MSE: 0.7452, Validation MAE: 0.6355\n"
     ]
    },
    {
     "name": "stderr",
     "output_type": "stream",
     "text": [
      "Training Epoch 1352: 100%|██████████| 901/901 [00:05<00:00, 164.03it/s]\n",
      "Training Epoch 1353: 100%|██████████| 901/901 [00:05<00:00, 164.10it/s]\n",
      "Training Epoch 1354: 100%|██████████| 901/901 [00:05<00:00, 162.52it/s]\n",
      "Training Epoch 1355: 100%|██████████| 901/901 [00:05<00:00, 162.74it/s]\n",
      "Training Epoch 1356: 100%|██████████| 901/901 [00:05<00:00, 165.19it/s]\n",
      "Training Epoch 1357: 100%|██████████| 901/901 [00:05<00:00, 166.01it/s]\n",
      "Training Epoch 1358: 100%|██████████| 901/901 [00:05<00:00, 164.18it/s]\n",
      "Training Epoch 1359: 100%|██████████| 901/901 [00:05<00:00, 163.42it/s]\n",
      "Training Epoch 1360: 100%|██████████| 901/901 [00:05<00:00, 164.05it/s]\n",
      "Training Epoch 1361: 100%|██████████| 901/901 [00:05<00:00, 164.98it/s]\n"
     ]
    },
    {
     "name": "stdout",
     "output_type": "stream",
     "text": [
      "Epoch 1360 - Train Loss: 0.2122, Train MSE: 0.2122, Train MAE: 0.3494\n",
      "Epoch 1360 - Validation Loss: 0.7601, Validation MSE: 0.7601, Validation MAE: 0.6433\n"
     ]
    },
    {
     "name": "stderr",
     "output_type": "stream",
     "text": [
      "Training Epoch 1362: 100%|██████████| 901/901 [00:05<00:00, 165.58it/s]\n",
      "Training Epoch 1363: 100%|██████████| 901/901 [00:05<00:00, 163.62it/s]\n",
      "Training Epoch 1364: 100%|██████████| 901/901 [00:05<00:00, 162.16it/s]\n",
      "Training Epoch 1365: 100%|██████████| 901/901 [00:05<00:00, 161.77it/s]\n",
      "Training Epoch 1366: 100%|██████████| 901/901 [00:05<00:00, 164.09it/s]\n",
      "Training Epoch 1367: 100%|██████████| 901/901 [00:05<00:00, 164.12it/s]\n",
      "Training Epoch 1368: 100%|██████████| 901/901 [00:05<00:00, 164.77it/s]\n",
      "Training Epoch 1369: 100%|██████████| 901/901 [00:05<00:00, 162.77it/s]\n",
      "Training Epoch 1370: 100%|██████████| 901/901 [00:05<00:00, 168.47it/s]\n",
      "Training Epoch 1371: 100%|██████████| 901/901 [00:05<00:00, 165.43it/s]\n"
     ]
    },
    {
     "name": "stdout",
     "output_type": "stream",
     "text": [
      "Epoch 1370 - Train Loss: 0.2066, Train MSE: 0.2066, Train MAE: 0.3454\n",
      "Epoch 1370 - Validation Loss: 0.7473, Validation MSE: 0.7473, Validation MAE: 0.6414\n"
     ]
    },
    {
     "name": "stderr",
     "output_type": "stream",
     "text": [
      "Training Epoch 1372: 100%|██████████| 901/901 [00:05<00:00, 165.26it/s]\n",
      "Training Epoch 1373: 100%|██████████| 901/901 [00:05<00:00, 163.28it/s]\n",
      "Training Epoch 1374: 100%|██████████| 901/901 [00:05<00:00, 161.18it/s]\n",
      "Training Epoch 1375: 100%|██████████| 901/901 [00:05<00:00, 163.72it/s]\n",
      "Training Epoch 1376: 100%|██████████| 901/901 [00:05<00:00, 165.95it/s]\n",
      "Training Epoch 1377: 100%|██████████| 901/901 [00:05<00:00, 164.65it/s]\n",
      "Training Epoch 1378: 100%|██████████| 901/901 [00:05<00:00, 164.17it/s]\n",
      "Training Epoch 1379: 100%|██████████| 901/901 [00:05<00:00, 166.05it/s]\n",
      "Training Epoch 1380: 100%|██████████| 901/901 [00:05<00:00, 164.18it/s]\n",
      "Training Epoch 1381: 100%|██████████| 901/901 [00:05<00:00, 162.94it/s]\n"
     ]
    },
    {
     "name": "stdout",
     "output_type": "stream",
     "text": [
      "Epoch 1380 - Train Loss: 0.2057, Train MSE: 0.2058, Train MAE: 0.3445\n",
      "Epoch 1380 - Validation Loss: 0.7475, Validation MSE: 0.7475, Validation MAE: 0.6359\n"
     ]
    },
    {
     "name": "stderr",
     "output_type": "stream",
     "text": [
      "Training Epoch 1382: 100%|██████████| 901/901 [00:05<00:00, 163.65it/s]\n",
      "Training Epoch 1383: 100%|██████████| 901/901 [00:05<00:00, 164.40it/s]\n",
      "Training Epoch 1384: 100%|██████████| 901/901 [00:05<00:00, 166.29it/s]\n",
      "Training Epoch 1385: 100%|██████████| 901/901 [00:05<00:00, 162.24it/s]\n",
      "Training Epoch 1386: 100%|██████████| 901/901 [00:05<00:00, 160.09it/s]\n",
      "Training Epoch 1387: 100%|██████████| 901/901 [00:05<00:00, 162.84it/s]\n",
      "Training Epoch 1388: 100%|██████████| 901/901 [00:05<00:00, 162.20it/s]\n",
      "Training Epoch 1389: 100%|██████████| 901/901 [00:05<00:00, 162.51it/s]\n",
      "Training Epoch 1390: 100%|██████████| 901/901 [00:05<00:00, 165.87it/s]\n",
      "Training Epoch 1391: 100%|██████████| 901/901 [00:05<00:00, 160.11it/s]\n"
     ]
    },
    {
     "name": "stdout",
     "output_type": "stream",
     "text": [
      "Epoch 1390 - Train Loss: 0.2073, Train MSE: 0.2072, Train MAE: 0.3457\n",
      "Epoch 1390 - Validation Loss: 0.7564, Validation MSE: 0.7564, Validation MAE: 0.6420\n"
     ]
    },
    {
     "name": "stderr",
     "output_type": "stream",
     "text": [
      "Training Epoch 1392: 100%|██████████| 901/901 [00:05<00:00, 162.29it/s]\n",
      "Training Epoch 1393: 100%|██████████| 901/901 [00:05<00:00, 162.28it/s]\n",
      "Training Epoch 1394: 100%|██████████| 901/901 [00:05<00:00, 163.28it/s]\n",
      "Training Epoch 1395: 100%|██████████| 901/901 [00:05<00:00, 166.49it/s]\n",
      "Training Epoch 1396: 100%|██████████| 901/901 [00:05<00:00, 163.78it/s]\n",
      "Training Epoch 1397: 100%|██████████| 901/901 [00:05<00:00, 161.52it/s]\n",
      "Training Epoch 1398: 100%|██████████| 901/901 [00:05<00:00, 165.06it/s]\n",
      "Training Epoch 1399: 100%|██████████| 901/901 [00:05<00:00, 161.69it/s]\n",
      "Training Epoch 1400: 100%|██████████| 901/901 [00:05<00:00, 161.63it/s]\n",
      "Training Epoch 1401: 100%|██████████| 901/901 [00:05<00:00, 166.36it/s]\n"
     ]
    },
    {
     "name": "stdout",
     "output_type": "stream",
     "text": [
      "Epoch 1400 - Train Loss: 0.2040, Train MSE: 0.2040, Train MAE: 0.3423\n",
      "Epoch 1400 - Validation Loss: 0.7632, Validation MSE: 0.7632, Validation MAE: 0.6472\n"
     ]
    },
    {
     "name": "stderr",
     "output_type": "stream",
     "text": [
      "Training Epoch 1402: 100%|██████████| 901/901 [00:05<00:00, 161.47it/s]\n",
      "Training Epoch 1403: 100%|██████████| 901/901 [00:05<00:00, 164.42it/s]\n",
      "Training Epoch 1404: 100%|██████████| 901/901 [00:05<00:00, 161.52it/s]\n",
      "Training Epoch 1405: 100%|██████████| 901/901 [00:05<00:00, 162.95it/s]\n",
      "Training Epoch 1406: 100%|██████████| 901/901 [00:05<00:00, 164.91it/s]\n",
      "Training Epoch 1407: 100%|██████████| 901/901 [00:05<00:00, 167.53it/s]\n",
      "Training Epoch 1408: 100%|██████████| 901/901 [00:05<00:00, 162.77it/s]\n",
      "Training Epoch 1409: 100%|██████████| 901/901 [00:05<00:00, 164.74it/s]\n",
      "Training Epoch 1410: 100%|██████████| 901/901 [00:05<00:00, 163.85it/s]\n",
      "Training Epoch 1411: 100%|██████████| 901/901 [00:05<00:00, 162.33it/s]\n"
     ]
    },
    {
     "name": "stdout",
     "output_type": "stream",
     "text": [
      "Epoch 1410 - Train Loss: 0.2097, Train MSE: 0.2097, Train MAE: 0.3461\n",
      "Epoch 1410 - Validation Loss: 0.7680, Validation MSE: 0.7680, Validation MAE: 0.6484\n"
     ]
    },
    {
     "name": "stderr",
     "output_type": "stream",
     "text": [
      "Training Epoch 1412: 100%|██████████| 901/901 [00:05<00:00, 163.89it/s]\n",
      "Training Epoch 1413: 100%|██████████| 901/901 [00:05<00:00, 162.76it/s]\n",
      "Training Epoch 1414: 100%|██████████| 901/901 [00:05<00:00, 164.14it/s]\n",
      "Training Epoch 1415: 100%|██████████| 901/901 [00:05<00:00, 162.41it/s]\n",
      "Training Epoch 1416: 100%|██████████| 901/901 [00:05<00:00, 162.11it/s]\n",
      "Training Epoch 1417: 100%|██████████| 901/901 [00:05<00:00, 165.41it/s]\n",
      "Training Epoch 1418: 100%|██████████| 901/901 [00:05<00:00, 164.03it/s]\n",
      "Training Epoch 1419: 100%|██████████| 901/901 [00:05<00:00, 164.16it/s]\n",
      "Training Epoch 1420: 100%|██████████| 901/901 [00:05<00:00, 164.38it/s]\n",
      "Training Epoch 1421: 100%|██████████| 901/901 [00:05<00:00, 161.51it/s]\n"
     ]
    },
    {
     "name": "stdout",
     "output_type": "stream",
     "text": [
      "Epoch 1420 - Train Loss: 0.2103, Train MSE: 0.2103, Train MAE: 0.3490\n",
      "Epoch 1420 - Validation Loss: 0.7613, Validation MSE: 0.7613, Validation MAE: 0.6442\n"
     ]
    },
    {
     "name": "stderr",
     "output_type": "stream",
     "text": [
      "Training Epoch 1422: 100%|██████████| 901/901 [00:05<00:00, 165.34it/s]\n",
      "Training Epoch 1423: 100%|██████████| 901/901 [00:05<00:00, 167.06it/s]\n",
      "Training Epoch 1424: 100%|██████████| 901/901 [00:05<00:00, 160.66it/s]\n",
      "Training Epoch 1425: 100%|██████████| 901/901 [00:05<00:00, 162.17it/s]\n",
      "Training Epoch 1426: 100%|██████████| 901/901 [00:05<00:00, 163.09it/s]\n",
      "Training Epoch 1427: 100%|██████████| 901/901 [00:05<00:00, 164.93it/s]\n",
      "Training Epoch 1428: 100%|██████████| 901/901 [00:05<00:00, 162.95it/s]\n",
      "Training Epoch 1429: 100%|██████████| 901/901 [00:05<00:00, 165.09it/s]\n",
      "Training Epoch 1430: 100%|██████████| 901/901 [00:05<00:00, 162.99it/s]\n",
      "Training Epoch 1431: 100%|██████████| 901/901 [00:05<00:00, 163.67it/s]\n"
     ]
    },
    {
     "name": "stdout",
     "output_type": "stream",
     "text": [
      "Epoch 1430 - Train Loss: 0.2090, Train MSE: 0.2090, Train MAE: 0.3461\n",
      "Epoch 1430 - Validation Loss: 0.7636, Validation MSE: 0.7636, Validation MAE: 0.6461\n"
     ]
    },
    {
     "name": "stderr",
     "output_type": "stream",
     "text": [
      "Training Epoch 1432: 100%|██████████| 901/901 [00:05<00:00, 163.06it/s]\n",
      "Training Epoch 1433: 100%|██████████| 901/901 [00:05<00:00, 165.16it/s]\n",
      "Training Epoch 1434: 100%|██████████| 901/901 [00:05<00:00, 168.12it/s]\n",
      "Training Epoch 1435: 100%|██████████| 901/901 [00:05<00:00, 163.67it/s]\n",
      "Training Epoch 1436: 100%|██████████| 901/901 [00:05<00:00, 164.01it/s]\n",
      "Training Epoch 1437: 100%|██████████| 901/901 [00:05<00:00, 162.47it/s]\n",
      "Training Epoch 1438: 100%|██████████| 901/901 [00:05<00:00, 163.17it/s]\n",
      "Training Epoch 1439: 100%|██████████| 901/901 [00:05<00:00, 164.81it/s]\n",
      "Training Epoch 1440: 100%|██████████| 901/901 [00:05<00:00, 166.32it/s]\n",
      "Training Epoch 1441: 100%|██████████| 901/901 [00:05<00:00, 162.26it/s]\n"
     ]
    },
    {
     "name": "stdout",
     "output_type": "stream",
     "text": [
      "Epoch 1440 - Train Loss: 0.2073, Train MSE: 0.2072, Train MAE: 0.3441\n",
      "Epoch 1440 - Validation Loss: 0.7466, Validation MSE: 0.7466, Validation MAE: 0.6381\n"
     ]
    },
    {
     "name": "stderr",
     "output_type": "stream",
     "text": [
      "Training Epoch 1442: 100%|██████████| 901/901 [00:05<00:00, 164.06it/s]\n",
      "Training Epoch 1443: 100%|██████████| 901/901 [00:05<00:00, 162.09it/s]\n",
      "Training Epoch 1444: 100%|██████████| 901/901 [00:05<00:00, 162.44it/s]\n",
      "Training Epoch 1445: 100%|██████████| 901/901 [00:05<00:00, 166.84it/s]\n",
      "Training Epoch 1446: 100%|██████████| 901/901 [00:05<00:00, 162.82it/s]\n",
      "Training Epoch 1447: 100%|██████████| 901/901 [00:05<00:00, 163.94it/s]\n",
      "Training Epoch 1448: 100%|██████████| 901/901 [00:05<00:00, 164.14it/s]\n",
      "Training Epoch 1449: 100%|██████████| 901/901 [00:05<00:00, 164.14it/s]\n",
      "Training Epoch 1450: 100%|██████████| 901/901 [00:05<00:00, 164.77it/s]\n",
      "Training Epoch 1451: 100%|██████████| 901/901 [00:05<00:00, 163.67it/s]\n"
     ]
    },
    {
     "name": "stdout",
     "output_type": "stream",
     "text": [
      "Epoch 1450 - Train Loss: 0.2041, Train MSE: 0.2041, Train MAE: 0.3436\n",
      "Epoch 1450 - Validation Loss: 0.7616, Validation MSE: 0.7616, Validation MAE: 0.6425\n"
     ]
    },
    {
     "name": "stderr",
     "output_type": "stream",
     "text": [
      "Training Epoch 1452: 100%|██████████| 901/901 [00:05<00:00, 163.81it/s]\n",
      "Training Epoch 1453: 100%|██████████| 901/901 [00:05<00:00, 160.72it/s]\n",
      "Training Epoch 1454: 100%|██████████| 901/901 [00:05<00:00, 163.92it/s]\n",
      "Training Epoch 1455: 100%|██████████| 901/901 [00:05<00:00, 160.36it/s]\n",
      "Training Epoch 1456: 100%|██████████| 901/901 [00:05<00:00, 163.00it/s]\n",
      "Training Epoch 1457: 100%|██████████| 901/901 [00:05<00:00, 165.29it/s]\n",
      "Training Epoch 1458: 100%|██████████| 901/901 [00:05<00:00, 164.50it/s]\n",
      "Training Epoch 1459: 100%|██████████| 901/901 [00:05<00:00, 162.86it/s]\n",
      "Training Epoch 1460: 100%|██████████| 901/901 [00:05<00:00, 162.72it/s]\n",
      "Training Epoch 1461: 100%|██████████| 901/901 [00:05<00:00, 160.46it/s]\n"
     ]
    },
    {
     "name": "stdout",
     "output_type": "stream",
     "text": [
      "Epoch 1460 - Train Loss: 0.2041, Train MSE: 0.2041, Train MAE: 0.3438\n",
      "Epoch 1460 - Validation Loss: 0.7507, Validation MSE: 0.7507, Validation MAE: 0.6362\n"
     ]
    },
    {
     "name": "stderr",
     "output_type": "stream",
     "text": [
      "Training Epoch 1462: 100%|██████████| 901/901 [00:05<00:00, 165.77it/s]\n",
      "Training Epoch 1463: 100%|██████████| 901/901 [00:05<00:00, 159.69it/s]\n",
      "Training Epoch 1464: 100%|██████████| 901/901 [00:05<00:00, 161.34it/s]\n",
      "Training Epoch 1465: 100%|██████████| 901/901 [00:05<00:00, 162.50it/s]\n",
      "Training Epoch 1466: 100%|██████████| 901/901 [00:05<00:00, 162.68it/s]\n",
      "Training Epoch 1467: 100%|██████████| 901/901 [00:05<00:00, 165.35it/s]\n",
      "Training Epoch 1468: 100%|██████████| 901/901 [00:05<00:00, 162.92it/s]\n",
      "Training Epoch 1469: 100%|██████████| 901/901 [00:05<00:00, 163.44it/s]\n",
      "Training Epoch 1470: 100%|██████████| 901/901 [00:05<00:00, 159.50it/s]\n",
      "Training Epoch 1471: 100%|██████████| 901/901 [00:05<00:00, 164.18it/s]\n"
     ]
    },
    {
     "name": "stdout",
     "output_type": "stream",
     "text": [
      "Epoch 1470 - Train Loss: 0.2047, Train MSE: 0.2047, Train MAE: 0.3437\n",
      "Epoch 1470 - Validation Loss: 0.7542, Validation MSE: 0.7542, Validation MAE: 0.6416\n"
     ]
    },
    {
     "name": "stderr",
     "output_type": "stream",
     "text": [
      "Training Epoch 1472: 100%|██████████| 901/901 [00:05<00:00, 162.74it/s]\n",
      "Training Epoch 1473: 100%|██████████| 901/901 [00:05<00:00, 165.90it/s]\n",
      "Training Epoch 1474: 100%|██████████| 901/901 [00:05<00:00, 162.80it/s]\n",
      "Training Epoch 1475: 100%|██████████| 901/901 [00:05<00:00, 162.41it/s]\n",
      "Training Epoch 1476: 100%|██████████| 901/901 [00:05<00:00, 162.91it/s]\n",
      "Training Epoch 1477: 100%|██████████| 901/901 [00:05<00:00, 164.12it/s]\n",
      "Training Epoch 1478: 100%|██████████| 901/901 [00:05<00:00, 164.27it/s]\n",
      "Training Epoch 1479: 100%|██████████| 901/901 [00:05<00:00, 161.83it/s]\n",
      "Training Epoch 1480: 100%|██████████| 901/901 [00:05<00:00, 161.87it/s]\n",
      "Training Epoch 1481: 100%|██████████| 901/901 [00:05<00:00, 164.44it/s]\n"
     ]
    },
    {
     "name": "stdout",
     "output_type": "stream",
     "text": [
      "Epoch 1480 - Train Loss: 0.2047, Train MSE: 0.2047, Train MAE: 0.3437\n",
      "Epoch 1480 - Validation Loss: 0.7502, Validation MSE: 0.7502, Validation MAE: 0.6383\n"
     ]
    },
    {
     "name": "stderr",
     "output_type": "stream",
     "text": [
      "Training Epoch 1482: 100%|██████████| 901/901 [00:05<00:00, 164.51it/s]\n",
      "Training Epoch 1483: 100%|██████████| 901/901 [00:05<00:00, 162.67it/s]\n",
      "Training Epoch 1484: 100%|██████████| 901/901 [00:05<00:00, 165.89it/s]\n",
      "Training Epoch 1485: 100%|██████████| 901/901 [00:05<00:00, 162.88it/s]\n",
      "Training Epoch 1486: 100%|██████████| 901/901 [00:05<00:00, 163.09it/s]\n",
      "Training Epoch 1487: 100%|██████████| 901/901 [00:05<00:00, 164.38it/s]\n",
      "Training Epoch 1488: 100%|██████████| 901/901 [00:05<00:00, 163.89it/s]\n",
      "Training Epoch 1489: 100%|██████████| 901/901 [00:05<00:00, 166.85it/s]\n",
      "Training Epoch 1490: 100%|██████████| 901/901 [00:05<00:00, 165.71it/s]\n",
      "Training Epoch 1491: 100%|██████████| 901/901 [00:05<00:00, 162.34it/s]\n"
     ]
    },
    {
     "name": "stdout",
     "output_type": "stream",
     "text": [
      "Epoch 1490 - Train Loss: 0.2012, Train MSE: 0.2012, Train MAE: 0.3418\n",
      "Epoch 1490 - Validation Loss: 0.7547, Validation MSE: 0.7547, Validation MAE: 0.6424\n"
     ]
    },
    {
     "name": "stderr",
     "output_type": "stream",
     "text": [
      "Training Epoch 1492: 100%|██████████| 901/901 [00:05<00:00, 161.43it/s]\n",
      "Training Epoch 1493: 100%|██████████| 901/901 [00:05<00:00, 164.25it/s]\n",
      "Training Epoch 1494: 100%|██████████| 901/901 [00:05<00:00, 162.30it/s]\n",
      "Training Epoch 1495: 100%|██████████| 901/901 [00:05<00:00, 167.95it/s]\n",
      "Training Epoch 1496: 100%|██████████| 901/901 [00:05<00:00, 163.21it/s]\n",
      "Training Epoch 1497: 100%|██████████| 901/901 [00:05<00:00, 163.28it/s]\n",
      "Training Epoch 1498: 100%|██████████| 901/901 [00:05<00:00, 164.69it/s]\n",
      "Training Epoch 1499: 100%|██████████| 901/901 [00:05<00:00, 162.59it/s]\n",
      "Training Epoch 1500: 100%|██████████| 901/901 [00:05<00:00, 163.32it/s]\n",
      "Training Epoch 1501: 100%|██████████| 901/901 [00:05<00:00, 165.33it/s]\n"
     ]
    },
    {
     "name": "stdout",
     "output_type": "stream",
     "text": [
      "Epoch 1500 - Train Loss: 0.2027, Train MSE: 0.2027, Train MAE: 0.3420\n",
      "Epoch 1500 - Validation Loss: 0.7626, Validation MSE: 0.7626, Validation MAE: 0.6450\n"
     ]
    },
    {
     "name": "stderr",
     "output_type": "stream",
     "text": [
      "Training Epoch 1502: 100%|██████████| 901/901 [00:05<00:00, 165.72it/s]\n",
      "Training Epoch 1503: 100%|██████████| 901/901 [00:05<00:00, 165.62it/s]\n",
      "Training Epoch 1504: 100%|██████████| 901/901 [00:05<00:00, 163.40it/s]\n",
      "Training Epoch 1505: 100%|██████████| 901/901 [00:05<00:00, 164.59it/s]\n",
      "Training Epoch 1506: 100%|██████████| 901/901 [00:05<00:00, 165.96it/s]\n",
      "Training Epoch 1507: 100%|██████████| 901/901 [00:05<00:00, 164.02it/s]\n",
      "Training Epoch 1508: 100%|██████████| 901/901 [00:05<00:00, 161.79it/s]\n",
      "Training Epoch 1509: 100%|██████████| 901/901 [00:05<00:00, 163.57it/s]\n",
      "Training Epoch 1510: 100%|██████████| 901/901 [00:05<00:00, 162.93it/s]\n",
      "Training Epoch 1511: 100%|██████████| 901/901 [00:05<00:00, 164.93it/s]\n"
     ]
    },
    {
     "name": "stdout",
     "output_type": "stream",
     "text": [
      "Epoch 1510 - Train Loss: 0.2045, Train MSE: 0.2045, Train MAE: 0.3434\n",
      "Epoch 1510 - Validation Loss: 0.7499, Validation MSE: 0.7499, Validation MAE: 0.6414\n"
     ]
    },
    {
     "name": "stderr",
     "output_type": "stream",
     "text": [
      "Training Epoch 1512: 100%|██████████| 901/901 [00:05<00:00, 168.72it/s]\n",
      "Training Epoch 1513: 100%|██████████| 901/901 [00:05<00:00, 163.79it/s]\n",
      "Training Epoch 1514: 100%|██████████| 901/901 [00:05<00:00, 161.84it/s]\n",
      "Training Epoch 1515: 100%|██████████| 901/901 [00:05<00:00, 164.26it/s]\n",
      "Training Epoch 1516: 100%|██████████| 901/901 [00:05<00:00, 163.40it/s]\n",
      "Training Epoch 1517: 100%|██████████| 901/901 [00:05<00:00, 166.76it/s]\n",
      "Training Epoch 1518: 100%|██████████| 901/901 [00:05<00:00, 165.04it/s]\n",
      "Training Epoch 1519: 100%|██████████| 901/901 [00:05<00:00, 166.97it/s]\n",
      "Training Epoch 1520: 100%|██████████| 901/901 [00:05<00:00, 165.18it/s]\n",
      "Training Epoch 1521: 100%|██████████| 901/901 [00:05<00:00, 164.78it/s]\n"
     ]
    },
    {
     "name": "stdout",
     "output_type": "stream",
     "text": [
      "Epoch 1520 - Train Loss: 0.1995, Train MSE: 0.1995, Train MAE: 0.3389\n",
      "Epoch 1520 - Validation Loss: 0.7540, Validation MSE: 0.7540, Validation MAE: 0.6426\n"
     ]
    },
    {
     "name": "stderr",
     "output_type": "stream",
     "text": [
      "Training Epoch 1522: 100%|██████████| 901/901 [00:05<00:00, 165.65it/s]\n",
      "Training Epoch 1523: 100%|██████████| 901/901 [00:05<00:00, 168.57it/s]\n",
      "Training Epoch 1524: 100%|██████████| 901/901 [00:05<00:00, 164.19it/s]\n",
      "Training Epoch 1525: 100%|██████████| 901/901 [00:05<00:00, 165.58it/s]\n",
      "Training Epoch 1526: 100%|██████████| 901/901 [00:05<00:00, 163.55it/s]\n",
      "Training Epoch 1527: 100%|██████████| 901/901 [00:05<00:00, 167.52it/s]\n",
      "Training Epoch 1528: 100%|██████████| 901/901 [00:05<00:00, 168.51it/s]\n",
      "Training Epoch 1529: 100%|██████████| 901/901 [00:05<00:00, 165.12it/s]\n",
      "Training Epoch 1530: 100%|██████████| 901/901 [00:05<00:00, 164.04it/s]\n",
      "Training Epoch 1531: 100%|██████████| 901/901 [00:05<00:00, 165.71it/s]\n"
     ]
    },
    {
     "name": "stdout",
     "output_type": "stream",
     "text": [
      "Epoch 1530 - Train Loss: 0.2049, Train MSE: 0.2050, Train MAE: 0.3423\n",
      "Epoch 1530 - Validation Loss: 0.7458, Validation MSE: 0.7458, Validation MAE: 0.6382\n"
     ]
    },
    {
     "name": "stderr",
     "output_type": "stream",
     "text": [
      "Training Epoch 1532: 100%|██████████| 901/901 [00:05<00:00, 165.05it/s]\n",
      "Training Epoch 1533: 100%|██████████| 901/901 [00:05<00:00, 163.75it/s]\n",
      "Training Epoch 1534: 100%|██████████| 901/901 [00:05<00:00, 166.51it/s]\n",
      "Training Epoch 1535: 100%|██████████| 901/901 [00:05<00:00, 162.83it/s]\n",
      "Training Epoch 1536: 100%|██████████| 901/901 [00:05<00:00, 161.59it/s]\n",
      "Training Epoch 1537: 100%|██████████| 901/901 [00:05<00:00, 161.95it/s]\n",
      "Training Epoch 1538: 100%|██████████| 901/901 [00:05<00:00, 163.75it/s]\n",
      "Training Epoch 1539: 100%|██████████| 901/901 [00:05<00:00, 162.34it/s]\n",
      "Training Epoch 1540: 100%|██████████| 901/901 [00:05<00:00, 168.24it/s]\n",
      "Training Epoch 1541: 100%|██████████| 901/901 [00:05<00:00, 162.88it/s]\n"
     ]
    },
    {
     "name": "stdout",
     "output_type": "stream",
     "text": [
      "Epoch 1540 - Train Loss: 0.2022, Train MSE: 0.2022, Train MAE: 0.3402\n",
      "Epoch 1540 - Validation Loss: 0.7539, Validation MSE: 0.7539, Validation MAE: 0.6409\n"
     ]
    },
    {
     "name": "stderr",
     "output_type": "stream",
     "text": [
      "Training Epoch 1542: 100%|██████████| 901/901 [00:05<00:00, 163.24it/s]\n",
      "Training Epoch 1543: 100%|██████████| 901/901 [00:05<00:00, 165.07it/s]\n",
      "Training Epoch 1544: 100%|██████████| 901/901 [00:05<00:00, 164.84it/s]\n",
      "Training Epoch 1545: 100%|██████████| 901/901 [00:05<00:00, 169.78it/s]\n",
      "Training Epoch 1546: 100%|██████████| 901/901 [00:05<00:00, 163.79it/s]\n",
      "Training Epoch 1547: 100%|██████████| 901/901 [00:05<00:00, 159.41it/s]\n",
      "Training Epoch 1548: 100%|██████████| 901/901 [00:05<00:00, 162.74it/s]\n",
      "Training Epoch 1549: 100%|██████████| 901/901 [00:05<00:00, 162.93it/s]\n",
      "Training Epoch 1550: 100%|██████████| 901/901 [00:05<00:00, 160.93it/s]\n",
      "Training Epoch 1551: 100%|██████████| 901/901 [00:05<00:00, 167.54it/s]\n"
     ]
    },
    {
     "name": "stdout",
     "output_type": "stream",
     "text": [
      "Epoch 1550 - Train Loss: 0.2026, Train MSE: 0.2026, Train MAE: 0.3422\n",
      "Epoch 1550 - Validation Loss: 0.7652, Validation MSE: 0.7652, Validation MAE: 0.6477\n"
     ]
    },
    {
     "name": "stderr",
     "output_type": "stream",
     "text": [
      "Training Epoch 1552: 100%|██████████| 901/901 [00:05<00:00, 163.47it/s]\n",
      "Training Epoch 1553: 100%|██████████| 901/901 [00:05<00:00, 163.47it/s]\n",
      "Training Epoch 1554: 100%|██████████| 901/901 [00:05<00:00, 163.86it/s]\n",
      "Training Epoch 1555: 100%|██████████| 901/901 [00:05<00:00, 161.42it/s]\n",
      "Training Epoch 1556: 100%|██████████| 901/901 [00:05<00:00, 166.22it/s]\n",
      "Training Epoch 1557: 100%|██████████| 901/901 [00:05<00:00, 162.54it/s]\n",
      "Training Epoch 1558: 100%|██████████| 901/901 [00:05<00:00, 166.84it/s]\n",
      "Training Epoch 1559: 100%|██████████| 901/901 [00:05<00:00, 165.29it/s]\n",
      "Training Epoch 1560: 100%|██████████| 901/901 [00:05<00:00, 165.20it/s]\n",
      "Training Epoch 1561: 100%|██████████| 901/901 [00:05<00:00, 163.95it/s]\n"
     ]
    },
    {
     "name": "stdout",
     "output_type": "stream",
     "text": [
      "Epoch 1560 - Train Loss: 0.2029, Train MSE: 0.2029, Train MAE: 0.3413\n",
      "Epoch 1560 - Validation Loss: 0.7582, Validation MSE: 0.7582, Validation MAE: 0.6450\n"
     ]
    },
    {
     "name": "stderr",
     "output_type": "stream",
     "text": [
      "Training Epoch 1562: 100%|██████████| 901/901 [00:05<00:00, 165.69it/s]\n",
      "Training Epoch 1563: 100%|██████████| 901/901 [00:05<00:00, 163.34it/s]\n",
      "Training Epoch 1564: 100%|██████████| 901/901 [00:05<00:00, 161.91it/s]\n",
      "Training Epoch 1565: 100%|██████████| 901/901 [00:05<00:00, 165.21it/s]\n",
      "Training Epoch 1566: 100%|██████████| 901/901 [00:05<00:00, 163.96it/s]\n",
      "Training Epoch 1567: 100%|██████████| 901/901 [00:05<00:00, 164.79it/s]\n",
      "Training Epoch 1568: 100%|██████████| 901/901 [00:05<00:00, 164.32it/s]\n",
      "Training Epoch 1569: 100%|██████████| 901/901 [00:05<00:00, 163.22it/s]\n",
      "Training Epoch 1570: 100%|██████████| 901/901 [00:05<00:00, 161.32it/s]\n",
      "Training Epoch 1571: 100%|██████████| 901/901 [00:05<00:00, 165.58it/s]\n"
     ]
    },
    {
     "name": "stdout",
     "output_type": "stream",
     "text": [
      "Epoch 1570 - Train Loss: 0.2027, Train MSE: 0.2028, Train MAE: 0.3417\n",
      "Epoch 1570 - Validation Loss: 0.7599, Validation MSE: 0.7599, Validation MAE: 0.6408\n"
     ]
    },
    {
     "name": "stderr",
     "output_type": "stream",
     "text": [
      "Training Epoch 1572: 100%|██████████| 901/901 [00:05<00:00, 162.85it/s]\n",
      "Training Epoch 1573: 100%|██████████| 901/901 [00:05<00:00, 167.27it/s]\n",
      "Training Epoch 1574: 100%|██████████| 901/901 [00:05<00:00, 164.34it/s]\n",
      "Training Epoch 1575: 100%|██████████| 901/901 [00:05<00:00, 162.06it/s]\n",
      "Training Epoch 1576: 100%|██████████| 901/901 [00:05<00:00, 161.82it/s]\n",
      "Training Epoch 1577: 100%|██████████| 901/901 [00:05<00:00, 164.60it/s]\n",
      "Training Epoch 1578: 100%|██████████| 901/901 [00:05<00:00, 163.44it/s]\n",
      "Training Epoch 1579: 100%|██████████| 901/901 [00:05<00:00, 165.81it/s]\n",
      "Training Epoch 1580: 100%|██████████| 901/901 [00:05<00:00, 162.20it/s]\n",
      "Training Epoch 1581: 100%|██████████| 901/901 [00:05<00:00, 163.06it/s]\n"
     ]
    },
    {
     "name": "stdout",
     "output_type": "stream",
     "text": [
      "Epoch 1580 - Train Loss: 0.2048, Train MSE: 0.2048, Train MAE: 0.3433\n",
      "Epoch 1580 - Validation Loss: 0.7616, Validation MSE: 0.7616, Validation MAE: 0.6435\n"
     ]
    },
    {
     "name": "stderr",
     "output_type": "stream",
     "text": [
      "Training Epoch 1582: 100%|██████████| 901/901 [00:05<00:00, 159.78it/s]\n",
      "Training Epoch 1583: 100%|██████████| 901/901 [00:05<00:00, 154.94it/s]\n",
      "Training Epoch 1584: 100%|██████████| 901/901 [00:05<00:00, 170.81it/s]\n",
      "Training Epoch 1585: 100%|██████████| 901/901 [00:05<00:00, 166.20it/s]\n",
      "Training Epoch 1586: 100%|██████████| 901/901 [00:05<00:00, 165.54it/s]\n",
      "Training Epoch 1587: 100%|██████████| 901/901 [00:05<00:00, 168.46it/s]\n",
      "Training Epoch 1588: 100%|██████████| 901/901 [00:05<00:00, 167.80it/s]\n",
      "Training Epoch 1589: 100%|██████████| 901/901 [00:05<00:00, 166.74it/s]\n",
      "Training Epoch 1590: 100%|██████████| 901/901 [00:05<00:00, 168.82it/s]\n",
      "Training Epoch 1591: 100%|██████████| 901/901 [00:05<00:00, 165.24it/s]\n"
     ]
    },
    {
     "name": "stdout",
     "output_type": "stream",
     "text": [
      "Epoch 1590 - Train Loss: 0.1997, Train MSE: 0.1997, Train MAE: 0.3401\n",
      "Epoch 1590 - Validation Loss: 0.7519, Validation MSE: 0.7519, Validation MAE: 0.6393\n"
     ]
    },
    {
     "name": "stderr",
     "output_type": "stream",
     "text": [
      "Training Epoch 1592: 100%|██████████| 901/901 [00:05<00:00, 168.11it/s]\n",
      "Training Epoch 1593: 100%|██████████| 901/901 [00:05<00:00, 165.54it/s]\n",
      "Training Epoch 1594: 100%|██████████| 901/901 [00:05<00:00, 166.95it/s]\n",
      "Training Epoch 1595: 100%|██████████| 901/901 [00:05<00:00, 170.43it/s]\n",
      "Training Epoch 1596: 100%|██████████| 901/901 [00:05<00:00, 168.95it/s]\n",
      "Training Epoch 1597: 100%|██████████| 901/901 [00:05<00:00, 166.80it/s]\n",
      "Training Epoch 1598: 100%|██████████| 901/901 [00:05<00:00, 163.19it/s]\n",
      "Training Epoch 1599: 100%|██████████| 901/901 [00:05<00:00, 167.72it/s]\n",
      "Training Epoch 1600: 100%|██████████| 901/901 [00:05<00:00, 166.59it/s]\n",
      "Training Epoch 1601: 100%|██████████| 901/901 [00:05<00:00, 170.29it/s]\n"
     ]
    },
    {
     "name": "stdout",
     "output_type": "stream",
     "text": [
      "Epoch 1600 - Train Loss: 0.2007, Train MSE: 0.2007, Train MAE: 0.3400\n",
      "Epoch 1600 - Validation Loss: 0.7586, Validation MSE: 0.7586, Validation MAE: 0.6409\n"
     ]
    },
    {
     "name": "stderr",
     "output_type": "stream",
     "text": [
      "Training Epoch 1602: 100%|██████████| 901/901 [00:05<00:00, 166.07it/s]\n",
      "Training Epoch 1603: 100%|██████████| 901/901 [00:05<00:00, 167.93it/s]\n",
      "Training Epoch 1604: 100%|██████████| 901/901 [00:05<00:00, 167.76it/s]\n",
      "Training Epoch 1605: 100%|██████████| 901/901 [00:05<00:00, 165.44it/s]\n",
      "Training Epoch 1606: 100%|██████████| 901/901 [00:05<00:00, 169.26it/s]\n",
      "Training Epoch 1607: 100%|██████████| 901/901 [00:05<00:00, 169.37it/s]\n",
      "Training Epoch 1608: 100%|██████████| 901/901 [00:05<00:00, 167.97it/s]\n",
      "Training Epoch 1609: 100%|██████████| 901/901 [00:05<00:00, 167.02it/s]\n",
      "Training Epoch 1610: 100%|██████████| 901/901 [00:05<00:00, 168.20it/s]\n",
      "Training Epoch 1611: 100%|██████████| 901/901 [00:05<00:00, 169.84it/s]\n"
     ]
    },
    {
     "name": "stdout",
     "output_type": "stream",
     "text": [
      "Epoch 1610 - Train Loss: 0.2022, Train MSE: 0.2022, Train MAE: 0.3395\n",
      "Epoch 1610 - Validation Loss: 0.7601, Validation MSE: 0.7601, Validation MAE: 0.6431\n"
     ]
    },
    {
     "name": "stderr",
     "output_type": "stream",
     "text": [
      "Training Epoch 1612: 100%|██████████| 901/901 [00:05<00:00, 169.01it/s]\n",
      "Training Epoch 1613: 100%|██████████| 901/901 [00:05<00:00, 169.04it/s]\n",
      "Training Epoch 1614: 100%|██████████| 901/901 [00:05<00:00, 167.72it/s]\n",
      "Training Epoch 1615: 100%|██████████| 901/901 [00:05<00:00, 167.70it/s]\n",
      "Training Epoch 1616: 100%|██████████| 901/901 [00:05<00:00, 166.04it/s]\n",
      "Training Epoch 1617: 100%|██████████| 901/901 [00:05<00:00, 165.08it/s]\n",
      "Training Epoch 1618: 100%|██████████| 901/901 [00:05<00:00, 172.48it/s]\n",
      "Training Epoch 1619: 100%|██████████| 901/901 [00:05<00:00, 166.84it/s]\n",
      "Training Epoch 1620: 100%|██████████| 901/901 [00:05<00:00, 167.80it/s]\n",
      "Training Epoch 1621: 100%|██████████| 901/901 [00:05<00:00, 168.44it/s]\n"
     ]
    },
    {
     "name": "stdout",
     "output_type": "stream",
     "text": [
      "Epoch 1620 - Train Loss: 0.1991, Train MSE: 0.1991, Train MAE: 0.3392\n",
      "Epoch 1620 - Validation Loss: 0.7532, Validation MSE: 0.7532, Validation MAE: 0.6417\n"
     ]
    },
    {
     "name": "stderr",
     "output_type": "stream",
     "text": [
      "Training Epoch 1622: 100%|██████████| 901/901 [00:05<00:00, 166.45it/s]\n",
      "Training Epoch 1623: 100%|██████████| 901/901 [00:05<00:00, 168.25it/s]\n",
      "Training Epoch 1624: 100%|██████████| 901/901 [00:05<00:00, 168.89it/s]\n",
      "Training Epoch 1625: 100%|██████████| 901/901 [00:05<00:00, 167.48it/s]\n",
      "Training Epoch 1626: 100%|██████████| 901/901 [00:05<00:00, 166.68it/s]\n",
      "Training Epoch 1627: 100%|██████████| 901/901 [00:05<00:00, 165.90it/s]\n",
      "Training Epoch 1628: 100%|██████████| 901/901 [00:05<00:00, 168.10it/s]\n",
      "Training Epoch 1629: 100%|██████████| 901/901 [00:05<00:00, 167.93it/s]\n",
      "Training Epoch 1630: 100%|██████████| 901/901 [00:05<00:00, 166.74it/s]\n",
      "Training Epoch 1631: 100%|██████████| 901/901 [00:05<00:00, 165.52it/s]\n"
     ]
    },
    {
     "name": "stdout",
     "output_type": "stream",
     "text": [
      "Epoch 1630 - Train Loss: 0.1984, Train MSE: 0.1985, Train MAE: 0.3373\n",
      "Epoch 1630 - Validation Loss: 0.7547, Validation MSE: 0.7547, Validation MAE: 0.6385\n"
     ]
    },
    {
     "name": "stderr",
     "output_type": "stream",
     "text": [
      "Training Epoch 1632: 100%|██████████| 901/901 [00:05<00:00, 170.42it/s]\n",
      "Training Epoch 1633: 100%|██████████| 901/901 [00:05<00:00, 167.09it/s]\n",
      "Training Epoch 1634: 100%|██████████| 901/901 [00:05<00:00, 167.79it/s]\n",
      "Training Epoch 1635: 100%|██████████| 901/901 [00:05<00:00, 167.05it/s]\n",
      "Training Epoch 1636: 100%|██████████| 901/901 [00:05<00:00, 167.77it/s]\n",
      "Training Epoch 1637: 100%|██████████| 901/901 [00:05<00:00, 167.10it/s]\n",
      "Training Epoch 1638: 100%|██████████| 901/901 [00:05<00:00, 166.87it/s]\n",
      "Training Epoch 1639: 100%|██████████| 901/901 [00:05<00:00, 165.96it/s]\n",
      "Training Epoch 1640: 100%|██████████| 901/901 [00:05<00:00, 167.61it/s]\n",
      "Training Epoch 1641: 100%|██████████| 901/901 [00:05<00:00, 167.66it/s]\n"
     ]
    },
    {
     "name": "stdout",
     "output_type": "stream",
     "text": [
      "Epoch 1640 - Train Loss: 0.2000, Train MSE: 0.2001, Train MAE: 0.3399\n",
      "Epoch 1640 - Validation Loss: 0.7615, Validation MSE: 0.7615, Validation MAE: 0.6422\n"
     ]
    },
    {
     "name": "stderr",
     "output_type": "stream",
     "text": [
      "Training Epoch 1642: 100%|██████████| 901/901 [00:05<00:00, 165.04it/s]\n",
      "Training Epoch 1643: 100%|██████████| 901/901 [00:05<00:00, 168.18it/s]\n",
      "Training Epoch 1644: 100%|██████████| 901/901 [00:05<00:00, 165.93it/s]\n",
      "Training Epoch 1645: 100%|██████████| 901/901 [00:05<00:00, 165.60it/s]\n",
      "Training Epoch 1646: 100%|██████████| 901/901 [00:05<00:00, 168.67it/s]\n",
      "Training Epoch 1647: 100%|██████████| 901/901 [00:05<00:00, 166.75it/s]\n",
      "Training Epoch 1648: 100%|██████████| 901/901 [00:05<00:00, 167.57it/s]\n",
      "Training Epoch 1649: 100%|██████████| 901/901 [00:05<00:00, 165.77it/s]\n",
      "Training Epoch 1650: 100%|██████████| 901/901 [00:05<00:00, 165.16it/s]\n",
      "Training Epoch 1651: 100%|██████████| 901/901 [00:05<00:00, 167.73it/s]\n"
     ]
    },
    {
     "name": "stdout",
     "output_type": "stream",
     "text": [
      "Epoch 1650 - Train Loss: 0.1987, Train MSE: 0.1987, Train MAE: 0.3385\n",
      "Epoch 1650 - Validation Loss: 0.7660, Validation MSE: 0.7660, Validation MAE: 0.6467\n"
     ]
    },
    {
     "name": "stderr",
     "output_type": "stream",
     "text": [
      "Training Epoch 1652: 100%|██████████| 901/901 [00:05<00:00, 168.61it/s]\n",
      "Training Epoch 1653: 100%|██████████| 901/901 [00:05<00:00, 169.75it/s]\n",
      "Training Epoch 1654: 100%|██████████| 901/901 [00:05<00:00, 164.72it/s]\n",
      "Training Epoch 1655: 100%|██████████| 901/901 [00:05<00:00, 164.84it/s]\n",
      "Training Epoch 1656: 100%|██████████| 901/901 [00:05<00:00, 166.89it/s]\n",
      "Training Epoch 1657: 100%|██████████| 901/901 [00:05<00:00, 168.54it/s]\n",
      "Training Epoch 1658: 100%|██████████| 901/901 [00:05<00:00, 165.57it/s]\n",
      "Training Epoch 1659: 100%|██████████| 901/901 [00:05<00:00, 165.29it/s]\n",
      "Training Epoch 1660: 100%|██████████| 901/901 [00:05<00:00, 164.47it/s]\n",
      "Training Epoch 1661: 100%|██████████| 901/901 [00:05<00:00, 166.69it/s]\n"
     ]
    },
    {
     "name": "stdout",
     "output_type": "stream",
     "text": [
      "Epoch 1660 - Train Loss: 0.1992, Train MSE: 0.1992, Train MAE: 0.3389\n",
      "Epoch 1660 - Validation Loss: 0.7687, Validation MSE: 0.7687, Validation MAE: 0.6451\n"
     ]
    },
    {
     "name": "stderr",
     "output_type": "stream",
     "text": [
      "Training Epoch 1662: 100%|██████████| 901/901 [00:05<00:00, 167.19it/s]\n",
      "Training Epoch 1663: 100%|██████████| 901/901 [00:05<00:00, 168.77it/s]\n",
      "Training Epoch 1664: 100%|██████████| 901/901 [00:05<00:00, 167.73it/s]\n",
      "Training Epoch 1665: 100%|██████████| 901/901 [00:05<00:00, 165.42it/s]\n",
      "Training Epoch 1666: 100%|██████████| 901/901 [00:05<00:00, 169.69it/s]\n",
      "Training Epoch 1667: 100%|██████████| 901/901 [00:05<00:00, 167.19it/s]\n",
      "Training Epoch 1668: 100%|██████████| 901/901 [00:05<00:00, 168.88it/s]\n",
      "Training Epoch 1669: 100%|██████████| 901/901 [00:05<00:00, 168.43it/s]\n",
      "Training Epoch 1670: 100%|██████████| 901/901 [00:05<00:00, 164.40it/s]\n",
      "Training Epoch 1671: 100%|██████████| 901/901 [00:05<00:00, 166.30it/s]\n"
     ]
    },
    {
     "name": "stdout",
     "output_type": "stream",
     "text": [
      "Epoch 1670 - Train Loss: 0.1959, Train MSE: 0.1959, Train MAE: 0.3364\n",
      "Epoch 1670 - Validation Loss: 0.7508, Validation MSE: 0.7508, Validation MAE: 0.6412\n"
     ]
    },
    {
     "name": "stderr",
     "output_type": "stream",
     "text": [
      "Training Epoch 1672: 100%|██████████| 901/901 [00:05<00:00, 166.46it/s]\n",
      "Training Epoch 1673: 100%|██████████| 901/901 [00:05<00:00, 166.49it/s]\n",
      "Training Epoch 1674: 100%|██████████| 901/901 [00:05<00:00, 169.21it/s]\n",
      "Training Epoch 1675: 100%|██████████| 901/901 [00:05<00:00, 167.11it/s]\n",
      "Training Epoch 1676: 100%|██████████| 901/901 [00:05<00:00, 166.39it/s]\n",
      "Training Epoch 1677: 100%|██████████| 901/901 [00:05<00:00, 167.95it/s]\n",
      "Training Epoch 1678: 100%|██████████| 901/901 [00:05<00:00, 166.91it/s]\n",
      "Training Epoch 1679: 100%|██████████| 901/901 [00:05<00:00, 165.87it/s]\n",
      "Training Epoch 1680: 100%|██████████| 901/901 [00:05<00:00, 169.00it/s]\n",
      "Training Epoch 1681: 100%|██████████| 901/901 [00:05<00:00, 167.61it/s]\n"
     ]
    },
    {
     "name": "stdout",
     "output_type": "stream",
     "text": [
      "Epoch 1680 - Train Loss: 0.2004, Train MSE: 0.2004, Train MAE: 0.3397\n",
      "Epoch 1680 - Validation Loss: 0.7611, Validation MSE: 0.7611, Validation MAE: 0.6431\n"
     ]
    },
    {
     "name": "stderr",
     "output_type": "stream",
     "text": [
      "Training Epoch 1682: 100%|██████████| 901/901 [00:05<00:00, 170.77it/s]\n",
      "Training Epoch 1683: 100%|██████████| 901/901 [00:05<00:00, 167.16it/s]\n",
      "Training Epoch 1684: 100%|██████████| 901/901 [00:05<00:00, 168.11it/s]\n",
      "Training Epoch 1685: 100%|██████████| 901/901 [00:05<00:00, 166.85it/s]\n",
      "Training Epoch 1686: 100%|██████████| 901/901 [00:05<00:00, 168.60it/s]\n",
      "Training Epoch 1687: 100%|██████████| 901/901 [00:05<00:00, 166.73it/s]\n",
      "Training Epoch 1688: 100%|██████████| 901/901 [00:05<00:00, 165.98it/s]\n",
      "Training Epoch 1689: 100%|██████████| 901/901 [00:05<00:00, 167.96it/s]\n",
      "Training Epoch 1690: 100%|██████████| 901/901 [00:05<00:00, 166.25it/s]\n",
      "Training Epoch 1691: 100%|██████████| 901/901 [00:05<00:00, 169.99it/s]\n"
     ]
    },
    {
     "name": "stdout",
     "output_type": "stream",
     "text": [
      "Epoch 1690 - Train Loss: 0.1969, Train MSE: 0.1969, Train MAE: 0.3371\n",
      "Epoch 1690 - Validation Loss: 0.7580, Validation MSE: 0.7580, Validation MAE: 0.6421\n"
     ]
    },
    {
     "name": "stderr",
     "output_type": "stream",
     "text": [
      "Training Epoch 1692: 100%|██████████| 901/901 [00:05<00:00, 169.34it/s]\n",
      "Training Epoch 1693: 100%|██████████| 901/901 [00:05<00:00, 170.25it/s]\n",
      "Training Epoch 1694: 100%|██████████| 901/901 [00:05<00:00, 169.74it/s]\n",
      "Training Epoch 1695: 100%|██████████| 901/901 [00:05<00:00, 162.99it/s]\n",
      "Training Epoch 1696: 100%|██████████| 901/901 [00:05<00:00, 166.46it/s]\n",
      "Training Epoch 1697: 100%|██████████| 901/901 [00:05<00:00, 168.12it/s]\n",
      "Training Epoch 1698: 100%|██████████| 901/901 [00:05<00:00, 168.31it/s]\n",
      "Training Epoch 1699: 100%|██████████| 901/901 [00:05<00:00, 171.37it/s]\n",
      "Training Epoch 1700: 100%|██████████| 901/901 [00:05<00:00, 167.56it/s]\n",
      "Training Epoch 1701: 100%|██████████| 901/901 [00:05<00:00, 161.59it/s]\n"
     ]
    },
    {
     "name": "stdout",
     "output_type": "stream",
     "text": [
      "Epoch 1700 - Train Loss: 0.1985, Train MSE: 0.1985, Train MAE: 0.3393\n",
      "Epoch 1700 - Validation Loss: 0.7575, Validation MSE: 0.7575, Validation MAE: 0.6422\n"
     ]
    },
    {
     "name": "stderr",
     "output_type": "stream",
     "text": [
      "Training Epoch 1702: 100%|██████████| 901/901 [00:05<00:00, 169.37it/s]\n",
      "Training Epoch 1703: 100%|██████████| 901/901 [00:05<00:00, 168.06it/s]\n",
      "Training Epoch 1704: 100%|██████████| 901/901 [00:05<00:00, 166.86it/s]\n",
      "Training Epoch 1705: 100%|██████████| 901/901 [00:05<00:00, 165.56it/s]\n",
      "Training Epoch 1706: 100%|██████████| 901/901 [00:05<00:00, 168.43it/s]\n",
      "Training Epoch 1707: 100%|██████████| 901/901 [00:05<00:00, 167.01it/s]\n",
      "Training Epoch 1708: 100%|██████████| 901/901 [00:05<00:00, 170.70it/s]\n",
      "Training Epoch 1709: 100%|██████████| 901/901 [00:05<00:00, 167.15it/s]\n",
      "Training Epoch 1710: 100%|██████████| 901/901 [00:05<00:00, 163.47it/s]\n",
      "Training Epoch 1711: 100%|██████████| 901/901 [00:05<00:00, 167.17it/s]\n"
     ]
    },
    {
     "name": "stdout",
     "output_type": "stream",
     "text": [
      "Epoch 1710 - Train Loss: 0.1990, Train MSE: 0.1990, Train MAE: 0.3384\n",
      "Epoch 1710 - Validation Loss: 0.7658, Validation MSE: 0.7658, Validation MAE: 0.6427\n"
     ]
    },
    {
     "name": "stderr",
     "output_type": "stream",
     "text": [
      "Training Epoch 1712: 100%|██████████| 901/901 [00:05<00:00, 166.27it/s]\n",
      "Training Epoch 1713: 100%|██████████| 901/901 [00:05<00:00, 168.63it/s]\n",
      "Training Epoch 1714: 100%|██████████| 901/901 [00:05<00:00, 168.81it/s]\n",
      "Training Epoch 1715: 100%|██████████| 901/901 [00:05<00:00, 165.94it/s]\n",
      "Training Epoch 1716: 100%|██████████| 901/901 [00:05<00:00, 166.26it/s]\n",
      "Training Epoch 1717: 100%|██████████| 901/901 [00:05<00:00, 166.89it/s]\n",
      "Training Epoch 1718: 100%|██████████| 901/901 [00:05<00:00, 166.55it/s]\n",
      "Training Epoch 1719: 100%|██████████| 901/901 [00:05<00:00, 170.61it/s]\n",
      "Training Epoch 1720: 100%|██████████| 901/901 [00:05<00:00, 172.48it/s]\n",
      "Training Epoch 1721: 100%|██████████| 901/901 [00:05<00:00, 166.15it/s]\n"
     ]
    },
    {
     "name": "stdout",
     "output_type": "stream",
     "text": [
      "Epoch 1720 - Train Loss: 0.1941, Train MSE: 0.1940, Train MAE: 0.3348\n",
      "Epoch 1720 - Validation Loss: 0.7693, Validation MSE: 0.7693, Validation MAE: 0.6478\n"
     ]
    },
    {
     "name": "stderr",
     "output_type": "stream",
     "text": [
      "Training Epoch 1722: 100%|██████████| 901/901 [00:05<00:00, 167.23it/s]\n",
      "Training Epoch 1723: 100%|██████████| 901/901 [00:05<00:00, 167.81it/s]\n",
      "Training Epoch 1724: 100%|██████████| 901/901 [00:05<00:00, 168.03it/s]\n",
      "Training Epoch 1725: 100%|██████████| 901/901 [00:05<00:00, 171.01it/s]\n",
      "Training Epoch 1726: 100%|██████████| 901/901 [00:05<00:00, 165.64it/s]\n",
      "Training Epoch 1727: 100%|██████████| 901/901 [00:05<00:00, 166.70it/s]\n",
      "Training Epoch 1728: 100%|██████████| 901/901 [00:05<00:00, 167.88it/s]\n",
      "Training Epoch 1729: 100%|██████████| 901/901 [00:05<00:00, 166.20it/s]\n",
      "Training Epoch 1730: 100%|██████████| 901/901 [00:05<00:00, 168.70it/s]\n",
      "Training Epoch 1731: 100%|██████████| 901/901 [00:05<00:00, 167.53it/s]\n"
     ]
    },
    {
     "name": "stdout",
     "output_type": "stream",
     "text": [
      "Epoch 1730 - Train Loss: 0.2000, Train MSE: 0.2001, Train MAE: 0.3396\n",
      "Epoch 1730 - Validation Loss: 0.7528, Validation MSE: 0.7528, Validation MAE: 0.6404\n"
     ]
    },
    {
     "name": "stderr",
     "output_type": "stream",
     "text": [
      "Training Epoch 1732: 100%|██████████| 901/901 [00:05<00:00, 167.42it/s]\n",
      "Training Epoch 1733: 100%|██████████| 901/901 [00:05<00:00, 167.27it/s]\n",
      "Training Epoch 1734: 100%|██████████| 901/901 [00:05<00:00, 166.28it/s]\n",
      "Training Epoch 1735: 100%|██████████| 901/901 [00:05<00:00, 166.84it/s]\n",
      "Training Epoch 1736: 100%|██████████| 901/901 [00:05<00:00, 170.34it/s]\n",
      "Training Epoch 1737: 100%|██████████| 901/901 [00:05<00:00, 167.53it/s]\n",
      "Training Epoch 1738: 100%|██████████| 901/901 [00:05<00:00, 167.43it/s]\n",
      "Training Epoch 1739: 100%|██████████| 901/901 [00:05<00:00, 168.91it/s]\n",
      "Training Epoch 1740: 100%|██████████| 901/901 [00:05<00:00, 165.04it/s]\n",
      "Training Epoch 1741: 100%|██████████| 901/901 [00:05<00:00, 167.54it/s]\n"
     ]
    },
    {
     "name": "stdout",
     "output_type": "stream",
     "text": [
      "Epoch 1740 - Train Loss: 0.1938, Train MSE: 0.1938, Train MAE: 0.3350\n",
      "Epoch 1740 - Validation Loss: 0.7544, Validation MSE: 0.7544, Validation MAE: 0.6404\n"
     ]
    },
    {
     "name": "stderr",
     "output_type": "stream",
     "text": [
      "Training Epoch 1742: 100%|██████████| 901/901 [00:05<00:00, 167.52it/s]\n",
      "Training Epoch 1743: 100%|██████████| 901/901 [00:05<00:00, 166.76it/s]\n",
      "Training Epoch 1744: 100%|██████████| 901/901 [00:05<00:00, 165.85it/s]\n",
      "Training Epoch 1745: 100%|██████████| 901/901 [00:05<00:00, 167.25it/s]\n",
      "Training Epoch 1746: 100%|██████████| 901/901 [00:05<00:00, 164.92it/s]\n",
      "Training Epoch 1747: 100%|██████████| 901/901 [00:05<00:00, 170.46it/s]\n",
      "Training Epoch 1748: 100%|██████████| 901/901 [00:05<00:00, 164.10it/s]\n",
      "Training Epoch 1749: 100%|██████████| 901/901 [00:05<00:00, 167.41it/s]\n",
      "Training Epoch 1750: 100%|██████████| 901/901 [00:05<00:00, 168.49it/s]\n",
      "Training Epoch 1751: 100%|██████████| 901/901 [00:05<00:00, 166.64it/s]\n"
     ]
    },
    {
     "name": "stdout",
     "output_type": "stream",
     "text": [
      "Epoch 1750 - Train Loss: 0.1964, Train MSE: 0.1964, Train MAE: 0.3357\n",
      "Epoch 1750 - Validation Loss: 0.7587, Validation MSE: 0.7587, Validation MAE: 0.6414\n"
     ]
    },
    {
     "name": "stderr",
     "output_type": "stream",
     "text": [
      "Training Epoch 1752: 100%|██████████| 901/901 [00:05<00:00, 167.30it/s]\n",
      "Training Epoch 1753: 100%|██████████| 901/901 [00:05<00:00, 170.71it/s]\n",
      "Training Epoch 1754: 100%|██████████| 901/901 [00:05<00:00, 166.44it/s]\n",
      "Training Epoch 1755: 100%|██████████| 901/901 [00:05<00:00, 166.76it/s]\n",
      "Training Epoch 1756: 100%|██████████| 901/901 [00:06<00:00, 148.18it/s]\n",
      "Training Epoch 1757: 100%|██████████| 901/901 [00:05<00:00, 168.10it/s]\n",
      "Training Epoch 1758: 100%|██████████| 901/901 [00:05<00:00, 169.57it/s]\n",
      "Training Epoch 1759: 100%|██████████| 901/901 [00:05<00:00, 170.89it/s]\n",
      "Training Epoch 1760: 100%|██████████| 901/901 [00:05<00:00, 166.13it/s]\n",
      "Training Epoch 1761: 100%|██████████| 901/901 [00:05<00:00, 166.46it/s]\n"
     ]
    },
    {
     "name": "stdout",
     "output_type": "stream",
     "text": [
      "Epoch 1760 - Train Loss: 0.1945, Train MSE: 0.1945, Train MAE: 0.3347\n",
      "Epoch 1760 - Validation Loss: 0.7517, Validation MSE: 0.7517, Validation MAE: 0.6389\n"
     ]
    },
    {
     "name": "stderr",
     "output_type": "stream",
     "text": [
      "Training Epoch 1762: 100%|██████████| 901/901 [00:05<00:00, 165.76it/s]\n",
      "Training Epoch 1763: 100%|██████████| 901/901 [00:05<00:00, 165.41it/s]\n",
      "Training Epoch 1764: 100%|██████████| 901/901 [00:05<00:00, 170.08it/s]\n",
      "Training Epoch 1765: 100%|██████████| 901/901 [00:05<00:00, 166.49it/s]\n",
      "Training Epoch 1766: 100%|██████████| 901/901 [00:05<00:00, 167.60it/s]\n",
      "Training Epoch 1767: 100%|██████████| 901/901 [00:05<00:00, 166.93it/s]\n",
      "Training Epoch 1768: 100%|██████████| 901/901 [00:05<00:00, 166.06it/s]\n",
      "Training Epoch 1769: 100%|██████████| 901/901 [00:05<00:00, 165.91it/s]\n",
      "Training Epoch 1770: 100%|██████████| 901/901 [00:05<00:00, 167.89it/s]\n",
      "Training Epoch 1771: 100%|██████████| 901/901 [00:05<00:00, 165.78it/s]\n"
     ]
    },
    {
     "name": "stdout",
     "output_type": "stream",
     "text": [
      "Epoch 1770 - Train Loss: 0.1970, Train MSE: 0.1970, Train MAE: 0.3367\n",
      "Epoch 1770 - Validation Loss: 0.7594, Validation MSE: 0.7594, Validation MAE: 0.6453\n"
     ]
    },
    {
     "name": "stderr",
     "output_type": "stream",
     "text": [
      "Training Epoch 1772: 100%|██████████| 901/901 [00:05<00:00, 167.66it/s]\n",
      "Training Epoch 1773: 100%|██████████| 901/901 [00:05<00:00, 166.04it/s]\n",
      "Training Epoch 1774: 100%|██████████| 901/901 [00:05<00:00, 164.25it/s]\n",
      "Training Epoch 1775: 100%|██████████| 901/901 [00:05<00:00, 167.94it/s]\n",
      "Training Epoch 1776: 100%|██████████| 901/901 [00:05<00:00, 168.95it/s]\n",
      "Training Epoch 1777: 100%|██████████| 901/901 [00:05<00:00, 166.42it/s]\n",
      "Training Epoch 1778: 100%|██████████| 901/901 [00:05<00:00, 167.46it/s]\n",
      "Training Epoch 1779: 100%|██████████| 901/901 [00:05<00:00, 171.38it/s]\n",
      "Training Epoch 1780: 100%|██████████| 901/901 [00:05<00:00, 165.95it/s]\n",
      "Training Epoch 1781: 100%|██████████| 901/901 [00:05<00:00, 170.94it/s]\n"
     ]
    },
    {
     "name": "stdout",
     "output_type": "stream",
     "text": [
      "Epoch 1780 - Train Loss: 0.1961, Train MSE: 0.1961, Train MAE: 0.3365\n",
      "Epoch 1780 - Validation Loss: 0.7621, Validation MSE: 0.7621, Validation MAE: 0.6458\n"
     ]
    },
    {
     "name": "stderr",
     "output_type": "stream",
     "text": [
      "Training Epoch 1782: 100%|██████████| 901/901 [00:05<00:00, 167.74it/s]\n",
      "Training Epoch 1783: 100%|██████████| 901/901 [00:05<00:00, 166.78it/s]\n",
      "Training Epoch 1784: 100%|██████████| 901/901 [00:05<00:00, 165.45it/s]\n",
      "Training Epoch 1785: 100%|██████████| 901/901 [00:05<00:00, 166.62it/s]\n",
      "Training Epoch 1786: 100%|██████████| 901/901 [00:05<00:00, 167.58it/s]\n",
      "Training Epoch 1787: 100%|██████████| 901/901 [00:05<00:00, 167.73it/s]\n",
      "Training Epoch 1788: 100%|██████████| 901/901 [00:05<00:00, 167.79it/s]\n",
      "Training Epoch 1789: 100%|██████████| 901/901 [00:05<00:00, 166.19it/s]\n",
      "Training Epoch 1790: 100%|██████████| 901/901 [00:05<00:00, 164.85it/s]\n",
      "Training Epoch 1791: 100%|██████████| 901/901 [00:05<00:00, 167.30it/s]\n"
     ]
    },
    {
     "name": "stdout",
     "output_type": "stream",
     "text": [
      "Epoch 1790 - Train Loss: 0.1959, Train MSE: 0.1958, Train MAE: 0.3355\n",
      "Epoch 1790 - Validation Loss: 0.7568, Validation MSE: 0.7568, Validation MAE: 0.6364\n"
     ]
    },
    {
     "name": "stderr",
     "output_type": "stream",
     "text": [
      "Training Epoch 1792: 100%|██████████| 901/901 [00:05<00:00, 170.03it/s]\n",
      "Training Epoch 1793: 100%|██████████| 901/901 [00:05<00:00, 166.51it/s]\n",
      "Training Epoch 1794: 100%|██████████| 901/901 [00:05<00:00, 165.75it/s]\n",
      "Training Epoch 1795: 100%|██████████| 901/901 [00:05<00:00, 166.59it/s]\n",
      "Training Epoch 1796: 100%|██████████| 901/901 [00:05<00:00, 167.16it/s]\n",
      "Training Epoch 1797: 100%|██████████| 901/901 [00:05<00:00, 167.52it/s]\n",
      "Training Epoch 1798: 100%|██████████| 901/901 [00:05<00:00, 169.94it/s]\n",
      "Training Epoch 1799: 100%|██████████| 901/901 [00:05<00:00, 166.91it/s]\n",
      "Training Epoch 1800: 100%|██████████| 901/901 [00:05<00:00, 171.87it/s]\n",
      "Training Epoch 1801: 100%|██████████| 901/901 [00:05<00:00, 167.89it/s]\n"
     ]
    },
    {
     "name": "stdout",
     "output_type": "stream",
     "text": [
      "Epoch 1800 - Train Loss: 0.1978, Train MSE: 0.1978, Train MAE: 0.3386\n",
      "Epoch 1800 - Validation Loss: 0.7499, Validation MSE: 0.7499, Validation MAE: 0.6416\n"
     ]
    },
    {
     "name": "stderr",
     "output_type": "stream",
     "text": [
      "Training Epoch 1802: 100%|██████████| 901/901 [00:05<00:00, 168.37it/s]\n",
      "Training Epoch 1803: 100%|██████████| 901/901 [00:05<00:00, 167.47it/s]\n",
      "Training Epoch 1804: 100%|██████████| 901/901 [00:05<00:00, 166.83it/s]\n",
      "Training Epoch 1805: 100%|██████████| 901/901 [00:05<00:00, 166.44it/s]\n",
      "Training Epoch 1806: 100%|██████████| 901/901 [00:05<00:00, 166.60it/s]\n",
      "Training Epoch 1807: 100%|██████████| 901/901 [00:05<00:00, 166.05it/s]\n",
      "Training Epoch 1808: 100%|██████████| 901/901 [00:05<00:00, 165.81it/s]\n",
      "Training Epoch 1809: 100%|██████████| 901/901 [00:05<00:00, 169.61it/s]\n",
      "Training Epoch 1810: 100%|██████████| 901/901 [00:05<00:00, 168.47it/s]\n",
      "Training Epoch 1811: 100%|██████████| 901/901 [00:05<00:00, 167.40it/s]\n"
     ]
    },
    {
     "name": "stdout",
     "output_type": "stream",
     "text": [
      "Epoch 1810 - Train Loss: 0.1948, Train MSE: 0.1948, Train MAE: 0.3343\n",
      "Epoch 1810 - Validation Loss: 0.7579, Validation MSE: 0.7579, Validation MAE: 0.6429\n"
     ]
    },
    {
     "name": "stderr",
     "output_type": "stream",
     "text": [
      "Training Epoch 1812: 100%|██████████| 901/901 [00:05<00:00, 166.39it/s]\n",
      "Training Epoch 1813: 100%|██████████| 901/901 [00:05<00:00, 165.58it/s]\n",
      "Training Epoch 1814: 100%|██████████| 901/901 [00:05<00:00, 165.11it/s]\n",
      "Training Epoch 1815: 100%|██████████| 901/901 [00:05<00:00, 165.77it/s]\n",
      "Training Epoch 1816: 100%|██████████| 901/901 [00:05<00:00, 167.04it/s]\n",
      "Training Epoch 1817: 100%|██████████| 901/901 [00:05<00:00, 164.36it/s]\n",
      "Training Epoch 1818: 100%|██████████| 901/901 [00:05<00:00, 165.37it/s]\n",
      "Training Epoch 1819: 100%|██████████| 901/901 [00:05<00:00, 167.26it/s]\n",
      "Training Epoch 1820: 100%|██████████| 901/901 [00:05<00:00, 171.57it/s]\n",
      "Training Epoch 1821: 100%|██████████| 901/901 [00:05<00:00, 167.46it/s]\n"
     ]
    },
    {
     "name": "stdout",
     "output_type": "stream",
     "text": [
      "Epoch 1820 - Train Loss: 0.1917, Train MSE: 0.1917, Train MAE: 0.3326\n",
      "Epoch 1820 - Validation Loss: 0.7470, Validation MSE: 0.7470, Validation MAE: 0.6372\n"
     ]
    },
    {
     "name": "stderr",
     "output_type": "stream",
     "text": [
      "Training Epoch 1822: 100%|██████████| 901/901 [00:05<00:00, 166.40it/s]\n",
      "Training Epoch 1823: 100%|██████████| 901/901 [00:05<00:00, 167.03it/s]\n",
      "Training Epoch 1824: 100%|██████████| 901/901 [00:05<00:00, 164.78it/s]\n",
      "Training Epoch 1825: 100%|██████████| 901/901 [00:05<00:00, 164.60it/s]\n",
      "Training Epoch 1826: 100%|██████████| 901/901 [00:05<00:00, 170.01it/s]\n",
      "Training Epoch 1827: 100%|██████████| 901/901 [00:05<00:00, 168.22it/s]\n",
      "Training Epoch 1828: 100%|██████████| 901/901 [00:05<00:00, 165.86it/s]\n",
      "Training Epoch 1829: 100%|██████████| 901/901 [00:05<00:00, 167.51it/s]\n",
      "Training Epoch 1830: 100%|██████████| 901/901 [00:05<00:00, 165.87it/s]\n",
      "Training Epoch 1831: 100%|██████████| 901/901 [00:05<00:00, 167.71it/s]\n"
     ]
    },
    {
     "name": "stdout",
     "output_type": "stream",
     "text": [
      "Epoch 1830 - Train Loss: 0.1939, Train MSE: 0.1939, Train MAE: 0.3350\n",
      "Epoch 1830 - Validation Loss: 0.7492, Validation MSE: 0.7492, Validation MAE: 0.6381\n"
     ]
    },
    {
     "name": "stderr",
     "output_type": "stream",
     "text": [
      "Training Epoch 1832: 100%|██████████| 901/901 [00:05<00:00, 169.67it/s]\n",
      "Training Epoch 1833: 100%|██████████| 901/901 [00:05<00:00, 165.89it/s]\n",
      "Training Epoch 1834: 100%|██████████| 901/901 [00:05<00:00, 168.29it/s]\n",
      "Training Epoch 1835: 100%|██████████| 901/901 [00:05<00:00, 165.38it/s]\n",
      "Training Epoch 1836: 100%|██████████| 901/901 [00:05<00:00, 166.76it/s]\n",
      "Training Epoch 1837: 100%|██████████| 901/901 [00:05<00:00, 169.03it/s]\n",
      "Training Epoch 1838: 100%|██████████| 901/901 [00:05<00:00, 168.47it/s]\n",
      "Training Epoch 1839: 100%|██████████| 901/901 [00:05<00:00, 167.38it/s]\n",
      "Training Epoch 1840: 100%|██████████| 901/901 [00:05<00:00, 166.88it/s]\n",
      "Training Epoch 1841: 100%|██████████| 901/901 [00:05<00:00, 165.29it/s]\n"
     ]
    },
    {
     "name": "stdout",
     "output_type": "stream",
     "text": [
      "Epoch 1840 - Train Loss: 0.1909, Train MSE: 0.1909, Train MAE: 0.3322\n",
      "Epoch 1840 - Validation Loss: 0.7587, Validation MSE: 0.7587, Validation MAE: 0.6424\n"
     ]
    },
    {
     "name": "stderr",
     "output_type": "stream",
     "text": [
      "Training Epoch 1842: 100%|██████████| 901/901 [00:05<00:00, 167.97it/s]\n",
      "Training Epoch 1843: 100%|██████████| 901/901 [00:05<00:00, 170.99it/s]\n",
      "Training Epoch 1844: 100%|██████████| 901/901 [00:05<00:00, 168.70it/s]\n",
      "Training Epoch 1845: 100%|██████████| 901/901 [00:05<00:00, 166.99it/s]\n",
      "Training Epoch 1846: 100%|██████████| 901/901 [00:05<00:00, 167.39it/s]\n",
      "Training Epoch 1847: 100%|██████████| 901/901 [00:05<00:00, 164.84it/s]\n",
      "Training Epoch 1848: 100%|██████████| 901/901 [00:05<00:00, 166.34it/s]\n",
      "Training Epoch 1849: 100%|██████████| 901/901 [00:05<00:00, 169.59it/s]\n",
      "Training Epoch 1850: 100%|██████████| 901/901 [00:05<00:00, 166.44it/s]\n",
      "Training Epoch 1851: 100%|██████████| 901/901 [00:05<00:00, 164.17it/s]\n"
     ]
    },
    {
     "name": "stdout",
     "output_type": "stream",
     "text": [
      "Epoch 1850 - Train Loss: 0.1949, Train MSE: 0.1948, Train MAE: 0.3347\n",
      "Epoch 1850 - Validation Loss: 0.7527, Validation MSE: 0.7527, Validation MAE: 0.6411\n"
     ]
    },
    {
     "name": "stderr",
     "output_type": "stream",
     "text": [
      "Training Epoch 1852: 100%|██████████| 901/901 [00:05<00:00, 166.13it/s]\n",
      "Training Epoch 1853: 100%|██████████| 901/901 [00:05<00:00, 166.18it/s]\n",
      "Training Epoch 1854: 100%|██████████| 901/901 [00:05<00:00, 172.31it/s]\n",
      "Training Epoch 1855: 100%|██████████| 901/901 [00:05<00:00, 166.09it/s]\n",
      "Training Epoch 1856: 100%|██████████| 901/901 [00:05<00:00, 166.85it/s]\n",
      "Training Epoch 1857: 100%|██████████| 901/901 [00:05<00:00, 165.67it/s]\n",
      "Training Epoch 1858: 100%|██████████| 901/901 [00:05<00:00, 166.45it/s]\n",
      "Training Epoch 1859: 100%|██████████| 901/901 [00:05<00:00, 165.37it/s]\n",
      "Training Epoch 1860: 100%|██████████| 901/901 [00:05<00:00, 171.11it/s]\n",
      "Training Epoch 1861: 100%|██████████| 901/901 [00:05<00:00, 166.43it/s]\n"
     ]
    },
    {
     "name": "stdout",
     "output_type": "stream",
     "text": [
      "Epoch 1860 - Train Loss: 0.1947, Train MSE: 0.1947, Train MAE: 0.3341\n",
      "Epoch 1860 - Validation Loss: 0.7700, Validation MSE: 0.7700, Validation MAE: 0.6458\n"
     ]
    },
    {
     "name": "stderr",
     "output_type": "stream",
     "text": [
      "Training Epoch 1862: 100%|██████████| 901/901 [00:05<00:00, 167.14it/s]\n",
      "Training Epoch 1863: 100%|██████████| 901/901 [00:05<00:00, 166.43it/s]\n",
      "Training Epoch 1864: 100%|██████████| 901/901 [00:05<00:00, 165.00it/s]\n",
      "Training Epoch 1865: 100%|██████████| 901/901 [00:05<00:00, 169.24it/s]\n",
      "Training Epoch 1866: 100%|██████████| 901/901 [00:05<00:00, 167.24it/s]\n",
      "Training Epoch 1867: 100%|██████████| 901/901 [00:05<00:00, 167.76it/s]\n",
      "Training Epoch 1868: 100%|██████████| 901/901 [00:05<00:00, 167.66it/s]\n",
      "Training Epoch 1869: 100%|██████████| 901/901 [00:05<00:00, 167.37it/s]\n",
      "Training Epoch 1870: 100%|██████████| 901/901 [00:05<00:00, 167.10it/s]\n",
      "Training Epoch 1871: 100%|██████████| 901/901 [00:05<00:00, 170.73it/s]\n"
     ]
    },
    {
     "name": "stdout",
     "output_type": "stream",
     "text": [
      "Epoch 1870 - Train Loss: 0.1961, Train MSE: 0.1962, Train MAE: 0.3355\n",
      "Epoch 1870 - Validation Loss: 0.7608, Validation MSE: 0.7608, Validation MAE: 0.6451\n"
     ]
    },
    {
     "name": "stderr",
     "output_type": "stream",
     "text": [
      "Training Epoch 1872: 100%|██████████| 901/901 [00:05<00:00, 166.16it/s]\n",
      "Training Epoch 1873: 100%|██████████| 901/901 [00:05<00:00, 169.95it/s]\n",
      "Training Epoch 1874: 100%|██████████| 901/901 [00:05<00:00, 168.07it/s]\n",
      "Training Epoch 1875: 100%|██████████| 901/901 [00:05<00:00, 167.47it/s]\n",
      "Training Epoch 1876: 100%|██████████| 901/901 [00:05<00:00, 167.84it/s]\n",
      "Training Epoch 1877: 100%|██████████| 901/901 [00:05<00:00, 168.91it/s]\n",
      "Training Epoch 1878: 100%|██████████| 901/901 [00:05<00:00, 165.82it/s]\n",
      "Training Epoch 1879: 100%|██████████| 901/901 [00:05<00:00, 168.95it/s]\n",
      "Training Epoch 1880: 100%|██████████| 901/901 [00:05<00:00, 165.90it/s]\n",
      "Training Epoch 1881: 100%|██████████| 901/901 [00:05<00:00, 167.33it/s]\n"
     ]
    },
    {
     "name": "stdout",
     "output_type": "stream",
     "text": [
      "Epoch 1880 - Train Loss: 0.1962, Train MSE: 0.1961, Train MAE: 0.3342\n",
      "Epoch 1880 - Validation Loss: 0.7567, Validation MSE: 0.7567, Validation MAE: 0.6439\n"
     ]
    },
    {
     "name": "stderr",
     "output_type": "stream",
     "text": [
      "Training Epoch 1882: 100%|██████████| 901/901 [00:05<00:00, 169.12it/s]\n",
      "Training Epoch 1883: 100%|██████████| 901/901 [00:05<00:00, 168.42it/s]\n",
      "Training Epoch 1884: 100%|██████████| 901/901 [00:05<00:00, 167.59it/s]\n",
      "Training Epoch 1885: 100%|██████████| 901/901 [00:05<00:00, 169.21it/s]\n",
      "Training Epoch 1886: 100%|██████████| 901/901 [00:05<00:00, 167.14it/s]\n",
      "Training Epoch 1887: 100%|██████████| 901/901 [00:05<00:00, 167.46it/s]\n",
      "Training Epoch 1888: 100%|██████████| 901/901 [00:05<00:00, 170.11it/s]\n",
      "Training Epoch 1889: 100%|██████████| 901/901 [00:05<00:00, 167.38it/s]\n",
      "Training Epoch 1890: 100%|██████████| 901/901 [00:05<00:00, 166.54it/s]\n",
      "Training Epoch 1891: 100%|██████████| 901/901 [00:05<00:00, 166.87it/s]\n"
     ]
    },
    {
     "name": "stdout",
     "output_type": "stream",
     "text": [
      "Epoch 1890 - Train Loss: 0.1939, Train MSE: 0.1938, Train MAE: 0.3337\n",
      "Epoch 1890 - Validation Loss: 0.7561, Validation MSE: 0.7561, Validation MAE: 0.6424\n"
     ]
    },
    {
     "name": "stderr",
     "output_type": "stream",
     "text": [
      "Training Epoch 1892: 100%|██████████| 901/901 [00:05<00:00, 171.73it/s]\n",
      "Training Epoch 1893: 100%|██████████| 901/901 [00:05<00:00, 163.15it/s]\n",
      "Training Epoch 1894: 100%|██████████| 901/901 [00:05<00:00, 170.18it/s]\n",
      "Training Epoch 1895: 100%|██████████| 901/901 [00:05<00:00, 166.92it/s]\n",
      "Training Epoch 1896: 100%|██████████| 901/901 [00:05<00:00, 164.96it/s]\n",
      "Training Epoch 1897: 100%|██████████| 901/901 [00:05<00:00, 166.98it/s]\n",
      "Training Epoch 1898: 100%|██████████| 901/901 [00:05<00:00, 168.20it/s]\n",
      "Training Epoch 1899: 100%|██████████| 901/901 [00:05<00:00, 164.09it/s]\n",
      "Training Epoch 1900: 100%|██████████| 901/901 [00:05<00:00, 168.03it/s]\n",
      "Training Epoch 1901: 100%|██████████| 901/901 [00:05<00:00, 165.48it/s]\n"
     ]
    },
    {
     "name": "stdout",
     "output_type": "stream",
     "text": [
      "Epoch 1900 - Train Loss: 0.1926, Train MSE: 0.1926, Train MAE: 0.3340\n",
      "Epoch 1900 - Validation Loss: 0.7634, Validation MSE: 0.7634, Validation MAE: 0.6468\n"
     ]
    },
    {
     "name": "stderr",
     "output_type": "stream",
     "text": [
      "Training Epoch 1902: 100%|██████████| 901/901 [00:05<00:00, 165.64it/s]\n",
      "Training Epoch 1903: 100%|██████████| 901/901 [00:05<00:00, 165.92it/s]\n",
      "Training Epoch 1904: 100%|██████████| 901/901 [00:05<00:00, 164.63it/s]\n",
      "Training Epoch 1905: 100%|██████████| 901/901 [00:05<00:00, 168.77it/s]\n",
      "Training Epoch 1906: 100%|██████████| 901/901 [00:05<00:00, 167.26it/s]\n",
      "Training Epoch 1907: 100%|██████████| 901/901 [00:05<00:00, 164.09it/s]\n",
      "Training Epoch 1908: 100%|██████████| 901/901 [00:05<00:00, 165.94it/s]\n",
      "Training Epoch 1909: 100%|██████████| 901/901 [00:05<00:00, 165.29it/s]\n",
      "Training Epoch 1910: 100%|██████████| 901/901 [00:05<00:00, 163.10it/s]\n",
      "Training Epoch 1911: 100%|██████████| 901/901 [00:05<00:00, 168.61it/s]\n"
     ]
    },
    {
     "name": "stdout",
     "output_type": "stream",
     "text": [
      "Epoch 1910 - Train Loss: 0.1918, Train MSE: 0.1918, Train MAE: 0.3319\n",
      "Epoch 1910 - Validation Loss: 0.7642, Validation MSE: 0.7642, Validation MAE: 0.6418\n"
     ]
    },
    {
     "name": "stderr",
     "output_type": "stream",
     "text": [
      "Training Epoch 1912: 100%|██████████| 901/901 [00:05<00:00, 167.21it/s]\n",
      "Training Epoch 1913: 100%|██████████| 901/901 [00:05<00:00, 167.45it/s]\n",
      "Training Epoch 1914: 100%|██████████| 901/901 [00:05<00:00, 166.11it/s]\n",
      "Training Epoch 1915: 100%|██████████| 901/901 [00:05<00:00, 165.69it/s]\n",
      "Training Epoch 1916: 100%|██████████| 901/901 [00:05<00:00, 170.61it/s]\n",
      "Training Epoch 1917: 100%|██████████| 901/901 [00:05<00:00, 165.51it/s]\n",
      "Training Epoch 1918: 100%|██████████| 901/901 [00:05<00:00, 164.49it/s]\n",
      "Training Epoch 1919: 100%|██████████| 901/901 [00:05<00:00, 165.81it/s]\n",
      "Training Epoch 1920: 100%|██████████| 901/901 [00:05<00:00, 164.76it/s]\n",
      "Training Epoch 1921: 100%|██████████| 901/901 [00:05<00:00, 167.25it/s]\n"
     ]
    },
    {
     "name": "stdout",
     "output_type": "stream",
     "text": [
      "Epoch 1920 - Train Loss: 0.1941, Train MSE: 0.1941, Train MAE: 0.3335\n",
      "Epoch 1920 - Validation Loss: 0.7508, Validation MSE: 0.7508, Validation MAE: 0.6393\n"
     ]
    },
    {
     "name": "stderr",
     "output_type": "stream",
     "text": [
      "Training Epoch 1922: 100%|██████████| 901/901 [00:05<00:00, 169.09it/s]\n",
      "Training Epoch 1923: 100%|██████████| 901/901 [00:05<00:00, 165.68it/s]\n",
      "Training Epoch 1924: 100%|██████████| 901/901 [00:05<00:00, 164.98it/s]\n",
      "Training Epoch 1925: 100%|██████████| 901/901 [00:05<00:00, 164.36it/s]\n",
      "Training Epoch 1926: 100%|██████████| 901/901 [00:05<00:00, 163.83it/s]\n",
      "Training Epoch 1927: 100%|██████████| 901/901 [00:05<00:00, 168.01it/s]\n",
      "Training Epoch 1928: 100%|██████████| 901/901 [00:05<00:00, 165.06it/s]\n",
      "Training Epoch 1929: 100%|██████████| 901/901 [00:05<00:00, 163.91it/s]\n",
      "Training Epoch 1930: 100%|██████████| 901/901 [00:05<00:00, 166.02it/s]\n",
      "Training Epoch 1931: 100%|██████████| 901/901 [00:05<00:00, 162.58it/s]\n"
     ]
    },
    {
     "name": "stdout",
     "output_type": "stream",
     "text": [
      "Epoch 1930 - Train Loss: 0.1941, Train MSE: 0.1941, Train MAE: 0.3340\n",
      "Epoch 1930 - Validation Loss: 0.7602, Validation MSE: 0.7602, Validation MAE: 0.6406\n"
     ]
    },
    {
     "name": "stderr",
     "output_type": "stream",
     "text": [
      "Training Epoch 1932: 100%|██████████| 901/901 [00:05<00:00, 166.10it/s]\n",
      "Training Epoch 1933: 100%|██████████| 901/901 [00:05<00:00, 170.08it/s]\n",
      "Training Epoch 1934: 100%|██████████| 901/901 [00:05<00:00, 165.97it/s]\n",
      "Training Epoch 1935: 100%|██████████| 901/901 [00:05<00:00, 162.32it/s]\n",
      "Training Epoch 1936: 100%|██████████| 901/901 [00:05<00:00, 164.85it/s]\n",
      "Training Epoch 1937: 100%|██████████| 901/901 [00:05<00:00, 165.88it/s]\n",
      "Training Epoch 1938: 100%|██████████| 901/901 [00:05<00:00, 165.44it/s]\n",
      "Training Epoch 1939: 100%|██████████| 901/901 [00:05<00:00, 167.63it/s]\n",
      "Training Epoch 1940: 100%|██████████| 901/901 [00:05<00:00, 162.51it/s]\n",
      "Training Epoch 1941: 100%|██████████| 901/901 [00:05<00:00, 166.56it/s]\n"
     ]
    },
    {
     "name": "stdout",
     "output_type": "stream",
     "text": [
      "Epoch 1940 - Train Loss: 0.1906, Train MSE: 0.1906, Train MAE: 0.3302\n",
      "Epoch 1940 - Validation Loss: 0.7562, Validation MSE: 0.7562, Validation MAE: 0.6411\n"
     ]
    },
    {
     "name": "stderr",
     "output_type": "stream",
     "text": [
      "Training Epoch 1942: 100%|██████████| 901/901 [00:05<00:00, 167.33it/s]\n",
      "Training Epoch 1943: 100%|██████████| 901/901 [00:05<00:00, 167.90it/s]\n",
      "Training Epoch 1944: 100%|██████████| 901/901 [00:05<00:00, 170.74it/s]\n",
      "Training Epoch 1945: 100%|██████████| 901/901 [00:05<00:00, 176.56it/s]\n",
      "Training Epoch 1946: 100%|██████████| 901/901 [00:04<00:00, 181.43it/s]\n",
      "Training Epoch 1947: 100%|██████████| 901/901 [00:04<00:00, 181.94it/s]\n",
      "Training Epoch 1948: 100%|██████████| 901/901 [00:05<00:00, 179.98it/s]\n",
      "Training Epoch 1949: 100%|██████████| 901/901 [00:04<00:00, 184.49it/s]\n",
      "Training Epoch 1950: 100%|██████████| 901/901 [00:04<00:00, 189.66it/s]\n",
      "Training Epoch 1951: 100%|██████████| 901/901 [00:04<00:00, 183.67it/s]\n"
     ]
    },
    {
     "name": "stdout",
     "output_type": "stream",
     "text": [
      "Epoch 1950 - Train Loss: 0.1935, Train MSE: 0.1936, Train MAE: 0.3339\n",
      "Epoch 1950 - Validation Loss: 0.7645, Validation MSE: 0.7645, Validation MAE: 0.6442\n"
     ]
    },
    {
     "name": "stderr",
     "output_type": "stream",
     "text": [
      "Training Epoch 1952: 100%|██████████| 901/901 [00:04<00:00, 180.70it/s]\n",
      "Training Epoch 1953: 100%|██████████| 901/901 [00:04<00:00, 186.18it/s]\n",
      "Training Epoch 1954: 100%|██████████| 901/901 [00:04<00:00, 181.51it/s]\n",
      "Training Epoch 1955: 100%|██████████| 901/901 [00:04<00:00, 182.79it/s]\n",
      "Training Epoch 1956: 100%|██████████| 901/901 [00:04<00:00, 182.88it/s]\n",
      "Training Epoch 1957: 100%|██████████| 901/901 [00:04<00:00, 181.44it/s]\n",
      "Training Epoch 1958: 100%|██████████| 901/901 [00:05<00:00, 179.50it/s]\n",
      "Training Epoch 1959: 100%|██████████| 901/901 [00:04<00:00, 183.08it/s]\n",
      "Training Epoch 1960: 100%|██████████| 901/901 [00:04<00:00, 181.81it/s]\n",
      "Training Epoch 1961: 100%|██████████| 901/901 [00:04<00:00, 187.58it/s]\n"
     ]
    },
    {
     "name": "stdout",
     "output_type": "stream",
     "text": [
      "Epoch 1960 - Train Loss: 0.1940, Train MSE: 0.1940, Train MAE: 0.3341\n",
      "Epoch 1960 - Validation Loss: 0.7573, Validation MSE: 0.7573, Validation MAE: 0.6408\n"
     ]
    },
    {
     "name": "stderr",
     "output_type": "stream",
     "text": [
      "Training Epoch 1962: 100%|██████████| 901/901 [00:04<00:00, 183.68it/s]\n",
      "Training Epoch 1963: 100%|██████████| 901/901 [00:04<00:00, 180.52it/s]\n",
      "Training Epoch 1964: 100%|██████████| 901/901 [00:04<00:00, 180.70it/s]\n",
      "Training Epoch 1965: 100%|██████████| 901/901 [00:04<00:00, 180.99it/s]\n",
      "Training Epoch 1966: 100%|██████████| 901/901 [00:04<00:00, 183.81it/s]\n",
      "Training Epoch 1967: 100%|██████████| 901/901 [00:04<00:00, 185.36it/s]\n",
      "Training Epoch 1968: 100%|██████████| 901/901 [00:04<00:00, 182.29it/s]\n",
      "Training Epoch 1969: 100%|██████████| 901/901 [00:05<00:00, 178.04it/s]\n",
      "Training Epoch 1970: 100%|██████████| 901/901 [00:04<00:00, 181.66it/s]\n",
      "Training Epoch 1971: 100%|██████████| 901/901 [00:04<00:00, 181.32it/s]\n"
     ]
    },
    {
     "name": "stdout",
     "output_type": "stream",
     "text": [
      "Epoch 1970 - Train Loss: 0.1947, Train MSE: 0.1947, Train MAE: 0.3339\n",
      "Epoch 1970 - Validation Loss: 0.7572, Validation MSE: 0.7572, Validation MAE: 0.6422\n"
     ]
    },
    {
     "name": "stderr",
     "output_type": "stream",
     "text": [
      "Training Epoch 1972: 100%|██████████| 901/901 [00:05<00:00, 180.18it/s]\n",
      "Training Epoch 1973: 100%|██████████| 901/901 [00:04<00:00, 187.28it/s]\n",
      "Training Epoch 1974: 100%|██████████| 901/901 [00:05<00:00, 179.59it/s]\n",
      "Training Epoch 1975: 100%|██████████| 901/901 [00:04<00:00, 183.14it/s]\n",
      "Training Epoch 1976: 100%|██████████| 901/901 [00:04<00:00, 181.75it/s]\n",
      "Training Epoch 1977: 100%|██████████| 901/901 [00:04<00:00, 181.89it/s]\n",
      "Training Epoch 1978: 100%|██████████| 901/901 [00:04<00:00, 187.15it/s]\n",
      "Training Epoch 1979: 100%|██████████| 901/901 [00:04<00:00, 181.75it/s]\n",
      "Training Epoch 1980: 100%|██████████| 901/901 [00:04<00:00, 180.63it/s]\n",
      "Training Epoch 1981: 100%|██████████| 901/901 [00:04<00:00, 182.09it/s]\n"
     ]
    },
    {
     "name": "stdout",
     "output_type": "stream",
     "text": [
      "Epoch 1980 - Train Loss: 0.1947, Train MSE: 0.1947, Train MAE: 0.3338\n",
      "Epoch 1980 - Validation Loss: 0.7651, Validation MSE: 0.7651, Validation MAE: 0.6481\n"
     ]
    },
    {
     "name": "stderr",
     "output_type": "stream",
     "text": [
      "Training Epoch 1982: 100%|██████████| 901/901 [00:04<00:00, 180.53it/s]\n",
      "Training Epoch 1983: 100%|██████████| 901/901 [00:04<00:00, 182.84it/s]\n",
      "Training Epoch 1984: 100%|██████████| 901/901 [00:04<00:00, 186.03it/s]\n",
      "Training Epoch 1985: 100%|██████████| 901/901 [00:04<00:00, 181.19it/s]\n",
      "Training Epoch 1986: 100%|██████████| 901/901 [00:04<00:00, 182.23it/s]\n",
      "Training Epoch 1987: 100%|██████████| 901/901 [00:04<00:00, 181.99it/s]\n",
      "Training Epoch 1988: 100%|██████████| 901/901 [00:05<00:00, 177.37it/s]\n",
      "Training Epoch 1989: 100%|██████████| 901/901 [00:04<00:00, 183.34it/s]\n",
      "Training Epoch 1990: 100%|██████████| 901/901 [00:04<00:00, 189.27it/s]\n",
      "Training Epoch 1991: 100%|██████████| 901/901 [00:05<00:00, 179.23it/s]\n"
     ]
    },
    {
     "name": "stdout",
     "output_type": "stream",
     "text": [
      "Epoch 1990 - Train Loss: 0.1891, Train MSE: 0.1891, Train MAE: 0.3303\n",
      "Epoch 1990 - Validation Loss: 0.7547, Validation MSE: 0.7547, Validation MAE: 0.6411\n"
     ]
    },
    {
     "name": "stderr",
     "output_type": "stream",
     "text": [
      "Training Epoch 1992: 100%|██████████| 901/901 [00:04<00:00, 181.20it/s]\n",
      "Training Epoch 1993: 100%|██████████| 901/901 [00:04<00:00, 182.81it/s]\n",
      "Training Epoch 1994: 100%|██████████| 901/901 [00:05<00:00, 178.56it/s]\n",
      "Training Epoch 1995: 100%|██████████| 901/901 [00:04<00:00, 182.95it/s]\n",
      "Training Epoch 1996: 100%|██████████| 901/901 [00:04<00:00, 184.25it/s]\n",
      "Training Epoch 1997: 100%|██████████| 901/901 [00:05<00:00, 177.86it/s]\n",
      "Training Epoch 1998: 100%|██████████| 901/901 [00:04<00:00, 180.72it/s]\n",
      "Training Epoch 1999: 100%|██████████| 901/901 [00:05<00:00, 180.20it/s]\n",
      "Training Epoch 2000: 100%|██████████| 901/901 [00:04<00:00, 180.34it/s]\n"
     ]
    },
    {
     "ename": "TypeError",
     "evalue": "iteration over a 0-d array",
     "output_type": "error",
     "traceback": [
      "\u001b[0;31m---------------------------------------------------------------------------\u001b[0m",
      "\u001b[0;31mTypeError\u001b[0m                                 Traceback (most recent call last)",
      "Cell \u001b[0;32mIn[16], line 113\u001b[0m\n\u001b[1;32m    110\u001b[0m         noisy_protein_features \u001b[38;5;241m=\u001b[39m model\u001b[38;5;241m.\u001b[39madd_noise(protein_features, noise_level\u001b[38;5;241m=\u001b[39m\u001b[38;5;241m0.1\u001b[39m)\n\u001b[1;32m    112\u001b[0m         outputs \u001b[38;5;241m=\u001b[39m model(noisy_mol_features, noisy_protein_features, torch\u001b[38;5;241m.\u001b[39mrandint(\u001b[38;5;241m0\u001b[39m, num_timesteps, (mol_features\u001b[38;5;241m.\u001b[39msize(\u001b[38;5;241m0\u001b[39m),))\u001b[38;5;241m.\u001b[39mto(device))\u001b[38;5;241m.\u001b[39msqueeze()\n\u001b[0;32m--> 113\u001b[0m         test_predictions\u001b[38;5;241m.\u001b[39mextend(outputs\u001b[38;5;241m.\u001b[39mcpu()\u001b[38;5;241m.\u001b[39mnumpy())\n\u001b[1;32m    114\u001b[0m         test_labels\u001b[38;5;241m.\u001b[39mextend(labels\u001b[38;5;241m.\u001b[39mcpu()\u001b[38;5;241m.\u001b[39mnumpy())\n\u001b[1;32m    116\u001b[0m test_mse \u001b[38;5;241m=\u001b[39m ((torch\u001b[38;5;241m.\u001b[39mtensor(test_predictions) \u001b[38;5;241m-\u001b[39m torch\u001b[38;5;241m.\u001b[39mtensor(test_labels))\u001b[38;5;241m*\u001b[39m\u001b[38;5;241m*\u001b[39m\u001b[38;5;241m2\u001b[39m)\u001b[38;5;241m.\u001b[39mmean()\u001b[38;5;241m.\u001b[39mitem()\n",
      "\u001b[0;31mTypeError\u001b[0m: iteration over a 0-d array"
     ]
    }
   ],
   "source": [
    "import torch\n",
    "import torch.nn as nn\n",
    "import torch.optim as optim\n",
    "from tqdm import tqdm\n",
    "import pandas as pd\n",
    "from sklearn.metrics import r2_score, median_absolute_error, explained_variance_score\n",
    "from scipy.stats import pearsonr\n",
    "\n",
    "train_history = pd.DataFrame(columns=[ 'epoch',\n",
    "    'Train Loss', 'Train MSE', 'Train MAE', 'Train RMSE', 'Train R2', 'Train Pearson', 'Train Median_AE', 'Train Explained_VAR'\n",
    "    'Val Loss', 'Val MSE', 'Val MAE', 'Val RMSE', 'Val R2', 'Val Pearson', 'Val Median_AE', 'Val Explained_VAR'])\n",
    "# Verify feature dimensions\n",
    "for batch in train_loader:\n",
    "    mol_input_dim = batch['metabolite_features'].shape[1]  # Dynamically determine mol input dimension\n",
    "    protein_input_dim = batch['protein_features'].shape[1]  # Dynamically determine protein input dimension\n",
    "    break\n",
    "\n",
    "# Initialize model, optimizer, and loss function\n",
    "num_timesteps = 10\n",
    "model = DiffusionGenerativeModel(mol_input_dim=mol_input_dim, protein_input_dim=protein_input_dim, hidden_dim=512, num_timesteps=num_timesteps)\n",
    "model = model.to(device)\n",
    "optimizer = optim.Adam(model.parameters(), lr=0.0001)\n",
    "criterion = nn.MSELoss()\n",
    "\n",
    "# Training and Validation Loop\n",
    "for epoch in range(2000):\n",
    "    model.train()\n",
    "    total_loss = 0.0\n",
    "    val_total_loss = 0.0\n",
    "    train_predictions, train_labels = [], []\n",
    "\n",
    "    for batch in tqdm(train_loader, desc=f\"Training Epoch {epoch + 1}\"):\n",
    "        mol_features = batch['metabolite_features'].to(device)\n",
    "        protein_features = batch['protein_features'].to(device)\n",
    "        labels = batch['label'].to(device)\n",
    "\n",
    "        # Add noise to the features\n",
    "        noisy_mol_features = model.add_noise(mol_features, noise_level=0.1)\n",
    "        noisy_protein_features = model.add_noise(protein_features, noise_level=0.1)\n",
    "\n",
    "        optimizer.zero_grad()\n",
    "        outputs = model(noisy_mol_features, noisy_protein_features, torch.randint(0, num_timesteps, (mol_features.size(0),)).to(device)).squeeze()\n",
    "        loss = criterion(outputs, labels)\n",
    "        loss.backward()\n",
    "        optimizer.step()\n",
    "        total_loss += loss.item()\n",
    "\n",
    "        # Store predictions and labels for metrics\n",
    "        train_predictions.extend(outputs.detach().cpu().numpy())\n",
    "        train_labels.extend(labels.cpu().numpy())\n",
    "\n",
    "    # Calculate training metrics\n",
    "    train_mse = ((torch.tensor(train_predictions) - torch.tensor(train_labels))**2).mean().item()\n",
    "    train_mae = torch.abs(torch.tensor(train_predictions) - torch.tensor(train_labels)).mean().item()\n",
    "    train_rmse = torch.sqrt((torch.tensor(train_predictions) - torch.tensor(train_labels)) ** 2).mean().item()\n",
    "    train_r2 = r2_score(np.array(train_labels), np.array(train_predictions))\n",
    "    train_pearson_corr, _ = pearsonr(np.array(train_labels), np.array(train_predictions))\n",
    "    train_median_ae = median_absolute_error(np.array(train_labels), np.array(train_predictions))\n",
    "    train_explained_var = explained_variance_score(np.array(train_labels), np.array(train_predictions))\n",
    "\n",
    "    if epoch % 10 == 0:\n",
    "        print(f\"Epoch {epoch} - Train Loss: {total_loss / len(train_loader):.4f}, Train MSE: {train_mse:.4f}, Train MAE: {train_mae:.4f}\")\n",
    "\n",
    "    # Validation\n",
    "    model.eval()\n",
    "    val_predictions, val_labels = [], []\n",
    "    with torch.no_grad():\n",
    "        for batch in val_loader:\n",
    "            mol_features = batch['metabolite_features'].to(device)\n",
    "            protein_features = batch['protein_features'].to(device)\n",
    "            labels = batch['label'].to(device)\n",
    "\n",
    "            # Add noise to the features\n",
    "            noisy_mol_features = model.add_noise(mol_features, noise_level=0.1)\n",
    "            noisy_protein_features = model.add_noise(protein_features, noise_level=0.1)\n",
    "\n",
    "            outputs = model(noisy_mol_features, noisy_protein_features, torch.randint(0, num_timesteps, (mol_features.size(0),)).to(device)).squeeze()\n",
    "            val_predictions.extend(outputs.cpu().numpy())\n",
    "            val_labels.extend(labels.cpu().numpy())\n",
    "            val_loss = criterion(outputs, labels)\n",
    "            val_total_loss += val_loss.item()\n",
    "\n",
    "    val_mse = ((torch.tensor(val_predictions) - torch.tensor(val_labels))**2).mean().item()\n",
    "    val_mae = torch.abs(torch.tensor(val_predictions) - torch.tensor(val_labels)).mean().item()\n",
    "    val_rmse = torch.sqrt((torch.tensor(val_predictions) - torch.tensor(val_labels)) ** 2).mean().item()\n",
    "    val_r2 = r2_score(np.array(val_labels), np.array(val_predictions))\n",
    "    val_pearson_corr, _ = pearsonr(np.array(val_labels), np.array(val_predictions))\n",
    "    val_median_ae = median_absolute_error(np.array(val_labels), np.array(val_predictions))\n",
    "    val_explained_var = explained_variance_score(np.array(val_labels), np.array(val_predictions))\n",
    "\n",
    "    if epoch % 10 == 0:\n",
    "        print(f\"Epoch {epoch} - Validation Loss: {val_total_loss / len(val_loader):.4f}, Validation MSE: {val_mse:.4f}, Validation MAE: {val_mae:.4f}\")\n",
    "\n",
    "    # Save metrics to DataFrame\n",
    "    new_row = {'epoch': epoch + 1, 'Train Loss': total_loss / len(train_loader), 'Train MSE': train_mse, 'Train MAE': train_mae, 'Train RMSE': train_rmse, 'Train R2': train_r2, 'Train Pearson': train_pearson_corr, 'Train Median_AE': train_median_ae, 'Train Explained_VAR': train_explained_var, \n",
    "               'Val Loss': val_total_loss / len(val_loader), 'Val MSE': val_mse, 'Val MAE': val_mae, 'Val RMSE': val_rmse, 'Val R2': val_r2, 'Val Pearson': val_pearson_corr, 'Val Median_AE': val_median_ae, 'Val Explained_VAR': val_explained_var}\n",
    "    train_history = pd.concat([train_history, pd.DataFrame([new_row])], ignore_index=True)\n",
    "\n",
    "\n"
   ]
  },
  {
   "cell_type": "code",
   "execution_count": 14,
   "metadata": {},
   "outputs": [],
   "source": [
    "for batch in train_loader:\n",
    "    mol_input_dim = batch['metabolite_features'].shape[1]  # Dynamically determine mol input dimension\n",
    "    protein_input_dim = batch['protein_features'].shape[1]  # Dynamically determine protein input dimension\n",
    "    break\n",
    "model = DiffusionGenerativeModel(mol_input_dim=mol_input_dim, protein_input_dim=protein_input_dim, hidden_dim=512, num_timesteps=10)\n",
    "# Load the saved model weights\n",
    "model.load_state_dict(torch.load('/Users/pinchichen/2025S lab/AI drug project/Catpred/Km/trained_model/random_split/Diffusion model_Catpred_Km.pt'))\n",
    "# Move to device if using GPU\n",
    "model = model.to(device)"
   ]
  },
  {
   "cell_type": "code",
   "execution_count": 15,
   "metadata": {},
   "outputs": [
    {
     "name": "stdout",
     "output_type": "stream",
     "text": [
      "Test MSE: 0.7718, Test RMSE: 0.878519745, Test MAE: 0.6525, Test R2: 0.5315, Test Pearson Correlation: 0.7334, Test Median AE: 0.5019, Test Explained Variance: 0.5318\n"
     ]
    }
   ],
   "source": [
    "from sklearn.metrics import mean_squared_error,mean_absolute_error,r2_score, median_absolute_error, explained_variance_score\n",
    "from scipy.stats import pearsonr\n",
    "# Test Metrics\n",
    "model.eval()\n",
    "test_predictions, test_labels = [], []\n",
    "with torch.no_grad():\n",
    "    for batch in test_loader:\n",
    "        mol_features = batch['metabolite_features'].to(device)\n",
    "        protein_features = batch['protein_features'].to(device)\n",
    "        labels = batch['label'].to(device)\n",
    "\n",
    "        # Add noise to the features\n",
    "        noisy_mol_features = model.add_noise(mol_features, noise_level=0.1)\n",
    "        noisy_protein_features = model.add_noise(protein_features, noise_level=0.1)\n",
    "\n",
    "        outputs = model(noisy_mol_features, noisy_protein_features, torch.randint(0, 10, (mol_features.size(0),)).to(device)).squeeze()\n",
    "        test_predictions.extend(outputs.view(-1).cpu().numpy().tolist())\n",
    "        test_labels.extend(labels.view(-1).cpu().numpy().tolist())\n",
    "\n",
    "test_mse = ((torch.tensor(test_predictions) - torch.tensor(test_labels))**2).mean().item()\n",
    "test_mae = torch.abs(torch.tensor(test_predictions) - torch.tensor(test_labels)).mean().item()\n",
    "test_rmse = np.sqrt(test_mse)\n",
    "test_r2 = r2_score(np.array(test_labels), np.array(test_predictions))\n",
    "test_pearson_corr, _ = pearsonr(np.array(test_labels), np.array(test_predictions))\n",
    "test_median_ae = median_absolute_error(np.array(test_labels), np.array(test_predictions))\n",
    "test_explained_var = explained_variance_score(np.array(test_labels), np.array(test_predictions))\n",
    "print(f\"Test MSE: {test_mse:.4f}, Test RMSE: {test_rmse:.9f}, Test MAE: {test_mae:.4f}, Test R2: {test_r2:.4f}, Test Pearson Correlation: {test_pearson_corr:.4f}, Test Median AE: {test_median_ae:.4f}, Test Explained Variance: {test_explained_var:.4f}\")"
   ]
  },
  {
   "cell_type": "code",
   "execution_count": 11,
   "metadata": {},
   "outputs": [],
   "source": [
    "def evaluate_model(predictions, labels):\n",
    "    mse = mean_squared_error(labels, predictions)\n",
    "    rmse = np.sqrt(mse)\n",
    "    mae = mean_absolute_error(labels, predictions)\n",
    "    r2 = r2_score(labels, predictions)\n",
    "    pearson_corr, _ = pearsonr(labels, predictions)\n",
    "    medae = median_absolute_error(labels, predictions)\n",
    "    evs = explained_variance_score(labels, predictions)\n",
    "\n",
    "    return mse, rmse, mae, r2, pearson_corr, medae, evs"
   ]
  },
  {
   "cell_type": "code",
   "execution_count": 12,
   "metadata": {},
   "outputs": [],
   "source": [
    "model.eval()\n",
    "train_pred, train_labels = [], []\n",
    "with torch.no_grad():\n",
    "    for batch in train_loader:\n",
    "        mol_features = batch['metabolite_features'].to(device)\n",
    "        protein_features = batch['protein_features'].to(device)\n",
    "        labels = batch['label'].to(device)\n",
    "\n",
    "        noisy_mol_features = model.add_noise(mol_features, noise_level=0.1)\n",
    "        noisy_protein_features = model.add_noise(protein_features, noise_level=0.1)\n",
    "\n",
    "        outputs = model(noisy_mol_features, noisy_protein_features, torch.randint(0, 10, (mol_features.size(0),)).to(device)).squeeze()\n",
    "        train_pred.extend(outputs.cpu().numpy())\n",
    "        train_labels.extend(labels.cpu().numpy())\n",
    "\n",
    "train_mse, train_rmse, train_mae, train_r2, train_pearson_corr, train_median_ae, train_explained_var = evaluate_model(train_pred, train_labels)"
   ]
  },
  {
   "cell_type": "code",
   "execution_count": 13,
   "metadata": {},
   "outputs": [],
   "source": [
    "model.eval()\n",
    "val_pred, val_labels = [], []\n",
    "with torch.no_grad():\n",
    "    for batch in val_loader:\n",
    "        mol_features = batch['metabolite_features'].to(device)\n",
    "        protein_features = batch['protein_features'].to(device)\n",
    "        labels = batch['label'].to(device)\n",
    "\n",
    "        noisy_mol_features = model.add_noise(mol_features, noise_level=0.1)\n",
    "        noisy_protein_features = model.add_noise(protein_features, noise_level=0.1)\n",
    "\n",
    "        outputs = model(noisy_mol_features, noisy_protein_features, torch.randint(0, 10, (mol_features.size(0),)).to(device)).squeeze()\n",
    "        val_pred.extend(outputs.cpu().numpy())\n",
    "        val_labels.extend(labels.cpu().numpy())\n",
    "\n",
    "val_mse, val_rmse, val_mae, val_r2, val_pearson_corr, val_median_ae, val_explained_var = evaluate_model(val_pred, val_labels)\n"
   ]
  },
  {
   "cell_type": "code",
   "execution_count": 14,
   "metadata": {},
   "outputs": [],
   "source": [
    "# append the performance to the csv file\n",
    "df = {\n",
    "    'Model':['Diffusion Model','Diffusion Model','Diffusion Model'],\n",
    "    'Dataset':['Train','Validation','Test'],\n",
    "    'MSE':[train_mse,val_mse,test_mse],\n",
    "    'RMSE':[train_rmse,val_rmse,test_rmse],\n",
    "    'MAE':[train_mae,val_mae,test_mae],\n",
    "    'R2':[train_r2,val_r2,test_r2],\n",
    "    'Pearson':[train_pearson_corr,val_pearson_corr,test_pearson_corr],\n",
    "    'Median_AE':[train_median_ae,val_median_ae,test_median_ae],\n",
    "    'Explained_VAR':[train_explained_var,val_explained_var,test_explained_var],\n",
    "    'Dataspliting Mode':['random','random','random']\n",
    "}\n",
    "df = pd.DataFrame(df)\n",
    "\n",
    "df.to_csv('/Users/pinchichen/2025S lab/AI drug project/Catpred/Km/model performance metrics_Catpred_Km.csv', mode='a', header=False)"
   ]
  },
  {
   "cell_type": "code",
   "execution_count": 20,
   "metadata": {},
   "outputs": [],
   "source": [
    "# Save the model and training history\n",
    "save_dir = '/Users/pinchichen/2025S lab/AI drug project/Catpred/Km/trained_model/random_split'\n",
    "# save model weights and optimizer state\n",
    "torch.save(model.state_dict(), os.path.join(save_dir, 'Diffusion model_Catpred_Km.pt'))\n",
    "torch.save(optimizer.state_dict(), os.path.join(save_dir, 'Diffusion model optimizer_Catpred_Km.pt'))"
   ]
  },
  {
   "cell_type": "code",
   "execution_count": 21,
   "metadata": {},
   "outputs": [
    {
     "data": {
      "image/png": "[encoded data removed]",
      "text/plain": [
       "<Figure size 1000x600 with 1 Axes>"
      ]
     },
     "metadata": {},
     "output_type": "display_data"
    }
   ],
   "source": [
    "import matplotlib.pyplot as plt\n",
    "import seaborn as sns\n",
    "sns.set(style='ticks')\n",
    "# Load metrics\n",
    "\n",
    "metrics = train_history\n",
    "\n",
    "# Plot the training loss over epochs using seaborn\n",
    "plt.figure(figsize=(10, 6))\n",
    "# sns.lineplot(data=metrics, x='epoch', y='Train Loss', label='Train Loss')\n",
    "# sns.lineplot(data=metrics, x='epoch', y='Val Loss', label='Val Loss')\n",
    "sns.lineplot(data=metrics, x='epoch', y='Val MSE', label='Valid_RMSE')\n",
    "sns.lineplot(data=metrics, x='epoch', y='Train MSE', label='Train_RMSE')\n",
    "# sns.lineplot(data=metrics, x='Epoch', y='Valid_MAE', label='Valid_MAE')\n",
    "# Add titles and labels\n",
    "plt.title('Training and Validation Metrics Over Epochs', fontsize=14)\n",
    "# Define the range of tick positions\n",
    "plt.xlabel('Epoch', fontsize=12)\n",
    "plt.ylabel('Loss', fontsize=12)\n",
    "plt.grid(False)\n",
    "# Show the plot\n",
    "plt.show()\n"
   ]
  },
  {
   "cell_type": "code",
   "execution_count": 22,
   "metadata": {},
   "outputs": [
    {
     "data": {
      "text/html": [
       "<div>\n",
       "<style scoped>\n",
       "    .dataframe tbody tr th:only-of-type {\n",
       "        vertical-align: middle;\n",
       "    }\n",
       "\n",
       "    .dataframe tbody tr th {\n",
       "        vertical-align: top;\n",
       "    }\n",
       "\n",
       "    .dataframe thead th {\n",
       "        text-align: right;\n",
       "    }\n",
       "</style>\n",
       "<table border=\"1\" class=\"dataframe\">\n",
       "  <thead>\n",
       "    <tr style=\"text-align: right;\">\n",
       "      <th></th>\n",
       "      <th>epoch</th>\n",
       "      <th>Train Loss</th>\n",
       "      <th>Train MSE</th>\n",
       "      <th>Train MAE</th>\n",
       "      <th>Train RMSE</th>\n",
       "      <th>Train R2</th>\n",
       "      <th>Train Pearson</th>\n",
       "      <th>Train Median_AE</th>\n",
       "      <th>Train Explained_VARVal Loss</th>\n",
       "      <th>Val MSE</th>\n",
       "      <th>Val MAE</th>\n",
       "      <th>Val RMSE</th>\n",
       "      <th>Val R2</th>\n",
       "      <th>Val Pearson</th>\n",
       "      <th>Val Median_AE</th>\n",
       "      <th>Val Explained_VAR</th>\n",
       "      <th>Train Explained_VAR</th>\n",
       "      <th>Val Loss</th>\n",
       "    </tr>\n",
       "  </thead>\n",
       "  <tbody>\n",
       "    <tr>\n",
       "      <th>1995</th>\n",
       "      <td>1996</td>\n",
       "      <td>0.191065</td>\n",
       "      <td>0.191109</td>\n",
       "      <td>0.330621</td>\n",
       "      <td>0.330621</td>\n",
       "      <td>0.882393</td>\n",
       "      <td>0.939361</td>\n",
       "      <td>0.259829</td>\n",
       "      <td>NaN</td>\n",
       "      <td>0.752841</td>\n",
       "      <td>0.639834</td>\n",
       "      <td>0.639834</td>\n",
       "      <td>0.520558</td>\n",
       "      <td>0.727027</td>\n",
       "      <td>0.477811</td>\n",
       "      <td>0.521994</td>\n",
       "      <td>0.882394</td>\n",
       "      <td>0.752841</td>\n",
       "    </tr>\n",
       "    <tr>\n",
       "      <th>1996</th>\n",
       "      <td>1997</td>\n",
       "      <td>0.188615</td>\n",
       "      <td>0.188649</td>\n",
       "      <td>0.330012</td>\n",
       "      <td>0.330012</td>\n",
       "      <td>0.883908</td>\n",
       "      <td>0.940166</td>\n",
       "      <td>0.261694</td>\n",
       "      <td>NaN</td>\n",
       "      <td>0.759177</td>\n",
       "      <td>0.641019</td>\n",
       "      <td>0.641019</td>\n",
       "      <td>0.516523</td>\n",
       "      <td>0.723630</td>\n",
       "      <td>0.479852</td>\n",
       "      <td>0.516694</td>\n",
       "      <td>0.883908</td>\n",
       "      <td>0.759177</td>\n",
       "    </tr>\n",
       "    <tr>\n",
       "      <th>1997</th>\n",
       "      <td>1998</td>\n",
       "      <td>0.196397</td>\n",
       "      <td>0.196435</td>\n",
       "      <td>0.335769</td>\n",
       "      <td>0.335769</td>\n",
       "      <td>0.879116</td>\n",
       "      <td>0.937613</td>\n",
       "      <td>0.266561</td>\n",
       "      <td>NaN</td>\n",
       "      <td>0.757247</td>\n",
       "      <td>0.642582</td>\n",
       "      <td>0.642582</td>\n",
       "      <td>0.517752</td>\n",
       "      <td>0.726347</td>\n",
       "      <td>0.479817</td>\n",
       "      <td>0.520178</td>\n",
       "      <td>0.879117</td>\n",
       "      <td>0.757247</td>\n",
       "    </tr>\n",
       "    <tr>\n",
       "      <th>1998</th>\n",
       "      <td>1999</td>\n",
       "      <td>0.189927</td>\n",
       "      <td>0.189894</td>\n",
       "      <td>0.329562</td>\n",
       "      <td>0.329562</td>\n",
       "      <td>0.883141</td>\n",
       "      <td>0.939756</td>\n",
       "      <td>0.259182</td>\n",
       "      <td>NaN</td>\n",
       "      <td>0.759370</td>\n",
       "      <td>0.641224</td>\n",
       "      <td>0.641224</td>\n",
       "      <td>0.516400</td>\n",
       "      <td>0.723932</td>\n",
       "      <td>0.481227</td>\n",
       "      <td>0.517599</td>\n",
       "      <td>0.883141</td>\n",
       "      <td>0.759370</td>\n",
       "    </tr>\n",
       "    <tr>\n",
       "      <th>1999</th>\n",
       "      <td>2000</td>\n",
       "      <td>0.189916</td>\n",
       "      <td>0.189899</td>\n",
       "      <td>0.330879</td>\n",
       "      <td>0.330879</td>\n",
       "      <td>0.883138</td>\n",
       "      <td>0.939755</td>\n",
       "      <td>0.262728</td>\n",
       "      <td>NaN</td>\n",
       "      <td>0.760928</td>\n",
       "      <td>0.642099</td>\n",
       "      <td>0.642099</td>\n",
       "      <td>0.515408</td>\n",
       "      <td>0.723808</td>\n",
       "      <td>0.477544</td>\n",
       "      <td>0.516562</td>\n",
       "      <td>0.883139</td>\n",
       "      <td>0.760928</td>\n",
       "    </tr>\n",
       "  </tbody>\n",
       "</table>\n",
       "</div>"
      ],
      "text/plain": [
       "     epoch  Train Loss  Train MSE  Train MAE  Train RMSE  Train R2  \\\n",
       "1995  1996    0.191065   0.191109   0.330621    0.330621  0.882393   \n",
       "1996  1997    0.188615   0.188649   0.330012    0.330012  0.883908   \n",
       "1997  1998    0.196397   0.196435   0.335769    0.335769  0.879116   \n",
       "1998  1999    0.189927   0.189894   0.329562    0.329562  0.883141   \n",
       "1999  2000    0.189916   0.189899   0.330879    0.330879  0.883138   \n",
       "\n",
       "      Train Pearson  Train Median_AE Train Explained_VARVal Loss   Val MSE  \\\n",
       "1995       0.939361         0.259829                         NaN  0.752841   \n",
       "1996       0.940166         0.261694                         NaN  0.759177   \n",
       "1997       0.937613         0.266561                         NaN  0.757247   \n",
       "1998       0.939756         0.259182                         NaN  0.759370   \n",
       "1999       0.939755         0.262728                         NaN  0.760928   \n",
       "\n",
       "       Val MAE  Val RMSE    Val R2  Val Pearson  Val Median_AE  \\\n",
       "1995  0.639834  0.639834  0.520558     0.727027       0.477811   \n",
       "1996  0.641019  0.641019  0.516523     0.723630       0.479852   \n",
       "1997  0.642582  0.642582  0.517752     0.726347       0.479817   \n",
       "1998  0.641224  0.641224  0.516400     0.723932       0.481227   \n",
       "1999  0.642099  0.642099  0.515408     0.723808       0.477544   \n",
       "\n",
       "      Val Explained_VAR  Train Explained_VAR  Val Loss  \n",
       "1995           0.521994             0.882394  0.752841  \n",
       "1996           0.516694             0.883908  0.759177  \n",
       "1997           0.520178             0.879117  0.757247  \n",
       "1998           0.517599             0.883141  0.759370  \n",
       "1999           0.516562             0.883139  0.760928  "
      ]
     },
     "execution_count": 22,
     "metadata": {},
     "output_type": "execute_result"
    }
   ],
   "source": [
    "train_history.tail()"
   ]
  },
  {
   "cell_type": "code",
   "execution_count": null,
   "metadata": {},
   "outputs": [],
   "source": []
  }
 ],
 "metadata": {
  "kernelspec": {
   "display_name": "base",
   "language": "python",
   "name": "python3"
  },
  "language_info": {
   "codemirror_mode": {
    "name": "ipython",
    "version": 3
   },
   "file_extension": ".py",
   "mimetype": "text/x-python",
   "name": "python",
   "nbconvert_exporter": "python",
   "pygments_lexer": "ipython3",
   "version": "3.12.2"
  }
 },
 "nbformat": 4,
 "nbformat_minor": 2
}
