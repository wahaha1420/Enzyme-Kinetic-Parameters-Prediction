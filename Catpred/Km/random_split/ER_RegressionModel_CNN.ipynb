{
 "cells": [
  {
   "cell_type": "code",
   "execution_count": 2,
   "metadata": {},
   "outputs": [],
   "source": [
    "import pandas as pd\n",
    "import numpy as np\n",
    "from tqdm import tqdm\n",
    "import torch\n",
    "import torch.nn as nn\n",
    "import torch.optim as optim\n",
    "from torch.utils.data import DataLoader, Dataset\n",
    "from sklearn.metrics import roc_auc_score\n",
    "from sklearn.model_selection import train_test_split\n",
    "import os\n"
   ]
  },
  {
   "cell_type": "code",
   "execution_count": 3,
   "metadata": {},
   "outputs": [
    {
     "data": {
      "text/html": [
       "<div>\n",
       "<style scoped>\n",
       "    .dataframe tbody tr th:only-of-type {\n",
       "        vertical-align: middle;\n",
       "    }\n",
       "\n",
       "    .dataframe tbody tr th {\n",
       "        vertical-align: top;\n",
       "    }\n",
       "\n",
       "    .dataframe thead th {\n",
       "        text-align: right;\n",
       "    }\n",
       "</style>\n",
       "<table border=\"1\" class=\"dataframe\">\n",
       "  <thead>\n",
       "    <tr style=\"text-align: right;\">\n",
       "      <th></th>\n",
       "      <th>Sequence</th>\n",
       "      <th>sequence_source</th>\n",
       "      <th>uniprot</th>\n",
       "      <th>Smiles</th>\n",
       "      <th>value</th>\n",
       "      <th>ec</th>\n",
       "      <th>taxonomy_id</th>\n",
       "      <th>log10_value</th>\n",
       "      <th>log10km_mean</th>\n",
       "      <th>metabolite_features</th>\n",
       "      <th>protein_features</th>\n",
       "    </tr>\n",
       "  </thead>\n",
       "  <tbody>\n",
       "    <tr>\n",
       "      <th>0</th>\n",
       "      <td>MGQEKLYIEKELSWLSFNERVLQEAADKSNPLIERMRFLGIYSNNL...</td>\n",
       "      <td>sabio</td>\n",
       "      <td>P0A7B1</td>\n",
       "      <td>Nc1nc2c(ncn2C2OC(COP(=O)(O)OP(=O)(O)O)C(O)C2O)...</td>\n",
       "      <td>0.6300</td>\n",
       "      <td>2.7.4.1</td>\n",
       "      <td>562</td>\n",
       "      <td>-0.200659</td>\n",
       "      <td>-0.200659</td>\n",
       "      <td>[0.25370342, -0.3417107, -0.28024313, -0.04292...</td>\n",
       "      <td>[-0.06592023, -0.062496405, -0.012068139, 0.06...</td>\n",
       "    </tr>\n",
       "    <tr>\n",
       "      <th>1</th>\n",
       "      <td>MSQQPHTEQFPKNQPPLAERLASARQLVTKAISAVPPHPEPLPSPN...</td>\n",
       "      <td>brenda</td>\n",
       "      <td>A0A0S2SWE4</td>\n",
       "      <td>CC/C=C\\C/C=C\\C/C=C\\CCCCCCCC(=O)O</td>\n",
       "      <td>0.0264</td>\n",
       "      <td>1.13.11.60</td>\n",
       "      <td>474922</td>\n",
       "      <td>-1.578396</td>\n",
       "      <td>-1.553572</td>\n",
       "      <td>[0.61067283, 0.46248585, -0.051634412, -0.7397...</td>\n",
       "      <td>[0.16962084, -0.09671225, 0.116663285, 0.05065...</td>\n",
       "    </tr>\n",
       "    <tr>\n",
       "      <th>2</th>\n",
       "      <td>MSAAADRLNLTSGHLNAGRKRSSSSVSLKAVEKPFKVTVIGSGNWG...</td>\n",
       "      <td>uniprot_search</td>\n",
       "      <td>A0A060KZ16</td>\n",
       "      <td>O=C(CO)COP(=O)(O)O</td>\n",
       "      <td>0.6100</td>\n",
       "      <td>1.1.1.8</td>\n",
       "      <td>114524</td>\n",
       "      <td>-0.214670</td>\n",
       "      <td>-0.214670</td>\n",
       "      <td>[0.29938427, -0.0972216, -0.3334697, -0.721026...</td>\n",
       "      <td>[0.0933136, -0.117130496, 0.0676241, 0.0187789...</td>\n",
       "    </tr>\n",
       "    <tr>\n",
       "      <th>3</th>\n",
       "      <td>MLAEKTRSIIKATVPVLEQQGTVITRTFYKNMLTEHTELLNIFNRT...</td>\n",
       "      <td>sabio</td>\n",
       "      <td>P39676</td>\n",
       "      <td>NC(=O)C1=CN(C2OC(COP(=O)(O)OP(=O)(O)OCC3OC(n4c...</td>\n",
       "      <td>0.0280</td>\n",
       "      <td>1.14.12.17</td>\n",
       "      <td>4932</td>\n",
       "      <td>-1.552842</td>\n",
       "      <td>-1.552842</td>\n",
       "      <td>[0.639636, -0.14536878, -0.52627945, 0.1240742...</td>\n",
       "      <td>[-0.02827879, -0.04372119, 0.03182794, 0.19197...</td>\n",
       "    </tr>\n",
       "    <tr>\n",
       "      <th>4</th>\n",
       "      <td>MASAERVPVSFNKPGRVPFGEVQGYAPGHIPAYSNKHDHFFSGERS...</td>\n",
       "      <td>uniprot_search</td>\n",
       "      <td>O60993</td>\n",
       "      <td>Nc1ncnc2c1ncn2[C@H]1O[C@H](COP(=O)([O-])OP(=O)...</td>\n",
       "      <td>0.4000</td>\n",
       "      <td>6.3.1.9</td>\n",
       "      <td>5656</td>\n",
       "      <td>-0.397940</td>\n",
       "      <td>-0.397940</td>\n",
       "      <td>[0.25855744, 0.43888408, -0.7136499, 0.0234168...</td>\n",
       "      <td>[0.074476704, -0.050253637, 0.05497695, 0.1402...</td>\n",
       "    </tr>\n",
       "  </tbody>\n",
       "</table>\n",
       "</div>"
      ],
      "text/plain": [
       "                                            Sequence sequence_source  \\\n",
       "0  MGQEKLYIEKELSWLSFNERVLQEAADKSNPLIERMRFLGIYSNNL...           sabio   \n",
       "1  MSQQPHTEQFPKNQPPLAERLASARQLVTKAISAVPPHPEPLPSPN...          brenda   \n",
       "2  MSAAADRLNLTSGHLNAGRKRSSSSVSLKAVEKPFKVTVIGSGNWG...  uniprot_search   \n",
       "3  MLAEKTRSIIKATVPVLEQQGTVITRTFYKNMLTEHTELLNIFNRT...           sabio   \n",
       "4  MASAERVPVSFNKPGRVPFGEVQGYAPGHIPAYSNKHDHFFSGERS...  uniprot_search   \n",
       "\n",
       "      uniprot                                             Smiles   value  \\\n",
       "0      P0A7B1  Nc1nc2c(ncn2C2OC(COP(=O)(O)OP(=O)(O)O)C(O)C2O)...  0.6300   \n",
       "1  A0A0S2SWE4                   CC/C=C\\C/C=C\\C/C=C\\CCCCCCCC(=O)O  0.0264   \n",
       "2  A0A060KZ16                                 O=C(CO)COP(=O)(O)O  0.6100   \n",
       "3      P39676  NC(=O)C1=CN(C2OC(COP(=O)(O)OP(=O)(O)OCC3OC(n4c...  0.0280   \n",
       "4      O60993  Nc1ncnc2c1ncn2[C@H]1O[C@H](COP(=O)([O-])OP(=O)...  0.4000   \n",
       "\n",
       "           ec  taxonomy_id  log10_value  log10km_mean  \\\n",
       "0     2.7.4.1          562    -0.200659     -0.200659   \n",
       "1  1.13.11.60       474922    -1.578396     -1.553572   \n",
       "2     1.1.1.8       114524    -0.214670     -0.214670   \n",
       "3  1.14.12.17         4932    -1.552842     -1.552842   \n",
       "4     6.3.1.9         5656    -0.397940     -0.397940   \n",
       "\n",
       "                                 metabolite_features  \\\n",
       "0  [0.25370342, -0.3417107, -0.28024313, -0.04292...   \n",
       "1  [0.61067283, 0.46248585, -0.051634412, -0.7397...   \n",
       "2  [0.29938427, -0.0972216, -0.3334697, -0.721026...   \n",
       "3  [0.639636, -0.14536878, -0.52627945, 0.1240742...   \n",
       "4  [0.25855744, 0.43888408, -0.7136499, 0.0234168...   \n",
       "\n",
       "                                    protein_features  \n",
       "0  [-0.06592023, -0.062496405, -0.012068139, 0.06...  \n",
       "1  [0.16962084, -0.09671225, 0.116663285, 0.05065...  \n",
       "2  [0.0933136, -0.117130496, 0.0676241, 0.0187789...  \n",
       "3  [-0.02827879, -0.04372119, 0.03182794, 0.19197...  \n",
       "4  [0.074476704, -0.050253637, 0.05497695, 0.1402...  "
      ]
     },
     "execution_count": 3,
     "metadata": {},
     "output_type": "execute_result"
    }
   ],
   "source": [
    "import joblib\n",
    "import pandas as pd\n",
    "\n",
    "data_kcat = joblib.load('/Users/pinchichen/2025S lab/AI drug project/Catpred/dataset/km/km_with_features.joblib')\n",
    "data_kcat.head()"
   ]
  },
  {
   "cell_type": "code",
   "execution_count": 4,
   "metadata": {},
   "outputs": [
    {
     "data": {
      "text/html": [
       "<div>\n",
       "<style scoped>\n",
       "    .dataframe tbody tr th:only-of-type {\n",
       "        vertical-align: middle;\n",
       "    }\n",
       "\n",
       "    .dataframe tbody tr th {\n",
       "        vertical-align: top;\n",
       "    }\n",
       "\n",
       "    .dataframe thead th {\n",
       "        text-align: right;\n",
       "    }\n",
       "</style>\n",
       "<table border=\"1\" class=\"dataframe\">\n",
       "  <thead>\n",
       "    <tr style=\"text-align: right;\">\n",
       "      <th></th>\n",
       "      <th>Sequence</th>\n",
       "      <th>sequence_source</th>\n",
       "      <th>uniprot</th>\n",
       "      <th>Smiles</th>\n",
       "      <th>value</th>\n",
       "      <th>ec</th>\n",
       "      <th>taxonomy_id</th>\n",
       "      <th>log10_value</th>\n",
       "      <th>label</th>\n",
       "      <th>metabolite_features</th>\n",
       "      <th>protein_features</th>\n",
       "    </tr>\n",
       "  </thead>\n",
       "  <tbody>\n",
       "    <tr>\n",
       "      <th>0</th>\n",
       "      <td>MGQEKLYIEKELSWLSFNERVLQEAADKSNPLIERMRFLGIYSNNL...</td>\n",
       "      <td>sabio</td>\n",
       "      <td>P0A7B1</td>\n",
       "      <td>Nc1nc2c(ncn2C2OC(COP(=O)(O)OP(=O)(O)O)C(O)C2O)...</td>\n",
       "      <td>0.6300</td>\n",
       "      <td>2.7.4.1</td>\n",
       "      <td>562</td>\n",
       "      <td>-0.200659</td>\n",
       "      <td>-0.200659</td>\n",
       "      <td>[0.25370342, -0.3417107, -0.28024313, -0.04292...</td>\n",
       "      <td>[-0.06592023, -0.062496405, -0.012068139, 0.06...</td>\n",
       "    </tr>\n",
       "    <tr>\n",
       "      <th>1</th>\n",
       "      <td>MSQQPHTEQFPKNQPPLAERLASARQLVTKAISAVPPHPEPLPSPN...</td>\n",
       "      <td>brenda</td>\n",
       "      <td>A0A0S2SWE4</td>\n",
       "      <td>CC/C=C\\C/C=C\\C/C=C\\CCCCCCCC(=O)O</td>\n",
       "      <td>0.0264</td>\n",
       "      <td>1.13.11.60</td>\n",
       "      <td>474922</td>\n",
       "      <td>-1.578396</td>\n",
       "      <td>-1.553572</td>\n",
       "      <td>[0.61067283, 0.46248585, -0.051634412, -0.7397...</td>\n",
       "      <td>[0.16962084, -0.09671225, 0.116663285, 0.05065...</td>\n",
       "    </tr>\n",
       "    <tr>\n",
       "      <th>2</th>\n",
       "      <td>MSAAADRLNLTSGHLNAGRKRSSSSVSLKAVEKPFKVTVIGSGNWG...</td>\n",
       "      <td>uniprot_search</td>\n",
       "      <td>A0A060KZ16</td>\n",
       "      <td>O=C(CO)COP(=O)(O)O</td>\n",
       "      <td>0.6100</td>\n",
       "      <td>1.1.1.8</td>\n",
       "      <td>114524</td>\n",
       "      <td>-0.214670</td>\n",
       "      <td>-0.214670</td>\n",
       "      <td>[0.29938427, -0.0972216, -0.3334697, -0.721026...</td>\n",
       "      <td>[0.0933136, -0.117130496, 0.0676241, 0.0187789...</td>\n",
       "    </tr>\n",
       "    <tr>\n",
       "      <th>3</th>\n",
       "      <td>MLAEKTRSIIKATVPVLEQQGTVITRTFYKNMLTEHTELLNIFNRT...</td>\n",
       "      <td>sabio</td>\n",
       "      <td>P39676</td>\n",
       "      <td>NC(=O)C1=CN(C2OC(COP(=O)(O)OP(=O)(O)OCC3OC(n4c...</td>\n",
       "      <td>0.0280</td>\n",
       "      <td>1.14.12.17</td>\n",
       "      <td>4932</td>\n",
       "      <td>-1.552842</td>\n",
       "      <td>-1.552842</td>\n",
       "      <td>[0.639636, -0.14536878, -0.52627945, 0.1240742...</td>\n",
       "      <td>[-0.02827879, -0.04372119, 0.03182794, 0.19197...</td>\n",
       "    </tr>\n",
       "    <tr>\n",
       "      <th>4</th>\n",
       "      <td>MASAERVPVSFNKPGRVPFGEVQGYAPGHIPAYSNKHDHFFSGERS...</td>\n",
       "      <td>uniprot_search</td>\n",
       "      <td>O60993</td>\n",
       "      <td>Nc1ncnc2c1ncn2[C@H]1O[C@H](COP(=O)([O-])OP(=O)...</td>\n",
       "      <td>0.4000</td>\n",
       "      <td>6.3.1.9</td>\n",
       "      <td>5656</td>\n",
       "      <td>-0.397940</td>\n",
       "      <td>-0.397940</td>\n",
       "      <td>[0.25855744, 0.43888408, -0.7136499, 0.0234168...</td>\n",
       "      <td>[0.074476704, -0.050253637, 0.05497695, 0.1402...</td>\n",
       "    </tr>\n",
       "  </tbody>\n",
       "</table>\n",
       "</div>"
      ],
      "text/plain": [
       "                                            Sequence sequence_source  \\\n",
       "0  MGQEKLYIEKELSWLSFNERVLQEAADKSNPLIERMRFLGIYSNNL...           sabio   \n",
       "1  MSQQPHTEQFPKNQPPLAERLASARQLVTKAISAVPPHPEPLPSPN...          brenda   \n",
       "2  MSAAADRLNLTSGHLNAGRKRSSSSVSLKAVEKPFKVTVIGSGNWG...  uniprot_search   \n",
       "3  MLAEKTRSIIKATVPVLEQQGTVITRTFYKNMLTEHTELLNIFNRT...           sabio   \n",
       "4  MASAERVPVSFNKPGRVPFGEVQGYAPGHIPAYSNKHDHFFSGERS...  uniprot_search   \n",
       "\n",
       "      uniprot                                             Smiles   value  \\\n",
       "0      P0A7B1  Nc1nc2c(ncn2C2OC(COP(=O)(O)OP(=O)(O)O)C(O)C2O)...  0.6300   \n",
       "1  A0A0S2SWE4                   CC/C=C\\C/C=C\\C/C=C\\CCCCCCCC(=O)O  0.0264   \n",
       "2  A0A060KZ16                                 O=C(CO)COP(=O)(O)O  0.6100   \n",
       "3      P39676  NC(=O)C1=CN(C2OC(COP(=O)(O)OP(=O)(O)OCC3OC(n4c...  0.0280   \n",
       "4      O60993  Nc1ncnc2c1ncn2[C@H]1O[C@H](COP(=O)([O-])OP(=O)...  0.4000   \n",
       "\n",
       "           ec  taxonomy_id  log10_value     label  \\\n",
       "0     2.7.4.1          562    -0.200659 -0.200659   \n",
       "1  1.13.11.60       474922    -1.578396 -1.553572   \n",
       "2     1.1.1.8       114524    -0.214670 -0.214670   \n",
       "3  1.14.12.17         4932    -1.552842 -1.552842   \n",
       "4     6.3.1.9         5656    -0.397940 -0.397940   \n",
       "\n",
       "                                 metabolite_features  \\\n",
       "0  [0.25370342, -0.3417107, -0.28024313, -0.04292...   \n",
       "1  [0.61067283, 0.46248585, -0.051634412, -0.7397...   \n",
       "2  [0.29938427, -0.0972216, -0.3334697, -0.721026...   \n",
       "3  [0.639636, -0.14536878, -0.52627945, 0.1240742...   \n",
       "4  [0.25855744, 0.43888408, -0.7136499, 0.0234168...   \n",
       "\n",
       "                                    protein_features  \n",
       "0  [-0.06592023, -0.062496405, -0.012068139, 0.06...  \n",
       "1  [0.16962084, -0.09671225, 0.116663285, 0.05065...  \n",
       "2  [0.0933136, -0.117130496, 0.0676241, 0.0187789...  \n",
       "3  [-0.02827879, -0.04372119, 0.03182794, 0.19197...  \n",
       "4  [0.074476704, -0.050253637, 0.05497695, 0.1402...  "
      ]
     },
     "execution_count": 4,
     "metadata": {},
     "output_type": "execute_result"
    }
   ],
   "source": [
    "data_kcat.rename(columns={'log10km_mean':'label'},inplace=True)\n",
    "data_kcat.head()"
   ]
  },
  {
   "cell_type": "code",
   "execution_count": 5,
   "metadata": {},
   "outputs": [
    {
     "data": {
      "text/plain": [
       "(41174, 11)"
      ]
     },
     "execution_count": 5,
     "metadata": {},
     "output_type": "execute_result"
    }
   ],
   "source": [
    "data_kcat.shape"
   ]
  },
  {
   "cell_type": "code",
   "execution_count": 6,
   "metadata": {},
   "outputs": [],
   "source": [
    "# Define dataset\n",
    "class MPI_Dataset(Dataset):\n",
    "    def __init__(self, dataframe):\n",
    "        self.dataframe = dataframe\n",
    "\n",
    "    def __len__(self):\n",
    "        return len(self.dataframe)\n",
    "\n",
    "    def __getitem__(self, idx):\n",
    "        row = self.dataframe.iloc[idx]\n",
    "        return {\n",
    "            'metabolite_features': torch.tensor(np.asarray(row['metabolite_features'], dtype=np.float32)),\n",
    "            'protein_features': torch.tensor(np.asarray(row['protein_features'], dtype=np.float32)),\n",
    "            'label': torch.tensor(float(row['label']), dtype=torch.float32),\n",
    "        }"
   ]
  },
  {
   "cell_type": "code",
   "execution_count": 7,
   "metadata": {},
   "outputs": [],
   "source": [
    "# Separate the dataset by unique proteins and drugs\n",
    "unique_proteins = data_kcat['Sequence'].unique()\n",
    "unique_mols = data_kcat['Smiles'].unique()\n",
    "# Set the seed for reproducibility\n",
    "torch.manual_seed(42)\n",
    "# Function to perform a cold split\n",
    "def cold_split(unique_items, test_size=0.2, val_size=0.1):\n",
    "    train_items, test_items = train_test_split(unique_items, test_size=test_size, random_state=42)\n",
    "    train_items, val_items = train_test_split(train_items, test_size=val_size / (1 - test_size), random_state=42)\n",
    "    return train_items, val_items, test_items\n",
    "# Cold split by proteins\n",
    "train_proteins, val_proteins, test_proteins = cold_split(unique_proteins)\n",
    "train_cold_protein = data_kcat[data_kcat['Sequence'].isin(train_proteins)]\n",
    "val_cold_protein = data_kcat[data_kcat['Sequence'].isin(val_proteins)]\n",
    "test_cold_protein = data_kcat[data_kcat['Sequence'].isin(test_proteins)]\n",
    "# Cold split by molecules\n",
    "train_mols, val_mols, test_mols = cold_split(unique_mols)\n",
    "train_cold_mols = data_kcat[data_kcat['Smiles'].isin(train_mols)]\n",
    "val_cold_mols = data_kcat[data_kcat['Smiles'].isin(val_mols)]\n",
    "test_cold_mols = data_kcat[data_kcat['Smiles'].isin(test_mols)]"
   ]
  },
  {
   "cell_type": "code",
   "execution_count": 8,
   "metadata": {},
   "outputs": [
    {
     "data": {
      "text/plain": [
       "'\\ntrain_dataset = MPI_Dataset(train_cold_mols)\\nval_dataset = MPI_Dataset(val_cold_mols)\\ntest_dataset = MPI_Dataset(test_cold_mols)\\n\\ntrain_loader = DataLoader(train_dataset, batch_size=32, shuffle=True)\\nval_loader = DataLoader(val_dataset, batch_size=32)\\ntest_loader = DataLoader(test_dataset, batch_size=32)\\n\\n'"
      ]
     },
     "execution_count": 8,
     "metadata": {},
     "output_type": "execute_result"
    }
   ],
   "source": [
    "# cold protein\n",
    "'''\n",
    "train_dataset = MPI_Dataset(train_cold_protein)\n",
    "val_dataset = MPI_Dataset(val_cold_protein)\n",
    "test_dataset = MPI_Dataset(test_cold_protein)\n",
    "\n",
    "train_loader = DataLoader(train_dataset, batch_size=32, shuffle=True)\n",
    "val_loader = DataLoader(val_dataset, batch_size=32)\n",
    "test_loader = DataLoader(test_dataset, batch_size=32)\n",
    "\n",
    "'''\n",
    "\n",
    "# cold mols\n",
    "\n",
    "'''\n",
    "train_dataset = MPI_Dataset(train_cold_mols)\n",
    "val_dataset = MPI_Dataset(val_cold_mols)\n",
    "test_dataset = MPI_Dataset(test_cold_mols)\n",
    "\n",
    "train_loader = DataLoader(train_dataset, batch_size=32, shuffle=True)\n",
    "val_loader = DataLoader(val_dataset, batch_size=32)\n",
    "test_loader = DataLoader(test_dataset, batch_size=32)\n",
    "\n",
    "'''"
   ]
  },
  {
   "cell_type": "code",
   "execution_count": 9,
   "metadata": {},
   "outputs": [],
   "source": [
    "# Load data_kcat\n",
    "# Assuming `combined_df` is a pandas DataFrame containing all necessary columns\n",
    "train_df, temp_df = train_test_split(data_kcat, test_size=0.3, shuffle=True, random_state=42)\n",
    "val_df, test_df = train_test_split(temp_df, test_size=0.5, shuffle=True, random_state=42)\n",
    "\n",
    "train_dataset = MPI_Dataset(train_df)\n",
    "val_dataset = MPI_Dataset(val_df)\n",
    "test_dataset = MPI_Dataset(test_df)\n",
    "\n",
    "train_loader = DataLoader(train_dataset, batch_size=32, shuffle=True)\n",
    "val_loader = DataLoader(val_dataset, batch_size=32)\n",
    "test_loader = DataLoader(test_dataset, batch_size=32)"
   ]
  },
  {
   "cell_type": "code",
   "execution_count": 10,
   "metadata": {},
   "outputs": [],
   "source": [
    "import torch.nn as nn\n",
    "import torch\n",
    "import torch.nn.functional as F\n",
    "\n",
    "# Define CNN Model for Regression\n",
    "class CNNRegressor(nn.Module):\n",
    "    def __init__(self, mol_input_dim, protein_input_dim, out_dim=1):\n",
    "        super(CNNRegressor, self).__init__()\n",
    "\n",
    "        self.mol_conv = nn.Sequential(\n",
    "            nn.Conv1d(in_channels=1, out_channels=16, kernel_size=3, padding=1),\n",
    "            nn.ReLU(),\n",
    "            nn.MaxPool1d(2),\n",
    "            nn.Conv1d(16, 32, kernel_size=3, padding=1),\n",
    "            nn.ReLU(),\n",
    "            nn.MaxPool1d(2),\n",
    "        )\n",
    "\n",
    "        self.protein_conv = nn.Sequential(\n",
    "            nn.Conv1d(1, 16, kernel_size=3, padding=1),\n",
    "            nn.ReLU(),\n",
    "            nn.MaxPool1d(2),\n",
    "            nn.Conv1d(16, 32, kernel_size=3, padding=1),\n",
    "            nn.ReLU(),\n",
    "            nn.MaxPool1d(2),\n",
    "        )\n",
    "\n",
    "        with torch.no_grad():\n",
    "            dummy_mol = torch.zeros(1, 1, mol_input_dim)\n",
    "            dummy_protein = torch.zeros(1, 1, protein_input_dim)\n",
    "    \n",
    "            mol_flatten_len = self.mol_conv(dummy_mol).view(1, -1).size(1)\n",
    "            protein_flatten_len = self.protein_conv(dummy_protein).view(1, -1).size(1)\n",
    "\n",
    "        self.fc = nn.Sequential(\n",
    "            nn.Linear(mol_flatten_len + protein_flatten_len, 128),\n",
    "            nn.ReLU(),\n",
    "            nn.Dropout(0.3),\n",
    "            nn.Linear(128, out_dim)\n",
    "        )\n",
    "\n",
    "    def forward(self, mol_input, protein_input):\n",
    "        # Reshape to (B, 1, L) for Conv1d\n",
    "        mol_input = mol_input.unsqueeze(1)\n",
    "        protein_input = protein_input.unsqueeze(1)\n",
    "\n",
    "        mol_out = self.mol_conv(mol_input)\n",
    "        protein_out = self.protein_conv(protein_input)\n",
    "\n",
    "        # Flatten\n",
    "        mol_out = mol_out.view(mol_out.size(0), -1)\n",
    "        protein_out = protein_out.view(protein_out.size(0), -1)\n",
    "\n",
    "        combined = torch.cat([mol_out, protein_out], dim=1)\n",
    "        output = self.fc(combined).squeeze()\n",
    "        return output\n"
   ]
  },
  {
   "cell_type": "code",
   "execution_count": 11,
   "metadata": {},
   "outputs": [],
   "source": [
    "# Check CUDA availability\n",
    "device = torch.device(\"cuda\" if torch.cuda.is_available() else \"cpu\")"
   ]
  },
  {
   "cell_type": "code",
   "execution_count": null,
   "metadata": {},
   "outputs": [
    {
     "name": "stderr",
     "output_type": "stream",
     "text": [
      "Training Epoch 1: 100%|██████████| 901/901 [00:24<00:00, 37.24it/s]\n"
     ]
    },
    {
     "name": "stdout",
     "output_type": "stream",
     "text": [
      "Epoch 0 - Train Loss: 1.2736, Train MSE: 1.2733, Train MAE: 0.8856\n"
     ]
    },
    {
     "name": "stderr",
     "output_type": "stream",
     "text": [
      "/var/folders/yz/c1z6m9_d5d3f80sywjc3rqsc0000gn/T/ipykernel_83760/3486802603.py:92: FutureWarning: The behavior of DataFrame concatenation with empty or all-NA entries is deprecated. In a future version, this will no longer exclude empty or all-NA columns when determining the result dtypes. To retain the old behavior, exclude the relevant entries before the concat operation.\n",
      "  train_history = pd.concat([train_history, pd.DataFrame([new_row])], ignore_index=True)\n"
     ]
    },
    {
     "name": "stdout",
     "output_type": "stream",
     "text": [
      "Epoch 0 - Validation Loss: 1.1420, Validation MSE: 1.1420, Validation MAE: 0.8322\n"
     ]
    },
    {
     "name": "stderr",
     "output_type": "stream",
     "text": [
      "Training Epoch 2: 100%|██████████| 901/901 [00:24<00:00, 36.59it/s]\n",
      "Training Epoch 3: 100%|██████████| 901/901 [00:24<00:00, 37.05it/s]\n",
      "Training Epoch 4: 100%|██████████| 901/901 [00:25<00:00, 35.90it/s]\n",
      "Training Epoch 5: 100%|██████████| 901/901 [00:24<00:00, 36.74it/s]\n",
      "Training Epoch 6: 100%|██████████| 901/901 [00:24<00:00, 37.24it/s]\n",
      "Training Epoch 7: 100%|██████████| 901/901 [00:25<00:00, 34.84it/s]\n",
      "Training Epoch 8: 100%|██████████| 901/901 [00:34<00:00, 26.45it/s]\n",
      "Training Epoch 9: 100%|██████████| 901/901 [00:24<00:00, 36.47it/s]\n",
      "Training Epoch 10: 100%|██████████| 901/901 [00:26<00:00, 34.12it/s]\n",
      "Training Epoch 11: 100%|██████████| 901/901 [00:27<00:00, 33.31it/s]\n"
     ]
    },
    {
     "name": "stdout",
     "output_type": "stream",
     "text": [
      "Epoch 10 - Train Loss: 0.9514, Train MSE: 0.9511, Train MAE: 0.7561\n",
      "Epoch 10 - Validation Loss: 0.9734, Validation MSE: 0.9734, Validation MAE: 0.7623\n"
     ]
    },
    {
     "name": "stderr",
     "output_type": "stream",
     "text": [
      "Training Epoch 12: 100%|██████████| 901/901 [00:28<00:00, 31.50it/s]\n",
      "Training Epoch 13: 100%|██████████| 901/901 [00:30<00:00, 29.07it/s]\n",
      "Training Epoch 14: 100%|██████████| 901/901 [00:31<00:00, 28.93it/s]\n",
      "Training Epoch 15: 100%|██████████| 901/901 [00:36<00:00, 24.39it/s]\n",
      "Training Epoch 16: 100%|██████████| 901/901 [00:37<00:00, 23.97it/s]\n",
      "Training Epoch 17: 100%|██████████| 901/901 [00:37<00:00, 24.00it/s]\n",
      "Training Epoch 18: 100%|██████████| 901/901 [00:35<00:00, 25.71it/s]\n",
      "Training Epoch 19: 100%|██████████| 901/901 [00:35<00:00, 25.74it/s]\n",
      "Training Epoch 20: 100%|██████████| 901/901 [00:35<00:00, 25.63it/s]\n",
      "Training Epoch 21: 100%|██████████| 901/901 [00:34<00:00, 25.76it/s]\n"
     ]
    },
    {
     "name": "stdout",
     "output_type": "stream",
     "text": [
      "Epoch 20 - Train Loss: 0.8457, Train MSE: 0.8459, Train MAE: 0.7134\n",
      "Epoch 20 - Validation Loss: 0.8709, Validation MSE: 0.8709, Validation MAE: 0.7156\n"
     ]
    },
    {
     "name": "stderr",
     "output_type": "stream",
     "text": [
      "Training Epoch 22: 100%|██████████| 901/901 [00:34<00:00, 25.77it/s]\n",
      "Training Epoch 23: 100%|██████████| 901/901 [00:35<00:00, 25.70it/s]\n",
      "Training Epoch 24: 100%|██████████| 901/901 [00:34<00:00, 25.81it/s]\n",
      "Training Epoch 25: 100%|██████████| 901/901 [00:32<00:00, 27.59it/s]\n",
      "Training Epoch 26: 100%|██████████| 901/901 [00:29<00:00, 30.06it/s]\n",
      "Training Epoch 27: 100%|██████████| 901/901 [00:30<00:00, 29.53it/s]\n",
      "Training Epoch 28: 100%|██████████| 901/901 [00:30<00:00, 29.90it/s]\n",
      "Training Epoch 29: 100%|██████████| 901/901 [00:30<00:00, 29.93it/s]\n",
      "Training Epoch 30: 100%|██████████| 901/901 [00:30<00:00, 29.71it/s]\n",
      "Training Epoch 31: 100%|██████████| 901/901 [00:30<00:00, 29.91it/s]\n"
     ]
    },
    {
     "name": "stdout",
     "output_type": "stream",
     "text": [
      "Epoch 30 - Train Loss: 0.7617, Train MSE: 0.7617, Train MAE: 0.6734\n",
      "Epoch 30 - Validation Loss: 0.8513, Validation MSE: 0.8513, Validation MAE: 0.7115\n"
     ]
    },
    {
     "name": "stderr",
     "output_type": "stream",
     "text": [
      "Training Epoch 32: 100%|██████████| 901/901 [00:30<00:00, 30.01it/s]\n",
      "Training Epoch 33: 100%|██████████| 901/901 [00:30<00:00, 29.88it/s]\n",
      "Training Epoch 34: 100%|██████████| 901/901 [00:29<00:00, 30.10it/s]\n",
      "Training Epoch 35: 100%|██████████| 901/901 [00:29<00:00, 30.06it/s]\n",
      "Training Epoch 36: 100%|██████████| 901/901 [00:29<00:00, 30.13it/s]\n",
      "Training Epoch 37: 100%|██████████| 901/901 [00:29<00:00, 30.17it/s]\n",
      "Training Epoch 38: 100%|██████████| 901/901 [00:29<00:00, 30.03it/s]\n",
      "Training Epoch 39: 100%|██████████| 901/901 [00:29<00:00, 30.11it/s]\n",
      "Training Epoch 40: 100%|██████████| 901/901 [00:29<00:00, 30.24it/s]\n",
      "Training Epoch 41: 100%|██████████| 901/901 [00:29<00:00, 30.06it/s]\n"
     ]
    },
    {
     "name": "stdout",
     "output_type": "stream",
     "text": [
      "Epoch 40 - Train Loss: 0.6980, Train MSE: 0.6980, Train MAE: 0.6453\n",
      "Epoch 40 - Validation Loss: 0.8023, Validation MSE: 0.8023, Validation MAE: 0.6856\n"
     ]
    },
    {
     "name": "stderr",
     "output_type": "stream",
     "text": [
      "Training Epoch 42: 100%|██████████| 901/901 [00:30<00:00, 29.78it/s]\n",
      "Training Epoch 43: 100%|██████████| 901/901 [00:30<00:00, 29.87it/s]\n",
      "Training Epoch 44: 100%|██████████| 901/901 [00:30<00:00, 29.77it/s]\n",
      "Training Epoch 45: 100%|██████████| 901/901 [00:30<00:00, 29.87it/s]\n",
      "Training Epoch 46: 100%|██████████| 901/901 [00:30<00:00, 29.99it/s]\n",
      "Training Epoch 47: 100%|██████████| 901/901 [00:29<00:00, 30.15it/s]\n",
      "Training Epoch 48: 100%|██████████| 901/901 [00:30<00:00, 30.03it/s]\n",
      "Training Epoch 49: 100%|██████████| 901/901 [00:29<00:00, 30.05it/s]\n",
      "Training Epoch 50: 100%|██████████| 901/901 [00:30<00:00, 30.00it/s]\n",
      "Training Epoch 51: 100%|██████████| 901/901 [00:30<00:00, 29.89it/s]\n"
     ]
    },
    {
     "name": "stdout",
     "output_type": "stream",
     "text": [
      "Epoch 50 - Train Loss: 0.6406, Train MSE: 0.6407, Train MAE: 0.6163\n",
      "Epoch 50 - Validation Loss: 0.7849, Validation MSE: 0.7849, Validation MAE: 0.6768\n"
     ]
    },
    {
     "name": "stderr",
     "output_type": "stream",
     "text": [
      "Training Epoch 52: 100%|██████████| 901/901 [00:29<00:00, 30.13it/s]\n",
      "Training Epoch 53: 100%|██████████| 901/901 [00:30<00:00, 29.95it/s]\n",
      "Training Epoch 54: 100%|██████████| 901/901 [00:30<00:00, 29.97it/s]\n",
      "Training Epoch 55: 100%|██████████| 901/901 [00:30<00:00, 29.80it/s]\n",
      "Training Epoch 56: 100%|██████████| 901/901 [00:29<00:00, 30.69it/s]\n",
      "Training Epoch 57: 100%|██████████| 901/901 [00:29<00:00, 30.62it/s]\n",
      "Training Epoch 58: 100%|██████████| 901/901 [00:29<00:00, 30.40it/s]\n",
      "Training Epoch 59: 100%|██████████| 901/901 [00:29<00:00, 30.46it/s]\n",
      "Training Epoch 60: 100%|██████████| 901/901 [00:29<00:00, 30.54it/s]\n",
      "Training Epoch 61: 100%|██████████| 901/901 [00:29<00:00, 30.54it/s]\n"
     ]
    },
    {
     "name": "stdout",
     "output_type": "stream",
     "text": [
      "Epoch 60 - Train Loss: 0.5839, Train MSE: 0.5839, Train MAE: 0.5885\n",
      "Epoch 60 - Validation Loss: 0.7844, Validation MSE: 0.7844, Validation MAE: 0.6759\n"
     ]
    },
    {
     "name": "stderr",
     "output_type": "stream",
     "text": [
      "Training Epoch 62: 100%|██████████| 901/901 [00:29<00:00, 30.49it/s]\n",
      "Training Epoch 63: 100%|██████████| 901/901 [00:29<00:00, 30.53it/s]\n",
      "Training Epoch 64: 100%|██████████| 901/901 [00:29<00:00, 30.50it/s]\n",
      "Training Epoch 65: 100%|██████████| 901/901 [00:29<00:00, 30.57it/s]\n",
      "Training Epoch 66: 100%|██████████| 901/901 [00:29<00:00, 30.56it/s]\n",
      "Training Epoch 67: 100%|██████████| 901/901 [00:29<00:00, 30.54it/s]\n",
      "Training Epoch 68: 100%|██████████| 901/901 [00:29<00:00, 30.55it/s]\n",
      "Training Epoch 69: 100%|██████████| 901/901 [00:29<00:00, 30.54it/s]\n",
      "Training Epoch 70: 100%|██████████| 901/901 [00:29<00:00, 30.77it/s]\n",
      "Training Epoch 71: 100%|██████████| 901/901 [00:29<00:00, 30.49it/s]\n"
     ]
    },
    {
     "name": "stdout",
     "output_type": "stream",
     "text": [
      "Epoch 70 - Train Loss: 0.5464, Train MSE: 0.5466, Train MAE: 0.5677\n",
      "Epoch 70 - Validation Loss: 0.7623, Validation MSE: 0.7623, Validation MAE: 0.6648\n"
     ]
    },
    {
     "name": "stderr",
     "output_type": "stream",
     "text": [
      "Training Epoch 72: 100%|██████████| 901/901 [00:29<00:00, 30.54it/s]\n",
      "Training Epoch 73: 100%|██████████| 901/901 [00:29<00:00, 30.72it/s]\n",
      "Training Epoch 74: 100%|██████████| 901/901 [00:29<00:00, 30.62it/s]\n",
      "Training Epoch 75: 100%|██████████| 901/901 [00:29<00:00, 30.55it/s]\n",
      "Training Epoch 76: 100%|██████████| 901/901 [00:29<00:00, 30.58it/s]\n",
      "Training Epoch 77: 100%|██████████| 901/901 [00:29<00:00, 30.52it/s]\n",
      "Training Epoch 78: 100%|██████████| 901/901 [00:29<00:00, 30.57it/s]\n",
      "Training Epoch 79: 100%|██████████| 901/901 [00:29<00:00, 30.52it/s]\n",
      "Training Epoch 80: 100%|██████████| 901/901 [00:29<00:00, 30.64it/s]\n",
      "Training Epoch 81: 100%|██████████| 901/901 [00:29<00:00, 30.85it/s]\n"
     ]
    },
    {
     "name": "stdout",
     "output_type": "stream",
     "text": [
      "Epoch 80 - Train Loss: 0.5133, Train MSE: 0.5134, Train MAE: 0.5496\n",
      "Epoch 80 - Validation Loss: 0.7541, Validation MSE: 0.7541, Validation MAE: 0.6606\n"
     ]
    },
    {
     "name": "stderr",
     "output_type": "stream",
     "text": [
      "Training Epoch 82: 100%|██████████| 901/901 [00:29<00:00, 30.55it/s]\n",
      "Training Epoch 83: 100%|██████████| 901/901 [00:29<00:00, 30.59it/s]\n",
      "Training Epoch 84: 100%|██████████| 901/901 [00:29<00:00, 30.58it/s]\n",
      "Training Epoch 85: 100%|██████████| 901/901 [00:29<00:00, 30.55it/s]\n",
      "Training Epoch 86: 100%|██████████| 901/901 [00:29<00:00, 30.54it/s]\n",
      "Training Epoch 87: 100%|██████████| 901/901 [00:29<00:00, 30.56it/s]\n",
      "Training Epoch 88: 100%|██████████| 901/901 [00:29<00:00, 30.66it/s]\n",
      "Training Epoch 89: 100%|██████████| 901/901 [00:29<00:00, 30.53it/s]\n",
      "Training Epoch 90: 100%|██████████| 901/901 [00:29<00:00, 30.58it/s]\n",
      "Training Epoch 91: 100%|██████████| 901/901 [00:29<00:00, 30.52it/s]\n"
     ]
    },
    {
     "name": "stdout",
     "output_type": "stream",
     "text": [
      "Epoch 90 - Train Loss: 0.4784, Train MSE: 0.4784, Train MAE: 0.5300\n",
      "Epoch 90 - Validation Loss: 0.7513, Validation MSE: 0.7513, Validation MAE: 0.6540\n"
     ]
    },
    {
     "name": "stderr",
     "output_type": "stream",
     "text": [
      "Training Epoch 92: 100%|██████████| 901/901 [00:29<00:00, 30.58it/s]\n",
      "Training Epoch 93: 100%|██████████| 901/901 [00:29<00:00, 30.51it/s]\n",
      "Training Epoch 94: 100%|██████████| 901/901 [00:29<00:00, 30.52it/s]\n",
      "Training Epoch 95: 100%|██████████| 901/901 [00:29<00:00, 30.49it/s]\n",
      "Training Epoch 96: 100%|██████████| 901/901 [00:29<00:00, 30.67it/s]\n",
      "Training Epoch 97: 100%|██████████| 901/901 [00:29<00:00, 30.53it/s]\n",
      "Training Epoch 98: 100%|██████████| 901/901 [00:29<00:00, 30.68it/s]\n",
      "Training Epoch 99: 100%|██████████| 901/901 [00:29<00:00, 30.70it/s]\n",
      "Training Epoch 100: 100%|██████████| 901/901 [00:29<00:00, 30.49it/s]\n",
      "Training Epoch 101: 100%|██████████| 901/901 [00:29<00:00, 30.60it/s]\n"
     ]
    },
    {
     "name": "stdout",
     "output_type": "stream",
     "text": [
      "Epoch 100 - Train Loss: 0.4457, Train MSE: 0.4457, Train MAE: 0.5111\n",
      "Epoch 100 - Validation Loss: 0.7233, Validation MSE: 0.7233, Validation MAE: 0.6421\n"
     ]
    },
    {
     "name": "stderr",
     "output_type": "stream",
     "text": [
      "Training Epoch 102: 100%|██████████| 901/901 [00:29<00:00, 30.57it/s]\n",
      "Training Epoch 103: 100%|██████████| 901/901 [00:29<00:00, 30.42it/s]\n",
      "Training Epoch 104: 100%|██████████| 901/901 [00:29<00:00, 30.62it/s]\n",
      "Training Epoch 105: 100%|██████████| 901/901 [00:29<00:00, 30.59it/s]\n",
      "Training Epoch 106: 100%|██████████| 901/901 [00:29<00:00, 30.81it/s]\n",
      "Training Epoch 107: 100%|██████████| 901/901 [00:29<00:00, 30.54it/s]\n",
      "Training Epoch 108: 100%|██████████| 901/901 [00:29<00:00, 30.41it/s]\n",
      "Training Epoch 109: 100%|██████████| 901/901 [00:29<00:00, 30.44it/s]\n",
      "Training Epoch 110: 100%|██████████| 901/901 [00:29<00:00, 30.77it/s]\n",
      "Training Epoch 111: 100%|██████████| 901/901 [00:29<00:00, 30.58it/s]\n"
     ]
    },
    {
     "name": "stdout",
     "output_type": "stream",
     "text": [
      "Epoch 110 - Train Loss: 0.4250, Train MSE: 0.4250, Train MAE: 0.4978\n",
      "Epoch 110 - Validation Loss: 0.7400, Validation MSE: 0.7400, Validation MAE: 0.6481\n"
     ]
    },
    {
     "name": "stderr",
     "output_type": "stream",
     "text": [
      "Training Epoch 112: 100%|██████████| 901/901 [00:29<00:00, 30.59it/s]\n",
      "Training Epoch 113: 100%|██████████| 901/901 [00:29<00:00, 30.55it/s]\n",
      "Training Epoch 114: 100%|██████████| 901/901 [00:29<00:00, 30.76it/s]\n",
      "Training Epoch 115: 100%|██████████| 901/901 [00:29<00:00, 30.37it/s]\n",
      "Training Epoch 116: 100%|██████████| 901/901 [00:29<00:00, 30.63it/s]\n",
      "Training Epoch 117: 100%|██████████| 901/901 [00:29<00:00, 30.55it/s]\n",
      "Training Epoch 118: 100%|██████████| 901/901 [00:29<00:00, 30.57it/s]\n",
      "Training Epoch 119: 100%|██████████| 901/901 [00:29<00:00, 30.60it/s]\n",
      "Training Epoch 120: 100%|██████████| 901/901 [00:29<00:00, 30.54it/s]\n",
      "Training Epoch 121: 100%|██████████| 901/901 [00:29<00:00, 30.48it/s]\n"
     ]
    },
    {
     "name": "stdout",
     "output_type": "stream",
     "text": [
      "Epoch 120 - Train Loss: 0.4042, Train MSE: 0.4040, Train MAE: 0.4871\n",
      "Epoch 120 - Validation Loss: 0.7218, Validation MSE: 0.7218, Validation MAE: 0.6387\n"
     ]
    },
    {
     "name": "stderr",
     "output_type": "stream",
     "text": [
      "Training Epoch 122: 100%|██████████| 901/901 [00:30<00:00, 29.81it/s]\n",
      "Training Epoch 123: 100%|██████████| 901/901 [00:30<00:00, 29.76it/s]\n",
      "Training Epoch 124: 100%|██████████| 901/901 [00:30<00:00, 29.80it/s]\n",
      "Training Epoch 125: 100%|██████████| 901/901 [00:30<00:00, 29.75it/s]\n",
      "Training Epoch 126: 100%|██████████| 901/901 [00:30<00:00, 29.84it/s]\n",
      "Training Epoch 127: 100%|██████████| 901/901 [00:30<00:00, 29.93it/s]\n",
      "Training Epoch 128: 100%|██████████| 901/901 [00:30<00:00, 29.71it/s]\n",
      "Training Epoch 129: 100%|██████████| 901/901 [00:30<00:00, 29.66it/s]\n",
      "Training Epoch 130: 100%|██████████| 901/901 [00:30<00:00, 29.75it/s]\n",
      "Training Epoch 131: 100%|██████████| 901/901 [00:30<00:00, 29.73it/s]\n"
     ]
    },
    {
     "name": "stdout",
     "output_type": "stream",
     "text": [
      "Epoch 130 - Train Loss: 0.3835, Train MSE: 0.3834, Train MAE: 0.4735\n",
      "Epoch 130 - Validation Loss: 0.7398, Validation MSE: 0.7398, Validation MAE: 0.6488\n"
     ]
    },
    {
     "name": "stderr",
     "output_type": "stream",
     "text": [
      "Training Epoch 132: 100%|██████████| 901/901 [00:30<00:00, 29.76it/s]\n",
      "Training Epoch 133: 100%|██████████| 901/901 [00:30<00:00, 29.52it/s]\n",
      "Training Epoch 134: 100%|██████████| 901/901 [00:30<00:00, 29.86it/s]\n",
      "Training Epoch 135: 100%|██████████| 901/901 [00:30<00:00, 29.78it/s]\n",
      "Training Epoch 136: 100%|██████████| 901/901 [00:30<00:00, 29.85it/s]\n",
      "Training Epoch 137: 100%|██████████| 901/901 [00:30<00:00, 29.76it/s]\n",
      "Training Epoch 138: 100%|██████████| 901/901 [00:30<00:00, 29.84it/s]\n",
      "Training Epoch 139: 100%|██████████| 901/901 [00:30<00:00, 29.89it/s]\n",
      "Training Epoch 140: 100%|██████████| 901/901 [00:30<00:00, 29.69it/s]\n",
      "Training Epoch 141: 100%|██████████| 901/901 [00:30<00:00, 29.72it/s]\n"
     ]
    },
    {
     "name": "stdout",
     "output_type": "stream",
     "text": [
      "Epoch 140 - Train Loss: 0.3639, Train MSE: 0.3640, Train MAE: 0.4606\n",
      "Epoch 140 - Validation Loss: 0.7265, Validation MSE: 0.7265, Validation MAE: 0.6385\n"
     ]
    },
    {
     "name": "stderr",
     "output_type": "stream",
     "text": [
      "Training Epoch 142: 100%|██████████| 901/901 [00:30<00:00, 29.68it/s]\n",
      "Training Epoch 143: 100%|██████████| 901/901 [00:30<00:00, 29.73it/s]\n",
      "Training Epoch 144: 100%|██████████| 901/901 [00:30<00:00, 29.76it/s]\n",
      "Training Epoch 145: 100%|██████████| 901/901 [00:30<00:00, 29.77it/s]\n",
      "Training Epoch 146: 100%|██████████| 901/901 [00:30<00:00, 29.72it/s]\n",
      "Training Epoch 147: 100%|██████████| 901/901 [00:30<00:00, 29.58it/s]\n",
      "Training Epoch 148: 100%|██████████| 901/901 [00:30<00:00, 29.64it/s]\n",
      "Training Epoch 149: 100%|██████████| 901/901 [00:30<00:00, 29.73it/s]\n",
      "Training Epoch 150: 100%|██████████| 901/901 [00:30<00:00, 29.83it/s]\n",
      "Training Epoch 151: 100%|██████████| 901/901 [00:30<00:00, 29.81it/s]\n"
     ]
    },
    {
     "name": "stdout",
     "output_type": "stream",
     "text": [
      "Epoch 150 - Train Loss: 0.3519, Train MSE: 0.3519, Train MAE: 0.4524\n",
      "Epoch 150 - Validation Loss: 0.7210, Validation MSE: 0.7210, Validation MAE: 0.6369\n"
     ]
    },
    {
     "name": "stderr",
     "output_type": "stream",
     "text": [
      "Training Epoch 152: 100%|██████████| 901/901 [00:30<00:00, 29.71it/s]\n",
      "Training Epoch 153: 100%|██████████| 901/901 [00:30<00:00, 29.77it/s]\n",
      "Training Epoch 154: 100%|██████████| 901/901 [00:30<00:00, 29.73it/s]\n",
      "Training Epoch 155: 100%|██████████| 901/901 [00:30<00:00, 29.85it/s]\n",
      "Training Epoch 156: 100%|██████████| 901/901 [00:30<00:00, 30.00it/s]\n",
      "Training Epoch 157: 100%|██████████| 901/901 [00:30<00:00, 29.65it/s]\n",
      "Training Epoch 158: 100%|██████████| 901/901 [00:30<00:00, 29.65it/s]\n",
      "Training Epoch 159: 100%|██████████| 901/901 [00:30<00:00, 29.81it/s]\n",
      "Training Epoch 160: 100%|██████████| 901/901 [00:30<00:00, 29.92it/s]\n",
      "Training Epoch 161: 100%|██████████| 901/901 [00:30<00:00, 29.74it/s]\n"
     ]
    },
    {
     "name": "stdout",
     "output_type": "stream",
     "text": [
      "Epoch 160 - Train Loss: 0.3403, Train MSE: 0.3404, Train MAE: 0.4444\n",
      "Epoch 160 - Validation Loss: 0.7216, Validation MSE: 0.7216, Validation MAE: 0.6379\n"
     ]
    },
    {
     "name": "stderr",
     "output_type": "stream",
     "text": [
      "Training Epoch 162: 100%|██████████| 901/901 [00:30<00:00, 29.97it/s]\n",
      "Training Epoch 163: 100%|██████████| 901/901 [00:30<00:00, 29.78it/s]\n",
      "Training Epoch 164: 100%|██████████| 901/901 [00:30<00:00, 29.76it/s]\n",
      "Training Epoch 165: 100%|██████████| 901/901 [00:30<00:00, 29.73it/s]\n",
      "Training Epoch 166: 100%|██████████| 901/901 [00:30<00:00, 29.74it/s]\n",
      "Training Epoch 167: 100%|██████████| 901/901 [00:30<00:00, 29.72it/s]\n",
      "Training Epoch 168: 100%|██████████| 901/901 [00:30<00:00, 29.88it/s]\n",
      "Training Epoch 169: 100%|██████████| 901/901 [00:30<00:00, 29.93it/s]\n",
      "Training Epoch 170: 100%|██████████| 901/901 [00:30<00:00, 29.76it/s]\n",
      "Training Epoch 171: 100%|██████████| 901/901 [00:30<00:00, 29.77it/s]\n"
     ]
    },
    {
     "name": "stdout",
     "output_type": "stream",
     "text": [
      "Epoch 170 - Train Loss: 0.3270, Train MSE: 0.3270, Train MAE: 0.4359\n",
      "Epoch 170 - Validation Loss: 0.7182, Validation MSE: 0.7182, Validation MAE: 0.6345\n"
     ]
    },
    {
     "name": "stderr",
     "output_type": "stream",
     "text": [
      "Training Epoch 172: 100%|██████████| 901/901 [00:30<00:00, 29.71it/s]\n",
      "Training Epoch 173: 100%|██████████| 901/901 [00:30<00:00, 29.81it/s]\n",
      "Training Epoch 174: 100%|██████████| 901/901 [00:30<00:00, 29.72it/s]\n",
      "Training Epoch 175: 100%|██████████| 901/901 [00:29<00:00, 30.27it/s]\n",
      "Training Epoch 176: 100%|██████████| 901/901 [00:29<00:00, 30.19it/s]\n",
      "Training Epoch 177: 100%|██████████| 901/901 [00:29<00:00, 30.21it/s]\n",
      "Training Epoch 178: 100%|██████████| 901/901 [00:29<00:00, 30.29it/s]\n",
      "Training Epoch 179: 100%|██████████| 901/901 [00:29<00:00, 30.18it/s]\n",
      "Training Epoch 180: 100%|██████████| 901/901 [00:29<00:00, 30.18it/s]\n",
      "Training Epoch 181: 100%|██████████| 901/901 [00:29<00:00, 30.16it/s]\n"
     ]
    },
    {
     "name": "stdout",
     "output_type": "stream",
     "text": [
      "Epoch 180 - Train Loss: 0.3134, Train MSE: 0.3134, Train MAE: 0.4261\n",
      "Epoch 180 - Validation Loss: 0.7178, Validation MSE: 0.7178, Validation MAE: 0.6326\n"
     ]
    },
    {
     "name": "stderr",
     "output_type": "stream",
     "text": [
      "Training Epoch 182: 100%|██████████| 901/901 [00:29<00:00, 30.21it/s]\n",
      "Training Epoch 183: 100%|██████████| 901/901 [00:29<00:00, 30.21it/s]\n",
      "Training Epoch 184: 100%|██████████| 901/901 [00:29<00:00, 30.40it/s]\n",
      "Training Epoch 185: 100%|██████████| 901/901 [00:29<00:00, 30.14it/s]\n",
      "Training Epoch 186: 100%|██████████| 901/901 [00:29<00:00, 30.09it/s]\n",
      "Training Epoch 187: 100%|██████████| 901/901 [00:29<00:00, 30.19it/s]\n",
      "Training Epoch 188: 100%|██████████| 901/901 [00:29<00:00, 30.21it/s]\n",
      "Training Epoch 189: 100%|██████████| 901/901 [00:29<00:00, 30.20it/s]\n",
      "Training Epoch 190: 100%|██████████| 901/901 [00:29<00:00, 30.24it/s]\n",
      "Training Epoch 191: 100%|██████████| 901/901 [00:29<00:00, 30.24it/s]\n"
     ]
    },
    {
     "name": "stdout",
     "output_type": "stream",
     "text": [
      "Epoch 190 - Train Loss: 0.3039, Train MSE: 0.3039, Train MAE: 0.4199\n",
      "Epoch 190 - Validation Loss: 0.7299, Validation MSE: 0.7299, Validation MAE: 0.6390\n"
     ]
    },
    {
     "name": "stderr",
     "output_type": "stream",
     "text": [
      "Training Epoch 192: 100%|██████████| 901/901 [00:29<00:00, 30.22it/s]\n",
      "Training Epoch 193: 100%|██████████| 901/901 [00:29<00:00, 30.23it/s]\n",
      "Training Epoch 194: 100%|██████████| 901/901 [00:29<00:00, 30.28it/s]\n",
      "Training Epoch 195: 100%|██████████| 901/901 [00:29<00:00, 30.13it/s]\n",
      "Training Epoch 196: 100%|██████████| 901/901 [00:29<00:00, 30.29it/s]\n",
      "Training Epoch 197: 100%|██████████| 901/901 [00:29<00:00, 30.27it/s]\n",
      "Training Epoch 198: 100%|██████████| 901/901 [00:29<00:00, 30.42it/s]\n",
      "Training Epoch 199: 100%|██████████| 901/901 [00:29<00:00, 30.37it/s]\n",
      "Training Epoch 200: 100%|██████████| 901/901 [00:29<00:00, 30.21it/s]\n",
      "Training Epoch 201: 100%|██████████| 901/901 [00:29<00:00, 30.23it/s]\n"
     ]
    },
    {
     "name": "stdout",
     "output_type": "stream",
     "text": [
      "Epoch 200 - Train Loss: 0.2956, Train MSE: 0.2956, Train MAE: 0.4133\n",
      "Epoch 200 - Validation Loss: 0.7212, Validation MSE: 0.7212, Validation MAE: 0.6333\n"
     ]
    },
    {
     "name": "stderr",
     "output_type": "stream",
     "text": [
      "Training Epoch 202: 100%|██████████| 901/901 [00:29<00:00, 30.22it/s]\n",
      "Training Epoch 203: 100%|██████████| 901/901 [00:29<00:00, 30.33it/s]\n",
      "Training Epoch 204: 100%|██████████| 901/901 [00:29<00:00, 30.17it/s]\n",
      "Training Epoch 205: 100%|██████████| 901/901 [00:29<00:00, 30.33it/s]\n",
      "Training Epoch 206: 100%|██████████| 901/901 [00:29<00:00, 30.29it/s]\n",
      "Training Epoch 207: 100%|██████████| 901/901 [00:29<00:00, 30.32it/s]\n",
      "Training Epoch 208: 100%|██████████| 901/901 [00:29<00:00, 30.33it/s]\n",
      "Training Epoch 209: 100%|██████████| 901/901 [00:29<00:00, 30.30it/s]\n",
      "Training Epoch 210: 100%|██████████| 901/901 [00:29<00:00, 30.31it/s]\n",
      "Training Epoch 211: 100%|██████████| 901/901 [00:29<00:00, 30.19it/s]\n"
     ]
    },
    {
     "name": "stdout",
     "output_type": "stream",
     "text": [
      "Epoch 210 - Train Loss: 0.2880, Train MSE: 0.2879, Train MAE: 0.4065\n",
      "Epoch 210 - Validation Loss: 0.7260, Validation MSE: 0.7260, Validation MAE: 0.6396\n"
     ]
    },
    {
     "name": "stderr",
     "output_type": "stream",
     "text": [
      "Training Epoch 212: 100%|██████████| 901/901 [00:29<00:00, 30.26it/s]\n",
      "Training Epoch 213: 100%|██████████| 901/901 [00:29<00:00, 30.22it/s]\n",
      "Training Epoch 214: 100%|██████████| 901/901 [00:29<00:00, 30.18it/s]\n",
      "Training Epoch 215: 100%|██████████| 901/901 [00:29<00:00, 30.15it/s]\n",
      "Training Epoch 216: 100%|██████████| 901/901 [00:29<00:00, 30.19it/s]\n",
      "Training Epoch 217: 100%|██████████| 901/901 [00:29<00:00, 30.29it/s]\n",
      "Training Epoch 218: 100%|██████████| 901/901 [00:29<00:00, 30.12it/s]\n",
      "Training Epoch 219: 100%|██████████| 901/901 [00:29<00:00, 30.22it/s]\n",
      "Training Epoch 220: 100%|██████████| 901/901 [00:29<00:00, 30.20it/s]\n",
      "Training Epoch 221: 100%|██████████| 901/901 [00:29<00:00, 30.22it/s]\n"
     ]
    },
    {
     "name": "stdout",
     "output_type": "stream",
     "text": [
      "Epoch 220 - Train Loss: 0.2800, Train MSE: 0.2800, Train MAE: 0.4013\n",
      "Epoch 220 - Validation Loss: 0.7214, Validation MSE: 0.7214, Validation MAE: 0.6334\n"
     ]
    },
    {
     "name": "stderr",
     "output_type": "stream",
     "text": [
      "Training Epoch 222: 100%|██████████| 901/901 [00:29<00:00, 30.16it/s]\n",
      "Training Epoch 223: 100%|██████████| 901/901 [00:29<00:00, 30.27it/s]\n",
      "Training Epoch 224: 100%|██████████| 901/901 [00:29<00:00, 30.20it/s]\n",
      "Training Epoch 225: 100%|██████████| 901/901 [00:29<00:00, 30.26it/s]\n",
      "Training Epoch 226: 100%|██████████| 901/901 [00:29<00:00, 30.31it/s]\n",
      "Training Epoch 227: 100%|██████████| 901/901 [00:29<00:00, 30.29it/s]\n",
      "Training Epoch 228: 100%|██████████| 901/901 [00:29<00:00, 30.21it/s]\n",
      "Training Epoch 229: 100%|██████████| 901/901 [00:29<00:00, 30.61it/s]\n",
      "Training Epoch 230: 100%|██████████| 901/901 [00:29<00:00, 30.57it/s]\n",
      "Training Epoch 231: 100%|██████████| 901/901 [00:29<00:00, 30.66it/s]\n"
     ]
    },
    {
     "name": "stdout",
     "output_type": "stream",
     "text": [
      "Epoch 230 - Train Loss: 0.2776, Train MSE: 0.2776, Train MAE: 0.4000\n",
      "Epoch 230 - Validation Loss: 0.7059, Validation MSE: 0.7059, Validation MAE: 0.6268\n"
     ]
    },
    {
     "name": "stderr",
     "output_type": "stream",
     "text": [
      "Training Epoch 232: 100%|██████████| 901/901 [00:29<00:00, 30.65it/s]\n",
      "Training Epoch 233: 100%|██████████| 901/901 [00:29<00:00, 30.64it/s]\n",
      "Training Epoch 234: 100%|██████████| 901/901 [00:29<00:00, 30.58it/s]\n",
      "Training Epoch 235: 100%|██████████| 901/901 [00:29<00:00, 30.54it/s]\n",
      "Training Epoch 236: 100%|██████████| 901/901 [00:29<00:00, 30.66it/s]\n",
      "Training Epoch 237: 100%|██████████| 901/901 [00:29<00:00, 30.56it/s]\n",
      "Training Epoch 238: 100%|██████████| 901/901 [00:29<00:00, 30.67it/s]\n",
      "Training Epoch 239: 100%|██████████| 901/901 [00:29<00:00, 30.62it/s]\n",
      "Training Epoch 240: 100%|██████████| 901/901 [00:29<00:00, 30.53it/s]\n",
      "Training Epoch 241: 100%|██████████| 901/901 [00:29<00:00, 30.64it/s]\n"
     ]
    },
    {
     "name": "stdout",
     "output_type": "stream",
     "text": [
      "Epoch 240 - Train Loss: 0.2692, Train MSE: 0.2692, Train MAE: 0.3947\n",
      "Epoch 240 - Validation Loss: 0.7224, Validation MSE: 0.7224, Validation MAE: 0.6324\n"
     ]
    },
    {
     "name": "stderr",
     "output_type": "stream",
     "text": [
      "Training Epoch 242: 100%|██████████| 901/901 [00:29<00:00, 30.46it/s]\n",
      "Training Epoch 243: 100%|██████████| 901/901 [00:29<00:00, 30.68it/s]\n",
      "Training Epoch 244: 100%|██████████| 901/901 [00:29<00:00, 30.51it/s]\n",
      "Training Epoch 245: 100%|██████████| 901/901 [00:29<00:00, 30.60it/s]\n",
      "Training Epoch 246: 100%|██████████| 901/901 [00:29<00:00, 30.57it/s]\n",
      "Training Epoch 247: 100%|██████████| 901/901 [00:29<00:00, 30.60it/s]\n",
      "Training Epoch 248: 100%|██████████| 901/901 [00:29<00:00, 30.60it/s]\n",
      "Training Epoch 249: 100%|██████████| 901/901 [00:29<00:00, 30.68it/s]\n",
      "Training Epoch 250: 100%|██████████| 901/901 [00:29<00:00, 30.60it/s]\n",
      "Training Epoch 251: 100%|██████████| 901/901 [00:29<00:00, 30.53it/s]\n"
     ]
    },
    {
     "name": "stdout",
     "output_type": "stream",
     "text": [
      "Epoch 250 - Train Loss: 0.2655, Train MSE: 0.2655, Train MAE: 0.3914\n",
      "Epoch 250 - Validation Loss: 0.7240, Validation MSE: 0.7240, Validation MAE: 0.6326\n"
     ]
    },
    {
     "name": "stderr",
     "output_type": "stream",
     "text": [
      "Training Epoch 252: 100%|██████████| 901/901 [00:29<00:00, 30.67it/s]\n",
      "Training Epoch 253: 100%|██████████| 901/901 [00:29<00:00, 30.59it/s]\n",
      "Training Epoch 254: 100%|██████████| 901/901 [00:29<00:00, 30.71it/s]\n",
      "Training Epoch 255: 100%|██████████| 901/901 [00:29<00:00, 30.61it/s]\n",
      "Training Epoch 256: 100%|██████████| 901/901 [00:29<00:00, 30.56it/s]\n",
      "Training Epoch 257: 100%|██████████| 901/901 [00:29<00:00, 30.57it/s]\n",
      "Training Epoch 258: 100%|██████████| 901/901 [00:29<00:00, 30.53it/s]\n",
      "Training Epoch 259: 100%|██████████| 901/901 [00:29<00:00, 30.52it/s]\n",
      "Training Epoch 260: 100%|██████████| 901/901 [00:29<00:00, 30.58it/s]\n",
      "Training Epoch 261: 100%|██████████| 901/901 [00:29<00:00, 30.49it/s]\n"
     ]
    },
    {
     "name": "stdout",
     "output_type": "stream",
     "text": [
      "Epoch 260 - Train Loss: 0.2623, Train MSE: 0.2623, Train MAE: 0.3874\n",
      "Epoch 260 - Validation Loss: 0.7123, Validation MSE: 0.7123, Validation MAE: 0.6282\n"
     ]
    },
    {
     "name": "stderr",
     "output_type": "stream",
     "text": [
      "Training Epoch 262: 100%|██████████| 901/901 [00:29<00:00, 30.51it/s]\n",
      "Training Epoch 263: 100%|██████████| 901/901 [00:29<00:00, 30.64it/s]\n",
      "Training Epoch 264: 100%|██████████| 901/901 [00:29<00:00, 30.60it/s]\n",
      "Training Epoch 265: 100%|██████████| 901/901 [00:29<00:00, 30.75it/s]\n",
      "Training Epoch 266: 100%|██████████| 901/901 [00:29<00:00, 30.63it/s]\n",
      "Training Epoch 267: 100%|██████████| 901/901 [00:29<00:00, 30.57it/s]\n",
      "Training Epoch 268: 100%|██████████| 901/901 [00:29<00:00, 30.58it/s]\n",
      "Training Epoch 269: 100%|██████████| 901/901 [00:29<00:00, 30.71it/s]\n",
      "Training Epoch 270: 100%|██████████| 901/901 [00:29<00:00, 30.67it/s]\n",
      "Training Epoch 271: 100%|██████████| 901/901 [00:29<00:00, 30.65it/s]\n"
     ]
    },
    {
     "name": "stdout",
     "output_type": "stream",
     "text": [
      "Epoch 270 - Train Loss: 0.2539, Train MSE: 0.2539, Train MAE: 0.3828\n",
      "Epoch 270 - Validation Loss: 0.7274, Validation MSE: 0.7274, Validation MAE: 0.6340\n"
     ]
    },
    {
     "name": "stderr",
     "output_type": "stream",
     "text": [
      "Training Epoch 272: 100%|██████████| 901/901 [00:29<00:00, 30.74it/s]\n",
      "Training Epoch 273: 100%|██████████| 901/901 [00:29<00:00, 30.66it/s]\n",
      "Training Epoch 274: 100%|██████████| 901/901 [00:29<00:00, 30.67it/s]\n",
      "Training Epoch 275: 100%|██████████| 901/901 [00:29<00:00, 30.53it/s]\n",
      "Training Epoch 276: 100%|██████████| 901/901 [00:29<00:00, 30.69it/s]\n",
      "Training Epoch 277: 100%|██████████| 901/901 [00:29<00:00, 30.53it/s]\n",
      "Training Epoch 278: 100%|██████████| 901/901 [00:29<00:00, 30.64it/s]\n",
      "Training Epoch 279: 100%|██████████| 901/901 [00:29<00:00, 30.62it/s]\n",
      "Training Epoch 280: 100%|██████████| 901/901 [00:29<00:00, 30.61it/s]\n",
      "Training Epoch 281: 100%|██████████| 901/901 [00:29<00:00, 30.60it/s]\n"
     ]
    },
    {
     "name": "stdout",
     "output_type": "stream",
     "text": [
      "Epoch 280 - Train Loss: 0.2494, Train MSE: 0.2494, Train MAE: 0.3788\n",
      "Epoch 280 - Validation Loss: 0.7196, Validation MSE: 0.7196, Validation MAE: 0.6305\n"
     ]
    },
    {
     "name": "stderr",
     "output_type": "stream",
     "text": [
      "Training Epoch 282: 100%|██████████| 901/901 [00:29<00:00, 30.50it/s]\n",
      "Training Epoch 283: 100%|██████████| 901/901 [00:29<00:00, 30.27it/s]\n",
      "Training Epoch 284: 100%|██████████| 901/901 [00:29<00:00, 30.72it/s]\n",
      "Training Epoch 285: 100%|██████████| 901/901 [00:29<00:00, 30.78it/s]\n",
      "Training Epoch 286: 100%|██████████| 901/901 [00:29<00:00, 30.72it/s]\n",
      "Training Epoch 287: 100%|██████████| 901/901 [00:29<00:00, 30.78it/s]\n",
      "Training Epoch 288: 100%|██████████| 901/901 [00:29<00:00, 30.71it/s]\n",
      "Training Epoch 289: 100%|██████████| 901/901 [00:29<00:00, 30.75it/s]\n",
      "Training Epoch 290: 100%|██████████| 901/901 [00:29<00:00, 30.90it/s]\n",
      "Training Epoch 291: 100%|██████████| 901/901 [00:29<00:00, 30.78it/s]\n"
     ]
    },
    {
     "name": "stdout",
     "output_type": "stream",
     "text": [
      "Epoch 290 - Train Loss: 0.2422, Train MSE: 0.2422, Train MAE: 0.3732\n",
      "Epoch 290 - Validation Loss: 0.7217, Validation MSE: 0.7217, Validation MAE: 0.6334\n"
     ]
    },
    {
     "name": "stderr",
     "output_type": "stream",
     "text": [
      "Training Epoch 292: 100%|██████████| 901/901 [00:29<00:00, 30.80it/s]\n",
      "Training Epoch 293: 100%|██████████| 901/901 [00:29<00:00, 30.78it/s]\n",
      "Training Epoch 294: 100%|██████████| 901/901 [00:29<00:00, 30.80it/s]\n",
      "Training Epoch 295: 100%|██████████| 901/901 [00:29<00:00, 30.70it/s]\n",
      "Training Epoch 296: 100%|██████████| 901/901 [00:29<00:00, 30.87it/s]\n",
      "Training Epoch 297: 100%|██████████| 901/901 [00:29<00:00, 30.97it/s]\n",
      "Training Epoch 298: 100%|██████████| 901/901 [00:29<00:00, 30.80it/s]\n",
      "Training Epoch 299: 100%|██████████| 901/901 [00:29<00:00, 30.84it/s]\n",
      "Training Epoch 300: 100%|██████████| 901/901 [00:29<00:00, 30.82it/s]\n",
      "Training Epoch 301: 100%|██████████| 901/901 [00:29<00:00, 30.78it/s]\n"
     ]
    },
    {
     "name": "stdout",
     "output_type": "stream",
     "text": [
      "Epoch 300 - Train Loss: 0.2468, Train MSE: 0.2468, Train MAE: 0.3753\n",
      "Epoch 300 - Validation Loss: 0.7294, Validation MSE: 0.7294, Validation MAE: 0.6358\n"
     ]
    },
    {
     "name": "stderr",
     "output_type": "stream",
     "text": [
      "Training Epoch 302: 100%|██████████| 901/901 [00:29<00:00, 30.70it/s]\n",
      "Training Epoch 303: 100%|██████████| 901/901 [00:29<00:00, 30.96it/s]\n",
      "Training Epoch 304: 100%|██████████| 901/901 [00:29<00:00, 30.65it/s]\n",
      "Training Epoch 305: 100%|██████████| 901/901 [00:29<00:00, 30.83it/s]\n",
      "Training Epoch 306: 100%|██████████| 901/901 [00:29<00:00, 30.73it/s]\n",
      "Training Epoch 307: 100%|██████████| 901/901 [00:29<00:00, 30.82it/s]\n",
      "Training Epoch 308: 100%|██████████| 901/901 [00:29<00:00, 30.76it/s]\n",
      "Training Epoch 309: 100%|██████████| 901/901 [00:29<00:00, 30.73it/s]\n",
      "Training Epoch 310: 100%|██████████| 901/901 [00:29<00:00, 30.81it/s]\n",
      "Training Epoch 311: 100%|██████████| 901/901 [00:29<00:00, 30.84it/s]\n"
     ]
    },
    {
     "name": "stdout",
     "output_type": "stream",
     "text": [
      "Epoch 310 - Train Loss: 0.2375, Train MSE: 0.2375, Train MAE: 0.3686\n",
      "Epoch 310 - Validation Loss: 0.7183, Validation MSE: 0.7183, Validation MAE: 0.6293\n"
     ]
    },
    {
     "name": "stderr",
     "output_type": "stream",
     "text": [
      "Training Epoch 312: 100%|██████████| 901/901 [00:29<00:00, 30.79it/s]\n",
      "Training Epoch 313: 100%|██████████| 901/901 [00:29<00:00, 31.04it/s]\n",
      "Training Epoch 314: 100%|██████████| 901/901 [00:29<00:00, 30.20it/s]\n",
      "Training Epoch 315: 100%|██████████| 901/901 [00:29<00:00, 30.89it/s]\n",
      "Training Epoch 316: 100%|██████████| 901/901 [00:29<00:00, 30.64it/s]\n",
      "Training Epoch 317: 100%|██████████| 901/901 [00:29<00:00, 30.78it/s]\n",
      "Training Epoch 318: 100%|██████████| 901/901 [00:29<00:00, 30.87it/s]\n",
      "Training Epoch 319: 100%|██████████| 901/901 [00:29<00:00, 30.81it/s]\n",
      "Training Epoch 320: 100%|██████████| 901/901 [00:29<00:00, 30.76it/s]\n",
      "Training Epoch 321: 100%|██████████| 901/901 [00:29<00:00, 30.78it/s]\n"
     ]
    },
    {
     "name": "stdout",
     "output_type": "stream",
     "text": [
      "Epoch 320 - Train Loss: 0.2354, Train MSE: 0.2354, Train MAE: 0.3664\n",
      "Epoch 320 - Validation Loss: 0.7266, Validation MSE: 0.7266, Validation MAE: 0.6348\n"
     ]
    },
    {
     "name": "stderr",
     "output_type": "stream",
     "text": [
      "Training Epoch 322: 100%|██████████| 901/901 [00:29<00:00, 30.86it/s]\n",
      "Training Epoch 323: 100%|██████████| 901/901 [00:29<00:00, 30.79it/s]\n",
      "Training Epoch 324: 100%|██████████| 901/901 [00:29<00:00, 30.70it/s]\n",
      "Training Epoch 325: 100%|██████████| 901/901 [00:29<00:00, 30.69it/s]\n",
      "Training Epoch 326: 100%|██████████| 901/901 [00:29<00:00, 30.70it/s]\n",
      "Training Epoch 327: 100%|██████████| 901/901 [00:29<00:00, 30.64it/s]\n",
      "Training Epoch 328: 100%|██████████| 901/901 [00:29<00:00, 30.73it/s]\n",
      "Training Epoch 329: 100%|██████████| 901/901 [00:29<00:00, 30.77it/s]\n",
      "Training Epoch 330: 100%|██████████| 901/901 [00:29<00:00, 30.78it/s]\n",
      "Training Epoch 331: 100%|██████████| 901/901 [00:29<00:00, 30.72it/s]\n"
     ]
    },
    {
     "name": "stdout",
     "output_type": "stream",
     "text": [
      "Epoch 330 - Train Loss: 0.2279, Train MSE: 0.2279, Train MAE: 0.3612\n",
      "Epoch 330 - Validation Loss: 0.7261, Validation MSE: 0.7261, Validation MAE: 0.6341\n"
     ]
    },
    {
     "name": "stderr",
     "output_type": "stream",
     "text": [
      "Training Epoch 332: 100%|██████████| 901/901 [00:29<00:00, 30.70it/s]\n",
      "Training Epoch 333: 100%|██████████| 901/901 [00:29<00:00, 30.70it/s]\n",
      "Training Epoch 334: 100%|██████████| 901/901 [00:29<00:00, 30.58it/s]\n",
      "Training Epoch 335: 100%|██████████| 901/901 [00:29<00:00, 30.55it/s]\n",
      "Training Epoch 336: 100%|██████████| 901/901 [00:29<00:00, 30.85it/s]\n",
      "Training Epoch 337: 100%|██████████| 901/901 [00:29<00:00, 30.80it/s]\n",
      "Training Epoch 338: 100%|██████████| 901/901 [00:29<00:00, 30.68it/s]\n",
      "Training Epoch 339: 100%|██████████| 901/901 [00:29<00:00, 30.91it/s]\n",
      "Training Epoch 340: 100%|██████████| 901/901 [00:29<00:00, 30.87it/s]\n",
      "Training Epoch 341: 100%|██████████| 901/901 [00:29<00:00, 30.93it/s]\n"
     ]
    },
    {
     "name": "stdout",
     "output_type": "stream",
     "text": [
      "Epoch 340 - Train Loss: 0.2273, Train MSE: 0.2273, Train MAE: 0.3606\n",
      "Epoch 340 - Validation Loss: 0.7206, Validation MSE: 0.7206, Validation MAE: 0.6294\n"
     ]
    },
    {
     "name": "stderr",
     "output_type": "stream",
     "text": [
      "Training Epoch 342: 100%|██████████| 901/901 [00:29<00:00, 30.90it/s]\n",
      "Training Epoch 343: 100%|██████████| 901/901 [00:29<00:00, 30.91it/s]\n",
      "Training Epoch 344: 100%|██████████| 901/901 [00:29<00:00, 30.86it/s]\n",
      "Training Epoch 345: 100%|██████████| 901/901 [00:29<00:00, 30.86it/s]\n",
      "Training Epoch 346: 100%|██████████| 901/901 [00:29<00:00, 30.90it/s]\n",
      "Training Epoch 347: 100%|██████████| 901/901 [00:29<00:00, 30.96it/s]\n",
      "Training Epoch 348: 100%|██████████| 901/901 [00:27<00:00, 32.78it/s]\n",
      "Training Epoch 349: 100%|██████████| 901/901 [00:27<00:00, 33.04it/s]\n",
      "Training Epoch 350: 100%|██████████| 901/901 [00:27<00:00, 32.97it/s]\n",
      "Training Epoch 351: 100%|██████████| 901/901 [00:27<00:00, 33.02it/s]\n"
     ]
    },
    {
     "name": "stdout",
     "output_type": "stream",
     "text": [
      "Epoch 350 - Train Loss: 0.2280, Train MSE: 0.2280, Train MAE: 0.3607\n",
      "Epoch 350 - Validation Loss: 0.7196, Validation MSE: 0.7196, Validation MAE: 0.6270\n"
     ]
    },
    {
     "name": "stderr",
     "output_type": "stream",
     "text": [
      "Training Epoch 352: 100%|██████████| 901/901 [00:27<00:00, 33.03it/s]\n",
      "Training Epoch 353: 100%|██████████| 901/901 [00:27<00:00, 33.06it/s]\n",
      "Training Epoch 354: 100%|██████████| 901/901 [00:27<00:00, 33.03it/s]\n",
      "Training Epoch 355: 100%|██████████| 901/901 [00:27<00:00, 33.06it/s]\n",
      "Training Epoch 356: 100%|██████████| 901/901 [00:27<00:00, 33.12it/s]\n",
      "Training Epoch 357: 100%|██████████| 901/901 [00:27<00:00, 33.12it/s]\n",
      "Training Epoch 358: 100%|██████████| 901/901 [00:25<00:00, 35.25it/s]\n",
      "Training Epoch 359: 100%|██████████| 901/901 [00:25<00:00, 35.23it/s]\n",
      "Training Epoch 360: 100%|██████████| 901/901 [00:25<00:00, 35.17it/s]\n",
      "Training Epoch 361: 100%|██████████| 901/901 [00:25<00:00, 35.20it/s]\n"
     ]
    },
    {
     "name": "stdout",
     "output_type": "stream",
     "text": [
      "Epoch 360 - Train Loss: 0.2242, Train MSE: 0.2242, Train MAE: 0.3568\n",
      "Epoch 360 - Validation Loss: 0.7241, Validation MSE: 0.7241, Validation MAE: 0.6298\n"
     ]
    },
    {
     "name": "stderr",
     "output_type": "stream",
     "text": [
      "Training Epoch 362: 100%|██████████| 901/901 [00:25<00:00, 35.16it/s]\n",
      "Training Epoch 363: 100%|██████████| 901/901 [00:25<00:00, 35.03it/s]\n",
      "Training Epoch 364: 100%|██████████| 901/901 [00:25<00:00, 35.12it/s]\n",
      "Training Epoch 365: 100%|██████████| 901/901 [00:25<00:00, 35.24it/s]\n",
      "Training Epoch 366: 100%|██████████| 901/901 [00:25<00:00, 35.16it/s]\n",
      "Training Epoch 367: 100%|██████████| 901/901 [00:25<00:00, 35.13it/s]\n",
      "Training Epoch 368: 100%|██████████| 901/901 [00:25<00:00, 35.19it/s]\n",
      "Training Epoch 369: 100%|██████████| 901/901 [00:25<00:00, 35.14it/s]\n",
      "Training Epoch 370: 100%|██████████| 901/901 [00:25<00:00, 35.13it/s]\n",
      "Training Epoch 371: 100%|██████████| 901/901 [00:25<00:00, 35.16it/s]\n"
     ]
    },
    {
     "name": "stdout",
     "output_type": "stream",
     "text": [
      "Epoch 370 - Train Loss: 0.2210, Train MSE: 0.2210, Train MAE: 0.3549\n",
      "Epoch 370 - Validation Loss: 0.7214, Validation MSE: 0.7214, Validation MAE: 0.6287\n"
     ]
    },
    {
     "name": "stderr",
     "output_type": "stream",
     "text": [
      "Training Epoch 372: 100%|██████████| 901/901 [00:25<00:00, 35.06it/s]\n",
      "Training Epoch 373: 100%|██████████| 901/901 [00:25<00:00, 35.11it/s]\n",
      "Training Epoch 374: 100%|██████████| 901/901 [00:25<00:00, 35.22it/s]\n",
      "Training Epoch 375: 100%|██████████| 901/901 [00:25<00:00, 35.18it/s]\n",
      "Training Epoch 376: 100%|██████████| 901/901 [00:25<00:00, 35.43it/s]\n",
      "Training Epoch 377: 100%|██████████| 901/901 [00:25<00:00, 35.07it/s]\n",
      "Training Epoch 378: 100%|██████████| 901/901 [00:25<00:00, 35.16it/s]\n",
      "Training Epoch 379: 100%|██████████| 901/901 [00:25<00:00, 35.24it/s]\n",
      "Training Epoch 380: 100%|██████████| 901/901 [00:25<00:00, 35.24it/s]\n",
      "Training Epoch 381: 100%|██████████| 901/901 [00:25<00:00, 35.23it/s]\n"
     ]
    },
    {
     "name": "stdout",
     "output_type": "stream",
     "text": [
      "Epoch 380 - Train Loss: 0.2171, Train MSE: 0.2171, Train MAE: 0.3505\n",
      "Epoch 380 - Validation Loss: 0.7252, Validation MSE: 0.7252, Validation MAE: 0.6291\n"
     ]
    },
    {
     "name": "stderr",
     "output_type": "stream",
     "text": [
      "Training Epoch 382: 100%|██████████| 901/901 [00:25<00:00, 35.14it/s]\n",
      "Training Epoch 383: 100%|██████████| 901/901 [00:25<00:00, 35.03it/s]\n",
      "Training Epoch 384: 100%|██████████| 901/901 [00:25<00:00, 35.16it/s]\n",
      "Training Epoch 385: 100%|██████████| 901/901 [00:25<00:00, 35.19it/s]\n",
      "Training Epoch 386: 100%|██████████| 901/901 [00:25<00:00, 35.22it/s]\n",
      "Training Epoch 387: 100%|██████████| 901/901 [00:25<00:00, 35.09it/s]\n",
      "Training Epoch 388: 100%|██████████| 901/901 [00:25<00:00, 35.12it/s]\n",
      "Training Epoch 389: 100%|██████████| 901/901 [00:25<00:00, 35.15it/s]\n",
      "Training Epoch 390: 100%|██████████| 901/901 [00:25<00:00, 35.16it/s]\n",
      "Training Epoch 391: 100%|██████████| 901/901 [00:25<00:00, 35.18it/s]\n"
     ]
    },
    {
     "name": "stdout",
     "output_type": "stream",
     "text": [
      "Epoch 390 - Train Loss: 0.2165, Train MSE: 0.2165, Train MAE: 0.3506\n",
      "Epoch 390 - Validation Loss: 0.7227, Validation MSE: 0.7227, Validation MAE: 0.6294\n"
     ]
    },
    {
     "name": "stderr",
     "output_type": "stream",
     "text": [
      "Training Epoch 392: 100%|██████████| 901/901 [00:25<00:00, 35.28it/s]\n",
      "Training Epoch 393: 100%|██████████| 901/901 [00:25<00:00, 35.17it/s]\n",
      "Training Epoch 394: 100%|██████████| 901/901 [00:25<00:00, 35.09it/s]\n",
      "Training Epoch 395: 100%|██████████| 901/901 [00:25<00:00, 35.16it/s]\n",
      "Training Epoch 396: 100%|██████████| 901/901 [00:25<00:00, 35.32it/s]\n",
      "Training Epoch 397: 100%|██████████| 901/901 [00:25<00:00, 35.52it/s]\n",
      "Training Epoch 398: 100%|██████████| 901/901 [00:25<00:00, 35.54it/s]\n",
      "Training Epoch 399: 100%|██████████| 901/901 [00:25<00:00, 35.30it/s]\n",
      "Training Epoch 400: 100%|██████████| 901/901 [00:25<00:00, 35.17it/s]\n",
      "Training Epoch 401: 100%|██████████| 901/901 [00:25<00:00, 35.28it/s]\n"
     ]
    },
    {
     "name": "stdout",
     "output_type": "stream",
     "text": [
      "Epoch 400 - Train Loss: 0.2122, Train MSE: 0.2122, Train MAE: 0.3466\n",
      "Epoch 400 - Validation Loss: 0.7242, Validation MSE: 0.7242, Validation MAE: 0.6306\n"
     ]
    },
    {
     "name": "stderr",
     "output_type": "stream",
     "text": [
      "Training Epoch 402: 100%|██████████| 901/901 [00:25<00:00, 35.10it/s]\n",
      "Training Epoch 403: 100%|██████████| 901/901 [00:25<00:00, 35.19it/s]\n",
      "Training Epoch 404: 100%|██████████| 901/901 [00:25<00:00, 35.12it/s]\n",
      "Training Epoch 405: 100%|██████████| 901/901 [00:25<00:00, 35.12it/s]\n",
      "Training Epoch 406: 100%|██████████| 901/901 [00:25<00:00, 35.12it/s]\n",
      "Training Epoch 407: 100%|██████████| 901/901 [00:25<00:00, 35.15it/s]\n",
      "Training Epoch 408: 100%|██████████| 901/901 [00:25<00:00, 35.16it/s]\n",
      "Training Epoch 409: 100%|██████████| 901/901 [00:25<00:00, 35.06it/s]\n",
      "Training Epoch 410: 100%|██████████| 901/901 [00:25<00:00, 35.15it/s]\n",
      "Training Epoch 411: 100%|██████████| 901/901 [00:25<00:00, 35.15it/s]\n"
     ]
    },
    {
     "name": "stdout",
     "output_type": "stream",
     "text": [
      "Epoch 410 - Train Loss: 0.2125, Train MSE: 0.2124, Train MAE: 0.3475\n",
      "Epoch 410 - Validation Loss: 0.7225, Validation MSE: 0.7225, Validation MAE: 0.6309\n"
     ]
    },
    {
     "name": "stderr",
     "output_type": "stream",
     "text": [
      "Training Epoch 412: 100%|██████████| 901/901 [00:25<00:00, 35.11it/s]\n",
      "Training Epoch 413: 100%|██████████| 901/901 [00:25<00:00, 35.08it/s]\n",
      "Training Epoch 414: 100%|██████████| 901/901 [00:25<00:00, 35.09it/s]\n",
      "Training Epoch 415: 100%|██████████| 901/901 [00:25<00:00, 35.22it/s]\n",
      "Training Epoch 416: 100%|██████████| 901/901 [00:25<00:00, 35.13it/s]\n",
      "Training Epoch 417: 100%|██████████| 901/901 [00:25<00:00, 35.24it/s]\n",
      "Training Epoch 418: 100%|██████████| 901/901 [00:25<00:00, 35.07it/s]\n",
      "Training Epoch 419: 100%|██████████| 901/901 [00:25<00:00, 35.12it/s]\n",
      "Training Epoch 420: 100%|██████████| 901/901 [00:25<00:00, 35.23it/s]\n",
      "Training Epoch 421: 100%|██████████| 901/901 [00:25<00:00, 35.31it/s]\n"
     ]
    },
    {
     "name": "stdout",
     "output_type": "stream",
     "text": [
      "Epoch 420 - Train Loss: 0.2098, Train MSE: 0.2099, Train MAE: 0.3438\n",
      "Epoch 420 - Validation Loss: 0.7109, Validation MSE: 0.7109, Validation MAE: 0.6258\n"
     ]
    },
    {
     "name": "stderr",
     "output_type": "stream",
     "text": [
      "Training Epoch 422: 100%|██████████| 901/901 [00:25<00:00, 35.33it/s]\n",
      "Training Epoch 423: 100%|██████████| 901/901 [00:25<00:00, 35.17it/s]\n",
      "Training Epoch 424: 100%|██████████| 901/901 [00:25<00:00, 35.22it/s]\n",
      "Training Epoch 425: 100%|██████████| 901/901 [00:25<00:00, 35.09it/s]\n",
      "Training Epoch 426: 100%|██████████| 901/901 [00:25<00:00, 35.11it/s]\n",
      "Training Epoch 427: 100%|██████████| 901/901 [00:25<00:00, 35.11it/s]\n",
      "Training Epoch 428: 100%|██████████| 901/901 [00:25<00:00, 35.11it/s]\n",
      "Training Epoch 429: 100%|██████████| 901/901 [00:25<00:00, 35.14it/s]\n",
      "Training Epoch 430: 100%|██████████| 901/901 [00:25<00:00, 35.16it/s]\n",
      "Training Epoch 431: 100%|██████████| 901/901 [00:25<00:00, 35.35it/s]\n"
     ]
    },
    {
     "name": "stdout",
     "output_type": "stream",
     "text": [
      "Epoch 430 - Train Loss: 0.2046, Train MSE: 0.2046, Train MAE: 0.3404\n",
      "Epoch 430 - Validation Loss: 0.7294, Validation MSE: 0.7294, Validation MAE: 0.6296\n"
     ]
    },
    {
     "name": "stderr",
     "output_type": "stream",
     "text": [
      "Training Epoch 432: 100%|██████████| 901/901 [00:25<00:00, 35.18it/s]\n",
      "Training Epoch 433: 100%|██████████| 901/901 [00:25<00:00, 35.24it/s]\n",
      "Training Epoch 434: 100%|██████████| 901/901 [00:25<00:00, 35.09it/s]\n",
      "Training Epoch 435: 100%|██████████| 901/901 [00:25<00:00, 35.03it/s]\n",
      "Training Epoch 436: 100%|██████████| 901/901 [00:25<00:00, 35.09it/s]\n",
      "Training Epoch 437: 100%|██████████| 901/901 [00:25<00:00, 35.13it/s]\n",
      "Training Epoch 438: 100%|██████████| 901/901 [00:25<00:00, 35.26it/s]\n",
      "Training Epoch 439: 100%|██████████| 901/901 [00:25<00:00, 35.27it/s]\n",
      "Training Epoch 440: 100%|██████████| 901/901 [00:25<00:00, 35.12it/s]\n",
      "Training Epoch 441: 100%|██████████| 901/901 [00:25<00:00, 35.04it/s]\n"
     ]
    },
    {
     "name": "stdout",
     "output_type": "stream",
     "text": [
      "Epoch 440 - Train Loss: 0.2055, Train MSE: 0.2056, Train MAE: 0.3397\n",
      "Epoch 440 - Validation Loss: 0.7149, Validation MSE: 0.7149, Validation MAE: 0.6276\n"
     ]
    },
    {
     "name": "stderr",
     "output_type": "stream",
     "text": [
      "Training Epoch 442: 100%|██████████| 901/901 [00:25<00:00, 34.98it/s]\n",
      "Training Epoch 443: 100%|██████████| 901/901 [00:25<00:00, 34.95it/s]\n",
      "Training Epoch 444: 100%|██████████| 901/901 [00:25<00:00, 34.99it/s]\n",
      "Training Epoch 445: 100%|██████████| 901/901 [00:25<00:00, 35.05it/s]\n",
      "Training Epoch 446: 100%|██████████| 901/901 [00:25<00:00, 35.02it/s]\n",
      "Training Epoch 447: 100%|██████████| 901/901 [00:25<00:00, 35.13it/s]\n",
      "Training Epoch 448: 100%|██████████| 901/901 [00:25<00:00, 35.21it/s]\n",
      "Training Epoch 449: 100%|██████████| 901/901 [00:25<00:00, 35.20it/s]\n",
      "Training Epoch 450: 100%|██████████| 901/901 [00:25<00:00, 35.21it/s]\n",
      "Training Epoch 451: 100%|██████████| 901/901 [00:25<00:00, 35.19it/s]\n"
     ]
    },
    {
     "name": "stdout",
     "output_type": "stream",
     "text": [
      "Epoch 450 - Train Loss: 0.2033, Train MSE: 0.2033, Train MAE: 0.3394\n",
      "Epoch 450 - Validation Loss: 0.7194, Validation MSE: 0.7194, Validation MAE: 0.6271\n"
     ]
    },
    {
     "name": "stderr",
     "output_type": "stream",
     "text": [
      "Training Epoch 452: 100%|██████████| 901/901 [00:25<00:00, 35.23it/s]\n",
      "Training Epoch 453: 100%|██████████| 901/901 [00:25<00:00, 35.16it/s]\n",
      "Training Epoch 454: 100%|██████████| 901/901 [00:25<00:00, 35.16it/s]\n",
      "Training Epoch 455: 100%|██████████| 901/901 [00:25<00:00, 35.10it/s]\n",
      "Training Epoch 456: 100%|██████████| 901/901 [00:25<00:00, 35.35it/s]\n",
      "Training Epoch 457: 100%|██████████| 901/901 [00:25<00:00, 35.11it/s]\n",
      "Training Epoch 458: 100%|██████████| 901/901 [00:25<00:00, 35.11it/s]\n",
      "Training Epoch 459: 100%|██████████| 901/901 [00:25<00:00, 35.07it/s]\n",
      "Training Epoch 460: 100%|██████████| 901/901 [00:25<00:00, 35.11it/s]\n",
      "Training Epoch 461: 100%|██████████| 901/901 [00:25<00:00, 35.01it/s]\n"
     ]
    },
    {
     "name": "stdout",
     "output_type": "stream",
     "text": [
      "Epoch 460 - Train Loss: 0.1996, Train MSE: 0.1997, Train MAE: 0.3354\n",
      "Epoch 460 - Validation Loss: 0.7211, Validation MSE: 0.7211, Validation MAE: 0.6262\n"
     ]
    },
    {
     "name": "stderr",
     "output_type": "stream",
     "text": [
      "Training Epoch 462: 100%|██████████| 901/901 [00:25<00:00, 35.03it/s]\n",
      "Training Epoch 463: 100%|██████████| 901/901 [00:25<00:00, 35.24it/s]\n",
      "Training Epoch 464: 100%|██████████| 901/901 [00:25<00:00, 35.23it/s]\n",
      "Training Epoch 465: 100%|██████████| 901/901 [00:25<00:00, 35.11it/s]\n",
      "Training Epoch 466: 100%|██████████| 901/901 [00:25<00:00, 35.06it/s]\n",
      "Training Epoch 467: 100%|██████████| 901/901 [00:25<00:00, 35.05it/s]\n",
      "Training Epoch 468: 100%|██████████| 901/901 [00:25<00:00, 34.99it/s]\n",
      "Training Epoch 469: 100%|██████████| 901/901 [00:25<00:00, 35.02it/s]\n",
      "Training Epoch 470: 100%|██████████| 901/901 [00:25<00:00, 34.99it/s]\n",
      "Training Epoch 471: 100%|██████████| 901/901 [00:25<00:00, 35.15it/s]\n"
     ]
    },
    {
     "name": "stdout",
     "output_type": "stream",
     "text": [
      "Epoch 470 - Train Loss: 0.1989, Train MSE: 0.1988, Train MAE: 0.3352\n",
      "Epoch 470 - Validation Loss: 0.7283, Validation MSE: 0.7283, Validation MAE: 0.6302\n"
     ]
    },
    {
     "name": "stderr",
     "output_type": "stream",
     "text": [
      "Training Epoch 472: 100%|██████████| 901/901 [00:25<00:00, 35.08it/s]\n",
      "Training Epoch 473: 100%|██████████| 901/901 [00:25<00:00, 35.10it/s]\n",
      "Training Epoch 474: 100%|██████████| 901/901 [00:25<00:00, 35.06it/s]\n",
      "Training Epoch 475: 100%|██████████| 901/901 [00:25<00:00, 35.17it/s]\n",
      "Training Epoch 476: 100%|██████████| 901/901 [00:25<00:00, 34.96it/s]\n",
      "Training Epoch 477: 100%|██████████| 901/901 [00:25<00:00, 35.20it/s]\n",
      "Training Epoch 478: 100%|██████████| 901/901 [00:25<00:00, 35.08it/s]\n",
      "Training Epoch 479: 100%|██████████| 901/901 [00:25<00:00, 35.20it/s]\n",
      "Training Epoch 480: 100%|██████████| 901/901 [00:25<00:00, 35.15it/s]\n",
      "Training Epoch 481: 100%|██████████| 901/901 [00:25<00:00, 35.12it/s]\n"
     ]
    },
    {
     "name": "stdout",
     "output_type": "stream",
     "text": [
      "Epoch 480 - Train Loss: 0.2011, Train MSE: 0.2011, Train MAE: 0.3361\n",
      "Epoch 480 - Validation Loss: 0.7240, Validation MSE: 0.7240, Validation MAE: 0.6291\n"
     ]
    },
    {
     "name": "stderr",
     "output_type": "stream",
     "text": [
      "Training Epoch 482: 100%|██████████| 901/901 [00:25<00:00, 35.08it/s]\n",
      "Training Epoch 483: 100%|██████████| 901/901 [00:25<00:00, 34.98it/s]\n",
      "Training Epoch 484: 100%|██████████| 901/901 [00:25<00:00, 35.07it/s]\n",
      "Training Epoch 485: 100%|██████████| 901/901 [00:25<00:00, 35.00it/s]\n",
      "Training Epoch 486: 100%|██████████| 901/901 [00:25<00:00, 35.09it/s]\n",
      "Training Epoch 487: 100%|██████████| 901/901 [00:25<00:00, 35.15it/s]\n",
      "Training Epoch 488: 100%|██████████| 901/901 [00:25<00:00, 35.08it/s]\n",
      "Training Epoch 489: 100%|██████████| 901/901 [00:25<00:00, 34.96it/s]\n",
      "Training Epoch 490: 100%|██████████| 901/901 [00:25<00:00, 35.00it/s]\n",
      "Training Epoch 491: 100%|██████████| 901/901 [00:25<00:00, 34.96it/s]\n"
     ]
    },
    {
     "name": "stdout",
     "output_type": "stream",
     "text": [
      "Epoch 490 - Train Loss: 0.1942, Train MSE: 0.1942, Train MAE: 0.3304\n",
      "Epoch 490 - Validation Loss: 0.7198, Validation MSE: 0.7198, Validation MAE: 0.6281\n"
     ]
    },
    {
     "name": "stderr",
     "output_type": "stream",
     "text": [
      "Training Epoch 492: 100%|██████████| 901/901 [00:25<00:00, 35.08it/s]\n",
      "Training Epoch 493: 100%|██████████| 901/901 [00:25<00:00, 35.10it/s]\n",
      "Training Epoch 494: 100%|██████████| 901/901 [00:25<00:00, 35.05it/s]\n",
      "Training Epoch 495: 100%|██████████| 901/901 [00:25<00:00, 35.22it/s]\n",
      "Training Epoch 496: 100%|██████████| 901/901 [00:25<00:00, 35.09it/s]\n",
      "Training Epoch 497: 100%|██████████| 901/901 [00:25<00:00, 35.13it/s]\n",
      "Training Epoch 498: 100%|██████████| 901/901 [00:25<00:00, 35.03it/s]\n",
      "Training Epoch 499: 100%|██████████| 901/901 [00:25<00:00, 35.03it/s]\n",
      "Training Epoch 500: 100%|██████████| 901/901 [00:25<00:00, 35.23it/s]\n",
      "Training Epoch 501: 100%|██████████| 901/901 [00:25<00:00, 35.09it/s]\n"
     ]
    },
    {
     "name": "stdout",
     "output_type": "stream",
     "text": [
      "Epoch 500 - Train Loss: 0.1899, Train MSE: 0.1899, Train MAE: 0.3274\n",
      "Epoch 500 - Validation Loss: 0.7413, Validation MSE: 0.7413, Validation MAE: 0.6346\n"
     ]
    },
    {
     "name": "stderr",
     "output_type": "stream",
     "text": [
      "Training Epoch 502: 100%|██████████| 901/901 [00:25<00:00, 35.04it/s]\n",
      "Training Epoch 503: 100%|██████████| 901/901 [00:25<00:00, 34.97it/s]\n",
      "Training Epoch 504: 100%|██████████| 901/901 [00:25<00:00, 35.05it/s]\n",
      "Training Epoch 505: 100%|██████████| 901/901 [00:25<00:00, 35.16it/s]\n",
      "Training Epoch 506: 100%|██████████| 901/901 [00:25<00:00, 35.06it/s]\n",
      "Training Epoch 507: 100%|██████████| 901/901 [00:25<00:00, 35.03it/s]\n",
      "Training Epoch 508: 100%|██████████| 901/901 [00:25<00:00, 35.04it/s]\n",
      "Training Epoch 509: 100%|██████████| 901/901 [00:25<00:00, 35.03it/s]\n",
      "Training Epoch 510: 100%|██████████| 901/901 [00:25<00:00, 34.99it/s]\n",
      "Training Epoch 511: 100%|██████████| 901/901 [00:25<00:00, 34.99it/s]\n"
     ]
    },
    {
     "name": "stdout",
     "output_type": "stream",
     "text": [
      "Epoch 510 - Train Loss: 0.1930, Train MSE: 0.1930, Train MAE: 0.3297\n",
      "Epoch 510 - Validation Loss: 0.7235, Validation MSE: 0.7235, Validation MAE: 0.6292\n"
     ]
    },
    {
     "name": "stderr",
     "output_type": "stream",
     "text": [
      "Training Epoch 512: 100%|██████████| 901/901 [00:25<00:00, 34.99it/s]\n",
      "Training Epoch 513: 100%|██████████| 901/901 [00:25<00:00, 35.02it/s]\n",
      "Training Epoch 514: 100%|██████████| 901/901 [00:25<00:00, 35.10it/s]\n",
      "Training Epoch 515: 100%|██████████| 901/901 [00:25<00:00, 35.01it/s]\n",
      "Training Epoch 516: 100%|██████████| 901/901 [00:25<00:00, 35.02it/s]\n",
      "Training Epoch 517: 100%|██████████| 901/901 [00:25<00:00, 35.16it/s]\n",
      "Training Epoch 518: 100%|██████████| 901/901 [00:25<00:00, 35.27it/s]\n",
      "Training Epoch 519: 100%|██████████| 901/901 [00:25<00:00, 35.17it/s]\n",
      "Training Epoch 520: 100%|██████████| 901/901 [00:25<00:00, 35.17it/s]\n",
      "Training Epoch 521: 100%|██████████| 901/901 [00:25<00:00, 35.00it/s]\n"
     ]
    },
    {
     "name": "stdout",
     "output_type": "stream",
     "text": [
      "Epoch 520 - Train Loss: 0.1911, Train MSE: 0.1911, Train MAE: 0.3270\n",
      "Epoch 520 - Validation Loss: 0.7141, Validation MSE: 0.7141, Validation MAE: 0.6253\n"
     ]
    },
    {
     "name": "stderr",
     "output_type": "stream",
     "text": [
      "Training Epoch 522: 100%|██████████| 901/901 [00:25<00:00, 34.91it/s]\n",
      "Training Epoch 523: 100%|██████████| 901/901 [00:25<00:00, 35.12it/s]\n",
      "Training Epoch 524: 100%|██████████| 901/901 [00:25<00:00, 34.97it/s]\n",
      "Training Epoch 525: 100%|██████████| 901/901 [00:25<00:00, 34.85it/s]\n",
      "Training Epoch 526: 100%|██████████| 901/901 [00:25<00:00, 34.92it/s]\n",
      "Training Epoch 527: 100%|██████████| 901/901 [00:25<00:00, 34.97it/s]\n",
      "Training Epoch 528: 100%|██████████| 901/901 [00:25<00:00, 34.93it/s]\n",
      "Training Epoch 529: 100%|██████████| 901/901 [00:25<00:00, 34.99it/s]\n",
      "Training Epoch 530: 100%|██████████| 901/901 [00:25<00:00, 34.95it/s]\n",
      "Training Epoch 531: 100%|██████████| 901/901 [00:25<00:00, 34.96it/s]\n"
     ]
    },
    {
     "name": "stdout",
     "output_type": "stream",
     "text": [
      "Epoch 530 - Train Loss: 0.1930, Train MSE: 0.1931, Train MAE: 0.3292\n",
      "Epoch 530 - Validation Loss: 0.7282, Validation MSE: 0.7282, Validation MAE: 0.6310\n"
     ]
    },
    {
     "name": "stderr",
     "output_type": "stream",
     "text": [
      "Training Epoch 532: 100%|██████████| 901/901 [00:25<00:00, 35.00it/s]\n",
      "Training Epoch 533: 100%|██████████| 901/901 [00:25<00:00, 34.97it/s]\n",
      "Training Epoch 534: 100%|██████████| 901/901 [00:25<00:00, 35.12it/s]\n",
      "Training Epoch 535: 100%|██████████| 901/901 [00:25<00:00, 34.89it/s]\n",
      "Training Epoch 536: 100%|██████████| 901/901 [00:25<00:00, 34.95it/s]\n",
      "Training Epoch 537: 100%|██████████| 901/901 [00:25<00:00, 34.97it/s]\n",
      "Training Epoch 538: 100%|██████████| 901/901 [00:25<00:00, 34.88it/s]\n",
      "Training Epoch 539: 100%|██████████| 901/901 [00:25<00:00, 34.98it/s]\n",
      "Training Epoch 540: 100%|██████████| 901/901 [00:25<00:00, 34.99it/s]\n",
      "Training Epoch 541: 100%|██████████| 901/901 [00:25<00:00, 34.98it/s]\n"
     ]
    },
    {
     "name": "stdout",
     "output_type": "stream",
     "text": [
      "Epoch 540 - Train Loss: 0.1898, Train MSE: 0.1898, Train MAE: 0.3259\n",
      "Epoch 540 - Validation Loss: 0.7291, Validation MSE: 0.7291, Validation MAE: 0.6331\n"
     ]
    },
    {
     "name": "stderr",
     "output_type": "stream",
     "text": [
      "Training Epoch 542: 100%|██████████| 901/901 [00:25<00:00, 35.15it/s]\n",
      "Training Epoch 543: 100%|██████████| 901/901 [00:25<00:00, 34.98it/s]\n",
      "Training Epoch 544: 100%|██████████| 901/901 [00:25<00:00, 35.01it/s]\n",
      "Training Epoch 545: 100%|██████████| 901/901 [00:25<00:00, 34.92it/s]\n",
      "Training Epoch 546: 100%|██████████| 901/901 [00:25<00:00, 34.87it/s]\n",
      "Training Epoch 547: 100%|██████████| 901/901 [00:25<00:00, 34.91it/s]\n",
      "Training Epoch 548: 100%|██████████| 901/901 [00:25<00:00, 35.06it/s]\n",
      "Training Epoch 549: 100%|██████████| 901/901 [00:25<00:00, 34.91it/s]\n",
      "Training Epoch 550: 100%|██████████| 901/901 [00:25<00:00, 34.99it/s]\n",
      "Training Epoch 551: 100%|██████████| 901/901 [00:25<00:00, 34.95it/s]\n"
     ]
    },
    {
     "name": "stdout",
     "output_type": "stream",
     "text": [
      "Epoch 550 - Train Loss: 0.1891, Train MSE: 0.1891, Train MAE: 0.3246\n",
      "Epoch 550 - Validation Loss: 0.7326, Validation MSE: 0.7326, Validation MAE: 0.6351\n"
     ]
    },
    {
     "name": "stderr",
     "output_type": "stream",
     "text": [
      "Training Epoch 552: 100%|██████████| 901/901 [00:25<00:00, 34.85it/s]\n",
      "Training Epoch 553: 100%|██████████| 901/901 [00:25<00:00, 34.89it/s]\n",
      "Training Epoch 554: 100%|██████████| 901/901 [00:25<00:00, 34.85it/s]\n",
      "Training Epoch 555: 100%|██████████| 901/901 [00:25<00:00, 35.20it/s]\n",
      "Training Epoch 556: 100%|██████████| 901/901 [00:25<00:00, 34.96it/s]\n",
      "Training Epoch 557: 100%|██████████| 901/901 [00:25<00:00, 35.16it/s]\n",
      "Training Epoch 558: 100%|██████████| 901/901 [00:25<00:00, 34.87it/s]\n",
      "Training Epoch 559: 100%|██████████| 901/901 [00:25<00:00, 34.93it/s]\n",
      "Training Epoch 560: 100%|██████████| 901/901 [00:25<00:00, 34.93it/s]\n",
      "Training Epoch 561: 100%|██████████| 901/901 [00:25<00:00, 34.97it/s]\n"
     ]
    },
    {
     "name": "stdout",
     "output_type": "stream",
     "text": [
      "Epoch 560 - Train Loss: 0.1894, Train MSE: 0.1893, Train MAE: 0.3251\n",
      "Epoch 560 - Validation Loss: 0.7356, Validation MSE: 0.7356, Validation MAE: 0.6327\n"
     ]
    },
    {
     "name": "stderr",
     "output_type": "stream",
     "text": [
      "Training Epoch 562: 100%|██████████| 901/901 [00:25<00:00, 35.27it/s]\n",
      "Training Epoch 563: 100%|██████████| 901/901 [00:25<00:00, 35.24it/s]\n",
      "Training Epoch 564: 100%|██████████| 901/901 [00:25<00:00, 34.85it/s]\n",
      "Training Epoch 565: 100%|██████████| 901/901 [00:25<00:00, 34.77it/s]\n",
      "Training Epoch 566: 100%|██████████| 901/901 [00:25<00:00, 34.85it/s]\n",
      "Training Epoch 567: 100%|██████████| 901/901 [00:25<00:00, 34.83it/s]\n",
      "Training Epoch 568: 100%|██████████| 901/901 [00:25<00:00, 34.82it/s]\n",
      "Training Epoch 569: 100%|██████████| 901/901 [00:25<00:00, 34.94it/s]\n",
      "Training Epoch 570: 100%|██████████| 901/901 [00:25<00:00, 34.86it/s]\n",
      "Training Epoch 571: 100%|██████████| 901/901 [00:25<00:00, 34.83it/s]\n"
     ]
    },
    {
     "name": "stdout",
     "output_type": "stream",
     "text": [
      "Epoch 570 - Train Loss: 0.1865, Train MSE: 0.1865, Train MAE: 0.3232\n",
      "Epoch 570 - Validation Loss: 0.7234, Validation MSE: 0.7234, Validation MAE: 0.6296\n"
     ]
    },
    {
     "name": "stderr",
     "output_type": "stream",
     "text": [
      "Training Epoch 572: 100%|██████████| 901/901 [00:25<00:00, 35.30it/s]\n",
      "Training Epoch 573: 100%|██████████| 901/901 [00:25<00:00, 34.96it/s]\n",
      "Training Epoch 574: 100%|██████████| 901/901 [00:25<00:00, 34.91it/s]\n",
      "Training Epoch 575: 100%|██████████| 901/901 [00:25<00:00, 35.13it/s]\n",
      "Training Epoch 576: 100%|██████████| 901/901 [00:25<00:00, 34.85it/s]\n",
      "Training Epoch 577: 100%|██████████| 901/901 [00:25<00:00, 34.99it/s]\n",
      "Training Epoch 578: 100%|██████████| 901/901 [00:25<00:00, 34.90it/s]\n",
      "Training Epoch 579: 100%|██████████| 901/901 [00:25<00:00, 34.89it/s]\n",
      "Training Epoch 580: 100%|██████████| 901/901 [00:25<00:00, 34.85it/s]\n",
      "Training Epoch 581: 100%|██████████| 901/901 [00:25<00:00, 34.91it/s]\n"
     ]
    },
    {
     "name": "stdout",
     "output_type": "stream",
     "text": [
      "Epoch 580 - Train Loss: 0.1851, Train MSE: 0.1851, Train MAE: 0.3221\n",
      "Epoch 580 - Validation Loss: 0.7242, Validation MSE: 0.7242, Validation MAE: 0.6310\n"
     ]
    },
    {
     "name": "stderr",
     "output_type": "stream",
     "text": [
      "Training Epoch 582: 100%|██████████| 901/901 [00:25<00:00, 35.02it/s]\n",
      "Training Epoch 583: 100%|██████████| 901/901 [00:25<00:00, 34.97it/s]\n",
      "Training Epoch 584: 100%|██████████| 901/901 [00:25<00:00, 34.84it/s]\n",
      "Training Epoch 585: 100%|██████████| 901/901 [00:25<00:00, 34.78it/s]\n",
      "Training Epoch 586: 100%|██████████| 901/901 [00:26<00:00, 34.41it/s]\n",
      "Training Epoch 587: 100%|██████████| 901/901 [00:26<00:00, 34.30it/s]\n",
      "Training Epoch 588: 100%|██████████| 901/901 [00:26<00:00, 34.64it/s]\n",
      "Training Epoch 589: 100%|██████████| 901/901 [00:26<00:00, 34.36it/s]\n",
      "Training Epoch 590: 100%|██████████| 901/901 [00:26<00:00, 34.38it/s]\n",
      "Training Epoch 591: 100%|██████████| 901/901 [00:26<00:00, 34.28it/s]\n"
     ]
    },
    {
     "name": "stdout",
     "output_type": "stream",
     "text": [
      "Epoch 590 - Train Loss: 0.1852, Train MSE: 0.1852, Train MAE: 0.3218\n",
      "Epoch 590 - Validation Loss: 0.7196, Validation MSE: 0.7196, Validation MAE: 0.6274\n"
     ]
    },
    {
     "name": "stderr",
     "output_type": "stream",
     "text": [
      "Training Epoch 592: 100%|██████████| 901/901 [00:26<00:00, 34.28it/s]\n",
      "Training Epoch 593: 100%|██████████| 901/901 [00:26<00:00, 34.50it/s]\n",
      "Training Epoch 594: 100%|██████████| 901/901 [00:26<00:00, 34.60it/s]\n",
      "Training Epoch 595: 100%|██████████| 901/901 [00:26<00:00, 34.34it/s]\n",
      "Training Epoch 596: 100%|██████████| 901/901 [00:26<00:00, 34.39it/s]\n",
      "Training Epoch 597: 100%|██████████| 901/901 [00:26<00:00, 34.46it/s]\n",
      "Training Epoch 598: 100%|██████████| 901/901 [00:26<00:00, 34.42it/s]\n",
      "Training Epoch 599: 100%|██████████| 901/901 [00:26<00:00, 34.42it/s]\n",
      "Training Epoch 600: 100%|██████████| 901/901 [00:26<00:00, 34.47it/s]\n",
      "Training Epoch 601: 100%|██████████| 901/901 [00:26<00:00, 34.38it/s]\n"
     ]
    },
    {
     "name": "stdout",
     "output_type": "stream",
     "text": [
      "Epoch 600 - Train Loss: 0.1794, Train MSE: 0.1794, Train MAE: 0.3154\n",
      "Epoch 600 - Validation Loss: 0.7314, Validation MSE: 0.7314, Validation MAE: 0.6376\n"
     ]
    },
    {
     "name": "stderr",
     "output_type": "stream",
     "text": [
      "Training Epoch 602: 100%|██████████| 901/901 [00:26<00:00, 34.37it/s]\n",
      "Training Epoch 603: 100%|██████████| 901/901 [00:26<00:00, 34.60it/s]\n",
      "Training Epoch 604: 100%|██████████| 901/901 [00:26<00:00, 34.52it/s]\n",
      "Training Epoch 605: 100%|██████████| 901/901 [00:26<00:00, 34.47it/s]\n",
      "Training Epoch 606: 100%|██████████| 901/901 [00:26<00:00, 34.32it/s]\n",
      "Training Epoch 607: 100%|██████████| 901/901 [00:26<00:00, 34.41it/s]\n",
      "Training Epoch 608: 100%|██████████| 901/901 [00:26<00:00, 34.43it/s]\n",
      "Training Epoch 609: 100%|██████████| 901/901 [00:26<00:00, 34.35it/s]\n",
      "Training Epoch 610: 100%|██████████| 901/901 [00:26<00:00, 34.34it/s]\n",
      "Training Epoch 611: 100%|██████████| 901/901 [00:26<00:00, 34.48it/s]\n"
     ]
    },
    {
     "name": "stdout",
     "output_type": "stream",
     "text": [
      "Epoch 610 - Train Loss: 0.1792, Train MSE: 0.1792, Train MAE: 0.3167\n",
      "Epoch 610 - Validation Loss: 0.7181, Validation MSE: 0.7181, Validation MAE: 0.6273\n"
     ]
    },
    {
     "name": "stderr",
     "output_type": "stream",
     "text": [
      "Training Epoch 612: 100%|██████████| 901/901 [00:26<00:00, 34.38it/s]\n",
      "Training Epoch 613: 100%|██████████| 901/901 [00:26<00:00, 34.51it/s]\n",
      "Training Epoch 614: 100%|██████████| 901/901 [00:26<00:00, 34.49it/s]\n",
      "Training Epoch 615: 100%|██████████| 901/901 [00:26<00:00, 34.41it/s]\n",
      "Training Epoch 616: 100%|██████████| 901/901 [00:26<00:00, 34.39it/s]\n",
      "Training Epoch 617: 100%|██████████| 901/901 [00:26<00:00, 34.38it/s]\n",
      "Training Epoch 618: 100%|██████████| 901/901 [00:26<00:00, 34.46it/s]\n",
      "Training Epoch 619: 100%|██████████| 901/901 [00:26<00:00, 34.34it/s]\n",
      "Training Epoch 620: 100%|██████████| 901/901 [00:26<00:00, 34.43it/s]\n",
      "Training Epoch 621: 100%|██████████| 901/901 [00:26<00:00, 34.26it/s]\n"
     ]
    },
    {
     "name": "stdout",
     "output_type": "stream",
     "text": [
      "Epoch 620 - Train Loss: 0.1802, Train MSE: 0.1802, Train MAE: 0.3187\n",
      "Epoch 620 - Validation Loss: 0.7297, Validation MSE: 0.7297, Validation MAE: 0.6365\n"
     ]
    },
    {
     "name": "stderr",
     "output_type": "stream",
     "text": [
      "Training Epoch 622: 100%|██████████| 901/901 [00:26<00:00, 34.25it/s]\n",
      "Training Epoch 623: 100%|██████████| 901/901 [00:26<00:00, 34.39it/s]\n",
      "Training Epoch 624: 100%|██████████| 901/901 [00:26<00:00, 34.41it/s]\n",
      "Training Epoch 625: 100%|██████████| 901/901 [00:26<00:00, 34.40it/s]\n",
      "Training Epoch 626: 100%|██████████| 901/901 [00:26<00:00, 34.30it/s]\n",
      "Training Epoch 627: 100%|██████████| 901/901 [00:26<00:00, 34.31it/s]\n",
      "Training Epoch 628: 100%|██████████| 901/901 [00:26<00:00, 34.38it/s]\n",
      "Training Epoch 629: 100%|██████████| 901/901 [00:26<00:00, 34.35it/s]\n",
      "Training Epoch 630: 100%|██████████| 901/901 [00:26<00:00, 34.38it/s]\n",
      "Training Epoch 631: 100%|██████████| 901/901 [00:26<00:00, 34.28it/s]\n"
     ]
    },
    {
     "name": "stdout",
     "output_type": "stream",
     "text": [
      "Epoch 630 - Train Loss: 0.1821, Train MSE: 0.1821, Train MAE: 0.3186\n",
      "Epoch 630 - Validation Loss: 0.7410, Validation MSE: 0.7410, Validation MAE: 0.6340\n"
     ]
    },
    {
     "name": "stderr",
     "output_type": "stream",
     "text": [
      "Training Epoch 632: 100%|██████████| 901/901 [00:26<00:00, 34.40it/s]\n",
      "Training Epoch 633: 100%|██████████| 901/901 [00:26<00:00, 34.38it/s]\n",
      "Training Epoch 634: 100%|██████████| 901/901 [00:24<00:00, 36.25it/s]\n",
      "Training Epoch 635: 100%|██████████| 901/901 [00:23<00:00, 37.94it/s]\n",
      "Training Epoch 636: 100%|██████████| 901/901 [00:23<00:00, 37.93it/s]\n",
      "Training Epoch 637: 100%|██████████| 901/901 [00:23<00:00, 37.93it/s]\n",
      "Training Epoch 638: 100%|██████████| 901/901 [00:23<00:00, 38.08it/s]\n",
      "Training Epoch 639: 100%|██████████| 901/901 [00:23<00:00, 37.99it/s]\n",
      "Training Epoch 640: 100%|██████████| 901/901 [00:23<00:00, 38.09it/s]\n",
      "Training Epoch 641: 100%|██████████| 901/901 [00:23<00:00, 37.98it/s]\n"
     ]
    },
    {
     "name": "stdout",
     "output_type": "stream",
     "text": [
      "Epoch 640 - Train Loss: 0.1804, Train MSE: 0.1804, Train MAE: 0.3176\n",
      "Epoch 640 - Validation Loss: 0.7251, Validation MSE: 0.7251, Validation MAE: 0.6278\n"
     ]
    },
    {
     "name": "stderr",
     "output_type": "stream",
     "text": [
      "Training Epoch 642: 100%|██████████| 901/901 [00:23<00:00, 38.11it/s]\n",
      "Training Epoch 643: 100%|██████████| 901/901 [00:23<00:00, 37.82it/s]\n",
      "Training Epoch 644: 100%|██████████| 901/901 [00:23<00:00, 38.11it/s]\n",
      "Training Epoch 645: 100%|██████████| 901/901 [00:23<00:00, 38.20it/s]\n",
      "Training Epoch 646: 100%|██████████| 901/901 [00:23<00:00, 38.06it/s]\n",
      "Training Epoch 647: 100%|██████████| 901/901 [00:23<00:00, 38.15it/s]\n",
      "Training Epoch 648: 100%|██████████| 901/901 [00:23<00:00, 38.86it/s]\n",
      "Training Epoch 649: 100%|██████████| 901/901 [00:23<00:00, 38.75it/s]\n",
      "Training Epoch 650: 100%|██████████| 901/901 [00:23<00:00, 38.81it/s]\n",
      "Training Epoch 651: 100%|██████████| 901/901 [00:23<00:00, 38.81it/s]\n"
     ]
    },
    {
     "name": "stdout",
     "output_type": "stream",
     "text": [
      "Epoch 650 - Train Loss: 0.1767, Train MSE: 0.1767, Train MAE: 0.3150\n",
      "Epoch 650 - Validation Loss: 0.7201, Validation MSE: 0.7201, Validation MAE: 0.6256\n"
     ]
    },
    {
     "name": "stderr",
     "output_type": "stream",
     "text": [
      "Training Epoch 652: 100%|██████████| 901/901 [00:23<00:00, 38.65it/s]\n",
      "Training Epoch 653: 100%|██████████| 901/901 [00:23<00:00, 38.60it/s]\n",
      "Training Epoch 654: 100%|██████████| 901/901 [00:23<00:00, 38.63it/s]\n",
      "Training Epoch 655: 100%|██████████| 901/901 [00:23<00:00, 38.64it/s]\n",
      "Training Epoch 656: 100%|██████████| 901/901 [00:23<00:00, 38.59it/s]\n",
      "Training Epoch 657: 100%|██████████| 901/901 [00:23<00:00, 37.73it/s]\n",
      "Training Epoch 658: 100%|██████████| 901/901 [00:23<00:00, 38.13it/s]\n",
      "Training Epoch 659: 100%|██████████| 901/901 [00:23<00:00, 38.38it/s]\n",
      "Training Epoch 660: 100%|██████████| 901/901 [00:23<00:00, 38.35it/s]\n",
      "Training Epoch 661: 100%|██████████| 901/901 [00:23<00:00, 38.42it/s]\n"
     ]
    },
    {
     "name": "stdout",
     "output_type": "stream",
     "text": [
      "Epoch 660 - Train Loss: 0.1763, Train MSE: 0.1763, Train MAE: 0.3129\n",
      "Epoch 660 - Validation Loss: 0.7220, Validation MSE: 0.7220, Validation MAE: 0.6278\n"
     ]
    },
    {
     "name": "stderr",
     "output_type": "stream",
     "text": [
      "Training Epoch 662: 100%|██████████| 901/901 [00:24<00:00, 37.49it/s]\n",
      "Training Epoch 663: 100%|██████████| 901/901 [00:23<00:00, 38.15it/s]\n",
      "Training Epoch 664: 100%|██████████| 901/901 [00:24<00:00, 37.19it/s]\n",
      "Training Epoch 665: 100%|██████████| 901/901 [00:53<00:00, 16.83it/s]\n",
      "Training Epoch 666: 100%|██████████| 901/901 [00:24<00:00, 37.48it/s]\n",
      "Training Epoch 667: 100%|██████████| 901/901 [00:23<00:00, 37.85it/s]\n",
      "Training Epoch 668: 100%|██████████| 901/901 [00:26<00:00, 34.65it/s]\n",
      "Training Epoch 669: 100%|██████████| 901/901 [00:23<00:00, 37.61it/s]\n",
      "Training Epoch 670: 100%|██████████| 901/901 [00:24<00:00, 36.91it/s]\n",
      "Training Epoch 671: 100%|██████████| 901/901 [00:24<00:00, 37.00it/s]\n"
     ]
    },
    {
     "name": "stdout",
     "output_type": "stream",
     "text": [
      "Epoch 670 - Train Loss: 0.1747, Train MSE: 0.1747, Train MAE: 0.3124\n",
      "Epoch 670 - Validation Loss: 0.7348, Validation MSE: 0.7348, Validation MAE: 0.6370\n"
     ]
    },
    {
     "name": "stderr",
     "output_type": "stream",
     "text": [
      "Training Epoch 672: 100%|██████████| 901/901 [00:24<00:00, 37.05it/s]\n",
      "Training Epoch 673: 100%|██████████| 901/901 [00:23<00:00, 37.73it/s]\n",
      "Training Epoch 674: 100%|██████████| 901/901 [00:24<00:00, 37.22it/s]\n",
      "Training Epoch 675: 100%|██████████| 901/901 [00:23<00:00, 37.87it/s]\n",
      "Training Epoch 676: 100%|██████████| 901/901 [00:24<00:00, 37.53it/s]\n",
      "Training Epoch 677: 100%|██████████| 901/901 [00:23<00:00, 37.66it/s]\n",
      "Training Epoch 678: 100%|██████████| 901/901 [00:24<00:00, 36.69it/s]\n",
      "Training Epoch 679: 100%|██████████| 901/901 [00:24<00:00, 37.17it/s]\n",
      "Training Epoch 680: 100%|██████████| 901/901 [00:24<00:00, 37.34it/s]\n",
      "Training Epoch 681: 100%|██████████| 901/901 [00:24<00:00, 37.10it/s]\n"
     ]
    },
    {
     "name": "stdout",
     "output_type": "stream",
     "text": [
      "Epoch 680 - Train Loss: 0.1744, Train MSE: 0.1744, Train MAE: 0.3124\n",
      "Epoch 680 - Validation Loss: 0.7261, Validation MSE: 0.7261, Validation MAE: 0.6322\n"
     ]
    },
    {
     "name": "stderr",
     "output_type": "stream",
     "text": [
      "Training Epoch 682: 100%|██████████| 901/901 [00:24<00:00, 36.80it/s]\n",
      "Training Epoch 683: 100%|██████████| 901/901 [00:24<00:00, 36.13it/s]\n",
      "Training Epoch 684: 100%|██████████| 901/901 [00:24<00:00, 37.22it/s]\n",
      "Training Epoch 685: 100%|██████████| 901/901 [00:24<00:00, 37.04it/s]\n",
      "Training Epoch 686: 100%|██████████| 901/901 [00:24<00:00, 36.76it/s]\n",
      "Training Epoch 687: 100%|██████████| 901/901 [00:24<00:00, 36.97it/s]\n",
      "Training Epoch 688: 100%|██████████| 901/901 [00:25<00:00, 35.69it/s]\n",
      "Training Epoch 689: 100%|██████████| 901/901 [00:26<00:00, 34.33it/s]\n",
      "Training Epoch 690: 100%|██████████| 901/901 [00:26<00:00, 33.68it/s]\n",
      "Training Epoch 691: 100%|██████████| 901/901 [00:26<00:00, 33.65it/s]\n"
     ]
    },
    {
     "name": "stdout",
     "output_type": "stream",
     "text": [
      "Epoch 690 - Train Loss: 0.1723, Train MSE: 0.1724, Train MAE: 0.3096\n",
      "Epoch 690 - Validation Loss: 0.7231, Validation MSE: 0.7231, Validation MAE: 0.6291\n"
     ]
    },
    {
     "name": "stderr",
     "output_type": "stream",
     "text": [
      "Training Epoch 692: 100%|██████████| 901/901 [00:27<00:00, 33.14it/s]\n",
      "Training Epoch 693: 100%|██████████| 901/901 [00:26<00:00, 34.21it/s]\n",
      "Training Epoch 694: 100%|██████████| 901/901 [00:26<00:00, 33.60it/s]\n",
      "Training Epoch 695: 100%|██████████| 901/901 [00:26<00:00, 33.61it/s]\n",
      "Training Epoch 696: 100%|██████████| 901/901 [00:29<00:00, 30.87it/s]\n",
      "Training Epoch 697: 100%|██████████| 901/901 [00:29<00:00, 30.24it/s]\n",
      "Training Epoch 698: 100%|██████████| 901/901 [00:29<00:00, 30.99it/s]\n",
      "Training Epoch 699: 100%|██████████| 901/901 [00:31<00:00, 28.44it/s]\n",
      "Training Epoch 700: 100%|██████████| 901/901 [00:32<00:00, 27.37it/s]\n",
      "Training Epoch 701: 100%|██████████| 901/901 [00:37<00:00, 23.90it/s]\n"
     ]
    },
    {
     "name": "stdout",
     "output_type": "stream",
     "text": [
      "Epoch 700 - Train Loss: 0.1733, Train MSE: 0.1734, Train MAE: 0.3103\n",
      "Epoch 700 - Validation Loss: 0.7319, Validation MSE: 0.7319, Validation MAE: 0.6312\n"
     ]
    },
    {
     "name": "stderr",
     "output_type": "stream",
     "text": [
      "Training Epoch 702: 100%|██████████| 901/901 [00:31<00:00, 28.79it/s]\n",
      "Training Epoch 703: 100%|██████████| 901/901 [00:31<00:00, 28.90it/s]\n",
      "Training Epoch 704: 100%|██████████| 901/901 [00:31<00:00, 28.90it/s]\n",
      "Training Epoch 705: 100%|██████████| 901/901 [00:31<00:00, 28.99it/s]\n",
      "Training Epoch 706: 100%|██████████| 901/901 [00:30<00:00, 29.17it/s]\n",
      "Training Epoch 707: 100%|██████████| 901/901 [00:30<00:00, 29.07it/s]\n",
      "Training Epoch 708: 100%|██████████| 901/901 [00:31<00:00, 28.94it/s]\n",
      "Training Epoch 709: 100%|██████████| 901/901 [00:30<00:00, 29.47it/s]\n",
      "Training Epoch 710: 100%|██████████| 901/901 [00:29<00:00, 30.12it/s]\n",
      "Training Epoch 711: 100%|██████████| 901/901 [00:28<00:00, 31.41it/s]\n"
     ]
    },
    {
     "name": "stdout",
     "output_type": "stream",
     "text": [
      "Epoch 710 - Train Loss: 0.1698, Train MSE: 0.1698, Train MAE: 0.3063\n",
      "Epoch 710 - Validation Loss: 0.7223, Validation MSE: 0.7223, Validation MAE: 0.6283\n"
     ]
    },
    {
     "name": "stderr",
     "output_type": "stream",
     "text": [
      "Training Epoch 712: 100%|██████████| 901/901 [00:28<00:00, 31.49it/s]\n",
      "Training Epoch 713: 100%|██████████| 901/901 [00:28<00:00, 31.38it/s]\n",
      "Training Epoch 714: 100%|██████████| 901/901 [00:28<00:00, 31.30it/s]\n",
      "Training Epoch 715: 100%|██████████| 901/901 [00:28<00:00, 31.49it/s]\n",
      "Training Epoch 716: 100%|██████████| 901/901 [00:28<00:00, 31.46it/s]\n",
      "Training Epoch 717: 100%|██████████| 901/901 [00:28<00:00, 31.36it/s]\n",
      "Training Epoch 718: 100%|██████████| 901/901 [00:28<00:00, 31.45it/s]\n",
      "Training Epoch 719: 100%|██████████| 901/901 [00:28<00:00, 31.46it/s]\n",
      "Training Epoch 720: 100%|██████████| 901/901 [00:28<00:00, 31.33it/s]\n",
      "Training Epoch 721: 100%|██████████| 901/901 [00:29<00:00, 30.91it/s]\n"
     ]
    },
    {
     "name": "stdout",
     "output_type": "stream",
     "text": [
      "Epoch 720 - Train Loss: 0.1732, Train MSE: 0.1733, Train MAE: 0.3091\n",
      "Epoch 720 - Validation Loss: 0.7185, Validation MSE: 0.7185, Validation MAE: 0.6270\n"
     ]
    },
    {
     "name": "stderr",
     "output_type": "stream",
     "text": [
      "Training Epoch 722: 100%|██████████| 901/901 [00:28<00:00, 31.37it/s]\n",
      "Training Epoch 723: 100%|██████████| 901/901 [00:28<00:00, 31.46it/s]\n",
      "Training Epoch 724: 100%|██████████| 901/901 [00:28<00:00, 32.15it/s]\n",
      "Training Epoch 725: 100%|██████████| 901/901 [00:27<00:00, 32.57it/s]\n",
      "Training Epoch 726: 100%|██████████| 901/901 [00:27<00:00, 32.58it/s]\n",
      "Training Epoch 727: 100%|██████████| 901/901 [00:27<00:00, 32.60it/s]\n",
      "Training Epoch 728: 100%|██████████| 901/901 [00:27<00:00, 32.50it/s]\n",
      "Training Epoch 729: 100%|██████████| 901/901 [00:27<00:00, 32.41it/s]\n",
      "Training Epoch 730: 100%|██████████| 901/901 [00:27<00:00, 32.47it/s]\n",
      "Training Epoch 731: 100%|██████████| 901/901 [00:27<00:00, 32.81it/s]\n"
     ]
    },
    {
     "name": "stdout",
     "output_type": "stream",
     "text": [
      "Epoch 730 - Train Loss: 0.1707, Train MSE: 0.1707, Train MAE: 0.3090\n",
      "Epoch 730 - Validation Loss: 0.7216, Validation MSE: 0.7216, Validation MAE: 0.6297\n"
     ]
    },
    {
     "name": "stderr",
     "output_type": "stream",
     "text": [
      "Training Epoch 732: 100%|██████████| 901/901 [00:27<00:00, 32.85it/s]\n",
      "Training Epoch 733: 100%|██████████| 901/901 [00:27<00:00, 32.69it/s]\n",
      "Training Epoch 734: 100%|██████████| 901/901 [00:27<00:00, 32.60it/s]\n",
      "Training Epoch 735: 100%|██████████| 901/901 [00:27<00:00, 32.45it/s]\n",
      "Training Epoch 736: 100%|██████████| 901/901 [00:27<00:00, 32.52it/s]\n",
      "Training Epoch 737: 100%|██████████| 901/901 [00:27<00:00, 32.47it/s]\n",
      "Training Epoch 738: 100%|██████████| 901/901 [00:27<00:00, 32.50it/s]\n",
      "Training Epoch 739: 100%|██████████| 901/901 [00:27<00:00, 32.42it/s]\n",
      "Training Epoch 740: 100%|██████████| 901/901 [00:27<00:00, 32.53it/s]\n",
      "Training Epoch 741: 100%|██████████| 901/901 [00:27<00:00, 32.58it/s]\n"
     ]
    },
    {
     "name": "stdout",
     "output_type": "stream",
     "text": [
      "Epoch 740 - Train Loss: 0.1684, Train MSE: 0.1683, Train MAE: 0.3059\n",
      "Epoch 740 - Validation Loss: 0.7315, Validation MSE: 0.7315, Validation MAE: 0.6326\n"
     ]
    },
    {
     "name": "stderr",
     "output_type": "stream",
     "text": [
      "Training Epoch 742: 100%|██████████| 901/901 [00:27<00:00, 32.72it/s]\n",
      "Training Epoch 743: 100%|██████████| 901/901 [00:27<00:00, 32.63it/s]\n",
      "Training Epoch 744: 100%|██████████| 901/901 [00:27<00:00, 32.57it/s]\n",
      "Training Epoch 745: 100%|██████████| 901/901 [00:27<00:00, 32.55it/s]\n",
      "Training Epoch 746: 100%|██████████| 901/901 [00:27<00:00, 32.58it/s]\n",
      "Training Epoch 747: 100%|██████████| 901/901 [00:27<00:00, 32.34it/s]\n",
      "Training Epoch 748: 100%|██████████| 901/901 [00:29<00:00, 31.05it/s]\n",
      "Training Epoch 749: 100%|██████████| 901/901 [00:28<00:00, 32.04it/s]\n",
      "Training Epoch 750: 100%|██████████| 901/901 [00:27<00:00, 32.22it/s]\n",
      "Training Epoch 751: 100%|██████████| 901/901 [00:27<00:00, 32.56it/s]\n"
     ]
    },
    {
     "name": "stdout",
     "output_type": "stream",
     "text": [
      "Epoch 750 - Train Loss: 0.1699, Train MSE: 0.1699, Train MAE: 0.3058\n",
      "Epoch 750 - Validation Loss: 0.7158, Validation MSE: 0.7158, Validation MAE: 0.6266\n"
     ]
    },
    {
     "name": "stderr",
     "output_type": "stream",
     "text": [
      "Training Epoch 752: 100%|██████████| 901/901 [00:27<00:00, 32.45it/s]\n",
      "Training Epoch 753: 100%|██████████| 901/901 [00:27<00:00, 32.74it/s]\n",
      "Training Epoch 754: 100%|██████████| 901/901 [00:28<00:00, 31.88it/s]\n",
      "Training Epoch 755: 100%|██████████| 901/901 [00:27<00:00, 32.51it/s]\n",
      "Training Epoch 756: 100%|██████████| 901/901 [00:27<00:00, 32.59it/s]\n",
      "Training Epoch 757: 100%|██████████| 901/901 [00:27<00:00, 32.54it/s]\n",
      "Training Epoch 758: 100%|██████████| 901/901 [00:27<00:00, 32.58it/s]\n",
      "Training Epoch 759: 100%|██████████| 901/901 [00:28<00:00, 31.91it/s]\n",
      "Training Epoch 760: 100%|██████████| 901/901 [00:28<00:00, 31.90it/s]\n",
      "Training Epoch 761: 100%|██████████| 901/901 [00:27<00:00, 32.51it/s]\n"
     ]
    },
    {
     "name": "stdout",
     "output_type": "stream",
     "text": [
      "Epoch 760 - Train Loss: 0.1674, Train MSE: 0.1674, Train MAE: 0.3044\n",
      "Epoch 760 - Validation Loss: 0.7373, Validation MSE: 0.7373, Validation MAE: 0.6377\n"
     ]
    },
    {
     "name": "stderr",
     "output_type": "stream",
     "text": [
      "Training Epoch 762: 100%|██████████| 901/901 [00:27<00:00, 32.63it/s]\n",
      "Training Epoch 763: 100%|██████████| 901/901 [00:27<00:00, 32.49it/s]\n",
      "Training Epoch 764: 100%|██████████| 901/901 [00:27<00:00, 32.58it/s]\n",
      "Training Epoch 765: 100%|██████████| 901/901 [00:28<00:00, 31.54it/s]\n",
      "Training Epoch 766: 100%|██████████| 901/901 [00:27<00:00, 32.34it/s]\n",
      "Training Epoch 767: 100%|██████████| 901/901 [00:27<00:00, 32.35it/s]\n",
      "Training Epoch 768: 100%|██████████| 901/901 [00:28<00:00, 32.06it/s]\n",
      "Training Epoch 769: 100%|██████████| 901/901 [00:27<00:00, 32.32it/s]\n",
      "Training Epoch 770: 100%|██████████| 901/901 [00:27<00:00, 32.46it/s]\n",
      "Training Epoch 771: 100%|██████████| 901/901 [00:27<00:00, 32.47it/s]\n"
     ]
    },
    {
     "name": "stdout",
     "output_type": "stream",
     "text": [
      "Epoch 770 - Train Loss: 0.1686, Train MSE: 0.1687, Train MAE: 0.3051\n",
      "Epoch 770 - Validation Loss: 0.7295, Validation MSE: 0.7295, Validation MAE: 0.6308\n"
     ]
    },
    {
     "name": "stderr",
     "output_type": "stream",
     "text": [
      "Training Epoch 772: 100%|██████████| 901/901 [00:27<00:00, 32.35it/s]\n",
      "Training Epoch 773: 100%|██████████| 901/901 [00:27<00:00, 32.23it/s]\n",
      "Training Epoch 774: 100%|██████████| 901/901 [00:28<00:00, 32.01it/s]\n",
      "Training Epoch 775: 100%|██████████| 901/901 [00:28<00:00, 32.14it/s]\n",
      "Training Epoch 776: 100%|██████████| 901/901 [00:27<00:00, 32.29it/s]\n",
      "Training Epoch 777: 100%|██████████| 901/901 [00:27<00:00, 32.43it/s]\n",
      "Training Epoch 778: 100%|██████████| 901/901 [00:27<00:00, 32.40it/s]\n",
      "Training Epoch 779: 100%|██████████| 901/901 [00:27<00:00, 32.32it/s]\n",
      "Training Epoch 780: 100%|██████████| 901/901 [00:28<00:00, 32.14it/s]\n",
      "Training Epoch 781: 100%|██████████| 901/901 [00:27<00:00, 32.55it/s]\n"
     ]
    },
    {
     "name": "stdout",
     "output_type": "stream",
     "text": [
      "Epoch 780 - Train Loss: 0.1662, Train MSE: 0.1661, Train MAE: 0.3034\n",
      "Epoch 780 - Validation Loss: 0.7237, Validation MSE: 0.7237, Validation MAE: 0.6288\n"
     ]
    },
    {
     "name": "stderr",
     "output_type": "stream",
     "text": [
      "Training Epoch 782: 100%|██████████| 901/901 [00:27<00:00, 32.43it/s]\n",
      "Training Epoch 783: 100%|██████████| 901/901 [00:27<00:00, 32.68it/s]\n",
      "Training Epoch 784: 100%|██████████| 901/901 [00:27<00:00, 32.50it/s]\n",
      "Training Epoch 785: 100%|██████████| 901/901 [00:27<00:00, 32.46it/s]\n",
      "Training Epoch 786: 100%|██████████| 901/901 [00:27<00:00, 32.46it/s]\n",
      "Training Epoch 787: 100%|██████████| 901/901 [00:27<00:00, 32.68it/s]\n",
      "Training Epoch 788: 100%|██████████| 901/901 [00:27<00:00, 32.67it/s]\n",
      "Training Epoch 789: 100%|██████████| 901/901 [00:27<00:00, 32.60it/s]\n",
      "Training Epoch 790: 100%|██████████| 901/901 [00:27<00:00, 32.72it/s]\n",
      "Training Epoch 791: 100%|██████████| 901/901 [00:27<00:00, 32.59it/s]\n"
     ]
    },
    {
     "name": "stdout",
     "output_type": "stream",
     "text": [
      "Epoch 790 - Train Loss: 0.1645, Train MSE: 0.1646, Train MAE: 0.3018\n",
      "Epoch 790 - Validation Loss: 0.7182, Validation MSE: 0.7182, Validation MAE: 0.6275\n"
     ]
    },
    {
     "name": "stderr",
     "output_type": "stream",
     "text": [
      "Training Epoch 792: 100%|██████████| 901/901 [00:27<00:00, 32.38it/s]\n",
      "Training Epoch 793: 100%|██████████| 901/901 [00:27<00:00, 32.36it/s]\n",
      "Training Epoch 794: 100%|██████████| 901/901 [00:27<00:00, 32.48it/s]\n",
      "Training Epoch 795: 100%|██████████| 901/901 [00:27<00:00, 32.30it/s]\n",
      "Training Epoch 796: 100%|██████████| 901/901 [00:27<00:00, 32.53it/s]\n",
      "Training Epoch 797: 100%|██████████| 901/901 [00:27<00:00, 32.56it/s]\n",
      "Training Epoch 798: 100%|██████████| 901/901 [00:27<00:00, 32.49it/s]\n",
      "Training Epoch 799: 100%|██████████| 901/901 [00:27<00:00, 32.86it/s]\n",
      "Training Epoch 800: 100%|██████████| 901/901 [00:27<00:00, 32.54it/s]\n",
      "Training Epoch 801: 100%|██████████| 901/901 [00:27<00:00, 32.55it/s]\n"
     ]
    },
    {
     "name": "stdout",
     "output_type": "stream",
     "text": [
      "Epoch 800 - Train Loss: 0.1624, Train MSE: 0.1625, Train MAE: 0.3011\n",
      "Epoch 800 - Validation Loss: 0.7273, Validation MSE: 0.7273, Validation MAE: 0.6307\n"
     ]
    },
    {
     "name": "stderr",
     "output_type": "stream",
     "text": [
      "Training Epoch 802: 100%|██████████| 901/901 [00:27<00:00, 32.46it/s]\n",
      "Training Epoch 803: 100%|██████████| 901/901 [00:27<00:00, 32.40it/s]\n",
      "Training Epoch 804: 100%|██████████| 901/901 [00:27<00:00, 32.77it/s]\n",
      "Training Epoch 805: 100%|██████████| 901/901 [00:27<00:00, 32.64it/s]\n",
      "Training Epoch 806: 100%|██████████| 901/901 [00:27<00:00, 32.46it/s]\n",
      "Training Epoch 807: 100%|██████████| 901/901 [00:27<00:00, 32.56it/s]\n",
      "Training Epoch 808: 100%|██████████| 901/901 [00:27<00:00, 32.31it/s]\n",
      "Training Epoch 809: 100%|██████████| 901/901 [00:27<00:00, 32.43it/s]\n",
      "Training Epoch 810: 100%|██████████| 901/901 [00:27<00:00, 32.25it/s]\n",
      "Training Epoch 811: 100%|██████████| 901/901 [00:27<00:00, 32.43it/s]\n"
     ]
    },
    {
     "name": "stdout",
     "output_type": "stream",
     "text": [
      "Epoch 810 - Train Loss: 0.1675, Train MSE: 0.1675, Train MAE: 0.3051\n",
      "Epoch 810 - Validation Loss: 0.7216, Validation MSE: 0.7216, Validation MAE: 0.6268\n"
     ]
    },
    {
     "name": "stderr",
     "output_type": "stream",
     "text": [
      "Training Epoch 812: 100%|██████████| 901/901 [00:27<00:00, 32.40it/s]\n",
      "Training Epoch 813: 100%|██████████| 901/901 [00:27<00:00, 32.27it/s]\n",
      "Training Epoch 814: 100%|██████████| 901/901 [00:27<00:00, 32.37it/s]\n",
      "Training Epoch 815: 100%|██████████| 901/901 [00:27<00:00, 32.23it/s]\n",
      "Training Epoch 816: 100%|██████████| 901/901 [00:27<00:00, 32.31it/s]\n",
      "Training Epoch 817: 100%|██████████| 901/901 [00:27<00:00, 32.37it/s]\n",
      "Training Epoch 818: 100%|██████████| 901/901 [00:28<00:00, 32.05it/s]\n",
      "Training Epoch 819: 100%|██████████| 901/901 [00:27<00:00, 32.54it/s]\n",
      "Training Epoch 820: 100%|██████████| 901/901 [00:27<00:00, 32.38it/s]\n",
      "Training Epoch 821: 100%|██████████| 901/901 [00:27<00:00, 32.39it/s]\n"
     ]
    },
    {
     "name": "stdout",
     "output_type": "stream",
     "text": [
      "Epoch 820 - Train Loss: 0.1629, Train MSE: 0.1629, Train MAE: 0.3015\n",
      "Epoch 820 - Validation Loss: 0.7238, Validation MSE: 0.7238, Validation MAE: 0.6296\n"
     ]
    },
    {
     "name": "stderr",
     "output_type": "stream",
     "text": [
      "Training Epoch 822: 100%|██████████| 901/901 [00:27<00:00, 32.19it/s]\n",
      "Training Epoch 823: 100%|██████████| 901/901 [00:27<00:00, 32.35it/s]\n",
      "Training Epoch 824: 100%|██████████| 901/901 [00:28<00:00, 32.11it/s]\n",
      "Training Epoch 825: 100%|██████████| 901/901 [00:27<00:00, 32.42it/s]\n",
      "Training Epoch 826: 100%|██████████| 901/901 [00:27<00:00, 32.27it/s]\n",
      "Training Epoch 827: 100%|██████████| 901/901 [00:27<00:00, 32.62it/s]\n",
      "Training Epoch 828: 100%|██████████| 901/901 [00:27<00:00, 32.45it/s]\n",
      "Training Epoch 829: 100%|██████████| 901/901 [00:27<00:00, 32.45it/s]\n",
      "Training Epoch 830: 100%|██████████| 901/901 [00:27<00:00, 32.66it/s]\n",
      "Training Epoch 831: 100%|██████████| 901/901 [00:27<00:00, 32.77it/s]\n"
     ]
    },
    {
     "name": "stdout",
     "output_type": "stream",
     "text": [
      "Epoch 830 - Train Loss: 0.1631, Train MSE: 0.1630, Train MAE: 0.3012\n",
      "Epoch 830 - Validation Loss: 0.7261, Validation MSE: 0.7261, Validation MAE: 0.6276\n"
     ]
    },
    {
     "name": "stderr",
     "output_type": "stream",
     "text": [
      "Training Epoch 832: 100%|██████████| 901/901 [00:27<00:00, 32.71it/s]\n",
      "Training Epoch 833: 100%|██████████| 901/901 [00:27<00:00, 32.34it/s]\n",
      "Training Epoch 834: 100%|██████████| 901/901 [00:34<00:00, 26.24it/s]\n",
      "Training Epoch 835: 100%|██████████| 901/901 [00:27<00:00, 32.87it/s]\n",
      "Training Epoch 836: 100%|██████████| 901/901 [00:31<00:00, 28.61it/s]\n",
      "Training Epoch 837: 100%|██████████| 901/901 [00:34<00:00, 26.14it/s]\n",
      "Training Epoch 838: 100%|██████████| 901/901 [00:40<00:00, 22.44it/s]\n",
      "Training Epoch 839: 100%|██████████| 901/901 [00:27<00:00, 32.73it/s]\n",
      "Training Epoch 840: 100%|██████████| 901/901 [00:45<00:00, 19.83it/s]\n",
      "Training Epoch 841: 100%|██████████| 901/901 [00:44<00:00, 20.14it/s]\n"
     ]
    },
    {
     "name": "stdout",
     "output_type": "stream",
     "text": [
      "Epoch 840 - Train Loss: 0.1651, Train MSE: 0.1651, Train MAE: 0.3021\n",
      "Epoch 840 - Validation Loss: 0.7307, Validation MSE: 0.7307, Validation MAE: 0.6315\n"
     ]
    },
    {
     "name": "stderr",
     "output_type": "stream",
     "text": [
      "Training Epoch 842: 100%|██████████| 901/901 [00:27<00:00, 32.87it/s]\n",
      "Training Epoch 843: 100%|██████████| 901/901 [00:31<00:00, 28.46it/s]\n",
      "Training Epoch 844: 100%|██████████| 901/901 [00:44<00:00, 20.16it/s]\n",
      "Training Epoch 845: 100%|██████████| 901/901 [00:40<00:00, 22.08it/s]\n",
      "Training Epoch 846: 100%|██████████| 901/901 [00:27<00:00, 32.86it/s]\n",
      "Training Epoch 847: 100%|██████████| 901/901 [00:45<00:00, 19.84it/s]\n",
      "Training Epoch 848: 100%|██████████| 901/901 [00:44<00:00, 20.22it/s]\n",
      "Training Epoch 849: 100%|██████████| 901/901 [00:41<00:00, 21.74it/s]\n",
      "Training Epoch 850: 100%|██████████| 901/901 [00:31<00:00, 28.70it/s]\n",
      "Training Epoch 851: 100%|██████████| 901/901 [00:44<00:00, 20.21it/s]\n"
     ]
    },
    {
     "name": "stdout",
     "output_type": "stream",
     "text": [
      "Epoch 850 - Train Loss: 0.1635, Train MSE: 0.1636, Train MAE: 0.3003\n",
      "Epoch 850 - Validation Loss: 0.7232, Validation MSE: 0.7232, Validation MAE: 0.6282\n"
     ]
    },
    {
     "name": "stderr",
     "output_type": "stream",
     "text": [
      "Training Epoch 852: 100%|██████████| 901/901 [00:44<00:00, 20.16it/s]\n",
      "Training Epoch 853: 100%|██████████| 901/901 [00:27<00:00, 32.85it/s]\n",
      "Training Epoch 854: 100%|██████████| 901/901 [00:31<00:00, 28.52it/s]\n",
      "Training Epoch 855: 100%|██████████| 901/901 [17:08<00:00,  1.14s/it]    \n",
      "Training Epoch 856: 100%|██████████| 901/901 [00:35<00:00, 25.05it/s]\n",
      "Training Epoch 857: 100%|██████████| 901/901 [00:36<00:00, 24.99it/s]\n",
      "Training Epoch 858: 100%|██████████| 901/901 [00:33<00:00, 26.86it/s]\n",
      "Training Epoch 859: 100%|██████████| 901/901 [00:47<00:00, 18.97it/s]\n",
      "Training Epoch 860: 100%|██████████| 901/901 [00:46<00:00, 19.33it/s]\n",
      "Training Epoch 861: 100%|██████████| 901/901 [04:40<00:00,  3.21it/s]  \n"
     ]
    },
    {
     "name": "stdout",
     "output_type": "stream",
     "text": [
      "Epoch 860 - Train Loss: 0.1632, Train MSE: 0.1632, Train MAE: 0.3000\n",
      "Epoch 860 - Validation Loss: 0.7190, Validation MSE: 0.7190, Validation MAE: 0.6264\n"
     ]
    },
    {
     "name": "stderr",
     "output_type": "stream",
     "text": [
      "Training Epoch 862: 100%|██████████| 901/901 [00:27<00:00, 32.63it/s]\n",
      "Training Epoch 863: 100%|██████████| 901/901 [00:27<00:00, 32.41it/s]\n",
      "Training Epoch 864: 100%|██████████| 901/901 [00:27<00:00, 32.32it/s]\n",
      "Training Epoch 865: 100%|██████████| 901/901 [00:27<00:00, 32.59it/s]\n",
      "Training Epoch 866: 100%|██████████| 901/901 [00:27<00:00, 32.48it/s]\n",
      "Training Epoch 867: 100%|██████████| 901/901 [00:27<00:00, 32.50it/s]\n",
      "Training Epoch 868: 100%|██████████| 901/901 [00:27<00:00, 32.35it/s]\n",
      "Training Epoch 869: 100%|██████████| 901/901 [00:27<00:00, 32.46it/s]\n",
      "Training Epoch 870: 100%|██████████| 901/901 [00:27<00:00, 32.37it/s]\n",
      "Training Epoch 871: 100%|██████████| 901/901 [00:28<00:00, 31.63it/s]\n"
     ]
    },
    {
     "name": "stdout",
     "output_type": "stream",
     "text": [
      "Epoch 870 - Train Loss: 0.1586, Train MSE: 0.1587, Train MAE: 0.2956\n",
      "Epoch 870 - Validation Loss: 0.7293, Validation MSE: 0.7293, Validation MAE: 0.6317\n"
     ]
    },
    {
     "name": "stderr",
     "output_type": "stream",
     "text": [
      "Training Epoch 872: 100%|██████████| 901/901 [00:27<00:00, 32.50it/s]\n",
      "Training Epoch 873: 100%|██████████| 901/901 [00:27<00:00, 32.73it/s]\n",
      "Training Epoch 874: 100%|██████████| 901/901 [00:27<00:00, 32.21it/s]\n",
      "Training Epoch 875: 100%|██████████| 901/901 [00:27<00:00, 32.70it/s]\n",
      "Training Epoch 876: 100%|██████████| 901/901 [00:28<00:00, 31.97it/s]\n",
      "Training Epoch 877: 100%|██████████| 901/901 [00:27<00:00, 32.33it/s]\n",
      "Training Epoch 878: 100%|██████████| 901/901 [00:28<00:00, 31.66it/s]\n",
      "Training Epoch 879: 100%|██████████| 901/901 [00:27<00:00, 32.29it/s]\n",
      "Training Epoch 880: 100%|██████████| 901/901 [00:28<00:00, 31.93it/s]\n",
      "Training Epoch 881: 100%|██████████| 901/901 [00:27<00:00, 32.30it/s]\n"
     ]
    },
    {
     "name": "stdout",
     "output_type": "stream",
     "text": [
      "Epoch 880 - Train Loss: 0.1633, Train MSE: 0.1633, Train MAE: 0.2990\n",
      "Epoch 880 - Validation Loss: 0.7288, Validation MSE: 0.7288, Validation MAE: 0.6349\n"
     ]
    },
    {
     "name": "stderr",
     "output_type": "stream",
     "text": [
      "Training Epoch 882: 100%|██████████| 901/901 [00:28<00:00, 32.16it/s]\n",
      "Training Epoch 883: 100%|██████████| 901/901 [00:27<00:00, 32.31it/s]\n",
      "Training Epoch 884: 100%|██████████| 901/901 [00:27<00:00, 32.46it/s]\n",
      "Training Epoch 885: 100%|██████████| 901/901 [00:27<00:00, 32.37it/s]\n",
      "Training Epoch 886: 100%|██████████| 901/901 [00:27<00:00, 32.42it/s]\n",
      "Training Epoch 887: 100%|██████████| 901/901 [00:27<00:00, 32.31it/s]\n",
      "Training Epoch 888: 100%|██████████| 901/901 [00:27<00:00, 32.31it/s]\n",
      "Training Epoch 889: 100%|██████████| 901/901 [00:27<00:00, 32.66it/s]\n",
      "Training Epoch 890: 100%|██████████| 901/901 [00:27<00:00, 32.49it/s]\n",
      "Training Epoch 891: 100%|██████████| 901/901 [00:27<00:00, 32.52it/s]\n"
     ]
    },
    {
     "name": "stdout",
     "output_type": "stream",
     "text": [
      "Epoch 890 - Train Loss: 0.1604, Train MSE: 0.1604, Train MAE: 0.2982\n",
      "Epoch 890 - Validation Loss: 0.7237, Validation MSE: 0.7237, Validation MAE: 0.6291\n"
     ]
    },
    {
     "name": "stderr",
     "output_type": "stream",
     "text": [
      "Training Epoch 892: 100%|██████████| 901/901 [00:27<00:00, 32.50it/s]\n",
      "Training Epoch 893: 100%|██████████| 901/901 [00:27<00:00, 32.31it/s]\n",
      "Training Epoch 894: 100%|██████████| 901/901 [00:27<00:00, 32.58it/s]\n",
      "Training Epoch 895: 100%|██████████| 901/901 [00:27<00:00, 32.20it/s]\n",
      "Training Epoch 896: 100%|██████████| 901/901 [00:27<00:00, 32.65it/s]\n",
      "Training Epoch 897: 100%|██████████| 901/901 [00:27<00:00, 32.42it/s]\n",
      "Training Epoch 898: 100%|██████████| 901/901 [00:27<00:00, 32.55it/s]\n",
      "Training Epoch 899: 100%|██████████| 901/901 [00:27<00:00, 32.55it/s]\n",
      "Training Epoch 900: 100%|██████████| 901/901 [00:27<00:00, 32.65it/s]\n",
      "Training Epoch 901: 100%|██████████| 901/901 [00:27<00:00, 32.44it/s]\n"
     ]
    },
    {
     "name": "stdout",
     "output_type": "stream",
     "text": [
      "Epoch 900 - Train Loss: 0.1586, Train MSE: 0.1586, Train MAE: 0.2944\n",
      "Epoch 900 - Validation Loss: 0.7259, Validation MSE: 0.7259, Validation MAE: 0.6294\n"
     ]
    },
    {
     "name": "stderr",
     "output_type": "stream",
     "text": [
      "Training Epoch 902: 100%|██████████| 901/901 [00:27<00:00, 32.69it/s]\n",
      "Training Epoch 903: 100%|██████████| 901/901 [00:28<00:00, 31.09it/s]\n",
      "Training Epoch 904: 100%|██████████| 901/901 [00:27<00:00, 32.51it/s]\n",
      "Training Epoch 905: 100%|██████████| 901/901 [00:27<00:00, 32.69it/s]\n",
      "Training Epoch 906: 100%|██████████| 901/901 [00:27<00:00, 32.69it/s]\n",
      "Training Epoch 907: 100%|██████████| 901/901 [00:27<00:00, 32.74it/s]\n",
      "Training Epoch 908: 100%|██████████| 901/901 [00:27<00:00, 32.62it/s]\n",
      "Training Epoch 909: 100%|██████████| 901/901 [00:27<00:00, 32.58it/s]\n",
      "Training Epoch 910: 100%|██████████| 901/901 [00:27<00:00, 32.50it/s]\n",
      "Training Epoch 911: 100%|██████████| 901/901 [00:27<00:00, 32.59it/s]\n"
     ]
    },
    {
     "name": "stdout",
     "output_type": "stream",
     "text": [
      "Epoch 910 - Train Loss: 0.1640, Train MSE: 0.1640, Train MAE: 0.2994\n",
      "Epoch 910 - Validation Loss: 0.7238, Validation MSE: 0.7238, Validation MAE: 0.6286\n"
     ]
    },
    {
     "name": "stderr",
     "output_type": "stream",
     "text": [
      "Training Epoch 912: 100%|██████████| 901/901 [00:27<00:00, 32.54it/s]\n",
      "Training Epoch 913: 100%|██████████| 901/901 [00:27<00:00, 32.48it/s]\n",
      "Training Epoch 914: 100%|██████████| 901/901 [00:27<00:00, 32.35it/s]\n",
      "Training Epoch 915: 100%|██████████| 901/901 [00:27<00:00, 32.49it/s]\n",
      "Training Epoch 916: 100%|██████████| 901/901 [00:28<00:00, 31.86it/s]\n",
      "Training Epoch 917: 100%|██████████| 901/901 [00:27<00:00, 32.32it/s]\n",
      "Training Epoch 918: 100%|██████████| 901/901 [00:27<00:00, 32.33it/s]\n",
      "Training Epoch 919: 100%|██████████| 901/901 [00:28<00:00, 31.88it/s]\n",
      "Training Epoch 920: 100%|██████████| 901/901 [00:28<00:00, 32.12it/s]\n",
      "Training Epoch 921: 100%|██████████| 901/901 [00:27<00:00, 32.48it/s]\n"
     ]
    },
    {
     "name": "stdout",
     "output_type": "stream",
     "text": [
      "Epoch 920 - Train Loss: 0.1576, Train MSE: 0.1577, Train MAE: 0.2948\n",
      "Epoch 920 - Validation Loss: 0.7227, Validation MSE: 0.7227, Validation MAE: 0.6256\n"
     ]
    },
    {
     "name": "stderr",
     "output_type": "stream",
     "text": [
      "Training Epoch 922: 100%|██████████| 901/901 [00:27<00:00, 32.30it/s]\n",
      "Training Epoch 923: 100%|██████████| 901/901 [00:27<00:00, 32.97it/s]\n",
      "Training Epoch 924: 100%|██████████| 901/901 [00:27<00:00, 32.75it/s]\n",
      "Training Epoch 925: 100%|██████████| 901/901 [00:27<00:00, 32.57it/s]\n",
      "Training Epoch 926: 100%|██████████| 901/901 [00:27<00:00, 32.24it/s]\n",
      "Training Epoch 927: 100%|██████████| 901/901 [00:27<00:00, 32.35it/s]\n",
      "Training Epoch 928: 100%|██████████| 901/901 [00:28<00:00, 32.11it/s]\n",
      "Training Epoch 929: 100%|██████████| 901/901 [00:27<00:00, 32.60it/s]\n",
      "Training Epoch 930: 100%|██████████| 901/901 [00:27<00:00, 32.73it/s]\n",
      "Training Epoch 931: 100%|██████████| 901/901 [00:27<00:00, 32.36it/s]\n"
     ]
    },
    {
     "name": "stdout",
     "output_type": "stream",
     "text": [
      "Epoch 930 - Train Loss: 0.1587, Train MSE: 0.1587, Train MAE: 0.2951\n",
      "Epoch 930 - Validation Loss: 0.7323, Validation MSE: 0.7323, Validation MAE: 0.6317\n"
     ]
    },
    {
     "name": "stderr",
     "output_type": "stream",
     "text": [
      "Training Epoch 932: 100%|██████████| 901/901 [00:27<00:00, 32.22it/s]\n",
      "Training Epoch 933: 100%|██████████| 901/901 [00:28<00:00, 32.13it/s]\n",
      "Training Epoch 934: 100%|██████████| 901/901 [00:27<00:00, 32.56it/s]\n",
      "Training Epoch 935: 100%|██████████| 901/901 [00:27<00:00, 32.29it/s]\n",
      "Training Epoch 936: 100%|██████████| 901/901 [00:27<00:00, 32.27it/s]\n",
      "Training Epoch 937: 100%|██████████| 901/901 [00:27<00:00, 32.72it/s]\n",
      "Training Epoch 938: 100%|██████████| 901/901 [00:27<00:00, 32.89it/s]\n",
      "Training Epoch 939: 100%|██████████| 901/901 [00:27<00:00, 32.87it/s]\n",
      "Training Epoch 940: 100%|██████████| 901/901 [00:27<00:00, 32.96it/s]\n",
      "Training Epoch 941: 100%|██████████| 901/901 [00:27<00:00, 32.84it/s]\n"
     ]
    },
    {
     "name": "stdout",
     "output_type": "stream",
     "text": [
      "Epoch 940 - Train Loss: 0.1562, Train MSE: 0.1562, Train MAE: 0.2929\n",
      "Epoch 940 - Validation Loss: 0.7340, Validation MSE: 0.7340, Validation MAE: 0.6312\n"
     ]
    },
    {
     "name": "stderr",
     "output_type": "stream",
     "text": [
      "Training Epoch 942: 100%|██████████| 901/901 [00:27<00:00, 32.73it/s]\n",
      "Training Epoch 943: 100%|██████████| 901/901 [00:27<00:00, 32.87it/s]\n",
      "Training Epoch 944: 100%|██████████| 901/901 [00:27<00:00, 32.91it/s]\n",
      "Training Epoch 945: 100%|██████████| 901/901 [00:27<00:00, 32.61it/s]\n",
      "Training Epoch 946: 100%|██████████| 901/901 [00:27<00:00, 32.96it/s]\n",
      "Training Epoch 947: 100%|██████████| 901/901 [00:27<00:00, 32.91it/s]\n",
      "Training Epoch 948: 100%|██████████| 901/901 [00:27<00:00, 32.87it/s]\n",
      "Training Epoch 949: 100%|██████████| 901/901 [00:27<00:00, 32.94it/s]\n",
      "Training Epoch 950: 100%|██████████| 901/901 [00:26<00:00, 33.48it/s]\n",
      "Training Epoch 951: 100%|██████████| 901/901 [00:27<00:00, 32.89it/s]\n"
     ]
    },
    {
     "name": "stdout",
     "output_type": "stream",
     "text": [
      "Epoch 950 - Train Loss: 0.1576, Train MSE: 0.1576, Train MAE: 0.2955\n",
      "Epoch 950 - Validation Loss: 0.7351, Validation MSE: 0.7351, Validation MAE: 0.6319\n"
     ]
    },
    {
     "name": "stderr",
     "output_type": "stream",
     "text": [
      "Training Epoch 952: 100%|██████████| 901/901 [00:27<00:00, 33.06it/s]\n",
      "Training Epoch 953: 100%|██████████| 901/901 [00:27<00:00, 32.86it/s]\n",
      "Training Epoch 954: 100%|██████████| 901/901 [00:27<00:00, 33.10it/s]\n",
      "Training Epoch 955: 100%|██████████| 901/901 [00:27<00:00, 32.50it/s]\n",
      "Training Epoch 956: 100%|██████████| 901/901 [00:27<00:00, 32.97it/s]\n",
      "Training Epoch 957: 100%|██████████| 901/901 [00:27<00:00, 32.99it/s]\n",
      "Training Epoch 958: 100%|██████████| 901/901 [00:27<00:00, 32.97it/s]\n",
      "Training Epoch 959: 100%|██████████| 901/901 [00:27<00:00, 32.92it/s]\n",
      "Training Epoch 960: 100%|██████████| 901/901 [00:27<00:00, 32.53it/s]\n",
      "Training Epoch 961: 100%|██████████| 901/901 [00:27<00:00, 32.76it/s]\n"
     ]
    },
    {
     "name": "stdout",
     "output_type": "stream",
     "text": [
      "Epoch 960 - Train Loss: 0.1567, Train MSE: 0.1567, Train MAE: 0.2940\n",
      "Epoch 960 - Validation Loss: 0.7263, Validation MSE: 0.7263, Validation MAE: 0.6296\n"
     ]
    },
    {
     "name": "stderr",
     "output_type": "stream",
     "text": [
      "Training Epoch 962: 100%|██████████| 901/901 [00:27<00:00, 33.02it/s]\n",
      "Training Epoch 963: 100%|██████████| 901/901 [00:27<00:00, 32.88it/s]\n",
      "Training Epoch 964: 100%|██████████| 901/901 [00:27<00:00, 33.08it/s]\n",
      "Training Epoch 965: 100%|██████████| 901/901 [00:27<00:00, 32.89it/s]\n",
      "Training Epoch 966: 100%|██████████| 901/901 [00:27<00:00, 32.78it/s]\n",
      "Training Epoch 967: 100%|██████████| 901/901 [00:27<00:00, 32.98it/s]\n",
      "Training Epoch 968: 100%|██████████| 901/901 [00:27<00:00, 32.60it/s]\n",
      "Training Epoch 969: 100%|██████████| 901/901 [00:28<00:00, 32.18it/s]\n",
      "Training Epoch 970: 100%|██████████| 901/901 [00:27<00:00, 32.64it/s]\n",
      "Training Epoch 971: 100%|██████████| 901/901 [00:27<00:00, 32.90it/s]\n"
     ]
    },
    {
     "name": "stdout",
     "output_type": "stream",
     "text": [
      "Epoch 970 - Train Loss: 0.1581, Train MSE: 0.1581, Train MAE: 0.2949\n",
      "Epoch 970 - Validation Loss: 0.7394, Validation MSE: 0.7394, Validation MAE: 0.6335\n"
     ]
    },
    {
     "name": "stderr",
     "output_type": "stream",
     "text": [
      "Training Epoch 972: 100%|██████████| 901/901 [00:27<00:00, 32.38it/s]\n",
      "Training Epoch 973: 100%|██████████| 901/901 [00:27<00:00, 32.49it/s]\n",
      "Training Epoch 974: 100%|██████████| 901/901 [00:36<00:00, 24.65it/s]\n",
      "Training Epoch 975: 100%|██████████| 901/901 [16:52<00:00,  1.12s/it]  \n",
      "Training Epoch 976: 100%|██████████| 901/901 [00:32<00:00, 27.42it/s]\n",
      "Training Epoch 977: 100%|██████████| 901/901 [1:04:28<00:00,  4.29s/it]  \n",
      "Training Epoch 978: 100%|██████████| 901/901 [1:30:10<00:00,  6.00s/it]   \n",
      "Training Epoch 979: 100%|██████████| 901/901 [1:00:30<00:00,  4.03s/it]  \n",
      "Training Epoch 980: 100%|██████████| 901/901 [1:34:45<00:00,  6.31s/it]   \n",
      "Training Epoch 981: 100%|██████████| 901/901 [1:37:33<00:00,  6.50s/it]   \n"
     ]
    },
    {
     "name": "stdout",
     "output_type": "stream",
     "text": [
      "Epoch 980 - Train Loss: 0.1570, Train MSE: 0.1569, Train MAE: 0.2938\n",
      "Epoch 980 - Validation Loss: 0.7304, Validation MSE: 0.7304, Validation MAE: 0.6317\n"
     ]
    },
    {
     "name": "stderr",
     "output_type": "stream",
     "text": [
      "Training Epoch 982: 100%|██████████| 901/901 [1:36:44<00:00,  6.44s/it]   \n",
      "Training Epoch 983: 100%|██████████| 901/901 [1:09:30<00:00,  4.63s/it]  \n",
      "Training Epoch 984: 100%|██████████| 901/901 [01:10<00:00, 12.79it/s]\n",
      "Training Epoch 985: 100%|██████████| 901/901 [00:28<00:00, 32.09it/s]\n",
      "Training Epoch 986: 100%|██████████| 901/901 [00:27<00:00, 32.86it/s]\n",
      "Training Epoch 987: 100%|██████████| 901/901 [00:27<00:00, 32.73it/s]\n",
      "Training Epoch 988: 100%|██████████| 901/901 [00:27<00:00, 32.94it/s]\n",
      "Training Epoch 989: 100%|██████████| 901/901 [00:27<00:00, 32.62it/s]\n",
      "Training Epoch 990: 100%|██████████| 901/901 [00:27<00:00, 32.37it/s]\n",
      "Training Epoch 991: 100%|██████████| 901/901 [00:28<00:00, 31.35it/s]\n"
     ]
    },
    {
     "name": "stdout",
     "output_type": "stream",
     "text": [
      "Epoch 990 - Train Loss: 0.1561, Train MSE: 0.1561, Train MAE: 0.2924\n",
      "Epoch 990 - Validation Loss: 0.7224, Validation MSE: 0.7224, Validation MAE: 0.6276\n"
     ]
    },
    {
     "name": "stderr",
     "output_type": "stream",
     "text": [
      "Training Epoch 992: 100%|██████████| 901/901 [00:28<00:00, 31.65it/s]\n",
      "Training Epoch 993: 100%|██████████| 901/901 [00:28<00:00, 31.69it/s]\n",
      "Training Epoch 994: 100%|██████████| 901/901 [00:28<00:00, 31.62it/s]\n",
      "Training Epoch 995: 100%|██████████| 901/901 [00:28<00:00, 31.60it/s]\n",
      "Training Epoch 996: 100%|██████████| 901/901 [25:40<00:00,  1.71s/it]  \n",
      "Training Epoch 997: 100%|██████████| 901/901 [00:28<00:00, 32.05it/s]\n",
      "Training Epoch 998: 100%|██████████| 901/901 [00:28<00:00, 32.15it/s]\n",
      "Training Epoch 999: 100%|██████████| 901/901 [00:28<00:00, 32.03it/s]\n",
      "Training Epoch 1000: 100%|██████████| 901/901 [00:28<00:00, 32.06it/s]\n",
      "Training Epoch 1001: 100%|██████████| 901/901 [00:28<00:00, 31.77it/s]\n"
     ]
    },
    {
     "name": "stdout",
     "output_type": "stream",
     "text": [
      "Epoch 1000 - Train Loss: 0.1541, Train MSE: 0.1541, Train MAE: 0.2905\n",
      "Epoch 1000 - Validation Loss: 0.7286, Validation MSE: 0.7286, Validation MAE: 0.6297\n"
     ]
    },
    {
     "name": "stderr",
     "output_type": "stream",
     "text": [
      "Training Epoch 1002: 100%|██████████| 901/901 [00:27<00:00, 32.58it/s]\n",
      "Training Epoch 1003: 100%|██████████| 901/901 [00:27<00:00, 32.70it/s]\n",
      "Training Epoch 1004: 100%|██████████| 901/901 [00:27<00:00, 32.44it/s]\n",
      "Training Epoch 1005: 100%|██████████| 901/901 [00:27<00:00, 32.54it/s]\n",
      "Training Epoch 1006: 100%|██████████| 901/901 [00:27<00:00, 32.64it/s]\n",
      "Training Epoch 1007: 100%|██████████| 901/901 [00:27<00:00, 32.53it/s]\n",
      "Training Epoch 1008: 100%|██████████| 901/901 [00:27<00:00, 32.45it/s]\n",
      "Training Epoch 1009: 100%|██████████| 901/901 [00:27<00:00, 32.55it/s]\n",
      "Training Epoch 1010: 100%|██████████| 901/901 [00:27<00:00, 32.46it/s]\n",
      "Training Epoch 1011: 100%|██████████| 901/901 [00:27<00:00, 32.63it/s]\n"
     ]
    },
    {
     "name": "stdout",
     "output_type": "stream",
     "text": [
      "Epoch 1010 - Train Loss: 0.1560, Train MSE: 0.1560, Train MAE: 0.2923\n",
      "Epoch 1010 - Validation Loss: 0.7259, Validation MSE: 0.7259, Validation MAE: 0.6283\n"
     ]
    },
    {
     "name": "stderr",
     "output_type": "stream",
     "text": [
      "Training Epoch 1012: 100%|██████████| 901/901 [00:27<00:00, 32.55it/s]\n",
      "Training Epoch 1013: 100%|██████████| 901/901 [00:27<00:00, 32.50it/s]\n",
      "Training Epoch 1014: 100%|██████████| 901/901 [00:27<00:00, 32.59it/s]\n",
      "Training Epoch 1015: 100%|██████████| 901/901 [00:27<00:00, 32.50it/s]\n",
      "Training Epoch 1016: 100%|██████████| 901/901 [00:27<00:00, 32.58it/s]\n",
      "Training Epoch 1017: 100%|██████████| 901/901 [00:27<00:00, 32.28it/s]\n",
      "Training Epoch 1018: 100%|██████████| 901/901 [00:27<00:00, 32.38it/s]\n",
      "Training Epoch 1019: 100%|██████████| 901/901 [00:28<00:00, 31.59it/s]\n",
      "Training Epoch 1020: 100%|██████████| 901/901 [00:28<00:00, 32.05it/s]\n",
      "Training Epoch 1021: 100%|██████████| 901/901 [00:28<00:00, 32.00it/s]\n"
     ]
    },
    {
     "name": "stdout",
     "output_type": "stream",
     "text": [
      "Epoch 1020 - Train Loss: 0.1548, Train MSE: 0.1548, Train MAE: 0.2915\n",
      "Epoch 1020 - Validation Loss: 0.7174, Validation MSE: 0.7174, Validation MAE: 0.6265\n"
     ]
    },
    {
     "name": "stderr",
     "output_type": "stream",
     "text": [
      "Training Epoch 1022: 100%|██████████| 901/901 [00:28<00:00, 32.03it/s]\n",
      "Training Epoch 1023: 100%|██████████| 901/901 [00:28<00:00, 32.08it/s]\n",
      "Training Epoch 1024: 100%|██████████| 901/901 [01:39<00:00,  9.08it/s]\n",
      "Training Epoch 1025: 100%|██████████| 901/901 [00:28<00:00, 31.67it/s]\n",
      "Training Epoch 1026: 100%|██████████| 901/901 [00:27<00:00, 32.27it/s]\n",
      "Training Epoch 1027: 100%|██████████| 901/901 [00:28<00:00, 31.80it/s]\n",
      "Training Epoch 1028: 100%|██████████| 901/901 [00:27<00:00, 32.31it/s]\n",
      "Training Epoch 1029: 100%|██████████| 901/901 [00:27<00:00, 32.48it/s]\n",
      "Training Epoch 1030: 100%|██████████| 901/901 [00:27<00:00, 32.60it/s]\n",
      "Training Epoch 1031: 100%|██████████| 901/901 [00:28<00:00, 31.46it/s]\n"
     ]
    },
    {
     "name": "stdout",
     "output_type": "stream",
     "text": [
      "Epoch 1030 - Train Loss: 0.1533, Train MSE: 0.1533, Train MAE: 0.2902\n",
      "Epoch 1030 - Validation Loss: 0.7342, Validation MSE: 0.7342, Validation MAE: 0.6303\n"
     ]
    },
    {
     "name": "stderr",
     "output_type": "stream",
     "text": [
      "Training Epoch 1032: 100%|██████████| 901/901 [00:28<00:00, 32.17it/s]\n",
      "Training Epoch 1033: 100%|██████████| 901/901 [00:28<00:00, 31.79it/s]\n",
      "Training Epoch 1034: 100%|██████████| 901/901 [00:28<00:00, 31.26it/s]\n",
      "Training Epoch 1035: 100%|██████████| 901/901 [00:28<00:00, 31.12it/s]\n",
      "Training Epoch 1036: 100%|██████████| 901/901 [00:28<00:00, 31.96it/s]\n",
      "Training Epoch 1037: 100%|██████████| 901/901 [00:28<00:00, 31.89it/s]\n",
      "Training Epoch 1038: 100%|██████████| 901/901 [00:28<00:00, 31.77it/s]\n",
      "Training Epoch 1039: 100%|██████████| 901/901 [00:28<00:00, 32.05it/s]\n",
      "Training Epoch 1040: 100%|██████████| 901/901 [00:28<00:00, 31.23it/s]\n",
      "Training Epoch 1041: 100%|██████████| 901/901 [00:28<00:00, 31.75it/s]\n"
     ]
    },
    {
     "name": "stdout",
     "output_type": "stream",
     "text": [
      "Epoch 1040 - Train Loss: 0.1519, Train MSE: 0.1519, Train MAE: 0.2881\n",
      "Epoch 1040 - Validation Loss: 0.7318, Validation MSE: 0.7318, Validation MAE: 0.6318\n"
     ]
    },
    {
     "name": "stderr",
     "output_type": "stream",
     "text": [
      "Training Epoch 1042: 100%|██████████| 901/901 [00:28<00:00, 31.77it/s]\n",
      "Training Epoch 1043: 100%|██████████| 901/901 [00:28<00:00, 31.89it/s]\n",
      "Training Epoch 1044: 100%|██████████| 901/901 [00:28<00:00, 31.84it/s]\n",
      "Training Epoch 1045: 100%|██████████| 901/901 [00:28<00:00, 31.95it/s]\n",
      "Training Epoch 1046: 100%|██████████| 901/901 [00:28<00:00, 32.05it/s]\n",
      "Training Epoch 1047: 100%|██████████| 901/901 [00:28<00:00, 31.97it/s]\n",
      "Training Epoch 1048: 100%|██████████| 901/901 [00:27<00:00, 32.22it/s]\n",
      "Training Epoch 1049: 100%|██████████| 901/901 [00:28<00:00, 32.10it/s]\n",
      "Training Epoch 1050: 100%|██████████| 901/901 [00:28<00:00, 31.96it/s]\n",
      "Training Epoch 1051: 100%|██████████| 901/901 [00:28<00:00, 31.76it/s]\n"
     ]
    },
    {
     "name": "stdout",
     "output_type": "stream",
     "text": [
      "Epoch 1050 - Train Loss: 0.1535, Train MSE: 0.1535, Train MAE: 0.2906\n",
      "Epoch 1050 - Validation Loss: 0.7243, Validation MSE: 0.7243, Validation MAE: 0.6271\n"
     ]
    },
    {
     "name": "stderr",
     "output_type": "stream",
     "text": [
      "Training Epoch 1052: 100%|██████████| 901/901 [00:28<00:00, 31.71it/s]\n",
      "Training Epoch 1053: 100%|██████████| 901/901 [00:27<00:00, 32.36it/s]\n",
      "Training Epoch 1054: 100%|██████████| 901/901 [00:27<00:00, 32.46it/s]\n",
      "Training Epoch 1055: 100%|██████████| 901/901 [00:27<00:00, 32.37it/s]\n",
      "Training Epoch 1056: 100%|██████████| 901/901 [00:28<00:00, 32.18it/s]\n",
      "Training Epoch 1057: 100%|██████████| 901/901 [00:27<00:00, 32.25it/s]\n",
      "Training Epoch 1058: 100%|██████████| 901/901 [00:28<00:00, 31.13it/s]\n",
      "Training Epoch 1059: 100%|██████████| 901/901 [00:29<00:00, 30.90it/s]\n",
      "Training Epoch 1060: 100%|██████████| 901/901 [00:28<00:00, 31.45it/s]\n",
      "Training Epoch 1061: 100%|██████████| 901/901 [00:28<00:00, 31.70it/s]\n"
     ]
    },
    {
     "name": "stdout",
     "output_type": "stream",
     "text": [
      "Epoch 1060 - Train Loss: 0.1514, Train MSE: 0.1514, Train MAE: 0.2886\n",
      "Epoch 1060 - Validation Loss: 0.7224, Validation MSE: 0.7224, Validation MAE: 0.6297\n"
     ]
    },
    {
     "name": "stderr",
     "output_type": "stream",
     "text": [
      "Training Epoch 1062: 100%|██████████| 901/901 [00:28<00:00, 31.75it/s]\n",
      "Training Epoch 1063: 100%|██████████| 901/901 [00:28<00:00, 31.71it/s]\n",
      "Training Epoch 1064: 100%|██████████| 901/901 [00:28<00:00, 31.52it/s]\n",
      "Training Epoch 1065: 100%|██████████| 901/901 [00:28<00:00, 31.23it/s]\n",
      "Training Epoch 1066: 100%|██████████| 901/901 [00:28<00:00, 31.85it/s]\n",
      "Training Epoch 1067: 100%|██████████| 901/901 [00:28<00:00, 31.63it/s]\n",
      "Training Epoch 1068: 100%|██████████| 901/901 [00:28<00:00, 31.26it/s]\n",
      "Training Epoch 1069: 100%|██████████| 901/901 [34:37<00:00,  2.31s/it]   \n",
      "Training Epoch 1070: 100%|██████████| 901/901 [00:27<00:00, 32.20it/s]\n",
      "Training Epoch 1071: 100%|██████████| 901/901 [00:27<00:00, 32.33it/s]\n"
     ]
    },
    {
     "name": "stdout",
     "output_type": "stream",
     "text": [
      "Epoch 1070 - Train Loss: 0.1523, Train MSE: 0.1523, Train MAE: 0.2877\n",
      "Epoch 1070 - Validation Loss: 0.7232, Validation MSE: 0.7232, Validation MAE: 0.6280\n"
     ]
    },
    {
     "name": "stderr",
     "output_type": "stream",
     "text": [
      "Training Epoch 1072: 100%|██████████| 901/901 [00:27<00:00, 32.55it/s]\n",
      "Training Epoch 1073: 100%|██████████| 901/901 [00:27<00:00, 32.47it/s]\n",
      "Training Epoch 1074: 100%|██████████| 901/901 [00:27<00:00, 32.48it/s]\n",
      "Training Epoch 1075: 100%|██████████| 901/901 [00:27<00:00, 32.58it/s]\n",
      "Training Epoch 1076: 100%|██████████| 901/901 [00:27<00:00, 32.26it/s]\n",
      "Training Epoch 1077: 100%|██████████| 901/901 [00:28<00:00, 31.71it/s]\n",
      "Training Epoch 1078: 100%|██████████| 901/901 [00:27<00:00, 32.29it/s]\n",
      "Training Epoch 1079: 100%|██████████| 901/901 [00:27<00:00, 32.51it/s]\n",
      "Training Epoch 1080: 100%|██████████| 901/901 [00:27<00:00, 32.68it/s]\n",
      "Training Epoch 1081: 100%|██████████| 901/901 [00:27<00:00, 32.49it/s]\n"
     ]
    },
    {
     "name": "stdout",
     "output_type": "stream",
     "text": [
      "Epoch 1080 - Train Loss: 0.1514, Train MSE: 0.1514, Train MAE: 0.2880\n",
      "Epoch 1080 - Validation Loss: 0.7266, Validation MSE: 0.7266, Validation MAE: 0.6293\n"
     ]
    },
    {
     "name": "stderr",
     "output_type": "stream",
     "text": [
      "Training Epoch 1082: 100%|██████████| 901/901 [00:28<00:00, 32.03it/s]\n",
      "Training Epoch 1083: 100%|██████████| 901/901 [00:27<00:00, 32.51it/s]\n",
      "Training Epoch 1084: 100%|██████████| 901/901 [00:27<00:00, 32.33it/s]\n",
      "Training Epoch 1085: 100%|██████████| 901/901 [00:27<00:00, 32.55it/s]\n",
      "Training Epoch 1086: 100%|██████████| 901/901 [00:27<00:00, 32.29it/s]\n",
      "Training Epoch 1087: 100%|██████████| 901/901 [00:27<00:00, 32.60it/s]\n",
      "Training Epoch 1088: 100%|██████████| 901/901 [00:27<00:00, 32.43it/s]\n",
      "Training Epoch 1089: 100%|██████████| 901/901 [00:27<00:00, 32.20it/s]\n",
      "Training Epoch 1090: 100%|██████████| 901/901 [00:27<00:00, 32.37it/s]\n",
      "Training Epoch 1091: 100%|██████████| 901/901 [00:27<00:00, 32.24it/s]\n"
     ]
    },
    {
     "name": "stdout",
     "output_type": "stream",
     "text": [
      "Epoch 1090 - Train Loss: 0.1507, Train MSE: 0.1507, Train MAE: 0.2876\n",
      "Epoch 1090 - Validation Loss: 0.7217, Validation MSE: 0.7217, Validation MAE: 0.6282\n"
     ]
    },
    {
     "name": "stderr",
     "output_type": "stream",
     "text": [
      "Training Epoch 1092: 100%|██████████| 901/901 [00:27<00:00, 32.54it/s]\n",
      "Training Epoch 1093: 100%|██████████| 901/901 [00:27<00:00, 32.35it/s]\n",
      "Training Epoch 1094: 100%|██████████| 901/901 [00:27<00:00, 32.52it/s]\n",
      "Training Epoch 1095: 100%|██████████| 901/901 [00:28<00:00, 31.28it/s]\n",
      "Training Epoch 1096: 100%|██████████| 901/901 [00:27<00:00, 32.43it/s]\n",
      "Training Epoch 1097: 100%|██████████| 901/901 [00:28<00:00, 32.16it/s]\n",
      "Training Epoch 1098: 100%|██████████| 901/901 [00:27<00:00, 32.66it/s]\n",
      "Training Epoch 1099: 100%|██████████| 901/901 [00:27<00:00, 32.37it/s]\n",
      "Training Epoch 1100: 100%|██████████| 901/901 [00:28<00:00, 32.16it/s]\n",
      "Training Epoch 1101: 100%|██████████| 901/901 [00:27<00:00, 32.34it/s]\n"
     ]
    },
    {
     "name": "stdout",
     "output_type": "stream",
     "text": [
      "Epoch 1100 - Train Loss: 0.1547, Train MSE: 0.1547, Train MAE: 0.2898\n",
      "Epoch 1100 - Validation Loss: 0.7306, Validation MSE: 0.7306, Validation MAE: 0.6315\n"
     ]
    },
    {
     "name": "stderr",
     "output_type": "stream",
     "text": [
      "Training Epoch 1102: 100%|██████████| 901/901 [00:27<00:00, 32.73it/s]\n",
      "Training Epoch 1103: 100%|██████████| 901/901 [00:28<00:00, 32.03it/s]\n",
      "Training Epoch 1104: 100%|██████████| 901/901 [00:27<00:00, 32.69it/s]\n",
      "Training Epoch 1105: 100%|██████████| 901/901 [00:27<00:00, 32.68it/s]\n",
      "Training Epoch 1106: 100%|██████████| 901/901 [00:27<00:00, 32.62it/s]\n",
      "Training Epoch 1107: 100%|██████████| 901/901 [00:27<00:00, 32.70it/s]\n",
      "Training Epoch 1108: 100%|██████████| 901/901 [00:27<00:00, 33.06it/s]\n",
      "Training Epoch 1109: 100%|██████████| 901/901 [00:27<00:00, 32.84it/s]\n",
      "Training Epoch 1110: 100%|██████████| 901/901 [00:27<00:00, 32.86it/s]\n",
      "Training Epoch 1111: 100%|██████████| 901/901 [00:27<00:00, 32.87it/s]\n"
     ]
    },
    {
     "name": "stdout",
     "output_type": "stream",
     "text": [
      "Epoch 1110 - Train Loss: 0.1506, Train MSE: 0.1506, Train MAE: 0.2883\n",
      "Epoch 1110 - Validation Loss: 0.7326, Validation MSE: 0.7326, Validation MAE: 0.6340\n"
     ]
    },
    {
     "name": "stderr",
     "output_type": "stream",
     "text": [
      "Training Epoch 1112: 100%|██████████| 901/901 [00:27<00:00, 32.93it/s]\n",
      "Training Epoch 1113: 100%|██████████| 901/901 [00:27<00:00, 32.77it/s]\n",
      "Training Epoch 1114: 100%|██████████| 901/901 [00:27<00:00, 32.95it/s]\n",
      "Training Epoch 1115: 100%|██████████| 901/901 [00:27<00:00, 32.92it/s]\n",
      "Training Epoch 1116: 100%|██████████| 901/901 [00:27<00:00, 32.86it/s]\n",
      "Training Epoch 1117: 100%|██████████| 901/901 [00:27<00:00, 32.94it/s]\n",
      "Training Epoch 1118: 100%|██████████| 901/901 [00:27<00:00, 33.00it/s]\n",
      "Training Epoch 1119: 100%|██████████| 901/901 [00:27<00:00, 32.64it/s]\n",
      "Training Epoch 1120: 100%|██████████| 901/901 [00:27<00:00, 33.07it/s]\n",
      "Training Epoch 1121: 100%|██████████| 901/901 [00:27<00:00, 33.04it/s]\n"
     ]
    },
    {
     "name": "stdout",
     "output_type": "stream",
     "text": [
      "Epoch 1120 - Train Loss: 0.1491, Train MSE: 0.1491, Train MAE: 0.2856\n",
      "Epoch 1120 - Validation Loss: 0.7327, Validation MSE: 0.7327, Validation MAE: 0.6332\n"
     ]
    },
    {
     "name": "stderr",
     "output_type": "stream",
     "text": [
      "Training Epoch 1122: 100%|██████████| 901/901 [00:27<00:00, 33.20it/s]\n",
      "Training Epoch 1123: 100%|██████████| 901/901 [00:27<00:00, 32.97it/s]\n",
      "Training Epoch 1124: 100%|██████████| 901/901 [00:27<00:00, 32.98it/s]\n",
      "Training Epoch 1125: 100%|██████████| 901/901 [00:27<00:00, 33.19it/s]\n",
      "Training Epoch 1126: 100%|██████████| 901/901 [00:27<00:00, 32.75it/s]\n",
      "Training Epoch 1127: 100%|██████████| 901/901 [00:27<00:00, 32.89it/s]\n",
      "Training Epoch 1128: 100%|██████████| 901/901 [00:27<00:00, 32.69it/s]\n",
      "Training Epoch 1129: 100%|██████████| 901/901 [00:27<00:00, 33.03it/s]\n",
      "Training Epoch 1130: 100%|██████████| 901/901 [13:40<00:00,  1.10it/s]   \n",
      "Training Epoch 1131: 100%|██████████| 901/901 [15:41<00:00,  1.05s/it]\n"
     ]
    },
    {
     "name": "stdout",
     "output_type": "stream",
     "text": [
      "Epoch 1130 - Train Loss: 0.1498, Train MSE: 0.1498, Train MAE: 0.2865\n",
      "Epoch 1130 - Validation Loss: 0.7184, Validation MSE: 0.7184, Validation MAE: 0.6259\n"
     ]
    },
    {
     "name": "stderr",
     "output_type": "stream",
     "text": [
      "Training Epoch 1132: 100%|██████████| 901/901 [00:32<00:00, 27.99it/s]\n",
      "Training Epoch 1133: 100%|██████████| 901/901 [00:32<00:00, 27.94it/s]\n",
      "Training Epoch 1134: 100%|██████████| 901/901 [00:32<00:00, 27.93it/s]\n",
      "Training Epoch 1135: 100%|██████████| 901/901 [16:53<00:00,  1.12s/it]   \n",
      "Training Epoch 1136: 100%|██████████| 901/901 [06:03<00:00,  2.48it/s]  \n",
      "Training Epoch 1137: 100%|██████████| 901/901 [00:28<00:00, 31.77it/s]\n",
      "Training Epoch 1138: 100%|██████████| 901/901 [00:27<00:00, 32.40it/s]\n",
      "Training Epoch 1139: 100%|██████████| 901/901 [00:47<00:00, 19.02it/s]\n",
      "Training Epoch 1140: 100%|██████████| 901/901 [00:27<00:00, 32.95it/s]\n",
      "Training Epoch 1141: 100%|██████████| 901/901 [00:27<00:00, 32.59it/s]\n"
     ]
    },
    {
     "name": "stdout",
     "output_type": "stream",
     "text": [
      "Epoch 1140 - Train Loss: 0.1501, Train MSE: 0.1501, Train MAE: 0.2858\n",
      "Epoch 1140 - Validation Loss: 0.7182, Validation MSE: 0.7182, Validation MAE: 0.6274\n"
     ]
    },
    {
     "name": "stderr",
     "output_type": "stream",
     "text": [
      "Training Epoch 1142: 100%|██████████| 901/901 [00:27<00:00, 32.45it/s]\n",
      "Training Epoch 1143: 100%|██████████| 901/901 [00:27<00:00, 32.74it/s]\n",
      "Training Epoch 1144: 100%|██████████| 901/901 [00:27<00:00, 32.37it/s]\n",
      "Training Epoch 1145: 100%|██████████| 901/901 [00:27<00:00, 32.67it/s]\n",
      "Training Epoch 1146: 100%|██████████| 901/901 [00:27<00:00, 32.65it/s]\n",
      "Training Epoch 1147: 100%|██████████| 901/901 [00:27<00:00, 32.44it/s]\n",
      "Training Epoch 1148: 100%|██████████| 901/901 [00:27<00:00, 32.71it/s]\n",
      "Training Epoch 1149: 100%|██████████| 901/901 [00:27<00:00, 33.30it/s]\n",
      "Training Epoch 1150: 100%|██████████| 901/901 [00:27<00:00, 32.61it/s]\n",
      "Training Epoch 1151: 100%|██████████| 901/901 [00:27<00:00, 32.89it/s]\n"
     ]
    },
    {
     "name": "stdout",
     "output_type": "stream",
     "text": [
      "Epoch 1150 - Train Loss: 0.1506, Train MSE: 0.1506, Train MAE: 0.2882\n",
      "Epoch 1150 - Validation Loss: 0.7223, Validation MSE: 0.7223, Validation MAE: 0.6262\n"
     ]
    },
    {
     "name": "stderr",
     "output_type": "stream",
     "text": [
      "Training Epoch 1152: 100%|██████████| 901/901 [00:27<00:00, 32.82it/s]\n",
      "Training Epoch 1153: 100%|██████████| 901/901 [00:27<00:00, 32.86it/s]\n",
      "Training Epoch 1154: 100%|██████████| 901/901 [00:27<00:00, 32.80it/s]\n",
      "Training Epoch 1155: 100%|██████████| 901/901 [00:27<00:00, 33.03it/s]\n",
      "Training Epoch 1156: 100%|██████████| 901/901 [00:27<00:00, 32.57it/s]\n",
      "Training Epoch 1157: 100%|██████████| 901/901 [00:27<00:00, 32.77it/s]\n",
      "Training Epoch 1158: 100%|██████████| 901/901 [00:29<00:00, 30.86it/s]\n",
      "Training Epoch 1159: 100%|██████████| 901/901 [00:27<00:00, 32.84it/s]\n",
      "Training Epoch 1160: 100%|██████████| 901/901 [00:27<00:00, 32.56it/s]\n",
      "Training Epoch 1161: 100%|██████████| 901/901 [00:27<00:00, 33.06it/s]\n"
     ]
    },
    {
     "name": "stdout",
     "output_type": "stream",
     "text": [
      "Epoch 1160 - Train Loss: 0.1493, Train MSE: 0.1493, Train MAE: 0.2856\n",
      "Epoch 1160 - Validation Loss: 0.7305, Validation MSE: 0.7305, Validation MAE: 0.6331\n"
     ]
    },
    {
     "name": "stderr",
     "output_type": "stream",
     "text": [
      "Training Epoch 1162: 100%|██████████| 901/901 [00:27<00:00, 32.88it/s]\n",
      "Training Epoch 1163: 100%|██████████| 901/901 [00:27<00:00, 32.99it/s]\n",
      "Training Epoch 1164: 100%|██████████| 901/901 [00:26<00:00, 33.91it/s]\n",
      "Training Epoch 1165: 100%|██████████| 901/901 [00:26<00:00, 34.60it/s]\n",
      "Training Epoch 1166: 100%|██████████| 901/901 [00:25<00:00, 34.84it/s]\n",
      "Training Epoch 1167: 100%|██████████| 901/901 [00:26<00:00, 34.40it/s]\n",
      "Training Epoch 1168: 100%|██████████| 901/901 [00:26<00:00, 34.37it/s]\n",
      "Training Epoch 1169: 100%|██████████| 901/901 [00:26<00:00, 34.37it/s]\n",
      "Training Epoch 1170: 100%|██████████| 901/901 [00:26<00:00, 34.54it/s]\n",
      "Training Epoch 1171: 100%|██████████| 901/901 [00:26<00:00, 34.54it/s]\n"
     ]
    },
    {
     "name": "stdout",
     "output_type": "stream",
     "text": [
      "Epoch 1170 - Train Loss: 0.1496, Train MSE: 0.1497, Train MAE: 0.2872\n",
      "Epoch 1170 - Validation Loss: 0.7264, Validation MSE: 0.7264, Validation MAE: 0.6288\n"
     ]
    },
    {
     "name": "stderr",
     "output_type": "stream",
     "text": [
      "Training Epoch 1172: 100%|██████████| 901/901 [00:26<00:00, 34.45it/s]\n",
      "Training Epoch 1173: 100%|██████████| 901/901 [00:26<00:00, 34.47it/s]\n",
      "Training Epoch 1174: 100%|██████████| 901/901 [00:26<00:00, 34.51it/s]\n",
      "Training Epoch 1175: 100%|██████████| 901/901 [00:26<00:00, 34.43it/s]\n",
      "Training Epoch 1176: 100%|██████████| 901/901 [00:26<00:00, 34.58it/s]\n",
      "Training Epoch 1177: 100%|██████████| 901/901 [00:26<00:00, 34.50it/s]\n",
      "Training Epoch 1178: 100%|██████████| 901/901 [00:25<00:00, 34.68it/s]\n",
      "Training Epoch 1179: 100%|██████████| 901/901 [00:26<00:00, 34.58it/s]\n",
      "Training Epoch 1180: 100%|██████████| 901/901 [00:26<00:00, 34.65it/s]\n",
      "Training Epoch 1181: 100%|██████████| 901/901 [00:26<00:00, 34.53it/s]\n"
     ]
    },
    {
     "name": "stdout",
     "output_type": "stream",
     "text": [
      "Epoch 1180 - Train Loss: 0.1516, Train MSE: 0.1516, Train MAE: 0.2859\n",
      "Epoch 1180 - Validation Loss: 0.7332, Validation MSE: 0.7332, Validation MAE: 0.6325\n"
     ]
    },
    {
     "name": "stderr",
     "output_type": "stream",
     "text": [
      "Training Epoch 1182: 100%|██████████| 901/901 [00:26<00:00, 34.28it/s]\n",
      "Training Epoch 1183: 100%|██████████| 901/901 [00:26<00:00, 34.42it/s]\n",
      "Training Epoch 1184: 100%|██████████| 901/901 [00:26<00:00, 34.54it/s]\n",
      "Training Epoch 1185: 100%|██████████| 901/901 [00:26<00:00, 34.61it/s]\n",
      "Training Epoch 1186: 100%|██████████| 901/901 [00:26<00:00, 34.50it/s]\n",
      "Training Epoch 1187: 100%|██████████| 901/901 [00:26<00:00, 34.58it/s]\n",
      "Training Epoch 1188: 100%|██████████| 901/901 [00:25<00:00, 34.65it/s]\n",
      "Training Epoch 1189: 100%|██████████| 901/901 [00:26<00:00, 34.53it/s]\n",
      "Training Epoch 1190: 100%|██████████| 901/901 [00:26<00:00, 34.44it/s]\n",
      "Training Epoch 1191: 100%|██████████| 901/901 [00:26<00:00, 34.58it/s]\n"
     ]
    },
    {
     "name": "stdout",
     "output_type": "stream",
     "text": [
      "Epoch 1190 - Train Loss: 0.1485, Train MSE: 0.1485, Train MAE: 0.2847\n",
      "Epoch 1190 - Validation Loss: 0.7212, Validation MSE: 0.7212, Validation MAE: 0.6262\n"
     ]
    },
    {
     "name": "stderr",
     "output_type": "stream",
     "text": [
      "Training Epoch 1192: 100%|██████████| 901/901 [00:26<00:00, 34.57it/s]\n",
      "Training Epoch 1193: 100%|██████████| 901/901 [00:26<00:00, 34.64it/s]\n",
      "Training Epoch 1194: 100%|██████████| 901/901 [00:26<00:00, 34.64it/s]\n",
      "Training Epoch 1195: 100%|██████████| 901/901 [00:26<00:00, 34.49it/s]\n",
      "Training Epoch 1196: 100%|██████████| 901/901 [00:26<00:00, 34.50it/s]\n",
      "Training Epoch 1197: 100%|██████████| 901/901 [00:25<00:00, 34.68it/s]\n",
      "Training Epoch 1198: 100%|██████████| 901/901 [00:26<00:00, 34.59it/s]\n",
      "Training Epoch 1199: 100%|██████████| 901/901 [00:26<00:00, 34.59it/s]\n",
      "Training Epoch 1200: 100%|██████████| 901/901 [00:26<00:00, 34.47it/s]\n",
      "Training Epoch 1201: 100%|██████████| 901/901 [00:26<00:00, 34.50it/s]\n"
     ]
    },
    {
     "name": "stdout",
     "output_type": "stream",
     "text": [
      "Epoch 1200 - Train Loss: 0.1480, Train MSE: 0.1480, Train MAE: 0.2841\n",
      "Epoch 1200 - Validation Loss: 0.7217, Validation MSE: 0.7217, Validation MAE: 0.6275\n"
     ]
    },
    {
     "name": "stderr",
     "output_type": "stream",
     "text": [
      "Training Epoch 1202: 100%|██████████| 901/901 [00:26<00:00, 34.44it/s]\n",
      "Training Epoch 1203: 100%|██████████| 901/901 [00:26<00:00, 34.62it/s]\n",
      "Training Epoch 1204: 100%|██████████| 901/901 [00:26<00:00, 34.65it/s]\n",
      "Training Epoch 1205: 100%|██████████| 901/901 [00:26<00:00, 34.31it/s]\n",
      "Training Epoch 1206: 100%|██████████| 901/901 [00:26<00:00, 34.60it/s]\n",
      "Training Epoch 1207: 100%|██████████| 901/901 [00:26<00:00, 34.44it/s]\n",
      "Training Epoch 1208: 100%|██████████| 901/901 [00:26<00:00, 34.58it/s]\n",
      "Training Epoch 1209: 100%|██████████| 901/901 [00:26<00:00, 34.50it/s]\n",
      "Training Epoch 1210: 100%|██████████| 901/901 [00:26<00:00, 34.54it/s]\n",
      "Training Epoch 1211: 100%|██████████| 901/901 [00:26<00:00, 34.38it/s]\n"
     ]
    },
    {
     "name": "stdout",
     "output_type": "stream",
     "text": [
      "Epoch 1210 - Train Loss: 0.1459, Train MSE: 0.1459, Train MAE: 0.2815\n",
      "Epoch 1210 - Validation Loss: 0.7234, Validation MSE: 0.7234, Validation MAE: 0.6288\n"
     ]
    },
    {
     "name": "stderr",
     "output_type": "stream",
     "text": [
      "Training Epoch 1212: 100%|██████████| 901/901 [00:26<00:00, 34.45it/s]\n",
      "Training Epoch 1213: 100%|██████████| 901/901 [00:26<00:00, 34.28it/s]\n",
      "Training Epoch 1214: 100%|██████████| 901/901 [00:26<00:00, 34.58it/s]\n",
      "Training Epoch 1215: 100%|██████████| 901/901 [00:26<00:00, 34.52it/s]\n",
      "Training Epoch 1216: 100%|██████████| 901/901 [00:25<00:00, 34.71it/s]\n",
      "Training Epoch 1217: 100%|██████████| 901/901 [00:26<00:00, 34.49it/s]\n",
      "Training Epoch 1218: 100%|██████████| 901/901 [00:26<00:00, 34.52it/s]\n",
      "Training Epoch 1219: 100%|██████████| 901/901 [00:26<00:00, 34.53it/s]\n",
      "Training Epoch 1220: 100%|██████████| 901/901 [00:26<00:00, 34.54it/s]\n",
      "Training Epoch 1221: 100%|██████████| 901/901 [00:26<00:00, 34.46it/s]\n"
     ]
    },
    {
     "name": "stdout",
     "output_type": "stream",
     "text": [
      "Epoch 1220 - Train Loss: 0.1480, Train MSE: 0.1480, Train MAE: 0.2838\n",
      "Epoch 1220 - Validation Loss: 0.7150, Validation MSE: 0.7150, Validation MAE: 0.6241\n"
     ]
    },
    {
     "name": "stderr",
     "output_type": "stream",
     "text": [
      "Training Epoch 1222: 100%|██████████| 901/901 [00:25<00:00, 34.83it/s]\n",
      "Training Epoch 1223: 100%|██████████| 901/901 [00:26<00:00, 34.62it/s]\n",
      "Training Epoch 1224: 100%|██████████| 901/901 [00:25<00:00, 34.92it/s]\n",
      "Training Epoch 1225: 100%|██████████| 901/901 [00:25<00:00, 34.70it/s]\n",
      "Training Epoch 1226: 100%|██████████| 901/901 [00:26<00:00, 34.60it/s]\n",
      "Training Epoch 1227: 100%|██████████| 901/901 [00:25<00:00, 34.66it/s]\n",
      "Training Epoch 1228: 100%|██████████| 901/901 [00:25<00:00, 34.85it/s]\n",
      "Training Epoch 1229: 100%|██████████| 901/901 [00:25<00:00, 34.75it/s]\n",
      "Training Epoch 1230: 100%|██████████| 901/901 [00:26<00:00, 34.49it/s]\n",
      "Training Epoch 1231: 100%|██████████| 901/901 [00:25<00:00, 34.87it/s]\n"
     ]
    },
    {
     "name": "stdout",
     "output_type": "stream",
     "text": [
      "Epoch 1230 - Train Loss: 0.1471, Train MSE: 0.1471, Train MAE: 0.2837\n",
      "Epoch 1230 - Validation Loss: 0.7188, Validation MSE: 0.7188, Validation MAE: 0.6257\n"
     ]
    },
    {
     "name": "stderr",
     "output_type": "stream",
     "text": [
      "Training Epoch 1232: 100%|██████████| 901/901 [00:25<00:00, 35.00it/s]\n",
      "Training Epoch 1233: 100%|██████████| 901/901 [00:25<00:00, 34.72it/s]\n",
      "Training Epoch 1234: 100%|██████████| 901/901 [00:25<00:00, 34.93it/s]\n",
      "Training Epoch 1235: 100%|██████████| 901/901 [00:25<00:00, 34.85it/s]\n",
      "Training Epoch 1236: 100%|██████████| 901/901 [00:25<00:00, 34.72it/s]\n",
      "Training Epoch 1237: 100%|██████████| 901/901 [00:25<00:00, 34.75it/s]\n",
      "Training Epoch 1238: 100%|██████████| 901/901 [00:25<00:00, 34.86it/s]\n",
      "Training Epoch 1239: 100%|██████████| 901/901 [00:25<00:00, 34.88it/s]\n",
      "Training Epoch 1240: 100%|██████████| 901/901 [00:25<00:00, 34.88it/s]\n",
      "Training Epoch 1241: 100%|██████████| 901/901 [00:25<00:00, 34.72it/s]\n"
     ]
    },
    {
     "name": "stdout",
     "output_type": "stream",
     "text": [
      "Epoch 1240 - Train Loss: 0.1435, Train MSE: 0.1435, Train MAE: 0.2801\n",
      "Epoch 1240 - Validation Loss: 0.7313, Validation MSE: 0.7313, Validation MAE: 0.6314\n"
     ]
    },
    {
     "name": "stderr",
     "output_type": "stream",
     "text": [
      "Training Epoch 1242: 100%|██████████| 901/901 [00:25<00:00, 34.99it/s]\n",
      "Training Epoch 1243: 100%|██████████| 901/901 [00:25<00:00, 34.93it/s]\n",
      "Training Epoch 1244: 100%|██████████| 901/901 [00:25<00:00, 34.99it/s]\n",
      "Training Epoch 1245: 100%|██████████| 901/901 [00:25<00:00, 34.76it/s]\n",
      "Training Epoch 1246: 100%|██████████| 901/901 [00:25<00:00, 34.71it/s]\n",
      "Training Epoch 1247: 100%|██████████| 901/901 [00:25<00:00, 34.88it/s]\n",
      "Training Epoch 1248: 100%|██████████| 901/901 [00:25<00:00, 34.78it/s]\n",
      "Training Epoch 1249: 100%|██████████| 901/901 [00:25<00:00, 34.94it/s]\n",
      "Training Epoch 1250: 100%|██████████| 901/901 [04:53<00:00,  3.07it/s]  \n",
      "Training Epoch 1251: 100%|██████████| 901/901 [00:25<00:00, 34.76it/s]\n"
     ]
    },
    {
     "name": "stdout",
     "output_type": "stream",
     "text": [
      "Epoch 1250 - Train Loss: 0.1481, Train MSE: 0.1481, Train MAE: 0.2826\n",
      "Epoch 1250 - Validation Loss: 0.7237, Validation MSE: 0.7237, Validation MAE: 0.6274\n"
     ]
    },
    {
     "name": "stderr",
     "output_type": "stream",
     "text": [
      "Training Epoch 1252: 100%|██████████| 901/901 [00:25<00:00, 34.71it/s]\n",
      "Training Epoch 1253: 100%|██████████| 901/901 [00:25<00:00, 34.85it/s]\n",
      "Training Epoch 1254: 100%|██████████| 901/901 [00:25<00:00, 34.87it/s]\n",
      "Training Epoch 1255: 100%|██████████| 901/901 [00:25<00:00, 34.98it/s]\n",
      "Training Epoch 1256: 100%|██████████| 901/901 [00:25<00:00, 34.89it/s]\n",
      "Training Epoch 1257: 100%|██████████| 901/901 [00:25<00:00, 34.96it/s]\n",
      "Training Epoch 1258: 100%|██████████| 901/901 [00:25<00:00, 34.84it/s]\n",
      "Training Epoch 1259: 100%|██████████| 901/901 [00:25<00:00, 34.76it/s]\n",
      "Training Epoch 1260: 100%|██████████| 901/901 [00:25<00:00, 35.07it/s]\n",
      "Training Epoch 1261: 100%|██████████| 901/901 [00:25<00:00, 34.98it/s]\n"
     ]
    },
    {
     "name": "stdout",
     "output_type": "stream",
     "text": [
      "Epoch 1260 - Train Loss: 0.1479, Train MSE: 0.1479, Train MAE: 0.2819\n",
      "Epoch 1260 - Validation Loss: 0.7395, Validation MSE: 0.7395, Validation MAE: 0.6331\n"
     ]
    },
    {
     "name": "stderr",
     "output_type": "stream",
     "text": [
      "Training Epoch 1262: 100%|██████████| 901/901 [00:25<00:00, 34.76it/s]\n",
      "Training Epoch 1263: 100%|██████████| 901/901 [00:25<00:00, 34.90it/s]\n",
      "Training Epoch 1264: 100%|██████████| 901/901 [00:25<00:00, 34.81it/s]\n",
      "Training Epoch 1265: 100%|██████████| 901/901 [00:25<00:00, 34.93it/s]\n",
      "Training Epoch 1266: 100%|██████████| 901/901 [00:25<00:00, 34.85it/s]\n",
      "Training Epoch 1267: 100%|██████████| 901/901 [00:25<00:00, 34.82it/s]\n",
      "Training Epoch 1268: 100%|██████████| 901/901 [00:25<00:00, 34.89it/s]\n",
      "Training Epoch 1269: 100%|██████████| 901/901 [00:25<00:00, 34.94it/s]\n",
      "Training Epoch 1270: 100%|██████████| 901/901 [00:25<00:00, 35.21it/s]\n",
      "Training Epoch 1271: 100%|██████████| 901/901 [00:25<00:00, 34.99it/s]\n"
     ]
    },
    {
     "name": "stdout",
     "output_type": "stream",
     "text": [
      "Epoch 1270 - Train Loss: 0.1471, Train MSE: 0.1471, Train MAE: 0.2820\n",
      "Epoch 1270 - Validation Loss: 0.7286, Validation MSE: 0.7286, Validation MAE: 0.6304\n"
     ]
    },
    {
     "name": "stderr",
     "output_type": "stream",
     "text": [
      "Training Epoch 1272: 100%|██████████| 901/901 [00:25<00:00, 34.88it/s]\n",
      "Training Epoch 1273: 100%|██████████| 901/901 [00:25<00:00, 34.95it/s]\n",
      "Training Epoch 1274: 100%|██████████| 901/901 [00:25<00:00, 34.83it/s]\n",
      "Training Epoch 1275: 100%|██████████| 901/901 [00:25<00:00, 34.89it/s]\n",
      "Training Epoch 1276: 100%|██████████| 901/901 [00:25<00:00, 34.98it/s]\n",
      "Training Epoch 1277: 100%|██████████| 901/901 [00:25<00:00, 34.92it/s]\n",
      "Training Epoch 1278: 100%|██████████| 901/901 [00:25<00:00, 34.88it/s]\n",
      "Training Epoch 1279: 100%|██████████| 901/901 [00:26<00:00, 34.41it/s]\n",
      "Training Epoch 1280: 100%|██████████| 901/901 [00:25<00:00, 34.87it/s]\n",
      "Training Epoch 1281: 100%|██████████| 901/901 [00:25<00:00, 34.92it/s]\n"
     ]
    },
    {
     "name": "stdout",
     "output_type": "stream",
     "text": [
      "Epoch 1280 - Train Loss: 0.1413, Train MSE: 0.1413, Train MAE: 0.2783\n",
      "Epoch 1280 - Validation Loss: 0.7294, Validation MSE: 0.7294, Validation MAE: 0.6293\n"
     ]
    },
    {
     "name": "stderr",
     "output_type": "stream",
     "text": [
      "Training Epoch 1282: 100%|██████████| 901/901 [00:25<00:00, 34.91it/s]\n",
      "Training Epoch 1283: 100%|██████████| 901/901 [00:25<00:00, 34.82it/s]\n",
      "Training Epoch 1284: 100%|██████████| 901/901 [07:56<00:00,  1.89it/s]  \n",
      "Training Epoch 1285: 100%|██████████| 901/901 [13:41<00:00,  1.10it/s]  \n",
      "Training Epoch 1286: 100%|██████████| 901/901 [00:25<00:00, 34.95it/s]\n",
      "Training Epoch 1287: 100%|██████████| 901/901 [00:26<00:00, 34.41it/s]\n",
      "Training Epoch 1288: 100%|██████████| 901/901 [00:25<00:00, 34.72it/s]\n",
      "Training Epoch 1289: 100%|██████████| 901/901 [00:25<00:00, 34.66it/s]\n",
      "Training Epoch 1290: 100%|██████████| 901/901 [00:25<00:00, 34.82it/s]\n",
      "Training Epoch 1291: 100%|██████████| 901/901 [00:25<00:00, 34.80it/s]\n"
     ]
    },
    {
     "name": "stdout",
     "output_type": "stream",
     "text": [
      "Epoch 1290 - Train Loss: 0.1471, Train MSE: 0.1471, Train MAE: 0.2829\n",
      "Epoch 1290 - Validation Loss: 0.7244, Validation MSE: 0.7244, Validation MAE: 0.6288\n"
     ]
    },
    {
     "name": "stderr",
     "output_type": "stream",
     "text": [
      "Training Epoch 1292: 100%|██████████| 901/901 [00:26<00:00, 34.64it/s]\n",
      "Training Epoch 1293: 100%|██████████| 901/901 [00:26<00:00, 34.46it/s]\n",
      "Training Epoch 1294: 100%|██████████| 901/901 [05:56<00:00,  2.53it/s] \n",
      "Training Epoch 1295: 100%|██████████| 901/901 [00:26<00:00, 34.60it/s]\n",
      "Training Epoch 1296: 100%|██████████| 901/901 [00:26<00:00, 34.12it/s]\n",
      "Training Epoch 1297: 100%|██████████| 901/901 [00:26<00:00, 34.37it/s]\n",
      "Training Epoch 1298: 100%|██████████| 901/901 [00:25<00:00, 34.87it/s]\n",
      "Training Epoch 1299: 100%|██████████| 901/901 [00:26<00:00, 34.45it/s]\n",
      "Training Epoch 1300: 100%|██████████| 901/901 [00:26<00:00, 34.24it/s]\n",
      "Training Epoch 1301: 100%|██████████| 901/901 [00:26<00:00, 34.46it/s]\n"
     ]
    },
    {
     "name": "stdout",
     "output_type": "stream",
     "text": [
      "Epoch 1300 - Train Loss: 0.1469, Train MSE: 0.1469, Train MAE: 0.2823\n",
      "Epoch 1300 - Validation Loss: 0.7259, Validation MSE: 0.7259, Validation MAE: 0.6278\n"
     ]
    },
    {
     "name": "stderr",
     "output_type": "stream",
     "text": [
      "Training Epoch 1302: 100%|██████████| 901/901 [00:26<00:00, 34.43it/s]\n",
      "Training Epoch 1303: 100%|██████████| 901/901 [00:26<00:00, 34.55it/s]\n",
      "Training Epoch 1304: 100%|██████████| 901/901 [00:25<00:00, 34.71it/s]\n",
      "Training Epoch 1305: 100%|██████████| 901/901 [00:26<00:00, 34.48it/s]\n",
      "Training Epoch 1306: 100%|██████████| 901/901 [00:26<00:00, 34.35it/s]\n",
      "Training Epoch 1307: 100%|██████████| 901/901 [00:26<00:00, 34.60it/s]\n",
      "Training Epoch 1308: 100%|██████████| 901/901 [00:25<00:00, 34.75it/s]\n",
      "Training Epoch 1309: 100%|██████████| 901/901 [00:25<00:00, 34.74it/s]\n",
      "Training Epoch 1310: 100%|██████████| 901/901 [00:26<00:00, 34.61it/s]\n",
      "Training Epoch 1311: 100%|██████████| 901/901 [00:26<00:00, 34.47it/s]\n"
     ]
    },
    {
     "name": "stdout",
     "output_type": "stream",
     "text": [
      "Epoch 1310 - Train Loss: 0.1448, Train MSE: 0.1449, Train MAE: 0.2817\n",
      "Epoch 1310 - Validation Loss: 0.7212, Validation MSE: 0.7212, Validation MAE: 0.6290\n"
     ]
    },
    {
     "name": "stderr",
     "output_type": "stream",
     "text": [
      "Training Epoch 1312: 100%|██████████| 901/901 [00:26<00:00, 34.49it/s]\n",
      "Training Epoch 1313: 100%|██████████| 901/901 [00:26<00:00, 34.22it/s]\n",
      "Training Epoch 1314: 100%|██████████| 901/901 [00:26<00:00, 34.43it/s]\n",
      "Training Epoch 1315: 100%|██████████| 901/901 [00:26<00:00, 34.38it/s]\n",
      "Training Epoch 1316: 100%|██████████| 901/901 [00:26<00:00, 34.19it/s]\n",
      "Training Epoch 1317: 100%|██████████| 901/901 [00:26<00:00, 34.21it/s]\n",
      "Training Epoch 1318: 100%|██████████| 901/901 [00:26<00:00, 33.95it/s]\n",
      "Training Epoch 1319: 100%|██████████| 901/901 [08:48<00:00,  1.70it/s]  \n",
      "Training Epoch 1320: 100%|██████████| 901/901 [00:28<00:00, 31.90it/s]\n",
      "Training Epoch 1321: 100%|██████████| 901/901 [08:57<00:00,  1.68it/s]  \n"
     ]
    },
    {
     "name": "stdout",
     "output_type": "stream",
     "text": [
      "Epoch 1320 - Train Loss: 0.1453, Train MSE: 0.1453, Train MAE: 0.2818\n",
      "Epoch 1320 - Validation Loss: 0.7174, Validation MSE: 0.7174, Validation MAE: 0.6271\n"
     ]
    },
    {
     "name": "stderr",
     "output_type": "stream",
     "text": [
      "Training Epoch 1322: 100%|██████████| 901/901 [08:52<00:00,  1.69it/s]  \n",
      "Training Epoch 1323: 100%|██████████| 901/901 [00:31<00:00, 28.39it/s]\n",
      "Training Epoch 1324: 100%|██████████| 901/901 [08:53<00:00,  1.69it/s]  \n",
      "Training Epoch 1325: 100%|██████████| 901/901 [08:54<00:00,  1.69it/s]  \n",
      "Training Epoch 1326: 100%|██████████| 901/901 [00:27<00:00, 32.41it/s]\n",
      "Training Epoch 1327: 100%|██████████| 901/901 [00:27<00:00, 32.58it/s]\n",
      "Training Epoch 1328: 100%|██████████| 901/901 [08:10<00:00,  1.84it/s]  \n",
      "Training Epoch 1329: 100%|██████████| 901/901 [00:27<00:00, 32.36it/s]\n",
      "Training Epoch 1330: 100%|██████████| 901/901 [00:29<00:00, 30.22it/s]\n",
      "Training Epoch 1331: 100%|██████████| 901/901 [08:55<00:00,  1.68it/s]  \n"
     ]
    },
    {
     "name": "stdout",
     "output_type": "stream",
     "text": [
      "Epoch 1330 - Train Loss: 0.1447, Train MSE: 0.1447, Train MAE: 0.2798\n",
      "Epoch 1330 - Validation Loss: 0.7096, Validation MSE: 0.7096, Validation MAE: 0.6251\n"
     ]
    },
    {
     "name": "stderr",
     "output_type": "stream",
     "text": [
      "Training Epoch 1332: 100%|██████████| 901/901 [08:53<00:00,  1.69it/s]  \n",
      "Training Epoch 1333: 100%|██████████| 901/901 [00:28<00:00, 31.85it/s]\n",
      "Training Epoch 1334: 100%|██████████| 901/901 [01:47<00:00,  8.39it/s]  \n",
      "Training Epoch 1335: 100%|██████████| 901/901 [00:26<00:00, 34.54it/s]\n",
      "Training Epoch 1336: 100%|██████████| 901/901 [00:26<00:00, 34.53it/s]\n",
      "Training Epoch 1337: 100%|██████████| 901/901 [00:26<00:00, 34.53it/s]\n",
      "Training Epoch 1338: 100%|██████████| 901/901 [00:26<00:00, 34.52it/s]\n",
      "Training Epoch 1339: 100%|██████████| 901/901 [00:26<00:00, 34.51it/s]\n",
      "Training Epoch 1340: 100%|██████████| 901/901 [00:26<00:00, 34.65it/s]\n",
      "Training Epoch 1341: 100%|██████████| 901/901 [00:25<00:00, 34.81it/s]\n"
     ]
    },
    {
     "name": "stdout",
     "output_type": "stream",
     "text": [
      "Epoch 1340 - Train Loss: 0.1475, Train MSE: 0.1475, Train MAE: 0.2818\n",
      "Epoch 1340 - Validation Loss: 0.7228, Validation MSE: 0.7228, Validation MAE: 0.6264\n"
     ]
    },
    {
     "name": "stderr",
     "output_type": "stream",
     "text": [
      "Training Epoch 1342: 100%|██████████| 901/901 [00:26<00:00, 33.76it/s]\n",
      "Training Epoch 1343: 100%|██████████| 901/901 [00:26<00:00, 34.12it/s]\n",
      "Training Epoch 1344: 100%|██████████| 901/901 [00:25<00:00, 35.64it/s]\n",
      "Training Epoch 1345: 100%|██████████| 901/901 [00:25<00:00, 35.40it/s]\n",
      "Training Epoch 1346: 100%|██████████| 901/901 [00:25<00:00, 35.16it/s]\n",
      "Training Epoch 1347: 100%|██████████| 901/901 [00:25<00:00, 35.06it/s]\n",
      "Training Epoch 1348: 100%|██████████| 901/901 [00:25<00:00, 34.85it/s]\n",
      "Training Epoch 1349: 100%|██████████| 901/901 [00:25<00:00, 34.91it/s]\n",
      "Training Epoch 1350: 100%|██████████| 901/901 [00:25<00:00, 34.96it/s]\n",
      "Training Epoch 1351: 100%|██████████| 901/901 [00:25<00:00, 35.21it/s]\n"
     ]
    },
    {
     "name": "stdout",
     "output_type": "stream",
     "text": [
      "Epoch 1350 - Train Loss: 0.1429, Train MSE: 0.1429, Train MAE: 0.2785\n",
      "Epoch 1350 - Validation Loss: 0.7185, Validation MSE: 0.7185, Validation MAE: 0.6272\n"
     ]
    },
    {
     "name": "stderr",
     "output_type": "stream",
     "text": [
      "Training Epoch 1352: 100%|██████████| 901/901 [00:25<00:00, 35.12it/s]\n",
      "Training Epoch 1353: 100%|██████████| 901/901 [00:25<00:00, 34.89it/s]\n",
      "Training Epoch 1354: 100%|██████████| 901/901 [00:25<00:00, 35.10it/s]\n",
      "Training Epoch 1355: 100%|██████████| 901/901 [00:25<00:00, 34.70it/s]\n",
      "Training Epoch 1356: 100%|██████████| 901/901 [00:25<00:00, 34.69it/s]\n",
      "Training Epoch 1357: 100%|██████████| 901/901 [00:25<00:00, 35.35it/s]\n",
      "Training Epoch 1358: 100%|██████████| 901/901 [00:25<00:00, 35.01it/s]\n",
      "Training Epoch 1359: 100%|██████████| 901/901 [00:25<00:00, 34.87it/s]\n",
      "Training Epoch 1360: 100%|██████████| 901/901 [00:25<00:00, 35.27it/s]\n",
      "Training Epoch 1361: 100%|██████████| 901/901 [00:30<00:00, 29.86it/s]\n"
     ]
    },
    {
     "name": "stdout",
     "output_type": "stream",
     "text": [
      "Epoch 1360 - Train Loss: 0.1447, Train MSE: 0.1447, Train MAE: 0.2811\n",
      "Epoch 1360 - Validation Loss: 0.7254, Validation MSE: 0.7254, Validation MAE: 0.6294\n"
     ]
    },
    {
     "name": "stderr",
     "output_type": "stream",
     "text": [
      "Training Epoch 1362: 100%|██████████| 901/901 [00:25<00:00, 35.17it/s]\n",
      "Training Epoch 1363: 100%|██████████| 901/901 [00:25<00:00, 35.15it/s]\n",
      "Training Epoch 1364: 100%|██████████| 901/901 [00:25<00:00, 35.03it/s]\n",
      "Training Epoch 1365: 100%|██████████| 901/901 [00:25<00:00, 35.39it/s]\n",
      "Training Epoch 1366: 100%|██████████| 901/901 [00:25<00:00, 35.04it/s]\n",
      "Training Epoch 1367: 100%|██████████| 901/901 [00:25<00:00, 35.08it/s]\n",
      "Training Epoch 1368: 100%|██████████| 901/901 [00:25<00:00, 35.31it/s]\n",
      "Training Epoch 1369: 100%|██████████| 901/901 [00:25<00:00, 35.14it/s]\n",
      "Training Epoch 1370: 100%|██████████| 901/901 [00:25<00:00, 35.28it/s]\n",
      "Training Epoch 1371: 100%|██████████| 901/901 [00:25<00:00, 35.24it/s]\n"
     ]
    },
    {
     "name": "stdout",
     "output_type": "stream",
     "text": [
      "Epoch 1370 - Train Loss: 0.1465, Train MSE: 0.1465, Train MAE: 0.2816\n",
      "Epoch 1370 - Validation Loss: 0.7218, Validation MSE: 0.7218, Validation MAE: 0.6314\n"
     ]
    },
    {
     "name": "stderr",
     "output_type": "stream",
     "text": [
      "Training Epoch 1372: 100%|██████████| 901/901 [00:25<00:00, 35.04it/s]\n",
      "Training Epoch 1373: 100%|██████████| 901/901 [00:25<00:00, 35.14it/s]\n",
      "Training Epoch 1374: 100%|██████████| 901/901 [00:25<00:00, 35.27it/s]\n",
      "Training Epoch 1375: 100%|██████████| 901/901 [00:25<00:00, 35.24it/s]\n",
      "Training Epoch 1376: 100%|██████████| 901/901 [00:25<00:00, 35.60it/s]\n",
      "Training Epoch 1377: 100%|██████████| 901/901 [00:25<00:00, 35.38it/s]\n",
      "Training Epoch 1378: 100%|██████████| 901/901 [00:25<00:00, 35.52it/s]\n",
      "Training Epoch 1379: 100%|██████████| 901/901 [00:25<00:00, 35.41it/s]\n",
      "Training Epoch 1380: 100%|██████████| 901/901 [00:25<00:00, 35.41it/s]\n",
      "Training Epoch 1381: 100%|██████████| 901/901 [00:25<00:00, 35.34it/s]\n"
     ]
    },
    {
     "name": "stdout",
     "output_type": "stream",
     "text": [
      "Epoch 1380 - Train Loss: 0.1443, Train MSE: 0.1443, Train MAE: 0.2800\n",
      "Epoch 1380 - Validation Loss: 0.7223, Validation MSE: 0.7223, Validation MAE: 0.6271\n"
     ]
    },
    {
     "name": "stderr",
     "output_type": "stream",
     "text": [
      "Training Epoch 1382: 100%|██████████| 901/901 [00:25<00:00, 35.40it/s]\n",
      "Training Epoch 1383: 100%|██████████| 901/901 [00:25<00:00, 35.24it/s]\n",
      "Training Epoch 1384: 100%|██████████| 901/901 [00:25<00:00, 35.46it/s]\n",
      "Training Epoch 1385: 100%|██████████| 901/901 [00:25<00:00, 35.49it/s]\n",
      "Training Epoch 1386: 100%|██████████| 901/901 [00:25<00:00, 35.44it/s]\n",
      "Training Epoch 1387: 100%|██████████| 901/901 [00:25<00:00, 34.99it/s]\n",
      "Training Epoch 1388: 100%|██████████| 901/901 [00:25<00:00, 35.18it/s]\n",
      "Training Epoch 1389: 100%|██████████| 901/901 [00:25<00:00, 34.99it/s]\n",
      "Training Epoch 1390: 100%|██████████| 901/901 [00:25<00:00, 35.24it/s]\n",
      "Training Epoch 1391: 100%|██████████| 901/901 [00:25<00:00, 35.20it/s]\n"
     ]
    },
    {
     "name": "stdout",
     "output_type": "stream",
     "text": [
      "Epoch 1390 - Train Loss: 0.1406, Train MSE: 0.1407, Train MAE: 0.2778\n",
      "Epoch 1390 - Validation Loss: 0.7274, Validation MSE: 0.7274, Validation MAE: 0.6346\n"
     ]
    },
    {
     "name": "stderr",
     "output_type": "stream",
     "text": [
      "Training Epoch 1392: 100%|██████████| 901/901 [00:25<00:00, 35.44it/s]\n",
      "Training Epoch 1393: 100%|██████████| 901/901 [00:25<00:00, 35.16it/s]\n",
      "Training Epoch 1394: 100%|██████████| 901/901 [00:25<00:00, 35.30it/s]\n",
      "Training Epoch 1395: 100%|██████████| 901/901 [00:25<00:00, 35.16it/s]\n",
      "Training Epoch 1396: 100%|██████████| 901/901 [00:25<00:00, 34.99it/s]\n",
      "Training Epoch 1397: 100%|██████████| 901/901 [00:25<00:00, 35.23it/s]\n",
      "Training Epoch 1398: 100%|██████████| 901/901 [00:25<00:00, 35.35it/s]\n",
      "Training Epoch 1399: 100%|██████████| 901/901 [00:25<00:00, 35.42it/s]\n",
      "Training Epoch 1400: 100%|██████████| 901/901 [00:25<00:00, 35.32it/s]\n",
      "Training Epoch 1401: 100%|██████████| 901/901 [00:25<00:00, 35.28it/s]\n"
     ]
    },
    {
     "name": "stdout",
     "output_type": "stream",
     "text": [
      "Epoch 1400 - Train Loss: 0.1419, Train MSE: 0.1418, Train MAE: 0.2769\n",
      "Epoch 1400 - Validation Loss: 0.7175, Validation MSE: 0.7175, Validation MAE: 0.6276\n"
     ]
    },
    {
     "name": "stderr",
     "output_type": "stream",
     "text": [
      "Training Epoch 1402: 100%|██████████| 901/901 [00:25<00:00, 34.93it/s]\n",
      "Training Epoch 1403: 100%|██████████| 901/901 [00:25<00:00, 34.82it/s]\n",
      "Training Epoch 1404: 100%|██████████| 901/901 [00:25<00:00, 35.37it/s]\n",
      "Training Epoch 1405: 100%|██████████| 901/901 [00:25<00:00, 35.08it/s]\n",
      "Training Epoch 1406: 100%|██████████| 901/901 [00:25<00:00, 35.03it/s]\n",
      "Training Epoch 1407: 100%|██████████| 901/901 [00:25<00:00, 34.92it/s]\n",
      "Training Epoch 1408: 100%|██████████| 901/901 [00:25<00:00, 34.80it/s]\n",
      "Training Epoch 1409: 100%|██████████| 901/901 [00:25<00:00, 34.98it/s]\n",
      "Training Epoch 1410: 100%|██████████| 901/901 [00:25<00:00, 34.91it/s]\n",
      "Training Epoch 1411: 100%|██████████| 901/901 [00:25<00:00, 34.93it/s]\n"
     ]
    },
    {
     "name": "stdout",
     "output_type": "stream",
     "text": [
      "Epoch 1410 - Train Loss: 0.1406, Train MSE: 0.1406, Train MAE: 0.2769\n",
      "Epoch 1410 - Validation Loss: 0.7269, Validation MSE: 0.7269, Validation MAE: 0.6289\n"
     ]
    },
    {
     "name": "stderr",
     "output_type": "stream",
     "text": [
      "Training Epoch 1412: 100%|██████████| 901/901 [00:25<00:00, 34.80it/s]\n",
      "Training Epoch 1413: 100%|██████████| 901/901 [00:26<00:00, 34.63it/s]\n",
      "Training Epoch 1414: 100%|██████████| 901/901 [00:25<00:00, 35.00it/s]\n",
      "Training Epoch 1415: 100%|██████████| 901/901 [00:25<00:00, 34.76it/s]\n",
      "Training Epoch 1416: 100%|██████████| 901/901 [00:26<00:00, 34.44it/s]\n",
      "Training Epoch 1417: 100%|██████████| 901/901 [00:25<00:00, 34.80it/s]\n",
      "Training Epoch 1418: 100%|██████████| 901/901 [00:25<00:00, 34.79it/s]\n",
      "Training Epoch 1419: 100%|██████████| 901/901 [00:25<00:00, 34.95it/s]\n",
      "Training Epoch 1420: 100%|██████████| 901/901 [00:25<00:00, 34.82it/s]\n",
      "Training Epoch 1421: 100%|██████████| 901/901 [00:25<00:00, 34.84it/s]\n"
     ]
    },
    {
     "name": "stdout",
     "output_type": "stream",
     "text": [
      "Epoch 1420 - Train Loss: 0.1435, Train MSE: 0.1435, Train MAE: 0.2798\n",
      "Epoch 1420 - Validation Loss: 0.7255, Validation MSE: 0.7255, Validation MAE: 0.6317\n"
     ]
    },
    {
     "name": "stderr",
     "output_type": "stream",
     "text": [
      "Training Epoch 1422: 100%|██████████| 901/901 [00:26<00:00, 34.64it/s]\n",
      "Training Epoch 1423: 100%|██████████| 901/901 [00:26<00:00, 33.54it/s]\n",
      "Training Epoch 1424: 100%|██████████| 901/901 [00:27<00:00, 32.85it/s]\n",
      "Training Epoch 1425: 100%|██████████| 901/901 [00:26<00:00, 33.55it/s]\n",
      "Training Epoch 1426: 100%|██████████| 901/901 [00:26<00:00, 34.29it/s]\n",
      "Training Epoch 1427: 100%|██████████| 901/901 [00:26<00:00, 34.65it/s]\n",
      "Training Epoch 1428: 100%|██████████| 901/901 [00:25<00:00, 34.92it/s]\n",
      "Training Epoch 1429: 100%|██████████| 901/901 [00:25<00:00, 34.91it/s]\n",
      "Training Epoch 1430: 100%|██████████| 901/901 [00:25<00:00, 34.77it/s]\n",
      "Training Epoch 1431: 100%|██████████| 901/901 [00:25<00:00, 34.92it/s]\n"
     ]
    },
    {
     "name": "stdout",
     "output_type": "stream",
     "text": [
      "Epoch 1430 - Train Loss: 0.1416, Train MSE: 0.1416, Train MAE: 0.2772\n",
      "Epoch 1430 - Validation Loss: 0.7233, Validation MSE: 0.7233, Validation MAE: 0.6284\n"
     ]
    },
    {
     "name": "stderr",
     "output_type": "stream",
     "text": [
      "Training Epoch 1432: 100%|██████████| 901/901 [00:25<00:00, 35.02it/s]\n",
      "Training Epoch 1433: 100%|██████████| 901/901 [00:26<00:00, 34.49it/s]\n",
      "Training Epoch 1434: 100%|██████████| 901/901 [00:25<00:00, 34.78it/s]\n",
      "Training Epoch 1435: 100%|██████████| 901/901 [00:25<00:00, 34.98it/s]\n",
      "Training Epoch 1436: 100%|██████████| 901/901 [00:25<00:00, 34.68it/s]\n",
      "Training Epoch 1437: 100%|██████████| 901/901 [00:26<00:00, 34.64it/s]\n",
      "Training Epoch 1438: 100%|██████████| 901/901 [00:26<00:00, 34.54it/s]\n",
      "Training Epoch 1439: 100%|██████████| 901/901 [00:25<00:00, 35.03it/s]\n",
      "Training Epoch 1440: 100%|██████████| 901/901 [00:25<00:00, 35.06it/s]\n",
      "Training Epoch 1441: 100%|██████████| 901/901 [00:25<00:00, 34.74it/s]\n"
     ]
    },
    {
     "name": "stdout",
     "output_type": "stream",
     "text": [
      "Epoch 1440 - Train Loss: 0.1424, Train MSE: 0.1424, Train MAE: 0.2778\n",
      "Epoch 1440 - Validation Loss: 0.7307, Validation MSE: 0.7307, Validation MAE: 0.6313\n"
     ]
    },
    {
     "name": "stderr",
     "output_type": "stream",
     "text": [
      "Training Epoch 1442: 100%|██████████| 901/901 [00:25<00:00, 35.01it/s]\n",
      "Training Epoch 1443: 100%|██████████| 901/901 [00:25<00:00, 34.80it/s]\n",
      "Training Epoch 1444: 100%|██████████| 901/901 [00:25<00:00, 34.66it/s]\n",
      "Training Epoch 1445: 100%|██████████| 901/901 [00:25<00:00, 34.67it/s]\n",
      "Training Epoch 1446: 100%|██████████| 901/901 [00:25<00:00, 34.87it/s]\n",
      "Training Epoch 1447: 100%|██████████| 901/901 [00:25<00:00, 34.73it/s]\n",
      "Training Epoch 1448: 100%|██████████| 901/901 [00:25<00:00, 35.01it/s]\n",
      "Training Epoch 1449: 100%|██████████| 901/901 [00:25<00:00, 34.78it/s]\n",
      "Training Epoch 1450: 100%|██████████| 901/901 [00:26<00:00, 34.65it/s]\n",
      "Training Epoch 1451: 100%|██████████| 901/901 [00:25<00:00, 34.78it/s]\n"
     ]
    },
    {
     "name": "stdout",
     "output_type": "stream",
     "text": [
      "Epoch 1450 - Train Loss: 0.1407, Train MSE: 0.1406, Train MAE: 0.2758\n",
      "Epoch 1450 - Validation Loss: 0.7225, Validation MSE: 0.7225, Validation MAE: 0.6273\n"
     ]
    },
    {
     "name": "stderr",
     "output_type": "stream",
     "text": [
      "Training Epoch 1452: 100%|██████████| 901/901 [00:25<00:00, 34.82it/s]\n",
      "Training Epoch 1453: 100%|██████████| 901/901 [00:25<00:00, 34.87it/s]\n",
      "Training Epoch 1454: 100%|██████████| 901/901 [00:25<00:00, 34.83it/s]\n",
      "Training Epoch 1455: 100%|██████████| 901/901 [00:25<00:00, 34.94it/s]\n",
      "Training Epoch 1456: 100%|██████████| 901/901 [00:25<00:00, 35.04it/s]\n",
      "Training Epoch 1457: 100%|██████████| 901/901 [00:25<00:00, 34.84it/s]\n",
      "Training Epoch 1458: 100%|██████████| 901/901 [00:25<00:00, 34.97it/s]\n",
      "Training Epoch 1459: 100%|██████████| 901/901 [00:25<00:00, 34.90it/s]\n",
      "Training Epoch 1460: 100%|██████████| 901/901 [00:25<00:00, 35.03it/s]\n",
      "Training Epoch 1461: 100%|██████████| 901/901 [00:25<00:00, 35.08it/s]\n"
     ]
    },
    {
     "name": "stdout",
     "output_type": "stream",
     "text": [
      "Epoch 1460 - Train Loss: 0.1415, Train MSE: 0.1415, Train MAE: 0.2764\n",
      "Epoch 1460 - Validation Loss: 0.7363, Validation MSE: 0.7363, Validation MAE: 0.6328\n"
     ]
    },
    {
     "name": "stderr",
     "output_type": "stream",
     "text": [
      "Training Epoch 1462: 100%|██████████| 901/901 [00:25<00:00, 35.21it/s]\n",
      "Training Epoch 1463: 100%|██████████| 901/901 [00:25<00:00, 34.91it/s]\n",
      "Training Epoch 1464: 100%|██████████| 901/901 [00:25<00:00, 35.09it/s]\n",
      "Training Epoch 1465: 100%|██████████| 901/901 [00:25<00:00, 34.90it/s]\n",
      "Training Epoch 1466: 100%|██████████| 901/901 [00:25<00:00, 35.23it/s]\n",
      "Training Epoch 1467: 100%|██████████| 901/901 [00:26<00:00, 34.36it/s]\n",
      "Training Epoch 1468: 100%|██████████| 901/901 [00:26<00:00, 34.48it/s]\n",
      "Training Epoch 1469: 100%|██████████| 901/901 [00:26<00:00, 34.35it/s]\n",
      "Training Epoch 1470: 100%|██████████| 901/901 [00:26<00:00, 34.33it/s]\n",
      "Training Epoch 1471: 100%|██████████| 901/901 [00:26<00:00, 34.29it/s]\n"
     ]
    },
    {
     "name": "stdout",
     "output_type": "stream",
     "text": [
      "Epoch 1470 - Train Loss: 0.1416, Train MSE: 0.1416, Train MAE: 0.2762\n",
      "Epoch 1470 - Validation Loss: 0.7243, Validation MSE: 0.7243, Validation MAE: 0.6281\n"
     ]
    },
    {
     "name": "stderr",
     "output_type": "stream",
     "text": [
      "Training Epoch 1472: 100%|██████████| 901/901 [00:26<00:00, 34.40it/s]\n",
      "Training Epoch 1473: 100%|██████████| 901/901 [00:26<00:00, 34.63it/s]\n",
      "Training Epoch 1474: 100%|██████████| 901/901 [00:26<00:00, 34.40it/s]\n",
      "Training Epoch 1475: 100%|██████████| 901/901 [00:26<00:00, 34.36it/s]\n",
      "Training Epoch 1476: 100%|██████████| 901/901 [00:25<00:00, 34.71it/s]\n",
      "Training Epoch 1477: 100%|██████████| 901/901 [00:26<00:00, 34.38it/s]\n",
      "Training Epoch 1478: 100%|██████████| 901/901 [00:26<00:00, 34.35it/s]\n",
      "Training Epoch 1479: 100%|██████████| 901/901 [00:26<00:00, 34.00it/s]\n",
      "Training Epoch 1480: 100%|██████████| 901/901 [00:26<00:00, 34.22it/s]\n",
      "Training Epoch 1481: 100%|██████████| 901/901 [00:26<00:00, 34.09it/s]\n"
     ]
    },
    {
     "name": "stdout",
     "output_type": "stream",
     "text": [
      "Epoch 1480 - Train Loss: 0.1435, Train MSE: 0.1435, Train MAE: 0.2792\n",
      "Epoch 1480 - Validation Loss: 0.7180, Validation MSE: 0.7180, Validation MAE: 0.6257\n"
     ]
    },
    {
     "name": "stderr",
     "output_type": "stream",
     "text": [
      "Training Epoch 1482: 100%|██████████| 901/901 [00:26<00:00, 33.85it/s]\n",
      "Training Epoch 1483: 100%|██████████| 901/901 [00:26<00:00, 34.15it/s]\n",
      "Training Epoch 1484: 100%|██████████| 901/901 [00:26<00:00, 34.44it/s]\n",
      "Training Epoch 1485: 100%|██████████| 901/901 [00:26<00:00, 34.39it/s]\n",
      "Training Epoch 1486: 100%|██████████| 901/901 [00:26<00:00, 33.48it/s]\n",
      "Training Epoch 1487: 100%|██████████| 901/901 [00:26<00:00, 34.34it/s]\n",
      "Training Epoch 1488: 100%|██████████| 901/901 [00:26<00:00, 34.37it/s]\n",
      "Training Epoch 1489: 100%|██████████| 901/901 [00:26<00:00, 34.23it/s]\n",
      "Training Epoch 1490: 100%|██████████| 901/901 [00:26<00:00, 34.17it/s]\n",
      "Training Epoch 1491: 100%|██████████| 901/901 [00:26<00:00, 34.25it/s]\n"
     ]
    },
    {
     "name": "stdout",
     "output_type": "stream",
     "text": [
      "Epoch 1490 - Train Loss: 0.1427, Train MSE: 0.1427, Train MAE: 0.2778\n",
      "Epoch 1490 - Validation Loss: 0.7202, Validation MSE: 0.7202, Validation MAE: 0.6280\n"
     ]
    },
    {
     "name": "stderr",
     "output_type": "stream",
     "text": [
      "Training Epoch 1492: 100%|██████████| 901/901 [00:26<00:00, 34.29it/s]\n",
      "Training Epoch 1493: 100%|██████████| 901/901 [00:26<00:00, 34.50it/s]\n",
      "Training Epoch 1494: 100%|██████████| 901/901 [00:26<00:00, 34.29it/s]\n",
      "Training Epoch 1495: 100%|██████████| 901/901 [00:25<00:00, 35.03it/s]\n",
      "Training Epoch 1496: 100%|██████████| 901/901 [00:26<00:00, 34.46it/s]\n",
      "Training Epoch 1497: 100%|██████████| 901/901 [00:26<00:00, 34.57it/s]\n",
      "Training Epoch 1498: 100%|██████████| 901/901 [00:26<00:00, 34.20it/s]\n",
      "Training Epoch 1499: 100%|██████████| 901/901 [00:26<00:00, 34.26it/s]\n",
      "Training Epoch 1500: 100%|██████████| 901/901 [00:26<00:00, 34.23it/s]\n",
      "Training Epoch 1501: 100%|██████████| 901/901 [00:26<00:00, 34.05it/s]\n"
     ]
    },
    {
     "name": "stdout",
     "output_type": "stream",
     "text": [
      "Epoch 1500 - Train Loss: 0.1377, Train MSE: 0.1377, Train MAE: 0.2744\n",
      "Epoch 1500 - Validation Loss: 0.7192, Validation MSE: 0.7192, Validation MAE: 0.6278\n"
     ]
    },
    {
     "name": "stderr",
     "output_type": "stream",
     "text": [
      "Training Epoch 1502: 100%|██████████| 901/901 [00:26<00:00, 34.36it/s]\n",
      "Training Epoch 1503: 100%|██████████| 901/901 [00:26<00:00, 34.45it/s]\n",
      "Training Epoch 1504: 100%|██████████| 901/901 [00:26<00:00, 34.11it/s]\n",
      "Training Epoch 1505: 100%|██████████| 901/901 [00:26<00:00, 34.41it/s]\n",
      "Training Epoch 1506: 100%|██████████| 901/901 [00:26<00:00, 34.29it/s]\n",
      "Training Epoch 1507: 100%|██████████| 901/901 [00:26<00:00, 34.40it/s]\n",
      "Training Epoch 1508: 100%|██████████| 901/901 [00:26<00:00, 34.28it/s]\n",
      "Training Epoch 1509: 100%|██████████| 901/901 [00:26<00:00, 34.55it/s]\n",
      "Training Epoch 1510: 100%|██████████| 901/901 [00:26<00:00, 34.10it/s]\n",
      "Training Epoch 1511: 100%|██████████| 901/901 [00:26<00:00, 34.50it/s]\n"
     ]
    },
    {
     "name": "stdout",
     "output_type": "stream",
     "text": [
      "Epoch 1510 - Train Loss: 0.1428, Train MSE: 0.1428, Train MAE: 0.2768\n",
      "Epoch 1510 - Validation Loss: 0.7205, Validation MSE: 0.7205, Validation MAE: 0.6283\n"
     ]
    },
    {
     "name": "stderr",
     "output_type": "stream",
     "text": [
      "Training Epoch 1512: 100%|██████████| 901/901 [00:26<00:00, 33.55it/s]\n",
      "Training Epoch 1513: 100%|██████████| 901/901 [00:26<00:00, 34.36it/s]\n",
      "Training Epoch 1514: 100%|██████████| 901/901 [00:26<00:00, 34.43it/s]\n",
      "Training Epoch 1515: 100%|██████████| 901/901 [00:26<00:00, 34.36it/s]\n",
      "Training Epoch 1516: 100%|██████████| 901/901 [00:26<00:00, 34.31it/s]\n",
      "Training Epoch 1517: 100%|██████████| 901/901 [00:26<00:00, 34.37it/s]\n",
      "Training Epoch 1518: 100%|██████████| 901/901 [00:26<00:00, 34.38it/s]\n",
      "Training Epoch 1519: 100%|██████████| 901/901 [00:26<00:00, 34.18it/s]\n",
      "Training Epoch 1520: 100%|██████████| 901/901 [00:26<00:00, 34.01it/s]\n",
      "Training Epoch 1521: 100%|██████████| 901/901 [00:26<00:00, 34.23it/s]\n"
     ]
    },
    {
     "name": "stdout",
     "output_type": "stream",
     "text": [
      "Epoch 1520 - Train Loss: 0.1380, Train MSE: 0.1380, Train MAE: 0.2739\n",
      "Epoch 1520 - Validation Loss: 0.7193, Validation MSE: 0.7193, Validation MAE: 0.6263\n"
     ]
    },
    {
     "name": "stderr",
     "output_type": "stream",
     "text": [
      "Training Epoch 1522: 100%|██████████| 901/901 [00:26<00:00, 34.00it/s]\n",
      "Training Epoch 1523: 100%|██████████| 901/901 [00:26<00:00, 34.53it/s]\n",
      "Training Epoch 1524: 100%|██████████| 901/901 [00:26<00:00, 34.18it/s]\n",
      "Training Epoch 1525: 100%|██████████| 901/901 [00:26<00:00, 34.20it/s]\n",
      "Training Epoch 1526: 100%|██████████| 901/901 [00:26<00:00, 34.34it/s]\n",
      "Training Epoch 1527: 100%|██████████| 901/901 [00:26<00:00, 34.28it/s]\n",
      "Training Epoch 1528: 100%|██████████| 901/901 [00:26<00:00, 33.85it/s]\n",
      "Training Epoch 1529: 100%|██████████| 901/901 [00:26<00:00, 34.35it/s]\n",
      "Training Epoch 1530: 100%|██████████| 901/901 [00:26<00:00, 34.34it/s]\n",
      "Training Epoch 1531: 100%|██████████| 901/901 [00:26<00:00, 34.12it/s]\n"
     ]
    },
    {
     "name": "stdout",
     "output_type": "stream",
     "text": [
      "Epoch 1530 - Train Loss: 0.1397, Train MSE: 0.1397, Train MAE: 0.2755\n",
      "Epoch 1530 - Validation Loss: 0.7288, Validation MSE: 0.7288, Validation MAE: 0.6310\n"
     ]
    },
    {
     "name": "stderr",
     "output_type": "stream",
     "text": [
      "Training Epoch 1532: 100%|██████████| 901/901 [00:26<00:00, 33.86it/s]\n",
      "Training Epoch 1533: 100%|██████████| 901/901 [00:26<00:00, 34.10it/s]\n",
      "Training Epoch 1534: 100%|██████████| 901/901 [00:26<00:00, 34.20it/s]\n",
      "Training Epoch 1535: 100%|██████████| 901/901 [00:26<00:00, 34.02it/s]\n",
      "Training Epoch 1536: 100%|██████████| 901/901 [00:26<00:00, 33.94it/s]\n",
      "Training Epoch 1537: 100%|██████████| 901/901 [00:26<00:00, 33.97it/s]\n",
      "Training Epoch 1538: 100%|██████████| 901/901 [00:26<00:00, 33.99it/s]\n",
      "Training Epoch 1539: 100%|██████████| 901/901 [00:26<00:00, 34.17it/s]\n",
      "Training Epoch 1540: 100%|██████████| 901/901 [00:26<00:00, 33.96it/s]\n",
      "Training Epoch 1541: 100%|██████████| 901/901 [00:26<00:00, 34.27it/s]\n"
     ]
    },
    {
     "name": "stdout",
     "output_type": "stream",
     "text": [
      "Epoch 1540 - Train Loss: 0.1405, Train MSE: 0.1405, Train MAE: 0.2763\n",
      "Epoch 1540 - Validation Loss: 0.7266, Validation MSE: 0.7266, Validation MAE: 0.6295\n"
     ]
    },
    {
     "name": "stderr",
     "output_type": "stream",
     "text": [
      "Training Epoch 1542: 100%|██████████| 901/901 [00:26<00:00, 33.60it/s]\n",
      "Training Epoch 1543: 100%|██████████| 901/901 [00:26<00:00, 33.81it/s]\n",
      "Training Epoch 1544: 100%|██████████| 901/901 [00:26<00:00, 33.72it/s]\n",
      "Training Epoch 1545: 100%|██████████| 901/901 [00:26<00:00, 33.86it/s]\n",
      "Training Epoch 1546: 100%|██████████| 901/901 [00:26<00:00, 33.79it/s]\n",
      "Training Epoch 1547: 100%|██████████| 901/901 [00:26<00:00, 33.60it/s]\n",
      "Training Epoch 1548: 100%|██████████| 901/901 [00:26<00:00, 33.45it/s]\n",
      "Training Epoch 1549: 100%|██████████| 901/901 [00:26<00:00, 33.58it/s]\n",
      "Training Epoch 1550: 100%|██████████| 901/901 [00:26<00:00, 33.49it/s]\n",
      "Training Epoch 1551: 100%|██████████| 901/901 [00:27<00:00, 33.19it/s]\n"
     ]
    },
    {
     "name": "stdout",
     "output_type": "stream",
     "text": [
      "Epoch 1550 - Train Loss: 0.1390, Train MSE: 0.1390, Train MAE: 0.2748\n",
      "Epoch 1550 - Validation Loss: 0.7225, Validation MSE: 0.7225, Validation MAE: 0.6267\n"
     ]
    },
    {
     "name": "stderr",
     "output_type": "stream",
     "text": [
      "Training Epoch 1552: 100%|██████████| 901/901 [00:27<00:00, 33.30it/s]\n",
      "Training Epoch 1553: 100%|██████████| 901/901 [00:26<00:00, 33.64it/s]\n",
      "Training Epoch 1554: 100%|██████████| 901/901 [00:27<00:00, 32.42it/s]\n",
      "Training Epoch 1555: 100%|██████████| 901/901 [00:26<00:00, 33.62it/s]\n",
      "Training Epoch 1556: 100%|██████████| 901/901 [00:27<00:00, 33.00it/s]\n",
      "Training Epoch 1557: 100%|██████████| 901/901 [00:26<00:00, 33.63it/s]\n",
      "Training Epoch 1558: 100%|██████████| 901/901 [00:27<00:00, 33.35it/s]\n",
      "Training Epoch 1559: 100%|██████████| 901/901 [00:26<00:00, 33.52it/s]\n",
      "Training Epoch 1560: 100%|██████████| 901/901 [00:27<00:00, 32.90it/s]\n",
      "Training Epoch 1561: 100%|██████████| 901/901 [00:26<00:00, 33.89it/s]\n"
     ]
    },
    {
     "name": "stdout",
     "output_type": "stream",
     "text": [
      "Epoch 1560 - Train Loss: 0.1367, Train MSE: 0.1367, Train MAE: 0.2725\n",
      "Epoch 1560 - Validation Loss: 0.7212, Validation MSE: 0.7212, Validation MAE: 0.6275\n"
     ]
    },
    {
     "name": "stderr",
     "output_type": "stream",
     "text": [
      "Training Epoch 1562: 100%|██████████| 901/901 [00:26<00:00, 33.70it/s]\n",
      "Training Epoch 1563: 100%|██████████| 901/901 [00:26<00:00, 34.04it/s]\n",
      "Training Epoch 1564: 100%|██████████| 901/901 [00:26<00:00, 33.67it/s]\n",
      "Training Epoch 1565: 100%|██████████| 901/901 [00:27<00:00, 33.24it/s]\n",
      "Training Epoch 1566: 100%|██████████| 901/901 [00:26<00:00, 33.79it/s]\n",
      "Training Epoch 1567: 100%|██████████| 901/901 [00:26<00:00, 33.83it/s]\n",
      "Training Epoch 1568: 100%|██████████| 901/901 [00:27<00:00, 33.23it/s]\n",
      "Training Epoch 1569: 100%|██████████| 901/901 [00:28<00:00, 31.17it/s]\n",
      "Training Epoch 1570: 100%|██████████| 901/901 [00:28<00:00, 31.55it/s]\n",
      "Training Epoch 1571: 100%|██████████| 901/901 [00:28<00:00, 31.91it/s]\n"
     ]
    },
    {
     "name": "stdout",
     "output_type": "stream",
     "text": [
      "Epoch 1570 - Train Loss: 0.1376, Train MSE: 0.1376, Train MAE: 0.2737\n",
      "Epoch 1570 - Validation Loss: 0.7313, Validation MSE: 0.7313, Validation MAE: 0.6326\n"
     ]
    },
    {
     "name": "stderr",
     "output_type": "stream",
     "text": [
      "Training Epoch 1572: 100%|██████████| 901/901 [00:28<00:00, 31.40it/s]\n",
      "Training Epoch 1573: 100%|██████████| 901/901 [00:28<00:00, 31.89it/s]\n",
      "Training Epoch 1574: 100%|██████████| 901/901 [00:28<00:00, 31.65it/s]\n",
      "Training Epoch 1575: 100%|██████████| 901/901 [00:28<00:00, 31.94it/s]\n",
      "Training Epoch 1576: 100%|██████████| 901/901 [00:28<00:00, 31.79it/s]\n",
      "Training Epoch 1577: 100%|██████████| 901/901 [00:28<00:00, 31.80it/s]\n",
      "Training Epoch 1578: 100%|██████████| 901/901 [00:28<00:00, 31.88it/s]\n",
      "Training Epoch 1579: 100%|██████████| 901/901 [00:28<00:00, 31.73it/s]\n",
      "Training Epoch 1580: 100%|██████████| 901/901 [00:28<00:00, 31.96it/s]\n",
      "Training Epoch 1581: 100%|██████████| 901/901 [00:28<00:00, 31.85it/s]\n"
     ]
    },
    {
     "name": "stdout",
     "output_type": "stream",
     "text": [
      "Epoch 1580 - Train Loss: 0.1391, Train MSE: 0.1391, Train MAE: 0.2746\n",
      "Epoch 1580 - Validation Loss: 0.7339, Validation MSE: 0.7339, Validation MAE: 0.6323\n"
     ]
    },
    {
     "name": "stderr",
     "output_type": "stream",
     "text": [
      "Training Epoch 1582: 100%|██████████| 901/901 [00:28<00:00, 32.02it/s]\n",
      "Training Epoch 1583: 100%|██████████| 901/901 [00:28<00:00, 31.64it/s]\n",
      "Training Epoch 1584: 100%|██████████| 901/901 [00:28<00:00, 31.99it/s]\n",
      "Training Epoch 1585: 100%|██████████| 901/901 [00:28<00:00, 31.70it/s]\n",
      "Training Epoch 1586: 100%|██████████| 901/901 [00:27<00:00, 32.44it/s]\n",
      "Training Epoch 1587: 100%|██████████| 901/901 [00:27<00:00, 32.90it/s]\n",
      "Training Epoch 1588: 100%|██████████| 901/901 [00:27<00:00, 32.96it/s]\n",
      "Training Epoch 1589: 100%|██████████| 901/901 [00:27<00:00, 32.90it/s]\n",
      "Training Epoch 1590: 100%|██████████| 901/901 [00:27<00:00, 33.15it/s]\n",
      "Training Epoch 1591: 100%|██████████| 901/901 [00:27<00:00, 32.97it/s]\n"
     ]
    },
    {
     "name": "stdout",
     "output_type": "stream",
     "text": [
      "Epoch 1590 - Train Loss: 0.1417, Train MSE: 0.1417, Train MAE: 0.2756\n",
      "Epoch 1590 - Validation Loss: 0.7308, Validation MSE: 0.7308, Validation MAE: 0.6304\n"
     ]
    },
    {
     "name": "stderr",
     "output_type": "stream",
     "text": [
      "Training Epoch 1592: 100%|██████████| 901/901 [00:27<00:00, 33.04it/s]\n",
      "Training Epoch 1593: 100%|██████████| 901/901 [00:27<00:00, 32.75it/s]\n",
      "Training Epoch 1594: 100%|██████████| 901/901 [00:27<00:00, 33.02it/s]\n",
      "Training Epoch 1595: 100%|██████████| 901/901 [00:26<00:00, 33.40it/s]\n",
      "Training Epoch 1596: 100%|██████████| 901/901 [00:26<00:00, 33.54it/s]\n",
      "Training Epoch 1597: 100%|██████████| 901/901 [00:27<00:00, 33.13it/s]\n",
      "Training Epoch 1598: 100%|██████████| 901/901 [00:27<00:00, 33.27it/s]\n",
      "Training Epoch 1599: 100%|██████████| 901/901 [00:26<00:00, 33.46it/s]\n",
      "Training Epoch 1600: 100%|██████████| 901/901 [00:26<00:00, 33.38it/s]\n",
      "Training Epoch 1601: 100%|██████████| 901/901 [00:27<00:00, 33.10it/s]\n"
     ]
    },
    {
     "name": "stdout",
     "output_type": "stream",
     "text": [
      "Epoch 1600 - Train Loss: 0.1377, Train MSE: 0.1378, Train MAE: 0.2739\n",
      "Epoch 1600 - Validation Loss: 0.7200, Validation MSE: 0.7200, Validation MAE: 0.6257\n"
     ]
    },
    {
     "name": "stderr",
     "output_type": "stream",
     "text": [
      "Training Epoch 1602: 100%|██████████| 901/901 [00:26<00:00, 33.54it/s]\n",
      "Training Epoch 1603: 100%|██████████| 901/901 [00:26<00:00, 33.41it/s]\n",
      "Training Epoch 1604: 100%|██████████| 901/901 [00:27<00:00, 33.21it/s]\n",
      "Training Epoch 1605: 100%|██████████| 901/901 [00:27<00:00, 32.72it/s]\n",
      "Training Epoch 1606: 100%|██████████| 901/901 [00:26<00:00, 33.37it/s]\n",
      "Training Epoch 1607: 100%|██████████| 901/901 [00:43<00:00, 20.61it/s]\n",
      "Training Epoch 1608: 100%|██████████| 901/901 [00:28<00:00, 31.88it/s]\n",
      "Training Epoch 1609: 100%|██████████| 901/901 [00:30<00:00, 29.56it/s]\n",
      "Training Epoch 1610: 100%|██████████| 901/901 [00:30<00:00, 29.92it/s]\n",
      "Training Epoch 1611: 100%|██████████| 901/901 [00:29<00:00, 30.15it/s]\n"
     ]
    },
    {
     "name": "stdout",
     "output_type": "stream",
     "text": [
      "Epoch 1610 - Train Loss: 0.1392, Train MSE: 0.1392, Train MAE: 0.2745\n",
      "Epoch 1610 - Validation Loss: 0.7269, Validation MSE: 0.7269, Validation MAE: 0.6289\n"
     ]
    },
    {
     "name": "stderr",
     "output_type": "stream",
     "text": [
      "Training Epoch 1612: 100%|██████████| 901/901 [00:31<00:00, 28.96it/s]\n",
      "Training Epoch 1613: 100%|██████████| 901/901 [00:30<00:00, 29.75it/s]\n",
      "Training Epoch 1614: 100%|██████████| 901/901 [00:30<00:00, 29.63it/s]\n",
      "Training Epoch 1615: 100%|██████████| 901/901 [00:30<00:00, 29.83it/s]\n",
      "Training Epoch 1616: 100%|██████████| 901/901 [00:30<00:00, 29.94it/s]\n",
      "Training Epoch 1617: 100%|██████████| 901/901 [00:34<00:00, 26.15it/s]\n",
      "Training Epoch 1618: 100%|██████████| 901/901 [00:32<00:00, 27.66it/s]\n",
      "Training Epoch 1619: 100%|██████████| 901/901 [00:34<00:00, 25.92it/s]\n",
      "Training Epoch 1620: 100%|██████████| 901/901 [00:41<00:00, 21.87it/s]\n",
      "Training Epoch 1621: 100%|██████████| 901/901 [00:40<00:00, 22.40it/s]\n"
     ]
    },
    {
     "name": "stdout",
     "output_type": "stream",
     "text": [
      "Epoch 1620 - Train Loss: 0.1391, Train MSE: 0.1390, Train MAE: 0.2737\n",
      "Epoch 1620 - Validation Loss: 0.7222, Validation MSE: 0.7222, Validation MAE: 0.6286\n"
     ]
    },
    {
     "name": "stderr",
     "output_type": "stream",
     "text": [
      "Training Epoch 1622: 100%|██████████| 901/901 [00:45<00:00, 19.88it/s]\n",
      "Training Epoch 1623: 100%|██████████| 901/901 [00:47<00:00, 19.03it/s]\n",
      "Training Epoch 1624: 100%|██████████| 901/901 [00:48<00:00, 18.66it/s]\n",
      "Training Epoch 1625: 100%|██████████| 901/901 [00:47<00:00, 18.99it/s]\n",
      "Training Epoch 1626: 100%|██████████| 901/901 [00:48<00:00, 18.77it/s]\n",
      "Training Epoch 1627: 100%|██████████| 901/901 [42:23<00:00,  2.82s/it]   \n",
      "Training Epoch 1628: 100%|██████████| 901/901 [1:48:21<00:00,  7.22s/it]    \n",
      "Training Epoch 1629: 100%|██████████| 901/901 [20:14<00:00,  1.35s/it]    \n",
      "Training Epoch 1630: 100%|██████████| 901/901 [00:47<00:00, 18.84it/s]\n",
      "Training Epoch 1631: 100%|██████████| 901/901 [00:49<00:00, 18.05it/s]\n"
     ]
    },
    {
     "name": "stdout",
     "output_type": "stream",
     "text": [
      "Epoch 1630 - Train Loss: 0.1394, Train MSE: 0.1394, Train MAE: 0.2734\n",
      "Epoch 1630 - Validation Loss: 0.7269, Validation MSE: 0.7269, Validation MAE: 0.6307\n"
     ]
    },
    {
     "name": "stderr",
     "output_type": "stream",
     "text": [
      "Training Epoch 1632: 100%|██████████| 901/901 [00:45<00:00, 20.00it/s]\n",
      "Training Epoch 1633: 100%|██████████| 901/901 [00:43<00:00, 20.65it/s]\n",
      "Training Epoch 1634: 100%|██████████| 901/901 [00:43<00:00, 20.55it/s]\n",
      "Training Epoch 1635: 100%|██████████| 901/901 [00:43<00:00, 20.59it/s]\n",
      "Training Epoch 1636: 100%|██████████| 901/901 [00:43<00:00, 20.76it/s]\n",
      "Training Epoch 1637: 100%|██████████| 901/901 [01:28<00:00, 10.19it/s]\n",
      "Training Epoch 1638: 100%|██████████| 901/901 [01:02<00:00, 14.48it/s]\n",
      "Training Epoch 1639: 100%|██████████| 901/901 [01:10<00:00, 12.72it/s]\n",
      "Training Epoch 1640: 100%|██████████| 901/901 [01:22<00:00, 10.90it/s]\n",
      "Training Epoch 1641: 100%|██████████| 901/901 [01:16<00:00, 11.80it/s]\n"
     ]
    },
    {
     "name": "stdout",
     "output_type": "stream",
     "text": [
      "Epoch 1640 - Train Loss: 0.1371, Train MSE: 0.1370, Train MAE: 0.2724\n",
      "Epoch 1640 - Validation Loss: 0.7309, Validation MSE: 0.7309, Validation MAE: 0.6306\n"
     ]
    },
    {
     "name": "stderr",
     "output_type": "stream",
     "text": [
      "Training Epoch 1642: 100%|██████████| 901/901 [30:52<00:00,  2.06s/it]    \n",
      "Training Epoch 1643: 100%|██████████| 901/901 [1:07:08<00:00,  4.47s/it]   \n",
      "Training Epoch 1644: 100%|██████████| 901/901 [04:43<00:00,  3.17it/s]  \n",
      "Training Epoch 1645: 100%|██████████| 901/901 [01:05<00:00, 13.75it/s]\n",
      "Training Epoch 1646: 100%|██████████| 901/901 [01:05<00:00, 13.86it/s]\n",
      "Training Epoch 1647: 100%|██████████| 901/901 [01:04<00:00, 13.93it/s]\n",
      "Training Epoch 1648: 100%|██████████| 901/901 [01:04<00:00, 14.03it/s]\n",
      "Training Epoch 1649: 100%|██████████| 901/901 [01:04<00:00, 14.08it/s]\n",
      "Training Epoch 1650: 100%|██████████| 901/901 [01:04<00:00, 14.03it/s]\n",
      "Training Epoch 1651: 100%|██████████| 901/901 [01:04<00:00, 13.98it/s]\n"
     ]
    },
    {
     "name": "stdout",
     "output_type": "stream",
     "text": [
      "Epoch 1650 - Train Loss: 0.1376, Train MSE: 0.1376, Train MAE: 0.2726\n",
      "Epoch 1650 - Validation Loss: 0.7283, Validation MSE: 0.7283, Validation MAE: 0.6314\n"
     ]
    },
    {
     "name": "stderr",
     "output_type": "stream",
     "text": [
      "Training Epoch 1652: 100%|██████████| 901/901 [01:05<00:00, 13.76it/s]\n",
      "Training Epoch 1653: 100%|██████████| 901/901 [01:01<00:00, 14.59it/s]\n",
      "Training Epoch 1654: 100%|██████████| 901/901 [00:58<00:00, 15.44it/s]\n",
      "Training Epoch 1655: 100%|██████████| 901/901 [00:58<00:00, 15.48it/s]\n",
      "Training Epoch 1656: 100%|██████████| 901/901 [00:58<00:00, 15.34it/s]\n",
      "Training Epoch 1657: 100%|██████████| 901/901 [00:58<00:00, 15.44it/s]\n",
      "Training Epoch 1658: 100%|██████████| 901/901 [00:58<00:00, 15.49it/s]\n",
      "Training Epoch 1659: 100%|██████████| 901/901 [00:58<00:00, 15.47it/s]\n",
      "Training Epoch 1660: 100%|██████████| 901/901 [00:58<00:00, 15.43it/s]\n",
      "Training Epoch 1661: 100%|██████████| 901/901 [00:58<00:00, 15.43it/s]\n"
     ]
    },
    {
     "name": "stdout",
     "output_type": "stream",
     "text": [
      "Epoch 1660 - Train Loss: 0.1370, Train MSE: 0.1370, Train MAE: 0.2720\n",
      "Epoch 1660 - Validation Loss: 0.7329, Validation MSE: 0.7329, Validation MAE: 0.6337\n"
     ]
    },
    {
     "name": "stderr",
     "output_type": "stream",
     "text": [
      "Training Epoch 1662: 100%|██████████| 901/901 [00:58<00:00, 15.47it/s]\n",
      "Training Epoch 1663: 100%|██████████| 901/901 [01:07<00:00, 13.43it/s]\n",
      "Training Epoch 1664: 100%|██████████| 901/901 [00:59<00:00, 15.04it/s]\n",
      "Training Epoch 1665: 100%|██████████| 901/901 [01:01<00:00, 14.76it/s]\n",
      "Training Epoch 1666: 100%|██████████| 901/901 [01:03<00:00, 14.22it/s]\n",
      "Training Epoch 1667: 100%|██████████| 901/901 [01:01<00:00, 14.56it/s]\n",
      "Training Epoch 1668: 100%|██████████| 901/901 [00:59<00:00, 15.06it/s]\n",
      "Training Epoch 1669: 100%|██████████| 901/901 [00:58<00:00, 15.33it/s]\n",
      "Training Epoch 1670: 100%|██████████| 901/901 [00:59<00:00, 15.17it/s]\n",
      "Training Epoch 1671: 100%|██████████| 901/901 [00:58<00:00, 15.33it/s]\n"
     ]
    },
    {
     "name": "stdout",
     "output_type": "stream",
     "text": [
      "Epoch 1670 - Train Loss: 0.1374, Train MSE: 0.1374, Train MAE: 0.2726\n",
      "Epoch 1670 - Validation Loss: 0.7201, Validation MSE: 0.7201, Validation MAE: 0.6278\n"
     ]
    },
    {
     "name": "stderr",
     "output_type": "stream",
     "text": [
      "Training Epoch 1672: 100%|██████████| 901/901 [01:01<00:00, 14.67it/s]\n",
      "Training Epoch 1673: 100%|██████████| 901/901 [01:00<00:00, 14.94it/s]\n",
      "Training Epoch 1674: 100%|██████████| 901/901 [01:07<00:00, 13.34it/s]\n",
      "Training Epoch 1675: 100%|██████████| 901/901 [01:10<00:00, 12.71it/s]\n",
      "Training Epoch 1676: 100%|██████████| 901/901 [01:22<00:00, 10.91it/s]\n",
      "Training Epoch 1677: 100%|██████████| 901/901 [01:31<00:00,  9.88it/s]\n",
      "Training Epoch 1678: 100%|██████████| 901/901 [01:15<00:00, 11.86it/s]\n",
      "Training Epoch 1679: 100%|██████████| 901/901 [17:25<00:00,  1.16s/it]    \n",
      "Training Epoch 1680: 100%|██████████| 901/901 [01:30<00:00,  9.97it/s]\n",
      "Training Epoch 1681: 100%|██████████| 901/901 [01:32<00:00,  9.73it/s]\n"
     ]
    },
    {
     "name": "stdout",
     "output_type": "stream",
     "text": [
      "Epoch 1680 - Train Loss: 0.1368, Train MSE: 0.1368, Train MAE: 0.2721\n",
      "Epoch 1680 - Validation Loss: 0.7373, Validation MSE: 0.7373, Validation MAE: 0.6332\n"
     ]
    },
    {
     "name": "stderr",
     "output_type": "stream",
     "text": [
      "Training Epoch 1682: 100%|██████████| 901/901 [05:34<00:00,  2.69it/s]\n",
      "Training Epoch 1683: 100%|██████████| 901/901 [01:30<00:00,  9.99it/s]\n",
      "Training Epoch 1684: 100%|██████████| 901/901 [01:31<00:00,  9.81it/s]\n",
      "Training Epoch 1685: 100%|██████████| 901/901 [01:31<00:00,  9.86it/s]\n",
      "Training Epoch 1686: 100%|██████████| 901/901 [01:31<00:00,  9.89it/s]\n",
      "Training Epoch 1687: 100%|██████████| 901/901 [02:40<00:00,  5.60it/s]\n",
      "Training Epoch 1688: 100%|██████████| 901/901 [01:09<00:00, 12.96it/s]\n",
      "Training Epoch 1689: 100%|██████████| 901/901 [00:59<00:00, 15.14it/s]\n",
      "Training Epoch 1690: 100%|██████████| 901/901 [00:59<00:00, 15.11it/s]\n",
      "Training Epoch 1691: 100%|██████████| 901/901 [01:00<00:00, 14.99it/s]\n"
     ]
    },
    {
     "name": "stdout",
     "output_type": "stream",
     "text": [
      "Epoch 1690 - Train Loss: 0.1384, Train MSE: 0.1384, Train MAE: 0.2732\n",
      "Epoch 1690 - Validation Loss: 0.7343, Validation MSE: 0.7343, Validation MAE: 0.6300\n"
     ]
    },
    {
     "name": "stderr",
     "output_type": "stream",
     "text": [
      "Training Epoch 1692: 100%|██████████| 901/901 [00:59<00:00, 15.12it/s]\n",
      "Training Epoch 1693: 100%|██████████| 901/901 [00:59<00:00, 15.24it/s]\n",
      "Training Epoch 1694: 100%|██████████| 901/901 [00:59<00:00, 15.16it/s]\n",
      "Training Epoch 1695: 100%|██████████| 901/901 [00:59<00:00, 15.14it/s]\n",
      "Training Epoch 1696: 100%|██████████| 901/901 [16:49<00:00,  1.12s/it]    \n",
      "Training Epoch 1697: 100%|██████████| 901/901 [33:11<00:00,  2.21s/it]    \n",
      "Training Epoch 1698: 100%|██████████| 901/901 [19:00<00:00,  1.27s/it]    \n",
      "Training Epoch 1699: 100%|██████████| 901/901 [16:50<00:00,  1.12s/it]    \n",
      "Training Epoch 1700: 100%|██████████| 901/901 [16:58<00:00,  1.13s/it]    \n",
      "Training Epoch 1701: 100%|██████████| 901/901 [01:26<00:00, 10.36it/s]\n"
     ]
    },
    {
     "name": "stdout",
     "output_type": "stream",
     "text": [
      "Epoch 1700 - Train Loss: 0.1344, Train MSE: 0.1344, Train MAE: 0.2705\n",
      "Epoch 1700 - Validation Loss: 0.7328, Validation MSE: 0.7328, Validation MAE: 0.6301\n"
     ]
    },
    {
     "name": "stderr",
     "output_type": "stream",
     "text": [
      "Training Epoch 1702: 100%|██████████| 901/901 [17:56<00:00,  1.20s/it]    \n",
      "Training Epoch 1703: 100%|██████████| 901/901 [33:35<00:00,  2.24s/it]   \n",
      "Training Epoch 1704: 100%|██████████| 901/901 [33:05<00:00,  2.20s/it]    \n",
      "Training Epoch 1705: 100%|██████████| 901/901 [17:39<00:00,  1.18s/it]    \n",
      "Training Epoch 1706: 100%|██████████| 901/901 [01:26<00:00, 10.36it/s]\n",
      "Training Epoch 1707: 100%|██████████| 901/901 [01:27<00:00, 10.26it/s]\n",
      "Training Epoch 1708: 100%|██████████| 901/901 [17:57<00:00,  1.20s/it]    \n",
      "Training Epoch 1709: 100%|██████████| 901/901 [32:11<00:00,  2.14s/it]    \n",
      "Training Epoch 1710: 100%|██████████| 901/901 [06:39<00:00,  2.26it/s]  \n",
      "Training Epoch 1711: 100%|██████████| 901/901 [32:42<00:00,  2.18s/it]    \n"
     ]
    },
    {
     "name": "stdout",
     "output_type": "stream",
     "text": [
      "Epoch 1710 - Train Loss: 0.1377, Train MSE: 0.1377, Train MAE: 0.2714\n",
      "Epoch 1710 - Validation Loss: 0.7305, Validation MSE: 0.7305, Validation MAE: 0.6306\n"
     ]
    },
    {
     "name": "stderr",
     "output_type": "stream",
     "text": [
      "Training Epoch 1712: 100%|██████████| 901/901 [17:11<00:00,  1.14s/it]    \n",
      "Training Epoch 1713: 100%|██████████| 901/901 [33:29<00:00,  2.23s/it]    \n",
      "Training Epoch 1714: 100%|██████████| 901/901 [17:12<00:00,  1.15s/it]    \n",
      "Training Epoch 1715: 100%|██████████| 901/901 [01:32<00:00,  9.75it/s]\n",
      "Training Epoch 1716: 100%|██████████| 901/901 [01:21<00:00, 11.06it/s]\n",
      "Training Epoch 1717: 100%|██████████| 901/901 [17:41<00:00,  1.18s/it]    \n",
      "Training Epoch 1718: 100%|██████████| 901/901 [24:00<00:00,  1.60s/it]   \n",
      "Training Epoch 1719: 100%|██████████| 901/901 [01:27<00:00, 10.29it/s]\n",
      "Training Epoch 1720: 100%|██████████| 901/901 [17:52<00:00,  1.19s/it]    \n",
      "Training Epoch 1721: 100%|██████████| 901/901 [01:19<00:00, 11.36it/s]\n"
     ]
    },
    {
     "name": "stdout",
     "output_type": "stream",
     "text": [
      "Epoch 1720 - Train Loss: 0.1380, Train MSE: 0.1380, Train MAE: 0.2724\n",
      "Epoch 1720 - Validation Loss: 0.7250, Validation MSE: 0.7250, Validation MAE: 0.6280\n"
     ]
    },
    {
     "name": "stderr",
     "output_type": "stream",
     "text": [
      "Training Epoch 1722: 100%|██████████| 901/901 [01:19<00:00, 11.39it/s]\n",
      "Training Epoch 1723: 100%|██████████| 901/901 [01:18<00:00, 11.50it/s]\n",
      "Training Epoch 1724: 100%|██████████| 901/901 [01:14<00:00, 12.17it/s]\n",
      "Training Epoch 1725: 100%|██████████| 901/901 [01:10<00:00, 12.70it/s]\n",
      "Training Epoch 1726: 100%|██████████| 901/901 [01:10<00:00, 12.87it/s]\n",
      "Training Epoch 1727: 100%|██████████| 901/901 [01:11<00:00, 12.68it/s]\n",
      "Training Epoch 1728: 100%|██████████| 901/901 [01:12<00:00, 12.44it/s]\n",
      "Training Epoch 1729: 100%|██████████| 901/901 [01:11<00:00, 12.63it/s]\n",
      "Training Epoch 1730: 100%|██████████| 901/901 [01:13<00:00, 12.34it/s]\n",
      "Training Epoch 1731: 100%|██████████| 901/901 [02:14<00:00,  6.68it/s]\n"
     ]
    },
    {
     "name": "stdout",
     "output_type": "stream",
     "text": [
      "Epoch 1730 - Train Loss: 0.1377, Train MSE: 0.1377, Train MAE: 0.2724\n",
      "Epoch 1730 - Validation Loss: 0.7219, Validation MSE: 0.7219, Validation MAE: 0.6272\n"
     ]
    },
    {
     "name": "stderr",
     "output_type": "stream",
     "text": [
      "Training Epoch 1732: 100%|██████████| 901/901 [03:01<00:00,  4.97it/s]\n",
      "Training Epoch 1733: 100%|██████████| 901/901 [03:29<00:00,  4.31it/s]\n",
      "Training Epoch 1734: 100%|██████████| 901/901 [03:56<00:00,  3.81it/s]\n",
      "Training Epoch 1735: 100%|██████████| 901/901 [03:41<00:00,  4.06it/s]\n",
      "Training Epoch 1736: 100%|██████████| 901/901 [01:59<00:00,  7.52it/s]\n",
      "Training Epoch 1737: 100%|██████████| 901/901 [01:52<00:00,  8.01it/s]\n",
      "Training Epoch 1738: 100%|██████████| 901/901 [01:51<00:00,  8.09it/s]\n",
      "Training Epoch 1739: 100%|██████████| 901/901 [01:52<00:00,  8.03it/s]\n",
      "Training Epoch 1740: 100%|██████████| 901/901 [01:56<00:00,  7.75it/s]\n",
      "Training Epoch 1741: 100%|██████████| 901/901 [01:55<00:00,  7.80it/s]\n"
     ]
    },
    {
     "name": "stdout",
     "output_type": "stream",
     "text": [
      "Epoch 1740 - Train Loss: 0.1340, Train MSE: 0.1340, Train MAE: 0.2682\n",
      "Epoch 1740 - Validation Loss: 0.7207, Validation MSE: 0.7207, Validation MAE: 0.6264\n"
     ]
    },
    {
     "name": "stderr",
     "output_type": "stream",
     "text": [
      "Training Epoch 1742: 100%|██████████| 901/901 [01:59<00:00,  7.57it/s]\n",
      "Training Epoch 1743: 100%|██████████| 901/901 [02:07<00:00,  7.08it/s]\n",
      "Training Epoch 1744: 100%|██████████| 901/901 [16:57<00:00,  1.13s/it]    \n",
      "Training Epoch 1745: 100%|██████████| 901/901 [01:10<00:00, 12.73it/s]\n",
      "Training Epoch 1746: 100%|██████████| 901/901 [01:11<00:00, 12.62it/s]\n",
      "Training Epoch 1747: 100%|██████████| 901/901 [01:11<00:00, 12.61it/s]\n",
      "Training Epoch 1748: 100%|██████████| 901/901 [01:11<00:00, 12.53it/s]\n",
      "Training Epoch 1749: 100%|██████████| 901/901 [01:13<00:00, 12.32it/s]\n",
      "Training Epoch 1750: 100%|██████████| 901/901 [16:23<00:00,  1.09s/it]    \n",
      "Training Epoch 1751: 100%|██████████| 901/901 [33:04<00:00,  2.20s/it]    \n"
     ]
    },
    {
     "name": "stdout",
     "output_type": "stream",
     "text": [
      "Epoch 1750 - Train Loss: 0.1380, Train MSE: 0.1380, Train MAE: 0.2722\n",
      "Epoch 1750 - Validation Loss: 0.7272, Validation MSE: 0.7272, Validation MAE: 0.6281\n"
     ]
    },
    {
     "name": "stderr",
     "output_type": "stream",
     "text": [
      "Training Epoch 1752: 100%|██████████| 901/901 [03:17<00:00,  4.56it/s]  \n",
      "Training Epoch 1753: 100%|██████████| 901/901 [00:46<00:00, 19.55it/s]\n",
      "Training Epoch 1754: 100%|██████████| 901/901 [00:46<00:00, 19.17it/s]\n",
      "Training Epoch 1755: 100%|██████████| 901/901 [00:50<00:00, 17.82it/s]\n",
      "Training Epoch 1756: 100%|██████████| 901/901 [00:47<00:00, 18.79it/s]\n",
      "Training Epoch 1757: 100%|██████████| 901/901 [00:48<00:00, 18.62it/s]\n",
      "Training Epoch 1758: 100%|██████████| 901/901 [00:50<00:00, 17.88it/s]\n",
      "Training Epoch 1759: 100%|██████████| 901/901 [00:48<00:00, 18.76it/s]\n",
      "Training Epoch 1760: 100%|██████████| 901/901 [00:49<00:00, 18.30it/s]\n",
      "Training Epoch 1761: 100%|██████████| 901/901 [00:45<00:00, 19.59it/s]\n"
     ]
    },
    {
     "name": "stdout",
     "output_type": "stream",
     "text": [
      "Epoch 1760 - Train Loss: 0.1352, Train MSE: 0.1352, Train MAE: 0.2707\n",
      "Epoch 1760 - Validation Loss: 0.7341, Validation MSE: 0.7341, Validation MAE: 0.6329\n"
     ]
    },
    {
     "name": "stderr",
     "output_type": "stream",
     "text": [
      "Training Epoch 1762: 100%|██████████| 901/901 [00:45<00:00, 20.02it/s]\n",
      "Training Epoch 1763: 100%|██████████| 901/901 [00:46<00:00, 19.55it/s]\n",
      "Training Epoch 1764: 100%|██████████| 901/901 [00:50<00:00, 17.94it/s]\n",
      "Training Epoch 1765: 100%|██████████| 901/901 [00:48<00:00, 18.74it/s]\n",
      "Training Epoch 1766: 100%|██████████| 901/901 [00:47<00:00, 18.85it/s]\n",
      "Training Epoch 1767: 100%|██████████| 901/901 [00:47<00:00, 18.88it/s]\n",
      "Training Epoch 1768: 100%|██████████| 901/901 [00:47<00:00, 18.82it/s]\n",
      "Training Epoch 1769: 100%|██████████| 901/901 [00:48<00:00, 18.70it/s]\n",
      "Training Epoch 1770: 100%|██████████| 901/901 [00:46<00:00, 19.21it/s]\n",
      "Training Epoch 1771: 100%|██████████| 901/901 [00:47<00:00, 19.07it/s]\n"
     ]
    },
    {
     "name": "stdout",
     "output_type": "stream",
     "text": [
      "Epoch 1770 - Train Loss: 0.1333, Train MSE: 0.1333, Train MAE: 0.2693\n",
      "Epoch 1770 - Validation Loss: 0.7262, Validation MSE: 0.7262, Validation MAE: 0.6276\n"
     ]
    },
    {
     "name": "stderr",
     "output_type": "stream",
     "text": [
      "Training Epoch 1772: 100%|██████████| 901/901 [00:46<00:00, 19.31it/s]\n",
      "Training Epoch 1773: 100%|██████████| 901/901 [00:47<00:00, 19.15it/s]\n",
      "Training Epoch 1774: 100%|██████████| 901/901 [00:47<00:00, 19.04it/s]\n",
      "Training Epoch 1775: 100%|██████████| 901/901 [00:47<00:00, 19.07it/s]\n",
      "Training Epoch 1776: 100%|██████████| 901/901 [00:46<00:00, 19.18it/s]\n",
      "Training Epoch 1777: 100%|██████████| 901/901 [00:46<00:00, 19.27it/s]\n",
      "Training Epoch 1778: 100%|██████████| 901/901 [00:47<00:00, 19.12it/s]\n",
      "Training Epoch 1779: 100%|██████████| 901/901 [00:46<00:00, 19.17it/s]\n",
      "Training Epoch 1780: 100%|██████████| 901/901 [00:47<00:00, 18.88it/s]\n",
      "Training Epoch 1781: 100%|██████████| 901/901 [00:47<00:00, 19.04it/s]\n"
     ]
    },
    {
     "name": "stdout",
     "output_type": "stream",
     "text": [
      "Epoch 1780 - Train Loss: 0.1345, Train MSE: 0.1346, Train MAE: 0.2689\n",
      "Epoch 1780 - Validation Loss: 0.7199, Validation MSE: 0.7199, Validation MAE: 0.6258\n"
     ]
    },
    {
     "name": "stderr",
     "output_type": "stream",
     "text": [
      "Training Epoch 1782: 100%|██████████| 901/901 [00:47<00:00, 19.00it/s]\n",
      "Training Epoch 1783: 100%|██████████| 901/901 [00:47<00:00, 19.00it/s]\n",
      "Training Epoch 1784: 100%|██████████| 901/901 [00:47<00:00, 19.02it/s]\n",
      "Training Epoch 1785: 100%|██████████| 901/901 [00:47<00:00, 18.99it/s]\n",
      "Training Epoch 1786: 100%|██████████| 901/901 [00:46<00:00, 19.29it/s]\n",
      "Training Epoch 1787: 100%|██████████| 901/901 [00:47<00:00, 19.01it/s]\n",
      "Training Epoch 1788: 100%|██████████| 901/901 [00:47<00:00, 19.04it/s]\n",
      "Training Epoch 1789: 100%|██████████| 901/901 [00:47<00:00, 19.15it/s]\n",
      "Training Epoch 1790: 100%|██████████| 901/901 [00:46<00:00, 19.23it/s]\n",
      "Training Epoch 1791: 100%|██████████| 901/901 [00:46<00:00, 19.26it/s]\n"
     ]
    },
    {
     "name": "stdout",
     "output_type": "stream",
     "text": [
      "Epoch 1790 - Train Loss: 0.1360, Train MSE: 0.1360, Train MAE: 0.2702\n",
      "Epoch 1790 - Validation Loss: 0.7195, Validation MSE: 0.7195, Validation MAE: 0.6261\n"
     ]
    },
    {
     "name": "stderr",
     "output_type": "stream",
     "text": [
      "Training Epoch 1792: 100%|██████████| 901/901 [00:46<00:00, 19.49it/s]\n",
      "Training Epoch 1793: 100%|██████████| 901/901 [00:46<00:00, 19.38it/s]\n",
      "Training Epoch 1794: 100%|██████████| 901/901 [00:46<00:00, 19.22it/s]\n",
      "Training Epoch 1795: 100%|██████████| 901/901 [00:46<00:00, 19.24it/s]\n",
      "Training Epoch 1796: 100%|██████████| 901/901 [00:46<00:00, 19.27it/s]\n",
      "Training Epoch 1797: 100%|██████████| 901/901 [00:46<00:00, 19.48it/s]\n",
      "Training Epoch 1798: 100%|██████████| 901/901 [00:47<00:00, 19.15it/s]\n",
      "Training Epoch 1799: 100%|██████████| 901/901 [00:46<00:00, 19.36it/s]\n",
      "Training Epoch 1800: 100%|██████████| 901/901 [00:46<00:00, 19.19it/s]\n",
      "Training Epoch 1801: 100%|██████████| 901/901 [00:46<00:00, 19.27it/s]\n"
     ]
    },
    {
     "name": "stdout",
     "output_type": "stream",
     "text": [
      "Epoch 1800 - Train Loss: 0.1355, Train MSE: 0.1355, Train MAE: 0.2700\n",
      "Epoch 1800 - Validation Loss: 0.7263, Validation MSE: 0.7263, Validation MAE: 0.6291\n"
     ]
    },
    {
     "name": "stderr",
     "output_type": "stream",
     "text": [
      "Training Epoch 1802: 100%|██████████| 901/901 [00:47<00:00, 19.14it/s]\n",
      "Training Epoch 1803: 100%|██████████| 901/901 [00:46<00:00, 19.25it/s]\n",
      "Training Epoch 1804: 100%|██████████| 901/901 [00:46<00:00, 19.34it/s]\n",
      "Training Epoch 1805: 100%|██████████| 901/901 [00:46<00:00, 19.27it/s]\n",
      "Training Epoch 1806: 100%|██████████| 901/901 [00:46<00:00, 19.43it/s]\n",
      "Training Epoch 1807: 100%|██████████| 901/901 [00:46<00:00, 19.27it/s]\n",
      "Training Epoch 1808: 100%|██████████| 901/901 [00:46<00:00, 19.36it/s]\n",
      "Training Epoch 1809: 100%|██████████| 901/901 [00:47<00:00, 19.00it/s]\n",
      "Training Epoch 1810: 100%|██████████| 901/901 [00:48<00:00, 18.49it/s]\n",
      "Training Epoch 1811: 100%|██████████| 901/901 [00:47<00:00, 19.01it/s]\n"
     ]
    },
    {
     "name": "stdout",
     "output_type": "stream",
     "text": [
      "Epoch 1810 - Train Loss: 0.1365, Train MSE: 0.1365, Train MAE: 0.2709\n",
      "Epoch 1810 - Validation Loss: 0.7186, Validation MSE: 0.7186, Validation MAE: 0.6259\n"
     ]
    },
    {
     "name": "stderr",
     "output_type": "stream",
     "text": [
      "Training Epoch 1812: 100%|██████████| 901/901 [00:47<00:00, 19.03it/s]\n",
      "Training Epoch 1813: 100%|██████████| 901/901 [00:47<00:00, 19.05it/s]\n",
      "Training Epoch 1814: 100%|██████████| 901/901 [00:47<00:00, 19.07it/s]\n",
      "Training Epoch 1815: 100%|██████████| 901/901 [00:46<00:00, 19.24it/s]\n",
      "Training Epoch 1816: 100%|██████████| 901/901 [00:47<00:00, 19.07it/s]\n",
      "Training Epoch 1817: 100%|██████████| 901/901 [00:47<00:00, 19.07it/s]\n",
      "Training Epoch 1818: 100%|██████████| 901/901 [00:47<00:00, 19.06it/s]\n",
      "Training Epoch 1819: 100%|██████████| 901/901 [00:47<00:00, 19.14it/s]\n",
      "Training Epoch 1820: 100%|██████████| 901/901 [00:47<00:00, 18.97it/s]\n",
      "Training Epoch 1821: 100%|██████████| 901/901 [00:47<00:00, 19.13it/s]\n"
     ]
    },
    {
     "name": "stdout",
     "output_type": "stream",
     "text": [
      "Epoch 1820 - Train Loss: 0.1344, Train MSE: 0.1344, Train MAE: 0.2686\n",
      "Epoch 1820 - Validation Loss: 0.7288, Validation MSE: 0.7288, Validation MAE: 0.6295\n"
     ]
    },
    {
     "name": "stderr",
     "output_type": "stream",
     "text": [
      "Training Epoch 1822: 100%|██████████| 901/901 [00:47<00:00, 18.96it/s]\n",
      "Training Epoch 1823: 100%|██████████| 901/901 [00:47<00:00, 19.05it/s]\n",
      "Training Epoch 1824: 100%|██████████| 901/901 [00:47<00:00, 19.02it/s]\n",
      "Training Epoch 1825: 100%|██████████| 901/901 [00:47<00:00, 19.00it/s]\n",
      "Training Epoch 1826: 100%|██████████| 901/901 [00:47<00:00, 18.91it/s]\n",
      "Training Epoch 1827: 100%|██████████| 901/901 [00:46<00:00, 19.39it/s]\n",
      "Training Epoch 1828: 100%|██████████| 901/901 [00:46<00:00, 19.34it/s]\n",
      "Training Epoch 1829: 100%|██████████| 901/901 [00:46<00:00, 19.42it/s]\n",
      "Training Epoch 1830: 100%|██████████| 901/901 [00:46<00:00, 19.29it/s]\n",
      "Training Epoch 1831: 100%|██████████| 901/901 [00:47<00:00, 19.15it/s]\n"
     ]
    },
    {
     "name": "stdout",
     "output_type": "stream",
     "text": [
      "Epoch 1830 - Train Loss: 0.1352, Train MSE: 0.1353, Train MAE: 0.2700\n",
      "Epoch 1830 - Validation Loss: 0.7183, Validation MSE: 0.7183, Validation MAE: 0.6265\n"
     ]
    },
    {
     "name": "stderr",
     "output_type": "stream",
     "text": [
      "Training Epoch 1832: 100%|██████████| 901/901 [00:46<00:00, 19.25it/s]\n",
      "Training Epoch 1833: 100%|██████████| 901/901 [00:46<00:00, 19.28it/s]\n",
      "Training Epoch 1834: 100%|██████████| 901/901 [00:46<00:00, 19.25it/s]\n",
      "Training Epoch 1835: 100%|██████████| 901/901 [00:46<00:00, 19.36it/s]\n",
      "Training Epoch 1836: 100%|██████████| 901/901 [00:46<00:00, 19.39it/s]\n",
      "Training Epoch 1837: 100%|██████████| 901/901 [00:46<00:00, 19.17it/s]\n",
      "Training Epoch 1838: 100%|██████████| 901/901 [00:46<00:00, 19.37it/s]\n",
      "Training Epoch 1839: 100%|██████████| 901/901 [00:46<00:00, 19.22it/s]\n",
      "Training Epoch 1840: 100%|██████████| 901/901 [00:46<00:00, 19.29it/s]\n",
      "Training Epoch 1841: 100%|██████████| 901/901 [00:41<00:00, 21.85it/s]\n"
     ]
    },
    {
     "name": "stdout",
     "output_type": "stream",
     "text": [
      "Epoch 1840 - Train Loss: 0.1333, Train MSE: 0.1333, Train MAE: 0.2678\n",
      "Epoch 1840 - Validation Loss: 0.7217, Validation MSE: 0.7217, Validation MAE: 0.6279\n"
     ]
    },
    {
     "name": "stderr",
     "output_type": "stream",
     "text": [
      "Training Epoch 1842: 100%|██████████| 901/901 [00:40<00:00, 22.21it/s]\n",
      "Training Epoch 1843: 100%|██████████| 901/901 [00:39<00:00, 22.58it/s]\n",
      "Training Epoch 1844: 100%|██████████| 901/901 [00:38<00:00, 23.53it/s]\n",
      "Training Epoch 1845: 100%|██████████| 901/901 [00:38<00:00, 23.64it/s]\n",
      "Training Epoch 1846: 100%|██████████| 901/901 [00:38<00:00, 23.36it/s]\n",
      "Training Epoch 1847: 100%|██████████| 901/901 [00:37<00:00, 23.79it/s]\n",
      "Training Epoch 1848: 100%|██████████| 901/901 [00:38<00:00, 23.48it/s]\n",
      "Training Epoch 1849: 100%|██████████| 901/901 [00:38<00:00, 23.57it/s]\n",
      "Training Epoch 1850: 100%|██████████| 901/901 [00:38<00:00, 23.31it/s]\n",
      "Training Epoch 1851: 100%|██████████| 901/901 [00:38<00:00, 23.65it/s]\n"
     ]
    },
    {
     "name": "stdout",
     "output_type": "stream",
     "text": [
      "Epoch 1850 - Train Loss: 0.1356, Train MSE: 0.1356, Train MAE: 0.2698\n",
      "Epoch 1850 - Validation Loss: 0.7210, Validation MSE: 0.7210, Validation MAE: 0.6282\n"
     ]
    },
    {
     "name": "stderr",
     "output_type": "stream",
     "text": [
      "Training Epoch 1852: 100%|██████████| 901/901 [00:37<00:00, 23.74it/s]\n",
      "Training Epoch 1853: 100%|██████████| 901/901 [00:38<00:00, 23.48it/s]\n",
      "Training Epoch 1854: 100%|██████████| 901/901 [00:38<00:00, 23.57it/s]\n",
      "Training Epoch 1855: 100%|██████████| 901/901 [00:37<00:00, 23.84it/s]\n",
      "Training Epoch 1856: 100%|██████████| 901/901 [00:38<00:00, 23.69it/s]\n",
      "Training Epoch 1857: 100%|██████████| 901/901 [00:37<00:00, 23.71it/s]\n",
      "Training Epoch 1858: 100%|██████████| 901/901 [00:37<00:00, 23.86it/s]\n",
      "Training Epoch 1859: 100%|██████████| 901/901 [00:37<00:00, 23.88it/s]\n",
      "Training Epoch 1860: 100%|██████████| 901/901 [00:38<00:00, 23.61it/s]\n",
      "Training Epoch 1861: 100%|██████████| 901/901 [00:37<00:00, 23.79it/s]\n"
     ]
    },
    {
     "name": "stdout",
     "output_type": "stream",
     "text": [
      "Epoch 1860 - Train Loss: 0.1359, Train MSE: 0.1358, Train MAE: 0.2695\n",
      "Epoch 1860 - Validation Loss: 0.7315, Validation MSE: 0.7315, Validation MAE: 0.6290\n"
     ]
    },
    {
     "name": "stderr",
     "output_type": "stream",
     "text": [
      "Training Epoch 1862: 100%|██████████| 901/901 [00:37<00:00, 23.81it/s]\n",
      "Training Epoch 1863: 100%|██████████| 901/901 [00:37<00:00, 23.72it/s]\n",
      "Training Epoch 1864: 100%|██████████| 901/901 [00:37<00:00, 23.76it/s]\n",
      "Training Epoch 1865: 100%|██████████| 901/901 [00:37<00:00, 23.72it/s]\n",
      "Training Epoch 1866: 100%|██████████| 901/901 [00:38<00:00, 23.63it/s]\n",
      "Training Epoch 1867: 100%|██████████| 901/901 [00:37<00:00, 23.73it/s]\n",
      "Training Epoch 1868: 100%|██████████| 901/901 [00:37<00:00, 23.90it/s]\n",
      "Training Epoch 1869: 100%|██████████| 901/901 [00:38<00:00, 23.66it/s]\n",
      "Training Epoch 1870: 100%|██████████| 901/901 [00:37<00:00, 23.90it/s]\n",
      "Training Epoch 1871: 100%|██████████| 901/901 [00:38<00:00, 23.66it/s]\n"
     ]
    },
    {
     "name": "stdout",
     "output_type": "stream",
     "text": [
      "Epoch 1870 - Train Loss: 0.1335, Train MSE: 0.1335, Train MAE: 0.2678\n",
      "Epoch 1870 - Validation Loss: 0.7269, Validation MSE: 0.7269, Validation MAE: 0.6292\n"
     ]
    },
    {
     "name": "stderr",
     "output_type": "stream",
     "text": [
      "Training Epoch 1872: 100%|██████████| 901/901 [00:38<00:00, 23.70it/s]\n",
      "Training Epoch 1873: 100%|██████████| 901/901 [00:37<00:00, 23.73it/s]\n",
      "Training Epoch 1874: 100%|██████████| 901/901 [00:38<00:00, 23.64it/s]\n",
      "Training Epoch 1875: 100%|██████████| 901/901 [00:37<00:00, 23.91it/s]\n",
      "Training Epoch 1876: 100%|██████████| 901/901 [00:37<00:00, 23.73it/s]\n",
      "Training Epoch 1877: 100%|██████████| 901/901 [00:38<00:00, 23.56it/s]\n",
      "Training Epoch 1878: 100%|██████████| 901/901 [00:37<00:00, 23.75it/s]\n",
      "Training Epoch 1879: 100%|██████████| 901/901 [00:38<00:00, 23.59it/s]\n",
      "Training Epoch 1880: 100%|██████████| 901/901 [00:37<00:00, 23.75it/s]\n",
      "Training Epoch 1881: 100%|██████████| 901/901 [00:37<00:00, 23.71it/s]\n"
     ]
    },
    {
     "name": "stdout",
     "output_type": "stream",
     "text": [
      "Epoch 1880 - Train Loss: 0.1331, Train MSE: 0.1331, Train MAE: 0.2675\n",
      "Epoch 1880 - Validation Loss: 0.7380, Validation MSE: 0.7380, Validation MAE: 0.6331\n"
     ]
    },
    {
     "name": "stderr",
     "output_type": "stream",
     "text": [
      "Training Epoch 1882: 100%|██████████| 901/901 [00:37<00:00, 24.04it/s]\n",
      "Training Epoch 1883: 100%|██████████| 901/901 [00:38<00:00, 23.60it/s]\n",
      "Training Epoch 1884: 100%|██████████| 901/901 [00:38<00:00, 23.65it/s]\n",
      "Training Epoch 1885: 100%|██████████| 901/901 [00:37<00:00, 23.99it/s]\n",
      "Training Epoch 1886: 100%|██████████| 901/901 [00:38<00:00, 23.60it/s]\n",
      "Training Epoch 1887: 100%|██████████| 901/901 [00:38<00:00, 23.65it/s]\n",
      "Training Epoch 1888: 100%|██████████| 901/901 [00:37<00:00, 23.97it/s]\n",
      "Training Epoch 1889: 100%|██████████| 901/901 [00:37<00:00, 23.78it/s]\n",
      "Training Epoch 1890: 100%|██████████| 901/901 [00:37<00:00, 23.74it/s]\n",
      "Training Epoch 1891: 100%|██████████| 901/901 [00:37<00:00, 23.86it/s]\n"
     ]
    },
    {
     "name": "stdout",
     "output_type": "stream",
     "text": [
      "Epoch 1890 - Train Loss: 0.1341, Train MSE: 0.1341, Train MAE: 0.2688\n",
      "Epoch 1890 - Validation Loss: 0.7177, Validation MSE: 0.7177, Validation MAE: 0.6256\n"
     ]
    },
    {
     "name": "stderr",
     "output_type": "stream",
     "text": [
      "Training Epoch 1892: 100%|██████████| 901/901 [00:38<00:00, 23.67it/s]\n",
      "Training Epoch 1893: 100%|██████████| 901/901 [00:37<00:00, 23.76it/s]\n",
      "Training Epoch 1894: 100%|██████████| 901/901 [00:37<00:00, 23.92it/s]\n",
      "Training Epoch 1895: 100%|██████████| 901/901 [00:37<00:00, 23.79it/s]\n",
      "Training Epoch 1896: 100%|██████████| 901/901 [00:38<00:00, 23.50it/s]\n",
      "Training Epoch 1897: 100%|██████████| 901/901 [00:37<00:00, 23.95it/s]\n",
      "Training Epoch 1898: 100%|██████████| 901/901 [00:37<00:00, 23.95it/s]\n",
      "Training Epoch 1899: 100%|██████████| 901/901 [00:37<00:00, 23.75it/s]\n",
      "Training Epoch 1900: 100%|██████████| 901/901 [00:38<00:00, 23.63it/s]\n",
      "Training Epoch 1901: 100%|██████████| 901/901 [00:37<00:00, 23.93it/s]\n"
     ]
    },
    {
     "name": "stdout",
     "output_type": "stream",
     "text": [
      "Epoch 1900 - Train Loss: 0.1316, Train MSE: 0.1316, Train MAE: 0.2662\n",
      "Epoch 1900 - Validation Loss: 0.7281, Validation MSE: 0.7281, Validation MAE: 0.6284\n"
     ]
    },
    {
     "name": "stderr",
     "output_type": "stream",
     "text": [
      "Training Epoch 1902: 100%|██████████| 901/901 [00:37<00:00, 23.77it/s]\n",
      "Training Epoch 1903: 100%|██████████| 901/901 [00:38<00:00, 23.45it/s]\n",
      "Training Epoch 1904: 100%|██████████| 901/901 [00:37<00:00, 23.82it/s]\n",
      "Training Epoch 1905: 100%|██████████| 901/901 [00:38<00:00, 23.69it/s]\n",
      "Training Epoch 1906: 100%|██████████| 901/901 [00:37<00:00, 23.73it/s]\n",
      "Training Epoch 1907: 100%|██████████| 901/901 [00:37<00:00, 23.83it/s]\n",
      "Training Epoch 1908: 100%|██████████| 901/901 [00:37<00:00, 23.77it/s]\n",
      "Training Epoch 1909: 100%|██████████| 901/901 [00:38<00:00, 23.45it/s]\n",
      "Training Epoch 1910: 100%|██████████| 901/901 [00:38<00:00, 23.53it/s]\n",
      "Training Epoch 1911: 100%|██████████| 901/901 [00:37<00:00, 23.83it/s]\n"
     ]
    },
    {
     "name": "stdout",
     "output_type": "stream",
     "text": [
      "Epoch 1910 - Train Loss: 0.1310, Train MSE: 0.1311, Train MAE: 0.2652\n",
      "Epoch 1910 - Validation Loss: 0.7320, Validation MSE: 0.7320, Validation MAE: 0.6308\n"
     ]
    },
    {
     "name": "stderr",
     "output_type": "stream",
     "text": [
      "Training Epoch 1912: 100%|██████████| 901/901 [00:37<00:00, 23.84it/s]\n",
      "Training Epoch 1913: 100%|██████████| 901/901 [00:38<00:00, 23.67it/s]\n",
      "Training Epoch 1914: 100%|██████████| 901/901 [00:37<00:00, 23.71it/s]\n",
      "Training Epoch 1915: 100%|██████████| 901/901 [00:37<00:00, 23.92it/s]\n",
      "Training Epoch 1916: 100%|██████████| 901/901 [00:38<00:00, 23.66it/s]\n",
      "Training Epoch 1917: 100%|██████████| 901/901 [00:37<00:00, 23.80it/s]\n",
      "Training Epoch 1918: 100%|██████████| 901/901 [00:37<00:00, 23.82it/s]\n",
      "Training Epoch 1919: 100%|██████████| 901/901 [00:38<00:00, 23.63it/s]\n",
      "Training Epoch 1920: 100%|██████████| 901/901 [00:37<00:00, 23.83it/s]\n",
      "Training Epoch 1921: 100%|██████████| 901/901 [00:37<00:00, 23.73it/s]\n"
     ]
    },
    {
     "name": "stdout",
     "output_type": "stream",
     "text": [
      "Epoch 1920 - Train Loss: 0.1313, Train MSE: 0.1313, Train MAE: 0.2657\n",
      "Epoch 1920 - Validation Loss: 0.7298, Validation MSE: 0.7298, Validation MAE: 0.6329\n"
     ]
    },
    {
     "name": "stderr",
     "output_type": "stream",
     "text": [
      "Training Epoch 1922: 100%|██████████| 901/901 [00:37<00:00, 23.75it/s]\n",
      "Training Epoch 1923: 100%|██████████| 901/901 [00:38<00:00, 23.68it/s]\n",
      "Training Epoch 1924: 100%|██████████| 901/901 [00:38<00:00, 23.66it/s]\n",
      "Training Epoch 1925: 100%|██████████| 901/901 [00:37<00:00, 24.03it/s]\n",
      "Training Epoch 1926: 100%|██████████| 901/901 [00:38<00:00, 23.67it/s]\n",
      "Training Epoch 1927: 100%|██████████| 901/901 [00:38<00:00, 23.70it/s]\n",
      "Training Epoch 1928: 100%|██████████| 901/901 [00:37<00:00, 23.88it/s]\n",
      "Training Epoch 1929: 100%|██████████| 901/901 [00:38<00:00, 23.55it/s]\n",
      "Training Epoch 1930: 100%|██████████| 901/901 [00:37<00:00, 23.73it/s]\n",
      "Training Epoch 1931: 100%|██████████| 901/901 [00:37<00:00, 23.92it/s]\n"
     ]
    },
    {
     "name": "stdout",
     "output_type": "stream",
     "text": [
      "Epoch 1930 - Train Loss: 0.1305, Train MSE: 0.1305, Train MAE: 0.2653\n",
      "Epoch 1930 - Validation Loss: 0.7295, Validation MSE: 0.7295, Validation MAE: 0.6277\n"
     ]
    },
    {
     "name": "stderr",
     "output_type": "stream",
     "text": [
      "Training Epoch 1932: 100%|██████████| 901/901 [00:38<00:00, 23.64it/s]\n",
      "Training Epoch 1933: 100%|██████████| 901/901 [00:38<00:00, 23.63it/s]\n",
      "Training Epoch 1934: 100%|██████████| 901/901 [00:38<00:00, 23.69it/s]\n",
      "Training Epoch 1935: 100%|██████████| 901/901 [00:37<00:00, 23.85it/s]\n",
      "Training Epoch 1936: 100%|██████████| 901/901 [00:38<00:00, 23.63it/s]\n",
      "Training Epoch 1937: 100%|██████████| 901/901 [00:38<00:00, 23.54it/s]\n",
      "Training Epoch 1938: 100%|██████████| 901/901 [00:37<00:00, 23.94it/s]\n",
      "Training Epoch 1939: 100%|██████████| 901/901 [00:38<00:00, 23.47it/s]\n",
      "Training Epoch 1940: 100%|██████████| 901/901 [00:38<00:00, 23.68it/s]\n",
      "Training Epoch 1941: 100%|██████████| 901/901 [00:37<00:00, 23.81it/s]\n"
     ]
    },
    {
     "name": "stdout",
     "output_type": "stream",
     "text": [
      "Epoch 1940 - Train Loss: 0.1303, Train MSE: 0.1304, Train MAE: 0.2650\n",
      "Epoch 1940 - Validation Loss: 0.7235, Validation MSE: 0.7235, Validation MAE: 0.6286\n"
     ]
    },
    {
     "name": "stderr",
     "output_type": "stream",
     "text": [
      "Training Epoch 1942: 100%|██████████| 901/901 [00:37<00:00, 23.73it/s]\n",
      "Training Epoch 1943: 100%|██████████| 901/901 [00:38<00:00, 23.67it/s]\n",
      "Training Epoch 1944: 100%|██████████| 901/901 [00:37<00:00, 23.72it/s]\n",
      "Training Epoch 1945: 100%|██████████| 901/901 [00:37<00:00, 23.76it/s]\n",
      "Training Epoch 1946: 100%|██████████| 901/901 [00:39<00:00, 22.82it/s]\n",
      "Training Epoch 1947: 100%|██████████| 901/901 [00:38<00:00, 23.41it/s]\n",
      "Training Epoch 1948: 100%|██████████| 901/901 [00:38<00:00, 23.51it/s]\n",
      "Training Epoch 1949: 100%|██████████| 901/901 [00:38<00:00, 23.69it/s]\n",
      "Training Epoch 1950: 100%|██████████| 901/901 [00:38<00:00, 23.18it/s]\n",
      "Training Epoch 1951: 100%|██████████| 901/901 [00:38<00:00, 23.19it/s]\n"
     ]
    },
    {
     "name": "stdout",
     "output_type": "stream",
     "text": [
      "Epoch 1950 - Train Loss: 0.1323, Train MSE: 0.1323, Train MAE: 0.2665\n",
      "Epoch 1950 - Validation Loss: 0.7282, Validation MSE: 0.7282, Validation MAE: 0.6292\n"
     ]
    },
    {
     "name": "stderr",
     "output_type": "stream",
     "text": [
      "Training Epoch 1952: 100%|██████████| 901/901 [00:38<00:00, 23.63it/s]\n",
      "Training Epoch 1953: 100%|██████████| 901/901 [00:35<00:00, 25.12it/s]\n",
      "Training Epoch 1954: 100%|██████████| 901/901 [00:33<00:00, 27.15it/s]\n",
      "Training Epoch 1955: 100%|██████████| 901/901 [00:33<00:00, 26.90it/s]\n",
      "Training Epoch 1956: 100%|██████████| 901/901 [00:33<00:00, 26.92it/s]\n",
      "Training Epoch 1957: 100%|██████████| 901/901 [00:33<00:00, 26.95it/s]\n",
      "Training Epoch 1958: 100%|██████████| 901/901 [00:33<00:00, 26.95it/s]\n",
      "Training Epoch 1959: 100%|██████████| 901/901 [00:33<00:00, 26.66it/s]\n",
      "Training Epoch 1960: 100%|██████████| 901/901 [00:33<00:00, 27.10it/s]\n",
      "Training Epoch 1961: 100%|██████████| 901/901 [00:33<00:00, 26.98it/s]\n"
     ]
    },
    {
     "name": "stdout",
     "output_type": "stream",
     "text": [
      "Epoch 1960 - Train Loss: 0.1353, Train MSE: 0.1353, Train MAE: 0.2689\n",
      "Epoch 1960 - Validation Loss: 0.7155, Validation MSE: 0.7155, Validation MAE: 0.6259\n"
     ]
    },
    {
     "name": "stderr",
     "output_type": "stream",
     "text": [
      "Training Epoch 1962: 100%|██████████| 901/901 [00:33<00:00, 27.13it/s]\n",
      "Training Epoch 1963: 100%|██████████| 901/901 [00:33<00:00, 27.15it/s]\n",
      "Training Epoch 1964: 100%|██████████| 901/901 [00:33<00:00, 27.22it/s]\n",
      "Training Epoch 1965: 100%|██████████| 901/901 [00:33<00:00, 27.15it/s]\n",
      "Training Epoch 1966: 100%|██████████| 901/901 [00:33<00:00, 26.62it/s]\n",
      "Training Epoch 1967: 100%|██████████| 901/901 [00:33<00:00, 26.99it/s]\n",
      "Training Epoch 1968: 100%|██████████| 901/901 [00:33<00:00, 27.07it/s]\n",
      "Training Epoch 1969: 100%|██████████| 901/901 [00:33<00:00, 27.02it/s]\n",
      "Training Epoch 1970: 100%|██████████| 901/901 [00:33<00:00, 27.07it/s]\n",
      "Training Epoch 1971: 100%|██████████| 901/901 [00:33<00:00, 26.58it/s]\n"
     ]
    },
    {
     "name": "stdout",
     "output_type": "stream",
     "text": [
      "Epoch 1970 - Train Loss: 0.1319, Train MSE: 0.1319, Train MAE: 0.2662\n",
      "Epoch 1970 - Validation Loss: 0.7258, Validation MSE: 0.7258, Validation MAE: 0.6288\n"
     ]
    },
    {
     "name": "stderr",
     "output_type": "stream",
     "text": [
      "Training Epoch 1972: 100%|██████████| 901/901 [00:33<00:00, 26.92it/s]\n",
      "Training Epoch 1973: 100%|██████████| 901/901 [00:33<00:00, 27.19it/s]\n",
      "Training Epoch 1974: 100%|██████████| 901/901 [00:33<00:00, 26.83it/s]\n",
      "Training Epoch 1975: 100%|██████████| 901/901 [00:33<00:00, 27.22it/s]\n",
      "Training Epoch 1976: 100%|██████████| 901/901 [00:33<00:00, 26.72it/s]\n",
      "Training Epoch 1977: 100%|██████████| 901/901 [00:33<00:00, 26.77it/s]\n",
      "Training Epoch 1978: 100%|██████████| 901/901 [00:33<00:00, 27.00it/s]\n",
      "Training Epoch 1979: 100%|██████████| 901/901 [00:33<00:00, 26.98it/s]\n",
      "Training Epoch 1980: 100%|██████████| 901/901 [00:33<00:00, 26.95it/s]\n",
      "Training Epoch 1981: 100%|██████████| 901/901 [00:33<00:00, 27.13it/s]\n"
     ]
    },
    {
     "name": "stdout",
     "output_type": "stream",
     "text": [
      "Epoch 1980 - Train Loss: 0.1330, Train MSE: 0.1331, Train MAE: 0.2674\n",
      "Epoch 1980 - Validation Loss: 0.7293, Validation MSE: 0.7293, Validation MAE: 0.6290\n"
     ]
    },
    {
     "name": "stderr",
     "output_type": "stream",
     "text": [
      "Training Epoch 1982: 100%|██████████| 901/901 [00:33<00:00, 26.80it/s]\n",
      "Training Epoch 1983: 100%|██████████| 901/901 [00:33<00:00, 26.94it/s]\n",
      "Training Epoch 1984: 100%|██████████| 901/901 [00:33<00:00, 26.76it/s]\n",
      "Training Epoch 1985: 100%|██████████| 901/901 [00:33<00:00, 26.81it/s]\n",
      "Training Epoch 1986: 100%|██████████| 901/901 [00:33<00:00, 26.87it/s]\n",
      "Training Epoch 1987: 100%|██████████| 901/901 [00:33<00:00, 26.79it/s]\n",
      "Training Epoch 1988: 100%|██████████| 901/901 [00:33<00:00, 26.98it/s]\n",
      "Training Epoch 1989: 100%|██████████| 901/901 [00:33<00:00, 27.02it/s]\n",
      "Training Epoch 1990: 100%|██████████| 901/901 [00:33<00:00, 27.04it/s]\n",
      "Training Epoch 1991: 100%|██████████| 901/901 [00:33<00:00, 26.99it/s]\n"
     ]
    },
    {
     "name": "stdout",
     "output_type": "stream",
     "text": [
      "Epoch 1990 - Train Loss: 0.1312, Train MSE: 0.1312, Train MAE: 0.2663\n",
      "Epoch 1990 - Validation Loss: 0.7276, Validation MSE: 0.7276, Validation MAE: 0.6274\n"
     ]
    },
    {
     "name": "stderr",
     "output_type": "stream",
     "text": [
      "Training Epoch 1992: 100%|██████████| 901/901 [00:33<00:00, 26.81it/s]\n",
      "Training Epoch 1993: 100%|██████████| 901/901 [00:33<00:00, 26.91it/s]\n",
      "Training Epoch 1994: 100%|██████████| 901/901 [00:32<00:00, 27.52it/s]\n",
      "Training Epoch 1995: 100%|██████████| 901/901 [00:33<00:00, 27.18it/s]\n",
      "Training Epoch 1996: 100%|██████████| 901/901 [00:32<00:00, 27.56it/s]\n",
      "Training Epoch 1997: 100%|██████████| 901/901 [00:32<00:00, 27.41it/s]\n",
      "Training Epoch 1998: 100%|██████████| 901/901 [00:33<00:00, 27.03it/s]\n",
      "Training Epoch 1999: 100%|██████████| 901/901 [00:32<00:00, 27.84it/s]\n",
      "Training Epoch 2000: 100%|██████████| 901/901 [00:33<00:00, 27.17it/s]\n"
     ]
    },
    {
     "ename": "TypeError",
     "evalue": "iteration over a 0-d array",
     "output_type": "error",
     "traceback": [
      "\u001b[0;31m---------------------------------------------------------------------------\u001b[0m",
      "\u001b[0;31mTypeError\u001b[0m                                 Traceback (most recent call last)",
      "Cell \u001b[0;32mIn[22], line 104\u001b[0m\n\u001b[1;32m    101\u001b[0m         labels \u001b[38;5;241m=\u001b[39m batch[\u001b[38;5;124m'\u001b[39m\u001b[38;5;124mlabel\u001b[39m\u001b[38;5;124m'\u001b[39m]\u001b[38;5;241m.\u001b[39mto(device)\n\u001b[1;32m    103\u001b[0m         outputs \u001b[38;5;241m=\u001b[39m model(mol_features, protein_features)\n\u001b[0;32m--> 104\u001b[0m         test_predictions\u001b[38;5;241m.\u001b[39mextend(outputs\u001b[38;5;241m.\u001b[39mcpu()\u001b[38;5;241m.\u001b[39mnumpy())\n\u001b[1;32m    105\u001b[0m         test_labels\u001b[38;5;241m.\u001b[39mextend(labels\u001b[38;5;241m.\u001b[39mcpu()\u001b[38;5;241m.\u001b[39mnumpy())\n\u001b[1;32m    107\u001b[0m test_mse \u001b[38;5;241m=\u001b[39m ((torch\u001b[38;5;241m.\u001b[39mtensor(test_predictions) \u001b[38;5;241m-\u001b[39m torch\u001b[38;5;241m.\u001b[39mtensor(test_labels))\u001b[38;5;241m*\u001b[39m\u001b[38;5;241m*\u001b[39m\u001b[38;5;241m2\u001b[39m)\u001b[38;5;241m.\u001b[39mmean()\u001b[38;5;241m.\u001b[39mitem()\n",
      "\u001b[0;31mTypeError\u001b[0m: iteration over a 0-d array"
     ]
    }
   ],
   "source": [
    "import torch\n",
    "import torch.nn as nn\n",
    "import torch.optim as optim\n",
    "from tqdm import tqdm\n",
    "import pandas as pd\n",
    "from sklearn.metrics import r2_score, median_absolute_error, explained_variance_score\n",
    "from scipy.stats import pearsonr\n",
    "\n",
    "\n",
    "train_history = pd.DataFrame(columns=[  'epoch',\n",
    "    'Train Loss', 'Train MSE', 'Train MAE', 'Train RMSE', 'Train R2', 'Train Pearson', 'Train Median_AE', 'Train Explained_VAR'\n",
    "    'Val Loss', 'Val MSE', 'Val MAE', 'Val RMSE', 'Val R2', 'Val Pearson', 'Val Median_AE', 'Val Explained_VAR'])\n",
    "# Verify feature dimensions\n",
    "for batch in train_loader:\n",
    "    mol_input_dim = batch['metabolite_features'].shape[1]  # Dynamically determine mol input dimension\n",
    "    protein_input_dim = batch['protein_features'].shape[1]  # Dynamically determine protein input dimension\n",
    "    break\n",
    "\n",
    "# Initialize model, optimizer, and loss function\n",
    "num_timesteps = 10\n",
    "model = CNNRegressor(mol_input_dim=mol_input_dim, protein_input_dim=protein_input_dim)\n",
    "model = model.to(device)\n",
    "optimizer = optim.Adam(model.parameters(), lr=0.0001)\n",
    "criterion = nn.MSELoss()\n",
    "\n",
    "# Training and Validation Loop\n",
    "for epoch in range(2000):\n",
    "    model.train()\n",
    "    total_loss = 0.0\n",
    "    val_total_loss = 0.0\n",
    "    train_predictions, train_labels = [], []\n",
    "\n",
    "    for batch in tqdm(train_loader, desc=f\"Training Epoch {epoch + 1}\"):\n",
    "        mol_features = batch['metabolite_features'].to(device)\n",
    "        protein_features = batch['protein_features'].to(device)\n",
    "        labels = batch['label'].to(device)\n",
    "\n",
    "        optimizer.zero_grad()\n",
    "        outputs = model(mol_features, protein_features)\n",
    "        loss = criterion(outputs, labels)\n",
    "        loss.backward()\n",
    "        optimizer.step()\n",
    "        total_loss += loss.item()\n",
    "\n",
    "        # Store predictions and labels for metrics\n",
    "        train_predictions.extend(outputs.detach().cpu().numpy())\n",
    "        train_labels.extend(labels.cpu().numpy())\n",
    "\n",
    "    # Calculate training metrics\n",
    "    train_mse = ((torch.tensor(train_predictions) - torch.tensor(train_labels))**2).mean().item()\n",
    "    train_mae = torch.abs(torch.tensor(train_predictions) - torch.tensor(train_labels)).mean().item()\n",
    "    train_rmse = torch.sqrt((torch.tensor(train_predictions) - torch.tensor(train_labels)) ** 2).mean().item()\n",
    "    train_r2 = r2_score(np.array(train_labels), np.array(train_predictions))\n",
    "    train_pearson_corr, _ = pearsonr(np.array(train_labels), np.array(train_predictions))\n",
    "    train_median_ae = median_absolute_error(np.array(train_labels), np.array(train_predictions))\n",
    "    train_explained_var = explained_variance_score(np.array(train_labels), np.array(train_predictions))\n",
    "\n",
    "\n",
    "\n",
    "    if epoch % 10 == 0:\n",
    "        print(f\"Epoch {epoch} - Train Loss: {total_loss / len(train_loader):.4f}, Train MSE: {train_mse:.4f}, Train MAE: {train_mae:.4f}\")\n",
    "\n",
    "    # Validation\n",
    "    model.eval()\n",
    "    val_predictions, val_labels = [], []\n",
    "    with torch.no_grad():\n",
    "        for batch in val_loader:\n",
    "            mol_features = batch['metabolite_features'].to(device)\n",
    "            protein_features = batch['protein_features'].to(device)\n",
    "            labels = batch['label'].to(device)\n",
    "\n",
    "            outputs = model(mol_features, protein_features)\n",
    "            val_predictions.extend(outputs.cpu().numpy())\n",
    "            val_labels.extend(labels.cpu().numpy())\n",
    "            val_loss = criterion(outputs, labels)\n",
    "            val_total_loss += val_loss.item()\n",
    "\n",
    "    val_mse = ((torch.tensor(val_predictions) - torch.tensor(val_labels))**2).mean().item()\n",
    "    val_mae = torch.abs(torch.tensor(val_predictions) - torch.tensor(val_labels)).mean().item()\n",
    "    val_rmse = torch.sqrt((torch.tensor(val_predictions) - torch.tensor(val_labels)) ** 2).mean().item()\n",
    "    val_r2 = r2_score(np.array(val_labels), np.array(val_predictions))\n",
    "    val_pearson_corr, _ = pearsonr(np.array(val_labels), np.array(val_predictions))\n",
    "    val_median_ae = median_absolute_error(np.array(val_labels), np.array(val_predictions))\n",
    "    val_explained_var = explained_variance_score(np.array(val_labels), np.array(val_predictions))\n",
    "\n",
    "    if epoch % 10 == 0:\n",
    "        print(f\"Epoch {epoch} - Validation Loss: {val_total_loss / len(val_loader):.4f}, Validation MSE: {val_mse:.4f}, Validation MAE: {val_mae:.4f}\")\n",
    "\n",
    "    # Save metrics to DataFrame\n",
    "    new_row = {'epoch': epoch + 1, 'Train Loss': total_loss / len(train_loader), 'Train MSE': train_mse, 'Train MAE': train_mae, 'Train RMSE': train_rmse, 'Train R2': train_r2, 'Train Pearson': train_pearson_corr, 'Train Median_AE': train_median_ae, 'Train Explained_VAR': train_explained_var, \n",
    "               'Val Loss': val_total_loss / len(val_loader), 'Val MSE': val_mse, 'Val MAE': val_mae, 'Val RMSE': val_rmse, 'Val R2': val_r2, 'Val Pearson': val_pearson_corr, 'Val Median_AE': val_median_ae, 'Val Explained_VAR': val_explained_var}\n",
    "    train_history = pd.concat([train_history, pd.DataFrame([new_row])], ignore_index=True)\n"
   ]
  },
  {
   "cell_type": "code",
   "execution_count": 12,
   "metadata": {},
   "outputs": [],
   "source": [
    "for batch in train_loader:\n",
    "    mol_input_dim = batch['metabolite_features'].shape[1]  # Dynamically determine mol input dimension\n",
    "    protein_input_dim = batch['protein_features'].shape[1]  # Dynamically determine protein input dimension\n",
    "    break\n",
    "# First, reinitialize the model with the same architecture\n",
    "model = CNNRegressor(mol_input_dim=mol_input_dim, protein_input_dim=protein_input_dim)\n",
    "\n",
    "# Load the saved model weights\n",
    "model.load_state_dict(torch.load('/Users/pinchichen/2025S lab/AI drug project/Catpred/Km/trained_model/random_split/CNN model_Catpred_Km.pt'))\n",
    "\n",
    "# Move to device if using GPU\n",
    "model = model.to(device)\n"
   ]
  },
  {
   "cell_type": "code",
   "execution_count": null,
   "metadata": {},
   "outputs": [],
   "source": []
  },
  {
   "cell_type": "code",
   "execution_count": 18,
   "metadata": {},
   "outputs": [
    {
     "name": "stdout",
     "output_type": "stream",
     "text": [
      "Test MSE: 0.7553, Test RMSE: 0.869051605, Test MAE: 0.6492, Test R2: 0.5415, Test Pearson Correlation: 0.7434, Test Median AE: 0.4988, Test Explained Variance: 0.5417\n"
     ]
    }
   ],
   "source": [
    "from sklearn.metrics import mean_squared_error, mean_absolute_error, r2_score, median_absolute_error, explained_variance_score\n",
    "from scipy.stats import pearsonr\n",
    "# Test Metrics\n",
    "model.eval()\n",
    "test_predictions, test_labels = [], []\n",
    "with torch.no_grad():\n",
    "    for batch in test_loader:\n",
    "        mol_features = batch['metabolite_features'].to(device)\n",
    "        protein_features = batch['protein_features'].to(device)\n",
    "        labels = batch['label'].to(device)\n",
    "\n",
    "        outputs = model(mol_features, protein_features)\n",
    "        test_predictions.extend(outputs.view(-1).cpu().numpy().tolist())\n",
    "        test_labels.extend(labels.view(-1).cpu().numpy().tolist())\n",
    "\n",
    "test_mse = ((torch.tensor(test_predictions) - torch.tensor(test_labels))**2).mean().item()\n",
    "test_mae = torch.abs(torch.tensor(test_predictions) - torch.tensor(test_labels)).mean().item()\n",
    "test_rmse = np.sqrt(test_mse)\n",
    "test_r2 = r2_score(np.array(test_labels), np.array(test_predictions))\n",
    "test_pearson_corr, _ = pearsonr(np.array(test_labels), np.array(test_predictions))\n",
    "test_median_ae = median_absolute_error(np.array(test_labels), np.array(test_predictions))\n",
    "test_explained_var = explained_variance_score(np.array(test_labels), np.array(test_predictions))\n",
    "\n",
    "print(f\"Test MSE: {test_mse:.4f}, Test RMSE: {test_rmse:.9f}, Test MAE: {test_mae:.4f}, Test R2: {test_r2:.4f}, Test Pearson Correlation: {test_pearson_corr:.4f}, Test Median AE: {test_median_ae:.4f}, Test Explained Variance: {test_explained_var:.4f}\")\n"
   ]
  },
  {
   "cell_type": "code",
   "execution_count": 14,
   "metadata": {},
   "outputs": [],
   "source": [
    "def evaluate_model(predictions, labels):\n",
    "    mse = mean_squared_error(labels, predictions)\n",
    "    rmse = np.sqrt(mse)\n",
    "    mae = mean_absolute_error(labels, predictions)\n",
    "    r2 = r2_score(labels, predictions)\n",
    "    pearson_corr, _ = pearsonr(labels, predictions)\n",
    "    medae = median_absolute_error(labels, predictions)\n",
    "    evs = explained_variance_score(labels, predictions)\n",
    "\n",
    "    return mse, rmse, mae, r2, pearson_corr, medae, evs"
   ]
  },
  {
   "cell_type": "code",
   "execution_count": 15,
   "metadata": {},
   "outputs": [
    {
     "name": "stdout",
     "output_type": "stream",
     "text": [
      "Train MSE: 0.0432, Train RMSE: 0.2079, Train MAE: 0.1502, Train R2: 0.9734, Train Pearson Correlation: 0.9882, Train Median AE: 0.1125, Train Explained Variance: 0.9735\n"
     ]
    }
   ],
   "source": [
    "model.eval()\n",
    "train_pred, train_labels = [], []\n",
    "with torch.no_grad():\n",
    "    for batch in train_loader:\n",
    "        mol_features = batch['metabolite_features'].to(device)\n",
    "        protein_features = batch['protein_features'].to(device)\n",
    "        labels = batch['label'].to(device)\n",
    "\n",
    "        outputs = model(mol_features, protein_features)\n",
    "        train_pred.extend(outputs.cpu().numpy())\n",
    "        train_labels.extend(labels.cpu().numpy())\n",
    "\n",
    "train_mse, train_rmse, train_mae, train_r2, train_pearson_corr, train_median_ae, train_explained_var = evaluate_model(train_pred, train_labels)\n",
    "print(f\"Train MSE: {train_mse:.4f}, Train RMSE: {train_rmse:.4f}, Train MAE: {train_mae:.4f}, Train R2: {train_r2:.4f}, Train Pearson Correlation: {train_pearson_corr:.4f}, Train Median AE: {train_median_ae:.4f}, Train Explained Variance: {train_explained_var:.4f}\")"
   ]
  },
  {
   "cell_type": "code",
   "execution_count": 15,
   "metadata": {},
   "outputs": [],
   "source": [
    "model.eval()\n",
    "val_pred, val_labels = [], []\n",
    "with torch.no_grad():\n",
    "    for batch in val_loader:\n",
    "        mol_features = batch['metabolite_features'].to(device)\n",
    "        protein_features = batch['protein_features'].to(device)\n",
    "        labels = batch['label'].to(device)\n",
    "\n",
    "        outputs = model(mol_features, protein_features)\n",
    "        val_pred.extend(outputs.cpu().numpy())\n",
    "        val_labels.extend(labels.cpu().numpy())\n",
    "\n",
    "val_mse, val_rmse, val_mae, val_r2, val_pearson_corr, val_median_ae, val_explained_var = evaluate_model(val_pred, val_labels)\n"
   ]
  },
  {
   "cell_type": "code",
   "execution_count": 16,
   "metadata": {},
   "outputs": [],
   "source": [
    "# append the performance to the csv file\n",
    "df = {\n",
    "    'Model':['CNN','CNN','CNN'],\n",
    "    'Dataset':['Train','Validation','Test'],\n",
    "    'MSE':[train_mse,val_mse,test_mse],\n",
    "    'RMSE':[train_rmse,val_rmse,test_rmse],\n",
    "    'MAE':[train_mae,val_mae,test_mae],\n",
    "    'R2':[train_r2,val_r2,test_r2],\n",
    "    'Pearson':[train_pearson_corr,val_pearson_corr,test_pearson_corr],\n",
    "    'Median_AE':[train_median_ae,val_median_ae,test_median_ae],\n",
    "    'Explained_VAR':[train_explained_var,val_explained_var,test_explained_var],\n",
    "    'Dataspliting Mode':['random','random','random']\n",
    "}\n",
    "df = pd.DataFrame(df)\n",
    "\n",
    "df.to_csv('/Users/pinchichen/2025S lab/AI drug project/Catpred/Km/model performance metrics_Catpred_Km.csv', mode='a', header=False)"
   ]
  },
  {
   "cell_type": "code",
   "execution_count": 30,
   "metadata": {},
   "outputs": [],
   "source": [
    "# Save the model and training history\n",
    "save_dir = '/Users/pinchichen/2025S lab/AI drug project/Catpred/Km/trained_model/random_split'\n",
    "# save model weights and optimizer state\n",
    "torch.save(model.state_dict(), os.path.join(save_dir, 'CNN model_Catpred_Km.pt'))\n",
    "torch.save(optimizer.state_dict(), os.path.join(save_dir, 'CNN optimizer_Catpred_Km.pt'))"
   ]
  },
  {
   "cell_type": "code",
   "execution_count": 31,
   "metadata": {},
   "outputs": [
    {
     "data": {
      "image/png": "[encoded data removed]",
      "text/plain": [
       "<Figure size 1000x600 with 1 Axes>"
      ]
     },
     "metadata": {},
     "output_type": "display_data"
    }
   ],
   "source": [
    "import matplotlib.pyplot as plt\n",
    "import seaborn as sns\n",
    "sns.set(style='ticks')\n",
    "# Load metrics\n",
    "\n",
    "metrics = train_history\n",
    "\n",
    "# Plot the training loss over epochs using seaborn\n",
    "plt.figure(figsize=(10, 6))\n",
    "# sns.lineplot(data=metrics, x='epoch', y='Train Loss', label='Train Loss')\n",
    "# sns.lineplot(data=metrics, x='epoch', y='Val Loss', label='Val Loss')\n",
    "sns.lineplot(data=metrics, x='epoch', y='Val MSE', label='Valid_RMSE')\n",
    "sns.lineplot(data=metrics, x='epoch', y='Train MSE', label='Train_RMSE')\n",
    "# sns.lineplot(data=metrics, x='Epoch', y='Valid_MAE', label='Valid_MAE')\n",
    "# Add titles and labels\n",
    "plt.title('Training and Validation Metrics Over Epochs', fontsize=14)\n",
    "# Define the range of tick positions\n",
    "plt.xlabel('Epoch', fontsize=12)\n",
    "plt.ylabel('Loss', fontsize=12)\n",
    "plt.grid(False)\n",
    "# Show the plot\n",
    "plt.show()\n"
   ]
  },
  {
   "cell_type": "code",
   "execution_count": 32,
   "metadata": {},
   "outputs": [
    {
     "data": {
      "text/html": [
       "<div>\n",
       "<style scoped>\n",
       "    .dataframe tbody tr th:only-of-type {\n",
       "        vertical-align: middle;\n",
       "    }\n",
       "\n",
       "    .dataframe tbody tr th {\n",
       "        vertical-align: top;\n",
       "    }\n",
       "\n",
       "    .dataframe thead th {\n",
       "        text-align: right;\n",
       "    }\n",
       "</style>\n",
       "<table border=\"1\" class=\"dataframe\">\n",
       "  <thead>\n",
       "    <tr style=\"text-align: right;\">\n",
       "      <th></th>\n",
       "      <th>epoch</th>\n",
       "      <th>Train Loss</th>\n",
       "      <th>Train MSE</th>\n",
       "      <th>Train MAE</th>\n",
       "      <th>Train RMSE</th>\n",
       "      <th>Train R2</th>\n",
       "      <th>Train Pearson</th>\n",
       "      <th>Train Median_AE</th>\n",
       "      <th>Train Explained_VARVal Loss</th>\n",
       "      <th>Val MSE</th>\n",
       "      <th>Val MAE</th>\n",
       "      <th>Val RMSE</th>\n",
       "      <th>Val R2</th>\n",
       "      <th>Val Pearson</th>\n",
       "      <th>Val Median_AE</th>\n",
       "      <th>Val Explained_VAR</th>\n",
       "      <th>Train Explained_VAR</th>\n",
       "      <th>Val Loss</th>\n",
       "    </tr>\n",
       "  </thead>\n",
       "  <tbody>\n",
       "    <tr>\n",
       "      <th>1995</th>\n",
       "      <td>1996</td>\n",
       "      <td>0.132855</td>\n",
       "      <td>0.132863</td>\n",
       "      <td>0.266695</td>\n",
       "      <td>0.266695</td>\n",
       "      <td>0.918238</td>\n",
       "      <td>0.958247</td>\n",
       "      <td>0.197947</td>\n",
       "      <td>NaN</td>\n",
       "      <td>0.724691</td>\n",
       "      <td>0.627470</td>\n",
       "      <td>0.627470</td>\n",
       "      <td>0.538485</td>\n",
       "      <td>0.739693</td>\n",
       "      <td>0.466563</td>\n",
       "      <td>0.538978</td>\n",
       "      <td>0.918238</td>\n",
       "      <td>0.724691</td>\n",
       "    </tr>\n",
       "    <tr>\n",
       "      <th>1996</th>\n",
       "      <td>1997</td>\n",
       "      <td>0.133134</td>\n",
       "      <td>0.133154</td>\n",
       "      <td>0.267454</td>\n",
       "      <td>0.267454</td>\n",
       "      <td>0.918058</td>\n",
       "      <td>0.958154</td>\n",
       "      <td>0.197658</td>\n",
       "      <td>NaN</td>\n",
       "      <td>0.726393</td>\n",
       "      <td>0.628307</td>\n",
       "      <td>0.628307</td>\n",
       "      <td>0.537402</td>\n",
       "      <td>0.739605</td>\n",
       "      <td>0.471394</td>\n",
       "      <td>0.537836</td>\n",
       "      <td>0.918059</td>\n",
       "      <td>0.726392</td>\n",
       "    </tr>\n",
       "    <tr>\n",
       "      <th>1997</th>\n",
       "      <td>1998</td>\n",
       "      <td>0.131027</td>\n",
       "      <td>0.131018</td>\n",
       "      <td>0.265757</td>\n",
       "      <td>0.265757</td>\n",
       "      <td>0.919373</td>\n",
       "      <td>0.958840</td>\n",
       "      <td>0.198530</td>\n",
       "      <td>NaN</td>\n",
       "      <td>0.722823</td>\n",
       "      <td>0.629877</td>\n",
       "      <td>0.629877</td>\n",
       "      <td>0.539675</td>\n",
       "      <td>0.737821</td>\n",
       "      <td>0.477254</td>\n",
       "      <td>0.540056</td>\n",
       "      <td>0.919373</td>\n",
       "      <td>0.722823</td>\n",
       "    </tr>\n",
       "    <tr>\n",
       "      <th>1998</th>\n",
       "      <td>1999</td>\n",
       "      <td>0.131605</td>\n",
       "      <td>0.131582</td>\n",
       "      <td>0.266023</td>\n",
       "      <td>0.266023</td>\n",
       "      <td>0.919026</td>\n",
       "      <td>0.958659</td>\n",
       "      <td>0.198009</td>\n",
       "      <td>NaN</td>\n",
       "      <td>0.725033</td>\n",
       "      <td>0.627821</td>\n",
       "      <td>0.627821</td>\n",
       "      <td>0.538268</td>\n",
       "      <td>0.740539</td>\n",
       "      <td>0.474635</td>\n",
       "      <td>0.538970</td>\n",
       "      <td>0.919027</td>\n",
       "      <td>0.725033</td>\n",
       "    </tr>\n",
       "    <tr>\n",
       "      <th>1999</th>\n",
       "      <td>2000</td>\n",
       "      <td>0.129329</td>\n",
       "      <td>0.129329</td>\n",
       "      <td>0.263815</td>\n",
       "      <td>0.263815</td>\n",
       "      <td>0.920412</td>\n",
       "      <td>0.959382</td>\n",
       "      <td>0.195274</td>\n",
       "      <td>NaN</td>\n",
       "      <td>0.727328</td>\n",
       "      <td>0.628394</td>\n",
       "      <td>0.628394</td>\n",
       "      <td>0.536806</td>\n",
       "      <td>0.740302</td>\n",
       "      <td>0.471746</td>\n",
       "      <td>0.536809</td>\n",
       "      <td>0.920412</td>\n",
       "      <td>0.727328</td>\n",
       "    </tr>\n",
       "  </tbody>\n",
       "</table>\n",
       "</div>"
      ],
      "text/plain": [
       "     epoch  Train Loss  Train MSE  Train MAE  Train RMSE  Train R2  \\\n",
       "1995  1996    0.132855   0.132863   0.266695    0.266695  0.918238   \n",
       "1996  1997    0.133134   0.133154   0.267454    0.267454  0.918058   \n",
       "1997  1998    0.131027   0.131018   0.265757    0.265757  0.919373   \n",
       "1998  1999    0.131605   0.131582   0.266023    0.266023  0.919026   \n",
       "1999  2000    0.129329   0.129329   0.263815    0.263815  0.920412   \n",
       "\n",
       "      Train Pearson  Train Median_AE Train Explained_VARVal Loss   Val MSE  \\\n",
       "1995       0.958247         0.197947                         NaN  0.724691   \n",
       "1996       0.958154         0.197658                         NaN  0.726393   \n",
       "1997       0.958840         0.198530                         NaN  0.722823   \n",
       "1998       0.958659         0.198009                         NaN  0.725033   \n",
       "1999       0.959382         0.195274                         NaN  0.727328   \n",
       "\n",
       "       Val MAE  Val RMSE    Val R2  Val Pearson  Val Median_AE  \\\n",
       "1995  0.627470  0.627470  0.538485     0.739693       0.466563   \n",
       "1996  0.628307  0.628307  0.537402     0.739605       0.471394   \n",
       "1997  0.629877  0.629877  0.539675     0.737821       0.477254   \n",
       "1998  0.627821  0.627821  0.538268     0.740539       0.474635   \n",
       "1999  0.628394  0.628394  0.536806     0.740302       0.471746   \n",
       "\n",
       "      Val Explained_VAR  Train Explained_VAR  Val Loss  \n",
       "1995           0.538978             0.918238  0.724691  \n",
       "1996           0.537836             0.918059  0.726392  \n",
       "1997           0.540056             0.919373  0.722823  \n",
       "1998           0.538970             0.919027  0.725033  \n",
       "1999           0.536809             0.920412  0.727328  "
      ]
     },
     "execution_count": 32,
     "metadata": {},
     "output_type": "execute_result"
    }
   ],
   "source": [
    "train_history.tail()"
   ]
  },
  {
   "cell_type": "code",
   "execution_count": 33,
   "metadata": {},
   "outputs": [
    {
     "data": {
      "image/png": "[encoded data removed]",
      "text/plain": [
       "<Figure size 640x480 with 1 Axes>"
      ]
     },
     "metadata": {},
     "output_type": "display_data"
    }
   ],
   "source": [
    "# Plot the performance\n",
    "import matplotlib.pyplot as plt\n",
    "\n",
    "plt.scatter(test_labels, test_predictions, alpha=0.5)\n",
    "plt.xlabel(\"True Reactivity\")\n",
    "plt.ylabel(\"Predicted Reactivity\")\n",
    "plt.title(\"CNN Predictions vs True Values\")\n",
    "plt.plot([min(test_labels), max(test_labels)], [min(test_labels), max(test_labels)], 'r--')\n",
    "plt.show()\n"
   ]
  }
 ],
 "metadata": {
  "kernelspec": {
   "display_name": "base",
   "language": "python",
   "name": "python3"
  },
  "language_info": {
   "codemirror_mode": {
    "name": "ipython",
    "version": 3
   },
   "file_extension": ".py",
   "mimetype": "text/x-python",
   "name": "python",
   "nbconvert_exporter": "python",
   "pygments_lexer": "ipython3",
   "version": "3.12.2"
  }
 },
 "nbformat": 4,
 "nbformat_minor": 2
}
