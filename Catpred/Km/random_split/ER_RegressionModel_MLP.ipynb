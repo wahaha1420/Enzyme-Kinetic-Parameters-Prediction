{
 "cells": [
  {
   "cell_type": "code",
   "execution_count": 1,
   "metadata": {},
   "outputs": [],
   "source": [
    "import pandas as pd\n",
    "import numpy as np\n",
    "from tqdm import tqdm\n",
    "import torch\n",
    "import torch.nn as nn\n",
    "import torch.optim as optim\n",
    "from torch.utils.data import DataLoader, Dataset\n",
    "from sklearn.metrics import roc_auc_score\n",
    "from sklearn.model_selection import train_test_split\n",
    "import os\n"
   ]
  },
  {
   "cell_type": "code",
   "execution_count": 2,
   "metadata": {},
   "outputs": [
    {
     "data": {
      "text/html": [
       "<div>\n",
       "<style scoped>\n",
       "    .dataframe tbody tr th:only-of-type {\n",
       "        vertical-align: middle;\n",
       "    }\n",
       "\n",
       "    .dataframe tbody tr th {\n",
       "        vertical-align: top;\n",
       "    }\n",
       "\n",
       "    .dataframe thead th {\n",
       "        text-align: right;\n",
       "    }\n",
       "</style>\n",
       "<table border=\"1\" class=\"dataframe\">\n",
       "  <thead>\n",
       "    <tr style=\"text-align: right;\">\n",
       "      <th></th>\n",
       "      <th>Sequence</th>\n",
       "      <th>sequence_source</th>\n",
       "      <th>uniprot</th>\n",
       "      <th>Smiles</th>\n",
       "      <th>value</th>\n",
       "      <th>ec</th>\n",
       "      <th>taxonomy_id</th>\n",
       "      <th>log10_value</th>\n",
       "      <th>log10km_mean</th>\n",
       "      <th>metabolite_features</th>\n",
       "      <th>protein_features</th>\n",
       "    </tr>\n",
       "  </thead>\n",
       "  <tbody>\n",
       "    <tr>\n",
       "      <th>0</th>\n",
       "      <td>MGQEKLYIEKELSWLSFNERVLQEAADKSNPLIERMRFLGIYSNNL...</td>\n",
       "      <td>sabio</td>\n",
       "      <td>P0A7B1</td>\n",
       "      <td>Nc1nc2c(ncn2C2OC(COP(=O)(O)OP(=O)(O)O)C(O)C2O)...</td>\n",
       "      <td>0.6300</td>\n",
       "      <td>2.7.4.1</td>\n",
       "      <td>562</td>\n",
       "      <td>-0.200659</td>\n",
       "      <td>-0.200659</td>\n",
       "      <td>[0.25370342, -0.3417107, -0.28024313, -0.04292...</td>\n",
       "      <td>[-0.06592023, -0.062496405, -0.012068139, 0.06...</td>\n",
       "    </tr>\n",
       "    <tr>\n",
       "      <th>1</th>\n",
       "      <td>MSQQPHTEQFPKNQPPLAERLASARQLVTKAISAVPPHPEPLPSPN...</td>\n",
       "      <td>brenda</td>\n",
       "      <td>A0A0S2SWE4</td>\n",
       "      <td>CC/C=C\\C/C=C\\C/C=C\\CCCCCCCC(=O)O</td>\n",
       "      <td>0.0264</td>\n",
       "      <td>1.13.11.60</td>\n",
       "      <td>474922</td>\n",
       "      <td>-1.578396</td>\n",
       "      <td>-1.553572</td>\n",
       "      <td>[0.61067283, 0.46248585, -0.051634412, -0.7397...</td>\n",
       "      <td>[0.16962084, -0.09671225, 0.116663285, 0.05065...</td>\n",
       "    </tr>\n",
       "    <tr>\n",
       "      <th>2</th>\n",
       "      <td>MSAAADRLNLTSGHLNAGRKRSSSSVSLKAVEKPFKVTVIGSGNWG...</td>\n",
       "      <td>uniprot_search</td>\n",
       "      <td>A0A060KZ16</td>\n",
       "      <td>O=C(CO)COP(=O)(O)O</td>\n",
       "      <td>0.6100</td>\n",
       "      <td>1.1.1.8</td>\n",
       "      <td>114524</td>\n",
       "      <td>-0.214670</td>\n",
       "      <td>-0.214670</td>\n",
       "      <td>[0.29938427, -0.0972216, -0.3334697, -0.721026...</td>\n",
       "      <td>[0.0933136, -0.117130496, 0.0676241, 0.0187789...</td>\n",
       "    </tr>\n",
       "    <tr>\n",
       "      <th>3</th>\n",
       "      <td>MLAEKTRSIIKATVPVLEQQGTVITRTFYKNMLTEHTELLNIFNRT...</td>\n",
       "      <td>sabio</td>\n",
       "      <td>P39676</td>\n",
       "      <td>NC(=O)C1=CN(C2OC(COP(=O)(O)OP(=O)(O)OCC3OC(n4c...</td>\n",
       "      <td>0.0280</td>\n",
       "      <td>1.14.12.17</td>\n",
       "      <td>4932</td>\n",
       "      <td>-1.552842</td>\n",
       "      <td>-1.552842</td>\n",
       "      <td>[0.639636, -0.14536878, -0.52627945, 0.1240742...</td>\n",
       "      <td>[-0.02827879, -0.04372119, 0.03182794, 0.19197...</td>\n",
       "    </tr>\n",
       "    <tr>\n",
       "      <th>4</th>\n",
       "      <td>MASAERVPVSFNKPGRVPFGEVQGYAPGHIPAYSNKHDHFFSGERS...</td>\n",
       "      <td>uniprot_search</td>\n",
       "      <td>O60993</td>\n",
       "      <td>Nc1ncnc2c1ncn2[C@H]1O[C@H](COP(=O)([O-])OP(=O)...</td>\n",
       "      <td>0.4000</td>\n",
       "      <td>6.3.1.9</td>\n",
       "      <td>5656</td>\n",
       "      <td>-0.397940</td>\n",
       "      <td>-0.397940</td>\n",
       "      <td>[0.25855744, 0.43888408, -0.7136499, 0.0234168...</td>\n",
       "      <td>[0.074476704, -0.050253637, 0.05497695, 0.1402...</td>\n",
       "    </tr>\n",
       "  </tbody>\n",
       "</table>\n",
       "</div>"
      ],
      "text/plain": [
       "                                            Sequence sequence_source  \\\n",
       "0  MGQEKLYIEKELSWLSFNERVLQEAADKSNPLIERMRFLGIYSNNL...           sabio   \n",
       "1  MSQQPHTEQFPKNQPPLAERLASARQLVTKAISAVPPHPEPLPSPN...          brenda   \n",
       "2  MSAAADRLNLTSGHLNAGRKRSSSSVSLKAVEKPFKVTVIGSGNWG...  uniprot_search   \n",
       "3  MLAEKTRSIIKATVPVLEQQGTVITRTFYKNMLTEHTELLNIFNRT...           sabio   \n",
       "4  MASAERVPVSFNKPGRVPFGEVQGYAPGHIPAYSNKHDHFFSGERS...  uniprot_search   \n",
       "\n",
       "      uniprot                                             Smiles   value  \\\n",
       "0      P0A7B1  Nc1nc2c(ncn2C2OC(COP(=O)(O)OP(=O)(O)O)C(O)C2O)...  0.6300   \n",
       "1  A0A0S2SWE4                   CC/C=C\\C/C=C\\C/C=C\\CCCCCCCC(=O)O  0.0264   \n",
       "2  A0A060KZ16                                 O=C(CO)COP(=O)(O)O  0.6100   \n",
       "3      P39676  NC(=O)C1=CN(C2OC(COP(=O)(O)OP(=O)(O)OCC3OC(n4c...  0.0280   \n",
       "4      O60993  Nc1ncnc2c1ncn2[C@H]1O[C@H](COP(=O)([O-])OP(=O)...  0.4000   \n",
       "\n",
       "           ec  taxonomy_id  log10_value  log10km_mean  \\\n",
       "0     2.7.4.1          562    -0.200659     -0.200659   \n",
       "1  1.13.11.60       474922    -1.578396     -1.553572   \n",
       "2     1.1.1.8       114524    -0.214670     -0.214670   \n",
       "3  1.14.12.17         4932    -1.552842     -1.552842   \n",
       "4     6.3.1.9         5656    -0.397940     -0.397940   \n",
       "\n",
       "                                 metabolite_features  \\\n",
       "0  [0.25370342, -0.3417107, -0.28024313, -0.04292...   \n",
       "1  [0.61067283, 0.46248585, -0.051634412, -0.7397...   \n",
       "2  [0.29938427, -0.0972216, -0.3334697, -0.721026...   \n",
       "3  [0.639636, -0.14536878, -0.52627945, 0.1240742...   \n",
       "4  [0.25855744, 0.43888408, -0.7136499, 0.0234168...   \n",
       "\n",
       "                                    protein_features  \n",
       "0  [-0.06592023, -0.062496405, -0.012068139, 0.06...  \n",
       "1  [0.16962084, -0.09671225, 0.116663285, 0.05065...  \n",
       "2  [0.0933136, -0.117130496, 0.0676241, 0.0187789...  \n",
       "3  [-0.02827879, -0.04372119, 0.03182794, 0.19197...  \n",
       "4  [0.074476704, -0.050253637, 0.05497695, 0.1402...  "
      ]
     },
     "execution_count": 2,
     "metadata": {},
     "output_type": "execute_result"
    }
   ],
   "source": [
    "import joblib\n",
    "import pandas as pd\n",
    "\n",
    "data_kcat = joblib.load('/Users/pinchichen/2025S lab/AI drug project/Catpred/dataset/km/km_with_features.joblib')\n",
    "data_kcat.head()"
   ]
  },
  {
   "cell_type": "code",
   "execution_count": 3,
   "metadata": {},
   "outputs": [
    {
     "data": {
      "text/html": [
       "<div>\n",
       "<style scoped>\n",
       "    .dataframe tbody tr th:only-of-type {\n",
       "        vertical-align: middle;\n",
       "    }\n",
       "\n",
       "    .dataframe tbody tr th {\n",
       "        vertical-align: top;\n",
       "    }\n",
       "\n",
       "    .dataframe thead th {\n",
       "        text-align: right;\n",
       "    }\n",
       "</style>\n",
       "<table border=\"1\" class=\"dataframe\">\n",
       "  <thead>\n",
       "    <tr style=\"text-align: right;\">\n",
       "      <th></th>\n",
       "      <th>Sequence</th>\n",
       "      <th>sequence_source</th>\n",
       "      <th>uniprot</th>\n",
       "      <th>Smiles</th>\n",
       "      <th>value</th>\n",
       "      <th>ec</th>\n",
       "      <th>taxonomy_id</th>\n",
       "      <th>log10_value</th>\n",
       "      <th>label</th>\n",
       "      <th>metabolite_features</th>\n",
       "      <th>protein_features</th>\n",
       "    </tr>\n",
       "  </thead>\n",
       "  <tbody>\n",
       "    <tr>\n",
       "      <th>0</th>\n",
       "      <td>MGQEKLYIEKELSWLSFNERVLQEAADKSNPLIERMRFLGIYSNNL...</td>\n",
       "      <td>sabio</td>\n",
       "      <td>P0A7B1</td>\n",
       "      <td>Nc1nc2c(ncn2C2OC(COP(=O)(O)OP(=O)(O)O)C(O)C2O)...</td>\n",
       "      <td>0.6300</td>\n",
       "      <td>2.7.4.1</td>\n",
       "      <td>562</td>\n",
       "      <td>-0.200659</td>\n",
       "      <td>-0.200659</td>\n",
       "      <td>[0.25370342, -0.3417107, -0.28024313, -0.04292...</td>\n",
       "      <td>[-0.06592023, -0.062496405, -0.012068139, 0.06...</td>\n",
       "    </tr>\n",
       "    <tr>\n",
       "      <th>1</th>\n",
       "      <td>MSQQPHTEQFPKNQPPLAERLASARQLVTKAISAVPPHPEPLPSPN...</td>\n",
       "      <td>brenda</td>\n",
       "      <td>A0A0S2SWE4</td>\n",
       "      <td>CC/C=C\\C/C=C\\C/C=C\\CCCCCCCC(=O)O</td>\n",
       "      <td>0.0264</td>\n",
       "      <td>1.13.11.60</td>\n",
       "      <td>474922</td>\n",
       "      <td>-1.578396</td>\n",
       "      <td>-1.553572</td>\n",
       "      <td>[0.61067283, 0.46248585, -0.051634412, -0.7397...</td>\n",
       "      <td>[0.16962084, -0.09671225, 0.116663285, 0.05065...</td>\n",
       "    </tr>\n",
       "    <tr>\n",
       "      <th>2</th>\n",
       "      <td>MSAAADRLNLTSGHLNAGRKRSSSSVSLKAVEKPFKVTVIGSGNWG...</td>\n",
       "      <td>uniprot_search</td>\n",
       "      <td>A0A060KZ16</td>\n",
       "      <td>O=C(CO)COP(=O)(O)O</td>\n",
       "      <td>0.6100</td>\n",
       "      <td>1.1.1.8</td>\n",
       "      <td>114524</td>\n",
       "      <td>-0.214670</td>\n",
       "      <td>-0.214670</td>\n",
       "      <td>[0.29938427, -0.0972216, -0.3334697, -0.721026...</td>\n",
       "      <td>[0.0933136, -0.117130496, 0.0676241, 0.0187789...</td>\n",
       "    </tr>\n",
       "    <tr>\n",
       "      <th>3</th>\n",
       "      <td>MLAEKTRSIIKATVPVLEQQGTVITRTFYKNMLTEHTELLNIFNRT...</td>\n",
       "      <td>sabio</td>\n",
       "      <td>P39676</td>\n",
       "      <td>NC(=O)C1=CN(C2OC(COP(=O)(O)OP(=O)(O)OCC3OC(n4c...</td>\n",
       "      <td>0.0280</td>\n",
       "      <td>1.14.12.17</td>\n",
       "      <td>4932</td>\n",
       "      <td>-1.552842</td>\n",
       "      <td>-1.552842</td>\n",
       "      <td>[0.639636, -0.14536878, -0.52627945, 0.1240742...</td>\n",
       "      <td>[-0.02827879, -0.04372119, 0.03182794, 0.19197...</td>\n",
       "    </tr>\n",
       "    <tr>\n",
       "      <th>4</th>\n",
       "      <td>MASAERVPVSFNKPGRVPFGEVQGYAPGHIPAYSNKHDHFFSGERS...</td>\n",
       "      <td>uniprot_search</td>\n",
       "      <td>O60993</td>\n",
       "      <td>Nc1ncnc2c1ncn2[C@H]1O[C@H](COP(=O)([O-])OP(=O)...</td>\n",
       "      <td>0.4000</td>\n",
       "      <td>6.3.1.9</td>\n",
       "      <td>5656</td>\n",
       "      <td>-0.397940</td>\n",
       "      <td>-0.397940</td>\n",
       "      <td>[0.25855744, 0.43888408, -0.7136499, 0.0234168...</td>\n",
       "      <td>[0.074476704, -0.050253637, 0.05497695, 0.1402...</td>\n",
       "    </tr>\n",
       "  </tbody>\n",
       "</table>\n",
       "</div>"
      ],
      "text/plain": [
       "                                            Sequence sequence_source  \\\n",
       "0  MGQEKLYIEKELSWLSFNERVLQEAADKSNPLIERMRFLGIYSNNL...           sabio   \n",
       "1  MSQQPHTEQFPKNQPPLAERLASARQLVTKAISAVPPHPEPLPSPN...          brenda   \n",
       "2  MSAAADRLNLTSGHLNAGRKRSSSSVSLKAVEKPFKVTVIGSGNWG...  uniprot_search   \n",
       "3  MLAEKTRSIIKATVPVLEQQGTVITRTFYKNMLTEHTELLNIFNRT...           sabio   \n",
       "4  MASAERVPVSFNKPGRVPFGEVQGYAPGHIPAYSNKHDHFFSGERS...  uniprot_search   \n",
       "\n",
       "      uniprot                                             Smiles   value  \\\n",
       "0      P0A7B1  Nc1nc2c(ncn2C2OC(COP(=O)(O)OP(=O)(O)O)C(O)C2O)...  0.6300   \n",
       "1  A0A0S2SWE4                   CC/C=C\\C/C=C\\C/C=C\\CCCCCCCC(=O)O  0.0264   \n",
       "2  A0A060KZ16                                 O=C(CO)COP(=O)(O)O  0.6100   \n",
       "3      P39676  NC(=O)C1=CN(C2OC(COP(=O)(O)OP(=O)(O)OCC3OC(n4c...  0.0280   \n",
       "4      O60993  Nc1ncnc2c1ncn2[C@H]1O[C@H](COP(=O)([O-])OP(=O)...  0.4000   \n",
       "\n",
       "           ec  taxonomy_id  log10_value     label  \\\n",
       "0     2.7.4.1          562    -0.200659 -0.200659   \n",
       "1  1.13.11.60       474922    -1.578396 -1.553572   \n",
       "2     1.1.1.8       114524    -0.214670 -0.214670   \n",
       "3  1.14.12.17         4932    -1.552842 -1.552842   \n",
       "4     6.3.1.9         5656    -0.397940 -0.397940   \n",
       "\n",
       "                                 metabolite_features  \\\n",
       "0  [0.25370342, -0.3417107, -0.28024313, -0.04292...   \n",
       "1  [0.61067283, 0.46248585, -0.051634412, -0.7397...   \n",
       "2  [0.29938427, -0.0972216, -0.3334697, -0.721026...   \n",
       "3  [0.639636, -0.14536878, -0.52627945, 0.1240742...   \n",
       "4  [0.25855744, 0.43888408, -0.7136499, 0.0234168...   \n",
       "\n",
       "                                    protein_features  \n",
       "0  [-0.06592023, -0.062496405, -0.012068139, 0.06...  \n",
       "1  [0.16962084, -0.09671225, 0.116663285, 0.05065...  \n",
       "2  [0.0933136, -0.117130496, 0.0676241, 0.0187789...  \n",
       "3  [-0.02827879, -0.04372119, 0.03182794, 0.19197...  \n",
       "4  [0.074476704, -0.050253637, 0.05497695, 0.1402...  "
      ]
     },
     "execution_count": 3,
     "metadata": {},
     "output_type": "execute_result"
    }
   ],
   "source": [
    "data_kcat.rename(columns={'log10km_mean':'label'},inplace=True)\n",
    "data_kcat.head()"
   ]
  },
  {
   "cell_type": "code",
   "execution_count": 4,
   "metadata": {},
   "outputs": [],
   "source": [
    "# Define dataset\n",
    "class MPI_Dataset(Dataset):\n",
    "    def __init__(self, dataframe):\n",
    "        self.dataframe = dataframe\n",
    "\n",
    "    def __len__(self):\n",
    "        return len(self.dataframe)\n",
    "\n",
    "    def __getitem__(self, idx):\n",
    "        row = self.dataframe.iloc[idx]\n",
    "        return {\n",
    "            'metabolite_features': torch.tensor(np.asarray(row['metabolite_features'], dtype=np.float32)),\n",
    "            'protein_features': torch.tensor(np.asarray(row['protein_features'], dtype=np.float32)),\n",
    "            'label': torch.tensor(float(row['label']), dtype=torch.float32),\n",
    "        }"
   ]
  },
  {
   "cell_type": "code",
   "execution_count": 5,
   "metadata": {},
   "outputs": [],
   "source": [
    "# Load data\n",
    "# Assuming `combined_df` is a pandas DataFrame containing all necessary columns\n",
    "train_df, temp_df = train_test_split(data_kcat, test_size=0.3, shuffle=True, random_state=42)\n",
    "val_df, test_df = train_test_split(temp_df, test_size=0.5, shuffle=True, random_state=42)\n",
    "\n",
    "train_dataset = MPI_Dataset(train_df)\n",
    "val_dataset = MPI_Dataset(val_df)\n",
    "test_dataset = MPI_Dataset(test_df)\n",
    "\n",
    "train_loader = DataLoader(train_dataset, batch_size=32, shuffle=True)\n",
    "val_loader = DataLoader(val_dataset, batch_size=32)\n",
    "test_loader = DataLoader(test_dataset, batch_size=32)"
   ]
  },
  {
   "cell_type": "code",
   "execution_count": 6,
   "metadata": {},
   "outputs": [],
   "source": [
    "import torch.nn as nn\n",
    "import torch\n",
    "import torch.nn.functional as F\n",
    "\n",
    "# Define MLP Model for Regression\n",
    "class MLPRegressor(nn.Module):\n",
    "    def __init__(self, mol_input_dim, protein_input_dim, hidden_dim=1):\n",
    "        super(MLPRegressor, self).__init__()\n",
    "\n",
    "        self.mol_encoder = nn.Linear(mol_input_dim, hidden_dim)\n",
    "        self.protein_encoder = nn.Linear(protein_input_dim, hidden_dim)\n",
    "        \n",
    "        # norm layer + Dropout\n",
    "        self.layer_norm = nn.LayerNorm(hidden_dim * 2)\n",
    "        self.dropout = nn.Dropout(0.3)\n",
    "\n",
    "        # hidden layer + output layer\n",
    "        self.hidden = nn.Linear(hidden_dim * 2, hidden_dim)\n",
    "        self.regressor = nn.Linear(hidden_dim, 1)\n",
    "\n",
    "        self.activation = nn.ReLU()\n",
    "\n",
    "    def forward(self, mol_input, protein_input):\n",
    "        # Reshape to (B, 1, L) for Conv1d\n",
    "        mol_embedding = self.activation(self.mol_encoder(mol_input))\n",
    "        protein_embedding = self.activation(self.protein_encoder(protein_input))\n",
    "\n",
    "        # Concatenate + Normalize + Dropout\n",
    "        combined = torch.cat((mol_embedding, protein_embedding), dim=-1)\n",
    "        combined = self.layer_norm(combined)\n",
    "        combined = self.dropout(combined)\n",
    "\n",
    "        # Hidden → Regress\n",
    "        hidden_out = self.activation(self.hidden(combined))\n",
    "        output = self.regressor(hidden_out)\n",
    "\n",
    "        return output.squeeze(1)\n"
   ]
  },
  {
   "cell_type": "code",
   "execution_count": 7,
   "metadata": {},
   "outputs": [],
   "source": [
    "# Check CUDA availability\n",
    "device = torch.device(\"cuda\" if torch.cuda.is_available() else \"cpu\")"
   ]
  },
  {
   "cell_type": "code",
   "execution_count": null,
   "metadata": {},
   "outputs": [
    {
     "name": "stderr",
     "output_type": "stream",
     "text": [
      "Training Epoch 1: 100%|██████████| 901/901 [00:04<00:00, 212.72it/s]\n"
     ]
    },
    {
     "name": "stdout",
     "output_type": "stream",
     "text": [
      "Epoch 0 - Train Loss: 1.1644, Train MSE: 1.1644, Train MAE: 0.8409\n"
     ]
    },
    {
     "name": "stderr",
     "output_type": "stream",
     "text": [
      "/var/folders/yz/c1z6m9_d5d3f80sywjc3rqsc0000gn/T/ipykernel_83969/3008050676.py:91: FutureWarning: The behavior of DataFrame concatenation with empty or all-NA entries is deprecated. In a future version, this will no longer exclude empty or all-NA columns when determining the result dtypes. To retain the old behavior, exclude the relevant entries before the concat operation.\n",
      "  train_history = pd.concat([train_history, pd.DataFrame([new_row])], ignore_index=True)\n"
     ]
    },
    {
     "name": "stdout",
     "output_type": "stream",
     "text": [
      "Epoch 0 - Validation Loss: 1.0393, Validation MSE: 1.0393, Validation MAE: 0.7914\n"
     ]
    },
    {
     "name": "stderr",
     "output_type": "stream",
     "text": [
      "Training Epoch 2: 100%|██████████| 901/901 [00:04<00:00, 212.60it/s]\n",
      "Training Epoch 3: 100%|██████████| 901/901 [00:04<00:00, 207.71it/s]\n",
      "Training Epoch 4: 100%|██████████| 901/901 [00:04<00:00, 217.40it/s]\n",
      "Training Epoch 5: 100%|██████████| 901/901 [00:04<00:00, 215.19it/s]\n",
      "Training Epoch 6: 100%|██████████| 901/901 [00:04<00:00, 216.38it/s]\n",
      "Training Epoch 7: 100%|██████████| 901/901 [00:04<00:00, 217.88it/s]\n",
      "Training Epoch 8: 100%|██████████| 901/901 [00:04<00:00, 214.93it/s]\n",
      "Training Epoch 9: 100%|██████████| 901/901 [00:04<00:00, 219.98it/s]\n",
      "Training Epoch 10: 100%|██████████| 901/901 [00:04<00:00, 220.91it/s]\n",
      "Training Epoch 11: 100%|██████████| 901/901 [00:04<00:00, 215.13it/s]\n"
     ]
    },
    {
     "name": "stdout",
     "output_type": "stream",
     "text": [
      "Epoch 10 - Train Loss: 0.7783, Train MSE: 0.7782, Train MAE: 0.6816\n",
      "Epoch 10 - Validation Loss: 0.8283, Validation MSE: 0.8283, Validation MAE: 0.6940\n"
     ]
    },
    {
     "name": "stderr",
     "output_type": "stream",
     "text": [
      "Training Epoch 12: 100%|██████████| 901/901 [00:04<00:00, 211.90it/s]\n",
      "Training Epoch 13: 100%|██████████| 901/901 [00:04<00:00, 189.87it/s]\n",
      "Training Epoch 14: 100%|██████████| 901/901 [00:04<00:00, 205.70it/s]\n",
      "Training Epoch 15: 100%|██████████| 901/901 [00:04<00:00, 195.97it/s]\n",
      "Training Epoch 16: 100%|██████████| 901/901 [00:04<00:00, 208.40it/s]\n",
      "Training Epoch 17: 100%|██████████| 901/901 [00:04<00:00, 208.75it/s]\n",
      "Training Epoch 18: 100%|██████████| 901/901 [00:04<00:00, 206.43it/s]\n",
      "Training Epoch 19: 100%|██████████| 901/901 [00:04<00:00, 200.75it/s]\n",
      "Training Epoch 20: 100%|██████████| 901/901 [00:04<00:00, 203.75it/s]\n",
      "Training Epoch 21: 100%|██████████| 901/901 [00:05<00:00, 150.74it/s]\n"
     ]
    },
    {
     "name": "stdout",
     "output_type": "stream",
     "text": [
      "Epoch 20 - Train Loss: 0.6204, Train MSE: 0.6204, Train MAE: 0.6086\n",
      "Epoch 20 - Validation Loss: 0.8012, Validation MSE: 0.8012, Validation MAE: 0.6816\n"
     ]
    },
    {
     "name": "stderr",
     "output_type": "stream",
     "text": [
      "Training Epoch 22: 100%|██████████| 901/901 [00:04<00:00, 181.12it/s]\n",
      "Training Epoch 23: 100%|██████████| 901/901 [00:05<00:00, 162.94it/s]\n",
      "Training Epoch 24: 100%|██████████| 901/901 [00:04<00:00, 180.73it/s]\n",
      "Training Epoch 25: 100%|██████████| 901/901 [00:04<00:00, 182.75it/s]\n",
      "Training Epoch 26: 100%|██████████| 901/901 [00:04<00:00, 180.78it/s]\n",
      "Training Epoch 27: 100%|██████████| 901/901 [00:05<00:00, 171.59it/s]\n",
      "Training Epoch 28: 100%|██████████| 901/901 [00:04<00:00, 181.22it/s]\n",
      "Training Epoch 29: 100%|██████████| 901/901 [00:04<00:00, 180.76it/s]\n",
      "Training Epoch 30: 100%|██████████| 901/901 [00:06<00:00, 144.99it/s]\n",
      "Training Epoch 31: 100%|██████████| 901/901 [00:05<00:00, 150.92it/s]\n"
     ]
    },
    {
     "name": "stdout",
     "output_type": "stream",
     "text": [
      "Epoch 30 - Train Loss: 0.5179, Train MSE: 0.5179, Train MAE: 0.5536\n",
      "Epoch 30 - Validation Loss: 0.7482, Validation MSE: 0.7482, Validation MAE: 0.6527\n"
     ]
    },
    {
     "name": "stderr",
     "output_type": "stream",
     "text": [
      "Training Epoch 32: 100%|██████████| 901/901 [00:06<00:00, 144.70it/s]\n",
      "Training Epoch 33: 100%|██████████| 901/901 [00:06<00:00, 135.51it/s]\n",
      "Training Epoch 34: 100%|██████████| 901/901 [00:06<00:00, 130.96it/s]\n",
      "Training Epoch 35: 100%|██████████| 901/901 [00:06<00:00, 137.24it/s]\n",
      "Training Epoch 36: 100%|██████████| 901/901 [00:06<00:00, 134.23it/s]\n",
      "Training Epoch 37: 100%|██████████| 901/901 [00:06<00:00, 134.54it/s]\n",
      "Training Epoch 38: 100%|██████████| 901/901 [00:06<00:00, 137.59it/s]\n",
      "Training Epoch 39: 100%|██████████| 901/901 [00:06<00:00, 132.51it/s]\n",
      "Training Epoch 40: 100%|██████████| 901/901 [00:07<00:00, 128.14it/s]\n",
      "Training Epoch 41: 100%|██████████| 901/901 [00:07<00:00, 113.39it/s]\n"
     ]
    },
    {
     "name": "stdout",
     "output_type": "stream",
     "text": [
      "Epoch 40 - Train Loss: 0.4495, Train MSE: 0.4495, Train MAE: 0.5164\n",
      "Epoch 40 - Validation Loss: 0.7489, Validation MSE: 0.7489, Validation MAE: 0.6530\n"
     ]
    },
    {
     "name": "stderr",
     "output_type": "stream",
     "text": [
      "Training Epoch 42: 100%|██████████| 901/901 [00:09<00:00, 94.26it/s] \n",
      "Training Epoch 43: 100%|██████████| 901/901 [00:06<00:00, 132.30it/s]\n",
      "Training Epoch 44: 100%|██████████| 901/901 [00:07<00:00, 119.83it/s]\n",
      "Training Epoch 45: 100%|██████████| 901/901 [00:06<00:00, 132.50it/s]\n",
      "Training Epoch 46: 100%|██████████| 901/901 [00:06<00:00, 140.91it/s]\n",
      "Training Epoch 47: 100%|██████████| 901/901 [00:06<00:00, 137.81it/s]\n",
      "Training Epoch 48: 100%|██████████| 901/901 [00:06<00:00, 139.64it/s]\n",
      "Training Epoch 49: 100%|██████████| 901/901 [00:06<00:00, 139.44it/s]\n",
      "Training Epoch 50: 100%|██████████| 901/901 [00:06<00:00, 141.54it/s]\n",
      "Training Epoch 51: 100%|██████████| 901/901 [00:06<00:00, 138.90it/s]\n"
     ]
    },
    {
     "name": "stdout",
     "output_type": "stream",
     "text": [
      "Epoch 50 - Train Loss: 0.3922, Train MSE: 0.3922, Train MAE: 0.4815\n",
      "Epoch 50 - Validation Loss: 0.7236, Validation MSE: 0.7236, Validation MAE: 0.6389\n"
     ]
    },
    {
     "name": "stderr",
     "output_type": "stream",
     "text": [
      "Training Epoch 52: 100%|██████████| 901/901 [00:06<00:00, 140.47it/s]\n",
      "Training Epoch 53: 100%|██████████| 901/901 [00:06<00:00, 139.15it/s]\n",
      "Training Epoch 54: 100%|██████████| 901/901 [00:06<00:00, 142.08it/s]\n",
      "Training Epoch 55: 100%|██████████| 901/901 [00:06<00:00, 139.26it/s]\n",
      "Training Epoch 56: 100%|██████████| 901/901 [00:06<00:00, 140.84it/s]\n",
      "Training Epoch 57: 100%|██████████| 901/901 [00:06<00:00, 141.03it/s]\n",
      "Training Epoch 58: 100%|██████████| 901/901 [00:06<00:00, 137.81it/s]\n",
      "Training Epoch 59: 100%|██████████| 901/901 [00:06<00:00, 140.37it/s]\n",
      "Training Epoch 60: 100%|██████████| 901/901 [00:06<00:00, 137.76it/s]\n",
      "Training Epoch 61: 100%|██████████| 901/901 [00:06<00:00, 137.90it/s]\n"
     ]
    },
    {
     "name": "stdout",
     "output_type": "stream",
     "text": [
      "Epoch 60 - Train Loss: 0.3473, Train MSE: 0.3474, Train MAE: 0.4524\n",
      "Epoch 60 - Validation Loss: 0.7426, Validation MSE: 0.7426, Validation MAE: 0.6449\n"
     ]
    },
    {
     "name": "stderr",
     "output_type": "stream",
     "text": [
      "Training Epoch 62: 100%|██████████| 901/901 [00:06<00:00, 139.46it/s]\n",
      "Training Epoch 63: 100%|██████████| 901/901 [00:06<00:00, 138.77it/s]\n",
      "Training Epoch 64: 100%|██████████| 901/901 [00:06<00:00, 138.24it/s]\n",
      "Training Epoch 65: 100%|██████████| 901/901 [00:06<00:00, 140.91it/s]\n",
      "Training Epoch 66: 100%|██████████| 901/901 [00:06<00:00, 139.71it/s]\n",
      "Training Epoch 67: 100%|██████████| 901/901 [00:06<00:00, 139.02it/s]\n",
      "Training Epoch 68: 100%|██████████| 901/901 [00:06<00:00, 141.67it/s]\n",
      "Training Epoch 69: 100%|██████████| 901/901 [00:06<00:00, 139.66it/s]\n",
      "Training Epoch 70: 100%|██████████| 901/901 [00:06<00:00, 141.24it/s]\n",
      "Training Epoch 71: 100%|██████████| 901/901 [00:06<00:00, 141.47it/s]\n"
     ]
    },
    {
     "name": "stdout",
     "output_type": "stream",
     "text": [
      "Epoch 70 - Train Loss: 0.3178, Train MSE: 0.3178, Train MAE: 0.4327\n",
      "Epoch 70 - Validation Loss: 0.7274, Validation MSE: 0.7274, Validation MAE: 0.6374\n"
     ]
    },
    {
     "name": "stderr",
     "output_type": "stream",
     "text": [
      "Training Epoch 72: 100%|██████████| 901/901 [00:06<00:00, 139.33it/s]\n",
      "Training Epoch 73: 100%|██████████| 901/901 [00:06<00:00, 141.95it/s]\n",
      "Training Epoch 74: 100%|██████████| 901/901 [00:06<00:00, 138.13it/s]\n",
      "Training Epoch 75: 100%|██████████| 901/901 [00:06<00:00, 142.03it/s]\n",
      "Training Epoch 76: 100%|██████████| 901/901 [00:06<00:00, 141.05it/s]\n",
      "Training Epoch 77: 100%|██████████| 901/901 [00:06<00:00, 139.28it/s]\n",
      "Training Epoch 78: 100%|██████████| 901/901 [00:06<00:00, 136.74it/s]\n",
      "Training Epoch 79: 100%|██████████| 901/901 [00:06<00:00, 138.97it/s]\n",
      "Training Epoch 80: 100%|██████████| 901/901 [00:06<00:00, 139.91it/s]\n",
      "Training Epoch 81: 100%|██████████| 901/901 [00:06<00:00, 139.82it/s]\n"
     ]
    },
    {
     "name": "stdout",
     "output_type": "stream",
     "text": [
      "Epoch 80 - Train Loss: 0.2925, Train MSE: 0.2925, Train MAE: 0.4159\n",
      "Epoch 80 - Validation Loss: 0.7180, Validation MSE: 0.7180, Validation MAE: 0.6290\n"
     ]
    },
    {
     "name": "stderr",
     "output_type": "stream",
     "text": [
      "Training Epoch 82: 100%|██████████| 901/901 [00:06<00:00, 139.76it/s]\n",
      "Training Epoch 83: 100%|██████████| 901/901 [00:06<00:00, 133.08it/s]\n",
      "Training Epoch 84: 100%|██████████| 901/901 [00:06<00:00, 139.42it/s]\n",
      "Training Epoch 85: 100%|██████████| 901/901 [00:06<00:00, 131.68it/s]\n",
      "Training Epoch 86: 100%|██████████| 901/901 [00:06<00:00, 147.15it/s]\n",
      "Training Epoch 87: 100%|██████████| 901/901 [00:06<00:00, 148.94it/s]\n",
      "Training Epoch 88: 100%|██████████| 901/901 [00:05<00:00, 151.20it/s]\n",
      "Training Epoch 89: 100%|██████████| 901/901 [00:05<00:00, 150.43it/s]\n",
      "Training Epoch 90: 100%|██████████| 901/901 [00:06<00:00, 145.66it/s]\n",
      "Training Epoch 91: 100%|██████████| 901/901 [00:06<00:00, 147.77it/s]\n"
     ]
    },
    {
     "name": "stdout",
     "output_type": "stream",
     "text": [
      "Epoch 90 - Train Loss: 0.2730, Train MSE: 0.2730, Train MAE: 0.4011\n",
      "Epoch 90 - Validation Loss: 0.7185, Validation MSE: 0.7185, Validation MAE: 0.6286\n"
     ]
    },
    {
     "name": "stderr",
     "output_type": "stream",
     "text": [
      "Training Epoch 92: 100%|██████████| 901/901 [00:06<00:00, 149.12it/s]\n",
      "Training Epoch 93: 100%|██████████| 901/901 [00:05<00:00, 160.76it/s]\n",
      "Training Epoch 94: 100%|██████████| 901/901 [00:05<00:00, 164.34it/s]\n",
      "Training Epoch 95: 100%|██████████| 901/901 [00:05<00:00, 164.45it/s]\n",
      "Training Epoch 96: 100%|██████████| 901/901 [00:05<00:00, 163.30it/s]\n",
      "Training Epoch 97: 100%|██████████| 901/901 [00:05<00:00, 162.01it/s]\n",
      "Training Epoch 98: 100%|██████████| 901/901 [00:05<00:00, 165.10it/s]\n",
      "Training Epoch 99: 100%|██████████| 901/901 [00:05<00:00, 164.16it/s]\n",
      "Training Epoch 100: 100%|██████████| 901/901 [00:05<00:00, 165.34it/s]\n",
      "Training Epoch 101: 100%|██████████| 901/901 [00:05<00:00, 161.36it/s]\n"
     ]
    },
    {
     "name": "stdout",
     "output_type": "stream",
     "text": [
      "Epoch 100 - Train Loss: 0.2497, Train MSE: 0.2497, Train MAE: 0.3844\n",
      "Epoch 100 - Validation Loss: 0.7294, Validation MSE: 0.7294, Validation MAE: 0.6323\n"
     ]
    },
    {
     "name": "stderr",
     "output_type": "stream",
     "text": [
      "Training Epoch 102: 100%|██████████| 901/901 [00:05<00:00, 164.43it/s]\n",
      "Training Epoch 103: 100%|██████████| 901/901 [00:05<00:00, 161.56it/s]\n",
      "Training Epoch 104: 100%|██████████| 901/901 [00:05<00:00, 163.07it/s]\n",
      "Training Epoch 105: 100%|██████████| 901/901 [00:05<00:00, 164.37it/s]\n",
      "Training Epoch 106: 100%|██████████| 901/901 [00:05<00:00, 166.51it/s]\n",
      "Training Epoch 107: 100%|██████████| 901/901 [00:05<00:00, 165.58it/s]\n",
      "Training Epoch 108: 100%|██████████| 901/901 [00:05<00:00, 165.91it/s]\n",
      "Training Epoch 109: 100%|██████████| 901/901 [00:05<00:00, 164.69it/s]\n",
      "Training Epoch 110: 100%|██████████| 901/901 [00:05<00:00, 168.42it/s]\n",
      "Training Epoch 111: 100%|██████████| 901/901 [00:05<00:00, 164.97it/s]\n"
     ]
    },
    {
     "name": "stdout",
     "output_type": "stream",
     "text": [
      "Epoch 110 - Train Loss: 0.2348, Train MSE: 0.2348, Train MAE: 0.3720\n",
      "Epoch 110 - Validation Loss: 0.7253, Validation MSE: 0.7253, Validation MAE: 0.6348\n"
     ]
    },
    {
     "name": "stderr",
     "output_type": "stream",
     "text": [
      "Training Epoch 112: 100%|██████████| 901/901 [00:05<00:00, 165.45it/s]\n",
      "Training Epoch 113: 100%|██████████| 901/901 [00:05<00:00, 164.09it/s]\n",
      "Training Epoch 114: 100%|██████████| 901/901 [00:05<00:00, 163.91it/s]\n",
      "Training Epoch 115: 100%|██████████| 901/901 [00:05<00:00, 165.35it/s]\n",
      "Training Epoch 116: 100%|██████████| 901/901 [00:05<00:00, 166.49it/s]\n",
      "Training Epoch 117: 100%|██████████| 901/901 [00:05<00:00, 163.44it/s]\n",
      "Training Epoch 118: 100%|██████████| 901/901 [00:05<00:00, 164.95it/s]\n",
      "Training Epoch 119: 100%|██████████| 901/901 [00:05<00:00, 167.90it/s]\n",
      "Training Epoch 120: 100%|██████████| 901/901 [00:05<00:00, 164.65it/s]\n",
      "Training Epoch 121: 100%|██████████| 901/901 [00:05<00:00, 169.55it/s]\n"
     ]
    },
    {
     "name": "stdout",
     "output_type": "stream",
     "text": [
      "Epoch 120 - Train Loss: 0.2243, Train MSE: 0.2242, Train MAE: 0.3638\n",
      "Epoch 120 - Validation Loss: 0.7280, Validation MSE: 0.7280, Validation MAE: 0.6333\n"
     ]
    },
    {
     "name": "stderr",
     "output_type": "stream",
     "text": [
      "Training Epoch 122: 100%|██████████| 901/901 [00:05<00:00, 167.89it/s]\n",
      "Training Epoch 123: 100%|██████████| 901/901 [00:05<00:00, 167.46it/s]\n",
      "Training Epoch 124: 100%|██████████| 901/901 [00:05<00:00, 165.68it/s]\n",
      "Training Epoch 125: 100%|██████████| 901/901 [00:05<00:00, 167.24it/s]\n",
      "Training Epoch 126: 100%|██████████| 901/901 [00:05<00:00, 165.34it/s]\n",
      "Training Epoch 127: 100%|██████████| 901/901 [00:05<00:00, 166.69it/s]\n",
      "Training Epoch 128: 100%|██████████| 901/901 [00:05<00:00, 161.98it/s]\n",
      "Training Epoch 129: 100%|██████████| 901/901 [00:05<00:00, 166.77it/s]\n",
      "Training Epoch 130: 100%|██████████| 901/901 [00:05<00:00, 165.46it/s]\n",
      "Training Epoch 131: 100%|██████████| 901/901 [00:05<00:00, 164.42it/s]\n"
     ]
    },
    {
     "name": "stdout",
     "output_type": "stream",
     "text": [
      "Epoch 130 - Train Loss: 0.2132, Train MSE: 0.2132, Train MAE: 0.3556\n",
      "Epoch 130 - Validation Loss: 0.7113, Validation MSE: 0.7113, Validation MAE: 0.6213\n"
     ]
    },
    {
     "name": "stderr",
     "output_type": "stream",
     "text": [
      "Training Epoch 132: 100%|██████████| 901/901 [00:05<00:00, 165.09it/s]\n",
      "Training Epoch 133: 100%|██████████| 901/901 [00:05<00:00, 170.26it/s]\n",
      "Training Epoch 134: 100%|██████████| 901/901 [00:05<00:00, 167.01it/s]\n",
      "Training Epoch 135: 100%|██████████| 901/901 [00:05<00:00, 165.24it/s]\n",
      "Training Epoch 136: 100%|██████████| 901/901 [00:05<00:00, 165.01it/s]\n",
      "Training Epoch 137: 100%|██████████| 901/901 [00:05<00:00, 167.31it/s]\n",
      "Training Epoch 138: 100%|██████████| 901/901 [00:05<00:00, 165.18it/s]\n",
      "Training Epoch 139: 100%|██████████| 901/901 [00:05<00:00, 169.30it/s]\n",
      "Training Epoch 140: 100%|██████████| 901/901 [00:05<00:00, 158.98it/s]\n",
      "Training Epoch 141: 100%|██████████| 901/901 [00:05<00:00, 167.72it/s]\n"
     ]
    },
    {
     "name": "stdout",
     "output_type": "stream",
     "text": [
      "Epoch 140 - Train Loss: 0.2045, Train MSE: 0.2045, Train MAE: 0.3461\n",
      "Epoch 140 - Validation Loss: 0.7304, Validation MSE: 0.7304, Validation MAE: 0.6311\n"
     ]
    },
    {
     "name": "stderr",
     "output_type": "stream",
     "text": [
      "Training Epoch 142: 100%|██████████| 901/901 [00:05<00:00, 164.80it/s]\n",
      "Training Epoch 143: 100%|██████████| 901/901 [00:05<00:00, 165.91it/s]\n",
      "Training Epoch 144: 100%|██████████| 901/901 [00:05<00:00, 167.39it/s]\n",
      "Training Epoch 145: 100%|██████████| 901/901 [00:05<00:00, 164.17it/s]\n",
      "Training Epoch 146: 100%|██████████| 901/901 [00:05<00:00, 166.17it/s]\n",
      "Training Epoch 147: 100%|██████████| 901/901 [00:05<00:00, 165.38it/s]\n",
      "Training Epoch 148: 100%|██████████| 901/901 [00:05<00:00, 162.78it/s]\n",
      "Training Epoch 149: 100%|██████████| 901/901 [00:05<00:00, 163.09it/s]\n",
      "Training Epoch 150: 100%|██████████| 901/901 [00:05<00:00, 164.12it/s]\n",
      "Training Epoch 151: 100%|██████████| 901/901 [00:05<00:00, 164.79it/s]\n"
     ]
    },
    {
     "name": "stdout",
     "output_type": "stream",
     "text": [
      "Epoch 150 - Train Loss: 0.1942, Train MSE: 0.1942, Train MAE: 0.3388\n",
      "Epoch 150 - Validation Loss: 0.7195, Validation MSE: 0.7195, Validation MAE: 0.6261\n"
     ]
    },
    {
     "name": "stderr",
     "output_type": "stream",
     "text": [
      "Training Epoch 152: 100%|██████████| 901/901 [00:05<00:00, 167.82it/s]\n",
      "Training Epoch 153: 100%|██████████| 901/901 [00:05<00:00, 163.54it/s]\n",
      "Training Epoch 154: 100%|██████████| 901/901 [00:05<00:00, 167.61it/s]\n",
      "Training Epoch 155: 100%|██████████| 901/901 [00:05<00:00, 167.84it/s]\n",
      "Training Epoch 156: 100%|██████████| 901/901 [00:05<00:00, 171.04it/s]\n",
      "Training Epoch 157: 100%|██████████| 901/901 [00:05<00:00, 167.84it/s]\n",
      "Training Epoch 158: 100%|██████████| 901/901 [00:05<00:00, 166.69it/s]\n",
      "Training Epoch 159: 100%|██████████| 901/901 [00:05<00:00, 165.59it/s]\n",
      "Training Epoch 160: 100%|██████████| 901/901 [00:05<00:00, 166.19it/s]\n",
      "Training Epoch 161: 100%|██████████| 901/901 [00:05<00:00, 165.57it/s]\n"
     ]
    },
    {
     "name": "stdout",
     "output_type": "stream",
     "text": [
      "Epoch 160 - Train Loss: 0.1899, Train MSE: 0.1899, Train MAE: 0.3336\n",
      "Epoch 160 - Validation Loss: 0.7150, Validation MSE: 0.7150, Validation MAE: 0.6246\n"
     ]
    },
    {
     "name": "stderr",
     "output_type": "stream",
     "text": [
      "Training Epoch 162: 100%|██████████| 901/901 [00:05<00:00, 167.46it/s]\n",
      "Training Epoch 163: 100%|██████████| 901/901 [00:05<00:00, 164.93it/s]\n",
      "Training Epoch 164: 100%|██████████| 901/901 [00:05<00:00, 165.39it/s]\n",
      "Training Epoch 165: 100%|██████████| 901/901 [00:05<00:00, 165.22it/s]\n",
      "Training Epoch 166: 100%|██████████| 901/901 [00:05<00:00, 165.81it/s]\n",
      "Training Epoch 167: 100%|██████████| 901/901 [00:05<00:00, 166.99it/s]\n",
      "Training Epoch 168: 100%|██████████| 901/901 [00:05<00:00, 168.08it/s]\n",
      "Training Epoch 169: 100%|██████████| 901/901 [00:05<00:00, 164.56it/s]\n",
      "Training Epoch 170: 100%|██████████| 901/901 [00:05<00:00, 166.55it/s]\n",
      "Training Epoch 171: 100%|██████████| 901/901 [00:05<00:00, 166.02it/s]\n"
     ]
    },
    {
     "name": "stdout",
     "output_type": "stream",
     "text": [
      "Epoch 170 - Train Loss: 0.1817, Train MSE: 0.1817, Train MAE: 0.3262\n",
      "Epoch 170 - Validation Loss: 0.7105, Validation MSE: 0.7105, Validation MAE: 0.6232\n"
     ]
    },
    {
     "name": "stderr",
     "output_type": "stream",
     "text": [
      "Training Epoch 172: 100%|██████████| 901/901 [00:05<00:00, 166.53it/s]\n",
      "Training Epoch 173: 100%|██████████| 901/901 [00:05<00:00, 170.17it/s]\n",
      "Training Epoch 174: 100%|██████████| 901/901 [00:05<00:00, 168.56it/s]\n",
      "Training Epoch 175: 100%|██████████| 901/901 [00:05<00:00, 167.44it/s]\n",
      "Training Epoch 176: 100%|██████████| 901/901 [00:05<00:00, 167.13it/s]\n",
      "Training Epoch 177: 100%|██████████| 901/901 [00:05<00:00, 166.42it/s]\n",
      "Training Epoch 178: 100%|██████████| 901/901 [00:05<00:00, 166.20it/s]\n",
      "Training Epoch 179: 100%|██████████| 901/901 [00:05<00:00, 168.43it/s]\n",
      "Training Epoch 180: 100%|██████████| 901/901 [00:05<00:00, 167.09it/s]\n",
      "Training Epoch 181: 100%|██████████| 901/901 [00:05<00:00, 165.41it/s]\n"
     ]
    },
    {
     "name": "stdout",
     "output_type": "stream",
     "text": [
      "Epoch 180 - Train Loss: 0.1768, Train MSE: 0.1768, Train MAE: 0.3216\n",
      "Epoch 180 - Validation Loss: 0.7112, Validation MSE: 0.7112, Validation MAE: 0.6237\n"
     ]
    },
    {
     "name": "stderr",
     "output_type": "stream",
     "text": [
      "Training Epoch 182: 100%|██████████| 901/901 [00:05<00:00, 165.48it/s]\n",
      "Training Epoch 183: 100%|██████████| 901/901 [00:05<00:00, 165.64it/s]\n",
      "Training Epoch 184: 100%|██████████| 901/901 [00:05<00:00, 167.32it/s]\n",
      "Training Epoch 185: 100%|██████████| 901/901 [00:05<00:00, 168.41it/s]\n",
      "Training Epoch 186: 100%|██████████| 901/901 [00:05<00:00, 167.41it/s]\n",
      "Training Epoch 187: 100%|██████████| 901/901 [00:05<00:00, 162.32it/s]\n",
      "Training Epoch 188: 100%|██████████| 901/901 [00:05<00:00, 165.65it/s]\n",
      "Training Epoch 189: 100%|██████████| 901/901 [00:05<00:00, 161.62it/s]\n",
      "Training Epoch 190: 100%|██████████| 901/901 [00:05<00:00, 169.12it/s]\n",
      "Training Epoch 191: 100%|██████████| 901/901 [00:05<00:00, 171.41it/s]\n"
     ]
    },
    {
     "name": "stdout",
     "output_type": "stream",
     "text": [
      "Epoch 190 - Train Loss: 0.1689, Train MSE: 0.1690, Train MAE: 0.3139\n",
      "Epoch 190 - Validation Loss: 0.7055, Validation MSE: 0.7055, Validation MAE: 0.6193\n"
     ]
    },
    {
     "name": "stderr",
     "output_type": "stream",
     "text": [
      "Training Epoch 192: 100%|██████████| 901/901 [00:05<00:00, 165.87it/s]\n",
      "Training Epoch 193: 100%|██████████| 901/901 [00:05<00:00, 166.54it/s]\n",
      "Training Epoch 194: 100%|██████████| 901/901 [00:05<00:00, 166.47it/s]\n",
      "Training Epoch 195: 100%|██████████| 901/901 [00:05<00:00, 166.78it/s]\n",
      "Training Epoch 196: 100%|██████████| 901/901 [00:05<00:00, 169.95it/s]\n",
      "Training Epoch 197: 100%|██████████| 901/901 [00:05<00:00, 165.21it/s]\n",
      "Training Epoch 198: 100%|██████████| 901/901 [00:05<00:00, 166.26it/s]\n",
      "Training Epoch 199: 100%|██████████| 901/901 [00:05<00:00, 165.93it/s]\n",
      "Training Epoch 200: 100%|██████████| 901/901 [00:05<00:00, 164.47it/s]\n",
      "Training Epoch 201: 100%|██████████| 901/901 [00:05<00:00, 168.35it/s]\n"
     ]
    },
    {
     "name": "stdout",
     "output_type": "stream",
     "text": [
      "Epoch 200 - Train Loss: 0.1641, Train MSE: 0.1641, Train MAE: 0.3097\n",
      "Epoch 200 - Validation Loss: 0.7075, Validation MSE: 0.7075, Validation MAE: 0.6187\n"
     ]
    },
    {
     "name": "stderr",
     "output_type": "stream",
     "text": [
      "Training Epoch 202: 100%|██████████| 901/901 [00:05<00:00, 169.84it/s]\n",
      "Training Epoch 203: 100%|██████████| 901/901 [00:05<00:00, 164.71it/s]\n",
      "Training Epoch 204: 100%|██████████| 901/901 [00:05<00:00, 166.83it/s]\n",
      "Training Epoch 205: 100%|██████████| 901/901 [00:05<00:00, 165.52it/s]\n",
      "Training Epoch 206: 100%|██████████| 901/901 [00:05<00:00, 165.37it/s]\n",
      "Training Epoch 207: 100%|██████████| 901/901 [00:05<00:00, 167.67it/s]\n",
      "Training Epoch 208: 100%|██████████| 901/901 [00:05<00:00, 168.45it/s]\n",
      "Training Epoch 209: 100%|██████████| 901/901 [00:05<00:00, 166.99it/s]\n",
      "Training Epoch 210: 100%|██████████| 901/901 [00:05<00:00, 168.34it/s]\n",
      "Training Epoch 211: 100%|██████████| 901/901 [00:05<00:00, 167.41it/s]\n"
     ]
    },
    {
     "name": "stdout",
     "output_type": "stream",
     "text": [
      "Epoch 210 - Train Loss: 0.1597, Train MSE: 0.1597, Train MAE: 0.3055\n",
      "Epoch 210 - Validation Loss: 0.7135, Validation MSE: 0.7135, Validation MAE: 0.6196\n"
     ]
    },
    {
     "name": "stderr",
     "output_type": "stream",
     "text": [
      "Training Epoch 212: 100%|██████████| 901/901 [00:05<00:00, 168.40it/s]\n",
      "Training Epoch 213: 100%|██████████| 901/901 [00:05<00:00, 167.92it/s]\n",
      "Training Epoch 214: 100%|██████████| 901/901 [00:05<00:00, 169.17it/s]\n",
      "Training Epoch 215: 100%|██████████| 901/901 [00:05<00:00, 164.61it/s]\n",
      "Training Epoch 216: 100%|██████████| 901/901 [00:05<00:00, 167.64it/s]\n",
      "Training Epoch 217: 100%|██████████| 901/901 [00:05<00:00, 168.06it/s]\n",
      "Training Epoch 218: 100%|██████████| 901/901 [00:05<00:00, 167.64it/s]\n",
      "Training Epoch 219: 100%|██████████| 901/901 [00:05<00:00, 166.13it/s]\n",
      "Training Epoch 220: 100%|██████████| 901/901 [00:05<00:00, 167.79it/s]\n",
      "Training Epoch 221: 100%|██████████| 901/901 [00:05<00:00, 167.94it/s]\n"
     ]
    },
    {
     "name": "stdout",
     "output_type": "stream",
     "text": [
      "Epoch 220 - Train Loss: 0.1536, Train MSE: 0.1536, Train MAE: 0.2996\n",
      "Epoch 220 - Validation Loss: 0.7221, Validation MSE: 0.7221, Validation MAE: 0.6249\n"
     ]
    },
    {
     "name": "stderr",
     "output_type": "stream",
     "text": [
      "Training Epoch 222: 100%|██████████| 901/901 [00:05<00:00, 167.66it/s]\n",
      "Training Epoch 223: 100%|██████████| 901/901 [00:05<00:00, 168.62it/s]\n",
      "Training Epoch 224: 100%|██████████| 901/901 [00:05<00:00, 165.19it/s]\n",
      "Training Epoch 225: 100%|██████████| 901/901 [00:05<00:00, 169.43it/s]\n",
      "Training Epoch 226: 100%|██████████| 901/901 [00:05<00:00, 167.24it/s]\n",
      "Training Epoch 227: 100%|██████████| 901/901 [00:05<00:00, 166.79it/s]\n",
      "Training Epoch 228: 100%|██████████| 901/901 [00:05<00:00, 167.25it/s]\n",
      "Training Epoch 229: 100%|██████████| 901/901 [00:05<00:00, 165.25it/s]\n",
      "Training Epoch 230: 100%|██████████| 901/901 [00:05<00:00, 162.29it/s]\n",
      "Training Epoch 231: 100%|██████████| 901/901 [00:05<00:00, 166.57it/s]\n"
     ]
    },
    {
     "name": "stdout",
     "output_type": "stream",
     "text": [
      "Epoch 230 - Train Loss: 0.1499, Train MSE: 0.1499, Train MAE: 0.2967\n",
      "Epoch 230 - Validation Loss: 0.7120, Validation MSE: 0.7120, Validation MAE: 0.6203\n"
     ]
    },
    {
     "name": "stderr",
     "output_type": "stream",
     "text": [
      "Training Epoch 232: 100%|██████████| 901/901 [00:05<00:00, 167.80it/s]\n",
      "Training Epoch 233: 100%|██████████| 901/901 [00:05<00:00, 167.17it/s]\n",
      "Training Epoch 234: 100%|██████████| 901/901 [00:05<00:00, 164.69it/s]\n",
      "Training Epoch 235: 100%|██████████| 901/901 [00:05<00:00, 166.56it/s]\n",
      "Training Epoch 236: 100%|██████████| 901/901 [00:05<00:00, 162.72it/s]\n",
      "Training Epoch 237: 100%|██████████| 901/901 [00:05<00:00, 168.98it/s]\n",
      "Training Epoch 238: 100%|██████████| 901/901 [00:05<00:00, 165.81it/s]\n",
      "Training Epoch 239: 100%|██████████| 901/901 [00:05<00:00, 165.85it/s]\n",
      "Training Epoch 240: 100%|██████████| 901/901 [00:05<00:00, 167.87it/s]\n",
      "Training Epoch 241: 100%|██████████| 901/901 [00:05<00:00, 165.38it/s]\n"
     ]
    },
    {
     "name": "stdout",
     "output_type": "stream",
     "text": [
      "Epoch 240 - Train Loss: 0.1465, Train MSE: 0.1465, Train MAE: 0.2927\n",
      "Epoch 240 - Validation Loss: 0.7180, Validation MSE: 0.7180, Validation MAE: 0.6246\n"
     ]
    },
    {
     "name": "stderr",
     "output_type": "stream",
     "text": [
      "Training Epoch 242: 100%|██████████| 901/901 [00:05<00:00, 169.68it/s]\n",
      "Training Epoch 243: 100%|██████████| 901/901 [00:05<00:00, 170.10it/s]\n",
      "Training Epoch 244: 100%|██████████| 901/901 [00:05<00:00, 164.15it/s]\n",
      "Training Epoch 245: 100%|██████████| 901/901 [00:05<00:00, 166.93it/s]\n",
      "Training Epoch 246: 100%|██████████| 901/901 [00:05<00:00, 167.93it/s]\n",
      "Training Epoch 247: 100%|██████████| 901/901 [00:05<00:00, 166.91it/s]\n",
      "Training Epoch 248: 100%|██████████| 901/901 [00:05<00:00, 170.41it/s]\n",
      "Training Epoch 249: 100%|██████████| 901/901 [00:05<00:00, 166.90it/s]\n",
      "Training Epoch 250: 100%|██████████| 901/901 [00:05<00:00, 165.76it/s]\n",
      "Training Epoch 251: 100%|██████████| 901/901 [00:05<00:00, 165.99it/s]\n"
     ]
    },
    {
     "name": "stdout",
     "output_type": "stream",
     "text": [
      "Epoch 250 - Train Loss: 0.1469, Train MSE: 0.1469, Train MAE: 0.2927\n",
      "Epoch 250 - Validation Loss: 0.7134, Validation MSE: 0.7134, Validation MAE: 0.6233\n"
     ]
    },
    {
     "name": "stderr",
     "output_type": "stream",
     "text": [
      "Training Epoch 252: 100%|██████████| 901/901 [00:05<00:00, 164.74it/s]\n",
      "Training Epoch 253: 100%|██████████| 901/901 [00:05<00:00, 166.94it/s]\n",
      "Training Epoch 254: 100%|██████████| 901/901 [00:05<00:00, 171.26it/s]\n",
      "Training Epoch 255: 100%|██████████| 901/901 [00:05<00:00, 166.44it/s]\n",
      "Training Epoch 256: 100%|██████████| 901/901 [00:05<00:00, 167.54it/s]\n",
      "Training Epoch 257: 100%|██████████| 901/901 [00:05<00:00, 166.84it/s]\n",
      "Training Epoch 258: 100%|██████████| 901/901 [00:05<00:00, 164.43it/s]\n",
      "Training Epoch 259: 100%|██████████| 901/901 [00:05<00:00, 165.45it/s]\n",
      "Training Epoch 260: 100%|██████████| 901/901 [00:05<00:00, 168.58it/s]\n",
      "Training Epoch 261: 100%|██████████| 901/901 [00:05<00:00, 166.42it/s]\n"
     ]
    },
    {
     "name": "stdout",
     "output_type": "stream",
     "text": [
      "Epoch 260 - Train Loss: 0.1451, Train MSE: 0.1451, Train MAE: 0.2904\n",
      "Epoch 260 - Validation Loss: 0.7069, Validation MSE: 0.7069, Validation MAE: 0.6177\n"
     ]
    },
    {
     "name": "stderr",
     "output_type": "stream",
     "text": [
      "Training Epoch 262: 100%|██████████| 901/901 [00:05<00:00, 165.42it/s]\n",
      "Training Epoch 263: 100%|██████████| 901/901 [00:05<00:00, 165.75it/s]\n",
      "Training Epoch 264: 100%|██████████| 901/901 [00:05<00:00, 167.10it/s]\n",
      "Training Epoch 265: 100%|██████████| 901/901 [00:05<00:00, 163.50it/s]\n",
      "Training Epoch 266: 100%|██████████| 901/901 [00:05<00:00, 173.94it/s]\n",
      "Training Epoch 267: 100%|██████████| 901/901 [00:05<00:00, 170.58it/s]\n",
      "Training Epoch 268: 100%|██████████| 901/901 [00:05<00:00, 171.09it/s]\n",
      "Training Epoch 269: 100%|██████████| 901/901 [00:05<00:00, 168.76it/s]\n",
      "Training Epoch 270: 100%|██████████| 901/901 [00:05<00:00, 172.17it/s]\n",
      "Training Epoch 271: 100%|██████████| 901/901 [00:05<00:00, 171.74it/s]\n"
     ]
    },
    {
     "name": "stdout",
     "output_type": "stream",
     "text": [
      "Epoch 270 - Train Loss: 0.1396, Train MSE: 0.1396, Train MAE: 0.2856\n",
      "Epoch 270 - Validation Loss: 0.7170, Validation MSE: 0.7170, Validation MAE: 0.6217\n"
     ]
    },
    {
     "name": "stderr",
     "output_type": "stream",
     "text": [
      "Training Epoch 272: 100%|██████████| 901/901 [00:05<00:00, 172.18it/s]\n",
      "Training Epoch 273: 100%|██████████| 901/901 [00:05<00:00, 172.29it/s]\n",
      "Training Epoch 274: 100%|██████████| 901/901 [00:05<00:00, 167.66it/s]\n",
      "Training Epoch 275: 100%|██████████| 901/901 [00:05<00:00, 171.40it/s]\n",
      "Training Epoch 276: 100%|██████████| 901/901 [00:05<00:00, 172.61it/s]\n",
      "Training Epoch 277: 100%|██████████| 901/901 [00:05<00:00, 174.25it/s]\n",
      "Training Epoch 278: 100%|██████████| 901/901 [00:05<00:00, 172.27it/s]\n",
      "Training Epoch 279: 100%|██████████| 901/901 [00:05<00:00, 171.09it/s]\n",
      "Training Epoch 280: 100%|██████████| 901/901 [00:05<00:00, 170.37it/s]\n",
      "Training Epoch 281: 100%|██████████| 901/901 [00:05<00:00, 170.75it/s]\n"
     ]
    },
    {
     "name": "stdout",
     "output_type": "stream",
     "text": [
      "Epoch 280 - Train Loss: 0.1372, Train MSE: 0.1371, Train MAE: 0.2826\n",
      "Epoch 280 - Validation Loss: 0.7059, Validation MSE: 0.7059, Validation MAE: 0.6181\n"
     ]
    },
    {
     "name": "stderr",
     "output_type": "stream",
     "text": [
      "Training Epoch 282: 100%|██████████| 901/901 [00:05<00:00, 172.29it/s]\n",
      "Training Epoch 283: 100%|██████████| 901/901 [00:05<00:00, 173.15it/s]\n",
      "Training Epoch 284: 100%|██████████| 901/901 [00:05<00:00, 170.88it/s]\n",
      "Training Epoch 285: 100%|██████████| 901/901 [00:05<00:00, 171.70it/s]\n",
      "Training Epoch 286: 100%|██████████| 901/901 [00:05<00:00, 168.41it/s]\n",
      "Training Epoch 287: 100%|██████████| 901/901 [00:05<00:00, 171.67it/s]\n",
      "Training Epoch 288: 100%|██████████| 901/901 [00:05<00:00, 169.47it/s]\n",
      "Training Epoch 289: 100%|██████████| 901/901 [00:05<00:00, 173.10it/s]\n",
      "Training Epoch 290: 100%|██████████| 901/901 [00:05<00:00, 170.19it/s]\n",
      "Training Epoch 291: 100%|██████████| 901/901 [00:05<00:00, 172.23it/s]\n"
     ]
    },
    {
     "name": "stdout",
     "output_type": "stream",
     "text": [
      "Epoch 290 - Train Loss: 0.1326, Train MSE: 0.1326, Train MAE: 0.2787\n",
      "Epoch 290 - Validation Loss: 0.7023, Validation MSE: 0.7023, Validation MAE: 0.6181\n"
     ]
    },
    {
     "name": "stderr",
     "output_type": "stream",
     "text": [
      "Training Epoch 292: 100%|██████████| 901/901 [00:05<00:00, 169.08it/s]\n",
      "Training Epoch 293: 100%|██████████| 901/901 [00:05<00:00, 169.38it/s]\n",
      "Training Epoch 294: 100%|██████████| 901/901 [00:05<00:00, 169.16it/s]\n",
      "Training Epoch 295: 100%|██████████| 901/901 [00:05<00:00, 174.69it/s]\n",
      "Training Epoch 296: 100%|██████████| 901/901 [00:05<00:00, 170.37it/s]\n",
      "Training Epoch 297: 100%|██████████| 901/901 [00:05<00:00, 169.68it/s]\n",
      "Training Epoch 298: 100%|██████████| 901/901 [00:05<00:00, 169.00it/s]\n",
      "Training Epoch 299: 100%|██████████| 901/901 [00:05<00:00, 169.83it/s]\n",
      "Training Epoch 300: 100%|██████████| 901/901 [00:05<00:00, 170.15it/s]\n",
      "Training Epoch 301: 100%|██████████| 901/901 [00:05<00:00, 172.88it/s]\n"
     ]
    },
    {
     "name": "stdout",
     "output_type": "stream",
     "text": [
      "Epoch 300 - Train Loss: 0.1340, Train MSE: 0.1340, Train MAE: 0.2799\n",
      "Epoch 300 - Validation Loss: 0.7066, Validation MSE: 0.7066, Validation MAE: 0.6183\n"
     ]
    },
    {
     "name": "stderr",
     "output_type": "stream",
     "text": [
      "Training Epoch 302: 100%|██████████| 901/901 [00:05<00:00, 170.27it/s]\n",
      "Training Epoch 303: 100%|██████████| 901/901 [00:05<00:00, 168.79it/s]\n",
      "Training Epoch 304: 100%|██████████| 901/901 [00:05<00:00, 166.52it/s]\n",
      "Training Epoch 305: 100%|██████████| 901/901 [00:05<00:00, 170.57it/s]\n",
      "Training Epoch 306: 100%|██████████| 901/901 [00:05<00:00, 172.12it/s]\n",
      "Training Epoch 307: 100%|██████████| 901/901 [00:05<00:00, 171.63it/s]\n",
      "Training Epoch 308: 100%|██████████| 901/901 [00:05<00:00, 169.45it/s]\n",
      "Training Epoch 309: 100%|██████████| 901/901 [00:05<00:00, 168.73it/s]\n",
      "Training Epoch 310: 100%|██████████| 901/901 [00:05<00:00, 170.28it/s]\n",
      "Training Epoch 311: 100%|██████████| 901/901 [00:05<00:00, 169.27it/s]\n"
     ]
    },
    {
     "name": "stdout",
     "output_type": "stream",
     "text": [
      "Epoch 310 - Train Loss: 0.1297, Train MSE: 0.1296, Train MAE: 0.2745\n",
      "Epoch 310 - Validation Loss: 0.7049, Validation MSE: 0.7049, Validation MAE: 0.6181\n"
     ]
    },
    {
     "name": "stderr",
     "output_type": "stream",
     "text": [
      "Training Epoch 312: 100%|██████████| 901/901 [00:05<00:00, 172.56it/s]\n",
      "Training Epoch 313: 100%|██████████| 901/901 [00:05<00:00, 171.10it/s]\n",
      "Training Epoch 314: 100%|██████████| 901/901 [00:05<00:00, 168.64it/s]\n",
      "Training Epoch 315: 100%|██████████| 901/901 [00:05<00:00, 167.80it/s]\n",
      "Training Epoch 316: 100%|██████████| 901/901 [00:05<00:00, 170.24it/s]\n",
      "Training Epoch 317: 100%|██████████| 901/901 [00:05<00:00, 169.42it/s]\n",
      "Training Epoch 318: 100%|██████████| 901/901 [00:05<00:00, 173.70it/s]\n",
      "Training Epoch 319: 100%|██████████| 901/901 [00:05<00:00, 168.69it/s]\n",
      "Training Epoch 320: 100%|██████████| 901/901 [00:05<00:00, 170.49it/s]\n",
      "Training Epoch 321: 100%|██████████| 901/901 [00:05<00:00, 169.12it/s]\n"
     ]
    },
    {
     "name": "stdout",
     "output_type": "stream",
     "text": [
      "Epoch 320 - Train Loss: 0.1278, Train MSE: 0.1277, Train MAE: 0.2728\n",
      "Epoch 320 - Validation Loss: 0.7061, Validation MSE: 0.7061, Validation MAE: 0.6172\n"
     ]
    },
    {
     "name": "stderr",
     "output_type": "stream",
     "text": [
      "Training Epoch 322: 100%|██████████| 901/901 [00:05<00:00, 170.73it/s]\n",
      "Training Epoch 323: 100%|██████████| 901/901 [00:05<00:00, 169.78it/s]\n",
      "Training Epoch 324: 100%|██████████| 901/901 [00:05<00:00, 173.38it/s]\n",
      "Training Epoch 325: 100%|██████████| 901/901 [00:05<00:00, 167.85it/s]\n",
      "Training Epoch 326: 100%|██████████| 901/901 [00:05<00:00, 171.64it/s]\n",
      "Training Epoch 327: 100%|██████████| 901/901 [00:05<00:00, 171.67it/s]\n",
      "Training Epoch 328: 100%|██████████| 901/901 [00:05<00:00, 169.11it/s]\n",
      "Training Epoch 329: 100%|██████████| 901/901 [00:05<00:00, 170.11it/s]\n",
      "Training Epoch 330: 100%|██████████| 901/901 [00:05<00:00, 173.38it/s]\n",
      "Training Epoch 331: 100%|██████████| 901/901 [00:05<00:00, 167.50it/s]\n"
     ]
    },
    {
     "name": "stdout",
     "output_type": "stream",
     "text": [
      "Epoch 330 - Train Loss: 0.1239, Train MSE: 0.1239, Train MAE: 0.2683\n",
      "Epoch 330 - Validation Loss: 0.7021, Validation MSE: 0.7021, Validation MAE: 0.6161\n"
     ]
    },
    {
     "name": "stderr",
     "output_type": "stream",
     "text": [
      "Training Epoch 332: 100%|██████████| 901/901 [00:05<00:00, 168.30it/s]\n",
      "Training Epoch 333: 100%|██████████| 901/901 [00:05<00:00, 169.10it/s]\n",
      "Training Epoch 334: 100%|██████████| 901/901 [00:05<00:00, 166.91it/s]\n",
      "Training Epoch 335: 100%|██████████| 901/901 [00:05<00:00, 170.81it/s]\n",
      "Training Epoch 336: 100%|██████████| 901/901 [00:05<00:00, 168.88it/s]\n",
      "Training Epoch 337: 100%|██████████| 901/901 [00:05<00:00, 169.20it/s]\n",
      "Training Epoch 338: 100%|██████████| 901/901 [00:05<00:00, 168.39it/s]\n",
      "Training Epoch 339: 100%|██████████| 901/901 [00:05<00:00, 168.41it/s]\n",
      "Training Epoch 340: 100%|██████████| 901/901 [00:05<00:00, 171.16it/s]\n",
      "Training Epoch 341: 100%|██████████| 901/901 [00:05<00:00, 171.01it/s]\n"
     ]
    },
    {
     "name": "stdout",
     "output_type": "stream",
     "text": [
      "Epoch 340 - Train Loss: 0.1237, Train MSE: 0.1237, Train MAE: 0.2683\n",
      "Epoch 340 - Validation Loss: 0.7081, Validation MSE: 0.7081, Validation MAE: 0.6193\n"
     ]
    },
    {
     "name": "stderr",
     "output_type": "stream",
     "text": [
      "Training Epoch 342: 100%|██████████| 901/901 [00:05<00:00, 167.67it/s]\n",
      "Training Epoch 343: 100%|██████████| 901/901 [00:05<00:00, 168.76it/s]\n",
      "Training Epoch 344: 100%|██████████| 901/901 [00:05<00:00, 168.49it/s]\n",
      "Training Epoch 345: 100%|██████████| 901/901 [00:05<00:00, 167.92it/s]\n",
      "Training Epoch 346: 100%|██████████| 901/901 [00:05<00:00, 166.77it/s]\n",
      "Training Epoch 347: 100%|██████████| 901/901 [00:05<00:00, 170.65it/s]\n",
      "Training Epoch 348: 100%|██████████| 901/901 [00:05<00:00, 169.18it/s]\n",
      "Training Epoch 349: 100%|██████████| 901/901 [00:05<00:00, 169.58it/s]\n",
      "Training Epoch 350: 100%|██████████| 901/901 [00:05<00:00, 168.68it/s]\n",
      "Training Epoch 351: 100%|██████████| 901/901 [00:05<00:00, 170.78it/s]\n"
     ]
    },
    {
     "name": "stdout",
     "output_type": "stream",
     "text": [
      "Epoch 350 - Train Loss: 0.1225, Train MSE: 0.1225, Train MAE: 0.2674\n",
      "Epoch 350 - Validation Loss: 0.7030, Validation MSE: 0.7030, Validation MAE: 0.6155\n"
     ]
    },
    {
     "name": "stderr",
     "output_type": "stream",
     "text": [
      "Training Epoch 352: 100%|██████████| 901/901 [00:05<00:00, 170.01it/s]\n",
      "Training Epoch 353: 100%|██████████| 901/901 [00:05<00:00, 171.30it/s]\n",
      "Training Epoch 354: 100%|██████████| 901/901 [00:05<00:00, 170.47it/s]\n",
      "Training Epoch 355: 100%|██████████| 901/901 [00:05<00:00, 167.78it/s]\n",
      "Training Epoch 356: 100%|██████████| 901/901 [00:05<00:00, 168.05it/s]\n",
      "Training Epoch 357: 100%|██████████| 901/901 [00:05<00:00, 169.21it/s]\n",
      "Training Epoch 358: 100%|██████████| 901/901 [00:05<00:00, 168.94it/s]\n",
      "Training Epoch 359: 100%|██████████| 901/901 [00:05<00:00, 170.26it/s]\n",
      "Training Epoch 360: 100%|██████████| 901/901 [00:05<00:00, 168.94it/s]\n",
      "Training Epoch 361: 100%|██████████| 901/901 [00:05<00:00, 167.00it/s]\n"
     ]
    },
    {
     "name": "stdout",
     "output_type": "stream",
     "text": [
      "Epoch 360 - Train Loss: 0.1201, Train MSE: 0.1201, Train MAE: 0.2644\n",
      "Epoch 360 - Validation Loss: 0.7024, Validation MSE: 0.7024, Validation MAE: 0.6161\n"
     ]
    },
    {
     "name": "stderr",
     "output_type": "stream",
     "text": [
      "Training Epoch 362: 100%|██████████| 901/901 [00:05<00:00, 169.14it/s]\n",
      "Training Epoch 363: 100%|██████████| 901/901 [00:05<00:00, 168.73it/s]\n",
      "Training Epoch 364: 100%|██████████| 901/901 [00:05<00:00, 170.99it/s]\n",
      "Training Epoch 365: 100%|██████████| 901/901 [00:05<00:00, 168.87it/s]\n",
      "Training Epoch 366: 100%|██████████| 901/901 [00:05<00:00, 171.86it/s]\n",
      "Training Epoch 367: 100%|██████████| 901/901 [00:05<00:00, 166.56it/s]\n",
      "Training Epoch 368: 100%|██████████| 901/901 [00:05<00:00, 168.74it/s]\n",
      "Training Epoch 369: 100%|██████████| 901/901 [00:05<00:00, 167.10it/s]\n",
      "Training Epoch 370: 100%|██████████| 901/901 [00:05<00:00, 172.45it/s]\n",
      "Training Epoch 371: 100%|██████████| 901/901 [00:05<00:00, 168.59it/s]\n"
     ]
    },
    {
     "name": "stdout",
     "output_type": "stream",
     "text": [
      "Epoch 370 - Train Loss: 0.1161, Train MSE: 0.1161, Train MAE: 0.2589\n",
      "Epoch 370 - Validation Loss: 0.7055, Validation MSE: 0.7055, Validation MAE: 0.6168\n"
     ]
    },
    {
     "name": "stderr",
     "output_type": "stream",
     "text": [
      "Training Epoch 372: 100%|██████████| 901/901 [00:05<00:00, 171.64it/s]\n",
      "Training Epoch 373: 100%|██████████| 901/901 [00:05<00:00, 167.72it/s]\n",
      "Training Epoch 374: 100%|██████████| 901/901 [00:05<00:00, 169.43it/s]\n",
      "Training Epoch 375: 100%|██████████| 901/901 [00:05<00:00, 168.57it/s]\n",
      "Training Epoch 376: 100%|██████████| 901/901 [00:05<00:00, 173.56it/s]\n",
      "Training Epoch 377: 100%|██████████| 901/901 [00:05<00:00, 167.68it/s]\n",
      "Training Epoch 378: 100%|██████████| 901/901 [00:05<00:00, 165.93it/s]\n",
      "Training Epoch 379: 100%|██████████| 901/901 [00:05<00:00, 169.93it/s]\n",
      "Training Epoch 380: 100%|██████████| 901/901 [00:05<00:00, 166.80it/s]\n",
      "Training Epoch 381: 100%|██████████| 901/901 [00:05<00:00, 169.96it/s]\n"
     ]
    },
    {
     "name": "stdout",
     "output_type": "stream",
     "text": [
      "Epoch 380 - Train Loss: 0.1158, Train MSE: 0.1158, Train MAE: 0.2598\n",
      "Epoch 380 - Validation Loss: 0.7077, Validation MSE: 0.7077, Validation MAE: 0.6173\n"
     ]
    },
    {
     "name": "stderr",
     "output_type": "stream",
     "text": [
      "Training Epoch 382: 100%|██████████| 901/901 [00:05<00:00, 168.96it/s]\n",
      "Training Epoch 383: 100%|██████████| 901/901 [00:05<00:00, 168.10it/s]\n",
      "Training Epoch 384: 100%|██████████| 901/901 [00:05<00:00, 170.09it/s]\n",
      "Training Epoch 385: 100%|██████████| 901/901 [00:05<00:00, 167.07it/s]\n",
      "Training Epoch 386: 100%|██████████| 901/901 [00:05<00:00, 168.28it/s]\n",
      "Training Epoch 387: 100%|██████████| 901/901 [00:05<00:00, 170.45it/s]\n",
      "Training Epoch 388: 100%|██████████| 901/901 [00:05<00:00, 167.35it/s]\n",
      "Training Epoch 389: 100%|██████████| 901/901 [00:05<00:00, 170.17it/s]\n",
      "Training Epoch 390: 100%|██████████| 901/901 [00:05<00:00, 167.79it/s]\n",
      "Training Epoch 391: 100%|██████████| 901/901 [00:05<00:00, 168.50it/s]\n"
     ]
    },
    {
     "name": "stdout",
     "output_type": "stream",
     "text": [
      "Epoch 390 - Train Loss: 0.1154, Train MSE: 0.1153, Train MAE: 0.2582\n",
      "Epoch 390 - Validation Loss: 0.7004, Validation MSE: 0.7004, Validation MAE: 0.6137\n"
     ]
    },
    {
     "name": "stderr",
     "output_type": "stream",
     "text": [
      "Training Epoch 392: 100%|██████████| 901/901 [00:05<00:00, 165.66it/s]\n",
      "Training Epoch 393: 100%|██████████| 901/901 [00:05<00:00, 171.81it/s]\n",
      "Training Epoch 394: 100%|██████████| 901/901 [00:05<00:00, 167.94it/s]\n",
      "Training Epoch 395: 100%|██████████| 901/901 [00:05<00:00, 167.37it/s]\n",
      "Training Epoch 396: 100%|██████████| 901/901 [00:05<00:00, 169.48it/s]\n",
      "Training Epoch 397: 100%|██████████| 901/901 [00:05<00:00, 168.14it/s]\n",
      "Training Epoch 398: 100%|██████████| 901/901 [00:05<00:00, 169.02it/s]\n",
      "Training Epoch 399: 100%|██████████| 901/901 [00:05<00:00, 170.97it/s]\n",
      "Training Epoch 400: 100%|██████████| 901/901 [00:05<00:00, 169.07it/s]\n",
      "Training Epoch 401: 100%|██████████| 901/901 [00:05<00:00, 167.83it/s]\n"
     ]
    },
    {
     "name": "stdout",
     "output_type": "stream",
     "text": [
      "Epoch 400 - Train Loss: 0.1127, Train MSE: 0.1127, Train MAE: 0.2555\n",
      "Epoch 400 - Validation Loss: 0.7007, Validation MSE: 0.7007, Validation MAE: 0.6142\n"
     ]
    },
    {
     "name": "stderr",
     "output_type": "stream",
     "text": [
      "Training Epoch 402: 100%|██████████| 901/901 [00:05<00:00, 168.04it/s]\n",
      "Training Epoch 403: 100%|██████████| 901/901 [00:05<00:00, 165.12it/s]\n",
      "Training Epoch 404: 100%|██████████| 901/901 [00:05<00:00, 174.42it/s]\n",
      "Training Epoch 405: 100%|██████████| 901/901 [00:05<00:00, 170.15it/s]\n",
      "Training Epoch 406: 100%|██████████| 901/901 [00:05<00:00, 167.32it/s]\n",
      "Training Epoch 407: 100%|██████████| 901/901 [00:05<00:00, 168.11it/s]\n",
      "Training Epoch 408: 100%|██████████| 901/901 [00:05<00:00, 168.30it/s]\n",
      "Training Epoch 409: 100%|██████████| 901/901 [00:05<00:00, 166.71it/s]\n",
      "Training Epoch 410: 100%|██████████| 901/901 [00:05<00:00, 172.36it/s]\n",
      "Training Epoch 411: 100%|██████████| 901/901 [00:05<00:00, 168.66it/s]\n"
     ]
    },
    {
     "name": "stdout",
     "output_type": "stream",
     "text": [
      "Epoch 410 - Train Loss: 0.1108, Train MSE: 0.1108, Train MAE: 0.2543\n",
      "Epoch 410 - Validation Loss: 0.7023, Validation MSE: 0.7023, Validation MAE: 0.6152\n"
     ]
    },
    {
     "name": "stderr",
     "output_type": "stream",
     "text": [
      "Training Epoch 412: 100%|██████████| 901/901 [00:05<00:00, 168.25it/s]\n",
      "Training Epoch 413: 100%|██████████| 901/901 [00:05<00:00, 168.91it/s]\n",
      "Training Epoch 414: 100%|██████████| 901/901 [00:05<00:00, 167.42it/s]\n",
      "Training Epoch 415: 100%|██████████| 901/901 [00:05<00:00, 168.88it/s]\n",
      "Training Epoch 416: 100%|██████████| 901/901 [00:05<00:00, 174.34it/s]\n",
      "Training Epoch 417: 100%|██████████| 901/901 [00:05<00:00, 168.60it/s]\n",
      "Training Epoch 418: 100%|██████████| 901/901 [00:05<00:00, 167.68it/s]\n",
      "Training Epoch 419: 100%|██████████| 901/901 [00:05<00:00, 168.78it/s]\n",
      "Training Epoch 420: 100%|██████████| 901/901 [00:05<00:00, 166.72it/s]\n",
      "Training Epoch 421: 100%|██████████| 901/901 [00:05<00:00, 171.49it/s]\n"
     ]
    },
    {
     "name": "stdout",
     "output_type": "stream",
     "text": [
      "Epoch 420 - Train Loss: 0.1086, Train MSE: 0.1086, Train MAE: 0.2508\n",
      "Epoch 420 - Validation Loss: 0.7017, Validation MSE: 0.7017, Validation MAE: 0.6168\n"
     ]
    },
    {
     "name": "stderr",
     "output_type": "stream",
     "text": [
      "Training Epoch 422: 100%|██████████| 901/901 [00:05<00:00, 171.64it/s]\n",
      "Training Epoch 423: 100%|██████████| 901/901 [00:05<00:00, 168.46it/s]\n",
      "Training Epoch 424: 100%|██████████| 901/901 [00:05<00:00, 168.47it/s]\n",
      "Training Epoch 425: 100%|██████████| 901/901 [00:05<00:00, 168.23it/s]\n",
      "Training Epoch 426: 100%|██████████| 901/901 [00:05<00:00, 166.22it/s]\n",
      "Training Epoch 427: 100%|██████████| 901/901 [00:05<00:00, 169.88it/s]\n",
      "Training Epoch 428: 100%|██████████| 901/901 [00:05<00:00, 167.36it/s]\n",
      "Training Epoch 429: 100%|██████████| 901/901 [00:05<00:00, 169.02it/s]\n",
      "Training Epoch 430: 100%|██████████| 901/901 [00:05<00:00, 166.98it/s]\n",
      "Training Epoch 431: 100%|██████████| 901/901 [00:05<00:00, 168.50it/s]\n"
     ]
    },
    {
     "name": "stdout",
     "output_type": "stream",
     "text": [
      "Epoch 430 - Train Loss: 0.1077, Train MSE: 0.1077, Train MAE: 0.2502\n",
      "Epoch 430 - Validation Loss: 0.7064, Validation MSE: 0.7064, Validation MAE: 0.6170\n"
     ]
    },
    {
     "name": "stderr",
     "output_type": "stream",
     "text": [
      "Training Epoch 432: 100%|██████████| 901/901 [00:05<00:00, 168.61it/s]\n",
      "Training Epoch 433: 100%|██████████| 901/901 [00:05<00:00, 171.63it/s]\n",
      "Training Epoch 434: 100%|██████████| 901/901 [00:05<00:00, 167.56it/s]\n",
      "Training Epoch 435: 100%|██████████| 901/901 [00:05<00:00, 168.55it/s]\n",
      "Training Epoch 436: 100%|██████████| 901/901 [00:05<00:00, 168.93it/s]\n",
      "Training Epoch 437: 100%|██████████| 901/901 [00:05<00:00, 167.44it/s]\n",
      "Training Epoch 438: 100%|██████████| 901/901 [00:05<00:00, 169.26it/s]\n",
      "Training Epoch 439: 100%|██████████| 901/901 [00:05<00:00, 171.33it/s]\n",
      "Training Epoch 440: 100%|██████████| 901/901 [00:05<00:00, 167.56it/s]\n",
      "Training Epoch 441: 100%|██████████| 901/901 [00:05<00:00, 168.86it/s]\n"
     ]
    },
    {
     "name": "stdout",
     "output_type": "stream",
     "text": [
      "Epoch 440 - Train Loss: 0.1088, Train MSE: 0.1088, Train MAE: 0.2509\n",
      "Epoch 440 - Validation Loss: 0.7008, Validation MSE: 0.7008, Validation MAE: 0.6133\n"
     ]
    },
    {
     "name": "stderr",
     "output_type": "stream",
     "text": [
      "Training Epoch 442: 100%|██████████| 901/901 [00:05<00:00, 170.35it/s]\n",
      "Training Epoch 443: 100%|██████████| 901/901 [00:05<00:00, 170.19it/s]\n",
      "Training Epoch 444: 100%|██████████| 901/901 [00:05<00:00, 168.99it/s]\n",
      "Training Epoch 445: 100%|██████████| 901/901 [00:05<00:00, 170.78it/s]\n",
      "Training Epoch 446: 100%|██████████| 901/901 [00:05<00:00, 167.43it/s]\n",
      "Training Epoch 447: 100%|██████████| 901/901 [00:05<00:00, 169.17it/s]\n",
      "Training Epoch 448: 100%|██████████| 901/901 [00:05<00:00, 166.80it/s]\n",
      "Training Epoch 449: 100%|██████████| 901/901 [00:05<00:00, 168.17it/s]\n",
      "Training Epoch 450: 100%|██████████| 901/901 [00:05<00:00, 171.01it/s]\n",
      "Training Epoch 451: 100%|██████████| 901/901 [00:05<00:00, 165.46it/s]\n"
     ]
    },
    {
     "name": "stdout",
     "output_type": "stream",
     "text": [
      "Epoch 450 - Train Loss: 0.1069, Train MSE: 0.1069, Train MAE: 0.2489\n",
      "Epoch 450 - Validation Loss: 0.6989, Validation MSE: 0.6989, Validation MAE: 0.6154\n"
     ]
    },
    {
     "name": "stderr",
     "output_type": "stream",
     "text": [
      "Training Epoch 452: 100%|██████████| 901/901 [00:05<00:00, 170.51it/s]\n",
      "Training Epoch 453: 100%|██████████| 901/901 [00:05<00:00, 168.90it/s]\n",
      "Training Epoch 454: 100%|██████████| 901/901 [00:05<00:00, 167.54it/s]\n",
      "Training Epoch 455: 100%|██████████| 901/901 [00:05<00:00, 173.43it/s]\n",
      "Training Epoch 456: 100%|██████████| 901/901 [00:05<00:00, 173.73it/s]\n",
      "Training Epoch 457: 100%|██████████| 901/901 [00:05<00:00, 167.07it/s]\n",
      "Training Epoch 458: 100%|██████████| 901/901 [00:05<00:00, 168.79it/s]\n",
      "Training Epoch 459: 100%|██████████| 901/901 [00:05<00:00, 167.25it/s]\n",
      "Training Epoch 460: 100%|██████████| 901/901 [00:05<00:00, 169.60it/s]\n",
      "Training Epoch 461: 100%|██████████| 901/901 [00:05<00:00, 167.69it/s]\n"
     ]
    },
    {
     "name": "stdout",
     "output_type": "stream",
     "text": [
      "Epoch 460 - Train Loss: 0.1045, Train MSE: 0.1045, Train MAE: 0.2462\n",
      "Epoch 460 - Validation Loss: 0.7001, Validation MSE: 0.7001, Validation MAE: 0.6158\n"
     ]
    },
    {
     "name": "stderr",
     "output_type": "stream",
     "text": [
      "Training Epoch 462: 100%|██████████| 901/901 [00:05<00:00, 171.17it/s]\n",
      "Training Epoch 463: 100%|██████████| 901/901 [00:05<00:00, 169.36it/s]\n",
      "Training Epoch 464: 100%|██████████| 901/901 [00:05<00:00, 167.06it/s]\n",
      "Training Epoch 465: 100%|██████████| 901/901 [00:05<00:00, 169.08it/s]\n",
      "Training Epoch 466: 100%|██████████| 901/901 [00:05<00:00, 167.62it/s]\n",
      "Training Epoch 467: 100%|██████████| 901/901 [00:05<00:00, 169.03it/s]\n",
      "Training Epoch 468: 100%|██████████| 901/901 [00:05<00:00, 169.33it/s]\n",
      "Training Epoch 469: 100%|██████████| 901/901 [00:05<00:00, 167.78it/s]\n",
      "Training Epoch 470: 100%|██████████| 901/901 [00:05<00:00, 167.51it/s]\n",
      "Training Epoch 471: 100%|██████████| 901/901 [00:05<00:00, 168.16it/s]\n"
     ]
    },
    {
     "name": "stdout",
     "output_type": "stream",
     "text": [
      "Epoch 470 - Train Loss: 0.1046, Train MSE: 0.1046, Train MAE: 0.2461\n",
      "Epoch 470 - Validation Loss: 0.6942, Validation MSE: 0.6942, Validation MAE: 0.6123\n"
     ]
    },
    {
     "name": "stderr",
     "output_type": "stream",
     "text": [
      "Training Epoch 472: 100%|██████████| 901/901 [00:05<00:00, 167.27it/s]\n",
      "Training Epoch 473: 100%|██████████| 901/901 [00:05<00:00, 171.77it/s]\n",
      "Training Epoch 474: 100%|██████████| 901/901 [00:05<00:00, 169.16it/s]\n",
      "Training Epoch 475: 100%|██████████| 901/901 [00:05<00:00, 169.11it/s]\n",
      "Training Epoch 476: 100%|██████████| 901/901 [00:05<00:00, 168.28it/s]\n",
      "Training Epoch 477: 100%|██████████| 901/901 [00:05<00:00, 166.67it/s]\n",
      "Training Epoch 478: 100%|██████████| 901/901 [00:05<00:00, 169.92it/s]\n",
      "Training Epoch 479: 100%|██████████| 901/901 [00:05<00:00, 171.48it/s]\n",
      "Training Epoch 480: 100%|██████████| 901/901 [00:05<00:00, 169.53it/s]\n",
      "Training Epoch 481: 100%|██████████| 901/901 [00:05<00:00, 170.61it/s]\n"
     ]
    },
    {
     "name": "stdout",
     "output_type": "stream",
     "text": [
      "Epoch 480 - Train Loss: 0.1030, Train MSE: 0.1030, Train MAE: 0.2441\n",
      "Epoch 480 - Validation Loss: 0.7055, Validation MSE: 0.7055, Validation MAE: 0.6182\n"
     ]
    },
    {
     "name": "stderr",
     "output_type": "stream",
     "text": [
      "Training Epoch 482: 100%|██████████| 901/901 [00:05<00:00, 168.98it/s]\n",
      "Training Epoch 483: 100%|██████████| 901/901 [00:05<00:00, 168.02it/s]\n",
      "Training Epoch 484: 100%|██████████| 901/901 [00:05<00:00, 166.88it/s]\n",
      "Training Epoch 485: 100%|██████████| 901/901 [00:05<00:00, 171.65it/s]\n",
      "Training Epoch 486: 100%|██████████| 901/901 [00:05<00:00, 169.61it/s]\n",
      "Training Epoch 487: 100%|██████████| 901/901 [00:05<00:00, 168.49it/s]\n",
      "Training Epoch 488: 100%|██████████| 901/901 [00:05<00:00, 168.00it/s]\n",
      "Training Epoch 489: 100%|██████████| 901/901 [00:05<00:00, 167.99it/s]\n",
      "Training Epoch 490: 100%|██████████| 901/901 [00:05<00:00, 169.40it/s]\n",
      "Training Epoch 491: 100%|██████████| 901/901 [00:05<00:00, 172.11it/s]\n"
     ]
    },
    {
     "name": "stdout",
     "output_type": "stream",
     "text": [
      "Epoch 490 - Train Loss: 0.0997, Train MSE: 0.0997, Train MAE: 0.2418\n",
      "Epoch 490 - Validation Loss: 0.6985, Validation MSE: 0.6985, Validation MAE: 0.6139\n"
     ]
    },
    {
     "name": "stderr",
     "output_type": "stream",
     "text": [
      "Training Epoch 492: 100%|██████████| 901/901 [00:05<00:00, 168.96it/s]\n",
      "Training Epoch 493: 100%|██████████| 901/901 [00:05<00:00, 167.53it/s]\n",
      "Training Epoch 494: 100%|██████████| 901/901 [00:05<00:00, 169.42it/s]\n",
      "Training Epoch 495: 100%|██████████| 901/901 [00:05<00:00, 168.08it/s]\n",
      "Training Epoch 496: 100%|██████████| 901/901 [00:05<00:00, 169.98it/s]\n",
      "Training Epoch 497: 100%|██████████| 901/901 [00:05<00:00, 169.89it/s]\n",
      "Training Epoch 498: 100%|██████████| 901/901 [00:05<00:00, 172.52it/s]\n",
      "Training Epoch 499: 100%|██████████| 901/901 [00:05<00:00, 167.95it/s]\n",
      "Training Epoch 500: 100%|██████████| 901/901 [00:05<00:00, 168.57it/s]\n",
      "Training Epoch 501: 100%|██████████| 901/901 [00:05<00:00, 167.22it/s]\n"
     ]
    },
    {
     "name": "stdout",
     "output_type": "stream",
     "text": [
      "Epoch 500 - Train Loss: 0.1013, Train MSE: 0.1013, Train MAE: 0.2432\n",
      "Epoch 500 - Validation Loss: 0.6972, Validation MSE: 0.6972, Validation MAE: 0.6135\n"
     ]
    },
    {
     "name": "stderr",
     "output_type": "stream",
     "text": [
      "Training Epoch 502: 100%|██████████| 901/901 [00:05<00:00, 173.48it/s]\n",
      "Training Epoch 503: 100%|██████████| 901/901 [00:05<00:00, 168.86it/s]\n",
      "Training Epoch 504: 100%|██████████| 901/901 [00:05<00:00, 166.01it/s]\n",
      "Training Epoch 505: 100%|██████████| 901/901 [00:05<00:00, 167.92it/s]\n",
      "Training Epoch 506: 100%|██████████| 901/901 [00:05<00:00, 166.86it/s]\n",
      "Training Epoch 507: 100%|██████████| 901/901 [00:05<00:00, 167.99it/s]\n",
      "Training Epoch 508: 100%|██████████| 901/901 [00:05<00:00, 171.14it/s]\n",
      "Training Epoch 509: 100%|██████████| 901/901 [00:05<00:00, 168.06it/s]\n",
      "Training Epoch 510: 100%|██████████| 901/901 [00:05<00:00, 169.05it/s]\n",
      "Training Epoch 511: 100%|██████████| 901/901 [00:05<00:00, 168.43it/s]\n"
     ]
    },
    {
     "name": "stdout",
     "output_type": "stream",
     "text": [
      "Epoch 510 - Train Loss: 0.1007, Train MSE: 0.1007, Train MAE: 0.2411\n",
      "Epoch 510 - Validation Loss: 0.6925, Validation MSE: 0.6925, Validation MAE: 0.6119\n"
     ]
    },
    {
     "name": "stderr",
     "output_type": "stream",
     "text": [
      "Training Epoch 512: 100%|██████████| 901/901 [00:05<00:00, 167.34it/s]\n",
      "Training Epoch 513: 100%|██████████| 901/901 [00:05<00:00, 169.92it/s]\n",
      "Training Epoch 514: 100%|██████████| 901/901 [00:05<00:00, 169.95it/s]\n",
      "Training Epoch 515: 100%|██████████| 901/901 [00:05<00:00, 168.18it/s]\n",
      "Training Epoch 516: 100%|██████████| 901/901 [00:05<00:00, 167.49it/s]\n",
      "Training Epoch 517: 100%|██████████| 901/901 [00:05<00:00, 170.28it/s]\n",
      "Training Epoch 518: 100%|██████████| 901/901 [00:05<00:00, 168.31it/s]\n",
      "Training Epoch 519: 100%|██████████| 901/901 [00:05<00:00, 170.64it/s]\n",
      "Training Epoch 520: 100%|██████████| 901/901 [00:05<00:00, 170.75it/s]\n",
      "Training Epoch 521: 100%|██████████| 901/901 [00:05<00:00, 168.63it/s]\n"
     ]
    },
    {
     "name": "stdout",
     "output_type": "stream",
     "text": [
      "Epoch 520 - Train Loss: 0.0982, Train MSE: 0.0982, Train MAE: 0.2385\n",
      "Epoch 520 - Validation Loss: 0.6996, Validation MSE: 0.6996, Validation MAE: 0.6144\n"
     ]
    },
    {
     "name": "stderr",
     "output_type": "stream",
     "text": [
      "Training Epoch 522: 100%|██████████| 901/901 [00:05<00:00, 170.90it/s]\n",
      "Training Epoch 523: 100%|██████████| 901/901 [00:05<00:00, 167.22it/s]\n",
      "Training Epoch 524: 100%|██████████| 901/901 [00:05<00:00, 167.02it/s]\n",
      "Training Epoch 525: 100%|██████████| 901/901 [00:05<00:00, 173.76it/s]\n",
      "Training Epoch 526: 100%|██████████| 901/901 [00:05<00:00, 169.81it/s]\n",
      "Training Epoch 527: 100%|██████████| 901/901 [00:05<00:00, 168.89it/s]\n",
      "Training Epoch 528: 100%|██████████| 901/901 [00:05<00:00, 169.90it/s]\n",
      "Training Epoch 529: 100%|██████████| 901/901 [00:05<00:00, 169.37it/s]\n",
      "Training Epoch 530: 100%|██████████| 901/901 [00:05<00:00, 169.96it/s]\n",
      "Training Epoch 531: 100%|██████████| 901/901 [00:05<00:00, 171.99it/s]\n"
     ]
    },
    {
     "name": "stdout",
     "output_type": "stream",
     "text": [
      "Epoch 530 - Train Loss: 0.0971, Train MSE: 0.0971, Train MAE: 0.2378\n",
      "Epoch 530 - Validation Loss: 0.7017, Validation MSE: 0.7017, Validation MAE: 0.6160\n"
     ]
    },
    {
     "name": "stderr",
     "output_type": "stream",
     "text": [
      "Training Epoch 532: 100%|██████████| 901/901 [00:05<00:00, 168.34it/s]\n",
      "Training Epoch 533: 100%|██████████| 901/901 [00:05<00:00, 167.88it/s]\n",
      "Training Epoch 534: 100%|██████████| 901/901 [00:05<00:00, 168.02it/s]\n",
      "Training Epoch 535: 100%|██████████| 901/901 [00:05<00:00, 167.41it/s]\n",
      "Training Epoch 536: 100%|██████████| 901/901 [00:05<00:00, 170.26it/s]\n",
      "Training Epoch 537: 100%|██████████| 901/901 [00:05<00:00, 169.49it/s]\n",
      "Training Epoch 538: 100%|██████████| 901/901 [00:05<00:00, 169.30it/s]\n",
      "Training Epoch 539: 100%|██████████| 901/901 [00:05<00:00, 170.52it/s]\n",
      "Training Epoch 540: 100%|██████████| 901/901 [00:05<00:00, 165.77it/s]\n",
      "Training Epoch 541: 100%|██████████| 901/901 [00:05<00:00, 170.10it/s]\n"
     ]
    },
    {
     "name": "stdout",
     "output_type": "stream",
     "text": [
      "Epoch 540 - Train Loss: 0.0950, Train MSE: 0.0950, Train MAE: 0.2351\n",
      "Epoch 540 - Validation Loss: 0.7019, Validation MSE: 0.7019, Validation MAE: 0.6170\n"
     ]
    },
    {
     "name": "stderr",
     "output_type": "stream",
     "text": [
      "Training Epoch 542: 100%|██████████| 901/901 [00:05<00:00, 166.87it/s]\n",
      "Training Epoch 543: 100%|██████████| 901/901 [00:05<00:00, 167.86it/s]\n",
      "Training Epoch 544: 100%|██████████| 901/901 [00:05<00:00, 168.57it/s]\n",
      "Training Epoch 545: 100%|██████████| 901/901 [00:05<00:00, 168.08it/s]\n",
      "Training Epoch 546: 100%|██████████| 901/901 [00:05<00:00, 167.71it/s]\n",
      "Training Epoch 547: 100%|██████████| 901/901 [00:05<00:00, 169.45it/s]\n",
      "Training Epoch 548: 100%|██████████| 901/901 [00:05<00:00, 173.29it/s]\n",
      "Training Epoch 549: 100%|██████████| 901/901 [00:05<00:00, 166.51it/s]\n",
      "Training Epoch 550: 100%|██████████| 901/901 [00:05<00:00, 171.17it/s]\n",
      "Training Epoch 551: 100%|██████████| 901/901 [00:05<00:00, 169.30it/s]\n"
     ]
    },
    {
     "name": "stdout",
     "output_type": "stream",
     "text": [
      "Epoch 550 - Train Loss: 0.0964, Train MSE: 0.0964, Train MAE: 0.2359\n",
      "Epoch 550 - Validation Loss: 0.6963, Validation MSE: 0.6963, Validation MAE: 0.6123\n"
     ]
    },
    {
     "name": "stderr",
     "output_type": "stream",
     "text": [
      "Training Epoch 552: 100%|██████████| 901/901 [00:05<00:00, 169.13it/s]\n",
      "Training Epoch 553: 100%|██████████| 901/901 [00:05<00:00, 169.86it/s]\n",
      "Training Epoch 554: 100%|██████████| 901/901 [00:05<00:00, 172.93it/s]\n",
      "Training Epoch 555: 100%|██████████| 901/901 [00:05<00:00, 168.98it/s]\n",
      "Training Epoch 556: 100%|██████████| 901/901 [00:05<00:00, 169.18it/s]\n",
      "Training Epoch 557: 100%|██████████| 901/901 [00:05<00:00, 168.11it/s]\n",
      "Training Epoch 558: 100%|██████████| 901/901 [00:05<00:00, 168.24it/s]\n",
      "Training Epoch 559: 100%|██████████| 901/901 [00:05<00:00, 169.66it/s]\n",
      "Training Epoch 560: 100%|██████████| 901/901 [00:05<00:00, 170.86it/s]\n",
      "Training Epoch 561: 100%|██████████| 901/901 [00:05<00:00, 170.53it/s]\n"
     ]
    },
    {
     "name": "stdout",
     "output_type": "stream",
     "text": [
      "Epoch 560 - Train Loss: 0.0948, Train MSE: 0.0948, Train MAE: 0.2347\n",
      "Epoch 560 - Validation Loss: 0.6940, Validation MSE: 0.6940, Validation MAE: 0.6139\n"
     ]
    },
    {
     "name": "stderr",
     "output_type": "stream",
     "text": [
      "Training Epoch 562: 100%|██████████| 901/901 [00:05<00:00, 167.19it/s]\n",
      "Training Epoch 563: 100%|██████████| 901/901 [00:05<00:00, 168.55it/s]\n",
      "Training Epoch 564: 100%|██████████| 901/901 [00:05<00:00, 169.44it/s]\n",
      "Training Epoch 565: 100%|██████████| 901/901 [00:05<00:00, 170.08it/s]\n",
      "Training Epoch 566: 100%|██████████| 901/901 [00:05<00:00, 166.95it/s]\n",
      "Training Epoch 567: 100%|██████████| 901/901 [00:05<00:00, 167.05it/s]\n",
      "Training Epoch 568: 100%|██████████| 901/901 [00:05<00:00, 166.28it/s]\n",
      "Training Epoch 569: 100%|██████████| 901/901 [00:05<00:00, 167.30it/s]\n",
      "Training Epoch 570: 100%|██████████| 901/901 [00:05<00:00, 168.62it/s]\n",
      "Training Epoch 571: 100%|██████████| 901/901 [00:05<00:00, 174.84it/s]\n"
     ]
    },
    {
     "name": "stdout",
     "output_type": "stream",
     "text": [
      "Epoch 570 - Train Loss: 0.0940, Train MSE: 0.0940, Train MAE: 0.2330\n",
      "Epoch 570 - Validation Loss: 0.6950, Validation MSE: 0.6950, Validation MAE: 0.6151\n"
     ]
    },
    {
     "name": "stderr",
     "output_type": "stream",
     "text": [
      "Training Epoch 572: 100%|██████████| 901/901 [00:05<00:00, 169.79it/s]\n",
      "Training Epoch 573: 100%|██████████| 901/901 [00:05<00:00, 167.25it/s]\n",
      "Training Epoch 574: 100%|██████████| 901/901 [00:05<00:00, 168.17it/s]\n",
      "Training Epoch 575: 100%|██████████| 901/901 [00:05<00:00, 169.56it/s]\n",
      "Training Epoch 576: 100%|██████████| 901/901 [00:05<00:00, 165.19it/s]\n",
      "Training Epoch 577: 100%|██████████| 901/901 [00:05<00:00, 175.86it/s]\n",
      "Training Epoch 578: 100%|██████████| 901/901 [00:05<00:00, 168.61it/s]\n",
      "Training Epoch 579: 100%|██████████| 901/901 [00:05<00:00, 168.35it/s]\n",
      "Training Epoch 580: 100%|██████████| 901/901 [00:05<00:00, 167.30it/s]\n",
      "Training Epoch 581: 100%|██████████| 901/901 [00:05<00:00, 168.58it/s]\n"
     ]
    },
    {
     "name": "stdout",
     "output_type": "stream",
     "text": [
      "Epoch 580 - Train Loss: 0.0939, Train MSE: 0.0938, Train MAE: 0.2327\n",
      "Epoch 580 - Validation Loss: 0.6946, Validation MSE: 0.6946, Validation MAE: 0.6134\n"
     ]
    },
    {
     "name": "stderr",
     "output_type": "stream",
     "text": [
      "Training Epoch 582: 100%|██████████| 901/901 [00:05<00:00, 169.45it/s]\n",
      "Training Epoch 583: 100%|██████████| 901/901 [00:05<00:00, 170.85it/s]\n",
      "Training Epoch 584: 100%|██████████| 901/901 [00:05<00:00, 170.19it/s]\n",
      "Training Epoch 585: 100%|██████████| 901/901 [00:05<00:00, 168.06it/s]\n",
      "Training Epoch 586: 100%|██████████| 901/901 [00:05<00:00, 169.59it/s]\n",
      "Training Epoch 587: 100%|██████████| 901/901 [00:05<00:00, 169.41it/s]\n",
      "Training Epoch 588: 100%|██████████| 901/901 [00:05<00:00, 170.16it/s]\n",
      "Training Epoch 589: 100%|██████████| 901/901 [00:05<00:00, 168.44it/s]\n",
      "Training Epoch 590: 100%|██████████| 901/901 [00:05<00:00, 166.99it/s]\n",
      "Training Epoch 591: 100%|██████████| 901/901 [00:05<00:00, 169.32it/s]\n"
     ]
    },
    {
     "name": "stdout",
     "output_type": "stream",
     "text": [
      "Epoch 590 - Train Loss: 0.0907, Train MSE: 0.0907, Train MAE: 0.2296\n",
      "Epoch 590 - Validation Loss: 0.6978, Validation MSE: 0.6978, Validation MAE: 0.6131\n"
     ]
    },
    {
     "name": "stderr",
     "output_type": "stream",
     "text": [
      "Training Epoch 592: 100%|██████████| 901/901 [00:05<00:00, 169.20it/s]\n",
      "Training Epoch 593: 100%|██████████| 901/901 [00:05<00:00, 167.54it/s]\n",
      "Training Epoch 594: 100%|██████████| 901/901 [00:05<00:00, 172.48it/s]\n",
      "Training Epoch 595: 100%|██████████| 901/901 [00:05<00:00, 169.26it/s]\n",
      "Training Epoch 596: 100%|██████████| 901/901 [00:05<00:00, 167.62it/s]\n",
      "Training Epoch 597: 100%|██████████| 901/901 [00:05<00:00, 167.43it/s]\n",
      "Training Epoch 598: 100%|██████████| 901/901 [00:05<00:00, 166.56it/s]\n",
      "Training Epoch 599: 100%|██████████| 901/901 [00:05<00:00, 167.69it/s]\n",
      "Training Epoch 600: 100%|██████████| 901/901 [00:05<00:00, 174.65it/s]\n",
      "Training Epoch 601: 100%|██████████| 901/901 [00:05<00:00, 168.30it/s]\n"
     ]
    },
    {
     "name": "stdout",
     "output_type": "stream",
     "text": [
      "Epoch 600 - Train Loss: 0.0915, Train MSE: 0.0915, Train MAE: 0.2313\n",
      "Epoch 600 - Validation Loss: 0.6852, Validation MSE: 0.6852, Validation MAE: 0.6095\n"
     ]
    },
    {
     "name": "stderr",
     "output_type": "stream",
     "text": [
      "Training Epoch 602: 100%|██████████| 901/901 [00:05<00:00, 168.62it/s]\n",
      "Training Epoch 603: 100%|██████████| 901/901 [00:05<00:00, 168.67it/s]\n",
      "Training Epoch 604: 100%|██████████| 901/901 [00:05<00:00, 168.11it/s]\n",
      "Training Epoch 605: 100%|██████████| 901/901 [00:05<00:00, 171.59it/s]\n",
      "Training Epoch 606: 100%|██████████| 901/901 [00:05<00:00, 171.17it/s]\n",
      "Training Epoch 607: 100%|██████████| 901/901 [00:05<00:00, 168.73it/s]\n",
      "Training Epoch 608: 100%|██████████| 901/901 [00:05<00:00, 168.14it/s]\n",
      "Training Epoch 609: 100%|██████████| 901/901 [00:05<00:00, 168.89it/s]\n",
      "Training Epoch 610: 100%|██████████| 901/901 [00:05<00:00, 167.50it/s]\n",
      "Training Epoch 611: 100%|██████████| 901/901 [00:05<00:00, 167.72it/s]\n"
     ]
    },
    {
     "name": "stdout",
     "output_type": "stream",
     "text": [
      "Epoch 610 - Train Loss: 0.0918, Train MSE: 0.0917, Train MAE: 0.2310\n",
      "Epoch 610 - Validation Loss: 0.6918, Validation MSE: 0.6918, Validation MAE: 0.6117\n"
     ]
    },
    {
     "name": "stderr",
     "output_type": "stream",
     "text": [
      "Training Epoch 612: 100%|██████████| 901/901 [00:05<00:00, 172.00it/s]\n",
      "Training Epoch 613: 100%|██████████| 901/901 [00:05<00:00, 168.84it/s]\n",
      "Training Epoch 614: 100%|██████████| 901/901 [00:05<00:00, 168.39it/s]\n",
      "Training Epoch 615: 100%|██████████| 901/901 [00:05<00:00, 168.46it/s]\n",
      "Training Epoch 616: 100%|██████████| 901/901 [00:05<00:00, 169.83it/s]\n",
      "Training Epoch 617: 100%|██████████| 901/901 [00:05<00:00, 173.12it/s]\n",
      "Training Epoch 618: 100%|██████████| 901/901 [00:05<00:00, 166.67it/s]\n",
      "Training Epoch 619: 100%|██████████| 901/901 [00:05<00:00, 167.74it/s]\n",
      "Training Epoch 620: 100%|██████████| 901/901 [00:05<00:00, 168.41it/s]\n",
      "Training Epoch 621: 100%|██████████| 901/901 [00:05<00:00, 168.30it/s]\n"
     ]
    },
    {
     "name": "stdout",
     "output_type": "stream",
     "text": [
      "Epoch 620 - Train Loss: 0.0918, Train MSE: 0.0918, Train MAE: 0.2302\n",
      "Epoch 620 - Validation Loss: 0.6936, Validation MSE: 0.6936, Validation MAE: 0.6110\n"
     ]
    },
    {
     "name": "stderr",
     "output_type": "stream",
     "text": [
      "Training Epoch 622: 100%|██████████| 901/901 [00:05<00:00, 168.75it/s]\n",
      "Training Epoch 623: 100%|██████████| 901/901 [00:05<00:00, 172.11it/s]\n",
      "Training Epoch 624: 100%|██████████| 901/901 [00:05<00:00, 166.20it/s]\n",
      "Training Epoch 625: 100%|██████████| 901/901 [00:05<00:00, 168.54it/s]\n",
      "Training Epoch 626: 100%|██████████| 901/901 [00:05<00:00, 168.10it/s]\n",
      "Training Epoch 627: 100%|██████████| 901/901 [00:05<00:00, 168.03it/s]\n",
      "Training Epoch 628: 100%|██████████| 901/901 [00:05<00:00, 168.87it/s]\n",
      "Training Epoch 629: 100%|██████████| 901/901 [00:05<00:00, 167.67it/s]\n",
      "Training Epoch 630: 100%|██████████| 901/901 [00:05<00:00, 170.74it/s]\n",
      "Training Epoch 631: 100%|██████████| 901/901 [00:05<00:00, 169.35it/s]\n"
     ]
    },
    {
     "name": "stdout",
     "output_type": "stream",
     "text": [
      "Epoch 630 - Train Loss: 0.0888, Train MSE: 0.0889, Train MAE: 0.2267\n",
      "Epoch 630 - Validation Loss: 0.6901, Validation MSE: 0.6901, Validation MAE: 0.6085\n"
     ]
    },
    {
     "name": "stderr",
     "output_type": "stream",
     "text": [
      "Training Epoch 632: 100%|██████████| 901/901 [00:05<00:00, 166.90it/s]\n",
      "Training Epoch 633: 100%|██████████| 901/901 [00:05<00:00, 169.02it/s]\n",
      "Training Epoch 634: 100%|██████████| 901/901 [00:05<00:00, 172.24it/s]\n",
      "Training Epoch 635: 100%|██████████| 901/901 [00:05<00:00, 166.49it/s]\n",
      "Training Epoch 636: 100%|██████████| 901/901 [00:05<00:00, 166.83it/s]\n",
      "Training Epoch 637: 100%|██████████| 901/901 [00:05<00:00, 168.18it/s]\n",
      "Training Epoch 638: 100%|██████████| 901/901 [00:05<00:00, 167.28it/s]\n",
      "Training Epoch 639: 100%|██████████| 901/901 [00:05<00:00, 170.44it/s]\n",
      "Training Epoch 640: 100%|██████████| 901/901 [00:05<00:00, 173.33it/s]\n",
      "Training Epoch 641: 100%|██████████| 901/901 [00:05<00:00, 167.95it/s]\n"
     ]
    },
    {
     "name": "stdout",
     "output_type": "stream",
     "text": [
      "Epoch 640 - Train Loss: 0.0884, Train MSE: 0.0884, Train MAE: 0.2269\n",
      "Epoch 640 - Validation Loss: 0.6920, Validation MSE: 0.6920, Validation MAE: 0.6108\n"
     ]
    },
    {
     "name": "stderr",
     "output_type": "stream",
     "text": [
      "Training Epoch 642: 100%|██████████| 901/901 [00:05<00:00, 169.60it/s]\n",
      "Training Epoch 643: 100%|██████████| 901/901 [00:05<00:00, 169.00it/s]\n",
      "Training Epoch 644: 100%|██████████| 901/901 [00:05<00:00, 168.48it/s]\n",
      "Training Epoch 645: 100%|██████████| 901/901 [00:05<00:00, 168.77it/s]\n",
      "Training Epoch 646: 100%|██████████| 901/901 [00:05<00:00, 173.74it/s]\n",
      "Training Epoch 647: 100%|██████████| 901/901 [00:05<00:00, 170.27it/s]\n",
      "Training Epoch 648: 100%|██████████| 901/901 [00:05<00:00, 171.82it/s]\n",
      "Training Epoch 649: 100%|██████████| 901/901 [00:05<00:00, 168.58it/s]\n",
      "Training Epoch 650: 100%|██████████| 901/901 [00:05<00:00, 170.79it/s]\n",
      "Training Epoch 651: 100%|██████████| 901/901 [00:05<00:00, 171.89it/s]\n"
     ]
    },
    {
     "name": "stdout",
     "output_type": "stream",
     "text": [
      "Epoch 650 - Train Loss: 0.0886, Train MSE: 0.0886, Train MAE: 0.2270\n",
      "Epoch 650 - Validation Loss: 0.6922, Validation MSE: 0.6922, Validation MAE: 0.6122\n"
     ]
    },
    {
     "name": "stderr",
     "output_type": "stream",
     "text": [
      "Training Epoch 652: 100%|██████████| 901/901 [00:05<00:00, 174.13it/s]\n",
      "Training Epoch 653: 100%|██████████| 901/901 [00:05<00:00, 172.32it/s]\n",
      "Training Epoch 654: 100%|██████████| 901/901 [00:05<00:00, 170.90it/s]\n",
      "Training Epoch 655: 100%|██████████| 901/901 [00:05<00:00, 169.16it/s]\n",
      "Training Epoch 656: 100%|██████████| 901/901 [00:05<00:00, 171.56it/s]\n",
      "Training Epoch 657: 100%|██████████| 901/901 [00:05<00:00, 172.22it/s]\n",
      "Training Epoch 658: 100%|██████████| 901/901 [00:05<00:00, 174.56it/s]\n",
      "Training Epoch 659: 100%|██████████| 901/901 [00:05<00:00, 171.27it/s]\n",
      "Training Epoch 660: 100%|██████████| 901/901 [00:05<00:00, 169.76it/s]\n",
      "Training Epoch 661: 100%|██████████| 901/901 [00:05<00:00, 173.21it/s]\n"
     ]
    },
    {
     "name": "stdout",
     "output_type": "stream",
     "text": [
      "Epoch 660 - Train Loss: 0.0874, Train MSE: 0.0875, Train MAE: 0.2240\n",
      "Epoch 660 - Validation Loss: 0.6921, Validation MSE: 0.6921, Validation MAE: 0.6116\n"
     ]
    },
    {
     "name": "stderr",
     "output_type": "stream",
     "text": [
      "Training Epoch 662: 100%|██████████| 901/901 [00:05<00:00, 173.27it/s]\n",
      "Training Epoch 663: 100%|██████████| 901/901 [00:05<00:00, 172.71it/s]\n",
      "Training Epoch 664: 100%|██████████| 901/901 [00:05<00:00, 175.59it/s]\n",
      "Training Epoch 665: 100%|██████████| 901/901 [00:05<00:00, 171.74it/s]\n",
      "Training Epoch 666: 100%|██████████| 901/901 [00:05<00:00, 171.65it/s]\n",
      "Training Epoch 667: 100%|██████████| 901/901 [00:05<00:00, 171.83it/s]\n",
      "Training Epoch 668: 100%|██████████| 901/901 [00:05<00:00, 172.26it/s]\n",
      "Training Epoch 669: 100%|██████████| 901/901 [00:05<00:00, 170.33it/s]\n",
      "Training Epoch 670: 100%|██████████| 901/901 [00:05<00:00, 172.71it/s]\n",
      "Training Epoch 671: 100%|██████████| 901/901 [00:05<00:00, 169.01it/s]\n"
     ]
    },
    {
     "name": "stdout",
     "output_type": "stream",
     "text": [
      "Epoch 670 - Train Loss: 0.0891, Train MSE: 0.0891, Train MAE: 0.2265\n",
      "Epoch 670 - Validation Loss: 0.6949, Validation MSE: 0.6949, Validation MAE: 0.6124\n"
     ]
    },
    {
     "name": "stderr",
     "output_type": "stream",
     "text": [
      "Training Epoch 672: 100%|██████████| 901/901 [00:05<00:00, 172.14it/s]\n",
      "Training Epoch 673: 100%|██████████| 901/901 [00:05<00:00, 171.98it/s]\n",
      "Training Epoch 674: 100%|██████████| 901/901 [00:05<00:00, 171.21it/s]\n",
      "Training Epoch 675: 100%|██████████| 901/901 [00:05<00:00, 169.37it/s]\n",
      "Training Epoch 676: 100%|██████████| 901/901 [00:05<00:00, 173.85it/s]\n",
      "Training Epoch 677: 100%|██████████| 901/901 [00:05<00:00, 170.59it/s]\n",
      "Training Epoch 678: 100%|██████████| 901/901 [00:05<00:00, 170.38it/s]\n",
      "Training Epoch 679: 100%|██████████| 901/901 [00:05<00:00, 171.75it/s]\n",
      "Training Epoch 680: 100%|██████████| 901/901 [00:05<00:00, 170.14it/s]\n",
      "Training Epoch 681: 100%|██████████| 901/901 [00:05<00:00, 170.36it/s]\n"
     ]
    },
    {
     "name": "stdout",
     "output_type": "stream",
     "text": [
      "Epoch 680 - Train Loss: 0.0873, Train MSE: 0.0873, Train MAE: 0.2245\n",
      "Epoch 680 - Validation Loss: 0.6940, Validation MSE: 0.6940, Validation MAE: 0.6123\n"
     ]
    },
    {
     "name": "stderr",
     "output_type": "stream",
     "text": [
      "Training Epoch 682: 100%|██████████| 901/901 [00:05<00:00, 174.27it/s]\n",
      "Training Epoch 683: 100%|██████████| 901/901 [00:05<00:00, 171.44it/s]\n",
      "Training Epoch 684: 100%|██████████| 901/901 [00:05<00:00, 171.26it/s]\n",
      "Training Epoch 685: 100%|██████████| 901/901 [00:05<00:00, 173.04it/s]\n",
      "Training Epoch 686: 100%|██████████| 901/901 [00:05<00:00, 168.87it/s]\n",
      "Training Epoch 687: 100%|██████████| 901/901 [00:05<00:00, 172.17it/s]\n",
      "Training Epoch 688: 100%|██████████| 901/901 [00:05<00:00, 172.14it/s]\n",
      "Training Epoch 689: 100%|██████████| 901/901 [00:05<00:00, 170.49it/s]\n",
      "Training Epoch 690: 100%|██████████| 901/901 [00:05<00:00, 171.17it/s]\n",
      "Training Epoch 691: 100%|██████████| 901/901 [00:05<00:00, 172.52it/s]\n"
     ]
    },
    {
     "name": "stdout",
     "output_type": "stream",
     "text": [
      "Epoch 690 - Train Loss: 0.0844, Train MSE: 0.0844, Train MAE: 0.2209\n",
      "Epoch 690 - Validation Loss: 0.6874, Validation MSE: 0.6874, Validation MAE: 0.6103\n"
     ]
    },
    {
     "name": "stderr",
     "output_type": "stream",
     "text": [
      "Training Epoch 692: 100%|██████████| 901/901 [00:05<00:00, 170.62it/s]\n",
      "Training Epoch 693: 100%|██████████| 901/901 [00:05<00:00, 174.29it/s]\n",
      "Training Epoch 694: 100%|██████████| 901/901 [00:05<00:00, 172.72it/s]\n",
      "Training Epoch 695: 100%|██████████| 901/901 [00:05<00:00, 176.81it/s]\n",
      "Training Epoch 696: 100%|██████████| 901/901 [00:05<00:00, 171.63it/s]\n",
      "Training Epoch 697: 100%|██████████| 901/901 [00:05<00:00, 169.13it/s]\n",
      "Training Epoch 698: 100%|██████████| 901/901 [00:05<00:00, 171.22it/s]\n",
      "Training Epoch 699: 100%|██████████| 901/901 [00:05<00:00, 172.94it/s]\n",
      "Training Epoch 700: 100%|██████████| 901/901 [00:05<00:00, 174.36it/s]\n",
      "Training Epoch 701: 100%|██████████| 901/901 [00:05<00:00, 170.23it/s]\n"
     ]
    },
    {
     "name": "stdout",
     "output_type": "stream",
     "text": [
      "Epoch 700 - Train Loss: 0.0855, Train MSE: 0.0855, Train MAE: 0.2228\n",
      "Epoch 700 - Validation Loss: 0.6955, Validation MSE: 0.6955, Validation MAE: 0.6141\n"
     ]
    },
    {
     "name": "stderr",
     "output_type": "stream",
     "text": [
      "Training Epoch 702: 100%|██████████| 901/901 [00:05<00:00, 170.63it/s]\n",
      "Training Epoch 703: 100%|██████████| 901/901 [00:05<00:00, 170.15it/s]\n",
      "Training Epoch 704: 100%|██████████| 901/901 [00:05<00:00, 170.19it/s]\n",
      "Training Epoch 705: 100%|██████████| 901/901 [00:05<00:00, 168.28it/s]\n",
      "Training Epoch 706: 100%|██████████| 901/901 [00:05<00:00, 172.52it/s]\n",
      "Training Epoch 707: 100%|██████████| 901/901 [00:05<00:00, 171.14it/s]\n",
      "Training Epoch 708: 100%|██████████| 901/901 [00:05<00:00, 167.89it/s]\n",
      "Training Epoch 709: 100%|██████████| 901/901 [00:05<00:00, 170.34it/s]\n",
      "Training Epoch 710: 100%|██████████| 901/901 [00:05<00:00, 170.16it/s]\n",
      "Training Epoch 711: 100%|██████████| 901/901 [00:05<00:00, 170.97it/s]\n"
     ]
    },
    {
     "name": "stdout",
     "output_type": "stream",
     "text": [
      "Epoch 710 - Train Loss: 0.0846, Train MSE: 0.0846, Train MAE: 0.2203\n",
      "Epoch 710 - Validation Loss: 0.7027, Validation MSE: 0.7027, Validation MAE: 0.6167\n"
     ]
    },
    {
     "name": "stderr",
     "output_type": "stream",
     "text": [
      "Training Epoch 712: 100%|██████████| 901/901 [00:05<00:00, 173.34it/s]\n",
      "Training Epoch 713: 100%|██████████| 901/901 [00:05<00:00, 169.77it/s]\n",
      "Training Epoch 714: 100%|██████████| 901/901 [00:05<00:00, 175.85it/s]\n",
      "Training Epoch 715: 100%|██████████| 901/901 [00:05<00:00, 171.34it/s]\n",
      "Training Epoch 716: 100%|██████████| 901/901 [00:05<00:00, 165.42it/s]\n",
      "Training Epoch 717: 100%|██████████| 901/901 [00:05<00:00, 171.63it/s]\n",
      "Training Epoch 718: 100%|██████████| 901/901 [00:05<00:00, 174.25it/s]\n",
      "Training Epoch 719: 100%|██████████| 901/901 [00:05<00:00, 172.45it/s]\n",
      "Training Epoch 720: 100%|██████████| 901/901 [00:05<00:00, 172.10it/s]\n",
      "Training Epoch 721: 100%|██████████| 901/901 [00:05<00:00, 170.67it/s]\n"
     ]
    },
    {
     "name": "stdout",
     "output_type": "stream",
     "text": [
      "Epoch 720 - Train Loss: 0.0843, Train MSE: 0.0843, Train MAE: 0.2208\n",
      "Epoch 720 - Validation Loss: 0.6917, Validation MSE: 0.6917, Validation MAE: 0.6124\n"
     ]
    },
    {
     "name": "stderr",
     "output_type": "stream",
     "text": [
      "Training Epoch 722: 100%|██████████| 901/901 [00:05<00:00, 170.33it/s]\n",
      "Training Epoch 723: 100%|██████████| 901/901 [00:05<00:00, 171.92it/s]\n",
      "Training Epoch 724: 100%|██████████| 901/901 [00:05<00:00, 172.20it/s]\n",
      "Training Epoch 725: 100%|██████████| 901/901 [00:05<00:00, 171.63it/s]\n",
      "Training Epoch 726: 100%|██████████| 901/901 [00:05<00:00, 169.84it/s]\n",
      "Training Epoch 727: 100%|██████████| 901/901 [00:05<00:00, 170.54it/s]\n",
      "Training Epoch 728: 100%|██████████| 901/901 [00:05<00:00, 170.40it/s]\n",
      "Training Epoch 729: 100%|██████████| 901/901 [00:05<00:00, 172.77it/s]\n",
      "Training Epoch 730: 100%|██████████| 901/901 [00:05<00:00, 173.54it/s]\n",
      "Training Epoch 731: 100%|██████████| 901/901 [00:05<00:00, 171.00it/s]\n"
     ]
    },
    {
     "name": "stdout",
     "output_type": "stream",
     "text": [
      "Epoch 730 - Train Loss: 0.0856, Train MSE: 0.0856, Train MAE: 0.2222\n",
      "Epoch 730 - Validation Loss: 0.6955, Validation MSE: 0.6955, Validation MAE: 0.6123\n"
     ]
    },
    {
     "name": "stderr",
     "output_type": "stream",
     "text": [
      "Training Epoch 732: 100%|██████████| 901/901 [00:05<00:00, 172.58it/s]\n",
      "Training Epoch 733: 100%|██████████| 901/901 [00:05<00:00, 170.42it/s]\n",
      "Training Epoch 734: 100%|██████████| 901/901 [00:05<00:00, 169.76it/s]\n",
      "Training Epoch 735: 100%|██████████| 901/901 [00:05<00:00, 171.34it/s]\n",
      "Training Epoch 736: 100%|██████████| 901/901 [00:05<00:00, 173.73it/s]\n",
      "Training Epoch 737: 100%|██████████| 901/901 [00:05<00:00, 170.36it/s]\n",
      "Training Epoch 738: 100%|██████████| 901/901 [00:05<00:00, 171.27it/s]\n",
      "Training Epoch 739: 100%|██████████| 901/901 [00:05<00:00, 170.53it/s]\n",
      "Training Epoch 740: 100%|██████████| 901/901 [00:05<00:00, 169.80it/s]\n",
      "Training Epoch 741: 100%|██████████| 901/901 [00:05<00:00, 172.63it/s]\n"
     ]
    },
    {
     "name": "stdout",
     "output_type": "stream",
     "text": [
      "Epoch 740 - Train Loss: 0.0833, Train MSE: 0.0833, Train MAE: 0.2193\n",
      "Epoch 740 - Validation Loss: 0.6946, Validation MSE: 0.6946, Validation MAE: 0.6116\n"
     ]
    },
    {
     "name": "stderr",
     "output_type": "stream",
     "text": [
      "Training Epoch 742: 100%|██████████| 901/901 [00:05<00:00, 174.57it/s]\n",
      "Training Epoch 743: 100%|██████████| 901/901 [00:05<00:00, 170.73it/s]\n",
      "Training Epoch 744: 100%|██████████| 901/901 [00:05<00:00, 172.76it/s]\n",
      "Training Epoch 745: 100%|██████████| 901/901 [00:05<00:00, 168.10it/s]\n",
      "Training Epoch 746: 100%|██████████| 901/901 [00:05<00:00, 172.96it/s]\n",
      "Training Epoch 747: 100%|██████████| 901/901 [00:05<00:00, 174.10it/s]\n",
      "Training Epoch 748: 100%|██████████| 901/901 [00:05<00:00, 170.58it/s]\n",
      "Training Epoch 749: 100%|██████████| 901/901 [00:05<00:00, 171.12it/s]\n",
      "Training Epoch 750: 100%|██████████| 901/901 [00:05<00:00, 172.61it/s]\n",
      "Training Epoch 751: 100%|██████████| 901/901 [00:05<00:00, 171.40it/s]\n"
     ]
    },
    {
     "name": "stdout",
     "output_type": "stream",
     "text": [
      "Epoch 750 - Train Loss: 0.0818, Train MSE: 0.0818, Train MAE: 0.2175\n",
      "Epoch 750 - Validation Loss: 0.6998, Validation MSE: 0.6998, Validation MAE: 0.6171\n"
     ]
    },
    {
     "name": "stderr",
     "output_type": "stream",
     "text": [
      "Training Epoch 752: 100%|██████████| 901/901 [00:05<00:00, 173.81it/s]\n",
      "Training Epoch 753: 100%|██████████| 901/901 [00:05<00:00, 173.08it/s]\n",
      "Training Epoch 754: 100%|██████████| 901/901 [00:05<00:00, 173.22it/s]\n",
      "Training Epoch 755: 100%|██████████| 901/901 [00:05<00:00, 171.17it/s]\n",
      "Training Epoch 756: 100%|██████████| 901/901 [00:05<00:00, 171.98it/s]\n",
      "Training Epoch 757: 100%|██████████| 901/901 [00:05<00:00, 170.55it/s]\n",
      "Training Epoch 758: 100%|██████████| 901/901 [00:05<00:00, 170.79it/s]\n",
      "Training Epoch 759: 100%|██████████| 901/901 [00:05<00:00, 173.57it/s]\n",
      "Training Epoch 760: 100%|██████████| 901/901 [00:05<00:00, 171.78it/s]\n",
      "Training Epoch 761: 100%|██████████| 901/901 [00:05<00:00, 172.48it/s]\n"
     ]
    },
    {
     "name": "stdout",
     "output_type": "stream",
     "text": [
      "Epoch 760 - Train Loss: 0.0818, Train MSE: 0.0818, Train MAE: 0.2174\n",
      "Epoch 760 - Validation Loss: 0.6973, Validation MSE: 0.6973, Validation MAE: 0.6132\n"
     ]
    },
    {
     "name": "stderr",
     "output_type": "stream",
     "text": [
      "Training Epoch 762: 100%|██████████| 901/901 [00:05<00:00, 171.61it/s]\n",
      "Training Epoch 763: 100%|██████████| 901/901 [00:05<00:00, 172.61it/s]\n",
      "Training Epoch 764: 100%|██████████| 901/901 [00:05<00:00, 172.38it/s]\n",
      "Training Epoch 765: 100%|██████████| 901/901 [00:05<00:00, 174.22it/s]\n",
      "Training Epoch 766: 100%|██████████| 901/901 [00:05<00:00, 171.69it/s]\n",
      "Training Epoch 767: 100%|██████████| 901/901 [00:05<00:00, 171.71it/s]\n",
      "Training Epoch 768: 100%|██████████| 901/901 [00:05<00:00, 169.94it/s]\n",
      "Training Epoch 769: 100%|██████████| 901/901 [00:05<00:00, 171.64it/s]\n",
      "Training Epoch 770: 100%|██████████| 901/901 [00:05<00:00, 173.25it/s]\n",
      "Training Epoch 771: 100%|██████████| 901/901 [00:05<00:00, 173.36it/s]\n"
     ]
    },
    {
     "name": "stdout",
     "output_type": "stream",
     "text": [
      "Epoch 770 - Train Loss: 0.0789, Train MSE: 0.0789, Train MAE: 0.2148\n",
      "Epoch 770 - Validation Loss: 0.6906, Validation MSE: 0.6906, Validation MAE: 0.6118\n"
     ]
    },
    {
     "name": "stderr",
     "output_type": "stream",
     "text": [
      "Training Epoch 772: 100%|██████████| 901/901 [00:05<00:00, 173.04it/s]\n",
      "Training Epoch 773: 100%|██████████| 901/901 [00:05<00:00, 168.54it/s]\n",
      "Training Epoch 774: 100%|██████████| 901/901 [00:05<00:00, 169.89it/s]\n",
      "Training Epoch 775: 100%|██████████| 901/901 [00:05<00:00, 171.16it/s]\n",
      "Training Epoch 776: 100%|██████████| 901/901 [00:05<00:00, 169.49it/s]\n",
      "Training Epoch 777: 100%|██████████| 901/901 [00:05<00:00, 172.46it/s]\n",
      "Training Epoch 778: 100%|██████████| 901/901 [00:05<00:00, 175.29it/s]\n",
      "Training Epoch 779: 100%|██████████| 901/901 [00:05<00:00, 169.92it/s]\n",
      "Training Epoch 780: 100%|██████████| 901/901 [00:05<00:00, 172.09it/s]\n",
      "Training Epoch 781: 100%|██████████| 901/901 [00:05<00:00, 170.28it/s]\n"
     ]
    },
    {
     "name": "stdout",
     "output_type": "stream",
     "text": [
      "Epoch 780 - Train Loss: 0.0807, Train MSE: 0.0807, Train MAE: 0.2160\n",
      "Epoch 780 - Validation Loss: 0.6909, Validation MSE: 0.6909, Validation MAE: 0.6129\n"
     ]
    },
    {
     "name": "stderr",
     "output_type": "stream",
     "text": [
      "Training Epoch 782: 100%|██████████| 901/901 [00:05<00:00, 169.93it/s]\n",
      "Training Epoch 783: 100%|██████████| 901/901 [00:05<00:00, 173.08it/s]\n",
      "Training Epoch 784: 100%|██████████| 901/901 [00:05<00:00, 171.14it/s]\n",
      "Training Epoch 785: 100%|██████████| 901/901 [00:05<00:00, 170.34it/s]\n",
      "Training Epoch 786: 100%|██████████| 901/901 [00:05<00:00, 169.98it/s]\n",
      "Training Epoch 787: 100%|██████████| 901/901 [00:05<00:00, 171.05it/s]\n",
      "Training Epoch 788: 100%|██████████| 901/901 [00:05<00:00, 169.22it/s]\n",
      "Training Epoch 789: 100%|██████████| 901/901 [00:05<00:00, 173.59it/s]\n",
      "Training Epoch 790: 100%|██████████| 901/901 [00:05<00:00, 172.63it/s]\n",
      "Training Epoch 791: 100%|██████████| 901/901 [00:05<00:00, 170.92it/s]\n"
     ]
    },
    {
     "name": "stdout",
     "output_type": "stream",
     "text": [
      "Epoch 790 - Train Loss: 0.0799, Train MSE: 0.0799, Train MAE: 0.2153\n",
      "Epoch 790 - Validation Loss: 0.6912, Validation MSE: 0.6912, Validation MAE: 0.6111\n"
     ]
    },
    {
     "name": "stderr",
     "output_type": "stream",
     "text": [
      "Training Epoch 792: 100%|██████████| 901/901 [00:05<00:00, 171.69it/s]\n",
      "Training Epoch 793: 100%|██████████| 901/901 [00:05<00:00, 171.12it/s]\n",
      "Training Epoch 794: 100%|██████████| 901/901 [00:05<00:00, 169.22it/s]\n",
      "Training Epoch 795: 100%|██████████| 901/901 [00:05<00:00, 173.10it/s]\n",
      "Training Epoch 796: 100%|██████████| 901/901 [00:05<00:00, 171.55it/s]\n",
      "Training Epoch 797: 100%|██████████| 901/901 [00:05<00:00, 170.05it/s]\n",
      "Training Epoch 798: 100%|██████████| 901/901 [00:05<00:00, 169.86it/s]\n",
      "Training Epoch 799: 100%|██████████| 901/901 [00:05<00:00, 170.86it/s]\n",
      "Training Epoch 800: 100%|██████████| 901/901 [00:05<00:00, 171.39it/s]\n",
      "Training Epoch 801: 100%|██████████| 901/901 [00:05<00:00, 173.54it/s]\n"
     ]
    },
    {
     "name": "stdout",
     "output_type": "stream",
     "text": [
      "Epoch 800 - Train Loss: 0.0791, Train MSE: 0.0791, Train MAE: 0.2143\n",
      "Epoch 800 - Validation Loss: 0.6876, Validation MSE: 0.6876, Validation MAE: 0.6097\n"
     ]
    },
    {
     "name": "stderr",
     "output_type": "stream",
     "text": [
      "Training Epoch 802: 100%|██████████| 901/901 [00:05<00:00, 170.33it/s]\n",
      "Training Epoch 803: 100%|██████████| 901/901 [00:05<00:00, 171.29it/s]\n",
      "Training Epoch 804: 100%|██████████| 901/901 [00:05<00:00, 171.42it/s]\n",
      "Training Epoch 805: 100%|██████████| 901/901 [00:05<00:00, 169.86it/s]\n",
      "Training Epoch 806: 100%|██████████| 901/901 [00:05<00:00, 170.92it/s]\n",
      "Training Epoch 807: 100%|██████████| 901/901 [00:05<00:00, 171.82it/s]\n",
      "Training Epoch 808: 100%|██████████| 901/901 [00:05<00:00, 171.32it/s]\n",
      "Training Epoch 809: 100%|██████████| 901/901 [00:05<00:00, 169.16it/s]\n",
      "Training Epoch 810: 100%|██████████| 901/901 [00:05<00:00, 170.38it/s]\n",
      "Training Epoch 811: 100%|██████████| 901/901 [00:05<00:00, 172.78it/s]\n"
     ]
    },
    {
     "name": "stdout",
     "output_type": "stream",
     "text": [
      "Epoch 810 - Train Loss: 0.0796, Train MSE: 0.0796, Train MAE: 0.2147\n",
      "Epoch 810 - Validation Loss: 0.6922, Validation MSE: 0.6922, Validation MAE: 0.6113\n"
     ]
    },
    {
     "name": "stderr",
     "output_type": "stream",
     "text": [
      "Training Epoch 812: 100%|██████████| 901/901 [00:05<00:00, 170.70it/s]\n",
      "Training Epoch 813: 100%|██████████| 901/901 [00:05<00:00, 172.88it/s]\n",
      "Training Epoch 814: 100%|██████████| 901/901 [00:05<00:00, 170.88it/s]\n",
      "Training Epoch 815: 100%|██████████| 901/901 [00:05<00:00, 171.00it/s]\n",
      "Training Epoch 816: 100%|██████████| 901/901 [00:05<00:00, 169.95it/s]\n",
      "Training Epoch 817: 100%|██████████| 901/901 [00:05<00:00, 171.20it/s]\n",
      "Training Epoch 818: 100%|██████████| 901/901 [00:05<00:00, 171.47it/s]\n",
      "Training Epoch 819: 100%|██████████| 901/901 [00:05<00:00, 172.52it/s]\n",
      "Training Epoch 820: 100%|██████████| 901/901 [00:05<00:00, 173.70it/s]\n",
      "Training Epoch 821: 100%|██████████| 901/901 [00:05<00:00, 171.47it/s]\n"
     ]
    },
    {
     "name": "stdout",
     "output_type": "stream",
     "text": [
      "Epoch 820 - Train Loss: 0.0791, Train MSE: 0.0791, Train MAE: 0.2145\n",
      "Epoch 820 - Validation Loss: 0.6908, Validation MSE: 0.6908, Validation MAE: 0.6108\n"
     ]
    },
    {
     "name": "stderr",
     "output_type": "stream",
     "text": [
      "Training Epoch 822: 100%|██████████| 901/901 [00:05<00:00, 174.09it/s]\n",
      "Training Epoch 823: 100%|██████████| 901/901 [00:05<00:00, 170.69it/s]\n",
      "Training Epoch 824: 100%|██████████| 901/901 [00:05<00:00, 170.21it/s]\n",
      "Training Epoch 825: 100%|██████████| 901/901 [00:05<00:00, 172.28it/s]\n",
      "Training Epoch 826: 100%|██████████| 901/901 [00:05<00:00, 172.23it/s]\n",
      "Training Epoch 827: 100%|██████████| 901/901 [00:05<00:00, 172.05it/s]\n",
      "Training Epoch 828: 100%|██████████| 901/901 [00:05<00:00, 170.92it/s]\n",
      "Training Epoch 829: 100%|██████████| 901/901 [00:05<00:00, 170.65it/s]\n",
      "Training Epoch 830: 100%|██████████| 901/901 [00:05<00:00, 170.03it/s]\n",
      "Training Epoch 831: 100%|██████████| 901/901 [00:05<00:00, 173.96it/s]\n"
     ]
    },
    {
     "name": "stdout",
     "output_type": "stream",
     "text": [
      "Epoch 830 - Train Loss: 0.0785, Train MSE: 0.0785, Train MAE: 0.2136\n",
      "Epoch 830 - Validation Loss: 0.6923, Validation MSE: 0.6923, Validation MAE: 0.6118\n"
     ]
    },
    {
     "name": "stderr",
     "output_type": "stream",
     "text": [
      "Training Epoch 832: 100%|██████████| 901/901 [00:05<00:00, 170.97it/s]\n",
      "Training Epoch 833: 100%|██████████| 901/901 [00:05<00:00, 169.83it/s]\n",
      "Training Epoch 834: 100%|██████████| 901/901 [00:05<00:00, 171.19it/s]\n",
      "Training Epoch 835: 100%|██████████| 901/901 [00:05<00:00, 171.07it/s]\n",
      "Training Epoch 836: 100%|██████████| 901/901 [00:05<00:00, 170.04it/s]\n",
      "Training Epoch 837: 100%|██████████| 901/901 [00:05<00:00, 178.37it/s]\n",
      "Training Epoch 838: 100%|██████████| 901/901 [00:05<00:00, 172.19it/s]\n",
      "Training Epoch 839: 100%|██████████| 901/901 [00:05<00:00, 172.26it/s]\n",
      "Training Epoch 840: 100%|██████████| 901/901 [00:05<00:00, 170.20it/s]\n",
      "Training Epoch 841: 100%|██████████| 901/901 [00:05<00:00, 170.07it/s]\n"
     ]
    },
    {
     "name": "stdout",
     "output_type": "stream",
     "text": [
      "Epoch 840 - Train Loss: 0.0787, Train MSE: 0.0787, Train MAE: 0.2138\n",
      "Epoch 840 - Validation Loss: 0.6885, Validation MSE: 0.6885, Validation MAE: 0.6103\n"
     ]
    },
    {
     "name": "stderr",
     "output_type": "stream",
     "text": [
      "Training Epoch 842: 100%|██████████| 901/901 [00:05<00:00, 170.42it/s]\n",
      "Training Epoch 843: 100%|██████████| 901/901 [00:05<00:00, 174.39it/s]\n",
      "Training Epoch 844: 100%|██████████| 901/901 [00:05<00:00, 173.04it/s]\n",
      "Training Epoch 845: 100%|██████████| 901/901 [00:05<00:00, 172.65it/s]\n",
      "Training Epoch 846: 100%|██████████| 901/901 [00:05<00:00, 170.65it/s]\n",
      "Training Epoch 847: 100%|██████████| 901/901 [00:05<00:00, 170.67it/s]\n",
      "Training Epoch 848: 100%|██████████| 901/901 [00:05<00:00, 171.84it/s]\n",
      "Training Epoch 849: 100%|██████████| 901/901 [00:05<00:00, 174.30it/s]\n",
      "Training Epoch 850: 100%|██████████| 901/901 [00:05<00:00, 171.44it/s]\n",
      "Training Epoch 851: 100%|██████████| 901/901 [00:05<00:00, 172.29it/s]\n"
     ]
    },
    {
     "name": "stdout",
     "output_type": "stream",
     "text": [
      "Epoch 850 - Train Loss: 0.0777, Train MSE: 0.0777, Train MAE: 0.2122\n",
      "Epoch 850 - Validation Loss: 0.6951, Validation MSE: 0.6951, Validation MAE: 0.6145\n"
     ]
    },
    {
     "name": "stderr",
     "output_type": "stream",
     "text": [
      "Training Epoch 852: 100%|██████████| 901/901 [00:05<00:00, 170.70it/s]\n",
      "Training Epoch 853: 100%|██████████| 901/901 [00:05<00:00, 170.84it/s]\n",
      "Training Epoch 854: 100%|██████████| 901/901 [00:05<00:00, 172.27it/s]\n",
      "Training Epoch 855: 100%|██████████| 901/901 [00:05<00:00, 174.95it/s]\n",
      "Training Epoch 856: 100%|██████████| 901/901 [00:05<00:00, 170.30it/s]\n",
      "Training Epoch 857: 100%|██████████| 901/901 [00:05<00:00, 172.08it/s]\n",
      "Training Epoch 858: 100%|██████████| 901/901 [00:05<00:00, 169.39it/s]\n",
      "Training Epoch 859: 100%|██████████| 901/901 [00:05<00:00, 169.08it/s]\n",
      "Training Epoch 860: 100%|██████████| 901/901 [00:05<00:00, 171.94it/s]\n",
      "Training Epoch 861: 100%|██████████| 901/901 [00:05<00:00, 172.82it/s]\n"
     ]
    },
    {
     "name": "stdout",
     "output_type": "stream",
     "text": [
      "Epoch 860 - Train Loss: 0.0761, Train MSE: 0.0761, Train MAE: 0.2106\n",
      "Epoch 860 - Validation Loss: 0.6932, Validation MSE: 0.6932, Validation MAE: 0.6112\n"
     ]
    },
    {
     "name": "stderr",
     "output_type": "stream",
     "text": [
      "Training Epoch 862: 100%|██████████| 901/901 [00:05<00:00, 169.75it/s]\n",
      "Training Epoch 863: 100%|██████████| 901/901 [00:05<00:00, 171.75it/s]\n",
      "Training Epoch 864: 100%|██████████| 901/901 [00:05<00:00, 168.53it/s]\n",
      "Training Epoch 865: 100%|██████████| 901/901 [00:05<00:00, 171.40it/s]\n",
      "Training Epoch 866: 100%|██████████| 901/901 [00:05<00:00, 169.97it/s]\n",
      "Training Epoch 867: 100%|██████████| 901/901 [00:05<00:00, 171.97it/s]\n",
      "Training Epoch 868: 100%|██████████| 901/901 [00:05<00:00, 172.46it/s]\n",
      "Training Epoch 869: 100%|██████████| 901/901 [00:05<00:00, 173.67it/s]\n",
      "Training Epoch 870: 100%|██████████| 901/901 [00:05<00:00, 173.27it/s]\n",
      "Training Epoch 871: 100%|██████████| 901/901 [00:05<00:00, 170.30it/s]\n"
     ]
    },
    {
     "name": "stdout",
     "output_type": "stream",
     "text": [
      "Epoch 870 - Train Loss: 0.0768, Train MSE: 0.0768, Train MAE: 0.2102\n",
      "Epoch 870 - Validation Loss: 0.6989, Validation MSE: 0.6989, Validation MAE: 0.6152\n"
     ]
    },
    {
     "name": "stderr",
     "output_type": "stream",
     "text": [
      "Training Epoch 872: 100%|██████████| 901/901 [00:05<00:00, 174.49it/s]\n",
      "Training Epoch 873: 100%|██████████| 901/901 [00:05<00:00, 172.42it/s]\n",
      "Training Epoch 874: 100%|██████████| 901/901 [00:05<00:00, 173.20it/s]\n",
      "Training Epoch 875: 100%|██████████| 901/901 [00:05<00:00, 173.49it/s]\n",
      "Training Epoch 876: 100%|██████████| 901/901 [00:05<00:00, 169.96it/s]\n",
      "Training Epoch 877: 100%|██████████| 901/901 [00:05<00:00, 172.56it/s]\n",
      "Training Epoch 878: 100%|██████████| 901/901 [00:05<00:00, 172.43it/s]\n",
      "Training Epoch 879: 100%|██████████| 901/901 [00:05<00:00, 175.75it/s]\n",
      "Training Epoch 880: 100%|██████████| 901/901 [00:05<00:00, 172.05it/s]\n",
      "Training Epoch 881: 100%|██████████| 901/901 [00:05<00:00, 170.10it/s]\n"
     ]
    },
    {
     "name": "stdout",
     "output_type": "stream",
     "text": [
      "Epoch 880 - Train Loss: 0.0757, Train MSE: 0.0758, Train MAE: 0.2097\n",
      "Epoch 880 - Validation Loss: 0.6874, Validation MSE: 0.6874, Validation MAE: 0.6107\n"
     ]
    },
    {
     "name": "stderr",
     "output_type": "stream",
     "text": [
      "Training Epoch 882: 100%|██████████| 901/901 [00:05<00:00, 172.79it/s]\n",
      "Training Epoch 883: 100%|██████████| 901/901 [00:05<00:00, 169.12it/s]\n",
      "Training Epoch 884: 100%|██████████| 901/901 [00:05<00:00, 170.26it/s]\n",
      "Training Epoch 885: 100%|██████████| 901/901 [00:05<00:00, 176.06it/s]\n",
      "Training Epoch 886: 100%|██████████| 901/901 [00:05<00:00, 173.26it/s]\n",
      "Training Epoch 887: 100%|██████████| 901/901 [00:05<00:00, 174.14it/s]\n",
      "Training Epoch 888: 100%|██████████| 901/901 [00:05<00:00, 171.19it/s]\n",
      "Training Epoch 889: 100%|██████████| 901/901 [00:05<00:00, 170.83it/s]\n",
      "Training Epoch 890: 100%|██████████| 901/901 [00:05<00:00, 170.66it/s]\n",
      "Training Epoch 891: 100%|██████████| 901/901 [00:05<00:00, 174.34it/s]\n"
     ]
    },
    {
     "name": "stdout",
     "output_type": "stream",
     "text": [
      "Epoch 890 - Train Loss: 0.0759, Train MSE: 0.0759, Train MAE: 0.2094\n",
      "Epoch 890 - Validation Loss: 0.6916, Validation MSE: 0.6916, Validation MAE: 0.6130\n"
     ]
    },
    {
     "name": "stderr",
     "output_type": "stream",
     "text": [
      "Training Epoch 892: 100%|██████████| 901/901 [00:05<00:00, 173.94it/s]\n",
      "Training Epoch 893: 100%|██████████| 901/901 [00:05<00:00, 171.35it/s]\n",
      "Training Epoch 894: 100%|██████████| 901/901 [00:05<00:00, 170.85it/s]\n",
      "Training Epoch 895: 100%|██████████| 901/901 [00:05<00:00, 172.06it/s]\n",
      "Training Epoch 896: 100%|██████████| 901/901 [00:05<00:00, 170.79it/s]\n",
      "Training Epoch 897: 100%|██████████| 901/901 [00:05<00:00, 175.94it/s]\n",
      "Training Epoch 898: 100%|██████████| 901/901 [00:05<00:00, 172.35it/s]\n",
      "Training Epoch 899: 100%|██████████| 901/901 [00:05<00:00, 168.34it/s]\n",
      "Training Epoch 900: 100%|██████████| 901/901 [00:05<00:00, 172.21it/s]\n",
      "Training Epoch 901: 100%|██████████| 901/901 [00:05<00:00, 171.47it/s]\n"
     ]
    },
    {
     "name": "stdout",
     "output_type": "stream",
     "text": [
      "Epoch 900 - Train Loss: 0.0758, Train MSE: 0.0758, Train MAE: 0.2099\n",
      "Epoch 900 - Validation Loss: 0.6952, Validation MSE: 0.6952, Validation MAE: 0.6135\n"
     ]
    },
    {
     "name": "stderr",
     "output_type": "stream",
     "text": [
      "Training Epoch 902: 100%|██████████| 901/901 [00:05<00:00, 171.63it/s]\n",
      "Training Epoch 903: 100%|██████████| 901/901 [00:05<00:00, 175.19it/s]\n",
      "Training Epoch 904: 100%|██████████| 901/901 [00:05<00:00, 170.66it/s]\n",
      "Training Epoch 905: 100%|██████████| 901/901 [00:05<00:00, 170.88it/s]\n",
      "Training Epoch 906: 100%|██████████| 901/901 [00:05<00:00, 171.81it/s]\n",
      "Training Epoch 907: 100%|██████████| 901/901 [00:05<00:00, 169.09it/s]\n",
      "Training Epoch 908: 100%|██████████| 901/901 [00:05<00:00, 172.63it/s]\n",
      "Training Epoch 909: 100%|██████████| 901/901 [00:05<00:00, 174.88it/s]\n",
      "Training Epoch 910: 100%|██████████| 901/901 [00:05<00:00, 170.16it/s]\n",
      "Training Epoch 911: 100%|██████████| 901/901 [00:05<00:00, 171.20it/s]\n"
     ]
    },
    {
     "name": "stdout",
     "output_type": "stream",
     "text": [
      "Epoch 910 - Train Loss: 0.0758, Train MSE: 0.0758, Train MAE: 0.2095\n",
      "Epoch 910 - Validation Loss: 0.6941, Validation MSE: 0.6941, Validation MAE: 0.6121\n"
     ]
    },
    {
     "name": "stderr",
     "output_type": "stream",
     "text": [
      "Training Epoch 912: 100%|██████████| 901/901 [00:05<00:00, 171.00it/s]\n",
      "Training Epoch 913: 100%|██████████| 901/901 [00:05<00:00, 175.05it/s]\n",
      "Training Epoch 914: 100%|██████████| 901/901 [00:05<00:00, 168.52it/s]\n",
      "Training Epoch 915: 100%|██████████| 901/901 [00:05<00:00, 176.04it/s]\n",
      "Training Epoch 916: 100%|██████████| 901/901 [00:05<00:00, 172.68it/s]\n",
      "Training Epoch 917: 100%|██████████| 901/901 [00:05<00:00, 172.78it/s]\n",
      "Training Epoch 918: 100%|██████████| 901/901 [00:05<00:00, 172.17it/s]\n",
      "Training Epoch 919: 100%|██████████| 901/901 [00:05<00:00, 173.36it/s]\n",
      "Training Epoch 920: 100%|██████████| 901/901 [00:05<00:00, 174.42it/s]\n",
      "Training Epoch 921: 100%|██████████| 901/901 [00:05<00:00, 170.33it/s]\n"
     ]
    },
    {
     "name": "stdout",
     "output_type": "stream",
     "text": [
      "Epoch 920 - Train Loss: 0.0740, Train MSE: 0.0740, Train MAE: 0.2072\n",
      "Epoch 920 - Validation Loss: 0.6900, Validation MSE: 0.6900, Validation MAE: 0.6115\n"
     ]
    },
    {
     "name": "stderr",
     "output_type": "stream",
     "text": [
      "Training Epoch 922: 100%|██████████| 901/901 [00:05<00:00, 174.24it/s]\n",
      "Training Epoch 923: 100%|██████████| 901/901 [00:05<00:00, 172.83it/s]\n",
      "Training Epoch 924: 100%|██████████| 901/901 [00:05<00:00, 169.72it/s]\n",
      "Training Epoch 925: 100%|██████████| 901/901 [00:05<00:00, 173.12it/s]\n",
      "Training Epoch 926: 100%|██████████| 901/901 [00:05<00:00, 170.26it/s]\n",
      "Training Epoch 927: 100%|██████████| 901/901 [00:05<00:00, 175.55it/s]\n",
      "Training Epoch 928: 100%|██████████| 901/901 [00:05<00:00, 172.06it/s]\n",
      "Training Epoch 929: 100%|██████████| 901/901 [00:05<00:00, 171.91it/s]\n",
      "Training Epoch 930: 100%|██████████| 901/901 [00:05<00:00, 168.00it/s]\n",
      "Training Epoch 931: 100%|██████████| 901/901 [00:05<00:00, 170.82it/s]\n"
     ]
    },
    {
     "name": "stdout",
     "output_type": "stream",
     "text": [
      "Epoch 930 - Train Loss: 0.0739, Train MSE: 0.0739, Train MAE: 0.2069\n",
      "Epoch 930 - Validation Loss: 0.6876, Validation MSE: 0.6876, Validation MAE: 0.6095\n"
     ]
    },
    {
     "name": "stderr",
     "output_type": "stream",
     "text": [
      "Training Epoch 932: 100%|██████████| 901/901 [00:05<00:00, 169.08it/s]\n",
      "Training Epoch 933: 100%|██████████| 901/901 [00:05<00:00, 175.52it/s]\n",
      "Training Epoch 934: 100%|██████████| 901/901 [00:05<00:00, 171.85it/s]\n",
      "Training Epoch 935: 100%|██████████| 901/901 [00:05<00:00, 174.50it/s]\n",
      "Training Epoch 936: 100%|██████████| 901/901 [00:05<00:00, 171.11it/s]\n",
      "Training Epoch 937: 100%|██████████| 901/901 [00:05<00:00, 172.44it/s]\n",
      "Training Epoch 938: 100%|██████████| 901/901 [00:05<00:00, 171.36it/s]\n",
      "Training Epoch 939: 100%|██████████| 901/901 [00:05<00:00, 175.14it/s]\n",
      "Training Epoch 940: 100%|██████████| 901/901 [00:05<00:00, 172.10it/s]\n",
      "Training Epoch 941: 100%|██████████| 901/901 [00:05<00:00, 169.62it/s]\n"
     ]
    },
    {
     "name": "stdout",
     "output_type": "stream",
     "text": [
      "Epoch 940 - Train Loss: 0.0738, Train MSE: 0.0738, Train MAE: 0.2065\n",
      "Epoch 940 - Validation Loss: 0.6875, Validation MSE: 0.6875, Validation MAE: 0.6106\n"
     ]
    },
    {
     "name": "stderr",
     "output_type": "stream",
     "text": [
      "Training Epoch 942: 100%|██████████| 901/901 [00:05<00:00, 171.64it/s]\n",
      "Training Epoch 943: 100%|██████████| 901/901 [00:05<00:00, 170.61it/s]\n",
      "Training Epoch 944: 100%|██████████| 901/901 [00:05<00:00, 169.94it/s]\n",
      "Training Epoch 945: 100%|██████████| 901/901 [00:05<00:00, 176.55it/s]\n",
      "Training Epoch 946: 100%|██████████| 901/901 [00:05<00:00, 171.00it/s]\n",
      "Training Epoch 947: 100%|██████████| 901/901 [00:05<00:00, 169.64it/s]\n",
      "Training Epoch 948: 100%|██████████| 901/901 [00:05<00:00, 172.48it/s]\n",
      "Training Epoch 949: 100%|██████████| 901/901 [00:05<00:00, 173.41it/s]\n",
      "Training Epoch 950: 100%|██████████| 901/901 [00:05<00:00, 171.18it/s]\n",
      "Training Epoch 951: 100%|██████████| 901/901 [00:05<00:00, 174.05it/s]\n"
     ]
    },
    {
     "name": "stdout",
     "output_type": "stream",
     "text": [
      "Epoch 950 - Train Loss: 0.0732, Train MSE: 0.0732, Train MAE: 0.2054\n",
      "Epoch 950 - Validation Loss: 0.6885, Validation MSE: 0.6885, Validation MAE: 0.6099\n"
     ]
    },
    {
     "name": "stderr",
     "output_type": "stream",
     "text": [
      "Training Epoch 952: 100%|██████████| 901/901 [00:05<00:00, 173.99it/s]\n",
      "Training Epoch 953: 100%|██████████| 901/901 [00:05<00:00, 171.22it/s]\n",
      "Training Epoch 954: 100%|██████████| 901/901 [00:05<00:00, 172.22it/s]\n",
      "Training Epoch 955: 100%|██████████| 901/901 [00:05<00:00, 170.95it/s]\n",
      "Training Epoch 956: 100%|██████████| 901/901 [00:05<00:00, 171.40it/s]\n",
      "Training Epoch 957: 100%|██████████| 901/901 [00:05<00:00, 175.08it/s]\n",
      "Training Epoch 958: 100%|██████████| 901/901 [00:05<00:00, 170.93it/s]\n",
      "Training Epoch 959: 100%|██████████| 901/901 [00:05<00:00, 170.95it/s]\n",
      "Training Epoch 960: 100%|██████████| 901/901 [00:05<00:00, 170.15it/s]\n",
      "Training Epoch 961: 100%|██████████| 901/901 [00:05<00:00, 172.39it/s]\n"
     ]
    },
    {
     "name": "stdout",
     "output_type": "stream",
     "text": [
      "Epoch 960 - Train Loss: 0.0738, Train MSE: 0.0738, Train MAE: 0.2064\n",
      "Epoch 960 - Validation Loss: 0.6837, Validation MSE: 0.6837, Validation MAE: 0.6069\n"
     ]
    },
    {
     "name": "stderr",
     "output_type": "stream",
     "text": [
      "Training Epoch 962: 100%|██████████| 901/901 [00:05<00:00, 171.68it/s]\n",
      "Training Epoch 963: 100%|██████████| 901/901 [00:05<00:00, 175.10it/s]\n",
      "Training Epoch 964: 100%|██████████| 901/901 [00:05<00:00, 171.33it/s]\n",
      "Training Epoch 965: 100%|██████████| 901/901 [00:05<00:00, 173.77it/s]\n",
      "Training Epoch 966: 100%|██████████| 901/901 [00:05<00:00, 176.65it/s]\n",
      "Training Epoch 967: 100%|██████████| 901/901 [00:05<00:00, 173.53it/s]\n",
      "Training Epoch 968: 100%|██████████| 901/901 [00:05<00:00, 175.61it/s]\n",
      "Training Epoch 969: 100%|██████████| 901/901 [00:05<00:00, 178.49it/s]\n",
      "Training Epoch 970: 100%|██████████| 901/901 [00:05<00:00, 172.82it/s]\n",
      "Training Epoch 971: 100%|██████████| 901/901 [00:05<00:00, 172.56it/s]\n"
     ]
    },
    {
     "name": "stdout",
     "output_type": "stream",
     "text": [
      "Epoch 970 - Train Loss: 0.0739, Train MSE: 0.0739, Train MAE: 0.2066\n",
      "Epoch 970 - Validation Loss: 0.6875, Validation MSE: 0.6875, Validation MAE: 0.6101\n"
     ]
    },
    {
     "name": "stderr",
     "output_type": "stream",
     "text": [
      "Training Epoch 972: 100%|██████████| 901/901 [00:05<00:00, 175.61it/s]\n",
      "Training Epoch 973: 100%|██████████| 901/901 [00:05<00:00, 172.93it/s]\n",
      "Training Epoch 974: 100%|██████████| 901/901 [00:05<00:00, 172.88it/s]\n",
      "Training Epoch 975: 100%|██████████| 901/901 [00:05<00:00, 173.93it/s]\n",
      "Training Epoch 976: 100%|██████████| 901/901 [00:05<00:00, 175.62it/s]\n",
      "Training Epoch 977: 100%|██████████| 901/901 [00:05<00:00, 172.97it/s]\n",
      "Training Epoch 978: 100%|██████████| 901/901 [00:05<00:00, 172.46it/s]\n",
      "Training Epoch 979: 100%|██████████| 901/901 [00:05<00:00, 172.11it/s]\n",
      "Training Epoch 980: 100%|██████████| 901/901 [00:05<00:00, 172.65it/s]\n",
      "Training Epoch 981: 100%|██████████| 901/901 [00:05<00:00, 174.27it/s]\n"
     ]
    },
    {
     "name": "stdout",
     "output_type": "stream",
     "text": [
      "Epoch 980 - Train Loss: 0.0728, Train MSE: 0.0728, Train MAE: 0.2062\n",
      "Epoch 980 - Validation Loss: 0.6909, Validation MSE: 0.6909, Validation MAE: 0.6115\n"
     ]
    },
    {
     "name": "stderr",
     "output_type": "stream",
     "text": [
      "Training Epoch 982: 100%|██████████| 901/901 [00:05<00:00, 173.56it/s]\n",
      "Training Epoch 983: 100%|██████████| 901/901 [00:05<00:00, 176.57it/s]\n",
      "Training Epoch 984: 100%|██████████| 901/901 [00:05<00:00, 175.62it/s]\n",
      "Training Epoch 985: 100%|██████████| 901/901 [00:05<00:00, 175.06it/s]\n",
      "Training Epoch 986: 100%|██████████| 901/901 [00:05<00:00, 176.53it/s]\n",
      "Training Epoch 987: 100%|██████████| 901/901 [00:05<00:00, 175.45it/s]\n",
      "Training Epoch 988: 100%|██████████| 901/901 [00:05<00:00, 171.60it/s]\n",
      "Training Epoch 989: 100%|██████████| 901/901 [00:05<00:00, 172.15it/s]\n",
      "Training Epoch 990: 100%|██████████| 901/901 [00:05<00:00, 172.69it/s]\n",
      "Training Epoch 991: 100%|██████████| 901/901 [00:05<00:00, 173.33it/s]\n"
     ]
    },
    {
     "name": "stdout",
     "output_type": "stream",
     "text": [
      "Epoch 990 - Train Loss: 0.0725, Train MSE: 0.0725, Train MAE: 0.2037\n",
      "Epoch 990 - Validation Loss: 0.6841, Validation MSE: 0.6841, Validation MAE: 0.6081\n"
     ]
    },
    {
     "name": "stderr",
     "output_type": "stream",
     "text": [
      "Training Epoch 992: 100%|██████████| 901/901 [00:05<00:00, 172.08it/s]\n",
      "Training Epoch 993: 100%|██████████| 901/901 [00:05<00:00, 175.61it/s]\n",
      "Training Epoch 994: 100%|██████████| 901/901 [00:05<00:00, 171.42it/s]\n",
      "Training Epoch 995: 100%|██████████| 901/901 [00:05<00:00, 171.89it/s]\n",
      "Training Epoch 996: 100%|██████████| 901/901 [00:05<00:00, 172.07it/s]\n",
      "Training Epoch 997: 100%|██████████| 901/901 [00:05<00:00, 171.59it/s]\n",
      "Training Epoch 998: 100%|██████████| 901/901 [00:05<00:00, 171.63it/s]\n",
      "Training Epoch 999: 100%|██████████| 901/901 [00:05<00:00, 175.18it/s]\n",
      "Training Epoch 1000: 100%|██████████| 901/901 [00:05<00:00, 172.53it/s]\n",
      "Training Epoch 1001: 100%|██████████| 901/901 [00:05<00:00, 169.15it/s]\n"
     ]
    },
    {
     "name": "stdout",
     "output_type": "stream",
     "text": [
      "Epoch 1000 - Train Loss: 0.0732, Train MSE: 0.0733, Train MAE: 0.2059\n",
      "Epoch 1000 - Validation Loss: 0.6886, Validation MSE: 0.6886, Validation MAE: 0.6100\n"
     ]
    },
    {
     "name": "stderr",
     "output_type": "stream",
     "text": [
      "Training Epoch 1002: 100%|██████████| 901/901 [00:05<00:00, 172.28it/s]\n",
      "Training Epoch 1003: 100%|██████████| 901/901 [00:05<00:00, 173.54it/s]\n",
      "Training Epoch 1004: 100%|██████████| 901/901 [00:05<00:00, 170.70it/s]\n",
      "Training Epoch 1005: 100%|██████████| 901/901 [00:05<00:00, 177.25it/s]\n",
      "Training Epoch 1006: 100%|██████████| 901/901 [00:05<00:00, 173.47it/s]\n",
      "Training Epoch 1007: 100%|██████████| 901/901 [00:05<00:00, 172.10it/s]\n",
      "Training Epoch 1008: 100%|██████████| 901/901 [00:05<00:00, 174.20it/s]\n",
      "Training Epoch 1009: 100%|██████████| 901/901 [00:05<00:00, 174.44it/s]\n",
      "Training Epoch 1010: 100%|██████████| 901/901 [00:05<00:00, 172.84it/s]\n",
      "Training Epoch 1011: 100%|██████████| 901/901 [00:05<00:00, 177.27it/s]\n"
     ]
    },
    {
     "name": "stdout",
     "output_type": "stream",
     "text": [
      "Epoch 1010 - Train Loss: 0.0717, Train MSE: 0.0717, Train MAE: 0.2031\n",
      "Epoch 1010 - Validation Loss: 0.6836, Validation MSE: 0.6836, Validation MAE: 0.6082\n"
     ]
    },
    {
     "name": "stderr",
     "output_type": "stream",
     "text": [
      "Training Epoch 1012: 100%|██████████| 901/901 [00:05<00:00, 171.70it/s]\n",
      "Training Epoch 1013: 100%|██████████| 901/901 [00:05<00:00, 177.41it/s]\n",
      "Training Epoch 1014: 100%|██████████| 901/901 [00:05<00:00, 172.90it/s]\n",
      "Training Epoch 1015: 100%|██████████| 901/901 [00:05<00:00, 173.30it/s]\n",
      "Training Epoch 1016: 100%|██████████| 901/901 [00:05<00:00, 171.78it/s]\n",
      "Training Epoch 1017: 100%|██████████| 901/901 [00:05<00:00, 175.96it/s]\n",
      "Training Epoch 1018: 100%|██████████| 901/901 [00:05<00:00, 170.12it/s]\n",
      "Training Epoch 1019: 100%|██████████| 901/901 [00:05<00:00, 172.50it/s]\n",
      "Training Epoch 1020: 100%|██████████| 901/901 [00:05<00:00, 171.72it/s]\n",
      "Training Epoch 1021: 100%|██████████| 901/901 [00:05<00:00, 170.59it/s]\n"
     ]
    },
    {
     "name": "stdout",
     "output_type": "stream",
     "text": [
      "Epoch 1020 - Train Loss: 0.0717, Train MSE: 0.0717, Train MAE: 0.2035\n",
      "Epoch 1020 - Validation Loss: 0.6888, Validation MSE: 0.6888, Validation MAE: 0.6115\n"
     ]
    },
    {
     "name": "stderr",
     "output_type": "stream",
     "text": [
      "Training Epoch 1022: 100%|██████████| 901/901 [00:05<00:00, 172.46it/s]\n",
      "Training Epoch 1023: 100%|██████████| 901/901 [00:05<00:00, 175.71it/s]\n",
      "Training Epoch 1024: 100%|██████████| 901/901 [00:05<00:00, 171.25it/s]\n",
      "Training Epoch 1025: 100%|██████████| 901/901 [00:05<00:00, 173.71it/s]\n",
      "Training Epoch 1026: 100%|██████████| 901/901 [00:05<00:00, 171.29it/s]\n",
      "Training Epoch 1027: 100%|██████████| 901/901 [00:05<00:00, 177.10it/s]\n",
      "Training Epoch 1028: 100%|██████████| 901/901 [00:05<00:00, 170.61it/s]\n",
      "Training Epoch 1029: 100%|██████████| 901/901 [00:05<00:00, 176.93it/s]\n",
      "Training Epoch 1030: 100%|██████████| 901/901 [00:05<00:00, 171.63it/s]\n",
      "Training Epoch 1031: 100%|██████████| 901/901 [00:05<00:00, 170.71it/s]\n"
     ]
    },
    {
     "name": "stdout",
     "output_type": "stream",
     "text": [
      "Epoch 1030 - Train Loss: 0.0705, Train MSE: 0.0704, Train MAE: 0.2030\n",
      "Epoch 1030 - Validation Loss: 0.6855, Validation MSE: 0.6855, Validation MAE: 0.6090\n"
     ]
    },
    {
     "name": "stderr",
     "output_type": "stream",
     "text": [
      "Training Epoch 1032: 100%|██████████| 901/901 [00:05<00:00, 172.62it/s]\n",
      "Training Epoch 1033: 100%|██████████| 901/901 [00:05<00:00, 172.07it/s]\n",
      "Training Epoch 1034: 100%|██████████| 901/901 [00:05<00:00, 172.87it/s]\n",
      "Training Epoch 1035: 100%|██████████| 901/901 [00:05<00:00, 177.31it/s]\n",
      "Training Epoch 1036: 100%|██████████| 901/901 [00:05<00:00, 170.13it/s]\n",
      "Training Epoch 1037: 100%|██████████| 901/901 [00:05<00:00, 172.09it/s]\n",
      "Training Epoch 1038: 100%|██████████| 901/901 [00:05<00:00, 171.29it/s]\n",
      "Training Epoch 1039: 100%|██████████| 901/901 [00:05<00:00, 174.90it/s]\n",
      "Training Epoch 1040: 100%|██████████| 901/901 [00:05<00:00, 173.74it/s]\n",
      "Training Epoch 1041: 100%|██████████| 901/901 [00:05<00:00, 176.45it/s]\n"
     ]
    },
    {
     "name": "stdout",
     "output_type": "stream",
     "text": [
      "Epoch 1040 - Train Loss: 0.0701, Train MSE: 0.0701, Train MAE: 0.2011\n",
      "Epoch 1040 - Validation Loss: 0.6797, Validation MSE: 0.6797, Validation MAE: 0.6071\n"
     ]
    },
    {
     "name": "stderr",
     "output_type": "stream",
     "text": [
      "Training Epoch 1042: 100%|██████████| 901/901 [00:05<00:00, 173.17it/s]\n",
      "Training Epoch 1043: 100%|██████████| 901/901 [00:05<00:00, 172.54it/s]\n",
      "Training Epoch 1044: 100%|██████████| 901/901 [00:05<00:00, 172.17it/s]\n",
      "Training Epoch 1045: 100%|██████████| 901/901 [00:05<00:00, 174.28it/s]\n",
      "Training Epoch 1046: 100%|██████████| 901/901 [00:05<00:00, 173.68it/s]\n",
      "Training Epoch 1047: 100%|██████████| 901/901 [00:05<00:00, 177.40it/s]\n",
      "Training Epoch 1048: 100%|██████████| 901/901 [00:05<00:00, 171.80it/s]\n",
      "Training Epoch 1049: 100%|██████████| 901/901 [00:05<00:00, 174.86it/s]\n",
      "Training Epoch 1050: 100%|██████████| 901/901 [00:05<00:00, 172.15it/s]\n",
      "Training Epoch 1051: 100%|██████████| 901/901 [00:05<00:00, 174.63it/s]\n"
     ]
    },
    {
     "name": "stdout",
     "output_type": "stream",
     "text": [
      "Epoch 1050 - Train Loss: 0.0692, Train MSE: 0.0692, Train MAE: 0.2005\n",
      "Epoch 1050 - Validation Loss: 0.6889, Validation MSE: 0.6889, Validation MAE: 0.6104\n"
     ]
    },
    {
     "name": "stderr",
     "output_type": "stream",
     "text": [
      "Training Epoch 1052: 100%|██████████| 901/901 [00:05<00:00, 173.99it/s]\n",
      "Training Epoch 1053: 100%|██████████| 901/901 [00:05<00:00, 169.06it/s]\n",
      "Training Epoch 1054: 100%|██████████| 901/901 [00:05<00:00, 171.75it/s]\n",
      "Training Epoch 1055: 100%|██████████| 901/901 [00:05<00:00, 172.41it/s]\n",
      "Training Epoch 1056: 100%|██████████| 901/901 [00:05<00:00, 170.51it/s]\n",
      "Training Epoch 1057: 100%|██████████| 901/901 [00:05<00:00, 173.61it/s]\n",
      "Training Epoch 1058: 100%|██████████| 901/901 [00:05<00:00, 172.75it/s]\n",
      "Training Epoch 1059: 100%|██████████| 901/901 [00:05<00:00, 176.59it/s]\n",
      "Training Epoch 1060: 100%|██████████| 901/901 [00:05<00:00, 172.45it/s]\n",
      "Training Epoch 1061: 100%|██████████| 901/901 [00:05<00:00, 172.09it/s]\n"
     ]
    },
    {
     "name": "stdout",
     "output_type": "stream",
     "text": [
      "Epoch 1060 - Train Loss: 0.0704, Train MSE: 0.0704, Train MAE: 0.2011\n",
      "Epoch 1060 - Validation Loss: 0.6804, Validation MSE: 0.6804, Validation MAE: 0.6072\n"
     ]
    },
    {
     "name": "stderr",
     "output_type": "stream",
     "text": [
      "Training Epoch 1062: 100%|██████████| 901/901 [00:05<00:00, 173.51it/s]\n",
      "Training Epoch 1063: 100%|██████████| 901/901 [00:05<00:00, 173.12it/s]\n",
      "Training Epoch 1064: 100%|██████████| 901/901 [00:05<00:00, 172.33it/s]\n",
      "Training Epoch 1065: 100%|██████████| 901/901 [00:05<00:00, 173.01it/s]\n",
      "Training Epoch 1066: 100%|██████████| 901/901 [00:05<00:00, 170.38it/s]\n",
      "Training Epoch 1067: 100%|██████████| 901/901 [00:05<00:00, 169.24it/s]\n",
      "Training Epoch 1068: 100%|██████████| 901/901 [00:05<00:00, 172.72it/s]\n",
      "Training Epoch 1069: 100%|██████████| 901/901 [00:05<00:00, 173.17it/s]\n",
      "Training Epoch 1070: 100%|██████████| 901/901 [00:05<00:00, 175.33it/s]\n",
      "Training Epoch 1071: 100%|██████████| 901/901 [00:05<00:00, 175.42it/s]\n"
     ]
    },
    {
     "name": "stdout",
     "output_type": "stream",
     "text": [
      "Epoch 1070 - Train Loss: 0.0688, Train MSE: 0.0688, Train MAE: 0.2007\n",
      "Epoch 1070 - Validation Loss: 0.6794, Validation MSE: 0.6794, Validation MAE: 0.6061\n"
     ]
    },
    {
     "name": "stderr",
     "output_type": "stream",
     "text": [
      "Training Epoch 1072: 100%|██████████| 901/901 [00:05<00:00, 173.29it/s]\n",
      "Training Epoch 1073: 100%|██████████| 901/901 [00:05<00:00, 172.02it/s]\n",
      "Training Epoch 1074: 100%|██████████| 901/901 [00:05<00:00, 173.17it/s]\n",
      "Training Epoch 1075: 100%|██████████| 901/901 [00:05<00:00, 171.44it/s]\n",
      "Training Epoch 1076: 100%|██████████| 901/901 [00:05<00:00, 173.93it/s]\n",
      "Training Epoch 1077: 100%|██████████| 901/901 [00:05<00:00, 175.40it/s]\n",
      "Training Epoch 1078: 100%|██████████| 901/901 [00:05<00:00, 171.43it/s]\n",
      "Training Epoch 1079: 100%|██████████| 901/901 [00:05<00:00, 171.97it/s]\n",
      "Training Epoch 1080: 100%|██████████| 901/901 [00:05<00:00, 172.84it/s]\n",
      "Training Epoch 1081: 100%|██████████| 901/901 [00:05<00:00, 168.89it/s]\n"
     ]
    },
    {
     "name": "stdout",
     "output_type": "stream",
     "text": [
      "Epoch 1080 - Train Loss: 0.0699, Train MSE: 0.0699, Train MAE: 0.2013\n",
      "Epoch 1080 - Validation Loss: 0.6818, Validation MSE: 0.6818, Validation MAE: 0.6070\n"
     ]
    },
    {
     "name": "stderr",
     "output_type": "stream",
     "text": [
      "Training Epoch 1082: 100%|██████████| 901/901 [00:05<00:00, 173.52it/s]\n",
      "Training Epoch 1083: 100%|██████████| 901/901 [00:05<00:00, 173.05it/s]\n",
      "Training Epoch 1084: 100%|██████████| 901/901 [00:05<00:00, 172.73it/s]\n",
      "Training Epoch 1085: 100%|██████████| 901/901 [00:05<00:00, 172.51it/s]\n",
      "Training Epoch 1086: 100%|██████████| 901/901 [00:05<00:00, 171.61it/s]\n",
      "Training Epoch 1087: 100%|██████████| 901/901 [00:05<00:00, 168.08it/s]\n",
      "Training Epoch 1088: 100%|██████████| 901/901 [00:05<00:00, 175.96it/s]\n",
      "Training Epoch 1089: 100%|██████████| 901/901 [00:04<00:00, 180.91it/s]\n",
      "Training Epoch 1090: 100%|██████████| 901/901 [00:05<00:00, 175.30it/s]\n",
      "Training Epoch 1091: 100%|██████████| 901/901 [00:05<00:00, 173.45it/s]\n"
     ]
    },
    {
     "name": "stdout",
     "output_type": "stream",
     "text": [
      "Epoch 1090 - Train Loss: 0.0689, Train MSE: 0.0689, Train MAE: 0.1997\n",
      "Epoch 1090 - Validation Loss: 0.6783, Validation MSE: 0.6783, Validation MAE: 0.6066\n"
     ]
    },
    {
     "name": "stderr",
     "output_type": "stream",
     "text": [
      "Training Epoch 1092: 100%|██████████| 901/901 [00:05<00:00, 174.96it/s]\n",
      "Training Epoch 1093: 100%|██████████| 901/901 [00:05<00:00, 172.52it/s]\n",
      "Training Epoch 1094: 100%|██████████| 901/901 [00:05<00:00, 174.97it/s]\n",
      "Training Epoch 1095: 100%|██████████| 901/901 [00:05<00:00, 172.91it/s]\n",
      "Training Epoch 1096: 100%|██████████| 901/901 [00:05<00:00, 172.28it/s]\n",
      "Training Epoch 1097: 100%|██████████| 901/901 [00:05<00:00, 170.10it/s]\n",
      "Training Epoch 1098: 100%|██████████| 901/901 [00:05<00:00, 170.98it/s]\n",
      "Training Epoch 1099: 100%|██████████| 901/901 [00:05<00:00, 172.51it/s]\n",
      "Training Epoch 1100: 100%|██████████| 901/901 [00:05<00:00, 175.62it/s]\n",
      "Training Epoch 1101: 100%|██████████| 901/901 [00:05<00:00, 171.06it/s]\n"
     ]
    },
    {
     "name": "stdout",
     "output_type": "stream",
     "text": [
      "Epoch 1100 - Train Loss: 0.0695, Train MSE: 0.0695, Train MAE: 0.2007\n",
      "Epoch 1100 - Validation Loss: 0.6780, Validation MSE: 0.6780, Validation MAE: 0.6082\n"
     ]
    },
    {
     "name": "stderr",
     "output_type": "stream",
     "text": [
      "Training Epoch 1102: 100%|██████████| 901/901 [00:05<00:00, 173.90it/s]\n",
      "Training Epoch 1103: 100%|██████████| 901/901 [00:05<00:00, 174.77it/s]\n",
      "Training Epoch 1104: 100%|██████████| 901/901 [00:05<00:00, 172.17it/s]\n",
      "Training Epoch 1105: 100%|██████████| 901/901 [00:05<00:00, 173.28it/s]\n",
      "Training Epoch 1106: 100%|██████████| 901/901 [00:05<00:00, 174.73it/s]\n",
      "Training Epoch 1107: 100%|██████████| 901/901 [00:05<00:00, 171.07it/s]\n",
      "Training Epoch 1108: 100%|██████████| 901/901 [00:05<00:00, 172.43it/s]\n",
      "Training Epoch 1109: 100%|██████████| 901/901 [00:05<00:00, 171.13it/s]\n",
      "Training Epoch 1110: 100%|██████████| 901/901 [00:05<00:00, 172.22it/s]\n",
      "Training Epoch 1111: 100%|██████████| 901/901 [00:05<00:00, 174.03it/s]\n"
     ]
    },
    {
     "name": "stdout",
     "output_type": "stream",
     "text": [
      "Epoch 1110 - Train Loss: 0.0687, Train MSE: 0.0687, Train MAE: 0.1998\n",
      "Epoch 1110 - Validation Loss: 0.6780, Validation MSE: 0.6780, Validation MAE: 0.6073\n"
     ]
    },
    {
     "name": "stderr",
     "output_type": "stream",
     "text": [
      "Training Epoch 1112: 100%|██████████| 901/901 [00:05<00:00, 177.87it/s]\n",
      "Training Epoch 1113: 100%|██████████| 901/901 [00:05<00:00, 172.55it/s]\n",
      "Training Epoch 1114: 100%|██████████| 901/901 [00:05<00:00, 173.85it/s]\n",
      "Training Epoch 1115: 100%|██████████| 901/901 [00:05<00:00, 172.50it/s]\n",
      "Training Epoch 1116: 100%|██████████| 901/901 [00:05<00:00, 172.52it/s]\n",
      "Training Epoch 1117: 100%|██████████| 901/901 [00:05<00:00, 173.53it/s]\n",
      "Training Epoch 1118: 100%|██████████| 901/901 [00:05<00:00, 175.65it/s]\n",
      "Training Epoch 1119: 100%|██████████| 901/901 [00:05<00:00, 171.70it/s]\n",
      "Training Epoch 1120: 100%|██████████| 901/901 [00:05<00:00, 172.43it/s]\n",
      "Training Epoch 1121: 100%|██████████| 901/901 [00:05<00:00, 172.51it/s]\n"
     ]
    },
    {
     "name": "stdout",
     "output_type": "stream",
     "text": [
      "Epoch 1120 - Train Loss: 0.0685, Train MSE: 0.0685, Train MAE: 0.1999\n",
      "Epoch 1120 - Validation Loss: 0.6825, Validation MSE: 0.6825, Validation MAE: 0.6090\n"
     ]
    },
    {
     "name": "stderr",
     "output_type": "stream",
     "text": [
      "Training Epoch 1122: 100%|██████████| 901/901 [00:05<00:00, 172.54it/s]\n",
      "Training Epoch 1123: 100%|██████████| 901/901 [00:05<00:00, 173.27it/s]\n",
      "Training Epoch 1124: 100%|██████████| 901/901 [00:05<00:00, 177.01it/s]\n",
      "Training Epoch 1125: 100%|██████████| 901/901 [00:05<00:00, 173.63it/s]\n",
      "Training Epoch 1126: 100%|██████████| 901/901 [00:05<00:00, 172.25it/s]\n",
      "Training Epoch 1127: 100%|██████████| 901/901 [00:05<00:00, 171.99it/s]\n",
      "Training Epoch 1128: 100%|██████████| 901/901 [00:05<00:00, 174.56it/s]\n",
      "Training Epoch 1129: 100%|██████████| 901/901 [00:05<00:00, 169.97it/s]\n",
      "Training Epoch 1130: 100%|██████████| 901/901 [00:05<00:00, 175.53it/s]\n",
      "Training Epoch 1131: 100%|██████████| 901/901 [00:05<00:00, 173.19it/s]\n"
     ]
    },
    {
     "name": "stdout",
     "output_type": "stream",
     "text": [
      "Epoch 1130 - Train Loss: 0.0682, Train MSE: 0.0682, Train MAE: 0.1984\n",
      "Epoch 1130 - Validation Loss: 0.6783, Validation MSE: 0.6783, Validation MAE: 0.6074\n"
     ]
    },
    {
     "name": "stderr",
     "output_type": "stream",
     "text": [
      "Training Epoch 1132: 100%|██████████| 901/901 [00:05<00:00, 171.75it/s]\n",
      "Training Epoch 1133: 100%|██████████| 901/901 [00:05<00:00, 171.69it/s]\n",
      "Training Epoch 1134: 100%|██████████| 901/901 [00:05<00:00, 172.59it/s]\n",
      "Training Epoch 1135: 100%|██████████| 901/901 [00:05<00:00, 170.00it/s]\n",
      "Training Epoch 1136: 100%|██████████| 901/901 [00:05<00:00, 177.47it/s]\n",
      "Training Epoch 1137: 100%|██████████| 901/901 [00:05<00:00, 171.62it/s]\n",
      "Training Epoch 1138: 100%|██████████| 901/901 [00:05<00:00, 173.33it/s]\n",
      "Training Epoch 1139: 100%|██████████| 901/901 [00:05<00:00, 172.53it/s]\n",
      "Training Epoch 1140: 100%|██████████| 901/901 [00:05<00:00, 167.92it/s]\n",
      "Training Epoch 1141: 100%|██████████| 901/901 [00:05<00:00, 172.57it/s]\n"
     ]
    },
    {
     "name": "stdout",
     "output_type": "stream",
     "text": [
      "Epoch 1140 - Train Loss: 0.0677, Train MSE: 0.0677, Train MAE: 0.1981\n",
      "Epoch 1140 - Validation Loss: 0.6790, Validation MSE: 0.6790, Validation MAE: 0.6065\n"
     ]
    },
    {
     "name": "stderr",
     "output_type": "stream",
     "text": [
      "Training Epoch 1142: 100%|██████████| 901/901 [00:05<00:00, 175.96it/s]\n",
      "Training Epoch 1143: 100%|██████████| 901/901 [00:05<00:00, 173.31it/s]\n",
      "Training Epoch 1144: 100%|██████████| 901/901 [00:05<00:00, 169.85it/s]\n",
      "Training Epoch 1145: 100%|██████████| 901/901 [00:05<00:00, 172.45it/s]\n",
      "Training Epoch 1146: 100%|██████████| 901/901 [00:05<00:00, 173.48it/s]\n",
      "Training Epoch 1147: 100%|██████████| 901/901 [00:05<00:00, 172.87it/s]\n",
      "Training Epoch 1148: 100%|██████████| 901/901 [00:05<00:00, 176.04it/s]\n",
      "Training Epoch 1149: 100%|██████████| 901/901 [00:05<00:00, 172.33it/s]\n",
      "Training Epoch 1150: 100%|██████████| 901/901 [00:05<00:00, 172.01it/s]\n",
      "Training Epoch 1151: 100%|██████████| 901/901 [00:05<00:00, 174.46it/s]\n"
     ]
    },
    {
     "name": "stdout",
     "output_type": "stream",
     "text": [
      "Epoch 1150 - Train Loss: 0.0668, Train MSE: 0.0668, Train MAE: 0.1974\n",
      "Epoch 1150 - Validation Loss: 0.6789, Validation MSE: 0.6789, Validation MAE: 0.6073\n"
     ]
    },
    {
     "name": "stderr",
     "output_type": "stream",
     "text": [
      "Training Epoch 1152: 100%|██████████| 901/901 [00:05<00:00, 173.60it/s]\n",
      "Training Epoch 1153: 100%|██████████| 901/901 [00:05<00:00, 173.37it/s]\n",
      "Training Epoch 1154: 100%|██████████| 901/901 [00:05<00:00, 176.61it/s]\n",
      "Training Epoch 1155: 100%|██████████| 901/901 [00:05<00:00, 172.50it/s]\n",
      "Training Epoch 1156: 100%|██████████| 901/901 [00:05<00:00, 173.10it/s]\n",
      "Training Epoch 1157: 100%|██████████| 901/901 [00:05<00:00, 173.06it/s]\n",
      "Training Epoch 1158: 100%|██████████| 901/901 [00:05<00:00, 172.12it/s]\n",
      "Training Epoch 1159: 100%|██████████| 901/901 [00:05<00:00, 173.78it/s]\n",
      "Training Epoch 1160: 100%|██████████| 901/901 [00:05<00:00, 168.64it/s]\n",
      "Training Epoch 1161: 100%|██████████| 901/901 [00:05<00:00, 172.24it/s]\n"
     ]
    },
    {
     "name": "stdout",
     "output_type": "stream",
     "text": [
      "Epoch 1160 - Train Loss: 0.0674, Train MSE: 0.0674, Train MAE: 0.1971\n",
      "Epoch 1160 - Validation Loss: 0.6801, Validation MSE: 0.6801, Validation MAE: 0.6061\n"
     ]
    },
    {
     "name": "stderr",
     "output_type": "stream",
     "text": [
      "Training Epoch 1162: 100%|██████████| 901/901 [00:05<00:00, 172.91it/s]\n",
      "Training Epoch 1163: 100%|██████████| 901/901 [00:05<00:00, 173.94it/s]\n",
      "Training Epoch 1164: 100%|██████████| 901/901 [00:05<00:00, 173.43it/s]\n",
      "Training Epoch 1165: 100%|██████████| 901/901 [00:05<00:00, 173.71it/s]\n",
      "Training Epoch 1166: 100%|██████████| 901/901 [00:05<00:00, 175.68it/s]\n",
      "Training Epoch 1167: 100%|██████████| 901/901 [00:05<00:00, 171.67it/s]\n",
      "Training Epoch 1168: 100%|██████████| 901/901 [00:05<00:00, 172.00it/s]\n",
      "Training Epoch 1169: 100%|██████████| 901/901 [00:05<00:00, 173.26it/s]\n",
      "Training Epoch 1170: 100%|██████████| 901/901 [00:05<00:00, 172.23it/s]\n",
      "Training Epoch 1171: 100%|██████████| 901/901 [00:05<00:00, 172.80it/s]\n"
     ]
    },
    {
     "name": "stdout",
     "output_type": "stream",
     "text": [
      "Epoch 1170 - Train Loss: 0.0674, Train MSE: 0.0674, Train MAE: 0.1976\n",
      "Epoch 1170 - Validation Loss: 0.6772, Validation MSE: 0.6772, Validation MAE: 0.6047\n"
     ]
    },
    {
     "name": "stderr",
     "output_type": "stream",
     "text": [
      "Training Epoch 1172: 100%|██████████| 901/901 [00:05<00:00, 175.28it/s]\n",
      "Training Epoch 1173: 100%|██████████| 901/901 [00:05<00:00, 170.70it/s]\n",
      "Training Epoch 1174: 100%|██████████| 901/901 [00:05<00:00, 173.37it/s]\n",
      "Training Epoch 1175: 100%|██████████| 901/901 [00:05<00:00, 172.35it/s]\n",
      "Training Epoch 1176: 100%|██████████| 901/901 [00:05<00:00, 172.96it/s]\n",
      "Training Epoch 1177: 100%|██████████| 901/901 [00:05<00:00, 173.07it/s]\n",
      "Training Epoch 1178: 100%|██████████| 901/901 [00:05<00:00, 175.11it/s]\n",
      "Training Epoch 1179: 100%|██████████| 901/901 [00:05<00:00, 172.59it/s]\n",
      "Training Epoch 1180: 100%|██████████| 901/901 [00:05<00:00, 173.32it/s]\n",
      "Training Epoch 1181: 100%|██████████| 901/901 [00:05<00:00, 171.96it/s]\n"
     ]
    },
    {
     "name": "stdout",
     "output_type": "stream",
     "text": [
      "Epoch 1180 - Train Loss: 0.0674, Train MSE: 0.0673, Train MAE: 0.1975\n",
      "Epoch 1180 - Validation Loss: 0.6798, Validation MSE: 0.6798, Validation MAE: 0.6060\n"
     ]
    },
    {
     "name": "stderr",
     "output_type": "stream",
     "text": [
      "Training Epoch 1182: 100%|██████████| 901/901 [00:05<00:00, 173.85it/s]\n",
      "Training Epoch 1183: 100%|██████████| 901/901 [00:05<00:00, 173.61it/s]\n",
      "Training Epoch 1184: 100%|██████████| 901/901 [00:05<00:00, 178.59it/s]\n",
      "Training Epoch 1185: 100%|██████████| 901/901 [00:05<00:00, 171.98it/s]\n",
      "Training Epoch 1186: 100%|██████████| 901/901 [00:05<00:00, 172.86it/s]\n",
      "Training Epoch 1187: 100%|██████████| 901/901 [00:05<00:00, 172.06it/s]\n",
      "Training Epoch 1188: 100%|██████████| 901/901 [00:05<00:00, 173.55it/s]\n",
      "Training Epoch 1189: 100%|██████████| 901/901 [00:05<00:00, 173.49it/s]\n",
      "Training Epoch 1190: 100%|██████████| 901/901 [00:05<00:00, 173.17it/s]\n",
      "Training Epoch 1191: 100%|██████████| 901/901 [00:05<00:00, 173.27it/s]\n"
     ]
    },
    {
     "name": "stdout",
     "output_type": "stream",
     "text": [
      "Epoch 1190 - Train Loss: 0.0674, Train MSE: 0.0674, Train MAE: 0.1979\n",
      "Epoch 1190 - Validation Loss: 0.6818, Validation MSE: 0.6818, Validation MAE: 0.6053\n"
     ]
    },
    {
     "name": "stderr",
     "output_type": "stream",
     "text": [
      "Training Epoch 1192: 100%|██████████| 901/901 [00:05<00:00, 174.14it/s]\n",
      "Training Epoch 1193: 100%|██████████| 901/901 [00:05<00:00, 171.46it/s]\n",
      "Training Epoch 1194: 100%|██████████| 901/901 [00:05<00:00, 173.65it/s]\n",
      "Training Epoch 1195: 100%|██████████| 901/901 [00:05<00:00, 175.70it/s]\n",
      "Training Epoch 1196: 100%|██████████| 901/901 [00:05<00:00, 174.87it/s]\n",
      "Training Epoch 1197: 100%|██████████| 901/901 [00:05<00:00, 171.67it/s]\n",
      "Training Epoch 1198: 100%|██████████| 901/901 [00:05<00:00, 172.05it/s]\n",
      "Training Epoch 1199: 100%|██████████| 901/901 [00:05<00:00, 172.32it/s]\n",
      "Training Epoch 1200: 100%|██████████| 901/901 [00:05<00:00, 173.67it/s]\n",
      "Training Epoch 1201: 100%|██████████| 901/901 [00:05<00:00, 175.54it/s]\n"
     ]
    },
    {
     "name": "stdout",
     "output_type": "stream",
     "text": [
      "Epoch 1200 - Train Loss: 0.0665, Train MSE: 0.0665, Train MAE: 0.1959\n",
      "Epoch 1200 - Validation Loss: 0.6770, Validation MSE: 0.6770, Validation MAE: 0.6048\n"
     ]
    },
    {
     "name": "stderr",
     "output_type": "stream",
     "text": [
      "Training Epoch 1202: 100%|██████████| 901/901 [00:05<00:00, 177.23it/s]\n",
      "Training Epoch 1203: 100%|██████████| 901/901 [00:05<00:00, 172.45it/s]\n",
      "Training Epoch 1204: 100%|██████████| 901/901 [00:05<00:00, 172.05it/s]\n",
      "Training Epoch 1205: 100%|██████████| 901/901 [00:05<00:00, 171.59it/s]\n",
      "Training Epoch 1206: 100%|██████████| 901/901 [00:05<00:00, 172.65it/s]\n",
      "Training Epoch 1207: 100%|██████████| 901/901 [00:05<00:00, 175.17it/s]\n",
      "Training Epoch 1208: 100%|██████████| 901/901 [00:05<00:00, 175.28it/s]\n",
      "Training Epoch 1209: 100%|██████████| 901/901 [00:05<00:00, 173.27it/s]\n",
      "Training Epoch 1210: 100%|██████████| 901/901 [00:05<00:00, 172.62it/s]\n",
      "Training Epoch 1211: 100%|██████████| 901/901 [00:05<00:00, 171.63it/s]\n"
     ]
    },
    {
     "name": "stdout",
     "output_type": "stream",
     "text": [
      "Epoch 1210 - Train Loss: 0.0660, Train MSE: 0.0660, Train MAE: 0.1954\n",
      "Epoch 1210 - Validation Loss: 0.6814, Validation MSE: 0.6814, Validation MAE: 0.6056\n"
     ]
    },
    {
     "name": "stderr",
     "output_type": "stream",
     "text": [
      "Training Epoch 1212: 100%|██████████| 901/901 [00:05<00:00, 173.47it/s]\n",
      "Training Epoch 1213: 100%|██████████| 901/901 [00:05<00:00, 175.45it/s]\n",
      "Training Epoch 1214: 100%|██████████| 901/901 [00:05<00:00, 175.01it/s]\n",
      "Training Epoch 1215: 100%|██████████| 901/901 [00:05<00:00, 175.54it/s]\n",
      "Training Epoch 1216: 100%|██████████| 901/901 [00:05<00:00, 170.76it/s]\n",
      "Training Epoch 1217: 100%|██████████| 901/901 [00:05<00:00, 174.15it/s]\n",
      "Training Epoch 1218: 100%|██████████| 901/901 [00:05<00:00, 174.77it/s]\n",
      "Training Epoch 1219: 100%|██████████| 901/901 [00:05<00:00, 173.23it/s]\n",
      "Training Epoch 1220: 100%|██████████| 901/901 [00:05<00:00, 173.04it/s]\n",
      "Training Epoch 1221: 100%|██████████| 901/901 [00:05<00:00, 171.65it/s]\n"
     ]
    },
    {
     "name": "stdout",
     "output_type": "stream",
     "text": [
      "Epoch 1220 - Train Loss: 0.0663, Train MSE: 0.0662, Train MAE: 0.1953\n",
      "Epoch 1220 - Validation Loss: 0.6778, Validation MSE: 0.6778, Validation MAE: 0.6045\n"
     ]
    },
    {
     "name": "stderr",
     "output_type": "stream",
     "text": [
      "Training Epoch 1222: 100%|██████████| 901/901 [00:05<00:00, 171.66it/s]\n",
      "Training Epoch 1223: 100%|██████████| 901/901 [00:05<00:00, 172.59it/s]\n",
      "Training Epoch 1224: 100%|██████████| 901/901 [00:05<00:00, 172.12it/s]\n",
      "Training Epoch 1225: 100%|██████████| 901/901 [00:05<00:00, 176.25it/s]\n",
      "Training Epoch 1226: 100%|██████████| 901/901 [00:05<00:00, 170.79it/s]\n",
      "Training Epoch 1227: 100%|██████████| 901/901 [00:05<00:00, 173.04it/s]\n",
      "Training Epoch 1228: 100%|██████████| 901/901 [00:05<00:00, 173.64it/s]\n",
      "Training Epoch 1229: 100%|██████████| 901/901 [00:05<00:00, 172.84it/s]\n",
      "Training Epoch 1230: 100%|██████████| 901/901 [00:05<00:00, 173.33it/s]\n",
      "Training Epoch 1231: 100%|██████████| 901/901 [00:05<00:00, 176.91it/s]\n"
     ]
    },
    {
     "name": "stdout",
     "output_type": "stream",
     "text": [
      "Epoch 1230 - Train Loss: 0.0648, Train MSE: 0.0648, Train MAE: 0.1943\n",
      "Epoch 1230 - Validation Loss: 0.6788, Validation MSE: 0.6788, Validation MAE: 0.6069\n"
     ]
    },
    {
     "name": "stderr",
     "output_type": "stream",
     "text": [
      "Training Epoch 1232: 100%|██████████| 901/901 [00:05<00:00, 172.53it/s]\n",
      "Training Epoch 1233: 100%|██████████| 901/901 [00:05<00:00, 172.24it/s]\n",
      "Training Epoch 1234: 100%|██████████| 901/901 [00:05<00:00, 173.24it/s]\n",
      "Training Epoch 1235: 100%|██████████| 901/901 [00:05<00:00, 172.52it/s]\n",
      "Training Epoch 1236: 100%|██████████| 901/901 [00:05<00:00, 171.48it/s]\n",
      "Training Epoch 1237: 100%|██████████| 901/901 [00:05<00:00, 177.18it/s]\n",
      "Training Epoch 1238: 100%|██████████| 901/901 [00:05<00:00, 172.30it/s]\n",
      "Training Epoch 1239: 100%|██████████| 901/901 [00:05<00:00, 173.94it/s]\n",
      "Training Epoch 1240: 100%|██████████| 901/901 [00:05<00:00, 177.47it/s]\n",
      "Training Epoch 1241: 100%|██████████| 901/901 [00:05<00:00, 172.30it/s]\n"
     ]
    },
    {
     "name": "stdout",
     "output_type": "stream",
     "text": [
      "Epoch 1240 - Train Loss: 0.0658, Train MSE: 0.0658, Train MAE: 0.1949\n",
      "Epoch 1240 - Validation Loss: 0.6775, Validation MSE: 0.6775, Validation MAE: 0.6046\n"
     ]
    },
    {
     "name": "stderr",
     "output_type": "stream",
     "text": [
      "Training Epoch 1242: 100%|██████████| 901/901 [00:05<00:00, 171.18it/s]\n",
      "Training Epoch 1243: 100%|██████████| 901/901 [00:05<00:00, 177.69it/s]\n",
      "Training Epoch 1244: 100%|██████████| 901/901 [00:05<00:00, 172.58it/s]\n",
      "Training Epoch 1245: 100%|██████████| 901/901 [00:05<00:00, 173.86it/s]\n",
      "Training Epoch 1246: 100%|██████████| 901/901 [00:05<00:00, 172.71it/s]\n",
      "Training Epoch 1247: 100%|██████████| 901/901 [00:05<00:00, 172.72it/s]\n",
      "Training Epoch 1248: 100%|██████████| 901/901 [00:05<00:00, 173.84it/s]\n",
      "Training Epoch 1249: 100%|██████████| 901/901 [00:05<00:00, 177.51it/s]\n",
      "Training Epoch 1250: 100%|██████████| 901/901 [00:05<00:00, 172.73it/s]\n",
      "Training Epoch 1251: 100%|██████████| 901/901 [00:05<00:00, 173.88it/s]\n"
     ]
    },
    {
     "name": "stdout",
     "output_type": "stream",
     "text": [
      "Epoch 1250 - Train Loss: 0.0645, Train MSE: 0.0645, Train MAE: 0.1929\n",
      "Epoch 1250 - Validation Loss: 0.6760, Validation MSE: 0.6760, Validation MAE: 0.6037\n"
     ]
    },
    {
     "name": "stderr",
     "output_type": "stream",
     "text": [
      "Training Epoch 1252: 100%|██████████| 901/901 [00:05<00:00, 172.90it/s]\n",
      "Training Epoch 1253: 100%|██████████| 901/901 [00:05<00:00, 176.04it/s]\n",
      "Training Epoch 1254: 100%|██████████| 901/901 [00:05<00:00, 173.52it/s]\n",
      "Training Epoch 1255: 100%|██████████| 901/901 [00:04<00:00, 181.78it/s]\n",
      "Training Epoch 1256: 100%|██████████| 901/901 [00:05<00:00, 172.90it/s]\n",
      "Training Epoch 1257: 100%|██████████| 901/901 [00:05<00:00, 174.17it/s]\n",
      "Training Epoch 1258: 100%|██████████| 901/901 [00:05<00:00, 172.21it/s]\n",
      "Training Epoch 1259: 100%|██████████| 901/901 [00:05<00:00, 174.06it/s]\n",
      "Training Epoch 1260: 100%|██████████| 901/901 [00:05<00:00, 173.31it/s]\n",
      "Training Epoch 1261: 100%|██████████| 901/901 [00:05<00:00, 177.71it/s]\n"
     ]
    },
    {
     "name": "stdout",
     "output_type": "stream",
     "text": [
      "Epoch 1260 - Train Loss: 0.0650, Train MSE: 0.0651, Train MAE: 0.1942\n",
      "Epoch 1260 - Validation Loss: 0.6809, Validation MSE: 0.6809, Validation MAE: 0.6052\n"
     ]
    },
    {
     "name": "stderr",
     "output_type": "stream",
     "text": [
      "Training Epoch 1262: 100%|██████████| 901/901 [00:05<00:00, 172.34it/s]\n",
      "Training Epoch 1263: 100%|██████████| 901/901 [00:05<00:00, 172.48it/s]\n",
      "Training Epoch 1264: 100%|██████████| 901/901 [00:05<00:00, 170.28it/s]\n",
      "Training Epoch 1265: 100%|██████████| 901/901 [00:05<00:00, 176.80it/s]\n",
      "Training Epoch 1266: 100%|██████████| 901/901 [00:05<00:00, 173.51it/s]\n",
      "Training Epoch 1267: 100%|██████████| 901/901 [00:05<00:00, 176.37it/s]\n",
      "Training Epoch 1268: 100%|██████████| 901/901 [00:05<00:00, 174.08it/s]\n",
      "Training Epoch 1269: 100%|██████████| 901/901 [00:05<00:00, 172.92it/s]\n",
      "Training Epoch 1270: 100%|██████████| 901/901 [00:05<00:00, 170.05it/s]\n",
      "Training Epoch 1271: 100%|██████████| 901/901 [00:05<00:00, 172.12it/s]\n"
     ]
    },
    {
     "name": "stdout",
     "output_type": "stream",
     "text": [
      "Epoch 1270 - Train Loss: 0.0651, Train MSE: 0.0651, Train MAE: 0.1940\n",
      "Epoch 1270 - Validation Loss: 0.6815, Validation MSE: 0.6815, Validation MAE: 0.6067\n"
     ]
    },
    {
     "name": "stderr",
     "output_type": "stream",
     "text": [
      "Training Epoch 1272: 100%|██████████| 901/901 [00:05<00:00, 174.17it/s]\n",
      "Training Epoch 1273: 100%|██████████| 901/901 [00:05<00:00, 175.02it/s]\n",
      "Training Epoch 1274: 100%|██████████| 901/901 [00:05<00:00, 174.92it/s]\n",
      "Training Epoch 1275: 100%|██████████| 901/901 [00:05<00:00, 177.37it/s]\n",
      "Training Epoch 1276: 100%|██████████| 901/901 [00:05<00:00, 173.98it/s]\n",
      "Training Epoch 1277: 100%|██████████| 901/901 [00:05<00:00, 173.71it/s]\n",
      "Training Epoch 1278: 100%|██████████| 901/901 [00:05<00:00, 171.44it/s]\n",
      "Training Epoch 1279: 100%|██████████| 901/901 [00:05<00:00, 177.95it/s]\n",
      "Training Epoch 1280: 100%|██████████| 901/901 [00:05<00:00, 173.54it/s]\n",
      "Training Epoch 1281: 100%|██████████| 901/901 [00:05<00:00, 175.09it/s]\n"
     ]
    },
    {
     "name": "stdout",
     "output_type": "stream",
     "text": [
      "Epoch 1280 - Train Loss: 0.0638, Train MSE: 0.0638, Train MAE: 0.1920\n",
      "Epoch 1280 - Validation Loss: 0.6768, Validation MSE: 0.6768, Validation MAE: 0.6043\n"
     ]
    },
    {
     "name": "stderr",
     "output_type": "stream",
     "text": [
      "Training Epoch 1282: 100%|██████████| 901/901 [00:05<00:00, 172.83it/s]\n",
      "Training Epoch 1283: 100%|██████████| 901/901 [00:05<00:00, 174.91it/s]\n",
      "Training Epoch 1284: 100%|██████████| 901/901 [00:05<00:00, 174.37it/s]\n",
      "Training Epoch 1285: 100%|██████████| 901/901 [00:05<00:00, 177.83it/s]\n",
      "Training Epoch 1286: 100%|██████████| 901/901 [00:05<00:00, 174.05it/s]\n",
      "Training Epoch 1287: 100%|██████████| 901/901 [00:05<00:00, 174.77it/s]\n",
      "Training Epoch 1288: 100%|██████████| 901/901 [00:05<00:00, 175.90it/s]\n",
      "Training Epoch 1289: 100%|██████████| 901/901 [00:05<00:00, 174.98it/s]\n",
      "Training Epoch 1290: 100%|██████████| 901/901 [00:05<00:00, 174.73it/s]\n",
      "Training Epoch 1291: 100%|██████████| 901/901 [00:05<00:00, 179.21it/s]\n"
     ]
    },
    {
     "name": "stdout",
     "output_type": "stream",
     "text": [
      "Epoch 1290 - Train Loss: 0.0636, Train MSE: 0.0636, Train MAE: 0.1926\n",
      "Epoch 1290 - Validation Loss: 0.6827, Validation MSE: 0.6827, Validation MAE: 0.6077\n"
     ]
    },
    {
     "name": "stderr",
     "output_type": "stream",
     "text": [
      "Training Epoch 1292: 100%|██████████| 901/901 [00:05<00:00, 174.53it/s]\n",
      "Training Epoch 1293: 100%|██████████| 901/901 [00:05<00:00, 176.36it/s]\n",
      "Training Epoch 1294: 100%|██████████| 901/901 [00:05<00:00, 175.10it/s]\n",
      "Training Epoch 1295: 100%|██████████| 901/901 [00:05<00:00, 173.97it/s]\n",
      "Training Epoch 1296: 100%|██████████| 901/901 [00:05<00:00, 175.07it/s]\n",
      "Training Epoch 1297: 100%|██████████| 901/901 [00:04<00:00, 180.76it/s]\n",
      "Training Epoch 1298: 100%|██████████| 901/901 [00:05<00:00, 176.79it/s]\n",
      "Training Epoch 1299: 100%|██████████| 901/901 [00:05<00:00, 175.14it/s]\n",
      "Training Epoch 1300: 100%|██████████| 901/901 [00:05<00:00, 177.07it/s]\n",
      "Training Epoch 1301: 100%|██████████| 901/901 [00:05<00:00, 176.25it/s]\n"
     ]
    },
    {
     "name": "stdout",
     "output_type": "stream",
     "text": [
      "Epoch 1300 - Train Loss: 0.0647, Train MSE: 0.0647, Train MAE: 0.1940\n",
      "Epoch 1300 - Validation Loss: 0.6732, Validation MSE: 0.6732, Validation MAE: 0.6027\n"
     ]
    },
    {
     "name": "stderr",
     "output_type": "stream",
     "text": [
      "Training Epoch 1302: 100%|██████████| 901/901 [00:05<00:00, 175.53it/s]\n",
      "Training Epoch 1303: 100%|██████████| 901/901 [00:04<00:00, 181.22it/s]\n",
      "Training Epoch 1304: 100%|██████████| 901/901 [00:05<00:00, 175.54it/s]\n",
      "Training Epoch 1305: 100%|██████████| 901/901 [00:05<00:00, 177.13it/s]\n",
      "Training Epoch 1306: 100%|██████████| 901/901 [00:05<00:00, 174.91it/s]\n",
      "Training Epoch 1307: 100%|██████████| 901/901 [00:05<00:00, 177.97it/s]\n",
      "Training Epoch 1308: 100%|██████████| 901/901 [00:05<00:00, 178.10it/s]\n",
      "Training Epoch 1309: 100%|██████████| 901/901 [00:04<00:00, 181.41it/s]\n",
      "Training Epoch 1310: 100%|██████████| 901/901 [00:05<00:00, 177.05it/s]\n",
      "Training Epoch 1311: 100%|██████████| 901/901 [00:05<00:00, 174.84it/s]\n"
     ]
    },
    {
     "name": "stdout",
     "output_type": "stream",
     "text": [
      "Epoch 1310 - Train Loss: 0.0630, Train MSE: 0.0630, Train MAE: 0.1910\n",
      "Epoch 1310 - Validation Loss: 0.6832, Validation MSE: 0.6832, Validation MAE: 0.6068\n"
     ]
    },
    {
     "name": "stderr",
     "output_type": "stream",
     "text": [
      "Training Epoch 1312: 100%|██████████| 901/901 [00:05<00:00, 177.56it/s]\n",
      "Training Epoch 1313: 100%|██████████| 901/901 [00:05<00:00, 178.14it/s]\n",
      "Training Epoch 1314: 100%|██████████| 901/901 [00:05<00:00, 176.99it/s]\n",
      "Training Epoch 1315: 100%|██████████| 901/901 [00:04<00:00, 181.22it/s]\n",
      "Training Epoch 1316: 100%|██████████| 901/901 [00:05<00:00, 178.71it/s]\n",
      "Training Epoch 1317: 100%|██████████| 901/901 [00:05<00:00, 172.89it/s]\n",
      "Training Epoch 1318: 100%|██████████| 901/901 [00:05<00:00, 177.45it/s]\n",
      "Training Epoch 1319: 100%|██████████| 901/901 [00:05<00:00, 177.24it/s]\n",
      "Training Epoch 1320: 100%|██████████| 901/901 [00:05<00:00, 176.86it/s]\n",
      "Training Epoch 1321: 100%|██████████| 901/901 [00:04<00:00, 182.25it/s]\n"
     ]
    },
    {
     "name": "stdout",
     "output_type": "stream",
     "text": [
      "Epoch 1320 - Train Loss: 0.0646, Train MSE: 0.0646, Train MAE: 0.1931\n",
      "Epoch 1320 - Validation Loss: 0.6794, Validation MSE: 0.6794, Validation MAE: 0.6055\n"
     ]
    },
    {
     "name": "stderr",
     "output_type": "stream",
     "text": [
      "Training Epoch 1322: 100%|██████████| 901/901 [00:05<00:00, 176.07it/s]\n",
      "Training Epoch 1323: 100%|██████████| 901/901 [00:05<00:00, 173.32it/s]\n",
      "Training Epoch 1324: 100%|██████████| 901/901 [00:05<00:00, 177.57it/s]\n",
      "Training Epoch 1325: 100%|██████████| 901/901 [00:05<00:00, 176.26it/s]\n",
      "Training Epoch 1326: 100%|██████████| 901/901 [00:05<00:00, 176.62it/s]\n",
      "Training Epoch 1327: 100%|██████████| 901/901 [00:04<00:00, 181.32it/s]\n",
      "Training Epoch 1328: 100%|██████████| 901/901 [00:05<00:00, 174.01it/s]\n",
      "Training Epoch 1329: 100%|██████████| 901/901 [00:05<00:00, 175.85it/s]\n",
      "Training Epoch 1330: 100%|██████████| 901/901 [00:05<00:00, 179.88it/s]\n",
      "Training Epoch 1331: 100%|██████████| 901/901 [00:05<00:00, 177.47it/s]\n"
     ]
    },
    {
     "name": "stdout",
     "output_type": "stream",
     "text": [
      "Epoch 1330 - Train Loss: 0.0640, Train MSE: 0.0640, Train MAE: 0.1926\n",
      "Epoch 1330 - Validation Loss: 0.6807, Validation MSE: 0.6807, Validation MAE: 0.6069\n"
     ]
    },
    {
     "name": "stderr",
     "output_type": "stream",
     "text": [
      "Training Epoch 1332: 100%|██████████| 901/901 [00:05<00:00, 177.10it/s]\n",
      "Training Epoch 1333: 100%|██████████| 901/901 [00:04<00:00, 180.73it/s]\n",
      "Training Epoch 1334: 100%|██████████| 901/901 [00:05<00:00, 174.60it/s]\n",
      "Training Epoch 1335: 100%|██████████| 901/901 [00:05<00:00, 175.43it/s]\n",
      "Training Epoch 1336: 100%|██████████| 901/901 [00:05<00:00, 176.80it/s]\n",
      "Training Epoch 1337: 100%|██████████| 901/901 [00:05<00:00, 175.35it/s]\n",
      "Training Epoch 1338: 100%|██████████| 901/901 [00:05<00:00, 175.33it/s]\n",
      "Training Epoch 1339: 100%|██████████| 901/901 [00:05<00:00, 179.78it/s]\n",
      "Training Epoch 1340: 100%|██████████| 901/901 [00:05<00:00, 176.32it/s]\n",
      "Training Epoch 1341: 100%|██████████| 901/901 [00:05<00:00, 176.17it/s]\n"
     ]
    },
    {
     "name": "stdout",
     "output_type": "stream",
     "text": [
      "Epoch 1340 - Train Loss: 0.0630, Train MSE: 0.0630, Train MAE: 0.1912\n",
      "Epoch 1340 - Validation Loss: 0.6829, Validation MSE: 0.6829, Validation MAE: 0.6066\n"
     ]
    },
    {
     "name": "stderr",
     "output_type": "stream",
     "text": [
      "Training Epoch 1342: 100%|██████████| 901/901 [00:05<00:00, 176.37it/s]\n",
      "Training Epoch 1343: 100%|██████████| 901/901 [00:05<00:00, 175.06it/s]\n",
      "Training Epoch 1344: 100%|██████████| 901/901 [00:05<00:00, 175.65it/s]\n",
      "Training Epoch 1345: 100%|██████████| 901/901 [00:05<00:00, 179.63it/s]\n",
      "Training Epoch 1346: 100%|██████████| 901/901 [00:05<00:00, 177.01it/s]\n",
      "Training Epoch 1347: 100%|██████████| 901/901 [00:05<00:00, 176.83it/s]\n",
      "Training Epoch 1348: 100%|██████████| 901/901 [00:05<00:00, 177.88it/s]\n",
      "Training Epoch 1349: 100%|██████████| 901/901 [00:05<00:00, 176.10it/s]\n",
      "Training Epoch 1350: 100%|██████████| 901/901 [00:05<00:00, 178.97it/s]\n",
      "Training Epoch 1351: 100%|██████████| 901/901 [00:04<00:00, 180.72it/s]\n"
     ]
    },
    {
     "name": "stdout",
     "output_type": "stream",
     "text": [
      "Epoch 1350 - Train Loss: 0.0634, Train MSE: 0.0634, Train MAE: 0.1915\n",
      "Epoch 1350 - Validation Loss: 0.6806, Validation MSE: 0.6806, Validation MAE: 0.6056\n"
     ]
    },
    {
     "name": "stderr",
     "output_type": "stream",
     "text": [
      "Training Epoch 1352: 100%|██████████| 901/901 [00:05<00:00, 175.53it/s]\n",
      "Training Epoch 1353: 100%|██████████| 901/901 [00:05<00:00, 176.12it/s]\n",
      "Training Epoch 1354: 100%|██████████| 901/901 [00:05<00:00, 178.32it/s]\n",
      "Training Epoch 1355: 100%|██████████| 901/901 [00:05<00:00, 173.54it/s]\n",
      "Training Epoch 1356: 100%|██████████| 901/901 [00:05<00:00, 175.98it/s]\n",
      "Training Epoch 1357: 100%|██████████| 901/901 [00:05<00:00, 179.63it/s]\n",
      "Training Epoch 1358: 100%|██████████| 901/901 [00:05<00:00, 178.14it/s]\n",
      "Training Epoch 1359: 100%|██████████| 901/901 [00:05<00:00, 175.52it/s]\n",
      "Training Epoch 1360: 100%|██████████| 901/901 [00:05<00:00, 177.63it/s]\n",
      "Training Epoch 1361: 100%|██████████| 901/901 [00:05<00:00, 173.44it/s]\n"
     ]
    },
    {
     "name": "stdout",
     "output_type": "stream",
     "text": [
      "Epoch 1360 - Train Loss: 0.0632, Train MSE: 0.0632, Train MAE: 0.1915\n",
      "Epoch 1360 - Validation Loss: 0.6826, Validation MSE: 0.6826, Validation MAE: 0.6070\n"
     ]
    },
    {
     "name": "stderr",
     "output_type": "stream",
     "text": [
      "Training Epoch 1362: 100%|██████████| 901/901 [00:05<00:00, 179.79it/s]\n",
      "Training Epoch 1363: 100%|██████████| 901/901 [00:05<00:00, 179.74it/s]\n",
      "Training Epoch 1364: 100%|██████████| 901/901 [00:05<00:00, 174.80it/s]\n",
      "Training Epoch 1365: 100%|██████████| 901/901 [00:05<00:00, 177.84it/s]\n",
      "Training Epoch 1366: 100%|██████████| 901/901 [00:05<00:00, 175.97it/s]\n",
      "Training Epoch 1367: 100%|██████████| 901/901 [00:05<00:00, 173.93it/s]\n",
      "Training Epoch 1368: 100%|██████████| 901/901 [00:05<00:00, 177.68it/s]\n",
      "Training Epoch 1369: 100%|██████████| 901/901 [00:04<00:00, 183.34it/s]\n",
      "Training Epoch 1370: 100%|██████████| 901/901 [00:05<00:00, 177.93it/s]\n",
      "Training Epoch 1371: 100%|██████████| 901/901 [00:05<00:00, 177.39it/s]\n"
     ]
    },
    {
     "name": "stdout",
     "output_type": "stream",
     "text": [
      "Epoch 1370 - Train Loss: 0.0622, Train MSE: 0.0622, Train MAE: 0.1897\n",
      "Epoch 1370 - Validation Loss: 0.6825, Validation MSE: 0.6825, Validation MAE: 0.6080\n"
     ]
    },
    {
     "name": "stderr",
     "output_type": "stream",
     "text": [
      "Training Epoch 1372: 100%|██████████| 901/901 [00:05<00:00, 175.15it/s]\n",
      "Training Epoch 1373: 100%|██████████| 901/901 [00:05<00:00, 177.80it/s]\n",
      "Training Epoch 1374: 100%|██████████| 901/901 [00:05<00:00, 177.68it/s]\n",
      "Training Epoch 1375: 100%|██████████| 901/901 [00:04<00:00, 180.22it/s]\n",
      "Training Epoch 1376: 100%|██████████| 901/901 [00:05<00:00, 179.93it/s]\n",
      "Training Epoch 1377: 100%|██████████| 901/901 [00:05<00:00, 178.07it/s]\n",
      "Training Epoch 1378: 100%|██████████| 901/901 [00:05<00:00, 176.78it/s]\n",
      "Training Epoch 1379: 100%|██████████| 901/901 [00:05<00:00, 177.54it/s]\n",
      "Training Epoch 1380: 100%|██████████| 901/901 [00:05<00:00, 176.15it/s]\n",
      "Training Epoch 1381: 100%|██████████| 901/901 [00:05<00:00, 178.42it/s]\n"
     ]
    },
    {
     "name": "stdout",
     "output_type": "stream",
     "text": [
      "Epoch 1380 - Train Loss: 0.0619, Train MSE: 0.0619, Train MAE: 0.1898\n",
      "Epoch 1380 - Validation Loss: 0.6838, Validation MSE: 0.6838, Validation MAE: 0.6069\n"
     ]
    },
    {
     "name": "stderr",
     "output_type": "stream",
     "text": [
      "Training Epoch 1382: 100%|██████████| 901/901 [00:05<00:00, 177.95it/s]\n",
      "Training Epoch 1383: 100%|██████████| 901/901 [00:05<00:00, 176.44it/s]\n",
      "Training Epoch 1384: 100%|██████████| 901/901 [00:05<00:00, 176.40it/s]\n",
      "Training Epoch 1385: 100%|██████████| 901/901 [00:05<00:00, 176.34it/s]\n",
      "Training Epoch 1386: 100%|██████████| 901/901 [00:05<00:00, 176.27it/s]\n",
      "Training Epoch 1387: 100%|██████████| 901/901 [00:05<00:00, 180.05it/s]\n",
      "Training Epoch 1388: 100%|██████████| 901/901 [00:05<00:00, 180.18it/s]\n",
      "Training Epoch 1389: 100%|██████████| 901/901 [00:05<00:00, 176.42it/s]\n",
      "Training Epoch 1390: 100%|██████████| 901/901 [00:05<00:00, 176.68it/s]\n",
      "Training Epoch 1391: 100%|██████████| 901/901 [00:04<00:00, 181.36it/s]\n"
     ]
    },
    {
     "name": "stdout",
     "output_type": "stream",
     "text": [
      "Epoch 1390 - Train Loss: 0.0627, Train MSE: 0.0626, Train MAE: 0.1899\n",
      "Epoch 1390 - Validation Loss: 0.6846, Validation MSE: 0.6846, Validation MAE: 0.6081\n"
     ]
    },
    {
     "name": "stderr",
     "output_type": "stream",
     "text": [
      "Training Epoch 1392: 100%|██████████| 901/901 [00:05<00:00, 176.13it/s]\n",
      "Training Epoch 1393: 100%|██████████| 901/901 [00:05<00:00, 178.74it/s]\n",
      "Training Epoch 1394: 100%|██████████| 901/901 [00:05<00:00, 178.29it/s]\n",
      "Training Epoch 1395: 100%|██████████| 901/901 [00:05<00:00, 178.83it/s]\n",
      "Training Epoch 1396: 100%|██████████| 901/901 [00:05<00:00, 176.03it/s]\n",
      "Training Epoch 1397: 100%|██████████| 901/901 [00:05<00:00, 179.10it/s]\n",
      "Training Epoch 1398: 100%|██████████| 901/901 [00:05<00:00, 176.38it/s]\n",
      "Training Epoch 1399: 100%|██████████| 901/901 [00:05<00:00, 178.93it/s]\n",
      "Training Epoch 1400: 100%|██████████| 901/901 [00:05<00:00, 177.39it/s]\n",
      "Training Epoch 1401: 100%|██████████| 901/901 [00:05<00:00, 176.32it/s]\n"
     ]
    },
    {
     "name": "stdout",
     "output_type": "stream",
     "text": [
      "Epoch 1400 - Train Loss: 0.0622, Train MSE: 0.0622, Train MAE: 0.1905\n",
      "Epoch 1400 - Validation Loss: 0.6803, Validation MSE: 0.6803, Validation MAE: 0.6061\n"
     ]
    },
    {
     "name": "stderr",
     "output_type": "stream",
     "text": [
      "Training Epoch 1402: 100%|██████████| 901/901 [00:05<00:00, 177.22it/s]\n",
      "Training Epoch 1403: 100%|██████████| 901/901 [00:05<00:00, 177.65it/s]\n",
      "Training Epoch 1404: 100%|██████████| 901/901 [00:05<00:00, 175.42it/s]\n",
      "Training Epoch 1405: 100%|██████████| 901/901 [00:05<00:00, 177.83it/s]\n",
      "Training Epoch 1406: 100%|██████████| 901/901 [00:05<00:00, 179.02it/s]\n",
      "Training Epoch 1407: 100%|██████████| 901/901 [00:05<00:00, 175.10it/s]\n",
      "Training Epoch 1408: 100%|██████████| 901/901 [00:05<00:00, 176.78it/s]\n",
      "Training Epoch 1409: 100%|██████████| 901/901 [00:05<00:00, 177.58it/s]\n",
      "Training Epoch 1410: 100%|██████████| 901/901 [00:05<00:00, 177.24it/s]\n",
      "Training Epoch 1411: 100%|██████████| 901/901 [00:05<00:00, 177.00it/s]\n"
     ]
    },
    {
     "name": "stdout",
     "output_type": "stream",
     "text": [
      "Epoch 1410 - Train Loss: 0.0621, Train MSE: 0.0620, Train MAE: 0.1884\n",
      "Epoch 1410 - Validation Loss: 0.6747, Validation MSE: 0.6747, Validation MAE: 0.6027\n"
     ]
    },
    {
     "name": "stderr",
     "output_type": "stream",
     "text": [
      "Training Epoch 1412: 100%|██████████| 901/901 [00:05<00:00, 177.17it/s]\n",
      "Training Epoch 1413: 100%|██████████| 901/901 [00:05<00:00, 175.75it/s]\n",
      "Training Epoch 1414: 100%|██████████| 901/901 [00:05<00:00, 175.62it/s]\n",
      "Training Epoch 1415: 100%|██████████| 901/901 [00:05<00:00, 178.16it/s]\n",
      "Training Epoch 1416: 100%|██████████| 901/901 [00:05<00:00, 177.61it/s]\n",
      "Training Epoch 1417: 100%|██████████| 901/901 [00:05<00:00, 179.39it/s]\n",
      "Training Epoch 1418: 100%|██████████| 901/901 [00:04<00:00, 180.40it/s]\n",
      "Training Epoch 1419: 100%|██████████| 901/901 [00:05<00:00, 176.01it/s]\n",
      "Training Epoch 1420: 100%|██████████| 901/901 [00:05<00:00, 175.72it/s]\n",
      "Training Epoch 1421: 100%|██████████| 901/901 [00:05<00:00, 178.51it/s]\n"
     ]
    },
    {
     "name": "stdout",
     "output_type": "stream",
     "text": [
      "Epoch 1420 - Train Loss: 0.0627, Train MSE: 0.0627, Train MAE: 0.1908\n",
      "Epoch 1420 - Validation Loss: 0.6777, Validation MSE: 0.6777, Validation MAE: 0.6059\n"
     ]
    },
    {
     "name": "stderr",
     "output_type": "stream",
     "text": [
      "Training Epoch 1422: 100%|██████████| 901/901 [00:05<00:00, 175.21it/s]\n",
      "Training Epoch 1423: 100%|██████████| 901/901 [00:05<00:00, 177.42it/s]\n",
      "Training Epoch 1424: 100%|██████████| 901/901 [00:05<00:00, 179.33it/s]\n",
      "Training Epoch 1425: 100%|██████████| 901/901 [00:05<00:00, 176.95it/s]\n",
      "Training Epoch 1426: 100%|██████████| 901/901 [00:05<00:00, 177.41it/s]\n",
      "Training Epoch 1427: 100%|██████████| 901/901 [00:05<00:00, 176.39it/s]\n",
      "Training Epoch 1428: 100%|██████████| 901/901 [00:05<00:00, 175.91it/s]\n",
      "Training Epoch 1429: 100%|██████████| 901/901 [00:05<00:00, 180.04it/s]\n",
      "Training Epoch 1430: 100%|██████████| 901/901 [00:05<00:00, 177.98it/s]\n",
      "Training Epoch 1431: 100%|██████████| 901/901 [00:05<00:00, 177.03it/s]\n"
     ]
    },
    {
     "name": "stdout",
     "output_type": "stream",
     "text": [
      "Epoch 1430 - Train Loss: 0.0608, Train MSE: 0.0608, Train MAE: 0.1871\n",
      "Epoch 1430 - Validation Loss: 0.6756, Validation MSE: 0.6756, Validation MAE: 0.6039\n"
     ]
    },
    {
     "name": "stderr",
     "output_type": "stream",
     "text": [
      "Training Epoch 1432: 100%|██████████| 901/901 [00:05<00:00, 178.73it/s]\n",
      "Training Epoch 1433: 100%|██████████| 901/901 [00:05<00:00, 176.30it/s]\n",
      "Training Epoch 1434: 100%|██████████| 901/901 [00:05<00:00, 176.39it/s]\n",
      "Training Epoch 1435: 100%|██████████| 901/901 [00:05<00:00, 179.27it/s]\n",
      "Training Epoch 1436: 100%|██████████| 901/901 [00:04<00:00, 182.95it/s]\n",
      "Training Epoch 1437: 100%|██████████| 901/901 [00:05<00:00, 177.42it/s]\n",
      "Training Epoch 1438: 100%|██████████| 901/901 [00:05<00:00, 178.65it/s]\n",
      "Training Epoch 1439: 100%|██████████| 901/901 [00:05<00:00, 176.33it/s]\n",
      "Training Epoch 1440: 100%|██████████| 901/901 [00:05<00:00, 179.15it/s]\n",
      "Training Epoch 1441: 100%|██████████| 901/901 [00:05<00:00, 179.36it/s]\n"
     ]
    },
    {
     "name": "stdout",
     "output_type": "stream",
     "text": [
      "Epoch 1440 - Train Loss: 0.0614, Train MSE: 0.0614, Train MAE: 0.1882\n",
      "Epoch 1440 - Validation Loss: 0.6798, Validation MSE: 0.6798, Validation MAE: 0.6063\n"
     ]
    },
    {
     "name": "stderr",
     "output_type": "stream",
     "text": [
      "Training Epoch 1442: 100%|██████████| 901/901 [00:05<00:00, 179.79it/s]\n",
      "Training Epoch 1443: 100%|██████████| 901/901 [00:05<00:00, 176.13it/s]\n",
      "Training Epoch 1444: 100%|██████████| 901/901 [00:05<00:00, 177.67it/s]\n",
      "Training Epoch 1445: 100%|██████████| 901/901 [00:05<00:00, 175.38it/s]\n",
      "Training Epoch 1446: 100%|██████████| 901/901 [00:05<00:00, 177.85it/s]\n",
      "Training Epoch 1447: 100%|██████████| 901/901 [00:05<00:00, 178.15it/s]\n",
      "Training Epoch 1448: 100%|██████████| 901/901 [00:05<00:00, 176.51it/s]\n",
      "Training Epoch 1449: 100%|██████████| 901/901 [00:05<00:00, 175.83it/s]\n",
      "Training Epoch 1450: 100%|██████████| 901/901 [00:05<00:00, 178.30it/s]\n",
      "Training Epoch 1451: 100%|██████████| 901/901 [00:05<00:00, 176.96it/s]\n"
     ]
    },
    {
     "name": "stdout",
     "output_type": "stream",
     "text": [
      "Epoch 1450 - Train Loss: 0.0617, Train MSE: 0.0617, Train MAE: 0.1889\n",
      "Epoch 1450 - Validation Loss: 0.6749, Validation MSE: 0.6749, Validation MAE: 0.6036\n"
     ]
    },
    {
     "name": "stderr",
     "output_type": "stream",
     "text": [
      "Training Epoch 1452: 100%|██████████| 901/901 [00:05<00:00, 178.51it/s]\n",
      "Training Epoch 1453: 100%|██████████| 901/901 [00:05<00:00, 177.80it/s]\n",
      "Training Epoch 1454: 100%|██████████| 901/901 [00:04<00:00, 184.28it/s]\n",
      "Training Epoch 1455: 100%|██████████| 901/901 [00:05<00:00, 176.09it/s]\n",
      "Training Epoch 1456: 100%|██████████| 901/901 [00:05<00:00, 176.34it/s]\n",
      "Training Epoch 1457: 100%|██████████| 901/901 [00:05<00:00, 176.67it/s]\n",
      "Training Epoch 1458: 100%|██████████| 901/901 [00:05<00:00, 176.29it/s]\n",
      "Training Epoch 1459: 100%|██████████| 901/901 [00:05<00:00, 178.20it/s]\n",
      "Training Epoch 1460: 100%|██████████| 901/901 [00:05<00:00, 178.05it/s]\n",
      "Training Epoch 1461: 100%|██████████| 901/901 [00:05<00:00, 174.25it/s]\n"
     ]
    },
    {
     "name": "stdout",
     "output_type": "stream",
     "text": [
      "Epoch 1460 - Train Loss: 0.0598, Train MSE: 0.0598, Train MAE: 0.1866\n",
      "Epoch 1460 - Validation Loss: 0.6799, Validation MSE: 0.6799, Validation MAE: 0.6069\n"
     ]
    },
    {
     "name": "stderr",
     "output_type": "stream",
     "text": [
      "Training Epoch 1462: 100%|██████████| 901/901 [00:05<00:00, 175.45it/s]\n",
      "Training Epoch 1463: 100%|██████████| 901/901 [00:05<00:00, 175.75it/s]\n",
      "Training Epoch 1464: 100%|██████████| 901/901 [00:05<00:00, 177.43it/s]\n",
      "Training Epoch 1465: 100%|██████████| 901/901 [00:05<00:00, 178.00it/s]\n",
      "Training Epoch 1466: 100%|██████████| 901/901 [00:05<00:00, 175.04it/s]\n",
      "Training Epoch 1467: 100%|██████████| 901/901 [00:05<00:00, 176.03it/s]\n",
      "Training Epoch 1468: 100%|██████████| 901/901 [00:05<00:00, 176.36it/s]\n",
      "Training Epoch 1469: 100%|██████████| 901/901 [00:05<00:00, 174.78it/s]\n",
      "Training Epoch 1470: 100%|██████████| 901/901 [00:05<00:00, 176.61it/s]\n",
      "Training Epoch 1471: 100%|██████████| 901/901 [00:05<00:00, 176.68it/s]\n"
     ]
    },
    {
     "name": "stdout",
     "output_type": "stream",
     "text": [
      "Epoch 1470 - Train Loss: 0.0618, Train MSE: 0.0618, Train MAE: 0.1880\n",
      "Epoch 1470 - Validation Loss: 0.6776, Validation MSE: 0.6776, Validation MAE: 0.6044\n"
     ]
    },
    {
     "name": "stderr",
     "output_type": "stream",
     "text": [
      "Training Epoch 1472: 100%|██████████| 901/901 [00:05<00:00, 176.87it/s]\n",
      "Training Epoch 1473: 100%|██████████| 901/901 [00:05<00:00, 176.64it/s]\n",
      "Training Epoch 1474: 100%|██████████| 901/901 [00:05<00:00, 175.71it/s]\n",
      "Training Epoch 1475: 100%|██████████| 901/901 [00:05<00:00, 178.13it/s]\n",
      "Training Epoch 1476: 100%|██████████| 901/901 [00:05<00:00, 176.19it/s]\n",
      "Training Epoch 1477: 100%|██████████| 901/901 [00:05<00:00, 176.63it/s]\n",
      "Training Epoch 1478: 100%|██████████| 901/901 [00:04<00:00, 182.97it/s]\n",
      "Training Epoch 1479: 100%|██████████| 901/901 [00:05<00:00, 176.28it/s]\n",
      "Training Epoch 1480: 100%|██████████| 901/901 [00:05<00:00, 177.16it/s]\n",
      "Training Epoch 1481: 100%|██████████| 901/901 [00:05<00:00, 177.65it/s]\n"
     ]
    },
    {
     "name": "stdout",
     "output_type": "stream",
     "text": [
      "Epoch 1480 - Train Loss: 0.0603, Train MSE: 0.0603, Train MAE: 0.1875\n",
      "Epoch 1480 - Validation Loss: 0.6768, Validation MSE: 0.6768, Validation MAE: 0.6051\n"
     ]
    },
    {
     "name": "stderr",
     "output_type": "stream",
     "text": [
      "Training Epoch 1482: 100%|██████████| 901/901 [00:05<00:00, 175.47it/s]\n",
      "Training Epoch 1483: 100%|██████████| 901/901 [00:05<00:00, 175.89it/s]\n",
      "Training Epoch 1484: 100%|██████████| 901/901 [00:04<00:00, 180.87it/s]\n",
      "Training Epoch 1485: 100%|██████████| 901/901 [00:05<00:00, 177.13it/s]\n",
      "Training Epoch 1486: 100%|██████████| 901/901 [00:05<00:00, 175.48it/s]\n",
      "Training Epoch 1487: 100%|██████████| 901/901 [00:05<00:00, 176.20it/s]\n",
      "Training Epoch 1488: 100%|██████████| 901/901 [00:05<00:00, 179.71it/s]\n",
      "Training Epoch 1489: 100%|██████████| 901/901 [00:05<00:00, 175.96it/s]\n",
      "Training Epoch 1490: 100%|██████████| 901/901 [00:04<00:00, 180.78it/s]\n",
      "Training Epoch 1491: 100%|██████████| 901/901 [00:05<00:00, 179.45it/s]\n"
     ]
    },
    {
     "name": "stdout",
     "output_type": "stream",
     "text": [
      "Epoch 1490 - Train Loss: 0.0610, Train MSE: 0.0610, Train MAE: 0.1875\n",
      "Epoch 1490 - Validation Loss: 0.6786, Validation MSE: 0.6786, Validation MAE: 0.6059\n"
     ]
    },
    {
     "name": "stderr",
     "output_type": "stream",
     "text": [
      "Training Epoch 1492: 100%|██████████| 901/901 [00:05<00:00, 176.89it/s]\n",
      "Training Epoch 1493: 100%|██████████| 901/901 [00:05<00:00, 176.82it/s]\n",
      "Training Epoch 1494: 100%|██████████| 901/901 [00:05<00:00, 175.45it/s]\n",
      "Training Epoch 1495: 100%|██████████| 901/901 [00:05<00:00, 178.97it/s]\n",
      "Training Epoch 1496: 100%|██████████| 901/901 [00:04<00:00, 180.73it/s]\n",
      "Training Epoch 1497: 100%|██████████| 901/901 [00:05<00:00, 174.48it/s]\n",
      "Training Epoch 1498: 100%|██████████| 901/901 [00:05<00:00, 176.36it/s]\n",
      "Training Epoch 1499: 100%|██████████| 901/901 [00:05<00:00, 177.91it/s]\n",
      "Training Epoch 1500: 100%|██████████| 901/901 [00:05<00:00, 176.96it/s]\n",
      "Training Epoch 1501: 100%|██████████| 901/901 [00:05<00:00, 177.22it/s]\n"
     ]
    },
    {
     "name": "stdout",
     "output_type": "stream",
     "text": [
      "Epoch 1500 - Train Loss: 0.0597, Train MSE: 0.0597, Train MAE: 0.1856\n",
      "Epoch 1500 - Validation Loss: 0.6794, Validation MSE: 0.6794, Validation MAE: 0.6056\n"
     ]
    },
    {
     "name": "stderr",
     "output_type": "stream",
     "text": [
      "Training Epoch 1502: 100%|██████████| 901/901 [00:04<00:00, 182.32it/s]\n",
      "Training Epoch 1503: 100%|██████████| 901/901 [00:05<00:00, 179.30it/s]\n",
      "Training Epoch 1504: 100%|██████████| 901/901 [00:05<00:00, 177.24it/s]\n",
      "Training Epoch 1505: 100%|██████████| 901/901 [00:05<00:00, 176.34it/s]\n",
      "Training Epoch 1506: 100%|██████████| 901/901 [00:04<00:00, 181.62it/s]\n",
      "Training Epoch 1507: 100%|██████████| 901/901 [00:05<00:00, 175.42it/s]\n",
      "Training Epoch 1508: 100%|██████████| 901/901 [00:04<00:00, 181.39it/s]\n",
      "Training Epoch 1509: 100%|██████████| 901/901 [00:05<00:00, 176.06it/s]\n",
      "Training Epoch 1510: 100%|██████████| 901/901 [00:05<00:00, 174.98it/s]\n",
      "Training Epoch 1511: 100%|██████████| 901/901 [00:05<00:00, 177.96it/s]\n"
     ]
    },
    {
     "name": "stdout",
     "output_type": "stream",
     "text": [
      "Epoch 1510 - Train Loss: 0.0597, Train MSE: 0.0597, Train MAE: 0.1863\n",
      "Epoch 1510 - Validation Loss: 0.6801, Validation MSE: 0.6801, Validation MAE: 0.6049\n"
     ]
    },
    {
     "name": "stderr",
     "output_type": "stream",
     "text": [
      "Training Epoch 1512: 100%|██████████| 901/901 [00:05<00:00, 179.14it/s]\n",
      "Training Epoch 1513: 100%|██████████| 901/901 [00:05<00:00, 176.83it/s]\n",
      "Training Epoch 1514: 100%|██████████| 901/901 [00:04<00:00, 181.74it/s]\n",
      "Training Epoch 1515: 100%|██████████| 901/901 [00:05<00:00, 177.94it/s]\n",
      "Training Epoch 1516: 100%|██████████| 901/901 [00:05<00:00, 175.16it/s]\n",
      "Training Epoch 1517: 100%|██████████| 901/901 [00:05<00:00, 177.63it/s]\n",
      "Training Epoch 1518: 100%|██████████| 901/901 [00:05<00:00, 177.73it/s]\n",
      "Training Epoch 1519: 100%|██████████| 901/901 [00:05<00:00, 178.00it/s]\n",
      "Training Epoch 1520: 100%|██████████| 901/901 [00:04<00:00, 182.42it/s]\n",
      "Training Epoch 1521: 100%|██████████| 901/901 [00:05<00:00, 177.74it/s]\n"
     ]
    },
    {
     "name": "stdout",
     "output_type": "stream",
     "text": [
      "Epoch 1520 - Train Loss: 0.0593, Train MSE: 0.0593, Train MAE: 0.1850\n",
      "Epoch 1520 - Validation Loss: 0.6824, Validation MSE: 0.6824, Validation MAE: 0.6059\n"
     ]
    },
    {
     "name": "stderr",
     "output_type": "stream",
     "text": [
      "Training Epoch 1522: 100%|██████████| 901/901 [00:05<00:00, 176.24it/s]\n",
      "Training Epoch 1523: 100%|██████████| 901/901 [00:05<00:00, 176.55it/s]\n",
      "Training Epoch 1524: 100%|██████████| 901/901 [00:05<00:00, 174.53it/s]\n",
      "Training Epoch 1525: 100%|██████████| 901/901 [00:05<00:00, 174.98it/s]\n",
      "Training Epoch 1526: 100%|██████████| 901/901 [00:04<00:00, 181.45it/s]\n",
      "Training Epoch 1527: 100%|██████████| 901/901 [00:05<00:00, 177.39it/s]\n",
      "Training Epoch 1528: 100%|██████████| 901/901 [00:04<00:00, 182.06it/s]\n",
      "Training Epoch 1529: 100%|██████████| 901/901 [00:05<00:00, 179.81it/s]\n",
      "Training Epoch 1530: 100%|██████████| 901/901 [00:05<00:00, 177.21it/s]\n",
      "Training Epoch 1531: 100%|██████████| 901/901 [00:05<00:00, 178.34it/s]\n"
     ]
    },
    {
     "name": "stdout",
     "output_type": "stream",
     "text": [
      "Epoch 1530 - Train Loss: 0.0596, Train MSE: 0.0596, Train MAE: 0.1858\n",
      "Epoch 1530 - Validation Loss: 0.6778, Validation MSE: 0.6778, Validation MAE: 0.6056\n"
     ]
    },
    {
     "name": "stderr",
     "output_type": "stream",
     "text": [
      "Training Epoch 1532: 100%|██████████| 901/901 [00:04<00:00, 181.12it/s]\n",
      "Training Epoch 1533: 100%|██████████| 901/901 [00:05<00:00, 177.10it/s]\n",
      "Training Epoch 1534: 100%|██████████| 901/901 [00:04<00:00, 180.34it/s]\n",
      "Training Epoch 1535: 100%|██████████| 901/901 [00:05<00:00, 177.87it/s]\n",
      "Training Epoch 1536: 100%|██████████| 901/901 [00:05<00:00, 176.23it/s]\n",
      "Training Epoch 1537: 100%|██████████| 901/901 [00:05<00:00, 177.16it/s]\n",
      "Training Epoch 1538: 100%|██████████| 901/901 [00:04<00:00, 182.10it/s]\n",
      "Training Epoch 1539: 100%|██████████| 901/901 [00:05<00:00, 177.28it/s]\n",
      "Training Epoch 1540: 100%|██████████| 901/901 [00:05<00:00, 176.76it/s]\n",
      "Training Epoch 1541: 100%|██████████| 901/901 [00:05<00:00, 176.37it/s]\n"
     ]
    },
    {
     "name": "stdout",
     "output_type": "stream",
     "text": [
      "Epoch 1540 - Train Loss: 0.0592, Train MSE: 0.0592, Train MAE: 0.1857\n",
      "Epoch 1540 - Validation Loss: 0.6747, Validation MSE: 0.6747, Validation MAE: 0.6031\n"
     ]
    },
    {
     "name": "stderr",
     "output_type": "stream",
     "text": [
      "Training Epoch 1542: 100%|██████████| 901/901 [00:05<00:00, 177.66it/s]\n",
      "Training Epoch 1543: 100%|██████████| 901/901 [00:05<00:00, 175.37it/s]\n",
      "Training Epoch 1544: 100%|██████████| 901/901 [00:04<00:00, 183.49it/s]\n",
      "Training Epoch 1545: 100%|██████████| 901/901 [00:05<00:00, 176.21it/s]\n",
      "Training Epoch 1546: 100%|██████████| 901/901 [00:05<00:00, 178.53it/s]\n",
      "Training Epoch 1547: 100%|██████████| 901/901 [00:05<00:00, 175.47it/s]\n",
      "Training Epoch 1548: 100%|██████████| 901/901 [00:05<00:00, 176.56it/s]\n",
      "Training Epoch 1549: 100%|██████████| 901/901 [00:05<00:00, 176.85it/s]\n",
      "Training Epoch 1550: 100%|██████████| 901/901 [00:04<00:00, 189.14it/s]\n",
      "Training Epoch 1551: 100%|██████████| 901/901 [00:05<00:00, 178.45it/s]\n"
     ]
    },
    {
     "name": "stdout",
     "output_type": "stream",
     "text": [
      "Epoch 1550 - Train Loss: 0.0591, Train MSE: 0.0591, Train MAE: 0.1848\n",
      "Epoch 1550 - Validation Loss: 0.6826, Validation MSE: 0.6826, Validation MAE: 0.6076\n"
     ]
    },
    {
     "name": "stderr",
     "output_type": "stream",
     "text": [
      "Training Epoch 1552: 100%|██████████| 901/901 [00:05<00:00, 177.01it/s]\n",
      "Training Epoch 1553: 100%|██████████| 901/901 [00:04<00:00, 180.85it/s]\n",
      "Training Epoch 1554: 100%|██████████| 901/901 [00:05<00:00, 178.44it/s]\n",
      "Training Epoch 1555: 100%|██████████| 901/901 [00:04<00:00, 181.48it/s]\n",
      "Training Epoch 1556: 100%|██████████| 901/901 [00:04<00:00, 184.55it/s]\n",
      "Training Epoch 1557: 100%|██████████| 901/901 [00:05<00:00, 178.39it/s]\n",
      "Training Epoch 1558: 100%|██████████| 901/901 [00:04<00:00, 180.83it/s]\n",
      "Training Epoch 1559: 100%|██████████| 901/901 [00:05<00:00, 176.22it/s]\n",
      "Training Epoch 1560: 100%|██████████| 901/901 [00:05<00:00, 177.67it/s]\n",
      "Training Epoch 1561: 100%|██████████| 901/901 [00:05<00:00, 176.38it/s]\n"
     ]
    },
    {
     "name": "stdout",
     "output_type": "stream",
     "text": [
      "Epoch 1560 - Train Loss: 0.0589, Train MSE: 0.0589, Train MAE: 0.1847\n",
      "Epoch 1560 - Validation Loss: 0.6806, Validation MSE: 0.6806, Validation MAE: 0.6047\n"
     ]
    },
    {
     "name": "stderr",
     "output_type": "stream",
     "text": [
      "Training Epoch 1562: 100%|██████████| 901/901 [00:04<00:00, 181.23it/s]\n",
      "Training Epoch 1563: 100%|██████████| 901/901 [00:05<00:00, 177.57it/s]\n",
      "Training Epoch 1564: 100%|██████████| 901/901 [00:05<00:00, 178.24it/s]\n",
      "Training Epoch 1565: 100%|██████████| 901/901 [00:05<00:00, 179.11it/s]\n",
      "Training Epoch 1566: 100%|██████████| 901/901 [00:05<00:00, 178.93it/s]\n",
      "Training Epoch 1567: 100%|██████████| 901/901 [00:05<00:00, 178.65it/s]\n",
      "Training Epoch 1568: 100%|██████████| 901/901 [00:04<00:00, 181.97it/s]\n",
      "Training Epoch 1569: 100%|██████████| 901/901 [00:05<00:00, 179.47it/s]\n",
      "Training Epoch 1570: 100%|██████████| 901/901 [00:05<00:00, 178.32it/s]\n",
      "Training Epoch 1571: 100%|██████████| 901/901 [00:05<00:00, 176.74it/s]\n"
     ]
    },
    {
     "name": "stdout",
     "output_type": "stream",
     "text": [
      "Epoch 1570 - Train Loss: 0.0596, Train MSE: 0.0596, Train MAE: 0.1855\n",
      "Epoch 1570 - Validation Loss: 0.6810, Validation MSE: 0.6810, Validation MAE: 0.6069\n"
     ]
    },
    {
     "name": "stderr",
     "output_type": "stream",
     "text": [
      "Training Epoch 1572: 100%|██████████| 901/901 [00:05<00:00, 178.22it/s]\n",
      "Training Epoch 1573: 100%|██████████| 901/901 [00:05<00:00, 177.69it/s]\n",
      "Training Epoch 1574: 100%|██████████| 901/901 [00:05<00:00, 178.33it/s]\n",
      "Training Epoch 1575: 100%|██████████| 901/901 [00:05<00:00, 176.88it/s]\n",
      "Training Epoch 1576: 100%|██████████| 901/901 [00:05<00:00, 174.17it/s]\n",
      "Training Epoch 1577: 100%|██████████| 901/901 [00:05<00:00, 176.10it/s]\n",
      "Training Epoch 1578: 100%|██████████| 901/901 [00:05<00:00, 179.41it/s]\n",
      "Training Epoch 1579: 100%|██████████| 901/901 [00:05<00:00, 179.84it/s]\n",
      "Training Epoch 1580: 100%|██████████| 901/901 [00:05<00:00, 177.69it/s]\n",
      "Training Epoch 1581: 100%|██████████| 901/901 [00:04<00:00, 180.31it/s]\n"
     ]
    },
    {
     "name": "stdout",
     "output_type": "stream",
     "text": [
      "Epoch 1580 - Train Loss: 0.0585, Train MSE: 0.0585, Train MAE: 0.1846\n",
      "Epoch 1580 - Validation Loss: 0.6811, Validation MSE: 0.6811, Validation MAE: 0.6062\n"
     ]
    },
    {
     "name": "stderr",
     "output_type": "stream",
     "text": [
      "Training Epoch 1582: 100%|██████████| 901/901 [00:04<00:00, 186.53it/s]\n",
      "Training Epoch 1583: 100%|██████████| 901/901 [00:05<00:00, 176.90it/s]\n",
      "Training Epoch 1584: 100%|██████████| 901/901 [00:05<00:00, 179.35it/s]\n",
      "Training Epoch 1585: 100%|██████████| 901/901 [00:05<00:00, 177.85it/s]\n",
      "Training Epoch 1586: 100%|██████████| 901/901 [00:05<00:00, 179.74it/s]\n",
      "Training Epoch 1587: 100%|██████████| 901/901 [00:04<00:00, 180.51it/s]\n",
      "Training Epoch 1588: 100%|██████████| 901/901 [00:04<00:00, 180.49it/s]\n",
      "Training Epoch 1589: 100%|██████████| 901/901 [00:05<00:00, 177.39it/s]\n",
      "Training Epoch 1590: 100%|██████████| 901/901 [00:05<00:00, 178.80it/s]\n",
      "Training Epoch 1591: 100%|██████████| 901/901 [00:05<00:00, 178.11it/s]\n"
     ]
    },
    {
     "name": "stdout",
     "output_type": "stream",
     "text": [
      "Epoch 1590 - Train Loss: 0.0592, Train MSE: 0.0592, Train MAE: 0.1852\n",
      "Epoch 1590 - Validation Loss: 0.6770, Validation MSE: 0.6770, Validation MAE: 0.6046\n"
     ]
    },
    {
     "name": "stderr",
     "output_type": "stream",
     "text": [
      "Training Epoch 1592: 100%|██████████| 901/901 [00:05<00:00, 178.25it/s]\n",
      "Training Epoch 1593: 100%|██████████| 901/901 [00:04<00:00, 180.36it/s]\n",
      "Training Epoch 1594: 100%|██████████| 901/901 [00:05<00:00, 178.82it/s]\n",
      "Training Epoch 1595: 100%|██████████| 901/901 [00:05<00:00, 177.87it/s]\n",
      "Training Epoch 1596: 100%|██████████| 901/901 [00:05<00:00, 179.51it/s]\n",
      "Training Epoch 1597: 100%|██████████| 901/901 [00:05<00:00, 176.41it/s]\n",
      "Training Epoch 1598: 100%|██████████| 901/901 [00:05<00:00, 177.28it/s]\n",
      "Training Epoch 1599: 100%|██████████| 901/901 [00:04<00:00, 180.48it/s]\n",
      "Training Epoch 1600: 100%|██████████| 901/901 [00:05<00:00, 180.15it/s]\n",
      "Training Epoch 1601: 100%|██████████| 901/901 [00:05<00:00, 176.76it/s]\n"
     ]
    },
    {
     "name": "stdout",
     "output_type": "stream",
     "text": [
      "Epoch 1600 - Train Loss: 0.0596, Train MSE: 0.0596, Train MAE: 0.1852\n",
      "Epoch 1600 - Validation Loss: 0.6793, Validation MSE: 0.6793, Validation MAE: 0.6056\n"
     ]
    },
    {
     "name": "stderr",
     "output_type": "stream",
     "text": [
      "Training Epoch 1602: 100%|██████████| 901/901 [00:04<00:00, 181.16it/s]\n",
      "Training Epoch 1603: 100%|██████████| 901/901 [00:05<00:00, 179.98it/s]\n",
      "Training Epoch 1604: 100%|██████████| 901/901 [00:05<00:00, 179.62it/s]\n",
      "Training Epoch 1605: 100%|██████████| 901/901 [00:04<00:00, 182.80it/s]\n",
      "Training Epoch 1606: 100%|██████████| 901/901 [00:04<00:00, 180.39it/s]\n",
      "Training Epoch 1607: 100%|██████████| 901/901 [00:05<00:00, 176.04it/s]\n",
      "Training Epoch 1608: 100%|██████████| 901/901 [00:05<00:00, 177.50it/s]\n",
      "Training Epoch 1609: 100%|██████████| 901/901 [00:05<00:00, 177.44it/s]\n",
      "Training Epoch 1610: 100%|██████████| 901/901 [00:05<00:00, 177.85it/s]\n",
      "Training Epoch 1611: 100%|██████████| 901/901 [00:04<00:00, 184.06it/s]\n"
     ]
    },
    {
     "name": "stdout",
     "output_type": "stream",
     "text": [
      "Epoch 1610 - Train Loss: 0.0588, Train MSE: 0.0588, Train MAE: 0.1843\n",
      "Epoch 1610 - Validation Loss: 0.6810, Validation MSE: 0.6810, Validation MAE: 0.6064\n"
     ]
    },
    {
     "name": "stderr",
     "output_type": "stream",
     "text": [
      "Training Epoch 1612: 100%|██████████| 901/901 [00:04<00:00, 180.30it/s]\n",
      "Training Epoch 1613: 100%|██████████| 901/901 [00:05<00:00, 176.63it/s]\n",
      "Training Epoch 1614: 100%|██████████| 901/901 [00:05<00:00, 177.75it/s]\n",
      "Training Epoch 1615: 100%|██████████| 901/901 [00:05<00:00, 162.89it/s]\n",
      "Training Epoch 1616: 100%|██████████| 901/901 [00:05<00:00, 175.79it/s]\n",
      "Training Epoch 1617: 100%|██████████| 901/901 [00:05<00:00, 176.56it/s]\n",
      "Training Epoch 1618: 100%|██████████| 901/901 [00:05<00:00, 173.04it/s]\n",
      "Training Epoch 1619: 100%|██████████| 901/901 [00:05<00:00, 173.05it/s]\n",
      "Training Epoch 1620: 100%|██████████| 901/901 [00:05<00:00, 173.27it/s]\n",
      "Training Epoch 1621: 100%|██████████| 901/901 [00:05<00:00, 175.61it/s]\n"
     ]
    },
    {
     "name": "stdout",
     "output_type": "stream",
     "text": [
      "Epoch 1620 - Train Loss: 0.0578, Train MSE: 0.0578, Train MAE: 0.1832\n",
      "Epoch 1620 - Validation Loss: 0.6737, Validation MSE: 0.6737, Validation MAE: 0.6039\n"
     ]
    },
    {
     "name": "stderr",
     "output_type": "stream",
     "text": [
      "Training Epoch 1622: 100%|██████████| 901/901 [00:05<00:00, 174.81it/s]\n",
      "Training Epoch 1623: 100%|██████████| 901/901 [00:05<00:00, 178.69it/s]\n",
      "Training Epoch 1624: 100%|██████████| 901/901 [00:05<00:00, 174.43it/s]\n",
      "Training Epoch 1625: 100%|██████████| 901/901 [00:05<00:00, 174.84it/s]\n",
      "Training Epoch 1626: 100%|██████████| 901/901 [00:05<00:00, 175.45it/s]\n",
      "Training Epoch 1627: 100%|██████████| 901/901 [00:05<00:00, 175.53it/s]\n",
      "Training Epoch 1628: 100%|██████████| 901/901 [00:05<00:00, 176.37it/s]\n",
      "Training Epoch 1629: 100%|██████████| 901/901 [00:05<00:00, 177.26it/s]\n",
      "Training Epoch 1630: 100%|██████████| 901/901 [00:05<00:00, 175.49it/s]\n",
      "Training Epoch 1631: 100%|██████████| 901/901 [00:05<00:00, 176.25it/s]\n"
     ]
    },
    {
     "name": "stdout",
     "output_type": "stream",
     "text": [
      "Epoch 1630 - Train Loss: 0.0574, Train MSE: 0.0574, Train MAE: 0.1820\n",
      "Epoch 1630 - Validation Loss: 0.6775, Validation MSE: 0.6775, Validation MAE: 0.6037\n"
     ]
    },
    {
     "name": "stderr",
     "output_type": "stream",
     "text": [
      "Training Epoch 1632: 100%|██████████| 901/901 [00:05<00:00, 175.30it/s]\n",
      "Training Epoch 1633: 100%|██████████| 901/901 [00:05<00:00, 172.87it/s]\n",
      "Training Epoch 1634: 100%|██████████| 901/901 [00:05<00:00, 177.33it/s]\n",
      "Training Epoch 1635: 100%|██████████| 901/901 [00:05<00:00, 178.71it/s]\n",
      "Training Epoch 1636: 100%|██████████| 901/901 [00:05<00:00, 176.42it/s]\n",
      "Training Epoch 1637: 100%|██████████| 901/901 [00:05<00:00, 177.83it/s]\n",
      "Training Epoch 1638: 100%|██████████| 901/901 [00:05<00:00, 175.35it/s]\n",
      "Training Epoch 1639: 100%|██████████| 901/901 [00:05<00:00, 174.66it/s]\n",
      "Training Epoch 1640: 100%|██████████| 901/901 [00:05<00:00, 176.14it/s]\n",
      "Training Epoch 1641: 100%|██████████| 901/901 [00:05<00:00, 176.11it/s]\n"
     ]
    },
    {
     "name": "stdout",
     "output_type": "stream",
     "text": [
      "Epoch 1640 - Train Loss: 0.0569, Train MSE: 0.0570, Train MAE: 0.1815\n",
      "Epoch 1640 - Validation Loss: 0.6757, Validation MSE: 0.6757, Validation MAE: 0.6044\n"
     ]
    },
    {
     "name": "stderr",
     "output_type": "stream",
     "text": [
      "Training Epoch 1642: 100%|██████████| 901/901 [00:05<00:00, 172.47it/s]\n",
      "Training Epoch 1643: 100%|██████████| 901/901 [00:05<00:00, 175.50it/s]\n",
      "Training Epoch 1644: 100%|██████████| 901/901 [00:05<00:00, 176.42it/s]\n",
      "Training Epoch 1645: 100%|██████████| 901/901 [00:05<00:00, 173.49it/s]\n",
      "Training Epoch 1646: 100%|██████████| 901/901 [00:05<00:00, 179.63it/s]\n",
      "Training Epoch 1647: 100%|██████████| 901/901 [00:05<00:00, 178.35it/s]\n",
      "Training Epoch 1648: 100%|██████████| 901/901 [00:05<00:00, 174.60it/s]\n",
      "Training Epoch 1649: 100%|██████████| 901/901 [00:05<00:00, 173.43it/s]\n",
      "Training Epoch 1650: 100%|██████████| 901/901 [00:05<00:00, 174.87it/s]\n",
      "Training Epoch 1651: 100%|██████████| 901/901 [00:05<00:00, 174.36it/s]\n"
     ]
    },
    {
     "name": "stdout",
     "output_type": "stream",
     "text": [
      "Epoch 1650 - Train Loss: 0.0579, Train MSE: 0.0579, Train MAE: 0.1829\n",
      "Epoch 1650 - Validation Loss: 0.6793, Validation MSE: 0.6793, Validation MAE: 0.6063\n"
     ]
    },
    {
     "name": "stderr",
     "output_type": "stream",
     "text": [
      "Training Epoch 1652: 100%|██████████| 901/901 [00:05<00:00, 173.73it/s]\n",
      "Training Epoch 1653: 100%|██████████| 901/901 [00:05<00:00, 173.50it/s]\n",
      "Training Epoch 1654: 100%|██████████| 901/901 [00:05<00:00, 176.62it/s]\n",
      "Training Epoch 1655: 100%|██████████| 901/901 [00:05<00:00, 174.88it/s]\n",
      "Training Epoch 1656: 100%|██████████| 901/901 [00:05<00:00, 175.96it/s]\n",
      "Training Epoch 1657: 100%|██████████| 901/901 [00:05<00:00, 175.98it/s]\n",
      "Training Epoch 1658: 100%|██████████| 901/901 [00:05<00:00, 177.65it/s]\n",
      "Training Epoch 1659: 100%|██████████| 901/901 [00:05<00:00, 174.36it/s]\n",
      "Training Epoch 1660: 100%|██████████| 901/901 [00:05<00:00, 176.22it/s]\n",
      "Training Epoch 1661: 100%|██████████| 901/901 [00:05<00:00, 174.96it/s]\n"
     ]
    },
    {
     "name": "stdout",
     "output_type": "stream",
     "text": [
      "Epoch 1660 - Train Loss: 0.0583, Train MSE: 0.0583, Train MAE: 0.1838\n",
      "Epoch 1660 - Validation Loss: 0.6779, Validation MSE: 0.6779, Validation MAE: 0.6039\n"
     ]
    },
    {
     "name": "stderr",
     "output_type": "stream",
     "text": [
      "Training Epoch 1662: 100%|██████████| 901/901 [00:05<00:00, 171.88it/s]\n",
      "Training Epoch 1663: 100%|██████████| 901/901 [00:05<00:00, 174.99it/s]\n",
      "Training Epoch 1664: 100%|██████████| 901/901 [00:05<00:00, 178.17it/s]\n",
      "Training Epoch 1665: 100%|██████████| 901/901 [00:05<00:00, 172.60it/s]\n",
      "Training Epoch 1666: 100%|██████████| 901/901 [00:05<00:00, 175.35it/s]\n",
      "Training Epoch 1667: 100%|██████████| 901/901 [00:05<00:00, 174.16it/s]\n",
      "Training Epoch 1668: 100%|██████████| 901/901 [00:05<00:00, 173.91it/s]\n",
      "Training Epoch 1669: 100%|██████████| 901/901 [00:05<00:00, 176.74it/s]\n",
      "Training Epoch 1670: 100%|██████████| 901/901 [00:05<00:00, 176.48it/s]\n",
      "Training Epoch 1671: 100%|██████████| 901/901 [00:05<00:00, 175.40it/s]\n"
     ]
    },
    {
     "name": "stdout",
     "output_type": "stream",
     "text": [
      "Epoch 1670 - Train Loss: 0.0573, Train MSE: 0.0573, Train MAE: 0.1821\n",
      "Epoch 1670 - Validation Loss: 0.6784, Validation MSE: 0.6784, Validation MAE: 0.6046\n"
     ]
    },
    {
     "name": "stderr",
     "output_type": "stream",
     "text": [
      "Training Epoch 1672: 100%|██████████| 901/901 [00:05<00:00, 175.14it/s]\n",
      "Training Epoch 1673: 100%|██████████| 901/901 [00:05<00:00, 174.66it/s]\n",
      "Training Epoch 1674: 100%|██████████| 901/901 [00:05<00:00, 175.07it/s]\n",
      "Training Epoch 1675: 100%|██████████| 901/901 [00:05<00:00, 175.12it/s]\n",
      "Training Epoch 1676: 100%|██████████| 901/901 [00:05<00:00, 179.43it/s]\n",
      "Training Epoch 1677: 100%|██████████| 901/901 [00:05<00:00, 178.02it/s]\n",
      "Training Epoch 1678: 100%|██████████| 901/901 [00:05<00:00, 178.08it/s]\n",
      "Training Epoch 1679: 100%|██████████| 901/901 [00:05<00:00, 178.31it/s]\n",
      "Training Epoch 1680: 100%|██████████| 901/901 [00:05<00:00, 175.12it/s]\n",
      "Training Epoch 1681: 100%|██████████| 901/901 [00:05<00:00, 172.45it/s]\n"
     ]
    },
    {
     "name": "stdout",
     "output_type": "stream",
     "text": [
      "Epoch 1680 - Train Loss: 0.0578, Train MSE: 0.0578, Train MAE: 0.1821\n",
      "Epoch 1680 - Validation Loss: 0.6766, Validation MSE: 0.6766, Validation MAE: 0.6038\n"
     ]
    },
    {
     "name": "stderr",
     "output_type": "stream",
     "text": [
      "Training Epoch 1682: 100%|██████████| 901/901 [00:05<00:00, 178.66it/s]\n",
      "Training Epoch 1683: 100%|██████████| 901/901 [00:05<00:00, 177.44it/s]\n",
      "Training Epoch 1684: 100%|██████████| 901/901 [00:05<00:00, 175.55it/s]\n",
      "Training Epoch 1685: 100%|██████████| 901/901 [00:05<00:00, 174.74it/s]\n",
      "Training Epoch 1686: 100%|██████████| 901/901 [00:05<00:00, 173.89it/s]\n",
      "Training Epoch 1687: 100%|██████████| 901/901 [00:05<00:00, 174.43it/s]\n",
      "Training Epoch 1688: 100%|██████████| 901/901 [00:05<00:00, 179.46it/s]\n",
      "Training Epoch 1689: 100%|██████████| 901/901 [00:05<00:00, 176.19it/s]\n",
      "Training Epoch 1690: 100%|██████████| 901/901 [00:05<00:00, 176.36it/s]\n",
      "Training Epoch 1691: 100%|██████████| 901/901 [00:05<00:00, 174.85it/s]\n"
     ]
    },
    {
     "name": "stdout",
     "output_type": "stream",
     "text": [
      "Epoch 1690 - Train Loss: 0.0572, Train MSE: 0.0572, Train MAE: 0.1825\n",
      "Epoch 1690 - Validation Loss: 0.6730, Validation MSE: 0.6730, Validation MAE: 0.6029\n"
     ]
    },
    {
     "name": "stderr",
     "output_type": "stream",
     "text": [
      "Training Epoch 1692: 100%|██████████| 901/901 [00:05<00:00, 174.83it/s]\n",
      "Training Epoch 1693: 100%|██████████| 901/901 [00:05<00:00, 179.50it/s]\n",
      "Training Epoch 1694: 100%|██████████| 901/901 [00:05<00:00, 179.89it/s]\n",
      "Training Epoch 1695: 100%|██████████| 901/901 [00:05<00:00, 177.78it/s]\n",
      "Training Epoch 1696: 100%|██████████| 901/901 [00:05<00:00, 175.42it/s]\n",
      "Training Epoch 1697: 100%|██████████| 901/901 [00:05<00:00, 174.26it/s]\n",
      "Training Epoch 1698: 100%|██████████| 901/901 [00:05<00:00, 177.90it/s]\n",
      "Training Epoch 1699: 100%|██████████| 901/901 [00:05<00:00, 176.36it/s]\n",
      "Training Epoch 1700: 100%|██████████| 901/901 [00:05<00:00, 176.85it/s]\n",
      "Training Epoch 1701: 100%|██████████| 901/901 [00:05<00:00, 177.71it/s]\n"
     ]
    },
    {
     "name": "stdout",
     "output_type": "stream",
     "text": [
      "Epoch 1700 - Train Loss: 0.0580, Train MSE: 0.0580, Train MAE: 0.1823\n",
      "Epoch 1700 - Validation Loss: 0.6794, Validation MSE: 0.6794, Validation MAE: 0.6048\n"
     ]
    },
    {
     "name": "stderr",
     "output_type": "stream",
     "text": [
      "Training Epoch 1702: 100%|██████████| 901/901 [00:05<00:00, 175.45it/s]\n",
      "Training Epoch 1703: 100%|██████████| 901/901 [00:05<00:00, 176.88it/s]\n",
      "Training Epoch 1704: 100%|██████████| 901/901 [00:05<00:00, 174.96it/s]\n",
      "Training Epoch 1705: 100%|██████████| 901/901 [00:05<00:00, 177.11it/s]\n",
      "Training Epoch 1706: 100%|██████████| 901/901 [00:05<00:00, 179.32it/s]\n",
      "Training Epoch 1707: 100%|██████████| 901/901 [00:05<00:00, 177.68it/s]\n",
      "Training Epoch 1708: 100%|██████████| 901/901 [00:05<00:00, 175.53it/s]\n",
      "Training Epoch 1709: 100%|██████████| 901/901 [00:05<00:00, 174.25it/s]\n",
      "Training Epoch 1710: 100%|██████████| 901/901 [00:05<00:00, 172.66it/s]\n",
      "Training Epoch 1711: 100%|██████████| 901/901 [00:05<00:00, 175.23it/s]\n"
     ]
    },
    {
     "name": "stdout",
     "output_type": "stream",
     "text": [
      "Epoch 1710 - Train Loss: 0.0570, Train MSE: 0.0570, Train MAE: 0.1817\n",
      "Epoch 1710 - Validation Loss: 0.6779, Validation MSE: 0.6779, Validation MAE: 0.6056\n"
     ]
    },
    {
     "name": "stderr",
     "output_type": "stream",
     "text": [
      "Training Epoch 1712: 100%|██████████| 901/901 [00:05<00:00, 178.10it/s]\n",
      "Training Epoch 1713: 100%|██████████| 901/901 [00:05<00:00, 175.53it/s]\n",
      "Training Epoch 1714: 100%|██████████| 901/901 [00:05<00:00, 173.09it/s]\n",
      "Training Epoch 1715: 100%|██████████| 901/901 [00:05<00:00, 176.25it/s]\n",
      "Training Epoch 1716: 100%|██████████| 901/901 [00:05<00:00, 177.97it/s]\n",
      "Training Epoch 1717: 100%|██████████| 901/901 [00:05<00:00, 174.44it/s]\n",
      "Training Epoch 1718: 100%|██████████| 901/901 [00:05<00:00, 177.71it/s]\n",
      "Training Epoch 1719: 100%|██████████| 901/901 [00:05<00:00, 175.60it/s]\n",
      "Training Epoch 1720: 100%|██████████| 901/901 [00:05<00:00, 174.10it/s]\n",
      "Training Epoch 1721: 100%|██████████| 901/901 [00:05<00:00, 177.13it/s]\n"
     ]
    },
    {
     "name": "stdout",
     "output_type": "stream",
     "text": [
      "Epoch 1720 - Train Loss: 0.0565, Train MSE: 0.0565, Train MAE: 0.1803\n",
      "Epoch 1720 - Validation Loss: 0.6781, Validation MSE: 0.6781, Validation MAE: 0.6045\n"
     ]
    },
    {
     "name": "stderr",
     "output_type": "stream",
     "text": [
      "Training Epoch 1722: 100%|██████████| 901/901 [00:05<00:00, 173.92it/s]\n",
      "Training Epoch 1723: 100%|██████████| 901/901 [00:05<00:00, 174.61it/s]\n",
      "Training Epoch 1724: 100%|██████████| 901/901 [00:05<00:00, 180.15it/s]\n",
      "Training Epoch 1725: 100%|██████████| 901/901 [00:05<00:00, 176.30it/s]\n",
      "Training Epoch 1726: 100%|██████████| 901/901 [00:05<00:00, 173.04it/s]\n",
      "Training Epoch 1727: 100%|██████████| 901/901 [00:05<00:00, 175.60it/s]\n",
      "Training Epoch 1728: 100%|██████████| 901/901 [00:05<00:00, 176.65it/s]\n",
      "Training Epoch 1729: 100%|██████████| 901/901 [00:05<00:00, 173.39it/s]\n",
      "Training Epoch 1730: 100%|██████████| 901/901 [00:05<00:00, 178.01it/s]\n",
      "Training Epoch 1731: 100%|██████████| 901/901 [00:05<00:00, 175.56it/s]\n"
     ]
    },
    {
     "name": "stdout",
     "output_type": "stream",
     "text": [
      "Epoch 1730 - Train Loss: 0.0569, Train MSE: 0.0569, Train MAE: 0.1818\n",
      "Epoch 1730 - Validation Loss: 0.6754, Validation MSE: 0.6754, Validation MAE: 0.6042\n"
     ]
    },
    {
     "name": "stderr",
     "output_type": "stream",
     "text": [
      "Training Epoch 1732: 100%|██████████| 901/901 [00:05<00:00, 175.33it/s]\n",
      "Training Epoch 1733: 100%|██████████| 901/901 [00:05<00:00, 176.05it/s]\n",
      "Training Epoch 1734: 100%|██████████| 901/901 [00:05<00:00, 172.31it/s]\n",
      "Training Epoch 1735: 100%|██████████| 901/901 [00:05<00:00, 175.33it/s]\n",
      "Training Epoch 1736: 100%|██████████| 901/901 [00:05<00:00, 176.17it/s]\n",
      "Training Epoch 1737: 100%|██████████| 901/901 [00:05<00:00, 175.94it/s]\n",
      "Training Epoch 1738: 100%|██████████| 901/901 [00:05<00:00, 175.47it/s]\n",
      "Training Epoch 1739: 100%|██████████| 901/901 [00:05<00:00, 176.25it/s]\n",
      "Training Epoch 1740: 100%|██████████| 901/901 [00:05<00:00, 172.37it/s]\n",
      "Training Epoch 1741: 100%|██████████| 901/901 [00:05<00:00, 177.40it/s]\n"
     ]
    },
    {
     "name": "stdout",
     "output_type": "stream",
     "text": [
      "Epoch 1740 - Train Loss: 0.0563, Train MSE: 0.0564, Train MAE: 0.1803\n",
      "Epoch 1740 - Validation Loss: 0.6759, Validation MSE: 0.6759, Validation MAE: 0.6036\n"
     ]
    },
    {
     "name": "stderr",
     "output_type": "stream",
     "text": [
      "Training Epoch 1742: 100%|██████████| 901/901 [00:05<00:00, 178.63it/s]\n",
      "Training Epoch 1743: 100%|██████████| 901/901 [00:05<00:00, 176.71it/s]\n",
      "Training Epoch 1744: 100%|██████████| 901/901 [00:05<00:00, 178.13it/s]\n",
      "Training Epoch 1745: 100%|██████████| 901/901 [00:05<00:00, 178.20it/s]\n",
      "Training Epoch 1746: 100%|██████████| 901/901 [00:05<00:00, 173.98it/s]\n",
      "Training Epoch 1747: 100%|██████████| 901/901 [00:05<00:00, 178.79it/s]\n",
      "Training Epoch 1748: 100%|██████████| 901/901 [00:05<00:00, 176.74it/s]\n",
      "Training Epoch 1749: 100%|██████████| 901/901 [00:05<00:00, 174.04it/s]\n",
      "Training Epoch 1750: 100%|██████████| 901/901 [00:05<00:00, 176.13it/s]\n",
      "Training Epoch 1751: 100%|██████████| 901/901 [00:05<00:00, 175.02it/s]\n"
     ]
    },
    {
     "name": "stdout",
     "output_type": "stream",
     "text": [
      "Epoch 1750 - Train Loss: 0.0561, Train MSE: 0.0561, Train MAE: 0.1794\n",
      "Epoch 1750 - Validation Loss: 0.6794, Validation MSE: 0.6794, Validation MAE: 0.6054\n"
     ]
    },
    {
     "name": "stderr",
     "output_type": "stream",
     "text": [
      "Training Epoch 1752: 100%|██████████| 901/901 [00:05<00:00, 175.20it/s]\n",
      "Training Epoch 1753: 100%|██████████| 901/901 [00:05<00:00, 177.96it/s]\n",
      "Training Epoch 1754: 100%|██████████| 901/901 [00:05<00:00, 176.77it/s]\n",
      "Training Epoch 1755: 100%|██████████| 901/901 [00:05<00:00, 174.18it/s]\n",
      "Training Epoch 1756: 100%|██████████| 901/901 [00:05<00:00, 177.88it/s]\n",
      "Training Epoch 1757: 100%|██████████| 901/901 [00:05<00:00, 175.24it/s]\n",
      "Training Epoch 1758: 100%|██████████| 901/901 [00:05<00:00, 175.26it/s]\n",
      "Training Epoch 1759: 100%|██████████| 901/901 [00:05<00:00, 179.58it/s]\n",
      "Training Epoch 1760: 100%|██████████| 901/901 [00:05<00:00, 174.18it/s]\n",
      "Training Epoch 1761: 100%|██████████| 901/901 [00:05<00:00, 175.09it/s]\n"
     ]
    },
    {
     "name": "stdout",
     "output_type": "stream",
     "text": [
      "Epoch 1760 - Train Loss: 0.0563, Train MSE: 0.0563, Train MAE: 0.1796\n",
      "Epoch 1760 - Validation Loss: 0.6794, Validation MSE: 0.6794, Validation MAE: 0.6051\n"
     ]
    },
    {
     "name": "stderr",
     "output_type": "stream",
     "text": [
      "Training Epoch 1762: 100%|██████████| 901/901 [00:05<00:00, 174.72it/s]\n",
      "Training Epoch 1763: 100%|██████████| 901/901 [00:05<00:00, 176.86it/s]\n",
      "Training Epoch 1764: 100%|██████████| 901/901 [00:05<00:00, 173.16it/s]\n",
      "Training Epoch 1765: 100%|██████████| 901/901 [00:05<00:00, 179.96it/s]\n",
      "Training Epoch 1766: 100%|██████████| 901/901 [00:05<00:00, 175.29it/s]\n",
      "Training Epoch 1767: 100%|██████████| 901/901 [00:05<00:00, 175.17it/s]\n",
      "Training Epoch 1768: 100%|██████████| 901/901 [00:05<00:00, 176.66it/s]\n",
      "Training Epoch 1769: 100%|██████████| 901/901 [00:05<00:00, 176.74it/s]\n",
      "Training Epoch 1770: 100%|██████████| 901/901 [00:05<00:00, 176.71it/s]\n",
      "Training Epoch 1771: 100%|██████████| 901/901 [00:05<00:00, 179.43it/s]\n"
     ]
    },
    {
     "name": "stdout",
     "output_type": "stream",
     "text": [
      "Epoch 1770 - Train Loss: 0.0569, Train MSE: 0.0569, Train MAE: 0.1808\n",
      "Epoch 1770 - Validation Loss: 0.6756, Validation MSE: 0.6756, Validation MAE: 0.6052\n"
     ]
    },
    {
     "name": "stderr",
     "output_type": "stream",
     "text": [
      "Training Epoch 1772: 100%|██████████| 901/901 [00:05<00:00, 177.96it/s]\n",
      "Training Epoch 1773: 100%|██████████| 901/901 [00:05<00:00, 174.93it/s]\n",
      "Training Epoch 1774: 100%|██████████| 901/901 [00:05<00:00, 175.39it/s]\n",
      "Training Epoch 1775: 100%|██████████| 901/901 [00:05<00:00, 176.16it/s]\n",
      "Training Epoch 1776: 100%|██████████| 901/901 [00:05<00:00, 176.26it/s]\n",
      "Training Epoch 1777: 100%|██████████| 901/901 [00:04<00:00, 181.03it/s]\n",
      "Training Epoch 1778: 100%|██████████| 901/901 [00:05<00:00, 176.04it/s]\n",
      "Training Epoch 1779: 100%|██████████| 901/901 [00:05<00:00, 176.17it/s]\n",
      "Training Epoch 1780: 100%|██████████| 901/901 [00:05<00:00, 175.18it/s]\n",
      "Training Epoch 1781: 100%|██████████| 901/901 [00:05<00:00, 173.94it/s]\n"
     ]
    },
    {
     "name": "stdout",
     "output_type": "stream",
     "text": [
      "Epoch 1780 - Train Loss: 0.0567, Train MSE: 0.0567, Train MAE: 0.1809\n",
      "Epoch 1780 - Validation Loss: 0.6791, Validation MSE: 0.6791, Validation MAE: 0.6050\n"
     ]
    },
    {
     "name": "stderr",
     "output_type": "stream",
     "text": [
      "Training Epoch 1782: 100%|██████████| 901/901 [00:05<00:00, 175.69it/s]\n",
      "Training Epoch 1783: 100%|██████████| 901/901 [00:04<00:00, 180.39it/s]\n",
      "Training Epoch 1784: 100%|██████████| 901/901 [00:05<00:00, 173.46it/s]\n",
      "Training Epoch 1785: 100%|██████████| 901/901 [00:05<00:00, 177.74it/s]\n",
      "Training Epoch 1786: 100%|██████████| 901/901 [00:05<00:00, 178.46it/s]\n",
      "Training Epoch 1787: 100%|██████████| 901/901 [00:05<00:00, 175.35it/s]\n",
      "Training Epoch 1788: 100%|██████████| 901/901 [00:05<00:00, 177.66it/s]\n",
      "Training Epoch 1789: 100%|██████████| 901/901 [00:04<00:00, 180.94it/s]\n",
      "Training Epoch 1790: 100%|██████████| 901/901 [00:05<00:00, 175.50it/s]\n",
      "Training Epoch 1791: 100%|██████████| 901/901 [00:05<00:00, 177.86it/s]\n"
     ]
    },
    {
     "name": "stdout",
     "output_type": "stream",
     "text": [
      "Epoch 1790 - Train Loss: 0.0558, Train MSE: 0.0558, Train MAE: 0.1793\n",
      "Epoch 1790 - Validation Loss: 0.6759, Validation MSE: 0.6759, Validation MAE: 0.6029\n"
     ]
    },
    {
     "name": "stderr",
     "output_type": "stream",
     "text": [
      "Training Epoch 1792: 100%|██████████| 901/901 [00:05<00:00, 177.67it/s]\n",
      "Training Epoch 1793: 100%|██████████| 901/901 [00:05<00:00, 176.38it/s]\n",
      "Training Epoch 1794: 100%|██████████| 901/901 [00:05<00:00, 178.54it/s]\n",
      "Training Epoch 1795: 100%|██████████| 901/901 [00:05<00:00, 179.89it/s]\n",
      "Training Epoch 1796: 100%|██████████| 901/901 [00:05<00:00, 174.86it/s]\n",
      "Training Epoch 1797: 100%|██████████| 901/901 [00:05<00:00, 176.16it/s]\n",
      "Training Epoch 1798: 100%|██████████| 901/901 [00:05<00:00, 173.63it/s]\n",
      "Training Epoch 1799: 100%|██████████| 901/901 [00:05<00:00, 156.95it/s]\n",
      "Training Epoch 1800: 100%|██████████| 901/901 [00:05<00:00, 178.99it/s]\n",
      "Training Epoch 1801: 100%|██████████| 901/901 [00:04<00:00, 182.11it/s]\n"
     ]
    },
    {
     "name": "stdout",
     "output_type": "stream",
     "text": [
      "Epoch 1800 - Train Loss: 0.0557, Train MSE: 0.0557, Train MAE: 0.1795\n",
      "Epoch 1800 - Validation Loss: 0.6744, Validation MSE: 0.6744, Validation MAE: 0.6038\n"
     ]
    },
    {
     "name": "stderr",
     "output_type": "stream",
     "text": [
      "Training Epoch 1802: 100%|██████████| 901/901 [00:05<00:00, 178.34it/s]\n",
      "Training Epoch 1803: 100%|██████████| 901/901 [00:05<00:00, 178.23it/s]\n",
      "Training Epoch 1804: 100%|██████████| 901/901 [00:05<00:00, 177.93it/s]\n",
      "Training Epoch 1805: 100%|██████████| 901/901 [00:05<00:00, 176.50it/s]\n",
      "Training Epoch 1806: 100%|██████████| 901/901 [00:05<00:00, 175.58it/s]\n",
      "Training Epoch 1807: 100%|██████████| 901/901 [00:04<00:00, 182.24it/s]\n",
      "Training Epoch 1808: 100%|██████████| 901/901 [00:05<00:00, 175.89it/s]\n",
      "Training Epoch 1809: 100%|██████████| 901/901 [00:05<00:00, 176.41it/s]\n",
      "Training Epoch 1810: 100%|██████████| 901/901 [00:05<00:00, 176.48it/s]\n",
      "Training Epoch 1811: 100%|██████████| 901/901 [00:05<00:00, 178.08it/s]\n"
     ]
    },
    {
     "name": "stdout",
     "output_type": "stream",
     "text": [
      "Epoch 1810 - Train Loss: 0.0548, Train MSE: 0.0548, Train MAE: 0.1777\n",
      "Epoch 1810 - Validation Loss: 0.6736, Validation MSE: 0.6736, Validation MAE: 0.6033\n"
     ]
    },
    {
     "name": "stderr",
     "output_type": "stream",
     "text": [
      "Training Epoch 1812: 100%|██████████| 901/901 [00:05<00:00, 177.74it/s]\n",
      "Training Epoch 1813: 100%|██████████| 901/901 [00:05<00:00, 179.85it/s]\n",
      "Training Epoch 1814: 100%|██████████| 901/901 [00:05<00:00, 177.22it/s]\n",
      "Training Epoch 1815: 100%|██████████| 901/901 [00:05<00:00, 176.69it/s]\n",
      "Training Epoch 1816: 100%|██████████| 901/901 [00:05<00:00, 176.58it/s]\n",
      "Training Epoch 1817: 100%|██████████| 901/901 [00:05<00:00, 175.27it/s]\n",
      "Training Epoch 1818: 100%|██████████| 901/901 [00:05<00:00, 177.87it/s]\n",
      "Training Epoch 1819: 100%|██████████| 901/901 [00:05<00:00, 177.72it/s]\n",
      "Training Epoch 1820: 100%|██████████| 901/901 [00:05<00:00, 178.17it/s]\n",
      "Training Epoch 1821: 100%|██████████| 901/901 [00:05<00:00, 176.32it/s]\n"
     ]
    },
    {
     "name": "stdout",
     "output_type": "stream",
     "text": [
      "Epoch 1820 - Train Loss: 0.0551, Train MSE: 0.0551, Train MAE: 0.1786\n",
      "Epoch 1820 - Validation Loss: 0.6767, Validation MSE: 0.6767, Validation MAE: 0.6040\n"
     ]
    },
    {
     "name": "stderr",
     "output_type": "stream",
     "text": [
      "Training Epoch 1822: 100%|██████████| 901/901 [00:05<00:00, 177.33it/s]\n",
      "Training Epoch 1823: 100%|██████████| 901/901 [00:05<00:00, 179.42it/s]\n",
      "Training Epoch 1824: 100%|██████████| 901/901 [00:05<00:00, 177.77it/s]\n",
      "Training Epoch 1825: 100%|██████████| 901/901 [00:05<00:00, 179.26it/s]\n",
      "Training Epoch 1826: 100%|██████████| 901/901 [00:05<00:00, 176.00it/s]\n",
      "Training Epoch 1827: 100%|██████████| 901/901 [00:05<00:00, 177.78it/s]\n",
      "Training Epoch 1828: 100%|██████████| 901/901 [00:05<00:00, 173.81it/s]\n",
      "Training Epoch 1829: 100%|██████████| 901/901 [00:05<00:00, 176.31it/s]\n",
      "Training Epoch 1830: 100%|██████████| 901/901 [00:05<00:00, 178.54it/s]\n",
      "Training Epoch 1831: 100%|██████████| 901/901 [00:05<00:00, 179.94it/s]\n"
     ]
    },
    {
     "name": "stdout",
     "output_type": "stream",
     "text": [
      "Epoch 1830 - Train Loss: 0.0553, Train MSE: 0.0553, Train MAE: 0.1791\n",
      "Epoch 1830 - Validation Loss: 0.6783, Validation MSE: 0.6783, Validation MAE: 0.6047\n"
     ]
    },
    {
     "name": "stderr",
     "output_type": "stream",
     "text": [
      "Training Epoch 1832: 100%|██████████| 901/901 [00:05<00:00, 176.47it/s]\n",
      "Training Epoch 1833: 100%|██████████| 901/901 [00:05<00:00, 176.38it/s]\n",
      "Training Epoch 1834: 100%|██████████| 901/901 [00:05<00:00, 175.91it/s]\n",
      "Training Epoch 1835: 100%|██████████| 901/901 [00:05<00:00, 175.99it/s]\n",
      "Training Epoch 1836: 100%|██████████| 901/901 [00:05<00:00, 176.58it/s]\n",
      "Training Epoch 1837: 100%|██████████| 901/901 [00:04<00:00, 180.67it/s]\n",
      "Training Epoch 1838: 100%|██████████| 901/901 [00:05<00:00, 177.30it/s]\n",
      "Training Epoch 1839: 100%|██████████| 901/901 [00:05<00:00, 174.64it/s]\n",
      "Training Epoch 1840: 100%|██████████| 901/901 [00:05<00:00, 175.82it/s]\n",
      "Training Epoch 1841: 100%|██████████| 901/901 [00:05<00:00, 175.76it/s]\n"
     ]
    },
    {
     "name": "stdout",
     "output_type": "stream",
     "text": [
      "Epoch 1840 - Train Loss: 0.0556, Train MSE: 0.0556, Train MAE: 0.1788\n",
      "Epoch 1840 - Validation Loss: 0.6755, Validation MSE: 0.6755, Validation MAE: 0.6041\n"
     ]
    },
    {
     "name": "stderr",
     "output_type": "stream",
     "text": [
      "Training Epoch 1842: 100%|██████████| 901/901 [00:05<00:00, 176.04it/s]\n",
      "Training Epoch 1843: 100%|██████████| 901/901 [00:04<00:00, 181.29it/s]\n",
      "Training Epoch 1844: 100%|██████████| 901/901 [00:05<00:00, 176.34it/s]\n",
      "Training Epoch 1845: 100%|██████████| 901/901 [00:05<00:00, 176.84it/s]\n",
      "Training Epoch 1846: 100%|██████████| 901/901 [00:05<00:00, 179.09it/s]\n",
      "Training Epoch 1847: 100%|██████████| 901/901 [00:05<00:00, 176.80it/s]\n",
      "Training Epoch 1848: 100%|██████████| 901/901 [00:05<00:00, 178.17it/s]\n",
      "Training Epoch 1849: 100%|██████████| 901/901 [00:04<00:00, 182.92it/s]\n",
      "Training Epoch 1850: 100%|██████████| 901/901 [00:05<00:00, 178.60it/s]\n",
      "Training Epoch 1851: 100%|██████████| 901/901 [00:05<00:00, 176.04it/s]\n"
     ]
    },
    {
     "name": "stdout",
     "output_type": "stream",
     "text": [
      "Epoch 1850 - Train Loss: 0.0544, Train MSE: 0.0544, Train MAE: 0.1773\n",
      "Epoch 1850 - Validation Loss: 0.6756, Validation MSE: 0.6756, Validation MAE: 0.6042\n"
     ]
    },
    {
     "name": "stderr",
     "output_type": "stream",
     "text": [
      "Training Epoch 1852: 100%|██████████| 901/901 [00:05<00:00, 178.27it/s]\n",
      "Training Epoch 1853: 100%|██████████| 901/901 [00:05<00:00, 176.93it/s]\n",
      "Training Epoch 1854: 100%|██████████| 901/901 [00:05<00:00, 177.20it/s]\n",
      "Training Epoch 1855: 100%|██████████| 901/901 [00:04<00:00, 180.49it/s]\n",
      "Training Epoch 1856: 100%|██████████| 901/901 [00:05<00:00, 178.46it/s]\n",
      "Training Epoch 1857: 100%|██████████| 901/901 [00:05<00:00, 175.97it/s]\n",
      "Training Epoch 1858: 100%|██████████| 901/901 [00:05<00:00, 176.81it/s]\n",
      "Training Epoch 1859: 100%|██████████| 901/901 [00:05<00:00, 178.49it/s]\n",
      "Training Epoch 1860: 100%|██████████| 901/901 [00:05<00:00, 177.82it/s]\n",
      "Training Epoch 1861: 100%|██████████| 901/901 [00:04<00:00, 181.53it/s]\n"
     ]
    },
    {
     "name": "stdout",
     "output_type": "stream",
     "text": [
      "Epoch 1860 - Train Loss: 0.0548, Train MSE: 0.0548, Train MAE: 0.1783\n",
      "Epoch 1860 - Validation Loss: 0.6754, Validation MSE: 0.6754, Validation MAE: 0.6034\n"
     ]
    },
    {
     "name": "stderr",
     "output_type": "stream",
     "text": [
      "Training Epoch 1862: 100%|██████████| 901/901 [00:05<00:00, 176.06it/s]\n",
      "Training Epoch 1863: 100%|██████████| 901/901 [00:05<00:00, 177.86it/s]\n",
      "Training Epoch 1864: 100%|██████████| 901/901 [00:05<00:00, 177.59it/s]\n",
      "Training Epoch 1865: 100%|██████████| 901/901 [00:05<00:00, 176.26it/s]\n",
      "Training Epoch 1866: 100%|██████████| 901/901 [00:05<00:00, 177.01it/s]\n",
      "Training Epoch 1867: 100%|██████████| 901/901 [00:04<00:00, 180.98it/s]\n",
      "Training Epoch 1868: 100%|██████████| 901/901 [00:05<00:00, 179.54it/s]\n",
      "Training Epoch 1869: 100%|██████████| 901/901 [00:05<00:00, 176.93it/s]\n",
      "Training Epoch 1870: 100%|██████████| 901/901 [00:05<00:00, 179.74it/s]\n",
      "Training Epoch 1871: 100%|██████████| 901/901 [00:05<00:00, 175.69it/s]\n"
     ]
    },
    {
     "name": "stdout",
     "output_type": "stream",
     "text": [
      "Epoch 1870 - Train Loss: 0.0543, Train MSE: 0.0543, Train MAE: 0.1768\n",
      "Epoch 1870 - Validation Loss: 0.6755, Validation MSE: 0.6755, Validation MAE: 0.6039\n"
     ]
    },
    {
     "name": "stderr",
     "output_type": "stream",
     "text": [
      "Training Epoch 1872: 100%|██████████| 901/901 [00:05<00:00, 175.29it/s]\n",
      "Training Epoch 1873: 100%|██████████| 901/901 [00:04<00:00, 180.36it/s]\n",
      "Training Epoch 1874: 100%|██████████| 901/901 [00:05<00:00, 177.98it/s]\n",
      "Training Epoch 1875: 100%|██████████| 901/901 [00:05<00:00, 177.20it/s]\n",
      "Training Epoch 1876: 100%|██████████| 901/901 [00:05<00:00, 176.54it/s]\n",
      "Training Epoch 1877: 100%|██████████| 901/901 [00:05<00:00, 175.98it/s]\n",
      "Training Epoch 1878: 100%|██████████| 901/901 [00:05<00:00, 179.40it/s]\n",
      "Training Epoch 1879: 100%|██████████| 901/901 [00:04<00:00, 186.04it/s]\n",
      "Training Epoch 1880: 100%|██████████| 901/901 [00:05<00:00, 177.96it/s]\n",
      "Training Epoch 1881: 100%|██████████| 901/901 [00:05<00:00, 176.66it/s]\n"
     ]
    },
    {
     "name": "stdout",
     "output_type": "stream",
     "text": [
      "Epoch 1880 - Train Loss: 0.0547, Train MSE: 0.0547, Train MAE: 0.1773\n",
      "Epoch 1880 - Validation Loss: 0.6731, Validation MSE: 0.6731, Validation MAE: 0.6022\n"
     ]
    },
    {
     "name": "stderr",
     "output_type": "stream",
     "text": [
      "Training Epoch 1882: 100%|██████████| 901/901 [00:05<00:00, 177.21it/s]\n",
      "Training Epoch 1883: 100%|██████████| 901/901 [00:05<00:00, 175.98it/s]\n",
      "Training Epoch 1884: 100%|██████████| 901/901 [00:05<00:00, 177.07it/s]\n",
      "Training Epoch 1885: 100%|██████████| 901/901 [00:04<00:00, 182.16it/s]\n",
      "Training Epoch 1886: 100%|██████████| 901/901 [00:05<00:00, 178.60it/s]\n",
      "Training Epoch 1887: 100%|██████████| 901/901 [00:05<00:00, 177.80it/s]\n",
      "Training Epoch 1888: 100%|██████████| 901/901 [00:05<00:00, 177.18it/s]\n",
      "Training Epoch 1889: 100%|██████████| 901/901 [00:05<00:00, 175.56it/s]\n",
      "Training Epoch 1890: 100%|██████████| 901/901 [00:05<00:00, 178.14it/s]\n",
      "Training Epoch 1891: 100%|██████████| 901/901 [00:04<00:00, 182.86it/s]\n"
     ]
    },
    {
     "name": "stdout",
     "output_type": "stream",
     "text": [
      "Epoch 1890 - Train Loss: 0.0548, Train MSE: 0.0548, Train MAE: 0.1779\n",
      "Epoch 1890 - Validation Loss: 0.6795, Validation MSE: 0.6795, Validation MAE: 0.6050\n"
     ]
    },
    {
     "name": "stderr",
     "output_type": "stream",
     "text": [
      "Training Epoch 1892: 100%|██████████| 901/901 [00:05<00:00, 179.14it/s]\n",
      "Training Epoch 1893: 100%|██████████| 901/901 [00:05<00:00, 176.44it/s]\n",
      "Training Epoch 1894: 100%|██████████| 901/901 [00:05<00:00, 178.25it/s]\n",
      "Training Epoch 1895: 100%|██████████| 901/901 [00:05<00:00, 177.36it/s]\n",
      "Training Epoch 1896: 100%|██████████| 901/901 [00:05<00:00, 177.96it/s]\n",
      "Training Epoch 1897: 100%|██████████| 901/901 [00:04<00:00, 181.34it/s]\n",
      "Training Epoch 1898: 100%|██████████| 901/901 [00:05<00:00, 177.79it/s]\n",
      "Training Epoch 1899: 100%|██████████| 901/901 [00:05<00:00, 179.96it/s]\n",
      "Training Epoch 1900: 100%|██████████| 901/901 [00:05<00:00, 178.88it/s]\n",
      "Training Epoch 1901: 100%|██████████| 901/901 [00:05<00:00, 175.24it/s]\n"
     ]
    },
    {
     "name": "stdout",
     "output_type": "stream",
     "text": [
      "Epoch 1900 - Train Loss: 0.0549, Train MSE: 0.0549, Train MAE: 0.1776\n",
      "Epoch 1900 - Validation Loss: 0.6734, Validation MSE: 0.6734, Validation MAE: 0.6037\n"
     ]
    },
    {
     "name": "stderr",
     "output_type": "stream",
     "text": [
      "Training Epoch 1902: 100%|██████████| 901/901 [00:05<00:00, 179.32it/s]\n",
      "Training Epoch 1903: 100%|██████████| 901/901 [00:04<00:00, 182.07it/s]\n",
      "Training Epoch 1904: 100%|██████████| 901/901 [00:05<00:00, 175.73it/s]\n",
      "Training Epoch 1905: 100%|██████████| 901/901 [00:05<00:00, 177.51it/s]\n",
      "Training Epoch 1906: 100%|██████████| 901/901 [00:05<00:00, 177.52it/s]\n",
      "Training Epoch 1907: 100%|██████████| 901/901 [00:05<00:00, 179.15it/s]\n",
      "Training Epoch 1908: 100%|██████████| 901/901 [00:05<00:00, 178.13it/s]\n",
      "Training Epoch 1909: 100%|██████████| 901/901 [00:04<00:00, 183.02it/s]\n",
      "Training Epoch 1910: 100%|██████████| 901/901 [00:05<00:00, 179.81it/s]\n",
      "Training Epoch 1911: 100%|██████████| 901/901 [00:05<00:00, 177.45it/s]\n"
     ]
    },
    {
     "name": "stdout",
     "output_type": "stream",
     "text": [
      "Epoch 1910 - Train Loss: 0.0546, Train MSE: 0.0546, Train MAE: 0.1771\n",
      "Epoch 1910 - Validation Loss: 0.6751, Validation MSE: 0.6751, Validation MAE: 0.6029\n"
     ]
    },
    {
     "name": "stderr",
     "output_type": "stream",
     "text": [
      "Training Epoch 1912: 100%|██████████| 901/901 [00:05<00:00, 178.55it/s]\n",
      "Training Epoch 1913: 100%|██████████| 901/901 [00:05<00:00, 178.54it/s]\n",
      "Training Epoch 1914: 100%|██████████| 901/901 [00:05<00:00, 177.61it/s]\n",
      "Training Epoch 1915: 100%|██████████| 901/901 [00:04<00:00, 181.22it/s]\n",
      "Training Epoch 1916: 100%|██████████| 901/901 [00:05<00:00, 176.98it/s]\n",
      "Training Epoch 1917: 100%|██████████| 901/901 [00:05<00:00, 178.13it/s]\n",
      "Training Epoch 1918: 100%|██████████| 901/901 [00:05<00:00, 178.08it/s]\n",
      "Training Epoch 1919: 100%|██████████| 901/901 [00:05<00:00, 177.36it/s]\n",
      "Training Epoch 1920: 100%|██████████| 901/901 [00:05<00:00, 178.95it/s]\n",
      "Training Epoch 1921: 100%|██████████| 901/901 [00:04<00:00, 180.24it/s]\n"
     ]
    },
    {
     "name": "stdout",
     "output_type": "stream",
     "text": [
      "Epoch 1920 - Train Loss: 0.0549, Train MSE: 0.0549, Train MAE: 0.1778\n",
      "Epoch 1920 - Validation Loss: 0.6770, Validation MSE: 0.6770, Validation MAE: 0.6045\n"
     ]
    },
    {
     "name": "stderr",
     "output_type": "stream",
     "text": [
      "Training Epoch 1922: 100%|██████████| 901/901 [00:05<00:00, 178.58it/s]\n",
      "Training Epoch 1923: 100%|██████████| 901/901 [00:05<00:00, 177.69it/s]\n",
      "Training Epoch 1924: 100%|██████████| 901/901 [00:05<00:00, 179.20it/s]\n",
      "Training Epoch 1925: 100%|██████████| 901/901 [00:05<00:00, 177.02it/s]\n",
      "Training Epoch 1926: 100%|██████████| 901/901 [00:05<00:00, 178.44it/s]\n",
      "Training Epoch 1927: 100%|██████████| 901/901 [00:05<00:00, 178.88it/s]\n",
      "Training Epoch 1928: 100%|██████████| 901/901 [00:05<00:00, 177.80it/s]\n",
      "Training Epoch 1929: 100%|██████████| 901/901 [00:05<00:00, 179.96it/s]\n",
      "Training Epoch 1930: 100%|██████████| 901/901 [00:05<00:00, 178.55it/s]\n",
      "Training Epoch 1931: 100%|██████████| 901/901 [00:05<00:00, 179.75it/s]\n"
     ]
    },
    {
     "name": "stdout",
     "output_type": "stream",
     "text": [
      "Epoch 1930 - Train Loss: 0.0543, Train MSE: 0.0543, Train MAE: 0.1766\n",
      "Epoch 1930 - Validation Loss: 0.6777, Validation MSE: 0.6777, Validation MAE: 0.6056\n"
     ]
    },
    {
     "name": "stderr",
     "output_type": "stream",
     "text": [
      "Training Epoch 1932: 100%|██████████| 901/901 [00:05<00:00, 177.93it/s]\n",
      "Training Epoch 1933: 100%|██████████| 901/901 [00:04<00:00, 181.17it/s]\n",
      "Training Epoch 1934: 100%|██████████| 901/901 [00:05<00:00, 179.51it/s]\n",
      "Training Epoch 1935: 100%|██████████| 901/901 [00:05<00:00, 180.01it/s]\n",
      "Training Epoch 1936: 100%|██████████| 901/901 [00:05<00:00, 179.75it/s]\n",
      "Training Epoch 1937: 100%|██████████| 901/901 [00:05<00:00, 178.67it/s]\n",
      "Training Epoch 1938: 100%|██████████| 901/901 [00:05<00:00, 177.64it/s]\n",
      "Training Epoch 1939: 100%|██████████| 901/901 [00:04<00:00, 180.28it/s]\n",
      "Training Epoch 1940: 100%|██████████| 901/901 [00:04<00:00, 182.35it/s]\n",
      "Training Epoch 1941: 100%|██████████| 901/901 [00:05<00:00, 178.26it/s]\n"
     ]
    },
    {
     "name": "stdout",
     "output_type": "stream",
     "text": [
      "Epoch 1940 - Train Loss: 0.0541, Train MSE: 0.0541, Train MAE: 0.1769\n",
      "Epoch 1940 - Validation Loss: 0.6729, Validation MSE: 0.6729, Validation MAE: 0.6034\n"
     ]
    },
    {
     "name": "stderr",
     "output_type": "stream",
     "text": [
      "Training Epoch 1942: 100%|██████████| 901/901 [00:05<00:00, 179.32it/s]\n",
      "Training Epoch 1943: 100%|██████████| 901/901 [00:05<00:00, 178.81it/s]\n",
      "Training Epoch 1944: 100%|██████████| 901/901 [00:04<00:00, 180.89it/s]\n",
      "Training Epoch 1945: 100%|██████████| 901/901 [00:05<00:00, 176.56it/s]\n",
      "Training Epoch 1946: 100%|██████████| 901/901 [00:04<00:00, 181.64it/s]\n",
      "Training Epoch 1947: 100%|██████████| 901/901 [00:04<00:00, 180.95it/s]\n",
      "Training Epoch 1948: 100%|██████████| 901/901 [00:04<00:00, 180.76it/s]\n",
      "Training Epoch 1949: 100%|██████████| 901/901 [00:05<00:00, 177.49it/s]\n",
      "Training Epoch 1950: 100%|██████████| 901/901 [00:04<00:00, 180.89it/s]\n",
      "Training Epoch 1951: 100%|██████████| 901/901 [00:04<00:00, 180.53it/s]\n"
     ]
    },
    {
     "name": "stdout",
     "output_type": "stream",
     "text": [
      "Epoch 1950 - Train Loss: 0.0547, Train MSE: 0.0547, Train MAE: 0.1774\n",
      "Epoch 1950 - Validation Loss: 0.6739, Validation MSE: 0.6739, Validation MAE: 0.6025\n"
     ]
    },
    {
     "name": "stderr",
     "output_type": "stream",
     "text": [
      "Training Epoch 1952: 100%|██████████| 901/901 [00:04<00:00, 182.28it/s]\n",
      "Training Epoch 1953: 100%|██████████| 901/901 [00:04<00:00, 180.99it/s]\n",
      "Training Epoch 1954: 100%|██████████| 901/901 [00:05<00:00, 177.44it/s]\n",
      "Training Epoch 1955: 100%|██████████| 901/901 [00:05<00:00, 178.22it/s]\n",
      "Training Epoch 1956: 100%|██████████| 901/901 [00:05<00:00, 178.74it/s]\n",
      "Training Epoch 1957: 100%|██████████| 901/901 [00:05<00:00, 176.66it/s]\n",
      "Training Epoch 1958: 100%|██████████| 901/901 [00:04<00:00, 182.42it/s]\n",
      "Training Epoch 1959: 100%|██████████| 901/901 [00:05<00:00, 179.24it/s]\n",
      "Training Epoch 1960: 100%|██████████| 901/901 [00:05<00:00, 177.63it/s]\n",
      "Training Epoch 1961: 100%|██████████| 901/901 [00:05<00:00, 177.89it/s]\n"
     ]
    },
    {
     "name": "stdout",
     "output_type": "stream",
     "text": [
      "Epoch 1960 - Train Loss: 0.0547, Train MSE: 0.0547, Train MAE: 0.1772\n",
      "Epoch 1960 - Validation Loss: 0.6813, Validation MSE: 0.6813, Validation MAE: 0.6056\n"
     ]
    },
    {
     "name": "stderr",
     "output_type": "stream",
     "text": [
      "Training Epoch 1962: 100%|██████████| 901/901 [00:05<00:00, 178.41it/s]\n",
      "Training Epoch 1963: 100%|██████████| 901/901 [00:05<00:00, 177.62it/s]\n",
      "Training Epoch 1964: 100%|██████████| 901/901 [00:05<00:00, 179.40it/s]\n",
      "Training Epoch 1965: 100%|██████████| 901/901 [00:05<00:00, 178.75it/s]\n",
      "Training Epoch 1966: 100%|██████████| 901/901 [00:05<00:00, 177.31it/s]\n",
      "Training Epoch 1967: 100%|██████████| 901/901 [00:05<00:00, 179.64it/s]\n",
      "Training Epoch 1968: 100%|██████████| 901/901 [00:05<00:00, 178.89it/s]\n",
      "Training Epoch 1969: 100%|██████████| 901/901 [00:05<00:00, 178.58it/s]\n",
      "Training Epoch 1970: 100%|██████████| 901/901 [00:04<00:00, 184.38it/s]\n",
      "Training Epoch 1971: 100%|██████████| 901/901 [00:05<00:00, 177.21it/s]\n"
     ]
    },
    {
     "name": "stdout",
     "output_type": "stream",
     "text": [
      "Epoch 1970 - Train Loss: 0.0535, Train MSE: 0.0535, Train MAE: 0.1763\n",
      "Epoch 1970 - Validation Loss: 0.6759, Validation MSE: 0.6759, Validation MAE: 0.6043\n"
     ]
    },
    {
     "name": "stderr",
     "output_type": "stream",
     "text": [
      "Training Epoch 1972: 100%|██████████| 901/901 [00:05<00:00, 178.56it/s]\n",
      "Training Epoch 1973: 100%|██████████| 901/901 [00:05<00:00, 178.61it/s]\n",
      "Training Epoch 1974: 100%|██████████| 901/901 [00:05<00:00, 177.53it/s]\n",
      "Training Epoch 1975: 100%|██████████| 901/901 [00:05<00:00, 176.98it/s]\n",
      "Training Epoch 1976: 100%|██████████| 901/901 [00:04<00:00, 180.70it/s]\n",
      "Training Epoch 1977: 100%|██████████| 901/901 [00:05<00:00, 179.76it/s]\n",
      "Training Epoch 1978: 100%|██████████| 901/901 [00:04<00:00, 181.46it/s]\n",
      "Training Epoch 1979: 100%|██████████| 901/901 [00:04<00:00, 180.23it/s]\n",
      "Training Epoch 1980: 100%|██████████| 901/901 [00:05<00:00, 176.89it/s]\n",
      "Training Epoch 1981: 100%|██████████| 901/901 [00:05<00:00, 179.27it/s]\n"
     ]
    },
    {
     "name": "stdout",
     "output_type": "stream",
     "text": [
      "Epoch 1980 - Train Loss: 0.0539, Train MSE: 0.0539, Train MAE: 0.1760\n",
      "Epoch 1980 - Validation Loss: 0.6745, Validation MSE: 0.6745, Validation MAE: 0.6040\n"
     ]
    },
    {
     "name": "stderr",
     "output_type": "stream",
     "text": [
      "Training Epoch 1982: 100%|██████████| 901/901 [00:04<00:00, 180.87it/s]\n",
      "Training Epoch 1983: 100%|██████████| 901/901 [00:05<00:00, 178.99it/s]\n",
      "Training Epoch 1984: 100%|██████████| 901/901 [00:05<00:00, 175.84it/s]\n",
      "Training Epoch 1985: 100%|██████████| 901/901 [00:05<00:00, 178.87it/s]\n",
      "Training Epoch 1986: 100%|██████████| 901/901 [00:05<00:00, 177.83it/s]\n",
      "Training Epoch 1987: 100%|██████████| 901/901 [00:05<00:00, 178.24it/s]\n",
      "Training Epoch 1988: 100%|██████████| 901/901 [00:04<00:00, 181.38it/s]\n",
      "Training Epoch 1989: 100%|██████████| 901/901 [00:05<00:00, 177.24it/s]\n",
      "Training Epoch 1990: 100%|██████████| 901/901 [00:05<00:00, 175.68it/s]\n",
      "Training Epoch 1991: 100%|██████████| 901/901 [00:05<00:00, 178.04it/s]\n"
     ]
    },
    {
     "name": "stdout",
     "output_type": "stream",
     "text": [
      "Epoch 1990 - Train Loss: 0.0530, Train MSE: 0.0530, Train MAE: 0.1749\n",
      "Epoch 1990 - Validation Loss: 0.6751, Validation MSE: 0.6751, Validation MAE: 0.6035\n"
     ]
    },
    {
     "name": "stderr",
     "output_type": "stream",
     "text": [
      "Training Epoch 1992: 100%|██████████| 901/901 [00:05<00:00, 176.94it/s]\n",
      "Training Epoch 1993: 100%|██████████| 901/901 [00:05<00:00, 176.22it/s]\n",
      "Training Epoch 1994: 100%|██████████| 901/901 [00:04<00:00, 180.87it/s]\n",
      "Training Epoch 1995: 100%|██████████| 901/901 [00:05<00:00, 179.79it/s]\n",
      "Training Epoch 1996: 100%|██████████| 901/901 [00:05<00:00, 179.02it/s]\n",
      "Training Epoch 1997: 100%|██████████| 901/901 [00:04<00:00, 180.56it/s]\n",
      "Training Epoch 1998: 100%|██████████| 901/901 [00:05<00:00, 178.87it/s]\n",
      "Training Epoch 1999: 100%|██████████| 901/901 [00:05<00:00, 180.12it/s]\n",
      "Training Epoch 2000: 100%|██████████| 901/901 [00:04<00:00, 182.28it/s]\n"
     ]
    },
    {
     "name": "stdout",
     "output_type": "stream",
     "text": [
      "Test MSE: 0.7071, Test MAE: 0.6151\n"
     ]
    }
   ],
   "source": [
    "import torch\n",
    "import torch.nn as nn\n",
    "import torch.optim as optim\n",
    "from tqdm import tqdm\n",
    "import pandas as pd\n",
    "from sklearn.metrics import r2_score, median_absolute_error, explained_variance_score\n",
    "from scipy.stats import pearsonr\n",
    "\n",
    "\n",
    "train_history = pd.DataFrame(columns=[  'epoch',\n",
    "    'Train Loss', 'Train MSE', 'Train MAE', 'Train RMSE', 'Train R2', 'Train Pearson', 'Train Median_AE', 'Train Explained_VAR'\n",
    "    'Val Loss', 'Val MSE', 'Val MAE', 'Val RMSE', 'Val R2', 'Val Pearson', 'Val Median_AE', 'Val Explained_VAR'])\n",
    "# Verify feature dimensions\n",
    "for batch in train_loader:\n",
    "    mol_input_dim = batch['metabolite_features'].shape[1]  # Dynamically determine mol input dimension\n",
    "    protein_input_dim = batch['protein_features'].shape[1]  # Dynamically determine protein input dimension\n",
    "    break\n",
    "\n",
    "# Initialize model, optimizer, and loss function\n",
    "model = MLPRegressor(mol_input_dim=mol_input_dim, protein_input_dim=protein_input_dim,hidden_dim=512)\n",
    "model = model.to(device)\n",
    "optimizer = optim.Adam(model.parameters(), lr=0.0001)\n",
    "criterion = nn.MSELoss()\n",
    "\n",
    "# Training and Validation Loop\n",
    "for epoch in range(2000):\n",
    "    model.train()\n",
    "    total_loss = 0.0\n",
    "    val_total_loss = 0.0\n",
    "    train_predictions, train_labels = [], []\n",
    "\n",
    "    for batch in tqdm(train_loader, desc=f\"Training Epoch {epoch + 1}\"):\n",
    "        mol_features = batch['metabolite_features'].to(device)\n",
    "        protein_features = batch['protein_features'].to(device)\n",
    "        labels = batch['label'].to(device)\n",
    "\n",
    "        optimizer.zero_grad()\n",
    "        outputs = model(mol_features, protein_features)\n",
    "        loss = criterion(outputs, labels)\n",
    "        loss.backward()\n",
    "        optimizer.step()\n",
    "        total_loss += loss.item()\n",
    "\n",
    "        # Store predictions and labels for metrics\n",
    "        train_predictions.extend(outputs.detach().cpu().numpy())\n",
    "        train_labels.extend(labels.cpu().numpy())\n",
    "\n",
    "    # Calculate training metrics\n",
    "    train_mse = ((torch.tensor(train_predictions) - torch.tensor(train_labels))**2).mean().item()\n",
    "    train_mae = torch.abs(torch.tensor(train_predictions) - torch.tensor(train_labels)).mean().item()\n",
    "    train_rmse = torch.sqrt((torch.tensor(train_predictions) - torch.tensor(train_labels)) ** 2).mean().item()\n",
    "    train_r2 = r2_score(np.array(train_labels), np.array(train_predictions))\n",
    "    train_pearson_corr, _ = pearsonr(np.array(train_labels), np.array(train_predictions))\n",
    "    train_median_ae = median_absolute_error(np.array(train_labels), np.array(train_predictions))\n",
    "    train_explained_var = explained_variance_score(np.array(train_labels), np.array(train_predictions))\n",
    "\n",
    "\n",
    "\n",
    "    if epoch % 10 == 0:\n",
    "        print(f\"Epoch {epoch} - Train Loss: {total_loss / len(train_loader):.4f}, Train MSE: {train_mse:.4f}, Train MAE: {train_mae:.4f}\")\n",
    "\n",
    "    # Validation\n",
    "    model.eval()\n",
    "    val_predictions, val_labels = [], []\n",
    "    with torch.no_grad():\n",
    "        for batch in val_loader:\n",
    "            mol_features = batch['metabolite_features'].to(device)\n",
    "            protein_features = batch['protein_features'].to(device)\n",
    "            labels = batch['label'].to(device)\n",
    "\n",
    "            outputs = model(mol_features, protein_features)\n",
    "            val_predictions.extend(outputs.cpu().numpy())\n",
    "            val_labels.extend(labels.cpu().numpy())\n",
    "            val_loss = criterion(outputs, labels)\n",
    "            val_total_loss += val_loss.item()\n",
    "\n",
    "    val_mse = ((torch.tensor(val_predictions) - torch.tensor(val_labels))**2).mean().item()\n",
    "    val_mae = torch.abs(torch.tensor(val_predictions) - torch.tensor(val_labels)).mean().item()\n",
    "    val_rmse = torch.sqrt((torch.tensor(val_predictions) - torch.tensor(val_labels)) ** 2).mean().item()\n",
    "    val_r2 = r2_score(np.array(val_labels), np.array(val_predictions))\n",
    "    val_pearson_corr, _ = pearsonr(np.array(val_labels), np.array(val_predictions))\n",
    "    val_median_ae = median_absolute_error(np.array(val_labels), np.array(val_predictions))\n",
    "    val_explained_var = explained_variance_score(np.array(val_labels), np.array(val_predictions))\n",
    "\n",
    "    if epoch % 10 == 0:\n",
    "        print(f\"Epoch {epoch} - Validation Loss: {val_total_loss / len(val_loader):.4f}, Validation MSE: {val_mse:.4f}, Validation MAE: {val_mae:.4f}\")\n",
    "\n",
    "    # Save metrics to DataFrame\n",
    "    new_row = {'epoch': epoch + 1, 'Train Loss': total_loss / len(train_loader), 'Train MSE': train_mse, 'Train MAE': train_mae, 'Train RMSE': train_rmse, 'Train R2': train_r2, 'Train Pearson': train_pearson_corr, 'Train Median_AE': train_median_ae, 'Train Explained_VAR': train_explained_var, \n",
    "               'Val Loss': val_total_loss / len(val_loader), 'Val MSE': val_mse, 'Val MAE': val_mae, 'Val RMSE': val_rmse, 'Val R2': val_r2, 'Val Pearson': val_pearson_corr, 'Val Median_AE': val_median_ae, 'Val Explained_VAR': val_explained_var}\n",
    "    train_history = pd.concat([train_history, pd.DataFrame([new_row])], ignore_index=True)\n",
    "\n",
    "\n"
   ]
  },
  {
   "cell_type": "code",
   "execution_count": 8,
   "metadata": {},
   "outputs": [],
   "source": [
    "for batch in train_loader:\n",
    "    mol_input_dim = batch['metabolite_features'].shape[1]  # Dynamically determine mol input dimension\n",
    "    protein_input_dim = batch['protein_features'].shape[1]  # Dynamically determine protein input dimension\n",
    "    break\n",
    "\n",
    "model = MLPRegressor(mol_input_dim=mol_input_dim, protein_input_dim=protein_input_dim, hidden_dim=512)\n",
    "model.load_state_dict(torch.load('/Users/pinchichen/2025S lab/AI drug project/Catpred/Km/trained_model/random_split/MLP model_Catpred_Km.pt'))\n",
    "model = model.to(device)"
   ]
  },
  {
   "cell_type": "code",
   "execution_count": 10,
   "metadata": {},
   "outputs": [
    {
     "name": "stdout",
     "output_type": "stream",
     "text": [
      "Test MSE: 0.7071, Test RMSE: 0.840864936, Test MAE: 0.6151, Test R2: 0.5708, Test Pearson Correlation: 0.7579, Test Median AE: 0.4459, Test Explained Variance: 0.5714\n"
     ]
    }
   ],
   "source": [
    "from sklearn.metrics import mean_squared_error,mean_absolute_error,r2_score, median_absolute_error, explained_variance_score\n",
    "from scipy.stats import pearsonr\n",
    "# Test Metrics\n",
    "model.eval()\n",
    "test_predictions, test_labels = [], []\n",
    "with torch.no_grad():\n",
    "    for batch in test_loader:\n",
    "        mol_features = batch['metabolite_features'].to(device)\n",
    "        protein_features = batch['protein_features'].to(device)\n",
    "        labels = batch['label'].to(device)\n",
    "\n",
    "        outputs = model(mol_features, protein_features)\n",
    "        test_predictions.extend(outputs.cpu().numpy())\n",
    "        test_labels.extend(labels.cpu().numpy())\n",
    "\n",
    "test_mse = ((torch.tensor(test_predictions) - torch.tensor(test_labels))**2).mean().item()\n",
    "test_mae = torch.abs(torch.tensor(test_predictions) - torch.tensor(test_labels)).mean().item()\n",
    "test_rmse = np.sqrt(test_mse)\n",
    "test_r2 = r2_score(np.array(test_labels), np.array(test_predictions))\n",
    "test_pearson_corr, _ = pearsonr(np.array(test_labels), np.array(test_predictions))\n",
    "test_median_ae = median_absolute_error(np.array(test_labels), np.array(test_predictions))\n",
    "test_explained_var = explained_variance_score(np.array(test_labels), np.array(test_predictions))\n",
    "\n",
    "print(f\"Test MSE: {test_mse:.4f}, Test RMSE: {test_rmse:.9f}, Test MAE: {test_mae:.4f}, Test R2: {test_r2:.4f}, Test Pearson Correlation: {test_pearson_corr:.4f}, Test Median AE: {test_median_ae:.4f}, Test Explained Variance: {test_explained_var:.4f}\")\n"
   ]
  },
  {
   "cell_type": "code",
   "execution_count": 10,
   "metadata": {},
   "outputs": [],
   "source": [
    "\n",
    "def evaluate_model(predictions, labels):\n",
    "    mse = mean_squared_error(labels, predictions)\n",
    "    rmse = np.sqrt(mse)\n",
    "    mae = mean_absolute_error(labels, predictions)\n",
    "    r2 = r2_score(labels, predictions)\n",
    "    pearson_corr, _ = pearsonr(labels, predictions)\n",
    "    medae = median_absolute_error(labels, predictions)\n",
    "    evs = explained_variance_score(labels, predictions)\n",
    "\n",
    "    return mse, rmse, mae, r2, pearson_corr, medae, evs"
   ]
  },
  {
   "cell_type": "code",
   "execution_count": 11,
   "metadata": {},
   "outputs": [],
   "source": [
    "model.eval()\n",
    "train_pred, train_labels = [], []\n",
    "with torch.no_grad():\n",
    "    for batch in train_loader:\n",
    "        mol_features = batch['metabolite_features'].to(device)\n",
    "        protein_features = batch['protein_features'].to(device)\n",
    "        labels = batch['label'].to(device)\n",
    "\n",
    "        outputs = model(mol_features, protein_features)\n",
    "        train_pred.extend(outputs.cpu().numpy())\n",
    "        train_labels.extend(labels.cpu().numpy())\n",
    "\n",
    "train_mse, train_rmse, train_mae, train_r2, train_pearson_corr, train_median_ae, train_explained_var = evaluate_model(train_pred, train_labels)"
   ]
  },
  {
   "cell_type": "code",
   "execution_count": 12,
   "metadata": {},
   "outputs": [],
   "source": [
    "model.eval()\n",
    "val_pred, val_labels = [], []\n",
    "with torch.no_grad():\n",
    "    for batch in val_loader:\n",
    "        mol_features = batch['metabolite_features'].to(device)\n",
    "        protein_features = batch['protein_features'].to(device)\n",
    "        labels = batch['label'].to(device)\n",
    "\n",
    "        outputs = model(mol_features, protein_features)\n",
    "        val_pred.extend(outputs.cpu().numpy())\n",
    "        val_labels.extend(labels.cpu().numpy())\n",
    "\n",
    "val_mse, val_rmse, val_mae, val_r2, val_pearson_corr, val_median_ae, val_explained_var = evaluate_model(val_pred, val_labels)\n"
   ]
  },
  {
   "cell_type": "code",
   "execution_count": 13,
   "metadata": {},
   "outputs": [],
   "source": [
    "# append the performance to the csv file\n",
    "df = {\n",
    "    'Model':['MLP','MLP','MLP'],\n",
    "    'Dataset':['Train','Validation','Test'],\n",
    "    'MSE':[train_mse,val_mse,test_mse],\n",
    "    'RMSE':[train_rmse,val_rmse,test_rmse],\n",
    "    'MAE':[train_mae,val_mae,test_mae],\n",
    "    'R2':[train_r2,val_r2,test_r2],\n",
    "    'Pearson':[train_pearson_corr,val_pearson_corr,test_pearson_corr],\n",
    "    'Median_AE':[train_median_ae,val_median_ae,test_median_ae],\n",
    "    'Explained_VAR':[train_explained_var,val_explained_var,test_explained_var],\n",
    "    'Dataspliting Mode':['random','random','random']\n",
    "}\n",
    "df = pd.DataFrame(df)\n",
    "\n",
    "df.to_csv('/Users/pinchichen/2025S lab/AI drug project/Catpred/Km/model performance metrics_Catpred_Km.csv', mode='a', header=False)"
   ]
  },
  {
   "cell_type": "code",
   "execution_count": 10,
   "metadata": {},
   "outputs": [],
   "source": [
    "# Save the model and training history\n",
    "save_dir = '/Users/pinchichen/2025S lab/AI drug project/Catpred/Km/trained_model/random_split'\n",
    "# save model weights and optimizer state\n",
    "torch.save(model.state_dict(), os.path.join(save_dir, 'MLP model_Catpred_Km.pt'))\n",
    "torch.save(optimizer.state_dict(), os.path.join(save_dir, 'MLP optimizer_Catpred_Km.pt'))"
   ]
  },
  {
   "cell_type": "code",
   "execution_count": 11,
   "metadata": {},
   "outputs": [
    {
     "data": {
      "image/png": "[encoded data removed]",
      "text/plain": [
       "<Figure size 1000x600 with 1 Axes>"
      ]
     },
     "metadata": {},
     "output_type": "display_data"
    }
   ],
   "source": [
    "import matplotlib.pyplot as plt\n",
    "import seaborn as sns\n",
    "sns.set(style='ticks')\n",
    "# Load metrics\n",
    "\n",
    "metrics = train_history\n",
    "\n",
    "# Plot the training loss over epochs using seaborn\n",
    "plt.figure(figsize=(10, 6))\n",
    "# sns.lineplot(data=metrics, x='epoch', y='Train Loss', label='Train Loss')\n",
    "# sns.lineplot(data=metrics, x='epoch', y='Val Loss', label='Val Loss')\n",
    "sns.lineplot(data=metrics, x='epoch', y='Val MSE', label='Valid_RMSE')\n",
    "sns.lineplot(data=metrics, x='epoch', y='Train MSE', label='Train_RMSE')\n",
    "# sns.lineplot(data=metrics, x='Epoch', y='Valid_MAE', label='Valid_MAE')\n",
    "# Add titles and labels\n",
    "plt.title('Training and Validation Metrics Over Epochs', fontsize=14)\n",
    "# Define the range of tick positions\n",
    "plt.xlabel('Epoch', fontsize=12)\n",
    "plt.ylabel('Loss', fontsize=12)\n",
    "plt.grid(False)\n",
    "# Show the plot\n",
    "plt.show()\n"
   ]
  },
  {
   "cell_type": "code",
   "execution_count": 12,
   "metadata": {},
   "outputs": [
    {
     "data": {
      "text/html": [
       "<div>\n",
       "<style scoped>\n",
       "    .dataframe tbody tr th:only-of-type {\n",
       "        vertical-align: middle;\n",
       "    }\n",
       "\n",
       "    .dataframe tbody tr th {\n",
       "        vertical-align: top;\n",
       "    }\n",
       "\n",
       "    .dataframe thead th {\n",
       "        text-align: right;\n",
       "    }\n",
       "</style>\n",
       "<table border=\"1\" class=\"dataframe\">\n",
       "  <thead>\n",
       "    <tr style=\"text-align: right;\">\n",
       "      <th></th>\n",
       "      <th>epoch</th>\n",
       "      <th>Train Loss</th>\n",
       "      <th>Train MSE</th>\n",
       "      <th>Train MAE</th>\n",
       "      <th>Train RMSE</th>\n",
       "      <th>Train R2</th>\n",
       "      <th>Train Pearson</th>\n",
       "      <th>Train Median_AE</th>\n",
       "      <th>Train Explained_VARVal Loss</th>\n",
       "      <th>Val MSE</th>\n",
       "      <th>Val MAE</th>\n",
       "      <th>Val RMSE</th>\n",
       "      <th>Val R2</th>\n",
       "      <th>Val Pearson</th>\n",
       "      <th>Val Median_AE</th>\n",
       "      <th>Val Explained_VAR</th>\n",
       "      <th>Train Explained_VAR</th>\n",
       "      <th>Val Loss</th>\n",
       "    </tr>\n",
       "  </thead>\n",
       "  <tbody>\n",
       "    <tr>\n",
       "      <th>1995</th>\n",
       "      <td>1996</td>\n",
       "      <td>0.052670</td>\n",
       "      <td>0.052667</td>\n",
       "      <td>0.174810</td>\n",
       "      <td>0.174810</td>\n",
       "      <td>0.967589</td>\n",
       "      <td>0.983661</td>\n",
       "      <td>0.140034</td>\n",
       "      <td>NaN</td>\n",
       "      <td>0.676258</td>\n",
       "      <td>0.603112</td>\n",
       "      <td>0.603112</td>\n",
       "      <td>0.569329</td>\n",
       "      <td>0.756895</td>\n",
       "      <td>0.453431</td>\n",
       "      <td>0.569440</td>\n",
       "      <td>0.967589</td>\n",
       "      <td>0.676258</td>\n",
       "    </tr>\n",
       "    <tr>\n",
       "      <th>1996</th>\n",
       "      <td>1997</td>\n",
       "      <td>0.053748</td>\n",
       "      <td>0.053740</td>\n",
       "      <td>0.175390</td>\n",
       "      <td>0.175390</td>\n",
       "      <td>0.966929</td>\n",
       "      <td>0.983326</td>\n",
       "      <td>0.140685</td>\n",
       "      <td>NaN</td>\n",
       "      <td>0.676109</td>\n",
       "      <td>0.603590</td>\n",
       "      <td>0.603590</td>\n",
       "      <td>0.569425</td>\n",
       "      <td>0.756628</td>\n",
       "      <td>0.451484</td>\n",
       "      <td>0.569564</td>\n",
       "      <td>0.966929</td>\n",
       "      <td>0.676109</td>\n",
       "    </tr>\n",
       "    <tr>\n",
       "      <th>1997</th>\n",
       "      <td>1998</td>\n",
       "      <td>0.053484</td>\n",
       "      <td>0.053473</td>\n",
       "      <td>0.175043</td>\n",
       "      <td>0.175043</td>\n",
       "      <td>0.967093</td>\n",
       "      <td>0.983409</td>\n",
       "      <td>0.138513</td>\n",
       "      <td>NaN</td>\n",
       "      <td>0.676864</td>\n",
       "      <td>0.603125</td>\n",
       "      <td>0.603125</td>\n",
       "      <td>0.568944</td>\n",
       "      <td>0.756674</td>\n",
       "      <td>0.450177</td>\n",
       "      <td>0.569177</td>\n",
       "      <td>0.967093</td>\n",
       "      <td>0.676864</td>\n",
       "    </tr>\n",
       "    <tr>\n",
       "      <th>1998</th>\n",
       "      <td>1999</td>\n",
       "      <td>0.052791</td>\n",
       "      <td>0.052789</td>\n",
       "      <td>0.173998</td>\n",
       "      <td>0.173998</td>\n",
       "      <td>0.967514</td>\n",
       "      <td>0.983623</td>\n",
       "      <td>0.138835</td>\n",
       "      <td>NaN</td>\n",
       "      <td>0.680059</td>\n",
       "      <td>0.604143</td>\n",
       "      <td>0.604143</td>\n",
       "      <td>0.566909</td>\n",
       "      <td>0.755727</td>\n",
       "      <td>0.445884</td>\n",
       "      <td>0.566948</td>\n",
       "      <td>0.967514</td>\n",
       "      <td>0.680058</td>\n",
       "    </tr>\n",
       "    <tr>\n",
       "      <th>1999</th>\n",
       "      <td>2000</td>\n",
       "      <td>0.053765</td>\n",
       "      <td>0.053753</td>\n",
       "      <td>0.175155</td>\n",
       "      <td>0.175155</td>\n",
       "      <td>0.966921</td>\n",
       "      <td>0.983322</td>\n",
       "      <td>0.139318</td>\n",
       "      <td>NaN</td>\n",
       "      <td>0.675381</td>\n",
       "      <td>0.603586</td>\n",
       "      <td>0.603586</td>\n",
       "      <td>0.569888</td>\n",
       "      <td>0.756871</td>\n",
       "      <td>0.451233</td>\n",
       "      <td>0.570915</td>\n",
       "      <td>0.966922</td>\n",
       "      <td>0.675381</td>\n",
       "    </tr>\n",
       "  </tbody>\n",
       "</table>\n",
       "</div>"
      ],
      "text/plain": [
       "     epoch  Train Loss  Train MSE  Train MAE  Train RMSE  Train R2  \\\n",
       "1995  1996    0.052670   0.052667   0.174810    0.174810  0.967589   \n",
       "1996  1997    0.053748   0.053740   0.175390    0.175390  0.966929   \n",
       "1997  1998    0.053484   0.053473   0.175043    0.175043  0.967093   \n",
       "1998  1999    0.052791   0.052789   0.173998    0.173998  0.967514   \n",
       "1999  2000    0.053765   0.053753   0.175155    0.175155  0.966921   \n",
       "\n",
       "      Train Pearson  Train Median_AE Train Explained_VARVal Loss   Val MSE  \\\n",
       "1995       0.983661         0.140034                         NaN  0.676258   \n",
       "1996       0.983326         0.140685                         NaN  0.676109   \n",
       "1997       0.983409         0.138513                         NaN  0.676864   \n",
       "1998       0.983623         0.138835                         NaN  0.680059   \n",
       "1999       0.983322         0.139318                         NaN  0.675381   \n",
       "\n",
       "       Val MAE  Val RMSE    Val R2  Val Pearson  Val Median_AE  \\\n",
       "1995  0.603112  0.603112  0.569329     0.756895       0.453431   \n",
       "1996  0.603590  0.603590  0.569425     0.756628       0.451484   \n",
       "1997  0.603125  0.603125  0.568944     0.756674       0.450177   \n",
       "1998  0.604143  0.604143  0.566909     0.755727       0.445884   \n",
       "1999  0.603586  0.603586  0.569888     0.756871       0.451233   \n",
       "\n",
       "      Val Explained_VAR  Train Explained_VAR  Val Loss  \n",
       "1995           0.569440             0.967589  0.676258  \n",
       "1996           0.569564             0.966929  0.676109  \n",
       "1997           0.569177             0.967093  0.676864  \n",
       "1998           0.566948             0.967514  0.680058  \n",
       "1999           0.570915             0.966922  0.675381  "
      ]
     },
     "execution_count": 12,
     "metadata": {},
     "output_type": "execute_result"
    }
   ],
   "source": [
    "train_history.tail()"
   ]
  },
  {
   "cell_type": "code",
   "execution_count": 13,
   "metadata": {},
   "outputs": [
    {
     "data": {
      "image/png": "[encoded data removed]",
      "text/plain": [
       "<Figure size 640x480 with 1 Axes>"
      ]
     },
     "metadata": {},
     "output_type": "display_data"
    }
   ],
   "source": [
    "# Plot the performance\n",
    "import matplotlib.pyplot as plt\n",
    "\n",
    "plt.scatter(test_labels, test_predictions, alpha=0.5)\n",
    "plt.xlabel(\"True Reactivity\")\n",
    "plt.ylabel(\"Predicted Reactivity\")\n",
    "plt.title(\"CNN Predictions vs True Values\")\n",
    "plt.plot([min(test_labels), max(test_labels)], [min(test_labels), max(test_labels)], 'r--')\n",
    "plt.show()\n"
   ]
  }
 ],
 "metadata": {
  "kernelspec": {
   "display_name": "base",
   "language": "python",
   "name": "python3"
  },
  "language_info": {
   "codemirror_mode": {
    "name": "ipython",
    "version": 3
   },
   "file_extension": ".py",
   "mimetype": "text/x-python",
   "name": "python",
   "nbconvert_exporter": "python",
   "pygments_lexer": "ipython3",
   "version": "3.12.2"
  }
 },
 "nbformat": 4,
 "nbformat_minor": 2
}
