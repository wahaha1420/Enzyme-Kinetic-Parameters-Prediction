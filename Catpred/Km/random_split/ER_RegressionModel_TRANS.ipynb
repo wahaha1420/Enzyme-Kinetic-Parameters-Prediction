{
 "cells": [
  {
   "cell_type": "code",
   "execution_count": 1,
   "metadata": {},
   "outputs": [],
   "source": [
    "import pandas as pd\n",
    "import numpy as np\n",
    "from tqdm import tqdm\n",
    "import torch\n",
    "import torch.nn as nn\n",
    "import torch.optim as optim\n",
    "from torch.utils.data import DataLoader, Dataset\n",
    "from sklearn.metrics import roc_auc_score\n",
    "from sklearn.model_selection import train_test_split\n",
    "import os\n"
   ]
  },
  {
   "cell_type": "code",
   "execution_count": 2,
   "metadata": {},
   "outputs": [
    {
     "data": {
      "text/html": [
       "<div>\n",
       "<style scoped>\n",
       "    .dataframe tbody tr th:only-of-type {\n",
       "        vertical-align: middle;\n",
       "    }\n",
       "\n",
       "    .dataframe tbody tr th {\n",
       "        vertical-align: top;\n",
       "    }\n",
       "\n",
       "    .dataframe thead th {\n",
       "        text-align: right;\n",
       "    }\n",
       "</style>\n",
       "<table border=\"1\" class=\"dataframe\">\n",
       "  <thead>\n",
       "    <tr style=\"text-align: right;\">\n",
       "      <th></th>\n",
       "      <th>Sequence</th>\n",
       "      <th>sequence_source</th>\n",
       "      <th>uniprot</th>\n",
       "      <th>Smiles</th>\n",
       "      <th>value</th>\n",
       "      <th>ec</th>\n",
       "      <th>taxonomy_id</th>\n",
       "      <th>log10_value</th>\n",
       "      <th>log10km_mean</th>\n",
       "      <th>metabolite_features</th>\n",
       "      <th>protein_features</th>\n",
       "    </tr>\n",
       "  </thead>\n",
       "  <tbody>\n",
       "    <tr>\n",
       "      <th>0</th>\n",
       "      <td>MGQEKLYIEKELSWLSFNERVLQEAADKSNPLIERMRFLGIYSNNL...</td>\n",
       "      <td>sabio</td>\n",
       "      <td>P0A7B1</td>\n",
       "      <td>Nc1nc2c(ncn2C2OC(COP(=O)(O)OP(=O)(O)O)C(O)C2O)...</td>\n",
       "      <td>0.6300</td>\n",
       "      <td>2.7.4.1</td>\n",
       "      <td>562</td>\n",
       "      <td>-0.200659</td>\n",
       "      <td>-0.200659</td>\n",
       "      <td>[0.25370342, -0.3417107, -0.28024313, -0.04292...</td>\n",
       "      <td>[-0.06592023, -0.062496405, -0.012068139, 0.06...</td>\n",
       "    </tr>\n",
       "    <tr>\n",
       "      <th>1</th>\n",
       "      <td>MSQQPHTEQFPKNQPPLAERLASARQLVTKAISAVPPHPEPLPSPN...</td>\n",
       "      <td>brenda</td>\n",
       "      <td>A0A0S2SWE4</td>\n",
       "      <td>CC/C=C\\C/C=C\\C/C=C\\CCCCCCCC(=O)O</td>\n",
       "      <td>0.0264</td>\n",
       "      <td>1.13.11.60</td>\n",
       "      <td>474922</td>\n",
       "      <td>-1.578396</td>\n",
       "      <td>-1.553572</td>\n",
       "      <td>[0.61067283, 0.46248585, -0.051634412, -0.7397...</td>\n",
       "      <td>[0.16962084, -0.09671225, 0.116663285, 0.05065...</td>\n",
       "    </tr>\n",
       "    <tr>\n",
       "      <th>2</th>\n",
       "      <td>MSAAADRLNLTSGHLNAGRKRSSSSVSLKAVEKPFKVTVIGSGNWG...</td>\n",
       "      <td>uniprot_search</td>\n",
       "      <td>A0A060KZ16</td>\n",
       "      <td>O=C(CO)COP(=O)(O)O</td>\n",
       "      <td>0.6100</td>\n",
       "      <td>1.1.1.8</td>\n",
       "      <td>114524</td>\n",
       "      <td>-0.214670</td>\n",
       "      <td>-0.214670</td>\n",
       "      <td>[0.29938427, -0.0972216, -0.3334697, -0.721026...</td>\n",
       "      <td>[0.0933136, -0.117130496, 0.0676241, 0.0187789...</td>\n",
       "    </tr>\n",
       "    <tr>\n",
       "      <th>3</th>\n",
       "      <td>MLAEKTRSIIKATVPVLEQQGTVITRTFYKNMLTEHTELLNIFNRT...</td>\n",
       "      <td>sabio</td>\n",
       "      <td>P39676</td>\n",
       "      <td>NC(=O)C1=CN(C2OC(COP(=O)(O)OP(=O)(O)OCC3OC(n4c...</td>\n",
       "      <td>0.0280</td>\n",
       "      <td>1.14.12.17</td>\n",
       "      <td>4932</td>\n",
       "      <td>-1.552842</td>\n",
       "      <td>-1.552842</td>\n",
       "      <td>[0.639636, -0.14536878, -0.52627945, 0.1240742...</td>\n",
       "      <td>[-0.02827879, -0.04372119, 0.03182794, 0.19197...</td>\n",
       "    </tr>\n",
       "    <tr>\n",
       "      <th>4</th>\n",
       "      <td>MASAERVPVSFNKPGRVPFGEVQGYAPGHIPAYSNKHDHFFSGERS...</td>\n",
       "      <td>uniprot_search</td>\n",
       "      <td>O60993</td>\n",
       "      <td>Nc1ncnc2c1ncn2[C@H]1O[C@H](COP(=O)([O-])OP(=O)...</td>\n",
       "      <td>0.4000</td>\n",
       "      <td>6.3.1.9</td>\n",
       "      <td>5656</td>\n",
       "      <td>-0.397940</td>\n",
       "      <td>-0.397940</td>\n",
       "      <td>[0.25855744, 0.43888408, -0.7136499, 0.0234168...</td>\n",
       "      <td>[0.074476704, -0.050253637, 0.05497695, 0.1402...</td>\n",
       "    </tr>\n",
       "  </tbody>\n",
       "</table>\n",
       "</div>"
      ],
      "text/plain": [
       "                                            Sequence sequence_source  \\\n",
       "0  MGQEKLYIEKELSWLSFNERVLQEAADKSNPLIERMRFLGIYSNNL...           sabio   \n",
       "1  MSQQPHTEQFPKNQPPLAERLASARQLVTKAISAVPPHPEPLPSPN...          brenda   \n",
       "2  MSAAADRLNLTSGHLNAGRKRSSSSVSLKAVEKPFKVTVIGSGNWG...  uniprot_search   \n",
       "3  MLAEKTRSIIKATVPVLEQQGTVITRTFYKNMLTEHTELLNIFNRT...           sabio   \n",
       "4  MASAERVPVSFNKPGRVPFGEVQGYAPGHIPAYSNKHDHFFSGERS...  uniprot_search   \n",
       "\n",
       "      uniprot                                             Smiles   value  \\\n",
       "0      P0A7B1  Nc1nc2c(ncn2C2OC(COP(=O)(O)OP(=O)(O)O)C(O)C2O)...  0.6300   \n",
       "1  A0A0S2SWE4                   CC/C=C\\C/C=C\\C/C=C\\CCCCCCCC(=O)O  0.0264   \n",
       "2  A0A060KZ16                                 O=C(CO)COP(=O)(O)O  0.6100   \n",
       "3      P39676  NC(=O)C1=CN(C2OC(COP(=O)(O)OP(=O)(O)OCC3OC(n4c...  0.0280   \n",
       "4      O60993  Nc1ncnc2c1ncn2[C@H]1O[C@H](COP(=O)([O-])OP(=O)...  0.4000   \n",
       "\n",
       "           ec  taxonomy_id  log10_value  log10km_mean  \\\n",
       "0     2.7.4.1          562    -0.200659     -0.200659   \n",
       "1  1.13.11.60       474922    -1.578396     -1.553572   \n",
       "2     1.1.1.8       114524    -0.214670     -0.214670   \n",
       "3  1.14.12.17         4932    -1.552842     -1.552842   \n",
       "4     6.3.1.9         5656    -0.397940     -0.397940   \n",
       "\n",
       "                                 metabolite_features  \\\n",
       "0  [0.25370342, -0.3417107, -0.28024313, -0.04292...   \n",
       "1  [0.61067283, 0.46248585, -0.051634412, -0.7397...   \n",
       "2  [0.29938427, -0.0972216, -0.3334697, -0.721026...   \n",
       "3  [0.639636, -0.14536878, -0.52627945, 0.1240742...   \n",
       "4  [0.25855744, 0.43888408, -0.7136499, 0.0234168...   \n",
       "\n",
       "                                    protein_features  \n",
       "0  [-0.06592023, -0.062496405, -0.012068139, 0.06...  \n",
       "1  [0.16962084, -0.09671225, 0.116663285, 0.05065...  \n",
       "2  [0.0933136, -0.117130496, 0.0676241, 0.0187789...  \n",
       "3  [-0.02827879, -0.04372119, 0.03182794, 0.19197...  \n",
       "4  [0.074476704, -0.050253637, 0.05497695, 0.1402...  "
      ]
     },
     "execution_count": 2,
     "metadata": {},
     "output_type": "execute_result"
    }
   ],
   "source": [
    "import joblib\n",
    "import pandas as pd\n",
    "\n",
    "data_kcat = joblib.load('/Users/pinchichen/2025S lab/AI drug project/Catpred/dataset/km/km_with_features.joblib')\n",
    "data_kcat.head()"
   ]
  },
  {
   "cell_type": "code",
   "execution_count": 3,
   "metadata": {},
   "outputs": [
    {
     "data": {
      "text/html": [
       "<div>\n",
       "<style scoped>\n",
       "    .dataframe tbody tr th:only-of-type {\n",
       "        vertical-align: middle;\n",
       "    }\n",
       "\n",
       "    .dataframe tbody tr th {\n",
       "        vertical-align: top;\n",
       "    }\n",
       "\n",
       "    .dataframe thead th {\n",
       "        text-align: right;\n",
       "    }\n",
       "</style>\n",
       "<table border=\"1\" class=\"dataframe\">\n",
       "  <thead>\n",
       "    <tr style=\"text-align: right;\">\n",
       "      <th></th>\n",
       "      <th>Sequence</th>\n",
       "      <th>sequence_source</th>\n",
       "      <th>uniprot</th>\n",
       "      <th>Smiles</th>\n",
       "      <th>value</th>\n",
       "      <th>ec</th>\n",
       "      <th>taxonomy_id</th>\n",
       "      <th>log10_value</th>\n",
       "      <th>label</th>\n",
       "      <th>metabolite_features</th>\n",
       "      <th>protein_features</th>\n",
       "    </tr>\n",
       "  </thead>\n",
       "  <tbody>\n",
       "    <tr>\n",
       "      <th>0</th>\n",
       "      <td>MGQEKLYIEKELSWLSFNERVLQEAADKSNPLIERMRFLGIYSNNL...</td>\n",
       "      <td>sabio</td>\n",
       "      <td>P0A7B1</td>\n",
       "      <td>Nc1nc2c(ncn2C2OC(COP(=O)(O)OP(=O)(O)O)C(O)C2O)...</td>\n",
       "      <td>0.6300</td>\n",
       "      <td>2.7.4.1</td>\n",
       "      <td>562</td>\n",
       "      <td>-0.200659</td>\n",
       "      <td>-0.200659</td>\n",
       "      <td>[0.25370342, -0.3417107, -0.28024313, -0.04292...</td>\n",
       "      <td>[-0.06592023, -0.062496405, -0.012068139, 0.06...</td>\n",
       "    </tr>\n",
       "    <tr>\n",
       "      <th>1</th>\n",
       "      <td>MSQQPHTEQFPKNQPPLAERLASARQLVTKAISAVPPHPEPLPSPN...</td>\n",
       "      <td>brenda</td>\n",
       "      <td>A0A0S2SWE4</td>\n",
       "      <td>CC/C=C\\C/C=C\\C/C=C\\CCCCCCCC(=O)O</td>\n",
       "      <td>0.0264</td>\n",
       "      <td>1.13.11.60</td>\n",
       "      <td>474922</td>\n",
       "      <td>-1.578396</td>\n",
       "      <td>-1.553572</td>\n",
       "      <td>[0.61067283, 0.46248585, -0.051634412, -0.7397...</td>\n",
       "      <td>[0.16962084, -0.09671225, 0.116663285, 0.05065...</td>\n",
       "    </tr>\n",
       "    <tr>\n",
       "      <th>2</th>\n",
       "      <td>MSAAADRLNLTSGHLNAGRKRSSSSVSLKAVEKPFKVTVIGSGNWG...</td>\n",
       "      <td>uniprot_search</td>\n",
       "      <td>A0A060KZ16</td>\n",
       "      <td>O=C(CO)COP(=O)(O)O</td>\n",
       "      <td>0.6100</td>\n",
       "      <td>1.1.1.8</td>\n",
       "      <td>114524</td>\n",
       "      <td>-0.214670</td>\n",
       "      <td>-0.214670</td>\n",
       "      <td>[0.29938427, -0.0972216, -0.3334697, -0.721026...</td>\n",
       "      <td>[0.0933136, -0.117130496, 0.0676241, 0.0187789...</td>\n",
       "    </tr>\n",
       "    <tr>\n",
       "      <th>3</th>\n",
       "      <td>MLAEKTRSIIKATVPVLEQQGTVITRTFYKNMLTEHTELLNIFNRT...</td>\n",
       "      <td>sabio</td>\n",
       "      <td>P39676</td>\n",
       "      <td>NC(=O)C1=CN(C2OC(COP(=O)(O)OP(=O)(O)OCC3OC(n4c...</td>\n",
       "      <td>0.0280</td>\n",
       "      <td>1.14.12.17</td>\n",
       "      <td>4932</td>\n",
       "      <td>-1.552842</td>\n",
       "      <td>-1.552842</td>\n",
       "      <td>[0.639636, -0.14536878, -0.52627945, 0.1240742...</td>\n",
       "      <td>[-0.02827879, -0.04372119, 0.03182794, 0.19197...</td>\n",
       "    </tr>\n",
       "    <tr>\n",
       "      <th>4</th>\n",
       "      <td>MASAERVPVSFNKPGRVPFGEVQGYAPGHIPAYSNKHDHFFSGERS...</td>\n",
       "      <td>uniprot_search</td>\n",
       "      <td>O60993</td>\n",
       "      <td>Nc1ncnc2c1ncn2[C@H]1O[C@H](COP(=O)([O-])OP(=O)...</td>\n",
       "      <td>0.4000</td>\n",
       "      <td>6.3.1.9</td>\n",
       "      <td>5656</td>\n",
       "      <td>-0.397940</td>\n",
       "      <td>-0.397940</td>\n",
       "      <td>[0.25855744, 0.43888408, -0.7136499, 0.0234168...</td>\n",
       "      <td>[0.074476704, -0.050253637, 0.05497695, 0.1402...</td>\n",
       "    </tr>\n",
       "  </tbody>\n",
       "</table>\n",
       "</div>"
      ],
      "text/plain": [
       "                                            Sequence sequence_source  \\\n",
       "0  MGQEKLYIEKELSWLSFNERVLQEAADKSNPLIERMRFLGIYSNNL...           sabio   \n",
       "1  MSQQPHTEQFPKNQPPLAERLASARQLVTKAISAVPPHPEPLPSPN...          brenda   \n",
       "2  MSAAADRLNLTSGHLNAGRKRSSSSVSLKAVEKPFKVTVIGSGNWG...  uniprot_search   \n",
       "3  MLAEKTRSIIKATVPVLEQQGTVITRTFYKNMLTEHTELLNIFNRT...           sabio   \n",
       "4  MASAERVPVSFNKPGRVPFGEVQGYAPGHIPAYSNKHDHFFSGERS...  uniprot_search   \n",
       "\n",
       "      uniprot                                             Smiles   value  \\\n",
       "0      P0A7B1  Nc1nc2c(ncn2C2OC(COP(=O)(O)OP(=O)(O)O)C(O)C2O)...  0.6300   \n",
       "1  A0A0S2SWE4                   CC/C=C\\C/C=C\\C/C=C\\CCCCCCCC(=O)O  0.0264   \n",
       "2  A0A060KZ16                                 O=C(CO)COP(=O)(O)O  0.6100   \n",
       "3      P39676  NC(=O)C1=CN(C2OC(COP(=O)(O)OP(=O)(O)OCC3OC(n4c...  0.0280   \n",
       "4      O60993  Nc1ncnc2c1ncn2[C@H]1O[C@H](COP(=O)([O-])OP(=O)...  0.4000   \n",
       "\n",
       "           ec  taxonomy_id  log10_value     label  \\\n",
       "0     2.7.4.1          562    -0.200659 -0.200659   \n",
       "1  1.13.11.60       474922    -1.578396 -1.553572   \n",
       "2     1.1.1.8       114524    -0.214670 -0.214670   \n",
       "3  1.14.12.17         4932    -1.552842 -1.552842   \n",
       "4     6.3.1.9         5656    -0.397940 -0.397940   \n",
       "\n",
       "                                 metabolite_features  \\\n",
       "0  [0.25370342, -0.3417107, -0.28024313, -0.04292...   \n",
       "1  [0.61067283, 0.46248585, -0.051634412, -0.7397...   \n",
       "2  [0.29938427, -0.0972216, -0.3334697, -0.721026...   \n",
       "3  [0.639636, -0.14536878, -0.52627945, 0.1240742...   \n",
       "4  [0.25855744, 0.43888408, -0.7136499, 0.0234168...   \n",
       "\n",
       "                                    protein_features  \n",
       "0  [-0.06592023, -0.062496405, -0.012068139, 0.06...  \n",
       "1  [0.16962084, -0.09671225, 0.116663285, 0.05065...  \n",
       "2  [0.0933136, -0.117130496, 0.0676241, 0.0187789...  \n",
       "3  [-0.02827879, -0.04372119, 0.03182794, 0.19197...  \n",
       "4  [0.074476704, -0.050253637, 0.05497695, 0.1402...  "
      ]
     },
     "execution_count": 3,
     "metadata": {},
     "output_type": "execute_result"
    }
   ],
   "source": [
    "data_kcat.rename(columns={'log10km_mean':'label'},inplace=True)\n",
    "data_kcat.head()"
   ]
  },
  {
   "cell_type": "code",
   "execution_count": 4,
   "metadata": {},
   "outputs": [],
   "source": [
    "# Define dataset\n",
    "class MPI_Dataset(Dataset):\n",
    "    def __init__(self, dataframe):\n",
    "        self.dataframe = dataframe\n",
    "\n",
    "    def __len__(self):\n",
    "        return len(self.dataframe)\n",
    "\n",
    "    def __getitem__(self, idx):\n",
    "        row = self.dataframe.iloc[idx]\n",
    "        return {\n",
    "            'metabolite_features': torch.tensor(np.asarray(row['metabolite_features'], dtype=np.float32)),\n",
    "            'protein_features': torch.tensor(np.asarray(row['protein_features'], dtype=np.float32)),\n",
    "            'label': torch.tensor(float(row['label']), dtype=torch.float32),\n",
    "        }"
   ]
  },
  {
   "cell_type": "code",
   "execution_count": 5,
   "metadata": {},
   "outputs": [],
   "source": [
    "# Load data\n",
    "# Assuming `combined_df` is a pandas DataFrame containing all necessary columns\n",
    "train_df, temp_df = train_test_split(data_kcat, test_size=0.3, shuffle=True, random_state=42)\n",
    "val_df, test_df = train_test_split(temp_df, test_size=0.5, shuffle=True, random_state=42)\n",
    "\n",
    "train_dataset = MPI_Dataset(train_df)\n",
    "val_dataset = MPI_Dataset(val_df)\n",
    "test_dataset = MPI_Dataset(test_df)\n",
    "\n",
    "train_loader = DataLoader(train_dataset, batch_size=32, shuffle=True)\n",
    "val_loader = DataLoader(val_dataset, batch_size=32)\n",
    "test_loader = DataLoader(test_dataset, batch_size=32)"
   ]
  },
  {
   "cell_type": "code",
   "execution_count": 6,
   "metadata": {},
   "outputs": [],
   "source": [
    "import torch.nn as nn\n",
    "import torch\n",
    "import torch.nn.functional as F\n",
    "\n",
    "# Define Transformer for Regression\n",
    "# https://www.datacamp.com/tutorial/building-a-transformer-with-py-torch\n",
    "class TransformerRegressor(nn.Module):\n",
    "    def __init__(self, mol_input_dim, protein_input_dim, d_model=128, nhead=4, num_layers=2, dropout=0.1):\n",
    "        super().__init__()\n",
    "\n",
    "        # Linear projection to embedding space\n",
    "        self.mol_proj = nn.Linear(mol_input_dim, d_model)\n",
    "        self.protein_proj = nn.Linear(protein_input_dim, d_model)\n",
    "\n",
    "        # Positional encoding (learnable)\n",
    "        self.pos_embedding = nn.Parameter(torch.randn(2, d_model))  # 2 positions: [mol, protein]\n",
    "\n",
    "        # Transformer encoder\n",
    "        encoder_layer = nn.TransformerEncoderLayer(d_model=d_model, nhead=nhead, dropout=dropout, batch_first=True)\n",
    "        self.transformer = nn.TransformerEncoder(encoder_layer, num_layers=num_layers)\n",
    "\n",
    "        # Regression head\n",
    "        self.regressor = nn.Sequential(\n",
    "            nn.Linear(d_model * 2, d_model),\n",
    "            nn.ReLU(),\n",
    "            nn.Dropout(dropout),\n",
    "            nn.Linear(d_model, 1)\n",
    "        )\n",
    "\n",
    "    def forward(self, mol_input, protein_input):\n",
    "        # Project input to embedding space\n",
    "        mol_embed = self.mol_proj(mol_input).unsqueeze(1)       # shape: (B, 1, d_model)\n",
    "        protein_embed = self.protein_proj(protein_input).unsqueeze(1)  # shape: (B, 1, d_model)\n",
    "\n",
    "        # Concatenate [mol, protein] tokens → sequence length = 2\n",
    "        x = torch.cat([mol_embed, protein_embed], dim=1)  # shape: (B, 2, d_model)\n",
    "\n",
    "        # Add learnable positional encoding\n",
    "        x = x + self.pos_embedding.unsqueeze(0)  # broadcast (1, 2, d_model)\n",
    "\n",
    "        # Pass through Transformer encoder\n",
    "        encoded = self.transformer(x)  # shape: (B, 2, d_model)\n",
    "\n",
    "        # Flatten both tokens\n",
    "        flattened = encoded.view(encoded.size(0), -1)  # shape: (B, 2 * d_model)\n",
    "\n",
    "        # Regression\n",
    "        out = self.regressor(flattened)\n",
    "        return out.view(-1)"
   ]
  },
  {
   "cell_type": "code",
   "execution_count": 7,
   "metadata": {},
   "outputs": [],
   "source": [
    "# Check CUDA availability\n",
    "device = torch.device(\"cuda\" if torch.cuda.is_available() else \"cpu\")"
   ]
  },
  {
   "cell_type": "code",
   "execution_count": null,
   "metadata": {},
   "outputs": [
    {
     "name": "stderr",
     "output_type": "stream",
     "text": [
      "Training Epoch 1: 100%|██████████| 901/901 [00:12<00:00, 70.78it/s]\n"
     ]
    },
    {
     "name": "stdout",
     "output_type": "stream",
     "text": [
      "Epoch 0 - Train Loss: 1.2493, Train MSE: 1.2494, Train MAE: 0.8777\n"
     ]
    },
    {
     "name": "stderr",
     "output_type": "stream",
     "text": [
      "/var/folders/yz/c1z6m9_d5d3f80sywjc3rqsc0000gn/T/ipykernel_84079/1634219118.py:92: FutureWarning: The behavior of DataFrame concatenation with empty or all-NA entries is deprecated. In a future version, this will no longer exclude empty or all-NA columns when determining the result dtypes. To retain the old behavior, exclude the relevant entries before the concat operation.\n",
      "  train_history = pd.concat([train_history, pd.DataFrame([new_row])], ignore_index=True)\n"
     ]
    },
    {
     "name": "stdout",
     "output_type": "stream",
     "text": [
      "Epoch 0 - Validation Loss: 1.1092, Validation MSE: 1.1092, Validation MAE: 0.8219\n"
     ]
    },
    {
     "name": "stderr",
     "output_type": "stream",
     "text": [
      "Training Epoch 2: 100%|██████████| 901/901 [00:13<00:00, 67.39it/s]\n",
      "Training Epoch 3: 100%|██████████| 901/901 [00:13<00:00, 68.67it/s]\n",
      "Training Epoch 4: 100%|██████████| 901/901 [00:12<00:00, 69.34it/s]\n",
      "Training Epoch 5: 100%|██████████| 901/901 [00:13<00:00, 66.10it/s]\n",
      "Training Epoch 6: 100%|██████████| 901/901 [00:18<00:00, 48.78it/s]\n",
      "Training Epoch 7: 100%|██████████| 901/901 [00:14<00:00, 63.23it/s]\n",
      "Training Epoch 8: 100%|██████████| 901/901 [00:12<00:00, 69.39it/s]\n",
      "Training Epoch 9: 100%|██████████| 901/901 [00:12<00:00, 71.61it/s]\n",
      "Training Epoch 10: 100%|██████████| 901/901 [00:12<00:00, 71.47it/s]\n",
      "Training Epoch 11: 100%|██████████| 901/901 [00:12<00:00, 71.93it/s]\n"
     ]
    },
    {
     "name": "stdout",
     "output_type": "stream",
     "text": [
      "Epoch 10 - Train Loss: 0.9095, Train MSE: 0.9094, Train MAE: 0.7403\n",
      "Epoch 10 - Validation Loss: 0.9394, Validation MSE: 0.9394, Validation MAE: 0.7461\n"
     ]
    },
    {
     "name": "stderr",
     "output_type": "stream",
     "text": [
      "Training Epoch 12: 100%|██████████| 901/901 [00:12<00:00, 72.29it/s]\n",
      "Training Epoch 13: 100%|██████████| 901/901 [00:12<00:00, 72.36it/s]\n",
      "Training Epoch 14: 100%|██████████| 901/901 [00:12<00:00, 72.58it/s]\n",
      "Training Epoch 15: 100%|██████████| 901/901 [00:12<00:00, 72.97it/s]\n",
      "Training Epoch 16: 100%|██████████| 901/901 [00:12<00:00, 71.07it/s]\n",
      "Training Epoch 17: 100%|██████████| 901/901 [00:12<00:00, 71.42it/s]\n",
      "Training Epoch 18: 100%|██████████| 901/901 [00:12<00:00, 70.96it/s]\n",
      "Training Epoch 19: 100%|██████████| 901/901 [00:12<00:00, 72.31it/s]\n",
      "Training Epoch 20: 100%|██████████| 901/901 [00:12<00:00, 72.33it/s]\n",
      "Training Epoch 21: 100%|██████████| 901/901 [00:12<00:00, 71.90it/s]\n"
     ]
    },
    {
     "name": "stdout",
     "output_type": "stream",
     "text": [
      "Epoch 20 - Train Loss: 0.7501, Train MSE: 0.7501, Train MAE: 0.6677\n",
      "Epoch 20 - Validation Loss: 0.8310, Validation MSE: 0.8310, Validation MAE: 0.6946\n"
     ]
    },
    {
     "name": "stderr",
     "output_type": "stream",
     "text": [
      "Training Epoch 22: 100%|██████████| 901/901 [00:12<00:00, 71.82it/s]\n",
      "Training Epoch 23: 100%|██████████| 901/901 [00:12<00:00, 72.56it/s]\n",
      "Training Epoch 24: 100%|██████████| 901/901 [00:12<00:00, 72.93it/s]\n",
      "Training Epoch 25: 100%|██████████| 901/901 [00:12<00:00, 71.60it/s]\n",
      "Training Epoch 26: 100%|██████████| 901/901 [00:12<00:00, 71.74it/s]\n",
      "Training Epoch 27: 100%|██████████| 901/901 [00:12<00:00, 72.01it/s]\n",
      "Training Epoch 28: 100%|██████████| 901/901 [00:12<00:00, 69.99it/s]\n",
      "Training Epoch 29: 100%|██████████| 901/901 [00:12<00:00, 70.56it/s]\n",
      "Training Epoch 30: 100%|██████████| 901/901 [00:11<00:00, 75.58it/s]\n",
      "Training Epoch 31: 100%|██████████| 901/901 [00:11<00:00, 75.90it/s]\n"
     ]
    },
    {
     "name": "stdout",
     "output_type": "stream",
     "text": [
      "Epoch 30 - Train Loss: 0.6173, Train MSE: 0.6173, Train MAE: 0.6046\n",
      "Epoch 30 - Validation Loss: 0.7995, Validation MSE: 0.7995, Validation MAE: 0.6785\n"
     ]
    },
    {
     "name": "stderr",
     "output_type": "stream",
     "text": [
      "Training Epoch 32: 100%|██████████| 901/901 [00:12<00:00, 74.84it/s]\n",
      "Training Epoch 33: 100%|██████████| 901/901 [00:11<00:00, 81.06it/s]\n",
      "Training Epoch 34: 100%|██████████| 901/901 [00:10<00:00, 82.59it/s]\n",
      "Training Epoch 35: 100%|██████████| 901/901 [00:10<00:00, 83.56it/s]\n",
      "Training Epoch 36: 100%|██████████| 901/901 [00:10<00:00, 83.41it/s]\n",
      "Training Epoch 37: 100%|██████████| 901/901 [00:10<00:00, 83.58it/s]\n",
      "Training Epoch 38: 100%|██████████| 901/901 [00:10<00:00, 82.49it/s]\n",
      "Training Epoch 39: 100%|██████████| 901/901 [00:10<00:00, 84.70it/s]\n",
      "Training Epoch 40: 100%|██████████| 901/901 [00:10<00:00, 82.35it/s]\n",
      "Training Epoch 41: 100%|██████████| 901/901 [00:10<00:00, 82.66it/s]\n"
     ]
    },
    {
     "name": "stdout",
     "output_type": "stream",
     "text": [
      "Epoch 40 - Train Loss: 0.5102, Train MSE: 0.5101, Train MAE: 0.5480\n",
      "Epoch 40 - Validation Loss: 0.7772, Validation MSE: 0.7772, Validation MAE: 0.6658\n"
     ]
    },
    {
     "name": "stderr",
     "output_type": "stream",
     "text": [
      "Training Epoch 42: 100%|██████████| 901/901 [00:10<00:00, 83.29it/s]\n",
      "Training Epoch 43: 100%|██████████| 901/901 [00:11<00:00, 81.53it/s]\n",
      "Training Epoch 44: 100%|██████████| 901/901 [00:10<00:00, 82.57it/s]\n",
      "Training Epoch 45: 100%|██████████| 901/901 [00:10<00:00, 82.52it/s]\n",
      "Training Epoch 46: 100%|██████████| 901/901 [00:10<00:00, 83.35it/s]\n",
      "Training Epoch 47: 100%|██████████| 901/901 [00:10<00:00, 82.45it/s]\n",
      "Training Epoch 48: 100%|██████████| 901/901 [00:10<00:00, 82.97it/s]\n",
      "Training Epoch 49: 100%|██████████| 901/901 [00:10<00:00, 82.97it/s]\n",
      "Training Epoch 50: 100%|██████████| 901/901 [00:10<00:00, 82.64it/s]\n",
      "Training Epoch 51: 100%|██████████| 901/901 [00:10<00:00, 82.46it/s]\n"
     ]
    },
    {
     "name": "stdout",
     "output_type": "stream",
     "text": [
      "Epoch 50 - Train Loss: 0.4225, Train MSE: 0.4225, Train MAE: 0.4963\n",
      "Epoch 50 - Validation Loss: 0.7552, Validation MSE: 0.7552, Validation MAE: 0.6547\n"
     ]
    },
    {
     "name": "stderr",
     "output_type": "stream",
     "text": [
      "Training Epoch 52: 100%|██████████| 901/901 [00:10<00:00, 82.80it/s]\n",
      "Training Epoch 53: 100%|██████████| 901/901 [00:10<00:00, 84.35it/s]\n",
      "Training Epoch 54: 100%|██████████| 901/901 [00:10<00:00, 83.32it/s]\n",
      "Training Epoch 55: 100%|██████████| 901/901 [00:10<00:00, 82.03it/s]\n",
      "Training Epoch 56: 100%|██████████| 901/901 [00:10<00:00, 83.58it/s]\n",
      "Training Epoch 57: 100%|██████████| 901/901 [00:11<00:00, 81.42it/s]\n",
      "Training Epoch 58: 100%|██████████| 901/901 [00:10<00:00, 83.15it/s]\n",
      "Training Epoch 59: 100%|██████████| 901/901 [00:10<00:00, 86.26it/s]\n",
      "Training Epoch 60: 100%|██████████| 901/901 [00:10<00:00, 83.74it/s]\n",
      "Training Epoch 61: 100%|██████████| 901/901 [00:10<00:00, 82.27it/s]\n"
     ]
    },
    {
     "name": "stdout",
     "output_type": "stream",
     "text": [
      "Epoch 60 - Train Loss: 0.3595, Train MSE: 0.3595, Train MAE: 0.4583\n",
      "Epoch 60 - Validation Loss: 0.7567, Validation MSE: 0.7567, Validation MAE: 0.6495\n"
     ]
    },
    {
     "name": "stderr",
     "output_type": "stream",
     "text": [
      "Training Epoch 62: 100%|██████████| 901/901 [00:11<00:00, 81.75it/s]\n",
      "Training Epoch 63: 100%|██████████| 901/901 [00:10<00:00, 82.84it/s]\n",
      "Training Epoch 64: 100%|██████████| 901/901 [00:10<00:00, 82.26it/s]\n",
      "Training Epoch 65: 100%|██████████| 901/901 [00:10<00:00, 84.43it/s]\n",
      "Training Epoch 66: 100%|██████████| 901/901 [00:10<00:00, 83.50it/s]\n",
      "Training Epoch 67: 100%|██████████| 901/901 [00:10<00:00, 85.35it/s]\n",
      "Training Epoch 68: 100%|██████████| 901/901 [00:10<00:00, 85.70it/s]\n",
      "Training Epoch 69: 100%|██████████| 901/901 [00:10<00:00, 83.41it/s]\n",
      "Training Epoch 70: 100%|██████████| 901/901 [00:10<00:00, 83.67it/s]\n",
      "Training Epoch 71: 100%|██████████| 901/901 [00:10<00:00, 84.73it/s]\n"
     ]
    },
    {
     "name": "stdout",
     "output_type": "stream",
     "text": [
      "Epoch 70 - Train Loss: 0.3041, Train MSE: 0.3040, Train MAE: 0.4230\n",
      "Epoch 70 - Validation Loss: 0.7499, Validation MSE: 0.7499, Validation MAE: 0.6428\n"
     ]
    },
    {
     "name": "stderr",
     "output_type": "stream",
     "text": [
      "Training Epoch 72: 100%|██████████| 901/901 [00:10<00:00, 83.59it/s]\n",
      "Training Epoch 73: 100%|██████████| 901/901 [00:10<00:00, 84.28it/s]\n",
      "Training Epoch 74: 100%|██████████| 901/901 [00:10<00:00, 84.44it/s]\n",
      "Training Epoch 75: 100%|██████████| 901/901 [00:10<00:00, 83.70it/s]\n",
      "Training Epoch 76: 100%|██████████| 901/901 [00:10<00:00, 84.19it/s]\n",
      "Training Epoch 77: 100%|██████████| 901/901 [00:10<00:00, 84.24it/s]\n",
      "Training Epoch 78: 100%|██████████| 901/901 [00:10<00:00, 83.81it/s]\n",
      "Training Epoch 79: 100%|██████████| 901/901 [00:10<00:00, 83.89it/s]\n",
      "Training Epoch 80: 100%|██████████| 901/901 [00:10<00:00, 84.49it/s]\n",
      "Training Epoch 81: 100%|██████████| 901/901 [00:11<00:00, 81.87it/s]\n"
     ]
    },
    {
     "name": "stdout",
     "output_type": "stream",
     "text": [
      "Epoch 80 - Train Loss: 0.2640, Train MSE: 0.2639, Train MAE: 0.3925\n",
      "Epoch 80 - Validation Loss: 0.7693, Validation MSE: 0.7693, Validation MAE: 0.6504\n"
     ]
    },
    {
     "name": "stderr",
     "output_type": "stream",
     "text": [
      "Training Epoch 82: 100%|██████████| 901/901 [00:10<00:00, 82.40it/s]\n",
      "Training Epoch 83: 100%|██████████| 901/901 [00:10<00:00, 84.93it/s]\n",
      "Training Epoch 84: 100%|██████████| 901/901 [00:10<00:00, 83.87it/s]\n",
      "Training Epoch 85: 100%|██████████| 901/901 [00:10<00:00, 83.45it/s]\n",
      "Training Epoch 86: 100%|██████████| 901/901 [00:10<00:00, 83.61it/s]\n",
      "Training Epoch 87: 100%|██████████| 901/901 [00:10<00:00, 83.38it/s]\n",
      "Training Epoch 88: 100%|██████████| 901/901 [00:10<00:00, 85.45it/s]\n",
      "Training Epoch 89: 100%|██████████| 901/901 [00:10<00:00, 83.58it/s]\n",
      "Training Epoch 90: 100%|██████████| 901/901 [00:10<00:00, 83.50it/s]\n",
      "Training Epoch 91: 100%|██████████| 901/901 [00:10<00:00, 84.73it/s]\n"
     ]
    },
    {
     "name": "stdout",
     "output_type": "stream",
     "text": [
      "Epoch 90 - Train Loss: 0.2344, Train MSE: 0.2344, Train MAE: 0.3713\n",
      "Epoch 90 - Validation Loss: 0.7648, Validation MSE: 0.7648, Validation MAE: 0.6432\n"
     ]
    },
    {
     "name": "stderr",
     "output_type": "stream",
     "text": [
      "Training Epoch 92: 100%|██████████| 901/901 [00:10<00:00, 83.77it/s]\n",
      "Training Epoch 93: 100%|██████████| 901/901 [00:10<00:00, 82.73it/s]\n",
      "Training Epoch 94: 100%|██████████| 901/901 [00:10<00:00, 83.72it/s]\n",
      "Training Epoch 95: 100%|██████████| 901/901 [00:10<00:00, 83.44it/s]\n",
      "Training Epoch 96: 100%|██████████| 901/901 [00:10<00:00, 83.83it/s]\n",
      "Training Epoch 97: 100%|██████████| 901/901 [00:10<00:00, 83.45it/s]\n",
      "Training Epoch 98: 100%|██████████| 901/901 [00:10<00:00, 83.46it/s]\n",
      "Training Epoch 99: 100%|██████████| 901/901 [00:10<00:00, 82.92it/s]\n",
      "Training Epoch 100: 100%|██████████| 901/901 [00:10<00:00, 84.33it/s]\n",
      "Training Epoch 101: 100%|██████████| 901/901 [00:10<00:00, 84.21it/s]\n"
     ]
    },
    {
     "name": "stdout",
     "output_type": "stream",
     "text": [
      "Epoch 100 - Train Loss: 0.2091, Train MSE: 0.2091, Train MAE: 0.3501\n",
      "Epoch 100 - Validation Loss: 0.7585, Validation MSE: 0.7585, Validation MAE: 0.6412\n"
     ]
    },
    {
     "name": "stderr",
     "output_type": "stream",
     "text": [
      "Training Epoch 102: 100%|██████████| 901/901 [00:10<00:00, 83.06it/s]\n",
      "Training Epoch 103: 100%|██████████| 901/901 [00:10<00:00, 82.12it/s]\n",
      "Training Epoch 104: 100%|██████████| 901/901 [00:10<00:00, 83.50it/s]\n",
      "Training Epoch 105: 100%|██████████| 901/901 [00:10<00:00, 84.32it/s]\n",
      "Training Epoch 106: 100%|██████████| 901/901 [00:10<00:00, 83.07it/s]\n",
      "Training Epoch 107: 100%|██████████| 901/901 [00:10<00:00, 84.53it/s]\n",
      "Training Epoch 108: 100%|██████████| 901/901 [00:10<00:00, 83.62it/s]\n",
      "Training Epoch 109: 100%|██████████| 901/901 [00:10<00:00, 83.71it/s]\n",
      "Training Epoch 110: 100%|██████████| 901/901 [00:10<00:00, 83.73it/s]\n",
      "Training Epoch 111: 100%|██████████| 901/901 [00:10<00:00, 84.29it/s]\n"
     ]
    },
    {
     "name": "stdout",
     "output_type": "stream",
     "text": [
      "Epoch 110 - Train Loss: 0.1868, Train MSE: 0.1868, Train MAE: 0.3313\n",
      "Epoch 110 - Validation Loss: 0.7447, Validation MSE: 0.7447, Validation MAE: 0.6320\n"
     ]
    },
    {
     "name": "stderr",
     "output_type": "stream",
     "text": [
      "Training Epoch 112: 100%|██████████| 901/901 [00:10<00:00, 83.89it/s]\n",
      "Training Epoch 113: 100%|██████████| 901/901 [00:10<00:00, 83.55it/s]\n",
      "Training Epoch 114: 100%|██████████| 901/901 [00:10<00:00, 84.58it/s]\n",
      "Training Epoch 115: 100%|██████████| 901/901 [00:10<00:00, 83.15it/s]\n",
      "Training Epoch 116: 100%|██████████| 901/901 [00:10<00:00, 83.60it/s]\n",
      "Training Epoch 117: 100%|██████████| 901/901 [00:10<00:00, 84.80it/s]\n",
      "Training Epoch 118: 100%|██████████| 901/901 [00:10<00:00, 83.33it/s]\n",
      "Training Epoch 119: 100%|██████████| 901/901 [00:10<00:00, 83.15it/s]\n",
      "Training Epoch 120: 100%|██████████| 901/901 [00:10<00:00, 82.91it/s]\n",
      "Training Epoch 121: 100%|██████████| 901/901 [00:10<00:00, 83.85it/s]\n"
     ]
    },
    {
     "name": "stdout",
     "output_type": "stream",
     "text": [
      "Epoch 120 - Train Loss: 0.1745, Train MSE: 0.1746, Train MAE: 0.3191\n",
      "Epoch 120 - Validation Loss: 0.7489, Validation MSE: 0.7489, Validation MAE: 0.6336\n"
     ]
    },
    {
     "name": "stderr",
     "output_type": "stream",
     "text": [
      "Training Epoch 122: 100%|██████████| 901/901 [00:10<00:00, 88.25it/s]\n",
      "Training Epoch 123: 100%|██████████| 901/901 [00:10<00:00, 85.96it/s]\n",
      "Training Epoch 124: 100%|██████████| 901/901 [00:10<00:00, 87.29it/s]\n",
      "Training Epoch 125: 100%|██████████| 901/901 [00:10<00:00, 85.14it/s]\n",
      "Training Epoch 126: 100%|██████████| 901/901 [00:10<00:00, 84.15it/s]\n",
      "Training Epoch 127: 100%|██████████| 901/901 [00:10<00:00, 86.37it/s]\n",
      "Training Epoch 128: 100%|██████████| 901/901 [00:10<00:00, 86.20it/s]\n",
      "Training Epoch 129: 100%|██████████| 901/901 [00:10<00:00, 85.18it/s]\n",
      "Training Epoch 130: 100%|██████████| 901/901 [00:10<00:00, 86.84it/s]\n",
      "Training Epoch 131: 100%|██████████| 901/901 [00:10<00:00, 86.17it/s]\n"
     ]
    },
    {
     "name": "stdout",
     "output_type": "stream",
     "text": [
      "Epoch 130 - Train Loss: 0.1622, Train MSE: 0.1622, Train MAE: 0.3069\n",
      "Epoch 130 - Validation Loss: 0.7403, Validation MSE: 0.7403, Validation MAE: 0.6280\n"
     ]
    },
    {
     "name": "stderr",
     "output_type": "stream",
     "text": [
      "Training Epoch 132: 100%|██████████| 901/901 [00:10<00:00, 85.40it/s]\n",
      "Training Epoch 133: 100%|██████████| 901/901 [00:10<00:00, 86.43it/s]\n",
      "Training Epoch 134: 100%|██████████| 901/901 [00:10<00:00, 87.78it/s]\n",
      "Training Epoch 135: 100%|██████████| 901/901 [00:10<00:00, 86.11it/s]\n",
      "Training Epoch 136: 100%|██████████| 901/901 [00:10<00:00, 85.19it/s]\n",
      "Training Epoch 137: 100%|██████████| 901/901 [00:10<00:00, 86.34it/s]\n",
      "Training Epoch 138: 100%|██████████| 901/901 [00:10<00:00, 86.64it/s]\n",
      "Training Epoch 139: 100%|██████████| 901/901 [00:10<00:00, 86.60it/s]\n",
      "Training Epoch 140: 100%|██████████| 901/901 [00:10<00:00, 86.45it/s]\n",
      "Training Epoch 141: 100%|██████████| 901/901 [00:10<00:00, 85.06it/s]\n"
     ]
    },
    {
     "name": "stdout",
     "output_type": "stream",
     "text": [
      "Epoch 140 - Train Loss: 0.1516, Train MSE: 0.1517, Train MAE: 0.2964\n",
      "Epoch 140 - Validation Loss: 0.7592, Validation MSE: 0.7592, Validation MAE: 0.6341\n"
     ]
    },
    {
     "name": "stderr",
     "output_type": "stream",
     "text": [
      "Training Epoch 142: 100%|██████████| 901/901 [00:10<00:00, 87.68it/s]\n",
      "Training Epoch 143: 100%|██████████| 901/901 [00:10<00:00, 87.48it/s]\n",
      "Training Epoch 144: 100%|██████████| 901/901 [00:10<00:00, 85.97it/s]\n",
      "Training Epoch 145: 100%|██████████| 901/901 [00:10<00:00, 86.32it/s]\n",
      "Training Epoch 146: 100%|██████████| 901/901 [00:10<00:00, 85.70it/s]\n",
      "Training Epoch 147: 100%|██████████| 901/901 [00:10<00:00, 87.20it/s]\n",
      "Training Epoch 148: 100%|██████████| 901/901 [00:10<00:00, 85.97it/s]\n",
      "Training Epoch 149: 100%|██████████| 901/901 [00:10<00:00, 86.00it/s]\n",
      "Training Epoch 150: 100%|██████████| 901/901 [00:10<00:00, 85.36it/s]\n",
      "Training Epoch 151: 100%|██████████| 901/901 [00:10<00:00, 86.65it/s]\n"
     ]
    },
    {
     "name": "stdout",
     "output_type": "stream",
     "text": [
      "Epoch 150 - Train Loss: 0.1428, Train MSE: 0.1428, Train MAE: 0.2880\n",
      "Epoch 150 - Validation Loss: 0.7450, Validation MSE: 0.7450, Validation MAE: 0.6308\n"
     ]
    },
    {
     "name": "stderr",
     "output_type": "stream",
     "text": [
      "Training Epoch 152: 100%|██████████| 901/901 [00:10<00:00, 87.87it/s]\n",
      "Training Epoch 153: 100%|██████████| 901/901 [00:10<00:00, 85.84it/s]\n",
      "Training Epoch 154: 100%|██████████| 901/901 [00:10<00:00, 87.03it/s]\n",
      "Training Epoch 155: 100%|██████████| 901/901 [00:10<00:00, 85.70it/s]\n",
      "Training Epoch 156: 100%|██████████| 901/901 [00:10<00:00, 89.88it/s]\n",
      "Training Epoch 157: 100%|██████████| 901/901 [00:10<00:00, 86.45it/s]\n",
      "Training Epoch 158: 100%|██████████| 901/901 [00:10<00:00, 86.05it/s]\n",
      "Training Epoch 159: 100%|██████████| 901/901 [00:10<00:00, 86.41it/s]\n",
      "Training Epoch 160: 100%|██████████| 901/901 [00:10<00:00, 85.85it/s]\n",
      "Training Epoch 161: 100%|██████████| 901/901 [00:10<00:00, 86.86it/s]\n"
     ]
    },
    {
     "name": "stdout",
     "output_type": "stream",
     "text": [
      "Epoch 160 - Train Loss: 0.1325, Train MSE: 0.1325, Train MAE: 0.2769\n",
      "Epoch 160 - Validation Loss: 0.7434, Validation MSE: 0.7434, Validation MAE: 0.6300\n"
     ]
    },
    {
     "name": "stderr",
     "output_type": "stream",
     "text": [
      "Training Epoch 162: 100%|██████████| 901/901 [00:10<00:00, 86.54it/s]\n",
      "Training Epoch 163: 100%|██████████| 901/901 [00:10<00:00, 87.00it/s]\n",
      "Training Epoch 164: 100%|██████████| 901/901 [00:10<00:00, 86.41it/s]\n",
      "Training Epoch 165: 100%|██████████| 901/901 [00:10<00:00, 86.42it/s]\n",
      "Training Epoch 166: 100%|██████████| 901/901 [00:10<00:00, 88.50it/s]\n",
      "Training Epoch 167: 100%|██████████| 901/901 [00:10<00:00, 86.84it/s]\n",
      "Training Epoch 168: 100%|██████████| 901/901 [00:10<00:00, 85.81it/s]\n",
      "Training Epoch 169: 100%|██████████| 901/901 [00:10<00:00, 86.11it/s]\n",
      "Training Epoch 170: 100%|██████████| 901/901 [00:10<00:00, 86.44it/s]\n",
      "Training Epoch 171: 100%|██████████| 901/901 [00:10<00:00, 85.90it/s]\n"
     ]
    },
    {
     "name": "stdout",
     "output_type": "stream",
     "text": [
      "Epoch 170 - Train Loss: 0.1256, Train MSE: 0.1256, Train MAE: 0.2698\n",
      "Epoch 170 - Validation Loss: 0.7346, Validation MSE: 0.7346, Validation MAE: 0.6253\n"
     ]
    },
    {
     "name": "stderr",
     "output_type": "stream",
     "text": [
      "Training Epoch 172: 100%|██████████| 901/901 [00:10<00:00, 86.20it/s]\n",
      "Training Epoch 173: 100%|██████████| 901/901 [00:10<00:00, 87.72it/s]\n",
      "Training Epoch 174: 100%|██████████| 901/901 [00:10<00:00, 85.99it/s]\n",
      "Training Epoch 175: 100%|██████████| 901/901 [00:10<00:00, 85.80it/s]\n",
      "Training Epoch 176: 100%|██████████| 901/901 [00:10<00:00, 86.88it/s]\n",
      "Training Epoch 177: 100%|██████████| 901/901 [00:10<00:00, 85.71it/s]\n",
      "Training Epoch 178: 100%|██████████| 901/901 [00:10<00:00, 86.06it/s]\n",
      "Training Epoch 179: 100%|██████████| 901/901 [00:10<00:00, 85.83it/s]\n",
      "Training Epoch 180: 100%|██████████| 901/901 [00:10<00:00, 86.17it/s]\n",
      "Training Epoch 181: 100%|██████████| 901/901 [00:10<00:00, 86.91it/s]\n"
     ]
    },
    {
     "name": "stdout",
     "output_type": "stream",
     "text": [
      "Epoch 180 - Train Loss: 0.1200, Train MSE: 0.1200, Train MAE: 0.2629\n",
      "Epoch 180 - Validation Loss: 0.7318, Validation MSE: 0.7318, Validation MAE: 0.6253\n"
     ]
    },
    {
     "name": "stderr",
     "output_type": "stream",
     "text": [
      "Training Epoch 182: 100%|██████████| 901/901 [00:10<00:00, 86.42it/s]\n",
      "Training Epoch 183: 100%|██████████| 901/901 [00:10<00:00, 85.78it/s]\n",
      "Training Epoch 184: 100%|██████████| 901/901 [00:10<00:00, 87.41it/s]\n",
      "Training Epoch 185: 100%|██████████| 901/901 [00:10<00:00, 87.23it/s]\n",
      "Training Epoch 186: 100%|██████████| 901/901 [00:10<00:00, 85.37it/s]\n",
      "Training Epoch 187: 100%|██████████| 901/901 [00:10<00:00, 86.05it/s]\n",
      "Training Epoch 188: 100%|██████████| 901/901 [00:10<00:00, 88.85it/s]\n",
      "Training Epoch 189: 100%|██████████| 901/901 [00:10<00:00, 86.25it/s]\n",
      "Training Epoch 190: 100%|██████████| 901/901 [00:10<00:00, 85.45it/s]\n",
      "Training Epoch 191: 100%|██████████| 901/901 [00:10<00:00, 87.18it/s]\n"
     ]
    },
    {
     "name": "stdout",
     "output_type": "stream",
     "text": [
      "Epoch 190 - Train Loss: 0.1142, Train MSE: 0.1142, Train MAE: 0.2563\n",
      "Epoch 190 - Validation Loss: 0.7153, Validation MSE: 0.7153, Validation MAE: 0.6143\n"
     ]
    },
    {
     "name": "stderr",
     "output_type": "stream",
     "text": [
      "Training Epoch 192: 100%|██████████| 901/901 [00:10<00:00, 85.46it/s]\n",
      "Training Epoch 193: 100%|██████████| 901/901 [00:10<00:00, 86.35it/s]\n",
      "Training Epoch 194: 100%|██████████| 901/901 [00:10<00:00, 87.33it/s]\n",
      "Training Epoch 195: 100%|██████████| 901/901 [00:10<00:00, 86.24it/s]\n",
      "Training Epoch 196: 100%|██████████| 901/901 [00:10<00:00, 85.16it/s]\n",
      "Training Epoch 197: 100%|██████████| 901/901 [00:10<00:00, 87.38it/s]\n",
      "Training Epoch 198: 100%|██████████| 901/901 [00:10<00:00, 85.86it/s]\n",
      "Training Epoch 199: 100%|██████████| 901/901 [00:10<00:00, 86.30it/s]\n",
      "Training Epoch 200: 100%|██████████| 901/901 [00:10<00:00, 88.53it/s]\n",
      "Training Epoch 201: 100%|██████████| 901/901 [00:10<00:00, 87.61it/s]\n"
     ]
    },
    {
     "name": "stdout",
     "output_type": "stream",
     "text": [
      "Epoch 200 - Train Loss: 0.1101, Train MSE: 0.1101, Train MAE: 0.2522\n",
      "Epoch 200 - Validation Loss: 0.7207, Validation MSE: 0.7207, Validation MAE: 0.6208\n"
     ]
    },
    {
     "name": "stderr",
     "output_type": "stream",
     "text": [
      "Training Epoch 202: 100%|██████████| 901/901 [00:10<00:00, 85.29it/s]\n",
      "Training Epoch 203: 100%|██████████| 901/901 [00:10<00:00, 88.92it/s]\n",
      "Training Epoch 204: 100%|██████████| 901/901 [00:10<00:00, 85.80it/s]\n",
      "Training Epoch 205: 100%|██████████| 901/901 [00:10<00:00, 86.03it/s]\n",
      "Training Epoch 206: 100%|██████████| 901/901 [00:10<00:00, 87.94it/s]\n",
      "Training Epoch 207: 100%|██████████| 901/901 [00:10<00:00, 86.76it/s]\n",
      "Training Epoch 208: 100%|██████████| 901/901 [00:10<00:00, 87.94it/s]\n",
      "Training Epoch 209: 100%|██████████| 901/901 [00:10<00:00, 86.20it/s]\n",
      "Training Epoch 210: 100%|██████████| 901/901 [00:10<00:00, 85.76it/s]\n",
      "Training Epoch 211: 100%|██████████| 901/901 [00:10<00:00, 85.84it/s]\n"
     ]
    },
    {
     "name": "stdout",
     "output_type": "stream",
     "text": [
      "Epoch 210 - Train Loss: 0.1069, Train MSE: 0.1069, Train MAE: 0.2470\n",
      "Epoch 210 - Validation Loss: 0.7355, Validation MSE: 0.7355, Validation MAE: 0.6249\n"
     ]
    },
    {
     "name": "stderr",
     "output_type": "stream",
     "text": [
      "Training Epoch 212: 100%|██████████| 901/901 [00:10<00:00, 87.50it/s]\n",
      "Training Epoch 213: 100%|██████████| 901/901 [00:10<00:00, 85.64it/s]\n",
      "Training Epoch 214: 100%|██████████| 901/901 [00:10<00:00, 85.87it/s]\n",
      "Training Epoch 215: 100%|██████████| 901/901 [00:10<00:00, 86.61it/s]\n",
      "Training Epoch 216: 100%|██████████| 901/901 [00:10<00:00, 87.25it/s]\n",
      "Training Epoch 217: 100%|██████████| 901/901 [00:10<00:00, 87.07it/s]\n",
      "Training Epoch 218: 100%|██████████| 901/901 [00:10<00:00, 86.34it/s]\n",
      "Training Epoch 219: 100%|██████████| 901/901 [00:10<00:00, 86.04it/s]\n",
      "Training Epoch 220: 100%|██████████| 901/901 [00:10<00:00, 86.90it/s]\n",
      "Training Epoch 221: 100%|██████████| 901/901 [00:10<00:00, 87.87it/s]\n"
     ]
    },
    {
     "name": "stdout",
     "output_type": "stream",
     "text": [
      "Epoch 220 - Train Loss: 0.1032, Train MSE: 0.1033, Train MAE: 0.2433\n",
      "Epoch 220 - Validation Loss: 0.7235, Validation MSE: 0.7235, Validation MAE: 0.6179\n"
     ]
    },
    {
     "name": "stderr",
     "output_type": "stream",
     "text": [
      "Training Epoch 222: 100%|██████████| 901/901 [00:10<00:00, 86.87it/s]\n",
      "Training Epoch 223: 100%|██████████| 901/901 [00:10<00:00, 86.12it/s]\n",
      "Training Epoch 224: 100%|██████████| 901/901 [00:10<00:00, 88.52it/s]\n",
      "Training Epoch 225: 100%|██████████| 901/901 [00:10<00:00, 86.49it/s]\n",
      "Training Epoch 226: 100%|██████████| 901/901 [00:10<00:00, 86.03it/s]\n",
      "Training Epoch 227: 100%|██████████| 901/901 [00:10<00:00, 88.42it/s]\n",
      "Training Epoch 228: 100%|██████████| 901/901 [00:10<00:00, 86.16it/s]\n",
      "Training Epoch 229: 100%|██████████| 901/901 [00:10<00:00, 85.75it/s]\n",
      "Training Epoch 230: 100%|██████████| 901/901 [00:10<00:00, 87.12it/s]\n",
      "Training Epoch 231: 100%|██████████| 901/901 [00:10<00:00, 86.07it/s]\n"
     ]
    },
    {
     "name": "stdout",
     "output_type": "stream",
     "text": [
      "Epoch 230 - Train Loss: 0.1002, Train MSE: 0.1002, Train MAE: 0.2398\n",
      "Epoch 230 - Validation Loss: 0.7185, Validation MSE: 0.7185, Validation MAE: 0.6174\n"
     ]
    },
    {
     "name": "stderr",
     "output_type": "stream",
     "text": [
      "Training Epoch 232: 100%|██████████| 901/901 [00:10<00:00, 86.97it/s]\n",
      "Training Epoch 233: 100%|██████████| 901/901 [00:10<00:00, 86.59it/s]\n",
      "Training Epoch 234: 100%|██████████| 901/901 [00:10<00:00, 85.55it/s]\n",
      "Training Epoch 235: 100%|██████████| 901/901 [00:10<00:00, 86.50it/s]\n",
      "Training Epoch 236: 100%|██████████| 901/901 [00:10<00:00, 86.39it/s]\n",
      "Training Epoch 237: 100%|██████████| 901/901 [00:10<00:00, 84.93it/s]\n",
      "Training Epoch 238: 100%|██████████| 901/901 [00:10<00:00, 85.61it/s]\n",
      "Training Epoch 239: 100%|██████████| 901/901 [00:10<00:00, 87.38it/s]\n",
      "Training Epoch 240: 100%|██████████| 901/901 [00:10<00:00, 85.75it/s]\n",
      "Training Epoch 241: 100%|██████████| 901/901 [00:10<00:00, 86.50it/s]\n"
     ]
    },
    {
     "name": "stdout",
     "output_type": "stream",
     "text": [
      "Epoch 240 - Train Loss: 0.0950, Train MSE: 0.0950, Train MAE: 0.2330\n",
      "Epoch 240 - Validation Loss: 0.7280, Validation MSE: 0.7280, Validation MAE: 0.6185\n"
     ]
    },
    {
     "name": "stderr",
     "output_type": "stream",
     "text": [
      "Training Epoch 242: 100%|██████████| 901/901 [00:10<00:00, 87.46it/s]\n",
      "Training Epoch 243: 100%|██████████| 901/901 [00:10<00:00, 87.67it/s]\n",
      "Training Epoch 244: 100%|██████████| 901/901 [00:10<00:00, 86.41it/s]\n",
      "Training Epoch 245: 100%|██████████| 901/901 [00:10<00:00, 89.66it/s]\n",
      "Training Epoch 246: 100%|██████████| 901/901 [00:10<00:00, 85.57it/s]\n",
      "Training Epoch 247: 100%|██████████| 901/901 [00:10<00:00, 87.70it/s]\n",
      "Training Epoch 248: 100%|██████████| 901/901 [00:10<00:00, 87.06it/s]\n",
      "Training Epoch 249: 100%|██████████| 901/901 [00:10<00:00, 86.02it/s]\n",
      "Training Epoch 250: 100%|██████████| 901/901 [00:10<00:00, 86.36it/s]\n",
      "Training Epoch 251: 100%|██████████| 901/901 [00:10<00:00, 86.80it/s]\n"
     ]
    },
    {
     "name": "stdout",
     "output_type": "stream",
     "text": [
      "Epoch 250 - Train Loss: 0.0939, Train MSE: 0.0939, Train MAE: 0.2313\n",
      "Epoch 250 - Validation Loss: 0.7110, Validation MSE: 0.7110, Validation MAE: 0.6138\n"
     ]
    },
    {
     "name": "stderr",
     "output_type": "stream",
     "text": [
      "Training Epoch 252: 100%|██████████| 901/901 [00:10<00:00, 87.32it/s]\n",
      "Training Epoch 253: 100%|██████████| 901/901 [00:10<00:00, 86.39it/s]\n",
      "Training Epoch 254: 100%|██████████| 901/901 [00:10<00:00, 88.93it/s]\n",
      "Training Epoch 255: 100%|██████████| 901/901 [00:10<00:00, 86.46it/s]\n",
      "Training Epoch 256: 100%|██████████| 901/901 [00:10<00:00, 85.51it/s]\n",
      "Training Epoch 257: 100%|██████████| 901/901 [00:10<00:00, 87.61it/s]\n",
      "Training Epoch 258: 100%|██████████| 901/901 [00:10<00:00, 86.54it/s]\n",
      "Training Epoch 259: 100%|██████████| 901/901 [00:10<00:00, 86.08it/s]\n",
      "Training Epoch 260: 100%|██████████| 901/901 [00:10<00:00, 86.82it/s]\n",
      "Training Epoch 261: 100%|██████████| 901/901 [00:10<00:00, 87.09it/s]\n"
     ]
    },
    {
     "name": "stdout",
     "output_type": "stream",
     "text": [
      "Epoch 260 - Train Loss: 0.0912, Train MSE: 0.0912, Train MAE: 0.2267\n",
      "Epoch 260 - Validation Loss: 0.7215, Validation MSE: 0.7215, Validation MAE: 0.6178\n"
     ]
    },
    {
     "name": "stderr",
     "output_type": "stream",
     "text": [
      "Training Epoch 262: 100%|██████████| 901/901 [00:10<00:00, 86.29it/s]\n",
      "Training Epoch 263: 100%|██████████| 901/901 [00:10<00:00, 86.71it/s]\n",
      "Training Epoch 264: 100%|██████████| 901/901 [00:10<00:00, 88.13it/s]\n",
      "Training Epoch 265: 100%|██████████| 901/901 [00:10<00:00, 87.42it/s]\n",
      "Training Epoch 266: 100%|██████████| 901/901 [00:10<00:00, 87.39it/s]\n",
      "Training Epoch 267: 100%|██████████| 901/901 [00:10<00:00, 86.62it/s]\n",
      "Training Epoch 268: 100%|██████████| 901/901 [00:10<00:00, 86.31it/s]\n",
      "Training Epoch 269: 100%|██████████| 901/901 [00:10<00:00, 87.90it/s]\n",
      "Training Epoch 270: 100%|██████████| 901/901 [00:10<00:00, 86.22it/s]\n",
      "Training Epoch 271: 100%|██████████| 901/901 [00:10<00:00, 85.82it/s]\n"
     ]
    },
    {
     "name": "stdout",
     "output_type": "stream",
     "text": [
      "Epoch 270 - Train Loss: 0.0868, Train MSE: 0.0868, Train MAE: 0.2214\n",
      "Epoch 270 - Validation Loss: 0.7132, Validation MSE: 0.7132, Validation MAE: 0.6131\n"
     ]
    },
    {
     "name": "stderr",
     "output_type": "stream",
     "text": [
      "Training Epoch 272: 100%|██████████| 901/901 [00:10<00:00, 88.25it/s]\n",
      "Training Epoch 273: 100%|██████████| 901/901 [00:10<00:00, 85.31it/s]\n",
      "Training Epoch 274: 100%|██████████| 901/901 [00:10<00:00, 85.64it/s]\n",
      "Training Epoch 275: 100%|██████████| 901/901 [00:10<00:00, 87.12it/s]\n",
      "Training Epoch 276: 100%|██████████| 901/901 [00:10<00:00, 86.47it/s]\n",
      "Training Epoch 277: 100%|██████████| 901/901 [00:10<00:00, 88.84it/s]\n",
      "Training Epoch 278: 100%|██████████| 901/901 [00:09<00:00, 90.36it/s] \n",
      "Training Epoch 279: 100%|██████████| 901/901 [00:10<00:00, 87.18it/s]\n",
      "Training Epoch 280: 100%|██████████| 901/901 [00:10<00:00, 85.68it/s]\n",
      "Training Epoch 281: 100%|██████████| 901/901 [00:10<00:00, 86.91it/s]\n"
     ]
    },
    {
     "name": "stdout",
     "output_type": "stream",
     "text": [
      "Epoch 280 - Train Loss: 0.0845, Train MSE: 0.0845, Train MAE: 0.2200\n",
      "Epoch 280 - Validation Loss: 0.7259, Validation MSE: 0.7259, Validation MAE: 0.6196\n"
     ]
    },
    {
     "name": "stderr",
     "output_type": "stream",
     "text": [
      "Training Epoch 282: 100%|██████████| 901/901 [00:10<00:00, 85.86it/s]\n",
      "Training Epoch 283: 100%|██████████| 901/901 [00:10<00:00, 86.18it/s]\n",
      "Training Epoch 284: 100%|██████████| 901/901 [00:10<00:00, 86.26it/s]\n",
      "Training Epoch 285: 100%|██████████| 901/901 [00:10<00:00, 88.90it/s]\n",
      "Training Epoch 286: 100%|██████████| 901/901 [00:10<00:00, 86.47it/s]\n",
      "Training Epoch 287: 100%|██████████| 901/901 [00:10<00:00, 87.44it/s]\n",
      "Training Epoch 288: 100%|██████████| 901/901 [00:10<00:00, 87.13it/s]\n",
      "Training Epoch 289: 100%|██████████| 901/901 [00:10<00:00, 86.05it/s]\n",
      "Training Epoch 290: 100%|██████████| 901/901 [00:10<00:00, 87.19it/s]\n",
      "Training Epoch 291: 100%|██████████| 901/901 [00:10<00:00, 86.49it/s]\n"
     ]
    },
    {
     "name": "stdout",
     "output_type": "stream",
     "text": [
      "Epoch 290 - Train Loss: 0.0819, Train MSE: 0.0819, Train MAE: 0.2154\n",
      "Epoch 290 - Validation Loss: 0.7212, Validation MSE: 0.7212, Validation MAE: 0.6164\n"
     ]
    },
    {
     "name": "stderr",
     "output_type": "stream",
     "text": [
      "Training Epoch 292: 100%|██████████| 901/901 [00:10<00:00, 86.38it/s]\n",
      "Training Epoch 293: 100%|██████████| 901/901 [00:10<00:00, 86.99it/s]\n",
      "Training Epoch 294: 100%|██████████| 901/901 [00:10<00:00, 86.26it/s]\n",
      "Training Epoch 295: 100%|██████████| 901/901 [00:10<00:00, 85.50it/s]\n",
      "Training Epoch 296: 100%|██████████| 901/901 [00:10<00:00, 87.37it/s]\n",
      "Training Epoch 297: 100%|██████████| 901/901 [00:10<00:00, 86.17it/s]\n",
      "Training Epoch 298: 100%|██████████| 901/901 [00:10<00:00, 87.61it/s]\n",
      "Training Epoch 299: 100%|██████████| 901/901 [00:10<00:00, 87.96it/s]\n",
      "Training Epoch 300: 100%|██████████| 901/901 [00:10<00:00, 85.68it/s]\n",
      "Training Epoch 301: 100%|██████████| 901/901 [00:10<00:00, 88.48it/s]\n"
     ]
    },
    {
     "name": "stdout",
     "output_type": "stream",
     "text": [
      "Epoch 300 - Train Loss: 0.0797, Train MSE: 0.0797, Train MAE: 0.2127\n",
      "Epoch 300 - Validation Loss: 0.7303, Validation MSE: 0.7303, Validation MAE: 0.6211\n"
     ]
    },
    {
     "name": "stderr",
     "output_type": "stream",
     "text": [
      "Training Epoch 302: 100%|██████████| 901/901 [00:10<00:00, 86.26it/s]\n",
      "Training Epoch 303: 100%|██████████| 901/901 [00:10<00:00, 86.48it/s]\n",
      "Training Epoch 304: 100%|██████████| 901/901 [00:10<00:00, 86.47it/s]\n",
      "Training Epoch 305: 100%|██████████| 901/901 [00:10<00:00, 87.46it/s]\n",
      "Training Epoch 306: 100%|██████████| 901/901 [00:10<00:00, 87.00it/s]\n",
      "Training Epoch 307: 100%|██████████| 901/901 [00:10<00:00, 85.47it/s]\n",
      "Training Epoch 308: 100%|██████████| 901/901 [00:10<00:00, 87.27it/s]\n",
      "Training Epoch 309: 100%|██████████| 901/901 [00:10<00:00, 86.16it/s]\n",
      "Training Epoch 310: 100%|██████████| 901/901 [00:10<00:00, 86.04it/s]\n",
      "Training Epoch 311: 100%|██████████| 901/901 [00:10<00:00, 87.25it/s]\n"
     ]
    },
    {
     "name": "stdout",
     "output_type": "stream",
     "text": [
      "Epoch 310 - Train Loss: 0.0796, Train MSE: 0.0796, Train MAE: 0.2126\n",
      "Epoch 310 - Validation Loss: 0.6998, Validation MSE: 0.6998, Validation MAE: 0.6078\n"
     ]
    },
    {
     "name": "stderr",
     "output_type": "stream",
     "text": [
      "Training Epoch 312: 100%|██████████| 901/901 [00:10<00:00, 85.50it/s]\n",
      "Training Epoch 313: 100%|██████████| 901/901 [00:10<00:00, 86.29it/s]\n",
      "Training Epoch 314: 100%|██████████| 901/901 [00:10<00:00, 86.74it/s]\n",
      "Training Epoch 315: 100%|██████████| 901/901 [00:10<00:00, 86.05it/s]\n",
      "Training Epoch 316: 100%|██████████| 901/901 [00:10<00:00, 87.29it/s]\n",
      "Training Epoch 317: 100%|██████████| 901/901 [00:10<00:00, 87.17it/s]\n",
      "Training Epoch 318: 100%|██████████| 901/901 [00:10<00:00, 85.68it/s]\n",
      "Training Epoch 319: 100%|██████████| 901/901 [00:10<00:00, 86.06it/s]\n",
      "Training Epoch 320: 100%|██████████| 901/901 [00:10<00:00, 88.89it/s]\n",
      "Training Epoch 321: 100%|██████████| 901/901 [00:10<00:00, 85.19it/s]\n"
     ]
    },
    {
     "name": "stdout",
     "output_type": "stream",
     "text": [
      "Epoch 320 - Train Loss: 0.0778, Train MSE: 0.0779, Train MAE: 0.2092\n",
      "Epoch 320 - Validation Loss: 0.7145, Validation MSE: 0.7145, Validation MAE: 0.6140\n"
     ]
    },
    {
     "name": "stderr",
     "output_type": "stream",
     "text": [
      "Training Epoch 322: 100%|██████████| 901/901 [00:10<00:00, 84.70it/s]\n",
      "Training Epoch 323: 100%|██████████| 901/901 [00:10<00:00, 87.64it/s]\n",
      "Training Epoch 324: 100%|██████████| 901/901 [00:10<00:00, 86.40it/s]\n",
      "Training Epoch 325: 100%|██████████| 901/901 [00:10<00:00, 87.89it/s]\n",
      "Training Epoch 326: 100%|██████████| 901/901 [00:10<00:00, 86.26it/s]\n",
      "Training Epoch 327: 100%|██████████| 901/901 [00:10<00:00, 86.08it/s]\n",
      "Training Epoch 328: 100%|██████████| 901/901 [00:10<00:00, 85.20it/s]\n",
      "Training Epoch 329: 100%|██████████| 901/901 [00:10<00:00, 87.28it/s]\n",
      "Training Epoch 330: 100%|██████████| 901/901 [00:10<00:00, 87.81it/s]\n",
      "Training Epoch 331: 100%|██████████| 901/901 [00:10<00:00, 87.23it/s]\n"
     ]
    },
    {
     "name": "stdout",
     "output_type": "stream",
     "text": [
      "Epoch 330 - Train Loss: 0.0759, Train MSE: 0.0759, Train MAE: 0.2070\n",
      "Epoch 330 - Validation Loss: 0.7124, Validation MSE: 0.7124, Validation MAE: 0.6133\n"
     ]
    },
    {
     "name": "stderr",
     "output_type": "stream",
     "text": [
      "Training Epoch 332: 100%|██████████| 901/901 [00:10<00:00, 85.63it/s]\n",
      "Training Epoch 333: 100%|██████████| 901/901 [00:10<00:00, 84.95it/s]\n",
      "Training Epoch 334: 100%|██████████| 901/901 [00:10<00:00, 85.10it/s]\n",
      "Training Epoch 335: 100%|██████████| 901/901 [00:10<00:00, 85.41it/s]\n",
      "Training Epoch 336: 100%|██████████| 901/901 [00:10<00:00, 86.29it/s]\n",
      "Training Epoch 337: 100%|██████████| 901/901 [00:10<00:00, 86.09it/s]\n",
      "Training Epoch 338: 100%|██████████| 901/901 [00:10<00:00, 85.08it/s]\n",
      "Training Epoch 339: 100%|██████████| 901/901 [00:10<00:00, 86.98it/s]\n",
      "Training Epoch 340: 100%|██████████| 901/901 [00:10<00:00, 86.08it/s]\n",
      "Training Epoch 341: 100%|██████████| 901/901 [00:10<00:00, 85.49it/s]\n"
     ]
    },
    {
     "name": "stdout",
     "output_type": "stream",
     "text": [
      "Epoch 340 - Train Loss: 0.0733, Train MSE: 0.0733, Train MAE: 0.2035\n",
      "Epoch 340 - Validation Loss: 0.7122, Validation MSE: 0.7122, Validation MAE: 0.6114\n"
     ]
    },
    {
     "name": "stderr",
     "output_type": "stream",
     "text": [
      "Training Epoch 342: 100%|██████████| 901/901 [00:10<00:00, 86.54it/s]\n",
      "Training Epoch 343: 100%|██████████| 901/901 [00:10<00:00, 85.64it/s]\n",
      "Training Epoch 344: 100%|██████████| 901/901 [00:10<00:00, 85.30it/s]\n",
      "Training Epoch 345: 100%|██████████| 901/901 [00:10<00:00, 86.88it/s]\n",
      "Training Epoch 346: 100%|██████████| 901/901 [00:10<00:00, 86.54it/s]\n",
      "Training Epoch 347: 100%|██████████| 901/901 [00:10<00:00, 86.29it/s]\n",
      "Training Epoch 348: 100%|██████████| 901/901 [00:10<00:00, 87.01it/s]\n",
      "Training Epoch 349: 100%|██████████| 901/901 [00:10<00:00, 86.10it/s]\n",
      "Training Epoch 350: 100%|██████████| 901/901 [00:10<00:00, 87.38it/s]\n",
      "Training Epoch 351: 100%|██████████| 901/901 [00:10<00:00, 84.74it/s]\n"
     ]
    },
    {
     "name": "stdout",
     "output_type": "stream",
     "text": [
      "Epoch 350 - Train Loss: 0.0723, Train MSE: 0.0723, Train MAE: 0.2021\n",
      "Epoch 350 - Validation Loss: 0.6960, Validation MSE: 0.6960, Validation MAE: 0.6077\n"
     ]
    },
    {
     "name": "stderr",
     "output_type": "stream",
     "text": [
      "Training Epoch 352: 100%|██████████| 901/901 [00:10<00:00, 85.19it/s]\n",
      "Training Epoch 353: 100%|██████████| 901/901 [00:10<00:00, 85.81it/s]\n",
      "Training Epoch 354: 100%|██████████| 901/901 [00:10<00:00, 85.80it/s]\n",
      "Training Epoch 355: 100%|██████████| 901/901 [00:10<00:00, 86.74it/s]\n",
      "Training Epoch 356: 100%|██████████| 901/901 [00:10<00:00, 86.51it/s]\n",
      "Training Epoch 357: 100%|██████████| 901/901 [00:10<00:00, 87.52it/s]\n",
      "Training Epoch 358: 100%|██████████| 901/901 [00:10<00:00, 85.38it/s]\n",
      "Training Epoch 359: 100%|██████████| 901/901 [00:10<00:00, 86.35it/s]\n",
      "Training Epoch 360: 100%|██████████| 901/901 [00:10<00:00, 85.59it/s]\n",
      "Training Epoch 361: 100%|██████████| 901/901 [00:10<00:00, 85.87it/s]\n"
     ]
    },
    {
     "name": "stdout",
     "output_type": "stream",
     "text": [
      "Epoch 360 - Train Loss: 0.0718, Train MSE: 0.0717, Train MAE: 0.1999\n",
      "Epoch 360 - Validation Loss: 0.6949, Validation MSE: 0.6949, Validation MAE: 0.6054\n"
     ]
    },
    {
     "name": "stderr",
     "output_type": "stream",
     "text": [
      "Training Epoch 362: 100%|██████████| 901/901 [00:10<00:00, 85.52it/s]\n",
      "Training Epoch 363: 100%|██████████| 901/901 [00:10<00:00, 87.33it/s]\n",
      "Training Epoch 364: 100%|██████████| 901/901 [00:10<00:00, 85.39it/s]\n",
      "Training Epoch 365: 100%|██████████| 901/901 [00:10<00:00, 87.41it/s]\n",
      "Training Epoch 366: 100%|██████████| 901/901 [00:10<00:00, 86.12it/s]\n",
      "Training Epoch 367: 100%|██████████| 901/901 [00:10<00:00, 84.86it/s]\n",
      "Training Epoch 368: 100%|██████████| 901/901 [00:10<00:00, 85.90it/s]\n",
      "Training Epoch 369: 100%|██████████| 901/901 [00:10<00:00, 85.89it/s]\n",
      "Training Epoch 370: 100%|██████████| 901/901 [00:10<00:00, 85.00it/s]\n",
      "Training Epoch 371: 100%|██████████| 901/901 [00:10<00:00, 84.33it/s]\n"
     ]
    },
    {
     "name": "stdout",
     "output_type": "stream",
     "text": [
      "Epoch 370 - Train Loss: 0.0700, Train MSE: 0.0700, Train MAE: 0.1990\n",
      "Epoch 370 - Validation Loss: 0.6982, Validation MSE: 0.6982, Validation MAE: 0.6084\n"
     ]
    },
    {
     "name": "stderr",
     "output_type": "stream",
     "text": [
      "Training Epoch 372: 100%|██████████| 901/901 [00:10<00:00, 86.55it/s]\n",
      "Training Epoch 373: 100%|██████████| 901/901 [00:10<00:00, 85.56it/s]\n",
      "Training Epoch 374: 100%|██████████| 901/901 [00:10<00:00, 85.82it/s]\n",
      "Training Epoch 375: 100%|██████████| 901/901 [00:10<00:00, 86.07it/s]\n",
      "Training Epoch 376: 100%|██████████| 901/901 [00:10<00:00, 86.38it/s]\n",
      "Training Epoch 377: 100%|██████████| 901/901 [00:10<00:00, 84.88it/s]\n",
      "Training Epoch 378: 100%|██████████| 901/901 [00:10<00:00, 85.90it/s]\n",
      "Training Epoch 379: 100%|██████████| 901/901 [00:10<00:00, 86.85it/s]\n",
      "Training Epoch 380: 100%|██████████| 901/901 [00:10<00:00, 87.54it/s]\n",
      "Training Epoch 381: 100%|██████████| 901/901 [00:10<00:00, 85.58it/s]\n"
     ]
    },
    {
     "name": "stdout",
     "output_type": "stream",
     "text": [
      "Epoch 380 - Train Loss: 0.0683, Train MSE: 0.0682, Train MAE: 0.1960\n",
      "Epoch 380 - Validation Loss: 0.7024, Validation MSE: 0.7024, Validation MAE: 0.6088\n"
     ]
    },
    {
     "name": "stderr",
     "output_type": "stream",
     "text": [
      "Training Epoch 382: 100%|██████████| 901/901 [00:10<00:00, 86.28it/s]\n",
      "Training Epoch 383: 100%|██████████| 901/901 [00:10<00:00, 85.23it/s]\n",
      "Training Epoch 384: 100%|██████████| 901/901 [00:10<00:00, 86.26it/s]\n",
      "Training Epoch 385: 100%|██████████| 901/901 [00:10<00:00, 85.46it/s]\n",
      "Training Epoch 386: 100%|██████████| 901/901 [00:10<00:00, 85.88it/s]\n",
      "Training Epoch 387: 100%|██████████| 901/901 [00:10<00:00, 85.02it/s]\n",
      "Training Epoch 388: 100%|██████████| 901/901 [00:10<00:00, 86.46it/s]\n",
      "Training Epoch 389: 100%|██████████| 901/901 [00:10<00:00, 85.96it/s]\n",
      "Training Epoch 390: 100%|██████████| 901/901 [00:10<00:00, 84.98it/s]\n",
      "Training Epoch 391: 100%|██████████| 901/901 [00:10<00:00, 87.49it/s]\n"
     ]
    },
    {
     "name": "stdout",
     "output_type": "stream",
     "text": [
      "Epoch 390 - Train Loss: 0.0694, Train MSE: 0.0693, Train MAE: 0.1972\n",
      "Epoch 390 - Validation Loss: 0.7012, Validation MSE: 0.7012, Validation MAE: 0.6073\n"
     ]
    },
    {
     "name": "stderr",
     "output_type": "stream",
     "text": [
      "Training Epoch 392: 100%|██████████| 901/901 [00:10<00:00, 86.68it/s]\n",
      "Training Epoch 393: 100%|██████████| 901/901 [00:10<00:00, 85.09it/s]\n",
      "Training Epoch 394: 100%|██████████| 901/901 [00:10<00:00, 86.64it/s]\n",
      "Training Epoch 395: 100%|██████████| 901/901 [00:10<00:00, 85.82it/s]\n",
      "Training Epoch 396: 100%|██████████| 901/901 [00:10<00:00, 87.02it/s]\n",
      "Training Epoch 397: 100%|██████████| 901/901 [00:10<00:00, 88.75it/s]\n",
      "Training Epoch 398: 100%|██████████| 901/901 [00:10<00:00, 87.05it/s]\n",
      "Training Epoch 399: 100%|██████████| 901/901 [00:10<00:00, 85.30it/s]\n",
      "Training Epoch 400: 100%|██████████| 901/901 [00:10<00:00, 87.21it/s]\n",
      "Training Epoch 401: 100%|██████████| 901/901 [00:10<00:00, 88.64it/s]\n"
     ]
    },
    {
     "name": "stdout",
     "output_type": "stream",
     "text": [
      "Epoch 400 - Train Loss: 0.0690, Train MSE: 0.0690, Train MAE: 0.1962\n",
      "Epoch 400 - Validation Loss: 0.6963, Validation MSE: 0.6963, Validation MAE: 0.6042\n"
     ]
    },
    {
     "name": "stderr",
     "output_type": "stream",
     "text": [
      "Training Epoch 402: 100%|██████████| 901/901 [00:10<00:00, 84.93it/s]\n",
      "Training Epoch 403: 100%|██████████| 901/901 [00:10<00:00, 86.58it/s]\n",
      "Training Epoch 404: 100%|██████████| 901/901 [00:10<00:00, 85.71it/s]\n",
      "Training Epoch 405: 100%|██████████| 901/901 [00:10<00:00, 87.62it/s]\n",
      "Training Epoch 406: 100%|██████████| 901/901 [00:10<00:00, 86.23it/s]\n",
      "Training Epoch 407: 100%|██████████| 901/901 [00:10<00:00, 86.73it/s]\n",
      "Training Epoch 408: 100%|██████████| 901/901 [00:10<00:00, 86.34it/s]\n",
      "Training Epoch 409: 100%|██████████| 901/901 [00:10<00:00, 86.28it/s]\n",
      "Training Epoch 410: 100%|██████████| 901/901 [00:10<00:00, 89.83it/s]\n",
      "Training Epoch 411: 100%|██████████| 901/901 [00:10<00:00, 85.45it/s]\n"
     ]
    },
    {
     "name": "stdout",
     "output_type": "stream",
     "text": [
      "Epoch 410 - Train Loss: 0.0650, Train MSE: 0.0650, Train MAE: 0.1916\n",
      "Epoch 410 - Validation Loss: 0.7096, Validation MSE: 0.7096, Validation MAE: 0.6110\n"
     ]
    },
    {
     "name": "stderr",
     "output_type": "stream",
     "text": [
      "Training Epoch 412: 100%|██████████| 901/901 [00:10<00:00, 85.80it/s]\n",
      "Training Epoch 413: 100%|██████████| 901/901 [00:10<00:00, 87.94it/s]\n",
      "Training Epoch 414: 100%|██████████| 901/901 [00:10<00:00, 85.73it/s]\n",
      "Training Epoch 415: 100%|██████████| 901/901 [00:10<00:00, 85.88it/s]\n",
      "Training Epoch 416: 100%|██████████| 901/901 [00:10<00:00, 86.49it/s]\n",
      "Training Epoch 417: 100%|██████████| 901/901 [00:10<00:00, 85.84it/s]\n",
      "Training Epoch 418: 100%|██████████| 901/901 [00:10<00:00, 85.49it/s]\n",
      "Training Epoch 419: 100%|██████████| 901/901 [00:10<00:00, 85.30it/s]\n",
      "Training Epoch 420: 100%|██████████| 901/901 [00:10<00:00, 86.78it/s]\n",
      "Training Epoch 421: 100%|██████████| 901/901 [00:10<00:00, 85.66it/s]\n"
     ]
    },
    {
     "name": "stdout",
     "output_type": "stream",
     "text": [
      "Epoch 420 - Train Loss: 0.0641, Train MSE: 0.0641, Train MAE: 0.1897\n",
      "Epoch 420 - Validation Loss: 0.6952, Validation MSE: 0.6952, Validation MAE: 0.6070\n"
     ]
    },
    {
     "name": "stderr",
     "output_type": "stream",
     "text": [
      "Training Epoch 422: 100%|██████████| 901/901 [00:10<00:00, 86.90it/s]\n",
      "Training Epoch 423: 100%|██████████| 901/901 [00:10<00:00, 86.00it/s]\n",
      "Training Epoch 424: 100%|██████████| 901/901 [00:10<00:00, 85.99it/s]\n",
      "Training Epoch 425: 100%|██████████| 901/901 [00:10<00:00, 86.69it/s]\n",
      "Training Epoch 426: 100%|██████████| 901/901 [00:10<00:00, 85.47it/s]\n",
      "Training Epoch 427: 100%|██████████| 901/901 [00:10<00:00, 86.22it/s]\n",
      "Training Epoch 428: 100%|██████████| 901/901 [00:10<00:00, 87.42it/s]\n",
      "Training Epoch 429: 100%|██████████| 901/901 [00:10<00:00, 86.04it/s]\n",
      "Training Epoch 430: 100%|██████████| 901/901 [00:10<00:00, 85.65it/s]\n",
      "Training Epoch 431: 100%|██████████| 901/901 [00:10<00:00, 86.36it/s]\n"
     ]
    },
    {
     "name": "stdout",
     "output_type": "stream",
     "text": [
      "Epoch 430 - Train Loss: 0.0638, Train MSE: 0.0638, Train MAE: 0.1884\n",
      "Epoch 430 - Validation Loss: 0.7028, Validation MSE: 0.7028, Validation MAE: 0.6080\n"
     ]
    },
    {
     "name": "stderr",
     "output_type": "stream",
     "text": [
      "Training Epoch 432: 100%|██████████| 901/901 [00:10<00:00, 85.22it/s]\n",
      "Training Epoch 433: 100%|██████████| 901/901 [00:10<00:00, 86.39it/s]\n",
      "Training Epoch 434: 100%|██████████| 901/901 [00:10<00:00, 86.44it/s]\n",
      "Training Epoch 435: 100%|██████████| 901/901 [00:10<00:00, 85.11it/s]\n",
      "Training Epoch 436: 100%|██████████| 901/901 [00:10<00:00, 85.83it/s]\n",
      "Training Epoch 437: 100%|██████████| 901/901 [00:10<00:00, 87.25it/s]\n",
      "Training Epoch 438: 100%|██████████| 901/901 [00:10<00:00, 85.92it/s]\n",
      "Training Epoch 439: 100%|██████████| 901/901 [00:10<00:00, 85.48it/s]\n",
      "Training Epoch 440: 100%|██████████| 901/901 [00:10<00:00, 88.48it/s]\n",
      "Training Epoch 441: 100%|██████████| 901/901 [00:10<00:00, 85.98it/s]\n"
     ]
    },
    {
     "name": "stdout",
     "output_type": "stream",
     "text": [
      "Epoch 440 - Train Loss: 0.0632, Train MSE: 0.0632, Train MAE: 0.1876\n",
      "Epoch 440 - Validation Loss: 0.6986, Validation MSE: 0.6986, Validation MAE: 0.6059\n"
     ]
    },
    {
     "name": "stderr",
     "output_type": "stream",
     "text": [
      "Training Epoch 442: 100%|██████████| 901/901 [00:10<00:00, 85.65it/s]\n",
      "Training Epoch 443: 100%|██████████| 901/901 [00:10<00:00, 86.74it/s]\n",
      "Training Epoch 444: 100%|██████████| 901/901 [00:10<00:00, 85.25it/s]\n",
      "Training Epoch 445: 100%|██████████| 901/901 [00:10<00:00, 85.52it/s]\n",
      "Training Epoch 446: 100%|██████████| 901/901 [00:10<00:00, 86.03it/s]\n",
      "Training Epoch 447: 100%|██████████| 901/901 [00:10<00:00, 85.32it/s]\n",
      "Training Epoch 448: 100%|██████████| 901/901 [00:10<00:00, 86.53it/s]\n",
      "Training Epoch 449: 100%|██████████| 901/901 [00:10<00:00, 87.08it/s]\n",
      "Training Epoch 450: 100%|██████████| 901/901 [00:10<00:00, 86.13it/s]\n",
      "Training Epoch 451: 100%|██████████| 901/901 [00:10<00:00, 87.89it/s]\n"
     ]
    },
    {
     "name": "stdout",
     "output_type": "stream",
     "text": [
      "Epoch 450 - Train Loss: 0.0621, Train MSE: 0.0621, Train MAE: 0.1866\n",
      "Epoch 450 - Validation Loss: 0.7006, Validation MSE: 0.7006, Validation MAE: 0.6068\n"
     ]
    },
    {
     "name": "stderr",
     "output_type": "stream",
     "text": [
      "Training Epoch 452: 100%|██████████| 901/901 [00:10<00:00, 86.85it/s]\n",
      "Training Epoch 453: 100%|██████████| 901/901 [00:10<00:00, 85.68it/s]\n",
      "Training Epoch 454: 100%|██████████| 901/901 [00:10<00:00, 84.93it/s]\n",
      "Training Epoch 455: 100%|██████████| 901/901 [00:10<00:00, 87.01it/s]\n",
      "Training Epoch 456: 100%|██████████| 901/901 [00:10<00:00, 87.83it/s]\n",
      "Training Epoch 457: 100%|██████████| 901/901 [00:10<00:00, 86.28it/s]\n",
      "Training Epoch 458: 100%|██████████| 901/901 [00:10<00:00, 84.55it/s]\n",
      "Training Epoch 459: 100%|██████████| 901/901 [00:10<00:00, 87.35it/s]\n",
      "Training Epoch 460: 100%|██████████| 901/901 [00:10<00:00, 85.69it/s]\n",
      "Training Epoch 461: 100%|██████████| 901/901 [00:10<00:00, 84.59it/s]\n"
     ]
    },
    {
     "name": "stdout",
     "output_type": "stream",
     "text": [
      "Epoch 460 - Train Loss: 0.0608, Train MSE: 0.0608, Train MAE: 0.1836\n",
      "Epoch 460 - Validation Loss: 0.7122, Validation MSE: 0.7122, Validation MAE: 0.6098\n"
     ]
    },
    {
     "name": "stderr",
     "output_type": "stream",
     "text": [
      "Training Epoch 462: 100%|██████████| 901/901 [00:10<00:00, 86.26it/s]\n",
      "Training Epoch 463: 100%|██████████| 901/901 [00:10<00:00, 85.90it/s]\n",
      "Training Epoch 464: 100%|██████████| 901/901 [00:10<00:00, 85.47it/s]\n",
      "Training Epoch 465: 100%|██████████| 901/901 [00:10<00:00, 86.50it/s]\n",
      "Training Epoch 466: 100%|██████████| 901/901 [00:10<00:00, 87.30it/s]\n",
      "Training Epoch 467: 100%|██████████| 901/901 [00:10<00:00, 88.13it/s]\n",
      "Training Epoch 468: 100%|██████████| 901/901 [00:10<00:00, 90.09it/s]\n",
      "Training Epoch 469: 100%|██████████| 901/901 [00:10<00:00, 85.97it/s]\n",
      "Training Epoch 470: 100%|██████████| 901/901 [00:10<00:00, 87.57it/s]\n",
      "Training Epoch 471: 100%|██████████| 901/901 [00:10<00:00, 87.21it/s]\n"
     ]
    },
    {
     "name": "stdout",
     "output_type": "stream",
     "text": [
      "Epoch 470 - Train Loss: 0.0584, Train MSE: 0.0584, Train MAE: 0.1809\n",
      "Epoch 470 - Validation Loss: 0.7012, Validation MSE: 0.7012, Validation MAE: 0.6081\n"
     ]
    },
    {
     "name": "stderr",
     "output_type": "stream",
     "text": [
      "Training Epoch 472: 100%|██████████| 901/901 [00:10<00:00, 85.70it/s]\n",
      "Training Epoch 473: 100%|██████████| 901/901 [00:10<00:00, 85.63it/s]\n",
      "Training Epoch 474: 100%|██████████| 901/901 [00:10<00:00, 86.49it/s]\n",
      "Training Epoch 475: 100%|██████████| 901/901 [00:10<00:00, 86.89it/s]\n",
      "Training Epoch 476: 100%|██████████| 901/901 [00:10<00:00, 85.87it/s]\n",
      "Training Epoch 477: 100%|██████████| 901/901 [00:10<00:00, 86.89it/s]\n",
      "Training Epoch 478: 100%|██████████| 901/901 [00:10<00:00, 85.71it/s]\n",
      "Training Epoch 479: 100%|██████████| 901/901 [00:10<00:00, 85.25it/s]\n",
      "Training Epoch 480: 100%|██████████| 901/901 [00:10<00:00, 87.23it/s]\n",
      "Training Epoch 481: 100%|██████████| 901/901 [00:10<00:00, 84.59it/s]\n"
     ]
    },
    {
     "name": "stdout",
     "output_type": "stream",
     "text": [
      "Epoch 480 - Train Loss: 0.0592, Train MSE: 0.0592, Train MAE: 0.1811\n",
      "Epoch 480 - Validation Loss: 0.6995, Validation MSE: 0.6995, Validation MAE: 0.6044\n"
     ]
    },
    {
     "name": "stderr",
     "output_type": "stream",
     "text": [
      "Training Epoch 482: 100%|██████████| 901/901 [00:10<00:00, 85.65it/s]\n",
      "Training Epoch 483: 100%|██████████| 901/901 [00:10<00:00, 90.07it/s]\n",
      "Training Epoch 484: 100%|██████████| 901/901 [00:10<00:00, 86.96it/s]\n",
      "Training Epoch 485: 100%|██████████| 901/901 [00:10<00:00, 85.28it/s]\n",
      "Training Epoch 486: 100%|██████████| 901/901 [00:10<00:00, 87.60it/s]\n",
      "Training Epoch 487: 100%|██████████| 901/901 [00:10<00:00, 85.95it/s]\n",
      "Training Epoch 488: 100%|██████████| 901/901 [00:10<00:00, 85.63it/s]\n",
      "Training Epoch 489: 100%|██████████| 901/901 [00:10<00:00, 86.48it/s]\n",
      "Training Epoch 490: 100%|██████████| 901/901 [00:10<00:00, 85.38it/s]\n",
      "Training Epoch 491: 100%|██████████| 901/901 [00:10<00:00, 85.05it/s]\n"
     ]
    },
    {
     "name": "stdout",
     "output_type": "stream",
     "text": [
      "Epoch 490 - Train Loss: 0.0576, Train MSE: 0.0576, Train MAE: 0.1788\n",
      "Epoch 490 - Validation Loss: 0.7082, Validation MSE: 0.7082, Validation MAE: 0.6127\n"
     ]
    },
    {
     "name": "stderr",
     "output_type": "stream",
     "text": [
      "Training Epoch 492: 100%|██████████| 901/901 [00:10<00:00, 86.12it/s]\n",
      "Training Epoch 493: 100%|██████████| 901/901 [00:10<00:00, 86.37it/s]\n",
      "Training Epoch 494: 100%|██████████| 901/901 [00:10<00:00, 85.36it/s]\n",
      "Training Epoch 495: 100%|██████████| 901/901 [00:10<00:00, 86.59it/s]\n",
      "Training Epoch 496: 100%|██████████| 901/901 [00:10<00:00, 86.04it/s]\n",
      "Training Epoch 497: 100%|██████████| 901/901 [00:10<00:00, 85.18it/s]\n",
      "Training Epoch 498: 100%|██████████| 901/901 [00:10<00:00, 86.45it/s]\n",
      "Training Epoch 499: 100%|██████████| 901/901 [00:10<00:00, 85.99it/s]\n",
      "Training Epoch 500: 100%|██████████| 901/901 [00:10<00:00, 85.93it/s]\n",
      "Training Epoch 501: 100%|██████████| 901/901 [00:10<00:00, 89.13it/s]\n"
     ]
    },
    {
     "name": "stdout",
     "output_type": "stream",
     "text": [
      "Epoch 500 - Train Loss: 0.0587, Train MSE: 0.0587, Train MAE: 0.1800\n",
      "Epoch 500 - Validation Loss: 0.7025, Validation MSE: 0.7025, Validation MAE: 0.6087\n"
     ]
    },
    {
     "name": "stderr",
     "output_type": "stream",
     "text": [
      "Training Epoch 502: 100%|██████████| 901/901 [00:10<00:00, 84.98it/s]\n",
      "Training Epoch 503: 100%|██████████| 901/901 [00:10<00:00, 85.25it/s]\n",
      "Training Epoch 504: 100%|██████████| 901/901 [00:10<00:00, 89.18it/s]\n",
      "Training Epoch 505: 100%|██████████| 901/901 [00:10<00:00, 85.36it/s]\n",
      "Training Epoch 506: 100%|██████████| 901/901 [00:10<00:00, 85.80it/s]\n",
      "Training Epoch 507: 100%|██████████| 901/901 [00:10<00:00, 86.36it/s]\n",
      "Training Epoch 508: 100%|██████████| 901/901 [00:10<00:00, 85.05it/s]\n",
      "Training Epoch 509: 100%|██████████| 901/901 [00:10<00:00, 85.78it/s]\n",
      "Training Epoch 510: 100%|██████████| 901/901 [00:10<00:00, 86.13it/s]\n",
      "Training Epoch 511: 100%|██████████| 901/901 [00:10<00:00, 86.08it/s]\n"
     ]
    },
    {
     "name": "stdout",
     "output_type": "stream",
     "text": [
      "Epoch 510 - Train Loss: 0.0568, Train MSE: 0.0568, Train MAE: 0.1776\n",
      "Epoch 510 - Validation Loss: 0.7057, Validation MSE: 0.7057, Validation MAE: 0.6099\n"
     ]
    },
    {
     "name": "stderr",
     "output_type": "stream",
     "text": [
      "Training Epoch 512: 100%|██████████| 901/901 [00:10<00:00, 85.48it/s]\n",
      "Training Epoch 513: 100%|██████████| 901/901 [00:10<00:00, 85.94it/s]\n",
      "Training Epoch 514: 100%|██████████| 901/901 [00:10<00:00, 85.86it/s]\n",
      "Training Epoch 515: 100%|██████████| 901/901 [00:10<00:00, 85.35it/s]\n",
      "Training Epoch 516: 100%|██████████| 901/901 [00:10<00:00, 86.34it/s]\n",
      "Training Epoch 517: 100%|██████████| 901/901 [00:10<00:00, 85.28it/s]\n",
      "Training Epoch 518: 100%|██████████| 901/901 [00:10<00:00, 86.47it/s]\n",
      "Training Epoch 519: 100%|██████████| 901/901 [00:10<00:00, 88.01it/s]\n",
      "Training Epoch 520: 100%|██████████| 901/901 [00:10<00:00, 86.52it/s]\n",
      "Training Epoch 521: 100%|██████████| 901/901 [00:10<00:00, 85.64it/s]\n"
     ]
    },
    {
     "name": "stdout",
     "output_type": "stream",
     "text": [
      "Epoch 520 - Train Loss: 0.0573, Train MSE: 0.0573, Train MAE: 0.1779\n",
      "Epoch 520 - Validation Loss: 0.7086, Validation MSE: 0.7086, Validation MAE: 0.6096\n"
     ]
    },
    {
     "name": "stderr",
     "output_type": "stream",
     "text": [
      "Training Epoch 522: 100%|██████████| 901/901 [00:10<00:00, 86.31it/s]\n",
      "Training Epoch 523: 100%|██████████| 901/901 [00:10<00:00, 85.48it/s]\n",
      "Training Epoch 524: 100%|██████████| 901/901 [00:10<00:00, 87.27it/s]\n",
      "Training Epoch 525: 100%|██████████| 901/901 [00:10<00:00, 85.55it/s]\n",
      "Training Epoch 526: 100%|██████████| 901/901 [00:10<00:00, 89.11it/s]\n",
      "Training Epoch 527: 100%|██████████| 901/901 [00:10<00:00, 85.76it/s]\n",
      "Training Epoch 528: 100%|██████████| 901/901 [00:10<00:00, 85.64it/s]\n",
      "Training Epoch 529: 100%|██████████| 901/901 [00:10<00:00, 85.20it/s]\n",
      "Training Epoch 530: 100%|██████████| 901/901 [00:10<00:00, 84.71it/s]\n",
      "Training Epoch 531: 100%|██████████| 901/901 [00:10<00:00, 86.02it/s]\n"
     ]
    },
    {
     "name": "stdout",
     "output_type": "stream",
     "text": [
      "Epoch 530 - Train Loss: 0.0561, Train MSE: 0.0561, Train MAE: 0.1766\n",
      "Epoch 530 - Validation Loss: 0.7001, Validation MSE: 0.7001, Validation MAE: 0.6079\n"
     ]
    },
    {
     "name": "stderr",
     "output_type": "stream",
     "text": [
      "Training Epoch 532: 100%|██████████| 901/901 [00:10<00:00, 87.60it/s]\n",
      "Training Epoch 533: 100%|██████████| 901/901 [00:10<00:00, 85.92it/s]\n",
      "Training Epoch 534: 100%|██████████| 901/901 [00:10<00:00, 85.29it/s]\n",
      "Training Epoch 535: 100%|██████████| 901/901 [00:10<00:00, 85.87it/s]\n",
      "Training Epoch 536: 100%|██████████| 901/901 [00:10<00:00, 86.76it/s]\n",
      "Training Epoch 537: 100%|██████████| 901/901 [00:10<00:00, 85.68it/s]\n",
      "Training Epoch 538: 100%|██████████| 901/901 [00:10<00:00, 86.41it/s]\n",
      "Training Epoch 539: 100%|██████████| 901/901 [00:10<00:00, 85.86it/s]\n",
      "Training Epoch 540: 100%|██████████| 901/901 [00:10<00:00, 85.45it/s]\n",
      "Training Epoch 541: 100%|██████████| 901/901 [00:10<00:00, 86.79it/s]\n"
     ]
    },
    {
     "name": "stdout",
     "output_type": "stream",
     "text": [
      "Epoch 540 - Train Loss: 0.0571, Train MSE: 0.0571, Train MAE: 0.1765\n",
      "Epoch 540 - Validation Loss: 0.7010, Validation MSE: 0.7010, Validation MAE: 0.6048\n"
     ]
    },
    {
     "name": "stderr",
     "output_type": "stream",
     "text": [
      "Training Epoch 542: 100%|██████████| 901/901 [00:10<00:00, 86.17it/s]\n",
      "Training Epoch 543: 100%|██████████| 901/901 [00:10<00:00, 85.92it/s]\n",
      "Training Epoch 544: 100%|██████████| 901/901 [00:10<00:00, 86.40it/s]\n",
      "Training Epoch 545: 100%|██████████| 901/901 [00:10<00:00, 88.17it/s]\n",
      "Training Epoch 546: 100%|██████████| 901/901 [00:10<00:00, 84.60it/s]\n",
      "Training Epoch 547: 100%|██████████| 901/901 [00:10<00:00, 86.75it/s]\n",
      "Training Epoch 548: 100%|██████████| 901/901 [00:10<00:00, 86.34it/s]\n",
      "Training Epoch 549: 100%|██████████| 901/901 [00:10<00:00, 85.20it/s]\n",
      "Training Epoch 550: 100%|██████████| 901/901 [00:10<00:00, 86.59it/s]\n",
      "Training Epoch 551: 100%|██████████| 901/901 [00:10<00:00, 85.64it/s]\n"
     ]
    },
    {
     "name": "stdout",
     "output_type": "stream",
     "text": [
      "Epoch 550 - Train Loss: 0.0553, Train MSE: 0.0553, Train MAE: 0.1750\n",
      "Epoch 550 - Validation Loss: 0.6927, Validation MSE: 0.6927, Validation MAE: 0.6034\n"
     ]
    },
    {
     "name": "stderr",
     "output_type": "stream",
     "text": [
      "Training Epoch 552: 100%|██████████| 901/901 [00:10<00:00, 85.40it/s]\n",
      "Training Epoch 553: 100%|██████████| 901/901 [00:10<00:00, 85.93it/s]\n",
      "Training Epoch 554: 100%|██████████| 901/901 [00:10<00:00, 85.56it/s]\n",
      "Training Epoch 555: 100%|██████████| 901/901 [00:10<00:00, 85.19it/s]\n",
      "Training Epoch 556: 100%|██████████| 901/901 [00:10<00:00, 86.78it/s]\n",
      "Training Epoch 557: 100%|██████████| 901/901 [00:10<00:00, 85.62it/s]\n",
      "Training Epoch 558: 100%|██████████| 901/901 [00:10<00:00, 87.81it/s]\n",
      "Training Epoch 559: 100%|██████████| 901/901 [00:10<00:00, 86.68it/s]\n",
      "Training Epoch 560: 100%|██████████| 901/901 [00:10<00:00, 85.86it/s]\n",
      "Training Epoch 561: 100%|██████████| 901/901 [00:10<00:00, 89.13it/s]\n"
     ]
    },
    {
     "name": "stdout",
     "output_type": "stream",
     "text": [
      "Epoch 560 - Train Loss: 0.0545, Train MSE: 0.0545, Train MAE: 0.1733\n",
      "Epoch 560 - Validation Loss: 0.6945, Validation MSE: 0.6945, Validation MAE: 0.6042\n"
     ]
    },
    {
     "name": "stderr",
     "output_type": "stream",
     "text": [
      "Training Epoch 562: 100%|██████████| 901/901 [00:10<00:00, 85.95it/s]\n",
      "Training Epoch 563: 100%|██████████| 901/901 [00:10<00:00, 85.57it/s]\n",
      "Training Epoch 564: 100%|██████████| 901/901 [00:10<00:00, 85.81it/s]\n",
      "Training Epoch 565: 100%|██████████| 901/901 [00:10<00:00, 86.81it/s]\n",
      "Training Epoch 566: 100%|██████████| 901/901 [00:10<00:00, 85.31it/s]\n",
      "Training Epoch 567: 100%|██████████| 901/901 [00:10<00:00, 86.24it/s]\n",
      "Training Epoch 568: 100%|██████████| 901/901 [00:10<00:00, 87.04it/s]\n",
      "Training Epoch 569: 100%|██████████| 901/901 [00:10<00:00, 84.98it/s]\n",
      "Training Epoch 570: 100%|██████████| 901/901 [00:10<00:00, 86.16it/s]\n",
      "Training Epoch 571: 100%|██████████| 901/901 [00:09<00:00, 90.71it/s] \n"
     ]
    },
    {
     "name": "stdout",
     "output_type": "stream",
     "text": [
      "Epoch 570 - Train Loss: 0.0528, Train MSE: 0.0528, Train MAE: 0.1713\n",
      "Epoch 570 - Validation Loss: 0.6955, Validation MSE: 0.6955, Validation MAE: 0.6063\n"
     ]
    },
    {
     "name": "stderr",
     "output_type": "stream",
     "text": [
      "Training Epoch 572: 100%|██████████| 901/901 [00:10<00:00, 85.85it/s]\n",
      "Training Epoch 573: 100%|██████████| 901/901 [00:10<00:00, 84.28it/s]\n",
      "Training Epoch 574: 100%|██████████| 901/901 [00:10<00:00, 85.70it/s]\n",
      "Training Epoch 575: 100%|██████████| 901/901 [00:10<00:00, 85.40it/s]\n",
      "Training Epoch 576: 100%|██████████| 901/901 [00:10<00:00, 87.01it/s]\n",
      "Training Epoch 577: 100%|██████████| 901/901 [00:10<00:00, 86.33it/s]\n",
      "Training Epoch 578: 100%|██████████| 901/901 [00:10<00:00, 86.62it/s]\n",
      "Training Epoch 579: 100%|██████████| 901/901 [00:10<00:00, 85.29it/s]\n",
      "Training Epoch 580: 100%|██████████| 901/901 [00:10<00:00, 88.04it/s]\n",
      "Training Epoch 581: 100%|██████████| 901/901 [00:10<00:00, 86.41it/s]\n"
     ]
    },
    {
     "name": "stdout",
     "output_type": "stream",
     "text": [
      "Epoch 580 - Train Loss: 0.0523, Train MSE: 0.0523, Train MAE: 0.1707\n",
      "Epoch 580 - Validation Loss: 0.6949, Validation MSE: 0.6949, Validation MAE: 0.6044\n"
     ]
    },
    {
     "name": "stderr",
     "output_type": "stream",
     "text": [
      "Training Epoch 582: 100%|██████████| 901/901 [00:10<00:00, 85.45it/s]\n",
      "Training Epoch 583: 100%|██████████| 901/901 [00:10<00:00, 85.03it/s]\n",
      "Training Epoch 584: 100%|██████████| 901/901 [00:10<00:00, 87.71it/s]\n",
      "Training Epoch 585: 100%|██████████| 901/901 [00:10<00:00, 85.04it/s]\n",
      "Training Epoch 586: 100%|██████████| 901/901 [00:10<00:00, 86.67it/s]\n",
      "Training Epoch 587: 100%|██████████| 901/901 [00:10<00:00, 85.50it/s]\n",
      "Training Epoch 588: 100%|██████████| 901/901 [00:10<00:00, 85.66it/s]\n",
      "Training Epoch 589: 100%|██████████| 901/901 [00:10<00:00, 86.20it/s]\n",
      "Training Epoch 590: 100%|██████████| 901/901 [00:10<00:00, 84.66it/s]\n",
      "Training Epoch 591: 100%|██████████| 901/901 [00:10<00:00, 86.41it/s]\n"
     ]
    },
    {
     "name": "stdout",
     "output_type": "stream",
     "text": [
      "Epoch 590 - Train Loss: 0.0509, Train MSE: 0.0509, Train MAE: 0.1684\n",
      "Epoch 590 - Validation Loss: 0.7011, Validation MSE: 0.7011, Validation MAE: 0.6057\n"
     ]
    },
    {
     "name": "stderr",
     "output_type": "stream",
     "text": [
      "Training Epoch 592: 100%|██████████| 901/901 [00:10<00:00, 88.43it/s]\n",
      "Training Epoch 593: 100%|██████████| 901/901 [00:10<00:00, 88.79it/s]\n",
      "Training Epoch 594: 100%|██████████| 901/901 [00:10<00:00, 85.33it/s]\n",
      "Training Epoch 595: 100%|██████████| 901/901 [00:10<00:00, 88.33it/s]\n",
      "Training Epoch 596: 100%|██████████| 901/901 [00:10<00:00, 85.80it/s]\n",
      "Training Epoch 597: 100%|██████████| 901/901 [00:10<00:00, 86.82it/s]\n",
      "Training Epoch 598: 100%|██████████| 901/901 [00:10<00:00, 88.61it/s]\n",
      "Training Epoch 599: 100%|██████████| 901/901 [00:10<00:00, 85.76it/s]\n",
      "Training Epoch 600: 100%|██████████| 901/901 [00:10<00:00, 85.23it/s]\n",
      "Training Epoch 601: 100%|██████████| 901/901 [00:10<00:00, 86.32it/s]\n"
     ]
    },
    {
     "name": "stdout",
     "output_type": "stream",
     "text": [
      "Epoch 600 - Train Loss: 0.0509, Train MSE: 0.0509, Train MAE: 0.1689\n",
      "Epoch 600 - Validation Loss: 0.7067, Validation MSE: 0.7067, Validation MAE: 0.6079\n"
     ]
    },
    {
     "name": "stderr",
     "output_type": "stream",
     "text": [
      "Training Epoch 602: 100%|██████████| 901/901 [00:10<00:00, 85.23it/s]\n",
      "Training Epoch 603: 100%|██████████| 901/901 [00:10<00:00, 85.63it/s]\n",
      "Training Epoch 604: 100%|██████████| 901/901 [00:10<00:00, 87.01it/s]\n",
      "Training Epoch 605: 100%|██████████| 901/901 [00:10<00:00, 85.76it/s]\n",
      "Training Epoch 606: 100%|██████████| 901/901 [00:10<00:00, 87.84it/s]\n",
      "Training Epoch 607: 100%|██████████| 901/901 [00:10<00:00, 86.49it/s]\n",
      "Training Epoch 608: 100%|██████████| 901/901 [00:10<00:00, 87.53it/s]\n",
      "Training Epoch 609: 100%|██████████| 901/901 [00:10<00:00, 85.19it/s]\n",
      "Training Epoch 610: 100%|██████████| 901/901 [00:10<00:00, 89.70it/s]\n",
      "Training Epoch 611: 100%|██████████| 901/901 [00:10<00:00, 86.17it/s]\n"
     ]
    },
    {
     "name": "stdout",
     "output_type": "stream",
     "text": [
      "Epoch 610 - Train Loss: 0.0523, Train MSE: 0.0523, Train MAE: 0.1698\n",
      "Epoch 610 - Validation Loss: 0.6998, Validation MSE: 0.6998, Validation MAE: 0.6066\n"
     ]
    },
    {
     "name": "stderr",
     "output_type": "stream",
     "text": [
      "Training Epoch 612: 100%|██████████| 901/901 [00:10<00:00, 85.68it/s]\n",
      "Training Epoch 613: 100%|██████████| 901/901 [00:10<00:00, 87.30it/s]\n",
      "Training Epoch 614: 100%|██████████| 901/901 [00:10<00:00, 84.88it/s]\n",
      "Training Epoch 615: 100%|██████████| 901/901 [00:10<00:00, 85.54it/s]\n",
      "Training Epoch 616: 100%|██████████| 901/901 [00:10<00:00, 86.40it/s]\n",
      "Training Epoch 617: 100%|██████████| 901/901 [00:10<00:00, 85.35it/s]\n",
      "Training Epoch 618: 100%|██████████| 901/901 [00:10<00:00, 87.10it/s]\n",
      "Training Epoch 619: 100%|██████████| 901/901 [00:10<00:00, 85.88it/s]\n",
      "Training Epoch 620: 100%|██████████| 901/901 [00:10<00:00, 87.03it/s]\n",
      "Training Epoch 621: 100%|██████████| 901/901 [00:10<00:00, 85.67it/s]\n"
     ]
    },
    {
     "name": "stdout",
     "output_type": "stream",
     "text": [
      "Epoch 620 - Train Loss: 0.0515, Train MSE: 0.0514, Train MAE: 0.1685\n",
      "Epoch 620 - Validation Loss: 0.7070, Validation MSE: 0.7070, Validation MAE: 0.6092\n"
     ]
    },
    {
     "name": "stderr",
     "output_type": "stream",
     "text": [
      "Training Epoch 622: 100%|██████████| 901/901 [00:10<00:00, 85.89it/s]\n",
      "Training Epoch 623: 100%|██████████| 901/901 [00:10<00:00, 85.95it/s]\n",
      "Training Epoch 624: 100%|██████████| 901/901 [00:10<00:00, 85.55it/s]\n",
      "Training Epoch 625: 100%|██████████| 901/901 [00:10<00:00, 85.85it/s]\n",
      "Training Epoch 626: 100%|██████████| 901/901 [00:10<00:00, 86.61it/s]\n",
      "Training Epoch 627: 100%|██████████| 901/901 [00:10<00:00, 85.36it/s]\n",
      "Training Epoch 628: 100%|██████████| 901/901 [00:10<00:00, 86.70it/s]\n",
      "Training Epoch 629: 100%|██████████| 901/901 [00:10<00:00, 89.50it/s]\n",
      "Training Epoch 630: 100%|██████████| 901/901 [00:10<00:00, 86.12it/s]\n",
      "Training Epoch 631: 100%|██████████| 901/901 [00:10<00:00, 88.69it/s]\n"
     ]
    },
    {
     "name": "stdout",
     "output_type": "stream",
     "text": [
      "Epoch 630 - Train Loss: 0.0505, Train MSE: 0.0505, Train MAE: 0.1666\n",
      "Epoch 630 - Validation Loss: 0.7016, Validation MSE: 0.7016, Validation MAE: 0.6071\n"
     ]
    },
    {
     "name": "stderr",
     "output_type": "stream",
     "text": [
      "Training Epoch 632: 100%|██████████| 901/901 [00:10<00:00, 85.98it/s]\n",
      "Training Epoch 633: 100%|██████████| 901/901 [00:10<00:00, 86.27it/s]\n",
      "Training Epoch 634: 100%|██████████| 901/901 [00:10<00:00, 86.06it/s]\n",
      "Training Epoch 635: 100%|██████████| 901/901 [00:10<00:00, 86.48it/s]\n",
      "Training Epoch 636: 100%|██████████| 901/901 [00:10<00:00, 87.12it/s]\n",
      "Training Epoch 637: 100%|██████████| 901/901 [00:10<00:00, 85.74it/s]\n",
      "Training Epoch 638: 100%|██████████| 901/901 [00:10<00:00, 87.06it/s]\n",
      "Training Epoch 639: 100%|██████████| 901/901 [00:10<00:00, 85.25it/s]\n",
      "Training Epoch 640: 100%|██████████| 901/901 [00:10<00:00, 85.64it/s]\n",
      "Training Epoch 641: 100%|██████████| 901/901 [00:10<00:00, 86.34it/s]\n"
     ]
    },
    {
     "name": "stdout",
     "output_type": "stream",
     "text": [
      "Epoch 640 - Train Loss: 0.0483, Train MSE: 0.0483, Train MAE: 0.1642\n",
      "Epoch 640 - Validation Loss: 0.7118, Validation MSE: 0.7118, Validation MAE: 0.6110\n"
     ]
    },
    {
     "name": "stderr",
     "output_type": "stream",
     "text": [
      "Training Epoch 642: 100%|██████████| 901/901 [00:10<00:00, 86.58it/s]\n",
      "Training Epoch 643: 100%|██████████| 901/901 [00:10<00:00, 85.77it/s]\n",
      "Training Epoch 644: 100%|██████████| 901/901 [00:10<00:00, 86.05it/s]\n",
      "Training Epoch 645: 100%|██████████| 901/901 [00:10<00:00, 85.60it/s]\n",
      "Training Epoch 646: 100%|██████████| 901/901 [00:10<00:00, 86.26it/s]\n",
      "Training Epoch 647: 100%|██████████| 901/901 [00:10<00:00, 87.16it/s]\n",
      "Training Epoch 648: 100%|██████████| 901/901 [00:10<00:00, 86.65it/s]\n",
      "Training Epoch 649: 100%|██████████| 901/901 [00:10<00:00, 85.75it/s]\n",
      "Training Epoch 650: 100%|██████████| 901/901 [00:10<00:00, 87.62it/s]\n",
      "Training Epoch 651: 100%|██████████| 901/901 [00:10<00:00, 86.98it/s]\n"
     ]
    },
    {
     "name": "stdout",
     "output_type": "stream",
     "text": [
      "Epoch 650 - Train Loss: 0.0496, Train MSE: 0.0496, Train MAE: 0.1650\n",
      "Epoch 650 - Validation Loss: 0.7061, Validation MSE: 0.7061, Validation MAE: 0.6094\n"
     ]
    },
    {
     "name": "stderr",
     "output_type": "stream",
     "text": [
      "Training Epoch 652: 100%|██████████| 901/901 [00:10<00:00, 85.02it/s]\n",
      "Training Epoch 653: 100%|██████████| 901/901 [00:10<00:00, 88.64it/s]\n",
      "Training Epoch 654: 100%|██████████| 901/901 [00:10<00:00, 87.35it/s]\n",
      "Training Epoch 655: 100%|██████████| 901/901 [00:10<00:00, 85.02it/s]\n",
      "Training Epoch 656: 100%|██████████| 901/901 [00:10<00:00, 89.60it/s]\n",
      "Training Epoch 657: 100%|██████████| 901/901 [00:10<00:00, 85.71it/s]\n",
      "Training Epoch 658: 100%|██████████| 901/901 [00:10<00:00, 87.17it/s]\n",
      "Training Epoch 659: 100%|██████████| 901/901 [00:10<00:00, 89.69it/s]\n",
      "Training Epoch 660: 100%|██████████| 901/901 [00:10<00:00, 85.85it/s]\n",
      "Training Epoch 661: 100%|██████████| 901/901 [00:10<00:00, 87.53it/s]\n"
     ]
    },
    {
     "name": "stdout",
     "output_type": "stream",
     "text": [
      "Epoch 660 - Train Loss: 0.0503, Train MSE: 0.0503, Train MAE: 0.1659\n",
      "Epoch 660 - Validation Loss: 0.7092, Validation MSE: 0.7092, Validation MAE: 0.6099\n"
     ]
    },
    {
     "name": "stderr",
     "output_type": "stream",
     "text": [
      "Training Epoch 662: 100%|██████████| 901/901 [00:10<00:00, 87.30it/s]\n",
      "Training Epoch 663: 100%|██████████| 901/901 [00:10<00:00, 85.69it/s]\n",
      "Training Epoch 664: 100%|██████████| 901/901 [00:10<00:00, 87.39it/s]\n",
      "Training Epoch 665: 100%|██████████| 901/901 [00:10<00:00, 88.68it/s]\n",
      "Training Epoch 666: 100%|██████████| 901/901 [00:10<00:00, 85.29it/s]\n",
      "Training Epoch 667: 100%|██████████| 901/901 [00:10<00:00, 86.66it/s]\n",
      "Training Epoch 668: 100%|██████████| 901/901 [00:10<00:00, 87.81it/s]\n",
      "Training Epoch 669: 100%|██████████| 901/901 [00:10<00:00, 87.93it/s]\n",
      "Training Epoch 670: 100%|██████████| 901/901 [00:10<00:00, 85.67it/s]\n",
      "Training Epoch 671: 100%|██████████| 901/901 [00:10<00:00, 88.97it/s]\n"
     ]
    },
    {
     "name": "stdout",
     "output_type": "stream",
     "text": [
      "Epoch 670 - Train Loss: 0.0478, Train MSE: 0.0479, Train MAE: 0.1635\n",
      "Epoch 670 - Validation Loss: 0.6987, Validation MSE: 0.6987, Validation MAE: 0.6064\n"
     ]
    },
    {
     "name": "stderr",
     "output_type": "stream",
     "text": [
      "Training Epoch 672: 100%|██████████| 901/901 [00:10<00:00, 86.21it/s]\n",
      "Training Epoch 673: 100%|██████████| 901/901 [00:10<00:00, 87.19it/s]\n",
      "Training Epoch 674: 100%|██████████| 901/901 [00:10<00:00, 88.15it/s]\n",
      "Training Epoch 675: 100%|██████████| 901/901 [00:10<00:00, 86.24it/s]\n",
      "Training Epoch 676: 100%|██████████| 901/901 [00:10<00:00, 86.47it/s]\n",
      "Training Epoch 677: 100%|██████████| 901/901 [00:10<00:00, 86.68it/s]\n",
      "Training Epoch 678: 100%|██████████| 901/901 [00:10<00:00, 86.51it/s]\n",
      "Training Epoch 679: 100%|██████████| 901/901 [00:10<00:00, 87.92it/s]\n",
      "Training Epoch 680: 100%|██████████| 901/901 [00:10<00:00, 87.66it/s]\n",
      "Training Epoch 681: 100%|██████████| 901/901 [00:10<00:00, 86.29it/s]\n"
     ]
    },
    {
     "name": "stdout",
     "output_type": "stream",
     "text": [
      "Epoch 680 - Train Loss: 0.0484, Train MSE: 0.0484, Train MAE: 0.1636\n",
      "Epoch 680 - Validation Loss: 0.7008, Validation MSE: 0.7008, Validation MAE: 0.6060\n"
     ]
    },
    {
     "name": "stderr",
     "output_type": "stream",
     "text": [
      "Training Epoch 682: 100%|██████████| 901/901 [00:10<00:00, 87.37it/s]\n",
      "Training Epoch 683: 100%|██████████| 901/901 [00:10<00:00, 87.93it/s]\n",
      "Training Epoch 684: 100%|██████████| 901/901 [00:10<00:00, 87.94it/s] \n",
      "Training Epoch 685: 100%|██████████| 901/901 [00:10<00:00, 85.54it/s]\n",
      "Training Epoch 686: 100%|██████████| 901/901 [00:10<00:00, 88.77it/s]\n",
      "Training Epoch 687: 100%|██████████| 901/901 [00:10<00:00, 86.57it/s]\n",
      "Training Epoch 688: 100%|██████████| 901/901 [00:10<00:00, 87.32it/s]\n",
      "Training Epoch 689: 100%|██████████| 901/901 [00:10<00:00, 88.56it/s]\n",
      "Training Epoch 690: 100%|██████████| 901/901 [00:10<00:00, 86.62it/s]\n",
      "Training Epoch 691: 100%|██████████| 901/901 [00:10<00:00, 85.38it/s]\n"
     ]
    },
    {
     "name": "stdout",
     "output_type": "stream",
     "text": [
      "Epoch 690 - Train Loss: 0.0492, Train MSE: 0.0492, Train MAE: 0.1639\n",
      "Epoch 690 - Validation Loss: 0.7006, Validation MSE: 0.7006, Validation MAE: 0.6083\n"
     ]
    },
    {
     "name": "stderr",
     "output_type": "stream",
     "text": [
      "Training Epoch 692: 100%|██████████| 901/901 [00:10<00:00, 87.28it/s]\n",
      "Training Epoch 693: 100%|██████████| 901/901 [00:10<00:00, 86.59it/s]\n",
      "Training Epoch 694: 100%|██████████| 901/901 [00:10<00:00, 86.54it/s]\n",
      "Training Epoch 695: 100%|██████████| 901/901 [00:10<00:00, 87.57it/s]\n",
      "Training Epoch 696: 100%|██████████| 901/901 [00:10<00:00, 88.43it/s]\n",
      "Training Epoch 697: 100%|██████████| 901/901 [00:10<00:00, 85.64it/s]\n",
      "Training Epoch 698: 100%|██████████| 901/901 [00:10<00:00, 88.36it/s]\n",
      "Training Epoch 699: 100%|██████████| 901/901 [00:10<00:00, 89.25it/s]\n",
      "Training Epoch 700: 100%|██████████| 901/901 [00:10<00:00, 85.37it/s]\n",
      "Training Epoch 701: 100%|██████████| 901/901 [00:10<00:00, 87.66it/s]\n"
     ]
    },
    {
     "name": "stdout",
     "output_type": "stream",
     "text": [
      "Epoch 700 - Train Loss: 0.0495, Train MSE: 0.0495, Train MAE: 0.1649\n",
      "Epoch 700 - Validation Loss: 0.7082, Validation MSE: 0.7082, Validation MAE: 0.6093\n"
     ]
    },
    {
     "name": "stderr",
     "output_type": "stream",
     "text": [
      "Training Epoch 702: 100%|██████████| 901/901 [00:10<00:00, 88.66it/s]\n",
      "Training Epoch 703: 100%|██████████| 901/901 [00:10<00:00, 85.97it/s]\n",
      "Training Epoch 704: 100%|██████████| 901/901 [00:10<00:00, 87.94it/s]\n",
      "Training Epoch 705: 100%|██████████| 901/901 [00:10<00:00, 87.91it/s]\n",
      "Training Epoch 706: 100%|██████████| 901/901 [00:10<00:00, 86.76it/s]\n",
      "Training Epoch 707: 100%|██████████| 901/901 [00:10<00:00, 86.36it/s]\n",
      "Training Epoch 708: 100%|██████████| 901/901 [00:10<00:00, 86.52it/s]\n",
      "Training Epoch 709: 100%|██████████| 901/901 [00:10<00:00, 88.11it/s]\n",
      "Training Epoch 710: 100%|██████████| 901/901 [00:10<00:00, 86.65it/s]\n",
      "Training Epoch 711: 100%|██████████| 901/901 [00:10<00:00, 85.41it/s]\n"
     ]
    },
    {
     "name": "stdout",
     "output_type": "stream",
     "text": [
      "Epoch 710 - Train Loss: 0.0472, Train MSE: 0.0472, Train MAE: 0.1614\n",
      "Epoch 710 - Validation Loss: 0.6986, Validation MSE: 0.6986, Validation MAE: 0.6043\n"
     ]
    },
    {
     "name": "stderr",
     "output_type": "stream",
     "text": [
      "Training Epoch 712: 100%|██████████| 901/901 [00:10<00:00, 86.69it/s]\n",
      "Training Epoch 713: 100%|██████████| 901/901 [00:10<00:00, 88.10it/s]\n",
      "Training Epoch 714: 100%|██████████| 901/901 [00:10<00:00, 85.96it/s]\n",
      "Training Epoch 715: 100%|██████████| 901/901 [00:10<00:00, 87.60it/s]\n",
      "Training Epoch 716: 100%|██████████| 901/901 [00:10<00:00, 88.15it/s]\n",
      "Training Epoch 717: 100%|██████████| 901/901 [00:10<00:00, 85.63it/s]\n",
      "Training Epoch 718: 100%|██████████| 901/901 [00:10<00:00, 85.24it/s]\n",
      "Training Epoch 719: 100%|██████████| 901/901 [00:10<00:00, 87.30it/s]\n",
      "Training Epoch 720: 100%|██████████| 901/901 [00:10<00:00, 86.83it/s]\n",
      "Training Epoch 721: 100%|██████████| 901/901 [00:10<00:00, 85.87it/s]\n"
     ]
    },
    {
     "name": "stdout",
     "output_type": "stream",
     "text": [
      "Epoch 720 - Train Loss: 0.0486, Train MSE: 0.0486, Train MAE: 0.1626\n",
      "Epoch 720 - Validation Loss: 0.7082, Validation MSE: 0.7082, Validation MAE: 0.6110\n"
     ]
    },
    {
     "name": "stderr",
     "output_type": "stream",
     "text": [
      "Training Epoch 722: 100%|██████████| 901/901 [00:10<00:00, 88.28it/s] \n",
      "Training Epoch 723: 100%|██████████| 901/901 [00:10<00:00, 87.31it/s]\n",
      "Training Epoch 724: 100%|██████████| 901/901 [00:10<00:00, 86.36it/s]\n",
      "Training Epoch 725: 100%|██████████| 901/901 [00:10<00:00, 87.65it/s]\n",
      "Training Epoch 726: 100%|██████████| 901/901 [00:10<00:00, 86.69it/s]\n",
      "Training Epoch 727: 100%|██████████| 901/901 [00:10<00:00, 88.69it/s]\n",
      "Training Epoch 728: 100%|██████████| 901/901 [00:10<00:00, 87.37it/s]\n",
      "Training Epoch 729: 100%|██████████| 901/901 [00:10<00:00, 86.52it/s]\n",
      "Training Epoch 730: 100%|██████████| 901/901 [00:10<00:00, 86.24it/s]\n",
      "Training Epoch 731: 100%|██████████| 901/901 [00:10<00:00, 88.19it/s]\n"
     ]
    },
    {
     "name": "stdout",
     "output_type": "stream",
     "text": [
      "Epoch 730 - Train Loss: 0.0459, Train MSE: 0.0459, Train MAE: 0.1590\n",
      "Epoch 730 - Validation Loss: 0.7147, Validation MSE: 0.7147, Validation MAE: 0.6134\n"
     ]
    },
    {
     "name": "stderr",
     "output_type": "stream",
     "text": [
      "Training Epoch 732: 100%|██████████| 901/901 [00:10<00:00, 86.88it/s]\n",
      "Training Epoch 733: 100%|██████████| 901/901 [00:10<00:00, 86.59it/s]\n",
      "Training Epoch 734: 100%|██████████| 901/901 [00:10<00:00, 87.10it/s]\n",
      "Training Epoch 735: 100%|██████████| 901/901 [00:10<00:00, 86.51it/s]\n",
      "Training Epoch 736: 100%|██████████| 901/901 [00:10<00:00, 85.82it/s]\n",
      "Training Epoch 737: 100%|██████████| 901/901 [00:10<00:00, 88.23it/s]\n",
      "Training Epoch 738: 100%|██████████| 901/901 [00:10<00:00, 87.49it/s]\n",
      "Training Epoch 739: 100%|██████████| 901/901 [00:10<00:00, 86.22it/s]\n",
      "Training Epoch 740: 100%|██████████| 901/901 [00:10<00:00, 87.01it/s]\n",
      "Training Epoch 741: 100%|██████████| 901/901 [00:09<00:00, 91.50it/s]\n"
     ]
    },
    {
     "name": "stdout",
     "output_type": "stream",
     "text": [
      "Epoch 740 - Train Loss: 0.0451, Train MSE: 0.0451, Train MAE: 0.1586\n",
      "Epoch 740 - Validation Loss: 0.7070, Validation MSE: 0.7070, Validation MAE: 0.6085\n"
     ]
    },
    {
     "name": "stderr",
     "output_type": "stream",
     "text": [
      "Training Epoch 742: 100%|██████████| 901/901 [00:10<00:00, 85.56it/s]\n",
      "Training Epoch 743: 100%|██████████| 901/901 [00:10<00:00, 86.63it/s]\n",
      "Training Epoch 744: 100%|██████████| 901/901 [00:10<00:00, 86.72it/s]\n",
      "Training Epoch 745: 100%|██████████| 901/901 [00:10<00:00, 85.69it/s]\n",
      "Training Epoch 746: 100%|██████████| 901/901 [00:10<00:00, 87.55it/s]\n",
      "Training Epoch 747: 100%|██████████| 901/901 [00:10<00:00, 87.61it/s]\n",
      "Training Epoch 748: 100%|██████████| 901/901 [00:10<00:00, 87.15it/s]\n",
      "Training Epoch 749: 100%|██████████| 901/901 [00:10<00:00, 87.82it/s]\n",
      "Training Epoch 750: 100%|██████████| 901/901 [00:10<00:00, 87.39it/s]\n",
      "Training Epoch 751: 100%|██████████| 901/901 [00:10<00:00, 88.90it/s]\n"
     ]
    },
    {
     "name": "stdout",
     "output_type": "stream",
     "text": [
      "Epoch 750 - Train Loss: 0.0455, Train MSE: 0.0455, Train MAE: 0.1587\n",
      "Epoch 750 - Validation Loss: 0.7104, Validation MSE: 0.7104, Validation MAE: 0.6114\n"
     ]
    },
    {
     "name": "stderr",
     "output_type": "stream",
     "text": [
      "Training Epoch 752: 100%|██████████| 901/901 [00:10<00:00, 86.05it/s]\n",
      "Training Epoch 753: 100%|██████████| 901/901 [00:09<00:00, 90.72it/s]\n",
      "Training Epoch 754: 100%|██████████| 901/901 [00:10<00:00, 85.13it/s]\n",
      "Training Epoch 755: 100%|██████████| 901/901 [00:10<00:00, 86.49it/s]\n",
      "Training Epoch 756: 100%|██████████| 901/901 [00:10<00:00, 87.69it/s]\n",
      "Training Epoch 757: 100%|██████████| 901/901 [00:10<00:00, 86.05it/s]\n",
      "Training Epoch 758: 100%|██████████| 901/901 [00:10<00:00, 86.14it/s]\n",
      "Training Epoch 759: 100%|██████████| 901/901 [00:10<00:00, 87.32it/s]\n",
      "Training Epoch 760: 100%|██████████| 901/901 [00:10<00:00, 85.69it/s]\n",
      "Training Epoch 761: 100%|██████████| 901/901 [00:10<00:00, 86.28it/s]\n"
     ]
    },
    {
     "name": "stdout",
     "output_type": "stream",
     "text": [
      "Epoch 760 - Train Loss: 0.0461, Train MSE: 0.0461, Train MAE: 0.1600\n",
      "Epoch 760 - Validation Loss: 0.7047, Validation MSE: 0.7047, Validation MAE: 0.6061\n"
     ]
    },
    {
     "name": "stderr",
     "output_type": "stream",
     "text": [
      "Training Epoch 762: 100%|██████████| 901/901 [00:10<00:00, 89.20it/s] \n",
      "Training Epoch 763: 100%|██████████| 901/901 [00:10<00:00, 85.48it/s]\n",
      "Training Epoch 764: 100%|██████████| 901/901 [00:10<00:00, 86.78it/s]\n",
      "Training Epoch 765: 100%|██████████| 901/901 [00:10<00:00, 88.56it/s]\n",
      "Training Epoch 766: 100%|██████████| 901/901 [00:10<00:00, 87.84it/s]\n",
      "Training Epoch 767: 100%|██████████| 901/901 [00:10<00:00, 87.31it/s]\n",
      "Training Epoch 768: 100%|██████████| 901/901 [00:10<00:00, 88.52it/s]\n",
      "Training Epoch 769: 100%|██████████| 901/901 [00:10<00:00, 85.95it/s]\n",
      "Training Epoch 770: 100%|██████████| 901/901 [00:10<00:00, 86.41it/s]\n",
      "Training Epoch 771: 100%|██████████| 901/901 [00:10<00:00, 86.70it/s]\n"
     ]
    },
    {
     "name": "stdout",
     "output_type": "stream",
     "text": [
      "Epoch 770 - Train Loss: 0.0475, Train MSE: 0.0475, Train MAE: 0.1590\n",
      "Epoch 770 - Validation Loss: 0.6983, Validation MSE: 0.6983, Validation MAE: 0.6055\n"
     ]
    },
    {
     "name": "stderr",
     "output_type": "stream",
     "text": [
      "Training Epoch 772: 100%|██████████| 901/901 [00:10<00:00, 86.90it/s]\n",
      "Training Epoch 773: 100%|██████████| 901/901 [00:10<00:00, 85.71it/s]\n",
      "Training Epoch 774: 100%|██████████| 901/901 [00:10<00:00, 87.39it/s]\n",
      "Training Epoch 775: 100%|██████████| 901/901 [00:10<00:00, 86.97it/s]\n",
      "Training Epoch 776: 100%|██████████| 901/901 [00:10<00:00, 86.13it/s]\n",
      "Training Epoch 777: 100%|██████████| 901/901 [00:10<00:00, 87.46it/s]\n",
      "Training Epoch 778: 100%|██████████| 901/901 [00:10<00:00, 86.43it/s]\n",
      "Training Epoch 779: 100%|██████████| 901/901 [00:10<00:00, 85.85it/s]\n",
      "Training Epoch 780: 100%|██████████| 901/901 [00:10<00:00, 89.11it/s]\n",
      "Training Epoch 781: 100%|██████████| 901/901 [00:10<00:00, 86.15it/s]\n"
     ]
    },
    {
     "name": "stdout",
     "output_type": "stream",
     "text": [
      "Epoch 780 - Train Loss: 0.0446, Train MSE: 0.0446, Train MAE: 0.1572\n",
      "Epoch 780 - Validation Loss: 0.7058, Validation MSE: 0.7058, Validation MAE: 0.6076\n"
     ]
    },
    {
     "name": "stderr",
     "output_type": "stream",
     "text": [
      "Training Epoch 782: 100%|██████████| 901/901 [00:10<00:00, 86.42it/s]\n",
      "Training Epoch 783: 100%|██████████| 901/901 [00:10<00:00, 87.62it/s]\n",
      "Training Epoch 784: 100%|██████████| 901/901 [00:10<00:00, 86.84it/s]\n",
      "Training Epoch 785: 100%|██████████| 901/901 [00:10<00:00, 86.02it/s]\n",
      "Training Epoch 786: 100%|██████████| 901/901 [00:10<00:00, 88.17it/s]\n",
      "Training Epoch 787: 100%|██████████| 901/901 [00:10<00:00, 87.32it/s]\n",
      "Training Epoch 788: 100%|██████████| 901/901 [00:10<00:00, 86.16it/s]\n",
      "Training Epoch 789: 100%|██████████| 901/901 [00:10<00:00, 86.61it/s]\n",
      "Training Epoch 790: 100%|██████████| 901/901 [00:10<00:00, 87.37it/s] \n",
      "Training Epoch 791: 100%|██████████| 901/901 [00:10<00:00, 89.24it/s]\n"
     ]
    },
    {
     "name": "stdout",
     "output_type": "stream",
     "text": [
      "Epoch 790 - Train Loss: 0.0442, Train MSE: 0.0442, Train MAE: 0.1568\n",
      "Epoch 790 - Validation Loss: 0.7101, Validation MSE: 0.7101, Validation MAE: 0.6099\n"
     ]
    },
    {
     "name": "stderr",
     "output_type": "stream",
     "text": [
      "Training Epoch 792: 100%|██████████| 901/901 [00:10<00:00, 86.90it/s]\n",
      "Training Epoch 793: 100%|██████████| 901/901 [00:10<00:00, 85.22it/s]\n",
      "Training Epoch 794: 100%|██████████| 901/901 [00:10<00:00, 86.47it/s]\n",
      "Training Epoch 795: 100%|██████████| 901/901 [00:10<00:00, 87.19it/s]\n",
      "Training Epoch 796: 100%|██████████| 901/901 [00:10<00:00, 86.18it/s]\n",
      "Training Epoch 797: 100%|██████████| 901/901 [00:10<00:00, 85.64it/s]\n",
      "Training Epoch 798: 100%|██████████| 901/901 [00:10<00:00, 86.87it/s]\n",
      "Training Epoch 799: 100%|██████████| 901/901 [00:10<00:00, 85.37it/s]\n",
      "Training Epoch 800: 100%|██████████| 901/901 [00:10<00:00, 85.50it/s]\n",
      "Training Epoch 801: 100%|██████████| 901/901 [00:10<00:00, 87.46it/s]\n"
     ]
    },
    {
     "name": "stdout",
     "output_type": "stream",
     "text": [
      "Epoch 800 - Train Loss: 0.0437, Train MSE: 0.0437, Train MAE: 0.1550\n",
      "Epoch 800 - Validation Loss: 0.6935, Validation MSE: 0.6935, Validation MAE: 0.6052\n"
     ]
    },
    {
     "name": "stderr",
     "output_type": "stream",
     "text": [
      "Training Epoch 802: 100%|██████████| 901/901 [00:10<00:00, 86.07it/s]\n",
      "Training Epoch 803: 100%|██████████| 901/901 [00:10<00:00, 86.42it/s]\n",
      "Training Epoch 804: 100%|██████████| 901/901 [00:10<00:00, 86.76it/s]\n",
      "Training Epoch 805: 100%|██████████| 901/901 [00:10<00:00, 85.88it/s]\n",
      "Training Epoch 806: 100%|██████████| 901/901 [00:10<00:00, 85.64it/s]\n",
      "Training Epoch 807: 100%|██████████| 901/901 [00:09<00:00, 90.56it/s] \n",
      "Training Epoch 808: 100%|██████████| 901/901 [00:10<00:00, 86.71it/s]\n",
      "Training Epoch 809: 100%|██████████| 901/901 [00:10<00:00, 85.72it/s]\n",
      "Training Epoch 810: 100%|██████████| 901/901 [00:10<00:00, 87.92it/s]\n",
      "Training Epoch 811: 100%|██████████| 901/901 [00:10<00:00, 88.07it/s]\n"
     ]
    },
    {
     "name": "stdout",
     "output_type": "stream",
     "text": [
      "Epoch 810 - Train Loss: 0.0441, Train MSE: 0.0441, Train MAE: 0.1563\n",
      "Epoch 810 - Validation Loss: 0.7061, Validation MSE: 0.7061, Validation MAE: 0.6092\n"
     ]
    },
    {
     "name": "stderr",
     "output_type": "stream",
     "text": [
      "Training Epoch 812: 100%|██████████| 901/901 [00:11<00:00, 81.91it/s]\n",
      "Training Epoch 813: 100%|██████████| 901/901 [00:10<00:00, 86.26it/s]\n",
      "Training Epoch 814: 100%|██████████| 901/901 [00:10<00:00, 87.42it/s]\n",
      "Training Epoch 815: 100%|██████████| 901/901 [00:10<00:00, 86.92it/s]\n",
      "Training Epoch 816: 100%|██████████| 901/901 [00:10<00:00, 87.62it/s]\n",
      "Training Epoch 817: 100%|██████████| 901/901 [00:10<00:00, 86.04it/s]\n",
      "Training Epoch 818: 100%|██████████| 901/901 [00:10<00:00, 87.07it/s]\n",
      "Training Epoch 819: 100%|██████████| 901/901 [00:10<00:00, 87.96it/s]\n",
      "Training Epoch 820: 100%|██████████| 901/901 [00:10<00:00, 86.92it/s]\n",
      "Training Epoch 821: 100%|██████████| 901/901 [00:10<00:00, 87.90it/s]\n"
     ]
    },
    {
     "name": "stdout",
     "output_type": "stream",
     "text": [
      "Epoch 820 - Train Loss: 0.0432, Train MSE: 0.0432, Train MAE: 0.1545\n",
      "Epoch 820 - Validation Loss: 0.7015, Validation MSE: 0.7015, Validation MAE: 0.6067\n"
     ]
    },
    {
     "name": "stderr",
     "output_type": "stream",
     "text": [
      "Training Epoch 822: 100%|██████████| 901/901 [00:10<00:00, 87.98it/s]\n",
      "Training Epoch 823: 100%|██████████| 901/901 [00:10<00:00, 86.32it/s]\n",
      "Training Epoch 824: 100%|██████████| 901/901 [00:10<00:00, 86.14it/s]\n",
      "Training Epoch 825: 100%|██████████| 901/901 [00:10<00:00, 89.19it/s]\n",
      "Training Epoch 826: 100%|██████████| 901/901 [00:10<00:00, 85.63it/s]\n",
      "Training Epoch 827: 100%|██████████| 901/901 [00:10<00:00, 87.17it/s]\n",
      "Training Epoch 828: 100%|██████████| 901/901 [00:10<00:00, 87.41it/s]\n",
      "Training Epoch 829: 100%|██████████| 901/901 [00:10<00:00, 86.04it/s]\n",
      "Training Epoch 830: 100%|██████████| 901/901 [00:10<00:00, 88.50it/s]\n",
      "Training Epoch 831: 100%|██████████| 901/901 [00:10<00:00, 87.01it/s]\n"
     ]
    },
    {
     "name": "stdout",
     "output_type": "stream",
     "text": [
      "Epoch 830 - Train Loss: 0.0423, Train MSE: 0.0423, Train MAE: 0.1530\n",
      "Epoch 830 - Validation Loss: 0.7053, Validation MSE: 0.7053, Validation MAE: 0.6082\n"
     ]
    },
    {
     "name": "stderr",
     "output_type": "stream",
     "text": [
      "Training Epoch 832: 100%|██████████| 901/901 [00:10<00:00, 86.43it/s]\n",
      "Training Epoch 833: 100%|██████████| 901/901 [00:10<00:00, 86.70it/s]\n",
      "Training Epoch 834: 100%|██████████| 901/901 [00:10<00:00, 87.45it/s]\n",
      "Training Epoch 835: 100%|██████████| 901/901 [00:10<00:00, 87.58it/s]\n",
      "Training Epoch 836: 100%|██████████| 901/901 [00:10<00:00, 86.98it/s]\n",
      "Training Epoch 837: 100%|██████████| 901/901 [00:10<00:00, 86.94it/s]\n",
      "Training Epoch 838: 100%|██████████| 901/901 [00:10<00:00, 87.52it/s]\n",
      "Training Epoch 839: 100%|██████████| 901/901 [00:10<00:00, 86.38it/s]\n",
      "Training Epoch 840: 100%|██████████| 901/901 [00:10<00:00, 87.76it/s]\n",
      "Training Epoch 841: 100%|██████████| 901/901 [00:10<00:00, 86.21it/s]\n"
     ]
    },
    {
     "name": "stdout",
     "output_type": "stream",
     "text": [
      "Epoch 840 - Train Loss: 0.0430, Train MSE: 0.0430, Train MAE: 0.1532\n",
      "Epoch 840 - Validation Loss: 0.7071, Validation MSE: 0.7071, Validation MAE: 0.6077\n"
     ]
    },
    {
     "name": "stderr",
     "output_type": "stream",
     "text": [
      "Training Epoch 842: 100%|██████████| 901/901 [00:10<00:00, 85.83it/s]\n",
      "Training Epoch 843: 100%|██████████| 901/901 [00:10<00:00, 87.44it/s]\n",
      "Training Epoch 844: 100%|██████████| 901/901 [00:10<00:00, 89.23it/s]\n",
      "Training Epoch 845: 100%|██████████| 901/901 [00:10<00:00, 86.90it/s]\n",
      "Training Epoch 846: 100%|██████████| 901/901 [00:10<00:00, 88.02it/s]\n",
      "Training Epoch 847: 100%|██████████| 901/901 [00:10<00:00, 87.82it/s]\n",
      "Training Epoch 848: 100%|██████████| 901/901 [00:10<00:00, 85.62it/s]\n",
      "Training Epoch 849: 100%|██████████| 901/901 [00:10<00:00, 87.56it/s]\n",
      "Training Epoch 850: 100%|██████████| 901/901 [00:10<00:00, 88.06it/s]\n",
      "Training Epoch 851: 100%|██████████| 901/901 [00:10<00:00, 86.38it/s]\n"
     ]
    },
    {
     "name": "stdout",
     "output_type": "stream",
     "text": [
      "Epoch 850 - Train Loss: 0.0438, Train MSE: 0.0438, Train MAE: 0.1546\n",
      "Epoch 850 - Validation Loss: 0.7053, Validation MSE: 0.7053, Validation MAE: 0.6071\n"
     ]
    },
    {
     "name": "stderr",
     "output_type": "stream",
     "text": [
      "Training Epoch 852: 100%|██████████| 901/901 [00:10<00:00, 86.93it/s]\n",
      "Training Epoch 853: 100%|██████████| 901/901 [00:10<00:00, 85.59it/s]\n",
      "Training Epoch 854: 100%|██████████| 901/901 [00:10<00:00, 87.01it/s]\n",
      "Training Epoch 855: 100%|██████████| 901/901 [00:10<00:00, 87.67it/s]\n",
      "Training Epoch 856: 100%|██████████| 901/901 [00:10<00:00, 86.52it/s]\n",
      "Training Epoch 857: 100%|██████████| 901/901 [00:10<00:00, 86.76it/s]\n",
      "Training Epoch 858: 100%|██████████| 901/901 [00:10<00:00, 87.33it/s]\n",
      "Training Epoch 859: 100%|██████████| 901/901 [00:10<00:00, 86.24it/s]\n",
      "Training Epoch 860: 100%|██████████| 901/901 [00:10<00:00, 86.32it/s]\n",
      "Training Epoch 861: 100%|██████████| 901/901 [00:10<00:00, 88.46it/s]\n"
     ]
    },
    {
     "name": "stdout",
     "output_type": "stream",
     "text": [
      "Epoch 860 - Train Loss: 0.0426, Train MSE: 0.0426, Train MAE: 0.1535\n",
      "Epoch 860 - Validation Loss: 0.6932, Validation MSE: 0.6932, Validation MAE: 0.6006\n"
     ]
    },
    {
     "name": "stderr",
     "output_type": "stream",
     "text": [
      "Training Epoch 862: 100%|██████████| 901/901 [00:10<00:00, 87.18it/s]\n",
      "Training Epoch 863: 100%|██████████| 901/901 [00:10<00:00, 86.32it/s]\n",
      "Training Epoch 864: 100%|██████████| 901/901 [00:10<00:00, 87.34it/s]\n",
      "Training Epoch 865: 100%|██████████| 901/901 [00:10<00:00, 86.22it/s]\n",
      "Training Epoch 866: 100%|██████████| 901/901 [00:10<00:00, 86.54it/s]\n",
      "Training Epoch 867: 100%|██████████| 901/901 [00:10<00:00, 87.41it/s]\n",
      "Training Epoch 868: 100%|██████████| 901/901 [00:10<00:00, 85.87it/s]\n",
      "Training Epoch 869: 100%|██████████| 901/901 [00:10<00:00, 86.62it/s]\n",
      "Training Epoch 870: 100%|██████████| 901/901 [00:10<00:00, 87.62it/s]\n",
      "Training Epoch 871: 100%|██████████| 901/901 [00:10<00:00, 87.96it/s]\n"
     ]
    },
    {
     "name": "stdout",
     "output_type": "stream",
     "text": [
      "Epoch 870 - Train Loss: 0.0427, Train MSE: 0.0427, Train MAE: 0.1525\n",
      "Epoch 870 - Validation Loss: 0.7005, Validation MSE: 0.7005, Validation MAE: 0.6084\n"
     ]
    },
    {
     "name": "stderr",
     "output_type": "stream",
     "text": [
      "Training Epoch 872: 100%|██████████| 901/901 [00:10<00:00, 85.20it/s]\n",
      "Training Epoch 873: 100%|██████████| 901/901 [00:10<00:00, 86.47it/s]\n",
      "Training Epoch 874: 100%|██████████| 901/901 [00:10<00:00, 86.75it/s]\n",
      "Training Epoch 875: 100%|██████████| 901/901 [00:10<00:00, 84.36it/s]\n",
      "Training Epoch 876: 100%|██████████| 901/901 [00:10<00:00, 86.79it/s]\n",
      "Training Epoch 877: 100%|██████████| 901/901 [00:10<00:00, 85.67it/s]\n",
      "Training Epoch 878: 100%|██████████| 901/901 [00:10<00:00, 86.52it/s]\n",
      "Training Epoch 879: 100%|██████████| 901/901 [00:10<00:00, 88.00it/s]\n",
      "Training Epoch 880: 100%|██████████| 901/901 [00:10<00:00, 85.75it/s]\n",
      "Training Epoch 881: 100%|██████████| 901/901 [00:10<00:00, 85.97it/s]\n"
     ]
    },
    {
     "name": "stdout",
     "output_type": "stream",
     "text": [
      "Epoch 880 - Train Loss: 0.0431, Train MSE: 0.0431, Train MAE: 0.1525\n",
      "Epoch 880 - Validation Loss: 0.7053, Validation MSE: 0.7053, Validation MAE: 0.6063\n"
     ]
    },
    {
     "name": "stderr",
     "output_type": "stream",
     "text": [
      "Training Epoch 882: 100%|██████████| 901/901 [00:10<00:00, 87.50it/s]\n",
      "Training Epoch 883: 100%|██████████| 901/901 [00:10<00:00, 86.59it/s]\n",
      "Training Epoch 884: 100%|██████████| 901/901 [00:10<00:00, 85.97it/s]\n",
      "Training Epoch 885: 100%|██████████| 901/901 [00:10<00:00, 87.85it/s]\n",
      "Training Epoch 886: 100%|██████████| 901/901 [00:10<00:00, 86.04it/s]\n",
      "Training Epoch 887: 100%|██████████| 901/901 [00:10<00:00, 86.40it/s]\n",
      "Training Epoch 888: 100%|██████████| 901/901 [00:10<00:00, 88.44it/s]\n",
      "Training Epoch 889: 100%|██████████| 901/901 [00:10<00:00, 85.98it/s]\n",
      "Training Epoch 890: 100%|██████████| 901/901 [00:10<00:00, 87.06it/s]\n",
      "Training Epoch 891: 100%|██████████| 901/901 [00:10<00:00, 88.71it/s]\n"
     ]
    },
    {
     "name": "stdout",
     "output_type": "stream",
     "text": [
      "Epoch 890 - Train Loss: 0.0424, Train MSE: 0.0424, Train MAE: 0.1524\n",
      "Epoch 890 - Validation Loss: 0.7129, Validation MSE: 0.7129, Validation MAE: 0.6096\n"
     ]
    },
    {
     "name": "stderr",
     "output_type": "stream",
     "text": [
      "Training Epoch 892: 100%|██████████| 901/901 [00:10<00:00, 86.10it/s]\n",
      "Training Epoch 893: 100%|██████████| 901/901 [00:10<00:00, 87.33it/s]\n",
      "Training Epoch 894: 100%|██████████| 901/901 [00:10<00:00, 89.19it/s]\n",
      "Training Epoch 895: 100%|██████████| 901/901 [00:10<00:00, 88.18it/s]\n",
      "Training Epoch 896: 100%|██████████| 901/901 [00:10<00:00, 86.31it/s]\n",
      "Training Epoch 897: 100%|██████████| 901/901 [00:10<00:00, 86.52it/s]\n",
      "Training Epoch 898: 100%|██████████| 901/901 [00:10<00:00, 86.89it/s]\n",
      "Training Epoch 899: 100%|██████████| 901/901 [00:10<00:00, 86.80it/s]\n",
      "Training Epoch 900: 100%|██████████| 901/901 [00:10<00:00, 86.85it/s]\n",
      "Training Epoch 901: 100%|██████████| 901/901 [00:10<00:00, 86.60it/s]\n"
     ]
    },
    {
     "name": "stdout",
     "output_type": "stream",
     "text": [
      "Epoch 900 - Train Loss: 0.0410, Train MSE: 0.0410, Train MAE: 0.1495\n",
      "Epoch 900 - Validation Loss: 0.6906, Validation MSE: 0.6906, Validation MAE: 0.6002\n"
     ]
    },
    {
     "name": "stderr",
     "output_type": "stream",
     "text": [
      "Training Epoch 902: 100%|██████████| 901/901 [00:10<00:00, 86.89it/s]\n",
      "Training Epoch 903: 100%|██████████| 901/901 [00:10<00:00, 89.60it/s]\n",
      "Training Epoch 904: 100%|██████████| 901/901 [00:10<00:00, 87.50it/s]\n",
      "Training Epoch 905: 100%|██████████| 901/901 [00:11<00:00, 79.71it/s]\n",
      "Training Epoch 906: 100%|██████████| 901/901 [00:10<00:00, 87.20it/s]\n",
      "Training Epoch 907: 100%|██████████| 901/901 [00:10<00:00, 87.39it/s]\n",
      "Training Epoch 908: 100%|██████████| 901/901 [00:10<00:00, 86.26it/s]\n",
      "Training Epoch 909: 100%|██████████| 901/901 [00:10<00:00, 88.70it/s]\n",
      "Training Epoch 910: 100%|██████████| 901/901 [00:10<00:00, 89.02it/s]\n",
      "Training Epoch 911: 100%|██████████| 901/901 [00:10<00:00, 86.82it/s]\n"
     ]
    },
    {
     "name": "stdout",
     "output_type": "stream",
     "text": [
      "Epoch 910 - Train Loss: 0.0419, Train MSE: 0.0418, Train MAE: 0.1512\n",
      "Epoch 910 - Validation Loss: 0.6922, Validation MSE: 0.6922, Validation MAE: 0.6026\n"
     ]
    },
    {
     "name": "stderr",
     "output_type": "stream",
     "text": [
      "Training Epoch 912: 100%|██████████| 901/901 [00:10<00:00, 88.03it/s]\n",
      "Training Epoch 913: 100%|██████████| 901/901 [00:10<00:00, 87.10it/s]\n",
      "Training Epoch 914: 100%|██████████| 901/901 [00:10<00:00, 85.67it/s]\n",
      "Training Epoch 915: 100%|██████████| 901/901 [00:10<00:00, 87.32it/s]\n",
      "Training Epoch 916: 100%|██████████| 901/901 [00:10<00:00, 87.67it/s]\n",
      "Training Epoch 917: 100%|██████████| 901/901 [00:10<00:00, 86.74it/s]\n",
      "Training Epoch 918: 100%|██████████| 901/901 [00:10<00:00, 86.82it/s]\n",
      "Training Epoch 919: 100%|██████████| 901/901 [00:10<00:00, 86.71it/s]\n",
      "Training Epoch 920: 100%|██████████| 901/901 [00:10<00:00, 88.02it/s]\n",
      "Training Epoch 921: 100%|██████████| 901/901 [00:10<00:00, 86.86it/s]\n"
     ]
    },
    {
     "name": "stdout",
     "output_type": "stream",
     "text": [
      "Epoch 920 - Train Loss: 0.0394, Train MSE: 0.0394, Train MAE: 0.1478\n",
      "Epoch 920 - Validation Loss: 0.7048, Validation MSE: 0.7048, Validation MAE: 0.6084\n"
     ]
    },
    {
     "name": "stderr",
     "output_type": "stream",
     "text": [
      "Training Epoch 922: 100%|██████████| 901/901 [00:10<00:00, 86.47it/s]\n",
      "Training Epoch 923: 100%|██████████| 901/901 [00:10<00:00, 85.88it/s]\n",
      "Training Epoch 924: 100%|██████████| 901/901 [00:10<00:00, 86.98it/s]\n",
      "Training Epoch 925: 100%|██████████| 901/901 [00:10<00:00, 85.77it/s]\n",
      "Training Epoch 926: 100%|██████████| 901/901 [00:10<00:00, 86.88it/s]\n",
      "Training Epoch 927: 100%|██████████| 901/901 [00:10<00:00, 87.31it/s]\n",
      "Training Epoch 928: 100%|██████████| 901/901 [00:10<00:00, 85.89it/s]\n",
      "Training Epoch 929: 100%|██████████| 901/901 [00:10<00:00, 86.76it/s]\n",
      "Training Epoch 930: 100%|██████████| 901/901 [00:10<00:00, 87.70it/s]\n",
      "Training Epoch 931: 100%|██████████| 901/901 [00:10<00:00, 85.96it/s]\n"
     ]
    },
    {
     "name": "stdout",
     "output_type": "stream",
     "text": [
      "Epoch 930 - Train Loss: 0.0398, Train MSE: 0.0398, Train MAE: 0.1489\n",
      "Epoch 930 - Validation Loss: 0.7079, Validation MSE: 0.7079, Validation MAE: 0.6072\n"
     ]
    },
    {
     "name": "stderr",
     "output_type": "stream",
     "text": [
      "Training Epoch 932: 100%|██████████| 901/901 [00:10<00:00, 85.87it/s]\n",
      "Training Epoch 933: 100%|██████████| 901/901 [00:10<00:00, 87.26it/s]\n",
      "Training Epoch 934: 100%|██████████| 901/901 [00:10<00:00, 88.44it/s]\n",
      "Training Epoch 935: 100%|██████████| 901/901 [00:10<00:00, 86.90it/s]\n",
      "Training Epoch 936: 100%|██████████| 901/901 [00:10<00:00, 87.35it/s]\n",
      "Training Epoch 937: 100%|██████████| 901/901 [00:10<00:00, 87.72it/s]\n",
      "Training Epoch 938: 100%|██████████| 901/901 [00:10<00:00, 88.05it/s]\n",
      "Training Epoch 939: 100%|██████████| 901/901 [00:10<00:00, 87.59it/s]\n",
      "Training Epoch 940: 100%|██████████| 901/901 [00:10<00:00, 87.50it/s]\n",
      "Training Epoch 941: 100%|██████████| 901/901 [00:10<00:00, 88.02it/s]\n"
     ]
    },
    {
     "name": "stdout",
     "output_type": "stream",
     "text": [
      "Epoch 940 - Train Loss: 0.0402, Train MSE: 0.0402, Train MAE: 0.1486\n",
      "Epoch 940 - Validation Loss: 0.6978, Validation MSE: 0.6978, Validation MAE: 0.6056\n"
     ]
    },
    {
     "name": "stderr",
     "output_type": "stream",
     "text": [
      "Training Epoch 942: 100%|██████████| 901/901 [00:10<00:00, 87.63it/s]\n",
      "Training Epoch 943: 100%|██████████| 901/901 [00:10<00:00, 87.55it/s]\n",
      "Training Epoch 944: 100%|██████████| 901/901 [00:10<00:00, 87.73it/s]\n",
      "Training Epoch 945: 100%|██████████| 901/901 [00:10<00:00, 87.98it/s]\n",
      "Training Epoch 946: 100%|██████████| 901/901 [00:10<00:00, 87.31it/s]\n",
      "Training Epoch 947: 100%|██████████| 901/901 [00:10<00:00, 86.30it/s]\n",
      "Training Epoch 948: 100%|██████████| 901/901 [00:10<00:00, 87.57it/s]\n",
      "Training Epoch 949: 100%|██████████| 901/901 [00:10<00:00, 87.47it/s]\n",
      "Training Epoch 950: 100%|██████████| 901/901 [00:10<00:00, 86.58it/s]\n",
      "Training Epoch 951: 100%|██████████| 901/901 [00:10<00:00, 87.28it/s]\n"
     ]
    },
    {
     "name": "stdout",
     "output_type": "stream",
     "text": [
      "Epoch 950 - Train Loss: 0.0398, Train MSE: 0.0398, Train MAE: 0.1478\n",
      "Epoch 950 - Validation Loss: 0.6985, Validation MSE: 0.6985, Validation MAE: 0.6052\n"
     ]
    },
    {
     "name": "stderr",
     "output_type": "stream",
     "text": [
      "Training Epoch 952: 100%|██████████| 901/901 [00:10<00:00, 85.44it/s]\n",
      "Training Epoch 953: 100%|██████████| 901/901 [00:10<00:00, 86.40it/s]\n",
      "Training Epoch 954: 100%|██████████| 901/901 [00:10<00:00, 87.63it/s]\n",
      "Training Epoch 955: 100%|██████████| 901/901 [00:10<00:00, 86.30it/s]\n",
      "Training Epoch 956: 100%|██████████| 901/901 [00:10<00:00, 88.06it/s]\n",
      "Training Epoch 957: 100%|██████████| 901/901 [00:10<00:00, 88.06it/s]\n",
      "Training Epoch 958: 100%|██████████| 901/901 [00:10<00:00, 85.26it/s]\n",
      "Training Epoch 959: 100%|██████████| 901/901 [00:10<00:00, 87.11it/s]\n",
      "Training Epoch 960: 100%|██████████| 901/901 [00:10<00:00, 87.96it/s]\n",
      "Training Epoch 961: 100%|██████████| 901/901 [00:10<00:00, 86.22it/s]\n"
     ]
    },
    {
     "name": "stdout",
     "output_type": "stream",
     "text": [
      "Epoch 960 - Train Loss: 0.0404, Train MSE: 0.0404, Train MAE: 0.1484\n",
      "Epoch 960 - Validation Loss: 0.6926, Validation MSE: 0.6926, Validation MAE: 0.6016\n"
     ]
    },
    {
     "name": "stderr",
     "output_type": "stream",
     "text": [
      "Training Epoch 962: 100%|██████████| 901/901 [00:10<00:00, 87.02it/s]\n",
      "Training Epoch 963: 100%|██████████| 901/901 [00:10<00:00, 89.29it/s]\n",
      "Training Epoch 964: 100%|██████████| 901/901 [00:10<00:00, 86.35it/s]\n",
      "Training Epoch 965: 100%|██████████| 901/901 [00:10<00:00, 87.84it/s]\n",
      "Training Epoch 966: 100%|██████████| 901/901 [00:10<00:00, 89.76it/s]\n",
      "Training Epoch 967: 100%|██████████| 901/901 [00:10<00:00, 88.42it/s]\n",
      "Training Epoch 968: 100%|██████████| 901/901 [00:10<00:00, 86.98it/s]\n",
      "Training Epoch 969: 100%|██████████| 901/901 [00:10<00:00, 87.05it/s]\n",
      "Training Epoch 970: 100%|██████████| 901/901 [00:10<00:00, 86.85it/s]\n",
      "Training Epoch 971: 100%|██████████| 901/901 [00:10<00:00, 86.08it/s]\n"
     ]
    },
    {
     "name": "stdout",
     "output_type": "stream",
     "text": [
      "Epoch 970 - Train Loss: 0.0386, Train MSE: 0.0386, Train MAE: 0.1462\n",
      "Epoch 970 - Validation Loss: 0.7007, Validation MSE: 0.7007, Validation MAE: 0.6076\n"
     ]
    },
    {
     "name": "stderr",
     "output_type": "stream",
     "text": [
      "Training Epoch 972: 100%|██████████| 901/901 [00:10<00:00, 87.60it/s]\n",
      "Training Epoch 973: 100%|██████████| 901/901 [00:10<00:00, 87.00it/s]\n",
      "Training Epoch 974: 100%|██████████| 901/901 [00:10<00:00, 85.79it/s]\n",
      "Training Epoch 975: 100%|██████████| 901/901 [00:10<00:00, 87.24it/s]\n",
      "Training Epoch 976: 100%|██████████| 901/901 [00:10<00:00, 85.90it/s]\n",
      "Training Epoch 977: 100%|██████████| 901/901 [00:10<00:00, 86.54it/s]\n",
      "Training Epoch 978: 100%|██████████| 901/901 [00:10<00:00, 85.29it/s]\n",
      "Training Epoch 979: 100%|██████████| 901/901 [00:10<00:00, 87.80it/s]\n",
      "Training Epoch 980: 100%|██████████| 901/901 [00:10<00:00, 85.10it/s]\n",
      "Training Epoch 981: 100%|██████████| 901/901 [00:10<00:00, 86.60it/s]\n"
     ]
    },
    {
     "name": "stdout",
     "output_type": "stream",
     "text": [
      "Epoch 980 - Train Loss: 0.0397, Train MSE: 0.0397, Train MAE: 0.1472\n",
      "Epoch 980 - Validation Loss: 0.6969, Validation MSE: 0.6969, Validation MAE: 0.6043\n"
     ]
    },
    {
     "name": "stderr",
     "output_type": "stream",
     "text": [
      "Training Epoch 982: 100%|██████████| 901/901 [00:10<00:00, 86.10it/s]\n",
      "Training Epoch 983: 100%|██████████| 901/901 [00:10<00:00, 85.64it/s]\n",
      "Training Epoch 984: 100%|██████████| 901/901 [00:10<00:00, 86.53it/s]\n",
      "Training Epoch 985: 100%|██████████| 901/901 [00:10<00:00, 85.10it/s]\n",
      "Training Epoch 986: 100%|██████████| 901/901 [00:10<00:00, 85.57it/s]\n",
      "Training Epoch 987: 100%|██████████| 901/901 [00:10<00:00, 86.62it/s]\n",
      "Training Epoch 988: 100%|██████████| 901/901 [00:10<00:00, 85.36it/s]\n",
      "Training Epoch 989: 100%|██████████| 901/901 [00:10<00:00, 86.05it/s]\n",
      "Training Epoch 990: 100%|██████████| 901/901 [00:10<00:00, 86.94it/s]\n",
      "Training Epoch 991: 100%|██████████| 901/901 [00:10<00:00, 85.22it/s]\n"
     ]
    },
    {
     "name": "stdout",
     "output_type": "stream",
     "text": [
      "Epoch 990 - Train Loss: 0.0400, Train MSE: 0.0400, Train MAE: 0.1483\n",
      "Epoch 990 - Validation Loss: 0.7035, Validation MSE: 0.7035, Validation MAE: 0.6067\n"
     ]
    },
    {
     "name": "stderr",
     "output_type": "stream",
     "text": [
      "Training Epoch 992: 100%|██████████| 901/901 [00:10<00:00, 85.19it/s]\n",
      "Training Epoch 993: 100%|██████████| 901/901 [00:10<00:00, 87.75it/s]\n",
      "Training Epoch 994: 100%|██████████| 901/901 [00:10<00:00, 85.48it/s]\n",
      "Training Epoch 995: 100%|██████████| 901/901 [00:10<00:00, 85.96it/s]\n",
      "Training Epoch 996: 100%|██████████| 901/901 [00:10<00:00, 86.20it/s]\n",
      "Training Epoch 997: 100%|██████████| 901/901 [00:10<00:00, 85.12it/s]\n",
      "Training Epoch 998: 100%|██████████| 901/901 [00:10<00:00, 88.19it/s]\n",
      "Training Epoch 999: 100%|██████████| 901/901 [00:10<00:00, 86.50it/s]\n",
      "Training Epoch 1000: 100%|██████████| 901/901 [00:10<00:00, 85.17it/s]\n",
      "Training Epoch 1001: 100%|██████████| 901/901 [00:10<00:00, 88.03it/s] \n"
     ]
    },
    {
     "name": "stdout",
     "output_type": "stream",
     "text": [
      "Epoch 1000 - Train Loss: 0.0391, Train MSE: 0.0391, Train MAE: 0.1465\n",
      "Epoch 1000 - Validation Loss: 0.7000, Validation MSE: 0.7000, Validation MAE: 0.6044\n"
     ]
    },
    {
     "name": "stderr",
     "output_type": "stream",
     "text": [
      "Training Epoch 1002: 100%|██████████| 901/901 [00:10<00:00, 86.48it/s]\n",
      "Training Epoch 1003: 100%|██████████| 901/901 [00:10<00:00, 85.76it/s]\n",
      "Training Epoch 1004: 100%|██████████| 901/901 [00:10<00:00, 86.41it/s]\n",
      "Training Epoch 1005: 100%|██████████| 901/901 [00:10<00:00, 88.90it/s]\n",
      "Training Epoch 1006: 100%|██████████| 901/901 [00:09<00:00, 96.15it/s] \n",
      "Training Epoch 1007: 100%|██████████| 901/901 [00:09<00:00, 96.28it/s] \n",
      "Training Epoch 1008: 100%|██████████| 901/901 [00:09<00:00, 98.13it/s] \n",
      "Training Epoch 1009: 100%|██████████| 901/901 [00:09<00:00, 95.94it/s] \n",
      "Training Epoch 1010: 100%|██████████| 901/901 [00:09<00:00, 96.68it/s] \n",
      "Training Epoch 1011: 100%|██████████| 901/901 [00:09<00:00, 98.38it/s] \n"
     ]
    },
    {
     "name": "stdout",
     "output_type": "stream",
     "text": [
      "Epoch 1010 - Train Loss: 0.0404, Train MSE: 0.0404, Train MAE: 0.1469\n",
      "Epoch 1010 - Validation Loss: 0.7015, Validation MSE: 0.7015, Validation MAE: 0.6064\n"
     ]
    },
    {
     "name": "stderr",
     "output_type": "stream",
     "text": [
      "Training Epoch 1012: 100%|██████████| 901/901 [00:09<00:00, 96.54it/s] \n",
      "Training Epoch 1013: 100%|██████████| 901/901 [00:09<00:00, 96.25it/s] \n",
      "Training Epoch 1014: 100%|██████████| 901/901 [00:09<00:00, 97.80it/s] \n",
      "Training Epoch 1015: 100%|██████████| 901/901 [00:09<00:00, 97.19it/s] \n",
      "Training Epoch 1016: 100%|██████████| 901/901 [00:09<00:00, 95.76it/s] \n",
      "Training Epoch 1017: 100%|██████████| 901/901 [00:09<00:00, 96.78it/s] \n",
      "Training Epoch 1018: 100%|██████████| 901/901 [00:09<00:00, 96.17it/s] \n",
      "Training Epoch 1019: 100%|██████████| 901/901 [00:09<00:00, 95.06it/s] \n",
      "Training Epoch 1020: 100%|██████████| 901/901 [00:09<00:00, 96.98it/s] \n",
      "Training Epoch 1021: 100%|██████████| 901/901 [00:09<00:00, 97.91it/s] \n"
     ]
    },
    {
     "name": "stdout",
     "output_type": "stream",
     "text": [
      "Epoch 1020 - Train Loss: 0.0383, Train MSE: 0.0383, Train MAE: 0.1453\n",
      "Epoch 1020 - Validation Loss: 0.6998, Validation MSE: 0.6998, Validation MAE: 0.6050\n"
     ]
    },
    {
     "name": "stderr",
     "output_type": "stream",
     "text": [
      "Training Epoch 1022: 100%|██████████| 901/901 [00:09<00:00, 96.84it/s] \n",
      "Training Epoch 1023: 100%|██████████| 901/901 [00:09<00:00, 96.64it/s] \n",
      "Training Epoch 1024: 100%|██████████| 901/901 [00:09<00:00, 96.86it/s] \n",
      "Training Epoch 1025: 100%|██████████| 901/901 [00:09<00:00, 97.31it/s] \n",
      "Training Epoch 1026: 100%|██████████| 901/901 [00:09<00:00, 96.35it/s] \n",
      "Training Epoch 1027: 100%|██████████| 901/901 [00:09<00:00, 97.64it/s] \n",
      "Training Epoch 1028: 100%|██████████| 901/901 [00:09<00:00, 98.37it/s] \n",
      "Training Epoch 1029: 100%|██████████| 901/901 [00:09<00:00, 97.00it/s] \n",
      "Training Epoch 1030: 100%|██████████| 901/901 [00:09<00:00, 99.60it/s] \n",
      "Training Epoch 1031: 100%|██████████| 901/901 [00:09<00:00, 97.75it/s] \n"
     ]
    },
    {
     "name": "stdout",
     "output_type": "stream",
     "text": [
      "Epoch 1030 - Train Loss: 0.0401, Train MSE: 0.0401, Train MAE: 0.1456\n",
      "Epoch 1030 - Validation Loss: 0.7028, Validation MSE: 0.7028, Validation MAE: 0.6038\n"
     ]
    },
    {
     "name": "stderr",
     "output_type": "stream",
     "text": [
      "Training Epoch 1032: 100%|██████████| 901/901 [00:09<00:00, 95.76it/s] \n",
      "Training Epoch 1033: 100%|██████████| 901/901 [00:09<00:00, 98.02it/s] \n",
      "Training Epoch 1034: 100%|██████████| 901/901 [00:09<00:00, 96.51it/s] \n",
      "Training Epoch 1035: 100%|██████████| 901/901 [00:09<00:00, 96.82it/s] \n",
      "Training Epoch 1036: 100%|██████████| 901/901 [00:08<00:00, 109.17it/s]\n",
      "Training Epoch 1037: 100%|██████████| 901/901 [00:08<00:00, 111.83it/s]\n",
      "Training Epoch 1038: 100%|██████████| 901/901 [00:07<00:00, 112.95it/s]\n",
      "Training Epoch 1039: 100%|██████████| 901/901 [00:07<00:00, 113.39it/s]\n",
      "Training Epoch 1040: 100%|██████████| 901/901 [00:07<00:00, 113.78it/s]\n",
      "Training Epoch 1041: 100%|██████████| 901/901 [00:08<00:00, 110.80it/s]\n"
     ]
    },
    {
     "name": "stdout",
     "output_type": "stream",
     "text": [
      "Epoch 1040 - Train Loss: 0.0403, Train MSE: 0.0403, Train MAE: 0.1485\n",
      "Epoch 1040 - Validation Loss: 0.7042, Validation MSE: 0.7042, Validation MAE: 0.6064\n"
     ]
    },
    {
     "name": "stderr",
     "output_type": "stream",
     "text": [
      "Training Epoch 1042: 100%|██████████| 901/901 [00:08<00:00, 111.42it/s]\n",
      "Training Epoch 1043: 100%|██████████| 901/901 [00:07<00:00, 115.38it/s]\n",
      "Training Epoch 1044: 100%|██████████| 901/901 [00:08<00:00, 112.36it/s]\n",
      "Training Epoch 1045: 100%|██████████| 901/901 [00:08<00:00, 111.49it/s]\n",
      "Training Epoch 1046: 100%|██████████| 901/901 [00:07<00:00, 115.30it/s]\n",
      "Training Epoch 1047: 100%|██████████| 901/901 [00:07<00:00, 112.82it/s]\n",
      "Training Epoch 1048: 100%|██████████| 901/901 [00:08<00:00, 111.72it/s]\n",
      "Training Epoch 1049: 100%|██████████| 901/901 [00:08<00:00, 112.15it/s]\n",
      "Training Epoch 1050: 100%|██████████| 901/901 [00:07<00:00, 115.16it/s]\n",
      "Training Epoch 1051: 100%|██████████| 901/901 [00:08<00:00, 111.65it/s]\n"
     ]
    },
    {
     "name": "stdout",
     "output_type": "stream",
     "text": [
      "Epoch 1050 - Train Loss: 0.0374, Train MSE: 0.0374, Train MAE: 0.1433\n",
      "Epoch 1050 - Validation Loss: 0.7076, Validation MSE: 0.7076, Validation MAE: 0.6080\n"
     ]
    },
    {
     "name": "stderr",
     "output_type": "stream",
     "text": [
      "Training Epoch 1052: 100%|██████████| 901/901 [00:07<00:00, 113.15it/s]\n",
      "Training Epoch 1053: 100%|██████████| 901/901 [00:07<00:00, 113.46it/s]\n",
      "Training Epoch 1054: 100%|██████████| 901/901 [00:08<00:00, 112.40it/s]\n",
      "Training Epoch 1055: 100%|██████████| 901/901 [00:07<00:00, 113.60it/s]\n",
      "Training Epoch 1056: 100%|██████████| 901/901 [00:08<00:00, 111.76it/s]\n",
      "Training Epoch 1057: 100%|██████████| 901/901 [00:07<00:00, 115.40it/s]\n",
      "Training Epoch 1058: 100%|██████████| 901/901 [00:08<00:00, 112.08it/s]\n",
      "Training Epoch 1059: 100%|██████████| 901/901 [00:08<00:00, 111.77it/s]\n",
      "Training Epoch 1060: 100%|██████████| 901/901 [00:07<00:00, 115.46it/s]\n",
      "Training Epoch 1061: 100%|██████████| 901/901 [00:08<00:00, 112.11it/s]\n"
     ]
    },
    {
     "name": "stdout",
     "output_type": "stream",
     "text": [
      "Epoch 1060 - Train Loss: 0.0380, Train MSE: 0.0380, Train MAE: 0.1437\n",
      "Epoch 1060 - Validation Loss: 0.6966, Validation MSE: 0.6966, Validation MAE: 0.6019\n"
     ]
    },
    {
     "name": "stderr",
     "output_type": "stream",
     "text": [
      "Training Epoch 1062: 100%|██████████| 901/901 [00:08<00:00, 111.31it/s]\n",
      "Training Epoch 1063: 100%|██████████| 901/901 [00:08<00:00, 112.57it/s]\n",
      "Training Epoch 1064: 100%|██████████| 901/901 [00:07<00:00, 113.47it/s]\n",
      "Training Epoch 1065: 100%|██████████| 901/901 [00:08<00:00, 112.54it/s]\n",
      "Training Epoch 1066: 100%|██████████| 901/901 [00:08<00:00, 111.82it/s]\n",
      "Training Epoch 1067: 100%|██████████| 901/901 [00:07<00:00, 116.12it/s]\n",
      "Training Epoch 1068: 100%|██████████| 901/901 [00:08<00:00, 111.42it/s]\n",
      "Training Epoch 1069: 100%|██████████| 901/901 [00:08<00:00, 112.10it/s]\n",
      "Training Epoch 1070: 100%|██████████| 901/901 [00:07<00:00, 113.32it/s]\n",
      "Training Epoch 1071: 100%|██████████| 901/901 [00:07<00:00, 113.39it/s]\n"
     ]
    },
    {
     "name": "stdout",
     "output_type": "stream",
     "text": [
      "Epoch 1070 - Train Loss: 0.0378, Train MSE: 0.0378, Train MAE: 0.1434\n",
      "Epoch 1070 - Validation Loss: 0.7057, Validation MSE: 0.7057, Validation MAE: 0.6072\n"
     ]
    },
    {
     "name": "stderr",
     "output_type": "stream",
     "text": [
      "Training Epoch 1072: 100%|██████████| 901/901 [00:07<00:00, 112.67it/s]\n",
      "Training Epoch 1073: 100%|██████████| 901/901 [00:08<00:00, 111.22it/s]\n",
      "Training Epoch 1074: 100%|██████████| 901/901 [00:07<00:00, 115.47it/s]\n",
      "Training Epoch 1075: 100%|██████████| 901/901 [00:08<00:00, 111.76it/s]\n",
      "Training Epoch 1076: 100%|██████████| 901/901 [00:07<00:00, 112.89it/s]\n",
      "Training Epoch 1077: 100%|██████████| 901/901 [00:07<00:00, 112.86it/s]\n",
      "Training Epoch 1078: 100%|██████████| 901/901 [00:07<00:00, 113.10it/s]\n",
      "Training Epoch 1079: 100%|██████████| 901/901 [00:07<00:00, 114.19it/s]\n",
      "Training Epoch 1080: 100%|██████████| 901/901 [00:08<00:00, 111.69it/s]\n",
      "Training Epoch 1081: 100%|██████████| 901/901 [00:07<00:00, 116.39it/s]\n"
     ]
    },
    {
     "name": "stdout",
     "output_type": "stream",
     "text": [
      "Epoch 1080 - Train Loss: 0.0389, Train MSE: 0.0389, Train MAE: 0.1452\n",
      "Epoch 1080 - Validation Loss: 0.6990, Validation MSE: 0.6990, Validation MAE: 0.6055\n"
     ]
    },
    {
     "name": "stderr",
     "output_type": "stream",
     "text": [
      "Training Epoch 1082: 100%|██████████| 901/901 [00:07<00:00, 113.71it/s]\n",
      "Training Epoch 1083: 100%|██████████| 901/901 [00:07<00:00, 113.20it/s]\n",
      "Training Epoch 1084: 100%|██████████| 901/901 [00:07<00:00, 116.15it/s]\n",
      "Training Epoch 1085: 100%|██████████| 901/901 [00:08<00:00, 112.62it/s]\n",
      "Training Epoch 1086: 100%|██████████| 901/901 [00:07<00:00, 113.58it/s]\n",
      "Training Epoch 1087: 100%|██████████| 901/901 [00:08<00:00, 111.46it/s]\n",
      "Training Epoch 1088: 100%|██████████| 901/901 [00:07<00:00, 115.30it/s]\n",
      "Training Epoch 1089: 100%|██████████| 901/901 [00:08<00:00, 112.01it/s]\n",
      "Training Epoch 1090: 100%|██████████| 901/901 [00:07<00:00, 112.72it/s]\n",
      "Training Epoch 1091: 100%|██████████| 901/901 [00:07<00:00, 115.06it/s]\n"
     ]
    },
    {
     "name": "stdout",
     "output_type": "stream",
     "text": [
      "Epoch 1090 - Train Loss: 0.0371, Train MSE: 0.0371, Train MAE: 0.1427\n",
      "Epoch 1090 - Validation Loss: 0.6996, Validation MSE: 0.6996, Validation MAE: 0.6049\n"
     ]
    },
    {
     "name": "stderr",
     "output_type": "stream",
     "text": [
      "Training Epoch 1092: 100%|██████████| 901/901 [00:08<00:00, 112.28it/s]\n",
      "Training Epoch 1093: 100%|██████████| 901/901 [00:08<00:00, 111.76it/s]\n",
      "Training Epoch 1094: 100%|██████████| 901/901 [00:07<00:00, 112.68it/s]\n",
      "Training Epoch 1095: 100%|██████████| 901/901 [00:07<00:00, 115.74it/s]\n",
      "Training Epoch 1096: 100%|██████████| 901/901 [00:08<00:00, 111.80it/s]\n",
      "Training Epoch 1097: 100%|██████████| 901/901 [00:08<00:00, 112.21it/s]\n",
      "Training Epoch 1098: 100%|██████████| 901/901 [00:07<00:00, 115.47it/s]\n",
      "Training Epoch 1099: 100%|██████████| 901/901 [00:07<00:00, 115.79it/s]\n",
      "Training Epoch 1100: 100%|██████████| 901/901 [00:07<00:00, 112.69it/s]\n",
      "Training Epoch 1101: 100%|██████████| 901/901 [00:07<00:00, 112.84it/s]\n"
     ]
    },
    {
     "name": "stdout",
     "output_type": "stream",
     "text": [
      "Epoch 1100 - Train Loss: 0.0378, Train MSE: 0.0378, Train MAE: 0.1433\n",
      "Epoch 1100 - Validation Loss: 0.7036, Validation MSE: 0.7036, Validation MAE: 0.6065\n"
     ]
    },
    {
     "name": "stderr",
     "output_type": "stream",
     "text": [
      "Training Epoch 1102: 100%|██████████| 901/901 [00:07<00:00, 113.56it/s]\n",
      "Training Epoch 1103: 100%|██████████| 901/901 [00:08<00:00, 112.16it/s]\n",
      "Training Epoch 1104: 100%|██████████| 901/901 [00:08<00:00, 111.46it/s]\n",
      "Training Epoch 1105: 100%|██████████| 901/901 [00:07<00:00, 116.04it/s]\n",
      "Training Epoch 1106: 100%|██████████| 901/901 [00:08<00:00, 111.58it/s]\n",
      "Training Epoch 1107: 100%|██████████| 901/901 [00:08<00:00, 112.31it/s]\n",
      "Training Epoch 1108: 100%|██████████| 901/901 [00:07<00:00, 114.55it/s]\n",
      "Training Epoch 1109: 100%|██████████| 901/901 [00:07<00:00, 115.11it/s]\n",
      "Training Epoch 1110: 100%|██████████| 901/901 [00:08<00:00, 111.17it/s]\n",
      "Training Epoch 1111: 100%|██████████| 901/901 [00:08<00:00, 111.26it/s]\n"
     ]
    },
    {
     "name": "stdout",
     "output_type": "stream",
     "text": [
      "Epoch 1110 - Train Loss: 0.0367, Train MSE: 0.0367, Train MAE: 0.1420\n",
      "Epoch 1110 - Validation Loss: 0.7064, Validation MSE: 0.7064, Validation MAE: 0.6082\n"
     ]
    },
    {
     "name": "stderr",
     "output_type": "stream",
     "text": [
      "Training Epoch 1112: 100%|██████████| 901/901 [00:08<00:00, 112.11it/s]\n",
      "Training Epoch 1113: 100%|██████████| 901/901 [00:08<00:00, 111.66it/s]\n",
      "Training Epoch 1114: 100%|██████████| 901/901 [00:08<00:00, 112.23it/s]\n",
      "Training Epoch 1115: 100%|██████████| 901/901 [00:07<00:00, 114.35it/s]\n",
      "Training Epoch 1116: 100%|██████████| 901/901 [00:07<00:00, 113.81it/s]\n",
      "Training Epoch 1117: 100%|██████████| 901/901 [00:08<00:00, 111.03it/s]\n",
      "Training Epoch 1118: 100%|██████████| 901/901 [00:08<00:00, 112.23it/s]\n",
      "Training Epoch 1119: 100%|██████████| 901/901 [00:07<00:00, 115.01it/s]\n",
      "Training Epoch 1120: 100%|██████████| 901/901 [00:08<00:00, 112.32it/s]\n",
      "Training Epoch 1121: 100%|██████████| 901/901 [00:08<00:00, 111.64it/s]\n"
     ]
    },
    {
     "name": "stdout",
     "output_type": "stream",
     "text": [
      "Epoch 1120 - Train Loss: 0.0401, Train MSE: 0.0401, Train MAE: 0.1469\n",
      "Epoch 1120 - Validation Loss: 0.7003, Validation MSE: 0.7003, Validation MAE: 0.6053\n"
     ]
    },
    {
     "name": "stderr",
     "output_type": "stream",
     "text": [
      "Training Epoch 1122: 100%|██████████| 901/901 [00:07<00:00, 116.15it/s]\n",
      "Training Epoch 1123: 100%|██████████| 901/901 [00:08<00:00, 111.88it/s]\n",
      "Training Epoch 1124: 100%|██████████| 901/901 [00:07<00:00, 112.74it/s]\n",
      "Training Epoch 1125: 100%|██████████| 901/901 [00:08<00:00, 111.85it/s]\n",
      "Training Epoch 1126: 100%|██████████| 901/901 [00:07<00:00, 115.29it/s]\n",
      "Training Epoch 1127: 100%|██████████| 901/901 [00:08<00:00, 112.34it/s]\n",
      "Training Epoch 1128: 100%|██████████| 901/901 [00:08<00:00, 112.07it/s]\n",
      "Training Epoch 1129: 100%|██████████| 901/901 [00:07<00:00, 116.66it/s]\n",
      "Training Epoch 1130: 100%|██████████| 901/901 [00:08<00:00, 111.91it/s]\n",
      "Training Epoch 1131: 100%|██████████| 901/901 [00:08<00:00, 112.41it/s]\n"
     ]
    },
    {
     "name": "stdout",
     "output_type": "stream",
     "text": [
      "Epoch 1130 - Train Loss: 0.0387, Train MSE: 0.0387, Train MAE: 0.1426\n",
      "Epoch 1130 - Validation Loss: 0.7085, Validation MSE: 0.7085, Validation MAE: 0.6089\n"
     ]
    },
    {
     "name": "stderr",
     "output_type": "stream",
     "text": [
      "Training Epoch 1132: 100%|██████████| 901/901 [00:07<00:00, 112.99it/s]\n",
      "Training Epoch 1133: 100%|██████████| 901/901 [00:07<00:00, 114.73it/s]\n",
      "Training Epoch 1134: 100%|██████████| 901/901 [00:08<00:00, 110.72it/s]\n",
      "Training Epoch 1135: 100%|██████████| 901/901 [00:08<00:00, 112.02it/s]\n",
      "Training Epoch 1136: 100%|██████████| 901/901 [00:07<00:00, 116.61it/s]\n",
      "Training Epoch 1137: 100%|██████████| 901/901 [00:07<00:00, 113.02it/s]\n",
      "Training Epoch 1138: 100%|██████████| 901/901 [00:08<00:00, 112.39it/s]\n",
      "Training Epoch 1139: 100%|██████████| 901/901 [00:07<00:00, 114.61it/s]\n",
      "Training Epoch 1140: 100%|██████████| 901/901 [00:07<00:00, 115.54it/s]\n",
      "Training Epoch 1141: 100%|██████████| 901/901 [00:07<00:00, 113.16it/s]\n"
     ]
    },
    {
     "name": "stdout",
     "output_type": "stream",
     "text": [
      "Epoch 1140 - Train Loss: 0.0371, Train MSE: 0.0371, Train MAE: 0.1421\n",
      "Epoch 1140 - Validation Loss: 0.7058, Validation MSE: 0.7058, Validation MAE: 0.6075\n"
     ]
    },
    {
     "name": "stderr",
     "output_type": "stream",
     "text": [
      "Training Epoch 1142: 100%|██████████| 901/901 [00:08<00:00, 112.30it/s]\n",
      "Training Epoch 1143: 100%|██████████| 901/901 [00:07<00:00, 114.92it/s]\n",
      "Training Epoch 1144: 100%|██████████| 901/901 [00:08<00:00, 111.97it/s]\n",
      "Training Epoch 1145: 100%|██████████| 901/901 [00:07<00:00, 114.52it/s]\n",
      "Training Epoch 1146: 100%|██████████| 901/901 [00:07<00:00, 115.81it/s]\n",
      "Training Epoch 1147: 100%|██████████| 901/901 [00:07<00:00, 113.66it/s]\n",
      "Training Epoch 1148: 100%|██████████| 901/901 [00:08<00:00, 111.99it/s]\n",
      "Training Epoch 1149: 100%|██████████| 901/901 [00:08<00:00, 112.34it/s]\n",
      "Training Epoch 1150: 100%|██████████| 901/901 [00:07<00:00, 114.86it/s]\n",
      "Training Epoch 1151: 100%|██████████| 901/901 [00:08<00:00, 112.47it/s]\n"
     ]
    },
    {
     "name": "stdout",
     "output_type": "stream",
     "text": [
      "Epoch 1150 - Train Loss: 0.0361, Train MSE: 0.0360, Train MAE: 0.1404\n",
      "Epoch 1150 - Validation Loss: 0.7050, Validation MSE: 0.7050, Validation MAE: 0.6062\n"
     ]
    },
    {
     "name": "stderr",
     "output_type": "stream",
     "text": [
      "Training Epoch 1152: 100%|██████████| 901/901 [00:08<00:00, 111.56it/s]\n",
      "Training Epoch 1153: 100%|██████████| 901/901 [00:07<00:00, 115.48it/s]\n",
      "Training Epoch 1154: 100%|██████████| 901/901 [00:07<00:00, 113.57it/s]\n",
      "Training Epoch 1155: 100%|██████████| 901/901 [00:07<00:00, 113.17it/s]\n",
      "Training Epoch 1156: 100%|██████████| 901/901 [00:08<00:00, 112.54it/s]\n",
      "Training Epoch 1157: 100%|██████████| 901/901 [00:07<00:00, 116.34it/s]\n",
      "Training Epoch 1158: 100%|██████████| 901/901 [00:08<00:00, 111.88it/s]\n",
      "Training Epoch 1159: 100%|██████████| 901/901 [00:08<00:00, 111.59it/s]\n",
      "Training Epoch 1160: 100%|██████████| 901/901 [00:07<00:00, 115.57it/s]\n",
      "Training Epoch 1161: 100%|██████████| 901/901 [00:08<00:00, 111.27it/s]\n"
     ]
    },
    {
     "name": "stdout",
     "output_type": "stream",
     "text": [
      "Epoch 1160 - Train Loss: 0.0363, Train MSE: 0.0363, Train MAE: 0.1402\n",
      "Epoch 1160 - Validation Loss: 0.7101, Validation MSE: 0.7101, Validation MAE: 0.6077\n"
     ]
    },
    {
     "name": "stderr",
     "output_type": "stream",
     "text": [
      "Training Epoch 1162: 100%|██████████| 901/901 [00:07<00:00, 114.16it/s]\n",
      "Training Epoch 1163: 100%|██████████| 901/901 [00:08<00:00, 112.22it/s]\n",
      "Training Epoch 1164: 100%|██████████| 901/901 [00:07<00:00, 116.70it/s]\n",
      "Training Epoch 1165: 100%|██████████| 901/901 [00:07<00:00, 113.85it/s]\n",
      "Training Epoch 1166: 100%|██████████| 901/901 [00:08<00:00, 111.98it/s]\n",
      "Training Epoch 1167: 100%|██████████| 901/901 [00:07<00:00, 115.36it/s]\n",
      "Training Epoch 1168: 100%|██████████| 901/901 [00:07<00:00, 113.04it/s]\n",
      "Training Epoch 1169: 100%|██████████| 901/901 [00:07<00:00, 113.04it/s]\n",
      "Training Epoch 1170: 100%|██████████| 901/901 [00:07<00:00, 113.34it/s]\n",
      "Training Epoch 1171: 100%|██████████| 901/901 [00:07<00:00, 113.91it/s]\n"
     ]
    },
    {
     "name": "stdout",
     "output_type": "stream",
     "text": [
      "Epoch 1170 - Train Loss: 0.0358, Train MSE: 0.0358, Train MAE: 0.1408\n",
      "Epoch 1170 - Validation Loss: 0.7005, Validation MSE: 0.7005, Validation MAE: 0.6042\n"
     ]
    },
    {
     "name": "stderr",
     "output_type": "stream",
     "text": [
      "Training Epoch 1172: 100%|██████████| 901/901 [00:07<00:00, 112.82it/s]\n",
      "Training Epoch 1173: 100%|██████████| 901/901 [00:08<00:00, 112.56it/s]\n",
      "Training Epoch 1174: 100%|██████████| 901/901 [00:07<00:00, 114.87it/s]\n",
      "Training Epoch 1175: 100%|██████████| 901/901 [00:08<00:00, 112.34it/s]\n",
      "Training Epoch 1176: 100%|██████████| 901/901 [00:08<00:00, 112.12it/s]\n",
      "Training Epoch 1177: 100%|██████████| 901/901 [00:07<00:00, 115.21it/s]\n",
      "Training Epoch 1178: 100%|██████████| 901/901 [00:08<00:00, 111.57it/s]\n",
      "Training Epoch 1179: 100%|██████████| 901/901 [00:08<00:00, 112.44it/s]\n",
      "Training Epoch 1180: 100%|██████████| 901/901 [00:07<00:00, 112.79it/s]\n",
      "Training Epoch 1181: 100%|██████████| 901/901 [00:07<00:00, 117.67it/s]\n"
     ]
    },
    {
     "name": "stdout",
     "output_type": "stream",
     "text": [
      "Epoch 1180 - Train Loss: 0.0349, Train MSE: 0.0349, Train MAE: 0.1386\n",
      "Epoch 1180 - Validation Loss: 0.7090, Validation MSE: 0.7090, Validation MAE: 0.6075\n"
     ]
    },
    {
     "name": "stderr",
     "output_type": "stream",
     "text": [
      "Training Epoch 1182: 100%|██████████| 901/901 [00:07<00:00, 114.59it/s]\n",
      "Training Epoch 1183: 100%|██████████| 901/901 [00:07<00:00, 114.33it/s]\n",
      "Training Epoch 1184: 100%|██████████| 901/901 [00:07<00:00, 115.38it/s]\n",
      "Training Epoch 1185: 100%|██████████| 901/901 [00:07<00:00, 113.40it/s]\n",
      "Training Epoch 1186: 100%|██████████| 901/901 [00:08<00:00, 112.28it/s]\n",
      "Training Epoch 1187: 100%|██████████| 901/901 [00:07<00:00, 116.58it/s]\n",
      "Training Epoch 1188: 100%|██████████| 901/901 [00:07<00:00, 117.39it/s]\n",
      "Training Epoch 1189: 100%|██████████| 901/901 [00:08<00:00, 112.23it/s]\n",
      "Training Epoch 1190: 100%|██████████| 901/901 [00:08<00:00, 111.24it/s]\n",
      "Training Epoch 1191: 100%|██████████| 901/901 [00:07<00:00, 118.21it/s]\n"
     ]
    },
    {
     "name": "stdout",
     "output_type": "stream",
     "text": [
      "Epoch 1190 - Train Loss: 0.0395, Train MSE: 0.0395, Train MAE: 0.1436\n",
      "Epoch 1190 - Validation Loss: 0.7154, Validation MSE: 0.7154, Validation MAE: 0.6109\n"
     ]
    },
    {
     "name": "stderr",
     "output_type": "stream",
     "text": [
      "Training Epoch 1192: 100%|██████████| 901/901 [00:07<00:00, 113.18it/s]\n",
      "Training Epoch 1193: 100%|██████████| 901/901 [00:07<00:00, 115.00it/s]\n",
      "Training Epoch 1194: 100%|██████████| 901/901 [00:07<00:00, 113.03it/s]\n",
      "Training Epoch 1195: 100%|██████████| 901/901 [00:07<00:00, 115.49it/s]\n",
      "Training Epoch 1196: 100%|██████████| 901/901 [00:07<00:00, 113.75it/s]\n",
      "Training Epoch 1197: 100%|██████████| 901/901 [00:07<00:00, 116.61it/s]\n",
      "Training Epoch 1198: 100%|██████████| 901/901 [00:07<00:00, 117.74it/s]\n",
      "Training Epoch 1199: 100%|██████████| 901/901 [00:08<00:00, 112.04it/s]\n",
      "Training Epoch 1200: 100%|██████████| 901/901 [00:08<00:00, 112.12it/s]\n",
      "Training Epoch 1201: 100%|██████████| 901/901 [00:07<00:00, 112.72it/s]\n"
     ]
    },
    {
     "name": "stdout",
     "output_type": "stream",
     "text": [
      "Epoch 1200 - Train Loss: 0.0360, Train MSE: 0.0360, Train MAE: 0.1395\n",
      "Epoch 1200 - Validation Loss: 0.6994, Validation MSE: 0.6994, Validation MAE: 0.6021\n"
     ]
    },
    {
     "name": "stderr",
     "output_type": "stream",
     "text": [
      "Training Epoch 1202: 100%|██████████| 901/901 [00:07<00:00, 117.26it/s]\n",
      "Training Epoch 1203: 100%|██████████| 901/901 [00:07<00:00, 115.33it/s]\n",
      "Training Epoch 1204: 100%|██████████| 901/901 [00:07<00:00, 112.74it/s]\n",
      "Training Epoch 1205: 100%|██████████| 901/901 [00:07<00:00, 115.35it/s]\n",
      "Training Epoch 1206: 100%|██████████| 901/901 [00:07<00:00, 112.72it/s]\n",
      "Training Epoch 1207: 100%|██████████| 901/901 [00:07<00:00, 116.34it/s]\n",
      "Training Epoch 1208: 100%|██████████| 901/901 [00:07<00:00, 114.19it/s]\n",
      "Training Epoch 1209: 100%|██████████| 901/901 [00:07<00:00, 114.15it/s]\n",
      "Training Epoch 1210: 100%|██████████| 901/901 [00:08<00:00, 111.52it/s]\n",
      "Training Epoch 1211: 100%|██████████| 901/901 [00:08<00:00, 111.69it/s]\n"
     ]
    },
    {
     "name": "stdout",
     "output_type": "stream",
     "text": [
      "Epoch 1210 - Train Loss: 0.0358, Train MSE: 0.0358, Train MAE: 0.1394\n",
      "Epoch 1210 - Validation Loss: 0.7090, Validation MSE: 0.7090, Validation MAE: 0.6076\n"
     ]
    },
    {
     "name": "stderr",
     "output_type": "stream",
     "text": [
      "Training Epoch 1212: 100%|██████████| 901/901 [00:07<00:00, 117.53it/s]\n",
      "Training Epoch 1213: 100%|██████████| 901/901 [00:07<00:00, 115.44it/s]\n",
      "Training Epoch 1214: 100%|██████████| 901/901 [00:08<00:00, 112.53it/s]\n",
      "Training Epoch 1215: 100%|██████████| 901/901 [00:08<00:00, 112.28it/s]\n",
      "Training Epoch 1216: 100%|██████████| 901/901 [00:07<00:00, 115.21it/s]\n",
      "Training Epoch 1217: 100%|██████████| 901/901 [00:08<00:00, 112.32it/s]\n",
      "Training Epoch 1218: 100%|██████████| 901/901 [00:07<00:00, 115.78it/s]\n",
      "Training Epoch 1219: 100%|██████████| 901/901 [00:07<00:00, 118.72it/s]\n",
      "Training Epoch 1220: 100%|██████████| 901/901 [00:08<00:00, 112.21it/s]\n",
      "Training Epoch 1221: 100%|██████████| 901/901 [00:08<00:00, 112.30it/s]\n"
     ]
    },
    {
     "name": "stdout",
     "output_type": "stream",
     "text": [
      "Epoch 1220 - Train Loss: 0.0351, Train MSE: 0.0351, Train MAE: 0.1382\n",
      "Epoch 1220 - Validation Loss: 0.7021, Validation MSE: 0.7021, Validation MAE: 0.6043\n"
     ]
    },
    {
     "name": "stderr",
     "output_type": "stream",
     "text": [
      "Training Epoch 1222: 100%|██████████| 901/901 [00:07<00:00, 115.29it/s]\n",
      "Training Epoch 1223: 100%|██████████| 901/901 [00:07<00:00, 117.94it/s]\n",
      "Training Epoch 1224: 100%|██████████| 901/901 [00:07<00:00, 113.86it/s]\n",
      "Training Epoch 1225: 100%|██████████| 901/901 [00:08<00:00, 111.39it/s]\n",
      "Training Epoch 1226: 100%|██████████| 901/901 [00:07<00:00, 116.70it/s]\n",
      "Training Epoch 1227: 100%|██████████| 901/901 [00:07<00:00, 113.15it/s]\n",
      "Training Epoch 1228: 100%|██████████| 901/901 [00:07<00:00, 115.13it/s]\n",
      "Training Epoch 1229: 100%|██████████| 901/901 [00:07<00:00, 116.88it/s]\n",
      "Training Epoch 1230: 100%|██████████| 901/901 [00:07<00:00, 114.21it/s]\n",
      "Training Epoch 1231: 100%|██████████| 901/901 [00:08<00:00, 110.33it/s]\n"
     ]
    },
    {
     "name": "stdout",
     "output_type": "stream",
     "text": [
      "Epoch 1230 - Train Loss: 0.0358, Train MSE: 0.0358, Train MAE: 0.1398\n",
      "Epoch 1230 - Validation Loss: 0.7047, Validation MSE: 0.7047, Validation MAE: 0.6064\n"
     ]
    },
    {
     "name": "stderr",
     "output_type": "stream",
     "text": [
      "Training Epoch 1232: 100%|██████████| 901/901 [00:08<00:00, 110.94it/s]\n",
      "Training Epoch 1233: 100%|██████████| 901/901 [00:07<00:00, 116.93it/s]\n",
      "Training Epoch 1234: 100%|██████████| 901/901 [00:07<00:00, 113.84it/s]\n",
      "Training Epoch 1235: 100%|██████████| 901/901 [00:07<00:00, 115.09it/s]\n",
      "Training Epoch 1236: 100%|██████████| 901/901 [00:07<00:00, 114.08it/s]\n",
      "Training Epoch 1237: 100%|██████████| 901/901 [00:07<00:00, 113.28it/s]\n",
      "Training Epoch 1238: 100%|██████████| 901/901 [00:08<00:00, 112.17it/s]\n",
      "Training Epoch 1239: 100%|██████████| 901/901 [00:07<00:00, 112.73it/s]\n",
      "Training Epoch 1240: 100%|██████████| 901/901 [00:07<00:00, 117.93it/s]\n",
      "Training Epoch 1241: 100%|██████████| 901/901 [00:07<00:00, 115.71it/s]\n"
     ]
    },
    {
     "name": "stdout",
     "output_type": "stream",
     "text": [
      "Epoch 1240 - Train Loss: 0.0344, Train MSE: 0.0344, Train MAE: 0.1377\n",
      "Epoch 1240 - Validation Loss: 0.7141, Validation MSE: 0.7141, Validation MAE: 0.6090\n"
     ]
    },
    {
     "name": "stderr",
     "output_type": "stream",
     "text": [
      "Training Epoch 1242: 100%|██████████| 901/901 [00:08<00:00, 111.85it/s]\n",
      "Training Epoch 1243: 100%|██████████| 901/901 [00:07<00:00, 114.38it/s]\n",
      "Training Epoch 1244: 100%|██████████| 901/901 [00:07<00:00, 113.47it/s]\n",
      "Training Epoch 1245: 100%|██████████| 901/901 [00:07<00:00, 113.81it/s]\n",
      "Training Epoch 1246: 100%|██████████| 901/901 [00:07<00:00, 113.40it/s]\n",
      "Training Epoch 1247: 100%|██████████| 901/901 [00:07<00:00, 114.67it/s]\n",
      "Training Epoch 1248: 100%|██████████| 901/901 [00:07<00:00, 112.65it/s]\n",
      "Training Epoch 1249: 100%|██████████| 901/901 [00:07<00:00, 112.90it/s]\n",
      "Training Epoch 1250: 100%|██████████| 901/901 [00:07<00:00, 119.37it/s]\n",
      "Training Epoch 1251: 100%|██████████| 901/901 [00:07<00:00, 113.47it/s]\n"
     ]
    },
    {
     "name": "stdout",
     "output_type": "stream",
     "text": [
      "Epoch 1250 - Train Loss: 0.0355, Train MSE: 0.0355, Train MAE: 0.1392\n",
      "Epoch 1250 - Validation Loss: 0.6980, Validation MSE: 0.6980, Validation MAE: 0.6029\n"
     ]
    },
    {
     "name": "stderr",
     "output_type": "stream",
     "text": [
      "Training Epoch 1252: 100%|██████████| 901/901 [00:07<00:00, 113.03it/s]\n",
      "Training Epoch 1253: 100%|██████████| 901/901 [00:08<00:00, 112.29it/s]\n",
      "Training Epoch 1254: 100%|██████████| 901/901 [00:07<00:00, 115.24it/s]\n",
      "Training Epoch 1255: 100%|██████████| 901/901 [00:07<00:00, 112.72it/s]\n",
      "Training Epoch 1256: 100%|██████████| 901/901 [00:07<00:00, 114.31it/s]\n",
      "Training Epoch 1257: 100%|██████████| 901/901 [00:07<00:00, 117.60it/s]\n",
      "Training Epoch 1258: 100%|██████████| 901/901 [00:07<00:00, 112.87it/s]\n",
      "Training Epoch 1259: 100%|██████████| 901/901 [00:08<00:00, 112.03it/s]\n",
      "Training Epoch 1260: 100%|██████████| 901/901 [00:07<00:00, 113.51it/s]\n",
      "Training Epoch 1261: 100%|██████████| 901/901 [00:07<00:00, 117.40it/s]\n"
     ]
    },
    {
     "name": "stdout",
     "output_type": "stream",
     "text": [
      "Epoch 1260 - Train Loss: 0.0356, Train MSE: 0.0356, Train MAE: 0.1389\n",
      "Epoch 1260 - Validation Loss: 0.7053, Validation MSE: 0.7053, Validation MAE: 0.6066\n"
     ]
    },
    {
     "name": "stderr",
     "output_type": "stream",
     "text": [
      "Training Epoch 1262: 100%|██████████| 901/901 [00:07<00:00, 114.81it/s]\n",
      "Training Epoch 1263: 100%|██████████| 901/901 [00:08<00:00, 112.37it/s]\n",
      "Training Epoch 1264: 100%|██████████| 901/901 [00:07<00:00, 115.48it/s]\n",
      "Training Epoch 1265: 100%|██████████| 901/901 [00:07<00:00, 113.03it/s]\n",
      "Training Epoch 1266: 100%|██████████| 901/901 [00:07<00:00, 114.56it/s]\n",
      "Training Epoch 1267: 100%|██████████| 901/901 [00:07<00:00, 115.77it/s]\n",
      "Training Epoch 1268: 100%|██████████| 901/901 [00:07<00:00, 116.04it/s]\n",
      "Training Epoch 1269: 100%|██████████| 901/901 [00:08<00:00, 112.16it/s]\n",
      "Training Epoch 1270: 100%|██████████| 901/901 [00:08<00:00, 111.95it/s]\n",
      "Training Epoch 1271: 100%|██████████| 901/901 [00:07<00:00, 117.45it/s]\n"
     ]
    },
    {
     "name": "stdout",
     "output_type": "stream",
     "text": [
      "Epoch 1270 - Train Loss: 0.0357, Train MSE: 0.0357, Train MAE: 0.1384\n",
      "Epoch 1270 - Validation Loss: 0.6994, Validation MSE: 0.6994, Validation MAE: 0.6032\n"
     ]
    },
    {
     "name": "stderr",
     "output_type": "stream",
     "text": [
      "Training Epoch 1272: 100%|██████████| 901/901 [00:07<00:00, 115.14it/s]\n",
      "Training Epoch 1273: 100%|██████████| 901/901 [00:07<00:00, 115.07it/s]\n",
      "Training Epoch 1274: 100%|██████████| 901/901 [00:07<00:00, 112.65it/s]\n",
      "Training Epoch 1275: 100%|██████████| 901/901 [00:07<00:00, 115.27it/s]\n",
      "Training Epoch 1276: 100%|██████████| 901/901 [00:07<00:00, 113.27it/s]\n",
      "Training Epoch 1277: 100%|██████████| 901/901 [00:07<00:00, 114.28it/s]\n",
      "Training Epoch 1278: 100%|██████████| 901/901 [00:07<00:00, 117.03it/s]\n",
      "Training Epoch 1279: 100%|██████████| 901/901 [00:08<00:00, 112.24it/s]\n",
      "Training Epoch 1280: 100%|██████████| 901/901 [00:08<00:00, 112.23it/s]\n",
      "Training Epoch 1281: 100%|██████████| 901/901 [00:07<00:00, 114.61it/s]\n"
     ]
    },
    {
     "name": "stdout",
     "output_type": "stream",
     "text": [
      "Epoch 1280 - Train Loss: 0.0337, Train MSE: 0.0337, Train MAE: 0.1359\n",
      "Epoch 1280 - Validation Loss: 0.7055, Validation MSE: 0.7055, Validation MAE: 0.6055\n"
     ]
    },
    {
     "name": "stderr",
     "output_type": "stream",
     "text": [
      "Training Epoch 1282: 100%|██████████| 901/901 [00:07<00:00, 116.06it/s]\n",
      "Training Epoch 1283: 100%|██████████| 901/901 [00:07<00:00, 115.41it/s]\n",
      "Training Epoch 1284: 100%|██████████| 901/901 [00:08<00:00, 111.40it/s]\n",
      "Training Epoch 1285: 100%|██████████| 901/901 [00:07<00:00, 115.42it/s]\n",
      "Training Epoch 1286: 100%|██████████| 901/901 [00:07<00:00, 114.35it/s]\n",
      "Training Epoch 1287: 100%|██████████| 901/901 [00:07<00:00, 115.50it/s]\n",
      "Training Epoch 1288: 100%|██████████| 901/901 [00:07<00:00, 113.92it/s]\n",
      "Training Epoch 1289: 100%|██████████| 901/901 [00:07<00:00, 114.70it/s]\n",
      "Training Epoch 1290: 100%|██████████| 901/901 [00:08<00:00, 112.15it/s]\n",
      "Training Epoch 1291: 100%|██████████| 901/901 [00:07<00:00, 113.06it/s]\n"
     ]
    },
    {
     "name": "stdout",
     "output_type": "stream",
     "text": [
      "Epoch 1290 - Train Loss: 0.0338, Train MSE: 0.0338, Train MAE: 0.1362\n",
      "Epoch 1290 - Validation Loss: 0.7100, Validation MSE: 0.7100, Validation MAE: 0.6076\n"
     ]
    },
    {
     "name": "stderr",
     "output_type": "stream",
     "text": [
      "Training Epoch 1292: 100%|██████████| 901/901 [00:07<00:00, 119.56it/s]\n",
      "Training Epoch 1293: 100%|██████████| 901/901 [00:07<00:00, 114.82it/s]\n",
      "Training Epoch 1294: 100%|██████████| 901/901 [00:07<00:00, 113.63it/s]\n",
      "Training Epoch 1295: 100%|██████████| 901/901 [00:07<00:00, 113.67it/s]\n",
      "Training Epoch 1296: 100%|██████████| 901/901 [00:07<00:00, 116.26it/s]\n",
      "Training Epoch 1297: 100%|██████████| 901/901 [00:07<00:00, 113.90it/s]\n",
      "Training Epoch 1298: 100%|██████████| 901/901 [00:08<00:00, 112.22it/s]\n",
      "Training Epoch 1299: 100%|██████████| 901/901 [00:07<00:00, 115.21it/s]\n",
      "Training Epoch 1300: 100%|██████████| 901/901 [00:08<00:00, 111.43it/s]\n",
      "Training Epoch 1301: 100%|██████████| 901/901 [00:07<00:00, 113.72it/s]\n"
     ]
    },
    {
     "name": "stdout",
     "output_type": "stream",
     "text": [
      "Epoch 1300 - Train Loss: 0.0343, Train MSE: 0.0343, Train MAE: 0.1360\n",
      "Epoch 1300 - Validation Loss: 0.6998, Validation MSE: 0.6998, Validation MAE: 0.6052\n"
     ]
    },
    {
     "name": "stderr",
     "output_type": "stream",
     "text": [
      "Training Epoch 1302: 100%|██████████| 901/901 [00:07<00:00, 117.70it/s]\n",
      "Training Epoch 1303: 100%|██████████| 901/901 [00:07<00:00, 114.26it/s]\n",
      "Training Epoch 1304: 100%|██████████| 901/901 [00:08<00:00, 112.14it/s]\n",
      "Training Epoch 1305: 100%|██████████| 901/901 [00:08<00:00, 111.97it/s]\n",
      "Training Epoch 1306: 100%|██████████| 901/901 [00:07<00:00, 118.21it/s]\n",
      "Training Epoch 1307: 100%|██████████| 901/901 [00:07<00:00, 115.36it/s]\n",
      "Training Epoch 1308: 100%|██████████| 901/901 [00:08<00:00, 111.97it/s]\n",
      "Training Epoch 1309: 100%|██████████| 901/901 [00:07<00:00, 113.54it/s]\n",
      "Training Epoch 1310: 100%|██████████| 901/901 [00:07<00:00, 114.06it/s]\n",
      "Training Epoch 1311: 100%|██████████| 901/901 [00:07<00:00, 113.25it/s]\n"
     ]
    },
    {
     "name": "stdout",
     "output_type": "stream",
     "text": [
      "Epoch 1310 - Train Loss: 0.0341, Train MSE: 0.0341, Train MAE: 0.1347\n",
      "Epoch 1310 - Validation Loss: 0.7039, Validation MSE: 0.7039, Validation MAE: 0.6055\n"
     ]
    },
    {
     "name": "stderr",
     "output_type": "stream",
     "text": [
      "Training Epoch 1312: 100%|██████████| 901/901 [00:07<00:00, 114.42it/s]\n",
      "Training Epoch 1313: 100%|██████████| 901/901 [00:07<00:00, 119.04it/s]\n",
      "Training Epoch 1314: 100%|██████████| 901/901 [00:08<00:00, 111.62it/s]\n",
      "Training Epoch 1315: 100%|██████████| 901/901 [00:08<00:00, 112.46it/s]\n",
      "Training Epoch 1316: 100%|██████████| 901/901 [00:07<00:00, 115.83it/s]\n",
      "Training Epoch 1317: 100%|██████████| 901/901 [00:07<00:00, 114.74it/s]\n",
      "Training Epoch 1318: 100%|██████████| 901/901 [00:07<00:00, 113.29it/s]\n",
      "Training Epoch 1319: 100%|██████████| 901/901 [00:08<00:00, 111.92it/s]\n",
      "Training Epoch 1320: 100%|██████████| 901/901 [00:07<00:00, 117.52it/s]\n",
      "Training Epoch 1321: 100%|██████████| 901/901 [00:08<00:00, 112.30it/s]\n"
     ]
    },
    {
     "name": "stdout",
     "output_type": "stream",
     "text": [
      "Epoch 1320 - Train Loss: 0.0340, Train MSE: 0.0340, Train MAE: 0.1365\n",
      "Epoch 1320 - Validation Loss: 0.7029, Validation MSE: 0.7029, Validation MAE: 0.6069\n"
     ]
    },
    {
     "name": "stderr",
     "output_type": "stream",
     "text": [
      "Training Epoch 1322: 100%|██████████| 901/901 [00:07<00:00, 115.60it/s]\n",
      "Training Epoch 1323: 100%|██████████| 901/901 [00:07<00:00, 116.31it/s]\n",
      "Training Epoch 1324: 100%|██████████| 901/901 [00:07<00:00, 112.71it/s]\n",
      "Training Epoch 1325: 100%|██████████| 901/901 [00:07<00:00, 114.16it/s]\n",
      "Training Epoch 1326: 100%|██████████| 901/901 [00:08<00:00, 112.58it/s]\n",
      "Training Epoch 1327: 100%|██████████| 901/901 [00:07<00:00, 118.81it/s]\n",
      "Training Epoch 1328: 100%|██████████| 901/901 [00:07<00:00, 113.37it/s]\n",
      "Training Epoch 1329: 100%|██████████| 901/901 [00:07<00:00, 112.64it/s]\n",
      "Training Epoch 1330: 100%|██████████| 901/901 [00:07<00:00, 113.45it/s]\n",
      "Training Epoch 1331: 100%|██████████| 901/901 [00:07<00:00, 113.02it/s]\n"
     ]
    },
    {
     "name": "stdout",
     "output_type": "stream",
     "text": [
      "Epoch 1330 - Train Loss: 0.0350, Train MSE: 0.0350, Train MAE: 0.1368\n",
      "Epoch 1330 - Validation Loss: 0.6943, Validation MSE: 0.6943, Validation MAE: 0.6035\n"
     ]
    },
    {
     "name": "stderr",
     "output_type": "stream",
     "text": [
      "Training Epoch 1332: 100%|██████████| 901/901 [00:07<00:00, 114.08it/s]\n",
      "Training Epoch 1333: 100%|██████████| 901/901 [00:07<00:00, 113.91it/s]\n",
      "Training Epoch 1334: 100%|██████████| 901/901 [00:07<00:00, 118.24it/s]\n",
      "Training Epoch 1335: 100%|██████████| 901/901 [00:08<00:00, 112.22it/s]\n",
      "Training Epoch 1336: 100%|██████████| 901/901 [00:07<00:00, 113.13it/s]\n",
      "Training Epoch 1337: 100%|██████████| 901/901 [00:07<00:00, 116.41it/s]\n",
      "Training Epoch 1338: 100%|██████████| 901/901 [00:07<00:00, 115.20it/s]\n",
      "Training Epoch 1339: 100%|██████████| 901/901 [00:07<00:00, 113.00it/s]\n",
      "Training Epoch 1340: 100%|██████████| 901/901 [00:08<00:00, 111.73it/s]\n",
      "Training Epoch 1341: 100%|██████████| 901/901 [00:07<00:00, 115.90it/s]\n"
     ]
    },
    {
     "name": "stdout",
     "output_type": "stream",
     "text": [
      "Epoch 1340 - Train Loss: 0.0354, Train MSE: 0.0354, Train MAE: 0.1367\n",
      "Epoch 1340 - Validation Loss: 0.7160, Validation MSE: 0.7160, Validation MAE: 0.6122\n"
     ]
    },
    {
     "name": "stderr",
     "output_type": "stream",
     "text": [
      "Training Epoch 1342: 100%|██████████| 901/901 [00:07<00:00, 112.63it/s]\n",
      "Training Epoch 1343: 100%|██████████| 901/901 [00:07<00:00, 114.67it/s]\n",
      "Training Epoch 1344: 100%|██████████| 901/901 [00:07<00:00, 116.71it/s]\n",
      "Training Epoch 1345: 100%|██████████| 901/901 [00:07<00:00, 112.63it/s]\n",
      "Training Epoch 1346: 100%|██████████| 901/901 [00:07<00:00, 113.09it/s]\n",
      "Training Epoch 1347: 100%|██████████| 901/901 [00:07<00:00, 113.79it/s]\n",
      "Training Epoch 1348: 100%|██████████| 901/901 [00:07<00:00, 117.63it/s]\n",
      "Training Epoch 1349: 100%|██████████| 901/901 [00:07<00:00, 112.91it/s]\n",
      "Training Epoch 1350: 100%|██████████| 901/901 [00:08<00:00, 112.09it/s]\n",
      "Training Epoch 1351: 100%|██████████| 901/901 [00:07<00:00, 115.27it/s]\n"
     ]
    },
    {
     "name": "stdout",
     "output_type": "stream",
     "text": [
      "Epoch 1350 - Train Loss: 0.0346, Train MSE: 0.0346, Train MAE: 0.1362\n",
      "Epoch 1350 - Validation Loss: 0.7021, Validation MSE: 0.7021, Validation MAE: 0.6068\n"
     ]
    },
    {
     "name": "stderr",
     "output_type": "stream",
     "text": [
      "Training Epoch 1352: 100%|██████████| 901/901 [00:07<00:00, 113.87it/s]\n",
      "Training Epoch 1353: 100%|██████████| 901/901 [00:07<00:00, 114.13it/s]\n",
      "Training Epoch 1354: 100%|██████████| 901/901 [00:07<00:00, 113.96it/s]\n",
      "Training Epoch 1355: 100%|██████████| 901/901 [00:07<00:00, 113.68it/s]\n",
      "Training Epoch 1356: 100%|██████████| 901/901 [00:08<00:00, 112.50it/s]\n",
      "Training Epoch 1357: 100%|██████████| 901/901 [00:07<00:00, 114.50it/s]\n",
      "Training Epoch 1358: 100%|██████████| 901/901 [00:07<00:00, 119.69it/s]\n",
      "Training Epoch 1359: 100%|██████████| 901/901 [00:07<00:00, 113.08it/s]\n",
      "Training Epoch 1360: 100%|██████████| 901/901 [00:08<00:00, 112.45it/s]\n",
      "Training Epoch 1361: 100%|██████████| 901/901 [00:08<00:00, 111.77it/s]\n"
     ]
    },
    {
     "name": "stdout",
     "output_type": "stream",
     "text": [
      "Epoch 1360 - Train Loss: 0.0345, Train MSE: 0.0345, Train MAE: 0.1369\n",
      "Epoch 1360 - Validation Loss: 0.7139, Validation MSE: 0.7139, Validation MAE: 0.6112\n"
     ]
    },
    {
     "name": "stderr",
     "output_type": "stream",
     "text": [
      "Training Epoch 1362: 100%|██████████| 901/901 [00:07<00:00, 116.54it/s]\n",
      "Training Epoch 1363: 100%|██████████| 901/901 [00:07<00:00, 114.42it/s]\n",
      "Training Epoch 1364: 100%|██████████| 901/901 [00:07<00:00, 114.87it/s]\n",
      "Training Epoch 1365: 100%|██████████| 901/901 [00:07<00:00, 116.44it/s]\n",
      "Training Epoch 1366: 100%|██████████| 901/901 [00:08<00:00, 111.37it/s]\n",
      "Training Epoch 1367: 100%|██████████| 901/901 [00:08<00:00, 111.96it/s]\n",
      "Training Epoch 1368: 100%|██████████| 901/901 [00:07<00:00, 114.85it/s]\n",
      "Training Epoch 1369: 100%|██████████| 901/901 [00:07<00:00, 115.29it/s]\n",
      "Training Epoch 1370: 100%|██████████| 901/901 [00:07<00:00, 113.70it/s]\n",
      "Training Epoch 1371: 100%|██████████| 901/901 [00:08<00:00, 111.76it/s]\n"
     ]
    },
    {
     "name": "stdout",
     "output_type": "stream",
     "text": [
      "Epoch 1370 - Train Loss: 0.0320, Train MSE: 0.0320, Train MAE: 0.1325\n",
      "Epoch 1370 - Validation Loss: 0.7121, Validation MSE: 0.7121, Validation MAE: 0.6100\n"
     ]
    },
    {
     "name": "stderr",
     "output_type": "stream",
     "text": [
      "Training Epoch 1372: 100%|██████████| 901/901 [00:07<00:00, 115.77it/s]\n",
      "Training Epoch 1373: 100%|██████████| 901/901 [00:07<00:00, 112.84it/s]\n",
      "Training Epoch 1374: 100%|██████████| 901/901 [00:07<00:00, 114.85it/s]\n",
      "Training Epoch 1375: 100%|██████████| 901/901 [00:07<00:00, 116.20it/s]\n",
      "Training Epoch 1376: 100%|██████████| 901/901 [00:07<00:00, 115.57it/s]\n",
      "Training Epoch 1377: 100%|██████████| 901/901 [00:07<00:00, 112.98it/s]\n",
      "Training Epoch 1378: 100%|██████████| 901/901 [00:07<00:00, 113.25it/s]\n",
      "Training Epoch 1379: 100%|██████████| 901/901 [00:07<00:00, 119.99it/s]\n",
      "Training Epoch 1380: 100%|██████████| 901/901 [00:07<00:00, 114.81it/s]\n",
      "Training Epoch 1381: 100%|██████████| 901/901 [00:07<00:00, 113.35it/s]\n"
     ]
    },
    {
     "name": "stdout",
     "output_type": "stream",
     "text": [
      "Epoch 1380 - Train Loss: 0.0336, Train MSE: 0.0336, Train MAE: 0.1349\n",
      "Epoch 1380 - Validation Loss: 0.7141, Validation MSE: 0.7141, Validation MAE: 0.6104\n"
     ]
    },
    {
     "name": "stderr",
     "output_type": "stream",
     "text": [
      "Training Epoch 1382: 100%|██████████| 901/901 [00:07<00:00, 114.10it/s]\n",
      "Training Epoch 1383: 100%|██████████| 901/901 [00:07<00:00, 114.68it/s]\n",
      "Training Epoch 1384: 100%|██████████| 901/901 [00:07<00:00, 113.61it/s]\n",
      "Training Epoch 1385: 100%|██████████| 901/901 [00:07<00:00, 114.93it/s]\n",
      "Training Epoch 1386: 100%|██████████| 901/901 [00:07<00:00, 118.32it/s]\n",
      "Training Epoch 1387: 100%|██████████| 901/901 [00:08<00:00, 112.13it/s]\n",
      "Training Epoch 1388: 100%|██████████| 901/901 [00:08<00:00, 111.84it/s]\n",
      "Training Epoch 1389: 100%|██████████| 901/901 [00:07<00:00, 114.66it/s]\n",
      "Training Epoch 1390: 100%|██████████| 901/901 [00:07<00:00, 116.54it/s]\n",
      "Training Epoch 1391: 100%|██████████| 901/901 [00:07<00:00, 115.19it/s]\n"
     ]
    },
    {
     "name": "stdout",
     "output_type": "stream",
     "text": [
      "Epoch 1390 - Train Loss: 0.0329, Train MSE: 0.0329, Train MAE: 0.1332\n",
      "Epoch 1390 - Validation Loss: 0.7000, Validation MSE: 0.7000, Validation MAE: 0.6039\n"
     ]
    },
    {
     "name": "stderr",
     "output_type": "stream",
     "text": [
      "Training Epoch 1392: 100%|██████████| 901/901 [00:08<00:00, 112.08it/s]\n",
      "Training Epoch 1393: 100%|██████████| 901/901 [00:07<00:00, 115.02it/s]\n",
      "Training Epoch 1394: 100%|██████████| 901/901 [00:08<00:00, 107.66it/s]\n",
      "Training Epoch 1395: 100%|██████████| 901/901 [00:08<00:00, 110.76it/s]\n",
      "Training Epoch 1396: 100%|██████████| 901/901 [00:07<00:00, 114.19it/s]\n",
      "Training Epoch 1397: 100%|██████████| 901/901 [00:07<00:00, 113.08it/s]\n",
      "Training Epoch 1398: 100%|██████████| 901/901 [00:08<00:00, 111.11it/s]\n",
      "Training Epoch 1399: 100%|██████████| 901/901 [00:08<00:00, 111.79it/s]\n",
      "Training Epoch 1400: 100%|██████████| 901/901 [00:07<00:00, 114.89it/s]\n",
      "Training Epoch 1401: 100%|██████████| 901/901 [00:08<00:00, 111.71it/s]\n"
     ]
    },
    {
     "name": "stdout",
     "output_type": "stream",
     "text": [
      "Epoch 1400 - Train Loss: 0.0338, Train MSE: 0.0338, Train MAE: 0.1344\n",
      "Epoch 1400 - Validation Loss: 0.7042, Validation MSE: 0.7042, Validation MAE: 0.6073\n"
     ]
    },
    {
     "name": "stderr",
     "output_type": "stream",
     "text": [
      "Training Epoch 1402: 100%|██████████| 901/901 [00:08<00:00, 111.99it/s]\n",
      "Training Epoch 1403: 100%|██████████| 901/901 [00:07<00:00, 116.50it/s]\n",
      "Training Epoch 1404: 100%|██████████| 901/901 [00:07<00:00, 112.97it/s]\n",
      "Training Epoch 1405: 100%|██████████| 901/901 [00:08<00:00, 112.23it/s]\n",
      "Training Epoch 1406: 100%|██████████| 901/901 [00:07<00:00, 112.63it/s]\n",
      "Training Epoch 1407: 100%|██████████| 901/901 [00:07<00:00, 115.34it/s]\n",
      "Training Epoch 1408: 100%|██████████| 901/901 [00:08<00:00, 112.49it/s]\n",
      "Training Epoch 1409: 100%|██████████| 901/901 [00:07<00:00, 113.64it/s]\n",
      "Training Epoch 1410: 100%|██████████| 901/901 [00:07<00:00, 119.67it/s]\n",
      "Training Epoch 1411: 100%|██████████| 901/901 [00:08<00:00, 111.86it/s]\n"
     ]
    },
    {
     "name": "stdout",
     "output_type": "stream",
     "text": [
      "Epoch 1410 - Train Loss: 0.0323, Train MSE: 0.0323, Train MAE: 0.1324\n",
      "Epoch 1410 - Validation Loss: 0.7040, Validation MSE: 0.7040, Validation MAE: 0.6058\n"
     ]
    },
    {
     "name": "stderr",
     "output_type": "stream",
     "text": [
      "Training Epoch 1412: 100%|██████████| 901/901 [00:08<00:00, 111.41it/s]\n",
      "Training Epoch 1413: 100%|██████████| 901/901 [00:08<00:00, 112.12it/s]\n",
      "Training Epoch 1414: 100%|██████████| 901/901 [00:07<00:00, 115.88it/s]\n",
      "Training Epoch 1415: 100%|██████████| 901/901 [00:07<00:00, 114.28it/s]\n",
      "Training Epoch 1416: 100%|██████████| 901/901 [00:08<00:00, 111.77it/s]\n",
      "Training Epoch 1417: 100%|██████████| 901/901 [00:07<00:00, 115.29it/s]\n",
      "Training Epoch 1418: 100%|██████████| 901/901 [00:08<00:00, 111.93it/s]\n",
      "Training Epoch 1419: 100%|██████████| 901/901 [00:08<00:00, 112.10it/s]\n",
      "Training Epoch 1420: 100%|██████████| 901/901 [00:07<00:00, 113.37it/s]\n",
      "Training Epoch 1421: 100%|██████████| 901/901 [00:07<00:00, 114.49it/s]\n"
     ]
    },
    {
     "name": "stdout",
     "output_type": "stream",
     "text": [
      "Epoch 1420 - Train Loss: 0.0337, Train MSE: 0.0337, Train MAE: 0.1339\n",
      "Epoch 1420 - Validation Loss: 0.7050, Validation MSE: 0.7050, Validation MAE: 0.6049\n"
     ]
    },
    {
     "name": "stderr",
     "output_type": "stream",
     "text": [
      "Training Epoch 1422: 100%|██████████| 901/901 [00:08<00:00, 111.14it/s]\n",
      "Training Epoch 1423: 100%|██████████| 901/901 [00:08<00:00, 112.32it/s]\n",
      "Training Epoch 1424: 100%|██████████| 901/901 [00:07<00:00, 117.32it/s]\n",
      "Training Epoch 1425: 100%|██████████| 901/901 [00:07<00:00, 114.64it/s]\n",
      "Training Epoch 1426: 100%|██████████| 901/901 [00:08<00:00, 111.98it/s]\n",
      "Training Epoch 1427: 100%|██████████| 901/901 [00:07<00:00, 113.93it/s]\n",
      "Training Epoch 1428: 100%|██████████| 901/901 [00:07<00:00, 113.83it/s]\n",
      "Training Epoch 1429: 100%|██████████| 901/901 [00:08<00:00, 112.10it/s]\n",
      "Training Epoch 1430: 100%|██████████| 901/901 [00:08<00:00, 111.70it/s]\n",
      "Training Epoch 1431: 100%|██████████| 901/901 [00:07<00:00, 117.16it/s]\n"
     ]
    },
    {
     "name": "stdout",
     "output_type": "stream",
     "text": [
      "Epoch 1430 - Train Loss: 0.0331, Train MSE: 0.0331, Train MAE: 0.1340\n",
      "Epoch 1430 - Validation Loss: 0.7050, Validation MSE: 0.7050, Validation MAE: 0.6058\n"
     ]
    },
    {
     "name": "stderr",
     "output_type": "stream",
     "text": [
      "Training Epoch 1432: 100%|██████████| 901/901 [00:08<00:00, 112.11it/s]\n",
      "Training Epoch 1433: 100%|██████████| 901/901 [00:07<00:00, 113.16it/s]\n",
      "Training Epoch 1434: 100%|██████████| 901/901 [00:07<00:00, 112.72it/s]\n",
      "Training Epoch 1435: 100%|██████████| 901/901 [00:07<00:00, 113.39it/s]\n",
      "Training Epoch 1436: 100%|██████████| 901/901 [00:08<00:00, 112.33it/s]\n",
      "Training Epoch 1437: 100%|██████████| 901/901 [00:08<00:00, 112.12it/s]\n",
      "Training Epoch 1438: 100%|██████████| 901/901 [00:07<00:00, 115.44it/s]\n",
      "Training Epoch 1439: 100%|██████████| 901/901 [00:07<00:00, 112.89it/s]\n",
      "Training Epoch 1440: 100%|██████████| 901/901 [00:08<00:00, 111.66it/s]\n",
      "Training Epoch 1441: 100%|██████████| 901/901 [00:07<00:00, 114.55it/s]\n"
     ]
    },
    {
     "name": "stdout",
     "output_type": "stream",
     "text": [
      "Epoch 1440 - Train Loss: 0.0333, Train MSE: 0.0333, Train MAE: 0.1336\n",
      "Epoch 1440 - Validation Loss: 0.7059, Validation MSE: 0.7059, Validation MAE: 0.6067\n"
     ]
    },
    {
     "name": "stderr",
     "output_type": "stream",
     "text": [
      "Training Epoch 1442: 100%|██████████| 901/901 [00:07<00:00, 112.98it/s]\n",
      "Training Epoch 1443: 100%|██████████| 901/901 [00:08<00:00, 111.84it/s]\n",
      "Training Epoch 1444: 100%|██████████| 901/901 [00:07<00:00, 113.99it/s]\n",
      "Training Epoch 1445: 100%|██████████| 901/901 [00:07<00:00, 116.14it/s]\n",
      "Training Epoch 1446: 100%|██████████| 901/901 [00:07<00:00, 112.70it/s]\n",
      "Training Epoch 1447: 100%|██████████| 901/901 [00:07<00:00, 113.45it/s]\n",
      "Training Epoch 1448: 100%|██████████| 901/901 [00:07<00:00, 114.86it/s]\n",
      "Training Epoch 1449: 100%|██████████| 901/901 [00:08<00:00, 111.71it/s]\n",
      "Training Epoch 1450: 100%|██████████| 901/901 [00:08<00:00, 111.83it/s]\n",
      "Training Epoch 1451: 100%|██████████| 901/901 [00:08<00:00, 111.97it/s]\n"
     ]
    },
    {
     "name": "stdout",
     "output_type": "stream",
     "text": [
      "Epoch 1450 - Train Loss: 0.0330, Train MSE: 0.0330, Train MAE: 0.1337\n",
      "Epoch 1450 - Validation Loss: 0.7117, Validation MSE: 0.7117, Validation MAE: 0.6100\n"
     ]
    },
    {
     "name": "stderr",
     "output_type": "stream",
     "text": [
      "Training Epoch 1452: 100%|██████████| 901/901 [00:07<00:00, 115.28it/s]\n",
      "Training Epoch 1453: 100%|██████████| 901/901 [00:08<00:00, 112.53it/s]\n",
      "Training Epoch 1454: 100%|██████████| 901/901 [00:07<00:00, 112.82it/s]\n",
      "Training Epoch 1455: 100%|██████████| 901/901 [00:07<00:00, 114.35it/s]\n",
      "Training Epoch 1456: 100%|██████████| 901/901 [00:08<00:00, 111.88it/s]\n",
      "Training Epoch 1457: 100%|██████████| 901/901 [00:08<00:00, 111.20it/s]\n",
      "Training Epoch 1458: 100%|██████████| 901/901 [00:08<00:00, 112.18it/s]\n",
      "Training Epoch 1459: 100%|██████████| 901/901 [00:07<00:00, 113.51it/s]\n",
      "Training Epoch 1460: 100%|██████████| 901/901 [00:07<00:00, 113.24it/s]\n",
      "Training Epoch 1461: 100%|██████████| 901/901 [00:07<00:00, 112.69it/s]\n"
     ]
    },
    {
     "name": "stdout",
     "output_type": "stream",
     "text": [
      "Epoch 1460 - Train Loss: 0.0315, Train MSE: 0.0315, Train MAE: 0.1316\n",
      "Epoch 1460 - Validation Loss: 0.6999, Validation MSE: 0.6999, Validation MAE: 0.6034\n"
     ]
    },
    {
     "name": "stderr",
     "output_type": "stream",
     "text": [
      "Training Epoch 1462: 100%|██████████| 901/901 [00:07<00:00, 114.77it/s]\n",
      "Training Epoch 1463: 100%|██████████| 901/901 [00:08<00:00, 111.67it/s]\n",
      "Training Epoch 1464: 100%|██████████| 901/901 [00:08<00:00, 112.18it/s]\n",
      "Training Epoch 1465: 100%|██████████| 901/901 [00:07<00:00, 114.10it/s]\n",
      "Training Epoch 1466: 100%|██████████| 901/901 [00:07<00:00, 114.83it/s]\n",
      "Training Epoch 1467: 100%|██████████| 901/901 [00:07<00:00, 115.86it/s]\n",
      "Training Epoch 1468: 100%|██████████| 901/901 [00:07<00:00, 113.17it/s]\n",
      "Training Epoch 1469: 100%|██████████| 901/901 [00:07<00:00, 116.58it/s]\n",
      "Training Epoch 1470: 100%|██████████| 901/901 [00:08<00:00, 112.54it/s]\n",
      "Training Epoch 1471: 100%|██████████| 901/901 [00:08<00:00, 112.37it/s]\n"
     ]
    },
    {
     "name": "stdout",
     "output_type": "stream",
     "text": [
      "Epoch 1470 - Train Loss: 0.0313, Train MSE: 0.0313, Train MAE: 0.1303\n",
      "Epoch 1470 - Validation Loss: 0.7108, Validation MSE: 0.7108, Validation MAE: 0.6090\n"
     ]
    },
    {
     "name": "stderr",
     "output_type": "stream",
     "text": [
      "Training Epoch 1472: 100%|██████████| 901/901 [00:07<00:00, 113.82it/s]\n",
      "Training Epoch 1473: 100%|██████████| 901/901 [00:07<00:00, 113.16it/s]\n",
      "Training Epoch 1474: 100%|██████████| 901/901 [00:08<00:00, 111.93it/s]\n",
      "Training Epoch 1475: 100%|██████████| 901/901 [00:08<00:00, 112.37it/s]\n",
      "Training Epoch 1476: 100%|██████████| 901/901 [00:07<00:00, 116.70it/s]\n",
      "Training Epoch 1477: 100%|██████████| 901/901 [00:07<00:00, 115.73it/s]\n",
      "Training Epoch 1478: 100%|██████████| 901/901 [00:08<00:00, 111.14it/s]\n",
      "Training Epoch 1479: 100%|██████████| 901/901 [00:07<00:00, 114.84it/s]\n",
      "Training Epoch 1480: 100%|██████████| 901/901 [00:07<00:00, 112.80it/s]\n",
      "Training Epoch 1481: 100%|██████████| 901/901 [00:07<00:00, 112.73it/s]\n"
     ]
    },
    {
     "name": "stdout",
     "output_type": "stream",
     "text": [
      "Epoch 1480 - Train Loss: 0.0319, Train MSE: 0.0319, Train MAE: 0.1313\n",
      "Epoch 1480 - Validation Loss: 0.7152, Validation MSE: 0.7152, Validation MAE: 0.6100\n"
     ]
    },
    {
     "name": "stderr",
     "output_type": "stream",
     "text": [
      "Training Epoch 1482: 100%|██████████| 901/901 [00:07<00:00, 113.28it/s]\n",
      "Training Epoch 1483: 100%|██████████| 901/901 [00:07<00:00, 115.79it/s]\n",
      "Training Epoch 1484: 100%|██████████| 901/901 [00:08<00:00, 111.83it/s]\n",
      "Training Epoch 1485: 100%|██████████| 901/901 [00:07<00:00, 112.68it/s]\n",
      "Training Epoch 1486: 100%|██████████| 901/901 [00:07<00:00, 116.51it/s]\n",
      "Training Epoch 1487: 100%|██████████| 901/901 [00:08<00:00, 112.41it/s]\n",
      "Training Epoch 1488: 100%|██████████| 901/901 [00:07<00:00, 112.70it/s]\n",
      "Training Epoch 1489: 100%|██████████| 901/901 [00:08<00:00, 111.70it/s]\n",
      "Training Epoch 1490: 100%|██████████| 901/901 [00:07<00:00, 115.78it/s]\n",
      "Training Epoch 1491: 100%|██████████| 901/901 [00:08<00:00, 112.43it/s]\n"
     ]
    },
    {
     "name": "stdout",
     "output_type": "stream",
     "text": [
      "Epoch 1490 - Train Loss: 0.0310, Train MSE: 0.0310, Train MAE: 0.1303\n",
      "Epoch 1490 - Validation Loss: 0.7031, Validation MSE: 0.7031, Validation MAE: 0.6051\n"
     ]
    },
    {
     "name": "stderr",
     "output_type": "stream",
     "text": [
      "Training Epoch 1492: 100%|██████████| 901/901 [00:07<00:00, 112.66it/s]\n",
      "Training Epoch 1493: 100%|██████████| 901/901 [00:07<00:00, 117.04it/s]\n",
      "Training Epoch 1494: 100%|██████████| 901/901 [00:08<00:00, 112.20it/s]\n",
      "Training Epoch 1495: 100%|██████████| 901/901 [00:08<00:00, 112.25it/s]\n",
      "Training Epoch 1496: 100%|██████████| 901/901 [00:08<00:00, 111.86it/s]\n",
      "Training Epoch 1497: 100%|██████████| 901/901 [00:07<00:00, 114.98it/s]\n",
      "Training Epoch 1498: 100%|██████████| 901/901 [00:08<00:00, 112.10it/s]\n",
      "Training Epoch 1499: 100%|██████████| 901/901 [00:07<00:00, 114.64it/s]\n",
      "Training Epoch 1500: 100%|██████████| 901/901 [00:07<00:00, 117.03it/s]\n",
      "Training Epoch 1501: 100%|██████████| 901/901 [00:08<00:00, 111.46it/s]\n"
     ]
    },
    {
     "name": "stdout",
     "output_type": "stream",
     "text": [
      "Epoch 1500 - Train Loss: 0.0326, Train MSE: 0.0326, Train MAE: 0.1320\n",
      "Epoch 1500 - Validation Loss: 0.7095, Validation MSE: 0.7095, Validation MAE: 0.6060\n"
     ]
    },
    {
     "name": "stderr",
     "output_type": "stream",
     "text": [
      "Training Epoch 1502: 100%|██████████| 901/901 [00:08<00:00, 112.52it/s]\n",
      "Training Epoch 1503: 100%|██████████| 901/901 [00:08<00:00, 112.21it/s]\n",
      "Training Epoch 1504: 100%|██████████| 901/901 [00:07<00:00, 115.57it/s]\n",
      "Training Epoch 1505: 100%|██████████| 901/901 [00:07<00:00, 113.65it/s]\n",
      "Training Epoch 1506: 100%|██████████| 901/901 [00:08<00:00, 111.68it/s]\n",
      "Training Epoch 1507: 100%|██████████| 901/901 [00:07<00:00, 115.88it/s]\n",
      "Training Epoch 1508: 100%|██████████| 901/901 [00:08<00:00, 112.46it/s]\n",
      "Training Epoch 1509: 100%|██████████| 901/901 [00:08<00:00, 112.38it/s]\n",
      "Training Epoch 1510: 100%|██████████| 901/901 [00:07<00:00, 114.18it/s]\n",
      "Training Epoch 1511: 100%|██████████| 901/901 [00:07<00:00, 116.07it/s]\n"
     ]
    },
    {
     "name": "stdout",
     "output_type": "stream",
     "text": [
      "Epoch 1510 - Train Loss: 0.0317, Train MSE: 0.0317, Train MAE: 0.1312\n",
      "Epoch 1510 - Validation Loss: 0.7053, Validation MSE: 0.7053, Validation MAE: 0.6066\n"
     ]
    },
    {
     "name": "stderr",
     "output_type": "stream",
     "text": [
      "Training Epoch 1512: 100%|██████████| 901/901 [00:07<00:00, 113.30it/s]\n",
      "Training Epoch 1513: 100%|██████████| 901/901 [00:07<00:00, 113.08it/s]\n",
      "Training Epoch 1514: 100%|██████████| 901/901 [00:07<00:00, 116.76it/s]\n",
      "Training Epoch 1515: 100%|██████████| 901/901 [00:07<00:00, 113.31it/s]\n",
      "Training Epoch 1516: 100%|██████████| 901/901 [00:07<00:00, 113.76it/s]\n",
      "Training Epoch 1517: 100%|██████████| 901/901 [00:07<00:00, 114.27it/s]\n",
      "Training Epoch 1518: 100%|██████████| 901/901 [00:07<00:00, 114.23it/s]\n",
      "Training Epoch 1519: 100%|██████████| 901/901 [00:07<00:00, 113.09it/s]\n",
      "Training Epoch 1520: 100%|██████████| 901/901 [00:08<00:00, 112.50it/s]\n",
      "Training Epoch 1521: 100%|██████████| 901/901 [00:07<00:00, 117.98it/s]\n"
     ]
    },
    {
     "name": "stdout",
     "output_type": "stream",
     "text": [
      "Epoch 1520 - Train Loss: 0.0334, Train MSE: 0.0334, Train MAE: 0.1334\n",
      "Epoch 1520 - Validation Loss: 0.7070, Validation MSE: 0.7070, Validation MAE: 0.6069\n"
     ]
    },
    {
     "name": "stderr",
     "output_type": "stream",
     "text": [
      "Training Epoch 1522: 100%|██████████| 901/901 [00:07<00:00, 113.92it/s]\n",
      "Training Epoch 1523: 100%|██████████| 901/901 [00:07<00:00, 112.76it/s]\n",
      "Training Epoch 1524: 100%|██████████| 901/901 [00:07<00:00, 113.52it/s]\n",
      "Training Epoch 1525: 100%|██████████| 901/901 [00:07<00:00, 114.23it/s]\n",
      "Training Epoch 1526: 100%|██████████| 901/901 [00:07<00:00, 112.75it/s]\n",
      "Training Epoch 1527: 100%|██████████| 901/901 [00:08<00:00, 111.79it/s]\n",
      "Training Epoch 1528: 100%|██████████| 901/901 [00:07<00:00, 115.98it/s]\n",
      "Training Epoch 1529: 100%|██████████| 901/901 [00:08<00:00, 111.77it/s]\n",
      "Training Epoch 1530: 100%|██████████| 901/901 [00:07<00:00, 113.09it/s]\n",
      "Training Epoch 1531: 100%|██████████| 901/901 [00:07<00:00, 115.28it/s]\n"
     ]
    },
    {
     "name": "stdout",
     "output_type": "stream",
     "text": [
      "Epoch 1530 - Train Loss: 0.0326, Train MSE: 0.0326, Train MAE: 0.1321\n",
      "Epoch 1530 - Validation Loss: 0.7095, Validation MSE: 0.7095, Validation MAE: 0.6085\n"
     ]
    },
    {
     "name": "stderr",
     "output_type": "stream",
     "text": [
      "Training Epoch 1532: 100%|██████████| 901/901 [00:07<00:00, 115.21it/s]\n",
      "Training Epoch 1533: 100%|██████████| 901/901 [00:08<00:00, 111.51it/s]\n",
      "Training Epoch 1534: 100%|██████████| 901/901 [00:07<00:00, 112.78it/s]\n",
      "Training Epoch 1535: 100%|██████████| 901/901 [00:07<00:00, 115.48it/s]\n",
      "Training Epoch 1536: 100%|██████████| 901/901 [00:08<00:00, 112.62it/s]\n",
      "Training Epoch 1537: 100%|██████████| 901/901 [00:07<00:00, 113.51it/s]\n",
      "Training Epoch 1538: 100%|██████████| 901/901 [00:07<00:00, 115.90it/s]\n",
      "Training Epoch 1539: 100%|██████████| 901/901 [00:08<00:00, 112.36it/s]\n",
      "Training Epoch 1540: 100%|██████████| 901/901 [00:08<00:00, 112.00it/s]\n",
      "Training Epoch 1541: 100%|██████████| 901/901 [00:08<00:00, 111.01it/s]\n"
     ]
    },
    {
     "name": "stdout",
     "output_type": "stream",
     "text": [
      "Epoch 1540 - Train Loss: 0.0313, Train MSE: 0.0313, Train MAE: 0.1302\n",
      "Epoch 1540 - Validation Loss: 0.7016, Validation MSE: 0.7016, Validation MAE: 0.6059\n"
     ]
    },
    {
     "name": "stderr",
     "output_type": "stream",
     "text": [
      "Training Epoch 1542: 100%|██████████| 901/901 [00:07<00:00, 112.86it/s]\n",
      "Training Epoch 1543: 100%|██████████| 901/901 [00:08<00:00, 111.81it/s]\n",
      "Training Epoch 1544: 100%|██████████| 901/901 [00:07<00:00, 113.14it/s]\n",
      "Training Epoch 1545: 100%|██████████| 901/901 [00:07<00:00, 116.35it/s]\n",
      "Training Epoch 1546: 100%|██████████| 901/901 [00:08<00:00, 112.57it/s]\n",
      "Training Epoch 1547: 100%|██████████| 901/901 [00:08<00:00, 111.48it/s]\n",
      "Training Epoch 1548: 100%|██████████| 901/901 [00:08<00:00, 112.27it/s]\n",
      "Training Epoch 1549: 100%|██████████| 901/901 [00:07<00:00, 115.97it/s]\n",
      "Training Epoch 1550: 100%|██████████| 901/901 [00:07<00:00, 116.11it/s]\n",
      "Training Epoch 1551: 100%|██████████| 901/901 [00:08<00:00, 112.38it/s]\n"
     ]
    },
    {
     "name": "stdout",
     "output_type": "stream",
     "text": [
      "Epoch 1550 - Train Loss: 0.0314, Train MSE: 0.0314, Train MAE: 0.1302\n",
      "Epoch 1550 - Validation Loss: 0.7012, Validation MSE: 0.7012, Validation MAE: 0.6048\n"
     ]
    },
    {
     "name": "stderr",
     "output_type": "stream",
     "text": [
      "Training Epoch 1552: 100%|██████████| 901/901 [00:07<00:00, 116.79it/s]\n",
      "Training Epoch 1553: 100%|██████████| 901/901 [00:07<00:00, 113.45it/s]\n",
      "Training Epoch 1554: 100%|██████████| 901/901 [00:07<00:00, 112.78it/s]\n",
      "Training Epoch 1555: 100%|██████████| 901/901 [00:07<00:00, 113.15it/s]\n",
      "Training Epoch 1556: 100%|██████████| 901/901 [00:07<00:00, 115.22it/s]\n",
      "Training Epoch 1557: 100%|██████████| 901/901 [00:07<00:00, 112.79it/s]\n",
      "Training Epoch 1558: 100%|██████████| 901/901 [00:07<00:00, 112.66it/s]\n",
      "Training Epoch 1559: 100%|██████████| 901/901 [00:07<00:00, 118.66it/s]\n",
      "Training Epoch 1560: 100%|██████████| 901/901 [00:07<00:00, 113.72it/s]\n",
      "Training Epoch 1561: 100%|██████████| 901/901 [00:08<00:00, 112.28it/s]\n"
     ]
    },
    {
     "name": "stdout",
     "output_type": "stream",
     "text": [
      "Epoch 1560 - Train Loss: 0.0304, Train MSE: 0.0304, Train MAE: 0.1287\n",
      "Epoch 1560 - Validation Loss: 0.7185, Validation MSE: 0.7185, Validation MAE: 0.6103\n"
     ]
    },
    {
     "name": "stderr",
     "output_type": "stream",
     "text": [
      "Training Epoch 1562: 100%|██████████| 901/901 [00:07<00:00, 114.35it/s]\n",
      "Training Epoch 1563: 100%|██████████| 901/901 [00:07<00:00, 115.46it/s]\n",
      "Training Epoch 1564: 100%|██████████| 901/901 [00:07<00:00, 112.69it/s]\n",
      "Training Epoch 1565: 100%|██████████| 901/901 [00:07<00:00, 113.60it/s]\n",
      "Training Epoch 1566: 100%|██████████| 901/901 [00:07<00:00, 115.75it/s]\n",
      "Training Epoch 1567: 100%|██████████| 901/901 [00:07<00:00, 112.68it/s]\n",
      "Training Epoch 1568: 100%|██████████| 901/901 [00:08<00:00, 112.05it/s]\n",
      "Training Epoch 1569: 100%|██████████| 901/901 [00:07<00:00, 114.01it/s]\n",
      "Training Epoch 1570: 100%|██████████| 901/901 [00:07<00:00, 114.73it/s]\n",
      "Training Epoch 1571: 100%|██████████| 901/901 [00:08<00:00, 112.60it/s]\n"
     ]
    },
    {
     "name": "stdout",
     "output_type": "stream",
     "text": [
      "Epoch 1570 - Train Loss: 0.0311, Train MSE: 0.0311, Train MAE: 0.1299\n",
      "Epoch 1570 - Validation Loss: 0.6988, Validation MSE: 0.6988, Validation MAE: 0.6027\n"
     ]
    },
    {
     "name": "stderr",
     "output_type": "stream",
     "text": [
      "Training Epoch 1572: 100%|██████████| 901/901 [00:08<00:00, 112.05it/s]\n",
      "Training Epoch 1573: 100%|██████████| 901/901 [00:07<00:00, 116.09it/s]\n",
      "Training Epoch 1574: 100%|██████████| 901/901 [00:08<00:00, 112.30it/s]\n",
      "Training Epoch 1575: 100%|██████████| 901/901 [00:07<00:00, 112.82it/s]\n",
      "Training Epoch 1576: 100%|██████████| 901/901 [00:07<00:00, 114.49it/s]\n",
      "Training Epoch 1577: 100%|██████████| 901/901 [00:07<00:00, 112.90it/s]\n",
      "Training Epoch 1578: 100%|██████████| 901/901 [00:08<00:00, 111.93it/s]\n",
      "Training Epoch 1579: 100%|██████████| 901/901 [00:08<00:00, 112.43it/s]\n",
      "Training Epoch 1580: 100%|██████████| 901/901 [00:07<00:00, 116.77it/s]\n",
      "Training Epoch 1581: 100%|██████████| 901/901 [00:07<00:00, 113.89it/s]\n"
     ]
    },
    {
     "name": "stdout",
     "output_type": "stream",
     "text": [
      "Epoch 1580 - Train Loss: 0.0315, Train MSE: 0.0315, Train MAE: 0.1301\n",
      "Epoch 1580 - Validation Loss: 0.7156, Validation MSE: 0.7156, Validation MAE: 0.6104\n"
     ]
    },
    {
     "name": "stderr",
     "output_type": "stream",
     "text": [
      "Training Epoch 1582: 100%|██████████| 901/901 [00:07<00:00, 113.32it/s]\n",
      "Training Epoch 1583: 100%|██████████| 901/901 [00:07<00:00, 113.90it/s]\n",
      "Training Epoch 1584: 100%|██████████| 901/901 [00:07<00:00, 113.18it/s]\n",
      "Training Epoch 1585: 100%|██████████| 901/901 [00:08<00:00, 112.10it/s]\n",
      "Training Epoch 1586: 100%|██████████| 901/901 [00:08<00:00, 112.11it/s]\n",
      "Training Epoch 1587: 100%|██████████| 901/901 [00:08<00:00, 106.81it/s]\n",
      "Training Epoch 1588: 100%|██████████| 901/901 [00:07<00:00, 113.57it/s]\n",
      "Training Epoch 1589: 100%|██████████| 901/901 [00:08<00:00, 112.62it/s]\n",
      "Training Epoch 1590: 100%|██████████| 901/901 [00:07<00:00, 116.36it/s]\n",
      "Training Epoch 1591: 100%|██████████| 901/901 [00:08<00:00, 111.28it/s]\n"
     ]
    },
    {
     "name": "stdout",
     "output_type": "stream",
     "text": [
      "Epoch 1590 - Train Loss: 0.0305, Train MSE: 0.0305, Train MAE: 0.1290\n",
      "Epoch 1590 - Validation Loss: 0.7036, Validation MSE: 0.7036, Validation MAE: 0.6051\n"
     ]
    },
    {
     "name": "stderr",
     "output_type": "stream",
     "text": [
      "Training Epoch 1592: 100%|██████████| 901/901 [00:07<00:00, 113.61it/s]\n",
      "Training Epoch 1593: 100%|██████████| 901/901 [00:07<00:00, 113.56it/s]\n",
      "Training Epoch 1594: 100%|██████████| 901/901 [00:07<00:00, 118.02it/s]\n",
      "Training Epoch 1595: 100%|██████████| 901/901 [00:08<00:00, 112.10it/s]\n",
      "Training Epoch 1596: 100%|██████████| 901/901 [00:07<00:00, 113.56it/s]\n",
      "Training Epoch 1597: 100%|██████████| 901/901 [00:07<00:00, 116.64it/s]\n",
      "Training Epoch 1598: 100%|██████████| 901/901 [00:07<00:00, 115.55it/s]\n",
      "Training Epoch 1599: 100%|██████████| 901/901 [00:08<00:00, 112.11it/s]\n",
      "Training Epoch 1600: 100%|██████████| 901/901 [00:08<00:00, 112.22it/s]\n",
      "Training Epoch 1601: 100%|██████████| 901/901 [00:07<00:00, 114.51it/s]\n"
     ]
    },
    {
     "name": "stdout",
     "output_type": "stream",
     "text": [
      "Epoch 1600 - Train Loss: 0.0309, Train MSE: 0.0309, Train MAE: 0.1296\n",
      "Epoch 1600 - Validation Loss: 0.7080, Validation MSE: 0.7080, Validation MAE: 0.6051\n"
     ]
    },
    {
     "name": "stderr",
     "output_type": "stream",
     "text": [
      "Training Epoch 1602: 100%|██████████| 901/901 [00:08<00:00, 111.41it/s]\n",
      "Training Epoch 1603: 100%|██████████| 901/901 [00:07<00:00, 114.33it/s]\n",
      "Training Epoch 1604: 100%|██████████| 901/901 [00:07<00:00, 116.32it/s]\n",
      "Training Epoch 1605: 100%|██████████| 901/901 [00:07<00:00, 113.45it/s]\n",
      "Training Epoch 1606: 100%|██████████| 901/901 [00:08<00:00, 111.95it/s]\n",
      "Training Epoch 1607: 100%|██████████| 901/901 [00:07<00:00, 112.98it/s]\n",
      "Training Epoch 1608: 100%|██████████| 901/901 [00:07<00:00, 115.75it/s]\n",
      "Training Epoch 1609: 100%|██████████| 901/901 [00:07<00:00, 113.15it/s]\n",
      "Training Epoch 1610: 100%|██████████| 901/901 [00:08<00:00, 112.22it/s]\n",
      "Training Epoch 1611: 100%|██████████| 901/901 [00:07<00:00, 117.86it/s]\n"
     ]
    },
    {
     "name": "stdout",
     "output_type": "stream",
     "text": [
      "Epoch 1610 - Train Loss: 0.0313, Train MSE: 0.0313, Train MAE: 0.1295\n",
      "Epoch 1610 - Validation Loss: 0.7115, Validation MSE: 0.7115, Validation MAE: 0.6071\n"
     ]
    },
    {
     "name": "stderr",
     "output_type": "stream",
     "text": [
      "Training Epoch 1612: 100%|██████████| 901/901 [00:07<00:00, 113.06it/s]\n",
      "Training Epoch 1613: 100%|██████████| 901/901 [00:07<00:00, 113.28it/s]\n",
      "Training Epoch 1614: 100%|██████████| 901/901 [00:07<00:00, 114.32it/s]\n",
      "Training Epoch 1615: 100%|██████████| 901/901 [00:07<00:00, 116.08it/s]\n",
      "Training Epoch 1616: 100%|██████████| 901/901 [00:07<00:00, 113.21it/s]\n",
      "Training Epoch 1617: 100%|██████████| 901/901 [00:07<00:00, 113.76it/s]\n",
      "Training Epoch 1618: 100%|██████████| 901/901 [00:07<00:00, 117.05it/s]\n",
      "Training Epoch 1619: 100%|██████████| 901/901 [00:07<00:00, 113.29it/s]\n",
      "Training Epoch 1620: 100%|██████████| 901/901 [00:07<00:00, 112.77it/s]\n",
      "Training Epoch 1621: 100%|██████████| 901/901 [00:07<00:00, 115.19it/s]\n"
     ]
    },
    {
     "name": "stdout",
     "output_type": "stream",
     "text": [
      "Epoch 1620 - Train Loss: 0.0309, Train MSE: 0.0309, Train MAE: 0.1294\n",
      "Epoch 1620 - Validation Loss: 0.7104, Validation MSE: 0.7104, Validation MAE: 0.6073\n"
     ]
    },
    {
     "name": "stderr",
     "output_type": "stream",
     "text": [
      "Training Epoch 1622: 100%|██████████| 901/901 [00:07<00:00, 116.47it/s]\n",
      "Training Epoch 1623: 100%|██████████| 901/901 [00:07<00:00, 113.87it/s]\n",
      "Training Epoch 1624: 100%|██████████| 901/901 [00:07<00:00, 113.74it/s]\n",
      "Training Epoch 1625: 100%|██████████| 901/901 [00:07<00:00, 116.70it/s]\n",
      "Training Epoch 1626: 100%|██████████| 901/901 [00:07<00:00, 113.06it/s]\n",
      "Training Epoch 1627: 100%|██████████| 901/901 [00:07<00:00, 114.13it/s]\n",
      "Training Epoch 1628: 100%|██████████| 901/901 [00:07<00:00, 115.70it/s]\n",
      "Training Epoch 1629: 100%|██████████| 901/901 [00:07<00:00, 115.42it/s]\n",
      "Training Epoch 1630: 100%|██████████| 901/901 [00:07<00:00, 113.39it/s]\n",
      "Training Epoch 1631: 100%|██████████| 901/901 [00:07<00:00, 113.02it/s]\n"
     ]
    },
    {
     "name": "stdout",
     "output_type": "stream",
     "text": [
      "Epoch 1630 - Train Loss: 0.0308, Train MSE: 0.0308, Train MAE: 0.1293\n",
      "Epoch 1630 - Validation Loss: 0.7044, Validation MSE: 0.7044, Validation MAE: 0.6034\n"
     ]
    },
    {
     "name": "stderr",
     "output_type": "stream",
     "text": [
      "Training Epoch 1632: 100%|██████████| 901/901 [00:07<00:00, 119.15it/s]\n",
      "Training Epoch 1633: 100%|██████████| 901/901 [00:07<00:00, 114.31it/s]\n",
      "Training Epoch 1634: 100%|██████████| 901/901 [00:07<00:00, 113.64it/s]\n",
      "Training Epoch 1635: 100%|██████████| 901/901 [00:07<00:00, 113.00it/s]\n",
      "Training Epoch 1636: 100%|██████████| 901/901 [00:07<00:00, 116.10it/s]\n",
      "Training Epoch 1637: 100%|██████████| 901/901 [00:07<00:00, 112.72it/s]\n",
      "Training Epoch 1638: 100%|██████████| 901/901 [00:07<00:00, 113.70it/s]\n",
      "Training Epoch 1639: 100%|██████████| 901/901 [00:07<00:00, 118.28it/s]\n",
      "Training Epoch 1640: 100%|██████████| 901/901 [00:07<00:00, 113.77it/s]\n",
      "Training Epoch 1641: 100%|██████████| 901/901 [00:07<00:00, 114.38it/s]\n"
     ]
    },
    {
     "name": "stdout",
     "output_type": "stream",
     "text": [
      "Epoch 1640 - Train Loss: 0.0305, Train MSE: 0.0305, Train MAE: 0.1287\n",
      "Epoch 1640 - Validation Loss: 0.7136, Validation MSE: 0.7136, Validation MAE: 0.6087\n"
     ]
    },
    {
     "name": "stderr",
     "output_type": "stream",
     "text": [
      "Training Epoch 1642: 100%|██████████| 901/901 [00:07<00:00, 113.51it/s]\n",
      "Training Epoch 1643: 100%|██████████| 901/901 [00:07<00:00, 116.84it/s]\n",
      "Training Epoch 1644: 100%|██████████| 901/901 [00:07<00:00, 112.81it/s]\n",
      "Training Epoch 1645: 100%|██████████| 901/901 [00:07<00:00, 113.01it/s]\n",
      "Training Epoch 1646: 100%|██████████| 901/901 [00:07<00:00, 120.63it/s]\n",
      "Training Epoch 1647: 100%|██████████| 901/901 [00:07<00:00, 113.37it/s]\n",
      "Training Epoch 1648: 100%|██████████| 901/901 [00:07<00:00, 113.47it/s]\n",
      "Training Epoch 1649: 100%|██████████| 901/901 [00:07<00:00, 114.61it/s]\n",
      "Training Epoch 1650: 100%|██████████| 901/901 [00:07<00:00, 115.62it/s]\n",
      "Training Epoch 1651: 100%|██████████| 901/901 [00:07<00:00, 114.91it/s]\n"
     ]
    },
    {
     "name": "stdout",
     "output_type": "stream",
     "text": [
      "Epoch 1650 - Train Loss: 0.0307, Train MSE: 0.0307, Train MAE: 0.1290\n",
      "Epoch 1650 - Validation Loss: 0.7158, Validation MSE: 0.7158, Validation MAE: 0.6094\n"
     ]
    },
    {
     "name": "stderr",
     "output_type": "stream",
     "text": [
      "Training Epoch 1652: 100%|██████████| 901/901 [00:07<00:00, 113.35it/s]\n",
      "Training Epoch 1653: 100%|██████████| 901/901 [00:07<00:00, 118.31it/s]\n",
      "Training Epoch 1654: 100%|██████████| 901/901 [00:07<00:00, 114.07it/s]\n",
      "Training Epoch 1655: 100%|██████████| 901/901 [00:07<00:00, 113.17it/s]\n",
      "Training Epoch 1656: 100%|██████████| 901/901 [00:07<00:00, 112.69it/s]\n",
      "Training Epoch 1657: 100%|██████████| 901/901 [00:07<00:00, 118.03it/s]\n",
      "Training Epoch 1658: 100%|██████████| 901/901 [00:07<00:00, 113.36it/s]\n",
      "Training Epoch 1659: 100%|██████████| 901/901 [00:07<00:00, 113.11it/s]\n",
      "Training Epoch 1660: 100%|██████████| 901/901 [00:07<00:00, 115.72it/s]\n",
      "Training Epoch 1661: 100%|██████████| 901/901 [00:07<00:00, 114.10it/s]\n"
     ]
    },
    {
     "name": "stdout",
     "output_type": "stream",
     "text": [
      "Epoch 1660 - Train Loss: 0.0301, Train MSE: 0.0301, Train MAE: 0.1275\n",
      "Epoch 1660 - Validation Loss: 0.7175, Validation MSE: 0.7175, Validation MAE: 0.6106\n"
     ]
    },
    {
     "name": "stderr",
     "output_type": "stream",
     "text": [
      "Training Epoch 1662: 100%|██████████| 901/901 [00:07<00:00, 113.12it/s]\n",
      "Training Epoch 1663: 100%|██████████| 901/901 [00:07<00:00, 113.40it/s]\n",
      "Training Epoch 1664: 100%|██████████| 901/901 [00:07<00:00, 115.68it/s]\n",
      "Training Epoch 1665: 100%|██████████| 901/901 [00:07<00:00, 114.35it/s]\n",
      "Training Epoch 1666: 100%|██████████| 901/901 [00:07<00:00, 114.06it/s]\n",
      "Training Epoch 1667: 100%|██████████| 901/901 [00:07<00:00, 119.05it/s]\n",
      "Training Epoch 1668: 100%|██████████| 901/901 [00:07<00:00, 112.87it/s]\n",
      "Training Epoch 1669: 100%|██████████| 901/901 [00:07<00:00, 114.23it/s]\n",
      "Training Epoch 1670: 100%|██████████| 901/901 [00:07<00:00, 113.68it/s]\n",
      "Training Epoch 1671: 100%|██████████| 901/901 [00:07<00:00, 117.77it/s]\n"
     ]
    },
    {
     "name": "stdout",
     "output_type": "stream",
     "text": [
      "Epoch 1670 - Train Loss: 0.0309, Train MSE: 0.0308, Train MAE: 0.1284\n",
      "Epoch 1670 - Validation Loss: 0.7077, Validation MSE: 0.7077, Validation MAE: 0.6072\n"
     ]
    },
    {
     "name": "stderr",
     "output_type": "stream",
     "text": [
      "Training Epoch 1672: 100%|██████████| 901/901 [00:07<00:00, 113.43it/s]\n",
      "Training Epoch 1673: 100%|██████████| 901/901 [00:07<00:00, 114.35it/s]\n",
      "Training Epoch 1674: 100%|██████████| 901/901 [00:07<00:00, 116.57it/s]\n",
      "Training Epoch 1675: 100%|██████████| 901/901 [00:07<00:00, 113.82it/s]\n",
      "Training Epoch 1676: 100%|██████████| 901/901 [00:07<00:00, 114.27it/s]\n",
      "Training Epoch 1677: 100%|██████████| 901/901 [00:07<00:00, 113.82it/s]\n",
      "Training Epoch 1678: 100%|██████████| 901/901 [00:07<00:00, 117.58it/s]\n",
      "Training Epoch 1679: 100%|██████████| 901/901 [00:07<00:00, 113.67it/s]\n",
      "Training Epoch 1680: 100%|██████████| 901/901 [00:07<00:00, 113.61it/s]\n",
      "Training Epoch 1681: 100%|██████████| 901/901 [00:07<00:00, 116.77it/s]\n"
     ]
    },
    {
     "name": "stdout",
     "output_type": "stream",
     "text": [
      "Epoch 1680 - Train Loss: 0.0287, Train MSE: 0.0287, Train MAE: 0.1255\n",
      "Epoch 1680 - Validation Loss: 0.7137, Validation MSE: 0.7137, Validation MAE: 0.6088\n"
     ]
    },
    {
     "name": "stderr",
     "output_type": "stream",
     "text": [
      "Training Epoch 1682: 100%|██████████| 901/901 [00:07<00:00, 112.99it/s]\n",
      "Training Epoch 1683: 100%|██████████| 901/901 [00:08<00:00, 112.28it/s]\n",
      "Training Epoch 1684: 100%|██████████| 901/901 [00:07<00:00, 114.06it/s]\n",
      "Training Epoch 1685: 100%|██████████| 901/901 [00:07<00:00, 117.21it/s]\n",
      "Training Epoch 1686: 100%|██████████| 901/901 [00:07<00:00, 113.70it/s]\n",
      "Training Epoch 1687: 100%|██████████| 901/901 [00:07<00:00, 113.41it/s]\n",
      "Training Epoch 1688: 100%|██████████| 901/901 [00:07<00:00, 117.18it/s]\n",
      "Training Epoch 1689: 100%|██████████| 901/901 [00:07<00:00, 114.72it/s]\n",
      "Training Epoch 1690: 100%|██████████| 901/901 [00:07<00:00, 114.72it/s]\n",
      "Training Epoch 1691: 100%|██████████| 901/901 [00:07<00:00, 112.96it/s]\n"
     ]
    },
    {
     "name": "stdout",
     "output_type": "stream",
     "text": [
      "Epoch 1690 - Train Loss: 0.0304, Train MSE: 0.0304, Train MAE: 0.1276\n",
      "Epoch 1690 - Validation Loss: 0.7115, Validation MSE: 0.7115, Validation MAE: 0.6061\n"
     ]
    },
    {
     "name": "stderr",
     "output_type": "stream",
     "text": [
      "Training Epoch 1692: 100%|██████████| 901/901 [00:07<00:00, 116.86it/s]\n",
      "Training Epoch 1693: 100%|██████████| 901/901 [00:07<00:00, 112.92it/s]\n",
      "Training Epoch 1694: 100%|██████████| 901/901 [00:07<00:00, 114.26it/s]\n",
      "Training Epoch 1695: 100%|██████████| 901/901 [00:07<00:00, 116.52it/s]\n",
      "Training Epoch 1696: 100%|██████████| 901/901 [00:07<00:00, 114.91it/s]\n",
      "Training Epoch 1697: 100%|██████████| 901/901 [00:07<00:00, 114.47it/s]\n",
      "Training Epoch 1698: 100%|██████████| 901/901 [00:07<00:00, 115.91it/s]\n",
      "Training Epoch 1699: 100%|██████████| 901/901 [00:07<00:00, 117.29it/s]\n",
      "Training Epoch 1700: 100%|██████████| 901/901 [00:07<00:00, 114.16it/s]\n",
      "Training Epoch 1701: 100%|██████████| 901/901 [00:07<00:00, 113.00it/s]\n"
     ]
    },
    {
     "name": "stdout",
     "output_type": "stream",
     "text": [
      "Epoch 1700 - Train Loss: 0.0295, Train MSE: 0.0295, Train MAE: 0.1273\n",
      "Epoch 1700 - Validation Loss: 0.7006, Validation MSE: 0.7006, Validation MAE: 0.6027\n"
     ]
    },
    {
     "name": "stderr",
     "output_type": "stream",
     "text": [
      "Training Epoch 1702: 100%|██████████| 901/901 [00:07<00:00, 118.33it/s]\n",
      "Training Epoch 1703: 100%|██████████| 901/901 [00:07<00:00, 114.01it/s]\n",
      "Training Epoch 1704: 100%|██████████| 901/901 [00:07<00:00, 113.40it/s]\n",
      "Training Epoch 1705: 100%|██████████| 901/901 [00:07<00:00, 115.30it/s]\n",
      "Training Epoch 1706: 100%|██████████| 901/901 [00:07<00:00, 116.52it/s]\n",
      "Training Epoch 1707: 100%|██████████| 901/901 [00:07<00:00, 113.19it/s]\n",
      "Training Epoch 1708: 100%|██████████| 901/901 [00:07<00:00, 113.56it/s]\n",
      "Training Epoch 1709: 100%|██████████| 901/901 [00:07<00:00, 117.57it/s]\n",
      "Training Epoch 1710: 100%|██████████| 901/901 [00:07<00:00, 112.80it/s]\n",
      "Training Epoch 1711: 100%|██████████| 901/901 [00:07<00:00, 113.16it/s]\n"
     ]
    },
    {
     "name": "stdout",
     "output_type": "stream",
     "text": [
      "Epoch 1710 - Train Loss: 0.0313, Train MSE: 0.0313, Train MAE: 0.1291\n",
      "Epoch 1710 - Validation Loss: 0.7045, Validation MSE: 0.7045, Validation MAE: 0.6040\n"
     ]
    },
    {
     "name": "stderr",
     "output_type": "stream",
     "text": [
      "Training Epoch 1712: 100%|██████████| 901/901 [00:07<00:00, 114.13it/s]\n",
      "Training Epoch 1713: 100%|██████████| 901/901 [00:07<00:00, 117.66it/s]\n",
      "Training Epoch 1714: 100%|██████████| 901/901 [00:07<00:00, 113.31it/s]\n",
      "Training Epoch 1715: 100%|██████████| 901/901 [00:07<00:00, 113.48it/s]\n",
      "Training Epoch 1716: 100%|██████████| 901/901 [00:07<00:00, 116.24it/s]\n",
      "Training Epoch 1717: 100%|██████████| 901/901 [00:07<00:00, 112.85it/s]\n",
      "Training Epoch 1718: 100%|██████████| 901/901 [00:07<00:00, 113.90it/s]\n",
      "Training Epoch 1719: 100%|██████████| 901/901 [00:07<00:00, 115.78it/s]\n",
      "Training Epoch 1720: 100%|██████████| 901/901 [00:07<00:00, 117.40it/s]\n",
      "Training Epoch 1721: 100%|██████████| 901/901 [00:07<00:00, 115.73it/s]\n"
     ]
    },
    {
     "name": "stdout",
     "output_type": "stream",
     "text": [
      "Epoch 1720 - Train Loss: 0.0303, Train MSE: 0.0303, Train MAE: 0.1270\n",
      "Epoch 1720 - Validation Loss: 0.7028, Validation MSE: 0.7028, Validation MAE: 0.6040\n"
     ]
    },
    {
     "name": "stderr",
     "output_type": "stream",
     "text": [
      "Training Epoch 1722: 100%|██████████| 901/901 [00:08<00:00, 110.42it/s]\n",
      "Training Epoch 1723: 100%|██████████| 901/901 [00:07<00:00, 117.58it/s]\n",
      "Training Epoch 1724: 100%|██████████| 901/901 [00:07<00:00, 114.84it/s]\n",
      "Training Epoch 1725: 100%|██████████| 901/901 [00:07<00:00, 113.12it/s]\n",
      "Training Epoch 1726: 100%|██████████| 901/901 [00:07<00:00, 114.50it/s]\n",
      "Training Epoch 1727: 100%|██████████| 901/901 [00:07<00:00, 117.49it/s]\n",
      "Training Epoch 1728: 100%|██████████| 901/901 [00:07<00:00, 112.75it/s]\n",
      "Training Epoch 1729: 100%|██████████| 901/901 [00:07<00:00, 113.04it/s]\n",
      "Training Epoch 1730: 100%|██████████| 901/901 [00:07<00:00, 116.63it/s]\n",
      "Training Epoch 1731: 100%|██████████| 901/901 [00:07<00:00, 113.89it/s]\n"
     ]
    },
    {
     "name": "stdout",
     "output_type": "stream",
     "text": [
      "Epoch 1730 - Train Loss: 0.0294, Train MSE: 0.0294, Train MAE: 0.1267\n",
      "Epoch 1730 - Validation Loss: 0.7092, Validation MSE: 0.7092, Validation MAE: 0.6066\n"
     ]
    },
    {
     "name": "stderr",
     "output_type": "stream",
     "text": [
      "Training Epoch 1732: 100%|██████████| 901/901 [00:07<00:00, 113.76it/s]\n",
      "Training Epoch 1733: 100%|██████████| 901/901 [00:08<00:00, 112.35it/s]\n",
      "Training Epoch 1734: 100%|██████████| 901/901 [00:07<00:00, 118.01it/s]\n",
      "Training Epoch 1735: 100%|██████████| 901/901 [00:07<00:00, 114.81it/s]\n",
      "Training Epoch 1736: 100%|██████████| 901/901 [00:07<00:00, 113.96it/s]\n",
      "Training Epoch 1737: 100%|██████████| 901/901 [00:07<00:00, 115.25it/s]\n",
      "Training Epoch 1738: 100%|██████████| 901/901 [00:07<00:00, 113.03it/s]\n",
      "Training Epoch 1739: 100%|██████████| 901/901 [00:07<00:00, 114.38it/s]\n",
      "Training Epoch 1740: 100%|██████████| 901/901 [00:07<00:00, 114.56it/s]\n",
      "Training Epoch 1741: 100%|██████████| 901/901 [00:07<00:00, 116.91it/s]\n"
     ]
    },
    {
     "name": "stdout",
     "output_type": "stream",
     "text": [
      "Epoch 1740 - Train Loss: 0.0299, Train MSE: 0.0299, Train MAE: 0.1267\n",
      "Epoch 1740 - Validation Loss: 0.7128, Validation MSE: 0.7128, Validation MAE: 0.6085\n"
     ]
    },
    {
     "name": "stderr",
     "output_type": "stream",
     "text": [
      "Training Epoch 1742: 100%|██████████| 901/901 [00:07<00:00, 113.56it/s]\n",
      "Training Epoch 1743: 100%|██████████| 901/901 [00:07<00:00, 113.47it/s]\n",
      "Training Epoch 1744: 100%|██████████| 901/901 [00:07<00:00, 116.26it/s]\n",
      "Training Epoch 1745: 100%|██████████| 901/901 [00:07<00:00, 112.83it/s]\n",
      "Training Epoch 1746: 100%|██████████| 901/901 [00:07<00:00, 114.52it/s]\n",
      "Training Epoch 1747: 100%|██████████| 901/901 [00:07<00:00, 113.73it/s]\n",
      "Training Epoch 1748: 100%|██████████| 901/901 [00:07<00:00, 117.61it/s]\n",
      "Training Epoch 1749: 100%|██████████| 901/901 [00:07<00:00, 115.82it/s]\n",
      "Training Epoch 1750: 100%|██████████| 901/901 [00:07<00:00, 114.92it/s]\n",
      "Training Epoch 1751: 100%|██████████| 901/901 [00:07<00:00, 115.89it/s]\n"
     ]
    },
    {
     "name": "stdout",
     "output_type": "stream",
     "text": [
      "Epoch 1750 - Train Loss: 0.0301, Train MSE: 0.0301, Train MAE: 0.1274\n",
      "Epoch 1750 - Validation Loss: 0.7025, Validation MSE: 0.7025, Validation MAE: 0.6042\n"
     ]
    },
    {
     "name": "stderr",
     "output_type": "stream",
     "text": [
      "Training Epoch 1752: 100%|██████████| 901/901 [00:07<00:00, 117.40it/s]\n",
      "Training Epoch 1753: 100%|██████████| 901/901 [00:07<00:00, 113.16it/s]\n",
      "Training Epoch 1754: 100%|██████████| 901/901 [00:07<00:00, 115.79it/s]\n",
      "Training Epoch 1755: 100%|██████████| 901/901 [00:07<00:00, 116.89it/s]\n",
      "Training Epoch 1756: 100%|██████████| 901/901 [00:07<00:00, 113.08it/s]\n",
      "Training Epoch 1757: 100%|██████████| 901/901 [00:07<00:00, 113.13it/s]\n",
      "Training Epoch 1758: 100%|██████████| 901/901 [00:07<00:00, 117.59it/s]\n",
      "Training Epoch 1759: 100%|██████████| 901/901 [00:07<00:00, 114.40it/s]\n",
      "Training Epoch 1760: 100%|██████████| 901/901 [00:07<00:00, 112.94it/s]\n",
      "Training Epoch 1761: 100%|██████████| 901/901 [00:07<00:00, 113.80it/s]\n"
     ]
    },
    {
     "name": "stdout",
     "output_type": "stream",
     "text": [
      "Epoch 1760 - Train Loss: 0.0297, Train MSE: 0.0297, Train MAE: 0.1263\n",
      "Epoch 1760 - Validation Loss: 0.7122, Validation MSE: 0.7122, Validation MAE: 0.6067\n"
     ]
    },
    {
     "name": "stderr",
     "output_type": "stream",
     "text": [
      "Training Epoch 1762: 100%|██████████| 901/901 [00:07<00:00, 117.45it/s]\n",
      "Training Epoch 1763: 100%|██████████| 901/901 [00:07<00:00, 114.06it/s]\n",
      "Training Epoch 1764: 100%|██████████| 901/901 [00:07<00:00, 113.31it/s]\n",
      "Training Epoch 1765: 100%|██████████| 901/901 [00:07<00:00, 116.14it/s]\n",
      "Training Epoch 1766: 100%|██████████| 901/901 [00:07<00:00, 114.86it/s]\n",
      "Training Epoch 1767: 100%|██████████| 901/901 [00:07<00:00, 113.14it/s]\n",
      "Training Epoch 1768: 100%|██████████| 901/901 [00:07<00:00, 115.29it/s]\n",
      "Training Epoch 1769: 100%|██████████| 901/901 [00:07<00:00, 118.04it/s]\n",
      "Training Epoch 1770: 100%|██████████| 901/901 [00:07<00:00, 115.17it/s]\n",
      "Training Epoch 1771: 100%|██████████| 901/901 [00:07<00:00, 114.64it/s]\n"
     ]
    },
    {
     "name": "stdout",
     "output_type": "stream",
     "text": [
      "Epoch 1770 - Train Loss: 0.0291, Train MSE: 0.0291, Train MAE: 0.1263\n",
      "Epoch 1770 - Validation Loss: 0.7052, Validation MSE: 0.7052, Validation MAE: 0.6055\n"
     ]
    },
    {
     "name": "stderr",
     "output_type": "stream",
     "text": [
      "Training Epoch 1772: 100%|██████████| 901/901 [00:07<00:00, 114.02it/s]\n",
      "Training Epoch 1773: 100%|██████████| 901/901 [00:07<00:00, 115.06it/s]\n",
      "Training Epoch 1774: 100%|██████████| 901/901 [00:07<00:00, 113.17it/s]\n",
      "Training Epoch 1775: 100%|██████████| 901/901 [00:07<00:00, 113.43it/s]\n",
      "Training Epoch 1776: 100%|██████████| 901/901 [00:07<00:00, 116.07it/s]\n",
      "Training Epoch 1777: 100%|██████████| 901/901 [00:07<00:00, 114.04it/s]\n",
      "Training Epoch 1778: 100%|██████████| 901/901 [00:07<00:00, 114.93it/s]\n",
      "Training Epoch 1779: 100%|██████████| 901/901 [00:07<00:00, 116.58it/s]\n",
      "Training Epoch 1780: 100%|██████████| 901/901 [00:07<00:00, 114.27it/s]\n",
      "Training Epoch 1781: 100%|██████████| 901/901 [00:07<00:00, 113.73it/s]\n"
     ]
    },
    {
     "name": "stdout",
     "output_type": "stream",
     "text": [
      "Epoch 1780 - Train Loss: 0.0295, Train MSE: 0.0295, Train MAE: 0.1271\n",
      "Epoch 1780 - Validation Loss: 0.7001, Validation MSE: 0.7001, Validation MAE: 0.6032\n"
     ]
    },
    {
     "name": "stderr",
     "output_type": "stream",
     "text": [
      "Training Epoch 1782: 100%|██████████| 901/901 [00:07<00:00, 113.21it/s]\n",
      "Training Epoch 1783: 100%|██████████| 901/901 [00:07<00:00, 118.21it/s]\n",
      "Training Epoch 1784: 100%|██████████| 901/901 [00:07<00:00, 113.74it/s]\n",
      "Training Epoch 1785: 100%|██████████| 901/901 [00:07<00:00, 115.49it/s]\n",
      "Training Epoch 1786: 100%|██████████| 901/901 [00:07<00:00, 116.08it/s]\n",
      "Training Epoch 1787: 100%|██████████| 901/901 [00:07<00:00, 114.93it/s]\n",
      "Training Epoch 1788: 100%|██████████| 901/901 [00:07<00:00, 115.50it/s]\n",
      "Training Epoch 1789: 100%|██████████| 901/901 [00:07<00:00, 115.02it/s]\n",
      "Training Epoch 1790: 100%|██████████| 901/901 [00:07<00:00, 117.63it/s]\n",
      "Training Epoch 1791: 100%|██████████| 901/901 [00:07<00:00, 116.07it/s]\n"
     ]
    },
    {
     "name": "stdout",
     "output_type": "stream",
     "text": [
      "Epoch 1790 - Train Loss: 0.0294, Train MSE: 0.0294, Train MAE: 0.1257\n",
      "Epoch 1790 - Validation Loss: 0.7032, Validation MSE: 0.7032, Validation MAE: 0.6044\n"
     ]
    },
    {
     "name": "stderr",
     "output_type": "stream",
     "text": [
      "Training Epoch 1792: 100%|██████████| 901/901 [00:07<00:00, 114.59it/s]\n",
      "Training Epoch 1793: 100%|██████████| 901/901 [00:07<00:00, 114.81it/s]\n",
      "Training Epoch 1794: 100%|██████████| 901/901 [00:07<00:00, 116.24it/s]\n",
      "Training Epoch 1795: 100%|██████████| 901/901 [00:07<00:00, 113.00it/s]\n",
      "Training Epoch 1796: 100%|██████████| 901/901 [00:07<00:00, 113.82it/s]\n",
      "Training Epoch 1797: 100%|██████████| 901/901 [00:07<00:00, 116.90it/s]\n",
      "Training Epoch 1798: 100%|██████████| 901/901 [00:07<00:00, 113.49it/s]\n",
      "Training Epoch 1799: 100%|██████████| 901/901 [00:07<00:00, 114.19it/s]\n",
      "Training Epoch 1800: 100%|██████████| 901/901 [00:07<00:00, 114.64it/s]\n",
      "Training Epoch 1801: 100%|██████████| 901/901 [00:07<00:00, 115.22it/s]\n"
     ]
    },
    {
     "name": "stdout",
     "output_type": "stream",
     "text": [
      "Epoch 1800 - Train Loss: 0.0301, Train MSE: 0.0301, Train MAE: 0.1265\n",
      "Epoch 1800 - Validation Loss: 0.7004, Validation MSE: 0.7004, Validation MAE: 0.6016\n"
     ]
    },
    {
     "name": "stderr",
     "output_type": "stream",
     "text": [
      "Training Epoch 1802: 100%|██████████| 901/901 [00:07<00:00, 113.74it/s]\n",
      "Training Epoch 1803: 100%|██████████| 901/901 [00:07<00:00, 113.89it/s]\n",
      "Training Epoch 1804: 100%|██████████| 901/901 [00:07<00:00, 118.82it/s]\n",
      "Training Epoch 1805: 100%|██████████| 901/901 [00:07<00:00, 112.98it/s]\n",
      "Training Epoch 1806: 100%|██████████| 901/901 [00:07<00:00, 113.65it/s]\n",
      "Training Epoch 1807: 100%|██████████| 901/901 [00:07<00:00, 114.97it/s]\n",
      "Training Epoch 1808: 100%|██████████| 901/901 [00:07<00:00, 116.98it/s]\n",
      "Training Epoch 1809: 100%|██████████| 901/901 [00:07<00:00, 114.20it/s]\n",
      "Training Epoch 1810: 100%|██████████| 901/901 [00:07<00:00, 116.04it/s]\n",
      "Training Epoch 1811: 100%|██████████| 901/901 [00:07<00:00, 117.05it/s]\n"
     ]
    },
    {
     "name": "stdout",
     "output_type": "stream",
     "text": [
      "Epoch 1810 - Train Loss: 0.0284, Train MSE: 0.0284, Train MAE: 0.1250\n",
      "Epoch 1810 - Validation Loss: 0.7094, Validation MSE: 0.7094, Validation MAE: 0.6067\n"
     ]
    },
    {
     "name": "stderr",
     "output_type": "stream",
     "text": [
      "Training Epoch 1812: 100%|██████████| 901/901 [00:07<00:00, 114.05it/s]\n",
      "Training Epoch 1813: 100%|██████████| 901/901 [00:07<00:00, 114.51it/s]\n",
      "Training Epoch 1814: 100%|██████████| 901/901 [00:07<00:00, 114.88it/s]\n",
      "Training Epoch 1815: 100%|██████████| 901/901 [00:07<00:00, 116.72it/s]\n",
      "Training Epoch 1816: 100%|██████████| 901/901 [00:07<00:00, 113.43it/s]\n",
      "Training Epoch 1817: 100%|██████████| 901/901 [00:07<00:00, 114.01it/s]\n",
      "Training Epoch 1818: 100%|██████████| 901/901 [00:07<00:00, 116.79it/s]\n",
      "Training Epoch 1819: 100%|██████████| 901/901 [00:07<00:00, 113.70it/s]\n",
      "Training Epoch 1820: 100%|██████████| 901/901 [00:07<00:00, 114.43it/s]\n",
      "Training Epoch 1821: 100%|██████████| 901/901 [00:07<00:00, 115.35it/s]\n"
     ]
    },
    {
     "name": "stdout",
     "output_type": "stream",
     "text": [
      "Epoch 1820 - Train Loss: 0.0292, Train MSE: 0.0292, Train MAE: 0.1259\n",
      "Epoch 1820 - Validation Loss: 0.6991, Validation MSE: 0.6991, Validation MAE: 0.6032\n"
     ]
    },
    {
     "name": "stderr",
     "output_type": "stream",
     "text": [
      "Training Epoch 1822: 100%|██████████| 901/901 [00:07<00:00, 117.76it/s]\n",
      "Training Epoch 1823: 100%|██████████| 901/901 [00:07<00:00, 114.80it/s]\n",
      "Training Epoch 1824: 100%|██████████| 901/901 [00:07<00:00, 113.04it/s]\n",
      "Training Epoch 1825: 100%|██████████| 901/901 [00:07<00:00, 118.83it/s]\n",
      "Training Epoch 1826: 100%|██████████| 901/901 [00:07<00:00, 113.96it/s]\n",
      "Training Epoch 1827: 100%|██████████| 901/901 [00:07<00:00, 113.23it/s]\n",
      "Training Epoch 1828: 100%|██████████| 901/901 [00:07<00:00, 113.00it/s]\n",
      "Training Epoch 1829: 100%|██████████| 901/901 [00:07<00:00, 117.22it/s]\n",
      "Training Epoch 1830: 100%|██████████| 901/901 [00:07<00:00, 112.77it/s]\n",
      "Training Epoch 1831: 100%|██████████| 901/901 [00:07<00:00, 114.00it/s]\n"
     ]
    },
    {
     "name": "stdout",
     "output_type": "stream",
     "text": [
      "Epoch 1830 - Train Loss: 0.0278, Train MSE: 0.0278, Train MAE: 0.1235\n",
      "Epoch 1830 - Validation Loss: 0.7095, Validation MSE: 0.7095, Validation MAE: 0.6073\n"
     ]
    },
    {
     "name": "stderr",
     "output_type": "stream",
     "text": [
      "Training Epoch 1832: 100%|██████████| 901/901 [00:07<00:00, 115.79it/s]\n",
      "Training Epoch 1833: 100%|██████████| 901/901 [00:07<00:00, 113.27it/s]\n",
      "Training Epoch 1834: 100%|██████████| 901/901 [00:08<00:00, 111.53it/s]\n",
      "Training Epoch 1835: 100%|██████████| 901/901 [00:07<00:00, 114.53it/s]\n",
      "Training Epoch 1836: 100%|██████████| 901/901 [00:07<00:00, 115.63it/s]\n",
      "Training Epoch 1837: 100%|██████████| 901/901 [00:08<00:00, 112.54it/s]\n",
      "Training Epoch 1838: 100%|██████████| 901/901 [00:07<00:00, 114.32it/s]\n",
      "Training Epoch 1839: 100%|██████████| 901/901 [00:07<00:00, 116.25it/s]\n",
      "Training Epoch 1840: 100%|██████████| 901/901 [00:07<00:00, 114.15it/s]\n",
      "Training Epoch 1841: 100%|██████████| 901/901 [00:07<00:00, 113.12it/s]\n"
     ]
    },
    {
     "name": "stdout",
     "output_type": "stream",
     "text": [
      "Epoch 1840 - Train Loss: 0.0287, Train MSE: 0.0287, Train MAE: 0.1240\n",
      "Epoch 1840 - Validation Loss: 0.7109, Validation MSE: 0.7109, Validation MAE: 0.6072\n"
     ]
    },
    {
     "name": "stderr",
     "output_type": "stream",
     "text": [
      "Training Epoch 1842: 100%|██████████| 901/901 [00:08<00:00, 111.30it/s]\n",
      "Training Epoch 1843: 100%|██████████| 901/901 [00:07<00:00, 115.80it/s]\n",
      "Training Epoch 1844: 100%|██████████| 901/901 [00:07<00:00, 114.34it/s]\n",
      "Training Epoch 1845: 100%|██████████| 901/901 [00:07<00:00, 112.79it/s]\n",
      "Training Epoch 1846: 100%|██████████| 901/901 [00:07<00:00, 115.92it/s]\n",
      "Training Epoch 1847: 100%|██████████| 901/901 [00:07<00:00, 117.40it/s]\n",
      "Training Epoch 1848: 100%|██████████| 901/901 [00:08<00:00, 112.03it/s]\n",
      "Training Epoch 1849: 100%|██████████| 901/901 [00:08<00:00, 112.31it/s]\n",
      "Training Epoch 1850: 100%|██████████| 901/901 [00:07<00:00, 116.68it/s]\n",
      "Training Epoch 1851: 100%|██████████| 901/901 [00:07<00:00, 113.44it/s]\n"
     ]
    },
    {
     "name": "stdout",
     "output_type": "stream",
     "text": [
      "Epoch 1850 - Train Loss: 0.0306, Train MSE: 0.0306, Train MAE: 0.1267\n",
      "Epoch 1850 - Validation Loss: 0.7052, Validation MSE: 0.7052, Validation MAE: 0.6059\n"
     ]
    },
    {
     "name": "stderr",
     "output_type": "stream",
     "text": [
      "Training Epoch 1852: 100%|██████████| 901/901 [00:08<00:00, 111.59it/s]\n",
      "Training Epoch 1853: 100%|██████████| 901/901 [00:07<00:00, 115.64it/s]\n",
      "Training Epoch 1854: 100%|██████████| 901/901 [00:07<00:00, 115.29it/s]\n",
      "Training Epoch 1855: 100%|██████████| 901/901 [00:08<00:00, 112.51it/s]\n",
      "Training Epoch 1856: 100%|██████████| 901/901 [00:07<00:00, 113.05it/s]\n",
      "Training Epoch 1857: 100%|██████████| 901/901 [00:07<00:00, 116.57it/s]\n",
      "Training Epoch 1858: 100%|██████████| 901/901 [00:07<00:00, 112.70it/s]\n",
      "Training Epoch 1859: 100%|██████████| 901/901 [00:07<00:00, 114.00it/s]\n",
      "Training Epoch 1860: 100%|██████████| 901/901 [00:07<00:00, 114.68it/s]\n",
      "Training Epoch 1861: 100%|██████████| 901/901 [00:07<00:00, 115.90it/s]\n"
     ]
    },
    {
     "name": "stdout",
     "output_type": "stream",
     "text": [
      "Epoch 1860 - Train Loss: 0.0297, Train MSE: 0.0297, Train MAE: 0.1261\n",
      "Epoch 1860 - Validation Loss: 0.7116, Validation MSE: 0.7116, Validation MAE: 0.6093\n"
     ]
    },
    {
     "name": "stderr",
     "output_type": "stream",
     "text": [
      "Training Epoch 1862: 100%|██████████| 901/901 [00:07<00:00, 112.87it/s]\n",
      "Training Epoch 1863: 100%|██████████| 901/901 [00:07<00:00, 112.73it/s]\n",
      "Training Epoch 1864: 100%|██████████| 901/901 [00:07<00:00, 116.32it/s]\n",
      "Training Epoch 1865: 100%|██████████| 901/901 [00:07<00:00, 112.90it/s]\n",
      "Training Epoch 1866: 100%|██████████| 901/901 [00:08<00:00, 112.28it/s]\n",
      "Training Epoch 1867: 100%|██████████| 901/901 [00:07<00:00, 113.47it/s]\n",
      "Training Epoch 1868: 100%|██████████| 901/901 [00:07<00:00, 116.80it/s]\n",
      "Training Epoch 1869: 100%|██████████| 901/901 [00:08<00:00, 112.38it/s]\n",
      "Training Epoch 1870: 100%|██████████| 901/901 [00:07<00:00, 115.22it/s]\n",
      "Training Epoch 1871: 100%|██████████| 901/901 [00:07<00:00, 115.15it/s]\n"
     ]
    },
    {
     "name": "stdout",
     "output_type": "stream",
     "text": [
      "Epoch 1870 - Train Loss: 0.0290, Train MSE: 0.0290, Train MAE: 0.1249\n",
      "Epoch 1870 - Validation Loss: 0.7189, Validation MSE: 0.7189, Validation MAE: 0.6102\n"
     ]
    },
    {
     "name": "stderr",
     "output_type": "stream",
     "text": [
      "Training Epoch 1872: 100%|██████████| 901/901 [00:07<00:00, 114.19it/s]\n",
      "Training Epoch 1873: 100%|██████████| 901/901 [00:07<00:00, 113.31it/s]\n",
      "Training Epoch 1874: 100%|██████████| 901/901 [00:07<00:00, 113.32it/s]\n",
      "Training Epoch 1875: 100%|██████████| 901/901 [00:07<00:00, 117.07it/s]\n",
      "Training Epoch 1876: 100%|██████████| 901/901 [00:08<00:00, 112.50it/s]\n",
      "Training Epoch 1877: 100%|██████████| 901/901 [00:07<00:00, 113.40it/s]\n",
      "Training Epoch 1878: 100%|██████████| 901/901 [00:07<00:00, 114.66it/s]\n",
      "Training Epoch 1879: 100%|██████████| 901/901 [00:07<00:00, 113.50it/s]\n",
      "Training Epoch 1880: 100%|██████████| 901/901 [00:07<00:00, 113.15it/s]\n",
      "Training Epoch 1881: 100%|██████████| 901/901 [00:07<00:00, 112.72it/s]\n"
     ]
    },
    {
     "name": "stdout",
     "output_type": "stream",
     "text": [
      "Epoch 1880 - Train Loss: 0.0296, Train MSE: 0.0297, Train MAE: 0.1250\n",
      "Epoch 1880 - Validation Loss: 0.7173, Validation MSE: 0.7173, Validation MAE: 0.6121\n"
     ]
    },
    {
     "name": "stderr",
     "output_type": "stream",
     "text": [
      "Training Epoch 1882: 100%|██████████| 901/901 [00:07<00:00, 120.00it/s]\n",
      "Training Epoch 1883: 100%|██████████| 901/901 [00:07<00:00, 113.16it/s]\n",
      "Training Epoch 1884: 100%|██████████| 901/901 [00:07<00:00, 115.53it/s]\n",
      "Training Epoch 1885: 100%|██████████| 901/901 [00:07<00:00, 114.81it/s]\n",
      "Training Epoch 1886: 100%|██████████| 901/901 [00:07<00:00, 114.05it/s]\n",
      "Training Epoch 1887: 100%|██████████| 901/901 [00:07<00:00, 115.47it/s]\n",
      "Training Epoch 1888: 100%|██████████| 901/901 [00:07<00:00, 113.27it/s]\n",
      "Training Epoch 1889: 100%|██████████| 901/901 [00:07<00:00, 115.90it/s]\n",
      "Training Epoch 1890: 100%|██████████| 901/901 [00:07<00:00, 115.19it/s]\n",
      "Training Epoch 1891: 100%|██████████| 901/901 [00:07<00:00, 113.26it/s]\n"
     ]
    },
    {
     "name": "stdout",
     "output_type": "stream",
     "text": [
      "Epoch 1890 - Train Loss: 0.0307, Train MSE: 0.0307, Train MAE: 0.1246\n",
      "Epoch 1890 - Validation Loss: 0.7061, Validation MSE: 0.7061, Validation MAE: 0.6046\n"
     ]
    },
    {
     "name": "stderr",
     "output_type": "stream",
     "text": [
      "Training Epoch 1892: 100%|██████████| 901/901 [00:08<00:00, 112.48it/s]\n",
      "Training Epoch 1893: 100%|██████████| 901/901 [00:07<00:00, 115.64it/s]\n",
      "Training Epoch 1894: 100%|██████████| 901/901 [00:07<00:00, 112.82it/s]\n",
      "Training Epoch 1895: 100%|██████████| 901/901 [00:08<00:00, 112.00it/s]\n",
      "Training Epoch 1896: 100%|██████████| 901/901 [00:07<00:00, 116.61it/s]\n",
      "Training Epoch 1897: 100%|██████████| 901/901 [00:07<00:00, 114.19it/s]\n",
      "Training Epoch 1898: 100%|██████████| 901/901 [00:07<00:00, 113.10it/s]\n",
      "Training Epoch 1899: 100%|██████████| 901/901 [00:07<00:00, 113.28it/s]\n",
      "Training Epoch 1900: 100%|██████████| 901/901 [00:07<00:00, 115.61it/s]\n",
      "Training Epoch 1901: 100%|██████████| 901/901 [00:07<00:00, 115.06it/s]\n"
     ]
    },
    {
     "name": "stdout",
     "output_type": "stream",
     "text": [
      "Epoch 1900 - Train Loss: 0.0284, Train MSE: 0.0284, Train MAE: 0.1232\n",
      "Epoch 1900 - Validation Loss: 0.7084, Validation MSE: 0.7084, Validation MAE: 0.6071\n"
     ]
    },
    {
     "name": "stderr",
     "output_type": "stream",
     "text": [
      "Training Epoch 1902: 100%|██████████| 901/901 [00:07<00:00, 112.82it/s]\n",
      "Training Epoch 1903: 100%|██████████| 901/901 [00:07<00:00, 116.40it/s]\n",
      "Training Epoch 1904: 100%|██████████| 901/901 [00:08<00:00, 112.12it/s]\n",
      "Training Epoch 1905: 100%|██████████| 901/901 [00:07<00:00, 113.06it/s]\n",
      "Training Epoch 1906: 100%|██████████| 901/901 [00:08<00:00, 112.39it/s]\n",
      "Training Epoch 1907: 100%|██████████| 901/901 [00:07<00:00, 116.61it/s]\n",
      "Training Epoch 1908: 100%|██████████| 901/901 [00:07<00:00, 113.56it/s]\n",
      "Training Epoch 1909: 100%|██████████| 901/901 [00:07<00:00, 113.03it/s]\n",
      "Training Epoch 1910: 100%|██████████| 901/901 [00:07<00:00, 116.76it/s]\n",
      "Training Epoch 1911: 100%|██████████| 901/901 [00:07<00:00, 113.42it/s]\n"
     ]
    },
    {
     "name": "stdout",
     "output_type": "stream",
     "text": [
      "Epoch 1910 - Train Loss: 0.0274, Train MSE: 0.0274, Train MAE: 0.1231\n",
      "Epoch 1910 - Validation Loss: 0.7061, Validation MSE: 0.7061, Validation MAE: 0.6050\n"
     ]
    },
    {
     "name": "stderr",
     "output_type": "stream",
     "text": [
      "Training Epoch 1912: 100%|██████████| 901/901 [00:07<00:00, 113.89it/s]\n",
      "Training Epoch 1913: 100%|██████████| 901/901 [00:07<00:00, 112.72it/s]\n",
      "Training Epoch 1914: 100%|██████████| 901/901 [00:07<00:00, 117.25it/s]\n",
      "Training Epoch 1915: 100%|██████████| 901/901 [00:07<00:00, 113.93it/s]\n",
      "Training Epoch 1916: 100%|██████████| 901/901 [00:07<00:00, 112.63it/s]\n",
      "Training Epoch 1917: 100%|██████████| 901/901 [00:07<00:00, 114.58it/s]\n",
      "Training Epoch 1918: 100%|██████████| 901/901 [00:07<00:00, 114.43it/s]\n",
      "Training Epoch 1919: 100%|██████████| 901/901 [00:07<00:00, 114.35it/s]\n",
      "Training Epoch 1920: 100%|██████████| 901/901 [00:07<00:00, 113.44it/s]\n",
      "Training Epoch 1921: 100%|██████████| 901/901 [00:07<00:00, 115.59it/s]\n"
     ]
    },
    {
     "name": "stdout",
     "output_type": "stream",
     "text": [
      "Epoch 1920 - Train Loss: 0.0283, Train MSE: 0.0283, Train MAE: 0.1235\n",
      "Epoch 1920 - Validation Loss: 0.7102, Validation MSE: 0.7102, Validation MAE: 0.6084\n"
     ]
    },
    {
     "name": "stderr",
     "output_type": "stream",
     "text": [
      "Training Epoch 1922: 100%|██████████| 901/901 [00:07<00:00, 115.15it/s]\n",
      "Training Epoch 1923: 100%|██████████| 901/901 [00:07<00:00, 112.68it/s]\n",
      "Training Epoch 1924: 100%|██████████| 901/901 [00:07<00:00, 115.60it/s]\n",
      "Training Epoch 1925: 100%|██████████| 901/901 [00:07<00:00, 114.74it/s]\n",
      "Training Epoch 1926: 100%|██████████| 901/901 [00:07<00:00, 113.34it/s]\n",
      "Training Epoch 1927: 100%|██████████| 901/901 [00:07<00:00, 113.86it/s]\n",
      "Training Epoch 1928: 100%|██████████| 901/901 [00:07<00:00, 117.15it/s]\n",
      "Training Epoch 1929: 100%|██████████| 901/901 [00:07<00:00, 112.87it/s]\n",
      "Training Epoch 1930: 100%|██████████| 901/901 [00:07<00:00, 112.68it/s]\n",
      "Training Epoch 1931: 100%|██████████| 901/901 [00:07<00:00, 112.93it/s]\n"
     ]
    },
    {
     "name": "stdout",
     "output_type": "stream",
     "text": [
      "Epoch 1930 - Train Loss: 0.0282, Train MSE: 0.0282, Train MAE: 0.1227\n",
      "Epoch 1930 - Validation Loss: 0.7244, Validation MSE: 0.7244, Validation MAE: 0.6138\n"
     ]
    },
    {
     "name": "stderr",
     "output_type": "stream",
     "text": [
      "Training Epoch 1932: 100%|██████████| 901/901 [00:07<00:00, 114.60it/s]\n",
      "Training Epoch 1933: 100%|██████████| 901/901 [00:07<00:00, 113.55it/s]\n",
      "Training Epoch 1934: 100%|██████████| 901/901 [00:07<00:00, 113.79it/s]\n",
      "Training Epoch 1935: 100%|██████████| 901/901 [00:07<00:00, 117.30it/s]\n",
      "Training Epoch 1936: 100%|██████████| 901/901 [00:07<00:00, 112.64it/s]\n",
      "Training Epoch 1937: 100%|██████████| 901/901 [00:07<00:00, 114.75it/s]\n",
      "Training Epoch 1938: 100%|██████████| 901/901 [00:07<00:00, 112.79it/s]\n",
      "Training Epoch 1939: 100%|██████████| 901/901 [00:07<00:00, 115.67it/s]\n",
      "Training Epoch 1940: 100%|██████████| 901/901 [00:07<00:00, 112.99it/s]\n",
      "Training Epoch 1941: 100%|██████████| 901/901 [00:07<00:00, 112.76it/s]\n"
     ]
    },
    {
     "name": "stdout",
     "output_type": "stream",
     "text": [
      "Epoch 1940 - Train Loss: 0.0278, Train MSE: 0.0278, Train MAE: 0.1232\n",
      "Epoch 1940 - Validation Loss: 0.7077, Validation MSE: 0.7077, Validation MAE: 0.6055\n"
     ]
    },
    {
     "name": "stderr",
     "output_type": "stream",
     "text": [
      "Training Epoch 1942: 100%|██████████| 901/901 [00:07<00:00, 115.85it/s]\n",
      "Training Epoch 1943: 100%|██████████| 901/901 [00:07<00:00, 113.13it/s]\n",
      "Training Epoch 1944: 100%|██████████| 901/901 [00:07<00:00, 113.73it/s]\n",
      "Training Epoch 1945: 100%|██████████| 901/901 [00:07<00:00, 113.04it/s]\n",
      "Training Epoch 1946: 100%|██████████| 901/901 [00:07<00:00, 115.66it/s]\n",
      "Training Epoch 1947: 100%|██████████| 901/901 [00:07<00:00, 112.87it/s]\n",
      "Training Epoch 1948: 100%|██████████| 901/901 [00:08<00:00, 111.81it/s]\n",
      "Training Epoch 1949: 100%|██████████| 901/901 [00:07<00:00, 117.22it/s]\n",
      "Training Epoch 1950: 100%|██████████| 901/901 [00:07<00:00, 114.70it/s]\n",
      "Training Epoch 1951: 100%|██████████| 901/901 [00:07<00:00, 113.96it/s]\n"
     ]
    },
    {
     "name": "stdout",
     "output_type": "stream",
     "text": [
      "Epoch 1950 - Train Loss: 0.0278, Train MSE: 0.0278, Train MAE: 0.1230\n",
      "Epoch 1950 - Validation Loss: 0.7058, Validation MSE: 0.7058, Validation MAE: 0.6059\n"
     ]
    },
    {
     "name": "stderr",
     "output_type": "stream",
     "text": [
      "Training Epoch 1952: 100%|██████████| 901/901 [00:07<00:00, 113.50it/s]\n",
      "Training Epoch 1953: 100%|██████████| 901/901 [00:07<00:00, 116.19it/s]\n",
      "Training Epoch 1954: 100%|██████████| 901/901 [00:07<00:00, 113.42it/s]\n",
      "Training Epoch 1955: 100%|██████████| 901/901 [00:07<00:00, 113.52it/s]\n",
      "Training Epoch 1956: 100%|██████████| 901/901 [00:07<00:00, 118.14it/s]\n",
      "Training Epoch 1957: 100%|██████████| 901/901 [00:08<00:00, 112.49it/s]\n",
      "Training Epoch 1958: 100%|██████████| 901/901 [00:08<00:00, 112.30it/s]\n",
      "Training Epoch 1959: 100%|██████████| 901/901 [00:08<00:00, 112.48it/s]\n",
      "Training Epoch 1960: 100%|██████████| 901/901 [00:07<00:00, 116.26it/s]\n",
      "Training Epoch 1961: 100%|██████████| 901/901 [00:08<00:00, 112.18it/s]\n"
     ]
    },
    {
     "name": "stdout",
     "output_type": "stream",
     "text": [
      "Epoch 1960 - Train Loss: 0.0273, Train MSE: 0.0273, Train MAE: 0.1220\n",
      "Epoch 1960 - Validation Loss: 0.7128, Validation MSE: 0.7128, Validation MAE: 0.6081\n"
     ]
    },
    {
     "name": "stderr",
     "output_type": "stream",
     "text": [
      "Training Epoch 1962: 100%|██████████| 901/901 [00:07<00:00, 112.65it/s]\n",
      "Training Epoch 1963: 100%|██████████| 901/901 [00:07<00:00, 115.56it/s]\n",
      "Training Epoch 1964: 100%|██████████| 901/901 [00:07<00:00, 114.67it/s]\n",
      "Training Epoch 1965: 100%|██████████| 901/901 [00:07<00:00, 113.34it/s]\n",
      "Training Epoch 1966: 100%|██████████| 901/901 [00:07<00:00, 113.17it/s]\n",
      "Training Epoch 1967: 100%|██████████| 901/901 [00:07<00:00, 118.80it/s]\n",
      "Training Epoch 1968: 100%|██████████| 901/901 [00:07<00:00, 113.88it/s]\n",
      "Training Epoch 1969: 100%|██████████| 901/901 [00:07<00:00, 114.55it/s]\n",
      "Training Epoch 1970: 100%|██████████| 901/901 [00:07<00:00, 115.75it/s]\n",
      "Training Epoch 1971: 100%|██████████| 901/901 [00:07<00:00, 116.45it/s]\n"
     ]
    },
    {
     "name": "stdout",
     "output_type": "stream",
     "text": [
      "Epoch 1970 - Train Loss: 0.0272, Train MSE: 0.0272, Train MAE: 0.1217\n",
      "Epoch 1970 - Validation Loss: 0.7096, Validation MSE: 0.7096, Validation MAE: 0.6064\n"
     ]
    },
    {
     "name": "stderr",
     "output_type": "stream",
     "text": [
      "Training Epoch 1972: 100%|██████████| 901/901 [00:08<00:00, 111.99it/s]\n",
      "Training Epoch 1973: 100%|██████████| 901/901 [00:07<00:00, 113.16it/s]\n",
      "Training Epoch 1974: 100%|██████████| 901/901 [00:07<00:00, 115.94it/s]\n",
      "Training Epoch 1975: 100%|██████████| 901/901 [00:08<00:00, 109.15it/s]\n",
      "Training Epoch 1976: 100%|██████████| 901/901 [00:08<00:00, 112.57it/s]\n",
      "Training Epoch 1977: 100%|██████████| 901/901 [00:07<00:00, 112.92it/s]\n",
      "Training Epoch 1978: 100%|██████████| 901/901 [00:07<00:00, 115.11it/s]\n",
      "Training Epoch 1979: 100%|██████████| 901/901 [00:08<00:00, 112.60it/s]\n",
      "Training Epoch 1980: 100%|██████████| 901/901 [00:07<00:00, 114.22it/s]\n",
      "Training Epoch 1981: 100%|██████████| 901/901 [00:07<00:00, 117.30it/s]\n"
     ]
    },
    {
     "name": "stdout",
     "output_type": "stream",
     "text": [
      "Epoch 1980 - Train Loss: 0.0267, Train MSE: 0.0267, Train MAE: 0.1207\n",
      "Epoch 1980 - Validation Loss: 0.7097, Validation MSE: 0.7097, Validation MAE: 0.6067\n"
     ]
    },
    {
     "name": "stderr",
     "output_type": "stream",
     "text": [
      "Training Epoch 1982: 100%|██████████| 901/901 [00:08<00:00, 111.69it/s]\n",
      "Training Epoch 1983: 100%|██████████| 901/901 [00:07<00:00, 113.34it/s]\n",
      "Training Epoch 1984: 100%|██████████| 901/901 [00:07<00:00, 114.54it/s]\n",
      "Training Epoch 1985: 100%|██████████| 901/901 [00:07<00:00, 117.16it/s]\n",
      "Training Epoch 1986: 100%|██████████| 901/901 [00:08<00:00, 111.73it/s]\n",
      "Training Epoch 1987: 100%|██████████| 901/901 [00:08<00:00, 112.25it/s]\n",
      "Training Epoch 1988: 100%|██████████| 901/901 [00:07<00:00, 116.18it/s]\n",
      "Training Epoch 1989: 100%|██████████| 901/901 [00:07<00:00, 114.13it/s]\n",
      "Training Epoch 1990: 100%|██████████| 901/901 [00:07<00:00, 114.30it/s]\n",
      "Training Epoch 1991: 100%|██████████| 901/901 [00:08<00:00, 112.53it/s]\n"
     ]
    },
    {
     "name": "stdout",
     "output_type": "stream",
     "text": [
      "Epoch 1990 - Train Loss: 0.0266, Train MSE: 0.0266, Train MAE: 0.1206\n",
      "Epoch 1990 - Validation Loss: 0.7087, Validation MSE: 0.7087, Validation MAE: 0.6049\n"
     ]
    },
    {
     "name": "stderr",
     "output_type": "stream",
     "text": [
      "Training Epoch 1992: 100%|██████████| 901/901 [00:07<00:00, 117.29it/s]\n",
      "Training Epoch 1993: 100%|██████████| 901/901 [00:07<00:00, 114.37it/s]\n",
      "Training Epoch 1994: 100%|██████████| 901/901 [00:07<00:00, 112.99it/s]\n",
      "Training Epoch 1995: 100%|██████████| 901/901 [00:07<00:00, 115.19it/s]\n",
      "Training Epoch 1996: 100%|██████████| 901/901 [00:07<00:00, 113.19it/s]\n",
      "Training Epoch 1997: 100%|██████████| 901/901 [00:07<00:00, 113.01it/s]\n",
      "Training Epoch 1998: 100%|██████████| 901/901 [00:08<00:00, 112.44it/s]\n",
      "Training Epoch 1999: 100%|██████████| 901/901 [00:07<00:00, 116.98it/s]\n",
      "Training Epoch 2000: 100%|██████████| 901/901 [00:07<00:00, 113.00it/s]\n"
     ]
    },
    {
     "name": "stdout",
     "output_type": "stream",
     "text": [
      "Test MSE: 0.7227, Test MAE: 0.6142\n"
     ]
    }
   ],
   "source": [
    "import torch\n",
    "import torch.nn as nn\n",
    "import torch.optim as optim\n",
    "from tqdm import tqdm\n",
    "import pandas as pd\n",
    "from sklearn.metrics import r2_score, median_absolute_error, explained_variance_score\n",
    "from scipy.stats import pearsonr\n",
    "\n",
    "\n",
    "train_history = pd.DataFrame(columns=[  'epoch',\n",
    "    'Train Loss', 'Train MSE', 'Train MAE', 'Train RMSE', 'Train R2', 'Train Pearson', 'Train Median_AE', 'Train Explained_VAR'\n",
    "    'Val Loss', 'Val MSE', 'Val MAE', 'Val RMSE', 'Val R2', 'Val Pearson', 'Val Median_AE', 'Val Explained_VAR'])\n",
    "# Verify feature dimensions\n",
    "for batch in train_loader:\n",
    "    mol_input_dim = batch['metabolite_features'].shape[1]  # Dynamically determine mol input dimension\n",
    "    protein_input_dim = batch['protein_features'].shape[1]  # Dynamically determine protein input dimension\n",
    "    break\n",
    "\n",
    "# Initialize model, optimizer, and loss function\n",
    "num_timesteps = 10\n",
    "model = TransformerRegressor(mol_input_dim=mol_input_dim, protein_input_dim=protein_input_dim)\n",
    "model = model.to(device)\n",
    "optimizer = optim.Adam(model.parameters(), lr=0.0001)\n",
    "criterion = nn.MSELoss()\n",
    "\n",
    "# Training and Validation Loop\n",
    "for epoch in range(2000):\n",
    "    model.train()\n",
    "    total_loss = 0.0\n",
    "    val_total_loss = 0.0\n",
    "    train_predictions, train_labels = [], []\n",
    "\n",
    "    for batch in tqdm(train_loader, desc=f\"Training Epoch {epoch + 1}\"):\n",
    "        mol_features = batch['metabolite_features'].to(device)\n",
    "        protein_features = batch['protein_features'].to(device)\n",
    "        labels = batch['label'].to(device)\n",
    "\n",
    "        optimizer.zero_grad()\n",
    "        outputs = model(mol_features, protein_features)\n",
    "        loss = criterion(outputs, labels)\n",
    "        loss.backward()\n",
    "        optimizer.step()\n",
    "        total_loss += loss.item()\n",
    "\n",
    "        # Store predictions and labels for metrics\n",
    "        train_predictions.extend(outputs.detach().cpu().numpy())\n",
    "        train_labels.extend(labels.cpu().numpy())\n",
    "\n",
    "    # Calculate training metrics\n",
    "    train_mse = ((torch.tensor(train_predictions) - torch.tensor(train_labels))**2).mean().item()\n",
    "    train_mae = torch.abs(torch.tensor(train_predictions) - torch.tensor(train_labels)).mean().item()\n",
    "    train_rmse = torch.sqrt((torch.tensor(train_predictions) - torch.tensor(train_labels)) ** 2).mean().item()\n",
    "    train_r2 = r2_score(np.array(train_labels), np.array(train_predictions))\n",
    "    train_pearson_corr, _ = pearsonr(np.array(train_labels), np.array(train_predictions))\n",
    "    train_median_ae = median_absolute_error(np.array(train_labels), np.array(train_predictions))\n",
    "    train_explained_var = explained_variance_score(np.array(train_labels), np.array(train_predictions))\n",
    "\n",
    "\n",
    "\n",
    "    if epoch % 10 == 0:\n",
    "        print(f\"Epoch {epoch} - Train Loss: {total_loss / len(train_loader):.4f}, Train MSE: {train_mse:.4f}, Train MAE: {train_mae:.4f}\")\n",
    "\n",
    "    # Validation\n",
    "    model.eval()\n",
    "    val_predictions, val_labels = [], []\n",
    "    with torch.no_grad():\n",
    "        for batch in val_loader:\n",
    "            mol_features = batch['metabolite_features'].to(device)\n",
    "            protein_features = batch['protein_features'].to(device)\n",
    "            labels = batch['label'].to(device)\n",
    "\n",
    "            outputs = model(mol_features, protein_features)\n",
    "            val_predictions.extend(outputs.cpu().numpy())\n",
    "            val_labels.extend(labels.cpu().numpy())\n",
    "            val_loss = criterion(outputs, labels)\n",
    "            val_total_loss += val_loss.item()\n",
    "\n",
    "    val_mse = ((torch.tensor(val_predictions) - torch.tensor(val_labels))**2).mean().item()\n",
    "    val_mae = torch.abs(torch.tensor(val_predictions) - torch.tensor(val_labels)).mean().item()\n",
    "    val_rmse = torch.sqrt((torch.tensor(val_predictions) - torch.tensor(val_labels)) ** 2).mean().item()\n",
    "    val_r2 = r2_score(np.array(val_labels), np.array(val_predictions))\n",
    "    val_pearson_corr, _ = pearsonr(np.array(val_labels), np.array(val_predictions))\n",
    "    val_median_ae = median_absolute_error(np.array(val_labels), np.array(val_predictions))\n",
    "    val_explained_var = explained_variance_score(np.array(val_labels), np.array(val_predictions))\n",
    "\n",
    "    if epoch % 10 == 0:\n",
    "        print(f\"Epoch {epoch} - Validation Loss: {val_total_loss / len(val_loader):.4f}, Validation MSE: {val_mse:.4f}, Validation MAE: {val_mae:.4f}\")\n",
    "\n",
    "    # Save metrics to DataFrame\n",
    "    new_row = {'epoch': epoch + 1, 'Train Loss': total_loss / len(train_loader), 'Train MSE': train_mse, 'Train MAE': train_mae, 'Train RMSE': train_rmse, 'Train R2': train_r2, 'Train Pearson': train_pearson_corr, 'Train Median_AE': train_median_ae, 'Train Explained_VAR': train_explained_var, \n",
    "               'Val Loss': val_total_loss / len(val_loader), 'Val MSE': val_mse, 'Val MAE': val_mae, 'Val RMSE': val_rmse, 'Val R2': val_r2, 'Val Pearson': val_pearson_corr, 'Val Median_AE': val_median_ae, 'Val Explained_VAR': val_explained_var}\n",
    "    train_history = pd.concat([train_history, pd.DataFrame([new_row])], ignore_index=True)\n",
    "\n",
    "\n"
   ]
  },
  {
   "cell_type": "code",
   "execution_count": 8,
   "metadata": {},
   "outputs": [],
   "source": [
    "for batch in train_loader:\n",
    "    mol_input_dim = batch['metabolite_features'].shape[1]  # Dynamically determine mol input dimension\n",
    "    protein_input_dim = batch['protein_features'].shape[1]  # Dynamically determine protein input dimension\n",
    "    break\n",
    "# First, reinitialize the model with the same architecture\n",
    "model = TransformerRegressor(mol_input_dim=mol_input_dim, protein_input_dim=protein_input_dim)\n",
    "\n",
    "# Load the saved model weights\n",
    "model.load_state_dict(torch.load('/Users/pinchichen/2025S lab/AI drug project/Catpred/Km/trained_model/random_split/Transformer model_Catpred_Km.pt'))\n",
    "\n",
    "# Move to device if using GPU\n",
    "model = model.to(device)\n"
   ]
  },
  {
   "cell_type": "code",
   "execution_count": 10,
   "metadata": {},
   "outputs": [
    {
     "name": "stdout",
     "output_type": "stream",
     "text": [
      "Test MSE: 0.7227, Test RMSE: 0.850143650, Test MAE: 0.6142, Test R2: 0.5613, Test Pearson Correlation: 0.7639, Test Median AE: 0.4417, Test Explained Variance: 0.5614\n"
     ]
    }
   ],
   "source": [
    "from sklearn.metrics import mean_squared_error, mean_absolute_error, r2_score, median_absolute_error, explained_variance_score\n",
    "from scipy.stats import pearsonr\n",
    "# Test Metrics\n",
    "model.eval()\n",
    "test_predictions, test_labels = [], []\n",
    "with torch.no_grad():\n",
    "    for batch in test_loader:\n",
    "        mol_features = batch['metabolite_features'].to(device)\n",
    "        protein_features = batch['protein_features'].to(device)\n",
    "        labels = batch['label'].to(device)\n",
    "\n",
    "        outputs = model(mol_features, protein_features)\n",
    "        test_predictions.extend(outputs.cpu().numpy())\n",
    "        test_labels.extend(labels.cpu().numpy())\n",
    "\n",
    "test_mse = ((torch.tensor(test_predictions) - torch.tensor(test_labels))**2).mean().item()\n",
    "test_mae = torch.abs(torch.tensor(test_predictions) - torch.tensor(test_labels)).mean().item()\n",
    "test_rmse = np.sqrt(test_mse)\n",
    "test_r2 = r2_score(np.array(test_labels), np.array(test_predictions))\n",
    "test_pearson_corr, _ = pearsonr(np.array(test_labels), np.array(test_predictions))\n",
    "test_median_ae = median_absolute_error(np.array(test_labels), np.array(test_predictions))\n",
    "test_explained_var = explained_variance_score(np.array(test_labels), np.array(test_predictions))\n",
    "\n",
    "print(f\"Test MSE: {test_mse:.4f}, Test RMSE: {test_rmse:.9f}, Test MAE: {test_mae:.4f}, Test R2: {test_r2:.4f}, Test Pearson Correlation: {test_pearson_corr:.4f}, Test Median AE: {test_median_ae:.4f}, Test Explained Variance: {test_explained_var:.4f}\")"
   ]
  },
  {
   "cell_type": "code",
   "execution_count": 10,
   "metadata": {},
   "outputs": [],
   "source": [
    "\n",
    "def evaluate_model(predictions, labels):\n",
    "    mse = mean_squared_error(labels, predictions)\n",
    "    rmse = np.sqrt(mse)\n",
    "    mae = mean_absolute_error(labels, predictions)\n",
    "    r2 = r2_score(labels, predictions)\n",
    "    pearson_corr, _ = pearsonr(labels, predictions)\n",
    "    medae = median_absolute_error(labels, predictions)\n",
    "    evs = explained_variance_score(labels, predictions)\n",
    "\n",
    "    return mse, rmse, mae, r2, pearson_corr, medae, evs"
   ]
  },
  {
   "cell_type": "code",
   "execution_count": 11,
   "metadata": {},
   "outputs": [],
   "source": [
    "model.eval()\n",
    "train_pred, train_labels = [], []\n",
    "with torch.no_grad():\n",
    "    for batch in train_loader:\n",
    "        mol_features = batch['metabolite_features'].to(device)\n",
    "        protein_features = batch['protein_features'].to(device)\n",
    "        labels = batch['label'].to(device)\n",
    "\n",
    "        outputs = model(mol_features, protein_features)\n",
    "        train_pred.extend(outputs.cpu().numpy())\n",
    "        train_labels.extend(labels.cpu().numpy())\n",
    "\n",
    "train_mse, train_rmse, train_mae, train_r2, train_pearson_corr, train_median_ae, train_explained_var = evaluate_model(train_pred, train_labels)"
   ]
  },
  {
   "cell_type": "code",
   "execution_count": 12,
   "metadata": {},
   "outputs": [],
   "source": [
    "model.eval()\n",
    "val_pred, val_labels = [], []\n",
    "with torch.no_grad():\n",
    "    for batch in val_loader:\n",
    "        mol_features = batch['metabolite_features'].to(device)\n",
    "        protein_features = batch['protein_features'].to(device)\n",
    "        labels = batch['label'].to(device)\n",
    "\n",
    "        outputs = model(mol_features, protein_features)\n",
    "        val_pred.extend(outputs.cpu().numpy())\n",
    "        val_labels.extend(labels.cpu().numpy())\n",
    "\n",
    "val_mse, val_rmse, val_mae, val_r2, val_pearson_corr, val_median_ae, val_explained_var = evaluate_model(val_pred, val_labels)\n"
   ]
  },
  {
   "cell_type": "code",
   "execution_count": 13,
   "metadata": {},
   "outputs": [],
   "source": [
    "# append the performance to the csv file\n",
    "df = {\n",
    "    'Model':['Transformer','Transformer','Transformer'],\n",
    "    'Dataset':['Train','Validation','Test'],\n",
    "    'MSE':[train_mse,val_mse,test_mse],\n",
    "    'RMSE':[train_rmse,val_rmse,test_rmse],\n",
    "    'MAE':[train_mae,val_mae,test_mae],\n",
    "    'R2':[train_r2,val_r2,test_r2],\n",
    "    'Pearson':[train_pearson_corr,val_pearson_corr,test_pearson_corr],\n",
    "    'Median_AE':[train_median_ae,val_median_ae,test_median_ae],\n",
    "    'Explained_VAR':[train_explained_var,val_explained_var,test_explained_var],\n",
    "    'Dataspliting Mode':['random','random','random']\n",
    "}\n",
    "df = pd.DataFrame(df)\n",
    "\n",
    "df.to_csv('/Users/pinchichen/2025S lab/AI drug project/Catpred/Km/model performance metrics_Catpred_Km.csv', mode='a', header=False)"
   ]
  },
  {
   "cell_type": "code",
   "execution_count": 10,
   "metadata": {},
   "outputs": [],
   "source": [
    "# Save the model and training history\n",
    "save_dir = '/Users/pinchichen/2025S lab/AI drug project/Catpred/Km/trained_model/random_split'\n",
    "# save model weights and optimizer state\n",
    "torch.save(model.state_dict(), os.path.join(save_dir, 'Transformer model_Catpred_Km.pt'))\n",
    "torch.save(optimizer.state_dict(), os.path.join(save_dir, 'Transformer optimizer_Catpred_Km.pt'))"
   ]
  },
  {
   "cell_type": "code",
   "execution_count": 11,
   "metadata": {},
   "outputs": [
    {
     "data": {
      "image/png": "[encoded data removed]",
      "text/plain": [
       "<Figure size 1000x600 with 1 Axes>"
      ]
     },
     "metadata": {},
     "output_type": "display_data"
    }
   ],
   "source": [
    "import matplotlib.pyplot as plt\n",
    "import seaborn as sns\n",
    "sns.set(style='ticks')\n",
    "# Load metrics\n",
    "\n",
    "metrics = train_history\n",
    "\n",
    "# Plot the training loss over epochs using seaborn\n",
    "plt.figure(figsize=(10, 6))\n",
    "# sns.lineplot(data=metrics, x='epoch', y='Train Loss', label='Train Loss')\n",
    "# sns.lineplot(data=metrics, x='epoch', y='Val Loss', label='Val Loss')\n",
    "sns.lineplot(data=metrics, x='epoch', y='Val MSE', label='Valid_RMSE')\n",
    "sns.lineplot(data=metrics, x='epoch', y='Train MSE', label='Train_RMSE')\n",
    "# sns.lineplot(data=metrics, x='Epoch', y='Valid_MAE', label='Valid_MAE')\n",
    "# Add titles and labels\n",
    "plt.title('Training and Validation Metrics Over Epochs', fontsize=14)\n",
    "# Define the range of tick positions\n",
    "plt.xlabel('Epoch', fontsize=12)\n",
    "plt.ylabel('Loss', fontsize=12)\n",
    "plt.grid(False)\n",
    "# Show the plot\n",
    "plt.show()\n"
   ]
  },
  {
   "cell_type": "code",
   "execution_count": 12,
   "metadata": {},
   "outputs": [
    {
     "data": {
      "text/html": [
       "<div>\n",
       "<style scoped>\n",
       "    .dataframe tbody tr th:only-of-type {\n",
       "        vertical-align: middle;\n",
       "    }\n",
       "\n",
       "    .dataframe tbody tr th {\n",
       "        vertical-align: top;\n",
       "    }\n",
       "\n",
       "    .dataframe thead th {\n",
       "        text-align: right;\n",
       "    }\n",
       "</style>\n",
       "<table border=\"1\" class=\"dataframe\">\n",
       "  <thead>\n",
       "    <tr style=\"text-align: right;\">\n",
       "      <th></th>\n",
       "      <th>epoch</th>\n",
       "      <th>Train Loss</th>\n",
       "      <th>Train MSE</th>\n",
       "      <th>Train MAE</th>\n",
       "      <th>Train RMSE</th>\n",
       "      <th>Train R2</th>\n",
       "      <th>Train Pearson</th>\n",
       "      <th>Train Median_AE</th>\n",
       "      <th>Train Explained_VARVal Loss</th>\n",
       "      <th>Val MSE</th>\n",
       "      <th>Val MAE</th>\n",
       "      <th>Val RMSE</th>\n",
       "      <th>Val R2</th>\n",
       "      <th>Val Pearson</th>\n",
       "      <th>Val Median_AE</th>\n",
       "      <th>Val Explained_VAR</th>\n",
       "      <th>Train Explained_VAR</th>\n",
       "      <th>Val Loss</th>\n",
       "    </tr>\n",
       "  </thead>\n",
       "  <tbody>\n",
       "    <tr>\n",
       "      <th>1995</th>\n",
       "      <td>1996</td>\n",
       "      <td>0.028322</td>\n",
       "      <td>0.028319</td>\n",
       "      <td>0.123547</td>\n",
       "      <td>0.123547</td>\n",
       "      <td>0.982573</td>\n",
       "      <td>0.991248</td>\n",
       "      <td>0.095134</td>\n",
       "      <td>NaN</td>\n",
       "      <td>0.717839</td>\n",
       "      <td>0.609849</td>\n",
       "      <td>0.609849</td>\n",
       "      <td>0.542849</td>\n",
       "      <td>0.759872</td>\n",
       "      <td>0.434790</td>\n",
       "      <td>0.542850</td>\n",
       "      <td>0.982573</td>\n",
       "      <td>0.717839</td>\n",
       "    </tr>\n",
       "    <tr>\n",
       "      <th>1996</th>\n",
       "      <td>1997</td>\n",
       "      <td>0.026841</td>\n",
       "      <td>0.026844</td>\n",
       "      <td>0.120555</td>\n",
       "      <td>0.120555</td>\n",
       "      <td>0.983480</td>\n",
       "      <td>0.991706</td>\n",
       "      <td>0.093768</td>\n",
       "      <td>NaN</td>\n",
       "      <td>0.710062</td>\n",
       "      <td>0.605412</td>\n",
       "      <td>0.605412</td>\n",
       "      <td>0.547802</td>\n",
       "      <td>0.758100</td>\n",
       "      <td>0.431485</td>\n",
       "      <td>0.547985</td>\n",
       "      <td>0.983480</td>\n",
       "      <td>0.710062</td>\n",
       "    </tr>\n",
       "    <tr>\n",
       "      <th>1997</th>\n",
       "      <td>1998</td>\n",
       "      <td>0.028342</td>\n",
       "      <td>0.028343</td>\n",
       "      <td>0.123394</td>\n",
       "      <td>0.123394</td>\n",
       "      <td>0.982558</td>\n",
       "      <td>0.991241</td>\n",
       "      <td>0.096049</td>\n",
       "      <td>NaN</td>\n",
       "      <td>0.714564</td>\n",
       "      <td>0.608212</td>\n",
       "      <td>0.608212</td>\n",
       "      <td>0.544935</td>\n",
       "      <td>0.760219</td>\n",
       "      <td>0.434423</td>\n",
       "      <td>0.545093</td>\n",
       "      <td>0.982558</td>\n",
       "      <td>0.714564</td>\n",
       "    </tr>\n",
       "    <tr>\n",
       "      <th>1998</th>\n",
       "      <td>1999</td>\n",
       "      <td>0.027455</td>\n",
       "      <td>0.027449</td>\n",
       "      <td>0.121848</td>\n",
       "      <td>0.121848</td>\n",
       "      <td>0.983108</td>\n",
       "      <td>0.991518</td>\n",
       "      <td>0.094574</td>\n",
       "      <td>NaN</td>\n",
       "      <td>0.712448</td>\n",
       "      <td>0.607845</td>\n",
       "      <td>0.607845</td>\n",
       "      <td>0.546282</td>\n",
       "      <td>0.758994</td>\n",
       "      <td>0.433431</td>\n",
       "      <td>0.546771</td>\n",
       "      <td>0.983108</td>\n",
       "      <td>0.712448</td>\n",
       "    </tr>\n",
       "    <tr>\n",
       "      <th>1999</th>\n",
       "      <td>2000</td>\n",
       "      <td>0.027563</td>\n",
       "      <td>0.027563</td>\n",
       "      <td>0.122067</td>\n",
       "      <td>0.122067</td>\n",
       "      <td>0.983038</td>\n",
       "      <td>0.991483</td>\n",
       "      <td>0.095002</td>\n",
       "      <td>NaN</td>\n",
       "      <td>0.701079</td>\n",
       "      <td>0.600558</td>\n",
       "      <td>0.600558</td>\n",
       "      <td>0.553522</td>\n",
       "      <td>0.759151</td>\n",
       "      <td>0.430116</td>\n",
       "      <td>0.553597</td>\n",
       "      <td>0.983038</td>\n",
       "      <td>0.701079</td>\n",
       "    </tr>\n",
       "  </tbody>\n",
       "</table>\n",
       "</div>"
      ],
      "text/plain": [
       "     epoch  Train Loss  Train MSE  Train MAE  Train RMSE  Train R2  \\\n",
       "1995  1996    0.028322   0.028319   0.123547    0.123547  0.982573   \n",
       "1996  1997    0.026841   0.026844   0.120555    0.120555  0.983480   \n",
       "1997  1998    0.028342   0.028343   0.123394    0.123394  0.982558   \n",
       "1998  1999    0.027455   0.027449   0.121848    0.121848  0.983108   \n",
       "1999  2000    0.027563   0.027563   0.122067    0.122067  0.983038   \n",
       "\n",
       "      Train Pearson  Train Median_AE Train Explained_VARVal Loss   Val MSE  \\\n",
       "1995       0.991248         0.095134                         NaN  0.717839   \n",
       "1996       0.991706         0.093768                         NaN  0.710062   \n",
       "1997       0.991241         0.096049                         NaN  0.714564   \n",
       "1998       0.991518         0.094574                         NaN  0.712448   \n",
       "1999       0.991483         0.095002                         NaN  0.701079   \n",
       "\n",
       "       Val MAE  Val RMSE    Val R2  Val Pearson  Val Median_AE  \\\n",
       "1995  0.609849  0.609849  0.542849     0.759872       0.434790   \n",
       "1996  0.605412  0.605412  0.547802     0.758100       0.431485   \n",
       "1997  0.608212  0.608212  0.544935     0.760219       0.434423   \n",
       "1998  0.607845  0.607845  0.546282     0.758994       0.433431   \n",
       "1999  0.600558  0.600558  0.553522     0.759151       0.430116   \n",
       "\n",
       "      Val Explained_VAR  Train Explained_VAR  Val Loss  \n",
       "1995           0.542850             0.982573  0.717839  \n",
       "1996           0.547985             0.983480  0.710062  \n",
       "1997           0.545093             0.982558  0.714564  \n",
       "1998           0.546771             0.983108  0.712448  \n",
       "1999           0.553597             0.983038  0.701079  "
      ]
     },
     "execution_count": 12,
     "metadata": {},
     "output_type": "execute_result"
    }
   ],
   "source": [
    "train_history.tail()"
   ]
  },
  {
   "cell_type": "code",
   "execution_count": 13,
   "metadata": {},
   "outputs": [
    {
     "data": {
      "image/png": "[encoded data removed]",
      "text/plain": [
       "<Figure size 640x480 with 1 Axes>"
      ]
     },
     "metadata": {},
     "output_type": "display_data"
    }
   ],
   "source": [
    "# Plot the performance\n",
    "import matplotlib.pyplot as plt\n",
    "\n",
    "plt.scatter(test_labels, test_predictions, alpha=0.5)\n",
    "plt.xlabel(\"True Reactivity\")\n",
    "plt.ylabel(\"Predicted Reactivity\")\n",
    "plt.title(\"Transformer Predictions vs True Values\")\n",
    "plt.plot([min(test_labels), max(test_labels)], [min(test_labels), max(test_labels)], 'r--')\n",
    "plt.show()\n"
   ]
  }
 ],
 "metadata": {
  "kernelspec": {
   "display_name": "base",
   "language": "python",
   "name": "python3"
  },
  "language_info": {
   "codemirror_mode": {
    "name": "ipython",
    "version": 3
   },
   "file_extension": ".py",
   "mimetype": "text/x-python",
   "name": "python",
   "nbconvert_exporter": "python",
   "pygments_lexer": "ipython3",
   "version": "3.12.2"
  }
 },
 "nbformat": 4,
 "nbformat_minor": 2
}
