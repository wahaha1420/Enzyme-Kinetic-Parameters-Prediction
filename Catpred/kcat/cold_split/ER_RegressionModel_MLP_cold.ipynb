{
 "cells": [
  {
   "cell_type": "code",
   "execution_count": 1,
   "metadata": {},
   "outputs": [],
   "source": [
    "import pandas as pd\n",
    "import numpy as np\n",
    "from tqdm import tqdm\n",
    "import torch\n",
    "import torch.nn as nn\n",
    "import torch.optim as optim\n",
    "from torch.utils.data import DataLoader, Dataset\n",
    "from sklearn.metrics import roc_auc_score\n",
    "from sklearn.model_selection import train_test_split\n",
    "import os\n"
   ]
  },
  {
   "cell_type": "code",
   "execution_count": 2,
   "metadata": {},
   "outputs": [
    {
     "data": {
      "text/html": [
       "<div>\n",
       "<style scoped>\n",
       "    .dataframe tbody tr th:only-of-type {\n",
       "        vertical-align: middle;\n",
       "    }\n",
       "\n",
       "    .dataframe tbody tr th {\n",
       "        vertical-align: top;\n",
       "    }\n",
       "\n",
       "    .dataframe thead th {\n",
       "        text-align: right;\n",
       "    }\n",
       "</style>\n",
       "<table border=\"1\" class=\"dataframe\">\n",
       "  <thead>\n",
       "    <tr style=\"text-align: right;\">\n",
       "      <th></th>\n",
       "      <th>Sequence</th>\n",
       "      <th>sequence_source</th>\n",
       "      <th>uniprot</th>\n",
       "      <th>Smiles</th>\n",
       "      <th>value</th>\n",
       "      <th>ec</th>\n",
       "      <th>log10_value</th>\n",
       "      <th>reactant_smiles</th>\n",
       "      <th>product_smiles</th>\n",
       "      <th>log10kcat_max</th>\n",
       "      <th>metabolite_features</th>\n",
       "      <th>protein_features</th>\n",
       "    </tr>\n",
       "  </thead>\n",
       "  <tbody>\n",
       "    <tr>\n",
       "      <th>0</th>\n",
       "      <td>MEPGSKSVSRSDWQPEPHQRPITPLEPGPEKTPIAQPESKTLQGSN...</td>\n",
       "      <td>sabio</td>\n",
       "      <td>Q05469</td>\n",
       "      <td>CCC(=O)OCC(COC(=O)CC)OC(=O)CC.O&gt;&gt;CCC(=O)O.CCC(...</td>\n",
       "      <td>7.00</td>\n",
       "      <td>3.1.1.1</td>\n",
       "      <td>0.845098</td>\n",
       "      <td>CCC(=O)OCC(COC(=O)CC)OC(=O)CC.O</td>\n",
       "      <td>CCC(=O)O.CCC(=O)OCC(CO)OC(=O)CC</td>\n",
       "      <td>0.845098</td>\n",
       "      <td>[0.25240317, -0.45278314, -0.76844007, 0.04716...</td>\n",
       "      <td>[-0.06076221, -0.21264695, -0.05684641, 0.0163...</td>\n",
       "    </tr>\n",
       "    <tr>\n",
       "      <th>1</th>\n",
       "      <td>MLLAQRRLISLGCRSKPIKTIYSSSKVLGLCTSAKMALKFKNAKRI...</td>\n",
       "      <td>brenda</td>\n",
       "      <td>Q71RI9</td>\n",
       "      <td>Nc1ccccc1C(=O)C[C@H](N)C(=O)O.O=C(O)C(=O)Cc1cc...</td>\n",
       "      <td>1.48</td>\n",
       "      <td>2.6.1.7</td>\n",
       "      <td>0.170262</td>\n",
       "      <td>Nc1ccccc1C(=O)C[C@H](N)C(=O)O.O=C(O)C(=O)Cc1cc...</td>\n",
       "      <td>N[C@@H](Cc1ccc(O)cc1)C(=O)O.O=C(O)c1cc(=O)c2cc...</td>\n",
       "      <td>0.170262</td>\n",
       "      <td>[0.066915624, -0.15937805, -0.7076091, 0.12864...</td>\n",
       "      <td>[-0.051194582, -0.07116077, 0.16383636, 0.2113...</td>\n",
       "    </tr>\n",
       "    <tr>\n",
       "      <th>2</th>\n",
       "      <td>MPIIQMNLLEGRTVEQKRNAVAAITEAVVRTLDVRPDQVRILINEL...</td>\n",
       "      <td>brenda</td>\n",
       "      <td>A2SL37</td>\n",
       "      <td>C/C(=C\\C=C(/O)C(=O)O)C(=O)O&gt;&gt;CC(/C=C/C(=O)C(=O...</td>\n",
       "      <td>3.40</td>\n",
       "      <td>5.3.2.6</td>\n",
       "      <td>0.531479</td>\n",
       "      <td>C/C(=C\\C=C(/O)C(=O)O)C(=O)O</td>\n",
       "      <td>CC(/C=C/C(=O)C(=O)O)C(=O)O</td>\n",
       "      <td>2.029384</td>\n",
       "      <td>[0.23911352, 0.011175589, -0.35101113, 0.15938...</td>\n",
       "      <td>[-0.1772431, -0.06500952, 0.18246448, -0.05431...</td>\n",
       "    </tr>\n",
       "    <tr>\n",
       "      <th>3</th>\n",
       "      <td>MKEAGILFEELVSIMEKLRSPEGCEWDRKQTHESLKPYLIEECYEL...</td>\n",
       "      <td>brenda</td>\n",
       "      <td>Q9X015</td>\n",
       "      <td>N=c1nc(O)c2ncn([C@@H]3O[C@H](COP(=O)(O)OP(=O)(...</td>\n",
       "      <td>0.69</td>\n",
       "      <td>3.6.1.9</td>\n",
       "      <td>-0.161151</td>\n",
       "      <td>N=c1nc(O)c2ncn([C@@H]3O[C@H](COP(=O)(O)OP(=O)(...</td>\n",
       "      <td>N=c1nc(O)c2ncn([C@@H]3O[C@H](COP(=O)(O)OP(=O)(...</td>\n",
       "      <td>-0.161151</td>\n",
       "      <td>[0.078591675, -0.15656142, -0.55292135, -0.245...</td>\n",
       "      <td>[-0.09246727, -0.033019878, 0.10869139, 0.2953...</td>\n",
       "    </tr>\n",
       "    <tr>\n",
       "      <th>4</th>\n",
       "      <td>MGQEKLYIEKELSWLSFNERVLQEAADKSNPLIERMRFLGIYSNNL...</td>\n",
       "      <td>sabio</td>\n",
       "      <td>P0A7B1</td>\n",
       "      <td>O=c1ccn(C2OC(COP(=O)(O)OP(=O)(O)O)C(O)C2O)c(=O...</td>\n",
       "      <td>420.00</td>\n",
       "      <td>2.7.4.1</td>\n",
       "      <td>2.623249</td>\n",
       "      <td>O=c1ccn(C2OC(COP(=O)(O)OP(=O)(O)O)C(O)C2O)c(=O...</td>\n",
       "      <td>O=c1ccn(C2OC(COP(=O)(O)OP(=O)(O)OP(=O)(O)O)C(O...</td>\n",
       "      <td>2.623249</td>\n",
       "      <td>[0.00051207165, -0.7151457, -0.95394605, -0.15...</td>\n",
       "      <td>[-0.06592023, -0.062496405, -0.012068139, 0.06...</td>\n",
       "    </tr>\n",
       "  </tbody>\n",
       "</table>\n",
       "</div>"
      ],
      "text/plain": [
       "                                            Sequence sequence_source uniprot  \\\n",
       "0  MEPGSKSVSRSDWQPEPHQRPITPLEPGPEKTPIAQPESKTLQGSN...           sabio  Q05469   \n",
       "1  MLLAQRRLISLGCRSKPIKTIYSSSKVLGLCTSAKMALKFKNAKRI...          brenda  Q71RI9   \n",
       "2  MPIIQMNLLEGRTVEQKRNAVAAITEAVVRTLDVRPDQVRILINEL...          brenda  A2SL37   \n",
       "3  MKEAGILFEELVSIMEKLRSPEGCEWDRKQTHESLKPYLIEECYEL...          brenda  Q9X015   \n",
       "4  MGQEKLYIEKELSWLSFNERVLQEAADKSNPLIERMRFLGIYSNNL...           sabio  P0A7B1   \n",
       "\n",
       "                                              Smiles   value       ec  \\\n",
       "0  CCC(=O)OCC(COC(=O)CC)OC(=O)CC.O>>CCC(=O)O.CCC(...    7.00  3.1.1.1   \n",
       "1  Nc1ccccc1C(=O)C[C@H](N)C(=O)O.O=C(O)C(=O)Cc1cc...    1.48  2.6.1.7   \n",
       "2  C/C(=C\\C=C(/O)C(=O)O)C(=O)O>>CC(/C=C/C(=O)C(=O...    3.40  5.3.2.6   \n",
       "3  N=c1nc(O)c2ncn([C@@H]3O[C@H](COP(=O)(O)OP(=O)(...    0.69  3.6.1.9   \n",
       "4  O=c1ccn(C2OC(COP(=O)(O)OP(=O)(O)O)C(O)C2O)c(=O...  420.00  2.7.4.1   \n",
       "\n",
       "   log10_value                                    reactant_smiles  \\\n",
       "0     0.845098                    CCC(=O)OCC(COC(=O)CC)OC(=O)CC.O   \n",
       "1     0.170262  Nc1ccccc1C(=O)C[C@H](N)C(=O)O.O=C(O)C(=O)Cc1cc...   \n",
       "2     0.531479                        C/C(=C\\C=C(/O)C(=O)O)C(=O)O   \n",
       "3    -0.161151  N=c1nc(O)c2ncn([C@@H]3O[C@H](COP(=O)(O)OP(=O)(...   \n",
       "4     2.623249  O=c1ccn(C2OC(COP(=O)(O)OP(=O)(O)O)C(O)C2O)c(=O...   \n",
       "\n",
       "                                      product_smiles  log10kcat_max  \\\n",
       "0                    CCC(=O)O.CCC(=O)OCC(CO)OC(=O)CC       0.845098   \n",
       "1  N[C@@H](Cc1ccc(O)cc1)C(=O)O.O=C(O)c1cc(=O)c2cc...       0.170262   \n",
       "2                         CC(/C=C/C(=O)C(=O)O)C(=O)O       2.029384   \n",
       "3  N=c1nc(O)c2ncn([C@@H]3O[C@H](COP(=O)(O)OP(=O)(...      -0.161151   \n",
       "4  O=c1ccn(C2OC(COP(=O)(O)OP(=O)(O)OP(=O)(O)O)C(O...       2.623249   \n",
       "\n",
       "                                 metabolite_features  \\\n",
       "0  [0.25240317, -0.45278314, -0.76844007, 0.04716...   \n",
       "1  [0.066915624, -0.15937805, -0.7076091, 0.12864...   \n",
       "2  [0.23911352, 0.011175589, -0.35101113, 0.15938...   \n",
       "3  [0.078591675, -0.15656142, -0.55292135, -0.245...   \n",
       "4  [0.00051207165, -0.7151457, -0.95394605, -0.15...   \n",
       "\n",
       "                                    protein_features  \n",
       "0  [-0.06076221, -0.21264695, -0.05684641, 0.0163...  \n",
       "1  [-0.051194582, -0.07116077, 0.16383636, 0.2113...  \n",
       "2  [-0.1772431, -0.06500952, 0.18246448, -0.05431...  \n",
       "3  [-0.09246727, -0.033019878, 0.10869139, 0.2953...  \n",
       "4  [-0.06592023, -0.062496405, -0.012068139, 0.06...  "
      ]
     },
     "execution_count": 2,
     "metadata": {},
     "output_type": "execute_result"
    }
   ],
   "source": [
    "import joblib\n",
    "import pandas as pd\n",
    "\n",
    "data_kcat = joblib.load('/Users/pinchichen/2025S lab/AI drug project/Catpred/dataset/kcat/kcat_with_features.joblib')\n",
    "data_kcat.head()"
   ]
  },
  {
   "cell_type": "code",
   "execution_count": 3,
   "metadata": {},
   "outputs": [
    {
     "data": {
      "text/html": [
       "<div>\n",
       "<style scoped>\n",
       "    .dataframe tbody tr th:only-of-type {\n",
       "        vertical-align: middle;\n",
       "    }\n",
       "\n",
       "    .dataframe tbody tr th {\n",
       "        vertical-align: top;\n",
       "    }\n",
       "\n",
       "    .dataframe thead th {\n",
       "        text-align: right;\n",
       "    }\n",
       "</style>\n",
       "<table border=\"1\" class=\"dataframe\">\n",
       "  <thead>\n",
       "    <tr style=\"text-align: right;\">\n",
       "      <th></th>\n",
       "      <th>Sequence</th>\n",
       "      <th>sequence_source</th>\n",
       "      <th>uniprot</th>\n",
       "      <th>Smiles</th>\n",
       "      <th>value</th>\n",
       "      <th>ec</th>\n",
       "      <th>log10_value</th>\n",
       "      <th>reactant_smiles</th>\n",
       "      <th>product_smiles</th>\n",
       "      <th>label</th>\n",
       "      <th>metabolite_features</th>\n",
       "      <th>protein_features</th>\n",
       "    </tr>\n",
       "  </thead>\n",
       "  <tbody>\n",
       "    <tr>\n",
       "      <th>0</th>\n",
       "      <td>MEPGSKSVSRSDWQPEPHQRPITPLEPGPEKTPIAQPESKTLQGSN...</td>\n",
       "      <td>sabio</td>\n",
       "      <td>Q05469</td>\n",
       "      <td>CCC(=O)OCC(COC(=O)CC)OC(=O)CC.O&gt;&gt;CCC(=O)O.CCC(...</td>\n",
       "      <td>7.00</td>\n",
       "      <td>3.1.1.1</td>\n",
       "      <td>0.845098</td>\n",
       "      <td>CCC(=O)OCC(COC(=O)CC)OC(=O)CC.O</td>\n",
       "      <td>CCC(=O)O.CCC(=O)OCC(CO)OC(=O)CC</td>\n",
       "      <td>0.845098</td>\n",
       "      <td>[0.25240317, -0.45278314, -0.76844007, 0.04716...</td>\n",
       "      <td>[-0.06076221, -0.21264695, -0.05684641, 0.0163...</td>\n",
       "    </tr>\n",
       "    <tr>\n",
       "      <th>1</th>\n",
       "      <td>MLLAQRRLISLGCRSKPIKTIYSSSKVLGLCTSAKMALKFKNAKRI...</td>\n",
       "      <td>brenda</td>\n",
       "      <td>Q71RI9</td>\n",
       "      <td>Nc1ccccc1C(=O)C[C@H](N)C(=O)O.O=C(O)C(=O)Cc1cc...</td>\n",
       "      <td>1.48</td>\n",
       "      <td>2.6.1.7</td>\n",
       "      <td>0.170262</td>\n",
       "      <td>Nc1ccccc1C(=O)C[C@H](N)C(=O)O.O=C(O)C(=O)Cc1cc...</td>\n",
       "      <td>N[C@@H](Cc1ccc(O)cc1)C(=O)O.O=C(O)c1cc(=O)c2cc...</td>\n",
       "      <td>0.170262</td>\n",
       "      <td>[0.066915624, -0.15937805, -0.7076091, 0.12864...</td>\n",
       "      <td>[-0.051194582, -0.07116077, 0.16383636, 0.2113...</td>\n",
       "    </tr>\n",
       "    <tr>\n",
       "      <th>2</th>\n",
       "      <td>MPIIQMNLLEGRTVEQKRNAVAAITEAVVRTLDVRPDQVRILINEL...</td>\n",
       "      <td>brenda</td>\n",
       "      <td>A2SL37</td>\n",
       "      <td>C/C(=C\\C=C(/O)C(=O)O)C(=O)O&gt;&gt;CC(/C=C/C(=O)C(=O...</td>\n",
       "      <td>3.40</td>\n",
       "      <td>5.3.2.6</td>\n",
       "      <td>0.531479</td>\n",
       "      <td>C/C(=C\\C=C(/O)C(=O)O)C(=O)O</td>\n",
       "      <td>CC(/C=C/C(=O)C(=O)O)C(=O)O</td>\n",
       "      <td>2.029384</td>\n",
       "      <td>[0.23911352, 0.011175589, -0.35101113, 0.15938...</td>\n",
       "      <td>[-0.1772431, -0.06500952, 0.18246448, -0.05431...</td>\n",
       "    </tr>\n",
       "    <tr>\n",
       "      <th>3</th>\n",
       "      <td>MKEAGILFEELVSIMEKLRSPEGCEWDRKQTHESLKPYLIEECYEL...</td>\n",
       "      <td>brenda</td>\n",
       "      <td>Q9X015</td>\n",
       "      <td>N=c1nc(O)c2ncn([C@@H]3O[C@H](COP(=O)(O)OP(=O)(...</td>\n",
       "      <td>0.69</td>\n",
       "      <td>3.6.1.9</td>\n",
       "      <td>-0.161151</td>\n",
       "      <td>N=c1nc(O)c2ncn([C@@H]3O[C@H](COP(=O)(O)OP(=O)(...</td>\n",
       "      <td>N=c1nc(O)c2ncn([C@@H]3O[C@H](COP(=O)(O)OP(=O)(...</td>\n",
       "      <td>-0.161151</td>\n",
       "      <td>[0.078591675, -0.15656142, -0.55292135, -0.245...</td>\n",
       "      <td>[-0.09246727, -0.033019878, 0.10869139, 0.2953...</td>\n",
       "    </tr>\n",
       "    <tr>\n",
       "      <th>4</th>\n",
       "      <td>MGQEKLYIEKELSWLSFNERVLQEAADKSNPLIERMRFLGIYSNNL...</td>\n",
       "      <td>sabio</td>\n",
       "      <td>P0A7B1</td>\n",
       "      <td>O=c1ccn(C2OC(COP(=O)(O)OP(=O)(O)O)C(O)C2O)c(=O...</td>\n",
       "      <td>420.00</td>\n",
       "      <td>2.7.4.1</td>\n",
       "      <td>2.623249</td>\n",
       "      <td>O=c1ccn(C2OC(COP(=O)(O)OP(=O)(O)O)C(O)C2O)c(=O...</td>\n",
       "      <td>O=c1ccn(C2OC(COP(=O)(O)OP(=O)(O)OP(=O)(O)O)C(O...</td>\n",
       "      <td>2.623249</td>\n",
       "      <td>[0.00051207165, -0.7151457, -0.95394605, -0.15...</td>\n",
       "      <td>[-0.06592023, -0.062496405, -0.012068139, 0.06...</td>\n",
       "    </tr>\n",
       "  </tbody>\n",
       "</table>\n",
       "</div>"
      ],
      "text/plain": [
       "                                            Sequence sequence_source uniprot  \\\n",
       "0  MEPGSKSVSRSDWQPEPHQRPITPLEPGPEKTPIAQPESKTLQGSN...           sabio  Q05469   \n",
       "1  MLLAQRRLISLGCRSKPIKTIYSSSKVLGLCTSAKMALKFKNAKRI...          brenda  Q71RI9   \n",
       "2  MPIIQMNLLEGRTVEQKRNAVAAITEAVVRTLDVRPDQVRILINEL...          brenda  A2SL37   \n",
       "3  MKEAGILFEELVSIMEKLRSPEGCEWDRKQTHESLKPYLIEECYEL...          brenda  Q9X015   \n",
       "4  MGQEKLYIEKELSWLSFNERVLQEAADKSNPLIERMRFLGIYSNNL...           sabio  P0A7B1   \n",
       "\n",
       "                                              Smiles   value       ec  \\\n",
       "0  CCC(=O)OCC(COC(=O)CC)OC(=O)CC.O>>CCC(=O)O.CCC(...    7.00  3.1.1.1   \n",
       "1  Nc1ccccc1C(=O)C[C@H](N)C(=O)O.O=C(O)C(=O)Cc1cc...    1.48  2.6.1.7   \n",
       "2  C/C(=C\\C=C(/O)C(=O)O)C(=O)O>>CC(/C=C/C(=O)C(=O...    3.40  5.3.2.6   \n",
       "3  N=c1nc(O)c2ncn([C@@H]3O[C@H](COP(=O)(O)OP(=O)(...    0.69  3.6.1.9   \n",
       "4  O=c1ccn(C2OC(COP(=O)(O)OP(=O)(O)O)C(O)C2O)c(=O...  420.00  2.7.4.1   \n",
       "\n",
       "   log10_value                                    reactant_smiles  \\\n",
       "0     0.845098                    CCC(=O)OCC(COC(=O)CC)OC(=O)CC.O   \n",
       "1     0.170262  Nc1ccccc1C(=O)C[C@H](N)C(=O)O.O=C(O)C(=O)Cc1cc...   \n",
       "2     0.531479                        C/C(=C\\C=C(/O)C(=O)O)C(=O)O   \n",
       "3    -0.161151  N=c1nc(O)c2ncn([C@@H]3O[C@H](COP(=O)(O)OP(=O)(...   \n",
       "4     2.623249  O=c1ccn(C2OC(COP(=O)(O)OP(=O)(O)O)C(O)C2O)c(=O...   \n",
       "\n",
       "                                      product_smiles     label  \\\n",
       "0                    CCC(=O)O.CCC(=O)OCC(CO)OC(=O)CC  0.845098   \n",
       "1  N[C@@H](Cc1ccc(O)cc1)C(=O)O.O=C(O)c1cc(=O)c2cc...  0.170262   \n",
       "2                         CC(/C=C/C(=O)C(=O)O)C(=O)O  2.029384   \n",
       "3  N=c1nc(O)c2ncn([C@@H]3O[C@H](COP(=O)(O)OP(=O)(... -0.161151   \n",
       "4  O=c1ccn(C2OC(COP(=O)(O)OP(=O)(O)OP(=O)(O)O)C(O...  2.623249   \n",
       "\n",
       "                                 metabolite_features  \\\n",
       "0  [0.25240317, -0.45278314, -0.76844007, 0.04716...   \n",
       "1  [0.066915624, -0.15937805, -0.7076091, 0.12864...   \n",
       "2  [0.23911352, 0.011175589, -0.35101113, 0.15938...   \n",
       "3  [0.078591675, -0.15656142, -0.55292135, -0.245...   \n",
       "4  [0.00051207165, -0.7151457, -0.95394605, -0.15...   \n",
       "\n",
       "                                    protein_features  \n",
       "0  [-0.06076221, -0.21264695, -0.05684641, 0.0163...  \n",
       "1  [-0.051194582, -0.07116077, 0.16383636, 0.2113...  \n",
       "2  [-0.1772431, -0.06500952, 0.18246448, -0.05431...  \n",
       "3  [-0.09246727, -0.033019878, 0.10869139, 0.2953...  \n",
       "4  [-0.06592023, -0.062496405, -0.012068139, 0.06...  "
      ]
     },
     "execution_count": 3,
     "metadata": {},
     "output_type": "execute_result"
    }
   ],
   "source": [
    "data_kcat.rename(columns={'log10kcat_max':'label'},inplace=True)\n",
    "data_kcat.head()"
   ]
  },
  {
   "cell_type": "code",
   "execution_count": 4,
   "metadata": {},
   "outputs": [],
   "source": [
    "# Define dataset\n",
    "class MPI_Dataset(Dataset):\n",
    "    def __init__(self, dataframe):\n",
    "        self.dataframe = dataframe\n",
    "\n",
    "    def __len__(self):\n",
    "        return len(self.dataframe)\n",
    "\n",
    "    def __getitem__(self, idx):\n",
    "        row = self.dataframe.iloc[idx]\n",
    "        return {\n",
    "            'metabolite_features': torch.tensor(np.asarray(row['metabolite_features'], dtype=np.float32)),\n",
    "            'protein_features': torch.tensor(np.asarray(row['protein_features'], dtype=np.float32)),\n",
    "            'label': torch.tensor(float(row['label']), dtype=torch.float32),\n",
    "        }"
   ]
  },
  {
   "cell_type": "code",
   "execution_count": 5,
   "metadata": {},
   "outputs": [],
   "source": [
    "# Separate the dataset by unique proteins and drugs\n",
    "unique_proteins = data_kcat['Sequence'].unique()\n",
    "unique_mols = data_kcat['Smiles'].unique()\n",
    "# Set the seed for reproducibility\n",
    "torch.manual_seed(42)\n",
    "# Function to perform a cold split\n",
    "def cold_split(unique_items, test_size=0.2, val_size=0.1):\n",
    "    train_items, test_items = train_test_split(unique_items, test_size=test_size, random_state=42)\n",
    "    train_items, val_items = train_test_split(train_items, test_size=val_size / (1 - test_size), random_state=42)\n",
    "    return train_items, val_items, test_items\n",
    "# Cold split by proteins\n",
    "train_proteins, val_proteins, test_proteins = cold_split(unique_proteins)\n",
    "train_cold_protein = data_kcat[data_kcat['Sequence'].isin(train_proteins)]\n",
    "val_cold_protein = data_kcat[data_kcat['Sequence'].isin(val_proteins)]\n",
    "test_cold_protein = data_kcat[data_kcat['Sequence'].isin(test_proteins)]\n",
    "# Cold split by molecules\n",
    "train_mols, val_mols, test_mols = cold_split(unique_mols)\n",
    "train_cold_mols = data_kcat[data_kcat['Smiles'].isin(train_mols)]\n",
    "val_cold_mols = data_kcat[data_kcat['Smiles'].isin(val_mols)]\n",
    "test_cold_mols = data_kcat[data_kcat['Smiles'].isin(test_mols)]"
   ]
  },
  {
   "cell_type": "code",
   "execution_count": 6,
   "metadata": {},
   "outputs": [],
   "source": [
    "# cold protein\n",
    "train_dataset = MPI_Dataset(train_cold_protein)\n",
    "val_dataset = MPI_Dataset(val_cold_protein)\n",
    "test_dataset = MPI_Dataset(test_cold_protein)\n",
    "\n",
    "train_loader = DataLoader(train_dataset, batch_size=32, shuffle=True)\n",
    "val_loader = DataLoader(val_dataset, batch_size=32)\n",
    "test_loader = DataLoader(test_dataset, batch_size=32)\n",
    "\n",
    "# cold mols\n",
    "train_dataset_mols = MPI_Dataset(train_cold_mols)\n",
    "val_dataset_mols = MPI_Dataset(val_cold_mols)\n",
    "test_dataset_mols = MPI_Dataset(test_cold_mols)\n",
    "\n",
    "train_loader_mols = DataLoader(train_dataset_mols, batch_size=32, shuffle=True)\n",
    "val_loader_mols = DataLoader(val_dataset_mols, batch_size=32)\n",
    "test_loader_mols = DataLoader(test_dataset_mols, batch_size=32)"
   ]
  },
  {
   "cell_type": "code",
   "execution_count": 7,
   "metadata": {},
   "outputs": [],
   "source": [
    "import torch.nn as nn\n",
    "import torch\n",
    "import torch.nn.functional as F\n",
    "\n",
    "# Define MLP Model for Regression\n",
    "class MLPRegressor(nn.Module):\n",
    "    def __init__(self, mol_input_dim, protein_input_dim, hidden_dim=512):\n",
    "        super(MLPRegressor, self).__init__()\n",
    "\n",
    "        self.mol_encoder = nn.Linear(mol_input_dim, hidden_dim)\n",
    "        self.protein_encoder = nn.Linear(protein_input_dim, hidden_dim)\n",
    "        \n",
    "        # norm layer + Dropout\n",
    "        self.layer_norm = nn.LayerNorm(hidden_dim * 2)\n",
    "        self.dropout = nn.Dropout(0.3)\n",
    "\n",
    "        # hidden layer + output layer\n",
    "        self.hidden = nn.Linear(hidden_dim * 2, hidden_dim)\n",
    "        self.regressor = nn.Linear(hidden_dim, 1)\n",
    "\n",
    "        self.activation = nn.ReLU()\n",
    "\n",
    "    def forward(self, mol_input, protein_input):\n",
    "        # Reshape to (B, 1, L) for Conv1d\n",
    "        mol_embedding = self.activation(self.mol_encoder(mol_input))\n",
    "        protein_embedding = self.activation(self.protein_encoder(protein_input))\n",
    "\n",
    "        # Concatenate + Normalize + Dropout\n",
    "        combined = torch.cat((mol_embedding, protein_embedding), dim=-1)\n",
    "        combined = self.layer_norm(combined)\n",
    "        combined = self.dropout(combined)\n",
    "\n",
    "        # Hidden → Regress\n",
    "        hidden_out = self.activation(self.hidden(combined))\n",
    "        output = self.regressor(hidden_out)\n",
    "\n",
    "        return output.squeeze(1)\n"
   ]
  },
  {
   "cell_type": "code",
   "execution_count": 8,
   "metadata": {},
   "outputs": [],
   "source": [
    "# Check CUDA availability\n",
    "device = torch.device(\"cuda\" if torch.cuda.is_available() else \"cpu\")"
   ]
  },
  {
   "cell_type": "code",
   "execution_count": null,
   "metadata": {},
   "outputs": [
    {
     "name": "stderr",
     "output_type": "stream",
     "text": [
      "Training Epoch 1: 100%|██████████| 499/499 [00:06<00:00, 80.73it/s]\n"
     ]
    },
    {
     "name": "stdout",
     "output_type": "stream",
     "text": [
      "Epoch 0 - Train Loss: 2.5622, Train MSE: 2.5643, Train MAE: 1.2278\n"
     ]
    },
    {
     "name": "stderr",
     "output_type": "stream",
     "text": [
      "/var/folders/yz/c1z6m9_d5d3f80sywjc3rqsc0000gn/T/ipykernel_17312/3478497585.py:92: FutureWarning: The behavior of DataFrame concatenation with empty or all-NA entries is deprecated. In a future version, this will no longer exclude empty or all-NA columns when determining the result dtypes. To retain the old behavior, exclude the relevant entries before the concat operation.\n",
      "  train_history = pd.concat([train_history, pd.DataFrame([new_row])], ignore_index=True)\n"
     ]
    },
    {
     "name": "stdout",
     "output_type": "stream",
     "text": [
      "Epoch 0 - Validation Loss: 2.4185, Validation MSE: 2.4179, Validation MAE: 1.1792\n"
     ]
    },
    {
     "name": "stderr",
     "output_type": "stream",
     "text": [
      "Training Epoch 2: 100%|██████████| 499/499 [00:05<00:00, 84.86it/s]\n",
      "Training Epoch 3: 100%|██████████| 499/499 [00:05<00:00, 88.48it/s]\n",
      "Training Epoch 4: 100%|██████████| 499/499 [00:05<00:00, 86.91it/s]\n",
      "Training Epoch 5: 100%|██████████| 499/499 [00:05<00:00, 89.06it/s]\n",
      "Training Epoch 6: 100%|██████████| 499/499 [00:05<00:00, 88.53it/s]\n",
      "Training Epoch 7: 100%|██████████| 499/499 [00:05<00:00, 84.41it/s]\n",
      "Training Epoch 8: 100%|██████████| 499/499 [00:05<00:00, 86.81it/s]\n",
      "Training Epoch 9: 100%|██████████| 499/499 [00:05<00:00, 87.16it/s]\n",
      "Training Epoch 10: 100%|██████████| 499/499 [00:05<00:00, 86.76it/s]\n",
      "Training Epoch 11: 100%|██████████| 499/499 [00:05<00:00, 87.63it/s]\n"
     ]
    },
    {
     "name": "stdout",
     "output_type": "stream",
     "text": [
      "Epoch 10 - Train Loss: 1.5294, Train MSE: 1.5301, Train MAE: 0.9363\n",
      "Epoch 10 - Validation Loss: 2.1959, Validation MSE: 2.1963, Validation MAE: 1.1175\n"
     ]
    },
    {
     "name": "stderr",
     "output_type": "stream",
     "text": [
      "Training Epoch 12: 100%|██████████| 499/499 [00:05<00:00, 87.76it/s]\n",
      "Training Epoch 13: 100%|██████████| 499/499 [00:05<00:00, 89.06it/s]\n",
      "Training Epoch 14: 100%|██████████| 499/499 [00:05<00:00, 86.62it/s]\n",
      "Training Epoch 15: 100%|██████████| 499/499 [00:05<00:00, 86.39it/s]\n",
      "Training Epoch 16: 100%|██████████| 499/499 [00:05<00:00, 88.16it/s]\n",
      "Training Epoch 17: 100%|██████████| 499/499 [00:05<00:00, 87.51it/s]\n",
      "Training Epoch 18: 100%|██████████| 499/499 [00:05<00:00, 85.48it/s]\n",
      "Training Epoch 19: 100%|██████████| 499/499 [00:05<00:00, 89.20it/s] \n",
      "Training Epoch 20: 100%|██████████| 499/499 [00:05<00:00, 87.70it/s]\n",
      "Training Epoch 21: 100%|██████████| 499/499 [00:05<00:00, 87.77it/s]\n"
     ]
    },
    {
     "name": "stdout",
     "output_type": "stream",
     "text": [
      "Epoch 20 - Train Loss: 1.1669, Train MSE: 1.1665, Train MAE: 0.8083\n",
      "Epoch 20 - Validation Loss: 2.2889, Validation MSE: 2.2895, Validation MAE: 1.1404\n"
     ]
    },
    {
     "name": "stderr",
     "output_type": "stream",
     "text": [
      "Training Epoch 22: 100%|██████████| 499/499 [00:05<00:00, 88.51it/s]\n",
      "Training Epoch 23: 100%|██████████| 499/499 [00:05<00:00, 87.56it/s]\n",
      "Training Epoch 24: 100%|██████████| 499/499 [00:05<00:00, 89.20it/s]\n",
      "Training Epoch 25: 100%|██████████| 499/499 [00:05<00:00, 87.80it/s]\n",
      "Training Epoch 26: 100%|██████████| 499/499 [00:05<00:00, 86.58it/s]\n",
      "Training Epoch 27: 100%|██████████| 499/499 [00:05<00:00, 89.04it/s]\n",
      "Training Epoch 28: 100%|██████████| 499/499 [00:05<00:00, 87.27it/s]\n",
      "Training Epoch 29: 100%|██████████| 499/499 [00:05<00:00, 87.49it/s]\n",
      "Training Epoch 30: 100%|██████████| 499/499 [00:05<00:00, 89.06it/s]\n",
      "Training Epoch 31: 100%|██████████| 499/499 [00:05<00:00, 86.68it/s]\n"
     ]
    },
    {
     "name": "stdout",
     "output_type": "stream",
     "text": [
      "Epoch 30 - Train Loss: 0.9528, Train MSE: 0.9530, Train MAE: 0.7325\n",
      "Epoch 30 - Validation Loss: 2.3155, Validation MSE: 2.3164, Validation MAE: 1.1495\n"
     ]
    },
    {
     "name": "stderr",
     "output_type": "stream",
     "text": [
      "Training Epoch 32: 100%|██████████| 499/499 [00:05<00:00, 88.16it/s]\n",
      "Training Epoch 33: 100%|██████████| 499/499 [00:05<00:00, 88.16it/s]\n",
      "Training Epoch 34: 100%|██████████| 499/499 [00:05<00:00, 86.25it/s]\n",
      "Training Epoch 35: 100%|██████████| 499/499 [00:05<00:00, 88.20it/s]\n",
      "Training Epoch 36: 100%|██████████| 499/499 [00:05<00:00, 86.15it/s]\n",
      "Training Epoch 37: 100%|██████████| 499/499 [00:05<00:00, 86.76it/s]\n",
      "Training Epoch 38: 100%|██████████| 499/499 [00:05<00:00, 88.44it/s]\n",
      "Training Epoch 39: 100%|██████████| 499/499 [00:05<00:00, 86.93it/s]\n",
      "Training Epoch 40: 100%|██████████| 499/499 [00:05<00:00, 86.65it/s]\n",
      "Training Epoch 41: 100%|██████████| 499/499 [00:05<00:00, 89.31it/s]\n"
     ]
    },
    {
     "name": "stdout",
     "output_type": "stream",
     "text": [
      "Epoch 40 - Train Loss: 0.8238, Train MSE: 0.8244, Train MAE: 0.6795\n",
      "Epoch 40 - Validation Loss: 2.2591, Validation MSE: 2.2592, Validation MAE: 1.1278\n"
     ]
    },
    {
     "name": "stderr",
     "output_type": "stream",
     "text": [
      "Training Epoch 42: 100%|██████████| 499/499 [00:05<00:00, 87.35it/s]\n",
      "Training Epoch 43: 100%|██████████| 499/499 [00:05<00:00, 89.05it/s]\n",
      "Training Epoch 44: 100%|██████████| 499/499 [00:05<00:00, 89.53it/s]\n",
      "Training Epoch 45: 100%|██████████| 499/499 [00:05<00:00, 86.24it/s]\n",
      "Training Epoch 46: 100%|██████████| 499/499 [00:05<00:00, 87.29it/s]\n",
      "Training Epoch 47: 100%|██████████| 499/499 [00:05<00:00, 87.78it/s]\n",
      "Training Epoch 48: 100%|██████████| 499/499 [00:05<00:00, 84.27it/s]\n",
      "Training Epoch 49: 100%|██████████| 499/499 [00:05<00:00, 88.77it/s]\n",
      "Training Epoch 50: 100%|██████████| 499/499 [00:05<00:00, 87.82it/s]\n",
      "Training Epoch 51: 100%|██████████| 499/499 [00:05<00:00, 87.11it/s]\n"
     ]
    },
    {
     "name": "stdout",
     "output_type": "stream",
     "text": [
      "Epoch 50 - Train Loss: 0.7166, Train MSE: 0.7165, Train MAE: 0.6299\n",
      "Epoch 50 - Validation Loss: 2.2291, Validation MSE: 2.2299, Validation MAE: 1.1207\n"
     ]
    },
    {
     "name": "stderr",
     "output_type": "stream",
     "text": [
      "Training Epoch 52: 100%|██████████| 499/499 [00:05<00:00, 88.27it/s]\n",
      "Training Epoch 53: 100%|██████████| 499/499 [00:05<00:00, 86.38it/s]\n",
      "Training Epoch 54: 100%|██████████| 499/499 [00:05<00:00, 89.31it/s]\n",
      "Training Epoch 55: 100%|██████████| 499/499 [00:05<00:00, 88.49it/s]\n",
      "Training Epoch 56: 100%|██████████| 499/499 [00:05<00:00, 87.67it/s]\n",
      "Training Epoch 57: 100%|██████████| 499/499 [00:05<00:00, 87.76it/s]\n",
      "Training Epoch 58: 100%|██████████| 499/499 [00:05<00:00, 85.84it/s]\n",
      "Training Epoch 59: 100%|██████████| 499/499 [00:05<00:00, 87.85it/s]\n",
      "Training Epoch 60: 100%|██████████| 499/499 [00:05<00:00, 86.87it/s]\n",
      "Training Epoch 61: 100%|██████████| 499/499 [00:05<00:00, 86.14it/s]\n"
     ]
    },
    {
     "name": "stdout",
     "output_type": "stream",
     "text": [
      "Epoch 60 - Train Loss: 0.6457, Train MSE: 0.6460, Train MAE: 0.5977\n",
      "Epoch 60 - Validation Loss: 2.2206, Validation MSE: 2.2210, Validation MAE: 1.1231\n"
     ]
    },
    {
     "name": "stderr",
     "output_type": "stream",
     "text": [
      "Training Epoch 62: 100%|██████████| 499/499 [00:05<00:00, 87.50it/s]\n",
      "Training Epoch 63: 100%|██████████| 499/499 [00:05<00:00, 87.26it/s]\n",
      "Training Epoch 64: 100%|██████████| 499/499 [00:05<00:00, 87.54it/s]\n",
      "Training Epoch 65: 100%|██████████| 499/499 [00:05<00:00, 87.57it/s]\n",
      "Training Epoch 66: 100%|██████████| 499/499 [00:05<00:00, 87.52it/s]\n",
      "Training Epoch 67: 100%|██████████| 499/499 [00:05<00:00, 87.98it/s]\n",
      "Training Epoch 68: 100%|██████████| 499/499 [00:05<00:00, 88.84it/s]\n",
      "Training Epoch 69: 100%|██████████| 499/499 [00:05<00:00, 86.49it/s]\n",
      "Training Epoch 70: 100%|██████████| 499/499 [00:05<00:00, 87.77it/s]\n",
      "Training Epoch 71: 100%|██████████| 499/499 [00:05<00:00, 88.87it/s]\n"
     ]
    },
    {
     "name": "stdout",
     "output_type": "stream",
     "text": [
      "Epoch 70 - Train Loss: 0.5838, Train MSE: 0.5840, Train MAE: 0.5686\n",
      "Epoch 70 - Validation Loss: 2.2491, Validation MSE: 2.2500, Validation MAE: 1.1268\n"
     ]
    },
    {
     "name": "stderr",
     "output_type": "stream",
     "text": [
      "Training Epoch 72: 100%|██████████| 499/499 [00:05<00:00, 87.94it/s]\n",
      "Training Epoch 73: 100%|██████████| 499/499 [00:05<00:00, 89.18it/s]\n",
      "Training Epoch 74: 100%|██████████| 499/499 [00:05<00:00, 89.57it/s]\n",
      "Training Epoch 75: 100%|██████████| 499/499 [00:05<00:00, 87.58it/s]\n",
      "Training Epoch 76: 100%|██████████| 499/499 [00:05<00:00, 88.46it/s]\n",
      "Training Epoch 77: 100%|██████████| 499/499 [00:05<00:00, 87.55it/s]\n",
      "Training Epoch 78: 100%|██████████| 499/499 [00:05<00:00, 86.36it/s]\n",
      "Training Epoch 79: 100%|██████████| 499/499 [00:05<00:00, 89.26it/s]\n",
      "Training Epoch 80: 100%|██████████| 499/499 [00:05<00:00, 87.50it/s]\n",
      "Training Epoch 81: 100%|██████████| 499/499 [00:05<00:00, 87.87it/s]\n"
     ]
    },
    {
     "name": "stdout",
     "output_type": "stream",
     "text": [
      "Epoch 80 - Train Loss: 0.5504, Train MSE: 0.5504, Train MAE: 0.5506\n",
      "Epoch 80 - Validation Loss: 2.2864, Validation MSE: 2.2868, Validation MAE: 1.1361\n"
     ]
    },
    {
     "name": "stderr",
     "output_type": "stream",
     "text": [
      "Training Epoch 82: 100%|██████████| 499/499 [00:05<00:00, 86.98it/s]\n",
      "Training Epoch 83: 100%|██████████| 499/499 [00:05<00:00, 88.13it/s]\n",
      "Training Epoch 84: 100%|██████████| 499/499 [00:05<00:00, 87.84it/s]\n",
      "Training Epoch 85: 100%|██████████| 499/499 [00:05<00:00, 87.44it/s]\n",
      "Training Epoch 86: 100%|██████████| 499/499 [00:05<00:00, 86.12it/s]\n",
      "Training Epoch 87: 100%|██████████| 499/499 [00:05<00:00, 88.46it/s]\n",
      "Training Epoch 88: 100%|██████████| 499/499 [00:05<00:00, 85.15it/s]\n",
      "Training Epoch 89: 100%|██████████| 499/499 [00:05<00:00, 88.68it/s]\n",
      "Training Epoch 90: 100%|██████████| 499/499 [00:05<00:00, 88.69it/s]\n",
      "Training Epoch 91: 100%|██████████| 499/499 [00:05<00:00, 86.14it/s]\n"
     ]
    },
    {
     "name": "stdout",
     "output_type": "stream",
     "text": [
      "Epoch 90 - Train Loss: 0.4967, Train MSE: 0.4969, Train MAE: 0.5242\n",
      "Epoch 90 - Validation Loss: 2.2497, Validation MSE: 2.2503, Validation MAE: 1.1233\n"
     ]
    },
    {
     "name": "stderr",
     "output_type": "stream",
     "text": [
      "Training Epoch 92: 100%|██████████| 499/499 [00:05<00:00, 89.13it/s]\n",
      "Training Epoch 93: 100%|██████████| 499/499 [00:05<00:00, 88.81it/s]\n",
      "Training Epoch 94: 100%|██████████| 499/499 [00:05<00:00, 86.88it/s]\n",
      "Training Epoch 95: 100%|██████████| 499/499 [00:05<00:00, 90.33it/s]\n",
      "Training Epoch 96: 100%|██████████| 499/499 [00:05<00:00, 84.76it/s]\n",
      "Training Epoch 97: 100%|██████████| 499/499 [00:05<00:00, 87.21it/s]\n",
      "Training Epoch 98: 100%|██████████| 499/499 [00:05<00:00, 86.05it/s]\n",
      "Training Epoch 99: 100%|██████████| 499/499 [00:05<00:00, 85.09it/s]\n",
      "Training Epoch 100: 100%|██████████| 499/499 [00:05<00:00, 88.18it/s]\n",
      "Training Epoch 101: 100%|██████████| 499/499 [00:05<00:00, 89.97it/s]\n"
     ]
    },
    {
     "name": "stdout",
     "output_type": "stream",
     "text": [
      "Epoch 100 - Train Loss: 0.4855, Train MSE: 0.4857, Train MAE: 0.5132\n",
      "Epoch 100 - Validation Loss: 2.3188, Validation MSE: 2.3193, Validation MAE: 1.1316\n"
     ]
    },
    {
     "name": "stderr",
     "output_type": "stream",
     "text": [
      "Training Epoch 102: 100%|██████████| 499/499 [00:05<00:00, 86.74it/s]\n",
      "Training Epoch 103: 100%|██████████| 499/499 [00:05<00:00, 89.18it/s]\n",
      "Training Epoch 104: 100%|██████████| 499/499 [00:05<00:00, 88.25it/s]\n",
      "Training Epoch 105: 100%|██████████| 499/499 [00:05<00:00, 89.54it/s]\n",
      "Training Epoch 106: 100%|██████████| 499/499 [00:05<00:00, 88.08it/s]\n",
      "Training Epoch 107: 100%|██████████| 499/499 [00:05<00:00, 85.64it/s]\n",
      "Training Epoch 108: 100%|██████████| 499/499 [00:05<00:00, 90.91it/s]\n",
      "Training Epoch 109: 100%|██████████| 499/499 [00:05<00:00, 87.55it/s]\n",
      "Training Epoch 110: 100%|██████████| 499/499 [00:05<00:00, 85.78it/s]\n",
      "Training Epoch 111: 100%|██████████| 499/499 [00:05<00:00, 89.20it/s]\n"
     ]
    },
    {
     "name": "stdout",
     "output_type": "stream",
     "text": [
      "Epoch 110 - Train Loss: 0.4348, Train MSE: 0.4340, Train MAE: 0.4887\n",
      "Epoch 110 - Validation Loss: 2.3088, Validation MSE: 2.3095, Validation MAE: 1.1385\n"
     ]
    },
    {
     "name": "stderr",
     "output_type": "stream",
     "text": [
      "Training Epoch 112: 100%|██████████| 499/499 [00:05<00:00, 88.31it/s]\n",
      "Training Epoch 113: 100%|██████████| 499/499 [00:05<00:00, 86.88it/s]\n",
      "Training Epoch 114: 100%|██████████| 499/499 [00:05<00:00, 88.67it/s]\n",
      "Training Epoch 115: 100%|██████████| 499/499 [00:05<00:00, 87.13it/s]\n",
      "Training Epoch 116: 100%|██████████| 499/499 [00:05<00:00, 87.57it/s]\n",
      "Training Epoch 117: 100%|██████████| 499/499 [00:05<00:00, 86.39it/s]\n",
      "Training Epoch 118: 100%|██████████| 499/499 [00:05<00:00, 87.40it/s]\n",
      "Training Epoch 119: 100%|██████████| 499/499 [00:05<00:00, 86.76it/s]\n",
      "Training Epoch 120: 100%|██████████| 499/499 [00:05<00:00, 87.73it/s]\n",
      "Training Epoch 121: 100%|██████████| 499/499 [00:05<00:00, 87.41it/s]\n"
     ]
    },
    {
     "name": "stdout",
     "output_type": "stream",
     "text": [
      "Epoch 120 - Train Loss: 0.4301, Train MSE: 0.4302, Train MAE: 0.4834\n",
      "Epoch 120 - Validation Loss: 2.2482, Validation MSE: 2.2485, Validation MAE: 1.1232\n"
     ]
    },
    {
     "name": "stderr",
     "output_type": "stream",
     "text": [
      "Training Epoch 122: 100%|██████████| 499/499 [00:05<00:00, 89.25it/s]\n",
      "Training Epoch 123: 100%|██████████| 499/499 [00:05<00:00, 86.30it/s]\n",
      "Training Epoch 124: 100%|██████████| 499/499 [00:05<00:00, 89.72it/s]\n",
      "Training Epoch 125: 100%|██████████| 499/499 [00:05<00:00, 87.36it/s]\n",
      "Training Epoch 126: 100%|██████████| 499/499 [00:05<00:00, 87.53it/s]\n",
      "Training Epoch 127: 100%|██████████| 499/499 [00:05<00:00, 88.43it/s]\n",
      "Training Epoch 128: 100%|██████████| 499/499 [00:05<00:00, 87.27it/s]\n",
      "Training Epoch 129: 100%|██████████| 499/499 [00:05<00:00, 84.68it/s]\n",
      "Training Epoch 130: 100%|██████████| 499/499 [00:05<00:00, 86.63it/s]\n",
      "Training Epoch 131: 100%|██████████| 499/499 [00:05<00:00, 87.10it/s]\n"
     ]
    },
    {
     "name": "stdout",
     "output_type": "stream",
     "text": [
      "Epoch 130 - Train Loss: 0.4026, Train MSE: 0.4025, Train MAE: 0.4704\n",
      "Epoch 130 - Validation Loss: 2.2579, Validation MSE: 2.2583, Validation MAE: 1.1268\n"
     ]
    },
    {
     "name": "stderr",
     "output_type": "stream",
     "text": [
      "Training Epoch 132: 100%|██████████| 499/499 [00:05<00:00, 88.71it/s]\n",
      "Training Epoch 133: 100%|██████████| 499/499 [00:05<00:00, 88.31it/s]\n",
      "Training Epoch 134: 100%|██████████| 499/499 [00:05<00:00, 87.10it/s]\n",
      "Training Epoch 135: 100%|██████████| 499/499 [00:05<00:00, 88.16it/s]\n",
      "Training Epoch 136: 100%|██████████| 499/499 [00:05<00:00, 86.26it/s]\n",
      "Training Epoch 137: 100%|██████████| 499/499 [00:05<00:00, 88.13it/s]\n",
      "Training Epoch 138: 100%|██████████| 499/499 [00:05<00:00, 88.09it/s]\n",
      "Training Epoch 139: 100%|██████████| 499/499 [00:05<00:00, 87.60it/s]\n",
      "Training Epoch 140: 100%|██████████| 499/499 [00:05<00:00, 90.01it/s]\n",
      "Training Epoch 141: 100%|██████████| 499/499 [00:05<00:00, 87.95it/s]\n"
     ]
    },
    {
     "name": "stdout",
     "output_type": "stream",
     "text": [
      "Epoch 140 - Train Loss: 0.3961, Train MSE: 0.3963, Train MAE: 0.4608\n",
      "Epoch 140 - Validation Loss: 2.2186, Validation MSE: 2.2186, Validation MAE: 1.1122\n"
     ]
    },
    {
     "name": "stderr",
     "output_type": "stream",
     "text": [
      "Training Epoch 142: 100%|██████████| 499/499 [00:05<00:00, 87.17it/s]\n",
      "Training Epoch 143: 100%|██████████| 499/499 [00:05<00:00, 88.66it/s]\n",
      "Training Epoch 144: 100%|██████████| 499/499 [00:05<00:00, 88.80it/s]\n",
      "Training Epoch 145: 100%|██████████| 499/499 [00:05<00:00, 85.72it/s]\n",
      "Training Epoch 146: 100%|██████████| 499/499 [00:05<00:00, 85.95it/s]\n",
      "Training Epoch 147: 100%|██████████| 499/499 [00:05<00:00, 89.51it/s]\n",
      "Training Epoch 148: 100%|██████████| 499/499 [00:05<00:00, 86.24it/s]\n",
      "Training Epoch 149: 100%|██████████| 499/499 [00:05<00:00, 86.46it/s]\n",
      "Training Epoch 150: 100%|██████████| 499/499 [00:05<00:00, 86.12it/s]\n",
      "Training Epoch 151: 100%|██████████| 499/499 [00:05<00:00, 87.89it/s]\n"
     ]
    },
    {
     "name": "stdout",
     "output_type": "stream",
     "text": [
      "Epoch 150 - Train Loss: 0.3693, Train MSE: 0.3697, Train MAE: 0.4501\n",
      "Epoch 150 - Validation Loss: 2.2692, Validation MSE: 2.2701, Validation MAE: 1.1241\n"
     ]
    },
    {
     "name": "stderr",
     "output_type": "stream",
     "text": [
      "Training Epoch 152: 100%|██████████| 499/499 [00:05<00:00, 87.09it/s]\n",
      "Training Epoch 153: 100%|██████████| 499/499 [00:05<00:00, 87.10it/s]\n",
      "Training Epoch 154: 100%|██████████| 499/499 [00:05<00:00, 89.53it/s]\n",
      "Training Epoch 155: 100%|██████████| 499/499 [00:05<00:00, 90.28it/s]\n",
      "Training Epoch 156: 100%|██████████| 499/499 [00:05<00:00, 86.35it/s]\n",
      "Training Epoch 157: 100%|██████████| 499/499 [00:05<00:00, 87.72it/s]\n",
      "Training Epoch 158: 100%|██████████| 499/499 [00:05<00:00, 86.48it/s]\n",
      "Training Epoch 159: 100%|██████████| 499/499 [00:05<00:00, 86.85it/s]\n",
      "Training Epoch 160: 100%|██████████| 499/499 [00:05<00:00, 87.29it/s]\n",
      "Training Epoch 161: 100%|██████████| 499/499 [00:05<00:00, 88.19it/s]\n"
     ]
    },
    {
     "name": "stdout",
     "output_type": "stream",
     "text": [
      "Epoch 160 - Train Loss: 0.3605, Train MSE: 0.3601, Train MAE: 0.4411\n",
      "Epoch 160 - Validation Loss: 2.2755, Validation MSE: 2.2760, Validation MAE: 1.1244\n"
     ]
    },
    {
     "name": "stderr",
     "output_type": "stream",
     "text": [
      "Training Epoch 162: 100%|██████████| 499/499 [00:05<00:00, 87.46it/s]\n",
      "Training Epoch 163: 100%|██████████| 499/499 [00:05<00:00, 88.64it/s]\n",
      "Training Epoch 164: 100%|██████████| 499/499 [00:05<00:00, 85.23it/s]\n",
      "Training Epoch 165: 100%|██████████| 499/499 [00:05<00:00, 87.87it/s]\n",
      "Training Epoch 166: 100%|██████████| 499/499 [00:06<00:00, 82.44it/s]\n",
      "Training Epoch 167: 100%|██████████| 499/499 [00:05<00:00, 87.57it/s]\n",
      "Training Epoch 168: 100%|██████████| 499/499 [00:05<00:00, 87.84it/s]\n",
      "Training Epoch 169: 100%|██████████| 499/499 [00:05<00:00, 86.97it/s]\n",
      "Training Epoch 170: 100%|██████████| 499/499 [00:05<00:00, 86.59it/s]\n",
      "Training Epoch 171: 100%|██████████| 499/499 [00:05<00:00, 86.50it/s]\n"
     ]
    },
    {
     "name": "stdout",
     "output_type": "stream",
     "text": [
      "Epoch 170 - Train Loss: 0.3426, Train MSE: 0.3427, Train MAE: 0.4322\n",
      "Epoch 170 - Validation Loss: 2.2588, Validation MSE: 2.2595, Validation MAE: 1.1221\n"
     ]
    },
    {
     "name": "stderr",
     "output_type": "stream",
     "text": [
      "Training Epoch 172: 100%|██████████| 499/499 [00:05<00:00, 86.25it/s]\n",
      "Training Epoch 173: 100%|██████████| 499/499 [00:05<00:00, 88.04it/s]\n",
      "Training Epoch 174: 100%|██████████| 499/499 [00:05<00:00, 86.81it/s]\n",
      "Training Epoch 175: 100%|██████████| 499/499 [00:05<00:00, 88.86it/s]\n",
      "Training Epoch 176: 100%|██████████| 499/499 [00:05<00:00, 88.86it/s]\n",
      "Training Epoch 177: 100%|██████████| 499/499 [00:05<00:00, 86.92it/s]\n",
      "Training Epoch 178: 100%|██████████| 499/499 [00:05<00:00, 87.47it/s]\n",
      "Training Epoch 179: 100%|██████████| 499/499 [00:05<00:00, 88.08it/s]\n",
      "Training Epoch 180: 100%|██████████| 499/499 [00:05<00:00, 86.53it/s]\n",
      "Training Epoch 181: 100%|██████████| 499/499 [00:05<00:00, 89.67it/s]\n"
     ]
    },
    {
     "name": "stdout",
     "output_type": "stream",
     "text": [
      "Epoch 180 - Train Loss: 0.3384, Train MSE: 0.3388, Train MAE: 0.4272\n",
      "Epoch 180 - Validation Loss: 2.2558, Validation MSE: 2.2570, Validation MAE: 1.1173\n"
     ]
    },
    {
     "name": "stderr",
     "output_type": "stream",
     "text": [
      "Training Epoch 182: 100%|██████████| 499/499 [00:05<00:00, 87.85it/s]\n",
      "Training Epoch 183: 100%|██████████| 499/499 [00:05<00:00, 88.84it/s] \n",
      "Training Epoch 184: 100%|██████████| 499/499 [00:05<00:00, 87.49it/s]\n",
      "Training Epoch 185: 100%|██████████| 499/499 [00:05<00:00, 86.16it/s]\n",
      "Training Epoch 186: 100%|██████████| 499/499 [00:05<00:00, 90.80it/s] \n",
      "Training Epoch 187: 100%|██████████| 499/499 [00:05<00:00, 88.18it/s]\n",
      "Training Epoch 188: 100%|██████████| 499/499 [00:05<00:00, 87.93it/s]\n",
      "Training Epoch 189: 100%|██████████| 499/499 [00:05<00:00, 88.54it/s]\n",
      "Training Epoch 190: 100%|██████████| 499/499 [00:05<00:00, 87.85it/s]\n",
      "Training Epoch 191: 100%|██████████| 499/499 [00:05<00:00, 86.89it/s]\n"
     ]
    },
    {
     "name": "stdout",
     "output_type": "stream",
     "text": [
      "Epoch 190 - Train Loss: 0.3210, Train MSE: 0.3210, Train MAE: 0.4178\n",
      "Epoch 190 - Validation Loss: 2.2543, Validation MSE: 2.2550, Validation MAE: 1.1189\n"
     ]
    },
    {
     "name": "stderr",
     "output_type": "stream",
     "text": [
      "Training Epoch 192: 100%|██████████| 499/499 [00:05<00:00, 88.08it/s]\n",
      "Training Epoch 193: 100%|██████████| 499/499 [00:05<00:00, 86.35it/s]\n",
      "Training Epoch 194: 100%|██████████| 499/499 [00:05<00:00, 88.02it/s]\n",
      "Training Epoch 195: 100%|██████████| 499/499 [00:05<00:00, 87.57it/s]\n",
      "Training Epoch 196: 100%|██████████| 499/499 [00:05<00:00, 86.28it/s]\n",
      "Training Epoch 197: 100%|██████████| 499/499 [00:05<00:00, 88.93it/s]\n",
      "Training Epoch 198: 100%|██████████| 499/499 [00:05<00:00, 87.27it/s]\n",
      "Training Epoch 199: 100%|██████████| 499/499 [00:05<00:00, 88.43it/s]\n",
      "Training Epoch 200: 100%|██████████| 499/499 [00:05<00:00, 89.90it/s]\n",
      "Training Epoch 201: 100%|██████████| 499/499 [00:05<00:00, 89.02it/s]\n"
     ]
    },
    {
     "name": "stdout",
     "output_type": "stream",
     "text": [
      "Epoch 200 - Train Loss: 0.3412, Train MSE: 0.3407, Train MAE: 0.4241\n",
      "Epoch 200 - Validation Loss: 2.2718, Validation MSE: 2.2727, Validation MAE: 1.1229\n"
     ]
    },
    {
     "name": "stderr",
     "output_type": "stream",
     "text": [
      "Training Epoch 202: 100%|██████████| 499/499 [00:05<00:00, 87.57it/s]\n",
      "Training Epoch 203: 100%|██████████| 499/499 [00:05<00:00, 87.07it/s]\n",
      "Training Epoch 204: 100%|██████████| 499/499 [00:05<00:00, 86.18it/s]\n",
      "Training Epoch 205: 100%|██████████| 499/499 [00:05<00:00, 87.31it/s]\n",
      "Training Epoch 206: 100%|██████████| 499/499 [00:05<00:00, 87.74it/s]\n",
      "Training Epoch 207: 100%|██████████| 499/499 [00:05<00:00, 86.47it/s]\n",
      "Training Epoch 208: 100%|██████████| 499/499 [00:05<00:00, 87.65it/s]\n",
      "Training Epoch 209: 100%|██████████| 499/499 [00:05<00:00, 87.14it/s]\n",
      "Training Epoch 210: 100%|██████████| 499/499 [00:05<00:00, 88.02it/s]\n",
      "Training Epoch 211: 100%|██████████| 499/499 [00:05<00:00, 88.27it/s]\n"
     ]
    },
    {
     "name": "stdout",
     "output_type": "stream",
     "text": [
      "Epoch 210 - Train Loss: 0.3092, Train MSE: 0.3089, Train MAE: 0.4084\n",
      "Epoch 210 - Validation Loss: 2.2485, Validation MSE: 2.2497, Validation MAE: 1.1162\n"
     ]
    },
    {
     "name": "stderr",
     "output_type": "stream",
     "text": [
      "Training Epoch 212: 100%|██████████| 499/499 [00:05<00:00, 87.71it/s]\n",
      "Training Epoch 213: 100%|██████████| 499/499 [00:05<00:00, 88.91it/s]\n",
      "Training Epoch 214: 100%|██████████| 499/499 [00:05<00:00, 86.89it/s]\n",
      "Training Epoch 215: 100%|██████████| 499/499 [00:05<00:00, 87.61it/s]\n",
      "Training Epoch 216: 100%|██████████| 499/499 [00:05<00:00, 87.35it/s]\n",
      "Training Epoch 217: 100%|██████████| 499/499 [00:05<00:00, 89.65it/s]\n",
      "Training Epoch 218: 100%|██████████| 499/499 [00:05<00:00, 86.34it/s]\n",
      "Training Epoch 219: 100%|██████████| 499/499 [00:05<00:00, 86.86it/s]\n",
      "Training Epoch 220: 100%|██████████| 499/499 [00:05<00:00, 87.18it/s]\n",
      "Training Epoch 221: 100%|██████████| 499/499 [00:05<00:00, 87.13it/s]\n"
     ]
    },
    {
     "name": "stdout",
     "output_type": "stream",
     "text": [
      "Epoch 220 - Train Loss: 0.2986, Train MSE: 0.2987, Train MAE: 0.3996\n",
      "Epoch 220 - Validation Loss: 2.1753, Validation MSE: 2.1758, Validation MAE: 1.1004\n"
     ]
    },
    {
     "name": "stderr",
     "output_type": "stream",
     "text": [
      "Training Epoch 222: 100%|██████████| 499/499 [00:05<00:00, 87.51it/s]\n",
      "Training Epoch 223: 100%|██████████| 499/499 [00:05<00:00, 86.87it/s]\n",
      "Training Epoch 224: 100%|██████████| 499/499 [00:05<00:00, 88.69it/s]\n",
      "Training Epoch 225: 100%|██████████| 499/499 [00:05<00:00, 87.37it/s]\n",
      "Training Epoch 226: 100%|██████████| 499/499 [00:05<00:00, 85.40it/s]\n",
      "Training Epoch 227: 100%|██████████| 499/499 [00:05<00:00, 88.10it/s]\n",
      "Training Epoch 228: 100%|██████████| 499/499 [00:05<00:00, 89.40it/s]\n",
      "Training Epoch 229: 100%|██████████| 499/499 [00:05<00:00, 89.17it/s]\n",
      "Training Epoch 230: 100%|██████████| 499/499 [00:05<00:00, 88.35it/s]\n",
      "Training Epoch 231: 100%|██████████| 499/499 [00:05<00:00, 89.25it/s]\n"
     ]
    },
    {
     "name": "stdout",
     "output_type": "stream",
     "text": [
      "Epoch 230 - Train Loss: 0.2985, Train MSE: 0.2984, Train MAE: 0.4015\n",
      "Epoch 230 - Validation Loss: 2.2150, Validation MSE: 2.2156, Validation MAE: 1.1108\n"
     ]
    },
    {
     "name": "stderr",
     "output_type": "stream",
     "text": [
      "Training Epoch 232: 100%|██████████| 499/499 [00:05<00:00, 87.36it/s]\n",
      "Training Epoch 233: 100%|██████████| 499/499 [00:05<00:00, 90.39it/s]\n",
      "Training Epoch 234: 100%|██████████| 499/499 [00:05<00:00, 85.59it/s]\n",
      "Training Epoch 235: 100%|██████████| 499/499 [00:05<00:00, 88.44it/s]\n",
      "Training Epoch 236: 100%|██████████| 499/499 [00:05<00:00, 90.13it/s]\n",
      "Training Epoch 237: 100%|██████████| 499/499 [00:05<00:00, 86.41it/s]\n",
      "Training Epoch 238: 100%|██████████| 499/499 [00:05<00:00, 87.53it/s]\n",
      "Training Epoch 239: 100%|██████████| 499/499 [00:05<00:00, 85.46it/s]\n",
      "Training Epoch 240: 100%|██████████| 499/499 [00:05<00:00, 87.22it/s]\n",
      "Training Epoch 241: 100%|██████████| 499/499 [00:05<00:00, 88.37it/s]\n"
     ]
    },
    {
     "name": "stdout",
     "output_type": "stream",
     "text": [
      "Epoch 240 - Train Loss: 0.2915, Train MSE: 0.2915, Train MAE: 0.3939\n",
      "Epoch 240 - Validation Loss: 2.2244, Validation MSE: 2.2250, Validation MAE: 1.1078\n"
     ]
    },
    {
     "name": "stderr",
     "output_type": "stream",
     "text": [
      "Training Epoch 242: 100%|██████████| 499/499 [00:05<00:00, 85.75it/s]\n",
      "Training Epoch 243: 100%|██████████| 499/499 [00:05<00:00, 88.42it/s]\n",
      "Training Epoch 244: 100%|██████████| 499/499 [00:05<00:00, 88.66it/s]\n",
      "Training Epoch 245: 100%|██████████| 499/499 [00:05<00:00, 86.31it/s]\n",
      "Training Epoch 246: 100%|██████████| 499/499 [00:05<00:00, 91.03it/s]\n",
      "Training Epoch 247: 100%|██████████| 499/499 [00:05<00:00, 86.58it/s]\n",
      "Training Epoch 248: 100%|██████████| 499/499 [00:05<00:00, 89.23it/s]\n",
      "Training Epoch 249: 100%|██████████| 499/499 [00:05<00:00, 89.79it/s]\n",
      "Training Epoch 250: 100%|██████████| 499/499 [00:05<00:00, 87.40it/s]\n",
      "Training Epoch 251: 100%|██████████| 499/499 [00:05<00:00, 87.94it/s]\n"
     ]
    },
    {
     "name": "stdout",
     "output_type": "stream",
     "text": [
      "Epoch 250 - Train Loss: 0.2892, Train MSE: 0.2892, Train MAE: 0.3921\n",
      "Epoch 250 - Validation Loss: 2.2397, Validation MSE: 2.2399, Validation MAE: 1.1198\n"
     ]
    },
    {
     "name": "stderr",
     "output_type": "stream",
     "text": [
      "Training Epoch 252: 100%|██████████| 499/499 [00:05<00:00, 86.18it/s]\n",
      "Training Epoch 253: 100%|██████████| 499/499 [00:05<00:00, 87.02it/s]\n",
      "Training Epoch 254: 100%|██████████| 499/499 [00:05<00:00, 87.19it/s]\n",
      "Training Epoch 255: 100%|██████████| 499/499 [00:05<00:00, 87.83it/s]\n",
      "Training Epoch 256: 100%|██████████| 499/499 [00:05<00:00, 85.97it/s]\n",
      "Training Epoch 257: 100%|██████████| 499/499 [00:05<00:00, 86.34it/s]\n",
      "Training Epoch 258: 100%|██████████| 499/499 [00:05<00:00, 87.47it/s]\n",
      "Training Epoch 259: 100%|██████████| 499/499 [00:05<00:00, 88.59it/s]\n",
      "Training Epoch 260: 100%|██████████| 499/499 [00:05<00:00, 87.32it/s]\n",
      "Training Epoch 261: 100%|██████████| 499/499 [00:05<00:00, 87.22it/s]\n"
     ]
    },
    {
     "name": "stdout",
     "output_type": "stream",
     "text": [
      "Epoch 260 - Train Loss: 0.2734, Train MSE: 0.2735, Train MAE: 0.3828\n",
      "Epoch 260 - Validation Loss: 2.2669, Validation MSE: 2.2678, Validation MAE: 1.1185\n"
     ]
    },
    {
     "name": "stderr",
     "output_type": "stream",
     "text": [
      "Training Epoch 262: 100%|██████████| 499/499 [00:05<00:00, 89.86it/s]\n",
      "Training Epoch 263: 100%|██████████| 499/499 [00:05<00:00, 89.34it/s]\n",
      "Training Epoch 264: 100%|██████████| 499/499 [00:05<00:00, 88.23it/s]\n",
      "Training Epoch 265: 100%|██████████| 499/499 [00:05<00:00, 87.03it/s]\n",
      "Training Epoch 266: 100%|██████████| 499/499 [00:05<00:00, 86.61it/s]\n",
      "Training Epoch 267: 100%|██████████| 499/499 [00:05<00:00, 88.22it/s]\n",
      "Training Epoch 268: 100%|██████████| 499/499 [00:05<00:00, 87.51it/s]\n",
      "Training Epoch 269: 100%|██████████| 499/499 [00:05<00:00, 86.62it/s]\n",
      "Training Epoch 270: 100%|██████████| 499/499 [00:05<00:00, 84.31it/s]\n",
      "Training Epoch 271: 100%|██████████| 499/499 [00:05<00:00, 87.76it/s]\n"
     ]
    },
    {
     "name": "stdout",
     "output_type": "stream",
     "text": [
      "Epoch 270 - Train Loss: 0.2674, Train MSE: 0.2676, Train MAE: 0.3776\n",
      "Epoch 270 - Validation Loss: 2.2030, Validation MSE: 2.2035, Validation MAE: 1.0936\n"
     ]
    },
    {
     "name": "stderr",
     "output_type": "stream",
     "text": [
      "Training Epoch 272: 100%|██████████| 499/499 [00:05<00:00, 87.44it/s]\n",
      "Training Epoch 273: 100%|██████████| 499/499 [00:05<00:00, 89.48it/s]\n",
      "Training Epoch 274: 100%|██████████| 499/499 [00:05<00:00, 86.01it/s]\n",
      "Training Epoch 275: 100%|██████████| 499/499 [00:05<00:00, 88.20it/s]\n",
      "Training Epoch 276: 100%|██████████| 499/499 [00:05<00:00, 88.25it/s]\n",
      "Training Epoch 277: 100%|██████████| 499/499 [00:05<00:00, 87.63it/s]\n",
      "Training Epoch 278: 100%|██████████| 499/499 [00:05<00:00, 87.83it/s]\n",
      "Training Epoch 279: 100%|██████████| 499/499 [00:05<00:00, 88.82it/s]\n",
      "Training Epoch 280: 100%|██████████| 499/499 [00:05<00:00, 87.17it/s]\n",
      "Training Epoch 281: 100%|██████████| 499/499 [00:05<00:00, 88.34it/s]\n"
     ]
    },
    {
     "name": "stdout",
     "output_type": "stream",
     "text": [
      "Epoch 280 - Train Loss: 0.2565, Train MSE: 0.2565, Train MAE: 0.3718\n",
      "Epoch 280 - Validation Loss: 2.2603, Validation MSE: 2.2606, Validation MAE: 1.1193\n"
     ]
    },
    {
     "name": "stderr",
     "output_type": "stream",
     "text": [
      "Training Epoch 282: 100%|██████████| 499/499 [00:05<00:00, 87.81it/s]\n",
      "Training Epoch 283: 100%|██████████| 499/499 [00:05<00:00, 87.37it/s]\n",
      "Training Epoch 284: 100%|██████████| 499/499 [00:05<00:00, 86.93it/s]\n",
      "Training Epoch 285: 100%|██████████| 499/499 [00:05<00:00, 86.29it/s]\n",
      "Training Epoch 286: 100%|██████████| 499/499 [00:05<00:00, 88.18it/s]\n",
      "Training Epoch 287: 100%|██████████| 499/499 [00:05<00:00, 87.21it/s]\n",
      "Training Epoch 288: 100%|██████████| 499/499 [00:05<00:00, 86.30it/s]\n",
      "Training Epoch 289: 100%|██████████| 499/499 [00:05<00:00, 89.79it/s]\n",
      "Training Epoch 290: 100%|██████████| 499/499 [00:05<00:00, 87.97it/s]\n",
      "Training Epoch 291: 100%|██████████| 499/499 [00:05<00:00, 83.97it/s]\n"
     ]
    },
    {
     "name": "stdout",
     "output_type": "stream",
     "text": [
      "Epoch 290 - Train Loss: 0.2621, Train MSE: 0.2623, Train MAE: 0.3737\n",
      "Epoch 290 - Validation Loss: 2.1753, Validation MSE: 2.1752, Validation MAE: 1.0927\n"
     ]
    },
    {
     "name": "stderr",
     "output_type": "stream",
     "text": [
      "Training Epoch 292: 100%|██████████| 499/499 [00:05<00:00, 87.84it/s]\n",
      "Training Epoch 293: 100%|██████████| 499/499 [00:05<00:00, 89.00it/s]\n",
      "Training Epoch 294: 100%|██████████| 499/499 [00:05<00:00, 86.18it/s]\n",
      "Training Epoch 295: 100%|██████████| 499/499 [00:05<00:00, 88.57it/s]\n",
      "Training Epoch 296: 100%|██████████| 499/499 [00:05<00:00, 87.95it/s]\n",
      "Training Epoch 297: 100%|██████████| 499/499 [00:05<00:00, 88.94it/s]\n",
      "Training Epoch 298: 100%|██████████| 499/499 [00:05<00:00, 88.75it/s]\n",
      "Training Epoch 299: 100%|██████████| 499/499 [00:05<00:00, 85.48it/s]\n",
      "Training Epoch 300: 100%|██████████| 499/499 [00:05<00:00, 87.13it/s]\n",
      "Training Epoch 301: 100%|██████████| 499/499 [00:05<00:00, 85.92it/s]\n"
     ]
    },
    {
     "name": "stdout",
     "output_type": "stream",
     "text": [
      "Epoch 300 - Train Loss: 0.2592, Train MSE: 0.2594, Train MAE: 0.3688\n",
      "Epoch 300 - Validation Loss: 2.2004, Validation MSE: 2.2014, Validation MAE: 1.1027\n"
     ]
    },
    {
     "name": "stderr",
     "output_type": "stream",
     "text": [
      "Training Epoch 302: 100%|██████████| 499/499 [00:05<00:00, 88.66it/s]\n",
      "Training Epoch 303: 100%|██████████| 499/499 [00:05<00:00, 88.43it/s]\n",
      "Training Epoch 304: 100%|██████████| 499/499 [00:06<00:00, 82.81it/s]\n",
      "Training Epoch 305: 100%|██████████| 499/499 [00:05<00:00, 87.88it/s]\n",
      "Training Epoch 306: 100%|██████████| 499/499 [00:05<00:00, 89.47it/s]\n",
      "Training Epoch 307: 100%|██████████| 499/499 [00:05<00:00, 85.54it/s]\n",
      "Training Epoch 308: 100%|██████████| 499/499 [00:05<00:00, 86.33it/s]\n",
      "Training Epoch 309: 100%|██████████| 499/499 [00:05<00:00, 87.82it/s]\n",
      "Training Epoch 310: 100%|██████████| 499/499 [00:05<00:00, 90.43it/s]\n",
      "Training Epoch 311: 100%|██████████| 499/499 [00:05<00:00, 88.37it/s]\n"
     ]
    },
    {
     "name": "stdout",
     "output_type": "stream",
     "text": [
      "Epoch 310 - Train Loss: 0.2547, Train MSE: 0.2546, Train MAE: 0.3694\n",
      "Epoch 310 - Validation Loss: 2.2233, Validation MSE: 2.2237, Validation MAE: 1.1085\n"
     ]
    },
    {
     "name": "stderr",
     "output_type": "stream",
     "text": [
      "Training Epoch 312: 100%|██████████| 499/499 [00:05<00:00, 86.45it/s]\n",
      "Training Epoch 313: 100%|██████████| 499/499 [00:05<00:00, 88.06it/s]\n",
      "Training Epoch 314: 100%|██████████| 499/499 [00:05<00:00, 89.12it/s]\n",
      "Training Epoch 315: 100%|██████████| 499/499 [00:05<00:00, 87.12it/s]\n",
      "Training Epoch 316: 100%|██████████| 499/499 [00:05<00:00, 86.74it/s]\n",
      "Training Epoch 317: 100%|██████████| 499/499 [00:05<00:00, 87.85it/s]\n",
      "Training Epoch 318: 100%|██████████| 499/499 [00:05<00:00, 86.63it/s]\n",
      "Training Epoch 319: 100%|██████████| 499/499 [00:05<00:00, 88.00it/s]\n",
      "Training Epoch 320: 100%|██████████| 499/499 [00:05<00:00, 85.48it/s]\n",
      "Training Epoch 321: 100%|██████████| 499/499 [00:05<00:00, 88.38it/s]\n"
     ]
    },
    {
     "name": "stdout",
     "output_type": "stream",
     "text": [
      "Epoch 320 - Train Loss: 0.2523, Train MSE: 0.2516, Train MAE: 0.3651\n",
      "Epoch 320 - Validation Loss: 2.1775, Validation MSE: 2.1779, Validation MAE: 1.0935\n"
     ]
    },
    {
     "name": "stderr",
     "output_type": "stream",
     "text": [
      "Training Epoch 322: 100%|██████████| 499/499 [00:05<00:00, 89.13it/s]\n",
      "Training Epoch 323: 100%|██████████| 499/499 [00:05<00:00, 87.27it/s]\n",
      "Training Epoch 324: 100%|██████████| 499/499 [00:05<00:00, 88.31it/s]\n",
      "Training Epoch 325: 100%|██████████| 499/499 [00:05<00:00, 88.40it/s]\n",
      "Training Epoch 326: 100%|██████████| 499/499 [00:05<00:00, 87.22it/s]\n",
      "Training Epoch 327: 100%|██████████| 499/499 [00:05<00:00, 87.51it/s]\n",
      "Training Epoch 328: 100%|██████████| 499/499 [00:05<00:00, 87.06it/s]\n",
      "Training Epoch 329: 100%|██████████| 499/499 [00:05<00:00, 89.27it/s]\n",
      "Training Epoch 330: 100%|██████████| 499/499 [00:05<00:00, 87.18it/s]\n",
      "Training Epoch 331: 100%|██████████| 499/499 [00:05<00:00, 86.58it/s]\n"
     ]
    },
    {
     "name": "stdout",
     "output_type": "stream",
     "text": [
      "Epoch 330 - Train Loss: 0.2415, Train MSE: 0.2416, Train MAE: 0.3606\n",
      "Epoch 330 - Validation Loss: 2.1861, Validation MSE: 2.1867, Validation MAE: 1.0967\n"
     ]
    },
    {
     "name": "stderr",
     "output_type": "stream",
     "text": [
      "Training Epoch 332: 100%|██████████| 499/499 [00:05<00:00, 91.27it/s]\n",
      "Training Epoch 333: 100%|██████████| 499/499 [00:05<00:00, 88.05it/s]\n",
      "Training Epoch 334: 100%|██████████| 499/499 [00:05<00:00, 88.66it/s]\n",
      "Training Epoch 335: 100%|██████████| 499/499 [00:05<00:00, 88.07it/s]\n",
      "Training Epoch 336: 100%|██████████| 499/499 [00:05<00:00, 86.78it/s]\n",
      "Training Epoch 337: 100%|██████████| 499/499 [00:05<00:00, 86.44it/s]\n",
      "Training Epoch 338: 100%|██████████| 499/499 [00:05<00:00, 87.96it/s]\n",
      "Training Epoch 339: 100%|██████████| 499/499 [00:05<00:00, 87.77it/s]\n",
      "Training Epoch 340: 100%|██████████| 499/499 [00:05<00:00, 88.80it/s]\n",
      "Training Epoch 341: 100%|██████████| 499/499 [00:05<00:00, 88.22it/s]\n"
     ]
    },
    {
     "name": "stdout",
     "output_type": "stream",
     "text": [
      "Epoch 340 - Train Loss: 0.2370, Train MSE: 0.2372, Train MAE: 0.3561\n",
      "Epoch 340 - Validation Loss: 2.2032, Validation MSE: 2.2038, Validation MAE: 1.1059\n"
     ]
    },
    {
     "name": "stderr",
     "output_type": "stream",
     "text": [
      "Training Epoch 342: 100%|██████████| 499/499 [00:05<00:00, 86.54it/s]\n",
      "Training Epoch 343: 100%|██████████| 499/499 [00:05<00:00, 84.71it/s]\n",
      "Training Epoch 344: 100%|██████████| 499/499 [00:05<00:00, 88.66it/s]\n",
      "Training Epoch 345: 100%|██████████| 499/499 [00:05<00:00, 86.96it/s]\n",
      "Training Epoch 346: 100%|██████████| 499/499 [00:05<00:00, 86.60it/s]\n",
      "Training Epoch 347: 100%|██████████| 499/499 [00:05<00:00, 87.17it/s]\n",
      "Training Epoch 348: 100%|██████████| 499/499 [00:05<00:00, 89.17it/s]\n",
      "Training Epoch 349: 100%|██████████| 499/499 [00:05<00:00, 87.69it/s]\n",
      "Training Epoch 350: 100%|██████████| 499/499 [00:05<00:00, 85.45it/s]\n",
      "Training Epoch 351: 100%|██████████| 499/499 [00:05<00:00, 88.81it/s]\n"
     ]
    },
    {
     "name": "stdout",
     "output_type": "stream",
     "text": [
      "Epoch 350 - Train Loss: 0.2373, Train MSE: 0.2367, Train MAE: 0.3540\n",
      "Epoch 350 - Validation Loss: 2.1767, Validation MSE: 2.1774, Validation MAE: 1.0967\n"
     ]
    },
    {
     "name": "stderr",
     "output_type": "stream",
     "text": [
      "Training Epoch 352: 100%|██████████| 499/499 [00:05<00:00, 85.92it/s]\n",
      "Training Epoch 353: 100%|██████████| 499/499 [00:05<00:00, 85.54it/s]\n",
      "Training Epoch 354: 100%|██████████| 499/499 [00:05<00:00, 86.64it/s]\n",
      "Training Epoch 355: 100%|██████████| 499/499 [00:05<00:00, 88.39it/s]\n",
      "Training Epoch 356: 100%|██████████| 499/499 [00:05<00:00, 87.88it/s]\n",
      "Training Epoch 357: 100%|██████████| 499/499 [00:05<00:00, 87.21it/s]\n",
      "Training Epoch 358: 100%|██████████| 499/499 [00:05<00:00, 87.70it/s]\n",
      "Training Epoch 359: 100%|██████████| 499/499 [00:05<00:00, 89.65it/s]\n",
      "Training Epoch 360: 100%|██████████| 499/499 [00:05<00:00, 87.80it/s]\n",
      "Training Epoch 361: 100%|██████████| 499/499 [00:05<00:00, 86.33it/s]\n"
     ]
    },
    {
     "name": "stdout",
     "output_type": "stream",
     "text": [
      "Epoch 360 - Train Loss: 0.2389, Train MSE: 0.2389, Train MAE: 0.3514\n",
      "Epoch 360 - Validation Loss: 2.1792, Validation MSE: 2.1799, Validation MAE: 1.0971\n"
     ]
    },
    {
     "name": "stderr",
     "output_type": "stream",
     "text": [
      "Training Epoch 362: 100%|██████████| 499/499 [00:06<00:00, 82.28it/s]\n",
      "Training Epoch 363: 100%|██████████| 499/499 [00:05<00:00, 84.77it/s]\n",
      "Training Epoch 364: 100%|██████████| 499/499 [00:05<00:00, 88.35it/s]\n",
      "Training Epoch 365: 100%|██████████| 499/499 [00:05<00:00, 88.94it/s]\n",
      "Training Epoch 366: 100%|██████████| 499/499 [00:05<00:00, 86.69it/s]\n",
      "Training Epoch 367: 100%|██████████| 499/499 [00:05<00:00, 87.03it/s]\n",
      "Training Epoch 368: 100%|██████████| 499/499 [00:05<00:00, 86.63it/s]\n",
      "Training Epoch 369: 100%|██████████| 499/499 [00:05<00:00, 86.39it/s]\n",
      "Training Epoch 370: 100%|██████████| 499/499 [00:05<00:00, 87.28it/s]\n",
      "Training Epoch 371: 100%|██████████| 499/499 [00:05<00:00, 86.36it/s]\n"
     ]
    },
    {
     "name": "stdout",
     "output_type": "stream",
     "text": [
      "Epoch 370 - Train Loss: 0.2198, Train MSE: 0.2197, Train MAE: 0.3409\n",
      "Epoch 370 - Validation Loss: 2.1664, Validation MSE: 2.1668, Validation MAE: 1.0854\n"
     ]
    },
    {
     "name": "stderr",
     "output_type": "stream",
     "text": [
      "Training Epoch 372: 100%|██████████| 499/499 [00:05<00:00, 87.24it/s]\n",
      "Training Epoch 373: 100%|██████████| 499/499 [00:05<00:00, 89.46it/s]\n",
      "Training Epoch 374: 100%|██████████| 499/499 [00:05<00:00, 86.58it/s]\n",
      "Training Epoch 375: 100%|██████████| 499/499 [00:05<00:00, 89.39it/s]\n",
      "Training Epoch 376: 100%|██████████| 499/499 [00:05<00:00, 87.47it/s]\n",
      "Training Epoch 377: 100%|██████████| 499/499 [00:05<00:00, 86.81it/s]\n",
      "Training Epoch 378: 100%|██████████| 499/499 [00:05<00:00, 87.97it/s]\n",
      "Training Epoch 379: 100%|██████████| 499/499 [00:05<00:00, 84.65it/s]\n",
      "Training Epoch 380: 100%|██████████| 499/499 [00:05<00:00, 88.68it/s]\n",
      "Training Epoch 381: 100%|██████████| 499/499 [00:05<00:00, 86.80it/s]\n"
     ]
    },
    {
     "name": "stdout",
     "output_type": "stream",
     "text": [
      "Epoch 380 - Train Loss: 0.2242, Train MSE: 0.2243, Train MAE: 0.3422\n",
      "Epoch 380 - Validation Loss: 2.1941, Validation MSE: 2.1945, Validation MAE: 1.0978\n"
     ]
    },
    {
     "name": "stderr",
     "output_type": "stream",
     "text": [
      "Training Epoch 382: 100%|██████████| 499/499 [00:06<00:00, 83.07it/s]\n",
      "Training Epoch 383: 100%|██████████| 499/499 [00:05<00:00, 87.83it/s]\n",
      "Training Epoch 384: 100%|██████████| 499/499 [00:05<00:00, 87.89it/s]\n",
      "Training Epoch 385: 100%|██████████| 499/499 [00:05<00:00, 86.37it/s]\n",
      "Training Epoch 386: 100%|██████████| 499/499 [00:05<00:00, 87.15it/s]\n",
      "Training Epoch 387: 100%|██████████| 499/499 [00:05<00:00, 85.22it/s]\n",
      "Training Epoch 388: 100%|██████████| 499/499 [00:05<00:00, 87.94it/s]\n",
      "Training Epoch 389: 100%|██████████| 499/499 [00:05<00:00, 88.68it/s]\n",
      "Training Epoch 390: 100%|██████████| 499/499 [00:05<00:00, 84.53it/s]\n",
      "Training Epoch 391: 100%|██████████| 499/499 [00:05<00:00, 87.02it/s]\n"
     ]
    },
    {
     "name": "stdout",
     "output_type": "stream",
     "text": [
      "Epoch 390 - Train Loss: 0.2171, Train MSE: 0.2173, Train MAE: 0.3391\n",
      "Epoch 390 - Validation Loss: 2.1586, Validation MSE: 2.1591, Validation MAE: 1.0867\n"
     ]
    },
    {
     "name": "stderr",
     "output_type": "stream",
     "text": [
      "Training Epoch 392: 100%|██████████| 499/499 [00:05<00:00, 86.96it/s]\n",
      "Training Epoch 393: 100%|██████████| 499/499 [00:05<00:00, 85.97it/s]\n",
      "Training Epoch 394: 100%|██████████| 499/499 [00:05<00:00, 89.34it/s]\n",
      "Training Epoch 395: 100%|██████████| 499/499 [00:05<00:00, 88.12it/s]\n",
      "Training Epoch 396: 100%|██████████| 499/499 [00:05<00:00, 88.60it/s]\n",
      "Training Epoch 397: 100%|██████████| 499/499 [00:05<00:00, 89.41it/s]\n",
      "Training Epoch 398: 100%|██████████| 499/499 [00:05<00:00, 86.71it/s]\n",
      "Training Epoch 399: 100%|██████████| 499/499 [00:05<00:00, 87.34it/s]\n",
      "Training Epoch 400: 100%|██████████| 499/499 [00:05<00:00, 88.26it/s]\n",
      "Training Epoch 401: 100%|██████████| 499/499 [00:05<00:00, 85.87it/s]\n"
     ]
    },
    {
     "name": "stdout",
     "output_type": "stream",
     "text": [
      "Epoch 400 - Train Loss: 0.2200, Train MSE: 0.2199, Train MAE: 0.3386\n",
      "Epoch 400 - Validation Loss: 2.1523, Validation MSE: 2.1526, Validation MAE: 1.0874\n"
     ]
    },
    {
     "name": "stderr",
     "output_type": "stream",
     "text": [
      "Training Epoch 402: 100%|██████████| 499/499 [00:05<00:00, 86.66it/s]\n",
      "Training Epoch 403: 100%|██████████| 499/499 [00:05<00:00, 87.90it/s]\n",
      "Training Epoch 404: 100%|██████████| 499/499 [00:05<00:00, 86.97it/s]\n",
      "Training Epoch 405: 100%|██████████| 499/499 [00:05<00:00, 88.57it/s]\n",
      "Training Epoch 406: 100%|██████████| 499/499 [00:05<00:00, 87.97it/s]\n",
      "Training Epoch 407: 100%|██████████| 499/499 [00:05<00:00, 86.02it/s]\n",
      "Training Epoch 408: 100%|██████████| 499/499 [00:05<00:00, 85.37it/s]\n",
      "Training Epoch 409: 100%|██████████| 499/499 [00:05<00:00, 85.91it/s]\n",
      "Training Epoch 410: 100%|██████████| 499/499 [00:05<00:00, 88.51it/s]\n",
      "Training Epoch 411: 100%|██████████| 499/499 [00:05<00:00, 85.02it/s]\n"
     ]
    },
    {
     "name": "stdout",
     "output_type": "stream",
     "text": [
      "Epoch 410 - Train Loss: 0.2172, Train MSE: 0.2169, Train MAE: 0.3378\n",
      "Epoch 410 - Validation Loss: 2.1562, Validation MSE: 2.1566, Validation MAE: 1.0922\n"
     ]
    },
    {
     "name": "stderr",
     "output_type": "stream",
     "text": [
      "Training Epoch 412: 100%|██████████| 499/499 [00:05<00:00, 85.50it/s]\n",
      "Training Epoch 413: 100%|██████████| 499/499 [00:05<00:00, 90.18it/s]\n",
      "Training Epoch 414: 100%|██████████| 499/499 [00:05<00:00, 87.82it/s]\n",
      "Training Epoch 415: 100%|██████████| 499/499 [00:05<00:00, 88.40it/s]\n",
      "Training Epoch 416: 100%|██████████| 499/499 [00:05<00:00, 88.78it/s]\n",
      "Training Epoch 417: 100%|██████████| 499/499 [00:05<00:00, 85.08it/s]\n",
      "Training Epoch 418: 100%|██████████| 499/499 [00:05<00:00, 87.92it/s]\n",
      "Training Epoch 419: 100%|██████████| 499/499 [00:05<00:00, 87.18it/s]\n",
      "Training Epoch 420: 100%|██████████| 499/499 [00:05<00:00, 87.19it/s]\n",
      "Training Epoch 421: 100%|██████████| 499/499 [00:05<00:00, 88.70it/s]\n"
     ]
    },
    {
     "name": "stdout",
     "output_type": "stream",
     "text": [
      "Epoch 420 - Train Loss: 0.2070, Train MSE: 0.2067, Train MAE: 0.3325\n",
      "Epoch 420 - Validation Loss: 2.2006, Validation MSE: 2.2014, Validation MAE: 1.1065\n"
     ]
    },
    {
     "name": "stderr",
     "output_type": "stream",
     "text": [
      "Training Epoch 422: 100%|██████████| 499/499 [00:05<00:00, 85.10it/s]\n",
      "Training Epoch 423: 100%|██████████| 499/499 [00:05<00:00, 87.78it/s]\n",
      "Training Epoch 424: 100%|██████████| 499/499 [00:05<00:00, 87.30it/s]\n",
      "Training Epoch 425: 100%|██████████| 499/499 [00:05<00:00, 86.01it/s]\n",
      "Training Epoch 426: 100%|██████████| 499/499 [00:05<00:00, 88.81it/s]\n",
      "Training Epoch 427: 100%|██████████| 499/499 [00:05<00:00, 87.15it/s]\n",
      "Training Epoch 428: 100%|██████████| 499/499 [00:05<00:00, 86.68it/s]\n",
      "Training Epoch 429: 100%|██████████| 499/499 [00:05<00:00, 88.84it/s]\n",
      "Training Epoch 430: 100%|██████████| 499/499 [00:05<00:00, 88.55it/s]\n",
      "Training Epoch 431: 100%|██████████| 499/499 [00:05<00:00, 87.97it/s]\n"
     ]
    },
    {
     "name": "stdout",
     "output_type": "stream",
     "text": [
      "Epoch 430 - Train Loss: 0.2084, Train MSE: 0.2085, Train MAE: 0.3341\n",
      "Epoch 430 - Validation Loss: 2.1518, Validation MSE: 2.1520, Validation MAE: 1.0888\n"
     ]
    },
    {
     "name": "stderr",
     "output_type": "stream",
     "text": [
      "Training Epoch 432: 100%|██████████| 499/499 [00:05<00:00, 88.08it/s]\n",
      "Training Epoch 433: 100%|██████████| 499/499 [00:05<00:00, 87.34it/s]\n",
      "Training Epoch 434: 100%|██████████| 499/499 [00:05<00:00, 87.12it/s]\n",
      "Training Epoch 435: 100%|██████████| 499/499 [00:05<00:00, 87.55it/s]\n",
      "Training Epoch 436: 100%|██████████| 499/499 [00:05<00:00, 85.75it/s]\n",
      "Training Epoch 437: 100%|██████████| 499/499 [00:05<00:00, 88.76it/s] \n",
      "Training Epoch 438: 100%|██████████| 499/499 [00:05<00:00, 86.00it/s]\n",
      "Training Epoch 439: 100%|██████████| 499/499 [00:05<00:00, 87.34it/s]\n",
      "Training Epoch 440: 100%|██████████| 499/499 [00:05<00:00, 87.59it/s]\n",
      "Training Epoch 441: 100%|██████████| 499/499 [00:05<00:00, 86.38it/s]\n"
     ]
    },
    {
     "name": "stdout",
     "output_type": "stream",
     "text": [
      "Epoch 440 - Train Loss: 0.1998, Train MSE: 0.1996, Train MAE: 0.3267\n",
      "Epoch 440 - Validation Loss: 2.1145, Validation MSE: 2.1149, Validation MAE: 1.0819\n"
     ]
    },
    {
     "name": "stderr",
     "output_type": "stream",
     "text": [
      "Training Epoch 442: 100%|██████████| 499/499 [00:05<00:00, 84.80it/s]\n",
      "Training Epoch 443: 100%|██████████| 499/499 [00:05<00:00, 88.98it/s]\n",
      "Training Epoch 444: 100%|██████████| 499/499 [00:05<00:00, 86.32it/s]\n",
      "Training Epoch 445: 100%|██████████| 499/499 [00:05<00:00, 89.35it/s]\n",
      "Training Epoch 446: 100%|██████████| 499/499 [00:07<00:00, 66.42it/s]\n",
      "Training Epoch 447: 100%|██████████| 499/499 [00:05<00:00, 84.25it/s]\n",
      "Training Epoch 448: 100%|██████████| 499/499 [00:05<00:00, 83.48it/s]\n",
      "Training Epoch 449: 100%|██████████| 499/499 [00:06<00:00, 82.09it/s]\n",
      "Training Epoch 450: 100%|██████████| 499/499 [00:05<00:00, 86.29it/s]\n",
      "Training Epoch 451: 100%|██████████| 499/499 [00:05<00:00, 84.78it/s]\n"
     ]
    },
    {
     "name": "stdout",
     "output_type": "stream",
     "text": [
      "Epoch 450 - Train Loss: 0.2029, Train MSE: 0.2030, Train MAE: 0.3267\n",
      "Epoch 450 - Validation Loss: 2.1366, Validation MSE: 2.1364, Validation MAE: 1.0865\n"
     ]
    },
    {
     "name": "stderr",
     "output_type": "stream",
     "text": [
      "Training Epoch 452: 100%|██████████| 499/499 [00:06<00:00, 82.50it/s]\n",
      "Training Epoch 453: 100%|██████████| 499/499 [00:05<00:00, 87.28it/s]\n",
      "Training Epoch 454: 100%|██████████| 499/499 [00:05<00:00, 87.10it/s]\n",
      "Training Epoch 455: 100%|██████████| 499/499 [00:05<00:00, 88.76it/s]\n",
      "Training Epoch 456: 100%|██████████| 499/499 [00:05<00:00, 87.39it/s]\n",
      "Training Epoch 457: 100%|██████████| 499/499 [00:05<00:00, 87.01it/s]\n",
      "Training Epoch 458: 100%|██████████| 499/499 [00:05<00:00, 88.16it/s]\n",
      "Training Epoch 459: 100%|██████████| 499/499 [00:05<00:00, 90.75it/s]\n",
      "Training Epoch 460: 100%|██████████| 499/499 [00:05<00:00, 86.65it/s]\n",
      "Training Epoch 461: 100%|██████████| 499/499 [00:05<00:00, 87.43it/s]\n"
     ]
    },
    {
     "name": "stdout",
     "output_type": "stream",
     "text": [
      "Epoch 460 - Train Loss: 0.2007, Train MSE: 0.2008, Train MAE: 0.3255\n",
      "Epoch 460 - Validation Loss: 2.1281, Validation MSE: 2.1288, Validation MAE: 1.0820\n"
     ]
    },
    {
     "name": "stderr",
     "output_type": "stream",
     "text": [
      "Training Epoch 462: 100%|██████████| 499/499 [00:05<00:00, 85.58it/s]\n",
      "Training Epoch 463: 100%|██████████| 499/499 [00:05<00:00, 87.34it/s]\n",
      "Training Epoch 464: 100%|██████████| 499/499 [00:05<00:00, 88.22it/s]\n",
      "Training Epoch 465: 100%|██████████| 499/499 [00:05<00:00, 84.87it/s]\n",
      "Training Epoch 466: 100%|██████████| 499/499 [00:05<00:00, 90.84it/s]\n",
      "Training Epoch 467: 100%|██████████| 499/499 [00:05<00:00, 86.97it/s]\n",
      "Training Epoch 468: 100%|██████████| 499/499 [00:05<00:00, 87.09it/s]\n",
      "Training Epoch 469: 100%|██████████| 499/499 [00:05<00:00, 88.07it/s]\n",
      "Training Epoch 470: 100%|██████████| 499/499 [00:05<00:00, 85.88it/s]\n",
      "Training Epoch 471: 100%|██████████| 499/499 [00:05<00:00, 88.30it/s]\n"
     ]
    },
    {
     "name": "stdout",
     "output_type": "stream",
     "text": [
      "Epoch 470 - Train Loss: 0.1899, Train MSE: 0.1900, Train MAE: 0.3192\n",
      "Epoch 470 - Validation Loss: 2.1457, Validation MSE: 2.1463, Validation MAE: 1.0894\n"
     ]
    },
    {
     "name": "stderr",
     "output_type": "stream",
     "text": [
      "Training Epoch 472: 100%|██████████| 499/499 [00:05<00:00, 85.96it/s]\n",
      "Training Epoch 473: 100%|██████████| 499/499 [00:05<00:00, 87.01it/s]\n",
      "Training Epoch 474: 100%|██████████| 499/499 [00:05<00:00, 88.64it/s]\n",
      "Training Epoch 475: 100%|██████████| 499/499 [00:05<00:00, 89.11it/s]\n",
      "Training Epoch 476: 100%|██████████| 499/499 [00:05<00:00, 86.72it/s]\n",
      "Training Epoch 477: 100%|██████████| 499/499 [00:05<00:00, 91.82it/s] \n",
      "Training Epoch 478: 100%|██████████| 499/499 [00:05<00:00, 85.90it/s]\n",
      "Training Epoch 479: 100%|██████████| 499/499 [00:05<00:00, 87.67it/s]\n",
      "Training Epoch 480: 100%|██████████| 499/499 [00:05<00:00, 88.18it/s]\n",
      "Training Epoch 481: 100%|██████████| 499/499 [00:05<00:00, 86.77it/s]\n"
     ]
    },
    {
     "name": "stdout",
     "output_type": "stream",
     "text": [
      "Epoch 480 - Train Loss: 0.2015, Train MSE: 0.2014, Train MAE: 0.3241\n",
      "Epoch 480 - Validation Loss: 2.1899, Validation MSE: 2.1903, Validation MAE: 1.0987\n"
     ]
    },
    {
     "name": "stderr",
     "output_type": "stream",
     "text": [
      "Training Epoch 482: 100%|██████████| 499/499 [00:05<00:00, 87.34it/s]\n",
      "Training Epoch 483: 100%|██████████| 499/499 [00:05<00:00, 88.55it/s]\n",
      "Training Epoch 484: 100%|██████████| 499/499 [00:05<00:00, 88.45it/s]\n",
      "Training Epoch 485: 100%|██████████| 499/499 [00:05<00:00, 87.98it/s]\n",
      "Training Epoch 486: 100%|██████████| 499/499 [00:05<00:00, 84.50it/s]\n",
      "Training Epoch 487: 100%|██████████| 499/499 [00:05<00:00, 87.67it/s]\n",
      "Training Epoch 488: 100%|██████████| 499/499 [00:05<00:00, 87.76it/s]\n",
      "Training Epoch 489: 100%|██████████| 499/499 [00:05<00:00, 87.04it/s]\n",
      "Training Epoch 490: 100%|██████████| 499/499 [00:05<00:00, 91.09it/s]\n",
      "Training Epoch 491: 100%|██████████| 499/499 [00:05<00:00, 87.04it/s]\n"
     ]
    },
    {
     "name": "stdout",
     "output_type": "stream",
     "text": [
      "Epoch 490 - Train Loss: 0.1905, Train MSE: 0.1904, Train MAE: 0.3181\n",
      "Epoch 490 - Validation Loss: 2.1565, Validation MSE: 2.1567, Validation MAE: 1.0877\n"
     ]
    },
    {
     "name": "stderr",
     "output_type": "stream",
     "text": [
      "Training Epoch 492: 100%|██████████| 499/499 [00:05<00:00, 84.96it/s]\n",
      "Training Epoch 493: 100%|██████████| 499/499 [00:05<00:00, 88.00it/s]\n",
      "Training Epoch 494: 100%|██████████| 499/499 [00:05<00:00, 88.51it/s]\n",
      "Training Epoch 495: 100%|██████████| 499/499 [00:05<00:00, 87.54it/s]\n",
      "Training Epoch 496: 100%|██████████| 499/499 [00:05<00:00, 88.80it/s]\n",
      "Training Epoch 497: 100%|██████████| 499/499 [00:05<00:00, 88.78it/s]\n",
      "Training Epoch 498: 100%|██████████| 499/499 [00:05<00:00, 88.14it/s]\n",
      "Training Epoch 499: 100%|██████████| 499/499 [00:05<00:00, 86.71it/s]\n",
      "Training Epoch 500: 100%|██████████| 499/499 [00:05<00:00, 84.75it/s]\n",
      "Training Epoch 501: 100%|██████████| 499/499 [00:05<00:00, 86.98it/s]\n"
     ]
    },
    {
     "name": "stdout",
     "output_type": "stream",
     "text": [
      "Epoch 500 - Train Loss: 0.1996, Train MSE: 0.1993, Train MAE: 0.3231\n",
      "Epoch 500 - Validation Loss: 2.1592, Validation MSE: 2.1592, Validation MAE: 1.0920\n"
     ]
    },
    {
     "name": "stderr",
     "output_type": "stream",
     "text": [
      "Training Epoch 502: 100%|██████████| 499/499 [00:05<00:00, 89.35it/s]\n",
      "Training Epoch 503: 100%|██████████| 499/499 [00:05<00:00, 84.78it/s]\n",
      "Training Epoch 504: 100%|██████████| 499/499 [00:05<00:00, 88.89it/s]\n",
      "Training Epoch 505: 100%|██████████| 499/499 [00:05<00:00, 88.03it/s]\n",
      "Training Epoch 506: 100%|██████████| 499/499 [00:05<00:00, 88.06it/s]\n",
      "Training Epoch 507: 100%|██████████| 499/499 [00:05<00:00, 89.15it/s]\n",
      "Training Epoch 508: 100%|██████████| 499/499 [00:05<00:00, 88.89it/s]\n",
      "Training Epoch 509: 100%|██████████| 499/499 [00:05<00:00, 89.72it/s]\n",
      "Training Epoch 510: 100%|██████████| 499/499 [00:05<00:00, 91.32it/s]\n",
      "Training Epoch 511: 100%|██████████| 499/499 [00:05<00:00, 87.30it/s]\n"
     ]
    },
    {
     "name": "stdout",
     "output_type": "stream",
     "text": [
      "Epoch 510 - Train Loss: 0.1895, Train MSE: 0.1896, Train MAE: 0.3169\n",
      "Epoch 510 - Validation Loss: 2.1680, Validation MSE: 2.1684, Validation MAE: 1.0924\n"
     ]
    },
    {
     "name": "stderr",
     "output_type": "stream",
     "text": [
      "Training Epoch 512: 100%|██████████| 499/499 [00:05<00:00, 87.22it/s]\n",
      "Training Epoch 513: 100%|██████████| 499/499 [00:05<00:00, 85.94it/s]\n",
      "Training Epoch 514: 100%|██████████| 499/499 [00:05<00:00, 87.99it/s]\n",
      "Training Epoch 515: 100%|██████████| 499/499 [00:05<00:00, 85.21it/s]\n",
      "Training Epoch 516: 100%|██████████| 499/499 [00:05<00:00, 87.56it/s]\n",
      "Training Epoch 517: 100%|██████████| 499/499 [00:05<00:00, 87.90it/s]\n",
      "Training Epoch 518: 100%|██████████| 499/499 [00:05<00:00, 88.05it/s]\n",
      "Training Epoch 519: 100%|██████████| 499/499 [00:05<00:00, 85.84it/s]\n",
      "Training Epoch 520: 100%|██████████| 499/499 [00:05<00:00, 88.34it/s]\n",
      "Training Epoch 521: 100%|██████████| 499/499 [00:05<00:00, 88.42it/s]\n"
     ]
    },
    {
     "name": "stdout",
     "output_type": "stream",
     "text": [
      "Epoch 520 - Train Loss: 0.1981, Train MSE: 0.1983, Train MAE: 0.3206\n",
      "Epoch 520 - Validation Loss: 2.1271, Validation MSE: 2.1276, Validation MAE: 1.0786\n"
     ]
    },
    {
     "name": "stderr",
     "output_type": "stream",
     "text": [
      "Training Epoch 522: 100%|██████████| 499/499 [00:05<00:00, 90.43it/s]\n",
      "Training Epoch 523: 100%|██████████| 499/499 [00:05<00:00, 90.26it/s]\n",
      "Training Epoch 524: 100%|██████████| 499/499 [00:05<00:00, 89.06it/s]\n",
      "Training Epoch 525: 100%|██████████| 499/499 [00:05<00:00, 88.79it/s]\n",
      "Training Epoch 526: 100%|██████████| 499/499 [00:05<00:00, 88.08it/s]\n",
      "Training Epoch 527: 100%|██████████| 499/499 [00:05<00:00, 88.64it/s]\n",
      "Training Epoch 528: 100%|██████████| 499/499 [00:05<00:00, 86.89it/s]\n",
      "Training Epoch 529: 100%|██████████| 499/499 [00:05<00:00, 89.92it/s]\n",
      "Training Epoch 530: 100%|██████████| 499/499 [00:05<00:00, 88.60it/s]\n",
      "Training Epoch 531: 100%|██████████| 499/499 [00:05<00:00, 87.03it/s]\n"
     ]
    },
    {
     "name": "stdout",
     "output_type": "stream",
     "text": [
      "Epoch 530 - Train Loss: 0.1795, Train MSE: 0.1795, Train MAE: 0.3074\n",
      "Epoch 530 - Validation Loss: 2.1767, Validation MSE: 2.1772, Validation MAE: 1.0914\n"
     ]
    },
    {
     "name": "stderr",
     "output_type": "stream",
     "text": [
      "Training Epoch 532: 100%|██████████| 499/499 [00:05<00:00, 88.22it/s]\n",
      "Training Epoch 533: 100%|██████████| 499/499 [00:05<00:00, 88.50it/s]\n",
      "Training Epoch 534: 100%|██████████| 499/499 [00:05<00:00, 90.30it/s]\n",
      "Training Epoch 535: 100%|██████████| 499/499 [00:05<00:00, 85.11it/s]\n",
      "Training Epoch 536: 100%|██████████| 499/499 [00:05<00:00, 89.82it/s]\n",
      "Training Epoch 537: 100%|██████████| 499/499 [00:05<00:00, 88.62it/s]\n",
      "Training Epoch 538: 100%|██████████| 499/499 [00:05<00:00, 86.35it/s]\n",
      "Training Epoch 539: 100%|██████████| 499/499 [00:05<00:00, 86.94it/s]\n",
      "Training Epoch 540: 100%|██████████| 499/499 [00:05<00:00, 90.62it/s]\n",
      "Training Epoch 541: 100%|██████████| 499/499 [00:05<00:00, 87.27it/s]\n"
     ]
    },
    {
     "name": "stdout",
     "output_type": "stream",
     "text": [
      "Epoch 540 - Train Loss: 0.1875, Train MSE: 0.1876, Train MAE: 0.3111\n",
      "Epoch 540 - Validation Loss: 2.1363, Validation MSE: 2.1367, Validation MAE: 1.0848\n"
     ]
    },
    {
     "name": "stderr",
     "output_type": "stream",
     "text": [
      "Training Epoch 542: 100%|██████████| 499/499 [00:05<00:00, 89.67it/s]\n",
      "Training Epoch 543: 100%|██████████| 499/499 [00:05<00:00, 84.90it/s]\n",
      "Training Epoch 544: 100%|██████████| 499/499 [00:05<00:00, 88.39it/s]\n",
      "Training Epoch 545: 100%|██████████| 499/499 [00:05<00:00, 87.17it/s]\n",
      "Training Epoch 546: 100%|██████████| 499/499 [00:05<00:00, 87.62it/s]\n",
      "Training Epoch 547: 100%|██████████| 499/499 [00:05<00:00, 88.46it/s]\n",
      "Training Epoch 548: 100%|██████████| 499/499 [00:05<00:00, 86.85it/s]\n",
      "Training Epoch 549: 100%|██████████| 499/499 [00:05<00:00, 88.34it/s]\n",
      "Training Epoch 550: 100%|██████████| 499/499 [00:05<00:00, 87.65it/s]\n",
      "Training Epoch 551: 100%|██████████| 499/499 [00:05<00:00, 83.84it/s]\n"
     ]
    },
    {
     "name": "stdout",
     "output_type": "stream",
     "text": [
      "Epoch 550 - Train Loss: 0.1844, Train MSE: 0.1844, Train MAE: 0.3102\n",
      "Epoch 550 - Validation Loss: 2.1305, Validation MSE: 2.1313, Validation MAE: 1.0852\n"
     ]
    },
    {
     "name": "stderr",
     "output_type": "stream",
     "text": [
      "Training Epoch 552: 100%|██████████| 499/499 [00:05<00:00, 87.83it/s]\n",
      "Training Epoch 553: 100%|██████████| 499/499 [00:05<00:00, 87.47it/s]\n",
      "Training Epoch 554: 100%|██████████| 499/499 [00:05<00:00, 86.50it/s]\n",
      "Training Epoch 555: 100%|██████████| 499/499 [00:05<00:00, 88.03it/s]\n",
      "Training Epoch 556: 100%|██████████| 499/499 [00:05<00:00, 87.89it/s]\n",
      "Training Epoch 557: 100%|██████████| 499/499 [00:05<00:00, 86.74it/s]\n",
      "Training Epoch 558: 100%|██████████| 499/499 [00:05<00:00, 88.95it/s]\n",
      "Training Epoch 559: 100%|██████████| 499/499 [00:05<00:00, 87.38it/s]\n",
      "Training Epoch 560: 100%|██████████| 499/499 [00:05<00:00, 89.04it/s]\n",
      "Training Epoch 561: 100%|██████████| 499/499 [00:05<00:00, 88.66it/s]\n"
     ]
    },
    {
     "name": "stdout",
     "output_type": "stream",
     "text": [
      "Epoch 560 - Train Loss: 0.1776, Train MSE: 0.1776, Train MAE: 0.3049\n",
      "Epoch 560 - Validation Loss: 2.1234, Validation MSE: 2.1240, Validation MAE: 1.0818\n"
     ]
    },
    {
     "name": "stderr",
     "output_type": "stream",
     "text": [
      "Training Epoch 562: 100%|██████████| 499/499 [00:05<00:00, 83.83it/s]\n",
      "Training Epoch 563: 100%|██████████| 499/499 [00:05<00:00, 86.97it/s]\n",
      "Training Epoch 564: 100%|██████████| 499/499 [00:05<00:00, 89.40it/s]\n",
      "Training Epoch 565: 100%|██████████| 499/499 [00:05<00:00, 85.75it/s]\n",
      "Training Epoch 566: 100%|██████████| 499/499 [00:05<00:00, 88.89it/s]\n",
      "Training Epoch 567: 100%|██████████| 499/499 [00:05<00:00, 88.19it/s]\n",
      "Training Epoch 568: 100%|██████████| 499/499 [00:05<00:00, 87.81it/s]\n",
      "Training Epoch 569: 100%|██████████| 499/499 [00:05<00:00, 87.12it/s]\n",
      "Training Epoch 570: 100%|██████████| 499/499 [00:05<00:00, 86.95it/s]\n",
      "Training Epoch 571: 100%|██████████| 499/499 [00:05<00:00, 89.97it/s]\n"
     ]
    },
    {
     "name": "stdout",
     "output_type": "stream",
     "text": [
      "Epoch 570 - Train Loss: 0.1824, Train MSE: 0.1825, Train MAE: 0.3078\n",
      "Epoch 570 - Validation Loss: 2.1308, Validation MSE: 2.1314, Validation MAE: 1.0859\n"
     ]
    },
    {
     "name": "stderr",
     "output_type": "stream",
     "text": [
      "Training Epoch 572: 100%|██████████| 499/499 [00:05<00:00, 89.38it/s]\n",
      "Training Epoch 573: 100%|██████████| 499/499 [00:05<00:00, 85.54it/s]\n",
      "Training Epoch 574: 100%|██████████| 499/499 [00:05<00:00, 89.68it/s]\n",
      "Training Epoch 575: 100%|██████████| 499/499 [00:05<00:00, 90.76it/s]\n",
      "Training Epoch 576: 100%|██████████| 499/499 [00:05<00:00, 87.94it/s]\n",
      "Training Epoch 577: 100%|██████████| 499/499 [00:05<00:00, 88.34it/s]\n",
      "Training Epoch 578: 100%|██████████| 499/499 [00:05<00:00, 89.06it/s]\n",
      "Training Epoch 579: 100%|██████████| 499/499 [00:05<00:00, 89.87it/s]\n",
      "Training Epoch 580: 100%|██████████| 499/499 [00:05<00:00, 89.14it/s]\n",
      "Training Epoch 581: 100%|██████████| 499/499 [00:05<00:00, 86.61it/s]\n"
     ]
    },
    {
     "name": "stdout",
     "output_type": "stream",
     "text": [
      "Epoch 580 - Train Loss: 0.1777, Train MSE: 0.1775, Train MAE: 0.3075\n",
      "Epoch 580 - Validation Loss: 2.1976, Validation MSE: 2.1982, Validation MAE: 1.0950\n"
     ]
    },
    {
     "name": "stderr",
     "output_type": "stream",
     "text": [
      "Training Epoch 582: 100%|██████████| 499/499 [00:05<00:00, 87.98it/s]\n",
      "Training Epoch 583: 100%|██████████| 499/499 [00:05<00:00, 86.15it/s]\n",
      "Training Epoch 584: 100%|██████████| 499/499 [00:05<00:00, 88.84it/s]\n",
      "Training Epoch 585: 100%|██████████| 499/499 [00:05<00:00, 88.66it/s]\n",
      "Training Epoch 586: 100%|██████████| 499/499 [00:05<00:00, 89.64it/s]\n",
      "Training Epoch 587: 100%|██████████| 499/499 [00:05<00:00, 87.42it/s]\n",
      "Training Epoch 588: 100%|██████████| 499/499 [00:05<00:00, 87.28it/s]\n",
      "Training Epoch 589: 100%|██████████| 499/499 [00:05<00:00, 87.63it/s]\n",
      "Training Epoch 590: 100%|██████████| 499/499 [00:05<00:00, 88.31it/s]\n",
      "Training Epoch 591: 100%|██████████| 499/499 [00:05<00:00, 86.09it/s]\n"
     ]
    },
    {
     "name": "stdout",
     "output_type": "stream",
     "text": [
      "Epoch 590 - Train Loss: 0.1778, Train MSE: 0.1777, Train MAE: 0.3047\n",
      "Epoch 590 - Validation Loss: 2.1535, Validation MSE: 2.1541, Validation MAE: 1.0877\n"
     ]
    },
    {
     "name": "stderr",
     "output_type": "stream",
     "text": [
      "Training Epoch 592: 100%|██████████| 499/499 [00:05<00:00, 85.93it/s]\n",
      "Training Epoch 593: 100%|██████████| 499/499 [00:05<00:00, 88.83it/s]\n",
      "Training Epoch 594: 100%|██████████| 499/499 [00:05<00:00, 88.61it/s]\n",
      "Training Epoch 595: 100%|██████████| 499/499 [00:05<00:00, 88.57it/s]\n",
      "Training Epoch 596: 100%|██████████| 499/499 [00:05<00:00, 89.84it/s]\n",
      "Training Epoch 597: 100%|██████████| 499/499 [00:05<00:00, 88.34it/s]\n",
      "Training Epoch 598: 100%|██████████| 499/499 [00:05<00:00, 87.69it/s]\n",
      "Training Epoch 599: 100%|██████████| 499/499 [00:05<00:00, 88.62it/s]\n",
      "Training Epoch 600: 100%|██████████| 499/499 [00:05<00:00, 86.19it/s]\n",
      "Training Epoch 601: 100%|██████████| 499/499 [00:05<00:00, 88.35it/s]\n"
     ]
    },
    {
     "name": "stdout",
     "output_type": "stream",
     "text": [
      "Epoch 600 - Train Loss: 0.1842, Train MSE: 0.1841, Train MAE: 0.3068\n",
      "Epoch 600 - Validation Loss: 2.1468, Validation MSE: 2.1474, Validation MAE: 1.0909\n"
     ]
    },
    {
     "name": "stderr",
     "output_type": "stream",
     "text": [
      "Training Epoch 602: 100%|██████████| 499/499 [00:05<00:00, 86.25it/s]\n",
      "Training Epoch 603: 100%|██████████| 499/499 [00:05<00:00, 85.63it/s]\n",
      "Training Epoch 604: 100%|██████████| 499/499 [00:05<00:00, 85.99it/s]\n",
      "Training Epoch 605: 100%|██████████| 499/499 [00:05<00:00, 87.37it/s]\n",
      "Training Epoch 606: 100%|██████████| 499/499 [00:05<00:00, 90.05it/s]\n",
      "Training Epoch 607: 100%|██████████| 499/499 [00:05<00:00, 87.47it/s]\n",
      "Training Epoch 608: 100%|██████████| 499/499 [00:05<00:00, 87.62it/s]\n",
      "Training Epoch 609: 100%|██████████| 499/499 [00:05<00:00, 90.71it/s]\n",
      "Training Epoch 610: 100%|██████████| 499/499 [00:05<00:00, 88.99it/s]\n",
      "Training Epoch 611: 100%|██████████| 499/499 [00:05<00:00, 88.29it/s]\n"
     ]
    },
    {
     "name": "stdout",
     "output_type": "stream",
     "text": [
      "Epoch 610 - Train Loss: 0.1752, Train MSE: 0.1753, Train MAE: 0.3045\n",
      "Epoch 610 - Validation Loss: 2.1326, Validation MSE: 2.1332, Validation MAE: 1.0823\n"
     ]
    },
    {
     "name": "stderr",
     "output_type": "stream",
     "text": [
      "Training Epoch 612: 100%|██████████| 499/499 [00:05<00:00, 89.46it/s]\n",
      "Training Epoch 613: 100%|██████████| 499/499 [00:05<00:00, 89.68it/s]\n",
      "Training Epoch 614: 100%|██████████| 499/499 [00:05<00:00, 87.67it/s]\n",
      "Training Epoch 615: 100%|██████████| 499/499 [00:05<00:00, 88.60it/s]\n",
      "Training Epoch 616: 100%|██████████| 499/499 [00:05<00:00, 86.33it/s]\n",
      "Training Epoch 617: 100%|██████████| 499/499 [00:05<00:00, 88.12it/s]\n",
      "Training Epoch 618: 100%|██████████| 499/499 [00:05<00:00, 89.97it/s]\n",
      "Training Epoch 619: 100%|██████████| 499/499 [00:05<00:00, 87.79it/s]\n",
      "Training Epoch 620: 100%|██████████| 499/499 [00:05<00:00, 88.57it/s]\n",
      "Training Epoch 621: 100%|██████████| 499/499 [00:05<00:00, 88.78it/s]\n"
     ]
    },
    {
     "name": "stdout",
     "output_type": "stream",
     "text": [
      "Epoch 620 - Train Loss: 0.1679, Train MSE: 0.1679, Train MAE: 0.2987\n",
      "Epoch 620 - Validation Loss: 2.1837, Validation MSE: 2.1840, Validation MAE: 1.0968\n"
     ]
    },
    {
     "name": "stderr",
     "output_type": "stream",
     "text": [
      "Training Epoch 622: 100%|██████████| 499/499 [00:05<00:00, 87.66it/s]\n",
      "Training Epoch 623: 100%|██████████| 499/499 [00:05<00:00, 91.11it/s]\n",
      "Training Epoch 624: 100%|██████████| 499/499 [00:05<00:00, 86.47it/s]\n",
      "Training Epoch 625: 100%|██████████| 499/499 [00:05<00:00, 86.46it/s]\n",
      "Training Epoch 626: 100%|██████████| 499/499 [00:05<00:00, 89.75it/s]\n",
      "Training Epoch 627: 100%|██████████| 499/499 [00:05<00:00, 85.33it/s]\n",
      "Training Epoch 628: 100%|██████████| 499/499 [00:05<00:00, 88.83it/s]\n",
      "Training Epoch 629: 100%|██████████| 499/499 [00:05<00:00, 86.07it/s]\n",
      "Training Epoch 630: 100%|██████████| 499/499 [00:07<00:00, 70.59it/s]\n",
      "Training Epoch 631: 100%|██████████| 499/499 [00:05<00:00, 84.84it/s]\n"
     ]
    },
    {
     "name": "stdout",
     "output_type": "stream",
     "text": [
      "Epoch 630 - Train Loss: 0.1703, Train MSE: 0.1704, Train MAE: 0.2983\n",
      "Epoch 630 - Validation Loss: 2.1520, Validation MSE: 2.1526, Validation MAE: 1.0841\n"
     ]
    },
    {
     "name": "stderr",
     "output_type": "stream",
     "text": [
      "Training Epoch 632: 100%|██████████| 499/499 [00:05<00:00, 85.94it/s]\n",
      "Training Epoch 633: 100%|██████████| 499/499 [00:05<00:00, 89.25it/s]\n",
      "Training Epoch 634: 100%|██████████| 499/499 [00:05<00:00, 85.26it/s]\n",
      "Training Epoch 635: 100%|██████████| 499/499 [00:05<00:00, 84.86it/s]\n",
      "Training Epoch 636: 100%|██████████| 499/499 [00:05<00:00, 87.58it/s]\n",
      "Training Epoch 637: 100%|██████████| 499/499 [00:05<00:00, 88.88it/s]\n",
      "Training Epoch 638: 100%|██████████| 499/499 [00:05<00:00, 88.62it/s]\n",
      "Training Epoch 639: 100%|██████████| 499/499 [00:05<00:00, 89.14it/s]\n",
      "Training Epoch 640: 100%|██████████| 499/499 [00:05<00:00, 87.31it/s]\n",
      "Training Epoch 641: 100%|██████████| 499/499 [00:05<00:00, 87.54it/s]\n"
     ]
    },
    {
     "name": "stdout",
     "output_type": "stream",
     "text": [
      "Epoch 640 - Train Loss: 0.1634, Train MSE: 0.1635, Train MAE: 0.2953\n",
      "Epoch 640 - Validation Loss: 2.1542, Validation MSE: 2.1546, Validation MAE: 1.0863\n"
     ]
    },
    {
     "name": "stderr",
     "output_type": "stream",
     "text": [
      "Training Epoch 642: 100%|██████████| 499/499 [00:05<00:00, 87.87it/s]\n",
      "Training Epoch 643: 100%|██████████| 499/499 [00:05<00:00, 85.79it/s]\n",
      "Training Epoch 644: 100%|██████████| 499/499 [00:05<00:00, 87.41it/s]\n",
      "Training Epoch 645: 100%|██████████| 499/499 [00:05<00:00, 89.27it/s]\n",
      "Training Epoch 646: 100%|██████████| 499/499 [00:05<00:00, 87.47it/s]\n",
      "Training Epoch 647: 100%|██████████| 499/499 [00:05<00:00, 91.36it/s] \n",
      "Training Epoch 648: 100%|██████████| 499/499 [00:05<00:00, 89.48it/s]\n",
      "Training Epoch 649: 100%|██████████| 499/499 [00:05<00:00, 85.28it/s]\n",
      "Training Epoch 650: 100%|██████████| 499/499 [00:05<00:00, 90.04it/s]\n",
      "Training Epoch 651: 100%|██████████| 499/499 [00:05<00:00, 87.20it/s]\n"
     ]
    },
    {
     "name": "stdout",
     "output_type": "stream",
     "text": [
      "Epoch 650 - Train Loss: 0.1702, Train MSE: 0.1704, Train MAE: 0.2988\n",
      "Epoch 650 - Validation Loss: 2.1691, Validation MSE: 2.1696, Validation MAE: 1.0891\n"
     ]
    },
    {
     "name": "stderr",
     "output_type": "stream",
     "text": [
      "Training Epoch 652: 100%|██████████| 499/499 [00:05<00:00, 88.98it/s]\n",
      "Training Epoch 653: 100%|██████████| 499/499 [00:05<00:00, 87.87it/s]\n",
      "Training Epoch 654: 100%|██████████| 499/499 [00:05<00:00, 86.48it/s]\n",
      "Training Epoch 655: 100%|██████████| 499/499 [00:05<00:00, 88.12it/s]\n",
      "Training Epoch 656: 100%|██████████| 499/499 [00:05<00:00, 87.95it/s]\n",
      "Training Epoch 657: 100%|██████████| 499/499 [00:05<00:00, 86.99it/s]\n",
      "Training Epoch 658: 100%|██████████| 499/499 [00:05<00:00, 87.92it/s]\n",
      "Training Epoch 659: 100%|██████████| 499/499 [00:05<00:00, 87.43it/s]\n",
      "Training Epoch 660: 100%|██████████| 499/499 [00:05<00:00, 89.98it/s]\n",
      "Training Epoch 661: 100%|██████████| 499/499 [00:05<00:00, 89.75it/s]\n"
     ]
    },
    {
     "name": "stdout",
     "output_type": "stream",
     "text": [
      "Epoch 660 - Train Loss: 0.1702, Train MSE: 0.1703, Train MAE: 0.2993\n",
      "Epoch 660 - Validation Loss: 2.1419, Validation MSE: 2.1421, Validation MAE: 1.0851\n"
     ]
    },
    {
     "name": "stderr",
     "output_type": "stream",
     "text": [
      "Training Epoch 662: 100%|██████████| 499/499 [00:05<00:00, 87.83it/s]\n",
      "Training Epoch 663: 100%|██████████| 499/499 [00:05<00:00, 88.55it/s]\n",
      "Training Epoch 664: 100%|██████████| 499/499 [00:05<00:00, 88.87it/s]\n",
      "Training Epoch 665: 100%|██████████| 499/499 [00:05<00:00, 86.40it/s]\n",
      "Training Epoch 666: 100%|██████████| 499/499 [00:05<00:00, 88.33it/s]\n",
      "Training Epoch 667: 100%|██████████| 499/499 [00:05<00:00, 88.38it/s]\n",
      "Training Epoch 668: 100%|██████████| 499/499 [00:05<00:00, 85.70it/s]\n",
      "Training Epoch 669: 100%|██████████| 499/499 [00:05<00:00, 88.11it/s]\n",
      "Training Epoch 670: 100%|██████████| 499/499 [00:05<00:00, 83.98it/s]\n",
      "Training Epoch 671: 100%|██████████| 499/499 [00:05<00:00, 88.45it/s]\n"
     ]
    },
    {
     "name": "stdout",
     "output_type": "stream",
     "text": [
      "Epoch 670 - Train Loss: 0.1652, Train MSE: 0.1653, Train MAE: 0.2923\n",
      "Epoch 670 - Validation Loss: 2.1491, Validation MSE: 2.1496, Validation MAE: 1.0834\n"
     ]
    },
    {
     "name": "stderr",
     "output_type": "stream",
     "text": [
      "Training Epoch 672: 100%|██████████| 499/499 [00:05<00:00, 91.54it/s]\n",
      "Training Epoch 673: 100%|██████████| 499/499 [00:05<00:00, 85.53it/s]\n",
      "Training Epoch 674: 100%|██████████| 499/499 [00:05<00:00, 88.06it/s]\n",
      "Training Epoch 675: 100%|██████████| 499/499 [00:05<00:00, 87.61it/s]\n",
      "Training Epoch 676: 100%|██████████| 499/499 [00:05<00:00, 85.44it/s]\n",
      "Training Epoch 677: 100%|██████████| 499/499 [00:05<00:00, 88.57it/s]\n",
      "Training Epoch 678: 100%|██████████| 499/499 [00:05<00:00, 86.69it/s]\n",
      "Training Epoch 679: 100%|██████████| 499/499 [00:05<00:00, 90.65it/s]\n",
      "Training Epoch 680: 100%|██████████| 499/499 [00:05<00:00, 89.22it/s]\n",
      "Training Epoch 681: 100%|██████████| 499/499 [00:05<00:00, 85.72it/s]\n"
     ]
    },
    {
     "name": "stdout",
     "output_type": "stream",
     "text": [
      "Epoch 680 - Train Loss: 0.1700, Train MSE: 0.1699, Train MAE: 0.2958\n",
      "Epoch 680 - Validation Loss: 2.1483, Validation MSE: 2.1491, Validation MAE: 1.0874\n"
     ]
    },
    {
     "name": "stderr",
     "output_type": "stream",
     "text": [
      "Training Epoch 682: 100%|██████████| 499/499 [00:05<00:00, 89.36it/s]\n",
      "Training Epoch 683: 100%|██████████| 499/499 [00:05<00:00, 88.70it/s]\n",
      "Training Epoch 684: 100%|██████████| 499/499 [00:05<00:00, 85.86it/s]\n",
      "Training Epoch 685: 100%|██████████| 499/499 [00:05<00:00, 88.15it/s]\n",
      "Training Epoch 686: 100%|██████████| 499/499 [00:05<00:00, 85.18it/s]\n",
      "Training Epoch 687: 100%|██████████| 499/499 [00:05<00:00, 87.89it/s]\n",
      "Training Epoch 688: 100%|██████████| 499/499 [00:05<00:00, 86.40it/s]\n",
      "Training Epoch 689: 100%|██████████| 499/499 [00:05<00:00, 87.13it/s]\n",
      "Training Epoch 690: 100%|██████████| 499/499 [00:05<00:00, 88.82it/s]\n",
      "Training Epoch 691: 100%|██████████| 499/499 [00:05<00:00, 88.61it/s]\n"
     ]
    },
    {
     "name": "stdout",
     "output_type": "stream",
     "text": [
      "Epoch 690 - Train Loss: 0.1628, Train MSE: 0.1629, Train MAE: 0.2945\n",
      "Epoch 690 - Validation Loss: 2.1629, Validation MSE: 2.1633, Validation MAE: 1.0879\n"
     ]
    },
    {
     "name": "stderr",
     "output_type": "stream",
     "text": [
      "Training Epoch 692: 100%|██████████| 499/499 [00:05<00:00, 86.57it/s]\n",
      "Training Epoch 693: 100%|██████████| 499/499 [00:05<00:00, 87.96it/s]\n",
      "Training Epoch 694: 100%|██████████| 499/499 [00:05<00:00, 88.89it/s]\n",
      "Training Epoch 695: 100%|██████████| 499/499 [00:05<00:00, 86.90it/s]\n",
      "Training Epoch 696: 100%|██████████| 499/499 [00:05<00:00, 87.21it/s]\n",
      "Training Epoch 697: 100%|██████████| 499/499 [00:05<00:00, 86.10it/s]\n",
      "Training Epoch 698: 100%|██████████| 499/499 [00:05<00:00, 88.21it/s]\n",
      "Training Epoch 699: 100%|██████████| 499/499 [00:05<00:00, 88.78it/s]\n",
      "Training Epoch 700: 100%|██████████| 499/499 [00:05<00:00, 87.49it/s]\n",
      "Training Epoch 701: 100%|██████████| 499/499 [00:05<00:00, 88.18it/s]\n"
     ]
    },
    {
     "name": "stdout",
     "output_type": "stream",
     "text": [
      "Epoch 700 - Train Loss: 0.1649, Train MSE: 0.1649, Train MAE: 0.2935\n",
      "Epoch 700 - Validation Loss: 2.1681, Validation MSE: 2.1686, Validation MAE: 1.0899\n"
     ]
    },
    {
     "name": "stderr",
     "output_type": "stream",
     "text": [
      "Training Epoch 702: 100%|██████████| 499/499 [00:05<00:00, 89.12it/s]\n",
      "Training Epoch 703: 100%|██████████| 499/499 [00:05<00:00, 85.76it/s]\n",
      "Training Epoch 704: 100%|██████████| 499/499 [00:05<00:00, 88.95it/s]\n",
      "Training Epoch 705: 100%|██████████| 499/499 [00:05<00:00, 84.69it/s]\n",
      "Training Epoch 706: 100%|██████████| 499/499 [00:05<00:00, 91.08it/s]\n",
      "Training Epoch 707: 100%|██████████| 499/499 [00:05<00:00, 86.62it/s]\n",
      "Training Epoch 708: 100%|██████████| 499/499 [00:05<00:00, 86.46it/s]\n",
      "Training Epoch 709: 100%|██████████| 499/499 [00:05<00:00, 86.63it/s]\n",
      "Training Epoch 710: 100%|██████████| 499/499 [00:05<00:00, 88.01it/s]\n",
      "Training Epoch 711: 100%|██████████| 499/499 [00:05<00:00, 86.91it/s]\n"
     ]
    },
    {
     "name": "stdout",
     "output_type": "stream",
     "text": [
      "Epoch 710 - Train Loss: 0.1635, Train MSE: 0.1636, Train MAE: 0.2903\n",
      "Epoch 710 - Validation Loss: 2.1723, Validation MSE: 2.1730, Validation MAE: 1.0957\n"
     ]
    },
    {
     "name": "stderr",
     "output_type": "stream",
     "text": [
      "Training Epoch 712: 100%|██████████| 499/499 [00:05<00:00, 87.63it/s]\n",
      "Training Epoch 713: 100%|██████████| 499/499 [00:05<00:00, 86.06it/s]\n",
      "Training Epoch 714: 100%|██████████| 499/499 [00:05<00:00, 88.95it/s]\n",
      "Training Epoch 715: 100%|██████████| 499/499 [00:05<00:00, 88.38it/s]\n",
      "Training Epoch 716: 100%|██████████| 499/499 [00:05<00:00, 85.39it/s]\n",
      "Training Epoch 717: 100%|██████████| 499/499 [00:05<00:00, 89.92it/s]\n",
      "Training Epoch 718: 100%|██████████| 499/499 [00:05<00:00, 88.42it/s]\n",
      "Training Epoch 719: 100%|██████████| 499/499 [00:05<00:00, 87.25it/s]\n",
      "Training Epoch 720: 100%|██████████| 499/499 [00:05<00:00, 88.81it/s]\n",
      "Training Epoch 721: 100%|██████████| 499/499 [00:05<00:00, 87.69it/s]\n"
     ]
    },
    {
     "name": "stdout",
     "output_type": "stream",
     "text": [
      "Epoch 720 - Train Loss: 0.1582, Train MSE: 0.1580, Train MAE: 0.2872\n",
      "Epoch 720 - Validation Loss: 2.1530, Validation MSE: 2.1534, Validation MAE: 1.0876\n"
     ]
    },
    {
     "name": "stderr",
     "output_type": "stream",
     "text": [
      "Training Epoch 722: 100%|██████████| 499/499 [00:05<00:00, 89.10it/s]\n",
      "Training Epoch 723: 100%|██████████| 499/499 [00:05<00:00, 88.81it/s]\n",
      "Training Epoch 724: 100%|██████████| 499/499 [00:05<00:00, 85.28it/s]\n",
      "Training Epoch 725: 100%|██████████| 499/499 [00:05<00:00, 87.31it/s]\n",
      "Training Epoch 726: 100%|██████████| 499/499 [00:05<00:00, 88.48it/s]\n",
      "Training Epoch 727: 100%|██████████| 499/499 [00:05<00:00, 88.38it/s]\n",
      "Training Epoch 728: 100%|██████████| 499/499 [00:05<00:00, 89.18it/s]\n",
      "Training Epoch 729: 100%|██████████| 499/499 [00:05<00:00, 90.11it/s]\n",
      "Training Epoch 730: 100%|██████████| 499/499 [00:05<00:00, 86.08it/s]\n",
      "Training Epoch 731: 100%|██████████| 499/499 [00:05<00:00, 88.57it/s]\n"
     ]
    },
    {
     "name": "stdout",
     "output_type": "stream",
     "text": [
      "Epoch 730 - Train Loss: 0.1595, Train MSE: 0.1596, Train MAE: 0.2891\n",
      "Epoch 730 - Validation Loss: 2.1468, Validation MSE: 2.1473, Validation MAE: 1.0840\n"
     ]
    },
    {
     "name": "stderr",
     "output_type": "stream",
     "text": [
      "Training Epoch 732: 100%|██████████| 499/499 [00:05<00:00, 85.77it/s]\n",
      "Training Epoch 733: 100%|██████████| 499/499 [00:05<00:00, 90.25it/s]\n",
      "Training Epoch 734: 100%|██████████| 499/499 [00:05<00:00, 88.75it/s]\n",
      "Training Epoch 735: 100%|██████████| 499/499 [00:05<00:00, 85.23it/s]\n",
      "Training Epoch 736: 100%|██████████| 499/499 [00:05<00:00, 86.21it/s]\n",
      "Training Epoch 737: 100%|██████████| 499/499 [00:05<00:00, 84.36it/s]\n",
      "Training Epoch 738: 100%|██████████| 499/499 [00:05<00:00, 84.96it/s]\n",
      "Training Epoch 739: 100%|██████████| 499/499 [00:05<00:00, 88.24it/s]\n",
      "Training Epoch 740: 100%|██████████| 499/499 [00:05<00:00, 86.85it/s]\n",
      "Training Epoch 741: 100%|██████████| 499/499 [00:05<00:00, 84.54it/s]\n"
     ]
    },
    {
     "name": "stdout",
     "output_type": "stream",
     "text": [
      "Epoch 740 - Train Loss: 0.1523, Train MSE: 0.1524, Train MAE: 0.2845\n",
      "Epoch 740 - Validation Loss: 2.1718, Validation MSE: 2.1722, Validation MAE: 1.0879\n"
     ]
    },
    {
     "name": "stderr",
     "output_type": "stream",
     "text": [
      "Training Epoch 742: 100%|██████████| 499/499 [00:05<00:00, 84.71it/s]\n",
      "Training Epoch 743: 100%|██████████| 499/499 [00:06<00:00, 82.68it/s]\n",
      "Training Epoch 744: 100%|██████████| 499/499 [00:05<00:00, 89.19it/s]\n",
      "Training Epoch 745: 100%|██████████| 499/499 [00:05<00:00, 84.18it/s]\n",
      "Training Epoch 746: 100%|██████████| 499/499 [00:06<00:00, 82.09it/s]\n",
      "Training Epoch 747: 100%|██████████| 499/499 [00:05<00:00, 86.68it/s]\n",
      "Training Epoch 748: 100%|██████████| 499/499 [00:05<00:00, 84.03it/s]\n",
      "Training Epoch 749: 100%|██████████| 499/499 [00:05<00:00, 85.14it/s]\n",
      "Training Epoch 750: 100%|██████████| 499/499 [00:05<00:00, 86.37it/s]\n",
      "Training Epoch 751: 100%|██████████| 499/499 [00:05<00:00, 84.42it/s]\n"
     ]
    },
    {
     "name": "stdout",
     "output_type": "stream",
     "text": [
      "Epoch 750 - Train Loss: 0.1593, Train MSE: 0.1595, Train MAE: 0.2868\n",
      "Epoch 750 - Validation Loss: 2.1500, Validation MSE: 2.1504, Validation MAE: 1.0839\n"
     ]
    },
    {
     "name": "stderr",
     "output_type": "stream",
     "text": [
      "Training Epoch 752: 100%|██████████| 499/499 [00:05<00:00, 85.28it/s]\n",
      "Training Epoch 753: 100%|██████████| 499/499 [00:05<00:00, 85.91it/s]\n",
      "Training Epoch 754: 100%|██████████| 499/499 [00:05<00:00, 87.06it/s]\n",
      "Training Epoch 755: 100%|██████████| 499/499 [00:05<00:00, 86.33it/s]\n",
      "Training Epoch 756: 100%|██████████| 499/499 [00:05<00:00, 86.43it/s]\n",
      "Training Epoch 757: 100%|██████████| 499/499 [00:05<00:00, 86.43it/s]\n",
      "Training Epoch 758: 100%|██████████| 499/499 [00:05<00:00, 89.08it/s]\n",
      "Training Epoch 759: 100%|██████████| 499/499 [00:05<00:00, 86.20it/s]\n",
      "Training Epoch 760: 100%|██████████| 499/499 [00:05<00:00, 89.91it/s]\n",
      "Training Epoch 761: 100%|██████████| 499/499 [00:05<00:00, 86.77it/s]\n"
     ]
    },
    {
     "name": "stdout",
     "output_type": "stream",
     "text": [
      "Epoch 760 - Train Loss: 0.1548, Train MSE: 0.1548, Train MAE: 0.2831\n",
      "Epoch 760 - Validation Loss: 2.1277, Validation MSE: 2.1281, Validation MAE: 1.0813\n"
     ]
    },
    {
     "name": "stderr",
     "output_type": "stream",
     "text": [
      "Training Epoch 762: 100%|██████████| 499/499 [00:05<00:00, 87.32it/s]\n",
      "Training Epoch 763: 100%|██████████| 499/499 [00:05<00:00, 88.70it/s]\n",
      "Training Epoch 764: 100%|██████████| 499/499 [00:05<00:00, 87.13it/s]\n",
      "Training Epoch 765: 100%|██████████| 499/499 [00:05<00:00, 89.16it/s]\n",
      "Training Epoch 766: 100%|██████████| 499/499 [00:05<00:00, 87.89it/s]\n",
      "Training Epoch 767: 100%|██████████| 499/499 [00:05<00:00, 86.96it/s]\n",
      "Training Epoch 768: 100%|██████████| 499/499 [00:05<00:00, 87.63it/s]\n",
      "Training Epoch 769: 100%|██████████| 499/499 [00:05<00:00, 89.19it/s]\n",
      "Training Epoch 770: 100%|██████████| 499/499 [00:05<00:00, 85.77it/s]\n",
      "Training Epoch 771: 100%|██████████| 499/499 [00:05<00:00, 89.09it/s]\n"
     ]
    },
    {
     "name": "stdout",
     "output_type": "stream",
     "text": [
      "Epoch 770 - Train Loss: 0.1583, Train MSE: 0.1584, Train MAE: 0.2861\n",
      "Epoch 770 - Validation Loss: 2.1136, Validation MSE: 2.1136, Validation MAE: 1.0738\n"
     ]
    },
    {
     "name": "stderr",
     "output_type": "stream",
     "text": [
      "Training Epoch 772: 100%|██████████| 499/499 [00:05<00:00, 87.58it/s]\n",
      "Training Epoch 773: 100%|██████████| 499/499 [00:05<00:00, 88.64it/s]\n",
      "Training Epoch 774: 100%|██████████| 499/499 [00:05<00:00, 89.27it/s]\n",
      "Training Epoch 775: 100%|██████████| 499/499 [00:05<00:00, 87.77it/s]\n",
      "Training Epoch 776: 100%|██████████| 499/499 [00:05<00:00, 88.59it/s]\n",
      "Training Epoch 777: 100%|██████████| 499/499 [00:05<00:00, 87.92it/s]\n",
      "Training Epoch 778: 100%|██████████| 499/499 [00:05<00:00, 87.56it/s]\n",
      "Training Epoch 779: 100%|██████████| 499/499 [00:05<00:00, 88.97it/s]\n",
      "Training Epoch 780: 100%|██████████| 499/499 [00:05<00:00, 89.79it/s]\n",
      "Training Epoch 781: 100%|██████████| 499/499 [00:05<00:00, 88.34it/s]\n"
     ]
    },
    {
     "name": "stdout",
     "output_type": "stream",
     "text": [
      "Epoch 780 - Train Loss: 0.1473, Train MSE: 0.1474, Train MAE: 0.2812\n",
      "Epoch 780 - Validation Loss: 2.1294, Validation MSE: 2.1300, Validation MAE: 1.0781\n"
     ]
    },
    {
     "name": "stderr",
     "output_type": "stream",
     "text": [
      "Training Epoch 782: 100%|██████████| 499/499 [00:05<00:00, 89.28it/s]\n",
      "Training Epoch 783: 100%|██████████| 499/499 [00:05<00:00, 86.27it/s]\n",
      "Training Epoch 784: 100%|██████████| 499/499 [00:05<00:00, 88.71it/s]\n",
      "Training Epoch 785: 100%|██████████| 499/499 [00:05<00:00, 89.31it/s]\n",
      "Training Epoch 786: 100%|██████████| 499/499 [00:05<00:00, 86.49it/s]\n",
      "Training Epoch 787: 100%|██████████| 499/499 [00:05<00:00, 87.51it/s]\n",
      "Training Epoch 788: 100%|██████████| 499/499 [00:05<00:00, 90.05it/s]\n",
      "Training Epoch 789: 100%|██████████| 499/499 [00:05<00:00, 86.44it/s]\n",
      "Training Epoch 790: 100%|██████████| 499/499 [00:05<00:00, 87.82it/s]\n",
      "Training Epoch 791: 100%|██████████| 499/499 [00:05<00:00, 87.59it/s]\n"
     ]
    },
    {
     "name": "stdout",
     "output_type": "stream",
     "text": [
      "Epoch 790 - Train Loss: 0.1511, Train MSE: 0.1512, Train MAE: 0.2812\n",
      "Epoch 790 - Validation Loss: 2.1017, Validation MSE: 2.1019, Validation MAE: 1.0720\n"
     ]
    },
    {
     "name": "stderr",
     "output_type": "stream",
     "text": [
      "Training Epoch 792: 100%|██████████| 499/499 [00:05<00:00, 88.90it/s]\n",
      "Training Epoch 793: 100%|██████████| 499/499 [00:05<00:00, 88.55it/s]\n",
      "Training Epoch 794: 100%|██████████| 499/499 [00:05<00:00, 87.27it/s]\n",
      "Training Epoch 795: 100%|██████████| 499/499 [00:05<00:00, 87.38it/s]\n",
      "Training Epoch 796: 100%|██████████| 499/499 [00:05<00:00, 87.12it/s]\n",
      "Training Epoch 797: 100%|██████████| 499/499 [00:05<00:00, 88.78it/s]\n",
      "Training Epoch 798: 100%|██████████| 499/499 [00:05<00:00, 87.90it/s]\n",
      "Training Epoch 799: 100%|██████████| 499/499 [00:05<00:00, 89.06it/s]\n",
      "Training Epoch 800: 100%|██████████| 499/499 [00:05<00:00, 86.66it/s]\n",
      "Training Epoch 801: 100%|██████████| 499/499 [00:05<00:00, 87.76it/s]\n"
     ]
    },
    {
     "name": "stdout",
     "output_type": "stream",
     "text": [
      "Epoch 800 - Train Loss: 0.1459, Train MSE: 0.1460, Train MAE: 0.2783\n",
      "Epoch 800 - Validation Loss: 2.1528, Validation MSE: 2.1532, Validation MAE: 1.0910\n"
     ]
    },
    {
     "name": "stderr",
     "output_type": "stream",
     "text": [
      "Training Epoch 802: 100%|██████████| 499/499 [00:05<00:00, 86.77it/s]\n",
      "Training Epoch 803: 100%|██████████| 499/499 [00:05<00:00, 90.51it/s]\n",
      "Training Epoch 804: 100%|██████████| 499/499 [00:05<00:00, 89.32it/s]\n",
      "Training Epoch 805: 100%|██████████| 499/499 [00:05<00:00, 86.33it/s]\n",
      "Training Epoch 806: 100%|██████████| 499/499 [00:05<00:00, 86.29it/s]\n",
      "Training Epoch 807: 100%|██████████| 499/499 [00:05<00:00, 88.73it/s]\n",
      "Training Epoch 808: 100%|██████████| 499/499 [00:05<00:00, 87.16it/s]\n",
      "Training Epoch 809: 100%|██████████| 499/499 [00:05<00:00, 89.21it/s]\n",
      "Training Epoch 810: 100%|██████████| 499/499 [00:05<00:00, 87.67it/s]\n",
      "Training Epoch 811: 100%|██████████| 499/499 [00:05<00:00, 88.43it/s]\n"
     ]
    },
    {
     "name": "stdout",
     "output_type": "stream",
     "text": [
      "Epoch 810 - Train Loss: 0.1545, Train MSE: 0.1545, Train MAE: 0.2815\n",
      "Epoch 810 - Validation Loss: 2.1320, Validation MSE: 2.1318, Validation MAE: 1.0816\n"
     ]
    },
    {
     "name": "stderr",
     "output_type": "stream",
     "text": [
      "Training Epoch 812: 100%|██████████| 499/499 [00:05<00:00, 89.17it/s]\n",
      "Training Epoch 813: 100%|██████████| 499/499 [00:05<00:00, 86.59it/s]\n",
      "Training Epoch 814: 100%|██████████| 499/499 [00:05<00:00, 90.53it/s]\n",
      "Training Epoch 815: 100%|██████████| 499/499 [00:05<00:00, 87.83it/s]\n",
      "Training Epoch 816: 100%|██████████| 499/499 [00:05<00:00, 86.57it/s]\n",
      "Training Epoch 817: 100%|██████████| 499/499 [00:05<00:00, 88.89it/s]\n",
      "Training Epoch 818: 100%|██████████| 499/499 [00:05<00:00, 88.30it/s]\n",
      "Training Epoch 819: 100%|██████████| 499/499 [00:05<00:00, 87.06it/s]\n",
      "Training Epoch 820: 100%|██████████| 499/499 [00:05<00:00, 88.22it/s]\n",
      "Training Epoch 821: 100%|██████████| 499/499 [00:05<00:00, 85.75it/s]\n"
     ]
    },
    {
     "name": "stdout",
     "output_type": "stream",
     "text": [
      "Epoch 820 - Train Loss: 0.1455, Train MSE: 0.1454, Train MAE: 0.2787\n",
      "Epoch 820 - Validation Loss: 2.1448, Validation MSE: 2.1449, Validation MAE: 1.0834\n"
     ]
    },
    {
     "name": "stderr",
     "output_type": "stream",
     "text": [
      "Training Epoch 822: 100%|██████████| 499/499 [00:05<00:00, 87.90it/s]\n",
      "Training Epoch 823: 100%|██████████| 499/499 [00:05<00:00, 88.52it/s]\n",
      "Training Epoch 824: 100%|██████████| 499/499 [00:05<00:00, 86.92it/s]\n",
      "Training Epoch 825: 100%|██████████| 499/499 [00:05<00:00, 89.87it/s]\n",
      "Training Epoch 826: 100%|██████████| 499/499 [00:05<00:00, 89.67it/s]\n",
      "Training Epoch 827: 100%|██████████| 499/499 [00:05<00:00, 86.09it/s]\n",
      "Training Epoch 828: 100%|██████████| 499/499 [00:05<00:00, 87.75it/s]\n",
      "Training Epoch 829: 100%|██████████| 499/499 [00:05<00:00, 86.47it/s]\n",
      "Training Epoch 830: 100%|██████████| 499/499 [00:05<00:00, 88.45it/s]\n",
      "Training Epoch 831: 100%|██████████| 499/499 [00:05<00:00, 89.25it/s]\n"
     ]
    },
    {
     "name": "stdout",
     "output_type": "stream",
     "text": [
      "Epoch 830 - Train Loss: 0.1472, Train MSE: 0.1473, Train MAE: 0.2779\n",
      "Epoch 830 - Validation Loss: 2.1375, Validation MSE: 2.1381, Validation MAE: 1.0860\n"
     ]
    },
    {
     "name": "stderr",
     "output_type": "stream",
     "text": [
      "Training Epoch 832: 100%|██████████| 499/499 [00:05<00:00, 86.31it/s]\n",
      "Training Epoch 833: 100%|██████████| 499/499 [00:05<00:00, 87.67it/s]\n",
      "Training Epoch 834: 100%|██████████| 499/499 [00:05<00:00, 90.11it/s]\n",
      "Training Epoch 835: 100%|██████████| 499/499 [00:05<00:00, 88.17it/s]\n",
      "Training Epoch 836: 100%|██████████| 499/499 [00:05<00:00, 89.08it/s]\n",
      "Training Epoch 837: 100%|██████████| 499/499 [00:05<00:00, 86.97it/s]\n",
      "Training Epoch 838: 100%|██████████| 499/499 [00:05<00:00, 88.98it/s]\n",
      "Training Epoch 839: 100%|██████████| 499/499 [00:05<00:00, 88.04it/s]\n",
      "Training Epoch 840: 100%|██████████| 499/499 [00:05<00:00, 88.35it/s] \n",
      "Training Epoch 841: 100%|██████████| 499/499 [00:05<00:00, 87.25it/s]\n"
     ]
    },
    {
     "name": "stdout",
     "output_type": "stream",
     "text": [
      "Epoch 840 - Train Loss: 0.1473, Train MSE: 0.1473, Train MAE: 0.2763\n",
      "Epoch 840 - Validation Loss: 2.1275, Validation MSE: 2.1277, Validation MAE: 1.0812\n"
     ]
    },
    {
     "name": "stderr",
     "output_type": "stream",
     "text": [
      "Training Epoch 842: 100%|██████████| 499/499 [00:05<00:00, 88.71it/s]\n",
      "Training Epoch 843: 100%|██████████| 499/499 [00:05<00:00, 86.56it/s]\n",
      "Training Epoch 844: 100%|██████████| 499/499 [00:05<00:00, 90.19it/s]\n",
      "Training Epoch 845: 100%|██████████| 499/499 [00:05<00:00, 89.46it/s]\n",
      "Training Epoch 846: 100%|██████████| 499/499 [00:05<00:00, 87.68it/s]\n",
      "Training Epoch 847: 100%|██████████| 499/499 [00:05<00:00, 89.74it/s]\n",
      "Training Epoch 848: 100%|██████████| 499/499 [00:05<00:00, 87.41it/s]\n",
      "Training Epoch 849: 100%|██████████| 499/499 [00:05<00:00, 89.23it/s]\n",
      "Training Epoch 850: 100%|██████████| 499/499 [00:05<00:00, 87.60it/s]\n",
      "Training Epoch 851: 100%|██████████| 499/499 [00:05<00:00, 87.10it/s]\n"
     ]
    },
    {
     "name": "stdout",
     "output_type": "stream",
     "text": [
      "Epoch 850 - Train Loss: 0.1506, Train MSE: 0.1505, Train MAE: 0.2770\n",
      "Epoch 850 - Validation Loss: 2.1197, Validation MSE: 2.1201, Validation MAE: 1.0781\n"
     ]
    },
    {
     "name": "stderr",
     "output_type": "stream",
     "text": [
      "Training Epoch 852: 100%|██████████| 499/499 [00:05<00:00, 89.28it/s]\n",
      "Training Epoch 853: 100%|██████████| 499/499 [00:05<00:00, 87.20it/s]\n",
      "Training Epoch 854: 100%|██████████| 499/499 [00:05<00:00, 84.70it/s]\n",
      "Training Epoch 855: 100%|██████████| 499/499 [00:05<00:00, 89.30it/s]\n",
      "Training Epoch 856: 100%|██████████| 499/499 [00:05<00:00, 85.47it/s]\n",
      "Training Epoch 857: 100%|██████████| 499/499 [00:05<00:00, 87.09it/s]\n",
      "Training Epoch 858: 100%|██████████| 499/499 [00:05<00:00, 89.21it/s]\n",
      "Training Epoch 859: 100%|██████████| 499/499 [00:05<00:00, 87.47it/s]\n",
      "Training Epoch 860: 100%|██████████| 499/499 [00:05<00:00, 90.27it/s]\n",
      "Training Epoch 861: 100%|██████████| 499/499 [00:05<00:00, 89.48it/s]\n"
     ]
    },
    {
     "name": "stdout",
     "output_type": "stream",
     "text": [
      "Epoch 860 - Train Loss: 0.1428, Train MSE: 0.1428, Train MAE: 0.2720\n",
      "Epoch 860 - Validation Loss: 2.1431, Validation MSE: 2.1436, Validation MAE: 1.0890\n"
     ]
    },
    {
     "name": "stderr",
     "output_type": "stream",
     "text": [
      "Training Epoch 862: 100%|██████████| 499/499 [00:05<00:00, 88.22it/s]\n",
      "Training Epoch 863: 100%|██████████| 499/499 [00:05<00:00, 87.06it/s]\n",
      "Training Epoch 864: 100%|██████████| 499/499 [00:05<00:00, 88.78it/s]\n",
      "Training Epoch 865: 100%|██████████| 499/499 [00:05<00:00, 87.87it/s]\n",
      "Training Epoch 866: 100%|██████████| 499/499 [00:05<00:00, 88.39it/s]\n",
      "Training Epoch 867: 100%|██████████| 499/499 [00:05<00:00, 86.07it/s]\n",
      "Training Epoch 868: 100%|██████████| 499/499 [00:05<00:00, 93.07it/s]\n",
      "Training Epoch 869: 100%|██████████| 499/499 [00:05<00:00, 89.19it/s]\n",
      "Training Epoch 870: 100%|██████████| 499/499 [00:05<00:00, 90.23it/s]\n",
      "Training Epoch 871: 100%|██████████| 499/499 [00:05<00:00, 88.80it/s]\n"
     ]
    },
    {
     "name": "stdout",
     "output_type": "stream",
     "text": [
      "Epoch 870 - Train Loss: 0.1433, Train MSE: 0.1433, Train MAE: 0.2747\n",
      "Epoch 870 - Validation Loss: 2.1369, Validation MSE: 2.1369, Validation MAE: 1.0817\n"
     ]
    },
    {
     "name": "stderr",
     "output_type": "stream",
     "text": [
      "Training Epoch 872: 100%|██████████| 499/499 [00:05<00:00, 88.10it/s]\n",
      "Training Epoch 873: 100%|██████████| 499/499 [00:05<00:00, 85.77it/s]\n",
      "Training Epoch 874: 100%|██████████| 499/499 [00:05<00:00, 87.83it/s]\n",
      "Training Epoch 875: 100%|██████████| 499/499 [00:05<00:00, 88.23it/s]\n",
      "Training Epoch 876: 100%|██████████| 499/499 [00:05<00:00, 89.05it/s]\n",
      "Training Epoch 877: 100%|██████████| 499/499 [00:05<00:00, 88.49it/s]\n",
      "Training Epoch 878: 100%|██████████| 499/499 [00:05<00:00, 83.41it/s]\n",
      "Training Epoch 879: 100%|██████████| 499/499 [00:05<00:00, 88.73it/s]\n",
      "Training Epoch 880: 100%|██████████| 499/499 [00:05<00:00, 89.08it/s]\n",
      "Training Epoch 881: 100%|██████████| 499/499 [00:05<00:00, 86.19it/s]\n"
     ]
    },
    {
     "name": "stdout",
     "output_type": "stream",
     "text": [
      "Epoch 880 - Train Loss: 0.1438, Train MSE: 0.1436, Train MAE: 0.2735\n",
      "Epoch 880 - Validation Loss: 2.1410, Validation MSE: 2.1414, Validation MAE: 1.0861\n"
     ]
    },
    {
     "name": "stderr",
     "output_type": "stream",
     "text": [
      "Training Epoch 882: 100%|██████████| 499/499 [00:05<00:00, 89.65it/s]\n",
      "Training Epoch 883: 100%|██████████| 499/499 [00:05<00:00, 90.93it/s]\n",
      "Training Epoch 884: 100%|██████████| 499/499 [00:05<00:00, 88.29it/s] \n",
      "Training Epoch 885: 100%|██████████| 499/499 [00:05<00:00, 87.05it/s]\n",
      "Training Epoch 886: 100%|██████████| 499/499 [00:05<00:00, 87.92it/s]\n",
      "Training Epoch 887: 100%|██████████| 499/499 [00:05<00:00, 86.96it/s]\n",
      "Training Epoch 888: 100%|██████████| 499/499 [00:05<00:00, 89.47it/s]\n",
      "Training Epoch 889: 100%|██████████| 499/499 [00:05<00:00, 85.90it/s]\n",
      "Training Epoch 890: 100%|██████████| 499/499 [00:05<00:00, 87.39it/s]\n",
      "Training Epoch 891: 100%|██████████| 499/499 [00:05<00:00, 88.68it/s]\n"
     ]
    },
    {
     "name": "stdout",
     "output_type": "stream",
     "text": [
      "Epoch 890 - Train Loss: 0.1476, Train MSE: 0.1476, Train MAE: 0.2750\n",
      "Epoch 890 - Validation Loss: 2.1358, Validation MSE: 2.1362, Validation MAE: 1.0837\n"
     ]
    },
    {
     "name": "stderr",
     "output_type": "stream",
     "text": [
      "Training Epoch 892: 100%|██████████| 499/499 [00:05<00:00, 87.19it/s]\n",
      "Training Epoch 893: 100%|██████████| 499/499 [00:05<00:00, 87.92it/s]\n",
      "Training Epoch 894: 100%|██████████| 499/499 [00:05<00:00, 87.33it/s]\n",
      "Training Epoch 895: 100%|██████████| 499/499 [00:05<00:00, 89.52it/s]\n",
      "Training Epoch 896: 100%|██████████| 499/499 [00:05<00:00, 87.32it/s]\n",
      "Training Epoch 897: 100%|██████████| 499/499 [00:05<00:00, 85.22it/s]\n",
      "Training Epoch 898: 100%|██████████| 499/499 [00:05<00:00, 87.53it/s]\n",
      "Training Epoch 899: 100%|██████████| 499/499 [00:05<00:00, 88.96it/s]\n",
      "Training Epoch 900: 100%|██████████| 499/499 [00:05<00:00, 86.77it/s]\n",
      "Training Epoch 901: 100%|██████████| 499/499 [00:05<00:00, 88.70it/s]\n"
     ]
    },
    {
     "name": "stdout",
     "output_type": "stream",
     "text": [
      "Epoch 900 - Train Loss: 0.1387, Train MSE: 0.1389, Train MAE: 0.2697\n",
      "Epoch 900 - Validation Loss: 2.1530, Validation MSE: 2.1535, Validation MAE: 1.0900\n"
     ]
    },
    {
     "name": "stderr",
     "output_type": "stream",
     "text": [
      "Training Epoch 902: 100%|██████████| 499/499 [00:05<00:00, 89.87it/s]\n",
      "Training Epoch 903: 100%|██████████| 499/499 [00:05<00:00, 88.26it/s]\n",
      "Training Epoch 904: 100%|██████████| 499/499 [00:05<00:00, 90.14it/s]\n",
      "Training Epoch 905: 100%|██████████| 499/499 [00:05<00:00, 87.66it/s]\n",
      "Training Epoch 906: 100%|██████████| 499/499 [00:05<00:00, 88.25it/s]\n",
      "Training Epoch 907: 100%|██████████| 499/499 [00:05<00:00, 90.59it/s]\n",
      "Training Epoch 908: 100%|██████████| 499/499 [00:05<00:00, 87.64it/s]\n",
      "Training Epoch 909: 100%|██████████| 499/499 [00:05<00:00, 89.80it/s]\n",
      "Training Epoch 910: 100%|██████████| 499/499 [00:05<00:00, 90.02it/s]\n",
      "Training Epoch 911: 100%|██████████| 499/499 [00:05<00:00, 88.23it/s]\n"
     ]
    },
    {
     "name": "stdout",
     "output_type": "stream",
     "text": [
      "Epoch 910 - Train Loss: 0.1394, Train MSE: 0.1394, Train MAE: 0.2690\n",
      "Epoch 910 - Validation Loss: 2.1205, Validation MSE: 2.1206, Validation MAE: 1.0780\n"
     ]
    },
    {
     "name": "stderr",
     "output_type": "stream",
     "text": [
      "Training Epoch 912: 100%|██████████| 499/499 [00:05<00:00, 90.38it/s]\n",
      "Training Epoch 913: 100%|██████████| 499/499 [00:05<00:00, 90.02it/s]\n",
      "Training Epoch 914: 100%|██████████| 499/499 [00:05<00:00, 89.37it/s] \n",
      "Training Epoch 915: 100%|██████████| 499/499 [00:05<00:00, 88.51it/s]\n",
      "Training Epoch 916: 100%|██████████| 499/499 [00:05<00:00, 87.25it/s]\n",
      "Training Epoch 917: 100%|██████████| 499/499 [00:05<00:00, 87.81it/s]\n",
      "Training Epoch 918: 100%|██████████| 499/499 [00:05<00:00, 89.09it/s] \n",
      "Training Epoch 919: 100%|██████████| 499/499 [00:05<00:00, 86.87it/s]\n",
      "Training Epoch 920: 100%|██████████| 499/499 [00:05<00:00, 89.40it/s]\n",
      "Training Epoch 921: 100%|██████████| 499/499 [00:05<00:00, 88.44it/s]\n"
     ]
    },
    {
     "name": "stdout",
     "output_type": "stream",
     "text": [
      "Epoch 920 - Train Loss: 0.1423, Train MSE: 0.1424, Train MAE: 0.2728\n",
      "Epoch 920 - Validation Loss: 2.1231, Validation MSE: 2.1235, Validation MAE: 1.0845\n"
     ]
    },
    {
     "name": "stderr",
     "output_type": "stream",
     "text": [
      "Training Epoch 922: 100%|██████████| 499/499 [00:05<00:00, 88.06it/s]\n",
      "Training Epoch 923: 100%|██████████| 499/499 [00:05<00:00, 88.53it/s]\n",
      "Training Epoch 924: 100%|██████████| 499/499 [00:05<00:00, 87.08it/s]\n",
      "Training Epoch 925: 100%|██████████| 499/499 [00:05<00:00, 88.00it/s]\n",
      "Training Epoch 926: 100%|██████████| 499/499 [00:05<00:00, 88.90it/s]\n",
      "Training Epoch 927: 100%|██████████| 499/499 [00:05<00:00, 88.43it/s]\n",
      "Training Epoch 928: 100%|██████████| 499/499 [00:05<00:00, 90.27it/s]\n",
      "Training Epoch 929: 100%|██████████| 499/499 [00:05<00:00, 86.58it/s]\n",
      "Training Epoch 930: 100%|██████████| 499/499 [00:05<00:00, 89.15it/s]\n",
      "Training Epoch 931: 100%|██████████| 499/499 [00:05<00:00, 87.55it/s]\n"
     ]
    },
    {
     "name": "stdout",
     "output_type": "stream",
     "text": [
      "Epoch 930 - Train Loss: 0.1398, Train MSE: 0.1398, Train MAE: 0.2723\n",
      "Epoch 930 - Validation Loss: 2.1207, Validation MSE: 2.1210, Validation MAE: 1.0760\n"
     ]
    },
    {
     "name": "stderr",
     "output_type": "stream",
     "text": [
      "Training Epoch 932: 100%|██████████| 499/499 [00:05<00:00, 88.73it/s]\n",
      "Training Epoch 933: 100%|██████████| 499/499 [00:05<00:00, 87.80it/s]\n",
      "Training Epoch 934: 100%|██████████| 499/499 [00:05<00:00, 89.97it/s]\n",
      "Training Epoch 935: 100%|██████████| 499/499 [00:05<00:00, 88.29it/s]\n",
      "Training Epoch 936: 100%|██████████| 499/499 [00:05<00:00, 88.94it/s]\n",
      "Training Epoch 937: 100%|██████████| 499/499 [00:05<00:00, 89.22it/s]\n",
      "Training Epoch 938: 100%|██████████| 499/499 [00:05<00:00, 84.97it/s]\n",
      "Training Epoch 939: 100%|██████████| 499/499 [00:05<00:00, 90.41it/s]\n",
      "Training Epoch 940: 100%|██████████| 499/499 [00:05<00:00, 89.51it/s]\n",
      "Training Epoch 941: 100%|██████████| 499/499 [00:05<00:00, 87.60it/s]\n"
     ]
    },
    {
     "name": "stdout",
     "output_type": "stream",
     "text": [
      "Epoch 940 - Train Loss: 0.1462, Train MSE: 0.1461, Train MAE: 0.2747\n",
      "Epoch 940 - Validation Loss: 2.1261, Validation MSE: 2.1268, Validation MAE: 1.0830\n"
     ]
    },
    {
     "name": "stderr",
     "output_type": "stream",
     "text": [
      "Training Epoch 942: 100%|██████████| 499/499 [00:05<00:00, 91.41it/s]\n",
      "Training Epoch 943: 100%|██████████| 499/499 [00:05<00:00, 87.56it/s]\n",
      "Training Epoch 944: 100%|██████████| 499/499 [00:05<00:00, 90.67it/s]\n",
      "Training Epoch 945: 100%|██████████| 499/499 [00:05<00:00, 91.38it/s]\n",
      "Training Epoch 946: 100%|██████████| 499/499 [00:05<00:00, 88.65it/s]\n",
      "Training Epoch 947: 100%|██████████| 499/499 [00:05<00:00, 89.49it/s]\n",
      "Training Epoch 948: 100%|██████████| 499/499 [00:05<00:00, 89.01it/s]\n",
      "Training Epoch 949: 100%|██████████| 499/499 [00:05<00:00, 87.16it/s]\n",
      "Training Epoch 950: 100%|██████████| 499/499 [00:05<00:00, 87.35it/s]\n",
      "Training Epoch 951: 100%|██████████| 499/499 [00:05<00:00, 90.41it/s]\n"
     ]
    },
    {
     "name": "stdout",
     "output_type": "stream",
     "text": [
      "Epoch 950 - Train Loss: 0.1372, Train MSE: 0.1372, Train MAE: 0.2670\n",
      "Epoch 950 - Validation Loss: 2.1355, Validation MSE: 2.1360, Validation MAE: 1.0829\n"
     ]
    },
    {
     "name": "stderr",
     "output_type": "stream",
     "text": [
      "Training Epoch 952: 100%|██████████| 499/499 [00:05<00:00, 87.79it/s]\n",
      "Training Epoch 953: 100%|██████████| 499/499 [00:05<00:00, 88.10it/s]\n",
      "Training Epoch 954: 100%|██████████| 499/499 [00:05<00:00, 87.55it/s]\n",
      "Training Epoch 955: 100%|██████████| 499/499 [00:05<00:00, 89.24it/s]\n",
      "Training Epoch 956: 100%|██████████| 499/499 [00:05<00:00, 89.30it/s]\n",
      "Training Epoch 957: 100%|██████████| 499/499 [00:05<00:00, 86.84it/s]\n",
      "Training Epoch 958: 100%|██████████| 499/499 [00:05<00:00, 88.79it/s]\n",
      "Training Epoch 959: 100%|██████████| 499/499 [00:05<00:00, 87.50it/s]\n",
      "Training Epoch 960: 100%|██████████| 499/499 [00:05<00:00, 85.16it/s]\n",
      "Training Epoch 961: 100%|██████████| 499/499 [00:05<00:00, 87.05it/s]\n"
     ]
    },
    {
     "name": "stdout",
     "output_type": "stream",
     "text": [
      "Epoch 960 - Train Loss: 0.1354, Train MSE: 0.1355, Train MAE: 0.2668\n",
      "Epoch 960 - Validation Loss: 2.1704, Validation MSE: 2.1711, Validation MAE: 1.0929\n"
     ]
    },
    {
     "name": "stderr",
     "output_type": "stream",
     "text": [
      "Training Epoch 962: 100%|██████████| 499/499 [00:05<00:00, 88.12it/s]\n",
      "Training Epoch 963: 100%|██████████| 499/499 [00:05<00:00, 88.15it/s]\n",
      "Training Epoch 964: 100%|██████████| 499/499 [00:05<00:00, 87.08it/s]\n",
      "Training Epoch 965: 100%|██████████| 499/499 [00:05<00:00, 87.88it/s]\n",
      "Training Epoch 966: 100%|██████████| 499/499 [00:05<00:00, 90.26it/s]\n",
      "Training Epoch 967: 100%|██████████| 499/499 [00:05<00:00, 87.53it/s]\n",
      "Training Epoch 968: 100%|██████████| 499/499 [00:05<00:00, 86.08it/s]\n",
      "Training Epoch 969: 100%|██████████| 499/499 [00:05<00:00, 88.25it/s]\n",
      "Training Epoch 970: 100%|██████████| 499/499 [00:05<00:00, 86.96it/s]\n",
      "Training Epoch 971: 100%|██████████| 499/499 [00:05<00:00, 87.71it/s]\n"
     ]
    },
    {
     "name": "stdout",
     "output_type": "stream",
     "text": [
      "Epoch 970 - Train Loss: 0.1309, Train MSE: 0.1307, Train MAE: 0.2647\n",
      "Epoch 970 - Validation Loss: 2.1648, Validation MSE: 2.1652, Validation MAE: 1.0946\n"
     ]
    },
    {
     "name": "stderr",
     "output_type": "stream",
     "text": [
      "Training Epoch 972: 100%|██████████| 499/499 [00:05<00:00, 90.01it/s]\n",
      "Training Epoch 973: 100%|██████████| 499/499 [00:05<00:00, 86.38it/s]\n",
      "Training Epoch 974: 100%|██████████| 499/499 [00:05<00:00, 89.35it/s]\n",
      "Training Epoch 975: 100%|██████████| 499/499 [00:05<00:00, 88.48it/s]\n",
      "Training Epoch 976: 100%|██████████| 499/499 [00:05<00:00, 87.18it/s]\n",
      "Training Epoch 977: 100%|██████████| 499/499 [00:05<00:00, 88.21it/s]\n",
      "Training Epoch 978: 100%|██████████| 499/499 [00:05<00:00, 88.88it/s]\n",
      "Training Epoch 979: 100%|██████████| 499/499 [00:05<00:00, 87.19it/s]\n",
      "Training Epoch 980: 100%|██████████| 499/499 [00:05<00:00, 87.96it/s]\n",
      "Training Epoch 981: 100%|██████████| 499/499 [00:05<00:00, 88.55it/s]\n"
     ]
    },
    {
     "name": "stdout",
     "output_type": "stream",
     "text": [
      "Epoch 980 - Train Loss: 0.1423, Train MSE: 0.1422, Train MAE: 0.2701\n",
      "Epoch 980 - Validation Loss: 2.1401, Validation MSE: 2.1405, Validation MAE: 1.0871\n"
     ]
    },
    {
     "name": "stderr",
     "output_type": "stream",
     "text": [
      "Training Epoch 982: 100%|██████████| 499/499 [00:05<00:00, 86.80it/s]\n",
      "Training Epoch 983: 100%|██████████| 499/499 [00:05<00:00, 90.81it/s]\n",
      "Training Epoch 984: 100%|██████████| 499/499 [00:05<00:00, 87.90it/s]\n",
      "Training Epoch 985: 100%|██████████| 499/499 [00:05<00:00, 88.22it/s]\n",
      "Training Epoch 986: 100%|██████████| 499/499 [00:05<00:00, 87.27it/s]\n",
      "Training Epoch 987: 100%|██████████| 499/499 [00:05<00:00, 84.45it/s]\n",
      "Training Epoch 988: 100%|██████████| 499/499 [00:05<00:00, 87.06it/s]\n",
      "Training Epoch 989: 100%|██████████| 499/499 [00:05<00:00, 86.31it/s]\n",
      "Training Epoch 990: 100%|██████████| 499/499 [00:05<00:00, 86.73it/s]\n",
      "Training Epoch 991: 100%|██████████| 499/499 [00:05<00:00, 87.84it/s]\n"
     ]
    },
    {
     "name": "stdout",
     "output_type": "stream",
     "text": [
      "Epoch 990 - Train Loss: 0.1351, Train MSE: 0.1351, Train MAE: 0.2663\n",
      "Epoch 990 - Validation Loss: 2.1736, Validation MSE: 2.1740, Validation MAE: 1.0939\n"
     ]
    },
    {
     "name": "stderr",
     "output_type": "stream",
     "text": [
      "Training Epoch 992: 100%|██████████| 499/499 [00:05<00:00, 88.53it/s]\n",
      "Training Epoch 993: 100%|██████████| 499/499 [00:05<00:00, 87.77it/s]\n",
      "Training Epoch 994: 100%|██████████| 499/499 [00:05<00:00, 88.11it/s]\n",
      "Training Epoch 995: 100%|██████████| 499/499 [00:05<00:00, 86.59it/s]\n",
      "Training Epoch 996: 100%|██████████| 499/499 [00:05<00:00, 85.33it/s]\n",
      "Training Epoch 997: 100%|██████████| 499/499 [00:05<00:00, 87.98it/s]\n",
      "Training Epoch 998: 100%|██████████| 499/499 [00:05<00:00, 87.01it/s]\n",
      "Training Epoch 999: 100%|██████████| 499/499 [00:05<00:00, 85.91it/s]\n",
      "Training Epoch 1000: 100%|██████████| 499/499 [00:05<00:00, 88.75it/s]\n",
      "Training Epoch 1001: 100%|██████████| 499/499 [00:05<00:00, 87.29it/s]\n"
     ]
    },
    {
     "name": "stdout",
     "output_type": "stream",
     "text": [
      "Epoch 1000 - Train Loss: 0.1318, Train MSE: 0.1317, Train MAE: 0.2623\n",
      "Epoch 1000 - Validation Loss: 2.1392, Validation MSE: 2.1397, Validation MAE: 1.0869\n"
     ]
    },
    {
     "name": "stderr",
     "output_type": "stream",
     "text": [
      "Training Epoch 1002: 100%|██████████| 499/499 [00:05<00:00, 90.11it/s]\n",
      "Training Epoch 1003: 100%|██████████| 499/499 [00:05<00:00, 86.42it/s]\n",
      "Training Epoch 1004: 100%|██████████| 499/499 [00:05<00:00, 88.42it/s]\n",
      "Training Epoch 1005: 100%|██████████| 499/499 [00:05<00:00, 88.79it/s]\n",
      "Training Epoch 1006: 100%|██████████| 499/499 [00:05<00:00, 87.55it/s]\n",
      "Training Epoch 1007: 100%|██████████| 499/499 [00:05<00:00, 89.63it/s]\n",
      "Training Epoch 1008: 100%|██████████| 499/499 [00:05<00:00, 88.71it/s]\n",
      "Training Epoch 1009: 100%|██████████| 499/499 [00:05<00:00, 85.78it/s]\n",
      "Training Epoch 1010: 100%|██████████| 499/499 [00:05<00:00, 88.11it/s]\n",
      "Training Epoch 1011: 100%|██████████| 499/499 [00:05<00:00, 85.94it/s]\n"
     ]
    },
    {
     "name": "stdout",
     "output_type": "stream",
     "text": [
      "Epoch 1010 - Train Loss: 0.1362, Train MSE: 0.1362, Train MAE: 0.2661\n",
      "Epoch 1010 - Validation Loss: 2.1447, Validation MSE: 2.1453, Validation MAE: 1.0847\n"
     ]
    },
    {
     "name": "stderr",
     "output_type": "stream",
     "text": [
      "Training Epoch 1012: 100%|██████████| 499/499 [00:05<00:00, 87.17it/s]\n",
      "Training Epoch 1013: 100%|██████████| 499/499 [00:05<00:00, 88.30it/s]\n",
      "Training Epoch 1014: 100%|██████████| 499/499 [00:05<00:00, 85.36it/s]\n",
      "Training Epoch 1015: 100%|██████████| 499/499 [00:05<00:00, 88.03it/s]\n",
      "Training Epoch 1016: 100%|██████████| 499/499 [00:05<00:00, 88.18it/s]\n",
      "Training Epoch 1017: 100%|██████████| 499/499 [00:05<00:00, 87.58it/s]\n",
      "Training Epoch 1018: 100%|██████████| 499/499 [00:05<00:00, 88.91it/s]\n",
      "Training Epoch 1019: 100%|██████████| 499/499 [00:05<00:00, 84.93it/s]\n",
      "Training Epoch 1020: 100%|██████████| 499/499 [00:05<00:00, 85.75it/s]\n",
      "Training Epoch 1021: 100%|██████████| 499/499 [00:05<00:00, 86.83it/s]\n"
     ]
    },
    {
     "name": "stdout",
     "output_type": "stream",
     "text": [
      "Epoch 1020 - Train Loss: 0.1307, Train MSE: 0.1307, Train MAE: 0.2618\n",
      "Epoch 1020 - Validation Loss: 2.1380, Validation MSE: 2.1384, Validation MAE: 1.0852\n"
     ]
    },
    {
     "name": "stderr",
     "output_type": "stream",
     "text": [
      "Training Epoch 1022: 100%|██████████| 499/499 [00:05<00:00, 87.26it/s]\n",
      "Training Epoch 1023: 100%|██████████| 499/499 [00:05<00:00, 86.99it/s]\n",
      "Training Epoch 1024: 100%|██████████| 499/499 [00:05<00:00, 86.53it/s]\n",
      "Training Epoch 1025: 100%|██████████| 499/499 [00:05<00:00, 86.95it/s]\n",
      "Training Epoch 1026: 100%|██████████| 499/499 [00:05<00:00, 87.27it/s]\n",
      "Training Epoch 1027: 100%|██████████| 499/499 [00:05<00:00, 87.86it/s]\n",
      "Training Epoch 1028: 100%|██████████| 499/499 [00:05<00:00, 90.17it/s]\n",
      "Training Epoch 1029: 100%|██████████| 499/499 [00:05<00:00, 86.65it/s]\n",
      "Training Epoch 1030: 100%|██████████| 499/499 [00:05<00:00, 85.82it/s]\n",
      "Training Epoch 1031: 100%|██████████| 499/499 [00:05<00:00, 87.72it/s]\n"
     ]
    },
    {
     "name": "stdout",
     "output_type": "stream",
     "text": [
      "Epoch 1030 - Train Loss: 0.1306, Train MSE: 0.1304, Train MAE: 0.2597\n",
      "Epoch 1030 - Validation Loss: 2.1282, Validation MSE: 2.1285, Validation MAE: 1.0820\n"
     ]
    },
    {
     "name": "stderr",
     "output_type": "stream",
     "text": [
      "Training Epoch 1032: 100%|██████████| 499/499 [00:05<00:00, 87.94it/s]\n",
      "Training Epoch 1033: 100%|██████████| 499/499 [00:05<00:00, 84.76it/s]\n",
      "Training Epoch 1034: 100%|██████████| 499/499 [00:05<00:00, 89.18it/s]\n",
      "Training Epoch 1035: 100%|██████████| 499/499 [00:05<00:00, 84.80it/s]\n",
      "Training Epoch 1036: 100%|██████████| 499/499 [00:05<00:00, 88.25it/s]\n",
      "Training Epoch 1037: 100%|██████████| 499/499 [00:05<00:00, 87.19it/s]\n",
      "Training Epoch 1038: 100%|██████████| 499/499 [00:05<00:00, 88.39it/s]\n",
      "Training Epoch 1039: 100%|██████████| 499/499 [00:05<00:00, 87.44it/s]\n",
      "Training Epoch 1040: 100%|██████████| 499/499 [00:05<00:00, 84.88it/s]\n",
      "Training Epoch 1041: 100%|██████████| 499/499 [00:05<00:00, 86.79it/s]\n"
     ]
    },
    {
     "name": "stdout",
     "output_type": "stream",
     "text": [
      "Epoch 1040 - Train Loss: 0.1323, Train MSE: 0.1324, Train MAE: 0.2624\n",
      "Epoch 1040 - Validation Loss: 2.1381, Validation MSE: 2.1383, Validation MAE: 1.0871\n"
     ]
    },
    {
     "name": "stderr",
     "output_type": "stream",
     "text": [
      "Training Epoch 1042: 100%|██████████| 499/499 [00:05<00:00, 88.38it/s]\n",
      "Training Epoch 1043: 100%|██████████| 499/499 [00:05<00:00, 86.76it/s]\n",
      "Training Epoch 1044: 100%|██████████| 499/499 [00:05<00:00, 90.26it/s]\n",
      "Training Epoch 1045: 100%|██████████| 499/499 [00:05<00:00, 86.48it/s]\n",
      "Training Epoch 1046: 100%|██████████| 499/499 [00:05<00:00, 86.70it/s]\n",
      "Training Epoch 1047: 100%|██████████| 499/499 [00:05<00:00, 86.94it/s]\n",
      "Training Epoch 1048: 100%|██████████| 499/499 [00:05<00:00, 88.84it/s]\n",
      "Training Epoch 1049: 100%|██████████| 499/499 [00:05<00:00, 88.99it/s]\n",
      "Training Epoch 1050: 100%|██████████| 499/499 [00:05<00:00, 85.72it/s]\n",
      "Training Epoch 1051: 100%|██████████| 499/499 [00:05<00:00, 86.87it/s]\n"
     ]
    },
    {
     "name": "stdout",
     "output_type": "stream",
     "text": [
      "Epoch 1050 - Train Loss: 0.1293, Train MSE: 0.1293, Train MAE: 0.2605\n",
      "Epoch 1050 - Validation Loss: 2.1386, Validation MSE: 2.1389, Validation MAE: 1.0852\n"
     ]
    },
    {
     "name": "stderr",
     "output_type": "stream",
     "text": [
      "Training Epoch 1052: 100%|██████████| 499/499 [00:05<00:00, 86.63it/s]\n",
      "Training Epoch 1053: 100%|██████████| 499/499 [00:05<00:00, 85.60it/s]\n",
      "Training Epoch 1054: 100%|██████████| 499/499 [00:05<00:00, 87.59it/s]\n",
      "Training Epoch 1055: 100%|██████████| 499/499 [00:05<00:00, 87.69it/s]\n",
      "Training Epoch 1056: 100%|██████████| 499/499 [00:05<00:00, 87.48it/s]\n",
      "Training Epoch 1057: 100%|██████████| 499/499 [00:05<00:00, 86.23it/s]\n",
      "Training Epoch 1058: 100%|██████████| 499/499 [00:05<00:00, 89.62it/s] \n",
      "Training Epoch 1059: 100%|██████████| 499/499 [00:05<00:00, 89.60it/s]\n",
      "Training Epoch 1060: 100%|██████████| 499/499 [00:05<00:00, 83.42it/s]\n",
      "Training Epoch 1061: 100%|██████████| 499/499 [00:05<00:00, 86.35it/s]\n"
     ]
    },
    {
     "name": "stdout",
     "output_type": "stream",
     "text": [
      "Epoch 1060 - Train Loss: 0.1268, Train MSE: 0.1269, Train MAE: 0.2592\n",
      "Epoch 1060 - Validation Loss: 2.1337, Validation MSE: 2.1339, Validation MAE: 1.0801\n"
     ]
    },
    {
     "name": "stderr",
     "output_type": "stream",
     "text": [
      "Training Epoch 1062: 100%|██████████| 499/499 [00:05<00:00, 87.21it/s]\n",
      "Training Epoch 1063: 100%|██████████| 499/499 [00:05<00:00, 89.02it/s]\n",
      "Training Epoch 1064: 100%|██████████| 499/499 [00:05<00:00, 88.55it/s]\n",
      "Training Epoch 1065: 100%|██████████| 499/499 [00:05<00:00, 86.92it/s]\n",
      "Training Epoch 1066: 100%|██████████| 499/499 [00:05<00:00, 88.00it/s]\n",
      "Training Epoch 1067: 100%|██████████| 499/499 [00:05<00:00, 89.29it/s]\n",
      "Training Epoch 1068: 100%|██████████| 499/499 [00:05<00:00, 87.81it/s]\n",
      "Training Epoch 1069: 100%|██████████| 499/499 [00:05<00:00, 91.36it/s]\n",
      "Training Epoch 1070: 100%|██████████| 499/499 [00:05<00:00, 87.70it/s]\n",
      "Training Epoch 1071: 100%|██████████| 499/499 [00:05<00:00, 88.48it/s]\n"
     ]
    },
    {
     "name": "stdout",
     "output_type": "stream",
     "text": [
      "Epoch 1070 - Train Loss: 0.1319, Train MSE: 0.1319, Train MAE: 0.2624\n",
      "Epoch 1070 - Validation Loss: 2.1109, Validation MSE: 2.1111, Validation MAE: 1.0744\n"
     ]
    },
    {
     "name": "stderr",
     "output_type": "stream",
     "text": [
      "Training Epoch 1072: 100%|██████████| 499/499 [00:05<00:00, 87.29it/s]\n",
      "Training Epoch 1073: 100%|██████████| 499/499 [00:05<00:00, 86.65it/s]\n",
      "Training Epoch 1074: 100%|██████████| 499/499 [00:05<00:00, 89.23it/s]\n",
      "Training Epoch 1075: 100%|██████████| 499/499 [00:05<00:00, 90.16it/s]\n",
      "Training Epoch 1076: 100%|██████████| 499/499 [00:05<00:00, 88.63it/s]\n",
      "Training Epoch 1077: 100%|██████████| 499/499 [00:05<00:00, 88.74it/s]\n",
      "Training Epoch 1078: 100%|██████████| 499/499 [00:05<00:00, 89.05it/s]\n",
      "Training Epoch 1079: 100%|██████████| 499/499 [00:05<00:00, 87.68it/s]\n",
      "Training Epoch 1080: 100%|██████████| 499/499 [00:05<00:00, 86.44it/s]\n",
      "Training Epoch 1081: 100%|██████████| 499/499 [00:05<00:00, 86.35it/s]\n"
     ]
    },
    {
     "name": "stdout",
     "output_type": "stream",
     "text": [
      "Epoch 1080 - Train Loss: 0.1275, Train MSE: 0.1276, Train MAE: 0.2581\n",
      "Epoch 1080 - Validation Loss: 2.1147, Validation MSE: 2.1151, Validation MAE: 1.0752\n"
     ]
    },
    {
     "name": "stderr",
     "output_type": "stream",
     "text": [
      "Training Epoch 1082: 100%|██████████| 499/499 [00:05<00:00, 90.64it/s]\n",
      "Training Epoch 1083: 100%|██████████| 499/499 [00:05<00:00, 87.88it/s]\n",
      "Training Epoch 1084: 100%|██████████| 499/499 [00:05<00:00, 87.34it/s]\n",
      "Training Epoch 1085: 100%|██████████| 499/499 [00:05<00:00, 89.13it/s]\n",
      "Training Epoch 1086: 100%|██████████| 499/499 [00:05<00:00, 89.13it/s]\n",
      "Training Epoch 1087: 100%|██████████| 499/499 [00:05<00:00, 88.54it/s]\n",
      "Training Epoch 1088: 100%|██████████| 499/499 [00:05<00:00, 90.63it/s]\n",
      "Training Epoch 1089: 100%|██████████| 499/499 [00:05<00:00, 85.52it/s]\n",
      "Training Epoch 1090: 100%|██████████| 499/499 [00:05<00:00, 87.25it/s]\n",
      "Training Epoch 1091: 100%|██████████| 499/499 [00:05<00:00, 88.33it/s]\n"
     ]
    },
    {
     "name": "stdout",
     "output_type": "stream",
     "text": [
      "Epoch 1090 - Train Loss: 0.1308, Train MSE: 0.1309, Train MAE: 0.2596\n",
      "Epoch 1090 - Validation Loss: 2.1357, Validation MSE: 2.1361, Validation MAE: 1.0826\n"
     ]
    },
    {
     "name": "stderr",
     "output_type": "stream",
     "text": [
      "Training Epoch 1092: 100%|██████████| 499/499 [00:05<00:00, 88.09it/s]\n",
      "Training Epoch 1093: 100%|██████████| 499/499 [00:05<00:00, 90.87it/s]\n",
      "Training Epoch 1094: 100%|██████████| 499/499 [00:05<00:00, 88.09it/s]\n",
      "Training Epoch 1095: 100%|██████████| 499/499 [00:05<00:00, 86.37it/s]\n",
      "Training Epoch 1096: 100%|██████████| 499/499 [00:05<00:00, 88.40it/s]\n",
      "Training Epoch 1097: 100%|██████████| 499/499 [00:05<00:00, 89.18it/s]\n",
      "Training Epoch 1098: 100%|██████████| 499/499 [00:05<00:00, 88.20it/s]\n",
      "Training Epoch 1099: 100%|██████████| 499/499 [00:05<00:00, 88.92it/s]\n",
      "Training Epoch 1100: 100%|██████████| 499/499 [00:05<00:00, 88.72it/s]\n",
      "Training Epoch 1101: 100%|██████████| 499/499 [00:05<00:00, 88.02it/s]\n"
     ]
    },
    {
     "name": "stdout",
     "output_type": "stream",
     "text": [
      "Epoch 1100 - Train Loss: 0.1291, Train MSE: 0.1290, Train MAE: 0.2592\n",
      "Epoch 1100 - Validation Loss: 2.1677, Validation MSE: 2.1682, Validation MAE: 1.0911\n"
     ]
    },
    {
     "name": "stderr",
     "output_type": "stream",
     "text": [
      "Training Epoch 1102: 100%|██████████| 499/499 [00:05<00:00, 87.93it/s]\n",
      "Training Epoch 1103: 100%|██████████| 499/499 [00:05<00:00, 88.52it/s]\n",
      "Training Epoch 1104: 100%|██████████| 499/499 [00:05<00:00, 88.79it/s]\n",
      "Training Epoch 1105: 100%|██████████| 499/499 [00:05<00:00, 88.70it/s]\n",
      "Training Epoch 1106: 100%|██████████| 499/499 [00:05<00:00, 87.11it/s]\n",
      "Training Epoch 1107: 100%|██████████| 499/499 [00:05<00:00, 89.98it/s]\n",
      "Training Epoch 1108: 100%|██████████| 499/499 [00:05<00:00, 90.23it/s]\n",
      "Training Epoch 1109: 100%|██████████| 499/499 [00:05<00:00, 88.97it/s]\n",
      "Training Epoch 1110: 100%|██████████| 499/499 [00:05<00:00, 89.44it/s]\n",
      "Training Epoch 1111: 100%|██████████| 499/499 [00:05<00:00, 86.15it/s]\n"
     ]
    },
    {
     "name": "stdout",
     "output_type": "stream",
     "text": [
      "Epoch 1110 - Train Loss: 0.1236, Train MSE: 0.1233, Train MAE: 0.2544\n",
      "Epoch 1110 - Validation Loss: 2.1341, Validation MSE: 2.1346, Validation MAE: 1.0836\n"
     ]
    },
    {
     "name": "stderr",
     "output_type": "stream",
     "text": [
      "Training Epoch 1112: 100%|██████████| 499/499 [00:05<00:00, 90.03it/s] \n",
      "Training Epoch 1113: 100%|██████████| 499/499 [00:05<00:00, 89.02it/s]\n",
      "Training Epoch 1114: 100%|██████████| 499/499 [00:05<00:00, 86.12it/s]\n",
      "Training Epoch 1115: 100%|██████████| 499/499 [00:05<00:00, 88.61it/s]\n",
      "Training Epoch 1116: 100%|██████████| 499/499 [00:05<00:00, 89.07it/s]\n",
      "Training Epoch 1117: 100%|██████████| 499/499 [00:05<00:00, 88.79it/s]\n",
      "Training Epoch 1118: 100%|██████████| 499/499 [00:05<00:00, 88.32it/s]\n",
      "Training Epoch 1119: 100%|██████████| 499/499 [00:05<00:00, 87.99it/s]\n",
      "Training Epoch 1120: 100%|██████████| 499/499 [00:05<00:00, 89.23it/s]\n",
      "Training Epoch 1121: 100%|██████████| 499/499 [00:05<00:00, 88.09it/s]\n"
     ]
    },
    {
     "name": "stdout",
     "output_type": "stream",
     "text": [
      "Epoch 1120 - Train Loss: 0.1299, Train MSE: 0.1300, Train MAE: 0.2593\n",
      "Epoch 1120 - Validation Loss: 2.1168, Validation MSE: 2.1171, Validation MAE: 1.0754\n"
     ]
    },
    {
     "name": "stderr",
     "output_type": "stream",
     "text": [
      "Training Epoch 1122: 100%|██████████| 499/499 [00:05<00:00, 86.36it/s]\n",
      "Training Epoch 1123: 100%|██████████| 499/499 [00:05<00:00, 90.75it/s]\n",
      "Training Epoch 1124: 100%|██████████| 499/499 [00:05<00:00, 88.94it/s]\n",
      "Training Epoch 1125: 100%|██████████| 499/499 [00:05<00:00, 86.46it/s]\n",
      "Training Epoch 1126: 100%|██████████| 499/499 [00:05<00:00, 90.04it/s]\n",
      "Training Epoch 1127: 100%|██████████| 499/499 [00:05<00:00, 89.71it/s]\n",
      "Training Epoch 1128: 100%|██████████| 499/499 [00:05<00:00, 87.13it/s]\n",
      "Training Epoch 1129: 100%|██████████| 499/499 [00:05<00:00, 90.50it/s]\n",
      "Training Epoch 1130: 100%|██████████| 499/499 [00:05<00:00, 85.68it/s]\n",
      "Training Epoch 1131: 100%|██████████| 499/499 [00:05<00:00, 88.35it/s]\n"
     ]
    },
    {
     "name": "stdout",
     "output_type": "stream",
     "text": [
      "Epoch 1130 - Train Loss: 0.1265, Train MSE: 0.1264, Train MAE: 0.2547\n",
      "Epoch 1130 - Validation Loss: 2.1136, Validation MSE: 2.1138, Validation MAE: 1.0761\n"
     ]
    },
    {
     "name": "stderr",
     "output_type": "stream",
     "text": [
      "Training Epoch 1132: 100%|██████████| 499/499 [00:05<00:00, 90.97it/s] \n",
      "Training Epoch 1133: 100%|██████████| 499/499 [00:05<00:00, 86.73it/s]\n",
      "Training Epoch 1134: 100%|██████████| 499/499 [00:05<00:00, 90.90it/s] \n",
      "Training Epoch 1135: 100%|██████████| 499/499 [00:05<00:00, 88.83it/s]\n",
      "Training Epoch 1136: 100%|██████████| 499/499 [00:05<00:00, 88.43it/s]\n",
      "Training Epoch 1137: 100%|██████████| 499/499 [00:05<00:00, 89.31it/s]\n",
      "Training Epoch 1138: 100%|██████████| 499/499 [00:05<00:00, 87.93it/s]\n",
      "Training Epoch 1139: 100%|██████████| 499/499 [00:05<00:00, 88.27it/s]\n",
      "Training Epoch 1140: 100%|██████████| 499/499 [00:05<00:00, 88.58it/s]\n",
      "Training Epoch 1141: 100%|██████████| 499/499 [00:05<00:00, 87.66it/s]\n"
     ]
    },
    {
     "name": "stdout",
     "output_type": "stream",
     "text": [
      "Epoch 1140 - Train Loss: 0.1254, Train MSE: 0.1248, Train MAE: 0.2546\n",
      "Epoch 1140 - Validation Loss: 2.1181, Validation MSE: 2.1187, Validation MAE: 1.0777\n"
     ]
    },
    {
     "name": "stderr",
     "output_type": "stream",
     "text": [
      "Training Epoch 1142: 100%|██████████| 499/499 [00:05<00:00, 87.39it/s]\n",
      "Training Epoch 1143: 100%|██████████| 499/499 [00:05<00:00, 89.83it/s]\n",
      "Training Epoch 1144: 100%|██████████| 499/499 [00:05<00:00, 87.36it/s]\n",
      "Training Epoch 1145: 100%|██████████| 499/499 [00:05<00:00, 89.32it/s]\n",
      "Training Epoch 1146: 100%|██████████| 499/499 [00:05<00:00, 89.73it/s]\n",
      "Training Epoch 1147: 100%|██████████| 499/499 [00:05<00:00, 87.01it/s]\n",
      "Training Epoch 1148: 100%|██████████| 499/499 [00:05<00:00, 90.11it/s]\n",
      "Training Epoch 1149: 100%|██████████| 499/499 [00:05<00:00, 88.59it/s]\n",
      "Training Epoch 1150: 100%|██████████| 499/499 [00:05<00:00, 87.08it/s]\n",
      "Training Epoch 1151: 100%|██████████| 499/499 [00:05<00:00, 88.55it/s]\n"
     ]
    },
    {
     "name": "stdout",
     "output_type": "stream",
     "text": [
      "Epoch 1150 - Train Loss: 0.1265, Train MSE: 0.1262, Train MAE: 0.2558\n",
      "Epoch 1150 - Validation Loss: 2.1349, Validation MSE: 2.1352, Validation MAE: 1.0859\n"
     ]
    },
    {
     "name": "stderr",
     "output_type": "stream",
     "text": [
      "Training Epoch 1152: 100%|██████████| 499/499 [00:05<00:00, 85.11it/s]\n",
      "Training Epoch 1153: 100%|██████████| 499/499 [00:05<00:00, 88.55it/s]\n",
      "Training Epoch 1154: 100%|██████████| 499/499 [00:05<00:00, 89.51it/s]\n",
      "Training Epoch 1155: 100%|██████████| 499/499 [00:05<00:00, 87.89it/s]\n",
      "Training Epoch 1156: 100%|██████████| 499/499 [00:05<00:00, 88.52it/s]\n",
      "Training Epoch 1157: 100%|██████████| 499/499 [00:05<00:00, 89.21it/s]\n",
      "Training Epoch 1158: 100%|██████████| 499/499 [00:05<00:00, 90.04it/s]\n",
      "Training Epoch 1159: 100%|██████████| 499/499 [00:05<00:00, 88.15it/s]\n",
      "Training Epoch 1160: 100%|██████████| 499/499 [00:05<00:00, 87.79it/s]\n",
      "Training Epoch 1161: 100%|██████████| 499/499 [00:05<00:00, 90.82it/s]\n"
     ]
    },
    {
     "name": "stdout",
     "output_type": "stream",
     "text": [
      "Epoch 1160 - Train Loss: 0.1231, Train MSE: 0.1230, Train MAE: 0.2534\n",
      "Epoch 1160 - Validation Loss: 2.1227, Validation MSE: 2.1229, Validation MAE: 1.0751\n"
     ]
    },
    {
     "name": "stderr",
     "output_type": "stream",
     "text": [
      "Training Epoch 1162: 100%|██████████| 499/499 [00:05<00:00, 87.92it/s]\n",
      "Training Epoch 1163: 100%|██████████| 499/499 [00:05<00:00, 87.75it/s]\n",
      "Training Epoch 1164: 100%|██████████| 499/499 [00:05<00:00, 87.81it/s]\n",
      "Training Epoch 1165: 100%|██████████| 499/499 [00:05<00:00, 89.33it/s]\n",
      "Training Epoch 1166: 100%|██████████| 499/499 [00:05<00:00, 87.87it/s]\n",
      "Training Epoch 1167: 100%|██████████| 499/499 [00:05<00:00, 89.83it/s]\n",
      "Training Epoch 1168: 100%|██████████| 499/499 [00:05<00:00, 88.65it/s]\n",
      "Training Epoch 1169: 100%|██████████| 499/499 [00:05<00:00, 89.93it/s]\n",
      "Training Epoch 1170: 100%|██████████| 499/499 [00:05<00:00, 89.25it/s]\n",
      "Training Epoch 1171: 100%|██████████| 499/499 [00:05<00:00, 87.72it/s]\n"
     ]
    },
    {
     "name": "stdout",
     "output_type": "stream",
     "text": [
      "Epoch 1170 - Train Loss: 0.1225, Train MSE: 0.1226, Train MAE: 0.2514\n",
      "Epoch 1170 - Validation Loss: 2.1302, Validation MSE: 2.1306, Validation MAE: 1.0784\n"
     ]
    },
    {
     "name": "stderr",
     "output_type": "stream",
     "text": [
      "Training Epoch 1172: 100%|██████████| 499/499 [00:05<00:00, 86.74it/s]\n",
      "Training Epoch 1173: 100%|██████████| 499/499 [00:05<00:00, 86.95it/s]\n",
      "Training Epoch 1174: 100%|██████████| 499/499 [00:05<00:00, 86.68it/s]\n",
      "Training Epoch 1175: 100%|██████████| 499/499 [00:05<00:00, 90.74it/s]\n",
      "Training Epoch 1176: 100%|██████████| 499/499 [00:05<00:00, 86.97it/s]\n",
      "Training Epoch 1177: 100%|██████████| 499/499 [00:05<00:00, 88.40it/s]\n",
      "Training Epoch 1178: 100%|██████████| 499/499 [00:05<00:00, 89.72it/s]\n",
      "Training Epoch 1179: 100%|██████████| 499/499 [00:05<00:00, 88.13it/s]\n",
      "Training Epoch 1180: 100%|██████████| 499/499 [00:05<00:00, 88.89it/s]\n",
      "Training Epoch 1181: 100%|██████████| 499/499 [00:05<00:00, 88.30it/s]\n"
     ]
    },
    {
     "name": "stdout",
     "output_type": "stream",
     "text": [
      "Epoch 1180 - Train Loss: 0.1271, Train MSE: 0.1271, Train MAE: 0.2563\n",
      "Epoch 1180 - Validation Loss: 2.1197, Validation MSE: 2.1198, Validation MAE: 1.0744\n"
     ]
    },
    {
     "name": "stderr",
     "output_type": "stream",
     "text": [
      "Training Epoch 1182: 100%|██████████| 499/499 [00:05<00:00, 86.09it/s]\n",
      "Training Epoch 1183: 100%|██████████| 499/499 [00:05<00:00, 89.75it/s]\n",
      "Training Epoch 1184: 100%|██████████| 499/499 [00:05<00:00, 88.91it/s]\n",
      "Training Epoch 1185: 100%|██████████| 499/499 [00:05<00:00, 86.09it/s]\n",
      "Training Epoch 1186: 100%|██████████| 499/499 [00:05<00:00, 89.04it/s]\n",
      "Training Epoch 1187: 100%|██████████| 499/499 [00:05<00:00, 90.99it/s]\n",
      "Training Epoch 1188: 100%|██████████| 499/499 [00:05<00:00, 86.71it/s]\n",
      "Training Epoch 1189: 100%|██████████| 499/499 [00:05<00:00, 88.53it/s]\n",
      "Training Epoch 1190: 100%|██████████| 499/499 [00:05<00:00, 86.89it/s]\n",
      "Training Epoch 1191: 100%|██████████| 499/499 [00:05<00:00, 89.33it/s]\n"
     ]
    },
    {
     "name": "stdout",
     "output_type": "stream",
     "text": [
      "Epoch 1190 - Train Loss: 0.1231, Train MSE: 0.1232, Train MAE: 0.2549\n",
      "Epoch 1190 - Validation Loss: 2.1228, Validation MSE: 2.1231, Validation MAE: 1.0803\n"
     ]
    },
    {
     "name": "stderr",
     "output_type": "stream",
     "text": [
      "Training Epoch 1192: 100%|██████████| 499/499 [00:05<00:00, 86.38it/s]\n",
      "Training Epoch 1193: 100%|██████████| 499/499 [00:06<00:00, 81.17it/s]\n",
      "Training Epoch 1194: 100%|██████████| 499/499 [00:05<00:00, 88.29it/s]\n",
      "Training Epoch 1195: 100%|██████████| 499/499 [00:05<00:00, 88.58it/s]\n",
      "Training Epoch 1196: 100%|██████████| 499/499 [00:05<00:00, 88.31it/s]\n",
      "Training Epoch 1197: 100%|██████████| 499/499 [00:05<00:00, 88.28it/s]\n",
      "Training Epoch 1198: 100%|██████████| 499/499 [00:05<00:00, 86.56it/s]\n",
      "Training Epoch 1199: 100%|██████████| 499/499 [00:05<00:00, 88.27it/s]\n",
      "Training Epoch 1200: 100%|██████████| 499/499 [00:05<00:00, 86.10it/s]\n",
      "Training Epoch 1201: 100%|██████████| 499/499 [00:05<00:00, 89.86it/s] \n"
     ]
    },
    {
     "name": "stdout",
     "output_type": "stream",
     "text": [
      "Epoch 1200 - Train Loss: 0.1219, Train MSE: 0.1220, Train MAE: 0.2537\n",
      "Epoch 1200 - Validation Loss: 2.1288, Validation MSE: 2.1293, Validation MAE: 1.0789\n"
     ]
    },
    {
     "name": "stderr",
     "output_type": "stream",
     "text": [
      "Training Epoch 1202: 100%|██████████| 499/499 [00:05<00:00, 88.79it/s]\n",
      "Training Epoch 1203: 100%|██████████| 499/499 [00:05<00:00, 87.58it/s]\n",
      "Training Epoch 1204: 100%|██████████| 499/499 [00:05<00:00, 85.71it/s]\n",
      "Training Epoch 1205: 100%|██████████| 499/499 [00:05<00:00, 88.84it/s]\n",
      "Training Epoch 1206: 100%|██████████| 499/499 [00:05<00:00, 88.33it/s]\n",
      "Training Epoch 1207: 100%|██████████| 499/499 [00:05<00:00, 88.04it/s]\n",
      "Training Epoch 1208: 100%|██████████| 499/499 [00:05<00:00, 88.11it/s]\n",
      "Training Epoch 1209: 100%|██████████| 499/499 [00:05<00:00, 87.79it/s]\n",
      "Training Epoch 1210: 100%|██████████| 499/499 [00:05<00:00, 88.95it/s]\n",
      "Training Epoch 1211: 100%|██████████| 499/499 [00:05<00:00, 88.54it/s]\n"
     ]
    },
    {
     "name": "stdout",
     "output_type": "stream",
     "text": [
      "Epoch 1210 - Train Loss: 0.1175, Train MSE: 0.1176, Train MAE: 0.2495\n",
      "Epoch 1210 - Validation Loss: 2.1097, Validation MSE: 2.1102, Validation MAE: 1.0731\n"
     ]
    },
    {
     "name": "stderr",
     "output_type": "stream",
     "text": [
      "Training Epoch 1212: 100%|██████████| 499/499 [00:05<00:00, 86.73it/s]\n",
      "Training Epoch 1213: 100%|██████████| 499/499 [00:05<00:00, 86.35it/s]\n",
      "Training Epoch 1214: 100%|██████████| 499/499 [00:05<00:00, 89.38it/s]\n",
      "Training Epoch 1215: 100%|██████████| 499/499 [00:05<00:00, 90.03it/s]\n",
      "Training Epoch 1216: 100%|██████████| 499/499 [00:05<00:00, 88.06it/s]\n",
      "Training Epoch 1217: 100%|██████████| 499/499 [00:05<00:00, 88.50it/s]\n",
      "Training Epoch 1218: 100%|██████████| 499/499 [00:05<00:00, 87.99it/s]\n",
      "Training Epoch 1219: 100%|██████████| 499/499 [00:05<00:00, 87.56it/s]\n",
      "Training Epoch 1220: 100%|██████████| 499/499 [00:05<00:00, 87.05it/s]\n",
      "Training Epoch 1221: 100%|██████████| 499/499 [00:05<00:00, 88.05it/s]\n"
     ]
    },
    {
     "name": "stdout",
     "output_type": "stream",
     "text": [
      "Epoch 1220 - Train Loss: 0.1170, Train MSE: 0.1164, Train MAE: 0.2490\n",
      "Epoch 1220 - Validation Loss: 2.1211, Validation MSE: 2.1215, Validation MAE: 1.0764\n"
     ]
    },
    {
     "name": "stderr",
     "output_type": "stream",
     "text": [
      "Training Epoch 1222: 100%|██████████| 499/499 [00:05<00:00, 89.10it/s]\n",
      "Training Epoch 1223: 100%|██████████| 499/499 [00:05<00:00, 84.97it/s]\n",
      "Training Epoch 1224: 100%|██████████| 499/499 [00:05<00:00, 88.49it/s]\n",
      "Training Epoch 1225: 100%|██████████| 499/499 [00:05<00:00, 86.40it/s]\n",
      "Training Epoch 1226: 100%|██████████| 499/499 [00:05<00:00, 88.74it/s]\n",
      "Training Epoch 1227: 100%|██████████| 499/499 [00:05<00:00, 89.99it/s]\n",
      "Training Epoch 1228: 100%|██████████| 499/499 [00:05<00:00, 85.73it/s]\n",
      "Training Epoch 1229: 100%|██████████| 499/499 [00:05<00:00, 87.76it/s]\n",
      "Training Epoch 1230: 100%|██████████| 499/499 [00:05<00:00, 88.00it/s]\n",
      "Training Epoch 1231: 100%|██████████| 499/499 [00:05<00:00, 86.56it/s]\n"
     ]
    },
    {
     "name": "stdout",
     "output_type": "stream",
     "text": [
      "Epoch 1230 - Train Loss: 0.1234, Train MSE: 0.1234, Train MAE: 0.2539\n",
      "Epoch 1230 - Validation Loss: 2.1147, Validation MSE: 2.1150, Validation MAE: 1.0765\n"
     ]
    },
    {
     "name": "stderr",
     "output_type": "stream",
     "text": [
      "Training Epoch 1232: 100%|██████████| 499/499 [00:05<00:00, 87.98it/s]\n",
      "Training Epoch 1233: 100%|██████████| 499/499 [00:05<00:00, 85.65it/s]\n",
      "Training Epoch 1234: 100%|██████████| 499/499 [00:05<00:00, 86.88it/s]\n",
      "Training Epoch 1235: 100%|██████████| 499/499 [00:05<00:00, 88.54it/s]\n",
      "Training Epoch 1236: 100%|██████████| 499/499 [00:05<00:00, 88.32it/s]\n",
      "Training Epoch 1237: 100%|██████████| 499/499 [00:05<00:00, 87.77it/s]\n",
      "Training Epoch 1238: 100%|██████████| 499/499 [00:05<00:00, 88.75it/s]\n",
      "Training Epoch 1239: 100%|██████████| 499/499 [00:05<00:00, 88.24it/s]\n",
      "Training Epoch 1240: 100%|██████████| 499/499 [00:05<00:00, 88.04it/s]\n",
      "Training Epoch 1241: 100%|██████████| 499/499 [00:05<00:00, 90.03it/s]\n"
     ]
    },
    {
     "name": "stdout",
     "output_type": "stream",
     "text": [
      "Epoch 1240 - Train Loss: 0.1193, Train MSE: 0.1194, Train MAE: 0.2479\n",
      "Epoch 1240 - Validation Loss: 2.1284, Validation MSE: 2.1291, Validation MAE: 1.0771\n"
     ]
    },
    {
     "name": "stderr",
     "output_type": "stream",
     "text": [
      "Training Epoch 1242: 100%|██████████| 499/499 [00:05<00:00, 86.09it/s]\n",
      "Training Epoch 1243: 100%|██████████| 499/499 [00:05<00:00, 87.27it/s]\n",
      "Training Epoch 1244: 100%|██████████| 499/499 [00:05<00:00, 85.54it/s]\n",
      "Training Epoch 1245: 100%|██████████| 499/499 [00:05<00:00, 89.35it/s]\n",
      "Training Epoch 1246: 100%|██████████| 499/499 [00:05<00:00, 92.09it/s]\n",
      "Training Epoch 1247: 100%|██████████| 499/499 [00:05<00:00, 85.49it/s]\n",
      "Training Epoch 1248: 100%|██████████| 499/499 [00:05<00:00, 88.91it/s]\n",
      "Training Epoch 1249: 100%|██████████| 499/499 [00:05<00:00, 88.14it/s]\n",
      "Training Epoch 1250: 100%|██████████| 499/499 [00:05<00:00, 87.92it/s]\n",
      "Training Epoch 1251: 100%|██████████| 499/499 [00:05<00:00, 89.73it/s]\n"
     ]
    },
    {
     "name": "stdout",
     "output_type": "stream",
     "text": [
      "Epoch 1250 - Train Loss: 0.1173, Train MSE: 0.1173, Train MAE: 0.2471\n",
      "Epoch 1250 - Validation Loss: 2.1122, Validation MSE: 2.1125, Validation MAE: 1.0768\n"
     ]
    },
    {
     "name": "stderr",
     "output_type": "stream",
     "text": [
      "Training Epoch 1252: 100%|██████████| 499/499 [00:05<00:00, 87.89it/s]\n",
      "Training Epoch 1253: 100%|██████████| 499/499 [00:05<00:00, 86.07it/s]\n",
      "Training Epoch 1254: 100%|██████████| 499/499 [00:05<00:00, 89.84it/s]\n",
      "Training Epoch 1255: 100%|██████████| 499/499 [00:05<00:00, 89.07it/s]\n",
      "Training Epoch 1256: 100%|██████████| 499/499 [00:05<00:00, 89.15it/s]\n",
      "Training Epoch 1257: 100%|██████████| 499/499 [00:05<00:00, 88.53it/s]\n",
      "Training Epoch 1258: 100%|██████████| 499/499 [00:05<00:00, 88.44it/s]\n",
      "Training Epoch 1259: 100%|██████████| 499/499 [00:05<00:00, 87.84it/s]\n",
      "Training Epoch 1260: 100%|██████████| 499/499 [00:05<00:00, 87.00it/s]\n",
      "Training Epoch 1261: 100%|██████████| 499/499 [00:05<00:00, 85.14it/s]\n"
     ]
    },
    {
     "name": "stdout",
     "output_type": "stream",
     "text": [
      "Epoch 1260 - Train Loss: 0.1209, Train MSE: 0.1209, Train MAE: 0.2511\n",
      "Epoch 1260 - Validation Loss: 2.1423, Validation MSE: 2.1426, Validation MAE: 1.0817\n"
     ]
    },
    {
     "name": "stderr",
     "output_type": "stream",
     "text": [
      "Training Epoch 1262: 100%|██████████| 499/499 [00:05<00:00, 88.24it/s]\n",
      "Training Epoch 1263: 100%|██████████| 499/499 [00:05<00:00, 87.88it/s]\n",
      "Training Epoch 1264: 100%|██████████| 499/499 [00:05<00:00, 87.21it/s]\n",
      "Training Epoch 1265: 100%|██████████| 499/499 [00:05<00:00, 90.72it/s]\n",
      "Training Epoch 1266: 100%|██████████| 499/499 [00:05<00:00, 88.43it/s]\n",
      "Training Epoch 1267: 100%|██████████| 499/499 [00:05<00:00, 88.07it/s]\n",
      "Training Epoch 1268: 100%|██████████| 499/499 [00:05<00:00, 88.63it/s]\n",
      "Training Epoch 1269: 100%|██████████| 499/499 [00:05<00:00, 87.80it/s]\n",
      "Training Epoch 1270: 100%|██████████| 499/499 [00:05<00:00, 87.90it/s]\n",
      "Training Epoch 1271: 100%|██████████| 499/499 [00:05<00:00, 90.09it/s]\n"
     ]
    },
    {
     "name": "stdout",
     "output_type": "stream",
     "text": [
      "Epoch 1270 - Train Loss: 0.1205, Train MSE: 0.1205, Train MAE: 0.2516\n",
      "Epoch 1270 - Validation Loss: 2.1216, Validation MSE: 2.1220, Validation MAE: 1.0765\n"
     ]
    },
    {
     "name": "stderr",
     "output_type": "stream",
     "text": [
      "Training Epoch 1272: 100%|██████████| 499/499 [00:05<00:00, 87.64it/s]\n",
      "Training Epoch 1273: 100%|██████████| 499/499 [00:05<00:00, 88.75it/s]\n",
      "Training Epoch 1274: 100%|██████████| 499/499 [00:05<00:00, 87.11it/s]\n",
      "Training Epoch 1275: 100%|██████████| 499/499 [00:05<00:00, 88.90it/s]\n",
      "Training Epoch 1276: 100%|██████████| 499/499 [00:05<00:00, 85.04it/s]\n",
      "Training Epoch 1277: 100%|██████████| 499/499 [00:05<00:00, 87.90it/s]\n",
      "Training Epoch 1278: 100%|██████████| 499/499 [00:05<00:00, 86.28it/s]\n",
      "Training Epoch 1279: 100%|██████████| 499/499 [00:05<00:00, 83.78it/s]\n",
      "Training Epoch 1280: 100%|██████████| 499/499 [00:05<00:00, 87.77it/s]\n",
      "Training Epoch 1281: 100%|██████████| 499/499 [00:05<00:00, 85.77it/s]\n"
     ]
    },
    {
     "name": "stdout",
     "output_type": "stream",
     "text": [
      "Epoch 1280 - Train Loss: 0.1184, Train MSE: 0.1184, Train MAE: 0.2482\n",
      "Epoch 1280 - Validation Loss: 2.1193, Validation MSE: 2.1192, Validation MAE: 1.0773\n"
     ]
    },
    {
     "name": "stderr",
     "output_type": "stream",
     "text": [
      "Training Epoch 1282: 100%|██████████| 499/499 [00:05<00:00, 87.42it/s]\n",
      "Training Epoch 1283: 100%|██████████| 499/499 [00:05<00:00, 85.92it/s]\n",
      "Training Epoch 1284: 100%|██████████| 499/499 [00:05<00:00, 87.48it/s]\n",
      "Training Epoch 1285: 100%|██████████| 499/499 [00:05<00:00, 86.89it/s]\n",
      "Training Epoch 1286: 100%|██████████| 499/499 [00:05<00:00, 87.89it/s]\n",
      "Training Epoch 1287: 100%|██████████| 499/499 [00:05<00:00, 88.60it/s]\n",
      "Training Epoch 1288: 100%|██████████| 499/499 [00:05<00:00, 86.32it/s]\n",
      "Training Epoch 1289: 100%|██████████| 499/499 [00:05<00:00, 87.61it/s]\n",
      "Training Epoch 1290: 100%|██████████| 499/499 [00:05<00:00, 86.34it/s]\n",
      "Training Epoch 1291: 100%|██████████| 499/499 [00:05<00:00, 87.90it/s]\n"
     ]
    },
    {
     "name": "stdout",
     "output_type": "stream",
     "text": [
      "Epoch 1290 - Train Loss: 0.1207, Train MSE: 0.1207, Train MAE: 0.2486\n",
      "Epoch 1290 - Validation Loss: 2.1201, Validation MSE: 2.1201, Validation MAE: 1.0764\n"
     ]
    },
    {
     "name": "stderr",
     "output_type": "stream",
     "text": [
      "Training Epoch 1292: 100%|██████████| 499/499 [00:05<00:00, 87.63it/s]\n",
      "Training Epoch 1293: 100%|██████████| 499/499 [00:05<00:00, 85.84it/s]\n",
      "Training Epoch 1294: 100%|██████████| 499/499 [00:05<00:00, 85.79it/s]\n",
      "Training Epoch 1295: 100%|██████████| 499/499 [00:05<00:00, 88.33it/s]\n",
      "Training Epoch 1296: 100%|██████████| 499/499 [00:05<00:00, 83.43it/s]\n",
      "Training Epoch 1297: 100%|██████████| 499/499 [00:05<00:00, 88.43it/s]\n",
      "Training Epoch 1298: 100%|██████████| 499/499 [00:05<00:00, 85.05it/s]\n",
      "Training Epoch 1299: 100%|██████████| 499/499 [00:05<00:00, 89.92it/s]\n",
      "Training Epoch 1300: 100%|██████████| 499/499 [00:05<00:00, 87.92it/s]\n",
      "Training Epoch 1301: 100%|██████████| 499/499 [00:05<00:00, 86.12it/s]\n"
     ]
    },
    {
     "name": "stdout",
     "output_type": "stream",
     "text": [
      "Epoch 1300 - Train Loss: 0.1174, Train MSE: 0.1175, Train MAE: 0.2476\n",
      "Epoch 1300 - Validation Loss: 2.1441, Validation MSE: 2.1445, Validation MAE: 1.0827\n"
     ]
    },
    {
     "name": "stderr",
     "output_type": "stream",
     "text": [
      "Training Epoch 1302: 100%|██████████| 499/499 [00:05<00:00, 87.41it/s]\n",
      "Training Epoch 1303: 100%|██████████| 499/499 [00:05<00:00, 87.86it/s]\n",
      "Training Epoch 1304: 100%|██████████| 499/499 [00:05<00:00, 85.22it/s]\n",
      "Training Epoch 1305: 100%|██████████| 499/499 [00:05<00:00, 87.83it/s]\n",
      "Training Epoch 1306: 100%|██████████| 499/499 [00:05<00:00, 84.81it/s]\n",
      "Training Epoch 1307: 100%|██████████| 499/499 [00:05<00:00, 88.03it/s]\n",
      "Training Epoch 1308: 100%|██████████| 499/499 [00:05<00:00, 87.98it/s]\n",
      "Training Epoch 1309: 100%|██████████| 499/499 [00:05<00:00, 84.93it/s]\n",
      "Training Epoch 1310: 100%|██████████| 499/499 [00:05<00:00, 89.36it/s]\n",
      "Training Epoch 1311: 100%|██████████| 499/499 [00:05<00:00, 88.51it/s]\n"
     ]
    },
    {
     "name": "stdout",
     "output_type": "stream",
     "text": [
      "Epoch 1310 - Train Loss: 0.1143, Train MSE: 0.1142, Train MAE: 0.2440\n",
      "Epoch 1310 - Validation Loss: 2.1248, Validation MSE: 2.1251, Validation MAE: 1.0761\n"
     ]
    },
    {
     "name": "stderr",
     "output_type": "stream",
     "text": [
      "Training Epoch 1312: 100%|██████████| 499/499 [00:05<00:00, 85.68it/s]\n",
      "Training Epoch 1313: 100%|██████████| 499/499 [00:05<00:00, 88.34it/s]\n",
      "Training Epoch 1314: 100%|██████████| 499/499 [00:05<00:00, 83.63it/s]\n",
      "Training Epoch 1315: 100%|██████████| 499/499 [00:05<00:00, 89.47it/s]\n",
      "Training Epoch 1316: 100%|██████████| 499/499 [00:05<00:00, 85.38it/s]\n",
      "Training Epoch 1317: 100%|██████████| 499/499 [00:05<00:00, 86.88it/s]\n",
      "Training Epoch 1318: 100%|██████████| 499/499 [00:05<00:00, 86.80it/s]\n",
      "Training Epoch 1319: 100%|██████████| 499/499 [00:05<00:00, 87.63it/s]\n",
      "Training Epoch 1320: 100%|██████████| 499/499 [00:05<00:00, 86.63it/s]\n",
      "Training Epoch 1321: 100%|██████████| 499/499 [00:05<00:00, 88.34it/s]\n"
     ]
    },
    {
     "name": "stdout",
     "output_type": "stream",
     "text": [
      "Epoch 1320 - Train Loss: 0.1161, Train MSE: 0.1162, Train MAE: 0.2459\n",
      "Epoch 1320 - Validation Loss: 2.1314, Validation MSE: 2.1319, Validation MAE: 1.0798\n"
     ]
    },
    {
     "name": "stderr",
     "output_type": "stream",
     "text": [
      "Training Epoch 1322: 100%|██████████| 499/499 [00:05<00:00, 87.41it/s]\n",
      "Training Epoch 1323: 100%|██████████| 499/499 [00:05<00:00, 87.54it/s]\n",
      "Training Epoch 1324: 100%|██████████| 499/499 [00:05<00:00, 87.33it/s]\n",
      "Training Epoch 1325: 100%|██████████| 499/499 [00:05<00:00, 87.12it/s]\n",
      "Training Epoch 1326: 100%|██████████| 499/499 [00:05<00:00, 87.32it/s]\n",
      "Training Epoch 1327: 100%|██████████| 499/499 [00:05<00:00, 87.33it/s]\n",
      "Training Epoch 1328: 100%|██████████| 499/499 [00:05<00:00, 87.04it/s]\n",
      "Training Epoch 1329: 100%|██████████| 499/499 [00:05<00:00, 87.50it/s]\n",
      "Training Epoch 1330: 100%|██████████| 499/499 [00:05<00:00, 86.72it/s]\n",
      "Training Epoch 1331: 100%|██████████| 499/499 [00:05<00:00, 85.49it/s]\n"
     ]
    },
    {
     "name": "stdout",
     "output_type": "stream",
     "text": [
      "Epoch 1330 - Train Loss: 0.1188, Train MSE: 0.1188, Train MAE: 0.2453\n",
      "Epoch 1330 - Validation Loss: 2.1258, Validation MSE: 2.1260, Validation MAE: 1.0791\n"
     ]
    },
    {
     "name": "stderr",
     "output_type": "stream",
     "text": [
      "Training Epoch 1332: 100%|██████████| 499/499 [00:05<00:00, 87.44it/s]\n",
      "Training Epoch 1333: 100%|██████████| 499/499 [00:05<00:00, 87.12it/s]\n",
      "Training Epoch 1334: 100%|██████████| 499/499 [00:05<00:00, 86.71it/s]\n",
      "Training Epoch 1335: 100%|██████████| 499/499 [00:05<00:00, 89.06it/s]\n",
      "Training Epoch 1336: 100%|██████████| 499/499 [00:05<00:00, 85.43it/s]\n",
      "Training Epoch 1337: 100%|██████████| 499/499 [00:05<00:00, 87.41it/s]\n",
      "Training Epoch 1338: 100%|██████████| 499/499 [00:05<00:00, 86.98it/s]\n",
      "Training Epoch 1339: 100%|██████████| 499/499 [00:05<00:00, 88.07it/s]\n",
      "Training Epoch 1340: 100%|██████████| 499/499 [00:05<00:00, 87.50it/s]\n",
      "Training Epoch 1341: 100%|██████████| 499/499 [00:05<00:00, 84.86it/s]\n"
     ]
    },
    {
     "name": "stdout",
     "output_type": "stream",
     "text": [
      "Epoch 1340 - Train Loss: 0.1173, Train MSE: 0.1173, Train MAE: 0.2444\n",
      "Epoch 1340 - Validation Loss: 2.1438, Validation MSE: 2.1443, Validation MAE: 1.0805\n"
     ]
    },
    {
     "name": "stderr",
     "output_type": "stream",
     "text": [
      "Training Epoch 1342: 100%|██████████| 499/499 [00:05<00:00, 89.64it/s]\n",
      "Training Epoch 1343: 100%|██████████| 499/499 [00:05<00:00, 87.52it/s]\n",
      "Training Epoch 1344: 100%|██████████| 499/499 [00:05<00:00, 84.82it/s]\n",
      "Training Epoch 1345: 100%|██████████| 499/499 [00:05<00:00, 87.32it/s]\n",
      "Training Epoch 1346: 100%|██████████| 499/499 [00:05<00:00, 86.02it/s]\n",
      "Training Epoch 1347: 100%|██████████| 499/499 [00:06<00:00, 83.16it/s]\n",
      "Training Epoch 1348: 100%|██████████| 499/499 [00:05<00:00, 86.32it/s]\n",
      "Training Epoch 1349: 100%|██████████| 499/499 [00:05<00:00, 84.88it/s]\n",
      "Training Epoch 1350: 100%|██████████| 499/499 [00:05<00:00, 90.31it/s]\n",
      "Training Epoch 1351: 100%|██████████| 499/499 [00:05<00:00, 87.78it/s]\n"
     ]
    },
    {
     "name": "stdout",
     "output_type": "stream",
     "text": [
      "Epoch 1350 - Train Loss: 0.1156, Train MSE: 0.1155, Train MAE: 0.2462\n",
      "Epoch 1350 - Validation Loss: 2.1661, Validation MSE: 2.1665, Validation MAE: 1.0864\n"
     ]
    },
    {
     "name": "stderr",
     "output_type": "stream",
     "text": [
      "Training Epoch 1352: 100%|██████████| 499/499 [00:05<00:00, 83.38it/s]\n",
      "Training Epoch 1353: 100%|██████████| 499/499 [00:05<00:00, 83.27it/s]\n",
      "Training Epoch 1354: 100%|██████████| 499/499 [00:05<00:00, 84.53it/s]\n",
      "Training Epoch 1355: 100%|██████████| 499/499 [00:06<00:00, 82.70it/s]\n",
      "Training Epoch 1356: 100%|██████████| 499/499 [00:05<00:00, 86.58it/s]\n",
      "Training Epoch 1357: 100%|██████████| 499/499 [00:05<00:00, 84.74it/s]\n",
      "Training Epoch 1358: 100%|██████████| 499/499 [00:05<00:00, 87.12it/s]\n",
      "Training Epoch 1359: 100%|██████████| 499/499 [00:05<00:00, 84.00it/s]\n",
      "Training Epoch 1360: 100%|██████████| 499/499 [00:05<00:00, 87.98it/s]\n",
      "Training Epoch 1361: 100%|██████████| 499/499 [00:05<00:00, 89.66it/s]\n"
     ]
    },
    {
     "name": "stdout",
     "output_type": "stream",
     "text": [
      "Epoch 1360 - Train Loss: 0.1145, Train MSE: 0.1145, Train MAE: 0.2433\n",
      "Epoch 1360 - Validation Loss: 2.1269, Validation MSE: 2.1271, Validation MAE: 1.0777\n"
     ]
    },
    {
     "name": "stderr",
     "output_type": "stream",
     "text": [
      "Training Epoch 1362: 100%|██████████| 499/499 [00:05<00:00, 88.93it/s]\n",
      "Training Epoch 1363: 100%|██████████| 499/499 [00:05<00:00, 86.31it/s]\n",
      "Training Epoch 1364: 100%|██████████| 499/499 [00:05<00:00, 85.65it/s]\n",
      "Training Epoch 1365: 100%|██████████| 499/499 [00:05<00:00, 86.16it/s]\n",
      "Training Epoch 1366: 100%|██████████| 499/499 [00:05<00:00, 87.18it/s]\n",
      "Training Epoch 1367: 100%|██████████| 499/499 [00:05<00:00, 87.88it/s]\n",
      "Training Epoch 1368: 100%|██████████| 499/499 [00:05<00:00, 86.77it/s]\n",
      "Training Epoch 1369: 100%|██████████| 499/499 [00:05<00:00, 87.80it/s]\n",
      "Training Epoch 1370: 100%|██████████| 499/499 [00:05<00:00, 85.68it/s]\n",
      "Training Epoch 1371: 100%|██████████| 499/499 [00:05<00:00, 88.62it/s]\n"
     ]
    },
    {
     "name": "stdout",
     "output_type": "stream",
     "text": [
      "Epoch 1370 - Train Loss: 0.1170, Train MSE: 0.1170, Train MAE: 0.2454\n",
      "Epoch 1370 - Validation Loss: 2.1118, Validation MSE: 2.1122, Validation MAE: 1.0738\n"
     ]
    },
    {
     "name": "stderr",
     "output_type": "stream",
     "text": [
      "Training Epoch 1372: 100%|██████████| 499/499 [00:05<00:00, 87.17it/s]\n",
      "Training Epoch 1373: 100%|██████████| 499/499 [00:05<00:00, 84.30it/s]\n",
      "Training Epoch 1374: 100%|██████████| 499/499 [00:05<00:00, 86.62it/s]\n",
      "Training Epoch 1375: 100%|██████████| 499/499 [00:05<00:00, 86.36it/s]\n",
      "Training Epoch 1376: 100%|██████████| 499/499 [00:05<00:00, 86.39it/s]\n",
      "Training Epoch 1377: 100%|██████████| 499/499 [00:05<00:00, 88.08it/s]\n",
      "Training Epoch 1378: 100%|██████████| 499/499 [00:05<00:00, 87.91it/s]\n",
      "Training Epoch 1379: 100%|██████████| 499/499 [00:05<00:00, 85.99it/s]\n",
      "Training Epoch 1380: 100%|██████████| 499/499 [00:05<00:00, 86.58it/s]\n",
      "Training Epoch 1381: 100%|██████████| 499/499 [00:05<00:00, 84.32it/s]\n"
     ]
    },
    {
     "name": "stdout",
     "output_type": "stream",
     "text": [
      "Epoch 1380 - Train Loss: 0.1136, Train MSE: 0.1137, Train MAE: 0.2444\n",
      "Epoch 1380 - Validation Loss: 2.1429, Validation MSE: 2.1433, Validation MAE: 1.0862\n"
     ]
    },
    {
     "name": "stderr",
     "output_type": "stream",
     "text": [
      "Training Epoch 1382: 100%|██████████| 499/499 [00:05<00:00, 88.41it/s]\n",
      "Training Epoch 1383: 100%|██████████| 499/499 [00:05<00:00, 87.34it/s]\n",
      "Training Epoch 1384: 100%|██████████| 499/499 [00:05<00:00, 87.16it/s]\n",
      "Training Epoch 1385: 100%|██████████| 499/499 [00:05<00:00, 88.64it/s]\n",
      "Training Epoch 1386: 100%|██████████| 499/499 [00:05<00:00, 88.50it/s]\n",
      "Training Epoch 1387: 100%|██████████| 499/499 [00:05<00:00, 87.34it/s]\n",
      "Training Epoch 1388: 100%|██████████| 499/499 [00:05<00:00, 90.78it/s]\n",
      "Training Epoch 1389: 100%|██████████| 499/499 [00:05<00:00, 88.13it/s]\n",
      "Training Epoch 1390: 100%|██████████| 499/499 [00:05<00:00, 86.85it/s]\n",
      "Training Epoch 1391: 100%|██████████| 499/499 [00:05<00:00, 87.48it/s]\n"
     ]
    },
    {
     "name": "stdout",
     "output_type": "stream",
     "text": [
      "Epoch 1390 - Train Loss: 0.1131, Train MSE: 0.1132, Train MAE: 0.2427\n",
      "Epoch 1390 - Validation Loss: 2.1276, Validation MSE: 2.1281, Validation MAE: 1.0742\n"
     ]
    },
    {
     "name": "stderr",
     "output_type": "stream",
     "text": [
      "Training Epoch 1392: 100%|██████████| 499/499 [00:05<00:00, 86.84it/s]\n",
      "Training Epoch 1393: 100%|██████████| 499/499 [00:05<00:00, 87.54it/s]\n",
      "Training Epoch 1394: 100%|██████████| 499/499 [00:05<00:00, 88.35it/s]\n",
      "Training Epoch 1395: 100%|██████████| 499/499 [00:05<00:00, 86.99it/s]\n",
      "Training Epoch 1396: 100%|██████████| 499/499 [00:05<00:00, 89.87it/s]\n",
      "Training Epoch 1397: 100%|██████████| 499/499 [00:06<00:00, 81.60it/s]\n",
      "Training Epoch 1398: 100%|██████████| 499/499 [00:05<00:00, 86.48it/s]\n",
      "Training Epoch 1399: 100%|██████████| 499/499 [00:05<00:00, 87.82it/s]\n",
      "Training Epoch 1400: 100%|██████████| 499/499 [00:05<00:00, 86.04it/s]\n",
      "Training Epoch 1401: 100%|██████████| 499/499 [00:05<00:00, 90.03it/s]\n"
     ]
    },
    {
     "name": "stdout",
     "output_type": "stream",
     "text": [
      "Epoch 1400 - Train Loss: 0.1137, Train MSE: 0.1137, Train MAE: 0.2427\n",
      "Epoch 1400 - Validation Loss: 2.1667, Validation MSE: 2.1671, Validation MAE: 1.0955\n"
     ]
    },
    {
     "name": "stderr",
     "output_type": "stream",
     "text": [
      "Training Epoch 1402: 100%|██████████| 499/499 [00:05<00:00, 88.58it/s]\n",
      "Training Epoch 1403: 100%|██████████| 499/499 [00:05<00:00, 85.64it/s]\n",
      "Training Epoch 1404: 100%|██████████| 499/499 [00:05<00:00, 85.19it/s]\n",
      "Training Epoch 1405: 100%|██████████| 499/499 [00:05<00:00, 85.96it/s]\n",
      "Training Epoch 1406: 100%|██████████| 499/499 [00:05<00:00, 88.74it/s]\n",
      "Training Epoch 1407: 100%|██████████| 499/499 [00:05<00:00, 89.82it/s]\n",
      "Training Epoch 1408: 100%|██████████| 499/499 [00:05<00:00, 85.44it/s]\n",
      "Training Epoch 1409: 100%|██████████| 499/499 [00:05<00:00, 86.59it/s]\n",
      "Training Epoch 1410: 100%|██████████| 499/499 [00:05<00:00, 86.94it/s]\n",
      "Training Epoch 1411: 100%|██████████| 499/499 [00:06<00:00, 83.04it/s]\n"
     ]
    },
    {
     "name": "stdout",
     "output_type": "stream",
     "text": [
      "Epoch 1410 - Train Loss: 0.1102, Train MSE: 0.1103, Train MAE: 0.2413\n",
      "Epoch 1410 - Validation Loss: 2.1232, Validation MSE: 2.1235, Validation MAE: 1.0769\n"
     ]
    },
    {
     "name": "stderr",
     "output_type": "stream",
     "text": [
      "Training Epoch 1412: 100%|██████████| 499/499 [00:05<00:00, 87.55it/s]\n",
      "Training Epoch 1413: 100%|██████████| 499/499 [00:05<00:00, 86.64it/s]\n",
      "Training Epoch 1414: 100%|██████████| 499/499 [00:05<00:00, 86.65it/s]\n",
      "Training Epoch 1415: 100%|██████████| 499/499 [00:05<00:00, 88.35it/s]\n",
      "Training Epoch 1416: 100%|██████████| 499/499 [00:05<00:00, 87.39it/s]\n",
      "Training Epoch 1417: 100%|██████████| 499/499 [00:05<00:00, 87.80it/s]\n",
      "Training Epoch 1418: 100%|██████████| 499/499 [00:05<00:00, 87.51it/s]\n",
      "Training Epoch 1419: 100%|██████████| 499/499 [00:05<00:00, 88.03it/s]\n",
      "Training Epoch 1420: 100%|██████████| 499/499 [00:05<00:00, 87.95it/s]\n",
      "Training Epoch 1421: 100%|██████████| 499/499 [00:05<00:00, 89.08it/s]\n"
     ]
    },
    {
     "name": "stdout",
     "output_type": "stream",
     "text": [
      "Epoch 1420 - Train Loss: 0.1128, Train MSE: 0.1129, Train MAE: 0.2420\n",
      "Epoch 1420 - Validation Loss: 2.1493, Validation MSE: 2.1501, Validation MAE: 1.0903\n"
     ]
    },
    {
     "name": "stderr",
     "output_type": "stream",
     "text": [
      "Training Epoch 1422: 100%|██████████| 499/499 [00:05<00:00, 88.08it/s]\n",
      "Training Epoch 1423: 100%|██████████| 499/499 [00:05<00:00, 86.58it/s]\n",
      "Training Epoch 1424: 100%|██████████| 499/499 [00:05<00:00, 85.37it/s]\n",
      "Training Epoch 1425: 100%|██████████| 499/499 [00:05<00:00, 86.92it/s]\n",
      "Training Epoch 1426: 100%|██████████| 499/499 [00:05<00:00, 87.31it/s]\n",
      "Training Epoch 1427: 100%|██████████| 499/499 [00:05<00:00, 86.45it/s]\n",
      "Training Epoch 1428: 100%|██████████| 499/499 [00:05<00:00, 87.38it/s]\n",
      "Training Epoch 1429: 100%|██████████| 499/499 [00:05<00:00, 88.59it/s]\n",
      "Training Epoch 1430: 100%|██████████| 499/499 [00:05<00:00, 85.94it/s]\n",
      "Training Epoch 1431: 100%|██████████| 499/499 [00:05<00:00, 87.36it/s]\n"
     ]
    },
    {
     "name": "stdout",
     "output_type": "stream",
     "text": [
      "Epoch 1430 - Train Loss: 0.1119, Train MSE: 0.1119, Train MAE: 0.2417\n",
      "Epoch 1430 - Validation Loss: 2.1323, Validation MSE: 2.1330, Validation MAE: 1.0779\n"
     ]
    },
    {
     "name": "stderr",
     "output_type": "stream",
     "text": [
      "Training Epoch 1432: 100%|██████████| 499/499 [00:05<00:00, 86.55it/s]\n",
      "Training Epoch 1433: 100%|██████████| 499/499 [00:05<00:00, 87.92it/s]\n",
      "Training Epoch 1434: 100%|██████████| 499/499 [00:05<00:00, 87.04it/s]\n",
      "Training Epoch 1435: 100%|██████████| 499/499 [00:05<00:00, 83.87it/s]\n",
      "Training Epoch 1436: 100%|██████████| 499/499 [00:05<00:00, 87.65it/s]\n",
      "Training Epoch 1437: 100%|██████████| 499/499 [00:05<00:00, 86.77it/s]\n",
      "Training Epoch 1438: 100%|██████████| 499/499 [00:05<00:00, 89.28it/s]\n",
      "Training Epoch 1439: 100%|██████████| 499/499 [00:05<00:00, 87.62it/s]\n",
      "Training Epoch 1440: 100%|██████████| 499/499 [00:05<00:00, 85.19it/s]\n",
      "Training Epoch 1441: 100%|██████████| 499/499 [00:05<00:00, 87.11it/s]\n"
     ]
    },
    {
     "name": "stdout",
     "output_type": "stream",
     "text": [
      "Epoch 1440 - Train Loss: 0.1071, Train MSE: 0.1071, Train MAE: 0.2378\n",
      "Epoch 1440 - Validation Loss: 2.1112, Validation MSE: 2.1115, Validation MAE: 1.0755\n"
     ]
    },
    {
     "name": "stderr",
     "output_type": "stream",
     "text": [
      "Training Epoch 1442: 100%|██████████| 499/499 [00:05<00:00, 87.79it/s]\n",
      "Training Epoch 1443: 100%|██████████| 499/499 [00:05<00:00, 87.09it/s]\n",
      "Training Epoch 1444: 100%|██████████| 499/499 [00:05<00:00, 87.20it/s]\n",
      "Training Epoch 1445: 100%|██████████| 499/499 [00:05<00:00, 87.00it/s]\n",
      "Training Epoch 1446: 100%|██████████| 499/499 [00:05<00:00, 85.90it/s]\n",
      "Training Epoch 1447: 100%|██████████| 499/499 [00:05<00:00, 87.33it/s]\n",
      "Training Epoch 1448: 100%|██████████| 499/499 [00:05<00:00, 87.11it/s]\n",
      "Training Epoch 1449: 100%|██████████| 499/499 [00:05<00:00, 87.85it/s]\n",
      "Training Epoch 1450: 100%|██████████| 499/499 [00:05<00:00, 88.03it/s]\n",
      "Training Epoch 1451: 100%|██████████| 499/499 [00:05<00:00, 86.33it/s]\n"
     ]
    },
    {
     "name": "stdout",
     "output_type": "stream",
     "text": [
      "Epoch 1450 - Train Loss: 0.1088, Train MSE: 0.1089, Train MAE: 0.2393\n",
      "Epoch 1450 - Validation Loss: 2.1444, Validation MSE: 2.1448, Validation MAE: 1.0833\n"
     ]
    },
    {
     "name": "stderr",
     "output_type": "stream",
     "text": [
      "Training Epoch 1452: 100%|██████████| 499/499 [00:05<00:00, 88.75it/s]\n",
      "Training Epoch 1453: 100%|██████████| 499/499 [00:05<00:00, 87.47it/s]\n",
      "Training Epoch 1454: 100%|██████████| 499/499 [00:05<00:00, 85.03it/s]\n",
      "Training Epoch 1455: 100%|██████████| 499/499 [00:05<00:00, 88.04it/s]\n",
      "Training Epoch 1456: 100%|██████████| 499/499 [00:05<00:00, 86.68it/s]\n",
      "Training Epoch 1457: 100%|██████████| 499/499 [00:05<00:00, 88.15it/s]\n",
      "Training Epoch 1458: 100%|██████████| 499/499 [00:05<00:00, 90.17it/s]\n",
      "Training Epoch 1459: 100%|██████████| 499/499 [00:05<00:00, 85.20it/s]\n",
      "Training Epoch 1460: 100%|██████████| 499/499 [00:05<00:00, 88.14it/s]\n",
      "Training Epoch 1461: 100%|██████████| 499/499 [00:05<00:00, 88.45it/s]\n"
     ]
    },
    {
     "name": "stdout",
     "output_type": "stream",
     "text": [
      "Epoch 1460 - Train Loss: 0.1100, Train MSE: 0.1100, Train MAE: 0.2403\n",
      "Epoch 1460 - Validation Loss: 2.1357, Validation MSE: 2.1362, Validation MAE: 1.0831\n"
     ]
    },
    {
     "name": "stderr",
     "output_type": "stream",
     "text": [
      "Training Epoch 1462: 100%|██████████| 499/499 [00:05<00:00, 86.95it/s]\n",
      "Training Epoch 1463: 100%|██████████| 499/499 [00:05<00:00, 86.79it/s]\n",
      "Training Epoch 1464: 100%|██████████| 499/499 [00:05<00:00, 85.71it/s]\n",
      "Training Epoch 1465: 100%|██████████| 499/499 [00:05<00:00, 85.44it/s]\n",
      "Training Epoch 1466: 100%|██████████| 499/499 [00:05<00:00, 87.79it/s]\n",
      "Training Epoch 1467: 100%|██████████| 499/499 [00:05<00:00, 85.60it/s]\n",
      "Training Epoch 1468: 100%|██████████| 499/499 [00:05<00:00, 88.38it/s]\n",
      "Training Epoch 1469: 100%|██████████| 499/499 [00:05<00:00, 88.93it/s]\n",
      "Training Epoch 1470: 100%|██████████| 499/499 [00:05<00:00, 87.77it/s]\n",
      "Training Epoch 1471: 100%|██████████| 499/499 [00:05<00:00, 89.61it/s]\n"
     ]
    },
    {
     "name": "stdout",
     "output_type": "stream",
     "text": [
      "Epoch 1470 - Train Loss: 0.1118, Train MSE: 0.1115, Train MAE: 0.2409\n",
      "Epoch 1470 - Validation Loss: 2.1246, Validation MSE: 2.1249, Validation MAE: 1.0786\n"
     ]
    },
    {
     "name": "stderr",
     "output_type": "stream",
     "text": [
      "Training Epoch 1472: 100%|██████████| 499/499 [00:05<00:00, 86.18it/s]\n",
      "Training Epoch 1473: 100%|██████████| 499/499 [00:05<00:00, 86.51it/s]\n",
      "Training Epoch 1474: 100%|██████████| 499/499 [00:05<00:00, 90.53it/s]\n",
      "Training Epoch 1475: 100%|██████████| 499/499 [00:05<00:00, 83.35it/s]\n",
      "Training Epoch 1476: 100%|██████████| 499/499 [00:05<00:00, 87.85it/s]\n",
      "Training Epoch 1477: 100%|██████████| 499/499 [00:05<00:00, 87.35it/s]\n",
      "Training Epoch 1478: 100%|██████████| 499/499 [00:05<00:00, 87.26it/s] \n",
      "Training Epoch 1479: 100%|██████████| 499/499 [00:04<00:00, 101.26it/s]\n",
      "Training Epoch 1480: 100%|██████████| 499/499 [00:04<00:00, 100.93it/s]\n",
      "Training Epoch 1481: 100%|██████████| 499/499 [00:05<00:00, 98.42it/s] \n"
     ]
    },
    {
     "name": "stdout",
     "output_type": "stream",
     "text": [
      "Epoch 1480 - Train Loss: 0.1128, Train MSE: 0.1127, Train MAE: 0.2423\n",
      "Epoch 1480 - Validation Loss: 2.1373, Validation MSE: 2.1377, Validation MAE: 1.0775\n"
     ]
    },
    {
     "name": "stderr",
     "output_type": "stream",
     "text": [
      "Training Epoch 1482: 100%|██████████| 499/499 [00:05<00:00, 99.38it/s] \n",
      "Training Epoch 1483: 100%|██████████| 499/499 [00:05<00:00, 94.39it/s] \n",
      "Training Epoch 1484: 100%|██████████| 499/499 [00:05<00:00, 93.03it/s] \n",
      "Training Epoch 1485: 100%|██████████| 499/499 [00:05<00:00, 95.24it/s] \n",
      "Training Epoch 1486: 100%|██████████| 499/499 [00:05<00:00, 96.87it/s] \n",
      "Training Epoch 1487: 100%|██████████| 499/499 [00:05<00:00, 99.16it/s] \n",
      "Training Epoch 1488: 100%|██████████| 499/499 [00:04<00:00, 100.77it/s]\n",
      "Training Epoch 1489: 100%|██████████| 499/499 [00:04<00:00, 102.66it/s]\n",
      "Training Epoch 1490: 100%|██████████| 499/499 [00:05<00:00, 98.53it/s] \n",
      "Training Epoch 1491: 100%|██████████| 499/499 [00:05<00:00, 98.26it/s] \n"
     ]
    },
    {
     "name": "stdout",
     "output_type": "stream",
     "text": [
      "Epoch 1490 - Train Loss: 0.1098, Train MSE: 0.1098, Train MAE: 0.2401\n",
      "Epoch 1490 - Validation Loss: 2.1573, Validation MSE: 2.1580, Validation MAE: 1.0877\n"
     ]
    },
    {
     "name": "stderr",
     "output_type": "stream",
     "text": [
      "Training Epoch 1492: 100%|██████████| 499/499 [00:04<00:00, 103.43it/s]\n",
      "Training Epoch 1493: 100%|██████████| 499/499 [00:05<00:00, 98.54it/s] \n",
      "Training Epoch 1494: 100%|██████████| 499/499 [00:04<00:00, 103.43it/s]\n",
      "Training Epoch 1495: 100%|██████████| 499/499 [00:04<00:00, 102.40it/s]\n",
      "Training Epoch 1496: 100%|██████████| 499/499 [00:05<00:00, 98.49it/s] \n",
      "Training Epoch 1497: 100%|██████████| 499/499 [00:05<00:00, 99.38it/s] \n",
      "Training Epoch 1498: 100%|██████████| 499/499 [00:04<00:00, 100.84it/s]\n",
      "Training Epoch 1499: 100%|██████████| 499/499 [00:04<00:00, 100.29it/s]\n",
      "Training Epoch 1500: 100%|██████████| 499/499 [00:04<00:00, 102.40it/s]\n",
      "Training Epoch 1501: 100%|██████████| 499/499 [00:04<00:00, 100.93it/s]\n"
     ]
    },
    {
     "name": "stdout",
     "output_type": "stream",
     "text": [
      "Epoch 1500 - Train Loss: 0.1080, Train MSE: 0.1079, Train MAE: 0.2383\n",
      "Epoch 1500 - Validation Loss: 2.1301, Validation MSE: 2.1303, Validation MAE: 1.0777\n"
     ]
    },
    {
     "name": "stderr",
     "output_type": "stream",
     "text": [
      "Training Epoch 1502: 100%|██████████| 499/499 [00:05<00:00, 98.25it/s] \n",
      "Training Epoch 1503: 100%|██████████| 499/499 [00:04<00:00, 102.06it/s]\n",
      "Training Epoch 1504: 100%|██████████| 499/499 [00:04<00:00, 101.75it/s]\n",
      "Training Epoch 1505: 100%|██████████| 499/499 [00:04<00:00, 100.71it/s]\n",
      "Training Epoch 1506: 100%|██████████| 499/499 [00:04<00:00, 103.42it/s]\n",
      "Training Epoch 1507: 100%|██████████| 499/499 [00:04<00:00, 101.70it/s]\n",
      "Training Epoch 1508: 100%|██████████| 499/499 [00:05<00:00, 99.65it/s] \n",
      "Training Epoch 1509: 100%|██████████| 499/499 [00:04<00:00, 101.23it/s]\n",
      "Training Epoch 1510: 100%|██████████| 499/499 [00:05<00:00, 99.77it/s] \n",
      "Training Epoch 1511: 100%|██████████| 499/499 [00:05<00:00, 99.68it/s] \n"
     ]
    },
    {
     "name": "stdout",
     "output_type": "stream",
     "text": [
      "Epoch 1510 - Train Loss: 0.1070, Train MSE: 0.1071, Train MAE: 0.2380\n",
      "Epoch 1510 - Validation Loss: 2.1051, Validation MSE: 2.1055, Validation MAE: 1.0734\n"
     ]
    },
    {
     "name": "stderr",
     "output_type": "stream",
     "text": [
      "Training Epoch 1512: 100%|██████████| 499/499 [00:04<00:00, 102.18it/s]\n",
      "Training Epoch 1513: 100%|██████████| 499/499 [00:04<00:00, 100.31it/s]\n",
      "Training Epoch 1514: 100%|██████████| 499/499 [00:04<00:00, 101.64it/s]\n",
      "Training Epoch 1515: 100%|██████████| 499/499 [00:04<00:00, 100.81it/s]\n",
      "Training Epoch 1516: 100%|██████████| 499/499 [00:04<00:00, 101.57it/s]\n",
      "Training Epoch 1517: 100%|██████████| 499/499 [00:04<00:00, 101.37it/s]\n",
      "Training Epoch 1518: 100%|██████████| 499/499 [00:04<00:00, 102.43it/s]\n",
      "Training Epoch 1519: 100%|██████████| 499/499 [00:04<00:00, 100.42it/s]\n",
      "Training Epoch 1520: 100%|██████████| 499/499 [00:04<00:00, 101.48it/s]\n",
      "Training Epoch 1521: 100%|██████████| 499/499 [00:05<00:00, 99.04it/s] \n"
     ]
    },
    {
     "name": "stdout",
     "output_type": "stream",
     "text": [
      "Epoch 1520 - Train Loss: 0.1055, Train MSE: 0.1056, Train MAE: 0.2346\n",
      "Epoch 1520 - Validation Loss: 2.1285, Validation MSE: 2.1288, Validation MAE: 1.0754\n"
     ]
    },
    {
     "name": "stderr",
     "output_type": "stream",
     "text": [
      "Training Epoch 1522: 100%|██████████| 499/499 [00:04<00:00, 105.75it/s]\n",
      "Training Epoch 1523: 100%|██████████| 499/499 [00:04<00:00, 101.88it/s]\n",
      "Training Epoch 1524: 100%|██████████| 499/499 [00:05<00:00, 99.57it/s] \n",
      "Training Epoch 1525: 100%|██████████| 499/499 [00:04<00:00, 102.12it/s]\n",
      "Training Epoch 1526: 100%|██████████| 499/499 [00:04<00:00, 102.18it/s]\n",
      "Training Epoch 1527: 100%|██████████| 499/499 [00:05<00:00, 99.59it/s] \n",
      "Training Epoch 1528: 100%|██████████| 499/499 [00:04<00:00, 103.77it/s]\n",
      "Training Epoch 1529: 100%|██████████| 499/499 [00:04<00:00, 101.32it/s]\n",
      "Training Epoch 1530: 100%|██████████| 499/499 [00:04<00:00, 99.89it/s] \n",
      "Training Epoch 1531: 100%|██████████| 499/499 [00:04<00:00, 102.06it/s]\n"
     ]
    },
    {
     "name": "stdout",
     "output_type": "stream",
     "text": [
      "Epoch 1530 - Train Loss: 0.1063, Train MSE: 0.1063, Train MAE: 0.2369\n",
      "Epoch 1530 - Validation Loss: 2.1089, Validation MSE: 2.1095, Validation MAE: 1.0727\n"
     ]
    },
    {
     "name": "stderr",
     "output_type": "stream",
     "text": [
      "Training Epoch 1532: 100%|██████████| 499/499 [00:04<00:00, 100.70it/s]\n",
      "Training Epoch 1533: 100%|██████████| 499/499 [00:04<00:00, 100.69it/s]\n",
      "Training Epoch 1534: 100%|██████████| 499/499 [00:04<00:00, 104.04it/s]\n",
      "Training Epoch 1535: 100%|██████████| 499/499 [00:04<00:00, 102.47it/s]\n",
      "Training Epoch 1536: 100%|██████████| 499/499 [00:04<00:00, 101.68it/s]\n",
      "Training Epoch 1537: 100%|██████████| 499/499 [00:04<00:00, 104.05it/s]\n",
      "Training Epoch 1538: 100%|██████████| 499/499 [00:04<00:00, 101.94it/s]\n",
      "Training Epoch 1539: 100%|██████████| 499/499 [00:04<00:00, 102.21it/s]\n",
      "Training Epoch 1540: 100%|██████████| 499/499 [00:04<00:00, 100.53it/s]\n",
      "Training Epoch 1541: 100%|██████████| 499/499 [00:04<00:00, 102.66it/s]\n"
     ]
    },
    {
     "name": "stdout",
     "output_type": "stream",
     "text": [
      "Epoch 1540 - Train Loss: 0.1073, Train MSE: 0.1073, Train MAE: 0.2370\n",
      "Epoch 1540 - Validation Loss: 2.1153, Validation MSE: 2.1157, Validation MAE: 1.0728\n"
     ]
    },
    {
     "name": "stderr",
     "output_type": "stream",
     "text": [
      "Training Epoch 1542: 100%|██████████| 499/499 [00:04<00:00, 100.20it/s]\n",
      "Training Epoch 1543: 100%|██████████| 499/499 [00:04<00:00, 101.54it/s]\n",
      "Training Epoch 1544: 100%|██████████| 499/499 [00:04<00:00, 100.35it/s]\n",
      "Training Epoch 1545: 100%|██████████| 499/499 [00:04<00:00, 104.04it/s]\n",
      "Training Epoch 1546: 100%|██████████| 499/499 [00:05<00:00, 99.42it/s] \n",
      "Training Epoch 1547: 100%|██████████| 499/499 [00:04<00:00, 102.05it/s]\n",
      "Training Epoch 1548: 100%|██████████| 499/499 [00:04<00:00, 103.00it/s]\n",
      "Training Epoch 1549: 100%|██████████| 499/499 [00:04<00:00, 100.52it/s]\n",
      "Training Epoch 1550: 100%|██████████| 499/499 [00:04<00:00, 102.06it/s]\n",
      "Training Epoch 1551: 100%|██████████| 499/499 [00:04<00:00, 101.79it/s]\n"
     ]
    },
    {
     "name": "stdout",
     "output_type": "stream",
     "text": [
      "Epoch 1550 - Train Loss: 0.1040, Train MSE: 0.1040, Train MAE: 0.2343\n",
      "Epoch 1550 - Validation Loss: 2.1258, Validation MSE: 2.1265, Validation MAE: 1.0751\n"
     ]
    },
    {
     "name": "stderr",
     "output_type": "stream",
     "text": [
      "Training Epoch 1552: 100%|██████████| 499/499 [00:04<00:00, 101.19it/s]\n",
      "Training Epoch 1553: 100%|██████████| 499/499 [00:04<00:00, 100.24it/s]\n",
      "Training Epoch 1554: 100%|██████████| 499/499 [00:04<00:00, 103.00it/s]\n",
      "Training Epoch 1555: 100%|██████████| 499/499 [00:05<00:00, 98.14it/s] \n",
      "Training Epoch 1556: 100%|██████████| 499/499 [00:04<00:00, 101.45it/s]\n",
      "Training Epoch 1557: 100%|██████████| 499/499 [00:04<00:00, 101.70it/s]\n",
      "Training Epoch 1558: 100%|██████████| 499/499 [00:04<00:00, 100.44it/s]\n",
      "Training Epoch 1559: 100%|██████████| 499/499 [00:04<00:00, 104.16it/s]\n",
      "Training Epoch 1560: 100%|██████████| 499/499 [00:04<00:00, 102.40it/s]\n",
      "Training Epoch 1561: 100%|██████████| 499/499 [00:05<00:00, 99.34it/s] \n"
     ]
    },
    {
     "name": "stdout",
     "output_type": "stream",
     "text": [
      "Epoch 1560 - Train Loss: 0.1099, Train MSE: 0.1099, Train MAE: 0.2403\n",
      "Epoch 1560 - Validation Loss: 2.1128, Validation MSE: 2.1132, Validation MAE: 1.0722\n"
     ]
    },
    {
     "name": "stderr",
     "output_type": "stream",
     "text": [
      "Training Epoch 1562: 100%|██████████| 499/499 [00:05<00:00, 96.80it/s] \n",
      "Training Epoch 1563: 100%|██████████| 499/499 [00:04<00:00, 102.37it/s]\n",
      "Training Epoch 1564: 100%|██████████| 499/499 [00:05<00:00, 99.39it/s] \n",
      "Training Epoch 1565: 100%|██████████| 499/499 [00:04<00:00, 101.72it/s]\n",
      "Training Epoch 1566: 100%|██████████| 499/499 [00:04<00:00, 102.32it/s]\n",
      "Training Epoch 1567: 100%|██████████| 499/499 [00:05<00:00, 99.32it/s] \n",
      "Training Epoch 1568: 100%|██████████| 499/499 [00:05<00:00, 98.23it/s] \n",
      "Training Epoch 1569: 100%|██████████| 499/499 [00:04<00:00, 101.56it/s]\n",
      "Training Epoch 1570: 100%|██████████| 499/499 [00:04<00:00, 102.34it/s]\n",
      "Training Epoch 1571: 100%|██████████| 499/499 [00:05<00:00, 97.65it/s] \n"
     ]
    },
    {
     "name": "stdout",
     "output_type": "stream",
     "text": [
      "Epoch 1570 - Train Loss: 0.1041, Train MSE: 0.1041, Train MAE: 0.2326\n",
      "Epoch 1570 - Validation Loss: 2.1117, Validation MSE: 2.1122, Validation MAE: 1.0746\n"
     ]
    },
    {
     "name": "stderr",
     "output_type": "stream",
     "text": [
      "Training Epoch 1572: 100%|██████████| 499/499 [00:04<00:00, 101.90it/s]\n",
      "Training Epoch 1573: 100%|██████████| 499/499 [00:04<00:00, 102.93it/s]\n",
      "Training Epoch 1574: 100%|██████████| 499/499 [00:04<00:00, 100.01it/s]\n",
      "Training Epoch 1575: 100%|██████████| 499/499 [00:04<00:00, 101.50it/s]\n",
      "Training Epoch 1576: 100%|██████████| 499/499 [00:04<00:00, 102.91it/s]\n",
      "Training Epoch 1577: 100%|██████████| 499/499 [00:05<00:00, 99.67it/s] \n",
      "Training Epoch 1578: 100%|██████████| 499/499 [00:04<00:00, 103.04it/s]\n",
      "Training Epoch 1579: 100%|██████████| 499/499 [00:04<00:00, 99.94it/s] \n",
      "Training Epoch 1580: 100%|██████████| 499/499 [00:04<00:00, 101.61it/s]\n",
      "Training Epoch 1581: 100%|██████████| 499/499 [00:04<00:00, 101.90it/s]\n"
     ]
    },
    {
     "name": "stdout",
     "output_type": "stream",
     "text": [
      "Epoch 1580 - Train Loss: 0.1089, Train MSE: 0.1088, Train MAE: 0.2366\n",
      "Epoch 1580 - Validation Loss: 2.1274, Validation MSE: 2.1280, Validation MAE: 1.0757\n"
     ]
    },
    {
     "name": "stderr",
     "output_type": "stream",
     "text": [
      "Training Epoch 1582: 100%|██████████| 499/499 [00:04<00:00, 101.97it/s]\n",
      "Training Epoch 1583: 100%|██████████| 499/499 [00:05<00:00, 98.47it/s] \n",
      "Training Epoch 1584: 100%|██████████| 499/499 [00:04<00:00, 105.61it/s]\n",
      "Training Epoch 1585: 100%|██████████| 499/499 [00:04<00:00, 102.12it/s]\n",
      "Training Epoch 1586: 100%|██████████| 499/499 [00:04<00:00, 101.96it/s]\n",
      "Training Epoch 1587: 100%|██████████| 499/499 [00:04<00:00, 101.60it/s]\n",
      "Training Epoch 1588: 100%|██████████| 499/499 [00:04<00:00, 102.60it/s]\n",
      "Training Epoch 1589: 100%|██████████| 499/499 [00:04<00:00, 102.44it/s]\n",
      "Training Epoch 1590: 100%|██████████| 499/499 [00:04<00:00, 102.42it/s]\n",
      "Training Epoch 1591: 100%|██████████| 499/499 [00:04<00:00, 103.34it/s]\n"
     ]
    },
    {
     "name": "stdout",
     "output_type": "stream",
     "text": [
      "Epoch 1590 - Train Loss: 0.1060, Train MSE: 0.1061, Train MAE: 0.2360\n",
      "Epoch 1590 - Validation Loss: 2.1507, Validation MSE: 2.1510, Validation MAE: 1.0859\n"
     ]
    },
    {
     "name": "stderr",
     "output_type": "stream",
     "text": [
      "Training Epoch 1592: 100%|██████████| 499/499 [00:05<00:00, 99.74it/s] \n",
      "Training Epoch 1593: 100%|██████████| 499/499 [00:04<00:00, 101.79it/s]\n",
      "Training Epoch 1594: 100%|██████████| 499/499 [00:04<00:00, 105.47it/s]\n",
      "Training Epoch 1595: 100%|██████████| 499/499 [00:04<00:00, 102.53it/s]\n",
      "Training Epoch 1596: 100%|██████████| 499/499 [00:04<00:00, 101.84it/s]\n",
      "Training Epoch 1597: 100%|██████████| 499/499 [00:04<00:00, 102.36it/s]\n",
      "Training Epoch 1598: 100%|██████████| 499/499 [00:04<00:00, 103.94it/s]\n",
      "Training Epoch 1599: 100%|██████████| 499/499 [00:04<00:00, 100.00it/s]\n",
      "Training Epoch 1600: 100%|██████████| 499/499 [00:04<00:00, 100.72it/s]\n",
      "Training Epoch 1601: 100%|██████████| 499/499 [00:04<00:00, 102.94it/s]\n"
     ]
    },
    {
     "name": "stdout",
     "output_type": "stream",
     "text": [
      "Epoch 1600 - Train Loss: 0.1088, Train MSE: 0.1088, Train MAE: 0.2355\n",
      "Epoch 1600 - Validation Loss: 2.1256, Validation MSE: 2.1264, Validation MAE: 1.0827\n"
     ]
    },
    {
     "name": "stderr",
     "output_type": "stream",
     "text": [
      "Training Epoch 1602: 100%|██████████| 499/499 [00:05<00:00, 99.72it/s] \n",
      "Training Epoch 1603: 100%|██████████| 499/499 [00:04<00:00, 103.58it/s]\n",
      "Training Epoch 1604: 100%|██████████| 499/499 [00:04<00:00, 101.81it/s]\n",
      "Training Epoch 1605: 100%|██████████| 499/499 [00:04<00:00, 100.29it/s]\n",
      "Training Epoch 1606: 100%|██████████| 499/499 [00:04<00:00, 102.51it/s]\n",
      "Training Epoch 1607: 100%|██████████| 499/499 [00:04<00:00, 104.02it/s]\n",
      "Training Epoch 1608: 100%|██████████| 499/499 [00:04<00:00, 102.97it/s]\n",
      "Training Epoch 1609: 100%|██████████| 499/499 [00:04<00:00, 101.93it/s]\n",
      "Training Epoch 1610: 100%|██████████| 499/499 [00:04<00:00, 103.49it/s]\n",
      "Training Epoch 1611: 100%|██████████| 499/499 [00:04<00:00, 100.60it/s]\n"
     ]
    },
    {
     "name": "stdout",
     "output_type": "stream",
     "text": [
      "Epoch 1610 - Train Loss: 0.1038, Train MSE: 0.1038, Train MAE: 0.2325\n",
      "Epoch 1610 - Validation Loss: 2.1351, Validation MSE: 2.1358, Validation MAE: 1.0799\n"
     ]
    },
    {
     "name": "stderr",
     "output_type": "stream",
     "text": [
      "Training Epoch 1612: 100%|██████████| 499/499 [00:04<00:00, 100.65it/s]\n",
      "Training Epoch 1613: 100%|██████████| 499/499 [00:04<00:00, 103.00it/s]\n",
      "Training Epoch 1614: 100%|██████████| 499/499 [00:05<00:00, 96.76it/s] \n",
      "Training Epoch 1615: 100%|██████████| 499/499 [00:04<00:00, 104.50it/s]\n",
      "Training Epoch 1616: 100%|██████████| 499/499 [00:04<00:00, 117.49it/s]\n",
      "Training Epoch 1617: 100%|██████████| 499/499 [00:04<00:00, 119.57it/s]\n",
      "Training Epoch 1618: 100%|██████████| 499/499 [00:04<00:00, 117.02it/s]\n",
      "Training Epoch 1619: 100%|██████████| 499/499 [00:04<00:00, 118.63it/s]\n",
      "Training Epoch 1620: 100%|██████████| 499/499 [00:04<00:00, 117.35it/s]\n",
      "Training Epoch 1621: 100%|██████████| 499/499 [00:04<00:00, 116.16it/s]\n"
     ]
    },
    {
     "name": "stdout",
     "output_type": "stream",
     "text": [
      "Epoch 1620 - Train Loss: 0.1052, Train MSE: 0.1052, Train MAE: 0.2348\n",
      "Epoch 1620 - Validation Loss: 2.1383, Validation MSE: 2.1391, Validation MAE: 1.0812\n"
     ]
    },
    {
     "name": "stderr",
     "output_type": "stream",
     "text": [
      "Training Epoch 1622: 100%|██████████| 499/499 [00:04<00:00, 115.54it/s]\n",
      "Training Epoch 1623: 100%|██████████| 499/499 [00:04<00:00, 118.27it/s]\n",
      "Training Epoch 1624: 100%|██████████| 499/499 [00:04<00:00, 117.91it/s]\n",
      "Training Epoch 1625: 100%|██████████| 499/499 [00:04<00:00, 115.70it/s]\n",
      "Training Epoch 1626: 100%|██████████| 499/499 [00:04<00:00, 117.53it/s]\n",
      "Training Epoch 1627: 100%|██████████| 499/499 [00:04<00:00, 115.00it/s]\n",
      "Training Epoch 1628: 100%|██████████| 499/499 [00:04<00:00, 116.50it/s]\n",
      "Training Epoch 1629: 100%|██████████| 499/499 [00:04<00:00, 114.84it/s]\n",
      "Training Epoch 1630: 100%|██████████| 499/499 [00:04<00:00, 117.71it/s]\n",
      "Training Epoch 1631: 100%|██████████| 499/499 [00:04<00:00, 117.89it/s]\n"
     ]
    },
    {
     "name": "stdout",
     "output_type": "stream",
     "text": [
      "Epoch 1630 - Train Loss: 0.1085, Train MSE: 0.1086, Train MAE: 0.2358\n",
      "Epoch 1630 - Validation Loss: 2.1406, Validation MSE: 2.1410, Validation MAE: 1.0786\n"
     ]
    },
    {
     "name": "stderr",
     "output_type": "stream",
     "text": [
      "Training Epoch 1632: 100%|██████████| 499/499 [00:04<00:00, 116.50it/s]\n",
      "Training Epoch 1633: 100%|██████████| 499/499 [00:04<00:00, 119.86it/s]\n",
      "Training Epoch 1634: 100%|██████████| 499/499 [00:04<00:00, 117.97it/s]\n",
      "Training Epoch 1635: 100%|██████████| 499/499 [00:04<00:00, 117.75it/s]\n",
      "Training Epoch 1636: 100%|██████████| 499/499 [00:04<00:00, 116.88it/s]\n",
      "Training Epoch 1637: 100%|██████████| 499/499 [00:04<00:00, 119.82it/s]\n",
      "Training Epoch 1638: 100%|██████████| 499/499 [00:04<00:00, 117.34it/s]\n",
      "Training Epoch 1639: 100%|██████████| 499/499 [00:04<00:00, 119.22it/s]\n",
      "Training Epoch 1640: 100%|██████████| 499/499 [00:04<00:00, 117.18it/s]\n",
      "Training Epoch 1641: 100%|██████████| 499/499 [00:04<00:00, 114.67it/s]\n"
     ]
    },
    {
     "name": "stdout",
     "output_type": "stream",
     "text": [
      "Epoch 1640 - Train Loss: 0.1060, Train MSE: 0.1060, Train MAE: 0.2344\n",
      "Epoch 1640 - Validation Loss: 2.1224, Validation MSE: 2.1231, Validation MAE: 1.0752\n"
     ]
    },
    {
     "name": "stderr",
     "output_type": "stream",
     "text": [
      "Training Epoch 1642: 100%|██████████| 499/499 [00:04<00:00, 118.11it/s]\n",
      "Training Epoch 1643: 100%|██████████| 499/499 [00:04<00:00, 116.55it/s]\n",
      "Training Epoch 1644: 100%|██████████| 499/499 [00:04<00:00, 120.43it/s]\n",
      "Training Epoch 1645: 100%|██████████| 499/499 [00:04<00:00, 121.66it/s]\n",
      "Training Epoch 1646: 100%|██████████| 499/499 [00:04<00:00, 116.15it/s]\n",
      "Training Epoch 1647: 100%|██████████| 499/499 [00:04<00:00, 115.92it/s]\n",
      "Training Epoch 1648: 100%|██████████| 499/499 [00:03<00:00, 137.81it/s]\n",
      "Training Epoch 1649: 100%|██████████| 499/499 [00:03<00:00, 138.33it/s]\n",
      "Training Epoch 1650: 100%|██████████| 499/499 [00:03<00:00, 138.89it/s]\n",
      "Training Epoch 1651: 100%|██████████| 499/499 [00:03<00:00, 135.88it/s]\n"
     ]
    },
    {
     "name": "stdout",
     "output_type": "stream",
     "text": [
      "Epoch 1650 - Train Loss: 0.1039, Train MSE: 0.1039, Train MAE: 0.2335\n",
      "Epoch 1650 - Validation Loss: 2.1284, Validation MSE: 2.1291, Validation MAE: 1.0776\n"
     ]
    },
    {
     "name": "stderr",
     "output_type": "stream",
     "text": [
      "Training Epoch 1652: 100%|██████████| 499/499 [00:03<00:00, 137.41it/s]\n",
      "Training Epoch 1653: 100%|██████████| 499/499 [00:03<00:00, 139.27it/s]\n",
      "Training Epoch 1654: 100%|██████████| 499/499 [00:03<00:00, 136.61it/s]\n",
      "Training Epoch 1655: 100%|██████████| 499/499 [00:03<00:00, 136.26it/s]\n",
      "Training Epoch 1656: 100%|██████████| 499/499 [00:03<00:00, 141.71it/s]\n",
      "Training Epoch 1657: 100%|██████████| 499/499 [00:03<00:00, 137.37it/s]\n",
      "Training Epoch 1658: 100%|██████████| 499/499 [00:03<00:00, 139.15it/s]\n",
      "Training Epoch 1659: 100%|██████████| 499/499 [00:03<00:00, 133.65it/s]\n",
      "Training Epoch 1660: 100%|██████████| 499/499 [00:03<00:00, 139.41it/s]\n",
      "Training Epoch 1661: 100%|██████████| 499/499 [00:03<00:00, 138.89it/s]\n"
     ]
    },
    {
     "name": "stdout",
     "output_type": "stream",
     "text": [
      "Epoch 1660 - Train Loss: 0.1022, Train MSE: 0.1021, Train MAE: 0.2307\n",
      "Epoch 1660 - Validation Loss: 2.0984, Validation MSE: 2.0988, Validation MAE: 1.0675\n"
     ]
    },
    {
     "name": "stderr",
     "output_type": "stream",
     "text": [
      "Training Epoch 1662: 100%|██████████| 499/499 [00:03<00:00, 141.71it/s]\n",
      "Training Epoch 1663: 100%|██████████| 499/499 [00:03<00:00, 136.40it/s]\n",
      "Training Epoch 1664: 100%|██████████| 499/499 [00:03<00:00, 133.82it/s]\n",
      "Training Epoch 1665: 100%|██████████| 499/499 [00:03<00:00, 139.83it/s]\n",
      "Training Epoch 1666: 100%|██████████| 499/499 [00:03<00:00, 136.13it/s]\n",
      "Training Epoch 1667: 100%|██████████| 499/499 [00:03<00:00, 135.86it/s]\n",
      "Training Epoch 1668: 100%|██████████| 499/499 [00:03<00:00, 134.41it/s]\n",
      "Training Epoch 1669: 100%|██████████| 499/499 [00:03<00:00, 136.38it/s]\n",
      "Training Epoch 1670: 100%|██████████| 499/499 [00:03<00:00, 137.76it/s]\n",
      "Training Epoch 1671: 100%|██████████| 499/499 [00:03<00:00, 137.13it/s]\n"
     ]
    },
    {
     "name": "stdout",
     "output_type": "stream",
     "text": [
      "Epoch 1670 - Train Loss: 0.1034, Train MSE: 0.1035, Train MAE: 0.2302\n",
      "Epoch 1670 - Validation Loss: 2.1222, Validation MSE: 2.1226, Validation MAE: 1.0734\n"
     ]
    },
    {
     "name": "stderr",
     "output_type": "stream",
     "text": [
      "Training Epoch 1672: 100%|██████████| 499/499 [00:03<00:00, 135.82it/s]\n",
      "Training Epoch 1673: 100%|██████████| 499/499 [00:03<00:00, 137.07it/s]\n",
      "Training Epoch 1674: 100%|██████████| 499/499 [00:03<00:00, 140.14it/s]\n",
      "Training Epoch 1675: 100%|██████████| 499/499 [00:03<00:00, 137.33it/s]\n",
      "Training Epoch 1676: 100%|██████████| 499/499 [00:03<00:00, 133.03it/s]\n",
      "Training Epoch 1677: 100%|██████████| 499/499 [00:03<00:00, 140.02it/s]\n",
      "Training Epoch 1678: 100%|██████████| 499/499 [00:03<00:00, 137.01it/s]\n",
      "Training Epoch 1679: 100%|██████████| 499/499 [00:03<00:00, 136.92it/s]\n",
      "Training Epoch 1680: 100%|██████████| 499/499 [00:03<00:00, 136.17it/s]\n",
      "Training Epoch 1681: 100%|██████████| 499/499 [00:03<00:00, 137.86it/s]\n"
     ]
    },
    {
     "name": "stdout",
     "output_type": "stream",
     "text": [
      "Epoch 1680 - Train Loss: 0.0988, Train MSE: 0.0988, Train MAE: 0.2290\n",
      "Epoch 1680 - Validation Loss: 2.1260, Validation MSE: 2.1263, Validation MAE: 1.0791\n"
     ]
    },
    {
     "name": "stderr",
     "output_type": "stream",
     "text": [
      "Training Epoch 1682: 100%|██████████| 499/499 [00:03<00:00, 136.68it/s]\n",
      "Training Epoch 1683: 100%|██████████| 499/499 [00:03<00:00, 138.39it/s]\n",
      "Training Epoch 1684: 100%|██████████| 499/499 [00:03<00:00, 138.54it/s]\n",
      "Training Epoch 1685: 100%|██████████| 499/499 [00:03<00:00, 136.68it/s]\n",
      "Training Epoch 1686: 100%|██████████| 499/499 [00:03<00:00, 137.40it/s]\n",
      "Training Epoch 1687: 100%|██████████| 499/499 [00:03<00:00, 135.91it/s]\n",
      "Training Epoch 1688: 100%|██████████| 499/499 [00:03<00:00, 138.38it/s]\n",
      "Training Epoch 1689: 100%|██████████| 499/499 [00:03<00:00, 134.17it/s]\n",
      "Training Epoch 1690: 100%|██████████| 499/499 [00:03<00:00, 138.65it/s]\n",
      "Training Epoch 1691: 100%|██████████| 499/499 [00:03<00:00, 137.45it/s]\n"
     ]
    },
    {
     "name": "stdout",
     "output_type": "stream",
     "text": [
      "Epoch 1690 - Train Loss: 0.1014, Train MSE: 0.1014, Train MAE: 0.2295\n",
      "Epoch 1690 - Validation Loss: 2.1342, Validation MSE: 2.1345, Validation MAE: 1.0751\n"
     ]
    },
    {
     "name": "stderr",
     "output_type": "stream",
     "text": [
      "Training Epoch 1692: 100%|██████████| 499/499 [00:03<00:00, 139.56it/s]\n",
      "Training Epoch 1693: 100%|██████████| 499/499 [00:03<00:00, 133.91it/s]\n",
      "Training Epoch 1694: 100%|██████████| 499/499 [00:03<00:00, 137.69it/s]\n",
      "Training Epoch 1695: 100%|██████████| 499/499 [00:03<00:00, 137.65it/s]\n",
      "Training Epoch 1696: 100%|██████████| 499/499 [00:03<00:00, 138.01it/s]\n",
      "Training Epoch 1697: 100%|██████████| 499/499 [00:03<00:00, 135.43it/s]\n",
      "Training Epoch 1698: 100%|██████████| 499/499 [00:03<00:00, 138.30it/s]\n",
      "Training Epoch 1699: 100%|██████████| 499/499 [00:03<00:00, 140.19it/s]\n",
      "Training Epoch 1700: 100%|██████████| 499/499 [00:03<00:00, 136.75it/s]\n",
      "Training Epoch 1701: 100%|██████████| 499/499 [00:03<00:00, 134.04it/s]\n"
     ]
    },
    {
     "name": "stdout",
     "output_type": "stream",
     "text": [
      "Epoch 1700 - Train Loss: 0.1058, Train MSE: 0.1058, Train MAE: 0.2325\n",
      "Epoch 1700 - Validation Loss: 2.1282, Validation MSE: 2.1286, Validation MAE: 1.0745\n"
     ]
    },
    {
     "name": "stderr",
     "output_type": "stream",
     "text": [
      "Training Epoch 1702: 100%|██████████| 499/499 [00:03<00:00, 134.12it/s]\n",
      "Training Epoch 1703: 100%|██████████| 499/499 [00:03<00:00, 135.68it/s]\n",
      "Training Epoch 1704: 100%|██████████| 499/499 [00:03<00:00, 139.54it/s]\n",
      "Training Epoch 1705: 100%|██████████| 499/499 [00:03<00:00, 134.02it/s]\n",
      "Training Epoch 1706: 100%|██████████| 499/499 [00:03<00:00, 138.03it/s]\n",
      "Training Epoch 1707: 100%|██████████| 499/499 [00:03<00:00, 138.10it/s]\n",
      "Training Epoch 1708: 100%|██████████| 499/499 [00:03<00:00, 137.07it/s]\n",
      "Training Epoch 1709: 100%|██████████| 499/499 [00:03<00:00, 136.07it/s]\n",
      "Training Epoch 1710: 100%|██████████| 499/499 [00:03<00:00, 135.98it/s]\n",
      "Training Epoch 1711: 100%|██████████| 499/499 [00:03<00:00, 138.00it/s]\n"
     ]
    },
    {
     "name": "stdout",
     "output_type": "stream",
     "text": [
      "Epoch 1710 - Train Loss: 0.1027, Train MSE: 0.1026, Train MAE: 0.2292\n",
      "Epoch 1710 - Validation Loss: 2.1446, Validation MSE: 2.1450, Validation MAE: 1.0797\n"
     ]
    },
    {
     "name": "stderr",
     "output_type": "stream",
     "text": [
      "Training Epoch 1712: 100%|██████████| 499/499 [00:03<00:00, 138.70it/s]\n",
      "Training Epoch 1713: 100%|██████████| 499/499 [00:03<00:00, 137.76it/s]\n",
      "Training Epoch 1714: 100%|██████████| 499/499 [00:03<00:00, 134.79it/s]\n",
      "Training Epoch 1715: 100%|██████████| 499/499 [00:03<00:00, 137.35it/s]\n",
      "Training Epoch 1716: 100%|██████████| 499/499 [00:03<00:00, 138.07it/s]\n",
      "Training Epoch 1717: 100%|██████████| 499/499 [00:03<00:00, 141.31it/s]\n",
      "Training Epoch 1718: 100%|██████████| 499/499 [00:03<00:00, 135.73it/s]\n",
      "Training Epoch 1719: 100%|██████████| 499/499 [00:03<00:00, 142.61it/s]\n",
      "Training Epoch 1720: 100%|██████████| 499/499 [00:03<00:00, 139.80it/s]\n",
      "Training Epoch 1721: 100%|██████████| 499/499 [00:03<00:00, 141.43it/s]\n"
     ]
    },
    {
     "name": "stdout",
     "output_type": "stream",
     "text": [
      "Epoch 1720 - Train Loss: 0.1012, Train MSE: 0.1012, Train MAE: 0.2288\n",
      "Epoch 1720 - Validation Loss: 2.1410, Validation MSE: 2.1416, Validation MAE: 1.0790\n"
     ]
    },
    {
     "name": "stderr",
     "output_type": "stream",
     "text": [
      "Training Epoch 1722: 100%|██████████| 499/499 [00:03<00:00, 139.03it/s]\n",
      "Training Epoch 1723: 100%|██████████| 499/499 [00:03<00:00, 140.31it/s]\n",
      "Training Epoch 1724: 100%|██████████| 499/499 [00:03<00:00, 141.63it/s]\n",
      "Training Epoch 1725: 100%|██████████| 499/499 [00:03<00:00, 140.80it/s]\n",
      "Training Epoch 1726: 100%|██████████| 499/499 [00:03<00:00, 136.42it/s]\n",
      "Training Epoch 1727: 100%|██████████| 499/499 [00:03<00:00, 137.90it/s]\n",
      "Training Epoch 1728: 100%|██████████| 499/499 [00:03<00:00, 139.82it/s]\n",
      "Training Epoch 1729: 100%|██████████| 499/499 [00:03<00:00, 142.86it/s]\n",
      "Training Epoch 1730: 100%|██████████| 499/499 [00:03<00:00, 139.30it/s]\n",
      "Training Epoch 1731: 100%|██████████| 499/499 [00:03<00:00, 137.53it/s]\n"
     ]
    },
    {
     "name": "stdout",
     "output_type": "stream",
     "text": [
      "Epoch 1730 - Train Loss: 0.1030, Train MSE: 0.1030, Train MAE: 0.2317\n",
      "Epoch 1730 - Validation Loss: 2.1277, Validation MSE: 2.1282, Validation MAE: 1.0770\n"
     ]
    },
    {
     "name": "stderr",
     "output_type": "stream",
     "text": [
      "Training Epoch 1732: 100%|██████████| 499/499 [00:03<00:00, 140.78it/s]\n",
      "Training Epoch 1733: 100%|██████████| 499/499 [00:03<00:00, 139.42it/s]\n",
      "Training Epoch 1734: 100%|██████████| 499/499 [00:03<00:00, 141.21it/s]\n",
      "Training Epoch 1735: 100%|██████████| 499/499 [00:03<00:00, 139.39it/s]\n",
      "Training Epoch 1736: 100%|██████████| 499/499 [00:03<00:00, 138.84it/s]\n",
      "Training Epoch 1737: 100%|██████████| 499/499 [00:03<00:00, 140.42it/s]\n",
      "Training Epoch 1738: 100%|██████████| 499/499 [00:03<00:00, 140.88it/s]\n",
      "Training Epoch 1739: 100%|██████████| 499/499 [00:03<00:00, 136.46it/s]\n",
      "Training Epoch 1740: 100%|██████████| 499/499 [00:03<00:00, 142.22it/s]\n",
      "Training Epoch 1741: 100%|██████████| 499/499 [00:03<00:00, 139.74it/s]\n"
     ]
    },
    {
     "name": "stdout",
     "output_type": "stream",
     "text": [
      "Epoch 1740 - Train Loss: 0.1002, Train MSE: 0.1002, Train MAE: 0.2305\n",
      "Epoch 1740 - Validation Loss: 2.1016, Validation MSE: 2.1018, Validation MAE: 1.0672\n"
     ]
    },
    {
     "name": "stderr",
     "output_type": "stream",
     "text": [
      "Training Epoch 1742: 100%|██████████| 499/499 [00:03<00:00, 138.50it/s]\n",
      "Training Epoch 1743: 100%|██████████| 499/499 [00:03<00:00, 143.12it/s]\n",
      "Training Epoch 1744: 100%|██████████| 499/499 [00:03<00:00, 138.31it/s]\n",
      "Training Epoch 1745: 100%|██████████| 499/499 [00:03<00:00, 137.63it/s]\n",
      "Training Epoch 1746: 100%|██████████| 499/499 [00:03<00:00, 139.72it/s]\n",
      "Training Epoch 1747: 100%|██████████| 499/499 [00:03<00:00, 139.49it/s]\n",
      "Training Epoch 1748: 100%|██████████| 499/499 [00:03<00:00, 137.21it/s]\n",
      "Training Epoch 1749: 100%|██████████| 499/499 [00:03<00:00, 142.01it/s]\n",
      "Training Epoch 1750: 100%|██████████| 499/499 [00:03<00:00, 138.32it/s]\n",
      "Training Epoch 1751: 100%|██████████| 499/499 [00:03<00:00, 141.13it/s]\n"
     ]
    },
    {
     "name": "stdout",
     "output_type": "stream",
     "text": [
      "Epoch 1750 - Train Loss: 0.0959, Train MSE: 0.0959, Train MAE: 0.2256\n",
      "Epoch 1750 - Validation Loss: 2.1353, Validation MSE: 2.1356, Validation MAE: 1.0772\n"
     ]
    },
    {
     "name": "stderr",
     "output_type": "stream",
     "text": [
      "Training Epoch 1752: 100%|██████████| 499/499 [00:03<00:00, 135.54it/s]\n",
      "Training Epoch 1753: 100%|██████████| 499/499 [00:03<00:00, 142.09it/s]\n",
      "Training Epoch 1754: 100%|██████████| 499/499 [00:03<00:00, 140.56it/s]\n",
      "Training Epoch 1755: 100%|██████████| 499/499 [00:03<00:00, 140.23it/s]\n",
      "Training Epoch 1756: 100%|██████████| 499/499 [00:03<00:00, 135.30it/s]\n",
      "Training Epoch 1757: 100%|██████████| 499/499 [00:03<00:00, 141.24it/s]\n",
      "Training Epoch 1758: 100%|██████████| 499/499 [00:03<00:00, 141.66it/s]\n",
      "Training Epoch 1759: 100%|██████████| 499/499 [00:03<00:00, 141.00it/s]\n",
      "Training Epoch 1760: 100%|██████████| 499/499 [00:03<00:00, 142.08it/s]\n",
      "Training Epoch 1761: 100%|██████████| 499/499 [00:03<00:00, 135.57it/s]\n"
     ]
    },
    {
     "name": "stdout",
     "output_type": "stream",
     "text": [
      "Epoch 1760 - Train Loss: 0.0994, Train MSE: 0.0995, Train MAE: 0.2290\n",
      "Epoch 1760 - Validation Loss: 2.1080, Validation MSE: 2.1083, Validation MAE: 1.0703\n"
     ]
    },
    {
     "name": "stderr",
     "output_type": "stream",
     "text": [
      "Training Epoch 1762: 100%|██████████| 499/499 [00:03<00:00, 138.62it/s]\n",
      "Training Epoch 1763: 100%|██████████| 499/499 [00:03<00:00, 139.06it/s]\n",
      "Training Epoch 1764: 100%|██████████| 499/499 [00:03<00:00, 142.62it/s]\n",
      "Training Epoch 1765: 100%|██████████| 499/499 [00:03<00:00, 137.37it/s]\n",
      "Training Epoch 1766: 100%|██████████| 499/499 [00:03<00:00, 142.90it/s]\n",
      "Training Epoch 1767: 100%|██████████| 499/499 [00:03<00:00, 136.66it/s]\n",
      "Training Epoch 1768: 100%|██████████| 499/499 [00:03<00:00, 140.99it/s]\n",
      "Training Epoch 1769: 100%|██████████| 499/499 [00:03<00:00, 136.58it/s]\n",
      "Training Epoch 1770: 100%|██████████| 499/499 [00:03<00:00, 140.45it/s]\n",
      "Training Epoch 1771: 100%|██████████| 499/499 [00:03<00:00, 145.37it/s]\n"
     ]
    },
    {
     "name": "stdout",
     "output_type": "stream",
     "text": [
      "Epoch 1770 - Train Loss: 0.1040, Train MSE: 0.1041, Train MAE: 0.2294\n",
      "Epoch 1770 - Validation Loss: 2.1264, Validation MSE: 2.1266, Validation MAE: 1.0758\n"
     ]
    },
    {
     "name": "stderr",
     "output_type": "stream",
     "text": [
      "Training Epoch 1772: 100%|██████████| 499/499 [00:03<00:00, 140.16it/s]\n",
      "Training Epoch 1773: 100%|██████████| 499/499 [00:03<00:00, 139.59it/s]\n",
      "Training Epoch 1774: 100%|██████████| 499/499 [00:03<00:00, 141.03it/s]\n",
      "Training Epoch 1775: 100%|██████████| 499/499 [00:03<00:00, 142.65it/s]\n",
      "Training Epoch 1776: 100%|██████████| 499/499 [00:03<00:00, 138.44it/s]\n",
      "Training Epoch 1777: 100%|██████████| 499/499 [00:03<00:00, 142.80it/s]\n",
      "Training Epoch 1778: 100%|██████████| 499/499 [00:03<00:00, 137.64it/s]\n",
      "Training Epoch 1779: 100%|██████████| 499/499 [00:03<00:00, 143.46it/s]\n",
      "Training Epoch 1780: 100%|██████████| 499/499 [00:03<00:00, 138.21it/s]\n",
      "Training Epoch 1781: 100%|██████████| 499/499 [00:03<00:00, 140.26it/s]\n"
     ]
    },
    {
     "name": "stdout",
     "output_type": "stream",
     "text": [
      "Epoch 1780 - Train Loss: 0.0988, Train MSE: 0.0985, Train MAE: 0.2271\n",
      "Epoch 1780 - Validation Loss: 2.1278, Validation MSE: 2.1281, Validation MAE: 1.0783\n"
     ]
    },
    {
     "name": "stderr",
     "output_type": "stream",
     "text": [
      "Training Epoch 1782: 100%|██████████| 499/499 [00:03<00:00, 138.17it/s]\n",
      "Training Epoch 1783: 100%|██████████| 499/499 [00:03<00:00, 138.21it/s]\n",
      "Training Epoch 1784: 100%|██████████| 499/499 [00:03<00:00, 141.78it/s]\n",
      "Training Epoch 1785: 100%|██████████| 499/499 [00:03<00:00, 140.01it/s]\n",
      "Training Epoch 1786: 100%|██████████| 499/499 [00:03<00:00, 138.51it/s]\n",
      "Training Epoch 1787: 100%|██████████| 499/499 [00:03<00:00, 139.36it/s]\n",
      "Training Epoch 1788: 100%|██████████| 499/499 [00:03<00:00, 138.82it/s]\n",
      "Training Epoch 1789: 100%|██████████| 499/499 [00:03<00:00, 140.34it/s]\n",
      "Training Epoch 1790: 100%|██████████| 499/499 [00:03<00:00, 137.97it/s]\n",
      "Training Epoch 1791: 100%|██████████| 499/499 [00:03<00:00, 140.67it/s]\n"
     ]
    },
    {
     "name": "stdout",
     "output_type": "stream",
     "text": [
      "Epoch 1790 - Train Loss: 0.0985, Train MSE: 0.0985, Train MAE: 0.2261\n",
      "Epoch 1790 - Validation Loss: 2.1478, Validation MSE: 2.1478, Validation MAE: 1.0858\n"
     ]
    },
    {
     "name": "stderr",
     "output_type": "stream",
     "text": [
      "Training Epoch 1792: 100%|██████████| 499/499 [00:03<00:00, 141.64it/s]\n",
      "Training Epoch 1793: 100%|██████████| 499/499 [00:03<00:00, 137.35it/s]\n",
      "Training Epoch 1794: 100%|██████████| 499/499 [00:03<00:00, 141.18it/s]\n",
      "Training Epoch 1795: 100%|██████████| 499/499 [00:03<00:00, 136.80it/s]\n",
      "Training Epoch 1796: 100%|██████████| 499/499 [00:03<00:00, 140.09it/s]\n",
      "Training Epoch 1797: 100%|██████████| 499/499 [00:03<00:00, 142.39it/s]\n",
      "Training Epoch 1798: 100%|██████████| 499/499 [00:03<00:00, 140.04it/s]\n",
      "Training Epoch 1799: 100%|██████████| 499/499 [00:03<00:00, 136.66it/s]\n",
      "Training Epoch 1800: 100%|██████████| 499/499 [00:03<00:00, 142.98it/s]\n",
      "Training Epoch 1801: 100%|██████████| 499/499 [00:03<00:00, 139.55it/s]\n"
     ]
    },
    {
     "name": "stdout",
     "output_type": "stream",
     "text": [
      "Epoch 1800 - Train Loss: 0.0978, Train MSE: 0.0978, Train MAE: 0.2258\n",
      "Epoch 1800 - Validation Loss: 2.1311, Validation MSE: 2.1317, Validation MAE: 1.0779\n"
     ]
    },
    {
     "name": "stderr",
     "output_type": "stream",
     "text": [
      "Training Epoch 1802: 100%|██████████| 499/499 [00:03<00:00, 140.90it/s]\n",
      "Training Epoch 1803: 100%|██████████| 499/499 [00:03<00:00, 138.56it/s]\n",
      "Training Epoch 1804: 100%|██████████| 499/499 [00:03<00:00, 141.16it/s]\n",
      "Training Epoch 1805: 100%|██████████| 499/499 [00:03<00:00, 140.92it/s]\n",
      "Training Epoch 1806: 100%|██████████| 499/499 [00:03<00:00, 143.82it/s]\n",
      "Training Epoch 1807: 100%|██████████| 499/499 [00:03<00:00, 139.53it/s]\n",
      "Training Epoch 1808: 100%|██████████| 499/499 [00:03<00:00, 139.71it/s]\n",
      "Training Epoch 1809: 100%|██████████| 499/499 [00:03<00:00, 140.73it/s]\n",
      "Training Epoch 1810: 100%|██████████| 499/499 [00:03<00:00, 138.68it/s]\n",
      "Training Epoch 1811: 100%|██████████| 499/499 [00:03<00:00, 142.46it/s]\n"
     ]
    },
    {
     "name": "stdout",
     "output_type": "stream",
     "text": [
      "Epoch 1810 - Train Loss: 0.1010, Train MSE: 0.1010, Train MAE: 0.2271\n",
      "Epoch 1810 - Validation Loss: 2.1559, Validation MSE: 2.1562, Validation MAE: 1.0820\n"
     ]
    },
    {
     "name": "stderr",
     "output_type": "stream",
     "text": [
      "Training Epoch 1812: 100%|██████████| 499/499 [00:03<00:00, 136.98it/s]\n",
      "Training Epoch 1813: 100%|██████████| 499/499 [00:03<00:00, 140.64it/s]\n",
      "Training Epoch 1814: 100%|██████████| 499/499 [00:03<00:00, 140.82it/s]\n",
      "Training Epoch 1815: 100%|██████████| 499/499 [00:03<00:00, 137.11it/s]\n",
      "Training Epoch 1816: 100%|██████████| 499/499 [00:03<00:00, 137.56it/s]\n",
      "Training Epoch 1817: 100%|██████████| 499/499 [00:03<00:00, 138.72it/s]\n",
      "Training Epoch 1818: 100%|██████████| 499/499 [00:03<00:00, 140.21it/s]\n",
      "Training Epoch 1819: 100%|██████████| 499/499 [00:03<00:00, 140.93it/s]\n",
      "Training Epoch 1820: 100%|██████████| 499/499 [00:03<00:00, 139.83it/s]\n",
      "Training Epoch 1821: 100%|██████████| 499/499 [00:03<00:00, 138.91it/s]\n"
     ]
    },
    {
     "name": "stdout",
     "output_type": "stream",
     "text": [
      "Epoch 1820 - Train Loss: 0.0963, Train MSE: 0.0963, Train MAE: 0.2244\n",
      "Epoch 1820 - Validation Loss: 2.1235, Validation MSE: 2.1239, Validation MAE: 1.0722\n"
     ]
    },
    {
     "name": "stderr",
     "output_type": "stream",
     "text": [
      "Training Epoch 1822: 100%|██████████| 499/499 [00:03<00:00, 141.67it/s]\n",
      "Training Epoch 1823: 100%|██████████| 499/499 [00:03<00:00, 142.42it/s]\n",
      "Training Epoch 1824: 100%|██████████| 499/499 [00:03<00:00, 137.66it/s]\n",
      "Training Epoch 1825: 100%|██████████| 499/499 [00:03<00:00, 135.10it/s]\n",
      "Training Epoch 1826: 100%|██████████| 499/499 [00:03<00:00, 139.55it/s]\n",
      "Training Epoch 1827: 100%|██████████| 499/499 [00:03<00:00, 138.00it/s]\n",
      "Training Epoch 1828: 100%|██████████| 499/499 [00:03<00:00, 143.11it/s]\n",
      "Training Epoch 1829: 100%|██████████| 499/499 [00:03<00:00, 137.50it/s]\n",
      "Training Epoch 1830: 100%|██████████| 499/499 [00:03<00:00, 138.29it/s]\n",
      "Training Epoch 1831: 100%|██████████| 499/499 [00:03<00:00, 137.38it/s]\n"
     ]
    },
    {
     "name": "stdout",
     "output_type": "stream",
     "text": [
      "Epoch 1830 - Train Loss: 0.0997, Train MSE: 0.0997, Train MAE: 0.2283\n",
      "Epoch 1830 - Validation Loss: 2.1400, Validation MSE: 2.1403, Validation MAE: 1.0844\n"
     ]
    },
    {
     "name": "stderr",
     "output_type": "stream",
     "text": [
      "Training Epoch 1832: 100%|██████████| 499/499 [00:03<00:00, 139.91it/s]\n",
      "Training Epoch 1833: 100%|██████████| 499/499 [00:03<00:00, 138.19it/s]\n",
      "Training Epoch 1834: 100%|██████████| 499/499 [00:03<00:00, 144.07it/s]\n",
      "Training Epoch 1835: 100%|██████████| 499/499 [00:03<00:00, 143.72it/s]\n",
      "Training Epoch 1836: 100%|██████████| 499/499 [00:03<00:00, 139.97it/s]\n",
      "Training Epoch 1837: 100%|██████████| 499/499 [00:03<00:00, 141.22it/s]\n",
      "Training Epoch 1838: 100%|██████████| 499/499 [00:03<00:00, 136.17it/s]\n",
      "Training Epoch 1839: 100%|██████████| 499/499 [00:03<00:00, 138.94it/s]\n",
      "Training Epoch 1840: 100%|██████████| 499/499 [00:03<00:00, 141.65it/s]\n",
      "Training Epoch 1841: 100%|██████████| 499/499 [00:03<00:00, 140.10it/s]\n"
     ]
    },
    {
     "name": "stdout",
     "output_type": "stream",
     "text": [
      "Epoch 1840 - Train Loss: 0.1028, Train MSE: 0.1029, Train MAE: 0.2282\n",
      "Epoch 1840 - Validation Loss: 2.1154, Validation MSE: 2.1156, Validation MAE: 1.0740\n"
     ]
    },
    {
     "name": "stderr",
     "output_type": "stream",
     "text": [
      "Training Epoch 1842: 100%|██████████| 499/499 [00:03<00:00, 137.14it/s]\n",
      "Training Epoch 1843: 100%|██████████| 499/499 [00:03<00:00, 141.75it/s]\n",
      "Training Epoch 1844: 100%|██████████| 499/499 [00:03<00:00, 139.49it/s]\n",
      "Training Epoch 1845: 100%|██████████| 499/499 [00:03<00:00, 138.83it/s]\n",
      "Training Epoch 1846: 100%|██████████| 499/499 [00:03<00:00, 139.40it/s]\n",
      "Training Epoch 1847: 100%|██████████| 499/499 [00:03<00:00, 140.65it/s]\n",
      "Training Epoch 1848: 100%|██████████| 499/499 [00:03<00:00, 141.25it/s]\n",
      "Training Epoch 1849: 100%|██████████| 499/499 [00:03<00:00, 142.09it/s]\n",
      "Training Epoch 1850: 100%|██████████| 499/499 [00:03<00:00, 140.14it/s]\n",
      "Training Epoch 1851: 100%|██████████| 499/499 [00:03<00:00, 137.92it/s]\n"
     ]
    },
    {
     "name": "stdout",
     "output_type": "stream",
     "text": [
      "Epoch 1850 - Train Loss: 0.0960, Train MSE: 0.0960, Train MAE: 0.2249\n",
      "Epoch 1850 - Validation Loss: 2.1242, Validation MSE: 2.1246, Validation MAE: 1.0786\n"
     ]
    },
    {
     "name": "stderr",
     "output_type": "stream",
     "text": [
      "Training Epoch 1852: 100%|██████████| 499/499 [00:03<00:00, 140.68it/s]\n",
      "Training Epoch 1853: 100%|██████████| 499/499 [00:03<00:00, 142.67it/s]\n",
      "Training Epoch 1854: 100%|██████████| 499/499 [00:03<00:00, 142.98it/s]\n",
      "Training Epoch 1855: 100%|██████████| 499/499 [00:03<00:00, 136.52it/s]\n",
      "Training Epoch 1856: 100%|██████████| 499/499 [00:03<00:00, 139.29it/s]\n",
      "Training Epoch 1857: 100%|██████████| 499/499 [00:03<00:00, 141.11it/s]\n",
      "Training Epoch 1858: 100%|██████████| 499/499 [00:03<00:00, 139.72it/s]\n",
      "Training Epoch 1859: 100%|██████████| 499/499 [00:03<00:00, 142.18it/s]\n",
      "Training Epoch 1860: 100%|██████████| 499/499 [00:03<00:00, 141.11it/s]\n",
      "Training Epoch 1861: 100%|██████████| 499/499 [00:03<00:00, 137.96it/s]\n"
     ]
    },
    {
     "name": "stdout",
     "output_type": "stream",
     "text": [
      "Epoch 1860 - Train Loss: 0.0963, Train MSE: 0.0963, Train MAE: 0.2246\n",
      "Epoch 1860 - Validation Loss: 2.1151, Validation MSE: 2.1157, Validation MAE: 1.0737\n"
     ]
    },
    {
     "name": "stderr",
     "output_type": "stream",
     "text": [
      "Training Epoch 1862: 100%|██████████| 499/499 [00:03<00:00, 139.89it/s]\n",
      "Training Epoch 1863: 100%|██████████| 499/499 [00:03<00:00, 137.43it/s]\n",
      "Training Epoch 1864: 100%|██████████| 499/499 [00:03<00:00, 140.53it/s]\n",
      "Training Epoch 1865: 100%|██████████| 499/499 [00:03<00:00, 139.67it/s]\n",
      "Training Epoch 1866: 100%|██████████| 499/499 [00:03<00:00, 141.44it/s]\n",
      "Training Epoch 1867: 100%|██████████| 499/499 [00:03<00:00, 140.70it/s]\n",
      "Training Epoch 1868: 100%|██████████| 499/499 [00:03<00:00, 137.95it/s]\n",
      "Training Epoch 1869: 100%|██████████| 499/499 [00:03<00:00, 139.80it/s]\n",
      "Training Epoch 1870: 100%|██████████| 499/499 [00:03<00:00, 140.91it/s]\n",
      "Training Epoch 1871: 100%|██████████| 499/499 [00:03<00:00, 139.92it/s]\n"
     ]
    },
    {
     "name": "stdout",
     "output_type": "stream",
     "text": [
      "Epoch 1870 - Train Loss: 0.0971, Train MSE: 0.0972, Train MAE: 0.2242\n",
      "Epoch 1870 - Validation Loss: 2.1053, Validation MSE: 2.1059, Validation MAE: 1.0731\n"
     ]
    },
    {
     "name": "stderr",
     "output_type": "stream",
     "text": [
      "Training Epoch 1872: 100%|██████████| 499/499 [00:03<00:00, 140.57it/s]\n",
      "Training Epoch 1873: 100%|██████████| 499/499 [00:03<00:00, 140.04it/s]\n",
      "Training Epoch 1874: 100%|██████████| 499/499 [00:03<00:00, 139.70it/s]\n",
      "Training Epoch 1875: 100%|██████████| 499/499 [00:03<00:00, 139.85it/s]\n",
      "Training Epoch 1876: 100%|██████████| 499/499 [00:03<00:00, 139.06it/s]\n",
      "Training Epoch 1877: 100%|██████████| 499/499 [00:03<00:00, 142.48it/s]\n",
      "Training Epoch 1878: 100%|██████████| 499/499 [00:03<00:00, 142.20it/s]\n",
      "Training Epoch 1879: 100%|██████████| 499/499 [00:03<00:00, 137.99it/s]\n",
      "Training Epoch 1880: 100%|██████████| 499/499 [00:03<00:00, 139.27it/s]\n",
      "Training Epoch 1881: 100%|██████████| 499/499 [00:03<00:00, 142.02it/s]\n"
     ]
    },
    {
     "name": "stdout",
     "output_type": "stream",
     "text": [
      "Epoch 1880 - Train Loss: 0.0987, Train MSE: 0.0987, Train MAE: 0.2261\n",
      "Epoch 1880 - Validation Loss: 2.1266, Validation MSE: 2.1273, Validation MAE: 1.0765\n"
     ]
    },
    {
     "name": "stderr",
     "output_type": "stream",
     "text": [
      "Training Epoch 1882: 100%|██████████| 499/499 [00:03<00:00, 145.38it/s]\n",
      "Training Epoch 1883: 100%|██████████| 499/499 [00:03<00:00, 142.11it/s]\n",
      "Training Epoch 1884: 100%|██████████| 499/499 [00:03<00:00, 142.53it/s]\n",
      "Training Epoch 1885: 100%|██████████| 499/499 [00:03<00:00, 139.18it/s]\n",
      "Training Epoch 1886: 100%|██████████| 499/499 [00:03<00:00, 138.12it/s]\n",
      "Training Epoch 1887: 100%|██████████| 499/499 [00:03<00:00, 139.84it/s]\n",
      "Training Epoch 1888: 100%|██████████| 499/499 [00:03<00:00, 144.18it/s]\n",
      "Training Epoch 1889: 100%|██████████| 499/499 [00:03<00:00, 136.19it/s]\n",
      "Training Epoch 1890: 100%|██████████| 499/499 [00:03<00:00, 142.48it/s]\n",
      "Training Epoch 1891: 100%|██████████| 499/499 [00:03<00:00, 139.69it/s]\n"
     ]
    },
    {
     "name": "stdout",
     "output_type": "stream",
     "text": [
      "Epoch 1890 - Train Loss: 0.0957, Train MSE: 0.0956, Train MAE: 0.2232\n",
      "Epoch 1890 - Validation Loss: 2.1186, Validation MSE: 2.1191, Validation MAE: 1.0761\n"
     ]
    },
    {
     "name": "stderr",
     "output_type": "stream",
     "text": [
      "Training Epoch 1892: 100%|██████████| 499/499 [00:03<00:00, 137.43it/s]\n",
      "Training Epoch 1893: 100%|██████████| 499/499 [00:03<00:00, 134.97it/s]\n",
      "Training Epoch 1894: 100%|██████████| 499/499 [00:03<00:00, 141.05it/s]\n",
      "Training Epoch 1895: 100%|██████████| 499/499 [00:03<00:00, 137.56it/s]\n",
      "Training Epoch 1896: 100%|██████████| 499/499 [00:03<00:00, 138.40it/s]\n",
      "Training Epoch 1897: 100%|██████████| 499/499 [00:03<00:00, 142.94it/s]\n",
      "Training Epoch 1898: 100%|██████████| 499/499 [00:03<00:00, 138.32it/s]\n",
      "Training Epoch 1899: 100%|██████████| 499/499 [00:03<00:00, 143.77it/s]\n",
      "Training Epoch 1900: 100%|██████████| 499/499 [00:03<00:00, 138.11it/s]\n",
      "Training Epoch 1901: 100%|██████████| 499/499 [00:03<00:00, 141.29it/s]\n"
     ]
    },
    {
     "name": "stdout",
     "output_type": "stream",
     "text": [
      "Epoch 1900 - Train Loss: 0.0951, Train MSE: 0.0952, Train MAE: 0.2238\n",
      "Epoch 1900 - Validation Loss: 2.1610, Validation MSE: 2.1616, Validation MAE: 1.0897\n"
     ]
    },
    {
     "name": "stderr",
     "output_type": "stream",
     "text": [
      "Training Epoch 1902: 100%|██████████| 499/499 [00:03<00:00, 138.97it/s]\n",
      "Training Epoch 1903: 100%|██████████| 499/499 [00:03<00:00, 142.60it/s]\n",
      "Training Epoch 1904: 100%|██████████| 499/499 [00:03<00:00, 139.54it/s]\n",
      "Training Epoch 1905: 100%|██████████| 499/499 [00:03<00:00, 140.67it/s]\n",
      "Training Epoch 1906: 100%|██████████| 499/499 [00:03<00:00, 137.99it/s]\n",
      "Training Epoch 1907: 100%|██████████| 499/499 [00:03<00:00, 140.96it/s]\n",
      "Training Epoch 1908: 100%|██████████| 499/499 [00:03<00:00, 141.22it/s]\n",
      "Training Epoch 1909: 100%|██████████| 499/499 [00:03<00:00, 141.35it/s]\n",
      "Training Epoch 1910: 100%|██████████| 499/499 [00:03<00:00, 140.87it/s]\n",
      "Training Epoch 1911: 100%|██████████| 499/499 [00:03<00:00, 135.21it/s]\n"
     ]
    },
    {
     "name": "stdout",
     "output_type": "stream",
     "text": [
      "Epoch 1910 - Train Loss: 0.0953, Train MSE: 0.0952, Train MAE: 0.2225\n",
      "Epoch 1910 - Validation Loss: 2.1391, Validation MSE: 2.1396, Validation MAE: 1.0812\n"
     ]
    },
    {
     "name": "stderr",
     "output_type": "stream",
     "text": [
      "Training Epoch 1912: 100%|██████████| 499/499 [00:03<00:00, 141.66it/s]\n",
      "Training Epoch 1913: 100%|██████████| 499/499 [00:03<00:00, 140.32it/s]\n",
      "Training Epoch 1914: 100%|██████████| 499/499 [00:03<00:00, 137.54it/s]\n",
      "Training Epoch 1915: 100%|██████████| 499/499 [00:03<00:00, 137.90it/s]\n",
      "Training Epoch 1916: 100%|██████████| 499/499 [00:03<00:00, 140.82it/s]\n",
      "Training Epoch 1917: 100%|██████████| 499/499 [00:03<00:00, 143.40it/s]\n",
      "Training Epoch 1918: 100%|██████████| 499/499 [00:03<00:00, 140.42it/s]\n",
      "Training Epoch 1919: 100%|██████████| 499/499 [00:03<00:00, 137.44it/s]\n",
      "Training Epoch 1920: 100%|██████████| 499/499 [00:03<00:00, 141.56it/s]\n",
      "Training Epoch 1921: 100%|██████████| 499/499 [00:03<00:00, 141.65it/s]\n"
     ]
    },
    {
     "name": "stdout",
     "output_type": "stream",
     "text": [
      "Epoch 1920 - Train Loss: 0.0957, Train MSE: 0.0957, Train MAE: 0.2247\n",
      "Epoch 1920 - Validation Loss: 2.1211, Validation MSE: 2.1215, Validation MAE: 1.0746\n"
     ]
    },
    {
     "name": "stderr",
     "output_type": "stream",
     "text": [
      "Training Epoch 1922: 100%|██████████| 499/499 [00:03<00:00, 141.63it/s]\n",
      "Training Epoch 1923: 100%|██████████| 499/499 [00:03<00:00, 137.31it/s]\n",
      "Training Epoch 1924: 100%|██████████| 499/499 [00:03<00:00, 140.65it/s]\n",
      "Training Epoch 1925: 100%|██████████| 499/499 [00:03<00:00, 141.40it/s]\n",
      "Training Epoch 1926: 100%|██████████| 499/499 [00:03<00:00, 141.36it/s]\n",
      "Training Epoch 1927: 100%|██████████| 499/499 [00:03<00:00, 138.40it/s]\n",
      "Training Epoch 1928: 100%|██████████| 499/499 [00:03<00:00, 137.10it/s]\n",
      "Training Epoch 1929: 100%|██████████| 499/499 [00:03<00:00, 141.30it/s]\n",
      "Training Epoch 1930: 100%|██████████| 499/499 [00:03<00:00, 140.59it/s]\n",
      "Training Epoch 1931: 100%|██████████| 499/499 [00:03<00:00, 140.20it/s]\n"
     ]
    },
    {
     "name": "stdout",
     "output_type": "stream",
     "text": [
      "Epoch 1930 - Train Loss: 0.0952, Train MSE: 0.0952, Train MAE: 0.2244\n",
      "Epoch 1930 - Validation Loss: 2.1163, Validation MSE: 2.1169, Validation MAE: 1.0758\n"
     ]
    },
    {
     "name": "stderr",
     "output_type": "stream",
     "text": [
      "Training Epoch 1932: 100%|██████████| 499/499 [00:03<00:00, 138.76it/s]\n",
      "Training Epoch 1933: 100%|██████████| 499/499 [00:03<00:00, 141.37it/s]\n",
      "Training Epoch 1934: 100%|██████████| 499/499 [00:03<00:00, 142.18it/s]\n",
      "Training Epoch 1935: 100%|██████████| 499/499 [00:03<00:00, 138.43it/s]\n",
      "Training Epoch 1936: 100%|██████████| 499/499 [00:03<00:00, 138.64it/s]\n",
      "Training Epoch 1937: 100%|██████████| 499/499 [00:03<00:00, 144.22it/s]\n",
      "Training Epoch 1938: 100%|██████████| 499/499 [00:03<00:00, 141.87it/s]\n",
      "Training Epoch 1939: 100%|██████████| 499/499 [00:03<00:00, 140.17it/s]\n",
      "Training Epoch 1940: 100%|██████████| 499/499 [00:03<00:00, 143.10it/s]\n",
      "Training Epoch 1941: 100%|██████████| 499/499 [00:03<00:00, 141.19it/s]\n"
     ]
    },
    {
     "name": "stdout",
     "output_type": "stream",
     "text": [
      "Epoch 1940 - Train Loss: 0.0925, Train MSE: 0.0925, Train MAE: 0.2213\n",
      "Epoch 1940 - Validation Loss: 2.1422, Validation MSE: 2.1426, Validation MAE: 1.0831\n"
     ]
    },
    {
     "name": "stderr",
     "output_type": "stream",
     "text": [
      "Training Epoch 1942: 100%|██████████| 499/499 [00:03<00:00, 139.55it/s]\n",
      "Training Epoch 1943: 100%|██████████| 499/499 [00:03<00:00, 139.40it/s]\n",
      "Training Epoch 1944: 100%|██████████| 499/499 [00:03<00:00, 137.69it/s]\n",
      "Training Epoch 1945: 100%|██████████| 499/499 [00:03<00:00, 136.74it/s]\n",
      "Training Epoch 1946: 100%|██████████| 499/499 [00:03<00:00, 140.73it/s]\n",
      "Training Epoch 1947: 100%|██████████| 499/499 [00:03<00:00, 141.26it/s]\n",
      "Training Epoch 1948: 100%|██████████| 499/499 [00:03<00:00, 141.21it/s]\n",
      "Training Epoch 1949: 100%|██████████| 499/499 [00:03<00:00, 139.63it/s]\n",
      "Training Epoch 1950: 100%|██████████| 499/499 [00:03<00:00, 141.28it/s]\n",
      "Training Epoch 1951: 100%|██████████| 499/499 [00:03<00:00, 142.56it/s]\n"
     ]
    },
    {
     "name": "stdout",
     "output_type": "stream",
     "text": [
      "Epoch 1950 - Train Loss: 0.0955, Train MSE: 0.0954, Train MAE: 0.2225\n",
      "Epoch 1950 - Validation Loss: 2.1098, Validation MSE: 2.1099, Validation MAE: 1.0729\n"
     ]
    },
    {
     "name": "stderr",
     "output_type": "stream",
     "text": [
      "Training Epoch 1952: 100%|██████████| 499/499 [00:03<00:00, 138.93it/s]\n",
      "Training Epoch 1953: 100%|██████████| 499/499 [00:03<00:00, 137.34it/s]\n",
      "Training Epoch 1954: 100%|██████████| 499/499 [00:03<00:00, 139.45it/s]\n",
      "Training Epoch 1955: 100%|██████████| 499/499 [00:03<00:00, 140.63it/s]\n",
      "Training Epoch 1956: 100%|██████████| 499/499 [00:03<00:00, 141.73it/s]\n",
      "Training Epoch 1957: 100%|██████████| 499/499 [00:03<00:00, 139.91it/s]\n",
      "Training Epoch 1958: 100%|██████████| 499/499 [00:03<00:00, 138.59it/s]\n",
      "Training Epoch 1959: 100%|██████████| 499/499 [00:03<00:00, 139.11it/s]\n",
      "Training Epoch 1960: 100%|██████████| 499/499 [00:03<00:00, 140.60it/s]\n",
      "Training Epoch 1961: 100%|██████████| 499/499 [00:03<00:00, 141.47it/s]\n"
     ]
    },
    {
     "name": "stdout",
     "output_type": "stream",
     "text": [
      "Epoch 1960 - Train Loss: 0.0967, Train MSE: 0.0967, Train MAE: 0.2247\n",
      "Epoch 1960 - Validation Loss: 2.1184, Validation MSE: 2.1188, Validation MAE: 1.0738\n"
     ]
    },
    {
     "name": "stderr",
     "output_type": "stream",
     "text": [
      "Training Epoch 1962: 100%|██████████| 499/499 [00:03<00:00, 133.28it/s]\n",
      "Training Epoch 1963: 100%|██████████| 499/499 [00:03<00:00, 136.29it/s]\n",
      "Training Epoch 1964: 100%|██████████| 499/499 [00:03<00:00, 141.05it/s]\n",
      "Training Epoch 1965: 100%|██████████| 499/499 [00:03<00:00, 141.71it/s]\n",
      "Training Epoch 1966: 100%|██████████| 499/499 [00:03<00:00, 139.72it/s]\n",
      "Training Epoch 1967: 100%|██████████| 499/499 [00:03<00:00, 141.58it/s]\n",
      "Training Epoch 1968: 100%|██████████| 499/499 [00:03<00:00, 141.72it/s]\n",
      "Training Epoch 1969: 100%|██████████| 499/499 [00:03<00:00, 141.20it/s]\n",
      "Training Epoch 1970: 100%|██████████| 499/499 [00:03<00:00, 134.90it/s]\n",
      "Training Epoch 1971: 100%|██████████| 499/499 [00:03<00:00, 141.38it/s]\n"
     ]
    },
    {
     "name": "stdout",
     "output_type": "stream",
     "text": [
      "Epoch 1970 - Train Loss: 0.0901, Train MSE: 0.0901, Train MAE: 0.2180\n",
      "Epoch 1970 - Validation Loss: 2.1370, Validation MSE: 2.1376, Validation MAE: 1.0775\n"
     ]
    },
    {
     "name": "stderr",
     "output_type": "stream",
     "text": [
      "Training Epoch 1972: 100%|██████████| 499/499 [00:03<00:00, 142.37it/s]\n",
      "Training Epoch 1973: 100%|██████████| 499/499 [00:03<00:00, 139.94it/s]\n",
      "Training Epoch 1974: 100%|██████████| 499/499 [00:03<00:00, 139.06it/s]\n",
      "Training Epoch 1975: 100%|██████████| 499/499 [00:03<00:00, 137.82it/s]\n",
      "Training Epoch 1976: 100%|██████████| 499/499 [00:03<00:00, 139.51it/s]\n",
      "Training Epoch 1977: 100%|██████████| 499/499 [00:03<00:00, 138.68it/s]\n",
      "Training Epoch 1978: 100%|██████████| 499/499 [00:03<00:00, 138.99it/s]\n",
      "Training Epoch 1979: 100%|██████████| 499/499 [00:03<00:00, 137.45it/s]\n",
      "Training Epoch 1980: 100%|██████████| 499/499 [00:03<00:00, 140.39it/s]\n",
      "Training Epoch 1981: 100%|██████████| 499/499 [00:03<00:00, 139.84it/s]\n"
     ]
    },
    {
     "name": "stdout",
     "output_type": "stream",
     "text": [
      "Epoch 1980 - Train Loss: 0.0984, Train MSE: 0.0984, Train MAE: 0.2246\n",
      "Epoch 1980 - Validation Loss: 2.1435, Validation MSE: 2.1438, Validation MAE: 1.0809\n"
     ]
    },
    {
     "name": "stderr",
     "output_type": "stream",
     "text": [
      "Training Epoch 1982: 100%|██████████| 499/499 [00:03<00:00, 139.29it/s]\n",
      "Training Epoch 1983: 100%|██████████| 499/499 [00:03<00:00, 132.57it/s]\n",
      "Training Epoch 1984: 100%|██████████| 499/499 [00:03<00:00, 142.41it/s]\n",
      "Training Epoch 1985: 100%|██████████| 499/499 [00:03<00:00, 138.05it/s]\n",
      "Training Epoch 1986: 100%|██████████| 499/499 [00:03<00:00, 140.53it/s]\n",
      "Training Epoch 1987: 100%|██████████| 499/499 [00:03<00:00, 140.54it/s]\n",
      "Training Epoch 1988: 100%|██████████| 499/499 [00:03<00:00, 141.85it/s]\n",
      "Training Epoch 1989: 100%|██████████| 499/499 [00:03<00:00, 143.11it/s]\n",
      "Training Epoch 1990: 100%|██████████| 499/499 [00:03<00:00, 141.96it/s]\n",
      "Training Epoch 1991: 100%|██████████| 499/499 [00:03<00:00, 135.02it/s]\n"
     ]
    },
    {
     "name": "stdout",
     "output_type": "stream",
     "text": [
      "Epoch 1990 - Train Loss: 0.0953, Train MSE: 0.0950, Train MAE: 0.2231\n",
      "Epoch 1990 - Validation Loss: 2.1150, Validation MSE: 2.1155, Validation MAE: 1.0760\n"
     ]
    },
    {
     "name": "stderr",
     "output_type": "stream",
     "text": [
      "Training Epoch 1992: 100%|██████████| 499/499 [00:03<00:00, 137.12it/s]\n",
      "Training Epoch 1993: 100%|██████████| 499/499 [00:03<00:00, 140.59it/s]\n",
      "Training Epoch 1994: 100%|██████████| 499/499 [00:03<00:00, 140.31it/s]\n",
      "Training Epoch 1995: 100%|██████████| 499/499 [00:03<00:00, 140.98it/s]\n",
      "Training Epoch 1996: 100%|██████████| 499/499 [00:03<00:00, 137.91it/s]\n",
      "Training Epoch 1997: 100%|██████████| 499/499 [00:03<00:00, 138.16it/s]\n",
      "Training Epoch 1998: 100%|██████████| 499/499 [00:03<00:00, 137.91it/s]\n",
      "Training Epoch 1999: 100%|██████████| 499/499 [00:03<00:00, 139.01it/s]\n",
      "Training Epoch 2000: 100%|██████████| 499/499 [00:03<00:00, 138.11it/s]\n"
     ]
    },
    {
     "name": "stdout",
     "output_type": "stream",
     "text": [
      "Test MSE: 2.0085, Test MAE: 1.0536\n"
     ]
    }
   ],
   "source": [
    "import torch\n",
    "import torch.nn as nn\n",
    "import torch.optim as optim\n",
    "from tqdm import tqdm\n",
    "import pandas as pd\n",
    "from sklearn.metrics import r2_score, median_absolute_error, explained_variance_score\n",
    "from scipy.stats import pearsonr\n",
    "\n",
    "\n",
    "train_history = pd.DataFrame(columns=[  'epoch',\n",
    "    'Train Loss', 'Train MSE', 'Train MAE', 'Train RMSE', 'Train R2', 'Train Pearson', 'Train Median_AE', 'Train Explained_VAR'\n",
    "    'Val Loss', 'Val MSE', 'Val MAE', 'Val RMSE', 'Val R2', 'Val Pearson', 'Val Median_AE', 'Val Explained_VAR'])\n",
    "# Verify feature dimensions\n",
    "for batch in train_loader:\n",
    "    mol_input_dim = batch['metabolite_features'].shape[1]  # Dynamically determine mol input dimension\n",
    "    protein_input_dim = batch['protein_features'].shape[1]  # Dynamically determine protein input dimension\n",
    "    break\n",
    "\n",
    "# Initialize model, optimizer, and loss function\n",
    "num_timesteps = 10\n",
    "model = MLPRegressor(mol_input_dim=mol_input_dim, protein_input_dim=protein_input_dim,hidden_dim=512)\n",
    "model = model.to(device)\n",
    "optimizer = optim.Adam(model.parameters(), lr=0.0001)\n",
    "criterion = nn.MSELoss()\n",
    "\n",
    "# Training and Validation Loop\n",
    "for epoch in range(2000):\n",
    "    model.train()\n",
    "    total_loss = 0.0\n",
    "    val_total_loss = 0.0\n",
    "    train_predictions, train_labels = [], []\n",
    "\n",
    "    for batch in tqdm(train_loader, desc=f\"Training Epoch {epoch + 1}\"):\n",
    "        mol_features = batch['metabolite_features'].to(device)\n",
    "        protein_features = batch['protein_features'].to(device)\n",
    "        labels = batch['label'].to(device)\n",
    "\n",
    "        optimizer.zero_grad()\n",
    "        outputs = model(mol_features, protein_features)\n",
    "        loss = criterion(outputs, labels)\n",
    "        loss.backward()\n",
    "        optimizer.step()\n",
    "        total_loss += loss.item()\n",
    "\n",
    "        # Store predictions and labels for metrics\n",
    "        train_predictions.extend(outputs.detach().cpu().numpy())\n",
    "        train_labels.extend(labels.cpu().numpy())\n",
    "\n",
    "    # Calculate training metrics\n",
    "    train_mse = ((torch.tensor(train_predictions) - torch.tensor(train_labels))**2).mean().item()\n",
    "    train_mae = torch.abs(torch.tensor(train_predictions) - torch.tensor(train_labels)).mean().item()\n",
    "    train_rmse = torch.sqrt((torch.tensor(train_predictions) - torch.tensor(train_labels)) ** 2).mean().item()\n",
    "    train_r2 = r2_score(np.array(train_labels), np.array(train_predictions))\n",
    "    train_pearson_corr, _ = pearsonr(np.array(train_labels), np.array(train_predictions))\n",
    "    train_median_ae = median_absolute_error(np.array(train_labels), np.array(train_predictions))\n",
    "    train_explained_var = explained_variance_score(np.array(train_labels), np.array(train_predictions))\n",
    "\n",
    "\n",
    "\n",
    "    if epoch % 10 == 0:\n",
    "        print(f\"Epoch {epoch} - Train Loss: {total_loss / len(train_loader):.4f}, Train MSE: {train_mse:.4f}, Train MAE: {train_mae:.4f}\")\n",
    "\n",
    "    # Validation\n",
    "    model.eval()\n",
    "    val_predictions, val_labels = [], []\n",
    "    with torch.no_grad():\n",
    "        for batch in val_loader:\n",
    "            mol_features = batch['metabolite_features'].to(device)\n",
    "            protein_features = batch['protein_features'].to(device)\n",
    "            labels = batch['label'].to(device)\n",
    "\n",
    "            outputs = model(mol_features, protein_features)\n",
    "            val_predictions.extend(outputs.cpu().numpy())\n",
    "            val_labels.extend(labels.cpu().numpy())\n",
    "            val_loss = criterion(outputs, labels)\n",
    "            val_total_loss += val_loss.item()\n",
    "\n",
    "    val_mse = ((torch.tensor(val_predictions) - torch.tensor(val_labels))**2).mean().item()\n",
    "    val_mae = torch.abs(torch.tensor(val_predictions) - torch.tensor(val_labels)).mean().item()\n",
    "    val_rmse = torch.sqrt((torch.tensor(val_predictions) - torch.tensor(val_labels)) ** 2).mean().item()\n",
    "    val_r2 = r2_score(np.array(val_labels), np.array(val_predictions))\n",
    "    val_pearson_corr, _ = pearsonr(np.array(val_labels), np.array(val_predictions))\n",
    "    val_median_ae = median_absolute_error(np.array(val_labels), np.array(val_predictions))\n",
    "    val_explained_var = explained_variance_score(np.array(val_labels), np.array(val_predictions))\n",
    "\n",
    "    if epoch % 10 == 0:\n",
    "        print(f\"Epoch {epoch} - Validation Loss: {val_total_loss / len(val_loader):.4f}, Validation MSE: {val_mse:.4f}, Validation MAE: {val_mae:.4f}\")\n",
    "\n",
    "    # Save metrics to DataFrame\n",
    "    new_row = {'epoch': epoch + 1, 'Train Loss': total_loss / len(train_loader), 'Train MSE': train_mse, 'Train MAE': train_mae, 'Train RMSE': train_rmse, 'Train R2': train_r2, 'Train Pearson': train_pearson_corr, 'Train Median_AE': train_median_ae, 'Train Explained_VAR': train_explained_var, \n",
    "               'Val Loss': val_total_loss / len(val_loader), 'Val MSE': val_mse, 'Val MAE': val_mae, 'Val RMSE': val_rmse, 'Val R2': val_r2, 'Val Pearson': val_pearson_corr, 'Val Median_AE': val_median_ae, 'Val Explained_VAR': val_explained_var}\n",
    "    train_history = pd.concat([train_history, pd.DataFrame([new_row])], ignore_index=True)\n",
    "\n",
    "\n"
   ]
  },
  {
   "cell_type": "code",
   "execution_count": 10,
   "metadata": {},
   "outputs": [],
   "source": [
    "for batch in train_loader:\n",
    "    mol_input_dim = batch['metabolite_features'].shape[1]  # Dynamically determine mol input dimension\n",
    "    protein_input_dim = batch['protein_features'].shape[1]  # Dynamically determine protein input dimension\n",
    "    break\n",
    "\n",
    "model = MLPRegressor(mol_input_dim=mol_input_dim, protein_input_dim=protein_input_dim, hidden_dim=512)\n",
    "model.load_state_dict(torch.load('/Users/pinchichen/2025S lab/AI drug project/Catpred/Kcat/trained_model/cold_protein/MLP model_Catpred_cold_protein.pt'))\n",
    "model = model.to(device)"
   ]
  },
  {
   "cell_type": "code",
   "execution_count": 11,
   "metadata": {},
   "outputs": [
    {
     "name": "stdout",
     "output_type": "stream",
     "text": [
      "Test MSE: 2.0085, Test RMSE: 1.417201147, Test MAE: 1.0536, Test R2: 0.2381, Test Pearson Correlation: 0.5001, Test Median AE: 0.7776, Test Explained Variance: 0.2384\n"
     ]
    }
   ],
   "source": [
    "from sklearn.metrics import mean_squared_error,mean_absolute_error,r2_score, median_absolute_error, explained_variance_score\n",
    "from scipy.stats import pearsonr\n",
    "# Test Metrics\n",
    "model.eval()\n",
    "test_predictions, test_labels = [], []\n",
    "with torch.no_grad():\n",
    "    for batch in test_loader:\n",
    "        mol_features = batch['metabolite_features'].to(device)\n",
    "        protein_features = batch['protein_features'].to(device)\n",
    "        labels = batch['label'].to(device)\n",
    "\n",
    "        outputs = model(mol_features, protein_features)\n",
    "        test_predictions.extend(outputs.cpu().numpy())\n",
    "        test_labels.extend(labels.cpu().numpy())\n",
    "\n",
    "test_mse = ((torch.tensor(test_predictions) - torch.tensor(test_labels))**2).mean().item()\n",
    "test_mae = torch.abs(torch.tensor(test_predictions) - torch.tensor(test_labels)).mean().item()\n",
    "test_rmse = np.sqrt(test_mse)\n",
    "test_r2 = r2_score(np.array(test_labels), np.array(test_predictions))\n",
    "test_pearson_corr, _ = pearsonr(np.array(test_labels), np.array(test_predictions))\n",
    "test_median_ae = median_absolute_error(np.array(test_labels), np.array(test_predictions))\n",
    "test_explained_var = explained_variance_score(np.array(test_labels), np.array(test_predictions))\n",
    "\n",
    "print(f\"Test MSE: {test_mse:.4f}, Test RMSE: {test_rmse:.9f}, Test MAE: {test_mae:.4f}, Test R2: {test_r2:.4f}, Test Pearson Correlation: {test_pearson_corr:.4f}, Test Median AE: {test_median_ae:.4f}, Test Explained Variance: {test_explained_var:.4f}\")"
   ]
  },
  {
   "cell_type": "code",
   "execution_count": 9,
   "metadata": {},
   "outputs": [],
   "source": [
    "\n",
    "def evaluate_model(predictions, labels):\n",
    "    mse = mean_squared_error(labels, predictions)\n",
    "    rmse = np.sqrt(mse)\n",
    "    mae = mean_absolute_error(labels, predictions)\n",
    "    r2 = r2_score(labels, predictions)\n",
    "    pearson_corr, _ = pearsonr(labels, predictions)\n",
    "    medae = median_absolute_error(labels, predictions)\n",
    "    evs = explained_variance_score(labels, predictions)\n",
    "\n",
    "    return mse, rmse, mae, r2, pearson_corr, medae, evs"
   ]
  },
  {
   "cell_type": "code",
   "execution_count": 12,
   "metadata": {},
   "outputs": [],
   "source": [
    "model.eval()\n",
    "train_pred, train_labels = [], []\n",
    "with torch.no_grad():\n",
    "    for batch in train_loader:\n",
    "        mol_features = batch['metabolite_features'].to(device)\n",
    "        protein_features = batch['protein_features'].to(device)\n",
    "        labels = batch['label'].to(device)\n",
    "\n",
    "        outputs = model(mol_features, protein_features)\n",
    "        train_pred.extend(outputs.cpu().numpy())\n",
    "        train_labels.extend(labels.cpu().numpy())\n",
    "\n",
    "train_mse, train_rmse, train_mae, train_r2, train_pearson_corr, train_median_ae, train_explained_var = evaluate_model(train_pred, train_labels)"
   ]
  },
  {
   "cell_type": "code",
   "execution_count": 13,
   "metadata": {},
   "outputs": [],
   "source": [
    "model.eval()\n",
    "val_pred, val_labels = [], []\n",
    "with torch.no_grad():\n",
    "    for batch in val_loader:\n",
    "        mol_features = batch['metabolite_features'].to(device)\n",
    "        protein_features = batch['protein_features'].to(device)\n",
    "        labels = batch['label'].to(device)\n",
    "\n",
    "        outputs = model(mol_features, protein_features)\n",
    "        val_pred.extend(outputs.cpu().numpy())\n",
    "        val_labels.extend(labels.cpu().numpy())\n",
    "\n",
    "val_mse, val_rmse, val_mae, val_r2, val_pearson_corr, val_median_ae, val_explained_var = evaluate_model(val_pred, val_labels)\n"
   ]
  },
  {
   "cell_type": "code",
   "execution_count": null,
   "metadata": {},
   "outputs": [],
   "source": [
    "# append the performance to the csv file\n",
    "df = {\n",
    "    'Model':['MLP','MLP','MLP'],\n",
    "    'Dataset':['Train','Validation','Test'],\n",
    "    'MSE':[train_mse,val_mse,test_mse],\n",
    "    'RMSE':[train_rmse,val_rmse,test_rmse],\n",
    "    'MAE':[train_mae,val_mae,test_mae],\n",
    "    'R2':[train_r2,val_r2,test_r2],\n",
    "    'Pearson':[train_pearson_corr,val_pearson_corr,test_pearson_corr],\n",
    "    'Median_AE':[train_median_ae,val_median_ae,test_median_ae],\n",
    "    'Explained_VAR':[train_explained_var,val_explained_var,test_explained_var],\n",
    "    'Dataspliting Mode':['cold protein','cold protein','cold protein']\n",
    "}\n",
    "df = pd.DataFrame(df)\n",
    "\n",
    "df.to_csv('/Users/pinchichen/2025S lab/AI drug project/Catpred/model performance metrics_Catpred_Kcat.csv', mode='a', header=False)"
   ]
  },
  {
   "cell_type": "code",
   "execution_count": 12,
   "metadata": {},
   "outputs": [],
   "source": [
    "# Save the model and training history\n",
    "save_dir = '/Users/pinchichen/2025S lab/AI drug project/Catpred/trained_model/cold_protein'\n",
    "# save model weights and optimizer state\n",
    "torch.save(model.state_dict(), os.path.join(save_dir, 'MLP model_Catpred_cold_protein.pt'))\n",
    "torch.save(optimizer.state_dict(), os.path.join(save_dir, 'MLP optimizer_Catpred_cold_protein.pt'))"
   ]
  },
  {
   "cell_type": "code",
   "execution_count": 8,
   "metadata": {},
   "outputs": [],
   "source": [
    "import torch\n",
    "import torch.nn as nn\n",
    "import torch.optim as optim\n",
    "from tqdm import tqdm\n",
    "import pandas as pd\n",
    "from sklearn.metrics import r2_score, median_absolute_error, explained_variance_score\n",
    "from scipy.stats import pearsonr"
   ]
  },
  {
   "cell_type": "code",
   "execution_count": null,
   "metadata": {},
   "outputs": [
    {
     "name": "stderr",
     "output_type": "stream",
     "text": [
      "Training Epoch 1: 100%|██████████| 500/500 [00:01<00:00, 252.97it/s]\n",
      "/var/folders/yz/c1z6m9_d5d3f80sywjc3rqsc0000gn/T/ipykernel_16381/650137755.py:82: FutureWarning: The behavior of DataFrame concatenation with empty or all-NA entries is deprecated. In a future version, this will no longer exclude empty or all-NA columns when determining the result dtypes. To retain the old behavior, exclude the relevant entries before the concat operation.\n",
      "  train_history_2 = pd.concat([train_history_2, pd.DataFrame([new_row])], ignore_index=True)\n"
     ]
    },
    {
     "name": "stdout",
     "output_type": "stream",
     "text": [
      "Epoch 0 - Train Loss: 2.4970, Train MSE: 2.4973, Train MAE: 1.2073\n",
      "Epoch 0 - Validation Loss: 2.4387, Validation MSE: 2.4413, Validation MAE: 1.1953\n"
     ]
    },
    {
     "name": "stderr",
     "output_type": "stream",
     "text": [
      "Training Epoch 2: 100%|██████████| 500/500 [00:01<00:00, 264.80it/s]\n",
      "Training Epoch 3: 100%|██████████| 500/500 [00:01<00:00, 262.65it/s]\n",
      "Training Epoch 4: 100%|██████████| 500/500 [00:01<00:00, 253.32it/s]\n",
      "Training Epoch 5: 100%|██████████| 500/500 [00:01<00:00, 253.69it/s]\n",
      "Training Epoch 6: 100%|██████████| 500/500 [00:01<00:00, 255.37it/s]\n",
      "Training Epoch 7: 100%|██████████| 500/500 [00:01<00:00, 264.99it/s]\n",
      "Training Epoch 8: 100%|██████████| 500/500 [00:01<00:00, 267.08it/s]\n",
      "Training Epoch 9: 100%|██████████| 500/500 [00:01<00:00, 265.48it/s]\n",
      "Training Epoch 10: 100%|██████████| 500/500 [00:01<00:00, 250.28it/s]\n",
      "Training Epoch 11: 100%|██████████| 500/500 [00:01<00:00, 251.32it/s]\n"
     ]
    },
    {
     "name": "stdout",
     "output_type": "stream",
     "text": [
      "Epoch 10 - Train Loss: 1.5982, Train MSE: 1.6012, Train MAE: 0.9543\n",
      "Epoch 10 - Validation Loss: 1.9444, Validation MSE: 1.9393, Validation MAE: 1.0428\n"
     ]
    },
    {
     "name": "stderr",
     "output_type": "stream",
     "text": [
      "Training Epoch 12: 100%|██████████| 500/500 [00:01<00:00, 258.46it/s]\n",
      "Training Epoch 13: 100%|██████████| 500/500 [00:01<00:00, 263.27it/s]\n",
      "Training Epoch 14: 100%|██████████| 500/500 [00:01<00:00, 256.41it/s]\n",
      "Training Epoch 15: 100%|██████████| 500/500 [00:02<00:00, 240.94it/s]\n",
      "Training Epoch 16: 100%|██████████| 500/500 [00:02<00:00, 244.05it/s]\n",
      "Training Epoch 17: 100%|██████████| 500/500 [00:02<00:00, 241.36it/s]\n",
      "Training Epoch 18: 100%|██████████| 500/500 [00:02<00:00, 240.95it/s]\n",
      "Training Epoch 19: 100%|██████████| 500/500 [00:02<00:00, 241.47it/s]\n",
      "Training Epoch 20: 100%|██████████| 500/500 [00:02<00:00, 239.04it/s]\n",
      "Training Epoch 21: 100%|██████████| 500/500 [00:02<00:00, 224.21it/s]\n"
     ]
    },
    {
     "name": "stdout",
     "output_type": "stream",
     "text": [
      "Epoch 20 - Train Loss: 1.2488, Train MSE: 1.2511, Train MAE: 0.8422\n",
      "Epoch 20 - Validation Loss: 1.8588, Validation MSE: 1.8591, Validation MAE: 1.0166\n"
     ]
    },
    {
     "name": "stderr",
     "output_type": "stream",
     "text": [
      "Training Epoch 22: 100%|██████████| 500/500 [00:02<00:00, 231.51it/s]\n",
      "Training Epoch 23: 100%|██████████| 500/500 [00:02<00:00, 224.96it/s]\n",
      "Training Epoch 24: 100%|██████████| 500/500 [00:02<00:00, 242.50it/s]\n",
      "Training Epoch 25: 100%|██████████| 500/500 [00:02<00:00, 209.56it/s]\n",
      "Training Epoch 26: 100%|██████████| 500/500 [00:02<00:00, 226.36it/s]\n",
      "Training Epoch 27: 100%|██████████| 500/500 [00:02<00:00, 226.88it/s]\n",
      "Training Epoch 28: 100%|██████████| 500/500 [00:02<00:00, 225.30it/s]\n",
      "Training Epoch 29: 100%|██████████| 500/500 [00:02<00:00, 222.43it/s]\n",
      "Training Epoch 30: 100%|██████████| 500/500 [00:02<00:00, 231.64it/s]\n",
      "Training Epoch 31: 100%|██████████| 500/500 [00:02<00:00, 224.20it/s]\n"
     ]
    },
    {
     "name": "stdout",
     "output_type": "stream",
     "text": [
      "Epoch 30 - Train Loss: 1.0040, Train MSE: 1.0058, Train MAE: 0.7533\n",
      "Epoch 30 - Validation Loss: 1.7532, Validation MSE: 1.7563, Validation MAE: 0.9707\n"
     ]
    },
    {
     "name": "stderr",
     "output_type": "stream",
     "text": [
      "Training Epoch 32: 100%|██████████| 500/500 [00:02<00:00, 232.70it/s]\n",
      "Training Epoch 33: 100%|██████████| 500/500 [00:02<00:00, 238.87it/s]\n",
      "Training Epoch 34: 100%|██████████| 500/500 [00:02<00:00, 239.03it/s]\n",
      "Training Epoch 35: 100%|██████████| 500/500 [00:02<00:00, 226.10it/s]\n",
      "Training Epoch 36: 100%|██████████| 500/500 [00:02<00:00, 235.27it/s]\n",
      "Training Epoch 37: 100%|██████████| 500/500 [00:02<00:00, 232.88it/s]\n",
      "Training Epoch 38: 100%|██████████| 500/500 [00:02<00:00, 202.81it/s]\n",
      "Training Epoch 39: 100%|██████████| 500/500 [00:02<00:00, 207.89it/s]\n",
      "Training Epoch 40: 100%|██████████| 500/500 [00:02<00:00, 214.65it/s]\n",
      "Training Epoch 41: 100%|██████████| 500/500 [00:02<00:00, 213.36it/s]\n"
     ]
    },
    {
     "name": "stdout",
     "output_type": "stream",
     "text": [
      "Epoch 40 - Train Loss: 0.8569, Train MSE: 0.8585, Train MAE: 0.6966\n",
      "Epoch 40 - Validation Loss: 1.7610, Validation MSE: 1.7614, Validation MAE: 0.9639\n"
     ]
    },
    {
     "name": "stderr",
     "output_type": "stream",
     "text": [
      "Training Epoch 42: 100%|██████████| 500/500 [00:02<00:00, 214.99it/s]\n",
      "Training Epoch 43: 100%|██████████| 500/500 [00:02<00:00, 205.53it/s]\n",
      "Training Epoch 44: 100%|██████████| 500/500 [00:02<00:00, 211.15it/s]\n",
      "Training Epoch 45: 100%|██████████| 500/500 [00:02<00:00, 209.99it/s]\n",
      "Training Epoch 46: 100%|██████████| 500/500 [00:02<00:00, 210.33it/s]\n",
      "Training Epoch 47: 100%|██████████| 500/500 [00:02<00:00, 207.88it/s]\n",
      "Training Epoch 48: 100%|██████████| 500/500 [00:02<00:00, 215.97it/s]\n",
      "Training Epoch 49: 100%|██████████| 500/500 [00:02<00:00, 219.42it/s]\n",
      "Training Epoch 50: 100%|██████████| 500/500 [00:02<00:00, 187.03it/s]\n",
      "Training Epoch 51: 100%|██████████| 500/500 [00:02<00:00, 217.51it/s]\n"
     ]
    },
    {
     "name": "stdout",
     "output_type": "stream",
     "text": [
      "Epoch 50 - Train Loss: 0.7668, Train MSE: 0.7607, Train MAE: 0.6513\n",
      "Epoch 50 - Validation Loss: 1.6919, Validation MSE: 1.7006, Validation MAE: 0.9416\n"
     ]
    },
    {
     "name": "stderr",
     "output_type": "stream",
     "text": [
      "Training Epoch 52: 100%|██████████| 500/500 [00:02<00:00, 221.32it/s]\n",
      "Training Epoch 53: 100%|██████████| 500/500 [00:02<00:00, 213.92it/s]\n",
      "Training Epoch 54: 100%|██████████| 500/500 [00:02<00:00, 210.21it/s]\n",
      "Training Epoch 55: 100%|██████████| 500/500 [00:02<00:00, 213.43it/s]\n",
      "Training Epoch 56: 100%|██████████| 500/500 [00:02<00:00, 207.81it/s]\n",
      "Training Epoch 57: 100%|██████████| 500/500 [00:02<00:00, 217.97it/s]\n",
      "Training Epoch 58: 100%|██████████| 500/500 [00:02<00:00, 213.33it/s]\n",
      "Training Epoch 59: 100%|██████████| 500/500 [00:02<00:00, 209.84it/s]\n",
      "Training Epoch 60: 100%|██████████| 500/500 [00:02<00:00, 216.10it/s]\n",
      "Training Epoch 61: 100%|██████████| 500/500 [00:02<00:00, 212.93it/s]\n"
     ]
    },
    {
     "name": "stdout",
     "output_type": "stream",
     "text": [
      "Epoch 60 - Train Loss: 0.6891, Train MSE: 0.6896, Train MAE: 0.6195\n",
      "Epoch 60 - Validation Loss: 1.6057, Validation MSE: 1.6096, Validation MAE: 0.9141\n"
     ]
    },
    {
     "name": "stderr",
     "output_type": "stream",
     "text": [
      "Training Epoch 62: 100%|██████████| 500/500 [00:02<00:00, 215.37it/s]\n",
      "Training Epoch 63: 100%|██████████| 500/500 [00:02<00:00, 211.04it/s]\n",
      "Training Epoch 64: 100%|██████████| 500/500 [00:02<00:00, 217.07it/s]\n",
      "Training Epoch 65: 100%|██████████| 500/500 [00:02<00:00, 212.91it/s]\n",
      "Training Epoch 66: 100%|██████████| 500/500 [00:02<00:00, 218.03it/s]\n",
      "Training Epoch 67: 100%|██████████| 500/500 [00:02<00:00, 213.71it/s]\n",
      "Training Epoch 68: 100%|██████████| 500/500 [00:02<00:00, 213.15it/s]\n",
      "Training Epoch 69: 100%|██████████| 500/500 [00:02<00:00, 209.83it/s]\n",
      "Training Epoch 70: 100%|██████████| 500/500 [00:02<00:00, 208.58it/s]\n",
      "Training Epoch 71: 100%|██████████| 500/500 [00:02<00:00, 215.95it/s]\n"
     ]
    },
    {
     "name": "stdout",
     "output_type": "stream",
     "text": [
      "Epoch 70 - Train Loss: 0.6180, Train MSE: 0.6189, Train MAE: 0.5852\n",
      "Epoch 70 - Validation Loss: 1.6194, Validation MSE: 1.6242, Validation MAE: 0.9172\n"
     ]
    },
    {
     "name": "stderr",
     "output_type": "stream",
     "text": [
      "Training Epoch 72: 100%|██████████| 500/500 [00:02<00:00, 205.97it/s]\n",
      "Training Epoch 73: 100%|██████████| 500/500 [00:02<00:00, 210.09it/s]\n",
      "Training Epoch 74: 100%|██████████| 500/500 [00:02<00:00, 167.18it/s]\n",
      "Training Epoch 75: 100%|██████████| 500/500 [00:02<00:00, 198.85it/s]\n",
      "Training Epoch 76: 100%|██████████| 500/500 [00:02<00:00, 212.53it/s]\n",
      "Training Epoch 77: 100%|██████████| 500/500 [00:02<00:00, 220.07it/s]\n",
      "Training Epoch 78: 100%|██████████| 500/500 [00:02<00:00, 211.40it/s]\n",
      "Training Epoch 79: 100%|██████████| 500/500 [00:02<00:00, 219.76it/s]\n",
      "Training Epoch 80: 100%|██████████| 500/500 [00:02<00:00, 219.97it/s]\n",
      "Training Epoch 81: 100%|██████████| 500/500 [00:02<00:00, 213.56it/s]\n"
     ]
    },
    {
     "name": "stdout",
     "output_type": "stream",
     "text": [
      "Epoch 80 - Train Loss: 0.5593, Train MSE: 0.5601, Train MAE: 0.5561\n",
      "Epoch 80 - Validation Loss: 1.5725, Validation MSE: 1.5739, Validation MAE: 0.8984\n"
     ]
    },
    {
     "name": "stderr",
     "output_type": "stream",
     "text": [
      "Training Epoch 82: 100%|██████████| 500/500 [00:02<00:00, 217.98it/s]\n",
      "Training Epoch 83: 100%|██████████| 500/500 [00:02<00:00, 209.72it/s]\n",
      "Training Epoch 84: 100%|██████████| 500/500 [00:02<00:00, 208.54it/s]\n",
      "Training Epoch 85: 100%|██████████| 500/500 [00:02<00:00, 209.16it/s]\n",
      "Training Epoch 86: 100%|██████████| 500/500 [00:02<00:00, 218.25it/s]\n",
      "Training Epoch 87: 100%|██████████| 500/500 [00:02<00:00, 216.22it/s]\n",
      "Training Epoch 88: 100%|██████████| 500/500 [00:02<00:00, 212.37it/s]\n",
      "Training Epoch 89: 100%|██████████| 500/500 [00:02<00:00, 207.00it/s]\n",
      "Training Epoch 90: 100%|██████████| 500/500 [00:02<00:00, 209.12it/s]\n",
      "Training Epoch 91: 100%|██████████| 500/500 [00:02<00:00, 217.70it/s]\n"
     ]
    },
    {
     "name": "stdout",
     "output_type": "stream",
     "text": [
      "Epoch 90 - Train Loss: 0.5287, Train MSE: 0.5293, Train MAE: 0.5434\n",
      "Epoch 90 - Validation Loss: 1.5544, Validation MSE: 1.5585, Validation MAE: 0.9011\n"
     ]
    },
    {
     "name": "stderr",
     "output_type": "stream",
     "text": [
      "Training Epoch 92: 100%|██████████| 500/500 [00:02<00:00, 224.26it/s]\n",
      "Training Epoch 93: 100%|██████████| 500/500 [00:02<00:00, 221.37it/s]\n",
      "Training Epoch 94: 100%|██████████| 500/500 [00:02<00:00, 220.37it/s]\n",
      "Training Epoch 95: 100%|██████████| 500/500 [00:02<00:00, 221.03it/s]\n",
      "Training Epoch 96: 100%|██████████| 500/500 [00:02<00:00, 220.18it/s]\n",
      "Training Epoch 97: 100%|██████████| 500/500 [00:02<00:00, 216.33it/s]\n",
      "Training Epoch 98: 100%|██████████| 500/500 [00:02<00:00, 201.72it/s]\n",
      "Training Epoch 99: 100%|██████████| 500/500 [00:02<00:00, 213.89it/s]\n",
      "Training Epoch 100: 100%|██████████| 500/500 [00:02<00:00, 217.39it/s]\n",
      "Training Epoch 101: 100%|██████████| 500/500 [00:02<00:00, 217.13it/s]\n"
     ]
    },
    {
     "name": "stdout",
     "output_type": "stream",
     "text": [
      "Epoch 100 - Train Loss: 0.4794, Train MSE: 0.4803, Train MAE: 0.5130\n",
      "Epoch 100 - Validation Loss: 1.5952, Validation MSE: 1.5972, Validation MAE: 0.9081\n"
     ]
    },
    {
     "name": "stderr",
     "output_type": "stream",
     "text": [
      "Training Epoch 102: 100%|██████████| 500/500 [00:02<00:00, 216.57it/s]\n",
      "Training Epoch 103: 100%|██████████| 500/500 [00:02<00:00, 217.86it/s]\n",
      "Training Epoch 104: 100%|██████████| 500/500 [00:02<00:00, 221.11it/s]\n",
      "Training Epoch 105: 100%|██████████| 500/500 [00:02<00:00, 223.79it/s]\n",
      "Training Epoch 106: 100%|██████████| 500/500 [00:02<00:00, 218.78it/s]\n",
      "Training Epoch 107: 100%|██████████| 500/500 [00:02<00:00, 217.44it/s]\n",
      "Training Epoch 108: 100%|██████████| 500/500 [00:02<00:00, 222.75it/s]\n",
      "Training Epoch 109: 100%|██████████| 500/500 [00:02<00:00, 219.13it/s]\n",
      "Training Epoch 110: 100%|██████████| 500/500 [00:02<00:00, 220.53it/s]\n",
      "Training Epoch 111: 100%|██████████| 500/500 [00:02<00:00, 220.12it/s]\n"
     ]
    },
    {
     "name": "stdout",
     "output_type": "stream",
     "text": [
      "Epoch 110 - Train Loss: 0.4810, Train MSE: 0.4817, Train MAE: 0.5171\n",
      "Epoch 110 - Validation Loss: 1.5636, Validation MSE: 1.5676, Validation MAE: 0.8950\n"
     ]
    },
    {
     "name": "stderr",
     "output_type": "stream",
     "text": [
      "Training Epoch 112: 100%|██████████| 500/500 [00:02<00:00, 224.84it/s]\n",
      "Training Epoch 113: 100%|██████████| 500/500 [00:02<00:00, 217.64it/s]\n",
      "Training Epoch 114: 100%|██████████| 500/500 [00:02<00:00, 216.24it/s]\n",
      "Training Epoch 115: 100%|██████████| 500/500 [00:02<00:00, 217.32it/s]\n",
      "Training Epoch 116: 100%|██████████| 500/500 [00:02<00:00, 217.45it/s]\n",
      "Training Epoch 117: 100%|██████████| 500/500 [00:02<00:00, 220.14it/s]\n",
      "Training Epoch 118: 100%|██████████| 500/500 [00:02<00:00, 217.44it/s]\n",
      "Training Epoch 119: 100%|██████████| 500/500 [00:02<00:00, 219.80it/s]\n",
      "Training Epoch 120: 100%|██████████| 500/500 [00:02<00:00, 215.29it/s]\n",
      "Training Epoch 121: 100%|██████████| 500/500 [00:02<00:00, 219.05it/s]\n"
     ]
    },
    {
     "name": "stdout",
     "output_type": "stream",
     "text": [
      "Epoch 120 - Train Loss: 0.4604, Train MSE: 0.4596, Train MAE: 0.5023\n",
      "Epoch 120 - Validation Loss: 1.5545, Validation MSE: 1.5565, Validation MAE: 0.8871\n"
     ]
    },
    {
     "name": "stderr",
     "output_type": "stream",
     "text": [
      "Training Epoch 122: 100%|██████████| 500/500 [00:02<00:00, 220.53it/s]\n",
      "Training Epoch 123: 100%|██████████| 500/500 [00:02<00:00, 219.25it/s]\n",
      "Training Epoch 124: 100%|██████████| 500/500 [00:02<00:00, 222.69it/s]\n",
      "Training Epoch 125: 100%|██████████| 500/500 [00:02<00:00, 220.23it/s]\n",
      "Training Epoch 126: 100%|██████████| 500/500 [00:02<00:00, 218.59it/s]\n",
      "Training Epoch 127: 100%|██████████| 500/500 [00:02<00:00, 215.89it/s]\n",
      "Training Epoch 128: 100%|██████████| 500/500 [00:02<00:00, 222.56it/s]\n",
      "Training Epoch 129: 100%|██████████| 500/500 [00:02<00:00, 220.07it/s]\n",
      "Training Epoch 130: 100%|██████████| 500/500 [00:02<00:00, 216.21it/s]\n",
      "Training Epoch 131: 100%|██████████| 500/500 [00:02<00:00, 221.36it/s]\n"
     ]
    },
    {
     "name": "stdout",
     "output_type": "stream",
     "text": [
      "Epoch 130 - Train Loss: 0.4142, Train MSE: 0.4139, Train MAE: 0.4780\n",
      "Epoch 130 - Validation Loss: 1.6390, Validation MSE: 1.6419, Validation MAE: 0.9116\n"
     ]
    },
    {
     "name": "stderr",
     "output_type": "stream",
     "text": [
      "Training Epoch 132: 100%|██████████| 500/500 [00:02<00:00, 220.44it/s]\n",
      "Training Epoch 133: 100%|██████████| 500/500 [00:02<00:00, 223.64it/s]\n",
      "Training Epoch 134: 100%|██████████| 500/500 [00:02<00:00, 213.97it/s]\n",
      "Training Epoch 135: 100%|██████████| 500/500 [00:02<00:00, 218.12it/s]\n",
      "Training Epoch 136: 100%|██████████| 500/500 [00:02<00:00, 220.12it/s]\n",
      "Training Epoch 137: 100%|██████████| 500/500 [00:02<00:00, 223.14it/s]\n",
      "Training Epoch 138: 100%|██████████| 500/500 [00:02<00:00, 217.52it/s]\n",
      "Training Epoch 139: 100%|██████████| 500/500 [00:02<00:00, 221.59it/s]\n",
      "Training Epoch 140: 100%|██████████| 500/500 [00:02<00:00, 214.70it/s]\n",
      "Training Epoch 141: 100%|██████████| 500/500 [00:02<00:00, 220.24it/s]\n"
     ]
    },
    {
     "name": "stdout",
     "output_type": "stream",
     "text": [
      "Epoch 140 - Train Loss: 0.4028, Train MSE: 0.4034, Train MAE: 0.4704\n",
      "Epoch 140 - Validation Loss: 1.6090, Validation MSE: 1.6102, Validation MAE: 0.9016\n"
     ]
    },
    {
     "name": "stderr",
     "output_type": "stream",
     "text": [
      "Training Epoch 142: 100%|██████████| 500/500 [00:02<00:00, 218.00it/s]\n",
      "Training Epoch 143: 100%|██████████| 500/500 [00:02<00:00, 219.27it/s]\n",
      "Training Epoch 144: 100%|██████████| 500/500 [00:02<00:00, 218.45it/s]\n",
      "Training Epoch 145: 100%|██████████| 500/500 [00:02<00:00, 199.95it/s]\n",
      "Training Epoch 146: 100%|██████████| 500/500 [00:02<00:00, 220.18it/s]\n",
      "Training Epoch 147: 100%|██████████| 500/500 [00:02<00:00, 205.57it/s]\n",
      "Training Epoch 148: 100%|██████████| 500/500 [00:02<00:00, 221.62it/s]\n",
      "Training Epoch 149: 100%|██████████| 500/500 [00:02<00:00, 219.83it/s]\n",
      "Training Epoch 150: 100%|██████████| 500/500 [00:02<00:00, 219.20it/s]\n",
      "Training Epoch 151: 100%|██████████| 500/500 [00:02<00:00, 210.46it/s]\n"
     ]
    },
    {
     "name": "stdout",
     "output_type": "stream",
     "text": [
      "Epoch 150 - Train Loss: 0.3924, Train MSE: 0.3931, Train MAE: 0.4617\n",
      "Epoch 150 - Validation Loss: 1.5480, Validation MSE: 1.5457, Validation MAE: 0.8849\n"
     ]
    },
    {
     "name": "stderr",
     "output_type": "stream",
     "text": [
      "Training Epoch 152: 100%|██████████| 500/500 [00:02<00:00, 217.81it/s]\n",
      "Training Epoch 153: 100%|██████████| 500/500 [13:30<00:00,  1.62s/it] \n",
      "Training Epoch 154: 100%|██████████| 500/500 [00:02<00:00, 217.29it/s]\n",
      "Training Epoch 155: 100%|██████████| 500/500 [00:02<00:00, 193.99it/s]\n",
      "Training Epoch 156: 100%|██████████| 500/500 [00:04<00:00, 113.15it/s]\n",
      "Training Epoch 157: 100%|██████████| 500/500 [00:02<00:00, 197.49it/s]\n",
      "Training Epoch 158: 100%|██████████| 500/500 [00:02<00:00, 178.75it/s]\n",
      "Training Epoch 159: 100%|██████████| 500/500 [00:02<00:00, 179.29it/s]\n",
      "Training Epoch 160: 100%|██████████| 500/500 [00:02<00:00, 185.09it/s]\n",
      "Training Epoch 161: 100%|██████████| 500/500 [00:02<00:00, 179.39it/s]\n"
     ]
    },
    {
     "name": "stdout",
     "output_type": "stream",
     "text": [
      "Epoch 160 - Train Loss: 0.3832, Train MSE: 0.3839, Train MAE: 0.4554\n",
      "Epoch 160 - Validation Loss: 1.5295, Validation MSE: 1.5311, Validation MAE: 0.8791\n"
     ]
    },
    {
     "name": "stderr",
     "output_type": "stream",
     "text": [
      "Training Epoch 162: 100%|██████████| 500/500 [00:02<00:00, 184.36it/s]\n",
      "Training Epoch 163: 100%|██████████| 500/500 [00:02<00:00, 181.57it/s]\n",
      "Training Epoch 164: 100%|██████████| 500/500 [00:02<00:00, 176.62it/s]\n",
      "Training Epoch 165: 100%|██████████| 500/500 [00:02<00:00, 188.86it/s]\n",
      "Training Epoch 166: 100%|██████████| 500/500 [00:02<00:00, 183.52it/s]\n",
      "Training Epoch 167: 100%|██████████| 500/500 [00:02<00:00, 185.39it/s]\n",
      "Training Epoch 168: 100%|██████████| 500/500 [00:02<00:00, 177.46it/s]\n",
      "Training Epoch 169: 100%|██████████| 500/500 [06:43<00:00,  1.24it/s] \n",
      "Training Epoch 170: 100%|██████████| 500/500 [00:03<00:00, 148.92it/s]\n",
      "Training Epoch 171: 100%|██████████| 500/500 [00:03<00:00, 151.34it/s]\n"
     ]
    },
    {
     "name": "stdout",
     "output_type": "stream",
     "text": [
      "Epoch 170 - Train Loss: 0.3687, Train MSE: 0.3694, Train MAE: 0.4464\n",
      "Epoch 170 - Validation Loss: 1.5680, Validation MSE: 1.5683, Validation MAE: 0.8980\n"
     ]
    },
    {
     "name": "stderr",
     "output_type": "stream",
     "text": [
      "Training Epoch 172: 100%|██████████| 500/500 [00:03<00:00, 153.77it/s]\n",
      "Training Epoch 173: 100%|██████████| 500/500 [00:03<00:00, 158.22it/s]\n",
      "Training Epoch 174: 100%|██████████| 500/500 [00:03<00:00, 144.32it/s]\n",
      "Training Epoch 175: 100%|██████████| 500/500 [00:03<00:00, 151.05it/s]\n",
      "Training Epoch 176: 100%|██████████| 500/500 [00:03<00:00, 160.77it/s]\n",
      "Training Epoch 177: 100%|██████████| 500/500 [00:03<00:00, 161.19it/s]\n",
      "Training Epoch 178: 100%|██████████| 500/500 [00:03<00:00, 164.79it/s]\n",
      "Training Epoch 179: 100%|██████████| 500/500 [00:03<00:00, 166.44it/s]\n",
      "Training Epoch 180: 100%|██████████| 500/500 [00:03<00:00, 160.31it/s]\n",
      "Training Epoch 181: 100%|██████████| 500/500 [00:03<00:00, 164.89it/s]\n"
     ]
    },
    {
     "name": "stdout",
     "output_type": "stream",
     "text": [
      "Epoch 180 - Train Loss: 0.3614, Train MSE: 0.3565, Train MAE: 0.4384\n",
      "Epoch 180 - Validation Loss: 1.5496, Validation MSE: 1.5525, Validation MAE: 0.8893\n"
     ]
    },
    {
     "name": "stderr",
     "output_type": "stream",
     "text": [
      "Training Epoch 182: 100%|██████████| 500/500 [00:02<00:00, 166.87it/s]\n",
      "Training Epoch 183: 100%|██████████| 500/500 [00:03<00:00, 165.24it/s]\n",
      "Training Epoch 184: 100%|██████████| 500/500 [00:03<00:00, 161.98it/s]\n",
      "Training Epoch 185: 100%|██████████| 500/500 [00:03<00:00, 164.92it/s]\n",
      "Training Epoch 186: 100%|██████████| 500/500 [00:03<00:00, 154.89it/s]\n",
      "Training Epoch 187: 100%|██████████| 500/500 [00:03<00:00, 166.43it/s]\n",
      "Training Epoch 188: 100%|██████████| 500/500 [00:02<00:00, 168.23it/s]\n",
      "Training Epoch 189: 100%|██████████| 500/500 [00:02<00:00, 167.85it/s]\n",
      "Training Epoch 190: 100%|██████████| 500/500 [00:02<00:00, 170.02it/s]\n",
      "Training Epoch 191: 100%|██████████| 500/500 [00:02<00:00, 167.31it/s]\n"
     ]
    },
    {
     "name": "stdout",
     "output_type": "stream",
     "text": [
      "Epoch 190 - Train Loss: 0.3707, Train MSE: 0.3714, Train MAE: 0.4465\n",
      "Epoch 190 - Validation Loss: 1.5808, Validation MSE: 1.5855, Validation MAE: 0.8972\n"
     ]
    },
    {
     "name": "stderr",
     "output_type": "stream",
     "text": [
      "Training Epoch 192: 100%|██████████| 500/500 [00:02<00:00, 170.18it/s]\n",
      "Training Epoch 193: 100%|██████████| 500/500 [00:02<00:00, 167.52it/s]\n",
      "Training Epoch 194: 100%|██████████| 500/500 [00:02<00:00, 168.63it/s]\n",
      "Training Epoch 195: 100%|██████████| 500/500 [00:03<00:00, 164.83it/s]\n",
      "Training Epoch 196: 100%|██████████| 500/500 [00:02<00:00, 168.23it/s]\n",
      "Training Epoch 197: 100%|██████████| 500/500 [00:02<00:00, 170.00it/s]\n",
      "Training Epoch 198: 100%|██████████| 500/500 [00:02<00:00, 166.87it/s]\n",
      "Training Epoch 199: 100%|██████████| 500/500 [00:02<00:00, 168.42it/s]\n",
      "Training Epoch 200: 100%|██████████| 500/500 [00:02<00:00, 171.41it/s]\n",
      "Training Epoch 201: 100%|██████████| 500/500 [00:03<00:00, 165.85it/s]\n"
     ]
    },
    {
     "name": "stdout",
     "output_type": "stream",
     "text": [
      "Epoch 200 - Train Loss: 0.3424, Train MSE: 0.3422, Train MAE: 0.4278\n",
      "Epoch 200 - Validation Loss: 1.5352, Validation MSE: 1.5378, Validation MAE: 0.8847\n"
     ]
    },
    {
     "name": "stderr",
     "output_type": "stream",
     "text": [
      "Training Epoch 202: 100%|██████████| 500/500 [00:02<00:00, 167.84it/s]\n",
      "Training Epoch 203: 100%|██████████| 500/500 [00:02<00:00, 167.83it/s]\n",
      "Training Epoch 204: 100%|██████████| 500/500 [00:02<00:00, 168.23it/s]\n",
      "Training Epoch 205: 100%|██████████| 500/500 [00:03<00:00, 164.86it/s]\n",
      "Training Epoch 206: 100%|██████████| 500/500 [00:02<00:00, 168.74it/s]\n",
      "Training Epoch 207: 100%|██████████| 500/500 [00:03<00:00, 166.42it/s]\n",
      "Training Epoch 208: 100%|██████████| 500/500 [00:02<00:00, 170.97it/s]\n",
      "Training Epoch 209: 100%|██████████| 500/500 [00:02<00:00, 171.30it/s]\n",
      "Training Epoch 210: 100%|██████████| 500/500 [00:02<00:00, 171.53it/s]\n",
      "Training Epoch 211: 100%|██████████| 500/500 [00:02<00:00, 169.53it/s]\n"
     ]
    },
    {
     "name": "stdout",
     "output_type": "stream",
     "text": [
      "Epoch 210 - Train Loss: 0.3217, Train MSE: 0.3219, Train MAE: 0.4186\n",
      "Epoch 210 - Validation Loss: 1.5597, Validation MSE: 1.5615, Validation MAE: 0.8901\n"
     ]
    },
    {
     "name": "stderr",
     "output_type": "stream",
     "text": [
      "Training Epoch 212: 100%|██████████| 500/500 [00:02<00:00, 172.19it/s]\n",
      "Training Epoch 213: 100%|██████████| 500/500 [00:02<00:00, 168.48it/s]\n",
      "Training Epoch 214: 100%|██████████| 500/500 [00:03<00:00, 165.07it/s]\n",
      "Training Epoch 215: 100%|██████████| 500/500 [00:02<00:00, 167.29it/s]\n",
      "Training Epoch 216: 100%|██████████| 500/500 [00:02<00:00, 169.60it/s]\n",
      "Training Epoch 217: 100%|██████████| 500/500 [00:02<00:00, 170.88it/s]\n",
      "Training Epoch 218: 100%|██████████| 500/500 [00:02<00:00, 169.57it/s]\n",
      "Training Epoch 219: 100%|██████████| 500/500 [00:03<00:00, 164.77it/s]\n",
      "Training Epoch 220: 100%|██████████| 500/500 [00:03<00:00, 154.30it/s]\n",
      "Training Epoch 221: 100%|██████████| 500/500 [00:02<00:00, 169.15it/s]\n"
     ]
    },
    {
     "name": "stdout",
     "output_type": "stream",
     "text": [
      "Epoch 220 - Train Loss: 0.3332, Train MSE: 0.3270, Train MAE: 0.4184\n",
      "Epoch 220 - Validation Loss: 1.5662, Validation MSE: 1.5663, Validation MAE: 0.8864\n"
     ]
    },
    {
     "name": "stderr",
     "output_type": "stream",
     "text": [
      "Training Epoch 222: 100%|██████████| 500/500 [00:02<00:00, 170.39it/s]\n",
      "Training Epoch 223: 100%|██████████| 500/500 [00:02<00:00, 168.30it/s]\n",
      "Training Epoch 224: 100%|██████████| 500/500 [00:03<00:00, 157.99it/s]\n",
      "Training Epoch 225: 100%|██████████| 500/500 [00:03<00:00, 165.71it/s]\n",
      "Training Epoch 226: 100%|██████████| 500/500 [00:02<00:00, 168.34it/s]\n",
      "Training Epoch 227: 100%|██████████| 500/500 [00:03<00:00, 166.57it/s]\n",
      "Training Epoch 228: 100%|██████████| 500/500 [00:02<00:00, 170.16it/s]\n",
      "Training Epoch 229: 100%|██████████| 500/500 [00:02<00:00, 167.42it/s]\n",
      "Training Epoch 230: 100%|██████████| 500/500 [00:02<00:00, 168.87it/s]\n",
      "Training Epoch 231: 100%|██████████| 500/500 [00:02<00:00, 169.80it/s]\n"
     ]
    },
    {
     "name": "stdout",
     "output_type": "stream",
     "text": [
      "Epoch 230 - Train Loss: 0.3050, Train MSE: 0.3052, Train MAE: 0.4074\n",
      "Epoch 230 - Validation Loss: 1.5598, Validation MSE: 1.5639, Validation MAE: 0.8885\n"
     ]
    },
    {
     "name": "stderr",
     "output_type": "stream",
     "text": [
      "Training Epoch 232: 100%|██████████| 500/500 [00:02<00:00, 169.17it/s]\n",
      "Training Epoch 233: 100%|██████████| 500/500 [00:02<00:00, 169.36it/s]\n",
      "Training Epoch 234: 100%|██████████| 500/500 [00:02<00:00, 168.62it/s]\n",
      "Training Epoch 235: 100%|██████████| 500/500 [00:02<00:00, 168.99it/s]\n",
      "Training Epoch 236: 100%|██████████| 500/500 [00:03<00:00, 161.63it/s]\n",
      "Training Epoch 237: 100%|██████████| 500/500 [00:03<00:00, 166.18it/s]\n",
      "Training Epoch 238: 100%|██████████| 500/500 [00:03<00:00, 160.82it/s]\n",
      "Training Epoch 239: 100%|██████████| 500/500 [00:03<00:00, 160.94it/s]\n",
      "Training Epoch 240: 100%|██████████| 500/500 [00:03<00:00, 166.66it/s]\n",
      "Training Epoch 241: 100%|██████████| 500/500 [00:03<00:00, 166.61it/s]\n"
     ]
    },
    {
     "name": "stdout",
     "output_type": "stream",
     "text": [
      "Epoch 240 - Train Loss: 0.2988, Train MSE: 0.2994, Train MAE: 0.4030\n",
      "Epoch 240 - Validation Loss: 1.5041, Validation MSE: 1.5068, Validation MAE: 0.8673\n"
     ]
    },
    {
     "name": "stderr",
     "output_type": "stream",
     "text": [
      "Training Epoch 242: 100%|██████████| 500/500 [00:02<00:00, 167.59it/s]\n",
      "Training Epoch 243: 100%|██████████| 500/500 [00:02<00:00, 167.65it/s]\n",
      "Training Epoch 244: 100%|██████████| 500/500 [00:02<00:00, 167.03it/s]\n",
      "Training Epoch 245: 100%|██████████| 500/500 [00:02<00:00, 170.79it/s]\n",
      "Training Epoch 246: 100%|██████████| 500/500 [00:02<00:00, 169.92it/s]\n",
      "Training Epoch 247: 100%|██████████| 500/500 [00:02<00:00, 168.17it/s]\n",
      "Training Epoch 248: 100%|██████████| 500/500 [00:02<00:00, 167.86it/s]\n",
      "Training Epoch 249: 100%|██████████| 500/500 [00:02<00:00, 168.65it/s]\n",
      "Training Epoch 250: 100%|██████████| 500/500 [00:02<00:00, 167.15it/s]\n",
      "Training Epoch 251: 100%|██████████| 500/500 [00:03<00:00, 152.20it/s]\n"
     ]
    },
    {
     "name": "stdout",
     "output_type": "stream",
     "text": [
      "Epoch 250 - Train Loss: 0.3006, Train MSE: 0.3011, Train MAE: 0.4011\n",
      "Epoch 250 - Validation Loss: 1.5401, Validation MSE: 1.5411, Validation MAE: 0.8805\n"
     ]
    },
    {
     "name": "stderr",
     "output_type": "stream",
     "text": [
      "Training Epoch 252: 100%|██████████| 500/500 [00:03<00:00, 164.33it/s]\n",
      "Training Epoch 253: 100%|██████████| 500/500 [00:02<00:00, 167.66it/s]\n",
      "Training Epoch 254: 100%|██████████| 500/500 [00:03<00:00, 165.59it/s]\n",
      "Training Epoch 255: 100%|██████████| 500/500 [00:03<00:00, 165.96it/s]\n",
      "Training Epoch 256: 100%|██████████| 500/500 [00:02<00:00, 168.58it/s]\n",
      "Training Epoch 257: 100%|██████████| 500/500 [00:03<00:00, 164.90it/s]\n",
      "Training Epoch 258: 100%|██████████| 500/500 [00:03<00:00, 165.54it/s]\n",
      "Training Epoch 259: 100%|██████████| 500/500 [00:03<00:00, 164.95it/s]\n",
      "Training Epoch 260: 100%|██████████| 500/500 [00:03<00:00, 164.69it/s]\n",
      "Training Epoch 261: 100%|██████████| 500/500 [00:02<00:00, 167.06it/s]\n"
     ]
    },
    {
     "name": "stdout",
     "output_type": "stream",
     "text": [
      "Epoch 260 - Train Loss: 0.2883, Train MSE: 0.2887, Train MAE: 0.3910\n",
      "Epoch 260 - Validation Loss: 1.5084, Validation MSE: 1.5074, Validation MAE: 0.8677\n"
     ]
    },
    {
     "name": "stderr",
     "output_type": "stream",
     "text": [
      "Training Epoch 262: 100%|██████████| 500/500 [00:03<00:00, 157.39it/s]\n",
      "Training Epoch 263: 100%|██████████| 500/500 [00:03<00:00, 166.29it/s]\n",
      "Training Epoch 264: 100%|██████████| 500/500 [00:03<00:00, 162.19it/s]\n",
      "Training Epoch 265: 100%|██████████| 500/500 [00:02<00:00, 169.46it/s]\n",
      "Training Epoch 266: 100%|██████████| 500/500 [00:03<00:00, 165.75it/s]\n",
      "Training Epoch 267: 100%|██████████| 500/500 [00:02<00:00, 167.03it/s]\n",
      "Training Epoch 268: 100%|██████████| 500/500 [00:02<00:00, 166.79it/s]\n",
      "Training Epoch 269: 100%|██████████| 500/500 [00:03<00:00, 164.82it/s]\n",
      "Training Epoch 270: 100%|██████████| 500/500 [00:02<00:00, 167.02it/s]\n",
      "Training Epoch 271: 100%|██████████| 500/500 [00:03<00:00, 163.76it/s]\n"
     ]
    },
    {
     "name": "stdout",
     "output_type": "stream",
     "text": [
      "Epoch 270 - Train Loss: 0.2878, Train MSE: 0.2884, Train MAE: 0.3928\n",
      "Epoch 270 - Validation Loss: 1.5343, Validation MSE: 1.5369, Validation MAE: 0.8806\n"
     ]
    },
    {
     "name": "stderr",
     "output_type": "stream",
     "text": [
      "Training Epoch 272: 100%|██████████| 500/500 [00:03<00:00, 162.40it/s]\n",
      "Training Epoch 273: 100%|██████████| 500/500 [00:02<00:00, 167.69it/s]\n",
      "Training Epoch 274: 100%|██████████| 500/500 [00:03<00:00, 162.79it/s]\n",
      "Training Epoch 275: 100%|██████████| 500/500 [00:03<00:00, 163.33it/s]\n",
      "Training Epoch 276: 100%|██████████| 500/500 [00:03<00:00, 162.01it/s]\n",
      "Training Epoch 277: 100%|██████████| 500/500 [00:03<00:00, 161.32it/s]\n",
      "Training Epoch 278: 100%|██████████| 500/500 [00:03<00:00, 166.45it/s]\n",
      "Training Epoch 279: 100%|██████████| 500/500 [00:02<00:00, 167.19it/s]\n",
      "Training Epoch 280: 100%|██████████| 500/500 [00:03<00:00, 162.30it/s]\n",
      "Training Epoch 281: 100%|██████████| 500/500 [00:03<00:00, 156.74it/s]\n"
     ]
    },
    {
     "name": "stdout",
     "output_type": "stream",
     "text": [
      "Epoch 280 - Train Loss: 0.2767, Train MSE: 0.2772, Train MAE: 0.3858\n",
      "Epoch 280 - Validation Loss: 1.5358, Validation MSE: 1.5401, Validation MAE: 0.8834\n"
     ]
    },
    {
     "name": "stderr",
     "output_type": "stream",
     "text": [
      "Training Epoch 282: 100%|██████████| 500/500 [00:03<00:00, 166.51it/s]\n",
      "Training Epoch 283: 100%|██████████| 500/500 [00:03<00:00, 153.38it/s]\n",
      "Training Epoch 284: 100%|██████████| 500/500 [00:03<00:00, 164.03it/s]\n",
      "Training Epoch 285: 100%|██████████| 500/500 [00:03<00:00, 165.16it/s]\n",
      "Training Epoch 286: 100%|██████████| 500/500 [00:02<00:00, 166.84it/s]\n",
      "Training Epoch 287: 100%|██████████| 500/500 [00:03<00:00, 164.44it/s]\n",
      "Training Epoch 288: 100%|██████████| 500/500 [00:02<00:00, 167.18it/s]\n",
      "Training Epoch 289: 100%|██████████| 500/500 [00:03<00:00, 163.23it/s]\n",
      "Training Epoch 290: 100%|██████████| 500/500 [00:03<00:00, 162.47it/s]\n",
      "Training Epoch 291: 100%|██████████| 500/500 [00:03<00:00, 161.34it/s]\n"
     ]
    },
    {
     "name": "stdout",
     "output_type": "stream",
     "text": [
      "Epoch 290 - Train Loss: 0.2699, Train MSE: 0.2704, Train MAE: 0.3818\n",
      "Epoch 290 - Validation Loss: 1.5178, Validation MSE: 1.5190, Validation MAE: 0.8728\n"
     ]
    },
    {
     "name": "stderr",
     "output_type": "stream",
     "text": [
      "Training Epoch 292: 100%|██████████| 500/500 [00:03<00:00, 163.01it/s]\n",
      "Training Epoch 293: 100%|██████████| 500/500 [00:03<00:00, 164.32it/s]\n",
      "Training Epoch 294: 100%|██████████| 500/500 [00:03<00:00, 163.83it/s]\n",
      "Training Epoch 295: 100%|██████████| 500/500 [00:03<00:00, 164.70it/s]\n",
      "Training Epoch 296: 100%|██████████| 500/500 [00:03<00:00, 164.47it/s]\n",
      "Training Epoch 297: 100%|██████████| 500/500 [00:03<00:00, 165.90it/s]\n",
      "Training Epoch 298: 100%|██████████| 500/500 [00:03<00:00, 166.25it/s]\n",
      "Training Epoch 299: 100%|██████████| 500/500 [00:03<00:00, 157.97it/s]\n",
      "Training Epoch 300: 100%|██████████| 500/500 [00:03<00:00, 161.44it/s]\n",
      "Training Epoch 301: 100%|██████████| 500/500 [00:03<00:00, 163.52it/s]\n"
     ]
    },
    {
     "name": "stdout",
     "output_type": "stream",
     "text": [
      "Epoch 300 - Train Loss: 0.2593, Train MSE: 0.2589, Train MAE: 0.3722\n",
      "Epoch 300 - Validation Loss: 1.5029, Validation MSE: 1.5035, Validation MAE: 0.8743\n"
     ]
    },
    {
     "name": "stderr",
     "output_type": "stream",
     "text": [
      "Training Epoch 302: 100%|██████████| 500/500 [00:03<00:00, 166.58it/s]\n",
      "Training Epoch 303: 100%|██████████| 500/500 [00:03<00:00, 165.04it/s]\n",
      "Training Epoch 304: 100%|██████████| 500/500 [00:03<00:00, 164.07it/s]\n",
      "Training Epoch 305: 100%|██████████| 500/500 [00:03<00:00, 164.20it/s]\n",
      "Training Epoch 306: 100%|██████████| 500/500 [00:02<00:00, 168.39it/s]\n",
      "Training Epoch 307: 100%|██████████| 500/500 [00:03<00:00, 160.90it/s]\n",
      "Training Epoch 308: 100%|██████████| 500/500 [00:03<00:00, 165.33it/s]\n",
      "Training Epoch 309: 100%|██████████| 500/500 [00:03<00:00, 162.46it/s]\n",
      "Training Epoch 310: 100%|██████████| 500/500 [00:03<00:00, 163.11it/s]\n",
      "Training Epoch 311: 100%|██████████| 500/500 [00:03<00:00, 164.99it/s]\n"
     ]
    },
    {
     "name": "stdout",
     "output_type": "stream",
     "text": [
      "Epoch 310 - Train Loss: 0.2646, Train MSE: 0.2643, Train MAE: 0.3735\n",
      "Epoch 310 - Validation Loss: 1.5228, Validation MSE: 1.5248, Validation MAE: 0.8792\n"
     ]
    },
    {
     "name": "stderr",
     "output_type": "stream",
     "text": [
      "Training Epoch 312: 100%|██████████| 500/500 [00:03<00:00, 161.71it/s]\n",
      "Training Epoch 313: 100%|██████████| 500/500 [00:03<00:00, 161.19it/s]\n",
      "Training Epoch 314: 100%|██████████| 500/500 [00:03<00:00, 164.42it/s]\n",
      "Training Epoch 315: 100%|██████████| 500/500 [00:03<00:00, 165.97it/s]\n",
      "Training Epoch 316: 100%|██████████| 500/500 [00:02<00:00, 168.49it/s]\n",
      "Training Epoch 317: 100%|██████████| 500/500 [00:03<00:00, 164.13it/s]\n",
      "Training Epoch 318: 100%|██████████| 500/500 [00:03<00:00, 146.82it/s]\n",
      "Training Epoch 319: 100%|██████████| 500/500 [00:03<00:00, 164.18it/s]\n",
      "Training Epoch 320: 100%|██████████| 500/500 [00:03<00:00, 158.97it/s]\n",
      "Training Epoch 321: 100%|██████████| 500/500 [00:03<00:00, 162.24it/s]\n"
     ]
    },
    {
     "name": "stdout",
     "output_type": "stream",
     "text": [
      "Epoch 320 - Train Loss: 0.2562, Train MSE: 0.2564, Train MAE: 0.3707\n",
      "Epoch 320 - Validation Loss: 1.4848, Validation MSE: 1.4892, Validation MAE: 0.8647\n"
     ]
    },
    {
     "name": "stderr",
     "output_type": "stream",
     "text": [
      "Training Epoch 322: 100%|██████████| 500/500 [00:03<00:00, 161.76it/s]\n",
      "Training Epoch 323: 100%|██████████| 500/500 [00:03<00:00, 163.30it/s]\n",
      "Training Epoch 324: 100%|██████████| 500/500 [00:03<00:00, 163.15it/s]\n",
      "Training Epoch 325: 100%|██████████| 500/500 [00:03<00:00, 164.51it/s]\n",
      "Training Epoch 326: 100%|██████████| 500/500 [00:03<00:00, 163.16it/s]\n",
      "Training Epoch 327: 100%|██████████| 500/500 [00:03<00:00, 161.89it/s]\n",
      "Training Epoch 328: 100%|██████████| 500/500 [00:03<00:00, 165.33it/s]\n",
      "Training Epoch 329: 100%|██████████| 500/500 [00:03<00:00, 162.44it/s]\n",
      "Training Epoch 330: 100%|██████████| 500/500 [00:03<00:00, 165.89it/s]\n",
      "Training Epoch 331: 100%|██████████| 500/500 [00:03<00:00, 164.37it/s]\n"
     ]
    },
    {
     "name": "stdout",
     "output_type": "stream",
     "text": [
      "Epoch 330 - Train Loss: 0.2400, Train MSE: 0.2404, Train MAE: 0.3583\n",
      "Epoch 330 - Validation Loss: 1.5169, Validation MSE: 1.5207, Validation MAE: 0.8742\n"
     ]
    },
    {
     "name": "stderr",
     "output_type": "stream",
     "text": [
      "Training Epoch 332: 100%|██████████| 500/500 [00:03<00:00, 162.97it/s]\n",
      "Training Epoch 333: 100%|██████████| 500/500 [00:03<00:00, 163.87it/s]\n",
      "Training Epoch 334: 100%|██████████| 500/500 [00:03<00:00, 163.73it/s]\n",
      "Training Epoch 335: 100%|██████████| 500/500 [00:03<00:00, 162.71it/s]\n",
      "Training Epoch 336: 100%|██████████| 500/500 [00:03<00:00, 153.45it/s]\n",
      "Training Epoch 337: 100%|██████████| 500/500 [00:03<00:00, 163.71it/s]\n",
      "Training Epoch 338: 100%|██████████| 500/500 [00:03<00:00, 164.28it/s]\n",
      "Training Epoch 339: 100%|██████████| 500/500 [00:03<00:00, 164.98it/s]\n",
      "Training Epoch 340: 100%|██████████| 500/500 [00:03<00:00, 162.23it/s]\n",
      "Training Epoch 341: 100%|██████████| 500/500 [00:03<00:00, 164.41it/s]\n"
     ]
    },
    {
     "name": "stdout",
     "output_type": "stream",
     "text": [
      "Epoch 340 - Train Loss: 0.2521, Train MSE: 0.2526, Train MAE: 0.3651\n",
      "Epoch 340 - Validation Loss: 1.5185, Validation MSE: 1.5213, Validation MAE: 0.8738\n"
     ]
    },
    {
     "name": "stderr",
     "output_type": "stream",
     "text": [
      "Training Epoch 342: 100%|██████████| 500/500 [00:03<00:00, 163.98it/s]\n",
      "Training Epoch 343: 100%|██████████| 500/500 [00:03<00:00, 166.08it/s]\n",
      "Training Epoch 344: 100%|██████████| 500/500 [00:03<00:00, 166.33it/s]\n",
      "Training Epoch 345: 100%|██████████| 500/500 [00:03<00:00, 161.42it/s]\n",
      "Training Epoch 346: 100%|██████████| 500/500 [00:03<00:00, 164.92it/s]\n",
      "Training Epoch 347: 100%|██████████| 500/500 [00:03<00:00, 162.60it/s]\n",
      "Training Epoch 348: 100%|██████████| 500/500 [00:03<00:00, 161.27it/s]\n",
      "Training Epoch 349: 100%|██████████| 500/500 [00:03<00:00, 165.48it/s]\n",
      "Training Epoch 350: 100%|██████████| 500/500 [00:03<00:00, 163.72it/s]\n",
      "Training Epoch 351: 100%|██████████| 500/500 [00:03<00:00, 163.79it/s]\n"
     ]
    },
    {
     "name": "stdout",
     "output_type": "stream",
     "text": [
      "Epoch 350 - Train Loss: 0.2496, Train MSE: 0.2499, Train MAE: 0.3640\n",
      "Epoch 350 - Validation Loss: 1.4703, Validation MSE: 1.4724, Validation MAE: 0.8591\n"
     ]
    },
    {
     "name": "stderr",
     "output_type": "stream",
     "text": [
      "Training Epoch 352: 100%|██████████| 500/500 [00:03<00:00, 163.47it/s]\n",
      "Training Epoch 353: 100%|██████████| 500/500 [00:03<00:00, 163.96it/s]\n",
      "Training Epoch 354: 100%|██████████| 500/500 [00:02<00:00, 166.80it/s]\n",
      "Training Epoch 355: 100%|██████████| 500/500 [00:03<00:00, 157.93it/s]\n",
      "Training Epoch 356: 100%|██████████| 500/500 [00:02<00:00, 166.72it/s]\n",
      "Training Epoch 357: 100%|██████████| 500/500 [00:03<00:00, 164.00it/s]\n",
      "Training Epoch 358: 100%|██████████| 500/500 [00:03<00:00, 165.39it/s]\n",
      "Training Epoch 359: 100%|██████████| 500/500 [00:03<00:00, 166.47it/s]\n",
      "Training Epoch 360: 100%|██████████| 500/500 [00:02<00:00, 167.84it/s]\n",
      "Training Epoch 361: 100%|██████████| 500/500 [00:03<00:00, 165.43it/s]\n"
     ]
    },
    {
     "name": "stdout",
     "output_type": "stream",
     "text": [
      "Epoch 360 - Train Loss: 0.2404, Train MSE: 0.2408, Train MAE: 0.3570\n",
      "Epoch 360 - Validation Loss: 1.5135, Validation MSE: 1.5173, Validation MAE: 0.8786\n"
     ]
    },
    {
     "name": "stderr",
     "output_type": "stream",
     "text": [
      "Training Epoch 362: 100%|██████████| 500/500 [00:03<00:00, 164.21it/s]\n",
      "Training Epoch 363: 100%|██████████| 500/500 [00:03<00:00, 165.09it/s]\n",
      "Training Epoch 364: 100%|██████████| 500/500 [00:02<00:00, 166.71it/s]\n",
      "Training Epoch 365: 100%|██████████| 500/500 [00:03<00:00, 161.72it/s]\n",
      "Training Epoch 366: 100%|██████████| 500/500 [00:03<00:00, 161.19it/s]\n",
      "Training Epoch 367: 100%|██████████| 500/500 [00:03<00:00, 163.26it/s]\n",
      "Training Epoch 368: 100%|██████████| 500/500 [00:03<00:00, 161.45it/s]\n",
      "Training Epoch 369: 100%|██████████| 500/500 [00:03<00:00, 163.58it/s]\n",
      "Training Epoch 370: 100%|██████████| 500/500 [00:03<00:00, 166.04it/s]\n",
      "Training Epoch 371: 100%|██████████| 500/500 [00:03<00:00, 164.51it/s]\n"
     ]
    },
    {
     "name": "stdout",
     "output_type": "stream",
     "text": [
      "Epoch 370 - Train Loss: 0.2436, Train MSE: 0.2440, Train MAE: 0.3580\n",
      "Epoch 370 - Validation Loss: 1.5107, Validation MSE: 1.5144, Validation MAE: 0.8694\n"
     ]
    },
    {
     "name": "stderr",
     "output_type": "stream",
     "text": [
      "Training Epoch 372: 100%|██████████| 500/500 [00:03<00:00, 165.29it/s]\n",
      "Training Epoch 373: 100%|██████████| 500/500 [00:03<00:00, 155.94it/s]\n",
      "Training Epoch 374: 100%|██████████| 500/500 [00:02<00:00, 167.32it/s]\n",
      "Training Epoch 375: 100%|██████████| 500/500 [00:03<00:00, 162.74it/s]\n",
      "Training Epoch 376: 100%|██████████| 500/500 [00:02<00:00, 167.16it/s]\n",
      "Training Epoch 377: 100%|██████████| 500/500 [00:03<00:00, 164.80it/s]\n",
      "Training Epoch 378: 100%|██████████| 500/500 [00:03<00:00, 161.21it/s]\n",
      "Training Epoch 379: 100%|██████████| 500/500 [00:03<00:00, 161.86it/s]\n",
      "Training Epoch 380: 100%|██████████| 500/500 [00:03<00:00, 163.60it/s]\n",
      "Training Epoch 381: 100%|██████████| 500/500 [00:03<00:00, 164.97it/s]\n"
     ]
    },
    {
     "name": "stdout",
     "output_type": "stream",
     "text": [
      "Epoch 380 - Train Loss: 0.2317, Train MSE: 0.2321, Train MAE: 0.3507\n",
      "Epoch 380 - Validation Loss: 1.5102, Validation MSE: 1.5148, Validation MAE: 0.8764\n"
     ]
    },
    {
     "name": "stderr",
     "output_type": "stream",
     "text": [
      "Training Epoch 382: 100%|██████████| 500/500 [00:03<00:00, 164.66it/s]\n",
      "Training Epoch 383: 100%|██████████| 500/500 [00:03<00:00, 160.16it/s]\n",
      "Training Epoch 384: 100%|██████████| 500/500 [00:03<00:00, 163.84it/s]\n",
      "Training Epoch 385: 100%|██████████| 500/500 [00:03<00:00, 164.11it/s]\n",
      "Training Epoch 386: 100%|██████████| 500/500 [00:03<00:00, 162.84it/s]\n",
      "Training Epoch 387: 100%|██████████| 500/500 [00:03<00:00, 164.65it/s]\n",
      "Training Epoch 388: 100%|██████████| 500/500 [00:03<00:00, 162.10it/s]\n",
      "Training Epoch 389: 100%|██████████| 500/500 [00:03<00:00, 164.53it/s]\n",
      "Training Epoch 390: 100%|██████████| 500/500 [00:02<00:00, 167.78it/s]\n",
      "Training Epoch 391: 100%|██████████| 500/500 [00:03<00:00, 165.40it/s]\n"
     ]
    },
    {
     "name": "stdout",
     "output_type": "stream",
     "text": [
      "Epoch 390 - Train Loss: 0.2255, Train MSE: 0.2258, Train MAE: 0.3466\n",
      "Epoch 390 - Validation Loss: 1.5157, Validation MSE: 1.5182, Validation MAE: 0.8749\n"
     ]
    },
    {
     "name": "stderr",
     "output_type": "stream",
     "text": [
      "Training Epoch 392: 100%|██████████| 500/500 [00:03<00:00, 158.73it/s]\n",
      "Training Epoch 393: 100%|██████████| 500/500 [00:03<00:00, 163.68it/s]\n",
      "Training Epoch 394: 100%|██████████| 500/500 [00:03<00:00, 161.86it/s]\n",
      "Training Epoch 395: 100%|██████████| 500/500 [00:03<00:00, 166.30it/s]\n",
      "Training Epoch 396: 100%|██████████| 500/500 [00:02<00:00, 167.28it/s]\n",
      "Training Epoch 397: 100%|██████████| 500/500 [00:02<00:00, 166.91it/s]\n",
      "Training Epoch 398: 100%|██████████| 500/500 [00:03<00:00, 162.46it/s]\n",
      "Training Epoch 399: 100%|██████████| 500/500 [00:03<00:00, 165.51it/s]\n",
      "Training Epoch 400: 100%|██████████| 500/500 [00:03<00:00, 164.81it/s]\n",
      "Training Epoch 401: 100%|██████████| 500/500 [00:03<00:00, 162.81it/s]\n"
     ]
    },
    {
     "name": "stdout",
     "output_type": "stream",
     "text": [
      "Epoch 400 - Train Loss: 0.2212, Train MSE: 0.2215, Train MAE: 0.3444\n",
      "Epoch 400 - Validation Loss: 1.4698, Validation MSE: 1.4702, Validation MAE: 0.8567\n"
     ]
    },
    {
     "name": "stderr",
     "output_type": "stream",
     "text": [
      "Training Epoch 402: 100%|██████████| 500/500 [00:03<00:00, 160.40it/s]\n",
      "Training Epoch 403: 100%|██████████| 500/500 [00:03<00:00, 158.33it/s]\n",
      "Training Epoch 404: 100%|██████████| 500/500 [00:02<00:00, 167.50it/s]\n",
      "Training Epoch 405: 100%|██████████| 500/500 [00:03<00:00, 163.24it/s]\n",
      "Training Epoch 406: 100%|██████████| 500/500 [00:03<00:00, 166.43it/s]\n",
      "Training Epoch 407: 100%|██████████| 500/500 [00:02<00:00, 167.08it/s]\n",
      "Training Epoch 408: 100%|██████████| 500/500 [00:03<00:00, 163.98it/s]\n",
      "Training Epoch 409: 100%|██████████| 500/500 [00:03<00:00, 164.45it/s]\n",
      "Training Epoch 410: 100%|██████████| 500/500 [00:03<00:00, 156.52it/s]\n",
      "Training Epoch 411: 100%|██████████| 500/500 [00:03<00:00, 165.30it/s]\n"
     ]
    },
    {
     "name": "stdout",
     "output_type": "stream",
     "text": [
      "Epoch 410 - Train Loss: 0.2189, Train MSE: 0.2193, Train MAE: 0.3398\n",
      "Epoch 410 - Validation Loss: 1.4901, Validation MSE: 1.4926, Validation MAE: 0.8649\n"
     ]
    },
    {
     "name": "stderr",
     "output_type": "stream",
     "text": [
      "Training Epoch 412: 100%|██████████| 500/500 [00:03<00:00, 164.49it/s]\n",
      "Training Epoch 413: 100%|██████████| 500/500 [00:03<00:00, 163.82it/s]\n",
      "Training Epoch 414: 100%|██████████| 500/500 [00:03<00:00, 165.76it/s]\n",
      "Training Epoch 415: 100%|██████████| 500/500 [00:03<00:00, 164.03it/s]\n",
      "Training Epoch 416: 100%|██████████| 500/500 [00:03<00:00, 164.15it/s]\n",
      "Training Epoch 417: 100%|██████████| 500/500 [00:03<00:00, 165.24it/s]\n",
      "Training Epoch 418: 100%|██████████| 500/500 [00:03<00:00, 164.98it/s]\n",
      "Training Epoch 419: 100%|██████████| 500/500 [00:03<00:00, 165.99it/s]\n",
      "Training Epoch 420: 100%|██████████| 500/500 [00:03<00:00, 162.39it/s]\n",
      "Training Epoch 421: 100%|██████████| 500/500 [00:03<00:00, 164.88it/s]\n"
     ]
    },
    {
     "name": "stdout",
     "output_type": "stream",
     "text": [
      "Epoch 420 - Train Loss: 0.2134, Train MSE: 0.2137, Train MAE: 0.3399\n",
      "Epoch 420 - Validation Loss: 1.4897, Validation MSE: 1.4906, Validation MAE: 0.8634\n"
     ]
    },
    {
     "name": "stderr",
     "output_type": "stream",
     "text": [
      "Training Epoch 422: 100%|██████████| 500/500 [00:03<00:00, 165.88it/s]\n",
      "Training Epoch 423: 100%|██████████| 500/500 [00:03<00:00, 164.44it/s]\n",
      "Training Epoch 424: 100%|██████████| 500/500 [00:03<00:00, 164.19it/s]\n",
      "Training Epoch 425: 100%|██████████| 500/500 [00:03<00:00, 165.28it/s]\n",
      "Training Epoch 426: 100%|██████████| 500/500 [00:03<00:00, 165.15it/s]\n",
      "Training Epoch 427: 100%|██████████| 500/500 [00:03<00:00, 163.68it/s]\n",
      "Training Epoch 428: 100%|██████████| 500/500 [00:03<00:00, 163.91it/s]\n",
      "Training Epoch 429: 100%|██████████| 500/500 [00:03<00:00, 156.44it/s]\n",
      "Training Epoch 430: 100%|██████████| 500/500 [00:03<00:00, 164.19it/s]\n",
      "Training Epoch 431: 100%|██████████| 500/500 [00:03<00:00, 163.41it/s]\n"
     ]
    },
    {
     "name": "stdout",
     "output_type": "stream",
     "text": [
      "Epoch 430 - Train Loss: 0.2112, Train MSE: 0.2111, Train MAE: 0.3345\n",
      "Epoch 430 - Validation Loss: 1.5082, Validation MSE: 1.5111, Validation MAE: 0.8698\n"
     ]
    },
    {
     "name": "stderr",
     "output_type": "stream",
     "text": [
      "Training Epoch 432: 100%|██████████| 500/500 [00:02<00:00, 171.16it/s]\n",
      "Training Epoch 433: 100%|██████████| 500/500 [00:03<00:00, 165.90it/s]\n",
      "Training Epoch 434: 100%|██████████| 500/500 [00:02<00:00, 166.69it/s]\n",
      "Training Epoch 435: 100%|██████████| 500/500 [00:03<00:00, 160.32it/s]\n",
      "Training Epoch 436: 100%|██████████| 500/500 [00:03<00:00, 165.99it/s]\n",
      "Training Epoch 437: 100%|██████████| 500/500 [00:03<00:00, 164.07it/s]\n",
      "Training Epoch 438: 100%|██████████| 500/500 [00:03<00:00, 165.00it/s]\n",
      "Training Epoch 439: 100%|██████████| 500/500 [00:03<00:00, 164.63it/s]\n",
      "Training Epoch 440: 100%|██████████| 500/500 [00:03<00:00, 163.91it/s]\n",
      "Training Epoch 441: 100%|██████████| 500/500 [00:03<00:00, 164.32it/s]\n"
     ]
    },
    {
     "name": "stdout",
     "output_type": "stream",
     "text": [
      "Epoch 440 - Train Loss: 0.2133, Train MSE: 0.2137, Train MAE: 0.3378\n",
      "Epoch 440 - Validation Loss: 1.5101, Validation MSE: 1.5105, Validation MAE: 0.8701\n"
     ]
    },
    {
     "name": "stderr",
     "output_type": "stream",
     "text": [
      "Training Epoch 442: 100%|██████████| 500/500 [00:03<00:00, 163.34it/s]\n",
      "Training Epoch 443: 100%|██████████| 500/500 [00:03<00:00, 164.00it/s]\n",
      "Training Epoch 444: 100%|██████████| 500/500 [00:03<00:00, 165.26it/s]\n",
      "Training Epoch 445: 100%|██████████| 500/500 [00:03<00:00, 162.04it/s]\n",
      "Training Epoch 446: 100%|██████████| 500/500 [00:03<00:00, 164.31it/s]\n",
      "Training Epoch 447: 100%|██████████| 500/500 [00:03<00:00, 165.22it/s]\n",
      "Training Epoch 448: 100%|██████████| 500/500 [00:03<00:00, 156.30it/s]\n",
      "Training Epoch 449: 100%|██████████| 500/500 [00:03<00:00, 164.33it/s]\n",
      "Training Epoch 450: 100%|██████████| 500/500 [00:03<00:00, 163.68it/s]\n",
      "Training Epoch 451: 100%|██████████| 500/500 [00:03<00:00, 162.60it/s]\n"
     ]
    },
    {
     "name": "stdout",
     "output_type": "stream",
     "text": [
      "Epoch 450 - Train Loss: 0.2124, Train MSE: 0.2122, Train MAE: 0.3348\n",
      "Epoch 450 - Validation Loss: 1.5101, Validation MSE: 1.5123, Validation MAE: 0.8702\n"
     ]
    },
    {
     "name": "stderr",
     "output_type": "stream",
     "text": [
      "Training Epoch 452: 100%|██████████| 500/500 [00:03<00:00, 165.00it/s]\n",
      "Training Epoch 453: 100%|██████████| 500/500 [00:03<00:00, 165.90it/s]\n",
      "Training Epoch 454: 100%|██████████| 500/500 [00:03<00:00, 162.83it/s]\n",
      "Training Epoch 455: 100%|██████████| 500/500 [00:03<00:00, 164.72it/s]\n",
      "Training Epoch 456: 100%|██████████| 500/500 [00:03<00:00, 164.51it/s]\n",
      "Training Epoch 457: 100%|██████████| 500/500 [00:03<00:00, 162.89it/s]\n",
      "Training Epoch 458: 100%|██████████| 500/500 [00:03<00:00, 164.34it/s]\n",
      "Training Epoch 459: 100%|██████████| 500/500 [00:03<00:00, 164.27it/s]\n",
      "Training Epoch 460: 100%|██████████| 500/500 [00:03<00:00, 163.65it/s]\n",
      "Training Epoch 461: 100%|██████████| 500/500 [00:03<00:00, 165.51it/s]\n"
     ]
    },
    {
     "name": "stdout",
     "output_type": "stream",
     "text": [
      "Epoch 460 - Train Loss: 0.2062, Train MSE: 0.2066, Train MAE: 0.3298\n",
      "Epoch 460 - Validation Loss: 1.5214, Validation MSE: 1.5251, Validation MAE: 0.8675\n"
     ]
    },
    {
     "name": "stderr",
     "output_type": "stream",
     "text": [
      "Training Epoch 462: 100%|██████████| 500/500 [00:03<00:00, 164.08it/s]\n",
      "Training Epoch 463: 100%|██████████| 500/500 [00:03<00:00, 162.71it/s]\n",
      "Training Epoch 464: 100%|██████████| 500/500 [00:03<00:00, 164.24it/s]\n",
      "Training Epoch 465: 100%|██████████| 500/500 [00:03<00:00, 162.23it/s]\n",
      "Training Epoch 466: 100%|██████████| 500/500 [00:03<00:00, 159.31it/s]\n",
      "Training Epoch 467: 100%|██████████| 500/500 [00:03<00:00, 161.08it/s]\n",
      "Training Epoch 468: 100%|██████████| 500/500 [00:03<00:00, 161.54it/s]\n",
      "Training Epoch 469: 100%|██████████| 500/500 [00:03<00:00, 164.35it/s]\n",
      "Training Epoch 470: 100%|██████████| 500/500 [00:03<00:00, 164.97it/s]\n",
      "Training Epoch 471: 100%|██████████| 500/500 [00:03<00:00, 158.80it/s]\n"
     ]
    },
    {
     "name": "stdout",
     "output_type": "stream",
     "text": [
      "Epoch 470 - Train Loss: 0.2135, Train MSE: 0.2138, Train MAE: 0.3358\n",
      "Epoch 470 - Validation Loss: 1.4893, Validation MSE: 1.4890, Validation MAE: 0.8593\n"
     ]
    },
    {
     "name": "stderr",
     "output_type": "stream",
     "text": [
      "Training Epoch 472: 100%|██████████| 500/500 [00:03<00:00, 160.05it/s]\n",
      "Training Epoch 473: 100%|██████████| 500/500 [00:03<00:00, 164.49it/s]\n",
      "Training Epoch 474: 100%|██████████| 500/500 [00:03<00:00, 164.35it/s]\n",
      "Training Epoch 475: 100%|██████████| 500/500 [00:03<00:00, 161.58it/s]\n",
      "Training Epoch 476: 100%|██████████| 500/500 [00:03<00:00, 164.31it/s]\n",
      "Training Epoch 477: 100%|██████████| 500/500 [00:03<00:00, 165.15it/s]\n",
      "Training Epoch 478: 100%|██████████| 500/500 [00:03<00:00, 164.51it/s]\n",
      "Training Epoch 479: 100%|██████████| 500/500 [00:02<00:00, 167.00it/s]\n",
      "Training Epoch 480: 100%|██████████| 500/500 [00:03<00:00, 166.35it/s]\n",
      "Training Epoch 481: 100%|██████████| 500/500 [00:03<00:00, 165.79it/s]\n"
     ]
    },
    {
     "name": "stdout",
     "output_type": "stream",
     "text": [
      "Epoch 480 - Train Loss: 0.1995, Train MSE: 0.1997, Train MAE: 0.3255\n",
      "Epoch 480 - Validation Loss: 1.5055, Validation MSE: 1.5033, Validation MAE: 0.8638\n"
     ]
    },
    {
     "name": "stderr",
     "output_type": "stream",
     "text": [
      "Training Epoch 482: 100%|██████████| 500/500 [00:03<00:00, 164.09it/s]\n",
      "Training Epoch 483: 100%|██████████| 500/500 [00:03<00:00, 165.47it/s]\n",
      "Training Epoch 484: 100%|██████████| 500/500 [00:03<00:00, 166.55it/s]\n",
      "Training Epoch 485: 100%|██████████| 500/500 [00:03<00:00, 156.11it/s]\n",
      "Training Epoch 486: 100%|██████████| 500/500 [00:03<00:00, 161.36it/s]\n",
      "Training Epoch 487: 100%|██████████| 500/500 [00:03<00:00, 162.05it/s]\n",
      "Training Epoch 488: 100%|██████████| 500/500 [00:03<00:00, 162.93it/s]\n",
      "Training Epoch 489: 100%|██████████| 500/500 [00:03<00:00, 163.22it/s]\n",
      "Training Epoch 490: 100%|██████████| 500/500 [00:03<00:00, 166.35it/s]\n",
      "Training Epoch 491: 100%|██████████| 500/500 [00:02<00:00, 167.22it/s]\n"
     ]
    },
    {
     "name": "stdout",
     "output_type": "stream",
     "text": [
      "Epoch 490 - Train Loss: 0.2065, Train MSE: 0.2069, Train MAE: 0.3299\n",
      "Epoch 490 - Validation Loss: 1.4978, Validation MSE: 1.4976, Validation MAE: 0.8642\n"
     ]
    },
    {
     "name": "stderr",
     "output_type": "stream",
     "text": [
      "Training Epoch 492: 100%|██████████| 500/500 [00:03<00:00, 165.62it/s]\n",
      "Training Epoch 493: 100%|██████████| 500/500 [00:03<00:00, 165.83it/s]\n",
      "Training Epoch 494: 100%|██████████| 500/500 [00:03<00:00, 165.18it/s]\n",
      "Training Epoch 495: 100%|██████████| 500/500 [00:03<00:00, 165.44it/s]\n",
      "Training Epoch 496: 100%|██████████| 500/500 [00:03<00:00, 165.22it/s]\n",
      "Training Epoch 497: 100%|██████████| 500/500 [00:02<00:00, 167.17it/s]\n",
      "Training Epoch 498: 100%|██████████| 500/500 [00:03<00:00, 165.49it/s]\n",
      "Training Epoch 499: 100%|██████████| 500/500 [00:03<00:00, 165.67it/s]\n",
      "Training Epoch 500: 100%|██████████| 500/500 [00:03<00:00, 165.10it/s]\n",
      "Training Epoch 501: 100%|██████████| 500/500 [00:03<00:00, 164.45it/s]\n"
     ]
    },
    {
     "name": "stdout",
     "output_type": "stream",
     "text": [
      "Epoch 500 - Train Loss: 0.1956, Train MSE: 0.1959, Train MAE: 0.3234\n",
      "Epoch 500 - Validation Loss: 1.4915, Validation MSE: 1.4910, Validation MAE: 0.8580\n"
     ]
    },
    {
     "name": "stderr",
     "output_type": "stream",
     "text": [
      "Training Epoch 502: 100%|██████████| 500/500 [00:03<00:00, 164.71it/s]\n",
      "Training Epoch 503: 100%|██████████| 500/500 [00:03<00:00, 156.61it/s]\n",
      "Training Epoch 504: 100%|██████████| 500/500 [00:03<00:00, 163.41it/s]\n",
      "Training Epoch 505: 100%|██████████| 500/500 [00:03<00:00, 165.43it/s]\n",
      "Training Epoch 506: 100%|██████████| 500/500 [00:03<00:00, 165.96it/s]\n",
      "Training Epoch 507: 100%|██████████| 500/500 [00:03<00:00, 165.84it/s]\n",
      "Training Epoch 508: 100%|██████████| 500/500 [00:03<00:00, 165.79it/s]\n",
      "Training Epoch 509: 100%|██████████| 500/500 [00:03<00:00, 164.96it/s]\n",
      "Training Epoch 510: 100%|██████████| 500/500 [00:02<00:00, 166.87it/s]\n",
      "Training Epoch 511: 100%|██████████| 500/500 [00:02<00:00, 166.72it/s]\n"
     ]
    },
    {
     "name": "stdout",
     "output_type": "stream",
     "text": [
      "Epoch 510 - Train Loss: 0.2017, Train MSE: 0.2021, Train MAE: 0.3252\n",
      "Epoch 510 - Validation Loss: 1.5478, Validation MSE: 1.5474, Validation MAE: 0.8738\n"
     ]
    },
    {
     "name": "stderr",
     "output_type": "stream",
     "text": [
      "Training Epoch 512: 100%|██████████| 500/500 [00:03<00:00, 165.96it/s]\n",
      "Training Epoch 513: 100%|██████████| 500/500 [00:03<00:00, 162.39it/s]\n",
      "Training Epoch 514: 100%|██████████| 500/500 [00:03<00:00, 164.98it/s]\n",
      "Training Epoch 515: 100%|██████████| 500/500 [00:02<00:00, 166.84it/s]\n",
      "Training Epoch 516: 100%|██████████| 500/500 [00:03<00:00, 164.38it/s]\n",
      "Training Epoch 517: 100%|██████████| 500/500 [00:03<00:00, 164.69it/s]\n",
      "Training Epoch 518: 100%|██████████| 500/500 [00:03<00:00, 164.29it/s]\n",
      "Training Epoch 519: 100%|██████████| 500/500 [00:03<00:00, 162.81it/s]\n",
      "Training Epoch 520: 100%|██████████| 500/500 [00:03<00:00, 164.46it/s]\n",
      "Training Epoch 521: 100%|██████████| 500/500 [00:03<00:00, 162.79it/s]\n"
     ]
    },
    {
     "name": "stdout",
     "output_type": "stream",
     "text": [
      "Epoch 520 - Train Loss: 0.1917, Train MSE: 0.1921, Train MAE: 0.3191\n",
      "Epoch 520 - Validation Loss: 1.5087, Validation MSE: 1.5069, Validation MAE: 0.8732\n"
     ]
    },
    {
     "name": "stderr",
     "output_type": "stream",
     "text": [
      "Training Epoch 522: 100%|██████████| 500/500 [00:03<00:00, 156.23it/s]\n",
      "Training Epoch 523: 100%|██████████| 500/500 [00:03<00:00, 164.35it/s]\n",
      "Training Epoch 524: 100%|██████████| 500/500 [00:03<00:00, 164.95it/s]\n",
      "Training Epoch 525: 100%|██████████| 500/500 [00:03<00:00, 165.81it/s]\n",
      "Training Epoch 526: 100%|██████████| 500/500 [00:03<00:00, 166.64it/s]\n",
      "Training Epoch 527: 100%|██████████| 500/500 [00:03<00:00, 164.04it/s]\n",
      "Training Epoch 528: 100%|██████████| 500/500 [00:03<00:00, 164.51it/s]\n",
      "Training Epoch 529: 100%|██████████| 500/500 [00:03<00:00, 162.74it/s]\n",
      "Training Epoch 530: 100%|██████████| 500/500 [00:03<00:00, 165.57it/s]\n",
      "Training Epoch 531: 100%|██████████| 500/500 [00:03<00:00, 163.70it/s]\n"
     ]
    },
    {
     "name": "stdout",
     "output_type": "stream",
     "text": [
      "Epoch 530 - Train Loss: 0.1893, Train MSE: 0.1896, Train MAE: 0.3178\n",
      "Epoch 530 - Validation Loss: 1.4847, Validation MSE: 1.4840, Validation MAE: 0.8611\n"
     ]
    },
    {
     "name": "stderr",
     "output_type": "stream",
     "text": [
      "Training Epoch 532: 100%|██████████| 500/500 [00:03<00:00, 163.94it/s]\n",
      "Training Epoch 533: 100%|██████████| 500/500 [00:03<00:00, 163.85it/s]\n",
      "Training Epoch 534: 100%|██████████| 500/500 [00:03<00:00, 165.97it/s]\n",
      "Training Epoch 535: 100%|██████████| 500/500 [00:03<00:00, 165.51it/s]\n",
      "Training Epoch 536: 100%|██████████| 500/500 [00:02<00:00, 166.85it/s]\n",
      "Training Epoch 537: 100%|██████████| 500/500 [00:03<00:00, 163.88it/s]\n",
      "Training Epoch 538: 100%|██████████| 500/500 [00:03<00:00, 163.52it/s]\n",
      "Training Epoch 539: 100%|██████████| 500/500 [00:03<00:00, 161.93it/s]\n",
      "Training Epoch 540: 100%|██████████| 500/500 [00:03<00:00, 163.27it/s]\n",
      "Training Epoch 541: 100%|██████████| 500/500 [00:03<00:00, 160.38it/s]\n"
     ]
    },
    {
     "name": "stdout",
     "output_type": "stream",
     "text": [
      "Epoch 540 - Train Loss: 0.1814, Train MSE: 0.1806, Train MAE: 0.3125\n",
      "Epoch 540 - Validation Loss: 1.4879, Validation MSE: 1.4871, Validation MAE: 0.8563\n"
     ]
    },
    {
     "name": "stderr",
     "output_type": "stream",
     "text": [
      "Training Epoch 542: 100%|██████████| 500/500 [00:03<00:00, 163.83it/s]\n",
      "Training Epoch 543: 100%|██████████| 500/500 [00:03<00:00, 165.68it/s]\n",
      "Training Epoch 544: 100%|██████████| 500/500 [00:03<00:00, 163.96it/s]\n",
      "Training Epoch 545: 100%|██████████| 500/500 [00:02<00:00, 166.87it/s]\n",
      "Training Epoch 546: 100%|██████████| 500/500 [00:03<00:00, 162.75it/s]\n",
      "Training Epoch 547: 100%|██████████| 500/500 [00:03<00:00, 166.64it/s]\n",
      "Training Epoch 548: 100%|██████████| 500/500 [00:03<00:00, 164.05it/s]\n",
      "Training Epoch 549: 100%|██████████| 500/500 [00:03<00:00, 163.19it/s]\n",
      "Training Epoch 550: 100%|██████████| 500/500 [00:03<00:00, 165.53it/s]\n",
      "Training Epoch 551: 100%|██████████| 500/500 [00:03<00:00, 163.25it/s]\n"
     ]
    },
    {
     "name": "stdout",
     "output_type": "stream",
     "text": [
      "Epoch 550 - Train Loss: 0.1889, Train MSE: 0.1889, Train MAE: 0.3151\n",
      "Epoch 550 - Validation Loss: 1.4516, Validation MSE: 1.4519, Validation MAE: 0.8513\n"
     ]
    },
    {
     "name": "stderr",
     "output_type": "stream",
     "text": [
      "Training Epoch 552: 100%|██████████| 500/500 [00:03<00:00, 162.36it/s]\n",
      "Training Epoch 553: 100%|██████████| 500/500 [00:03<00:00, 166.32it/s]\n",
      "Training Epoch 554: 100%|██████████| 500/500 [00:03<00:00, 163.19it/s]\n",
      "Training Epoch 555: 100%|██████████| 500/500 [00:03<00:00, 164.54it/s]\n",
      "Training Epoch 556: 100%|██████████| 500/500 [00:03<00:00, 164.89it/s]\n",
      "Training Epoch 557: 100%|██████████| 500/500 [00:03<00:00, 162.48it/s]\n",
      "Training Epoch 558: 100%|██████████| 500/500 [00:03<00:00, 165.16it/s]\n",
      "Training Epoch 559: 100%|██████████| 500/500 [00:03<00:00, 158.34it/s]\n",
      "Training Epoch 560: 100%|██████████| 500/500 [00:03<00:00, 164.02it/s]\n",
      "Training Epoch 561: 100%|██████████| 500/500 [00:03<00:00, 152.53it/s]\n"
     ]
    },
    {
     "name": "stdout",
     "output_type": "stream",
     "text": [
      "Epoch 560 - Train Loss: 0.1907, Train MSE: 0.1909, Train MAE: 0.3148\n",
      "Epoch 560 - Validation Loss: 1.4647, Validation MSE: 1.4649, Validation MAE: 0.8615\n"
     ]
    },
    {
     "name": "stderr",
     "output_type": "stream",
     "text": [
      "Training Epoch 562: 100%|██████████| 500/500 [00:03<00:00, 154.96it/s]\n",
      "Training Epoch 563: 100%|██████████| 500/500 [00:03<00:00, 161.81it/s]\n",
      "Training Epoch 564: 100%|██████████| 500/500 [00:03<00:00, 153.80it/s]\n",
      "Training Epoch 565: 100%|██████████| 500/500 [00:03<00:00, 159.32it/s]\n",
      "Training Epoch 566: 100%|██████████| 500/500 [00:03<00:00, 161.53it/s]\n",
      "Training Epoch 567: 100%|██████████| 500/500 [00:03<00:00, 159.03it/s]\n",
      "Training Epoch 568: 100%|██████████| 500/500 [00:03<00:00, 160.82it/s]\n",
      "Training Epoch 569: 100%|██████████| 500/500 [00:02<00:00, 166.78it/s]\n",
      "Training Epoch 570: 100%|██████████| 500/500 [00:03<00:00, 163.92it/s]\n",
      "Training Epoch 571: 100%|██████████| 500/500 [00:02<00:00, 167.14it/s]\n"
     ]
    },
    {
     "name": "stdout",
     "output_type": "stream",
     "text": [
      "Epoch 570 - Train Loss: 0.1856, Train MSE: 0.1860, Train MAE: 0.3145\n",
      "Epoch 570 - Validation Loss: 1.4802, Validation MSE: 1.4777, Validation MAE: 0.8587\n"
     ]
    },
    {
     "name": "stderr",
     "output_type": "stream",
     "text": [
      "Training Epoch 572: 100%|██████████| 500/500 [00:03<00:00, 163.65it/s]\n",
      "Training Epoch 573: 100%|██████████| 500/500 [00:03<00:00, 161.93it/s]\n",
      "Training Epoch 574: 100%|██████████| 500/500 [00:03<00:00, 165.96it/s]\n",
      "Training Epoch 575: 100%|██████████| 500/500 [00:03<00:00, 162.58it/s]\n",
      "Training Epoch 576: 100%|██████████| 500/500 [00:03<00:00, 163.60it/s]\n",
      "Training Epoch 577: 100%|██████████| 500/500 [00:03<00:00, 150.96it/s]\n",
      "Training Epoch 578: 100%|██████████| 500/500 [00:03<00:00, 160.95it/s]\n",
      "Training Epoch 579: 100%|██████████| 500/500 [00:03<00:00, 160.06it/s]\n",
      "Training Epoch 580: 100%|██████████| 500/500 [00:03<00:00, 163.18it/s]\n",
      "Training Epoch 581: 100%|██████████| 500/500 [00:03<00:00, 164.63it/s]\n"
     ]
    },
    {
     "name": "stdout",
     "output_type": "stream",
     "text": [
      "Epoch 580 - Train Loss: 0.1833, Train MSE: 0.1836, Train MAE: 0.3118\n",
      "Epoch 580 - Validation Loss: 1.4882, Validation MSE: 1.4853, Validation MAE: 0.8558\n"
     ]
    },
    {
     "name": "stderr",
     "output_type": "stream",
     "text": [
      "Training Epoch 582: 100%|██████████| 500/500 [00:03<00:00, 162.70it/s]\n",
      "Training Epoch 583: 100%|██████████| 500/500 [00:03<00:00, 166.61it/s]\n",
      "Training Epoch 584: 100%|██████████| 500/500 [00:03<00:00, 165.41it/s]\n",
      "Training Epoch 585: 100%|██████████| 500/500 [00:03<00:00, 164.28it/s]\n",
      "Training Epoch 586: 100%|██████████| 500/500 [00:03<00:00, 162.01it/s]\n",
      "Training Epoch 587: 100%|██████████| 500/500 [00:03<00:00, 164.62it/s]\n",
      "Training Epoch 588: 100%|██████████| 500/500 [00:03<00:00, 164.03it/s]\n",
      "Training Epoch 589: 100%|██████████| 500/500 [00:03<00:00, 163.30it/s]\n",
      "Training Epoch 590: 100%|██████████| 500/500 [00:03<00:00, 163.23it/s]\n",
      "Training Epoch 591: 100%|██████████| 500/500 [00:03<00:00, 159.06it/s]\n"
     ]
    },
    {
     "name": "stdout",
     "output_type": "stream",
     "text": [
      "Epoch 590 - Train Loss: 0.1849, Train MSE: 0.1851, Train MAE: 0.3157\n",
      "Epoch 590 - Validation Loss: 1.4703, Validation MSE: 1.4700, Validation MAE: 0.8580\n"
     ]
    },
    {
     "name": "stderr",
     "output_type": "stream",
     "text": [
      "Training Epoch 592: 100%|██████████| 500/500 [00:03<00:00, 165.46it/s]\n",
      "Training Epoch 593: 100%|██████████| 500/500 [00:03<00:00, 162.30it/s]\n",
      "Training Epoch 594: 100%|██████████| 500/500 [00:03<00:00, 165.50it/s]\n",
      "Training Epoch 595: 100%|██████████| 500/500 [00:03<00:00, 160.32it/s]\n",
      "Training Epoch 596: 100%|██████████| 500/500 [00:03<00:00, 152.10it/s]\n",
      "Training Epoch 597: 100%|██████████| 500/500 [00:03<00:00, 164.19it/s]\n",
      "Training Epoch 598: 100%|██████████| 500/500 [00:03<00:00, 164.68it/s]\n",
      "Training Epoch 599: 100%|██████████| 500/500 [00:03<00:00, 165.85it/s]\n",
      "Training Epoch 600: 100%|██████████| 500/500 [00:03<00:00, 162.23it/s]\n",
      "Training Epoch 601: 100%|██████████| 500/500 [00:03<00:00, 165.71it/s]\n"
     ]
    },
    {
     "name": "stdout",
     "output_type": "stream",
     "text": [
      "Epoch 600 - Train Loss: 0.1776, Train MSE: 0.1780, Train MAE: 0.3086\n",
      "Epoch 600 - Validation Loss: 1.4736, Validation MSE: 1.4720, Validation MAE: 0.8577\n"
     ]
    },
    {
     "name": "stderr",
     "output_type": "stream",
     "text": [
      "Training Epoch 602: 100%|██████████| 500/500 [00:03<00:00, 160.83it/s]\n",
      "Training Epoch 603: 100%|██████████| 500/500 [00:03<00:00, 161.46it/s]\n",
      "Training Epoch 604: 100%|██████████| 500/500 [00:03<00:00, 163.37it/s]\n",
      "Training Epoch 605: 100%|██████████| 500/500 [00:03<00:00, 163.28it/s]\n",
      "Training Epoch 606: 100%|██████████| 500/500 [00:03<00:00, 165.25it/s]\n",
      "Training Epoch 607: 100%|██████████| 500/500 [00:03<00:00, 165.42it/s]\n",
      "Training Epoch 608: 100%|██████████| 500/500 [00:03<00:00, 164.21it/s]\n",
      "Training Epoch 609: 100%|██████████| 500/500 [00:03<00:00, 166.07it/s]\n",
      "Training Epoch 610: 100%|██████████| 500/500 [00:03<00:00, 159.90it/s]\n",
      "Training Epoch 611: 100%|██████████| 500/500 [00:03<00:00, 164.47it/s]\n"
     ]
    },
    {
     "name": "stdout",
     "output_type": "stream",
     "text": [
      "Epoch 610 - Train Loss: 0.1775, Train MSE: 0.1773, Train MAE: 0.3062\n",
      "Epoch 610 - Validation Loss: 1.4696, Validation MSE: 1.4675, Validation MAE: 0.8530\n"
     ]
    },
    {
     "name": "stderr",
     "output_type": "stream",
     "text": [
      "Training Epoch 612: 100%|██████████| 500/500 [00:03<00:00, 163.90it/s]\n",
      "Training Epoch 613: 100%|██████████| 500/500 [00:03<00:00, 164.47it/s]\n",
      "Training Epoch 614: 100%|██████████| 500/500 [00:03<00:00, 152.23it/s]\n",
      "Training Epoch 615: 100%|██████████| 500/500 [00:03<00:00, 159.56it/s]\n",
      "Training Epoch 616: 100%|██████████| 500/500 [00:03<00:00, 164.77it/s]\n",
      "Training Epoch 617: 100%|██████████| 500/500 [00:03<00:00, 164.29it/s]\n",
      "Training Epoch 618: 100%|██████████| 500/500 [00:03<00:00, 165.72it/s]\n",
      "Training Epoch 619: 100%|██████████| 500/500 [00:03<00:00, 161.12it/s]\n",
      "Training Epoch 620: 100%|██████████| 500/500 [00:03<00:00, 162.44it/s]\n",
      "Training Epoch 621: 100%|██████████| 500/500 [00:03<00:00, 161.43it/s]\n"
     ]
    },
    {
     "name": "stdout",
     "output_type": "stream",
     "text": [
      "Epoch 620 - Train Loss: 0.1739, Train MSE: 0.1742, Train MAE: 0.3040\n",
      "Epoch 620 - Validation Loss: 1.4857, Validation MSE: 1.4839, Validation MAE: 0.8604\n"
     ]
    },
    {
     "name": "stderr",
     "output_type": "stream",
     "text": [
      "Training Epoch 622: 100%|██████████| 500/500 [00:03<00:00, 163.72it/s]\n",
      "Training Epoch 623: 100%|██████████| 500/500 [00:03<00:00, 162.51it/s]\n",
      "Training Epoch 624: 100%|██████████| 500/500 [00:03<00:00, 163.17it/s]\n",
      "Training Epoch 625: 100%|██████████| 500/500 [00:03<00:00, 161.10it/s]\n",
      "Training Epoch 626: 100%|██████████| 500/500 [00:03<00:00, 164.69it/s]\n",
      "Training Epoch 627: 100%|██████████| 500/500 [00:03<00:00, 165.72it/s]\n",
      "Training Epoch 628: 100%|██████████| 500/500 [00:03<00:00, 163.72it/s]\n",
      "Training Epoch 629: 100%|██████████| 500/500 [00:03<00:00, 165.22it/s]\n",
      "Training Epoch 630: 100%|██████████| 500/500 [00:03<00:00, 161.11it/s]\n",
      "Training Epoch 631: 100%|██████████| 500/500 [00:03<00:00, 165.04it/s]\n"
     ]
    },
    {
     "name": "stdout",
     "output_type": "stream",
     "text": [
      "Epoch 630 - Train Loss: 0.1700, Train MSE: 0.1702, Train MAE: 0.3032\n",
      "Epoch 630 - Validation Loss: 1.4987, Validation MSE: 1.4942, Validation MAE: 0.8669\n"
     ]
    },
    {
     "name": "stderr",
     "output_type": "stream",
     "text": [
      "Training Epoch 632: 100%|██████████| 500/500 [00:03<00:00, 164.61it/s]\n",
      "Training Epoch 633: 100%|██████████| 500/500 [00:03<00:00, 152.64it/s]\n",
      "Training Epoch 634: 100%|██████████| 500/500 [00:03<00:00, 164.37it/s]\n",
      "Training Epoch 635: 100%|██████████| 500/500 [00:02<00:00, 167.15it/s]\n",
      "Training Epoch 636: 100%|██████████| 500/500 [00:03<00:00, 162.15it/s]\n",
      "Training Epoch 637: 100%|██████████| 500/500 [00:03<00:00, 165.84it/s]\n",
      "Training Epoch 638: 100%|██████████| 500/500 [00:03<00:00, 161.60it/s]\n",
      "Training Epoch 639: 100%|██████████| 500/500 [00:03<00:00, 162.38it/s]\n",
      "Training Epoch 640: 100%|██████████| 500/500 [00:03<00:00, 161.90it/s]\n",
      "Training Epoch 641: 100%|██████████| 500/500 [00:03<00:00, 164.46it/s]\n"
     ]
    },
    {
     "name": "stdout",
     "output_type": "stream",
     "text": [
      "Epoch 640 - Train Loss: 0.1783, Train MSE: 0.1787, Train MAE: 0.3052\n",
      "Epoch 640 - Validation Loss: 1.4740, Validation MSE: 1.4742, Validation MAE: 0.8554\n"
     ]
    },
    {
     "name": "stderr",
     "output_type": "stream",
     "text": [
      "Training Epoch 642: 100%|██████████| 500/500 [00:03<00:00, 156.88it/s]\n",
      "Training Epoch 643: 100%|██████████| 500/500 [00:03<00:00, 157.88it/s]\n",
      "Training Epoch 644: 100%|██████████| 500/500 [00:03<00:00, 160.54it/s]\n",
      "Training Epoch 645: 100%|██████████| 500/500 [00:03<00:00, 162.74it/s]\n",
      "Training Epoch 646: 100%|██████████| 500/500 [00:03<00:00, 162.50it/s]\n",
      "Training Epoch 647: 100%|██████████| 500/500 [00:03<00:00, 163.46it/s]\n",
      "Training Epoch 648: 100%|██████████| 500/500 [00:03<00:00, 162.94it/s]\n",
      "Training Epoch 649: 100%|██████████| 500/500 [00:03<00:00, 162.87it/s]\n",
      "Training Epoch 650: 100%|██████████| 500/500 [00:03<00:00, 165.41it/s]\n",
      "Training Epoch 651: 100%|██████████| 500/500 [00:03<00:00, 154.14it/s]\n"
     ]
    },
    {
     "name": "stdout",
     "output_type": "stream",
     "text": [
      "Epoch 650 - Train Loss: 0.1753, Train MSE: 0.1753, Train MAE: 0.3048\n",
      "Epoch 650 - Validation Loss: 1.4679, Validation MSE: 1.4672, Validation MAE: 0.8605\n"
     ]
    },
    {
     "name": "stderr",
     "output_type": "stream",
     "text": [
      "Training Epoch 652: 100%|██████████| 500/500 [00:03<00:00, 164.45it/s]\n",
      "Training Epoch 653: 100%|██████████| 500/500 [00:02<00:00, 168.63it/s]\n",
      "Training Epoch 654: 100%|██████████| 500/500 [00:03<00:00, 164.24it/s]\n",
      "Training Epoch 655: 100%|██████████| 500/500 [00:03<00:00, 164.77it/s]\n",
      "Training Epoch 656: 100%|██████████| 500/500 [00:03<00:00, 165.18it/s]\n",
      "Training Epoch 657: 100%|██████████| 500/500 [00:03<00:00, 163.74it/s]\n",
      "Training Epoch 658: 100%|██████████| 500/500 [00:03<00:00, 165.15it/s]\n",
      "Training Epoch 659: 100%|██████████| 500/500 [00:03<00:00, 164.92it/s]\n",
      "Training Epoch 660: 100%|██████████| 500/500 [00:03<00:00, 159.71it/s]\n",
      "Training Epoch 661: 100%|██████████| 500/500 [00:03<00:00, 161.77it/s]\n"
     ]
    },
    {
     "name": "stdout",
     "output_type": "stream",
     "text": [
      "Epoch 660 - Train Loss: 0.1725, Train MSE: 0.1723, Train MAE: 0.3019\n",
      "Epoch 660 - Validation Loss: 1.4905, Validation MSE: 1.4923, Validation MAE: 0.8566\n"
     ]
    },
    {
     "name": "stderr",
     "output_type": "stream",
     "text": [
      "Training Epoch 662: 100%|██████████| 500/500 [00:03<00:00, 158.70it/s]\n",
      "Training Epoch 663: 100%|██████████| 500/500 [00:03<00:00, 160.54it/s]\n",
      "Training Epoch 664: 100%|██████████| 500/500 [00:03<00:00, 165.26it/s]\n",
      "Training Epoch 665: 100%|██████████| 500/500 [00:03<00:00, 163.82it/s]\n",
      "Training Epoch 666: 100%|██████████| 500/500 [00:03<00:00, 165.29it/s]\n",
      "Training Epoch 667: 100%|██████████| 500/500 [00:03<00:00, 164.79it/s]\n",
      "Training Epoch 668: 100%|██████████| 500/500 [00:03<00:00, 166.13it/s]\n",
      "Training Epoch 669: 100%|██████████| 500/500 [00:03<00:00, 165.13it/s]\n",
      "Training Epoch 670: 100%|██████████| 500/500 [00:03<00:00, 146.64it/s]\n",
      "Training Epoch 671: 100%|██████████| 500/500 [00:03<00:00, 161.82it/s]\n"
     ]
    },
    {
     "name": "stdout",
     "output_type": "stream",
     "text": [
      "Epoch 670 - Train Loss: 0.1698, Train MSE: 0.1701, Train MAE: 0.3013\n",
      "Epoch 670 - Validation Loss: 1.4898, Validation MSE: 1.4911, Validation MAE: 0.8602\n"
     ]
    },
    {
     "name": "stderr",
     "output_type": "stream",
     "text": [
      "Training Epoch 672: 100%|██████████| 500/500 [00:03<00:00, 165.79it/s]\n",
      "Training Epoch 673: 100%|██████████| 500/500 [00:03<00:00, 164.83it/s]\n",
      "Training Epoch 674: 100%|██████████| 500/500 [00:03<00:00, 163.01it/s]\n",
      "Training Epoch 675: 100%|██████████| 500/500 [00:03<00:00, 166.10it/s]\n",
      "Training Epoch 676: 100%|██████████| 500/500 [00:03<00:00, 163.41it/s]\n",
      "Training Epoch 677: 100%|██████████| 500/500 [00:02<00:00, 166.69it/s]\n",
      "Training Epoch 678: 100%|██████████| 500/500 [00:03<00:00, 164.51it/s]\n",
      "Training Epoch 679: 100%|██████████| 500/500 [00:03<00:00, 159.31it/s]\n",
      "Training Epoch 680: 100%|██████████| 500/500 [00:03<00:00, 162.44it/s]\n",
      "Training Epoch 681: 100%|██████████| 500/500 [00:03<00:00, 162.38it/s]\n"
     ]
    },
    {
     "name": "stdout",
     "output_type": "stream",
     "text": [
      "Epoch 680 - Train Loss: 0.1640, Train MSE: 0.1634, Train MAE: 0.2956\n",
      "Epoch 680 - Validation Loss: 1.4807, Validation MSE: 1.4796, Validation MAE: 0.8601\n"
     ]
    },
    {
     "name": "stderr",
     "output_type": "stream",
     "text": [
      "Training Epoch 682: 100%|██████████| 500/500 [00:03<00:00, 165.73it/s]\n",
      "Training Epoch 683: 100%|██████████| 500/500 [00:03<00:00, 165.77it/s]\n",
      "Training Epoch 684: 100%|██████████| 500/500 [00:03<00:00, 162.73it/s]\n",
      "Training Epoch 685: 100%|██████████| 500/500 [00:03<00:00, 162.93it/s]\n",
      "Training Epoch 686: 100%|██████████| 500/500 [00:03<00:00, 160.20it/s]\n",
      "Training Epoch 687: 100%|██████████| 500/500 [00:03<00:00, 160.83it/s]\n",
      "Training Epoch 688: 100%|██████████| 500/500 [00:03<00:00, 145.27it/s]\n",
      "Training Epoch 689: 100%|██████████| 500/500 [00:03<00:00, 157.16it/s]\n",
      "Training Epoch 690: 100%|██████████| 500/500 [00:02<00:00, 166.75it/s]\n",
      "Training Epoch 691: 100%|██████████| 500/500 [00:03<00:00, 155.88it/s]\n"
     ]
    },
    {
     "name": "stdout",
     "output_type": "stream",
     "text": [
      "Epoch 690 - Train Loss: 0.1724, Train MSE: 0.1727, Train MAE: 0.2992\n",
      "Epoch 690 - Validation Loss: 1.4873, Validation MSE: 1.4843, Validation MAE: 0.8622\n"
     ]
    },
    {
     "name": "stderr",
     "output_type": "stream",
     "text": [
      "Training Epoch 692: 100%|██████████| 500/500 [00:03<00:00, 161.62it/s]\n",
      "Training Epoch 693: 100%|██████████| 500/500 [00:03<00:00, 161.38it/s]\n",
      "Training Epoch 694: 100%|██████████| 500/500 [00:03<00:00, 162.55it/s]\n",
      "Training Epoch 695: 100%|██████████| 500/500 [00:03<00:00, 158.73it/s]\n",
      "Training Epoch 696: 100%|██████████| 500/500 [00:03<00:00, 157.24it/s]\n",
      "Training Epoch 697: 100%|██████████| 500/500 [00:03<00:00, 160.33it/s]\n",
      "Training Epoch 698: 100%|██████████| 500/500 [00:03<00:00, 158.27it/s]\n",
      "Training Epoch 699: 100%|██████████| 500/500 [00:03<00:00, 160.46it/s]\n",
      "Training Epoch 700: 100%|██████████| 500/500 [00:03<00:00, 162.91it/s]\n",
      "Training Epoch 701: 100%|██████████| 500/500 [00:03<00:00, 155.49it/s]\n"
     ]
    },
    {
     "name": "stdout",
     "output_type": "stream",
     "text": [
      "Epoch 700 - Train Loss: 0.1607, Train MSE: 0.1608, Train MAE: 0.2917\n",
      "Epoch 700 - Validation Loss: 1.4876, Validation MSE: 1.4855, Validation MAE: 0.8564\n"
     ]
    },
    {
     "name": "stderr",
     "output_type": "stream",
     "text": [
      "Training Epoch 702: 100%|██████████| 500/500 [00:03<00:00, 160.35it/s]\n",
      "Training Epoch 703: 100%|██████████| 500/500 [00:03<00:00, 155.56it/s]\n",
      "Training Epoch 704: 100%|██████████| 500/500 [00:02<00:00, 167.98it/s]\n",
      "Training Epoch 705: 100%|██████████| 500/500 [00:02<00:00, 171.07it/s]\n",
      "Training Epoch 706: 100%|██████████| 500/500 [00:03<00:00, 156.90it/s]\n",
      "Training Epoch 707: 100%|██████████| 500/500 [00:02<00:00, 167.76it/s]\n",
      "Training Epoch 708: 100%|██████████| 500/500 [00:02<00:00, 166.97it/s]\n",
      "Training Epoch 709: 100%|██████████| 500/500 [00:03<00:00, 153.47it/s]\n",
      "Training Epoch 710: 100%|██████████| 500/500 [00:03<00:00, 154.22it/s]\n",
      "Training Epoch 711: 100%|██████████| 500/500 [00:03<00:00, 151.70it/s]\n"
     ]
    },
    {
     "name": "stdout",
     "output_type": "stream",
     "text": [
      "Epoch 710 - Train Loss: 0.1612, Train MSE: 0.1613, Train MAE: 0.2935\n",
      "Epoch 710 - Validation Loss: 1.4976, Validation MSE: 1.4942, Validation MAE: 0.8573\n"
     ]
    },
    {
     "name": "stderr",
     "output_type": "stream",
     "text": [
      "Training Epoch 712: 100%|██████████| 500/500 [00:03<00:00, 152.18it/s]\n",
      "Training Epoch 713: 100%|██████████| 500/500 [00:03<00:00, 153.89it/s]\n",
      "Training Epoch 714: 100%|██████████| 500/500 [00:03<00:00, 162.88it/s]\n",
      "Training Epoch 715: 100%|██████████| 500/500 [00:03<00:00, 152.82it/s]\n",
      "Training Epoch 716: 100%|██████████| 500/500 [00:03<00:00, 159.35it/s]\n",
      "Training Epoch 717: 100%|██████████| 500/500 [00:03<00:00, 156.53it/s]\n",
      "Training Epoch 718: 100%|██████████| 500/500 [00:03<00:00, 166.04it/s]\n",
      "Training Epoch 719: 100%|██████████| 500/500 [00:03<00:00, 163.47it/s]\n",
      "Training Epoch 720: 100%|██████████| 500/500 [00:03<00:00, 156.27it/s]\n",
      "Training Epoch 721: 100%|██████████| 500/500 [00:03<00:00, 145.23it/s]\n"
     ]
    },
    {
     "name": "stdout",
     "output_type": "stream",
     "text": [
      "Epoch 720 - Train Loss: 0.1576, Train MSE: 0.1579, Train MAE: 0.2930\n",
      "Epoch 720 - Validation Loss: 1.4911, Validation MSE: 1.4905, Validation MAE: 0.8601\n"
     ]
    },
    {
     "name": "stderr",
     "output_type": "stream",
     "text": [
      "Training Epoch 722: 100%|██████████| 500/500 [00:03<00:00, 158.55it/s]\n",
      "Training Epoch 723: 100%|██████████| 500/500 [00:03<00:00, 159.20it/s]\n",
      "Training Epoch 724: 100%|██████████| 500/500 [00:03<00:00, 149.69it/s]\n",
      "Training Epoch 725: 100%|██████████| 500/500 [00:03<00:00, 158.48it/s]\n",
      "Training Epoch 726: 100%|██████████| 500/500 [00:03<00:00, 160.53it/s]\n",
      "Training Epoch 727: 100%|██████████| 500/500 [00:03<00:00, 162.69it/s]\n",
      "Training Epoch 728: 100%|██████████| 500/500 [00:02<00:00, 167.09it/s]\n",
      "Training Epoch 729: 100%|██████████| 500/500 [00:03<00:00, 163.69it/s]\n",
      "Training Epoch 730: 100%|██████████| 500/500 [00:03<00:00, 166.64it/s]\n",
      "Training Epoch 731: 100%|██████████| 500/500 [00:02<00:00, 167.12it/s]\n"
     ]
    },
    {
     "name": "stdout",
     "output_type": "stream",
     "text": [
      "Epoch 730 - Train Loss: 0.1643, Train MSE: 0.1632, Train MAE: 0.2952\n",
      "Epoch 730 - Validation Loss: 1.4819, Validation MSE: 1.4811, Validation MAE: 0.8570\n"
     ]
    },
    {
     "name": "stderr",
     "output_type": "stream",
     "text": [
      "Training Epoch 732: 100%|██████████| 500/500 [00:03<00:00, 163.83it/s]\n",
      "Training Epoch 733: 100%|██████████| 500/500 [00:03<00:00, 165.42it/s]\n",
      "Training Epoch 734: 100%|██████████| 500/500 [00:03<00:00, 163.13it/s]\n",
      "Training Epoch 735: 100%|██████████| 500/500 [00:03<00:00, 162.52it/s]\n",
      "Training Epoch 736: 100%|██████████| 500/500 [00:02<00:00, 168.10it/s]\n",
      "Training Epoch 737: 100%|██████████| 500/500 [00:03<00:00, 166.16it/s]\n",
      "Training Epoch 738: 100%|██████████| 500/500 [00:02<00:00, 167.78it/s]\n",
      "Training Epoch 739: 100%|██████████| 500/500 [00:02<00:00, 166.89it/s]\n",
      "Training Epoch 740: 100%|██████████| 500/500 [00:02<00:00, 167.25it/s]\n",
      "Training Epoch 741: 100%|██████████| 500/500 [00:03<00:00, 164.29it/s]\n"
     ]
    },
    {
     "name": "stdout",
     "output_type": "stream",
     "text": [
      "Epoch 740 - Train Loss: 0.1570, Train MSE: 0.1570, Train MAE: 0.2867\n",
      "Epoch 740 - Validation Loss: 1.4925, Validation MSE: 1.4901, Validation MAE: 0.8574\n"
     ]
    },
    {
     "name": "stderr",
     "output_type": "stream",
     "text": [
      "Training Epoch 742: 100%|██████████| 500/500 [00:03<00:00, 159.58it/s]\n",
      "Training Epoch 743: 100%|██████████| 500/500 [00:03<00:00, 166.65it/s]\n",
      "Training Epoch 744: 100%|██████████| 500/500 [00:03<00:00, 164.14it/s]\n",
      "Training Epoch 745: 100%|██████████| 500/500 [00:03<00:00, 166.00it/s]\n",
      "Training Epoch 746: 100%|██████████| 500/500 [00:03<00:00, 166.57it/s]\n",
      "Training Epoch 747: 100%|██████████| 500/500 [00:02<00:00, 167.25it/s]\n",
      "Training Epoch 748: 100%|██████████| 500/500 [00:02<00:00, 166.83it/s]\n",
      "Training Epoch 749: 100%|██████████| 500/500 [00:03<00:00, 165.99it/s]\n",
      "Training Epoch 750: 100%|██████████| 500/500 [00:03<00:00, 164.02it/s]\n",
      "Training Epoch 751: 100%|██████████| 500/500 [00:03<00:00, 166.41it/s]\n"
     ]
    },
    {
     "name": "stdout",
     "output_type": "stream",
     "text": [
      "Epoch 750 - Train Loss: 0.1587, Train MSE: 0.1588, Train MAE: 0.2885\n",
      "Epoch 750 - Validation Loss: 1.4881, Validation MSE: 1.4868, Validation MAE: 0.8630\n"
     ]
    },
    {
     "name": "stderr",
     "output_type": "stream",
     "text": [
      "Training Epoch 752: 100%|██████████| 500/500 [00:03<00:00, 163.23it/s]\n",
      "Training Epoch 753: 100%|██████████| 500/500 [00:03<00:00, 164.61it/s]\n",
      "Training Epoch 754: 100%|██████████| 500/500 [00:02<00:00, 168.64it/s]\n",
      "Training Epoch 755: 100%|██████████| 500/500 [00:03<00:00, 165.14it/s]\n",
      "Training Epoch 756: 100%|██████████| 500/500 [00:02<00:00, 167.45it/s]\n",
      "Training Epoch 757: 100%|██████████| 500/500 [00:03<00:00, 165.13it/s]\n",
      "Training Epoch 758: 100%|██████████| 500/500 [00:03<00:00, 165.38it/s]\n",
      "Training Epoch 759: 100%|██████████| 500/500 [00:02<00:00, 167.37it/s]\n",
      "Training Epoch 760: 100%|██████████| 500/500 [00:03<00:00, 166.19it/s]\n",
      "Training Epoch 761: 100%|██████████| 500/500 [00:03<00:00, 160.40it/s]\n"
     ]
    },
    {
     "name": "stdout",
     "output_type": "stream",
     "text": [
      "Epoch 760 - Train Loss: 0.1528, Train MSE: 0.1529, Train MAE: 0.2853\n",
      "Epoch 760 - Validation Loss: 1.4847, Validation MSE: 1.4815, Validation MAE: 0.8531\n"
     ]
    },
    {
     "name": "stderr",
     "output_type": "stream",
     "text": [
      "Training Epoch 762: 100%|██████████| 500/500 [00:03<00:00, 158.31it/s]\n",
      "Training Epoch 763: 100%|██████████| 500/500 [00:02<00:00, 168.10it/s]\n",
      "Training Epoch 764: 100%|██████████| 500/500 [00:02<00:00, 166.95it/s]\n",
      "Training Epoch 765: 100%|██████████| 500/500 [00:03<00:00, 164.58it/s]\n",
      "Training Epoch 766: 100%|██████████| 500/500 [00:03<00:00, 165.34it/s]\n",
      "Training Epoch 767: 100%|██████████| 500/500 [00:03<00:00, 165.67it/s]\n",
      "Training Epoch 768: 100%|██████████| 500/500 [00:03<00:00, 165.55it/s]\n",
      "Training Epoch 769: 100%|██████████| 500/500 [00:03<00:00, 166.28it/s]\n",
      "Training Epoch 770: 100%|██████████| 500/500 [00:03<00:00, 165.85it/s]\n",
      "Training Epoch 771: 100%|██████████| 500/500 [00:03<00:00, 163.80it/s]\n"
     ]
    },
    {
     "name": "stdout",
     "output_type": "stream",
     "text": [
      "Epoch 770 - Train Loss: 0.1581, Train MSE: 0.1584, Train MAE: 0.2905\n",
      "Epoch 770 - Validation Loss: 1.4932, Validation MSE: 1.4881, Validation MAE: 0.8605\n"
     ]
    },
    {
     "name": "stderr",
     "output_type": "stream",
     "text": [
      "Training Epoch 772: 100%|██████████| 500/500 [00:03<00:00, 159.43it/s]\n",
      "Training Epoch 773: 100%|██████████| 500/500 [00:03<00:00, 166.22it/s]\n",
      "Training Epoch 774: 100%|██████████| 500/500 [00:02<00:00, 169.89it/s]\n",
      "Training Epoch 775: 100%|██████████| 500/500 [00:03<00:00, 166.63it/s]\n",
      "Training Epoch 776: 100%|██████████| 500/500 [00:03<00:00, 166.19it/s]\n",
      "Training Epoch 777: 100%|██████████| 500/500 [00:03<00:00, 165.74it/s]\n",
      "Training Epoch 778: 100%|██████████| 500/500 [00:02<00:00, 168.50it/s]\n",
      "Training Epoch 779: 100%|██████████| 500/500 [00:02<00:00, 167.03it/s]\n",
      "Training Epoch 780: 100%|██████████| 500/500 [00:03<00:00, 162.15it/s]\n",
      "Training Epoch 781: 100%|██████████| 500/500 [00:02<00:00, 167.78it/s]\n"
     ]
    },
    {
     "name": "stdout",
     "output_type": "stream",
     "text": [
      "Epoch 780 - Train Loss: 0.1604, Train MSE: 0.1607, Train MAE: 0.2915\n",
      "Epoch 780 - Validation Loss: 1.4773, Validation MSE: 1.4725, Validation MAE: 0.8565\n"
     ]
    },
    {
     "name": "stderr",
     "output_type": "stream",
     "text": [
      "Training Epoch 782: 100%|██████████| 500/500 [00:02<00:00, 166.82it/s]\n",
      "Training Epoch 783: 100%|██████████| 500/500 [00:02<00:00, 170.18it/s]\n",
      "Training Epoch 784: 100%|██████████| 500/500 [00:02<00:00, 166.96it/s]\n",
      "Training Epoch 785: 100%|██████████| 500/500 [00:02<00:00, 167.14it/s]\n",
      "Training Epoch 786: 100%|██████████| 500/500 [00:02<00:00, 166.80it/s]\n",
      "Training Epoch 787: 100%|██████████| 500/500 [00:02<00:00, 167.87it/s]\n",
      "Training Epoch 788: 100%|██████████| 500/500 [00:03<00:00, 165.78it/s]\n",
      "Training Epoch 789: 100%|██████████| 500/500 [00:02<00:00, 167.53it/s]\n",
      "Training Epoch 790: 100%|██████████| 500/500 [00:03<00:00, 164.74it/s]\n",
      "Training Epoch 791: 100%|██████████| 500/500 [00:03<00:00, 165.04it/s]\n"
     ]
    },
    {
     "name": "stdout",
     "output_type": "stream",
     "text": [
      "Epoch 790 - Train Loss: 0.1497, Train MSE: 0.1500, Train MAE: 0.2842\n",
      "Epoch 790 - Validation Loss: 1.4717, Validation MSE: 1.4693, Validation MAE: 0.8594\n"
     ]
    },
    {
     "name": "stderr",
     "output_type": "stream",
     "text": [
      "Training Epoch 792: 100%|██████████| 500/500 [00:03<00:00, 165.19it/s]\n",
      "Training Epoch 793: 100%|██████████| 500/500 [00:03<00:00, 165.04it/s]\n",
      "Training Epoch 794: 100%|██████████| 500/500 [00:03<00:00, 163.02it/s]\n",
      "Training Epoch 795: 100%|██████████| 500/500 [00:02<00:00, 167.02it/s]\n",
      "Training Epoch 796: 100%|██████████| 500/500 [00:03<00:00, 160.63it/s]\n",
      "Training Epoch 797: 100%|██████████| 500/500 [00:03<00:00, 160.11it/s]\n",
      "Training Epoch 798: 100%|██████████| 500/500 [00:03<00:00, 165.07it/s]\n",
      "Training Epoch 799: 100%|██████████| 500/500 [00:03<00:00, 155.73it/s]\n",
      "Training Epoch 800: 100%|██████████| 500/500 [00:03<00:00, 165.81it/s]\n",
      "Training Epoch 801: 100%|██████████| 500/500 [00:02<00:00, 167.33it/s]\n"
     ]
    },
    {
     "name": "stdout",
     "output_type": "stream",
     "text": [
      "Epoch 800 - Train Loss: 0.1534, Train MSE: 0.1537, Train MAE: 0.2864\n",
      "Epoch 800 - Validation Loss: 1.4760, Validation MSE: 1.4722, Validation MAE: 0.8592\n"
     ]
    },
    {
     "name": "stderr",
     "output_type": "stream",
     "text": [
      "Training Epoch 802: 100%|██████████| 500/500 [00:03<00:00, 161.87it/s]\n",
      "Training Epoch 803: 100%|██████████| 500/500 [00:03<00:00, 164.30it/s]\n",
      "Training Epoch 804: 100%|██████████| 500/500 [00:03<00:00, 165.36it/s]\n",
      "Training Epoch 805: 100%|██████████| 500/500 [00:03<00:00, 166.48it/s]\n",
      "Training Epoch 806: 100%|██████████| 500/500 [00:02<00:00, 167.43it/s]\n",
      "Training Epoch 807: 100%|██████████| 500/500 [00:03<00:00, 165.30it/s]\n",
      "Training Epoch 808: 100%|██████████| 500/500 [00:03<00:00, 165.26it/s]\n",
      "Training Epoch 809: 100%|██████████| 500/500 [00:02<00:00, 167.71it/s]\n",
      "Training Epoch 810: 100%|██████████| 500/500 [00:02<00:00, 167.68it/s]\n",
      "Training Epoch 811: 100%|██████████| 500/500 [00:03<00:00, 165.57it/s]\n"
     ]
    },
    {
     "name": "stdout",
     "output_type": "stream",
     "text": [
      "Epoch 810 - Train Loss: 0.1515, Train MSE: 0.1515, Train MAE: 0.2830\n",
      "Epoch 810 - Validation Loss: 1.5070, Validation MSE: 1.5041, Validation MAE: 0.8662\n"
     ]
    },
    {
     "name": "stderr",
     "output_type": "stream",
     "text": [
      "Training Epoch 812: 100%|██████████| 500/500 [00:03<00:00, 163.47it/s]\n",
      "Training Epoch 813: 100%|██████████| 500/500 [00:03<00:00, 163.68it/s]\n",
      "Training Epoch 814: 100%|██████████| 500/500 [00:03<00:00, 165.65it/s]\n",
      "Training Epoch 815: 100%|██████████| 500/500 [00:03<00:00, 165.72it/s]\n",
      "Training Epoch 816: 100%|██████████| 500/500 [00:03<00:00, 165.88it/s]\n",
      "Training Epoch 817: 100%|██████████| 500/500 [00:03<00:00, 152.50it/s]\n",
      "Training Epoch 818: 100%|██████████| 500/500 [00:03<00:00, 161.84it/s]\n",
      "Training Epoch 819: 100%|██████████| 500/500 [00:03<00:00, 164.01it/s]\n",
      "Training Epoch 820: 100%|██████████| 500/500 [00:02<00:00, 167.15it/s]\n",
      "Training Epoch 821: 100%|██████████| 500/500 [00:03<00:00, 161.32it/s]\n"
     ]
    },
    {
     "name": "stdout",
     "output_type": "stream",
     "text": [
      "Epoch 820 - Train Loss: 0.1590, Train MSE: 0.1592, Train MAE: 0.2872\n",
      "Epoch 820 - Validation Loss: 1.4858, Validation MSE: 1.4839, Validation MAE: 0.8567\n"
     ]
    },
    {
     "name": "stderr",
     "output_type": "stream",
     "text": [
      "Training Epoch 822: 100%|██████████| 500/500 [00:02<00:00, 167.78it/s]\n",
      "Training Epoch 823: 100%|██████████| 500/500 [00:03<00:00, 165.62it/s]\n",
      "Training Epoch 824: 100%|██████████| 500/500 [00:03<00:00, 164.41it/s]\n",
      "Training Epoch 825: 100%|██████████| 500/500 [00:03<00:00, 165.65it/s]\n",
      "Training Epoch 826: 100%|██████████| 500/500 [00:03<00:00, 163.21it/s]\n",
      "Training Epoch 827: 100%|██████████| 500/500 [00:03<00:00, 160.95it/s]\n",
      "Training Epoch 828: 100%|██████████| 500/500 [00:03<00:00, 161.76it/s]\n",
      "Training Epoch 829: 100%|██████████| 500/500 [00:03<00:00, 166.04it/s]\n",
      "Training Epoch 830: 100%|██████████| 500/500 [00:03<00:00, 162.75it/s]\n",
      "Training Epoch 831: 100%|██████████| 500/500 [00:03<00:00, 164.26it/s]\n"
     ]
    },
    {
     "name": "stdout",
     "output_type": "stream",
     "text": [
      "Epoch 830 - Train Loss: 0.1446, Train MSE: 0.1448, Train MAE: 0.2790\n",
      "Epoch 830 - Validation Loss: 1.4792, Validation MSE: 1.4765, Validation MAE: 0.8558\n"
     ]
    },
    {
     "name": "stderr",
     "output_type": "stream",
     "text": [
      "Training Epoch 832: 100%|██████████| 500/500 [00:03<00:00, 160.21it/s]\n",
      "Training Epoch 833: 100%|██████████| 500/500 [00:03<00:00, 166.21it/s]\n",
      "Training Epoch 834: 100%|██████████| 500/500 [00:03<00:00, 164.84it/s]\n",
      "Training Epoch 835: 100%|██████████| 500/500 [00:03<00:00, 163.07it/s]\n",
      "Training Epoch 836: 100%|██████████| 500/500 [00:03<00:00, 164.42it/s]\n",
      "Training Epoch 837: 100%|██████████| 500/500 [00:03<00:00, 162.70it/s]\n",
      "Training Epoch 838: 100%|██████████| 500/500 [00:02<00:00, 166.96it/s]\n",
      "Training Epoch 839: 100%|██████████| 500/500 [00:03<00:00, 159.80it/s]\n",
      "Training Epoch 840: 100%|██████████| 500/500 [00:03<00:00, 163.84it/s]\n",
      "Training Epoch 841: 100%|██████████| 500/500 [00:03<00:00, 163.19it/s]\n"
     ]
    },
    {
     "name": "stdout",
     "output_type": "stream",
     "text": [
      "Epoch 840 - Train Loss: 0.1581, Train MSE: 0.1477, Train MAE: 0.2822\n",
      "Epoch 840 - Validation Loss: 1.5050, Validation MSE: 1.5058, Validation MAE: 0.8599\n"
     ]
    },
    {
     "name": "stderr",
     "output_type": "stream",
     "text": [
      "Training Epoch 842: 100%|██████████| 500/500 [00:03<00:00, 163.61it/s]\n",
      "Training Epoch 843: 100%|██████████| 500/500 [00:03<00:00, 165.00it/s]\n",
      "Training Epoch 844: 100%|██████████| 500/500 [00:03<00:00, 165.18it/s]\n",
      "Training Epoch 845: 100%|██████████| 500/500 [00:03<00:00, 166.25it/s]\n",
      "Training Epoch 846: 100%|██████████| 500/500 [00:02<00:00, 170.76it/s]\n",
      "Training Epoch 847: 100%|██████████| 500/500 [00:03<00:00, 163.36it/s]\n",
      "Training Epoch 848: 100%|██████████| 500/500 [00:03<00:00, 165.84it/s]\n",
      "Training Epoch 849: 100%|██████████| 500/500 [00:03<00:00, 163.66it/s]\n",
      "Training Epoch 850: 100%|██████████| 500/500 [00:03<00:00, 161.48it/s]\n",
      "Training Epoch 851: 100%|██████████| 500/500 [00:03<00:00, 163.33it/s]\n"
     ]
    },
    {
     "name": "stdout",
     "output_type": "stream",
     "text": [
      "Epoch 850 - Train Loss: 0.1490, Train MSE: 0.1478, Train MAE: 0.2769\n",
      "Epoch 850 - Validation Loss: 1.5000, Validation MSE: 1.4970, Validation MAE: 0.8593\n"
     ]
    },
    {
     "name": "stderr",
     "output_type": "stream",
     "text": [
      "Training Epoch 852: 100%|██████████| 500/500 [00:02<00:00, 168.07it/s]\n",
      "Training Epoch 853: 100%|██████████| 500/500 [00:03<00:00, 164.68it/s]\n",
      "Training Epoch 854: 100%|██████████| 500/500 [00:02<00:00, 167.37it/s]\n",
      "Training Epoch 855: 100%|██████████| 500/500 [00:03<00:00, 150.54it/s]\n",
      "Training Epoch 856: 100%|██████████| 500/500 [00:03<00:00, 157.62it/s]\n",
      "Training Epoch 857: 100%|██████████| 500/500 [00:03<00:00, 160.09it/s]\n",
      "Training Epoch 858: 100%|██████████| 500/500 [00:03<00:00, 165.43it/s]\n",
      "Training Epoch 859: 100%|██████████| 500/500 [00:03<00:00, 160.82it/s]\n",
      "Training Epoch 860: 100%|██████████| 500/500 [00:03<00:00, 163.36it/s]\n",
      "Training Epoch 861: 100%|██████████| 500/500 [00:02<00:00, 166.85it/s]\n"
     ]
    },
    {
     "name": "stdout",
     "output_type": "stream",
     "text": [
      "Epoch 860 - Train Loss: 0.1478, Train MSE: 0.1481, Train MAE: 0.2799\n",
      "Epoch 860 - Validation Loss: 1.4734, Validation MSE: 1.4698, Validation MAE: 0.8512\n"
     ]
    },
    {
     "name": "stderr",
     "output_type": "stream",
     "text": [
      "Training Epoch 862: 100%|██████████| 500/500 [00:03<00:00, 164.67it/s]\n",
      "Training Epoch 863: 100%|██████████| 500/500 [00:03<00:00, 162.30it/s]\n",
      "Training Epoch 864: 100%|██████████| 500/500 [00:03<00:00, 164.07it/s]\n",
      "Training Epoch 865: 100%|██████████| 500/500 [00:03<00:00, 161.28it/s]\n",
      "Training Epoch 866: 100%|██████████| 500/500 [00:02<00:00, 166.98it/s]\n",
      "Training Epoch 867: 100%|██████████| 500/500 [00:03<00:00, 163.39it/s]\n",
      "Training Epoch 868: 100%|██████████| 500/500 [00:03<00:00, 165.51it/s]\n",
      "Training Epoch 869: 100%|██████████| 500/500 [00:02<00:00, 167.09it/s]\n",
      "Training Epoch 870: 100%|██████████| 500/500 [00:03<00:00, 165.02it/s]\n",
      "Training Epoch 871: 100%|██████████| 500/500 [00:02<00:00, 167.05it/s]\n"
     ]
    },
    {
     "name": "stdout",
     "output_type": "stream",
     "text": [
      "Epoch 870 - Train Loss: 0.1451, Train MSE: 0.1453, Train MAE: 0.2784\n",
      "Epoch 870 - Validation Loss: 1.4871, Validation MSE: 1.4856, Validation MAE: 0.8596\n"
     ]
    },
    {
     "name": "stderr",
     "output_type": "stream",
     "text": [
      "Training Epoch 872: 100%|██████████| 500/500 [00:02<00:00, 167.30it/s]\n",
      "Training Epoch 873: 100%|██████████| 500/500 [00:03<00:00, 156.25it/s]\n",
      "Training Epoch 874: 100%|██████████| 500/500 [00:03<00:00, 163.55it/s]\n",
      "Training Epoch 875: 100%|██████████| 500/500 [00:03<00:00, 164.70it/s]\n",
      "Training Epoch 876: 100%|██████████| 500/500 [00:03<00:00, 160.73it/s]\n",
      "Training Epoch 877: 100%|██████████| 500/500 [00:02<00:00, 169.61it/s]\n",
      "Training Epoch 878: 100%|██████████| 500/500 [00:03<00:00, 160.82it/s]\n",
      "Training Epoch 879: 100%|██████████| 500/500 [00:03<00:00, 166.18it/s]\n",
      "Training Epoch 880: 100%|██████████| 500/500 [00:03<00:00, 158.19it/s]\n",
      "Training Epoch 881: 100%|██████████| 500/500 [00:03<00:00, 165.58it/s]\n"
     ]
    },
    {
     "name": "stdout",
     "output_type": "stream",
     "text": [
      "Epoch 880 - Train Loss: 0.1445, Train MSE: 0.1448, Train MAE: 0.2772\n",
      "Epoch 880 - Validation Loss: 1.4877, Validation MSE: 1.4864, Validation MAE: 0.8590\n"
     ]
    },
    {
     "name": "stderr",
     "output_type": "stream",
     "text": [
      "Training Epoch 882: 100%|██████████| 500/500 [00:03<00:00, 153.88it/s]\n",
      "Training Epoch 883: 100%|██████████| 500/500 [00:03<00:00, 165.80it/s]\n",
      "Training Epoch 884: 100%|██████████| 500/500 [00:03<00:00, 163.67it/s]\n",
      "Training Epoch 885: 100%|██████████| 500/500 [00:03<00:00, 161.93it/s]\n",
      "Training Epoch 886: 100%|██████████| 500/500 [00:03<00:00, 159.77it/s]\n",
      "Training Epoch 887: 100%|██████████| 500/500 [00:03<00:00, 166.53it/s]\n",
      "Training Epoch 888: 100%|██████████| 500/500 [00:03<00:00, 160.12it/s]\n",
      "Training Epoch 889: 100%|██████████| 500/500 [00:02<00:00, 167.55it/s]\n",
      "Training Epoch 890: 100%|██████████| 500/500 [00:03<00:00, 166.31it/s]\n",
      "Training Epoch 891: 100%|██████████| 500/500 [00:03<00:00, 163.27it/s]\n"
     ]
    },
    {
     "name": "stdout",
     "output_type": "stream",
     "text": [
      "Epoch 890 - Train Loss: 0.1417, Train MSE: 0.1417, Train MAE: 0.2767\n",
      "Epoch 890 - Validation Loss: 1.4962, Validation MSE: 1.4921, Validation MAE: 0.8628\n"
     ]
    },
    {
     "name": "stderr",
     "output_type": "stream",
     "text": [
      "Training Epoch 892: 100%|██████████| 500/500 [00:03<00:00, 160.01it/s]\n",
      "Training Epoch 893: 100%|██████████| 500/500 [00:03<00:00, 159.85it/s]\n",
      "Training Epoch 894: 100%|██████████| 500/500 [00:03<00:00, 160.67it/s]\n",
      "Training Epoch 895: 100%|██████████| 500/500 [00:03<00:00, 165.54it/s]\n",
      "Training Epoch 896: 100%|██████████| 500/500 [00:03<00:00, 163.02it/s]\n",
      "Training Epoch 897: 100%|██████████| 500/500 [00:03<00:00, 156.90it/s]\n",
      "Training Epoch 898: 100%|██████████| 500/500 [00:03<00:00, 161.47it/s]\n",
      "Training Epoch 899: 100%|██████████| 500/500 [00:03<00:00, 164.41it/s]\n",
      "Training Epoch 900: 100%|██████████| 500/500 [00:03<00:00, 162.83it/s]\n",
      "Training Epoch 901: 100%|██████████| 500/500 [00:03<00:00, 162.53it/s]\n"
     ]
    },
    {
     "name": "stdout",
     "output_type": "stream",
     "text": [
      "Epoch 900 - Train Loss: 0.1388, Train MSE: 0.1391, Train MAE: 0.2713\n",
      "Epoch 900 - Validation Loss: 1.4867, Validation MSE: 1.4818, Validation MAE: 0.8597\n"
     ]
    },
    {
     "name": "stderr",
     "output_type": "stream",
     "text": [
      "Training Epoch 902: 100%|██████████| 500/500 [00:03<00:00, 162.85it/s]\n",
      "Training Epoch 903: 100%|██████████| 500/500 [00:03<00:00, 159.52it/s]\n",
      "Training Epoch 904: 100%|██████████| 500/500 [00:02<00:00, 166.84it/s]\n",
      "Training Epoch 905: 100%|██████████| 500/500 [00:03<00:00, 159.85it/s]\n",
      "Training Epoch 906: 100%|██████████| 500/500 [00:03<00:00, 164.02it/s]\n",
      "Training Epoch 907: 100%|██████████| 500/500 [00:03<00:00, 162.79it/s]\n",
      "Training Epoch 908: 100%|██████████| 500/500 [00:03<00:00, 163.24it/s]\n",
      "Training Epoch 909: 100%|██████████| 500/500 [00:03<00:00, 162.17it/s]\n",
      "Training Epoch 910: 100%|██████████| 500/500 [00:03<00:00, 153.70it/s]\n",
      "Training Epoch 911: 100%|██████████| 500/500 [00:03<00:00, 153.85it/s]\n"
     ]
    },
    {
     "name": "stdout",
     "output_type": "stream",
     "text": [
      "Epoch 910 - Train Loss: 0.1402, Train MSE: 0.1405, Train MAE: 0.2732\n",
      "Epoch 910 - Validation Loss: 1.4807, Validation MSE: 1.4767, Validation MAE: 0.8548\n"
     ]
    },
    {
     "name": "stderr",
     "output_type": "stream",
     "text": [
      "Training Epoch 912: 100%|██████████| 500/500 [00:03<00:00, 159.27it/s]\n",
      "Training Epoch 913: 100%|██████████| 500/500 [00:03<00:00, 157.96it/s]\n",
      "Training Epoch 914: 100%|██████████| 500/500 [00:03<00:00, 159.20it/s]\n",
      "Training Epoch 915: 100%|██████████| 500/500 [00:03<00:00, 162.69it/s]\n",
      "Training Epoch 916: 100%|██████████| 500/500 [00:03<00:00, 154.64it/s]\n",
      "Training Epoch 917: 100%|██████████| 500/500 [00:03<00:00, 148.43it/s]\n",
      "Training Epoch 918: 100%|██████████| 500/500 [00:03<00:00, 156.04it/s]\n",
      "Training Epoch 919: 100%|██████████| 500/500 [00:03<00:00, 148.93it/s]\n",
      "Training Epoch 920: 100%|██████████| 500/500 [00:03<00:00, 159.35it/s]\n",
      "Training Epoch 921: 100%|██████████| 500/500 [00:03<00:00, 165.45it/s]\n"
     ]
    },
    {
     "name": "stdout",
     "output_type": "stream",
     "text": [
      "Epoch 920 - Train Loss: 0.1396, Train MSE: 0.1399, Train MAE: 0.2712\n",
      "Epoch 920 - Validation Loss: 1.4903, Validation MSE: 1.4861, Validation MAE: 0.8552\n"
     ]
    },
    {
     "name": "stderr",
     "output_type": "stream",
     "text": [
      "Training Epoch 922: 100%|██████████| 500/500 [00:03<00:00, 160.71it/s]\n",
      "Training Epoch 923: 100%|██████████| 500/500 [00:03<00:00, 160.91it/s]\n",
      "Training Epoch 924: 100%|██████████| 500/500 [00:03<00:00, 160.89it/s]\n",
      "Training Epoch 925: 100%|██████████| 500/500 [00:03<00:00, 165.17it/s]\n",
      "Training Epoch 926: 100%|██████████| 500/500 [00:03<00:00, 166.55it/s]\n",
      "Training Epoch 927: 100%|██████████| 500/500 [00:02<00:00, 167.62it/s]\n",
      "Training Epoch 928: 100%|██████████| 500/500 [00:03<00:00, 155.84it/s]\n",
      "Training Epoch 929: 100%|██████████| 500/500 [00:03<00:00, 165.83it/s]\n",
      "Training Epoch 930: 100%|██████████| 500/500 [00:03<00:00, 165.81it/s]\n",
      "Training Epoch 931: 100%|██████████| 500/500 [00:03<00:00, 165.72it/s]\n"
     ]
    },
    {
     "name": "stdout",
     "output_type": "stream",
     "text": [
      "Epoch 930 - Train Loss: 0.1426, Train MSE: 0.1428, Train MAE: 0.2753\n",
      "Epoch 930 - Validation Loss: 1.4823, Validation MSE: 1.4785, Validation MAE: 0.8546\n"
     ]
    },
    {
     "name": "stderr",
     "output_type": "stream",
     "text": [
      "Training Epoch 932: 100%|██████████| 500/500 [00:02<00:00, 168.94it/s]\n",
      "Training Epoch 933: 100%|██████████| 500/500 [00:03<00:00, 160.80it/s]\n",
      "Training Epoch 934: 100%|██████████| 500/500 [00:03<00:00, 166.02it/s]\n",
      "Training Epoch 935: 100%|██████████| 500/500 [00:03<00:00, 164.49it/s]\n",
      "Training Epoch 936: 100%|██████████| 500/500 [00:02<00:00, 169.48it/s]\n",
      "Training Epoch 937: 100%|██████████| 500/500 [00:03<00:00, 164.56it/s]\n",
      "Training Epoch 938: 100%|██████████| 500/500 [00:03<00:00, 165.75it/s]\n",
      "Training Epoch 939: 100%|██████████| 500/500 [00:03<00:00, 165.37it/s]\n",
      "Training Epoch 940: 100%|██████████| 500/500 [00:03<00:00, 165.20it/s]\n",
      "Training Epoch 941: 100%|██████████| 500/500 [00:03<00:00, 165.10it/s]\n"
     ]
    },
    {
     "name": "stdout",
     "output_type": "stream",
     "text": [
      "Epoch 940 - Train Loss: 0.1395, Train MSE: 0.1397, Train MAE: 0.2724\n",
      "Epoch 940 - Validation Loss: 1.4595, Validation MSE: 1.4585, Validation MAE: 0.8488\n"
     ]
    },
    {
     "name": "stderr",
     "output_type": "stream",
     "text": [
      "Training Epoch 942: 100%|██████████| 500/500 [00:03<00:00, 165.54it/s]\n",
      "Training Epoch 943: 100%|██████████| 500/500 [00:02<00:00, 167.96it/s]\n",
      "Training Epoch 944: 100%|██████████| 500/500 [00:03<00:00, 165.48it/s]\n",
      "Training Epoch 945: 100%|██████████| 500/500 [00:02<00:00, 167.24it/s]\n",
      "Training Epoch 946: 100%|██████████| 500/500 [00:03<00:00, 166.48it/s]\n",
      "Training Epoch 947: 100%|██████████| 500/500 [00:02<00:00, 169.51it/s]\n",
      "Training Epoch 948: 100%|██████████| 500/500 [00:03<00:00, 162.82it/s]\n",
      "Training Epoch 949: 100%|██████████| 500/500 [00:03<00:00, 165.88it/s]\n",
      "Training Epoch 950: 100%|██████████| 500/500 [00:03<00:00, 165.97it/s]\n",
      "Training Epoch 951: 100%|██████████| 500/500 [00:03<00:00, 164.39it/s]\n"
     ]
    },
    {
     "name": "stdout",
     "output_type": "stream",
     "text": [
      "Epoch 950 - Train Loss: 0.1412, Train MSE: 0.1414, Train MAE: 0.2726\n",
      "Epoch 950 - Validation Loss: 1.4546, Validation MSE: 1.4503, Validation MAE: 0.8455\n"
     ]
    },
    {
     "name": "stderr",
     "output_type": "stream",
     "text": [
      "Training Epoch 952: 100%|██████████| 500/500 [00:03<00:00, 165.45it/s]\n",
      "Training Epoch 953: 100%|██████████| 500/500 [00:03<00:00, 165.58it/s]\n",
      "Training Epoch 954: 100%|██████████| 500/500 [00:03<00:00, 166.09it/s]\n",
      "Training Epoch 955: 100%|██████████| 500/500 [00:03<00:00, 164.45it/s]\n",
      "Training Epoch 956: 100%|██████████| 500/500 [00:03<00:00, 164.58it/s]\n",
      "Training Epoch 957: 100%|██████████| 500/500 [00:03<00:00, 163.59it/s]\n",
      "Training Epoch 958: 100%|██████████| 500/500 [00:02<00:00, 167.30it/s]\n",
      "Training Epoch 959: 100%|██████████| 500/500 [00:03<00:00, 165.24it/s]\n",
      "Training Epoch 960: 100%|██████████| 500/500 [00:02<00:00, 167.08it/s]\n",
      "Training Epoch 961: 100%|██████████| 500/500 [00:03<00:00, 164.32it/s]\n"
     ]
    },
    {
     "name": "stdout",
     "output_type": "stream",
     "text": [
      "Epoch 960 - Train Loss: 0.1340, Train MSE: 0.1338, Train MAE: 0.2670\n",
      "Epoch 960 - Validation Loss: 1.4821, Validation MSE: 1.4770, Validation MAE: 0.8531\n"
     ]
    },
    {
     "name": "stderr",
     "output_type": "stream",
     "text": [
      "Training Epoch 962: 100%|██████████| 500/500 [00:03<00:00, 166.37it/s]\n",
      "Training Epoch 963: 100%|██████████| 500/500 [00:03<00:00, 166.05it/s]\n",
      "Training Epoch 964: 100%|██████████| 500/500 [00:03<00:00, 163.96it/s]\n",
      "Training Epoch 965: 100%|██████████| 500/500 [00:03<00:00, 154.36it/s]\n",
      "Training Epoch 966: 100%|██████████| 500/500 [00:03<00:00, 164.19it/s]\n",
      "Training Epoch 967: 100%|██████████| 500/500 [00:03<00:00, 166.38it/s]\n",
      "Training Epoch 968: 100%|██████████| 500/500 [00:03<00:00, 166.20it/s]\n",
      "Training Epoch 969: 100%|██████████| 500/500 [00:03<00:00, 164.98it/s]\n",
      "Training Epoch 970: 100%|██████████| 500/500 [00:03<00:00, 166.07it/s]\n",
      "Training Epoch 971: 100%|██████████| 500/500 [00:02<00:00, 168.50it/s]\n"
     ]
    },
    {
     "name": "stdout",
     "output_type": "stream",
     "text": [
      "Epoch 970 - Train Loss: 0.1322, Train MSE: 0.1324, Train MAE: 0.2664\n",
      "Epoch 970 - Validation Loss: 1.5009, Validation MSE: 1.4981, Validation MAE: 0.8578\n"
     ]
    },
    {
     "name": "stderr",
     "output_type": "stream",
     "text": [
      "Training Epoch 972: 100%|██████████| 500/500 [00:02<00:00, 167.00it/s]\n",
      "Training Epoch 973: 100%|██████████| 500/500 [00:02<00:00, 169.92it/s]\n",
      "Training Epoch 974: 100%|██████████| 500/500 [00:02<00:00, 168.31it/s]\n",
      "Training Epoch 975: 100%|██████████| 500/500 [00:03<00:00, 164.23it/s]\n",
      "Training Epoch 976: 100%|██████████| 500/500 [00:02<00:00, 167.56it/s]\n",
      "Training Epoch 977: 100%|██████████| 500/500 [00:02<00:00, 185.91it/s]\n",
      "Training Epoch 978: 100%|██████████| 500/500 [00:02<00:00, 193.17it/s]\n",
      "Training Epoch 979: 100%|██████████| 500/500 [00:02<00:00, 189.65it/s]\n",
      "Training Epoch 980: 100%|██████████| 500/500 [00:02<00:00, 189.32it/s]\n",
      "Training Epoch 981: 100%|██████████| 500/500 [00:02<00:00, 192.89it/s]\n"
     ]
    },
    {
     "name": "stdout",
     "output_type": "stream",
     "text": [
      "Epoch 980 - Train Loss: 0.1351, Train MSE: 0.1353, Train MAE: 0.2691\n",
      "Epoch 980 - Validation Loss: 1.4948, Validation MSE: 1.4909, Validation MAE: 0.8593\n"
     ]
    },
    {
     "name": "stderr",
     "output_type": "stream",
     "text": [
      "Training Epoch 982: 100%|██████████| 500/500 [00:02<00:00, 187.39it/s]\n",
      "Training Epoch 983: 100%|██████████| 500/500 [00:02<00:00, 192.18it/s]\n",
      "Training Epoch 984: 100%|██████████| 500/500 [00:02<00:00, 190.23it/s]\n",
      "Training Epoch 985: 100%|██████████| 500/500 [00:02<00:00, 183.32it/s]\n",
      "Training Epoch 986: 100%|██████████| 500/500 [00:02<00:00, 193.61it/s]\n",
      "Training Epoch 987: 100%|██████████| 500/500 [00:02<00:00, 187.16it/s]\n",
      "Training Epoch 988: 100%|██████████| 500/500 [00:02<00:00, 195.70it/s]\n",
      "Training Epoch 989: 100%|██████████| 500/500 [00:02<00:00, 190.70it/s]\n",
      "Training Epoch 990: 100%|██████████| 500/500 [00:02<00:00, 186.77it/s]\n",
      "Training Epoch 991: 100%|██████████| 500/500 [00:02<00:00, 191.27it/s]\n"
     ]
    },
    {
     "name": "stdout",
     "output_type": "stream",
     "text": [
      "Epoch 990 - Train Loss: 0.1325, Train MSE: 0.1327, Train MAE: 0.2665\n",
      "Epoch 990 - Validation Loss: 1.4851, Validation MSE: 1.4791, Validation MAE: 0.8548\n"
     ]
    },
    {
     "name": "stderr",
     "output_type": "stream",
     "text": [
      "Training Epoch 992: 100%|██████████| 500/500 [00:02<00:00, 185.50it/s]\n",
      "Training Epoch 993: 100%|██████████| 500/500 [00:02<00:00, 193.27it/s]\n",
      "Training Epoch 994: 100%|██████████| 500/500 [00:02<00:00, 191.72it/s]\n",
      "Training Epoch 995: 100%|██████████| 500/500 [00:02<00:00, 187.37it/s]\n",
      "Training Epoch 996: 100%|██████████| 500/500 [00:02<00:00, 192.96it/s]\n",
      "Training Epoch 997: 100%|██████████| 500/500 [00:02<00:00, 187.48it/s]\n",
      "Training Epoch 998: 100%|██████████| 500/500 [00:02<00:00, 189.81it/s]\n",
      "Training Epoch 999: 100%|██████████| 500/500 [00:02<00:00, 190.56it/s]\n",
      "Training Epoch 1000: 100%|██████████| 500/500 [00:02<00:00, 185.04it/s]\n",
      "Training Epoch 1001: 100%|██████████| 500/500 [00:02<00:00, 191.52it/s]\n"
     ]
    },
    {
     "name": "stdout",
     "output_type": "stream",
     "text": [
      "Epoch 1000 - Train Loss: 0.1320, Train MSE: 0.1321, Train MAE: 0.2664\n",
      "Epoch 1000 - Validation Loss: 1.5018, Validation MSE: 1.4971, Validation MAE: 0.8622\n"
     ]
    },
    {
     "name": "stderr",
     "output_type": "stream",
     "text": [
      "Training Epoch 1002: 100%|██████████| 500/500 [00:02<00:00, 189.00it/s]\n",
      "Training Epoch 1003: 100%|██████████| 500/500 [00:02<00:00, 185.18it/s]\n",
      "Training Epoch 1004: 100%|██████████| 500/500 [00:02<00:00, 190.95it/s]\n",
      "Training Epoch 1005: 100%|██████████| 500/500 [00:02<00:00, 187.21it/s]\n",
      "Training Epoch 1006: 100%|██████████| 500/500 [00:02<00:00, 192.62it/s]\n",
      "Training Epoch 1007: 100%|██████████| 500/500 [00:02<00:00, 186.56it/s]\n",
      "Training Epoch 1008: 100%|██████████| 500/500 [00:02<00:00, 187.91it/s]\n",
      "Training Epoch 1009: 100%|██████████| 500/500 [00:02<00:00, 187.24it/s]\n",
      "Training Epoch 1010: 100%|██████████| 500/500 [00:02<00:00, 186.17it/s]\n",
      "Training Epoch 1011: 100%|██████████| 500/500 [00:02<00:00, 189.67it/s]\n"
     ]
    },
    {
     "name": "stdout",
     "output_type": "stream",
     "text": [
      "Epoch 1010 - Train Loss: 0.1305, Train MSE: 0.1307, Train MAE: 0.2658\n",
      "Epoch 1010 - Validation Loss: 1.4741, Validation MSE: 1.4691, Validation MAE: 0.8512\n"
     ]
    },
    {
     "name": "stderr",
     "output_type": "stream",
     "text": [
      "Training Epoch 1012: 100%|██████████| 500/500 [00:02<00:00, 191.57it/s]\n",
      "Training Epoch 1013: 100%|██████████| 500/500 [00:02<00:00, 187.81it/s]\n",
      "Training Epoch 1014: 100%|██████████| 500/500 [00:02<00:00, 193.43it/s]\n",
      "Training Epoch 1015: 100%|██████████| 500/500 [00:02<00:00, 184.46it/s]\n",
      "Training Epoch 1016: 100%|██████████| 500/500 [00:02<00:00, 190.48it/s]\n",
      "Training Epoch 1017: 100%|██████████| 500/500 [00:02<00:00, 192.91it/s]\n",
      "Training Epoch 1018: 100%|██████████| 500/500 [00:02<00:00, 186.04it/s]\n",
      "Training Epoch 1019: 100%|██████████| 500/500 [00:02<00:00, 186.94it/s]\n",
      "Training Epoch 1020: 100%|██████████| 500/500 [00:02<00:00, 187.64it/s]\n",
      "Training Epoch 1021: 100%|██████████| 500/500 [00:02<00:00, 191.34it/s]\n"
     ]
    },
    {
     "name": "stdout",
     "output_type": "stream",
     "text": [
      "Epoch 1020 - Train Loss: 0.1353, Train MSE: 0.1353, Train MAE: 0.2691\n",
      "Epoch 1020 - Validation Loss: 1.4820, Validation MSE: 1.4783, Validation MAE: 0.8581\n"
     ]
    },
    {
     "name": "stderr",
     "output_type": "stream",
     "text": [
      "Training Epoch 1022: 100%|██████████| 500/500 [00:02<00:00, 190.59it/s]\n",
      "Training Epoch 1023: 100%|██████████| 500/500 [00:02<00:00, 190.17it/s]\n",
      "Training Epoch 1024: 100%|██████████| 500/500 [00:02<00:00, 188.21it/s]\n",
      "Training Epoch 1025: 100%|██████████| 500/500 [00:02<00:00, 187.39it/s]\n",
      "Training Epoch 1026: 100%|██████████| 500/500 [00:02<00:00, 187.49it/s]\n",
      "Training Epoch 1027: 100%|██████████| 500/500 [00:02<00:00, 196.79it/s]\n",
      "Training Epoch 1028: 100%|██████████| 500/500 [00:02<00:00, 179.96it/s]\n",
      "Training Epoch 1029: 100%|██████████| 500/500 [00:02<00:00, 189.70it/s]\n",
      "Training Epoch 1030: 100%|██████████| 500/500 [00:02<00:00, 185.24it/s]\n",
      "Training Epoch 1031: 100%|██████████| 500/500 [00:02<00:00, 191.27it/s]\n"
     ]
    },
    {
     "name": "stdout",
     "output_type": "stream",
     "text": [
      "Epoch 1030 - Train Loss: 0.1315, Train MSE: 0.1316, Train MAE: 0.2649\n",
      "Epoch 1030 - Validation Loss: 1.4954, Validation MSE: 1.4927, Validation MAE: 0.8615\n"
     ]
    },
    {
     "name": "stderr",
     "output_type": "stream",
     "text": [
      "Training Epoch 1032: 100%|██████████| 500/500 [00:02<00:00, 191.23it/s]\n",
      "Training Epoch 1033: 100%|██████████| 500/500 [00:02<00:00, 189.24it/s]\n",
      "Training Epoch 1034: 100%|██████████| 500/500 [00:02<00:00, 193.45it/s]\n",
      "Training Epoch 1035: 100%|██████████| 500/500 [00:02<00:00, 193.86it/s]\n",
      "Training Epoch 1036: 100%|██████████| 500/500 [00:02<00:00, 190.84it/s]\n",
      "Training Epoch 1037: 100%|██████████| 500/500 [00:02<00:00, 191.34it/s]\n",
      "Training Epoch 1038: 100%|██████████| 500/500 [00:02<00:00, 186.05it/s]\n",
      "Training Epoch 1039: 100%|██████████| 500/500 [00:02<00:00, 191.70it/s]\n",
      "Training Epoch 1040: 100%|██████████| 500/500 [00:02<00:00, 188.04it/s]\n",
      "Training Epoch 1041: 100%|██████████| 500/500 [00:02<00:00, 187.91it/s]\n"
     ]
    },
    {
     "name": "stdout",
     "output_type": "stream",
     "text": [
      "Epoch 1040 - Train Loss: 0.1253, Train MSE: 0.1254, Train MAE: 0.2616\n",
      "Epoch 1040 - Validation Loss: 1.4874, Validation MSE: 1.4822, Validation MAE: 0.8563\n"
     ]
    },
    {
     "name": "stderr",
     "output_type": "stream",
     "text": [
      "Training Epoch 1042: 100%|██████████| 500/500 [00:02<00:00, 191.50it/s]\n",
      "Training Epoch 1043: 100%|██████████| 500/500 [00:02<00:00, 185.67it/s]\n",
      "Training Epoch 1044: 100%|██████████| 500/500 [00:02<00:00, 196.37it/s]\n",
      "Training Epoch 1045: 100%|██████████| 500/500 [00:02<00:00, 188.87it/s]\n",
      "Training Epoch 1046: 100%|██████████| 500/500 [00:02<00:00, 188.98it/s]\n",
      "Training Epoch 1047: 100%|██████████| 500/500 [00:02<00:00, 192.77it/s]\n",
      "Training Epoch 1048: 100%|██████████| 500/500 [00:02<00:00, 192.21it/s]\n",
      "Training Epoch 1049: 100%|██████████| 500/500 [00:02<00:00, 182.58it/s]\n",
      "Training Epoch 1050: 100%|██████████| 500/500 [00:02<00:00, 188.79it/s]\n",
      "Training Epoch 1051: 100%|██████████| 500/500 [00:02<00:00, 189.38it/s]\n"
     ]
    },
    {
     "name": "stdout",
     "output_type": "stream",
     "text": [
      "Epoch 1050 - Train Loss: 0.1349, Train MSE: 0.1336, Train MAE: 0.2658\n",
      "Epoch 1050 - Validation Loss: 1.4830, Validation MSE: 1.4803, Validation MAE: 0.8562\n"
     ]
    },
    {
     "name": "stderr",
     "output_type": "stream",
     "text": [
      "Training Epoch 1052: 100%|██████████| 500/500 [00:02<00:00, 192.65it/s]\n",
      "Training Epoch 1053: 100%|██████████| 500/500 [00:02<00:00, 187.76it/s]\n",
      "Training Epoch 1054: 100%|██████████| 500/500 [00:03<00:00, 160.51it/s]\n",
      "Training Epoch 1055: 100%|██████████| 500/500 [00:02<00:00, 170.81it/s]\n",
      "Training Epoch 1056: 100%|██████████| 500/500 [00:02<00:00, 194.93it/s]\n",
      "Training Epoch 1057: 100%|██████████| 500/500 [00:02<00:00, 189.87it/s]\n",
      "Training Epoch 1058: 100%|██████████| 500/500 [00:02<00:00, 188.33it/s]\n",
      "Training Epoch 1059: 100%|██████████| 500/500 [00:02<00:00, 186.66it/s]\n",
      "Training Epoch 1060: 100%|██████████| 500/500 [00:02<00:00, 191.18it/s]\n",
      "Training Epoch 1061: 100%|██████████| 500/500 [00:02<00:00, 192.43it/s]\n"
     ]
    },
    {
     "name": "stdout",
     "output_type": "stream",
     "text": [
      "Epoch 1060 - Train Loss: 0.1290, Train MSE: 0.1290, Train MAE: 0.2632\n",
      "Epoch 1060 - Validation Loss: 1.4724, Validation MSE: 1.4678, Validation MAE: 0.8524\n"
     ]
    },
    {
     "name": "stderr",
     "output_type": "stream",
     "text": [
      "Training Epoch 1062: 100%|██████████| 500/500 [00:02<00:00, 186.19it/s]\n",
      "Training Epoch 1063: 100%|██████████| 500/500 [00:02<00:00, 191.07it/s]\n",
      "Training Epoch 1064: 100%|██████████| 500/500 [00:02<00:00, 186.89it/s]\n",
      "Training Epoch 1065: 100%|██████████| 500/500 [00:02<00:00, 189.00it/s]\n",
      "Training Epoch 1066: 100%|██████████| 500/500 [00:02<00:00, 191.58it/s]\n",
      "Training Epoch 1067: 100%|██████████| 500/500 [00:02<00:00, 186.74it/s]\n",
      "Training Epoch 1068: 100%|██████████| 500/500 [00:02<00:00, 189.46it/s]\n",
      "Training Epoch 1069: 100%|██████████| 500/500 [00:02<00:00, 190.19it/s]\n",
      "Training Epoch 1070: 100%|██████████| 500/500 [00:02<00:00, 177.76it/s]\n",
      "Training Epoch 1071: 100%|██████████| 500/500 [00:02<00:00, 190.39it/s]\n"
     ]
    },
    {
     "name": "stdout",
     "output_type": "stream",
     "text": [
      "Epoch 1070 - Train Loss: 0.1296, Train MSE: 0.1294, Train MAE: 0.2606\n",
      "Epoch 1070 - Validation Loss: 1.5057, Validation MSE: 1.5016, Validation MAE: 0.8634\n"
     ]
    },
    {
     "name": "stderr",
     "output_type": "stream",
     "text": [
      "Training Epoch 1072: 100%|██████████| 500/500 [00:02<00:00, 186.76it/s]\n",
      "Training Epoch 1073: 100%|██████████| 500/500 [00:02<00:00, 188.27it/s]\n",
      "Training Epoch 1074: 100%|██████████| 500/500 [00:02<00:00, 191.83it/s]\n",
      "Training Epoch 1075: 100%|██████████| 500/500 [00:02<00:00, 183.85it/s]\n",
      "Training Epoch 1076: 100%|██████████| 500/500 [00:02<00:00, 189.98it/s]\n",
      "Training Epoch 1077: 100%|██████████| 500/500 [00:02<00:00, 187.03it/s]\n",
      "Training Epoch 1078: 100%|██████████| 500/500 [00:02<00:00, 188.53it/s]\n",
      "Training Epoch 1079: 100%|██████████| 500/500 [00:02<00:00, 194.38it/s]\n",
      "Training Epoch 1080: 100%|██████████| 500/500 [00:02<00:00, 191.88it/s]\n",
      "Training Epoch 1081: 100%|██████████| 500/500 [00:02<00:00, 192.63it/s]\n"
     ]
    },
    {
     "name": "stdout",
     "output_type": "stream",
     "text": [
      "Epoch 1080 - Train Loss: 0.1299, Train MSE: 0.1296, Train MAE: 0.2616\n",
      "Epoch 1080 - Validation Loss: 1.4966, Validation MSE: 1.4918, Validation MAE: 0.8612\n"
     ]
    },
    {
     "name": "stderr",
     "output_type": "stream",
     "text": [
      "Training Epoch 1082: 100%|██████████| 500/500 [00:02<00:00, 194.19it/s]\n",
      "Training Epoch 1083: 100%|██████████| 500/500 [00:02<00:00, 189.21it/s]\n",
      "Training Epoch 1084: 100%|██████████| 500/500 [00:02<00:00, 195.08it/s]\n",
      "Training Epoch 1085: 100%|██████████| 500/500 [00:02<00:00, 189.27it/s]\n",
      "Training Epoch 1086: 100%|██████████| 500/500 [00:02<00:00, 195.48it/s]\n",
      "Training Epoch 1087: 100%|██████████| 500/500 [00:02<00:00, 191.65it/s]\n",
      "Training Epoch 1088: 100%|██████████| 500/500 [00:02<00:00, 190.16it/s]\n",
      "Training Epoch 1089: 100%|██████████| 500/500 [00:02<00:00, 191.69it/s]\n",
      "Training Epoch 1090: 100%|██████████| 500/500 [00:02<00:00, 188.83it/s]\n",
      "Training Epoch 1091: 100%|██████████| 500/500 [00:02<00:00, 196.95it/s]\n"
     ]
    },
    {
     "name": "stdout",
     "output_type": "stream",
     "text": [
      "Epoch 1090 - Train Loss: 0.1295, Train MSE: 0.1294, Train MAE: 0.2627\n",
      "Epoch 1090 - Validation Loss: 1.5008, Validation MSE: 1.4956, Validation MAE: 0.8601\n"
     ]
    },
    {
     "name": "stderr",
     "output_type": "stream",
     "text": [
      "Training Epoch 1092: 100%|██████████| 500/500 [00:02<00:00, 187.48it/s]\n",
      "Training Epoch 1093: 100%|██████████| 500/500 [00:02<00:00, 188.59it/s]\n",
      "Training Epoch 1094: 100%|██████████| 500/500 [00:02<00:00, 196.72it/s]\n",
      "Training Epoch 1095: 100%|██████████| 500/500 [00:02<00:00, 186.88it/s]\n",
      "Training Epoch 1096: 100%|██████████| 500/500 [00:02<00:00, 191.25it/s]\n",
      "Training Epoch 1097: 100%|██████████| 500/500 [00:02<00:00, 189.47it/s]\n",
      "Training Epoch 1098: 100%|██████████| 500/500 [00:02<00:00, 188.01it/s]\n",
      "Training Epoch 1099: 100%|██████████| 500/500 [00:02<00:00, 187.87it/s]\n",
      "Training Epoch 1100: 100%|██████████| 500/500 [00:02<00:00, 182.63it/s]\n",
      "Training Epoch 1101: 100%|██████████| 500/500 [00:02<00:00, 191.13it/s]\n"
     ]
    },
    {
     "name": "stdout",
     "output_type": "stream",
     "text": [
      "Epoch 1100 - Train Loss: 0.1270, Train MSE: 0.1272, Train MAE: 0.2586\n",
      "Epoch 1100 - Validation Loss: 1.4958, Validation MSE: 1.4903, Validation MAE: 0.8602\n"
     ]
    },
    {
     "name": "stderr",
     "output_type": "stream",
     "text": [
      "Training Epoch 1102: 100%|██████████| 500/500 [00:02<00:00, 192.69it/s]\n",
      "Training Epoch 1103: 100%|██████████| 500/500 [00:02<00:00, 188.77it/s]\n",
      "Training Epoch 1104: 100%|██████████| 500/500 [00:02<00:00, 191.12it/s]\n",
      "Training Epoch 1105: 100%|██████████| 500/500 [00:02<00:00, 187.78it/s]\n",
      "Training Epoch 1106: 100%|██████████| 500/500 [00:02<00:00, 189.42it/s]\n",
      "Training Epoch 1107: 100%|██████████| 500/500 [00:02<00:00, 190.51it/s]\n",
      "Training Epoch 1108: 100%|██████████| 500/500 [00:02<00:00, 187.62it/s]\n",
      "Training Epoch 1109: 100%|██████████| 500/500 [00:02<00:00, 191.94it/s]\n",
      "Training Epoch 1110: 100%|██████████| 500/500 [00:02<00:00, 189.15it/s]\n",
      "Training Epoch 1111: 100%|██████████| 500/500 [00:02<00:00, 189.63it/s]\n"
     ]
    },
    {
     "name": "stdout",
     "output_type": "stream",
     "text": [
      "Epoch 1110 - Train Loss: 0.1253, Train MSE: 0.1256, Train MAE: 0.2588\n",
      "Epoch 1110 - Validation Loss: 1.5118, Validation MSE: 1.5059, Validation MAE: 0.8651\n"
     ]
    },
    {
     "name": "stderr",
     "output_type": "stream",
     "text": [
      "Training Epoch 1112: 100%|██████████| 500/500 [00:02<00:00, 197.15it/s]\n",
      "Training Epoch 1113: 100%|██████████| 500/500 [00:02<00:00, 185.58it/s]\n",
      "Training Epoch 1114: 100%|██████████| 500/500 [00:02<00:00, 189.16it/s]\n",
      "Training Epoch 1115: 100%|██████████| 500/500 [00:03<00:00, 164.40it/s]\n",
      "Training Epoch 1116: 100%|██████████| 500/500 [00:02<00:00, 197.12it/s]\n",
      "Training Epoch 1117: 100%|██████████| 500/500 [00:02<00:00, 193.22it/s]\n",
      "Training Epoch 1118: 100%|██████████| 500/500 [00:02<00:00, 190.43it/s]\n",
      "Training Epoch 1119: 100%|██████████| 500/500 [00:02<00:00, 190.26it/s]\n",
      "Training Epoch 1120: 100%|██████████| 500/500 [00:02<00:00, 192.15it/s]\n",
      "Training Epoch 1121: 100%|██████████| 500/500 [00:02<00:00, 190.01it/s]\n"
     ]
    },
    {
     "name": "stdout",
     "output_type": "stream",
     "text": [
      "Epoch 1120 - Train Loss: 0.1291, Train MSE: 0.1289, Train MAE: 0.2620\n",
      "Epoch 1120 - Validation Loss: 1.4995, Validation MSE: 1.4968, Validation MAE: 0.8615\n"
     ]
    },
    {
     "name": "stderr",
     "output_type": "stream",
     "text": [
      "Training Epoch 1122: 100%|██████████| 500/500 [00:02<00:00, 187.44it/s]\n",
      "Training Epoch 1123: 100%|██████████| 500/500 [00:02<00:00, 189.68it/s]\n",
      "Training Epoch 1124: 100%|██████████| 500/500 [00:02<00:00, 188.37it/s]\n",
      "Training Epoch 1125: 100%|██████████| 500/500 [00:02<00:00, 192.70it/s]\n",
      "Training Epoch 1126: 100%|██████████| 500/500 [00:02<00:00, 186.15it/s]\n",
      "Training Epoch 1127: 100%|██████████| 500/500 [00:02<00:00, 186.72it/s]\n",
      "Training Epoch 1128: 100%|██████████| 500/500 [00:02<00:00, 190.94it/s]\n",
      "Training Epoch 1129: 100%|██████████| 500/500 [00:02<00:00, 185.59it/s]\n",
      "Training Epoch 1130: 100%|██████████| 500/500 [00:02<00:00, 184.86it/s]\n",
      "Training Epoch 1131: 100%|██████████| 500/500 [00:02<00:00, 186.99it/s]\n"
     ]
    },
    {
     "name": "stdout",
     "output_type": "stream",
     "text": [
      "Epoch 1130 - Train Loss: 0.1260, Train MSE: 0.1262, Train MAE: 0.2581\n",
      "Epoch 1130 - Validation Loss: 1.4834, Validation MSE: 1.4788, Validation MAE: 0.8606\n"
     ]
    },
    {
     "name": "stderr",
     "output_type": "stream",
     "text": [
      "Training Epoch 1132: 100%|██████████| 500/500 [00:02<00:00, 187.23it/s]\n",
      "Training Epoch 1133: 100%|██████████| 500/500 [00:02<00:00, 192.34it/s]\n",
      "Training Epoch 1134: 100%|██████████| 500/500 [00:02<00:00, 185.37it/s]\n",
      "Training Epoch 1135: 100%|██████████| 500/500 [00:02<00:00, 176.90it/s]\n",
      "Training Epoch 1136: 100%|██████████| 500/500 [00:02<00:00, 192.77it/s]\n",
      "Training Epoch 1137: 100%|██████████| 500/500 [00:02<00:00, 189.04it/s]\n",
      "Training Epoch 1138: 100%|██████████| 500/500 [00:02<00:00, 192.99it/s]\n",
      "Training Epoch 1139: 100%|██████████| 500/500 [00:02<00:00, 190.64it/s]\n",
      "Training Epoch 1140: 100%|██████████| 500/500 [00:02<00:00, 186.34it/s]\n",
      "Training Epoch 1141: 100%|██████████| 500/500 [00:02<00:00, 193.49it/s]\n"
     ]
    },
    {
     "name": "stdout",
     "output_type": "stream",
     "text": [
      "Epoch 1140 - Train Loss: 0.1233, Train MSE: 0.1235, Train MAE: 0.2581\n",
      "Epoch 1140 - Validation Loss: 1.4941, Validation MSE: 1.4904, Validation MAE: 0.8594\n"
     ]
    },
    {
     "name": "stderr",
     "output_type": "stream",
     "text": [
      "Training Epoch 1142: 100%|██████████| 500/500 [00:02<00:00, 189.40it/s]\n",
      "Training Epoch 1143: 100%|██████████| 500/500 [00:02<00:00, 191.89it/s]\n",
      "Training Epoch 1144: 100%|██████████| 500/500 [00:02<00:00, 189.22it/s]\n",
      "Training Epoch 1145: 100%|██████████| 500/500 [00:02<00:00, 190.58it/s]\n",
      "Training Epoch 1146: 100%|██████████| 500/500 [00:02<00:00, 187.90it/s]\n",
      "Training Epoch 1147: 100%|██████████| 500/500 [00:02<00:00, 190.04it/s]\n",
      "Training Epoch 1148: 100%|██████████| 500/500 [00:02<00:00, 189.91it/s]\n",
      "Training Epoch 1149: 100%|██████████| 500/500 [00:02<00:00, 191.48it/s]\n",
      "Training Epoch 1150: 100%|██████████| 500/500 [00:02<00:00, 189.76it/s]\n",
      "Training Epoch 1151: 100%|██████████| 500/500 [00:02<00:00, 191.01it/s]\n"
     ]
    },
    {
     "name": "stdout",
     "output_type": "stream",
     "text": [
      "Epoch 1150 - Train Loss: 0.1218, Train MSE: 0.1219, Train MAE: 0.2564\n",
      "Epoch 1150 - Validation Loss: 1.4905, Validation MSE: 1.4869, Validation MAE: 0.8610\n"
     ]
    },
    {
     "name": "stderr",
     "output_type": "stream",
     "text": [
      "Training Epoch 1152: 100%|██████████| 500/500 [00:02<00:00, 187.02it/s]\n",
      "Training Epoch 1153: 100%|██████████| 500/500 [00:02<00:00, 189.90it/s]\n",
      "Training Epoch 1154: 100%|██████████| 500/500 [00:02<00:00, 189.82it/s]\n",
      "Training Epoch 1155: 100%|██████████| 500/500 [00:02<00:00, 187.80it/s]\n",
      "Training Epoch 1156: 100%|██████████| 500/500 [00:02<00:00, 175.98it/s]\n",
      "Training Epoch 1157: 100%|██████████| 500/500 [00:02<00:00, 185.53it/s]\n",
      "Training Epoch 1158: 100%|██████████| 500/500 [00:02<00:00, 186.75it/s]\n",
      "Training Epoch 1159: 100%|██████████| 500/500 [00:02<00:00, 189.96it/s]\n",
      "Training Epoch 1160: 100%|██████████| 500/500 [00:02<00:00, 189.68it/s]\n",
      "Training Epoch 1161: 100%|██████████| 500/500 [00:02<00:00, 196.39it/s]\n"
     ]
    },
    {
     "name": "stdout",
     "output_type": "stream",
     "text": [
      "Epoch 1160 - Train Loss: 0.1270, Train MSE: 0.1249, Train MAE: 0.2582\n",
      "Epoch 1160 - Validation Loss: 1.4903, Validation MSE: 1.4843, Validation MAE: 0.8598\n"
     ]
    },
    {
     "name": "stderr",
     "output_type": "stream",
     "text": [
      "Training Epoch 1162: 100%|██████████| 500/500 [00:02<00:00, 191.50it/s]\n",
      "Training Epoch 1163: 100%|██████████| 500/500 [00:02<00:00, 194.03it/s]\n",
      "Training Epoch 1164: 100%|██████████| 500/500 [00:02<00:00, 188.30it/s]\n",
      "Training Epoch 1165: 100%|██████████| 500/500 [00:02<00:00, 192.80it/s]\n",
      "Training Epoch 1166: 100%|██████████| 500/500 [00:02<00:00, 190.71it/s]\n",
      "Training Epoch 1167: 100%|██████████| 500/500 [00:02<00:00, 188.93it/s]\n",
      "Training Epoch 1168: 100%|██████████| 500/500 [00:02<00:00, 189.97it/s]\n",
      "Training Epoch 1169: 100%|██████████| 500/500 [00:02<00:00, 180.28it/s]\n",
      "Training Epoch 1170: 100%|██████████| 500/500 [00:02<00:00, 194.49it/s]\n",
      "Training Epoch 1171: 100%|██████████| 500/500 [00:02<00:00, 189.76it/s]\n"
     ]
    },
    {
     "name": "stdout",
     "output_type": "stream",
     "text": [
      "Epoch 1170 - Train Loss: 0.1227, Train MSE: 0.1229, Train MAE: 0.2561\n",
      "Epoch 1170 - Validation Loss: 1.4860, Validation MSE: 1.4823, Validation MAE: 0.8540\n"
     ]
    },
    {
     "name": "stderr",
     "output_type": "stream",
     "text": [
      "Training Epoch 1172: 100%|██████████| 500/500 [00:02<00:00, 190.72it/s]\n",
      "Training Epoch 1173: 100%|██████████| 500/500 [00:02<00:00, 192.43it/s]\n",
      "Training Epoch 1174: 100%|██████████| 500/500 [00:02<00:00, 188.95it/s]\n",
      "Training Epoch 1175: 100%|██████████| 500/500 [00:02<00:00, 192.35it/s]\n",
      "Training Epoch 1176: 100%|██████████| 500/500 [00:02<00:00, 188.05it/s]\n",
      "Training Epoch 1177: 100%|██████████| 500/500 [00:02<00:00, 192.80it/s]\n",
      "Training Epoch 1178: 100%|██████████| 500/500 [00:02<00:00, 191.94it/s]\n",
      "Training Epoch 1179: 100%|██████████| 500/500 [00:02<00:00, 185.44it/s]\n",
      "Training Epoch 1180: 100%|██████████| 500/500 [00:02<00:00, 195.63it/s]\n",
      "Training Epoch 1181: 100%|██████████| 500/500 [00:02<00:00, 195.45it/s]\n"
     ]
    },
    {
     "name": "stdout",
     "output_type": "stream",
     "text": [
      "Epoch 1180 - Train Loss: 0.1187, Train MSE: 0.1189, Train MAE: 0.2537\n",
      "Epoch 1180 - Validation Loss: 1.4633, Validation MSE: 1.4581, Validation MAE: 0.8523\n"
     ]
    },
    {
     "name": "stderr",
     "output_type": "stream",
     "text": [
      "Training Epoch 1182: 100%|██████████| 500/500 [00:02<00:00, 188.33it/s]\n",
      "Training Epoch 1183: 100%|██████████| 500/500 [00:02<00:00, 192.88it/s]\n",
      "Training Epoch 1184: 100%|██████████| 500/500 [00:02<00:00, 187.36it/s]\n",
      "Training Epoch 1185: 100%|██████████| 500/500 [00:02<00:00, 192.07it/s]\n",
      "Training Epoch 1186: 100%|██████████| 500/500 [00:02<00:00, 187.25it/s]\n",
      "Training Epoch 1187: 100%|██████████| 500/500 [00:02<00:00, 179.55it/s]\n",
      "Training Epoch 1188: 100%|██████████| 500/500 [00:02<00:00, 193.12it/s]\n",
      "Training Epoch 1189: 100%|██████████| 500/500 [00:02<00:00, 185.82it/s]\n",
      "Training Epoch 1190: 100%|██████████| 500/500 [00:02<00:00, 189.83it/s]\n",
      "Training Epoch 1191: 100%|██████████| 500/500 [00:02<00:00, 189.42it/s]\n"
     ]
    },
    {
     "name": "stdout",
     "output_type": "stream",
     "text": [
      "Epoch 1190 - Train Loss: 0.1206, Train MSE: 0.1206, Train MAE: 0.2536\n",
      "Epoch 1190 - Validation Loss: 1.4837, Validation MSE: 1.4800, Validation MAE: 0.8532\n"
     ]
    },
    {
     "name": "stderr",
     "output_type": "stream",
     "text": [
      "Training Epoch 1192: 100%|██████████| 500/500 [00:02<00:00, 186.98it/s]\n",
      "Training Epoch 1193: 100%|██████████| 500/500 [00:02<00:00, 195.28it/s]\n",
      "Training Epoch 1194: 100%|██████████| 500/500 [00:02<00:00, 189.18it/s]\n",
      "Training Epoch 1195: 100%|██████████| 500/500 [00:02<00:00, 191.23it/s]\n",
      "Training Epoch 1196: 100%|██████████| 500/500 [00:02<00:00, 189.71it/s]\n",
      "Training Epoch 1197: 100%|██████████| 500/500 [00:02<00:00, 186.54it/s]\n",
      "Training Epoch 1198: 100%|██████████| 500/500 [00:02<00:00, 193.54it/s]\n",
      "Training Epoch 1199: 100%|██████████| 500/500 [00:02<00:00, 182.79it/s]\n",
      "Training Epoch 1200: 100%|██████████| 500/500 [00:02<00:00, 188.22it/s]\n",
      "Training Epoch 1201: 100%|██████████| 500/500 [00:02<00:00, 193.76it/s]\n"
     ]
    },
    {
     "name": "stdout",
     "output_type": "stream",
     "text": [
      "Epoch 1200 - Train Loss: 0.1281, Train MSE: 0.1283, Train MAE: 0.2583\n",
      "Epoch 1200 - Validation Loss: 1.4913, Validation MSE: 1.4860, Validation MAE: 0.8571\n"
     ]
    },
    {
     "name": "stderr",
     "output_type": "stream",
     "text": [
      "Training Epoch 1202: 100%|██████████| 500/500 [00:02<00:00, 185.69it/s]\n",
      "Training Epoch 1203: 100%|██████████| 500/500 [00:02<00:00, 192.38it/s]\n",
      "Training Epoch 1204: 100%|██████████| 500/500 [00:02<00:00, 190.95it/s]\n",
      "Training Epoch 1205: 100%|██████████| 500/500 [00:02<00:00, 189.02it/s]\n",
      "Training Epoch 1206: 100%|██████████| 500/500 [00:02<00:00, 192.59it/s]\n",
      "Training Epoch 1207: 100%|██████████| 500/500 [00:02<00:00, 185.87it/s]\n",
      "Training Epoch 1208: 100%|██████████| 500/500 [00:02<00:00, 192.02it/s]\n",
      "Training Epoch 1209: 100%|██████████| 500/500 [00:02<00:00, 190.36it/s]\n",
      "Training Epoch 1210: 100%|██████████| 500/500 [00:02<00:00, 188.06it/s]\n",
      "Training Epoch 1211: 100%|██████████| 500/500 [00:02<00:00, 193.12it/s]\n"
     ]
    },
    {
     "name": "stdout",
     "output_type": "stream",
     "text": [
      "Epoch 1210 - Train Loss: 0.1176, Train MSE: 0.1177, Train MAE: 0.2519\n",
      "Epoch 1210 - Validation Loss: 1.4801, Validation MSE: 1.4757, Validation MAE: 0.8526\n"
     ]
    },
    {
     "name": "stderr",
     "output_type": "stream",
     "text": [
      "Training Epoch 1212: 100%|██████████| 500/500 [00:02<00:00, 186.96it/s]\n",
      "Training Epoch 1213: 100%|██████████| 500/500 [00:02<00:00, 193.53it/s]\n",
      "Training Epoch 1214: 100%|██████████| 500/500 [00:02<00:00, 189.36it/s]\n",
      "Training Epoch 1215: 100%|██████████| 500/500 [00:02<00:00, 188.11it/s]\n",
      "Training Epoch 1216: 100%|██████████| 500/500 [00:02<00:00, 192.32it/s]\n",
      "Training Epoch 1217: 100%|██████████| 500/500 [00:02<00:00, 187.43it/s]\n",
      "Training Epoch 1218: 100%|██████████| 500/500 [00:02<00:00, 191.86it/s]\n",
      "Training Epoch 1219: 100%|██████████| 500/500 [00:02<00:00, 193.74it/s]\n",
      "Training Epoch 1220: 100%|██████████| 500/500 [00:02<00:00, 180.21it/s]\n",
      "Training Epoch 1221: 100%|██████████| 500/500 [00:02<00:00, 191.62it/s]\n"
     ]
    },
    {
     "name": "stdout",
     "output_type": "stream",
     "text": [
      "Epoch 1220 - Train Loss: 0.1178, Train MSE: 0.1176, Train MAE: 0.2512\n",
      "Epoch 1220 - Validation Loss: 1.4630, Validation MSE: 1.4616, Validation MAE: 0.8493\n"
     ]
    },
    {
     "name": "stderr",
     "output_type": "stream",
     "text": [
      "Training Epoch 1222: 100%|██████████| 500/500 [00:02<00:00, 188.08it/s]\n",
      "Training Epoch 1223: 100%|██████████| 500/500 [00:02<00:00, 189.34it/s]\n",
      "Training Epoch 1224: 100%|██████████| 500/500 [00:02<00:00, 192.97it/s]\n",
      "Training Epoch 1225: 100%|██████████| 500/500 [00:02<00:00, 187.68it/s]\n",
      "Training Epoch 1226: 100%|██████████| 500/500 [00:02<00:00, 192.01it/s]\n",
      "Training Epoch 1227: 100%|██████████| 500/500 [00:02<00:00, 190.07it/s]\n",
      "Training Epoch 1228: 100%|██████████| 500/500 [00:02<00:00, 188.12it/s]\n",
      "Training Epoch 1229: 100%|██████████| 500/500 [00:02<00:00, 192.89it/s]\n",
      "Training Epoch 1230: 100%|██████████| 500/500 [00:02<00:00, 188.36it/s]\n",
      "Training Epoch 1231: 100%|██████████| 500/500 [00:02<00:00, 192.28it/s]\n"
     ]
    },
    {
     "name": "stdout",
     "output_type": "stream",
     "text": [
      "Epoch 1230 - Train Loss: 0.1172, Train MSE: 0.1174, Train MAE: 0.2506\n",
      "Epoch 1230 - Validation Loss: 1.4857, Validation MSE: 1.4821, Validation MAE: 0.8545\n"
     ]
    },
    {
     "name": "stderr",
     "output_type": "stream",
     "text": [
      "Training Epoch 1232: 100%|██████████| 500/500 [00:02<00:00, 190.17it/s]\n",
      "Training Epoch 1233: 100%|██████████| 500/500 [00:02<00:00, 188.56it/s]\n",
      "Training Epoch 1234: 100%|██████████| 500/500 [00:02<00:00, 190.36it/s]\n",
      "Training Epoch 1235: 100%|██████████| 500/500 [00:02<00:00, 185.35it/s]\n",
      "Training Epoch 1236: 100%|██████████| 500/500 [00:02<00:00, 188.96it/s]\n",
      "Training Epoch 1237: 100%|██████████| 500/500 [00:02<00:00, 189.56it/s]\n",
      "Training Epoch 1238: 100%|██████████| 500/500 [00:02<00:00, 188.21it/s]\n",
      "Training Epoch 1239: 100%|██████████| 500/500 [00:02<00:00, 192.77it/s]\n",
      "Training Epoch 1240: 100%|██████████| 500/500 [00:02<00:00, 192.31it/s]\n",
      "Training Epoch 1241: 100%|██████████| 500/500 [00:02<00:00, 192.62it/s]\n"
     ]
    },
    {
     "name": "stdout",
     "output_type": "stream",
     "text": [
      "Epoch 1240 - Train Loss: 0.1184, Train MSE: 0.1186, Train MAE: 0.2511\n",
      "Epoch 1240 - Validation Loss: 1.4754, Validation MSE: 1.4726, Validation MAE: 0.8525\n"
     ]
    },
    {
     "name": "stderr",
     "output_type": "stream",
     "text": [
      "Training Epoch 1242: 100%|██████████| 500/500 [00:02<00:00, 191.33it/s]\n",
      "Training Epoch 1243: 100%|██████████| 500/500 [00:02<00:00, 191.88it/s]\n",
      "Training Epoch 1244: 100%|██████████| 500/500 [00:02<00:00, 191.37it/s]\n",
      "Training Epoch 1245: 100%|██████████| 500/500 [00:02<00:00, 189.01it/s]\n",
      "Training Epoch 1246: 100%|██████████| 500/500 [00:02<00:00, 191.03it/s]\n",
      "Training Epoch 1247: 100%|██████████| 500/500 [00:02<00:00, 192.17it/s]\n",
      "Training Epoch 1248: 100%|██████████| 500/500 [00:02<00:00, 186.69it/s]\n",
      "Training Epoch 1249: 100%|██████████| 500/500 [00:02<00:00, 190.56it/s]\n",
      "Training Epoch 1250: 100%|██████████| 500/500 [00:02<00:00, 185.15it/s]\n",
      "Training Epoch 1251: 100%|██████████| 500/500 [00:02<00:00, 188.10it/s]\n"
     ]
    },
    {
     "name": "stdout",
     "output_type": "stream",
     "text": [
      "Epoch 1250 - Train Loss: 0.1246, Train MSE: 0.1248, Train MAE: 0.2565\n",
      "Epoch 1250 - Validation Loss: 1.4917, Validation MSE: 1.4884, Validation MAE: 0.8560\n"
     ]
    },
    {
     "name": "stderr",
     "output_type": "stream",
     "text": [
      "Training Epoch 1252: 100%|██████████| 500/500 [00:02<00:00, 192.95it/s]\n",
      "Training Epoch 1253: 100%|██████████| 500/500 [00:02<00:00, 186.31it/s]\n",
      "Training Epoch 1254: 100%|██████████| 500/500 [00:02<00:00, 193.46it/s]\n",
      "Training Epoch 1255: 100%|██████████| 500/500 [00:02<00:00, 188.79it/s]\n",
      "Training Epoch 1256: 100%|██████████| 500/500 [00:02<00:00, 188.23it/s]\n",
      "Training Epoch 1257: 100%|██████████| 500/500 [00:02<00:00, 193.74it/s]\n",
      "Training Epoch 1258: 100%|██████████| 500/500 [00:02<00:00, 186.51it/s]\n",
      "Training Epoch 1259: 100%|██████████| 500/500 [00:02<00:00, 192.69it/s]\n",
      "Training Epoch 1260: 100%|██████████| 500/500 [00:02<00:00, 188.02it/s]\n",
      "Training Epoch 1261: 100%|██████████| 500/500 [00:02<00:00, 189.17it/s]\n"
     ]
    },
    {
     "name": "stdout",
     "output_type": "stream",
     "text": [
      "Epoch 1260 - Train Loss: 0.1132, Train MSE: 0.1133, Train MAE: 0.2467\n",
      "Epoch 1260 - Validation Loss: 1.4981, Validation MSE: 1.4944, Validation MAE: 0.8584\n"
     ]
    },
    {
     "name": "stderr",
     "output_type": "stream",
     "text": [
      "Training Epoch 1262: 100%|██████████| 500/500 [00:02<00:00, 191.01it/s]\n",
      "Training Epoch 1263: 100%|██████████| 500/500 [00:02<00:00, 178.54it/s]\n",
      "Training Epoch 1264: 100%|██████████| 500/500 [00:02<00:00, 190.70it/s]\n",
      "Training Epoch 1265: 100%|██████████| 500/500 [00:02<00:00, 188.91it/s]\n",
      "Training Epoch 1266: 100%|██████████| 500/500 [00:02<00:00, 185.84it/s]\n",
      "Training Epoch 1267: 100%|██████████| 500/500 [00:02<00:00, 193.78it/s]\n",
      "Training Epoch 1268: 100%|██████████| 500/500 [00:02<00:00, 187.45it/s]\n",
      "Training Epoch 1269: 100%|██████████| 500/500 [00:02<00:00, 190.84it/s]\n",
      "Training Epoch 1270: 100%|██████████| 500/500 [00:02<00:00, 190.06it/s]\n",
      "Training Epoch 1271: 100%|██████████| 500/500 [00:02<00:00, 186.92it/s]\n"
     ]
    },
    {
     "name": "stdout",
     "output_type": "stream",
     "text": [
      "Epoch 1270 - Train Loss: 0.1165, Train MSE: 0.1167, Train MAE: 0.2519\n",
      "Epoch 1270 - Validation Loss: 1.4683, Validation MSE: 1.4647, Validation MAE: 0.8498\n"
     ]
    },
    {
     "name": "stderr",
     "output_type": "stream",
     "text": [
      "Training Epoch 1272: 100%|██████████| 500/500 [00:02<00:00, 193.58it/s]\n",
      "Training Epoch 1273: 100%|██████████| 500/500 [00:02<00:00, 190.78it/s]\n",
      "Training Epoch 1274: 100%|██████████| 500/500 [00:02<00:00, 188.40it/s]\n",
      "Training Epoch 1275: 100%|██████████| 500/500 [00:02<00:00, 190.85it/s]\n",
      "Training Epoch 1276: 100%|██████████| 500/500 [00:02<00:00, 188.81it/s]\n",
      "Training Epoch 1277: 100%|██████████| 500/500 [00:02<00:00, 191.71it/s]\n",
      "Training Epoch 1278: 100%|██████████| 500/500 [00:02<00:00, 189.06it/s]\n",
      "Training Epoch 1279: 100%|██████████| 500/500 [00:02<00:00, 189.06it/s]\n",
      "Training Epoch 1280: 100%|██████████| 500/500 [00:02<00:00, 191.73it/s]\n",
      "Training Epoch 1281: 100%|██████████| 500/500 [00:02<00:00, 190.43it/s]\n"
     ]
    },
    {
     "name": "stdout",
     "output_type": "stream",
     "text": [
      "Epoch 1280 - Train Loss: 0.1178, Train MSE: 0.1180, Train MAE: 0.2492\n",
      "Epoch 1280 - Validation Loss: 1.4945, Validation MSE: 1.4890, Validation MAE: 0.8526\n"
     ]
    },
    {
     "name": "stderr",
     "output_type": "stream",
     "text": [
      "Training Epoch 1282: 100%|██████████| 500/500 [00:02<00:00, 193.13it/s]\n",
      "Training Epoch 1283: 100%|██████████| 500/500 [00:02<00:00, 188.81it/s]\n",
      "Training Epoch 1284: 100%|██████████| 500/500 [00:02<00:00, 190.17it/s]\n",
      "Training Epoch 1285: 100%|██████████| 500/500 [00:02<00:00, 186.10it/s]\n",
      "Training Epoch 1286: 100%|██████████| 500/500 [00:02<00:00, 189.34it/s]\n",
      "Training Epoch 1287: 100%|██████████| 500/500 [00:02<00:00, 193.98it/s]\n",
      "Training Epoch 1288: 100%|██████████| 500/500 [00:02<00:00, 189.40it/s]\n",
      "Training Epoch 1289: 100%|██████████| 500/500 [00:02<00:00, 191.24it/s]\n",
      "Training Epoch 1290: 100%|██████████| 500/500 [00:02<00:00, 194.23it/s]\n",
      "Training Epoch 1291: 100%|██████████| 500/500 [00:02<00:00, 189.69it/s]\n"
     ]
    },
    {
     "name": "stdout",
     "output_type": "stream",
     "text": [
      "Epoch 1290 - Train Loss: 0.1152, Train MSE: 0.1154, Train MAE: 0.2493\n",
      "Epoch 1290 - Validation Loss: 1.4815, Validation MSE: 1.4767, Validation MAE: 0.8518\n"
     ]
    },
    {
     "name": "stderr",
     "output_type": "stream",
     "text": [
      "Training Epoch 1292: 100%|██████████| 500/500 [00:02<00:00, 193.67it/s]\n",
      "Training Epoch 1293: 100%|██████████| 500/500 [00:02<00:00, 189.28it/s]\n",
      "Training Epoch 1294: 100%|██████████| 500/500 [00:02<00:00, 189.58it/s]\n",
      "Training Epoch 1295: 100%|██████████| 500/500 [00:02<00:00, 192.89it/s]\n",
      "Training Epoch 1296: 100%|██████████| 500/500 [00:02<00:00, 187.82it/s]\n",
      "Training Epoch 1297: 100%|██████████| 500/500 [00:02<00:00, 193.66it/s]\n",
      "Training Epoch 1298: 100%|██████████| 500/500 [00:02<00:00, 191.74it/s]\n",
      "Training Epoch 1299: 100%|██████████| 500/500 [00:02<00:00, 190.93it/s]\n",
      "Training Epoch 1300: 100%|██████████| 500/500 [00:02<00:00, 191.33it/s]\n",
      "Training Epoch 1301: 100%|██████████| 500/500 [00:02<00:00, 187.93it/s]\n"
     ]
    },
    {
     "name": "stdout",
     "output_type": "stream",
     "text": [
      "Epoch 1300 - Train Loss: 0.1152, Train MSE: 0.1154, Train MAE: 0.2477\n",
      "Epoch 1300 - Validation Loss: 1.4779, Validation MSE: 1.4741, Validation MAE: 0.8487\n"
     ]
    },
    {
     "name": "stderr",
     "output_type": "stream",
     "text": [
      "Training Epoch 1302: 100%|██████████| 500/500 [00:02<00:00, 193.61it/s]\n",
      "Training Epoch 1303: 100%|██████████| 500/500 [00:02<00:00, 194.24it/s]\n",
      "Training Epoch 1304: 100%|██████████| 500/500 [00:02<00:00, 188.02it/s]\n",
      "Training Epoch 1305: 100%|██████████| 500/500 [00:02<00:00, 193.24it/s]\n",
      "Training Epoch 1306: 100%|██████████| 500/500 [00:02<00:00, 180.34it/s]\n",
      "Training Epoch 1307: 100%|██████████| 500/500 [00:02<00:00, 191.34it/s]\n",
      "Training Epoch 1308: 100%|██████████| 500/500 [00:02<00:00, 191.51it/s]\n",
      "Training Epoch 1309: 100%|██████████| 500/500 [00:02<00:00, 189.45it/s]\n",
      "Training Epoch 1310: 100%|██████████| 500/500 [00:02<00:00, 192.93it/s]\n",
      "Training Epoch 1311: 100%|██████████| 500/500 [00:02<00:00, 189.70it/s]\n"
     ]
    },
    {
     "name": "stdout",
     "output_type": "stream",
     "text": [
      "Epoch 1310 - Train Loss: 0.1166, Train MSE: 0.1167, Train MAE: 0.2489\n",
      "Epoch 1310 - Validation Loss: 1.4872, Validation MSE: 1.4817, Validation MAE: 0.8578\n"
     ]
    },
    {
     "name": "stderr",
     "output_type": "stream",
     "text": [
      "Training Epoch 1312: 100%|██████████| 500/500 [00:02<00:00, 191.46it/s]\n",
      "Training Epoch 1313: 100%|██████████| 500/500 [00:02<00:00, 191.21it/s]\n",
      "Training Epoch 1314: 100%|██████████| 500/500 [00:02<00:00, 188.77it/s]\n",
      "Training Epoch 1315: 100%|██████████| 500/500 [00:02<00:00, 194.42it/s]\n",
      "Training Epoch 1316: 100%|██████████| 500/500 [00:02<00:00, 188.31it/s]\n",
      "Training Epoch 1317: 100%|██████████| 500/500 [00:02<00:00, 187.12it/s]\n",
      "Training Epoch 1318: 100%|██████████| 500/500 [00:02<00:00, 190.90it/s]\n",
      "Training Epoch 1319: 100%|██████████| 500/500 [00:02<00:00, 188.42it/s]\n",
      "Training Epoch 1320: 100%|██████████| 500/500 [00:02<00:00, 194.72it/s]\n",
      "Training Epoch 1321: 100%|██████████| 500/500 [00:02<00:00, 185.79it/s]\n"
     ]
    },
    {
     "name": "stdout",
     "output_type": "stream",
     "text": [
      "Epoch 1320 - Train Loss: 0.1117, Train MSE: 0.1117, Train MAE: 0.2448\n",
      "Epoch 1320 - Validation Loss: 1.4706, Validation MSE: 1.4667, Validation MAE: 0.8495\n"
     ]
    },
    {
     "name": "stderr",
     "output_type": "stream",
     "text": [
      "Training Epoch 1322: 100%|██████████| 500/500 [00:02<00:00, 190.32it/s]\n",
      "Training Epoch 1323: 100%|██████████| 500/500 [00:02<00:00, 187.49it/s]\n",
      "Training Epoch 1324: 100%|██████████| 500/500 [00:02<00:00, 190.50it/s]\n",
      "Training Epoch 1325: 100%|██████████| 500/500 [00:02<00:00, 193.86it/s]\n",
      "Training Epoch 1326: 100%|██████████| 500/500 [00:02<00:00, 187.37it/s]\n",
      "Training Epoch 1327: 100%|██████████| 500/500 [00:02<00:00, 194.45it/s]\n",
      "Training Epoch 1328: 100%|██████████| 500/500 [00:02<00:00, 188.81it/s]\n",
      "Training Epoch 1329: 100%|██████████| 500/500 [00:02<00:00, 184.12it/s]\n",
      "Training Epoch 1330: 100%|██████████| 500/500 [00:02<00:00, 191.85it/s]\n",
      "Training Epoch 1331: 100%|██████████| 500/500 [00:02<00:00, 189.90it/s]\n"
     ]
    },
    {
     "name": "stdout",
     "output_type": "stream",
     "text": [
      "Epoch 1330 - Train Loss: 0.1213, Train MSE: 0.1215, Train MAE: 0.2528\n",
      "Epoch 1330 - Validation Loss: 1.4854, Validation MSE: 1.4820, Validation MAE: 0.8563\n"
     ]
    },
    {
     "name": "stderr",
     "output_type": "stream",
     "text": [
      "Training Epoch 1332: 100%|██████████| 500/500 [00:02<00:00, 176.05it/s]\n",
      "Training Epoch 1333: 100%|██████████| 500/500 [00:02<00:00, 188.14it/s]\n",
      "Training Epoch 1334: 100%|██████████| 500/500 [00:02<00:00, 190.46it/s]\n",
      "Training Epoch 1335: 100%|██████████| 500/500 [00:02<00:00, 188.24it/s]\n",
      "Training Epoch 1336: 100%|██████████| 500/500 [00:02<00:00, 186.71it/s]\n",
      "Training Epoch 1337: 100%|██████████| 500/500 [00:02<00:00, 188.63it/s]\n",
      "Training Epoch 1338: 100%|██████████| 500/500 [00:02<00:00, 185.42it/s]\n",
      "Training Epoch 1339: 100%|██████████| 500/500 [00:02<00:00, 190.27it/s]\n",
      "Training Epoch 1340: 100%|██████████| 500/500 [00:02<00:00, 184.25it/s]\n",
      "Training Epoch 1341: 100%|██████████| 500/500 [00:02<00:00, 188.74it/s]\n"
     ]
    },
    {
     "name": "stdout",
     "output_type": "stream",
     "text": [
      "Epoch 1340 - Train Loss: 0.1144, Train MSE: 0.1145, Train MAE: 0.2449\n",
      "Epoch 1340 - Validation Loss: 1.4729, Validation MSE: 1.4704, Validation MAE: 0.8534\n"
     ]
    },
    {
     "name": "stderr",
     "output_type": "stream",
     "text": [
      "Training Epoch 1342: 100%|██████████| 500/500 [00:02<00:00, 192.89it/s]\n",
      "Training Epoch 1343: 100%|██████████| 500/500 [00:02<00:00, 192.15it/s]\n",
      "Training Epoch 1344: 100%|██████████| 500/500 [00:02<00:00, 190.75it/s]\n",
      "Training Epoch 1345: 100%|██████████| 500/500 [00:02<00:00, 192.20it/s]\n",
      "Training Epoch 1346: 100%|██████████| 500/500 [00:02<00:00, 184.82it/s]\n",
      "Training Epoch 1347: 100%|██████████| 500/500 [00:02<00:00, 188.90it/s]\n",
      "Training Epoch 1348: 100%|██████████| 500/500 [00:02<00:00, 189.11it/s]\n",
      "Training Epoch 1349: 100%|██████████| 500/500 [00:02<00:00, 179.02it/s]\n",
      "Training Epoch 1350: 100%|██████████| 500/500 [00:02<00:00, 192.19it/s]\n",
      "Training Epoch 1351: 100%|██████████| 500/500 [00:02<00:00, 188.17it/s]\n"
     ]
    },
    {
     "name": "stdout",
     "output_type": "stream",
     "text": [
      "Epoch 1350 - Train Loss: 0.1170, Train MSE: 0.1153, Train MAE: 0.2472\n",
      "Epoch 1350 - Validation Loss: 1.4796, Validation MSE: 1.4755, Validation MAE: 0.8547\n"
     ]
    },
    {
     "name": "stderr",
     "output_type": "stream",
     "text": [
      "Training Epoch 1352: 100%|██████████| 500/500 [00:02<00:00, 188.99it/s]\n",
      "Training Epoch 1353: 100%|██████████| 500/500 [00:02<00:00, 187.51it/s]\n",
      "Training Epoch 1354: 100%|██████████| 500/500 [00:02<00:00, 188.89it/s]\n",
      "Training Epoch 1355: 100%|██████████| 500/500 [00:02<00:00, 192.32it/s]\n",
      "Training Epoch 1356: 100%|██████████| 500/500 [00:02<00:00, 186.83it/s]\n",
      "Training Epoch 1357: 100%|██████████| 500/500 [00:02<00:00, 187.03it/s]\n",
      "Training Epoch 1358: 100%|██████████| 500/500 [00:02<00:00, 190.60it/s]\n",
      "Training Epoch 1359: 100%|██████████| 500/500 [00:02<00:00, 192.56it/s]\n",
      "Training Epoch 1360: 100%|██████████| 500/500 [00:02<00:00, 191.63it/s]\n",
      "Training Epoch 1361: 100%|██████████| 500/500 [00:02<00:00, 186.53it/s]\n"
     ]
    },
    {
     "name": "stdout",
     "output_type": "stream",
     "text": [
      "Epoch 1360 - Train Loss: 0.1197, Train MSE: 0.1198, Train MAE: 0.2495\n",
      "Epoch 1360 - Validation Loss: 1.4930, Validation MSE: 1.4888, Validation MAE: 0.8565\n"
     ]
    },
    {
     "name": "stderr",
     "output_type": "stream",
     "text": [
      "Training Epoch 1362: 100%|██████████| 500/500 [00:02<00:00, 189.95it/s]\n",
      "Training Epoch 1363: 100%|██████████| 500/500 [00:02<00:00, 191.60it/s]\n",
      "Training Epoch 1364: 100%|██████████| 500/500 [00:02<00:00, 185.93it/s]\n",
      "Training Epoch 1365: 100%|██████████| 500/500 [00:02<00:00, 191.99it/s]\n",
      "Training Epoch 1366: 100%|██████████| 500/500 [00:02<00:00, 186.00it/s]\n",
      "Training Epoch 1367: 100%|██████████| 500/500 [00:02<00:00, 187.88it/s]\n",
      "Training Epoch 1368: 100%|██████████| 500/500 [00:02<00:00, 187.64it/s]\n",
      "Training Epoch 1369: 100%|██████████| 500/500 [00:02<00:00, 185.18it/s]\n",
      "Training Epoch 1370: 100%|██████████| 500/500 [00:02<00:00, 186.60it/s]\n",
      "Training Epoch 1371: 100%|██████████| 500/500 [00:02<00:00, 190.70it/s]\n"
     ]
    },
    {
     "name": "stdout",
     "output_type": "stream",
     "text": [
      "Epoch 1370 - Train Loss: 0.1176, Train MSE: 0.1178, Train MAE: 0.2466\n",
      "Epoch 1370 - Validation Loss: 1.4930, Validation MSE: 1.4896, Validation MAE: 0.8598\n"
     ]
    },
    {
     "name": "stderr",
     "output_type": "stream",
     "text": [
      "Training Epoch 1372: 100%|██████████| 500/500 [00:02<00:00, 184.75it/s]\n",
      "Training Epoch 1373: 100%|██████████| 500/500 [00:02<00:00, 190.30it/s]\n",
      "Training Epoch 1374: 100%|██████████| 500/500 [00:02<00:00, 186.57it/s]\n",
      "Training Epoch 1375: 100%|██████████| 500/500 [00:02<00:00, 192.03it/s]\n",
      "Training Epoch 1376: 100%|██████████| 500/500 [00:02<00:00, 190.19it/s]\n",
      "Training Epoch 1377: 100%|██████████| 500/500 [00:02<00:00, 186.67it/s]\n",
      "Training Epoch 1378: 100%|██████████| 500/500 [00:02<00:00, 191.40it/s]\n",
      "Training Epoch 1379: 100%|██████████| 500/500 [00:02<00:00, 187.35it/s]\n",
      "Training Epoch 1380: 100%|██████████| 500/500 [00:02<00:00, 190.17it/s]\n",
      "Training Epoch 1381: 100%|██████████| 500/500 [00:02<00:00, 187.96it/s]\n"
     ]
    },
    {
     "name": "stdout",
     "output_type": "stream",
     "text": [
      "Epoch 1380 - Train Loss: 0.1124, Train MSE: 0.1126, Train MAE: 0.2458\n",
      "Epoch 1380 - Validation Loss: 1.4987, Validation MSE: 1.4957, Validation MAE: 0.8607\n"
     ]
    },
    {
     "name": "stderr",
     "output_type": "stream",
     "text": [
      "Training Epoch 1382: 100%|██████████| 500/500 [00:02<00:00, 187.17it/s]\n",
      "Training Epoch 1383: 100%|██████████| 500/500 [00:02<00:00, 190.39it/s]\n",
      "Training Epoch 1384: 100%|██████████| 500/500 [00:02<00:00, 187.15it/s]\n",
      "Training Epoch 1385: 100%|██████████| 500/500 [00:02<00:00, 189.69it/s]\n",
      "Training Epoch 1386: 100%|██████████| 500/500 [00:02<00:00, 186.70it/s]\n",
      "Training Epoch 1387: 100%|██████████| 500/500 [00:02<00:00, 189.18it/s]\n",
      "Training Epoch 1388: 100%|██████████| 500/500 [00:02<00:00, 191.88it/s]\n",
      "Training Epoch 1389: 100%|██████████| 500/500 [00:02<00:00, 189.06it/s]\n",
      "Training Epoch 1390: 100%|██████████| 500/500 [00:02<00:00, 190.03it/s]\n",
      "Training Epoch 1391: 100%|██████████| 500/500 [00:02<00:00, 189.96it/s]\n"
     ]
    },
    {
     "name": "stdout",
     "output_type": "stream",
     "text": [
      "Epoch 1390 - Train Loss: 0.1139, Train MSE: 0.1141, Train MAE: 0.2463\n",
      "Epoch 1390 - Validation Loss: 1.4731, Validation MSE: 1.4707, Validation MAE: 0.8522\n"
     ]
    },
    {
     "name": "stderr",
     "output_type": "stream",
     "text": [
      "Training Epoch 1392: 100%|██████████| 500/500 [00:02<00:00, 180.31it/s]\n",
      "Training Epoch 1393: 100%|██████████| 500/500 [00:02<00:00, 190.95it/s]\n",
      "Training Epoch 1394: 100%|██████████| 500/500 [00:02<00:00, 187.74it/s]\n",
      "Training Epoch 1395: 100%|██████████| 500/500 [00:02<00:00, 193.16it/s]\n",
      "Training Epoch 1396: 100%|██████████| 500/500 [00:02<00:00, 180.70it/s]\n",
      "Training Epoch 1397: 100%|██████████| 500/500 [00:02<00:00, 185.42it/s]\n",
      "Training Epoch 1398: 100%|██████████| 500/500 [00:02<00:00, 192.52it/s]\n",
      "Training Epoch 1399: 100%|██████████| 500/500 [00:02<00:00, 188.45it/s]\n",
      "Training Epoch 1400: 100%|██████████| 500/500 [00:02<00:00, 189.23it/s]\n",
      "Training Epoch 1401: 100%|██████████| 500/500 [00:02<00:00, 191.15it/s]\n"
     ]
    },
    {
     "name": "stdout",
     "output_type": "stream",
     "text": [
      "Epoch 1400 - Train Loss: 0.1150, Train MSE: 0.1148, Train MAE: 0.2465\n",
      "Epoch 1400 - Validation Loss: 1.4832, Validation MSE: 1.4806, Validation MAE: 0.8567\n"
     ]
    },
    {
     "name": "stderr",
     "output_type": "stream",
     "text": [
      "Training Epoch 1402: 100%|██████████| 500/500 [00:02<00:00, 184.69it/s]\n",
      "Training Epoch 1403: 100%|██████████| 500/500 [00:02<00:00, 188.67it/s]\n",
      "Training Epoch 1404: 100%|██████████| 500/500 [00:02<00:00, 188.44it/s]\n",
      "Training Epoch 1405: 100%|██████████| 500/500 [00:02<00:00, 193.31it/s]\n",
      "Training Epoch 1406: 100%|██████████| 500/500 [00:02<00:00, 190.25it/s]\n",
      "Training Epoch 1407: 100%|██████████| 500/500 [00:02<00:00, 185.53it/s]\n",
      "Training Epoch 1408: 100%|██████████| 500/500 [00:02<00:00, 195.06it/s]\n",
      "Training Epoch 1409: 100%|██████████| 500/500 [00:02<00:00, 186.22it/s]\n",
      "Training Epoch 1410: 100%|██████████| 500/500 [00:02<00:00, 182.64it/s]\n",
      "Training Epoch 1411: 100%|██████████| 500/500 [00:02<00:00, 192.47it/s]\n"
     ]
    },
    {
     "name": "stdout",
     "output_type": "stream",
     "text": [
      "Epoch 1410 - Train Loss: 0.1116, Train MSE: 0.1116, Train MAE: 0.2438\n",
      "Epoch 1410 - Validation Loss: 1.4768, Validation MSE: 1.4741, Validation MAE: 0.8545\n"
     ]
    },
    {
     "name": "stderr",
     "output_type": "stream",
     "text": [
      "Training Epoch 1412: 100%|██████████| 500/500 [00:02<00:00, 186.98it/s]\n",
      "Training Epoch 1413: 100%|██████████| 500/500 [00:02<00:00, 180.94it/s]\n",
      "Training Epoch 1414: 100%|██████████| 500/500 [00:02<00:00, 188.01it/s]\n",
      "Training Epoch 1415: 100%|██████████| 500/500 [00:02<00:00, 190.01it/s]\n",
      "Training Epoch 1416: 100%|██████████| 500/500 [00:02<00:00, 192.66it/s]\n",
      "Training Epoch 1417: 100%|██████████| 500/500 [00:02<00:00, 188.25it/s]\n",
      "Training Epoch 1418: 100%|██████████| 500/500 [00:02<00:00, 191.08it/s]\n",
      "Training Epoch 1419: 100%|██████████| 500/500 [00:02<00:00, 191.46it/s]\n",
      "Training Epoch 1420: 100%|██████████| 500/500 [00:02<00:00, 187.47it/s]\n",
      "Training Epoch 1421: 100%|██████████| 500/500 [00:02<00:00, 186.59it/s]\n"
     ]
    },
    {
     "name": "stdout",
     "output_type": "stream",
     "text": [
      "Epoch 1420 - Train Loss: 0.1087, Train MSE: 0.1089, Train MAE: 0.2416\n",
      "Epoch 1420 - Validation Loss: 1.4895, Validation MSE: 1.4850, Validation MAE: 0.8560\n"
     ]
    },
    {
     "name": "stderr",
     "output_type": "stream",
     "text": [
      "Training Epoch 1422: 100%|██████████| 500/500 [00:02<00:00, 187.98it/s]\n",
      "Training Epoch 1423: 100%|██████████| 500/500 [00:02<00:00, 190.35it/s]\n",
      "Training Epoch 1424: 100%|██████████| 500/500 [00:02<00:00, 189.52it/s]\n",
      "Training Epoch 1425: 100%|██████████| 500/500 [00:02<00:00, 187.22it/s]\n",
      "Training Epoch 1426: 100%|██████████| 500/500 [00:02<00:00, 187.09it/s]\n",
      "Training Epoch 1427: 100%|██████████| 500/500 [00:02<00:00, 189.31it/s]\n",
      "Training Epoch 1428: 100%|██████████| 500/500 [00:02<00:00, 188.87it/s]\n",
      "Training Epoch 1429: 100%|██████████| 500/500 [00:02<00:00, 190.66it/s]\n",
      "Training Epoch 1430: 100%|██████████| 500/500 [00:02<00:00, 188.52it/s]\n",
      "Training Epoch 1431: 100%|██████████| 500/500 [00:02<00:00, 191.42it/s]\n"
     ]
    },
    {
     "name": "stdout",
     "output_type": "stream",
     "text": [
      "Epoch 1430 - Train Loss: 0.1104, Train MSE: 0.1106, Train MAE: 0.2437\n",
      "Epoch 1430 - Validation Loss: 1.4696, Validation MSE: 1.4668, Validation MAE: 0.8490\n"
     ]
    },
    {
     "name": "stderr",
     "output_type": "stream",
     "text": [
      "Training Epoch 1432: 100%|██████████| 500/500 [00:02<00:00, 186.71it/s]\n",
      "Training Epoch 1433: 100%|██████████| 500/500 [00:02<00:00, 188.87it/s]\n",
      "Training Epoch 1434: 100%|██████████| 500/500 [00:02<00:00, 190.96it/s]\n",
      "Training Epoch 1435: 100%|██████████| 500/500 [00:02<00:00, 188.53it/s]\n",
      "Training Epoch 1436: 100%|██████████| 500/500 [00:02<00:00, 188.82it/s]\n",
      "Training Epoch 1437: 100%|██████████| 500/500 [00:02<00:00, 187.63it/s]\n",
      "Training Epoch 1438: 100%|██████████| 500/500 [00:02<00:00, 190.20it/s]\n",
      "Training Epoch 1439: 100%|██████████| 500/500 [00:02<00:00, 190.17it/s]\n",
      "Training Epoch 1440: 100%|██████████| 500/500 [00:02<00:00, 187.51it/s]\n",
      "Training Epoch 1441: 100%|██████████| 500/500 [00:02<00:00, 188.82it/s]\n"
     ]
    },
    {
     "name": "stdout",
     "output_type": "stream",
     "text": [
      "Epoch 1440 - Train Loss: 0.1119, Train MSE: 0.1121, Train MAE: 0.2431\n",
      "Epoch 1440 - Validation Loss: 1.4837, Validation MSE: 1.4807, Validation MAE: 0.8528\n"
     ]
    },
    {
     "name": "stderr",
     "output_type": "stream",
     "text": [
      "Training Epoch 1442: 100%|██████████| 500/500 [00:02<00:00, 189.55it/s]\n",
      "Training Epoch 1443: 100%|██████████| 500/500 [00:02<00:00, 186.51it/s]\n",
      "Training Epoch 1444: 100%|██████████| 500/500 [00:02<00:00, 190.64it/s]\n",
      "Training Epoch 1445: 100%|██████████| 500/500 [00:02<00:00, 182.34it/s]\n",
      "Training Epoch 1446: 100%|██████████| 500/500 [00:02<00:00, 191.10it/s]\n",
      "Training Epoch 1447: 100%|██████████| 500/500 [00:02<00:00, 187.58it/s]\n",
      "Training Epoch 1448: 100%|██████████| 500/500 [00:02<00:00, 188.47it/s]\n",
      "Training Epoch 1449: 100%|██████████| 500/500 [00:02<00:00, 188.79it/s]\n",
      "Training Epoch 1450: 100%|██████████| 500/500 [00:02<00:00, 189.84it/s]\n",
      "Training Epoch 1451: 100%|██████████| 500/500 [00:02<00:00, 191.01it/s]\n"
     ]
    },
    {
     "name": "stdout",
     "output_type": "stream",
     "text": [
      "Epoch 1450 - Train Loss: 0.1093, Train MSE: 0.1095, Train MAE: 0.2420\n",
      "Epoch 1450 - Validation Loss: 1.4754, Validation MSE: 1.4723, Validation MAE: 0.8523\n"
     ]
    },
    {
     "name": "stderr",
     "output_type": "stream",
     "text": [
      "Training Epoch 1452: 100%|██████████| 500/500 [00:02<00:00, 188.25it/s]\n",
      "Training Epoch 1453: 100%|██████████| 500/500 [00:02<00:00, 188.50it/s]\n",
      "Training Epoch 1454: 100%|██████████| 500/500 [00:02<00:00, 187.10it/s]\n",
      "Training Epoch 1455: 100%|██████████| 500/500 [00:02<00:00, 190.01it/s]\n",
      "Training Epoch 1456: 100%|██████████| 500/500 [00:02<00:00, 182.18it/s]\n",
      "Training Epoch 1457: 100%|██████████| 500/500 [00:02<00:00, 191.54it/s]\n",
      "Training Epoch 1458: 100%|██████████| 500/500 [00:02<00:00, 189.51it/s]\n",
      "Training Epoch 1459: 100%|██████████| 500/500 [00:02<00:00, 194.96it/s]\n",
      "Training Epoch 1460: 100%|██████████| 500/500 [00:02<00:00, 186.81it/s]\n",
      "Training Epoch 1461: 100%|██████████| 500/500 [00:02<00:00, 188.66it/s]\n"
     ]
    },
    {
     "name": "stdout",
     "output_type": "stream",
     "text": [
      "Epoch 1460 - Train Loss: 0.1150, Train MSE: 0.1152, Train MAE: 0.2445\n",
      "Epoch 1460 - Validation Loss: 1.4917, Validation MSE: 1.4865, Validation MAE: 0.8524\n"
     ]
    },
    {
     "name": "stderr",
     "output_type": "stream",
     "text": [
      "Training Epoch 1462: 100%|██████████| 500/500 [00:02<00:00, 190.34it/s]\n",
      "Training Epoch 1463: 100%|██████████| 500/500 [00:02<00:00, 189.04it/s]\n",
      "Training Epoch 1464: 100%|██████████| 500/500 [00:02<00:00, 192.04it/s]\n",
      "Training Epoch 1465: 100%|██████████| 500/500 [00:02<00:00, 191.49it/s]\n",
      "Training Epoch 1466: 100%|██████████| 500/500 [00:02<00:00, 186.11it/s]\n",
      "Training Epoch 1467: 100%|██████████| 500/500 [00:02<00:00, 189.20it/s]\n",
      "Training Epoch 1468: 100%|██████████| 500/500 [00:02<00:00, 188.52it/s]\n",
      "Training Epoch 1469: 100%|██████████| 500/500 [00:02<00:00, 190.44it/s]\n",
      "Training Epoch 1470: 100%|██████████| 500/500 [00:02<00:00, 188.17it/s]\n",
      "Training Epoch 1471: 100%|██████████| 500/500 [00:02<00:00, 187.49it/s]\n"
     ]
    },
    {
     "name": "stdout",
     "output_type": "stream",
     "text": [
      "Epoch 1470 - Train Loss: 0.1083, Train MSE: 0.1084, Train MAE: 0.2412\n",
      "Epoch 1470 - Validation Loss: 1.4736, Validation MSE: 1.4710, Validation MAE: 0.8512\n"
     ]
    },
    {
     "name": "stderr",
     "output_type": "stream",
     "text": [
      "Training Epoch 1472: 100%|██████████| 500/500 [00:02<00:00, 188.43it/s]\n",
      "Training Epoch 1473: 100%|██████████| 500/500 [00:02<00:00, 189.85it/s]\n",
      "Training Epoch 1474: 100%|██████████| 500/500 [00:02<00:00, 189.38it/s]\n",
      "Training Epoch 1475: 100%|██████████| 500/500 [00:02<00:00, 190.49it/s]\n",
      "Training Epoch 1476: 100%|██████████| 500/500 [00:02<00:00, 187.05it/s]\n",
      "Training Epoch 1477: 100%|██████████| 500/500 [00:02<00:00, 179.97it/s]\n",
      "Training Epoch 1478: 100%|██████████| 500/500 [00:02<00:00, 191.17it/s]\n",
      "Training Epoch 1479: 100%|██████████| 500/500 [00:02<00:00, 184.51it/s]\n",
      "Training Epoch 1480: 100%|██████████| 500/500 [00:02<00:00, 190.63it/s]\n",
      "Training Epoch 1481: 100%|██████████| 500/500 [00:02<00:00, 188.12it/s]\n"
     ]
    },
    {
     "name": "stdout",
     "output_type": "stream",
     "text": [
      "Epoch 1480 - Train Loss: 0.1048, Train MSE: 0.1050, Train MAE: 0.2372\n",
      "Epoch 1480 - Validation Loss: 1.5067, Validation MSE: 1.5025, Validation MAE: 0.8579\n"
     ]
    },
    {
     "name": "stderr",
     "output_type": "stream",
     "text": [
      "Training Epoch 1482: 100%|██████████| 500/500 [00:02<00:00, 189.12it/s]\n",
      "Training Epoch 1483: 100%|██████████| 500/500 [00:02<00:00, 189.42it/s]\n",
      "Training Epoch 1484: 100%|██████████| 500/500 [00:02<00:00, 189.71it/s]\n",
      "Training Epoch 1485: 100%|██████████| 500/500 [00:02<00:00, 186.34it/s]\n",
      "Training Epoch 1486: 100%|██████████| 500/500 [00:02<00:00, 191.26it/s]\n",
      "Training Epoch 1487: 100%|██████████| 500/500 [00:02<00:00, 189.99it/s]\n",
      "Training Epoch 1488: 100%|██████████| 500/500 [00:02<00:00, 191.03it/s]\n",
      "Training Epoch 1489: 100%|██████████| 500/500 [00:02<00:00, 189.01it/s]\n",
      "Training Epoch 1490: 100%|██████████| 500/500 [00:02<00:00, 187.21it/s]\n",
      "Training Epoch 1491: 100%|██████████| 500/500 [00:02<00:00, 190.34it/s]\n"
     ]
    },
    {
     "name": "stdout",
     "output_type": "stream",
     "text": [
      "Epoch 1490 - Train Loss: 0.1093, Train MSE: 0.1095, Train MAE: 0.2406\n",
      "Epoch 1490 - Validation Loss: 1.4794, Validation MSE: 1.4755, Validation MAE: 0.8553\n"
     ]
    },
    {
     "name": "stderr",
     "output_type": "stream",
     "text": [
      "Training Epoch 1492: 100%|██████████| 500/500 [00:02<00:00, 189.57it/s]\n",
      "Training Epoch 1493: 100%|██████████| 500/500 [00:02<00:00, 190.33it/s]\n",
      "Training Epoch 1494: 100%|██████████| 500/500 [00:02<00:00, 187.62it/s]\n",
      "Training Epoch 1495: 100%|██████████| 500/500 [00:02<00:00, 193.11it/s]\n",
      "Training Epoch 1496: 100%|██████████| 500/500 [00:02<00:00, 190.05it/s]\n",
      "Training Epoch 1497: 100%|██████████| 500/500 [00:02<00:00, 186.65it/s]\n",
      "Training Epoch 1498: 100%|██████████| 500/500 [00:02<00:00, 191.52it/s]\n",
      "Training Epoch 1499: 100%|██████████| 500/500 [00:02<00:00, 180.92it/s]\n",
      "Training Epoch 1500: 100%|██████████| 500/500 [00:02<00:00, 191.83it/s]\n",
      "Training Epoch 1501: 100%|██████████| 500/500 [00:02<00:00, 192.10it/s]\n"
     ]
    },
    {
     "name": "stdout",
     "output_type": "stream",
     "text": [
      "Epoch 1500 - Train Loss: 0.1066, Train MSE: 0.1067, Train MAE: 0.2385\n",
      "Epoch 1500 - Validation Loss: 1.4897, Validation MSE: 1.4847, Validation MAE: 0.8540\n"
     ]
    },
    {
     "name": "stderr",
     "output_type": "stream",
     "text": [
      "Training Epoch 1502: 100%|██████████| 500/500 [00:02<00:00, 191.24it/s]\n",
      "Training Epoch 1503: 100%|██████████| 500/500 [00:02<00:00, 192.65it/s]\n",
      "Training Epoch 1504: 100%|██████████| 500/500 [00:02<00:00, 189.92it/s]\n",
      "Training Epoch 1505: 100%|██████████| 500/500 [00:02<00:00, 190.72it/s]\n",
      "Training Epoch 1506: 100%|██████████| 500/500 [00:02<00:00, 188.42it/s]\n",
      "Training Epoch 1507: 100%|██████████| 500/500 [00:02<00:00, 189.39it/s]\n",
      "Training Epoch 1508: 100%|██████████| 500/500 [00:02<00:00, 191.61it/s]\n",
      "Training Epoch 1509: 100%|██████████| 500/500 [00:02<00:00, 188.90it/s]\n",
      "Training Epoch 1510: 100%|██████████| 500/500 [00:02<00:00, 188.99it/s]\n",
      "Training Epoch 1511: 100%|██████████| 500/500 [00:02<00:00, 190.83it/s]\n"
     ]
    },
    {
     "name": "stdout",
     "output_type": "stream",
     "text": [
      "Epoch 1510 - Train Loss: 0.1053, Train MSE: 0.1054, Train MAE: 0.2377\n",
      "Epoch 1510 - Validation Loss: 1.4823, Validation MSE: 1.4775, Validation MAE: 0.8494\n"
     ]
    },
    {
     "name": "stderr",
     "output_type": "stream",
     "text": [
      "Training Epoch 1512: 100%|██████████| 500/500 [00:02<00:00, 187.75it/s]\n",
      "Training Epoch 1513: 100%|██████████| 500/500 [00:02<00:00, 193.76it/s]\n",
      "Training Epoch 1514: 100%|██████████| 500/500 [00:02<00:00, 190.10it/s]\n",
      "Training Epoch 1515: 100%|██████████| 500/500 [00:02<00:00, 189.97it/s]\n",
      "Training Epoch 1516: 100%|██████████| 500/500 [00:02<00:00, 191.34it/s]\n",
      "Training Epoch 1517: 100%|██████████| 500/500 [00:02<00:00, 186.71it/s]\n",
      "Training Epoch 1518: 100%|██████████| 500/500 [00:02<00:00, 194.29it/s]\n",
      "Training Epoch 1519: 100%|██████████| 500/500 [00:02<00:00, 191.87it/s]\n",
      "Training Epoch 1520: 100%|██████████| 500/500 [00:02<00:00, 181.94it/s]\n",
      "Training Epoch 1521: 100%|██████████| 500/500 [00:02<00:00, 193.73it/s]\n"
     ]
    },
    {
     "name": "stdout",
     "output_type": "stream",
     "text": [
      "Epoch 1520 - Train Loss: 0.1071, Train MSE: 0.1073, Train MAE: 0.2386\n",
      "Epoch 1520 - Validation Loss: 1.4928, Validation MSE: 1.4893, Validation MAE: 0.8578\n"
     ]
    },
    {
     "name": "stderr",
     "output_type": "stream",
     "text": [
      "Training Epoch 1522: 100%|██████████| 500/500 [00:02<00:00, 187.95it/s]\n",
      "Training Epoch 1523: 100%|██████████| 500/500 [00:02<00:00, 191.99it/s]\n",
      "Training Epoch 1524: 100%|██████████| 500/500 [00:02<00:00, 197.16it/s]\n",
      "Training Epoch 1525: 100%|██████████| 500/500 [00:02<00:00, 191.35it/s]\n",
      "Training Epoch 1526: 100%|██████████| 500/500 [00:02<00:00, 190.10it/s]\n",
      "Training Epoch 1527: 100%|██████████| 500/500 [00:02<00:00, 184.73it/s]\n",
      "Training Epoch 1528: 100%|██████████| 500/500 [00:02<00:00, 191.25it/s]\n",
      "Training Epoch 1529: 100%|██████████| 500/500 [00:02<00:00, 190.90it/s]\n",
      "Training Epoch 1530: 100%|██████████| 500/500 [00:02<00:00, 189.04it/s]\n",
      "Training Epoch 1531: 100%|██████████| 500/500 [00:02<00:00, 191.62it/s]\n"
     ]
    },
    {
     "name": "stdout",
     "output_type": "stream",
     "text": [
      "Epoch 1530 - Train Loss: 0.1052, Train MSE: 0.1054, Train MAE: 0.2379\n",
      "Epoch 1530 - Validation Loss: 1.4602, Validation MSE: 1.4560, Validation MAE: 0.8459\n"
     ]
    },
    {
     "name": "stderr",
     "output_type": "stream",
     "text": [
      "Training Epoch 1532: 100%|██████████| 500/500 [00:02<00:00, 187.83it/s]\n",
      "Training Epoch 1533: 100%|██████████| 500/500 [00:02<00:00, 195.75it/s]\n",
      "Training Epoch 1534: 100%|██████████| 500/500 [00:02<00:00, 189.61it/s]\n",
      "Training Epoch 1535: 100%|██████████| 500/500 [00:02<00:00, 188.92it/s]\n",
      "Training Epoch 1536: 100%|██████████| 500/500 [00:02<00:00, 192.39it/s]\n",
      "Training Epoch 1537: 100%|██████████| 500/500 [00:02<00:00, 187.85it/s]\n",
      "Training Epoch 1538: 100%|██████████| 500/500 [00:02<00:00, 190.38it/s]\n",
      "Training Epoch 1539: 100%|██████████| 500/500 [00:02<00:00, 191.09it/s]\n",
      "Training Epoch 1540: 100%|██████████| 500/500 [00:02<00:00, 188.89it/s]\n",
      "Training Epoch 1541: 100%|██████████| 500/500 [00:02<00:00, 191.46it/s]\n"
     ]
    },
    {
     "name": "stdout",
     "output_type": "stream",
     "text": [
      "Epoch 1540 - Train Loss: 0.1083, Train MSE: 0.1085, Train MAE: 0.2398\n",
      "Epoch 1540 - Validation Loss: 1.4822, Validation MSE: 1.4763, Validation MAE: 0.8554\n"
     ]
    },
    {
     "name": "stderr",
     "output_type": "stream",
     "text": [
      "Training Epoch 1542: 100%|██████████| 500/500 [00:02<00:00, 182.96it/s]\n",
      "Training Epoch 1543: 100%|██████████| 500/500 [00:02<00:00, 189.71it/s]\n",
      "Training Epoch 1544: 100%|██████████| 500/500 [00:02<00:00, 189.58it/s]\n",
      "Training Epoch 1545: 100%|██████████| 500/500 [00:02<00:00, 189.19it/s]\n",
      "Training Epoch 1546: 100%|██████████| 500/500 [00:02<00:00, 188.31it/s]\n",
      "Training Epoch 1547: 100%|██████████| 500/500 [00:02<00:00, 187.97it/s]\n",
      "Training Epoch 1548: 100%|██████████| 500/500 [00:02<00:00, 191.55it/s]\n",
      "Training Epoch 1549: 100%|██████████| 500/500 [00:02<00:00, 191.99it/s]\n",
      "Training Epoch 1550: 100%|██████████| 500/500 [00:02<00:00, 187.82it/s]\n",
      "Training Epoch 1551: 100%|██████████| 500/500 [00:02<00:00, 191.90it/s]\n"
     ]
    },
    {
     "name": "stdout",
     "output_type": "stream",
     "text": [
      "Epoch 1550 - Train Loss: 0.1047, Train MSE: 0.1049, Train MAE: 0.2371\n",
      "Epoch 1550 - Validation Loss: 1.4806, Validation MSE: 1.4769, Validation MAE: 0.8546\n"
     ]
    },
    {
     "name": "stderr",
     "output_type": "stream",
     "text": [
      "Training Epoch 1552: 100%|██████████| 500/500 [00:02<00:00, 188.06it/s]\n",
      "Training Epoch 1553: 100%|██████████| 500/500 [00:02<00:00, 193.10it/s]\n",
      "Training Epoch 1554: 100%|██████████| 500/500 [00:02<00:00, 186.44it/s]\n",
      "Training Epoch 1555: 100%|██████████| 500/500 [00:02<00:00, 189.25it/s]\n",
      "Training Epoch 1556: 100%|██████████| 500/500 [00:02<00:00, 193.28it/s]\n",
      "Training Epoch 1557: 100%|██████████| 500/500 [00:02<00:00, 187.22it/s]\n",
      "Training Epoch 1558: 100%|██████████| 500/500 [00:02<00:00, 192.16it/s]\n",
      "Training Epoch 1559: 100%|██████████| 500/500 [00:02<00:00, 191.99it/s]\n",
      "Training Epoch 1560: 100%|██████████| 500/500 [00:02<00:00, 189.67it/s]\n",
      "Training Epoch 1561: 100%|██████████| 500/500 [00:02<00:00, 191.81it/s]\n"
     ]
    },
    {
     "name": "stdout",
     "output_type": "stream",
     "text": [
      "Epoch 1560 - Train Loss: 0.1076, Train MSE: 0.1078, Train MAE: 0.2373\n",
      "Epoch 1560 - Validation Loss: 1.4824, Validation MSE: 1.4766, Validation MAE: 0.8540\n"
     ]
    },
    {
     "name": "stderr",
     "output_type": "stream",
     "text": [
      "Training Epoch 1562: 100%|██████████| 500/500 [00:02<00:00, 186.13it/s]\n",
      "Training Epoch 1563: 100%|██████████| 500/500 [00:02<00:00, 181.82it/s]\n",
      "Training Epoch 1564: 100%|██████████| 500/500 [00:02<00:00, 193.07it/s]\n",
      "Training Epoch 1565: 100%|██████████| 500/500 [00:02<00:00, 186.55it/s]\n",
      "Training Epoch 1566: 100%|██████████| 500/500 [00:02<00:00, 192.05it/s]\n",
      "Training Epoch 1567: 100%|██████████| 500/500 [00:02<00:00, 189.77it/s]\n",
      "Training Epoch 1568: 100%|██████████| 500/500 [00:02<00:00, 193.12it/s]\n",
      "Training Epoch 1569: 100%|██████████| 500/500 [00:02<00:00, 191.47it/s]\n",
      "Training Epoch 1570: 100%|██████████| 500/500 [00:02<00:00, 187.81it/s]\n",
      "Training Epoch 1571: 100%|██████████| 500/500 [00:02<00:00, 192.72it/s]\n"
     ]
    },
    {
     "name": "stdout",
     "output_type": "stream",
     "text": [
      "Epoch 1570 - Train Loss: 0.1036, Train MSE: 0.1036, Train MAE: 0.2361\n",
      "Epoch 1570 - Validation Loss: 1.4847, Validation MSE: 1.4781, Validation MAE: 0.8550\n"
     ]
    },
    {
     "name": "stderr",
     "output_type": "stream",
     "text": [
      "Training Epoch 1572: 100%|██████████| 500/500 [00:02<00:00, 186.90it/s]\n",
      "Training Epoch 1573: 100%|██████████| 500/500 [00:02<00:00, 191.52it/s]\n",
      "Training Epoch 1574: 100%|██████████| 500/500 [00:02<00:00, 189.21it/s]\n",
      "Training Epoch 1575: 100%|██████████| 500/500 [00:02<00:00, 188.81it/s]\n",
      "Training Epoch 1576: 100%|██████████| 500/500 [00:02<00:00, 193.87it/s]\n",
      "Training Epoch 1577: 100%|██████████| 500/500 [00:02<00:00, 187.68it/s]\n",
      "Training Epoch 1578: 100%|██████████| 500/500 [00:02<00:00, 188.79it/s]\n",
      "Training Epoch 1579: 100%|██████████| 500/500 [00:02<00:00, 193.07it/s]\n",
      "Training Epoch 1580: 100%|██████████| 500/500 [00:02<00:00, 185.60it/s]\n",
      "Training Epoch 1581: 100%|██████████| 500/500 [00:02<00:00, 193.07it/s]\n"
     ]
    },
    {
     "name": "stdout",
     "output_type": "stream",
     "text": [
      "Epoch 1580 - Train Loss: 0.1027, Train MSE: 0.1029, Train MAE: 0.2359\n",
      "Epoch 1580 - Validation Loss: 1.4777, Validation MSE: 1.4741, Validation MAE: 0.8539\n"
     ]
    },
    {
     "name": "stderr",
     "output_type": "stream",
     "text": [
      "Training Epoch 1582: 100%|██████████| 500/500 [00:02<00:00, 185.95it/s]\n",
      "Training Epoch 1583: 100%|██████████| 500/500 [00:02<00:00, 192.71it/s]\n",
      "Training Epoch 1584: 100%|██████████| 500/500 [00:02<00:00, 190.75it/s]\n",
      "Training Epoch 1585: 100%|██████████| 500/500 [00:02<00:00, 186.43it/s]\n",
      "Training Epoch 1586: 100%|██████████| 500/500 [00:02<00:00, 189.59it/s]\n",
      "Training Epoch 1587: 100%|██████████| 500/500 [00:02<00:00, 188.03it/s]\n",
      "Training Epoch 1588: 100%|██████████| 500/500 [00:02<00:00, 191.97it/s]\n",
      "Training Epoch 1589: 100%|██████████| 500/500 [00:02<00:00, 193.80it/s]\n",
      "Training Epoch 1590: 100%|██████████| 500/500 [00:02<00:00, 189.21it/s]\n",
      "Training Epoch 1591: 100%|██████████| 500/500 [00:02<00:00, 190.73it/s]\n"
     ]
    },
    {
     "name": "stdout",
     "output_type": "stream",
     "text": [
      "Epoch 1590 - Train Loss: 0.1083, Train MSE: 0.1085, Train MAE: 0.2391\n",
      "Epoch 1590 - Validation Loss: 1.4851, Validation MSE: 1.4803, Validation MAE: 0.8540\n"
     ]
    },
    {
     "name": "stderr",
     "output_type": "stream",
     "text": [
      "Training Epoch 1592: 100%|██████████| 500/500 [00:02<00:00, 185.09it/s]\n",
      "Training Epoch 1593: 100%|██████████| 500/500 [00:02<00:00, 189.25it/s]\n",
      "Training Epoch 1594: 100%|██████████| 500/500 [00:02<00:00, 191.86it/s]\n",
      "Training Epoch 1595: 100%|██████████| 500/500 [00:02<00:00, 186.38it/s]\n",
      "Training Epoch 1596: 100%|██████████| 500/500 [00:02<00:00, 189.20it/s]\n",
      "Training Epoch 1597: 100%|██████████| 500/500 [00:02<00:00, 182.97it/s]\n",
      "Training Epoch 1598: 100%|██████████| 500/500 [00:02<00:00, 189.91it/s]\n",
      "Training Epoch 1599: 100%|██████████| 500/500 [00:02<00:00, 192.82it/s]\n",
      "Training Epoch 1600: 100%|██████████| 500/500 [00:02<00:00, 187.16it/s]\n",
      "Training Epoch 1601: 100%|██████████| 500/500 [00:02<00:00, 189.97it/s]\n"
     ]
    },
    {
     "name": "stdout",
     "output_type": "stream",
     "text": [
      "Epoch 1600 - Train Loss: 0.1034, Train MSE: 0.1031, Train MAE: 0.2350\n",
      "Epoch 1600 - Validation Loss: 1.4858, Validation MSE: 1.4802, Validation MAE: 0.8540\n"
     ]
    },
    {
     "name": "stderr",
     "output_type": "stream",
     "text": [
      "Training Epoch 1602: 100%|██████████| 500/500 [00:02<00:00, 190.85it/s]\n",
      "Training Epoch 1603: 100%|██████████| 500/500 [00:02<00:00, 186.39it/s]\n",
      "Training Epoch 1604: 100%|██████████| 500/500 [00:02<00:00, 191.06it/s]\n",
      "Training Epoch 1605: 100%|██████████| 500/500 [00:02<00:00, 187.51it/s]\n",
      "Training Epoch 1606: 100%|██████████| 500/500 [00:02<00:00, 177.55it/s]\n",
      "Training Epoch 1607: 100%|██████████| 500/500 [00:02<00:00, 191.57it/s]\n",
      "Training Epoch 1608: 100%|██████████| 500/500 [00:02<00:00, 185.01it/s]\n",
      "Training Epoch 1609: 100%|██████████| 500/500 [00:02<00:00, 192.34it/s]\n",
      "Training Epoch 1610: 100%|██████████| 500/500 [00:02<00:00, 192.24it/s]\n",
      "Training Epoch 1611: 100%|██████████| 500/500 [00:02<00:00, 191.08it/s]\n"
     ]
    },
    {
     "name": "stdout",
     "output_type": "stream",
     "text": [
      "Epoch 1610 - Train Loss: 0.1036, Train MSE: 0.1038, Train MAE: 0.2370\n",
      "Epoch 1610 - Validation Loss: 1.4877, Validation MSE: 1.4830, Validation MAE: 0.8527\n"
     ]
    },
    {
     "name": "stderr",
     "output_type": "stream",
     "text": [
      "Training Epoch 1612: 100%|██████████| 500/500 [00:02<00:00, 192.80it/s]\n",
      "Training Epoch 1613: 100%|██████████| 500/500 [00:02<00:00, 188.63it/s]\n",
      "Training Epoch 1614: 100%|██████████| 500/500 [00:02<00:00, 188.41it/s]\n",
      "Training Epoch 1615: 100%|██████████| 500/500 [00:02<00:00, 189.56it/s]\n",
      "Training Epoch 1616: 100%|██████████| 500/500 [00:02<00:00, 189.77it/s]\n",
      "Training Epoch 1617: 100%|██████████| 500/500 [00:02<00:00, 189.54it/s]\n",
      "Training Epoch 1618: 100%|██████████| 500/500 [00:02<00:00, 189.72it/s]\n",
      "Training Epoch 1619: 100%|██████████| 500/500 [00:02<00:00, 193.16it/s]\n",
      "Training Epoch 1620: 100%|██████████| 500/500 [00:02<00:00, 187.95it/s]\n",
      "Training Epoch 1621: 100%|██████████| 500/500 [00:02<00:00, 187.36it/s]\n"
     ]
    },
    {
     "name": "stdout",
     "output_type": "stream",
     "text": [
      "Epoch 1620 - Train Loss: 0.1071, Train MSE: 0.1073, Train MAE: 0.2368\n",
      "Epoch 1620 - Validation Loss: 1.4979, Validation MSE: 1.4932, Validation MAE: 0.8613\n"
     ]
    },
    {
     "name": "stderr",
     "output_type": "stream",
     "text": [
      "Training Epoch 1622: 100%|██████████| 500/500 [00:02<00:00, 196.72it/s]\n",
      "Training Epoch 1623: 100%|██████████| 500/500 [00:02<00:00, 188.26it/s]\n",
      "Training Epoch 1624: 100%|██████████| 500/500 [00:02<00:00, 190.64it/s]\n",
      "Training Epoch 1625: 100%|██████████| 500/500 [00:02<00:00, 189.58it/s]\n",
      "Training Epoch 1626: 100%|██████████| 500/500 [00:02<00:00, 189.69it/s]\n",
      "Training Epoch 1627: 100%|██████████| 500/500 [00:02<00:00, 187.63it/s]\n",
      "Training Epoch 1628: 100%|██████████| 500/500 [00:02<00:00, 186.10it/s]\n",
      "Training Epoch 1629: 100%|██████████| 500/500 [00:02<00:00, 190.35it/s]\n",
      "Training Epoch 1630: 100%|██████████| 500/500 [00:02<00:00, 188.08it/s]\n",
      "Training Epoch 1631: 100%|██████████| 500/500 [00:02<00:00, 185.35it/s]\n"
     ]
    },
    {
     "name": "stdout",
     "output_type": "stream",
     "text": [
      "Epoch 1630 - Train Loss: 0.1048, Train MSE: 0.1050, Train MAE: 0.2354\n",
      "Epoch 1630 - Validation Loss: 1.4934, Validation MSE: 1.4901, Validation MAE: 0.8584\n"
     ]
    },
    {
     "name": "stderr",
     "output_type": "stream",
     "text": [
      "Training Epoch 1632: 100%|██████████| 500/500 [00:02<00:00, 189.54it/s]\n",
      "Training Epoch 1633: 100%|██████████| 500/500 [00:02<00:00, 188.63it/s]\n",
      "Training Epoch 1634: 100%|██████████| 500/500 [00:02<00:00, 187.59it/s]\n",
      "Training Epoch 1635: 100%|██████████| 500/500 [00:02<00:00, 188.35it/s]\n",
      "Training Epoch 1636: 100%|██████████| 500/500 [00:02<00:00, 190.16it/s]\n",
      "Training Epoch 1637: 100%|██████████| 500/500 [00:02<00:00, 189.86it/s]\n",
      "Training Epoch 1638: 100%|██████████| 500/500 [00:02<00:00, 188.41it/s]\n",
      "Training Epoch 1639: 100%|██████████| 500/500 [00:02<00:00, 189.62it/s]\n",
      "Training Epoch 1640: 100%|██████████| 500/500 [00:02<00:00, 191.22it/s]\n",
      "Training Epoch 1641: 100%|██████████| 500/500 [00:02<00:00, 190.47it/s]\n"
     ]
    },
    {
     "name": "stdout",
     "output_type": "stream",
     "text": [
      "Epoch 1640 - Train Loss: 0.1038, Train MSE: 0.1035, Train MAE: 0.2351\n",
      "Epoch 1640 - Validation Loss: 1.4852, Validation MSE: 1.4823, Validation MAE: 0.8567\n"
     ]
    },
    {
     "name": "stderr",
     "output_type": "stream",
     "text": [
      "Training Epoch 1642: 100%|██████████| 500/500 [00:02<00:00, 190.81it/s]\n",
      "Training Epoch 1643: 100%|██████████| 500/500 [00:02<00:00, 185.68it/s]\n",
      "Training Epoch 1644: 100%|██████████| 500/500 [00:02<00:00, 190.35it/s]\n",
      "Training Epoch 1645: 100%|██████████| 500/500 [00:02<00:00, 191.31it/s]\n",
      "Training Epoch 1646: 100%|██████████| 500/500 [00:02<00:00, 189.13it/s]\n",
      "Training Epoch 1647: 100%|██████████| 500/500 [00:02<00:00, 189.38it/s]\n",
      "Training Epoch 1648: 100%|██████████| 500/500 [00:02<00:00, 185.43it/s]\n",
      "Training Epoch 1649: 100%|██████████| 500/500 [00:02<00:00, 184.07it/s]\n",
      "Training Epoch 1650: 100%|██████████| 500/500 [00:02<00:00, 190.86it/s]\n",
      "Training Epoch 1651: 100%|██████████| 500/500 [00:02<00:00, 190.09it/s]\n"
     ]
    },
    {
     "name": "stdout",
     "output_type": "stream",
     "text": [
      "Epoch 1650 - Train Loss: 0.1048, Train MSE: 0.1048, Train MAE: 0.2349\n",
      "Epoch 1650 - Validation Loss: 1.4993, Validation MSE: 1.4956, Validation MAE: 0.8575\n"
     ]
    },
    {
     "name": "stderr",
     "output_type": "stream",
     "text": [
      "Training Epoch 1652: 100%|██████████| 500/500 [00:02<00:00, 190.10it/s]\n",
      "Training Epoch 1653: 100%|██████████| 500/500 [00:02<00:00, 193.44it/s]\n",
      "Training Epoch 1654: 100%|██████████| 500/500 [00:02<00:00, 186.64it/s]\n",
      "Training Epoch 1655: 100%|██████████| 500/500 [00:02<00:00, 190.62it/s]\n",
      "Training Epoch 1656: 100%|██████████| 500/500 [00:02<00:00, 188.68it/s]\n",
      "Training Epoch 1657: 100%|██████████| 500/500 [00:02<00:00, 192.34it/s]\n",
      "Training Epoch 1658: 100%|██████████| 500/500 [00:02<00:00, 189.88it/s]\n",
      "Training Epoch 1659: 100%|██████████| 500/500 [00:02<00:00, 181.69it/s]\n",
      "Training Epoch 1660: 100%|██████████| 500/500 [00:02<00:00, 169.30it/s]\n",
      "Training Epoch 1661: 100%|██████████| 500/500 [00:02<00:00, 176.64it/s]\n"
     ]
    },
    {
     "name": "stdout",
     "output_type": "stream",
     "text": [
      "Epoch 1660 - Train Loss: 0.1074, Train MSE: 0.1074, Train MAE: 0.2373\n",
      "Epoch 1660 - Validation Loss: 1.4903, Validation MSE: 1.4853, Validation MAE: 0.8544\n"
     ]
    },
    {
     "name": "stderr",
     "output_type": "stream",
     "text": [
      "Training Epoch 1662: 100%|██████████| 500/500 [00:02<00:00, 179.82it/s]\n",
      "Training Epoch 1663: 100%|██████████| 500/500 [00:02<00:00, 177.77it/s]\n",
      "Training Epoch 1664: 100%|██████████| 500/500 [00:02<00:00, 175.24it/s]\n",
      "Training Epoch 1665: 100%|██████████| 500/500 [00:02<00:00, 176.72it/s]\n",
      "Training Epoch 1666: 100%|██████████| 500/500 [00:02<00:00, 183.51it/s]\n",
      "Training Epoch 1667: 100%|██████████| 500/500 [00:02<00:00, 189.58it/s]\n",
      "Training Epoch 1668: 100%|██████████| 500/500 [00:02<00:00, 182.87it/s]\n",
      "Training Epoch 1669: 100%|██████████| 500/500 [00:02<00:00, 182.88it/s]\n",
      "Training Epoch 1670: 100%|██████████| 500/500 [00:02<00:00, 176.46it/s]\n",
      "Training Epoch 1671: 100%|██████████| 500/500 [00:02<00:00, 186.40it/s]\n"
     ]
    },
    {
     "name": "stdout",
     "output_type": "stream",
     "text": [
      "Epoch 1670 - Train Loss: 0.0999, Train MSE: 0.1000, Train MAE: 0.2319\n",
      "Epoch 1670 - Validation Loss: 1.4889, Validation MSE: 1.4864, Validation MAE: 0.8551\n"
     ]
    },
    {
     "name": "stderr",
     "output_type": "stream",
     "text": [
      "Training Epoch 1672: 100%|██████████| 500/500 [00:02<00:00, 177.91it/s]\n",
      "Training Epoch 1673: 100%|██████████| 500/500 [00:02<00:00, 182.31it/s]\n",
      "Training Epoch 1674: 100%|██████████| 500/500 [00:02<00:00, 182.01it/s]\n",
      "Training Epoch 1675: 100%|██████████| 500/500 [00:02<00:00, 172.02it/s]\n",
      "Training Epoch 1676: 100%|██████████| 500/500 [00:02<00:00, 174.78it/s]\n",
      "Training Epoch 1677: 100%|██████████| 500/500 [00:02<00:00, 190.06it/s]\n",
      "Training Epoch 1678: 100%|██████████| 500/500 [00:02<00:00, 187.93it/s]\n",
      "Training Epoch 1679: 100%|██████████| 500/500 [00:02<00:00, 193.71it/s]\n",
      "Training Epoch 1680: 100%|██████████| 500/500 [00:02<00:00, 189.18it/s]\n",
      "Training Epoch 1681: 100%|██████████| 500/500 [00:02<00:00, 190.55it/s]\n"
     ]
    },
    {
     "name": "stdout",
     "output_type": "stream",
     "text": [
      "Epoch 1680 - Train Loss: 0.1009, Train MSE: 0.1002, Train MAE: 0.2303\n",
      "Epoch 1680 - Validation Loss: 1.4742, Validation MSE: 1.4690, Validation MAE: 0.8546\n"
     ]
    },
    {
     "name": "stderr",
     "output_type": "stream",
     "text": [
      "Training Epoch 1682: 100%|██████████| 500/500 [00:02<00:00, 188.51it/s]\n",
      "Training Epoch 1683: 100%|██████████| 500/500 [00:02<00:00, 188.80it/s]\n",
      "Training Epoch 1684: 100%|██████████| 500/500 [00:02<00:00, 192.11it/s]\n",
      "Training Epoch 1685: 100%|██████████| 500/500 [00:02<00:00, 175.63it/s]\n",
      "Training Epoch 1686: 100%|██████████| 500/500 [00:02<00:00, 187.47it/s]\n",
      "Training Epoch 1687: 100%|██████████| 500/500 [00:02<00:00, 189.53it/s]\n",
      "Training Epoch 1688: 100%|██████████| 500/500 [00:02<00:00, 187.90it/s]\n",
      "Training Epoch 1689: 100%|██████████| 500/500 [00:02<00:00, 192.75it/s]\n",
      "Training Epoch 1690: 100%|██████████| 500/500 [00:02<00:00, 189.06it/s]\n",
      "Training Epoch 1691: 100%|██████████| 500/500 [00:02<00:00, 186.28it/s]\n"
     ]
    },
    {
     "name": "stdout",
     "output_type": "stream",
     "text": [
      "Epoch 1690 - Train Loss: 0.1012, Train MSE: 0.1014, Train MAE: 0.2338\n",
      "Epoch 1690 - Validation Loss: 1.4938, Validation MSE: 1.4903, Validation MAE: 0.8577\n"
     ]
    },
    {
     "name": "stderr",
     "output_type": "stream",
     "text": [
      "Training Epoch 1692: 100%|██████████| 500/500 [00:02<00:00, 189.66it/s]\n",
      "Training Epoch 1693: 100%|██████████| 500/500 [00:02<00:00, 185.19it/s]\n",
      "Training Epoch 1694: 100%|██████████| 500/500 [00:02<00:00, 193.63it/s]\n",
      "Training Epoch 1695: 100%|██████████| 500/500 [00:02<00:00, 192.76it/s]\n",
      "Training Epoch 1696: 100%|██████████| 500/500 [00:02<00:00, 192.23it/s]\n",
      "Training Epoch 1697: 100%|██████████| 500/500 [00:02<00:00, 195.08it/s]\n",
      "Training Epoch 1698: 100%|██████████| 500/500 [00:02<00:00, 188.25it/s]\n",
      "Training Epoch 1699: 100%|██████████| 500/500 [00:02<00:00, 192.57it/s]\n",
      "Training Epoch 1700: 100%|██████████| 500/500 [00:02<00:00, 191.20it/s]\n",
      "Training Epoch 1701: 100%|██████████| 500/500 [00:02<00:00, 187.21it/s]\n"
     ]
    },
    {
     "name": "stdout",
     "output_type": "stream",
     "text": [
      "Epoch 1700 - Train Loss: 0.0979, Train MSE: 0.0980, Train MAE: 0.2294\n",
      "Epoch 1700 - Validation Loss: 1.4868, Validation MSE: 1.4824, Validation MAE: 0.8563\n"
     ]
    },
    {
     "name": "stderr",
     "output_type": "stream",
     "text": [
      "Training Epoch 1702: 100%|██████████| 500/500 [00:02<00:00, 192.10it/s]\n",
      "Training Epoch 1703: 100%|██████████| 500/500 [00:02<00:00, 189.68it/s]\n",
      "Training Epoch 1704: 100%|██████████| 500/500 [00:02<00:00, 190.83it/s]\n",
      "Training Epoch 1705: 100%|██████████| 500/500 [00:02<00:00, 187.19it/s]\n",
      "Training Epoch 1706: 100%|██████████| 500/500 [00:02<00:00, 192.35it/s]\n",
      "Training Epoch 1707: 100%|██████████| 500/500 [00:02<00:00, 191.79it/s]\n",
      "Training Epoch 1708: 100%|██████████| 500/500 [00:02<00:00, 186.84it/s]\n",
      "Training Epoch 1709: 100%|██████████| 500/500 [00:02<00:00, 191.85it/s]\n",
      "Training Epoch 1710: 100%|██████████| 500/500 [00:02<00:00, 187.45it/s]\n",
      "Training Epoch 1711: 100%|██████████| 500/500 [00:02<00:00, 187.76it/s]\n"
     ]
    },
    {
     "name": "stdout",
     "output_type": "stream",
     "text": [
      "Epoch 1710 - Train Loss: 0.1004, Train MSE: 0.1005, Train MAE: 0.2310\n",
      "Epoch 1710 - Validation Loss: 1.4627, Validation MSE: 1.4583, Validation MAE: 0.8502\n"
     ]
    },
    {
     "name": "stderr",
     "output_type": "stream",
     "text": [
      "Training Epoch 1712: 100%|██████████| 500/500 [00:02<00:00, 177.07it/s]\n",
      "Training Epoch 1713: 100%|██████████| 500/500 [00:02<00:00, 190.15it/s]\n",
      "Training Epoch 1714: 100%|██████████| 500/500 [00:02<00:00, 190.60it/s]\n",
      "Training Epoch 1715: 100%|██████████| 500/500 [00:02<00:00, 193.74it/s]\n",
      "Training Epoch 1716: 100%|██████████| 500/500 [00:02<00:00, 186.79it/s]\n",
      "Training Epoch 1717: 100%|██████████| 500/500 [00:02<00:00, 192.86it/s]\n",
      "Training Epoch 1718: 100%|██████████| 500/500 [00:02<00:00, 189.45it/s]\n",
      "Training Epoch 1719: 100%|██████████| 500/500 [00:02<00:00, 192.11it/s]\n",
      "Training Epoch 1720: 100%|██████████| 500/500 [00:02<00:00, 189.93it/s]\n",
      "Training Epoch 1721: 100%|██████████| 500/500 [00:02<00:00, 187.97it/s]\n"
     ]
    },
    {
     "name": "stdout",
     "output_type": "stream",
     "text": [
      "Epoch 1720 - Train Loss: 0.1033, Train MSE: 0.1032, Train MAE: 0.2325\n",
      "Epoch 1720 - Validation Loss: 1.4825, Validation MSE: 1.4794, Validation MAE: 0.8542\n"
     ]
    },
    {
     "name": "stderr",
     "output_type": "stream",
     "text": [
      "Training Epoch 1722: 100%|██████████| 500/500 [00:02<00:00, 191.40it/s]\n",
      "Training Epoch 1723: 100%|██████████| 500/500 [00:02<00:00, 186.32it/s]\n",
      "Training Epoch 1724: 100%|██████████| 500/500 [00:02<00:00, 191.31it/s]\n",
      "Training Epoch 1725: 100%|██████████| 500/500 [00:02<00:00, 191.44it/s]\n",
      "Training Epoch 1726: 100%|██████████| 500/500 [00:02<00:00, 189.23it/s]\n",
      "Training Epoch 1727: 100%|██████████| 500/500 [00:02<00:00, 192.29it/s]\n",
      "Training Epoch 1728: 100%|██████████| 500/500 [00:02<00:00, 186.52it/s]\n",
      "Training Epoch 1729: 100%|██████████| 500/500 [00:02<00:00, 186.53it/s]\n",
      "Training Epoch 1730: 100%|██████████| 500/500 [00:02<00:00, 195.38it/s]\n",
      "Training Epoch 1731: 100%|██████████| 500/500 [00:02<00:00, 188.84it/s]\n"
     ]
    },
    {
     "name": "stdout",
     "output_type": "stream",
     "text": [
      "Epoch 1730 - Train Loss: 0.0993, Train MSE: 0.0994, Train MAE: 0.2322\n",
      "Epoch 1730 - Validation Loss: 1.4747, Validation MSE: 1.4709, Validation MAE: 0.8533\n"
     ]
    },
    {
     "name": "stderr",
     "output_type": "stream",
     "text": [
      "Training Epoch 1732: 100%|██████████| 500/500 [00:02<00:00, 189.86it/s]\n",
      "Training Epoch 1733: 100%|██████████| 500/500 [00:02<00:00, 187.80it/s]\n",
      "Training Epoch 1734: 100%|██████████| 500/500 [00:02<00:00, 183.04it/s]\n",
      "Training Epoch 1735: 100%|██████████| 500/500 [00:02<00:00, 192.55it/s]\n",
      "Training Epoch 1736: 100%|██████████| 500/500 [00:02<00:00, 186.82it/s]\n",
      "Training Epoch 1737: 100%|██████████| 500/500 [00:02<00:00, 191.14it/s]\n",
      "Training Epoch 1738: 100%|██████████| 500/500 [00:02<00:00, 191.42it/s]\n",
      "Training Epoch 1739: 100%|██████████| 500/500 [00:02<00:00, 186.72it/s]\n",
      "Training Epoch 1740: 100%|██████████| 500/500 [00:02<00:00, 191.41it/s]\n",
      "Training Epoch 1741: 100%|██████████| 500/500 [00:02<00:00, 188.52it/s]\n"
     ]
    },
    {
     "name": "stdout",
     "output_type": "stream",
     "text": [
      "Epoch 1740 - Train Loss: 0.0991, Train MSE: 0.0992, Train MAE: 0.2277\n",
      "Epoch 1740 - Validation Loss: 1.4889, Validation MSE: 1.4841, Validation MAE: 0.8537\n"
     ]
    },
    {
     "name": "stderr",
     "output_type": "stream",
     "text": [
      "Training Epoch 1742: 100%|██████████| 500/500 [00:02<00:00, 167.48it/s]\n",
      "Training Epoch 1743: 100%|██████████| 500/500 [00:02<00:00, 187.67it/s]\n",
      "Training Epoch 1744: 100%|██████████| 500/500 [00:02<00:00, 193.35it/s]\n",
      "Training Epoch 1745: 100%|██████████| 500/500 [00:02<00:00, 184.26it/s]\n",
      "Training Epoch 1746: 100%|██████████| 500/500 [00:02<00:00, 169.16it/s]\n",
      "Training Epoch 1747: 100%|██████████| 500/500 [00:02<00:00, 190.38it/s]\n",
      "Training Epoch 1748: 100%|██████████| 500/500 [16:27<00:00,  1.98s/it] \n",
      "Training Epoch 1749: 100%|██████████| 500/500 [00:03<00:00, 164.46it/s]\n",
      "Training Epoch 1750: 100%|██████████| 500/500 [00:04<00:00, 110.21it/s]\n",
      "Training Epoch 1751: 100%|██████████| 500/500 [00:02<00:00, 187.49it/s]\n"
     ]
    },
    {
     "name": "stdout",
     "output_type": "stream",
     "text": [
      "Epoch 1750 - Train Loss: 0.0981, Train MSE: 0.0982, Train MAE: 0.2301\n",
      "Epoch 1750 - Validation Loss: 1.4601, Validation MSE: 1.4541, Validation MAE: 0.8468\n"
     ]
    },
    {
     "name": "stderr",
     "output_type": "stream",
     "text": [
      "Training Epoch 1752: 100%|██████████| 500/500 [00:02<00:00, 192.51it/s]\n",
      "Training Epoch 1753: 100%|██████████| 500/500 [00:02<00:00, 182.81it/s]\n",
      "Training Epoch 1754: 100%|██████████| 500/500 [00:02<00:00, 179.14it/s]\n",
      "Training Epoch 1755: 100%|██████████| 500/500 [00:02<00:00, 186.19it/s]\n",
      "Training Epoch 1756: 100%|██████████| 500/500 [00:02<00:00, 179.76it/s]\n",
      "Training Epoch 1757: 100%|██████████| 500/500 [00:02<00:00, 186.08it/s]\n",
      "Training Epoch 1758: 100%|██████████| 500/500 [00:02<00:00, 180.29it/s]\n",
      "Training Epoch 1759: 100%|██████████| 500/500 [00:02<00:00, 186.22it/s]\n",
      "Training Epoch 1760: 100%|██████████| 500/500 [00:02<00:00, 178.60it/s]\n",
      "Training Epoch 1761: 100%|██████████| 500/500 [00:02<00:00, 181.85it/s]\n"
     ]
    },
    {
     "name": "stdout",
     "output_type": "stream",
     "text": [
      "Epoch 1760 - Train Loss: 0.1015, Train MSE: 0.1012, Train MAE: 0.2305\n",
      "Epoch 1760 - Validation Loss: 1.4882, Validation MSE: 1.4825, Validation MAE: 0.8553\n"
     ]
    },
    {
     "name": "stderr",
     "output_type": "stream",
     "text": [
      "Training Epoch 1762: 100%|██████████| 500/500 [00:02<00:00, 186.74it/s]\n",
      "Training Epoch 1763: 100%|██████████| 500/500 [00:02<00:00, 184.22it/s]\n",
      "Training Epoch 1764: 100%|██████████| 500/500 [16:39<00:00,  2.00s/it]  \n",
      "Training Epoch 1765: 100%|██████████| 500/500 [00:02<00:00, 184.64it/s]\n",
      "Training Epoch 1766: 100%|██████████| 500/500 [15:26<00:00,  1.85s/it] \n",
      "Training Epoch 1767: 100%|██████████| 500/500 [15:06<00:00,  1.81s/it] \n",
      "Training Epoch 1768: 100%|██████████| 500/500 [00:02<00:00, 182.48it/s]\n",
      "Training Epoch 1769: 100%|██████████| 500/500 [13:04<00:00,  1.57s/it] \n",
      "Training Epoch 1770: 100%|██████████| 500/500 [00:02<00:00, 181.42it/s]\n",
      "Training Epoch 1771: 100%|██████████| 500/500 [00:05<00:00, 99.96it/s] \n"
     ]
    },
    {
     "name": "stdout",
     "output_type": "stream",
     "text": [
      "Epoch 1770 - Train Loss: 0.0984, Train MSE: 0.0986, Train MAE: 0.2265\n",
      "Epoch 1770 - Validation Loss: 1.4788, Validation MSE: 1.4734, Validation MAE: 0.8540\n"
     ]
    },
    {
     "name": "stderr",
     "output_type": "stream",
     "text": [
      "Training Epoch 1772: 100%|██████████| 500/500 [00:02<00:00, 192.23it/s]\n",
      "Training Epoch 1773: 100%|██████████| 500/500 [00:02<00:00, 176.29it/s]\n",
      "Training Epoch 1774: 100%|██████████| 500/500 [00:02<00:00, 179.87it/s]\n",
      "Training Epoch 1775: 100%|██████████| 500/500 [00:02<00:00, 187.22it/s]\n",
      "Training Epoch 1776: 100%|██████████| 500/500 [00:02<00:00, 182.12it/s]\n",
      "Training Epoch 1777: 100%|██████████| 500/500 [00:04<00:00, 116.37it/s]\n",
      "Training Epoch 1778: 100%|██████████| 500/500 [00:03<00:00, 127.67it/s]\n",
      "Training Epoch 1779: 100%|██████████| 500/500 [00:02<00:00, 174.12it/s]\n",
      "Training Epoch 1780: 100%|██████████| 500/500 [00:02<00:00, 176.64it/s]\n",
      "Training Epoch 1781: 100%|██████████| 500/500 [00:02<00:00, 180.30it/s]\n"
     ]
    },
    {
     "name": "stdout",
     "output_type": "stream",
     "text": [
      "Epoch 1780 - Train Loss: 0.1007, Train MSE: 0.1005, Train MAE: 0.2306\n",
      "Epoch 1780 - Validation Loss: 1.4649, Validation MSE: 1.4594, Validation MAE: 0.8516\n"
     ]
    },
    {
     "name": "stderr",
     "output_type": "stream",
     "text": [
      "Training Epoch 1782: 100%|██████████| 500/500 [00:02<00:00, 185.10it/s]\n",
      "Training Epoch 1783: 100%|██████████| 500/500 [00:02<00:00, 173.08it/s]\n",
      "Training Epoch 1784: 100%|██████████| 500/500 [00:03<00:00, 157.83it/s]\n",
      "Training Epoch 1785: 100%|██████████| 500/500 [00:03<00:00, 159.07it/s]\n",
      "Training Epoch 1786: 100%|██████████| 500/500 [00:02<00:00, 176.55it/s]\n",
      "Training Epoch 1787: 100%|██████████| 500/500 [00:02<00:00, 186.57it/s]\n",
      "Training Epoch 1788: 100%|██████████| 500/500 [00:02<00:00, 184.21it/s]\n",
      "Training Epoch 1789: 100%|██████████| 500/500 [00:02<00:00, 187.10it/s]\n",
      "Training Epoch 1790: 100%|██████████| 500/500 [00:02<00:00, 187.19it/s]\n",
      "Training Epoch 1791: 100%|██████████| 500/500 [00:02<00:00, 182.83it/s]\n"
     ]
    },
    {
     "name": "stdout",
     "output_type": "stream",
     "text": [
      "Epoch 1790 - Train Loss: 0.1022, Train MSE: 0.1022, Train MAE: 0.2321\n",
      "Epoch 1790 - Validation Loss: 1.4649, Validation MSE: 1.4597, Validation MAE: 0.8500\n"
     ]
    },
    {
     "name": "stderr",
     "output_type": "stream",
     "text": [
      "Training Epoch 1792: 100%|██████████| 500/500 [00:02<00:00, 185.98it/s]\n",
      "Training Epoch 1793: 100%|██████████| 500/500 [00:03<00:00, 158.30it/s]\n",
      "Training Epoch 1794: 100%|██████████| 500/500 [00:02<00:00, 182.81it/s]\n",
      "Training Epoch 1795: 100%|██████████| 500/500 [00:02<00:00, 189.65it/s]\n",
      "Training Epoch 1796: 100%|██████████| 500/500 [00:02<00:00, 181.29it/s]\n",
      "Training Epoch 1797: 100%|██████████| 500/500 [00:02<00:00, 184.79it/s]\n",
      "Training Epoch 1798: 100%|██████████| 500/500 [00:02<00:00, 186.69it/s]\n",
      "Training Epoch 1799: 100%|██████████| 500/500 [00:02<00:00, 179.65it/s]\n",
      "Training Epoch 1800: 100%|██████████| 500/500 [00:02<00:00, 186.71it/s]\n",
      "Training Epoch 1801: 100%|██████████| 500/500 [00:02<00:00, 184.89it/s]\n"
     ]
    },
    {
     "name": "stdout",
     "output_type": "stream",
     "text": [
      "Epoch 1800 - Train Loss: 0.0960, Train MSE: 0.0961, Train MAE: 0.2288\n",
      "Epoch 1800 - Validation Loss: 1.4926, Validation MSE: 1.4872, Validation MAE: 0.8544\n"
     ]
    },
    {
     "name": "stderr",
     "output_type": "stream",
     "text": [
      "Training Epoch 1802: 100%|██████████| 500/500 [00:02<00:00, 178.68it/s]\n",
      "Training Epoch 1803: 100%|██████████| 500/500 [00:02<00:00, 182.77it/s]\n",
      "Training Epoch 1804: 100%|██████████| 500/500 [00:02<00:00, 187.31it/s]\n",
      "Training Epoch 1805: 100%|██████████| 500/500 [00:02<00:00, 187.40it/s]\n",
      "Training Epoch 1806: 100%|██████████| 500/500 [00:02<00:00, 185.33it/s]\n",
      "Training Epoch 1807: 100%|██████████| 500/500 [00:02<00:00, 184.86it/s]\n",
      "Training Epoch 1808: 100%|██████████| 500/500 [00:02<00:00, 181.29it/s]\n",
      "Training Epoch 1809: 100%|██████████| 500/500 [00:02<00:00, 186.71it/s]\n",
      "Training Epoch 1810: 100%|██████████| 500/500 [00:02<00:00, 185.45it/s]\n",
      "Training Epoch 1811: 100%|██████████| 500/500 [00:02<00:00, 185.26it/s]\n"
     ]
    },
    {
     "name": "stdout",
     "output_type": "stream",
     "text": [
      "Epoch 1810 - Train Loss: 0.1025, Train MSE: 0.1027, Train MAE: 0.2301\n",
      "Epoch 1810 - Validation Loss: 1.4909, Validation MSE: 1.4857, Validation MAE: 0.8585\n"
     ]
    },
    {
     "name": "stderr",
     "output_type": "stream",
     "text": [
      "Training Epoch 1812: 100%|██████████| 500/500 [00:02<00:00, 184.04it/s]\n",
      "Training Epoch 1813: 100%|██████████| 500/500 [00:02<00:00, 174.60it/s]\n",
      "Training Epoch 1814: 100%|██████████| 500/500 [00:02<00:00, 184.35it/s]\n",
      "Training Epoch 1815: 100%|██████████| 500/500 [00:02<00:00, 188.69it/s]\n",
      "Training Epoch 1816: 100%|██████████| 500/500 [00:02<00:00, 189.21it/s]\n",
      "Training Epoch 1817: 100%|██████████| 500/500 [00:02<00:00, 187.91it/s]\n",
      "Training Epoch 1818: 100%|██████████| 500/500 [00:02<00:00, 187.93it/s]\n",
      "Training Epoch 1819: 100%|██████████| 500/500 [00:02<00:00, 182.09it/s]\n",
      "Training Epoch 1820: 100%|██████████| 500/500 [13:26<00:00,  1.61s/it]  \n",
      "Training Epoch 1821: 100%|██████████| 500/500 [00:02<00:00, 183.57it/s]\n"
     ]
    },
    {
     "name": "stdout",
     "output_type": "stream",
     "text": [
      "Epoch 1820 - Train Loss: 0.0948, Train MSE: 0.0950, Train MAE: 0.2271\n",
      "Epoch 1820 - Validation Loss: 1.4978, Validation MSE: 1.4928, Validation MAE: 0.8573\n"
     ]
    },
    {
     "name": "stderr",
     "output_type": "stream",
     "text": [
      "Training Epoch 1822: 100%|██████████| 500/500 [00:02<00:00, 188.94it/s]\n",
      "Training Epoch 1823: 100%|██████████| 500/500 [00:02<00:00, 186.00it/s]\n",
      "Training Epoch 1824: 100%|██████████| 500/500 [00:02<00:00, 182.29it/s]\n",
      "Training Epoch 1825: 100%|██████████| 500/500 [00:02<00:00, 188.25it/s]\n",
      "Training Epoch 1826: 100%|██████████| 500/500 [00:02<00:00, 181.39it/s]\n",
      "Training Epoch 1827: 100%|██████████| 500/500 [00:02<00:00, 181.79it/s]\n",
      "Training Epoch 1828: 100%|██████████| 500/500 [00:02<00:00, 187.42it/s]\n",
      "Training Epoch 1829: 100%|██████████| 500/500 [00:02<00:00, 187.83it/s]\n",
      "Training Epoch 1830: 100%|██████████| 500/500 [00:02<00:00, 173.16it/s]\n",
      "Training Epoch 1831: 100%|██████████| 500/500 [00:02<00:00, 185.28it/s]\n"
     ]
    },
    {
     "name": "stdout",
     "output_type": "stream",
     "text": [
      "Epoch 1830 - Train Loss: 0.0971, Train MSE: 0.0968, Train MAE: 0.2262\n",
      "Epoch 1830 - Validation Loss: 1.4914, Validation MSE: 1.4845, Validation MAE: 0.8530\n"
     ]
    },
    {
     "name": "stderr",
     "output_type": "stream",
     "text": [
      "Training Epoch 1832: 100%|██████████| 500/500 [00:02<00:00, 187.82it/s]\n",
      "Training Epoch 1833: 100%|██████████| 500/500 [00:02<00:00, 171.93it/s]\n",
      "Training Epoch 1834: 100%|██████████| 500/500 [00:02<00:00, 176.59it/s]\n",
      "Training Epoch 1835: 100%|██████████| 500/500 [00:02<00:00, 183.97it/s]\n",
      "Training Epoch 1836: 100%|██████████| 500/500 [15:13<00:00,  1.83s/it] \n",
      "Training Epoch 1837: 100%|██████████| 500/500 [00:02<00:00, 181.94it/s]\n",
      "Training Epoch 1838: 100%|██████████| 500/500 [11:23<00:00,  1.37s/it]  \n",
      "Training Epoch 1839: 100%|██████████| 500/500 [00:02<00:00, 183.03it/s]\n",
      "Training Epoch 1840: 100%|██████████| 500/500 [00:02<00:00, 180.20it/s]\n",
      "Training Epoch 1841: 100%|██████████| 500/500 [00:02<00:00, 178.35it/s]\n"
     ]
    },
    {
     "name": "stdout",
     "output_type": "stream",
     "text": [
      "Epoch 1840 - Train Loss: 0.0928, Train MSE: 0.0928, Train MAE: 0.2234\n",
      "Epoch 1840 - Validation Loss: 1.4530, Validation MSE: 1.4473, Validation MAE: 0.8469\n"
     ]
    },
    {
     "name": "stderr",
     "output_type": "stream",
     "text": [
      "Training Epoch 1842: 100%|██████████| 500/500 [00:02<00:00, 181.92it/s]\n",
      "Training Epoch 1843: 100%|██████████| 500/500 [00:02<00:00, 186.24it/s]\n",
      "Training Epoch 1844: 100%|██████████| 500/500 [00:02<00:00, 187.62it/s]\n",
      "Training Epoch 1845: 100%|██████████| 500/500 [00:02<00:00, 176.04it/s]\n",
      "Training Epoch 1846: 100%|██████████| 500/500 [00:02<00:00, 178.86it/s]\n",
      "Training Epoch 1847: 100%|██████████| 500/500 [00:02<00:00, 186.93it/s]\n",
      "Training Epoch 1848: 100%|██████████| 500/500 [00:02<00:00, 184.86it/s]\n",
      "Training Epoch 1849: 100%|██████████| 500/500 [00:02<00:00, 188.20it/s]\n",
      "Training Epoch 1850: 100%|██████████| 500/500 [00:02<00:00, 186.51it/s]\n",
      "Training Epoch 1851: 100%|██████████| 500/500 [00:02<00:00, 187.34it/s]\n"
     ]
    },
    {
     "name": "stdout",
     "output_type": "stream",
     "text": [
      "Epoch 1850 - Train Loss: 0.0976, Train MSE: 0.0973, Train MAE: 0.2287\n",
      "Epoch 1850 - Validation Loss: 1.4612, Validation MSE: 1.4552, Validation MAE: 0.8465\n"
     ]
    },
    {
     "name": "stderr",
     "output_type": "stream",
     "text": [
      "Training Epoch 1852: 100%|██████████| 500/500 [00:02<00:00, 186.01it/s]\n",
      "Training Epoch 1853: 100%|██████████| 500/500 [00:02<00:00, 183.24it/s]\n",
      "Training Epoch 1854: 100%|██████████| 500/500 [04:30<00:00,  1.85it/s] \n",
      "Training Epoch 1855: 100%|██████████| 500/500 [00:03<00:00, 157.61it/s]\n",
      "Training Epoch 1856: 100%|██████████| 500/500 [00:02<00:00, 179.71it/s]\n",
      "Training Epoch 1857: 100%|██████████| 500/500 [00:02<00:00, 190.78it/s]\n",
      "Training Epoch 1858: 100%|██████████| 500/500 [00:02<00:00, 192.44it/s]\n",
      "Training Epoch 1859: 100%|██████████| 500/500 [00:02<00:00, 191.20it/s]\n",
      "Training Epoch 1860: 100%|██████████| 500/500 [00:02<00:00, 193.73it/s]\n",
      "Training Epoch 1861: 100%|██████████| 500/500 [00:02<00:00, 190.33it/s]\n"
     ]
    },
    {
     "name": "stdout",
     "output_type": "stream",
     "text": [
      "Epoch 1860 - Train Loss: 0.0955, Train MSE: 0.0955, Train MAE: 0.2264\n",
      "Epoch 1860 - Validation Loss: 1.4766, Validation MSE: 1.4708, Validation MAE: 0.8539\n"
     ]
    },
    {
     "name": "stderr",
     "output_type": "stream",
     "text": [
      "Training Epoch 1862: 100%|██████████| 500/500 [00:02<00:00, 189.45it/s]\n",
      "Training Epoch 1863: 100%|██████████| 500/500 [00:02<00:00, 190.58it/s]\n",
      "Training Epoch 1864: 100%|██████████| 500/500 [00:02<00:00, 190.76it/s]\n",
      "Training Epoch 1865: 100%|██████████| 500/500 [00:02<00:00, 175.07it/s]\n",
      "Training Epoch 1866: 100%|██████████| 500/500 [00:02<00:00, 172.52it/s]\n",
      "Training Epoch 1867: 100%|██████████| 500/500 [00:02<00:00, 173.82it/s]\n",
      "Training Epoch 1868: 100%|██████████| 500/500 [00:02<00:00, 179.83it/s]\n",
      "Training Epoch 1869: 100%|██████████| 500/500 [00:02<00:00, 185.49it/s]\n",
      "Training Epoch 1870: 100%|██████████| 500/500 [00:02<00:00, 186.16it/s]\n",
      "Training Epoch 1871: 100%|██████████| 500/500 [00:02<00:00, 184.46it/s]\n"
     ]
    },
    {
     "name": "stdout",
     "output_type": "stream",
     "text": [
      "Epoch 1870 - Train Loss: 0.0973, Train MSE: 0.0973, Train MAE: 0.2277\n",
      "Epoch 1870 - Validation Loss: 1.4828, Validation MSE: 1.4786, Validation MAE: 0.8550\n"
     ]
    },
    {
     "name": "stderr",
     "output_type": "stream",
     "text": [
      "Training Epoch 1872: 100%|██████████| 500/500 [00:02<00:00, 187.86it/s]\n",
      "Training Epoch 1873: 100%|██████████| 500/500 [00:02<00:00, 186.05it/s]\n",
      "Training Epoch 1874: 100%|██████████| 500/500 [00:02<00:00, 176.88it/s]\n",
      "Training Epoch 1875: 100%|██████████| 500/500 [00:02<00:00, 169.16it/s]\n",
      "Training Epoch 1876: 100%|██████████| 500/500 [00:02<00:00, 184.36it/s]\n",
      "Training Epoch 1877: 100%|██████████| 500/500 [00:02<00:00, 176.39it/s]\n",
      "Training Epoch 1878: 100%|██████████| 500/500 [00:02<00:00, 185.83it/s]\n",
      "Training Epoch 1879: 100%|██████████| 500/500 [00:02<00:00, 182.20it/s]\n",
      "Training Epoch 1880: 100%|██████████| 500/500 [00:02<00:00, 187.23it/s]\n",
      "Training Epoch 1881: 100%|██████████| 500/500 [00:02<00:00, 183.39it/s]\n"
     ]
    },
    {
     "name": "stdout",
     "output_type": "stream",
     "text": [
      "Epoch 1880 - Train Loss: 0.0949, Train MSE: 0.0950, Train MAE: 0.2245\n",
      "Epoch 1880 - Validation Loss: 1.4902, Validation MSE: 1.4861, Validation MAE: 0.8533\n"
     ]
    },
    {
     "name": "stderr",
     "output_type": "stream",
     "text": [
      "Training Epoch 1882: 100%|██████████| 500/500 [00:02<00:00, 187.13it/s]\n",
      "Training Epoch 1883: 100%|██████████| 500/500 [00:02<00:00, 186.12it/s]\n",
      "Training Epoch 1884: 100%|██████████| 500/500 [00:02<00:00, 185.65it/s]\n",
      "Training Epoch 1885: 100%|██████████| 500/500 [00:02<00:00, 185.33it/s]\n",
      "Training Epoch 1886: 100%|██████████| 500/500 [00:02<00:00, 188.93it/s]\n",
      "Training Epoch 1887: 100%|██████████| 500/500 [00:02<00:00, 187.57it/s]\n",
      "Training Epoch 1888: 100%|██████████| 500/500 [00:02<00:00, 185.30it/s]\n",
      "Training Epoch 1889: 100%|██████████| 500/500 [00:02<00:00, 176.72it/s]\n",
      "Training Epoch 1890: 100%|██████████| 500/500 [00:02<00:00, 171.56it/s]\n",
      "Training Epoch 1891: 100%|██████████| 500/500 [00:02<00:00, 176.71it/s]\n"
     ]
    },
    {
     "name": "stdout",
     "output_type": "stream",
     "text": [
      "Epoch 1890 - Train Loss: 0.0920, Train MSE: 0.0920, Train MAE: 0.2232\n",
      "Epoch 1890 - Validation Loss: 1.5139, Validation MSE: 1.5086, Validation MAE: 0.8627\n"
     ]
    },
    {
     "name": "stderr",
     "output_type": "stream",
     "text": [
      "Training Epoch 1892: 100%|██████████| 500/500 [00:02<00:00, 186.04it/s]\n",
      "Training Epoch 1893: 100%|██████████| 500/500 [00:02<00:00, 186.15it/s]\n",
      "Training Epoch 1894: 100%|██████████| 500/500 [00:02<00:00, 182.18it/s]\n",
      "Training Epoch 1895: 100%|██████████| 500/500 [00:02<00:00, 186.27it/s]\n",
      "Training Epoch 1896: 100%|██████████| 500/500 [00:02<00:00, 172.88it/s]\n",
      "Training Epoch 1897: 100%|██████████| 500/500 [00:02<00:00, 184.65it/s]\n",
      "Training Epoch 1898: 100%|██████████| 500/500 [00:02<00:00, 185.09it/s]\n",
      "Training Epoch 1899: 100%|██████████| 500/500 [00:02<00:00, 184.08it/s]\n",
      "Training Epoch 1900: 100%|██████████| 500/500 [00:02<00:00, 186.46it/s]\n",
      "Training Epoch 1901: 100%|██████████| 500/500 [00:02<00:00, 181.03it/s]\n"
     ]
    },
    {
     "name": "stdout",
     "output_type": "stream",
     "text": [
      "Epoch 1900 - Train Loss: 0.0953, Train MSE: 0.0955, Train MAE: 0.2238\n",
      "Epoch 1900 - Validation Loss: 1.5049, Validation MSE: 1.5001, Validation MAE: 0.8588\n"
     ]
    },
    {
     "name": "stderr",
     "output_type": "stream",
     "text": [
      "Training Epoch 1902: 100%|██████████| 500/500 [00:02<00:00, 183.16it/s]\n",
      "Training Epoch 1903: 100%|██████████| 500/500 [00:02<00:00, 187.42it/s]\n",
      "Training Epoch 1904: 100%|██████████| 500/500 [00:02<00:00, 183.52it/s]\n",
      "Training Epoch 1905: 100%|██████████| 500/500 [00:02<00:00, 186.22it/s]\n",
      "Training Epoch 1906: 100%|██████████| 500/500 [00:02<00:00, 184.46it/s]\n",
      "Training Epoch 1907: 100%|██████████| 500/500 [00:02<00:00, 180.14it/s]\n",
      "Training Epoch 1908: 100%|██████████| 500/500 [00:02<00:00, 187.30it/s]\n",
      "Training Epoch 1909: 100%|██████████| 500/500 [00:02<00:00, 184.94it/s]\n",
      "Training Epoch 1910: 100%|██████████| 500/500 [00:02<00:00, 182.40it/s]\n",
      "Training Epoch 1911: 100%|██████████| 500/500 [00:02<00:00, 186.06it/s]\n"
     ]
    },
    {
     "name": "stdout",
     "output_type": "stream",
     "text": [
      "Epoch 1910 - Train Loss: 0.0939, Train MSE: 0.0938, Train MAE: 0.2238\n",
      "Epoch 1910 - Validation Loss: 1.4657, Validation MSE: 1.4603, Validation MAE: 0.8493\n"
     ]
    },
    {
     "name": "stderr",
     "output_type": "stream",
     "text": [
      "Training Epoch 1912: 100%|██████████| 500/500 [00:02<00:00, 183.21it/s]\n",
      "Training Epoch 1913: 100%|██████████| 500/500 [00:02<00:00, 186.28it/s]\n",
      "Training Epoch 1914: 100%|██████████| 500/500 [00:02<00:00, 184.71it/s]\n",
      "Training Epoch 1915: 100%|██████████| 500/500 [00:02<00:00, 183.36it/s]\n",
      "Training Epoch 1916: 100%|██████████| 500/500 [00:02<00:00, 181.24it/s]\n",
      "Training Epoch 1917: 100%|██████████| 500/500 [00:02<00:00, 180.85it/s]\n",
      "Training Epoch 1918: 100%|██████████| 500/500 [00:02<00:00, 183.94it/s]\n",
      "Training Epoch 1919: 100%|██████████| 500/500 [00:02<00:00, 187.73it/s]\n",
      "Training Epoch 1920: 100%|██████████| 500/500 [00:02<00:00, 184.99it/s]\n",
      "Training Epoch 1921: 100%|██████████| 500/500 [00:02<00:00, 184.19it/s]\n"
     ]
    },
    {
     "name": "stdout",
     "output_type": "stream",
     "text": [
      "Epoch 1920 - Train Loss: 0.0972, Train MSE: 0.0972, Train MAE: 0.2267\n",
      "Epoch 1920 - Validation Loss: 1.4894, Validation MSE: 1.4844, Validation MAE: 0.8552\n"
     ]
    },
    {
     "name": "stderr",
     "output_type": "stream",
     "text": [
      "Training Epoch 1922: 100%|██████████| 500/500 [00:02<00:00, 183.75it/s]\n",
      "Training Epoch 1923: 100%|██████████| 500/500 [00:02<00:00, 184.88it/s]\n",
      "Training Epoch 1924: 100%|██████████| 500/500 [00:02<00:00, 187.50it/s]\n",
      "Training Epoch 1925: 100%|██████████| 500/500 [00:02<00:00, 187.80it/s]\n",
      "Training Epoch 1926: 100%|██████████| 500/500 [00:02<00:00, 182.97it/s]\n",
      "Training Epoch 1927: 100%|██████████| 500/500 [00:02<00:00, 183.07it/s]\n",
      "Training Epoch 1928: 100%|██████████| 500/500 [00:02<00:00, 189.71it/s]\n",
      "Training Epoch 1929: 100%|██████████| 500/500 [00:02<00:00, 171.53it/s]\n",
      "Training Epoch 1930: 100%|██████████| 500/500 [00:02<00:00, 183.19it/s]\n",
      "Training Epoch 1931: 100%|██████████| 500/500 [00:02<00:00, 179.42it/s]\n"
     ]
    },
    {
     "name": "stdout",
     "output_type": "stream",
     "text": [
      "Epoch 1930 - Train Loss: 0.0959, Train MSE: 0.0957, Train MAE: 0.2237\n",
      "Epoch 1930 - Validation Loss: 1.4795, Validation MSE: 1.4740, Validation MAE: 0.8496\n"
     ]
    },
    {
     "name": "stderr",
     "output_type": "stream",
     "text": [
      "Training Epoch 1932: 100%|██████████| 500/500 [00:02<00:00, 183.94it/s]\n",
      "Training Epoch 1933: 100%|██████████| 500/500 [00:02<00:00, 190.50it/s]\n",
      "Training Epoch 1934: 100%|██████████| 500/500 [00:02<00:00, 181.89it/s]\n",
      "Training Epoch 1935: 100%|██████████| 500/500 [00:02<00:00, 185.38it/s]\n",
      "Training Epoch 1936: 100%|██████████| 500/500 [00:02<00:00, 183.17it/s]\n",
      "Training Epoch 1937: 100%|██████████| 500/500 [00:02<00:00, 175.20it/s]\n",
      "Training Epoch 1938: 100%|██████████| 500/500 [00:02<00:00, 187.88it/s]\n",
      "Training Epoch 1939: 100%|██████████| 500/500 [00:02<00:00, 184.30it/s]\n",
      "Training Epoch 1940: 100%|██████████| 500/500 [00:02<00:00, 184.84it/s]\n",
      "Training Epoch 1941: 100%|██████████| 500/500 [00:02<00:00, 185.79it/s]\n"
     ]
    },
    {
     "name": "stdout",
     "output_type": "stream",
     "text": [
      "Epoch 1940 - Train Loss: 0.0923, Train MSE: 0.0925, Train MAE: 0.2212\n",
      "Epoch 1940 - Validation Loss: 1.4821, Validation MSE: 1.4768, Validation MAE: 0.8558\n"
     ]
    },
    {
     "name": "stderr",
     "output_type": "stream",
     "text": [
      "Training Epoch 1942: 100%|██████████| 500/500 [00:02<00:00, 186.76it/s]\n",
      "Training Epoch 1943: 100%|██████████| 500/500 [00:02<00:00, 186.21it/s]\n",
      "Training Epoch 1944: 100%|██████████| 500/500 [00:02<00:00, 182.53it/s]\n",
      "Training Epoch 1945: 100%|██████████| 500/500 [00:02<00:00, 183.95it/s]\n",
      "Training Epoch 1946: 100%|██████████| 500/500 [00:02<00:00, 185.40it/s]\n",
      "Training Epoch 1947: 100%|██████████| 500/500 [00:02<00:00, 187.96it/s]\n",
      "Training Epoch 1948: 100%|██████████| 500/500 [00:02<00:00, 183.74it/s]\n",
      "Training Epoch 1949: 100%|██████████| 500/500 [00:02<00:00, 186.24it/s]\n",
      "Training Epoch 1950: 100%|██████████| 500/500 [00:02<00:00, 188.89it/s]\n",
      "Training Epoch 1951: 100%|██████████| 500/500 [00:02<00:00, 185.79it/s]\n"
     ]
    },
    {
     "name": "stdout",
     "output_type": "stream",
     "text": [
      "Epoch 1950 - Train Loss: 0.0946, Train MSE: 0.0946, Train MAE: 0.2246\n",
      "Epoch 1950 - Validation Loss: 1.4751, Validation MSE: 1.4699, Validation MAE: 0.8497\n"
     ]
    },
    {
     "name": "stderr",
     "output_type": "stream",
     "text": [
      "Training Epoch 1952: 100%|██████████| 500/500 [00:02<00:00, 185.53it/s]\n",
      "Training Epoch 1953: 100%|██████████| 500/500 [00:02<00:00, 184.19it/s]\n",
      "Training Epoch 1954: 100%|██████████| 500/500 [00:02<00:00, 187.84it/s]\n",
      "Training Epoch 1955: 100%|██████████| 500/500 [00:02<00:00, 186.59it/s]\n",
      "Training Epoch 1956: 100%|██████████| 500/500 [00:02<00:00, 185.32it/s]\n",
      "Training Epoch 1957: 100%|██████████| 500/500 [00:02<00:00, 185.49it/s]\n",
      "Training Epoch 1958: 100%|██████████| 500/500 [00:02<00:00, 183.43it/s]\n",
      "Training Epoch 1959: 100%|██████████| 500/500 [00:02<00:00, 184.36it/s]\n",
      "Training Epoch 1960: 100%|██████████| 500/500 [00:02<00:00, 184.29it/s]\n",
      "Training Epoch 1961: 100%|██████████| 500/500 [00:02<00:00, 190.60it/s]\n"
     ]
    },
    {
     "name": "stdout",
     "output_type": "stream",
     "text": [
      "Epoch 1960 - Train Loss: 0.0952, Train MSE: 0.0954, Train MAE: 0.2246\n",
      "Epoch 1960 - Validation Loss: 1.5053, Validation MSE: 1.5010, Validation MAE: 0.8604\n"
     ]
    },
    {
     "name": "stderr",
     "output_type": "stream",
     "text": [
      "Training Epoch 1962: 100%|██████████| 500/500 [00:02<00:00, 186.61it/s]\n",
      "Training Epoch 1963: 100%|██████████| 500/500 [00:02<00:00, 188.23it/s]\n",
      "Training Epoch 1964: 100%|██████████| 500/500 [00:02<00:00, 184.88it/s]\n",
      "Training Epoch 1965: 100%|██████████| 500/500 [00:02<00:00, 186.47it/s]\n",
      "Training Epoch 1966: 100%|██████████| 500/500 [00:02<00:00, 185.03it/s]\n",
      "Training Epoch 1967: 100%|██████████| 500/500 [00:02<00:00, 185.53it/s]\n",
      "Training Epoch 1968: 100%|██████████| 500/500 [00:02<00:00, 184.56it/s]\n",
      "Training Epoch 1969: 100%|██████████| 500/500 [00:02<00:00, 184.21it/s]\n",
      "Training Epoch 1970: 100%|██████████| 500/500 [00:02<00:00, 186.95it/s]\n",
      "Training Epoch 1971: 100%|██████████| 500/500 [00:02<00:00, 187.10it/s]\n"
     ]
    },
    {
     "name": "stdout",
     "output_type": "stream",
     "text": [
      "Epoch 1970 - Train Loss: 0.0957, Train MSE: 0.0956, Train MAE: 0.2245\n",
      "Epoch 1970 - Validation Loss: 1.4746, Validation MSE: 1.4697, Validation MAE: 0.8515\n"
     ]
    },
    {
     "name": "stderr",
     "output_type": "stream",
     "text": [
      "Training Epoch 1972: 100%|██████████| 500/500 [00:02<00:00, 187.17it/s]\n",
      "Training Epoch 1973: 100%|██████████| 500/500 [00:02<00:00, 189.38it/s]\n",
      "Training Epoch 1974: 100%|██████████| 500/500 [00:02<00:00, 186.21it/s]\n",
      "Training Epoch 1975: 100%|██████████| 500/500 [00:02<00:00, 188.81it/s]\n",
      "Training Epoch 1976: 100%|██████████| 500/500 [00:02<00:00, 186.18it/s]\n",
      "Training Epoch 1977: 100%|██████████| 500/500 [00:02<00:00, 183.81it/s]\n",
      "Training Epoch 1978: 100%|██████████| 500/500 [00:02<00:00, 189.68it/s]\n",
      "Training Epoch 1979: 100%|██████████| 500/500 [00:02<00:00, 181.86it/s]\n",
      "Training Epoch 1980: 100%|██████████| 500/500 [00:02<00:00, 192.23it/s]\n",
      "Training Epoch 1981: 100%|██████████| 500/500 [00:02<00:00, 194.40it/s]\n"
     ]
    },
    {
     "name": "stdout",
     "output_type": "stream",
     "text": [
      "Epoch 1980 - Train Loss: 0.0952, Train MSE: 0.0944, Train MAE: 0.2225\n",
      "Epoch 1980 - Validation Loss: 1.4812, Validation MSE: 1.4764, Validation MAE: 0.8558\n"
     ]
    },
    {
     "name": "stderr",
     "output_type": "stream",
     "text": [
      "Training Epoch 1982: 100%|██████████| 500/500 [00:02<00:00, 171.34it/s]\n",
      "Training Epoch 1983: 100%|██████████| 500/500 [00:02<00:00, 184.92it/s]\n",
      "Training Epoch 1984: 100%|██████████| 500/500 [00:02<00:00, 185.93it/s]\n",
      "Training Epoch 1985: 100%|██████████| 500/500 [00:02<00:00, 188.91it/s]\n",
      "Training Epoch 1986: 100%|██████████| 500/500 [00:02<00:00, 187.87it/s]\n",
      "Training Epoch 1987: 100%|██████████| 500/500 [00:02<00:00, 185.73it/s]\n",
      "Training Epoch 1988: 100%|██████████| 500/500 [00:02<00:00, 188.62it/s]\n",
      "Training Epoch 1989: 100%|██████████| 500/500 [00:02<00:00, 188.19it/s]\n",
      "Training Epoch 1990: 100%|██████████| 500/500 [00:02<00:00, 183.86it/s]\n",
      "Training Epoch 1991: 100%|██████████| 500/500 [00:02<00:00, 185.91it/s]\n"
     ]
    },
    {
     "name": "stdout",
     "output_type": "stream",
     "text": [
      "Epoch 1990 - Train Loss: 0.0906, Train MSE: 0.0908, Train MAE: 0.2196\n",
      "Epoch 1990 - Validation Loss: 1.4742, Validation MSE: 1.4684, Validation MAE: 0.8500\n"
     ]
    },
    {
     "name": "stderr",
     "output_type": "stream",
     "text": [
      "Training Epoch 1992: 100%|██████████| 500/500 [00:02<00:00, 186.44it/s]\n",
      "Training Epoch 1993: 100%|██████████| 500/500 [00:02<00:00, 186.69it/s]\n",
      "Training Epoch 1994: 100%|██████████| 500/500 [00:02<00:00, 186.13it/s]\n",
      "Training Epoch 1995: 100%|██████████| 500/500 [00:02<00:00, 186.73it/s]\n",
      "Training Epoch 1996: 100%|██████████| 500/500 [00:02<00:00, 182.79it/s]\n",
      "Training Epoch 1997: 100%|██████████| 500/500 [00:02<00:00, 181.82it/s]\n",
      "Training Epoch 1998: 100%|██████████| 500/500 [00:02<00:00, 189.29it/s]\n",
      "Training Epoch 1999: 100%|██████████| 500/500 [00:02<00:00, 189.79it/s]\n",
      "Training Epoch 2000: 100%|██████████| 500/500 [00:02<00:00, 182.04it/s]\n"
     ]
    },
    {
     "name": "stdout",
     "output_type": "stream",
     "text": [
      "Test MSE: 1.5938, Test MAE: 0.8724\n"
     ]
    }
   ],
   "source": [
    "train_history_2 = pd.DataFrame(columns=[ 'epoch',\n",
    "    'Train Loss', 'Train MSE', 'Train MAE', 'Train RMSE', 'Train R2', 'Train Pearson', 'Train Median_AE', 'Train Explained_VAR'\n",
    "    'Val Loss', 'Val MSE', 'Val MAE', 'Val RMSE', 'Val R2', 'Val Pearson', 'Val Median_AE', 'Val Explained_VAR'])\n",
    "# Verify feature dimensions\n",
    "for batch in train_loader_mols:\n",
    "    mol_input_dim = batch['metabolite_features'].shape[1]  # Dynamically determine mol input dimension\n",
    "    protein_input_dim = batch['protein_features'].shape[1]  # Dynamically determine protein input dimension\n",
    "    break\n",
    "\n",
    "# Initialize model, optimizer, and loss function\n",
    "model_2 = MLPRegressor(mol_input_dim=mol_input_dim, protein_input_dim=protein_input_dim)\n",
    "model_2 = model_2.to(device)\n",
    "optimizer_2 = optim.Adam(model_2.parameters(), lr=0.0001)\n",
    "criterion = nn.MSELoss()\n",
    "\n",
    "# Training and Validation Loop\n",
    "for epoch in range(2000):\n",
    "    model_2.train()\n",
    "    total_loss = 0.0\n",
    "    val_total_loss = 0.0\n",
    "    train_predictions, train_labels = [], []\n",
    "\n",
    "    for batch in tqdm(train_loader_mols, desc=f\"Training Epoch {epoch + 1}\"):\n",
    "        mol_features = batch['metabolite_features'].to(device)\n",
    "        protein_features = batch['protein_features'].to(device)\n",
    "        labels = batch['label'].to(device)\n",
    "\n",
    "        optimizer_2.zero_grad()\n",
    "        outputs = model_2(mol_features, protein_features)\n",
    "        loss = criterion(outputs, labels)\n",
    "        loss.backward()\n",
    "        optimizer_2.step()\n",
    "        total_loss += loss.item()\n",
    "\n",
    "        # Store predictions and labels for metrics\n",
    "        train_predictions.extend(outputs.detach().cpu().numpy())\n",
    "        train_labels.extend(labels.cpu().numpy())\n",
    "\n",
    "    # Calculate training metrics\n",
    "    train_mse = ((torch.tensor(train_predictions) - torch.tensor(train_labels))**2).mean().item()\n",
    "    train_mae = torch.abs(torch.tensor(train_predictions) - torch.tensor(train_labels)).mean().item()\n",
    "    train_rmse = torch.sqrt((torch.tensor(train_predictions) - torch.tensor(train_labels)) ** 2).mean().item()\n",
    "    train_r2 = r2_score(np.array(train_labels), np.array(train_predictions))\n",
    "    train_pearson_corr, _ = pearsonr(np.array(train_labels), np.array(train_predictions))\n",
    "    train_median_ae = median_absolute_error(np.array(train_labels), np.array(train_predictions))\n",
    "    train_explained_var = explained_variance_score(np.array(train_labels), np.array(train_predictions))\n",
    "\n",
    "\n",
    "\n",
    "    if epoch % 10 == 0:\n",
    "        print(f\"Epoch {epoch} - Train Loss: {total_loss / len(train_loader_mols):.4f}, Train MSE: {train_mse:.4f}, Train MAE: {train_mae:.4f}\")\n",
    "\n",
    "    # Validation\n",
    "    model_2.eval()\n",
    "    val_predictions, val_labels = [], []\n",
    "    with torch.no_grad():\n",
    "        for batch in val_loader_mols:\n",
    "            mol_features = batch['metabolite_features'].to(device)\n",
    "            protein_features = batch['protein_features'].to(device)\n",
    "            labels = batch['label'].to(device)\n",
    "\n",
    "            outputs = model_2(mol_features, protein_features)\n",
    "            val_predictions.extend(outputs.cpu().numpy())\n",
    "            val_labels.extend(labels.cpu().numpy())\n",
    "            val_loss = criterion(outputs, labels)\n",
    "            val_total_loss += val_loss.item()\n",
    "\n",
    "    val_mse = ((torch.tensor(val_predictions) - torch.tensor(val_labels))**2).mean().item()\n",
    "    val_mae = torch.abs(torch.tensor(val_predictions) - torch.tensor(val_labels)).mean().item()\n",
    "    val_rmse = torch.sqrt((torch.tensor(val_predictions) - torch.tensor(val_labels)) ** 2).mean().item()\n",
    "    val_r2 = r2_score(np.array(val_labels), np.array(val_predictions))\n",
    "    val_pearson_corr, _ = pearsonr(np.array(val_labels), np.array(val_predictions))\n",
    "    val_median_ae = median_absolute_error(np.array(val_labels), np.array(val_predictions))\n",
    "    val_explained_var = explained_variance_score(np.array(val_labels), np.array(val_predictions))\n",
    "\n",
    "    if epoch % 10 == 0:\n",
    "        print(f\"Epoch {epoch} - Validation Loss: {val_total_loss / len(val_loader_mols):.4f}, Validation MSE: {val_mse:.4f}, Validation MAE: {val_mae:.4f}\")\n",
    "\n",
    "    # Save metrics to DataFrame\n",
    "    new_row = {'epoch': epoch + 1, 'Train Loss': total_loss / len(train_loader_mols), 'Train MSE': train_mse, 'Train MAE': train_mae, 'Train RMSE': train_rmse, 'Train R2': train_r2, 'Train Pearson': train_pearson_corr, 'Train Median_AE': train_median_ae, 'Train Explained_VAR': train_explained_var, \n",
    "               'Val Loss': val_total_loss / len(val_loader_mols), 'Val MSE': val_mse, 'Val MAE': val_mae, 'Val RMSE': val_rmse, 'Val R2': val_r2, 'Val Pearson': val_pearson_corr, 'Val Median_AE': val_median_ae, 'Val Explained_VAR': val_explained_var}\n",
    "    train_history_2 = pd.concat([train_history_2, pd.DataFrame([new_row])], ignore_index=True)\n",
    "\n",
    "\n"
   ]
  },
  {
   "cell_type": "code",
   "execution_count": 12,
   "metadata": {},
   "outputs": [],
   "source": [
    "for batch in train_loader_mols:\n",
    "    mol_input_dim = batch['metabolite_features'].shape[1]  # Dynamically determine mol input dimension\n",
    "    protein_input_dim = batch['protein_features'].shape[1]  # Dynamically determine protein input dimension\n",
    "    break\n",
    "\n",
    "model = MLPRegressor(mol_input_dim=mol_input_dim, protein_input_dim=protein_input_dim, hidden_dim=512)\n",
    "model.load_state_dict(torch.load('/Users/pinchichen/2025S lab/AI drug project/Catpred/Kcat/trained_model/cold_mols/MLP model_Catpred_cold_mols.pt'))\n",
    "model = model.to(device)"
   ]
  },
  {
   "cell_type": "code",
   "execution_count": 13,
   "metadata": {},
   "outputs": [
    {
     "name": "stdout",
     "output_type": "stream",
     "text": [
      "Test MSE: 1.5938, Test RMSE: 1.262472630, Test MAE: 0.8724, Test R2: 0.4373, Test Pearson Correlation: 0.6725, Test Median AE: 0.5772, Test Explained Variance: 0.4420\n"
     ]
    }
   ],
   "source": [
    "# Test Metrics\n",
    "model.eval()\n",
    "test_predictions, test_labels = [], []\n",
    "with torch.no_grad():\n",
    "    for batch in test_loader_mols:\n",
    "        mol_features = batch['metabolite_features'].to(device)\n",
    "        protein_features = batch['protein_features'].to(device)\n",
    "        labels = batch['label'].to(device)\n",
    "\n",
    "        outputs = model(mol_features, protein_features)\n",
    "        test_predictions.extend(outputs.cpu().numpy())\n",
    "        test_labels.extend(labels.cpu().numpy())\n",
    "\n",
    "test_mse = ((torch.tensor(test_predictions) - torch.tensor(test_labels))**2).mean().item()\n",
    "test_mae = torch.abs(torch.tensor(test_predictions) - torch.tensor(test_labels)).mean().item()\n",
    "test_rmse = np.sqrt(test_mse)\n",
    "test_r2 = r2_score(np.array(test_labels), np.array(test_predictions))\n",
    "test_pearson_corr, _ = pearsonr(np.array(test_labels), np.array(test_predictions))\n",
    "test_median_ae = median_absolute_error(np.array(test_labels), np.array(test_predictions))\n",
    "test_explained_var = explained_variance_score(np.array(test_labels), np.array(test_predictions))\n",
    "\n",
    "print(f\"Test MSE: {test_mse:.4f}, Test RMSE: {test_rmse:.9f}, Test MAE: {test_mae:.4f}, Test R2: {test_r2:.4f}, Test Pearson Correlation: {test_pearson_corr:.4f}, Test Median AE: {test_median_ae:.4f}, Test Explained Variance: {test_explained_var:.4f}\")"
   ]
  },
  {
   "cell_type": "code",
   "execution_count": 17,
   "metadata": {},
   "outputs": [],
   "source": [
    "model.eval()\n",
    "train_pred, train_labels = [], []\n",
    "with torch.no_grad():\n",
    "    for batch in train_loader_mols:\n",
    "        mol_features = batch['metabolite_features'].to(device)\n",
    "        protein_features = batch['protein_features'].to(device)\n",
    "        labels = batch['label'].to(device)\n",
    "\n",
    "        outputs = model(mol_features, protein_features)\n",
    "        train_pred.extend(outputs.cpu().numpy())\n",
    "        train_labels.extend(labels.cpu().numpy())\n",
    "\n",
    "train_mse, train_rmse, train_mae, train_r2, train_pearson_corr, train_median_ae, train_explained_var = evaluate_model(train_pred, train_labels)"
   ]
  },
  {
   "cell_type": "code",
   "execution_count": 18,
   "metadata": {},
   "outputs": [],
   "source": [
    "model.eval()\n",
    "val_pred, val_labels = [], []\n",
    "with torch.no_grad():\n",
    "    for batch in val_loader_mols:\n",
    "        mol_features = batch['metabolite_features'].to(device)\n",
    "        protein_features = batch['protein_features'].to(device)\n",
    "        labels = batch['label'].to(device)\n",
    "\n",
    "        outputs = model(mol_features, protein_features)\n",
    "        val_pred.extend(outputs.cpu().numpy())\n",
    "        val_labels.extend(labels.cpu().numpy())\n",
    "\n",
    "val_mse, val_rmse, val_mae, val_r2, val_pearson_corr, val_median_ae, val_explained_var = evaluate_model(val_pred, val_labels)\n"
   ]
  },
  {
   "cell_type": "code",
   "execution_count": 19,
   "metadata": {},
   "outputs": [],
   "source": [
    "# append the performance to the csv file\n",
    "df = {\n",
    "    'Model':['MLP','MLP','MLP'],\n",
    "    'Dataset':['Train','Validation','Test'],\n",
    "    'MSE':[train_mse,val_mse,test_mse],\n",
    "    'RMSE':[train_rmse,val_rmse,test_rmse],\n",
    "    'MAE':[train_mae,val_mae,test_mae],\n",
    "    'R2':[train_r2,val_r2,test_r2],\n",
    "    'Pearson':[train_pearson_corr,val_pearson_corr,test_pearson_corr],\n",
    "    'Median_AE':[train_median_ae,val_median_ae,test_median_ae],\n",
    "    'Explained_VAR':[train_explained_var,val_explained_var,test_explained_var],\n",
    "    'Dataspliting Mode':['cold mols','cold mols','cold mols']\n",
    "}\n",
    "df = pd.DataFrame(df)\n",
    "\n",
    "df.to_csv('/Users/pinchichen/2025S lab/AI drug project/Catpred/Kcat/model performance metrics_Catpred_Kcat.csv', mode='a', header=False)"
   ]
  },
  {
   "cell_type": "code",
   "execution_count": 15,
   "metadata": {},
   "outputs": [],
   "source": [
    "# Save the model and training history\n",
    "save_dir = '/Users/pinchichen/2025S lab/AI drug project/Catpred/Kcat/trained_model/cold_mols'\n",
    "# save model weights and optimizer state\n",
    "torch.save(model_2.state_dict(), os.path.join(save_dir, 'MLP model_Catpred_cold_mols.pt'))\n",
    "torch.save(optimizer_2.state_dict(), os.path.join(save_dir, 'MLP optimizer_Catpred_cold_mols.pt'))"
   ]
  }
 ],
 "metadata": {
  "kernelspec": {
   "display_name": "base",
   "language": "python",
   "name": "python3"
  },
  "language_info": {
   "codemirror_mode": {
    "name": "ipython",
    "version": 3
   },
   "file_extension": ".py",
   "mimetype": "text/x-python",
   "name": "python",
   "nbconvert_exporter": "python",
   "pygments_lexer": "ipython3",
   "version": "3.12.2"
  }
 },
 "nbformat": 4,
 "nbformat_minor": 2
}
