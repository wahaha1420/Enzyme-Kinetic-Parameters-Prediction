{
 "cells": [
  {
   "cell_type": "code",
   "execution_count": 1,
   "metadata": {},
   "outputs": [],
   "source": [
    "import pandas as pd\n",
    "import numpy as np\n",
    "from tqdm import tqdm\n",
    "import torch\n",
    "import torch.nn as nn\n",
    "import torch.optim as optim\n",
    "from torch.utils.data import DataLoader, Dataset\n",
    "from sklearn.metrics import roc_auc_score\n",
    "from sklearn.model_selection import train_test_split\n",
    "import os\n"
   ]
  },
  {
   "cell_type": "code",
   "execution_count": 2,
   "metadata": {},
   "outputs": [
    {
     "data": {
      "text/html": [
       "<div>\n",
       "<style scoped>\n",
       "    .dataframe tbody tr th:only-of-type {\n",
       "        vertical-align: middle;\n",
       "    }\n",
       "\n",
       "    .dataframe tbody tr th {\n",
       "        vertical-align: top;\n",
       "    }\n",
       "\n",
       "    .dataframe thead th {\n",
       "        text-align: right;\n",
       "    }\n",
       "</style>\n",
       "<table border=\"1\" class=\"dataframe\">\n",
       "  <thead>\n",
       "    <tr style=\"text-align: right;\">\n",
       "      <th></th>\n",
       "      <th>ECNumber</th>\n",
       "      <th>Organism</th>\n",
       "      <th>Smiles</th>\n",
       "      <th>Substrate</th>\n",
       "      <th>Sequence</th>\n",
       "      <th>Raw Kd</th>\n",
       "      <th>Unit</th>\n",
       "      <th>Log Kd</th>\n",
       "    </tr>\n",
       "  </thead>\n",
       "  <tbody>\n",
       "    <tr>\n",
       "      <th>0</th>\n",
       "      <td>4.2.3.4</td>\n",
       "      <td>Actinidia chinensis</td>\n",
       "      <td>C(C(C(C(COP(=O)(O)O)O)O)O)C(=O)C(=O)O</td>\n",
       "      <td>3-deoxy-D-arabino-heptulosonic acid 7-phosphate</td>\n",
       "      <td>MAAFSLSAKQILSPSTHRPSLSKTTTADSSLRFRNPHSLSLRCSSL...</td>\n",
       "      <td>20.1000</td>\n",
       "      <td>s^(-1)</td>\n",
       "      <td>1.303196</td>\n",
       "    </tr>\n",
       "    <tr>\n",
       "      <th>1</th>\n",
       "      <td>4.2.3.4</td>\n",
       "      <td>Aspergillus nidulans</td>\n",
       "      <td>C(C(C(C(COP(=O)([O-])[O-])O)O)O)C(=O)C(=O)[O-]</td>\n",
       "      <td>3-deoxy-D-arabino-heptulosonate 7-phosphate</td>\n",
       "      <td>MSNPTKISILGRESIIADFGLWRNYVAKDLISDCSSTTYVLVTDTN...</td>\n",
       "      <td>6.8000</td>\n",
       "      <td>s^(-1)</td>\n",
       "      <td>0.832509</td>\n",
       "    </tr>\n",
       "    <tr>\n",
       "      <th>2</th>\n",
       "      <td>4.2.3.4</td>\n",
       "      <td>Neurospora crassa</td>\n",
       "      <td>C(C(C(C(COP(=O)(O)O)O)O)O)C(=O)C(=O)O</td>\n",
       "      <td>3-deoxy-D-arabino-heptulosonic acid 7-phosphate</td>\n",
       "      <td>MAEPISNPTRINILGKDNIIIDHGIWLNFVAQDLLQNIKSSTYILI...</td>\n",
       "      <td>19.0000</td>\n",
       "      <td>s^(-1)</td>\n",
       "      <td>1.278754</td>\n",
       "    </tr>\n",
       "    <tr>\n",
       "      <th>3</th>\n",
       "      <td>2.1.1.255</td>\n",
       "      <td>Streptomyces coelicolor</td>\n",
       "      <td>C[S+](CCC(C(=O)[O-])N)CC1C(C(C(O1)N2C=NC3=C(N=...</td>\n",
       "      <td>S-Adenosyl-L-methionine</td>\n",
       "      <td>MTTETTTATATAKIPAPATPYQEDIARYWNNEARPVNLRLGDVDGL...</td>\n",
       "      <td>0.0075</td>\n",
       "      <td>s^(-1)</td>\n",
       "      <td>-2.124939</td>\n",
       "    </tr>\n",
       "    <tr>\n",
       "      <th>4</th>\n",
       "      <td>2.1.1.255</td>\n",
       "      <td>Streptomyces coelicolor</td>\n",
       "      <td>CC(=CCCC(=C(C)COP(=O)(O)OP(=O)(O)O)C)C</td>\n",
       "      <td>(E)-2-Methylgeranyl diphosphate</td>\n",
       "      <td>MTTETTTATATAKIPAPATPYQEDIARYWNNEARPVNLRLGDVDGL...</td>\n",
       "      <td>0.0390</td>\n",
       "      <td>s^(-1)</td>\n",
       "      <td>-1.408935</td>\n",
       "    </tr>\n",
       "  </tbody>\n",
       "</table>\n",
       "</div>"
      ],
      "text/plain": [
       "    ECNumber                 Organism  \\\n",
       "0    4.2.3.4      Actinidia chinensis   \n",
       "1    4.2.3.4     Aspergillus nidulans   \n",
       "2    4.2.3.4        Neurospora crassa   \n",
       "3  2.1.1.255  Streptomyces coelicolor   \n",
       "4  2.1.1.255  Streptomyces coelicolor   \n",
       "\n",
       "                                              Smiles  \\\n",
       "0              C(C(C(C(COP(=O)(O)O)O)O)O)C(=O)C(=O)O   \n",
       "1     C(C(C(C(COP(=O)([O-])[O-])O)O)O)C(=O)C(=O)[O-]   \n",
       "2              C(C(C(C(COP(=O)(O)O)O)O)O)C(=O)C(=O)O   \n",
       "3  C[S+](CCC(C(=O)[O-])N)CC1C(C(C(O1)N2C=NC3=C(N=...   \n",
       "4             CC(=CCCC(=C(C)COP(=O)(O)OP(=O)(O)O)C)C   \n",
       "\n",
       "                                         Substrate  \\\n",
       "0  3-deoxy-D-arabino-heptulosonic acid 7-phosphate   \n",
       "1      3-deoxy-D-arabino-heptulosonate 7-phosphate   \n",
       "2  3-deoxy-D-arabino-heptulosonic acid 7-phosphate   \n",
       "3                          S-Adenosyl-L-methionine   \n",
       "4                  (E)-2-Methylgeranyl diphosphate   \n",
       "\n",
       "                                            Sequence   Raw Kd    Unit  \\\n",
       "0  MAAFSLSAKQILSPSTHRPSLSKTTTADSSLRFRNPHSLSLRCSSL...  20.1000  s^(-1)   \n",
       "1  MSNPTKISILGRESIIADFGLWRNYVAKDLISDCSSTTYVLVTDTN...   6.8000  s^(-1)   \n",
       "2  MAEPISNPTRINILGKDNIIIDHGIWLNFVAQDLLQNIKSSTYILI...  19.0000  s^(-1)   \n",
       "3  MTTETTTATATAKIPAPATPYQEDIARYWNNEARPVNLRLGDVDGL...   0.0075  s^(-1)   \n",
       "4  MTTETTTATATAKIPAPATPYQEDIARYWNNEARPVNLRLGDVDGL...   0.0390  s^(-1)   \n",
       "\n",
       "     Log Kd  \n",
       "0  1.303196  \n",
       "1  0.832509  \n",
       "2  1.278754  \n",
       "3 -2.124939  \n",
       "4 -1.408935  "
      ]
     },
     "execution_count": 2,
     "metadata": {},
     "output_type": "execute_result"
    }
   ],
   "source": [
    "data = torch.load('/Users/pinchichen/2025S lab/AI drug project/code/TrainingDataset/Kcat_Enzymatic_reaction.pt',weights_only=False)\n",
    "data.head()"
   ]
  },
  {
   "cell_type": "code",
   "execution_count": 3,
   "metadata": {},
   "outputs": [
    {
     "name": "stderr",
     "output_type": "stream",
     "text": [
      "Some weights of EsmModel were not initialized from the model checkpoint at facebook/esm2_t6_8M_UR50D and are newly initialized: ['pooler.dense.bias', 'pooler.dense.weight']\n",
      "You should probably TRAIN this model on a down-stream task to be able to use it for predictions and inference.\n"
     ]
    }
   ],
   "source": [
    "from transformers import AutoTokenizer, AutoModel\n",
    "import torch\n",
    "\n",
    "# Load ChemRoBERTa tokenizer and model\n",
    "chem_tokenizer = AutoTokenizer.from_pretrained(\"seyonec/ChemBERTa-zinc-base-v1\")\n",
    "chem_model = AutoModel.from_pretrained(\"seyonec/ChemBERTa-zinc-base-v1\")\n",
    "\n",
    "# Load ESM2 tokenizer and model\n",
    "esm_tokenizer = AutoTokenizer.from_pretrained(\"facebook/esm2_t6_8M_UR50D\")\n",
    "esm_model = AutoModel.from_pretrained(\"facebook/esm2_t6_8M_UR50D\")"
   ]
  },
  {
   "cell_type": "code",
   "execution_count": 4,
   "metadata": {},
   "outputs": [],
   "source": [
    "def extract_chem_features(smiles):\n",
    "    \"\"\"Extract ChemRoBERTa features from SMILES.\"\"\"\n",
    "    try:\n",
    "        tokens = chem_tokenizer(smiles, return_tensors=\"pt\", padding=True, truncation=True)\n",
    "        with torch.no_grad():\n",
    "            embeddings = chem_model(**tokens).last_hidden_state.mean(dim=1).squeeze().numpy()\n",
    "        return embeddings\n",
    "    except:\n",
    "        return np.zeros(768)  # Return zero vector if extraction fails\n",
    "\n",
    "def extract_esm_features(sequence):\n",
    "    \"\"\"Extract ESM2 features from protein sequence.\"\"\"\n",
    "    try:\n",
    "        tokens = esm_tokenizer(sequence, return_tensors=\"pt\", padding=True, truncation=True)\n",
    "        with torch.no_grad():\n",
    "            embeddings = esm_model(**tokens).last_hidden_state.mean(dim=1).squeeze().numpy()\n",
    "        return embeddings\n",
    "    except:\n",
    "        return np.zeros(768)  # Return zero vector if extraction fails"
   ]
  },
  {
   "cell_type": "code",
   "execution_count": 5,
   "metadata": {},
   "outputs": [],
   "source": [
    "# Extract unique mols and proteins\n",
    "unique_mols = data[['Smiles']].drop_duplicates()\n",
    "unique_proteins = data[['Sequence']].drop_duplicates()"
   ]
  },
  {
   "cell_type": "code",
   "execution_count": 6,
   "metadata": {},
   "outputs": [
    {
     "data": {
      "text/plain": [
       "(2706, 7857)"
      ]
     },
     "execution_count": 6,
     "metadata": {},
     "output_type": "execute_result"
    }
   ],
   "source": [
    "len(unique_mols), len(unique_proteins)"
   ]
  },
  {
   "cell_type": "code",
   "execution_count": 7,
   "metadata": {},
   "outputs": [
    {
     "name": "stderr",
     "output_type": "stream",
     "text": [
      "100%|██████████| 2706/2706 [01:10<00:00, 38.42it/s]\n"
     ]
    }
   ],
   "source": [
    "# Extract features for unique mols\n",
    "tqdm.pandas()  # Enable progress bar for pandas\n",
    "unique_mols['metabolite_features'] = unique_mols['Smiles'].progress_apply(extract_chem_features)"
   ]
  },
  {
   "cell_type": "code",
   "execution_count": 8,
   "metadata": {},
   "outputs": [
    {
     "name": "stderr",
     "output_type": "stream",
     "text": [
      "  0%|          | 0/7857 [00:00<?, ?it/s]Asking to truncate to max_length but no maximum length is provided and the model has no predefined maximum length. Default to no truncation.\n",
      "100%|██████████| 7857/7857 [10:18<00:00, 12.70it/s]  \n"
     ]
    }
   ],
   "source": [
    "# Extract features for unique proteins\n",
    "unique_proteins['protein_features'] = unique_proteins['Sequence'].progress_apply(extract_esm_features)"
   ]
  },
  {
   "cell_type": "code",
   "execution_count": 9,
   "metadata": {},
   "outputs": [],
   "source": [
    "# Merge features back into the combined dataframe\n",
    "data = data.merge(unique_mols, on='Smiles', how='left')\n",
    "data = data.merge(unique_proteins, on='Sequence', how='left')"
   ]
  },
  {
   "cell_type": "code",
   "execution_count": 10,
   "metadata": {},
   "outputs": [
    {
     "name": "stdout",
     "output_type": "stream",
     "text": [
      "Index(['ECNumber', 'Organism', 'Smiles', 'Substrate', 'Sequence', 'Raw Kd',\n",
      "       'Unit', 'Log Kd', 'metabolite_features', 'protein_features'],\n",
      "      dtype='object')\n"
     ]
    }
   ],
   "source": [
    "print(data.columns)"
   ]
  },
  {
   "cell_type": "code",
   "execution_count": 11,
   "metadata": {},
   "outputs": [],
   "source": [
    "# adding 1e-9 to prevent error when doing logarithm\n",
    "# ??????\n",
    "data['label'] = -np.log10(data['Raw Kd'] + 1e-9)"
   ]
  },
  {
   "cell_type": "code",
   "execution_count": 12,
   "metadata": {},
   "outputs": [],
   "source": [
    "# Define dataset\n",
    "class MPI_Dataset(Dataset):\n",
    "    def __init__(self, dataframe):\n",
    "        self.dataframe = dataframe\n",
    "\n",
    "    def __len__(self):\n",
    "        return len(self.dataframe)\n",
    "\n",
    "    def __getitem__(self, idx):\n",
    "        row = self.dataframe.iloc[idx]\n",
    "        return {\n",
    "            'metabolite_features': torch.tensor(np.asarray(row['metabolite_features'], dtype=np.float32)),\n",
    "            'protein_features': torch.tensor(np.asarray(row['protein_features'], dtype=np.float32)),\n",
    "            'label': torch.tensor(float(row['label']), dtype=torch.float32),\n",
    "        }"
   ]
  },
  {
   "cell_type": "code",
   "execution_count": 13,
   "metadata": {},
   "outputs": [],
   "source": [
    "# Separate the dataset by unique proteins and drugs\n",
    "unique_proteins = data['Sequence'].unique()\n",
    "unique_mols = data['Smiles'].unique()\n",
    "# Set the seed for reproducibility\n",
    "torch.manual_seed(42)\n",
    "# Function to perform a cold split\n",
    "def cold_split(unique_items, test_size=0.2, val_size=0.1):\n",
    "    train_items, test_items = train_test_split(unique_items, test_size=test_size, random_state=42)\n",
    "    train_items, val_items = train_test_split(train_items, test_size=val_size / (1 - test_size), random_state=42)\n",
    "    return train_items, val_items, test_items\n",
    "# Cold split by proteins\n",
    "train_proteins, val_proteins, test_proteins = cold_split(unique_proteins)\n",
    "train_cold_protein = data[data['Sequence'].isin(train_proteins)]\n",
    "val_cold_protein = data[data['Sequence'].isin(val_proteins)]\n",
    "test_cold_protein = data[data['Sequence'].isin(test_proteins)]\n",
    "# Cold split by molecules\n",
    "train_mols, val_mols, test_mols = cold_split(unique_mols)\n",
    "train_cold_mols = data[data['Smiles'].isin(train_mols)]\n",
    "val_cold_mols = data[data['Smiles'].isin(val_mols)]\n",
    "test_cold_mols = data[data['Smiles'].isin(test_mols)]"
   ]
  },
  {
   "cell_type": "code",
   "execution_count": 14,
   "metadata": {},
   "outputs": [],
   "source": [
    "# cold protein\n",
    "train_dataset = MPI_Dataset(train_cold_protein)\n",
    "val_dataset = MPI_Dataset(val_cold_protein)\n",
    "test_dataset = MPI_Dataset(test_cold_protein)\n",
    "\n",
    "train_loader = DataLoader(train_dataset, batch_size=32, shuffle=True)\n",
    "val_loader = DataLoader(val_dataset, batch_size=32)\n",
    "test_loader = DataLoader(test_dataset, batch_size=32)\n",
    "\n",
    "# cold mols\n",
    "train_dataset_mols = MPI_Dataset(train_cold_mols)\n",
    "val_dataset_mols = MPI_Dataset(val_cold_mols)\n",
    "test_dataset_mols = MPI_Dataset(test_cold_mols)\n",
    "\n",
    "train_loader_mols = DataLoader(train_dataset_mols, batch_size=32, shuffle=True)\n",
    "val_loader_mols = DataLoader(val_dataset_mols, batch_size=32)\n",
    "test_loader_mols = DataLoader(test_dataset_mols, batch_size=32)"
   ]
  },
  {
   "cell_type": "code",
   "execution_count": 15,
   "metadata": {},
   "outputs": [],
   "source": [
    "import torch.nn as nn\n",
    "import torch\n",
    "import torch.nn.functional as F\n",
    "\n",
    "# Define CNN Model for Regression\n",
    "class CNNRegressor(nn.Module):\n",
    "    def __init__(self, mol_input_dim, protein_input_dim, out_dim=1):\n",
    "        super(CNNRegressor, self).__init__()\n",
    "\n",
    "        self.mol_conv = nn.Sequential(\n",
    "            nn.Conv1d(in_channels=1, out_channels=16, kernel_size=3, padding=1),\n",
    "            nn.ReLU(),\n",
    "            nn.MaxPool1d(2),\n",
    "            nn.Conv1d(16, 32, kernel_size=3, padding=1),\n",
    "            nn.ReLU(),\n",
    "            nn.MaxPool1d(2),\n",
    "        )\n",
    "\n",
    "        self.protein_conv = nn.Sequential(\n",
    "            nn.Conv1d(1, 16, kernel_size=3, padding=1),\n",
    "            nn.ReLU(),\n",
    "            nn.MaxPool1d(2),\n",
    "            nn.Conv1d(16, 32, kernel_size=3, padding=1),\n",
    "            nn.ReLU(),\n",
    "            nn.MaxPool1d(2),\n",
    "        )\n",
    "\n",
    "        with torch.no_grad():\n",
    "            dummy_mol = torch.zeros(1, 1, mol_input_dim)\n",
    "            dummy_protein = torch.zeros(1, 1, protein_input_dim)\n",
    "    \n",
    "            mol_flatten_len = self.mol_conv(dummy_mol).view(1, -1).size(1)\n",
    "            protein_flatten_len = self.protein_conv(dummy_protein).view(1, -1).size(1)\n",
    "\n",
    "        self.fc = nn.Sequential(\n",
    "            nn.Linear(mol_flatten_len + protein_flatten_len, 128),\n",
    "            nn.ReLU(),\n",
    "            nn.Dropout(0.3),\n",
    "            nn.Linear(128, out_dim)\n",
    "        )\n",
    "\n",
    "    def forward(self, mol_input, protein_input):\n",
    "        # Reshape to (B, 1, L) for Conv1d\n",
    "        mol_input = mol_input.unsqueeze(1)\n",
    "        protein_input = protein_input.unsqueeze(1)\n",
    "\n",
    "        mol_out = self.mol_conv(mol_input)\n",
    "        protein_out = self.protein_conv(protein_input)\n",
    "\n",
    "        # Flatten\n",
    "        mol_out = mol_out.view(mol_out.size(0), -1)\n",
    "        protein_out = protein_out.view(protein_out.size(0), -1)\n",
    "\n",
    "        combined = torch.cat([mol_out, protein_out], dim=1)\n",
    "        output = self.fc(combined).squeeze()\n",
    "        return output\n"
   ]
  },
  {
   "cell_type": "code",
   "execution_count": 16,
   "metadata": {},
   "outputs": [],
   "source": [
    "# Check CUDA availability\n",
    "device = torch.device(\"cuda\" if torch.cuda.is_available() else \"cpu\")"
   ]
  },
  {
   "cell_type": "code",
   "execution_count": null,
   "metadata": {},
   "outputs": [
    {
     "name": "stderr",
     "output_type": "stream",
     "text": [
      "Training Epoch 1: 100%|██████████| 378/378 [00:14<00:00, 25.23it/s]\n"
     ]
    },
    {
     "name": "stdout",
     "output_type": "stream",
     "text": [
      "Epoch 0 - Train Loss: 2.1994, Train MSE: 2.1999, Train MAE: 1.1578\n"
     ]
    },
    {
     "name": "stderr",
     "output_type": "stream",
     "text": [
      "/var/folders/yz/c1z6m9_d5d3f80sywjc3rqsc0000gn/T/ipykernel_56848/3486802603.py:92: FutureWarning: The behavior of DataFrame concatenation with empty or all-NA entries is deprecated. In a future version, this will no longer exclude empty or all-NA columns when determining the result dtypes. To retain the old behavior, exclude the relevant entries before the concat operation.\n",
      "  train_history = pd.concat([train_history, pd.DataFrame([new_row])], ignore_index=True)\n"
     ]
    },
    {
     "name": "stdout",
     "output_type": "stream",
     "text": [
      "Epoch 0 - Validation Loss: 2.2592, Validation MSE: 2.2623, Validation MAE: 1.1644\n"
     ]
    },
    {
     "name": "stderr",
     "output_type": "stream",
     "text": [
      "Training Epoch 2: 100%|██████████| 378/378 [00:15<00:00, 24.48it/s]\n",
      "Training Epoch 3: 100%|██████████| 378/378 [00:13<00:00, 27.16it/s]\n",
      "Training Epoch 4: 100%|██████████| 378/378 [00:14<00:00, 26.99it/s]\n",
      "Training Epoch 5: 100%|██████████| 378/378 [00:18<00:00, 20.75it/s]\n",
      "Training Epoch 6: 100%|██████████| 378/378 [00:16<00:00, 23.18it/s]\n",
      "Training Epoch 7: 100%|██████████| 378/378 [00:15<00:00, 24.68it/s]\n",
      "Training Epoch 8: 100%|██████████| 378/378 [00:14<00:00, 25.38it/s]\n",
      "Training Epoch 9: 100%|██████████| 378/378 [00:15<00:00, 24.03it/s]\n",
      "Training Epoch 10: 100%|██████████| 378/378 [00:16<00:00, 22.83it/s]\n",
      "Training Epoch 11: 100%|██████████| 378/378 [00:16<00:00, 22.60it/s]\n"
     ]
    },
    {
     "name": "stdout",
     "output_type": "stream",
     "text": [
      "Epoch 10 - Train Loss: 1.6667, Train MSE: 1.6678, Train MAE: 0.9986\n",
      "Epoch 10 - Validation Loss: 1.9156, Validation MSE: 1.9173, Validation MAE: 1.0738\n"
     ]
    },
    {
     "name": "stderr",
     "output_type": "stream",
     "text": [
      "Training Epoch 12: 100%|██████████| 378/378 [00:17<00:00, 22.18it/s]\n",
      "Training Epoch 13: 100%|██████████| 378/378 [00:16<00:00, 22.44it/s]\n",
      "Training Epoch 14: 100%|██████████| 378/378 [00:17<00:00, 21.66it/s]\n",
      "Training Epoch 15: 100%|██████████| 378/378 [00:17<00:00, 22.23it/s]\n",
      "Training Epoch 16: 100%|██████████| 378/378 [00:16<00:00, 23.31it/s]\n",
      "Training Epoch 17: 100%|██████████| 378/378 [00:16<00:00, 22.27it/s]\n",
      "Training Epoch 18: 100%|██████████| 378/378 [00:18<00:00, 20.86it/s]\n",
      "Training Epoch 19: 100%|██████████| 378/378 [00:15<00:00, 23.96it/s]\n",
      "Training Epoch 20: 100%|██████████| 378/378 [00:16<00:00, 22.43it/s]\n",
      "Training Epoch 21: 100%|██████████| 378/378 [00:16<00:00, 22.92it/s]\n"
     ]
    },
    {
     "name": "stdout",
     "output_type": "stream",
     "text": [
      "Epoch 20 - Train Loss: 1.4913, Train MSE: 1.4914, Train MAE: 0.9389\n",
      "Epoch 20 - Validation Loss: 1.8018, Validation MSE: 1.8043, Validation MAE: 1.0182\n"
     ]
    },
    {
     "name": "stderr",
     "output_type": "stream",
     "text": [
      "Training Epoch 22: 100%|██████████| 378/378 [00:18<00:00, 20.09it/s]\n",
      "Training Epoch 23: 100%|██████████| 378/378 [00:16<00:00, 22.30it/s]\n",
      "Training Epoch 24: 100%|██████████| 378/378 [00:18<00:00, 20.73it/s]\n",
      "Training Epoch 25: 100%|██████████| 378/378 [00:18<00:00, 20.15it/s]\n",
      "Training Epoch 26: 100%|██████████| 378/378 [00:16<00:00, 22.40it/s]\n",
      "Training Epoch 27: 100%|██████████| 378/378 [00:17<00:00, 22.19it/s]\n",
      "Training Epoch 28: 100%|██████████| 378/378 [00:17<00:00, 21.15it/s]\n",
      "Training Epoch 29: 100%|██████████| 378/378 [00:16<00:00, 22.28it/s]\n",
      "Training Epoch 30: 100%|██████████| 378/378 [00:16<00:00, 22.54it/s]\n",
      "Training Epoch 31: 100%|██████████| 378/378 [00:16<00:00, 22.43it/s]\n"
     ]
    },
    {
     "name": "stdout",
     "output_type": "stream",
     "text": [
      "Epoch 30 - Train Loss: 1.3669, Train MSE: 1.3674, Train MAE: 0.8955\n",
      "Epoch 30 - Validation Loss: 1.7594, Validation MSE: 1.7617, Validation MAE: 1.0032\n"
     ]
    },
    {
     "name": "stderr",
     "output_type": "stream",
     "text": [
      "Training Epoch 32: 100%|██████████| 378/378 [00:17<00:00, 21.81it/s]\n",
      "Training Epoch 33: 100%|██████████| 378/378 [00:17<00:00, 21.38it/s]\n",
      "Training Epoch 34: 100%|██████████| 378/378 [00:16<00:00, 22.43it/s]\n",
      "Training Epoch 35: 100%|██████████| 378/378 [00:16<00:00, 22.55it/s]\n",
      "Training Epoch 36: 100%|██████████| 378/378 [00:17<00:00, 21.28it/s]\n",
      "Training Epoch 37: 100%|██████████| 378/378 [00:17<00:00, 21.41it/s]\n",
      "Training Epoch 38: 100%|██████████| 378/378 [00:17<00:00, 22.22it/s]\n",
      "Training Epoch 39: 100%|██████████| 378/378 [00:17<00:00, 21.44it/s]\n",
      "Training Epoch 40: 100%|██████████| 378/378 [00:17<00:00, 22.02it/s]\n",
      "Training Epoch 41: 100%|██████████| 378/378 [00:16<00:00, 22.72it/s]\n"
     ]
    },
    {
     "name": "stdout",
     "output_type": "stream",
     "text": [
      "Epoch 40 - Train Loss: 1.2720, Train MSE: 1.2719, Train MAE: 0.8591\n",
      "Epoch 40 - Validation Loss: 1.7340, Validation MSE: 1.7368, Validation MAE: 1.0114\n"
     ]
    },
    {
     "name": "stderr",
     "output_type": "stream",
     "text": [
      "Training Epoch 42: 100%|██████████| 378/378 [00:16<00:00, 22.92it/s]\n",
      "Training Epoch 43: 100%|██████████| 378/378 [00:16<00:00, 22.73it/s]\n",
      "Training Epoch 44: 100%|██████████| 378/378 [00:16<00:00, 22.78it/s]\n",
      "Training Epoch 45: 100%|██████████| 378/378 [00:17<00:00, 21.65it/s]\n",
      "Training Epoch 46: 100%|██████████| 378/378 [00:16<00:00, 22.43it/s]\n",
      "Training Epoch 47: 100%|██████████| 378/378 [00:16<00:00, 22.29it/s]\n",
      "Training Epoch 48: 100%|██████████| 378/378 [00:15<00:00, 24.06it/s]\n",
      "Training Epoch 49: 100%|██████████| 378/378 [00:15<00:00, 24.46it/s]\n",
      "Training Epoch 50: 100%|██████████| 378/378 [00:15<00:00, 23.83it/s]\n",
      "Training Epoch 51: 100%|██████████| 378/378 [00:15<00:00, 24.07it/s]\n"
     ]
    },
    {
     "name": "stdout",
     "output_type": "stream",
     "text": [
      "Epoch 50 - Train Loss: 1.2010, Train MSE: 1.2011, Train MAE: 0.8332\n",
      "Epoch 50 - Validation Loss: 1.6966, Validation MSE: 1.7000, Validation MAE: 0.9852\n"
     ]
    },
    {
     "name": "stderr",
     "output_type": "stream",
     "text": [
      "Training Epoch 52: 100%|██████████| 378/378 [00:15<00:00, 24.51it/s]\n",
      "Training Epoch 53: 100%|██████████| 378/378 [00:15<00:00, 24.36it/s]\n",
      "Training Epoch 54: 100%|██████████| 378/378 [00:15<00:00, 24.15it/s]\n",
      "Training Epoch 55: 100%|██████████| 378/378 [00:16<00:00, 23.58it/s]\n",
      "Training Epoch 56: 100%|██████████| 378/378 [00:15<00:00, 24.72it/s]\n",
      "Training Epoch 57: 100%|██████████| 378/378 [00:15<00:00, 23.92it/s]\n",
      "Training Epoch 58: 100%|██████████| 378/378 [00:15<00:00, 24.59it/s]\n",
      "Training Epoch 59: 100%|██████████| 378/378 [00:14<00:00, 26.71it/s]\n",
      "Training Epoch 60: 100%|██████████| 378/378 [00:14<00:00, 26.83it/s]\n",
      "Training Epoch 61: 100%|██████████| 378/378 [00:13<00:00, 28.27it/s]\n"
     ]
    },
    {
     "name": "stdout",
     "output_type": "stream",
     "text": [
      "Epoch 60 - Train Loss: 1.1290, Train MSE: 1.1296, Train MAE: 0.8020\n",
      "Epoch 60 - Validation Loss: 1.7096, Validation MSE: 1.7132, Validation MAE: 0.9768\n"
     ]
    },
    {
     "name": "stderr",
     "output_type": "stream",
     "text": [
      "Training Epoch 62: 100%|██████████| 378/378 [00:12<00:00, 31.04it/s]\n",
      "Training Epoch 63: 100%|██████████| 378/378 [00:10<00:00, 34.76it/s]\n",
      "Training Epoch 64: 100%|██████████| 378/378 [00:10<00:00, 34.75it/s]\n",
      "Training Epoch 65: 100%|██████████| 378/378 [00:10<00:00, 34.78it/s]\n",
      "Training Epoch 66: 100%|██████████| 378/378 [00:10<00:00, 34.54it/s]\n",
      "Training Epoch 67: 100%|██████████| 378/378 [00:10<00:00, 34.80it/s]\n",
      "Training Epoch 68: 100%|██████████| 378/378 [00:10<00:00, 34.64it/s]\n",
      "Training Epoch 69: 100%|██████████| 378/378 [00:10<00:00, 34.65it/s]\n",
      "Training Epoch 70: 100%|██████████| 378/378 [00:10<00:00, 34.60it/s]\n",
      "Training Epoch 71: 100%|██████████| 378/378 [00:10<00:00, 34.61it/s]\n"
     ]
    },
    {
     "name": "stdout",
     "output_type": "stream",
     "text": [
      "Epoch 70 - Train Loss: 1.0608, Train MSE: 1.0611, Train MAE: 0.7764\n",
      "Epoch 70 - Validation Loss: 1.6904, Validation MSE: 1.6938, Validation MAE: 0.9993\n"
     ]
    },
    {
     "name": "stderr",
     "output_type": "stream",
     "text": [
      "Training Epoch 72: 100%|██████████| 378/378 [00:10<00:00, 34.58it/s]\n",
      "Training Epoch 73: 100%|██████████| 378/378 [00:10<00:00, 34.73it/s]\n",
      "Training Epoch 74: 100%|██████████| 378/378 [00:10<00:00, 34.88it/s]\n",
      "Training Epoch 75: 100%|██████████| 378/378 [00:10<00:00, 34.81it/s]\n",
      "Training Epoch 76: 100%|██████████| 378/378 [00:10<00:00, 34.73it/s]\n",
      "Training Epoch 77: 100%|██████████| 378/378 [00:10<00:00, 34.59it/s]\n",
      "Training Epoch 78: 100%|██████████| 378/378 [00:10<00:00, 34.46it/s]\n",
      "Training Epoch 79: 100%|██████████| 378/378 [00:10<00:00, 34.73it/s]\n",
      "Training Epoch 80: 100%|██████████| 378/378 [00:10<00:00, 34.68it/s]\n",
      "Training Epoch 81: 100%|██████████| 378/378 [00:10<00:00, 34.70it/s]\n"
     ]
    },
    {
     "name": "stdout",
     "output_type": "stream",
     "text": [
      "Epoch 80 - Train Loss: 1.0257, Train MSE: 1.0259, Train MAE: 0.7595\n",
      "Epoch 80 - Validation Loss: 1.7404, Validation MSE: 1.7434, Validation MAE: 0.9701\n"
     ]
    },
    {
     "name": "stderr",
     "output_type": "stream",
     "text": [
      "Training Epoch 82: 100%|██████████| 378/378 [00:10<00:00, 34.56it/s]\n",
      "Training Epoch 83: 100%|██████████| 378/378 [00:10<00:00, 34.58it/s]\n",
      "Training Epoch 84: 100%|██████████| 378/378 [00:10<00:00, 34.66it/s]\n",
      "Training Epoch 85: 100%|██████████| 378/378 [00:10<00:00, 34.53it/s]\n",
      "Training Epoch 86: 100%|██████████| 378/378 [00:10<00:00, 34.69it/s]\n",
      "Training Epoch 87: 100%|██████████| 378/378 [00:10<00:00, 34.78it/s]\n",
      "Training Epoch 88: 100%|██████████| 378/378 [00:10<00:00, 34.51it/s]\n",
      "Training Epoch 89: 100%|██████████| 378/378 [00:10<00:00, 34.55it/s]\n",
      "Training Epoch 90: 100%|██████████| 378/378 [00:10<00:00, 34.70it/s]\n",
      "Training Epoch 91: 100%|██████████| 378/378 [00:10<00:00, 34.61it/s]\n"
     ]
    },
    {
     "name": "stdout",
     "output_type": "stream",
     "text": [
      "Epoch 90 - Train Loss: 0.9813, Train MSE: 0.9801, Train MAE: 0.7396\n",
      "Epoch 90 - Validation Loss: 1.6903, Validation MSE: 1.6935, Validation MAE: 0.9987\n"
     ]
    },
    {
     "name": "stderr",
     "output_type": "stream",
     "text": [
      "Training Epoch 92: 100%|██████████| 378/378 [00:11<00:00, 34.35it/s]\n",
      "Training Epoch 93: 100%|██████████| 378/378 [00:10<00:00, 34.74it/s]\n",
      "Training Epoch 94: 100%|██████████| 378/378 [00:10<00:00, 34.67it/s]\n",
      "Training Epoch 95: 100%|██████████| 378/378 [00:10<00:00, 34.63it/s]\n",
      "Training Epoch 96: 100%|██████████| 378/378 [00:10<00:00, 34.70it/s]\n",
      "Training Epoch 97: 100%|██████████| 378/378 [00:10<00:00, 34.68it/s]\n",
      "Training Epoch 98: 100%|██████████| 378/378 [00:10<00:00, 34.50it/s]\n",
      "Training Epoch 99: 100%|██████████| 378/378 [00:10<00:00, 34.54it/s]\n",
      "Training Epoch 100: 100%|██████████| 378/378 [00:10<00:00, 34.47it/s]\n",
      "Training Epoch 101: 100%|██████████| 378/378 [00:10<00:00, 34.46it/s]\n"
     ]
    },
    {
     "name": "stdout",
     "output_type": "stream",
     "text": [
      "Epoch 100 - Train Loss: 0.9436, Train MSE: 0.9439, Train MAE: 0.7255\n",
      "Epoch 100 - Validation Loss: 1.7054, Validation MSE: 1.7089, Validation MAE: 0.9916\n"
     ]
    },
    {
     "name": "stderr",
     "output_type": "stream",
     "text": [
      "Training Epoch 102: 100%|██████████| 378/378 [00:10<00:00, 34.67it/s]\n",
      "Training Epoch 103: 100%|██████████| 378/378 [00:10<00:00, 34.51it/s]\n",
      "Training Epoch 104: 100%|██████████| 378/378 [00:10<00:00, 34.60it/s]\n",
      "Training Epoch 105: 100%|██████████| 378/378 [00:10<00:00, 34.63it/s]\n",
      "Training Epoch 106: 100%|██████████| 378/378 [00:10<00:00, 34.39it/s]\n",
      "Training Epoch 107: 100%|██████████| 378/378 [00:10<00:00, 34.50it/s]\n",
      "Training Epoch 108: 100%|██████████| 378/378 [00:10<00:00, 34.70it/s]\n",
      "Training Epoch 109: 100%|██████████| 378/378 [00:10<00:00, 34.71it/s]\n",
      "Training Epoch 110: 100%|██████████| 378/378 [00:10<00:00, 34.67it/s]\n",
      "Training Epoch 111: 100%|██████████| 378/378 [00:10<00:00, 34.65it/s]\n"
     ]
    },
    {
     "name": "stdout",
     "output_type": "stream",
     "text": [
      "Epoch 110 - Train Loss: 0.9085, Train MSE: 0.9081, Train MAE: 0.7105\n",
      "Epoch 110 - Validation Loss: 1.6786, Validation MSE: 1.6824, Validation MAE: 0.9600\n"
     ]
    },
    {
     "name": "stderr",
     "output_type": "stream",
     "text": [
      "Training Epoch 112: 100%|██████████| 378/378 [00:10<00:00, 34.60it/s]\n",
      "Training Epoch 113: 100%|██████████| 378/378 [00:10<00:00, 34.71it/s]\n",
      "Training Epoch 114: 100%|██████████| 378/378 [00:10<00:00, 34.55it/s]\n",
      "Training Epoch 115: 100%|██████████| 378/378 [00:10<00:00, 34.53it/s]\n",
      "Training Epoch 116: 100%|██████████| 378/378 [00:10<00:00, 34.67it/s]\n",
      "Training Epoch 117: 100%|██████████| 378/378 [00:10<00:00, 34.75it/s]\n",
      "Training Epoch 118: 100%|██████████| 378/378 [00:10<00:00, 34.61it/s]\n",
      "Training Epoch 119: 100%|██████████| 378/378 [00:10<00:00, 34.53it/s]\n",
      "Training Epoch 120: 100%|██████████| 378/378 [00:10<00:00, 34.83it/s]\n",
      "Training Epoch 121: 100%|██████████| 378/378 [00:10<00:00, 34.61it/s]\n"
     ]
    },
    {
     "name": "stdout",
     "output_type": "stream",
     "text": [
      "Epoch 120 - Train Loss: 0.8785, Train MSE: 0.8785, Train MAE: 0.6978\n",
      "Epoch 120 - Validation Loss: 1.6688, Validation MSE: 1.6722, Validation MAE: 0.9379\n"
     ]
    },
    {
     "name": "stderr",
     "output_type": "stream",
     "text": [
      "Training Epoch 122: 100%|██████████| 378/378 [00:10<00:00, 34.48it/s]\n",
      "Training Epoch 123: 100%|██████████| 378/378 [00:10<00:00, 34.52it/s]\n",
      "Training Epoch 124: 100%|██████████| 378/378 [00:10<00:00, 34.70it/s]\n",
      "Training Epoch 125: 100%|██████████| 378/378 [00:10<00:00, 34.66it/s]\n",
      "Training Epoch 126: 100%|██████████| 378/378 [00:10<00:00, 34.76it/s]\n",
      "Training Epoch 127: 100%|██████████| 378/378 [00:10<00:00, 34.67it/s]\n",
      "Training Epoch 128: 100%|██████████| 378/378 [00:10<00:00, 34.62it/s]\n",
      "Training Epoch 129: 100%|██████████| 378/378 [00:10<00:00, 34.49it/s]\n",
      "Training Epoch 130: 100%|██████████| 378/378 [00:10<00:00, 34.45it/s]\n",
      "Training Epoch 131: 100%|██████████| 378/378 [00:10<00:00, 34.63it/s]\n"
     ]
    },
    {
     "name": "stdout",
     "output_type": "stream",
     "text": [
      "Epoch 130 - Train Loss: 0.8556, Train MSE: 0.8558, Train MAE: 0.6855\n",
      "Epoch 130 - Validation Loss: 1.6529, Validation MSE: 1.6564, Validation MAE: 0.9732\n"
     ]
    },
    {
     "name": "stderr",
     "output_type": "stream",
     "text": [
      "Training Epoch 132: 100%|██████████| 378/378 [00:10<00:00, 34.62it/s]\n",
      "Training Epoch 133: 100%|██████████| 378/378 [00:10<00:00, 34.52it/s]\n",
      "Training Epoch 134: 100%|██████████| 378/378 [00:10<00:00, 34.48it/s]\n",
      "Training Epoch 135: 100%|██████████| 378/378 [00:10<00:00, 34.69it/s]\n",
      "Training Epoch 136: 100%|██████████| 378/378 [00:10<00:00, 34.62it/s]\n",
      "Training Epoch 137: 100%|██████████| 378/378 [00:10<00:00, 34.64it/s]\n",
      "Training Epoch 138: 100%|██████████| 378/378 [00:10<00:00, 34.51it/s]\n",
      "Training Epoch 139: 100%|██████████| 378/378 [00:10<00:00, 34.76it/s]\n",
      "Training Epoch 140: 100%|██████████| 378/378 [00:10<00:00, 34.53it/s]\n",
      "Training Epoch 141: 100%|██████████| 378/378 [00:10<00:00, 34.54it/s]\n"
     ]
    },
    {
     "name": "stdout",
     "output_type": "stream",
     "text": [
      "Epoch 140 - Train Loss: 0.8267, Train MSE: 0.8269, Train MAE: 0.6749\n",
      "Epoch 140 - Validation Loss: 1.6690, Validation MSE: 1.6723, Validation MAE: 0.9741\n"
     ]
    },
    {
     "name": "stderr",
     "output_type": "stream",
     "text": [
      "Training Epoch 142: 100%|██████████| 378/378 [00:10<00:00, 34.59it/s]\n",
      "Training Epoch 143: 100%|██████████| 378/378 [00:10<00:00, 34.62it/s]\n",
      "Training Epoch 144: 100%|██████████| 378/378 [00:10<00:00, 34.56it/s]\n",
      "Training Epoch 145: 100%|██████████| 378/378 [00:10<00:00, 34.42it/s]\n",
      "Training Epoch 146: 100%|██████████| 378/378 [00:10<00:00, 34.65it/s]\n",
      "Training Epoch 147: 100%|██████████| 378/378 [00:10<00:00, 34.54it/s]\n",
      "Training Epoch 148: 100%|██████████| 378/378 [00:10<00:00, 34.52it/s]\n",
      "Training Epoch 149: 100%|██████████| 378/378 [00:10<00:00, 34.46it/s]\n",
      "Training Epoch 150: 100%|██████████| 378/378 [00:10<00:00, 34.57it/s]\n",
      "Training Epoch 151: 100%|██████████| 378/378 [00:10<00:00, 34.49it/s]\n"
     ]
    },
    {
     "name": "stdout",
     "output_type": "stream",
     "text": [
      "Epoch 150 - Train Loss: 0.8101, Train MSE: 0.8095, Train MAE: 0.6670\n",
      "Epoch 150 - Validation Loss: 1.6908, Validation MSE: 1.6939, Validation MAE: 0.9463\n"
     ]
    },
    {
     "name": "stderr",
     "output_type": "stream",
     "text": [
      "Training Epoch 152: 100%|██████████| 378/378 [00:10<00:00, 34.44it/s]\n",
      "Training Epoch 153: 100%|██████████| 378/378 [00:10<00:00, 34.45it/s]\n",
      "Training Epoch 154: 100%|██████████| 378/378 [00:10<00:00, 34.57it/s]\n",
      "Training Epoch 155: 100%|██████████| 378/378 [00:10<00:00, 34.50it/s]\n",
      "Training Epoch 156: 100%|██████████| 378/378 [00:10<00:00, 34.41it/s]\n",
      "Training Epoch 157: 100%|██████████| 378/378 [00:11<00:00, 34.17it/s]\n",
      "Training Epoch 158: 100%|██████████| 378/378 [00:11<00:00, 33.80it/s]\n",
      "Training Epoch 159: 100%|██████████| 378/378 [00:12<00:00, 30.97it/s]\n",
      "Training Epoch 160: 100%|██████████| 378/378 [00:11<00:00, 31.96it/s]\n",
      "Training Epoch 161: 100%|██████████| 378/378 [00:12<00:00, 30.76it/s]\n"
     ]
    },
    {
     "name": "stdout",
     "output_type": "stream",
     "text": [
      "Epoch 160 - Train Loss: 0.8026, Train MSE: 0.8029, Train MAE: 0.6595\n",
      "Epoch 160 - Validation Loss: 1.6641, Validation MSE: 1.6674, Validation MAE: 0.9389\n"
     ]
    },
    {
     "name": "stderr",
     "output_type": "stream",
     "text": [
      "Training Epoch 162: 100%|██████████| 378/378 [00:11<00:00, 32.66it/s]\n",
      "Training Epoch 163: 100%|██████████| 378/378 [00:11<00:00, 32.27it/s]\n",
      "Training Epoch 164: 100%|██████████| 378/378 [00:11<00:00, 31.66it/s]\n",
      "Training Epoch 165: 100%|██████████| 378/378 [00:14<00:00, 26.89it/s]\n",
      "Training Epoch 166: 100%|██████████| 378/378 [00:12<00:00, 30.85it/s]\n",
      "Training Epoch 167: 100%|██████████| 378/378 [00:11<00:00, 32.81it/s]\n",
      "Training Epoch 168: 100%|██████████| 378/378 [00:11<00:00, 32.47it/s]\n",
      "Training Epoch 169: 100%|██████████| 378/378 [00:11<00:00, 31.57it/s]\n",
      "Training Epoch 170: 100%|██████████| 378/378 [00:12<00:00, 31.43it/s]\n",
      "Training Epoch 171: 100%|██████████| 378/378 [00:11<00:00, 32.61it/s]\n"
     ]
    },
    {
     "name": "stdout",
     "output_type": "stream",
     "text": [
      "Epoch 170 - Train Loss: 0.7791, Train MSE: 0.7794, Train MAE: 0.6514\n",
      "Epoch 170 - Validation Loss: 1.6637, Validation MSE: 1.6673, Validation MAE: 0.9665\n"
     ]
    },
    {
     "name": "stderr",
     "output_type": "stream",
     "text": [
      "Training Epoch 172: 100%|██████████| 378/378 [00:11<00:00, 33.54it/s]\n",
      "Training Epoch 173: 100%|██████████| 378/378 [00:11<00:00, 33.08it/s]\n",
      "Training Epoch 174: 100%|██████████| 378/378 [00:11<00:00, 33.54it/s]\n",
      "Training Epoch 175: 100%|██████████| 378/378 [00:11<00:00, 33.58it/s]\n",
      "Training Epoch 176: 100%|██████████| 378/378 [00:11<00:00, 33.07it/s]\n",
      "Training Epoch 177: 100%|██████████| 378/378 [00:11<00:00, 31.67it/s]\n",
      "Training Epoch 178: 100%|██████████| 378/378 [00:11<00:00, 32.14it/s]\n",
      "Training Epoch 179: 100%|██████████| 378/378 [00:12<00:00, 30.10it/s]\n",
      "Training Epoch 180: 100%|██████████| 378/378 [00:14<00:00, 26.50it/s]\n",
      "Training Epoch 181: 100%|██████████| 378/378 [00:11<00:00, 32.33it/s]\n"
     ]
    },
    {
     "name": "stdout",
     "output_type": "stream",
     "text": [
      "Epoch 180 - Train Loss: 0.7641, Train MSE: 0.7638, Train MAE: 0.6414\n",
      "Epoch 180 - Validation Loss: 1.6530, Validation MSE: 1.6567, Validation MAE: 0.9566\n"
     ]
    },
    {
     "name": "stderr",
     "output_type": "stream",
     "text": [
      "Training Epoch 182: 100%|██████████| 378/378 [00:11<00:00, 32.37it/s]\n",
      "Training Epoch 183: 100%|██████████| 378/378 [00:11<00:00, 32.39it/s]\n",
      "Training Epoch 184: 100%|██████████| 378/378 [00:11<00:00, 32.96it/s]\n",
      "Training Epoch 185: 100%|██████████| 378/378 [00:11<00:00, 32.61it/s]\n",
      "Training Epoch 186: 100%|██████████| 378/378 [00:11<00:00, 32.67it/s]\n",
      "Training Epoch 187: 100%|██████████| 378/378 [00:11<00:00, 31.85it/s]\n",
      "Training Epoch 188: 100%|██████████| 378/378 [00:11<00:00, 32.70it/s]\n",
      "Training Epoch 189: 100%|██████████| 378/378 [00:11<00:00, 32.92it/s]\n",
      "Training Epoch 190: 100%|██████████| 378/378 [00:11<00:00, 32.95it/s]\n",
      "Training Epoch 191: 100%|██████████| 378/378 [00:11<00:00, 32.03it/s]\n"
     ]
    },
    {
     "name": "stdout",
     "output_type": "stream",
     "text": [
      "Epoch 190 - Train Loss: 0.7627, Train MSE: 0.7627, Train MAE: 0.6403\n",
      "Epoch 190 - Validation Loss: 1.6512, Validation MSE: 1.6548, Validation MAE: 0.9268\n"
     ]
    },
    {
     "name": "stderr",
     "output_type": "stream",
     "text": [
      "Training Epoch 192: 100%|██████████| 378/378 [00:12<00:00, 31.25it/s]\n",
      "Training Epoch 193: 100%|██████████| 378/378 [00:11<00:00, 31.51it/s]\n",
      "Training Epoch 194: 100%|██████████| 378/378 [00:11<00:00, 31.61it/s]\n",
      "Training Epoch 195: 100%|██████████| 378/378 [00:11<00:00, 32.06it/s]\n",
      "Training Epoch 196: 100%|██████████| 378/378 [00:11<00:00, 31.93it/s]\n",
      "Training Epoch 197: 100%|██████████| 378/378 [00:11<00:00, 32.94it/s]\n",
      "Training Epoch 198: 100%|██████████| 378/378 [00:11<00:00, 33.07it/s]\n",
      "Training Epoch 199: 100%|██████████| 378/378 [00:11<00:00, 33.01it/s]\n",
      "Training Epoch 200: 100%|██████████| 378/378 [00:11<00:00, 33.06it/s]\n",
      "Training Epoch 201: 100%|██████████| 378/378 [00:11<00:00, 32.93it/s]\n"
     ]
    },
    {
     "name": "stdout",
     "output_type": "stream",
     "text": [
      "Epoch 200 - Train Loss: 0.7408, Train MSE: 0.7408, Train MAE: 0.6323\n",
      "Epoch 200 - Validation Loss: 1.6476, Validation MSE: 1.6509, Validation MAE: 0.9416\n"
     ]
    },
    {
     "name": "stderr",
     "output_type": "stream",
     "text": [
      "Training Epoch 202: 100%|██████████| 378/378 [00:11<00:00, 32.88it/s]\n",
      "Training Epoch 203: 100%|██████████| 378/378 [00:11<00:00, 32.95it/s]\n",
      "Training Epoch 204: 100%|██████████| 378/378 [00:11<00:00, 33.09it/s]\n",
      "Training Epoch 205: 100%|██████████| 378/378 [00:11<00:00, 32.93it/s]\n",
      "Training Epoch 206: 100%|██████████| 378/378 [00:11<00:00, 33.00it/s]\n",
      "Training Epoch 207: 100%|██████████| 378/378 [00:11<00:00, 32.99it/s]\n",
      "Training Epoch 208: 100%|██████████| 378/378 [00:11<00:00, 33.04it/s]\n",
      "Training Epoch 209: 100%|██████████| 378/378 [00:11<00:00, 33.02it/s]\n",
      "Training Epoch 210: 100%|██████████| 378/378 [00:11<00:00, 32.95it/s]\n",
      "Training Epoch 211: 100%|██████████| 378/378 [00:11<00:00, 33.04it/s]\n"
     ]
    },
    {
     "name": "stdout",
     "output_type": "stream",
     "text": [
      "Epoch 210 - Train Loss: 0.7267, Train MSE: 0.7265, Train MAE: 0.6250\n",
      "Epoch 210 - Validation Loss: 1.6737, Validation MSE: 1.6767, Validation MAE: 0.9402\n"
     ]
    },
    {
     "name": "stderr",
     "output_type": "stream",
     "text": [
      "Training Epoch 212: 100%|██████████| 378/378 [00:11<00:00, 33.16it/s]\n",
      "Training Epoch 213: 100%|██████████| 378/378 [00:11<00:00, 32.95it/s]\n",
      "Training Epoch 214: 100%|██████████| 378/378 [00:11<00:00, 32.97it/s]\n",
      "Training Epoch 215: 100%|██████████| 378/378 [00:11<00:00, 33.14it/s]\n",
      "Training Epoch 216: 100%|██████████| 378/378 [00:11<00:00, 33.07it/s]\n",
      "Training Epoch 217: 100%|██████████| 378/378 [00:11<00:00, 33.04it/s]\n",
      "Training Epoch 218: 100%|██████████| 378/378 [00:11<00:00, 33.01it/s]\n",
      "Training Epoch 219: 100%|██████████| 378/378 [00:11<00:00, 33.14it/s]\n",
      "Training Epoch 220: 100%|██████████| 378/378 [00:11<00:00, 33.20it/s]\n",
      "Training Epoch 221: 100%|██████████| 378/378 [00:11<00:00, 33.02it/s]\n"
     ]
    },
    {
     "name": "stdout",
     "output_type": "stream",
     "text": [
      "Epoch 220 - Train Loss: 0.7270, Train MSE: 0.7270, Train MAE: 0.6262\n",
      "Epoch 220 - Validation Loss: 1.6823, Validation MSE: 1.6860, Validation MAE: 0.9357\n"
     ]
    },
    {
     "name": "stderr",
     "output_type": "stream",
     "text": [
      "Training Epoch 222: 100%|██████████| 378/378 [00:11<00:00, 33.08it/s]\n",
      "Training Epoch 223: 100%|██████████| 378/378 [00:11<00:00, 33.18it/s]\n",
      "Training Epoch 224: 100%|██████████| 378/378 [00:11<00:00, 33.28it/s]\n",
      "Training Epoch 225: 100%|██████████| 378/378 [00:11<00:00, 33.16it/s]\n",
      "Training Epoch 226: 100%|██████████| 378/378 [00:11<00:00, 33.32it/s]\n",
      "Training Epoch 227: 100%|██████████| 378/378 [00:11<00:00, 33.25it/s]\n",
      "Training Epoch 228: 100%|██████████| 378/378 [00:11<00:00, 33.52it/s]\n",
      "Training Epoch 229: 100%|██████████| 378/378 [00:11<00:00, 33.52it/s]\n",
      "Training Epoch 230: 100%|██████████| 378/378 [00:11<00:00, 33.36it/s]\n",
      "Training Epoch 231: 100%|██████████| 378/378 [00:11<00:00, 33.53it/s]\n"
     ]
    },
    {
     "name": "stdout",
     "output_type": "stream",
     "text": [
      "Epoch 230 - Train Loss: 0.7029, Train MSE: 0.7030, Train MAE: 0.6157\n",
      "Epoch 230 - Validation Loss: 1.6277, Validation MSE: 1.6306, Validation MAE: 0.9316\n"
     ]
    },
    {
     "name": "stderr",
     "output_type": "stream",
     "text": [
      "Training Epoch 232: 100%|██████████| 378/378 [00:11<00:00, 33.34it/s]\n",
      "Training Epoch 233: 100%|██████████| 378/378 [00:11<00:00, 33.47it/s]\n",
      "Training Epoch 234: 100%|██████████| 378/378 [00:11<00:00, 33.44it/s]\n",
      "Training Epoch 235: 100%|██████████| 378/378 [00:11<00:00, 33.40it/s]\n",
      "Training Epoch 236: 100%|██████████| 378/378 [00:11<00:00, 33.43it/s]\n",
      "Training Epoch 237: 100%|██████████| 378/378 [00:11<00:00, 33.19it/s]\n",
      "Training Epoch 238: 100%|██████████| 378/378 [00:11<00:00, 33.11it/s]\n",
      "Training Epoch 239: 100%|██████████| 378/378 [00:11<00:00, 33.04it/s]\n",
      "Training Epoch 240: 100%|██████████| 378/378 [00:11<00:00, 33.08it/s]\n",
      "Training Epoch 241: 100%|██████████| 378/378 [00:11<00:00, 33.16it/s]\n"
     ]
    },
    {
     "name": "stdout",
     "output_type": "stream",
     "text": [
      "Epoch 240 - Train Loss: 0.7082, Train MSE: 0.7085, Train MAE: 0.6137\n",
      "Epoch 240 - Validation Loss: 1.7055, Validation MSE: 1.7092, Validation MAE: 0.9463\n"
     ]
    },
    {
     "name": "stderr",
     "output_type": "stream",
     "text": [
      "Training Epoch 242: 100%|██████████| 378/378 [00:11<00:00, 33.06it/s]\n",
      "Training Epoch 243: 100%|██████████| 378/378 [00:11<00:00, 33.03it/s]\n",
      "Training Epoch 244: 100%|██████████| 378/378 [00:11<00:00, 33.59it/s]\n",
      "Training Epoch 245: 100%|██████████| 378/378 [00:11<00:00, 34.08it/s]\n",
      "Training Epoch 246: 100%|██████████| 378/378 [00:11<00:00, 34.01it/s]\n",
      "Training Epoch 247: 100%|██████████| 378/378 [00:11<00:00, 33.96it/s]\n",
      "Training Epoch 248: 100%|██████████| 378/378 [00:11<00:00, 34.21it/s]\n",
      "Training Epoch 249: 100%|██████████| 378/378 [00:11<00:00, 34.14it/s]\n",
      "Training Epoch 250: 100%|██████████| 378/378 [00:11<00:00, 34.07it/s]\n",
      "Training Epoch 251: 100%|██████████| 378/378 [00:11<00:00, 34.18it/s]\n"
     ]
    },
    {
     "name": "stdout",
     "output_type": "stream",
     "text": [
      "Epoch 250 - Train Loss: 0.6980, Train MSE: 0.6980, Train MAE: 0.6126\n",
      "Epoch 250 - Validation Loss: 1.7342, Validation MSE: 1.7373, Validation MAE: 0.9490\n"
     ]
    },
    {
     "name": "stderr",
     "output_type": "stream",
     "text": [
      "Training Epoch 252: 100%|██████████| 378/378 [00:11<00:00, 34.18it/s]\n",
      "Training Epoch 253: 100%|██████████| 378/378 [00:10<00:00, 34.40it/s]\n",
      "Training Epoch 254: 100%|██████████| 378/378 [00:11<00:00, 33.98it/s]\n",
      "Training Epoch 255: 100%|██████████| 378/378 [00:11<00:00, 34.09it/s]\n",
      "Training Epoch 256: 100%|██████████| 378/378 [00:11<00:00, 34.23it/s]\n",
      "Training Epoch 257: 100%|██████████| 378/378 [00:11<00:00, 34.11it/s]\n",
      "Training Epoch 258: 100%|██████████| 378/378 [00:11<00:00, 34.23it/s]\n",
      "Training Epoch 259: 100%|██████████| 378/378 [00:11<00:00, 34.11it/s]\n",
      "Training Epoch 260: 100%|██████████| 378/378 [00:11<00:00, 34.31it/s]\n",
      "Training Epoch 261: 100%|██████████| 378/378 [00:11<00:00, 34.25it/s]\n"
     ]
    },
    {
     "name": "stdout",
     "output_type": "stream",
     "text": [
      "Epoch 260 - Train Loss: 0.6901, Train MSE: 0.6902, Train MAE: 0.6057\n",
      "Epoch 260 - Validation Loss: 1.6556, Validation MSE: 1.6593, Validation MAE: 0.9288\n"
     ]
    },
    {
     "name": "stderr",
     "output_type": "stream",
     "text": [
      "Training Epoch 262: 100%|██████████| 378/378 [00:11<00:00, 34.18it/s]\n",
      "Training Epoch 263: 100%|██████████| 378/378 [00:11<00:00, 34.13it/s]\n",
      "Training Epoch 264: 100%|██████████| 378/378 [00:11<00:00, 34.15it/s]\n",
      "Training Epoch 265: 100%|██████████| 378/378 [00:11<00:00, 34.17it/s]\n",
      "Training Epoch 266: 100%|██████████| 378/378 [00:11<00:00, 34.25it/s]\n",
      "Training Epoch 267: 100%|██████████| 378/378 [00:11<00:00, 34.23it/s]\n",
      "Training Epoch 268: 100%|██████████| 378/378 [00:11<00:00, 34.16it/s]\n",
      "Training Epoch 269: 100%|██████████| 378/378 [00:11<00:00, 34.18it/s]\n",
      "Training Epoch 270: 100%|██████████| 378/378 [00:11<00:00, 34.14it/s]\n",
      "Training Epoch 271: 100%|██████████| 378/378 [00:11<00:00, 34.15it/s]\n"
     ]
    },
    {
     "name": "stdout",
     "output_type": "stream",
     "text": [
      "Epoch 270 - Train Loss: 0.6792, Train MSE: 0.6786, Train MAE: 0.6004\n",
      "Epoch 270 - Validation Loss: 1.6988, Validation MSE: 1.7023, Validation MAE: 0.9363\n"
     ]
    },
    {
     "name": "stderr",
     "output_type": "stream",
     "text": [
      "Training Epoch 272: 100%|██████████| 378/378 [00:11<00:00, 34.26it/s]\n",
      "Training Epoch 273: 100%|██████████| 378/378 [00:11<00:00, 34.16it/s]\n",
      "Training Epoch 274: 100%|██████████| 378/378 [00:11<00:00, 34.01it/s]\n",
      "Training Epoch 275: 100%|██████████| 378/378 [00:11<00:00, 34.08it/s]\n",
      "Training Epoch 276: 100%|██████████| 378/378 [00:11<00:00, 34.26it/s]\n",
      "Training Epoch 277: 100%|██████████| 378/378 [00:11<00:00, 34.20it/s]\n",
      "Training Epoch 278: 100%|██████████| 378/378 [00:11<00:00, 34.19it/s]\n",
      "Training Epoch 279: 100%|██████████| 378/378 [00:11<00:00, 34.05it/s]\n",
      "Training Epoch 280: 100%|██████████| 378/378 [00:11<00:00, 33.94it/s]\n",
      "Training Epoch 281: 100%|██████████| 378/378 [00:11<00:00, 34.30it/s]\n"
     ]
    },
    {
     "name": "stdout",
     "output_type": "stream",
     "text": [
      "Epoch 280 - Train Loss: 0.6785, Train MSE: 0.6790, Train MAE: 0.5975\n",
      "Epoch 280 - Validation Loss: 1.6861, Validation MSE: 1.6898, Validation MAE: 0.9476\n"
     ]
    },
    {
     "name": "stderr",
     "output_type": "stream",
     "text": [
      "Training Epoch 282: 100%|██████████| 378/378 [00:11<00:00, 34.15it/s]\n",
      "Training Epoch 283: 100%|██████████| 378/378 [00:11<00:00, 34.16it/s]\n",
      "Training Epoch 284: 100%|██████████| 378/378 [00:11<00:00, 34.12it/s]\n",
      "Training Epoch 285: 100%|██████████| 378/378 [00:11<00:00, 32.72it/s]\n",
      "Training Epoch 286: 100%|██████████| 378/378 [00:10<00:00, 34.47it/s]\n",
      "Training Epoch 287: 100%|██████████| 378/378 [00:11<00:00, 34.25it/s]\n",
      "Training Epoch 288: 100%|██████████| 378/378 [00:10<00:00, 34.42it/s]\n",
      "Training Epoch 289: 100%|██████████| 378/378 [00:11<00:00, 34.23it/s]\n",
      "Training Epoch 290: 100%|██████████| 378/378 [00:11<00:00, 34.27it/s]\n",
      "Training Epoch 291: 100%|██████████| 378/378 [00:11<00:00, 34.28it/s]\n"
     ]
    },
    {
     "name": "stdout",
     "output_type": "stream",
     "text": [
      "Epoch 290 - Train Loss: 0.6710, Train MSE: 0.6714, Train MAE: 0.5949\n",
      "Epoch 290 - Validation Loss: 1.6437, Validation MSE: 1.6464, Validation MAE: 0.9322\n"
     ]
    },
    {
     "name": "stderr",
     "output_type": "stream",
     "text": [
      "Training Epoch 292: 100%|██████████| 378/378 [00:11<00:00, 34.25it/s]\n",
      "Training Epoch 293: 100%|██████████| 378/378 [00:11<00:00, 34.33it/s]\n",
      "Training Epoch 294: 100%|██████████| 378/378 [00:11<00:00, 34.19it/s]\n",
      "Training Epoch 295: 100%|██████████| 378/378 [00:10<00:00, 34.39it/s]\n",
      "Training Epoch 296: 100%|██████████| 378/378 [00:10<00:00, 34.62it/s]\n",
      "Training Epoch 297: 100%|██████████| 378/378 [00:11<00:00, 34.29it/s]\n",
      "Training Epoch 298: 100%|██████████| 378/378 [00:11<00:00, 34.24it/s]\n",
      "Training Epoch 299: 100%|██████████| 378/378 [00:11<00:00, 34.27it/s]\n",
      "Training Epoch 300: 100%|██████████| 378/378 [00:11<00:00, 34.27it/s]\n",
      "Training Epoch 301: 100%|██████████| 378/378 [00:11<00:00, 34.08it/s]\n"
     ]
    },
    {
     "name": "stdout",
     "output_type": "stream",
     "text": [
      "Epoch 300 - Train Loss: 0.6531, Train MSE: 0.6531, Train MAE: 0.5866\n",
      "Epoch 300 - Validation Loss: 1.6681, Validation MSE: 1.6715, Validation MAE: 0.9298\n"
     ]
    },
    {
     "name": "stderr",
     "output_type": "stream",
     "text": [
      "Training Epoch 302: 100%|██████████| 378/378 [00:11<00:00, 34.14it/s]\n",
      "Training Epoch 303: 100%|██████████| 378/378 [00:11<00:00, 34.31it/s]\n",
      "Training Epoch 304: 100%|██████████| 378/378 [00:11<00:00, 34.26it/s]\n",
      "Training Epoch 305: 100%|██████████| 378/378 [00:11<00:00, 34.23it/s]\n",
      "Training Epoch 306: 100%|██████████| 378/378 [00:11<00:00, 34.18it/s]\n",
      "Training Epoch 307: 100%|██████████| 378/378 [00:11<00:00, 34.29it/s]\n",
      "Training Epoch 308: 100%|██████████| 378/378 [00:11<00:00, 34.19it/s]\n",
      "Training Epoch 309: 100%|██████████| 378/378 [00:11<00:00, 34.10it/s]\n",
      "Training Epoch 310: 100%|██████████| 378/378 [00:11<00:00, 34.30it/s]\n",
      "Training Epoch 311: 100%|██████████| 378/378 [00:10<00:00, 35.71it/s]\n"
     ]
    },
    {
     "name": "stdout",
     "output_type": "stream",
     "text": [
      "Epoch 310 - Train Loss: 0.6625, Train MSE: 0.6626, Train MAE: 0.5901\n",
      "Epoch 310 - Validation Loss: 1.6415, Validation MSE: 1.6439, Validation MAE: 0.9232\n"
     ]
    },
    {
     "name": "stderr",
     "output_type": "stream",
     "text": [
      "Training Epoch 312: 100%|██████████| 378/378 [00:10<00:00, 35.89it/s]\n",
      "Training Epoch 313: 100%|██████████| 378/378 [00:10<00:00, 35.93it/s]\n",
      "Training Epoch 314: 100%|██████████| 378/378 [00:10<00:00, 35.88it/s]\n",
      "Training Epoch 315: 100%|██████████| 378/378 [00:10<00:00, 35.89it/s]\n",
      "Training Epoch 316: 100%|██████████| 378/378 [00:10<00:00, 35.83it/s]\n",
      "Training Epoch 317: 100%|██████████| 378/378 [00:10<00:00, 35.77it/s]\n",
      "Training Epoch 318: 100%|██████████| 378/378 [00:10<00:00, 35.83it/s]\n",
      "Training Epoch 319: 100%|██████████| 378/378 [00:10<00:00, 35.69it/s]\n",
      "Training Epoch 320: 100%|██████████| 378/378 [00:10<00:00, 35.81it/s]\n",
      "Training Epoch 321: 100%|██████████| 378/378 [00:10<00:00, 35.92it/s]\n"
     ]
    },
    {
     "name": "stdout",
     "output_type": "stream",
     "text": [
      "Epoch 320 - Train Loss: 0.6508, Train MSE: 0.6506, Train MAE: 0.5866\n",
      "Epoch 320 - Validation Loss: 1.7119, Validation MSE: 1.7154, Validation MAE: 0.9430\n"
     ]
    },
    {
     "name": "stderr",
     "output_type": "stream",
     "text": [
      "Training Epoch 322: 100%|██████████| 378/378 [00:10<00:00, 35.97it/s]\n",
      "Training Epoch 323: 100%|██████████| 378/378 [00:10<00:00, 35.94it/s]\n",
      "Training Epoch 324: 100%|██████████| 378/378 [00:10<00:00, 35.86it/s]\n",
      "Training Epoch 325: 100%|██████████| 378/378 [00:10<00:00, 36.00it/s]\n",
      "Training Epoch 326: 100%|██████████| 378/378 [00:10<00:00, 35.27it/s]\n",
      "Training Epoch 327: 100%|██████████| 378/378 [00:10<00:00, 35.23it/s]\n",
      "Training Epoch 328: 100%|██████████| 378/378 [00:10<00:00, 35.25it/s]\n",
      "Training Epoch 329: 100%|██████████| 378/378 [00:10<00:00, 35.39it/s]\n",
      "Training Epoch 330: 100%|██████████| 378/378 [00:10<00:00, 35.37it/s]\n",
      "Training Epoch 331: 100%|██████████| 378/378 [00:10<00:00, 35.39it/s]\n"
     ]
    },
    {
     "name": "stdout",
     "output_type": "stream",
     "text": [
      "Epoch 330 - Train Loss: 0.6402, Train MSE: 0.6400, Train MAE: 0.5797\n",
      "Epoch 330 - Validation Loss: 1.6656, Validation MSE: 1.6692, Validation MAE: 0.9451\n"
     ]
    },
    {
     "name": "stderr",
     "output_type": "stream",
     "text": [
      "Training Epoch 332: 100%|██████████| 378/378 [00:10<00:00, 35.35it/s]\n",
      "Training Epoch 333: 100%|██████████| 378/378 [00:10<00:00, 35.44it/s]\n",
      "Training Epoch 334: 100%|██████████| 378/378 [00:10<00:00, 35.25it/s]\n",
      "Training Epoch 335: 100%|██████████| 378/378 [00:10<00:00, 35.32it/s]\n",
      "Training Epoch 336: 100%|██████████| 378/378 [00:10<00:00, 35.27it/s]\n",
      "Training Epoch 337: 100%|██████████| 378/378 [00:10<00:00, 35.20it/s]\n",
      "Training Epoch 338: 100%|██████████| 378/378 [00:10<00:00, 35.35it/s]\n",
      "Training Epoch 339: 100%|██████████| 378/378 [00:10<00:00, 35.28it/s]\n",
      "Training Epoch 340: 100%|██████████| 378/378 [00:10<00:00, 35.31it/s]\n",
      "Training Epoch 341: 100%|██████████| 378/378 [00:10<00:00, 35.28it/s]\n"
     ]
    },
    {
     "name": "stdout",
     "output_type": "stream",
     "text": [
      "Epoch 340 - Train Loss: 0.6468, Train MSE: 0.6470, Train MAE: 0.5846\n",
      "Epoch 340 - Validation Loss: 1.6947, Validation MSE: 1.6984, Validation MAE: 0.9319\n"
     ]
    },
    {
     "name": "stderr",
     "output_type": "stream",
     "text": [
      "Training Epoch 342: 100%|██████████| 378/378 [00:10<00:00, 35.25it/s]\n",
      "Training Epoch 343: 100%|██████████| 378/378 [00:10<00:00, 35.25it/s]\n",
      "Training Epoch 344: 100%|██████████| 378/378 [00:10<00:00, 35.30it/s]\n",
      "Training Epoch 345: 100%|██████████| 378/378 [00:10<00:00, 35.16it/s]\n",
      "Training Epoch 346: 100%|██████████| 378/378 [00:10<00:00, 35.34it/s]\n",
      "Training Epoch 347: 100%|██████████| 378/378 [00:10<00:00, 35.39it/s]\n",
      "Training Epoch 348: 100%|██████████| 378/378 [00:10<00:00, 35.35it/s]\n",
      "Training Epoch 349: 100%|██████████| 378/378 [00:10<00:00, 35.29it/s]\n",
      "Training Epoch 350: 100%|██████████| 378/378 [00:10<00:00, 35.29it/s]\n",
      "Training Epoch 351: 100%|██████████| 378/378 [00:10<00:00, 35.19it/s]\n"
     ]
    },
    {
     "name": "stdout",
     "output_type": "stream",
     "text": [
      "Epoch 350 - Train Loss: 0.6238, Train MSE: 0.6241, Train MAE: 0.5717\n",
      "Epoch 350 - Validation Loss: 1.6974, Validation MSE: 1.7010, Validation MAE: 0.9298\n"
     ]
    },
    {
     "name": "stderr",
     "output_type": "stream",
     "text": [
      "Training Epoch 352: 100%|██████████| 378/378 [00:10<00:00, 35.15it/s]\n",
      "Training Epoch 353: 100%|██████████| 378/378 [00:10<00:00, 35.19it/s]\n",
      "Training Epoch 354: 100%|██████████| 378/378 [00:10<00:00, 35.30it/s]\n",
      "Training Epoch 355: 100%|██████████| 378/378 [00:10<00:00, 35.29it/s]\n",
      "Training Epoch 356: 100%|██████████| 378/378 [00:10<00:00, 35.27it/s]\n",
      "Training Epoch 357: 100%|██████████| 378/378 [00:10<00:00, 35.27it/s]\n",
      "Training Epoch 358: 100%|██████████| 378/378 [00:10<00:00, 35.31it/s]\n",
      "Training Epoch 359: 100%|██████████| 378/378 [00:10<00:00, 35.32it/s]\n",
      "Training Epoch 360: 100%|██████████| 378/378 [00:10<00:00, 35.24it/s]\n",
      "Training Epoch 361: 100%|██████████| 378/378 [00:10<00:00, 35.14it/s]\n"
     ]
    },
    {
     "name": "stdout",
     "output_type": "stream",
     "text": [
      "Epoch 360 - Train Loss: 0.6252, Train MSE: 0.6251, Train MAE: 0.5731\n",
      "Epoch 360 - Validation Loss: 1.6846, Validation MSE: 1.6878, Validation MAE: 0.9351\n"
     ]
    },
    {
     "name": "stderr",
     "output_type": "stream",
     "text": [
      "Training Epoch 362: 100%|██████████| 378/378 [00:10<00:00, 35.24it/s]\n",
      "Training Epoch 363: 100%|██████████| 378/378 [00:10<00:00, 35.14it/s]\n",
      "Training Epoch 364: 100%|██████████| 378/378 [00:10<00:00, 35.22it/s]\n",
      "Training Epoch 365: 100%|██████████| 378/378 [00:10<00:00, 35.30it/s]\n",
      "Training Epoch 366: 100%|██████████| 378/378 [00:10<00:00, 35.23it/s]\n",
      "Training Epoch 367: 100%|██████████| 378/378 [00:10<00:00, 35.22it/s]\n",
      "Training Epoch 368: 100%|██████████| 378/378 [00:10<00:00, 35.17it/s]\n",
      "Training Epoch 369: 100%|██████████| 378/378 [00:10<00:00, 35.21it/s]\n",
      "Training Epoch 370: 100%|██████████| 378/378 [00:10<00:00, 35.15it/s]\n",
      "Training Epoch 371: 100%|██████████| 378/378 [00:10<00:00, 35.21it/s]\n"
     ]
    },
    {
     "name": "stdout",
     "output_type": "stream",
     "text": [
      "Epoch 370 - Train Loss: 0.6263, Train MSE: 0.6262, Train MAE: 0.5693\n",
      "Epoch 370 - Validation Loss: 1.7275, Validation MSE: 1.7310, Validation MAE: 0.9389\n"
     ]
    },
    {
     "name": "stderr",
     "output_type": "stream",
     "text": [
      "Training Epoch 372: 100%|██████████| 378/378 [00:10<00:00, 35.33it/s]\n",
      "Training Epoch 373: 100%|██████████| 378/378 [00:10<00:00, 35.19it/s]\n",
      "Training Epoch 374: 100%|██████████| 378/378 [00:10<00:00, 35.11it/s]\n",
      "Training Epoch 375: 100%|██████████| 378/378 [00:10<00:00, 35.30it/s]\n",
      "Training Epoch 376: 100%|██████████| 378/378 [00:10<00:00, 35.17it/s]\n",
      "Training Epoch 377: 100%|██████████| 378/378 [00:10<00:00, 35.18it/s]\n",
      "Training Epoch 378: 100%|██████████| 378/378 [00:10<00:00, 35.05it/s]\n",
      "Training Epoch 379: 100%|██████████| 378/378 [00:10<00:00, 35.28it/s]\n",
      "Training Epoch 380: 100%|██████████| 378/378 [00:10<00:00, 35.20it/s]\n",
      "Training Epoch 381: 100%|██████████| 378/378 [00:10<00:00, 35.24it/s]\n"
     ]
    },
    {
     "name": "stdout",
     "output_type": "stream",
     "text": [
      "Epoch 380 - Train Loss: 0.6157, Train MSE: 0.6158, Train MAE: 0.5673\n",
      "Epoch 380 - Validation Loss: 1.6848, Validation MSE: 1.6881, Validation MAE: 0.9219\n"
     ]
    },
    {
     "name": "stderr",
     "output_type": "stream",
     "text": [
      "Training Epoch 382: 100%|██████████| 378/378 [00:10<00:00, 35.15it/s]\n",
      "Training Epoch 383: 100%|██████████| 378/378 [00:10<00:00, 35.27it/s]\n",
      "Training Epoch 384: 100%|██████████| 378/378 [00:10<00:00, 35.13it/s]\n",
      "Training Epoch 385: 100%|██████████| 378/378 [00:10<00:00, 35.09it/s]\n",
      "Training Epoch 386: 100%|██████████| 378/378 [00:10<00:00, 35.35it/s]\n",
      "Training Epoch 387: 100%|██████████| 378/378 [00:10<00:00, 35.17it/s]\n",
      "Training Epoch 388: 100%|██████████| 378/378 [00:10<00:00, 35.19it/s]\n",
      "Training Epoch 389: 100%|██████████| 378/378 [00:10<00:00, 35.02it/s]\n",
      "Training Epoch 390: 100%|██████████| 378/378 [00:10<00:00, 35.33it/s]\n",
      "Training Epoch 391: 100%|██████████| 378/378 [00:10<00:00, 35.09it/s]\n"
     ]
    },
    {
     "name": "stdout",
     "output_type": "stream",
     "text": [
      "Epoch 390 - Train Loss: 0.6305, Train MSE: 0.6304, Train MAE: 0.5675\n",
      "Epoch 390 - Validation Loss: 1.6709, Validation MSE: 1.6741, Validation MAE: 0.9262\n"
     ]
    },
    {
     "name": "stderr",
     "output_type": "stream",
     "text": [
      "Training Epoch 392: 100%|██████████| 378/378 [00:10<00:00, 35.27it/s]\n",
      "Training Epoch 393: 100%|██████████| 378/378 [00:10<00:00, 35.25it/s]\n",
      "Training Epoch 394: 100%|██████████| 378/378 [00:10<00:00, 35.31it/s]\n",
      "Training Epoch 395: 100%|██████████| 378/378 [00:10<00:00, 35.20it/s]\n",
      "Training Epoch 396: 100%|██████████| 378/378 [00:10<00:00, 35.26it/s]\n",
      "Training Epoch 397: 100%|██████████| 378/378 [00:10<00:00, 35.34it/s]\n",
      "Training Epoch 398: 100%|██████████| 378/378 [00:10<00:00, 35.05it/s]\n",
      "Training Epoch 399: 100%|██████████| 378/378 [00:10<00:00, 35.07it/s]\n",
      "Training Epoch 400: 100%|██████████| 378/378 [00:10<00:00, 35.14it/s]\n",
      "Training Epoch 401: 100%|██████████| 378/378 [00:10<00:00, 35.37it/s]\n"
     ]
    },
    {
     "name": "stdout",
     "output_type": "stream",
     "text": [
      "Epoch 400 - Train Loss: 0.6221, Train MSE: 0.6220, Train MAE: 0.5647\n",
      "Epoch 400 - Validation Loss: 1.6959, Validation MSE: 1.6992, Validation MAE: 0.9306\n"
     ]
    },
    {
     "name": "stderr",
     "output_type": "stream",
     "text": [
      "Training Epoch 402: 100%|██████████| 378/378 [00:10<00:00, 35.11it/s]\n",
      "Training Epoch 403: 100%|██████████| 378/378 [00:10<00:00, 35.17it/s]\n",
      "Training Epoch 404: 100%|██████████| 378/378 [00:10<00:00, 36.75it/s]\n",
      "Training Epoch 405: 100%|██████████| 378/378 [00:10<00:00, 36.87it/s]\n",
      "Training Epoch 406: 100%|██████████| 378/378 [00:10<00:00, 36.74it/s]\n",
      "Training Epoch 407: 100%|██████████| 378/378 [00:10<00:00, 36.64it/s]\n",
      "Training Epoch 408: 100%|██████████| 378/378 [00:10<00:00, 36.74it/s]\n",
      "Training Epoch 409: 100%|██████████| 378/378 [00:10<00:00, 36.61it/s]\n",
      "Training Epoch 410: 100%|██████████| 378/378 [00:10<00:00, 36.58it/s]\n",
      "Training Epoch 411: 100%|██████████| 378/378 [00:10<00:00, 36.86it/s]\n"
     ]
    },
    {
     "name": "stdout",
     "output_type": "stream",
     "text": [
      "Epoch 410 - Train Loss: 0.6107, Train MSE: 0.6105, Train MAE: 0.5606\n",
      "Epoch 410 - Validation Loss: 1.7157, Validation MSE: 1.7194, Validation MAE: 0.9330\n"
     ]
    },
    {
     "name": "stderr",
     "output_type": "stream",
     "text": [
      "Training Epoch 412: 100%|██████████| 378/378 [00:10<00:00, 36.63it/s]\n",
      "Training Epoch 413: 100%|██████████| 378/378 [00:10<00:00, 36.70it/s]\n",
      "Training Epoch 414: 100%|██████████| 378/378 [00:10<00:00, 36.72it/s]\n",
      "Training Epoch 415: 100%|██████████| 378/378 [00:10<00:00, 36.64it/s]\n",
      "Training Epoch 416: 100%|██████████| 378/378 [00:10<00:00, 36.83it/s]\n",
      "Training Epoch 417: 100%|██████████| 378/378 [00:10<00:00, 36.69it/s]\n",
      "Training Epoch 418: 100%|██████████| 378/378 [00:10<00:00, 36.64it/s]\n",
      "Training Epoch 419: 100%|██████████| 378/378 [00:10<00:00, 36.68it/s]\n",
      "Training Epoch 420: 100%|██████████| 378/378 [00:10<00:00, 36.59it/s]\n",
      "Training Epoch 421: 100%|██████████| 378/378 [00:10<00:00, 36.59it/s]\n"
     ]
    },
    {
     "name": "stdout",
     "output_type": "stream",
     "text": [
      "Epoch 420 - Train Loss: 0.6157, Train MSE: 0.6155, Train MAE: 0.5646\n",
      "Epoch 420 - Validation Loss: 1.7370, Validation MSE: 1.7401, Validation MAE: 0.9383\n"
     ]
    },
    {
     "name": "stderr",
     "output_type": "stream",
     "text": [
      "Training Epoch 422: 100%|██████████| 378/378 [00:10<00:00, 36.63it/s]\n",
      "Training Epoch 423: 100%|██████████| 378/378 [00:10<00:00, 36.76it/s]\n",
      "Training Epoch 424: 100%|██████████| 378/378 [00:10<00:00, 36.67it/s]\n",
      "Training Epoch 425: 100%|██████████| 378/378 [00:10<00:00, 36.72it/s]\n",
      "Training Epoch 426: 100%|██████████| 378/378 [00:10<00:00, 36.53it/s]\n",
      "Training Epoch 427: 100%|██████████| 378/378 [00:10<00:00, 36.63it/s]\n",
      "Training Epoch 428: 100%|██████████| 378/378 [00:10<00:00, 36.61it/s]\n",
      "Training Epoch 429: 100%|██████████| 378/378 [00:10<00:00, 36.73it/s]\n",
      "Training Epoch 430: 100%|██████████| 378/378 [00:10<00:00, 36.71it/s]\n",
      "Training Epoch 431: 100%|██████████| 378/378 [00:10<00:00, 36.60it/s]\n"
     ]
    },
    {
     "name": "stdout",
     "output_type": "stream",
     "text": [
      "Epoch 430 - Train Loss: 0.6126, Train MSE: 0.6123, Train MAE: 0.5601\n",
      "Epoch 430 - Validation Loss: 1.6860, Validation MSE: 1.6898, Validation MAE: 0.9226\n"
     ]
    },
    {
     "name": "stderr",
     "output_type": "stream",
     "text": [
      "Training Epoch 432: 100%|██████████| 378/378 [00:10<00:00, 36.61it/s]\n",
      "Training Epoch 433: 100%|██████████| 378/378 [00:10<00:00, 36.49it/s]\n",
      "Training Epoch 434: 100%|██████████| 378/378 [00:10<00:00, 36.73it/s]\n",
      "Training Epoch 435: 100%|██████████| 378/378 [00:10<00:00, 36.86it/s]\n",
      "Training Epoch 436: 100%|██████████| 378/378 [00:10<00:00, 36.66it/s]\n",
      "Training Epoch 437: 100%|██████████| 378/378 [00:10<00:00, 36.54it/s]\n",
      "Training Epoch 438: 100%|██████████| 378/378 [00:10<00:00, 36.65it/s]\n",
      "Training Epoch 439: 100%|██████████| 378/378 [00:10<00:00, 36.56it/s]\n",
      "Training Epoch 440: 100%|██████████| 378/378 [00:10<00:00, 36.58it/s]\n",
      "Training Epoch 441: 100%|██████████| 378/378 [00:10<00:00, 36.47it/s]\n"
     ]
    },
    {
     "name": "stdout",
     "output_type": "stream",
     "text": [
      "Epoch 440 - Train Loss: 0.6067, Train MSE: 0.6070, Train MAE: 0.5583\n",
      "Epoch 440 - Validation Loss: 1.6915, Validation MSE: 1.6959, Validation MAE: 0.9449\n"
     ]
    },
    {
     "name": "stderr",
     "output_type": "stream",
     "text": [
      "Training Epoch 442: 100%|██████████| 378/378 [00:10<00:00, 36.54it/s]\n",
      "Training Epoch 443: 100%|██████████| 378/378 [00:10<00:00, 36.50it/s]\n",
      "Training Epoch 444: 100%|██████████| 378/378 [00:10<00:00, 36.66it/s]\n",
      "Training Epoch 445: 100%|██████████| 378/378 [00:10<00:00, 36.59it/s]\n",
      "Training Epoch 446: 100%|██████████| 378/378 [00:10<00:00, 36.64it/s]\n",
      "Training Epoch 447: 100%|██████████| 378/378 [00:10<00:00, 36.63it/s]\n",
      "Training Epoch 448: 100%|██████████| 378/378 [00:10<00:00, 36.55it/s]\n",
      "Training Epoch 449: 100%|██████████| 378/378 [00:10<00:00, 36.60it/s]\n",
      "Training Epoch 450: 100%|██████████| 378/378 [00:10<00:00, 36.59it/s]\n",
      "Training Epoch 451: 100%|██████████| 378/378 [00:10<00:00, 36.56it/s]\n"
     ]
    },
    {
     "name": "stdout",
     "output_type": "stream",
     "text": [
      "Epoch 450 - Train Loss: 0.5998, Train MSE: 0.5993, Train MAE: 0.5546\n",
      "Epoch 450 - Validation Loss: 1.7559, Validation MSE: 1.7590, Validation MAE: 0.9620\n"
     ]
    },
    {
     "name": "stderr",
     "output_type": "stream",
     "text": [
      "Training Epoch 452: 100%|██████████| 378/378 [00:10<00:00, 36.53it/s]\n",
      "Training Epoch 453: 100%|██████████| 378/378 [00:10<00:00, 36.60it/s]\n",
      "Training Epoch 454: 100%|██████████| 378/378 [00:10<00:00, 36.82it/s]\n",
      "Training Epoch 455: 100%|██████████| 378/378 [00:10<00:00, 36.74it/s]\n",
      "Training Epoch 456: 100%|██████████| 378/378 [00:10<00:00, 36.58it/s]\n",
      "Training Epoch 457: 100%|██████████| 378/378 [00:10<00:00, 36.56it/s]\n",
      "Training Epoch 458: 100%|██████████| 378/378 [00:10<00:00, 36.58it/s]\n",
      "Training Epoch 459: 100%|██████████| 378/378 [00:10<00:00, 36.65it/s]\n",
      "Training Epoch 460: 100%|██████████| 378/378 [00:10<00:00, 36.61it/s]\n",
      "Training Epoch 461: 100%|██████████| 378/378 [00:10<00:00, 36.56it/s]\n"
     ]
    },
    {
     "name": "stdout",
     "output_type": "stream",
     "text": [
      "Epoch 460 - Train Loss: 0.5956, Train MSE: 0.5959, Train MAE: 0.5559\n",
      "Epoch 460 - Validation Loss: 1.7213, Validation MSE: 1.7250, Validation MAE: 0.9404\n"
     ]
    },
    {
     "name": "stderr",
     "output_type": "stream",
     "text": [
      "Training Epoch 462: 100%|██████████| 378/378 [00:10<00:00, 36.55it/s]\n",
      "Training Epoch 463: 100%|██████████| 378/378 [00:10<00:00, 36.56it/s]\n",
      "Training Epoch 464: 100%|██████████| 378/378 [00:10<00:00, 36.39it/s]\n",
      "Training Epoch 465: 100%|██████████| 378/378 [00:10<00:00, 36.41it/s]\n",
      "Training Epoch 466: 100%|██████████| 378/378 [00:10<00:00, 36.45it/s]\n",
      "Training Epoch 467: 100%|██████████| 378/378 [00:10<00:00, 36.61it/s]\n",
      "Training Epoch 468: 100%|██████████| 378/378 [00:10<00:00, 36.52it/s]\n",
      "Training Epoch 469: 100%|██████████| 378/378 [00:10<00:00, 36.46it/s]\n",
      "Training Epoch 470: 100%|██████████| 378/378 [00:10<00:00, 36.78it/s]\n",
      "Training Epoch 471: 100%|██████████| 378/378 [00:10<00:00, 36.50it/s]\n"
     ]
    },
    {
     "name": "stdout",
     "output_type": "stream",
     "text": [
      "Epoch 470 - Train Loss: 0.5902, Train MSE: 0.5904, Train MAE: 0.5504\n",
      "Epoch 470 - Validation Loss: 1.7058, Validation MSE: 1.7092, Validation MAE: 0.9240\n"
     ]
    },
    {
     "name": "stderr",
     "output_type": "stream",
     "text": [
      "Training Epoch 472: 100%|██████████| 378/378 [00:10<00:00, 36.59it/s]\n",
      "Training Epoch 473: 100%|██████████| 378/378 [00:10<00:00, 36.54it/s]\n",
      "Training Epoch 474: 100%|██████████| 378/378 [00:10<00:00, 36.44it/s]\n",
      "Training Epoch 475: 100%|██████████| 378/378 [00:10<00:00, 36.46it/s]\n",
      "Training Epoch 476: 100%|██████████| 378/378 [00:10<00:00, 36.49it/s]\n",
      "Training Epoch 477: 100%|██████████| 378/378 [00:10<00:00, 36.66it/s]\n",
      "Training Epoch 478: 100%|██████████| 378/378 [00:10<00:00, 36.23it/s]\n",
      "Training Epoch 479: 100%|██████████| 378/378 [00:10<00:00, 36.54it/s]\n",
      "Training Epoch 480: 100%|██████████| 378/378 [00:10<00:00, 36.82it/s]\n",
      "Training Epoch 481: 100%|██████████| 378/378 [00:10<00:00, 36.73it/s]\n"
     ]
    },
    {
     "name": "stdout",
     "output_type": "stream",
     "text": [
      "Epoch 480 - Train Loss: 0.5961, Train MSE: 0.5963, Train MAE: 0.5523\n",
      "Epoch 480 - Validation Loss: 1.7270, Validation MSE: 1.7312, Validation MAE: 0.9366\n"
     ]
    },
    {
     "name": "stderr",
     "output_type": "stream",
     "text": [
      "Training Epoch 482: 100%|██████████| 378/378 [00:10<00:00, 36.76it/s]\n",
      "Training Epoch 483: 100%|██████████| 378/378 [00:10<00:00, 36.79it/s]\n",
      "Training Epoch 484: 100%|██████████| 378/378 [00:10<00:00, 36.88it/s]\n",
      "Training Epoch 485: 100%|██████████| 378/378 [00:10<00:00, 37.18it/s]\n",
      "Training Epoch 486: 100%|██████████| 378/378 [00:10<00:00, 37.22it/s]\n",
      "Training Epoch 487: 100%|██████████| 378/378 [00:10<00:00, 37.15it/s]\n",
      "Training Epoch 488: 100%|██████████| 378/378 [00:10<00:00, 37.28it/s]\n",
      "Training Epoch 489: 100%|██████████| 378/378 [00:10<00:00, 37.27it/s]\n",
      "Training Epoch 490: 100%|██████████| 378/378 [00:10<00:00, 37.25it/s]\n",
      "Training Epoch 491: 100%|██████████| 378/378 [00:10<00:00, 37.12it/s]\n"
     ]
    },
    {
     "name": "stdout",
     "output_type": "stream",
     "text": [
      "Epoch 490 - Train Loss: 0.5914, Train MSE: 0.5916, Train MAE: 0.5476\n",
      "Epoch 490 - Validation Loss: 1.7056, Validation MSE: 1.7091, Validation MAE: 0.9458\n"
     ]
    },
    {
     "name": "stderr",
     "output_type": "stream",
     "text": [
      "Training Epoch 492: 100%|██████████| 378/378 [00:10<00:00, 37.30it/s]\n",
      "Training Epoch 493: 100%|██████████| 378/378 [00:10<00:00, 37.20it/s]\n",
      "Training Epoch 494: 100%|██████████| 378/378 [00:10<00:00, 37.16it/s]\n",
      "Training Epoch 495: 100%|██████████| 378/378 [00:10<00:00, 37.23it/s]\n",
      "Training Epoch 496: 100%|██████████| 378/378 [00:10<00:00, 37.29it/s]\n",
      "Training Epoch 497: 100%|██████████| 378/378 [00:10<00:00, 37.13it/s]\n",
      "Training Epoch 498: 100%|██████████| 378/378 [00:10<00:00, 37.23it/s]\n",
      "Training Epoch 499: 100%|██████████| 378/378 [00:10<00:00, 37.20it/s]\n",
      "Training Epoch 500: 100%|██████████| 378/378 [00:10<00:00, 37.06it/s]\n",
      "Training Epoch 501: 100%|██████████| 378/378 [00:10<00:00, 37.12it/s]\n"
     ]
    },
    {
     "name": "stdout",
     "output_type": "stream",
     "text": [
      "Epoch 500 - Train Loss: 0.5932, Train MSE: 0.5929, Train MAE: 0.5537\n",
      "Epoch 500 - Validation Loss: 1.7132, Validation MSE: 1.7161, Validation MAE: 0.9369\n"
     ]
    },
    {
     "name": "stderr",
     "output_type": "stream",
     "text": [
      "Training Epoch 502: 100%|██████████| 378/378 [00:10<00:00, 37.07it/s]\n",
      "Training Epoch 503: 100%|██████████| 378/378 [00:10<00:00, 37.00it/s]\n",
      "Training Epoch 504: 100%|██████████| 378/378 [00:10<00:00, 37.29it/s]\n",
      "Training Epoch 505: 100%|██████████| 378/378 [00:10<00:00, 37.23it/s]\n",
      "Training Epoch 506: 100%|██████████| 378/378 [00:10<00:00, 37.23it/s]\n",
      "Training Epoch 507: 100%|██████████| 378/378 [00:10<00:00, 37.03it/s]\n",
      "Training Epoch 508: 100%|██████████| 378/378 [00:10<00:00, 37.22it/s]\n",
      "Training Epoch 509: 100%|██████████| 378/378 [00:10<00:00, 37.26it/s]\n",
      "Training Epoch 510: 100%|██████████| 378/378 [00:10<00:00, 37.18it/s]\n",
      "Training Epoch 511: 100%|██████████| 378/378 [00:10<00:00, 37.09it/s]\n"
     ]
    },
    {
     "name": "stdout",
     "output_type": "stream",
     "text": [
      "Epoch 510 - Train Loss: 0.5917, Train MSE: 0.5911, Train MAE: 0.5470\n",
      "Epoch 510 - Validation Loss: 1.6749, Validation MSE: 1.6782, Validation MAE: 0.9258\n"
     ]
    },
    {
     "name": "stderr",
     "output_type": "stream",
     "text": [
      "Training Epoch 512: 100%|██████████| 378/378 [00:10<00:00, 37.35it/s]\n",
      "Training Epoch 513: 100%|██████████| 378/378 [00:10<00:00, 36.95it/s]\n",
      "Training Epoch 514: 100%|██████████| 378/378 [00:10<00:00, 37.20it/s]\n",
      "Training Epoch 515: 100%|██████████| 378/378 [00:10<00:00, 37.19it/s]\n",
      "Training Epoch 516: 100%|██████████| 378/378 [00:10<00:00, 37.27it/s]\n",
      "Training Epoch 517: 100%|██████████| 378/378 [00:10<00:00, 37.15it/s]\n",
      "Training Epoch 518: 100%|██████████| 378/378 [00:10<00:00, 37.06it/s]\n",
      "Training Epoch 519: 100%|██████████| 378/378 [00:10<00:00, 37.11it/s]\n",
      "Training Epoch 520: 100%|██████████| 378/378 [00:10<00:00, 37.06it/s]\n",
      "Training Epoch 521: 100%|██████████| 378/378 [00:10<00:00, 37.23it/s]\n"
     ]
    },
    {
     "name": "stdout",
     "output_type": "stream",
     "text": [
      "Epoch 520 - Train Loss: 0.5873, Train MSE: 0.5875, Train MAE: 0.5455\n",
      "Epoch 520 - Validation Loss: 1.6713, Validation MSE: 1.6750, Validation MAE: 0.9297\n"
     ]
    },
    {
     "name": "stderr",
     "output_type": "stream",
     "text": [
      "Training Epoch 522: 100%|██████████| 378/378 [00:10<00:00, 37.17it/s]\n",
      "Training Epoch 523: 100%|██████████| 378/378 [00:10<00:00, 37.12it/s]\n",
      "Training Epoch 524: 100%|██████████| 378/378 [00:10<00:00, 37.06it/s]\n",
      "Training Epoch 525: 100%|██████████| 378/378 [00:10<00:00, 37.14it/s]\n",
      "Training Epoch 526: 100%|██████████| 378/378 [00:10<00:00, 37.03it/s]\n",
      "Training Epoch 527: 100%|██████████| 378/378 [00:10<00:00, 37.04it/s]\n",
      "Training Epoch 528: 100%|██████████| 378/378 [00:10<00:00, 37.14it/s]\n",
      "Training Epoch 529: 100%|██████████| 378/378 [00:10<00:00, 37.04it/s]\n",
      "Training Epoch 530: 100%|██████████| 378/378 [00:10<00:00, 37.06it/s]\n",
      "Training Epoch 531: 100%|██████████| 378/378 [00:10<00:00, 37.19it/s]\n"
     ]
    },
    {
     "name": "stdout",
     "output_type": "stream",
     "text": [
      "Epoch 530 - Train Loss: 0.5926, Train MSE: 0.5924, Train MAE: 0.5483\n",
      "Epoch 530 - Validation Loss: 1.7149, Validation MSE: 1.7187, Validation MAE: 0.9410\n"
     ]
    },
    {
     "name": "stderr",
     "output_type": "stream",
     "text": [
      "Training Epoch 532: 100%|██████████| 378/378 [00:10<00:00, 37.17it/s]\n",
      "Training Epoch 533: 100%|██████████| 378/378 [00:10<00:00, 36.98it/s]\n",
      "Training Epoch 534: 100%|██████████| 378/378 [00:10<00:00, 36.83it/s]\n",
      "Training Epoch 535: 100%|██████████| 378/378 [00:10<00:00, 37.03it/s]\n",
      "Training Epoch 536: 100%|██████████| 378/378 [00:10<00:00, 36.99it/s]\n",
      "Training Epoch 537: 100%|██████████| 378/378 [00:10<00:00, 37.16it/s]\n",
      "Training Epoch 538: 100%|██████████| 378/378 [00:10<00:00, 37.13it/s]\n",
      "Training Epoch 539: 100%|██████████| 378/378 [00:10<00:00, 36.97it/s]\n",
      "Training Epoch 540: 100%|██████████| 378/378 [00:10<00:00, 37.08it/s]\n",
      "Training Epoch 541: 100%|██████████| 378/378 [00:10<00:00, 37.04it/s]\n"
     ]
    },
    {
     "name": "stdout",
     "output_type": "stream",
     "text": [
      "Epoch 540 - Train Loss: 0.5837, Train MSE: 0.5839, Train MAE: 0.5440\n",
      "Epoch 540 - Validation Loss: 1.7053, Validation MSE: 1.7086, Validation MAE: 0.9217\n"
     ]
    },
    {
     "name": "stderr",
     "output_type": "stream",
     "text": [
      "Training Epoch 542: 100%|██████████| 378/378 [00:10<00:00, 37.12it/s]\n",
      "Training Epoch 543: 100%|██████████| 378/378 [00:10<00:00, 37.17it/s]\n",
      "Training Epoch 544: 100%|██████████| 378/378 [00:10<00:00, 37.14it/s]\n",
      "Training Epoch 545: 100%|██████████| 378/378 [00:10<00:00, 37.04it/s]\n",
      "Training Epoch 546: 100%|██████████| 378/378 [00:10<00:00, 37.04it/s]\n",
      "Training Epoch 547: 100%|██████████| 378/378 [00:10<00:00, 37.17it/s]\n",
      "Training Epoch 548: 100%|██████████| 378/378 [00:10<00:00, 37.06it/s]\n",
      "Training Epoch 549: 100%|██████████| 378/378 [00:10<00:00, 37.03it/s]\n",
      "Training Epoch 550: 100%|██████████| 378/378 [00:10<00:00, 36.99it/s]\n",
      "Training Epoch 551: 100%|██████████| 378/378 [00:10<00:00, 37.00it/s]\n"
     ]
    },
    {
     "name": "stdout",
     "output_type": "stream",
     "text": [
      "Epoch 550 - Train Loss: 0.5740, Train MSE: 0.5741, Train MAE: 0.5394\n",
      "Epoch 550 - Validation Loss: 1.6889, Validation MSE: 1.6925, Validation MAE: 0.9275\n"
     ]
    },
    {
     "name": "stderr",
     "output_type": "stream",
     "text": [
      "Training Epoch 552: 100%|██████████| 378/378 [00:10<00:00, 36.98it/s]\n",
      "Training Epoch 553: 100%|██████████| 378/378 [00:10<00:00, 37.01it/s]\n",
      "Training Epoch 554: 100%|██████████| 378/378 [00:10<00:00, 37.11it/s]\n",
      "Training Epoch 555: 100%|██████████| 378/378 [00:10<00:00, 36.86it/s]\n",
      "Training Epoch 556: 100%|██████████| 378/378 [00:10<00:00, 37.13it/s]\n",
      "Training Epoch 557: 100%|██████████| 378/378 [00:10<00:00, 37.22it/s]\n",
      "Training Epoch 558: 100%|██████████| 378/378 [00:10<00:00, 36.83it/s]\n",
      "Training Epoch 559: 100%|██████████| 378/378 [00:10<00:00, 36.95it/s]\n",
      "Training Epoch 560: 100%|██████████| 378/378 [00:10<00:00, 36.84it/s]\n",
      "Training Epoch 561: 100%|██████████| 378/378 [00:10<00:00, 36.82it/s]\n"
     ]
    },
    {
     "name": "stdout",
     "output_type": "stream",
     "text": [
      "Epoch 560 - Train Loss: 0.5802, Train MSE: 0.5804, Train MAE: 0.5412\n",
      "Epoch 560 - Validation Loss: 1.6626, Validation MSE: 1.6660, Validation MAE: 0.9204\n"
     ]
    },
    {
     "name": "stderr",
     "output_type": "stream",
     "text": [
      "Training Epoch 562: 100%|██████████| 378/378 [00:10<00:00, 36.94it/s]\n",
      "Training Epoch 563: 100%|██████████| 378/378 [00:10<00:00, 36.99it/s]\n",
      "Training Epoch 564: 100%|██████████| 378/378 [00:10<00:00, 36.92it/s]\n",
      "Training Epoch 565: 100%|██████████| 378/378 [00:10<00:00, 36.88it/s]\n",
      "Training Epoch 566: 100%|██████████| 378/378 [00:10<00:00, 37.07it/s]\n",
      "Training Epoch 567: 100%|██████████| 378/378 [00:10<00:00, 36.83it/s]\n",
      "Training Epoch 568: 100%|██████████| 378/378 [00:10<00:00, 37.14it/s]\n",
      "Training Epoch 569: 100%|██████████| 378/378 [00:10<00:00, 36.97it/s]\n",
      "Training Epoch 570: 100%|██████████| 378/378 [00:10<00:00, 36.88it/s]\n",
      "Training Epoch 571: 100%|██████████| 378/378 [00:10<00:00, 36.76it/s]\n"
     ]
    },
    {
     "name": "stdout",
     "output_type": "stream",
     "text": [
      "Epoch 570 - Train Loss: 0.5759, Train MSE: 0.5756, Train MAE: 0.5399\n",
      "Epoch 570 - Validation Loss: 1.7186, Validation MSE: 1.7220, Validation MAE: 0.9331\n"
     ]
    },
    {
     "name": "stderr",
     "output_type": "stream",
     "text": [
      "Training Epoch 572: 100%|██████████| 378/378 [00:10<00:00, 36.98it/s]\n",
      "Training Epoch 573: 100%|██████████| 378/378 [00:10<00:00, 37.19it/s]\n",
      "Training Epoch 574: 100%|██████████| 378/378 [00:10<00:00, 36.98it/s]\n",
      "Training Epoch 575: 100%|██████████| 378/378 [00:10<00:00, 37.13it/s]\n",
      "Training Epoch 576: 100%|██████████| 378/378 [00:10<00:00, 36.89it/s]\n",
      "Training Epoch 577: 100%|██████████| 378/378 [00:10<00:00, 36.78it/s]\n",
      "Training Epoch 578: 100%|██████████| 378/378 [00:10<00:00, 36.77it/s]\n",
      "Training Epoch 579: 100%|██████████| 378/378 [00:10<00:00, 36.91it/s]\n",
      "Training Epoch 580: 100%|██████████| 378/378 [00:10<00:00, 36.98it/s]\n",
      "Training Epoch 581: 100%|██████████| 378/378 [00:10<00:00, 36.92it/s]\n"
     ]
    },
    {
     "name": "stdout",
     "output_type": "stream",
     "text": [
      "Epoch 580 - Train Loss: 0.5812, Train MSE: 0.5809, Train MAE: 0.5421\n",
      "Epoch 580 - Validation Loss: 1.6678, Validation MSE: 1.6706, Validation MAE: 0.9214\n"
     ]
    },
    {
     "name": "stderr",
     "output_type": "stream",
     "text": [
      "Training Epoch 582: 100%|██████████| 378/378 [00:10<00:00, 36.80it/s]\n",
      "Training Epoch 583: 100%|██████████| 378/378 [00:10<00:00, 36.86it/s]\n",
      "Training Epoch 584: 100%|██████████| 378/378 [00:10<00:00, 37.01it/s]\n",
      "Training Epoch 585: 100%|██████████| 378/378 [00:10<00:00, 36.87it/s]\n",
      "Training Epoch 586: 100%|██████████| 378/378 [00:10<00:00, 36.97it/s]\n",
      "Training Epoch 587: 100%|██████████| 378/378 [00:10<00:00, 36.83it/s]\n",
      "Training Epoch 588: 100%|██████████| 378/378 [00:10<00:00, 36.91it/s]\n",
      "Training Epoch 589: 100%|██████████| 378/378 [00:10<00:00, 36.85it/s]\n",
      "Training Epoch 590: 100%|██████████| 378/378 [00:10<00:00, 36.86it/s]\n",
      "Training Epoch 591: 100%|██████████| 378/378 [00:10<00:00, 37.00it/s]\n"
     ]
    },
    {
     "name": "stdout",
     "output_type": "stream",
     "text": [
      "Epoch 590 - Train Loss: 0.5763, Train MSE: 0.5767, Train MAE: 0.5387\n",
      "Epoch 590 - Validation Loss: 1.7274, Validation MSE: 1.7310, Validation MAE: 0.9423\n"
     ]
    },
    {
     "name": "stderr",
     "output_type": "stream",
     "text": [
      "Training Epoch 592: 100%|██████████| 378/378 [00:10<00:00, 37.06it/s]\n",
      "Training Epoch 593: 100%|██████████| 378/378 [00:10<00:00, 36.87it/s]\n",
      "Training Epoch 594: 100%|██████████| 378/378 [00:10<00:00, 36.77it/s]\n",
      "Training Epoch 595: 100%|██████████| 378/378 [00:10<00:00, 37.00it/s]\n",
      "Training Epoch 596: 100%|██████████| 378/378 [00:10<00:00, 37.46it/s]\n",
      "Training Epoch 597: 100%|██████████| 378/378 [00:10<00:00, 37.33it/s]\n",
      "Training Epoch 598: 100%|██████████| 378/378 [00:10<00:00, 36.85it/s]\n",
      "Training Epoch 599: 100%|██████████| 378/378 [00:10<00:00, 37.39it/s]\n",
      "Training Epoch 600: 100%|██████████| 378/378 [00:10<00:00, 36.86it/s]\n",
      "Training Epoch 601: 100%|██████████| 378/378 [00:10<00:00, 37.19it/s]\n"
     ]
    },
    {
     "name": "stdout",
     "output_type": "stream",
     "text": [
      "Epoch 600 - Train Loss: 0.5673, Train MSE: 0.5675, Train MAE: 0.5367\n",
      "Epoch 600 - Validation Loss: 1.7057, Validation MSE: 1.7091, Validation MAE: 0.9299\n"
     ]
    },
    {
     "name": "stderr",
     "output_type": "stream",
     "text": [
      "Training Epoch 602: 100%|██████████| 378/378 [00:10<00:00, 37.23it/s]\n",
      "Training Epoch 603: 100%|██████████| 378/378 [00:10<00:00, 37.25it/s]\n",
      "Training Epoch 604: 100%|██████████| 378/378 [00:10<00:00, 37.13it/s]\n",
      "Training Epoch 605: 100%|██████████| 378/378 [00:10<00:00, 37.29it/s]\n",
      "Training Epoch 606: 100%|██████████| 378/378 [00:10<00:00, 37.07it/s]\n",
      "Training Epoch 607: 100%|██████████| 378/378 [00:10<00:00, 36.91it/s]\n",
      "Training Epoch 608: 100%|██████████| 378/378 [00:10<00:00, 37.08it/s]\n",
      "Training Epoch 609: 100%|██████████| 378/378 [00:10<00:00, 36.98it/s]\n",
      "Training Epoch 610: 100%|██████████| 378/378 [00:10<00:00, 37.04it/s]\n",
      "Training Epoch 611: 100%|██████████| 378/378 [00:10<00:00, 36.90it/s]\n"
     ]
    },
    {
     "name": "stdout",
     "output_type": "stream",
     "text": [
      "Epoch 610 - Train Loss: 0.5730, Train MSE: 0.5732, Train MAE: 0.5383\n",
      "Epoch 610 - Validation Loss: 1.7128, Validation MSE: 1.7164, Validation MAE: 0.9434\n"
     ]
    },
    {
     "name": "stderr",
     "output_type": "stream",
     "text": [
      "Training Epoch 612: 100%|██████████| 378/378 [00:10<00:00, 37.12it/s]\n",
      "Training Epoch 613: 100%|██████████| 378/378 [00:10<00:00, 37.16it/s]\n",
      "Training Epoch 614: 100%|██████████| 378/378 [00:10<00:00, 36.91it/s]\n",
      "Training Epoch 615: 100%|██████████| 378/378 [00:10<00:00, 36.96it/s]\n",
      "Training Epoch 616: 100%|██████████| 378/378 [00:10<00:00, 37.16it/s]\n",
      "Training Epoch 617: 100%|██████████| 378/378 [00:10<00:00, 37.16it/s]\n",
      "Training Epoch 618: 100%|██████████| 378/378 [00:10<00:00, 37.38it/s]\n",
      "Training Epoch 619: 100%|██████████| 378/378 [00:10<00:00, 37.41it/s]\n",
      "Training Epoch 620: 100%|██████████| 378/378 [00:10<00:00, 37.50it/s]\n",
      "Training Epoch 621: 100%|██████████| 378/378 [00:10<00:00, 37.38it/s]\n"
     ]
    },
    {
     "name": "stdout",
     "output_type": "stream",
     "text": [
      "Epoch 620 - Train Loss: 0.5655, Train MSE: 0.5655, Train MAE: 0.5343\n",
      "Epoch 620 - Validation Loss: 1.6670, Validation MSE: 1.6704, Validation MAE: 0.9177\n"
     ]
    },
    {
     "name": "stderr",
     "output_type": "stream",
     "text": [
      "Training Epoch 622: 100%|██████████| 378/378 [00:10<00:00, 37.37it/s]\n",
      "Training Epoch 623: 100%|██████████| 378/378 [00:10<00:00, 37.37it/s]\n",
      "Training Epoch 624: 100%|██████████| 378/378 [00:10<00:00, 37.56it/s]\n",
      "Training Epoch 625: 100%|██████████| 378/378 [00:10<00:00, 37.37it/s]\n",
      "Training Epoch 626: 100%|██████████| 378/378 [00:10<00:00, 37.41it/s]\n",
      "Training Epoch 627: 100%|██████████| 378/378 [00:10<00:00, 37.12it/s]\n",
      "Training Epoch 628: 100%|██████████| 378/378 [00:10<00:00, 37.14it/s]\n",
      "Training Epoch 629: 100%|██████████| 378/378 [00:10<00:00, 37.08it/s]\n",
      "Training Epoch 630: 100%|██████████| 378/378 [00:10<00:00, 37.21it/s]\n",
      "Training Epoch 631: 100%|██████████| 378/378 [00:10<00:00, 37.24it/s]\n"
     ]
    },
    {
     "name": "stdout",
     "output_type": "stream",
     "text": [
      "Epoch 630 - Train Loss: 0.5699, Train MSE: 0.5691, Train MAE: 0.5331\n",
      "Epoch 630 - Validation Loss: 1.6888, Validation MSE: 1.6912, Validation MAE: 0.9284\n"
     ]
    },
    {
     "name": "stderr",
     "output_type": "stream",
     "text": [
      "Training Epoch 632: 100%|██████████| 378/378 [00:10<00:00, 37.08it/s]\n",
      "Training Epoch 633: 100%|██████████| 378/378 [00:10<00:00, 37.15it/s]\n",
      "Training Epoch 634: 100%|██████████| 378/378 [00:10<00:00, 37.37it/s]\n",
      "Training Epoch 635: 100%|██████████| 378/378 [00:10<00:00, 37.39it/s]\n",
      "Training Epoch 636: 100%|██████████| 378/378 [00:10<00:00, 37.41it/s]\n",
      "Training Epoch 637: 100%|██████████| 378/378 [00:10<00:00, 37.37it/s]\n",
      "Training Epoch 638: 100%|██████████| 378/378 [00:10<00:00, 37.15it/s]\n",
      "Training Epoch 639: 100%|██████████| 378/378 [00:10<00:00, 37.10it/s]\n",
      "Training Epoch 640: 100%|██████████| 378/378 [00:10<00:00, 37.29it/s]\n",
      "Training Epoch 641: 100%|██████████| 378/378 [00:10<00:00, 37.19it/s]\n"
     ]
    },
    {
     "name": "stdout",
     "output_type": "stream",
     "text": [
      "Epoch 640 - Train Loss: 0.5656, Train MSE: 0.5659, Train MAE: 0.5347\n",
      "Epoch 640 - Validation Loss: 1.6711, Validation MSE: 1.6746, Validation MAE: 0.9249\n"
     ]
    },
    {
     "name": "stderr",
     "output_type": "stream",
     "text": [
      "Training Epoch 642: 100%|██████████| 378/378 [00:10<00:00, 37.17it/s]\n",
      "Training Epoch 643: 100%|██████████| 378/378 [00:10<00:00, 37.18it/s]\n",
      "Training Epoch 644: 100%|██████████| 378/378 [00:10<00:00, 37.22it/s]\n",
      "Training Epoch 645: 100%|██████████| 378/378 [00:10<00:00, 37.08it/s]\n",
      "Training Epoch 646: 100%|██████████| 378/378 [00:10<00:00, 37.23it/s]\n",
      "Training Epoch 647: 100%|██████████| 378/378 [00:10<00:00, 37.25it/s]\n",
      "Training Epoch 648: 100%|██████████| 378/378 [00:10<00:00, 37.33it/s]\n",
      "Training Epoch 649: 100%|██████████| 378/378 [00:10<00:00, 37.27it/s]\n",
      "Training Epoch 650: 100%|██████████| 378/378 [00:10<00:00, 37.47it/s]\n",
      "Training Epoch 651: 100%|██████████| 378/378 [00:10<00:00, 37.32it/s]\n"
     ]
    },
    {
     "name": "stdout",
     "output_type": "stream",
     "text": [
      "Epoch 650 - Train Loss: 0.5756, Train MSE: 0.5732, Train MAE: 0.5387\n",
      "Epoch 650 - Validation Loss: 1.6633, Validation MSE: 1.6667, Validation MAE: 0.9308\n"
     ]
    },
    {
     "name": "stderr",
     "output_type": "stream",
     "text": [
      "Training Epoch 652: 100%|██████████| 378/378 [00:10<00:00, 37.27it/s]\n",
      "Training Epoch 653: 100%|██████████| 378/378 [00:10<00:00, 37.21it/s]\n",
      "Training Epoch 654: 100%|██████████| 378/378 [00:10<00:00, 37.26it/s]\n",
      "Training Epoch 655: 100%|██████████| 378/378 [00:10<00:00, 37.28it/s]\n",
      "Training Epoch 656: 100%|██████████| 378/378 [00:10<00:00, 37.36it/s]\n",
      "Training Epoch 657: 100%|██████████| 378/378 [00:10<00:00, 37.36it/s]\n",
      "Training Epoch 658: 100%|██████████| 378/378 [00:10<00:00, 37.28it/s]\n",
      "Training Epoch 659: 100%|██████████| 378/378 [00:10<00:00, 37.32it/s]\n",
      "Training Epoch 660: 100%|██████████| 378/378 [00:10<00:00, 37.28it/s]\n",
      "Training Epoch 661: 100%|██████████| 378/378 [00:10<00:00, 37.19it/s]\n"
     ]
    },
    {
     "name": "stdout",
     "output_type": "stream",
     "text": [
      "Epoch 660 - Train Loss: 0.5642, Train MSE: 0.5639, Train MAE: 0.5318\n",
      "Epoch 660 - Validation Loss: 1.6467, Validation MSE: 1.6494, Validation MAE: 0.9158\n"
     ]
    },
    {
     "name": "stderr",
     "output_type": "stream",
     "text": [
      "Training Epoch 662: 100%|██████████| 378/378 [00:10<00:00, 37.43it/s]\n",
      "Training Epoch 663: 100%|██████████| 378/378 [00:10<00:00, 37.24it/s]\n",
      "Training Epoch 664: 100%|██████████| 378/378 [00:10<00:00, 37.20it/s]\n",
      "Training Epoch 665: 100%|██████████| 378/378 [00:10<00:00, 37.15it/s]\n",
      "Training Epoch 666: 100%|██████████| 378/378 [00:10<00:00, 37.19it/s]\n",
      "Training Epoch 667: 100%|██████████| 378/378 [00:10<00:00, 37.26it/s]\n",
      "Training Epoch 668: 100%|██████████| 378/378 [00:10<00:00, 37.26it/s]\n",
      "Training Epoch 669: 100%|██████████| 378/378 [00:10<00:00, 37.33it/s]\n",
      "Training Epoch 670: 100%|██████████| 378/378 [00:10<00:00, 37.25it/s]\n",
      "Training Epoch 671: 100%|██████████| 378/378 [00:10<00:00, 37.14it/s]\n"
     ]
    },
    {
     "name": "stdout",
     "output_type": "stream",
     "text": [
      "Epoch 670 - Train Loss: 0.5663, Train MSE: 0.5662, Train MAE: 0.5322\n",
      "Epoch 670 - Validation Loss: 1.6786, Validation MSE: 1.6817, Validation MAE: 0.9220\n"
     ]
    },
    {
     "name": "stderr",
     "output_type": "stream",
     "text": [
      "Training Epoch 672: 100%|██████████| 378/378 [00:10<00:00, 37.27it/s]\n",
      "Training Epoch 673: 100%|██████████| 378/378 [00:10<00:00, 37.22it/s]\n",
      "Training Epoch 674: 100%|██████████| 378/378 [00:10<00:00, 37.23it/s]\n",
      "Training Epoch 675: 100%|██████████| 378/378 [00:10<00:00, 37.41it/s]\n",
      "Training Epoch 676: 100%|██████████| 378/378 [00:10<00:00, 37.27it/s]\n",
      "Training Epoch 677: 100%|██████████| 378/378 [00:10<00:00, 37.25it/s]\n",
      "Training Epoch 678: 100%|██████████| 378/378 [00:10<00:00, 37.38it/s]\n",
      "Training Epoch 679: 100%|██████████| 378/378 [00:10<00:00, 37.36it/s]\n",
      "Training Epoch 680: 100%|██████████| 378/378 [00:10<00:00, 37.24it/s]\n",
      "Training Epoch 681: 100%|██████████| 378/378 [00:10<00:00, 37.30it/s]\n"
     ]
    },
    {
     "name": "stdout",
     "output_type": "stream",
     "text": [
      "Epoch 680 - Train Loss: 0.5689, Train MSE: 0.5688, Train MAE: 0.5356\n",
      "Epoch 680 - Validation Loss: 1.6741, Validation MSE: 1.6771, Validation MAE: 0.9311\n"
     ]
    },
    {
     "name": "stderr",
     "output_type": "stream",
     "text": [
      "Training Epoch 682: 100%|██████████| 378/378 [00:10<00:00, 37.22it/s]\n",
      "Training Epoch 683: 100%|██████████| 378/378 [00:10<00:00, 37.21it/s]\n",
      "Training Epoch 684: 100%|██████████| 378/378 [00:10<00:00, 37.30it/s]\n",
      "Training Epoch 685: 100%|██████████| 378/378 [00:10<00:00, 37.23it/s]\n",
      "Training Epoch 686: 100%|██████████| 378/378 [00:10<00:00, 37.19it/s]\n",
      "Training Epoch 687: 100%|██████████| 378/378 [00:10<00:00, 37.01it/s]\n",
      "Training Epoch 688: 100%|██████████| 378/378 [00:10<00:00, 37.24it/s]\n",
      "Training Epoch 689: 100%|██████████| 378/378 [00:10<00:00, 37.19it/s]\n",
      "Training Epoch 690: 100%|██████████| 378/378 [00:10<00:00, 37.02it/s]\n",
      "Training Epoch 691: 100%|██████████| 378/378 [00:10<00:00, 37.05it/s]\n"
     ]
    },
    {
     "name": "stdout",
     "output_type": "stream",
     "text": [
      "Epoch 690 - Train Loss: 0.5620, Train MSE: 0.5619, Train MAE: 0.5307\n",
      "Epoch 690 - Validation Loss: 1.7240, Validation MSE: 1.7277, Validation MAE: 0.9282\n"
     ]
    },
    {
     "name": "stderr",
     "output_type": "stream",
     "text": [
      "Training Epoch 692: 100%|██████████| 378/378 [00:10<00:00, 37.13it/s]\n",
      "Training Epoch 693: 100%|██████████| 378/378 [00:10<00:00, 36.98it/s]\n",
      "Training Epoch 694: 100%|██████████| 378/378 [00:10<00:00, 37.20it/s]\n",
      "Training Epoch 695: 100%|██████████| 378/378 [00:10<00:00, 37.10it/s]\n",
      "Training Epoch 696: 100%|██████████| 378/378 [00:10<00:00, 37.23it/s]\n",
      "Training Epoch 697: 100%|██████████| 378/378 [00:10<00:00, 37.26it/s]\n",
      "Training Epoch 698: 100%|██████████| 378/378 [00:10<00:00, 37.08it/s]\n",
      "Training Epoch 699: 100%|██████████| 378/378 [00:10<00:00, 37.29it/s]\n",
      "Training Epoch 700: 100%|██████████| 378/378 [00:10<00:00, 37.26it/s]\n",
      "Training Epoch 701: 100%|██████████| 378/378 [00:10<00:00, 37.12it/s]\n"
     ]
    },
    {
     "name": "stdout",
     "output_type": "stream",
     "text": [
      "Epoch 700 - Train Loss: 0.5425, Train MSE: 0.5425, Train MAE: 0.5234\n",
      "Epoch 700 - Validation Loss: 1.7376, Validation MSE: 1.7412, Validation MAE: 0.9304\n"
     ]
    },
    {
     "name": "stderr",
     "output_type": "stream",
     "text": [
      "Training Epoch 702: 100%|██████████| 378/378 [00:10<00:00, 37.22it/s]\n",
      "Training Epoch 703: 100%|██████████| 378/378 [00:10<00:00, 37.31it/s]\n",
      "Training Epoch 704: 100%|██████████| 378/378 [00:10<00:00, 37.20it/s]\n",
      "Training Epoch 705: 100%|██████████| 378/378 [00:10<00:00, 37.11it/s]\n",
      "Training Epoch 706: 100%|██████████| 378/378 [00:10<00:00, 37.24it/s]\n",
      "Training Epoch 707: 100%|██████████| 378/378 [00:10<00:00, 37.32it/s]\n",
      "Training Epoch 708: 100%|██████████| 378/378 [00:10<00:00, 37.08it/s]\n",
      "Training Epoch 709: 100%|██████████| 378/378 [00:10<00:00, 37.12it/s]\n",
      "Training Epoch 710: 100%|██████████| 378/378 [00:10<00:00, 37.39it/s]\n",
      "Training Epoch 711: 100%|██████████| 378/378 [00:10<00:00, 37.18it/s]\n"
     ]
    },
    {
     "name": "stdout",
     "output_type": "stream",
     "text": [
      "Epoch 710 - Train Loss: 0.5609, Train MSE: 0.5611, Train MAE: 0.5290\n",
      "Epoch 710 - Validation Loss: 1.6997, Validation MSE: 1.7030, Validation MAE: 0.9240\n"
     ]
    },
    {
     "name": "stderr",
     "output_type": "stream",
     "text": [
      "Training Epoch 712: 100%|██████████| 378/378 [00:10<00:00, 37.31it/s]\n",
      "Training Epoch 713: 100%|██████████| 378/378 [00:10<00:00, 37.28it/s]\n",
      "Training Epoch 714: 100%|██████████| 378/378 [00:10<00:00, 37.21it/s]\n",
      "Training Epoch 715: 100%|██████████| 378/378 [00:10<00:00, 37.15it/s]\n",
      "Training Epoch 716: 100%|██████████| 378/378 [00:10<00:00, 37.40it/s]\n",
      "Training Epoch 717: 100%|██████████| 378/378 [00:10<00:00, 37.20it/s]\n",
      "Training Epoch 718: 100%|██████████| 378/378 [00:10<00:00, 37.23it/s]\n",
      "Training Epoch 719: 100%|██████████| 378/378 [00:10<00:00, 36.88it/s]\n",
      "Training Epoch 720: 100%|██████████| 378/378 [00:10<00:00, 37.22it/s]\n",
      "Training Epoch 721: 100%|██████████| 378/378 [00:10<00:00, 37.15it/s]\n"
     ]
    },
    {
     "name": "stdout",
     "output_type": "stream",
     "text": [
      "Epoch 720 - Train Loss: 0.5539, Train MSE: 0.5534, Train MAE: 0.5264\n",
      "Epoch 720 - Validation Loss: 1.7242, Validation MSE: 1.7280, Validation MAE: 0.9232\n"
     ]
    },
    {
     "name": "stderr",
     "output_type": "stream",
     "text": [
      "Training Epoch 722: 100%|██████████| 378/378 [00:10<00:00, 37.00it/s]\n",
      "Training Epoch 723: 100%|██████████| 378/378 [00:10<00:00, 37.29it/s]\n",
      "Training Epoch 724: 100%|██████████| 378/378 [00:10<00:00, 37.19it/s]\n",
      "Training Epoch 725: 100%|██████████| 378/378 [00:10<00:00, 37.11it/s]\n",
      "Training Epoch 726: 100%|██████████| 378/378 [00:10<00:00, 37.20it/s]\n",
      "Training Epoch 727: 100%|██████████| 378/378 [00:10<00:00, 37.21it/s]\n",
      "Training Epoch 728: 100%|██████████| 378/378 [00:10<00:00, 37.15it/s]\n",
      "Training Epoch 729: 100%|██████████| 378/378 [00:10<00:00, 37.18it/s]\n",
      "Training Epoch 730: 100%|██████████| 378/378 [00:10<00:00, 37.20it/s]\n",
      "Training Epoch 731: 100%|██████████| 378/378 [00:10<00:00, 36.88it/s]\n"
     ]
    },
    {
     "name": "stdout",
     "output_type": "stream",
     "text": [
      "Epoch 730 - Train Loss: 0.5537, Train MSE: 0.5540, Train MAE: 0.5304\n",
      "Epoch 730 - Validation Loss: 1.6957, Validation MSE: 1.6989, Validation MAE: 0.9380\n"
     ]
    },
    {
     "name": "stderr",
     "output_type": "stream",
     "text": [
      "Training Epoch 732: 100%|██████████| 378/378 [00:10<00:00, 36.96it/s]\n",
      "Training Epoch 733: 100%|██████████| 378/378 [00:10<00:00, 37.02it/s]\n",
      "Training Epoch 734: 100%|██████████| 378/378 [00:10<00:00, 37.02it/s]\n",
      "Training Epoch 735: 100%|██████████| 378/378 [00:10<00:00, 37.17it/s]\n",
      "Training Epoch 736: 100%|██████████| 378/378 [00:10<00:00, 37.03it/s]\n",
      "Training Epoch 737: 100%|██████████| 378/378 [00:10<00:00, 37.17it/s]\n",
      "Training Epoch 738: 100%|██████████| 378/378 [00:10<00:00, 37.21it/s]\n",
      "Training Epoch 739: 100%|██████████| 378/378 [00:10<00:00, 37.05it/s]\n",
      "Training Epoch 740: 100%|██████████| 378/378 [00:10<00:00, 37.08it/s]\n",
      "Training Epoch 741: 100%|██████████| 378/378 [00:10<00:00, 37.03it/s]\n"
     ]
    },
    {
     "name": "stdout",
     "output_type": "stream",
     "text": [
      "Epoch 740 - Train Loss: 0.5533, Train MSE: 0.5533, Train MAE: 0.5257\n",
      "Epoch 740 - Validation Loss: 1.7181, Validation MSE: 1.7219, Validation MAE: 0.9372\n"
     ]
    },
    {
     "name": "stderr",
     "output_type": "stream",
     "text": [
      "Training Epoch 742: 100%|██████████| 378/378 [00:10<00:00, 36.97it/s]\n",
      "Training Epoch 743: 100%|██████████| 378/378 [00:10<00:00, 37.04it/s]\n",
      "Training Epoch 744: 100%|██████████| 378/378 [00:10<00:00, 37.03it/s]\n",
      "Training Epoch 745: 100%|██████████| 378/378 [00:10<00:00, 37.12it/s]\n",
      "Training Epoch 746: 100%|██████████| 378/378 [00:10<00:00, 36.85it/s]\n",
      "Training Epoch 747: 100%|██████████| 378/378 [00:10<00:00, 37.01it/s]\n",
      "Training Epoch 748: 100%|██████████| 378/378 [00:10<00:00, 37.07it/s]\n",
      "Training Epoch 749: 100%|██████████| 378/378 [00:10<00:00, 37.00it/s]\n",
      "Training Epoch 750: 100%|██████████| 378/378 [00:10<00:00, 36.94it/s]\n",
      "Training Epoch 751: 100%|██████████| 378/378 [00:10<00:00, 37.10it/s]\n"
     ]
    },
    {
     "name": "stdout",
     "output_type": "stream",
     "text": [
      "Epoch 750 - Train Loss: 0.5494, Train MSE: 0.5496, Train MAE: 0.5239\n",
      "Epoch 750 - Validation Loss: 1.7065, Validation MSE: 1.7097, Validation MAE: 0.9412\n"
     ]
    },
    {
     "name": "stderr",
     "output_type": "stream",
     "text": [
      "Training Epoch 752: 100%|██████████| 378/378 [00:10<00:00, 37.14it/s]\n",
      "Training Epoch 753: 100%|██████████| 378/378 [00:10<00:00, 36.88it/s]\n",
      "Training Epoch 754: 100%|██████████| 378/378 [00:10<00:00, 37.12it/s]\n",
      "Training Epoch 755: 100%|██████████| 378/378 [00:10<00:00, 37.16it/s]\n",
      "Training Epoch 756: 100%|██████████| 378/378 [00:10<00:00, 37.16it/s]\n",
      "Training Epoch 757: 100%|██████████| 378/378 [00:10<00:00, 37.14it/s]\n",
      "Training Epoch 758: 100%|██████████| 378/378 [00:10<00:00, 37.10it/s]\n",
      "Training Epoch 759: 100%|██████████| 378/378 [00:10<00:00, 36.96it/s]\n",
      "Training Epoch 760: 100%|██████████| 378/378 [00:10<00:00, 37.07it/s]\n",
      "Training Epoch 761: 100%|██████████| 378/378 [00:10<00:00, 37.04it/s]\n"
     ]
    },
    {
     "name": "stdout",
     "output_type": "stream",
     "text": [
      "Epoch 760 - Train Loss: 0.5517, Train MSE: 0.5514, Train MAE: 0.5233\n",
      "Epoch 760 - Validation Loss: 1.6901, Validation MSE: 1.6926, Validation MAE: 0.9171\n"
     ]
    },
    {
     "name": "stderr",
     "output_type": "stream",
     "text": [
      "Training Epoch 762: 100%|██████████| 378/378 [00:10<00:00, 37.04it/s]\n",
      "Training Epoch 763: 100%|██████████| 378/378 [00:10<00:00, 37.02it/s]\n",
      "Training Epoch 764: 100%|██████████| 378/378 [00:10<00:00, 37.08it/s]\n",
      "Training Epoch 765: 100%|██████████| 378/378 [00:10<00:00, 37.01it/s]\n",
      "Training Epoch 766: 100%|██████████| 378/378 [00:10<00:00, 37.00it/s]\n",
      "Training Epoch 767: 100%|██████████| 378/378 [00:10<00:00, 37.15it/s]\n",
      "Training Epoch 768: 100%|██████████| 378/378 [00:10<00:00, 36.97it/s]\n",
      "Training Epoch 769: 100%|██████████| 378/378 [00:10<00:00, 37.21it/s]\n",
      "Training Epoch 770: 100%|██████████| 378/378 [00:10<00:00, 37.06it/s]\n",
      "Training Epoch 771: 100%|██████████| 378/378 [00:10<00:00, 37.04it/s]\n"
     ]
    },
    {
     "name": "stdout",
     "output_type": "stream",
     "text": [
      "Epoch 770 - Train Loss: 0.5499, Train MSE: 0.5502, Train MAE: 0.5234\n",
      "Epoch 770 - Validation Loss: 1.7270, Validation MSE: 1.7303, Validation MAE: 0.9346\n"
     ]
    },
    {
     "name": "stderr",
     "output_type": "stream",
     "text": [
      "Training Epoch 772: 100%|██████████| 378/378 [00:10<00:00, 37.04it/s]\n",
      "Training Epoch 773: 100%|██████████| 378/378 [00:10<00:00, 36.94it/s]\n",
      "Training Epoch 774: 100%|██████████| 378/378 [00:10<00:00, 37.13it/s]\n",
      "Training Epoch 775: 100%|██████████| 378/378 [00:10<00:00, 36.99it/s]\n",
      "Training Epoch 776: 100%|██████████| 378/378 [00:10<00:00, 37.07it/s]\n",
      "Training Epoch 777: 100%|██████████| 378/378 [00:10<00:00, 35.85it/s]\n",
      "Training Epoch 778: 100%|██████████| 378/378 [00:10<00:00, 37.47it/s]\n",
      "Training Epoch 779: 100%|██████████| 378/378 [00:10<00:00, 37.43it/s]\n",
      "Training Epoch 780: 100%|██████████| 378/378 [00:10<00:00, 37.42it/s]\n",
      "Training Epoch 781: 100%|██████████| 378/378 [00:10<00:00, 37.28it/s]\n"
     ]
    },
    {
     "name": "stdout",
     "output_type": "stream",
     "text": [
      "Epoch 780 - Train Loss: 0.5519, Train MSE: 0.5521, Train MAE: 0.5253\n",
      "Epoch 780 - Validation Loss: 1.7458, Validation MSE: 1.7491, Validation MAE: 0.9323\n"
     ]
    },
    {
     "name": "stderr",
     "output_type": "stream",
     "text": [
      "Training Epoch 782: 100%|██████████| 378/378 [00:10<00:00, 37.37it/s]\n",
      "Training Epoch 783: 100%|██████████| 378/378 [00:10<00:00, 37.43it/s]\n",
      "Training Epoch 784: 100%|██████████| 378/378 [00:10<00:00, 37.32it/s]\n",
      "Training Epoch 785: 100%|██████████| 378/378 [00:10<00:00, 37.16it/s]\n",
      "Training Epoch 786: 100%|██████████| 378/378 [00:10<00:00, 37.30it/s]\n",
      "Training Epoch 787: 100%|██████████| 378/378 [00:10<00:00, 37.25it/s]\n",
      "Training Epoch 788: 100%|██████████| 378/378 [00:10<00:00, 37.16it/s]\n",
      "Training Epoch 789: 100%|██████████| 378/378 [00:10<00:00, 37.30it/s]\n",
      "Training Epoch 790: 100%|██████████| 378/378 [00:10<00:00, 37.26it/s]\n",
      "Training Epoch 791: 100%|██████████| 378/378 [00:10<00:00, 37.14it/s]\n"
     ]
    },
    {
     "name": "stdout",
     "output_type": "stream",
     "text": [
      "Epoch 790 - Train Loss: 0.5523, Train MSE: 0.5526, Train MAE: 0.5262\n",
      "Epoch 790 - Validation Loss: 1.6760, Validation MSE: 1.6793, Validation MAE: 0.9223\n"
     ]
    },
    {
     "name": "stderr",
     "output_type": "stream",
     "text": [
      "Training Epoch 792: 100%|██████████| 378/378 [00:10<00:00, 37.17it/s]\n",
      "Training Epoch 793: 100%|██████████| 378/378 [00:10<00:00, 37.24it/s]\n",
      "Training Epoch 794: 100%|██████████| 378/378 [00:10<00:00, 37.08it/s]\n",
      "Training Epoch 795: 100%|██████████| 378/378 [00:10<00:00, 37.18it/s]\n",
      "Training Epoch 796: 100%|██████████| 378/378 [00:10<00:00, 37.01it/s]\n",
      "Training Epoch 797: 100%|██████████| 378/378 [00:10<00:00, 37.04it/s]\n",
      "Training Epoch 798: 100%|██████████| 378/378 [00:10<00:00, 37.13it/s]\n",
      "Training Epoch 799: 100%|██████████| 378/378 [00:10<00:00, 37.23it/s]\n",
      "Training Epoch 800: 100%|██████████| 378/378 [00:10<00:00, 37.10it/s]\n",
      "Training Epoch 801: 100%|██████████| 378/378 [00:10<00:00, 37.29it/s]\n"
     ]
    },
    {
     "name": "stdout",
     "output_type": "stream",
     "text": [
      "Epoch 800 - Train Loss: 0.5468, Train MSE: 0.5466, Train MAE: 0.5221\n",
      "Epoch 800 - Validation Loss: 1.6954, Validation MSE: 1.6996, Validation MAE: 0.9312\n"
     ]
    },
    {
     "name": "stderr",
     "output_type": "stream",
     "text": [
      "Training Epoch 802: 100%|██████████| 378/378 [00:10<00:00, 37.05it/s]\n",
      "Training Epoch 803: 100%|██████████| 378/378 [00:10<00:00, 37.04it/s]\n",
      "Training Epoch 804: 100%|██████████| 378/378 [00:10<00:00, 37.15it/s]\n",
      "Training Epoch 805: 100%|██████████| 378/378 [00:10<00:00, 37.07it/s]\n",
      "Training Epoch 806: 100%|██████████| 378/378 [00:10<00:00, 37.19it/s]\n",
      "Training Epoch 807: 100%|██████████| 378/378 [00:10<00:00, 37.02it/s]\n",
      "Training Epoch 808: 100%|██████████| 378/378 [00:10<00:00, 36.97it/s]\n",
      "Training Epoch 809: 100%|██████████| 378/378 [00:10<00:00, 37.24it/s]\n",
      "Training Epoch 810: 100%|██████████| 378/378 [00:10<00:00, 37.10it/s]\n",
      "Training Epoch 811: 100%|██████████| 378/378 [00:10<00:00, 37.11it/s]\n"
     ]
    },
    {
     "name": "stdout",
     "output_type": "stream",
     "text": [
      "Epoch 810 - Train Loss: 0.5473, Train MSE: 0.5472, Train MAE: 0.5229\n",
      "Epoch 810 - Validation Loss: 1.6651, Validation MSE: 1.6683, Validation MAE: 0.9213\n"
     ]
    },
    {
     "name": "stderr",
     "output_type": "stream",
     "text": [
      "Training Epoch 812: 100%|██████████| 378/378 [00:10<00:00, 37.46it/s]\n",
      "Training Epoch 813: 100%|██████████| 378/378 [00:10<00:00, 37.11it/s]\n",
      "Training Epoch 814: 100%|██████████| 378/378 [00:10<00:00, 37.17it/s]\n",
      "Training Epoch 815: 100%|██████████| 378/378 [00:10<00:00, 37.31it/s]\n",
      "Training Epoch 816: 100%|██████████| 378/378 [00:10<00:00, 37.13it/s]\n",
      "Training Epoch 817: 100%|██████████| 378/378 [00:10<00:00, 37.29it/s]\n",
      "Training Epoch 818: 100%|██████████| 378/378 [00:10<00:00, 37.22it/s]\n",
      "Training Epoch 819: 100%|██████████| 378/378 [00:10<00:00, 37.26it/s]\n",
      "Training Epoch 820: 100%|██████████| 378/378 [00:10<00:00, 37.27it/s]\n",
      "Training Epoch 821: 100%|██████████| 378/378 [00:10<00:00, 37.28it/s]\n"
     ]
    },
    {
     "name": "stdout",
     "output_type": "stream",
     "text": [
      "Epoch 820 - Train Loss: 0.5461, Train MSE: 0.5461, Train MAE: 0.5191\n",
      "Epoch 820 - Validation Loss: 1.7447, Validation MSE: 1.7492, Validation MAE: 0.9449\n"
     ]
    },
    {
     "name": "stderr",
     "output_type": "stream",
     "text": [
      "Training Epoch 822: 100%|██████████| 378/378 [00:10<00:00, 37.45it/s]\n",
      "Training Epoch 823: 100%|██████████| 378/378 [00:10<00:00, 37.40it/s]\n",
      "Training Epoch 824: 100%|██████████| 378/378 [00:10<00:00, 37.19it/s]\n",
      "Training Epoch 825: 100%|██████████| 378/378 [00:10<00:00, 37.36it/s]\n",
      "Training Epoch 826: 100%|██████████| 378/378 [00:10<00:00, 37.17it/s]\n",
      "Training Epoch 827: 100%|██████████| 378/378 [00:10<00:00, 37.29it/s]\n",
      "Training Epoch 828: 100%|██████████| 378/378 [00:10<00:00, 37.40it/s]\n",
      "Training Epoch 829: 100%|██████████| 378/378 [00:10<00:00, 37.15it/s]\n",
      "Training Epoch 830: 100%|██████████| 378/378 [00:10<00:00, 37.24it/s]\n",
      "Training Epoch 831: 100%|██████████| 378/378 [00:10<00:00, 37.10it/s]\n"
     ]
    },
    {
     "name": "stdout",
     "output_type": "stream",
     "text": [
      "Epoch 830 - Train Loss: 0.5409, Train MSE: 0.5410, Train MAE: 0.5185\n",
      "Epoch 830 - Validation Loss: 1.7387, Validation MSE: 1.7424, Validation MAE: 0.9353\n"
     ]
    },
    {
     "name": "stderr",
     "output_type": "stream",
     "text": [
      "Training Epoch 832: 100%|██████████| 378/378 [00:10<00:00, 37.18it/s]\n",
      "Training Epoch 833: 100%|██████████| 378/378 [00:10<00:00, 37.23it/s]\n",
      "Training Epoch 834: 100%|██████████| 378/378 [00:10<00:00, 37.17it/s]\n",
      "Training Epoch 835: 100%|██████████| 378/378 [00:10<00:00, 37.25it/s]\n",
      "Training Epoch 836: 100%|██████████| 378/378 [00:10<00:00, 37.27it/s]\n",
      "Training Epoch 837: 100%|██████████| 378/378 [00:10<00:00, 37.30it/s]\n",
      "Training Epoch 838: 100%|██████████| 378/378 [00:10<00:00, 37.26it/s]\n",
      "Training Epoch 839: 100%|██████████| 378/378 [00:10<00:00, 37.16it/s]\n",
      "Training Epoch 840: 100%|██████████| 378/378 [00:10<00:00, 37.16it/s]\n",
      "Training Epoch 841: 100%|██████████| 378/378 [00:10<00:00, 37.24it/s]\n"
     ]
    },
    {
     "name": "stdout",
     "output_type": "stream",
     "text": [
      "Epoch 840 - Train Loss: 0.5365, Train MSE: 0.5364, Train MAE: 0.5151\n",
      "Epoch 840 - Validation Loss: 1.6785, Validation MSE: 1.6823, Validation MAE: 0.9174\n"
     ]
    },
    {
     "name": "stderr",
     "output_type": "stream",
     "text": [
      "Training Epoch 842: 100%|██████████| 378/378 [00:10<00:00, 37.29it/s]\n",
      "Training Epoch 843: 100%|██████████| 378/378 [00:10<00:00, 37.31it/s]\n",
      "Training Epoch 844: 100%|██████████| 378/378 [00:10<00:00, 37.48it/s]\n",
      "Training Epoch 845: 100%|██████████| 378/378 [00:10<00:00, 37.35it/s]\n",
      "Training Epoch 846: 100%|██████████| 378/378 [00:10<00:00, 37.21it/s]\n",
      "Training Epoch 847: 100%|██████████| 378/378 [00:10<00:00, 37.40it/s]\n",
      "Training Epoch 848: 100%|██████████| 378/378 [00:10<00:00, 37.32it/s]\n",
      "Training Epoch 849: 100%|██████████| 378/378 [00:10<00:00, 37.29it/s]\n",
      "Training Epoch 850: 100%|██████████| 378/378 [00:10<00:00, 37.31it/s]\n",
      "Training Epoch 851: 100%|██████████| 378/378 [00:10<00:00, 37.29it/s]\n"
     ]
    },
    {
     "name": "stdout",
     "output_type": "stream",
     "text": [
      "Epoch 850 - Train Loss: 0.5417, Train MSE: 0.5418, Train MAE: 0.5172\n",
      "Epoch 850 - Validation Loss: 1.7113, Validation MSE: 1.7140, Validation MAE: 0.9244\n"
     ]
    },
    {
     "name": "stderr",
     "output_type": "stream",
     "text": [
      "Training Epoch 852: 100%|██████████| 378/378 [00:10<00:00, 37.27it/s]\n",
      "Training Epoch 853: 100%|██████████| 378/378 [00:10<00:00, 37.36it/s]\n",
      "Training Epoch 854: 100%|██████████| 378/378 [00:10<00:00, 37.36it/s]\n",
      "Training Epoch 855: 100%|██████████| 378/378 [00:10<00:00, 37.23it/s]\n",
      "Training Epoch 856: 100%|██████████| 378/378 [00:10<00:00, 37.36it/s]\n",
      "Training Epoch 857: 100%|██████████| 378/378 [00:10<00:00, 37.29it/s]\n",
      "Training Epoch 858: 100%|██████████| 378/378 [00:10<00:00, 37.33it/s]\n",
      "Training Epoch 859: 100%|██████████| 378/378 [00:10<00:00, 37.22it/s]\n",
      "Training Epoch 860: 100%|██████████| 378/378 [00:10<00:00, 37.30it/s]\n",
      "Training Epoch 861: 100%|██████████| 378/378 [00:10<00:00, 37.32it/s]\n"
     ]
    },
    {
     "name": "stdout",
     "output_type": "stream",
     "text": [
      "Epoch 860 - Train Loss: 0.5317, Train MSE: 0.5316, Train MAE: 0.5123\n",
      "Epoch 860 - Validation Loss: 1.6732, Validation MSE: 1.6762, Validation MAE: 0.9279\n"
     ]
    },
    {
     "name": "stderr",
     "output_type": "stream",
     "text": [
      "Training Epoch 862: 100%|██████████| 378/378 [00:10<00:00, 37.26it/s]\n",
      "Training Epoch 863: 100%|██████████| 378/378 [00:10<00:00, 37.24it/s]\n",
      "Training Epoch 864: 100%|██████████| 378/378 [00:10<00:00, 37.20it/s]\n",
      "Training Epoch 865: 100%|██████████| 378/378 [00:10<00:00, 37.30it/s]\n",
      "Training Epoch 866: 100%|██████████| 378/378 [00:10<00:00, 37.33it/s]\n",
      "Training Epoch 867: 100%|██████████| 378/378 [00:10<00:00, 37.18it/s]\n",
      "Training Epoch 868: 100%|██████████| 378/378 [00:10<00:00, 37.13it/s]\n",
      "Training Epoch 869: 100%|██████████| 378/378 [00:10<00:00, 37.27it/s]\n",
      "Training Epoch 870: 100%|██████████| 378/378 [00:10<00:00, 37.13it/s]\n",
      "Training Epoch 871: 100%|██████████| 378/378 [00:10<00:00, 37.20it/s]\n"
     ]
    },
    {
     "name": "stdout",
     "output_type": "stream",
     "text": [
      "Epoch 870 - Train Loss: 0.5338, Train MSE: 0.5339, Train MAE: 0.5156\n",
      "Epoch 870 - Validation Loss: 1.7247, Validation MSE: 1.7287, Validation MAE: 0.9405\n"
     ]
    },
    {
     "name": "stderr",
     "output_type": "stream",
     "text": [
      "Training Epoch 872: 100%|██████████| 378/378 [00:10<00:00, 37.16it/s]\n",
      "Training Epoch 873: 100%|██████████| 378/378 [00:10<00:00, 37.16it/s]\n",
      "Training Epoch 874: 100%|██████████| 378/378 [00:10<00:00, 37.07it/s]\n",
      "Training Epoch 875: 100%|██████████| 378/378 [00:10<00:00, 37.28it/s]\n",
      "Training Epoch 876: 100%|██████████| 378/378 [00:10<00:00, 37.30it/s]\n",
      "Training Epoch 877: 100%|██████████| 378/378 [00:10<00:00, 37.15it/s]\n",
      "Training Epoch 878: 100%|██████████| 378/378 [00:10<00:00, 37.11it/s]\n",
      "Training Epoch 879: 100%|██████████| 378/378 [00:10<00:00, 37.13it/s]\n",
      "Training Epoch 880: 100%|██████████| 378/378 [00:10<00:00, 37.22it/s]\n",
      "Training Epoch 881: 100%|██████████| 378/378 [00:10<00:00, 37.11it/s]\n"
     ]
    },
    {
     "name": "stdout",
     "output_type": "stream",
     "text": [
      "Epoch 880 - Train Loss: 0.5400, Train MSE: 0.5398, Train MAE: 0.5192\n",
      "Epoch 880 - Validation Loss: 1.7005, Validation MSE: 1.7038, Validation MAE: 0.9199\n"
     ]
    },
    {
     "name": "stderr",
     "output_type": "stream",
     "text": [
      "Training Epoch 882: 100%|██████████| 378/378 [00:10<00:00, 37.10it/s]\n",
      "Training Epoch 883: 100%|██████████| 378/378 [00:10<00:00, 37.07it/s]\n",
      "Training Epoch 884: 100%|██████████| 378/378 [00:10<00:00, 37.10it/s]\n",
      "Training Epoch 885: 100%|██████████| 378/378 [00:10<00:00, 36.97it/s]\n",
      "Training Epoch 886: 100%|██████████| 378/378 [00:10<00:00, 37.03it/s]\n",
      "Training Epoch 887: 100%|██████████| 378/378 [00:10<00:00, 37.01it/s]\n",
      "Training Epoch 888: 100%|██████████| 378/378 [00:10<00:00, 37.41it/s]\n",
      "Training Epoch 889: 100%|██████████| 378/378 [00:10<00:00, 37.10it/s]\n",
      "Training Epoch 890: 100%|██████████| 378/378 [00:10<00:00, 37.03it/s]\n",
      "Training Epoch 891: 100%|██████████| 378/378 [00:10<00:00, 37.26it/s]\n"
     ]
    },
    {
     "name": "stdout",
     "output_type": "stream",
     "text": [
      "Epoch 890 - Train Loss: 0.5364, Train MSE: 0.5366, Train MAE: 0.5165\n",
      "Epoch 890 - Validation Loss: 1.6723, Validation MSE: 1.6761, Validation MAE: 0.9220\n"
     ]
    },
    {
     "name": "stderr",
     "output_type": "stream",
     "text": [
      "Training Epoch 892: 100%|██████████| 378/378 [00:10<00:00, 37.05it/s]\n",
      "Training Epoch 893: 100%|██████████| 378/378 [00:10<00:00, 37.07it/s]\n",
      "Training Epoch 894: 100%|██████████| 378/378 [00:10<00:00, 37.21it/s]\n",
      "Training Epoch 895: 100%|██████████| 378/378 [00:10<00:00, 37.06it/s]\n",
      "Training Epoch 896: 100%|██████████| 378/378 [00:10<00:00, 37.09it/s]\n",
      "Training Epoch 897: 100%|██████████| 378/378 [00:10<00:00, 37.04it/s]\n",
      "Training Epoch 898: 100%|██████████| 378/378 [00:10<00:00, 37.27it/s]\n",
      "Training Epoch 899: 100%|██████████| 378/378 [00:10<00:00, 37.09it/s]\n",
      "Training Epoch 900: 100%|██████████| 378/378 [00:10<00:00, 37.10it/s]\n",
      "Training Epoch 901: 100%|██████████| 378/378 [00:10<00:00, 37.11it/s]\n"
     ]
    },
    {
     "name": "stdout",
     "output_type": "stream",
     "text": [
      "Epoch 900 - Train Loss: 0.5353, Train MSE: 0.5354, Train MAE: 0.5141\n",
      "Epoch 900 - Validation Loss: 1.6552, Validation MSE: 1.6581, Validation MAE: 0.9152\n"
     ]
    },
    {
     "name": "stderr",
     "output_type": "stream",
     "text": [
      "Training Epoch 902: 100%|██████████| 378/378 [00:10<00:00, 36.97it/s]\n",
      "Training Epoch 903: 100%|██████████| 378/378 [00:10<00:00, 37.13it/s]\n",
      "Training Epoch 904: 100%|██████████| 378/378 [00:10<00:00, 37.13it/s]\n",
      "Training Epoch 905: 100%|██████████| 378/378 [00:10<00:00, 37.23it/s]\n",
      "Training Epoch 906: 100%|██████████| 378/378 [00:10<00:00, 37.10it/s]\n",
      "Training Epoch 907: 100%|██████████| 378/378 [00:10<00:00, 37.02it/s]\n",
      "Training Epoch 908: 100%|██████████| 378/378 [00:10<00:00, 37.16it/s]\n",
      "Training Epoch 909: 100%|██████████| 378/378 [00:10<00:00, 37.09it/s]\n",
      "Training Epoch 910: 100%|██████████| 378/378 [00:10<00:00, 37.04it/s]\n",
      "Training Epoch 911: 100%|██████████| 378/378 [00:10<00:00, 37.04it/s]\n"
     ]
    },
    {
     "name": "stdout",
     "output_type": "stream",
     "text": [
      "Epoch 910 - Train Loss: 0.5288, Train MSE: 0.5290, Train MAE: 0.5159\n",
      "Epoch 910 - Validation Loss: 1.6784, Validation MSE: 1.6814, Validation MAE: 0.9221\n"
     ]
    },
    {
     "name": "stderr",
     "output_type": "stream",
     "text": [
      "Training Epoch 912: 100%|██████████| 378/378 [00:10<00:00, 37.12it/s]\n",
      "Training Epoch 913: 100%|██████████| 378/378 [00:10<00:00, 36.89it/s]\n",
      "Training Epoch 914: 100%|██████████| 378/378 [00:10<00:00, 37.23it/s]\n",
      "Training Epoch 915: 100%|██████████| 378/378 [00:10<00:00, 37.17it/s]\n",
      "Training Epoch 916: 100%|██████████| 378/378 [00:10<00:00, 37.12it/s]\n",
      "Training Epoch 917: 100%|██████████| 378/378 [00:10<00:00, 37.15it/s]\n",
      "Training Epoch 918: 100%|██████████| 378/378 [00:10<00:00, 37.19it/s]\n",
      "Training Epoch 919: 100%|██████████| 378/378 [00:10<00:00, 37.19it/s]\n",
      "Training Epoch 920: 100%|██████████| 378/378 [00:10<00:00, 37.30it/s]\n",
      "Training Epoch 921: 100%|██████████| 378/378 [00:10<00:00, 37.10it/s]\n"
     ]
    },
    {
     "name": "stdout",
     "output_type": "stream",
     "text": [
      "Epoch 920 - Train Loss: 0.5282, Train MSE: 0.5284, Train MAE: 0.5131\n",
      "Epoch 920 - Validation Loss: 1.6891, Validation MSE: 1.6926, Validation MAE: 0.9330\n"
     ]
    },
    {
     "name": "stderr",
     "output_type": "stream",
     "text": [
      "Training Epoch 922: 100%|██████████| 378/378 [00:10<00:00, 37.21it/s]\n",
      "Training Epoch 923: 100%|██████████| 378/378 [00:10<00:00, 37.32it/s]\n",
      "Training Epoch 924: 100%|██████████| 378/378 [00:10<00:00, 37.43it/s]\n",
      "Training Epoch 925: 100%|██████████| 378/378 [00:10<00:00, 37.33it/s]\n",
      "Training Epoch 926: 100%|██████████| 378/378 [00:10<00:00, 37.19it/s]\n",
      "Training Epoch 927: 100%|██████████| 378/378 [00:10<00:00, 37.45it/s]\n",
      "Training Epoch 928: 100%|██████████| 378/378 [00:10<00:00, 37.19it/s]\n",
      "Training Epoch 929: 100%|██████████| 378/378 [00:10<00:00, 37.40it/s]\n",
      "Training Epoch 930: 100%|██████████| 378/378 [00:10<00:00, 37.30it/s]\n",
      "Training Epoch 931: 100%|██████████| 378/378 [00:10<00:00, 37.42it/s]\n"
     ]
    },
    {
     "name": "stdout",
     "output_type": "stream",
     "text": [
      "Epoch 930 - Train Loss: 0.5281, Train MSE: 0.5281, Train MAE: 0.5117\n",
      "Epoch 930 - Validation Loss: 1.6288, Validation MSE: 1.6316, Validation MAE: 0.9114\n"
     ]
    },
    {
     "name": "stderr",
     "output_type": "stream",
     "text": [
      "Training Epoch 932: 100%|██████████| 378/378 [00:10<00:00, 37.33it/s]\n",
      "Training Epoch 933: 100%|██████████| 378/378 [00:10<00:00, 37.29it/s]\n",
      "Training Epoch 934: 100%|██████████| 378/378 [00:10<00:00, 37.33it/s]\n",
      "Training Epoch 935: 100%|██████████| 378/378 [00:10<00:00, 37.21it/s]\n",
      "Training Epoch 936: 100%|██████████| 378/378 [00:10<00:00, 37.32it/s]\n",
      "Training Epoch 937: 100%|██████████| 378/378 [00:10<00:00, 37.17it/s]\n",
      "Training Epoch 938: 100%|██████████| 378/378 [00:10<00:00, 37.32it/s]\n",
      "Training Epoch 939: 100%|██████████| 378/378 [00:10<00:00, 37.18it/s]\n",
      "Training Epoch 940: 100%|██████████| 378/378 [00:10<00:00, 37.05it/s]\n",
      "Training Epoch 941: 100%|██████████| 378/378 [00:10<00:00, 37.25it/s]\n"
     ]
    },
    {
     "name": "stdout",
     "output_type": "stream",
     "text": [
      "Epoch 940 - Train Loss: 0.5368, Train MSE: 0.5357, Train MAE: 0.5140\n",
      "Epoch 940 - Validation Loss: 1.6539, Validation MSE: 1.6578, Validation MAE: 0.9202\n"
     ]
    },
    {
     "name": "stderr",
     "output_type": "stream",
     "text": [
      "Training Epoch 942: 100%|██████████| 378/378 [00:10<00:00, 37.33it/s]\n",
      "Training Epoch 943: 100%|██████████| 378/378 [00:10<00:00, 37.08it/s]\n",
      "Training Epoch 944: 100%|██████████| 378/378 [00:10<00:00, 36.83it/s]\n",
      "Training Epoch 945: 100%|██████████| 378/378 [00:10<00:00, 37.19it/s]\n",
      "Training Epoch 946: 100%|██████████| 378/378 [00:10<00:00, 37.12it/s]\n",
      "Training Epoch 947: 100%|██████████| 378/378 [00:10<00:00, 37.08it/s]\n",
      "Training Epoch 948: 100%|██████████| 378/378 [00:10<00:00, 37.17it/s]\n",
      "Training Epoch 949: 100%|██████████| 378/378 [00:10<00:00, 37.17it/s]\n",
      "Training Epoch 950: 100%|██████████| 378/378 [00:10<00:00, 37.12it/s]\n",
      "Training Epoch 951: 100%|██████████| 378/378 [00:10<00:00, 36.90it/s]\n"
     ]
    },
    {
     "name": "stdout",
     "output_type": "stream",
     "text": [
      "Epoch 950 - Train Loss: 0.5240, Train MSE: 0.5241, Train MAE: 0.5078\n",
      "Epoch 950 - Validation Loss: 1.7099, Validation MSE: 1.7134, Validation MAE: 0.9318\n"
     ]
    },
    {
     "name": "stderr",
     "output_type": "stream",
     "text": [
      "Training Epoch 952: 100%|██████████| 378/378 [00:10<00:00, 37.25it/s]\n",
      "Training Epoch 953: 100%|██████████| 378/378 [00:10<00:00, 37.20it/s]\n",
      "Training Epoch 954: 100%|██████████| 378/378 [00:10<00:00, 37.21it/s]\n",
      "Training Epoch 955: 100%|██████████| 378/378 [00:10<00:00, 37.12it/s]\n",
      "Training Epoch 956: 100%|██████████| 378/378 [00:10<00:00, 37.11it/s]\n",
      "Training Epoch 957: 100%|██████████| 378/378 [00:10<00:00, 37.24it/s]\n",
      "Training Epoch 958: 100%|██████████| 378/378 [00:10<00:00, 37.26it/s]\n",
      "Training Epoch 959: 100%|██████████| 378/378 [00:10<00:00, 37.17it/s]\n",
      "Training Epoch 960: 100%|██████████| 378/378 [00:10<00:00, 37.26it/s]\n",
      "Training Epoch 961: 100%|██████████| 378/378 [00:10<00:00, 37.28it/s]\n"
     ]
    },
    {
     "name": "stdout",
     "output_type": "stream",
     "text": [
      "Epoch 960 - Train Loss: 0.5280, Train MSE: 0.5282, Train MAE: 0.5102\n",
      "Epoch 960 - Validation Loss: 1.7455, Validation MSE: 1.7494, Validation MAE: 0.9399\n"
     ]
    },
    {
     "name": "stderr",
     "output_type": "stream",
     "text": [
      "Training Epoch 962: 100%|██████████| 378/378 [00:10<00:00, 37.55it/s]\n",
      "Training Epoch 963: 100%|██████████| 378/378 [00:10<00:00, 37.45it/s]\n",
      "Training Epoch 964: 100%|██████████| 378/378 [00:10<00:00, 37.35it/s]\n",
      "Training Epoch 965: 100%|██████████| 378/378 [00:10<00:00, 37.56it/s]\n",
      "Training Epoch 966: 100%|██████████| 378/378 [00:10<00:00, 37.28it/s]\n",
      "Training Epoch 967: 100%|██████████| 378/378 [00:10<00:00, 37.31it/s]\n",
      "Training Epoch 968: 100%|██████████| 378/378 [00:10<00:00, 37.52it/s]\n",
      "Training Epoch 969: 100%|██████████| 378/378 [00:10<00:00, 37.36it/s]\n",
      "Training Epoch 970: 100%|██████████| 378/378 [00:10<00:00, 37.35it/s]\n",
      "Training Epoch 971: 100%|██████████| 378/378 [00:10<00:00, 37.35it/s]\n"
     ]
    },
    {
     "name": "stdout",
     "output_type": "stream",
     "text": [
      "Epoch 970 - Train Loss: 0.5192, Train MSE: 0.5194, Train MAE: 0.5082\n",
      "Epoch 970 - Validation Loss: 1.7304, Validation MSE: 1.7341, Validation MAE: 0.9282\n"
     ]
    },
    {
     "name": "stderr",
     "output_type": "stream",
     "text": [
      "Training Epoch 972: 100%|██████████| 378/378 [00:10<00:00, 37.21it/s]\n",
      "Training Epoch 973: 100%|██████████| 378/378 [00:10<00:00, 37.27it/s]\n",
      "Training Epoch 974: 100%|██████████| 378/378 [00:10<00:00, 37.16it/s]\n",
      "Training Epoch 975: 100%|██████████| 378/378 [00:10<00:00, 37.27it/s]\n",
      "Training Epoch 976: 100%|██████████| 378/378 [00:10<00:00, 37.10it/s]\n",
      "Training Epoch 977: 100%|██████████| 378/378 [00:10<00:00, 37.04it/s]\n",
      "Training Epoch 978: 100%|██████████| 378/378 [00:10<00:00, 37.21it/s]\n",
      "Training Epoch 979: 100%|██████████| 378/378 [00:10<00:00, 37.04it/s]\n",
      "Training Epoch 980: 100%|██████████| 378/378 [00:10<00:00, 37.03it/s]\n",
      "Training Epoch 981: 100%|██████████| 378/378 [00:10<00:00, 37.37it/s]\n"
     ]
    },
    {
     "name": "stdout",
     "output_type": "stream",
     "text": [
      "Epoch 980 - Train Loss: 0.5231, Train MSE: 0.5232, Train MAE: 0.5068\n",
      "Epoch 980 - Validation Loss: 1.6925, Validation MSE: 1.6960, Validation MAE: 0.9321\n"
     ]
    },
    {
     "name": "stderr",
     "output_type": "stream",
     "text": [
      "Training Epoch 982: 100%|██████████| 378/378 [00:10<00:00, 37.00it/s]\n",
      "Training Epoch 983: 100%|██████████| 378/378 [00:10<00:00, 37.14it/s]\n",
      "Training Epoch 984: 100%|██████████| 378/378 [00:10<00:00, 37.17it/s]\n",
      "Training Epoch 985: 100%|██████████| 378/378 [00:10<00:00, 37.11it/s]\n",
      "Training Epoch 986: 100%|██████████| 378/378 [00:10<00:00, 37.00it/s]\n",
      "Training Epoch 987: 100%|██████████| 378/378 [00:10<00:00, 37.21it/s]\n",
      "Training Epoch 988: 100%|██████████| 378/378 [00:10<00:00, 36.94it/s]\n",
      "Training Epoch 989: 100%|██████████| 378/378 [00:10<00:00, 36.90it/s]\n",
      "Training Epoch 990: 100%|██████████| 378/378 [00:10<00:00, 37.01it/s]\n",
      "Training Epoch 991: 100%|██████████| 378/378 [00:10<00:00, 37.01it/s]\n"
     ]
    },
    {
     "name": "stdout",
     "output_type": "stream",
     "text": [
      "Epoch 990 - Train Loss: 0.5303, Train MSE: 0.5299, Train MAE: 0.5073\n",
      "Epoch 990 - Validation Loss: 1.6546, Validation MSE: 1.6577, Validation MAE: 0.9331\n"
     ]
    },
    {
     "name": "stderr",
     "output_type": "stream",
     "text": [
      "Training Epoch 992: 100%|██████████| 378/378 [00:10<00:00, 37.02it/s]\n",
      "Training Epoch 993: 100%|██████████| 378/378 [00:10<00:00, 37.00it/s]\n",
      "Training Epoch 994: 100%|██████████| 378/378 [00:10<00:00, 37.22it/s]\n",
      "Training Epoch 995: 100%|██████████| 378/378 [00:10<00:00, 36.98it/s]\n",
      "Training Epoch 996: 100%|██████████| 378/378 [00:10<00:00, 37.03it/s]\n",
      "Training Epoch 997: 100%|██████████| 378/378 [00:10<00:00, 37.11it/s]\n",
      "Training Epoch 998: 100%|██████████| 378/378 [00:10<00:00, 36.89it/s]\n",
      "Training Epoch 999: 100%|██████████| 378/378 [00:10<00:00, 36.92it/s]\n",
      "Training Epoch 1000: 100%|██████████| 378/378 [00:10<00:00, 37.12it/s]\n",
      "Training Epoch 1001: 100%|██████████| 378/378 [00:10<00:00, 37.07it/s]\n"
     ]
    },
    {
     "name": "stdout",
     "output_type": "stream",
     "text": [
      "Epoch 1000 - Train Loss: 0.5237, Train MSE: 0.5239, Train MAE: 0.5091\n",
      "Epoch 1000 - Validation Loss: 1.6947, Validation MSE: 1.6983, Validation MAE: 0.9294\n"
     ]
    },
    {
     "name": "stderr",
     "output_type": "stream",
     "text": [
      "Training Epoch 1002: 100%|██████████| 378/378 [00:10<00:00, 37.07it/s]\n",
      "Training Epoch 1003: 100%|██████████| 378/378 [00:10<00:00, 37.02it/s]\n",
      "Training Epoch 1004: 100%|██████████| 378/378 [00:10<00:00, 37.05it/s]\n",
      "Training Epoch 1005: 100%|██████████| 378/378 [00:10<00:00, 36.93it/s]\n",
      "Training Epoch 1006: 100%|██████████| 378/378 [00:10<00:00, 37.01it/s]\n",
      "Training Epoch 1007: 100%|██████████| 378/378 [00:10<00:00, 37.06it/s]\n",
      "Training Epoch 1008: 100%|██████████| 378/378 [00:10<00:00, 37.17it/s]\n",
      "Training Epoch 1009: 100%|██████████| 378/378 [00:10<00:00, 37.15it/s]\n",
      "Training Epoch 1010: 100%|██████████| 378/378 [00:10<00:00, 36.99it/s]\n",
      "Training Epoch 1011: 100%|██████████| 378/378 [00:10<00:00, 36.97it/s]\n"
     ]
    },
    {
     "name": "stdout",
     "output_type": "stream",
     "text": [
      "Epoch 1010 - Train Loss: 0.5255, Train MSE: 0.5256, Train MAE: 0.5121\n",
      "Epoch 1010 - Validation Loss: 1.7148, Validation MSE: 1.7183, Validation MAE: 0.9323\n"
     ]
    },
    {
     "name": "stderr",
     "output_type": "stream",
     "text": [
      "Training Epoch 1012: 100%|██████████| 378/378 [00:10<00:00, 36.99it/s]\n",
      "Training Epoch 1013: 100%|██████████| 378/378 [00:10<00:00, 37.10it/s]\n",
      "Training Epoch 1014: 100%|██████████| 378/378 [00:10<00:00, 36.97it/s]\n",
      "Training Epoch 1015: 100%|██████████| 378/378 [00:10<00:00, 36.83it/s]\n",
      "Training Epoch 1016: 100%|██████████| 378/378 [00:10<00:00, 37.01it/s]\n",
      "Training Epoch 1017: 100%|██████████| 378/378 [00:10<00:00, 36.85it/s]\n",
      "Training Epoch 1018: 100%|██████████| 378/378 [00:10<00:00, 36.87it/s]\n",
      "Training Epoch 1019: 100%|██████████| 378/378 [00:10<00:00, 37.04it/s]\n",
      "Training Epoch 1020: 100%|██████████| 378/378 [00:10<00:00, 37.03it/s]\n",
      "Training Epoch 1021: 100%|██████████| 378/378 [00:10<00:00, 36.89it/s]\n"
     ]
    },
    {
     "name": "stdout",
     "output_type": "stream",
     "text": [
      "Epoch 1020 - Train Loss: 0.5193, Train MSE: 0.5195, Train MAE: 0.5065\n",
      "Epoch 1020 - Validation Loss: 1.6644, Validation MSE: 1.6674, Validation MAE: 0.9176\n"
     ]
    },
    {
     "name": "stderr",
     "output_type": "stream",
     "text": [
      "Training Epoch 1022: 100%|██████████| 378/378 [00:10<00:00, 36.99it/s]\n",
      "Training Epoch 1023: 100%|██████████| 378/378 [00:10<00:00, 37.10it/s]\n",
      "Training Epoch 1024: 100%|██████████| 378/378 [00:10<00:00, 36.80it/s]\n",
      "Training Epoch 1025: 100%|██████████| 378/378 [00:10<00:00, 36.82it/s]\n",
      "Training Epoch 1026: 100%|██████████| 378/378 [00:10<00:00, 36.93it/s]\n",
      "Training Epoch 1027: 100%|██████████| 378/378 [00:10<00:00, 36.73it/s]\n",
      "Training Epoch 1028: 100%|██████████| 378/378 [00:10<00:00, 36.84it/s]\n",
      "Training Epoch 1029: 100%|██████████| 378/378 [00:10<00:00, 36.85it/s]\n",
      "Training Epoch 1030: 100%|██████████| 378/378 [00:10<00:00, 36.83it/s]\n",
      "Training Epoch 1031: 100%|██████████| 378/378 [00:10<00:00, 36.74it/s]\n"
     ]
    },
    {
     "name": "stdout",
     "output_type": "stream",
     "text": [
      "Epoch 1030 - Train Loss: 0.5104, Train MSE: 0.5107, Train MAE: 0.5011\n",
      "Epoch 1030 - Validation Loss: 1.6766, Validation MSE: 1.6806, Validation MAE: 0.9172\n"
     ]
    },
    {
     "name": "stderr",
     "output_type": "stream",
     "text": [
      "Training Epoch 1032: 100%|██████████| 378/378 [00:10<00:00, 36.85it/s]\n",
      "Training Epoch 1033: 100%|██████████| 378/378 [00:10<00:00, 36.93it/s]\n",
      "Training Epoch 1034: 100%|██████████| 378/378 [00:10<00:00, 36.91it/s]\n",
      "Training Epoch 1035: 100%|██████████| 378/378 [00:10<00:00, 36.92it/s]\n",
      "Training Epoch 1036: 100%|██████████| 378/378 [00:10<00:00, 36.85it/s]\n",
      "Training Epoch 1037: 100%|██████████| 378/378 [00:10<00:00, 36.78it/s]\n",
      "Training Epoch 1038: 100%|██████████| 378/378 [00:10<00:00, 37.00it/s]\n",
      "Training Epoch 1039: 100%|██████████| 378/378 [00:10<00:00, 37.00it/s]\n",
      "Training Epoch 1040: 100%|██████████| 378/378 [00:10<00:00, 36.91it/s]\n",
      "Training Epoch 1041: 100%|██████████| 378/378 [00:10<00:00, 36.85it/s]\n"
     ]
    },
    {
     "name": "stdout",
     "output_type": "stream",
     "text": [
      "Epoch 1040 - Train Loss: 0.5136, Train MSE: 0.5139, Train MAE: 0.5034\n",
      "Epoch 1040 - Validation Loss: 1.7184, Validation MSE: 1.7221, Validation MAE: 0.9225\n"
     ]
    },
    {
     "name": "stderr",
     "output_type": "stream",
     "text": [
      "Training Epoch 1042: 100%|██████████| 378/378 [00:10<00:00, 36.98it/s]\n",
      "Training Epoch 1043: 100%|██████████| 378/378 [00:10<00:00, 36.87it/s]\n",
      "Training Epoch 1044: 100%|██████████| 378/378 [00:10<00:00, 36.94it/s]\n",
      "Training Epoch 1045: 100%|██████████| 378/378 [00:10<00:00, 37.02it/s]\n",
      "Training Epoch 1046: 100%|██████████| 378/378 [00:10<00:00, 36.87it/s]\n",
      "Training Epoch 1047: 100%|██████████| 378/378 [00:10<00:00, 37.00it/s]\n",
      "Training Epoch 1048: 100%|██████████| 378/378 [00:10<00:00, 36.88it/s]\n",
      "Training Epoch 1049: 100%|██████████| 378/378 [00:10<00:00, 36.83it/s]\n",
      "Training Epoch 1050: 100%|██████████| 378/378 [00:10<00:00, 36.89it/s]\n",
      "Training Epoch 1051: 100%|██████████| 378/378 [00:10<00:00, 36.82it/s]\n"
     ]
    },
    {
     "name": "stdout",
     "output_type": "stream",
     "text": [
      "Epoch 1050 - Train Loss: 0.5150, Train MSE: 0.5148, Train MAE: 0.5031\n",
      "Epoch 1050 - Validation Loss: 1.7217, Validation MSE: 1.7251, Validation MAE: 0.9219\n"
     ]
    },
    {
     "name": "stderr",
     "output_type": "stream",
     "text": [
      "Training Epoch 1052: 100%|██████████| 378/378 [00:10<00:00, 36.93it/s]\n",
      "Training Epoch 1053: 100%|██████████| 378/378 [00:10<00:00, 36.93it/s]\n",
      "Training Epoch 1054: 100%|██████████| 378/378 [00:10<00:00, 36.98it/s]\n",
      "Training Epoch 1055: 100%|██████████| 378/378 [00:10<00:00, 36.94it/s]\n",
      "Training Epoch 1056: 100%|██████████| 378/378 [00:10<00:00, 37.00it/s]\n",
      "Training Epoch 1057: 100%|██████████| 378/378 [00:10<00:00, 36.88it/s]\n",
      "Training Epoch 1058: 100%|██████████| 378/378 [00:10<00:00, 36.99it/s]\n",
      "Training Epoch 1059: 100%|██████████| 378/378 [00:10<00:00, 37.01it/s]\n",
      "Training Epoch 1060: 100%|██████████| 378/378 [00:10<00:00, 36.73it/s]\n",
      "Training Epoch 1061: 100%|██████████| 378/378 [00:10<00:00, 37.10it/s]\n"
     ]
    },
    {
     "name": "stdout",
     "output_type": "stream",
     "text": [
      "Epoch 1060 - Train Loss: 0.5174, Train MSE: 0.5174, Train MAE: 0.5039\n",
      "Epoch 1060 - Validation Loss: 1.7748, Validation MSE: 1.7787, Validation MAE: 0.9459\n"
     ]
    },
    {
     "name": "stderr",
     "output_type": "stream",
     "text": [
      "Training Epoch 1062: 100%|██████████| 378/378 [00:10<00:00, 37.09it/s]\n",
      "Training Epoch 1063: 100%|██████████| 378/378 [00:10<00:00, 37.00it/s]\n",
      "Training Epoch 1064: 100%|██████████| 378/378 [00:10<00:00, 36.94it/s]\n",
      "Training Epoch 1065: 100%|██████████| 378/378 [00:10<00:00, 37.12it/s]\n",
      "Training Epoch 1066: 100%|██████████| 378/378 [00:10<00:00, 37.05it/s]\n",
      "Training Epoch 1067: 100%|██████████| 378/378 [00:10<00:00, 37.09it/s]\n",
      "Training Epoch 1068: 100%|██████████| 378/378 [00:10<00:00, 37.12it/s]\n",
      "Training Epoch 1069: 100%|██████████| 378/378 [00:10<00:00, 36.80it/s]\n",
      "Training Epoch 1070: 100%|██████████| 378/378 [00:10<00:00, 36.89it/s]\n",
      "Training Epoch 1071: 100%|██████████| 378/378 [00:10<00:00, 37.03it/s]\n"
     ]
    },
    {
     "name": "stdout",
     "output_type": "stream",
     "text": [
      "Epoch 1070 - Train Loss: 0.5237, Train MSE: 0.5233, Train MAE: 0.5065\n",
      "Epoch 1070 - Validation Loss: 1.6560, Validation MSE: 1.6593, Validation MAE: 0.9184\n"
     ]
    },
    {
     "name": "stderr",
     "output_type": "stream",
     "text": [
      "Training Epoch 1072: 100%|██████████| 378/378 [00:10<00:00, 36.96it/s]\n",
      "Training Epoch 1073: 100%|██████████| 378/378 [00:10<00:00, 36.96it/s]\n",
      "Training Epoch 1074: 100%|██████████| 378/378 [00:10<00:00, 36.91it/s]\n",
      "Training Epoch 1075: 100%|██████████| 378/378 [00:10<00:00, 37.09it/s]\n",
      "Training Epoch 1076: 100%|██████████| 378/378 [00:10<00:00, 36.96it/s]\n",
      "Training Epoch 1077: 100%|██████████| 378/378 [00:10<00:00, 36.99it/s]\n",
      "Training Epoch 1078: 100%|██████████| 378/378 [00:10<00:00, 36.87it/s]\n",
      "Training Epoch 1079: 100%|██████████| 378/378 [00:10<00:00, 36.86it/s]\n",
      "Training Epoch 1080: 100%|██████████| 378/378 [00:10<00:00, 36.77it/s]\n",
      "Training Epoch 1081: 100%|██████████| 378/378 [00:10<00:00, 37.10it/s]\n"
     ]
    },
    {
     "name": "stdout",
     "output_type": "stream",
     "text": [
      "Epoch 1080 - Train Loss: 0.5189, Train MSE: 0.5188, Train MAE: 0.5083\n",
      "Epoch 1080 - Validation Loss: 1.6667, Validation MSE: 1.6702, Validation MAE: 0.9208\n"
     ]
    },
    {
     "name": "stderr",
     "output_type": "stream",
     "text": [
      "Training Epoch 1082: 100%|██████████| 378/378 [00:10<00:00, 37.01it/s]\n",
      "Training Epoch 1083: 100%|██████████| 378/378 [00:10<00:00, 36.91it/s]\n",
      "Training Epoch 1084: 100%|██████████| 378/378 [00:10<00:00, 37.01it/s]\n",
      "Training Epoch 1085: 100%|██████████| 378/378 [00:10<00:00, 36.95it/s]\n",
      "Training Epoch 1086: 100%|██████████| 378/378 [00:10<00:00, 36.97it/s]\n",
      "Training Epoch 1087: 100%|██████████| 378/378 [00:10<00:00, 37.12it/s]\n",
      "Training Epoch 1088: 100%|██████████| 378/378 [00:10<00:00, 36.92it/s]\n",
      "Training Epoch 1089: 100%|██████████| 378/378 [00:10<00:00, 37.02it/s]\n",
      "Training Epoch 1090: 100%|██████████| 378/378 [00:10<00:00, 37.07it/s]\n",
      "Training Epoch 1091: 100%|██████████| 378/378 [00:10<00:00, 37.06it/s]\n"
     ]
    },
    {
     "name": "stdout",
     "output_type": "stream",
     "text": [
      "Epoch 1090 - Train Loss: 0.5140, Train MSE: 0.5141, Train MAE: 0.5039\n",
      "Epoch 1090 - Validation Loss: 1.6638, Validation MSE: 1.6674, Validation MAE: 0.9222\n"
     ]
    },
    {
     "name": "stderr",
     "output_type": "stream",
     "text": [
      "Training Epoch 1092: 100%|██████████| 378/378 [00:10<00:00, 37.17it/s]\n",
      "Training Epoch 1093: 100%|██████████| 378/378 [00:10<00:00, 37.13it/s]\n",
      "Training Epoch 1094: 100%|██████████| 378/378 [00:10<00:00, 36.97it/s]\n",
      "Training Epoch 1095: 100%|██████████| 378/378 [00:10<00:00, 36.87it/s]\n",
      "Training Epoch 1096: 100%|██████████| 378/378 [00:10<00:00, 36.97it/s]\n",
      "Training Epoch 1097: 100%|██████████| 378/378 [00:10<00:00, 36.93it/s]\n",
      "Training Epoch 1098: 100%|██████████| 378/378 [00:10<00:00, 36.92it/s]\n",
      "Training Epoch 1099: 100%|██████████| 378/378 [00:10<00:00, 36.98it/s]\n",
      "Training Epoch 1100: 100%|██████████| 378/378 [00:10<00:00, 37.08it/s]\n",
      "Training Epoch 1101: 100%|██████████| 378/378 [00:10<00:00, 36.92it/s]\n"
     ]
    },
    {
     "name": "stdout",
     "output_type": "stream",
     "text": [
      "Epoch 1100 - Train Loss: 0.5213, Train MSE: 0.5212, Train MAE: 0.5039\n",
      "Epoch 1100 - Validation Loss: 1.6910, Validation MSE: 1.6945, Validation MAE: 0.9256\n"
     ]
    },
    {
     "name": "stderr",
     "output_type": "stream",
     "text": [
      "Training Epoch 1102: 100%|██████████| 378/378 [00:10<00:00, 36.97it/s]\n",
      "Training Epoch 1103: 100%|██████████| 378/378 [00:10<00:00, 36.90it/s]\n",
      "Training Epoch 1104: 100%|██████████| 378/378 [00:10<00:00, 36.88it/s]\n",
      "Training Epoch 1105: 100%|██████████| 378/378 [00:10<00:00, 36.81it/s]\n",
      "Training Epoch 1106: 100%|██████████| 378/378 [00:10<00:00, 36.97it/s]\n",
      "Training Epoch 1107: 100%|██████████| 378/378 [00:10<00:00, 36.93it/s]\n",
      "Training Epoch 1108: 100%|██████████| 378/378 [00:10<00:00, 37.00it/s]\n",
      "Training Epoch 1109: 100%|██████████| 378/378 [00:10<00:00, 37.06it/s]\n",
      "Training Epoch 1110: 100%|██████████| 378/378 [00:10<00:00, 36.96it/s]\n",
      "Training Epoch 1111: 100%|██████████| 378/378 [00:10<00:00, 36.86it/s]\n"
     ]
    },
    {
     "name": "stdout",
     "output_type": "stream",
     "text": [
      "Epoch 1110 - Train Loss: 0.5126, Train MSE: 0.5126, Train MAE: 0.4997\n",
      "Epoch 1110 - Validation Loss: 1.7039, Validation MSE: 1.7075, Validation MAE: 0.9304\n"
     ]
    },
    {
     "name": "stderr",
     "output_type": "stream",
     "text": [
      "Training Epoch 1112: 100%|██████████| 378/378 [00:10<00:00, 36.97it/s]\n",
      "Training Epoch 1113: 100%|██████████| 378/378 [00:10<00:00, 36.79it/s]\n",
      "Training Epoch 1114: 100%|██████████| 378/378 [00:10<00:00, 36.99it/s]\n",
      "Training Epoch 1115: 100%|██████████| 378/378 [00:10<00:00, 36.99it/s]\n",
      "Training Epoch 1116: 100%|██████████| 378/378 [00:10<00:00, 37.16it/s]\n",
      "Training Epoch 1117: 100%|██████████| 378/378 [00:10<00:00, 37.11it/s]\n",
      "Training Epoch 1118: 100%|██████████| 378/378 [00:10<00:00, 37.17it/s]\n",
      "Training Epoch 1119: 100%|██████████| 378/378 [00:10<00:00, 37.18it/s]\n",
      "Training Epoch 1120: 100%|██████████| 378/378 [00:10<00:00, 37.01it/s]\n",
      "Training Epoch 1121: 100%|██████████| 378/378 [00:10<00:00, 37.15it/s]\n"
     ]
    },
    {
     "name": "stdout",
     "output_type": "stream",
     "text": [
      "Epoch 1120 - Train Loss: 0.5159, Train MSE: 0.5160, Train MAE: 0.5031\n",
      "Epoch 1120 - Validation Loss: 1.7244, Validation MSE: 1.7283, Validation MAE: 0.9314\n"
     ]
    },
    {
     "name": "stderr",
     "output_type": "stream",
     "text": [
      "Training Epoch 1122: 100%|██████████| 378/378 [00:10<00:00, 37.07it/s]\n",
      "Training Epoch 1123: 100%|██████████| 378/378 [00:10<00:00, 37.11it/s]\n",
      "Training Epoch 1124: 100%|██████████| 378/378 [00:10<00:00, 37.06it/s]\n",
      "Training Epoch 1125: 100%|██████████| 378/378 [00:10<00:00, 37.02it/s]\n",
      "Training Epoch 1126: 100%|██████████| 378/378 [00:10<00:00, 37.22it/s]\n",
      "Training Epoch 1127: 100%|██████████| 378/378 [00:10<00:00, 37.20it/s]\n",
      "Training Epoch 1128: 100%|██████████| 378/378 [00:10<00:00, 37.12it/s]\n",
      "Training Epoch 1129: 100%|██████████| 378/378 [00:10<00:00, 37.02it/s]\n",
      "Training Epoch 1130: 100%|██████████| 378/378 [00:10<00:00, 37.22it/s]\n",
      "Training Epoch 1131: 100%|██████████| 378/378 [00:10<00:00, 37.15it/s]\n"
     ]
    },
    {
     "name": "stdout",
     "output_type": "stream",
     "text": [
      "Epoch 1130 - Train Loss: 0.5146, Train MSE: 0.5149, Train MAE: 0.5043\n",
      "Epoch 1130 - Validation Loss: 1.6502, Validation MSE: 1.6535, Validation MAE: 0.9115\n"
     ]
    },
    {
     "name": "stderr",
     "output_type": "stream",
     "text": [
      "Training Epoch 1132: 100%|██████████| 378/378 [00:10<00:00, 37.27it/s]\n",
      "Training Epoch 1133: 100%|██████████| 378/378 [00:10<00:00, 37.04it/s]\n",
      "Training Epoch 1134: 100%|██████████| 378/378 [00:10<00:00, 37.11it/s]\n",
      "Training Epoch 1135: 100%|██████████| 378/378 [00:10<00:00, 37.19it/s]\n",
      "Training Epoch 1136: 100%|██████████| 378/378 [00:10<00:00, 37.24it/s]\n",
      "Training Epoch 1137: 100%|██████████| 378/378 [00:10<00:00, 37.12it/s]\n",
      "Training Epoch 1138: 100%|██████████| 378/378 [00:10<00:00, 37.22it/s]\n",
      "Training Epoch 1139: 100%|██████████| 378/378 [00:10<00:00, 37.21it/s]\n",
      "Training Epoch 1140: 100%|██████████| 378/378 [00:10<00:00, 37.50it/s]\n",
      "Training Epoch 1141: 100%|██████████| 378/378 [00:10<00:00, 37.50it/s]\n"
     ]
    },
    {
     "name": "stdout",
     "output_type": "stream",
     "text": [
      "Epoch 1140 - Train Loss: 0.5136, Train MSE: 0.5139, Train MAE: 0.5035\n",
      "Epoch 1140 - Validation Loss: 1.6618, Validation MSE: 1.6652, Validation MAE: 0.9223\n"
     ]
    },
    {
     "name": "stderr",
     "output_type": "stream",
     "text": [
      "Training Epoch 1142: 100%|██████████| 378/378 [00:10<00:00, 37.51it/s]\n",
      "Training Epoch 1143: 100%|██████████| 378/378 [00:10<00:00, 37.37it/s]\n",
      "Training Epoch 1144: 100%|██████████| 378/378 [00:10<00:00, 37.26it/s]\n",
      "Training Epoch 1145: 100%|██████████| 378/378 [00:10<00:00, 37.46it/s]\n",
      "Training Epoch 1146: 100%|██████████| 378/378 [00:10<00:00, 37.27it/s]\n",
      "Training Epoch 1147: 100%|██████████| 378/378 [00:10<00:00, 37.34it/s]\n",
      "Training Epoch 1148: 100%|██████████| 378/378 [00:10<00:00, 37.20it/s]\n",
      "Training Epoch 1149: 100%|██████████| 378/378 [00:10<00:00, 37.27it/s]\n",
      "Training Epoch 1150: 100%|██████████| 378/378 [00:10<00:00, 37.26it/s]\n",
      "Training Epoch 1151: 100%|██████████| 378/378 [00:10<00:00, 37.42it/s]\n"
     ]
    },
    {
     "name": "stdout",
     "output_type": "stream",
     "text": [
      "Epoch 1150 - Train Loss: 0.5100, Train MSE: 0.5100, Train MAE: 0.4996\n",
      "Epoch 1150 - Validation Loss: 1.6907, Validation MSE: 1.6941, Validation MAE: 0.9211\n"
     ]
    },
    {
     "name": "stderr",
     "output_type": "stream",
     "text": [
      "Training Epoch 1152: 100%|██████████| 378/378 [00:10<00:00, 37.45it/s]\n",
      "Training Epoch 1153: 100%|██████████| 378/378 [00:10<00:00, 37.45it/s]\n",
      "Training Epoch 1154: 100%|██████████| 378/378 [00:10<00:00, 37.50it/s]\n",
      "Training Epoch 1155: 100%|██████████| 378/378 [00:10<00:00, 37.26it/s]\n",
      "Training Epoch 1156: 100%|██████████| 378/378 [00:10<00:00, 37.31it/s]\n",
      "Training Epoch 1157: 100%|██████████| 378/378 [00:10<00:00, 37.30it/s]\n",
      "Training Epoch 1158: 100%|██████████| 378/378 [00:10<00:00, 37.28it/s]\n",
      "Training Epoch 1159: 100%|██████████| 378/378 [00:10<00:00, 37.35it/s]\n",
      "Training Epoch 1160: 100%|██████████| 378/378 [00:10<00:00, 37.26it/s]\n",
      "Training Epoch 1161: 100%|██████████| 378/378 [00:10<00:00, 37.21it/s]\n"
     ]
    },
    {
     "name": "stdout",
     "output_type": "stream",
     "text": [
      "Epoch 1160 - Train Loss: 0.5148, Train MSE: 0.5148, Train MAE: 0.5010\n",
      "Epoch 1160 - Validation Loss: 1.6803, Validation MSE: 1.6835, Validation MAE: 0.9177\n"
     ]
    },
    {
     "name": "stderr",
     "output_type": "stream",
     "text": [
      "Training Epoch 1162: 100%|██████████| 378/378 [00:10<00:00, 37.23it/s]\n",
      "Training Epoch 1163: 100%|██████████| 378/378 [00:10<00:00, 37.42it/s]\n",
      "Training Epoch 1164: 100%|██████████| 378/378 [00:10<00:00, 37.38it/s]\n",
      "Training Epoch 1165: 100%|██████████| 378/378 [00:10<00:00, 37.34it/s]\n",
      "Training Epoch 1166: 100%|██████████| 378/378 [00:10<00:00, 37.47it/s]\n",
      "Training Epoch 1167: 100%|██████████| 378/378 [00:10<00:00, 37.23it/s]\n",
      "Training Epoch 1168: 100%|██████████| 378/378 [00:10<00:00, 37.21it/s]\n",
      "Training Epoch 1169: 100%|██████████| 378/378 [00:10<00:00, 37.23it/s]\n",
      "Training Epoch 1170: 100%|██████████| 378/378 [00:10<00:00, 37.35it/s]\n",
      "Training Epoch 1171: 100%|██████████| 378/378 [00:10<00:00, 37.28it/s]\n"
     ]
    },
    {
     "name": "stdout",
     "output_type": "stream",
     "text": [
      "Epoch 1170 - Train Loss: 0.5153, Train MSE: 0.5149, Train MAE: 0.5024\n",
      "Epoch 1170 - Validation Loss: 1.7539, Validation MSE: 1.7578, Validation MAE: 0.9363\n"
     ]
    },
    {
     "name": "stderr",
     "output_type": "stream",
     "text": [
      "Training Epoch 1172: 100%|██████████| 378/378 [00:10<00:00, 37.25it/s]\n",
      "Training Epoch 1173: 100%|██████████| 378/378 [00:10<00:00, 37.20it/s]\n",
      "Training Epoch 1174: 100%|██████████| 378/378 [00:10<00:00, 37.15it/s]\n",
      "Training Epoch 1175: 100%|██████████| 378/378 [00:10<00:00, 37.17it/s]\n",
      "Training Epoch 1176: 100%|██████████| 378/378 [00:10<00:00, 37.11it/s]\n",
      "Training Epoch 1177: 100%|██████████| 378/378 [00:10<00:00, 37.29it/s]\n",
      "Training Epoch 1178: 100%|██████████| 378/378 [00:10<00:00, 37.15it/s]\n",
      "Training Epoch 1179: 100%|██████████| 378/378 [00:10<00:00, 37.00it/s]\n",
      "Training Epoch 1180: 100%|██████████| 378/378 [00:10<00:00, 37.16it/s]\n",
      "Training Epoch 1181: 100%|██████████| 378/378 [00:10<00:00, 37.25it/s]\n"
     ]
    },
    {
     "name": "stdout",
     "output_type": "stream",
     "text": [
      "Epoch 1180 - Train Loss: 0.5131, Train MSE: 0.5133, Train MAE: 0.5016\n",
      "Epoch 1180 - Validation Loss: 1.6654, Validation MSE: 1.6689, Validation MAE: 0.9127\n"
     ]
    },
    {
     "name": "stderr",
     "output_type": "stream",
     "text": [
      "Training Epoch 1182: 100%|██████████| 378/378 [00:10<00:00, 37.23it/s]\n",
      "Training Epoch 1183: 100%|██████████| 378/378 [00:10<00:00, 37.18it/s]\n",
      "Training Epoch 1184: 100%|██████████| 378/378 [00:10<00:00, 37.06it/s]\n",
      "Training Epoch 1185: 100%|██████████| 378/378 [00:10<00:00, 37.11it/s]\n",
      "Training Epoch 1186: 100%|██████████| 378/378 [00:10<00:00, 37.09it/s]\n",
      "Training Epoch 1187: 100%|██████████| 378/378 [00:10<00:00, 37.20it/s]\n",
      "Training Epoch 1188: 100%|██████████| 378/378 [00:10<00:00, 37.06it/s]\n",
      "Training Epoch 1189: 100%|██████████| 378/378 [00:10<00:00, 37.18it/s]\n",
      "Training Epoch 1190: 100%|██████████| 378/378 [00:10<00:00, 37.12it/s]\n",
      "Training Epoch 1191: 100%|██████████| 378/378 [00:10<00:00, 37.15it/s]\n"
     ]
    },
    {
     "name": "stdout",
     "output_type": "stream",
     "text": [
      "Epoch 1190 - Train Loss: 0.4996, Train MSE: 0.4998, Train MAE: 0.4981\n",
      "Epoch 1190 - Validation Loss: 1.6849, Validation MSE: 1.6887, Validation MAE: 0.9306\n"
     ]
    },
    {
     "name": "stderr",
     "output_type": "stream",
     "text": [
      "Training Epoch 1192: 100%|██████████| 378/378 [00:10<00:00, 37.22it/s]\n",
      "Training Epoch 1193: 100%|██████████| 378/378 [00:10<00:00, 37.34it/s]\n",
      "Training Epoch 1194: 100%|██████████| 378/378 [00:10<00:00, 37.22it/s]\n",
      "Training Epoch 1195: 100%|██████████| 378/378 [00:10<00:00, 37.12it/s]\n",
      "Training Epoch 1196: 100%|██████████| 378/378 [00:10<00:00, 37.02it/s]\n",
      "Training Epoch 1197: 100%|██████████| 378/378 [00:10<00:00, 37.14it/s]\n",
      "Training Epoch 1198: 100%|██████████| 378/378 [00:10<00:00, 37.17it/s]\n",
      "Training Epoch 1199: 100%|██████████| 378/378 [00:10<00:00, 37.20it/s]\n",
      "Training Epoch 1200: 100%|██████████| 378/378 [00:10<00:00, 37.10it/s]\n",
      "Training Epoch 1201: 100%|██████████| 378/378 [00:10<00:00, 37.22it/s]\n"
     ]
    },
    {
     "name": "stdout",
     "output_type": "stream",
     "text": [
      "Epoch 1200 - Train Loss: 0.5104, Train MSE: 0.5103, Train MAE: 0.4974\n",
      "Epoch 1200 - Validation Loss: 1.6663, Validation MSE: 1.6700, Validation MAE: 0.9223\n"
     ]
    },
    {
     "name": "stderr",
     "output_type": "stream",
     "text": [
      "Training Epoch 1202: 100%|██████████| 378/378 [00:10<00:00, 37.32it/s]\n",
      "Training Epoch 1203: 100%|██████████| 378/378 [00:10<00:00, 37.33it/s]\n",
      "Training Epoch 1204: 100%|██████████| 378/378 [00:10<00:00, 37.26it/s]\n",
      "Training Epoch 1205: 100%|██████████| 378/378 [00:10<00:00, 37.20it/s]\n",
      "Training Epoch 1206: 100%|██████████| 378/378 [00:10<00:00, 37.15it/s]\n",
      "Training Epoch 1207: 100%|██████████| 378/378 [00:10<00:00, 37.13it/s]\n",
      "Training Epoch 1208: 100%|██████████| 378/378 [00:10<00:00, 37.24it/s]\n",
      "Training Epoch 1209: 100%|██████████| 378/378 [00:10<00:00, 37.04it/s]\n",
      "Training Epoch 1210: 100%|██████████| 378/378 [00:10<00:00, 37.19it/s]\n",
      "Training Epoch 1211: 100%|██████████| 378/378 [00:10<00:00, 37.15it/s]\n"
     ]
    },
    {
     "name": "stdout",
     "output_type": "stream",
     "text": [
      "Epoch 1210 - Train Loss: 0.5047, Train MSE: 0.5048, Train MAE: 0.4969\n",
      "Epoch 1210 - Validation Loss: 1.7219, Validation MSE: 1.7259, Validation MAE: 0.9362\n"
     ]
    },
    {
     "name": "stderr",
     "output_type": "stream",
     "text": [
      "Training Epoch 1212: 100%|██████████| 378/378 [00:10<00:00, 37.12it/s]\n",
      "Training Epoch 1213: 100%|██████████| 378/378 [00:10<00:00, 37.12it/s]\n",
      "Training Epoch 1214: 100%|██████████| 378/378 [00:10<00:00, 37.15it/s]\n",
      "Training Epoch 1215: 100%|██████████| 378/378 [00:10<00:00, 37.25it/s]\n",
      "Training Epoch 1216: 100%|██████████| 378/378 [00:10<00:00, 37.22it/s]\n",
      "Training Epoch 1217: 100%|██████████| 378/378 [00:10<00:00, 36.99it/s]\n",
      "Training Epoch 1218: 100%|██████████| 378/378 [00:10<00:00, 37.11it/s]\n",
      "Training Epoch 1219: 100%|██████████| 378/378 [00:10<00:00, 37.24it/s]\n",
      "Training Epoch 1220: 100%|██████████| 378/378 [00:10<00:00, 37.12it/s]\n",
      "Training Epoch 1221: 100%|██████████| 378/378 [00:10<00:00, 37.14it/s]\n"
     ]
    },
    {
     "name": "stdout",
     "output_type": "stream",
     "text": [
      "Epoch 1220 - Train Loss: 0.5104, Train MSE: 0.5101, Train MAE: 0.4990\n",
      "Epoch 1220 - Validation Loss: 1.6903, Validation MSE: 1.6943, Validation MAE: 0.9355\n"
     ]
    },
    {
     "name": "stderr",
     "output_type": "stream",
     "text": [
      "Training Epoch 1222: 100%|██████████| 378/378 [00:10<00:00, 36.91it/s]\n",
      "Training Epoch 1223: 100%|██████████| 378/378 [00:10<00:00, 37.02it/s]\n",
      "Training Epoch 1224: 100%|██████████| 378/378 [00:10<00:00, 37.07it/s]\n",
      "Training Epoch 1225: 100%|██████████| 378/378 [00:10<00:00, 37.20it/s]\n",
      "Training Epoch 1226: 100%|██████████| 378/378 [00:10<00:00, 37.12it/s]\n",
      "Training Epoch 1227: 100%|██████████| 378/378 [00:10<00:00, 37.11it/s]\n",
      "Training Epoch 1228: 100%|██████████| 378/378 [00:10<00:00, 37.16it/s]\n",
      "Training Epoch 1229: 100%|██████████| 378/378 [00:10<00:00, 37.11it/s]\n",
      "Training Epoch 1230: 100%|██████████| 378/378 [00:10<00:00, 37.19it/s]\n",
      "Training Epoch 1231: 100%|██████████| 378/378 [00:10<00:00, 37.27it/s]\n"
     ]
    },
    {
     "name": "stdout",
     "output_type": "stream",
     "text": [
      "Epoch 1230 - Train Loss: 0.5074, Train MSE: 0.5059, Train MAE: 0.4958\n",
      "Epoch 1230 - Validation Loss: 1.7066, Validation MSE: 1.7101, Validation MAE: 0.9244\n"
     ]
    },
    {
     "name": "stderr",
     "output_type": "stream",
     "text": [
      "Training Epoch 1232: 100%|██████████| 378/378 [00:10<00:00, 37.26it/s]\n",
      "Training Epoch 1233: 100%|██████████| 378/378 [00:10<00:00, 37.05it/s]\n",
      "Training Epoch 1234: 100%|██████████| 378/378 [00:10<00:00, 37.15it/s]\n",
      "Training Epoch 1235: 100%|██████████| 378/378 [00:10<00:00, 37.12it/s]\n",
      "Training Epoch 1236: 100%|██████████| 378/378 [00:10<00:00, 37.17it/s]\n",
      "Training Epoch 1237: 100%|██████████| 378/378 [00:10<00:00, 37.08it/s]\n",
      "Training Epoch 1238: 100%|██████████| 378/378 [00:10<00:00, 37.14it/s]\n",
      "Training Epoch 1239: 100%|██████████| 378/378 [00:10<00:00, 37.02it/s]\n",
      "Training Epoch 1240: 100%|██████████| 378/378 [00:10<00:00, 37.09it/s]\n",
      "Training Epoch 1241: 100%|██████████| 378/378 [00:10<00:00, 37.25it/s]\n"
     ]
    },
    {
     "name": "stdout",
     "output_type": "stream",
     "text": [
      "Epoch 1240 - Train Loss: 0.5071, Train MSE: 0.5072, Train MAE: 0.4973\n",
      "Epoch 1240 - Validation Loss: 1.7000, Validation MSE: 1.7038, Validation MAE: 0.9199\n"
     ]
    },
    {
     "name": "stderr",
     "output_type": "stream",
     "text": [
      "Training Epoch 1242: 100%|██████████| 378/378 [00:10<00:00, 37.22it/s]\n",
      "Training Epoch 1243: 100%|██████████| 378/378 [00:10<00:00, 37.13it/s]\n",
      "Training Epoch 1244: 100%|██████████| 378/378 [00:10<00:00, 37.32it/s]\n",
      "Training Epoch 1245: 100%|██████████| 378/378 [00:10<00:00, 37.16it/s]\n",
      "Training Epoch 1246: 100%|██████████| 378/378 [00:10<00:00, 37.23it/s]\n",
      "Training Epoch 1247: 100%|██████████| 378/378 [00:10<00:00, 37.24it/s]\n",
      "Training Epoch 1248: 100%|██████████| 378/378 [00:10<00:00, 37.22it/s]\n",
      "Training Epoch 1249: 100%|██████████| 378/378 [00:10<00:00, 37.24it/s]\n",
      "Training Epoch 1250: 100%|██████████| 378/378 [00:10<00:00, 37.21it/s]\n",
      "Training Epoch 1251: 100%|██████████| 378/378 [00:10<00:00, 37.19it/s]\n"
     ]
    },
    {
     "name": "stdout",
     "output_type": "stream",
     "text": [
      "Epoch 1250 - Train Loss: 0.5152, Train MSE: 0.5152, Train MAE: 0.5039\n",
      "Epoch 1250 - Validation Loss: 1.6735, Validation MSE: 1.6774, Validation MAE: 0.9229\n"
     ]
    },
    {
     "name": "stderr",
     "output_type": "stream",
     "text": [
      "Training Epoch 1252: 100%|██████████| 378/378 [00:10<00:00, 37.19it/s]\n",
      "Training Epoch 1253: 100%|██████████| 378/378 [00:10<00:00, 37.29it/s]\n",
      "Training Epoch 1254: 100%|██████████| 378/378 [00:10<00:00, 37.24it/s]\n",
      "Training Epoch 1255: 100%|██████████| 378/378 [00:10<00:00, 37.20it/s]\n",
      "Training Epoch 1256: 100%|██████████| 378/378 [00:10<00:00, 37.34it/s]\n",
      "Training Epoch 1257: 100%|██████████| 378/378 [00:10<00:00, 37.25it/s]\n",
      "Training Epoch 1258: 100%|██████████| 378/378 [00:10<00:00, 37.11it/s]\n",
      "Training Epoch 1259: 100%|██████████| 378/378 [00:10<00:00, 37.21it/s]\n",
      "Training Epoch 1260: 100%|██████████| 378/378 [00:10<00:00, 37.39it/s]\n",
      "Training Epoch 1261: 100%|██████████| 378/378 [00:10<00:00, 37.12it/s]\n"
     ]
    },
    {
     "name": "stdout",
     "output_type": "stream",
     "text": [
      "Epoch 1260 - Train Loss: 0.5047, Train MSE: 0.5048, Train MAE: 0.4941\n",
      "Epoch 1260 - Validation Loss: 1.6908, Validation MSE: 1.6947, Validation MAE: 0.9147\n"
     ]
    },
    {
     "name": "stderr",
     "output_type": "stream",
     "text": [
      "Training Epoch 1262: 100%|██████████| 378/378 [00:10<00:00, 37.18it/s]\n",
      "Training Epoch 1263: 100%|██████████| 378/378 [00:10<00:00, 37.16it/s]\n",
      "Training Epoch 1264: 100%|██████████| 378/378 [00:10<00:00, 37.28it/s]\n",
      "Training Epoch 1265: 100%|██████████| 378/378 [00:10<00:00, 37.38it/s]\n",
      "Training Epoch 1266: 100%|██████████| 378/378 [00:10<00:00, 37.33it/s]\n",
      "Training Epoch 1267: 100%|██████████| 378/378 [00:10<00:00, 37.06it/s]\n",
      "Training Epoch 1268: 100%|██████████| 378/378 [00:10<00:00, 37.11it/s]\n",
      "Training Epoch 1269: 100%|██████████| 378/378 [00:10<00:00, 37.14it/s]\n",
      "Training Epoch 1270: 100%|██████████| 378/378 [00:10<00:00, 37.17it/s]\n",
      "Training Epoch 1271: 100%|██████████| 378/378 [00:10<00:00, 37.22it/s]\n"
     ]
    },
    {
     "name": "stdout",
     "output_type": "stream",
     "text": [
      "Epoch 1270 - Train Loss: 0.5032, Train MSE: 0.5033, Train MAE: 0.4955\n",
      "Epoch 1270 - Validation Loss: 1.7209, Validation MSE: 1.7249, Validation MAE: 0.9340\n"
     ]
    },
    {
     "name": "stderr",
     "output_type": "stream",
     "text": [
      "Training Epoch 1272: 100%|██████████| 378/378 [00:10<00:00, 37.25it/s]\n",
      "Training Epoch 1273: 100%|██████████| 378/378 [00:10<00:00, 37.29it/s]\n",
      "Training Epoch 1274: 100%|██████████| 378/378 [00:10<00:00, 37.28it/s]\n",
      "Training Epoch 1275: 100%|██████████| 378/378 [00:10<00:00, 37.34it/s]\n",
      "Training Epoch 1276: 100%|██████████| 378/378 [00:10<00:00, 37.23it/s]\n",
      "Training Epoch 1277: 100%|██████████| 378/378 [00:10<00:00, 37.21it/s]\n",
      "Training Epoch 1278: 100%|██████████| 378/378 [00:10<00:00, 37.22it/s]\n",
      "Training Epoch 1279: 100%|██████████| 378/378 [00:10<00:00, 37.17it/s]\n",
      "Training Epoch 1280: 100%|██████████| 378/378 [00:10<00:00, 36.95it/s]\n",
      "Training Epoch 1281: 100%|██████████| 378/378 [00:10<00:00, 37.27it/s]\n"
     ]
    },
    {
     "name": "stdout",
     "output_type": "stream",
     "text": [
      "Epoch 1280 - Train Loss: 0.4960, Train MSE: 0.4962, Train MAE: 0.4938\n",
      "Epoch 1280 - Validation Loss: 1.6664, Validation MSE: 1.6700, Validation MAE: 0.9185\n"
     ]
    },
    {
     "name": "stderr",
     "output_type": "stream",
     "text": [
      "Training Epoch 1282: 100%|██████████| 378/378 [00:10<00:00, 37.22it/s]\n",
      "Training Epoch 1283: 100%|██████████| 378/378 [00:10<00:00, 37.18it/s]\n",
      "Training Epoch 1284: 100%|██████████| 378/378 [00:10<00:00, 37.24it/s]\n",
      "Training Epoch 1285: 100%|██████████| 378/378 [00:10<00:00, 37.22it/s]\n",
      "Training Epoch 1286: 100%|██████████| 378/378 [00:10<00:00, 37.19it/s]\n",
      "Training Epoch 1287: 100%|██████████| 378/378 [00:10<00:00, 37.18it/s]\n",
      "Training Epoch 1288: 100%|██████████| 378/378 [00:10<00:00, 37.06it/s]\n",
      "Training Epoch 1289: 100%|██████████| 378/378 [00:10<00:00, 37.14it/s]\n",
      "Training Epoch 1290: 100%|██████████| 378/378 [00:10<00:00, 37.26it/s]\n",
      "Training Epoch 1291: 100%|██████████| 378/378 [00:10<00:00, 37.34it/s]\n"
     ]
    },
    {
     "name": "stdout",
     "output_type": "stream",
     "text": [
      "Epoch 1290 - Train Loss: 0.5045, Train MSE: 0.5043, Train MAE: 0.4974\n",
      "Epoch 1290 - Validation Loss: 1.7094, Validation MSE: 1.7130, Validation MAE: 0.9187\n"
     ]
    },
    {
     "name": "stderr",
     "output_type": "stream",
     "text": [
      "Training Epoch 1292: 100%|██████████| 378/378 [00:10<00:00, 37.39it/s]\n",
      "Training Epoch 1293: 100%|██████████| 378/378 [00:10<00:00, 37.09it/s]\n",
      "Training Epoch 1294: 100%|██████████| 378/378 [00:10<00:00, 37.19it/s]\n",
      "Training Epoch 1295: 100%|██████████| 378/378 [00:10<00:00, 37.23it/s]\n",
      "Training Epoch 1296: 100%|██████████| 378/378 [00:10<00:00, 37.18it/s]\n",
      "Training Epoch 1297: 100%|██████████| 378/378 [00:10<00:00, 37.08it/s]\n",
      "Training Epoch 1298: 100%|██████████| 378/378 [00:10<00:00, 37.12it/s]\n",
      "Training Epoch 1299: 100%|██████████| 378/378 [00:10<00:00, 36.96it/s]\n",
      "Training Epoch 1300: 100%|██████████| 378/378 [00:10<00:00, 37.21it/s]\n",
      "Training Epoch 1301: 100%|██████████| 378/378 [00:10<00:00, 37.24it/s]\n"
     ]
    },
    {
     "name": "stdout",
     "output_type": "stream",
     "text": [
      "Epoch 1300 - Train Loss: 0.5063, Train MSE: 0.5064, Train MAE: 0.4953\n",
      "Epoch 1300 - Validation Loss: 1.6492, Validation MSE: 1.6521, Validation MAE: 0.9168\n"
     ]
    },
    {
     "name": "stderr",
     "output_type": "stream",
     "text": [
      "Training Epoch 1302: 100%|██████████| 378/378 [00:10<00:00, 37.10it/s]\n",
      "Training Epoch 1303: 100%|██████████| 378/378 [00:10<00:00, 37.18it/s]\n",
      "Training Epoch 1304: 100%|██████████| 378/378 [00:10<00:00, 37.27it/s]\n",
      "Training Epoch 1305: 100%|██████████| 378/378 [00:10<00:00, 37.16it/s]\n",
      "Training Epoch 1306: 100%|██████████| 378/378 [00:10<00:00, 37.26it/s]\n",
      "Training Epoch 1307: 100%|██████████| 378/378 [00:10<00:00, 37.28it/s]\n",
      "Training Epoch 1308: 100%|██████████| 378/378 [00:10<00:00, 37.35it/s]\n",
      "Training Epoch 1309: 100%|██████████| 378/378 [00:10<00:00, 37.56it/s]\n",
      "Training Epoch 1310: 100%|██████████| 378/378 [00:10<00:00, 37.52it/s]\n",
      "Training Epoch 1311: 100%|██████████| 378/378 [00:10<00:00, 37.32it/s]\n"
     ]
    },
    {
     "name": "stdout",
     "output_type": "stream",
     "text": [
      "Epoch 1310 - Train Loss: 0.5047, Train MSE: 0.5050, Train MAE: 0.4951\n",
      "Epoch 1310 - Validation Loss: 1.7176, Validation MSE: 1.7211, Validation MAE: 0.9228\n"
     ]
    },
    {
     "name": "stderr",
     "output_type": "stream",
     "text": [
      "Training Epoch 1312: 100%|██████████| 378/378 [00:10<00:00, 37.37it/s]\n",
      "Training Epoch 1313: 100%|██████████| 378/378 [00:10<00:00, 37.45it/s]\n",
      "Training Epoch 1314: 100%|██████████| 378/378 [00:10<00:00, 37.45it/s]\n",
      "Training Epoch 1315: 100%|██████████| 378/378 [00:10<00:00, 37.32it/s]\n",
      "Training Epoch 1316: 100%|██████████| 378/378 [00:10<00:00, 37.38it/s]\n",
      "Training Epoch 1317: 100%|██████████| 378/378 [00:10<00:00, 37.37it/s]\n",
      "Training Epoch 1318: 100%|██████████| 378/378 [00:10<00:00, 37.46it/s]\n",
      "Training Epoch 1319: 100%|██████████| 378/378 [00:10<00:00, 37.51it/s]\n",
      "Training Epoch 1320: 100%|██████████| 378/378 [00:10<00:00, 37.43it/s]\n",
      "Training Epoch 1321: 100%|██████████| 378/378 [00:10<00:00, 37.47it/s]\n"
     ]
    },
    {
     "name": "stdout",
     "output_type": "stream",
     "text": [
      "Epoch 1320 - Train Loss: 0.5044, Train MSE: 0.5046, Train MAE: 0.4990\n",
      "Epoch 1320 - Validation Loss: 1.6924, Validation MSE: 1.6961, Validation MAE: 0.9155\n"
     ]
    },
    {
     "name": "stderr",
     "output_type": "stream",
     "text": [
      "Training Epoch 1322: 100%|██████████| 378/378 [00:10<00:00, 37.37it/s]\n",
      "Training Epoch 1323: 100%|██████████| 378/378 [00:10<00:00, 37.53it/s]\n",
      "Training Epoch 1324: 100%|██████████| 378/378 [00:10<00:00, 37.42it/s]\n",
      "Training Epoch 1325: 100%|██████████| 378/378 [00:10<00:00, 37.51it/s]\n",
      "Training Epoch 1326: 100%|██████████| 378/378 [00:10<00:00, 37.33it/s]\n",
      "Training Epoch 1327: 100%|██████████| 378/378 [00:10<00:00, 37.41it/s]\n",
      "Training Epoch 1328: 100%|██████████| 378/378 [00:10<00:00, 37.43it/s]\n",
      "Training Epoch 1329: 100%|██████████| 378/378 [00:10<00:00, 37.42it/s]\n",
      "Training Epoch 1330: 100%|██████████| 378/378 [00:10<00:00, 37.38it/s]\n",
      "Training Epoch 1331: 100%|██████████| 378/378 [00:10<00:00, 37.33it/s]\n"
     ]
    },
    {
     "name": "stdout",
     "output_type": "stream",
     "text": [
      "Epoch 1330 - Train Loss: 0.4952, Train MSE: 0.4954, Train MAE: 0.4904\n",
      "Epoch 1330 - Validation Loss: 1.7577, Validation MSE: 1.7622, Validation MAE: 0.9535\n"
     ]
    },
    {
     "name": "stderr",
     "output_type": "stream",
     "text": [
      "Training Epoch 1332: 100%|██████████| 378/378 [00:10<00:00, 37.38it/s]\n",
      "Training Epoch 1333: 100%|██████████| 378/378 [00:10<00:00, 37.42it/s]\n",
      "Training Epoch 1334: 100%|██████████| 378/378 [00:10<00:00, 37.33it/s]\n",
      "Training Epoch 1335: 100%|██████████| 378/378 [00:10<00:00, 37.41it/s]\n",
      "Training Epoch 1336: 100%|██████████| 378/378 [00:10<00:00, 37.38it/s]\n",
      "Training Epoch 1337: 100%|██████████| 378/378 [00:10<00:00, 37.30it/s]\n",
      "Training Epoch 1338: 100%|██████████| 378/378 [00:10<00:00, 37.39it/s]\n",
      "Training Epoch 1339: 100%|██████████| 378/378 [00:10<00:00, 37.37it/s]\n",
      "Training Epoch 1340: 100%|██████████| 378/378 [00:10<00:00, 37.30it/s]\n",
      "Training Epoch 1341: 100%|██████████| 378/378 [00:10<00:00, 37.41it/s]\n"
     ]
    },
    {
     "name": "stdout",
     "output_type": "stream",
     "text": [
      "Epoch 1340 - Train Loss: 0.5037, Train MSE: 0.5039, Train MAE: 0.4962\n",
      "Epoch 1340 - Validation Loss: 1.6889, Validation MSE: 1.6925, Validation MAE: 0.9221\n"
     ]
    },
    {
     "name": "stderr",
     "output_type": "stream",
     "text": [
      "Training Epoch 1342: 100%|██████████| 378/378 [00:10<00:00, 37.37it/s]\n",
      "Training Epoch 1343: 100%|██████████| 378/378 [00:10<00:00, 37.40it/s]\n",
      "Training Epoch 1344: 100%|██████████| 378/378 [00:10<00:00, 37.26it/s]\n",
      "Training Epoch 1345: 100%|██████████| 378/378 [00:10<00:00, 37.32it/s]\n",
      "Training Epoch 1346: 100%|██████████| 378/378 [00:10<00:00, 37.52it/s]\n",
      "Training Epoch 1347: 100%|██████████| 378/378 [00:10<00:00, 37.34it/s]\n",
      "Training Epoch 1348: 100%|██████████| 378/378 [00:10<00:00, 37.40it/s]\n",
      "Training Epoch 1349: 100%|██████████| 378/378 [00:10<00:00, 37.20it/s]\n",
      "Training Epoch 1350: 100%|██████████| 378/378 [00:10<00:00, 37.27it/s]\n",
      "Training Epoch 1351: 100%|██████████| 378/378 [00:10<00:00, 37.23it/s]\n"
     ]
    },
    {
     "name": "stdout",
     "output_type": "stream",
     "text": [
      "Epoch 1350 - Train Loss: 0.4993, Train MSE: 0.4994, Train MAE: 0.4942\n",
      "Epoch 1350 - Validation Loss: 1.6649, Validation MSE: 1.6685, Validation MAE: 0.9131\n"
     ]
    },
    {
     "name": "stderr",
     "output_type": "stream",
     "text": [
      "Training Epoch 1352: 100%|██████████| 378/378 [00:10<00:00, 37.17it/s]\n",
      "Training Epoch 1353: 100%|██████████| 378/378 [00:10<00:00, 37.32it/s]\n",
      "Training Epoch 1354: 100%|██████████| 378/378 [00:10<00:00, 37.16it/s]\n",
      "Training Epoch 1355: 100%|██████████| 378/378 [00:10<00:00, 37.35it/s]\n",
      "Training Epoch 1356: 100%|██████████| 378/378 [00:10<00:00, 37.49it/s]\n",
      "Training Epoch 1357: 100%|██████████| 378/378 [00:10<00:00, 37.28it/s]\n",
      "Training Epoch 1358: 100%|██████████| 378/378 [00:10<00:00, 37.40it/s]\n",
      "Training Epoch 1359: 100%|██████████| 378/378 [00:10<00:00, 37.15it/s]\n",
      "Training Epoch 1360: 100%|██████████| 378/378 [00:10<00:00, 37.31it/s]\n",
      "Training Epoch 1361: 100%|██████████| 378/378 [00:10<00:00, 37.33it/s]\n"
     ]
    },
    {
     "name": "stdout",
     "output_type": "stream",
     "text": [
      "Epoch 1360 - Train Loss: 0.4997, Train MSE: 0.4993, Train MAE: 0.4959\n",
      "Epoch 1360 - Validation Loss: 1.7049, Validation MSE: 1.7088, Validation MAE: 0.9371\n"
     ]
    },
    {
     "name": "stderr",
     "output_type": "stream",
     "text": [
      "Training Epoch 1362: 100%|██████████| 378/378 [00:10<00:00, 37.34it/s]\n",
      "Training Epoch 1363: 100%|██████████| 378/378 [00:10<00:00, 37.21it/s]\n",
      "Training Epoch 1364: 100%|██████████| 378/378 [00:10<00:00, 37.61it/s]\n",
      "Training Epoch 1365: 100%|██████████| 378/378 [00:10<00:00, 37.46it/s]\n",
      "Training Epoch 1366: 100%|██████████| 378/378 [00:10<00:00, 37.38it/s]\n",
      "Training Epoch 1367: 100%|██████████| 378/378 [00:10<00:00, 37.45it/s]\n",
      "Training Epoch 1368: 100%|██████████| 378/378 [00:10<00:00, 37.63it/s]\n",
      "Training Epoch 1369: 100%|██████████| 378/378 [00:10<00:00, 37.33it/s]\n",
      "Training Epoch 1370: 100%|██████████| 378/378 [00:10<00:00, 37.38it/s]\n",
      "Training Epoch 1371: 100%|██████████| 378/378 [00:10<00:00, 37.42it/s]\n"
     ]
    },
    {
     "name": "stdout",
     "output_type": "stream",
     "text": [
      "Epoch 1370 - Train Loss: 0.4971, Train MSE: 0.4973, Train MAE: 0.4920\n",
      "Epoch 1370 - Validation Loss: 1.6781, Validation MSE: 1.6820, Validation MAE: 0.9262\n"
     ]
    },
    {
     "name": "stderr",
     "output_type": "stream",
     "text": [
      "Training Epoch 1372: 100%|██████████| 378/378 [00:10<00:00, 37.27it/s]\n",
      "Training Epoch 1373: 100%|██████████| 378/378 [00:10<00:00, 37.45it/s]\n",
      "Training Epoch 1374: 100%|██████████| 378/378 [00:10<00:00, 37.49it/s]\n",
      "Training Epoch 1375: 100%|██████████| 378/378 [00:10<00:00, 37.35it/s]\n",
      "Training Epoch 1376: 100%|██████████| 378/378 [00:10<00:00, 37.34it/s]\n",
      "Training Epoch 1377: 100%|██████████| 378/378 [00:10<00:00, 37.23it/s]\n",
      "Training Epoch 1378: 100%|██████████| 378/378 [00:10<00:00, 37.26it/s]\n",
      "Training Epoch 1379: 100%|██████████| 378/378 [00:10<00:00, 37.43it/s]\n",
      "Training Epoch 1380: 100%|██████████| 378/378 [00:10<00:00, 37.36it/s]\n",
      "Training Epoch 1381: 100%|██████████| 378/378 [00:10<00:00, 37.44it/s]\n"
     ]
    },
    {
     "name": "stdout",
     "output_type": "stream",
     "text": [
      "Epoch 1380 - Train Loss: 0.5087, Train MSE: 0.5078, Train MAE: 0.4987\n",
      "Epoch 1380 - Validation Loss: 1.6756, Validation MSE: 1.6789, Validation MAE: 0.9194\n"
     ]
    },
    {
     "name": "stderr",
     "output_type": "stream",
     "text": [
      "Training Epoch 1382: 100%|██████████| 378/378 [00:10<00:00, 37.46it/s]\n",
      "Training Epoch 1383: 100%|██████████| 378/378 [00:10<00:00, 37.45it/s]\n",
      "Training Epoch 1384: 100%|██████████| 378/378 [00:10<00:00, 37.44it/s]\n",
      "Training Epoch 1385: 100%|██████████| 378/378 [00:10<00:00, 37.18it/s]\n",
      "Training Epoch 1386: 100%|██████████| 378/378 [00:10<00:00, 37.43it/s]\n",
      "Training Epoch 1387: 100%|██████████| 378/378 [00:10<00:00, 37.37it/s]\n",
      "Training Epoch 1388: 100%|██████████| 378/378 [00:10<00:00, 37.31it/s]\n",
      "Training Epoch 1389: 100%|██████████| 378/378 [00:10<00:00, 37.28it/s]\n",
      "Training Epoch 1390: 100%|██████████| 378/378 [00:10<00:00, 37.24it/s]\n",
      "Training Epoch 1391: 100%|██████████| 378/378 [00:10<00:00, 37.03it/s]\n"
     ]
    },
    {
     "name": "stdout",
     "output_type": "stream",
     "text": [
      "Epoch 1390 - Train Loss: 0.4994, Train MSE: 0.4995, Train MAE: 0.4955\n",
      "Epoch 1390 - Validation Loss: 1.6840, Validation MSE: 1.6877, Validation MAE: 0.9189\n"
     ]
    },
    {
     "name": "stderr",
     "output_type": "stream",
     "text": [
      "Training Epoch 1392: 100%|██████████| 378/378 [00:10<00:00, 37.23it/s]\n",
      "Training Epoch 1393: 100%|██████████| 378/378 [00:10<00:00, 37.20it/s]\n",
      "Training Epoch 1394: 100%|██████████| 378/378 [00:10<00:00, 37.30it/s]\n",
      "Training Epoch 1395: 100%|██████████| 378/378 [00:10<00:00, 37.35it/s]\n",
      "Training Epoch 1396: 100%|██████████| 378/378 [00:10<00:00, 37.24it/s]\n",
      "Training Epoch 1397: 100%|██████████| 378/378 [00:10<00:00, 37.17it/s]\n",
      "Training Epoch 1398: 100%|██████████| 378/378 [00:10<00:00, 37.20it/s]\n",
      "Training Epoch 1399: 100%|██████████| 378/378 [00:10<00:00, 37.22it/s]\n",
      "Training Epoch 1400: 100%|██████████| 378/378 [00:10<00:00, 37.30it/s]\n",
      "Training Epoch 1401: 100%|██████████| 378/378 [00:10<00:00, 37.29it/s]\n"
     ]
    },
    {
     "name": "stdout",
     "output_type": "stream",
     "text": [
      "Epoch 1400 - Train Loss: 0.5022, Train MSE: 0.5024, Train MAE: 0.4963\n",
      "Epoch 1400 - Validation Loss: 1.6726, Validation MSE: 1.6763, Validation MAE: 0.9167\n"
     ]
    },
    {
     "name": "stderr",
     "output_type": "stream",
     "text": [
      "Training Epoch 1402: 100%|██████████| 378/378 [00:10<00:00, 37.20it/s]\n",
      "Training Epoch 1403: 100%|██████████| 378/378 [00:10<00:00, 37.14it/s]\n",
      "Training Epoch 1404: 100%|██████████| 378/378 [00:10<00:00, 37.10it/s]\n",
      "Training Epoch 1405: 100%|██████████| 378/378 [00:10<00:00, 37.36it/s]\n",
      "Training Epoch 1406: 100%|██████████| 378/378 [00:10<00:00, 37.22it/s]\n",
      "Training Epoch 1407: 100%|██████████| 378/378 [00:10<00:00, 37.12it/s]\n",
      "Training Epoch 1408: 100%|██████████| 378/378 [00:10<00:00, 37.23it/s]\n",
      "Training Epoch 1409: 100%|██████████| 378/378 [00:10<00:00, 37.30it/s]\n",
      "Training Epoch 1410: 100%|██████████| 378/378 [00:10<00:00, 37.17it/s]\n",
      "Training Epoch 1411: 100%|██████████| 378/378 [00:10<00:00, 37.18it/s]\n"
     ]
    },
    {
     "name": "stdout",
     "output_type": "stream",
     "text": [
      "Epoch 1410 - Train Loss: 0.4993, Train MSE: 0.4991, Train MAE: 0.4953\n",
      "Epoch 1410 - Validation Loss: 1.7159, Validation MSE: 1.7197, Validation MAE: 0.9223\n"
     ]
    },
    {
     "name": "stderr",
     "output_type": "stream",
     "text": [
      "Training Epoch 1412: 100%|██████████| 378/378 [00:10<00:00, 37.30it/s]\n",
      "Training Epoch 1413: 100%|██████████| 378/378 [00:10<00:00, 37.17it/s]\n",
      "Training Epoch 1414: 100%|██████████| 378/378 [00:10<00:00, 37.18it/s]\n",
      "Training Epoch 1415: 100%|██████████| 378/378 [00:10<00:00, 37.28it/s]\n",
      "Training Epoch 1416: 100%|██████████| 378/378 [00:10<00:00, 37.19it/s]\n",
      "Training Epoch 1417: 100%|██████████| 378/378 [00:10<00:00, 37.24it/s]\n",
      "Training Epoch 1418: 100%|██████████| 378/378 [00:10<00:00, 37.11it/s]\n",
      "Training Epoch 1419: 100%|██████████| 378/378 [00:10<00:00, 37.12it/s]\n",
      "Training Epoch 1420: 100%|██████████| 378/378 [00:10<00:00, 37.26it/s]\n",
      "Training Epoch 1421: 100%|██████████| 378/378 [00:10<00:00, 37.25it/s]\n"
     ]
    },
    {
     "name": "stdout",
     "output_type": "stream",
     "text": [
      "Epoch 1420 - Train Loss: 0.4986, Train MSE: 0.4983, Train MAE: 0.4930\n",
      "Epoch 1420 - Validation Loss: 1.6559, Validation MSE: 1.6594, Validation MAE: 0.9179\n"
     ]
    },
    {
     "name": "stderr",
     "output_type": "stream",
     "text": [
      "Training Epoch 1422: 100%|██████████| 378/378 [00:10<00:00, 37.19it/s]\n",
      "Training Epoch 1423: 100%|██████████| 378/378 [00:10<00:00, 37.28it/s]\n",
      "Training Epoch 1424: 100%|██████████| 378/378 [00:10<00:00, 35.92it/s]\n",
      "Training Epoch 1425: 100%|██████████| 378/378 [00:10<00:00, 37.66it/s]\n",
      "Training Epoch 1426: 100%|██████████| 378/378 [00:10<00:00, 37.69it/s]\n",
      "Training Epoch 1427: 100%|██████████| 378/378 [00:10<00:00, 37.68it/s]\n",
      "Training Epoch 1428: 100%|██████████| 378/378 [00:10<00:00, 37.60it/s]\n",
      "Training Epoch 1429: 100%|██████████| 378/378 [00:10<00:00, 37.58it/s]\n",
      "Training Epoch 1430: 100%|██████████| 378/378 [00:10<00:00, 37.61it/s]\n",
      "Training Epoch 1431: 100%|██████████| 378/378 [00:10<00:00, 37.68it/s]\n"
     ]
    },
    {
     "name": "stdout",
     "output_type": "stream",
     "text": [
      "Epoch 1430 - Train Loss: 0.5027, Train MSE: 0.5026, Train MAE: 0.4952\n",
      "Epoch 1430 - Validation Loss: 1.6718, Validation MSE: 1.6752, Validation MAE: 0.9132\n"
     ]
    },
    {
     "name": "stderr",
     "output_type": "stream",
     "text": [
      "Training Epoch 1432: 100%|██████████| 378/378 [00:10<00:00, 37.58it/s]\n",
      "Training Epoch 1433: 100%|██████████| 378/378 [00:10<00:00, 37.37it/s]\n",
      "Training Epoch 1434: 100%|██████████| 378/378 [00:10<00:00, 37.47it/s]\n",
      "Training Epoch 1435: 100%|██████████| 378/378 [00:10<00:00, 37.35it/s]\n",
      "Training Epoch 1436: 100%|██████████| 378/378 [00:10<00:00, 37.35it/s]\n",
      "Training Epoch 1437: 100%|██████████| 378/378 [00:10<00:00, 37.47it/s]\n",
      "Training Epoch 1438: 100%|██████████| 378/378 [00:10<00:00, 37.42it/s]\n",
      "Training Epoch 1439: 100%|██████████| 378/378 [00:10<00:00, 37.44it/s]\n",
      "Training Epoch 1440: 100%|██████████| 378/378 [00:10<00:00, 37.52it/s]\n",
      "Training Epoch 1441: 100%|██████████| 378/378 [00:10<00:00, 37.35it/s]\n"
     ]
    },
    {
     "name": "stdout",
     "output_type": "stream",
     "text": [
      "Epoch 1440 - Train Loss: 0.4921, Train MSE: 0.4923, Train MAE: 0.4924\n",
      "Epoch 1440 - Validation Loss: 1.7237, Validation MSE: 1.7274, Validation MAE: 0.9284\n"
     ]
    },
    {
     "name": "stderr",
     "output_type": "stream",
     "text": [
      "Training Epoch 1442: 100%|██████████| 378/378 [00:10<00:00, 37.26it/s]\n",
      "Training Epoch 1443: 100%|██████████| 378/378 [00:10<00:00, 37.44it/s]\n",
      "Training Epoch 1444: 100%|██████████| 378/378 [00:10<00:00, 37.57it/s]\n",
      "Training Epoch 1445: 100%|██████████| 378/378 [00:10<00:00, 37.36it/s]\n",
      "Training Epoch 1446: 100%|██████████| 378/378 [00:10<00:00, 37.30it/s]\n",
      "Training Epoch 1447: 100%|██████████| 378/378 [00:10<00:00, 37.38it/s]\n",
      "Training Epoch 1448: 100%|██████████| 378/378 [00:10<00:00, 37.34it/s]\n",
      "Training Epoch 1449: 100%|██████████| 378/378 [00:10<00:00, 37.43it/s]\n",
      "Training Epoch 1450: 100%|██████████| 378/378 [00:10<00:00, 37.27it/s]\n",
      "Training Epoch 1451: 100%|██████████| 378/378 [00:10<00:00, 37.18it/s]\n"
     ]
    },
    {
     "name": "stdout",
     "output_type": "stream",
     "text": [
      "Epoch 1450 - Train Loss: 0.4903, Train MSE: 0.4905, Train MAE: 0.4896\n",
      "Epoch 1450 - Validation Loss: 1.7123, Validation MSE: 1.7164, Validation MAE: 0.9274\n"
     ]
    },
    {
     "name": "stderr",
     "output_type": "stream",
     "text": [
      "Training Epoch 1452: 100%|██████████| 378/378 [00:10<00:00, 37.38it/s]\n",
      "Training Epoch 1453: 100%|██████████| 378/378 [00:10<00:00, 37.51it/s]\n",
      "Training Epoch 1454: 100%|██████████| 378/378 [00:10<00:00, 37.24it/s]\n",
      "Training Epoch 1455: 100%|██████████| 378/378 [00:10<00:00, 37.34it/s]\n",
      "Training Epoch 1456: 100%|██████████| 378/378 [00:10<00:00, 37.38it/s]\n",
      "Training Epoch 1457: 100%|██████████| 378/378 [00:10<00:00, 37.36it/s]\n",
      "Training Epoch 1458: 100%|██████████| 378/378 [00:10<00:00, 37.39it/s]\n",
      "Training Epoch 1459: 100%|██████████| 378/378 [00:10<00:00, 37.24it/s]\n",
      "Training Epoch 1460: 100%|██████████| 378/378 [00:10<00:00, 37.22it/s]\n",
      "Training Epoch 1461: 100%|██████████| 378/378 [00:10<00:00, 37.25it/s]\n"
     ]
    },
    {
     "name": "stdout",
     "output_type": "stream",
     "text": [
      "Epoch 1460 - Train Loss: 0.4964, Train MSE: 0.4966, Train MAE: 0.4924\n",
      "Epoch 1460 - Validation Loss: 1.7094, Validation MSE: 1.7137, Validation MAE: 0.9253\n"
     ]
    },
    {
     "name": "stderr",
     "output_type": "stream",
     "text": [
      "Training Epoch 1462: 100%|██████████| 378/378 [00:10<00:00, 37.20it/s]\n",
      "Training Epoch 1463: 100%|██████████| 378/378 [00:10<00:00, 37.38it/s]\n",
      "Training Epoch 1464: 100%|██████████| 378/378 [00:10<00:00, 37.20it/s]\n",
      "Training Epoch 1465: 100%|██████████| 378/378 [00:10<00:00, 37.22it/s]\n",
      "Training Epoch 1466: 100%|██████████| 378/378 [00:10<00:00, 37.26it/s]\n",
      "Training Epoch 1467: 100%|██████████| 378/378 [00:10<00:00, 37.30it/s]\n",
      "Training Epoch 1468: 100%|██████████| 378/378 [00:10<00:00, 37.43it/s]\n",
      "Training Epoch 1469: 100%|██████████| 378/378 [00:10<00:00, 37.06it/s]\n",
      "Training Epoch 1470: 100%|██████████| 378/378 [00:10<00:00, 37.30it/s]\n",
      "Training Epoch 1471: 100%|██████████| 378/378 [00:10<00:00, 37.31it/s]\n"
     ]
    },
    {
     "name": "stdout",
     "output_type": "stream",
     "text": [
      "Epoch 1470 - Train Loss: 0.4802, Train MSE: 0.4804, Train MAE: 0.4828\n",
      "Epoch 1470 - Validation Loss: 1.7080, Validation MSE: 1.7122, Validation MAE: 0.9217\n"
     ]
    },
    {
     "name": "stderr",
     "output_type": "stream",
     "text": [
      "Training Epoch 1472: 100%|██████████| 378/378 [00:10<00:00, 37.41it/s]\n",
      "Training Epoch 1473: 100%|██████████| 378/378 [00:10<00:00, 37.17it/s]\n",
      "Training Epoch 1474: 100%|██████████| 378/378 [00:10<00:00, 37.43it/s]\n",
      "Training Epoch 1475: 100%|██████████| 378/378 [00:10<00:00, 37.34it/s]\n",
      "Training Epoch 1476: 100%|██████████| 378/378 [00:10<00:00, 37.42it/s]\n",
      "Training Epoch 1477: 100%|██████████| 378/378 [00:10<00:00, 37.37it/s]\n",
      "Training Epoch 1478: 100%|██████████| 378/378 [00:10<00:00, 37.34it/s]\n",
      "Training Epoch 1479: 100%|██████████| 378/378 [00:10<00:00, 37.30it/s]\n",
      "Training Epoch 1480: 100%|██████████| 378/378 [00:10<00:00, 37.56it/s]\n",
      "Training Epoch 1481: 100%|██████████| 378/378 [00:10<00:00, 37.41it/s]\n"
     ]
    },
    {
     "name": "stdout",
     "output_type": "stream",
     "text": [
      "Epoch 1480 - Train Loss: 0.4945, Train MSE: 0.4943, Train MAE: 0.4904\n",
      "Epoch 1480 - Validation Loss: 1.6802, Validation MSE: 1.6839, Validation MAE: 0.9374\n"
     ]
    },
    {
     "name": "stderr",
     "output_type": "stream",
     "text": [
      "Training Epoch 1482: 100%|██████████| 378/378 [00:10<00:00, 37.31it/s]\n",
      "Training Epoch 1483: 100%|██████████| 378/378 [00:10<00:00, 37.24it/s]\n",
      "Training Epoch 1484: 100%|██████████| 378/378 [00:10<00:00, 37.29it/s]\n",
      "Training Epoch 1485: 100%|██████████| 378/378 [00:10<00:00, 37.17it/s]\n",
      "Training Epoch 1486: 100%|██████████| 378/378 [00:10<00:00, 37.29it/s]\n",
      "Training Epoch 1487: 100%|██████████| 378/378 [00:10<00:00, 37.38it/s]\n",
      "Training Epoch 1488: 100%|██████████| 378/378 [00:10<00:00, 37.32it/s]\n",
      "Training Epoch 1489: 100%|██████████| 378/378 [00:10<00:00, 37.24it/s]\n",
      "Training Epoch 1490: 100%|██████████| 378/378 [00:10<00:00, 37.30it/s]\n",
      "Training Epoch 1491: 100%|██████████| 378/378 [00:10<00:00, 37.25it/s]\n"
     ]
    },
    {
     "name": "stdout",
     "output_type": "stream",
     "text": [
      "Epoch 1490 - Train Loss: 0.4920, Train MSE: 0.4923, Train MAE: 0.4897\n",
      "Epoch 1490 - Validation Loss: 1.7047, Validation MSE: 1.7088, Validation MAE: 0.9215\n"
     ]
    },
    {
     "name": "stderr",
     "output_type": "stream",
     "text": [
      "Training Epoch 1492: 100%|██████████| 378/378 [00:10<00:00, 37.24it/s]\n",
      "Training Epoch 1493: 100%|██████████| 378/378 [00:10<00:00, 37.32it/s]\n",
      "Training Epoch 1494: 100%|██████████| 378/378 [00:10<00:00, 37.19it/s]\n",
      "Training Epoch 1495: 100%|██████████| 378/378 [00:10<00:00, 37.24it/s]\n",
      "Training Epoch 1496: 100%|██████████| 378/378 [00:10<00:00, 37.10it/s]\n",
      "Training Epoch 1497: 100%|██████████| 378/378 [00:10<00:00, 37.28it/s]\n",
      "Training Epoch 1498: 100%|██████████| 378/378 [00:10<00:00, 37.23it/s]\n",
      "Training Epoch 1499: 100%|██████████| 378/378 [00:10<00:00, 37.14it/s]\n",
      "Training Epoch 1500: 100%|██████████| 378/378 [00:10<00:00, 37.16it/s]\n",
      "Training Epoch 1501: 100%|██████████| 378/378 [00:10<00:00, 37.14it/s]\n"
     ]
    },
    {
     "name": "stdout",
     "output_type": "stream",
     "text": [
      "Epoch 1500 - Train Loss: 0.4947, Train MSE: 0.4936, Train MAE: 0.4900\n",
      "Epoch 1500 - Validation Loss: 1.7140, Validation MSE: 1.7179, Validation MAE: 0.9275\n"
     ]
    },
    {
     "name": "stderr",
     "output_type": "stream",
     "text": [
      "Training Epoch 1502: 100%|██████████| 378/378 [00:10<00:00, 37.08it/s]\n",
      "Training Epoch 1503: 100%|██████████| 378/378 [00:10<00:00, 37.18it/s]\n",
      "Training Epoch 1504: 100%|██████████| 378/378 [00:10<00:00, 37.26it/s]\n",
      "Training Epoch 1505: 100%|██████████| 378/378 [00:10<00:00, 37.27it/s]\n",
      "Training Epoch 1506: 100%|██████████| 378/378 [00:10<00:00, 37.36it/s]\n",
      "Training Epoch 1507: 100%|██████████| 378/378 [00:10<00:00, 37.27it/s]\n",
      "Training Epoch 1508: 100%|██████████| 378/378 [00:10<00:00, 37.26it/s]\n",
      "Training Epoch 1509: 100%|██████████| 378/378 [00:10<00:00, 37.32it/s]\n",
      "Training Epoch 1510: 100%|██████████| 378/378 [00:10<00:00, 37.35it/s]\n",
      "Training Epoch 1511: 100%|██████████| 378/378 [00:10<00:00, 37.03it/s]\n"
     ]
    },
    {
     "name": "stdout",
     "output_type": "stream",
     "text": [
      "Epoch 1510 - Train Loss: 0.4984, Train MSE: 0.4984, Train MAE: 0.4915\n",
      "Epoch 1510 - Validation Loss: 1.6816, Validation MSE: 1.6852, Validation MAE: 0.9197\n"
     ]
    },
    {
     "name": "stderr",
     "output_type": "stream",
     "text": [
      "Training Epoch 1512: 100%|██████████| 378/378 [00:10<00:00, 37.16it/s]\n",
      "Training Epoch 1513: 100%|██████████| 378/378 [00:10<00:00, 37.09it/s]\n",
      "Training Epoch 1514: 100%|██████████| 378/378 [00:10<00:00, 37.06it/s]\n",
      "Training Epoch 1515: 100%|██████████| 378/378 [00:10<00:00, 37.22it/s]\n",
      "Training Epoch 1516: 100%|██████████| 378/378 [00:10<00:00, 37.11it/s]\n",
      "Training Epoch 1517: 100%|██████████| 378/378 [00:10<00:00, 37.16it/s]\n",
      "Training Epoch 1518: 100%|██████████| 378/378 [00:10<00:00, 36.96it/s]\n",
      "Training Epoch 1519: 100%|██████████| 378/378 [00:10<00:00, 37.23it/s]\n",
      "Training Epoch 1520: 100%|██████████| 378/378 [00:10<00:00, 37.20it/s]\n",
      "Training Epoch 1521: 100%|██████████| 378/378 [00:10<00:00, 37.07it/s]\n"
     ]
    },
    {
     "name": "stdout",
     "output_type": "stream",
     "text": [
      "Epoch 1520 - Train Loss: 0.4939, Train MSE: 0.4941, Train MAE: 0.4904\n",
      "Epoch 1520 - Validation Loss: 1.7089, Validation MSE: 1.7125, Validation MAE: 0.9222\n"
     ]
    },
    {
     "name": "stderr",
     "output_type": "stream",
     "text": [
      "Training Epoch 1522: 100%|██████████| 378/378 [00:10<00:00, 37.13it/s]\n",
      "Training Epoch 1523: 100%|██████████| 378/378 [00:10<00:00, 37.02it/s]\n",
      "Training Epoch 1524: 100%|██████████| 378/378 [00:10<00:00, 37.07it/s]\n",
      "Training Epoch 1525: 100%|██████████| 378/378 [00:10<00:00, 37.07it/s]\n",
      "Training Epoch 1526: 100%|██████████| 378/378 [00:10<00:00, 37.07it/s]\n",
      "Training Epoch 1527: 100%|██████████| 378/378 [00:10<00:00, 37.11it/s]\n",
      "Training Epoch 1528: 100%|██████████| 378/378 [00:10<00:00, 37.09it/s]\n",
      "Training Epoch 1529: 100%|██████████| 378/378 [00:10<00:00, 37.05it/s]\n",
      "Training Epoch 1530: 100%|██████████| 378/378 [00:10<00:00, 37.08it/s]\n",
      "Training Epoch 1531: 100%|██████████| 378/378 [00:10<00:00, 37.13it/s]\n"
     ]
    },
    {
     "name": "stdout",
     "output_type": "stream",
     "text": [
      "Epoch 1530 - Train Loss: 0.4906, Train MSE: 0.4907, Train MAE: 0.4910\n",
      "Epoch 1530 - Validation Loss: 1.6911, Validation MSE: 1.6945, Validation MAE: 0.9238\n"
     ]
    },
    {
     "name": "stderr",
     "output_type": "stream",
     "text": [
      "Training Epoch 1532: 100%|██████████| 378/378 [00:10<00:00, 36.99it/s]\n",
      "Training Epoch 1533: 100%|██████████| 378/378 [00:10<00:00, 37.19it/s]\n",
      "Training Epoch 1534: 100%|██████████| 378/378 [00:10<00:00, 37.02it/s]\n",
      "Training Epoch 1535: 100%|██████████| 378/378 [00:10<00:00, 37.16it/s]\n",
      "Training Epoch 1536: 100%|██████████| 378/378 [00:10<00:00, 36.93it/s]\n",
      "Training Epoch 1537: 100%|██████████| 378/378 [00:10<00:00, 36.94it/s]\n",
      "Training Epoch 1538: 100%|██████████| 378/378 [00:10<00:00, 37.16it/s]\n",
      "Training Epoch 1539: 100%|██████████| 378/378 [00:10<00:00, 37.06it/s]\n",
      "Training Epoch 1540: 100%|██████████| 378/378 [00:10<00:00, 37.02it/s]\n",
      "Training Epoch 1541: 100%|██████████| 378/378 [00:10<00:00, 37.22it/s]\n"
     ]
    },
    {
     "name": "stdout",
     "output_type": "stream",
     "text": [
      "Epoch 1540 - Train Loss: 0.4931, Train MSE: 0.4931, Train MAE: 0.4898\n",
      "Epoch 1540 - Validation Loss: 1.7171, Validation MSE: 1.7208, Validation MAE: 0.9206\n"
     ]
    },
    {
     "name": "stderr",
     "output_type": "stream",
     "text": [
      "Training Epoch 1542: 100%|██████████| 378/378 [00:10<00:00, 37.04it/s]\n",
      "Training Epoch 1543: 100%|██████████| 378/378 [00:10<00:00, 37.04it/s]\n",
      "Training Epoch 1544: 100%|██████████| 378/378 [00:10<00:00, 37.08it/s]\n",
      "Training Epoch 1545: 100%|██████████| 378/378 [00:10<00:00, 37.05it/s]\n",
      "Training Epoch 1546: 100%|██████████| 378/378 [00:10<00:00, 37.25it/s]\n",
      "Training Epoch 1547: 100%|██████████| 378/378 [00:10<00:00, 36.97it/s]\n",
      "Training Epoch 1548: 100%|██████████| 378/378 [00:10<00:00, 37.25it/s]\n",
      "Training Epoch 1549: 100%|██████████| 378/378 [00:10<00:00, 37.20it/s]\n",
      "Training Epoch 1550: 100%|██████████| 378/378 [00:10<00:00, 37.17it/s]\n",
      "Training Epoch 1551: 100%|██████████| 378/378 [00:10<00:00, 37.16it/s]\n"
     ]
    },
    {
     "name": "stdout",
     "output_type": "stream",
     "text": [
      "Epoch 1550 - Train Loss: 0.4839, Train MSE: 0.4838, Train MAE: 0.4835\n",
      "Epoch 1550 - Validation Loss: 1.7078, Validation MSE: 1.7115, Validation MAE: 0.9170\n"
     ]
    },
    {
     "name": "stderr",
     "output_type": "stream",
     "text": [
      "Training Epoch 1552: 100%|██████████| 378/378 [00:10<00:00, 37.09it/s]\n",
      "Training Epoch 1553: 100%|██████████| 378/378 [00:10<00:00, 37.05it/s]\n",
      "Training Epoch 1554: 100%|██████████| 378/378 [00:10<00:00, 37.26it/s]\n",
      "Training Epoch 1555: 100%|██████████| 378/378 [00:10<00:00, 37.23it/s]\n",
      "Training Epoch 1556: 100%|██████████| 378/378 [00:10<00:00, 37.18it/s]\n",
      "Training Epoch 1557: 100%|██████████| 378/378 [00:10<00:00, 37.23it/s]\n",
      "Training Epoch 1558: 100%|██████████| 378/378 [00:10<00:00, 37.28it/s]\n",
      "Training Epoch 1559: 100%|██████████| 378/378 [00:10<00:00, 37.30it/s]\n",
      "Training Epoch 1560: 100%|██████████| 378/378 [00:10<00:00, 37.34it/s]\n",
      "Training Epoch 1561: 100%|██████████| 378/378 [00:10<00:00, 37.28it/s]\n"
     ]
    },
    {
     "name": "stdout",
     "output_type": "stream",
     "text": [
      "Epoch 1560 - Train Loss: 0.4983, Train MSE: 0.4986, Train MAE: 0.4897\n",
      "Epoch 1560 - Validation Loss: 1.7017, Validation MSE: 1.7053, Validation MAE: 0.9220\n"
     ]
    },
    {
     "name": "stderr",
     "output_type": "stream",
     "text": [
      "Training Epoch 1562: 100%|██████████| 378/378 [00:10<00:00, 37.22it/s]\n",
      "Training Epoch 1563: 100%|██████████| 378/378 [00:10<00:00, 37.47it/s]\n",
      "Training Epoch 1564: 100%|██████████| 378/378 [00:10<00:00, 37.29it/s]\n",
      "Training Epoch 1565: 100%|██████████| 378/378 [00:10<00:00, 37.20it/s]\n",
      "Training Epoch 1566: 100%|██████████| 378/378 [00:10<00:00, 37.12it/s]\n",
      "Training Epoch 1567: 100%|██████████| 378/378 [00:10<00:00, 37.01it/s]\n",
      "Training Epoch 1568: 100%|██████████| 378/378 [00:10<00:00, 37.16it/s]\n",
      "Training Epoch 1569: 100%|██████████| 378/378 [00:10<00:00, 37.10it/s]\n",
      "Training Epoch 1570: 100%|██████████| 378/378 [00:10<00:00, 37.15it/s]\n",
      "Training Epoch 1571: 100%|██████████| 378/378 [00:10<00:00, 37.12it/s]\n"
     ]
    },
    {
     "name": "stdout",
     "output_type": "stream",
     "text": [
      "Epoch 1570 - Train Loss: 0.4983, Train MSE: 0.4983, Train MAE: 0.4935\n",
      "Epoch 1570 - Validation Loss: 1.6933, Validation MSE: 1.6974, Validation MAE: 0.9180\n"
     ]
    },
    {
     "name": "stderr",
     "output_type": "stream",
     "text": [
      "Training Epoch 1572: 100%|██████████| 378/378 [00:10<00:00, 37.20it/s]\n",
      "Training Epoch 1573: 100%|██████████| 378/378 [00:10<00:00, 37.00it/s]\n",
      "Training Epoch 1574: 100%|██████████| 378/378 [00:10<00:00, 36.98it/s]\n",
      "Training Epoch 1575: 100%|██████████| 378/378 [00:10<00:00, 36.81it/s]\n",
      "Training Epoch 1576: 100%|██████████| 378/378 [00:10<00:00, 37.20it/s]\n",
      "Training Epoch 1577: 100%|██████████| 378/378 [00:10<00:00, 37.16it/s]\n",
      "Training Epoch 1578: 100%|██████████| 378/378 [00:10<00:00, 36.95it/s]\n",
      "Training Epoch 1579: 100%|██████████| 378/378 [00:10<00:00, 37.13it/s]\n",
      "Training Epoch 1580: 100%|██████████| 378/378 [00:10<00:00, 37.05it/s]\n",
      "Training Epoch 1581: 100%|██████████| 378/378 [00:10<00:00, 37.06it/s]\n"
     ]
    },
    {
     "name": "stdout",
     "output_type": "stream",
     "text": [
      "Epoch 1580 - Train Loss: 0.4868, Train MSE: 0.4870, Train MAE: 0.4866\n",
      "Epoch 1580 - Validation Loss: 1.7512, Validation MSE: 1.7548, Validation MAE: 0.9282\n"
     ]
    },
    {
     "name": "stderr",
     "output_type": "stream",
     "text": [
      "Training Epoch 1582: 100%|██████████| 378/378 [00:10<00:00, 37.13it/s]\n",
      "Training Epoch 1583: 100%|██████████| 378/378 [00:10<00:00, 37.19it/s]\n",
      "Training Epoch 1584: 100%|██████████| 378/378 [00:10<00:00, 36.99it/s]\n",
      "Training Epoch 1585: 100%|██████████| 378/378 [00:10<00:00, 37.13it/s]\n",
      "Training Epoch 1586: 100%|██████████| 378/378 [00:10<00:00, 37.11it/s]\n",
      "Training Epoch 1587: 100%|██████████| 378/378 [00:10<00:00, 37.14it/s]\n",
      "Training Epoch 1588: 100%|██████████| 378/378 [00:10<00:00, 37.01it/s]\n",
      "Training Epoch 1589: 100%|██████████| 378/378 [00:10<00:00, 37.16it/s]\n",
      "Training Epoch 1590: 100%|██████████| 378/378 [00:10<00:00, 36.98it/s]\n",
      "Training Epoch 1591: 100%|██████████| 378/378 [00:10<00:00, 37.17it/s]\n"
     ]
    },
    {
     "name": "stdout",
     "output_type": "stream",
     "text": [
      "Epoch 1590 - Train Loss: 0.4857, Train MSE: 0.4857, Train MAE: 0.4888\n",
      "Epoch 1590 - Validation Loss: 1.7509, Validation MSE: 1.7549, Validation MAE: 0.9272\n"
     ]
    },
    {
     "name": "stderr",
     "output_type": "stream",
     "text": [
      "Training Epoch 1592: 100%|██████████| 378/378 [00:10<00:00, 37.07it/s]\n",
      "Training Epoch 1593: 100%|██████████| 378/378 [00:10<00:00, 37.10it/s]\n",
      "Training Epoch 1594: 100%|██████████| 378/378 [00:10<00:00, 36.97it/s]\n",
      "Training Epoch 1595: 100%|██████████| 378/378 [00:10<00:00, 37.02it/s]\n",
      "Training Epoch 1596: 100%|██████████| 378/378 [00:10<00:00, 37.05it/s]\n",
      "Training Epoch 1597: 100%|██████████| 378/378 [00:10<00:00, 37.15it/s]\n",
      "Training Epoch 1598: 100%|██████████| 378/378 [00:10<00:00, 37.11it/s]\n",
      "Training Epoch 1599: 100%|██████████| 378/378 [00:10<00:00, 37.14it/s]\n",
      "Training Epoch 1600: 100%|██████████| 378/378 [00:10<00:00, 36.91it/s]\n",
      "Training Epoch 1601: 100%|██████████| 378/378 [00:10<00:00, 37.03it/s]\n"
     ]
    },
    {
     "name": "stdout",
     "output_type": "stream",
     "text": [
      "Epoch 1600 - Train Loss: 0.4969, Train MSE: 0.4971, Train MAE: 0.4909\n",
      "Epoch 1600 - Validation Loss: 1.6970, Validation MSE: 1.7011, Validation MAE: 0.9150\n"
     ]
    },
    {
     "name": "stderr",
     "output_type": "stream",
     "text": [
      "Training Epoch 1602: 100%|██████████| 378/378 [00:10<00:00, 37.18it/s]\n",
      "Training Epoch 1603: 100%|██████████| 378/378 [00:10<00:00, 37.27it/s]\n",
      "Training Epoch 1604: 100%|██████████| 378/378 [00:10<00:00, 37.18it/s]\n",
      "Training Epoch 1605: 100%|██████████| 378/378 [00:10<00:00, 37.23it/s]\n",
      "Training Epoch 1606: 100%|██████████| 378/378 [00:10<00:00, 37.04it/s]\n",
      "Training Epoch 1607: 100%|██████████| 378/378 [00:10<00:00, 37.01it/s]\n",
      "Training Epoch 1608: 100%|██████████| 378/378 [00:10<00:00, 37.06it/s]\n",
      "Training Epoch 1609: 100%|██████████| 378/378 [00:10<00:00, 36.96it/s]\n",
      "Training Epoch 1610: 100%|██████████| 378/378 [00:10<00:00, 37.05it/s]\n",
      "Training Epoch 1611: 100%|██████████| 378/378 [00:10<00:00, 37.04it/s]\n"
     ]
    },
    {
     "name": "stdout",
     "output_type": "stream",
     "text": [
      "Epoch 1610 - Train Loss: 0.4922, Train MSE: 0.4923, Train MAE: 0.4873\n",
      "Epoch 1610 - Validation Loss: 1.6812, Validation MSE: 1.6849, Validation MAE: 0.9189\n"
     ]
    },
    {
     "name": "stderr",
     "output_type": "stream",
     "text": [
      "Training Epoch 1612: 100%|██████████| 378/378 [00:10<00:00, 37.20it/s]\n",
      "Training Epoch 1613: 100%|██████████| 378/378 [00:10<00:00, 37.06it/s]\n",
      "Training Epoch 1614: 100%|██████████| 378/378 [00:10<00:00, 37.23it/s]\n",
      "Training Epoch 1615: 100%|██████████| 378/378 [00:10<00:00, 37.08it/s]\n",
      "Training Epoch 1616: 100%|██████████| 378/378 [00:10<00:00, 37.08it/s]\n",
      "Training Epoch 1617: 100%|██████████| 378/378 [00:10<00:00, 37.03it/s]\n",
      "Training Epoch 1618: 100%|██████████| 378/378 [00:10<00:00, 37.00it/s]\n",
      "Training Epoch 1619: 100%|██████████| 378/378 [00:10<00:00, 37.07it/s]\n",
      "Training Epoch 1620: 100%|██████████| 378/378 [00:10<00:00, 37.12it/s]\n",
      "Training Epoch 1621: 100%|██████████| 378/378 [00:10<00:00, 36.95it/s]\n"
     ]
    },
    {
     "name": "stdout",
     "output_type": "stream",
     "text": [
      "Epoch 1620 - Train Loss: 0.4872, Train MSE: 0.4873, Train MAE: 0.4871\n",
      "Epoch 1620 - Validation Loss: 1.7382, Validation MSE: 1.7426, Validation MAE: 0.9320\n"
     ]
    },
    {
     "name": "stderr",
     "output_type": "stream",
     "text": [
      "Training Epoch 1622: 100%|██████████| 378/378 [00:10<00:00, 36.84it/s]\n",
      "Training Epoch 1623: 100%|██████████| 378/378 [00:10<00:00, 36.92it/s]\n",
      "Training Epoch 1624: 100%|██████████| 378/378 [00:10<00:00, 37.06it/s]\n",
      "Training Epoch 1625: 100%|██████████| 378/378 [00:10<00:00, 36.98it/s]\n",
      "Training Epoch 1626: 100%|██████████| 378/378 [00:10<00:00, 37.16it/s]\n",
      "Training Epoch 1627: 100%|██████████| 378/378 [00:10<00:00, 36.81it/s]\n",
      "Training Epoch 1628: 100%|██████████| 378/378 [00:10<00:00, 36.81it/s]\n",
      "Training Epoch 1629: 100%|██████████| 378/378 [00:10<00:00, 37.05it/s]\n",
      "Training Epoch 1630: 100%|██████████| 378/378 [00:10<00:00, 36.02it/s]\n",
      "Training Epoch 1631: 100%|██████████| 378/378 [00:10<00:00, 37.44it/s]\n"
     ]
    },
    {
     "name": "stdout",
     "output_type": "stream",
     "text": [
      "Epoch 1630 - Train Loss: 0.4861, Train MSE: 0.4864, Train MAE: 0.4831\n",
      "Epoch 1630 - Validation Loss: 1.7375, Validation MSE: 1.7421, Validation MAE: 0.9272\n"
     ]
    },
    {
     "name": "stderr",
     "output_type": "stream",
     "text": [
      "Training Epoch 1632: 100%|██████████| 378/378 [00:10<00:00, 37.45it/s]\n",
      "Training Epoch 1633: 100%|██████████| 378/378 [00:10<00:00, 37.46it/s]\n",
      "Training Epoch 1634: 100%|██████████| 378/378 [00:10<00:00, 37.46it/s]\n",
      "Training Epoch 1635: 100%|██████████| 378/378 [00:10<00:00, 37.55it/s]\n",
      "Training Epoch 1636: 100%|██████████| 378/378 [00:10<00:00, 37.73it/s]\n",
      "Training Epoch 1637: 100%|██████████| 378/378 [00:10<00:00, 37.61it/s]\n",
      "Training Epoch 1638: 100%|██████████| 378/378 [00:10<00:00, 37.41it/s]\n",
      "Training Epoch 1639: 100%|██████████| 378/378 [00:10<00:00, 37.63it/s]\n",
      "Training Epoch 1640: 100%|██████████| 378/378 [00:10<00:00, 37.71it/s]\n",
      "Training Epoch 1641: 100%|██████████| 378/378 [00:10<00:00, 37.66it/s]\n"
     ]
    },
    {
     "name": "stdout",
     "output_type": "stream",
     "text": [
      "Epoch 1640 - Train Loss: 0.4849, Train MSE: 0.4846, Train MAE: 0.4868\n",
      "Epoch 1640 - Validation Loss: 1.7012, Validation MSE: 1.7050, Validation MAE: 0.9186\n"
     ]
    },
    {
     "name": "stderr",
     "output_type": "stream",
     "text": [
      "Training Epoch 1642: 100%|██████████| 378/378 [00:10<00:00, 37.41it/s]\n",
      "Training Epoch 1643: 100%|██████████| 378/378 [00:10<00:00, 37.53it/s]\n",
      "Training Epoch 1644: 100%|██████████| 378/378 [00:10<00:00, 37.58it/s]\n",
      "Training Epoch 1645: 100%|██████████| 378/378 [00:10<00:00, 37.65it/s]\n",
      "Training Epoch 1646: 100%|██████████| 378/378 [00:10<00:00, 37.48it/s]\n",
      "Training Epoch 1647: 100%|██████████| 378/378 [00:10<00:00, 37.58it/s]\n",
      "Training Epoch 1648: 100%|██████████| 378/378 [00:10<00:00, 37.52it/s]\n",
      "Training Epoch 1649: 100%|██████████| 378/378 [00:10<00:00, 37.51it/s]\n",
      "Training Epoch 1650: 100%|██████████| 378/378 [00:10<00:00, 37.46it/s]\n",
      "Training Epoch 1651: 100%|██████████| 378/378 [00:10<00:00, 37.53it/s]\n"
     ]
    },
    {
     "name": "stdout",
     "output_type": "stream",
     "text": [
      "Epoch 1650 - Train Loss: 0.4874, Train MSE: 0.4872, Train MAE: 0.4837\n",
      "Epoch 1650 - Validation Loss: 1.7698, Validation MSE: 1.7741, Validation MAE: 0.9415\n"
     ]
    },
    {
     "name": "stderr",
     "output_type": "stream",
     "text": [
      "Training Epoch 1652: 100%|██████████| 378/378 [00:10<00:00, 37.57it/s]\n",
      "Training Epoch 1653: 100%|██████████| 378/378 [00:10<00:00, 37.50it/s]\n",
      "Training Epoch 1654: 100%|██████████| 378/378 [00:10<00:00, 37.42it/s]\n",
      "Training Epoch 1655: 100%|██████████| 378/378 [00:10<00:00, 37.36it/s]\n",
      "Training Epoch 1656: 100%|██████████| 378/378 [00:10<00:00, 37.60it/s]\n",
      "Training Epoch 1657: 100%|██████████| 378/378 [00:10<00:00, 37.54it/s]\n",
      "Training Epoch 1658: 100%|██████████| 378/378 [00:10<00:00, 37.49it/s]\n",
      "Training Epoch 1659: 100%|██████████| 378/378 [00:10<00:00, 37.60it/s]\n",
      "Training Epoch 1660: 100%|██████████| 378/378 [00:10<00:00, 37.38it/s]\n",
      "Training Epoch 1661: 100%|██████████| 378/378 [00:10<00:00, 37.47it/s]\n"
     ]
    },
    {
     "name": "stdout",
     "output_type": "stream",
     "text": [
      "Epoch 1660 - Train Loss: 0.4862, Train MSE: 0.4866, Train MAE: 0.4879\n",
      "Epoch 1660 - Validation Loss: 1.7632, Validation MSE: 1.7676, Validation MAE: 0.9379\n"
     ]
    },
    {
     "name": "stderr",
     "output_type": "stream",
     "text": [
      "Training Epoch 1662: 100%|██████████| 378/378 [00:10<00:00, 37.49it/s]\n",
      "Training Epoch 1663: 100%|██████████| 378/378 [00:10<00:00, 37.38it/s]\n",
      "Training Epoch 1664: 100%|██████████| 378/378 [00:10<00:00, 37.39it/s]\n",
      "Training Epoch 1665: 100%|██████████| 378/378 [00:10<00:00, 37.44it/s]\n",
      "Training Epoch 1666: 100%|██████████| 378/378 [00:10<00:00, 37.34it/s]\n",
      "Training Epoch 1667: 100%|██████████| 378/378 [00:10<00:00, 37.53it/s]\n",
      "Training Epoch 1668: 100%|██████████| 378/378 [00:10<00:00, 37.49it/s]\n",
      "Training Epoch 1669: 100%|██████████| 378/378 [00:10<00:00, 37.50it/s]\n",
      "Training Epoch 1670: 100%|██████████| 378/378 [00:10<00:00, 37.42it/s]\n",
      "Training Epoch 1671: 100%|██████████| 378/378 [00:10<00:00, 37.47it/s]\n"
     ]
    },
    {
     "name": "stdout",
     "output_type": "stream",
     "text": [
      "Epoch 1670 - Train Loss: 0.4853, Train MSE: 0.4853, Train MAE: 0.4862\n",
      "Epoch 1670 - Validation Loss: 1.6677, Validation MSE: 1.6715, Validation MAE: 0.9229\n"
     ]
    },
    {
     "name": "stderr",
     "output_type": "stream",
     "text": [
      "Training Epoch 1672: 100%|██████████| 378/378 [00:10<00:00, 37.55it/s]\n",
      "Training Epoch 1673: 100%|██████████| 378/378 [00:10<00:00, 37.32it/s]\n",
      "Training Epoch 1674: 100%|██████████| 378/378 [00:10<00:00, 37.63it/s]\n",
      "Training Epoch 1675: 100%|██████████| 378/378 [00:10<00:00, 37.33it/s]\n",
      "Training Epoch 1676: 100%|██████████| 378/378 [00:10<00:00, 37.36it/s]\n",
      "Training Epoch 1677: 100%|██████████| 378/378 [00:10<00:00, 37.31it/s]\n",
      "Training Epoch 1678: 100%|██████████| 378/378 [00:10<00:00, 37.39it/s]\n",
      "Training Epoch 1679: 100%|██████████| 378/378 [00:10<00:00, 37.41it/s]\n",
      "Training Epoch 1680: 100%|██████████| 378/378 [00:10<00:00, 37.45it/s]\n",
      "Training Epoch 1681: 100%|██████████| 378/378 [00:10<00:00, 37.57it/s]\n"
     ]
    },
    {
     "name": "stdout",
     "output_type": "stream",
     "text": [
      "Epoch 1680 - Train Loss: 0.4744, Train MSE: 0.4745, Train MAE: 0.4827\n",
      "Epoch 1680 - Validation Loss: 1.7284, Validation MSE: 1.7324, Validation MAE: 0.9291\n"
     ]
    },
    {
     "name": "stderr",
     "output_type": "stream",
     "text": [
      "Training Epoch 1682: 100%|██████████| 378/378 [00:10<00:00, 37.62it/s]\n",
      "Training Epoch 1683: 100%|██████████| 378/378 [00:10<00:00, 37.52it/s]\n",
      "Training Epoch 1684: 100%|██████████| 378/378 [00:10<00:00, 37.74it/s]\n",
      "Training Epoch 1685: 100%|██████████| 378/378 [00:10<00:00, 37.55it/s]\n",
      "Training Epoch 1686: 100%|██████████| 378/378 [00:10<00:00, 37.59it/s]\n",
      "Training Epoch 1687: 100%|██████████| 378/378 [00:10<00:00, 37.57it/s]\n",
      "Training Epoch 1688: 100%|██████████| 378/378 [00:10<00:00, 37.39it/s]\n",
      "Training Epoch 1689: 100%|██████████| 378/378 [00:10<00:00, 37.44it/s]\n",
      "Training Epoch 1690: 100%|██████████| 378/378 [00:10<00:00, 37.57it/s]\n",
      "Training Epoch 1691: 100%|██████████| 378/378 [00:10<00:00, 37.45it/s]\n"
     ]
    },
    {
     "name": "stdout",
     "output_type": "stream",
     "text": [
      "Epoch 1690 - Train Loss: 0.4767, Train MSE: 0.4769, Train MAE: 0.4822\n",
      "Epoch 1690 - Validation Loss: 1.6794, Validation MSE: 1.6832, Validation MAE: 0.9149\n"
     ]
    },
    {
     "name": "stderr",
     "output_type": "stream",
     "text": [
      "Training Epoch 1692: 100%|██████████| 378/378 [00:10<00:00, 37.56it/s]\n",
      "Training Epoch 1693: 100%|██████████| 378/378 [00:10<00:00, 37.53it/s]\n",
      "Training Epoch 1694: 100%|██████████| 378/378 [00:10<00:00, 37.49it/s]\n",
      "Training Epoch 1695: 100%|██████████| 378/378 [00:10<00:00, 37.49it/s]\n",
      "Training Epoch 1696: 100%|██████████| 378/378 [00:10<00:00, 37.46it/s]\n",
      "Training Epoch 1697: 100%|██████████| 378/378 [00:10<00:00, 37.57it/s]\n",
      "Training Epoch 1698: 100%|██████████| 378/378 [00:10<00:00, 37.45it/s]\n",
      "Training Epoch 1699: 100%|██████████| 378/378 [00:10<00:00, 37.60it/s]\n",
      "Training Epoch 1700: 100%|██████████| 378/378 [00:10<00:00, 37.51it/s]\n",
      "Training Epoch 1701: 100%|██████████| 378/378 [00:10<00:00, 37.29it/s]\n"
     ]
    },
    {
     "name": "stdout",
     "output_type": "stream",
     "text": [
      "Epoch 1700 - Train Loss: 0.4766, Train MSE: 0.4760, Train MAE: 0.4791\n",
      "Epoch 1700 - Validation Loss: 1.7166, Validation MSE: 1.7203, Validation MAE: 0.9210\n"
     ]
    },
    {
     "name": "stderr",
     "output_type": "stream",
     "text": [
      "Training Epoch 1702: 100%|██████████| 378/378 [00:10<00:00, 37.35it/s]\n",
      "Training Epoch 1703: 100%|██████████| 378/378 [00:10<00:00, 37.37it/s]\n",
      "Training Epoch 1704: 100%|██████████| 378/378 [00:10<00:00, 37.29it/s]\n",
      "Training Epoch 1705: 100%|██████████| 378/378 [00:10<00:00, 37.27it/s]\n",
      "Training Epoch 1706: 100%|██████████| 378/378 [00:10<00:00, 37.50it/s]\n",
      "Training Epoch 1707: 100%|██████████| 378/378 [00:10<00:00, 37.38it/s]\n",
      "Training Epoch 1708: 100%|██████████| 378/378 [00:10<00:00, 37.38it/s]\n",
      "Training Epoch 1709: 100%|██████████| 378/378 [00:10<00:00, 37.44it/s]\n",
      "Training Epoch 1710: 100%|██████████| 378/378 [00:10<00:00, 37.30it/s]\n",
      "Training Epoch 1711: 100%|██████████| 378/378 [00:10<00:00, 37.47it/s]\n"
     ]
    },
    {
     "name": "stdout",
     "output_type": "stream",
     "text": [
      "Epoch 1710 - Train Loss: 0.4912, Train MSE: 0.4910, Train MAE: 0.4902\n",
      "Epoch 1710 - Validation Loss: 1.7143, Validation MSE: 1.7186, Validation MAE: 0.9223\n"
     ]
    },
    {
     "name": "stderr",
     "output_type": "stream",
     "text": [
      "Training Epoch 1712: 100%|██████████| 378/378 [00:10<00:00, 37.27it/s]\n",
      "Training Epoch 1713: 100%|██████████| 378/378 [00:10<00:00, 37.40it/s]\n",
      "Training Epoch 1714: 100%|██████████| 378/378 [00:10<00:00, 37.62it/s]\n",
      "Training Epoch 1715: 100%|██████████| 378/378 [00:10<00:00, 37.48it/s]\n",
      "Training Epoch 1716: 100%|██████████| 378/378 [00:10<00:00, 37.33it/s]\n",
      "Training Epoch 1717: 100%|██████████| 378/378 [00:10<00:00, 37.28it/s]\n",
      "Training Epoch 1718: 100%|██████████| 378/378 [00:10<00:00, 37.33it/s]\n",
      "Training Epoch 1719: 100%|██████████| 378/378 [00:10<00:00, 37.42it/s]\n",
      "Training Epoch 1720: 100%|██████████| 378/378 [00:10<00:00, 37.38it/s]\n",
      "Training Epoch 1721: 100%|██████████| 378/378 [00:10<00:00, 37.34it/s]\n"
     ]
    },
    {
     "name": "stdout",
     "output_type": "stream",
     "text": [
      "Epoch 1720 - Train Loss: 0.4826, Train MSE: 0.4824, Train MAE: 0.4818\n",
      "Epoch 1720 - Validation Loss: 1.7569, Validation MSE: 1.7613, Validation MAE: 0.9339\n"
     ]
    },
    {
     "name": "stderr",
     "output_type": "stream",
     "text": [
      "Training Epoch 1722: 100%|██████████| 378/378 [00:10<00:00, 37.39it/s]\n",
      "Training Epoch 1723: 100%|██████████| 378/378 [00:10<00:00, 37.30it/s]\n",
      "Training Epoch 1724: 100%|██████████| 378/378 [00:10<00:00, 37.28it/s]\n",
      "Training Epoch 1725: 100%|██████████| 378/378 [00:10<00:00, 37.47it/s]\n",
      "Training Epoch 1726: 100%|██████████| 378/378 [00:10<00:00, 37.29it/s]\n",
      "Training Epoch 1727: 100%|██████████| 378/378 [00:10<00:00, 37.35it/s]\n",
      "Training Epoch 1728: 100%|██████████| 378/378 [00:10<00:00, 37.51it/s]\n",
      "Training Epoch 1729: 100%|██████████| 378/378 [00:10<00:00, 37.35it/s]\n",
      "Training Epoch 1730: 100%|██████████| 378/378 [00:10<00:00, 37.20it/s]\n",
      "Training Epoch 1731: 100%|██████████| 378/378 [00:10<00:00, 37.32it/s]\n"
     ]
    },
    {
     "name": "stdout",
     "output_type": "stream",
     "text": [
      "Epoch 1730 - Train Loss: 0.4807, Train MSE: 0.4808, Train MAE: 0.4805\n",
      "Epoch 1730 - Validation Loss: 1.8092, Validation MSE: 1.8129, Validation MAE: 0.9447\n"
     ]
    },
    {
     "name": "stderr",
     "output_type": "stream",
     "text": [
      "Training Epoch 1732: 100%|██████████| 378/378 [00:10<00:00, 37.67it/s]\n",
      "Training Epoch 1733: 100%|██████████| 378/378 [00:10<00:00, 37.33it/s]\n",
      "Training Epoch 1734: 100%|██████████| 378/378 [00:10<00:00, 37.47it/s]\n",
      "Training Epoch 1735: 100%|██████████| 378/378 [00:10<00:00, 37.39it/s]\n",
      "Training Epoch 1736: 100%|██████████| 378/378 [00:10<00:00, 37.64it/s]\n",
      "Training Epoch 1737: 100%|██████████| 378/378 [00:10<00:00, 37.28it/s]\n",
      "Training Epoch 1738: 100%|██████████| 378/378 [00:10<00:00, 37.28it/s]\n",
      "Training Epoch 1739: 100%|██████████| 378/378 [00:10<00:00, 37.27it/s]\n",
      "Training Epoch 1740: 100%|██████████| 378/378 [00:10<00:00, 37.32it/s]\n",
      "Training Epoch 1741: 100%|██████████| 378/378 [00:10<00:00, 37.17it/s]\n"
     ]
    },
    {
     "name": "stdout",
     "output_type": "stream",
     "text": [
      "Epoch 1740 - Train Loss: 0.4803, Train MSE: 0.4804, Train MAE: 0.4817\n",
      "Epoch 1740 - Validation Loss: 1.7025, Validation MSE: 1.7061, Validation MAE: 0.9196\n"
     ]
    },
    {
     "name": "stderr",
     "output_type": "stream",
     "text": [
      "Training Epoch 1742: 100%|██████████| 378/378 [00:10<00:00, 37.32it/s]\n",
      "Training Epoch 1743: 100%|██████████| 378/378 [00:10<00:00, 37.27it/s]\n",
      "Training Epoch 1744: 100%|██████████| 378/378 [00:10<00:00, 37.16it/s]\n",
      "Training Epoch 1745: 100%|██████████| 378/378 [00:10<00:00, 37.56it/s]\n",
      "Training Epoch 1746: 100%|██████████| 378/378 [00:10<00:00, 37.53it/s]\n",
      "Training Epoch 1747: 100%|██████████| 378/378 [00:10<00:00, 37.55it/s]\n",
      "Training Epoch 1748: 100%|██████████| 378/378 [00:10<00:00, 37.50it/s]\n",
      "Training Epoch 1749: 100%|██████████| 378/378 [00:10<00:00, 37.54it/s]\n",
      "Training Epoch 1750: 100%|██████████| 378/378 [00:10<00:00, 37.69it/s]\n",
      "Training Epoch 1751: 100%|██████████| 378/378 [00:10<00:00, 37.62it/s]\n"
     ]
    },
    {
     "name": "stdout",
     "output_type": "stream",
     "text": [
      "Epoch 1750 - Train Loss: 0.4775, Train MSE: 0.4775, Train MAE: 0.4826\n",
      "Epoch 1750 - Validation Loss: 1.7237, Validation MSE: 1.7279, Validation MAE: 0.9371\n"
     ]
    },
    {
     "name": "stderr",
     "output_type": "stream",
     "text": [
      "Training Epoch 1752: 100%|██████████| 378/378 [00:10<00:00, 37.45it/s]\n",
      "Training Epoch 1753: 100%|██████████| 378/378 [00:10<00:00, 37.59it/s]\n",
      "Training Epoch 1754: 100%|██████████| 378/378 [00:10<00:00, 37.40it/s]\n",
      "Training Epoch 1755: 100%|██████████| 378/378 [00:10<00:00, 37.43it/s]\n",
      "Training Epoch 1756: 100%|██████████| 378/378 [00:10<00:00, 37.49it/s]\n",
      "Training Epoch 1757: 100%|██████████| 378/378 [00:10<00:00, 37.42it/s]\n",
      "Training Epoch 1758: 100%|██████████| 378/378 [00:10<00:00, 37.37it/s]\n",
      "Training Epoch 1759: 100%|██████████| 378/378 [00:10<00:00, 37.47it/s]\n",
      "Training Epoch 1760: 100%|██████████| 378/378 [00:10<00:00, 37.36it/s]\n",
      "Training Epoch 1761: 100%|██████████| 378/378 [00:10<00:00, 37.61it/s]\n"
     ]
    },
    {
     "name": "stdout",
     "output_type": "stream",
     "text": [
      "Epoch 1760 - Train Loss: 0.4785, Train MSE: 0.4779, Train MAE: 0.4800\n",
      "Epoch 1760 - Validation Loss: 1.7717, Validation MSE: 1.7760, Validation MAE: 0.9400\n"
     ]
    },
    {
     "name": "stderr",
     "output_type": "stream",
     "text": [
      "Training Epoch 1762: 100%|██████████| 378/378 [00:10<00:00, 37.48it/s]\n",
      "Training Epoch 1763: 100%|██████████| 378/378 [00:10<00:00, 37.44it/s]\n",
      "Training Epoch 1764: 100%|██████████| 378/378 [00:10<00:00, 37.34it/s]\n",
      "Training Epoch 1765: 100%|██████████| 378/378 [00:10<00:00, 37.22it/s]\n",
      "Training Epoch 1766: 100%|██████████| 378/378 [00:10<00:00, 37.37it/s]\n",
      "Training Epoch 1767: 100%|██████████| 378/378 [00:10<00:00, 37.28it/s]\n",
      "Training Epoch 1768: 100%|██████████| 378/378 [00:10<00:00, 37.32it/s]\n",
      "Training Epoch 1769: 100%|██████████| 378/378 [00:10<00:00, 37.43it/s]\n",
      "Training Epoch 1770: 100%|██████████| 378/378 [00:10<00:00, 37.38it/s]\n",
      "Training Epoch 1771: 100%|██████████| 378/378 [00:10<00:00, 37.44it/s]\n"
     ]
    },
    {
     "name": "stdout",
     "output_type": "stream",
     "text": [
      "Epoch 1770 - Train Loss: 0.4760, Train MSE: 0.4762, Train MAE: 0.4852\n",
      "Epoch 1770 - Validation Loss: 1.7257, Validation MSE: 1.7299, Validation MAE: 0.9305\n"
     ]
    },
    {
     "name": "stderr",
     "output_type": "stream",
     "text": [
      "Training Epoch 1772: 100%|██████████| 378/378 [00:10<00:00, 37.09it/s]\n",
      "Training Epoch 1773: 100%|██████████| 378/378 [00:10<00:00, 37.33it/s]\n",
      "Training Epoch 1774: 100%|██████████| 378/378 [00:10<00:00, 37.56it/s]\n",
      "Training Epoch 1775: 100%|██████████| 378/378 [00:10<00:00, 37.54it/s]\n",
      "Training Epoch 1776: 100%|██████████| 378/378 [00:10<00:00, 37.34it/s]\n",
      "Training Epoch 1777: 100%|██████████| 378/378 [00:10<00:00, 37.31it/s]\n",
      "Training Epoch 1778: 100%|██████████| 378/378 [00:10<00:00, 37.32it/s]\n",
      "Training Epoch 1779: 100%|██████████| 378/378 [00:10<00:00, 37.32it/s]\n",
      "Training Epoch 1780: 100%|██████████| 378/378 [00:10<00:00, 37.23it/s]\n",
      "Training Epoch 1781: 100%|██████████| 378/378 [00:10<00:00, 37.32it/s]\n"
     ]
    },
    {
     "name": "stdout",
     "output_type": "stream",
     "text": [
      "Epoch 1780 - Train Loss: 0.4683, Train MSE: 0.4683, Train MAE: 0.4768\n",
      "Epoch 1780 - Validation Loss: 1.6951, Validation MSE: 1.6993, Validation MAE: 0.9211\n"
     ]
    },
    {
     "name": "stderr",
     "output_type": "stream",
     "text": [
      "Training Epoch 1782: 100%|██████████| 378/378 [00:10<00:00, 37.47it/s]\n",
      "Training Epoch 1783: 100%|██████████| 378/378 [00:10<00:00, 37.50it/s]\n",
      "Training Epoch 1784: 100%|██████████| 378/378 [00:10<00:00, 37.62it/s]\n",
      "Training Epoch 1785: 100%|██████████| 378/378 [00:10<00:00, 37.60it/s]\n",
      "Training Epoch 1786: 100%|██████████| 378/378 [00:10<00:00, 37.40it/s]\n",
      "Training Epoch 1787: 100%|██████████| 378/378 [00:10<00:00, 37.46it/s]\n",
      "Training Epoch 1788: 100%|██████████| 378/378 [00:10<00:00, 37.51it/s]\n",
      "Training Epoch 1789: 100%|██████████| 378/378 [00:10<00:00, 37.51it/s]\n",
      "Training Epoch 1790: 100%|██████████| 378/378 [00:10<00:00, 37.41it/s]\n",
      "Training Epoch 1791: 100%|██████████| 378/378 [00:10<00:00, 37.53it/s]\n"
     ]
    },
    {
     "name": "stdout",
     "output_type": "stream",
     "text": [
      "Epoch 1790 - Train Loss: 0.4783, Train MSE: 0.4784, Train MAE: 0.4828\n",
      "Epoch 1790 - Validation Loss: 1.6747, Validation MSE: 1.6786, Validation MAE: 0.9155\n"
     ]
    },
    {
     "name": "stderr",
     "output_type": "stream",
     "text": [
      "Training Epoch 1792: 100%|██████████| 378/378 [00:10<00:00, 37.41it/s]\n",
      "Training Epoch 1793: 100%|██████████| 378/378 [00:10<00:00, 37.62it/s]\n",
      "Training Epoch 1794: 100%|██████████| 378/378 [00:10<00:00, 37.61it/s]\n",
      "Training Epoch 1795: 100%|██████████| 378/378 [00:10<00:00, 37.52it/s]\n",
      "Training Epoch 1796: 100%|██████████| 378/378 [00:10<00:00, 37.41it/s]\n",
      "Training Epoch 1797: 100%|██████████| 378/378 [00:10<00:00, 37.43it/s]\n",
      "Training Epoch 1798: 100%|██████████| 378/378 [00:10<00:00, 37.12it/s]\n",
      "Training Epoch 1799: 100%|██████████| 378/378 [00:10<00:00, 37.06it/s]\n",
      "Training Epoch 1800: 100%|██████████| 378/378 [00:10<00:00, 37.38it/s]\n",
      "Training Epoch 1801: 100%|██████████| 378/378 [00:10<00:00, 37.39it/s]\n"
     ]
    },
    {
     "name": "stdout",
     "output_type": "stream",
     "text": [
      "Epoch 1800 - Train Loss: 0.4819, Train MSE: 0.4819, Train MAE: 0.4831\n",
      "Epoch 1800 - Validation Loss: 1.7422, Validation MSE: 1.7464, Validation MAE: 0.9266\n"
     ]
    },
    {
     "name": "stderr",
     "output_type": "stream",
     "text": [
      "Training Epoch 1802: 100%|██████████| 378/378 [00:10<00:00, 37.18it/s]\n",
      "Training Epoch 1803: 100%|██████████| 378/378 [00:10<00:00, 37.31it/s]\n",
      "Training Epoch 1804: 100%|██████████| 378/378 [00:10<00:00, 37.09it/s]\n",
      "Training Epoch 1805: 100%|██████████| 378/378 [00:10<00:00, 37.07it/s]\n",
      "Training Epoch 1806: 100%|██████████| 378/378 [00:10<00:00, 37.23it/s]\n",
      "Training Epoch 1807: 100%|██████████| 378/378 [00:10<00:00, 37.16it/s]\n",
      "Training Epoch 1808: 100%|██████████| 378/378 [00:10<00:00, 37.18it/s]\n",
      "Training Epoch 1809: 100%|██████████| 378/378 [00:10<00:00, 37.20it/s]\n",
      "Training Epoch 1810: 100%|██████████| 378/378 [00:10<00:00, 37.14it/s]\n",
      "Training Epoch 1811: 100%|██████████| 378/378 [00:10<00:00, 37.05it/s]\n"
     ]
    },
    {
     "name": "stdout",
     "output_type": "stream",
     "text": [
      "Epoch 1810 - Train Loss: 0.4791, Train MSE: 0.4791, Train MAE: 0.4804\n",
      "Epoch 1810 - Validation Loss: 1.7214, Validation MSE: 1.7254, Validation MAE: 0.9267\n"
     ]
    },
    {
     "name": "stderr",
     "output_type": "stream",
     "text": [
      "Training Epoch 1812: 100%|██████████| 378/378 [00:10<00:00, 37.16it/s]\n",
      "Training Epoch 1813: 100%|██████████| 378/378 [00:10<00:00, 37.14it/s]\n",
      "Training Epoch 1814: 100%|██████████| 378/378 [00:10<00:00, 36.94it/s]\n",
      "Training Epoch 1815: 100%|██████████| 378/378 [00:10<00:00, 37.08it/s]\n",
      "Training Epoch 1816: 100%|██████████| 378/378 [00:10<00:00, 37.06it/s]\n",
      "Training Epoch 1817: 100%|██████████| 378/378 [00:10<00:00, 37.11it/s]\n",
      "Training Epoch 1818: 100%|██████████| 378/378 [00:10<00:00, 37.11it/s]\n",
      "Training Epoch 1819: 100%|██████████| 378/378 [00:10<00:00, 37.05it/s]\n",
      "Training Epoch 1820: 100%|██████████| 378/378 [00:10<00:00, 37.41it/s]\n",
      "Training Epoch 1821: 100%|██████████| 378/378 [00:10<00:00, 37.17it/s]\n"
     ]
    },
    {
     "name": "stdout",
     "output_type": "stream",
     "text": [
      "Epoch 1820 - Train Loss: 0.4699, Train MSE: 0.4699, Train MAE: 0.4791\n",
      "Epoch 1820 - Validation Loss: 1.7348, Validation MSE: 1.7387, Validation MAE: 0.9266\n"
     ]
    },
    {
     "name": "stderr",
     "output_type": "stream",
     "text": [
      "Training Epoch 1822: 100%|██████████| 378/378 [00:10<00:00, 37.18it/s]\n",
      "Training Epoch 1823: 100%|██████████| 378/378 [00:10<00:00, 37.48it/s]\n",
      "Training Epoch 1824: 100%|██████████| 378/378 [00:10<00:00, 37.20it/s]\n",
      "Training Epoch 1825: 100%|██████████| 378/378 [00:10<00:00, 37.08it/s]\n",
      "Training Epoch 1826: 100%|██████████| 378/378 [00:10<00:00, 37.21it/s]\n",
      "Training Epoch 1827: 100%|██████████| 378/378 [00:10<00:00, 37.09it/s]\n",
      "Training Epoch 1828: 100%|██████████| 378/378 [00:10<00:00, 37.21it/s]\n",
      "Training Epoch 1829: 100%|██████████| 378/378 [00:10<00:00, 37.16it/s]\n",
      "Training Epoch 1830: 100%|██████████| 378/378 [00:10<00:00, 37.31it/s]\n",
      "Training Epoch 1831: 100%|██████████| 378/378 [00:10<00:00, 37.03it/s]\n"
     ]
    },
    {
     "name": "stdout",
     "output_type": "stream",
     "text": [
      "Epoch 1830 - Train Loss: 0.4724, Train MSE: 0.4725, Train MAE: 0.4797\n",
      "Epoch 1830 - Validation Loss: 1.7000, Validation MSE: 1.7043, Validation MAE: 0.9217\n"
     ]
    },
    {
     "name": "stderr",
     "output_type": "stream",
     "text": [
      "Training Epoch 1832: 100%|██████████| 378/378 [00:10<00:00, 37.21it/s]\n",
      "Training Epoch 1833: 100%|██████████| 378/378 [00:10<00:00, 37.29it/s]\n",
      "Training Epoch 1834: 100%|██████████| 378/378 [00:10<00:00, 37.15it/s]\n",
      "Training Epoch 1835: 100%|██████████| 378/378 [00:10<00:00, 37.23it/s]\n",
      "Training Epoch 1836: 100%|██████████| 378/378 [00:10<00:00, 37.03it/s]\n",
      "Training Epoch 1837: 100%|██████████| 378/378 [00:10<00:00, 37.23it/s]\n",
      "Training Epoch 1838: 100%|██████████| 378/378 [00:10<00:00, 37.03it/s]\n",
      "Training Epoch 1839: 100%|██████████| 378/378 [00:10<00:00, 37.12it/s]\n",
      "Training Epoch 1840: 100%|██████████| 378/378 [00:10<00:00, 37.09it/s]\n",
      "Training Epoch 1841: 100%|██████████| 378/378 [00:10<00:00, 37.15it/s]\n"
     ]
    },
    {
     "name": "stdout",
     "output_type": "stream",
     "text": [
      "Epoch 1840 - Train Loss: 0.4739, Train MSE: 0.4739, Train MAE: 0.4812\n",
      "Epoch 1840 - Validation Loss: 1.6865, Validation MSE: 1.6903, Validation MAE: 0.9200\n"
     ]
    },
    {
     "name": "stderr",
     "output_type": "stream",
     "text": [
      "Training Epoch 1842: 100%|██████████| 378/378 [00:10<00:00, 37.32it/s]\n",
      "Training Epoch 1843: 100%|██████████| 378/378 [00:10<00:00, 36.99it/s]\n",
      "Training Epoch 1844: 100%|██████████| 378/378 [00:10<00:00, 37.03it/s]\n",
      "Training Epoch 1845: 100%|██████████| 378/378 [00:10<00:00, 37.15it/s]\n",
      "Training Epoch 1846: 100%|██████████| 378/378 [00:10<00:00, 37.13it/s]\n",
      "Training Epoch 1847: 100%|██████████| 378/378 [00:10<00:00, 36.95it/s]\n",
      "Training Epoch 1848: 100%|██████████| 378/378 [00:10<00:00, 37.23it/s]\n",
      "Training Epoch 1849: 100%|██████████| 378/378 [00:10<00:00, 37.07it/s]\n",
      "Training Epoch 1850: 100%|██████████| 378/378 [00:10<00:00, 37.11it/s]\n",
      "Training Epoch 1851: 100%|██████████| 378/378 [00:10<00:00, 37.07it/s]\n"
     ]
    },
    {
     "name": "stdout",
     "output_type": "stream",
     "text": [
      "Epoch 1850 - Train Loss: 0.4691, Train MSE: 0.4689, Train MAE: 0.4768\n",
      "Epoch 1850 - Validation Loss: 1.6891, Validation MSE: 1.6929, Validation MAE: 0.9155\n"
     ]
    },
    {
     "name": "stderr",
     "output_type": "stream",
     "text": [
      "Training Epoch 1852: 100%|██████████| 378/378 [00:10<00:00, 37.00it/s]\n",
      "Training Epoch 1853: 100%|██████████| 378/378 [00:10<00:00, 36.99it/s]\n",
      "Training Epoch 1854: 100%|██████████| 378/378 [00:10<00:00, 37.00it/s]\n",
      "Training Epoch 1855: 100%|██████████| 378/378 [00:10<00:00, 36.95it/s]\n",
      "Training Epoch 1856: 100%|██████████| 378/378 [00:10<00:00, 37.06it/s]\n",
      "Training Epoch 1857: 100%|██████████| 378/378 [00:10<00:00, 37.31it/s]\n",
      "Training Epoch 1858: 100%|██████████| 378/378 [00:10<00:00, 37.08it/s]\n",
      "Training Epoch 1859: 100%|██████████| 378/378 [00:10<00:00, 37.13it/s]\n",
      "Training Epoch 1860: 100%|██████████| 378/378 [00:10<00:00, 37.22it/s]\n",
      "Training Epoch 1861: 100%|██████████| 378/378 [00:10<00:00, 37.29it/s]\n"
     ]
    },
    {
     "name": "stdout",
     "output_type": "stream",
     "text": [
      "Epoch 1860 - Train Loss: 0.4670, Train MSE: 0.4672, Train MAE: 0.4767\n",
      "Epoch 1860 - Validation Loss: 1.7218, Validation MSE: 1.7263, Validation MAE: 0.9235\n"
     ]
    },
    {
     "name": "stderr",
     "output_type": "stream",
     "text": [
      "Training Epoch 1862: 100%|██████████| 378/378 [00:10<00:00, 37.18it/s]\n",
      "Training Epoch 1863: 100%|██████████| 378/378 [00:10<00:00, 37.06it/s]\n",
      "Training Epoch 1864: 100%|██████████| 378/378 [00:10<00:00, 37.04it/s]\n",
      "Training Epoch 1865: 100%|██████████| 378/378 [00:10<00:00, 37.17it/s]\n",
      "Training Epoch 1866: 100%|██████████| 378/378 [00:10<00:00, 36.97it/s]\n",
      "Training Epoch 1867: 100%|██████████| 378/378 [00:10<00:00, 37.19it/s]\n",
      "Training Epoch 1868: 100%|██████████| 378/378 [00:10<00:00, 37.13it/s]\n",
      "Training Epoch 1869: 100%|██████████| 378/378 [00:10<00:00, 37.18it/s]\n",
      "Training Epoch 1870: 100%|██████████| 378/378 [00:10<00:00, 37.06it/s]\n",
      "Training Epoch 1871: 100%|██████████| 378/378 [00:10<00:00, 37.02it/s]\n"
     ]
    },
    {
     "name": "stdout",
     "output_type": "stream",
     "text": [
      "Epoch 1870 - Train Loss: 0.4924, Train MSE: 0.4926, Train MAE: 0.4890\n",
      "Epoch 1870 - Validation Loss: 1.7211, Validation MSE: 1.7251, Validation MAE: 0.9253\n"
     ]
    },
    {
     "name": "stderr",
     "output_type": "stream",
     "text": [
      "Training Epoch 1872: 100%|██████████| 378/378 [00:10<00:00, 37.06it/s]\n",
      "Training Epoch 1873: 100%|██████████| 378/378 [00:10<00:00, 37.09it/s]\n",
      "Training Epoch 1874: 100%|██████████| 378/378 [00:10<00:00, 36.96it/s]\n",
      "Training Epoch 1875: 100%|██████████| 378/378 [00:10<00:00, 36.98it/s]\n",
      "Training Epoch 1876: 100%|██████████| 378/378 [00:10<00:00, 37.03it/s]\n",
      "Training Epoch 1877: 100%|██████████| 378/378 [00:10<00:00, 37.15it/s]\n",
      "Training Epoch 1878: 100%|██████████| 378/378 [00:10<00:00, 37.02it/s]\n",
      "Training Epoch 1879: 100%|██████████| 378/378 [00:10<00:00, 37.12it/s]\n",
      "Training Epoch 1880: 100%|██████████| 378/378 [00:10<00:00, 36.93it/s]\n",
      "Training Epoch 1881: 100%|██████████| 378/378 [00:10<00:00, 36.89it/s]\n"
     ]
    },
    {
     "name": "stdout",
     "output_type": "stream",
     "text": [
      "Epoch 1880 - Train Loss: 0.4672, Train MSE: 0.4671, Train MAE: 0.4786\n",
      "Epoch 1880 - Validation Loss: 1.7353, Validation MSE: 1.7398, Validation MAE: 0.9284\n"
     ]
    },
    {
     "name": "stderr",
     "output_type": "stream",
     "text": [
      "Training Epoch 1882: 100%|██████████| 378/378 [00:10<00:00, 37.07it/s]\n",
      "Training Epoch 1883: 100%|██████████| 378/378 [00:10<00:00, 37.30it/s]\n",
      "Training Epoch 1884: 100%|██████████| 378/378 [00:10<00:00, 37.07it/s]\n",
      "Training Epoch 1885: 100%|██████████| 378/378 [00:10<00:00, 36.99it/s]\n",
      "Training Epoch 1886: 100%|██████████| 378/378 [00:10<00:00, 36.99it/s]\n",
      "Training Epoch 1887: 100%|██████████| 378/378 [00:10<00:00, 36.99it/s]\n",
      "Training Epoch 1888: 100%|██████████| 378/378 [00:10<00:00, 37.01it/s]\n",
      "Training Epoch 1889: 100%|██████████| 378/378 [00:10<00:00, 37.02it/s]\n",
      "Training Epoch 1890: 100%|██████████| 378/378 [00:10<00:00, 36.95it/s]\n",
      "Training Epoch 1891: 100%|██████████| 378/378 [00:10<00:00, 36.92it/s]\n"
     ]
    },
    {
     "name": "stdout",
     "output_type": "stream",
     "text": [
      "Epoch 1890 - Train Loss: 0.4698, Train MSE: 0.4697, Train MAE: 0.4778\n",
      "Epoch 1890 - Validation Loss: 1.7275, Validation MSE: 1.7315, Validation MAE: 0.9231\n"
     ]
    },
    {
     "name": "stderr",
     "output_type": "stream",
     "text": [
      "Training Epoch 1892: 100%|██████████| 378/378 [00:10<00:00, 37.02it/s]\n",
      "Training Epoch 1893: 100%|██████████| 378/378 [00:10<00:00, 36.89it/s]\n",
      "Training Epoch 1894: 100%|██████████| 378/378 [00:10<00:00, 36.93it/s]\n",
      "Training Epoch 1895: 100%|██████████| 378/378 [00:10<00:00, 36.95it/s]\n",
      "Training Epoch 1896: 100%|██████████| 378/378 [00:10<00:00, 37.12it/s]\n",
      "Training Epoch 1897: 100%|██████████| 378/378 [00:10<00:00, 37.06it/s]\n",
      "Training Epoch 1898: 100%|██████████| 378/378 [00:10<00:00, 36.94it/s]\n",
      "Training Epoch 1899: 100%|██████████| 378/378 [00:10<00:00, 36.95it/s]\n",
      "Training Epoch 1900: 100%|██████████| 378/378 [00:10<00:00, 36.88it/s]\n",
      "Training Epoch 1901: 100%|██████████| 378/378 [00:10<00:00, 36.94it/s]\n"
     ]
    },
    {
     "name": "stdout",
     "output_type": "stream",
     "text": [
      "Epoch 1900 - Train Loss: 0.4673, Train MSE: 0.4675, Train MAE: 0.4772\n",
      "Epoch 1900 - Validation Loss: 1.7294, Validation MSE: 1.7335, Validation MAE: 0.9280\n"
     ]
    },
    {
     "name": "stderr",
     "output_type": "stream",
     "text": [
      "Training Epoch 1902: 100%|██████████| 378/378 [00:10<00:00, 36.88it/s]\n",
      "Training Epoch 1903: 100%|██████████| 378/378 [00:10<00:00, 36.99it/s]\n",
      "Training Epoch 1904: 100%|██████████| 378/378 [00:10<00:00, 36.94it/s]\n",
      "Training Epoch 1905: 100%|██████████| 378/378 [00:10<00:00, 36.90it/s]\n",
      "Training Epoch 1906: 100%|██████████| 378/378 [00:10<00:00, 37.01it/s]\n",
      "Training Epoch 1907: 100%|██████████| 378/378 [00:10<00:00, 36.83it/s]\n",
      "Training Epoch 1908: 100%|██████████| 378/378 [00:10<00:00, 36.90it/s]\n",
      "Training Epoch 1909: 100%|██████████| 378/378 [00:10<00:00, 36.97it/s]\n",
      "Training Epoch 1910: 100%|██████████| 378/378 [00:10<00:00, 36.67it/s]\n",
      "Training Epoch 1911: 100%|██████████| 378/378 [00:10<00:00, 37.08it/s]\n"
     ]
    },
    {
     "name": "stdout",
     "output_type": "stream",
     "text": [
      "Epoch 1910 - Train Loss: 0.4794, Train MSE: 0.4795, Train MAE: 0.4814\n",
      "Epoch 1910 - Validation Loss: 1.6971, Validation MSE: 1.7009, Validation MAE: 0.9193\n"
     ]
    },
    {
     "name": "stderr",
     "output_type": "stream",
     "text": [
      "Training Epoch 1912: 100%|██████████| 378/378 [00:10<00:00, 37.10it/s]\n",
      "Training Epoch 1913: 100%|██████████| 378/378 [00:10<00:00, 37.09it/s]\n",
      "Training Epoch 1914: 100%|██████████| 378/378 [00:10<00:00, 37.11it/s]\n",
      "Training Epoch 1915: 100%|██████████| 378/378 [00:10<00:00, 37.28it/s]\n",
      "Training Epoch 1916: 100%|██████████| 378/378 [00:10<00:00, 37.03it/s]\n",
      "Training Epoch 1917: 100%|██████████| 378/378 [00:10<00:00, 35.73it/s]\n",
      "Training Epoch 1918: 100%|██████████| 378/378 [00:10<00:00, 37.24it/s]\n",
      "Training Epoch 1919: 100%|██████████| 378/378 [00:10<00:00, 37.42it/s]\n",
      "Training Epoch 1920: 100%|██████████| 378/378 [00:10<00:00, 37.25it/s]\n",
      "Training Epoch 1921: 100%|██████████| 378/378 [00:10<00:00, 37.23it/s]\n"
     ]
    },
    {
     "name": "stdout",
     "output_type": "stream",
     "text": [
      "Epoch 1920 - Train Loss: 0.4643, Train MSE: 0.4643, Train MAE: 0.4750\n",
      "Epoch 1920 - Validation Loss: 1.7517, Validation MSE: 1.7559, Validation MAE: 0.9315\n"
     ]
    },
    {
     "name": "stderr",
     "output_type": "stream",
     "text": [
      "Training Epoch 1922: 100%|██████████| 378/378 [00:10<00:00, 37.23it/s]\n",
      "Training Epoch 1923: 100%|██████████| 378/378 [00:10<00:00, 37.11it/s]\n",
      "Training Epoch 1924: 100%|██████████| 378/378 [00:10<00:00, 37.08it/s]\n",
      "Training Epoch 1925: 100%|██████████| 378/378 [00:10<00:00, 37.28it/s]\n",
      "Training Epoch 1926: 100%|██████████| 378/378 [00:10<00:00, 37.11it/s]\n",
      "Training Epoch 1927: 100%|██████████| 378/378 [00:10<00:00, 37.24it/s]\n",
      "Training Epoch 1928: 100%|██████████| 378/378 [00:10<00:00, 37.11it/s]\n",
      "Training Epoch 1929: 100%|██████████| 378/378 [00:10<00:00, 37.07it/s]\n",
      "Training Epoch 1930: 100%|██████████| 378/378 [00:10<00:00, 37.08it/s]\n",
      "Training Epoch 1931: 100%|██████████| 378/378 [00:10<00:00, 37.30it/s]\n"
     ]
    },
    {
     "name": "stdout",
     "output_type": "stream",
     "text": [
      "Epoch 1930 - Train Loss: 0.4671, Train MSE: 0.4664, Train MAE: 0.4742\n",
      "Epoch 1930 - Validation Loss: 1.7312, Validation MSE: 1.7352, Validation MAE: 0.9387\n"
     ]
    },
    {
     "name": "stderr",
     "output_type": "stream",
     "text": [
      "Training Epoch 1932: 100%|██████████| 378/378 [00:10<00:00, 37.13it/s]\n",
      "Training Epoch 1933: 100%|██████████| 378/378 [00:10<00:00, 37.12it/s]\n",
      "Training Epoch 1934: 100%|██████████| 378/378 [00:10<00:00, 37.07it/s]\n",
      "Training Epoch 1935: 100%|██████████| 378/378 [00:10<00:00, 37.12it/s]\n",
      "Training Epoch 1936: 100%|██████████| 378/378 [00:10<00:00, 37.12it/s]\n",
      "Training Epoch 1937: 100%|██████████| 378/378 [00:10<00:00, 37.03it/s]\n",
      "Training Epoch 1938: 100%|██████████| 378/378 [00:10<00:00, 37.02it/s]\n",
      "Training Epoch 1939: 100%|██████████| 378/378 [00:10<00:00, 37.15it/s]\n",
      "Training Epoch 1940: 100%|██████████| 378/378 [00:10<00:00, 37.00it/s]\n",
      "Training Epoch 1941: 100%|██████████| 378/378 [00:10<00:00, 36.92it/s]\n"
     ]
    },
    {
     "name": "stdout",
     "output_type": "stream",
     "text": [
      "Epoch 1940 - Train Loss: 0.4706, Train MSE: 0.4706, Train MAE: 0.4802\n",
      "Epoch 1940 - Validation Loss: 1.7152, Validation MSE: 1.7197, Validation MAE: 0.9332\n"
     ]
    },
    {
     "name": "stderr",
     "output_type": "stream",
     "text": [
      "Training Epoch 1942: 100%|██████████| 378/378 [00:10<00:00, 37.21it/s]\n",
      "Training Epoch 1943: 100%|██████████| 378/378 [00:10<00:00, 37.14it/s]\n",
      "Training Epoch 1944: 100%|██████████| 378/378 [00:10<00:00, 37.32it/s]\n",
      "Training Epoch 1945: 100%|██████████| 378/378 [00:10<00:00, 37.19it/s]\n",
      "Training Epoch 1946: 100%|██████████| 378/378 [00:10<00:00, 36.99it/s]\n",
      "Training Epoch 1947: 100%|██████████| 378/378 [00:10<00:00, 37.31it/s]\n",
      "Training Epoch 1948: 100%|██████████| 378/378 [00:10<00:00, 37.08it/s]\n",
      "Training Epoch 1949: 100%|██████████| 378/378 [00:10<00:00, 37.11it/s]\n",
      "Training Epoch 1950: 100%|██████████| 378/378 [00:10<00:00, 36.95it/s]\n",
      "Training Epoch 1951: 100%|██████████| 378/378 [00:10<00:00, 37.01it/s]\n"
     ]
    },
    {
     "name": "stdout",
     "output_type": "stream",
     "text": [
      "Epoch 1950 - Train Loss: 0.4691, Train MSE: 0.4692, Train MAE: 0.4773\n",
      "Epoch 1950 - Validation Loss: 1.7902, Validation MSE: 1.7947, Validation MAE: 0.9440\n"
     ]
    },
    {
     "name": "stderr",
     "output_type": "stream",
     "text": [
      "Training Epoch 1952: 100%|██████████| 378/378 [00:10<00:00, 37.03it/s]\n",
      "Training Epoch 1953: 100%|██████████| 378/378 [00:10<00:00, 36.96it/s]\n",
      "Training Epoch 1954: 100%|██████████| 378/378 [00:10<00:00, 37.04it/s]\n",
      "Training Epoch 1955: 100%|██████████| 378/378 [00:10<00:00, 37.11it/s]\n",
      "Training Epoch 1956: 100%|██████████| 378/378 [00:10<00:00, 36.86it/s]\n",
      "Training Epoch 1957: 100%|██████████| 378/378 [00:10<00:00, 37.06it/s]\n",
      "Training Epoch 1958: 100%|██████████| 378/378 [00:10<00:00, 37.03it/s]\n",
      "Training Epoch 1959: 100%|██████████| 378/378 [00:10<00:00, 37.08it/s]\n",
      "Training Epoch 1960: 100%|██████████| 378/378 [00:10<00:00, 37.11it/s]\n",
      "Training Epoch 1961: 100%|██████████| 378/378 [00:10<00:00, 37.50it/s]\n"
     ]
    },
    {
     "name": "stdout",
     "output_type": "stream",
     "text": [
      "Epoch 1960 - Train Loss: 0.4758, Train MSE: 0.4761, Train MAE: 0.4828\n",
      "Epoch 1960 - Validation Loss: 1.7126, Validation MSE: 1.7164, Validation MAE: 0.9289\n"
     ]
    },
    {
     "name": "stderr",
     "output_type": "stream",
     "text": [
      "Training Epoch 1962: 100%|██████████| 378/378 [00:10<00:00, 37.48it/s]\n",
      "Training Epoch 1963: 100%|██████████| 378/378 [00:10<00:00, 37.35it/s]\n",
      "Training Epoch 1964: 100%|██████████| 378/378 [00:10<00:00, 37.38it/s]\n",
      "Training Epoch 1965: 100%|██████████| 378/378 [00:10<00:00, 37.28it/s]\n",
      "Training Epoch 1966: 100%|██████████| 378/378 [00:10<00:00, 37.24it/s]\n",
      "Training Epoch 1967: 100%|██████████| 378/378 [00:10<00:00, 37.32it/s]\n",
      "Training Epoch 1968: 100%|██████████| 378/378 [00:10<00:00, 37.29it/s]\n",
      "Training Epoch 1969: 100%|██████████| 378/378 [00:10<00:00, 37.23it/s]\n",
      "Training Epoch 1970: 100%|██████████| 378/378 [00:10<00:00, 37.28it/s]\n",
      "Training Epoch 1971: 100%|██████████| 378/378 [00:10<00:00, 37.25it/s]\n"
     ]
    },
    {
     "name": "stdout",
     "output_type": "stream",
     "text": [
      "Epoch 1970 - Train Loss: 0.4635, Train MSE: 0.4632, Train MAE: 0.4774\n",
      "Epoch 1970 - Validation Loss: 1.7476, Validation MSE: 1.7519, Validation MAE: 0.9399\n"
     ]
    },
    {
     "name": "stderr",
     "output_type": "stream",
     "text": [
      "Training Epoch 1972: 100%|██████████| 378/378 [00:10<00:00, 37.21it/s]\n",
      "Training Epoch 1973: 100%|██████████| 378/378 [00:10<00:00, 37.43it/s]\n",
      "Training Epoch 1974: 100%|██████████| 378/378 [00:10<00:00, 37.46it/s]\n",
      "Training Epoch 1975: 100%|██████████| 378/378 [00:10<00:00, 37.37it/s]\n",
      "Training Epoch 1976: 100%|██████████| 378/378 [00:10<00:00, 37.34it/s]\n",
      "Training Epoch 1977: 100%|██████████| 378/378 [00:10<00:00, 37.10it/s]\n",
      "Training Epoch 1978: 100%|██████████| 378/378 [00:10<00:00, 37.00it/s]\n",
      "Training Epoch 1979: 100%|██████████| 378/378 [00:10<00:00, 37.32it/s]\n",
      "Training Epoch 1980: 100%|██████████| 378/378 [00:10<00:00, 37.31it/s]\n",
      "Training Epoch 1981: 100%|██████████| 378/378 [00:10<00:00, 37.03it/s]\n"
     ]
    },
    {
     "name": "stdout",
     "output_type": "stream",
     "text": [
      "Epoch 1980 - Train Loss: 0.4593, Train MSE: 0.4589, Train MAE: 0.4739\n",
      "Epoch 1980 - Validation Loss: 1.7045, Validation MSE: 1.7083, Validation MAE: 0.9277\n"
     ]
    },
    {
     "name": "stderr",
     "output_type": "stream",
     "text": [
      "Training Epoch 1982: 100%|██████████| 378/378 [00:10<00:00, 37.34it/s]\n",
      "Training Epoch 1983: 100%|██████████| 378/378 [00:10<00:00, 37.24it/s]\n",
      "Training Epoch 1984: 100%|██████████| 378/378 [00:10<00:00, 37.33it/s]\n",
      "Training Epoch 1985: 100%|██████████| 378/378 [00:10<00:00, 37.44it/s]\n",
      "Training Epoch 1986: 100%|██████████| 378/378 [00:10<00:00, 37.37it/s]\n",
      "Training Epoch 1987: 100%|██████████| 378/378 [00:10<00:00, 37.25it/s]\n",
      "Training Epoch 1988: 100%|██████████| 378/378 [00:10<00:00, 37.19it/s]\n",
      "Training Epoch 1989: 100%|██████████| 378/378 [00:10<00:00, 37.14it/s]\n",
      "Training Epoch 1990: 100%|██████████| 378/378 [00:10<00:00, 36.98it/s]\n",
      "Training Epoch 1991: 100%|██████████| 378/378 [00:10<00:00, 37.22it/s]\n"
     ]
    },
    {
     "name": "stdout",
     "output_type": "stream",
     "text": [
      "Epoch 1990 - Train Loss: 0.4660, Train MSE: 0.4662, Train MAE: 0.4744\n",
      "Epoch 1990 - Validation Loss: 1.7145, Validation MSE: 1.7189, Validation MAE: 0.9279\n"
     ]
    },
    {
     "name": "stderr",
     "output_type": "stream",
     "text": [
      "Training Epoch 1992: 100%|██████████| 378/378 [00:10<00:00, 37.38it/s]\n",
      "Training Epoch 1993: 100%|██████████| 378/378 [00:10<00:00, 37.28it/s]\n",
      "Training Epoch 1994: 100%|██████████| 378/378 [00:10<00:00, 37.31it/s]\n",
      "Training Epoch 1995: 100%|██████████| 378/378 [00:10<00:00, 37.37it/s]\n",
      "Training Epoch 1996: 100%|██████████| 378/378 [00:10<00:00, 37.45it/s]\n",
      "Training Epoch 1997: 100%|██████████| 378/378 [00:10<00:00, 37.20it/s]\n",
      "Training Epoch 1998: 100%|██████████| 378/378 [00:10<00:00, 37.42it/s]\n",
      "Training Epoch 1999: 100%|██████████| 378/378 [00:10<00:00, 37.39it/s]\n",
      "Training Epoch 2000: 100%|██████████| 378/378 [00:10<00:00, 37.29it/s]\n"
     ]
    },
    {
     "name": "stdout",
     "output_type": "stream",
     "text": [
      "Test MSE: 1.7919, Test MAE: 0.9776\n"
     ]
    }
   ],
   "source": [
    "import torch\n",
    "import torch.nn as nn\n",
    "import torch.optim as optim\n",
    "from tqdm import tqdm\n",
    "import pandas as pd\n",
    "from sklearn.metrics import r2_score, median_absolute_error, explained_variance_score\n",
    "from scipy.stats import pearsonr\n",
    "\n",
    "\n",
    "train_history = pd.DataFrame(columns=[  'epoch',\n",
    "    'Train Loss', 'Train MSE', 'Train MAE', 'Train RMSE', 'Train R2', 'Train Pearson', 'Train Median_AE', 'Train Explained_VAR'\n",
    "    'Val Loss', 'Val MSE', 'Val MAE', 'Val RMSE', 'Val R2', 'Val Pearson', 'Val Median_AE', 'Val Explained_VAR'])\n",
    "# Verify feature dimensions\n",
    "for batch in train_loader:\n",
    "    mol_input_dim = batch['metabolite_features'].shape[1]  # Dynamically determine mol input dimension\n",
    "    protein_input_dim = batch['protein_features'].shape[1]  # Dynamically determine protein input dimension\n",
    "    break\n",
    "\n",
    "# Initialize model, optimizer, and loss function\n",
    "num_timesteps = 10\n",
    "model = CNNRegressor(mol_input_dim=mol_input_dim, protein_input_dim=protein_input_dim)\n",
    "model = model.to(device)\n",
    "optimizer = optim.Adam(model.parameters(), lr=0.0001)\n",
    "criterion = nn.MSELoss()\n",
    "\n",
    "# Training and Validation Loop\n",
    "for epoch in range(2000):\n",
    "    model.train()\n",
    "    total_loss = 0.0\n",
    "    val_total_loss = 0.0\n",
    "    train_predictions, train_labels = [], []\n",
    "\n",
    "    for batch in tqdm(train_loader, desc=f\"Training Epoch {epoch + 1}\"):\n",
    "        mol_features = batch['metabolite_features'].to(device)\n",
    "        protein_features = batch['protein_features'].to(device)\n",
    "        labels = batch['label'].to(device)\n",
    "\n",
    "        optimizer.zero_grad()\n",
    "        outputs = model(mol_features, protein_features)\n",
    "        loss = criterion(outputs, labels)\n",
    "        loss.backward()\n",
    "        optimizer.step()\n",
    "        total_loss += loss.item()\n",
    "\n",
    "        # Store predictions and labels for metrics\n",
    "        train_predictions.extend(outputs.detach().cpu().numpy())\n",
    "        train_labels.extend(labels.cpu().numpy())\n",
    "\n",
    "    # Calculate training metrics\n",
    "    train_mse = ((torch.tensor(train_predictions) - torch.tensor(train_labels))**2).mean().item()\n",
    "    train_mae = torch.abs(torch.tensor(train_predictions) - torch.tensor(train_labels)).mean().item()\n",
    "    train_rmse = torch.sqrt((torch.tensor(train_predictions) - torch.tensor(train_labels)) ** 2).mean().item()\n",
    "    train_r2 = r2_score(np.array(train_labels), np.array(train_predictions))\n",
    "    train_pearson_corr, _ = pearsonr(np.array(train_labels), np.array(train_predictions))\n",
    "    train_median_ae = median_absolute_error(np.array(train_labels), np.array(train_predictions))\n",
    "    train_explained_var = explained_variance_score(np.array(train_labels), np.array(train_predictions))\n",
    "\n",
    "\n",
    "\n",
    "    if epoch % 10 == 0:\n",
    "        print(f\"Epoch {epoch} - Train Loss: {total_loss / len(train_loader):.4f}, Train MSE: {train_mse:.4f}, Train MAE: {train_mae:.4f}\")\n",
    "\n",
    "    # Validation\n",
    "    model.eval()\n",
    "    val_predictions, val_labels = [], []\n",
    "    with torch.no_grad():\n",
    "        for batch in val_loader:\n",
    "            mol_features = batch['metabolite_features'].to(device)\n",
    "            protein_features = batch['protein_features'].to(device)\n",
    "            labels = batch['label'].to(device)\n",
    "\n",
    "            outputs = model(mol_features, protein_features)\n",
    "            val_predictions.extend(outputs.cpu().numpy())\n",
    "            val_labels.extend(labels.cpu().numpy())\n",
    "            val_loss = criterion(outputs, labels)\n",
    "            val_total_loss += val_loss.item()\n",
    "\n",
    "    val_mse = ((torch.tensor(val_predictions) - torch.tensor(val_labels))**2).mean().item()\n",
    "    val_mae = torch.abs(torch.tensor(val_predictions) - torch.tensor(val_labels)).mean().item()\n",
    "    val_rmse = torch.sqrt((torch.tensor(val_predictions) - torch.tensor(val_labels)) ** 2).mean().item()\n",
    "    val_r2 = r2_score(np.array(val_labels), np.array(val_predictions))\n",
    "    val_pearson_corr, _ = pearsonr(np.array(val_labels), np.array(val_predictions))\n",
    "    val_median_ae = median_absolute_error(np.array(val_labels), np.array(val_predictions))\n",
    "    val_explained_var = explained_variance_score(np.array(val_labels), np.array(val_predictions))\n",
    "\n",
    "    if epoch % 10 == 0:\n",
    "        print(f\"Epoch {epoch} - Validation Loss: {val_total_loss / len(val_loader):.4f}, Validation MSE: {val_mse:.4f}, Validation MAE: {val_mae:.4f}\")\n",
    "\n",
    "    # Save metrics to DataFrame\n",
    "    new_row = {'epoch': epoch + 1, 'Train Loss': total_loss / len(train_loader), 'Train MSE': train_mse, 'Train MAE': train_mae, 'Train RMSE': train_rmse, 'Train R2': train_r2, 'Train Pearson': train_pearson_corr, 'Train Median_AE': train_median_ae, 'Train Explained_VAR': train_explained_var, \n",
    "               'Val Loss': val_total_loss / len(val_loader), 'Val MSE': val_mse, 'Val MAE': val_mae, 'Val RMSE': val_rmse, 'Val R2': val_r2, 'Val Pearson': val_pearson_corr, 'Val Median_AE': val_median_ae, 'Val Explained_VAR': val_explained_var}\n",
    "    train_history = pd.concat([train_history, pd.DataFrame([new_row])], ignore_index=True)\n",
    "\n"
   ]
  },
  {
   "cell_type": "code",
   "execution_count": 18,
   "metadata": {},
   "outputs": [],
   "source": [
    "for batch in train_loader:\n",
    "    mol_input_dim = batch['metabolite_features'].shape[1]  # Dynamically determine mol input dimension\n",
    "    protein_input_dim = batch['protein_features'].shape[1]  # Dynamically determine protein input dimension\n",
    "    break\n",
    "# First, reinitialize the model with the same architecture\n",
    "model = CNNRegressor(mol_input_dim=mol_input_dim, protein_input_dim=protein_input_dim)\n",
    "\n",
    "# Load the saved model weights\n",
    "model.load_state_dict(torch.load('/Users/pinchichen/2025S lab/AI drug project/code/trained_model/cold_protein/CNN model_cold_protein.pt'))\n",
    "# Move to device if using GPU\n",
    "model = model.to(device)\n"
   ]
  },
  {
   "cell_type": "code",
   "execution_count": 20,
   "metadata": {},
   "outputs": [
    {
     "name": "stdout",
     "output_type": "stream",
     "text": [
      "Test MSE: 1.7919, Test MAE: 0.9776\n"
     ]
    }
   ],
   "source": [
    "from sklearn.metrics import mean_squared_error, mean_absolute_error, r2_score, median_absolute_error, explained_variance_score\n",
    "from scipy.stats import pearsonr\n",
    "# Test Metrics\n",
    "model.eval()\n",
    "test_predictions, test_labels = [], []\n",
    "with torch.no_grad():\n",
    "    for batch in test_loader:\n",
    "        mol_features = batch['metabolite_features'].to(device)\n",
    "        protein_features = batch['protein_features'].to(device)\n",
    "        labels = batch['label'].to(device)\n",
    "\n",
    "        outputs = model(mol_features, protein_features)\n",
    "        test_predictions.extend(outputs.cpu().numpy())\n",
    "        test_labels.extend(labels.cpu().numpy())\n",
    "\n",
    "test_mse = ((torch.tensor(test_predictions) - torch.tensor(test_labels))**2).mean().item()\n",
    "test_mae = torch.abs(torch.tensor(test_predictions) - torch.tensor(test_labels)).mean().item()\n",
    "test_rmse = torch.sqrt((torch.tensor(test_predictions) - torch.tensor(test_labels)) ** 2).mean().item()\n",
    "test_r2 = r2_score(np.array(test_labels), np.array(test_predictions))\n",
    "test_pearson_corr, _ = pearsonr(np.array(test_labels), np.array(test_predictions))\n",
    "test_median_ae = median_absolute_error(np.array(test_labels), np.array(test_predictions))\n",
    "test_explained_var = explained_variance_score(np.array(test_labels), np.array(test_predictions))\n",
    "\n",
    "print(f\"Test MSE: {test_mse:.4f}, Test MAE: {test_mae:.4f}\")"
   ]
  },
  {
   "cell_type": "code",
   "execution_count": 21,
   "metadata": {},
   "outputs": [],
   "source": [
    "\n",
    "def evaluate_model(predictions, labels):\n",
    "    mse = mean_squared_error(labels, predictions)\n",
    "    rmse = np.sqrt(mse)\n",
    "    mae = mean_absolute_error(labels, predictions)\n",
    "    r2 = r2_score(labels, predictions)\n",
    "    pearson_corr, _ = pearsonr(labels, predictions)\n",
    "    medae = median_absolute_error(labels, predictions)\n",
    "    evs = explained_variance_score(labels, predictions)\n",
    "\n",
    "    return mse, rmse, mae, r2, pearson_corr, medae, evs"
   ]
  },
  {
   "cell_type": "code",
   "execution_count": 22,
   "metadata": {},
   "outputs": [],
   "source": [
    "model.eval()\n",
    "train_pred, train_labels = [], []\n",
    "with torch.no_grad():\n",
    "    for batch in train_loader:\n",
    "        mol_features = batch['metabolite_features'].to(device)\n",
    "        protein_features = batch['protein_features'].to(device)\n",
    "        labels = batch['label'].to(device)\n",
    "\n",
    "        outputs = model(mol_features, protein_features)\n",
    "        train_pred.extend(outputs.cpu().numpy())\n",
    "        train_labels.extend(labels.cpu().numpy())\n",
    "\n",
    "train_mse, train_rmse, train_mae, train_r2, train_pearson_corr, train_median_ae, train_explained_var = evaluate_model(train_pred, train_labels)"
   ]
  },
  {
   "cell_type": "code",
   "execution_count": 23,
   "metadata": {},
   "outputs": [],
   "source": [
    "model.eval()\n",
    "val_pred, val_labels = [], []\n",
    "with torch.no_grad():\n",
    "    for batch in val_loader:\n",
    "        mol_features = batch['metabolite_features'].to(device)\n",
    "        protein_features = batch['protein_features'].to(device)\n",
    "        labels = batch['label'].to(device)\n",
    "\n",
    "        outputs = model(mol_features, protein_features)\n",
    "        val_pred.extend(outputs.cpu().numpy())\n",
    "        val_labels.extend(labels.cpu().numpy())\n",
    "\n",
    "val_mse, val_rmse, val_mae, val_r2, val_pearson_corr, val_median_ae, val_explained_var = evaluate_model(val_pred, val_labels)\n"
   ]
  },
  {
   "cell_type": "code",
   "execution_count": 24,
   "metadata": {},
   "outputs": [],
   "source": [
    "# append the performance to the csv file\n",
    "df = {\n",
    "    'Model':['CNN','CNN','CNN'],\n",
    "    'Dataset':['Train','Validation','Test'],\n",
    "    'MSE':[train_mse,val_mse,test_mse],\n",
    "    'RMSE':[train_rmse,val_rmse,test_rmse],\n",
    "    'MAE':[train_mae,val_mae,test_mae],\n",
    "    'R2':[train_r2,val_r2,test_r2],\n",
    "    'Pearson':[train_pearson_corr,val_pearson_corr,test_pearson_corr],\n",
    "    'Median_AE':[train_median_ae,val_median_ae,test_median_ae],\n",
    "    'Explained_VAR':[train_explained_var,val_explained_var,test_explained_var],\n",
    "    'Dataspliting Mode':['cold protein','cold protein','cold protein']\n",
    "}\n",
    "df = pd.DataFrame(df)\n",
    "\n",
    "df.to_csv('/Users/pinchichen/2025S lab/AI drug project/code/model performance metrics.csv', mode='a', header=False)"
   ]
  },
  {
   "cell_type": "code",
   "execution_count": 19,
   "metadata": {},
   "outputs": [],
   "source": [
    "# Save the model and training history\n",
    "save_dir = '/Users/pinchichen/2025S lab/AI drug project/code/trained_model/cold_protein'\n",
    "# save model weights and optimizer state\n",
    "torch.save(model.state_dict(), os.path.join(save_dir, 'CNN model_cold_protein.pt'))\n",
    "torch.save(optimizer.state_dict(), os.path.join(save_dir, 'CNN optimizer_cold_protein.pt'))"
   ]
  },
  {
   "cell_type": "code",
   "execution_count": null,
   "metadata": {},
   "outputs": [
    {
     "name": "stderr",
     "output_type": "stream",
     "text": [
      "Training Epoch 1: 100%|██████████| 370/370 [00:11<00:00, 31.59it/s]\n"
     ]
    },
    {
     "name": "stdout",
     "output_type": "stream",
     "text": [
      "Epoch 0 - Train Loss: 2.2155, Train MSE: 2.2180, Train MAE: 1.1623\n"
     ]
    },
    {
     "name": "stderr",
     "output_type": "stream",
     "text": [
      "/var/folders/yz/c1z6m9_d5d3f80sywjc3rqsc0000gn/T/ipykernel_56848/909891949.py:83: FutureWarning: The behavior of DataFrame concatenation with empty or all-NA entries is deprecated. In a future version, this will no longer exclude empty or all-NA columns when determining the result dtypes. To retain the old behavior, exclude the relevant entries before the concat operation.\n",
      "  train_history_2 = pd.concat([train_history_2, pd.DataFrame([new_row])], ignore_index=True)\n"
     ]
    },
    {
     "name": "stdout",
     "output_type": "stream",
     "text": [
      "Epoch 0 - Validation Loss: 2.1929, Validation MSE: 2.1961, Validation MAE: 1.1785\n"
     ]
    },
    {
     "name": "stderr",
     "output_type": "stream",
     "text": [
      "Training Epoch 2: 100%|██████████| 370/370 [00:13<00:00, 28.33it/s]\n",
      "Training Epoch 3: 100%|██████████| 370/370 [00:12<00:00, 29.92it/s]\n",
      "Training Epoch 4: 100%|██████████| 370/370 [00:12<00:00, 30.42it/s]\n",
      "Training Epoch 5: 100%|██████████| 370/370 [00:12<00:00, 30.63it/s]\n",
      "Training Epoch 6: 100%|██████████| 370/370 [00:13<00:00, 28.36it/s]\n",
      "Training Epoch 7: 100%|██████████| 370/370 [00:14<00:00, 26.39it/s]\n",
      "Training Epoch 8: 100%|██████████| 370/370 [00:13<00:00, 26.81it/s]\n",
      "Training Epoch 9: 100%|██████████| 370/370 [00:13<00:00, 27.20it/s]\n",
      "Training Epoch 10: 100%|██████████| 370/370 [00:14<00:00, 25.75it/s]\n",
      "Training Epoch 11: 100%|██████████| 370/370 [00:15<00:00, 23.60it/s]\n"
     ]
    },
    {
     "name": "stdout",
     "output_type": "stream",
     "text": [
      "Epoch 10 - Train Loss: 1.6656, Train MSE: 1.6669, Train MAE: 0.9947\n",
      "Epoch 10 - Validation Loss: 1.9312, Validation MSE: 1.9337, Validation MAE: 1.0910\n"
     ]
    },
    {
     "name": "stderr",
     "output_type": "stream",
     "text": [
      "Training Epoch 12: 100%|██████████| 370/370 [00:15<00:00, 23.15it/s]\n",
      "Training Epoch 13: 100%|██████████| 370/370 [00:15<00:00, 24.39it/s]\n",
      "Training Epoch 14: 100%|██████████| 370/370 [00:14<00:00, 25.12it/s]\n",
      "Training Epoch 15: 100%|██████████| 370/370 [00:16<00:00, 23.04it/s]\n",
      "Training Epoch 16: 100%|██████████| 370/370 [00:15<00:00, 23.68it/s]\n",
      "Training Epoch 17: 100%|██████████| 370/370 [00:15<00:00, 24.53it/s]\n",
      "Training Epoch 18: 100%|██████████| 370/370 [00:14<00:00, 25.72it/s]\n",
      "Training Epoch 19: 100%|██████████| 370/370 [00:14<00:00, 25.55it/s]\n",
      "Training Epoch 20: 100%|██████████| 370/370 [00:14<00:00, 25.38it/s]\n",
      "Training Epoch 21: 100%|██████████| 370/370 [00:15<00:00, 24.62it/s]\n"
     ]
    },
    {
     "name": "stdout",
     "output_type": "stream",
     "text": [
      "Epoch 20 - Train Loss: 1.4944, Train MSE: 1.4908, Train MAE: 0.9370\n",
      "Epoch 20 - Validation Loss: 1.8925, Validation MSE: 1.8946, Validation MAE: 1.0771\n"
     ]
    },
    {
     "name": "stderr",
     "output_type": "stream",
     "text": [
      "Training Epoch 22: 100%|██████████| 370/370 [00:14<00:00, 25.23it/s]\n",
      "Training Epoch 23: 100%|██████████| 370/370 [00:14<00:00, 25.92it/s]\n",
      "Training Epoch 24: 100%|██████████| 370/370 [00:14<00:00, 24.81it/s]\n",
      "Training Epoch 25: 100%|██████████| 370/370 [00:15<00:00, 24.30it/s]\n",
      "Training Epoch 26: 100%|██████████| 370/370 [00:14<00:00, 25.01it/s]\n",
      "Training Epoch 27: 100%|██████████| 370/370 [00:15<00:00, 23.67it/s]\n",
      "Training Epoch 28: 100%|██████████| 370/370 [00:15<00:00, 24.56it/s]\n",
      "Training Epoch 29: 100%|██████████| 370/370 [00:14<00:00, 25.11it/s]\n",
      "Training Epoch 30: 100%|██████████| 370/370 [00:14<00:00, 24.91it/s]\n",
      "Training Epoch 31: 100%|██████████| 370/370 [00:14<00:00, 25.43it/s]\n"
     ]
    },
    {
     "name": "stdout",
     "output_type": "stream",
     "text": [
      "Epoch 30 - Train Loss: 1.4020, Train MSE: 1.4022, Train MAE: 0.9043\n",
      "Epoch 30 - Validation Loss: 1.8271, Validation MSE: 1.8294, Validation MAE: 1.0594\n"
     ]
    },
    {
     "name": "stderr",
     "output_type": "stream",
     "text": [
      "Training Epoch 32: 100%|██████████| 370/370 [00:15<00:00, 23.90it/s]\n",
      "Training Epoch 33: 100%|██████████| 370/370 [00:15<00:00, 24.44it/s]\n",
      "Training Epoch 34: 100%|██████████| 370/370 [00:14<00:00, 25.81it/s]\n",
      "Training Epoch 35: 100%|██████████| 370/370 [00:14<00:00, 25.18it/s]\n",
      "Training Epoch 36: 100%|██████████| 370/370 [00:14<00:00, 25.20it/s]\n",
      "Training Epoch 37: 100%|██████████| 370/370 [00:14<00:00, 25.57it/s]\n",
      "Training Epoch 38: 100%|██████████| 370/370 [00:14<00:00, 25.22it/s]\n",
      "Training Epoch 39: 100%|██████████| 370/370 [00:14<00:00, 24.88it/s]\n",
      "Training Epoch 40: 100%|██████████| 370/370 [00:14<00:00, 25.23it/s]\n",
      "Training Epoch 41: 100%|██████████| 370/370 [00:14<00:00, 25.24it/s]\n"
     ]
    },
    {
     "name": "stdout",
     "output_type": "stream",
     "text": [
      "Epoch 40 - Train Loss: 1.3029, Train MSE: 1.3054, Train MAE: 0.8715\n",
      "Epoch 40 - Validation Loss: 1.8210, Validation MSE: 1.8235, Validation MAE: 1.0602\n"
     ]
    },
    {
     "name": "stderr",
     "output_type": "stream",
     "text": [
      "Training Epoch 42: 100%|██████████| 370/370 [00:14<00:00, 25.06it/s]\n",
      "Training Epoch 43: 100%|██████████| 370/370 [00:14<00:00, 24.80it/s]\n",
      "Training Epoch 44: 100%|██████████| 370/370 [00:15<00:00, 24.52it/s]\n",
      "Training Epoch 45: 100%|██████████| 370/370 [00:14<00:00, 25.49it/s]\n",
      "Training Epoch 46: 100%|██████████| 370/370 [00:14<00:00, 25.30it/s]\n",
      "Training Epoch 47: 100%|██████████| 370/370 [00:14<00:00, 25.02it/s]\n",
      "Training Epoch 48: 100%|██████████| 370/370 [00:14<00:00, 25.38it/s]\n",
      "Training Epoch 49: 100%|██████████| 370/370 [00:14<00:00, 24.79it/s]\n",
      "Training Epoch 50: 100%|██████████| 370/370 [00:14<00:00, 25.11it/s]\n",
      "Training Epoch 51: 100%|██████████| 370/370 [00:14<00:00, 25.18it/s]\n"
     ]
    },
    {
     "name": "stdout",
     "output_type": "stream",
     "text": [
      "Epoch 50 - Train Loss: 1.2422, Train MSE: 1.2436, Train MAE: 0.8481\n",
      "Epoch 50 - Validation Loss: 1.8143, Validation MSE: 1.8169, Validation MAE: 1.0531\n"
     ]
    },
    {
     "name": "stderr",
     "output_type": "stream",
     "text": [
      "Training Epoch 52: 100%|██████████| 370/370 [00:11<00:00, 30.89it/s]\n",
      "Training Epoch 53: 100%|██████████| 370/370 [00:11<00:00, 31.14it/s]\n",
      "Training Epoch 54: 100%|██████████| 370/370 [00:12<00:00, 29.88it/s]\n",
      "Training Epoch 55: 100%|██████████| 370/370 [00:12<00:00, 30.06it/s]\n",
      "Training Epoch 56: 100%|██████████| 370/370 [00:12<00:00, 30.38it/s]\n",
      "Training Epoch 57: 100%|██████████| 370/370 [00:12<00:00, 29.72it/s]\n",
      "Training Epoch 58: 100%|██████████| 370/370 [00:13<00:00, 28.18it/s]\n",
      "Training Epoch 59: 100%|██████████| 370/370 [00:13<00:00, 27.90it/s]\n",
      "Training Epoch 60: 100%|██████████| 370/370 [00:12<00:00, 28.65it/s]\n",
      "Training Epoch 61: 100%|██████████| 370/370 [00:12<00:00, 28.66it/s]\n"
     ]
    },
    {
     "name": "stdout",
     "output_type": "stream",
     "text": [
      "Epoch 60 - Train Loss: 1.1742, Train MSE: 1.1714, Train MAE: 0.8202\n",
      "Epoch 60 - Validation Loss: 1.8444, Validation MSE: 1.8469, Validation MAE: 1.0455\n"
     ]
    },
    {
     "name": "stderr",
     "output_type": "stream",
     "text": [
      "Training Epoch 62: 100%|██████████| 370/370 [00:12<00:00, 28.67it/s]\n",
      "Training Epoch 63: 100%|██████████| 370/370 [00:12<00:00, 28.74it/s]\n",
      "Training Epoch 64: 100%|██████████| 370/370 [00:12<00:00, 30.55it/s]\n",
      "Training Epoch 65: 100%|██████████| 370/370 [00:12<00:00, 30.09it/s]\n",
      "Training Epoch 66: 100%|██████████| 370/370 [00:11<00:00, 31.52it/s]\n",
      "Training Epoch 67: 100%|██████████| 370/370 [00:11<00:00, 31.64it/s]\n",
      "Training Epoch 68: 100%|██████████| 370/370 [00:13<00:00, 28.30it/s]\n",
      "Training Epoch 69: 100%|██████████| 370/370 [00:12<00:00, 29.16it/s]\n",
      "Training Epoch 70: 100%|██████████| 370/370 [00:11<00:00, 31.34it/s]\n",
      "Training Epoch 71: 100%|██████████| 370/370 [00:11<00:00, 31.58it/s]\n"
     ]
    },
    {
     "name": "stdout",
     "output_type": "stream",
     "text": [
      "Epoch 70 - Train Loss: 1.1270, Train MSE: 1.1222, Train MAE: 0.8013\n",
      "Epoch 70 - Validation Loss: 1.8397, Validation MSE: 1.8423, Validation MAE: 1.0555\n"
     ]
    },
    {
     "name": "stderr",
     "output_type": "stream",
     "text": [
      "Training Epoch 72: 100%|██████████| 370/370 [00:11<00:00, 31.23it/s]\n",
      "Training Epoch 73: 100%|██████████| 370/370 [00:11<00:00, 31.46it/s]\n",
      "Training Epoch 74: 100%|██████████| 370/370 [00:11<00:00, 31.20it/s]\n",
      "Training Epoch 75: 100%|██████████| 370/370 [00:12<00:00, 30.50it/s]\n",
      "Training Epoch 76: 100%|██████████| 370/370 [00:12<00:00, 30.66it/s]\n",
      "Training Epoch 77: 100%|██████████| 370/370 [00:11<00:00, 31.05it/s]\n",
      "Training Epoch 78: 100%|██████████| 370/370 [00:11<00:00, 31.03it/s]\n",
      "Training Epoch 79: 100%|██████████| 370/370 [00:11<00:00, 31.05it/s]\n",
      "Training Epoch 80: 100%|██████████| 370/370 [00:11<00:00, 31.18it/s]\n",
      "Training Epoch 81: 100%|██████████| 370/370 [00:12<00:00, 29.93it/s]\n"
     ]
    },
    {
     "name": "stdout",
     "output_type": "stream",
     "text": [
      "Epoch 80 - Train Loss: 1.0614, Train MSE: 1.0634, Train MAE: 0.7782\n",
      "Epoch 80 - Validation Loss: 1.8745, Validation MSE: 1.8771, Validation MAE: 1.0421\n"
     ]
    },
    {
     "name": "stderr",
     "output_type": "stream",
     "text": [
      "Training Epoch 82: 100%|██████████| 370/370 [00:12<00:00, 28.70it/s]\n",
      "Training Epoch 83: 100%|██████████| 370/370 [00:13<00:00, 27.91it/s]\n",
      "Training Epoch 84: 100%|██████████| 370/370 [00:13<00:00, 27.87it/s]\n",
      "Training Epoch 85: 100%|██████████| 370/370 [00:13<00:00, 27.67it/s]\n",
      "Training Epoch 86: 100%|██████████| 370/370 [00:13<00:00, 28.45it/s]\n",
      "Training Epoch 87: 100%|██████████| 370/370 [00:12<00:00, 29.03it/s]\n",
      "Training Epoch 88: 100%|██████████| 370/370 [00:12<00:00, 28.84it/s]\n",
      "Training Epoch 89: 100%|██████████| 370/370 [00:12<00:00, 29.07it/s]\n",
      "Training Epoch 90: 100%|██████████| 370/370 [00:12<00:00, 28.94it/s]\n",
      "Training Epoch 91: 100%|██████████| 370/370 [00:12<00:00, 29.01it/s]\n"
     ]
    },
    {
     "name": "stdout",
     "output_type": "stream",
     "text": [
      "Epoch 90 - Train Loss: 1.0227, Train MSE: 1.0228, Train MAE: 0.7607\n",
      "Epoch 90 - Validation Loss: 1.8767, Validation MSE: 1.8793, Validation MAE: 1.0381\n"
     ]
    },
    {
     "name": "stderr",
     "output_type": "stream",
     "text": [
      "Training Epoch 92: 100%|██████████| 370/370 [00:12<00:00, 28.90it/s]\n",
      "Training Epoch 93: 100%|██████████| 370/370 [00:12<00:00, 28.93it/s]\n",
      "Training Epoch 94: 100%|██████████| 370/370 [00:12<00:00, 28.93it/s]\n",
      "Training Epoch 95: 100%|██████████| 370/370 [00:12<00:00, 29.06it/s]\n",
      "Training Epoch 96: 100%|██████████| 370/370 [00:12<00:00, 28.91it/s]\n",
      "Training Epoch 97: 100%|██████████| 370/370 [00:12<00:00, 28.81it/s]\n",
      "Training Epoch 98: 100%|██████████| 370/370 [00:12<00:00, 28.95it/s]\n",
      "Training Epoch 99: 100%|██████████| 370/370 [00:12<00:00, 28.95it/s]\n",
      "Training Epoch 100: 100%|██████████| 370/370 [00:12<00:00, 28.92it/s]\n",
      "Training Epoch 101: 100%|██████████| 370/370 [00:12<00:00, 28.79it/s]\n"
     ]
    },
    {
     "name": "stdout",
     "output_type": "stream",
     "text": [
      "Epoch 100 - Train Loss: 0.9844, Train MSE: 0.9823, Train MAE: 0.7467\n",
      "Epoch 100 - Validation Loss: 1.8287, Validation MSE: 1.8324, Validation MAE: 1.0429\n"
     ]
    },
    {
     "name": "stderr",
     "output_type": "stream",
     "text": [
      "Training Epoch 102: 100%|██████████| 370/370 [00:12<00:00, 28.78it/s]\n",
      "Training Epoch 103: 100%|██████████| 370/370 [00:12<00:00, 28.99it/s]\n",
      "Training Epoch 104: 100%|██████████| 370/370 [00:12<00:00, 28.97it/s]\n",
      "Training Epoch 105: 100%|██████████| 370/370 [00:12<00:00, 28.99it/s]\n",
      "Training Epoch 106: 100%|██████████| 370/370 [00:12<00:00, 29.09it/s]\n",
      "Training Epoch 107: 100%|██████████| 370/370 [00:12<00:00, 28.95it/s]\n",
      "Training Epoch 108: 100%|██████████| 370/370 [00:12<00:00, 28.83it/s]\n",
      "Training Epoch 109: 100%|██████████| 370/370 [00:12<00:00, 29.07it/s]\n",
      "Training Epoch 110: 100%|██████████| 370/370 [00:12<00:00, 29.03it/s]\n",
      "Training Epoch 111: 100%|██████████| 370/370 [00:12<00:00, 28.94it/s]\n"
     ]
    },
    {
     "name": "stdout",
     "output_type": "stream",
     "text": [
      "Epoch 110 - Train Loss: 0.9532, Train MSE: 0.9546, Train MAE: 0.7315\n",
      "Epoch 110 - Validation Loss: 1.8312, Validation MSE: 1.8348, Validation MAE: 1.0473\n"
     ]
    },
    {
     "name": "stderr",
     "output_type": "stream",
     "text": [
      "Training Epoch 112: 100%|██████████| 370/370 [00:12<00:00, 29.09it/s]\n",
      "Training Epoch 113: 100%|██████████| 370/370 [00:12<00:00, 29.01it/s]\n",
      "Training Epoch 114: 100%|██████████| 370/370 [00:13<00:00, 27.96it/s]\n",
      "Training Epoch 115: 100%|██████████| 370/370 [00:12<00:00, 28.92it/s]\n",
      "Training Epoch 116: 100%|██████████| 370/370 [00:12<00:00, 28.94it/s]\n",
      "Training Epoch 117: 100%|██████████| 370/370 [00:12<00:00, 28.86it/s]\n",
      "Training Epoch 118: 100%|██████████| 370/370 [00:12<00:00, 28.91it/s]\n",
      "Training Epoch 119: 100%|██████████| 370/370 [00:12<00:00, 29.01it/s]\n",
      "Training Epoch 120: 100%|██████████| 370/370 [00:12<00:00, 28.99it/s]\n",
      "Training Epoch 121: 100%|██████████| 370/370 [00:12<00:00, 29.27it/s]\n"
     ]
    },
    {
     "name": "stdout",
     "output_type": "stream",
     "text": [
      "Epoch 120 - Train Loss: 0.9291, Train MSE: 0.9277, Train MAE: 0.7211\n",
      "Epoch 120 - Validation Loss: 1.8445, Validation MSE: 1.8487, Validation MAE: 1.0404\n"
     ]
    },
    {
     "name": "stderr",
     "output_type": "stream",
     "text": [
      "Training Epoch 122: 100%|██████████| 370/370 [00:12<00:00, 28.93it/s]\n",
      "Training Epoch 123: 100%|██████████| 370/370 [00:12<00:00, 29.11it/s]\n",
      "Training Epoch 124: 100%|██████████| 370/370 [00:12<00:00, 29.03it/s]\n",
      "Training Epoch 125: 100%|██████████| 370/370 [00:12<00:00, 28.95it/s]\n",
      "Training Epoch 126: 100%|██████████| 370/370 [00:12<00:00, 28.81it/s]\n",
      "Training Epoch 127: 100%|██████████| 370/370 [00:12<00:00, 29.09it/s]\n",
      "Training Epoch 128: 100%|██████████| 370/370 [00:12<00:00, 29.06it/s]\n",
      "Training Epoch 129: 100%|██████████| 370/370 [00:12<00:00, 28.99it/s]\n",
      "Training Epoch 130: 100%|██████████| 370/370 [00:12<00:00, 28.98it/s]\n",
      "Training Epoch 131: 100%|██████████| 370/370 [00:12<00:00, 28.91it/s]\n"
     ]
    },
    {
     "name": "stdout",
     "output_type": "stream",
     "text": [
      "Epoch 130 - Train Loss: 0.8983, Train MSE: 0.8982, Train MAE: 0.7087\n",
      "Epoch 130 - Validation Loss: 1.7773, Validation MSE: 1.7807, Validation MAE: 1.0155\n"
     ]
    },
    {
     "name": "stderr",
     "output_type": "stream",
     "text": [
      "Training Epoch 132: 100%|██████████| 370/370 [00:12<00:00, 28.81it/s]\n",
      "Training Epoch 133: 100%|██████████| 370/370 [00:12<00:00, 29.03it/s]\n",
      "Training Epoch 134: 100%|██████████| 370/370 [00:12<00:00, 29.11it/s]\n",
      "Training Epoch 135: 100%|██████████| 370/370 [00:12<00:00, 29.14it/s]\n",
      "Training Epoch 136: 100%|██████████| 370/370 [00:12<00:00, 29.06it/s]\n",
      "Training Epoch 137: 100%|██████████| 370/370 [00:12<00:00, 29.04it/s]\n",
      "Training Epoch 138: 100%|██████████| 370/370 [00:12<00:00, 28.86it/s]\n",
      "Training Epoch 139: 100%|██████████| 370/370 [00:12<00:00, 28.94it/s]\n",
      "Training Epoch 140: 100%|██████████| 370/370 [00:12<00:00, 28.88it/s]\n",
      "Training Epoch 141: 100%|██████████| 370/370 [00:12<00:00, 28.49it/s]\n"
     ]
    },
    {
     "name": "stdout",
     "output_type": "stream",
     "text": [
      "Epoch 140 - Train Loss: 0.8726, Train MSE: 0.8736, Train MAE: 0.6983\n",
      "Epoch 140 - Validation Loss: 1.7964, Validation MSE: 1.8000, Validation MAE: 1.0152\n"
     ]
    },
    {
     "name": "stderr",
     "output_type": "stream",
     "text": [
      "Training Epoch 142: 100%|██████████| 370/370 [00:13<00:00, 27.93it/s]\n",
      "Training Epoch 143: 100%|██████████| 370/370 [00:12<00:00, 28.77it/s]\n",
      "Training Epoch 144: 100%|██████████| 370/370 [00:12<00:00, 29.19it/s]\n",
      "Training Epoch 145: 100%|██████████| 370/370 [00:12<00:00, 29.23it/s]\n",
      "Training Epoch 146: 100%|██████████| 370/370 [00:12<00:00, 29.30it/s]\n",
      "Training Epoch 147: 100%|██████████| 370/370 [00:12<00:00, 29.26it/s]\n",
      "Training Epoch 148: 100%|██████████| 370/370 [00:12<00:00, 29.16it/s]\n",
      "Training Epoch 149: 100%|██████████| 370/370 [00:12<00:00, 29.29it/s]\n",
      "Training Epoch 150: 100%|██████████| 370/370 [00:12<00:00, 29.32it/s]\n",
      "Training Epoch 151: 100%|██████████| 370/370 [00:12<00:00, 29.30it/s]\n"
     ]
    },
    {
     "name": "stdout",
     "output_type": "stream",
     "text": [
      "Epoch 150 - Train Loss: 0.8555, Train MSE: 0.8569, Train MAE: 0.6877\n",
      "Epoch 150 - Validation Loss: 1.7818, Validation MSE: 1.7856, Validation MAE: 1.0260\n"
     ]
    },
    {
     "name": "stderr",
     "output_type": "stream",
     "text": [
      "Training Epoch 152: 100%|██████████| 370/370 [00:12<00:00, 29.35it/s]\n",
      "Training Epoch 153: 100%|██████████| 370/370 [00:12<00:00, 29.33it/s]\n",
      "Training Epoch 154: 100%|██████████| 370/370 [00:12<00:00, 29.43it/s]\n",
      "Training Epoch 155: 100%|██████████| 370/370 [00:12<00:00, 29.44it/s]\n",
      "Training Epoch 156: 100%|██████████| 370/370 [00:12<00:00, 29.48it/s]\n",
      "Training Epoch 157: 100%|██████████| 370/370 [00:12<00:00, 28.91it/s]\n",
      "Training Epoch 158: 100%|██████████| 370/370 [00:12<00:00, 29.40it/s]\n",
      "Training Epoch 159: 100%|██████████| 370/370 [00:12<00:00, 29.30it/s]\n",
      "Training Epoch 160: 100%|██████████| 370/370 [00:12<00:00, 28.77it/s]\n",
      "Training Epoch 161: 100%|██████████| 370/370 [00:12<00:00, 29.20it/s]\n"
     ]
    },
    {
     "name": "stdout",
     "output_type": "stream",
     "text": [
      "Epoch 160 - Train Loss: 0.8417, Train MSE: 0.8428, Train MAE: 0.6821\n",
      "Epoch 160 - Validation Loss: 1.7934, Validation MSE: 1.7971, Validation MAE: 1.0070\n"
     ]
    },
    {
     "name": "stderr",
     "output_type": "stream",
     "text": [
      "Training Epoch 162: 100%|██████████| 370/370 [00:12<00:00, 29.33it/s]\n",
      "Training Epoch 163: 100%|██████████| 370/370 [00:12<00:00, 29.32it/s]\n",
      "Training Epoch 164: 100%|██████████| 370/370 [00:12<00:00, 29.07it/s]\n",
      "Training Epoch 165: 100%|██████████| 370/370 [00:12<00:00, 29.08it/s]\n",
      "Training Epoch 166: 100%|██████████| 370/370 [00:12<00:00, 29.14it/s]\n",
      "Training Epoch 167: 100%|██████████| 370/370 [00:12<00:00, 29.07it/s]\n",
      "Training Epoch 168: 100%|██████████| 370/370 [00:12<00:00, 29.22it/s]\n",
      "Training Epoch 169: 100%|██████████| 370/370 [00:12<00:00, 29.09it/s]\n",
      "Training Epoch 170: 100%|██████████| 370/370 [00:12<00:00, 29.27it/s]\n",
      "Training Epoch 171: 100%|██████████| 370/370 [00:12<00:00, 29.25it/s]\n"
     ]
    },
    {
     "name": "stdout",
     "output_type": "stream",
     "text": [
      "Epoch 170 - Train Loss: 0.8226, Train MSE: 0.8237, Train MAE: 0.6749\n",
      "Epoch 170 - Validation Loss: 1.8052, Validation MSE: 1.8093, Validation MAE: 1.0231\n"
     ]
    },
    {
     "name": "stderr",
     "output_type": "stream",
     "text": [
      "Training Epoch 172: 100%|██████████| 370/370 [00:12<00:00, 29.25it/s]\n",
      "Training Epoch 173: 100%|██████████| 370/370 [00:12<00:00, 29.25it/s]\n",
      "Training Epoch 174: 100%|██████████| 370/370 [00:12<00:00, 29.26it/s]\n",
      "Training Epoch 175: 100%|██████████| 370/370 [00:12<00:00, 30.26it/s]\n",
      "Training Epoch 176: 100%|██████████| 370/370 [00:11<00:00, 31.23it/s]\n",
      "Training Epoch 177: 100%|██████████| 370/370 [00:12<00:00, 30.23it/s]\n",
      "Training Epoch 178: 100%|██████████| 370/370 [00:12<00:00, 30.49it/s]\n",
      "Training Epoch 179: 100%|██████████| 370/370 [00:12<00:00, 30.75it/s]\n",
      "Training Epoch 180: 100%|██████████| 370/370 [00:11<00:00, 31.46it/s]\n",
      "Training Epoch 181: 100%|██████████| 370/370 [00:11<00:00, 31.38it/s]\n"
     ]
    },
    {
     "name": "stdout",
     "output_type": "stream",
     "text": [
      "Epoch 180 - Train Loss: 0.7911, Train MSE: 0.7916, Train MAE: 0.6624\n",
      "Epoch 180 - Validation Loss: 1.8485, Validation MSE: 1.8517, Validation MAE: 1.0232\n"
     ]
    },
    {
     "name": "stderr",
     "output_type": "stream",
     "text": [
      "Training Epoch 182: 100%|██████████| 370/370 [00:11<00:00, 31.45it/s]\n",
      "Training Epoch 183: 100%|██████████| 370/370 [00:11<00:00, 31.34it/s]\n",
      "Training Epoch 184: 100%|██████████| 370/370 [00:12<00:00, 30.50it/s]\n",
      "Training Epoch 185: 100%|██████████| 370/370 [00:12<00:00, 30.75it/s]\n",
      "Training Epoch 186: 100%|██████████| 370/370 [00:11<00:00, 32.05it/s]\n",
      "Training Epoch 187: 100%|██████████| 370/370 [00:11<00:00, 31.81it/s]\n",
      "Training Epoch 188: 100%|██████████| 370/370 [00:11<00:00, 31.84it/s]\n",
      "Training Epoch 189: 100%|██████████| 370/370 [00:11<00:00, 31.83it/s]\n",
      "Training Epoch 190: 100%|██████████| 370/370 [00:11<00:00, 31.84it/s]\n",
      "Training Epoch 191: 100%|██████████| 370/370 [00:11<00:00, 32.04it/s]\n"
     ]
    },
    {
     "name": "stdout",
     "output_type": "stream",
     "text": [
      "Epoch 190 - Train Loss: 0.7884, Train MSE: 0.7889, Train MAE: 0.6570\n",
      "Epoch 190 - Validation Loss: 1.8681, Validation MSE: 1.8716, Validation MAE: 1.0580\n"
     ]
    },
    {
     "name": "stderr",
     "output_type": "stream",
     "text": [
      "Training Epoch 192: 100%|██████████| 370/370 [00:11<00:00, 32.00it/s]\n",
      "Training Epoch 193: 100%|██████████| 370/370 [00:11<00:00, 31.83it/s]\n",
      "Training Epoch 194: 100%|██████████| 370/370 [00:11<00:00, 32.04it/s]\n",
      "Training Epoch 195: 100%|██████████| 370/370 [00:11<00:00, 31.96it/s]\n",
      "Training Epoch 196: 100%|██████████| 370/370 [00:11<00:00, 32.14it/s]\n",
      "Training Epoch 197: 100%|██████████| 370/370 [00:11<00:00, 31.94it/s]\n",
      "Training Epoch 198: 100%|██████████| 370/370 [00:11<00:00, 31.75it/s]\n",
      "Training Epoch 199: 100%|██████████| 370/370 [00:11<00:00, 31.85it/s]\n",
      "Training Epoch 200: 100%|██████████| 370/370 [00:11<00:00, 31.96it/s]\n",
      "Training Epoch 201: 100%|██████████| 370/370 [00:11<00:00, 31.67it/s]\n"
     ]
    },
    {
     "name": "stdout",
     "output_type": "stream",
     "text": [
      "Epoch 200 - Train Loss: 0.7801, Train MSE: 0.7809, Train MAE: 0.6507\n",
      "Epoch 200 - Validation Loss: 1.8093, Validation MSE: 1.8135, Validation MAE: 1.0150\n"
     ]
    },
    {
     "name": "stderr",
     "output_type": "stream",
     "text": [
      "Training Epoch 202: 100%|██████████| 370/370 [00:11<00:00, 31.85it/s]\n",
      "Training Epoch 203: 100%|██████████| 370/370 [00:11<00:00, 32.03it/s]\n",
      "Training Epoch 204: 100%|██████████| 370/370 [00:11<00:00, 31.91it/s]\n",
      "Training Epoch 205: 100%|██████████| 370/370 [00:11<00:00, 31.70it/s]\n",
      "Training Epoch 206: 100%|██████████| 370/370 [00:11<00:00, 32.03it/s]\n",
      "Training Epoch 207: 100%|██████████| 370/370 [00:11<00:00, 31.90it/s]\n",
      "Training Epoch 208: 100%|██████████| 370/370 [00:11<00:00, 31.80it/s]\n",
      "Training Epoch 209: 100%|██████████| 370/370 [00:11<00:00, 32.09it/s]\n",
      "Training Epoch 210: 100%|██████████| 370/370 [00:11<00:00, 32.05it/s]\n",
      "Training Epoch 211: 100%|██████████| 370/370 [00:11<00:00, 31.79it/s]\n"
     ]
    },
    {
     "name": "stdout",
     "output_type": "stream",
     "text": [
      "Epoch 210 - Train Loss: 0.7566, Train MSE: 0.7580, Train MAE: 0.6427\n",
      "Epoch 210 - Validation Loss: 1.7583, Validation MSE: 1.7624, Validation MAE: 0.9988\n"
     ]
    },
    {
     "name": "stderr",
     "output_type": "stream",
     "text": [
      "Training Epoch 212: 100%|██████████| 370/370 [00:11<00:00, 31.77it/s]\n",
      "Training Epoch 213: 100%|██████████| 370/370 [00:11<00:00, 32.03it/s]\n",
      "Training Epoch 214: 100%|██████████| 370/370 [00:11<00:00, 31.97it/s]\n",
      "Training Epoch 215: 100%|██████████| 370/370 [00:11<00:00, 31.84it/s]\n",
      "Training Epoch 216: 100%|██████████| 370/370 [00:11<00:00, 31.97it/s]\n",
      "Training Epoch 217: 100%|██████████| 370/370 [00:11<00:00, 31.76it/s]\n",
      "Training Epoch 218: 100%|██████████| 370/370 [00:11<00:00, 31.98it/s]\n",
      "Training Epoch 219: 100%|██████████| 370/370 [00:11<00:00, 32.12it/s]\n",
      "Training Epoch 220: 100%|██████████| 370/370 [00:11<00:00, 31.94it/s]\n",
      "Training Epoch 221: 100%|██████████| 370/370 [00:11<00:00, 31.81it/s]\n"
     ]
    },
    {
     "name": "stdout",
     "output_type": "stream",
     "text": [
      "Epoch 220 - Train Loss: 0.7479, Train MSE: 0.7484, Train MAE: 0.6386\n",
      "Epoch 220 - Validation Loss: 1.7739, Validation MSE: 1.7775, Validation MAE: 0.9985\n"
     ]
    },
    {
     "name": "stderr",
     "output_type": "stream",
     "text": [
      "Training Epoch 222: 100%|██████████| 370/370 [00:11<00:00, 31.76it/s]\n",
      "Training Epoch 223: 100%|██████████| 370/370 [00:11<00:00, 32.14it/s]\n",
      "Training Epoch 224: 100%|██████████| 370/370 [00:11<00:00, 31.84it/s]\n",
      "Training Epoch 225: 100%|██████████| 370/370 [00:11<00:00, 31.87it/s]\n",
      "Training Epoch 226: 100%|██████████| 370/370 [00:11<00:00, 32.01it/s]\n",
      "Training Epoch 227: 100%|██████████| 370/370 [00:11<00:00, 31.75it/s]\n",
      "Training Epoch 228: 100%|██████████| 370/370 [00:11<00:00, 31.98it/s]\n",
      "Training Epoch 229: 100%|██████████| 370/370 [00:11<00:00, 31.89it/s]\n",
      "Training Epoch 230: 100%|██████████| 370/370 [00:11<00:00, 32.02it/s]\n",
      "Training Epoch 231: 100%|██████████| 370/370 [00:11<00:00, 31.90it/s]\n"
     ]
    },
    {
     "name": "stdout",
     "output_type": "stream",
     "text": [
      "Epoch 230 - Train Loss: 0.7444, Train MSE: 0.7458, Train MAE: 0.6379\n",
      "Epoch 230 - Validation Loss: 1.7978, Validation MSE: 1.8014, Validation MAE: 1.0163\n"
     ]
    },
    {
     "name": "stderr",
     "output_type": "stream",
     "text": [
      "Training Epoch 232: 100%|██████████| 370/370 [00:11<00:00, 31.85it/s]\n",
      "Training Epoch 233: 100%|██████████| 370/370 [00:11<00:00, 32.00it/s]\n",
      "Training Epoch 234: 100%|██████████| 370/370 [00:11<00:00, 31.68it/s]\n",
      "Training Epoch 235: 100%|██████████| 370/370 [00:11<00:00, 31.92it/s]\n",
      "Training Epoch 236: 100%|██████████| 370/370 [00:11<00:00, 32.03it/s]\n",
      "Training Epoch 237: 100%|██████████| 370/370 [00:11<00:00, 31.89it/s]\n",
      "Training Epoch 238: 100%|██████████| 370/370 [00:11<00:00, 31.75it/s]\n",
      "Training Epoch 239: 100%|██████████| 370/370 [00:11<00:00, 31.88it/s]\n",
      "Training Epoch 240: 100%|██████████| 370/370 [00:11<00:00, 31.91it/s]\n",
      "Training Epoch 241: 100%|██████████| 370/370 [00:11<00:00, 31.68it/s]\n"
     ]
    },
    {
     "name": "stdout",
     "output_type": "stream",
     "text": [
      "Epoch 240 - Train Loss: 0.7531, Train MSE: 0.7538, Train MAE: 0.6388\n",
      "Epoch 240 - Validation Loss: 1.7942, Validation MSE: 1.7979, Validation MAE: 1.0145\n"
     ]
    },
    {
     "name": "stderr",
     "output_type": "stream",
     "text": [
      "Training Epoch 242: 100%|██████████| 370/370 [00:11<00:00, 31.92it/s]\n",
      "Training Epoch 243: 100%|██████████| 370/370 [00:11<00:00, 31.97it/s]\n",
      "Training Epoch 244: 100%|██████████| 370/370 [00:11<00:00, 31.75it/s]\n",
      "Training Epoch 245: 100%|██████████| 370/370 [00:11<00:00, 31.80it/s]\n",
      "Training Epoch 246: 100%|██████████| 370/370 [00:11<00:00, 31.31it/s]\n",
      "Training Epoch 247: 100%|██████████| 370/370 [00:11<00:00, 31.39it/s]\n",
      "Training Epoch 248: 100%|██████████| 370/370 [00:11<00:00, 32.25it/s]\n",
      "Training Epoch 249: 100%|██████████| 370/370 [00:11<00:00, 31.79it/s]\n",
      "Training Epoch 250: 100%|██████████| 370/370 [00:11<00:00, 32.06it/s]\n",
      "Training Epoch 251: 100%|██████████| 370/370 [00:11<00:00, 32.33it/s]\n"
     ]
    },
    {
     "name": "stdout",
     "output_type": "stream",
     "text": [
      "Epoch 250 - Train Loss: 0.7336, Train MSE: 0.7339, Train MAE: 0.6262\n",
      "Epoch 250 - Validation Loss: 1.8021, Validation MSE: 1.8065, Validation MAE: 1.0242\n"
     ]
    },
    {
     "name": "stderr",
     "output_type": "stream",
     "text": [
      "Training Epoch 252: 100%|██████████| 370/370 [00:11<00:00, 32.59it/s]\n",
      "Training Epoch 253: 100%|██████████| 370/370 [00:11<00:00, 32.38it/s]\n",
      "Training Epoch 254: 100%|██████████| 370/370 [00:11<00:00, 32.63it/s]\n",
      "Training Epoch 255: 100%|██████████| 370/370 [00:11<00:00, 32.64it/s]\n",
      "Training Epoch 256: 100%|██████████| 370/370 [00:11<00:00, 32.11it/s]\n",
      "Training Epoch 257: 100%|██████████| 370/370 [00:11<00:00, 32.68it/s]\n",
      "Training Epoch 258: 100%|██████████| 370/370 [00:11<00:00, 32.49it/s]\n",
      "Training Epoch 259: 100%|██████████| 370/370 [00:11<00:00, 32.53it/s]\n",
      "Training Epoch 260: 100%|██████████| 370/370 [00:11<00:00, 32.48it/s]\n",
      "Training Epoch 261: 100%|██████████| 370/370 [00:11<00:00, 32.59it/s]\n"
     ]
    },
    {
     "name": "stdout",
     "output_type": "stream",
     "text": [
      "Epoch 260 - Train Loss: 0.7234, Train MSE: 0.7206, Train MAE: 0.6228\n",
      "Epoch 260 - Validation Loss: 1.7755, Validation MSE: 1.7793, Validation MAE: 1.0005\n"
     ]
    },
    {
     "name": "stderr",
     "output_type": "stream",
     "text": [
      "Training Epoch 262: 100%|██████████| 370/370 [00:11<00:00, 32.40it/s]\n",
      "Training Epoch 263: 100%|██████████| 370/370 [00:11<00:00, 32.24it/s]\n",
      "Training Epoch 264: 100%|██████████| 370/370 [00:11<00:00, 32.65it/s]\n",
      "Training Epoch 265: 100%|██████████| 370/370 [00:11<00:00, 32.51it/s]\n",
      "Training Epoch 266: 100%|██████████| 370/370 [00:11<00:00, 32.44it/s]\n",
      "Training Epoch 267: 100%|██████████| 370/370 [00:11<00:00, 32.61it/s]\n",
      "Training Epoch 268: 100%|██████████| 370/370 [00:11<00:00, 32.65it/s]\n",
      "Training Epoch 269: 100%|██████████| 370/370 [00:11<00:00, 32.66it/s]\n",
      "Training Epoch 270: 100%|██████████| 370/370 [00:11<00:00, 32.34it/s]\n",
      "Training Epoch 271: 100%|██████████| 370/370 [00:11<00:00, 32.54it/s]\n"
     ]
    },
    {
     "name": "stdout",
     "output_type": "stream",
     "text": [
      "Epoch 270 - Train Loss: 0.7106, Train MSE: 0.7115, Train MAE: 0.6191\n",
      "Epoch 270 - Validation Loss: 1.7668, Validation MSE: 1.7701, Validation MAE: 0.9975\n"
     ]
    },
    {
     "name": "stderr",
     "output_type": "stream",
     "text": [
      "Training Epoch 272: 100%|██████████| 370/370 [00:11<00:00, 32.64it/s]\n",
      "Training Epoch 273: 100%|██████████| 370/370 [00:11<00:00, 32.58it/s]\n",
      "Training Epoch 274: 100%|██████████| 370/370 [00:11<00:00, 32.77it/s]\n",
      "Training Epoch 275: 100%|██████████| 370/370 [00:11<00:00, 32.33it/s]\n",
      "Training Epoch 276: 100%|██████████| 370/370 [00:11<00:00, 32.62it/s]\n",
      "Training Epoch 277: 100%|██████████| 370/370 [00:11<00:00, 32.65it/s]\n",
      "Training Epoch 278: 100%|██████████| 370/370 [00:11<00:00, 32.47it/s]\n",
      "Training Epoch 279: 100%|██████████| 370/370 [00:11<00:00, 32.58it/s]\n",
      "Training Epoch 280: 100%|██████████| 370/370 [00:11<00:00, 32.57it/s]\n",
      "Training Epoch 281: 100%|██████████| 370/370 [00:11<00:00, 32.55it/s]\n"
     ]
    },
    {
     "name": "stdout",
     "output_type": "stream",
     "text": [
      "Epoch 280 - Train Loss: 0.7105, Train MSE: 0.7115, Train MAE: 0.6213\n",
      "Epoch 280 - Validation Loss: 1.7657, Validation MSE: 1.7700, Validation MAE: 0.9993\n"
     ]
    },
    {
     "name": "stderr",
     "output_type": "stream",
     "text": [
      "Training Epoch 282: 100%|██████████| 370/370 [00:11<00:00, 32.75it/s]\n",
      "Training Epoch 283: 100%|██████████| 370/370 [00:11<00:00, 32.68it/s]\n",
      "Training Epoch 284: 100%|██████████| 370/370 [00:11<00:00, 32.70it/s]\n",
      "Training Epoch 285: 100%|██████████| 370/370 [00:11<00:00, 32.54it/s]\n",
      "Training Epoch 286: 100%|██████████| 370/370 [00:11<00:00, 32.37it/s]\n",
      "Training Epoch 287: 100%|██████████| 370/370 [00:11<00:00, 32.54it/s]\n",
      "Training Epoch 288: 100%|██████████| 370/370 [00:11<00:00, 32.62it/s]\n",
      "Training Epoch 289: 100%|██████████| 370/370 [00:11<00:00, 32.33it/s]\n",
      "Training Epoch 290: 100%|██████████| 370/370 [00:11<00:00, 32.46it/s]\n",
      "Training Epoch 291: 100%|██████████| 370/370 [00:11<00:00, 32.56it/s]\n"
     ]
    },
    {
     "name": "stdout",
     "output_type": "stream",
     "text": [
      "Epoch 290 - Train Loss: 0.6946, Train MSE: 0.6938, Train MAE: 0.6090\n",
      "Epoch 290 - Validation Loss: 1.7335, Validation MSE: 1.7373, Validation MAE: 0.9970\n"
     ]
    },
    {
     "name": "stderr",
     "output_type": "stream",
     "text": [
      "Training Epoch 292: 100%|██████████| 370/370 [00:11<00:00, 32.49it/s]\n",
      "Training Epoch 293: 100%|██████████| 370/370 [00:11<00:00, 32.43it/s]\n",
      "Training Epoch 294: 100%|██████████| 370/370 [00:11<00:00, 32.60it/s]\n",
      "Training Epoch 295: 100%|██████████| 370/370 [00:11<00:00, 32.39it/s]\n",
      "Training Epoch 296: 100%|██████████| 370/370 [00:11<00:00, 32.52it/s]\n",
      "Training Epoch 297: 100%|██████████| 370/370 [00:11<00:00, 32.36it/s]\n",
      "Training Epoch 298: 100%|██████████| 370/370 [00:11<00:00, 32.49it/s]\n",
      "Training Epoch 299: 100%|██████████| 370/370 [00:11<00:00, 32.71it/s]\n",
      "Training Epoch 300: 100%|██████████| 370/370 [00:11<00:00, 32.46it/s]\n",
      "Training Epoch 301: 100%|██████████| 370/370 [00:11<00:00, 32.52it/s]\n"
     ]
    },
    {
     "name": "stdout",
     "output_type": "stream",
     "text": [
      "Epoch 300 - Train Loss: 0.6935, Train MSE: 0.6945, Train MAE: 0.6093\n",
      "Epoch 300 - Validation Loss: 1.8117, Validation MSE: 1.8153, Validation MAE: 1.0101\n"
     ]
    },
    {
     "name": "stderr",
     "output_type": "stream",
     "text": [
      "Training Epoch 302: 100%|██████████| 370/370 [00:11<00:00, 32.44it/s]\n",
      "Training Epoch 303: 100%|██████████| 370/370 [00:11<00:00, 32.33it/s]\n",
      "Training Epoch 304: 100%|██████████| 370/370 [00:11<00:00, 32.38it/s]\n",
      "Training Epoch 305: 100%|██████████| 370/370 [00:11<00:00, 32.43it/s]\n",
      "Training Epoch 306: 100%|██████████| 370/370 [00:11<00:00, 32.34it/s]\n",
      "Training Epoch 307: 100%|██████████| 370/370 [00:11<00:00, 32.56it/s]\n",
      "Training Epoch 308: 100%|██████████| 370/370 [00:11<00:00, 32.44it/s]\n",
      "Training Epoch 309: 100%|██████████| 370/370 [00:11<00:00, 32.50it/s]\n",
      "Training Epoch 310: 100%|██████████| 370/370 [00:11<00:00, 32.52it/s]\n",
      "Training Epoch 311: 100%|██████████| 370/370 [00:11<00:00, 32.55it/s]\n"
     ]
    },
    {
     "name": "stdout",
     "output_type": "stream",
     "text": [
      "Epoch 310 - Train Loss: 0.6895, Train MSE: 0.6895, Train MAE: 0.6067\n",
      "Epoch 310 - Validation Loss: 1.7820, Validation MSE: 1.7863, Validation MAE: 1.0106\n"
     ]
    },
    {
     "name": "stderr",
     "output_type": "stream",
     "text": [
      "Training Epoch 312: 100%|██████████| 370/370 [00:11<00:00, 32.46it/s]\n",
      "Training Epoch 313: 100%|██████████| 370/370 [00:11<00:00, 32.32it/s]\n",
      "Training Epoch 314: 100%|██████████| 370/370 [00:11<00:00, 32.34it/s]\n",
      "Training Epoch 315: 100%|██████████| 370/370 [00:11<00:00, 32.31it/s]\n",
      "Training Epoch 316: 100%|██████████| 370/370 [00:11<00:00, 32.55it/s]\n",
      "Training Epoch 317: 100%|██████████| 370/370 [00:11<00:00, 31.42it/s]\n",
      "Training Epoch 318: 100%|██████████| 370/370 [00:11<00:00, 31.79it/s]\n",
      "Training Epoch 319: 100%|██████████| 370/370 [00:11<00:00, 31.05it/s]\n",
      "Training Epoch 320: 100%|██████████| 370/370 [00:12<00:00, 30.40it/s]\n",
      "Training Epoch 321: 100%|██████████| 370/370 [00:11<00:00, 31.46it/s]\n"
     ]
    },
    {
     "name": "stdout",
     "output_type": "stream",
     "text": [
      "Epoch 320 - Train Loss: 0.6901, Train MSE: 0.6857, Train MAE: 0.6072\n",
      "Epoch 320 - Validation Loss: 1.8392, Validation MSE: 1.8429, Validation MAE: 1.0296\n"
     ]
    },
    {
     "name": "stderr",
     "output_type": "stream",
     "text": [
      "Training Epoch 322: 100%|██████████| 370/370 [00:11<00:00, 31.02it/s]\n",
      "Training Epoch 323: 100%|██████████| 370/370 [00:12<00:00, 30.15it/s]\n",
      "Training Epoch 324: 100%|██████████| 370/370 [00:11<00:00, 31.55it/s]\n",
      "Training Epoch 325: 100%|██████████| 370/370 [00:11<00:00, 31.63it/s]\n",
      "Training Epoch 326: 100%|██████████| 370/370 [00:11<00:00, 31.30it/s]\n",
      "Training Epoch 327: 100%|██████████| 370/370 [00:12<00:00, 30.71it/s]\n",
      "Training Epoch 328: 100%|██████████| 370/370 [00:11<00:00, 31.08it/s]\n",
      "Training Epoch 329: 100%|██████████| 370/370 [00:11<00:00, 30.88it/s]\n",
      "Training Epoch 330: 100%|██████████| 370/370 [00:11<00:00, 31.11it/s]\n",
      "Training Epoch 331: 100%|██████████| 370/370 [00:11<00:00, 31.27it/s]\n"
     ]
    },
    {
     "name": "stdout",
     "output_type": "stream",
     "text": [
      "Epoch 330 - Train Loss: 0.6827, Train MSE: 0.6833, Train MAE: 0.6040\n",
      "Epoch 330 - Validation Loss: 1.7751, Validation MSE: 1.7788, Validation MAE: 0.9973\n"
     ]
    },
    {
     "name": "stderr",
     "output_type": "stream",
     "text": [
      "Training Epoch 332: 100%|██████████| 370/370 [00:11<00:00, 31.63it/s]\n",
      "Training Epoch 333: 100%|██████████| 370/370 [00:12<00:00, 30.80it/s]\n",
      "Training Epoch 334: 100%|██████████| 370/370 [00:11<00:00, 31.28it/s]\n",
      "Training Epoch 335: 100%|██████████| 370/370 [00:12<00:00, 29.97it/s]\n",
      "Training Epoch 336: 100%|██████████| 370/370 [00:12<00:00, 29.72it/s]\n",
      "Training Epoch 337: 100%|██████████| 370/370 [00:12<00:00, 30.15it/s]\n",
      "Training Epoch 338: 100%|██████████| 370/370 [00:12<00:00, 30.68it/s]\n",
      "Training Epoch 339: 100%|██████████| 370/370 [00:11<00:00, 31.24it/s]\n",
      "Training Epoch 340: 100%|██████████| 370/370 [00:11<00:00, 31.22it/s]\n",
      "Training Epoch 341: 100%|██████████| 370/370 [00:11<00:00, 32.96it/s]\n"
     ]
    },
    {
     "name": "stdout",
     "output_type": "stream",
     "text": [
      "Epoch 340 - Train Loss: 0.6823, Train MSE: 0.6819, Train MAE: 0.5980\n",
      "Epoch 340 - Validation Loss: 1.7791, Validation MSE: 1.7832, Validation MAE: 1.0033\n"
     ]
    },
    {
     "name": "stderr",
     "output_type": "stream",
     "text": [
      "Training Epoch 342: 100%|██████████| 370/370 [00:11<00:00, 32.92it/s]\n",
      "Training Epoch 343: 100%|██████████| 370/370 [00:10<00:00, 33.86it/s]\n",
      "Training Epoch 344: 100%|██████████| 370/370 [00:11<00:00, 33.04it/s]\n",
      "Training Epoch 345: 100%|██████████| 370/370 [00:11<00:00, 33.32it/s]\n",
      "Training Epoch 346: 100%|██████████| 370/370 [00:10<00:00, 33.68it/s]\n",
      "Training Epoch 347: 100%|██████████| 370/370 [00:11<00:00, 32.52it/s]\n",
      "Training Epoch 348: 100%|██████████| 370/370 [00:11<00:00, 33.08it/s]\n",
      "Training Epoch 349: 100%|██████████| 370/370 [00:10<00:00, 34.36it/s]\n",
      "Training Epoch 350: 100%|██████████| 370/370 [00:10<00:00, 34.20it/s]\n",
      "Training Epoch 351: 100%|██████████| 370/370 [00:10<00:00, 34.20it/s]\n"
     ]
    },
    {
     "name": "stdout",
     "output_type": "stream",
     "text": [
      "Epoch 350 - Train Loss: 0.6706, Train MSE: 0.6689, Train MAE: 0.5959\n",
      "Epoch 350 - Validation Loss: 1.7673, Validation MSE: 1.7712, Validation MAE: 0.9920\n"
     ]
    },
    {
     "name": "stderr",
     "output_type": "stream",
     "text": [
      "Training Epoch 352: 100%|██████████| 370/370 [00:11<00:00, 33.52it/s]\n",
      "Training Epoch 353: 100%|██████████| 370/370 [00:10<00:00, 34.21it/s]\n",
      "Training Epoch 354: 100%|██████████| 370/370 [00:10<00:00, 34.15it/s]\n",
      "Training Epoch 355: 100%|██████████| 370/370 [00:10<00:00, 34.28it/s]\n",
      "Training Epoch 356: 100%|██████████| 370/370 [00:10<00:00, 34.28it/s]\n",
      "Training Epoch 357: 100%|██████████| 370/370 [00:10<00:00, 33.81it/s]\n",
      "Training Epoch 358: 100%|██████████| 370/370 [00:10<00:00, 34.18it/s]\n",
      "Training Epoch 359: 100%|██████████| 370/370 [00:11<00:00, 33.07it/s]\n",
      "Training Epoch 360: 100%|██████████| 370/370 [00:11<00:00, 32.06it/s]\n",
      "Training Epoch 361: 100%|██████████| 370/370 [00:11<00:00, 33.17it/s]\n"
     ]
    },
    {
     "name": "stdout",
     "output_type": "stream",
     "text": [
      "Epoch 360 - Train Loss: 0.6577, Train MSE: 0.6583, Train MAE: 0.5935\n",
      "Epoch 360 - Validation Loss: 1.7832, Validation MSE: 1.7873, Validation MAE: 1.0054\n"
     ]
    },
    {
     "name": "stderr",
     "output_type": "stream",
     "text": [
      "Training Epoch 362: 100%|██████████| 370/370 [00:11<00:00, 33.21it/s]\n",
      "Training Epoch 363: 100%|██████████| 370/370 [00:10<00:00, 33.65it/s]\n",
      "Training Epoch 364: 100%|██████████| 370/370 [00:11<00:00, 33.31it/s]\n",
      "Training Epoch 365: 100%|██████████| 370/370 [00:10<00:00, 33.89it/s]\n",
      "Training Epoch 366: 100%|██████████| 370/370 [00:10<00:00, 33.87it/s]\n",
      "Training Epoch 367: 100%|██████████| 370/370 [00:10<00:00, 34.00it/s]\n",
      "Training Epoch 368: 100%|██████████| 370/370 [00:10<00:00, 34.09it/s]\n",
      "Training Epoch 369: 100%|██████████| 370/370 [00:10<00:00, 33.95it/s]\n",
      "Training Epoch 370: 100%|██████████| 370/370 [00:10<00:00, 33.83it/s]\n",
      "Training Epoch 371: 100%|██████████| 370/370 [00:10<00:00, 33.88it/s]\n"
     ]
    },
    {
     "name": "stdout",
     "output_type": "stream",
     "text": [
      "Epoch 370 - Train Loss: 0.6617, Train MSE: 0.6611, Train MAE: 0.5897\n",
      "Epoch 370 - Validation Loss: 1.7481, Validation MSE: 1.7523, Validation MAE: 0.9882\n"
     ]
    },
    {
     "name": "stderr",
     "output_type": "stream",
     "text": [
      "Training Epoch 372: 100%|██████████| 370/370 [00:10<00:00, 34.27it/s]\n",
      "Training Epoch 373: 100%|██████████| 370/370 [00:11<00:00, 33.54it/s]\n",
      "Training Epoch 374: 100%|██████████| 370/370 [00:10<00:00, 33.82it/s]\n",
      "Training Epoch 375: 100%|██████████| 370/370 [00:11<00:00, 33.32it/s]\n",
      "Training Epoch 376: 100%|██████████| 370/370 [00:11<00:00, 32.80it/s]\n",
      "Training Epoch 377: 100%|██████████| 370/370 [00:11<00:00, 33.32it/s]\n",
      "Training Epoch 378: 100%|██████████| 370/370 [00:11<00:00, 33.40it/s]\n",
      "Training Epoch 379: 100%|██████████| 370/370 [00:11<00:00, 33.07it/s]\n",
      "Training Epoch 380: 100%|██████████| 370/370 [00:11<00:00, 33.21it/s]\n",
      "Training Epoch 381: 100%|██████████| 370/370 [00:11<00:00, 32.79it/s]\n"
     ]
    },
    {
     "name": "stdout",
     "output_type": "stream",
     "text": [
      "Epoch 380 - Train Loss: 0.6589, Train MSE: 0.6598, Train MAE: 0.5879\n",
      "Epoch 380 - Validation Loss: 1.7896, Validation MSE: 1.7935, Validation MAE: 1.0074\n"
     ]
    },
    {
     "name": "stderr",
     "output_type": "stream",
     "text": [
      "Training Epoch 382: 100%|██████████| 370/370 [00:11<00:00, 33.21it/s]\n",
      "Training Epoch 383: 100%|██████████| 370/370 [00:11<00:00, 32.99it/s]\n",
      "Training Epoch 384: 100%|██████████| 370/370 [00:11<00:00, 33.27it/s]\n",
      "Training Epoch 385: 100%|██████████| 370/370 [00:10<00:00, 33.74it/s]\n",
      "Training Epoch 386: 100%|██████████| 370/370 [00:10<00:00, 33.75it/s]\n",
      "Training Epoch 387: 100%|██████████| 370/370 [00:10<00:00, 33.98it/s]\n",
      "Training Epoch 388: 100%|██████████| 370/370 [00:10<00:00, 33.87it/s]\n",
      "Training Epoch 389: 100%|██████████| 370/370 [00:10<00:00, 34.34it/s]\n",
      "Training Epoch 390: 100%|██████████| 370/370 [00:10<00:00, 34.07it/s]\n",
      "Training Epoch 391: 100%|██████████| 370/370 [00:10<00:00, 34.23it/s]\n"
     ]
    },
    {
     "name": "stdout",
     "output_type": "stream",
     "text": [
      "Epoch 390 - Train Loss: 0.6582, Train MSE: 0.6541, Train MAE: 0.5841\n",
      "Epoch 390 - Validation Loss: 1.8357, Validation MSE: 1.8399, Validation MAE: 1.0070\n"
     ]
    },
    {
     "name": "stderr",
     "output_type": "stream",
     "text": [
      "Training Epoch 392: 100%|██████████| 370/370 [00:10<00:00, 33.89it/s]\n",
      "Training Epoch 393: 100%|██████████| 370/370 [00:10<00:00, 34.08it/s]\n",
      "Training Epoch 394: 100%|██████████| 370/370 [00:10<00:00, 34.17it/s]\n",
      "Training Epoch 395: 100%|██████████| 370/370 [00:10<00:00, 34.24it/s]\n",
      "Training Epoch 396: 100%|██████████| 370/370 [00:10<00:00, 34.06it/s]\n",
      "Training Epoch 397: 100%|██████████| 370/370 [00:10<00:00, 34.32it/s]\n",
      "Training Epoch 398: 100%|██████████| 370/370 [00:10<00:00, 34.09it/s]\n",
      "Training Epoch 399: 100%|██████████| 370/370 [00:10<00:00, 34.01it/s]\n",
      "Training Epoch 400: 100%|██████████| 370/370 [00:10<00:00, 34.07it/s]\n",
      "Training Epoch 401: 100%|██████████| 370/370 [00:10<00:00, 34.07it/s]\n"
     ]
    },
    {
     "name": "stdout",
     "output_type": "stream",
     "text": [
      "Epoch 400 - Train Loss: 0.6441, Train MSE: 0.6419, Train MAE: 0.5808\n",
      "Epoch 400 - Validation Loss: 1.7878, Validation MSE: 1.7919, Validation MAE: 0.9928\n"
     ]
    },
    {
     "name": "stderr",
     "output_type": "stream",
     "text": [
      "Training Epoch 402: 100%|██████████| 370/370 [00:10<00:00, 34.21it/s]\n",
      "Training Epoch 403: 100%|██████████| 370/370 [00:10<00:00, 34.18it/s]\n",
      "Training Epoch 404: 100%|██████████| 370/370 [00:10<00:00, 34.14it/s]\n",
      "Training Epoch 405: 100%|██████████| 370/370 [00:10<00:00, 34.13it/s]\n",
      "Training Epoch 406: 100%|██████████| 370/370 [00:10<00:00, 34.14it/s]\n",
      "Training Epoch 407: 100%|██████████| 370/370 [00:10<00:00, 34.05it/s]\n",
      "Training Epoch 408: 100%|██████████| 370/370 [00:10<00:00, 34.16it/s]\n",
      "Training Epoch 409: 100%|██████████| 370/370 [00:10<00:00, 34.03it/s]\n",
      "Training Epoch 410: 100%|██████████| 370/370 [00:10<00:00, 34.08it/s]\n",
      "Training Epoch 411: 100%|██████████| 370/370 [00:10<00:00, 34.26it/s]\n"
     ]
    },
    {
     "name": "stdout",
     "output_type": "stream",
     "text": [
      "Epoch 410 - Train Loss: 0.6483, Train MSE: 0.6487, Train MAE: 0.5834\n",
      "Epoch 410 - Validation Loss: 1.8305, Validation MSE: 1.8350, Validation MAE: 1.0158\n"
     ]
    },
    {
     "name": "stderr",
     "output_type": "stream",
     "text": [
      "Training Epoch 412: 100%|██████████| 370/370 [00:10<00:00, 34.08it/s]\n",
      "Training Epoch 413: 100%|██████████| 370/370 [00:10<00:00, 33.91it/s]\n",
      "Training Epoch 414: 100%|██████████| 370/370 [00:10<00:00, 34.16it/s]\n",
      "Training Epoch 415: 100%|██████████| 370/370 [00:10<00:00, 34.22it/s]\n",
      "Training Epoch 416: 100%|██████████| 370/370 [00:10<00:00, 34.04it/s]\n",
      "Training Epoch 417: 100%|██████████| 370/370 [00:10<00:00, 34.25it/s]\n",
      "Training Epoch 418: 100%|██████████| 370/370 [00:10<00:00, 34.08it/s]\n",
      "Training Epoch 419: 100%|██████████| 370/370 [00:10<00:00, 34.16it/s]\n",
      "Training Epoch 420: 100%|██████████| 370/370 [00:10<00:00, 34.25it/s]\n",
      "Training Epoch 421: 100%|██████████| 370/370 [00:10<00:00, 34.05it/s]\n"
     ]
    },
    {
     "name": "stdout",
     "output_type": "stream",
     "text": [
      "Epoch 420 - Train Loss: 0.6442, Train MSE: 0.6453, Train MAE: 0.5799\n",
      "Epoch 420 - Validation Loss: 1.7540, Validation MSE: 1.7576, Validation MAE: 0.9933\n"
     ]
    },
    {
     "name": "stderr",
     "output_type": "stream",
     "text": [
      "Training Epoch 422: 100%|██████████| 370/370 [00:10<00:00, 34.23it/s]\n",
      "Training Epoch 423: 100%|██████████| 370/370 [00:10<00:00, 34.23it/s]\n",
      "Training Epoch 424: 100%|██████████| 370/370 [00:10<00:00, 34.24it/s]\n",
      "Training Epoch 425: 100%|██████████| 370/370 [00:10<00:00, 34.26it/s]\n",
      "Training Epoch 426: 100%|██████████| 370/370 [00:10<00:00, 34.22it/s]\n",
      "Training Epoch 427: 100%|██████████| 370/370 [00:10<00:00, 34.23it/s]\n",
      "Training Epoch 428: 100%|██████████| 370/370 [00:10<00:00, 34.34it/s]\n",
      "Training Epoch 429: 100%|██████████| 370/370 [00:10<00:00, 34.27it/s]\n",
      "Training Epoch 430: 100%|██████████| 370/370 [00:10<00:00, 34.35it/s]\n",
      "Training Epoch 431: 100%|██████████| 370/370 [00:10<00:00, 34.24it/s]\n"
     ]
    },
    {
     "name": "stdout",
     "output_type": "stream",
     "text": [
      "Epoch 430 - Train Loss: 0.6356, Train MSE: 0.6368, Train MAE: 0.5773\n",
      "Epoch 430 - Validation Loss: 1.8050, Validation MSE: 1.8092, Validation MAE: 1.0049\n"
     ]
    },
    {
     "name": "stderr",
     "output_type": "stream",
     "text": [
      "Training Epoch 432: 100%|██████████| 370/370 [00:10<00:00, 34.13it/s]\n",
      "Training Epoch 433: 100%|██████████| 370/370 [00:10<00:00, 34.25it/s]\n",
      "Training Epoch 434: 100%|██████████| 370/370 [00:10<00:00, 34.21it/s]\n",
      "Training Epoch 435: 100%|██████████| 370/370 [00:10<00:00, 34.19it/s]\n",
      "Training Epoch 436: 100%|██████████| 370/370 [00:10<00:00, 34.23it/s]\n",
      "Training Epoch 437: 100%|██████████| 370/370 [00:10<00:00, 34.33it/s]\n",
      "Training Epoch 438: 100%|██████████| 370/370 [00:10<00:00, 33.89it/s]\n",
      "Training Epoch 439: 100%|██████████| 370/370 [00:10<00:00, 34.34it/s]\n",
      "Training Epoch 440: 100%|██████████| 370/370 [00:10<00:00, 34.26it/s]\n",
      "Training Epoch 441: 100%|██████████| 370/370 [00:10<00:00, 33.73it/s]\n"
     ]
    },
    {
     "name": "stdout",
     "output_type": "stream",
     "text": [
      "Epoch 440 - Train Loss: 0.6346, Train MSE: 0.6346, Train MAE: 0.5743\n",
      "Epoch 440 - Validation Loss: 1.8076, Validation MSE: 1.8115, Validation MAE: 1.0112\n"
     ]
    },
    {
     "name": "stderr",
     "output_type": "stream",
     "text": [
      "Training Epoch 442: 100%|██████████| 370/370 [00:10<00:00, 34.31it/s]\n",
      "Training Epoch 443: 100%|██████████| 370/370 [00:11<00:00, 32.71it/s]\n",
      "Training Epoch 444: 100%|██████████| 370/370 [00:10<00:00, 33.96it/s]\n",
      "Training Epoch 445: 100%|██████████| 370/370 [00:10<00:00, 34.33it/s]\n",
      "Training Epoch 446: 100%|██████████| 370/370 [00:10<00:00, 33.98it/s]\n",
      "Training Epoch 447: 100%|██████████| 370/370 [00:10<00:00, 34.04it/s]\n",
      "Training Epoch 448: 100%|██████████| 370/370 [00:10<00:00, 34.10it/s]\n",
      "Training Epoch 449: 100%|██████████| 370/370 [00:10<00:00, 33.85it/s]\n",
      "Training Epoch 450: 100%|██████████| 370/370 [00:11<00:00, 32.44it/s]\n",
      "Training Epoch 451: 100%|██████████| 370/370 [00:10<00:00, 34.02it/s]\n"
     ]
    },
    {
     "name": "stdout",
     "output_type": "stream",
     "text": [
      "Epoch 450 - Train Loss: 0.6382, Train MSE: 0.6395, Train MAE: 0.5778\n",
      "Epoch 450 - Validation Loss: 1.7777, Validation MSE: 1.7811, Validation MAE: 0.9959\n"
     ]
    },
    {
     "name": "stderr",
     "output_type": "stream",
     "text": [
      "Training Epoch 452: 100%|██████████| 370/370 [00:10<00:00, 34.49it/s]\n",
      "Training Epoch 453: 100%|██████████| 370/370 [00:10<00:00, 34.07it/s]\n",
      "Training Epoch 454: 100%|██████████| 370/370 [00:11<00:00, 33.60it/s]\n",
      "Training Epoch 455: 100%|██████████| 370/370 [00:10<00:00, 33.93it/s]\n",
      "Training Epoch 456: 100%|██████████| 370/370 [00:10<00:00, 34.10it/s]\n",
      "Training Epoch 457: 100%|██████████| 370/370 [00:10<00:00, 34.74it/s]\n",
      "Training Epoch 458: 100%|██████████| 370/370 [00:10<00:00, 34.22it/s]\n",
      "Training Epoch 459: 100%|██████████| 370/370 [00:11<00:00, 32.08it/s]\n",
      "Training Epoch 460: 100%|██████████| 370/370 [00:11<00:00, 33.12it/s]\n",
      "Training Epoch 461: 100%|██████████| 370/370 [00:11<00:00, 32.85it/s]\n"
     ]
    },
    {
     "name": "stdout",
     "output_type": "stream",
     "text": [
      "Epoch 460 - Train Loss: 0.6238, Train MSE: 0.6247, Train MAE: 0.5725\n",
      "Epoch 460 - Validation Loss: 1.8188, Validation MSE: 1.8218, Validation MAE: 1.0037\n"
     ]
    },
    {
     "name": "stderr",
     "output_type": "stream",
     "text": [
      "Training Epoch 462: 100%|██████████| 370/370 [00:10<00:00, 34.42it/s]\n",
      "Training Epoch 463: 100%|██████████| 370/370 [00:10<00:00, 34.65it/s]\n",
      "Training Epoch 464: 100%|██████████| 370/370 [00:11<00:00, 33.49it/s]\n",
      "Training Epoch 465: 100%|██████████| 370/370 [00:11<00:00, 32.37it/s]\n",
      "Training Epoch 466: 100%|██████████| 370/370 [00:11<00:00, 33.32it/s]\n",
      "Training Epoch 467: 100%|██████████| 370/370 [00:10<00:00, 33.67it/s]\n",
      "Training Epoch 468: 100%|██████████| 370/370 [00:10<00:00, 33.77it/s]\n",
      "Training Epoch 469: 100%|██████████| 370/370 [00:10<00:00, 33.64it/s]\n",
      "Training Epoch 470: 100%|██████████| 370/370 [00:10<00:00, 33.91it/s]\n",
      "Training Epoch 471: 100%|██████████| 370/370 [00:10<00:00, 34.07it/s]\n"
     ]
    },
    {
     "name": "stdout",
     "output_type": "stream",
     "text": [
      "Epoch 470 - Train Loss: 0.6254, Train MSE: 0.6262, Train MAE: 0.5700\n",
      "Epoch 470 - Validation Loss: 1.7425, Validation MSE: 1.7460, Validation MAE: 0.9802\n"
     ]
    },
    {
     "name": "stderr",
     "output_type": "stream",
     "text": [
      "Training Epoch 472: 100%|██████████| 370/370 [00:11<00:00, 33.56it/s]\n",
      "Training Epoch 473: 100%|██████████| 370/370 [00:11<00:00, 32.13it/s]\n",
      "Training Epoch 474: 100%|██████████| 370/370 [00:11<00:00, 33.07it/s]\n",
      "Training Epoch 475: 100%|██████████| 370/370 [00:11<00:00, 31.78it/s]\n",
      "Training Epoch 476: 100%|██████████| 370/370 [00:12<00:00, 30.70it/s]\n",
      "Training Epoch 477: 100%|██████████| 370/370 [00:12<00:00, 28.81it/s]\n",
      "Training Epoch 478: 100%|██████████| 370/370 [00:12<00:00, 29.81it/s]\n",
      "Training Epoch 479: 100%|██████████| 370/370 [00:12<00:00, 29.29it/s]\n",
      "Training Epoch 480: 100%|██████████| 370/370 [00:12<00:00, 28.99it/s]\n",
      "Training Epoch 481: 100%|██████████| 370/370 [00:14<00:00, 26.11it/s]\n"
     ]
    },
    {
     "name": "stdout",
     "output_type": "stream",
     "text": [
      "Epoch 480 - Train Loss: 0.6207, Train MSE: 0.6207, Train MAE: 0.5699\n",
      "Epoch 480 - Validation Loss: 1.8042, Validation MSE: 1.8076, Validation MAE: 0.9949\n"
     ]
    },
    {
     "name": "stderr",
     "output_type": "stream",
     "text": [
      "Training Epoch 482: 100%|██████████| 370/370 [00:13<00:00, 26.87it/s]\n",
      "Training Epoch 483: 100%|██████████| 370/370 [00:14<00:00, 25.56it/s]\n",
      "Training Epoch 484: 100%|██████████| 370/370 [00:14<00:00, 25.78it/s]\n",
      "Training Epoch 485: 100%|██████████| 370/370 [00:15<00:00, 24.33it/s]\n",
      "Training Epoch 486: 100%|██████████| 370/370 [00:15<00:00, 24.43it/s]\n",
      "Training Epoch 487: 100%|██████████| 370/370 [00:18<00:00, 19.84it/s]\n",
      "Training Epoch 488: 100%|██████████| 370/370 [00:15<00:00, 23.67it/s]\n",
      "Training Epoch 489: 100%|██████████| 370/370 [00:15<00:00, 23.84it/s]\n",
      "Training Epoch 490: 100%|██████████| 370/370 [00:16<00:00, 22.24it/s]\n",
      "Training Epoch 491: 100%|██████████| 370/370 [00:14<00:00, 25.12it/s]\n"
     ]
    },
    {
     "name": "stdout",
     "output_type": "stream",
     "text": [
      "Epoch 490 - Train Loss: 0.6293, Train MSE: 0.6289, Train MAE: 0.5702\n",
      "Epoch 490 - Validation Loss: 1.7874, Validation MSE: 1.7909, Validation MAE: 0.9940\n"
     ]
    },
    {
     "name": "stderr",
     "output_type": "stream",
     "text": [
      "Training Epoch 492: 100%|██████████| 370/370 [00:14<00:00, 24.71it/s]\n",
      "Training Epoch 493: 100%|██████████| 370/370 [00:15<00:00, 24.65it/s]\n",
      "Training Epoch 494: 100%|██████████| 370/370 [00:15<00:00, 23.54it/s]\n",
      "Training Epoch 495: 100%|██████████| 370/370 [00:15<00:00, 24.41it/s]\n",
      "Training Epoch 496: 100%|██████████| 370/370 [00:15<00:00, 24.47it/s]\n",
      "Training Epoch 497: 100%|██████████| 370/370 [00:15<00:00, 23.71it/s]\n",
      "Training Epoch 498: 100%|██████████| 370/370 [00:15<00:00, 23.83it/s]\n",
      "Training Epoch 499: 100%|██████████| 370/370 [00:16<00:00, 22.16it/s]\n",
      "Training Epoch 500: 100%|██████████| 370/370 [00:16<00:00, 22.39it/s]\n",
      "Training Epoch 501: 100%|██████████| 370/370 [00:16<00:00, 22.16it/s]\n"
     ]
    },
    {
     "name": "stdout",
     "output_type": "stream",
     "text": [
      "Epoch 500 - Train Loss: 0.6343, Train MSE: 0.6338, Train MAE: 0.5723\n",
      "Epoch 500 - Validation Loss: 1.8479, Validation MSE: 1.8517, Validation MAE: 1.0150\n"
     ]
    },
    {
     "name": "stderr",
     "output_type": "stream",
     "text": [
      "Training Epoch 502: 100%|██████████| 370/370 [00:15<00:00, 23.37it/s]\n",
      "Training Epoch 503: 100%|██████████| 370/370 [00:15<00:00, 23.60it/s]\n",
      "Training Epoch 504: 100%|██████████| 370/370 [00:14<00:00, 24.74it/s]\n",
      "Training Epoch 505: 100%|██████████| 370/370 [00:14<00:00, 25.02it/s]\n",
      "Training Epoch 506: 100%|██████████| 370/370 [00:14<00:00, 24.73it/s]\n",
      "Training Epoch 507: 100%|██████████| 370/370 [00:15<00:00, 24.50it/s]\n",
      "Training Epoch 508: 100%|██████████| 370/370 [00:15<00:00, 24.04it/s]\n",
      "Training Epoch 509: 100%|██████████| 370/370 [00:14<00:00, 24.68it/s]\n",
      "Training Epoch 510: 100%|██████████| 370/370 [00:14<00:00, 25.36it/s]\n",
      "Training Epoch 511: 100%|██████████| 370/370 [00:14<00:00, 24.78it/s]\n"
     ]
    },
    {
     "name": "stdout",
     "output_type": "stream",
     "text": [
      "Epoch 510 - Train Loss: 0.6192, Train MSE: 0.6197, Train MAE: 0.5657\n",
      "Epoch 510 - Validation Loss: 1.7837, Validation MSE: 1.7868, Validation MAE: 1.0089\n"
     ]
    },
    {
     "name": "stderr",
     "output_type": "stream",
     "text": [
      "Training Epoch 512: 100%|██████████| 370/370 [00:14<00:00, 25.70it/s]\n",
      "Training Epoch 513: 100%|██████████| 370/370 [00:14<00:00, 25.14it/s]\n",
      "Training Epoch 514: 100%|██████████| 370/370 [00:14<00:00, 25.49it/s]\n",
      "Training Epoch 515: 100%|██████████| 370/370 [00:15<00:00, 23.88it/s]\n",
      "Training Epoch 516: 100%|██████████| 370/370 [00:14<00:00, 25.61it/s]\n",
      "Training Epoch 517: 100%|██████████| 370/370 [00:14<00:00, 25.90it/s]\n",
      "Training Epoch 518: 100%|██████████| 370/370 [00:14<00:00, 26.23it/s]\n",
      "Training Epoch 519: 100%|██████████| 370/370 [00:15<00:00, 24.51it/s]\n",
      "Training Epoch 520: 100%|██████████| 370/370 [00:14<00:00, 24.70it/s]\n",
      "Training Epoch 521: 100%|██████████| 370/370 [00:13<00:00, 26.44it/s]\n"
     ]
    },
    {
     "name": "stdout",
     "output_type": "stream",
     "text": [
      "Epoch 520 - Train Loss: 0.6170, Train MSE: 0.6176, Train MAE: 0.5620\n",
      "Epoch 520 - Validation Loss: 1.7815, Validation MSE: 1.7855, Validation MAE: 0.9949\n"
     ]
    },
    {
     "name": "stderr",
     "output_type": "stream",
     "text": [
      "Training Epoch 522: 100%|██████████| 370/370 [00:14<00:00, 25.54it/s]\n",
      "Training Epoch 523: 100%|██████████| 370/370 [00:14<00:00, 25.45it/s]\n",
      "Training Epoch 524: 100%|██████████| 370/370 [00:14<00:00, 26.31it/s]\n",
      "Training Epoch 525: 100%|██████████| 370/370 [00:14<00:00, 25.45it/s]\n",
      "Training Epoch 526: 100%|██████████| 370/370 [00:15<00:00, 24.59it/s]\n",
      "Training Epoch 527: 100%|██████████| 370/370 [00:14<00:00, 24.93it/s]\n",
      "Training Epoch 528: 100%|██████████| 370/370 [00:14<00:00, 26.37it/s]\n",
      "Training Epoch 529: 100%|██████████| 370/370 [00:12<00:00, 28.68it/s]\n",
      "Training Epoch 530: 100%|██████████| 370/370 [00:12<00:00, 29.23it/s]\n",
      "Training Epoch 531: 100%|██████████| 370/370 [00:12<00:00, 28.98it/s]\n"
     ]
    },
    {
     "name": "stdout",
     "output_type": "stream",
     "text": [
      "Epoch 530 - Train Loss: 0.6259, Train MSE: 0.6261, Train MAE: 0.5684\n",
      "Epoch 530 - Validation Loss: 1.7770, Validation MSE: 1.7812, Validation MAE: 1.0022\n"
     ]
    },
    {
     "name": "stderr",
     "output_type": "stream",
     "text": [
      "Training Epoch 532: 100%|██████████| 370/370 [00:12<00:00, 29.09it/s]\n",
      "Training Epoch 533: 100%|██████████| 370/370 [00:12<00:00, 29.23it/s]\n",
      "Training Epoch 534: 100%|██████████| 370/370 [00:12<00:00, 29.16it/s]\n",
      "Training Epoch 535: 100%|██████████| 370/370 [00:12<00:00, 29.02it/s]\n",
      "Training Epoch 536: 100%|██████████| 370/370 [00:12<00:00, 29.16it/s]\n",
      "Training Epoch 537: 100%|██████████| 370/370 [00:12<00:00, 29.07it/s]\n",
      "Training Epoch 538: 100%|██████████| 370/370 [00:12<00:00, 29.17it/s]\n",
      "Training Epoch 539: 100%|██████████| 370/370 [00:12<00:00, 29.07it/s]\n",
      "Training Epoch 540: 100%|██████████| 370/370 [00:12<00:00, 28.98it/s]\n",
      "Training Epoch 541: 100%|██████████| 370/370 [00:12<00:00, 29.16it/s]\n"
     ]
    },
    {
     "name": "stdout",
     "output_type": "stream",
     "text": [
      "Epoch 540 - Train Loss: 0.6074, Train MSE: 0.6071, Train MAE: 0.5588\n",
      "Epoch 540 - Validation Loss: 1.7977, Validation MSE: 1.8020, Validation MAE: 1.0093\n"
     ]
    },
    {
     "name": "stderr",
     "output_type": "stream",
     "text": [
      "Training Epoch 542: 100%|██████████| 370/370 [00:12<00:00, 29.00it/s]\n",
      "Training Epoch 543: 100%|██████████| 370/370 [00:12<00:00, 29.20it/s]\n",
      "Training Epoch 544: 100%|██████████| 370/370 [00:12<00:00, 29.08it/s]\n",
      "Training Epoch 545: 100%|██████████| 370/370 [00:12<00:00, 29.05it/s]\n",
      "Training Epoch 546: 100%|██████████| 370/370 [00:12<00:00, 29.22it/s]\n",
      "Training Epoch 547: 100%|██████████| 370/370 [00:12<00:00, 29.03it/s]\n",
      "Training Epoch 548: 100%|██████████| 370/370 [00:12<00:00, 29.16it/s]\n",
      "Training Epoch 549: 100%|██████████| 370/370 [00:12<00:00, 28.93it/s]\n",
      "Training Epoch 550: 100%|██████████| 370/370 [00:12<00:00, 29.21it/s]\n",
      "Training Epoch 551: 100%|██████████| 370/370 [00:12<00:00, 29.02it/s]\n"
     ]
    },
    {
     "name": "stdout",
     "output_type": "stream",
     "text": [
      "Epoch 550 - Train Loss: 0.6140, Train MSE: 0.6146, Train MAE: 0.5645\n",
      "Epoch 550 - Validation Loss: 1.7788, Validation MSE: 1.7825, Validation MAE: 0.9889\n"
     ]
    },
    {
     "name": "stderr",
     "output_type": "stream",
     "text": [
      "Training Epoch 552: 100%|██████████| 370/370 [00:12<00:00, 29.17it/s]\n",
      "Training Epoch 553: 100%|██████████| 370/370 [00:12<00:00, 28.94it/s]\n",
      "Training Epoch 554: 100%|██████████| 370/370 [00:12<00:00, 29.10it/s]\n",
      "Training Epoch 555: 100%|██████████| 370/370 [00:12<00:00, 29.06it/s]\n",
      "Training Epoch 556: 100%|██████████| 370/370 [00:12<00:00, 29.28it/s]\n",
      "Training Epoch 557: 100%|██████████| 370/370 [00:12<00:00, 29.18it/s]\n",
      "Training Epoch 558: 100%|██████████| 370/370 [00:12<00:00, 28.92it/s]\n",
      "Training Epoch 559: 100%|██████████| 370/370 [00:12<00:00, 29.03it/s]\n",
      "Training Epoch 560: 100%|██████████| 370/370 [00:12<00:00, 28.94it/s]\n",
      "Training Epoch 561: 100%|██████████| 370/370 [00:12<00:00, 29.12it/s]\n"
     ]
    },
    {
     "name": "stdout",
     "output_type": "stream",
     "text": [
      "Epoch 560 - Train Loss: 0.6055, Train MSE: 0.6055, Train MAE: 0.5604\n",
      "Epoch 560 - Validation Loss: 1.8179, Validation MSE: 1.8217, Validation MAE: 1.0096\n"
     ]
    },
    {
     "name": "stderr",
     "output_type": "stream",
     "text": [
      "Training Epoch 562: 100%|██████████| 370/370 [00:12<00:00, 29.48it/s]\n",
      "Training Epoch 563: 100%|██████████| 370/370 [00:12<00:00, 29.27it/s]\n",
      "Training Epoch 564: 100%|██████████| 370/370 [00:12<00:00, 28.94it/s]\n",
      "Training Epoch 565: 100%|██████████| 370/370 [00:12<00:00, 28.96it/s]\n",
      "Training Epoch 566: 100%|██████████| 370/370 [00:12<00:00, 29.21it/s]\n",
      "Training Epoch 567: 100%|██████████| 370/370 [00:12<00:00, 29.23it/s]\n",
      "Training Epoch 568: 100%|██████████| 370/370 [00:12<00:00, 29.33it/s]\n",
      "Training Epoch 569: 100%|██████████| 370/370 [00:12<00:00, 29.26it/s]\n",
      "Training Epoch 570: 100%|██████████| 370/370 [00:12<00:00, 29.47it/s]\n",
      "Training Epoch 571: 100%|██████████| 370/370 [00:12<00:00, 29.34it/s]\n"
     ]
    },
    {
     "name": "stdout",
     "output_type": "stream",
     "text": [
      "Epoch 570 - Train Loss: 0.6060, Train MSE: 0.6065, Train MAE: 0.5577\n",
      "Epoch 570 - Validation Loss: 1.8193, Validation MSE: 1.8233, Validation MAE: 1.0021\n"
     ]
    },
    {
     "name": "stderr",
     "output_type": "stream",
     "text": [
      "Training Epoch 572: 100%|██████████| 370/370 [00:12<00:00, 29.15it/s]\n",
      "Training Epoch 573: 100%|██████████| 370/370 [00:12<00:00, 29.41it/s]\n",
      "Training Epoch 574: 100%|██████████| 370/370 [00:12<00:00, 29.23it/s]\n",
      "Training Epoch 575: 100%|██████████| 370/370 [00:12<00:00, 29.26it/s]\n",
      "Training Epoch 576: 100%|██████████| 370/370 [00:12<00:00, 29.56it/s]\n",
      "Training Epoch 577: 100%|██████████| 370/370 [00:12<00:00, 29.57it/s]\n",
      "Training Epoch 578: 100%|██████████| 370/370 [00:12<00:00, 29.32it/s]\n",
      "Training Epoch 579: 100%|██████████| 370/370 [00:12<00:00, 29.03it/s]\n",
      "Training Epoch 580: 100%|██████████| 370/370 [00:12<00:00, 29.28it/s]\n",
      "Training Epoch 581: 100%|██████████| 370/370 [00:12<00:00, 29.36it/s]\n"
     ]
    },
    {
     "name": "stdout",
     "output_type": "stream",
     "text": [
      "Epoch 580 - Train Loss: 0.6075, Train MSE: 0.6086, Train MAE: 0.5612\n",
      "Epoch 580 - Validation Loss: 1.7294, Validation MSE: 1.7333, Validation MAE: 0.9806\n"
     ]
    },
    {
     "name": "stderr",
     "output_type": "stream",
     "text": [
      "Training Epoch 582: 100%|██████████| 370/370 [00:13<00:00, 28.40it/s]\n",
      "Training Epoch 583: 100%|██████████| 370/370 [00:12<00:00, 29.44it/s]\n",
      "Training Epoch 584: 100%|██████████| 370/370 [00:12<00:00, 29.41it/s]\n",
      "Training Epoch 585: 100%|██████████| 370/370 [00:12<00:00, 29.48it/s]\n",
      "Training Epoch 586: 100%|██████████| 370/370 [00:12<00:00, 29.42it/s]\n",
      "Training Epoch 587: 100%|██████████| 370/370 [00:12<00:00, 29.41it/s]\n",
      "Training Epoch 588: 100%|██████████| 370/370 [00:12<00:00, 29.29it/s]\n",
      "Training Epoch 589: 100%|██████████| 370/370 [00:12<00:00, 29.38it/s]\n",
      "Training Epoch 590: 100%|██████████| 370/370 [00:12<00:00, 29.19it/s]\n",
      "Training Epoch 591: 100%|██████████| 370/370 [00:12<00:00, 29.35it/s]\n"
     ]
    },
    {
     "name": "stdout",
     "output_type": "stream",
     "text": [
      "Epoch 590 - Train Loss: 0.6013, Train MSE: 0.6019, Train MAE: 0.5555\n",
      "Epoch 590 - Validation Loss: 1.7418, Validation MSE: 1.7457, Validation MAE: 0.9874\n"
     ]
    },
    {
     "name": "stderr",
     "output_type": "stream",
     "text": [
      "Training Epoch 592: 100%|██████████| 370/370 [00:12<00:00, 29.19it/s]\n",
      "Training Epoch 593: 100%|██████████| 370/370 [00:12<00:00, 29.25it/s]\n",
      "Training Epoch 594: 100%|██████████| 370/370 [00:12<00:00, 29.48it/s]\n",
      "Training Epoch 595: 100%|██████████| 370/370 [00:12<00:00, 29.40it/s]\n",
      "Training Epoch 596: 100%|██████████| 370/370 [00:12<00:00, 29.43it/s]\n",
      "Training Epoch 597: 100%|██████████| 370/370 [00:12<00:00, 29.32it/s]\n",
      "Training Epoch 598: 100%|██████████| 370/370 [00:12<00:00, 29.46it/s]\n",
      "Training Epoch 599: 100%|██████████| 370/370 [00:12<00:00, 29.26it/s]\n",
      "Training Epoch 600: 100%|██████████| 370/370 [00:12<00:00, 29.46it/s]\n",
      "Training Epoch 601: 100%|██████████| 370/370 [00:12<00:00, 29.15it/s]\n"
     ]
    },
    {
     "name": "stdout",
     "output_type": "stream",
     "text": [
      "Epoch 600 - Train Loss: 0.6003, Train MSE: 0.6005, Train MAE: 0.5518\n",
      "Epoch 600 - Validation Loss: 1.7739, Validation MSE: 1.7779, Validation MAE: 0.9956\n"
     ]
    },
    {
     "name": "stderr",
     "output_type": "stream",
     "text": [
      "Training Epoch 602: 100%|██████████| 370/370 [00:12<00:00, 29.06it/s]\n",
      "Training Epoch 603: 100%|██████████| 370/370 [00:12<00:00, 29.31it/s]\n",
      "Training Epoch 604: 100%|██████████| 370/370 [00:12<00:00, 29.49it/s]\n",
      "Training Epoch 605: 100%|██████████| 370/370 [00:12<00:00, 29.31it/s]\n",
      "Training Epoch 606: 100%|██████████| 370/370 [00:12<00:00, 29.25it/s]\n",
      "Training Epoch 607: 100%|██████████| 370/370 [00:12<00:00, 29.32it/s]\n",
      "Training Epoch 608: 100%|██████████| 370/370 [00:12<00:00, 29.45it/s]\n",
      "Training Epoch 609: 100%|██████████| 370/370 [00:12<00:00, 29.29it/s]\n",
      "Training Epoch 610: 100%|██████████| 370/370 [00:12<00:00, 29.35it/s]\n",
      "Training Epoch 611: 100%|██████████| 370/370 [00:12<00:00, 29.61it/s]\n"
     ]
    },
    {
     "name": "stdout",
     "output_type": "stream",
     "text": [
      "Epoch 610 - Train Loss: 0.6017, Train MSE: 0.6024, Train MAE: 0.5536\n",
      "Epoch 610 - Validation Loss: 1.7809, Validation MSE: 1.7849, Validation MAE: 0.9958\n"
     ]
    },
    {
     "name": "stderr",
     "output_type": "stream",
     "text": [
      "Training Epoch 612: 100%|██████████| 370/370 [00:12<00:00, 29.19it/s]\n",
      "Training Epoch 613: 100%|██████████| 370/370 [00:12<00:00, 29.15it/s]\n",
      "Training Epoch 614: 100%|██████████| 370/370 [00:12<00:00, 29.22it/s]\n",
      "Training Epoch 615: 100%|██████████| 370/370 [00:12<00:00, 28.86it/s]\n",
      "Training Epoch 616: 100%|██████████| 370/370 [00:12<00:00, 29.27it/s]\n",
      "Training Epoch 617: 100%|██████████| 370/370 [00:12<00:00, 29.38it/s]\n",
      "Training Epoch 618: 100%|██████████| 370/370 [00:12<00:00, 29.27it/s]\n",
      "Training Epoch 619: 100%|██████████| 370/370 [00:12<00:00, 29.29it/s]\n",
      "Training Epoch 620: 100%|██████████| 370/370 [00:12<00:00, 29.17it/s]\n",
      "Training Epoch 621: 100%|██████████| 370/370 [00:12<00:00, 29.39it/s]\n"
     ]
    },
    {
     "name": "stdout",
     "output_type": "stream",
     "text": [
      "Epoch 620 - Train Loss: 0.6006, Train MSE: 0.5999, Train MAE: 0.5536\n",
      "Epoch 620 - Validation Loss: 1.8066, Validation MSE: 1.8108, Validation MAE: 1.0090\n"
     ]
    },
    {
     "name": "stderr",
     "output_type": "stream",
     "text": [
      "Training Epoch 622: 100%|██████████| 370/370 [00:12<00:00, 29.45it/s]\n",
      "Training Epoch 623: 100%|██████████| 370/370 [00:12<00:00, 29.29it/s]\n",
      "Training Epoch 624: 100%|██████████| 370/370 [00:12<00:00, 29.47it/s]\n",
      "Training Epoch 625: 100%|██████████| 370/370 [00:12<00:00, 29.32it/s]\n",
      "Training Epoch 626: 100%|██████████| 370/370 [00:12<00:00, 29.38it/s]\n",
      "Training Epoch 627: 100%|██████████| 370/370 [00:12<00:00, 29.39it/s]\n",
      "Training Epoch 628: 100%|██████████| 370/370 [00:12<00:00, 29.34it/s]\n",
      "Training Epoch 629: 100%|██████████| 370/370 [00:12<00:00, 29.30it/s]\n",
      "Training Epoch 630: 100%|██████████| 370/370 [00:12<00:00, 29.28it/s]\n",
      "Training Epoch 631: 100%|██████████| 370/370 [00:13<00:00, 26.90it/s]\n"
     ]
    },
    {
     "name": "stdout",
     "output_type": "stream",
     "text": [
      "Epoch 630 - Train Loss: 0.6029, Train MSE: 0.6037, Train MAE: 0.5559\n",
      "Epoch 630 - Validation Loss: 1.8038, Validation MSE: 1.8080, Validation MAE: 0.9977\n"
     ]
    },
    {
     "name": "stderr",
     "output_type": "stream",
     "text": [
      "Training Epoch 632: 100%|██████████| 370/370 [00:13<00:00, 27.38it/s]\n",
      "Training Epoch 633: 100%|██████████| 370/370 [00:13<00:00, 28.24it/s]\n",
      "Training Epoch 634: 100%|██████████| 370/370 [00:13<00:00, 28.22it/s]\n",
      "Training Epoch 635: 100%|██████████| 370/370 [00:13<00:00, 28.16it/s]\n",
      "Training Epoch 636: 100%|██████████| 370/370 [00:13<00:00, 27.33it/s]\n",
      "Training Epoch 637: 100%|██████████| 370/370 [00:13<00:00, 26.46it/s]\n",
      "Training Epoch 638: 100%|██████████| 370/370 [00:14<00:00, 26.40it/s]\n",
      "Training Epoch 639: 100%|██████████| 370/370 [00:13<00:00, 28.16it/s]\n",
      "Training Epoch 640: 100%|██████████| 370/370 [00:13<00:00, 28.19it/s]\n",
      "Training Epoch 641: 100%|██████████| 370/370 [00:13<00:00, 28.05it/s]\n"
     ]
    },
    {
     "name": "stdout",
     "output_type": "stream",
     "text": [
      "Epoch 640 - Train Loss: 0.5979, Train MSE: 0.5992, Train MAE: 0.5514\n",
      "Epoch 640 - Validation Loss: 1.7886, Validation MSE: 1.7924, Validation MAE: 0.9957\n"
     ]
    },
    {
     "name": "stderr",
     "output_type": "stream",
     "text": [
      "Training Epoch 642: 100%|██████████| 370/370 [00:13<00:00, 28.20it/s]\n",
      "Training Epoch 643: 100%|██████████| 370/370 [00:13<00:00, 28.22it/s]\n",
      "Training Epoch 644: 100%|██████████| 370/370 [00:13<00:00, 28.13it/s]\n",
      "Training Epoch 645: 100%|██████████| 370/370 [00:13<00:00, 27.99it/s]\n",
      "Training Epoch 646: 100%|██████████| 370/370 [00:13<00:00, 28.01it/s]\n",
      "Training Epoch 647: 100%|██████████| 370/370 [00:13<00:00, 27.89it/s]\n",
      "Training Epoch 648: 100%|██████████| 370/370 [00:13<00:00, 28.13it/s]\n",
      "Training Epoch 649: 100%|██████████| 370/370 [00:13<00:00, 27.90it/s]\n",
      "Training Epoch 650: 100%|██████████| 370/370 [00:13<00:00, 27.92it/s]\n",
      "Training Epoch 651: 100%|██████████| 370/370 [00:13<00:00, 27.99it/s]\n"
     ]
    },
    {
     "name": "stdout",
     "output_type": "stream",
     "text": [
      "Epoch 650 - Train Loss: 0.5936, Train MSE: 0.5944, Train MAE: 0.5483\n",
      "Epoch 650 - Validation Loss: 1.8327, Validation MSE: 1.8362, Validation MAE: 1.0030\n"
     ]
    },
    {
     "name": "stderr",
     "output_type": "stream",
     "text": [
      "Training Epoch 652: 100%|██████████| 370/370 [00:13<00:00, 27.91it/s]\n",
      "Training Epoch 653: 100%|██████████| 370/370 [00:13<00:00, 27.89it/s]\n",
      "Training Epoch 654: 100%|██████████| 370/370 [00:13<00:00, 28.00it/s]\n",
      "Training Epoch 655: 100%|██████████| 370/370 [00:13<00:00, 27.95it/s]\n",
      "Training Epoch 656: 100%|██████████| 370/370 [00:13<00:00, 27.95it/s]\n",
      "Training Epoch 657: 100%|██████████| 370/370 [00:13<00:00, 27.95it/s]\n",
      "Training Epoch 658: 100%|██████████| 370/370 [00:13<00:00, 27.82it/s]\n",
      "Training Epoch 659: 100%|██████████| 370/370 [00:13<00:00, 28.07it/s]\n",
      "Training Epoch 660: 100%|██████████| 370/370 [00:13<00:00, 28.16it/s]\n",
      "Training Epoch 661: 100%|██████████| 370/370 [00:13<00:00, 28.08it/s]\n"
     ]
    },
    {
     "name": "stdout",
     "output_type": "stream",
     "text": [
      "Epoch 660 - Train Loss: 0.5901, Train MSE: 0.5907, Train MAE: 0.5482\n",
      "Epoch 660 - Validation Loss: 1.7841, Validation MSE: 1.7878, Validation MAE: 0.9891\n"
     ]
    },
    {
     "name": "stderr",
     "output_type": "stream",
     "text": [
      "Training Epoch 662: 100%|██████████| 370/370 [00:13<00:00, 28.08it/s]\n",
      "Training Epoch 663: 100%|██████████| 370/370 [00:13<00:00, 28.15it/s]\n",
      "Training Epoch 664: 100%|██████████| 370/370 [00:13<00:00, 28.10it/s]\n",
      "Training Epoch 665: 100%|██████████| 370/370 [00:13<00:00, 28.22it/s]\n",
      "Training Epoch 666: 100%|██████████| 370/370 [00:13<00:00, 28.13it/s]\n",
      "Training Epoch 667: 100%|██████████| 370/370 [00:13<00:00, 28.10it/s]\n",
      "Training Epoch 668: 100%|██████████| 370/370 [00:13<00:00, 28.32it/s]\n",
      "Training Epoch 669: 100%|██████████| 370/370 [00:13<00:00, 28.13it/s]\n",
      "Training Epoch 670: 100%|██████████| 370/370 [00:13<00:00, 27.93it/s]\n",
      "Training Epoch 671: 100%|██████████| 370/370 [00:13<00:00, 28.01it/s]\n"
     ]
    },
    {
     "name": "stdout",
     "output_type": "stream",
     "text": [
      "Epoch 670 - Train Loss: 0.5877, Train MSE: 0.5881, Train MAE: 0.5499\n",
      "Epoch 670 - Validation Loss: 1.7762, Validation MSE: 1.7806, Validation MAE: 0.9926\n"
     ]
    },
    {
     "name": "stderr",
     "output_type": "stream",
     "text": [
      "Training Epoch 672: 100%|██████████| 370/370 [00:13<00:00, 27.77it/s]\n",
      "Training Epoch 673: 100%|██████████| 370/370 [00:13<00:00, 28.24it/s]\n",
      "Training Epoch 674: 100%|██████████| 370/370 [00:13<00:00, 28.28it/s]\n",
      "Training Epoch 675: 100%|██████████| 370/370 [00:13<00:00, 28.35it/s]\n",
      "Training Epoch 676: 100%|██████████| 370/370 [00:13<00:00, 28.24it/s]\n",
      "Training Epoch 677: 100%|██████████| 370/370 [00:13<00:00, 28.04it/s]\n",
      "Training Epoch 678: 100%|██████████| 370/370 [00:13<00:00, 27.49it/s]\n",
      "Training Epoch 679: 100%|██████████| 370/370 [00:13<00:00, 26.97it/s]\n",
      "Training Epoch 680: 100%|██████████| 370/370 [00:14<00:00, 26.13it/s]\n",
      "Training Epoch 681: 100%|██████████| 370/370 [00:13<00:00, 28.08it/s]\n"
     ]
    },
    {
     "name": "stdout",
     "output_type": "stream",
     "text": [
      "Epoch 680 - Train Loss: 0.5944, Train MSE: 0.5935, Train MAE: 0.5499\n",
      "Epoch 680 - Validation Loss: 1.8083, Validation MSE: 1.8121, Validation MAE: 1.0049\n"
     ]
    },
    {
     "name": "stderr",
     "output_type": "stream",
     "text": [
      "Training Epoch 682: 100%|██████████| 370/370 [00:13<00:00, 28.04it/s]\n",
      "Training Epoch 683: 100%|██████████| 370/370 [00:13<00:00, 27.99it/s]\n",
      "Training Epoch 684: 100%|██████████| 370/370 [00:13<00:00, 28.10it/s]\n",
      "Training Epoch 685: 100%|██████████| 370/370 [00:13<00:00, 27.89it/s]\n",
      "Training Epoch 686: 100%|██████████| 370/370 [00:13<00:00, 27.99it/s]\n",
      "Training Epoch 687: 100%|██████████| 370/370 [00:13<00:00, 27.87it/s]\n",
      "Training Epoch 688: 100%|██████████| 370/370 [00:13<00:00, 27.91it/s]\n",
      "Training Epoch 689: 100%|██████████| 370/370 [00:13<00:00, 27.88it/s]\n",
      "Training Epoch 690: 100%|██████████| 370/370 [00:13<00:00, 27.88it/s]\n",
      "Training Epoch 691: 100%|██████████| 370/370 [00:13<00:00, 28.04it/s]\n"
     ]
    },
    {
     "name": "stdout",
     "output_type": "stream",
     "text": [
      "Epoch 690 - Train Loss: 0.5889, Train MSE: 0.5901, Train MAE: 0.5457\n",
      "Epoch 690 - Validation Loss: 1.8325, Validation MSE: 1.8365, Validation MAE: 1.0092\n"
     ]
    },
    {
     "name": "stderr",
     "output_type": "stream",
     "text": [
      "Training Epoch 692: 100%|██████████| 370/370 [00:13<00:00, 26.48it/s]\n",
      "Training Epoch 693: 100%|██████████| 370/370 [00:13<00:00, 26.82it/s]\n",
      "Training Epoch 694: 100%|██████████| 370/370 [00:13<00:00, 26.72it/s]\n",
      "Training Epoch 695: 100%|██████████| 370/370 [00:13<00:00, 26.96it/s]\n",
      "Training Epoch 696: 100%|██████████| 370/370 [00:13<00:00, 27.27it/s]\n",
      "Training Epoch 697: 100%|██████████| 370/370 [00:13<00:00, 27.95it/s]\n",
      "Training Epoch 698: 100%|██████████| 370/370 [00:12<00:00, 29.16it/s]\n",
      "Training Epoch 699: 100%|██████████| 370/370 [00:12<00:00, 30.83it/s]\n",
      "Training Epoch 700: 100%|██████████| 370/370 [00:11<00:00, 31.04it/s]\n",
      "Training Epoch 701: 100%|██████████| 370/370 [00:11<00:00, 31.03it/s]\n"
     ]
    },
    {
     "name": "stdout",
     "output_type": "stream",
     "text": [
      "Epoch 700 - Train Loss: 0.5871, Train MSE: 0.5856, Train MAE: 0.5434\n",
      "Epoch 700 - Validation Loss: 1.8126, Validation MSE: 1.8163, Validation MAE: 1.0037\n"
     ]
    },
    {
     "name": "stderr",
     "output_type": "stream",
     "text": [
      "Training Epoch 702: 100%|██████████| 370/370 [00:11<00:00, 30.85it/s]\n",
      "Training Epoch 703: 100%|██████████| 370/370 [00:11<00:00, 31.15it/s]\n",
      "Training Epoch 704: 100%|██████████| 370/370 [00:11<00:00, 31.00it/s]\n",
      "Training Epoch 705: 100%|██████████| 370/370 [00:11<00:00, 30.97it/s]\n",
      "Training Epoch 706: 100%|██████████| 370/370 [00:11<00:00, 31.04it/s]\n",
      "Training Epoch 707: 100%|██████████| 370/370 [00:11<00:00, 30.96it/s]\n",
      "Training Epoch 708: 100%|██████████| 370/370 [00:11<00:00, 31.18it/s]\n",
      "Training Epoch 709: 100%|██████████| 370/370 [00:11<00:00, 31.02it/s]\n",
      "Training Epoch 710: 100%|██████████| 370/370 [00:11<00:00, 31.14it/s]\n",
      "Training Epoch 711: 100%|██████████| 370/370 [00:11<00:00, 31.25it/s]\n"
     ]
    },
    {
     "name": "stdout",
     "output_type": "stream",
     "text": [
      "Epoch 710 - Train Loss: 0.5813, Train MSE: 0.5782, Train MAE: 0.5400\n",
      "Epoch 710 - Validation Loss: 1.7852, Validation MSE: 1.7888, Validation MAE: 0.9915\n"
     ]
    },
    {
     "name": "stderr",
     "output_type": "stream",
     "text": [
      "Training Epoch 712: 100%|██████████| 370/370 [00:11<00:00, 30.99it/s]\n",
      "Training Epoch 713: 100%|██████████| 370/370 [00:11<00:00, 30.98it/s]\n",
      "Training Epoch 714: 100%|██████████| 370/370 [00:11<00:00, 30.87it/s]\n",
      "Training Epoch 715: 100%|██████████| 370/370 [00:11<00:00, 31.16it/s]\n",
      "Training Epoch 716: 100%|██████████| 370/370 [00:11<00:00, 30.93it/s]\n",
      "Training Epoch 717: 100%|██████████| 370/370 [00:11<00:00, 31.09it/s]\n",
      "Training Epoch 718: 100%|██████████| 370/370 [00:11<00:00, 31.09it/s]\n",
      "Training Epoch 719: 100%|██████████| 370/370 [00:11<00:00, 30.98it/s]\n",
      "Training Epoch 720: 100%|██████████| 370/370 [00:11<00:00, 31.18it/s]\n",
      "Training Epoch 721: 100%|██████████| 370/370 [00:11<00:00, 31.01it/s]\n"
     ]
    },
    {
     "name": "stdout",
     "output_type": "stream",
     "text": [
      "Epoch 720 - Train Loss: 0.5740, Train MSE: 0.5723, Train MAE: 0.5413\n",
      "Epoch 720 - Validation Loss: 1.7773, Validation MSE: 1.7805, Validation MAE: 0.9978\n"
     ]
    },
    {
     "name": "stderr",
     "output_type": "stream",
     "text": [
      "Training Epoch 722: 100%|██████████| 370/370 [00:11<00:00, 31.09it/s]\n",
      "Training Epoch 723: 100%|██████████| 370/370 [00:11<00:00, 31.16it/s]\n",
      "Training Epoch 724: 100%|██████████| 370/370 [00:11<00:00, 31.13it/s]\n",
      "Training Epoch 725: 100%|██████████| 370/370 [00:11<00:00, 31.03it/s]\n",
      "Training Epoch 726: 100%|██████████| 370/370 [00:11<00:00, 30.89it/s]\n",
      "Training Epoch 727: 100%|██████████| 370/370 [00:11<00:00, 31.14it/s]\n",
      "Training Epoch 728: 100%|██████████| 370/370 [00:11<00:00, 30.93it/s]\n",
      "Training Epoch 729: 100%|██████████| 370/370 [00:11<00:00, 31.17it/s]\n",
      "Training Epoch 730: 100%|██████████| 370/370 [00:11<00:00, 31.14it/s]\n",
      "Training Epoch 731: 100%|██████████| 370/370 [00:11<00:00, 31.04it/s]\n"
     ]
    },
    {
     "name": "stdout",
     "output_type": "stream",
     "text": [
      "Epoch 730 - Train Loss: 0.5844, Train MSE: 0.5851, Train MAE: 0.5433\n",
      "Epoch 730 - Validation Loss: 1.8909, Validation MSE: 1.8957, Validation MAE: 1.0203\n"
     ]
    },
    {
     "name": "stderr",
     "output_type": "stream",
     "text": [
      "Training Epoch 732: 100%|██████████| 370/370 [00:11<00:00, 30.89it/s]\n",
      "Training Epoch 733: 100%|██████████| 370/370 [00:11<00:00, 30.96it/s]\n",
      "Training Epoch 734: 100%|██████████| 370/370 [00:11<00:00, 30.90it/s]\n",
      "Training Epoch 735: 100%|██████████| 370/370 [00:11<00:00, 31.12it/s]\n",
      "Training Epoch 736: 100%|██████████| 370/370 [00:11<00:00, 30.99it/s]\n",
      "Training Epoch 737: 100%|██████████| 370/370 [00:11<00:00, 30.96it/s]\n",
      "Training Epoch 738: 100%|██████████| 370/370 [00:11<00:00, 31.04it/s]\n",
      "Training Epoch 739: 100%|██████████| 370/370 [00:11<00:00, 31.07it/s]\n",
      "Training Epoch 740: 100%|██████████| 370/370 [00:11<00:00, 30.94it/s]\n",
      "Training Epoch 741: 100%|██████████| 370/370 [00:11<00:00, 30.85it/s]\n"
     ]
    },
    {
     "name": "stdout",
     "output_type": "stream",
     "text": [
      "Epoch 740 - Train Loss: 0.5805, Train MSE: 0.5808, Train MAE: 0.5433\n",
      "Epoch 740 - Validation Loss: 1.8002, Validation MSE: 1.8037, Validation MAE: 0.9926\n"
     ]
    },
    {
     "name": "stderr",
     "output_type": "stream",
     "text": [
      "Training Epoch 742: 100%|██████████| 370/370 [00:11<00:00, 31.09it/s]\n",
      "Training Epoch 743: 100%|██████████| 370/370 [00:11<00:00, 31.11it/s]\n",
      "Training Epoch 744: 100%|██████████| 370/370 [00:11<00:00, 31.09it/s]\n",
      "Training Epoch 745: 100%|██████████| 370/370 [00:11<00:00, 30.98it/s]\n",
      "Training Epoch 746: 100%|██████████| 370/370 [00:11<00:00, 31.05it/s]\n",
      "Training Epoch 747: 100%|██████████| 370/370 [00:11<00:00, 31.21it/s]\n",
      "Training Epoch 748: 100%|██████████| 370/370 [00:11<00:00, 31.08it/s]\n",
      "Training Epoch 749: 100%|██████████| 370/370 [00:11<00:00, 31.01it/s]\n",
      "Training Epoch 750: 100%|██████████| 370/370 [00:11<00:00, 30.94it/s]\n",
      "Training Epoch 751: 100%|██████████| 370/370 [00:11<00:00, 30.85it/s]\n"
     ]
    },
    {
     "name": "stdout",
     "output_type": "stream",
     "text": [
      "Epoch 750 - Train Loss: 0.5828, Train MSE: 0.5838, Train MAE: 0.5435\n",
      "Epoch 750 - Validation Loss: 1.8269, Validation MSE: 1.8307, Validation MAE: 1.0108\n"
     ]
    },
    {
     "name": "stderr",
     "output_type": "stream",
     "text": [
      "Training Epoch 752: 100%|██████████| 370/370 [00:11<00:00, 30.96it/s]\n",
      "Training Epoch 753: 100%|██████████| 370/370 [00:11<00:00, 31.12it/s]\n",
      "Training Epoch 754: 100%|██████████| 370/370 [00:11<00:00, 31.04it/s]\n",
      "Training Epoch 755: 100%|██████████| 370/370 [00:11<00:00, 31.11it/s]\n",
      "Training Epoch 756: 100%|██████████| 370/370 [00:11<00:00, 30.91it/s]\n",
      "Training Epoch 757: 100%|██████████| 370/370 [00:11<00:00, 31.02it/s]\n",
      "Training Epoch 758: 100%|██████████| 370/370 [00:11<00:00, 30.84it/s]\n",
      "Training Epoch 759: 100%|██████████| 370/370 [00:11<00:00, 31.09it/s]\n",
      "Training Epoch 760: 100%|██████████| 370/370 [00:11<00:00, 31.04it/s]\n",
      "Training Epoch 761: 100%|██████████| 370/370 [00:11<00:00, 30.87it/s]\n"
     ]
    },
    {
     "name": "stdout",
     "output_type": "stream",
     "text": [
      "Epoch 760 - Train Loss: 0.5933, Train MSE: 0.5940, Train MAE: 0.5474\n",
      "Epoch 760 - Validation Loss: 1.8546, Validation MSE: 1.8588, Validation MAE: 1.0187\n"
     ]
    },
    {
     "name": "stderr",
     "output_type": "stream",
     "text": [
      "Training Epoch 762: 100%|██████████| 370/370 [00:11<00:00, 31.10it/s]\n",
      "Training Epoch 763: 100%|██████████| 370/370 [00:11<00:00, 31.09it/s]\n",
      "Training Epoch 764: 100%|██████████| 370/370 [00:11<00:00, 30.96it/s]\n",
      "Training Epoch 765: 100%|██████████| 370/370 [00:11<00:00, 31.02it/s]\n",
      "Training Epoch 766: 100%|██████████| 370/370 [00:12<00:00, 30.79it/s]\n",
      "Training Epoch 767: 100%|██████████| 370/370 [00:11<00:00, 30.93it/s]\n",
      "Training Epoch 768: 100%|██████████| 370/370 [00:11<00:00, 30.93it/s]\n",
      "Training Epoch 769: 100%|██████████| 370/370 [00:11<00:00, 30.92it/s]\n",
      "Training Epoch 770: 100%|██████████| 370/370 [00:11<00:00, 31.20it/s]\n",
      "Training Epoch 771: 100%|██████████| 370/370 [00:11<00:00, 30.89it/s]\n"
     ]
    },
    {
     "name": "stdout",
     "output_type": "stream",
     "text": [
      "Epoch 770 - Train Loss: 0.5665, Train MSE: 0.5677, Train MAE: 0.5374\n",
      "Epoch 770 - Validation Loss: 1.8468, Validation MSE: 1.8512, Validation MAE: 1.0123\n"
     ]
    },
    {
     "name": "stderr",
     "output_type": "stream",
     "text": [
      "Training Epoch 772: 100%|██████████| 370/370 [00:12<00:00, 30.68it/s]\n",
      "Training Epoch 773: 100%|██████████| 370/370 [00:11<00:00, 31.63it/s]\n",
      "Training Epoch 774: 100%|██████████| 370/370 [00:11<00:00, 31.63it/s]\n",
      "Training Epoch 775: 100%|██████████| 370/370 [00:11<00:00, 31.94it/s]\n",
      "Training Epoch 776: 100%|██████████| 370/370 [00:11<00:00, 31.91it/s]\n",
      "Training Epoch 777: 100%|██████████| 370/370 [00:11<00:00, 31.83it/s]\n",
      "Training Epoch 778: 100%|██████████| 370/370 [00:11<00:00, 32.04it/s]\n",
      "Training Epoch 779: 100%|██████████| 370/370 [00:12<00:00, 30.25it/s]\n",
      "Training Epoch 780: 100%|██████████| 370/370 [00:11<00:00, 31.32it/s]\n",
      "Training Epoch 781: 100%|██████████| 370/370 [00:11<00:00, 31.52it/s]\n"
     ]
    },
    {
     "name": "stdout",
     "output_type": "stream",
     "text": [
      "Epoch 780 - Train Loss: 0.5820, Train MSE: 0.5826, Train MAE: 0.5410\n",
      "Epoch 780 - Validation Loss: 1.7827, Validation MSE: 1.7868, Validation MAE: 0.9980\n"
     ]
    },
    {
     "name": "stderr",
     "output_type": "stream",
     "text": [
      "Training Epoch 782: 100%|██████████| 370/370 [00:11<00:00, 31.26it/s]\n",
      "Training Epoch 783: 100%|██████████| 370/370 [00:11<00:00, 31.29it/s]\n",
      "Training Epoch 784: 100%|██████████| 370/370 [00:11<00:00, 31.04it/s]\n",
      "Training Epoch 785: 100%|██████████| 370/370 [00:11<00:00, 30.92it/s]\n",
      "Training Epoch 786: 100%|██████████| 370/370 [00:12<00:00, 30.16it/s]\n",
      "Training Epoch 787: 100%|██████████| 370/370 [00:11<00:00, 31.48it/s]\n",
      "Training Epoch 788: 100%|██████████| 370/370 [00:11<00:00, 31.60it/s]\n",
      "Training Epoch 789: 100%|██████████| 370/370 [00:11<00:00, 31.24it/s]\n",
      "Training Epoch 790: 100%|██████████| 370/370 [00:11<00:00, 31.47it/s]\n",
      "Training Epoch 791: 100%|██████████| 370/370 [00:11<00:00, 31.62it/s]\n"
     ]
    },
    {
     "name": "stdout",
     "output_type": "stream",
     "text": [
      "Epoch 790 - Train Loss: 0.5802, Train MSE: 0.5805, Train MAE: 0.5429\n",
      "Epoch 790 - Validation Loss: 1.8213, Validation MSE: 1.8257, Validation MAE: 0.9992\n"
     ]
    },
    {
     "name": "stderr",
     "output_type": "stream",
     "text": [
      "Training Epoch 792: 100%|██████████| 370/370 [00:11<00:00, 31.79it/s]\n",
      "Training Epoch 793: 100%|██████████| 370/370 [00:11<00:00, 31.53it/s]\n",
      "Training Epoch 794: 100%|██████████| 370/370 [00:11<00:00, 31.36it/s]\n",
      "Training Epoch 795: 100%|██████████| 370/370 [00:11<00:00, 31.76it/s]\n",
      "Training Epoch 796: 100%|██████████| 370/370 [00:11<00:00, 30.98it/s]\n",
      "Training Epoch 797: 100%|██████████| 370/370 [00:11<00:00, 31.49it/s]\n",
      "Training Epoch 798: 100%|██████████| 370/370 [00:11<00:00, 31.32it/s]\n",
      "Training Epoch 799: 100%|██████████| 370/370 [00:11<00:00, 31.27it/s]\n",
      "Training Epoch 800: 100%|██████████| 370/370 [00:12<00:00, 30.47it/s]\n",
      "Training Epoch 801: 100%|██████████| 370/370 [00:12<00:00, 30.18it/s]\n"
     ]
    },
    {
     "name": "stdout",
     "output_type": "stream",
     "text": [
      "Epoch 800 - Train Loss: 0.5698, Train MSE: 0.5708, Train MAE: 0.5364\n",
      "Epoch 800 - Validation Loss: 1.7706, Validation MSE: 1.7743, Validation MAE: 0.9916\n"
     ]
    },
    {
     "name": "stderr",
     "output_type": "stream",
     "text": [
      "Training Epoch 802: 100%|██████████| 370/370 [00:12<00:00, 30.83it/s]\n",
      "Training Epoch 803: 100%|██████████| 370/370 [00:12<00:00, 30.55it/s]\n",
      "Training Epoch 804: 100%|██████████| 370/370 [00:12<00:00, 30.56it/s]\n",
      "Training Epoch 805: 100%|██████████| 370/370 [00:11<00:00, 31.48it/s]\n",
      "Training Epoch 806: 100%|██████████| 370/370 [00:11<00:00, 31.28it/s]\n",
      "Training Epoch 807: 100%|██████████| 370/370 [00:11<00:00, 30.89it/s]\n",
      "Training Epoch 808: 100%|██████████| 370/370 [00:12<00:00, 30.57it/s]\n",
      "Training Epoch 809: 100%|██████████| 370/370 [00:11<00:00, 31.40it/s]\n",
      "Training Epoch 810: 100%|██████████| 370/370 [00:11<00:00, 31.83it/s]\n",
      "Training Epoch 811: 100%|██████████| 370/370 [00:11<00:00, 31.01it/s]\n"
     ]
    },
    {
     "name": "stdout",
     "output_type": "stream",
     "text": [
      "Epoch 810 - Train Loss: 0.5674, Train MSE: 0.5684, Train MAE: 0.5362\n",
      "Epoch 810 - Validation Loss: 1.8627, Validation MSE: 1.8669, Validation MAE: 1.0225\n"
     ]
    },
    {
     "name": "stderr",
     "output_type": "stream",
     "text": [
      "Training Epoch 812: 100%|██████████| 370/370 [00:11<00:00, 30.87it/s]\n",
      "Training Epoch 813: 100%|██████████| 370/370 [00:11<00:00, 30.94it/s]\n",
      "Training Epoch 814: 100%|██████████| 370/370 [00:12<00:00, 30.75it/s]\n",
      "Training Epoch 815: 100%|██████████| 370/370 [00:11<00:00, 31.22it/s]\n",
      "Training Epoch 816: 100%|██████████| 370/370 [00:12<00:00, 30.63it/s]\n",
      "Training Epoch 817: 100%|██████████| 370/370 [00:11<00:00, 31.21it/s]\n",
      "Training Epoch 818: 100%|██████████| 370/370 [00:11<00:00, 31.06it/s]\n",
      "Training Epoch 819: 100%|██████████| 370/370 [00:11<00:00, 30.86it/s]\n",
      "Training Epoch 820: 100%|██████████| 370/370 [00:12<00:00, 30.77it/s]\n",
      "Training Epoch 821: 100%|██████████| 370/370 [00:12<00:00, 29.22it/s]\n"
     ]
    },
    {
     "name": "stdout",
     "output_type": "stream",
     "text": [
      "Epoch 820 - Train Loss: 0.5694, Train MSE: 0.5704, Train MAE: 0.5355\n",
      "Epoch 820 - Validation Loss: 1.7828, Validation MSE: 1.7861, Validation MAE: 1.0057\n"
     ]
    },
    {
     "name": "stderr",
     "output_type": "stream",
     "text": [
      "Training Epoch 822: 100%|██████████| 370/370 [00:12<00:00, 30.12it/s]\n",
      "Training Epoch 823: 100%|██████████| 370/370 [00:11<00:00, 30.94it/s]\n",
      "Training Epoch 824: 100%|██████████| 370/370 [00:11<00:00, 30.99it/s]\n",
      "Training Epoch 825: 100%|██████████| 370/370 [00:11<00:00, 31.43it/s]\n",
      "Training Epoch 826: 100%|██████████| 370/370 [00:12<00:00, 30.74it/s]\n",
      "Training Epoch 827: 100%|██████████| 370/370 [00:11<00:00, 31.44it/s]\n",
      "Training Epoch 828: 100%|██████████| 370/370 [00:11<00:00, 31.05it/s]\n",
      "Training Epoch 829: 100%|██████████| 370/370 [00:11<00:00, 31.09it/s]\n",
      "Training Epoch 830: 100%|██████████| 370/370 [00:11<00:00, 31.38it/s]\n",
      "Training Epoch 831: 100%|██████████| 370/370 [00:11<00:00, 31.71it/s]\n"
     ]
    },
    {
     "name": "stdout",
     "output_type": "stream",
     "text": [
      "Epoch 830 - Train Loss: 0.5656, Train MSE: 0.5650, Train MAE: 0.5324\n",
      "Epoch 830 - Validation Loss: 1.8115, Validation MSE: 1.8157, Validation MAE: 1.0031\n"
     ]
    },
    {
     "name": "stderr",
     "output_type": "stream",
     "text": [
      "Training Epoch 832: 100%|██████████| 370/370 [00:11<00:00, 31.52it/s]\n",
      "Training Epoch 833: 100%|██████████| 370/370 [00:11<00:00, 31.35it/s]\n",
      "Training Epoch 834: 100%|██████████| 370/370 [00:11<00:00, 31.07it/s]\n",
      "Training Epoch 835: 100%|██████████| 370/370 [00:11<00:00, 31.46it/s]\n",
      "Training Epoch 836: 100%|██████████| 370/370 [00:11<00:00, 31.13it/s]\n",
      "Training Epoch 837: 100%|██████████| 370/370 [00:11<00:00, 31.03it/s]\n",
      "Training Epoch 838: 100%|██████████| 370/370 [00:12<00:00, 29.29it/s]\n",
      "Training Epoch 839: 100%|██████████| 370/370 [00:12<00:00, 28.94it/s]\n",
      "Training Epoch 840: 100%|██████████| 370/370 [00:12<00:00, 29.43it/s]\n",
      "Training Epoch 841: 100%|██████████| 370/370 [00:12<00:00, 30.50it/s]\n"
     ]
    },
    {
     "name": "stdout",
     "output_type": "stream",
     "text": [
      "Epoch 840 - Train Loss: 0.5680, Train MSE: 0.5670, Train MAE: 0.5351\n",
      "Epoch 840 - Validation Loss: 1.8491, Validation MSE: 1.8533, Validation MAE: 1.0144\n"
     ]
    },
    {
     "name": "stderr",
     "output_type": "stream",
     "text": [
      "Training Epoch 842: 100%|██████████| 370/370 [00:12<00:00, 30.41it/s]\n",
      "Training Epoch 843: 100%|██████████| 370/370 [00:12<00:00, 30.80it/s]\n",
      "Training Epoch 844: 100%|██████████| 370/370 [00:12<00:00, 29.27it/s]\n",
      "Training Epoch 845: 100%|██████████| 370/370 [00:12<00:00, 30.77it/s]\n",
      "Training Epoch 846: 100%|██████████| 370/370 [00:12<00:00, 30.72it/s]\n",
      "Training Epoch 847: 100%|██████████| 370/370 [00:11<00:00, 30.97it/s]\n",
      "Training Epoch 848: 100%|██████████| 370/370 [00:12<00:00, 30.66it/s]\n",
      "Training Epoch 849: 100%|██████████| 370/370 [00:12<00:00, 30.56it/s]\n",
      "Training Epoch 850: 100%|██████████| 370/370 [00:12<00:00, 30.60it/s]\n",
      "Training Epoch 851: 100%|██████████| 370/370 [00:12<00:00, 30.61it/s]\n"
     ]
    },
    {
     "name": "stdout",
     "output_type": "stream",
     "text": [
      "Epoch 850 - Train Loss: 0.5702, Train MSE: 0.5713, Train MAE: 0.5360\n",
      "Epoch 850 - Validation Loss: 1.7954, Validation MSE: 1.7990, Validation MAE: 0.9926\n"
     ]
    },
    {
     "name": "stderr",
     "output_type": "stream",
     "text": [
      "Training Epoch 852: 100%|██████████| 370/370 [00:12<00:00, 30.62it/s]\n",
      "Training Epoch 853: 100%|██████████| 370/370 [00:12<00:00, 30.65it/s]\n",
      "Training Epoch 854: 100%|██████████| 370/370 [00:12<00:00, 30.44it/s]\n",
      "Training Epoch 855: 100%|██████████| 370/370 [00:12<00:00, 30.60it/s]\n",
      "Training Epoch 856: 100%|██████████| 370/370 [00:12<00:00, 30.46it/s]\n",
      "Training Epoch 857: 100%|██████████| 370/370 [00:12<00:00, 30.70it/s]\n",
      "Training Epoch 858: 100%|██████████| 370/370 [00:12<00:00, 30.70it/s]\n",
      "Training Epoch 859: 100%|██████████| 370/370 [00:12<00:00, 30.65it/s]\n",
      "Training Epoch 860: 100%|██████████| 370/370 [00:12<00:00, 30.76it/s]\n",
      "Training Epoch 861: 100%|██████████| 370/370 [00:12<00:00, 30.46it/s]\n"
     ]
    },
    {
     "name": "stdout",
     "output_type": "stream",
     "text": [
      "Epoch 860 - Train Loss: 0.5661, Train MSE: 0.5668, Train MAE: 0.5313\n",
      "Epoch 860 - Validation Loss: 1.8161, Validation MSE: 1.8199, Validation MAE: 1.0087\n"
     ]
    },
    {
     "name": "stderr",
     "output_type": "stream",
     "text": [
      "Training Epoch 862: 100%|██████████| 370/370 [00:12<00:00, 30.83it/s]\n",
      "Training Epoch 863: 100%|██████████| 370/370 [00:12<00:00, 30.65it/s]\n",
      "Training Epoch 864: 100%|██████████| 370/370 [00:12<00:00, 30.60it/s]\n",
      "Training Epoch 865: 100%|██████████| 370/370 [00:12<00:00, 30.52it/s]\n",
      "Training Epoch 866: 100%|██████████| 370/370 [00:12<00:00, 30.51it/s]\n",
      "Training Epoch 867: 100%|██████████| 370/370 [00:12<00:00, 30.60it/s]\n",
      "Training Epoch 868: 100%|██████████| 370/370 [00:11<00:00, 30.95it/s]\n",
      "Training Epoch 869: 100%|██████████| 370/370 [00:11<00:00, 30.87it/s]\n",
      "Training Epoch 870: 100%|██████████| 370/370 [00:12<00:00, 30.82it/s]\n",
      "Training Epoch 871: 100%|██████████| 370/370 [00:12<00:00, 30.62it/s]\n"
     ]
    },
    {
     "name": "stdout",
     "output_type": "stream",
     "text": [
      "Epoch 870 - Train Loss: 0.5722, Train MSE: 0.5727, Train MAE: 0.5343\n",
      "Epoch 870 - Validation Loss: 1.7538, Validation MSE: 1.7573, Validation MAE: 0.9942\n"
     ]
    },
    {
     "name": "stderr",
     "output_type": "stream",
     "text": [
      "Training Epoch 872: 100%|██████████| 370/370 [00:11<00:00, 30.89it/s]\n",
      "Training Epoch 873: 100%|██████████| 370/370 [00:12<00:00, 30.58it/s]\n",
      "Training Epoch 874: 100%|██████████| 370/370 [00:11<00:00, 30.84it/s]\n",
      "Training Epoch 875: 100%|██████████| 370/370 [00:12<00:00, 30.79it/s]\n",
      "Training Epoch 876: 100%|██████████| 370/370 [00:11<00:00, 30.92it/s]\n",
      "Training Epoch 877: 100%|██████████| 370/370 [00:11<00:00, 32.54it/s]\n",
      "Training Epoch 878: 100%|██████████| 370/370 [00:10<00:00, 34.69it/s]\n",
      "Training Epoch 879: 100%|██████████| 370/370 [00:10<00:00, 34.41it/s]\n",
      "Training Epoch 880: 100%|██████████| 370/370 [00:10<00:00, 34.40it/s]\n",
      "Training Epoch 881: 100%|██████████| 370/370 [00:10<00:00, 34.35it/s]\n"
     ]
    },
    {
     "name": "stdout",
     "output_type": "stream",
     "text": [
      "Epoch 880 - Train Loss: 0.5631, Train MSE: 0.5643, Train MAE: 0.5339\n",
      "Epoch 880 - Validation Loss: 1.7974, Validation MSE: 1.8010, Validation MAE: 1.0064\n"
     ]
    },
    {
     "name": "stderr",
     "output_type": "stream",
     "text": [
      "Training Epoch 882: 100%|██████████| 370/370 [00:10<00:00, 34.31it/s]\n",
      "Training Epoch 883: 100%|██████████| 370/370 [00:10<00:00, 34.13it/s]\n",
      "Training Epoch 884: 100%|██████████| 370/370 [00:10<00:00, 34.18it/s]\n",
      "Training Epoch 885: 100%|██████████| 370/370 [00:10<00:00, 33.92it/s]\n",
      "Training Epoch 886: 100%|██████████| 370/370 [00:10<00:00, 33.98it/s]\n",
      "Training Epoch 887: 100%|██████████| 370/370 [00:10<00:00, 34.00it/s]\n",
      "Training Epoch 888: 100%|██████████| 370/370 [00:10<00:00, 33.94it/s]\n",
      "Training Epoch 889: 100%|██████████| 370/370 [00:10<00:00, 33.85it/s]\n",
      "Training Epoch 890: 100%|██████████| 370/370 [00:10<00:00, 34.03it/s]\n",
      "Training Epoch 891: 100%|██████████| 370/370 [00:10<00:00, 33.83it/s]\n"
     ]
    },
    {
     "name": "stdout",
     "output_type": "stream",
     "text": [
      "Epoch 890 - Train Loss: 0.5676, Train MSE: 0.5688, Train MAE: 0.5362\n",
      "Epoch 890 - Validation Loss: 1.7786, Validation MSE: 1.7818, Validation MAE: 0.9930\n"
     ]
    },
    {
     "name": "stderr",
     "output_type": "stream",
     "text": [
      "Training Epoch 892: 100%|██████████| 370/370 [00:10<00:00, 33.86it/s]\n",
      "Training Epoch 893: 100%|██████████| 370/370 [00:10<00:00, 34.28it/s]\n",
      "Training Epoch 894: 100%|██████████| 370/370 [00:10<00:00, 33.98it/s]\n",
      "Training Epoch 895: 100%|██████████| 370/370 [00:10<00:00, 34.01it/s]\n",
      "Training Epoch 896: 100%|██████████| 370/370 [00:10<00:00, 34.09it/s]\n",
      "Training Epoch 897: 100%|██████████| 370/370 [00:10<00:00, 33.85it/s]\n",
      "Training Epoch 898: 100%|██████████| 370/370 [00:10<00:00, 34.13it/s]\n",
      "Training Epoch 899: 100%|██████████| 370/370 [00:10<00:00, 34.30it/s]\n",
      "Training Epoch 900: 100%|██████████| 370/370 [00:10<00:00, 34.12it/s]\n",
      "Training Epoch 901: 100%|██████████| 370/370 [00:10<00:00, 34.06it/s]\n"
     ]
    },
    {
     "name": "stdout",
     "output_type": "stream",
     "text": [
      "Epoch 900 - Train Loss: 0.5717, Train MSE: 0.5723, Train MAE: 0.5339\n",
      "Epoch 900 - Validation Loss: 1.7912, Validation MSE: 1.7950, Validation MAE: 0.9965\n"
     ]
    },
    {
     "name": "stderr",
     "output_type": "stream",
     "text": [
      "Training Epoch 902: 100%|██████████| 370/370 [00:10<00:00, 34.29it/s]\n",
      "Training Epoch 903: 100%|██████████| 370/370 [00:10<00:00, 34.17it/s]\n",
      "Training Epoch 904: 100%|██████████| 370/370 [00:10<00:00, 34.27it/s]\n",
      "Training Epoch 905: 100%|██████████| 370/370 [00:10<00:00, 34.12it/s]\n",
      "Training Epoch 906: 100%|██████████| 370/370 [00:10<00:00, 34.11it/s]\n",
      "Training Epoch 907: 100%|██████████| 370/370 [00:10<00:00, 33.84it/s]\n",
      "Training Epoch 908: 100%|██████████| 370/370 [00:10<00:00, 34.28it/s]\n",
      "Training Epoch 909: 100%|██████████| 370/370 [00:10<00:00, 34.12it/s]\n",
      "Training Epoch 910: 100%|██████████| 370/370 [00:10<00:00, 34.06it/s]\n",
      "Training Epoch 911: 100%|██████████| 370/370 [00:10<00:00, 34.34it/s]\n"
     ]
    },
    {
     "name": "stdout",
     "output_type": "stream",
     "text": [
      "Epoch 910 - Train Loss: 0.5570, Train MSE: 0.5571, Train MAE: 0.5245\n",
      "Epoch 910 - Validation Loss: 1.7800, Validation MSE: 1.7836, Validation MAE: 1.0015\n"
     ]
    },
    {
     "name": "stderr",
     "output_type": "stream",
     "text": [
      "Training Epoch 912: 100%|██████████| 370/370 [00:10<00:00, 34.14it/s]\n",
      "Training Epoch 913: 100%|██████████| 370/370 [00:10<00:00, 34.12it/s]\n",
      "Training Epoch 914: 100%|██████████| 370/370 [00:10<00:00, 34.25it/s]\n",
      "Training Epoch 915: 100%|██████████| 370/370 [00:10<00:00, 34.28it/s]\n",
      "Training Epoch 916: 100%|██████████| 370/370 [00:10<00:00, 34.20it/s]\n",
      "Training Epoch 917: 100%|██████████| 370/370 [00:10<00:00, 34.30it/s]\n",
      "Training Epoch 918: 100%|██████████| 370/370 [00:10<00:00, 34.13it/s]\n",
      "Training Epoch 919: 100%|██████████| 370/370 [00:10<00:00, 34.06it/s]\n",
      "Training Epoch 920: 100%|██████████| 370/370 [00:10<00:00, 34.40it/s]\n",
      "Training Epoch 921: 100%|██████████| 370/370 [00:10<00:00, 34.16it/s]\n"
     ]
    },
    {
     "name": "stdout",
     "output_type": "stream",
     "text": [
      "Epoch 920 - Train Loss: 0.5587, Train MSE: 0.5593, Train MAE: 0.5308\n",
      "Epoch 920 - Validation Loss: 1.8205, Validation MSE: 1.8246, Validation MAE: 1.0045\n"
     ]
    },
    {
     "name": "stderr",
     "output_type": "stream",
     "text": [
      "Training Epoch 922: 100%|██████████| 370/370 [00:10<00:00, 34.20it/s]\n",
      "Training Epoch 923: 100%|██████████| 370/370 [00:10<00:00, 34.43it/s]\n",
      "Training Epoch 924: 100%|██████████| 370/370 [00:10<00:00, 34.23it/s]\n",
      "Training Epoch 925: 100%|██████████| 370/370 [00:10<00:00, 34.21it/s]\n",
      "Training Epoch 926: 100%|██████████| 370/370 [00:10<00:00, 34.35it/s]\n",
      "Training Epoch 927: 100%|██████████| 370/370 [00:10<00:00, 34.32it/s]\n",
      "Training Epoch 928: 100%|██████████| 370/370 [00:10<00:00, 34.13it/s]\n",
      "Training Epoch 929: 100%|██████████| 370/370 [00:10<00:00, 34.38it/s]\n",
      "Training Epoch 930: 100%|██████████| 370/370 [00:10<00:00, 34.35it/s]\n",
      "Training Epoch 931: 100%|██████████| 370/370 [00:10<00:00, 34.28it/s]\n"
     ]
    },
    {
     "name": "stdout",
     "output_type": "stream",
     "text": [
      "Epoch 930 - Train Loss: 0.5645, Train MSE: 0.5641, Train MAE: 0.5283\n",
      "Epoch 930 - Validation Loss: 1.8426, Validation MSE: 1.8464, Validation MAE: 1.0086\n"
     ]
    },
    {
     "name": "stderr",
     "output_type": "stream",
     "text": [
      "Training Epoch 932: 100%|██████████| 370/370 [00:10<00:00, 34.36it/s]\n",
      "Training Epoch 933: 100%|██████████| 370/370 [00:10<00:00, 34.28it/s]\n",
      "Training Epoch 934: 100%|██████████| 370/370 [00:10<00:00, 34.35it/s]\n",
      "Training Epoch 935: 100%|██████████| 370/370 [00:10<00:00, 34.46it/s]\n",
      "Training Epoch 936: 100%|██████████| 370/370 [00:10<00:00, 34.37it/s]\n",
      "Training Epoch 937: 100%|██████████| 370/370 [00:11<00:00, 32.43it/s]\n",
      "Training Epoch 938: 100%|██████████| 370/370 [00:10<00:00, 34.63it/s]\n",
      "Training Epoch 939: 100%|██████████| 370/370 [00:10<00:00, 34.62it/s]\n",
      "Training Epoch 940: 100%|██████████| 370/370 [00:10<00:00, 34.41it/s]\n",
      "Training Epoch 941: 100%|██████████| 370/370 [00:10<00:00, 34.19it/s]\n"
     ]
    },
    {
     "name": "stdout",
     "output_type": "stream",
     "text": [
      "Epoch 940 - Train Loss: 0.5525, Train MSE: 0.5534, Train MAE: 0.5249\n",
      "Epoch 940 - Validation Loss: 1.7748, Validation MSE: 1.7780, Validation MAE: 0.9920\n"
     ]
    },
    {
     "name": "stderr",
     "output_type": "stream",
     "text": [
      "Training Epoch 942: 100%|██████████| 370/370 [00:10<00:00, 34.52it/s]\n",
      "Training Epoch 943: 100%|██████████| 370/370 [00:10<00:00, 34.21it/s]\n",
      "Training Epoch 944: 100%|██████████| 370/370 [00:11<00:00, 33.17it/s]\n",
      "Training Epoch 945: 100%|██████████| 370/370 [00:10<00:00, 33.81it/s]\n",
      "Training Epoch 946: 100%|██████████| 370/370 [00:10<00:00, 34.86it/s]\n",
      "Training Epoch 947: 100%|██████████| 370/370 [00:10<00:00, 34.80it/s]\n",
      "Training Epoch 948: 100%|██████████| 370/370 [00:10<00:00, 33.89it/s]\n",
      "Training Epoch 949: 100%|██████████| 370/370 [00:10<00:00, 34.63it/s]\n",
      "Training Epoch 950: 100%|██████████| 370/370 [00:10<00:00, 34.89it/s]\n",
      "Training Epoch 951: 100%|██████████| 370/370 [00:10<00:00, 34.39it/s]\n"
     ]
    },
    {
     "name": "stdout",
     "output_type": "stream",
     "text": [
      "Epoch 950 - Train Loss: 0.5613, Train MSE: 0.5623, Train MAE: 0.5272\n",
      "Epoch 950 - Validation Loss: 1.8370, Validation MSE: 1.8408, Validation MAE: 1.0185\n"
     ]
    },
    {
     "name": "stderr",
     "output_type": "stream",
     "text": [
      "Training Epoch 952: 100%|██████████| 370/370 [00:10<00:00, 33.66it/s]\n",
      "Training Epoch 953: 100%|██████████| 370/370 [00:11<00:00, 33.50it/s]\n",
      "Training Epoch 954: 100%|██████████| 370/370 [00:10<00:00, 34.70it/s]\n",
      "Training Epoch 955: 100%|██████████| 370/370 [00:10<00:00, 34.85it/s]\n",
      "Training Epoch 956: 100%|██████████| 370/370 [00:10<00:00, 34.80it/s]\n",
      "Training Epoch 957: 100%|██████████| 370/370 [00:10<00:00, 34.74it/s]\n",
      "Training Epoch 958: 100%|██████████| 370/370 [00:10<00:00, 34.71it/s]\n",
      "Training Epoch 959: 100%|██████████| 370/370 [00:10<00:00, 34.73it/s]\n",
      "Training Epoch 960: 100%|██████████| 370/370 [00:10<00:00, 35.14it/s]\n",
      "Training Epoch 961: 100%|██████████| 370/370 [00:10<00:00, 35.26it/s]\n"
     ]
    },
    {
     "name": "stdout",
     "output_type": "stream",
     "text": [
      "Epoch 960 - Train Loss: 0.5537, Train MSE: 0.5531, Train MAE: 0.5268\n",
      "Epoch 960 - Validation Loss: 1.7897, Validation MSE: 1.7931, Validation MAE: 0.9983\n"
     ]
    },
    {
     "name": "stderr",
     "output_type": "stream",
     "text": [
      "Training Epoch 962: 100%|██████████| 370/370 [00:10<00:00, 35.00it/s]\n",
      "Training Epoch 963: 100%|██████████| 370/370 [00:10<00:00, 35.10it/s]\n",
      "Training Epoch 964: 100%|██████████| 370/370 [00:10<00:00, 34.98it/s]\n",
      "Training Epoch 965: 100%|██████████| 370/370 [00:10<00:00, 35.15it/s]\n",
      "Training Epoch 966: 100%|██████████| 370/370 [00:10<00:00, 35.10it/s]\n",
      "Training Epoch 967: 100%|██████████| 370/370 [00:10<00:00, 35.37it/s]\n",
      "Training Epoch 968: 100%|██████████| 370/370 [00:10<00:00, 35.04it/s]\n",
      "Training Epoch 969: 100%|██████████| 370/370 [00:10<00:00, 35.15it/s]\n",
      "Training Epoch 970: 100%|██████████| 370/370 [00:10<00:00, 35.14it/s]\n",
      "Training Epoch 971: 100%|██████████| 370/370 [00:10<00:00, 35.31it/s]\n"
     ]
    },
    {
     "name": "stdout",
     "output_type": "stream",
     "text": [
      "Epoch 970 - Train Loss: 0.5572, Train MSE: 0.5575, Train MAE: 0.5284\n",
      "Epoch 970 - Validation Loss: 1.8122, Validation MSE: 1.8159, Validation MAE: 1.0095\n"
     ]
    },
    {
     "name": "stderr",
     "output_type": "stream",
     "text": [
      "Training Epoch 972: 100%|██████████| 370/370 [00:10<00:00, 35.24it/s]\n",
      "Training Epoch 973: 100%|██████████| 370/370 [00:10<00:00, 35.16it/s]\n",
      "Training Epoch 974: 100%|██████████| 370/370 [00:10<00:00, 35.00it/s]\n",
      "Training Epoch 975: 100%|██████████| 370/370 [00:10<00:00, 35.28it/s]\n",
      "Training Epoch 976: 100%|██████████| 370/370 [00:10<00:00, 35.25it/s]\n",
      "Training Epoch 977: 100%|██████████| 370/370 [00:10<00:00, 35.16it/s]\n",
      "Training Epoch 978: 100%|██████████| 370/370 [00:10<00:00, 35.69it/s]\n",
      "Training Epoch 979: 100%|██████████| 370/370 [00:10<00:00, 35.82it/s]\n",
      "Training Epoch 980: 100%|██████████| 370/370 [00:10<00:00, 35.84it/s]\n",
      "Training Epoch 981: 100%|██████████| 370/370 [00:10<00:00, 35.89it/s]\n"
     ]
    },
    {
     "name": "stdout",
     "output_type": "stream",
     "text": [
      "Epoch 980 - Train Loss: 0.5603, Train MSE: 0.5615, Train MAE: 0.5273\n",
      "Epoch 980 - Validation Loss: 1.8429, Validation MSE: 1.8470, Validation MAE: 0.9971\n"
     ]
    },
    {
     "name": "stderr",
     "output_type": "stream",
     "text": [
      "Training Epoch 982: 100%|██████████| 370/370 [00:10<00:00, 36.07it/s]\n",
      "Training Epoch 983: 100%|██████████| 370/370 [00:10<00:00, 35.94it/s]\n",
      "Training Epoch 984: 100%|██████████| 370/370 [00:10<00:00, 35.73it/s]\n",
      "Training Epoch 985: 100%|██████████| 370/370 [00:10<00:00, 36.23it/s]\n",
      "Training Epoch 986: 100%|██████████| 370/370 [00:10<00:00, 36.07it/s]\n",
      "Training Epoch 987: 100%|██████████| 370/370 [00:10<00:00, 35.89it/s]\n",
      "Training Epoch 988: 100%|██████████| 370/370 [00:10<00:00, 36.38it/s]\n",
      "Training Epoch 989: 100%|██████████| 370/370 [00:10<00:00, 36.09it/s]\n",
      "Training Epoch 990: 100%|██████████| 370/370 [00:10<00:00, 35.94it/s]\n",
      "Training Epoch 991: 100%|██████████| 370/370 [00:10<00:00, 36.31it/s]\n"
     ]
    },
    {
     "name": "stdout",
     "output_type": "stream",
     "text": [
      "Epoch 990 - Train Loss: 0.5529, Train MSE: 0.5537, Train MAE: 0.5292\n",
      "Epoch 990 - Validation Loss: 1.8152, Validation MSE: 1.8188, Validation MAE: 1.0005\n"
     ]
    },
    {
     "name": "stderr",
     "output_type": "stream",
     "text": [
      "Training Epoch 992: 100%|██████████| 370/370 [00:10<00:00, 36.22it/s]\n",
      "Training Epoch 993: 100%|██████████| 370/370 [00:10<00:00, 36.05it/s]\n",
      "Training Epoch 994: 100%|██████████| 370/370 [00:10<00:00, 36.09it/s]\n",
      "Training Epoch 995: 100%|██████████| 370/370 [00:10<00:00, 36.00it/s]\n",
      "Training Epoch 996: 100%|██████████| 370/370 [00:10<00:00, 35.89it/s]\n",
      "Training Epoch 997: 100%|██████████| 370/370 [00:10<00:00, 36.17it/s]\n",
      "Training Epoch 998: 100%|██████████| 370/370 [00:10<00:00, 36.08it/s]\n",
      "Training Epoch 999: 100%|██████████| 370/370 [00:10<00:00, 35.98it/s]\n",
      "Training Epoch 1000: 100%|██████████| 370/370 [00:10<00:00, 35.96it/s]\n",
      "Training Epoch 1001: 100%|██████████| 370/370 [00:10<00:00, 36.06it/s]\n"
     ]
    },
    {
     "name": "stdout",
     "output_type": "stream",
     "text": [
      "Epoch 1000 - Train Loss: 0.5559, Train MSE: 0.5561, Train MAE: 0.5243\n",
      "Epoch 1000 - Validation Loss: 1.7887, Validation MSE: 1.7921, Validation MAE: 0.9999\n"
     ]
    },
    {
     "name": "stderr",
     "output_type": "stream",
     "text": [
      "Training Epoch 1002: 100%|██████████| 370/370 [00:10<00:00, 36.02it/s]\n",
      "Training Epoch 1003: 100%|██████████| 370/370 [00:10<00:00, 36.10it/s]\n",
      "Training Epoch 1004: 100%|██████████| 370/370 [00:10<00:00, 36.12it/s]\n",
      "Training Epoch 1005: 100%|██████████| 370/370 [00:10<00:00, 36.02it/s]\n",
      "Training Epoch 1006: 100%|██████████| 370/370 [00:10<00:00, 35.75it/s]\n",
      "Training Epoch 1007: 100%|██████████| 370/370 [00:10<00:00, 36.03it/s]\n",
      "Training Epoch 1008: 100%|██████████| 370/370 [00:10<00:00, 36.09it/s]\n",
      "Training Epoch 1009: 100%|██████████| 370/370 [00:10<00:00, 35.91it/s]\n",
      "Training Epoch 1010: 100%|██████████| 370/370 [00:10<00:00, 35.85it/s]\n",
      "Training Epoch 1011: 100%|██████████| 370/370 [00:10<00:00, 34.49it/s]\n"
     ]
    },
    {
     "name": "stdout",
     "output_type": "stream",
     "text": [
      "Epoch 1010 - Train Loss: 0.5554, Train MSE: 0.5555, Train MAE: 0.5241\n",
      "Epoch 1010 - Validation Loss: 1.8287, Validation MSE: 1.8328, Validation MAE: 1.0068\n"
     ]
    },
    {
     "name": "stderr",
     "output_type": "stream",
     "text": [
      "Training Epoch 1012: 100%|██████████| 370/370 [00:10<00:00, 34.30it/s]\n",
      "Training Epoch 1013: 100%|██████████| 370/370 [00:11<00:00, 33.41it/s]\n",
      "Training Epoch 1014: 100%|██████████| 370/370 [00:10<00:00, 34.56it/s]\n",
      "Training Epoch 1015: 100%|██████████| 370/370 [00:10<00:00, 33.93it/s]\n",
      "Training Epoch 1016: 100%|██████████| 370/370 [00:10<00:00, 34.29it/s]\n",
      "Training Epoch 1017: 100%|██████████| 370/370 [00:10<00:00, 33.88it/s]\n",
      "Training Epoch 1018: 100%|██████████| 370/370 [00:10<00:00, 35.02it/s]\n",
      "Training Epoch 1019: 100%|██████████| 370/370 [00:10<00:00, 34.54it/s]\n",
      "Training Epoch 1020: 100%|██████████| 370/370 [00:10<00:00, 33.97it/s]\n",
      "Training Epoch 1021: 100%|██████████| 370/370 [00:11<00:00, 33.56it/s]\n"
     ]
    },
    {
     "name": "stdout",
     "output_type": "stream",
     "text": [
      "Epoch 1020 - Train Loss: 0.5501, Train MSE: 0.5503, Train MAE: 0.5261\n",
      "Epoch 1020 - Validation Loss: 1.8797, Validation MSE: 1.8837, Validation MAE: 1.0199\n"
     ]
    },
    {
     "name": "stderr",
     "output_type": "stream",
     "text": [
      "Training Epoch 1022: 100%|██████████| 370/370 [00:10<00:00, 33.74it/s]\n",
      "Training Epoch 1023: 100%|██████████| 370/370 [00:10<00:00, 35.31it/s]\n",
      "Training Epoch 1024: 100%|██████████| 370/370 [00:10<00:00, 35.30it/s]\n",
      "Training Epoch 1025: 100%|██████████| 370/370 [00:10<00:00, 35.25it/s]\n",
      "Training Epoch 1026: 100%|██████████| 370/370 [00:10<00:00, 35.19it/s]\n",
      "Training Epoch 1027: 100%|██████████| 370/370 [00:10<00:00, 33.92it/s]\n",
      "Training Epoch 1028: 100%|██████████| 370/370 [00:10<00:00, 34.68it/s]\n",
      "Training Epoch 1029: 100%|██████████| 370/370 [00:10<00:00, 34.89it/s]\n",
      "Training Epoch 1030: 100%|██████████| 370/370 [00:10<00:00, 34.91it/s]\n",
      "Training Epoch 1031: 100%|██████████| 370/370 [00:10<00:00, 35.02it/s]\n"
     ]
    },
    {
     "name": "stdout",
     "output_type": "stream",
     "text": [
      "Epoch 1030 - Train Loss: 0.5443, Train MSE: 0.5454, Train MAE: 0.5198\n",
      "Epoch 1030 - Validation Loss: 1.9590, Validation MSE: 1.9636, Validation MAE: 1.0501\n"
     ]
    },
    {
     "name": "stderr",
     "output_type": "stream",
     "text": [
      "Training Epoch 1032: 100%|██████████| 370/370 [00:10<00:00, 34.95it/s]\n",
      "Training Epoch 1033: 100%|██████████| 370/370 [00:10<00:00, 35.17it/s]\n",
      "Training Epoch 1034: 100%|██████████| 370/370 [00:10<00:00, 34.66it/s]\n",
      "Training Epoch 1035: 100%|██████████| 370/370 [00:10<00:00, 34.89it/s]\n",
      "Training Epoch 1036: 100%|██████████| 370/370 [00:10<00:00, 34.97it/s]\n",
      "Training Epoch 1037: 100%|██████████| 370/370 [00:10<00:00, 34.96it/s]\n",
      "Training Epoch 1038: 100%|██████████| 370/370 [00:10<00:00, 35.04it/s]\n",
      "Training Epoch 1039: 100%|██████████| 370/370 [00:10<00:00, 34.91it/s]\n",
      "Training Epoch 1040: 100%|██████████| 370/370 [00:10<00:00, 34.95it/s]\n",
      "Training Epoch 1041: 100%|██████████| 370/370 [00:10<00:00, 35.16it/s]\n"
     ]
    },
    {
     "name": "stdout",
     "output_type": "stream",
     "text": [
      "Epoch 1040 - Train Loss: 0.5505, Train MSE: 0.5506, Train MAE: 0.5217\n",
      "Epoch 1040 - Validation Loss: 1.9175, Validation MSE: 1.9220, Validation MAE: 1.0294\n"
     ]
    },
    {
     "name": "stderr",
     "output_type": "stream",
     "text": [
      "Training Epoch 1042: 100%|██████████| 370/370 [00:10<00:00, 34.82it/s]\n",
      "Training Epoch 1043: 100%|██████████| 370/370 [00:10<00:00, 36.59it/s]\n",
      "Training Epoch 1044: 100%|██████████| 370/370 [00:09<00:00, 37.64it/s]\n",
      "Training Epoch 1045: 100%|██████████| 370/370 [00:09<00:00, 37.54it/s]\n",
      "Training Epoch 1046: 100%|██████████| 370/370 [00:09<00:00, 37.82it/s]\n",
      "Training Epoch 1047: 100%|██████████| 370/370 [00:09<00:00, 37.57it/s]\n",
      "Training Epoch 1048: 100%|██████████| 370/370 [00:09<00:00, 37.62it/s]\n",
      "Training Epoch 1049: 100%|██████████| 370/370 [00:09<00:00, 37.71it/s]\n",
      "Training Epoch 1050: 100%|██████████| 370/370 [00:09<00:00, 37.75it/s]\n",
      "Training Epoch 1051: 100%|██████████| 370/370 [00:09<00:00, 37.53it/s]\n"
     ]
    },
    {
     "name": "stdout",
     "output_type": "stream",
     "text": [
      "Epoch 1050 - Train Loss: 0.5577, Train MSE: 0.5586, Train MAE: 0.5245\n",
      "Epoch 1050 - Validation Loss: 1.8004, Validation MSE: 1.8042, Validation MAE: 0.9911\n"
     ]
    },
    {
     "name": "stderr",
     "output_type": "stream",
     "text": [
      "Training Epoch 1052: 100%|██████████| 370/370 [00:09<00:00, 37.62it/s]\n",
      "Training Epoch 1053: 100%|██████████| 370/370 [00:09<00:00, 37.74it/s]\n",
      "Training Epoch 1054: 100%|██████████| 370/370 [00:09<00:00, 37.54it/s]\n",
      "Training Epoch 1055: 100%|██████████| 370/370 [00:09<00:00, 37.63it/s]\n",
      "Training Epoch 1056: 100%|██████████| 370/370 [00:09<00:00, 37.96it/s]\n",
      "Training Epoch 1057: 100%|██████████| 370/370 [00:09<00:00, 37.75it/s]\n",
      "Training Epoch 1058: 100%|██████████| 370/370 [00:09<00:00, 37.70it/s]\n",
      "Training Epoch 1059: 100%|██████████| 370/370 [00:09<00:00, 37.77it/s]\n",
      "Training Epoch 1060: 100%|██████████| 370/370 [00:09<00:00, 37.68it/s]\n",
      "Training Epoch 1061: 100%|██████████| 370/370 [00:09<00:00, 37.74it/s]\n"
     ]
    },
    {
     "name": "stdout",
     "output_type": "stream",
     "text": [
      "Epoch 1060 - Train Loss: 0.5480, Train MSE: 0.5487, Train MAE: 0.5228\n",
      "Epoch 1060 - Validation Loss: 1.8176, Validation MSE: 1.8217, Validation MAE: 1.0050\n"
     ]
    },
    {
     "name": "stderr",
     "output_type": "stream",
     "text": [
      "Training Epoch 1062: 100%|██████████| 370/370 [00:09<00:00, 37.63it/s]\n",
      "Training Epoch 1063: 100%|██████████| 370/370 [00:09<00:00, 37.50it/s]\n",
      "Training Epoch 1064: 100%|██████████| 370/370 [00:09<00:00, 37.77it/s]\n",
      "Training Epoch 1065: 100%|██████████| 370/370 [00:09<00:00, 37.60it/s]\n",
      "Training Epoch 1066: 100%|██████████| 370/370 [00:09<00:00, 37.82it/s]\n",
      "Training Epoch 1067: 100%|██████████| 370/370 [00:09<00:00, 37.82it/s]\n",
      "Training Epoch 1068: 100%|██████████| 370/370 [00:09<00:00, 37.80it/s]\n",
      "Training Epoch 1069: 100%|██████████| 370/370 [00:09<00:00, 37.99it/s]\n",
      "Training Epoch 1070: 100%|██████████| 370/370 [00:09<00:00, 37.57it/s]\n",
      "Training Epoch 1071: 100%|██████████| 370/370 [00:09<00:00, 37.56it/s]\n"
     ]
    },
    {
     "name": "stdout",
     "output_type": "stream",
     "text": [
      "Epoch 1070 - Train Loss: 0.5397, Train MSE: 0.5407, Train MAE: 0.5218\n",
      "Epoch 1070 - Validation Loss: 1.8402, Validation MSE: 1.8440, Validation MAE: 1.0017\n"
     ]
    },
    {
     "name": "stderr",
     "output_type": "stream",
     "text": [
      "Training Epoch 1072: 100%|██████████| 370/370 [00:09<00:00, 37.64it/s]\n",
      "Training Epoch 1073: 100%|██████████| 370/370 [00:09<00:00, 37.92it/s]\n",
      "Training Epoch 1074: 100%|██████████| 370/370 [00:09<00:00, 37.34it/s]\n",
      "Training Epoch 1075: 100%|██████████| 370/370 [00:09<00:00, 37.62it/s]\n",
      "Training Epoch 1076: 100%|██████████| 370/370 [00:09<00:00, 37.82it/s]\n",
      "Training Epoch 1077: 100%|██████████| 370/370 [00:09<00:00, 37.60it/s]\n",
      "Training Epoch 1078: 100%|██████████| 370/370 [00:09<00:00, 37.67it/s]\n",
      "Training Epoch 1079: 100%|██████████| 370/370 [00:09<00:00, 37.76it/s]\n",
      "Training Epoch 1080: 100%|██████████| 370/370 [00:09<00:00, 37.54it/s]\n",
      "Training Epoch 1081: 100%|██████████| 370/370 [00:09<00:00, 37.63it/s]\n"
     ]
    },
    {
     "name": "stdout",
     "output_type": "stream",
     "text": [
      "Epoch 1080 - Train Loss: 0.5573, Train MSE: 0.5576, Train MAE: 0.5271\n",
      "Epoch 1080 - Validation Loss: 1.7739, Validation MSE: 1.7776, Validation MAE: 0.9950\n"
     ]
    },
    {
     "name": "stderr",
     "output_type": "stream",
     "text": [
      "Training Epoch 1082: 100%|██████████| 370/370 [00:09<00:00, 37.70it/s]\n",
      "Training Epoch 1083: 100%|██████████| 370/370 [00:09<00:00, 37.67it/s]\n",
      "Training Epoch 1084: 100%|██████████| 370/370 [00:09<00:00, 37.73it/s]\n",
      "Training Epoch 1085: 100%|██████████| 370/370 [00:09<00:00, 37.75it/s]\n",
      "Training Epoch 1086: 100%|██████████| 370/370 [00:09<00:00, 37.64it/s]\n",
      "Training Epoch 1087: 100%|██████████| 370/370 [00:09<00:00, 37.53it/s]\n",
      "Training Epoch 1088: 100%|██████████| 370/370 [00:09<00:00, 37.70it/s]\n",
      "Training Epoch 1089: 100%|██████████| 370/370 [00:09<00:00, 37.77it/s]\n",
      "Training Epoch 1090: 100%|██████████| 370/370 [00:09<00:00, 37.49it/s]\n",
      "Training Epoch 1091: 100%|██████████| 370/370 [00:09<00:00, 37.57it/s]\n"
     ]
    },
    {
     "name": "stdout",
     "output_type": "stream",
     "text": [
      "Epoch 1090 - Train Loss: 0.5589, Train MSE: 0.5585, Train MAE: 0.5220\n",
      "Epoch 1090 - Validation Loss: 1.8314, Validation MSE: 1.8349, Validation MAE: 1.0185\n"
     ]
    },
    {
     "name": "stderr",
     "output_type": "stream",
     "text": [
      "Training Epoch 1092: 100%|██████████| 370/370 [00:09<00:00, 37.70it/s]\n",
      "Training Epoch 1093: 100%|██████████| 370/370 [00:09<00:00, 37.56it/s]\n",
      "Training Epoch 1094: 100%|██████████| 370/370 [00:09<00:00, 37.89it/s]\n",
      "Training Epoch 1095: 100%|██████████| 370/370 [00:09<00:00, 37.47it/s]\n",
      "Training Epoch 1096: 100%|██████████| 370/370 [00:09<00:00, 37.56it/s]\n",
      "Training Epoch 1097: 100%|██████████| 370/370 [00:09<00:00, 37.83it/s]\n",
      "Training Epoch 1098: 100%|██████████| 370/370 [00:09<00:00, 37.48it/s]\n",
      "Training Epoch 1099: 100%|██████████| 370/370 [00:09<00:00, 37.67it/s]\n",
      "Training Epoch 1100: 100%|██████████| 370/370 [00:09<00:00, 37.83it/s]\n",
      "Training Epoch 1101: 100%|██████████| 370/370 [00:09<00:00, 37.80it/s]\n"
     ]
    },
    {
     "name": "stdout",
     "output_type": "stream",
     "text": [
      "Epoch 1100 - Train Loss: 0.5486, Train MSE: 0.5452, Train MAE: 0.5195\n",
      "Epoch 1100 - Validation Loss: 1.9058, Validation MSE: 1.9101, Validation MAE: 1.0257\n"
     ]
    },
    {
     "name": "stderr",
     "output_type": "stream",
     "text": [
      "Training Epoch 1102: 100%|██████████| 370/370 [00:09<00:00, 37.63it/s]\n",
      "Training Epoch 1103: 100%|██████████| 370/370 [00:09<00:00, 37.66it/s]\n",
      "Training Epoch 1104: 100%|██████████| 370/370 [00:09<00:00, 37.86it/s]\n",
      "Training Epoch 1105: 100%|██████████| 370/370 [00:09<00:00, 37.55it/s]\n",
      "Training Epoch 1106: 100%|██████████| 370/370 [00:09<00:00, 37.68it/s]\n",
      "Training Epoch 1107: 100%|██████████| 370/370 [00:09<00:00, 37.92it/s]\n",
      "Training Epoch 1108: 100%|██████████| 370/370 [00:09<00:00, 37.56it/s]\n",
      "Training Epoch 1109: 100%|██████████| 370/370 [00:09<00:00, 37.57it/s]\n",
      "Training Epoch 1110: 100%|██████████| 370/370 [00:09<00:00, 37.31it/s]\n",
      "Training Epoch 1111: 100%|██████████| 370/370 [00:09<00:00, 37.85it/s]\n"
     ]
    },
    {
     "name": "stdout",
     "output_type": "stream",
     "text": [
      "Epoch 1110 - Train Loss: 0.5477, Train MSE: 0.5485, Train MAE: 0.5208\n",
      "Epoch 1110 - Validation Loss: 1.8347, Validation MSE: 1.8386, Validation MAE: 1.0155\n"
     ]
    },
    {
     "name": "stderr",
     "output_type": "stream",
     "text": [
      "Training Epoch 1112: 100%|██████████| 370/370 [00:09<00:00, 37.69it/s]\n",
      "Training Epoch 1113: 100%|██████████| 370/370 [00:09<00:00, 37.62it/s]\n",
      "Training Epoch 1114: 100%|██████████| 370/370 [00:09<00:00, 37.73it/s]\n",
      "Training Epoch 1115: 100%|██████████| 370/370 [00:09<00:00, 37.58it/s]\n",
      "Training Epoch 1116: 100%|██████████| 370/370 [00:09<00:00, 37.55it/s]\n",
      "Training Epoch 1117: 100%|██████████| 370/370 [00:09<00:00, 37.47it/s]\n",
      "Training Epoch 1118: 100%|██████████| 370/370 [00:09<00:00, 37.84it/s]\n",
      "Training Epoch 1119: 100%|██████████| 370/370 [00:09<00:00, 37.52it/s]\n",
      "Training Epoch 1120: 100%|██████████| 370/370 [00:09<00:00, 37.53it/s]\n",
      "Training Epoch 1121: 100%|██████████| 370/370 [00:09<00:00, 37.69it/s]\n"
     ]
    },
    {
     "name": "stdout",
     "output_type": "stream",
     "text": [
      "Epoch 1120 - Train Loss: 0.5432, Train MSE: 0.5438, Train MAE: 0.5176\n",
      "Epoch 1120 - Validation Loss: 1.8492, Validation MSE: 1.8534, Validation MAE: 1.0046\n"
     ]
    },
    {
     "name": "stderr",
     "output_type": "stream",
     "text": [
      "Training Epoch 1122: 100%|██████████| 370/370 [00:09<00:00, 37.62it/s]\n",
      "Training Epoch 1123: 100%|██████████| 370/370 [00:09<00:00, 37.67it/s]\n",
      "Training Epoch 1124: 100%|██████████| 370/370 [00:09<00:00, 37.87it/s]\n",
      "Training Epoch 1125: 100%|██████████| 370/370 [00:09<00:00, 37.49it/s]\n",
      "Training Epoch 1126: 100%|██████████| 370/370 [00:09<00:00, 37.63it/s]\n",
      "Training Epoch 1127: 100%|██████████| 370/370 [00:09<00:00, 37.58it/s]\n",
      "Training Epoch 1128: 100%|██████████| 370/370 [00:09<00:00, 37.59it/s]\n",
      "Training Epoch 1129: 100%|██████████| 370/370 [00:09<00:00, 37.77it/s]\n",
      "Training Epoch 1130: 100%|██████████| 370/370 [00:09<00:00, 37.61it/s]\n",
      "Training Epoch 1131: 100%|██████████| 370/370 [00:09<00:00, 37.53it/s]\n"
     ]
    },
    {
     "name": "stdout",
     "output_type": "stream",
     "text": [
      "Epoch 1130 - Train Loss: 0.5395, Train MSE: 0.5407, Train MAE: 0.5145\n",
      "Epoch 1130 - Validation Loss: 1.8463, Validation MSE: 1.8503, Validation MAE: 1.0111\n"
     ]
    },
    {
     "name": "stderr",
     "output_type": "stream",
     "text": [
      "Training Epoch 1132: 100%|██████████| 370/370 [00:09<00:00, 37.60it/s]\n",
      "Training Epoch 1133: 100%|██████████| 370/370 [00:09<00:00, 37.70it/s]\n",
      "Training Epoch 1134: 100%|██████████| 370/370 [00:09<00:00, 37.55it/s]\n",
      "Training Epoch 1135: 100%|██████████| 370/370 [00:09<00:00, 37.29it/s]\n",
      "Training Epoch 1136: 100%|██████████| 370/370 [00:09<00:00, 37.61it/s]\n",
      "Training Epoch 1137: 100%|██████████| 370/370 [00:09<00:00, 37.47it/s]\n",
      "Training Epoch 1138: 100%|██████████| 370/370 [00:09<00:00, 37.32it/s]\n",
      "Training Epoch 1139: 100%|██████████| 370/370 [00:09<00:00, 37.73it/s]\n",
      "Training Epoch 1140: 100%|██████████| 370/370 [00:09<00:00, 37.41it/s]\n",
      "Training Epoch 1141: 100%|██████████| 370/370 [00:09<00:00, 37.72it/s]\n"
     ]
    },
    {
     "name": "stdout",
     "output_type": "stream",
     "text": [
      "Epoch 1140 - Train Loss: 0.5473, Train MSE: 0.5476, Train MAE: 0.5173\n",
      "Epoch 1140 - Validation Loss: 1.8253, Validation MSE: 1.8294, Validation MAE: 1.0042\n"
     ]
    },
    {
     "name": "stderr",
     "output_type": "stream",
     "text": [
      "Training Epoch 1142: 100%|██████████| 370/370 [00:09<00:00, 38.19it/s]\n",
      "Training Epoch 1143: 100%|██████████| 370/370 [00:09<00:00, 37.88it/s]\n",
      "Training Epoch 1144: 100%|██████████| 370/370 [00:09<00:00, 37.69it/s]\n",
      "Training Epoch 1145: 100%|██████████| 370/370 [00:09<00:00, 37.76it/s]\n",
      "Training Epoch 1146: 100%|██████████| 370/370 [00:09<00:00, 38.00it/s]\n",
      "Training Epoch 1147: 100%|██████████| 370/370 [00:09<00:00, 37.88it/s]\n",
      "Training Epoch 1148: 100%|██████████| 370/370 [00:09<00:00, 37.92it/s]\n",
      "Training Epoch 1149: 100%|██████████| 370/370 [00:09<00:00, 37.88it/s]\n",
      "Training Epoch 1150: 100%|██████████| 370/370 [00:09<00:00, 37.67it/s]\n",
      "Training Epoch 1151: 100%|██████████| 370/370 [00:09<00:00, 38.04it/s]\n"
     ]
    },
    {
     "name": "stdout",
     "output_type": "stream",
     "text": [
      "Epoch 1150 - Train Loss: 0.5459, Train MSE: 0.5465, Train MAE: 0.5203\n",
      "Epoch 1150 - Validation Loss: 1.8149, Validation MSE: 1.8186, Validation MAE: 1.0039\n"
     ]
    },
    {
     "name": "stderr",
     "output_type": "stream",
     "text": [
      "Training Epoch 1152: 100%|██████████| 370/370 [00:09<00:00, 37.91it/s]\n",
      "Training Epoch 1153: 100%|██████████| 370/370 [00:09<00:00, 37.81it/s]\n",
      "Training Epoch 1154: 100%|██████████| 370/370 [00:09<00:00, 37.80it/s]\n",
      "Training Epoch 1155: 100%|██████████| 370/370 [00:09<00:00, 37.82it/s]\n",
      "Training Epoch 1156: 100%|██████████| 370/370 [00:09<00:00, 37.68it/s]\n",
      "Training Epoch 1157: 100%|██████████| 370/370 [00:09<00:00, 37.86it/s]\n",
      "Training Epoch 1158: 100%|██████████| 370/370 [00:09<00:00, 38.46it/s]\n",
      "Training Epoch 1159: 100%|██████████| 370/370 [00:09<00:00, 37.79it/s]\n",
      "Training Epoch 1160: 100%|██████████| 370/370 [00:09<00:00, 37.61it/s]\n",
      "Training Epoch 1161: 100%|██████████| 370/370 [00:09<00:00, 37.87it/s]\n"
     ]
    },
    {
     "name": "stdout",
     "output_type": "stream",
     "text": [
      "Epoch 1160 - Train Loss: 0.5463, Train MSE: 0.5435, Train MAE: 0.5184\n",
      "Epoch 1160 - Validation Loss: 1.8557, Validation MSE: 1.8600, Validation MAE: 1.0124\n"
     ]
    },
    {
     "name": "stderr",
     "output_type": "stream",
     "text": [
      "Training Epoch 1162: 100%|██████████| 370/370 [00:09<00:00, 37.82it/s]\n",
      "Training Epoch 1163: 100%|██████████| 370/370 [00:09<00:00, 37.78it/s]\n",
      "Training Epoch 1164: 100%|██████████| 370/370 [00:09<00:00, 37.74it/s]\n",
      "Training Epoch 1165: 100%|██████████| 370/370 [00:09<00:00, 37.80it/s]\n",
      "Training Epoch 1166: 100%|██████████| 370/370 [00:09<00:00, 37.84it/s]\n",
      "Training Epoch 1167: 100%|██████████| 370/370 [00:09<00:00, 37.64it/s]\n",
      "Training Epoch 1168: 100%|██████████| 370/370 [00:09<00:00, 37.97it/s]\n",
      "Training Epoch 1169: 100%|██████████| 370/370 [00:09<00:00, 37.77it/s]\n",
      "Training Epoch 1170: 100%|██████████| 370/370 [00:09<00:00, 37.58it/s]\n",
      "Training Epoch 1171: 100%|██████████| 370/370 [00:09<00:00, 37.88it/s]\n"
     ]
    },
    {
     "name": "stdout",
     "output_type": "stream",
     "text": [
      "Epoch 1170 - Train Loss: 0.5526, Train MSE: 0.5536, Train MAE: 0.5220\n",
      "Epoch 1170 - Validation Loss: 1.8304, Validation MSE: 1.8344, Validation MAE: 1.0074\n"
     ]
    },
    {
     "name": "stderr",
     "output_type": "stream",
     "text": [
      "Training Epoch 1172: 100%|██████████| 370/370 [00:09<00:00, 37.72it/s]\n",
      "Training Epoch 1173: 100%|██████████| 370/370 [00:09<00:00, 37.64it/s]\n",
      "Training Epoch 1174: 100%|██████████| 370/370 [00:09<00:00, 37.66it/s]\n",
      "Training Epoch 1175: 100%|██████████| 370/370 [00:09<00:00, 37.85it/s]\n",
      "Training Epoch 1176: 100%|██████████| 370/370 [00:09<00:00, 37.75it/s]\n",
      "Training Epoch 1177: 100%|██████████| 370/370 [00:09<00:00, 37.55it/s]\n",
      "Training Epoch 1178: 100%|██████████| 370/370 [00:09<00:00, 37.84it/s]\n",
      "Training Epoch 1179: 100%|██████████| 370/370 [00:09<00:00, 37.69it/s]\n",
      "Training Epoch 1180: 100%|██████████| 370/370 [00:09<00:00, 37.51it/s]\n",
      "Training Epoch 1181: 100%|██████████| 370/370 [00:09<00:00, 37.90it/s]\n"
     ]
    },
    {
     "name": "stdout",
     "output_type": "stream",
     "text": [
      "Epoch 1180 - Train Loss: 0.5471, Train MSE: 0.5480, Train MAE: 0.5227\n",
      "Epoch 1180 - Validation Loss: 1.8520, Validation MSE: 1.8563, Validation MAE: 1.0142\n"
     ]
    },
    {
     "name": "stderr",
     "output_type": "stream",
     "text": [
      "Training Epoch 1182: 100%|██████████| 370/370 [00:09<00:00, 37.67it/s]\n",
      "Training Epoch 1183: 100%|██████████| 370/370 [00:09<00:00, 37.54it/s]\n",
      "Training Epoch 1184: 100%|██████████| 370/370 [00:09<00:00, 37.84it/s]\n",
      "Training Epoch 1185: 100%|██████████| 370/370 [00:09<00:00, 37.52it/s]\n",
      "Training Epoch 1186: 100%|██████████| 370/370 [00:09<00:00, 37.78it/s]\n",
      "Training Epoch 1187: 100%|██████████| 370/370 [00:09<00:00, 37.91it/s]\n",
      "Training Epoch 1188: 100%|██████████| 370/370 [00:09<00:00, 37.64it/s]\n",
      "Training Epoch 1189: 100%|██████████| 370/370 [00:09<00:00, 37.32it/s]\n",
      "Training Epoch 1190: 100%|██████████| 370/370 [00:09<00:00, 37.71it/s]\n",
      "Training Epoch 1191: 100%|██████████| 370/370 [00:09<00:00, 37.76it/s]\n"
     ]
    },
    {
     "name": "stdout",
     "output_type": "stream",
     "text": [
      "Epoch 1190 - Train Loss: 0.5496, Train MSE: 0.5498, Train MAE: 0.5238\n",
      "Epoch 1190 - Validation Loss: 1.9852, Validation MSE: 1.9899, Validation MAE: 1.0454\n"
     ]
    },
    {
     "name": "stderr",
     "output_type": "stream",
     "text": [
      "Training Epoch 1192: 100%|██████████| 370/370 [00:09<00:00, 37.63it/s]\n",
      "Training Epoch 1193: 100%|██████████| 370/370 [00:09<00:00, 37.80it/s]\n",
      "Training Epoch 1194: 100%|██████████| 370/370 [00:09<00:00, 37.78it/s]\n",
      "Training Epoch 1195: 100%|██████████| 370/370 [00:09<00:00, 37.56it/s]\n",
      "Training Epoch 1196: 100%|██████████| 370/370 [00:09<00:00, 37.64it/s]\n",
      "Training Epoch 1197: 100%|██████████| 370/370 [00:09<00:00, 37.77it/s]\n",
      "Training Epoch 1198: 100%|██████████| 370/370 [00:09<00:00, 37.66it/s]\n",
      "Training Epoch 1199: 100%|██████████| 370/370 [00:09<00:00, 37.56it/s]\n",
      "Training Epoch 1200: 100%|██████████| 370/370 [00:09<00:00, 37.70it/s]\n",
      "Training Epoch 1201: 100%|██████████| 370/370 [00:09<00:00, 37.53it/s]\n"
     ]
    },
    {
     "name": "stdout",
     "output_type": "stream",
     "text": [
      "Epoch 1200 - Train Loss: 0.5353, Train MSE: 0.5364, Train MAE: 0.5152\n",
      "Epoch 1200 - Validation Loss: 1.8241, Validation MSE: 1.8278, Validation MAE: 1.0068\n"
     ]
    },
    {
     "name": "stderr",
     "output_type": "stream",
     "text": [
      "Training Epoch 1202: 100%|██████████| 370/370 [00:09<00:00, 37.64it/s]\n",
      "Training Epoch 1203: 100%|██████████| 370/370 [00:09<00:00, 37.65it/s]\n",
      "Training Epoch 1204: 100%|██████████| 370/370 [00:09<00:00, 37.63it/s]\n",
      "Training Epoch 1205: 100%|██████████| 370/370 [00:09<00:00, 37.50it/s]\n",
      "Training Epoch 1206: 100%|██████████| 370/370 [00:09<00:00, 37.47it/s]\n",
      "Training Epoch 1207: 100%|██████████| 370/370 [00:09<00:00, 37.74it/s]\n",
      "Training Epoch 1208: 100%|██████████| 370/370 [00:09<00:00, 37.54it/s]\n",
      "Training Epoch 1209: 100%|██████████| 370/370 [00:09<00:00, 37.49it/s]\n",
      "Training Epoch 1210: 100%|██████████| 370/370 [00:09<00:00, 37.51it/s]\n",
      "Training Epoch 1211: 100%|██████████| 370/370 [00:09<00:00, 37.55it/s]\n"
     ]
    },
    {
     "name": "stdout",
     "output_type": "stream",
     "text": [
      "Epoch 1210 - Train Loss: 0.5383, Train MSE: 0.5362, Train MAE: 0.5153\n",
      "Epoch 1210 - Validation Loss: 1.8109, Validation MSE: 1.8145, Validation MAE: 0.9981\n"
     ]
    },
    {
     "name": "stderr",
     "output_type": "stream",
     "text": [
      "Training Epoch 1212: 100%|██████████| 370/370 [00:09<00:00, 37.62it/s]\n",
      "Training Epoch 1213: 100%|██████████| 370/370 [00:09<00:00, 37.89it/s]\n",
      "Training Epoch 1214: 100%|██████████| 370/370 [00:09<00:00, 37.90it/s]\n",
      "Training Epoch 1215: 100%|██████████| 370/370 [00:09<00:00, 37.51it/s]\n",
      "Training Epoch 1216: 100%|██████████| 370/370 [00:09<00:00, 37.66it/s]\n",
      "Training Epoch 1217: 100%|██████████| 370/370 [00:09<00:00, 37.87it/s]\n",
      "Training Epoch 1218: 100%|██████████| 370/370 [00:09<00:00, 37.59it/s]\n",
      "Training Epoch 1219: 100%|██████████| 370/370 [00:09<00:00, 37.67it/s]\n",
      "Training Epoch 1220: 100%|██████████| 370/370 [00:09<00:00, 37.87it/s]\n",
      "Training Epoch 1221: 100%|██████████| 370/370 [00:09<00:00, 37.68it/s]\n"
     ]
    },
    {
     "name": "stdout",
     "output_type": "stream",
     "text": [
      "Epoch 1220 - Train Loss: 0.5441, Train MSE: 0.5448, Train MAE: 0.5196\n",
      "Epoch 1220 - Validation Loss: 1.7811, Validation MSE: 1.7848, Validation MAE: 0.9964\n"
     ]
    },
    {
     "name": "stderr",
     "output_type": "stream",
     "text": [
      "Training Epoch 1222: 100%|██████████| 370/370 [00:09<00:00, 37.62it/s]\n",
      "Training Epoch 1223: 100%|██████████| 370/370 [00:09<00:00, 37.82it/s]\n",
      "Training Epoch 1224: 100%|██████████| 370/370 [00:09<00:00, 37.71it/s]\n",
      "Training Epoch 1225: 100%|██████████| 370/370 [00:09<00:00, 37.50it/s]\n",
      "Training Epoch 1226: 100%|██████████| 370/370 [00:09<00:00, 37.84it/s]\n",
      "Training Epoch 1227: 100%|██████████| 370/370 [00:09<00:00, 37.63it/s]\n",
      "Training Epoch 1228: 100%|██████████| 370/370 [00:09<00:00, 37.60it/s]\n",
      "Training Epoch 1229: 100%|██████████| 370/370 [00:09<00:00, 37.63it/s]\n",
      "Training Epoch 1230: 100%|██████████| 370/370 [00:09<00:00, 37.77it/s]\n",
      "Training Epoch 1231: 100%|██████████| 370/370 [00:09<00:00, 37.86it/s]\n"
     ]
    },
    {
     "name": "stdout",
     "output_type": "stream",
     "text": [
      "Epoch 1230 - Train Loss: 0.5355, Train MSE: 0.5346, Train MAE: 0.5114\n",
      "Epoch 1230 - Validation Loss: 1.8394, Validation MSE: 1.8429, Validation MAE: 1.0048\n"
     ]
    },
    {
     "name": "stderr",
     "output_type": "stream",
     "text": [
      "Training Epoch 1232: 100%|██████████| 370/370 [00:09<00:00, 37.71it/s]\n",
      "Training Epoch 1233: 100%|██████████| 370/370 [00:09<00:00, 37.92it/s]\n",
      "Training Epoch 1234: 100%|██████████| 370/370 [00:09<00:00, 37.64it/s]\n",
      "Training Epoch 1235: 100%|██████████| 370/370 [00:09<00:00, 37.66it/s]\n",
      "Training Epoch 1236: 100%|██████████| 370/370 [00:09<00:00, 37.86it/s]\n",
      "Training Epoch 1237: 100%|██████████| 370/370 [00:09<00:00, 37.65it/s]\n",
      "Training Epoch 1238: 100%|██████████| 370/370 [00:09<00:00, 37.64it/s]\n",
      "Training Epoch 1239: 100%|██████████| 370/370 [00:09<00:00, 37.66it/s]\n",
      "Training Epoch 1240: 100%|██████████| 370/370 [00:09<00:00, 37.54it/s]\n",
      "Training Epoch 1241: 100%|██████████| 370/370 [00:09<00:00, 37.60it/s]\n"
     ]
    },
    {
     "name": "stdout",
     "output_type": "stream",
     "text": [
      "Epoch 1240 - Train Loss: 0.5390, Train MSE: 0.5395, Train MAE: 0.5160\n",
      "Epoch 1240 - Validation Loss: 1.8511, Validation MSE: 1.8546, Validation MAE: 1.0062\n"
     ]
    },
    {
     "name": "stderr",
     "output_type": "stream",
     "text": [
      "Training Epoch 1242: 100%|██████████| 370/370 [00:09<00:00, 37.70it/s]\n",
      "Training Epoch 1243: 100%|██████████| 370/370 [00:09<00:00, 37.81it/s]\n",
      "Training Epoch 1244: 100%|██████████| 370/370 [00:09<00:00, 37.75it/s]\n",
      "Training Epoch 1245: 100%|██████████| 370/370 [00:09<00:00, 37.53it/s]\n",
      "Training Epoch 1246: 100%|██████████| 370/370 [00:09<00:00, 37.72it/s]\n",
      "Training Epoch 1247: 100%|██████████| 370/370 [00:09<00:00, 37.68it/s]\n",
      "Training Epoch 1248: 100%|██████████| 370/370 [00:09<00:00, 37.57it/s]\n",
      "Training Epoch 1249: 100%|██████████| 370/370 [00:09<00:00, 37.70it/s]\n",
      "Training Epoch 1250: 100%|██████████| 370/370 [00:09<00:00, 37.51it/s]\n",
      "Training Epoch 1251: 100%|██████████| 370/370 [00:09<00:00, 37.42it/s]\n"
     ]
    },
    {
     "name": "stdout",
     "output_type": "stream",
     "text": [
      "Epoch 1250 - Train Loss: 0.5355, Train MSE: 0.5361, Train MAE: 0.5117\n",
      "Epoch 1250 - Validation Loss: 1.8453, Validation MSE: 1.8495, Validation MAE: 1.0055\n"
     ]
    },
    {
     "name": "stderr",
     "output_type": "stream",
     "text": [
      "Training Epoch 1252: 100%|██████████| 370/370 [00:09<00:00, 37.72it/s]\n",
      "Training Epoch 1253: 100%|██████████| 370/370 [00:09<00:00, 37.64it/s]\n",
      "Training Epoch 1254: 100%|██████████| 370/370 [00:09<00:00, 37.52it/s]\n",
      "Training Epoch 1255: 100%|██████████| 370/370 [00:09<00:00, 37.57it/s]\n",
      "Training Epoch 1256: 100%|██████████| 370/370 [00:09<00:00, 37.58it/s]\n",
      "Training Epoch 1257: 100%|██████████| 370/370 [00:09<00:00, 37.22it/s]\n",
      "Training Epoch 1258: 100%|██████████| 370/370 [00:09<00:00, 37.66it/s]\n",
      "Training Epoch 1259: 100%|██████████| 370/370 [00:09<00:00, 38.04it/s]\n",
      "Training Epoch 1260: 100%|██████████| 370/370 [00:09<00:00, 37.67it/s]\n",
      "Training Epoch 1261: 100%|██████████| 370/370 [00:09<00:00, 37.87it/s]\n"
     ]
    },
    {
     "name": "stdout",
     "output_type": "stream",
     "text": [
      "Epoch 1260 - Train Loss: 0.5274, Train MSE: 0.5283, Train MAE: 0.5116\n",
      "Epoch 1260 - Validation Loss: 1.8289, Validation MSE: 1.8325, Validation MAE: 1.0087\n"
     ]
    },
    {
     "name": "stderr",
     "output_type": "stream",
     "text": [
      "Training Epoch 1262: 100%|██████████| 370/370 [00:09<00:00, 37.89it/s]\n",
      "Training Epoch 1263: 100%|██████████| 370/370 [00:09<00:00, 37.70it/s]\n",
      "Training Epoch 1264: 100%|██████████| 370/370 [00:09<00:00, 37.83it/s]\n",
      "Training Epoch 1265: 100%|██████████| 370/370 [00:09<00:00, 37.96it/s]\n",
      "Training Epoch 1266: 100%|██████████| 370/370 [00:09<00:00, 37.74it/s]\n",
      "Training Epoch 1267: 100%|██████████| 370/370 [00:09<00:00, 37.61it/s]\n",
      "Training Epoch 1268: 100%|██████████| 370/370 [00:09<00:00, 38.00it/s]\n",
      "Training Epoch 1269: 100%|██████████| 370/370 [00:09<00:00, 37.72it/s]\n",
      "Training Epoch 1270: 100%|██████████| 370/370 [00:09<00:00, 37.81it/s]\n",
      "Training Epoch 1271: 100%|██████████| 370/370 [00:09<00:00, 37.98it/s]\n"
     ]
    },
    {
     "name": "stdout",
     "output_type": "stream",
     "text": [
      "Epoch 1270 - Train Loss: 0.5431, Train MSE: 0.5431, Train MAE: 0.5163\n",
      "Epoch 1270 - Validation Loss: 1.9110, Validation MSE: 1.9146, Validation MAE: 1.0281\n"
     ]
    },
    {
     "name": "stderr",
     "output_type": "stream",
     "text": [
      "Training Epoch 1272: 100%|██████████| 370/370 [00:09<00:00, 37.89it/s]\n",
      "Training Epoch 1273: 100%|██████████| 370/370 [00:09<00:00, 37.73it/s]\n",
      "Training Epoch 1274: 100%|██████████| 370/370 [00:09<00:00, 37.56it/s]\n",
      "Training Epoch 1275: 100%|██████████| 370/370 [00:09<00:00, 37.94it/s]\n",
      "Training Epoch 1276: 100%|██████████| 370/370 [00:09<00:00, 37.75it/s]\n",
      "Training Epoch 1277: 100%|██████████| 370/370 [00:09<00:00, 37.86it/s]\n",
      "Training Epoch 1278: 100%|██████████| 370/370 [00:09<00:00, 37.88it/s]\n",
      "Training Epoch 1279: 100%|██████████| 370/370 [00:09<00:00, 37.58it/s]\n",
      "Training Epoch 1280: 100%|██████████| 370/370 [00:09<00:00, 37.89it/s]\n",
      "Training Epoch 1281: 100%|██████████| 370/370 [00:09<00:00, 37.81it/s]\n"
     ]
    },
    {
     "name": "stdout",
     "output_type": "stream",
     "text": [
      "Epoch 1280 - Train Loss: 0.5287, Train MSE: 0.5255, Train MAE: 0.5081\n",
      "Epoch 1280 - Validation Loss: 1.8647, Validation MSE: 1.8679, Validation MAE: 1.0106\n"
     ]
    },
    {
     "name": "stderr",
     "output_type": "stream",
     "text": [
      "Training Epoch 1282: 100%|██████████| 370/370 [00:09<00:00, 37.81it/s]\n",
      "Training Epoch 1283: 100%|██████████| 370/370 [00:09<00:00, 37.82it/s]\n",
      "Training Epoch 1284: 100%|██████████| 370/370 [00:09<00:00, 37.59it/s]\n",
      "Training Epoch 1285: 100%|██████████| 370/370 [00:09<00:00, 37.75it/s]\n",
      "Training Epoch 1286: 100%|██████████| 370/370 [00:09<00:00, 37.88it/s]\n",
      "Training Epoch 1287: 100%|██████████| 370/370 [00:09<00:00, 37.89it/s]\n",
      "Training Epoch 1288: 100%|██████████| 370/370 [00:09<00:00, 37.76it/s]\n",
      "Training Epoch 1289: 100%|██████████| 370/370 [00:09<00:00, 37.73it/s]\n",
      "Training Epoch 1290: 100%|██████████| 370/370 [00:09<00:00, 37.79it/s]\n",
      "Training Epoch 1291: 100%|██████████| 370/370 [00:09<00:00, 37.88it/s]\n"
     ]
    },
    {
     "name": "stdout",
     "output_type": "stream",
     "text": [
      "Epoch 1290 - Train Loss: 0.5359, Train MSE: 0.5368, Train MAE: 0.5113\n",
      "Epoch 1290 - Validation Loss: 1.8568, Validation MSE: 1.8606, Validation MAE: 1.0033\n"
     ]
    },
    {
     "name": "stderr",
     "output_type": "stream",
     "text": [
      "Training Epoch 1292: 100%|██████████| 370/370 [00:09<00:00, 37.84it/s]\n",
      "Training Epoch 1293: 100%|██████████| 370/370 [00:09<00:00, 37.82it/s]\n",
      "Training Epoch 1294: 100%|██████████| 370/370 [00:09<00:00, 37.84it/s]\n",
      "Training Epoch 1295: 100%|██████████| 370/370 [00:09<00:00, 37.62it/s]\n",
      "Training Epoch 1296: 100%|██████████| 370/370 [00:09<00:00, 37.74it/s]\n",
      "Training Epoch 1297: 100%|██████████| 370/370 [00:09<00:00, 37.91it/s]\n",
      "Training Epoch 1298: 100%|██████████| 370/370 [00:09<00:00, 37.74it/s]\n",
      "Training Epoch 1299: 100%|██████████| 370/370 [00:09<00:00, 37.65it/s]\n",
      "Training Epoch 1300: 100%|██████████| 370/370 [00:09<00:00, 37.83it/s]\n",
      "Training Epoch 1301: 100%|██████████| 370/370 [00:09<00:00, 37.66it/s]\n"
     ]
    },
    {
     "name": "stdout",
     "output_type": "stream",
     "text": [
      "Epoch 1300 - Train Loss: 0.5294, Train MSE: 0.5302, Train MAE: 0.5113\n",
      "Epoch 1300 - Validation Loss: 1.8417, Validation MSE: 1.8453, Validation MAE: 1.0042\n"
     ]
    },
    {
     "name": "stderr",
     "output_type": "stream",
     "text": [
      "Training Epoch 1302: 100%|██████████| 370/370 [00:09<00:00, 37.68it/s]\n",
      "Training Epoch 1303: 100%|██████████| 370/370 [00:09<00:00, 37.66it/s]\n",
      "Training Epoch 1304: 100%|██████████| 370/370 [00:09<00:00, 37.80it/s]\n",
      "Training Epoch 1305: 100%|██████████| 370/370 [00:09<00:00, 37.67it/s]\n",
      "Training Epoch 1306: 100%|██████████| 370/370 [00:09<00:00, 37.33it/s]\n",
      "Training Epoch 1307: 100%|██████████| 370/370 [00:09<00:00, 38.07it/s]\n",
      "Training Epoch 1308: 100%|██████████| 370/370 [00:09<00:00, 37.76it/s]\n",
      "Training Epoch 1309: 100%|██████████| 370/370 [00:09<00:00, 37.67it/s]\n",
      "Training Epoch 1310: 100%|██████████| 370/370 [00:09<00:00, 37.99it/s]\n",
      "Training Epoch 1311: 100%|██████████| 370/370 [00:09<00:00, 37.60it/s]\n"
     ]
    },
    {
     "name": "stdout",
     "output_type": "stream",
     "text": [
      "Epoch 1310 - Train Loss: 0.5357, Train MSE: 0.5367, Train MAE: 0.5144\n",
      "Epoch 1310 - Validation Loss: 1.8719, Validation MSE: 1.8759, Validation MAE: 1.0132\n"
     ]
    },
    {
     "name": "stderr",
     "output_type": "stream",
     "text": [
      "Training Epoch 1312: 100%|██████████| 370/370 [00:09<00:00, 37.84it/s]\n",
      "Training Epoch 1313: 100%|██████████| 370/370 [00:09<00:00, 37.73it/s]\n",
      "Training Epoch 1314: 100%|██████████| 370/370 [00:09<00:00, 37.35it/s]\n",
      "Training Epoch 1315: 100%|██████████| 370/370 [00:09<00:00, 37.53it/s]\n",
      "Training Epoch 1316: 100%|██████████| 370/370 [00:09<00:00, 37.53it/s]\n",
      "Training Epoch 1317: 100%|██████████| 370/370 [00:09<00:00, 37.74it/s]\n",
      "Training Epoch 1318: 100%|██████████| 370/370 [00:09<00:00, 37.40it/s]\n",
      "Training Epoch 1319: 100%|██████████| 370/370 [00:09<00:00, 37.69it/s]\n",
      "Training Epoch 1320: 100%|██████████| 370/370 [00:09<00:00, 37.73it/s]\n",
      "Training Epoch 1321: 100%|██████████| 370/370 [00:09<00:00, 37.45it/s]\n"
     ]
    },
    {
     "name": "stdout",
     "output_type": "stream",
     "text": [
      "Epoch 1320 - Train Loss: 0.5400, Train MSE: 0.5395, Train MAE: 0.5143\n",
      "Epoch 1320 - Validation Loss: 1.8646, Validation MSE: 1.8681, Validation MAE: 1.0046\n"
     ]
    },
    {
     "name": "stderr",
     "output_type": "stream",
     "text": [
      "Training Epoch 1322: 100%|██████████| 370/370 [00:09<00:00, 37.51it/s]\n",
      "Training Epoch 1323: 100%|██████████| 370/370 [00:09<00:00, 37.65it/s]\n",
      "Training Epoch 1324: 100%|██████████| 370/370 [00:09<00:00, 37.40it/s]\n",
      "Training Epoch 1325: 100%|██████████| 370/370 [00:09<00:00, 37.53it/s]\n",
      "Training Epoch 1326: 100%|██████████| 370/370 [00:09<00:00, 37.65it/s]\n",
      "Training Epoch 1327: 100%|██████████| 370/370 [00:09<00:00, 37.55it/s]\n",
      "Training Epoch 1328: 100%|██████████| 370/370 [00:09<00:00, 37.49it/s]\n",
      "Training Epoch 1329: 100%|██████████| 370/370 [00:09<00:00, 37.43it/s]\n",
      "Training Epoch 1330: 100%|██████████| 370/370 [00:09<00:00, 37.54it/s]\n",
      "Training Epoch 1331: 100%|██████████| 370/370 [00:09<00:00, 37.56it/s]\n"
     ]
    },
    {
     "name": "stdout",
     "output_type": "stream",
     "text": [
      "Epoch 1330 - Train Loss: 0.5242, Train MSE: 0.5246, Train MAE: 0.5086\n",
      "Epoch 1330 - Validation Loss: 1.9093, Validation MSE: 1.9135, Validation MAE: 1.0210\n"
     ]
    },
    {
     "name": "stderr",
     "output_type": "stream",
     "text": [
      "Training Epoch 1332: 100%|██████████| 370/370 [00:09<00:00, 37.58it/s]\n",
      "Training Epoch 1333: 100%|██████████| 370/370 [00:09<00:00, 37.59it/s]\n",
      "Training Epoch 1334: 100%|██████████| 370/370 [00:09<00:00, 37.39it/s]\n",
      "Training Epoch 1335: 100%|██████████| 370/370 [00:09<00:00, 37.52it/s]\n",
      "Training Epoch 1336: 100%|██████████| 370/370 [00:09<00:00, 37.84it/s]\n",
      "Training Epoch 1337: 100%|██████████| 370/370 [00:09<00:00, 37.61it/s]\n",
      "Training Epoch 1338: 100%|██████████| 370/370 [00:09<00:00, 37.55it/s]\n",
      "Training Epoch 1339: 100%|██████████| 370/370 [00:09<00:00, 37.58it/s]\n",
      "Training Epoch 1340: 100%|██████████| 370/370 [00:09<00:00, 37.70it/s]\n",
      "Training Epoch 1341: 100%|██████████| 370/370 [00:09<00:00, 37.58it/s]\n"
     ]
    },
    {
     "name": "stdout",
     "output_type": "stream",
     "text": [
      "Epoch 1340 - Train Loss: 0.5350, Train MSE: 0.5358, Train MAE: 0.5151\n",
      "Epoch 1340 - Validation Loss: 1.8487, Validation MSE: 1.8522, Validation MAE: 1.0047\n"
     ]
    },
    {
     "name": "stderr",
     "output_type": "stream",
     "text": [
      "Training Epoch 1342: 100%|██████████| 370/370 [00:09<00:00, 37.62it/s]\n",
      "Training Epoch 1343: 100%|██████████| 370/370 [00:09<00:00, 37.60it/s]\n",
      "Training Epoch 1344: 100%|██████████| 370/370 [00:09<00:00, 37.70it/s]\n",
      "Training Epoch 1345: 100%|██████████| 370/370 [00:09<00:00, 37.77it/s]\n",
      "Training Epoch 1346: 100%|██████████| 370/370 [00:09<00:00, 37.48it/s]\n",
      "Training Epoch 1347: 100%|██████████| 370/370 [00:09<00:00, 37.51it/s]\n",
      "Training Epoch 1348: 100%|██████████| 370/370 [00:09<00:00, 37.74it/s]\n",
      "Training Epoch 1349: 100%|██████████| 370/370 [00:09<00:00, 37.78it/s]\n",
      "Training Epoch 1350: 100%|██████████| 370/370 [00:09<00:00, 37.56it/s]\n",
      "Training Epoch 1351: 100%|██████████| 370/370 [00:09<00:00, 37.69it/s]\n"
     ]
    },
    {
     "name": "stdout",
     "output_type": "stream",
     "text": [
      "Epoch 1350 - Train Loss: 0.5342, Train MSE: 0.5329, Train MAE: 0.5111\n",
      "Epoch 1350 - Validation Loss: 1.9183, Validation MSE: 1.9224, Validation MAE: 1.0276\n"
     ]
    },
    {
     "name": "stderr",
     "output_type": "stream",
     "text": [
      "Training Epoch 1352: 100%|██████████| 370/370 [00:09<00:00, 37.73it/s]\n",
      "Training Epoch 1353: 100%|██████████| 370/370 [00:09<00:00, 37.58it/s]\n",
      "Training Epoch 1354: 100%|██████████| 370/370 [00:09<00:00, 37.61it/s]\n",
      "Training Epoch 1355: 100%|██████████| 370/370 [00:09<00:00, 37.74it/s]\n",
      "Training Epoch 1356: 100%|██████████| 370/370 [00:09<00:00, 37.49it/s]\n",
      "Training Epoch 1357: 100%|██████████| 370/370 [00:09<00:00, 37.61it/s]\n",
      "Training Epoch 1358: 100%|██████████| 370/370 [00:09<00:00, 37.75it/s]\n",
      "Training Epoch 1359: 100%|██████████| 370/370 [00:09<00:00, 37.59it/s]\n",
      "Training Epoch 1360: 100%|██████████| 370/370 [00:09<00:00, 37.54it/s]\n",
      "Training Epoch 1361: 100%|██████████| 370/370 [00:09<00:00, 37.74it/s]\n"
     ]
    },
    {
     "name": "stdout",
     "output_type": "stream",
     "text": [
      "Epoch 1360 - Train Loss: 0.5236, Train MSE: 0.5234, Train MAE: 0.5065\n",
      "Epoch 1360 - Validation Loss: 1.8942, Validation MSE: 1.8981, Validation MAE: 1.0184\n"
     ]
    },
    {
     "name": "stderr",
     "output_type": "stream",
     "text": [
      "Training Epoch 1362: 100%|██████████| 370/370 [00:09<00:00, 37.55it/s]\n",
      "Training Epoch 1363: 100%|██████████| 370/370 [00:09<00:00, 37.40it/s]\n",
      "Training Epoch 1364: 100%|██████████| 370/370 [00:09<00:00, 37.66it/s]\n",
      "Training Epoch 1365: 100%|██████████| 370/370 [00:09<00:00, 37.71it/s]\n",
      "Training Epoch 1366: 100%|██████████| 370/370 [00:09<00:00, 37.54it/s]\n",
      "Training Epoch 1367: 100%|██████████| 370/370 [00:09<00:00, 37.59it/s]\n",
      "Training Epoch 1368: 100%|██████████| 370/370 [00:09<00:00, 37.63it/s]\n",
      "Training Epoch 1369: 100%|██████████| 370/370 [00:09<00:00, 37.46it/s]\n",
      "Training Epoch 1370: 100%|██████████| 370/370 [00:09<00:00, 37.47it/s]\n",
      "Training Epoch 1371: 100%|██████████| 370/370 [00:09<00:00, 38.06it/s]\n"
     ]
    },
    {
     "name": "stdout",
     "output_type": "stream",
     "text": [
      "Epoch 1370 - Train Loss: 0.5265, Train MSE: 0.5275, Train MAE: 0.5087\n",
      "Epoch 1370 - Validation Loss: 1.8482, Validation MSE: 1.8521, Validation MAE: 0.9966\n"
     ]
    },
    {
     "name": "stderr",
     "output_type": "stream",
     "text": [
      "Training Epoch 1372: 100%|██████████| 370/370 [00:09<00:00, 37.86it/s]\n",
      "Training Epoch 1373: 100%|██████████| 370/370 [00:09<00:00, 37.60it/s]\n",
      "Training Epoch 1374: 100%|██████████| 370/370 [00:09<00:00, 37.61it/s]\n",
      "Training Epoch 1375: 100%|██████████| 370/370 [00:09<00:00, 37.56it/s]\n",
      "Training Epoch 1376: 100%|██████████| 370/370 [00:09<00:00, 37.48it/s]\n",
      "Training Epoch 1377: 100%|██████████| 370/370 [00:09<00:00, 37.70it/s]\n",
      "Training Epoch 1378: 100%|██████████| 370/370 [00:09<00:00, 37.47it/s]\n",
      "Training Epoch 1379: 100%|██████████| 370/370 [00:09<00:00, 37.63it/s]\n",
      "Training Epoch 1380: 100%|██████████| 370/370 [00:09<00:00, 37.43it/s]\n",
      "Training Epoch 1381: 100%|██████████| 370/370 [00:09<00:00, 37.68it/s]\n"
     ]
    },
    {
     "name": "stdout",
     "output_type": "stream",
     "text": [
      "Epoch 1380 - Train Loss: 0.5291, Train MSE: 0.5296, Train MAE: 0.5086\n",
      "Epoch 1380 - Validation Loss: 1.9480, Validation MSE: 1.9525, Validation MAE: 1.0318\n"
     ]
    },
    {
     "name": "stderr",
     "output_type": "stream",
     "text": [
      "Training Epoch 1382: 100%|██████████| 370/370 [00:09<00:00, 37.60it/s]\n",
      "Training Epoch 1383: 100%|██████████| 370/370 [00:09<00:00, 37.42it/s]\n",
      "Training Epoch 1384: 100%|██████████| 370/370 [00:09<00:00, 37.70it/s]\n",
      "Training Epoch 1385: 100%|██████████| 370/370 [00:09<00:00, 37.48it/s]\n",
      "Training Epoch 1386: 100%|██████████| 370/370 [00:09<00:00, 37.44it/s]\n",
      "Training Epoch 1387: 100%|██████████| 370/370 [00:09<00:00, 37.76it/s]\n",
      "Training Epoch 1388: 100%|██████████| 370/370 [00:09<00:00, 37.45it/s]\n",
      "Training Epoch 1389: 100%|██████████| 370/370 [00:09<00:00, 37.59it/s]\n",
      "Training Epoch 1390: 100%|██████████| 370/370 [00:09<00:00, 37.67it/s]\n",
      "Training Epoch 1391: 100%|██████████| 370/370 [00:09<00:00, 37.62it/s]\n"
     ]
    },
    {
     "name": "stdout",
     "output_type": "stream",
     "text": [
      "Epoch 1390 - Train Loss: 0.5308, Train MSE: 0.5320, Train MAE: 0.5118\n",
      "Epoch 1390 - Validation Loss: 1.8044, Validation MSE: 1.8082, Validation MAE: 0.9911\n"
     ]
    },
    {
     "name": "stderr",
     "output_type": "stream",
     "text": [
      "Training Epoch 1392: 100%|██████████| 370/370 [00:09<00:00, 37.46it/s]\n",
      "Training Epoch 1393: 100%|██████████| 370/370 [00:09<00:00, 37.61it/s]\n",
      "Training Epoch 1394: 100%|██████████| 370/370 [00:09<00:00, 37.60it/s]\n",
      "Training Epoch 1395: 100%|██████████| 370/370 [00:09<00:00, 37.54it/s]\n",
      "Training Epoch 1396: 100%|██████████| 370/370 [00:09<00:00, 37.36it/s]\n",
      "Training Epoch 1397: 100%|██████████| 370/370 [00:09<00:00, 37.57it/s]\n",
      "Training Epoch 1398: 100%|██████████| 370/370 [00:09<00:00, 37.31it/s]\n",
      "Training Epoch 1399: 100%|██████████| 370/370 [00:09<00:00, 37.57it/s]\n",
      "Training Epoch 1400: 100%|██████████| 370/370 [00:09<00:00, 37.78it/s]\n",
      "Training Epoch 1401: 100%|██████████| 370/370 [00:09<00:00, 37.35it/s]\n"
     ]
    },
    {
     "name": "stdout",
     "output_type": "stream",
     "text": [
      "Epoch 1400 - Train Loss: 0.5189, Train MSE: 0.5198, Train MAE: 0.5042\n",
      "Epoch 1400 - Validation Loss: 1.8319, Validation MSE: 1.8361, Validation MAE: 1.0003\n"
     ]
    },
    {
     "name": "stderr",
     "output_type": "stream",
     "text": [
      "Training Epoch 1402: 100%|██████████| 370/370 [00:09<00:00, 37.44it/s]\n",
      "Training Epoch 1403: 100%|██████████| 370/370 [00:09<00:00, 37.80it/s]\n",
      "Training Epoch 1404: 100%|██████████| 370/370 [00:09<00:00, 37.56it/s]\n",
      "Training Epoch 1405: 100%|██████████| 370/370 [00:09<00:00, 37.48it/s]\n",
      "Training Epoch 1406: 100%|██████████| 370/370 [00:09<00:00, 37.83it/s]\n",
      "Training Epoch 1407: 100%|██████████| 370/370 [00:09<00:00, 37.92it/s]\n",
      "Training Epoch 1408: 100%|██████████| 370/370 [00:09<00:00, 37.42it/s]\n",
      "Training Epoch 1409: 100%|██████████| 370/370 [00:09<00:00, 37.86it/s]\n",
      "Training Epoch 1410: 100%|██████████| 370/370 [00:09<00:00, 37.54it/s]\n",
      "Training Epoch 1411: 100%|██████████| 370/370 [00:09<00:00, 37.61it/s]\n"
     ]
    },
    {
     "name": "stdout",
     "output_type": "stream",
     "text": [
      "Epoch 1410 - Train Loss: 0.5268, Train MSE: 0.5279, Train MAE: 0.5107\n",
      "Epoch 1410 - Validation Loss: 1.8733, Validation MSE: 1.8770, Validation MAE: 1.0108\n"
     ]
    },
    {
     "name": "stderr",
     "output_type": "stream",
     "text": [
      "Training Epoch 1412: 100%|██████████| 370/370 [00:09<00:00, 37.54it/s]\n",
      "Training Epoch 1413: 100%|██████████| 370/370 [00:09<00:00, 37.77it/s]\n",
      "Training Epoch 1414: 100%|██████████| 370/370 [00:09<00:00, 37.35it/s]\n",
      "Training Epoch 1415: 100%|██████████| 370/370 [00:09<00:00, 37.52it/s]\n",
      "Training Epoch 1416: 100%|██████████| 370/370 [00:09<00:00, 37.72it/s]\n",
      "Training Epoch 1417: 100%|██████████| 370/370 [00:09<00:00, 37.46it/s]\n",
      "Training Epoch 1418: 100%|██████████| 370/370 [00:09<00:00, 37.36it/s]\n",
      "Training Epoch 1419: 100%|██████████| 370/370 [00:09<00:00, 37.71it/s]\n",
      "Training Epoch 1420: 100%|██████████| 370/370 [00:09<00:00, 37.55it/s]\n",
      "Training Epoch 1421: 100%|██████████| 370/370 [00:09<00:00, 37.62it/s]\n"
     ]
    },
    {
     "name": "stdout",
     "output_type": "stream",
     "text": [
      "Epoch 1420 - Train Loss: 0.5221, Train MSE: 0.5222, Train MAE: 0.5050\n",
      "Epoch 1420 - Validation Loss: 1.8413, Validation MSE: 1.8449, Validation MAE: 1.0057\n"
     ]
    },
    {
     "name": "stderr",
     "output_type": "stream",
     "text": [
      "Training Epoch 1422: 100%|██████████| 370/370 [00:09<00:00, 37.74it/s]\n",
      "Training Epoch 1423: 100%|██████████| 370/370 [00:09<00:00, 37.61it/s]\n",
      "Training Epoch 1424: 100%|██████████| 370/370 [00:09<00:00, 37.62it/s]\n",
      "Training Epoch 1425: 100%|██████████| 370/370 [00:09<00:00, 37.80it/s]\n",
      "Training Epoch 1426: 100%|██████████| 370/370 [00:09<00:00, 37.40it/s]\n",
      "Training Epoch 1427: 100%|██████████| 370/370 [00:09<00:00, 37.48it/s]\n",
      "Training Epoch 1428: 100%|██████████| 370/370 [00:09<00:00, 37.70it/s]\n",
      "Training Epoch 1429: 100%|██████████| 370/370 [00:09<00:00, 37.61it/s]\n",
      "Training Epoch 1430: 100%|██████████| 370/370 [00:09<00:00, 37.47it/s]\n",
      "Training Epoch 1431: 100%|██████████| 370/370 [00:09<00:00, 37.57it/s]\n"
     ]
    },
    {
     "name": "stdout",
     "output_type": "stream",
     "text": [
      "Epoch 1430 - Train Loss: 0.5302, Train MSE: 0.5311, Train MAE: 0.5075\n",
      "Epoch 1430 - Validation Loss: 1.8362, Validation MSE: 1.8400, Validation MAE: 0.9992\n"
     ]
    },
    {
     "name": "stderr",
     "output_type": "stream",
     "text": [
      "Training Epoch 1432: 100%|██████████| 370/370 [00:09<00:00, 37.59it/s]\n",
      "Training Epoch 1433: 100%|██████████| 370/370 [00:09<00:00, 37.64it/s]\n",
      "Training Epoch 1434: 100%|██████████| 370/370 [00:09<00:00, 37.57it/s]\n",
      "Training Epoch 1435: 100%|██████████| 370/370 [00:10<00:00, 36.15it/s]\n",
      "Training Epoch 1436: 100%|██████████| 370/370 [00:09<00:00, 37.65it/s]\n",
      "Training Epoch 1437: 100%|██████████| 370/370 [00:09<00:00, 37.67it/s]\n",
      "Training Epoch 1438: 100%|██████████| 370/370 [00:09<00:00, 37.85it/s]\n",
      "Training Epoch 1439: 100%|██████████| 370/370 [00:09<00:00, 37.67it/s]\n",
      "Training Epoch 1440: 100%|██████████| 370/370 [00:09<00:00, 37.65it/s]\n",
      "Training Epoch 1441: 100%|██████████| 370/370 [00:09<00:00, 37.72it/s]\n"
     ]
    },
    {
     "name": "stdout",
     "output_type": "stream",
     "text": [
      "Epoch 1440 - Train Loss: 0.5202, Train MSE: 0.5209, Train MAE: 0.5050\n",
      "Epoch 1440 - Validation Loss: 1.8852, Validation MSE: 1.8891, Validation MAE: 1.0140\n"
     ]
    },
    {
     "name": "stderr",
     "output_type": "stream",
     "text": [
      "Training Epoch 1442: 100%|██████████| 370/370 [00:09<00:00, 37.79it/s]\n",
      "Training Epoch 1443: 100%|██████████| 370/370 [00:09<00:00, 37.60it/s]\n",
      "Training Epoch 1444: 100%|██████████| 370/370 [00:09<00:00, 37.52it/s]\n",
      "Training Epoch 1445: 100%|██████████| 370/370 [00:09<00:00, 37.76it/s]\n",
      "Training Epoch 1446: 100%|██████████| 370/370 [00:09<00:00, 37.60it/s]\n",
      "Training Epoch 1447: 100%|██████████| 370/370 [00:09<00:00, 37.42it/s]\n",
      "Training Epoch 1448: 100%|██████████| 370/370 [00:09<00:00, 37.62it/s]\n",
      "Training Epoch 1449: 100%|██████████| 370/370 [00:09<00:00, 37.59it/s]\n",
      "Training Epoch 1450: 100%|██████████| 370/370 [00:09<00:00, 37.55it/s]\n",
      "Training Epoch 1451: 100%|██████████| 370/370 [00:09<00:00, 37.62it/s]\n"
     ]
    },
    {
     "name": "stdout",
     "output_type": "stream",
     "text": [
      "Epoch 1450 - Train Loss: 0.5261, Train MSE: 0.5222, Train MAE: 0.5072\n",
      "Epoch 1450 - Validation Loss: 1.8398, Validation MSE: 1.8431, Validation MAE: 1.0068\n"
     ]
    },
    {
     "name": "stderr",
     "output_type": "stream",
     "text": [
      "Training Epoch 1452: 100%|██████████| 370/370 [00:09<00:00, 37.54it/s]\n",
      "Training Epoch 1453: 100%|██████████| 370/370 [00:09<00:00, 37.74it/s]\n",
      "Training Epoch 1454: 100%|██████████| 370/370 [00:09<00:00, 37.61it/s]\n",
      "Training Epoch 1455: 100%|██████████| 370/370 [00:09<00:00, 37.65it/s]\n",
      "Training Epoch 1456: 100%|██████████| 370/370 [00:09<00:00, 37.61it/s]\n",
      "Training Epoch 1457: 100%|██████████| 370/370 [00:09<00:00, 37.69it/s]\n",
      "Training Epoch 1458: 100%|██████████| 370/370 [00:09<00:00, 37.66it/s]\n",
      "Training Epoch 1459: 100%|██████████| 370/370 [00:09<00:00, 37.45it/s]\n",
      "Training Epoch 1460: 100%|██████████| 370/370 [00:09<00:00, 37.50it/s]\n",
      "Training Epoch 1461: 100%|██████████| 370/370 [00:09<00:00, 37.55it/s]\n"
     ]
    },
    {
     "name": "stdout",
     "output_type": "stream",
     "text": [
      "Epoch 1460 - Train Loss: 0.5195, Train MSE: 0.5201, Train MAE: 0.5033\n",
      "Epoch 1460 - Validation Loss: 1.8620, Validation MSE: 1.8658, Validation MAE: 1.0094\n"
     ]
    },
    {
     "name": "stderr",
     "output_type": "stream",
     "text": [
      "Training Epoch 1462: 100%|██████████| 370/370 [00:09<00:00, 37.41it/s]\n",
      "Training Epoch 1463: 100%|██████████| 370/370 [00:09<00:00, 37.41it/s]\n",
      "Training Epoch 1464: 100%|██████████| 370/370 [00:09<00:00, 37.69it/s]\n",
      "Training Epoch 1465: 100%|██████████| 370/370 [00:09<00:00, 37.49it/s]\n",
      "Training Epoch 1466: 100%|██████████| 370/370 [00:09<00:00, 37.55it/s]\n",
      "Training Epoch 1467: 100%|██████████| 370/370 [00:09<00:00, 37.81it/s]\n",
      "Training Epoch 1468: 100%|██████████| 370/370 [00:09<00:00, 37.50it/s]\n",
      "Training Epoch 1469: 100%|██████████| 370/370 [00:09<00:00, 37.58it/s]\n",
      "Training Epoch 1470: 100%|██████████| 370/370 [00:09<00:00, 38.11it/s]\n",
      "Training Epoch 1471: 100%|██████████| 370/370 [00:09<00:00, 37.46it/s]\n"
     ]
    },
    {
     "name": "stdout",
     "output_type": "stream",
     "text": [
      "Epoch 1470 - Train Loss: 0.5176, Train MSE: 0.5184, Train MAE: 0.5050\n",
      "Epoch 1470 - Validation Loss: 1.8912, Validation MSE: 1.8956, Validation MAE: 1.0190\n"
     ]
    },
    {
     "name": "stderr",
     "output_type": "stream",
     "text": [
      "Training Epoch 1472: 100%|██████████| 370/370 [00:09<00:00, 37.52it/s]\n",
      "Training Epoch 1473: 100%|██████████| 370/370 [00:09<00:00, 37.45it/s]\n",
      "Training Epoch 1474: 100%|██████████| 370/370 [00:09<00:00, 37.70it/s]\n",
      "Training Epoch 1475: 100%|██████████| 370/370 [00:09<00:00, 37.56it/s]\n",
      "Training Epoch 1476: 100%|██████████| 370/370 [00:09<00:00, 37.58it/s]\n",
      "Training Epoch 1477: 100%|██████████| 370/370 [00:09<00:00, 37.63it/s]\n",
      "Training Epoch 1478: 100%|██████████| 370/370 [00:09<00:00, 37.55it/s]\n",
      "Training Epoch 1479: 100%|██████████| 370/370 [00:09<00:00, 37.71it/s]\n",
      "Training Epoch 1480: 100%|██████████| 370/370 [00:09<00:00, 37.18it/s]\n",
      "Training Epoch 1481: 100%|██████████| 370/370 [00:10<00:00, 36.58it/s]\n"
     ]
    },
    {
     "name": "stdout",
     "output_type": "stream",
     "text": [
      "Epoch 1480 - Train Loss: 0.5178, Train MSE: 0.5178, Train MAE: 0.5035\n",
      "Epoch 1480 - Validation Loss: 1.8872, Validation MSE: 1.8911, Validation MAE: 1.0184\n"
     ]
    },
    {
     "name": "stderr",
     "output_type": "stream",
     "text": [
      "Training Epoch 1482: 100%|██████████| 370/370 [00:10<00:00, 36.84it/s]\n",
      "Training Epoch 1483: 100%|██████████| 370/370 [00:10<00:00, 36.90it/s]\n",
      "Training Epoch 1484: 100%|██████████| 370/370 [00:10<00:00, 36.73it/s]\n",
      "Training Epoch 1485: 100%|██████████| 370/370 [00:10<00:00, 36.63it/s]\n",
      "Training Epoch 1486: 100%|██████████| 370/370 [00:10<00:00, 36.71it/s]\n",
      "Training Epoch 1487: 100%|██████████| 370/370 [00:10<00:00, 36.65it/s]\n",
      "Training Epoch 1488: 100%|██████████| 370/370 [00:10<00:00, 36.76it/s]\n",
      "Training Epoch 1489: 100%|██████████| 370/370 [00:10<00:00, 36.58it/s]\n",
      "Training Epoch 1490: 100%|██████████| 370/370 [00:10<00:00, 36.57it/s]\n",
      "Training Epoch 1491: 100%|██████████| 370/370 [00:10<00:00, 36.65it/s]\n"
     ]
    },
    {
     "name": "stdout",
     "output_type": "stream",
     "text": [
      "Epoch 1490 - Train Loss: 0.5230, Train MSE: 0.5239, Train MAE: 0.5032\n",
      "Epoch 1490 - Validation Loss: 1.9117, Validation MSE: 1.9155, Validation MAE: 1.0279\n"
     ]
    },
    {
     "name": "stderr",
     "output_type": "stream",
     "text": [
      "Training Epoch 1492: 100%|██████████| 370/370 [00:10<00:00, 36.67it/s]\n",
      "Training Epoch 1493: 100%|██████████| 370/370 [00:10<00:00, 36.78it/s]\n",
      "Training Epoch 1494: 100%|██████████| 370/370 [00:10<00:00, 36.78it/s]\n",
      "Training Epoch 1495: 100%|██████████| 370/370 [00:10<00:00, 36.70it/s]\n",
      "Training Epoch 1496: 100%|██████████| 370/370 [00:10<00:00, 36.77it/s]\n",
      "Training Epoch 1497: 100%|██████████| 370/370 [00:10<00:00, 36.57it/s]\n",
      "Training Epoch 1498: 100%|██████████| 370/370 [00:10<00:00, 36.69it/s]\n",
      "Training Epoch 1499: 100%|██████████| 370/370 [00:10<00:00, 36.69it/s]\n",
      "Training Epoch 1500: 100%|██████████| 370/370 [00:10<00:00, 36.53it/s]\n",
      "Training Epoch 1501: 100%|██████████| 370/370 [00:10<00:00, 36.67it/s]\n"
     ]
    },
    {
     "name": "stdout",
     "output_type": "stream",
     "text": [
      "Epoch 1500 - Train Loss: 0.5282, Train MSE: 0.5256, Train MAE: 0.5085\n",
      "Epoch 1500 - Validation Loss: 1.7999, Validation MSE: 1.8029, Validation MAE: 0.9942\n"
     ]
    },
    {
     "name": "stderr",
     "output_type": "stream",
     "text": [
      "Training Epoch 1502: 100%|██████████| 370/370 [00:10<00:00, 36.88it/s]\n",
      "Training Epoch 1503: 100%|██████████| 370/370 [00:10<00:00, 36.69it/s]\n",
      "Training Epoch 1504: 100%|██████████| 370/370 [00:10<00:00, 36.62it/s]\n",
      "Training Epoch 1505: 100%|██████████| 370/370 [00:10<00:00, 36.71it/s]\n",
      "Training Epoch 1506: 100%|██████████| 370/370 [00:10<00:00, 36.79it/s]\n",
      "Training Epoch 1507: 100%|██████████| 370/370 [00:10<00:00, 36.64it/s]\n",
      "Training Epoch 1508: 100%|██████████| 370/370 [00:10<00:00, 36.60it/s]\n",
      "Training Epoch 1509: 100%|██████████| 370/370 [00:10<00:00, 36.64it/s]\n",
      "Training Epoch 1510: 100%|██████████| 370/370 [00:10<00:00, 36.65it/s]\n",
      "Training Epoch 1511: 100%|██████████| 370/370 [00:10<00:00, 36.73it/s]\n"
     ]
    },
    {
     "name": "stdout",
     "output_type": "stream",
     "text": [
      "Epoch 1510 - Train Loss: 0.5289, Train MSE: 0.5285, Train MAE: 0.5100\n",
      "Epoch 1510 - Validation Loss: 1.9145, Validation MSE: 1.9186, Validation MAE: 1.0206\n"
     ]
    },
    {
     "name": "stderr",
     "output_type": "stream",
     "text": [
      "Training Epoch 1512: 100%|██████████| 370/370 [00:10<00:00, 36.79it/s]\n",
      "Training Epoch 1513: 100%|██████████| 370/370 [00:10<00:00, 36.73it/s]\n",
      "Training Epoch 1514: 100%|██████████| 370/370 [00:10<00:00, 36.55it/s]\n",
      "Training Epoch 1515: 100%|██████████| 370/370 [00:10<00:00, 36.83it/s]\n",
      "Training Epoch 1516: 100%|██████████| 370/370 [00:10<00:00, 36.64it/s]\n",
      "Training Epoch 1517: 100%|██████████| 370/370 [00:10<00:00, 36.91it/s]\n",
      "Training Epoch 1518: 100%|██████████| 370/370 [00:10<00:00, 36.81it/s]\n",
      "Training Epoch 1519: 100%|██████████| 370/370 [00:10<00:00, 36.49it/s]\n",
      "Training Epoch 1520: 100%|██████████| 370/370 [00:10<00:00, 36.64it/s]\n",
      "Training Epoch 1521: 100%|██████████| 370/370 [00:10<00:00, 36.60it/s]\n"
     ]
    },
    {
     "name": "stdout",
     "output_type": "stream",
     "text": [
      "Epoch 1520 - Train Loss: 0.5212, Train MSE: 0.5219, Train MAE: 0.5066\n",
      "Epoch 1520 - Validation Loss: 1.8550, Validation MSE: 1.8593, Validation MAE: 1.0089\n"
     ]
    },
    {
     "name": "stderr",
     "output_type": "stream",
     "text": [
      "Training Epoch 1522: 100%|██████████| 370/370 [00:10<00:00, 36.77it/s]\n",
      "Training Epoch 1523: 100%|██████████| 370/370 [00:10<00:00, 36.61it/s]\n",
      "Training Epoch 1524: 100%|██████████| 370/370 [00:10<00:00, 36.47it/s]\n",
      "Training Epoch 1525: 100%|██████████| 370/370 [00:10<00:00, 36.60it/s]\n",
      "Training Epoch 1526: 100%|██████████| 370/370 [00:10<00:00, 36.63it/s]\n",
      "Training Epoch 1527: 100%|██████████| 370/370 [00:10<00:00, 36.73it/s]\n",
      "Training Epoch 1528: 100%|██████████| 370/370 [00:10<00:00, 36.61it/s]\n",
      "Training Epoch 1529: 100%|██████████| 370/370 [00:10<00:00, 36.97it/s]\n",
      "Training Epoch 1530: 100%|██████████| 370/370 [00:10<00:00, 36.65it/s]\n",
      "Training Epoch 1531: 100%|██████████| 370/370 [00:10<00:00, 36.95it/s]\n"
     ]
    },
    {
     "name": "stdout",
     "output_type": "stream",
     "text": [
      "Epoch 1530 - Train Loss: 0.5182, Train MSE: 0.5189, Train MAE: 0.5061\n",
      "Epoch 1530 - Validation Loss: 1.8751, Validation MSE: 1.8789, Validation MAE: 1.0231\n"
     ]
    },
    {
     "name": "stderr",
     "output_type": "stream",
     "text": [
      "Training Epoch 1532: 100%|██████████| 370/370 [00:10<00:00, 36.80it/s]\n",
      "Training Epoch 1533: 100%|██████████| 370/370 [00:10<00:00, 36.64it/s]\n",
      "Training Epoch 1534: 100%|██████████| 370/370 [00:10<00:00, 36.82it/s]\n",
      "Training Epoch 1535: 100%|██████████| 370/370 [00:10<00:00, 36.85it/s]\n",
      "Training Epoch 1536: 100%|██████████| 370/370 [00:10<00:00, 36.68it/s]\n",
      "Training Epoch 1537: 100%|██████████| 370/370 [00:10<00:00, 36.59it/s]\n",
      "Training Epoch 1538: 100%|██████████| 370/370 [00:10<00:00, 36.79it/s]\n",
      "Training Epoch 1539: 100%|██████████| 370/370 [00:10<00:00, 36.64it/s]\n",
      "Training Epoch 1540: 100%|██████████| 370/370 [00:10<00:00, 36.61it/s]\n",
      "Training Epoch 1541: 100%|██████████| 370/370 [00:10<00:00, 36.60it/s]\n"
     ]
    },
    {
     "name": "stdout",
     "output_type": "stream",
     "text": [
      "Epoch 1540 - Train Loss: 0.5261, Train MSE: 0.5269, Train MAE: 0.5068\n",
      "Epoch 1540 - Validation Loss: 1.8742, Validation MSE: 1.8784, Validation MAE: 1.0096\n"
     ]
    },
    {
     "name": "stderr",
     "output_type": "stream",
     "text": [
      "Training Epoch 1542: 100%|██████████| 370/370 [00:10<00:00, 36.83it/s]\n",
      "Training Epoch 1543: 100%|██████████| 370/370 [00:10<00:00, 36.62it/s]\n",
      "Training Epoch 1544: 100%|██████████| 370/370 [00:10<00:00, 36.75it/s]\n",
      "Training Epoch 1545: 100%|██████████| 370/370 [00:10<00:00, 36.75it/s]\n",
      "Training Epoch 1546: 100%|██████████| 370/370 [00:10<00:00, 36.68it/s]\n",
      "Training Epoch 1547: 100%|██████████| 370/370 [00:10<00:00, 36.73it/s]\n",
      "Training Epoch 1548: 100%|██████████| 370/370 [00:10<00:00, 36.68it/s]\n",
      "Training Epoch 1549: 100%|██████████| 370/370 [00:10<00:00, 36.46it/s]\n",
      "Training Epoch 1550: 100%|██████████| 370/370 [00:10<00:00, 36.84it/s]\n",
      "Training Epoch 1551: 100%|██████████| 370/370 [00:10<00:00, 36.59it/s]\n"
     ]
    },
    {
     "name": "stdout",
     "output_type": "stream",
     "text": [
      "Epoch 1550 - Train Loss: 0.5263, Train MSE: 0.5271, Train MAE: 0.5050\n",
      "Epoch 1550 - Validation Loss: 1.8490, Validation MSE: 1.8528, Validation MAE: 1.0086\n"
     ]
    },
    {
     "name": "stderr",
     "output_type": "stream",
     "text": [
      "Training Epoch 1552: 100%|██████████| 370/370 [00:10<00:00, 36.51it/s]\n",
      "Training Epoch 1553: 100%|██████████| 370/370 [00:10<00:00, 36.64it/s]\n",
      "Training Epoch 1554: 100%|██████████| 370/370 [00:10<00:00, 36.73it/s]\n",
      "Training Epoch 1555: 100%|██████████| 370/370 [00:10<00:00, 36.72it/s]\n",
      "Training Epoch 1556: 100%|██████████| 370/370 [00:10<00:00, 36.40it/s]\n",
      "Training Epoch 1557: 100%|██████████| 370/370 [00:10<00:00, 36.65it/s]\n",
      "Training Epoch 1558: 100%|██████████| 370/370 [00:10<00:00, 36.74it/s]\n",
      "Training Epoch 1559: 100%|██████████| 370/370 [00:10<00:00, 36.52it/s]\n",
      "Training Epoch 1560: 100%|██████████| 370/370 [00:10<00:00, 36.72it/s]\n",
      "Training Epoch 1561: 100%|██████████| 370/370 [00:10<00:00, 36.64it/s]\n"
     ]
    },
    {
     "name": "stdout",
     "output_type": "stream",
     "text": [
      "Epoch 1560 - Train Loss: 0.5235, Train MSE: 0.5245, Train MAE: 0.5048\n",
      "Epoch 1560 - Validation Loss: 1.8529, Validation MSE: 1.8568, Validation MAE: 1.0162\n"
     ]
    },
    {
     "name": "stderr",
     "output_type": "stream",
     "text": [
      "Training Epoch 1562: 100%|██████████| 370/370 [00:10<00:00, 36.51it/s]\n",
      "Training Epoch 1563: 100%|██████████| 370/370 [00:10<00:00, 36.79it/s]\n",
      "Training Epoch 1564: 100%|██████████| 370/370 [00:10<00:00, 36.39it/s]\n",
      "Training Epoch 1565: 100%|██████████| 370/370 [00:10<00:00, 36.44it/s]\n",
      "Training Epoch 1566: 100%|██████████| 370/370 [00:10<00:00, 36.79it/s]\n",
      "Training Epoch 1567: 100%|██████████| 370/370 [00:10<00:00, 36.63it/s]\n",
      "Training Epoch 1568: 100%|██████████| 370/370 [00:10<00:00, 36.44it/s]\n",
      "Training Epoch 1569: 100%|██████████| 370/370 [00:10<00:00, 36.53it/s]\n",
      "Training Epoch 1570: 100%|██████████| 370/370 [00:10<00:00, 36.68it/s]\n",
      "Training Epoch 1571: 100%|██████████| 370/370 [00:10<00:00, 36.54it/s]\n"
     ]
    },
    {
     "name": "stdout",
     "output_type": "stream",
     "text": [
      "Epoch 1570 - Train Loss: 0.5204, Train MSE: 0.5209, Train MAE: 0.5031\n",
      "Epoch 1570 - Validation Loss: 1.9237, Validation MSE: 1.9284, Validation MAE: 1.0220\n"
     ]
    },
    {
     "name": "stderr",
     "output_type": "stream",
     "text": [
      "Training Epoch 1572: 100%|██████████| 370/370 [00:10<00:00, 36.53it/s]\n",
      "Training Epoch 1573: 100%|██████████| 370/370 [00:10<00:00, 36.58it/s]\n",
      "Training Epoch 1574: 100%|██████████| 370/370 [00:10<00:00, 36.45it/s]\n",
      "Training Epoch 1575: 100%|██████████| 370/370 [00:10<00:00, 36.50it/s]\n",
      "Training Epoch 1576: 100%|██████████| 370/370 [00:10<00:00, 36.84it/s]\n",
      "Training Epoch 1577: 100%|██████████| 370/370 [00:10<00:00, 36.60it/s]\n",
      "Training Epoch 1578: 100%|██████████| 370/370 [00:10<00:00, 36.41it/s]\n",
      "Training Epoch 1579: 100%|██████████| 370/370 [00:10<00:00, 36.69it/s]\n",
      "Training Epoch 1580: 100%|██████████| 370/370 [00:10<00:00, 36.41it/s]\n",
      "Training Epoch 1581: 100%|██████████| 370/370 [00:10<00:00, 36.49it/s]\n"
     ]
    },
    {
     "name": "stdout",
     "output_type": "stream",
     "text": [
      "Epoch 1580 - Train Loss: 0.5144, Train MSE: 0.5141, Train MAE: 0.5014\n",
      "Epoch 1580 - Validation Loss: 1.9289, Validation MSE: 1.9336, Validation MAE: 1.0221\n"
     ]
    },
    {
     "name": "stderr",
     "output_type": "stream",
     "text": [
      "Training Epoch 1582: 100%|██████████| 370/370 [00:10<00:00, 36.60it/s]\n",
      "Training Epoch 1583: 100%|██████████| 370/370 [00:10<00:00, 36.43it/s]\n",
      "Training Epoch 1584: 100%|██████████| 370/370 [00:10<00:00, 36.50it/s]\n",
      "Training Epoch 1585: 100%|██████████| 370/370 [00:10<00:00, 36.48it/s]\n",
      "Training Epoch 1586: 100%|██████████| 370/370 [00:10<00:00, 36.59it/s]\n",
      "Training Epoch 1587: 100%|██████████| 370/370 [00:10<00:00, 36.50it/s]\n",
      "Training Epoch 1588: 100%|██████████| 370/370 [00:10<00:00, 36.46it/s]\n",
      "Training Epoch 1589: 100%|██████████| 370/370 [00:10<00:00, 36.70it/s]\n",
      "Training Epoch 1590: 100%|██████████| 370/370 [00:10<00:00, 36.35it/s]\n",
      "Training Epoch 1591: 100%|██████████| 370/370 [00:10<00:00, 36.16it/s]\n"
     ]
    },
    {
     "name": "stdout",
     "output_type": "stream",
     "text": [
      "Epoch 1590 - Train Loss: 0.5125, Train MSE: 0.5136, Train MAE: 0.5006\n",
      "Epoch 1590 - Validation Loss: 1.8740, Validation MSE: 1.8781, Validation MAE: 1.0111\n"
     ]
    },
    {
     "name": "stderr",
     "output_type": "stream",
     "text": [
      "Training Epoch 1592: 100%|██████████| 370/370 [00:10<00:00, 36.52it/s]\n",
      "Training Epoch 1593: 100%|██████████| 370/370 [00:10<00:00, 36.71it/s]\n",
      "Training Epoch 1594: 100%|██████████| 370/370 [00:10<00:00, 36.55it/s]\n",
      "Training Epoch 1595: 100%|██████████| 370/370 [00:10<00:00, 36.64it/s]\n",
      "Training Epoch 1596: 100%|██████████| 370/370 [00:10<00:00, 36.47it/s]\n",
      "Training Epoch 1597: 100%|██████████| 370/370 [00:10<00:00, 36.66it/s]\n",
      "Training Epoch 1598: 100%|██████████| 370/370 [00:10<00:00, 36.63it/s]\n",
      "Training Epoch 1599: 100%|██████████| 370/370 [00:10<00:00, 36.68it/s]\n",
      "Training Epoch 1600: 100%|██████████| 370/370 [00:10<00:00, 36.65it/s]\n",
      "Training Epoch 1601: 100%|██████████| 370/370 [00:10<00:00, 36.60it/s]\n"
     ]
    },
    {
     "name": "stdout",
     "output_type": "stream",
     "text": [
      "Epoch 1600 - Train Loss: 0.5105, Train MSE: 0.5111, Train MAE: 0.5019\n",
      "Epoch 1600 - Validation Loss: 1.8369, Validation MSE: 1.8411, Validation MAE: 1.0134\n"
     ]
    },
    {
     "name": "stderr",
     "output_type": "stream",
     "text": [
      "Training Epoch 1602: 100%|██████████| 370/370 [00:10<00:00, 36.56it/s]\n",
      "Training Epoch 1603: 100%|██████████| 370/370 [00:10<00:00, 36.59it/s]\n",
      "Training Epoch 1604: 100%|██████████| 370/370 [00:10<00:00, 36.54it/s]\n",
      "Training Epoch 1605: 100%|██████████| 370/370 [00:10<00:00, 36.68it/s]\n",
      "Training Epoch 1606: 100%|██████████| 370/370 [00:10<00:00, 36.70it/s]\n",
      "Training Epoch 1607: 100%|██████████| 370/370 [00:10<00:00, 36.49it/s]\n",
      "Training Epoch 1608: 100%|██████████| 370/370 [00:10<00:00, 36.84it/s]\n",
      "Training Epoch 1609: 100%|██████████| 370/370 [00:10<00:00, 36.58it/s]\n",
      "Training Epoch 1610: 100%|██████████| 370/370 [00:10<00:00, 36.58it/s]\n",
      "Training Epoch 1611: 100%|██████████| 370/370 [00:10<00:00, 36.67it/s]\n"
     ]
    },
    {
     "name": "stdout",
     "output_type": "stream",
     "text": [
      "Epoch 1610 - Train Loss: 0.5089, Train MSE: 0.5091, Train MAE: 0.4970\n",
      "Epoch 1610 - Validation Loss: 1.9504, Validation MSE: 1.9547, Validation MAE: 1.0364\n"
     ]
    },
    {
     "name": "stderr",
     "output_type": "stream",
     "text": [
      "Training Epoch 1612: 100%|██████████| 370/370 [00:10<00:00, 36.77it/s]\n",
      "Training Epoch 1613: 100%|██████████| 370/370 [00:10<00:00, 36.56it/s]\n",
      "Training Epoch 1614: 100%|██████████| 370/370 [00:10<00:00, 36.81it/s]\n",
      "Training Epoch 1615: 100%|██████████| 370/370 [00:10<00:00, 36.73it/s]\n",
      "Training Epoch 1616: 100%|██████████| 370/370 [00:10<00:00, 36.59it/s]\n",
      "Training Epoch 1617: 100%|██████████| 370/370 [00:10<00:00, 36.50it/s]\n",
      "Training Epoch 1618: 100%|██████████| 370/370 [00:10<00:00, 36.66it/s]\n",
      "Training Epoch 1619: 100%|██████████| 370/370 [00:10<00:00, 36.67it/s]\n",
      "Training Epoch 1620: 100%|██████████| 370/370 [00:10<00:00, 36.64it/s]\n",
      "Training Epoch 1621: 100%|██████████| 370/370 [00:10<00:00, 36.84it/s]\n"
     ]
    },
    {
     "name": "stdout",
     "output_type": "stream",
     "text": [
      "Epoch 1620 - Train Loss: 0.5258, Train MSE: 0.5266, Train MAE: 0.5070\n",
      "Epoch 1620 - Validation Loss: 1.8702, Validation MSE: 1.8739, Validation MAE: 1.0150\n"
     ]
    },
    {
     "name": "stderr",
     "output_type": "stream",
     "text": [
      "Training Epoch 1622: 100%|██████████| 370/370 [00:10<00:00, 36.71it/s]\n",
      "Training Epoch 1623: 100%|██████████| 370/370 [00:10<00:00, 36.56it/s]\n",
      "Training Epoch 1624: 100%|██████████| 370/370 [00:10<00:00, 36.75it/s]\n",
      "Training Epoch 1625: 100%|██████████| 370/370 [00:10<00:00, 36.81it/s]\n",
      "Training Epoch 1626: 100%|██████████| 370/370 [00:10<00:00, 36.68it/s]\n",
      "Training Epoch 1627: 100%|██████████| 370/370 [00:10<00:00, 36.73it/s]\n",
      "Training Epoch 1628: 100%|██████████| 370/370 [00:10<00:00, 36.63it/s]\n",
      "Training Epoch 1629: 100%|██████████| 370/370 [00:10<00:00, 36.24it/s]\n",
      "Training Epoch 1630: 100%|██████████| 370/370 [00:10<00:00, 36.69it/s]\n",
      "Training Epoch 1631: 100%|██████████| 370/370 [00:10<00:00, 36.44it/s]\n"
     ]
    },
    {
     "name": "stdout",
     "output_type": "stream",
     "text": [
      "Epoch 1630 - Train Loss: 0.5102, Train MSE: 0.5107, Train MAE: 0.4991\n",
      "Epoch 1630 - Validation Loss: 1.8471, Validation MSE: 1.8506, Validation MAE: 1.0028\n"
     ]
    },
    {
     "name": "stderr",
     "output_type": "stream",
     "text": [
      "Training Epoch 1632: 100%|██████████| 370/370 [00:10<00:00, 36.53it/s]\n",
      "Training Epoch 1633: 100%|██████████| 370/370 [00:10<00:00, 36.68it/s]\n",
      "Training Epoch 1634: 100%|██████████| 370/370 [00:10<00:00, 36.52it/s]\n",
      "Training Epoch 1635: 100%|██████████| 370/370 [00:10<00:00, 36.65it/s]\n",
      "Training Epoch 1636: 100%|██████████| 370/370 [00:10<00:00, 36.47it/s]\n",
      "Training Epoch 1637: 100%|██████████| 370/370 [00:10<00:00, 36.76it/s]\n",
      "Training Epoch 1638: 100%|██████████| 370/370 [00:10<00:00, 36.58it/s]\n",
      "Training Epoch 1639: 100%|██████████| 370/370 [00:10<00:00, 36.47it/s]\n",
      "Training Epoch 1640: 100%|██████████| 370/370 [00:10<00:00, 36.80it/s]\n",
      "Training Epoch 1641: 100%|██████████| 370/370 [00:10<00:00, 36.90it/s]\n"
     ]
    },
    {
     "name": "stdout",
     "output_type": "stream",
     "text": [
      "Epoch 1640 - Train Loss: 0.5209, Train MSE: 0.5219, Train MAE: 0.5036\n",
      "Epoch 1640 - Validation Loss: 1.8411, Validation MSE: 1.8452, Validation MAE: 1.0052\n"
     ]
    },
    {
     "name": "stderr",
     "output_type": "stream",
     "text": [
      "Training Epoch 1642: 100%|██████████| 370/370 [00:10<00:00, 36.85it/s]\n",
      "Training Epoch 1643: 100%|██████████| 370/370 [00:09<00:00, 37.04it/s]\n",
      "Training Epoch 1644: 100%|██████████| 370/370 [00:09<00:00, 37.37it/s]\n",
      "Training Epoch 1645: 100%|██████████| 370/370 [00:09<00:00, 37.81it/s]\n",
      "Training Epoch 1646: 100%|██████████| 370/370 [00:09<00:00, 37.82it/s]\n",
      "Training Epoch 1647: 100%|██████████| 370/370 [00:09<00:00, 37.96it/s]\n",
      "Training Epoch 1648: 100%|██████████| 370/370 [00:09<00:00, 37.93it/s]\n",
      "Training Epoch 1649: 100%|██████████| 370/370 [00:09<00:00, 38.10it/s]\n",
      "Training Epoch 1650: 100%|██████████| 370/370 [00:09<00:00, 37.92it/s]\n",
      "Training Epoch 1651: 100%|██████████| 370/370 [00:09<00:00, 37.78it/s]\n"
     ]
    },
    {
     "name": "stdout",
     "output_type": "stream",
     "text": [
      "Epoch 1650 - Train Loss: 0.5127, Train MSE: 0.5137, Train MAE: 0.5019\n",
      "Epoch 1650 - Validation Loss: 1.8467, Validation MSE: 1.8504, Validation MAE: 1.0143\n"
     ]
    },
    {
     "name": "stderr",
     "output_type": "stream",
     "text": [
      "Training Epoch 1652: 100%|██████████| 370/370 [00:09<00:00, 37.88it/s]\n",
      "Training Epoch 1653: 100%|██████████| 370/370 [00:09<00:00, 38.09it/s]\n",
      "Training Epoch 1654: 100%|██████████| 370/370 [00:09<00:00, 37.91it/s]\n",
      "Training Epoch 1655: 100%|██████████| 370/370 [00:09<00:00, 37.83it/s]\n",
      "Training Epoch 1656: 100%|██████████| 370/370 [00:09<00:00, 37.97it/s]\n",
      "Training Epoch 1657: 100%|██████████| 370/370 [00:09<00:00, 37.88it/s]\n",
      "Training Epoch 1658: 100%|██████████| 370/370 [00:09<00:00, 37.86it/s]\n",
      "Training Epoch 1659: 100%|██████████| 370/370 [00:09<00:00, 38.05it/s]\n",
      "Training Epoch 1660: 100%|██████████| 370/370 [00:09<00:00, 37.66it/s]\n",
      "Training Epoch 1661: 100%|██████████| 370/370 [00:09<00:00, 37.92it/s]\n"
     ]
    },
    {
     "name": "stdout",
     "output_type": "stream",
     "text": [
      "Epoch 1660 - Train Loss: 0.5170, Train MSE: 0.5169, Train MAE: 0.5038\n",
      "Epoch 1660 - Validation Loss: 1.8396, Validation MSE: 1.8434, Validation MAE: 1.0069\n"
     ]
    },
    {
     "name": "stderr",
     "output_type": "stream",
     "text": [
      "Training Epoch 1662: 100%|██████████| 370/370 [00:09<00:00, 37.91it/s]\n",
      "Training Epoch 1663: 100%|██████████| 370/370 [00:09<00:00, 37.85it/s]\n",
      "Training Epoch 1664: 100%|██████████| 370/370 [00:09<00:00, 37.77it/s]\n",
      "Training Epoch 1665: 100%|██████████| 370/370 [00:09<00:00, 38.12it/s]\n",
      "Training Epoch 1666: 100%|██████████| 370/370 [00:09<00:00, 37.82it/s]\n",
      "Training Epoch 1667: 100%|██████████| 370/370 [00:09<00:00, 37.87it/s]\n",
      "Training Epoch 1668: 100%|██████████| 370/370 [00:09<00:00, 37.96it/s]\n",
      "Training Epoch 1669: 100%|██████████| 370/370 [00:09<00:00, 37.88it/s]\n",
      "Training Epoch 1670: 100%|██████████| 370/370 [00:09<00:00, 37.90it/s]\n",
      "Training Epoch 1671: 100%|██████████| 370/370 [00:09<00:00, 37.93it/s]\n"
     ]
    },
    {
     "name": "stdout",
     "output_type": "stream",
     "text": [
      "Epoch 1670 - Train Loss: 0.5168, Train MSE: 0.5178, Train MAE: 0.5045\n",
      "Epoch 1670 - Validation Loss: 1.8361, Validation MSE: 1.8402, Validation MAE: 1.0042\n"
     ]
    },
    {
     "name": "stderr",
     "output_type": "stream",
     "text": [
      "Training Epoch 1672: 100%|██████████| 370/370 [00:09<00:00, 37.98it/s]\n",
      "Training Epoch 1673: 100%|██████████| 370/370 [00:09<00:00, 37.77it/s]\n",
      "Training Epoch 1674: 100%|██████████| 370/370 [00:09<00:00, 37.83it/s]\n",
      "Training Epoch 1675: 100%|██████████| 370/370 [00:09<00:00, 37.96it/s]\n",
      "Training Epoch 1676: 100%|██████████| 370/370 [00:09<00:00, 37.85it/s]\n",
      "Training Epoch 1677: 100%|██████████| 370/370 [00:09<00:00, 37.85it/s]\n",
      "Training Epoch 1678: 100%|██████████| 370/370 [00:09<00:00, 37.94it/s]\n",
      "Training Epoch 1679: 100%|██████████| 370/370 [00:09<00:00, 37.74it/s]\n",
      "Training Epoch 1680: 100%|██████████| 370/370 [00:09<00:00, 37.82it/s]\n",
      "Training Epoch 1681: 100%|██████████| 370/370 [00:09<00:00, 37.95it/s]\n"
     ]
    },
    {
     "name": "stdout",
     "output_type": "stream",
     "text": [
      "Epoch 1680 - Train Loss: 0.5137, Train MSE: 0.5149, Train MAE: 0.4986\n",
      "Epoch 1680 - Validation Loss: 1.8480, Validation MSE: 1.8518, Validation MAE: 1.0175\n"
     ]
    },
    {
     "name": "stderr",
     "output_type": "stream",
     "text": [
      "Training Epoch 1682: 100%|██████████| 370/370 [00:09<00:00, 38.00it/s]\n",
      "Training Epoch 1683: 100%|██████████| 370/370 [00:09<00:00, 37.83it/s]\n",
      "Training Epoch 1684: 100%|██████████| 370/370 [00:09<00:00, 37.73it/s]\n",
      "Training Epoch 1685: 100%|██████████| 370/370 [00:09<00:00, 38.22it/s]\n",
      "Training Epoch 1686: 100%|██████████| 370/370 [00:09<00:00, 37.76it/s]\n",
      "Training Epoch 1687: 100%|██████████| 370/370 [00:09<00:00, 37.83it/s]\n",
      "Training Epoch 1688: 100%|██████████| 370/370 [00:09<00:00, 38.06it/s]\n",
      "Training Epoch 1689: 100%|██████████| 370/370 [00:09<00:00, 37.68it/s]\n",
      "Training Epoch 1690: 100%|██████████| 370/370 [00:09<00:00, 37.75it/s]\n",
      "Training Epoch 1691: 100%|██████████| 370/370 [00:09<00:00, 38.04it/s]\n"
     ]
    },
    {
     "name": "stdout",
     "output_type": "stream",
     "text": [
      "Epoch 1690 - Train Loss: 0.5152, Train MSE: 0.5145, Train MAE: 0.5002\n",
      "Epoch 1690 - Validation Loss: 1.8371, Validation MSE: 1.8410, Validation MAE: 1.0044\n"
     ]
    },
    {
     "name": "stderr",
     "output_type": "stream",
     "text": [
      "Training Epoch 1692: 100%|██████████| 370/370 [00:09<00:00, 37.75it/s]\n",
      "Training Epoch 1693: 100%|██████████| 370/370 [00:09<00:00, 37.85it/s]\n",
      "Training Epoch 1694: 100%|██████████| 370/370 [00:09<00:00, 37.88it/s]\n",
      "Training Epoch 1695: 100%|██████████| 370/370 [00:09<00:00, 37.83it/s]\n",
      "Training Epoch 1696: 100%|██████████| 370/370 [00:09<00:00, 37.80it/s]\n",
      "Training Epoch 1697: 100%|██████████| 370/370 [00:09<00:00, 38.03it/s]\n",
      "Training Epoch 1698: 100%|██████████| 370/370 [00:09<00:00, 37.61it/s]\n",
      "Training Epoch 1699: 100%|██████████| 370/370 [00:09<00:00, 37.82it/s]\n",
      "Training Epoch 1700: 100%|██████████| 370/370 [00:09<00:00, 38.16it/s]\n",
      "Training Epoch 1701: 100%|██████████| 370/370 [00:09<00:00, 38.20it/s]\n"
     ]
    },
    {
     "name": "stdout",
     "output_type": "stream",
     "text": [
      "Epoch 1700 - Train Loss: 0.5124, Train MSE: 0.5127, Train MAE: 0.5006\n",
      "Epoch 1700 - Validation Loss: 1.8489, Validation MSE: 1.8528, Validation MAE: 1.0025\n"
     ]
    },
    {
     "name": "stderr",
     "output_type": "stream",
     "text": [
      "Training Epoch 1702: 100%|██████████| 370/370 [00:09<00:00, 37.75it/s]\n",
      "Training Epoch 1703: 100%|██████████| 370/370 [00:09<00:00, 37.72it/s]\n",
      "Training Epoch 1704: 100%|██████████| 370/370 [00:09<00:00, 38.02it/s]\n",
      "Training Epoch 1705: 100%|██████████| 370/370 [00:09<00:00, 37.96it/s]\n",
      "Training Epoch 1706: 100%|██████████| 370/370 [00:09<00:00, 37.93it/s]\n",
      "Training Epoch 1707: 100%|██████████| 370/370 [00:09<00:00, 37.95it/s]\n",
      "Training Epoch 1708: 100%|██████████| 370/370 [00:09<00:00, 37.68it/s]\n",
      "Training Epoch 1709: 100%|██████████| 370/370 [00:09<00:00, 37.89it/s]\n",
      "Training Epoch 1710: 100%|██████████| 370/370 [00:09<00:00, 38.04it/s]\n",
      "Training Epoch 1711: 100%|██████████| 370/370 [00:09<00:00, 37.85it/s]\n"
     ]
    },
    {
     "name": "stdout",
     "output_type": "stream",
     "text": [
      "Epoch 1710 - Train Loss: 0.5156, Train MSE: 0.5148, Train MAE: 0.5022\n",
      "Epoch 1710 - Validation Loss: 1.8787, Validation MSE: 1.8830, Validation MAE: 1.0184\n"
     ]
    },
    {
     "name": "stderr",
     "output_type": "stream",
     "text": [
      "Training Epoch 1712: 100%|██████████| 370/370 [00:09<00:00, 37.85it/s]\n",
      "Training Epoch 1713: 100%|██████████| 370/370 [00:09<00:00, 37.80it/s]\n",
      "Training Epoch 1714: 100%|██████████| 370/370 [00:09<00:00, 37.79it/s]\n",
      "Training Epoch 1715: 100%|██████████| 370/370 [00:09<00:00, 37.93it/s]\n",
      "Training Epoch 1716: 100%|██████████| 370/370 [00:09<00:00, 37.55it/s]\n",
      "Training Epoch 1717: 100%|██████████| 370/370 [00:09<00:00, 37.98it/s]\n",
      "Training Epoch 1718: 100%|██████████| 370/370 [00:09<00:00, 37.80it/s]\n",
      "Training Epoch 1719: 100%|██████████| 370/370 [00:09<00:00, 37.83it/s]\n",
      "Training Epoch 1720: 100%|██████████| 370/370 [00:09<00:00, 38.02it/s]\n",
      "Training Epoch 1721: 100%|██████████| 370/370 [00:09<00:00, 37.88it/s]\n"
     ]
    },
    {
     "name": "stdout",
     "output_type": "stream",
     "text": [
      "Epoch 1720 - Train Loss: 0.5078, Train MSE: 0.5086, Train MAE: 0.4955\n",
      "Epoch 1720 - Validation Loss: 1.7953, Validation MSE: 1.7989, Validation MAE: 0.9991\n"
     ]
    },
    {
     "name": "stderr",
     "output_type": "stream",
     "text": [
      "Training Epoch 1722: 100%|██████████| 370/370 [00:09<00:00, 37.66it/s]\n",
      "Training Epoch 1723: 100%|██████████| 370/370 [00:09<00:00, 37.95it/s]\n",
      "Training Epoch 1724: 100%|██████████| 370/370 [00:09<00:00, 37.80it/s]\n",
      "Training Epoch 1725: 100%|██████████| 370/370 [00:09<00:00, 37.85it/s]\n",
      "Training Epoch 1726: 100%|██████████| 370/370 [00:09<00:00, 37.95it/s]\n",
      "Training Epoch 1727: 100%|██████████| 370/370 [00:09<00:00, 37.65it/s]\n",
      "Training Epoch 1728: 100%|██████████| 370/370 [00:09<00:00, 37.94it/s]\n",
      "Training Epoch 1729: 100%|██████████| 370/370 [00:09<00:00, 37.87it/s]\n",
      "Training Epoch 1730: 100%|██████████| 370/370 [00:09<00:00, 37.76it/s]\n",
      "Training Epoch 1731: 100%|██████████| 370/370 [00:09<00:00, 37.68it/s]\n"
     ]
    },
    {
     "name": "stdout",
     "output_type": "stream",
     "text": [
      "Epoch 1730 - Train Loss: 0.5110, Train MSE: 0.5072, Train MAE: 0.4997\n",
      "Epoch 1730 - Validation Loss: 1.8661, Validation MSE: 1.8698, Validation MAE: 1.0197\n"
     ]
    },
    {
     "name": "stderr",
     "output_type": "stream",
     "text": [
      "Training Epoch 1732: 100%|██████████| 370/370 [00:09<00:00, 37.72it/s]\n",
      "Training Epoch 1733: 100%|██████████| 370/370 [00:09<00:00, 38.02it/s]\n",
      "Training Epoch 1734: 100%|██████████| 370/370 [00:09<00:00, 37.69it/s]\n",
      "Training Epoch 1735: 100%|██████████| 370/370 [00:09<00:00, 37.54it/s]\n",
      "Training Epoch 1736: 100%|██████████| 370/370 [00:09<00:00, 37.79it/s]\n",
      "Training Epoch 1737: 100%|██████████| 370/370 [00:09<00:00, 37.49it/s]\n",
      "Training Epoch 1738: 100%|██████████| 370/370 [00:09<00:00, 37.57it/s]\n",
      "Training Epoch 1739: 100%|██████████| 370/370 [00:09<00:00, 38.08it/s]\n",
      "Training Epoch 1740: 100%|██████████| 370/370 [00:09<00:00, 37.69it/s]\n",
      "Training Epoch 1741: 100%|██████████| 370/370 [00:09<00:00, 37.65it/s]\n"
     ]
    },
    {
     "name": "stdout",
     "output_type": "stream",
     "text": [
      "Epoch 1740 - Train Loss: 0.5148, Train MSE: 0.5109, Train MAE: 0.4970\n",
      "Epoch 1740 - Validation Loss: 1.7972, Validation MSE: 1.8005, Validation MAE: 0.9996\n"
     ]
    },
    {
     "name": "stderr",
     "output_type": "stream",
     "text": [
      "Training Epoch 1742: 100%|██████████| 370/370 [00:09<00:00, 37.93it/s]\n",
      "Training Epoch 1743: 100%|██████████| 370/370 [00:09<00:00, 37.74it/s]\n",
      "Training Epoch 1744: 100%|██████████| 370/370 [00:09<00:00, 37.71it/s]\n",
      "Training Epoch 1745: 100%|██████████| 370/370 [00:09<00:00, 38.01it/s]\n",
      "Training Epoch 1746: 100%|██████████| 370/370 [00:09<00:00, 37.72it/s]\n",
      "Training Epoch 1747: 100%|██████████| 370/370 [00:09<00:00, 37.68it/s]\n",
      "Training Epoch 1748: 100%|██████████| 370/370 [00:09<00:00, 37.89it/s]\n",
      "Training Epoch 1749: 100%|██████████| 370/370 [00:09<00:00, 37.69it/s]\n",
      "Training Epoch 1750: 100%|██████████| 370/370 [00:09<00:00, 37.65it/s]\n",
      "Training Epoch 1751: 100%|██████████| 370/370 [00:09<00:00, 37.65it/s]\n"
     ]
    },
    {
     "name": "stdout",
     "output_type": "stream",
     "text": [
      "Epoch 1750 - Train Loss: 0.5056, Train MSE: 0.5064, Train MAE: 0.4972\n",
      "Epoch 1750 - Validation Loss: 1.9020, Validation MSE: 1.9062, Validation MAE: 1.0211\n"
     ]
    },
    {
     "name": "stderr",
     "output_type": "stream",
     "text": [
      "Training Epoch 1752: 100%|██████████| 370/370 [00:09<00:00, 37.73it/s]\n",
      "Training Epoch 1753: 100%|██████████| 370/370 [00:09<00:00, 37.80it/s]\n",
      "Training Epoch 1754: 100%|██████████| 370/370 [00:09<00:00, 37.80it/s]\n",
      "Training Epoch 1755: 100%|██████████| 370/370 [00:09<00:00, 37.99it/s]\n",
      "Training Epoch 1756: 100%|██████████| 370/370 [00:09<00:00, 37.68it/s]\n",
      "Training Epoch 1757: 100%|██████████| 370/370 [00:09<00:00, 37.76it/s]\n",
      "Training Epoch 1758: 100%|██████████| 370/370 [00:09<00:00, 37.75it/s]\n",
      "Training Epoch 1759: 100%|██████████| 370/370 [00:09<00:00, 37.57it/s]\n",
      "Training Epoch 1760: 100%|██████████| 370/370 [00:09<00:00, 37.84it/s]\n",
      "Training Epoch 1761: 100%|██████████| 370/370 [00:09<00:00, 37.98it/s]\n"
     ]
    },
    {
     "name": "stdout",
     "output_type": "stream",
     "text": [
      "Epoch 1760 - Train Loss: 0.5075, Train MSE: 0.5082, Train MAE: 0.4989\n",
      "Epoch 1760 - Validation Loss: 1.8381, Validation MSE: 1.8418, Validation MAE: 1.0037\n"
     ]
    },
    {
     "name": "stderr",
     "output_type": "stream",
     "text": [
      "Training Epoch 1762: 100%|██████████| 370/370 [00:09<00:00, 37.85it/s]\n",
      "Training Epoch 1763: 100%|██████████| 370/370 [00:09<00:00, 37.88it/s]\n",
      "Training Epoch 1764: 100%|██████████| 370/370 [00:09<00:00, 37.65it/s]\n",
      "Training Epoch 1765: 100%|██████████| 370/370 [00:09<00:00, 37.94it/s]\n",
      "Training Epoch 1766: 100%|██████████| 370/370 [00:09<00:00, 37.91it/s]\n",
      "Training Epoch 1767: 100%|██████████| 370/370 [00:09<00:00, 37.85it/s]\n",
      "Training Epoch 1768: 100%|██████████| 370/370 [00:09<00:00, 37.95it/s]\n",
      "Training Epoch 1769: 100%|██████████| 370/370 [00:09<00:00, 37.75it/s]\n",
      "Training Epoch 1770: 100%|██████████| 370/370 [00:09<00:00, 37.60it/s]\n",
      "Training Epoch 1771: 100%|██████████| 370/370 [00:09<00:00, 37.92it/s]\n"
     ]
    },
    {
     "name": "stdout",
     "output_type": "stream",
     "text": [
      "Epoch 1770 - Train Loss: 0.4990, Train MSE: 0.4994, Train MAE: 0.4924\n",
      "Epoch 1770 - Validation Loss: 1.8369, Validation MSE: 1.8406, Validation MAE: 1.0184\n"
     ]
    },
    {
     "name": "stderr",
     "output_type": "stream",
     "text": [
      "Training Epoch 1772: 100%|██████████| 370/370 [00:09<00:00, 37.82it/s]\n",
      "Training Epoch 1773: 100%|██████████| 370/370 [00:09<00:00, 37.79it/s]\n",
      "Training Epoch 1774: 100%|██████████| 370/370 [00:09<00:00, 37.84it/s]\n",
      "Training Epoch 1775: 100%|██████████| 370/370 [00:09<00:00, 37.59it/s]\n",
      "Training Epoch 1776: 100%|██████████| 370/370 [00:09<00:00, 37.72it/s]\n",
      "Training Epoch 1777: 100%|██████████| 370/370 [00:09<00:00, 37.95it/s]\n",
      "Training Epoch 1778: 100%|██████████| 370/370 [00:09<00:00, 38.06it/s]\n",
      "Training Epoch 1779: 100%|██████████| 370/370 [00:09<00:00, 37.55it/s]\n",
      "Training Epoch 1780: 100%|██████████| 370/370 [00:09<00:00, 37.86it/s]\n",
      "Training Epoch 1781: 100%|██████████| 370/370 [00:09<00:00, 37.83it/s]\n"
     ]
    },
    {
     "name": "stdout",
     "output_type": "stream",
     "text": [
      "Epoch 1780 - Train Loss: 0.5072, Train MSE: 0.5075, Train MAE: 0.4964\n",
      "Epoch 1780 - Validation Loss: 1.8177, Validation MSE: 1.8213, Validation MAE: 0.9953\n"
     ]
    },
    {
     "name": "stderr",
     "output_type": "stream",
     "text": [
      "Training Epoch 1782: 100%|██████████| 370/370 [00:09<00:00, 37.80it/s]\n",
      "Training Epoch 1783: 100%|██████████| 370/370 [00:09<00:00, 37.73it/s]\n",
      "Training Epoch 1784: 100%|██████████| 370/370 [00:09<00:00, 37.78it/s]\n",
      "Training Epoch 1785: 100%|██████████| 370/370 [00:09<00:00, 37.69it/s]\n",
      "Training Epoch 1786: 100%|██████████| 370/370 [00:09<00:00, 37.49it/s]\n",
      "Training Epoch 1787: 100%|██████████| 370/370 [00:09<00:00, 37.90it/s]\n",
      "Training Epoch 1788: 100%|██████████| 370/370 [00:09<00:00, 37.57it/s]\n",
      "Training Epoch 1789: 100%|██████████| 370/370 [00:09<00:00, 37.59it/s]\n",
      "Training Epoch 1790: 100%|██████████| 370/370 [00:09<00:00, 37.83it/s]\n",
      "Training Epoch 1791: 100%|██████████| 370/370 [00:09<00:00, 37.68it/s]\n"
     ]
    },
    {
     "name": "stdout",
     "output_type": "stream",
     "text": [
      "Epoch 1790 - Train Loss: 0.5169, Train MSE: 0.5178, Train MAE: 0.4998\n",
      "Epoch 1790 - Validation Loss: 1.8442, Validation MSE: 1.8481, Validation MAE: 1.0088\n"
     ]
    },
    {
     "name": "stderr",
     "output_type": "stream",
     "text": [
      "Training Epoch 1792: 100%|██████████| 370/370 [00:09<00:00, 37.70it/s]\n",
      "Training Epoch 1793: 100%|██████████| 370/370 [00:09<00:00, 37.72it/s]\n",
      "Training Epoch 1794: 100%|██████████| 370/370 [00:09<00:00, 37.59it/s]\n",
      "Training Epoch 1795: 100%|██████████| 370/370 [00:09<00:00, 37.51it/s]\n",
      "Training Epoch 1796: 100%|██████████| 370/370 [00:09<00:00, 37.95it/s]\n",
      "Training Epoch 1797: 100%|██████████| 370/370 [00:09<00:00, 37.80it/s]\n",
      "Training Epoch 1798: 100%|██████████| 370/370 [00:09<00:00, 37.76it/s]\n",
      "Training Epoch 1799: 100%|██████████| 370/370 [00:09<00:00, 37.64it/s]\n",
      "Training Epoch 1800: 100%|██████████| 370/370 [00:09<00:00, 37.80it/s]\n",
      "Training Epoch 1801: 100%|██████████| 370/370 [00:09<00:00, 37.69it/s]\n"
     ]
    },
    {
     "name": "stdout",
     "output_type": "stream",
     "text": [
      "Epoch 1800 - Train Loss: 0.5100, Train MSE: 0.5090, Train MAE: 0.5005\n",
      "Epoch 1800 - Validation Loss: 1.8455, Validation MSE: 1.8491, Validation MAE: 1.0033\n"
     ]
    },
    {
     "name": "stderr",
     "output_type": "stream",
     "text": [
      "Training Epoch 1802: 100%|██████████| 370/370 [00:09<00:00, 37.79it/s]\n",
      "Training Epoch 1803: 100%|██████████| 370/370 [00:09<00:00, 37.76it/s]\n",
      "Training Epoch 1804: 100%|██████████| 370/370 [00:09<00:00, 37.61it/s]\n",
      "Training Epoch 1805: 100%|██████████| 370/370 [00:09<00:00, 37.77it/s]\n",
      "Training Epoch 1806: 100%|██████████| 370/370 [00:09<00:00, 37.89it/s]\n",
      "Training Epoch 1807: 100%|██████████| 370/370 [00:09<00:00, 37.63it/s]\n",
      "Training Epoch 1808: 100%|██████████| 370/370 [00:09<00:00, 37.61it/s]\n",
      "Training Epoch 1809: 100%|██████████| 370/370 [00:09<00:00, 37.63it/s]\n",
      "Training Epoch 1810: 100%|██████████| 370/370 [00:09<00:00, 37.59it/s]\n",
      "Training Epoch 1811: 100%|██████████| 370/370 [00:09<00:00, 37.64it/s]\n"
     ]
    },
    {
     "name": "stdout",
     "output_type": "stream",
     "text": [
      "Epoch 1810 - Train Loss: 0.5049, Train MSE: 0.5052, Train MAE: 0.4944\n",
      "Epoch 1810 - Validation Loss: 1.8422, Validation MSE: 1.8461, Validation MAE: 1.0056\n"
     ]
    },
    {
     "name": "stderr",
     "output_type": "stream",
     "text": [
      "Training Epoch 1812: 100%|██████████| 370/370 [00:10<00:00, 36.34it/s]\n",
      "Training Epoch 1813: 100%|██████████| 370/370 [00:09<00:00, 37.96it/s]\n",
      "Training Epoch 1814: 100%|██████████| 370/370 [00:10<00:00, 36.96it/s]\n",
      "Training Epoch 1815: 100%|██████████| 370/370 [00:10<00:00, 36.87it/s]\n",
      "Training Epoch 1816: 100%|██████████| 370/370 [00:09<00:00, 37.04it/s]\n",
      "Training Epoch 1817: 100%|██████████| 370/370 [00:10<00:00, 36.82it/s]\n",
      "Training Epoch 1818: 100%|██████████| 370/370 [00:10<00:00, 36.90it/s]\n",
      "Training Epoch 1819: 100%|██████████| 370/370 [00:09<00:00, 37.06it/s]\n",
      "Training Epoch 1820: 100%|██████████| 370/370 [00:09<00:00, 37.01it/s]\n",
      "Training Epoch 1821: 100%|██████████| 370/370 [00:10<00:00, 36.91it/s]\n"
     ]
    },
    {
     "name": "stdout",
     "output_type": "stream",
     "text": [
      "Epoch 1820 - Train Loss: 0.5131, Train MSE: 0.5136, Train MAE: 0.4995\n",
      "Epoch 1820 - Validation Loss: 1.8830, Validation MSE: 1.8871, Validation MAE: 1.0107\n"
     ]
    },
    {
     "name": "stderr",
     "output_type": "stream",
     "text": [
      "Training Epoch 1822: 100%|██████████| 370/370 [00:09<00:00, 37.11it/s]\n",
      "Training Epoch 1823: 100%|██████████| 370/370 [00:10<00:00, 36.98it/s]\n",
      "Training Epoch 1824: 100%|██████████| 370/370 [00:09<00:00, 37.09it/s]\n",
      "Training Epoch 1825: 100%|██████████| 370/370 [00:09<00:00, 37.08it/s]\n",
      "Training Epoch 1826: 100%|██████████| 370/370 [00:10<00:00, 36.95it/s]\n",
      "Training Epoch 1827: 100%|██████████| 370/370 [00:10<00:00, 36.86it/s]\n",
      "Training Epoch 1828: 100%|██████████| 370/370 [00:09<00:00, 37.06it/s]\n",
      "Training Epoch 1829: 100%|██████████| 370/370 [00:09<00:00, 37.03it/s]\n",
      "Training Epoch 1830: 100%|██████████| 370/370 [00:10<00:00, 36.88it/s]\n",
      "Training Epoch 1831: 100%|██████████| 370/370 [00:10<00:00, 36.84it/s]\n"
     ]
    },
    {
     "name": "stdout",
     "output_type": "stream",
     "text": [
      "Epoch 1830 - Train Loss: 0.5116, Train MSE: 0.5126, Train MAE: 0.4990\n",
      "Epoch 1830 - Validation Loss: 1.8325, Validation MSE: 1.8366, Validation MAE: 1.0011\n"
     ]
    },
    {
     "name": "stderr",
     "output_type": "stream",
     "text": [
      "Training Epoch 1832: 100%|██████████| 370/370 [00:09<00:00, 37.16it/s]\n",
      "Training Epoch 1833: 100%|██████████| 370/370 [00:10<00:00, 36.93it/s]\n",
      "Training Epoch 1834: 100%|██████████| 370/370 [00:10<00:00, 36.95it/s]\n",
      "Training Epoch 1835: 100%|██████████| 370/370 [00:09<00:00, 37.21it/s]\n",
      "Training Epoch 1836: 100%|██████████| 370/370 [00:10<00:00, 36.90it/s]\n",
      "Training Epoch 1837: 100%|██████████| 370/370 [00:10<00:00, 36.80it/s]\n",
      "Training Epoch 1838: 100%|██████████| 370/370 [00:09<00:00, 37.03it/s]\n",
      "Training Epoch 1839: 100%|██████████| 370/370 [00:10<00:00, 36.87it/s]\n",
      "Training Epoch 1840: 100%|██████████| 370/370 [00:10<00:00, 36.77it/s]\n",
      "Training Epoch 1841: 100%|██████████| 370/370 [00:10<00:00, 36.81it/s]\n"
     ]
    },
    {
     "name": "stdout",
     "output_type": "stream",
     "text": [
      "Epoch 1840 - Train Loss: 0.5019, Train MSE: 0.5020, Train MAE: 0.4920\n",
      "Epoch 1840 - Validation Loss: 1.8327, Validation MSE: 1.8360, Validation MAE: 1.0036\n"
     ]
    },
    {
     "name": "stderr",
     "output_type": "stream",
     "text": [
      "Training Epoch 1842: 100%|██████████| 370/370 [00:10<00:00, 36.93it/s]\n",
      "Training Epoch 1843: 100%|██████████| 370/370 [00:10<00:00, 36.77it/s]\n",
      "Training Epoch 1844: 100%|██████████| 370/370 [00:10<00:00, 36.93it/s]\n",
      "Training Epoch 1845: 100%|██████████| 370/370 [00:10<00:00, 36.98it/s]\n",
      "Training Epoch 1846: 100%|██████████| 370/370 [00:10<00:00, 36.51it/s]\n",
      "Training Epoch 1847: 100%|██████████| 370/370 [00:10<00:00, 36.62it/s]\n",
      "Training Epoch 1848: 100%|██████████| 370/370 [00:10<00:00, 36.96it/s]\n",
      "Training Epoch 1849: 100%|██████████| 370/370 [00:10<00:00, 36.73it/s]\n",
      "Training Epoch 1850: 100%|██████████| 370/370 [00:10<00:00, 36.70it/s]\n",
      "Training Epoch 1851: 100%|██████████| 370/370 [00:10<00:00, 36.96it/s]\n"
     ]
    },
    {
     "name": "stdout",
     "output_type": "stream",
     "text": [
      "Epoch 1850 - Train Loss: 0.5060, Train MSE: 0.5067, Train MAE: 0.4951\n",
      "Epoch 1850 - Validation Loss: 1.8839, Validation MSE: 1.8880, Validation MAE: 1.0145\n"
     ]
    },
    {
     "name": "stderr",
     "output_type": "stream",
     "text": [
      "Training Epoch 1852: 100%|██████████| 370/370 [00:10<00:00, 36.77it/s]\n",
      "Training Epoch 1853: 100%|██████████| 370/370 [00:10<00:00, 36.71it/s]\n",
      "Training Epoch 1854: 100%|██████████| 370/370 [00:09<00:00, 37.24it/s]\n",
      "Training Epoch 1855: 100%|██████████| 370/370 [00:10<00:00, 36.86it/s]\n",
      "Training Epoch 1856: 100%|██████████| 370/370 [00:10<00:00, 36.70it/s]\n",
      "Training Epoch 1857: 100%|██████████| 370/370 [00:09<00:00, 37.03it/s]\n",
      "Training Epoch 1858: 100%|██████████| 370/370 [00:10<00:00, 36.72it/s]\n",
      "Training Epoch 1859: 100%|██████████| 370/370 [00:10<00:00, 36.78it/s]\n",
      "Training Epoch 1860: 100%|██████████| 370/370 [00:10<00:00, 36.92it/s]\n",
      "Training Epoch 1861: 100%|██████████| 370/370 [00:10<00:00, 36.77it/s]\n"
     ]
    },
    {
     "name": "stdout",
     "output_type": "stream",
     "text": [
      "Epoch 1860 - Train Loss: 0.5020, Train MSE: 0.5028, Train MAE: 0.4979\n",
      "Epoch 1860 - Validation Loss: 1.9004, Validation MSE: 1.9040, Validation MAE: 1.0152\n"
     ]
    },
    {
     "name": "stderr",
     "output_type": "stream",
     "text": [
      "Training Epoch 1862: 100%|██████████| 370/370 [00:10<00:00, 36.78it/s]\n",
      "Training Epoch 1863: 100%|██████████| 370/370 [00:10<00:00, 36.71it/s]\n",
      "Training Epoch 1864: 100%|██████████| 370/370 [00:10<00:00, 36.95it/s]\n",
      "Training Epoch 1865: 100%|██████████| 370/370 [00:10<00:00, 36.79it/s]\n",
      "Training Epoch 1866: 100%|██████████| 370/370 [00:10<00:00, 36.87it/s]\n",
      "Training Epoch 1867: 100%|██████████| 370/370 [00:09<00:00, 37.16it/s]\n",
      "Training Epoch 1868: 100%|██████████| 370/370 [00:10<00:00, 36.84it/s]\n",
      "Training Epoch 1869: 100%|██████████| 370/370 [00:10<00:00, 36.82it/s]\n",
      "Training Epoch 1870: 100%|██████████| 370/370 [00:10<00:00, 36.85it/s]\n",
      "Training Epoch 1871: 100%|██████████| 370/370 [00:10<00:00, 36.80it/s]\n"
     ]
    },
    {
     "name": "stdout",
     "output_type": "stream",
     "text": [
      "Epoch 1870 - Train Loss: 0.5058, Train MSE: 0.5062, Train MAE: 0.4950\n",
      "Epoch 1870 - Validation Loss: 1.8312, Validation MSE: 1.8345, Validation MAE: 0.9987\n"
     ]
    },
    {
     "name": "stderr",
     "output_type": "stream",
     "text": [
      "Training Epoch 1872: 100%|██████████| 370/370 [00:10<00:00, 36.74it/s]\n",
      "Training Epoch 1873: 100%|██████████| 370/370 [00:09<00:00, 37.17it/s]\n",
      "Training Epoch 1874: 100%|██████████| 370/370 [00:10<00:00, 36.85it/s]\n",
      "Training Epoch 1875: 100%|██████████| 370/370 [00:10<00:00, 36.93it/s]\n",
      "Training Epoch 1876: 100%|██████████| 370/370 [00:09<00:00, 37.32it/s]\n",
      "Training Epoch 1877: 100%|██████████| 370/370 [00:10<00:00, 36.97it/s]\n",
      "Training Epoch 1878: 100%|██████████| 370/370 [00:10<00:00, 36.93it/s]\n",
      "Training Epoch 1879: 100%|██████████| 370/370 [00:09<00:00, 37.08it/s]\n",
      "Training Epoch 1880: 100%|██████████| 370/370 [00:10<00:00, 36.96it/s]\n",
      "Training Epoch 1881: 100%|██████████| 370/370 [00:10<00:00, 36.87it/s]\n"
     ]
    },
    {
     "name": "stdout",
     "output_type": "stream",
     "text": [
      "Epoch 1880 - Train Loss: 0.5022, Train MSE: 0.5031, Train MAE: 0.4939\n",
      "Epoch 1880 - Validation Loss: 1.8235, Validation MSE: 1.8269, Validation MAE: 1.0048\n"
     ]
    },
    {
     "name": "stderr",
     "output_type": "stream",
     "text": [
      "Training Epoch 1882: 100%|██████████| 370/370 [00:10<00:00, 36.92it/s]\n",
      "Training Epoch 1883: 100%|██████████| 370/370 [00:09<00:00, 37.14it/s]\n",
      "Training Epoch 1884: 100%|██████████| 370/370 [00:10<00:00, 36.94it/s]\n",
      "Training Epoch 1885: 100%|██████████| 370/370 [00:09<00:00, 37.01it/s]\n",
      "Training Epoch 1886: 100%|██████████| 370/370 [00:09<00:00, 37.11it/s]\n",
      "Training Epoch 1887: 100%|██████████| 370/370 [00:10<00:00, 36.91it/s]\n",
      "Training Epoch 1888: 100%|██████████| 370/370 [00:10<00:00, 36.89it/s]\n",
      "Training Epoch 1889: 100%|██████████| 370/370 [00:09<00:00, 37.06it/s]\n",
      "Training Epoch 1890: 100%|██████████| 370/370 [00:10<00:00, 36.86it/s]\n",
      "Training Epoch 1891: 100%|██████████| 370/370 [00:10<00:00, 36.80it/s]\n"
     ]
    },
    {
     "name": "stdout",
     "output_type": "stream",
     "text": [
      "Epoch 1890 - Train Loss: 0.5225, Train MSE: 0.5227, Train MAE: 0.5016\n",
      "Epoch 1890 - Validation Loss: 1.9293, Validation MSE: 1.9332, Validation MAE: 1.0287\n"
     ]
    },
    {
     "name": "stderr",
     "output_type": "stream",
     "text": [
      "Training Epoch 1892: 100%|██████████| 370/370 [00:09<00:00, 37.01it/s]\n",
      "Training Epoch 1893: 100%|██████████| 370/370 [00:10<00:00, 36.81it/s]\n",
      "Training Epoch 1894: 100%|██████████| 370/370 [00:10<00:00, 36.89it/s]\n",
      "Training Epoch 1895: 100%|██████████| 370/370 [00:10<00:00, 36.99it/s]\n",
      "Training Epoch 1896: 100%|██████████| 370/370 [00:09<00:00, 37.07it/s]\n",
      "Training Epoch 1897: 100%|██████████| 370/370 [00:10<00:00, 36.74it/s]\n",
      "Training Epoch 1898: 100%|██████████| 370/370 [00:10<00:00, 36.77it/s]\n",
      "Training Epoch 1899: 100%|██████████| 370/370 [00:10<00:00, 36.85it/s]\n",
      "Training Epoch 1900: 100%|██████████| 370/370 [00:10<00:00, 36.70it/s]\n",
      "Training Epoch 1901: 100%|██████████| 370/370 [00:10<00:00, 36.78it/s]\n"
     ]
    },
    {
     "name": "stdout",
     "output_type": "stream",
     "text": [
      "Epoch 1900 - Train Loss: 0.5090, Train MSE: 0.5098, Train MAE: 0.4982\n",
      "Epoch 1900 - Validation Loss: 1.7864, Validation MSE: 1.7902, Validation MAE: 0.9916\n"
     ]
    },
    {
     "name": "stderr",
     "output_type": "stream",
     "text": [
      "Training Epoch 1902: 100%|██████████| 370/370 [00:10<00:00, 36.90it/s]\n",
      "Training Epoch 1903: 100%|██████████| 370/370 [00:10<00:00, 36.83it/s]\n",
      "Training Epoch 1904: 100%|██████████| 370/370 [00:10<00:00, 36.85it/s]\n",
      "Training Epoch 1905: 100%|██████████| 370/370 [00:10<00:00, 36.98it/s]\n",
      "Training Epoch 1906: 100%|██████████| 370/370 [00:10<00:00, 36.75it/s]\n",
      "Training Epoch 1907: 100%|██████████| 370/370 [00:10<00:00, 36.69it/s]\n",
      "Training Epoch 1908: 100%|██████████| 370/370 [00:10<00:00, 36.80it/s]\n",
      "Training Epoch 1909: 100%|██████████| 370/370 [00:10<00:00, 36.71it/s]\n",
      "Training Epoch 1910: 100%|██████████| 370/370 [00:10<00:00, 36.69it/s]\n",
      "Training Epoch 1911: 100%|██████████| 370/370 [00:10<00:00, 36.97it/s]\n"
     ]
    },
    {
     "name": "stdout",
     "output_type": "stream",
     "text": [
      "Epoch 1910 - Train Loss: 0.5113, Train MSE: 0.5109, Train MAE: 0.4970\n",
      "Epoch 1910 - Validation Loss: 1.8614, Validation MSE: 1.8653, Validation MAE: 1.0064\n"
     ]
    },
    {
     "name": "stderr",
     "output_type": "stream",
     "text": [
      "Training Epoch 1912: 100%|██████████| 370/370 [00:10<00:00, 36.85it/s]\n",
      "Training Epoch 1913: 100%|██████████| 370/370 [00:10<00:00, 36.77it/s]\n",
      "Training Epoch 1914: 100%|██████████| 370/370 [00:10<00:00, 36.79it/s]\n",
      "Training Epoch 1915: 100%|██████████| 370/370 [00:10<00:00, 37.00it/s]\n",
      "Training Epoch 1916: 100%|██████████| 370/370 [00:10<00:00, 36.70it/s]\n",
      "Training Epoch 1917: 100%|██████████| 370/370 [00:10<00:00, 36.58it/s]\n",
      "Training Epoch 1918: 100%|██████████| 370/370 [00:10<00:00, 36.90it/s]\n",
      "Training Epoch 1919: 100%|██████████| 370/370 [00:10<00:00, 36.56it/s]\n",
      "Training Epoch 1920: 100%|██████████| 370/370 [00:10<00:00, 36.95it/s]\n",
      "Training Epoch 1921: 100%|██████████| 370/370 [00:10<00:00, 36.98it/s]\n"
     ]
    },
    {
     "name": "stdout",
     "output_type": "stream",
     "text": [
      "Epoch 1920 - Train Loss: 0.4966, Train MSE: 0.4970, Train MAE: 0.4924\n",
      "Epoch 1920 - Validation Loss: 1.8393, Validation MSE: 1.8427, Validation MAE: 0.9992\n"
     ]
    },
    {
     "name": "stderr",
     "output_type": "stream",
     "text": [
      "Training Epoch 1922: 100%|██████████| 370/370 [00:10<00:00, 36.82it/s]\n",
      "Training Epoch 1923: 100%|██████████| 370/370 [00:10<00:00, 36.99it/s]\n",
      "Training Epoch 1924: 100%|██████████| 370/370 [00:09<00:00, 37.04it/s]\n",
      "Training Epoch 1925: 100%|██████████| 370/370 [00:10<00:00, 36.74it/s]\n",
      "Training Epoch 1926: 100%|██████████| 370/370 [00:10<00:00, 36.71it/s]\n",
      "Training Epoch 1927: 100%|██████████| 370/370 [00:10<00:00, 36.79it/s]\n",
      "Training Epoch 1928: 100%|██████████| 370/370 [00:10<00:00, 36.99it/s]\n",
      "Training Epoch 1929: 100%|██████████| 370/370 [00:10<00:00, 36.79it/s]\n",
      "Training Epoch 1930: 100%|██████████| 370/370 [00:10<00:00, 36.79it/s]\n",
      "Training Epoch 1931: 100%|██████████| 370/370 [00:10<00:00, 36.85it/s]\n"
     ]
    },
    {
     "name": "stdout",
     "output_type": "stream",
     "text": [
      "Epoch 1930 - Train Loss: 0.5097, Train MSE: 0.5088, Train MAE: 0.4979\n",
      "Epoch 1930 - Validation Loss: 1.8735, Validation MSE: 1.8774, Validation MAE: 1.0196\n"
     ]
    },
    {
     "name": "stderr",
     "output_type": "stream",
     "text": [
      "Training Epoch 1932: 100%|██████████| 370/370 [00:10<00:00, 36.75it/s]\n",
      "Training Epoch 1933: 100%|██████████| 370/370 [00:10<00:00, 36.95it/s]\n",
      "Training Epoch 1934: 100%|██████████| 370/370 [00:10<00:00, 36.97it/s]\n",
      "Training Epoch 1935: 100%|██████████| 370/370 [00:10<00:00, 35.49it/s]\n",
      "Training Epoch 1936: 100%|██████████| 370/370 [00:10<00:00, 36.87it/s]\n",
      "Training Epoch 1937: 100%|██████████| 370/370 [00:10<00:00, 37.00it/s]\n",
      "Training Epoch 1938: 100%|██████████| 370/370 [00:10<00:00, 36.90it/s]\n",
      "Training Epoch 1939: 100%|██████████| 370/370 [00:09<00:00, 37.03it/s]\n",
      "Training Epoch 1940: 100%|██████████| 370/370 [00:09<00:00, 37.06it/s]\n",
      "Training Epoch 1941: 100%|██████████| 370/370 [00:10<00:00, 36.87it/s]\n"
     ]
    },
    {
     "name": "stdout",
     "output_type": "stream",
     "text": [
      "Epoch 1940 - Train Loss: 0.5070, Train MSE: 0.5071, Train MAE: 0.4924\n",
      "Epoch 1940 - Validation Loss: 1.8579, Validation MSE: 1.8620, Validation MAE: 1.0129\n"
     ]
    },
    {
     "name": "stderr",
     "output_type": "stream",
     "text": [
      "Training Epoch 1942: 100%|██████████| 370/370 [00:10<00:00, 36.92it/s]\n",
      "Training Epoch 1943: 100%|██████████| 370/370 [00:09<00:00, 37.04it/s]\n",
      "Training Epoch 1944: 100%|██████████| 370/370 [00:09<00:00, 37.05it/s]\n",
      "Training Epoch 1945: 100%|██████████| 370/370 [00:10<00:00, 36.84it/s]\n",
      "Training Epoch 1946: 100%|██████████| 370/370 [00:10<00:00, 36.85it/s]\n",
      "Training Epoch 1947: 100%|██████████| 370/370 [00:09<00:00, 37.08it/s]\n",
      "Training Epoch 1948: 100%|██████████| 370/370 [00:09<00:00, 37.05it/s]\n",
      "Training Epoch 1949: 100%|██████████| 370/370 [00:10<00:00, 36.88it/s]\n",
      "Training Epoch 1950: 100%|██████████| 370/370 [00:09<00:00, 37.06it/s]\n",
      "Training Epoch 1951: 100%|██████████| 370/370 [00:10<00:00, 36.96it/s]\n"
     ]
    },
    {
     "name": "stdout",
     "output_type": "stream",
     "text": [
      "Epoch 1950 - Train Loss: 0.5000, Train MSE: 0.5005, Train MAE: 0.4923\n",
      "Epoch 1950 - Validation Loss: 1.8446, Validation MSE: 1.8485, Validation MAE: 1.0100\n"
     ]
    },
    {
     "name": "stderr",
     "output_type": "stream",
     "text": [
      "Training Epoch 1952: 100%|██████████| 370/370 [00:10<00:00, 36.64it/s]\n",
      "Training Epoch 1953: 100%|██████████| 370/370 [00:09<00:00, 37.05it/s]\n",
      "Training Epoch 1954: 100%|██████████| 370/370 [00:10<00:00, 36.95it/s]\n",
      "Training Epoch 1955: 100%|██████████| 370/370 [00:10<00:00, 36.77it/s]\n",
      "Training Epoch 1956: 100%|██████████| 370/370 [00:09<00:00, 37.02it/s]\n",
      "Training Epoch 1957: 100%|██████████| 370/370 [00:10<00:00, 36.86it/s]\n",
      "Training Epoch 1958: 100%|██████████| 370/370 [00:10<00:00, 36.94it/s]\n",
      "Training Epoch 1959: 100%|██████████| 370/370 [00:10<00:00, 36.87it/s]\n",
      "Training Epoch 1960: 100%|██████████| 370/370 [00:10<00:00, 36.98it/s]\n",
      "Training Epoch 1961: 100%|██████████| 370/370 [00:10<00:00, 36.81it/s]\n"
     ]
    },
    {
     "name": "stdout",
     "output_type": "stream",
     "text": [
      "Epoch 1960 - Train Loss: 0.4967, Train MSE: 0.4977, Train MAE: 0.4927\n",
      "Epoch 1960 - Validation Loss: 1.9026, Validation MSE: 1.9064, Validation MAE: 1.0188\n"
     ]
    },
    {
     "name": "stderr",
     "output_type": "stream",
     "text": [
      "Training Epoch 1962: 100%|██████████| 370/370 [00:10<00:00, 36.68it/s]\n",
      "Training Epoch 1963: 100%|██████████| 370/370 [00:10<00:00, 36.89it/s]\n",
      "Training Epoch 1964: 100%|██████████| 370/370 [00:10<00:00, 36.67it/s]\n",
      "Training Epoch 1965: 100%|██████████| 370/370 [00:10<00:00, 36.84it/s]\n",
      "Training Epoch 1966: 100%|██████████| 370/370 [00:09<00:00, 37.04it/s]\n",
      "Training Epoch 1967: 100%|██████████| 370/370 [00:10<00:00, 36.87it/s]\n",
      "Training Epoch 1968: 100%|██████████| 370/370 [00:10<00:00, 36.81it/s]\n",
      "Training Epoch 1969: 100%|██████████| 370/370 [00:10<00:00, 36.92it/s]\n",
      "Training Epoch 1970: 100%|██████████| 370/370 [00:10<00:00, 36.77it/s]\n",
      "Training Epoch 1971: 100%|██████████| 370/370 [00:10<00:00, 36.86it/s]\n"
     ]
    },
    {
     "name": "stdout",
     "output_type": "stream",
     "text": [
      "Epoch 1970 - Train Loss: 0.5084, Train MSE: 0.5092, Train MAE: 0.4976\n",
      "Epoch 1970 - Validation Loss: 1.8852, Validation MSE: 1.8891, Validation MAE: 1.0256\n"
     ]
    },
    {
     "name": "stderr",
     "output_type": "stream",
     "text": [
      "Training Epoch 1972: 100%|██████████| 370/370 [00:09<00:00, 37.02it/s]\n",
      "Training Epoch 1973: 100%|██████████| 370/370 [00:10<00:00, 36.79it/s]\n",
      "Training Epoch 1974: 100%|██████████| 370/370 [00:10<00:00, 36.73it/s]\n",
      "Training Epoch 1975: 100%|██████████| 370/370 [00:10<00:00, 37.00it/s]\n",
      "Training Epoch 1976: 100%|██████████| 370/370 [00:10<00:00, 36.90it/s]\n",
      "Training Epoch 1977: 100%|██████████| 370/370 [00:10<00:00, 36.81it/s]\n",
      "Training Epoch 1978: 100%|██████████| 370/370 [00:10<00:00, 36.75it/s]\n",
      "Training Epoch 1979: 100%|██████████| 370/370 [00:09<00:00, 37.79it/s]\n",
      "Training Epoch 1980: 100%|██████████| 370/370 [00:09<00:00, 37.65it/s]\n",
      "Training Epoch 1981: 100%|██████████| 370/370 [00:09<00:00, 37.64it/s]\n"
     ]
    },
    {
     "name": "stdout",
     "output_type": "stream",
     "text": [
      "Epoch 1980 - Train Loss: 0.5028, Train MSE: 0.5035, Train MAE: 0.4938\n",
      "Epoch 1980 - Validation Loss: 1.8894, Validation MSE: 1.8932, Validation MAE: 1.0108\n"
     ]
    },
    {
     "name": "stderr",
     "output_type": "stream",
     "text": [
      "Training Epoch 1982: 100%|██████████| 370/370 [00:09<00:00, 37.66it/s]\n",
      "Training Epoch 1983: 100%|██████████| 370/370 [00:09<00:00, 37.66it/s]\n",
      "Training Epoch 1984: 100%|██████████| 370/370 [00:09<00:00, 37.50it/s]\n",
      "Training Epoch 1985: 100%|██████████| 370/370 [00:09<00:00, 37.79it/s]\n",
      "Training Epoch 1986: 100%|██████████| 370/370 [00:09<00:00, 37.59it/s]\n",
      "Training Epoch 1987: 100%|██████████| 370/370 [00:09<00:00, 37.57it/s]\n",
      "Training Epoch 1988: 100%|██████████| 370/370 [00:09<00:00, 37.80it/s]\n",
      "Training Epoch 1989: 100%|██████████| 370/370 [00:09<00:00, 37.57it/s]\n",
      "Training Epoch 1990: 100%|██████████| 370/370 [00:09<00:00, 37.47it/s]\n",
      "Training Epoch 1991: 100%|██████████| 370/370 [00:09<00:00, 37.63it/s]\n"
     ]
    },
    {
     "name": "stdout",
     "output_type": "stream",
     "text": [
      "Epoch 1990 - Train Loss: 0.5078, Train MSE: 0.5077, Train MAE: 0.4950\n",
      "Epoch 1990 - Validation Loss: 1.8498, Validation MSE: 1.8540, Validation MAE: 1.0123\n"
     ]
    },
    {
     "name": "stderr",
     "output_type": "stream",
     "text": [
      "Training Epoch 1992: 100%|██████████| 370/370 [00:09<00:00, 37.74it/s]\n",
      "Training Epoch 1993: 100%|██████████| 370/370 [00:09<00:00, 37.45it/s]\n",
      "Training Epoch 1994: 100%|██████████| 370/370 [00:09<00:00, 37.36it/s]\n",
      "Training Epoch 1995: 100%|██████████| 370/370 [00:09<00:00, 37.93it/s]\n",
      "Training Epoch 1996: 100%|██████████| 370/370 [00:09<00:00, 37.52it/s]\n",
      "Training Epoch 1997: 100%|██████████| 370/370 [00:09<00:00, 37.43it/s]\n",
      "Training Epoch 1998: 100%|██████████| 370/370 [00:09<00:00, 37.81it/s]\n",
      "Training Epoch 1999: 100%|██████████| 370/370 [00:09<00:00, 37.37it/s]\n",
      "Training Epoch 2000: 100%|██████████| 370/370 [00:09<00:00, 37.52it/s]\n"
     ]
    },
    {
     "name": "stdout",
     "output_type": "stream",
     "text": [
      "Test MSE: 1.8470, Test MAE: 1.0026\n"
     ]
    }
   ],
   "source": [
    "train_history_2 = pd.DataFrame(columns=[  'epoch',\n",
    "    'Train Loss', 'Train MSE', 'Train MAE', 'Train RMSE', 'Train R2', 'Train Pearson', 'Train Median_AE', 'Train Explained_VAR'\n",
    "    'Val Loss', 'Val MSE', 'Val MAE', 'Val RMSE', 'Val R2', 'Val Pearson', 'Val Median_AE', 'Val Explained_VAR'])\n",
    "# Verify feature dimensions\n",
    "for batch in train_loader_mols:\n",
    "    mol_input_dim = batch['metabolite_features'].shape[1]  # Dynamically determine mol input dimension\n",
    "    protein_input_dim = batch['protein_features'].shape[1]  # Dynamically determine protein input dimension\n",
    "    break\n",
    "\n",
    "# Initialize model, optimizer, and loss function\n",
    "model_2 = CNNRegressor(mol_input_dim=mol_input_dim, protein_input_dim=protein_input_dim)\n",
    "model_2 = model_2.to(device)\n",
    "optimizer_2 = optim.Adam(model_2.parameters(), lr=0.0001)\n",
    "criterion = nn.MSELoss()\n",
    "\n",
    "# Training and Validation Loop\n",
    "for epoch in range(2000):\n",
    "    model_2.train()\n",
    "    total_loss = 0.0\n",
    "    val_total_loss = 0.0\n",
    "    train_predictions, train_labels = [], []\n",
    "\n",
    "    for batch in tqdm(train_loader_mols, desc=f\"Training Epoch {epoch + 1}\"):\n",
    "        mol_features = batch['metabolite_features'].to(device)\n",
    "        protein_features = batch['protein_features'].to(device)\n",
    "        labels = batch['label'].to(device)\n",
    "\n",
    "        optimizer_2.zero_grad()\n",
    "        outputs = model_2(mol_features, protein_features)\n",
    "        loss = criterion(outputs, labels)\n",
    "        loss.backward()\n",
    "        optimizer_2.step()\n",
    "        total_loss += loss.item()\n",
    "\n",
    "        # Store predictions and labels for metrics\n",
    "        train_predictions.extend(outputs.detach().cpu().numpy())\n",
    "        train_labels.extend(labels.cpu().numpy())\n",
    "\n",
    "    # Calculate training metrics\n",
    "    train_mse = ((torch.tensor(train_predictions) - torch.tensor(train_labels))**2).mean().item()\n",
    "    train_mae = torch.abs(torch.tensor(train_predictions) - torch.tensor(train_labels)).mean().item()\n",
    "    train_rmse = torch.sqrt((torch.tensor(train_predictions) - torch.tensor(train_labels)) ** 2).mean().item()\n",
    "    train_r2 = r2_score(np.array(train_labels), np.array(train_predictions))\n",
    "    train_pearson_corr, _ = pearsonr(np.array(train_labels), np.array(train_predictions))\n",
    "    train_median_ae = median_absolute_error(np.array(train_labels), np.array(train_predictions))\n",
    "    train_explained_var = explained_variance_score(np.array(train_labels), np.array(train_predictions))\n",
    "\n",
    "\n",
    "\n",
    "    if epoch % 10 == 0:\n",
    "        print(f\"Epoch {epoch} - Train Loss: {total_loss / len(train_loader_mols):.4f}, Train MSE: {train_mse:.4f}, Train MAE: {train_mae:.4f}\")\n",
    "\n",
    "    # Validation\n",
    "    model_2.eval()\n",
    "    val_predictions, val_labels = [], []\n",
    "    with torch.no_grad():\n",
    "        for batch in val_loader_mols:\n",
    "            mol_features = batch['metabolite_features'].to(device)\n",
    "            protein_features = batch['protein_features'].to(device)\n",
    "            labels = batch['label'].to(device)\n",
    "\n",
    "            outputs = model_2(mol_features, protein_features)\n",
    "            val_predictions.extend(outputs.cpu().numpy())\n",
    "            val_labels.extend(labels.cpu().numpy())\n",
    "            val_loss = criterion(outputs, labels)\n",
    "            val_total_loss += val_loss.item()\n",
    "\n",
    "    val_mse = ((torch.tensor(val_predictions) - torch.tensor(val_labels))**2).mean().item()\n",
    "    val_mae = torch.abs(torch.tensor(val_predictions) - torch.tensor(val_labels)).mean().item()\n",
    "    val_rmse = torch.sqrt((torch.tensor(val_predictions) - torch.tensor(val_labels)) ** 2).mean().item()\n",
    "    val_r2 = r2_score(np.array(val_labels), np.array(val_predictions))\n",
    "    val_pearson_corr, _ = pearsonr(np.array(val_labels), np.array(val_predictions))\n",
    "    val_median_ae = median_absolute_error(np.array(val_labels), np.array(val_predictions))\n",
    "    val_explained_var = explained_variance_score(np.array(val_labels), np.array(val_predictions))\n",
    "\n",
    "    if epoch % 10 == 0:\n",
    "        print(f\"Epoch {epoch} - Validation Loss: {val_total_loss / len(val_loader_mols):.4f}, Validation MSE: {val_mse:.4f}, Validation MAE: {val_mae:.4f}\")\n",
    "\n",
    "    # Save metrics to DataFrame\n",
    "    new_row = {'epoch': epoch + 1, 'Train Loss': total_loss / len(train_loader_mols), 'Train MSE': train_mse, 'Train MAE': train_mae, 'Train RMSE': train_rmse, 'Train R2': train_r2, 'Train Pearson': train_pearson_corr, 'Train Median_AE': train_median_ae, 'Train Explained_VAR': train_explained_var, \n",
    "               'Val Loss': val_total_loss / len(val_loader_mols), 'Val MSE': val_mse, 'Val MAE': val_mae, 'Val RMSE': val_rmse, 'Val R2': val_r2, 'Val Pearson': val_pearson_corr, 'Val Median_AE': val_median_ae, 'Val Explained_VAR': val_explained_var}\n",
    "    train_history_2 = pd.concat([train_history_2, pd.DataFrame([new_row])], ignore_index=True)\n",
    "\n",
    "\n"
   ]
  },
  {
   "cell_type": "code",
   "execution_count": null,
   "metadata": {},
   "outputs": [],
   "source": [
    "for batch in train_loader_mols:\n",
    "    mol_input_dim = batch['metabolite_features'].shape[1]  # Dynamically determine mol input dimension\n",
    "    protein_input_dim = batch['protein_features'].shape[1]  # Dynamically determine protein input dimension\n",
    "    break\n",
    "# First, reinitialize the model with the same architecture\n",
    "model = CNNRegressor(mol_input_dim=mol_input_dim, protein_input_dim=protein_input_dim)\n",
    "\n",
    "# Load the saved model weights\n",
    "model.load_state_dict(torch.load('/Users/pinchichen/2025S lab/AI drug project/code/trained_model/cold_mols/CNN model_cold_mols.pt'))\n",
    "# Move to device if using GPU\n",
    "model = model.to(device)\n"
   ]
  },
  {
   "cell_type": "code",
   "execution_count": 27,
   "metadata": {},
   "outputs": [
    {
     "name": "stdout",
     "output_type": "stream",
     "text": [
      "Test MSE: 1.8470, Test MAE: 1.0026\n"
     ]
    }
   ],
   "source": [
    "# Test Metrics\n",
    "model.eval()\n",
    "test_predictions, test_labels = [], []\n",
    "with torch.no_grad():\n",
    "    for batch in test_loader_mols:\n",
    "        mol_features = batch['metabolite_features'].to(device)\n",
    "        protein_features = batch['protein_features'].to(device)\n",
    "        labels = batch['label'].to(device)\n",
    "\n",
    "        outputs = model(mol_features, protein_features)\n",
    "        test_predictions.extend(outputs.cpu().numpy())\n",
    "        test_labels.extend(labels.cpu().numpy())\n",
    "\n",
    "test_mse = ((torch.tensor(test_predictions) - torch.tensor(test_labels))**2).mean().item()\n",
    "test_mae = torch.abs(torch.tensor(test_predictions) - torch.tensor(test_labels)).mean().item()\n",
    "test_rmse = torch.sqrt((torch.tensor(test_predictions) - torch.tensor(test_labels)) ** 2).mean().item()\n",
    "test_r2 = r2_score(np.array(test_labels), np.array(test_predictions))\n",
    "test_pearson_corr, _ = pearsonr(np.array(test_labels), np.array(test_predictions))\n",
    "test_median_ae = median_absolute_error(np.array(test_labels), np.array(test_predictions))\n",
    "test_explained_var = explained_variance_score(np.array(test_labels), np.array(test_predictions))\n",
    "\n",
    "print(f\"Test MSE: {test_mse:.4f}, Test MAE: {test_mae:.4f}\")\n"
   ]
  },
  {
   "cell_type": "code",
   "execution_count": 28,
   "metadata": {},
   "outputs": [],
   "source": [
    "model.eval()\n",
    "train_pred, train_labels = [], []\n",
    "with torch.no_grad():\n",
    "    for batch in train_loader_mols:\n",
    "        mol_features = batch['metabolite_features'].to(device)\n",
    "        protein_features = batch['protein_features'].to(device)\n",
    "        labels = batch['label'].to(device)\n",
    "\n",
    "        outputs = model(mol_features, protein_features)\n",
    "        train_pred.extend(outputs.cpu().numpy())\n",
    "        train_labels.extend(labels.cpu().numpy())\n",
    "\n",
    "train_mse, train_rmse, train_mae, train_r2, train_pearson_corr, train_median_ae, train_explained_var = evaluate_model(train_pred, train_labels)"
   ]
  },
  {
   "cell_type": "code",
   "execution_count": 29,
   "metadata": {},
   "outputs": [],
   "source": [
    "model.eval()\n",
    "val_pred, val_labels = [], []\n",
    "with torch.no_grad():\n",
    "    for batch in val_loader_mols:\n",
    "        mol_features = batch['metabolite_features'].to(device)\n",
    "        protein_features = batch['protein_features'].to(device)\n",
    "        labels = batch['label'].to(device)\n",
    "\n",
    "        outputs = model(mol_features, protein_features)\n",
    "        val_pred.extend(outputs.cpu().numpy())\n",
    "        val_labels.extend(labels.cpu().numpy())\n",
    "\n",
    "val_mse, val_rmse, val_mae, val_r2, val_pearson_corr, val_median_ae, val_explained_var = evaluate_model(val_pred, val_labels)\n"
   ]
  },
  {
   "cell_type": "code",
   "execution_count": 30,
   "metadata": {},
   "outputs": [],
   "source": [
    "# append the performance to the csv file\n",
    "df = {\n",
    "    'Model':['CNN','CNN','CNN'],\n",
    "    'Dataset':['Train','Validation','Test'],\n",
    "    'MSE':[train_mse,val_mse,test_mse],\n",
    "    'RMSE':[train_rmse,val_rmse,test_rmse],\n",
    "    'MAE':[train_mae,val_mae,test_mae],\n",
    "    'R2':[train_r2,val_r2,test_r2],\n",
    "    'Pearson':[train_pearson_corr,val_pearson_corr,test_pearson_corr],\n",
    "    'Median_AE':[train_median_ae,val_median_ae,test_median_ae],\n",
    "    'Explained_VAR':[train_explained_var,val_explained_var,test_explained_var],\n",
    "    'Dataspliting Mode':['cold mols','cold mols','cold mols']\n",
    "}\n",
    "df = pd.DataFrame(df)\n",
    "\n",
    "df.to_csv('/Users/pinchichen/2025S lab/AI drug project/code/model performance metrics.csv', mode='a', header=False)"
   ]
  },
  {
   "cell_type": "code",
   "execution_count": 26,
   "metadata": {},
   "outputs": [],
   "source": [
    "# Save the model and training history\n",
    "save_dir = '/Users/pinchichen/2025S lab/AI drug project/code/trained_model/cold_mols'\n",
    "# save model weights and optimizer state\n",
    "torch.save(model_2.state_dict(), os.path.join(save_dir, 'CNN model_cold_mols.pt'))\n",
    "torch.save(optimizer_2.state_dict(), os.path.join(save_dir, 'CNN optimizer_cold_mols.pt'))\n",
    "\n",
    "#save the train history\n",
    "train_history_2.to_csv(\"training_history_CNN_cold_mols.csv\", index=False)\n"
   ]
  },
  {
   "cell_type": "code",
   "execution_count": 27,
   "metadata": {},
   "outputs": [
    {
     "data": {
      "text/html": [
       "<div>\n",
       "<style scoped>\n",
       "    .dataframe tbody tr th:only-of-type {\n",
       "        vertical-align: middle;\n",
       "    }\n",
       "\n",
       "    .dataframe tbody tr th {\n",
       "        vertical-align: top;\n",
       "    }\n",
       "\n",
       "    .dataframe thead th {\n",
       "        text-align: right;\n",
       "    }\n",
       "</style>\n",
       "<table border=\"1\" class=\"dataframe\">\n",
       "  <thead>\n",
       "    <tr style=\"text-align: right;\">\n",
       "      <th></th>\n",
       "      <th>epoch</th>\n",
       "      <th>Train Loss</th>\n",
       "      <th>Train MSE</th>\n",
       "      <th>Train MAE</th>\n",
       "      <th>Train RMSE</th>\n",
       "      <th>Train R2</th>\n",
       "      <th>Train Pearson</th>\n",
       "      <th>Train Median_AE</th>\n",
       "      <th>Train Explained_VARVal Loss</th>\n",
       "      <th>Val MSE</th>\n",
       "      <th>Val MAE</th>\n",
       "      <th>Val RMSE</th>\n",
       "      <th>Val R2</th>\n",
       "      <th>Val Pearson</th>\n",
       "      <th>Val Median_AE</th>\n",
       "      <th>Val Explained_VAR</th>\n",
       "      <th>Train Explained_VAR</th>\n",
       "      <th>Val Loss</th>\n",
       "    </tr>\n",
       "  </thead>\n",
       "  <tbody>\n",
       "    <tr>\n",
       "      <th>1995</th>\n",
       "      <td>1996</td>\n",
       "      <td>0.466942</td>\n",
       "      <td>0.466944</td>\n",
       "      <td>0.474520</td>\n",
       "      <td>0.474520</td>\n",
       "      <td>0.793767</td>\n",
       "      <td>0.890939</td>\n",
       "      <td>0.327971</td>\n",
       "      <td>NaN</td>\n",
       "      <td>1.724568</td>\n",
       "      <td>0.924999</td>\n",
       "      <td>0.924999</td>\n",
       "      <td>0.284545</td>\n",
       "      <td>0.588378</td>\n",
       "      <td>0.638052</td>\n",
       "      <td>0.284571</td>\n",
       "      <td>0.793768</td>\n",
       "      <td>1.720299</td>\n",
       "    </tr>\n",
       "    <tr>\n",
       "      <th>1996</th>\n",
       "      <td>1997</td>\n",
       "      <td>0.460871</td>\n",
       "      <td>0.461027</td>\n",
       "      <td>0.475147</td>\n",
       "      <td>0.475147</td>\n",
       "      <td>0.796380</td>\n",
       "      <td>0.892405</td>\n",
       "      <td>0.328444</td>\n",
       "      <td>NaN</td>\n",
       "      <td>1.729689</td>\n",
       "      <td>0.922193</td>\n",
       "      <td>0.922193</td>\n",
       "      <td>0.282421</td>\n",
       "      <td>0.589900</td>\n",
       "      <td>0.637285</td>\n",
       "      <td>0.282701</td>\n",
       "      <td>0.796381</td>\n",
       "      <td>1.725724</td>\n",
       "    </tr>\n",
       "    <tr>\n",
       "      <th>1997</th>\n",
       "      <td>1998</td>\n",
       "      <td>0.467727</td>\n",
       "      <td>0.467973</td>\n",
       "      <td>0.474369</td>\n",
       "      <td>0.474369</td>\n",
       "      <td>0.793313</td>\n",
       "      <td>0.890685</td>\n",
       "      <td>0.322587</td>\n",
       "      <td>NaN</td>\n",
       "      <td>1.778930</td>\n",
       "      <td>0.939629</td>\n",
       "      <td>0.939629</td>\n",
       "      <td>0.261993</td>\n",
       "      <td>0.586090</td>\n",
       "      <td>0.647277</td>\n",
       "      <td>0.262037</td>\n",
       "      <td>0.793315</td>\n",
       "      <td>1.774585</td>\n",
       "    </tr>\n",
       "    <tr>\n",
       "      <th>1998</th>\n",
       "      <td>1999</td>\n",
       "      <td>0.479575</td>\n",
       "      <td>0.479759</td>\n",
       "      <td>0.480181</td>\n",
       "      <td>0.480181</td>\n",
       "      <td>0.788107</td>\n",
       "      <td>0.887762</td>\n",
       "      <td>0.327986</td>\n",
       "      <td>NaN</td>\n",
       "      <td>1.701098</td>\n",
       "      <td>0.918982</td>\n",
       "      <td>0.918982</td>\n",
       "      <td>0.294282</td>\n",
       "      <td>0.590131</td>\n",
       "      <td>0.631149</td>\n",
       "      <td>0.294530</td>\n",
       "      <td>0.788108</td>\n",
       "      <td>1.696991</td>\n",
       "    </tr>\n",
       "    <tr>\n",
       "      <th>1999</th>\n",
       "      <td>2000</td>\n",
       "      <td>0.466915</td>\n",
       "      <td>0.467099</td>\n",
       "      <td>0.476086</td>\n",
       "      <td>0.476086</td>\n",
       "      <td>0.793699</td>\n",
       "      <td>0.890899</td>\n",
       "      <td>0.327581</td>\n",
       "      <td>NaN</td>\n",
       "      <td>1.732683</td>\n",
       "      <td>0.922556</td>\n",
       "      <td>0.922556</td>\n",
       "      <td>0.281179</td>\n",
       "      <td>0.585155</td>\n",
       "      <td>0.624937</td>\n",
       "      <td>0.281389</td>\n",
       "      <td>0.793699</td>\n",
       "      <td>1.728396</td>\n",
       "    </tr>\n",
       "  </tbody>\n",
       "</table>\n",
       "</div>"
      ],
      "text/plain": [
       "     epoch  Train Loss  Train MSE  Train MAE  Train RMSE  Train R2  \\\n",
       "1995  1996    0.466942   0.466944   0.474520    0.474520  0.793767   \n",
       "1996  1997    0.460871   0.461027   0.475147    0.475147  0.796380   \n",
       "1997  1998    0.467727   0.467973   0.474369    0.474369  0.793313   \n",
       "1998  1999    0.479575   0.479759   0.480181    0.480181  0.788107   \n",
       "1999  2000    0.466915   0.467099   0.476086    0.476086  0.793699   \n",
       "\n",
       "      Train Pearson  Train Median_AE Train Explained_VARVal Loss   Val MSE  \\\n",
       "1995       0.890939         0.327971                         NaN  1.724568   \n",
       "1996       0.892405         0.328444                         NaN  1.729689   \n",
       "1997       0.890685         0.322587                         NaN  1.778930   \n",
       "1998       0.887762         0.327986                         NaN  1.701098   \n",
       "1999       0.890899         0.327581                         NaN  1.732683   \n",
       "\n",
       "       Val MAE  Val RMSE    Val R2  Val Pearson  Val Median_AE  \\\n",
       "1995  0.924999  0.924999  0.284545     0.588378       0.638052   \n",
       "1996  0.922193  0.922193  0.282421     0.589900       0.637285   \n",
       "1997  0.939629  0.939629  0.261993     0.586090       0.647277   \n",
       "1998  0.918982  0.918982  0.294282     0.590131       0.631149   \n",
       "1999  0.922556  0.922556  0.281179     0.585155       0.624937   \n",
       "\n",
       "      Val Explained_VAR  Train Explained_VAR  Val Loss  \n",
       "1995           0.284571             0.793768  1.720299  \n",
       "1996           0.282701             0.796381  1.725724  \n",
       "1997           0.262037             0.793315  1.774585  \n",
       "1998           0.294530             0.788108  1.696991  \n",
       "1999           0.281389             0.793699  1.728396  "
      ]
     },
     "execution_count": 27,
     "metadata": {},
     "output_type": "execute_result"
    }
   ],
   "source": [
    "train_history.tail()"
   ]
  }
 ],
 "metadata": {
  "kernelspec": {
   "display_name": "base",
   "language": "python",
   "name": "python3"
  },
  "language_info": {
   "codemirror_mode": {
    "name": "ipython",
    "version": 3
   },
   "file_extension": ".py",
   "mimetype": "text/x-python",
   "name": "python",
   "nbconvert_exporter": "python",
   "pygments_lexer": "ipython3",
   "version": "3.12.2"
  }
 },
 "nbformat": 4,
 "nbformat_minor": 2
}
