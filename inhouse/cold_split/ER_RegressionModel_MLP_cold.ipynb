{
 "cells": [
  {
   "cell_type": "code",
   "execution_count": 1,
   "metadata": {},
   "outputs": [],
   "source": [
    "import pandas as pd\n",
    "import numpy as np\n",
    "from tqdm import tqdm\n",
    "import torch\n",
    "import torch.nn as nn\n",
    "import torch.optim as optim\n",
    "from torch.utils.data import DataLoader, Dataset\n",
    "from sklearn.metrics import roc_auc_score\n",
    "from sklearn.model_selection import train_test_split\n",
    "import os\n"
   ]
  },
  {
   "cell_type": "code",
   "execution_count": 2,
   "metadata": {},
   "outputs": [
    {
     "data": {
      "text/html": [
       "<div>\n",
       "<style scoped>\n",
       "    .dataframe tbody tr th:only-of-type {\n",
       "        vertical-align: middle;\n",
       "    }\n",
       "\n",
       "    .dataframe tbody tr th {\n",
       "        vertical-align: top;\n",
       "    }\n",
       "\n",
       "    .dataframe thead th {\n",
       "        text-align: right;\n",
       "    }\n",
       "</style>\n",
       "<table border=\"1\" class=\"dataframe\">\n",
       "  <thead>\n",
       "    <tr style=\"text-align: right;\">\n",
       "      <th></th>\n",
       "      <th>ECNumber</th>\n",
       "      <th>Organism</th>\n",
       "      <th>Smiles</th>\n",
       "      <th>Substrate</th>\n",
       "      <th>Sequence</th>\n",
       "      <th>Raw Kd</th>\n",
       "      <th>Unit</th>\n",
       "      <th>Log Kd</th>\n",
       "    </tr>\n",
       "  </thead>\n",
       "  <tbody>\n",
       "    <tr>\n",
       "      <th>0</th>\n",
       "      <td>4.2.3.4</td>\n",
       "      <td>Actinidia chinensis</td>\n",
       "      <td>C(C(C(C(COP(=O)(O)O)O)O)O)C(=O)C(=O)O</td>\n",
       "      <td>3-deoxy-D-arabino-heptulosonic acid 7-phosphate</td>\n",
       "      <td>MAAFSLSAKQILSPSTHRPSLSKTTTADSSLRFRNPHSLSLRCSSL...</td>\n",
       "      <td>20.1000</td>\n",
       "      <td>s^(-1)</td>\n",
       "      <td>1.303196</td>\n",
       "    </tr>\n",
       "    <tr>\n",
       "      <th>1</th>\n",
       "      <td>4.2.3.4</td>\n",
       "      <td>Aspergillus nidulans</td>\n",
       "      <td>C(C(C(C(COP(=O)([O-])[O-])O)O)O)C(=O)C(=O)[O-]</td>\n",
       "      <td>3-deoxy-D-arabino-heptulosonate 7-phosphate</td>\n",
       "      <td>MSNPTKISILGRESIIADFGLWRNYVAKDLISDCSSTTYVLVTDTN...</td>\n",
       "      <td>6.8000</td>\n",
       "      <td>s^(-1)</td>\n",
       "      <td>0.832509</td>\n",
       "    </tr>\n",
       "    <tr>\n",
       "      <th>2</th>\n",
       "      <td>4.2.3.4</td>\n",
       "      <td>Neurospora crassa</td>\n",
       "      <td>C(C(C(C(COP(=O)(O)O)O)O)O)C(=O)C(=O)O</td>\n",
       "      <td>3-deoxy-D-arabino-heptulosonic acid 7-phosphate</td>\n",
       "      <td>MAEPISNPTRINILGKDNIIIDHGIWLNFVAQDLLQNIKSSTYILI...</td>\n",
       "      <td>19.0000</td>\n",
       "      <td>s^(-1)</td>\n",
       "      <td>1.278754</td>\n",
       "    </tr>\n",
       "    <tr>\n",
       "      <th>3</th>\n",
       "      <td>2.1.1.255</td>\n",
       "      <td>Streptomyces coelicolor</td>\n",
       "      <td>C[S+](CCC(C(=O)[O-])N)CC1C(C(C(O1)N2C=NC3=C(N=...</td>\n",
       "      <td>S-Adenosyl-L-methionine</td>\n",
       "      <td>MTTETTTATATAKIPAPATPYQEDIARYWNNEARPVNLRLGDVDGL...</td>\n",
       "      <td>0.0075</td>\n",
       "      <td>s^(-1)</td>\n",
       "      <td>-2.124939</td>\n",
       "    </tr>\n",
       "    <tr>\n",
       "      <th>4</th>\n",
       "      <td>2.1.1.255</td>\n",
       "      <td>Streptomyces coelicolor</td>\n",
       "      <td>CC(=CCCC(=C(C)COP(=O)(O)OP(=O)(O)O)C)C</td>\n",
       "      <td>(E)-2-Methylgeranyl diphosphate</td>\n",
       "      <td>MTTETTTATATAKIPAPATPYQEDIARYWNNEARPVNLRLGDVDGL...</td>\n",
       "      <td>0.0390</td>\n",
       "      <td>s^(-1)</td>\n",
       "      <td>-1.408935</td>\n",
       "    </tr>\n",
       "  </tbody>\n",
       "</table>\n",
       "</div>"
      ],
      "text/plain": [
       "    ECNumber                 Organism  \\\n",
       "0    4.2.3.4      Actinidia chinensis   \n",
       "1    4.2.3.4     Aspergillus nidulans   \n",
       "2    4.2.3.4        Neurospora crassa   \n",
       "3  2.1.1.255  Streptomyces coelicolor   \n",
       "4  2.1.1.255  Streptomyces coelicolor   \n",
       "\n",
       "                                              Smiles  \\\n",
       "0              C(C(C(C(COP(=O)(O)O)O)O)O)C(=O)C(=O)O   \n",
       "1     C(C(C(C(COP(=O)([O-])[O-])O)O)O)C(=O)C(=O)[O-]   \n",
       "2              C(C(C(C(COP(=O)(O)O)O)O)O)C(=O)C(=O)O   \n",
       "3  C[S+](CCC(C(=O)[O-])N)CC1C(C(C(O1)N2C=NC3=C(N=...   \n",
       "4             CC(=CCCC(=C(C)COP(=O)(O)OP(=O)(O)O)C)C   \n",
       "\n",
       "                                         Substrate  \\\n",
       "0  3-deoxy-D-arabino-heptulosonic acid 7-phosphate   \n",
       "1      3-deoxy-D-arabino-heptulosonate 7-phosphate   \n",
       "2  3-deoxy-D-arabino-heptulosonic acid 7-phosphate   \n",
       "3                          S-Adenosyl-L-methionine   \n",
       "4                  (E)-2-Methylgeranyl diphosphate   \n",
       "\n",
       "                                            Sequence   Raw Kd    Unit  \\\n",
       "0  MAAFSLSAKQILSPSTHRPSLSKTTTADSSLRFRNPHSLSLRCSSL...  20.1000  s^(-1)   \n",
       "1  MSNPTKISILGRESIIADFGLWRNYVAKDLISDCSSTTYVLVTDTN...   6.8000  s^(-1)   \n",
       "2  MAEPISNPTRINILGKDNIIIDHGIWLNFVAQDLLQNIKSSTYILI...  19.0000  s^(-1)   \n",
       "3  MTTETTTATATAKIPAPATPYQEDIARYWNNEARPVNLRLGDVDGL...   0.0075  s^(-1)   \n",
       "4  MTTETTTATATAKIPAPATPYQEDIARYWNNEARPVNLRLGDVDGL...   0.0390  s^(-1)   \n",
       "\n",
       "     Log Kd  \n",
       "0  1.303196  \n",
       "1  0.832509  \n",
       "2  1.278754  \n",
       "3 -2.124939  \n",
       "4 -1.408935  "
      ]
     },
     "execution_count": 2,
     "metadata": {},
     "output_type": "execute_result"
    }
   ],
   "source": [
    "data = torch.load('/Users/pinchichen/2025S lab/AI drug project/code/TrainingDataset/Kcat_Enzymatic_reaction.pt',weights_only=False)\n",
    "data.head()"
   ]
  },
  {
   "cell_type": "code",
   "execution_count": 3,
   "metadata": {},
   "outputs": [
    {
     "name": "stderr",
     "output_type": "stream",
     "text": [
      "Some weights of EsmModel were not initialized from the model checkpoint at facebook/esm2_t6_8M_UR50D and are newly initialized: ['pooler.dense.bias', 'pooler.dense.weight']\n",
      "You should probably TRAIN this model on a down-stream task to be able to use it for predictions and inference.\n"
     ]
    }
   ],
   "source": [
    "from transformers import AutoTokenizer, AutoModel\n",
    "import torch\n",
    "\n",
    "# Load ChemRoBERTa tokenizer and model\n",
    "chem_tokenizer = AutoTokenizer.from_pretrained(\"seyonec/ChemBERTa-zinc-base-v1\")\n",
    "chem_model = AutoModel.from_pretrained(\"seyonec/ChemBERTa-zinc-base-v1\")\n",
    "\n",
    "# Load ESM2 tokenizer and model\n",
    "esm_tokenizer = AutoTokenizer.from_pretrained(\"facebook/esm2_t6_8M_UR50D\")\n",
    "esm_model = AutoModel.from_pretrained(\"facebook/esm2_t6_8M_UR50D\")"
   ]
  },
  {
   "cell_type": "code",
   "execution_count": 4,
   "metadata": {},
   "outputs": [],
   "source": [
    "def extract_chem_features(smiles):\n",
    "    \"\"\"Extract ChemRoBERTa features from SMILES.\"\"\"\n",
    "    try:\n",
    "        tokens = chem_tokenizer(smiles, return_tensors=\"pt\", padding=True, truncation=True)\n",
    "        with torch.no_grad():\n",
    "            embeddings = chem_model(**tokens).last_hidden_state.mean(dim=1).squeeze().numpy()\n",
    "        return embeddings\n",
    "    except:\n",
    "        return np.zeros(768)  # Return zero vector if extraction fails\n",
    "\n",
    "def extract_esm_features(sequence):\n",
    "    \"\"\"Extract ESM2 features from protein sequence.\"\"\"\n",
    "    try:\n",
    "        tokens = esm_tokenizer(sequence, return_tensors=\"pt\", padding=True, truncation=True)\n",
    "        with torch.no_grad():\n",
    "            embeddings = esm_model(**tokens).last_hidden_state.mean(dim=1).squeeze().numpy()\n",
    "        return embeddings\n",
    "    except:\n",
    "        return np.zeros(768)  # Return zero vector if extraction fails"
   ]
  },
  {
   "cell_type": "code",
   "execution_count": 5,
   "metadata": {},
   "outputs": [],
   "source": [
    "# Extract unique mols and proteins\n",
    "unique_mols = data[['Smiles']].drop_duplicates()\n",
    "unique_proteins = data[['Sequence']].drop_duplicates()"
   ]
  },
  {
   "cell_type": "code",
   "execution_count": 6,
   "metadata": {},
   "outputs": [
    {
     "data": {
      "text/plain": [
       "(2706, 7857)"
      ]
     },
     "execution_count": 6,
     "metadata": {},
     "output_type": "execute_result"
    }
   ],
   "source": [
    "len(unique_mols), len(unique_proteins)"
   ]
  },
  {
   "cell_type": "code",
   "execution_count": 7,
   "metadata": {},
   "outputs": [
    {
     "name": "stderr",
     "output_type": "stream",
     "text": [
      "100%|██████████| 2706/2706 [00:46<00:00, 58.35it/s]\n"
     ]
    }
   ],
   "source": [
    "# Extract features for unique mols\n",
    "tqdm.pandas()  # Enable progress bar for pandas\n",
    "unique_mols['metabolite_features'] = unique_mols['Smiles'].progress_apply(extract_chem_features)"
   ]
  },
  {
   "cell_type": "code",
   "execution_count": 8,
   "metadata": {},
   "outputs": [
    {
     "name": "stderr",
     "output_type": "stream",
     "text": [
      "  0%|          | 0/7857 [00:00<?, ?it/s]Asking to truncate to max_length but no maximum length is provided and the model has no predefined maximum length. Default to no truncation.\n",
      "100%|██████████| 7857/7857 [07:51<00:00, 16.67it/s]  \n"
     ]
    }
   ],
   "source": [
    "# Extract features for unique proteins\n",
    "unique_proteins['protein_features'] = unique_proteins['Sequence'].progress_apply(extract_esm_features)"
   ]
  },
  {
   "cell_type": "code",
   "execution_count": 9,
   "metadata": {},
   "outputs": [],
   "source": [
    "# Merge features back into the combined dataframe\n",
    "data = data.merge(unique_mols, on='Smiles', how='left')\n",
    "data = data.merge(unique_proteins, on='Sequence', how='left')"
   ]
  },
  {
   "cell_type": "code",
   "execution_count": 10,
   "metadata": {},
   "outputs": [
    {
     "name": "stdout",
     "output_type": "stream",
     "text": [
      "Index(['ECNumber', 'Organism', 'Smiles', 'Substrate', 'Sequence', 'Raw Kd',\n",
      "       'Unit', 'Log Kd', 'metabolite_features', 'protein_features'],\n",
      "      dtype='object')\n"
     ]
    }
   ],
   "source": [
    "print(data.columns)"
   ]
  },
  {
   "cell_type": "code",
   "execution_count": 11,
   "metadata": {},
   "outputs": [],
   "source": [
    "# adding 1e-9 to prevent error when doing logarithm\n",
    "# ??????\n",
    "data['label'] = -np.log10(data['Raw Kd'] + 1e-9)"
   ]
  },
  {
   "cell_type": "code",
   "execution_count": 12,
   "metadata": {},
   "outputs": [],
   "source": [
    "# Define dataset\n",
    "class MPI_Dataset(Dataset):\n",
    "    def __init__(self, dataframe):\n",
    "        self.dataframe = dataframe\n",
    "\n",
    "    def __len__(self):\n",
    "        return len(self.dataframe)\n",
    "\n",
    "    def __getitem__(self, idx):\n",
    "        row = self.dataframe.iloc[idx]\n",
    "        return {\n",
    "            'metabolite_features': torch.tensor(np.asarray(row['metabolite_features'], dtype=np.float32)),\n",
    "            'protein_features': torch.tensor(np.asarray(row['protein_features'], dtype=np.float32)),\n",
    "            'label': torch.tensor(float(row['label']), dtype=torch.float32),\n",
    "        }"
   ]
  },
  {
   "cell_type": "code",
   "execution_count": 13,
   "metadata": {},
   "outputs": [],
   "source": [
    "# Separate the dataset by unique proteins and drugs\n",
    "unique_proteins = data['Sequence'].unique()\n",
    "unique_mols = data['Smiles'].unique()\n",
    "# Set the seed for reproducibility\n",
    "torch.manual_seed(42)\n",
    "# Function to perform a cold split\n",
    "def cold_split(unique_items, test_size=0.2, val_size=0.1):\n",
    "    train_items, test_items = train_test_split(unique_items, test_size=test_size, random_state=42)\n",
    "    train_items, val_items = train_test_split(train_items, test_size=val_size / (1 - test_size), random_state=42)\n",
    "    return train_items, val_items, test_items\n",
    "# Cold split by proteins\n",
    "train_proteins, val_proteins, test_proteins = cold_split(unique_proteins)\n",
    "train_cold_protein = data[data['Sequence'].isin(train_proteins)]\n",
    "val_cold_protein = data[data['Sequence'].isin(val_proteins)]\n",
    "test_cold_protein = data[data['Sequence'].isin(test_proteins)]\n",
    "# Cold split by molecules\n",
    "train_mols, val_mols, test_mols = cold_split(unique_mols)\n",
    "train_cold_mols = data[data['Smiles'].isin(train_mols)]\n",
    "val_cold_mols = data[data['Smiles'].isin(val_mols)]\n",
    "test_cold_mols = data[data['Smiles'].isin(test_mols)]"
   ]
  },
  {
   "cell_type": "code",
   "execution_count": 14,
   "metadata": {},
   "outputs": [],
   "source": [
    "# cold protein\n",
    "train_dataset = MPI_Dataset(train_cold_protein)\n",
    "val_dataset = MPI_Dataset(val_cold_protein)\n",
    "test_dataset = MPI_Dataset(test_cold_protein)\n",
    "\n",
    "train_loader = DataLoader(train_dataset, batch_size=32, shuffle=True)\n",
    "val_loader = DataLoader(val_dataset, batch_size=32)\n",
    "test_loader = DataLoader(test_dataset, batch_size=32)\n",
    "\n",
    "# cold mols\n",
    "train_dataset_mols = MPI_Dataset(train_cold_mols)\n",
    "val_dataset_mols = MPI_Dataset(val_cold_mols)\n",
    "test_dataset_mols = MPI_Dataset(test_cold_mols)\n",
    "\n",
    "train_loader_mols = DataLoader(train_dataset_mols, batch_size=32, shuffle=True)\n",
    "val_loader_mols = DataLoader(val_dataset_mols, batch_size=32)\n",
    "test_loader_mols = DataLoader(test_dataset_mols, batch_size=32)"
   ]
  },
  {
   "cell_type": "code",
   "execution_count": 15,
   "metadata": {},
   "outputs": [],
   "source": [
    "import torch.nn as nn\n",
    "import torch\n",
    "import torch.nn.functional as F\n",
    "\n",
    "# Define MLP Model for Regression\n",
    "class MLPRegressor(nn.Module):\n",
    "    def __init__(self, mol_input_dim, protein_input_dim, hidden_dim=512):\n",
    "        super(MLPRegressor, self).__init__()\n",
    "\n",
    "        self.mol_encoder = nn.Linear(mol_input_dim, hidden_dim)\n",
    "        self.protein_encoder = nn.Linear(protein_input_dim, hidden_dim)\n",
    "        \n",
    "        # norm layer + Dropout\n",
    "        self.layer_norm = nn.LayerNorm(hidden_dim * 2)\n",
    "        self.dropout = nn.Dropout(0.3)\n",
    "\n",
    "        # hidden layer + output layer\n",
    "        self.hidden = nn.Linear(hidden_dim * 2, hidden_dim)\n",
    "        self.regressor = nn.Linear(hidden_dim, 1)\n",
    "\n",
    "        self.activation = nn.ReLU()\n",
    "\n",
    "    def forward(self, mol_input, protein_input):\n",
    "        # Reshape to (B, 1, L) for Conv1d\n",
    "        mol_embedding = self.activation(self.mol_encoder(mol_input))\n",
    "        protein_embedding = self.activation(self.protein_encoder(protein_input))\n",
    "\n",
    "        # Concatenate + Normalize + Dropout\n",
    "        combined = torch.cat((mol_embedding, protein_embedding), dim=-1)\n",
    "        combined = self.layer_norm(combined)\n",
    "        combined = self.dropout(combined)\n",
    "\n",
    "        # Hidden → Regress\n",
    "        hidden_out = self.activation(self.hidden(combined))\n",
    "        output = self.regressor(hidden_out)\n",
    "\n",
    "        return output.squeeze(1)\n"
   ]
  },
  {
   "cell_type": "code",
   "execution_count": 16,
   "metadata": {},
   "outputs": [],
   "source": [
    "# Check CUDA availability\n",
    "device = torch.device(\"cuda\" if torch.cuda.is_available() else \"cpu\")"
   ]
  },
  {
   "cell_type": "code",
   "execution_count": null,
   "metadata": {},
   "outputs": [
    {
     "name": "stderr",
     "output_type": "stream",
     "text": [
      "Training Epoch 1: 100%|██████████| 378/378 [00:02<00:00, 158.77it/s]\n",
      "/var/folders/yz/c1z6m9_d5d3f80sywjc3rqsc0000gn/T/ipykernel_86683/3478497585.py:92: FutureWarning: The behavior of DataFrame concatenation with empty or all-NA entries is deprecated. In a future version, this will no longer exclude empty or all-NA columns when determining the result dtypes. To retain the old behavior, exclude the relevant entries before the concat operation.\n",
      "  train_history = pd.concat([train_history, pd.DataFrame([new_row])], ignore_index=True)\n"
     ]
    },
    {
     "name": "stdout",
     "output_type": "stream",
     "text": [
      "Epoch 0 - Train Loss: 1.9708, Train MSE: 1.9714, Train MAE: 1.0906\n",
      "Epoch 0 - Validation Loss: 1.9660, Validation MSE: 1.9677, Validation MAE: 1.0648\n"
     ]
    },
    {
     "name": "stderr",
     "output_type": "stream",
     "text": [
      "Training Epoch 2: 100%|██████████| 378/378 [00:02<00:00, 160.11it/s]\n",
      "Training Epoch 3: 100%|██████████| 378/378 [00:02<00:00, 161.51it/s]\n",
      "Training Epoch 4: 100%|██████████| 378/378 [00:02<00:00, 164.00it/s]\n",
      "Training Epoch 5: 100%|██████████| 378/378 [00:02<00:00, 166.62it/s]\n",
      "Training Epoch 6: 100%|██████████| 378/378 [00:02<00:00, 163.03it/s]\n",
      "Training Epoch 7: 100%|██████████| 378/378 [00:02<00:00, 168.51it/s]\n",
      "Training Epoch 8: 100%|██████████| 378/378 [00:02<00:00, 163.13it/s]\n",
      "Training Epoch 9: 100%|██████████| 378/378 [00:02<00:00, 164.16it/s]\n",
      "Training Epoch 10: 100%|██████████| 378/378 [00:02<00:00, 165.04it/s]\n",
      "Training Epoch 11: 100%|██████████| 378/378 [00:02<00:00, 165.93it/s]\n"
     ]
    },
    {
     "name": "stdout",
     "output_type": "stream",
     "text": [
      "Epoch 10 - Train Loss: 1.2764, Train MSE: 1.2770, Train MAE: 0.8566\n",
      "Epoch 10 - Validation Loss: 1.7496, Validation MSE: 1.7524, Validation MAE: 1.0051\n"
     ]
    },
    {
     "name": "stderr",
     "output_type": "stream",
     "text": [
      "Training Epoch 12: 100%|██████████| 378/378 [00:02<00:00, 161.47it/s]\n",
      "Training Epoch 13: 100%|██████████| 378/378 [00:02<00:00, 163.00it/s]\n",
      "Training Epoch 14: 100%|██████████| 378/378 [00:02<00:00, 165.71it/s]\n",
      "Training Epoch 15: 100%|██████████| 378/378 [00:02<00:00, 163.97it/s]\n",
      "Training Epoch 16: 100%|██████████| 378/378 [00:02<00:00, 161.73it/s]\n",
      "Training Epoch 17: 100%|██████████| 378/378 [00:02<00:00, 169.29it/s]\n",
      "Training Epoch 18: 100%|██████████| 378/378 [00:02<00:00, 163.94it/s]\n",
      "Training Epoch 19: 100%|██████████| 378/378 [00:02<00:00, 160.65it/s]\n",
      "Training Epoch 20: 100%|██████████| 378/378 [00:02<00:00, 162.89it/s]\n",
      "Training Epoch 21: 100%|██████████| 378/378 [00:02<00:00, 162.88it/s]\n"
     ]
    },
    {
     "name": "stdout",
     "output_type": "stream",
     "text": [
      "Epoch 20 - Train Loss: 1.0392, Train MSE: 1.0396, Train MAE: 0.7671\n",
      "Epoch 20 - Validation Loss: 1.6668, Validation MSE: 1.6705, Validation MAE: 0.9530\n"
     ]
    },
    {
     "name": "stderr",
     "output_type": "stream",
     "text": [
      "Training Epoch 22: 100%|██████████| 378/378 [00:02<00:00, 166.42it/s]\n",
      "Training Epoch 23: 100%|██████████| 378/378 [00:02<00:00, 164.50it/s]\n",
      "Training Epoch 24: 100%|██████████| 378/378 [00:02<00:00, 163.10it/s]\n",
      "Training Epoch 25: 100%|██████████| 378/378 [00:02<00:00, 164.84it/s]\n",
      "Training Epoch 26: 100%|██████████| 378/378 [00:02<00:00, 159.40it/s]\n",
      "Training Epoch 27: 100%|██████████| 378/378 [00:02<00:00, 162.01it/s]\n",
      "Training Epoch 28: 100%|██████████| 378/378 [00:02<00:00, 163.59it/s]\n",
      "Training Epoch 29: 100%|██████████| 378/378 [00:02<00:00, 165.58it/s]\n",
      "Training Epoch 30: 100%|██████████| 378/378 [00:02<00:00, 161.64it/s]\n",
      "Training Epoch 31: 100%|██████████| 378/378 [00:02<00:00, 165.58it/s]\n"
     ]
    },
    {
     "name": "stdout",
     "output_type": "stream",
     "text": [
      "Epoch 30 - Train Loss: 0.9130, Train MSE: 0.9120, Train MAE: 0.7111\n",
      "Epoch 30 - Validation Loss: 1.6469, Validation MSE: 1.6501, Validation MAE: 0.9357\n"
     ]
    },
    {
     "name": "stderr",
     "output_type": "stream",
     "text": [
      "Training Epoch 32: 100%|██████████| 378/378 [00:02<00:00, 166.87it/s]\n",
      "Training Epoch 33: 100%|██████████| 378/378 [00:02<00:00, 167.25it/s]\n",
      "Training Epoch 34: 100%|██████████| 378/378 [00:02<00:00, 164.81it/s]\n",
      "Training Epoch 35: 100%|██████████| 378/378 [00:02<00:00, 162.68it/s]\n",
      "Training Epoch 36: 100%|██████████| 378/378 [00:02<00:00, 162.65it/s]\n",
      "Training Epoch 37: 100%|██████████| 378/378 [00:02<00:00, 165.40it/s]\n",
      "Training Epoch 38: 100%|██████████| 378/378 [00:02<00:00, 166.01it/s]\n",
      "Training Epoch 39: 100%|██████████| 378/378 [00:02<00:00, 160.53it/s]\n",
      "Training Epoch 40: 100%|██████████| 378/378 [00:02<00:00, 162.84it/s]\n",
      "Training Epoch 41: 100%|██████████| 378/378 [00:02<00:00, 162.82it/s]\n"
     ]
    },
    {
     "name": "stdout",
     "output_type": "stream",
     "text": [
      "Epoch 40 - Train Loss: 0.8342, Train MSE: 0.8346, Train MAE: 0.6751\n",
      "Epoch 40 - Validation Loss: 1.6251, Validation MSE: 1.6277, Validation MAE: 0.9184\n"
     ]
    },
    {
     "name": "stderr",
     "output_type": "stream",
     "text": [
      "Training Epoch 42: 100%|██████████| 378/378 [00:02<00:00, 162.78it/s]\n",
      "Training Epoch 43: 100%|██████████| 378/378 [00:02<00:00, 163.66it/s]\n",
      "Training Epoch 44: 100%|██████████| 378/378 [00:02<00:00, 167.74it/s]\n",
      "Training Epoch 45: 100%|██████████| 378/378 [00:02<00:00, 165.00it/s]\n",
      "Training Epoch 46: 100%|██████████| 378/378 [00:02<00:00, 161.46it/s]\n",
      "Training Epoch 47: 100%|██████████| 378/378 [00:02<00:00, 169.49it/s]\n",
      "Training Epoch 48: 100%|██████████| 378/378 [00:02<00:00, 166.75it/s]\n",
      "Training Epoch 49: 100%|██████████| 378/378 [00:02<00:00, 165.77it/s]\n",
      "Training Epoch 50: 100%|██████████| 378/378 [00:02<00:00, 166.26it/s]\n",
      "Training Epoch 51: 100%|██████████| 378/378 [00:02<00:00, 164.26it/s]\n"
     ]
    },
    {
     "name": "stdout",
     "output_type": "stream",
     "text": [
      "Epoch 50 - Train Loss: 0.7863, Train MSE: 0.7849, Train MAE: 0.6515\n",
      "Epoch 50 - Validation Loss: 1.6605, Validation MSE: 1.6635, Validation MAE: 0.9270\n"
     ]
    },
    {
     "name": "stderr",
     "output_type": "stream",
     "text": [
      "Training Epoch 52: 100%|██████████| 378/378 [00:02<00:00, 160.36it/s]\n",
      "Training Epoch 53: 100%|██████████| 378/378 [00:02<00:00, 164.78it/s]\n",
      "Training Epoch 54: 100%|██████████| 378/378 [00:02<00:00, 162.77it/s]\n",
      "Training Epoch 55: 100%|██████████| 378/378 [00:02<00:00, 163.75it/s]\n",
      "Training Epoch 56: 100%|██████████| 378/378 [00:02<00:00, 168.62it/s]\n",
      "Training Epoch 57: 100%|██████████| 378/378 [00:02<00:00, 167.04it/s]\n",
      "Training Epoch 58: 100%|██████████| 378/378 [00:02<00:00, 163.16it/s]\n",
      "Training Epoch 59: 100%|██████████| 378/378 [00:02<00:00, 163.80it/s]\n",
      "Training Epoch 60: 100%|██████████| 378/378 [00:02<00:00, 163.33it/s]\n",
      "Training Epoch 61: 100%|██████████| 378/378 [00:02<00:00, 158.72it/s]\n"
     ]
    },
    {
     "name": "stdout",
     "output_type": "stream",
     "text": [
      "Epoch 60 - Train Loss: 0.7385, Train MSE: 0.7390, Train MAE: 0.6281\n",
      "Epoch 60 - Validation Loss: 1.6106, Validation MSE: 1.6135, Validation MAE: 0.9234\n"
     ]
    },
    {
     "name": "stderr",
     "output_type": "stream",
     "text": [
      "Training Epoch 62: 100%|██████████| 378/378 [00:02<00:00, 165.93it/s]\n",
      "Training Epoch 63: 100%|██████████| 378/378 [00:02<00:00, 166.72it/s]\n",
      "Training Epoch 64: 100%|██████████| 378/378 [00:02<00:00, 165.43it/s]\n",
      "Training Epoch 65: 100%|██████████| 378/378 [00:02<00:00, 161.11it/s]\n",
      "Training Epoch 66: 100%|██████████| 378/378 [00:02<00:00, 165.75it/s]\n",
      "Training Epoch 67: 100%|██████████| 378/378 [00:02<00:00, 160.45it/s]\n",
      "Training Epoch 68: 100%|██████████| 378/378 [00:02<00:00, 169.46it/s]\n",
      "Training Epoch 69: 100%|██████████| 378/378 [00:02<00:00, 164.62it/s]\n",
      "Training Epoch 70: 100%|██████████| 378/378 [00:02<00:00, 164.45it/s]\n",
      "Training Epoch 71: 100%|██████████| 378/378 [00:02<00:00, 161.50it/s]\n"
     ]
    },
    {
     "name": "stdout",
     "output_type": "stream",
     "text": [
      "Epoch 70 - Train Loss: 0.7073, Train MSE: 0.7074, Train MAE: 0.6133\n",
      "Epoch 70 - Validation Loss: 1.6162, Validation MSE: 1.6187, Validation MAE: 0.9168\n"
     ]
    },
    {
     "name": "stderr",
     "output_type": "stream",
     "text": [
      "Training Epoch 72: 100%|██████████| 378/378 [00:02<00:00, 159.71it/s]\n",
      "Training Epoch 73: 100%|██████████| 378/378 [00:02<00:00, 171.11it/s]\n",
      "Training Epoch 74: 100%|██████████| 378/378 [00:02<00:00, 173.16it/s]\n",
      "Training Epoch 75: 100%|██████████| 378/378 [00:02<00:00, 169.71it/s]\n",
      "Training Epoch 76: 100%|██████████| 378/378 [00:02<00:00, 166.14it/s]\n",
      "Training Epoch 77: 100%|██████████| 378/378 [00:02<00:00, 164.12it/s]\n",
      "Training Epoch 78: 100%|██████████| 378/378 [00:02<00:00, 171.56it/s]\n",
      "Training Epoch 79: 100%|██████████| 378/378 [00:02<00:00, 163.70it/s]\n",
      "Training Epoch 80: 100%|██████████| 378/378 [00:02<00:00, 173.92it/s]\n",
      "Training Epoch 81: 100%|██████████| 378/378 [00:02<00:00, 167.86it/s]\n"
     ]
    },
    {
     "name": "stdout",
     "output_type": "stream",
     "text": [
      "Epoch 80 - Train Loss: 0.6787, Train MSE: 0.6781, Train MAE: 0.5963\n",
      "Epoch 80 - Validation Loss: 1.5973, Validation MSE: 1.6004, Validation MAE: 0.9128\n"
     ]
    },
    {
     "name": "stderr",
     "output_type": "stream",
     "text": [
      "Training Epoch 82: 100%|██████████| 378/378 [00:02<00:00, 168.98it/s]\n",
      "Training Epoch 83: 100%|██████████| 378/378 [00:02<00:00, 170.22it/s]\n",
      "Training Epoch 84: 100%|██████████| 378/378 [00:02<00:00, 168.45it/s]\n",
      "Training Epoch 85: 100%|██████████| 378/378 [00:02<00:00, 167.58it/s]\n",
      "Training Epoch 86: 100%|██████████| 378/378 [00:02<00:00, 164.30it/s]\n",
      "Training Epoch 87: 100%|██████████| 378/378 [00:02<00:00, 170.11it/s]\n",
      "Training Epoch 88: 100%|██████████| 378/378 [00:02<00:00, 171.52it/s]\n",
      "Training Epoch 89: 100%|██████████| 378/378 [00:02<00:00, 173.05it/s]\n",
      "Training Epoch 90: 100%|██████████| 378/378 [00:02<00:00, 168.44it/s]\n",
      "Training Epoch 91: 100%|██████████| 378/378 [00:02<00:00, 171.42it/s]\n"
     ]
    },
    {
     "name": "stdout",
     "output_type": "stream",
     "text": [
      "Epoch 90 - Train Loss: 0.6666, Train MSE: 0.6664, Train MAE: 0.5905\n",
      "Epoch 90 - Validation Loss: 1.5889, Validation MSE: 1.5924, Validation MAE: 0.9093\n"
     ]
    },
    {
     "name": "stderr",
     "output_type": "stream",
     "text": [
      "Training Epoch 92: 100%|██████████| 378/378 [00:02<00:00, 170.99it/s]\n",
      "Training Epoch 93: 100%|██████████| 378/378 [00:02<00:00, 163.11it/s]\n",
      "Training Epoch 94: 100%|██████████| 378/378 [00:02<00:00, 167.90it/s]\n",
      "Training Epoch 95: 100%|██████████| 378/378 [00:02<00:00, 166.16it/s]\n",
      "Training Epoch 96: 100%|██████████| 378/378 [00:02<00:00, 168.50it/s]\n",
      "Training Epoch 97: 100%|██████████| 378/378 [00:02<00:00, 172.95it/s]\n",
      "Training Epoch 98: 100%|██████████| 378/378 [00:02<00:00, 172.49it/s]\n",
      "Training Epoch 99: 100%|██████████| 378/378 [00:02<00:00, 170.18it/s]\n",
      "Training Epoch 100: 100%|██████████| 378/378 [00:02<00:00, 165.55it/s]\n",
      "Training Epoch 101: 100%|██████████| 378/378 [00:02<00:00, 169.87it/s]\n"
     ]
    },
    {
     "name": "stdout",
     "output_type": "stream",
     "text": [
      "Epoch 100 - Train Loss: 0.6441, Train MSE: 0.6441, Train MAE: 0.5780\n",
      "Epoch 100 - Validation Loss: 1.6107, Validation MSE: 1.6130, Validation MAE: 0.9034\n"
     ]
    },
    {
     "name": "stderr",
     "output_type": "stream",
     "text": [
      "Training Epoch 102: 100%|██████████| 378/378 [00:02<00:00, 169.55it/s]\n",
      "Training Epoch 103: 100%|██████████| 378/378 [00:02<00:00, 168.17it/s]\n",
      "Training Epoch 104: 100%|██████████| 378/378 [00:02<00:00, 167.90it/s]\n",
      "Training Epoch 105: 100%|██████████| 378/378 [00:02<00:00, 166.80it/s]\n",
      "Training Epoch 106: 100%|██████████| 378/378 [00:02<00:00, 168.38it/s]\n",
      "Training Epoch 107: 100%|██████████| 378/378 [00:02<00:00, 171.54it/s]\n",
      "Training Epoch 108: 100%|██████████| 378/378 [00:02<00:00, 167.00it/s]\n",
      "Training Epoch 109: 100%|██████████| 378/378 [00:02<00:00, 172.30it/s]\n",
      "Training Epoch 110: 100%|██████████| 378/378 [00:02<00:00, 170.57it/s]\n",
      "Training Epoch 111: 100%|██████████| 378/378 [00:02<00:00, 168.65it/s]\n"
     ]
    },
    {
     "name": "stdout",
     "output_type": "stream",
     "text": [
      "Epoch 110 - Train Loss: 0.6249, Train MSE: 0.6250, Train MAE: 0.5669\n",
      "Epoch 110 - Validation Loss: 1.6449, Validation MSE: 1.6480, Validation MAE: 0.9242\n"
     ]
    },
    {
     "name": "stderr",
     "output_type": "stream",
     "text": [
      "Training Epoch 112: 100%|██████████| 378/378 [00:02<00:00, 170.93it/s]\n",
      "Training Epoch 113: 100%|██████████| 378/378 [00:02<00:00, 164.15it/s]\n",
      "Training Epoch 114: 100%|██████████| 378/378 [00:02<00:00, 165.80it/s]\n",
      "Training Epoch 115: 100%|██████████| 378/378 [00:02<00:00, 170.45it/s]\n",
      "Training Epoch 116: 100%|██████████| 378/378 [00:02<00:00, 169.81it/s]\n",
      "Training Epoch 117: 100%|██████████| 378/378 [00:02<00:00, 169.25it/s]\n",
      "Training Epoch 118: 100%|██████████| 378/378 [00:02<00:00, 167.93it/s]\n",
      "Training Epoch 119: 100%|██████████| 378/378 [00:02<00:00, 167.19it/s]\n",
      "Training Epoch 120: 100%|██████████| 378/378 [00:02<00:00, 164.36it/s]\n",
      "Training Epoch 121: 100%|██████████| 378/378 [00:02<00:00, 173.79it/s]\n"
     ]
    },
    {
     "name": "stdout",
     "output_type": "stream",
     "text": [
      "Epoch 120 - Train Loss: 0.6160, Train MSE: 0.6160, Train MAE: 0.5598\n",
      "Epoch 120 - Validation Loss: 1.6071, Validation MSE: 1.6087, Validation MAE: 0.9101\n"
     ]
    },
    {
     "name": "stderr",
     "output_type": "stream",
     "text": [
      "Training Epoch 122: 100%|██████████| 378/378 [00:02<00:00, 168.81it/s]\n",
      "Training Epoch 123: 100%|██████████| 378/378 [00:02<00:00, 169.55it/s]\n",
      "Training Epoch 124: 100%|██████████| 378/378 [00:02<00:00, 165.04it/s]\n",
      "Training Epoch 125: 100%|██████████| 378/378 [00:02<00:00, 162.72it/s]\n",
      "Training Epoch 126: 100%|██████████| 378/378 [00:02<00:00, 167.07it/s]\n",
      "Training Epoch 127: 100%|██████████| 378/378 [00:02<00:00, 170.34it/s]\n",
      "Training Epoch 128: 100%|██████████| 378/378 [00:02<00:00, 167.00it/s]\n",
      "Training Epoch 129: 100%|██████████| 378/378 [00:02<00:00, 166.06it/s]\n",
      "Training Epoch 130: 100%|██████████| 378/378 [00:02<00:00, 169.07it/s]\n",
      "Training Epoch 131: 100%|██████████| 378/378 [00:02<00:00, 167.79it/s]\n"
     ]
    },
    {
     "name": "stdout",
     "output_type": "stream",
     "text": [
      "Epoch 130 - Train Loss: 0.5950, Train MSE: 0.5950, Train MAE: 0.5484\n",
      "Epoch 130 - Validation Loss: 1.6465, Validation MSE: 1.6495, Validation MAE: 0.9194\n"
     ]
    },
    {
     "name": "stderr",
     "output_type": "stream",
     "text": [
      "Training Epoch 132: 100%|██████████| 378/378 [00:02<00:00, 169.34it/s]\n",
      "Training Epoch 133: 100%|██████████| 378/378 [00:02<00:00, 166.52it/s]\n",
      "Training Epoch 134: 100%|██████████| 378/378 [00:02<00:00, 167.22it/s]\n",
      "Training Epoch 135: 100%|██████████| 378/378 [00:02<00:00, 169.63it/s]\n",
      "Training Epoch 136: 100%|██████████| 378/378 [00:02<00:00, 171.79it/s]\n",
      "Training Epoch 137: 100%|██████████| 378/378 [00:02<00:00, 164.34it/s]\n",
      "Training Epoch 138: 100%|██████████| 378/378 [00:02<00:00, 167.40it/s]\n",
      "Training Epoch 139: 100%|██████████| 378/378 [00:02<00:00, 166.58it/s]\n",
      "Training Epoch 140: 100%|██████████| 378/378 [00:02<00:00, 164.45it/s]\n",
      "Training Epoch 141: 100%|██████████| 378/378 [00:02<00:00, 163.00it/s]\n"
     ]
    },
    {
     "name": "stdout",
     "output_type": "stream",
     "text": [
      "Epoch 140 - Train Loss: 0.5921, Train MSE: 0.5922, Train MAE: 0.5464\n",
      "Epoch 140 - Validation Loss: 1.5542, Validation MSE: 1.5560, Validation MAE: 0.8865\n"
     ]
    },
    {
     "name": "stderr",
     "output_type": "stream",
     "text": [
      "Training Epoch 142: 100%|██████████| 378/378 [00:02<00:00, 170.27it/s]\n",
      "Training Epoch 143: 100%|██████████| 378/378 [00:02<00:00, 164.80it/s]\n",
      "Training Epoch 144: 100%|██████████| 378/378 [00:02<00:00, 168.57it/s]\n",
      "Training Epoch 145: 100%|██████████| 378/378 [00:02<00:00, 171.99it/s]\n",
      "Training Epoch 146: 100%|██████████| 378/378 [00:02<00:00, 168.87it/s]\n",
      "Training Epoch 147: 100%|██████████| 378/378 [00:02<00:00, 168.66it/s]\n",
      "Training Epoch 148: 100%|██████████| 378/378 [00:02<00:00, 168.15it/s]\n",
      "Training Epoch 149: 100%|██████████| 378/378 [00:02<00:00, 170.80it/s]\n",
      "Training Epoch 150: 100%|██████████| 378/378 [00:02<00:00, 169.43it/s]\n",
      "Training Epoch 151: 100%|██████████| 378/378 [00:02<00:00, 166.21it/s]\n"
     ]
    },
    {
     "name": "stdout",
     "output_type": "stream",
     "text": [
      "Epoch 150 - Train Loss: 0.5751, Train MSE: 0.5749, Train MAE: 0.5348\n",
      "Epoch 150 - Validation Loss: 1.6227, Validation MSE: 1.6249, Validation MAE: 0.9080\n"
     ]
    },
    {
     "name": "stderr",
     "output_type": "stream",
     "text": [
      "Training Epoch 152: 100%|██████████| 378/378 [00:02<00:00, 163.58it/s]\n",
      "Training Epoch 153: 100%|██████████| 378/378 [00:02<00:00, 167.87it/s]\n",
      "Training Epoch 154: 100%|██████████| 378/378 [00:02<00:00, 165.49it/s]\n",
      "Training Epoch 155: 100%|██████████| 378/378 [00:02<00:00, 171.29it/s]\n",
      "Training Epoch 156: 100%|██████████| 378/378 [00:02<00:00, 168.93it/s]\n",
      "Training Epoch 157: 100%|██████████| 378/378 [00:02<00:00, 167.17it/s]\n",
      "Training Epoch 158: 100%|██████████| 378/378 [00:02<00:00, 166.12it/s]\n",
      "Training Epoch 159: 100%|██████████| 378/378 [00:02<00:00, 170.61it/s]\n",
      "Training Epoch 160: 100%|██████████| 378/378 [00:02<00:00, 164.11it/s]\n",
      "Training Epoch 161: 100%|██████████| 378/378 [00:02<00:00, 169.43it/s]\n"
     ]
    },
    {
     "name": "stdout",
     "output_type": "stream",
     "text": [
      "Epoch 160 - Train Loss: 0.5638, Train MSE: 0.5639, Train MAE: 0.5318\n",
      "Epoch 160 - Validation Loss: 1.6546, Validation MSE: 1.6576, Validation MAE: 0.9133\n"
     ]
    },
    {
     "name": "stderr",
     "output_type": "stream",
     "text": [
      "Training Epoch 162: 100%|██████████| 378/378 [00:02<00:00, 167.97it/s]\n",
      "Training Epoch 163: 100%|██████████| 378/378 [00:02<00:00, 165.70it/s]\n",
      "Training Epoch 164: 100%|██████████| 378/378 [00:02<00:00, 167.59it/s]\n",
      "Training Epoch 165: 100%|██████████| 378/378 [00:02<00:00, 170.17it/s]\n",
      "Training Epoch 166: 100%|██████████| 378/378 [00:02<00:00, 163.82it/s]\n",
      "Training Epoch 167: 100%|██████████| 378/378 [00:02<00:00, 163.52it/s]\n",
      "Training Epoch 168: 100%|██████████| 378/378 [00:02<00:00, 172.98it/s]\n",
      "Training Epoch 169: 100%|██████████| 378/378 [00:02<00:00, 169.73it/s]\n",
      "Training Epoch 170: 100%|██████████| 378/378 [00:02<00:00, 166.06it/s]\n",
      "Training Epoch 171: 100%|██████████| 378/378 [00:02<00:00, 168.37it/s]\n"
     ]
    },
    {
     "name": "stdout",
     "output_type": "stream",
     "text": [
      "Epoch 170 - Train Loss: 0.5647, Train MSE: 0.5647, Train MAE: 0.5281\n",
      "Epoch 170 - Validation Loss: 1.6037, Validation MSE: 1.6061, Validation MAE: 0.8942\n"
     ]
    },
    {
     "name": "stderr",
     "output_type": "stream",
     "text": [
      "Training Epoch 172: 100%|██████████| 378/378 [00:02<00:00, 165.72it/s]\n",
      "Training Epoch 173: 100%|██████████| 378/378 [00:02<00:00, 165.07it/s]\n",
      "Training Epoch 174: 100%|██████████| 378/378 [00:02<00:00, 164.56it/s]\n",
      "Training Epoch 175: 100%|██████████| 378/378 [00:02<00:00, 167.91it/s]\n",
      "Training Epoch 176: 100%|██████████| 378/378 [00:02<00:00, 166.36it/s]\n",
      "Training Epoch 177: 100%|██████████| 378/378 [00:02<00:00, 169.08it/s]\n",
      "Training Epoch 178: 100%|██████████| 378/378 [00:02<00:00, 166.06it/s]\n",
      "Training Epoch 179: 100%|██████████| 378/378 [00:02<00:00, 167.51it/s]\n",
      "Training Epoch 180: 100%|██████████| 378/378 [00:02<00:00, 169.44it/s]\n",
      "Training Epoch 181: 100%|██████████| 378/378 [00:02<00:00, 161.48it/s]\n"
     ]
    },
    {
     "name": "stdout",
     "output_type": "stream",
     "text": [
      "Epoch 180 - Train Loss: 0.5632, Train MSE: 0.5636, Train MAE: 0.5262\n",
      "Epoch 180 - Validation Loss: 1.6029, Validation MSE: 1.6054, Validation MAE: 0.9047\n"
     ]
    },
    {
     "name": "stderr",
     "output_type": "stream",
     "text": [
      "Training Epoch 182: 100%|██████████| 378/378 [00:02<00:00, 169.22it/s]\n",
      "Training Epoch 183: 100%|██████████| 378/378 [00:02<00:00, 168.01it/s]\n",
      "Training Epoch 184: 100%|██████████| 378/378 [00:02<00:00, 170.96it/s]\n",
      "Training Epoch 185: 100%|██████████| 378/378 [00:02<00:00, 171.64it/s]\n",
      "Training Epoch 186: 100%|██████████| 378/378 [00:02<00:00, 165.66it/s]\n",
      "Training Epoch 187: 100%|██████████| 378/378 [00:02<00:00, 171.20it/s]\n",
      "Training Epoch 188: 100%|██████████| 378/378 [00:02<00:00, 170.12it/s]\n",
      "Training Epoch 189: 100%|██████████| 378/378 [00:02<00:00, 174.02it/s]\n",
      "Training Epoch 190: 100%|██████████| 378/378 [00:02<00:00, 176.03it/s]\n",
      "Training Epoch 191: 100%|██████████| 378/378 [00:02<00:00, 170.62it/s]\n"
     ]
    },
    {
     "name": "stdout",
     "output_type": "stream",
     "text": [
      "Epoch 190 - Train Loss: 0.5500, Train MSE: 0.5501, Train MAE: 0.5191\n",
      "Epoch 190 - Validation Loss: 1.6199, Validation MSE: 1.6219, Validation MAE: 0.9071\n"
     ]
    },
    {
     "name": "stderr",
     "output_type": "stream",
     "text": [
      "Training Epoch 192: 100%|██████████| 378/378 [00:02<00:00, 169.21it/s]\n",
      "Training Epoch 193: 100%|██████████| 378/378 [00:02<00:00, 172.89it/s]\n",
      "Training Epoch 194: 100%|██████████| 378/378 [00:02<00:00, 168.38it/s]\n",
      "Training Epoch 195: 100%|██████████| 378/378 [00:02<00:00, 170.72it/s]\n",
      "Training Epoch 196: 100%|██████████| 378/378 [00:02<00:00, 174.22it/s]\n",
      "Training Epoch 197: 100%|██████████| 378/378 [00:02<00:00, 171.29it/s]\n",
      "Training Epoch 198: 100%|██████████| 378/378 [00:02<00:00, 166.40it/s]\n",
      "Training Epoch 199: 100%|██████████| 378/378 [00:02<00:00, 168.96it/s]\n",
      "Training Epoch 200: 100%|██████████| 378/378 [00:02<00:00, 168.51it/s]\n",
      "Training Epoch 201: 100%|██████████| 378/378 [00:02<00:00, 168.36it/s]\n"
     ]
    },
    {
     "name": "stdout",
     "output_type": "stream",
     "text": [
      "Epoch 200 - Train Loss: 0.5554, Train MSE: 0.5549, Train MAE: 0.5188\n",
      "Epoch 200 - Validation Loss: 1.6206, Validation MSE: 1.6229, Validation MAE: 0.8960\n"
     ]
    },
    {
     "name": "stderr",
     "output_type": "stream",
     "text": [
      "Training Epoch 202: 100%|██████████| 378/378 [00:02<00:00, 171.47it/s]\n",
      "Training Epoch 203: 100%|██████████| 378/378 [00:02<00:00, 169.55it/s]\n",
      "Training Epoch 204: 100%|██████████| 378/378 [00:02<00:00, 165.71it/s]\n",
      "Training Epoch 205: 100%|██████████| 378/378 [00:02<00:00, 165.98it/s]\n",
      "Training Epoch 206: 100%|██████████| 378/378 [00:02<00:00, 169.40it/s]\n",
      "Training Epoch 207: 100%|██████████| 378/378 [00:02<00:00, 172.51it/s]\n",
      "Training Epoch 208: 100%|██████████| 378/378 [00:02<00:00, 167.53it/s]\n",
      "Training Epoch 209: 100%|██████████| 378/378 [00:02<00:00, 166.41it/s]\n",
      "Training Epoch 210: 100%|██████████| 378/378 [00:02<00:00, 169.66it/s]\n",
      "Training Epoch 211: 100%|██████████| 378/378 [00:02<00:00, 172.95it/s]\n"
     ]
    },
    {
     "name": "stdout",
     "output_type": "stream",
     "text": [
      "Epoch 210 - Train Loss: 0.5391, Train MSE: 0.5393, Train MAE: 0.5111\n",
      "Epoch 210 - Validation Loss: 1.5897, Validation MSE: 1.5929, Validation MAE: 0.8896\n"
     ]
    },
    {
     "name": "stderr",
     "output_type": "stream",
     "text": [
      "Training Epoch 212: 100%|██████████| 378/378 [00:02<00:00, 173.91it/s]\n",
      "Training Epoch 213: 100%|██████████| 378/378 [00:02<00:00, 170.62it/s]\n",
      "Training Epoch 214: 100%|██████████| 378/378 [00:02<00:00, 170.20it/s]\n",
      "Training Epoch 215: 100%|██████████| 378/378 [00:02<00:00, 167.27it/s]\n",
      "Training Epoch 216: 100%|██████████| 378/378 [00:02<00:00, 169.17it/s]\n",
      "Training Epoch 217: 100%|██████████| 378/378 [00:02<00:00, 171.54it/s]\n",
      "Training Epoch 218: 100%|██████████| 378/378 [00:02<00:00, 170.51it/s]\n",
      "Training Epoch 219: 100%|██████████| 378/378 [00:02<00:00, 172.24it/s]\n",
      "Training Epoch 220: 100%|██████████| 378/378 [00:02<00:00, 175.75it/s]\n",
      "Training Epoch 221: 100%|██████████| 378/378 [00:02<00:00, 172.18it/s]\n"
     ]
    },
    {
     "name": "stdout",
     "output_type": "stream",
     "text": [
      "Epoch 220 - Train Loss: 0.5375, Train MSE: 0.5376, Train MAE: 0.5097\n",
      "Epoch 220 - Validation Loss: 1.6317, Validation MSE: 1.6347, Validation MAE: 0.8915\n"
     ]
    },
    {
     "name": "stderr",
     "output_type": "stream",
     "text": [
      "Training Epoch 222: 100%|██████████| 378/378 [00:02<00:00, 167.26it/s]\n",
      "Training Epoch 223: 100%|██████████| 378/378 [00:02<00:00, 169.88it/s]\n",
      "Training Epoch 224: 100%|██████████| 378/378 [00:02<00:00, 167.12it/s]\n",
      "Training Epoch 225: 100%|██████████| 378/378 [00:02<00:00, 175.60it/s]\n",
      "Training Epoch 226: 100%|██████████| 378/378 [00:02<00:00, 171.96it/s]\n",
      "Training Epoch 227: 100%|██████████| 378/378 [00:02<00:00, 172.49it/s]\n",
      "Training Epoch 228: 100%|██████████| 378/378 [00:02<00:00, 173.64it/s]\n",
      "Training Epoch 229: 100%|██████████| 378/378 [00:02<00:00, 168.18it/s]\n",
      "Training Epoch 230: 100%|██████████| 378/378 [00:02<00:00, 172.68it/s]\n",
      "Training Epoch 231: 100%|██████████| 378/378 [00:02<00:00, 178.67it/s]\n"
     ]
    },
    {
     "name": "stdout",
     "output_type": "stream",
     "text": [
      "Epoch 230 - Train Loss: 0.5319, Train MSE: 0.5317, Train MAE: 0.5053\n",
      "Epoch 230 - Validation Loss: 1.5879, Validation MSE: 1.5905, Validation MAE: 0.8909\n"
     ]
    },
    {
     "name": "stderr",
     "output_type": "stream",
     "text": [
      "Training Epoch 232: 100%|██████████| 378/378 [00:02<00:00, 169.31it/s]\n",
      "Training Epoch 233: 100%|██████████| 378/378 [00:02<00:00, 175.51it/s]\n",
      "Training Epoch 234: 100%|██████████| 378/378 [00:02<00:00, 172.04it/s]\n",
      "Training Epoch 235: 100%|██████████| 378/378 [00:02<00:00, 168.49it/s]\n",
      "Training Epoch 236: 100%|██████████| 378/378 [00:02<00:00, 169.69it/s]\n",
      "Training Epoch 237: 100%|██████████| 378/378 [00:02<00:00, 170.42it/s]\n",
      "Training Epoch 238: 100%|██████████| 378/378 [00:02<00:00, 170.65it/s]\n",
      "Training Epoch 239: 100%|██████████| 378/378 [00:02<00:00, 175.56it/s]\n",
      "Training Epoch 240: 100%|██████████| 378/378 [00:02<00:00, 175.22it/s]\n",
      "Training Epoch 241: 100%|██████████| 378/378 [00:02<00:00, 173.18it/s]\n"
     ]
    },
    {
     "name": "stdout",
     "output_type": "stream",
     "text": [
      "Epoch 240 - Train Loss: 0.5353, Train MSE: 0.5348, Train MAE: 0.5057\n",
      "Epoch 240 - Validation Loss: 1.5943, Validation MSE: 1.5968, Validation MAE: 0.8876\n"
     ]
    },
    {
     "name": "stderr",
     "output_type": "stream",
     "text": [
      "Training Epoch 242: 100%|██████████| 378/378 [00:02<00:00, 172.16it/s]\n",
      "Training Epoch 243: 100%|██████████| 378/378 [00:02<00:00, 168.19it/s]\n",
      "Training Epoch 244: 100%|██████████| 378/378 [00:02<00:00, 172.75it/s]\n",
      "Training Epoch 245: 100%|██████████| 378/378 [00:02<00:00, 169.65it/s]\n",
      "Training Epoch 246: 100%|██████████| 378/378 [00:02<00:00, 171.89it/s]\n",
      "Training Epoch 247: 100%|██████████| 378/378 [00:02<00:00, 172.82it/s]\n",
      "Training Epoch 248: 100%|██████████| 378/378 [00:02<00:00, 174.02it/s]\n",
      "Training Epoch 249: 100%|██████████| 378/378 [00:02<00:00, 176.36it/s]\n",
      "Training Epoch 250: 100%|██████████| 378/378 [00:02<00:00, 167.40it/s]\n",
      "Training Epoch 251: 100%|██████████| 378/378 [00:02<00:00, 171.68it/s]\n"
     ]
    },
    {
     "name": "stdout",
     "output_type": "stream",
     "text": [
      "Epoch 250 - Train Loss: 0.5225, Train MSE: 0.5225, Train MAE: 0.4981\n",
      "Epoch 250 - Validation Loss: 1.5849, Validation MSE: 1.5876, Validation MAE: 0.8906\n"
     ]
    },
    {
     "name": "stderr",
     "output_type": "stream",
     "text": [
      "Training Epoch 252: 100%|██████████| 378/378 [00:02<00:00, 174.34it/s]\n",
      "Training Epoch 253: 100%|██████████| 378/378 [00:02<00:00, 166.31it/s]\n",
      "Training Epoch 254: 100%|██████████| 378/378 [00:02<00:00, 174.62it/s]\n",
      "Training Epoch 255: 100%|██████████| 378/378 [00:02<00:00, 174.83it/s]\n",
      "Training Epoch 256: 100%|██████████| 378/378 [00:02<00:00, 172.46it/s]\n",
      "Training Epoch 257: 100%|██████████| 378/378 [00:02<00:00, 171.51it/s]\n",
      "Training Epoch 258: 100%|██████████| 378/378 [00:02<00:00, 174.06it/s]\n",
      "Training Epoch 259: 100%|██████████| 378/378 [00:02<00:00, 176.07it/s]\n",
      "Training Epoch 260: 100%|██████████| 378/378 [00:02<00:00, 168.85it/s]\n",
      "Training Epoch 261: 100%|██████████| 378/378 [00:02<00:00, 174.15it/s]\n"
     ]
    },
    {
     "name": "stdout",
     "output_type": "stream",
     "text": [
      "Epoch 260 - Train Loss: 0.5188, Train MSE: 0.5188, Train MAE: 0.4972\n",
      "Epoch 260 - Validation Loss: 1.5683, Validation MSE: 1.5706, Validation MAE: 0.8837\n"
     ]
    },
    {
     "name": "stderr",
     "output_type": "stream",
     "text": [
      "Training Epoch 262: 100%|██████████| 378/378 [00:02<00:00, 178.54it/s]\n",
      "Training Epoch 263: 100%|██████████| 378/378 [00:02<00:00, 172.82it/s]\n",
      "Training Epoch 264: 100%|██████████| 378/378 [00:02<00:00, 169.36it/s]\n",
      "Training Epoch 265: 100%|██████████| 378/378 [00:02<00:00, 173.56it/s]\n",
      "Training Epoch 266: 100%|██████████| 378/378 [00:02<00:00, 173.26it/s]\n",
      "Training Epoch 267: 100%|██████████| 378/378 [00:02<00:00, 178.57it/s]\n",
      "Training Epoch 268: 100%|██████████| 378/378 [00:02<00:00, 174.82it/s]\n",
      "Training Epoch 269: 100%|██████████| 378/378 [00:02<00:00, 175.50it/s]\n",
      "Training Epoch 270: 100%|██████████| 378/378 [00:02<00:00, 172.83it/s]\n",
      "Training Epoch 271: 100%|██████████| 378/378 [00:02<00:00, 171.16it/s]\n"
     ]
    },
    {
     "name": "stdout",
     "output_type": "stream",
     "text": [
      "Epoch 270 - Train Loss: 0.5142, Train MSE: 0.5138, Train MAE: 0.4939\n",
      "Epoch 270 - Validation Loss: 1.5665, Validation MSE: 1.5689, Validation MAE: 0.8861\n"
     ]
    },
    {
     "name": "stderr",
     "output_type": "stream",
     "text": [
      "Training Epoch 272: 100%|██████████| 378/378 [00:02<00:00, 171.31it/s]\n",
      "Training Epoch 273: 100%|██████████| 378/378 [00:02<00:00, 176.51it/s]\n",
      "Training Epoch 274: 100%|██████████| 378/378 [00:02<00:00, 169.81it/s]\n",
      "Training Epoch 275: 100%|██████████| 378/378 [00:02<00:00, 174.04it/s]\n",
      "Training Epoch 276: 100%|██████████| 378/378 [00:02<00:00, 176.20it/s]\n",
      "Training Epoch 277: 100%|██████████| 378/378 [00:02<00:00, 173.74it/s]\n",
      "Training Epoch 278: 100%|██████████| 378/378 [00:02<00:00, 174.39it/s]\n",
      "Training Epoch 279: 100%|██████████| 378/378 [00:02<00:00, 173.26it/s]\n",
      "Training Epoch 280: 100%|██████████| 378/378 [00:02<00:00, 174.68it/s]\n",
      "Training Epoch 281: 100%|██████████| 378/378 [00:02<00:00, 176.77it/s]\n"
     ]
    },
    {
     "name": "stdout",
     "output_type": "stream",
     "text": [
      "Epoch 280 - Train Loss: 0.5102, Train MSE: 0.5102, Train MAE: 0.4921\n",
      "Epoch 280 - Validation Loss: 1.6024, Validation MSE: 1.6057, Validation MAE: 0.8932\n"
     ]
    },
    {
     "name": "stderr",
     "output_type": "stream",
     "text": [
      "Training Epoch 282: 100%|██████████| 378/378 [00:02<00:00, 172.46it/s]\n",
      "Training Epoch 283: 100%|██████████| 378/378 [00:02<00:00, 177.17it/s]\n",
      "Training Epoch 284: 100%|██████████| 378/378 [00:02<00:00, 175.22it/s]\n",
      "Training Epoch 285: 100%|██████████| 378/378 [00:02<00:00, 170.51it/s]\n",
      "Training Epoch 286: 100%|██████████| 378/378 [00:02<00:00, 176.21it/s]\n",
      "Training Epoch 287: 100%|██████████| 378/378 [00:02<00:00, 174.91it/s]\n",
      "Training Epoch 288: 100%|██████████| 378/378 [00:02<00:00, 175.27it/s]\n",
      "Training Epoch 289: 100%|██████████| 378/378 [00:02<00:00, 172.35it/s]\n",
      "Training Epoch 290: 100%|██████████| 378/378 [00:02<00:00, 168.88it/s]\n",
      "Training Epoch 291: 100%|██████████| 378/378 [00:02<00:00, 171.12it/s]\n"
     ]
    },
    {
     "name": "stdout",
     "output_type": "stream",
     "text": [
      "Epoch 290 - Train Loss: 0.5097, Train MSE: 0.5094, Train MAE: 0.4923\n",
      "Epoch 290 - Validation Loss: 1.5884, Validation MSE: 1.5915, Validation MAE: 0.8858\n"
     ]
    },
    {
     "name": "stderr",
     "output_type": "stream",
     "text": [
      "Training Epoch 292: 100%|██████████| 378/378 [00:02<00:00, 168.26it/s]\n",
      "Training Epoch 293: 100%|██████████| 378/378 [00:02<00:00, 171.35it/s]\n",
      "Training Epoch 294: 100%|██████████| 378/378 [00:02<00:00, 170.53it/s]\n",
      "Training Epoch 295: 100%|██████████| 378/378 [00:02<00:00, 170.24it/s]\n",
      "Training Epoch 296: 100%|██████████| 378/378 [00:02<00:00, 172.05it/s]\n",
      "Training Epoch 297: 100%|██████████| 378/378 [00:02<00:00, 177.59it/s]\n",
      "Training Epoch 298: 100%|██████████| 378/378 [00:02<00:00, 172.76it/s]\n",
      "Training Epoch 299: 100%|██████████| 378/378 [00:02<00:00, 171.63it/s]\n",
      "Training Epoch 300: 100%|██████████| 378/378 [00:02<00:00, 168.51it/s]\n",
      "Training Epoch 301: 100%|██████████| 378/378 [00:02<00:00, 173.67it/s]\n"
     ]
    },
    {
     "name": "stdout",
     "output_type": "stream",
     "text": [
      "Epoch 300 - Train Loss: 0.5028, Train MSE: 0.5029, Train MAE: 0.4862\n",
      "Epoch 300 - Validation Loss: 1.5517, Validation MSE: 1.5543, Validation MAE: 0.8801\n"
     ]
    },
    {
     "name": "stderr",
     "output_type": "stream",
     "text": [
      "Training Epoch 302: 100%|██████████| 378/378 [00:02<00:00, 175.36it/s]\n",
      "Training Epoch 303: 100%|██████████| 378/378 [00:02<00:00, 172.35it/s]\n",
      "Training Epoch 304: 100%|██████████| 378/378 [00:02<00:00, 174.15it/s]\n",
      "Training Epoch 305: 100%|██████████| 378/378 [00:02<00:00, 172.24it/s]\n",
      "Training Epoch 306: 100%|██████████| 378/378 [00:02<00:00, 172.63it/s]\n",
      "Training Epoch 307: 100%|██████████| 378/378 [00:02<00:00, 170.87it/s]\n",
      "Training Epoch 308: 100%|██████████| 378/378 [00:02<00:00, 176.72it/s]\n",
      "Training Epoch 309: 100%|██████████| 378/378 [00:02<00:00, 177.45it/s]\n",
      "Training Epoch 310: 100%|██████████| 378/378 [00:02<00:00, 175.57it/s]\n",
      "Training Epoch 311: 100%|██████████| 378/378 [00:02<00:00, 145.51it/s]\n"
     ]
    },
    {
     "name": "stdout",
     "output_type": "stream",
     "text": [
      "Epoch 310 - Train Loss: 0.5031, Train MSE: 0.5033, Train MAE: 0.4875\n",
      "Epoch 310 - Validation Loss: 1.5957, Validation MSE: 1.5982, Validation MAE: 0.8984\n"
     ]
    },
    {
     "name": "stderr",
     "output_type": "stream",
     "text": [
      "Training Epoch 312: 100%|██████████| 378/378 [00:02<00:00, 170.25it/s]\n",
      "Training Epoch 313: 100%|██████████| 378/378 [00:02<00:00, 172.48it/s]\n",
      "Training Epoch 314: 100%|██████████| 378/378 [00:02<00:00, 179.99it/s]\n",
      "Training Epoch 315: 100%|██████████| 378/378 [00:02<00:00, 171.80it/s]\n",
      "Training Epoch 316: 100%|██████████| 378/378 [00:02<00:00, 174.67it/s]\n",
      "Training Epoch 317: 100%|██████████| 378/378 [00:02<00:00, 178.22it/s]\n",
      "Training Epoch 318: 100%|██████████| 378/378 [00:02<00:00, 174.13it/s]\n",
      "Training Epoch 319: 100%|██████████| 378/378 [00:02<00:00, 173.81it/s]\n",
      "Training Epoch 320: 100%|██████████| 378/378 [00:02<00:00, 175.69it/s]\n",
      "Training Epoch 321: 100%|██████████| 378/378 [00:02<00:00, 171.66it/s]\n"
     ]
    },
    {
     "name": "stdout",
     "output_type": "stream",
     "text": [
      "Epoch 320 - Train Loss: 0.5036, Train MSE: 0.5034, Train MAE: 0.4852\n",
      "Epoch 320 - Validation Loss: 1.5682, Validation MSE: 1.5708, Validation MAE: 0.8865\n"
     ]
    },
    {
     "name": "stderr",
     "output_type": "stream",
     "text": [
      "Training Epoch 322: 100%|██████████| 378/378 [00:02<00:00, 169.79it/s]\n",
      "Training Epoch 323: 100%|██████████| 378/378 [00:02<00:00, 174.54it/s]\n",
      "Training Epoch 324: 100%|██████████| 378/378 [00:02<00:00, 171.00it/s]\n",
      "Training Epoch 325: 100%|██████████| 378/378 [00:02<00:00, 178.92it/s]\n",
      "Training Epoch 326: 100%|██████████| 378/378 [00:02<00:00, 172.69it/s]\n",
      "Training Epoch 327: 100%|██████████| 378/378 [00:02<00:00, 172.83it/s]\n",
      "Training Epoch 328: 100%|██████████| 378/378 [00:02<00:00, 172.79it/s]\n",
      "Training Epoch 329: 100%|██████████| 378/378 [00:02<00:00, 170.45it/s]\n",
      "Training Epoch 330: 100%|██████████| 378/378 [00:02<00:00, 174.75it/s]\n",
      "Training Epoch 331: 100%|██████████| 378/378 [00:02<00:00, 173.74it/s]\n"
     ]
    },
    {
     "name": "stdout",
     "output_type": "stream",
     "text": [
      "Epoch 330 - Train Loss: 0.4956, Train MSE: 0.4960, Train MAE: 0.4812\n",
      "Epoch 330 - Validation Loss: 1.5865, Validation MSE: 1.5894, Validation MAE: 0.8913\n"
     ]
    },
    {
     "name": "stderr",
     "output_type": "stream",
     "text": [
      "Training Epoch 332: 100%|██████████| 378/378 [00:02<00:00, 175.69it/s]\n",
      "Training Epoch 333: 100%|██████████| 378/378 [00:02<00:00, 172.04it/s]\n",
      "Training Epoch 334: 100%|██████████| 378/378 [00:02<00:00, 171.41it/s]\n",
      "Training Epoch 335: 100%|██████████| 378/378 [00:02<00:00, 175.06it/s]\n",
      "Training Epoch 336: 100%|██████████| 378/378 [00:02<00:00, 173.01it/s]\n",
      "Training Epoch 337: 100%|██████████| 378/378 [00:02<00:00, 171.38it/s]\n",
      "Training Epoch 338: 100%|██████████| 378/378 [00:02<00:00, 177.48it/s]\n",
      "Training Epoch 339: 100%|██████████| 378/378 [00:02<00:00, 173.51it/s]\n",
      "Training Epoch 340: 100%|██████████| 378/378 [00:02<00:00, 170.38it/s]\n",
      "Training Epoch 341: 100%|██████████| 378/378 [00:02<00:00, 176.04it/s]\n"
     ]
    },
    {
     "name": "stdout",
     "output_type": "stream",
     "text": [
      "Epoch 340 - Train Loss: 0.4913, Train MSE: 0.4913, Train MAE: 0.4771\n",
      "Epoch 340 - Validation Loss: 1.5575, Validation MSE: 1.5604, Validation MAE: 0.8891\n"
     ]
    },
    {
     "name": "stderr",
     "output_type": "stream",
     "text": [
      "Training Epoch 342: 100%|██████████| 378/378 [00:02<00:00, 173.49it/s]\n",
      "Training Epoch 343: 100%|██████████| 378/378 [00:02<00:00, 174.79it/s]\n",
      "Training Epoch 344: 100%|██████████| 378/378 [00:02<00:00, 177.62it/s]\n",
      "Training Epoch 345: 100%|██████████| 378/378 [00:02<00:00, 173.12it/s]\n",
      "Training Epoch 346: 100%|██████████| 378/378 [00:02<00:00, 175.49it/s]\n",
      "Training Epoch 347: 100%|██████████| 378/378 [00:02<00:00, 177.69it/s]\n",
      "Training Epoch 348: 100%|██████████| 378/378 [00:02<00:00, 169.84it/s]\n",
      "Training Epoch 349: 100%|██████████| 378/378 [00:02<00:00, 174.77it/s]\n",
      "Training Epoch 350: 100%|██████████| 378/378 [00:02<00:00, 174.25it/s]\n",
      "Training Epoch 351: 100%|██████████| 378/378 [00:02<00:00, 172.83it/s]\n"
     ]
    },
    {
     "name": "stdout",
     "output_type": "stream",
     "text": [
      "Epoch 350 - Train Loss: 0.4953, Train MSE: 0.4954, Train MAE: 0.4773\n",
      "Epoch 350 - Validation Loss: 1.6082, Validation MSE: 1.6112, Validation MAE: 0.8969\n"
     ]
    },
    {
     "name": "stderr",
     "output_type": "stream",
     "text": [
      "Training Epoch 352: 100%|██████████| 378/378 [00:02<00:00, 173.99it/s]\n",
      "Training Epoch 353: 100%|██████████| 378/378 [00:02<00:00, 172.51it/s]\n",
      "Training Epoch 354: 100%|██████████| 378/378 [00:02<00:00, 172.65it/s]\n",
      "Training Epoch 355: 100%|██████████| 378/378 [00:02<00:00, 170.95it/s]\n",
      "Training Epoch 356: 100%|██████████| 378/378 [00:02<00:00, 172.93it/s]\n",
      "Training Epoch 357: 100%|██████████| 378/378 [00:02<00:00, 173.34it/s]\n",
      "Training Epoch 358: 100%|██████████| 378/378 [00:02<00:00, 174.43it/s]\n",
      "Training Epoch 359: 100%|██████████| 378/378 [00:02<00:00, 174.56it/s]\n",
      "Training Epoch 360: 100%|██████████| 378/378 [00:02<00:00, 172.64it/s]\n",
      "Training Epoch 361: 100%|██████████| 378/378 [00:02<00:00, 166.60it/s]\n"
     ]
    },
    {
     "name": "stdout",
     "output_type": "stream",
     "text": [
      "Epoch 360 - Train Loss: 0.4818, Train MSE: 0.4817, Train MAE: 0.4741\n",
      "Epoch 360 - Validation Loss: 1.5723, Validation MSE: 1.5747, Validation MAE: 0.8888\n"
     ]
    },
    {
     "name": "stderr",
     "output_type": "stream",
     "text": [
      "Training Epoch 362: 100%|██████████| 378/378 [00:02<00:00, 175.93it/s]\n",
      "Training Epoch 363: 100%|██████████| 378/378 [00:02<00:00, 170.83it/s]\n",
      "Training Epoch 364: 100%|██████████| 378/378 [00:02<00:00, 173.24it/s]\n",
      "Training Epoch 365: 100%|██████████| 378/378 [00:02<00:00, 173.40it/s]\n",
      "Training Epoch 366: 100%|██████████| 378/378 [00:02<00:00, 171.31it/s]\n",
      "Training Epoch 367: 100%|██████████| 378/378 [00:02<00:00, 172.09it/s]\n",
      "Training Epoch 368: 100%|██████████| 378/378 [00:02<00:00, 172.08it/s]\n",
      "Training Epoch 369: 100%|██████████| 378/378 [00:02<00:00, 170.04it/s]\n",
      "Training Epoch 370: 100%|██████████| 378/378 [00:02<00:00, 171.76it/s]\n",
      "Training Epoch 371: 100%|██████████| 378/378 [00:02<00:00, 169.22it/s]\n"
     ]
    },
    {
     "name": "stdout",
     "output_type": "stream",
     "text": [
      "Epoch 370 - Train Loss: 0.4814, Train MSE: 0.4815, Train MAE: 0.4702\n",
      "Epoch 370 - Validation Loss: 1.5765, Validation MSE: 1.5795, Validation MAE: 0.8879\n"
     ]
    },
    {
     "name": "stderr",
     "output_type": "stream",
     "text": [
      "Training Epoch 372: 100%|██████████| 378/378 [00:02<00:00, 172.00it/s]\n",
      "Training Epoch 373: 100%|██████████| 378/378 [00:02<00:00, 174.58it/s]\n",
      "Training Epoch 374: 100%|██████████| 378/378 [00:02<00:00, 168.00it/s]\n",
      "Training Epoch 375: 100%|██████████| 378/378 [00:02<00:00, 167.42it/s]\n",
      "Training Epoch 376: 100%|██████████| 378/378 [00:02<00:00, 168.51it/s]\n",
      "Training Epoch 377: 100%|██████████| 378/378 [00:02<00:00, 171.73it/s]\n",
      "Training Epoch 378: 100%|██████████| 378/378 [00:02<00:00, 176.13it/s]\n",
      "Training Epoch 379: 100%|██████████| 378/378 [00:02<00:00, 173.53it/s]\n",
      "Training Epoch 380: 100%|██████████| 378/378 [00:02<00:00, 172.29it/s]\n",
      "Training Epoch 381: 100%|██████████| 378/378 [00:02<00:00, 174.18it/s]\n"
     ]
    },
    {
     "name": "stdout",
     "output_type": "stream",
     "text": [
      "Epoch 380 - Train Loss: 0.4820, Train MSE: 0.4820, Train MAE: 0.4725\n",
      "Epoch 380 - Validation Loss: 1.5565, Validation MSE: 1.5596, Validation MAE: 0.8821\n"
     ]
    },
    {
     "name": "stderr",
     "output_type": "stream",
     "text": [
      "Training Epoch 382: 100%|██████████| 378/378 [00:02<00:00, 166.42it/s]\n",
      "Training Epoch 383: 100%|██████████| 378/378 [00:02<00:00, 174.26it/s]\n",
      "Training Epoch 384: 100%|██████████| 378/378 [00:02<00:00, 174.95it/s]\n",
      "Training Epoch 385: 100%|██████████| 378/378 [00:02<00:00, 177.04it/s]\n",
      "Training Epoch 386: 100%|██████████| 378/378 [00:02<00:00, 170.52it/s]\n",
      "Training Epoch 387: 100%|██████████| 378/378 [00:02<00:00, 168.82it/s]\n",
      "Training Epoch 388: 100%|██████████| 378/378 [00:02<00:00, 173.07it/s]\n",
      "Training Epoch 389: 100%|██████████| 378/378 [00:02<00:00, 168.56it/s]\n",
      "Training Epoch 390: 100%|██████████| 378/378 [00:02<00:00, 171.03it/s]\n",
      "Training Epoch 391: 100%|██████████| 378/378 [00:02<00:00, 175.40it/s]\n"
     ]
    },
    {
     "name": "stdout",
     "output_type": "stream",
     "text": [
      "Epoch 390 - Train Loss: 0.4818, Train MSE: 0.4815, Train MAE: 0.4707\n",
      "Epoch 390 - Validation Loss: 1.5647, Validation MSE: 1.5674, Validation MAE: 0.8822\n"
     ]
    },
    {
     "name": "stderr",
     "output_type": "stream",
     "text": [
      "Training Epoch 392: 100%|██████████| 378/378 [00:02<00:00, 173.35it/s]\n",
      "Training Epoch 393: 100%|██████████| 378/378 [00:02<00:00, 171.54it/s]\n",
      "Training Epoch 394: 100%|██████████| 378/378 [00:02<00:00, 172.59it/s]\n",
      "Training Epoch 395: 100%|██████████| 378/378 [00:02<00:00, 174.66it/s]\n",
      "Training Epoch 396: 100%|██████████| 378/378 [00:02<00:00, 165.24it/s]\n",
      "Training Epoch 397: 100%|██████████| 378/378 [00:02<00:00, 177.54it/s]\n",
      "Training Epoch 398: 100%|██████████| 378/378 [00:02<00:00, 171.48it/s]\n",
      "Training Epoch 399: 100%|██████████| 378/378 [00:02<00:00, 169.94it/s]\n",
      "Training Epoch 400: 100%|██████████| 378/378 [00:02<00:00, 168.49it/s]\n",
      "Training Epoch 401: 100%|██████████| 378/378 [00:02<00:00, 172.62it/s]\n"
     ]
    },
    {
     "name": "stdout",
     "output_type": "stream",
     "text": [
      "Epoch 400 - Train Loss: 0.4762, Train MSE: 0.4763, Train MAE: 0.4679\n",
      "Epoch 400 - Validation Loss: 1.5952, Validation MSE: 1.5987, Validation MAE: 0.8962\n"
     ]
    },
    {
     "name": "stderr",
     "output_type": "stream",
     "text": [
      "Training Epoch 402: 100%|██████████| 378/378 [00:02<00:00, 172.49it/s]\n",
      "Training Epoch 403: 100%|██████████| 378/378 [00:02<00:00, 173.23it/s]\n",
      "Training Epoch 404: 100%|██████████| 378/378 [00:02<00:00, 172.08it/s]\n",
      "Training Epoch 405: 100%|██████████| 378/378 [00:02<00:00, 171.49it/s]\n",
      "Training Epoch 406: 100%|██████████| 378/378 [00:02<00:00, 175.47it/s]\n",
      "Training Epoch 407: 100%|██████████| 378/378 [00:02<00:00, 175.21it/s]\n",
      "Training Epoch 408: 100%|██████████| 378/378 [00:02<00:00, 171.53it/s]\n",
      "Training Epoch 409: 100%|██████████| 378/378 [00:02<00:00, 179.12it/s]\n",
      "Training Epoch 410: 100%|██████████| 378/378 [00:02<00:00, 168.72it/s]\n",
      "Training Epoch 411: 100%|██████████| 378/378 [00:02<00:00, 172.38it/s]\n"
     ]
    },
    {
     "name": "stdout",
     "output_type": "stream",
     "text": [
      "Epoch 410 - Train Loss: 0.4758, Train MSE: 0.4759, Train MAE: 0.4681\n",
      "Epoch 410 - Validation Loss: 1.6142, Validation MSE: 1.6175, Validation MAE: 0.8953\n"
     ]
    },
    {
     "name": "stderr",
     "output_type": "stream",
     "text": [
      "Training Epoch 412: 100%|██████████| 378/378 [00:02<00:00, 171.96it/s]\n",
      "Training Epoch 413: 100%|██████████| 378/378 [00:02<00:00, 167.32it/s]\n",
      "Training Epoch 414: 100%|██████████| 378/378 [00:02<00:00, 178.05it/s]\n",
      "Training Epoch 415: 100%|██████████| 378/378 [00:02<00:00, 172.26it/s]\n",
      "Training Epoch 416: 100%|██████████| 378/378 [00:02<00:00, 175.18it/s]\n",
      "Training Epoch 417: 100%|██████████| 378/378 [00:02<00:00, 171.27it/s]\n",
      "Training Epoch 418: 100%|██████████| 378/378 [00:02<00:00, 171.48it/s]\n",
      "Training Epoch 419: 100%|██████████| 378/378 [00:02<00:00, 170.05it/s]\n",
      "Training Epoch 420: 100%|██████████| 378/378 [00:02<00:00, 171.33it/s]\n",
      "Training Epoch 421: 100%|██████████| 378/378 [00:02<00:00, 175.70it/s]\n"
     ]
    },
    {
     "name": "stdout",
     "output_type": "stream",
     "text": [
      "Epoch 420 - Train Loss: 0.4692, Train MSE: 0.4691, Train MAE: 0.4618\n",
      "Epoch 420 - Validation Loss: 1.5703, Validation MSE: 1.5733, Validation MAE: 0.8863\n"
     ]
    },
    {
     "name": "stderr",
     "output_type": "stream",
     "text": [
      "Training Epoch 422: 100%|██████████| 378/378 [00:02<00:00, 171.77it/s]\n",
      "Training Epoch 423: 100%|██████████| 378/378 [00:02<00:00, 169.95it/s]\n",
      "Training Epoch 424: 100%|██████████| 378/378 [00:02<00:00, 165.75it/s]\n",
      "Training Epoch 425: 100%|██████████| 378/378 [00:02<00:00, 171.41it/s]\n",
      "Training Epoch 426: 100%|██████████| 378/378 [00:02<00:00, 168.48it/s]\n",
      "Training Epoch 427: 100%|██████████| 378/378 [00:02<00:00, 169.33it/s]\n",
      "Training Epoch 428: 100%|██████████| 378/378 [00:02<00:00, 172.19it/s]\n",
      "Training Epoch 429: 100%|██████████| 378/378 [00:02<00:00, 170.37it/s]\n",
      "Training Epoch 430: 100%|██████████| 378/378 [00:02<00:00, 172.89it/s]\n",
      "Training Epoch 431: 100%|██████████| 378/378 [00:02<00:00, 169.07it/s]\n"
     ]
    },
    {
     "name": "stdout",
     "output_type": "stream",
     "text": [
      "Epoch 430 - Train Loss: 0.4684, Train MSE: 0.4685, Train MAE: 0.4634\n",
      "Epoch 430 - Validation Loss: 1.5518, Validation MSE: 1.5542, Validation MAE: 0.8804\n"
     ]
    },
    {
     "name": "stderr",
     "output_type": "stream",
     "text": [
      "Training Epoch 432: 100%|██████████| 378/378 [00:02<00:00, 167.02it/s]\n",
      "Training Epoch 433: 100%|██████████| 378/378 [00:02<00:00, 172.79it/s]\n",
      "Training Epoch 434: 100%|██████████| 378/378 [00:02<00:00, 169.81it/s]\n",
      "Training Epoch 435: 100%|██████████| 378/378 [00:02<00:00, 169.29it/s]\n",
      "Training Epoch 436: 100%|██████████| 378/378 [00:02<00:00, 174.55it/s]\n",
      "Training Epoch 437: 100%|██████████| 378/378 [00:02<00:00, 173.40it/s]\n",
      "Training Epoch 438: 100%|██████████| 378/378 [00:02<00:00, 169.64it/s]\n",
      "Training Epoch 439: 100%|██████████| 378/378 [00:02<00:00, 173.78it/s]\n",
      "Training Epoch 440: 100%|██████████| 378/378 [00:02<00:00, 171.52it/s]\n",
      "Training Epoch 441: 100%|██████████| 378/378 [00:02<00:00, 174.89it/s]\n"
     ]
    },
    {
     "name": "stdout",
     "output_type": "stream",
     "text": [
      "Epoch 440 - Train Loss: 0.4617, Train MSE: 0.4620, Train MAE: 0.4596\n",
      "Epoch 440 - Validation Loss: 1.6155, Validation MSE: 1.6181, Validation MAE: 0.8889\n"
     ]
    },
    {
     "name": "stderr",
     "output_type": "stream",
     "text": [
      "Training Epoch 442: 100%|██████████| 378/378 [00:02<00:00, 171.50it/s]\n",
      "Training Epoch 443: 100%|██████████| 378/378 [00:02<00:00, 174.15it/s]\n",
      "Training Epoch 444: 100%|██████████| 378/378 [00:02<00:00, 173.15it/s]\n",
      "Training Epoch 445: 100%|██████████| 378/378 [00:02<00:00, 166.57it/s]\n",
      "Training Epoch 446: 100%|██████████| 378/378 [00:02<00:00, 172.20it/s]\n",
      "Training Epoch 447: 100%|██████████| 378/378 [00:02<00:00, 174.59it/s]\n",
      "Training Epoch 448: 100%|██████████| 378/378 [00:02<00:00, 173.21it/s]\n",
      "Training Epoch 449: 100%|██████████| 378/378 [00:02<00:00, 171.46it/s]\n",
      "Training Epoch 450: 100%|██████████| 378/378 [00:02<00:00, 174.65it/s]\n",
      "Training Epoch 451: 100%|██████████| 378/378 [00:02<00:00, 171.32it/s]\n"
     ]
    },
    {
     "name": "stdout",
     "output_type": "stream",
     "text": [
      "Epoch 450 - Train Loss: 0.4656, Train MSE: 0.4658, Train MAE: 0.4632\n",
      "Epoch 450 - Validation Loss: 1.5644, Validation MSE: 1.5673, Validation MAE: 0.8824\n"
     ]
    },
    {
     "name": "stderr",
     "output_type": "stream",
     "text": [
      "Training Epoch 452: 100%|██████████| 378/378 [00:02<00:00, 166.42it/s]\n",
      "Training Epoch 453: 100%|██████████| 378/378 [00:02<00:00, 173.49it/s]\n",
      "Training Epoch 454: 100%|██████████| 378/378 [00:02<00:00, 171.67it/s]\n",
      "Training Epoch 455: 100%|██████████| 378/378 [00:02<00:00, 172.31it/s]\n",
      "Training Epoch 456: 100%|██████████| 378/378 [00:02<00:00, 175.66it/s]\n",
      "Training Epoch 457: 100%|██████████| 378/378 [00:02<00:00, 175.34it/s]\n",
      "Training Epoch 458: 100%|██████████| 378/378 [00:02<00:00, 174.16it/s]\n",
      "Training Epoch 459: 100%|██████████| 378/378 [00:02<00:00, 163.38it/s]\n",
      "Training Epoch 460: 100%|██████████| 378/378 [00:02<00:00, 173.93it/s]\n",
      "Training Epoch 461: 100%|██████████| 378/378 [00:02<00:00, 172.86it/s]\n"
     ]
    },
    {
     "name": "stdout",
     "output_type": "stream",
     "text": [
      "Epoch 460 - Train Loss: 0.4578, Train MSE: 0.4580, Train MAE: 0.4582\n",
      "Epoch 460 - Validation Loss: 1.5551, Validation MSE: 1.5578, Validation MAE: 0.8847\n"
     ]
    },
    {
     "name": "stderr",
     "output_type": "stream",
     "text": [
      "Training Epoch 462: 100%|██████████| 378/378 [00:02<00:00, 175.37it/s]\n",
      "Training Epoch 463: 100%|██████████| 378/378 [00:02<00:00, 172.86it/s]\n",
      "Training Epoch 464: 100%|██████████| 378/378 [00:02<00:00, 173.06it/s]\n",
      "Training Epoch 465: 100%|██████████| 378/378 [00:02<00:00, 174.06it/s]\n",
      "Training Epoch 466: 100%|██████████| 378/378 [00:02<00:00, 166.49it/s]\n",
      "Training Epoch 467: 100%|██████████| 378/378 [00:02<00:00, 171.68it/s]\n",
      "Training Epoch 468: 100%|██████████| 378/378 [00:02<00:00, 174.94it/s]\n",
      "Training Epoch 469: 100%|██████████| 378/378 [00:02<00:00, 170.90it/s]\n",
      "Training Epoch 470: 100%|██████████| 378/378 [00:02<00:00, 173.45it/s]\n",
      "Training Epoch 471: 100%|██████████| 378/378 [00:02<00:00, 174.45it/s]\n"
     ]
    },
    {
     "name": "stdout",
     "output_type": "stream",
     "text": [
      "Epoch 470 - Train Loss: 0.4507, Train MSE: 0.4509, Train MAE: 0.4515\n",
      "Epoch 470 - Validation Loss: 1.5909, Validation MSE: 1.5937, Validation MAE: 0.8917\n"
     ]
    },
    {
     "name": "stderr",
     "output_type": "stream",
     "text": [
      "Training Epoch 472: 100%|██████████| 378/378 [00:02<00:00, 170.23it/s]\n",
      "Training Epoch 473: 100%|██████████| 378/378 [00:02<00:00, 171.60it/s]\n",
      "Training Epoch 474: 100%|██████████| 378/378 [00:02<00:00, 177.73it/s]\n",
      "Training Epoch 475: 100%|██████████| 378/378 [00:02<00:00, 173.48it/s]\n",
      "Training Epoch 476: 100%|██████████| 378/378 [00:02<00:00, 173.13it/s]\n",
      "Training Epoch 477: 100%|██████████| 378/378 [00:02<00:00, 174.76it/s]\n",
      "Training Epoch 478: 100%|██████████| 378/378 [00:02<00:00, 171.03it/s]\n",
      "Training Epoch 479: 100%|██████████| 378/378 [00:02<00:00, 175.38it/s]\n",
      "Training Epoch 480: 100%|██████████| 378/378 [00:02<00:00, 172.80it/s]\n",
      "Training Epoch 481: 100%|██████████| 378/378 [00:02<00:00, 176.89it/s]\n"
     ]
    },
    {
     "name": "stdout",
     "output_type": "stream",
     "text": [
      "Epoch 480 - Train Loss: 0.4632, Train MSE: 0.4630, Train MAE: 0.4575\n",
      "Epoch 480 - Validation Loss: 1.5763, Validation MSE: 1.5794, Validation MAE: 0.8877\n"
     ]
    },
    {
     "name": "stderr",
     "output_type": "stream",
     "text": [
      "Training Epoch 482: 100%|██████████| 378/378 [00:02<00:00, 172.69it/s]\n",
      "Training Epoch 483: 100%|██████████| 378/378 [00:02<00:00, 172.27it/s]\n",
      "Training Epoch 484: 100%|██████████| 378/378 [00:02<00:00, 175.91it/s]\n",
      "Training Epoch 485: 100%|██████████| 378/378 [00:02<00:00, 171.10it/s]\n",
      "Training Epoch 486: 100%|██████████| 378/378 [00:02<00:00, 174.51it/s]\n",
      "Training Epoch 487: 100%|██████████| 378/378 [00:02<00:00, 169.36it/s]\n",
      "Training Epoch 488: 100%|██████████| 378/378 [00:02<00:00, 172.65it/s]\n",
      "Training Epoch 489: 100%|██████████| 378/378 [00:02<00:00, 171.47it/s]\n",
      "Training Epoch 490: 100%|██████████| 378/378 [00:02<00:00, 171.04it/s]\n",
      "Training Epoch 491: 100%|██████████| 378/378 [00:02<00:00, 174.05it/s]\n"
     ]
    },
    {
     "name": "stdout",
     "output_type": "stream",
     "text": [
      "Epoch 490 - Train Loss: 0.4571, Train MSE: 0.4573, Train MAE: 0.4564\n",
      "Epoch 490 - Validation Loss: 1.5835, Validation MSE: 1.5865, Validation MAE: 0.8937\n"
     ]
    },
    {
     "name": "stderr",
     "output_type": "stream",
     "text": [
      "Training Epoch 492: 100%|██████████| 378/378 [00:02<00:00, 172.13it/s]\n",
      "Training Epoch 493: 100%|██████████| 378/378 [00:02<00:00, 170.99it/s]\n",
      "Training Epoch 494: 100%|██████████| 378/378 [00:02<00:00, 165.21it/s]\n",
      "Training Epoch 495: 100%|██████████| 378/378 [00:02<00:00, 170.83it/s]\n",
      "Training Epoch 496: 100%|██████████| 378/378 [00:02<00:00, 173.09it/s]\n",
      "Training Epoch 497: 100%|██████████| 378/378 [00:02<00:00, 172.81it/s]\n",
      "Training Epoch 498: 100%|██████████| 378/378 [00:02<00:00, 172.74it/s]\n",
      "Training Epoch 499: 100%|██████████| 378/378 [00:02<00:00, 170.11it/s]\n",
      "Training Epoch 500: 100%|██████████| 378/378 [00:02<00:00, 169.95it/s]\n",
      "Training Epoch 501: 100%|██████████| 378/378 [00:02<00:00, 173.75it/s]\n"
     ]
    },
    {
     "name": "stdout",
     "output_type": "stream",
     "text": [
      "Epoch 500 - Train Loss: 0.4597, Train MSE: 0.4597, Train MAE: 0.4574\n",
      "Epoch 500 - Validation Loss: 1.5606, Validation MSE: 1.5634, Validation MAE: 0.8788\n"
     ]
    },
    {
     "name": "stderr",
     "output_type": "stream",
     "text": [
      "Training Epoch 502: 100%|██████████| 378/378 [00:02<00:00, 171.18it/s]\n",
      "Training Epoch 503: 100%|██████████| 378/378 [00:02<00:00, 177.31it/s]\n",
      "Training Epoch 504: 100%|██████████| 378/378 [00:02<00:00, 172.53it/s]\n",
      "Training Epoch 505: 100%|██████████| 378/378 [00:02<00:00, 169.08it/s]\n",
      "Training Epoch 506: 100%|██████████| 378/378 [00:02<00:00, 171.72it/s]\n",
      "Training Epoch 507: 100%|██████████| 378/378 [00:02<00:00, 166.66it/s]\n",
      "Training Epoch 508: 100%|██████████| 378/378 [00:02<00:00, 176.65it/s]\n",
      "Training Epoch 509: 100%|██████████| 378/378 [00:02<00:00, 173.69it/s]\n",
      "Training Epoch 510: 100%|██████████| 378/378 [00:02<00:00, 176.05it/s]\n",
      "Training Epoch 511: 100%|██████████| 378/378 [00:02<00:00, 175.88it/s]\n"
     ]
    },
    {
     "name": "stdout",
     "output_type": "stream",
     "text": [
      "Epoch 510 - Train Loss: 0.4496, Train MSE: 0.4495, Train MAE: 0.4519\n",
      "Epoch 510 - Validation Loss: 1.5722, Validation MSE: 1.5756, Validation MAE: 0.8868\n"
     ]
    },
    {
     "name": "stderr",
     "output_type": "stream",
     "text": [
      "Training Epoch 512: 100%|██████████| 378/378 [00:02<00:00, 171.58it/s]\n",
      "Training Epoch 513: 100%|██████████| 378/378 [00:02<00:00, 174.10it/s]\n",
      "Training Epoch 514: 100%|██████████| 378/378 [00:02<00:00, 169.22it/s]\n",
      "Training Epoch 515: 100%|██████████| 378/378 [00:02<00:00, 172.41it/s]\n",
      "Training Epoch 516: 100%|██████████| 378/378 [00:02<00:00, 172.89it/s]\n",
      "Training Epoch 517: 100%|██████████| 378/378 [00:02<00:00, 169.90it/s]\n",
      "Training Epoch 518: 100%|██████████| 378/378 [00:02<00:00, 175.94it/s]\n",
      "Training Epoch 519: 100%|██████████| 378/378 [00:02<00:00, 175.17it/s]\n",
      "Training Epoch 520: 100%|██████████| 378/378 [00:02<00:00, 172.29it/s]\n",
      "Training Epoch 521: 100%|██████████| 378/378 [00:02<00:00, 171.80it/s]\n"
     ]
    },
    {
     "name": "stdout",
     "output_type": "stream",
     "text": [
      "Epoch 520 - Train Loss: 0.4518, Train MSE: 0.4512, Train MAE: 0.4512\n",
      "Epoch 520 - Validation Loss: 1.5595, Validation MSE: 1.5621, Validation MAE: 0.8864\n"
     ]
    },
    {
     "name": "stderr",
     "output_type": "stream",
     "text": [
      "Training Epoch 522: 100%|██████████| 378/378 [00:02<00:00, 172.81it/s]\n",
      "Training Epoch 523: 100%|██████████| 378/378 [00:02<00:00, 172.60it/s]\n",
      "Training Epoch 524: 100%|██████████| 378/378 [00:02<00:00, 169.84it/s]\n",
      "Training Epoch 525: 100%|██████████| 378/378 [00:02<00:00, 173.77it/s]\n",
      "Training Epoch 526: 100%|██████████| 378/378 [00:02<00:00, 176.37it/s]\n",
      "Training Epoch 527: 100%|██████████| 378/378 [00:02<00:00, 176.90it/s]\n",
      "Training Epoch 528: 100%|██████████| 378/378 [00:02<00:00, 169.07it/s]\n",
      "Training Epoch 529: 100%|██████████| 378/378 [00:02<00:00, 169.64it/s]\n",
      "Training Epoch 530: 100%|██████████| 378/378 [00:02<00:00, 173.32it/s]\n",
      "Training Epoch 531: 100%|██████████| 378/378 [00:02<00:00, 166.69it/s]\n"
     ]
    },
    {
     "name": "stdout",
     "output_type": "stream",
     "text": [
      "Epoch 530 - Train Loss: 0.4506, Train MSE: 0.4509, Train MAE: 0.4508\n",
      "Epoch 530 - Validation Loss: 1.5966, Validation MSE: 1.5991, Validation MAE: 0.8913\n"
     ]
    },
    {
     "name": "stderr",
     "output_type": "stream",
     "text": [
      "Training Epoch 532: 100%|██████████| 378/378 [00:02<00:00, 171.83it/s]\n",
      "Training Epoch 533: 100%|██████████| 378/378 [00:02<00:00, 175.22it/s]\n",
      "Training Epoch 534: 100%|██████████| 378/378 [00:02<00:00, 173.22it/s]\n",
      "Training Epoch 535: 100%|██████████| 378/378 [00:02<00:00, 164.46it/s]\n",
      "Training Epoch 536: 100%|██████████| 378/378 [00:02<00:00, 174.95it/s]\n",
      "Training Epoch 537: 100%|██████████| 378/378 [00:02<00:00, 172.45it/s]\n",
      "Training Epoch 538: 100%|██████████| 378/378 [00:02<00:00, 171.50it/s]\n",
      "Training Epoch 539: 100%|██████████| 378/378 [00:02<00:00, 172.44it/s]\n",
      "Training Epoch 540: 100%|██████████| 378/378 [00:02<00:00, 168.43it/s]\n",
      "Training Epoch 541: 100%|██████████| 378/378 [00:02<00:00, 172.26it/s]\n"
     ]
    },
    {
     "name": "stdout",
     "output_type": "stream",
     "text": [
      "Epoch 540 - Train Loss: 0.4459, Train MSE: 0.4462, Train MAE: 0.4485\n",
      "Epoch 540 - Validation Loss: 1.5789, Validation MSE: 1.5819, Validation MAE: 0.8855\n"
     ]
    },
    {
     "name": "stderr",
     "output_type": "stream",
     "text": [
      "Training Epoch 542: 100%|██████████| 378/378 [00:02<00:00, 169.59it/s]\n",
      "Training Epoch 543: 100%|██████████| 378/378 [00:02<00:00, 174.67it/s]\n",
      "Training Epoch 544: 100%|██████████| 378/378 [00:02<00:00, 175.18it/s]\n",
      "Training Epoch 545: 100%|██████████| 378/378 [00:02<00:00, 172.71it/s]\n",
      "Training Epoch 546: 100%|██████████| 378/378 [00:02<00:00, 172.27it/s]\n",
      "Training Epoch 547: 100%|██████████| 378/378 [00:02<00:00, 173.96it/s]\n",
      "Training Epoch 548: 100%|██████████| 378/378 [00:02<00:00, 168.21it/s]\n",
      "Training Epoch 549: 100%|██████████| 378/378 [00:02<00:00, 169.09it/s]\n",
      "Training Epoch 550: 100%|██████████| 378/378 [00:02<00:00, 174.23it/s]\n",
      "Training Epoch 551: 100%|██████████| 378/378 [00:02<00:00, 176.09it/s]\n"
     ]
    },
    {
     "name": "stdout",
     "output_type": "stream",
     "text": [
      "Epoch 550 - Train Loss: 0.4455, Train MSE: 0.4455, Train MAE: 0.4465\n",
      "Epoch 550 - Validation Loss: 1.5454, Validation MSE: 1.5484, Validation MAE: 0.8771\n"
     ]
    },
    {
     "name": "stderr",
     "output_type": "stream",
     "text": [
      "Training Epoch 552: 100%|██████████| 378/378 [00:02<00:00, 172.83it/s]\n",
      "Training Epoch 553: 100%|██████████| 378/378 [00:02<00:00, 170.98it/s]\n",
      "Training Epoch 554: 100%|██████████| 378/378 [00:02<00:00, 170.82it/s]\n",
      "Training Epoch 555: 100%|██████████| 378/378 [00:02<00:00, 170.13it/s]\n",
      "Training Epoch 556: 100%|██████████| 378/378 [00:02<00:00, 169.22it/s]\n",
      "Training Epoch 557: 100%|██████████| 378/378 [00:02<00:00, 170.28it/s]\n",
      "Training Epoch 558: 100%|██████████| 378/378 [00:02<00:00, 172.89it/s]\n",
      "Training Epoch 559: 100%|██████████| 378/378 [00:02<00:00, 170.33it/s]\n",
      "Training Epoch 560: 100%|██████████| 378/378 [00:02<00:00, 175.28it/s]\n",
      "Training Epoch 561: 100%|██████████| 378/378 [00:02<00:00, 172.87it/s]\n"
     ]
    },
    {
     "name": "stdout",
     "output_type": "stream",
     "text": [
      "Epoch 560 - Train Loss: 0.4505, Train MSE: 0.4506, Train MAE: 0.4507\n",
      "Epoch 560 - Validation Loss: 1.5571, Validation MSE: 1.5597, Validation MAE: 0.8802\n"
     ]
    },
    {
     "name": "stderr",
     "output_type": "stream",
     "text": [
      "Training Epoch 562: 100%|██████████| 378/378 [00:02<00:00, 172.95it/s]\n",
      "Training Epoch 563: 100%|██████████| 378/378 [00:02<00:00, 170.21it/s]\n",
      "Training Epoch 564: 100%|██████████| 378/378 [00:02<00:00, 171.90it/s]\n",
      "Training Epoch 565: 100%|██████████| 378/378 [00:02<00:00, 171.23it/s]\n",
      "Training Epoch 566: 100%|██████████| 378/378 [00:02<00:00, 173.41it/s]\n",
      "Training Epoch 567: 100%|██████████| 378/378 [00:02<00:00, 168.55it/s]\n",
      "Training Epoch 568: 100%|██████████| 378/378 [00:02<00:00, 176.70it/s]\n",
      "Training Epoch 569: 100%|██████████| 378/378 [00:02<00:00, 172.78it/s]\n",
      "Training Epoch 570: 100%|██████████| 378/378 [00:02<00:00, 170.45it/s]\n",
      "Training Epoch 571: 100%|██████████| 378/378 [00:02<00:00, 176.07it/s]\n"
     ]
    },
    {
     "name": "stdout",
     "output_type": "stream",
     "text": [
      "Epoch 570 - Train Loss: 0.4453, Train MSE: 0.4456, Train MAE: 0.4466\n",
      "Epoch 570 - Validation Loss: 1.5783, Validation MSE: 1.5809, Validation MAE: 0.8823\n"
     ]
    },
    {
     "name": "stderr",
     "output_type": "stream",
     "text": [
      "Training Epoch 572: 100%|██████████| 378/378 [00:02<00:00, 174.82it/s]\n",
      "Training Epoch 573: 100%|██████████| 378/378 [00:02<00:00, 173.99it/s]\n",
      "Training Epoch 574: 100%|██████████| 378/378 [00:02<00:00, 174.06it/s]\n",
      "Training Epoch 575: 100%|██████████| 378/378 [00:02<00:00, 173.64it/s]\n",
      "Training Epoch 576: 100%|██████████| 378/378 [00:02<00:00, 174.54it/s]\n",
      "Training Epoch 577: 100%|██████████| 378/378 [00:02<00:00, 168.01it/s]\n",
      "Training Epoch 578: 100%|██████████| 378/378 [00:02<00:00, 172.53it/s]\n",
      "Training Epoch 579: 100%|██████████| 378/378 [00:02<00:00, 177.88it/s]\n",
      "Training Epoch 580: 100%|██████████| 378/378 [00:02<00:00, 174.24it/s]\n",
      "Training Epoch 581: 100%|██████████| 378/378 [00:02<00:00, 172.99it/s]\n"
     ]
    },
    {
     "name": "stdout",
     "output_type": "stream",
     "text": [
      "Epoch 580 - Train Loss: 0.4394, Train MSE: 0.4397, Train MAE: 0.4428\n",
      "Epoch 580 - Validation Loss: 1.5754, Validation MSE: 1.5784, Validation MAE: 0.8939\n"
     ]
    },
    {
     "name": "stderr",
     "output_type": "stream",
     "text": [
      "Training Epoch 582: 100%|██████████| 378/378 [00:02<00:00, 174.29it/s]\n",
      "Training Epoch 583: 100%|██████████| 378/378 [00:02<00:00, 171.50it/s]\n",
      "Training Epoch 584: 100%|██████████| 378/378 [00:02<00:00, 172.48it/s]\n",
      "Training Epoch 585: 100%|██████████| 378/378 [00:02<00:00, 173.13it/s]\n",
      "Training Epoch 586: 100%|██████████| 378/378 [00:02<00:00, 170.59it/s]\n",
      "Training Epoch 587: 100%|██████████| 378/378 [00:02<00:00, 175.24it/s]\n",
      "Training Epoch 588: 100%|██████████| 378/378 [00:02<00:00, 173.53it/s]\n",
      "Training Epoch 589: 100%|██████████| 378/378 [00:02<00:00, 169.95it/s]\n",
      "Training Epoch 590: 100%|██████████| 378/378 [00:02<00:00, 176.38it/s]\n",
      "Training Epoch 591: 100%|██████████| 378/378 [00:02<00:00, 167.81it/s]\n"
     ]
    },
    {
     "name": "stdout",
     "output_type": "stream",
     "text": [
      "Epoch 590 - Train Loss: 0.4389, Train MSE: 0.4387, Train MAE: 0.4435\n",
      "Epoch 590 - Validation Loss: 1.5651, Validation MSE: 1.5676, Validation MAE: 0.8874\n"
     ]
    },
    {
     "name": "stderr",
     "output_type": "stream",
     "text": [
      "Training Epoch 592: 100%|██████████| 378/378 [00:02<00:00, 175.55it/s]\n",
      "Training Epoch 593: 100%|██████████| 378/378 [00:02<00:00, 170.63it/s]\n",
      "Training Epoch 594: 100%|██████████| 378/378 [00:02<00:00, 171.58it/s]\n",
      "Training Epoch 595: 100%|██████████| 378/378 [00:02<00:00, 170.40it/s]\n",
      "Training Epoch 596: 100%|██████████| 378/378 [00:02<00:00, 171.88it/s]\n",
      "Training Epoch 597: 100%|██████████| 378/378 [00:02<00:00, 168.62it/s]\n",
      "Training Epoch 598: 100%|██████████| 378/378 [00:02<00:00, 138.89it/s]\n",
      "Training Epoch 599: 100%|██████████| 378/378 [00:02<00:00, 157.04it/s]\n",
      "Training Epoch 600: 100%|██████████| 378/378 [00:02<00:00, 159.26it/s]\n",
      "Training Epoch 601: 100%|██████████| 378/378 [00:02<00:00, 157.08it/s]\n"
     ]
    },
    {
     "name": "stdout",
     "output_type": "stream",
     "text": [
      "Epoch 600 - Train Loss: 0.4434, Train MSE: 0.4432, Train MAE: 0.4425\n",
      "Epoch 600 - Validation Loss: 1.5610, Validation MSE: 1.5640, Validation MAE: 0.8870\n"
     ]
    },
    {
     "name": "stderr",
     "output_type": "stream",
     "text": [
      "Training Epoch 602: 100%|██████████| 378/378 [00:02<00:00, 148.53it/s]\n",
      "Training Epoch 603: 100%|██████████| 378/378 [00:02<00:00, 165.62it/s]\n",
      "Training Epoch 604: 100%|██████████| 378/378 [00:02<00:00, 160.52it/s]\n",
      "Training Epoch 605: 100%|██████████| 378/378 [00:02<00:00, 166.09it/s]\n",
      "Training Epoch 606: 100%|██████████| 378/378 [00:02<00:00, 162.36it/s]\n",
      "Training Epoch 607: 100%|██████████| 378/378 [00:02<00:00, 152.11it/s]\n",
      "Training Epoch 608: 100%|██████████| 378/378 [00:02<00:00, 155.45it/s]\n",
      "Training Epoch 609: 100%|██████████| 378/378 [00:02<00:00, 156.31it/s]\n",
      "Training Epoch 610: 100%|██████████| 378/378 [00:02<00:00, 168.35it/s]\n",
      "Training Epoch 611: 100%|██████████| 378/378 [00:02<00:00, 164.07it/s]\n"
     ]
    },
    {
     "name": "stdout",
     "output_type": "stream",
     "text": [
      "Epoch 610 - Train Loss: 0.4384, Train MSE: 0.4386, Train MAE: 0.4426\n",
      "Epoch 610 - Validation Loss: 1.5996, Validation MSE: 1.6032, Validation MAE: 0.9023\n"
     ]
    },
    {
     "name": "stderr",
     "output_type": "stream",
     "text": [
      "Training Epoch 612: 100%|██████████| 378/378 [00:02<00:00, 165.60it/s]\n",
      "Training Epoch 613: 100%|██████████| 378/378 [00:02<00:00, 164.25it/s]\n",
      "Training Epoch 614: 100%|██████████| 378/378 [00:02<00:00, 167.22it/s]\n",
      "Training Epoch 615: 100%|██████████| 378/378 [00:02<00:00, 162.77it/s]\n",
      "Training Epoch 616: 100%|██████████| 378/378 [00:02<00:00, 170.24it/s]\n",
      "Training Epoch 617: 100%|██████████| 378/378 [00:02<00:00, 164.63it/s]\n",
      "Training Epoch 618: 100%|██████████| 378/378 [00:02<00:00, 167.24it/s]\n",
      "Training Epoch 619: 100%|██████████| 378/378 [00:02<00:00, 166.10it/s]\n",
      "Training Epoch 620: 100%|██████████| 378/378 [00:02<00:00, 168.87it/s]\n",
      "Training Epoch 621: 100%|██████████| 378/378 [00:02<00:00, 165.81it/s]\n"
     ]
    },
    {
     "name": "stdout",
     "output_type": "stream",
     "text": [
      "Epoch 620 - Train Loss: 0.4343, Train MSE: 0.4339, Train MAE: 0.4373\n",
      "Epoch 620 - Validation Loss: 1.5959, Validation MSE: 1.5990, Validation MAE: 0.8972\n"
     ]
    },
    {
     "name": "stderr",
     "output_type": "stream",
     "text": [
      "Training Epoch 622: 100%|██████████| 378/378 [00:02<00:00, 167.45it/s]\n",
      "Training Epoch 623: 100%|██████████| 378/378 [00:02<00:00, 168.21it/s]\n",
      "Training Epoch 624: 100%|██████████| 378/378 [00:02<00:00, 161.85it/s]\n",
      "Training Epoch 625: 100%|██████████| 378/378 [00:02<00:00, 164.22it/s]\n",
      "Training Epoch 626: 100%|██████████| 378/378 [00:02<00:00, 167.94it/s]\n",
      "Training Epoch 627: 100%|██████████| 378/378 [00:02<00:00, 164.23it/s]\n",
      "Training Epoch 628: 100%|██████████| 378/378 [00:02<00:00, 165.43it/s]\n",
      "Training Epoch 629: 100%|██████████| 378/378 [00:02<00:00, 169.21it/s]\n",
      "Training Epoch 630: 100%|██████████| 378/378 [00:02<00:00, 165.20it/s]\n",
      "Training Epoch 631: 100%|██████████| 378/378 [00:02<00:00, 152.13it/s]\n"
     ]
    },
    {
     "name": "stdout",
     "output_type": "stream",
     "text": [
      "Epoch 630 - Train Loss: 0.4372, Train MSE: 0.4375, Train MAE: 0.4393\n",
      "Epoch 630 - Validation Loss: 1.6074, Validation MSE: 1.6105, Validation MAE: 0.8972\n"
     ]
    },
    {
     "name": "stderr",
     "output_type": "stream",
     "text": [
      "Training Epoch 632: 100%|██████████| 378/378 [00:02<00:00, 153.54it/s]\n",
      "Training Epoch 633: 100%|██████████| 378/378 [00:02<00:00, 153.83it/s]\n",
      "Training Epoch 634: 100%|██████████| 378/378 [00:02<00:00, 160.60it/s]\n",
      "Training Epoch 635: 100%|██████████| 378/378 [00:02<00:00, 163.69it/s]\n",
      "Training Epoch 636: 100%|██████████| 378/378 [00:02<00:00, 156.32it/s]\n",
      "Training Epoch 637: 100%|██████████| 378/378 [00:02<00:00, 153.31it/s]\n",
      "Training Epoch 638: 100%|██████████| 378/378 [00:02<00:00, 137.00it/s]\n",
      "Training Epoch 639: 100%|██████████| 378/378 [00:02<00:00, 154.48it/s]\n",
      "Training Epoch 640: 100%|██████████| 378/378 [00:02<00:00, 151.24it/s]\n",
      "Training Epoch 641: 100%|██████████| 378/378 [00:02<00:00, 158.97it/s]\n"
     ]
    },
    {
     "name": "stdout",
     "output_type": "stream",
     "text": [
      "Epoch 640 - Train Loss: 0.4249, Train MSE: 0.4244, Train MAE: 0.4338\n",
      "Epoch 640 - Validation Loss: 1.6089, Validation MSE: 1.6121, Validation MAE: 0.8996\n"
     ]
    },
    {
     "name": "stderr",
     "output_type": "stream",
     "text": [
      "Training Epoch 642: 100%|██████████| 378/378 [00:02<00:00, 161.71it/s]\n",
      "Training Epoch 643: 100%|██████████| 378/378 [00:02<00:00, 139.00it/s]\n",
      "Training Epoch 644: 100%|██████████| 378/378 [00:02<00:00, 153.60it/s]\n",
      "Training Epoch 645: 100%|██████████| 378/378 [00:02<00:00, 164.27it/s]\n",
      "Training Epoch 646: 100%|██████████| 378/378 [00:02<00:00, 167.98it/s]\n",
      "Training Epoch 647: 100%|██████████| 378/378 [00:02<00:00, 169.17it/s]\n",
      "Training Epoch 648: 100%|██████████| 378/378 [00:02<00:00, 169.51it/s]\n",
      "Training Epoch 649: 100%|██████████| 378/378 [00:02<00:00, 161.27it/s]\n",
      "Training Epoch 650: 100%|██████████| 378/378 [00:02<00:00, 165.93it/s]\n",
      "Training Epoch 651: 100%|██████████| 378/378 [00:02<00:00, 167.17it/s]\n"
     ]
    },
    {
     "name": "stdout",
     "output_type": "stream",
     "text": [
      "Epoch 650 - Train Loss: 0.4400, Train MSE: 0.4401, Train MAE: 0.4389\n",
      "Epoch 650 - Validation Loss: 1.5643, Validation MSE: 1.5674, Validation MAE: 0.8860\n"
     ]
    },
    {
     "name": "stderr",
     "output_type": "stream",
     "text": [
      "Training Epoch 652: 100%|██████████| 378/378 [00:02<00:00, 163.64it/s]\n",
      "Training Epoch 653: 100%|██████████| 378/378 [00:02<00:00, 166.82it/s]\n",
      "Training Epoch 654: 100%|██████████| 378/378 [00:02<00:00, 162.54it/s]\n",
      "Training Epoch 655: 100%|██████████| 378/378 [00:02<00:00, 164.66it/s]\n",
      "Training Epoch 656: 100%|██████████| 378/378 [00:02<00:00, 166.09it/s]\n",
      "Training Epoch 657: 100%|██████████| 378/378 [00:02<00:00, 164.08it/s]\n",
      "Training Epoch 658: 100%|██████████| 378/378 [00:02<00:00, 162.62it/s]\n",
      "Training Epoch 659: 100%|██████████| 378/378 [00:02<00:00, 166.66it/s]\n",
      "Training Epoch 660: 100%|██████████| 378/378 [00:02<00:00, 162.55it/s]\n",
      "Training Epoch 661: 100%|██████████| 378/378 [00:02<00:00, 165.28it/s]\n"
     ]
    },
    {
     "name": "stdout",
     "output_type": "stream",
     "text": [
      "Epoch 660 - Train Loss: 0.4300, Train MSE: 0.4301, Train MAE: 0.4369\n",
      "Epoch 660 - Validation Loss: 1.5820, Validation MSE: 1.5848, Validation MAE: 0.8895\n"
     ]
    },
    {
     "name": "stderr",
     "output_type": "stream",
     "text": [
      "Training Epoch 662: 100%|██████████| 378/378 [00:02<00:00, 168.73it/s]\n",
      "Training Epoch 663: 100%|██████████| 378/378 [00:02<00:00, 160.66it/s]\n",
      "Training Epoch 664: 100%|██████████| 378/378 [00:02<00:00, 164.34it/s]\n",
      "Training Epoch 665: 100%|██████████| 378/378 [00:02<00:00, 167.04it/s]\n",
      "Training Epoch 666: 100%|██████████| 378/378 [00:02<00:00, 164.98it/s]\n",
      "Training Epoch 667: 100%|██████████| 378/378 [00:02<00:00, 162.94it/s]\n",
      "Training Epoch 668: 100%|██████████| 378/378 [00:02<00:00, 164.21it/s]\n",
      "Training Epoch 669: 100%|██████████| 378/378 [00:02<00:00, 166.79it/s]\n",
      "Training Epoch 670: 100%|██████████| 378/378 [00:02<00:00, 159.93it/s]\n",
      "Training Epoch 671: 100%|██████████| 378/378 [00:02<00:00, 167.61it/s]\n"
     ]
    },
    {
     "name": "stdout",
     "output_type": "stream",
     "text": [
      "Epoch 670 - Train Loss: 0.4325, Train MSE: 0.4326, Train MAE: 0.4357\n",
      "Epoch 670 - Validation Loss: 1.5860, Validation MSE: 1.5894, Validation MAE: 0.8963\n"
     ]
    },
    {
     "name": "stderr",
     "output_type": "stream",
     "text": [
      "Training Epoch 672: 100%|██████████| 378/378 [00:02<00:00, 164.58it/s]\n",
      "Training Epoch 673: 100%|██████████| 378/378 [00:02<00:00, 161.95it/s]\n",
      "Training Epoch 674: 100%|██████████| 378/378 [00:02<00:00, 165.08it/s]\n",
      "Training Epoch 675: 100%|██████████| 378/378 [00:02<00:00, 169.97it/s]\n",
      "Training Epoch 676: 100%|██████████| 378/378 [00:02<00:00, 160.26it/s]\n",
      "Training Epoch 677: 100%|██████████| 378/378 [00:02<00:00, 168.21it/s]\n",
      "Training Epoch 678: 100%|██████████| 378/378 [00:02<00:00, 166.97it/s]\n",
      "Training Epoch 679: 100%|██████████| 378/378 [00:02<00:00, 165.21it/s]\n",
      "Training Epoch 680: 100%|██████████| 378/378 [00:02<00:00, 167.77it/s]\n",
      "Training Epoch 681: 100%|██████████| 378/378 [00:02<00:00, 160.95it/s]\n"
     ]
    },
    {
     "name": "stdout",
     "output_type": "stream",
     "text": [
      "Epoch 680 - Train Loss: 0.4189, Train MSE: 0.4191, Train MAE: 0.4289\n",
      "Epoch 680 - Validation Loss: 1.5753, Validation MSE: 1.5784, Validation MAE: 0.8900\n"
     ]
    },
    {
     "name": "stderr",
     "output_type": "stream",
     "text": [
      "Training Epoch 682: 100%|██████████| 378/378 [00:02<00:00, 160.09it/s]\n",
      "Training Epoch 683: 100%|██████████| 378/378 [00:02<00:00, 160.28it/s]\n",
      "Training Epoch 684: 100%|██████████| 378/378 [00:02<00:00, 167.38it/s]\n",
      "Training Epoch 685: 100%|██████████| 378/378 [00:02<00:00, 164.14it/s]\n",
      "Training Epoch 686: 100%|██████████| 378/378 [00:02<00:00, 166.43it/s]\n",
      "Training Epoch 687: 100%|██████████| 378/378 [00:02<00:00, 164.87it/s]\n",
      "Training Epoch 688: 100%|██████████| 378/378 [00:02<00:00, 161.52it/s]\n",
      "Training Epoch 689: 100%|██████████| 378/378 [00:02<00:00, 164.12it/s]\n",
      "Training Epoch 690: 100%|██████████| 378/378 [00:02<00:00, 164.71it/s]\n",
      "Training Epoch 691: 100%|██████████| 378/378 [00:02<00:00, 160.59it/s]\n"
     ]
    },
    {
     "name": "stdout",
     "output_type": "stream",
     "text": [
      "Epoch 690 - Train Loss: 0.4293, Train MSE: 0.4292, Train MAE: 0.4368\n",
      "Epoch 690 - Validation Loss: 1.5595, Validation MSE: 1.5620, Validation MAE: 0.8836\n"
     ]
    },
    {
     "name": "stderr",
     "output_type": "stream",
     "text": [
      "Training Epoch 692: 100%|██████████| 378/378 [00:02<00:00, 169.83it/s]\n",
      "Training Epoch 693: 100%|██████████| 378/378 [00:02<00:00, 162.78it/s]\n",
      "Training Epoch 694: 100%|██████████| 378/378 [00:02<00:00, 165.28it/s]\n",
      "Training Epoch 695: 100%|██████████| 378/378 [00:02<00:00, 165.32it/s]\n",
      "Training Epoch 696: 100%|██████████| 378/378 [00:02<00:00, 162.27it/s]\n",
      "Training Epoch 697: 100%|██████████| 378/378 [00:02<00:00, 165.39it/s]\n",
      "Training Epoch 698: 100%|██████████| 378/378 [00:02<00:00, 172.47it/s]\n",
      "Training Epoch 699: 100%|██████████| 378/378 [00:02<00:00, 163.72it/s]\n",
      "Training Epoch 700: 100%|██████████| 378/378 [00:02<00:00, 164.82it/s]\n",
      "Training Epoch 701: 100%|██████████| 378/378 [00:02<00:00, 164.78it/s]\n"
     ]
    },
    {
     "name": "stdout",
     "output_type": "stream",
     "text": [
      "Epoch 700 - Train Loss: 0.4185, Train MSE: 0.4181, Train MAE: 0.4283\n",
      "Epoch 700 - Validation Loss: 1.5488, Validation MSE: 1.5519, Validation MAE: 0.8810\n"
     ]
    },
    {
     "name": "stderr",
     "output_type": "stream",
     "text": [
      "Training Epoch 702: 100%|██████████| 378/378 [00:02<00:00, 163.79it/s]\n",
      "Training Epoch 703: 100%|██████████| 378/378 [00:02<00:00, 160.86it/s]\n",
      "Training Epoch 704: 100%|██████████| 378/378 [00:02<00:00, 171.45it/s]\n",
      "Training Epoch 705: 100%|██████████| 378/378 [00:02<00:00, 164.50it/s]\n",
      "Training Epoch 706: 100%|██████████| 378/378 [00:02<00:00, 162.52it/s]\n",
      "Training Epoch 707: 100%|██████████| 378/378 [00:02<00:00, 164.62it/s]\n",
      "Training Epoch 708: 100%|██████████| 378/378 [00:02<00:00, 170.70it/s]\n",
      "Training Epoch 709: 100%|██████████| 378/378 [00:02<00:00, 162.17it/s]\n",
      "Training Epoch 710: 100%|██████████| 378/378 [00:02<00:00, 167.73it/s]\n",
      "Training Epoch 711: 100%|██████████| 378/378 [00:02<00:00, 163.31it/s]\n"
     ]
    },
    {
     "name": "stdout",
     "output_type": "stream",
     "text": [
      "Epoch 710 - Train Loss: 0.4252, Train MSE: 0.4247, Train MAE: 0.4323\n",
      "Epoch 710 - Validation Loss: 1.5607, Validation MSE: 1.5632, Validation MAE: 0.8821\n"
     ]
    },
    {
     "name": "stderr",
     "output_type": "stream",
     "text": [
      "Training Epoch 712: 100%|██████████| 378/378 [00:02<00:00, 160.81it/s]\n",
      "Training Epoch 713: 100%|██████████| 378/378 [00:02<00:00, 162.00it/s]\n",
      "Training Epoch 714: 100%|██████████| 378/378 [00:02<00:00, 167.42it/s]\n",
      "Training Epoch 715: 100%|██████████| 378/378 [00:02<00:00, 161.50it/s]\n",
      "Training Epoch 716: 100%|██████████| 378/378 [00:02<00:00, 159.85it/s]\n",
      "Training Epoch 717: 100%|██████████| 378/378 [00:02<00:00, 166.87it/s]\n",
      "Training Epoch 718: 100%|██████████| 378/378 [00:02<00:00, 160.82it/s]\n",
      "Training Epoch 719: 100%|██████████| 378/378 [00:02<00:00, 164.14it/s]\n",
      "Training Epoch 720: 100%|██████████| 378/378 [00:02<00:00, 166.08it/s]\n",
      "Training Epoch 721: 100%|██████████| 378/378 [00:02<00:00, 162.26it/s]\n"
     ]
    },
    {
     "name": "stdout",
     "output_type": "stream",
     "text": [
      "Epoch 720 - Train Loss: 0.4224, Train MSE: 0.4227, Train MAE: 0.4311\n",
      "Epoch 720 - Validation Loss: 1.5752, Validation MSE: 1.5785, Validation MAE: 0.8910\n"
     ]
    },
    {
     "name": "stderr",
     "output_type": "stream",
     "text": [
      "Training Epoch 722: 100%|██████████| 378/378 [00:02<00:00, 163.68it/s]\n",
      "Training Epoch 723: 100%|██████████| 378/378 [00:02<00:00, 162.06it/s]\n",
      "Training Epoch 724: 100%|██████████| 378/378 [00:02<00:00, 162.57it/s]\n",
      "Training Epoch 725: 100%|██████████| 378/378 [00:02<00:00, 161.11it/s]\n",
      "Training Epoch 726: 100%|██████████| 378/378 [00:02<00:00, 166.50it/s]\n",
      "Training Epoch 727: 100%|██████████| 378/378 [00:02<00:00, 162.37it/s]\n",
      "Training Epoch 728: 100%|██████████| 378/378 [00:02<00:00, 164.28it/s]\n",
      "Training Epoch 729: 100%|██████████| 378/378 [00:02<00:00, 161.49it/s]\n",
      "Training Epoch 730: 100%|██████████| 378/378 [00:02<00:00, 162.50it/s]\n",
      "Training Epoch 731: 100%|██████████| 378/378 [00:02<00:00, 165.02it/s]\n"
     ]
    },
    {
     "name": "stdout",
     "output_type": "stream",
     "text": [
      "Epoch 730 - Train Loss: 0.4156, Train MSE: 0.4158, Train MAE: 0.4286\n",
      "Epoch 730 - Validation Loss: 1.5587, Validation MSE: 1.5619, Validation MAE: 0.8858\n"
     ]
    },
    {
     "name": "stderr",
     "output_type": "stream",
     "text": [
      "Training Epoch 732: 100%|██████████| 378/378 [00:02<00:00, 164.29it/s]\n",
      "Training Epoch 733: 100%|██████████| 378/378 [00:02<00:00, 164.59it/s]\n",
      "Training Epoch 734: 100%|██████████| 378/378 [00:02<00:00, 160.93it/s]\n",
      "Training Epoch 735: 100%|██████████| 378/378 [00:02<00:00, 165.60it/s]\n",
      "Training Epoch 736: 100%|██████████| 378/378 [00:02<00:00, 160.96it/s]\n",
      "Training Epoch 737: 100%|██████████| 378/378 [00:02<00:00, 162.70it/s]\n",
      "Training Epoch 738: 100%|██████████| 378/378 [00:02<00:00, 163.75it/s]\n",
      "Training Epoch 739: 100%|██████████| 378/378 [00:02<00:00, 167.44it/s]\n",
      "Training Epoch 740: 100%|██████████| 378/378 [00:02<00:00, 159.28it/s]\n",
      "Training Epoch 741: 100%|██████████| 378/378 [00:02<00:00, 165.57it/s]\n"
     ]
    },
    {
     "name": "stdout",
     "output_type": "stream",
     "text": [
      "Epoch 740 - Train Loss: 0.4131, Train MSE: 0.4124, Train MAE: 0.4232\n",
      "Epoch 740 - Validation Loss: 1.5790, Validation MSE: 1.5824, Validation MAE: 0.8932\n"
     ]
    },
    {
     "name": "stderr",
     "output_type": "stream",
     "text": [
      "Training Epoch 742: 100%|██████████| 378/378 [00:02<00:00, 163.88it/s]\n",
      "Training Epoch 743: 100%|██████████| 378/378 [00:02<00:00, 160.89it/s]\n",
      "Training Epoch 744: 100%|██████████| 378/378 [00:02<00:00, 162.52it/s]\n",
      "Training Epoch 745: 100%|██████████| 378/378 [00:02<00:00, 168.57it/s]\n",
      "Training Epoch 746: 100%|██████████| 378/378 [00:02<00:00, 160.91it/s]\n",
      "Training Epoch 747: 100%|██████████| 378/378 [00:02<00:00, 163.08it/s]\n",
      "Training Epoch 748: 100%|██████████| 378/378 [00:02<00:00, 166.46it/s]\n",
      "Training Epoch 749: 100%|██████████| 378/378 [00:02<00:00, 158.71it/s]\n",
      "Training Epoch 750: 100%|██████████| 378/378 [00:02<00:00, 161.13it/s]\n",
      "Training Epoch 751: 100%|██████████| 378/378 [00:02<00:00, 163.82it/s]\n"
     ]
    },
    {
     "name": "stdout",
     "output_type": "stream",
     "text": [
      "Epoch 750 - Train Loss: 0.4205, Train MSE: 0.4201, Train MAE: 0.4285\n",
      "Epoch 750 - Validation Loss: 1.5682, Validation MSE: 1.5714, Validation MAE: 0.8805\n"
     ]
    },
    {
     "name": "stderr",
     "output_type": "stream",
     "text": [
      "Training Epoch 752: 100%|██████████| 378/378 [00:02<00:00, 161.98it/s]\n",
      "Training Epoch 753: 100%|██████████| 378/378 [00:02<00:00, 163.96it/s]\n",
      "Training Epoch 754: 100%|██████████| 378/378 [00:02<00:00, 167.12it/s]\n",
      "Training Epoch 755: 100%|██████████| 378/378 [00:02<00:00, 161.98it/s]\n",
      "Training Epoch 756: 100%|██████████| 378/378 [00:02<00:00, 156.15it/s]\n",
      "Training Epoch 757: 100%|██████████| 378/378 [00:02<00:00, 168.20it/s]\n",
      "Training Epoch 758: 100%|██████████| 378/378 [00:02<00:00, 162.62it/s]\n",
      "Training Epoch 759: 100%|██████████| 378/378 [00:02<00:00, 160.75it/s]\n",
      "Training Epoch 760: 100%|██████████| 378/378 [00:02<00:00, 163.48it/s]\n",
      "Training Epoch 761: 100%|██████████| 378/378 [00:02<00:00, 164.58it/s]\n"
     ]
    },
    {
     "name": "stdout",
     "output_type": "stream",
     "text": [
      "Epoch 760 - Train Loss: 0.4194, Train MSE: 0.4195, Train MAE: 0.4285\n",
      "Epoch 760 - Validation Loss: 1.5417, Validation MSE: 1.5443, Validation MAE: 0.8766\n"
     ]
    },
    {
     "name": "stderr",
     "output_type": "stream",
     "text": [
      "Training Epoch 762: 100%|██████████| 378/378 [00:02<00:00, 157.53it/s]\n",
      "Training Epoch 763: 100%|██████████| 378/378 [00:02<00:00, 167.06it/s]\n",
      "Training Epoch 764: 100%|██████████| 378/378 [00:02<00:00, 162.06it/s]\n",
      "Training Epoch 765: 100%|██████████| 378/378 [00:02<00:00, 161.18it/s]\n",
      "Training Epoch 766: 100%|██████████| 378/378 [00:02<00:00, 166.02it/s]\n",
      "Training Epoch 767: 100%|██████████| 378/378 [00:02<00:00, 163.05it/s]\n",
      "Training Epoch 768: 100%|██████████| 378/378 [00:02<00:00, 162.31it/s]\n",
      "Training Epoch 769: 100%|██████████| 378/378 [00:02<00:00, 162.64it/s]\n",
      "Training Epoch 770: 100%|██████████| 378/378 [00:02<00:00, 164.41it/s]\n",
      "Training Epoch 771: 100%|██████████| 378/378 [00:02<00:00, 165.32it/s]\n"
     ]
    },
    {
     "name": "stdout",
     "output_type": "stream",
     "text": [
      "Epoch 770 - Train Loss: 0.4154, Train MSE: 0.4157, Train MAE: 0.4250\n",
      "Epoch 770 - Validation Loss: 1.5402, Validation MSE: 1.5430, Validation MAE: 0.8811\n"
     ]
    },
    {
     "name": "stderr",
     "output_type": "stream",
     "text": [
      "Training Epoch 772: 100%|██████████| 378/378 [00:02<00:00, 160.39it/s]\n",
      "Training Epoch 773: 100%|██████████| 378/378 [00:02<00:00, 165.73it/s]\n",
      "Training Epoch 774: 100%|██████████| 378/378 [00:02<00:00, 163.74it/s]\n",
      "Training Epoch 775: 100%|██████████| 378/378 [00:02<00:00, 159.01it/s]\n",
      "Training Epoch 776: 100%|██████████| 378/378 [00:02<00:00, 165.45it/s]\n",
      "Training Epoch 777: 100%|██████████| 378/378 [00:02<00:00, 163.86it/s]\n",
      "Training Epoch 778: 100%|██████████| 378/378 [00:02<00:00, 161.64it/s]\n",
      "Training Epoch 779: 100%|██████████| 378/378 [00:02<00:00, 166.25it/s]\n",
      "Training Epoch 780: 100%|██████████| 378/378 [00:02<00:00, 162.38it/s]\n",
      "Training Epoch 781: 100%|██████████| 378/378 [00:02<00:00, 160.89it/s]\n"
     ]
    },
    {
     "name": "stdout",
     "output_type": "stream",
     "text": [
      "Epoch 780 - Train Loss: 0.4127, Train MSE: 0.4127, Train MAE: 0.4226\n",
      "Epoch 780 - Validation Loss: 1.5850, Validation MSE: 1.5883, Validation MAE: 0.8980\n"
     ]
    },
    {
     "name": "stderr",
     "output_type": "stream",
     "text": [
      "Training Epoch 782: 100%|██████████| 378/378 [00:02<00:00, 162.33it/s]\n",
      "Training Epoch 783: 100%|██████████| 378/378 [00:02<00:00, 162.01it/s]\n",
      "Training Epoch 784: 100%|██████████| 378/378 [00:02<00:00, 160.64it/s]\n",
      "Training Epoch 785: 100%|██████████| 378/378 [00:02<00:00, 166.54it/s]\n",
      "Training Epoch 786: 100%|██████████| 378/378 [00:02<00:00, 165.88it/s]\n",
      "Training Epoch 787: 100%|██████████| 378/378 [00:02<00:00, 164.24it/s]\n",
      "Training Epoch 788: 100%|██████████| 378/378 [00:02<00:00, 167.48it/s]\n",
      "Training Epoch 789: 100%|██████████| 378/378 [00:02<00:00, 158.73it/s]\n",
      "Training Epoch 790: 100%|██████████| 378/378 [00:02<00:00, 164.27it/s]\n",
      "Training Epoch 791: 100%|██████████| 378/378 [00:02<00:00, 168.41it/s]\n"
     ]
    },
    {
     "name": "stdout",
     "output_type": "stream",
     "text": [
      "Epoch 790 - Train Loss: 0.4106, Train MSE: 0.4106, Train MAE: 0.4233\n",
      "Epoch 790 - Validation Loss: 1.5669, Validation MSE: 1.5699, Validation MAE: 0.8864\n"
     ]
    },
    {
     "name": "stderr",
     "output_type": "stream",
     "text": [
      "Training Epoch 792: 100%|██████████| 378/378 [00:02<00:00, 164.20it/s]\n",
      "Training Epoch 793: 100%|██████████| 378/378 [00:02<00:00, 163.09it/s]\n",
      "Training Epoch 794: 100%|██████████| 378/378 [00:02<00:00, 166.64it/s]\n",
      "Training Epoch 795: 100%|██████████| 378/378 [00:02<00:00, 155.34it/s]\n",
      "Training Epoch 796: 100%|██████████| 378/378 [00:02<00:00, 162.92it/s]\n",
      "Training Epoch 797: 100%|██████████| 378/378 [00:02<00:00, 166.20it/s]\n",
      "Training Epoch 798: 100%|██████████| 378/378 [00:02<00:00, 166.44it/s]\n",
      "Training Epoch 799: 100%|██████████| 378/378 [00:02<00:00, 164.03it/s]\n",
      "Training Epoch 800: 100%|██████████| 378/378 [00:02<00:00, 166.19it/s]\n",
      "Training Epoch 801: 100%|██████████| 378/378 [00:02<00:00, 166.24it/s]\n"
     ]
    },
    {
     "name": "stdout",
     "output_type": "stream",
     "text": [
      "Epoch 800 - Train Loss: 0.4092, Train MSE: 0.4090, Train MAE: 0.4217\n",
      "Epoch 800 - Validation Loss: 1.5952, Validation MSE: 1.5981, Validation MAE: 0.8986\n"
     ]
    },
    {
     "name": "stderr",
     "output_type": "stream",
     "text": [
      "Training Epoch 802: 100%|██████████| 378/378 [00:02<00:00, 162.20it/s]\n",
      "Training Epoch 803: 100%|██████████| 378/378 [00:02<00:00, 166.67it/s]\n",
      "Training Epoch 804: 100%|██████████| 378/378 [00:02<00:00, 168.38it/s]\n",
      "Training Epoch 805: 100%|██████████| 378/378 [00:02<00:00, 164.74it/s]\n",
      "Training Epoch 806: 100%|██████████| 378/378 [00:02<00:00, 164.13it/s]\n",
      "Training Epoch 807: 100%|██████████| 378/378 [00:02<00:00, 164.93it/s]\n",
      "Training Epoch 808: 100%|██████████| 378/378 [00:02<00:00, 158.98it/s]\n",
      "Training Epoch 809: 100%|██████████| 378/378 [00:02<00:00, 163.34it/s]\n",
      "Training Epoch 810: 100%|██████████| 378/378 [00:02<00:00, 168.13it/s]\n",
      "Training Epoch 811: 100%|██████████| 378/378 [00:02<00:00, 163.30it/s]\n"
     ]
    },
    {
     "name": "stdout",
     "output_type": "stream",
     "text": [
      "Epoch 810 - Train Loss: 0.4053, Train MSE: 0.4054, Train MAE: 0.4205\n",
      "Epoch 810 - Validation Loss: 1.5620, Validation MSE: 1.5650, Validation MAE: 0.8872\n"
     ]
    },
    {
     "name": "stderr",
     "output_type": "stream",
     "text": [
      "Training Epoch 812: 100%|██████████| 378/378 [00:02<00:00, 161.53it/s]\n",
      "Training Epoch 813: 100%|██████████| 378/378 [00:02<00:00, 164.98it/s]\n",
      "Training Epoch 814: 100%|██████████| 378/378 [00:02<00:00, 164.20it/s]\n",
      "Training Epoch 815: 100%|██████████| 378/378 [00:02<00:00, 160.52it/s]\n",
      "Training Epoch 816: 100%|██████████| 378/378 [00:02<00:00, 166.85it/s]\n",
      "Training Epoch 817: 100%|██████████| 378/378 [00:02<00:00, 162.83it/s]\n",
      "Training Epoch 818: 100%|██████████| 378/378 [00:02<00:00, 162.72it/s]\n",
      "Training Epoch 819: 100%|██████████| 378/378 [00:02<00:00, 166.72it/s]\n",
      "Training Epoch 820: 100%|██████████| 378/378 [00:02<00:00, 164.81it/s]\n",
      "Training Epoch 821: 100%|██████████| 378/378 [00:02<00:00, 162.28it/s]\n"
     ]
    },
    {
     "name": "stdout",
     "output_type": "stream",
     "text": [
      "Epoch 820 - Train Loss: 0.4093, Train MSE: 0.4087, Train MAE: 0.4209\n",
      "Epoch 820 - Validation Loss: 1.5685, Validation MSE: 1.5716, Validation MAE: 0.8890\n"
     ]
    },
    {
     "name": "stderr",
     "output_type": "stream",
     "text": [
      "Training Epoch 822: 100%|██████████| 378/378 [00:02<00:00, 164.12it/s]\n",
      "Training Epoch 823: 100%|██████████| 378/378 [00:02<00:00, 165.23it/s]\n",
      "Training Epoch 824: 100%|██████████| 378/378 [00:02<00:00, 160.21it/s]\n",
      "Training Epoch 825: 100%|██████████| 378/378 [00:02<00:00, 164.54it/s]\n",
      "Training Epoch 826: 100%|██████████| 378/378 [00:02<00:00, 163.83it/s]\n",
      "Training Epoch 827: 100%|██████████| 378/378 [00:02<00:00, 164.79it/s]\n",
      "Training Epoch 828: 100%|██████████| 378/378 [00:02<00:00, 160.12it/s]\n",
      "Training Epoch 829: 100%|██████████| 378/378 [00:02<00:00, 164.39it/s]\n",
      "Training Epoch 830: 100%|██████████| 378/378 [00:02<00:00, 161.72it/s]\n",
      "Training Epoch 831: 100%|██████████| 378/378 [00:02<00:00, 162.85it/s]\n"
     ]
    },
    {
     "name": "stdout",
     "output_type": "stream",
     "text": [
      "Epoch 830 - Train Loss: 0.4018, Train MSE: 0.4018, Train MAE: 0.4168\n",
      "Epoch 830 - Validation Loss: 1.5725, Validation MSE: 1.5755, Validation MAE: 0.8881\n"
     ]
    },
    {
     "name": "stderr",
     "output_type": "stream",
     "text": [
      "Training Epoch 832: 100%|██████████| 378/378 [00:02<00:00, 163.68it/s]\n",
      "Training Epoch 833: 100%|██████████| 378/378 [00:02<00:00, 164.80it/s]\n",
      "Training Epoch 834: 100%|██████████| 378/378 [00:02<00:00, 161.97it/s]\n",
      "Training Epoch 835: 100%|██████████| 378/378 [00:02<00:00, 163.29it/s]\n",
      "Training Epoch 836: 100%|██████████| 378/378 [00:02<00:00, 159.76it/s]\n",
      "Training Epoch 837: 100%|██████████| 378/378 [00:02<00:00, 162.23it/s]\n",
      "Training Epoch 838: 100%|██████████| 378/378 [00:02<00:00, 166.43it/s]\n",
      "Training Epoch 839: 100%|██████████| 378/378 [00:02<00:00, 162.75it/s]\n",
      "Training Epoch 840: 100%|██████████| 378/378 [00:02<00:00, 164.54it/s]\n",
      "Training Epoch 841: 100%|██████████| 378/378 [00:02<00:00, 158.28it/s]\n"
     ]
    },
    {
     "name": "stdout",
     "output_type": "stream",
     "text": [
      "Epoch 840 - Train Loss: 0.4054, Train MSE: 0.4055, Train MAE: 0.4181\n",
      "Epoch 840 - Validation Loss: 1.5598, Validation MSE: 1.5630, Validation MAE: 0.8821\n"
     ]
    },
    {
     "name": "stderr",
     "output_type": "stream",
     "text": [
      "Training Epoch 842: 100%|██████████| 378/378 [00:02<00:00, 155.86it/s]\n",
      "Training Epoch 843: 100%|██████████| 378/378 [00:02<00:00, 164.23it/s]\n",
      "Training Epoch 844: 100%|██████████| 378/378 [00:02<00:00, 164.93it/s]\n",
      "Training Epoch 845: 100%|██████████| 378/378 [00:02<00:00, 167.81it/s]\n",
      "Training Epoch 846: 100%|██████████| 378/378 [00:02<00:00, 162.34it/s]\n",
      "Training Epoch 847: 100%|██████████| 378/378 [00:02<00:00, 170.40it/s]\n",
      "Training Epoch 848: 100%|██████████| 378/378 [00:02<00:00, 163.48it/s]\n",
      "Training Epoch 849: 100%|██████████| 378/378 [00:02<00:00, 163.97it/s]\n",
      "Training Epoch 850: 100%|██████████| 378/378 [00:02<00:00, 165.49it/s]\n",
      "Training Epoch 851: 100%|██████████| 378/378 [00:02<00:00, 165.76it/s]\n"
     ]
    },
    {
     "name": "stdout",
     "output_type": "stream",
     "text": [
      "Epoch 850 - Train Loss: 0.4045, Train MSE: 0.4047, Train MAE: 0.4197\n",
      "Epoch 850 - Validation Loss: 1.5626, Validation MSE: 1.5654, Validation MAE: 0.8786\n"
     ]
    },
    {
     "name": "stderr",
     "output_type": "stream",
     "text": [
      "Training Epoch 852: 100%|██████████| 378/378 [00:02<00:00, 163.86it/s]\n",
      "Training Epoch 853: 100%|██████████| 378/378 [00:02<00:00, 162.39it/s]\n",
      "Training Epoch 854: 100%|██████████| 378/378 [00:02<00:00, 166.72it/s]\n",
      "Training Epoch 855: 100%|██████████| 378/378 [00:02<00:00, 155.81it/s]\n",
      "Training Epoch 856: 100%|██████████| 378/378 [00:02<00:00, 166.48it/s]\n",
      "Training Epoch 857: 100%|██████████| 378/378 [00:02<00:00, 167.93it/s]\n",
      "Training Epoch 858: 100%|██████████| 378/378 [00:02<00:00, 161.71it/s]\n",
      "Training Epoch 859: 100%|██████████| 378/378 [00:02<00:00, 163.45it/s]\n",
      "Training Epoch 860: 100%|██████████| 378/378 [00:02<00:00, 167.31it/s]\n",
      "Training Epoch 861: 100%|██████████| 378/378 [00:02<00:00, 156.95it/s]\n"
     ]
    },
    {
     "name": "stdout",
     "output_type": "stream",
     "text": [
      "Epoch 860 - Train Loss: 0.4009, Train MSE: 0.4010, Train MAE: 0.4189\n",
      "Epoch 860 - Validation Loss: 1.5646, Validation MSE: 1.5672, Validation MAE: 0.8918\n"
     ]
    },
    {
     "name": "stderr",
     "output_type": "stream",
     "text": [
      "Training Epoch 862: 100%|██████████| 378/378 [00:02<00:00, 166.00it/s]\n",
      "Training Epoch 863: 100%|██████████| 378/378 [00:02<00:00, 166.85it/s]\n",
      "Training Epoch 864: 100%|██████████| 378/378 [00:02<00:00, 162.69it/s]\n",
      "Training Epoch 865: 100%|██████████| 378/378 [00:02<00:00, 159.55it/s]\n",
      "Training Epoch 866: 100%|██████████| 378/378 [00:02<00:00, 164.07it/s]\n",
      "Training Epoch 867: 100%|██████████| 378/378 [00:02<00:00, 165.00it/s]\n",
      "Training Epoch 868: 100%|██████████| 378/378 [00:02<00:00, 161.29it/s]\n",
      "Training Epoch 869: 100%|██████████| 378/378 [00:02<00:00, 164.75it/s]\n",
      "Training Epoch 870: 100%|██████████| 378/378 [00:02<00:00, 168.20it/s]\n",
      "Training Epoch 871: 100%|██████████| 378/378 [00:02<00:00, 160.83it/s]\n"
     ]
    },
    {
     "name": "stdout",
     "output_type": "stream",
     "text": [
      "Epoch 870 - Train Loss: 0.3965, Train MSE: 0.3966, Train MAE: 0.4150\n",
      "Epoch 870 - Validation Loss: 1.5742, Validation MSE: 1.5772, Validation MAE: 0.8942\n"
     ]
    },
    {
     "name": "stderr",
     "output_type": "stream",
     "text": [
      "Training Epoch 872: 100%|██████████| 378/378 [00:02<00:00, 164.57it/s]\n",
      "Training Epoch 873: 100%|██████████| 378/378 [00:02<00:00, 159.21it/s]\n",
      "Training Epoch 874: 100%|██████████| 378/378 [00:02<00:00, 159.67it/s]\n",
      "Training Epoch 875: 100%|██████████| 378/378 [00:02<00:00, 163.97it/s]\n",
      "Training Epoch 876: 100%|██████████| 378/378 [00:02<00:00, 168.12it/s]\n",
      "Training Epoch 877: 100%|██████████| 378/378 [00:02<00:00, 162.18it/s]\n",
      "Training Epoch 878: 100%|██████████| 378/378 [00:02<00:00, 159.75it/s]\n",
      "Training Epoch 879: 100%|██████████| 378/378 [00:02<00:00, 147.93it/s]\n",
      "Training Epoch 880: 100%|██████████| 378/378 [00:02<00:00, 166.35it/s]\n",
      "Training Epoch 881: 100%|██████████| 378/378 [00:02<00:00, 145.50it/s]\n"
     ]
    },
    {
     "name": "stdout",
     "output_type": "stream",
     "text": [
      "Epoch 880 - Train Loss: 0.3991, Train MSE: 0.3986, Train MAE: 0.4147\n",
      "Epoch 880 - Validation Loss: 1.5881, Validation MSE: 1.5914, Validation MAE: 0.8913\n"
     ]
    },
    {
     "name": "stderr",
     "output_type": "stream",
     "text": [
      "Training Epoch 882: 100%|██████████| 378/378 [00:02<00:00, 158.74it/s]\n",
      "Training Epoch 883: 100%|██████████| 378/378 [00:02<00:00, 154.78it/s]\n",
      "Training Epoch 884: 100%|██████████| 378/378 [00:02<00:00, 157.22it/s]\n",
      "Training Epoch 885: 100%|██████████| 378/378 [00:02<00:00, 164.96it/s]\n",
      "Training Epoch 886: 100%|██████████| 378/378 [00:02<00:00, 162.77it/s]\n",
      "Training Epoch 887: 100%|██████████| 378/378 [00:02<00:00, 146.04it/s]\n",
      "Training Epoch 888: 100%|██████████| 378/378 [00:02<00:00, 145.74it/s]\n",
      "Training Epoch 889: 100%|██████████| 378/378 [00:02<00:00, 150.62it/s]\n",
      "Training Epoch 890: 100%|██████████| 378/378 [00:02<00:00, 155.34it/s]\n",
      "Training Epoch 891: 100%|██████████| 378/378 [00:02<00:00, 145.63it/s]\n"
     ]
    },
    {
     "name": "stdout",
     "output_type": "stream",
     "text": [
      "Epoch 890 - Train Loss: 0.3991, Train MSE: 0.3989, Train MAE: 0.4165\n",
      "Epoch 890 - Validation Loss: 1.5587, Validation MSE: 1.5617, Validation MAE: 0.8870\n"
     ]
    },
    {
     "name": "stderr",
     "output_type": "stream",
     "text": [
      "Training Epoch 892: 100%|██████████| 378/378 [00:02<00:00, 166.51it/s]\n",
      "Training Epoch 893: 100%|██████████| 378/378 [00:02<00:00, 160.40it/s]\n",
      "Training Epoch 894: 100%|██████████| 378/378 [00:02<00:00, 163.49it/s]\n",
      "Training Epoch 895: 100%|██████████| 378/378 [00:02<00:00, 166.54it/s]\n",
      "Training Epoch 896: 100%|██████████| 378/378 [00:02<00:00, 164.47it/s]\n",
      "Training Epoch 897: 100%|██████████| 378/378 [00:02<00:00, 164.51it/s]\n",
      "Training Epoch 898: 100%|██████████| 378/378 [00:02<00:00, 166.06it/s]\n",
      "Training Epoch 899: 100%|██████████| 378/378 [00:02<00:00, 162.91it/s]\n",
      "Training Epoch 900: 100%|██████████| 378/378 [00:02<00:00, 157.07it/s]\n",
      "Training Epoch 901: 100%|██████████| 378/378 [00:02<00:00, 166.31it/s]\n"
     ]
    },
    {
     "name": "stdout",
     "output_type": "stream",
     "text": [
      "Epoch 900 - Train Loss: 0.3968, Train MSE: 0.3967, Train MAE: 0.4156\n",
      "Epoch 900 - Validation Loss: 1.5587, Validation MSE: 1.5621, Validation MAE: 0.8867\n"
     ]
    },
    {
     "name": "stderr",
     "output_type": "stream",
     "text": [
      "Training Epoch 902: 100%|██████████| 378/378 [00:02<00:00, 162.10it/s]\n",
      "Training Epoch 903: 100%|██████████| 378/378 [00:02<00:00, 164.77it/s]\n",
      "Training Epoch 904: 100%|██████████| 378/378 [00:02<00:00, 158.20it/s]\n",
      "Training Epoch 905: 100%|██████████| 378/378 [00:02<00:00, 163.93it/s]\n",
      "Training Epoch 906: 100%|██████████| 378/378 [00:02<00:00, 161.89it/s]\n",
      "Training Epoch 907: 100%|██████████| 378/378 [00:02<00:00, 161.19it/s]\n",
      "Training Epoch 908: 100%|██████████| 378/378 [00:02<00:00, 164.81it/s]\n",
      "Training Epoch 909: 100%|██████████| 378/378 [00:02<00:00, 162.38it/s]\n",
      "Training Epoch 910: 100%|██████████| 378/378 [00:02<00:00, 161.90it/s]\n",
      "Training Epoch 911: 100%|██████████| 378/378 [00:02<00:00, 166.12it/s]\n"
     ]
    },
    {
     "name": "stdout",
     "output_type": "stream",
     "text": [
      "Epoch 910 - Train Loss: 0.4018, Train MSE: 0.4016, Train MAE: 0.4160\n",
      "Epoch 910 - Validation Loss: 1.5526, Validation MSE: 1.5553, Validation MAE: 0.8848\n"
     ]
    },
    {
     "name": "stderr",
     "output_type": "stream",
     "text": [
      "Training Epoch 912: 100%|██████████| 378/378 [00:02<00:00, 161.73it/s]\n",
      "Training Epoch 913: 100%|██████████| 378/378 [00:02<00:00, 159.45it/s]\n",
      "Training Epoch 914: 100%|██████████| 378/378 [00:02<00:00, 169.20it/s]\n",
      "Training Epoch 915: 100%|██████████| 378/378 [00:02<00:00, 164.29it/s]\n",
      "Training Epoch 916: 100%|██████████| 378/378 [00:02<00:00, 163.05it/s]\n",
      "Training Epoch 917: 100%|██████████| 378/378 [00:02<00:00, 166.68it/s]\n",
      "Training Epoch 918: 100%|██████████| 378/378 [00:02<00:00, 159.39it/s]\n",
      "Training Epoch 919: 100%|██████████| 378/378 [00:02<00:00, 163.04it/s]\n",
      "Training Epoch 920: 100%|██████████| 378/378 [00:02<00:00, 161.23it/s]\n",
      "Training Epoch 921: 100%|██████████| 378/378 [00:02<00:00, 164.71it/s]\n"
     ]
    },
    {
     "name": "stdout",
     "output_type": "stream",
     "text": [
      "Epoch 920 - Train Loss: 0.3968, Train MSE: 0.3970, Train MAE: 0.4136\n",
      "Epoch 920 - Validation Loss: 1.5540, Validation MSE: 1.5567, Validation MAE: 0.8914\n"
     ]
    },
    {
     "name": "stderr",
     "output_type": "stream",
     "text": [
      "Training Epoch 922: 100%|██████████| 378/378 [00:02<00:00, 163.17it/s]\n",
      "Training Epoch 923: 100%|██████████| 378/378 [00:02<00:00, 164.12it/s]\n",
      "Training Epoch 924: 100%|██████████| 378/378 [00:02<00:00, 161.04it/s]\n",
      "Training Epoch 925: 100%|██████████| 378/378 [00:02<00:00, 162.27it/s]\n",
      "Training Epoch 926: 100%|██████████| 378/378 [00:02<00:00, 162.66it/s]\n",
      "Training Epoch 927: 100%|██████████| 378/378 [00:02<00:00, 163.93it/s]\n",
      "Training Epoch 928: 100%|██████████| 378/378 [00:02<00:00, 162.05it/s]\n",
      "Training Epoch 929: 100%|██████████| 378/378 [00:02<00:00, 158.08it/s]\n",
      "Training Epoch 930: 100%|██████████| 378/378 [00:02<00:00, 159.73it/s]\n",
      "Training Epoch 931: 100%|██████████| 378/378 [00:02<00:00, 160.88it/s]\n"
     ]
    },
    {
     "name": "stdout",
     "output_type": "stream",
     "text": [
      "Epoch 930 - Train Loss: 0.3940, Train MSE: 0.3941, Train MAE: 0.4127\n",
      "Epoch 930 - Validation Loss: 1.5548, Validation MSE: 1.5583, Validation MAE: 0.8845\n"
     ]
    },
    {
     "name": "stderr",
     "output_type": "stream",
     "text": [
      "Training Epoch 932: 100%|██████████| 378/378 [00:02<00:00, 169.05it/s]\n",
      "Training Epoch 933: 100%|██████████| 378/378 [00:02<00:00, 158.08it/s]\n",
      "Training Epoch 934: 100%|██████████| 378/378 [00:02<00:00, 161.08it/s]\n",
      "Training Epoch 935: 100%|██████████| 378/378 [00:02<00:00, 166.86it/s]\n",
      "Training Epoch 936: 100%|██████████| 378/378 [00:02<00:00, 161.80it/s]\n",
      "Training Epoch 937: 100%|██████████| 378/378 [00:02<00:00, 161.70it/s]\n",
      "Training Epoch 938: 100%|██████████| 378/378 [00:02<00:00, 168.04it/s]\n",
      "Training Epoch 939: 100%|██████████| 378/378 [00:02<00:00, 157.09it/s]\n",
      "Training Epoch 940: 100%|██████████| 378/378 [00:02<00:00, 159.83it/s]\n",
      "Training Epoch 941: 100%|██████████| 378/378 [00:02<00:00, 166.27it/s]\n"
     ]
    },
    {
     "name": "stdout",
     "output_type": "stream",
     "text": [
      "Epoch 940 - Train Loss: 0.3905, Train MSE: 0.3908, Train MAE: 0.4135\n",
      "Epoch 940 - Validation Loss: 1.5904, Validation MSE: 1.5937, Validation MAE: 0.8938\n"
     ]
    },
    {
     "name": "stderr",
     "output_type": "stream",
     "text": [
      "Training Epoch 942: 100%|██████████| 378/378 [00:02<00:00, 162.32it/s]\n",
      "Training Epoch 943: 100%|██████████| 378/378 [00:02<00:00, 164.34it/s]\n",
      "Training Epoch 944: 100%|██████████| 378/378 [00:02<00:00, 171.79it/s]\n",
      "Training Epoch 945: 100%|██████████| 378/378 [00:02<00:00, 163.66it/s]\n",
      "Training Epoch 946: 100%|██████████| 378/378 [00:02<00:00, 160.09it/s]\n",
      "Training Epoch 947: 100%|██████████| 378/378 [00:02<00:00, 168.29it/s]\n",
      "Training Epoch 948: 100%|██████████| 378/378 [00:02<00:00, 166.56it/s]\n",
      "Training Epoch 949: 100%|██████████| 378/378 [00:02<00:00, 158.43it/s]\n",
      "Training Epoch 950: 100%|██████████| 378/378 [00:02<00:00, 160.88it/s]\n",
      "Training Epoch 951: 100%|██████████| 378/378 [00:02<00:00, 157.33it/s]\n"
     ]
    },
    {
     "name": "stdout",
     "output_type": "stream",
     "text": [
      "Epoch 950 - Train Loss: 0.3860, Train MSE: 0.3860, Train MAE: 0.4100\n",
      "Epoch 950 - Validation Loss: 1.5788, Validation MSE: 1.5813, Validation MAE: 0.8904\n"
     ]
    },
    {
     "name": "stderr",
     "output_type": "stream",
     "text": [
      "Training Epoch 952: 100%|██████████| 378/378 [00:02<00:00, 156.27it/s]\n",
      "Training Epoch 953: 100%|██████████| 378/378 [00:02<00:00, 156.89it/s]\n",
      "Training Epoch 954: 100%|██████████| 378/378 [00:02<00:00, 154.76it/s]\n",
      "Training Epoch 955: 100%|██████████| 378/378 [00:02<00:00, 154.45it/s]\n",
      "Training Epoch 956: 100%|██████████| 378/378 [00:02<00:00, 153.66it/s]\n",
      "Training Epoch 957: 100%|██████████| 378/378 [00:02<00:00, 152.85it/s]\n",
      "Training Epoch 958: 100%|██████████| 378/378 [00:02<00:00, 150.92it/s]\n",
      "Training Epoch 959: 100%|██████████| 378/378 [00:02<00:00, 138.40it/s]\n",
      "Training Epoch 960: 100%|██████████| 378/378 [00:02<00:00, 144.23it/s]\n",
      "Training Epoch 961: 100%|██████████| 378/378 [00:02<00:00, 151.08it/s]\n"
     ]
    },
    {
     "name": "stdout",
     "output_type": "stream",
     "text": [
      "Epoch 960 - Train Loss: 0.3897, Train MSE: 0.3897, Train MAE: 0.4113\n",
      "Epoch 960 - Validation Loss: 1.5789, Validation MSE: 1.5820, Validation MAE: 0.8923\n"
     ]
    },
    {
     "name": "stderr",
     "output_type": "stream",
     "text": [
      "Training Epoch 962: 100%|██████████| 378/378 [00:02<00:00, 150.66it/s]\n",
      "Training Epoch 963: 100%|██████████| 378/378 [00:02<00:00, 146.48it/s]\n",
      "Training Epoch 964: 100%|██████████| 378/378 [00:02<00:00, 143.10it/s]\n",
      "Training Epoch 965: 100%|██████████| 378/378 [00:02<00:00, 150.22it/s]\n",
      "Training Epoch 966: 100%|██████████| 378/378 [00:02<00:00, 149.07it/s]\n",
      "Training Epoch 967: 100%|██████████| 378/378 [00:02<00:00, 142.89it/s]\n",
      "Training Epoch 968: 100%|██████████| 378/378 [00:02<00:00, 149.53it/s]\n",
      "Training Epoch 969: 100%|██████████| 378/378 [00:02<00:00, 147.28it/s]\n",
      "Training Epoch 970: 100%|██████████| 378/378 [00:02<00:00, 141.53it/s]\n",
      "Training Epoch 971: 100%|██████████| 378/378 [00:02<00:00, 143.94it/s]\n"
     ]
    },
    {
     "name": "stdout",
     "output_type": "stream",
     "text": [
      "Epoch 970 - Train Loss: 0.3922, Train MSE: 0.3924, Train MAE: 0.4095\n",
      "Epoch 970 - Validation Loss: 1.5459, Validation MSE: 1.5483, Validation MAE: 0.8819\n"
     ]
    },
    {
     "name": "stderr",
     "output_type": "stream",
     "text": [
      "Training Epoch 972: 100%|██████████| 378/378 [00:02<00:00, 153.80it/s]\n",
      "Training Epoch 973: 100%|██████████| 378/378 [00:02<00:00, 152.60it/s]\n",
      "Training Epoch 974: 100%|██████████| 378/378 [00:02<00:00, 151.75it/s]\n",
      "Training Epoch 975: 100%|██████████| 378/378 [00:02<00:00, 147.40it/s]\n",
      "Training Epoch 976: 100%|██████████| 378/378 [00:02<00:00, 146.98it/s]\n",
      "Training Epoch 977: 100%|██████████| 378/378 [00:02<00:00, 147.94it/s]\n",
      "Training Epoch 978: 100%|██████████| 378/378 [00:02<00:00, 149.26it/s]\n",
      "Training Epoch 979: 100%|██████████| 378/378 [00:02<00:00, 149.16it/s]\n",
      "Training Epoch 980: 100%|██████████| 378/378 [00:02<00:00, 153.34it/s]\n",
      "Training Epoch 981: 100%|██████████| 378/378 [00:02<00:00, 158.38it/s]\n"
     ]
    },
    {
     "name": "stdout",
     "output_type": "stream",
     "text": [
      "Epoch 980 - Train Loss: 0.3942, Train MSE: 0.3941, Train MAE: 0.4106\n",
      "Epoch 980 - Validation Loss: 1.5493, Validation MSE: 1.5527, Validation MAE: 0.8796\n"
     ]
    },
    {
     "name": "stderr",
     "output_type": "stream",
     "text": [
      "Training Epoch 982: 100%|██████████| 378/378 [00:02<00:00, 151.87it/s]\n",
      "Training Epoch 983: 100%|██████████| 378/378 [00:02<00:00, 152.12it/s]\n",
      "Training Epoch 984: 100%|██████████| 378/378 [00:02<00:00, 158.56it/s]\n",
      "Training Epoch 985: 100%|██████████| 378/378 [00:02<00:00, 156.09it/s]\n",
      "Training Epoch 986: 100%|██████████| 378/378 [00:02<00:00, 153.51it/s]\n",
      "Training Epoch 987: 100%|██████████| 378/378 [00:02<00:00, 153.98it/s]\n",
      "Training Epoch 988: 100%|██████████| 378/378 [00:02<00:00, 158.79it/s]\n",
      "Training Epoch 989: 100%|██████████| 378/378 [00:02<00:00, 152.53it/s]\n",
      "Training Epoch 990: 100%|██████████| 378/378 [00:02<00:00, 154.47it/s]\n",
      "Training Epoch 991: 100%|██████████| 378/378 [00:02<00:00, 155.85it/s]\n"
     ]
    },
    {
     "name": "stdout",
     "output_type": "stream",
     "text": [
      "Epoch 990 - Train Loss: 0.3899, Train MSE: 0.3899, Train MAE: 0.4122\n",
      "Epoch 990 - Validation Loss: 1.5677, Validation MSE: 1.5708, Validation MAE: 0.8904\n"
     ]
    },
    {
     "name": "stderr",
     "output_type": "stream",
     "text": [
      "Training Epoch 992: 100%|██████████| 378/378 [00:02<00:00, 160.43it/s]\n",
      "Training Epoch 993: 100%|██████████| 378/378 [00:02<00:00, 170.38it/s]\n",
      "Training Epoch 994: 100%|██████████| 378/378 [00:02<00:00, 176.26it/s]\n",
      "Training Epoch 995: 100%|██████████| 378/378 [00:02<00:00, 175.27it/s]\n",
      "Training Epoch 996: 100%|██████████| 378/378 [00:02<00:00, 173.22it/s]\n",
      "Training Epoch 997: 100%|██████████| 378/378 [00:02<00:00, 169.14it/s]\n",
      "Training Epoch 998: 100%|██████████| 378/378 [00:02<00:00, 172.97it/s]\n",
      "Training Epoch 999: 100%|██████████| 378/378 [00:02<00:00, 168.54it/s]\n",
      "Training Epoch 1000: 100%|██████████| 378/378 [00:02<00:00, 178.03it/s]\n",
      "Training Epoch 1001: 100%|██████████| 378/378 [00:02<00:00, 170.71it/s]\n"
     ]
    },
    {
     "name": "stdout",
     "output_type": "stream",
     "text": [
      "Epoch 1000 - Train Loss: 0.3868, Train MSE: 0.3869, Train MAE: 0.4059\n",
      "Epoch 1000 - Validation Loss: 1.5575, Validation MSE: 1.5607, Validation MAE: 0.8885\n"
     ]
    },
    {
     "name": "stderr",
     "output_type": "stream",
     "text": [
      "Training Epoch 1002: 100%|██████████| 378/378 [00:02<00:00, 176.79it/s]\n",
      "Training Epoch 1003: 100%|██████████| 378/378 [00:02<00:00, 175.01it/s]\n",
      "Training Epoch 1004: 100%|██████████| 378/378 [00:02<00:00, 176.07it/s]\n",
      "Training Epoch 1005: 100%|██████████| 378/378 [00:02<00:00, 175.02it/s]\n",
      "Training Epoch 1006: 100%|██████████| 378/378 [00:02<00:00, 174.22it/s]\n",
      "Training Epoch 1007: 100%|██████████| 378/378 [00:02<00:00, 175.96it/s]\n",
      "Training Epoch 1008: 100%|██████████| 378/378 [00:02<00:00, 172.69it/s]\n",
      "Training Epoch 1009: 100%|██████████| 378/378 [00:02<00:00, 176.00it/s]\n",
      "Training Epoch 1010: 100%|██████████| 378/378 [00:02<00:00, 171.09it/s]\n",
      "Training Epoch 1011: 100%|██████████| 378/378 [00:02<00:00, 176.87it/s]\n"
     ]
    },
    {
     "name": "stdout",
     "output_type": "stream",
     "text": [
      "Epoch 1010 - Train Loss: 0.3821, Train MSE: 0.3819, Train MAE: 0.4052\n",
      "Epoch 1010 - Validation Loss: 1.5398, Validation MSE: 1.5429, Validation MAE: 0.8761\n"
     ]
    },
    {
     "name": "stderr",
     "output_type": "stream",
     "text": [
      "Training Epoch 1012: 100%|██████████| 378/378 [00:02<00:00, 171.98it/s]\n",
      "Training Epoch 1013: 100%|██████████| 378/378 [00:02<00:00, 175.85it/s]\n",
      "Training Epoch 1014: 100%|██████████| 378/378 [00:02<00:00, 172.23it/s]\n",
      "Training Epoch 1015: 100%|██████████| 378/378 [00:02<00:00, 172.73it/s]\n",
      "Training Epoch 1016: 100%|██████████| 378/378 [00:02<00:00, 173.23it/s]\n",
      "Training Epoch 1017: 100%|██████████| 378/378 [00:02<00:00, 172.48it/s]\n",
      "Training Epoch 1018: 100%|██████████| 378/378 [00:02<00:00, 173.49it/s]\n",
      "Training Epoch 1019: 100%|██████████| 378/378 [00:02<00:00, 171.59it/s]\n",
      "Training Epoch 1020: 100%|██████████| 378/378 [00:02<00:00, 176.88it/s]\n",
      "Training Epoch 1021: 100%|██████████| 378/378 [00:02<00:00, 169.37it/s]\n"
     ]
    },
    {
     "name": "stdout",
     "output_type": "stream",
     "text": [
      "Epoch 1020 - Train Loss: 0.3862, Train MSE: 0.3862, Train MAE: 0.4075\n",
      "Epoch 1020 - Validation Loss: 1.5445, Validation MSE: 1.5473, Validation MAE: 0.8808\n"
     ]
    },
    {
     "name": "stderr",
     "output_type": "stream",
     "text": [
      "Training Epoch 1022: 100%|██████████| 378/378 [00:02<00:00, 175.54it/s]\n",
      "Training Epoch 1023: 100%|██████████| 378/378 [00:02<00:00, 176.58it/s]\n",
      "Training Epoch 1024: 100%|██████████| 378/378 [00:02<00:00, 175.42it/s]\n",
      "Training Epoch 1025: 100%|██████████| 378/378 [00:02<00:00, 170.21it/s]\n",
      "Training Epoch 1026: 100%|██████████| 378/378 [00:02<00:00, 173.59it/s]\n",
      "Training Epoch 1027: 100%|██████████| 378/378 [00:02<00:00, 177.15it/s]\n",
      "Training Epoch 1028: 100%|██████████| 378/378 [00:02<00:00, 173.98it/s]\n",
      "Training Epoch 1029: 100%|██████████| 378/378 [00:02<00:00, 176.44it/s]\n",
      "Training Epoch 1030: 100%|██████████| 378/378 [00:02<00:00, 171.86it/s]\n",
      "Training Epoch 1031: 100%|██████████| 378/378 [00:02<00:00, 174.41it/s]\n"
     ]
    },
    {
     "name": "stdout",
     "output_type": "stream",
     "text": [
      "Epoch 1030 - Train Loss: 0.3822, Train MSE: 0.3822, Train MAE: 0.4048\n",
      "Epoch 1030 - Validation Loss: 1.5612, Validation MSE: 1.5640, Validation MAE: 0.8873\n"
     ]
    },
    {
     "name": "stderr",
     "output_type": "stream",
     "text": [
      "Training Epoch 1032: 100%|██████████| 378/378 [00:02<00:00, 172.89it/s]\n",
      "Training Epoch 1033: 100%|██████████| 378/378 [00:02<00:00, 177.83it/s]\n",
      "Training Epoch 1034: 100%|██████████| 378/378 [00:02<00:00, 172.81it/s]\n",
      "Training Epoch 1035: 100%|██████████| 378/378 [00:02<00:00, 179.39it/s]\n",
      "Training Epoch 1036: 100%|██████████| 378/378 [00:02<00:00, 170.87it/s]\n",
      "Training Epoch 1037: 100%|██████████| 378/378 [00:02<00:00, 175.22it/s]\n",
      "Training Epoch 1038: 100%|██████████| 378/378 [00:02<00:00, 175.30it/s]\n",
      "Training Epoch 1039: 100%|██████████| 378/378 [00:02<00:00, 177.36it/s]\n",
      "Training Epoch 1040: 100%|██████████| 378/378 [00:02<00:00, 175.72it/s]\n",
      "Training Epoch 1041: 100%|██████████| 378/378 [00:02<00:00, 170.81it/s]\n"
     ]
    },
    {
     "name": "stdout",
     "output_type": "stream",
     "text": [
      "Epoch 1040 - Train Loss: 0.3827, Train MSE: 0.3827, Train MAE: 0.4057\n",
      "Epoch 1040 - Validation Loss: 1.5517, Validation MSE: 1.5545, Validation MAE: 0.8848\n"
     ]
    },
    {
     "name": "stderr",
     "output_type": "stream",
     "text": [
      "Training Epoch 1042: 100%|██████████| 378/378 [00:02<00:00, 176.36it/s]\n",
      "Training Epoch 1043: 100%|██████████| 378/378 [00:02<00:00, 173.50it/s]\n",
      "Training Epoch 1044: 100%|██████████| 378/378 [00:02<00:00, 175.32it/s]\n",
      "Training Epoch 1045: 100%|██████████| 378/378 [00:02<00:00, 170.15it/s]\n",
      "Training Epoch 1046: 100%|██████████| 378/378 [00:02<00:00, 179.13it/s]\n",
      "Training Epoch 1047: 100%|██████████| 378/378 [00:02<00:00, 175.41it/s]\n",
      "Training Epoch 1048: 100%|██████████| 378/378 [00:02<00:00, 175.45it/s]\n",
      "Training Epoch 1049: 100%|██████████| 378/378 [00:02<00:00, 172.59it/s]\n",
      "Training Epoch 1050: 100%|██████████| 378/378 [00:02<00:00, 174.93it/s]\n",
      "Training Epoch 1051: 100%|██████████| 378/378 [00:02<00:00, 176.12it/s]\n"
     ]
    },
    {
     "name": "stdout",
     "output_type": "stream",
     "text": [
      "Epoch 1050 - Train Loss: 0.3833, Train MSE: 0.3834, Train MAE: 0.4063\n",
      "Epoch 1050 - Validation Loss: 1.5518, Validation MSE: 1.5550, Validation MAE: 0.8847\n"
     ]
    },
    {
     "name": "stderr",
     "output_type": "stream",
     "text": [
      "Training Epoch 1052: 100%|██████████| 378/378 [00:02<00:00, 167.58it/s]\n",
      "Training Epoch 1053: 100%|██████████| 378/378 [00:02<00:00, 174.48it/s]\n",
      "Training Epoch 1054: 100%|██████████| 378/378 [00:02<00:00, 173.73it/s]\n",
      "Training Epoch 1055: 100%|██████████| 378/378 [00:02<00:00, 175.85it/s]\n",
      "Training Epoch 1056: 100%|██████████| 378/378 [00:02<00:00, 172.27it/s]\n",
      "Training Epoch 1057: 100%|██████████| 378/378 [00:02<00:00, 176.80it/s]\n",
      "Training Epoch 1058: 100%|██████████| 378/378 [00:02<00:00, 170.60it/s]\n",
      "Training Epoch 1059: 100%|██████████| 378/378 [00:02<00:00, 171.94it/s]\n",
      "Training Epoch 1060: 100%|██████████| 378/378 [00:02<00:00, 170.88it/s]\n",
      "Training Epoch 1061: 100%|██████████| 378/378 [00:02<00:00, 176.76it/s]\n"
     ]
    },
    {
     "name": "stdout",
     "output_type": "stream",
     "text": [
      "Epoch 1060 - Train Loss: 0.3805, Train MSE: 0.3805, Train MAE: 0.4054\n",
      "Epoch 1060 - Validation Loss: 1.5280, Validation MSE: 1.5311, Validation MAE: 0.8832\n"
     ]
    },
    {
     "name": "stderr",
     "output_type": "stream",
     "text": [
      "Training Epoch 1062: 100%|██████████| 378/378 [00:02<00:00, 177.65it/s]\n",
      "Training Epoch 1063: 100%|██████████| 378/378 [00:02<00:00, 171.53it/s]\n",
      "Training Epoch 1064: 100%|██████████| 378/378 [00:02<00:00, 178.27it/s]\n",
      "Training Epoch 1065: 100%|██████████| 378/378 [00:02<00:00, 173.57it/s]\n",
      "Training Epoch 1066: 100%|██████████| 378/378 [00:02<00:00, 173.16it/s]\n",
      "Training Epoch 1067: 100%|██████████| 378/378 [00:02<00:00, 171.38it/s]\n",
      "Training Epoch 1068: 100%|██████████| 378/378 [00:02<00:00, 177.95it/s]\n",
      "Training Epoch 1069: 100%|██████████| 378/378 [00:02<00:00, 170.94it/s]\n",
      "Training Epoch 1070: 100%|██████████| 378/378 [00:02<00:00, 178.86it/s]\n",
      "Training Epoch 1071: 100%|██████████| 378/378 [00:02<00:00, 168.64it/s]\n"
     ]
    },
    {
     "name": "stdout",
     "output_type": "stream",
     "text": [
      "Epoch 1070 - Train Loss: 0.3825, Train MSE: 0.3827, Train MAE: 0.4055\n",
      "Epoch 1070 - Validation Loss: 1.5477, Validation MSE: 1.5509, Validation MAE: 0.8805\n"
     ]
    },
    {
     "name": "stderr",
     "output_type": "stream",
     "text": [
      "Training Epoch 1072: 100%|██████████| 378/378 [00:02<00:00, 175.74it/s]\n",
      "Training Epoch 1073: 100%|██████████| 378/378 [00:02<00:00, 168.80it/s]\n",
      "Training Epoch 1074: 100%|██████████| 378/378 [00:02<00:00, 179.26it/s]\n",
      "Training Epoch 1075: 100%|██████████| 378/378 [00:02<00:00, 174.94it/s]\n",
      "Training Epoch 1076: 100%|██████████| 378/378 [00:02<00:00, 172.55it/s]\n",
      "Training Epoch 1077: 100%|██████████| 378/378 [00:02<00:00, 172.78it/s]\n",
      "Training Epoch 1078: 100%|██████████| 378/378 [00:02<00:00, 171.39it/s]\n",
      "Training Epoch 1079: 100%|██████████| 378/378 [00:02<00:00, 178.08it/s]\n",
      "Training Epoch 1080: 100%|██████████| 378/378 [00:02<00:00, 169.67it/s]\n",
      "Training Epoch 1081: 100%|██████████| 378/378 [00:02<00:00, 178.13it/s]\n"
     ]
    },
    {
     "name": "stdout",
     "output_type": "stream",
     "text": [
      "Epoch 1080 - Train Loss: 0.3811, Train MSE: 0.3812, Train MAE: 0.4028\n",
      "Epoch 1080 - Validation Loss: 1.5592, Validation MSE: 1.5625, Validation MAE: 0.8845\n"
     ]
    },
    {
     "name": "stderr",
     "output_type": "stream",
     "text": [
      "Training Epoch 1082: 100%|██████████| 378/378 [00:02<00:00, 174.00it/s]\n",
      "Training Epoch 1083: 100%|██████████| 378/378 [00:02<00:00, 174.97it/s]\n",
      "Training Epoch 1084: 100%|██████████| 378/378 [00:02<00:00, 172.94it/s]\n",
      "Training Epoch 1085: 100%|██████████| 378/378 [00:02<00:00, 178.86it/s]\n",
      "Training Epoch 1086: 100%|██████████| 378/378 [00:02<00:00, 177.44it/s]\n",
      "Training Epoch 1087: 100%|██████████| 378/378 [00:02<00:00, 173.66it/s]\n",
      "Training Epoch 1088: 100%|██████████| 378/378 [00:02<00:00, 173.81it/s]\n",
      "Training Epoch 1089: 100%|██████████| 378/378 [00:02<00:00, 171.24it/s]\n",
      "Training Epoch 1090: 100%|██████████| 378/378 [00:02<00:00, 179.24it/s]\n",
      "Training Epoch 1091: 100%|██████████| 378/378 [00:02<00:00, 172.97it/s]\n"
     ]
    },
    {
     "name": "stdout",
     "output_type": "stream",
     "text": [
      "Epoch 1090 - Train Loss: 0.3758, Train MSE: 0.3759, Train MAE: 0.4035\n",
      "Epoch 1090 - Validation Loss: 1.5595, Validation MSE: 1.5632, Validation MAE: 0.8895\n"
     ]
    },
    {
     "name": "stderr",
     "output_type": "stream",
     "text": [
      "Training Epoch 1092: 100%|██████████| 378/378 [00:02<00:00, 175.60it/s]\n",
      "Training Epoch 1093: 100%|██████████| 378/378 [00:02<00:00, 175.31it/s]\n",
      "Training Epoch 1094: 100%|██████████| 378/378 [00:02<00:00, 169.43it/s]\n",
      "Training Epoch 1095: 100%|██████████| 378/378 [00:02<00:00, 171.23it/s]\n",
      "Training Epoch 1096: 100%|██████████| 378/378 [00:02<00:00, 180.13it/s]\n",
      "Training Epoch 1097: 100%|██████████| 378/378 [00:02<00:00, 174.63it/s]\n",
      "Training Epoch 1098: 100%|██████████| 378/378 [00:02<00:00, 176.26it/s]\n",
      "Training Epoch 1099: 100%|██████████| 378/378 [00:02<00:00, 179.38it/s]\n",
      "Training Epoch 1100: 100%|██████████| 378/378 [00:02<00:00, 169.53it/s]\n",
      "Training Epoch 1101: 100%|██████████| 378/378 [00:02<00:00, 173.14it/s]\n"
     ]
    },
    {
     "name": "stdout",
     "output_type": "stream",
     "text": [
      "Epoch 1100 - Train Loss: 0.3735, Train MSE: 0.3736, Train MAE: 0.4007\n",
      "Epoch 1100 - Validation Loss: 1.5567, Validation MSE: 1.5597, Validation MAE: 0.8803\n"
     ]
    },
    {
     "name": "stderr",
     "output_type": "stream",
     "text": [
      "Training Epoch 1102: 100%|██████████| 378/378 [00:02<00:00, 174.11it/s]\n",
      "Training Epoch 1103: 100%|██████████| 378/378 [00:02<00:00, 175.88it/s]\n",
      "Training Epoch 1104: 100%|██████████| 378/378 [00:02<00:00, 173.83it/s]\n",
      "Training Epoch 1105: 100%|██████████| 378/378 [00:02<00:00, 171.59it/s]\n",
      "Training Epoch 1106: 100%|██████████| 378/378 [00:02<00:00, 172.82it/s]\n",
      "Training Epoch 1107: 100%|██████████| 378/378 [00:02<00:00, 177.05it/s]\n",
      "Training Epoch 1108: 100%|██████████| 378/378 [00:02<00:00, 167.92it/s]\n",
      "Training Epoch 1109: 100%|██████████| 378/378 [00:02<00:00, 173.30it/s]\n",
      "Training Epoch 1110: 100%|██████████| 378/378 [00:02<00:00, 167.77it/s]\n",
      "Training Epoch 1111: 100%|██████████| 378/378 [00:02<00:00, 177.31it/s]\n"
     ]
    },
    {
     "name": "stdout",
     "output_type": "stream",
     "text": [
      "Epoch 1110 - Train Loss: 0.3710, Train MSE: 0.3712, Train MAE: 0.3990\n",
      "Epoch 1110 - Validation Loss: 1.5567, Validation MSE: 1.5596, Validation MAE: 0.8913\n"
     ]
    },
    {
     "name": "stderr",
     "output_type": "stream",
     "text": [
      "Training Epoch 1112: 100%|██████████| 378/378 [00:02<00:00, 175.69it/s]\n",
      "Training Epoch 1113: 100%|██████████| 378/378 [00:02<00:00, 175.39it/s]\n",
      "Training Epoch 1114: 100%|██████████| 378/378 [00:02<00:00, 174.89it/s]\n",
      "Training Epoch 1115: 100%|██████████| 378/378 [00:02<00:00, 168.36it/s]\n",
      "Training Epoch 1116: 100%|██████████| 378/378 [00:02<00:00, 174.65it/s]\n",
      "Training Epoch 1117: 100%|██████████| 378/378 [00:02<00:00, 172.19it/s]\n",
      "Training Epoch 1118: 100%|██████████| 378/378 [00:02<00:00, 175.22it/s]\n",
      "Training Epoch 1119: 100%|██████████| 378/378 [00:02<00:00, 174.00it/s]\n",
      "Training Epoch 1120: 100%|██████████| 378/378 [00:02<00:00, 175.87it/s]\n",
      "Training Epoch 1121: 100%|██████████| 378/378 [00:02<00:00, 170.90it/s]\n"
     ]
    },
    {
     "name": "stdout",
     "output_type": "stream",
     "text": [
      "Epoch 1120 - Train Loss: 0.3752, Train MSE: 0.3751, Train MAE: 0.4009\n",
      "Epoch 1120 - Validation Loss: 1.5782, Validation MSE: 1.5813, Validation MAE: 0.8882\n"
     ]
    },
    {
     "name": "stderr",
     "output_type": "stream",
     "text": [
      "Training Epoch 1122: 100%|██████████| 378/378 [00:02<00:00, 169.68it/s]\n",
      "Training Epoch 1123: 100%|██████████| 378/378 [00:02<00:00, 171.41it/s]\n",
      "Training Epoch 1124: 100%|██████████| 378/378 [00:02<00:00, 179.60it/s]\n",
      "Training Epoch 1125: 100%|██████████| 378/378 [00:02<00:00, 174.68it/s]\n",
      "Training Epoch 1126: 100%|██████████| 378/378 [00:02<00:00, 171.39it/s]\n",
      "Training Epoch 1127: 100%|██████████| 378/378 [00:02<00:00, 171.76it/s]\n",
      "Training Epoch 1128: 100%|██████████| 378/378 [00:02<00:00, 174.61it/s]\n",
      "Training Epoch 1129: 100%|██████████| 378/378 [00:02<00:00, 174.97it/s]\n",
      "Training Epoch 1130: 100%|██████████| 378/378 [00:02<00:00, 174.70it/s]\n",
      "Training Epoch 1131: 100%|██████████| 378/378 [00:02<00:00, 174.43it/s]\n"
     ]
    },
    {
     "name": "stdout",
     "output_type": "stream",
     "text": [
      "Epoch 1130 - Train Loss: 0.3756, Train MSE: 0.3758, Train MAE: 0.4022\n",
      "Epoch 1130 - Validation Loss: 1.5560, Validation MSE: 1.5590, Validation MAE: 0.8841\n"
     ]
    },
    {
     "name": "stderr",
     "output_type": "stream",
     "text": [
      "Training Epoch 1132: 100%|██████████| 378/378 [00:02<00:00, 173.76it/s]\n",
      "Training Epoch 1133: 100%|██████████| 378/378 [00:02<00:00, 173.64it/s]\n",
      "Training Epoch 1134: 100%|██████████| 378/378 [00:02<00:00, 171.11it/s]\n",
      "Training Epoch 1135: 100%|██████████| 378/378 [00:02<00:00, 175.73it/s]\n",
      "Training Epoch 1136: 100%|██████████| 378/378 [00:02<00:00, 174.49it/s]\n",
      "Training Epoch 1137: 100%|██████████| 378/378 [00:02<00:00, 173.07it/s]\n",
      "Training Epoch 1138: 100%|██████████| 378/378 [00:02<00:00, 175.30it/s]\n",
      "Training Epoch 1139: 100%|██████████| 378/378 [00:02<00:00, 172.78it/s]\n",
      "Training Epoch 1140: 100%|██████████| 378/378 [00:02<00:00, 176.55it/s]\n",
      "Training Epoch 1141: 100%|██████████| 378/378 [00:02<00:00, 174.55it/s]\n"
     ]
    },
    {
     "name": "stdout",
     "output_type": "stream",
     "text": [
      "Epoch 1140 - Train Loss: 0.3749, Train MSE: 0.3748, Train MAE: 0.4012\n",
      "Epoch 1140 - Validation Loss: 1.5861, Validation MSE: 1.5894, Validation MAE: 0.8956\n"
     ]
    },
    {
     "name": "stderr",
     "output_type": "stream",
     "text": [
      "Training Epoch 1142: 100%|██████████| 378/378 [00:02<00:00, 177.29it/s]\n",
      "Training Epoch 1143: 100%|██████████| 378/378 [00:02<00:00, 168.78it/s]\n",
      "Training Epoch 1144: 100%|██████████| 378/378 [00:02<00:00, 173.63it/s]\n",
      "Training Epoch 1145: 100%|██████████| 378/378 [00:02<00:00, 168.73it/s]\n",
      "Training Epoch 1146: 100%|██████████| 378/378 [00:02<00:00, 175.84it/s]\n",
      "Training Epoch 1147: 100%|██████████| 378/378 [00:02<00:00, 172.99it/s]\n",
      "Training Epoch 1148: 100%|██████████| 378/378 [00:02<00:00, 175.13it/s]\n",
      "Training Epoch 1149: 100%|██████████| 378/378 [00:02<00:00, 176.38it/s]\n",
      "Training Epoch 1150: 100%|██████████| 378/378 [00:02<00:00, 165.63it/s]\n",
      "Training Epoch 1151: 100%|██████████| 378/378 [00:02<00:00, 175.73it/s]\n"
     ]
    },
    {
     "name": "stdout",
     "output_type": "stream",
     "text": [
      "Epoch 1150 - Train Loss: 0.3787, Train MSE: 0.3789, Train MAE: 0.4042\n",
      "Epoch 1150 - Validation Loss: 1.5681, Validation MSE: 1.5711, Validation MAE: 0.8865\n"
     ]
    },
    {
     "name": "stderr",
     "output_type": "stream",
     "text": [
      "Training Epoch 1152: 100%|██████████| 378/378 [00:02<00:00, 172.83it/s]\n",
      "Training Epoch 1153: 100%|██████████| 378/378 [00:02<00:00, 176.89it/s]\n",
      "Training Epoch 1154: 100%|██████████| 378/378 [00:02<00:00, 172.65it/s]\n",
      "Training Epoch 1155: 100%|██████████| 378/378 [00:02<00:00, 173.17it/s]\n",
      "Training Epoch 1156: 100%|██████████| 378/378 [00:02<00:00, 170.32it/s]\n",
      "Training Epoch 1157: 100%|██████████| 378/378 [00:02<00:00, 172.34it/s]\n",
      "Training Epoch 1158: 100%|██████████| 378/378 [00:02<00:00, 173.06it/s]\n",
      "Training Epoch 1159: 100%|██████████| 378/378 [00:02<00:00, 176.30it/s]\n",
      "Training Epoch 1160: 100%|██████████| 378/378 [00:02<00:00, 175.61it/s]\n",
      "Training Epoch 1161: 100%|██████████| 378/378 [00:02<00:00, 174.37it/s]\n"
     ]
    },
    {
     "name": "stdout",
     "output_type": "stream",
     "text": [
      "Epoch 1160 - Train Loss: 0.3702, Train MSE: 0.3701, Train MAE: 0.3968\n",
      "Epoch 1160 - Validation Loss: 1.5584, Validation MSE: 1.5619, Validation MAE: 0.8873\n"
     ]
    },
    {
     "name": "stderr",
     "output_type": "stream",
     "text": [
      "Training Epoch 1162: 100%|██████████| 378/378 [00:02<00:00, 174.68it/s]\n",
      "Training Epoch 1163: 100%|██████████| 378/378 [00:02<00:00, 173.65it/s]\n",
      "Training Epoch 1164: 100%|██████████| 378/378 [00:02<00:00, 174.26it/s]\n",
      "Training Epoch 1165: 100%|██████████| 378/378 [00:02<00:00, 170.34it/s]\n",
      "Training Epoch 1166: 100%|██████████| 378/378 [00:02<00:00, 173.08it/s]\n",
      "Training Epoch 1167: 100%|██████████| 378/378 [00:02<00:00, 170.18it/s]\n",
      "Training Epoch 1168: 100%|██████████| 378/378 [00:02<00:00, 174.39it/s]\n",
      "Training Epoch 1169: 100%|██████████| 378/378 [00:02<00:00, 173.24it/s]\n",
      "Training Epoch 1170: 100%|██████████| 378/378 [00:02<00:00, 176.59it/s]\n",
      "Training Epoch 1171: 100%|██████████| 378/378 [00:02<00:00, 169.85it/s]\n"
     ]
    },
    {
     "name": "stdout",
     "output_type": "stream",
     "text": [
      "Epoch 1170 - Train Loss: 0.3708, Train MSE: 0.3685, Train MAE: 0.3969\n",
      "Epoch 1170 - Validation Loss: 1.5610, Validation MSE: 1.5644, Validation MAE: 0.8862\n"
     ]
    },
    {
     "name": "stderr",
     "output_type": "stream",
     "text": [
      "Training Epoch 1172: 100%|██████████| 378/378 [00:02<00:00, 172.65it/s]\n",
      "Training Epoch 1173: 100%|██████████| 378/378 [00:02<00:00, 169.68it/s]\n",
      "Training Epoch 1174: 100%|██████████| 378/378 [00:02<00:00, 176.60it/s]\n",
      "Training Epoch 1175: 100%|██████████| 378/378 [00:02<00:00, 180.51it/s]\n",
      "Training Epoch 1176: 100%|██████████| 378/378 [00:02<00:00, 173.13it/s]\n",
      "Training Epoch 1177: 100%|██████████| 378/378 [00:02<00:00, 178.03it/s]\n",
      "Training Epoch 1178: 100%|██████████| 378/378 [00:02<00:00, 165.60it/s]\n",
      "Training Epoch 1179: 100%|██████████| 378/378 [00:02<00:00, 176.31it/s]\n",
      "Training Epoch 1180: 100%|██████████| 378/378 [00:02<00:00, 173.06it/s]\n",
      "Training Epoch 1181: 100%|██████████| 378/378 [00:02<00:00, 178.29it/s]\n"
     ]
    },
    {
     "name": "stdout",
     "output_type": "stream",
     "text": [
      "Epoch 1180 - Train Loss: 0.3653, Train MSE: 0.3652, Train MAE: 0.3967\n",
      "Epoch 1180 - Validation Loss: 1.5570, Validation MSE: 1.5602, Validation MAE: 0.8822\n"
     ]
    },
    {
     "name": "stderr",
     "output_type": "stream",
     "text": [
      "Training Epoch 1182: 100%|██████████| 378/378 [00:02<00:00, 174.23it/s]\n",
      "Training Epoch 1183: 100%|██████████| 378/378 [00:02<00:00, 172.08it/s]\n",
      "Training Epoch 1184: 100%|██████████| 378/378 [00:02<00:00, 168.73it/s]\n",
      "Training Epoch 1185: 100%|██████████| 378/378 [00:02<00:00, 173.49it/s]\n",
      "Training Epoch 1186: 100%|██████████| 378/378 [00:02<00:00, 173.07it/s]\n",
      "Training Epoch 1187: 100%|██████████| 378/378 [00:02<00:00, 174.40it/s]\n",
      "Training Epoch 1188: 100%|██████████| 378/378 [00:02<00:00, 171.95it/s]\n",
      "Training Epoch 1189: 100%|██████████| 378/378 [00:02<00:00, 172.24it/s]\n",
      "Training Epoch 1190: 100%|██████████| 378/378 [00:02<00:00, 175.92it/s]\n",
      "Training Epoch 1191: 100%|██████████| 378/378 [00:02<00:00, 171.47it/s]\n"
     ]
    },
    {
     "name": "stdout",
     "output_type": "stream",
     "text": [
      "Epoch 1190 - Train Loss: 0.3666, Train MSE: 0.3669, Train MAE: 0.3961\n",
      "Epoch 1190 - Validation Loss: 1.5480, Validation MSE: 1.5511, Validation MAE: 0.8857\n"
     ]
    },
    {
     "name": "stderr",
     "output_type": "stream",
     "text": [
      "Training Epoch 1192: 100%|██████████| 378/378 [00:02<00:00, 174.15it/s]\n",
      "Training Epoch 1193: 100%|██████████| 378/378 [00:02<00:00, 169.72it/s]\n",
      "Training Epoch 1194: 100%|██████████| 378/378 [00:02<00:00, 177.60it/s]\n",
      "Training Epoch 1195: 100%|██████████| 378/378 [00:02<00:00, 170.12it/s]\n",
      "Training Epoch 1196: 100%|██████████| 378/378 [00:02<00:00, 172.88it/s]\n",
      "Training Epoch 1197: 100%|██████████| 378/378 [00:02<00:00, 170.91it/s]\n",
      "Training Epoch 1198: 100%|██████████| 378/378 [00:02<00:00, 175.29it/s]\n",
      "Training Epoch 1199: 100%|██████████| 378/378 [00:02<00:00, 171.73it/s]\n",
      "Training Epoch 1200: 100%|██████████| 378/378 [00:02<00:00, 175.01it/s]\n",
      "Training Epoch 1201: 100%|██████████| 378/378 [00:02<00:00, 170.03it/s]\n"
     ]
    },
    {
     "name": "stdout",
     "output_type": "stream",
     "text": [
      "Epoch 1200 - Train Loss: 0.3660, Train MSE: 0.3660, Train MAE: 0.3954\n",
      "Epoch 1200 - Validation Loss: 1.5657, Validation MSE: 1.5689, Validation MAE: 0.8820\n"
     ]
    },
    {
     "name": "stderr",
     "output_type": "stream",
     "text": [
      "Training Epoch 1202: 100%|██████████| 378/378 [00:02<00:00, 176.18it/s]\n",
      "Training Epoch 1203: 100%|██████████| 378/378 [00:02<00:00, 180.26it/s]\n",
      "Training Epoch 1204: 100%|██████████| 378/378 [00:02<00:00, 173.92it/s]\n",
      "Training Epoch 1205: 100%|██████████| 378/378 [00:02<00:00, 178.68it/s]\n",
      "Training Epoch 1206: 100%|██████████| 378/378 [00:02<00:00, 166.69it/s]\n",
      "Training Epoch 1207: 100%|██████████| 378/378 [00:02<00:00, 176.56it/s]\n",
      "Training Epoch 1208: 100%|██████████| 378/378 [00:02<00:00, 170.37it/s]\n",
      "Training Epoch 1209: 100%|██████████| 378/378 [00:02<00:00, 176.01it/s]\n",
      "Training Epoch 1210: 100%|██████████| 378/378 [00:02<00:00, 169.41it/s]\n",
      "Training Epoch 1211: 100%|██████████| 378/378 [00:02<00:00, 178.10it/s]\n"
     ]
    },
    {
     "name": "stdout",
     "output_type": "stream",
     "text": [
      "Epoch 1210 - Train Loss: 0.3616, Train MSE: 0.3615, Train MAE: 0.3950\n",
      "Epoch 1210 - Validation Loss: 1.5746, Validation MSE: 1.5780, Validation MAE: 0.8880\n"
     ]
    },
    {
     "name": "stderr",
     "output_type": "stream",
     "text": [
      "Training Epoch 1212: 100%|██████████| 378/378 [00:02<00:00, 168.38it/s]\n",
      "Training Epoch 1213: 100%|██████████| 378/378 [00:02<00:00, 173.43it/s]\n",
      "Training Epoch 1214: 100%|██████████| 378/378 [00:02<00:00, 181.07it/s]\n",
      "Training Epoch 1215: 100%|██████████| 378/378 [00:02<00:00, 173.10it/s]\n",
      "Training Epoch 1216: 100%|██████████| 378/378 [00:02<00:00, 175.89it/s]\n",
      "Training Epoch 1217: 100%|██████████| 378/378 [00:02<00:00, 167.80it/s]\n",
      "Training Epoch 1218: 100%|██████████| 378/378 [00:02<00:00, 173.26it/s]\n",
      "Training Epoch 1219: 100%|██████████| 378/378 [00:02<00:00, 170.02it/s]\n",
      "Training Epoch 1220: 100%|██████████| 378/378 [00:02<00:00, 176.39it/s]\n",
      "Training Epoch 1221: 100%|██████████| 378/378 [00:02<00:00, 170.87it/s]\n"
     ]
    },
    {
     "name": "stdout",
     "output_type": "stream",
     "text": [
      "Epoch 1220 - Train Loss: 0.3605, Train MSE: 0.3607, Train MAE: 0.3939\n",
      "Epoch 1220 - Validation Loss: 1.5648, Validation MSE: 1.5679, Validation MAE: 0.8881\n"
     ]
    },
    {
     "name": "stderr",
     "output_type": "stream",
     "text": [
      "Training Epoch 1222: 100%|██████████| 378/378 [00:02<00:00, 175.60it/s]\n",
      "Training Epoch 1223: 100%|██████████| 378/378 [00:02<00:00, 170.43it/s]\n",
      "Training Epoch 1224: 100%|██████████| 378/378 [00:02<00:00, 173.98it/s]\n",
      "Training Epoch 1225: 100%|██████████| 378/378 [00:02<00:00, 171.44it/s]\n",
      "Training Epoch 1226: 100%|██████████| 378/378 [00:02<00:00, 176.49it/s]\n",
      "Training Epoch 1227: 100%|██████████| 378/378 [00:02<00:00, 170.84it/s]\n",
      "Training Epoch 1228: 100%|██████████| 378/378 [00:02<00:00, 171.30it/s]\n",
      "Training Epoch 1229: 100%|██████████| 378/378 [00:02<00:00, 176.72it/s]\n",
      "Training Epoch 1230: 100%|██████████| 378/378 [00:02<00:00, 176.93it/s]\n",
      "Training Epoch 1231: 100%|██████████| 378/378 [00:02<00:00, 175.39it/s]\n"
     ]
    },
    {
     "name": "stdout",
     "output_type": "stream",
     "text": [
      "Epoch 1230 - Train Loss: 0.3653, Train MSE: 0.3655, Train MAE: 0.3947\n",
      "Epoch 1230 - Validation Loss: 1.5587, Validation MSE: 1.5619, Validation MAE: 0.8817\n"
     ]
    },
    {
     "name": "stderr",
     "output_type": "stream",
     "text": [
      "Training Epoch 1232: 100%|██████████| 378/378 [00:02<00:00, 172.92it/s]\n",
      "Training Epoch 1233: 100%|██████████| 378/378 [00:02<00:00, 174.39it/s]\n",
      "Training Epoch 1234: 100%|██████████| 378/378 [00:02<00:00, 171.95it/s]\n",
      "Training Epoch 1235: 100%|██████████| 378/378 [00:02<00:00, 174.47it/s]\n",
      "Training Epoch 1236: 100%|██████████| 378/378 [00:02<00:00, 169.80it/s]\n",
      "Training Epoch 1237: 100%|██████████| 378/378 [00:02<00:00, 177.36it/s]\n",
      "Training Epoch 1238: 100%|██████████| 378/378 [00:02<00:00, 171.38it/s]\n",
      "Training Epoch 1239: 100%|██████████| 378/378 [00:02<00:00, 175.42it/s]\n",
      "Training Epoch 1240: 100%|██████████| 378/378 [00:02<00:00, 171.31it/s]\n",
      "Training Epoch 1241: 100%|██████████| 378/378 [00:02<00:00, 176.63it/s]\n"
     ]
    },
    {
     "name": "stdout",
     "output_type": "stream",
     "text": [
      "Epoch 1240 - Train Loss: 0.3609, Train MSE: 0.3610, Train MAE: 0.3956\n",
      "Epoch 1240 - Validation Loss: 1.5720, Validation MSE: 1.5755, Validation MAE: 0.8864\n"
     ]
    },
    {
     "name": "stderr",
     "output_type": "stream",
     "text": [
      "Training Epoch 1242: 100%|██████████| 378/378 [00:02<00:00, 171.64it/s]\n",
      "Training Epoch 1243: 100%|██████████| 378/378 [00:02<00:00, 177.90it/s]\n",
      "Training Epoch 1244: 100%|██████████| 378/378 [00:02<00:00, 176.44it/s]\n",
      "Training Epoch 1245: 100%|██████████| 378/378 [00:02<00:00, 172.79it/s]\n",
      "Training Epoch 1246: 100%|██████████| 378/378 [00:02<00:00, 174.85it/s]\n",
      "Training Epoch 1247: 100%|██████████| 378/378 [00:02<00:00, 172.46it/s]\n",
      "Training Epoch 1248: 100%|██████████| 378/378 [00:02<00:00, 175.17it/s]\n",
      "Training Epoch 1249: 100%|██████████| 378/378 [00:02<00:00, 169.94it/s]\n",
      "Training Epoch 1250: 100%|██████████| 378/378 [00:02<00:00, 175.43it/s]\n",
      "Training Epoch 1251: 100%|██████████| 378/378 [00:02<00:00, 172.33it/s]\n"
     ]
    },
    {
     "name": "stdout",
     "output_type": "stream",
     "text": [
      "Epoch 1250 - Train Loss: 0.3671, Train MSE: 0.3672, Train MAE: 0.3983\n",
      "Epoch 1250 - Validation Loss: 1.5678, Validation MSE: 1.5711, Validation MAE: 0.8892\n"
     ]
    },
    {
     "name": "stderr",
     "output_type": "stream",
     "text": [
      "Training Epoch 1252: 100%|██████████| 378/378 [00:02<00:00, 173.68it/s]\n",
      "Training Epoch 1253: 100%|██████████| 378/378 [00:02<00:00, 170.74it/s]\n",
      "Training Epoch 1254: 100%|██████████| 378/378 [00:02<00:00, 173.39it/s]\n",
      "Training Epoch 1255: 100%|██████████| 378/378 [00:02<00:00, 171.00it/s]\n",
      "Training Epoch 1256: 100%|██████████| 378/378 [00:02<00:00, 171.38it/s]\n",
      "Training Epoch 1257: 100%|██████████| 378/378 [00:02<00:00, 175.81it/s]\n",
      "Training Epoch 1258: 100%|██████████| 378/378 [00:02<00:00, 170.95it/s]\n",
      "Training Epoch 1259: 100%|██████████| 378/378 [00:02<00:00, 180.08it/s]\n",
      "Training Epoch 1260: 100%|██████████| 378/378 [00:02<00:00, 172.79it/s]\n",
      "Training Epoch 1261: 100%|██████████| 378/378 [00:02<00:00, 172.05it/s]\n"
     ]
    },
    {
     "name": "stdout",
     "output_type": "stream",
     "text": [
      "Epoch 1260 - Train Loss: 0.3576, Train MSE: 0.3578, Train MAE: 0.3921\n",
      "Epoch 1260 - Validation Loss: 1.5651, Validation MSE: 1.5686, Validation MAE: 0.8828\n"
     ]
    },
    {
     "name": "stderr",
     "output_type": "stream",
     "text": [
      "Training Epoch 1262: 100%|██████████| 378/378 [00:02<00:00, 171.21it/s]\n",
      "Training Epoch 1263: 100%|██████████| 378/378 [00:02<00:00, 180.70it/s]\n",
      "Training Epoch 1264: 100%|██████████| 378/378 [00:02<00:00, 173.36it/s]\n",
      "Training Epoch 1265: 100%|██████████| 378/378 [00:02<00:00, 177.42it/s]\n",
      "Training Epoch 1266: 100%|██████████| 378/378 [00:02<00:00, 172.92it/s]\n",
      "Training Epoch 1267: 100%|██████████| 378/378 [00:02<00:00, 173.77it/s]\n",
      "Training Epoch 1268: 100%|██████████| 378/378 [00:02<00:00, 169.45it/s]\n",
      "Training Epoch 1269: 100%|██████████| 378/378 [00:02<00:00, 174.86it/s]\n",
      "Training Epoch 1270: 100%|██████████| 378/378 [00:02<00:00, 175.89it/s]\n",
      "Training Epoch 1271: 100%|██████████| 378/378 [00:02<00:00, 170.66it/s]\n"
     ]
    },
    {
     "name": "stdout",
     "output_type": "stream",
     "text": [
      "Epoch 1270 - Train Loss: 0.3511, Train MSE: 0.3509, Train MAE: 0.3893\n",
      "Epoch 1270 - Validation Loss: 1.5837, Validation MSE: 1.5872, Validation MAE: 0.8937\n"
     ]
    },
    {
     "name": "stderr",
     "output_type": "stream",
     "text": [
      "Training Epoch 1272: 100%|██████████| 378/378 [00:02<00:00, 177.16it/s]\n",
      "Training Epoch 1273: 100%|██████████| 378/378 [00:02<00:00, 171.40it/s]\n",
      "Training Epoch 1274: 100%|██████████| 378/378 [00:02<00:00, 175.11it/s]\n",
      "Training Epoch 1275: 100%|██████████| 378/378 [00:02<00:00, 169.78it/s]\n",
      "Training Epoch 1276: 100%|██████████| 378/378 [00:02<00:00, 177.51it/s]\n",
      "Training Epoch 1277: 100%|██████████| 378/378 [00:02<00:00, 173.20it/s]\n",
      "Training Epoch 1278: 100%|██████████| 378/378 [00:02<00:00, 176.73it/s]\n",
      "Training Epoch 1279: 100%|██████████| 378/378 [00:02<00:00, 171.52it/s]\n",
      "Training Epoch 1280: 100%|██████████| 378/378 [00:02<00:00, 173.92it/s]\n",
      "Training Epoch 1281: 100%|██████████| 378/378 [00:02<00:00, 172.35it/s]\n"
     ]
    },
    {
     "name": "stdout",
     "output_type": "stream",
     "text": [
      "Epoch 1280 - Train Loss: 0.3580, Train MSE: 0.3580, Train MAE: 0.3922\n",
      "Epoch 1280 - Validation Loss: 1.5666, Validation MSE: 1.5695, Validation MAE: 0.8907\n"
     ]
    },
    {
     "name": "stderr",
     "output_type": "stream",
     "text": [
      "Training Epoch 1282: 100%|██████████| 378/378 [00:02<00:00, 174.16it/s]\n",
      "Training Epoch 1283: 100%|██████████| 378/378 [00:02<00:00, 175.28it/s]\n",
      "Training Epoch 1284: 100%|██████████| 378/378 [00:02<00:00, 169.08it/s]\n",
      "Training Epoch 1285: 100%|██████████| 378/378 [00:02<00:00, 176.44it/s]\n",
      "Training Epoch 1286: 100%|██████████| 378/378 [00:02<00:00, 172.57it/s]\n",
      "Training Epoch 1287: 100%|██████████| 378/378 [00:02<00:00, 175.40it/s]\n",
      "Training Epoch 1288: 100%|██████████| 378/378 [00:02<00:00, 167.39it/s]\n",
      "Training Epoch 1289: 100%|██████████| 378/378 [00:02<00:00, 171.71it/s]\n",
      "Training Epoch 1290: 100%|██████████| 378/378 [00:02<00:00, 171.72it/s]\n",
      "Training Epoch 1291: 100%|██████████| 378/378 [00:02<00:00, 174.53it/s]\n"
     ]
    },
    {
     "name": "stdout",
     "output_type": "stream",
     "text": [
      "Epoch 1290 - Train Loss: 0.3502, Train MSE: 0.3503, Train MAE: 0.3864\n",
      "Epoch 1290 - Validation Loss: 1.5533, Validation MSE: 1.5565, Validation MAE: 0.8831\n"
     ]
    },
    {
     "name": "stderr",
     "output_type": "stream",
     "text": [
      "Training Epoch 1292: 100%|██████████| 378/378 [00:02<00:00, 169.73it/s]\n",
      "Training Epoch 1293: 100%|██████████| 378/378 [00:02<00:00, 174.53it/s]\n",
      "Training Epoch 1294: 100%|██████████| 378/378 [00:02<00:00, 167.52it/s]\n",
      "Training Epoch 1295: 100%|██████████| 378/378 [00:02<00:00, 174.94it/s]\n",
      "Training Epoch 1296: 100%|██████████| 378/378 [00:02<00:00, 168.13it/s]\n",
      "Training Epoch 1297: 100%|██████████| 378/378 [00:02<00:00, 176.90it/s]\n",
      "Training Epoch 1298: 100%|██████████| 378/378 [00:02<00:00, 176.56it/s]\n",
      "Training Epoch 1299: 100%|██████████| 378/378 [00:02<00:00, 178.02it/s]\n",
      "Training Epoch 1300: 100%|██████████| 378/378 [00:02<00:00, 175.22it/s]\n",
      "Training Epoch 1301: 100%|██████████| 378/378 [00:02<00:00, 172.64it/s]\n"
     ]
    },
    {
     "name": "stdout",
     "output_type": "stream",
     "text": [
      "Epoch 1300 - Train Loss: 0.3574, Train MSE: 0.3574, Train MAE: 0.3895\n",
      "Epoch 1300 - Validation Loss: 1.5537, Validation MSE: 1.5564, Validation MAE: 0.8838\n"
     ]
    },
    {
     "name": "stderr",
     "output_type": "stream",
     "text": [
      "Training Epoch 1302: 100%|██████████| 378/378 [00:02<00:00, 174.72it/s]\n",
      "Training Epoch 1303: 100%|██████████| 378/378 [00:02<00:00, 172.03it/s]\n",
      "Training Epoch 1304: 100%|██████████| 378/378 [00:02<00:00, 180.68it/s]\n",
      "Training Epoch 1305: 100%|██████████| 378/378 [00:02<00:00, 181.33it/s]\n",
      "Training Epoch 1306: 100%|██████████| 378/378 [00:02<00:00, 176.04it/s]\n",
      "Training Epoch 1307: 100%|██████████| 378/378 [00:02<00:00, 171.67it/s]\n",
      "Training Epoch 1308: 100%|██████████| 378/378 [00:02<00:00, 175.15it/s]\n",
      "Training Epoch 1309: 100%|██████████| 378/378 [00:02<00:00, 176.35it/s]\n",
      "Training Epoch 1310: 100%|██████████| 378/378 [00:02<00:00, 175.38it/s]\n",
      "Training Epoch 1311: 100%|██████████| 378/378 [00:02<00:00, 176.48it/s]\n"
     ]
    },
    {
     "name": "stdout",
     "output_type": "stream",
     "text": [
      "Epoch 1310 - Train Loss: 0.3511, Train MSE: 0.3510, Train MAE: 0.3901\n",
      "Epoch 1310 - Validation Loss: 1.5828, Validation MSE: 1.5861, Validation MAE: 0.8880\n"
     ]
    },
    {
     "name": "stderr",
     "output_type": "stream",
     "text": [
      "Training Epoch 1312: 100%|██████████| 378/378 [00:02<00:00, 174.05it/s]\n",
      "Training Epoch 1313: 100%|██████████| 378/378 [00:02<00:00, 175.85it/s]\n",
      "Training Epoch 1314: 100%|██████████| 378/378 [00:02<00:00, 173.45it/s]\n",
      "Training Epoch 1315: 100%|██████████| 378/378 [00:02<00:00, 177.46it/s]\n",
      "Training Epoch 1316: 100%|██████████| 378/378 [00:02<00:00, 174.28it/s]\n",
      "Training Epoch 1317: 100%|██████████| 378/378 [00:02<00:00, 176.16it/s]\n",
      "Training Epoch 1318: 100%|██████████| 378/378 [00:02<00:00, 169.22it/s]\n",
      "Training Epoch 1319: 100%|██████████| 378/378 [00:02<00:00, 173.30it/s]\n",
      "Training Epoch 1320: 100%|██████████| 378/378 [00:02<00:00, 176.81it/s]\n",
      "Training Epoch 1321: 100%|██████████| 378/378 [00:02<00:00, 178.59it/s]\n"
     ]
    },
    {
     "name": "stdout",
     "output_type": "stream",
     "text": [
      "Epoch 1320 - Train Loss: 0.3540, Train MSE: 0.3538, Train MAE: 0.3899\n",
      "Epoch 1320 - Validation Loss: 1.5369, Validation MSE: 1.5400, Validation MAE: 0.8754\n"
     ]
    },
    {
     "name": "stderr",
     "output_type": "stream",
     "text": [
      "Training Epoch 1322: 100%|██████████| 378/378 [00:02<00:00, 178.21it/s]\n",
      "Training Epoch 1323: 100%|██████████| 378/378 [00:02<00:00, 170.86it/s]\n",
      "Training Epoch 1324: 100%|██████████| 378/378 [00:02<00:00, 170.23it/s]\n",
      "Training Epoch 1325: 100%|██████████| 378/378 [00:02<00:00, 170.73it/s]\n",
      "Training Epoch 1326: 100%|██████████| 378/378 [00:02<00:00, 178.00it/s]\n",
      "Training Epoch 1327: 100%|██████████| 378/378 [00:02<00:00, 170.74it/s]\n",
      "Training Epoch 1328: 100%|██████████| 378/378 [00:02<00:00, 176.07it/s]\n",
      "Training Epoch 1329: 100%|██████████| 378/378 [00:02<00:00, 174.35it/s]\n",
      "Training Epoch 1330: 100%|██████████| 378/378 [00:02<00:00, 174.26it/s]\n",
      "Training Epoch 1331: 100%|██████████| 378/378 [00:02<00:00, 169.51it/s]\n"
     ]
    },
    {
     "name": "stdout",
     "output_type": "stream",
     "text": [
      "Epoch 1330 - Train Loss: 0.3551, Train MSE: 0.3554, Train MAE: 0.3897\n",
      "Epoch 1330 - Validation Loss: 1.5860, Validation MSE: 1.5889, Validation MAE: 0.8967\n"
     ]
    },
    {
     "name": "stderr",
     "output_type": "stream",
     "text": [
      "Training Epoch 1332: 100%|██████████| 378/378 [00:02<00:00, 176.96it/s]\n",
      "Training Epoch 1333: 100%|██████████| 378/378 [00:02<00:00, 177.54it/s]\n",
      "Training Epoch 1334: 100%|██████████| 378/378 [00:02<00:00, 177.94it/s]\n",
      "Training Epoch 1335: 100%|██████████| 378/378 [00:02<00:00, 175.06it/s]\n",
      "Training Epoch 1336: 100%|██████████| 378/378 [00:02<00:00, 172.07it/s]\n",
      "Training Epoch 1337: 100%|██████████| 378/378 [00:02<00:00, 179.34it/s]\n",
      "Training Epoch 1338: 100%|██████████| 378/378 [00:02<00:00, 170.72it/s]\n",
      "Training Epoch 1339: 100%|██████████| 378/378 [00:02<00:00, 171.57it/s]\n",
      "Training Epoch 1340: 100%|██████████| 378/378 [00:02<00:00, 173.39it/s]\n",
      "Training Epoch 1341: 100%|██████████| 378/378 [00:02<00:00, 174.84it/s]\n"
     ]
    },
    {
     "name": "stdout",
     "output_type": "stream",
     "text": [
      "Epoch 1340 - Train Loss: 0.3577, Train MSE: 0.3578, Train MAE: 0.3888\n",
      "Epoch 1340 - Validation Loss: 1.5487, Validation MSE: 1.5523, Validation MAE: 0.8833\n"
     ]
    },
    {
     "name": "stderr",
     "output_type": "stream",
     "text": [
      "Training Epoch 1342: 100%|██████████| 378/378 [00:02<00:00, 171.29it/s]\n",
      "Training Epoch 1343: 100%|██████████| 378/378 [00:02<00:00, 178.10it/s]\n",
      "Training Epoch 1344: 100%|██████████| 378/378 [00:02<00:00, 170.99it/s]\n",
      "Training Epoch 1345: 100%|██████████| 378/378 [00:02<00:00, 176.01it/s]\n",
      "Training Epoch 1346: 100%|██████████| 378/378 [00:02<00:00, 174.07it/s]\n",
      "Training Epoch 1347: 100%|██████████| 378/378 [00:02<00:00, 168.60it/s]\n",
      "Training Epoch 1348: 100%|██████████| 378/378 [00:02<00:00, 177.05it/s]\n",
      "Training Epoch 1349: 100%|██████████| 378/378 [00:02<00:00, 169.17it/s]\n",
      "Training Epoch 1350: 100%|██████████| 378/378 [00:02<00:00, 179.39it/s]\n",
      "Training Epoch 1351: 100%|██████████| 378/378 [00:02<00:00, 172.43it/s]\n"
     ]
    },
    {
     "name": "stdout",
     "output_type": "stream",
     "text": [
      "Epoch 1350 - Train Loss: 0.3454, Train MSE: 0.3455, Train MAE: 0.3848\n",
      "Epoch 1350 - Validation Loss: 1.5787, Validation MSE: 1.5821, Validation MAE: 0.8923\n"
     ]
    },
    {
     "name": "stderr",
     "output_type": "stream",
     "text": [
      "Training Epoch 1352: 100%|██████████| 378/378 [00:02<00:00, 175.82it/s]\n",
      "Training Epoch 1353: 100%|██████████| 378/378 [00:02<00:00, 170.69it/s]\n",
      "Training Epoch 1354: 100%|██████████| 378/378 [00:02<00:00, 174.80it/s]\n",
      "Training Epoch 1355: 100%|██████████| 378/378 [00:02<00:00, 172.80it/s]\n",
      "Training Epoch 1356: 100%|██████████| 378/378 [00:02<00:00, 177.79it/s]\n",
      "Training Epoch 1357: 100%|██████████| 378/378 [00:02<00:00, 171.99it/s]\n",
      "Training Epoch 1358: 100%|██████████| 378/378 [00:02<00:00, 174.69it/s]\n",
      "Training Epoch 1359: 100%|██████████| 378/378 [00:02<00:00, 172.06it/s]\n",
      "Training Epoch 1360: 100%|██████████| 378/378 [00:02<00:00, 173.39it/s]\n",
      "Training Epoch 1361: 100%|██████████| 378/378 [00:02<00:00, 176.37it/s]\n"
     ]
    },
    {
     "name": "stdout",
     "output_type": "stream",
     "text": [
      "Epoch 1360 - Train Loss: 0.3541, Train MSE: 0.3543, Train MAE: 0.3875\n",
      "Epoch 1360 - Validation Loss: 1.5536, Validation MSE: 1.5564, Validation MAE: 0.8821\n"
     ]
    },
    {
     "name": "stderr",
     "output_type": "stream",
     "text": [
      "Training Epoch 1362: 100%|██████████| 378/378 [00:02<00:00, 173.19it/s]\n",
      "Training Epoch 1363: 100%|██████████| 378/378 [00:02<00:00, 176.50it/s]\n",
      "Training Epoch 1364: 100%|██████████| 378/378 [00:02<00:00, 172.53it/s]\n",
      "Training Epoch 1365: 100%|██████████| 378/378 [00:02<00:00, 175.65it/s]\n",
      "Training Epoch 1366: 100%|██████████| 378/378 [00:02<00:00, 169.71it/s]\n",
      "Training Epoch 1367: 100%|██████████| 378/378 [00:02<00:00, 171.13it/s]\n",
      "Training Epoch 1368: 100%|██████████| 378/378 [00:02<00:00, 173.63it/s]\n",
      "Training Epoch 1369: 100%|██████████| 378/378 [00:02<00:00, 172.72it/s]\n",
      "Training Epoch 1370: 100%|██████████| 378/378 [00:02<00:00, 174.05it/s]\n",
      "Training Epoch 1371: 100%|██████████| 378/378 [00:02<00:00, 172.56it/s]\n"
     ]
    },
    {
     "name": "stdout",
     "output_type": "stream",
     "text": [
      "Epoch 1370 - Train Loss: 0.3450, Train MSE: 0.3451, Train MAE: 0.3861\n",
      "Epoch 1370 - Validation Loss: 1.5345, Validation MSE: 1.5377, Validation MAE: 0.8768\n"
     ]
    },
    {
     "name": "stderr",
     "output_type": "stream",
     "text": [
      "Training Epoch 1372: 100%|██████████| 378/378 [00:02<00:00, 179.68it/s]\n",
      "Training Epoch 1373: 100%|██████████| 378/378 [00:02<00:00, 173.57it/s]\n",
      "Training Epoch 1374: 100%|██████████| 378/378 [00:02<00:00, 172.23it/s]\n",
      "Training Epoch 1375: 100%|██████████| 378/378 [00:02<00:00, 172.06it/s]\n",
      "Training Epoch 1376: 100%|██████████| 378/378 [00:02<00:00, 175.30it/s]\n",
      "Training Epoch 1377: 100%|██████████| 378/378 [00:02<00:00, 169.48it/s]\n",
      "Training Epoch 1378: 100%|██████████| 378/378 [00:02<00:00, 176.53it/s]\n",
      "Training Epoch 1379: 100%|██████████| 378/378 [00:02<00:00, 170.65it/s]\n",
      "Training Epoch 1380: 100%|██████████| 378/378 [00:02<00:00, 172.12it/s]\n",
      "Training Epoch 1381: 100%|██████████| 378/378 [00:02<00:00, 169.27it/s]\n"
     ]
    },
    {
     "name": "stdout",
     "output_type": "stream",
     "text": [
      "Epoch 1380 - Train Loss: 0.3510, Train MSE: 0.3512, Train MAE: 0.3865\n",
      "Epoch 1380 - Validation Loss: 1.5733, Validation MSE: 1.5768, Validation MAE: 0.8972\n"
     ]
    },
    {
     "name": "stderr",
     "output_type": "stream",
     "text": [
      "Training Epoch 1382: 100%|██████████| 378/378 [00:02<00:00, 179.37it/s]\n",
      "Training Epoch 1383: 100%|██████████| 378/378 [00:02<00:00, 174.59it/s]\n",
      "Training Epoch 1384: 100%|██████████| 378/378 [00:02<00:00, 177.21it/s]\n",
      "Training Epoch 1385: 100%|██████████| 378/378 [00:02<00:00, 173.97it/s]\n",
      "Training Epoch 1386: 100%|██████████| 378/378 [00:02<00:00, 176.48it/s]\n",
      "Training Epoch 1387: 100%|██████████| 378/378 [00:02<00:00, 175.46it/s]\n",
      "Training Epoch 1388: 100%|██████████| 378/378 [00:02<00:00, 169.45it/s]\n",
      "Training Epoch 1389: 100%|██████████| 378/378 [00:02<00:00, 178.99it/s]\n",
      "Training Epoch 1390: 100%|██████████| 378/378 [00:02<00:00, 171.83it/s]\n",
      "Training Epoch 1391: 100%|██████████| 378/378 [00:02<00:00, 174.38it/s]\n"
     ]
    },
    {
     "name": "stdout",
     "output_type": "stream",
     "text": [
      "Epoch 1390 - Train Loss: 0.3425, Train MSE: 0.3425, Train MAE: 0.3812\n",
      "Epoch 1390 - Validation Loss: 1.5526, Validation MSE: 1.5558, Validation MAE: 0.8847\n"
     ]
    },
    {
     "name": "stderr",
     "output_type": "stream",
     "text": [
      "Training Epoch 1392: 100%|██████████| 378/378 [00:02<00:00, 173.14it/s]\n",
      "Training Epoch 1393: 100%|██████████| 378/378 [00:02<00:00, 185.12it/s]\n",
      "Training Epoch 1394: 100%|██████████| 378/378 [00:02<00:00, 169.78it/s]\n",
      "Training Epoch 1395: 100%|██████████| 378/378 [00:02<00:00, 176.14it/s]\n",
      "Training Epoch 1396: 100%|██████████| 378/378 [00:02<00:00, 172.92it/s]\n",
      "Training Epoch 1397: 100%|██████████| 378/378 [00:02<00:00, 174.93it/s]\n",
      "Training Epoch 1398: 100%|██████████| 378/378 [00:02<00:00, 172.39it/s]\n",
      "Training Epoch 1399: 100%|██████████| 378/378 [00:02<00:00, 176.65it/s]\n",
      "Training Epoch 1400: 100%|██████████| 378/378 [00:02<00:00, 177.59it/s]\n",
      "Training Epoch 1401: 100%|██████████| 378/378 [00:02<00:00, 171.64it/s]\n"
     ]
    },
    {
     "name": "stdout",
     "output_type": "stream",
     "text": [
      "Epoch 1400 - Train Loss: 0.3460, Train MSE: 0.3462, Train MAE: 0.3849\n",
      "Epoch 1400 - Validation Loss: 1.5247, Validation MSE: 1.5280, Validation MAE: 0.8781\n"
     ]
    },
    {
     "name": "stderr",
     "output_type": "stream",
     "text": [
      "Training Epoch 1402: 100%|██████████| 378/378 [00:02<00:00, 173.81it/s]\n",
      "Training Epoch 1403: 100%|██████████| 378/378 [00:02<00:00, 172.60it/s]\n",
      "Training Epoch 1404: 100%|██████████| 378/378 [00:02<00:00, 182.12it/s]\n",
      "Training Epoch 1405: 100%|██████████| 378/378 [00:02<00:00, 175.67it/s]\n",
      "Training Epoch 1406: 100%|██████████| 378/378 [00:02<00:00, 178.60it/s]\n",
      "Training Epoch 1407: 100%|██████████| 378/378 [00:02<00:00, 170.28it/s]\n",
      "Training Epoch 1408: 100%|██████████| 378/378 [00:02<00:00, 174.72it/s]\n",
      "Training Epoch 1409: 100%|██████████| 378/378 [00:02<00:00, 155.94it/s]\n",
      "Training Epoch 1410: 100%|██████████| 378/378 [00:02<00:00, 179.01it/s]\n",
      "Training Epoch 1411: 100%|██████████| 378/378 [00:02<00:00, 180.99it/s]\n"
     ]
    },
    {
     "name": "stdout",
     "output_type": "stream",
     "text": [
      "Epoch 1410 - Train Loss: 0.3473, Train MSE: 0.3475, Train MAE: 0.3839\n",
      "Epoch 1410 - Validation Loss: 1.5652, Validation MSE: 1.5687, Validation MAE: 0.8846\n"
     ]
    },
    {
     "name": "stderr",
     "output_type": "stream",
     "text": [
      "Training Epoch 1412: 100%|██████████| 378/378 [00:02<00:00, 181.26it/s]\n",
      "Training Epoch 1413: 100%|██████████| 378/378 [00:02<00:00, 181.90it/s]\n",
      "Training Epoch 1414: 100%|██████████| 378/378 [00:02<00:00, 173.52it/s]\n",
      "Training Epoch 1415: 100%|██████████| 378/378 [00:02<00:00, 182.23it/s]\n",
      "Training Epoch 1416: 100%|██████████| 378/378 [00:02<00:00, 179.10it/s]\n",
      "Training Epoch 1417: 100%|██████████| 378/378 [00:02<00:00, 183.63it/s]\n",
      "Training Epoch 1418: 100%|██████████| 378/378 [00:02<00:00, 183.01it/s]\n",
      "Training Epoch 1419: 100%|██████████| 378/378 [00:02<00:00, 184.17it/s]\n",
      "Training Epoch 1420: 100%|██████████| 378/378 [00:02<00:00, 180.82it/s]\n",
      "Training Epoch 1421: 100%|██████████| 378/378 [00:02<00:00, 181.52it/s]\n"
     ]
    },
    {
     "name": "stdout",
     "output_type": "stream",
     "text": [
      "Epoch 1420 - Train Loss: 0.3429, Train MSE: 0.3429, Train MAE: 0.3837\n",
      "Epoch 1420 - Validation Loss: 1.5393, Validation MSE: 1.5423, Validation MAE: 0.8777\n"
     ]
    },
    {
     "name": "stderr",
     "output_type": "stream",
     "text": [
      "Training Epoch 1422: 100%|██████████| 378/378 [00:02<00:00, 175.99it/s]\n",
      "Training Epoch 1423: 100%|██████████| 378/378 [00:02<00:00, 178.50it/s]\n",
      "Training Epoch 1424: 100%|██████████| 378/378 [00:02<00:00, 182.65it/s]\n",
      "Training Epoch 1425: 100%|██████████| 378/378 [00:02<00:00, 184.01it/s]\n",
      "Training Epoch 1426: 100%|██████████| 378/378 [00:02<00:00, 181.98it/s]\n",
      "Training Epoch 1427: 100%|██████████| 378/378 [00:02<00:00, 182.36it/s]\n",
      "Training Epoch 1428: 100%|██████████| 378/378 [00:02<00:00, 180.77it/s]\n",
      "Training Epoch 1429: 100%|██████████| 378/378 [00:02<00:00, 184.96it/s]\n",
      "Training Epoch 1430: 100%|██████████| 378/378 [00:02<00:00, 178.29it/s]\n",
      "Training Epoch 1431: 100%|██████████| 378/378 [00:02<00:00, 187.28it/s]\n"
     ]
    },
    {
     "name": "stdout",
     "output_type": "stream",
     "text": [
      "Epoch 1430 - Train Loss: 0.3415, Train MSE: 0.3417, Train MAE: 0.3814\n",
      "Epoch 1430 - Validation Loss: 1.5557, Validation MSE: 1.5589, Validation MAE: 0.8908\n"
     ]
    },
    {
     "name": "stderr",
     "output_type": "stream",
     "text": [
      "Training Epoch 1432: 100%|██████████| 378/378 [00:02<00:00, 185.13it/s]\n",
      "Training Epoch 1433: 100%|██████████| 378/378 [00:02<00:00, 185.41it/s]\n",
      "Training Epoch 1434: 100%|██████████| 378/378 [00:02<00:00, 182.23it/s]\n",
      "Training Epoch 1435: 100%|██████████| 378/378 [00:02<00:00, 184.93it/s]\n",
      "Training Epoch 1436: 100%|██████████| 378/378 [00:02<00:00, 180.37it/s]\n",
      "Training Epoch 1437: 100%|██████████| 378/378 [00:02<00:00, 184.54it/s]\n",
      "Training Epoch 1438: 100%|██████████| 378/378 [00:02<00:00, 173.63it/s]\n",
      "Training Epoch 1439: 100%|██████████| 378/378 [00:02<00:00, 172.50it/s]\n",
      "Training Epoch 1440: 100%|██████████| 378/378 [00:02<00:00, 179.56it/s]\n",
      "Training Epoch 1441: 100%|██████████| 378/378 [00:02<00:00, 183.41it/s]\n"
     ]
    },
    {
     "name": "stdout",
     "output_type": "stream",
     "text": [
      "Epoch 1440 - Train Loss: 0.3423, Train MSE: 0.3424, Train MAE: 0.3826\n",
      "Epoch 1440 - Validation Loss: 1.5364, Validation MSE: 1.5400, Validation MAE: 0.8779\n"
     ]
    },
    {
     "name": "stderr",
     "output_type": "stream",
     "text": [
      "Training Epoch 1442: 100%|██████████| 378/378 [00:02<00:00, 185.16it/s]\n",
      "Training Epoch 1443: 100%|██████████| 378/378 [00:02<00:00, 185.17it/s]\n",
      "Training Epoch 1444: 100%|██████████| 378/378 [00:01<00:00, 189.93it/s]\n",
      "Training Epoch 1445: 100%|██████████| 378/378 [00:02<00:00, 178.52it/s]\n",
      "Training Epoch 1446: 100%|██████████| 378/378 [00:01<00:00, 189.07it/s]\n",
      "Training Epoch 1447: 100%|██████████| 378/378 [00:02<00:00, 185.62it/s]\n",
      "Training Epoch 1448: 100%|██████████| 378/378 [00:02<00:00, 182.92it/s]\n",
      "Training Epoch 1449: 100%|██████████| 378/378 [00:02<00:00, 148.45it/s]\n",
      "Training Epoch 1450: 100%|██████████| 378/378 [00:02<00:00, 162.36it/s]\n",
      "Training Epoch 1451: 100%|██████████| 378/378 [00:02<00:00, 164.64it/s]\n"
     ]
    },
    {
     "name": "stdout",
     "output_type": "stream",
     "text": [
      "Epoch 1450 - Train Loss: 0.3356, Train MSE: 0.3356, Train MAE: 0.3806\n",
      "Epoch 1450 - Validation Loss: 1.5565, Validation MSE: 1.5604, Validation MAE: 0.8806\n"
     ]
    },
    {
     "name": "stderr",
     "output_type": "stream",
     "text": [
      "Training Epoch 1452: 100%|██████████| 378/378 [00:02<00:00, 170.99it/s]\n",
      "Training Epoch 1453: 100%|██████████| 378/378 [00:02<00:00, 171.02it/s]\n",
      "Training Epoch 1454: 100%|██████████| 378/378 [00:02<00:00, 173.91it/s]\n",
      "Training Epoch 1455: 100%|██████████| 378/378 [00:02<00:00, 174.47it/s]\n",
      "Training Epoch 1456: 100%|██████████| 378/378 [00:02<00:00, 173.19it/s]\n",
      "Training Epoch 1457: 100%|██████████| 378/378 [00:02<00:00, 175.69it/s]\n",
      "Training Epoch 1458: 100%|██████████| 378/378 [00:02<00:00, 172.12it/s]\n",
      "Training Epoch 1459: 100%|██████████| 378/378 [00:02<00:00, 170.58it/s]\n",
      "Training Epoch 1460: 100%|██████████| 378/378 [00:02<00:00, 171.19it/s]\n",
      "Training Epoch 1461: 100%|██████████| 378/378 [00:02<00:00, 175.95it/s]\n"
     ]
    },
    {
     "name": "stdout",
     "output_type": "stream",
     "text": [
      "Epoch 1460 - Train Loss: 0.3428, Train MSE: 0.3429, Train MAE: 0.3819\n",
      "Epoch 1460 - Validation Loss: 1.5502, Validation MSE: 1.5533, Validation MAE: 0.8810\n"
     ]
    },
    {
     "name": "stderr",
     "output_type": "stream",
     "text": [
      "Training Epoch 1462: 100%|██████████| 378/378 [00:02<00:00, 171.86it/s]\n",
      "Training Epoch 1463: 100%|██████████| 378/378 [00:02<00:00, 177.04it/s]\n",
      "Training Epoch 1464: 100%|██████████| 378/378 [00:02<00:00, 170.38it/s]\n",
      "Training Epoch 1465: 100%|██████████| 378/378 [00:02<00:00, 171.97it/s]\n",
      "Training Epoch 1466: 100%|██████████| 378/378 [00:02<00:00, 169.03it/s]\n",
      "Training Epoch 1467: 100%|██████████| 378/378 [00:02<00:00, 174.24it/s]\n",
      "Training Epoch 1468: 100%|██████████| 378/378 [00:02<00:00, 172.24it/s]\n",
      "Training Epoch 1469: 100%|██████████| 378/378 [00:02<00:00, 172.31it/s]\n",
      "Training Epoch 1470: 100%|██████████| 378/378 [00:02<00:00, 172.54it/s]\n",
      "Training Epoch 1471: 100%|██████████| 378/378 [00:02<00:00, 173.92it/s]\n"
     ]
    },
    {
     "name": "stdout",
     "output_type": "stream",
     "text": [
      "Epoch 1470 - Train Loss: 0.3380, Train MSE: 0.3380, Train MAE: 0.3807\n",
      "Epoch 1470 - Validation Loss: 1.5522, Validation MSE: 1.5554, Validation MAE: 0.8834\n"
     ]
    },
    {
     "name": "stderr",
     "output_type": "stream",
     "text": [
      "Training Epoch 1472: 100%|██████████| 378/378 [00:02<00:00, 173.23it/s]\n",
      "Training Epoch 1473: 100%|██████████| 378/378 [00:02<00:00, 167.22it/s]\n",
      "Training Epoch 1474: 100%|██████████| 378/378 [00:02<00:00, 177.56it/s]\n",
      "Training Epoch 1475: 100%|██████████| 378/378 [00:02<00:00, 171.09it/s]\n",
      "Training Epoch 1476: 100%|██████████| 378/378 [00:02<00:00, 176.71it/s]\n",
      "Training Epoch 1477: 100%|██████████| 378/378 [00:02<00:00, 170.86it/s]\n",
      "Training Epoch 1478: 100%|██████████| 378/378 [00:02<00:00, 162.61it/s]\n",
      "Training Epoch 1479: 100%|██████████| 378/378 [00:02<00:00, 167.02it/s]\n",
      "Training Epoch 1480: 100%|██████████| 378/378 [00:02<00:00, 161.00it/s]\n",
      "Training Epoch 1481: 100%|██████████| 378/378 [00:02<00:00, 167.33it/s]\n"
     ]
    },
    {
     "name": "stdout",
     "output_type": "stream",
     "text": [
      "Epoch 1480 - Train Loss: 0.3397, Train MSE: 0.3398, Train MAE: 0.3805\n",
      "Epoch 1480 - Validation Loss: 1.5348, Validation MSE: 1.5383, Validation MAE: 0.8769\n"
     ]
    },
    {
     "name": "stderr",
     "output_type": "stream",
     "text": [
      "Training Epoch 1482: 100%|██████████| 378/378 [00:02<00:00, 167.06it/s]\n",
      "Training Epoch 1483: 100%|██████████| 378/378 [00:02<00:00, 164.96it/s]\n",
      "Training Epoch 1484: 100%|██████████| 378/378 [00:02<00:00, 169.74it/s]\n",
      "Training Epoch 1485: 100%|██████████| 378/378 [00:02<00:00, 168.56it/s]\n",
      "Training Epoch 1486: 100%|██████████| 378/378 [00:02<00:00, 162.68it/s]\n",
      "Training Epoch 1487: 100%|██████████| 378/378 [00:02<00:00, 170.63it/s]\n",
      "Training Epoch 1488: 100%|██████████| 378/378 [00:02<00:00, 167.54it/s]\n",
      "Training Epoch 1489: 100%|██████████| 378/378 [00:02<00:00, 164.10it/s]\n",
      "Training Epoch 1490: 100%|██████████| 378/378 [00:02<00:00, 164.85it/s]\n",
      "Training Epoch 1491: 100%|██████████| 378/378 [00:02<00:00, 182.30it/s]\n"
     ]
    },
    {
     "name": "stdout",
     "output_type": "stream",
     "text": [
      "Epoch 1490 - Train Loss: 0.3373, Train MSE: 0.3370, Train MAE: 0.3813\n",
      "Epoch 1490 - Validation Loss: 1.5628, Validation MSE: 1.5661, Validation MAE: 0.8855\n"
     ]
    },
    {
     "name": "stderr",
     "output_type": "stream",
     "text": [
      "Training Epoch 1492: 100%|██████████| 378/378 [00:02<00:00, 173.96it/s]\n",
      "Training Epoch 1493: 100%|██████████| 378/378 [00:02<00:00, 183.28it/s]\n",
      "Training Epoch 1494: 100%|██████████| 378/378 [00:02<00:00, 179.15it/s]\n",
      "Training Epoch 1495: 100%|██████████| 378/378 [00:02<00:00, 186.97it/s]\n",
      "Training Epoch 1496: 100%|██████████| 378/378 [00:02<00:00, 178.31it/s]\n",
      "Training Epoch 1497: 100%|██████████| 378/378 [00:02<00:00, 185.32it/s]\n",
      "Training Epoch 1498: 100%|██████████| 378/378 [00:02<00:00, 184.05it/s]\n",
      "Training Epoch 1499: 100%|██████████| 378/378 [00:02<00:00, 180.57it/s]\n",
      "Training Epoch 1500: 100%|██████████| 378/378 [00:02<00:00, 182.06it/s]\n",
      "Training Epoch 1501: 100%|██████████| 378/378 [00:02<00:00, 172.67it/s]\n"
     ]
    },
    {
     "name": "stdout",
     "output_type": "stream",
     "text": [
      "Epoch 1500 - Train Loss: 0.3398, Train MSE: 0.3396, Train MAE: 0.3803\n",
      "Epoch 1500 - Validation Loss: 1.5621, Validation MSE: 1.5653, Validation MAE: 0.8895\n"
     ]
    },
    {
     "name": "stderr",
     "output_type": "stream",
     "text": [
      "Training Epoch 1502: 100%|██████████| 378/378 [00:02<00:00, 185.75it/s]\n",
      "Training Epoch 1503: 100%|██████████| 378/378 [00:02<00:00, 177.79it/s]\n",
      "Training Epoch 1504: 100%|██████████| 378/378 [00:02<00:00, 176.36it/s]\n",
      "Training Epoch 1505: 100%|██████████| 378/378 [00:02<00:00, 176.07it/s]\n",
      "Training Epoch 1506: 100%|██████████| 378/378 [00:02<00:00, 184.15it/s]\n",
      "Training Epoch 1507: 100%|██████████| 378/378 [00:02<00:00, 160.04it/s]\n",
      "Training Epoch 1508: 100%|██████████| 378/378 [00:02<00:00, 170.55it/s]\n",
      "Training Epoch 1509: 100%|██████████| 378/378 [00:02<00:00, 181.34it/s]\n",
      "Training Epoch 1510: 100%|██████████| 378/378 [00:02<00:00, 176.24it/s]\n",
      "Training Epoch 1511: 100%|██████████| 378/378 [00:02<00:00, 178.14it/s]\n"
     ]
    },
    {
     "name": "stdout",
     "output_type": "stream",
     "text": [
      "Epoch 1510 - Train Loss: 0.3360, Train MSE: 0.3358, Train MAE: 0.3799\n",
      "Epoch 1510 - Validation Loss: 1.5502, Validation MSE: 1.5536, Validation MAE: 0.8901\n"
     ]
    },
    {
     "name": "stderr",
     "output_type": "stream",
     "text": [
      "Training Epoch 1512: 100%|██████████| 378/378 [00:02<00:00, 173.94it/s]\n",
      "Training Epoch 1513: 100%|██████████| 378/378 [00:02<00:00, 185.82it/s]\n",
      "Training Epoch 1514: 100%|██████████| 378/378 [00:02<00:00, 178.73it/s]\n",
      "Training Epoch 1515: 100%|██████████| 378/378 [00:02<00:00, 173.02it/s]\n",
      "Training Epoch 1516: 100%|██████████| 378/378 [00:02<00:00, 172.43it/s]\n",
      "Training Epoch 1517: 100%|██████████| 378/378 [00:02<00:00, 178.16it/s]\n",
      "Training Epoch 1518: 100%|██████████| 378/378 [00:02<00:00, 182.68it/s]\n",
      "Training Epoch 1519: 100%|██████████| 378/378 [00:02<00:00, 181.67it/s]\n",
      "Training Epoch 1520: 100%|██████████| 378/378 [00:02<00:00, 180.70it/s]\n",
      "Training Epoch 1521: 100%|██████████| 378/378 [00:02<00:00, 180.20it/s]\n"
     ]
    },
    {
     "name": "stdout",
     "output_type": "stream",
     "text": [
      "Epoch 1520 - Train Loss: 0.3348, Train MSE: 0.3350, Train MAE: 0.3748\n",
      "Epoch 1520 - Validation Loss: 1.5529, Validation MSE: 1.5564, Validation MAE: 0.8863\n"
     ]
    },
    {
     "name": "stderr",
     "output_type": "stream",
     "text": [
      "Training Epoch 1522: 100%|██████████| 378/378 [00:02<00:00, 175.04it/s]\n",
      "Training Epoch 1523: 100%|██████████| 378/378 [00:02<00:00, 177.71it/s]\n",
      "Training Epoch 1524: 100%|██████████| 378/378 [00:02<00:00, 180.10it/s]\n",
      "Training Epoch 1525: 100%|██████████| 378/378 [00:02<00:00, 183.13it/s]\n",
      "Training Epoch 1526: 100%|██████████| 378/378 [00:02<00:00, 178.74it/s]\n",
      "Training Epoch 1527: 100%|██████████| 378/378 [00:02<00:00, 181.87it/s]\n",
      "Training Epoch 1528: 100%|██████████| 378/378 [00:02<00:00, 181.97it/s]\n",
      "Training Epoch 1529: 100%|██████████| 378/378 [00:02<00:00, 179.68it/s]\n",
      "Training Epoch 1530: 100%|██████████| 378/378 [00:02<00:00, 180.68it/s]\n",
      "Training Epoch 1531: 100%|██████████| 378/378 [00:02<00:00, 181.71it/s]\n"
     ]
    },
    {
     "name": "stdout",
     "output_type": "stream",
     "text": [
      "Epoch 1530 - Train Loss: 0.3423, Train MSE: 0.3421, Train MAE: 0.3804\n",
      "Epoch 1530 - Validation Loss: 1.5643, Validation MSE: 1.5677, Validation MAE: 0.8903\n"
     ]
    },
    {
     "name": "stderr",
     "output_type": "stream",
     "text": [
      "Training Epoch 1532: 100%|██████████| 378/378 [00:02<00:00, 184.74it/s]\n",
      "Training Epoch 1533: 100%|██████████| 378/378 [00:02<00:00, 180.31it/s]\n",
      "Training Epoch 1534: 100%|██████████| 378/378 [00:02<00:00, 159.39it/s]\n",
      "Training Epoch 1535: 100%|██████████| 378/378 [00:02<00:00, 186.39it/s]\n",
      "Training Epoch 1536: 100%|██████████| 378/378 [00:02<00:00, 184.76it/s]\n",
      "Training Epoch 1537: 100%|██████████| 378/378 [00:02<00:00, 183.29it/s]\n",
      "Training Epoch 1538: 100%|██████████| 378/378 [00:02<00:00, 180.69it/s]\n",
      "Training Epoch 1539: 100%|██████████| 378/378 [00:02<00:00, 179.46it/s]\n",
      "Training Epoch 1540: 100%|██████████| 378/378 [00:02<00:00, 181.85it/s]\n",
      "Training Epoch 1541: 100%|██████████| 378/378 [00:02<00:00, 186.03it/s]\n"
     ]
    },
    {
     "name": "stdout",
     "output_type": "stream",
     "text": [
      "Epoch 1540 - Train Loss: 0.3295, Train MSE: 0.3291, Train MAE: 0.3753\n",
      "Epoch 1540 - Validation Loss: 1.5795, Validation MSE: 1.5832, Validation MAE: 0.8881\n"
     ]
    },
    {
     "name": "stderr",
     "output_type": "stream",
     "text": [
      "Training Epoch 1542: 100%|██████████| 378/378 [00:02<00:00, 185.91it/s]\n",
      "Training Epoch 1543: 100%|██████████| 378/378 [00:02<00:00, 177.22it/s]\n",
      "Training Epoch 1544: 100%|██████████| 378/378 [00:02<00:00, 176.17it/s]\n",
      "Training Epoch 1545: 100%|██████████| 378/378 [00:02<00:00, 163.96it/s]\n",
      "Training Epoch 1546: 100%|██████████| 378/378 [00:02<00:00, 169.21it/s]\n",
      "Training Epoch 1547: 100%|██████████| 378/378 [00:02<00:00, 174.66it/s]\n",
      "Training Epoch 1548: 100%|██████████| 378/378 [00:02<00:00, 166.71it/s]\n",
      "Training Epoch 1549: 100%|██████████| 378/378 [00:02<00:00, 175.48it/s]\n",
      "Training Epoch 1550: 100%|██████████| 378/378 [00:02<00:00, 180.18it/s]\n",
      "Training Epoch 1551: 100%|██████████| 378/378 [00:02<00:00, 179.13it/s]\n"
     ]
    },
    {
     "name": "stdout",
     "output_type": "stream",
     "text": [
      "Epoch 1550 - Train Loss: 0.3315, Train MSE: 0.3316, Train MAE: 0.3750\n",
      "Epoch 1550 - Validation Loss: 1.5501, Validation MSE: 1.5532, Validation MAE: 0.8801\n"
     ]
    },
    {
     "name": "stderr",
     "output_type": "stream",
     "text": [
      "Training Epoch 1552: 100%|██████████| 378/378 [00:02<00:00, 181.93it/s]\n",
      "Training Epoch 1553: 100%|██████████| 378/378 [00:02<00:00, 181.36it/s]\n",
      "Training Epoch 1554: 100%|██████████| 378/378 [00:02<00:00, 174.06it/s]\n",
      "Training Epoch 1555: 100%|██████████| 378/378 [00:02<00:00, 176.65it/s]\n",
      "Training Epoch 1556: 100%|██████████| 378/378 [00:02<00:00, 174.52it/s]\n",
      "Training Epoch 1557: 100%|██████████| 378/378 [00:02<00:00, 183.81it/s]\n",
      "Training Epoch 1558: 100%|██████████| 378/378 [00:02<00:00, 171.46it/s]\n",
      "Training Epoch 1559: 100%|██████████| 378/378 [00:02<00:00, 177.39it/s]\n",
      "Training Epoch 1560: 100%|██████████| 378/378 [00:02<00:00, 168.73it/s]\n",
      "Training Epoch 1561: 100%|██████████| 378/378 [00:02<00:00, 174.22it/s]\n"
     ]
    },
    {
     "name": "stdout",
     "output_type": "stream",
     "text": [
      "Epoch 1560 - Train Loss: 0.3279, Train MSE: 0.3278, Train MAE: 0.3734\n",
      "Epoch 1560 - Validation Loss: 1.5730, Validation MSE: 1.5766, Validation MAE: 0.8931\n"
     ]
    },
    {
     "name": "stderr",
     "output_type": "stream",
     "text": [
      "Training Epoch 1562: 100%|██████████| 378/378 [00:02<00:00, 179.61it/s]\n",
      "Training Epoch 1563: 100%|██████████| 378/378 [00:02<00:00, 177.61it/s]\n",
      "Training Epoch 1564: 100%|██████████| 378/378 [00:02<00:00, 181.68it/s]\n",
      "Training Epoch 1565: 100%|██████████| 378/378 [00:02<00:00, 170.30it/s]\n",
      "Training Epoch 1566: 100%|██████████| 378/378 [00:02<00:00, 174.97it/s]\n",
      "Training Epoch 1567: 100%|██████████| 378/378 [00:02<00:00, 172.56it/s]\n",
      "Training Epoch 1568: 100%|██████████| 378/378 [00:02<00:00, 177.96it/s]\n",
      "Training Epoch 1569: 100%|██████████| 378/378 [00:02<00:00, 165.55it/s]\n",
      "Training Epoch 1570: 100%|██████████| 378/378 [00:02<00:00, 162.85it/s]\n",
      "Training Epoch 1571: 100%|██████████| 378/378 [00:02<00:00, 169.02it/s]\n"
     ]
    },
    {
     "name": "stdout",
     "output_type": "stream",
     "text": [
      "Epoch 1570 - Train Loss: 0.3352, Train MSE: 0.3348, Train MAE: 0.3777\n",
      "Epoch 1570 - Validation Loss: 1.5597, Validation MSE: 1.5629, Validation MAE: 0.8885\n"
     ]
    },
    {
     "name": "stderr",
     "output_type": "stream",
     "text": [
      "Training Epoch 1572: 100%|██████████| 378/378 [00:02<00:00, 171.17it/s]\n",
      "Training Epoch 1573: 100%|██████████| 378/378 [00:02<00:00, 172.04it/s]\n",
      "Training Epoch 1574: 100%|██████████| 378/378 [00:02<00:00, 148.77it/s]\n",
      "Training Epoch 1575: 100%|██████████| 378/378 [00:02<00:00, 174.38it/s]\n",
      "Training Epoch 1576: 100%|██████████| 378/378 [00:02<00:00, 175.93it/s]\n",
      "Training Epoch 1577: 100%|██████████| 378/378 [00:02<00:00, 173.28it/s]\n",
      "Training Epoch 1578: 100%|██████████| 378/378 [00:02<00:00, 174.85it/s]\n",
      "Training Epoch 1579: 100%|██████████| 378/378 [00:02<00:00, 164.44it/s]\n",
      "Training Epoch 1580: 100%|██████████| 378/378 [00:02<00:00, 173.95it/s]\n",
      "Training Epoch 1581: 100%|██████████| 378/378 [00:02<00:00, 171.19it/s]\n"
     ]
    },
    {
     "name": "stdout",
     "output_type": "stream",
     "text": [
      "Epoch 1580 - Train Loss: 0.3263, Train MSE: 0.3264, Train MAE: 0.3735\n",
      "Epoch 1580 - Validation Loss: 1.5550, Validation MSE: 1.5581, Validation MAE: 0.8838\n"
     ]
    },
    {
     "name": "stderr",
     "output_type": "stream",
     "text": [
      "Training Epoch 1582: 100%|██████████| 378/378 [00:02<00:00, 174.65it/s]\n",
      "Training Epoch 1583: 100%|██████████| 378/378 [00:02<00:00, 168.07it/s]\n",
      "Training Epoch 1584: 100%|██████████| 378/378 [00:02<00:00, 174.37it/s]\n",
      "Training Epoch 1585: 100%|██████████| 378/378 [00:02<00:00, 173.41it/s]\n",
      "Training Epoch 1586: 100%|██████████| 378/378 [00:02<00:00, 160.28it/s]\n",
      "Training Epoch 1587: 100%|██████████| 378/378 [00:02<00:00, 174.78it/s]\n",
      "Training Epoch 1588: 100%|██████████| 378/378 [00:02<00:00, 166.93it/s]\n",
      "Training Epoch 1589: 100%|██████████| 378/378 [00:02<00:00, 170.05it/s]\n",
      "Training Epoch 1590: 100%|██████████| 378/378 [00:02<00:00, 167.50it/s]\n",
      "Training Epoch 1591: 100%|██████████| 378/378 [00:02<00:00, 163.44it/s]\n"
     ]
    },
    {
     "name": "stdout",
     "output_type": "stream",
     "text": [
      "Epoch 1590 - Train Loss: 0.3259, Train MSE: 0.3258, Train MAE: 0.3733\n",
      "Epoch 1590 - Validation Loss: 1.5666, Validation MSE: 1.5702, Validation MAE: 0.8930\n"
     ]
    },
    {
     "name": "stderr",
     "output_type": "stream",
     "text": [
      "Training Epoch 1592: 100%|██████████| 378/378 [00:02<00:00, 165.47it/s]\n",
      "Training Epoch 1593: 100%|██████████| 378/378 [00:02<00:00, 174.04it/s]\n",
      "Training Epoch 1594: 100%|██████████| 378/378 [00:02<00:00, 173.03it/s]\n",
      "Training Epoch 1595: 100%|██████████| 378/378 [00:02<00:00, 176.29it/s]\n",
      "Training Epoch 1596: 100%|██████████| 378/378 [00:02<00:00, 175.47it/s]\n",
      "Training Epoch 1597: 100%|██████████| 378/378 [00:02<00:00, 173.40it/s]\n",
      "Training Epoch 1598: 100%|██████████| 378/378 [00:02<00:00, 175.59it/s]\n",
      "Training Epoch 1599: 100%|██████████| 378/378 [00:02<00:00, 168.89it/s]\n",
      "Training Epoch 1600: 100%|██████████| 378/378 [00:02<00:00, 176.44it/s]\n",
      "Training Epoch 1601: 100%|██████████| 378/378 [00:02<00:00, 173.90it/s]\n"
     ]
    },
    {
     "name": "stdout",
     "output_type": "stream",
     "text": [
      "Epoch 1600 - Train Loss: 0.3311, Train MSE: 0.3312, Train MAE: 0.3741\n",
      "Epoch 1600 - Validation Loss: 1.5521, Validation MSE: 1.5553, Validation MAE: 0.8881\n"
     ]
    },
    {
     "name": "stderr",
     "output_type": "stream",
     "text": [
      "Training Epoch 1602: 100%|██████████| 378/378 [00:02<00:00, 176.67it/s]\n",
      "Training Epoch 1603: 100%|██████████| 378/378 [00:02<00:00, 172.23it/s]\n",
      "Training Epoch 1604: 100%|██████████| 378/378 [00:02<00:00, 173.90it/s]\n",
      "Training Epoch 1605: 100%|██████████| 378/378 [00:02<00:00, 170.49it/s]\n",
      "Training Epoch 1606: 100%|██████████| 378/378 [00:02<00:00, 164.72it/s]\n",
      "Training Epoch 1607: 100%|██████████| 378/378 [00:02<00:00, 170.04it/s]\n",
      "Training Epoch 1608: 100%|██████████| 378/378 [00:02<00:00, 171.32it/s]\n",
      "Training Epoch 1609: 100%|██████████| 378/378 [00:02<00:00, 172.85it/s]\n",
      "Training Epoch 1610: 100%|██████████| 378/378 [00:02<00:00, 173.82it/s]\n",
      "Training Epoch 1611: 100%|██████████| 378/378 [00:02<00:00, 175.12it/s]\n"
     ]
    },
    {
     "name": "stdout",
     "output_type": "stream",
     "text": [
      "Epoch 1610 - Train Loss: 0.3336, Train MSE: 0.3338, Train MAE: 0.3788\n",
      "Epoch 1610 - Validation Loss: 1.5707, Validation MSE: 1.5740, Validation MAE: 0.8882\n"
     ]
    },
    {
     "name": "stderr",
     "output_type": "stream",
     "text": [
      "Training Epoch 1612: 100%|██████████| 378/378 [00:02<00:00, 170.01it/s]\n",
      "Training Epoch 1613: 100%|██████████| 378/378 [00:02<00:00, 158.11it/s]\n",
      "Training Epoch 1614: 100%|██████████| 378/378 [00:02<00:00, 176.90it/s]\n",
      "Training Epoch 1615: 100%|██████████| 378/378 [00:02<00:00, 173.85it/s]\n",
      "Training Epoch 1616: 100%|██████████| 378/378 [00:02<00:00, 170.35it/s]\n",
      "Training Epoch 1617: 100%|██████████| 378/378 [00:02<00:00, 176.01it/s]\n",
      "Training Epoch 1618: 100%|██████████| 378/378 [00:02<00:00, 182.11it/s]\n",
      "Training Epoch 1619: 100%|██████████| 378/378 [00:02<00:00, 181.77it/s]\n",
      "Training Epoch 1620: 100%|██████████| 378/378 [00:02<00:00, 178.93it/s]\n",
      "Training Epoch 1621: 100%|██████████| 378/378 [00:01<00:00, 189.04it/s]\n"
     ]
    },
    {
     "name": "stdout",
     "output_type": "stream",
     "text": [
      "Epoch 1620 - Train Loss: 0.3226, Train MSE: 0.3227, Train MAE: 0.3713\n",
      "Epoch 1620 - Validation Loss: 1.5713, Validation MSE: 1.5746, Validation MAE: 0.8891\n"
     ]
    },
    {
     "name": "stderr",
     "output_type": "stream",
     "text": [
      "Training Epoch 1622: 100%|██████████| 378/378 [00:02<00:00, 180.79it/s]\n",
      "Training Epoch 1623: 100%|██████████| 378/378 [00:02<00:00, 183.53it/s]\n",
      "Training Epoch 1624: 100%|██████████| 378/378 [00:02<00:00, 184.46it/s]\n",
      "Training Epoch 1625: 100%|██████████| 378/378 [00:02<00:00, 181.23it/s]\n",
      "Training Epoch 1626: 100%|██████████| 378/378 [00:02<00:00, 171.41it/s]\n",
      "Training Epoch 1627: 100%|██████████| 378/378 [00:02<00:00, 168.78it/s]\n",
      "Training Epoch 1628: 100%|██████████| 378/378 [00:02<00:00, 173.36it/s]\n",
      "Training Epoch 1629: 100%|██████████| 378/378 [00:02<00:00, 173.91it/s]\n",
      "Training Epoch 1630: 100%|██████████| 378/378 [00:02<00:00, 170.99it/s]\n",
      "Training Epoch 1631: 100%|██████████| 378/378 [00:02<00:00, 173.71it/s]\n"
     ]
    },
    {
     "name": "stdout",
     "output_type": "stream",
     "text": [
      "Epoch 1630 - Train Loss: 0.3267, Train MSE: 0.3267, Train MAE: 0.3736\n",
      "Epoch 1630 - Validation Loss: 1.5679, Validation MSE: 1.5714, Validation MAE: 0.8854\n"
     ]
    },
    {
     "name": "stderr",
     "output_type": "stream",
     "text": [
      "Training Epoch 1632: 100%|██████████| 378/378 [00:02<00:00, 177.66it/s]\n",
      "Training Epoch 1633: 100%|██████████| 378/378 [00:02<00:00, 172.14it/s]\n",
      "Training Epoch 1634: 100%|██████████| 378/378 [00:02<00:00, 170.88it/s]\n",
      "Training Epoch 1635: 100%|██████████| 378/378 [00:02<00:00, 171.89it/s]\n",
      "Training Epoch 1636: 100%|██████████| 378/378 [00:02<00:00, 172.70it/s]\n",
      "Training Epoch 1637: 100%|██████████| 378/378 [00:02<00:00, 168.66it/s]\n",
      "Training Epoch 1638: 100%|██████████| 378/378 [00:02<00:00, 170.17it/s]\n",
      "Training Epoch 1639: 100%|██████████| 378/378 [00:02<00:00, 168.34it/s]\n",
      "Training Epoch 1640: 100%|██████████| 378/378 [00:02<00:00, 172.60it/s]\n",
      "Training Epoch 1641: 100%|██████████| 378/378 [00:02<00:00, 170.24it/s]\n"
     ]
    },
    {
     "name": "stdout",
     "output_type": "stream",
     "text": [
      "Epoch 1640 - Train Loss: 0.3270, Train MSE: 0.3270, Train MAE: 0.3742\n",
      "Epoch 1640 - Validation Loss: 1.5368, Validation MSE: 1.5404, Validation MAE: 0.8806\n"
     ]
    },
    {
     "name": "stderr",
     "output_type": "stream",
     "text": [
      "Training Epoch 1642: 100%|██████████| 378/378 [00:02<00:00, 174.56it/s]\n",
      "Training Epoch 1643: 100%|██████████| 378/378 [00:02<00:00, 178.03it/s]\n",
      "Training Epoch 1644: 100%|██████████| 378/378 [00:02<00:00, 175.09it/s]\n",
      "Training Epoch 1645: 100%|██████████| 378/378 [00:02<00:00, 173.75it/s]\n",
      "Training Epoch 1646: 100%|██████████| 378/378 [00:02<00:00, 172.66it/s]\n",
      "Training Epoch 1647: 100%|██████████| 378/378 [00:02<00:00, 172.35it/s]\n",
      "Training Epoch 1648: 100%|██████████| 378/378 [00:02<00:00, 164.96it/s]\n",
      "Training Epoch 1649: 100%|██████████| 378/378 [00:02<00:00, 174.71it/s]\n",
      "Training Epoch 1650: 100%|██████████| 378/378 [00:02<00:00, 174.23it/s]\n",
      "Training Epoch 1651: 100%|██████████| 378/378 [00:02<00:00, 173.31it/s]\n"
     ]
    },
    {
     "name": "stdout",
     "output_type": "stream",
     "text": [
      "Epoch 1650 - Train Loss: 0.3263, Train MSE: 0.3265, Train MAE: 0.3731\n",
      "Epoch 1650 - Validation Loss: 1.5572, Validation MSE: 1.5612, Validation MAE: 0.8812\n"
     ]
    },
    {
     "name": "stderr",
     "output_type": "stream",
     "text": [
      "Training Epoch 1652: 100%|██████████| 378/378 [00:02<00:00, 172.52it/s]\n",
      "Training Epoch 1653: 100%|██████████| 378/378 [00:02<00:00, 176.85it/s]\n",
      "Training Epoch 1654: 100%|██████████| 378/378 [00:02<00:00, 172.99it/s]\n",
      "Training Epoch 1655: 100%|██████████| 378/378 [00:02<00:00, 167.87it/s]\n",
      "Training Epoch 1656: 100%|██████████| 378/378 [00:02<00:00, 160.95it/s]\n",
      "Training Epoch 1657: 100%|██████████| 378/378 [00:02<00:00, 178.54it/s]\n",
      "Training Epoch 1658: 100%|██████████| 378/378 [00:02<00:00, 166.95it/s]\n",
      "Training Epoch 1659: 100%|██████████| 378/378 [00:02<00:00, 178.49it/s]\n",
      "Training Epoch 1660: 100%|██████████| 378/378 [00:02<00:00, 176.49it/s]\n",
      "Training Epoch 1661: 100%|██████████| 378/378 [00:02<00:00, 177.91it/s]\n"
     ]
    },
    {
     "name": "stdout",
     "output_type": "stream",
     "text": [
      "Epoch 1660 - Train Loss: 0.3206, Train MSE: 0.3202, Train MAE: 0.3720\n",
      "Epoch 1660 - Validation Loss: 1.5615, Validation MSE: 1.5652, Validation MAE: 0.8904\n"
     ]
    },
    {
     "name": "stderr",
     "output_type": "stream",
     "text": [
      "Training Epoch 1662: 100%|██████████| 378/378 [00:02<00:00, 177.27it/s]\n",
      "Training Epoch 1663: 100%|██████████| 378/378 [00:02<00:00, 172.92it/s]\n",
      "Training Epoch 1664: 100%|██████████| 378/378 [00:02<00:00, 178.25it/s]\n",
      "Training Epoch 1665: 100%|██████████| 378/378 [00:02<00:00, 182.47it/s]\n",
      "Training Epoch 1666: 100%|██████████| 378/378 [00:02<00:00, 185.61it/s]\n",
      "Training Epoch 1667: 100%|██████████| 378/378 [00:02<00:00, 161.53it/s]\n",
      "Training Epoch 1668: 100%|██████████| 378/378 [00:02<00:00, 180.39it/s]\n",
      "Training Epoch 1669: 100%|██████████| 378/378 [00:02<00:00, 174.03it/s]\n",
      "Training Epoch 1670: 100%|██████████| 378/378 [00:02<00:00, 176.43it/s]\n",
      "Training Epoch 1671: 100%|██████████| 378/378 [00:02<00:00, 174.94it/s]\n"
     ]
    },
    {
     "name": "stdout",
     "output_type": "stream",
     "text": [
      "Epoch 1670 - Train Loss: 0.3280, Train MSE: 0.3280, Train MAE: 0.3768\n",
      "Epoch 1670 - Validation Loss: 1.5688, Validation MSE: 1.5721, Validation MAE: 0.8909\n"
     ]
    },
    {
     "name": "stderr",
     "output_type": "stream",
     "text": [
      "Training Epoch 1672: 100%|██████████| 378/378 [00:02<00:00, 177.34it/s]\n",
      "Training Epoch 1673: 100%|██████████| 378/378 [00:02<00:00, 169.96it/s]\n",
      "Training Epoch 1674: 100%|██████████| 378/378 [00:02<00:00, 174.36it/s]\n",
      "Training Epoch 1675: 100%|██████████| 378/378 [00:02<00:00, 168.18it/s]\n",
      "Training Epoch 1676: 100%|██████████| 378/378 [00:02<00:00, 166.61it/s]\n",
      "Training Epoch 1677: 100%|██████████| 378/378 [00:02<00:00, 168.93it/s]\n",
      "Training Epoch 1678: 100%|██████████| 378/378 [00:02<00:00, 170.37it/s]\n",
      "Training Epoch 1679: 100%|██████████| 378/378 [00:02<00:00, 170.00it/s]\n",
      "Training Epoch 1680: 100%|██████████| 378/378 [00:02<00:00, 172.96it/s]\n",
      "Training Epoch 1681: 100%|██████████| 378/378 [00:02<00:00, 172.27it/s]\n"
     ]
    },
    {
     "name": "stdout",
     "output_type": "stream",
     "text": [
      "Epoch 1680 - Train Loss: 0.3223, Train MSE: 0.3225, Train MAE: 0.3731\n",
      "Epoch 1680 - Validation Loss: 1.5668, Validation MSE: 1.5699, Validation MAE: 0.8856\n"
     ]
    },
    {
     "name": "stderr",
     "output_type": "stream",
     "text": [
      "Training Epoch 1682: 100%|██████████| 378/378 [00:02<00:00, 170.73it/s]\n",
      "Training Epoch 1683: 100%|██████████| 378/378 [00:02<00:00, 165.45it/s]\n",
      "Training Epoch 1684: 100%|██████████| 378/378 [00:02<00:00, 166.82it/s]\n",
      "Training Epoch 1685: 100%|██████████| 378/378 [00:02<00:00, 140.89it/s]\n",
      "Training Epoch 1686: 100%|██████████| 378/378 [00:02<00:00, 157.62it/s]\n",
      "Training Epoch 1687: 100%|██████████| 378/378 [00:02<00:00, 162.72it/s]\n",
      "Training Epoch 1688: 100%|██████████| 378/378 [00:02<00:00, 163.25it/s]\n",
      "Training Epoch 1689: 100%|██████████| 378/378 [00:02<00:00, 156.97it/s]\n",
      "Training Epoch 1690: 100%|██████████| 378/378 [00:02<00:00, 161.46it/s]\n",
      "Training Epoch 1691: 100%|██████████| 378/378 [00:02<00:00, 170.90it/s]\n"
     ]
    },
    {
     "name": "stdout",
     "output_type": "stream",
     "text": [
      "Epoch 1690 - Train Loss: 0.3251, Train MSE: 0.3252, Train MAE: 0.3713\n",
      "Epoch 1690 - Validation Loss: 1.5505, Validation MSE: 1.5536, Validation MAE: 0.8832\n"
     ]
    },
    {
     "name": "stderr",
     "output_type": "stream",
     "text": [
      "Training Epoch 1692: 100%|██████████| 378/378 [00:02<00:00, 169.46it/s]\n",
      "Training Epoch 1693: 100%|██████████| 378/378 [00:02<00:00, 180.78it/s]\n",
      "Training Epoch 1694: 100%|██████████| 378/378 [00:02<00:00, 173.70it/s]\n",
      "Training Epoch 1695: 100%|██████████| 378/378 [00:02<00:00, 171.11it/s]\n",
      "Training Epoch 1696: 100%|██████████| 378/378 [00:02<00:00, 162.24it/s]\n",
      "Training Epoch 1697: 100%|██████████| 378/378 [00:02<00:00, 178.10it/s]\n",
      "Training Epoch 1698: 100%|██████████| 378/378 [00:02<00:00, 176.10it/s]\n",
      "Training Epoch 1699: 100%|██████████| 378/378 [00:02<00:00, 176.05it/s]\n",
      "Training Epoch 1700: 100%|██████████| 378/378 [00:02<00:00, 174.99it/s]\n",
      "Training Epoch 1701: 100%|██████████| 378/378 [00:02<00:00, 169.48it/s]\n"
     ]
    },
    {
     "name": "stdout",
     "output_type": "stream",
     "text": [
      "Epoch 1700 - Train Loss: 0.3179, Train MSE: 0.3182, Train MAE: 0.3700\n",
      "Epoch 1700 - Validation Loss: 1.5750, Validation MSE: 1.5788, Validation MAE: 0.8917\n"
     ]
    },
    {
     "name": "stderr",
     "output_type": "stream",
     "text": [
      "Training Epoch 1702: 100%|██████████| 378/378 [00:02<00:00, 167.06it/s]\n",
      "Training Epoch 1703: 100%|██████████| 378/378 [00:02<00:00, 174.64it/s]\n",
      "Training Epoch 1704: 100%|██████████| 378/378 [00:02<00:00, 179.73it/s]\n",
      "Training Epoch 1705: 100%|██████████| 378/378 [00:02<00:00, 178.50it/s]\n",
      "Training Epoch 1706: 100%|██████████| 378/378 [00:02<00:00, 176.51it/s]\n",
      "Training Epoch 1707: 100%|██████████| 378/378 [00:02<00:00, 176.38it/s]\n",
      "Training Epoch 1708: 100%|██████████| 378/378 [00:02<00:00, 184.67it/s]\n",
      "Training Epoch 1709: 100%|██████████| 378/378 [00:02<00:00, 171.66it/s]\n",
      "Training Epoch 1710: 100%|██████████| 378/378 [00:02<00:00, 183.08it/s]\n",
      "Training Epoch 1711: 100%|██████████| 378/378 [00:02<00:00, 182.10it/s]\n"
     ]
    },
    {
     "name": "stdout",
     "output_type": "stream",
     "text": [
      "Epoch 1710 - Train Loss: 0.3219, Train MSE: 0.3220, Train MAE: 0.3692\n",
      "Epoch 1710 - Validation Loss: 1.5665, Validation MSE: 1.5699, Validation MAE: 0.8920\n"
     ]
    },
    {
     "name": "stderr",
     "output_type": "stream",
     "text": [
      "Training Epoch 1712: 100%|██████████| 378/378 [00:02<00:00, 180.59it/s]\n",
      "Training Epoch 1713: 100%|██████████| 378/378 [00:02<00:00, 182.19it/s]\n",
      "Training Epoch 1714: 100%|██████████| 378/378 [00:02<00:00, 160.19it/s]\n",
      "Training Epoch 1715: 100%|██████████| 378/378 [00:02<00:00, 154.99it/s]\n",
      "Training Epoch 1716: 100%|██████████| 378/378 [00:02<00:00, 168.35it/s]\n",
      "Training Epoch 1717: 100%|██████████| 378/378 [00:02<00:00, 182.60it/s]\n",
      "Training Epoch 1718: 100%|██████████| 378/378 [00:02<00:00, 170.95it/s]\n",
      "Training Epoch 1719: 100%|██████████| 378/378 [00:02<00:00, 177.54it/s]\n",
      "Training Epoch 1720: 100%|██████████| 378/378 [00:02<00:00, 170.40it/s]\n",
      "Training Epoch 1721: 100%|██████████| 378/378 [00:02<00:00, 177.99it/s]\n"
     ]
    },
    {
     "name": "stdout",
     "output_type": "stream",
     "text": [
      "Epoch 1720 - Train Loss: 0.3140, Train MSE: 0.3143, Train MAE: 0.3680\n",
      "Epoch 1720 - Validation Loss: 1.5761, Validation MSE: 1.5792, Validation MAE: 0.8909\n"
     ]
    },
    {
     "name": "stderr",
     "output_type": "stream",
     "text": [
      "Training Epoch 1722: 100%|██████████| 378/378 [00:02<00:00, 172.48it/s]\n",
      "Training Epoch 1723: 100%|██████████| 378/378 [00:02<00:00, 174.05it/s]\n",
      "Training Epoch 1724: 100%|██████████| 378/378 [00:02<00:00, 176.00it/s]\n",
      "Training Epoch 1725: 100%|██████████| 378/378 [00:02<00:00, 166.49it/s]\n",
      "Training Epoch 1726: 100%|██████████| 378/378 [00:02<00:00, 172.09it/s]\n",
      "Training Epoch 1727: 100%|██████████| 378/378 [00:02<00:00, 174.29it/s]\n",
      "Training Epoch 1728: 100%|██████████| 378/378 [00:02<00:00, 172.53it/s]\n",
      "Training Epoch 1729: 100%|██████████| 378/378 [00:02<00:00, 168.66it/s]\n",
      "Training Epoch 1730: 100%|██████████| 378/378 [00:02<00:00, 173.19it/s]\n",
      "Training Epoch 1731: 100%|██████████| 378/378 [00:02<00:00, 172.11it/s]\n"
     ]
    },
    {
     "name": "stdout",
     "output_type": "stream",
     "text": [
      "Epoch 1730 - Train Loss: 0.3155, Train MSE: 0.3153, Train MAE: 0.3681\n",
      "Epoch 1730 - Validation Loss: 1.5532, Validation MSE: 1.5564, Validation MAE: 0.8834\n"
     ]
    },
    {
     "name": "stderr",
     "output_type": "stream",
     "text": [
      "Training Epoch 1732: 100%|██████████| 378/378 [00:01<00:00, 190.92it/s]\n",
      "Training Epoch 1733: 100%|██████████| 378/378 [00:02<00:00, 188.54it/s]\n",
      "Training Epoch 1734: 100%|██████████| 378/378 [00:02<00:00, 188.71it/s]\n",
      "Training Epoch 1735: 100%|██████████| 378/378 [00:02<00:00, 187.97it/s]\n",
      "Training Epoch 1736: 100%|██████████| 378/378 [00:02<00:00, 183.83it/s]\n",
      "Training Epoch 1737: 100%|██████████| 378/378 [00:02<00:00, 184.91it/s]\n",
      "Training Epoch 1738: 100%|██████████| 378/378 [00:02<00:00, 183.55it/s]\n",
      "Training Epoch 1739: 100%|██████████| 378/378 [00:02<00:00, 183.73it/s]\n",
      "Training Epoch 1740: 100%|██████████| 378/378 [00:02<00:00, 186.66it/s]\n",
      "Training Epoch 1741: 100%|██████████| 378/378 [00:02<00:00, 188.59it/s]\n"
     ]
    },
    {
     "name": "stdout",
     "output_type": "stream",
     "text": [
      "Epoch 1740 - Train Loss: 0.3140, Train MSE: 0.3141, Train MAE: 0.3644\n",
      "Epoch 1740 - Validation Loss: 1.5405, Validation MSE: 1.5439, Validation MAE: 0.8866\n"
     ]
    },
    {
     "name": "stderr",
     "output_type": "stream",
     "text": [
      "Training Epoch 1742: 100%|██████████| 378/378 [00:02<00:00, 186.41it/s]\n",
      "Training Epoch 1743: 100%|██████████| 378/378 [00:01<00:00, 190.96it/s]\n",
      "Training Epoch 1744: 100%|██████████| 378/378 [00:02<00:00, 184.55it/s]\n",
      "Training Epoch 1745: 100%|██████████| 378/378 [00:02<00:00, 186.24it/s]\n",
      "Training Epoch 1746: 100%|██████████| 378/378 [00:02<00:00, 179.57it/s]\n",
      "Training Epoch 1747: 100%|██████████| 378/378 [00:02<00:00, 185.66it/s]\n",
      "Training Epoch 1748: 100%|██████████| 378/378 [00:02<00:00, 188.63it/s]\n",
      "Training Epoch 1749: 100%|██████████| 378/378 [00:02<00:00, 186.16it/s]\n",
      "Training Epoch 1750: 100%|██████████| 378/378 [00:02<00:00, 188.07it/s]\n",
      "Training Epoch 1751: 100%|██████████| 378/378 [00:01<00:00, 194.18it/s]\n"
     ]
    },
    {
     "name": "stdout",
     "output_type": "stream",
     "text": [
      "Epoch 1750 - Train Loss: 0.3216, Train MSE: 0.3217, Train MAE: 0.3693\n",
      "Epoch 1750 - Validation Loss: 1.5515, Validation MSE: 1.5549, Validation MAE: 0.8895\n"
     ]
    },
    {
     "name": "stderr",
     "output_type": "stream",
     "text": [
      "Training Epoch 1752: 100%|██████████| 378/378 [00:02<00:00, 185.13it/s]\n",
      "Training Epoch 1753: 100%|██████████| 378/378 [00:02<00:00, 185.38it/s]\n",
      "Training Epoch 1754: 100%|██████████| 378/378 [00:02<00:00, 179.50it/s]\n",
      "Training Epoch 1755: 100%|██████████| 378/378 [00:02<00:00, 188.12it/s]\n",
      "Training Epoch 1756: 100%|██████████| 378/378 [00:02<00:00, 181.24it/s]\n",
      "Training Epoch 1757: 100%|██████████| 378/378 [00:02<00:00, 184.20it/s]\n",
      "Training Epoch 1758: 100%|██████████| 378/378 [00:02<00:00, 172.59it/s]\n",
      "Training Epoch 1759: 100%|██████████| 378/378 [00:02<00:00, 183.19it/s]\n",
      "Training Epoch 1760: 100%|██████████| 378/378 [00:02<00:00, 186.50it/s]\n",
      "Training Epoch 1761: 100%|██████████| 378/378 [00:02<00:00, 179.55it/s]\n"
     ]
    },
    {
     "name": "stdout",
     "output_type": "stream",
     "text": [
      "Epoch 1760 - Train Loss: 0.3169, Train MSE: 0.3169, Train MAE: 0.3655\n",
      "Epoch 1760 - Validation Loss: 1.5582, Validation MSE: 1.5617, Validation MAE: 0.8868\n"
     ]
    },
    {
     "name": "stderr",
     "output_type": "stream",
     "text": [
      "Training Epoch 1762: 100%|██████████| 378/378 [00:01<00:00, 189.01it/s]\n",
      "Training Epoch 1763: 100%|██████████| 378/378 [00:02<00:00, 180.90it/s]\n",
      "Training Epoch 1764: 100%|██████████| 378/378 [00:02<00:00, 184.00it/s]\n",
      "Training Epoch 1765: 100%|██████████| 378/378 [00:02<00:00, 186.14it/s]\n",
      "Training Epoch 1766: 100%|██████████| 378/378 [00:01<00:00, 189.65it/s]\n",
      "Training Epoch 1767: 100%|██████████| 378/378 [00:02<00:00, 185.14it/s]\n",
      "Training Epoch 1768: 100%|██████████| 378/378 [00:02<00:00, 185.03it/s]\n",
      "Training Epoch 1769: 100%|██████████| 378/378 [00:02<00:00, 181.13it/s]\n",
      "Training Epoch 1770: 100%|██████████| 378/378 [00:01<00:00, 189.37it/s]\n",
      "Training Epoch 1771: 100%|██████████| 378/378 [00:01<00:00, 191.09it/s]\n"
     ]
    },
    {
     "name": "stdout",
     "output_type": "stream",
     "text": [
      "Epoch 1770 - Train Loss: 0.3126, Train MSE: 0.3127, Train MAE: 0.3642\n",
      "Epoch 1770 - Validation Loss: 1.5588, Validation MSE: 1.5624, Validation MAE: 0.8860\n"
     ]
    },
    {
     "name": "stderr",
     "output_type": "stream",
     "text": [
      "Training Epoch 1772: 100%|██████████| 378/378 [00:02<00:00, 180.54it/s]\n",
      "Training Epoch 1773: 100%|██████████| 378/378 [00:02<00:00, 182.62it/s]\n",
      "Training Epoch 1774: 100%|██████████| 378/378 [00:02<00:00, 171.37it/s]\n",
      "Training Epoch 1775: 100%|██████████| 378/378 [00:02<00:00, 187.68it/s]\n",
      "Training Epoch 1776: 100%|██████████| 378/378 [00:02<00:00, 183.58it/s]\n",
      "Training Epoch 1777: 100%|██████████| 378/378 [00:02<00:00, 184.11it/s]\n",
      "Training Epoch 1778: 100%|██████████| 378/378 [00:02<00:00, 186.34it/s]\n",
      "Training Epoch 1779: 100%|██████████| 378/378 [00:02<00:00, 180.57it/s]\n",
      "Training Epoch 1780: 100%|██████████| 378/378 [00:02<00:00, 163.85it/s]\n",
      "Training Epoch 1781: 100%|██████████| 378/378 [00:02<00:00, 181.05it/s]\n"
     ]
    },
    {
     "name": "stdout",
     "output_type": "stream",
     "text": [
      "Epoch 1780 - Train Loss: 0.3091, Train MSE: 0.3090, Train MAE: 0.3660\n",
      "Epoch 1780 - Validation Loss: 1.5351, Validation MSE: 1.5383, Validation MAE: 0.8831\n"
     ]
    },
    {
     "name": "stderr",
     "output_type": "stream",
     "text": [
      "Training Epoch 1782: 100%|██████████| 378/378 [00:02<00:00, 162.55it/s]\n",
      "Training Epoch 1783: 100%|██████████| 378/378 [00:02<00:00, 156.77it/s]\n",
      "Training Epoch 1784: 100%|██████████| 378/378 [00:02<00:00, 166.58it/s]\n",
      "Training Epoch 1785: 100%|██████████| 378/378 [00:02<00:00, 170.48it/s]\n",
      "Training Epoch 1786: 100%|██████████| 378/378 [00:02<00:00, 170.54it/s]\n",
      "Training Epoch 1787: 100%|██████████| 378/378 [00:02<00:00, 162.99it/s]\n",
      "Training Epoch 1788: 100%|██████████| 378/378 [00:02<00:00, 173.83it/s]\n",
      "Training Epoch 1789: 100%|██████████| 378/378 [00:02<00:00, 166.67it/s]\n",
      "Training Epoch 1790: 100%|██████████| 378/378 [00:02<00:00, 153.23it/s]\n",
      "Training Epoch 1791: 100%|██████████| 378/378 [00:02<00:00, 165.45it/s]\n"
     ]
    },
    {
     "name": "stdout",
     "output_type": "stream",
     "text": [
      "Epoch 1790 - Train Loss: 0.3150, Train MSE: 0.3152, Train MAE: 0.3666\n",
      "Epoch 1790 - Validation Loss: 1.5644, Validation MSE: 1.5682, Validation MAE: 0.8877\n"
     ]
    },
    {
     "name": "stderr",
     "output_type": "stream",
     "text": [
      "Training Epoch 1792: 100%|██████████| 378/378 [00:02<00:00, 163.59it/s]\n",
      "Training Epoch 1793: 100%|██████████| 378/378 [00:02<00:00, 169.47it/s]\n",
      "Training Epoch 1794: 100%|██████████| 378/378 [00:02<00:00, 166.71it/s]\n",
      "Training Epoch 1795: 100%|██████████| 378/378 [00:02<00:00, 172.27it/s]\n",
      "Training Epoch 1796: 100%|██████████| 378/378 [00:02<00:00, 177.16it/s]\n",
      "Training Epoch 1797: 100%|██████████| 378/378 [00:02<00:00, 173.46it/s]\n",
      "Training Epoch 1798: 100%|██████████| 378/378 [00:02<00:00, 176.16it/s]\n",
      "Training Epoch 1799: 100%|██████████| 378/378 [00:02<00:00, 172.94it/s]\n",
      "Training Epoch 1800: 100%|██████████| 378/378 [00:02<00:00, 176.86it/s]\n",
      "Training Epoch 1801: 100%|██████████| 378/378 [00:02<00:00, 182.26it/s]\n"
     ]
    },
    {
     "name": "stdout",
     "output_type": "stream",
     "text": [
      "Epoch 1800 - Train Loss: 0.3194, Train MSE: 0.3189, Train MAE: 0.3668\n",
      "Epoch 1800 - Validation Loss: 1.5567, Validation MSE: 1.5601, Validation MAE: 0.8903\n"
     ]
    },
    {
     "name": "stderr",
     "output_type": "stream",
     "text": [
      "Training Epoch 1802: 100%|██████████| 378/378 [00:02<00:00, 168.57it/s]\n",
      "Training Epoch 1803: 100%|██████████| 378/378 [00:02<00:00, 178.12it/s]\n",
      "Training Epoch 1804: 100%|██████████| 378/378 [00:02<00:00, 170.17it/s]\n",
      "Training Epoch 1805: 100%|██████████| 378/378 [00:02<00:00, 173.38it/s]\n",
      "Training Epoch 1806: 100%|██████████| 378/378 [00:02<00:00, 173.70it/s]\n",
      "Training Epoch 1807: 100%|██████████| 378/378 [00:02<00:00, 175.69it/s]\n",
      "Training Epoch 1808: 100%|██████████| 378/378 [00:02<00:00, 169.19it/s]\n",
      "Training Epoch 1809: 100%|██████████| 378/378 [00:02<00:00, 184.50it/s]\n",
      "Training Epoch 1810: 100%|██████████| 378/378 [00:02<00:00, 169.73it/s]\n",
      "Training Epoch 1811: 100%|██████████| 378/378 [00:02<00:00, 181.65it/s]\n"
     ]
    },
    {
     "name": "stdout",
     "output_type": "stream",
     "text": [
      "Epoch 1810 - Train Loss: 0.3056, Train MSE: 0.3057, Train MAE: 0.3617\n",
      "Epoch 1810 - Validation Loss: 1.5629, Validation MSE: 1.5657, Validation MAE: 0.8858\n"
     ]
    },
    {
     "name": "stderr",
     "output_type": "stream",
     "text": [
      "Training Epoch 1812: 100%|██████████| 378/378 [00:02<00:00, 177.33it/s]\n",
      "Training Epoch 1813: 100%|██████████| 378/378 [00:02<00:00, 171.54it/s]\n",
      "Training Epoch 1814: 100%|██████████| 378/378 [00:02<00:00, 182.65it/s]\n",
      "Training Epoch 1815: 100%|██████████| 378/378 [00:02<00:00, 178.90it/s]\n",
      "Training Epoch 1816: 100%|██████████| 378/378 [00:02<00:00, 177.09it/s]\n",
      "Training Epoch 1817: 100%|██████████| 378/378 [00:02<00:00, 139.97it/s]\n",
      "Training Epoch 1818: 100%|██████████| 378/378 [00:02<00:00, 165.25it/s]\n",
      "Training Epoch 1819: 100%|██████████| 378/378 [00:02<00:00, 177.80it/s]\n",
      "Training Epoch 1820: 100%|██████████| 378/378 [00:02<00:00, 178.21it/s]\n",
      "Training Epoch 1821: 100%|██████████| 378/378 [00:02<00:00, 176.43it/s]\n"
     ]
    },
    {
     "name": "stdout",
     "output_type": "stream",
     "text": [
      "Epoch 1820 - Train Loss: 0.3169, Train MSE: 0.3167, Train MAE: 0.3676\n",
      "Epoch 1820 - Validation Loss: 1.5655, Validation MSE: 1.5692, Validation MAE: 0.8887\n"
     ]
    },
    {
     "name": "stderr",
     "output_type": "stream",
     "text": [
      "Training Epoch 1822: 100%|██████████| 378/378 [00:02<00:00, 178.87it/s]\n",
      "Training Epoch 1823: 100%|██████████| 378/378 [00:02<00:00, 173.77it/s]\n",
      "Training Epoch 1824: 100%|██████████| 378/378 [00:02<00:00, 178.60it/s]\n",
      "Training Epoch 1825: 100%|██████████| 378/378 [00:02<00:00, 179.81it/s]\n",
      "Training Epoch 1826: 100%|██████████| 378/378 [00:02<00:00, 181.59it/s]\n",
      "Training Epoch 1827: 100%|██████████| 378/378 [00:02<00:00, 181.89it/s]\n",
      "Training Epoch 1828: 100%|██████████| 378/378 [00:02<00:00, 176.48it/s]\n",
      "Training Epoch 1829: 100%|██████████| 378/378 [00:02<00:00, 181.38it/s]\n",
      "Training Epoch 1830: 100%|██████████| 378/378 [00:02<00:00, 176.28it/s]\n",
      "Training Epoch 1831: 100%|██████████| 378/378 [00:02<00:00, 176.95it/s]\n"
     ]
    },
    {
     "name": "stdout",
     "output_type": "stream",
     "text": [
      "Epoch 1830 - Train Loss: 0.3115, Train MSE: 0.3114, Train MAE: 0.3652\n",
      "Epoch 1830 - Validation Loss: 1.5565, Validation MSE: 1.5599, Validation MAE: 0.8839\n"
     ]
    },
    {
     "name": "stderr",
     "output_type": "stream",
     "text": [
      "Training Epoch 1832: 100%|██████████| 378/378 [00:02<00:00, 180.06it/s]\n",
      "Training Epoch 1833: 100%|██████████| 378/378 [00:02<00:00, 185.83it/s]\n",
      "Training Epoch 1834: 100%|██████████| 378/378 [00:02<00:00, 176.67it/s]\n",
      "Training Epoch 1835: 100%|██████████| 378/378 [00:02<00:00, 180.32it/s]\n",
      "Training Epoch 1836: 100%|██████████| 378/378 [00:02<00:00, 175.14it/s]\n",
      "Training Epoch 1837: 100%|██████████| 378/378 [00:02<00:00, 184.75it/s]\n",
      "Training Epoch 1838: 100%|██████████| 378/378 [00:02<00:00, 178.17it/s]\n",
      "Training Epoch 1839: 100%|██████████| 378/378 [00:02<00:00, 177.91it/s]\n",
      "Training Epoch 1840: 100%|██████████| 378/378 [00:02<00:00, 175.64it/s]\n",
      "Training Epoch 1841: 100%|██████████| 378/378 [00:02<00:00, 177.83it/s]\n"
     ]
    },
    {
     "name": "stdout",
     "output_type": "stream",
     "text": [
      "Epoch 1840 - Train Loss: 0.3067, Train MSE: 0.3069, Train MAE: 0.3633\n",
      "Epoch 1840 - Validation Loss: 1.5711, Validation MSE: 1.5747, Validation MAE: 0.8942\n"
     ]
    },
    {
     "name": "stderr",
     "output_type": "stream",
     "text": [
      "Training Epoch 1842: 100%|██████████| 378/378 [00:02<00:00, 177.33it/s]\n",
      "Training Epoch 1843: 100%|██████████| 378/378 [00:02<00:00, 167.21it/s]\n",
      "Training Epoch 1844: 100%|██████████| 378/378 [00:02<00:00, 181.35it/s]\n",
      "Training Epoch 1845: 100%|██████████| 378/378 [00:02<00:00, 176.84it/s]\n",
      "Training Epoch 1846: 100%|██████████| 378/378 [00:02<00:00, 182.03it/s]\n",
      "Training Epoch 1847: 100%|██████████| 378/378 [00:02<00:00, 174.56it/s]\n",
      "Training Epoch 1848: 100%|██████████| 378/378 [00:02<00:00, 181.09it/s]\n",
      "Training Epoch 1849: 100%|██████████| 378/378 [00:02<00:00, 179.46it/s]\n",
      "Training Epoch 1850: 100%|██████████| 378/378 [00:02<00:00, 183.71it/s]\n",
      "Training Epoch 1851: 100%|██████████| 378/378 [00:02<00:00, 175.96it/s]\n"
     ]
    },
    {
     "name": "stdout",
     "output_type": "stream",
     "text": [
      "Epoch 1850 - Train Loss: 0.3140, Train MSE: 0.3141, Train MAE: 0.3647\n",
      "Epoch 1850 - Validation Loss: 1.5487, Validation MSE: 1.5525, Validation MAE: 0.8878\n"
     ]
    },
    {
     "name": "stderr",
     "output_type": "stream",
     "text": [
      "Training Epoch 1852: 100%|██████████| 378/378 [00:02<00:00, 176.98it/s]\n",
      "Training Epoch 1853: 100%|██████████| 378/378 [00:02<00:00, 178.68it/s]\n",
      "Training Epoch 1854: 100%|██████████| 378/378 [00:02<00:00, 177.31it/s]\n",
      "Training Epoch 1855: 100%|██████████| 378/378 [00:02<00:00, 180.35it/s]\n",
      "Training Epoch 1856: 100%|██████████| 378/378 [00:02<00:00, 177.89it/s]\n",
      "Training Epoch 1857: 100%|██████████| 378/378 [00:02<00:00, 180.27it/s]\n",
      "Training Epoch 1858: 100%|██████████| 378/378 [00:02<00:00, 173.36it/s]\n",
      "Training Epoch 1859: 100%|██████████| 378/378 [00:02<00:00, 180.67it/s]\n",
      "Training Epoch 1860: 100%|██████████| 378/378 [00:02<00:00, 176.99it/s]\n",
      "Training Epoch 1861: 100%|██████████| 378/378 [00:02<00:00, 176.53it/s]\n"
     ]
    },
    {
     "name": "stdout",
     "output_type": "stream",
     "text": [
      "Epoch 1860 - Train Loss: 0.3097, Train MSE: 0.3098, Train MAE: 0.3635\n",
      "Epoch 1860 - Validation Loss: 1.5838, Validation MSE: 1.5863, Validation MAE: 0.8978\n"
     ]
    },
    {
     "name": "stderr",
     "output_type": "stream",
     "text": [
      "Training Epoch 1862: 100%|██████████| 378/378 [00:02<00:00, 177.78it/s]\n",
      "Training Epoch 1863: 100%|██████████| 378/378 [00:02<00:00, 180.23it/s]\n",
      "Training Epoch 1864: 100%|██████████| 378/378 [00:02<00:00, 183.07it/s]\n",
      "Training Epoch 1865: 100%|██████████| 378/378 [00:02<00:00, 173.51it/s]\n",
      "Training Epoch 1866: 100%|██████████| 378/378 [00:02<00:00, 179.26it/s]\n",
      "Training Epoch 1867: 100%|██████████| 378/378 [00:02<00:00, 178.72it/s]\n",
      "Training Epoch 1868: 100%|██████████| 378/378 [00:02<00:00, 173.61it/s]\n",
      "Training Epoch 1869: 100%|██████████| 378/378 [00:02<00:00, 182.38it/s]\n",
      "Training Epoch 1870: 100%|██████████| 378/378 [00:02<00:00, 173.27it/s]\n",
      "Training Epoch 1871: 100%|██████████| 378/378 [00:02<00:00, 178.68it/s]\n"
     ]
    },
    {
     "name": "stdout",
     "output_type": "stream",
     "text": [
      "Epoch 1870 - Train Loss: 0.3030, Train MSE: 0.3031, Train MAE: 0.3598\n",
      "Epoch 1870 - Validation Loss: 1.5656, Validation MSE: 1.5685, Validation MAE: 0.8872\n"
     ]
    },
    {
     "name": "stderr",
     "output_type": "stream",
     "text": [
      "Training Epoch 1872: 100%|██████████| 378/378 [00:02<00:00, 176.34it/s]\n",
      "Training Epoch 1873: 100%|██████████| 378/378 [00:02<00:00, 183.29it/s]\n",
      "Training Epoch 1874: 100%|██████████| 378/378 [00:02<00:00, 173.62it/s]\n",
      "Training Epoch 1875: 100%|██████████| 378/378 [00:02<00:00, 175.58it/s]\n",
      "Training Epoch 1876: 100%|██████████| 378/378 [00:02<00:00, 177.08it/s]\n",
      "Training Epoch 1877: 100%|██████████| 378/378 [00:02<00:00, 179.46it/s]\n",
      "Training Epoch 1878: 100%|██████████| 378/378 [00:02<00:00, 181.82it/s]\n",
      "Training Epoch 1879: 100%|██████████| 378/378 [00:02<00:00, 182.43it/s]\n",
      "Training Epoch 1880: 100%|██████████| 378/378 [00:02<00:00, 182.47it/s]\n",
      "Training Epoch 1881: 100%|██████████| 378/378 [00:02<00:00, 174.14it/s]\n"
     ]
    },
    {
     "name": "stdout",
     "output_type": "stream",
     "text": [
      "Epoch 1880 - Train Loss: 0.3041, Train MSE: 0.3041, Train MAE: 0.3608\n",
      "Epoch 1880 - Validation Loss: 1.5579, Validation MSE: 1.5605, Validation MAE: 0.8868\n"
     ]
    },
    {
     "name": "stderr",
     "output_type": "stream",
     "text": [
      "Training Epoch 1882: 100%|██████████| 378/378 [00:02<00:00, 176.65it/s]\n",
      "Training Epoch 1883: 100%|██████████| 378/378 [00:02<00:00, 176.29it/s]\n",
      "Training Epoch 1884: 100%|██████████| 378/378 [00:02<00:00, 181.31it/s]\n",
      "Training Epoch 1885: 100%|██████████| 378/378 [00:02<00:00, 174.87it/s]\n",
      "Training Epoch 1886: 100%|██████████| 378/378 [00:02<00:00, 179.88it/s]\n",
      "Training Epoch 1887: 100%|██████████| 378/378 [00:02<00:00, 181.69it/s]\n",
      "Training Epoch 1888: 100%|██████████| 378/378 [00:02<00:00, 174.59it/s]\n",
      "Training Epoch 1889: 100%|██████████| 378/378 [00:02<00:00, 175.12it/s]\n",
      "Training Epoch 1890: 100%|██████████| 378/378 [00:02<00:00, 172.18it/s]\n",
      "Training Epoch 1891: 100%|██████████| 378/378 [00:02<00:00, 186.38it/s]\n"
     ]
    },
    {
     "name": "stdout",
     "output_type": "stream",
     "text": [
      "Epoch 1890 - Train Loss: 0.3082, Train MSE: 0.3083, Train MAE: 0.3626\n",
      "Epoch 1890 - Validation Loss: 1.5722, Validation MSE: 1.5756, Validation MAE: 0.8867\n"
     ]
    },
    {
     "name": "stderr",
     "output_type": "stream",
     "text": [
      "Training Epoch 1892: 100%|██████████| 378/378 [00:02<00:00, 176.35it/s]\n",
      "Training Epoch 1893: 100%|██████████| 378/378 [00:02<00:00, 179.02it/s]\n",
      "Training Epoch 1894: 100%|██████████| 378/378 [00:02<00:00, 174.68it/s]\n",
      "Training Epoch 1895: 100%|██████████| 378/378 [00:02<00:00, 181.19it/s]\n",
      "Training Epoch 1896: 100%|██████████| 378/378 [00:02<00:00, 171.77it/s]\n",
      "Training Epoch 1897: 100%|██████████| 378/378 [00:02<00:00, 178.21it/s]\n",
      "Training Epoch 1898: 100%|██████████| 378/378 [00:02<00:00, 177.53it/s]\n",
      "Training Epoch 1899: 100%|██████████| 378/378 [00:02<00:00, 176.61it/s]\n",
      "Training Epoch 1900: 100%|██████████| 378/378 [00:02<00:00, 180.51it/s]\n",
      "Training Epoch 1901: 100%|██████████| 378/378 [00:02<00:00, 182.58it/s]\n"
     ]
    },
    {
     "name": "stdout",
     "output_type": "stream",
     "text": [
      "Epoch 1900 - Train Loss: 0.3069, Train MSE: 0.3069, Train MAE: 0.3612\n",
      "Epoch 1900 - Validation Loss: 1.5537, Validation MSE: 1.5568, Validation MAE: 0.8838\n"
     ]
    },
    {
     "name": "stderr",
     "output_type": "stream",
     "text": [
      "Training Epoch 1902: 100%|██████████| 378/378 [00:02<00:00, 179.89it/s]\n",
      "Training Epoch 1903: 100%|██████████| 378/378 [00:02<00:00, 173.36it/s]\n",
      "Training Epoch 1904: 100%|██████████| 378/378 [00:02<00:00, 178.58it/s]\n",
      "Training Epoch 1905: 100%|██████████| 378/378 [00:02<00:00, 174.72it/s]\n",
      "Training Epoch 1906: 100%|██████████| 378/378 [00:02<00:00, 178.42it/s]\n",
      "Training Epoch 1907: 100%|██████████| 378/378 [00:02<00:00, 181.36it/s]\n",
      "Training Epoch 1908: 100%|██████████| 378/378 [00:02<00:00, 178.58it/s]\n",
      "Training Epoch 1909: 100%|██████████| 378/378 [00:02<00:00, 179.80it/s]\n",
      "Training Epoch 1910: 100%|██████████| 378/378 [00:02<00:00, 179.20it/s]\n",
      "Training Epoch 1911: 100%|██████████| 378/378 [00:02<00:00, 174.26it/s]\n"
     ]
    },
    {
     "name": "stdout",
     "output_type": "stream",
     "text": [
      "Epoch 1910 - Train Loss: 0.3004, Train MSE: 0.3004, Train MAE: 0.3590\n",
      "Epoch 1910 - Validation Loss: 1.5738, Validation MSE: 1.5770, Validation MAE: 0.8921\n"
     ]
    },
    {
     "name": "stderr",
     "output_type": "stream",
     "text": [
      "Training Epoch 1912: 100%|██████████| 378/378 [00:02<00:00, 175.95it/s]\n",
      "Training Epoch 1913: 100%|██████████| 378/378 [00:02<00:00, 180.77it/s]\n",
      "Training Epoch 1914: 100%|██████████| 378/378 [00:02<00:00, 184.53it/s]\n",
      "Training Epoch 1915: 100%|██████████| 378/378 [00:02<00:00, 180.05it/s]\n",
      "Training Epoch 1916: 100%|██████████| 378/378 [00:02<00:00, 183.40it/s]\n",
      "Training Epoch 1917: 100%|██████████| 378/378 [00:02<00:00, 172.88it/s]\n",
      "Training Epoch 1918: 100%|██████████| 378/378 [00:02<00:00, 171.87it/s]\n",
      "Training Epoch 1919: 100%|██████████| 378/378 [00:02<00:00, 172.04it/s]\n",
      "Training Epoch 1920: 100%|██████████| 378/378 [00:02<00:00, 184.39it/s]\n",
      "Training Epoch 1921: 100%|██████████| 378/378 [00:02<00:00, 177.89it/s]\n"
     ]
    },
    {
     "name": "stdout",
     "output_type": "stream",
     "text": [
      "Epoch 1920 - Train Loss: 0.3090, Train MSE: 0.3091, Train MAE: 0.3632\n",
      "Epoch 1920 - Validation Loss: 1.5476, Validation MSE: 1.5510, Validation MAE: 0.8842\n"
     ]
    },
    {
     "name": "stderr",
     "output_type": "stream",
     "text": [
      "Training Epoch 1922: 100%|██████████| 378/378 [00:02<00:00, 178.38it/s]\n",
      "Training Epoch 1923: 100%|██████████| 378/378 [00:02<00:00, 176.22it/s]\n",
      "Training Epoch 1924: 100%|██████████| 378/378 [00:02<00:00, 178.00it/s]\n",
      "Training Epoch 1925: 100%|██████████| 378/378 [00:02<00:00, 179.23it/s]\n",
      "Training Epoch 1926: 100%|██████████| 378/378 [00:02<00:00, 180.46it/s]\n",
      "Training Epoch 1927: 100%|██████████| 378/378 [00:02<00:00, 176.78it/s]\n",
      "Training Epoch 1928: 100%|██████████| 378/378 [00:02<00:00, 175.44it/s]\n",
      "Training Epoch 1929: 100%|██████████| 378/378 [00:02<00:00, 176.74it/s]\n",
      "Training Epoch 1930: 100%|██████████| 378/378 [00:02<00:00, 173.38it/s]\n",
      "Training Epoch 1931: 100%|██████████| 378/378 [00:02<00:00, 180.19it/s]\n"
     ]
    },
    {
     "name": "stdout",
     "output_type": "stream",
     "text": [
      "Epoch 1930 - Train Loss: 0.3046, Train MSE: 0.3047, Train MAE: 0.3589\n",
      "Epoch 1930 - Validation Loss: 1.5790, Validation MSE: 1.5826, Validation MAE: 0.8934\n"
     ]
    },
    {
     "name": "stderr",
     "output_type": "stream",
     "text": [
      "Training Epoch 1932: 100%|██████████| 378/378 [00:02<00:00, 171.33it/s]\n",
      "Training Epoch 1933: 100%|██████████| 378/378 [00:02<00:00, 179.79it/s]\n",
      "Training Epoch 1934: 100%|██████████| 378/378 [00:02<00:00, 181.55it/s]\n",
      "Training Epoch 1935: 100%|██████████| 378/378 [00:02<00:00, 175.21it/s]\n",
      "Training Epoch 1936: 100%|██████████| 378/378 [00:02<00:00, 182.50it/s]\n",
      "Training Epoch 1937: 100%|██████████| 378/378 [00:02<00:00, 177.69it/s]\n",
      "Training Epoch 1938: 100%|██████████| 378/378 [00:02<00:00, 182.53it/s]\n",
      "Training Epoch 1939: 100%|██████████| 378/378 [00:02<00:00, 173.27it/s]\n",
      "Training Epoch 1940: 100%|██████████| 378/378 [00:02<00:00, 179.28it/s]\n",
      "Training Epoch 1941: 100%|██████████| 378/378 [00:02<00:00, 173.49it/s]\n"
     ]
    },
    {
     "name": "stdout",
     "output_type": "stream",
     "text": [
      "Epoch 1940 - Train Loss: 0.3083, Train MSE: 0.3081, Train MAE: 0.3631\n",
      "Epoch 1940 - Validation Loss: 1.5593, Validation MSE: 1.5628, Validation MAE: 0.8888\n"
     ]
    },
    {
     "name": "stderr",
     "output_type": "stream",
     "text": [
      "Training Epoch 1942: 100%|██████████| 378/378 [00:02<00:00, 181.74it/s]\n",
      "Training Epoch 1943: 100%|██████████| 378/378 [00:02<00:00, 184.34it/s]\n",
      "Training Epoch 1944: 100%|██████████| 378/378 [00:02<00:00, 175.97it/s]\n",
      "Training Epoch 1945: 100%|██████████| 378/378 [00:02<00:00, 177.07it/s]\n",
      "Training Epoch 1946: 100%|██████████| 378/378 [00:02<00:00, 174.98it/s]\n",
      "Training Epoch 1947: 100%|██████████| 378/378 [00:02<00:00, 179.82it/s]\n",
      "Training Epoch 1948: 100%|██████████| 378/378 [00:02<00:00, 175.17it/s]\n",
      "Training Epoch 1949: 100%|██████████| 378/378 [00:02<00:00, 184.87it/s]\n",
      "Training Epoch 1950: 100%|██████████| 378/378 [00:02<00:00, 176.52it/s]\n",
      "Training Epoch 1951: 100%|██████████| 378/378 [00:02<00:00, 171.30it/s]\n"
     ]
    },
    {
     "name": "stdout",
     "output_type": "stream",
     "text": [
      "Epoch 1950 - Train Loss: 0.3004, Train MSE: 0.3003, Train MAE: 0.3580\n",
      "Epoch 1950 - Validation Loss: 1.5699, Validation MSE: 1.5731, Validation MAE: 0.8923\n"
     ]
    },
    {
     "name": "stderr",
     "output_type": "stream",
     "text": [
      "Training Epoch 1952: 100%|██████████| 378/378 [00:02<00:00, 179.48it/s]\n",
      "Training Epoch 1953: 100%|██████████| 378/378 [00:02<00:00, 176.50it/s]\n",
      "Training Epoch 1954: 100%|██████████| 378/378 [00:02<00:00, 172.87it/s]\n",
      "Training Epoch 1955: 100%|██████████| 378/378 [00:02<00:00, 175.90it/s]\n",
      "Training Epoch 1956: 100%|██████████| 378/378 [00:02<00:00, 182.77it/s]\n",
      "Training Epoch 1957: 100%|██████████| 378/378 [00:02<00:00, 173.54it/s]\n",
      "Training Epoch 1958: 100%|██████████| 378/378 [00:02<00:00, 178.05it/s]\n",
      "Training Epoch 1959: 100%|██████████| 378/378 [00:02<00:00, 183.22it/s]\n",
      "Training Epoch 1960: 100%|██████████| 378/378 [00:02<00:00, 171.88it/s]\n",
      "Training Epoch 1961: 100%|██████████| 378/378 [00:02<00:00, 177.57it/s]\n"
     ]
    },
    {
     "name": "stdout",
     "output_type": "stream",
     "text": [
      "Epoch 1960 - Train Loss: 0.2976, Train MSE: 0.2974, Train MAE: 0.3580\n",
      "Epoch 1960 - Validation Loss: 1.5634, Validation MSE: 1.5668, Validation MAE: 0.8844\n"
     ]
    },
    {
     "name": "stderr",
     "output_type": "stream",
     "text": [
      "Training Epoch 1962: 100%|██████████| 378/378 [00:02<00:00, 178.49it/s]\n",
      "Training Epoch 1963: 100%|██████████| 378/378 [00:02<00:00, 178.67it/s]\n",
      "Training Epoch 1964: 100%|██████████| 378/378 [00:02<00:00, 175.69it/s]\n",
      "Training Epoch 1965: 100%|██████████| 378/378 [00:02<00:00, 182.56it/s]\n",
      "Training Epoch 1966: 100%|██████████| 378/378 [00:02<00:00, 177.42it/s]\n",
      "Training Epoch 1967: 100%|██████████| 378/378 [00:02<00:00, 180.64it/s]\n",
      "Training Epoch 1968: 100%|██████████| 378/378 [00:02<00:00, 174.65it/s]\n",
      "Training Epoch 1969: 100%|██████████| 378/378 [00:02<00:00, 173.68it/s]\n",
      "Training Epoch 1970: 100%|██████████| 378/378 [00:02<00:00, 182.84it/s]\n",
      "Training Epoch 1971: 100%|██████████| 378/378 [00:02<00:00, 175.55it/s]\n"
     ]
    },
    {
     "name": "stdout",
     "output_type": "stream",
     "text": [
      "Epoch 1970 - Train Loss: 0.3089, Train MSE: 0.3087, Train MAE: 0.3608\n",
      "Epoch 1970 - Validation Loss: 1.5328, Validation MSE: 1.5360, Validation MAE: 0.8767\n"
     ]
    },
    {
     "name": "stderr",
     "output_type": "stream",
     "text": [
      "Training Epoch 1972: 100%|██████████| 378/378 [00:02<00:00, 180.10it/s]\n",
      "Training Epoch 1973: 100%|██████████| 378/378 [00:02<00:00, 174.20it/s]\n",
      "Training Epoch 1974: 100%|██████████| 378/378 [00:02<00:00, 179.85it/s]\n",
      "Training Epoch 1975: 100%|██████████| 378/378 [00:02<00:00, 174.35it/s]\n",
      "Training Epoch 1976: 100%|██████████| 378/378 [00:02<00:00, 184.24it/s]\n",
      "Training Epoch 1977: 100%|██████████| 378/378 [00:02<00:00, 179.32it/s]\n",
      "Training Epoch 1978: 100%|██████████| 378/378 [00:02<00:00, 174.22it/s]\n",
      "Training Epoch 1979: 100%|██████████| 378/378 [00:02<00:00, 177.27it/s]\n",
      "Training Epoch 1980: 100%|██████████| 378/378 [00:02<00:00, 177.34it/s]\n",
      "Training Epoch 1981: 100%|██████████| 378/378 [00:02<00:00, 180.17it/s]\n"
     ]
    },
    {
     "name": "stdout",
     "output_type": "stream",
     "text": [
      "Epoch 1980 - Train Loss: 0.2988, Train MSE: 0.2990, Train MAE: 0.3575\n",
      "Epoch 1980 - Validation Loss: 1.5427, Validation MSE: 1.5461, Validation MAE: 0.8830\n"
     ]
    },
    {
     "name": "stderr",
     "output_type": "stream",
     "text": [
      "Training Epoch 1982: 100%|██████████| 378/378 [00:02<00:00, 171.51it/s]\n",
      "Training Epoch 1983: 100%|██████████| 378/378 [00:02<00:00, 182.54it/s]\n",
      "Training Epoch 1984: 100%|██████████| 378/378 [00:02<00:00, 178.18it/s]\n",
      "Training Epoch 1985: 100%|██████████| 378/378 [00:02<00:00, 176.77it/s]\n",
      "Training Epoch 1986: 100%|██████████| 378/378 [00:02<00:00, 179.88it/s]\n",
      "Training Epoch 1987: 100%|██████████| 378/378 [00:02<00:00, 176.25it/s]\n",
      "Training Epoch 1988: 100%|██████████| 378/378 [00:02<00:00, 175.10it/s]\n",
      "Training Epoch 1989: 100%|██████████| 378/378 [00:02<00:00, 171.31it/s]\n",
      "Training Epoch 1990: 100%|██████████| 378/378 [00:02<00:00, 178.02it/s]\n",
      "Training Epoch 1991: 100%|██████████| 378/378 [00:02<00:00, 172.98it/s]\n"
     ]
    },
    {
     "name": "stdout",
     "output_type": "stream",
     "text": [
      "Epoch 1990 - Train Loss: 0.3009, Train MSE: 0.3008, Train MAE: 0.3583\n",
      "Epoch 1990 - Validation Loss: 1.5647, Validation MSE: 1.5681, Validation MAE: 0.8890\n"
     ]
    },
    {
     "name": "stderr",
     "output_type": "stream",
     "text": [
      "Training Epoch 1992: 100%|██████████| 378/378 [00:02<00:00, 177.28it/s]\n",
      "Training Epoch 1993: 100%|██████████| 378/378 [00:02<00:00, 174.34it/s]\n",
      "Training Epoch 1994: 100%|██████████| 378/378 [00:02<00:00, 173.87it/s]\n",
      "Training Epoch 1995: 100%|██████████| 378/378 [00:02<00:00, 175.81it/s]\n",
      "Training Epoch 1996: 100%|██████████| 378/378 [00:02<00:00, 174.64it/s]\n",
      "Training Epoch 1997: 100%|██████████| 378/378 [00:02<00:00, 177.67it/s]\n",
      "Training Epoch 1998: 100%|██████████| 378/378 [00:02<00:00, 177.49it/s]\n",
      "Training Epoch 1999: 100%|██████████| 378/378 [00:02<00:00, 176.64it/s]\n",
      "Training Epoch 2000: 100%|██████████| 378/378 [00:02<00:00, 172.93it/s]\n"
     ]
    },
    {
     "name": "stdout",
     "output_type": "stream",
     "text": [
      "Test MSE: 1.4750, Test MAE: 0.8936\n"
     ]
    }
   ],
   "source": [
    "import torch\n",
    "import torch.nn as nn\n",
    "import torch.optim as optim\n",
    "from tqdm import tqdm\n",
    "import pandas as pd\n",
    "from sklearn.metrics import r2_score, median_absolute_error, explained_variance_score\n",
    "from scipy.stats import pearsonr\n",
    "\n",
    "\n",
    "train_history = pd.DataFrame(columns=[  'epoch',\n",
    "    'Train Loss', 'Train MSE', 'Train MAE', 'Train RMSE', 'Train R2', 'Train Pearson', 'Train Median_AE', 'Train Explained_VAR'\n",
    "    'Val Loss', 'Val MSE', 'Val MAE', 'Val RMSE', 'Val R2', 'Val Pearson', 'Val Median_AE', 'Val Explained_VAR'])\n",
    "# Verify feature dimensions\n",
    "for batch in train_loader:\n",
    "    mol_input_dim = batch['metabolite_features'].shape[1]  # Dynamically determine mol input dimension\n",
    "    protein_input_dim = batch['protein_features'].shape[1]  # Dynamically determine protein input dimension\n",
    "    break\n",
    "\n",
    "# Initialize model, optimizer, and loss function\n",
    "num_timesteps = 10\n",
    "model = MLPRegressor(mol_input_dim=mol_input_dim, protein_input_dim=protein_input_dim,hidden_dim=512)\n",
    "model = model.to(device)\n",
    "optimizer = optim.Adam(model.parameters(), lr=0.0001)\n",
    "criterion = nn.MSELoss()\n",
    "\n",
    "# Training and Validation Loop\n",
    "for epoch in range(2000):\n",
    "    model.train()\n",
    "    total_loss = 0.0\n",
    "    val_total_loss = 0.0\n",
    "    train_predictions, train_labels = [], []\n",
    "\n",
    "    for batch in tqdm(train_loader, desc=f\"Training Epoch {epoch + 1}\"):\n",
    "        mol_features = batch['metabolite_features'].to(device)\n",
    "        protein_features = batch['protein_features'].to(device)\n",
    "        labels = batch['label'].to(device)\n",
    "\n",
    "        optimizer.zero_grad()\n",
    "        outputs = model(mol_features, protein_features)\n",
    "        loss = criterion(outputs, labels)\n",
    "        loss.backward()\n",
    "        optimizer.step()\n",
    "        total_loss += loss.item()\n",
    "\n",
    "        # Store predictions and labels for metrics\n",
    "        train_predictions.extend(outputs.detach().cpu().numpy())\n",
    "        train_labels.extend(labels.cpu().numpy())\n",
    "\n",
    "    # Calculate training metrics\n",
    "    train_mse = ((torch.tensor(train_predictions) - torch.tensor(train_labels))**2).mean().item()\n",
    "    train_mae = torch.abs(torch.tensor(train_predictions) - torch.tensor(train_labels)).mean().item()\n",
    "    train_rmse = torch.sqrt((torch.tensor(train_predictions) - torch.tensor(train_labels)) ** 2).mean().item()\n",
    "    train_r2 = r2_score(np.array(train_labels), np.array(train_predictions))\n",
    "    train_pearson_corr, _ = pearsonr(np.array(train_labels), np.array(train_predictions))\n",
    "    train_median_ae = median_absolute_error(np.array(train_labels), np.array(train_predictions))\n",
    "    train_explained_var = explained_variance_score(np.array(train_labels), np.array(train_predictions))\n",
    "\n",
    "\n",
    "\n",
    "    if epoch % 10 == 0:\n",
    "        print(f\"Epoch {epoch} - Train Loss: {total_loss / len(train_loader):.4f}, Train MSE: {train_mse:.4f}, Train MAE: {train_mae:.4f}\")\n",
    "\n",
    "    # Validation\n",
    "    model.eval()\n",
    "    val_predictions, val_labels = [], []\n",
    "    with torch.no_grad():\n",
    "        for batch in val_loader:\n",
    "            mol_features = batch['metabolite_features'].to(device)\n",
    "            protein_features = batch['protein_features'].to(device)\n",
    "            labels = batch['label'].to(device)\n",
    "\n",
    "            outputs = model(mol_features, protein_features)\n",
    "            val_predictions.extend(outputs.cpu().numpy())\n",
    "            val_labels.extend(labels.cpu().numpy())\n",
    "            val_loss = criterion(outputs, labels)\n",
    "            val_total_loss += val_loss.item()\n",
    "\n",
    "    val_mse = ((torch.tensor(val_predictions) - torch.tensor(val_labels))**2).mean().item()\n",
    "    val_mae = torch.abs(torch.tensor(val_predictions) - torch.tensor(val_labels)).mean().item()\n",
    "    val_rmse = torch.sqrt((torch.tensor(val_predictions) - torch.tensor(val_labels)) ** 2).mean().item()\n",
    "    val_r2 = r2_score(np.array(val_labels), np.array(val_predictions))\n",
    "    val_pearson_corr, _ = pearsonr(np.array(val_labels), np.array(val_predictions))\n",
    "    val_median_ae = median_absolute_error(np.array(val_labels), np.array(val_predictions))\n",
    "    val_explained_var = explained_variance_score(np.array(val_labels), np.array(val_predictions))\n",
    "\n",
    "    if epoch % 10 == 0:\n",
    "        print(f\"Epoch {epoch} - Validation Loss: {val_total_loss / len(val_loader):.4f}, Validation MSE: {val_mse:.4f}, Validation MAE: {val_mae:.4f}\")\n",
    "\n",
    "    # Save metrics to DataFrame\n",
    "    new_row = {'epoch': epoch + 1, 'Train Loss': total_loss / len(train_loader), 'Train MSE': train_mse, 'Train MAE': train_mae, 'Train RMSE': train_rmse, 'Train R2': train_r2, 'Train Pearson': train_pearson_corr, 'Train Median_AE': train_median_ae, 'Train Explained_VAR': train_explained_var, \n",
    "               'Val Loss': val_total_loss / len(val_loader), 'Val MSE': val_mse, 'Val MAE': val_mae, 'Val RMSE': val_rmse, 'Val R2': val_r2, 'Val Pearson': val_pearson_corr, 'Val Median_AE': val_median_ae, 'Val Explained_VAR': val_explained_var}\n",
    "    train_history = pd.concat([train_history, pd.DataFrame([new_row])], ignore_index=True)\n",
    "\n"
   ]
  },
  {
   "cell_type": "code",
   "execution_count": 17,
   "metadata": {},
   "outputs": [],
   "source": [
    "for batch in train_loader:\n",
    "    mol_input_dim = batch['metabolite_features'].shape[1]  # Dynamically determine mol input dimension\n",
    "    protein_input_dim = batch['protein_features'].shape[1]  # Dynamically determine protein input dimension\n",
    "    break\n",
    "\n",
    "model = MLPRegressor(mol_input_dim=mol_input_dim, protein_input_dim=protein_input_dim, hidden_dim=512)\n",
    "model.load_state_dict(torch.load('/Users/pinchichen/2025S lab/AI drug project/code/trained_model/cold_protein/MLP model_cold_protein.pt'))\n",
    "model = model.to(device)"
   ]
  },
  {
   "cell_type": "code",
   "execution_count": 18,
   "metadata": {},
   "outputs": [
    {
     "name": "stdout",
     "output_type": "stream",
     "text": [
      "Test MSE: 1.4750, Test MAE: 0.8936\n"
     ]
    }
   ],
   "source": [
    "from sklearn.metrics import mean_squared_error,mean_absolute_error,r2_score, median_absolute_error, explained_variance_score\n",
    "from scipy.stats import pearsonr\n",
    "# Test Metrics\n",
    "model.eval()\n",
    "test_predictions, test_labels = [], []\n",
    "with torch.no_grad():\n",
    "    for batch in test_loader:\n",
    "        mol_features = batch['metabolite_features'].to(device)\n",
    "        protein_features = batch['protein_features'].to(device)\n",
    "        labels = batch['label'].to(device)\n",
    "\n",
    "        outputs = model(mol_features, protein_features)\n",
    "        test_predictions.extend(outputs.cpu().numpy())\n",
    "        test_labels.extend(labels.cpu().numpy())\n",
    "\n",
    "test_mse = ((torch.tensor(test_predictions) - torch.tensor(test_labels))**2).mean().item()\n",
    "test_mae = torch.abs(torch.tensor(test_predictions) - torch.tensor(test_labels)).mean().item()\n",
    "test_rmse = torch.sqrt((torch.tensor(test_predictions) - torch.tensor(test_labels)) ** 2).mean().item()\n",
    "test_r2 = r2_score(np.array(test_labels), np.array(test_predictions))\n",
    "test_pearson_corr, _ = pearsonr(np.array(test_labels), np.array(test_predictions))\n",
    "test_median_ae = median_absolute_error(np.array(test_labels), np.array(test_predictions))\n",
    "test_explained_var = explained_variance_score(np.array(test_labels), np.array(test_predictions))\n",
    "\n",
    "print(f\"Test MSE: {test_mse:.4f}, Test MAE: {test_mae:.4f}\")\n"
   ]
  },
  {
   "cell_type": "code",
   "execution_count": 19,
   "metadata": {},
   "outputs": [],
   "source": [
    "\n",
    "def evaluate_model(predictions, labels):\n",
    "    mse = mean_squared_error(labels, predictions)\n",
    "    rmse = np.sqrt(mse)\n",
    "    mae = mean_absolute_error(labels, predictions)\n",
    "    r2 = r2_score(labels, predictions)\n",
    "    pearson_corr, _ = pearsonr(labels, predictions)\n",
    "    medae = median_absolute_error(labels, predictions)\n",
    "    evs = explained_variance_score(labels, predictions)\n",
    "\n",
    "    return mse, rmse, mae, r2, pearson_corr, medae, evs"
   ]
  },
  {
   "cell_type": "code",
   "execution_count": 20,
   "metadata": {},
   "outputs": [],
   "source": [
    "model.eval()\n",
    "train_pred, train_labels = [], []\n",
    "with torch.no_grad():\n",
    "    for batch in train_loader:\n",
    "        mol_features = batch['metabolite_features'].to(device)\n",
    "        protein_features = batch['protein_features'].to(device)\n",
    "        labels = batch['label'].to(device)\n",
    "\n",
    "        outputs = model(mol_features, protein_features)\n",
    "        train_pred.extend(outputs.cpu().numpy())\n",
    "        train_labels.extend(labels.cpu().numpy())\n",
    "\n",
    "train_mse, train_rmse, train_mae, train_r2, train_pearson_corr, train_median_ae, train_explained_var = evaluate_model(train_pred, train_labels)"
   ]
  },
  {
   "cell_type": "code",
   "execution_count": 21,
   "metadata": {},
   "outputs": [],
   "source": [
    "model.eval()\n",
    "val_pred, val_labels = [], []\n",
    "with torch.no_grad():\n",
    "    for batch in val_loader:\n",
    "        mol_features = batch['metabolite_features'].to(device)\n",
    "        protein_features = batch['protein_features'].to(device)\n",
    "        labels = batch['label'].to(device)\n",
    "\n",
    "        outputs = model(mol_features, protein_features)\n",
    "        val_pred.extend(outputs.cpu().numpy())\n",
    "        val_labels.extend(labels.cpu().numpy())\n",
    "\n",
    "val_mse, val_rmse, val_mae, val_r2, val_pearson_corr, val_median_ae, val_explained_var = evaluate_model(val_pred, val_labels)\n"
   ]
  },
  {
   "cell_type": "code",
   "execution_count": 22,
   "metadata": {},
   "outputs": [],
   "source": [
    "# append the performance to the csv file\n",
    "df = {\n",
    "    'Model':['MLP','MLP','MLP'],\n",
    "    'Dataset':['Train','Validation','Test'],\n",
    "    'MSE':[train_mse,val_mse,test_mse],\n",
    "    'RMSE':[train_rmse,val_rmse,test_rmse],\n",
    "    'MAE':[train_mae,val_mae,test_mae],\n",
    "    'R2':[train_r2,val_r2,test_r2],\n",
    "    'Pearson':[train_pearson_corr,val_pearson_corr,test_pearson_corr],\n",
    "    'Median_AE':[train_median_ae,val_median_ae,test_median_ae],\n",
    "    'Explained_VAR':[train_explained_var,val_explained_var,test_explained_var],\n",
    "    'Dataspliting Mode':['cold protein','cold protein','cold protein']\n",
    "}\n",
    "df = pd.DataFrame(df)\n",
    "\n",
    "df.to_csv('/Users/pinchichen/2025S lab/AI drug project/code/model performance metrics.csv', mode='a', header=False)"
   ]
  },
  {
   "cell_type": "code",
   "execution_count": 41,
   "metadata": {},
   "outputs": [],
   "source": [
    "# Save the model and training history\n",
    "save_dir = '/Users/pinchichen/2025S lab/AI drug project/code/trained_model/cold_protein'\n",
    "# save model weights and optimizer state\n",
    "torch.save(model.state_dict(), os.path.join(save_dir, 'MLP model_cold_protein.pt'))\n",
    "torch.save(optimizer.state_dict(), os.path.join(save_dir, 'MLP optimizer_cold_protein.pt'))"
   ]
  },
  {
   "cell_type": "code",
   "execution_count": 17,
   "metadata": {},
   "outputs": [],
   "source": [
    "import torch\n",
    "import torch.nn as nn\n",
    "import torch.optim as optim\n",
    "from tqdm import tqdm\n",
    "import pandas as pd\n",
    "from sklearn.metrics import r2_score, median_absolute_error, explained_variance_score\n",
    "from scipy.stats import pearsonr"
   ]
  },
  {
   "cell_type": "code",
   "execution_count": null,
   "metadata": {},
   "outputs": [
    {
     "name": "stderr",
     "output_type": "stream",
     "text": [
      "Training Epoch 1: 100%|██████████| 370/370 [00:01<00:00, 228.53it/s]\n",
      "/var/folders/yz/c1z6m9_d5d3f80sywjc3rqsc0000gn/T/ipykernel_32537/650137755.py:82: FutureWarning: The behavior of DataFrame concatenation with empty or all-NA entries is deprecated. In a future version, this will no longer exclude empty or all-NA columns when determining the result dtypes. To retain the old behavior, exclude the relevant entries before the concat operation.\n",
      "  train_history_2 = pd.concat([train_history_2, pd.DataFrame([new_row])], ignore_index=True)\n"
     ]
    },
    {
     "name": "stdout",
     "output_type": "stream",
     "text": [
      "Epoch 0 - Train Loss: 1.9990, Train MSE: 1.9986, Train MAE: 1.0946\n",
      "Epoch 0 - Validation Loss: 2.0881, Validation MSE: 2.0917, Validation MAE: 1.1254\n"
     ]
    },
    {
     "name": "stderr",
     "output_type": "stream",
     "text": [
      "Training Epoch 2: 100%|██████████| 370/370 [00:01<00:00, 231.48it/s]\n",
      "Training Epoch 3: 100%|██████████| 370/370 [00:01<00:00, 210.71it/s]\n",
      "Training Epoch 4: 100%|██████████| 370/370 [00:01<00:00, 220.47it/s]\n",
      "Training Epoch 5: 100%|██████████| 370/370 [00:01<00:00, 255.24it/s]\n",
      "Training Epoch 6: 100%|██████████| 370/370 [00:01<00:00, 236.97it/s]\n",
      "Training Epoch 7: 100%|██████████| 370/370 [00:01<00:00, 231.17it/s]\n",
      "Training Epoch 8: 100%|██████████| 370/370 [00:01<00:00, 241.88it/s]\n",
      "Training Epoch 9: 100%|██████████| 370/370 [00:01<00:00, 259.00it/s]\n",
      "Training Epoch 10: 100%|██████████| 370/370 [00:01<00:00, 265.74it/s]\n",
      "Training Epoch 11: 100%|██████████| 370/370 [00:01<00:00, 257.49it/s]\n"
     ]
    },
    {
     "name": "stdout",
     "output_type": "stream",
     "text": [
      "Epoch 10 - Train Loss: 1.2844, Train MSE: 1.2850, Train MAE: 0.8625\n",
      "Epoch 10 - Validation Loss: 1.7790, Validation MSE: 1.7804, Validation MAE: 1.0544\n"
     ]
    },
    {
     "name": "stderr",
     "output_type": "stream",
     "text": [
      "Training Epoch 12: 100%|██████████| 370/370 [00:01<00:00, 251.15it/s]\n",
      "Training Epoch 13: 100%|██████████| 370/370 [00:01<00:00, 244.06it/s]\n",
      "Training Epoch 14: 100%|██████████| 370/370 [00:01<00:00, 259.13it/s]\n",
      "Training Epoch 15: 100%|██████████| 370/370 [00:01<00:00, 263.93it/s]\n",
      "Training Epoch 16: 100%|██████████| 370/370 [00:01<00:00, 267.20it/s]\n",
      "Training Epoch 17: 100%|██████████| 370/370 [00:01<00:00, 253.80it/s]\n",
      "Training Epoch 18: 100%|██████████| 370/370 [00:01<00:00, 247.52it/s]\n",
      "Training Epoch 19: 100%|██████████| 370/370 [00:01<00:00, 250.53it/s]\n",
      "Training Epoch 20: 100%|██████████| 370/370 [00:01<00:00, 266.20it/s]\n",
      "Training Epoch 21: 100%|██████████| 370/370 [00:01<00:00, 262.52it/s]\n"
     ]
    },
    {
     "name": "stdout",
     "output_type": "stream",
     "text": [
      "Epoch 20 - Train Loss: 1.0620, Train MSE: 1.0620, Train MAE: 0.7804\n",
      "Epoch 20 - Validation Loss: 1.5898, Validation MSE: 1.5908, Validation MAE: 0.9923\n"
     ]
    },
    {
     "name": "stderr",
     "output_type": "stream",
     "text": [
      "Training Epoch 22: 100%|██████████| 370/370 [00:01<00:00, 258.06it/s]\n",
      "Training Epoch 23: 100%|██████████| 370/370 [00:01<00:00, 246.80it/s]\n",
      "Training Epoch 24: 100%|██████████| 370/370 [00:01<00:00, 251.45it/s]\n",
      "Training Epoch 25: 100%|██████████| 370/370 [00:01<00:00, 258.07it/s]\n",
      "Training Epoch 26: 100%|██████████| 370/370 [00:01<00:00, 263.57it/s]\n",
      "Training Epoch 27: 100%|██████████| 370/370 [00:01<00:00, 264.84it/s]\n",
      "Training Epoch 28: 100%|██████████| 370/370 [00:01<00:00, 251.74it/s]\n",
      "Training Epoch 29: 100%|██████████| 370/370 [00:01<00:00, 257.88it/s]\n",
      "Training Epoch 30: 100%|██████████| 370/370 [00:01<00:00, 253.22it/s]\n",
      "Training Epoch 31: 100%|██████████| 370/370 [00:01<00:00, 260.07it/s]\n"
     ]
    },
    {
     "name": "stdout",
     "output_type": "stream",
     "text": [
      "Epoch 30 - Train Loss: 0.9304, Train MSE: 0.9315, Train MAE: 0.7240\n",
      "Epoch 30 - Validation Loss: 1.5597, Validation MSE: 1.5617, Validation MAE: 0.9631\n"
     ]
    },
    {
     "name": "stderr",
     "output_type": "stream",
     "text": [
      "Training Epoch 32: 100%|██████████| 370/370 [00:01<00:00, 265.84it/s]\n",
      "Training Epoch 33: 100%|██████████| 370/370 [00:01<00:00, 260.85it/s]\n",
      "Training Epoch 34: 100%|██████████| 370/370 [00:01<00:00, 253.90it/s]\n",
      "Training Epoch 35: 100%|██████████| 370/370 [00:01<00:00, 249.30it/s]\n",
      "Training Epoch 36: 100%|██████████| 370/370 [00:01<00:00, 258.83it/s]\n",
      "Training Epoch 37: 100%|██████████| 370/370 [00:01<00:00, 266.22it/s]\n",
      "Training Epoch 38: 100%|██████████| 370/370 [00:01<00:00, 266.20it/s]\n",
      "Training Epoch 39: 100%|██████████| 370/370 [00:01<00:00, 268.21it/s]\n",
      "Training Epoch 40: 100%|██████████| 370/370 [00:01<00:00, 255.62it/s]\n",
      "Training Epoch 41: 100%|██████████| 370/370 [00:01<00:00, 255.08it/s]\n"
     ]
    },
    {
     "name": "stdout",
     "output_type": "stream",
     "text": [
      "Epoch 40 - Train Loss: 0.8434, Train MSE: 0.8447, Train MAE: 0.6816\n",
      "Epoch 40 - Validation Loss: 1.5024, Validation MSE: 1.5031, Validation MAE: 0.9555\n"
     ]
    },
    {
     "name": "stderr",
     "output_type": "stream",
     "text": [
      "Training Epoch 42: 100%|██████████| 370/370 [00:01<00:00, 263.52it/s]\n",
      "Training Epoch 43: 100%|██████████| 370/370 [00:01<00:00, 269.76it/s]\n",
      "Training Epoch 44: 100%|██████████| 370/370 [00:01<00:00, 263.58it/s]\n",
      "Training Epoch 45: 100%|██████████| 370/370 [00:01<00:00, 259.23it/s]\n",
      "Training Epoch 46: 100%|██████████| 370/370 [00:01<00:00, 254.79it/s]\n",
      "Training Epoch 47: 100%|██████████| 370/370 [00:01<00:00, 257.19it/s]\n",
      "Training Epoch 48: 100%|██████████| 370/370 [00:01<00:00, 256.62it/s]\n",
      "Training Epoch 49: 100%|██████████| 370/370 [00:01<00:00, 267.30it/s]\n",
      "Training Epoch 50: 100%|██████████| 370/370 [00:01<00:00, 258.07it/s]\n",
      "Training Epoch 51: 100%|██████████| 370/370 [00:01<00:00, 253.79it/s]\n"
     ]
    },
    {
     "name": "stdout",
     "output_type": "stream",
     "text": [
      "Epoch 50 - Train Loss: 0.7985, Train MSE: 0.8000, Train MAE: 0.6594\n",
      "Epoch 50 - Validation Loss: 1.5260, Validation MSE: 1.5276, Validation MAE: 0.9483\n"
     ]
    },
    {
     "name": "stderr",
     "output_type": "stream",
     "text": [
      "Training Epoch 52: 100%|██████████| 370/370 [00:01<00:00, 253.07it/s]\n",
      "Training Epoch 53: 100%|██████████| 370/370 [00:01<00:00, 255.41it/s]\n",
      "Training Epoch 54: 100%|██████████| 370/370 [00:01<00:00, 268.34it/s]\n",
      "Training Epoch 55: 100%|██████████| 370/370 [00:01<00:00, 262.91it/s]\n",
      "Training Epoch 56: 100%|██████████| 370/370 [00:01<00:00, 252.14it/s]\n",
      "Training Epoch 57: 100%|██████████| 370/370 [00:01<00:00, 252.18it/s]\n",
      "Training Epoch 58: 100%|██████████| 370/370 [00:01<00:00, 265.81it/s]\n",
      "Training Epoch 59: 100%|██████████| 370/370 [00:01<00:00, 267.80it/s]\n",
      "Training Epoch 60: 100%|██████████| 370/370 [00:01<00:00, 271.80it/s]\n",
      "Training Epoch 61: 100%|██████████| 370/370 [00:01<00:00, 259.41it/s]\n"
     ]
    },
    {
     "name": "stdout",
     "output_type": "stream",
     "text": [
      "Epoch 60 - Train Loss: 0.7549, Train MSE: 0.7556, Train MAE: 0.6395\n",
      "Epoch 60 - Validation Loss: 1.5423, Validation MSE: 1.5437, Validation MAE: 0.9431\n"
     ]
    },
    {
     "name": "stderr",
     "output_type": "stream",
     "text": [
      "Training Epoch 62: 100%|██████████| 370/370 [00:01<00:00, 252.35it/s]\n",
      "Training Epoch 63: 100%|██████████| 370/370 [00:01<00:00, 254.59it/s]\n",
      "Training Epoch 64: 100%|██████████| 370/370 [00:01<00:00, 258.92it/s]\n",
      "Training Epoch 65: 100%|██████████| 370/370 [00:01<00:00, 263.09it/s]\n",
      "Training Epoch 66: 100%|██████████| 370/370 [00:01<00:00, 264.82it/s]\n",
      "Training Epoch 67: 100%|██████████| 370/370 [00:01<00:00, 260.68it/s]\n",
      "Training Epoch 68: 100%|██████████| 370/370 [00:01<00:00, 252.39it/s]\n",
      "Training Epoch 69: 100%|██████████| 370/370 [00:01<00:00, 253.72it/s]\n",
      "Training Epoch 70: 100%|██████████| 370/370 [00:01<00:00, 260.22it/s]\n",
      "Training Epoch 71: 100%|██████████| 370/370 [00:01<00:00, 270.55it/s]\n"
     ]
    },
    {
     "name": "stdout",
     "output_type": "stream",
     "text": [
      "Epoch 70 - Train Loss: 0.7347, Train MSE: 0.7285, Train MAE: 0.6240\n",
      "Epoch 70 - Validation Loss: 1.5994, Validation MSE: 1.6014, Validation MAE: 0.9766\n"
     ]
    },
    {
     "name": "stderr",
     "output_type": "stream",
     "text": [
      "Training Epoch 72: 100%|██████████| 370/370 [00:01<00:00, 267.86it/s]\n",
      "Training Epoch 73: 100%|██████████| 370/370 [00:01<00:00, 257.16it/s]\n",
      "Training Epoch 74: 100%|██████████| 370/370 [00:01<00:00, 246.81it/s]\n",
      "Training Epoch 75: 100%|██████████| 370/370 [00:01<00:00, 256.25it/s]\n",
      "Training Epoch 76: 100%|██████████| 370/370 [00:01<00:00, 264.05it/s]\n",
      "Training Epoch 77: 100%|██████████| 370/370 [00:01<00:00, 267.94it/s]\n",
      "Training Epoch 78: 100%|██████████| 370/370 [00:01<00:00, 268.41it/s]\n",
      "Training Epoch 79: 100%|██████████| 370/370 [00:01<00:00, 261.01it/s]\n",
      "Training Epoch 80: 100%|██████████| 370/370 [00:01<00:00, 258.00it/s]\n",
      "Training Epoch 81: 100%|██████████| 370/370 [00:01<00:00, 257.66it/s]\n"
     ]
    },
    {
     "name": "stdout",
     "output_type": "stream",
     "text": [
      "Epoch 80 - Train Loss: 0.7005, Train MSE: 0.7017, Train MAE: 0.6116\n",
      "Epoch 80 - Validation Loss: 1.5231, Validation MSE: 1.5247, Validation MAE: 0.9320\n"
     ]
    },
    {
     "name": "stderr",
     "output_type": "stream",
     "text": [
      "Training Epoch 82: 100%|██████████| 370/370 [00:01<00:00, 265.15it/s]\n",
      "Training Epoch 83: 100%|██████████| 370/370 [00:01<00:00, 269.65it/s]\n",
      "Training Epoch 84: 100%|██████████| 370/370 [00:01<00:00, 262.36it/s]\n",
      "Training Epoch 85: 100%|██████████| 370/370 [00:01<00:00, 251.47it/s]\n",
      "Training Epoch 86: 100%|██████████| 370/370 [00:01<00:00, 254.76it/s]\n",
      "Training Epoch 87: 100%|██████████| 370/370 [00:01<00:00, 258.25it/s]\n",
      "Training Epoch 88: 100%|██████████| 370/370 [00:01<00:00, 263.25it/s]\n",
      "Training Epoch 89: 100%|██████████| 370/370 [00:01<00:00, 264.83it/s]\n",
      "Training Epoch 90: 100%|██████████| 370/370 [00:01<00:00, 267.46it/s]\n",
      "Training Epoch 91: 100%|██████████| 370/370 [00:01<00:00, 250.25it/s]\n"
     ]
    },
    {
     "name": "stdout",
     "output_type": "stream",
     "text": [
      "Epoch 90 - Train Loss: 0.6792, Train MSE: 0.6802, Train MAE: 0.5988\n",
      "Epoch 90 - Validation Loss: 1.5304, Validation MSE: 1.5320, Validation MAE: 0.9297\n"
     ]
    },
    {
     "name": "stderr",
     "output_type": "stream",
     "text": [
      "Training Epoch 92: 100%|██████████| 370/370 [00:01<00:00, 254.15it/s]\n",
      "Training Epoch 93: 100%|██████████| 370/370 [00:01<00:00, 256.18it/s]\n",
      "Training Epoch 94: 100%|██████████| 370/370 [00:01<00:00, 271.18it/s]\n",
      "Training Epoch 95: 100%|██████████| 370/370 [00:01<00:00, 255.26it/s]\n",
      "Training Epoch 96: 100%|██████████| 370/370 [00:01<00:00, 246.81it/s]\n",
      "Training Epoch 97: 100%|██████████| 370/370 [00:01<00:00, 239.39it/s]\n",
      "Training Epoch 98: 100%|██████████| 370/370 [00:01<00:00, 238.53it/s]\n",
      "Training Epoch 99: 100%|██████████| 370/370 [00:01<00:00, 227.10it/s]\n",
      "Training Epoch 100: 100%|██████████| 370/370 [00:01<00:00, 233.03it/s]\n",
      "Training Epoch 101: 100%|██████████| 370/370 [00:01<00:00, 235.54it/s]\n"
     ]
    },
    {
     "name": "stdout",
     "output_type": "stream",
     "text": [
      "Epoch 100 - Train Loss: 0.6625, Train MSE: 0.6639, Train MAE: 0.5867\n",
      "Epoch 100 - Validation Loss: 1.5639, Validation MSE: 1.5663, Validation MAE: 0.9393\n"
     ]
    },
    {
     "name": "stderr",
     "output_type": "stream",
     "text": [
      "Training Epoch 102: 100%|██████████| 370/370 [00:01<00:00, 238.57it/s]\n",
      "Training Epoch 103: 100%|██████████| 370/370 [00:01<00:00, 238.99it/s]\n",
      "Training Epoch 104: 100%|██████████| 370/370 [00:01<00:00, 232.14it/s]\n",
      "Training Epoch 105: 100%|██████████| 370/370 [00:01<00:00, 228.45it/s]\n",
      "Training Epoch 106: 100%|██████████| 370/370 [00:01<00:00, 233.57it/s]\n",
      "Training Epoch 107: 100%|██████████| 370/370 [00:01<00:00, 239.96it/s]\n",
      "Training Epoch 108: 100%|██████████| 370/370 [16:44<00:00,  2.72s/it] \n",
      "Training Epoch 109: 100%|██████████| 370/370 [00:01<00:00, 222.49it/s]\n",
      "Training Epoch 110: 100%|██████████| 370/370 [00:01<00:00, 227.46it/s]\n",
      "Training Epoch 111: 100%|██████████| 370/370 [17:52<00:00,  2.90s/it] \n"
     ]
    },
    {
     "name": "stdout",
     "output_type": "stream",
     "text": [
      "Epoch 110 - Train Loss: 0.6505, Train MSE: 0.6516, Train MAE: 0.5822\n",
      "Epoch 110 - Validation Loss: 1.5402, Validation MSE: 1.5417, Validation MAE: 0.9363\n"
     ]
    },
    {
     "name": "stderr",
     "output_type": "stream",
     "text": [
      "Training Epoch 112: 100%|██████████| 370/370 [00:01<00:00, 221.42it/s]\n",
      "Training Epoch 113: 100%|██████████| 370/370 [00:01<00:00, 220.01it/s]\n",
      "Training Epoch 114: 100%|██████████| 370/370 [05:05<00:00,  1.21it/s] \n",
      "Training Epoch 115: 100%|██████████| 370/370 [00:02<00:00, 142.75it/s]\n",
      "Training Epoch 116: 100%|██████████| 370/370 [00:01<00:00, 195.77it/s]\n",
      "Training Epoch 117: 100%|██████████| 370/370 [00:01<00:00, 206.81it/s]\n",
      "Training Epoch 118: 100%|██████████| 370/370 [00:01<00:00, 221.77it/s]\n",
      "Training Epoch 119: 100%|██████████| 370/370 [00:01<00:00, 221.86it/s]\n",
      "Training Epoch 120: 100%|██████████| 370/370 [00:01<00:00, 220.23it/s]\n",
      "Training Epoch 121: 100%|██████████| 370/370 [00:01<00:00, 216.12it/s]\n"
     ]
    },
    {
     "name": "stdout",
     "output_type": "stream",
     "text": [
      "Epoch 120 - Train Loss: 0.6321, Train MSE: 0.6313, Train MAE: 0.5681\n",
      "Epoch 120 - Validation Loss: 1.5579, Validation MSE: 1.5591, Validation MAE: 0.9386\n"
     ]
    },
    {
     "name": "stderr",
     "output_type": "stream",
     "text": [
      "Training Epoch 122: 100%|██████████| 370/370 [00:01<00:00, 208.25it/s]\n",
      "Training Epoch 123: 100%|██████████| 370/370 [00:01<00:00, 211.17it/s]\n",
      "Training Epoch 124: 100%|██████████| 370/370 [00:01<00:00, 210.86it/s]\n",
      "Training Epoch 125: 100%|██████████| 370/370 [00:01<00:00, 214.61it/s]\n",
      "Training Epoch 126: 100%|██████████| 370/370 [00:01<00:00, 206.68it/s]\n",
      "Training Epoch 127: 100%|██████████| 370/370 [00:01<00:00, 217.40it/s]\n",
      "Training Epoch 128: 100%|██████████| 370/370 [00:01<00:00, 221.98it/s]\n",
      "Training Epoch 129: 100%|██████████| 370/370 [00:01<00:00, 220.01it/s]\n",
      "Training Epoch 130: 100%|██████████| 370/370 [00:01<00:00, 223.45it/s]\n",
      "Training Epoch 131: 100%|██████████| 370/370 [00:01<00:00, 219.00it/s]\n"
     ]
    },
    {
     "name": "stdout",
     "output_type": "stream",
     "text": [
      "Epoch 130 - Train Loss: 0.6204, Train MSE: 0.6212, Train MAE: 0.5612\n",
      "Epoch 130 - Validation Loss: 1.5506, Validation MSE: 1.5525, Validation MAE: 0.9333\n"
     ]
    },
    {
     "name": "stderr",
     "output_type": "stream",
     "text": [
      "Training Epoch 132: 100%|██████████| 370/370 [00:01<00:00, 226.79it/s]\n",
      "Training Epoch 133: 100%|██████████| 370/370 [00:01<00:00, 217.24it/s]\n",
      "Training Epoch 134: 100%|██████████| 370/370 [00:01<00:00, 222.47it/s]\n",
      "Training Epoch 135: 100%|██████████| 370/370 [00:01<00:00, 219.32it/s]\n",
      "Training Epoch 136: 100%|██████████| 370/370 [00:01<00:00, 231.60it/s]\n",
      "Training Epoch 137: 100%|██████████| 370/370 [00:01<00:00, 232.58it/s]\n",
      "Training Epoch 138: 100%|██████████| 370/370 [00:01<00:00, 221.67it/s]\n",
      "Training Epoch 139: 100%|██████████| 370/370 [00:01<00:00, 223.93it/s]\n",
      "Training Epoch 140: 100%|██████████| 370/370 [00:01<00:00, 228.43it/s]\n",
      "Training Epoch 141: 100%|██████████| 370/370 [00:01<00:00, 225.46it/s]\n"
     ]
    },
    {
     "name": "stdout",
     "output_type": "stream",
     "text": [
      "Epoch 140 - Train Loss: 0.6113, Train MSE: 0.6105, Train MAE: 0.5543\n",
      "Epoch 140 - Validation Loss: 1.4898, Validation MSE: 1.4922, Validation MAE: 0.9215\n"
     ]
    },
    {
     "name": "stderr",
     "output_type": "stream",
     "text": [
      "Training Epoch 142: 100%|██████████| 370/370 [00:01<00:00, 223.57it/s]\n",
      "Training Epoch 143: 100%|██████████| 370/370 [00:01<00:00, 211.09it/s]\n",
      "Training Epoch 144: 100%|██████████| 370/370 [00:01<00:00, 224.90it/s]\n",
      "Training Epoch 145: 100%|██████████| 370/370 [00:01<00:00, 226.74it/s]\n",
      "Training Epoch 146: 100%|██████████| 370/370 [00:01<00:00, 228.88it/s]\n",
      "Training Epoch 147: 100%|██████████| 370/370 [00:01<00:00, 215.93it/s]\n",
      "Training Epoch 148: 100%|██████████| 370/370 [00:01<00:00, 210.97it/s]\n",
      "Training Epoch 149: 100%|██████████| 370/370 [00:01<00:00, 220.21it/s]\n",
      "Training Epoch 150: 100%|██████████| 370/370 [00:01<00:00, 217.66it/s]\n",
      "Training Epoch 151: 100%|██████████| 370/370 [00:01<00:00, 226.72it/s]\n"
     ]
    },
    {
     "name": "stdout",
     "output_type": "stream",
     "text": [
      "Epoch 150 - Train Loss: 0.6024, Train MSE: 0.6034, Train MAE: 0.5506\n",
      "Epoch 150 - Validation Loss: 1.5253, Validation MSE: 1.5277, Validation MAE: 0.9222\n"
     ]
    },
    {
     "name": "stderr",
     "output_type": "stream",
     "text": [
      "Training Epoch 152: 100%|██████████| 370/370 [00:01<00:00, 223.50it/s]\n",
      "Training Epoch 153: 100%|██████████| 370/370 [00:01<00:00, 227.73it/s]\n",
      "Training Epoch 154: 100%|██████████| 370/370 [00:01<00:00, 227.86it/s]\n",
      "Training Epoch 155: 100%|██████████| 370/370 [00:01<00:00, 229.59it/s]\n",
      "Training Epoch 156: 100%|██████████| 370/370 [00:01<00:00, 220.91it/s]\n",
      "Training Epoch 157: 100%|██████████| 370/370 [00:01<00:00, 208.18it/s]\n",
      "Training Epoch 158: 100%|██████████| 370/370 [00:01<00:00, 198.55it/s]\n",
      "Training Epoch 159: 100%|██████████| 370/370 [00:01<00:00, 214.46it/s]\n",
      "Training Epoch 160: 100%|██████████| 370/370 [00:01<00:00, 200.25it/s]\n",
      "Training Epoch 161: 100%|██████████| 370/370 [00:01<00:00, 214.15it/s]\n"
     ]
    },
    {
     "name": "stdout",
     "output_type": "stream",
     "text": [
      "Epoch 160 - Train Loss: 0.5950, Train MSE: 0.5953, Train MAE: 0.5438\n",
      "Epoch 160 - Validation Loss: 1.5342, Validation MSE: 1.5367, Validation MAE: 0.9277\n"
     ]
    },
    {
     "name": "stderr",
     "output_type": "stream",
     "text": [
      "Training Epoch 162: 100%|██████████| 370/370 [00:01<00:00, 217.98it/s]\n",
      "Training Epoch 163: 100%|██████████| 370/370 [00:01<00:00, 225.17it/s]\n",
      "Training Epoch 164: 100%|██████████| 370/370 [00:01<00:00, 219.30it/s]\n",
      "Training Epoch 165: 100%|██████████| 370/370 [00:01<00:00, 218.77it/s]\n",
      "Training Epoch 166: 100%|██████████| 370/370 [00:01<00:00, 219.04it/s]\n",
      "Training Epoch 167: 100%|██████████| 370/370 [00:01<00:00, 231.12it/s]\n",
      "Training Epoch 168: 100%|██████████| 370/370 [00:01<00:00, 229.23it/s]\n",
      "Training Epoch 169: 100%|██████████| 370/370 [00:01<00:00, 225.63it/s]\n",
      "Training Epoch 170: 100%|██████████| 370/370 [00:01<00:00, 218.14it/s]\n",
      "Training Epoch 171: 100%|██████████| 370/370 [00:01<00:00, 219.31it/s]\n"
     ]
    },
    {
     "name": "stdout",
     "output_type": "stream",
     "text": [
      "Epoch 170 - Train Loss: 0.5927, Train MSE: 0.5936, Train MAE: 0.5448\n",
      "Epoch 170 - Validation Loss: 1.5748, Validation MSE: 1.5772, Validation MAE: 0.9326\n"
     ]
    },
    {
     "name": "stderr",
     "output_type": "stream",
     "text": [
      "Training Epoch 172: 100%|██████████| 370/370 [00:01<00:00, 221.36it/s]\n",
      "Training Epoch 173: 100%|██████████| 370/370 [00:01<00:00, 224.21it/s]\n",
      "Training Epoch 174: 100%|██████████| 370/370 [00:01<00:00, 223.46it/s]\n",
      "Training Epoch 175: 100%|██████████| 370/370 [00:01<00:00, 225.66it/s]\n",
      "Training Epoch 176: 100%|██████████| 370/370 [00:01<00:00, 224.52it/s]\n",
      "Training Epoch 177: 100%|██████████| 370/370 [00:01<00:00, 221.18it/s]\n",
      "Training Epoch 178: 100%|██████████| 370/370 [00:01<00:00, 221.67it/s]\n",
      "Training Epoch 179: 100%|██████████| 370/370 [00:01<00:00, 224.73it/s]\n",
      "Training Epoch 180: 100%|██████████| 370/370 [00:01<00:00, 224.53it/s]\n",
      "Training Epoch 181: 100%|██████████| 370/370 [00:01<00:00, 220.67it/s]\n"
     ]
    },
    {
     "name": "stdout",
     "output_type": "stream",
     "text": [
      "Epoch 180 - Train Loss: 0.5891, Train MSE: 0.5903, Train MAE: 0.5388\n",
      "Epoch 180 - Validation Loss: 1.4934, Validation MSE: 1.4946, Validation MAE: 0.9237\n"
     ]
    },
    {
     "name": "stderr",
     "output_type": "stream",
     "text": [
      "Training Epoch 182: 100%|██████████| 370/370 [00:01<00:00, 211.66it/s]\n",
      "Training Epoch 183: 100%|██████████| 370/370 [00:01<00:00, 219.78it/s]\n",
      "Training Epoch 184: 100%|██████████| 370/370 [00:01<00:00, 223.82it/s]\n",
      "Training Epoch 185: 100%|██████████| 370/370 [00:01<00:00, 222.18it/s]\n",
      "Training Epoch 186: 100%|██████████| 370/370 [00:01<00:00, 219.95it/s]\n",
      "Training Epoch 187: 100%|██████████| 370/370 [00:01<00:00, 220.38it/s]\n",
      "Training Epoch 188: 100%|██████████| 370/370 [00:01<00:00, 224.76it/s]\n",
      "Training Epoch 189: 100%|██████████| 370/370 [00:01<00:00, 221.04it/s]\n",
      "Training Epoch 190: 100%|██████████| 370/370 [00:01<00:00, 221.94it/s]\n",
      "Training Epoch 191: 100%|██████████| 370/370 [00:01<00:00, 228.88it/s]\n"
     ]
    },
    {
     "name": "stdout",
     "output_type": "stream",
     "text": [
      "Epoch 190 - Train Loss: 0.5773, Train MSE: 0.5778, Train MAE: 0.5321\n",
      "Epoch 190 - Validation Loss: 1.4966, Validation MSE: 1.4992, Validation MAE: 0.9305\n"
     ]
    },
    {
     "name": "stderr",
     "output_type": "stream",
     "text": [
      "Training Epoch 192: 100%|██████████| 370/370 [00:01<00:00, 216.00it/s]\n",
      "Training Epoch 193: 100%|██████████| 370/370 [00:01<00:00, 222.26it/s]\n",
      "Training Epoch 194: 100%|██████████| 370/370 [00:01<00:00, 211.36it/s]\n",
      "Training Epoch 195: 100%|██████████| 370/370 [00:01<00:00, 224.61it/s]\n",
      "Training Epoch 196: 100%|██████████| 370/370 [00:01<00:00, 227.52it/s]\n",
      "Training Epoch 197: 100%|██████████| 370/370 [00:01<00:00, 220.78it/s]\n",
      "Training Epoch 198: 100%|██████████| 370/370 [00:01<00:00, 217.89it/s]\n",
      "Training Epoch 199: 100%|██████████| 370/370 [00:01<00:00, 223.46it/s]\n",
      "Training Epoch 200: 100%|██████████| 370/370 [00:01<00:00, 228.45it/s]\n",
      "Training Epoch 201: 100%|██████████| 370/370 [00:01<00:00, 218.42it/s]\n"
     ]
    },
    {
     "name": "stdout",
     "output_type": "stream",
     "text": [
      "Epoch 200 - Train Loss: 0.5671, Train MSE: 0.5681, Train MAE: 0.5257\n",
      "Epoch 200 - Validation Loss: 1.5591, Validation MSE: 1.5612, Validation MAE: 0.9298\n"
     ]
    },
    {
     "name": "stderr",
     "output_type": "stream",
     "text": [
      "Training Epoch 202: 100%|██████████| 370/370 [00:01<00:00, 216.75it/s]\n",
      "Training Epoch 203: 100%|██████████| 370/370 [00:01<00:00, 221.29it/s]\n",
      "Training Epoch 204: 100%|██████████| 370/370 [00:01<00:00, 217.27it/s]\n",
      "Training Epoch 205: 100%|██████████| 370/370 [00:01<00:00, 213.88it/s]\n",
      "Training Epoch 206: 100%|██████████| 370/370 [00:01<00:00, 221.78it/s]\n",
      "Training Epoch 207: 100%|██████████| 370/370 [00:01<00:00, 227.71it/s]\n",
      "Training Epoch 208: 100%|██████████| 370/370 [00:01<00:00, 224.51it/s]\n",
      "Training Epoch 209: 100%|██████████| 370/370 [00:01<00:00, 217.14it/s]\n",
      "Training Epoch 210: 100%|██████████| 370/370 [00:01<00:00, 223.58it/s]\n",
      "Training Epoch 211: 100%|██████████| 370/370 [00:01<00:00, 223.14it/s]\n"
     ]
    },
    {
     "name": "stdout",
     "output_type": "stream",
     "text": [
      "Epoch 210 - Train Loss: 0.5531, Train MSE: 0.5531, Train MAE: 0.5190\n",
      "Epoch 210 - Validation Loss: 1.5411, Validation MSE: 1.5439, Validation MAE: 0.9282\n"
     ]
    },
    {
     "name": "stderr",
     "output_type": "stream",
     "text": [
      "Training Epoch 212: 100%|██████████| 370/370 [00:01<00:00, 217.37it/s]\n",
      "Training Epoch 213: 100%|██████████| 370/370 [00:01<00:00, 221.40it/s]\n",
      "Training Epoch 214: 100%|██████████| 370/370 [00:01<00:00, 205.84it/s]\n",
      "Training Epoch 215: 100%|██████████| 370/370 [00:01<00:00, 220.84it/s]\n",
      "Training Epoch 216: 100%|██████████| 370/370 [00:01<00:00, 221.65it/s]\n",
      "Training Epoch 217: 100%|██████████| 370/370 [00:01<00:00, 218.24it/s]\n",
      "Training Epoch 218: 100%|██████████| 370/370 [00:01<00:00, 225.33it/s]\n",
      "Training Epoch 219: 100%|██████████| 370/370 [00:01<00:00, 214.18it/s]\n",
      "Training Epoch 220: 100%|██████████| 370/370 [00:01<00:00, 215.40it/s]\n",
      "Training Epoch 221: 100%|██████████| 370/370 [00:01<00:00, 214.39it/s]\n"
     ]
    },
    {
     "name": "stdout",
     "output_type": "stream",
     "text": [
      "Epoch 220 - Train Loss: 0.5596, Train MSE: 0.5603, Train MAE: 0.5229\n",
      "Epoch 220 - Validation Loss: 1.5258, Validation MSE: 1.5278, Validation MAE: 0.9222\n"
     ]
    },
    {
     "name": "stderr",
     "output_type": "stream",
     "text": [
      "Training Epoch 222: 100%|██████████| 370/370 [00:01<00:00, 223.46it/s]\n",
      "Training Epoch 223: 100%|██████████| 370/370 [00:01<00:00, 213.93it/s]\n",
      "Training Epoch 224: 100%|██████████| 370/370 [00:01<00:00, 224.97it/s]\n",
      "Training Epoch 225: 100%|██████████| 370/370 [00:01<00:00, 221.28it/s]\n",
      "Training Epoch 226: 100%|██████████| 370/370 [00:01<00:00, 222.47it/s]\n",
      "Training Epoch 227: 100%|██████████| 370/370 [00:01<00:00, 222.91it/s]\n",
      "Training Epoch 228: 100%|██████████| 370/370 [00:01<00:00, 209.66it/s]\n",
      "Training Epoch 229: 100%|██████████| 370/370 [00:01<00:00, 229.50it/s]\n",
      "Training Epoch 230: 100%|██████████| 370/370 [00:01<00:00, 229.95it/s]\n",
      "Training Epoch 231: 100%|██████████| 370/370 [00:01<00:00, 224.75it/s]\n"
     ]
    },
    {
     "name": "stdout",
     "output_type": "stream",
     "text": [
      "Epoch 230 - Train Loss: 0.5582, Train MSE: 0.5591, Train MAE: 0.5206\n",
      "Epoch 230 - Validation Loss: 1.5276, Validation MSE: 1.5295, Validation MAE: 0.9337\n"
     ]
    },
    {
     "name": "stderr",
     "output_type": "stream",
     "text": [
      "Training Epoch 232: 100%|██████████| 370/370 [00:01<00:00, 219.36it/s]\n",
      "Training Epoch 233: 100%|██████████| 370/370 [00:01<00:00, 221.70it/s]\n",
      "Training Epoch 234: 100%|██████████| 370/370 [00:01<00:00, 224.27it/s]\n",
      "Training Epoch 235: 100%|██████████| 370/370 [00:01<00:00, 227.76it/s]\n",
      "Training Epoch 236: 100%|██████████| 370/370 [00:01<00:00, 223.44it/s]\n",
      "Training Epoch 237: 100%|██████████| 370/370 [00:01<00:00, 220.56it/s]\n",
      "Training Epoch 238: 100%|██████████| 370/370 [00:01<00:00, 228.16it/s]\n",
      "Training Epoch 239: 100%|██████████| 370/370 [00:01<00:00, 223.47it/s]\n",
      "Training Epoch 240: 100%|██████████| 370/370 [00:01<00:00, 223.01it/s]\n",
      "Training Epoch 241: 100%|██████████| 370/370 [00:01<00:00, 217.92it/s]\n"
     ]
    },
    {
     "name": "stdout",
     "output_type": "stream",
     "text": [
      "Epoch 240 - Train Loss: 0.5502, Train MSE: 0.5513, Train MAE: 0.5157\n",
      "Epoch 240 - Validation Loss: 1.4843, Validation MSE: 1.4866, Validation MAE: 0.9218\n"
     ]
    },
    {
     "name": "stderr",
     "output_type": "stream",
     "text": [
      "Training Epoch 242: 100%|██████████| 370/370 [00:01<00:00, 213.54it/s]\n",
      "Training Epoch 243: 100%|██████████| 370/370 [00:01<00:00, 228.29it/s]\n",
      "Training Epoch 244: 100%|██████████| 370/370 [00:01<00:00, 227.04it/s]\n",
      "Training Epoch 245: 100%|██████████| 370/370 [00:01<00:00, 228.75it/s]\n",
      "Training Epoch 246: 100%|██████████| 370/370 [00:01<00:00, 225.90it/s]\n",
      "Training Epoch 247: 100%|██████████| 370/370 [00:01<00:00, 226.09it/s]\n",
      "Training Epoch 248: 100%|██████████| 370/370 [00:01<00:00, 229.56it/s]\n",
      "Training Epoch 249: 100%|██████████| 370/370 [00:01<00:00, 231.25it/s]\n",
      "Training Epoch 250: 100%|██████████| 370/370 [00:01<00:00, 229.85it/s]\n",
      "Training Epoch 251: 100%|██████████| 370/370 [00:01<00:00, 221.30it/s]\n"
     ]
    },
    {
     "name": "stdout",
     "output_type": "stream",
     "text": [
      "Epoch 250 - Train Loss: 0.5491, Train MSE: 0.5497, Train MAE: 0.5131\n",
      "Epoch 250 - Validation Loss: 1.5157, Validation MSE: 1.5171, Validation MAE: 0.9243\n"
     ]
    },
    {
     "name": "stderr",
     "output_type": "stream",
     "text": [
      "Training Epoch 252: 100%|██████████| 370/370 [00:01<00:00, 225.64it/s]\n",
      "Training Epoch 253: 100%|██████████| 370/370 [00:01<00:00, 226.68it/s]\n",
      "Training Epoch 254: 100%|██████████| 370/370 [00:01<00:00, 227.74it/s]\n",
      "Training Epoch 255: 100%|██████████| 370/370 [00:01<00:00, 226.78it/s]\n",
      "Training Epoch 256: 100%|██████████| 370/370 [00:01<00:00, 219.68it/s]\n",
      "Training Epoch 257: 100%|██████████| 370/370 [00:01<00:00, 225.27it/s]\n",
      "Training Epoch 258: 100%|██████████| 370/370 [00:01<00:00, 227.72it/s]\n",
      "Training Epoch 259: 100%|██████████| 370/370 [00:01<00:00, 226.60it/s]\n",
      "Training Epoch 260: 100%|██████████| 370/370 [00:01<00:00, 233.01it/s]\n",
      "Training Epoch 261: 100%|██████████| 370/370 [00:01<00:00, 227.76it/s]\n"
     ]
    },
    {
     "name": "stdout",
     "output_type": "stream",
     "text": [
      "Epoch 260 - Train Loss: 0.5371, Train MSE: 0.5377, Train MAE: 0.5072\n",
      "Epoch 260 - Validation Loss: 1.5004, Validation MSE: 1.5011, Validation MAE: 0.9236\n"
     ]
    },
    {
     "name": "stderr",
     "output_type": "stream",
     "text": [
      "Training Epoch 262: 100%|██████████| 370/370 [00:01<00:00, 224.76it/s]\n",
      "Training Epoch 263: 100%|██████████| 370/370 [00:01<00:00, 222.55it/s]\n",
      "Training Epoch 264: 100%|██████████| 370/370 [00:01<00:00, 234.55it/s]\n",
      "Training Epoch 265: 100%|██████████| 370/370 [00:01<00:00, 232.08it/s]\n",
      "Training Epoch 266: 100%|██████████| 370/370 [00:01<00:00, 224.60it/s]\n",
      "Training Epoch 267: 100%|██████████| 370/370 [00:01<00:00, 225.81it/s]\n",
      "Training Epoch 268: 100%|██████████| 370/370 [00:01<00:00, 226.14it/s]\n",
      "Training Epoch 269: 100%|██████████| 370/370 [00:01<00:00, 232.32it/s]\n",
      "Training Epoch 270: 100%|██████████| 370/370 [00:01<00:00, 229.34it/s]\n",
      "Training Epoch 271: 100%|██████████| 370/370 [00:01<00:00, 229.06it/s]\n"
     ]
    },
    {
     "name": "stdout",
     "output_type": "stream",
     "text": [
      "Epoch 270 - Train Loss: 0.5333, Train MSE: 0.5341, Train MAE: 0.5057\n",
      "Epoch 270 - Validation Loss: 1.4642, Validation MSE: 1.4654, Validation MAE: 0.9139\n"
     ]
    },
    {
     "name": "stderr",
     "output_type": "stream",
     "text": [
      "Training Epoch 272: 100%|██████████| 370/370 [00:01<00:00, 224.37it/s]\n",
      "Training Epoch 273: 100%|██████████| 370/370 [00:01<00:00, 217.45it/s]\n",
      "Training Epoch 274: 100%|██████████| 370/370 [00:01<00:00, 222.65it/s]\n",
      "Training Epoch 275: 100%|██████████| 370/370 [00:01<00:00, 230.35it/s]\n",
      "Training Epoch 276: 100%|██████████| 370/370 [00:01<00:00, 228.50it/s]\n",
      "Training Epoch 277: 100%|██████████| 370/370 [00:01<00:00, 226.32it/s]\n",
      "Training Epoch 278: 100%|██████████| 370/370 [00:01<00:00, 223.00it/s]\n",
      "Training Epoch 279: 100%|██████████| 370/370 [00:01<00:00, 230.23it/s]\n",
      "Training Epoch 280: 100%|██████████| 370/370 [00:01<00:00, 232.78it/s]\n",
      "Training Epoch 281: 100%|██████████| 370/370 [00:01<00:00, 224.06it/s]\n"
     ]
    },
    {
     "name": "stdout",
     "output_type": "stream",
     "text": [
      "Epoch 280 - Train Loss: 0.5354, Train MSE: 0.5360, Train MAE: 0.5027\n",
      "Epoch 280 - Validation Loss: 1.4704, Validation MSE: 1.4717, Validation MAE: 0.9137\n"
     ]
    },
    {
     "name": "stderr",
     "output_type": "stream",
     "text": [
      "Training Epoch 282: 100%|██████████| 370/370 [00:01<00:00, 226.55it/s]\n",
      "Training Epoch 283: 100%|██████████| 370/370 [00:01<00:00, 223.92it/s]\n",
      "Training Epoch 284: 100%|██████████| 370/370 [00:01<00:00, 228.79it/s]\n",
      "Training Epoch 285: 100%|██████████| 370/370 [00:01<00:00, 233.01it/s]\n",
      "Training Epoch 286: 100%|██████████| 370/370 [00:01<00:00, 227.37it/s]\n",
      "Training Epoch 287: 100%|██████████| 370/370 [00:01<00:00, 227.77it/s]\n",
      "Training Epoch 288: 100%|██████████| 370/370 [00:01<00:00, 219.71it/s]\n",
      "Training Epoch 289: 100%|██████████| 370/370 [00:01<00:00, 230.42it/s]\n",
      "Training Epoch 290: 100%|██████████| 370/370 [00:01<00:00, 231.73it/s]\n",
      "Training Epoch 291: 100%|██████████| 370/370 [00:01<00:00, 238.18it/s]\n"
     ]
    },
    {
     "name": "stdout",
     "output_type": "stream",
     "text": [
      "Epoch 290 - Train Loss: 0.5247, Train MSE: 0.5246, Train MAE: 0.4968\n",
      "Epoch 290 - Validation Loss: 1.5388, Validation MSE: 1.5409, Validation MAE: 0.9315\n"
     ]
    },
    {
     "name": "stderr",
     "output_type": "stream",
     "text": [
      "Training Epoch 292: 100%|██████████| 370/370 [00:01<00:00, 211.08it/s]\n",
      "Training Epoch 293: 100%|██████████| 370/370 [00:01<00:00, 222.10it/s]\n",
      "Training Epoch 294: 100%|██████████| 370/370 [00:01<00:00, 228.28it/s]\n",
      "Training Epoch 295: 100%|██████████| 370/370 [00:01<00:00, 228.21it/s]\n",
      "Training Epoch 296: 100%|██████████| 370/370 [00:01<00:00, 226.15it/s]\n",
      "Training Epoch 297: 100%|██████████| 370/370 [00:01<00:00, 214.28it/s]\n",
      "Training Epoch 298: 100%|██████████| 370/370 [00:01<00:00, 228.12it/s]\n",
      "Training Epoch 299: 100%|██████████| 370/370 [00:01<00:00, 231.42it/s]\n",
      "Training Epoch 300: 100%|██████████| 370/370 [00:01<00:00, 241.32it/s]\n",
      "Training Epoch 301: 100%|██████████| 370/370 [00:01<00:00, 226.20it/s]\n"
     ]
    },
    {
     "name": "stdout",
     "output_type": "stream",
     "text": [
      "Epoch 300 - Train Loss: 0.5210, Train MSE: 0.5219, Train MAE: 0.4968\n",
      "Epoch 300 - Validation Loss: 1.5280, Validation MSE: 1.5302, Validation MAE: 0.9182\n"
     ]
    },
    {
     "name": "stderr",
     "output_type": "stream",
     "text": [
      "Training Epoch 302: 100%|██████████| 370/370 [00:01<00:00, 223.89it/s]\n",
      "Training Epoch 303: 100%|██████████| 370/370 [00:01<00:00, 222.43it/s]\n",
      "Training Epoch 304: 100%|██████████| 370/370 [00:01<00:00, 229.47it/s]\n",
      "Training Epoch 305: 100%|██████████| 370/370 [00:01<00:00, 234.16it/s]\n",
      "Training Epoch 306: 100%|██████████| 370/370 [00:01<00:00, 228.42it/s]\n",
      "Training Epoch 307: 100%|██████████| 370/370 [00:01<00:00, 222.60it/s]\n",
      "Training Epoch 308: 100%|██████████| 370/370 [00:01<00:00, 224.35it/s]\n",
      "Training Epoch 309: 100%|██████████| 370/370 [00:01<00:00, 225.66it/s]\n",
      "Training Epoch 310: 100%|██████████| 370/370 [00:01<00:00, 228.63it/s]\n",
      "Training Epoch 311: 100%|██████████| 370/370 [00:01<00:00, 229.29it/s]\n"
     ]
    },
    {
     "name": "stdout",
     "output_type": "stream",
     "text": [
      "Epoch 310 - Train Loss: 0.5271, Train MSE: 0.5265, Train MAE: 0.4958\n",
      "Epoch 310 - Validation Loss: 1.4674, Validation MSE: 1.4694, Validation MAE: 0.9124\n"
     ]
    },
    {
     "name": "stderr",
     "output_type": "stream",
     "text": [
      "Training Epoch 312: 100%|██████████| 370/370 [00:01<00:00, 224.25it/s]\n",
      "Training Epoch 313: 100%|██████████| 370/370 [00:01<00:00, 226.73it/s]\n",
      "Training Epoch 314: 100%|██████████| 370/370 [00:01<00:00, 226.79it/s]\n",
      "Training Epoch 315: 100%|██████████| 370/370 [00:01<00:00, 232.47it/s]\n",
      "Training Epoch 316: 100%|██████████| 370/370 [00:01<00:00, 232.46it/s]\n",
      "Training Epoch 317: 100%|██████████| 370/370 [00:01<00:00, 221.55it/s]\n",
      "Training Epoch 318: 100%|██████████| 370/370 [00:01<00:00, 218.65it/s]\n",
      "Training Epoch 319: 100%|██████████| 370/370 [00:01<00:00, 227.36it/s]\n",
      "Training Epoch 320: 100%|██████████| 370/370 [00:01<00:00, 232.58it/s]\n",
      "Training Epoch 321: 100%|██████████| 370/370 [00:01<00:00, 227.38it/s]\n"
     ]
    },
    {
     "name": "stdout",
     "output_type": "stream",
     "text": [
      "Epoch 320 - Train Loss: 0.5198, Train MSE: 0.5200, Train MAE: 0.4917\n",
      "Epoch 320 - Validation Loss: 1.4956, Validation MSE: 1.4976, Validation MAE: 0.9211\n"
     ]
    },
    {
     "name": "stderr",
     "output_type": "stream",
     "text": [
      "Training Epoch 322: 100%|██████████| 370/370 [00:01<00:00, 222.54it/s]\n",
      "Training Epoch 323: 100%|██████████| 370/370 [00:01<00:00, 217.53it/s]\n",
      "Training Epoch 324: 100%|██████████| 370/370 [00:01<00:00, 231.41it/s]\n",
      "Training Epoch 325: 100%|██████████| 370/370 [00:01<00:00, 218.28it/s]\n",
      "Training Epoch 326: 100%|██████████| 370/370 [00:01<00:00, 225.06it/s]\n",
      "Training Epoch 327: 100%|██████████| 370/370 [00:01<00:00, 210.16it/s]\n",
      "Training Epoch 328: 100%|██████████| 370/370 [00:01<00:00, 212.08it/s]\n",
      "Training Epoch 329: 100%|██████████| 370/370 [00:01<00:00, 225.10it/s]\n",
      "Training Epoch 330: 100%|██████████| 370/370 [00:01<00:00, 222.64it/s]\n",
      "Training Epoch 331: 100%|██████████| 370/370 [00:01<00:00, 219.81it/s]\n"
     ]
    },
    {
     "name": "stdout",
     "output_type": "stream",
     "text": [
      "Epoch 330 - Train Loss: 0.5237, Train MSE: 0.5229, Train MAE: 0.4915\n",
      "Epoch 330 - Validation Loss: 1.5226, Validation MSE: 1.5245, Validation MAE: 0.9175\n"
     ]
    },
    {
     "name": "stderr",
     "output_type": "stream",
     "text": [
      "Training Epoch 332: 100%|██████████| 370/370 [00:01<00:00, 205.84it/s]\n",
      "Training Epoch 333: 100%|██████████| 370/370 [00:01<00:00, 216.42it/s]\n",
      "Training Epoch 334: 100%|██████████| 370/370 [00:01<00:00, 228.43it/s]\n",
      "Training Epoch 335: 100%|██████████| 370/370 [00:01<00:00, 224.22it/s]\n",
      "Training Epoch 336: 100%|██████████| 370/370 [00:01<00:00, 219.15it/s]\n",
      "Training Epoch 337: 100%|██████████| 370/370 [00:01<00:00, 222.34it/s]\n",
      "Training Epoch 338: 100%|██████████| 370/370 [00:01<00:00, 224.20it/s]\n",
      "Training Epoch 339: 100%|██████████| 370/370 [00:01<00:00, 214.82it/s]\n",
      "Training Epoch 340: 100%|██████████| 370/370 [00:01<00:00, 220.50it/s]\n",
      "Training Epoch 341: 100%|██████████| 370/370 [00:01<00:00, 214.37it/s]\n"
     ]
    },
    {
     "name": "stdout",
     "output_type": "stream",
     "text": [
      "Epoch 340 - Train Loss: 0.5078, Train MSE: 0.5087, Train MAE: 0.4852\n",
      "Epoch 340 - Validation Loss: 1.5276, Validation MSE: 1.5291, Validation MAE: 0.9231\n"
     ]
    },
    {
     "name": "stderr",
     "output_type": "stream",
     "text": [
      "Training Epoch 342: 100%|██████████| 370/370 [00:01<00:00, 215.26it/s]\n",
      "Training Epoch 343: 100%|██████████| 370/370 [00:01<00:00, 214.71it/s]\n",
      "Training Epoch 344: 100%|██████████| 370/370 [00:01<00:00, 216.13it/s]\n",
      "Training Epoch 345: 100%|██████████| 370/370 [00:01<00:00, 220.77it/s]\n",
      "Training Epoch 346: 100%|██████████| 370/370 [00:01<00:00, 210.99it/s]\n",
      "Training Epoch 347: 100%|██████████| 370/370 [00:01<00:00, 216.73it/s]\n",
      "Training Epoch 348: 100%|██████████| 370/370 [00:01<00:00, 207.91it/s]\n",
      "Training Epoch 349: 100%|██████████| 370/370 [00:01<00:00, 223.81it/s]\n",
      "Training Epoch 350: 100%|██████████| 370/370 [00:01<00:00, 217.39it/s]\n",
      "Training Epoch 351: 100%|██████████| 370/370 [00:01<00:00, 216.81it/s]\n"
     ]
    },
    {
     "name": "stdout",
     "output_type": "stream",
     "text": [
      "Epoch 350 - Train Loss: 0.5182, Train MSE: 0.5189, Train MAE: 0.4878\n",
      "Epoch 350 - Validation Loss: 1.5708, Validation MSE: 1.5727, Validation MAE: 0.9328\n"
     ]
    },
    {
     "name": "stderr",
     "output_type": "stream",
     "text": [
      "Training Epoch 352: 100%|██████████| 370/370 [00:01<00:00, 228.37it/s]\n",
      "Training Epoch 353: 100%|██████████| 370/370 [00:01<00:00, 229.98it/s]\n",
      "Training Epoch 354: 100%|██████████| 370/370 [00:01<00:00, 224.07it/s]\n",
      "Training Epoch 355: 100%|██████████| 370/370 [00:01<00:00, 222.93it/s]\n",
      "Training Epoch 356: 100%|██████████| 370/370 [00:01<00:00, 227.26it/s]\n",
      "Training Epoch 357: 100%|██████████| 370/370 [00:01<00:00, 226.68it/s]\n",
      "Training Epoch 358: 100%|██████████| 370/370 [00:01<00:00, 230.91it/s]\n",
      "Training Epoch 359: 100%|██████████| 370/370 [00:01<00:00, 228.77it/s]\n",
      "Training Epoch 360: 100%|██████████| 370/370 [00:01<00:00, 225.41it/s]\n",
      "Training Epoch 361: 100%|██████████| 370/370 [00:01<00:00, 225.46it/s]\n"
     ]
    },
    {
     "name": "stdout",
     "output_type": "stream",
     "text": [
      "Epoch 360 - Train Loss: 0.5112, Train MSE: 0.5115, Train MAE: 0.4874\n",
      "Epoch 360 - Validation Loss: 1.4728, Validation MSE: 1.4742, Validation MAE: 0.9090\n"
     ]
    },
    {
     "name": "stderr",
     "output_type": "stream",
     "text": [
      "Training Epoch 362: 100%|██████████| 370/370 [00:01<00:00, 231.60it/s]\n",
      "Training Epoch 363: 100%|██████████| 370/370 [00:01<00:00, 240.62it/s]\n",
      "Training Epoch 364: 100%|██████████| 370/370 [00:01<00:00, 235.37it/s]\n",
      "Training Epoch 365: 100%|██████████| 370/370 [00:01<00:00, 226.20it/s]\n",
      "Training Epoch 366: 100%|██████████| 370/370 [00:01<00:00, 217.98it/s]\n",
      "Training Epoch 367: 100%|██████████| 370/370 [00:01<00:00, 225.73it/s]\n",
      "Training Epoch 368: 100%|██████████| 370/370 [00:01<00:00, 205.00it/s]\n",
      "Training Epoch 369: 100%|██████████| 370/370 [00:01<00:00, 224.40it/s]\n",
      "Training Epoch 370: 100%|██████████| 370/370 [00:01<00:00, 209.20it/s]\n",
      "Training Epoch 371: 100%|██████████| 370/370 [00:01<00:00, 212.59it/s]\n"
     ]
    },
    {
     "name": "stdout",
     "output_type": "stream",
     "text": [
      "Epoch 370 - Train Loss: 0.5052, Train MSE: 0.5059, Train MAE: 0.4816\n",
      "Epoch 370 - Validation Loss: 1.5101, Validation MSE: 1.5126, Validation MAE: 0.9227\n"
     ]
    },
    {
     "name": "stderr",
     "output_type": "stream",
     "text": [
      "Training Epoch 372: 100%|██████████| 370/370 [00:01<00:00, 212.41it/s]\n",
      "Training Epoch 373: 100%|██████████| 370/370 [00:01<00:00, 220.51it/s]\n",
      "Training Epoch 374: 100%|██████████| 370/370 [00:01<00:00, 219.47it/s]\n",
      "Training Epoch 375: 100%|██████████| 370/370 [00:01<00:00, 221.42it/s]\n",
      "Training Epoch 376: 100%|██████████| 370/370 [00:01<00:00, 223.48it/s]\n",
      "Training Epoch 377: 100%|██████████| 370/370 [00:01<00:00, 214.38it/s]\n",
      "Training Epoch 378: 100%|██████████| 370/370 [00:01<00:00, 225.81it/s]\n",
      "Training Epoch 379: 100%|██████████| 370/370 [00:01<00:00, 231.52it/s]\n",
      "Training Epoch 380: 100%|██████████| 370/370 [00:01<00:00, 234.85it/s]\n",
      "Training Epoch 381: 100%|██████████| 370/370 [00:01<00:00, 226.39it/s]\n"
     ]
    },
    {
     "name": "stdout",
     "output_type": "stream",
     "text": [
      "Epoch 380 - Train Loss: 0.5097, Train MSE: 0.5102, Train MAE: 0.4829\n",
      "Epoch 380 - Validation Loss: 1.4745, Validation MSE: 1.4753, Validation MAE: 0.9101\n"
     ]
    },
    {
     "name": "stderr",
     "output_type": "stream",
     "text": [
      "Training Epoch 382: 100%|██████████| 370/370 [00:01<00:00, 229.80it/s]\n",
      "Training Epoch 383: 100%|██████████| 370/370 [00:01<00:00, 232.64it/s]\n",
      "Training Epoch 384: 100%|██████████| 370/370 [00:01<00:00, 228.47it/s]\n",
      "Training Epoch 385: 100%|██████████| 370/370 [00:01<00:00, 229.70it/s]\n",
      "Training Epoch 386: 100%|██████████| 370/370 [00:01<00:00, 231.46it/s]\n",
      "Training Epoch 387: 100%|██████████| 370/370 [00:01<00:00, 226.77it/s]\n",
      "Training Epoch 388: 100%|██████████| 370/370 [00:01<00:00, 225.02it/s]\n",
      "Training Epoch 389: 100%|██████████| 370/370 [00:01<00:00, 222.31it/s]\n",
      "Training Epoch 390: 100%|██████████| 370/370 [00:01<00:00, 232.82it/s]\n",
      "Training Epoch 391: 100%|██████████| 370/370 [00:01<00:00, 236.16it/s]\n"
     ]
    },
    {
     "name": "stdout",
     "output_type": "stream",
     "text": [
      "Epoch 390 - Train Loss: 0.5011, Train MSE: 0.5017, Train MAE: 0.4821\n",
      "Epoch 390 - Validation Loss: 1.5417, Validation MSE: 1.5441, Validation MAE: 0.9246\n"
     ]
    },
    {
     "name": "stderr",
     "output_type": "stream",
     "text": [
      "Training Epoch 392: 100%|██████████| 370/370 [00:01<00:00, 225.05it/s]\n",
      "Training Epoch 393: 100%|██████████| 370/370 [00:01<00:00, 226.80it/s]\n",
      "Training Epoch 394: 100%|██████████| 370/370 [00:01<00:00, 224.40it/s]\n",
      "Training Epoch 395: 100%|██████████| 370/370 [00:01<00:00, 232.78it/s]\n",
      "Training Epoch 396: 100%|██████████| 370/370 [00:01<00:00, 227.78it/s]\n",
      "Training Epoch 397: 100%|██████████| 370/370 [00:01<00:00, 223.94it/s]\n",
      "Training Epoch 398: 100%|██████████| 370/370 [00:01<00:00, 221.94it/s]\n",
      "Training Epoch 399: 100%|██████████| 370/370 [00:01<00:00, 224.67it/s]\n",
      "Training Epoch 400: 100%|██████████| 370/370 [00:01<00:00, 204.35it/s]\n",
      "Training Epoch 401: 100%|██████████| 370/370 [00:01<00:00, 224.90it/s]\n"
     ]
    },
    {
     "name": "stdout",
     "output_type": "stream",
     "text": [
      "Epoch 400 - Train Loss: 0.4995, Train MSE: 0.4989, Train MAE: 0.4760\n",
      "Epoch 400 - Validation Loss: 1.5284, Validation MSE: 1.5299, Validation MAE: 0.9209\n"
     ]
    },
    {
     "name": "stderr",
     "output_type": "stream",
     "text": [
      "Training Epoch 402: 100%|██████████| 370/370 [00:01<00:00, 224.27it/s]\n",
      "Training Epoch 403: 100%|██████████| 370/370 [00:01<00:00, 227.03it/s]\n",
      "Training Epoch 404: 100%|██████████| 370/370 [00:01<00:00, 211.54it/s]\n",
      "Training Epoch 405: 100%|██████████| 370/370 [00:01<00:00, 219.65it/s]\n",
      "Training Epoch 406: 100%|██████████| 370/370 [00:01<00:00, 222.25it/s]\n",
      "Training Epoch 407: 100%|██████████| 370/370 [00:01<00:00, 229.83it/s]\n",
      "Training Epoch 408: 100%|██████████| 370/370 [00:01<00:00, 231.92it/s]\n",
      "Training Epoch 409: 100%|██████████| 370/370 [00:01<00:00, 224.63it/s]\n",
      "Training Epoch 410: 100%|██████████| 370/370 [00:01<00:00, 226.36it/s]\n",
      "Training Epoch 411: 100%|██████████| 370/370 [00:01<00:00, 221.95it/s]\n"
     ]
    },
    {
     "name": "stdout",
     "output_type": "stream",
     "text": [
      "Epoch 410 - Train Loss: 0.4941, Train MSE: 0.4923, Train MAE: 0.4732\n",
      "Epoch 410 - Validation Loss: 1.5316, Validation MSE: 1.5339, Validation MAE: 0.9294\n"
     ]
    },
    {
     "name": "stderr",
     "output_type": "stream",
     "text": [
      "Training Epoch 412: 100%|██████████| 370/370 [00:01<00:00, 228.34it/s]\n",
      "Training Epoch 413: 100%|██████████| 370/370 [00:01<00:00, 223.45it/s]\n",
      "Training Epoch 414: 100%|██████████| 370/370 [00:01<00:00, 198.41it/s]\n",
      "Training Epoch 415: 100%|██████████| 370/370 [00:01<00:00, 212.02it/s]\n",
      "Training Epoch 416: 100%|██████████| 370/370 [00:01<00:00, 221.45it/s]\n",
      "Training Epoch 417: 100%|██████████| 370/370 [00:01<00:00, 228.06it/s]\n",
      "Training Epoch 418: 100%|██████████| 370/370 [00:01<00:00, 226.53it/s]\n",
      "Training Epoch 419: 100%|██████████| 370/370 [00:01<00:00, 233.41it/s]\n",
      "Training Epoch 420: 100%|██████████| 370/370 [00:01<00:00, 235.32it/s]\n",
      "Training Epoch 421: 100%|██████████| 370/370 [00:01<00:00, 222.23it/s]\n"
     ]
    },
    {
     "name": "stdout",
     "output_type": "stream",
     "text": [
      "Epoch 420 - Train Loss: 0.5019, Train MSE: 0.5026, Train MAE: 0.4794\n",
      "Epoch 420 - Validation Loss: 1.5238, Validation MSE: 1.5251, Validation MAE: 0.9231\n"
     ]
    },
    {
     "name": "stderr",
     "output_type": "stream",
     "text": [
      "Training Epoch 422: 100%|██████████| 370/370 [00:01<00:00, 226.73it/s]\n",
      "Training Epoch 423: 100%|██████████| 370/370 [00:01<00:00, 226.22it/s]\n",
      "Training Epoch 424: 100%|██████████| 370/370 [00:01<00:00, 225.91it/s]\n",
      "Training Epoch 425: 100%|██████████| 370/370 [00:01<00:00, 231.40it/s]\n",
      "Training Epoch 426: 100%|██████████| 370/370 [00:01<00:00, 214.59it/s]\n",
      "Training Epoch 427: 100%|██████████| 370/370 [00:01<00:00, 222.15it/s]\n",
      "Training Epoch 428: 100%|██████████| 370/370 [00:01<00:00, 220.35it/s]\n",
      "Training Epoch 429: 100%|██████████| 370/370 [00:01<00:00, 216.23it/s]\n",
      "Training Epoch 430: 100%|██████████| 370/370 [00:01<00:00, 232.51it/s]\n",
      "Training Epoch 431: 100%|██████████| 370/370 [00:01<00:00, 228.80it/s]\n"
     ]
    },
    {
     "name": "stdout",
     "output_type": "stream",
     "text": [
      "Epoch 430 - Train Loss: 0.4834, Train MSE: 0.4844, Train MAE: 0.4693\n",
      "Epoch 430 - Validation Loss: 1.5176, Validation MSE: 1.5194, Validation MAE: 0.9171\n"
     ]
    },
    {
     "name": "stderr",
     "output_type": "stream",
     "text": [
      "Training Epoch 432: 100%|██████████| 370/370 [00:01<00:00, 229.82it/s]\n",
      "Training Epoch 433: 100%|██████████| 370/370 [00:01<00:00, 227.06it/s]\n",
      "Training Epoch 434: 100%|██████████| 370/370 [00:01<00:00, 227.03it/s]\n",
      "Training Epoch 435: 100%|██████████| 370/370 [00:01<00:00, 196.85it/s]\n",
      "Training Epoch 436: 100%|██████████| 370/370 [00:01<00:00, 214.00it/s]\n",
      "Training Epoch 437: 100%|██████████| 370/370 [00:01<00:00, 236.70it/s]\n",
      "Training Epoch 438: 100%|██████████| 370/370 [00:01<00:00, 230.10it/s]\n",
      "Training Epoch 439: 100%|██████████| 370/370 [00:01<00:00, 234.56it/s]\n",
      "Training Epoch 440: 100%|██████████| 370/370 [00:01<00:00, 221.59it/s]\n",
      "Training Epoch 441: 100%|██████████| 370/370 [00:01<00:00, 215.11it/s]\n"
     ]
    },
    {
     "name": "stdout",
     "output_type": "stream",
     "text": [
      "Epoch 440 - Train Loss: 0.4888, Train MSE: 0.4898, Train MAE: 0.4699\n",
      "Epoch 440 - Validation Loss: 1.5265, Validation MSE: 1.5280, Validation MAE: 0.9138\n"
     ]
    },
    {
     "name": "stderr",
     "output_type": "stream",
     "text": [
      "Training Epoch 442: 100%|██████████| 370/370 [00:01<00:00, 230.09it/s]\n",
      "Training Epoch 443: 100%|██████████| 370/370 [00:01<00:00, 224.02it/s]\n",
      "Training Epoch 444: 100%|██████████| 370/370 [00:01<00:00, 213.08it/s]\n",
      "Training Epoch 445: 100%|██████████| 370/370 [00:01<00:00, 214.84it/s]\n",
      "Training Epoch 446: 100%|██████████| 370/370 [00:01<00:00, 224.81it/s]\n",
      "Training Epoch 447: 100%|██████████| 370/370 [00:01<00:00, 224.38it/s]\n",
      "Training Epoch 448: 100%|██████████| 370/370 [00:01<00:00, 228.92it/s]\n",
      "Training Epoch 449: 100%|██████████| 370/370 [00:01<00:00, 220.52it/s]\n",
      "Training Epoch 450: 100%|██████████| 370/370 [00:01<00:00, 229.85it/s]\n",
      "Training Epoch 451: 100%|██████████| 370/370 [00:01<00:00, 226.94it/s]\n"
     ]
    },
    {
     "name": "stdout",
     "output_type": "stream",
     "text": [
      "Epoch 450 - Train Loss: 0.4862, Train MSE: 0.4872, Train MAE: 0.4685\n",
      "Epoch 450 - Validation Loss: 1.5102, Validation MSE: 1.5121, Validation MAE: 0.9150\n"
     ]
    },
    {
     "name": "stderr",
     "output_type": "stream",
     "text": [
      "Training Epoch 452: 100%|██████████| 370/370 [00:01<00:00, 220.24it/s]\n",
      "Training Epoch 453: 100%|██████████| 370/370 [00:01<00:00, 221.82it/s]\n",
      "Training Epoch 454: 100%|██████████| 370/370 [00:01<00:00, 219.06it/s]\n",
      "Training Epoch 455: 100%|██████████| 370/370 [00:01<00:00, 207.82it/s]\n",
      "Training Epoch 456: 100%|██████████| 370/370 [00:01<00:00, 199.24it/s]\n",
      "Training Epoch 457: 100%|██████████| 370/370 [00:01<00:00, 204.86it/s]\n",
      "Training Epoch 458: 100%|██████████| 370/370 [00:01<00:00, 221.60it/s]\n",
      "Training Epoch 459: 100%|██████████| 370/370 [00:01<00:00, 225.34it/s]\n",
      "Training Epoch 460: 100%|██████████| 370/370 [00:01<00:00, 225.02it/s]\n",
      "Training Epoch 461: 100%|██████████| 370/370 [00:01<00:00, 224.08it/s]\n"
     ]
    },
    {
     "name": "stdout",
     "output_type": "stream",
     "text": [
      "Epoch 460 - Train Loss: 0.4819, Train MSE: 0.4826, Train MAE: 0.4676\n",
      "Epoch 460 - Validation Loss: 1.4987, Validation MSE: 1.4997, Validation MAE: 0.9151\n"
     ]
    },
    {
     "name": "stderr",
     "output_type": "stream",
     "text": [
      "Training Epoch 462: 100%|██████████| 370/370 [00:01<00:00, 226.32it/s]\n",
      "Training Epoch 463: 100%|██████████| 370/370 [00:01<00:00, 212.35it/s]\n",
      "Training Epoch 464: 100%|██████████| 370/370 [00:01<00:00, 224.64it/s]\n",
      "Training Epoch 465: 100%|██████████| 370/370 [00:01<00:00, 218.35it/s]\n",
      "Training Epoch 466: 100%|██████████| 370/370 [00:01<00:00, 228.77it/s]\n",
      "Training Epoch 467: 100%|██████████| 370/370 [00:01<00:00, 227.66it/s]\n",
      "Training Epoch 468: 100%|██████████| 370/370 [00:01<00:00, 224.25it/s]\n",
      "Training Epoch 469: 100%|██████████| 370/370 [00:01<00:00, 234.56it/s]\n",
      "Training Epoch 470: 100%|██████████| 370/370 [00:01<00:00, 227.81it/s]\n",
      "Training Epoch 471: 100%|██████████| 370/370 [00:01<00:00, 227.94it/s]\n"
     ]
    },
    {
     "name": "stdout",
     "output_type": "stream",
     "text": [
      "Epoch 470 - Train Loss: 0.4789, Train MSE: 0.4788, Train MAE: 0.4669\n",
      "Epoch 470 - Validation Loss: 1.5249, Validation MSE: 1.5263, Validation MAE: 0.9202\n"
     ]
    },
    {
     "name": "stderr",
     "output_type": "stream",
     "text": [
      "Training Epoch 472: 100%|██████████| 370/370 [00:01<00:00, 230.04it/s]\n",
      "Training Epoch 473: 100%|██████████| 370/370 [00:01<00:00, 232.32it/s]\n",
      "Training Epoch 474: 100%|██████████| 370/370 [00:01<00:00, 232.07it/s]\n",
      "Training Epoch 475: 100%|██████████| 370/370 [00:01<00:00, 229.83it/s]\n",
      "Training Epoch 476: 100%|██████████| 370/370 [00:01<00:00, 226.42it/s]\n",
      "Training Epoch 477: 100%|██████████| 370/370 [00:01<00:00, 213.35it/s]\n",
      "Training Epoch 478: 100%|██████████| 370/370 [00:01<00:00, 231.96it/s]\n",
      "Training Epoch 479: 100%|██████████| 370/370 [00:01<00:00, 235.78it/s]\n",
      "Training Epoch 480: 100%|██████████| 370/370 [00:01<00:00, 234.02it/s]\n",
      "Training Epoch 481: 100%|██████████| 370/370 [00:01<00:00, 223.62it/s]\n"
     ]
    },
    {
     "name": "stdout",
     "output_type": "stream",
     "text": [
      "Epoch 480 - Train Loss: 0.4829, Train MSE: 0.4833, Train MAE: 0.4659\n",
      "Epoch 480 - Validation Loss: 1.5558, Validation MSE: 1.5581, Validation MAE: 0.9292\n"
     ]
    },
    {
     "name": "stderr",
     "output_type": "stream",
     "text": [
      "Training Epoch 482: 100%|██████████| 370/370 [00:01<00:00, 227.23it/s]\n",
      "Training Epoch 483: 100%|██████████| 370/370 [00:01<00:00, 232.00it/s]\n",
      "Training Epoch 484: 100%|██████████| 370/370 [00:01<00:00, 226.24it/s]\n",
      "Training Epoch 485: 100%|██████████| 370/370 [00:01<00:00, 230.16it/s]\n",
      "Training Epoch 486: 100%|██████████| 370/370 [00:01<00:00, 228.37it/s]\n",
      "Training Epoch 487: 100%|██████████| 370/370 [00:01<00:00, 232.93it/s]\n",
      "Training Epoch 488: 100%|██████████| 370/370 [00:01<00:00, 232.08it/s]\n",
      "Training Epoch 489: 100%|██████████| 370/370 [00:01<00:00, 234.17it/s]\n",
      "Training Epoch 490: 100%|██████████| 370/370 [00:01<00:00, 228.01it/s]\n",
      "Training Epoch 491: 100%|██████████| 370/370 [00:01<00:00, 230.66it/s]\n"
     ]
    },
    {
     "name": "stdout",
     "output_type": "stream",
     "text": [
      "Epoch 490 - Train Loss: 0.4725, Train MSE: 0.4734, Train MAE: 0.4606\n",
      "Epoch 490 - Validation Loss: 1.5131, Validation MSE: 1.5143, Validation MAE: 0.9241\n"
     ]
    },
    {
     "name": "stderr",
     "output_type": "stream",
     "text": [
      "Training Epoch 492: 100%|██████████| 370/370 [00:01<00:00, 234.83it/s]\n",
      "Training Epoch 493: 100%|██████████| 370/370 [00:01<00:00, 238.03it/s]\n",
      "Training Epoch 494: 100%|██████████| 370/370 [00:01<00:00, 231.91it/s]\n",
      "Training Epoch 495: 100%|██████████| 370/370 [00:01<00:00, 225.09it/s]\n",
      "Training Epoch 496: 100%|██████████| 370/370 [00:01<00:00, 230.69it/s]\n",
      "Training Epoch 497: 100%|██████████| 370/370 [00:01<00:00, 233.01it/s]\n",
      "Training Epoch 498: 100%|██████████| 370/370 [00:01<00:00, 229.16it/s]\n",
      "Training Epoch 499: 100%|██████████| 370/370 [00:01<00:00, 230.26it/s]\n",
      "Training Epoch 500: 100%|██████████| 370/370 [00:01<00:00, 228.84it/s]\n",
      "Training Epoch 501: 100%|██████████| 370/370 [00:01<00:00, 231.35it/s]\n"
     ]
    },
    {
     "name": "stdout",
     "output_type": "stream",
     "text": [
      "Epoch 500 - Train Loss: 0.4751, Train MSE: 0.4759, Train MAE: 0.4623\n",
      "Epoch 500 - Validation Loss: 1.5097, Validation MSE: 1.5107, Validation MAE: 0.9160\n"
     ]
    },
    {
     "name": "stderr",
     "output_type": "stream",
     "text": [
      "Training Epoch 502: 100%|██████████| 370/370 [00:01<00:00, 227.96it/s]\n",
      "Training Epoch 503: 100%|██████████| 370/370 [00:01<00:00, 234.35it/s]\n",
      "Training Epoch 504: 100%|██████████| 370/370 [00:01<00:00, 214.63it/s]\n",
      "Training Epoch 505: 100%|██████████| 370/370 [00:01<00:00, 230.62it/s]\n",
      "Training Epoch 506: 100%|██████████| 370/370 [00:01<00:00, 230.51it/s]\n",
      "Training Epoch 507: 100%|██████████| 370/370 [00:01<00:00, 238.54it/s]\n",
      "Training Epoch 508: 100%|██████████| 370/370 [00:01<00:00, 231.32it/s]\n",
      "Training Epoch 509: 100%|██████████| 370/370 [00:01<00:00, 228.32it/s]\n",
      "Training Epoch 510: 100%|██████████| 370/370 [00:01<00:00, 229.90it/s]\n",
      "Training Epoch 511: 100%|██████████| 370/370 [00:01<00:00, 234.59it/s]\n"
     ]
    },
    {
     "name": "stdout",
     "output_type": "stream",
     "text": [
      "Epoch 510 - Train Loss: 0.4696, Train MSE: 0.4701, Train MAE: 0.4602\n",
      "Epoch 510 - Validation Loss: 1.5068, Validation MSE: 1.5083, Validation MAE: 0.9204\n"
     ]
    },
    {
     "name": "stderr",
     "output_type": "stream",
     "text": [
      "Training Epoch 512: 100%|██████████| 370/370 [00:01<00:00, 227.31it/s]\n",
      "Training Epoch 513: 100%|██████████| 370/370 [00:01<00:00, 227.47it/s]\n",
      "Training Epoch 514: 100%|██████████| 370/370 [00:01<00:00, 227.82it/s]\n",
      "Training Epoch 515: 100%|██████████| 370/370 [00:01<00:00, 234.89it/s]\n",
      "Training Epoch 516: 100%|██████████| 370/370 [00:01<00:00, 229.04it/s]\n",
      "Training Epoch 517: 100%|██████████| 370/370 [00:01<00:00, 229.71it/s]\n",
      "Training Epoch 518: 100%|██████████| 370/370 [00:01<00:00, 229.43it/s]\n",
      "Training Epoch 519: 100%|██████████| 370/370 [00:01<00:00, 227.11it/s]\n",
      "Training Epoch 520: 100%|██████████| 370/370 [00:01<00:00, 230.53it/s]\n",
      "Training Epoch 521: 100%|██████████| 370/370 [00:01<00:00, 230.00it/s]\n"
     ]
    },
    {
     "name": "stdout",
     "output_type": "stream",
     "text": [
      "Epoch 520 - Train Loss: 0.4748, Train MSE: 0.4730, Train MAE: 0.4599\n",
      "Epoch 520 - Validation Loss: 1.4970, Validation MSE: 1.4985, Validation MAE: 0.9093\n"
     ]
    },
    {
     "name": "stderr",
     "output_type": "stream",
     "text": [
      "Training Epoch 522: 100%|██████████| 370/370 [00:01<00:00, 237.73it/s]\n",
      "Training Epoch 523: 100%|██████████| 370/370 [00:01<00:00, 222.48it/s]\n",
      "Training Epoch 524: 100%|██████████| 370/370 [00:01<00:00, 230.40it/s]\n",
      "Training Epoch 525: 100%|██████████| 370/370 [00:01<00:00, 228.30it/s]\n",
      "Training Epoch 526: 100%|██████████| 370/370 [00:01<00:00, 231.69it/s]\n",
      "Training Epoch 527: 100%|██████████| 370/370 [00:01<00:00, 234.42it/s]\n",
      "Training Epoch 528: 100%|██████████| 370/370 [00:01<00:00, 233.44it/s]\n",
      "Training Epoch 529: 100%|██████████| 370/370 [00:01<00:00, 225.77it/s]\n",
      "Training Epoch 530: 100%|██████████| 370/370 [00:01<00:00, 225.45it/s]\n",
      "Training Epoch 531: 100%|██████████| 370/370 [00:01<00:00, 230.28it/s]\n"
     ]
    },
    {
     "name": "stdout",
     "output_type": "stream",
     "text": [
      "Epoch 530 - Train Loss: 0.4732, Train MSE: 0.4734, Train MAE: 0.4593\n",
      "Epoch 530 - Validation Loss: 1.4674, Validation MSE: 1.4697, Validation MAE: 0.9079\n"
     ]
    },
    {
     "name": "stderr",
     "output_type": "stream",
     "text": [
      "Training Epoch 532: 100%|██████████| 370/370 [00:01<00:00, 228.14it/s]\n",
      "Training Epoch 533: 100%|██████████| 370/370 [00:01<00:00, 224.96it/s]\n",
      "Training Epoch 534: 100%|██████████| 370/370 [00:01<00:00, 224.67it/s]\n",
      "Training Epoch 535: 100%|██████████| 370/370 [00:01<00:00, 216.32it/s]\n",
      "Training Epoch 536: 100%|██████████| 370/370 [00:01<00:00, 221.56it/s]\n",
      "Training Epoch 537: 100%|██████████| 370/370 [00:01<00:00, 227.21it/s]\n",
      "Training Epoch 538: 100%|██████████| 370/370 [00:01<00:00, 227.43it/s]\n",
      "Training Epoch 539: 100%|██████████| 370/370 [00:01<00:00, 201.29it/s]\n",
      "Training Epoch 540: 100%|██████████| 370/370 [00:01<00:00, 221.14it/s]\n",
      "Training Epoch 541: 100%|██████████| 370/370 [00:01<00:00, 220.28it/s]\n"
     ]
    },
    {
     "name": "stdout",
     "output_type": "stream",
     "text": [
      "Epoch 540 - Train Loss: 0.4813, Train MSE: 0.4816, Train MAE: 0.4624\n",
      "Epoch 540 - Validation Loss: 1.4979, Validation MSE: 1.4994, Validation MAE: 0.9128\n"
     ]
    },
    {
     "name": "stderr",
     "output_type": "stream",
     "text": [
      "Training Epoch 542: 100%|██████████| 370/370 [00:01<00:00, 215.81it/s]\n",
      "Training Epoch 543: 100%|██████████| 370/370 [00:01<00:00, 191.48it/s]\n",
      "Training Epoch 544: 100%|██████████| 370/370 [00:01<00:00, 229.04it/s]\n",
      "Training Epoch 545: 100%|██████████| 370/370 [00:01<00:00, 219.05it/s]\n",
      "Training Epoch 546: 100%|██████████| 370/370 [00:01<00:00, 222.91it/s]\n",
      "Training Epoch 547: 100%|██████████| 370/370 [00:01<00:00, 228.49it/s]\n",
      "Training Epoch 548: 100%|██████████| 370/370 [00:01<00:00, 218.32it/s]\n",
      "Training Epoch 549: 100%|██████████| 370/370 [00:01<00:00, 214.84it/s]\n",
      "Training Epoch 550: 100%|██████████| 370/370 [00:01<00:00, 227.28it/s]\n",
      "Training Epoch 551: 100%|██████████| 370/370 [00:01<00:00, 223.80it/s]\n"
     ]
    },
    {
     "name": "stdout",
     "output_type": "stream",
     "text": [
      "Epoch 550 - Train Loss: 0.4810, Train MSE: 0.4774, Train MAE: 0.4632\n",
      "Epoch 550 - Validation Loss: 1.4572, Validation MSE: 1.4587, Validation MAE: 0.9032\n"
     ]
    },
    {
     "name": "stderr",
     "output_type": "stream",
     "text": [
      "Training Epoch 552: 100%|██████████| 370/370 [00:01<00:00, 221.72it/s]\n",
      "Training Epoch 553: 100%|██████████| 370/370 [00:01<00:00, 220.51it/s]\n",
      "Training Epoch 554: 100%|██████████| 370/370 [00:01<00:00, 217.29it/s]\n",
      "Training Epoch 555: 100%|██████████| 370/370 [00:01<00:00, 226.82it/s]\n",
      "Training Epoch 556: 100%|██████████| 370/370 [00:01<00:00, 225.25it/s]\n",
      "Training Epoch 557: 100%|██████████| 370/370 [00:01<00:00, 221.49it/s]\n",
      "Training Epoch 558: 100%|██████████| 370/370 [00:01<00:00, 209.45it/s]\n",
      "Training Epoch 559: 100%|██████████| 370/370 [00:01<00:00, 221.17it/s]\n",
      "Training Epoch 560: 100%|██████████| 370/370 [00:01<00:00, 221.99it/s]\n",
      "Training Epoch 561: 100%|██████████| 370/370 [00:01<00:00, 226.60it/s]\n"
     ]
    },
    {
     "name": "stdout",
     "output_type": "stream",
     "text": [
      "Epoch 560 - Train Loss: 0.4700, Train MSE: 0.4694, Train MAE: 0.4587\n",
      "Epoch 560 - Validation Loss: 1.5501, Validation MSE: 1.5515, Validation MAE: 0.9237\n"
     ]
    },
    {
     "name": "stderr",
     "output_type": "stream",
     "text": [
      "Training Epoch 562: 100%|██████████| 370/370 [00:01<00:00, 216.85it/s]\n",
      "Training Epoch 563: 100%|██████████| 370/370 [00:01<00:00, 211.88it/s]\n",
      "Training Epoch 564: 100%|██████████| 370/370 [00:01<00:00, 214.92it/s]\n",
      "Training Epoch 565: 100%|██████████| 370/370 [00:01<00:00, 220.39it/s]\n",
      "Training Epoch 566: 100%|██████████| 370/370 [00:01<00:00, 216.74it/s]\n",
      "Training Epoch 567: 100%|██████████| 370/370 [00:01<00:00, 220.48it/s]\n",
      "Training Epoch 568: 100%|██████████| 370/370 [00:01<00:00, 229.43it/s]\n",
      "Training Epoch 569: 100%|██████████| 370/370 [00:01<00:00, 226.62it/s]\n",
      "Training Epoch 570: 100%|██████████| 370/370 [00:01<00:00, 211.37it/s]\n",
      "Training Epoch 571: 100%|██████████| 370/370 [00:01<00:00, 213.30it/s]\n"
     ]
    },
    {
     "name": "stdout",
     "output_type": "stream",
     "text": [
      "Epoch 570 - Train Loss: 0.4722, Train MSE: 0.4722, Train MAE: 0.4565\n",
      "Epoch 570 - Validation Loss: 1.4813, Validation MSE: 1.4825, Validation MAE: 0.9100\n"
     ]
    },
    {
     "name": "stderr",
     "output_type": "stream",
     "text": [
      "Training Epoch 572: 100%|██████████| 370/370 [00:01<00:00, 200.08it/s]\n",
      "Training Epoch 573: 100%|██████████| 370/370 [00:01<00:00, 233.03it/s]\n",
      "Training Epoch 574: 100%|██████████| 370/370 [00:01<00:00, 198.53it/s]\n",
      "Training Epoch 575: 100%|██████████| 370/370 [00:01<00:00, 226.23it/s]\n",
      "Training Epoch 576: 100%|██████████| 370/370 [00:01<00:00, 220.09it/s]\n",
      "Training Epoch 577: 100%|██████████| 370/370 [00:01<00:00, 225.16it/s]\n",
      "Training Epoch 578: 100%|██████████| 370/370 [00:01<00:00, 232.42it/s]\n",
      "Training Epoch 579: 100%|██████████| 370/370 [00:01<00:00, 234.43it/s]\n",
      "Training Epoch 580: 100%|██████████| 370/370 [00:01<00:00, 224.50it/s]\n",
      "Training Epoch 581: 100%|██████████| 370/370 [00:01<00:00, 225.82it/s]\n"
     ]
    },
    {
     "name": "stdout",
     "output_type": "stream",
     "text": [
      "Epoch 580 - Train Loss: 0.4678, Train MSE: 0.4681, Train MAE: 0.4563\n",
      "Epoch 580 - Validation Loss: 1.5282, Validation MSE: 1.5300, Validation MAE: 0.9161\n"
     ]
    },
    {
     "name": "stderr",
     "output_type": "stream",
     "text": [
      "Training Epoch 582: 100%|██████████| 370/370 [00:01<00:00, 230.48it/s]\n",
      "Training Epoch 583: 100%|██████████| 370/370 [00:01<00:00, 231.22it/s]\n",
      "Training Epoch 584: 100%|██████████| 370/370 [00:01<00:00, 216.14it/s]\n",
      "Training Epoch 585: 100%|██████████| 370/370 [00:01<00:00, 218.34it/s]\n",
      "Training Epoch 586: 100%|██████████| 370/370 [00:01<00:00, 209.46it/s]\n",
      "Training Epoch 587: 100%|██████████| 370/370 [00:01<00:00, 227.05it/s]\n",
      "Training Epoch 588: 100%|██████████| 370/370 [00:01<00:00, 215.57it/s]\n",
      "Training Epoch 589: 100%|██████████| 370/370 [00:01<00:00, 210.86it/s]\n",
      "Training Epoch 590: 100%|██████████| 370/370 [00:01<00:00, 228.61it/s]\n",
      "Training Epoch 591: 100%|██████████| 370/370 [00:01<00:00, 227.60it/s]\n"
     ]
    },
    {
     "name": "stdout",
     "output_type": "stream",
     "text": [
      "Epoch 590 - Train Loss: 0.4633, Train MSE: 0.4626, Train MAE: 0.4516\n",
      "Epoch 590 - Validation Loss: 1.5164, Validation MSE: 1.5177, Validation MAE: 0.9103\n"
     ]
    },
    {
     "name": "stderr",
     "output_type": "stream",
     "text": [
      "Training Epoch 592: 100%|██████████| 370/370 [00:01<00:00, 229.70it/s]\n",
      "Training Epoch 593: 100%|██████████| 370/370 [00:01<00:00, 221.13it/s]\n",
      "Training Epoch 594: 100%|██████████| 370/370 [00:01<00:00, 226.03it/s]\n",
      "Training Epoch 595: 100%|██████████| 370/370 [00:01<00:00, 231.41it/s]\n",
      "Training Epoch 596: 100%|██████████| 370/370 [00:01<00:00, 224.72it/s]\n",
      "Training Epoch 597: 100%|██████████| 370/370 [00:01<00:00, 226.47it/s]\n",
      "Training Epoch 598: 100%|██████████| 370/370 [00:01<00:00, 226.24it/s]\n",
      "Training Epoch 599: 100%|██████████| 370/370 [00:01<00:00, 228.21it/s]\n",
      "Training Epoch 600: 100%|██████████| 370/370 [00:01<00:00, 231.67it/s]\n",
      "Training Epoch 601: 100%|██████████| 370/370 [00:01<00:00, 222.28it/s]\n"
     ]
    },
    {
     "name": "stdout",
     "output_type": "stream",
     "text": [
      "Epoch 600 - Train Loss: 0.4621, Train MSE: 0.4626, Train MAE: 0.4524\n",
      "Epoch 600 - Validation Loss: 1.5119, Validation MSE: 1.5133, Validation MAE: 0.9204\n"
     ]
    },
    {
     "name": "stderr",
     "output_type": "stream",
     "text": [
      "Training Epoch 602: 100%|██████████| 370/370 [00:01<00:00, 228.13it/s]\n",
      "Training Epoch 603: 100%|██████████| 370/370 [00:01<00:00, 227.34it/s]\n",
      "Training Epoch 604: 100%|██████████| 370/370 [00:01<00:00, 231.30it/s]\n",
      "Training Epoch 605: 100%|██████████| 370/370 [00:01<00:00, 207.64it/s]\n",
      "Training Epoch 606: 100%|██████████| 370/370 [00:01<00:00, 207.04it/s]\n",
      "Training Epoch 607: 100%|██████████| 370/370 [00:01<00:00, 231.25it/s]\n",
      "Training Epoch 608: 100%|██████████| 370/370 [00:01<00:00, 237.21it/s]\n",
      "Training Epoch 609: 100%|██████████| 370/370 [00:01<00:00, 236.53it/s]\n",
      "Training Epoch 610: 100%|██████████| 370/370 [00:01<00:00, 231.38it/s]\n",
      "Training Epoch 611: 100%|██████████| 370/370 [00:01<00:00, 229.45it/s]\n"
     ]
    },
    {
     "name": "stdout",
     "output_type": "stream",
     "text": [
      "Epoch 610 - Train Loss: 0.4588, Train MSE: 0.4581, Train MAE: 0.4511\n",
      "Epoch 610 - Validation Loss: 1.5317, Validation MSE: 1.5336, Validation MAE: 0.9175\n"
     ]
    },
    {
     "name": "stderr",
     "output_type": "stream",
     "text": [
      "Training Epoch 612: 100%|██████████| 370/370 [00:01<00:00, 216.04it/s]\n",
      "Training Epoch 613: 100%|██████████| 370/370 [00:01<00:00, 229.93it/s]\n",
      "Training Epoch 614: 100%|██████████| 370/370 [00:01<00:00, 221.46it/s]\n",
      "Training Epoch 615: 100%|██████████| 370/370 [00:01<00:00, 224.13it/s]\n",
      "Training Epoch 616: 100%|██████████| 370/370 [00:01<00:00, 228.44it/s]\n",
      "Training Epoch 617: 100%|██████████| 370/370 [00:01<00:00, 231.47it/s]\n",
      "Training Epoch 618: 100%|██████████| 370/370 [00:01<00:00, 234.84it/s]\n",
      "Training Epoch 619: 100%|██████████| 370/370 [00:01<00:00, 235.53it/s]\n",
      "Training Epoch 620: 100%|██████████| 370/370 [00:01<00:00, 225.09it/s]\n",
      "Training Epoch 621: 100%|██████████| 370/370 [00:01<00:00, 224.12it/s]\n"
     ]
    },
    {
     "name": "stdout",
     "output_type": "stream",
     "text": [
      "Epoch 620 - Train Loss: 0.4586, Train MSE: 0.4583, Train MAE: 0.4470\n",
      "Epoch 620 - Validation Loss: 1.5223, Validation MSE: 1.5240, Validation MAE: 0.9220\n"
     ]
    },
    {
     "name": "stderr",
     "output_type": "stream",
     "text": [
      "Training Epoch 622: 100%|██████████| 370/370 [00:01<00:00, 224.43it/s]\n",
      "Training Epoch 623: 100%|██████████| 370/370 [00:01<00:00, 230.48it/s]\n",
      "Training Epoch 624: 100%|██████████| 370/370 [00:01<00:00, 223.44it/s]\n",
      "Training Epoch 625: 100%|██████████| 370/370 [00:01<00:00, 220.30it/s]\n",
      "Training Epoch 626: 100%|██████████| 370/370 [00:01<00:00, 228.10it/s]\n",
      "Training Epoch 627: 100%|██████████| 370/370 [00:01<00:00, 226.56it/s]\n",
      "Training Epoch 628: 100%|██████████| 370/370 [00:01<00:00, 227.82it/s]\n",
      "Training Epoch 629: 100%|██████████| 370/370 [00:01<00:00, 229.43it/s]\n",
      "Training Epoch 630: 100%|██████████| 370/370 [00:01<00:00, 227.30it/s]\n",
      "Training Epoch 631: 100%|██████████| 370/370 [00:01<00:00, 201.48it/s]\n"
     ]
    },
    {
     "name": "stdout",
     "output_type": "stream",
     "text": [
      "Epoch 630 - Train Loss: 0.4595, Train MSE: 0.4604, Train MAE: 0.4518\n",
      "Epoch 630 - Validation Loss: 1.4811, Validation MSE: 1.4828, Validation MAE: 0.9131\n"
     ]
    },
    {
     "name": "stderr",
     "output_type": "stream",
     "text": [
      "Training Epoch 632: 100%|██████████| 370/370 [00:01<00:00, 225.96it/s]\n",
      "Training Epoch 633: 100%|██████████| 370/370 [00:01<00:00, 219.32it/s]\n",
      "Training Epoch 634: 100%|██████████| 370/370 [00:01<00:00, 220.38it/s]\n",
      "Training Epoch 635: 100%|██████████| 370/370 [00:01<00:00, 214.25it/s]\n",
      "Training Epoch 636: 100%|██████████| 370/370 [00:01<00:00, 219.13it/s]\n",
      "Training Epoch 637: 100%|██████████| 370/370 [00:01<00:00, 227.91it/s]\n",
      "Training Epoch 638: 100%|██████████| 370/370 [00:01<00:00, 223.74it/s]\n",
      "Training Epoch 639: 100%|██████████| 370/370 [00:01<00:00, 231.50it/s]\n",
      "Training Epoch 640: 100%|██████████| 370/370 [00:01<00:00, 220.63it/s]\n",
      "Training Epoch 641: 100%|██████████| 370/370 [00:01<00:00, 201.75it/s]\n"
     ]
    },
    {
     "name": "stdout",
     "output_type": "stream",
     "text": [
      "Epoch 640 - Train Loss: 0.4574, Train MSE: 0.4579, Train MAE: 0.4496\n",
      "Epoch 640 - Validation Loss: 1.5117, Validation MSE: 1.5131, Validation MAE: 0.9167\n"
     ]
    },
    {
     "name": "stderr",
     "output_type": "stream",
     "text": [
      "Training Epoch 642: 100%|██████████| 370/370 [00:01<00:00, 231.00it/s]\n",
      "Training Epoch 643: 100%|██████████| 370/370 [00:01<00:00, 213.54it/s]\n",
      "Training Epoch 644: 100%|██████████| 370/370 [00:01<00:00, 227.78it/s]\n",
      "Training Epoch 645: 100%|██████████| 370/370 [00:01<00:00, 222.23it/s]\n",
      "Training Epoch 646: 100%|██████████| 370/370 [00:01<00:00, 210.89it/s]\n",
      "Training Epoch 647: 100%|██████████| 370/370 [00:01<00:00, 195.43it/s]\n",
      "Training Epoch 648: 100%|██████████| 370/370 [00:01<00:00, 216.99it/s]\n",
      "Training Epoch 649: 100%|██████████| 370/370 [00:01<00:00, 223.97it/s]\n",
      "Training Epoch 650: 100%|██████████| 370/370 [00:01<00:00, 209.71it/s]\n",
      "Training Epoch 651: 100%|██████████| 370/370 [00:01<00:00, 210.85it/s]\n"
     ]
    },
    {
     "name": "stdout",
     "output_type": "stream",
     "text": [
      "Epoch 650 - Train Loss: 0.4553, Train MSE: 0.4561, Train MAE: 0.4507\n",
      "Epoch 650 - Validation Loss: 1.4904, Validation MSE: 1.4918, Validation MAE: 0.9132\n"
     ]
    },
    {
     "name": "stderr",
     "output_type": "stream",
     "text": [
      "Training Epoch 652: 100%|██████████| 370/370 [00:01<00:00, 215.40it/s]\n",
      "Training Epoch 653: 100%|██████████| 370/370 [00:01<00:00, 213.35it/s]\n",
      "Training Epoch 654: 100%|██████████| 370/370 [00:01<00:00, 194.83it/s]\n",
      "Training Epoch 655: 100%|██████████| 370/370 [00:01<00:00, 216.13it/s]\n",
      "Training Epoch 656: 100%|██████████| 370/370 [00:01<00:00, 215.76it/s]\n",
      "Training Epoch 657: 100%|██████████| 370/370 [00:01<00:00, 206.27it/s]\n",
      "Training Epoch 658: 100%|██████████| 370/370 [00:01<00:00, 217.61it/s]\n",
      "Training Epoch 659: 100%|██████████| 370/370 [00:01<00:00, 221.23it/s]\n",
      "Training Epoch 660: 100%|██████████| 370/370 [00:01<00:00, 214.00it/s]\n",
      "Training Epoch 661: 100%|██████████| 370/370 [00:01<00:00, 214.32it/s]\n"
     ]
    },
    {
     "name": "stdout",
     "output_type": "stream",
     "text": [
      "Epoch 660 - Train Loss: 0.4480, Train MSE: 0.4486, Train MAE: 0.4419\n",
      "Epoch 660 - Validation Loss: 1.4948, Validation MSE: 1.4970, Validation MAE: 0.9184\n"
     ]
    },
    {
     "name": "stderr",
     "output_type": "stream",
     "text": [
      "Training Epoch 662: 100%|██████████| 370/370 [00:01<00:00, 218.63it/s]\n",
      "Training Epoch 663: 100%|██████████| 370/370 [00:01<00:00, 224.57it/s]\n",
      "Training Epoch 664: 100%|██████████| 370/370 [00:01<00:00, 221.48it/s]\n",
      "Training Epoch 665: 100%|██████████| 370/370 [00:01<00:00, 226.65it/s]\n",
      "Training Epoch 666: 100%|██████████| 370/370 [00:01<00:00, 234.99it/s]\n",
      "Training Epoch 667: 100%|██████████| 370/370 [00:01<00:00, 227.51it/s]\n",
      "Training Epoch 668: 100%|██████████| 370/370 [00:01<00:00, 235.37it/s]\n",
      "Training Epoch 669: 100%|██████████| 370/370 [00:01<00:00, 225.53it/s]\n",
      "Training Epoch 670: 100%|██████████| 370/370 [00:01<00:00, 214.81it/s]\n",
      "Training Epoch 671: 100%|██████████| 370/370 [00:01<00:00, 221.51it/s]\n"
     ]
    },
    {
     "name": "stdout",
     "output_type": "stream",
     "text": [
      "Epoch 670 - Train Loss: 0.4484, Train MSE: 0.4494, Train MAE: 0.4438\n",
      "Epoch 670 - Validation Loss: 1.5087, Validation MSE: 1.5106, Validation MAE: 0.9156\n"
     ]
    },
    {
     "name": "stderr",
     "output_type": "stream",
     "text": [
      "Training Epoch 672: 100%|██████████| 370/370 [00:01<00:00, 226.97it/s]\n",
      "Training Epoch 673: 100%|██████████| 370/370 [00:01<00:00, 208.70it/s]\n",
      "Training Epoch 674: 100%|██████████| 370/370 [00:02<00:00, 180.45it/s]\n",
      "Training Epoch 675: 100%|██████████| 370/370 [00:01<00:00, 224.01it/s]\n",
      "Training Epoch 676: 100%|██████████| 370/370 [00:01<00:00, 234.08it/s]\n",
      "Training Epoch 677: 100%|██████████| 370/370 [00:01<00:00, 227.15it/s]\n",
      "Training Epoch 678: 100%|██████████| 370/370 [00:01<00:00, 231.96it/s]\n",
      "Training Epoch 679: 100%|██████████| 370/370 [00:01<00:00, 232.87it/s]\n",
      "Training Epoch 680: 100%|██████████| 370/370 [00:01<00:00, 222.15it/s]\n",
      "Training Epoch 681: 100%|██████████| 370/370 [00:01<00:00, 223.12it/s]\n"
     ]
    },
    {
     "name": "stdout",
     "output_type": "stream",
     "text": [
      "Epoch 680 - Train Loss: 0.4498, Train MSE: 0.4506, Train MAE: 0.4451\n",
      "Epoch 680 - Validation Loss: 1.5127, Validation MSE: 1.5143, Validation MAE: 0.9103\n"
     ]
    },
    {
     "name": "stderr",
     "output_type": "stream",
     "text": [
      "Training Epoch 682: 100%|██████████| 370/370 [00:01<00:00, 229.29it/s]\n",
      "Training Epoch 683: 100%|██████████| 370/370 [00:01<00:00, 226.42it/s]\n",
      "Training Epoch 684: 100%|██████████| 370/370 [00:01<00:00, 229.27it/s]\n",
      "Training Epoch 685: 100%|██████████| 370/370 [00:01<00:00, 227.29it/s]\n",
      "Training Epoch 686: 100%|██████████| 370/370 [00:01<00:00, 221.40it/s]\n",
      "Training Epoch 687: 100%|██████████| 370/370 [00:01<00:00, 232.90it/s]\n",
      "Training Epoch 688: 100%|██████████| 370/370 [00:01<00:00, 220.01it/s]\n",
      "Training Epoch 689: 100%|██████████| 370/370 [00:01<00:00, 223.69it/s]\n",
      "Training Epoch 690: 100%|██████████| 370/370 [00:01<00:00, 224.87it/s]\n",
      "Training Epoch 691: 100%|██████████| 370/370 [00:01<00:00, 215.42it/s]\n"
     ]
    },
    {
     "name": "stdout",
     "output_type": "stream",
     "text": [
      "Epoch 690 - Train Loss: 0.4523, Train MSE: 0.4530, Train MAE: 0.4467\n",
      "Epoch 690 - Validation Loss: 1.5105, Validation MSE: 1.5125, Validation MAE: 0.9129\n"
     ]
    },
    {
     "name": "stderr",
     "output_type": "stream",
     "text": [
      "Training Epoch 692: 100%|██████████| 370/370 [00:01<00:00, 222.90it/s]\n",
      "Training Epoch 693: 100%|██████████| 370/370 [00:01<00:00, 228.22it/s]\n",
      "Training Epoch 694: 100%|██████████| 370/370 [00:01<00:00, 219.27it/s]\n",
      "Training Epoch 695: 100%|██████████| 370/370 [00:01<00:00, 230.14it/s]\n",
      "Training Epoch 696: 100%|██████████| 370/370 [00:01<00:00, 228.29it/s]\n",
      "Training Epoch 697: 100%|██████████| 370/370 [00:01<00:00, 228.04it/s]\n",
      "Training Epoch 698: 100%|██████████| 370/370 [00:01<00:00, 225.37it/s]\n",
      "Training Epoch 699: 100%|██████████| 370/370 [00:01<00:00, 229.45it/s]\n",
      "Training Epoch 700: 100%|██████████| 370/370 [00:01<00:00, 225.96it/s]\n",
      "Training Epoch 701: 100%|██████████| 370/370 [00:01<00:00, 226.97it/s]\n"
     ]
    },
    {
     "name": "stdout",
     "output_type": "stream",
     "text": [
      "Epoch 700 - Train Loss: 0.4462, Train MSE: 0.4470, Train MAE: 0.4418\n",
      "Epoch 700 - Validation Loss: 1.5275, Validation MSE: 1.5291, Validation MAE: 0.9203\n"
     ]
    },
    {
     "name": "stderr",
     "output_type": "stream",
     "text": [
      "Training Epoch 702: 100%|██████████| 370/370 [00:01<00:00, 223.05it/s]\n",
      "Training Epoch 703: 100%|██████████| 370/370 [00:01<00:00, 226.36it/s]\n",
      "Training Epoch 704: 100%|██████████| 370/370 [00:01<00:00, 229.04it/s]\n",
      "Training Epoch 705: 100%|██████████| 370/370 [00:01<00:00, 227.13it/s]\n",
      "Training Epoch 706: 100%|██████████| 370/370 [00:01<00:00, 222.18it/s]\n",
      "Training Epoch 707: 100%|██████████| 370/370 [00:01<00:00, 233.71it/s]\n",
      "Training Epoch 708: 100%|██████████| 370/370 [00:01<00:00, 234.77it/s]\n",
      "Training Epoch 709: 100%|██████████| 370/370 [00:01<00:00, 206.34it/s]\n",
      "Training Epoch 710: 100%|██████████| 370/370 [00:01<00:00, 224.79it/s]\n",
      "Training Epoch 711: 100%|██████████| 370/370 [00:01<00:00, 223.70it/s]\n"
     ]
    },
    {
     "name": "stdout",
     "output_type": "stream",
     "text": [
      "Epoch 710 - Train Loss: 0.4417, Train MSE: 0.4416, Train MAE: 0.4394\n",
      "Epoch 710 - Validation Loss: 1.5251, Validation MSE: 1.5273, Validation MAE: 0.9163\n"
     ]
    },
    {
     "name": "stderr",
     "output_type": "stream",
     "text": [
      "Training Epoch 712: 100%|██████████| 370/370 [00:01<00:00, 223.58it/s]\n",
      "Training Epoch 713: 100%|██████████| 370/370 [00:01<00:00, 222.33it/s]\n",
      "Training Epoch 714: 100%|██████████| 370/370 [00:01<00:00, 233.73it/s]\n",
      "Training Epoch 715: 100%|██████████| 370/370 [00:01<00:00, 226.26it/s]\n",
      "Training Epoch 716: 100%|██████████| 370/370 [00:01<00:00, 219.75it/s]\n",
      "Training Epoch 717: 100%|██████████| 370/370 [00:01<00:00, 223.43it/s]\n",
      "Training Epoch 718: 100%|██████████| 370/370 [00:01<00:00, 226.70it/s]\n",
      "Training Epoch 719: 100%|██████████| 370/370 [00:01<00:00, 233.60it/s]\n",
      "Training Epoch 720: 100%|██████████| 370/370 [00:01<00:00, 210.56it/s]\n",
      "Training Epoch 721: 100%|██████████| 370/370 [00:01<00:00, 225.41it/s]\n"
     ]
    },
    {
     "name": "stdout",
     "output_type": "stream",
     "text": [
      "Epoch 720 - Train Loss: 0.4437, Train MSE: 0.4427, Train MAE: 0.4401\n",
      "Epoch 720 - Validation Loss: 1.5285, Validation MSE: 1.5300, Validation MAE: 0.9159\n"
     ]
    },
    {
     "name": "stderr",
     "output_type": "stream",
     "text": [
      "Training Epoch 722: 100%|██████████| 370/370 [00:01<00:00, 231.13it/s]\n",
      "Training Epoch 723: 100%|██████████| 370/370 [00:01<00:00, 212.58it/s]\n",
      "Training Epoch 724: 100%|██████████| 370/370 [00:01<00:00, 210.64it/s]\n",
      "Training Epoch 725: 100%|██████████| 370/370 [00:01<00:00, 221.09it/s]\n",
      "Training Epoch 726: 100%|██████████| 370/370 [00:01<00:00, 209.57it/s]\n",
      "Training Epoch 727: 100%|██████████| 370/370 [00:01<00:00, 224.80it/s]\n",
      "Training Epoch 728: 100%|██████████| 370/370 [00:01<00:00, 224.77it/s]\n",
      "Training Epoch 729: 100%|██████████| 370/370 [00:01<00:00, 222.25it/s]\n",
      "Training Epoch 730: 100%|██████████| 370/370 [00:01<00:00, 223.04it/s]\n",
      "Training Epoch 731: 100%|██████████| 370/370 [00:01<00:00, 213.91it/s]\n"
     ]
    },
    {
     "name": "stdout",
     "output_type": "stream",
     "text": [
      "Epoch 730 - Train Loss: 0.4456, Train MSE: 0.4462, Train MAE: 0.4433\n",
      "Epoch 730 - Validation Loss: 1.5178, Validation MSE: 1.5196, Validation MAE: 0.9191\n"
     ]
    },
    {
     "name": "stderr",
     "output_type": "stream",
     "text": [
      "Training Epoch 732: 100%|██████████| 370/370 [00:01<00:00, 220.96it/s]\n",
      "Training Epoch 733: 100%|██████████| 370/370 [00:01<00:00, 228.10it/s]\n",
      "Training Epoch 734: 100%|██████████| 370/370 [00:01<00:00, 222.74it/s]\n",
      "Training Epoch 735: 100%|██████████| 370/370 [00:01<00:00, 224.08it/s]\n",
      "Training Epoch 736: 100%|██████████| 370/370 [00:01<00:00, 223.46it/s]\n",
      "Training Epoch 737: 100%|██████████| 370/370 [00:01<00:00, 221.79it/s]\n",
      "Training Epoch 738: 100%|██████████| 370/370 [00:01<00:00, 216.67it/s]\n",
      "Training Epoch 739: 100%|██████████| 370/370 [00:01<00:00, 227.97it/s]\n",
      "Training Epoch 740: 100%|██████████| 370/370 [00:01<00:00, 229.35it/s]\n",
      "Training Epoch 741: 100%|██████████| 370/370 [00:01<00:00, 232.89it/s]\n"
     ]
    },
    {
     "name": "stdout",
     "output_type": "stream",
     "text": [
      "Epoch 740 - Train Loss: 0.4420, Train MSE: 0.4428, Train MAE: 0.4399\n",
      "Epoch 740 - Validation Loss: 1.5342, Validation MSE: 1.5356, Validation MAE: 0.9209\n"
     ]
    },
    {
     "name": "stderr",
     "output_type": "stream",
     "text": [
      "Training Epoch 742: 100%|██████████| 370/370 [00:01<00:00, 227.15it/s]\n",
      "Training Epoch 743: 100%|██████████| 370/370 [00:01<00:00, 190.99it/s]\n",
      "Training Epoch 744: 100%|██████████| 370/370 [00:01<00:00, 227.31it/s]\n",
      "Training Epoch 745: 100%|██████████| 370/370 [00:01<00:00, 225.88it/s]\n",
      "Training Epoch 746: 100%|██████████| 370/370 [00:01<00:00, 229.08it/s]\n",
      "Training Epoch 747: 100%|██████████| 370/370 [00:01<00:00, 219.97it/s]\n",
      "Training Epoch 748: 100%|██████████| 370/370 [00:01<00:00, 209.72it/s]\n",
      "Training Epoch 749: 100%|██████████| 370/370 [00:01<00:00, 225.37it/s]\n",
      "Training Epoch 750: 100%|██████████| 370/370 [00:01<00:00, 227.77it/s]\n",
      "Training Epoch 751: 100%|██████████| 370/370 [00:01<00:00, 219.15it/s]\n"
     ]
    },
    {
     "name": "stdout",
     "output_type": "stream",
     "text": [
      "Epoch 750 - Train Loss: 0.4402, Train MSE: 0.4411, Train MAE: 0.4379\n",
      "Epoch 750 - Validation Loss: 1.5470, Validation MSE: 1.5494, Validation MAE: 0.9221\n"
     ]
    },
    {
     "name": "stderr",
     "output_type": "stream",
     "text": [
      "Training Epoch 752: 100%|██████████| 370/370 [00:01<00:00, 212.32it/s]\n",
      "Training Epoch 753: 100%|██████████| 370/370 [00:01<00:00, 217.60it/s]\n",
      "Training Epoch 754: 100%|██████████| 370/370 [00:01<00:00, 224.36it/s]\n",
      "Training Epoch 755: 100%|██████████| 370/370 [00:01<00:00, 219.44it/s]\n",
      "Training Epoch 756: 100%|██████████| 370/370 [00:01<00:00, 229.16it/s]\n",
      "Training Epoch 757: 100%|██████████| 370/370 [00:01<00:00, 231.86it/s]\n",
      "Training Epoch 758: 100%|██████████| 370/370 [00:01<00:00, 234.56it/s]\n",
      "Training Epoch 759: 100%|██████████| 370/370 [00:01<00:00, 227.29it/s]\n",
      "Training Epoch 760: 100%|██████████| 370/370 [00:01<00:00, 236.44it/s]\n",
      "Training Epoch 761: 100%|██████████| 370/370 [00:01<00:00, 232.48it/s]\n"
     ]
    },
    {
     "name": "stdout",
     "output_type": "stream",
     "text": [
      "Epoch 760 - Train Loss: 0.4338, Train MSE: 0.4337, Train MAE: 0.4351\n",
      "Epoch 760 - Validation Loss: 1.5373, Validation MSE: 1.5385, Validation MAE: 0.9268\n"
     ]
    },
    {
     "name": "stderr",
     "output_type": "stream",
     "text": [
      "Training Epoch 762: 100%|██████████| 370/370 [00:01<00:00, 222.33it/s]\n",
      "Training Epoch 763: 100%|██████████| 370/370 [00:01<00:00, 226.97it/s]\n",
      "Training Epoch 764: 100%|██████████| 370/370 [00:01<00:00, 233.69it/s]\n",
      "Training Epoch 765: 100%|██████████| 370/370 [00:01<00:00, 232.97it/s]\n",
      "Training Epoch 766: 100%|██████████| 370/370 [00:01<00:00, 229.24it/s]\n",
      "Training Epoch 767: 100%|██████████| 370/370 [00:01<00:00, 210.91it/s]\n",
      "Training Epoch 768: 100%|██████████| 370/370 [00:01<00:00, 227.14it/s]\n",
      "Training Epoch 769: 100%|██████████| 370/370 [00:01<00:00, 227.89it/s]\n",
      "Training Epoch 770: 100%|██████████| 370/370 [00:01<00:00, 223.25it/s]\n",
      "Training Epoch 771: 100%|██████████| 370/370 [00:01<00:00, 219.96it/s]\n"
     ]
    },
    {
     "name": "stdout",
     "output_type": "stream",
     "text": [
      "Epoch 770 - Train Loss: 0.4395, Train MSE: 0.4400, Train MAE: 0.4353\n",
      "Epoch 770 - Validation Loss: 1.5616, Validation MSE: 1.5638, Validation MAE: 0.9231\n"
     ]
    },
    {
     "name": "stderr",
     "output_type": "stream",
     "text": [
      "Training Epoch 772: 100%|██████████| 370/370 [00:01<00:00, 226.74it/s]\n",
      "Training Epoch 773: 100%|██████████| 370/370 [00:01<00:00, 221.60it/s]\n",
      "Training Epoch 774: 100%|██████████| 370/370 [00:01<00:00, 224.41it/s]\n",
      "Training Epoch 775: 100%|██████████| 370/370 [00:01<00:00, 234.55it/s]\n",
      "Training Epoch 776: 100%|██████████| 370/370 [00:01<00:00, 222.29it/s]\n",
      "Training Epoch 777: 100%|██████████| 370/370 [00:01<00:00, 206.89it/s]\n",
      "Training Epoch 778: 100%|██████████| 370/370 [00:01<00:00, 237.81it/s]\n",
      "Training Epoch 779: 100%|██████████| 370/370 [00:01<00:00, 236.98it/s]\n",
      "Training Epoch 780: 100%|██████████| 370/370 [00:01<00:00, 220.00it/s]\n",
      "Training Epoch 781: 100%|██████████| 370/370 [00:01<00:00, 227.25it/s]\n"
     ]
    },
    {
     "name": "stdout",
     "output_type": "stream",
     "text": [
      "Epoch 780 - Train Loss: 0.4339, Train MSE: 0.4338, Train MAE: 0.4340\n",
      "Epoch 780 - Validation Loss: 1.5193, Validation MSE: 1.5209, Validation MAE: 0.9211\n"
     ]
    },
    {
     "name": "stderr",
     "output_type": "stream",
     "text": [
      "Training Epoch 782: 100%|██████████| 370/370 [00:01<00:00, 224.92it/s]\n",
      "Training Epoch 783: 100%|██████████| 370/370 [00:01<00:00, 222.79it/s]\n",
      "Training Epoch 784: 100%|██████████| 370/370 [00:01<00:00, 230.48it/s]\n",
      "Training Epoch 785: 100%|██████████| 370/370 [00:01<00:00, 217.32it/s]\n",
      "Training Epoch 786: 100%|██████████| 370/370 [00:01<00:00, 225.35it/s]\n",
      "Training Epoch 787: 100%|██████████| 370/370 [00:01<00:00, 237.18it/s]\n",
      "Training Epoch 788: 100%|██████████| 370/370 [00:01<00:00, 234.19it/s]\n",
      "Training Epoch 789: 100%|██████████| 370/370 [00:01<00:00, 219.86it/s]\n",
      "Training Epoch 790: 100%|██████████| 370/370 [00:01<00:00, 228.95it/s]\n",
      "Training Epoch 791: 100%|██████████| 370/370 [00:01<00:00, 223.67it/s]\n"
     ]
    },
    {
     "name": "stdout",
     "output_type": "stream",
     "text": [
      "Epoch 790 - Train Loss: 0.4397, Train MSE: 0.4407, Train MAE: 0.4388\n",
      "Epoch 790 - Validation Loss: 1.5390, Validation MSE: 1.5407, Validation MAE: 0.9187\n"
     ]
    },
    {
     "name": "stderr",
     "output_type": "stream",
     "text": [
      "Training Epoch 792: 100%|██████████| 370/370 [00:01<00:00, 228.55it/s]\n",
      "Training Epoch 793: 100%|██████████| 370/370 [00:01<00:00, 229.96it/s]\n",
      "Training Epoch 794: 100%|██████████| 370/370 [00:01<00:00, 219.24it/s]\n",
      "Training Epoch 795: 100%|██████████| 370/370 [00:01<00:00, 229.78it/s]\n",
      "Training Epoch 796: 100%|██████████| 370/370 [00:01<00:00, 231.44it/s]\n",
      "Training Epoch 797: 100%|██████████| 370/370 [00:01<00:00, 228.60it/s]\n",
      "Training Epoch 798: 100%|██████████| 370/370 [00:01<00:00, 234.16it/s]\n",
      "Training Epoch 799: 100%|██████████| 370/370 [00:01<00:00, 226.30it/s]\n",
      "Training Epoch 800: 100%|██████████| 370/370 [00:01<00:00, 225.55it/s]\n",
      "Training Epoch 801: 100%|██████████| 370/370 [00:01<00:00, 238.35it/s]\n"
     ]
    },
    {
     "name": "stdout",
     "output_type": "stream",
     "text": [
      "Epoch 800 - Train Loss: 0.4370, Train MSE: 0.4377, Train MAE: 0.4375\n",
      "Epoch 800 - Validation Loss: 1.5336, Validation MSE: 1.5352, Validation MAE: 0.9259\n"
     ]
    },
    {
     "name": "stderr",
     "output_type": "stream",
     "text": [
      "Training Epoch 802: 100%|██████████| 370/370 [00:01<00:00, 234.62it/s]\n",
      "Training Epoch 803: 100%|██████████| 370/370 [00:01<00:00, 231.61it/s]\n",
      "Training Epoch 804: 100%|██████████| 370/370 [00:01<00:00, 227.29it/s]\n",
      "Training Epoch 805: 100%|██████████| 370/370 [00:01<00:00, 214.89it/s]\n",
      "Training Epoch 806: 100%|██████████| 370/370 [00:01<00:00, 235.92it/s]\n",
      "Training Epoch 807: 100%|██████████| 370/370 [00:01<00:00, 227.49it/s]\n",
      "Training Epoch 808: 100%|██████████| 370/370 [00:01<00:00, 229.45it/s]\n",
      "Training Epoch 809: 100%|██████████| 370/370 [00:01<00:00, 224.66it/s]\n",
      "Training Epoch 810: 100%|██████████| 370/370 [00:01<00:00, 225.20it/s]\n",
      "Training Epoch 811: 100%|██████████| 370/370 [00:01<00:00, 240.06it/s]\n"
     ]
    },
    {
     "name": "stdout",
     "output_type": "stream",
     "text": [
      "Epoch 810 - Train Loss: 0.4340, Train MSE: 0.4346, Train MAE: 0.4347\n",
      "Epoch 810 - Validation Loss: 1.5408, Validation MSE: 1.5424, Validation MAE: 0.9261\n"
     ]
    },
    {
     "name": "stderr",
     "output_type": "stream",
     "text": [
      "Training Epoch 812: 100%|██████████| 370/370 [00:01<00:00, 216.56it/s]\n",
      "Training Epoch 813: 100%|██████████| 370/370 [00:01<00:00, 229.39it/s]\n",
      "Training Epoch 814: 100%|██████████| 370/370 [00:01<00:00, 232.22it/s]\n",
      "Training Epoch 815: 100%|██████████| 370/370 [00:01<00:00, 234.27it/s]\n",
      "Training Epoch 816: 100%|██████████| 370/370 [00:01<00:00, 238.31it/s]\n",
      "Training Epoch 817: 100%|██████████| 370/370 [00:01<00:00, 234.39it/s]\n",
      "Training Epoch 818: 100%|██████████| 370/370 [00:01<00:00, 228.19it/s]\n",
      "Training Epoch 819: 100%|██████████| 370/370 [00:01<00:00, 215.92it/s]\n",
      "Training Epoch 820: 100%|██████████| 370/370 [00:01<00:00, 228.27it/s]\n",
      "Training Epoch 821: 100%|██████████| 370/370 [00:01<00:00, 231.39it/s]\n"
     ]
    },
    {
     "name": "stdout",
     "output_type": "stream",
     "text": [
      "Epoch 820 - Train Loss: 0.4317, Train MSE: 0.4326, Train MAE: 0.4323\n",
      "Epoch 820 - Validation Loss: 1.5373, Validation MSE: 1.5389, Validation MAE: 0.9237\n"
     ]
    },
    {
     "name": "stderr",
     "output_type": "stream",
     "text": [
      "Training Epoch 822: 100%|██████████| 370/370 [00:01<00:00, 236.19it/s]\n",
      "Training Epoch 823: 100%|██████████| 370/370 [00:01<00:00, 229.02it/s]\n",
      "Training Epoch 824: 100%|██████████| 370/370 [00:01<00:00, 207.70it/s]\n",
      "Training Epoch 825: 100%|██████████| 370/370 [00:01<00:00, 211.73it/s]\n",
      "Training Epoch 826: 100%|██████████| 370/370 [00:01<00:00, 226.43it/s]\n",
      "Training Epoch 827: 100%|██████████| 370/370 [00:01<00:00, 228.86it/s]\n",
      "Training Epoch 828: 100%|██████████| 370/370 [00:01<00:00, 212.27it/s]\n",
      "Training Epoch 829: 100%|██████████| 370/370 [00:01<00:00, 230.46it/s]\n",
      "Training Epoch 830: 100%|██████████| 370/370 [00:01<00:00, 217.53it/s]\n",
      "Training Epoch 831: 100%|██████████| 370/370 [00:01<00:00, 238.39it/s]\n"
     ]
    },
    {
     "name": "stdout",
     "output_type": "stream",
     "text": [
      "Epoch 830 - Train Loss: 0.4282, Train MSE: 0.4287, Train MAE: 0.4293\n",
      "Epoch 830 - Validation Loss: 1.5367, Validation MSE: 1.5392, Validation MAE: 0.9206\n"
     ]
    },
    {
     "name": "stderr",
     "output_type": "stream",
     "text": [
      "Training Epoch 832: 100%|██████████| 370/370 [00:01<00:00, 226.89it/s]\n",
      "Training Epoch 833: 100%|██████████| 370/370 [00:01<00:00, 225.44it/s]\n",
      "Training Epoch 834: 100%|██████████| 370/370 [00:01<00:00, 224.70it/s]\n",
      "Training Epoch 835: 100%|██████████| 370/370 [00:01<00:00, 225.84it/s]\n",
      "Training Epoch 836: 100%|██████████| 370/370 [00:01<00:00, 228.75it/s]\n",
      "Training Epoch 837: 100%|██████████| 370/370 [00:01<00:00, 222.36it/s]\n",
      "Training Epoch 838: 100%|██████████| 370/370 [00:01<00:00, 213.00it/s]\n",
      "Training Epoch 839: 100%|██████████| 370/370 [00:01<00:00, 224.68it/s]\n",
      "Training Epoch 840: 100%|██████████| 370/370 [00:01<00:00, 218.83it/s]\n",
      "Training Epoch 841: 100%|██████████| 370/370 [00:01<00:00, 220.90it/s]\n"
     ]
    },
    {
     "name": "stdout",
     "output_type": "stream",
     "text": [
      "Epoch 840 - Train Loss: 0.4333, Train MSE: 0.4339, Train MAE: 0.4346\n",
      "Epoch 840 - Validation Loss: 1.4933, Validation MSE: 1.4953, Validation MAE: 0.9081\n"
     ]
    },
    {
     "name": "stderr",
     "output_type": "stream",
     "text": [
      "Training Epoch 842: 100%|██████████| 370/370 [00:01<00:00, 224.23it/s]\n",
      "Training Epoch 843: 100%|██████████| 370/370 [00:01<00:00, 222.94it/s]\n",
      "Training Epoch 844: 100%|██████████| 370/370 [00:01<00:00, 219.00it/s]\n",
      "Training Epoch 845: 100%|██████████| 370/370 [00:01<00:00, 226.04it/s]\n",
      "Training Epoch 846: 100%|██████████| 370/370 [00:01<00:00, 223.15it/s]\n",
      "Training Epoch 847: 100%|██████████| 370/370 [00:01<00:00, 200.80it/s]\n",
      "Training Epoch 848: 100%|██████████| 370/370 [00:01<00:00, 232.61it/s]\n",
      "Training Epoch 849: 100%|██████████| 370/370 [00:01<00:00, 225.40it/s]\n",
      "Training Epoch 850: 100%|██████████| 370/370 [00:01<00:00, 228.25it/s]\n",
      "Training Epoch 851: 100%|██████████| 370/370 [00:01<00:00, 214.16it/s]\n"
     ]
    },
    {
     "name": "stdout",
     "output_type": "stream",
     "text": [
      "Epoch 850 - Train Loss: 0.4309, Train MSE: 0.4318, Train MAE: 0.4270\n",
      "Epoch 850 - Validation Loss: 1.4975, Validation MSE: 1.4992, Validation MAE: 0.9121\n"
     ]
    },
    {
     "name": "stderr",
     "output_type": "stream",
     "text": [
      "Training Epoch 852: 100%|██████████| 370/370 [00:01<00:00, 228.40it/s]\n",
      "Training Epoch 853: 100%|██████████| 370/370 [00:01<00:00, 234.97it/s]\n",
      "Training Epoch 854: 100%|██████████| 370/370 [00:01<00:00, 223.80it/s]\n",
      "Training Epoch 855: 100%|██████████| 370/370 [00:01<00:00, 222.00it/s]\n",
      "Training Epoch 856: 100%|██████████| 370/370 [00:01<00:00, 215.42it/s]\n",
      "Training Epoch 857: 100%|██████████| 370/370 [00:01<00:00, 229.36it/s]\n",
      "Training Epoch 858: 100%|██████████| 370/370 [00:01<00:00, 212.12it/s]\n",
      "Training Epoch 859: 100%|██████████| 370/370 [00:01<00:00, 227.31it/s]\n",
      "Training Epoch 860: 100%|██████████| 370/370 [00:01<00:00, 223.15it/s]\n",
      "Training Epoch 861: 100%|██████████| 370/370 [00:01<00:00, 230.46it/s]\n"
     ]
    },
    {
     "name": "stdout",
     "output_type": "stream",
     "text": [
      "Epoch 860 - Train Loss: 0.4316, Train MSE: 0.4321, Train MAE: 0.4345\n",
      "Epoch 860 - Validation Loss: 1.5230, Validation MSE: 1.5249, Validation MAE: 0.9230\n"
     ]
    },
    {
     "name": "stderr",
     "output_type": "stream",
     "text": [
      "Training Epoch 862: 100%|██████████| 370/370 [00:01<00:00, 230.81it/s]\n",
      "Training Epoch 863: 100%|██████████| 370/370 [00:01<00:00, 232.72it/s]\n",
      "Training Epoch 864: 100%|██████████| 370/370 [00:01<00:00, 227.29it/s]\n",
      "Training Epoch 865: 100%|██████████| 370/370 [00:01<00:00, 228.20it/s]\n",
      "Training Epoch 866: 100%|██████████| 370/370 [00:01<00:00, 231.47it/s]\n",
      "Training Epoch 867: 100%|██████████| 370/370 [00:01<00:00, 239.23it/s]\n",
      "Training Epoch 868: 100%|██████████| 370/370 [00:01<00:00, 229.69it/s]\n",
      "Training Epoch 869: 100%|██████████| 370/370 [00:01<00:00, 223.03it/s]\n",
      "Training Epoch 870: 100%|██████████| 370/370 [00:01<00:00, 217.26it/s]\n",
      "Training Epoch 871: 100%|██████████| 370/370 [00:01<00:00, 224.47it/s]\n"
     ]
    },
    {
     "name": "stdout",
     "output_type": "stream",
     "text": [
      "Epoch 870 - Train Loss: 0.4296, Train MSE: 0.4290, Train MAE: 0.4300\n",
      "Epoch 870 - Validation Loss: 1.5130, Validation MSE: 1.5146, Validation MAE: 0.9202\n"
     ]
    },
    {
     "name": "stderr",
     "output_type": "stream",
     "text": [
      "Training Epoch 872: 100%|██████████| 370/370 [00:01<00:00, 224.93it/s]\n",
      "Training Epoch 873: 100%|██████████| 370/370 [00:01<00:00, 224.58it/s]\n",
      "Training Epoch 874: 100%|██████████| 370/370 [00:01<00:00, 225.25it/s]\n",
      "Training Epoch 875: 100%|██████████| 370/370 [00:01<00:00, 215.39it/s]\n",
      "Training Epoch 876: 100%|██████████| 370/370 [00:01<00:00, 231.40it/s]\n",
      "Training Epoch 877: 100%|██████████| 370/370 [00:01<00:00, 227.21it/s]\n",
      "Training Epoch 878: 100%|██████████| 370/370 [00:01<00:00, 219.19it/s]\n",
      "Training Epoch 879: 100%|██████████| 370/370 [00:01<00:00, 209.26it/s]\n",
      "Training Epoch 880: 100%|██████████| 370/370 [00:01<00:00, 225.17it/s]\n",
      "Training Epoch 881: 100%|██████████| 370/370 [00:01<00:00, 195.14it/s]\n"
     ]
    },
    {
     "name": "stdout",
     "output_type": "stream",
     "text": [
      "Epoch 880 - Train Loss: 0.4260, Train MSE: 0.4267, Train MAE: 0.4277\n",
      "Epoch 880 - Validation Loss: 1.4940, Validation MSE: 1.4952, Validation MAE: 0.9079\n"
     ]
    },
    {
     "name": "stderr",
     "output_type": "stream",
     "text": [
      "Training Epoch 882: 100%|██████████| 370/370 [00:01<00:00, 224.60it/s]\n",
      "Training Epoch 883: 100%|██████████| 370/370 [00:01<00:00, 225.30it/s]\n",
      "Training Epoch 884: 100%|██████████| 370/370 [00:01<00:00, 225.57it/s]\n",
      "Training Epoch 885: 100%|██████████| 370/370 [00:01<00:00, 202.92it/s]\n",
      "Training Epoch 886: 100%|██████████| 370/370 [00:01<00:00, 215.62it/s]\n",
      "Training Epoch 887: 100%|██████████| 370/370 [00:01<00:00, 186.05it/s]\n",
      "Training Epoch 888: 100%|██████████| 370/370 [00:01<00:00, 227.66it/s]\n",
      "Training Epoch 889: 100%|██████████| 370/370 [00:01<00:00, 226.73it/s]\n",
      "Training Epoch 890: 100%|██████████| 370/370 [00:01<00:00, 218.79it/s]\n",
      "Training Epoch 891: 100%|██████████| 370/370 [00:01<00:00, 225.89it/s]\n"
     ]
    },
    {
     "name": "stdout",
     "output_type": "stream",
     "text": [
      "Epoch 890 - Train Loss: 0.4236, Train MSE: 0.4240, Train MAE: 0.4277\n",
      "Epoch 890 - Validation Loss: 1.4882, Validation MSE: 1.4897, Validation MAE: 0.9107\n"
     ]
    },
    {
     "name": "stderr",
     "output_type": "stream",
     "text": [
      "Training Epoch 892: 100%|██████████| 370/370 [00:01<00:00, 215.85it/s]\n",
      "Training Epoch 893: 100%|██████████| 370/370 [00:01<00:00, 221.34it/s]\n",
      "Training Epoch 894: 100%|██████████| 370/370 [00:01<00:00, 224.32it/s]\n",
      "Training Epoch 895: 100%|██████████| 370/370 [00:01<00:00, 227.14it/s]\n",
      "Training Epoch 896: 100%|██████████| 370/370 [00:01<00:00, 226.29it/s]\n",
      "Training Epoch 897: 100%|██████████| 370/370 [00:01<00:00, 221.67it/s]\n",
      "Training Epoch 898: 100%|██████████| 370/370 [00:01<00:00, 213.01it/s]\n",
      "Training Epoch 899: 100%|██████████| 370/370 [00:01<00:00, 219.52it/s]\n",
      "Training Epoch 900: 100%|██████████| 370/370 [00:01<00:00, 215.65it/s]\n",
      "Training Epoch 901: 100%|██████████| 370/370 [00:01<00:00, 226.79it/s]\n"
     ]
    },
    {
     "name": "stdout",
     "output_type": "stream",
     "text": [
      "Epoch 900 - Train Loss: 0.4234, Train MSE: 0.4228, Train MAE: 0.4274\n",
      "Epoch 900 - Validation Loss: 1.5131, Validation MSE: 1.5143, Validation MAE: 0.9189\n"
     ]
    },
    {
     "name": "stderr",
     "output_type": "stream",
     "text": [
      "Training Epoch 902: 100%|██████████| 370/370 [00:01<00:00, 218.56it/s]\n",
      "Training Epoch 903: 100%|██████████| 370/370 [00:01<00:00, 222.15it/s]\n",
      "Training Epoch 904: 100%|██████████| 370/370 [00:01<00:00, 229.90it/s]\n",
      "Training Epoch 905: 100%|██████████| 370/370 [00:01<00:00, 224.87it/s]\n",
      "Training Epoch 906: 100%|██████████| 370/370 [00:01<00:00, 227.78it/s]\n",
      "Training Epoch 907: 100%|██████████| 370/370 [00:01<00:00, 214.02it/s]\n",
      "Training Epoch 908: 100%|██████████| 370/370 [00:01<00:00, 222.94it/s]\n",
      "Training Epoch 909: 100%|██████████| 370/370 [00:01<00:00, 217.78it/s]\n",
      "Training Epoch 910: 100%|██████████| 370/370 [00:01<00:00, 229.10it/s]\n",
      "Training Epoch 911: 100%|██████████| 370/370 [00:01<00:00, 217.88it/s]\n"
     ]
    },
    {
     "name": "stdout",
     "output_type": "stream",
     "text": [
      "Epoch 910 - Train Loss: 0.4256, Train MSE: 0.4262, Train MAE: 0.4272\n",
      "Epoch 910 - Validation Loss: 1.5348, Validation MSE: 1.5365, Validation MAE: 0.9291\n"
     ]
    },
    {
     "name": "stderr",
     "output_type": "stream",
     "text": [
      "Training Epoch 912: 100%|██████████| 370/370 [00:01<00:00, 223.55it/s]\n",
      "Training Epoch 913: 100%|██████████| 370/370 [00:01<00:00, 222.62it/s]\n",
      "Training Epoch 914: 100%|██████████| 370/370 [00:01<00:00, 232.21it/s]\n",
      "Training Epoch 915: 100%|██████████| 370/370 [00:01<00:00, 199.98it/s]\n",
      "Training Epoch 916: 100%|██████████| 370/370 [00:01<00:00, 225.10it/s]\n",
      "Training Epoch 917: 100%|██████████| 370/370 [00:01<00:00, 230.85it/s]\n",
      "Training Epoch 918: 100%|██████████| 370/370 [00:01<00:00, 221.18it/s]\n",
      "Training Epoch 919: 100%|██████████| 370/370 [00:01<00:00, 232.76it/s]\n",
      "Training Epoch 920: 100%|██████████| 370/370 [00:01<00:00, 232.32it/s]\n",
      "Training Epoch 921: 100%|██████████| 370/370 [00:01<00:00, 227.82it/s]\n"
     ]
    },
    {
     "name": "stdout",
     "output_type": "stream",
     "text": [
      "Epoch 920 - Train Loss: 0.4300, Train MSE: 0.4304, Train MAE: 0.4308\n",
      "Epoch 920 - Validation Loss: 1.5336, Validation MSE: 1.5356, Validation MAE: 0.9251\n"
     ]
    },
    {
     "name": "stderr",
     "output_type": "stream",
     "text": [
      "Training Epoch 922: 100%|██████████| 370/370 [00:01<00:00, 234.00it/s]\n",
      "Training Epoch 923: 100%|██████████| 370/370 [00:01<00:00, 230.74it/s]\n",
      "Training Epoch 924: 100%|██████████| 370/370 [00:01<00:00, 232.08it/s]\n",
      "Training Epoch 925: 100%|██████████| 370/370 [00:01<00:00, 217.57it/s]\n",
      "Training Epoch 926: 100%|██████████| 370/370 [00:01<00:00, 223.85it/s]\n",
      "Training Epoch 927: 100%|██████████| 370/370 [00:01<00:00, 235.43it/s]\n",
      "Training Epoch 928: 100%|██████████| 370/370 [00:01<00:00, 237.15it/s]\n",
      "Training Epoch 929: 100%|██████████| 370/370 [00:01<00:00, 229.47it/s]\n",
      "Training Epoch 930: 100%|██████████| 370/370 [00:01<00:00, 231.28it/s]\n",
      "Training Epoch 931: 100%|██████████| 370/370 [00:01<00:00, 225.44it/s]\n"
     ]
    },
    {
     "name": "stdout",
     "output_type": "stream",
     "text": [
      "Epoch 930 - Train Loss: 0.4180, Train MSE: 0.4189, Train MAE: 0.4256\n",
      "Epoch 930 - Validation Loss: 1.5224, Validation MSE: 1.5241, Validation MAE: 0.9145\n"
     ]
    },
    {
     "name": "stderr",
     "output_type": "stream",
     "text": [
      "Training Epoch 932: 100%|██████████| 370/370 [00:01<00:00, 236.79it/s]\n",
      "Training Epoch 933: 100%|██████████| 370/370 [00:01<00:00, 227.31it/s]\n",
      "Training Epoch 934: 100%|██████████| 370/370 [00:01<00:00, 227.08it/s]\n",
      "Training Epoch 935: 100%|██████████| 370/370 [00:01<00:00, 226.41it/s]\n",
      "Training Epoch 936: 100%|██████████| 370/370 [00:01<00:00, 232.38it/s]\n",
      "Training Epoch 937: 100%|██████████| 370/370 [00:01<00:00, 220.43it/s]\n",
      "Training Epoch 938: 100%|██████████| 370/370 [00:01<00:00, 223.62it/s]\n",
      "Training Epoch 939: 100%|██████████| 370/370 [00:01<00:00, 217.60it/s]\n",
      "Training Epoch 940: 100%|██████████| 370/370 [00:01<00:00, 234.67it/s]\n",
      "Training Epoch 941: 100%|██████████| 370/370 [00:01<00:00, 222.94it/s]\n"
     ]
    },
    {
     "name": "stdout",
     "output_type": "stream",
     "text": [
      "Epoch 940 - Train Loss: 0.4210, Train MSE: 0.4217, Train MAE: 0.4263\n",
      "Epoch 940 - Validation Loss: 1.5292, Validation MSE: 1.5311, Validation MAE: 0.9130\n"
     ]
    },
    {
     "name": "stderr",
     "output_type": "stream",
     "text": [
      "Training Epoch 942: 100%|██████████| 370/370 [00:01<00:00, 224.75it/s]\n",
      "Training Epoch 943: 100%|██████████| 370/370 [00:01<00:00, 224.21it/s]\n",
      "Training Epoch 944: 100%|██████████| 370/370 [00:01<00:00, 213.89it/s]\n",
      "Training Epoch 945: 100%|██████████| 370/370 [00:01<00:00, 221.74it/s]\n",
      "Training Epoch 946: 100%|██████████| 370/370 [00:01<00:00, 228.95it/s]\n",
      "Training Epoch 947: 100%|██████████| 370/370 [00:01<00:00, 226.33it/s]\n",
      "Training Epoch 948: 100%|██████████| 370/370 [00:01<00:00, 224.34it/s]\n",
      "Training Epoch 949: 100%|██████████| 370/370 [00:01<00:00, 214.84it/s]\n",
      "Training Epoch 950: 100%|██████████| 370/370 [00:01<00:00, 194.23it/s]\n",
      "Training Epoch 951: 100%|██████████| 370/370 [00:01<00:00, 210.57it/s]\n"
     ]
    },
    {
     "name": "stdout",
     "output_type": "stream",
     "text": [
      "Epoch 950 - Train Loss: 0.4156, Train MSE: 0.4164, Train MAE: 0.4229\n",
      "Epoch 950 - Validation Loss: 1.4952, Validation MSE: 1.4977, Validation MAE: 0.9012\n"
     ]
    },
    {
     "name": "stderr",
     "output_type": "stream",
     "text": [
      "Training Epoch 952: 100%|██████████| 370/370 [00:01<00:00, 222.19it/s]\n",
      "Training Epoch 953: 100%|██████████| 370/370 [00:01<00:00, 225.16it/s]\n",
      "Training Epoch 954: 100%|██████████| 370/370 [00:01<00:00, 211.74it/s]\n",
      "Training Epoch 955: 100%|██████████| 370/370 [00:01<00:00, 220.34it/s]\n",
      "Training Epoch 956: 100%|██████████| 370/370 [00:01<00:00, 236.47it/s]\n",
      "Training Epoch 957: 100%|██████████| 370/370 [00:01<00:00, 227.85it/s]\n",
      "Training Epoch 958: 100%|██████████| 370/370 [00:01<00:00, 228.52it/s]\n",
      "Training Epoch 959: 100%|██████████| 370/370 [00:01<00:00, 226.93it/s]\n",
      "Training Epoch 960: 100%|██████████| 370/370 [00:01<00:00, 224.78it/s]\n",
      "Training Epoch 961: 100%|██████████| 370/370 [00:01<00:00, 233.55it/s]\n"
     ]
    },
    {
     "name": "stdout",
     "output_type": "stream",
     "text": [
      "Epoch 960 - Train Loss: 0.4206, Train MSE: 0.4204, Train MAE: 0.4273\n",
      "Epoch 960 - Validation Loss: 1.4970, Validation MSE: 1.4985, Validation MAE: 0.9075\n"
     ]
    },
    {
     "name": "stderr",
     "output_type": "stream",
     "text": [
      "Training Epoch 962: 100%|██████████| 370/370 [00:01<00:00, 231.99it/s]\n",
      "Training Epoch 963: 100%|██████████| 370/370 [00:01<00:00, 229.64it/s]\n",
      "Training Epoch 964: 100%|██████████| 370/370 [00:01<00:00, 213.48it/s]\n",
      "Training Epoch 965: 100%|██████████| 370/370 [00:01<00:00, 224.89it/s]\n",
      "Training Epoch 966: 100%|██████████| 370/370 [00:01<00:00, 223.72it/s]\n",
      "Training Epoch 967: 100%|██████████| 370/370 [00:01<00:00, 230.36it/s]\n",
      "Training Epoch 968: 100%|██████████| 370/370 [00:01<00:00, 222.43it/s]\n",
      "Training Epoch 969: 100%|██████████| 370/370 [00:01<00:00, 214.40it/s]\n",
      "Training Epoch 970: 100%|██████████| 370/370 [00:01<00:00, 224.71it/s]\n",
      "Training Epoch 971: 100%|██████████| 370/370 [00:01<00:00, 228.88it/s]\n"
     ]
    },
    {
     "name": "stdout",
     "output_type": "stream",
     "text": [
      "Epoch 970 - Train Loss: 0.4147, Train MSE: 0.4149, Train MAE: 0.4216\n",
      "Epoch 970 - Validation Loss: 1.4832, Validation MSE: 1.4852, Validation MAE: 0.9093\n"
     ]
    },
    {
     "name": "stderr",
     "output_type": "stream",
     "text": [
      "Training Epoch 972: 100%|██████████| 370/370 [00:01<00:00, 222.10it/s]\n",
      "Training Epoch 973: 100%|██████████| 370/370 [00:01<00:00, 220.54it/s]\n",
      "Training Epoch 974: 100%|██████████| 370/370 [00:01<00:00, 221.49it/s]\n",
      "Training Epoch 975: 100%|██████████| 370/370 [00:01<00:00, 228.04it/s]\n",
      "Training Epoch 976: 100%|██████████| 370/370 [00:01<00:00, 220.44it/s]\n",
      "Training Epoch 977: 100%|██████████| 370/370 [00:01<00:00, 219.12it/s]\n",
      "Training Epoch 978: 100%|██████████| 370/370 [00:01<00:00, 219.23it/s]\n",
      "Training Epoch 979: 100%|██████████| 370/370 [00:01<00:00, 227.04it/s]\n",
      "Training Epoch 980: 100%|██████████| 370/370 [00:01<00:00, 234.49it/s]\n",
      "Training Epoch 981: 100%|██████████| 370/370 [00:01<00:00, 211.96it/s]\n"
     ]
    },
    {
     "name": "stdout",
     "output_type": "stream",
     "text": [
      "Epoch 980 - Train Loss: 0.4116, Train MSE: 0.4120, Train MAE: 0.4200\n",
      "Epoch 980 - Validation Loss: 1.5094, Validation MSE: 1.5113, Validation MAE: 0.9141\n"
     ]
    },
    {
     "name": "stderr",
     "output_type": "stream",
     "text": [
      "Training Epoch 982: 100%|██████████| 370/370 [00:01<00:00, 221.66it/s]\n",
      "Training Epoch 983: 100%|██████████| 370/370 [00:01<00:00, 219.01it/s]\n",
      "Training Epoch 984: 100%|██████████| 370/370 [00:01<00:00, 203.61it/s]\n",
      "Training Epoch 985: 100%|██████████| 370/370 [00:01<00:00, 226.75it/s]\n",
      "Training Epoch 986: 100%|██████████| 370/370 [00:01<00:00, 224.01it/s]\n",
      "Training Epoch 987: 100%|██████████| 370/370 [00:01<00:00, 231.28it/s]\n",
      "Training Epoch 988: 100%|██████████| 370/370 [00:01<00:00, 223.41it/s]\n",
      "Training Epoch 989: 100%|██████████| 370/370 [00:01<00:00, 227.12it/s]\n",
      "Training Epoch 990: 100%|██████████| 370/370 [00:01<00:00, 233.82it/s]\n",
      "Training Epoch 991: 100%|██████████| 370/370 [00:01<00:00, 229.50it/s]\n"
     ]
    },
    {
     "name": "stdout",
     "output_type": "stream",
     "text": [
      "Epoch 990 - Train Loss: 0.4150, Train MSE: 0.4158, Train MAE: 0.4234\n",
      "Epoch 990 - Validation Loss: 1.4774, Validation MSE: 1.4791, Validation MAE: 0.9084\n"
     ]
    },
    {
     "name": "stderr",
     "output_type": "stream",
     "text": [
      "Training Epoch 992: 100%|██████████| 370/370 [00:01<00:00, 227.85it/s]\n",
      "Training Epoch 993: 100%|██████████| 370/370 [00:01<00:00, 234.89it/s]\n",
      "Training Epoch 994: 100%|██████████| 370/370 [00:01<00:00, 230.69it/s]\n",
      "Training Epoch 995: 100%|██████████| 370/370 [00:01<00:00, 230.62it/s]\n",
      "Training Epoch 996: 100%|██████████| 370/370 [00:01<00:00, 208.41it/s]\n",
      "Training Epoch 997: 100%|██████████| 370/370 [00:01<00:00, 224.06it/s]\n",
      "Training Epoch 998: 100%|██████████| 370/370 [00:01<00:00, 218.53it/s]\n",
      "Training Epoch 999: 100%|██████████| 370/370 [00:01<00:00, 227.00it/s]\n",
      "Training Epoch 1000: 100%|██████████| 370/370 [00:01<00:00, 194.00it/s]\n",
      "Training Epoch 1001: 100%|██████████| 370/370 [00:01<00:00, 220.49it/s]\n"
     ]
    },
    {
     "name": "stdout",
     "output_type": "stream",
     "text": [
      "Epoch 1000 - Train Loss: 0.4132, Train MSE: 0.4139, Train MAE: 0.4219\n",
      "Epoch 1000 - Validation Loss: 1.5353, Validation MSE: 1.5371, Validation MAE: 0.9241\n"
     ]
    },
    {
     "name": "stderr",
     "output_type": "stream",
     "text": [
      "Training Epoch 1002: 100%|██████████| 370/370 [00:01<00:00, 220.47it/s]\n",
      "Training Epoch 1003: 100%|██████████| 370/370 [00:01<00:00, 217.70it/s]\n",
      "Training Epoch 1004: 100%|██████████| 370/370 [00:01<00:00, 230.59it/s]\n",
      "Training Epoch 1005: 100%|██████████| 370/370 [00:01<00:00, 234.03it/s]\n",
      "Training Epoch 1006: 100%|██████████| 370/370 [00:01<00:00, 229.58it/s]\n",
      "Training Epoch 1007: 100%|██████████| 370/370 [00:01<00:00, 221.24it/s]\n",
      "Training Epoch 1008: 100%|██████████| 370/370 [00:01<00:00, 215.96it/s]\n",
      "Training Epoch 1009: 100%|██████████| 370/370 [00:01<00:00, 217.47it/s]\n",
      "Training Epoch 1010: 100%|██████████| 370/370 [00:01<00:00, 215.82it/s]\n",
      "Training Epoch 1011: 100%|██████████| 370/370 [00:01<00:00, 225.85it/s]\n"
     ]
    },
    {
     "name": "stdout",
     "output_type": "stream",
     "text": [
      "Epoch 1010 - Train Loss: 0.4106, Train MSE: 0.4114, Train MAE: 0.4193\n",
      "Epoch 1010 - Validation Loss: 1.5036, Validation MSE: 1.5052, Validation MAE: 0.9182\n"
     ]
    },
    {
     "name": "stderr",
     "output_type": "stream",
     "text": [
      "Training Epoch 1012: 100%|██████████| 370/370 [00:01<00:00, 216.88it/s]\n",
      "Training Epoch 1013: 100%|██████████| 370/370 [00:01<00:00, 191.49it/s]\n",
      "Training Epoch 1014: 100%|██████████| 370/370 [00:01<00:00, 227.31it/s]\n",
      "Training Epoch 1015: 100%|██████████| 370/370 [00:01<00:00, 227.78it/s]\n",
      "Training Epoch 1016: 100%|██████████| 370/370 [00:01<00:00, 221.48it/s]\n",
      "Training Epoch 1017: 100%|██████████| 370/370 [00:01<00:00, 201.76it/s]\n",
      "Training Epoch 1018: 100%|██████████| 370/370 [00:01<00:00, 215.36it/s]\n",
      "Training Epoch 1019: 100%|██████████| 370/370 [00:01<00:00, 205.80it/s]\n",
      "Training Epoch 1020: 100%|██████████| 370/370 [00:01<00:00, 211.73it/s]\n",
      "Training Epoch 1021: 100%|██████████| 370/370 [00:01<00:00, 206.45it/s]\n"
     ]
    },
    {
     "name": "stdout",
     "output_type": "stream",
     "text": [
      "Epoch 1020 - Train Loss: 0.4106, Train MSE: 0.4115, Train MAE: 0.4193\n",
      "Epoch 1020 - Validation Loss: 1.5197, Validation MSE: 1.5212, Validation MAE: 0.9176\n"
     ]
    },
    {
     "name": "stderr",
     "output_type": "stream",
     "text": [
      "Training Epoch 1022: 100%|██████████| 370/370 [00:01<00:00, 209.35it/s]\n",
      "Training Epoch 1023: 100%|██████████| 370/370 [00:01<00:00, 219.44it/s]\n",
      "Training Epoch 1024: 100%|██████████| 370/370 [00:01<00:00, 227.95it/s]\n",
      "Training Epoch 1025: 100%|██████████| 370/370 [00:01<00:00, 227.51it/s]\n",
      "Training Epoch 1026: 100%|██████████| 370/370 [00:01<00:00, 228.58it/s]\n",
      "Training Epoch 1027: 100%|██████████| 370/370 [00:01<00:00, 213.45it/s]\n",
      "Training Epoch 1028: 100%|██████████| 370/370 [00:01<00:00, 226.82it/s]\n",
      "Training Epoch 1029: 100%|██████████| 370/370 [00:01<00:00, 222.35it/s]\n",
      "Training Epoch 1030: 100%|██████████| 370/370 [00:01<00:00, 221.13it/s]\n",
      "Training Epoch 1031: 100%|██████████| 370/370 [00:01<00:00, 214.62it/s]\n"
     ]
    },
    {
     "name": "stdout",
     "output_type": "stream",
     "text": [
      "Epoch 1030 - Train Loss: 0.4088, Train MSE: 0.4090, Train MAE: 0.4190\n",
      "Epoch 1030 - Validation Loss: 1.4800, Validation MSE: 1.4815, Validation MAE: 0.9054\n"
     ]
    },
    {
     "name": "stderr",
     "output_type": "stream",
     "text": [
      "Training Epoch 1032: 100%|██████████| 370/370 [00:01<00:00, 220.75it/s]\n",
      "Training Epoch 1033: 100%|██████████| 370/370 [00:01<00:00, 216.36it/s]\n",
      "Training Epoch 1034: 100%|██████████| 370/370 [00:01<00:00, 230.61it/s]\n",
      "Training Epoch 1035: 100%|██████████| 370/370 [00:01<00:00, 223.98it/s]\n",
      "Training Epoch 1036: 100%|██████████| 370/370 [00:01<00:00, 213.91it/s]\n",
      "Training Epoch 1037: 100%|██████████| 370/370 [00:01<00:00, 221.00it/s]\n",
      "Training Epoch 1038: 100%|██████████| 370/370 [00:01<00:00, 231.72it/s]\n",
      "Training Epoch 1039: 100%|██████████| 370/370 [00:01<00:00, 223.18it/s]\n",
      "Training Epoch 1040: 100%|██████████| 370/370 [00:01<00:00, 225.53it/s]\n",
      "Training Epoch 1041: 100%|██████████| 370/370 [00:01<00:00, 224.25it/s]\n"
     ]
    },
    {
     "name": "stdout",
     "output_type": "stream",
     "text": [
      "Epoch 1040 - Train Loss: 0.4030, Train MSE: 0.4027, Train MAE: 0.4156\n",
      "Epoch 1040 - Validation Loss: 1.5057, Validation MSE: 1.5076, Validation MAE: 0.9137\n"
     ]
    },
    {
     "name": "stderr",
     "output_type": "stream",
     "text": [
      "Training Epoch 1042: 100%|██████████| 370/370 [00:01<00:00, 223.47it/s]\n",
      "Training Epoch 1043: 100%|██████████| 370/370 [00:01<00:00, 226.94it/s]\n",
      "Training Epoch 1044: 100%|██████████| 370/370 [00:01<00:00, 225.15it/s]\n",
      "Training Epoch 1045: 100%|██████████| 370/370 [00:01<00:00, 221.57it/s]\n",
      "Training Epoch 1046: 100%|██████████| 370/370 [00:01<00:00, 222.58it/s]\n",
      "Training Epoch 1047: 100%|██████████| 370/370 [00:01<00:00, 227.36it/s]\n",
      "Training Epoch 1048: 100%|██████████| 370/370 [00:01<00:00, 229.41it/s]\n",
      "Training Epoch 1049: 100%|██████████| 370/370 [00:01<00:00, 224.16it/s]\n",
      "Training Epoch 1050: 100%|██████████| 370/370 [00:01<00:00, 230.95it/s]\n",
      "Training Epoch 1051: 100%|██████████| 370/370 [00:01<00:00, 212.11it/s]\n"
     ]
    },
    {
     "name": "stdout",
     "output_type": "stream",
     "text": [
      "Epoch 1050 - Train Loss: 0.4049, Train MSE: 0.4052, Train MAE: 0.4163\n",
      "Epoch 1050 - Validation Loss: 1.4939, Validation MSE: 1.4957, Validation MAE: 0.9123\n"
     ]
    },
    {
     "name": "stderr",
     "output_type": "stream",
     "text": [
      "Training Epoch 1052: 100%|██████████| 370/370 [00:01<00:00, 222.23it/s]\n",
      "Training Epoch 1053: 100%|██████████| 370/370 [00:01<00:00, 230.11it/s]\n",
      "Training Epoch 1054: 100%|██████████| 370/370 [00:01<00:00, 228.64it/s]\n",
      "Training Epoch 1055: 100%|██████████| 370/370 [00:01<00:00, 203.29it/s]\n",
      "Training Epoch 1056: 100%|██████████| 370/370 [00:01<00:00, 212.87it/s]\n",
      "Training Epoch 1057: 100%|██████████| 370/370 [00:01<00:00, 231.95it/s]\n",
      "Training Epoch 1058: 100%|██████████| 370/370 [00:01<00:00, 215.35it/s]\n",
      "Training Epoch 1059: 100%|██████████| 370/370 [00:01<00:00, 214.74it/s]\n",
      "Training Epoch 1060: 100%|██████████| 370/370 [00:01<00:00, 225.09it/s]\n",
      "Training Epoch 1061: 100%|██████████| 370/370 [00:01<00:00, 207.05it/s]\n"
     ]
    },
    {
     "name": "stdout",
     "output_type": "stream",
     "text": [
      "Epoch 1060 - Train Loss: 0.4060, Train MSE: 0.4065, Train MAE: 0.4187\n",
      "Epoch 1060 - Validation Loss: 1.5078, Validation MSE: 1.5096, Validation MAE: 0.9172\n"
     ]
    },
    {
     "name": "stderr",
     "output_type": "stream",
     "text": [
      "Training Epoch 1062: 100%|██████████| 370/370 [00:01<00:00, 200.84it/s]\n",
      "Training Epoch 1063: 100%|██████████| 370/370 [00:01<00:00, 214.32it/s]\n",
      "Training Epoch 1064: 100%|██████████| 370/370 [00:01<00:00, 221.45it/s]\n",
      "Training Epoch 1065: 100%|██████████| 370/370 [00:01<00:00, 223.01it/s]\n",
      "Training Epoch 1066: 100%|██████████| 370/370 [00:01<00:00, 208.56it/s]\n",
      "Training Epoch 1067: 100%|██████████| 370/370 [00:01<00:00, 218.92it/s]\n",
      "Training Epoch 1068: 100%|██████████| 370/370 [00:01<00:00, 205.60it/s]\n",
      "Training Epoch 1069: 100%|██████████| 370/370 [00:01<00:00, 229.92it/s]\n",
      "Training Epoch 1070: 100%|██████████| 370/370 [00:01<00:00, 221.40it/s]\n",
      "Training Epoch 1071: 100%|██████████| 370/370 [00:01<00:00, 222.02it/s]\n"
     ]
    },
    {
     "name": "stdout",
     "output_type": "stream",
     "text": [
      "Epoch 1070 - Train Loss: 0.4051, Train MSE: 0.4036, Train MAE: 0.4149\n",
      "Epoch 1070 - Validation Loss: 1.5215, Validation MSE: 1.5234, Validation MAE: 0.9233\n"
     ]
    },
    {
     "name": "stderr",
     "output_type": "stream",
     "text": [
      "Training Epoch 1072: 100%|██████████| 370/370 [00:01<00:00, 232.59it/s]\n",
      "Training Epoch 1073: 100%|██████████| 370/370 [00:01<00:00, 231.39it/s]\n",
      "Training Epoch 1074: 100%|██████████| 370/370 [00:01<00:00, 230.55it/s]\n",
      "Training Epoch 1075: 100%|██████████| 370/370 [00:01<00:00, 231.83it/s]\n",
      "Training Epoch 1076: 100%|██████████| 370/370 [00:01<00:00, 225.08it/s]\n",
      "Training Epoch 1077: 100%|██████████| 370/370 [00:01<00:00, 231.58it/s]\n",
      "Training Epoch 1078: 100%|██████████| 370/370 [00:01<00:00, 221.48it/s]\n",
      "Training Epoch 1079: 100%|██████████| 370/370 [00:01<00:00, 223.77it/s]\n",
      "Training Epoch 1080: 100%|██████████| 370/370 [00:01<00:00, 219.42it/s]\n",
      "Training Epoch 1081: 100%|██████████| 370/370 [00:01<00:00, 217.83it/s]\n"
     ]
    },
    {
     "name": "stdout",
     "output_type": "stream",
     "text": [
      "Epoch 1080 - Train Loss: 0.4024, Train MSE: 0.4031, Train MAE: 0.4145\n",
      "Epoch 1080 - Validation Loss: 1.5124, Validation MSE: 1.5140, Validation MAE: 0.9166\n"
     ]
    },
    {
     "name": "stderr",
     "output_type": "stream",
     "text": [
      "Training Epoch 1082: 100%|██████████| 370/370 [00:01<00:00, 227.41it/s]\n",
      "Training Epoch 1083: 100%|██████████| 370/370 [00:01<00:00, 234.15it/s]\n",
      "Training Epoch 1084: 100%|██████████| 370/370 [00:01<00:00, 228.06it/s]\n",
      "Training Epoch 1085: 100%|██████████| 370/370 [00:01<00:00, 209.52it/s]\n",
      "Training Epoch 1086: 100%|██████████| 370/370 [00:01<00:00, 219.35it/s]\n",
      "Training Epoch 1087: 100%|██████████| 370/370 [00:01<00:00, 232.65it/s]\n",
      "Training Epoch 1088: 100%|██████████| 370/370 [00:01<00:00, 237.74it/s]\n",
      "Training Epoch 1089: 100%|██████████| 370/370 [00:01<00:00, 233.67it/s]\n",
      "Training Epoch 1090: 100%|██████████| 370/370 [00:01<00:00, 218.17it/s]\n",
      "Training Epoch 1091: 100%|██████████| 370/370 [00:01<00:00, 230.58it/s]\n"
     ]
    },
    {
     "name": "stdout",
     "output_type": "stream",
     "text": [
      "Epoch 1090 - Train Loss: 0.4056, Train MSE: 0.4051, Train MAE: 0.4150\n",
      "Epoch 1090 - Validation Loss: 1.5252, Validation MSE: 1.5269, Validation MAE: 0.9174\n"
     ]
    },
    {
     "name": "stderr",
     "output_type": "stream",
     "text": [
      "Training Epoch 1092: 100%|██████████| 370/370 [00:01<00:00, 226.81it/s]\n",
      "Training Epoch 1093: 100%|██████████| 370/370 [00:01<00:00, 232.17it/s]\n",
      "Training Epoch 1094: 100%|██████████| 370/370 [00:01<00:00, 237.64it/s]\n",
      "Training Epoch 1095: 100%|██████████| 370/370 [00:01<00:00, 230.02it/s]\n",
      "Training Epoch 1096: 100%|██████████| 370/370 [00:01<00:00, 231.38it/s]\n",
      "Training Epoch 1097: 100%|██████████| 370/370 [00:01<00:00, 232.62it/s]\n",
      "Training Epoch 1098: 100%|██████████| 370/370 [00:01<00:00, 233.22it/s]\n",
      "Training Epoch 1099: 100%|██████████| 370/370 [00:01<00:00, 224.77it/s]\n",
      "Training Epoch 1100: 100%|██████████| 370/370 [00:01<00:00, 220.87it/s]\n",
      "Training Epoch 1101: 100%|██████████| 370/370 [00:01<00:00, 206.51it/s]\n"
     ]
    },
    {
     "name": "stdout",
     "output_type": "stream",
     "text": [
      "Epoch 1100 - Train Loss: 0.3961, Train MSE: 0.3968, Train MAE: 0.4119\n",
      "Epoch 1100 - Validation Loss: 1.5210, Validation MSE: 1.5227, Validation MAE: 0.9203\n"
     ]
    },
    {
     "name": "stderr",
     "output_type": "stream",
     "text": [
      "Training Epoch 1102: 100%|██████████| 370/370 [00:01<00:00, 214.51it/s]\n",
      "Training Epoch 1103: 100%|██████████| 370/370 [00:01<00:00, 223.24it/s]\n",
      "Training Epoch 1104: 100%|██████████| 370/370 [00:01<00:00, 205.22it/s]\n",
      "Training Epoch 1105: 100%|██████████| 370/370 [00:01<00:00, 203.11it/s]\n",
      "Training Epoch 1106: 100%|██████████| 370/370 [00:01<00:00, 218.74it/s]\n",
      "Training Epoch 1107: 100%|██████████| 370/370 [00:01<00:00, 214.46it/s]\n",
      "Training Epoch 1108: 100%|██████████| 370/370 [00:01<00:00, 208.08it/s]\n",
      "Training Epoch 1109: 100%|██████████| 370/370 [00:01<00:00, 224.90it/s]\n",
      "Training Epoch 1110: 100%|██████████| 370/370 [00:01<00:00, 233.99it/s]\n",
      "Training Epoch 1111: 100%|██████████| 370/370 [00:01<00:00, 222.73it/s]\n"
     ]
    },
    {
     "name": "stdout",
     "output_type": "stream",
     "text": [
      "Epoch 1110 - Train Loss: 0.3989, Train MSE: 0.3998, Train MAE: 0.4115\n",
      "Epoch 1110 - Validation Loss: 1.5263, Validation MSE: 1.5282, Validation MAE: 0.9164\n"
     ]
    },
    {
     "name": "stderr",
     "output_type": "stream",
     "text": [
      "Training Epoch 1112: 100%|██████████| 370/370 [00:01<00:00, 222.76it/s]\n",
      "Training Epoch 1113: 100%|██████████| 370/370 [00:01<00:00, 227.92it/s]\n",
      "Training Epoch 1114: 100%|██████████| 370/370 [00:01<00:00, 222.11it/s]\n",
      "Training Epoch 1115: 100%|██████████| 370/370 [00:01<00:00, 228.18it/s]\n",
      "Training Epoch 1116: 100%|██████████| 370/370 [00:01<00:00, 217.02it/s]\n",
      "Training Epoch 1117: 100%|██████████| 370/370 [00:01<00:00, 213.25it/s]\n",
      "Training Epoch 1118: 100%|██████████| 370/370 [00:01<00:00, 215.38it/s]\n",
      "Training Epoch 1119: 100%|██████████| 370/370 [00:01<00:00, 199.07it/s]\n",
      "Training Epoch 1120: 100%|██████████| 370/370 [00:01<00:00, 226.40it/s]\n",
      "Training Epoch 1121: 100%|██████████| 370/370 [00:01<00:00, 225.45it/s]\n"
     ]
    },
    {
     "name": "stdout",
     "output_type": "stream",
     "text": [
      "Epoch 1120 - Train Loss: 0.4044, Train MSE: 0.4048, Train MAE: 0.4149\n",
      "Epoch 1120 - Validation Loss: 1.5167, Validation MSE: 1.5184, Validation MAE: 0.9132\n"
     ]
    },
    {
     "name": "stderr",
     "output_type": "stream",
     "text": [
      "Training Epoch 1122: 100%|██████████| 370/370 [00:01<00:00, 229.00it/s]\n",
      "Training Epoch 1123: 100%|██████████| 370/370 [00:01<00:00, 219.00it/s]\n",
      "Training Epoch 1124: 100%|██████████| 370/370 [00:01<00:00, 210.22it/s]\n",
      "Training Epoch 1125: 100%|██████████| 370/370 [00:01<00:00, 190.33it/s]\n",
      "Training Epoch 1126: 100%|██████████| 370/370 [00:02<00:00, 171.24it/s]\n",
      "Training Epoch 1127: 100%|██████████| 370/370 [00:02<00:00, 175.57it/s]\n",
      "Training Epoch 1128: 100%|██████████| 370/370 [00:02<00:00, 179.20it/s]\n",
      "Training Epoch 1129: 100%|██████████| 370/370 [00:01<00:00, 218.49it/s]\n",
      "Training Epoch 1130: 100%|██████████| 370/370 [00:01<00:00, 216.87it/s]\n",
      "Training Epoch 1131: 100%|██████████| 370/370 [00:01<00:00, 215.19it/s]\n"
     ]
    },
    {
     "name": "stdout",
     "output_type": "stream",
     "text": [
      "Epoch 1130 - Train Loss: 0.4031, Train MSE: 0.4039, Train MAE: 0.4150\n",
      "Epoch 1130 - Validation Loss: 1.5252, Validation MSE: 1.5271, Validation MAE: 0.9173\n"
     ]
    },
    {
     "name": "stderr",
     "output_type": "stream",
     "text": [
      "Training Epoch 1132: 100%|██████████| 370/370 [00:01<00:00, 232.75it/s]\n",
      "Training Epoch 1133: 100%|██████████| 370/370 [00:01<00:00, 231.34it/s]\n",
      "Training Epoch 1134: 100%|██████████| 370/370 [00:01<00:00, 228.61it/s]\n",
      "Training Epoch 1135: 100%|██████████| 370/370 [00:01<00:00, 213.17it/s]\n",
      "Training Epoch 1136: 100%|██████████| 370/370 [00:01<00:00, 213.11it/s]\n",
      "Training Epoch 1137: 100%|██████████| 370/370 [00:01<00:00, 208.84it/s]\n",
      "Training Epoch 1138: 100%|██████████| 370/370 [00:01<00:00, 215.79it/s]\n",
      "Training Epoch 1139: 100%|██████████| 370/370 [00:01<00:00, 216.68it/s]\n",
      "Training Epoch 1140: 100%|██████████| 370/370 [00:01<00:00, 221.45it/s]\n",
      "Training Epoch 1141: 100%|██████████| 370/370 [00:01<00:00, 217.79it/s]\n"
     ]
    },
    {
     "name": "stdout",
     "output_type": "stream",
     "text": [
      "Epoch 1140 - Train Loss: 0.3988, Train MSE: 0.3974, Train MAE: 0.4117\n",
      "Epoch 1140 - Validation Loss: 1.5557, Validation MSE: 1.5574, Validation MAE: 0.9202\n"
     ]
    },
    {
     "name": "stderr",
     "output_type": "stream",
     "text": [
      "Training Epoch 1142: 100%|██████████| 370/370 [00:01<00:00, 212.62it/s]\n",
      "Training Epoch 1143: 100%|██████████| 370/370 [00:01<00:00, 216.01it/s]\n",
      "Training Epoch 1144: 100%|██████████| 370/370 [00:01<00:00, 218.02it/s]\n",
      "Training Epoch 1145: 100%|██████████| 370/370 [00:01<00:00, 218.22it/s]\n",
      "Training Epoch 1146: 100%|██████████| 370/370 [00:01<00:00, 230.18it/s]\n",
      "Training Epoch 1147: 100%|██████████| 370/370 [00:01<00:00, 218.41it/s]\n",
      "Training Epoch 1148: 100%|██████████| 370/370 [00:01<00:00, 213.81it/s]\n",
      "Training Epoch 1149: 100%|██████████| 370/370 [00:01<00:00, 221.63it/s]\n",
      "Training Epoch 1150: 100%|██████████| 370/370 [00:01<00:00, 229.45it/s]\n",
      "Training Epoch 1151: 100%|██████████| 370/370 [00:01<00:00, 227.30it/s]\n"
     ]
    },
    {
     "name": "stdout",
     "output_type": "stream",
     "text": [
      "Epoch 1150 - Train Loss: 0.3989, Train MSE: 0.3965, Train MAE: 0.4104\n",
      "Epoch 1150 - Validation Loss: 1.5491, Validation MSE: 1.5510, Validation MAE: 0.9167\n"
     ]
    },
    {
     "name": "stderr",
     "output_type": "stream",
     "text": [
      "Training Epoch 1152: 100%|██████████| 370/370 [00:01<00:00, 200.04it/s]\n",
      "Training Epoch 1153: 100%|██████████| 370/370 [00:01<00:00, 216.25it/s]\n",
      "Training Epoch 1154: 100%|██████████| 370/370 [00:01<00:00, 218.58it/s]\n",
      "Training Epoch 1155: 100%|██████████| 370/370 [00:01<00:00, 235.96it/s]\n",
      "Training Epoch 1156: 100%|██████████| 370/370 [00:01<00:00, 231.56it/s]\n",
      "Training Epoch 1157: 100%|██████████| 370/370 [00:01<00:00, 210.84it/s]\n",
      "Training Epoch 1158: 100%|██████████| 370/370 [00:01<00:00, 215.20it/s]\n",
      "Training Epoch 1159: 100%|██████████| 370/370 [00:01<00:00, 228.77it/s]\n",
      "Training Epoch 1160: 100%|██████████| 370/370 [00:01<00:00, 225.68it/s]\n",
      "Training Epoch 1161: 100%|██████████| 370/370 [00:01<00:00, 193.24it/s]\n"
     ]
    },
    {
     "name": "stdout",
     "output_type": "stream",
     "text": [
      "Epoch 1160 - Train Loss: 0.3963, Train MSE: 0.3913, Train MAE: 0.4090\n",
      "Epoch 1160 - Validation Loss: 1.5549, Validation MSE: 1.5566, Validation MAE: 0.9294\n"
     ]
    },
    {
     "name": "stderr",
     "output_type": "stream",
     "text": [
      "Training Epoch 1162: 100%|██████████| 370/370 [00:01<00:00, 217.10it/s]\n",
      "Training Epoch 1163: 100%|██████████| 370/370 [00:01<00:00, 219.24it/s]\n",
      "Training Epoch 1164: 100%|██████████| 370/370 [00:01<00:00, 218.88it/s]\n",
      "Training Epoch 1165: 100%|██████████| 370/370 [00:01<00:00, 208.91it/s]\n",
      "Training Epoch 1166: 100%|██████████| 370/370 [00:01<00:00, 201.36it/s]\n",
      "Training Epoch 1167: 100%|██████████| 370/370 [00:01<00:00, 196.47it/s]\n",
      "Training Epoch 1168: 100%|██████████| 370/370 [00:01<00:00, 214.38it/s]\n",
      "Training Epoch 1169: 100%|██████████| 370/370 [00:01<00:00, 214.21it/s]\n",
      "Training Epoch 1170: 100%|██████████| 370/370 [00:01<00:00, 226.10it/s]\n",
      "Training Epoch 1171: 100%|██████████| 370/370 [00:01<00:00, 211.96it/s]\n"
     ]
    },
    {
     "name": "stdout",
     "output_type": "stream",
     "text": [
      "Epoch 1170 - Train Loss: 0.4009, Train MSE: 0.3956, Train MAE: 0.4094\n",
      "Epoch 1170 - Validation Loss: 1.5272, Validation MSE: 1.5292, Validation MAE: 0.9180\n"
     ]
    },
    {
     "name": "stderr",
     "output_type": "stream",
     "text": [
      "Training Epoch 1172: 100%|██████████| 370/370 [00:01<00:00, 221.05it/s]\n",
      "Training Epoch 1173: 100%|██████████| 370/370 [00:01<00:00, 206.67it/s]\n",
      "Training Epoch 1174: 100%|██████████| 370/370 [00:01<00:00, 232.40it/s]\n",
      "Training Epoch 1175: 100%|██████████| 370/370 [00:01<00:00, 234.39it/s]\n",
      "Training Epoch 1176: 100%|██████████| 370/370 [00:01<00:00, 236.47it/s]\n",
      "Training Epoch 1177: 100%|██████████| 370/370 [00:01<00:00, 219.47it/s]\n",
      "Training Epoch 1178: 100%|██████████| 370/370 [00:01<00:00, 215.39it/s]\n",
      "Training Epoch 1179: 100%|██████████| 370/370 [00:01<00:00, 234.15it/s]\n",
      "Training Epoch 1180: 100%|██████████| 370/370 [00:01<00:00, 235.32it/s]\n",
      "Training Epoch 1181: 100%|██████████| 370/370 [00:01<00:00, 226.33it/s]\n"
     ]
    },
    {
     "name": "stdout",
     "output_type": "stream",
     "text": [
      "Epoch 1180 - Train Loss: 0.3945, Train MSE: 0.3947, Train MAE: 0.4108\n",
      "Epoch 1180 - Validation Loss: 1.5353, Validation MSE: 1.5372, Validation MAE: 0.9222\n"
     ]
    },
    {
     "name": "stderr",
     "output_type": "stream",
     "text": [
      "Training Epoch 1182: 100%|██████████| 370/370 [00:01<00:00, 216.08it/s]\n",
      "Training Epoch 1183: 100%|██████████| 370/370 [00:01<00:00, 215.38it/s]\n",
      "Training Epoch 1184: 100%|██████████| 370/370 [00:01<00:00, 231.75it/s]\n",
      "Training Epoch 1185: 100%|██████████| 370/370 [00:01<00:00, 224.16it/s]\n",
      "Training Epoch 1186: 100%|██████████| 370/370 [00:01<00:00, 191.06it/s]\n",
      "Training Epoch 1187: 100%|██████████| 370/370 [00:01<00:00, 210.56it/s]\n",
      "Training Epoch 1188: 100%|██████████| 370/370 [00:01<00:00, 214.55it/s]\n",
      "Training Epoch 1189: 100%|██████████| 370/370 [00:01<00:00, 202.64it/s]\n",
      "Training Epoch 1190: 100%|██████████| 370/370 [00:01<00:00, 208.14it/s]\n",
      "Training Epoch 1191: 100%|██████████| 370/370 [00:01<00:00, 226.37it/s]\n"
     ]
    },
    {
     "name": "stdout",
     "output_type": "stream",
     "text": [
      "Epoch 1190 - Train Loss: 0.3965, Train MSE: 0.3965, Train MAE: 0.4101\n",
      "Epoch 1190 - Validation Loss: 1.5085, Validation MSE: 1.5103, Validation MAE: 0.9087\n"
     ]
    },
    {
     "name": "stderr",
     "output_type": "stream",
     "text": [
      "Training Epoch 1192: 100%|██████████| 370/370 [00:01<00:00, 209.72it/s]\n",
      "Training Epoch 1193: 100%|██████████| 370/370 [00:01<00:00, 211.45it/s]\n",
      "Training Epoch 1194: 100%|██████████| 370/370 [00:01<00:00, 221.74it/s]\n",
      "Training Epoch 1195: 100%|██████████| 370/370 [00:01<00:00, 232.25it/s]\n",
      "Training Epoch 1196: 100%|██████████| 370/370 [00:01<00:00, 207.87it/s]\n",
      "Training Epoch 1197: 100%|██████████| 370/370 [00:01<00:00, 216.32it/s]\n",
      "Training Epoch 1198: 100%|██████████| 370/370 [00:01<00:00, 222.30it/s]\n",
      "Training Epoch 1199: 100%|██████████| 370/370 [00:01<00:00, 227.40it/s]\n",
      "Training Epoch 1200: 100%|██████████| 370/370 [00:01<00:00, 236.51it/s]\n",
      "Training Epoch 1201: 100%|██████████| 370/370 [00:01<00:00, 236.17it/s]\n"
     ]
    },
    {
     "name": "stdout",
     "output_type": "stream",
     "text": [
      "Epoch 1200 - Train Loss: 0.3912, Train MSE: 0.3918, Train MAE: 0.4069\n",
      "Epoch 1200 - Validation Loss: 1.5025, Validation MSE: 1.5045, Validation MAE: 0.9088\n"
     ]
    },
    {
     "name": "stderr",
     "output_type": "stream",
     "text": [
      "Training Epoch 1202: 100%|██████████| 370/370 [00:01<00:00, 221.88it/s]\n",
      "Training Epoch 1203: 100%|██████████| 370/370 [00:01<00:00, 219.48it/s]\n",
      "Training Epoch 1204: 100%|██████████| 370/370 [00:01<00:00, 217.55it/s]\n",
      "Training Epoch 1205: 100%|██████████| 370/370 [00:01<00:00, 226.13it/s]\n",
      "Training Epoch 1206: 100%|██████████| 370/370 [00:01<00:00, 225.65it/s]\n",
      "Training Epoch 1207: 100%|██████████| 370/370 [00:01<00:00, 218.55it/s]\n",
      "Training Epoch 1208: 100%|██████████| 370/370 [00:01<00:00, 199.97it/s]\n",
      "Training Epoch 1209: 100%|██████████| 370/370 [00:01<00:00, 214.52it/s]\n",
      "Training Epoch 1210: 100%|██████████| 370/370 [00:01<00:00, 206.80it/s]\n",
      "Training Epoch 1211: 100%|██████████| 370/370 [00:01<00:00, 202.25it/s]\n"
     ]
    },
    {
     "name": "stdout",
     "output_type": "stream",
     "text": [
      "Epoch 1210 - Train Loss: 0.3877, Train MSE: 0.3884, Train MAE: 0.4057\n",
      "Epoch 1210 - Validation Loss: 1.5293, Validation MSE: 1.5309, Validation MAE: 0.9196\n"
     ]
    },
    {
     "name": "stderr",
     "output_type": "stream",
     "text": [
      "Training Epoch 1212: 100%|██████████| 370/370 [00:01<00:00, 200.31it/s]\n",
      "Training Epoch 1213: 100%|██████████| 370/370 [00:01<00:00, 197.92it/s]\n",
      "Training Epoch 1214: 100%|██████████| 370/370 [00:01<00:00, 206.08it/s]\n",
      "Training Epoch 1215: 100%|██████████| 370/370 [00:01<00:00, 226.52it/s]\n",
      "Training Epoch 1216: 100%|██████████| 370/370 [00:01<00:00, 227.87it/s]\n",
      "Training Epoch 1217: 100%|██████████| 370/370 [00:01<00:00, 220.68it/s]\n",
      "Training Epoch 1218: 100%|██████████| 370/370 [00:01<00:00, 204.18it/s]\n",
      "Training Epoch 1219: 100%|██████████| 370/370 [00:01<00:00, 229.85it/s]\n",
      "Training Epoch 1220: 100%|██████████| 370/370 [00:01<00:00, 230.71it/s]\n",
      "Training Epoch 1221: 100%|██████████| 370/370 [00:01<00:00, 214.49it/s]\n"
     ]
    },
    {
     "name": "stdout",
     "output_type": "stream",
     "text": [
      "Epoch 1220 - Train Loss: 0.3949, Train MSE: 0.3956, Train MAE: 0.4121\n",
      "Epoch 1220 - Validation Loss: 1.5315, Validation MSE: 1.5331, Validation MAE: 0.9165\n"
     ]
    },
    {
     "name": "stderr",
     "output_type": "stream",
     "text": [
      "Training Epoch 1222: 100%|██████████| 370/370 [00:01<00:00, 217.26it/s]\n",
      "Training Epoch 1223: 100%|██████████| 370/370 [00:01<00:00, 206.99it/s]\n",
      "Training Epoch 1224: 100%|██████████| 370/370 [00:01<00:00, 221.49it/s]\n",
      "Training Epoch 1225: 100%|██████████| 370/370 [00:01<00:00, 195.19it/s]\n",
      "Training Epoch 1226: 100%|██████████| 370/370 [00:01<00:00, 221.98it/s]\n",
      "Training Epoch 1227: 100%|██████████| 370/370 [00:01<00:00, 222.47it/s]\n",
      "Training Epoch 1228: 100%|██████████| 370/370 [00:01<00:00, 228.82it/s]\n",
      "Training Epoch 1229: 100%|██████████| 370/370 [00:01<00:00, 209.86it/s]\n",
      "Training Epoch 1230: 100%|██████████| 370/370 [00:01<00:00, 215.27it/s]\n",
      "Training Epoch 1231: 100%|██████████| 370/370 [00:01<00:00, 220.39it/s]\n"
     ]
    },
    {
     "name": "stdout",
     "output_type": "stream",
     "text": [
      "Epoch 1230 - Train Loss: 0.3875, Train MSE: 0.3882, Train MAE: 0.4070\n",
      "Epoch 1230 - Validation Loss: 1.5212, Validation MSE: 1.5231, Validation MAE: 0.9120\n"
     ]
    },
    {
     "name": "stderr",
     "output_type": "stream",
     "text": [
      "Training Epoch 1232: 100%|██████████| 370/370 [00:01<00:00, 213.21it/s]\n",
      "Training Epoch 1233: 100%|██████████| 370/370 [00:01<00:00, 213.17it/s]\n",
      "Training Epoch 1234: 100%|██████████| 370/370 [00:01<00:00, 223.62it/s]\n",
      "Training Epoch 1235: 100%|██████████| 370/370 [00:01<00:00, 224.37it/s]\n",
      "Training Epoch 1236: 100%|██████████| 370/370 [00:01<00:00, 239.05it/s]\n",
      "Training Epoch 1237: 100%|██████████| 370/370 [00:01<00:00, 220.49it/s]\n",
      "Training Epoch 1238: 100%|██████████| 370/370 [00:01<00:00, 222.03it/s]\n",
      "Training Epoch 1239: 100%|██████████| 370/370 [00:01<00:00, 222.58it/s]\n",
      "Training Epoch 1240: 100%|██████████| 370/370 [00:01<00:00, 240.11it/s]\n",
      "Training Epoch 1241: 100%|██████████| 370/370 [00:01<00:00, 240.37it/s]\n"
     ]
    },
    {
     "name": "stdout",
     "output_type": "stream",
     "text": [
      "Epoch 1240 - Train Loss: 0.3844, Train MSE: 0.3851, Train MAE: 0.4026\n",
      "Epoch 1240 - Validation Loss: 1.5157, Validation MSE: 1.5175, Validation MAE: 0.9122\n"
     ]
    },
    {
     "name": "stderr",
     "output_type": "stream",
     "text": [
      "Training Epoch 1242: 100%|██████████| 370/370 [00:01<00:00, 231.05it/s]\n",
      "Training Epoch 1243: 100%|██████████| 370/370 [00:01<00:00, 220.77it/s]\n",
      "Training Epoch 1244: 100%|██████████| 370/370 [00:01<00:00, 226.23it/s]\n",
      "Training Epoch 1245: 100%|██████████| 370/370 [00:01<00:00, 225.61it/s]\n",
      "Training Epoch 1246: 100%|██████████| 370/370 [00:01<00:00, 237.37it/s]\n",
      "Training Epoch 1247: 100%|██████████| 370/370 [00:01<00:00, 240.19it/s]\n",
      "Training Epoch 1248: 100%|██████████| 370/370 [00:01<00:00, 222.97it/s]\n",
      "Training Epoch 1249: 100%|██████████| 370/370 [00:01<00:00, 217.85it/s]\n",
      "Training Epoch 1250: 100%|██████████| 370/370 [00:01<00:00, 225.98it/s]\n",
      "Training Epoch 1251: 100%|██████████| 370/370 [00:01<00:00, 230.45it/s]\n"
     ]
    },
    {
     "name": "stdout",
     "output_type": "stream",
     "text": [
      "Epoch 1250 - Train Loss: 0.3878, Train MSE: 0.3872, Train MAE: 0.4045\n",
      "Epoch 1250 - Validation Loss: 1.4906, Validation MSE: 1.4922, Validation MAE: 0.9036\n"
     ]
    },
    {
     "name": "stderr",
     "output_type": "stream",
     "text": [
      "Training Epoch 1252: 100%|██████████| 370/370 [00:01<00:00, 245.38it/s]\n",
      "Training Epoch 1253: 100%|██████████| 370/370 [00:01<00:00, 200.02it/s]\n",
      "Training Epoch 1254: 100%|██████████| 370/370 [00:01<00:00, 225.42it/s]\n",
      "Training Epoch 1255: 100%|██████████| 370/370 [00:01<00:00, 226.40it/s]\n",
      "Training Epoch 1256: 100%|██████████| 370/370 [00:01<00:00, 237.43it/s]\n",
      "Training Epoch 1257: 100%|██████████| 370/370 [00:01<00:00, 242.80it/s]\n",
      "Training Epoch 1258: 100%|██████████| 370/370 [00:01<00:00, 233.17it/s]\n",
      "Training Epoch 1259: 100%|██████████| 370/370 [00:01<00:00, 224.56it/s]\n",
      "Training Epoch 1260: 100%|██████████| 370/370 [00:01<00:00, 222.22it/s]\n",
      "Training Epoch 1261: 100%|██████████| 370/370 [00:01<00:00, 232.16it/s]\n"
     ]
    },
    {
     "name": "stdout",
     "output_type": "stream",
     "text": [
      "Epoch 1260 - Train Loss: 0.3867, Train MSE: 0.3849, Train MAE: 0.4034\n",
      "Epoch 1260 - Validation Loss: 1.5142, Validation MSE: 1.5158, Validation MAE: 0.9174\n"
     ]
    },
    {
     "name": "stderr",
     "output_type": "stream",
     "text": [
      "Training Epoch 1262: 100%|██████████| 370/370 [00:01<00:00, 237.46it/s]\n",
      "Training Epoch 1263: 100%|██████████| 370/370 [00:01<00:00, 238.99it/s]\n",
      "Training Epoch 1264: 100%|██████████| 370/370 [00:01<00:00, 236.04it/s]\n",
      "Training Epoch 1265: 100%|██████████| 370/370 [00:01<00:00, 216.16it/s]\n",
      "Training Epoch 1266: 100%|██████████| 370/370 [00:01<00:00, 225.36it/s]\n",
      "Training Epoch 1267: 100%|██████████| 370/370 [00:01<00:00, 238.20it/s]\n",
      "Training Epoch 1268: 100%|██████████| 370/370 [00:01<00:00, 241.52it/s]\n",
      "Training Epoch 1269: 100%|██████████| 370/370 [00:01<00:00, 241.26it/s]\n",
      "Training Epoch 1270: 100%|██████████| 370/370 [00:01<00:00, 220.79it/s]\n",
      "Training Epoch 1271: 100%|██████████| 370/370 [00:01<00:00, 221.52it/s]\n"
     ]
    },
    {
     "name": "stdout",
     "output_type": "stream",
     "text": [
      "Epoch 1270 - Train Loss: 0.3834, Train MSE: 0.3839, Train MAE: 0.4024\n",
      "Epoch 1270 - Validation Loss: 1.5227, Validation MSE: 1.5245, Validation MAE: 0.9122\n"
     ]
    },
    {
     "name": "stderr",
     "output_type": "stream",
     "text": [
      "Training Epoch 1272: 100%|██████████| 370/370 [00:01<00:00, 231.12it/s]\n",
      "Training Epoch 1273: 100%|██████████| 370/370 [00:01<00:00, 228.12it/s]\n",
      "Training Epoch 1274: 100%|██████████| 370/370 [00:01<00:00, 235.82it/s]\n",
      "Training Epoch 1275: 100%|██████████| 370/370 [00:01<00:00, 226.41it/s]\n",
      "Training Epoch 1276: 100%|██████████| 370/370 [00:01<00:00, 222.21it/s]\n",
      "Training Epoch 1277: 100%|██████████| 370/370 [00:01<00:00, 226.28it/s]\n",
      "Training Epoch 1278: 100%|██████████| 370/370 [00:01<00:00, 237.35it/s]\n",
      "Training Epoch 1279: 100%|██████████| 370/370 [00:01<00:00, 239.39it/s]\n",
      "Training Epoch 1280: 100%|██████████| 370/370 [00:01<00:00, 231.35it/s]\n",
      "Training Epoch 1281: 100%|██████████| 370/370 [00:01<00:00, 222.16it/s]\n"
     ]
    },
    {
     "name": "stdout",
     "output_type": "stream",
     "text": [
      "Epoch 1280 - Train Loss: 0.3839, Train MSE: 0.3842, Train MAE: 0.4027\n",
      "Epoch 1280 - Validation Loss: 1.5139, Validation MSE: 1.5158, Validation MAE: 0.9133\n"
     ]
    },
    {
     "name": "stderr",
     "output_type": "stream",
     "text": [
      "Training Epoch 1282: 100%|██████████| 370/370 [00:01<00:00, 222.40it/s]\n",
      "Training Epoch 1283: 100%|██████████| 370/370 [00:01<00:00, 229.93it/s]\n",
      "Training Epoch 1284: 100%|██████████| 370/370 [00:01<00:00, 235.04it/s]\n",
      "Training Epoch 1285: 100%|██████████| 370/370 [00:01<00:00, 243.44it/s]\n",
      "Training Epoch 1286: 100%|██████████| 370/370 [00:01<00:00, 228.76it/s]\n",
      "Training Epoch 1287: 100%|██████████| 370/370 [00:01<00:00, 222.96it/s]\n",
      "Training Epoch 1288: 100%|██████████| 370/370 [00:01<00:00, 215.47it/s]\n",
      "Training Epoch 1289: 100%|██████████| 370/370 [00:01<00:00, 238.51it/s]\n",
      "Training Epoch 1290: 100%|██████████| 370/370 [00:01<00:00, 241.74it/s]\n",
      "Training Epoch 1291: 100%|██████████| 370/370 [00:01<00:00, 232.79it/s]\n"
     ]
    },
    {
     "name": "stdout",
     "output_type": "stream",
     "text": [
      "Epoch 1290 - Train Loss: 0.3865, Train MSE: 0.3864, Train MAE: 0.4036\n",
      "Epoch 1290 - Validation Loss: 1.5325, Validation MSE: 1.5347, Validation MAE: 0.9131\n"
     ]
    },
    {
     "name": "stderr",
     "output_type": "stream",
     "text": [
      "Training Epoch 1292: 100%|██████████| 370/370 [00:01<00:00, 225.75it/s]\n",
      "Training Epoch 1293: 100%|██████████| 370/370 [00:01<00:00, 225.01it/s]\n",
      "Training Epoch 1294: 100%|██████████| 370/370 [00:01<00:00, 231.08it/s]\n",
      "Training Epoch 1295: 100%|██████████| 370/370 [00:01<00:00, 234.02it/s]\n",
      "Training Epoch 1296: 100%|██████████| 370/370 [00:01<00:00, 240.33it/s]\n",
      "Training Epoch 1297: 100%|██████████| 370/370 [00:01<00:00, 222.25it/s]\n",
      "Training Epoch 1298: 100%|██████████| 370/370 [00:01<00:00, 222.97it/s]\n",
      "Training Epoch 1299: 100%|██████████| 370/370 [00:01<00:00, 221.73it/s]\n",
      "Training Epoch 1300: 100%|██████████| 370/370 [00:01<00:00, 235.98it/s]\n",
      "Training Epoch 1301: 100%|██████████| 370/370 [00:01<00:00, 241.78it/s]\n"
     ]
    },
    {
     "name": "stdout",
     "output_type": "stream",
     "text": [
      "Epoch 1300 - Train Loss: 0.3857, Train MSE: 0.3864, Train MAE: 0.4031\n",
      "Epoch 1300 - Validation Loss: 1.5285, Validation MSE: 1.5300, Validation MAE: 0.9173\n"
     ]
    },
    {
     "name": "stderr",
     "output_type": "stream",
     "text": [
      "Training Epoch 1302: 100%|██████████| 370/370 [00:01<00:00, 239.28it/s]\n",
      "Training Epoch 1303: 100%|██████████| 370/370 [00:01<00:00, 222.03it/s]\n",
      "Training Epoch 1304: 100%|██████████| 370/370 [00:01<00:00, 225.96it/s]\n",
      "Training Epoch 1305: 100%|██████████| 370/370 [00:01<00:00, 237.56it/s]\n",
      "Training Epoch 1306: 100%|██████████| 370/370 [00:01<00:00, 240.27it/s]\n",
      "Training Epoch 1307: 100%|██████████| 370/370 [00:01<00:00, 242.67it/s]\n",
      "Training Epoch 1308: 100%|██████████| 370/370 [00:01<00:00, 225.78it/s]\n",
      "Training Epoch 1309: 100%|██████████| 370/370 [00:01<00:00, 224.65it/s]\n",
      "Training Epoch 1310: 100%|██████████| 370/370 [00:01<00:00, 223.12it/s]\n",
      "Training Epoch 1311: 100%|██████████| 370/370 [00:01<00:00, 233.94it/s]\n"
     ]
    },
    {
     "name": "stdout",
     "output_type": "stream",
     "text": [
      "Epoch 1310 - Train Loss: 0.3814, Train MSE: 0.3809, Train MAE: 0.3996\n",
      "Epoch 1310 - Validation Loss: 1.5137, Validation MSE: 1.5153, Validation MAE: 0.9069\n"
     ]
    },
    {
     "name": "stderr",
     "output_type": "stream",
     "text": [
      "Training Epoch 1312: 100%|██████████| 370/370 [00:01<00:00, 237.21it/s]\n",
      "Training Epoch 1313: 100%|██████████| 370/370 [00:01<00:00, 202.42it/s]\n",
      "Training Epoch 1314: 100%|██████████| 370/370 [00:01<00:00, 227.23it/s]\n",
      "Training Epoch 1315: 100%|██████████| 370/370 [00:01<00:00, 225.67it/s]\n",
      "Training Epoch 1316: 100%|██████████| 370/370 [00:01<00:00, 231.39it/s]\n",
      "Training Epoch 1317: 100%|██████████| 370/370 [00:01<00:00, 235.60it/s]\n",
      "Training Epoch 1318: 100%|██████████| 370/370 [00:01<00:00, 219.98it/s]\n",
      "Training Epoch 1319: 100%|██████████| 370/370 [00:01<00:00, 224.91it/s]\n",
      "Training Epoch 1320: 100%|██████████| 370/370 [00:01<00:00, 224.53it/s]\n",
      "Training Epoch 1321: 100%|██████████| 370/370 [00:01<00:00, 218.35it/s]\n"
     ]
    },
    {
     "name": "stdout",
     "output_type": "stream",
     "text": [
      "Epoch 1320 - Train Loss: 0.3848, Train MSE: 0.3835, Train MAE: 0.4026\n",
      "Epoch 1320 - Validation Loss: 1.5387, Validation MSE: 1.5404, Validation MAE: 0.9165\n"
     ]
    },
    {
     "name": "stderr",
     "output_type": "stream",
     "text": [
      "Training Epoch 1322: 100%|██████████| 370/370 [00:01<00:00, 238.60it/s]\n",
      "Training Epoch 1323: 100%|██████████| 370/370 [00:01<00:00, 222.38it/s]\n",
      "Training Epoch 1324: 100%|██████████| 370/370 [00:01<00:00, 227.48it/s]\n",
      "Training Epoch 1325: 100%|██████████| 370/370 [00:01<00:00, 216.68it/s]\n",
      "Training Epoch 1326: 100%|██████████| 370/370 [00:01<00:00, 236.27it/s]\n",
      "Training Epoch 1327: 100%|██████████| 370/370 [00:01<00:00, 237.81it/s]\n",
      "Training Epoch 1328: 100%|██████████| 370/370 [00:01<00:00, 238.53it/s]\n",
      "Training Epoch 1329: 100%|██████████| 370/370 [00:01<00:00, 225.01it/s]\n",
      "Training Epoch 1330: 100%|██████████| 370/370 [00:01<00:00, 223.75it/s]\n",
      "Training Epoch 1331: 100%|██████████| 370/370 [00:01<00:00, 227.82it/s]\n"
     ]
    },
    {
     "name": "stdout",
     "output_type": "stream",
     "text": [
      "Epoch 1330 - Train Loss: 0.3801, Train MSE: 0.3806, Train MAE: 0.4030\n",
      "Epoch 1330 - Validation Loss: 1.5093, Validation MSE: 1.5113, Validation MAE: 0.9105\n"
     ]
    },
    {
     "name": "stderr",
     "output_type": "stream",
     "text": [
      "Training Epoch 1332: 100%|██████████| 370/370 [00:01<00:00, 232.43it/s]\n",
      "Training Epoch 1333: 100%|██████████| 370/370 [00:01<00:00, 231.05it/s]\n",
      "Training Epoch 1334: 100%|██████████| 370/370 [00:01<00:00, 222.91it/s]\n",
      "Training Epoch 1335: 100%|██████████| 370/370 [00:01<00:00, 223.18it/s]\n",
      "Training Epoch 1336: 100%|██████████| 370/370 [00:01<00:00, 223.45it/s]\n",
      "Training Epoch 1337: 100%|██████████| 370/370 [00:01<00:00, 239.89it/s]\n",
      "Training Epoch 1338: 100%|██████████| 370/370 [00:01<00:00, 238.88it/s]\n",
      "Training Epoch 1339: 100%|██████████| 370/370 [00:01<00:00, 230.94it/s]\n",
      "Training Epoch 1340: 100%|██████████| 370/370 [00:01<00:00, 217.25it/s]\n",
      "Training Epoch 1341: 100%|██████████| 370/370 [00:01<00:00, 223.07it/s]\n"
     ]
    },
    {
     "name": "stdout",
     "output_type": "stream",
     "text": [
      "Epoch 1340 - Train Loss: 0.3767, Train MSE: 0.3767, Train MAE: 0.3999\n",
      "Epoch 1340 - Validation Loss: 1.5070, Validation MSE: 1.5084, Validation MAE: 0.9100\n"
     ]
    },
    {
     "name": "stderr",
     "output_type": "stream",
     "text": [
      "Training Epoch 1342: 100%|██████████| 370/370 [00:01<00:00, 236.35it/s]\n",
      "Training Epoch 1343: 100%|██████████| 370/370 [00:01<00:00, 239.24it/s]\n",
      "Training Epoch 1344: 100%|██████████| 370/370 [00:01<00:00, 230.99it/s]\n",
      "Training Epoch 1345: 100%|██████████| 370/370 [00:01<00:00, 224.52it/s]\n",
      "Training Epoch 1346: 100%|██████████| 370/370 [00:01<00:00, 222.77it/s]\n",
      "Training Epoch 1347: 100%|██████████| 370/370 [00:01<00:00, 226.46it/s]\n",
      "Training Epoch 1348: 100%|██████████| 370/370 [00:01<00:00, 235.44it/s]\n",
      "Training Epoch 1349: 100%|██████████| 370/370 [00:01<00:00, 222.34it/s]\n",
      "Training Epoch 1350: 100%|██████████| 370/370 [00:01<00:00, 223.29it/s]\n",
      "Training Epoch 1351: 100%|██████████| 370/370 [00:01<00:00, 222.87it/s]\n"
     ]
    },
    {
     "name": "stdout",
     "output_type": "stream",
     "text": [
      "Epoch 1350 - Train Loss: 0.3786, Train MSE: 0.3792, Train MAE: 0.4009\n",
      "Epoch 1350 - Validation Loss: 1.5260, Validation MSE: 1.5277, Validation MAE: 0.9149\n"
     ]
    },
    {
     "name": "stderr",
     "output_type": "stream",
     "text": [
      "Training Epoch 1352: 100%|██████████| 370/370 [00:01<00:00, 234.63it/s]\n",
      "Training Epoch 1353: 100%|██████████| 370/370 [00:01<00:00, 238.65it/s]\n",
      "Training Epoch 1354: 100%|██████████| 370/370 [00:01<00:00, 246.53it/s]\n",
      "Training Epoch 1355: 100%|██████████| 370/370 [00:01<00:00, 220.10it/s]\n",
      "Training Epoch 1356: 100%|██████████| 370/370 [00:01<00:00, 227.58it/s]\n",
      "Training Epoch 1357: 100%|██████████| 370/370 [00:01<00:00, 221.18it/s]\n",
      "Training Epoch 1358: 100%|██████████| 370/370 [00:01<00:00, 223.49it/s]\n",
      "Training Epoch 1359: 100%|██████████| 370/370 [00:01<00:00, 238.01it/s]\n",
      "Training Epoch 1360: 100%|██████████| 370/370 [00:01<00:00, 224.44it/s]\n",
      "Training Epoch 1361: 100%|██████████| 370/370 [00:01<00:00, 223.64it/s]\n"
     ]
    },
    {
     "name": "stdout",
     "output_type": "stream",
     "text": [
      "Epoch 1360 - Train Loss: 0.3768, Train MSE: 0.3727, Train MAE: 0.3958\n",
      "Epoch 1360 - Validation Loss: 1.5223, Validation MSE: 1.5243, Validation MAE: 0.9075\n"
     ]
    },
    {
     "name": "stderr",
     "output_type": "stream",
     "text": [
      "Training Epoch 1362: 100%|██████████| 370/370 [00:01<00:00, 226.16it/s]\n",
      "Training Epoch 1363: 100%|██████████| 370/370 [00:01<00:00, 234.94it/s]\n",
      "Training Epoch 1364: 100%|██████████| 370/370 [00:01<00:00, 244.20it/s]\n",
      "Training Epoch 1365: 100%|██████████| 370/370 [00:01<00:00, 232.58it/s]\n",
      "Training Epoch 1366: 100%|██████████| 370/370 [00:01<00:00, 222.61it/s]\n",
      "Training Epoch 1367: 100%|██████████| 370/370 [00:01<00:00, 224.43it/s]\n",
      "Training Epoch 1368: 100%|██████████| 370/370 [00:01<00:00, 228.75it/s]\n",
      "Training Epoch 1369: 100%|██████████| 370/370 [00:01<00:00, 241.34it/s]\n",
      "Training Epoch 1370: 100%|██████████| 370/370 [00:01<00:00, 235.17it/s]\n",
      "Training Epoch 1371: 100%|██████████| 370/370 [00:01<00:00, 225.43it/s]\n"
     ]
    },
    {
     "name": "stdout",
     "output_type": "stream",
     "text": [
      "Epoch 1370 - Train Loss: 0.3818, Train MSE: 0.3796, Train MAE: 0.4008\n",
      "Epoch 1370 - Validation Loss: 1.5296, Validation MSE: 1.5315, Validation MAE: 0.9167\n"
     ]
    },
    {
     "name": "stderr",
     "output_type": "stream",
     "text": [
      "Training Epoch 1372: 100%|██████████| 370/370 [00:01<00:00, 224.00it/s]\n",
      "Training Epoch 1373: 100%|██████████| 370/370 [00:01<00:00, 228.03it/s]\n",
      "Training Epoch 1374: 100%|██████████| 370/370 [00:01<00:00, 238.53it/s]\n",
      "Training Epoch 1375: 100%|██████████| 370/370 [00:01<00:00, 241.07it/s]\n",
      "Training Epoch 1376: 100%|██████████| 370/370 [00:01<00:00, 237.37it/s]\n",
      "Training Epoch 1377: 100%|██████████| 370/370 [00:01<00:00, 222.61it/s]\n",
      "Training Epoch 1378: 100%|██████████| 370/370 [00:01<00:00, 221.07it/s]\n",
      "Training Epoch 1379: 100%|██████████| 370/370 [00:01<00:00, 223.22it/s]\n",
      "Training Epoch 1380: 100%|██████████| 370/370 [00:01<00:00, 241.54it/s]\n",
      "Training Epoch 1381: 100%|██████████| 370/370 [00:01<00:00, 225.17it/s]\n"
     ]
    },
    {
     "name": "stdout",
     "output_type": "stream",
     "text": [
      "Epoch 1380 - Train Loss: 0.3730, Train MSE: 0.3737, Train MAE: 0.3941\n",
      "Epoch 1380 - Validation Loss: 1.4887, Validation MSE: 1.4905, Validation MAE: 0.9029\n"
     ]
    },
    {
     "name": "stderr",
     "output_type": "stream",
     "text": [
      "Training Epoch 1382: 100%|██████████| 370/370 [00:01<00:00, 224.95it/s]\n",
      "Training Epoch 1383: 100%|██████████| 370/370 [00:01<00:00, 227.11it/s]\n",
      "Training Epoch 1384: 100%|██████████| 370/370 [00:01<00:00, 238.84it/s]\n",
      "Training Epoch 1385: 100%|██████████| 370/370 [00:01<00:00, 229.14it/s]\n",
      "Training Epoch 1386: 100%|██████████| 370/370 [00:01<00:00, 234.04it/s]\n",
      "Training Epoch 1387: 100%|██████████| 370/370 [00:01<00:00, 226.34it/s]\n",
      "Training Epoch 1388: 100%|██████████| 370/370 [00:01<00:00, 219.12it/s]\n",
      "Training Epoch 1389: 100%|██████████| 370/370 [00:01<00:00, 237.39it/s]\n",
      "Training Epoch 1390: 100%|██████████| 370/370 [00:01<00:00, 237.18it/s]\n",
      "Training Epoch 1391: 100%|██████████| 370/370 [00:01<00:00, 236.57it/s]\n"
     ]
    },
    {
     "name": "stdout",
     "output_type": "stream",
     "text": [
      "Epoch 1390 - Train Loss: 0.3722, Train MSE: 0.3729, Train MAE: 0.3955\n",
      "Epoch 1390 - Validation Loss: 1.5390, Validation MSE: 1.5395, Validation MAE: 0.9226\n"
     ]
    },
    {
     "name": "stderr",
     "output_type": "stream",
     "text": [
      "Training Epoch 1392: 100%|██████████| 370/370 [00:01<00:00, 230.28it/s]\n",
      "Training Epoch 1393: 100%|██████████| 370/370 [00:01<00:00, 213.21it/s]\n",
      "Training Epoch 1394: 100%|██████████| 370/370 [00:01<00:00, 229.94it/s]\n",
      "Training Epoch 1395: 100%|██████████| 370/370 [00:01<00:00, 241.47it/s]\n",
      "Training Epoch 1396: 100%|██████████| 370/370 [00:01<00:00, 236.92it/s]\n",
      "Training Epoch 1397: 100%|██████████| 370/370 [00:01<00:00, 228.35it/s]\n",
      "Training Epoch 1398: 100%|██████████| 370/370 [00:01<00:00, 226.86it/s]\n",
      "Training Epoch 1399: 100%|██████████| 370/370 [00:01<00:00, 225.73it/s]\n",
      "Training Epoch 1400: 100%|██████████| 370/370 [00:01<00:00, 237.53it/s]\n",
      "Training Epoch 1401: 100%|██████████| 370/370 [00:01<00:00, 241.62it/s]\n"
     ]
    },
    {
     "name": "stdout",
     "output_type": "stream",
     "text": [
      "Epoch 1400 - Train Loss: 0.3835, Train MSE: 0.3785, Train MAE: 0.3973\n",
      "Epoch 1400 - Validation Loss: 1.5434, Validation MSE: 1.5448, Validation MAE: 0.9194\n"
     ]
    },
    {
     "name": "stderr",
     "output_type": "stream",
     "text": [
      "Training Epoch 1402: 100%|██████████| 370/370 [00:01<00:00, 232.67it/s]\n",
      "Training Epoch 1403: 100%|██████████| 370/370 [00:01<00:00, 223.95it/s]\n",
      "Training Epoch 1404: 100%|██████████| 370/370 [00:01<00:00, 224.61it/s]\n",
      "Training Epoch 1405: 100%|██████████| 370/370 [00:01<00:00, 235.45it/s]\n",
      "Training Epoch 1406: 100%|██████████| 370/370 [00:01<00:00, 239.65it/s]\n",
      "Training Epoch 1407: 100%|██████████| 370/370 [00:01<00:00, 244.77it/s]\n",
      "Training Epoch 1408: 100%|██████████| 370/370 [00:01<00:00, 224.03it/s]\n",
      "Training Epoch 1409: 100%|██████████| 370/370 [00:01<00:00, 228.25it/s]\n",
      "Training Epoch 1410: 100%|██████████| 370/370 [00:01<00:00, 228.63it/s]\n",
      "Training Epoch 1411: 100%|██████████| 370/370 [00:01<00:00, 239.72it/s]\n"
     ]
    },
    {
     "name": "stdout",
     "output_type": "stream",
     "text": [
      "Epoch 1410 - Train Loss: 0.3708, Train MSE: 0.3712, Train MAE: 0.3944\n",
      "Epoch 1410 - Validation Loss: 1.5574, Validation MSE: 1.5589, Validation MAE: 0.9198\n"
     ]
    },
    {
     "name": "stderr",
     "output_type": "stream",
     "text": [
      "Training Epoch 1412: 100%|██████████| 370/370 [00:01<00:00, 241.73it/s]\n",
      "Training Epoch 1413: 100%|██████████| 370/370 [00:01<00:00, 235.24it/s]\n",
      "Training Epoch 1414: 100%|██████████| 370/370 [00:01<00:00, 227.00it/s]\n",
      "Training Epoch 1415: 100%|██████████| 370/370 [00:01<00:00, 225.95it/s]\n",
      "Training Epoch 1416: 100%|██████████| 370/370 [00:01<00:00, 234.14it/s]\n",
      "Training Epoch 1417: 100%|██████████| 370/370 [00:01<00:00, 241.34it/s]\n",
      "Training Epoch 1418: 100%|██████████| 370/370 [00:01<00:00, 245.56it/s]\n",
      "Training Epoch 1419: 100%|██████████| 370/370 [00:01<00:00, 225.88it/s]\n",
      "Training Epoch 1420: 100%|██████████| 370/370 [00:01<00:00, 224.72it/s]\n",
      "Training Epoch 1421: 100%|██████████| 370/370 [00:01<00:00, 221.21it/s]\n"
     ]
    },
    {
     "name": "stdout",
     "output_type": "stream",
     "text": [
      "Epoch 1420 - Train Loss: 0.3751, Train MSE: 0.3729, Train MAE: 0.3968\n",
      "Epoch 1420 - Validation Loss: 1.5404, Validation MSE: 1.5418, Validation MAE: 0.9157\n"
     ]
    },
    {
     "name": "stderr",
     "output_type": "stream",
     "text": [
      "Training Epoch 1422: 100%|██████████| 370/370 [00:01<00:00, 237.32it/s]\n",
      "Training Epoch 1423: 100%|██████████| 370/370 [00:01<00:00, 235.79it/s]\n",
      "Training Epoch 1424: 100%|██████████| 370/370 [00:01<00:00, 224.94it/s]\n",
      "Training Epoch 1425: 100%|██████████| 370/370 [00:01<00:00, 224.20it/s]\n",
      "Training Epoch 1426: 100%|██████████| 370/370 [00:01<00:00, 223.69it/s]\n",
      "Training Epoch 1427: 100%|██████████| 370/370 [00:01<00:00, 234.22it/s]\n",
      "Training Epoch 1428: 100%|██████████| 370/370 [00:01<00:00, 242.05it/s]\n",
      "Training Epoch 1429: 100%|██████████| 370/370 [00:01<00:00, 231.73it/s]\n",
      "Training Epoch 1430: 100%|██████████| 370/370 [00:01<00:00, 227.83it/s]\n",
      "Training Epoch 1431: 100%|██████████| 370/370 [00:01<00:00, 222.73it/s]\n"
     ]
    },
    {
     "name": "stdout",
     "output_type": "stream",
     "text": [
      "Epoch 1430 - Train Loss: 0.3741, Train MSE: 0.3748, Train MAE: 0.3976\n",
      "Epoch 1430 - Validation Loss: 1.5443, Validation MSE: 1.5457, Validation MAE: 0.9211\n"
     ]
    },
    {
     "name": "stderr",
     "output_type": "stream",
     "text": [
      "Training Epoch 1432: 100%|██████████| 370/370 [00:01<00:00, 220.36it/s]\n",
      "Training Epoch 1433: 100%|██████████| 370/370 [00:01<00:00, 228.32it/s]\n",
      "Training Epoch 1434: 100%|██████████| 370/370 [00:01<00:00, 244.66it/s]\n",
      "Training Epoch 1435: 100%|██████████| 370/370 [00:01<00:00, 228.71it/s]\n",
      "Training Epoch 1436: 100%|██████████| 370/370 [00:01<00:00, 221.39it/s]\n",
      "Training Epoch 1437: 100%|██████████| 370/370 [00:01<00:00, 222.68it/s]\n",
      "Training Epoch 1438: 100%|██████████| 370/370 [00:01<00:00, 234.95it/s]\n",
      "Training Epoch 1439: 100%|██████████| 370/370 [00:01<00:00, 234.17it/s]\n",
      "Training Epoch 1440: 100%|██████████| 370/370 [00:01<00:00, 241.51it/s]\n",
      "Training Epoch 1441: 100%|██████████| 370/370 [00:01<00:00, 225.90it/s]\n"
     ]
    },
    {
     "name": "stdout",
     "output_type": "stream",
     "text": [
      "Epoch 1440 - Train Loss: 0.3723, Train MSE: 0.3727, Train MAE: 0.3966\n",
      "Epoch 1440 - Validation Loss: 1.5305, Validation MSE: 1.5322, Validation MAE: 0.9179\n"
     ]
    },
    {
     "name": "stderr",
     "output_type": "stream",
     "text": [
      "Training Epoch 1442: 100%|██████████| 370/370 [00:01<00:00, 226.77it/s]\n",
      "Training Epoch 1443: 100%|██████████| 370/370 [00:01<00:00, 229.74it/s]\n",
      "Training Epoch 1444: 100%|██████████| 370/370 [00:01<00:00, 240.44it/s]\n",
      "Training Epoch 1445: 100%|██████████| 370/370 [00:01<00:00, 241.82it/s]\n",
      "Training Epoch 1446: 100%|██████████| 370/370 [00:01<00:00, 227.87it/s]\n",
      "Training Epoch 1447: 100%|██████████| 370/370 [00:01<00:00, 218.49it/s]\n",
      "Training Epoch 1448: 100%|██████████| 370/370 [00:01<00:00, 218.56it/s]\n",
      "Training Epoch 1449: 100%|██████████| 370/370 [00:02<00:00, 173.30it/s]\n",
      "Training Epoch 1450: 100%|██████████| 370/370 [00:01<00:00, 219.44it/s]\n",
      "Training Epoch 1451: 100%|██████████| 370/370 [00:01<00:00, 223.35it/s]\n"
     ]
    },
    {
     "name": "stdout",
     "output_type": "stream",
     "text": [
      "Epoch 1450 - Train Loss: 0.3690, Train MSE: 0.3692, Train MAE: 0.3966\n",
      "Epoch 1450 - Validation Loss: 1.5169, Validation MSE: 1.5185, Validation MAE: 0.9131\n"
     ]
    },
    {
     "name": "stderr",
     "output_type": "stream",
     "text": [
      "Training Epoch 1452: 100%|██████████| 370/370 [00:01<00:00, 226.20it/s]\n",
      "Training Epoch 1453: 100%|██████████| 370/370 [00:01<00:00, 232.82it/s]\n",
      "Training Epoch 1454: 100%|██████████| 370/370 [00:01<00:00, 239.55it/s]\n",
      "Training Epoch 1455: 100%|██████████| 370/370 [00:01<00:00, 225.35it/s]\n",
      "Training Epoch 1456: 100%|██████████| 370/370 [00:01<00:00, 226.03it/s]\n",
      "Training Epoch 1457: 100%|██████████| 370/370 [00:01<00:00, 227.72it/s]\n",
      "Training Epoch 1458: 100%|██████████| 370/370 [00:01<00:00, 234.19it/s]\n",
      "Training Epoch 1459: 100%|██████████| 370/370 [00:01<00:00, 233.37it/s]\n",
      "Training Epoch 1460: 100%|██████████| 370/370 [00:01<00:00, 215.96it/s]\n",
      "Training Epoch 1461: 100%|██████████| 370/370 [00:01<00:00, 224.71it/s]\n"
     ]
    },
    {
     "name": "stdout",
     "output_type": "stream",
     "text": [
      "Epoch 1460 - Train Loss: 0.3669, Train MSE: 0.3672, Train MAE: 0.3930\n",
      "Epoch 1460 - Validation Loss: 1.5679, Validation MSE: 1.5696, Validation MAE: 0.9210\n"
     ]
    },
    {
     "name": "stderr",
     "output_type": "stream",
     "text": [
      "Training Epoch 1462: 100%|██████████| 370/370 [00:01<00:00, 230.28it/s]\n",
      "Training Epoch 1463: 100%|██████████| 370/370 [00:01<00:00, 241.01it/s]\n",
      "Training Epoch 1464: 100%|██████████| 370/370 [00:01<00:00, 200.97it/s]\n",
      "Training Epoch 1465: 100%|██████████| 370/370 [00:01<00:00, 225.68it/s]\n",
      "Training Epoch 1466: 100%|██████████| 370/370 [00:01<00:00, 231.51it/s]\n",
      "Training Epoch 1467: 100%|██████████| 370/370 [00:01<00:00, 235.32it/s]\n",
      "Training Epoch 1468: 100%|██████████| 370/370 [00:01<00:00, 236.77it/s]\n",
      "Training Epoch 1469: 100%|██████████| 370/370 [00:01<00:00, 230.46it/s]\n",
      "Training Epoch 1470: 100%|██████████| 370/370 [00:01<00:00, 226.32it/s]\n",
      "Training Epoch 1471: 100%|██████████| 370/370 [00:01<00:00, 225.28it/s]\n"
     ]
    },
    {
     "name": "stdout",
     "output_type": "stream",
     "text": [
      "Epoch 1470 - Train Loss: 0.3654, Train MSE: 0.3661, Train MAE: 0.3939\n",
      "Epoch 1470 - Validation Loss: 1.5171, Validation MSE: 1.5181, Validation MAE: 0.9149\n"
     ]
    },
    {
     "name": "stderr",
     "output_type": "stream",
     "text": [
      "Training Epoch 1472: 100%|██████████| 370/370 [00:01<00:00, 234.13it/s]\n",
      "Training Epoch 1473: 100%|██████████| 370/370 [00:01<00:00, 237.11it/s]\n",
      "Training Epoch 1474: 100%|██████████| 370/370 [00:01<00:00, 233.38it/s]\n",
      "Training Epoch 1475: 100%|██████████| 370/370 [00:01<00:00, 220.70it/s]\n",
      "Training Epoch 1476: 100%|██████████| 370/370 [00:01<00:00, 229.87it/s]\n",
      "Training Epoch 1477: 100%|██████████| 370/370 [00:01<00:00, 233.08it/s]\n",
      "Training Epoch 1478: 100%|██████████| 370/370 [00:01<00:00, 236.18it/s]\n",
      "Training Epoch 1479: 100%|██████████| 370/370 [00:01<00:00, 243.10it/s]\n",
      "Training Epoch 1480: 100%|██████████| 370/370 [00:01<00:00, 230.61it/s]\n",
      "Training Epoch 1481: 100%|██████████| 370/370 [00:01<00:00, 222.30it/s]\n"
     ]
    },
    {
     "name": "stdout",
     "output_type": "stream",
     "text": [
      "Epoch 1480 - Train Loss: 0.3708, Train MSE: 0.3713, Train MAE: 0.3935\n",
      "Epoch 1480 - Validation Loss: 1.5233, Validation MSE: 1.5251, Validation MAE: 0.9143\n"
     ]
    },
    {
     "name": "stderr",
     "output_type": "stream",
     "text": [
      "Training Epoch 1482: 100%|██████████| 370/370 [00:01<00:00, 222.46it/s]\n",
      "Training Epoch 1483: 100%|██████████| 370/370 [00:01<00:00, 239.97it/s]\n",
      "Training Epoch 1484: 100%|██████████| 370/370 [00:01<00:00, 243.24it/s]\n",
      "Training Epoch 1485: 100%|██████████| 370/370 [00:01<00:00, 228.43it/s]\n",
      "Training Epoch 1486: 100%|██████████| 370/370 [00:01<00:00, 224.91it/s]\n",
      "Training Epoch 1487: 100%|██████████| 370/370 [00:01<00:00, 227.00it/s]\n",
      "Training Epoch 1488: 100%|██████████| 370/370 [00:01<00:00, 239.79it/s]\n",
      "Training Epoch 1489: 100%|██████████| 370/370 [00:01<00:00, 243.99it/s]\n",
      "Training Epoch 1490: 100%|██████████| 370/370 [00:01<00:00, 235.23it/s]\n",
      "Training Epoch 1491: 100%|██████████| 370/370 [00:01<00:00, 221.37it/s]\n"
     ]
    },
    {
     "name": "stdout",
     "output_type": "stream",
     "text": [
      "Epoch 1490 - Train Loss: 0.3618, Train MSE: 0.3624, Train MAE: 0.3907\n",
      "Epoch 1490 - Validation Loss: 1.5295, Validation MSE: 1.5315, Validation MAE: 0.9160\n"
     ]
    },
    {
     "name": "stderr",
     "output_type": "stream",
     "text": [
      "Training Epoch 1492: 100%|██████████| 370/370 [00:01<00:00, 226.05it/s]\n",
      "Training Epoch 1493: 100%|██████████| 370/370 [00:01<00:00, 236.99it/s]\n",
      "Training Epoch 1494: 100%|██████████| 370/370 [00:01<00:00, 235.75it/s]\n",
      "Training Epoch 1495: 100%|██████████| 370/370 [00:01<00:00, 240.99it/s]\n",
      "Training Epoch 1496: 100%|██████████| 370/370 [00:01<00:00, 224.83it/s]\n",
      "Training Epoch 1497: 100%|██████████| 370/370 [00:01<00:00, 226.46it/s]\n",
      "Training Epoch 1498: 100%|██████████| 370/370 [00:01<00:00, 226.12it/s]\n",
      "Training Epoch 1499: 100%|██████████| 370/370 [00:01<00:00, 229.69it/s]\n",
      "Training Epoch 1500: 100%|██████████| 370/370 [00:01<00:00, 239.62it/s]\n",
      "Training Epoch 1501: 100%|██████████| 370/370 [00:01<00:00, 220.47it/s]\n"
     ]
    },
    {
     "name": "stdout",
     "output_type": "stream",
     "text": [
      "Epoch 1500 - Train Loss: 0.3581, Train MSE: 0.3587, Train MAE: 0.3900\n",
      "Epoch 1500 - Validation Loss: 1.5384, Validation MSE: 1.5400, Validation MAE: 0.9137\n"
     ]
    },
    {
     "name": "stderr",
     "output_type": "stream",
     "text": [
      "Training Epoch 1502: 100%|██████████| 370/370 [00:01<00:00, 227.79it/s]\n",
      "Training Epoch 1503: 100%|██████████| 370/370 [00:01<00:00, 235.73it/s]\n",
      "Training Epoch 1504: 100%|██████████| 370/370 [00:01<00:00, 241.19it/s]\n",
      "Training Epoch 1505: 100%|██████████| 370/370 [00:01<00:00, 236.63it/s]\n",
      "Training Epoch 1506: 100%|██████████| 370/370 [00:01<00:00, 225.54it/s]\n",
      "Training Epoch 1507: 100%|██████████| 370/370 [00:01<00:00, 228.04it/s]\n",
      "Training Epoch 1508: 100%|██████████| 370/370 [00:01<00:00, 227.59it/s]\n",
      "Training Epoch 1509: 100%|██████████| 370/370 [00:01<00:00, 235.10it/s]\n",
      "Training Epoch 1510: 100%|██████████| 370/370 [00:01<00:00, 234.47it/s]\n",
      "Training Epoch 1511: 100%|██████████| 370/370 [00:01<00:00, 239.14it/s]\n"
     ]
    },
    {
     "name": "stdout",
     "output_type": "stream",
     "text": [
      "Epoch 1510 - Train Loss: 0.3608, Train MSE: 0.3608, Train MAE: 0.3890\n",
      "Epoch 1510 - Validation Loss: 1.5833, Validation MSE: 1.5845, Validation MAE: 0.9340\n"
     ]
    },
    {
     "name": "stderr",
     "output_type": "stream",
     "text": [
      "Training Epoch 1512: 100%|██████████| 370/370 [00:01<00:00, 224.04it/s]\n",
      "Training Epoch 1513: 100%|██████████| 370/370 [00:01<00:00, 221.04it/s]\n",
      "Training Epoch 1514: 100%|██████████| 370/370 [00:01<00:00, 229.30it/s]\n",
      "Training Epoch 1515: 100%|██████████| 370/370 [00:01<00:00, 239.14it/s]\n",
      "Training Epoch 1516: 100%|██████████| 370/370 [00:01<00:00, 240.90it/s]\n",
      "Training Epoch 1517: 100%|██████████| 370/370 [00:01<00:00, 234.99it/s]\n",
      "Training Epoch 1518: 100%|██████████| 370/370 [00:01<00:00, 223.10it/s]\n",
      "Training Epoch 1519: 100%|██████████| 370/370 [00:01<00:00, 226.22it/s]\n",
      "Training Epoch 1520: 100%|██████████| 370/370 [00:01<00:00, 230.29it/s]\n",
      "Training Epoch 1521: 100%|██████████| 370/370 [00:01<00:00, 235.94it/s]\n"
     ]
    },
    {
     "name": "stdout",
     "output_type": "stream",
     "text": [
      "Epoch 1520 - Train Loss: 0.3661, Train MSE: 0.3637, Train MAE: 0.3911\n",
      "Epoch 1520 - Validation Loss: 1.5419, Validation MSE: 1.5440, Validation MAE: 0.9169\n"
     ]
    },
    {
     "name": "stderr",
     "output_type": "stream",
     "text": [
      "Training Epoch 1522: 100%|██████████| 370/370 [00:01<00:00, 240.09it/s]\n",
      "Training Epoch 1523: 100%|██████████| 370/370 [00:01<00:00, 222.73it/s]\n",
      "Training Epoch 1524: 100%|██████████| 370/370 [00:01<00:00, 224.57it/s]\n",
      "Training Epoch 1525: 100%|██████████| 370/370 [00:01<00:00, 227.39it/s]\n",
      "Training Epoch 1526: 100%|██████████| 370/370 [00:01<00:00, 238.99it/s]\n",
      "Training Epoch 1527: 100%|██████████| 370/370 [00:01<00:00, 237.52it/s]\n",
      "Training Epoch 1528: 100%|██████████| 370/370 [00:01<00:00, 230.14it/s]\n",
      "Training Epoch 1529: 100%|██████████| 370/370 [00:01<00:00, 224.73it/s]\n",
      "Training Epoch 1530: 100%|██████████| 370/370 [00:01<00:00, 209.92it/s]\n",
      "Training Epoch 1531: 100%|██████████| 370/370 [00:01<00:00, 238.85it/s]\n"
     ]
    },
    {
     "name": "stdout",
     "output_type": "stream",
     "text": [
      "Epoch 1530 - Train Loss: 0.3627, Train MSE: 0.3619, Train MAE: 0.3926\n",
      "Epoch 1530 - Validation Loss: 1.5333, Validation MSE: 1.5351, Validation MAE: 0.9160\n"
     ]
    },
    {
     "name": "stderr",
     "output_type": "stream",
     "text": [
      "Training Epoch 1532: 100%|██████████| 370/370 [00:01<00:00, 234.85it/s]\n",
      "Training Epoch 1533: 100%|██████████| 370/370 [00:01<00:00, 224.56it/s]\n",
      "Training Epoch 1534: 100%|██████████| 370/370 [00:01<00:00, 212.04it/s]\n",
      "Training Epoch 1535: 100%|██████████| 370/370 [00:01<00:00, 234.07it/s]\n",
      "Training Epoch 1536: 100%|██████████| 370/370 [00:01<00:00, 240.53it/s]\n",
      "Training Epoch 1537: 100%|██████████| 370/370 [00:01<00:00, 217.50it/s]\n",
      "Training Epoch 1538: 100%|██████████| 370/370 [00:01<00:00, 227.08it/s]\n",
      "Training Epoch 1539: 100%|██████████| 370/370 [00:01<00:00, 227.87it/s]\n",
      "Training Epoch 1540: 100%|██████████| 370/370 [00:01<00:00, 238.63it/s]\n",
      "Training Epoch 1541: 100%|██████████| 370/370 [00:01<00:00, 239.95it/s]\n"
     ]
    },
    {
     "name": "stdout",
     "output_type": "stream",
     "text": [
      "Epoch 1540 - Train Loss: 0.3652, Train MSE: 0.3658, Train MAE: 0.3908\n",
      "Epoch 1540 - Validation Loss: 1.5663, Validation MSE: 1.5684, Validation MAE: 0.9264\n"
     ]
    },
    {
     "name": "stderr",
     "output_type": "stream",
     "text": [
      "Training Epoch 1542: 100%|██████████| 370/370 [00:01<00:00, 233.22it/s]\n",
      "Training Epoch 1543: 100%|██████████| 370/370 [00:01<00:00, 217.63it/s]\n",
      "Training Epoch 1544: 100%|██████████| 370/370 [00:01<00:00, 225.02it/s]\n",
      "Training Epoch 1545: 100%|██████████| 370/370 [00:01<00:00, 235.79it/s]\n",
      "Training Epoch 1546: 100%|██████████| 370/370 [00:01<00:00, 239.76it/s]\n",
      "Training Epoch 1547: 100%|██████████| 370/370 [00:01<00:00, 241.39it/s]\n",
      "Training Epoch 1548: 100%|██████████| 370/370 [00:01<00:00, 220.81it/s]\n",
      "Training Epoch 1549: 100%|██████████| 370/370 [00:01<00:00, 226.91it/s]\n",
      "Training Epoch 1550: 100%|██████████| 370/370 [00:01<00:00, 224.53it/s]\n",
      "Training Epoch 1551: 100%|██████████| 370/370 [00:01<00:00, 235.34it/s]\n"
     ]
    },
    {
     "name": "stdout",
     "output_type": "stream",
     "text": [
      "Epoch 1550 - Train Loss: 0.3597, Train MSE: 0.3601, Train MAE: 0.3903\n",
      "Epoch 1550 - Validation Loss: 1.5733, Validation MSE: 1.5754, Validation MAE: 0.9226\n"
     ]
    },
    {
     "name": "stderr",
     "output_type": "stream",
     "text": [
      "Training Epoch 1552: 100%|██████████| 370/370 [00:01<00:00, 239.76it/s]\n",
      "Training Epoch 1553: 100%|██████████| 370/370 [00:01<00:00, 224.56it/s]\n",
      "Training Epoch 1554: 100%|██████████| 370/370 [00:01<00:00, 226.10it/s]\n",
      "Training Epoch 1555: 100%|██████████| 370/370 [00:01<00:00, 224.41it/s]\n",
      "Training Epoch 1556: 100%|██████████| 370/370 [00:01<00:00, 235.97it/s]\n",
      "Training Epoch 1557: 100%|██████████| 370/370 [00:01<00:00, 228.89it/s]\n",
      "Training Epoch 1558: 100%|██████████| 370/370 [00:01<00:00, 224.60it/s]\n",
      "Training Epoch 1559: 100%|██████████| 370/370 [00:01<00:00, 220.64it/s]\n",
      "Training Epoch 1560: 100%|██████████| 370/370 [00:01<00:00, 240.42it/s]\n",
      "Training Epoch 1561: 100%|██████████| 370/370 [00:01<00:00, 243.01it/s]\n"
     ]
    },
    {
     "name": "stdout",
     "output_type": "stream",
     "text": [
      "Epoch 1560 - Train Loss: 0.3596, Train MSE: 0.3601, Train MAE: 0.3895\n",
      "Epoch 1560 - Validation Loss: 1.5436, Validation MSE: 1.5456, Validation MAE: 0.9205\n"
     ]
    },
    {
     "name": "stderr",
     "output_type": "stream",
     "text": [
      "Training Epoch 1562: 100%|██████████| 370/370 [00:01<00:00, 242.79it/s]\n",
      "Training Epoch 1563: 100%|██████████| 370/370 [00:01<00:00, 227.23it/s]\n",
      "Training Epoch 1564: 100%|██████████| 370/370 [00:01<00:00, 219.17it/s]\n",
      "Training Epoch 1565: 100%|██████████| 370/370 [00:01<00:00, 224.89it/s]\n",
      "Training Epoch 1566: 100%|██████████| 370/370 [00:01<00:00, 242.34it/s]\n",
      "Training Epoch 1567: 100%|██████████| 370/370 [00:01<00:00, 239.46it/s]\n",
      "Training Epoch 1568: 100%|██████████| 370/370 [00:01<00:00, 235.23it/s]\n",
      "Training Epoch 1569: 100%|██████████| 370/370 [00:01<00:00, 224.51it/s]\n",
      "Training Epoch 1570: 100%|██████████| 370/370 [00:01<00:00, 213.57it/s]\n",
      "Training Epoch 1571: 100%|██████████| 370/370 [00:01<00:00, 242.48it/s]\n"
     ]
    },
    {
     "name": "stdout",
     "output_type": "stream",
     "text": [
      "Epoch 1570 - Train Loss: 0.3508, Train MSE: 0.3513, Train MAE: 0.3883\n",
      "Epoch 1570 - Validation Loss: 1.5525, Validation MSE: 1.5544, Validation MAE: 0.9183\n"
     ]
    },
    {
     "name": "stderr",
     "output_type": "stream",
     "text": [
      "Training Epoch 1572: 100%|██████████| 370/370 [00:01<00:00, 241.80it/s]\n",
      "Training Epoch 1573: 100%|██████████| 370/370 [00:01<00:00, 225.14it/s]\n",
      "Training Epoch 1574: 100%|██████████| 370/370 [00:01<00:00, 225.69it/s]\n",
      "Training Epoch 1575: 100%|██████████| 370/370 [00:01<00:00, 222.03it/s]\n",
      "Training Epoch 1576: 100%|██████████| 370/370 [00:01<00:00, 230.84it/s]\n",
      "Training Epoch 1577: 100%|██████████| 370/370 [00:01<00:00, 237.10it/s]\n",
      "Training Epoch 1578: 100%|██████████| 370/370 [00:01<00:00, 226.94it/s]\n",
      "Training Epoch 1579: 100%|██████████| 370/370 [00:01<00:00, 227.87it/s]\n",
      "Training Epoch 1580: 100%|██████████| 370/370 [00:01<00:00, 218.54it/s]\n",
      "Training Epoch 1581: 100%|██████████| 370/370 [00:01<00:00, 237.96it/s]\n"
     ]
    },
    {
     "name": "stdout",
     "output_type": "stream",
     "text": [
      "Epoch 1580 - Train Loss: 0.3639, Train MSE: 0.3615, Train MAE: 0.3897\n",
      "Epoch 1580 - Validation Loss: 1.5441, Validation MSE: 1.5461, Validation MAE: 0.9238\n"
     ]
    },
    {
     "name": "stderr",
     "output_type": "stream",
     "text": [
      "Training Epoch 1582: 100%|██████████| 370/370 [00:01<00:00, 238.75it/s]\n",
      "Training Epoch 1583: 100%|██████████| 370/370 [00:01<00:00, 234.51it/s]\n",
      "Training Epoch 1584: 100%|██████████| 370/370 [00:01<00:00, 227.05it/s]\n",
      "Training Epoch 1585: 100%|██████████| 370/370 [00:01<00:00, 224.65it/s]\n",
      "Training Epoch 1586: 100%|██████████| 370/370 [00:01<00:00, 232.52it/s]\n",
      "Training Epoch 1587: 100%|██████████| 370/370 [00:01<00:00, 237.30it/s]\n",
      "Training Epoch 1588: 100%|██████████| 370/370 [00:01<00:00, 235.19it/s]\n",
      "Training Epoch 1589: 100%|██████████| 370/370 [00:01<00:00, 228.95it/s]\n",
      "Training Epoch 1590: 100%|██████████| 370/370 [00:01<00:00, 225.44it/s]\n",
      "Training Epoch 1591: 100%|██████████| 370/370 [00:01<00:00, 227.27it/s]\n"
     ]
    },
    {
     "name": "stdout",
     "output_type": "stream",
     "text": [
      "Epoch 1590 - Train Loss: 0.3576, Train MSE: 0.3582, Train MAE: 0.3879\n",
      "Epoch 1590 - Validation Loss: 1.5520, Validation MSE: 1.5543, Validation MAE: 0.9213\n"
     ]
    },
    {
     "name": "stderr",
     "output_type": "stream",
     "text": [
      "Training Epoch 1592: 100%|██████████| 370/370 [00:01<00:00, 230.44it/s]\n",
      "Training Epoch 1593: 100%|██████████| 370/370 [00:01<00:00, 238.36it/s]\n",
      "Training Epoch 1594: 100%|██████████| 370/370 [00:01<00:00, 235.01it/s]\n",
      "Training Epoch 1595: 100%|██████████| 370/370 [00:01<00:00, 218.66it/s]\n",
      "Training Epoch 1596: 100%|██████████| 370/370 [00:01<00:00, 228.97it/s]\n",
      "Training Epoch 1597: 100%|██████████| 370/370 [00:01<00:00, 238.13it/s]\n",
      "Training Epoch 1598: 100%|██████████| 370/370 [00:01<00:00, 239.22it/s]\n",
      "Training Epoch 1599: 100%|██████████| 370/370 [00:01<00:00, 244.03it/s]\n",
      "Training Epoch 1600: 100%|██████████| 370/370 [00:01<00:00, 222.19it/s]\n",
      "Training Epoch 1601: 100%|██████████| 370/370 [00:01<00:00, 226.74it/s]\n"
     ]
    },
    {
     "name": "stdout",
     "output_type": "stream",
     "text": [
      "Epoch 1600 - Train Loss: 0.3561, Train MSE: 0.3569, Train MAE: 0.3877\n",
      "Epoch 1600 - Validation Loss: 1.5587, Validation MSE: 1.5607, Validation MAE: 0.9223\n"
     ]
    },
    {
     "name": "stderr",
     "output_type": "stream",
     "text": [
      "Training Epoch 1602: 100%|██████████| 370/370 [00:01<00:00, 235.11it/s]\n",
      "Training Epoch 1603: 100%|██████████| 370/370 [00:01<00:00, 233.76it/s]\n",
      "Training Epoch 1604: 100%|██████████| 370/370 [00:01<00:00, 240.36it/s]\n",
      "Training Epoch 1605: 100%|██████████| 370/370 [00:01<00:00, 219.57it/s]\n",
      "Training Epoch 1606: 100%|██████████| 370/370 [00:01<00:00, 227.08it/s]\n",
      "Training Epoch 1607: 100%|██████████| 370/370 [00:01<00:00, 229.67it/s]\n",
      "Training Epoch 1608: 100%|██████████| 370/370 [00:01<00:00, 241.15it/s]\n",
      "Training Epoch 1609: 100%|██████████| 370/370 [00:01<00:00, 237.29it/s]\n",
      "Training Epoch 1610: 100%|██████████| 370/370 [00:01<00:00, 226.11it/s]\n",
      "Training Epoch 1611: 100%|██████████| 370/370 [00:01<00:00, 225.44it/s]\n"
     ]
    },
    {
     "name": "stdout",
     "output_type": "stream",
     "text": [
      "Epoch 1610 - Train Loss: 0.3550, Train MSE: 0.3552, Train MAE: 0.3879\n",
      "Epoch 1610 - Validation Loss: 1.5322, Validation MSE: 1.5338, Validation MAE: 0.9164\n"
     ]
    },
    {
     "name": "stderr",
     "output_type": "stream",
     "text": [
      "Training Epoch 1612: 100%|██████████| 370/370 [00:01<00:00, 225.40it/s]\n",
      "Training Epoch 1613: 100%|██████████| 370/370 [00:01<00:00, 230.49it/s]\n",
      "Training Epoch 1614: 100%|██████████| 370/370 [00:01<00:00, 240.72it/s]\n",
      "Training Epoch 1615: 100%|██████████| 370/370 [00:01<00:00, 231.36it/s]\n",
      "Training Epoch 1616: 100%|██████████| 370/370 [00:01<00:00, 226.44it/s]\n",
      "Training Epoch 1617: 100%|██████████| 370/370 [00:01<00:00, 225.23it/s]\n",
      "Training Epoch 1618: 100%|██████████| 370/370 [00:01<00:00, 230.60it/s]\n",
      "Training Epoch 1619: 100%|██████████| 370/370 [00:01<00:00, 239.88it/s]\n",
      "Training Epoch 1620: 100%|██████████| 370/370 [00:01<00:00, 242.30it/s]\n",
      "Training Epoch 1621: 100%|██████████| 370/370 [00:01<00:00, 227.64it/s]\n"
     ]
    },
    {
     "name": "stdout",
     "output_type": "stream",
     "text": [
      "Epoch 1620 - Train Loss: 0.3507, Train MSE: 0.3511, Train MAE: 0.3869\n",
      "Epoch 1620 - Validation Loss: 1.5584, Validation MSE: 1.5606, Validation MAE: 0.9264\n"
     ]
    },
    {
     "name": "stderr",
     "output_type": "stream",
     "text": [
      "Training Epoch 1622: 100%|██████████| 370/370 [00:01<00:00, 226.13it/s]\n",
      "Training Epoch 1623: 100%|██████████| 370/370 [00:01<00:00, 226.77it/s]\n",
      "Training Epoch 1624: 100%|██████████| 370/370 [00:01<00:00, 249.79it/s]\n",
      "Training Epoch 1625: 100%|██████████| 370/370 [00:01<00:00, 237.07it/s]\n",
      "Training Epoch 1626: 100%|██████████| 370/370 [00:01<00:00, 230.63it/s]\n",
      "Training Epoch 1627: 100%|██████████| 370/370 [00:01<00:00, 226.43it/s]\n",
      "Training Epoch 1628: 100%|██████████| 370/370 [00:01<00:00, 226.28it/s]\n",
      "Training Epoch 1629: 100%|██████████| 370/370 [00:01<00:00, 233.78it/s]\n",
      "Training Epoch 1630: 100%|██████████| 370/370 [00:01<00:00, 237.55it/s]\n",
      "Training Epoch 1631: 100%|██████████| 370/370 [00:01<00:00, 238.95it/s]\n"
     ]
    },
    {
     "name": "stdout",
     "output_type": "stream",
     "text": [
      "Epoch 1630 - Train Loss: 0.3564, Train MSE: 0.3567, Train MAE: 0.3873\n",
      "Epoch 1630 - Validation Loss: 1.5504, Validation MSE: 1.5521, Validation MAE: 0.9209\n"
     ]
    },
    {
     "name": "stderr",
     "output_type": "stream",
     "text": [
      "Training Epoch 1632: 100%|██████████| 370/370 [00:01<00:00, 227.23it/s]\n",
      "Training Epoch 1633: 100%|██████████| 370/370 [00:01<00:00, 218.71it/s]\n",
      "Training Epoch 1634: 100%|██████████| 370/370 [00:01<00:00, 234.33it/s]\n",
      "Training Epoch 1635: 100%|██████████| 370/370 [00:01<00:00, 234.43it/s]\n",
      "Training Epoch 1636: 100%|██████████| 370/370 [00:01<00:00, 246.20it/s]\n",
      "Training Epoch 1637: 100%|██████████| 370/370 [00:01<00:00, 230.80it/s]\n",
      "Training Epoch 1638: 100%|██████████| 370/370 [00:01<00:00, 228.24it/s]\n",
      "Training Epoch 1639: 100%|██████████| 370/370 [00:01<00:00, 225.80it/s]\n",
      "Training Epoch 1640: 100%|██████████| 370/370 [00:01<00:00, 228.72it/s]\n",
      "Training Epoch 1641: 100%|██████████| 370/370 [00:01<00:00, 241.51it/s]\n"
     ]
    },
    {
     "name": "stdout",
     "output_type": "stream",
     "text": [
      "Epoch 1640 - Train Loss: 0.3483, Train MSE: 0.3487, Train MAE: 0.3848\n",
      "Epoch 1640 - Validation Loss: 1.5551, Validation MSE: 1.5568, Validation MAE: 0.9133\n"
     ]
    },
    {
     "name": "stderr",
     "output_type": "stream",
     "text": [
      "Training Epoch 1642: 100%|██████████| 370/370 [00:01<00:00, 238.29it/s]\n",
      "Training Epoch 1643: 100%|██████████| 370/370 [00:01<00:00, 228.53it/s]\n",
      "Training Epoch 1644: 100%|██████████| 370/370 [00:01<00:00, 226.80it/s]\n",
      "Training Epoch 1645: 100%|██████████| 370/370 [00:01<00:00, 231.22it/s]\n",
      "Training Epoch 1646: 100%|██████████| 370/370 [00:01<00:00, 237.33it/s]\n",
      "Training Epoch 1647: 100%|██████████| 370/370 [00:01<00:00, 240.20it/s]\n",
      "Training Epoch 1648: 100%|██████████| 370/370 [00:01<00:00, 237.12it/s]\n",
      "Training Epoch 1649: 100%|██████████| 370/370 [00:01<00:00, 225.07it/s]\n",
      "Training Epoch 1650: 100%|██████████| 370/370 [00:01<00:00, 225.35it/s]\n",
      "Training Epoch 1651: 100%|██████████| 370/370 [00:01<00:00, 228.47it/s]\n"
     ]
    },
    {
     "name": "stdout",
     "output_type": "stream",
     "text": [
      "Epoch 1650 - Train Loss: 0.3487, Train MSE: 0.3485, Train MAE: 0.3828\n",
      "Epoch 1650 - Validation Loss: 1.5617, Validation MSE: 1.5638, Validation MAE: 0.9191\n"
     ]
    },
    {
     "name": "stderr",
     "output_type": "stream",
     "text": [
      "Training Epoch 1652: 100%|██████████| 370/370 [00:01<00:00, 236.13it/s]\n",
      "Training Epoch 1653: 100%|██████████| 370/370 [00:01<00:00, 238.17it/s]\n",
      "Training Epoch 1654: 100%|██████████| 370/370 [00:01<00:00, 224.33it/s]\n",
      "Training Epoch 1655: 100%|██████████| 370/370 [00:01<00:00, 226.20it/s]\n",
      "Training Epoch 1656: 100%|██████████| 370/370 [00:01<00:00, 225.58it/s]\n",
      "Training Epoch 1657: 100%|██████████| 370/370 [00:01<00:00, 238.84it/s]\n",
      "Training Epoch 1658: 100%|██████████| 370/370 [00:01<00:00, 240.99it/s]\n",
      "Training Epoch 1659: 100%|██████████| 370/370 [00:01<00:00, 234.98it/s]\n",
      "Training Epoch 1660: 100%|██████████| 370/370 [00:01<00:00, 226.64it/s]\n",
      "Training Epoch 1661: 100%|██████████| 370/370 [00:01<00:00, 222.51it/s]\n"
     ]
    },
    {
     "name": "stdout",
     "output_type": "stream",
     "text": [
      "Epoch 1660 - Train Loss: 0.3478, Train MSE: 0.3485, Train MAE: 0.3832\n",
      "Epoch 1660 - Validation Loss: 1.5241, Validation MSE: 1.5261, Validation MAE: 0.9138\n"
     ]
    },
    {
     "name": "stderr",
     "output_type": "stream",
     "text": [
      "Training Epoch 1662: 100%|██████████| 370/370 [00:01<00:00, 230.01it/s]\n",
      "Training Epoch 1663: 100%|██████████| 370/370 [00:01<00:00, 234.12it/s]\n",
      "Training Epoch 1664: 100%|██████████| 370/370 [00:01<00:00, 237.51it/s]\n",
      "Training Epoch 1665: 100%|██████████| 370/370 [00:01<00:00, 228.33it/s]\n",
      "Training Epoch 1666: 100%|██████████| 370/370 [00:01<00:00, 221.79it/s]\n",
      "Training Epoch 1667: 100%|██████████| 370/370 [00:01<00:00, 226.66it/s]\n",
      "Training Epoch 1668: 100%|██████████| 370/370 [00:01<00:00, 239.85it/s]\n",
      "Training Epoch 1669: 100%|██████████| 370/370 [00:01<00:00, 236.73it/s]\n",
      "Training Epoch 1670: 100%|██████████| 370/370 [00:01<00:00, 235.30it/s]\n",
      "Training Epoch 1671: 100%|██████████| 370/370 [00:01<00:00, 218.12it/s]\n"
     ]
    },
    {
     "name": "stdout",
     "output_type": "stream",
     "text": [
      "Epoch 1670 - Train Loss: 0.3455, Train MSE: 0.3455, Train MAE: 0.3848\n",
      "Epoch 1670 - Validation Loss: 1.5549, Validation MSE: 1.5566, Validation MAE: 0.9184\n"
     ]
    },
    {
     "name": "stderr",
     "output_type": "stream",
     "text": [
      "Training Epoch 1672: 100%|██████████| 370/370 [00:01<00:00, 224.73it/s]\n",
      "Training Epoch 1673: 100%|██████████| 370/370 [00:01<00:00, 238.73it/s]\n",
      "Training Epoch 1674: 100%|██████████| 370/370 [00:01<00:00, 241.00it/s]\n",
      "Training Epoch 1675: 100%|██████████| 370/370 [00:01<00:00, 231.14it/s]\n",
      "Training Epoch 1676: 100%|██████████| 370/370 [00:01<00:00, 212.16it/s]\n",
      "Training Epoch 1677: 100%|██████████| 370/370 [00:01<00:00, 230.48it/s]\n",
      "Training Epoch 1678: 100%|██████████| 370/370 [00:01<00:00, 236.09it/s]\n",
      "Training Epoch 1679: 100%|██████████| 370/370 [00:01<00:00, 238.72it/s]\n",
      "Training Epoch 1680: 100%|██████████| 370/370 [00:01<00:00, 232.69it/s]\n",
      "Training Epoch 1681: 100%|██████████| 370/370 [00:01<00:00, 228.01it/s]\n"
     ]
    },
    {
     "name": "stdout",
     "output_type": "stream",
     "text": [
      "Epoch 1680 - Train Loss: 0.3462, Train MSE: 0.3466, Train MAE: 0.3834\n",
      "Epoch 1680 - Validation Loss: 1.5378, Validation MSE: 1.5397, Validation MAE: 0.9198\n"
     ]
    },
    {
     "name": "stderr",
     "output_type": "stream",
     "text": [
      "Training Epoch 1682: 100%|██████████| 370/370 [00:01<00:00, 226.89it/s]\n",
      "Training Epoch 1683: 100%|██████████| 370/370 [00:01<00:00, 239.51it/s]\n",
      "Training Epoch 1684: 100%|██████████| 370/370 [00:01<00:00, 241.13it/s]\n",
      "Training Epoch 1685: 100%|██████████| 370/370 [00:01<00:00, 241.22it/s]\n",
      "Training Epoch 1686: 100%|██████████| 370/370 [00:01<00:00, 224.92it/s]\n",
      "Training Epoch 1687: 100%|██████████| 370/370 [00:01<00:00, 225.51it/s]\n",
      "Training Epoch 1688: 100%|██████████| 370/370 [00:01<00:00, 229.25it/s]\n",
      "Training Epoch 1689: 100%|██████████| 370/370 [00:01<00:00, 247.35it/s]\n",
      "Training Epoch 1690: 100%|██████████| 370/370 [00:01<00:00, 245.93it/s]\n",
      "Training Epoch 1691: 100%|██████████| 370/370 [00:01<00:00, 227.20it/s]\n"
     ]
    },
    {
     "name": "stdout",
     "output_type": "stream",
     "text": [
      "Epoch 1690 - Train Loss: 0.3495, Train MSE: 0.3478, Train MAE: 0.3825\n",
      "Epoch 1690 - Validation Loss: 1.5211, Validation MSE: 1.5225, Validation MAE: 0.9178\n"
     ]
    },
    {
     "name": "stderr",
     "output_type": "stream",
     "text": [
      "Training Epoch 1692: 100%|██████████| 370/370 [00:01<00:00, 225.03it/s]\n",
      "Training Epoch 1693: 100%|██████████| 370/370 [00:01<00:00, 220.63it/s]\n",
      "Training Epoch 1694: 100%|██████████| 370/370 [00:01<00:00, 241.28it/s]\n",
      "Training Epoch 1695: 100%|██████████| 370/370 [00:01<00:00, 239.63it/s]\n",
      "Training Epoch 1696: 100%|██████████| 370/370 [00:01<00:00, 235.01it/s]\n",
      "Training Epoch 1697: 100%|██████████| 370/370 [00:01<00:00, 226.92it/s]\n",
      "Training Epoch 1698: 100%|██████████| 370/370 [00:01<00:00, 226.49it/s]\n",
      "Training Epoch 1699: 100%|██████████| 370/370 [00:01<00:00, 231.55it/s]\n",
      "Training Epoch 1700: 100%|██████████| 370/370 [00:01<00:00, 241.28it/s]\n",
      "Training Epoch 1701: 100%|██████████| 370/370 [00:01<00:00, 236.47it/s]\n"
     ]
    },
    {
     "name": "stdout",
     "output_type": "stream",
     "text": [
      "Epoch 1700 - Train Loss: 0.3516, Train MSE: 0.3515, Train MAE: 0.3844\n",
      "Epoch 1700 - Validation Loss: 1.5542, Validation MSE: 1.5565, Validation MAE: 0.9234\n"
     ]
    },
    {
     "name": "stderr",
     "output_type": "stream",
     "text": [
      "Training Epoch 1702: 100%|██████████| 370/370 [00:01<00:00, 224.73it/s]\n",
      "Training Epoch 1703: 100%|██████████| 370/370 [00:01<00:00, 225.31it/s]\n",
      "Training Epoch 1704: 100%|██████████| 370/370 [00:01<00:00, 229.79it/s]\n",
      "Training Epoch 1705: 100%|██████████| 370/370 [00:01<00:00, 237.42it/s]\n",
      "Training Epoch 1706: 100%|██████████| 370/370 [00:01<00:00, 241.04it/s]\n",
      "Training Epoch 1707: 100%|██████████| 370/370 [00:01<00:00, 234.27it/s]\n",
      "Training Epoch 1708: 100%|██████████| 370/370 [00:01<00:00, 219.71it/s]\n",
      "Training Epoch 1709: 100%|██████████| 370/370 [00:01<00:00, 227.55it/s]\n",
      "Training Epoch 1710: 100%|██████████| 370/370 [00:01<00:00, 234.03it/s]\n",
      "Training Epoch 1711: 100%|██████████| 370/370 [00:01<00:00, 235.93it/s]\n"
     ]
    },
    {
     "name": "stdout",
     "output_type": "stream",
     "text": [
      "Epoch 1710 - Train Loss: 0.3516, Train MSE: 0.3523, Train MAE: 0.3839\n",
      "Epoch 1710 - Validation Loss: 1.5528, Validation MSE: 1.5545, Validation MAE: 0.9212\n"
     ]
    },
    {
     "name": "stderr",
     "output_type": "stream",
     "text": [
      "Training Epoch 1712: 100%|██████████| 370/370 [00:01<00:00, 219.35it/s]\n",
      "Training Epoch 1713: 100%|██████████| 370/370 [00:01<00:00, 226.41it/s]\n",
      "Training Epoch 1714: 100%|██████████| 370/370 [00:01<00:00, 226.18it/s]\n",
      "Training Epoch 1715: 100%|██████████| 370/370 [00:01<00:00, 233.32it/s]\n",
      "Training Epoch 1716: 100%|██████████| 370/370 [00:01<00:00, 235.23it/s]\n",
      "Training Epoch 1717: 100%|██████████| 370/370 [00:01<00:00, 238.75it/s]\n",
      "Training Epoch 1718: 100%|██████████| 370/370 [00:01<00:00, 224.03it/s]\n",
      "Training Epoch 1719: 100%|██████████| 370/370 [00:01<00:00, 225.54it/s]\n",
      "Training Epoch 1720: 100%|██████████| 370/370 [00:01<00:00, 226.82it/s]\n",
      "Training Epoch 1721: 100%|██████████| 370/370 [00:01<00:00, 236.53it/s]\n"
     ]
    },
    {
     "name": "stdout",
     "output_type": "stream",
     "text": [
      "Epoch 1720 - Train Loss: 0.3512, Train MSE: 0.3498, Train MAE: 0.3833\n",
      "Epoch 1720 - Validation Loss: 1.5512, Validation MSE: 1.5531, Validation MAE: 0.9183\n"
     ]
    },
    {
     "name": "stderr",
     "output_type": "stream",
     "text": [
      "Training Epoch 1722: 100%|██████████| 370/370 [00:01<00:00, 246.88it/s]\n",
      "Training Epoch 1723: 100%|██████████| 370/370 [00:01<00:00, 243.98it/s]\n",
      "Training Epoch 1724: 100%|██████████| 370/370 [00:01<00:00, 230.57it/s]\n",
      "Training Epoch 1725: 100%|██████████| 370/370 [00:01<00:00, 228.08it/s]\n",
      "Training Epoch 1726: 100%|██████████| 370/370 [00:01<00:00, 232.35it/s]\n",
      "Training Epoch 1727: 100%|██████████| 370/370 [00:01<00:00, 234.52it/s]\n",
      "Training Epoch 1728: 100%|██████████| 370/370 [00:01<00:00, 233.37it/s]\n",
      "Training Epoch 1729: 100%|██████████| 370/370 [00:01<00:00, 223.35it/s]\n",
      "Training Epoch 1730: 100%|██████████| 370/370 [00:01<00:00, 224.04it/s]\n",
      "Training Epoch 1731: 100%|██████████| 370/370 [00:01<00:00, 228.07it/s]\n"
     ]
    },
    {
     "name": "stdout",
     "output_type": "stream",
     "text": [
      "Epoch 1730 - Train Loss: 0.3436, Train MSE: 0.3424, Train MAE: 0.3802\n",
      "Epoch 1730 - Validation Loss: 1.5431, Validation MSE: 1.5451, Validation MAE: 0.9178\n"
     ]
    },
    {
     "name": "stderr",
     "output_type": "stream",
     "text": [
      "Training Epoch 1732: 100%|██████████| 370/370 [00:01<00:00, 234.42it/s]\n",
      "Training Epoch 1733: 100%|██████████| 370/370 [00:01<00:00, 238.56it/s]\n",
      "Training Epoch 1734: 100%|██████████| 370/370 [00:01<00:00, 213.15it/s]\n",
      "Training Epoch 1735: 100%|██████████| 370/370 [00:01<00:00, 189.59it/s]\n",
      "Training Epoch 1736: 100%|██████████| 370/370 [00:01<00:00, 233.15it/s]\n",
      "Training Epoch 1737: 100%|██████████| 370/370 [00:01<00:00, 217.60it/s]\n",
      "Training Epoch 1738: 100%|██████████| 370/370 [00:01<00:00, 208.12it/s]\n",
      "Training Epoch 1739: 100%|██████████| 370/370 [00:01<00:00, 233.19it/s]\n",
      "Training Epoch 1740: 100%|██████████| 370/370 [00:01<00:00, 236.08it/s]\n",
      "Training Epoch 1741: 100%|██████████| 370/370 [00:01<00:00, 225.78it/s]\n"
     ]
    },
    {
     "name": "stdout",
     "output_type": "stream",
     "text": [
      "Epoch 1740 - Train Loss: 0.3457, Train MSE: 0.3461, Train MAE: 0.3839\n",
      "Epoch 1740 - Validation Loss: 1.5511, Validation MSE: 1.5530, Validation MAE: 0.9191\n"
     ]
    },
    {
     "name": "stderr",
     "output_type": "stream",
     "text": [
      "Training Epoch 1742: 100%|██████████| 370/370 [00:01<00:00, 214.52it/s]\n",
      "Training Epoch 1743: 100%|██████████| 370/370 [00:01<00:00, 222.76it/s]\n",
      "Training Epoch 1744: 100%|██████████| 370/370 [00:01<00:00, 243.47it/s]\n",
      "Training Epoch 1745: 100%|██████████| 370/370 [00:01<00:00, 240.72it/s]\n",
      "Training Epoch 1746: 100%|██████████| 370/370 [00:01<00:00, 241.87it/s]\n",
      "Training Epoch 1747: 100%|██████████| 370/370 [00:01<00:00, 197.17it/s]\n",
      "Training Epoch 1748: 100%|██████████| 370/370 [00:01<00:00, 226.46it/s]\n",
      "Training Epoch 1749: 100%|██████████| 370/370 [00:01<00:00, 211.27it/s]\n",
      "Training Epoch 1750: 100%|██████████| 370/370 [00:01<00:00, 207.80it/s]\n",
      "Training Epoch 1751: 100%|██████████| 370/370 [00:01<00:00, 198.63it/s]\n"
     ]
    },
    {
     "name": "stdout",
     "output_type": "stream",
     "text": [
      "Epoch 1750 - Train Loss: 0.3441, Train MSE: 0.3428, Train MAE: 0.3792\n",
      "Epoch 1750 - Validation Loss: 1.5626, Validation MSE: 1.5649, Validation MAE: 0.9277\n"
     ]
    },
    {
     "name": "stderr",
     "output_type": "stream",
     "text": [
      "Training Epoch 1752: 100%|██████████| 370/370 [00:01<00:00, 223.04it/s]\n",
      "Training Epoch 1753: 100%|██████████| 370/370 [00:01<00:00, 235.62it/s]\n",
      "Training Epoch 1754: 100%|██████████| 370/370 [00:01<00:00, 221.00it/s]\n",
      "Training Epoch 1755: 100%|██████████| 370/370 [00:01<00:00, 212.76it/s]\n",
      "Training Epoch 1756: 100%|██████████| 370/370 [00:01<00:00, 229.81it/s]\n",
      "Training Epoch 1757: 100%|██████████| 370/370 [00:01<00:00, 236.56it/s]\n",
      "Training Epoch 1758: 100%|██████████| 370/370 [00:01<00:00, 227.20it/s]\n",
      "Training Epoch 1759: 100%|██████████| 370/370 [00:01<00:00, 221.63it/s]\n",
      "Training Epoch 1760: 100%|██████████| 370/370 [00:01<00:00, 223.97it/s]\n",
      "Training Epoch 1761: 100%|██████████| 370/370 [00:01<00:00, 224.90it/s]\n"
     ]
    },
    {
     "name": "stdout",
     "output_type": "stream",
     "text": [
      "Epoch 1760 - Train Loss: 0.3443, Train MSE: 0.3449, Train MAE: 0.3793\n",
      "Epoch 1760 - Validation Loss: 1.5442, Validation MSE: 1.5463, Validation MAE: 0.9185\n"
     ]
    },
    {
     "name": "stderr",
     "output_type": "stream",
     "text": [
      "Training Epoch 1762: 100%|██████████| 370/370 [00:01<00:00, 232.71it/s]\n",
      "Training Epoch 1763: 100%|██████████| 370/370 [00:01<00:00, 226.81it/s]\n",
      "Training Epoch 1764: 100%|██████████| 370/370 [00:01<00:00, 219.21it/s]\n",
      "Training Epoch 1765: 100%|██████████| 370/370 [00:01<00:00, 209.66it/s]\n",
      "Training Epoch 1766: 100%|██████████| 370/370 [00:01<00:00, 211.25it/s]\n",
      "Training Epoch 1767: 100%|██████████| 370/370 [00:01<00:00, 218.86it/s]\n",
      "Training Epoch 1768: 100%|██████████| 370/370 [00:01<00:00, 201.53it/s]\n",
      "Training Epoch 1769: 100%|██████████| 370/370 [00:01<00:00, 218.67it/s]\n",
      "Training Epoch 1770: 100%|██████████| 370/370 [00:01<00:00, 230.67it/s]\n",
      "Training Epoch 1771: 100%|██████████| 370/370 [00:01<00:00, 228.59it/s]\n"
     ]
    },
    {
     "name": "stdout",
     "output_type": "stream",
     "text": [
      "Epoch 1770 - Train Loss: 0.3442, Train MSE: 0.3432, Train MAE: 0.3809\n",
      "Epoch 1770 - Validation Loss: 1.5511, Validation MSE: 1.5533, Validation MAE: 0.9202\n"
     ]
    },
    {
     "name": "stderr",
     "output_type": "stream",
     "text": [
      "Training Epoch 1772: 100%|██████████| 370/370 [00:01<00:00, 210.35it/s]\n",
      "Training Epoch 1773: 100%|██████████| 370/370 [00:01<00:00, 208.37it/s]\n",
      "Training Epoch 1774: 100%|██████████| 370/370 [00:01<00:00, 212.64it/s]\n",
      "Training Epoch 1775: 100%|██████████| 370/370 [00:01<00:00, 222.44it/s]\n",
      "Training Epoch 1776: 100%|██████████| 370/370 [00:01<00:00, 212.30it/s]\n",
      "Training Epoch 1777: 100%|██████████| 370/370 [00:01<00:00, 226.22it/s]\n",
      "Training Epoch 1778: 100%|██████████| 370/370 [00:01<00:00, 230.14it/s]\n",
      "Training Epoch 1779: 100%|██████████| 370/370 [00:01<00:00, 236.80it/s]\n",
      "Training Epoch 1780: 100%|██████████| 370/370 [00:01<00:00, 219.35it/s]\n",
      "Training Epoch 1781: 100%|██████████| 370/370 [00:01<00:00, 224.90it/s]\n"
     ]
    },
    {
     "name": "stdout",
     "output_type": "stream",
     "text": [
      "Epoch 1780 - Train Loss: 0.3395, Train MSE: 0.3390, Train MAE: 0.3783\n",
      "Epoch 1780 - Validation Loss: 1.5758, Validation MSE: 1.5780, Validation MAE: 0.9212\n"
     ]
    },
    {
     "name": "stderr",
     "output_type": "stream",
     "text": [
      "Training Epoch 1782: 100%|██████████| 370/370 [00:01<00:00, 222.78it/s]\n",
      "Training Epoch 1783: 100%|██████████| 370/370 [00:01<00:00, 224.10it/s]\n",
      "Training Epoch 1784: 100%|██████████| 370/370 [00:01<00:00, 229.25it/s]\n",
      "Training Epoch 1785: 100%|██████████| 370/370 [00:01<00:00, 240.10it/s]\n",
      "Training Epoch 1786: 100%|██████████| 370/370 [00:01<00:00, 217.27it/s]\n",
      "Training Epoch 1787: 100%|██████████| 370/370 [00:01<00:00, 227.07it/s]\n",
      "Training Epoch 1788: 100%|██████████| 370/370 [00:01<00:00, 222.34it/s]\n",
      "Training Epoch 1789: 100%|██████████| 370/370 [00:01<00:00, 223.57it/s]\n",
      "Training Epoch 1790: 100%|██████████| 370/370 [00:01<00:00, 229.05it/s]\n",
      "Training Epoch 1791: 100%|██████████| 370/370 [00:01<00:00, 223.84it/s]\n"
     ]
    },
    {
     "name": "stdout",
     "output_type": "stream",
     "text": [
      "Epoch 1790 - Train Loss: 0.3387, Train MSE: 0.3391, Train MAE: 0.3777\n",
      "Epoch 1790 - Validation Loss: 1.5038, Validation MSE: 1.5058, Validation MAE: 0.9073\n"
     ]
    },
    {
     "name": "stderr",
     "output_type": "stream",
     "text": [
      "Training Epoch 1792: 100%|██████████| 370/370 [00:01<00:00, 222.69it/s]\n",
      "Training Epoch 1793: 100%|██████████| 370/370 [00:01<00:00, 223.91it/s]\n",
      "Training Epoch 1794: 100%|██████████| 370/370 [00:01<00:00, 237.80it/s]\n",
      "Training Epoch 1795: 100%|██████████| 370/370 [00:01<00:00, 229.07it/s]\n",
      "Training Epoch 1796: 100%|██████████| 370/370 [00:01<00:00, 218.29it/s]\n",
      "Training Epoch 1797: 100%|██████████| 370/370 [00:01<00:00, 215.67it/s]\n",
      "Training Epoch 1798: 100%|██████████| 370/370 [00:01<00:00, 240.50it/s]\n",
      "Training Epoch 1799: 100%|██████████| 370/370 [00:01<00:00, 235.46it/s]\n",
      "Training Epoch 1800: 100%|██████████| 370/370 [00:01<00:00, 232.05it/s]\n",
      "Training Epoch 1801: 100%|██████████| 370/370 [00:01<00:00, 224.88it/s]\n"
     ]
    },
    {
     "name": "stdout",
     "output_type": "stream",
     "text": [
      "Epoch 1800 - Train Loss: 0.3384, Train MSE: 0.3391, Train MAE: 0.3799\n",
      "Epoch 1800 - Validation Loss: 1.5320, Validation MSE: 1.5345, Validation MAE: 0.9149\n"
     ]
    },
    {
     "name": "stderr",
     "output_type": "stream",
     "text": [
      "Training Epoch 1802: 100%|██████████| 370/370 [00:01<00:00, 219.65it/s]\n",
      "Training Epoch 1803: 100%|██████████| 370/370 [00:01<00:00, 228.67it/s]\n",
      "Training Epoch 1804: 100%|██████████| 370/370 [00:01<00:00, 236.74it/s]\n",
      "Training Epoch 1805: 100%|██████████| 370/370 [00:01<00:00, 235.23it/s]\n",
      "Training Epoch 1806: 100%|██████████| 370/370 [00:01<00:00, 221.79it/s]\n",
      "Training Epoch 1807: 100%|██████████| 370/370 [00:01<00:00, 224.32it/s]\n",
      "Training Epoch 1808: 100%|██████████| 370/370 [00:01<00:00, 222.61it/s]\n",
      "Training Epoch 1809: 100%|██████████| 370/370 [00:01<00:00, 238.85it/s]\n",
      "Training Epoch 1810: 100%|██████████| 370/370 [00:01<00:00, 242.18it/s]\n",
      "Training Epoch 1811: 100%|██████████| 370/370 [00:01<00:00, 233.88it/s]\n"
     ]
    },
    {
     "name": "stdout",
     "output_type": "stream",
     "text": [
      "Epoch 1810 - Train Loss: 0.3402, Train MSE: 0.3407, Train MAE: 0.3777\n",
      "Epoch 1810 - Validation Loss: 1.5789, Validation MSE: 1.5812, Validation MAE: 0.9270\n"
     ]
    },
    {
     "name": "stderr",
     "output_type": "stream",
     "text": [
      "Training Epoch 1812: 100%|██████████| 370/370 [00:01<00:00, 228.46it/s]\n",
      "Training Epoch 1813: 100%|██████████| 370/370 [00:01<00:00, 228.65it/s]\n",
      "Training Epoch 1814: 100%|██████████| 370/370 [00:01<00:00, 229.13it/s]\n",
      "Training Epoch 1815: 100%|██████████| 370/370 [00:01<00:00, 234.64it/s]\n",
      "Training Epoch 1816: 100%|██████████| 370/370 [00:01<00:00, 242.19it/s]\n",
      "Training Epoch 1817: 100%|██████████| 370/370 [00:01<00:00, 231.00it/s]\n",
      "Training Epoch 1818: 100%|██████████| 370/370 [00:01<00:00, 222.80it/s]\n",
      "Training Epoch 1819: 100%|██████████| 370/370 [00:01<00:00, 215.36it/s]\n",
      "Training Epoch 1820: 100%|██████████| 370/370 [00:01<00:00, 239.58it/s]\n",
      "Training Epoch 1821: 100%|██████████| 370/370 [00:01<00:00, 232.13it/s]\n"
     ]
    },
    {
     "name": "stdout",
     "output_type": "stream",
     "text": [
      "Epoch 1820 - Train Loss: 0.3345, Train MSE: 0.3349, Train MAE: 0.3744\n",
      "Epoch 1820 - Validation Loss: 1.5457, Validation MSE: 1.5481, Validation MAE: 0.9195\n"
     ]
    },
    {
     "name": "stderr",
     "output_type": "stream",
     "text": [
      "Training Epoch 1822: 100%|██████████| 370/370 [00:01<00:00, 232.53it/s]\n",
      "Training Epoch 1823: 100%|██████████| 370/370 [00:01<00:00, 225.59it/s]\n",
      "Training Epoch 1824: 100%|██████████| 370/370 [00:01<00:00, 213.96it/s]\n",
      "Training Epoch 1825: 100%|██████████| 370/370 [00:01<00:00, 219.17it/s]\n",
      "Training Epoch 1826: 100%|██████████| 370/370 [00:01<00:00, 225.08it/s]\n",
      "Training Epoch 1827: 100%|██████████| 370/370 [00:01<00:00, 213.22it/s]\n",
      "Training Epoch 1828: 100%|██████████| 370/370 [00:01<00:00, 213.25it/s]\n",
      "Training Epoch 1829: 100%|██████████| 370/370 [00:01<00:00, 228.42it/s]\n",
      "Training Epoch 1830: 100%|██████████| 370/370 [00:01<00:00, 240.84it/s]\n",
      "Training Epoch 1831: 100%|██████████| 370/370 [00:01<00:00, 242.16it/s]\n"
     ]
    },
    {
     "name": "stdout",
     "output_type": "stream",
     "text": [
      "Epoch 1830 - Train Loss: 0.3375, Train MSE: 0.3375, Train MAE: 0.3782\n",
      "Epoch 1830 - Validation Loss: 1.5474, Validation MSE: 1.5496, Validation MAE: 0.9134\n"
     ]
    },
    {
     "name": "stderr",
     "output_type": "stream",
     "text": [
      "Training Epoch 1832: 100%|██████████| 370/370 [00:01<00:00, 230.29it/s]\n",
      "Training Epoch 1833: 100%|██████████| 370/370 [00:01<00:00, 225.09it/s]\n",
      "Training Epoch 1834: 100%|██████████| 370/370 [00:01<00:00, 221.33it/s]\n",
      "Training Epoch 1835: 100%|██████████| 370/370 [00:01<00:00, 238.34it/s]\n",
      "Training Epoch 1836: 100%|██████████| 370/370 [00:01<00:00, 214.57it/s]\n",
      "Training Epoch 1837: 100%|██████████| 370/370 [00:01<00:00, 198.30it/s]\n",
      "Training Epoch 1838: 100%|██████████| 370/370 [00:01<00:00, 229.78it/s]\n",
      "Training Epoch 1839: 100%|██████████| 370/370 [00:01<00:00, 246.78it/s]\n",
      "Training Epoch 1840: 100%|██████████| 370/370 [00:01<00:00, 226.54it/s]\n",
      "Training Epoch 1841: 100%|██████████| 370/370 [00:01<00:00, 227.87it/s]\n"
     ]
    },
    {
     "name": "stdout",
     "output_type": "stream",
     "text": [
      "Epoch 1840 - Train Loss: 0.3405, Train MSE: 0.3409, Train MAE: 0.3811\n",
      "Epoch 1840 - Validation Loss: 1.5453, Validation MSE: 1.5474, Validation MAE: 0.9119\n"
     ]
    },
    {
     "name": "stderr",
     "output_type": "stream",
     "text": [
      "Training Epoch 1842: 100%|██████████| 370/370 [00:01<00:00, 224.19it/s]\n",
      "Training Epoch 1843: 100%|██████████| 370/370 [00:01<00:00, 236.20it/s]\n",
      "Training Epoch 1844: 100%|██████████| 370/370 [00:01<00:00, 236.76it/s]\n",
      "Training Epoch 1845: 100%|██████████| 370/370 [00:01<00:00, 230.16it/s]\n",
      "Training Epoch 1846: 100%|██████████| 370/370 [00:01<00:00, 225.00it/s]\n",
      "Training Epoch 1847: 100%|██████████| 370/370 [00:01<00:00, 226.83it/s]\n",
      "Training Epoch 1848: 100%|██████████| 370/370 [00:01<00:00, 236.11it/s]\n",
      "Training Epoch 1849: 100%|██████████| 370/370 [00:01<00:00, 246.43it/s]\n",
      "Training Epoch 1850: 100%|██████████| 370/370 [00:01<00:00, 215.34it/s]\n",
      "Training Epoch 1851: 100%|██████████| 370/370 [00:01<00:00, 232.75it/s]\n"
     ]
    },
    {
     "name": "stdout",
     "output_type": "stream",
     "text": [
      "Epoch 1850 - Train Loss: 0.3393, Train MSE: 0.3398, Train MAE: 0.3784\n",
      "Epoch 1850 - Validation Loss: 1.5696, Validation MSE: 1.5718, Validation MAE: 0.9230\n"
     ]
    },
    {
     "name": "stderr",
     "output_type": "stream",
     "text": [
      "Training Epoch 1852: 100%|██████████| 370/370 [00:01<00:00, 231.19it/s]\n",
      "Training Epoch 1853: 100%|██████████| 370/370 [00:01<00:00, 239.51it/s]\n",
      "Training Epoch 1854: 100%|██████████| 370/370 [00:01<00:00, 241.53it/s]\n",
      "Training Epoch 1855: 100%|██████████| 370/370 [00:01<00:00, 237.92it/s]\n",
      "Training Epoch 1856: 100%|██████████| 370/370 [00:01<00:00, 228.00it/s]\n",
      "Training Epoch 1857: 100%|██████████| 370/370 [00:01<00:00, 221.08it/s]\n",
      "Training Epoch 1858: 100%|██████████| 370/370 [00:01<00:00, 233.99it/s]\n",
      "Training Epoch 1859: 100%|██████████| 370/370 [00:01<00:00, 234.00it/s]\n",
      "Training Epoch 1860: 100%|██████████| 370/370 [00:01<00:00, 237.28it/s]\n",
      "Training Epoch 1861: 100%|██████████| 370/370 [00:01<00:00, 226.54it/s]\n"
     ]
    },
    {
     "name": "stdout",
     "output_type": "stream",
     "text": [
      "Epoch 1860 - Train Loss: 0.3426, Train MSE: 0.3432, Train MAE: 0.3813\n",
      "Epoch 1860 - Validation Loss: 1.5512, Validation MSE: 1.5534, Validation MAE: 0.9244\n"
     ]
    },
    {
     "name": "stderr",
     "output_type": "stream",
     "text": [
      "Training Epoch 1862: 100%|██████████| 370/370 [00:01<00:00, 216.56it/s]\n",
      "Training Epoch 1863: 100%|██████████| 370/370 [00:01<00:00, 222.88it/s]\n",
      "Training Epoch 1864: 100%|██████████| 370/370 [00:01<00:00, 231.94it/s]\n",
      "Training Epoch 1865: 100%|██████████| 370/370 [00:01<00:00, 236.37it/s]\n",
      "Training Epoch 1866: 100%|██████████| 370/370 [00:01<00:00, 230.70it/s]\n",
      "Training Epoch 1867: 100%|██████████| 370/370 [00:01<00:00, 222.67it/s]\n",
      "Training Epoch 1868: 100%|██████████| 370/370 [00:01<00:00, 224.76it/s]\n",
      "Training Epoch 1869: 100%|██████████| 370/370 [00:01<00:00, 227.07it/s]\n",
      "Training Epoch 1870: 100%|██████████| 370/370 [00:01<00:00, 247.18it/s]\n",
      "Training Epoch 1871: 100%|██████████| 370/370 [00:01<00:00, 237.02it/s]\n"
     ]
    },
    {
     "name": "stdout",
     "output_type": "stream",
     "text": [
      "Epoch 1870 - Train Loss: 0.3326, Train MSE: 0.3327, Train MAE: 0.3741\n",
      "Epoch 1870 - Validation Loss: 1.5506, Validation MSE: 1.5526, Validation MAE: 0.9103\n"
     ]
    },
    {
     "name": "stderr",
     "output_type": "stream",
     "text": [
      "Training Epoch 1872: 100%|██████████| 370/370 [00:01<00:00, 231.73it/s]\n",
      "Training Epoch 1873: 100%|██████████| 370/370 [00:01<00:00, 220.05it/s]\n",
      "Training Epoch 1874: 100%|██████████| 370/370 [00:01<00:00, 219.33it/s]\n",
      "Training Epoch 1875: 100%|██████████| 370/370 [00:01<00:00, 230.53it/s]\n",
      "Training Epoch 1876: 100%|██████████| 370/370 [00:01<00:00, 236.77it/s]\n",
      "Training Epoch 1877: 100%|██████████| 370/370 [00:01<00:00, 238.70it/s]\n",
      "Training Epoch 1878: 100%|██████████| 370/370 [00:01<00:00, 217.74it/s]\n",
      "Training Epoch 1879: 100%|██████████| 370/370 [00:01<00:00, 219.91it/s]\n",
      "Training Epoch 1880: 100%|██████████| 370/370 [00:01<00:00, 222.34it/s]\n",
      "Training Epoch 1881: 100%|██████████| 370/370 [00:01<00:00, 239.08it/s]\n"
     ]
    },
    {
     "name": "stdout",
     "output_type": "stream",
     "text": [
      "Epoch 1880 - Train Loss: 0.3288, Train MSE: 0.3295, Train MAE: 0.3732\n",
      "Epoch 1880 - Validation Loss: 1.5587, Validation MSE: 1.5607, Validation MAE: 0.9225\n"
     ]
    },
    {
     "name": "stderr",
     "output_type": "stream",
     "text": [
      "Training Epoch 1882: 100%|██████████| 370/370 [00:01<00:00, 229.42it/s]\n",
      "Training Epoch 1883: 100%|██████████| 370/370 [00:01<00:00, 222.19it/s]\n",
      "Training Epoch 1884: 100%|██████████| 370/370 [00:01<00:00, 213.40it/s]\n",
      "Training Epoch 1885: 100%|██████████| 370/370 [00:01<00:00, 214.60it/s]\n",
      "Training Epoch 1886: 100%|██████████| 370/370 [00:01<00:00, 223.60it/s]\n",
      "Training Epoch 1887: 100%|██████████| 370/370 [00:01<00:00, 228.02it/s]\n",
      "Training Epoch 1888: 100%|██████████| 370/370 [00:01<00:00, 221.90it/s]\n",
      "Training Epoch 1889: 100%|██████████| 370/370 [00:01<00:00, 222.91it/s]\n",
      "Training Epoch 1890: 100%|██████████| 370/370 [00:01<00:00, 231.02it/s]\n",
      "Training Epoch 1891: 100%|██████████| 370/370 [00:01<00:00, 232.11it/s]\n"
     ]
    },
    {
     "name": "stdout",
     "output_type": "stream",
     "text": [
      "Epoch 1890 - Train Loss: 0.3391, Train MSE: 0.3390, Train MAE: 0.3781\n",
      "Epoch 1890 - Validation Loss: 1.5666, Validation MSE: 1.5687, Validation MAE: 0.9298\n"
     ]
    },
    {
     "name": "stderr",
     "output_type": "stream",
     "text": [
      "Training Epoch 1892: 100%|██████████| 370/370 [00:01<00:00, 223.84it/s]\n",
      "Training Epoch 1893: 100%|██████████| 370/370 [00:01<00:00, 217.34it/s]\n",
      "Training Epoch 1894: 100%|██████████| 370/370 [00:01<00:00, 215.95it/s]\n",
      "Training Epoch 1895: 100%|██████████| 370/370 [00:01<00:00, 225.33it/s]\n",
      "Training Epoch 1896: 100%|██████████| 370/370 [00:01<00:00, 227.08it/s]\n",
      "Training Epoch 1897: 100%|██████████| 370/370 [00:01<00:00, 223.25it/s]\n",
      "Training Epoch 1898: 100%|██████████| 370/370 [00:01<00:00, 216.45it/s]\n",
      "Training Epoch 1899: 100%|██████████| 370/370 [00:01<00:00, 216.23it/s]\n",
      "Training Epoch 1900: 100%|██████████| 370/370 [00:01<00:00, 224.16it/s]\n",
      "Training Epoch 1901: 100%|██████████| 370/370 [00:01<00:00, 224.92it/s]\n"
     ]
    },
    {
     "name": "stdout",
     "output_type": "stream",
     "text": [
      "Epoch 1900 - Train Loss: 0.3373, Train MSE: 0.3366, Train MAE: 0.3786\n",
      "Epoch 1900 - Validation Loss: 1.5624, Validation MSE: 1.5643, Validation MAE: 0.9271\n"
     ]
    },
    {
     "name": "stderr",
     "output_type": "stream",
     "text": [
      "Training Epoch 1902: 100%|██████████| 370/370 [00:01<00:00, 233.46it/s]\n",
      "Training Epoch 1903: 100%|██████████| 370/370 [00:01<00:00, 221.75it/s]\n",
      "Training Epoch 1904: 100%|██████████| 370/370 [00:01<00:00, 216.72it/s]\n",
      "Training Epoch 1905: 100%|██████████| 370/370 [00:01<00:00, 232.68it/s]\n",
      "Training Epoch 1906: 100%|██████████| 370/370 [00:01<00:00, 243.28it/s]\n",
      "Training Epoch 1907: 100%|██████████| 370/370 [00:01<00:00, 234.55it/s]\n",
      "Training Epoch 1908: 100%|██████████| 370/370 [00:01<00:00, 221.49it/s]\n",
      "Training Epoch 1909: 100%|██████████| 370/370 [00:01<00:00, 221.35it/s]\n",
      "Training Epoch 1910: 100%|██████████| 370/370 [00:01<00:00, 242.48it/s]\n",
      "Training Epoch 1911: 100%|██████████| 370/370 [00:01<00:00, 244.42it/s]\n"
     ]
    },
    {
     "name": "stdout",
     "output_type": "stream",
     "text": [
      "Epoch 1910 - Train Loss: 0.3348, Train MSE: 0.3351, Train MAE: 0.3739\n",
      "Epoch 1910 - Validation Loss: 1.5784, Validation MSE: 1.5805, Validation MAE: 0.9334\n"
     ]
    },
    {
     "name": "stderr",
     "output_type": "stream",
     "text": [
      "Training Epoch 1912: 100%|██████████| 370/370 [00:01<00:00, 238.18it/s]\n",
      "Training Epoch 1913: 100%|██████████| 370/370 [00:01<00:00, 223.06it/s]\n",
      "Training Epoch 1914: 100%|██████████| 370/370 [00:01<00:00, 219.19it/s]\n",
      "Training Epoch 1915: 100%|██████████| 370/370 [00:01<00:00, 231.13it/s]\n",
      "Training Epoch 1916: 100%|██████████| 370/370 [00:01<00:00, 246.68it/s]\n",
      "Training Epoch 1917: 100%|██████████| 370/370 [00:01<00:00, 239.68it/s]\n",
      "Training Epoch 1918: 100%|██████████| 370/370 [00:01<00:00, 239.51it/s]\n",
      "Training Epoch 1919: 100%|██████████| 370/370 [00:01<00:00, 225.81it/s]\n",
      "Training Epoch 1920: 100%|██████████| 370/370 [00:01<00:00, 219.96it/s]\n",
      "Training Epoch 1921: 100%|██████████| 370/370 [00:01<00:00, 234.04it/s]\n"
     ]
    },
    {
     "name": "stdout",
     "output_type": "stream",
     "text": [
      "Epoch 1920 - Train Loss: 0.3362, Train MSE: 0.3368, Train MAE: 0.3763\n",
      "Epoch 1920 - Validation Loss: 1.5831, Validation MSE: 1.5851, Validation MAE: 0.9345\n"
     ]
    },
    {
     "name": "stderr",
     "output_type": "stream",
     "text": [
      "Training Epoch 1922: 100%|██████████| 370/370 [00:01<00:00, 243.53it/s]\n",
      "Training Epoch 1923: 100%|██████████| 370/370 [00:01<00:00, 241.76it/s]\n",
      "Training Epoch 1924: 100%|██████████| 370/370 [00:01<00:00, 227.34it/s]\n",
      "Training Epoch 1925: 100%|██████████| 370/370 [00:01<00:00, 226.30it/s]\n",
      "Training Epoch 1926: 100%|██████████| 370/370 [00:01<00:00, 229.64it/s]\n",
      "Training Epoch 1927: 100%|██████████| 370/370 [00:01<00:00, 244.84it/s]\n",
      "Training Epoch 1928: 100%|██████████| 370/370 [00:01<00:00, 241.08it/s]\n",
      "Training Epoch 1929: 100%|██████████| 370/370 [00:01<00:00, 231.34it/s]\n",
      "Training Epoch 1930: 100%|██████████| 370/370 [00:01<00:00, 226.12it/s]\n",
      "Training Epoch 1931: 100%|██████████| 370/370 [00:01<00:00, 221.44it/s]\n"
     ]
    },
    {
     "name": "stdout",
     "output_type": "stream",
     "text": [
      "Epoch 1930 - Train Loss: 0.3267, Train MSE: 0.3270, Train MAE: 0.3684\n",
      "Epoch 1930 - Validation Loss: 1.5421, Validation MSE: 1.5441, Validation MAE: 0.9203\n"
     ]
    },
    {
     "name": "stderr",
     "output_type": "stream",
     "text": [
      "Training Epoch 1932: 100%|██████████| 370/370 [00:01<00:00, 237.82it/s]\n",
      "Training Epoch 1933: 100%|██████████| 370/370 [00:01<00:00, 240.63it/s]\n",
      "Training Epoch 1934: 100%|██████████| 370/370 [00:01<00:00, 241.89it/s]\n",
      "Training Epoch 1935: 100%|██████████| 370/370 [00:01<00:00, 223.72it/s]\n",
      "Training Epoch 1936: 100%|██████████| 370/370 [00:01<00:00, 226.14it/s]\n",
      "Training Epoch 1937: 100%|██████████| 370/370 [00:01<00:00, 225.25it/s]\n",
      "Training Epoch 1938: 100%|██████████| 370/370 [00:01<00:00, 233.48it/s]\n",
      "Training Epoch 1939: 100%|██████████| 370/370 [00:01<00:00, 221.29it/s]\n",
      "Training Epoch 1940: 100%|██████████| 370/370 [00:01<00:00, 216.75it/s]\n",
      "Training Epoch 1941: 100%|██████████| 370/370 [00:01<00:00, 216.14it/s]\n"
     ]
    },
    {
     "name": "stdout",
     "output_type": "stream",
     "text": [
      "Epoch 1940 - Train Loss: 0.3338, Train MSE: 0.3337, Train MAE: 0.3733\n",
      "Epoch 1940 - Validation Loss: 1.5239, Validation MSE: 1.5257, Validation MAE: 0.9162\n"
     ]
    },
    {
     "name": "stderr",
     "output_type": "stream",
     "text": [
      "Training Epoch 1942: 100%|██████████| 370/370 [00:01<00:00, 220.68it/s]\n",
      "Training Epoch 1943: 100%|██████████| 370/370 [00:01<00:00, 235.98it/s]\n",
      "Training Epoch 1944: 100%|██████████| 370/370 [00:01<00:00, 216.61it/s]\n",
      "Training Epoch 1945: 100%|██████████| 370/370 [00:01<00:00, 214.91it/s]\n",
      "Training Epoch 1946: 100%|██████████| 370/370 [00:01<00:00, 223.73it/s]\n",
      "Training Epoch 1947: 100%|██████████| 370/370 [00:01<00:00, 236.31it/s]\n",
      "Training Epoch 1948: 100%|██████████| 370/370 [00:01<00:00, 243.47it/s]\n",
      "Training Epoch 1949: 100%|██████████| 370/370 [00:01<00:00, 228.37it/s]\n",
      "Training Epoch 1950: 100%|██████████| 370/370 [00:01<00:00, 217.63it/s]\n",
      "Training Epoch 1951: 100%|██████████| 370/370 [00:01<00:00, 231.84it/s]\n"
     ]
    },
    {
     "name": "stdout",
     "output_type": "stream",
     "text": [
      "Epoch 1950 - Train Loss: 0.3293, Train MSE: 0.3297, Train MAE: 0.3724\n",
      "Epoch 1950 - Validation Loss: 1.5654, Validation MSE: 1.5677, Validation MAE: 0.9229\n"
     ]
    },
    {
     "name": "stderr",
     "output_type": "stream",
     "text": [
      "Training Epoch 1952: 100%|██████████| 370/370 [00:01<00:00, 238.80it/s]\n",
      "Training Epoch 1953: 100%|██████████| 370/370 [00:01<00:00, 239.36it/s]\n",
      "Training Epoch 1954: 100%|██████████| 370/370 [00:01<00:00, 233.64it/s]\n",
      "Training Epoch 1955: 100%|██████████| 370/370 [00:01<00:00, 202.61it/s]\n",
      "Training Epoch 1956: 100%|██████████| 370/370 [00:01<00:00, 225.09it/s]\n",
      "Training Epoch 1957: 100%|██████████| 370/370 [00:01<00:00, 237.27it/s]\n",
      "Training Epoch 1958: 100%|██████████| 370/370 [00:01<00:00, 235.76it/s]\n",
      "Training Epoch 1959: 100%|██████████| 370/370 [00:01<00:00, 216.67it/s]\n",
      "Training Epoch 1960: 100%|██████████| 370/370 [00:01<00:00, 218.00it/s]\n",
      "Training Epoch 1961: 100%|██████████| 370/370 [00:01<00:00, 237.99it/s]\n"
     ]
    },
    {
     "name": "stdout",
     "output_type": "stream",
     "text": [
      "Epoch 1960 - Train Loss: 0.3374, Train MSE: 0.3380, Train MAE: 0.3749\n",
      "Epoch 1960 - Validation Loss: 1.5563, Validation MSE: 1.5581, Validation MAE: 0.9249\n"
     ]
    },
    {
     "name": "stderr",
     "output_type": "stream",
     "text": [
      "Training Epoch 1962: 100%|██████████| 370/370 [00:01<00:00, 242.97it/s]\n",
      "Training Epoch 1963: 100%|██████████| 370/370 [00:01<00:00, 240.05it/s]\n",
      "Training Epoch 1964: 100%|██████████| 370/370 [00:01<00:00, 221.44it/s]\n",
      "Training Epoch 1965: 100%|██████████| 370/370 [00:01<00:00, 220.08it/s]\n",
      "Training Epoch 1966: 100%|██████████| 370/370 [00:01<00:00, 232.75it/s]\n",
      "Training Epoch 1967: 100%|██████████| 370/370 [00:01<00:00, 231.19it/s]\n",
      "Training Epoch 1968: 100%|██████████| 370/370 [00:01<00:00, 230.01it/s]\n",
      "Training Epoch 1969: 100%|██████████| 370/370 [00:01<00:00, 220.98it/s]\n",
      "Training Epoch 1970: 100%|██████████| 370/370 [00:01<00:00, 221.86it/s]\n",
      "Training Epoch 1971: 100%|██████████| 370/370 [00:01<00:00, 229.98it/s]\n"
     ]
    },
    {
     "name": "stdout",
     "output_type": "stream",
     "text": [
      "Epoch 1970 - Train Loss: 0.3276, Train MSE: 0.3273, Train MAE: 0.3714\n",
      "Epoch 1970 - Validation Loss: 1.5730, Validation MSE: 1.5750, Validation MAE: 0.9266\n"
     ]
    },
    {
     "name": "stderr",
     "output_type": "stream",
     "text": [
      "Training Epoch 1972: 100%|██████████| 370/370 [00:01<00:00, 243.62it/s]\n",
      "Training Epoch 1973: 100%|██████████| 370/370 [00:01<00:00, 239.23it/s]\n",
      "Training Epoch 1974: 100%|██████████| 370/370 [00:01<00:00, 236.29it/s]\n",
      "Training Epoch 1975: 100%|██████████| 370/370 [00:01<00:00, 222.38it/s]\n",
      "Training Epoch 1976: 100%|██████████| 370/370 [00:01<00:00, 215.58it/s]\n",
      "Training Epoch 1977: 100%|██████████| 370/370 [00:01<00:00, 225.02it/s]\n",
      "Training Epoch 1978: 100%|██████████| 370/370 [00:01<00:00, 243.10it/s]\n",
      "Training Epoch 1979: 100%|██████████| 370/370 [00:01<00:00, 227.12it/s]\n",
      "Training Epoch 1980: 100%|██████████| 370/370 [00:01<00:00, 224.61it/s]\n",
      "Training Epoch 1981: 100%|██████████| 370/370 [00:01<00:00, 221.85it/s]\n"
     ]
    },
    {
     "name": "stdout",
     "output_type": "stream",
     "text": [
      "Epoch 1980 - Train Loss: 0.3261, Train MSE: 0.3256, Train MAE: 0.3711\n",
      "Epoch 1980 - Validation Loss: 1.6110, Validation MSE: 1.6130, Validation MAE: 0.9295\n"
     ]
    },
    {
     "name": "stderr",
     "output_type": "stream",
     "text": [
      "Training Epoch 1982: 100%|██████████| 370/370 [00:01<00:00, 235.32it/s]\n",
      "Training Epoch 1983: 100%|██████████| 370/370 [00:01<00:00, 235.97it/s]\n",
      "Training Epoch 1984: 100%|██████████| 370/370 [00:01<00:00, 237.00it/s]\n",
      "Training Epoch 1985: 100%|██████████| 370/370 [00:01<00:00, 221.47it/s]\n",
      "Training Epoch 1986: 100%|██████████| 370/370 [00:01<00:00, 224.20it/s]\n",
      "Training Epoch 1987: 100%|██████████| 370/370 [00:01<00:00, 223.07it/s]\n",
      "Training Epoch 1988: 100%|██████████| 370/370 [00:01<00:00, 240.96it/s]\n",
      "Training Epoch 1989: 100%|██████████| 370/370 [00:01<00:00, 240.55it/s]\n",
      "Training Epoch 1990: 100%|██████████| 370/370 [00:01<00:00, 206.01it/s]\n",
      "Training Epoch 1991: 100%|██████████| 370/370 [00:01<00:00, 224.69it/s]\n"
     ]
    },
    {
     "name": "stdout",
     "output_type": "stream",
     "text": [
      "Epoch 1990 - Train Loss: 0.3368, Train MSE: 0.3374, Train MAE: 0.3736\n",
      "Epoch 1990 - Validation Loss: 1.5788, Validation MSE: 1.5813, Validation MAE: 0.9292\n"
     ]
    },
    {
     "name": "stderr",
     "output_type": "stream",
     "text": [
      "Training Epoch 1992: 100%|██████████| 370/370 [00:01<00:00, 225.46it/s]\n",
      "Training Epoch 1993: 100%|██████████| 370/370 [00:01<00:00, 223.77it/s]\n",
      "Training Epoch 1994: 100%|██████████| 370/370 [00:01<00:00, 220.61it/s]\n",
      "Training Epoch 1995: 100%|██████████| 370/370 [00:01<00:00, 222.99it/s]\n",
      "Training Epoch 1996: 100%|██████████| 370/370 [00:01<00:00, 220.57it/s]\n",
      "Training Epoch 1997: 100%|██████████| 370/370 [00:01<00:00, 215.21it/s]\n",
      "Training Epoch 1998: 100%|██████████| 370/370 [00:01<00:00, 223.00it/s]\n",
      "Training Epoch 1999: 100%|██████████| 370/370 [00:01<00:00, 227.68it/s]\n",
      "Training Epoch 2000: 100%|██████████| 370/370 [00:01<00:00, 220.45it/s]\n"
     ]
    },
    {
     "name": "stdout",
     "output_type": "stream",
     "text": [
      "Test MSE: 1.6422, Test MAE: 0.9399\n"
     ]
    }
   ],
   "source": [
    "train_history_2 = pd.DataFrame(columns=[ 'epoch',\n",
    "    'Train Loss', 'Train MSE', 'Train MAE', 'Train RMSE', 'Train R2', 'Train Pearson', 'Train Median_AE', 'Train Explained_VAR'\n",
    "    'Val Loss', 'Val MSE', 'Val MAE', 'Val RMSE', 'Val R2', 'Val Pearson', 'Val Median_AE', 'Val Explained_VAR'])\n",
    "# Verify feature dimensions\n",
    "for batch in train_loader_mols:\n",
    "    mol_input_dim = batch['metabolite_features'].shape[1]  # Dynamically determine mol input dimension\n",
    "    protein_input_dim = batch['protein_features'].shape[1]  # Dynamically determine protein input dimension\n",
    "    break\n",
    "\n",
    "# Initialize model, optimizer, and loss function\n",
    "model_2 = MLPRegressor(mol_input_dim=mol_input_dim, protein_input_dim=protein_input_dim)\n",
    "model_2 = model_2.to(device)\n",
    "optimizer_2 = optim.Adam(model_2.parameters(), lr=0.0001)\n",
    "criterion = nn.MSELoss()\n",
    "\n",
    "# Training and Validation Loop\n",
    "for epoch in range(2000):\n",
    "    model_2.train()\n",
    "    total_loss = 0.0\n",
    "    val_total_loss = 0.0\n",
    "    train_predictions, train_labels = [], []\n",
    "\n",
    "    for batch in tqdm(train_loader_mols, desc=f\"Training Epoch {epoch + 1}\"):\n",
    "        mol_features = batch['metabolite_features'].to(device)\n",
    "        protein_features = batch['protein_features'].to(device)\n",
    "        labels = batch['label'].to(device)\n",
    "\n",
    "        optimizer_2.zero_grad()\n",
    "        outputs = model_2(mol_features, protein_features)\n",
    "        loss = criterion(outputs, labels)\n",
    "        loss.backward()\n",
    "        optimizer_2.step()\n",
    "        total_loss += loss.item()\n",
    "\n",
    "        # Store predictions and labels for metrics\n",
    "        train_predictions.extend(outputs.detach().cpu().numpy())\n",
    "        train_labels.extend(labels.cpu().numpy())\n",
    "\n",
    "    # Calculate training metrics\n",
    "    train_mse = ((torch.tensor(train_predictions) - torch.tensor(train_labels))**2).mean().item()\n",
    "    train_mae = torch.abs(torch.tensor(train_predictions) - torch.tensor(train_labels)).mean().item()\n",
    "    train_rmse = torch.sqrt((torch.tensor(train_predictions) - torch.tensor(train_labels)) ** 2).mean().item()\n",
    "    train_r2 = r2_score(np.array(train_labels), np.array(train_predictions))\n",
    "    train_pearson_corr, _ = pearsonr(np.array(train_labels), np.array(train_predictions))\n",
    "    train_median_ae = median_absolute_error(np.array(train_labels), np.array(train_predictions))\n",
    "    train_explained_var = explained_variance_score(np.array(train_labels), np.array(train_predictions))\n",
    "\n",
    "\n",
    "\n",
    "    if epoch % 10 == 0:\n",
    "        print(f\"Epoch {epoch} - Train Loss: {total_loss / len(train_loader_mols):.4f}, Train MSE: {train_mse:.4f}, Train MAE: {train_mae:.4f}\")\n",
    "\n",
    "    # Validation\n",
    "    model_2.eval()\n",
    "    val_predictions, val_labels = [], []\n",
    "    with torch.no_grad():\n",
    "        for batch in val_loader_mols:\n",
    "            mol_features = batch['metabolite_features'].to(device)\n",
    "            protein_features = batch['protein_features'].to(device)\n",
    "            labels = batch['label'].to(device)\n",
    "\n",
    "            outputs = model_2(mol_features, protein_features)\n",
    "            val_predictions.extend(outputs.cpu().numpy())\n",
    "            val_labels.extend(labels.cpu().numpy())\n",
    "            val_loss = criterion(outputs, labels)\n",
    "            val_total_loss += val_loss.item()\n",
    "\n",
    "    val_mse = ((torch.tensor(val_predictions) - torch.tensor(val_labels))**2).mean().item()\n",
    "    val_mae = torch.abs(torch.tensor(val_predictions) - torch.tensor(val_labels)).mean().item()\n",
    "    val_rmse = torch.sqrt((torch.tensor(val_predictions) - torch.tensor(val_labels)) ** 2).mean().item()\n",
    "    val_r2 = r2_score(np.array(val_labels), np.array(val_predictions))\n",
    "    val_pearson_corr, _ = pearsonr(np.array(val_labels), np.array(val_predictions))\n",
    "    val_median_ae = median_absolute_error(np.array(val_labels), np.array(val_predictions))\n",
    "    val_explained_var = explained_variance_score(np.array(val_labels), np.array(val_predictions))\n",
    "\n",
    "    if epoch % 10 == 0:\n",
    "        print(f\"Epoch {epoch} - Validation Loss: {val_total_loss / len(val_loader_mols):.4f}, Validation MSE: {val_mse:.4f}, Validation MAE: {val_mae:.4f}\")\n",
    "\n",
    "    # Save metrics to DataFrame\n",
    "    new_row = {'epoch': epoch + 1, 'Train Loss': total_loss / len(train_loader_mols), 'Train MSE': train_mse, 'Train MAE': train_mae, 'Train RMSE': train_rmse, 'Train R2': train_r2, 'Train Pearson': train_pearson_corr, 'Train Median_AE': train_median_ae, 'Train Explained_VAR': train_explained_var, \n",
    "               'Val Loss': val_total_loss / len(val_loader_mols), 'Val MSE': val_mse, 'Val MAE': val_mae, 'Val RMSE': val_rmse, 'Val R2': val_r2, 'Val Pearson': val_pearson_corr, 'Val Median_AE': val_median_ae, 'Val Explained_VAR': val_explained_var}\n",
    "    train_history_2 = pd.concat([train_history_2, pd.DataFrame([new_row])], ignore_index=True)\n",
    "\n",
    "\n"
   ]
  },
  {
   "cell_type": "code",
   "execution_count": 23,
   "metadata": {},
   "outputs": [],
   "source": [
    "for batch in train_loader_mols:\n",
    "    mol_input_dim = batch['metabolite_features'].shape[1]  # Dynamically determine mol input dimension\n",
    "    protein_input_dim = batch['protein_features'].shape[1]  # Dynamically determine protein input dimension\n",
    "    break\n",
    "\n",
    "model = MLPRegressor(mol_input_dim=mol_input_dim, protein_input_dim=protein_input_dim, hidden_dim=512)\n",
    "model.load_state_dict(torch.load('/Users/pinchichen/2025S lab/AI drug project/code/trained_model/cold_mols/MLP model_cold_mols.pt'))\n",
    "model = model.to(device)"
   ]
  },
  {
   "cell_type": "code",
   "execution_count": 24,
   "metadata": {},
   "outputs": [
    {
     "name": "stdout",
     "output_type": "stream",
     "text": [
      "Test MSE: 1.6422, Test MAE: 0.9399\n"
     ]
    }
   ],
   "source": [
    "# Test Metrics\n",
    "model.eval()\n",
    "test_predictions, test_labels = [], []\n",
    "with torch.no_grad():\n",
    "    for batch in test_loader_mols:\n",
    "        mol_features = batch['metabolite_features'].to(device)\n",
    "        protein_features = batch['protein_features'].to(device)\n",
    "        labels = batch['label'].to(device)\n",
    "\n",
    "        outputs = model(mol_features, protein_features)\n",
    "        test_predictions.extend(outputs.cpu().numpy())\n",
    "        test_labels.extend(labels.cpu().numpy())\n",
    "\n",
    "test_mse = ((torch.tensor(test_predictions) - torch.tensor(test_labels))**2).mean().item()\n",
    "test_mae = torch.abs(torch.tensor(test_predictions) - torch.tensor(test_labels)).mean().item()\n",
    "test_rmse = torch.sqrt((torch.tensor(test_predictions) - torch.tensor(test_labels)) ** 2).mean().item()\n",
    "test_r2 = r2_score(np.array(test_labels), np.array(test_predictions))\n",
    "test_pearson_corr, _ = pearsonr(np.array(test_labels), np.array(test_predictions))\n",
    "test_median_ae = median_absolute_error(np.array(test_labels), np.array(test_predictions))\n",
    "test_explained_var = explained_variance_score(np.array(test_labels), np.array(test_predictions))\n",
    "\n",
    "print(f\"Test MSE: {test_mse:.4f}, Test MAE: {test_mae:.4f}\")"
   ]
  },
  {
   "cell_type": "code",
   "execution_count": 25,
   "metadata": {},
   "outputs": [],
   "source": [
    "model.eval()\n",
    "train_pred, train_labels = [], []\n",
    "with torch.no_grad():\n",
    "    for batch in train_loader_mols:\n",
    "        mol_features = batch['metabolite_features'].to(device)\n",
    "        protein_features = batch['protein_features'].to(device)\n",
    "        labels = batch['label'].to(device)\n",
    "\n",
    "        outputs = model(mol_features, protein_features)\n",
    "        train_pred.extend(outputs.cpu().numpy())\n",
    "        train_labels.extend(labels.cpu().numpy())\n",
    "\n",
    "train_mse, train_rmse, train_mae, train_r2, train_pearson_corr, train_median_ae, train_explained_var = evaluate_model(train_pred, train_labels)"
   ]
  },
  {
   "cell_type": "code",
   "execution_count": 26,
   "metadata": {},
   "outputs": [],
   "source": [
    "model.eval()\n",
    "val_pred, val_labels = [], []\n",
    "with torch.no_grad():\n",
    "    for batch in val_loader_mols:\n",
    "        mol_features = batch['metabolite_features'].to(device)\n",
    "        protein_features = batch['protein_features'].to(device)\n",
    "        labels = batch['label'].to(device)\n",
    "\n",
    "        outputs = model(mol_features, protein_features)\n",
    "        val_pred.extend(outputs.cpu().numpy())\n",
    "        val_labels.extend(labels.cpu().numpy())\n",
    "\n",
    "val_mse, val_rmse, val_mae, val_r2, val_pearson_corr, val_median_ae, val_explained_var = evaluate_model(val_pred, val_labels)\n"
   ]
  },
  {
   "cell_type": "code",
   "execution_count": 27,
   "metadata": {},
   "outputs": [],
   "source": [
    "# append the performance to the csv file\n",
    "df = {\n",
    "    'Model':['MLP','MLP','MLP'],\n",
    "    'Dataset':['Train','Validation','Test'],\n",
    "    'MSE':[train_mse,val_mse,test_mse],\n",
    "    'RMSE':[train_rmse,val_rmse,test_rmse],\n",
    "    'MAE':[train_mae,val_mae,test_mae],\n",
    "    'R2':[train_r2,val_r2,test_r2],\n",
    "    'Pearson':[train_pearson_corr,val_pearson_corr,test_pearson_corr],\n",
    "    'Median_AE':[train_median_ae,val_median_ae,test_median_ae],\n",
    "    'Explained_VAR':[train_explained_var,val_explained_var,test_explained_var],\n",
    "    'Dataspliting Mode':['cold mols','cold mols','cold mols']\n",
    "}\n",
    "df = pd.DataFrame(df)\n",
    "\n",
    "df.to_csv('/Users/pinchichen/2025S lab/AI drug project/code/model performance metrics.csv', mode='a', header=False)"
   ]
  },
  {
   "cell_type": "code",
   "execution_count": 20,
   "metadata": {},
   "outputs": [],
   "source": [
    "# Save the model and training history\n",
    "save_dir = '/Users/pinchichen/2025S lab/AI drug project/code/trained_model/cold_mols'\n",
    "# save model weights and optimizer state\n",
    "torch.save(model_2.state_dict(), os.path.join(save_dir, 'MLP model_cold_mols.pt'))\n",
    "torch.save(optimizer_2.state_dict(), os.path.join(save_dir, 'MLP optimizer_cold_mols.pt'))"
   ]
  }
 ],
 "metadata": {
  "kernelspec": {
   "display_name": "base",
   "language": "python",
   "name": "python3"
  },
  "language_info": {
   "codemirror_mode": {
    "name": "ipython",
    "version": 3
   },
   "file_extension": ".py",
   "mimetype": "text/x-python",
   "name": "python",
   "nbconvert_exporter": "python",
   "pygments_lexer": "ipython3",
   "version": "3.12.2"
  }
 },
 "nbformat": 4,
 "nbformat_minor": 2
}
