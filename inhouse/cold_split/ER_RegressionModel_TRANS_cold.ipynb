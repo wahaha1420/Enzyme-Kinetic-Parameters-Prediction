{
 "cells": [
  {
   "cell_type": "code",
   "execution_count": 1,
   "metadata": {},
   "outputs": [],
   "source": [
    "import pandas as pd\n",
    "import numpy as np\n",
    "from tqdm import tqdm\n",
    "import torch\n",
    "import torch.nn as nn\n",
    "import torch.optim as optim\n",
    "from torch.utils.data import DataLoader, Dataset\n",
    "from sklearn.metrics import roc_auc_score\n",
    "from sklearn.model_selection import train_test_split\n",
    "import os\n"
   ]
  },
  {
   "cell_type": "code",
   "execution_count": 2,
   "metadata": {},
   "outputs": [
    {
     "data": {
      "text/html": [
       "<div>\n",
       "<style scoped>\n",
       "    .dataframe tbody tr th:only-of-type {\n",
       "        vertical-align: middle;\n",
       "    }\n",
       "\n",
       "    .dataframe tbody tr th {\n",
       "        vertical-align: top;\n",
       "    }\n",
       "\n",
       "    .dataframe thead th {\n",
       "        text-align: right;\n",
       "    }\n",
       "</style>\n",
       "<table border=\"1\" class=\"dataframe\">\n",
       "  <thead>\n",
       "    <tr style=\"text-align: right;\">\n",
       "      <th></th>\n",
       "      <th>ECNumber</th>\n",
       "      <th>Organism</th>\n",
       "      <th>Smiles</th>\n",
       "      <th>Substrate</th>\n",
       "      <th>Sequence</th>\n",
       "      <th>Raw Kd</th>\n",
       "      <th>Unit</th>\n",
       "      <th>Log Kd</th>\n",
       "    </tr>\n",
       "  </thead>\n",
       "  <tbody>\n",
       "    <tr>\n",
       "      <th>0</th>\n",
       "      <td>4.2.3.4</td>\n",
       "      <td>Actinidia chinensis</td>\n",
       "      <td>C(C(C(C(COP(=O)(O)O)O)O)O)C(=O)C(=O)O</td>\n",
       "      <td>3-deoxy-D-arabino-heptulosonic acid 7-phosphate</td>\n",
       "      <td>MAAFSLSAKQILSPSTHRPSLSKTTTADSSLRFRNPHSLSLRCSSL...</td>\n",
       "      <td>20.1000</td>\n",
       "      <td>s^(-1)</td>\n",
       "      <td>1.303196</td>\n",
       "    </tr>\n",
       "    <tr>\n",
       "      <th>1</th>\n",
       "      <td>4.2.3.4</td>\n",
       "      <td>Aspergillus nidulans</td>\n",
       "      <td>C(C(C(C(COP(=O)([O-])[O-])O)O)O)C(=O)C(=O)[O-]</td>\n",
       "      <td>3-deoxy-D-arabino-heptulosonate 7-phosphate</td>\n",
       "      <td>MSNPTKISILGRESIIADFGLWRNYVAKDLISDCSSTTYVLVTDTN...</td>\n",
       "      <td>6.8000</td>\n",
       "      <td>s^(-1)</td>\n",
       "      <td>0.832509</td>\n",
       "    </tr>\n",
       "    <tr>\n",
       "      <th>2</th>\n",
       "      <td>4.2.3.4</td>\n",
       "      <td>Neurospora crassa</td>\n",
       "      <td>C(C(C(C(COP(=O)(O)O)O)O)O)C(=O)C(=O)O</td>\n",
       "      <td>3-deoxy-D-arabino-heptulosonic acid 7-phosphate</td>\n",
       "      <td>MAEPISNPTRINILGKDNIIIDHGIWLNFVAQDLLQNIKSSTYILI...</td>\n",
       "      <td>19.0000</td>\n",
       "      <td>s^(-1)</td>\n",
       "      <td>1.278754</td>\n",
       "    </tr>\n",
       "    <tr>\n",
       "      <th>3</th>\n",
       "      <td>2.1.1.255</td>\n",
       "      <td>Streptomyces coelicolor</td>\n",
       "      <td>C[S+](CCC(C(=O)[O-])N)CC1C(C(C(O1)N2C=NC3=C(N=...</td>\n",
       "      <td>S-Adenosyl-L-methionine</td>\n",
       "      <td>MTTETTTATATAKIPAPATPYQEDIARYWNNEARPVNLRLGDVDGL...</td>\n",
       "      <td>0.0075</td>\n",
       "      <td>s^(-1)</td>\n",
       "      <td>-2.124939</td>\n",
       "    </tr>\n",
       "    <tr>\n",
       "      <th>4</th>\n",
       "      <td>2.1.1.255</td>\n",
       "      <td>Streptomyces coelicolor</td>\n",
       "      <td>CC(=CCCC(=C(C)COP(=O)(O)OP(=O)(O)O)C)C</td>\n",
       "      <td>(E)-2-Methylgeranyl diphosphate</td>\n",
       "      <td>MTTETTTATATAKIPAPATPYQEDIARYWNNEARPVNLRLGDVDGL...</td>\n",
       "      <td>0.0390</td>\n",
       "      <td>s^(-1)</td>\n",
       "      <td>-1.408935</td>\n",
       "    </tr>\n",
       "  </tbody>\n",
       "</table>\n",
       "</div>"
      ],
      "text/plain": [
       "    ECNumber                 Organism  \\\n",
       "0    4.2.3.4      Actinidia chinensis   \n",
       "1    4.2.3.4     Aspergillus nidulans   \n",
       "2    4.2.3.4        Neurospora crassa   \n",
       "3  2.1.1.255  Streptomyces coelicolor   \n",
       "4  2.1.1.255  Streptomyces coelicolor   \n",
       "\n",
       "                                              Smiles  \\\n",
       "0              C(C(C(C(COP(=O)(O)O)O)O)O)C(=O)C(=O)O   \n",
       "1     C(C(C(C(COP(=O)([O-])[O-])O)O)O)C(=O)C(=O)[O-]   \n",
       "2              C(C(C(C(COP(=O)(O)O)O)O)O)C(=O)C(=O)O   \n",
       "3  C[S+](CCC(C(=O)[O-])N)CC1C(C(C(O1)N2C=NC3=C(N=...   \n",
       "4             CC(=CCCC(=C(C)COP(=O)(O)OP(=O)(O)O)C)C   \n",
       "\n",
       "                                         Substrate  \\\n",
       "0  3-deoxy-D-arabino-heptulosonic acid 7-phosphate   \n",
       "1      3-deoxy-D-arabino-heptulosonate 7-phosphate   \n",
       "2  3-deoxy-D-arabino-heptulosonic acid 7-phosphate   \n",
       "3                          S-Adenosyl-L-methionine   \n",
       "4                  (E)-2-Methylgeranyl diphosphate   \n",
       "\n",
       "                                            Sequence   Raw Kd    Unit  \\\n",
       "0  MAAFSLSAKQILSPSTHRPSLSKTTTADSSLRFRNPHSLSLRCSSL...  20.1000  s^(-1)   \n",
       "1  MSNPTKISILGRESIIADFGLWRNYVAKDLISDCSSTTYVLVTDTN...   6.8000  s^(-1)   \n",
       "2  MAEPISNPTRINILGKDNIIIDHGIWLNFVAQDLLQNIKSSTYILI...  19.0000  s^(-1)   \n",
       "3  MTTETTTATATAKIPAPATPYQEDIARYWNNEARPVNLRLGDVDGL...   0.0075  s^(-1)   \n",
       "4  MTTETTTATATAKIPAPATPYQEDIARYWNNEARPVNLRLGDVDGL...   0.0390  s^(-1)   \n",
       "\n",
       "     Log Kd  \n",
       "0  1.303196  \n",
       "1  0.832509  \n",
       "2  1.278754  \n",
       "3 -2.124939  \n",
       "4 -1.408935  "
      ]
     },
     "execution_count": 2,
     "metadata": {},
     "output_type": "execute_result"
    }
   ],
   "source": [
    "data = torch.load('/Users/pinchichen/2025S lab/AI drug project/code/TrainingDataset/Kcat_Enzymatic_reaction.pt',weights_only=False)\n",
    "data.head()"
   ]
  },
  {
   "cell_type": "code",
   "execution_count": 3,
   "metadata": {},
   "outputs": [
    {
     "name": "stderr",
     "output_type": "stream",
     "text": [
      "Some weights of EsmModel were not initialized from the model checkpoint at facebook/esm2_t6_8M_UR50D and are newly initialized: ['pooler.dense.bias', 'pooler.dense.weight']\n",
      "You should probably TRAIN this model on a down-stream task to be able to use it for predictions and inference.\n"
     ]
    }
   ],
   "source": [
    "from transformers import AutoTokenizer, AutoModel\n",
    "import torch\n",
    "\n",
    "# Load ChemRoBERTa tokenizer and model\n",
    "chem_tokenizer = AutoTokenizer.from_pretrained(\"seyonec/ChemBERTa-zinc-base-v1\")\n",
    "chem_model = AutoModel.from_pretrained(\"seyonec/ChemBERTa-zinc-base-v1\")\n",
    "\n",
    "# Load ESM2 tokenizer and model\n",
    "esm_tokenizer = AutoTokenizer.from_pretrained(\"facebook/esm2_t6_8M_UR50D\")\n",
    "esm_model = AutoModel.from_pretrained(\"facebook/esm2_t6_8M_UR50D\")"
   ]
  },
  {
   "cell_type": "code",
   "execution_count": 4,
   "metadata": {},
   "outputs": [],
   "source": [
    "def extract_chem_features(smiles):\n",
    "    \"\"\"Extract ChemRoBERTa features from SMILES.\"\"\"\n",
    "    try:\n",
    "        tokens = chem_tokenizer(smiles, return_tensors=\"pt\", padding=True, truncation=True)\n",
    "        with torch.no_grad():\n",
    "            embeddings = chem_model(**tokens).last_hidden_state.mean(dim=1).squeeze().numpy()\n",
    "        return embeddings\n",
    "    except:\n",
    "        return np.zeros(768)  # Return zero vector if extraction fails\n",
    "\n",
    "def extract_esm_features(sequence):\n",
    "    \"\"\"Extract ESM2 features from protein sequence.\"\"\"\n",
    "    try:\n",
    "        tokens = esm_tokenizer(sequence, return_tensors=\"pt\", padding=True, truncation=True)\n",
    "        with torch.no_grad():\n",
    "            embeddings = esm_model(**tokens).last_hidden_state.mean(dim=1).squeeze().numpy()\n",
    "        return embeddings\n",
    "    except:\n",
    "        return np.zeros(768)  # Return zero vector if extraction fails"
   ]
  },
  {
   "cell_type": "code",
   "execution_count": 5,
   "metadata": {},
   "outputs": [],
   "source": [
    "# Extract unique mols and proteins\n",
    "unique_mols = data[['Smiles']].drop_duplicates()\n",
    "unique_proteins = data[['Sequence']].drop_duplicates()"
   ]
  },
  {
   "cell_type": "code",
   "execution_count": 6,
   "metadata": {},
   "outputs": [
    {
     "data": {
      "text/plain": [
       "(2706, 7857)"
      ]
     },
     "execution_count": 6,
     "metadata": {},
     "output_type": "execute_result"
    }
   ],
   "source": [
    "len(unique_mols), len(unique_proteins)"
   ]
  },
  {
   "cell_type": "code",
   "execution_count": 7,
   "metadata": {},
   "outputs": [
    {
     "name": "stderr",
     "output_type": "stream",
     "text": [
      "100%|██████████| 2706/2706 [00:55<00:00, 48.87it/s]\n"
     ]
    }
   ],
   "source": [
    "# Extract features for unique mols\n",
    "tqdm.pandas()  # Enable progress bar for pandas\n",
    "unique_mols['metabolite_features'] = unique_mols['Smiles'].progress_apply(extract_chem_features)"
   ]
  },
  {
   "cell_type": "code",
   "execution_count": 8,
   "metadata": {},
   "outputs": [
    {
     "name": "stderr",
     "output_type": "stream",
     "text": [
      "  0%|          | 0/7857 [00:00<?, ?it/s]Asking to truncate to max_length but no maximum length is provided and the model has no predefined maximum length. Default to no truncation.\n",
      "100%|██████████| 7857/7857 [08:18<00:00, 15.75it/s]  \n"
     ]
    }
   ],
   "source": [
    "# Extract features for unique proteins\n",
    "unique_proteins['protein_features'] = unique_proteins['Sequence'].progress_apply(extract_esm_features)"
   ]
  },
  {
   "cell_type": "code",
   "execution_count": 9,
   "metadata": {},
   "outputs": [],
   "source": [
    "# Merge features back into the combined dataframe\n",
    "data = data.merge(unique_mols, on='Smiles', how='left')\n",
    "data = data.merge(unique_proteins, on='Sequence', how='left')"
   ]
  },
  {
   "cell_type": "code",
   "execution_count": 10,
   "metadata": {},
   "outputs": [
    {
     "name": "stdout",
     "output_type": "stream",
     "text": [
      "Index(['ECNumber', 'Organism', 'Smiles', 'Substrate', 'Sequence', 'Raw Kd',\n",
      "       'Unit', 'Log Kd', 'metabolite_features', 'protein_features'],\n",
      "      dtype='object')\n"
     ]
    }
   ],
   "source": [
    "print(data.columns)"
   ]
  },
  {
   "cell_type": "code",
   "execution_count": 11,
   "metadata": {},
   "outputs": [],
   "source": [
    "# adding 1e-9 to prevent error when doing logarithm\n",
    "# ??????\n",
    "data['label'] = -np.log10(data['Raw Kd'] + 1e-9)"
   ]
  },
  {
   "cell_type": "code",
   "execution_count": 12,
   "metadata": {},
   "outputs": [],
   "source": [
    "# Define dataset\n",
    "class MPI_Dataset(Dataset):\n",
    "    def __init__(self, dataframe):\n",
    "        self.dataframe = dataframe\n",
    "\n",
    "    def __len__(self):\n",
    "        return len(self.dataframe)\n",
    "\n",
    "    def __getitem__(self, idx):\n",
    "        row = self.dataframe.iloc[idx]\n",
    "        return {\n",
    "            'metabolite_features': torch.tensor(np.asarray(row['metabolite_features'], dtype=np.float32)),\n",
    "            'protein_features': torch.tensor(np.asarray(row['protein_features'], dtype=np.float32)),\n",
    "            'label': torch.tensor(float(row['label']), dtype=torch.float32),\n",
    "        }"
   ]
  },
  {
   "cell_type": "code",
   "execution_count": 13,
   "metadata": {},
   "outputs": [],
   "source": [
    "# Separate the dataset by unique proteins and drugs\n",
    "unique_proteins = data['Sequence'].unique()\n",
    "unique_mols = data['Smiles'].unique()\n",
    "# Set the seed for reproducibility\n",
    "torch.manual_seed(42)\n",
    "# Function to perform a cold split\n",
    "def cold_split(unique_items, test_size=0.2, val_size=0.1):\n",
    "    train_items, test_items = train_test_split(unique_items, test_size=test_size, random_state=42)\n",
    "    train_items, val_items = train_test_split(train_items, test_size=val_size / (1 - test_size), random_state=42)\n",
    "    return train_items, val_items, test_items\n",
    "# Cold split by proteins\n",
    "train_proteins, val_proteins, test_proteins = cold_split(unique_proteins)\n",
    "train_cold_protein = data[data['Sequence'].isin(train_proteins)]\n",
    "val_cold_protein = data[data['Sequence'].isin(val_proteins)]\n",
    "test_cold_protein = data[data['Sequence'].isin(test_proteins)]\n",
    "# Cold split by molecules\n",
    "train_mols, val_mols, test_mols = cold_split(unique_mols)\n",
    "train_cold_mols = data[data['Smiles'].isin(train_mols)]\n",
    "val_cold_mols = data[data['Smiles'].isin(val_mols)]\n",
    "test_cold_mols = data[data['Smiles'].isin(test_mols)]"
   ]
  },
  {
   "cell_type": "code",
   "execution_count": 14,
   "metadata": {},
   "outputs": [],
   "source": [
    "# cold protein\n",
    "train_dataset = MPI_Dataset(train_cold_protein)\n",
    "val_dataset = MPI_Dataset(val_cold_protein)\n",
    "test_dataset = MPI_Dataset(test_cold_protein)\n",
    "\n",
    "train_loader = DataLoader(train_dataset, batch_size=32, shuffle=True)\n",
    "val_loader = DataLoader(val_dataset, batch_size=32)\n",
    "test_loader = DataLoader(test_dataset, batch_size=32)\n",
    "\n",
    "# cold mols\n",
    "train_dataset_mols = MPI_Dataset(train_cold_mols)\n",
    "val_dataset_mols = MPI_Dataset(val_cold_mols)\n",
    "test_dataset_mols = MPI_Dataset(test_cold_mols)\n",
    "\n",
    "train_loader_mols = DataLoader(train_dataset_mols, batch_size=32, shuffle=True)\n",
    "val_loader_mols = DataLoader(val_dataset_mols, batch_size=32)\n",
    "test_loader_mols = DataLoader(test_dataset_mols, batch_size=32)"
   ]
  },
  {
   "cell_type": "code",
   "execution_count": 15,
   "metadata": {},
   "outputs": [],
   "source": [
    "import torch.nn as nn\n",
    "import torch\n",
    "import torch.nn.functional as F\n",
    "\n",
    "# Define Transformer for Regression\n",
    "# https://www.datacamp.com/tutorial/building-a-transformer-with-py-torch\n",
    "class TransformerRegressor(nn.Module):\n",
    "    def __init__(self, mol_input_dim, protein_input_dim, d_model=128, nhead=4, num_layers=2, dropout=0.1):\n",
    "        super().__init__()\n",
    "\n",
    "        # Linear projection to embedding space\n",
    "        self.mol_proj = nn.Linear(mol_input_dim, d_model)\n",
    "        self.protein_proj = nn.Linear(protein_input_dim, d_model)\n",
    "\n",
    "        # Positional encoding (learnable)\n",
    "        self.pos_embedding = nn.Parameter(torch.randn(2, d_model))  # 2 positions: [mol, protein]\n",
    "\n",
    "        # Transformer encoder\n",
    "        encoder_layer = nn.TransformerEncoderLayer(d_model=d_model, nhead=nhead, dropout=dropout, batch_first=True)\n",
    "        self.transformer = nn.TransformerEncoder(encoder_layer, num_layers=num_layers)\n",
    "\n",
    "        # Regression head\n",
    "        self.regressor = nn.Sequential(\n",
    "            nn.Linear(d_model * 2, d_model),\n",
    "            nn.ReLU(),\n",
    "            nn.Dropout(dropout),\n",
    "            nn.Linear(d_model, 1)\n",
    "        )\n",
    "\n",
    "    def forward(self, mol_input, protein_input):\n",
    "        # Project input to embedding space\n",
    "        mol_embed = self.mol_proj(mol_input).unsqueeze(1)       # shape: (B, 1, d_model)\n",
    "        protein_embed = self.protein_proj(protein_input).unsqueeze(1)  # shape: (B, 1, d_model)\n",
    "\n",
    "        # Concatenate [mol, protein] tokens → sequence length = 2\n",
    "        x = torch.cat([mol_embed, protein_embed], dim=1)  # shape: (B, 2, d_model)\n",
    "\n",
    "        # Add learnable positional encoding\n",
    "        x = x + self.pos_embedding.unsqueeze(0)  # broadcast (1, 2, d_model)\n",
    "\n",
    "        # Pass through Transformer encoder\n",
    "        encoded = self.transformer(x)  # shape: (B, 2, d_model)\n",
    "\n",
    "        # Flatten both tokens\n",
    "        flattened = encoded.view(encoded.size(0), -1)  # shape: (B, 2 * d_model)\n",
    "\n",
    "        # Regression\n",
    "        out = self.regressor(flattened)\n",
    "        return out.view(-1)"
   ]
  },
  {
   "cell_type": "code",
   "execution_count": 16,
   "metadata": {},
   "outputs": [],
   "source": [
    "# Check CUDA availability\n",
    "device = torch.device(\"cuda\" if torch.cuda.is_available() else \"cpu\")"
   ]
  },
  {
   "cell_type": "code",
   "execution_count": null,
   "metadata": {},
   "outputs": [
    {
     "name": "stderr",
     "output_type": "stream",
     "text": [
      "Training Epoch 1: 100%|██████████| 378/378 [00:04<00:00, 77.68it/s]\n",
      "/var/folders/yz/c1z6m9_d5d3f80sywjc3rqsc0000gn/T/ipykernel_75849/2430062344.py:91: FutureWarning: The behavior of DataFrame concatenation with empty or all-NA entries is deprecated. In a future version, this will no longer exclude empty or all-NA columns when determining the result dtypes. To retain the old behavior, exclude the relevant entries before the concat operation.\n",
      "  train_history = pd.concat([train_history, pd.DataFrame([new_row])], ignore_index=True)\n"
     ]
    },
    {
     "name": "stdout",
     "output_type": "stream",
     "text": [
      "Epoch 0 - Train Loss: 2.1534, Train MSE: 2.1545, Train MAE: 1.1430\n",
      "Epoch 0 - Validation Loss: 2.1288, Validation MSE: 2.1303, Validation MAE: 1.1331\n"
     ]
    },
    {
     "name": "stderr",
     "output_type": "stream",
     "text": [
      "Training Epoch 2: 100%|██████████| 378/378 [00:04<00:00, 80.83it/s]\n",
      "Training Epoch 3: 100%|██████████| 378/378 [00:04<00:00, 78.82it/s]\n",
      "Training Epoch 4: 100%|██████████| 378/378 [00:04<00:00, 81.73it/s]\n",
      "Training Epoch 5: 100%|██████████| 378/378 [00:04<00:00, 77.90it/s]\n",
      "Training Epoch 6: 100%|██████████| 378/378 [00:04<00:00, 88.73it/s]\n",
      "Training Epoch 7: 100%|██████████| 378/378 [00:03<00:00, 98.36it/s] \n",
      "Training Epoch 8: 100%|██████████| 378/378 [00:03<00:00, 96.25it/s] \n",
      "Training Epoch 9: 100%|██████████| 378/378 [00:03<00:00, 98.49it/s] \n",
      "Training Epoch 10: 100%|██████████| 378/378 [00:04<00:00, 93.75it/s] \n",
      "Training Epoch 11: 100%|██████████| 378/378 [00:03<00:00, 97.04it/s] \n"
     ]
    },
    {
     "name": "stdout",
     "output_type": "stream",
     "text": [
      "Epoch 10 - Train Loss: 1.5955, Train MSE: 1.5962, Train MAE: 0.9742\n",
      "Epoch 10 - Validation Loss: 1.8930, Validation MSE: 1.8951, Validation MAE: 1.0219\n"
     ]
    },
    {
     "name": "stderr",
     "output_type": "stream",
     "text": [
      "Training Epoch 12: 100%|██████████| 378/378 [00:03<00:00, 96.27it/s] \n",
      "Training Epoch 13: 100%|██████████| 378/378 [00:03<00:00, 96.55it/s] \n",
      "Training Epoch 14: 100%|██████████| 378/378 [00:03<00:00, 96.17it/s] \n",
      "Training Epoch 15: 100%|██████████| 378/378 [00:04<00:00, 93.34it/s] \n",
      "Training Epoch 16: 100%|██████████| 378/378 [00:04<00:00, 92.00it/s] \n",
      "Training Epoch 17: 100%|██████████| 378/378 [00:03<00:00, 95.73it/s] \n",
      "Training Epoch 18: 100%|██████████| 378/378 [00:03<00:00, 97.73it/s] \n",
      "Training Epoch 19: 100%|██████████| 378/378 [00:04<00:00, 94.12it/s]\n",
      "Training Epoch 20: 100%|██████████| 378/378 [00:03<00:00, 94.73it/s] \n",
      "Training Epoch 21: 100%|██████████| 378/378 [00:03<00:00, 95.05it/s] \n"
     ]
    },
    {
     "name": "stdout",
     "output_type": "stream",
     "text": [
      "Epoch 20 - Train Loss: 1.3754, Train MSE: 1.3759, Train MAE: 0.8976\n",
      "Epoch 20 - Validation Loss: 1.8244, Validation MSE: 1.8269, Validation MAE: 1.0026\n"
     ]
    },
    {
     "name": "stderr",
     "output_type": "stream",
     "text": [
      "Training Epoch 22: 100%|██████████| 378/378 [00:03<00:00, 97.34it/s] \n",
      "Training Epoch 23: 100%|██████████| 378/378 [00:03<00:00, 98.33it/s] \n",
      "Training Epoch 24: 100%|██████████| 378/378 [00:03<00:00, 101.06it/s]\n",
      "Training Epoch 25: 100%|██████████| 378/378 [00:04<00:00, 91.63it/s]\n",
      "Training Epoch 26: 100%|██████████| 378/378 [00:04<00:00, 93.90it/s]\n",
      "Training Epoch 27: 100%|██████████| 378/378 [00:03<00:00, 103.06it/s]\n",
      "Training Epoch 28: 100%|██████████| 378/378 [00:03<00:00, 99.15it/s] \n",
      "Training Epoch 29: 100%|██████████| 378/378 [00:03<00:00, 98.66it/s] \n",
      "Training Epoch 30: 100%|██████████| 378/378 [00:03<00:00, 97.92it/s] \n",
      "Training Epoch 31: 100%|██████████| 378/378 [00:03<00:00, 94.77it/s] \n"
     ]
    },
    {
     "name": "stdout",
     "output_type": "stream",
     "text": [
      "Epoch 30 - Train Loss: 1.1986, Train MSE: 1.1984, Train MAE: 0.8341\n",
      "Epoch 30 - Validation Loss: 1.7750, Validation MSE: 1.7777, Validation MAE: 1.0070\n"
     ]
    },
    {
     "name": "stderr",
     "output_type": "stream",
     "text": [
      "Training Epoch 32: 100%|██████████| 378/378 [00:03<00:00, 96.86it/s] \n",
      "Training Epoch 33: 100%|██████████| 378/378 [00:03<00:00, 101.13it/s]\n",
      "Training Epoch 34: 100%|██████████| 378/378 [00:03<00:00, 100.26it/s]\n",
      "Training Epoch 35: 100%|██████████| 378/378 [00:03<00:00, 100.32it/s]\n",
      "Training Epoch 36: 100%|██████████| 378/378 [00:03<00:00, 102.45it/s]\n",
      "Training Epoch 37: 100%|██████████| 378/378 [00:03<00:00, 98.28it/s] \n",
      "Training Epoch 38: 100%|██████████| 378/378 [00:03<00:00, 100.22it/s]\n",
      "Training Epoch 39: 100%|██████████| 378/378 [00:03<00:00, 98.85it/s] \n",
      "Training Epoch 40: 100%|██████████| 378/378 [00:03<00:00, 99.85it/s] \n",
      "Training Epoch 41: 100%|██████████| 378/378 [00:03<00:00, 103.79it/s]\n"
     ]
    },
    {
     "name": "stdout",
     "output_type": "stream",
     "text": [
      "Epoch 40 - Train Loss: 1.0600, Train MSE: 1.0605, Train MAE: 0.7785\n",
      "Epoch 40 - Validation Loss: 1.6720, Validation MSE: 1.6755, Validation MAE: 0.9556\n"
     ]
    },
    {
     "name": "stderr",
     "output_type": "stream",
     "text": [
      "Training Epoch 42: 100%|██████████| 378/378 [00:03<00:00, 95.86it/s] \n",
      "Training Epoch 43: 100%|██████████| 378/378 [00:05<00:00, 64.98it/s]\n",
      "Training Epoch 44: 100%|██████████| 378/378 [00:05<00:00, 64.32it/s]\n",
      "Training Epoch 45: 100%|██████████| 378/378 [00:04<00:00, 77.54it/s]\n",
      "Training Epoch 46: 100%|██████████| 378/378 [00:04<00:00, 83.28it/s]\n",
      "Training Epoch 47: 100%|██████████| 378/378 [00:04<00:00, 85.56it/s]\n",
      "Training Epoch 48: 100%|██████████| 378/378 [00:04<00:00, 84.48it/s]\n",
      "Training Epoch 49: 100%|██████████| 378/378 [00:04<00:00, 84.61it/s]\n",
      "Training Epoch 50: 100%|██████████| 378/378 [00:04<00:00, 86.53it/s]\n",
      "Training Epoch 51: 100%|██████████| 378/378 [00:04<00:00, 84.61it/s]\n"
     ]
    },
    {
     "name": "stdout",
     "output_type": "stream",
     "text": [
      "Epoch 50 - Train Loss: 0.9486, Train MSE: 0.9489, Train MAE: 0.7307\n",
      "Epoch 50 - Validation Loss: 1.6574, Validation MSE: 1.6607, Validation MAE: 0.9588\n"
     ]
    },
    {
     "name": "stderr",
     "output_type": "stream",
     "text": [
      "Training Epoch 52: 100%|██████████| 378/378 [00:04<00:00, 84.84it/s]\n",
      "Training Epoch 53: 100%|██████████| 378/378 [00:04<00:00, 86.65it/s]\n",
      "Training Epoch 54: 100%|██████████| 378/378 [00:04<00:00, 84.95it/s]\n",
      "Training Epoch 55: 100%|██████████| 378/378 [00:04<00:00, 84.11it/s]\n",
      "Training Epoch 56: 100%|██████████| 378/378 [00:05<00:00, 73.13it/s]\n",
      "Training Epoch 57: 100%|██████████| 378/378 [00:05<00:00, 73.27it/s]\n",
      "Training Epoch 58: 100%|██████████| 378/378 [00:05<00:00, 71.95it/s]\n",
      "Training Epoch 59: 100%|██████████| 378/378 [00:05<00:00, 75.33it/s]\n",
      "Training Epoch 60: 100%|██████████| 378/378 [00:05<00:00, 73.59it/s]\n",
      "Training Epoch 61: 100%|██████████| 378/378 [00:05<00:00, 70.84it/s]\n"
     ]
    },
    {
     "name": "stdout",
     "output_type": "stream",
     "text": [
      "Epoch 60 - Train Loss: 0.8566, Train MSE: 0.8564, Train MAE: 0.6869\n",
      "Epoch 60 - Validation Loss: 1.7076, Validation MSE: 1.7099, Validation MAE: 0.9438\n"
     ]
    },
    {
     "name": "stderr",
     "output_type": "stream",
     "text": [
      "Training Epoch 62: 100%|██████████| 378/378 [00:05<00:00, 67.26it/s]\n",
      "Training Epoch 63: 100%|██████████| 378/378 [00:05<00:00, 74.24it/s]\n",
      "Training Epoch 64: 100%|██████████| 378/378 [00:05<00:00, 72.22it/s]\n",
      "Training Epoch 65: 100%|██████████| 378/378 [00:05<00:00, 73.26it/s]\n",
      "Training Epoch 66: 100%|██████████| 378/378 [00:05<00:00, 69.71it/s]\n",
      "Training Epoch 67: 100%|██████████| 378/378 [00:05<00:00, 70.05it/s]\n",
      "Training Epoch 68: 100%|██████████| 378/378 [00:06<00:00, 54.16it/s]\n",
      "Training Epoch 69: 100%|██████████| 378/378 [00:05<00:00, 69.98it/s]\n",
      "Training Epoch 70: 100%|██████████| 378/378 [00:05<00:00, 70.19it/s]\n",
      "Training Epoch 71: 100%|██████████| 378/378 [00:05<00:00, 71.93it/s]\n"
     ]
    },
    {
     "name": "stdout",
     "output_type": "stream",
     "text": [
      "Epoch 70 - Train Loss: 0.7895, Train MSE: 0.7891, Train MAE: 0.6571\n",
      "Epoch 70 - Validation Loss: 1.7260, Validation MSE: 1.7292, Validation MAE: 0.9389\n"
     ]
    },
    {
     "name": "stderr",
     "output_type": "stream",
     "text": [
      "Training Epoch 72: 100%|██████████| 378/378 [00:04<00:00, 76.71it/s]\n",
      "Training Epoch 73: 100%|██████████| 378/378 [00:05<00:00, 72.15it/s]\n",
      "Training Epoch 74: 100%|██████████| 378/378 [00:04<00:00, 75.67it/s]\n",
      "Training Epoch 75: 100%|██████████| 378/378 [00:05<00:00, 74.41it/s]\n",
      "Training Epoch 76: 100%|██████████| 378/378 [00:05<00:00, 73.11it/s]\n",
      "Training Epoch 77: 100%|██████████| 378/378 [00:05<00:00, 73.80it/s]\n",
      "Training Epoch 78: 100%|██████████| 378/378 [00:05<00:00, 70.25it/s]\n",
      "Training Epoch 79: 100%|██████████| 378/378 [00:05<00:00, 71.17it/s]\n",
      "Training Epoch 80: 100%|██████████| 378/378 [00:05<00:00, 75.29it/s]\n",
      "Training Epoch 81: 100%|██████████| 378/378 [00:05<00:00, 73.77it/s]\n"
     ]
    },
    {
     "name": "stdout",
     "output_type": "stream",
     "text": [
      "Epoch 80 - Train Loss: 0.7372, Train MSE: 0.7373, Train MAE: 0.6331\n",
      "Epoch 80 - Validation Loss: 1.6796, Validation MSE: 1.6819, Validation MAE: 0.9415\n"
     ]
    },
    {
     "name": "stderr",
     "output_type": "stream",
     "text": [
      "Training Epoch 82: 100%|██████████| 378/378 [00:06<00:00, 60.77it/s]\n",
      "Training Epoch 83: 100%|██████████| 378/378 [00:05<00:00, 74.40it/s]\n",
      "Training Epoch 84: 100%|██████████| 378/378 [00:05<00:00, 74.23it/s]\n",
      "Training Epoch 85: 100%|██████████| 378/378 [00:05<00:00, 71.15it/s]\n",
      "Training Epoch 86: 100%|██████████| 378/378 [00:04<00:00, 75.93it/s]\n",
      "Training Epoch 87: 100%|██████████| 378/378 [00:05<00:00, 73.38it/s]\n",
      "Training Epoch 88: 100%|██████████| 378/378 [00:05<00:00, 74.86it/s]\n",
      "Training Epoch 89: 100%|██████████| 378/378 [00:05<00:00, 71.67it/s]\n",
      "Training Epoch 90: 100%|██████████| 378/378 [00:05<00:00, 72.69it/s]\n",
      "Training Epoch 91: 100%|██████████| 378/378 [00:05<00:00, 70.50it/s]\n"
     ]
    },
    {
     "name": "stdout",
     "output_type": "stream",
     "text": [
      "Epoch 90 - Train Loss: 0.6932, Train MSE: 0.6935, Train MAE: 0.6060\n",
      "Epoch 90 - Validation Loss: 1.6742, Validation MSE: 1.6768, Validation MAE: 0.9233\n"
     ]
    },
    {
     "name": "stderr",
     "output_type": "stream",
     "text": [
      "Training Epoch 92: 100%|██████████| 378/378 [00:05<00:00, 71.50it/s]\n",
      "Training Epoch 93: 100%|██████████| 378/378 [00:05<00:00, 72.99it/s]\n",
      "Training Epoch 94: 100%|██████████| 378/378 [00:05<00:00, 72.70it/s]\n",
      "Training Epoch 95: 100%|██████████| 378/378 [00:05<00:00, 75.47it/s]\n",
      "Training Epoch 96: 100%|██████████| 378/378 [00:05<00:00, 73.96it/s]\n",
      "Training Epoch 97: 100%|██████████| 378/378 [00:05<00:00, 68.58it/s]\n",
      "Training Epoch 98: 100%|██████████| 378/378 [00:04<00:00, 75.66it/s]\n",
      "Training Epoch 99: 100%|██████████| 378/378 [00:05<00:00, 74.95it/s]\n",
      "Training Epoch 100: 100%|██████████| 378/378 [00:05<00:00, 71.19it/s]\n",
      "Training Epoch 101: 100%|██████████| 378/378 [00:05<00:00, 74.46it/s]\n"
     ]
    },
    {
     "name": "stdout",
     "output_type": "stream",
     "text": [
      "Epoch 100 - Train Loss: 0.6601, Train MSE: 0.6605, Train MAE: 0.5883\n",
      "Epoch 100 - Validation Loss: 1.6397, Validation MSE: 1.6417, Validation MAE: 0.9226\n"
     ]
    },
    {
     "name": "stderr",
     "output_type": "stream",
     "text": [
      "Training Epoch 102: 100%|██████████| 378/378 [00:05<00:00, 74.17it/s]\n",
      "Training Epoch 103: 100%|██████████| 378/378 [00:05<00:00, 75.08it/s]\n",
      "Training Epoch 104: 100%|██████████| 378/378 [00:05<00:00, 74.50it/s]\n",
      "Training Epoch 105: 100%|██████████| 378/378 [00:05<00:00, 74.45it/s]\n",
      "Training Epoch 106: 100%|██████████| 378/378 [00:05<00:00, 74.84it/s]\n",
      "Training Epoch 107: 100%|██████████| 378/378 [00:04<00:00, 75.79it/s]\n",
      "Training Epoch 108: 100%|██████████| 378/378 [00:05<00:00, 72.56it/s]\n",
      "Training Epoch 109: 100%|██████████| 378/378 [00:05<00:00, 73.56it/s]\n",
      "Training Epoch 110: 100%|██████████| 378/378 [00:05<00:00, 72.89it/s]\n",
      "Training Epoch 111: 100%|██████████| 378/378 [00:05<00:00, 73.72it/s]\n"
     ]
    },
    {
     "name": "stdout",
     "output_type": "stream",
     "text": [
      "Epoch 110 - Train Loss: 0.6371, Train MSE: 0.6372, Train MAE: 0.5710\n",
      "Epoch 110 - Validation Loss: 1.7176, Validation MSE: 1.7196, Validation MAE: 0.9427\n"
     ]
    },
    {
     "name": "stderr",
     "output_type": "stream",
     "text": [
      "Training Epoch 112: 100%|██████████| 378/378 [00:05<00:00, 74.01it/s]\n",
      "Training Epoch 113: 100%|██████████| 378/378 [00:05<00:00, 74.64it/s]\n",
      "Training Epoch 114: 100%|██████████| 378/378 [00:05<00:00, 74.46it/s]\n",
      "Training Epoch 115: 100%|██████████| 378/378 [00:05<00:00, 75.08it/s]\n",
      "Training Epoch 116: 100%|██████████| 378/378 [00:05<00:00, 71.31it/s]\n",
      "Training Epoch 117: 100%|██████████| 378/378 [00:05<00:00, 74.42it/s]\n",
      "Training Epoch 118: 100%|██████████| 378/378 [00:05<00:00, 73.59it/s]\n",
      "Training Epoch 119: 100%|██████████| 378/378 [00:04<00:00, 76.18it/s]\n",
      "Training Epoch 120: 100%|██████████| 378/378 [00:05<00:00, 73.51it/s]\n",
      "Training Epoch 121: 100%|██████████| 378/378 [00:05<00:00, 74.51it/s]\n"
     ]
    },
    {
     "name": "stdout",
     "output_type": "stream",
     "text": [
      "Epoch 120 - Train Loss: 0.6051, Train MSE: 0.6050, Train MAE: 0.5548\n",
      "Epoch 120 - Validation Loss: 1.6782, Validation MSE: 1.6810, Validation MAE: 0.9220\n"
     ]
    },
    {
     "name": "stderr",
     "output_type": "stream",
     "text": [
      "Training Epoch 122: 100%|██████████| 378/378 [00:05<00:00, 71.31it/s]\n",
      "Training Epoch 123: 100%|██████████| 378/378 [00:05<00:00, 74.88it/s]\n",
      "Training Epoch 124: 100%|██████████| 378/378 [00:05<00:00, 74.85it/s]\n",
      "Training Epoch 125: 100%|██████████| 378/378 [00:05<00:00, 72.30it/s]\n",
      "Training Epoch 126: 100%|██████████| 378/378 [00:05<00:00, 70.64it/s]\n",
      "Training Epoch 127: 100%|██████████| 378/378 [00:05<00:00, 74.08it/s]\n",
      "Training Epoch 128: 100%|██████████| 378/378 [00:05<00:00, 72.24it/s]\n",
      "Training Epoch 129: 100%|██████████| 378/378 [00:04<00:00, 77.63it/s]\n",
      "Training Epoch 130: 100%|██████████| 378/378 [00:05<00:00, 73.88it/s]\n",
      "Training Epoch 131: 100%|██████████| 378/378 [00:05<00:00, 73.60it/s]\n"
     ]
    },
    {
     "name": "stdout",
     "output_type": "stream",
     "text": [
      "Epoch 130 - Train Loss: 0.5812, Train MSE: 0.5813, Train MAE: 0.5421\n",
      "Epoch 130 - Validation Loss: 1.7405, Validation MSE: 1.7430, Validation MAE: 0.9396\n"
     ]
    },
    {
     "name": "stderr",
     "output_type": "stream",
     "text": [
      "Training Epoch 132: 100%|██████████| 378/378 [00:05<00:00, 74.49it/s]\n",
      "Training Epoch 133: 100%|██████████| 378/378 [00:05<00:00, 70.56it/s]\n",
      "Training Epoch 134: 100%|██████████| 378/378 [00:05<00:00, 73.42it/s]\n",
      "Training Epoch 135: 100%|██████████| 378/378 [00:05<00:00, 71.66it/s]\n",
      "Training Epoch 136: 100%|██████████| 378/378 [00:05<00:00, 71.15it/s]\n",
      "Training Epoch 137: 100%|██████████| 378/378 [00:05<00:00, 74.65it/s]\n",
      "Training Epoch 138: 100%|██████████| 378/378 [00:05<00:00, 74.61it/s]\n",
      "Training Epoch 139: 100%|██████████| 378/378 [00:05<00:00, 73.57it/s]\n",
      "Training Epoch 140: 100%|██████████| 378/378 [00:05<00:00, 75.29it/s]\n",
      "Training Epoch 141: 100%|██████████| 378/378 [00:05<00:00, 72.39it/s]\n"
     ]
    },
    {
     "name": "stdout",
     "output_type": "stream",
     "text": [
      "Epoch 140 - Train Loss: 0.5802, Train MSE: 0.5805, Train MAE: 0.5361\n",
      "Epoch 140 - Validation Loss: 1.6462, Validation MSE: 1.6492, Validation MAE: 0.9059\n"
     ]
    },
    {
     "name": "stderr",
     "output_type": "stream",
     "text": [
      "Training Epoch 142: 100%|██████████| 378/378 [00:05<00:00, 70.01it/s]\n",
      "Training Epoch 143: 100%|██████████| 378/378 [00:05<00:00, 73.82it/s]\n",
      "Training Epoch 144: 100%|██████████| 378/378 [00:05<00:00, 74.84it/s]\n",
      "Training Epoch 145: 100%|██████████| 378/378 [00:05<00:00, 68.45it/s]\n",
      "Training Epoch 146: 100%|██████████| 378/378 [00:05<00:00, 70.81it/s]\n",
      "Training Epoch 147: 100%|██████████| 378/378 [00:05<00:00, 68.72it/s]\n",
      "Training Epoch 148: 100%|██████████| 378/378 [00:05<00:00, 67.30it/s]\n",
      "Training Epoch 149: 100%|██████████| 378/378 [00:05<00:00, 70.46it/s]\n",
      "Training Epoch 150: 100%|██████████| 378/378 [00:05<00:00, 71.30it/s]\n",
      "Training Epoch 151: 100%|██████████| 378/378 [00:05<00:00, 65.58it/s]\n"
     ]
    },
    {
     "name": "stdout",
     "output_type": "stream",
     "text": [
      "Epoch 150 - Train Loss: 0.5588, Train MSE: 0.5588, Train MAE: 0.5258\n",
      "Epoch 150 - Validation Loss: 1.6511, Validation MSE: 1.6550, Validation MAE: 0.9117\n"
     ]
    },
    {
     "name": "stderr",
     "output_type": "stream",
     "text": [
      "Training Epoch 152: 100%|██████████| 378/378 [00:05<00:00, 70.47it/s]\n",
      "Training Epoch 153: 100%|██████████| 378/378 [00:07<00:00, 53.28it/s]\n",
      "Training Epoch 154: 100%|██████████| 378/378 [00:06<00:00, 60.34it/s] \n",
      "Training Epoch 155: 100%|██████████| 378/378 [00:03<00:00, 103.53it/s]\n",
      "Training Epoch 156: 100%|██████████| 378/378 [00:03<00:00, 100.16it/s]\n",
      "Training Epoch 157: 100%|██████████| 378/378 [00:03<00:00, 102.71it/s]\n",
      "Training Epoch 158: 100%|██████████| 378/378 [00:03<00:00, 103.48it/s]\n",
      "Training Epoch 159: 100%|██████████| 378/378 [00:03<00:00, 101.12it/s]\n",
      "Training Epoch 160: 100%|██████████| 378/378 [00:03<00:00, 102.55it/s]\n",
      "Training Epoch 161: 100%|██████████| 378/378 [00:03<00:00, 101.54it/s]\n"
     ]
    },
    {
     "name": "stdout",
     "output_type": "stream",
     "text": [
      "Epoch 160 - Train Loss: 0.5475, Train MSE: 0.5469, Train MAE: 0.5181\n",
      "Epoch 160 - Validation Loss: 1.6796, Validation MSE: 1.6829, Validation MAE: 0.9182\n"
     ]
    },
    {
     "name": "stderr",
     "output_type": "stream",
     "text": [
      "Training Epoch 162: 100%|██████████| 378/378 [00:03<00:00, 102.04it/s]\n",
      "Training Epoch 163: 100%|██████████| 378/378 [00:03<00:00, 104.02it/s]\n",
      "Training Epoch 164: 100%|██████████| 378/378 [00:03<00:00, 100.53it/s]\n",
      "Training Epoch 165: 100%|██████████| 378/378 [00:03<00:00, 102.82it/s]\n",
      "Training Epoch 166: 100%|██████████| 378/378 [00:03<00:00, 100.92it/s]\n",
      "Training Epoch 167: 100%|██████████| 378/378 [00:03<00:00, 102.05it/s]\n",
      "Training Epoch 168: 100%|██████████| 378/378 [00:03<00:00, 101.97it/s]\n",
      "Training Epoch 169: 100%|██████████| 378/378 [00:03<00:00, 102.27it/s]\n",
      "Training Epoch 170: 100%|██████████| 378/378 [00:03<00:00, 103.69it/s]\n",
      "Training Epoch 171: 100%|██████████| 378/378 [00:03<00:00, 103.26it/s]\n"
     ]
    },
    {
     "name": "stdout",
     "output_type": "stream",
     "text": [
      "Epoch 170 - Train Loss: 0.5410, Train MSE: 0.5407, Train MAE: 0.5119\n",
      "Epoch 170 - Validation Loss: 1.6703, Validation MSE: 1.6733, Validation MAE: 0.9184\n"
     ]
    },
    {
     "name": "stderr",
     "output_type": "stream",
     "text": [
      "Training Epoch 172: 100%|██████████| 378/378 [00:03<00:00, 102.74it/s]\n",
      "Training Epoch 173: 100%|██████████| 378/378 [00:03<00:00, 101.46it/s]\n",
      "Training Epoch 174: 100%|██████████| 378/378 [00:03<00:00, 102.26it/s]\n",
      "Training Epoch 175: 100%|██████████| 378/378 [00:03<00:00, 103.37it/s]\n",
      "Training Epoch 176: 100%|██████████| 378/378 [00:03<00:00, 102.46it/s]\n",
      "Training Epoch 177: 100%|██████████| 378/378 [00:03<00:00, 101.86it/s]\n",
      "Training Epoch 178: 100%|██████████| 378/378 [00:03<00:00, 102.20it/s]\n",
      "Training Epoch 179: 100%|██████████| 378/378 [00:03<00:00, 101.74it/s]\n",
      "Training Epoch 180: 100%|██████████| 378/378 [00:03<00:00, 104.82it/s]\n",
      "Training Epoch 181: 100%|██████████| 378/378 [00:03<00:00, 99.99it/s] \n"
     ]
    },
    {
     "name": "stdout",
     "output_type": "stream",
     "text": [
      "Epoch 180 - Train Loss: 0.5369, Train MSE: 0.5367, Train MAE: 0.5050\n",
      "Epoch 180 - Validation Loss: 1.6731, Validation MSE: 1.6767, Validation MAE: 0.9246\n"
     ]
    },
    {
     "name": "stderr",
     "output_type": "stream",
     "text": [
      "Training Epoch 182: 100%|██████████| 378/378 [00:03<00:00, 102.80it/s]\n",
      "Training Epoch 183: 100%|██████████| 378/378 [00:03<00:00, 103.12it/s]\n",
      "Training Epoch 184: 100%|██████████| 378/378 [00:03<00:00, 102.02it/s]\n",
      "Training Epoch 185: 100%|██████████| 378/378 [00:03<00:00, 103.75it/s]\n",
      "Training Epoch 186: 100%|██████████| 378/378 [00:03<00:00, 102.82it/s]\n",
      "Training Epoch 187: 100%|██████████| 378/378 [00:03<00:00, 105.83it/s]\n",
      "Training Epoch 188: 100%|██████████| 378/378 [00:03<00:00, 101.15it/s]\n",
      "Training Epoch 189: 100%|██████████| 378/378 [00:03<00:00, 101.33it/s]\n",
      "Training Epoch 190: 100%|██████████| 378/378 [00:03<00:00, 102.07it/s]\n",
      "Training Epoch 191: 100%|██████████| 378/378 [00:03<00:00, 102.73it/s]\n"
     ]
    },
    {
     "name": "stdout",
     "output_type": "stream",
     "text": [
      "Epoch 190 - Train Loss: 0.5171, Train MSE: 0.5170, Train MAE: 0.4968\n",
      "Epoch 190 - Validation Loss: 1.6563, Validation MSE: 1.6596, Validation MAE: 0.9050\n"
     ]
    },
    {
     "name": "stderr",
     "output_type": "stream",
     "text": [
      "Training Epoch 192: 100%|██████████| 378/378 [00:03<00:00, 104.34it/s]\n",
      "Training Epoch 193: 100%|██████████| 378/378 [00:03<00:00, 102.50it/s]\n",
      "Training Epoch 194: 100%|██████████| 378/378 [00:03<00:00, 101.01it/s]\n",
      "Training Epoch 195: 100%|██████████| 378/378 [00:03<00:00, 102.35it/s]\n",
      "Training Epoch 196: 100%|██████████| 378/378 [00:03<00:00, 102.44it/s]\n",
      "Training Epoch 197: 100%|██████████| 378/378 [00:03<00:00, 104.03it/s]\n",
      "Training Epoch 198: 100%|██████████| 378/378 [00:03<00:00, 100.26it/s]\n",
      "Training Epoch 199: 100%|██████████| 378/378 [00:03<00:00, 103.11it/s]\n",
      "Training Epoch 200: 100%|██████████| 378/378 [00:03<00:00, 103.28it/s]\n",
      "Training Epoch 201: 100%|██████████| 378/378 [00:03<00:00, 102.65it/s]\n"
     ]
    },
    {
     "name": "stdout",
     "output_type": "stream",
     "text": [
      "Epoch 200 - Train Loss: 0.5074, Train MSE: 0.5073, Train MAE: 0.4891\n",
      "Epoch 200 - Validation Loss: 1.7640, Validation MSE: 1.7672, Validation MAE: 0.9465\n"
     ]
    },
    {
     "name": "stderr",
     "output_type": "stream",
     "text": [
      "Training Epoch 202: 100%|██████████| 378/378 [00:03<00:00, 103.54it/s]\n",
      "Training Epoch 203: 100%|██████████| 378/378 [00:03<00:00, 103.84it/s]\n",
      "Training Epoch 204: 100%|██████████| 378/378 [00:03<00:00, 101.52it/s]\n",
      "Training Epoch 205: 100%|██████████| 378/378 [00:03<00:00, 103.00it/s]\n",
      "Training Epoch 206: 100%|██████████| 378/378 [00:03<00:00, 100.69it/s]\n",
      "Training Epoch 207: 100%|██████████| 378/378 [00:03<00:00, 103.20it/s]\n",
      "Training Epoch 208: 100%|██████████| 378/378 [00:03<00:00, 100.50it/s]\n",
      "Training Epoch 209: 100%|██████████| 378/378 [00:03<00:00, 103.45it/s]\n",
      "Training Epoch 210: 100%|██████████| 378/378 [00:03<00:00, 105.27it/s]\n",
      "Training Epoch 211: 100%|██████████| 378/378 [00:03<00:00, 100.07it/s]\n"
     ]
    },
    {
     "name": "stdout",
     "output_type": "stream",
     "text": [
      "Epoch 210 - Train Loss: 0.5000, Train MSE: 0.5002, Train MAE: 0.4832\n",
      "Epoch 210 - Validation Loss: 1.6821, Validation MSE: 1.6856, Validation MAE: 0.9236\n"
     ]
    },
    {
     "name": "stderr",
     "output_type": "stream",
     "text": [
      "Training Epoch 212: 100%|██████████| 378/378 [00:03<00:00, 104.52it/s]\n",
      "Training Epoch 213: 100%|██████████| 378/378 [00:03<00:00, 101.60it/s]\n",
      "Training Epoch 214: 100%|██████████| 378/378 [00:03<00:00, 101.12it/s]\n",
      "Training Epoch 215: 100%|██████████| 378/378 [00:03<00:00, 102.47it/s]\n",
      "Training Epoch 216: 100%|██████████| 378/378 [00:03<00:00, 101.55it/s]\n",
      "Training Epoch 217: 100%|██████████| 378/378 [00:03<00:00, 102.22it/s]\n",
      "Training Epoch 218: 100%|██████████| 378/378 [00:03<00:00, 101.93it/s]\n",
      "Training Epoch 219: 100%|██████████| 378/378 [00:03<00:00, 100.80it/s]\n",
      "Training Epoch 220: 100%|██████████| 378/378 [00:03<00:00, 102.15it/s]\n",
      "Training Epoch 221: 100%|██████████| 378/378 [00:03<00:00, 102.17it/s]\n"
     ]
    },
    {
     "name": "stdout",
     "output_type": "stream",
     "text": [
      "Epoch 220 - Train Loss: 0.4852, Train MSE: 0.4854, Train MAE: 0.4764\n",
      "Epoch 220 - Validation Loss: 1.6262, Validation MSE: 1.6296, Validation MAE: 0.8993\n"
     ]
    },
    {
     "name": "stderr",
     "output_type": "stream",
     "text": [
      "Training Epoch 222: 100%|██████████| 378/378 [00:03<00:00, 100.01it/s]\n",
      "Training Epoch 223: 100%|██████████| 378/378 [00:03<00:00, 101.37it/s]\n",
      "Training Epoch 224: 100%|██████████| 378/378 [00:03<00:00, 105.22it/s]\n",
      "Training Epoch 225: 100%|██████████| 378/378 [00:03<00:00, 101.93it/s]\n",
      "Training Epoch 226: 100%|██████████| 378/378 [00:03<00:00, 102.57it/s]\n",
      "Training Epoch 227: 100%|██████████| 378/378 [00:03<00:00, 103.15it/s]\n",
      "Training Epoch 228: 100%|██████████| 378/378 [00:03<00:00, 101.75it/s]\n",
      "Training Epoch 229: 100%|██████████| 378/378 [00:03<00:00, 103.18it/s]\n",
      "Training Epoch 230: 100%|██████████| 378/378 [00:03<00:00, 101.09it/s]\n",
      "Training Epoch 231: 100%|██████████| 378/378 [00:03<00:00, 101.21it/s]\n"
     ]
    },
    {
     "name": "stdout",
     "output_type": "stream",
     "text": [
      "Epoch 230 - Train Loss: 0.4933, Train MSE: 0.4922, Train MAE: 0.4783\n",
      "Epoch 230 - Validation Loss: 1.6755, Validation MSE: 1.6789, Validation MAE: 0.9114\n"
     ]
    },
    {
     "name": "stderr",
     "output_type": "stream",
     "text": [
      "Training Epoch 232: 100%|██████████| 378/378 [00:03<00:00, 101.85it/s]\n",
      "Training Epoch 233: 100%|██████████| 378/378 [00:03<00:00, 101.64it/s]\n",
      "Training Epoch 234: 100%|██████████| 378/378 [00:03<00:00, 102.68it/s]\n",
      "Training Epoch 235: 100%|██████████| 378/378 [00:03<00:00, 103.17it/s]\n",
      "Training Epoch 236: 100%|██████████| 378/378 [00:03<00:00, 101.66it/s]\n",
      "Training Epoch 237: 100%|██████████| 378/378 [00:03<00:00, 103.04it/s]\n",
      "Training Epoch 238: 100%|██████████| 378/378 [00:03<00:00, 100.41it/s]\n",
      "Training Epoch 239: 100%|██████████| 378/378 [00:03<00:00, 102.98it/s]\n",
      "Training Epoch 240: 100%|██████████| 378/378 [00:03<00:00, 101.68it/s]\n",
      "Training Epoch 241: 100%|██████████| 378/378 [00:03<00:00, 100.98it/s]\n"
     ]
    },
    {
     "name": "stdout",
     "output_type": "stream",
     "text": [
      "Epoch 240 - Train Loss: 0.4902, Train MSE: 0.4902, Train MAE: 0.4726\n",
      "Epoch 240 - Validation Loss: 1.7061, Validation MSE: 1.7100, Validation MAE: 0.9180\n"
     ]
    },
    {
     "name": "stderr",
     "output_type": "stream",
     "text": [
      "Training Epoch 242: 100%|██████████| 378/378 [00:03<00:00, 104.53it/s]\n",
      "Training Epoch 243: 100%|██████████| 378/378 [00:03<00:00, 101.56it/s]\n",
      "Training Epoch 244: 100%|██████████| 378/378 [00:03<00:00, 102.13it/s]\n",
      "Training Epoch 245: 100%|██████████| 378/378 [00:03<00:00, 102.29it/s]\n",
      "Training Epoch 246: 100%|██████████| 378/378 [00:03<00:00, 101.44it/s]\n",
      "Training Epoch 247: 100%|██████████| 378/378 [00:03<00:00, 104.75it/s]\n",
      "Training Epoch 248: 100%|██████████| 378/378 [00:03<00:00, 99.77it/s] \n",
      "Training Epoch 249: 100%|██████████| 378/378 [00:03<00:00, 101.98it/s]\n",
      "Training Epoch 250: 100%|██████████| 378/378 [00:03<00:00, 102.86it/s]\n",
      "Training Epoch 251: 100%|██████████| 378/378 [00:03<00:00, 104.70it/s]\n"
     ]
    },
    {
     "name": "stdout",
     "output_type": "stream",
     "text": [
      "Epoch 250 - Train Loss: 0.4738, Train MSE: 0.4740, Train MAE: 0.4663\n",
      "Epoch 250 - Validation Loss: 1.7278, Validation MSE: 1.7315, Validation MAE: 0.9300\n"
     ]
    },
    {
     "name": "stderr",
     "output_type": "stream",
     "text": [
      "Training Epoch 252: 100%|██████████| 378/378 [00:03<00:00, 103.21it/s]\n",
      "Training Epoch 253: 100%|██████████| 378/378 [00:03<00:00, 99.46it/s] \n",
      "Training Epoch 254: 100%|██████████| 378/378 [00:03<00:00, 103.56it/s]\n",
      "Training Epoch 255: 100%|██████████| 378/378 [00:03<00:00, 101.63it/s]\n",
      "Training Epoch 256: 100%|██████████| 378/378 [00:03<00:00, 102.42it/s]\n",
      "Training Epoch 257: 100%|██████████| 378/378 [00:03<00:00, 99.68it/s] \n",
      "Training Epoch 258: 100%|██████████| 378/378 [00:03<00:00, 101.59it/s]\n",
      "Training Epoch 259: 100%|██████████| 378/378 [00:03<00:00, 104.00it/s]\n",
      "Training Epoch 260: 100%|██████████| 378/378 [00:03<00:00, 100.53it/s]\n",
      "Training Epoch 261: 100%|██████████| 378/378 [00:03<00:00, 104.37it/s]\n"
     ]
    },
    {
     "name": "stdout",
     "output_type": "stream",
     "text": [
      "Epoch 260 - Train Loss: 0.4776, Train MSE: 0.4771, Train MAE: 0.4665\n",
      "Epoch 260 - Validation Loss: 1.6923, Validation MSE: 1.6956, Validation MAE: 0.9220\n"
     ]
    },
    {
     "name": "stderr",
     "output_type": "stream",
     "text": [
      "Training Epoch 262: 100%|██████████| 378/378 [00:03<00:00, 103.01it/s]\n",
      "Training Epoch 263: 100%|██████████| 378/378 [00:03<00:00, 100.95it/s]\n",
      "Training Epoch 264: 100%|██████████| 378/378 [00:03<00:00, 104.28it/s]\n",
      "Training Epoch 265: 100%|██████████| 378/378 [00:03<00:00, 100.76it/s]\n",
      "Training Epoch 266: 100%|██████████| 378/378 [00:03<00:00, 102.67it/s]\n",
      "Training Epoch 267: 100%|██████████| 378/378 [00:03<00:00, 102.61it/s]\n",
      "Training Epoch 268: 100%|██████████| 378/378 [00:03<00:00, 100.96it/s]\n",
      "Training Epoch 269: 100%|██████████| 378/378 [00:03<00:00, 101.78it/s]\n",
      "Training Epoch 270: 100%|██████████| 378/378 [00:03<00:00, 102.32it/s]\n",
      "Training Epoch 271: 100%|██████████| 378/378 [00:03<00:00, 103.72it/s]\n"
     ]
    },
    {
     "name": "stdout",
     "output_type": "stream",
     "text": [
      "Epoch 270 - Train Loss: 0.4811, Train MSE: 0.4813, Train MAE: 0.4675\n",
      "Epoch 270 - Validation Loss: 1.6699, Validation MSE: 1.6735, Validation MAE: 0.9147\n"
     ]
    },
    {
     "name": "stderr",
     "output_type": "stream",
     "text": [
      "Training Epoch 272: 100%|██████████| 378/378 [00:03<00:00, 100.74it/s]\n",
      "Training Epoch 273: 100%|██████████| 378/378 [00:03<00:00, 101.30it/s]\n",
      "Training Epoch 274: 100%|██████████| 378/378 [00:03<00:00, 102.13it/s]\n",
      "Training Epoch 275: 100%|██████████| 378/378 [00:03<00:00, 100.95it/s]\n",
      "Training Epoch 276: 100%|██████████| 378/378 [00:03<00:00, 102.72it/s]\n",
      "Training Epoch 277: 100%|██████████| 378/378 [00:03<00:00, 101.82it/s]\n",
      "Training Epoch 278: 100%|██████████| 378/378 [00:03<00:00, 102.52it/s]\n",
      "Training Epoch 279: 100%|██████████| 378/378 [00:03<00:00, 103.72it/s]\n",
      "Training Epoch 280: 100%|██████████| 378/378 [00:03<00:00, 101.88it/s]\n",
      "Training Epoch 281: 100%|██████████| 378/378 [00:03<00:00, 103.84it/s]\n"
     ]
    },
    {
     "name": "stdout",
     "output_type": "stream",
     "text": [
      "Epoch 280 - Train Loss: 0.4616, Train MSE: 0.4617, Train MAE: 0.4554\n",
      "Epoch 280 - Validation Loss: 1.7029, Validation MSE: 1.7062, Validation MAE: 0.9228\n"
     ]
    },
    {
     "name": "stderr",
     "output_type": "stream",
     "text": [
      "Training Epoch 282: 100%|██████████| 378/378 [00:03<00:00, 99.24it/s] \n",
      "Training Epoch 283: 100%|██████████| 378/378 [00:03<00:00, 104.11it/s]\n",
      "Training Epoch 284: 100%|██████████| 378/378 [00:03<00:00, 104.75it/s]\n",
      "Training Epoch 285: 100%|██████████| 378/378 [00:03<00:00, 101.37it/s]\n",
      "Training Epoch 286: 100%|██████████| 378/378 [00:03<00:00, 101.25it/s]\n",
      "Training Epoch 287: 100%|██████████| 378/378 [00:03<00:00, 103.13it/s]\n",
      "Training Epoch 288: 100%|██████████| 378/378 [00:03<00:00, 103.04it/s]\n",
      "Training Epoch 289: 100%|██████████| 378/378 [00:03<00:00, 103.40it/s]\n",
      "Training Epoch 290: 100%|██████████| 378/378 [00:03<00:00, 101.23it/s]\n",
      "Training Epoch 291: 100%|██████████| 378/378 [00:03<00:00, 102.63it/s]\n"
     ]
    },
    {
     "name": "stdout",
     "output_type": "stream",
     "text": [
      "Epoch 290 - Train Loss: 0.4641, Train MSE: 0.4639, Train MAE: 0.4573\n",
      "Epoch 290 - Validation Loss: 1.6808, Validation MSE: 1.6843, Validation MAE: 0.9206\n"
     ]
    },
    {
     "name": "stderr",
     "output_type": "stream",
     "text": [
      "Training Epoch 292: 100%|██████████| 378/378 [00:03<00:00, 101.17it/s]\n",
      "Training Epoch 293: 100%|██████████| 378/378 [00:03<00:00, 103.35it/s]\n",
      "Training Epoch 294: 100%|██████████| 378/378 [00:03<00:00, 101.53it/s]\n",
      "Training Epoch 295: 100%|██████████| 378/378 [00:03<00:00, 101.22it/s]\n",
      "Training Epoch 296: 100%|██████████| 378/378 [00:03<00:00, 103.49it/s]\n",
      "Training Epoch 297: 100%|██████████| 378/378 [00:03<00:00, 102.47it/s]\n",
      "Training Epoch 298: 100%|██████████| 378/378 [00:03<00:00, 103.53it/s]\n",
      "Training Epoch 299: 100%|██████████| 378/378 [00:03<00:00, 101.41it/s]\n",
      "Training Epoch 300: 100%|██████████| 378/378 [00:03<00:00, 101.42it/s]\n",
      "Training Epoch 301: 100%|██████████| 378/378 [00:03<00:00, 103.83it/s]\n"
     ]
    },
    {
     "name": "stdout",
     "output_type": "stream",
     "text": [
      "Epoch 300 - Train Loss: 0.4608, Train MSE: 0.4610, Train MAE: 0.4534\n",
      "Epoch 300 - Validation Loss: 1.7519, Validation MSE: 1.7553, Validation MAE: 0.9419\n"
     ]
    },
    {
     "name": "stderr",
     "output_type": "stream",
     "text": [
      "Training Epoch 302: 100%|██████████| 378/378 [00:03<00:00, 102.40it/s]\n",
      "Training Epoch 303: 100%|██████████| 378/378 [00:03<00:00, 102.62it/s]\n",
      "Training Epoch 304: 100%|██████████| 378/378 [00:03<00:00, 101.77it/s]\n",
      "Training Epoch 305: 100%|██████████| 378/378 [00:03<00:00, 103.67it/s]\n",
      "Training Epoch 306: 100%|██████████| 378/378 [00:03<00:00, 104.03it/s]\n",
      "Training Epoch 307: 100%|██████████| 378/378 [00:03<00:00, 101.13it/s]\n",
      "Training Epoch 308: 100%|██████████| 378/378 [00:03<00:00, 103.40it/s]\n",
      "Training Epoch 309: 100%|██████████| 378/378 [00:03<00:00, 101.23it/s]\n",
      "Training Epoch 310: 100%|██████████| 378/378 [00:03<00:00, 105.36it/s]\n",
      "Training Epoch 311: 100%|██████████| 378/378 [00:03<00:00, 101.74it/s]\n"
     ]
    },
    {
     "name": "stdout",
     "output_type": "stream",
     "text": [
      "Epoch 310 - Train Loss: 0.4565, Train MSE: 0.4567, Train MAE: 0.4517\n",
      "Epoch 310 - Validation Loss: 1.6898, Validation MSE: 1.6935, Validation MAE: 0.9201\n"
     ]
    },
    {
     "name": "stderr",
     "output_type": "stream",
     "text": [
      "Training Epoch 312: 100%|██████████| 378/378 [00:03<00:00, 102.92it/s]\n",
      "Training Epoch 313: 100%|██████████| 378/378 [00:03<00:00, 104.24it/s]\n",
      "Training Epoch 314: 100%|██████████| 378/378 [00:03<00:00, 103.12it/s]\n",
      "Training Epoch 315: 100%|██████████| 378/378 [00:03<00:00, 104.06it/s]\n",
      "Training Epoch 316: 100%|██████████| 378/378 [00:03<00:00, 100.29it/s]\n",
      "Training Epoch 317: 100%|██████████| 378/378 [00:03<00:00, 102.79it/s]\n",
      "Training Epoch 318: 100%|██████████| 378/378 [00:03<00:00, 103.31it/s]\n",
      "Training Epoch 319: 100%|██████████| 378/378 [00:03<00:00, 103.32it/s]\n",
      "Training Epoch 320: 100%|██████████| 378/378 [00:03<00:00, 100.41it/s]\n",
      "Training Epoch 321: 100%|██████████| 378/378 [00:03<00:00, 101.67it/s]\n"
     ]
    },
    {
     "name": "stdout",
     "output_type": "stream",
     "text": [
      "Epoch 320 - Train Loss: 0.4519, Train MSE: 0.4517, Train MAE: 0.4470\n",
      "Epoch 320 - Validation Loss: 1.6341, Validation MSE: 1.6373, Validation MAE: 0.9020\n"
     ]
    },
    {
     "name": "stderr",
     "output_type": "stream",
     "text": [
      "Training Epoch 322: 100%|██████████| 378/378 [00:03<00:00, 104.66it/s]\n",
      "Training Epoch 323: 100%|██████████| 378/378 [00:03<00:00, 101.32it/s]\n",
      "Training Epoch 324: 100%|██████████| 378/378 [00:03<00:00, 100.14it/s]\n",
      "Training Epoch 325: 100%|██████████| 378/378 [00:03<00:00, 103.27it/s]\n",
      "Training Epoch 326: 100%|██████████| 378/378 [00:03<00:00, 101.68it/s]\n",
      "Training Epoch 327: 100%|██████████| 378/378 [00:03<00:00, 103.87it/s]\n",
      "Training Epoch 328: 100%|██████████| 378/378 [00:03<00:00, 103.04it/s]\n",
      "Training Epoch 329: 100%|██████████| 378/378 [00:03<00:00, 102.83it/s]\n",
      "Training Epoch 330: 100%|██████████| 378/378 [00:03<00:00, 101.22it/s]\n",
      "Training Epoch 331: 100%|██████████| 378/378 [00:03<00:00, 101.99it/s]\n"
     ]
    },
    {
     "name": "stdout",
     "output_type": "stream",
     "text": [
      "Epoch 330 - Train Loss: 0.4541, Train MSE: 0.4541, Train MAE: 0.4470\n",
      "Epoch 330 - Validation Loss: 1.7632, Validation MSE: 1.7668, Validation MAE: 0.9378\n"
     ]
    },
    {
     "name": "stderr",
     "output_type": "stream",
     "text": [
      "Training Epoch 332: 100%|██████████| 378/378 [00:03<00:00, 101.87it/s]\n",
      "Training Epoch 333: 100%|██████████| 378/378 [00:03<00:00, 104.63it/s]\n",
      "Training Epoch 334: 100%|██████████| 378/378 [00:03<00:00, 102.78it/s]\n",
      "Training Epoch 335: 100%|██████████| 378/378 [00:03<00:00, 103.69it/s]\n",
      "Training Epoch 336: 100%|██████████| 378/378 [00:03<00:00, 100.98it/s]\n",
      "Training Epoch 337: 100%|██████████| 378/378 [00:03<00:00, 103.41it/s]\n",
      "Training Epoch 338: 100%|██████████| 378/378 [00:03<00:00, 101.64it/s]\n",
      "Training Epoch 339: 100%|██████████| 378/378 [00:03<00:00, 103.64it/s]\n",
      "Training Epoch 340: 100%|██████████| 378/378 [00:03<00:00, 104.36it/s]\n",
      "Training Epoch 341: 100%|██████████| 378/378 [00:03<00:00, 100.21it/s]\n"
     ]
    },
    {
     "name": "stdout",
     "output_type": "stream",
     "text": [
      "Epoch 340 - Train Loss: 0.4505, Train MSE: 0.4498, Train MAE: 0.4436\n",
      "Epoch 340 - Validation Loss: 1.7316, Validation MSE: 1.7350, Validation MAE: 0.9251\n"
     ]
    },
    {
     "name": "stderr",
     "output_type": "stream",
     "text": [
      "Training Epoch 342: 100%|██████████| 378/378 [00:03<00:00, 102.68it/s]\n",
      "Training Epoch 343: 100%|██████████| 378/378 [00:03<00:00, 101.90it/s]\n",
      "Training Epoch 344: 100%|██████████| 378/378 [00:03<00:00, 103.81it/s]\n",
      "Training Epoch 345: 100%|██████████| 378/378 [00:03<00:00, 102.26it/s]\n",
      "Training Epoch 346: 100%|██████████| 378/378 [00:03<00:00, 102.49it/s]\n",
      "Training Epoch 347: 100%|██████████| 378/378 [00:03<00:00, 103.04it/s]\n",
      "Training Epoch 348: 100%|██████████| 378/378 [00:03<00:00, 101.27it/s]\n",
      "Training Epoch 349: 100%|██████████| 378/378 [00:03<00:00, 103.75it/s]\n",
      "Training Epoch 350: 100%|██████████| 378/378 [00:03<00:00, 103.71it/s]\n",
      "Training Epoch 351: 100%|██████████| 378/378 [00:03<00:00, 102.22it/s]\n"
     ]
    },
    {
     "name": "stdout",
     "output_type": "stream",
     "text": [
      "Epoch 350 - Train Loss: 0.4368, Train MSE: 0.4367, Train MAE: 0.4361\n",
      "Epoch 350 - Validation Loss: 1.7274, Validation MSE: 1.7311, Validation MAE: 0.9336\n"
     ]
    },
    {
     "name": "stderr",
     "output_type": "stream",
     "text": [
      "Training Epoch 352: 100%|██████████| 378/378 [00:03<00:00, 103.38it/s]\n",
      "Training Epoch 353: 100%|██████████| 378/378 [00:03<00:00, 101.86it/s]\n",
      "Training Epoch 354: 100%|██████████| 378/378 [00:03<00:00, 103.31it/s]\n",
      "Training Epoch 355: 100%|██████████| 378/378 [00:03<00:00, 104.23it/s]\n",
      "Training Epoch 356: 100%|██████████| 378/378 [00:03<00:00, 102.55it/s]\n",
      "Training Epoch 357: 100%|██████████| 378/378 [00:03<00:00, 102.93it/s]\n",
      "Training Epoch 358: 100%|██████████| 378/378 [00:03<00:00, 103.21it/s]\n",
      "Training Epoch 359: 100%|██████████| 378/378 [00:03<00:00, 101.70it/s]\n",
      "Training Epoch 360: 100%|██████████| 378/378 [00:03<00:00, 103.26it/s]\n",
      "Training Epoch 361: 100%|██████████| 378/378 [00:03<00:00, 102.36it/s]\n"
     ]
    },
    {
     "name": "stdout",
     "output_type": "stream",
     "text": [
      "Epoch 360 - Train Loss: 0.4421, Train MSE: 0.4419, Train MAE: 0.4381\n",
      "Epoch 360 - Validation Loss: 1.6777, Validation MSE: 1.6817, Validation MAE: 0.9171\n"
     ]
    },
    {
     "name": "stderr",
     "output_type": "stream",
     "text": [
      "Training Epoch 362: 100%|██████████| 378/378 [00:03<00:00, 103.50it/s]\n",
      "Training Epoch 363: 100%|██████████| 378/378 [00:03<00:00, 101.58it/s]\n",
      "Training Epoch 364: 100%|██████████| 378/378 [00:03<00:00, 101.85it/s]\n",
      "Training Epoch 365: 100%|██████████| 378/378 [00:03<00:00, 104.17it/s]\n",
      "Training Epoch 366: 100%|██████████| 378/378 [00:03<00:00, 100.02it/s]\n",
      "Training Epoch 367: 100%|██████████| 378/378 [00:03<00:00, 103.20it/s]\n",
      "Training Epoch 368: 100%|██████████| 378/378 [00:03<00:00, 102.98it/s]\n",
      "Training Epoch 369: 100%|██████████| 378/378 [00:03<00:00, 102.57it/s]\n",
      "Training Epoch 370: 100%|██████████| 378/378 [00:03<00:00, 102.56it/s]\n",
      "Training Epoch 371: 100%|██████████| 378/378 [00:03<00:00, 102.18it/s]\n"
     ]
    },
    {
     "name": "stdout",
     "output_type": "stream",
     "text": [
      "Epoch 370 - Train Loss: 0.4373, Train MSE: 0.4373, Train MAE: 0.4344\n",
      "Epoch 370 - Validation Loss: 1.6987, Validation MSE: 1.7023, Validation MAE: 0.9180\n"
     ]
    },
    {
     "name": "stderr",
     "output_type": "stream",
     "text": [
      "Training Epoch 372: 100%|██████████| 378/378 [00:03<00:00, 103.79it/s]\n",
      "Training Epoch 373: 100%|██████████| 378/378 [00:03<00:00, 102.70it/s]\n",
      "Training Epoch 374: 100%|██████████| 378/378 [00:03<00:00, 102.69it/s]\n",
      "Training Epoch 375: 100%|██████████| 378/378 [00:03<00:00, 104.86it/s]\n",
      "Training Epoch 376: 100%|██████████| 378/378 [00:03<00:00, 101.23it/s]\n",
      "Training Epoch 377: 100%|██████████| 378/378 [00:03<00:00, 104.08it/s]\n",
      "Training Epoch 378: 100%|██████████| 378/378 [00:03<00:00, 102.98it/s]\n",
      "Training Epoch 379: 100%|██████████| 378/378 [00:03<00:00, 102.82it/s]\n",
      "Training Epoch 380: 100%|██████████| 378/378 [00:03<00:00, 104.59it/s]\n",
      "Training Epoch 381: 100%|██████████| 378/378 [00:03<00:00, 101.40it/s]\n"
     ]
    },
    {
     "name": "stdout",
     "output_type": "stream",
     "text": [
      "Epoch 380 - Train Loss: 0.4325, Train MSE: 0.4328, Train MAE: 0.4320\n",
      "Epoch 380 - Validation Loss: 1.6804, Validation MSE: 1.6834, Validation MAE: 0.9109\n"
     ]
    },
    {
     "name": "stderr",
     "output_type": "stream",
     "text": [
      "Training Epoch 382: 100%|██████████| 378/378 [00:03<00:00, 104.16it/s]\n",
      "Training Epoch 383: 100%|██████████| 378/378 [00:03<00:00, 100.89it/s]\n",
      "Training Epoch 384: 100%|██████████| 378/378 [00:03<00:00, 102.62it/s]\n",
      "Training Epoch 385: 100%|██████████| 378/378 [00:03<00:00, 105.34it/s]\n",
      "Training Epoch 386: 100%|██████████| 378/378 [00:03<00:00, 102.22it/s]\n",
      "Training Epoch 387: 100%|██████████| 378/378 [00:03<00:00, 101.81it/s]\n",
      "Training Epoch 388: 100%|██████████| 378/378 [00:03<00:00, 102.07it/s]\n",
      "Training Epoch 389: 100%|██████████| 378/378 [00:03<00:00, 103.03it/s]\n",
      "Training Epoch 390: 100%|██████████| 378/378 [00:03<00:00, 101.85it/s]\n",
      "Training Epoch 391: 100%|██████████| 378/378 [00:03<00:00, 102.44it/s]\n"
     ]
    },
    {
     "name": "stdout",
     "output_type": "stream",
     "text": [
      "Epoch 390 - Train Loss: 0.4350, Train MSE: 0.4352, Train MAE: 0.4329\n",
      "Epoch 390 - Validation Loss: 1.6835, Validation MSE: 1.6871, Validation MAE: 0.9156\n"
     ]
    },
    {
     "name": "stderr",
     "output_type": "stream",
     "text": [
      "Training Epoch 392: 100%|██████████| 378/378 [00:03<00:00, 102.70it/s]\n",
      "Training Epoch 393: 100%|██████████| 378/378 [00:03<00:00, 102.82it/s]\n",
      "Training Epoch 394: 100%|██████████| 378/378 [00:03<00:00, 101.21it/s]\n",
      "Training Epoch 395: 100%|██████████| 378/378 [00:03<00:00, 102.10it/s]\n",
      "Training Epoch 396: 100%|██████████| 378/378 [00:03<00:00, 102.65it/s]\n",
      "Training Epoch 397: 100%|██████████| 378/378 [00:03<00:00, 102.84it/s]\n",
      "Training Epoch 398: 100%|██████████| 378/378 [00:03<00:00, 101.00it/s]\n",
      "Training Epoch 399: 100%|██████████| 378/378 [00:03<00:00, 102.84it/s]\n",
      "Training Epoch 400: 100%|██████████| 378/378 [00:03<00:00, 102.69it/s]\n",
      "Training Epoch 401: 100%|██████████| 378/378 [00:03<00:00, 103.43it/s]\n"
     ]
    },
    {
     "name": "stdout",
     "output_type": "stream",
     "text": [
      "Epoch 400 - Train Loss: 0.4320, Train MSE: 0.4323, Train MAE: 0.4296\n",
      "Epoch 400 - Validation Loss: 1.6794, Validation MSE: 1.6828, Validation MAE: 0.9136\n"
     ]
    },
    {
     "name": "stderr",
     "output_type": "stream",
     "text": [
      "Training Epoch 402: 100%|██████████| 378/378 [00:03<00:00, 103.60it/s]\n",
      "Training Epoch 403: 100%|██████████| 378/378 [00:03<00:00, 102.25it/s]\n",
      "Training Epoch 404: 100%|██████████| 378/378 [00:03<00:00, 102.91it/s]\n",
      "Training Epoch 405: 100%|██████████| 378/378 [00:03<00:00, 103.13it/s]\n",
      "Training Epoch 406: 100%|██████████| 378/378 [00:03<00:00, 101.10it/s]\n",
      "Training Epoch 407: 100%|██████████| 378/378 [00:03<00:00, 103.64it/s]\n",
      "Training Epoch 408: 100%|██████████| 378/378 [00:03<00:00, 101.76it/s]\n",
      "Training Epoch 409: 100%|██████████| 378/378 [00:03<00:00, 103.40it/s]\n",
      "Training Epoch 410: 100%|██████████| 378/378 [00:03<00:00, 101.75it/s]\n",
      "Training Epoch 411: 100%|██████████| 378/378 [00:03<00:00, 101.78it/s]\n"
     ]
    },
    {
     "name": "stdout",
     "output_type": "stream",
     "text": [
      "Epoch 410 - Train Loss: 0.4232, Train MSE: 0.4233, Train MAE: 0.4268\n",
      "Epoch 410 - Validation Loss: 1.7218, Validation MSE: 1.7254, Validation MAE: 0.9291\n"
     ]
    },
    {
     "name": "stderr",
     "output_type": "stream",
     "text": [
      "Training Epoch 412: 100%|██████████| 378/378 [00:03<00:00, 104.31it/s]\n",
      "Training Epoch 413: 100%|██████████| 378/378 [00:03<00:00, 101.33it/s]\n",
      "Training Epoch 414: 100%|██████████| 378/378 [00:03<00:00, 102.93it/s]\n",
      "Training Epoch 415: 100%|██████████| 378/378 [00:03<00:00, 102.32it/s]\n",
      "Training Epoch 416: 100%|██████████| 378/378 [00:03<00:00, 102.73it/s]\n",
      "Training Epoch 417: 100%|██████████| 378/378 [00:03<00:00, 102.99it/s]\n",
      "Training Epoch 418: 100%|██████████| 378/378 [00:03<00:00, 104.53it/s]\n",
      "Training Epoch 419: 100%|██████████| 378/378 [00:03<00:00, 104.01it/s]\n",
      "Training Epoch 420: 100%|██████████| 378/378 [00:03<00:00, 101.68it/s]\n",
      "Training Epoch 421: 100%|██████████| 378/378 [00:03<00:00, 101.83it/s]\n"
     ]
    },
    {
     "name": "stdout",
     "output_type": "stream",
     "text": [
      "Epoch 420 - Train Loss: 0.4269, Train MSE: 0.4271, Train MAE: 0.4244\n",
      "Epoch 420 - Validation Loss: 1.6519, Validation MSE: 1.6556, Validation MAE: 0.9007\n"
     ]
    },
    {
     "name": "stderr",
     "output_type": "stream",
     "text": [
      "Training Epoch 422: 100%|██████████| 378/378 [00:03<00:00, 103.05it/s]\n",
      "Training Epoch 423: 100%|██████████| 378/378 [00:03<00:00, 102.64it/s]\n",
      "Training Epoch 424: 100%|██████████| 378/378 [00:03<00:00, 104.68it/s]\n",
      "Training Epoch 425: 100%|██████████| 378/378 [00:03<00:00, 102.84it/s]\n",
      "Training Epoch 426: 100%|██████████| 378/378 [00:03<00:00, 103.35it/s]\n",
      "Training Epoch 427: 100%|██████████| 378/378 [00:03<00:00, 103.07it/s]\n",
      "Training Epoch 428: 100%|██████████| 378/378 [00:03<00:00, 101.85it/s]\n",
      "Training Epoch 429: 100%|██████████| 378/378 [00:03<00:00, 101.57it/s]\n",
      "Training Epoch 430: 100%|██████████| 378/378 [00:03<00:00, 98.62it/s] \n",
      "Training Epoch 431: 100%|██████████| 378/378 [00:03<00:00, 102.28it/s]\n"
     ]
    },
    {
     "name": "stdout",
     "output_type": "stream",
     "text": [
      "Epoch 430 - Train Loss: 0.4204, Train MSE: 0.4207, Train MAE: 0.4215\n",
      "Epoch 430 - Validation Loss: 1.6603, Validation MSE: 1.6633, Validation MAE: 0.9075\n"
     ]
    },
    {
     "name": "stderr",
     "output_type": "stream",
     "text": [
      "Training Epoch 432: 100%|██████████| 378/378 [00:03<00:00, 103.75it/s]\n",
      "Training Epoch 433: 100%|██████████| 378/378 [00:03<00:00, 102.51it/s]\n",
      "Training Epoch 434: 100%|██████████| 378/378 [00:03<00:00, 105.28it/s]\n",
      "Training Epoch 435: 100%|██████████| 378/378 [00:03<00:00, 103.10it/s]\n",
      "Training Epoch 436: 100%|██████████| 378/378 [00:03<00:00, 100.71it/s]\n",
      "Training Epoch 437: 100%|██████████| 378/378 [00:03<00:00, 104.27it/s]\n",
      "Training Epoch 438: 100%|██████████| 378/378 [00:03<00:00, 102.85it/s]\n",
      "Training Epoch 439: 100%|██████████| 378/378 [00:03<00:00, 105.17it/s]\n",
      "Training Epoch 440: 100%|██████████| 378/378 [00:03<00:00, 102.44it/s]\n",
      "Training Epoch 441: 100%|██████████| 378/378 [00:03<00:00, 102.13it/s]\n"
     ]
    },
    {
     "name": "stdout",
     "output_type": "stream",
     "text": [
      "Epoch 440 - Train Loss: 0.4222, Train MSE: 0.4223, Train MAE: 0.4230\n",
      "Epoch 440 - Validation Loss: 1.6660, Validation MSE: 1.6695, Validation MAE: 0.9069\n"
     ]
    },
    {
     "name": "stderr",
     "output_type": "stream",
     "text": [
      "Training Epoch 442: 100%|██████████| 378/378 [00:03<00:00, 102.78it/s]\n",
      "Training Epoch 443: 100%|██████████| 378/378 [00:03<00:00, 104.11it/s]\n",
      "Training Epoch 444: 100%|██████████| 378/378 [00:03<00:00, 101.86it/s]\n",
      "Training Epoch 445: 100%|██████████| 378/378 [00:03<00:00, 100.95it/s]\n",
      "Training Epoch 446: 100%|██████████| 378/378 [00:03<00:00, 102.54it/s]\n",
      "Training Epoch 447: 100%|██████████| 378/378 [00:03<00:00, 105.64it/s]\n",
      "Training Epoch 448: 100%|██████████| 378/378 [00:03<00:00, 101.19it/s]\n",
      "Training Epoch 449: 100%|██████████| 378/378 [00:03<00:00, 102.67it/s]\n",
      "Training Epoch 450: 100%|██████████| 378/378 [00:03<00:00, 101.95it/s]\n",
      "Training Epoch 451: 100%|██████████| 378/378 [00:03<00:00, 101.08it/s]\n"
     ]
    },
    {
     "name": "stdout",
     "output_type": "stream",
     "text": [
      "Epoch 450 - Train Loss: 0.4169, Train MSE: 0.4171, Train MAE: 0.4223\n",
      "Epoch 450 - Validation Loss: 1.6652, Validation MSE: 1.6689, Validation MAE: 0.9041\n"
     ]
    },
    {
     "name": "stderr",
     "output_type": "stream",
     "text": [
      "Training Epoch 452: 100%|██████████| 378/378 [00:03<00:00, 103.57it/s]\n",
      "Training Epoch 453: 100%|██████████| 378/378 [00:03<00:00, 102.55it/s]\n",
      "Training Epoch 454: 100%|██████████| 378/378 [00:03<00:00, 101.72it/s]\n",
      "Training Epoch 455: 100%|██████████| 378/378 [00:03<00:00, 103.34it/s]\n",
      "Training Epoch 456: 100%|██████████| 378/378 [00:03<00:00, 102.12it/s]\n",
      "Training Epoch 457: 100%|██████████| 378/378 [00:03<00:00, 105.09it/s]\n",
      "Training Epoch 458: 100%|██████████| 378/378 [00:03<00:00, 103.09it/s]\n",
      "Training Epoch 459: 100%|██████████| 378/378 [00:03<00:00, 102.72it/s]\n",
      "Training Epoch 460: 100%|██████████| 378/378 [00:03<00:00, 103.14it/s]\n",
      "Training Epoch 461: 100%|██████████| 378/378 [00:03<00:00, 103.47it/s]\n"
     ]
    },
    {
     "name": "stdout",
     "output_type": "stream",
     "text": [
      "Epoch 460 - Train Loss: 0.4206, Train MSE: 0.4207, Train MAE: 0.4210\n",
      "Epoch 460 - Validation Loss: 1.6586, Validation MSE: 1.6622, Validation MAE: 0.9117\n"
     ]
    },
    {
     "name": "stderr",
     "output_type": "stream",
     "text": [
      "Training Epoch 462: 100%|██████████| 378/378 [00:03<00:00, 102.72it/s]\n",
      "Training Epoch 463: 100%|██████████| 378/378 [00:03<00:00, 102.32it/s]\n",
      "Training Epoch 464: 100%|██████████| 378/378 [00:03<00:00, 102.26it/s]\n",
      "Training Epoch 465: 100%|██████████| 378/378 [00:03<00:00, 101.97it/s]\n",
      "Training Epoch 466: 100%|██████████| 378/378 [00:03<00:00, 103.79it/s]\n",
      "Training Epoch 467: 100%|██████████| 378/378 [00:03<00:00, 101.94it/s]\n",
      "Training Epoch 468: 100%|██████████| 378/378 [00:03<00:00, 102.40it/s]\n",
      "Training Epoch 469: 100%|██████████| 378/378 [00:03<00:00, 102.78it/s]\n",
      "Training Epoch 470: 100%|██████████| 378/378 [00:03<00:00, 103.44it/s]\n",
      "Training Epoch 471: 100%|██████████| 378/378 [00:03<00:00, 102.27it/s]\n"
     ]
    },
    {
     "name": "stdout",
     "output_type": "stream",
     "text": [
      "Epoch 470 - Train Loss: 0.4125, Train MSE: 0.4126, Train MAE: 0.4171\n",
      "Epoch 470 - Validation Loss: 1.7077, Validation MSE: 1.7119, Validation MAE: 0.9278\n"
     ]
    },
    {
     "name": "stderr",
     "output_type": "stream",
     "text": [
      "Training Epoch 472: 100%|██████████| 378/378 [00:03<00:00, 104.63it/s]\n",
      "Training Epoch 473: 100%|██████████| 378/378 [00:03<00:00, 102.86it/s]\n",
      "Training Epoch 474: 100%|██████████| 378/378 [00:03<00:00, 103.01it/s]\n",
      "Training Epoch 475: 100%|██████████| 378/378 [00:03<00:00, 103.40it/s]\n",
      "Training Epoch 476: 100%|██████████| 378/378 [00:03<00:00, 103.27it/s]\n",
      "Training Epoch 477: 100%|██████████| 378/378 [00:03<00:00, 103.95it/s]\n",
      "Training Epoch 478: 100%|██████████| 378/378 [00:03<00:00, 102.16it/s]\n",
      "Training Epoch 479: 100%|██████████| 378/378 [00:03<00:00, 102.10it/s]\n",
      "Training Epoch 480: 100%|██████████| 378/378 [00:03<00:00, 103.31it/s]\n",
      "Training Epoch 481: 100%|██████████| 378/378 [00:03<00:00, 103.39it/s]\n"
     ]
    },
    {
     "name": "stdout",
     "output_type": "stream",
     "text": [
      "Epoch 480 - Train Loss: 0.4168, Train MSE: 0.4171, Train MAE: 0.4178\n",
      "Epoch 480 - Validation Loss: 1.6944, Validation MSE: 1.6986, Validation MAE: 0.9225\n"
     ]
    },
    {
     "name": "stderr",
     "output_type": "stream",
     "text": [
      "Training Epoch 482: 100%|██████████| 378/378 [00:03<00:00, 102.39it/s]\n",
      "Training Epoch 483: 100%|██████████| 378/378 [00:03<00:00, 103.69it/s]\n",
      "Training Epoch 484: 100%|██████████| 378/378 [00:03<00:00, 101.91it/s]\n",
      "Training Epoch 485: 100%|██████████| 378/378 [00:04<00:00, 92.75it/s] \n",
      "Training Epoch 486: 100%|██████████| 378/378 [00:03<00:00, 99.84it/s] \n",
      "Training Epoch 487: 100%|██████████| 378/378 [00:04<00:00, 92.61it/s] \n",
      "Training Epoch 488: 100%|██████████| 378/378 [00:04<00:00, 88.72it/s] \n",
      "Training Epoch 489: 100%|██████████| 378/378 [00:04<00:00, 89.30it/s] \n",
      "Training Epoch 490: 100%|██████████| 378/378 [00:03<00:00, 96.19it/s] \n",
      "Training Epoch 491: 100%|██████████| 378/378 [00:03<00:00, 95.40it/s] \n"
     ]
    },
    {
     "name": "stdout",
     "output_type": "stream",
     "text": [
      "Epoch 490 - Train Loss: 0.4057, Train MSE: 0.4055, Train MAE: 0.4107\n",
      "Epoch 490 - Validation Loss: 1.6651, Validation MSE: 1.6692, Validation MAE: 0.9089\n"
     ]
    },
    {
     "name": "stderr",
     "output_type": "stream",
     "text": [
      "Training Epoch 492: 100%|██████████| 378/378 [00:03<00:00, 96.93it/s] \n",
      "Training Epoch 493: 100%|██████████| 378/378 [00:03<00:00, 95.41it/s] \n",
      "Training Epoch 494: 100%|██████████| 378/378 [00:03<00:00, 94.89it/s] \n",
      "Training Epoch 495: 100%|██████████| 378/378 [00:04<00:00, 93.17it/s]\n",
      "Training Epoch 496: 100%|██████████| 378/378 [00:03<00:00, 96.93it/s] \n",
      "Training Epoch 497: 100%|██████████| 378/378 [00:03<00:00, 101.29it/s]\n",
      "Training Epoch 498: 100%|██████████| 378/378 [00:03<00:00, 97.64it/s] \n",
      "Training Epoch 499: 100%|██████████| 378/378 [00:04<00:00, 93.83it/s] \n",
      "Training Epoch 500: 100%|██████████| 378/378 [00:04<00:00, 91.89it/s]\n",
      "Training Epoch 501: 100%|██████████| 378/378 [00:04<00:00, 92.25it/s] \n"
     ]
    },
    {
     "name": "stdout",
     "output_type": "stream",
     "text": [
      "Epoch 500 - Train Loss: 0.4093, Train MSE: 0.4093, Train MAE: 0.4144\n",
      "Epoch 500 - Validation Loss: 1.6854, Validation MSE: 1.6884, Validation MAE: 0.9202\n"
     ]
    },
    {
     "name": "stderr",
     "output_type": "stream",
     "text": [
      "Training Epoch 502: 100%|██████████| 378/378 [00:03<00:00, 94.86it/s] \n",
      "Training Epoch 503: 100%|██████████| 378/378 [00:03<00:00, 97.10it/s] \n",
      "Training Epoch 504: 100%|██████████| 378/378 [00:03<00:00, 96.15it/s] \n",
      "Training Epoch 505: 100%|██████████| 378/378 [00:04<00:00, 87.28it/s]\n",
      "Training Epoch 506: 100%|██████████| 378/378 [00:03<00:00, 95.06it/s] \n",
      "Training Epoch 507: 100%|██████████| 378/378 [00:04<00:00, 92.26it/s]\n",
      "Training Epoch 508: 100%|██████████| 378/378 [00:04<00:00, 94.16it/s]\n",
      "Training Epoch 509: 100%|██████████| 378/378 [00:03<00:00, 97.26it/s] \n",
      "Training Epoch 510: 100%|██████████| 378/378 [00:03<00:00, 96.63it/s] \n",
      "Training Epoch 511: 100%|██████████| 378/378 [00:03<00:00, 97.92it/s] \n"
     ]
    },
    {
     "name": "stdout",
     "output_type": "stream",
     "text": [
      "Epoch 510 - Train Loss: 0.4048, Train MSE: 0.4044, Train MAE: 0.4096\n",
      "Epoch 510 - Validation Loss: 1.6845, Validation MSE: 1.6883, Validation MAE: 0.9195\n"
     ]
    },
    {
     "name": "stderr",
     "output_type": "stream",
     "text": [
      "Training Epoch 512: 100%|██████████| 378/378 [00:03<00:00, 99.23it/s] \n",
      "Training Epoch 513: 100%|██████████| 378/378 [00:03<00:00, 99.73it/s] \n",
      "Training Epoch 514: 100%|██████████| 378/378 [00:03<00:00, 98.16it/s] \n",
      "Training Epoch 515: 100%|██████████| 378/378 [00:03<00:00, 97.48it/s] \n",
      "Training Epoch 516: 100%|██████████| 378/378 [00:04<00:00, 91.88it/s] \n",
      "Training Epoch 517: 100%|██████████| 378/378 [00:03<00:00, 95.20it/s] \n",
      "Training Epoch 518: 100%|██████████| 378/378 [00:04<00:00, 92.00it/s] \n",
      "Training Epoch 519: 100%|██████████| 378/378 [00:04<00:00, 91.56it/s]\n",
      "Training Epoch 520: 100%|██████████| 378/378 [00:03<00:00, 98.18it/s] \n",
      "Training Epoch 521: 100%|██████████| 378/378 [00:03<00:00, 99.89it/s] \n"
     ]
    },
    {
     "name": "stdout",
     "output_type": "stream",
     "text": [
      "Epoch 520 - Train Loss: 0.4005, Train MSE: 0.4006, Train MAE: 0.4061\n",
      "Epoch 520 - Validation Loss: 1.6694, Validation MSE: 1.6729, Validation MAE: 0.9132\n"
     ]
    },
    {
     "name": "stderr",
     "output_type": "stream",
     "text": [
      "Training Epoch 522: 100%|██████████| 378/378 [00:03<00:00, 95.96it/s] \n",
      "Training Epoch 523: 100%|██████████| 378/378 [00:03<00:00, 97.41it/s] \n",
      "Training Epoch 524: 100%|██████████| 378/378 [00:03<00:00, 97.21it/s] \n",
      "Training Epoch 525: 100%|██████████| 378/378 [00:03<00:00, 98.48it/s] \n",
      "Training Epoch 526: 100%|██████████| 378/378 [00:04<00:00, 93.07it/s] \n",
      "Training Epoch 527: 100%|██████████| 378/378 [00:03<00:00, 99.28it/s] \n",
      "Training Epoch 528: 100%|██████████| 378/378 [00:04<00:00, 94.49it/s] \n",
      "Training Epoch 529: 100%|██████████| 378/378 [00:03<00:00, 96.38it/s] \n",
      "Training Epoch 530: 100%|██████████| 378/378 [00:03<00:00, 95.73it/s] \n",
      "Training Epoch 531: 100%|██████████| 378/378 [00:03<00:00, 99.13it/s] \n"
     ]
    },
    {
     "name": "stdout",
     "output_type": "stream",
     "text": [
      "Epoch 530 - Train Loss: 0.4019, Train MSE: 0.4017, Train MAE: 0.4072\n",
      "Epoch 530 - Validation Loss: 1.6557, Validation MSE: 1.6595, Validation MAE: 0.9116\n"
     ]
    },
    {
     "name": "stderr",
     "output_type": "stream",
     "text": [
      "Training Epoch 532: 100%|██████████| 378/378 [00:03<00:00, 100.04it/s]\n",
      "Training Epoch 533: 100%|██████████| 378/378 [00:03<00:00, 100.64it/s]\n",
      "Training Epoch 534: 100%|██████████| 378/378 [00:03<00:00, 98.99it/s] \n",
      "Training Epoch 535: 100%|██████████| 378/378 [00:04<00:00, 92.20it/s] \n",
      "Training Epoch 536: 100%|██████████| 378/378 [00:03<00:00, 95.97it/s] \n",
      "Training Epoch 537: 100%|██████████| 378/378 [00:03<00:00, 95.31it/s] \n",
      "Training Epoch 538: 100%|██████████| 378/378 [00:03<00:00, 98.96it/s] \n",
      "Training Epoch 539: 100%|██████████| 378/378 [00:03<00:00, 101.35it/s]\n",
      "Training Epoch 540: 100%|██████████| 378/378 [00:03<00:00, 98.63it/s] \n",
      "Training Epoch 541: 100%|██████████| 378/378 [00:03<00:00, 101.47it/s]\n"
     ]
    },
    {
     "name": "stdout",
     "output_type": "stream",
     "text": [
      "Epoch 540 - Train Loss: 0.4013, Train MSE: 0.4012, Train MAE: 0.4077\n",
      "Epoch 540 - Validation Loss: 1.6554, Validation MSE: 1.6587, Validation MAE: 0.9054\n"
     ]
    },
    {
     "name": "stderr",
     "output_type": "stream",
     "text": [
      "Training Epoch 542: 100%|██████████| 378/378 [00:03<00:00, 102.51it/s]\n",
      "Training Epoch 543: 100%|██████████| 378/378 [00:03<00:00, 99.95it/s] \n",
      "Training Epoch 544: 100%|██████████| 378/378 [00:03<00:00, 98.82it/s] \n",
      "Training Epoch 545: 100%|██████████| 378/378 [00:05<00:00, 73.24it/s] \n",
      "Training Epoch 546: 100%|██████████| 378/378 [00:04<00:00, 82.30it/s]\n",
      "Training Epoch 547: 100%|██████████| 378/378 [00:04<00:00, 80.20it/s]\n",
      "Training Epoch 548: 100%|██████████| 378/378 [00:04<00:00, 90.32it/s] \n",
      "Training Epoch 549: 100%|██████████| 378/378 [00:06<00:00, 62.42it/s]\n",
      "Training Epoch 550: 100%|██████████| 378/378 [00:05<00:00, 73.38it/s]\n",
      "Training Epoch 551: 100%|██████████| 378/378 [00:04<00:00, 79.79it/s]\n"
     ]
    },
    {
     "name": "stdout",
     "output_type": "stream",
     "text": [
      "Epoch 550 - Train Loss: 0.3962, Train MSE: 0.3962, Train MAE: 0.4051\n",
      "Epoch 550 - Validation Loss: 1.7177, Validation MSE: 1.7213, Validation MAE: 0.9309\n"
     ]
    },
    {
     "name": "stderr",
     "output_type": "stream",
     "text": [
      "Training Epoch 552: 100%|██████████| 378/378 [00:04<00:00, 79.55it/s]\n",
      "Training Epoch 553: 100%|██████████| 378/378 [00:04<00:00, 80.14it/s]\n",
      "Training Epoch 554: 100%|██████████| 378/378 [00:04<00:00, 82.08it/s]\n",
      "Training Epoch 555: 100%|██████████| 378/378 [00:04<00:00, 83.57it/s]\n",
      "Training Epoch 556: 100%|██████████| 378/378 [00:04<00:00, 82.23it/s]\n",
      "Training Epoch 557: 100%|██████████| 378/378 [00:04<00:00, 85.87it/s]\n",
      "Training Epoch 558: 100%|██████████| 378/378 [00:04<00:00, 84.84it/s]\n",
      "Training Epoch 559: 100%|██████████| 378/378 [00:04<00:00, 82.02it/s]\n",
      "Training Epoch 560: 100%|██████████| 378/378 [00:04<00:00, 75.69it/s]\n",
      "Training Epoch 561: 100%|██████████| 378/378 [00:04<00:00, 76.27it/s]\n"
     ]
    },
    {
     "name": "stdout",
     "output_type": "stream",
     "text": [
      "Epoch 560 - Train Loss: 0.3935, Train MSE: 0.3937, Train MAE: 0.4019\n",
      "Epoch 560 - Validation Loss: 1.7067, Validation MSE: 1.7105, Validation MAE: 0.9221\n"
     ]
    },
    {
     "name": "stderr",
     "output_type": "stream",
     "text": [
      "Training Epoch 562: 100%|██████████| 378/378 [00:05<00:00, 71.73it/s]\n",
      "Training Epoch 563: 100%|██████████| 378/378 [00:05<00:00, 74.32it/s]\n",
      "Training Epoch 564: 100%|██████████| 378/378 [00:05<00:00, 74.23it/s]\n",
      "Training Epoch 565: 100%|██████████| 378/378 [00:05<00:00, 71.61it/s]\n",
      "Training Epoch 566: 100%|██████████| 378/378 [00:05<00:00, 66.93it/s]\n",
      "Training Epoch 567: 100%|██████████| 378/378 [00:05<00:00, 73.55it/s]\n",
      "Training Epoch 568: 100%|██████████| 378/378 [00:05<00:00, 74.34it/s]\n",
      "Training Epoch 569: 100%|██████████| 378/378 [00:05<00:00, 72.52it/s]\n",
      "Training Epoch 570: 100%|██████████| 378/378 [00:05<00:00, 71.60it/s]\n",
      "Training Epoch 571: 100%|██████████| 378/378 [00:05<00:00, 71.16it/s]\n"
     ]
    },
    {
     "name": "stdout",
     "output_type": "stream",
     "text": [
      "Epoch 570 - Train Loss: 0.3891, Train MSE: 0.3894, Train MAE: 0.3986\n",
      "Epoch 570 - Validation Loss: 1.6790, Validation MSE: 1.6823, Validation MAE: 0.9155\n"
     ]
    },
    {
     "name": "stderr",
     "output_type": "stream",
     "text": [
      "Training Epoch 572: 100%|██████████| 378/378 [00:06<00:00, 59.91it/s]\n",
      "Training Epoch 573: 100%|██████████| 378/378 [00:06<00:00, 57.88it/s]\n",
      "Training Epoch 574: 100%|██████████| 378/378 [00:05<00:00, 67.84it/s]\n",
      "Training Epoch 575: 100%|██████████| 378/378 [00:05<00:00, 73.53it/s]\n",
      "Training Epoch 576: 100%|██████████| 378/378 [00:05<00:00, 73.31it/s]\n",
      "Training Epoch 577: 100%|██████████| 378/378 [00:05<00:00, 72.44it/s]\n",
      "Training Epoch 578: 100%|██████████| 378/378 [00:05<00:00, 74.49it/s]\n",
      "Training Epoch 579: 100%|██████████| 378/378 [00:05<00:00, 74.49it/s]\n",
      "Training Epoch 580: 100%|██████████| 378/378 [00:05<00:00, 72.12it/s]\n",
      "Training Epoch 581: 100%|██████████| 378/378 [00:05<00:00, 74.19it/s]\n"
     ]
    },
    {
     "name": "stdout",
     "output_type": "stream",
     "text": [
      "Epoch 580 - Train Loss: 0.3925, Train MSE: 0.3921, Train MAE: 0.3993\n",
      "Epoch 580 - Validation Loss: 1.6592, Validation MSE: 1.6633, Validation MAE: 0.9035\n"
     ]
    },
    {
     "name": "stderr",
     "output_type": "stream",
     "text": [
      "Training Epoch 582: 100%|██████████| 378/378 [00:05<00:00, 74.08it/s]\n",
      "Training Epoch 583: 100%|██████████| 378/378 [00:05<00:00, 72.16it/s]\n",
      "Training Epoch 584: 100%|██████████| 378/378 [00:05<00:00, 70.79it/s]\n",
      "Training Epoch 585: 100%|██████████| 378/378 [00:05<00:00, 73.37it/s]\n",
      "Training Epoch 586: 100%|██████████| 378/378 [00:05<00:00, 72.60it/s]\n",
      "Training Epoch 587: 100%|██████████| 378/378 [00:06<00:00, 60.24it/s]\n",
      "Training Epoch 588: 100%|██████████| 378/378 [00:05<00:00, 69.42it/s]\n",
      "Training Epoch 589: 100%|██████████| 378/378 [00:05<00:00, 73.56it/s]\n",
      "Training Epoch 590: 100%|██████████| 378/378 [00:05<00:00, 72.28it/s]\n",
      "Training Epoch 591: 100%|██████████| 378/378 [00:05<00:00, 75.39it/s]\n"
     ]
    },
    {
     "name": "stdout",
     "output_type": "stream",
     "text": [
      "Epoch 590 - Train Loss: 0.3794, Train MSE: 0.3797, Train MAE: 0.3936\n",
      "Epoch 590 - Validation Loss: 1.6884, Validation MSE: 1.6923, Validation MAE: 0.9145\n"
     ]
    },
    {
     "name": "stderr",
     "output_type": "stream",
     "text": [
      "Training Epoch 592: 100%|██████████| 378/378 [00:05<00:00, 73.31it/s]\n",
      "Training Epoch 593: 100%|██████████| 378/378 [00:05<00:00, 73.86it/s]\n",
      "Training Epoch 594: 100%|██████████| 378/378 [00:05<00:00, 68.54it/s]\n",
      "Training Epoch 595: 100%|██████████| 378/378 [00:05<00:00, 71.89it/s]\n",
      "Training Epoch 596: 100%|██████████| 378/378 [00:05<00:00, 68.16it/s]\n",
      "Training Epoch 597: 100%|██████████| 378/378 [00:05<00:00, 70.36it/s]\n",
      "Training Epoch 598: 100%|██████████| 378/378 [00:05<00:00, 73.68it/s]\n",
      "Training Epoch 599: 100%|██████████| 378/378 [00:05<00:00, 72.30it/s]\n",
      "Training Epoch 600: 100%|██████████| 378/378 [00:05<00:00, 73.25it/s]\n",
      "Training Epoch 601: 100%|██████████| 378/378 [00:05<00:00, 71.95it/s]\n"
     ]
    },
    {
     "name": "stdout",
     "output_type": "stream",
     "text": [
      "Epoch 600 - Train Loss: 0.3794, Train MSE: 0.3795, Train MAE: 0.3931\n",
      "Epoch 600 - Validation Loss: 1.7257, Validation MSE: 1.7294, Validation MAE: 0.9245\n"
     ]
    },
    {
     "name": "stderr",
     "output_type": "stream",
     "text": [
      "Training Epoch 602: 100%|██████████| 378/378 [00:05<00:00, 69.07it/s]\n",
      "Training Epoch 603: 100%|██████████| 378/378 [00:05<00:00, 71.53it/s]\n",
      "Training Epoch 604: 100%|██████████| 378/378 [00:05<00:00, 74.03it/s]\n",
      "Training Epoch 605: 100%|██████████| 378/378 [00:05<00:00, 69.49it/s]\n",
      "Training Epoch 606: 100%|██████████| 378/378 [00:05<00:00, 73.74it/s]\n",
      "Training Epoch 607: 100%|██████████| 378/378 [00:05<00:00, 72.02it/s]\n",
      "Training Epoch 608: 100%|██████████| 378/378 [00:05<00:00, 74.67it/s]\n",
      "Training Epoch 609: 100%|██████████| 378/378 [00:05<00:00, 72.15it/s]\n",
      "Training Epoch 610: 100%|██████████| 378/378 [00:05<00:00, 74.18it/s]\n",
      "Training Epoch 611: 100%|██████████| 378/378 [00:05<00:00, 73.40it/s]\n"
     ]
    },
    {
     "name": "stdout",
     "output_type": "stream",
     "text": [
      "Epoch 610 - Train Loss: 0.3841, Train MSE: 0.3843, Train MAE: 0.3969\n",
      "Epoch 610 - Validation Loss: 1.7203, Validation MSE: 1.7237, Validation MAE: 0.9189\n"
     ]
    },
    {
     "name": "stderr",
     "output_type": "stream",
     "text": [
      "Training Epoch 612: 100%|██████████| 378/378 [00:05<00:00, 75.27it/s]\n",
      "Training Epoch 613: 100%|██████████| 378/378 [00:05<00:00, 71.07it/s]\n",
      "Training Epoch 614: 100%|██████████| 378/378 [00:05<00:00, 72.95it/s]\n",
      "Training Epoch 615: 100%|██████████| 378/378 [00:05<00:00, 69.71it/s]\n",
      "Training Epoch 616: 100%|██████████| 378/378 [00:05<00:00, 71.57it/s]\n",
      "Training Epoch 617: 100%|██████████| 378/378 [00:05<00:00, 75.12it/s]\n",
      "Training Epoch 618: 100%|██████████| 378/378 [00:05<00:00, 72.23it/s]\n",
      "Training Epoch 619: 100%|██████████| 378/378 [00:05<00:00, 73.38it/s]\n",
      "Training Epoch 620: 100%|██████████| 378/378 [00:05<00:00, 75.18it/s]\n",
      "Training Epoch 621: 100%|██████████| 378/378 [00:05<00:00, 70.28it/s]\n"
     ]
    },
    {
     "name": "stdout",
     "output_type": "stream",
     "text": [
      "Epoch 620 - Train Loss: 0.3809, Train MSE: 0.3812, Train MAE: 0.3954\n",
      "Epoch 620 - Validation Loss: 1.7246, Validation MSE: 1.7293, Validation MAE: 0.9269\n"
     ]
    },
    {
     "name": "stderr",
     "output_type": "stream",
     "text": [
      "Training Epoch 622: 100%|██████████| 378/378 [00:05<00:00, 72.84it/s]\n",
      "Training Epoch 623: 100%|██████████| 378/378 [00:05<00:00, 72.62it/s]\n",
      "Training Epoch 624: 100%|██████████| 378/378 [00:05<00:00, 74.70it/s]\n",
      "Training Epoch 625: 100%|██████████| 378/378 [00:05<00:00, 72.70it/s]\n",
      "Training Epoch 626: 100%|██████████| 378/378 [00:05<00:00, 74.54it/s]\n",
      "Training Epoch 627: 100%|██████████| 378/378 [00:05<00:00, 68.96it/s]\n",
      "Training Epoch 628: 100%|██████████| 378/378 [00:05<00:00, 73.62it/s]\n",
      "Training Epoch 629: 100%|██████████| 378/378 [00:05<00:00, 73.30it/s]\n",
      "Training Epoch 630: 100%|██████████| 378/378 [00:05<00:00, 72.11it/s]\n",
      "Training Epoch 631: 100%|██████████| 378/378 [00:05<00:00, 69.05it/s]\n"
     ]
    },
    {
     "name": "stdout",
     "output_type": "stream",
     "text": [
      "Epoch 630 - Train Loss: 0.3815, Train MSE: 0.3812, Train MAE: 0.3943\n",
      "Epoch 630 - Validation Loss: 1.6841, Validation MSE: 1.6879, Validation MAE: 0.9111\n"
     ]
    },
    {
     "name": "stderr",
     "output_type": "stream",
     "text": [
      "Training Epoch 632: 100%|██████████| 378/378 [00:05<00:00, 73.99it/s]\n",
      "Training Epoch 633: 100%|██████████| 378/378 [00:05<00:00, 70.83it/s]\n",
      "Training Epoch 634: 100%|██████████| 378/378 [00:05<00:00, 75.31it/s]\n",
      "Training Epoch 635: 100%|██████████| 378/378 [00:05<00:00, 73.31it/s]\n",
      "Training Epoch 636: 100%|██████████| 378/378 [00:05<00:00, 74.23it/s]\n",
      "Training Epoch 637: 100%|██████████| 378/378 [00:05<00:00, 72.10it/s]\n",
      "Training Epoch 638: 100%|██████████| 378/378 [00:05<00:00, 74.50it/s]\n",
      "Training Epoch 639: 100%|██████████| 378/378 [00:05<00:00, 69.27it/s]\n",
      "Training Epoch 640: 100%|██████████| 378/378 [00:05<00:00, 71.60it/s]\n",
      "Training Epoch 641: 100%|██████████| 378/378 [00:05<00:00, 70.15it/s]\n"
     ]
    },
    {
     "name": "stdout",
     "output_type": "stream",
     "text": [
      "Epoch 640 - Train Loss: 0.3821, Train MSE: 0.3820, Train MAE: 0.3949\n",
      "Epoch 640 - Validation Loss: 1.6785, Validation MSE: 1.6829, Validation MAE: 0.9074\n"
     ]
    },
    {
     "name": "stderr",
     "output_type": "stream",
     "text": [
      "Training Epoch 642: 100%|██████████| 378/378 [00:05<00:00, 70.93it/s]\n",
      "Training Epoch 643: 100%|██████████| 378/378 [00:05<00:00, 72.40it/s]\n",
      "Training Epoch 644: 100%|██████████| 378/378 [00:05<00:00, 74.39it/s]\n",
      "Training Epoch 645: 100%|██████████| 378/378 [00:05<00:00, 73.56it/s]\n",
      "Training Epoch 646: 100%|██████████| 378/378 [00:05<00:00, 71.93it/s]\n",
      "Training Epoch 647: 100%|██████████| 378/378 [00:05<00:00, 71.64it/s]\n",
      "Training Epoch 648: 100%|██████████| 378/378 [00:05<00:00, 70.65it/s]\n",
      "Training Epoch 649: 100%|██████████| 378/378 [00:05<00:00, 74.56it/s]\n",
      "Training Epoch 650: 100%|██████████| 378/378 [00:05<00:00, 73.22it/s]\n",
      "Training Epoch 651: 100%|██████████| 378/378 [00:05<00:00, 69.04it/s]\n"
     ]
    },
    {
     "name": "stdout",
     "output_type": "stream",
     "text": [
      "Epoch 650 - Train Loss: 0.3781, Train MSE: 0.3780, Train MAE: 0.3872\n",
      "Epoch 650 - Validation Loss: 1.6573, Validation MSE: 1.6609, Validation MAE: 0.9032\n"
     ]
    },
    {
     "name": "stderr",
     "output_type": "stream",
     "text": [
      "Training Epoch 652: 100%|██████████| 378/378 [00:05<00:00, 74.52it/s]\n",
      "Training Epoch 653: 100%|██████████| 378/378 [00:05<00:00, 70.56it/s]\n",
      "Training Epoch 654: 100%|██████████| 378/378 [00:05<00:00, 69.87it/s]\n",
      "Training Epoch 655: 100%|██████████| 378/378 [00:05<00:00, 69.84it/s]\n",
      "Training Epoch 656: 100%|██████████| 378/378 [00:05<00:00, 74.87it/s]\n",
      "Training Epoch 657: 100%|██████████| 378/378 [00:05<00:00, 74.05it/s]\n",
      "Training Epoch 658: 100%|██████████| 378/378 [00:05<00:00, 75.37it/s]\n",
      "Training Epoch 659: 100%|██████████| 378/378 [00:05<00:00, 72.66it/s]\n",
      "Training Epoch 660: 100%|██████████| 378/378 [00:04<00:00, 86.74it/s]\n",
      "Training Epoch 661: 100%|██████████| 378/378 [00:04<00:00, 85.71it/s]\n"
     ]
    },
    {
     "name": "stdout",
     "output_type": "stream",
     "text": [
      "Epoch 660 - Train Loss: 0.3748, Train MSE: 0.3746, Train MAE: 0.3900\n",
      "Epoch 660 - Validation Loss: 1.7071, Validation MSE: 1.7110, Validation MAE: 0.9157\n"
     ]
    },
    {
     "name": "stderr",
     "output_type": "stream",
     "text": [
      "Training Epoch 662: 100%|██████████| 378/378 [00:04<00:00, 87.18it/s]\n",
      "Training Epoch 663: 100%|██████████| 378/378 [00:04<00:00, 85.72it/s]\n",
      "Training Epoch 664: 100%|██████████| 378/378 [00:04<00:00, 87.24it/s]\n",
      "Training Epoch 665: 100%|██████████| 378/378 [00:04<00:00, 86.05it/s]\n",
      "Training Epoch 666: 100%|██████████| 378/378 [00:04<00:00, 87.54it/s]\n",
      "Training Epoch 667: 100%|██████████| 378/378 [00:04<00:00, 85.99it/s]\n",
      "Training Epoch 668: 100%|██████████| 378/378 [00:04<00:00, 87.87it/s]\n",
      "Training Epoch 669: 100%|██████████| 378/378 [00:04<00:00, 86.50it/s]\n",
      "Training Epoch 670: 100%|██████████| 378/378 [00:04<00:00, 85.01it/s]\n",
      "Training Epoch 671: 100%|██████████| 378/378 [00:04<00:00, 86.63it/s]\n"
     ]
    },
    {
     "name": "stdout",
     "output_type": "stream",
     "text": [
      "Epoch 670 - Train Loss: 0.3733, Train MSE: 0.3733, Train MAE: 0.3904\n",
      "Epoch 670 - Validation Loss: 1.6508, Validation MSE: 1.6552, Validation MAE: 0.9019\n"
     ]
    },
    {
     "name": "stderr",
     "output_type": "stream",
     "text": [
      "Training Epoch 672: 100%|██████████| 378/378 [00:04<00:00, 86.31it/s]\n",
      "Training Epoch 673: 100%|██████████| 378/378 [00:04<00:00, 88.56it/s]\n",
      "Training Epoch 674: 100%|██████████| 378/378 [00:04<00:00, 84.93it/s]\n",
      "Training Epoch 675: 100%|██████████| 378/378 [00:04<00:00, 85.37it/s]\n",
      "Training Epoch 676: 100%|██████████| 378/378 [00:04<00:00, 87.56it/s]\n",
      "Training Epoch 677: 100%|██████████| 378/378 [00:04<00:00, 85.67it/s]\n",
      "Training Epoch 678: 100%|██████████| 378/378 [00:04<00:00, 86.86it/s]\n",
      "Training Epoch 679: 100%|██████████| 378/378 [00:04<00:00, 87.86it/s]\n",
      "Training Epoch 680: 100%|██████████| 378/378 [00:04<00:00, 88.31it/s]\n",
      "Training Epoch 681: 100%|██████████| 378/378 [00:04<00:00, 85.47it/s]\n"
     ]
    },
    {
     "name": "stdout",
     "output_type": "stream",
     "text": [
      "Epoch 680 - Train Loss: 0.3631, Train MSE: 0.3630, Train MAE: 0.3834\n",
      "Epoch 680 - Validation Loss: 1.6844, Validation MSE: 1.6880, Validation MAE: 0.9143\n"
     ]
    },
    {
     "name": "stderr",
     "output_type": "stream",
     "text": [
      "Training Epoch 682: 100%|██████████| 378/378 [00:04<00:00, 86.63it/s]\n",
      "Training Epoch 683: 100%|██████████| 378/378 [00:04<00:00, 88.68it/s]\n",
      "Training Epoch 684: 100%|██████████| 378/378 [00:04<00:00, 87.29it/s]\n",
      "Training Epoch 685: 100%|██████████| 378/378 [00:04<00:00, 87.57it/s]\n",
      "Training Epoch 686: 100%|██████████| 378/378 [00:04<00:00, 86.96it/s]\n",
      "Training Epoch 687: 100%|██████████| 378/378 [00:04<00:00, 88.22it/s]\n",
      "Training Epoch 688: 100%|██████████| 378/378 [00:04<00:00, 86.19it/s]\n",
      "Training Epoch 689: 100%|██████████| 378/378 [00:04<00:00, 86.62it/s]\n",
      "Training Epoch 690: 100%|██████████| 378/378 [00:04<00:00, 86.52it/s]\n",
      "Training Epoch 691: 100%|██████████| 378/378 [00:04<00:00, 88.70it/s]\n"
     ]
    },
    {
     "name": "stdout",
     "output_type": "stream",
     "text": [
      "Epoch 690 - Train Loss: 0.3737, Train MSE: 0.3734, Train MAE: 0.3879\n",
      "Epoch 690 - Validation Loss: 1.6438, Validation MSE: 1.6481, Validation MAE: 0.9047\n"
     ]
    },
    {
     "name": "stderr",
     "output_type": "stream",
     "text": [
      "Training Epoch 692: 100%|██████████| 378/378 [00:04<00:00, 87.15it/s]\n",
      "Training Epoch 693: 100%|██████████| 378/378 [00:04<00:00, 86.30it/s]\n",
      "Training Epoch 694: 100%|██████████| 378/378 [00:04<00:00, 87.68it/s]\n",
      "Training Epoch 695: 100%|██████████| 378/378 [00:04<00:00, 86.11it/s]\n",
      "Training Epoch 696: 100%|██████████| 378/378 [00:04<00:00, 85.49it/s]\n",
      "Training Epoch 697: 100%|██████████| 378/378 [00:04<00:00, 85.32it/s]\n",
      "Training Epoch 698: 100%|██████████| 378/378 [00:04<00:00, 87.21it/s]\n",
      "Training Epoch 699: 100%|██████████| 378/378 [00:04<00:00, 85.84it/s]\n",
      "Training Epoch 700: 100%|██████████| 378/378 [00:04<00:00, 88.01it/s]\n",
      "Training Epoch 701: 100%|██████████| 378/378 [00:04<00:00, 85.16it/s]\n"
     ]
    },
    {
     "name": "stdout",
     "output_type": "stream",
     "text": [
      "Epoch 700 - Train Loss: 0.3662, Train MSE: 0.3661, Train MAE: 0.3844\n",
      "Epoch 700 - Validation Loss: 1.7394, Validation MSE: 1.7433, Validation MAE: 0.9310\n"
     ]
    },
    {
     "name": "stderr",
     "output_type": "stream",
     "text": [
      "Training Epoch 702: 100%|██████████| 378/378 [00:04<00:00, 87.32it/s]\n",
      "Training Epoch 703: 100%|██████████| 378/378 [00:04<00:00, 87.44it/s]\n",
      "Training Epoch 704: 100%|██████████| 378/378 [00:04<00:00, 85.57it/s]\n",
      "Training Epoch 705: 100%|██████████| 378/378 [00:04<00:00, 86.82it/s]\n",
      "Training Epoch 706: 100%|██████████| 378/378 [00:04<00:00, 85.74it/s]\n",
      "Training Epoch 707: 100%|██████████| 378/378 [00:04<00:00, 87.31it/s]\n",
      "Training Epoch 708: 100%|██████████| 378/378 [00:04<00:00, 88.24it/s]\n",
      "Training Epoch 709: 100%|██████████| 378/378 [00:04<00:00, 86.38it/s]\n",
      "Training Epoch 710: 100%|██████████| 378/378 [00:04<00:00, 87.22it/s]\n",
      "Training Epoch 711: 100%|██████████| 378/378 [00:04<00:00, 86.62it/s]\n"
     ]
    },
    {
     "name": "stdout",
     "output_type": "stream",
     "text": [
      "Epoch 710 - Train Loss: 0.3594, Train MSE: 0.3596, Train MAE: 0.3801\n",
      "Epoch 710 - Validation Loss: 1.6803, Validation MSE: 1.6846, Validation MAE: 0.9062\n"
     ]
    },
    {
     "name": "stderr",
     "output_type": "stream",
     "text": [
      "Training Epoch 712: 100%|██████████| 378/378 [00:04<00:00, 85.92it/s]\n",
      "Training Epoch 713: 100%|██████████| 378/378 [00:04<00:00, 86.86it/s]\n",
      "Training Epoch 714: 100%|██████████| 378/378 [00:04<00:00, 87.84it/s]\n",
      "Training Epoch 715: 100%|██████████| 378/378 [00:04<00:00, 86.44it/s]\n",
      "Training Epoch 716: 100%|██████████| 378/378 [00:04<00:00, 88.70it/s]\n",
      "Training Epoch 717: 100%|██████████| 378/378 [00:04<00:00, 86.09it/s]\n",
      "Training Epoch 718: 100%|██████████| 378/378 [00:04<00:00, 88.11it/s]\n",
      "Training Epoch 719: 100%|██████████| 378/378 [00:04<00:00, 86.73it/s]\n",
      "Training Epoch 720: 100%|██████████| 378/378 [00:04<00:00, 86.86it/s]\n",
      "Training Epoch 721: 100%|██████████| 378/378 [00:04<00:00, 87.84it/s]\n"
     ]
    },
    {
     "name": "stdout",
     "output_type": "stream",
     "text": [
      "Epoch 720 - Train Loss: 0.3643, Train MSE: 0.3642, Train MAE: 0.3855\n",
      "Epoch 720 - Validation Loss: 1.7222, Validation MSE: 1.7260, Validation MAE: 0.9202\n"
     ]
    },
    {
     "name": "stderr",
     "output_type": "stream",
     "text": [
      "Training Epoch 722: 100%|██████████| 378/378 [00:04<00:00, 87.61it/s]\n",
      "Training Epoch 723: 100%|██████████| 378/378 [00:04<00:00, 88.42it/s]\n",
      "Training Epoch 724: 100%|██████████| 378/378 [00:04<00:00, 87.41it/s]\n",
      "Training Epoch 725: 100%|██████████| 378/378 [00:04<00:00, 87.76it/s]\n",
      "Training Epoch 726: 100%|██████████| 378/378 [00:04<00:00, 85.61it/s]\n",
      "Training Epoch 727: 100%|██████████| 378/378 [00:04<00:00, 84.46it/s]\n",
      "Training Epoch 728: 100%|██████████| 378/378 [00:04<00:00, 87.80it/s]\n",
      "Training Epoch 729: 100%|██████████| 378/378 [00:04<00:00, 86.98it/s]\n",
      "Training Epoch 730: 100%|██████████| 378/378 [00:04<00:00, 85.51it/s]\n",
      "Training Epoch 731: 100%|██████████| 378/378 [00:04<00:00, 86.93it/s]\n"
     ]
    },
    {
     "name": "stdout",
     "output_type": "stream",
     "text": [
      "Epoch 730 - Train Loss: 0.3632, Train MSE: 0.3632, Train MAE: 0.3802\n",
      "Epoch 730 - Validation Loss: 1.6652, Validation MSE: 1.6691, Validation MAE: 0.9096\n"
     ]
    },
    {
     "name": "stderr",
     "output_type": "stream",
     "text": [
      "Training Epoch 732: 100%|██████████| 378/378 [00:04<00:00, 87.59it/s]\n",
      "Training Epoch 733: 100%|██████████| 378/378 [00:04<00:00, 87.29it/s]\n",
      "Training Epoch 734: 100%|██████████| 378/378 [00:04<00:00, 86.27it/s]\n",
      "Training Epoch 735: 100%|██████████| 378/378 [00:04<00:00, 88.10it/s]\n",
      "Training Epoch 736: 100%|██████████| 378/378 [00:04<00:00, 86.42it/s]\n",
      "Training Epoch 737: 100%|██████████| 378/378 [00:04<00:00, 85.72it/s]\n",
      "Training Epoch 738: 100%|██████████| 378/378 [00:04<00:00, 86.06it/s]\n",
      "Training Epoch 739: 100%|██████████| 378/378 [00:04<00:00, 87.94it/s]\n",
      "Training Epoch 740: 100%|██████████| 378/378 [00:04<00:00, 86.63it/s]\n",
      "Training Epoch 741: 100%|██████████| 378/378 [00:04<00:00, 87.09it/s]\n"
     ]
    },
    {
     "name": "stdout",
     "output_type": "stream",
     "text": [
      "Epoch 740 - Train Loss: 0.3578, Train MSE: 0.3579, Train MAE: 0.3786\n",
      "Epoch 740 - Validation Loss: 1.6747, Validation MSE: 1.6779, Validation MAE: 0.9040\n"
     ]
    },
    {
     "name": "stderr",
     "output_type": "stream",
     "text": [
      "Training Epoch 742: 100%|██████████| 378/378 [00:04<00:00, 87.18it/s]\n",
      "Training Epoch 743: 100%|██████████| 378/378 [00:04<00:00, 87.22it/s]\n",
      "Training Epoch 744: 100%|██████████| 378/378 [00:04<00:00, 87.81it/s]\n",
      "Training Epoch 745: 100%|██████████| 378/378 [00:04<00:00, 86.76it/s]\n",
      "Training Epoch 746: 100%|██████████| 378/378 [00:04<00:00, 85.89it/s]\n",
      "Training Epoch 747: 100%|██████████| 378/378 [00:04<00:00, 86.37it/s]\n",
      "Training Epoch 748: 100%|██████████| 378/378 [00:04<00:00, 86.73it/s]\n",
      "Training Epoch 749: 100%|██████████| 378/378 [00:04<00:00, 85.12it/s]\n",
      "Training Epoch 750: 100%|██████████| 378/378 [00:04<00:00, 87.24it/s]\n",
      "Training Epoch 751: 100%|██████████| 378/378 [00:04<00:00, 88.33it/s]\n"
     ]
    },
    {
     "name": "stdout",
     "output_type": "stream",
     "text": [
      "Epoch 750 - Train Loss: 0.3617, Train MSE: 0.3613, Train MAE: 0.3797\n",
      "Epoch 750 - Validation Loss: 1.6854, Validation MSE: 1.6894, Validation MAE: 0.9130\n"
     ]
    },
    {
     "name": "stderr",
     "output_type": "stream",
     "text": [
      "Training Epoch 752: 100%|██████████| 378/378 [00:04<00:00, 86.74it/s]\n",
      "Training Epoch 753: 100%|██████████| 378/378 [00:04<00:00, 85.38it/s]\n",
      "Training Epoch 754: 100%|██████████| 378/378 [00:04<00:00, 86.17it/s]\n",
      "Training Epoch 755: 100%|██████████| 378/378 [00:04<00:00, 88.47it/s]\n",
      "Training Epoch 756: 100%|██████████| 378/378 [00:04<00:00, 83.96it/s]\n",
      "Training Epoch 757: 100%|██████████| 378/378 [00:04<00:00, 86.36it/s]\n",
      "Training Epoch 758: 100%|██████████| 378/378 [00:04<00:00, 87.27it/s]\n",
      "Training Epoch 759: 100%|██████████| 378/378 [00:04<00:00, 85.31it/s]\n",
      "Training Epoch 760: 100%|██████████| 378/378 [00:04<00:00, 87.01it/s]\n",
      "Training Epoch 761: 100%|██████████| 378/378 [00:04<00:00, 86.56it/s]\n"
     ]
    },
    {
     "name": "stdout",
     "output_type": "stream",
     "text": [
      "Epoch 760 - Train Loss: 0.3575, Train MSE: 0.3574, Train MAE: 0.3772\n",
      "Epoch 760 - Validation Loss: 1.6844, Validation MSE: 1.6891, Validation MAE: 0.9100\n"
     ]
    },
    {
     "name": "stderr",
     "output_type": "stream",
     "text": [
      "Training Epoch 762: 100%|██████████| 378/378 [00:04<00:00, 86.49it/s]\n",
      "Training Epoch 763: 100%|██████████| 378/378 [00:04<00:00, 86.32it/s]\n",
      "Training Epoch 764: 100%|██████████| 378/378 [00:04<00:00, 87.42it/s]\n",
      "Training Epoch 765: 100%|██████████| 378/378 [00:04<00:00, 88.23it/s]\n",
      "Training Epoch 766: 100%|██████████| 378/378 [00:04<00:00, 87.37it/s]\n",
      "Training Epoch 767: 100%|██████████| 378/378 [00:04<00:00, 86.56it/s]\n",
      "Training Epoch 768: 100%|██████████| 378/378 [00:04<00:00, 86.44it/s]\n",
      "Training Epoch 769: 100%|██████████| 378/378 [00:04<00:00, 87.46it/s]\n",
      "Training Epoch 770: 100%|██████████| 378/378 [00:04<00:00, 85.78it/s]\n",
      "Training Epoch 771: 100%|██████████| 378/378 [00:04<00:00, 86.33it/s]\n"
     ]
    },
    {
     "name": "stdout",
     "output_type": "stream",
     "text": [
      "Epoch 770 - Train Loss: 0.3511, Train MSE: 0.3511, Train MAE: 0.3751\n",
      "Epoch 770 - Validation Loss: 1.6810, Validation MSE: 1.6847, Validation MAE: 0.9105\n"
     ]
    },
    {
     "name": "stderr",
     "output_type": "stream",
     "text": [
      "Training Epoch 772: 100%|██████████| 378/378 [00:04<00:00, 88.73it/s]\n",
      "Training Epoch 773: 100%|██████████| 378/378 [00:04<00:00, 86.64it/s]\n",
      "Training Epoch 774: 100%|██████████| 378/378 [00:04<00:00, 87.29it/s]\n",
      "Training Epoch 775: 100%|██████████| 378/378 [00:04<00:00, 87.17it/s]\n",
      "Training Epoch 776: 100%|██████████| 378/378 [00:04<00:00, 88.58it/s]\n",
      "Training Epoch 777: 100%|██████████| 378/378 [00:04<00:00, 85.38it/s]\n",
      "Training Epoch 778: 100%|██████████| 378/378 [00:04<00:00, 89.05it/s]\n",
      "Training Epoch 779: 100%|██████████| 378/378 [00:04<00:00, 88.43it/s]\n",
      "Training Epoch 780: 100%|██████████| 378/378 [00:04<00:00, 88.08it/s]\n",
      "Training Epoch 781: 100%|██████████| 378/378 [00:04<00:00, 88.99it/s]\n"
     ]
    },
    {
     "name": "stdout",
     "output_type": "stream",
     "text": [
      "Epoch 780 - Train Loss: 0.3532, Train MSE: 0.3529, Train MAE: 0.3745\n",
      "Epoch 780 - Validation Loss: 1.6660, Validation MSE: 1.6695, Validation MAE: 0.9126\n"
     ]
    },
    {
     "name": "stderr",
     "output_type": "stream",
     "text": [
      "Training Epoch 782: 100%|██████████| 378/378 [00:04<00:00, 85.68it/s]\n",
      "Training Epoch 783: 100%|██████████| 378/378 [00:04<00:00, 88.16it/s]\n",
      "Training Epoch 784: 100%|██████████| 378/378 [00:04<00:00, 87.32it/s]\n",
      "Training Epoch 785: 100%|██████████| 378/378 [00:04<00:00, 88.41it/s]\n",
      "Training Epoch 786: 100%|██████████| 378/378 [00:04<00:00, 88.49it/s]\n",
      "Training Epoch 787: 100%|██████████| 378/378 [00:04<00:00, 86.60it/s]\n",
      "Training Epoch 788: 100%|██████████| 378/378 [00:04<00:00, 87.00it/s]\n",
      "Training Epoch 789: 100%|██████████| 378/378 [00:04<00:00, 88.05it/s]\n",
      "Training Epoch 790: 100%|██████████| 378/378 [00:04<00:00, 88.48it/s]\n",
      "Training Epoch 791: 100%|██████████| 378/378 [00:04<00:00, 87.67it/s]\n"
     ]
    },
    {
     "name": "stdout",
     "output_type": "stream",
     "text": [
      "Epoch 790 - Train Loss: 0.3508, Train MSE: 0.3506, Train MAE: 0.3714\n",
      "Epoch 790 - Validation Loss: 1.6616, Validation MSE: 1.6653, Validation MAE: 0.9027\n"
     ]
    },
    {
     "name": "stderr",
     "output_type": "stream",
     "text": [
      "Training Epoch 792: 100%|██████████| 378/378 [00:04<00:00, 88.92it/s]\n",
      "Training Epoch 793: 100%|██████████| 378/378 [00:04<00:00, 85.82it/s]\n",
      "Training Epoch 794: 100%|██████████| 378/378 [00:04<00:00, 87.41it/s]\n",
      "Training Epoch 795: 100%|██████████| 378/378 [00:04<00:00, 88.55it/s]\n",
      "Training Epoch 796: 100%|██████████| 378/378 [00:04<00:00, 88.35it/s]\n",
      "Training Epoch 797: 100%|██████████| 378/378 [00:04<00:00, 87.10it/s]\n",
      "Training Epoch 798: 100%|██████████| 378/378 [00:04<00:00, 86.14it/s]\n",
      "Training Epoch 799: 100%|██████████| 378/378 [00:04<00:00, 87.06it/s]\n",
      "Training Epoch 800: 100%|██████████| 378/378 [00:04<00:00, 87.12it/s]\n",
      "Training Epoch 801: 100%|██████████| 378/378 [00:04<00:00, 87.72it/s]\n"
     ]
    },
    {
     "name": "stdout",
     "output_type": "stream",
     "text": [
      "Epoch 800 - Train Loss: 0.3481, Train MSE: 0.3484, Train MAE: 0.3738\n",
      "Epoch 800 - Validation Loss: 1.7170, Validation MSE: 1.7211, Validation MAE: 0.9186\n"
     ]
    },
    {
     "name": "stderr",
     "output_type": "stream",
     "text": [
      "Training Epoch 802: 100%|██████████| 378/378 [00:04<00:00, 86.62it/s]\n",
      "Training Epoch 803: 100%|██████████| 378/378 [00:04<00:00, 86.01it/s]\n",
      "Training Epoch 804: 100%|██████████| 378/378 [00:04<00:00, 87.92it/s]\n",
      "Training Epoch 805: 100%|██████████| 378/378 [00:04<00:00, 87.20it/s]\n",
      "Training Epoch 806: 100%|██████████| 378/378 [00:04<00:00, 86.86it/s]\n",
      "Training Epoch 807: 100%|██████████| 378/378 [00:04<00:00, 88.43it/s]\n",
      "Training Epoch 808: 100%|██████████| 378/378 [00:04<00:00, 86.91it/s]\n",
      "Training Epoch 809: 100%|██████████| 378/378 [00:04<00:00, 89.53it/s]\n",
      "Training Epoch 810: 100%|██████████| 378/378 [00:04<00:00, 89.28it/s]\n",
      "Training Epoch 811: 100%|██████████| 378/378 [00:04<00:00, 87.24it/s]\n"
     ]
    },
    {
     "name": "stdout",
     "output_type": "stream",
     "text": [
      "Epoch 810 - Train Loss: 0.3434, Train MSE: 0.3437, Train MAE: 0.3690\n",
      "Epoch 810 - Validation Loss: 1.7331, Validation MSE: 1.7368, Validation MAE: 0.9272\n"
     ]
    },
    {
     "name": "stderr",
     "output_type": "stream",
     "text": [
      "Training Epoch 812: 100%|██████████| 378/378 [00:04<00:00, 88.36it/s]\n",
      "Training Epoch 813: 100%|██████████| 378/378 [00:04<00:00, 87.32it/s]\n",
      "Training Epoch 814: 100%|██████████| 378/378 [00:04<00:00, 87.22it/s]\n",
      "Training Epoch 815: 100%|██████████| 378/378 [00:04<00:00, 87.97it/s]\n",
      "Training Epoch 816: 100%|██████████| 378/378 [00:04<00:00, 85.68it/s]\n",
      "Training Epoch 817: 100%|██████████| 378/378 [00:04<00:00, 86.94it/s]\n",
      "Training Epoch 818: 100%|██████████| 378/378 [00:04<00:00, 87.61it/s]\n",
      "Training Epoch 819: 100%|██████████| 378/378 [00:04<00:00, 87.55it/s]\n",
      "Training Epoch 820: 100%|██████████| 378/378 [00:04<00:00, 86.62it/s]\n",
      "Training Epoch 821: 100%|██████████| 378/378 [00:04<00:00, 87.70it/s]\n"
     ]
    },
    {
     "name": "stdout",
     "output_type": "stream",
     "text": [
      "Epoch 820 - Train Loss: 0.3420, Train MSE: 0.3416, Train MAE: 0.3681\n",
      "Epoch 820 - Validation Loss: 1.6891, Validation MSE: 1.6939, Validation MAE: 0.9208\n"
     ]
    },
    {
     "name": "stderr",
     "output_type": "stream",
     "text": [
      "Training Epoch 822: 100%|██████████| 378/378 [00:04<00:00, 86.15it/s]\n",
      "Training Epoch 823: 100%|██████████| 378/378 [00:04<00:00, 88.04it/s]\n",
      "Training Epoch 824: 100%|██████████| 378/378 [00:04<00:00, 86.87it/s]\n",
      "Training Epoch 825: 100%|██████████| 378/378 [00:04<00:00, 87.13it/s]\n",
      "Training Epoch 826: 100%|██████████| 378/378 [00:04<00:00, 88.30it/s]\n",
      "Training Epoch 827: 100%|██████████| 378/378 [00:04<00:00, 86.00it/s]\n",
      "Training Epoch 828: 100%|██████████| 378/378 [00:04<00:00, 87.17it/s]\n",
      "Training Epoch 829: 100%|██████████| 378/378 [00:04<00:00, 88.08it/s]\n",
      "Training Epoch 830: 100%|██████████| 378/378 [00:04<00:00, 88.20it/s]\n",
      "Training Epoch 831: 100%|██████████| 378/378 [00:04<00:00, 88.32it/s]\n"
     ]
    },
    {
     "name": "stdout",
     "output_type": "stream",
     "text": [
      "Epoch 830 - Train Loss: 0.3454, Train MSE: 0.3451, Train MAE: 0.3692\n",
      "Epoch 830 - Validation Loss: 1.6889, Validation MSE: 1.6935, Validation MAE: 0.9145\n"
     ]
    },
    {
     "name": "stderr",
     "output_type": "stream",
     "text": [
      "Training Epoch 832: 100%|██████████| 378/378 [00:04<00:00, 89.52it/s]\n",
      "Training Epoch 833: 100%|██████████| 378/378 [00:04<00:00, 88.45it/s]\n",
      "Training Epoch 834: 100%|██████████| 378/378 [00:04<00:00, 87.13it/s]\n",
      "Training Epoch 835: 100%|██████████| 378/378 [00:04<00:00, 85.01it/s]\n",
      "Training Epoch 836: 100%|██████████| 378/378 [00:04<00:00, 86.76it/s]\n",
      "Training Epoch 837: 100%|██████████| 378/378 [00:04<00:00, 88.89it/s]\n",
      "Training Epoch 838: 100%|██████████| 378/378 [00:04<00:00, 88.32it/s]\n",
      "Training Epoch 839: 100%|██████████| 378/378 [00:04<00:00, 86.10it/s]\n",
      "Training Epoch 840: 100%|██████████| 378/378 [00:04<00:00, 87.96it/s]\n",
      "Training Epoch 841: 100%|██████████| 378/378 [00:04<00:00, 86.20it/s]\n"
     ]
    },
    {
     "name": "stdout",
     "output_type": "stream",
     "text": [
      "Epoch 840 - Train Loss: 0.3453, Train MSE: 0.3455, Train MAE: 0.3672\n",
      "Epoch 840 - Validation Loss: 1.6805, Validation MSE: 1.6842, Validation MAE: 0.9121\n"
     ]
    },
    {
     "name": "stderr",
     "output_type": "stream",
     "text": [
      "Training Epoch 842: 100%|██████████| 378/378 [00:04<00:00, 87.96it/s]\n",
      "Training Epoch 843: 100%|██████████| 378/378 [00:04<00:00, 87.59it/s]\n",
      "Training Epoch 844: 100%|██████████| 378/378 [00:04<00:00, 88.55it/s]\n",
      "Training Epoch 845: 100%|██████████| 378/378 [00:04<00:00, 86.92it/s]\n",
      "Training Epoch 846: 100%|██████████| 378/378 [00:04<00:00, 89.68it/s]\n",
      "Training Epoch 847: 100%|██████████| 378/378 [00:04<00:00, 87.80it/s]\n",
      "Training Epoch 848: 100%|██████████| 378/378 [00:04<00:00, 88.82it/s]\n",
      "Training Epoch 849: 100%|██████████| 378/378 [00:04<00:00, 87.75it/s]\n",
      "Training Epoch 850: 100%|██████████| 378/378 [00:04<00:00, 87.66it/s]\n",
      "Training Epoch 851: 100%|██████████| 378/378 [00:04<00:00, 89.63it/s]\n"
     ]
    },
    {
     "name": "stdout",
     "output_type": "stream",
     "text": [
      "Epoch 850 - Train Loss: 0.3384, Train MSE: 0.3386, Train MAE: 0.3677\n",
      "Epoch 850 - Validation Loss: 1.7104, Validation MSE: 1.7141, Validation MAE: 0.9227\n"
     ]
    },
    {
     "name": "stderr",
     "output_type": "stream",
     "text": [
      "Training Epoch 852: 100%|██████████| 378/378 [00:04<00:00, 87.55it/s]\n",
      "Training Epoch 853: 100%|██████████| 378/378 [00:04<00:00, 88.26it/s]\n",
      "Training Epoch 854: 100%|██████████| 378/378 [00:04<00:00, 87.26it/s]\n",
      "Training Epoch 855: 100%|██████████| 378/378 [00:04<00:00, 88.08it/s]\n",
      "Training Epoch 856: 100%|██████████| 378/378 [00:04<00:00, 87.96it/s]\n",
      "Training Epoch 857: 100%|██████████| 378/378 [00:04<00:00, 88.69it/s]\n",
      "Training Epoch 858: 100%|██████████| 378/378 [00:04<00:00, 86.68it/s]\n",
      "Training Epoch 859: 100%|██████████| 378/378 [00:04<00:00, 85.51it/s]\n",
      "Training Epoch 860: 100%|██████████| 378/378 [00:04<00:00, 87.66it/s]\n",
      "Training Epoch 861: 100%|██████████| 378/378 [00:04<00:00, 85.67it/s]\n"
     ]
    },
    {
     "name": "stdout",
     "output_type": "stream",
     "text": [
      "Epoch 860 - Train Loss: 0.3374, Train MSE: 0.3375, Train MAE: 0.3665\n",
      "Epoch 860 - Validation Loss: 1.6818, Validation MSE: 1.6850, Validation MAE: 0.9090\n"
     ]
    },
    {
     "name": "stderr",
     "output_type": "stream",
     "text": [
      "Training Epoch 862: 100%|██████████| 378/378 [00:04<00:00, 86.21it/s]\n",
      "Training Epoch 863: 100%|██████████| 378/378 [00:04<00:00, 86.88it/s]\n",
      "Training Epoch 864: 100%|██████████| 378/378 [00:04<00:00, 87.78it/s]\n",
      "Training Epoch 865: 100%|██████████| 378/378 [00:04<00:00, 87.41it/s]\n",
      "Training Epoch 866: 100%|██████████| 378/378 [00:04<00:00, 87.51it/s]\n",
      "Training Epoch 867: 100%|██████████| 378/378 [00:04<00:00, 87.40it/s]\n",
      "Training Epoch 868: 100%|██████████| 378/378 [00:04<00:00, 88.20it/s]\n",
      "Training Epoch 869: 100%|██████████| 378/378 [00:04<00:00, 87.73it/s]\n",
      "Training Epoch 870: 100%|██████████| 378/378 [00:04<00:00, 87.05it/s]\n",
      "Training Epoch 871: 100%|██████████| 378/378 [00:04<00:00, 86.67it/s]\n"
     ]
    },
    {
     "name": "stdout",
     "output_type": "stream",
     "text": [
      "Epoch 870 - Train Loss: 0.3455, Train MSE: 0.3453, Train MAE: 0.3691\n",
      "Epoch 870 - Validation Loss: 1.7408, Validation MSE: 1.7444, Validation MAE: 0.9307\n"
     ]
    },
    {
     "name": "stderr",
     "output_type": "stream",
     "text": [
      "Training Epoch 872: 100%|██████████| 378/378 [00:04<00:00, 86.91it/s]\n",
      "Training Epoch 873: 100%|██████████| 378/378 [00:04<00:00, 86.87it/s]\n",
      "Training Epoch 874: 100%|██████████| 378/378 [00:04<00:00, 85.88it/s]\n",
      "Training Epoch 875: 100%|██████████| 378/378 [00:04<00:00, 87.94it/s]\n",
      "Training Epoch 876: 100%|██████████| 378/378 [00:04<00:00, 87.76it/s]\n",
      "Training Epoch 877: 100%|██████████| 378/378 [00:04<00:00, 87.01it/s]\n",
      "Training Epoch 878: 100%|██████████| 378/378 [00:04<00:00, 86.50it/s]\n",
      "Training Epoch 879: 100%|██████████| 378/378 [00:04<00:00, 87.70it/s]\n",
      "Training Epoch 880: 100%|██████████| 378/378 [00:04<00:00, 88.55it/s]\n",
      "Training Epoch 881: 100%|██████████| 378/378 [00:04<00:00, 87.23it/s]\n"
     ]
    },
    {
     "name": "stdout",
     "output_type": "stream",
     "text": [
      "Epoch 880 - Train Loss: 0.3375, Train MSE: 0.3377, Train MAE: 0.3656\n",
      "Epoch 880 - Validation Loss: 1.6868, Validation MSE: 1.6907, Validation MAE: 0.9083\n"
     ]
    },
    {
     "name": "stderr",
     "output_type": "stream",
     "text": [
      "Training Epoch 882: 100%|██████████| 378/378 [00:04<00:00, 87.88it/s]\n",
      "Training Epoch 883: 100%|██████████| 378/378 [00:04<00:00, 86.94it/s]\n",
      "Training Epoch 884: 100%|██████████| 378/378 [00:04<00:00, 87.82it/s]\n",
      "Training Epoch 885: 100%|██████████| 378/378 [00:04<00:00, 87.54it/s]\n",
      "Training Epoch 886: 100%|██████████| 378/378 [00:04<00:00, 86.56it/s]\n",
      "Training Epoch 887: 100%|██████████| 378/378 [00:04<00:00, 87.65it/s]\n",
      "Training Epoch 888: 100%|██████████| 378/378 [00:04<00:00, 87.06it/s]\n",
      "Training Epoch 889: 100%|██████████| 378/378 [00:04<00:00, 85.60it/s]\n",
      "Training Epoch 890: 100%|██████████| 378/378 [00:04<00:00, 86.42it/s]\n",
      "Training Epoch 891: 100%|██████████| 378/378 [00:04<00:00, 87.48it/s]\n"
     ]
    },
    {
     "name": "stdout",
     "output_type": "stream",
     "text": [
      "Epoch 890 - Train Loss: 0.3313, Train MSE: 0.3311, Train MAE: 0.3613\n",
      "Epoch 890 - Validation Loss: 1.6902, Validation MSE: 1.6938, Validation MAE: 0.9113\n"
     ]
    },
    {
     "name": "stderr",
     "output_type": "stream",
     "text": [
      "Training Epoch 892: 100%|██████████| 378/378 [00:04<00:00, 86.45it/s]\n",
      "Training Epoch 893: 100%|██████████| 378/378 [00:04<00:00, 87.89it/s]\n",
      "Training Epoch 894: 100%|██████████| 378/378 [00:04<00:00, 89.41it/s]\n",
      "Training Epoch 895: 100%|██████████| 378/378 [00:04<00:00, 87.54it/s]\n",
      "Training Epoch 896: 100%|██████████| 378/378 [00:04<00:00, 88.81it/s]\n",
      "Training Epoch 897: 100%|██████████| 378/378 [00:04<00:00, 87.63it/s]\n",
      "Training Epoch 898: 100%|██████████| 378/378 [00:04<00:00, 88.31it/s]\n",
      "Training Epoch 899: 100%|██████████| 378/378 [00:04<00:00, 87.38it/s]\n",
      "Training Epoch 900: 100%|██████████| 378/378 [00:04<00:00, 85.59it/s]\n",
      "Training Epoch 901: 100%|██████████| 378/378 [00:04<00:00, 87.97it/s]\n"
     ]
    },
    {
     "name": "stdout",
     "output_type": "stream",
     "text": [
      "Epoch 900 - Train Loss: 0.3392, Train MSE: 0.3390, Train MAE: 0.3647\n",
      "Epoch 900 - Validation Loss: 1.7483, Validation MSE: 1.7519, Validation MAE: 0.9249\n"
     ]
    },
    {
     "name": "stderr",
     "output_type": "stream",
     "text": [
      "Training Epoch 902: 100%|██████████| 378/378 [00:04<00:00, 86.53it/s]\n",
      "Training Epoch 903: 100%|██████████| 378/378 [00:04<00:00, 87.12it/s]\n",
      "Training Epoch 904: 100%|██████████| 378/378 [00:04<00:00, 87.61it/s]\n",
      "Training Epoch 905: 100%|██████████| 378/378 [00:04<00:00, 88.82it/s]\n",
      "Training Epoch 906: 100%|██████████| 378/378 [00:04<00:00, 87.04it/s]\n",
      "Training Epoch 907: 100%|██████████| 378/378 [00:04<00:00, 87.85it/s]\n",
      "Training Epoch 908: 100%|██████████| 378/378 [00:04<00:00, 87.94it/s]\n",
      "Training Epoch 909: 100%|██████████| 378/378 [00:04<00:00, 87.55it/s]\n",
      "Training Epoch 910: 100%|██████████| 378/378 [00:04<00:00, 87.22it/s]\n",
      "Training Epoch 911: 100%|██████████| 378/378 [00:04<00:00, 88.09it/s]\n"
     ]
    },
    {
     "name": "stdout",
     "output_type": "stream",
     "text": [
      "Epoch 910 - Train Loss: 0.3387, Train MSE: 0.3387, Train MAE: 0.3633\n",
      "Epoch 910 - Validation Loss: 1.6925, Validation MSE: 1.6963, Validation MAE: 0.9103\n"
     ]
    },
    {
     "name": "stderr",
     "output_type": "stream",
     "text": [
      "Training Epoch 912: 100%|██████████| 378/378 [00:04<00:00, 88.50it/s]\n",
      "Training Epoch 913: 100%|██████████| 378/378 [00:04<00:00, 86.40it/s]\n",
      "Training Epoch 914: 100%|██████████| 378/378 [00:04<00:00, 87.27it/s]\n",
      "Training Epoch 915: 100%|██████████| 378/378 [00:04<00:00, 88.23it/s]\n",
      "Training Epoch 916: 100%|██████████| 378/378 [00:04<00:00, 87.38it/s]\n",
      "Training Epoch 917: 100%|██████████| 378/378 [00:04<00:00, 87.91it/s]\n",
      "Training Epoch 918: 100%|██████████| 378/378 [00:04<00:00, 89.26it/s]\n",
      "Training Epoch 919: 100%|██████████| 378/378 [00:04<00:00, 88.29it/s]\n",
      "Training Epoch 920: 100%|██████████| 378/378 [00:04<00:00, 86.60it/s]\n",
      "Training Epoch 921: 100%|██████████| 378/378 [00:04<00:00, 87.78it/s]\n"
     ]
    },
    {
     "name": "stdout",
     "output_type": "stream",
     "text": [
      "Epoch 920 - Train Loss: 0.3298, Train MSE: 0.3296, Train MAE: 0.3599\n",
      "Epoch 920 - Validation Loss: 1.6868, Validation MSE: 1.6907, Validation MAE: 0.9077\n"
     ]
    },
    {
     "name": "stderr",
     "output_type": "stream",
     "text": [
      "Training Epoch 922: 100%|██████████| 378/378 [00:04<00:00, 87.09it/s]\n",
      "Training Epoch 923: 100%|██████████| 378/378 [00:04<00:00, 88.69it/s]\n",
      "Training Epoch 924: 100%|██████████| 378/378 [00:04<00:00, 88.53it/s]\n",
      "Training Epoch 925: 100%|██████████| 378/378 [00:04<00:00, 87.76it/s]\n",
      "Training Epoch 926: 100%|██████████| 378/378 [00:04<00:00, 87.56it/s]\n",
      "Training Epoch 927: 100%|██████████| 378/378 [00:04<00:00, 87.18it/s]\n",
      "Training Epoch 928: 100%|██████████| 378/378 [00:04<00:00, 86.73it/s]\n",
      "Training Epoch 929: 100%|██████████| 378/378 [00:04<00:00, 87.55it/s]\n",
      "Training Epoch 930: 100%|██████████| 378/378 [00:04<00:00, 87.86it/s]\n",
      "Training Epoch 931: 100%|██████████| 378/378 [00:04<00:00, 86.98it/s]\n"
     ]
    },
    {
     "name": "stdout",
     "output_type": "stream",
     "text": [
      "Epoch 930 - Train Loss: 0.3279, Train MSE: 0.3274, Train MAE: 0.3590\n",
      "Epoch 930 - Validation Loss: 1.7035, Validation MSE: 1.7080, Validation MAE: 0.9148\n"
     ]
    },
    {
     "name": "stderr",
     "output_type": "stream",
     "text": [
      "Training Epoch 932: 100%|██████████| 378/378 [00:04<00:00, 87.48it/s]\n",
      "Training Epoch 933: 100%|██████████| 378/378 [00:04<00:00, 87.46it/s]\n",
      "Training Epoch 934: 100%|██████████| 378/378 [00:04<00:00, 88.59it/s]\n",
      "Training Epoch 935: 100%|██████████| 378/378 [00:04<00:00, 86.91it/s]\n",
      "Training Epoch 936: 100%|██████████| 378/378 [00:04<00:00, 87.27it/s]\n",
      "Training Epoch 937: 100%|██████████| 378/378 [00:04<00:00, 87.11it/s]\n",
      "Training Epoch 938: 100%|██████████| 378/378 [00:04<00:00, 87.38it/s]\n",
      "Training Epoch 939: 100%|██████████| 378/378 [00:04<00:00, 89.59it/s]\n",
      "Training Epoch 940: 100%|██████████| 378/378 [00:04<00:00, 87.71it/s]\n",
      "Training Epoch 941: 100%|██████████| 378/378 [00:04<00:00, 89.00it/s]\n"
     ]
    },
    {
     "name": "stdout",
     "output_type": "stream",
     "text": [
      "Epoch 940 - Train Loss: 0.3236, Train MSE: 0.3232, Train MAE: 0.3565\n",
      "Epoch 940 - Validation Loss: 1.6984, Validation MSE: 1.7020, Validation MAE: 0.9133\n"
     ]
    },
    {
     "name": "stderr",
     "output_type": "stream",
     "text": [
      "Training Epoch 942: 100%|██████████| 378/378 [00:04<00:00, 87.65it/s]\n",
      "Training Epoch 943: 100%|██████████| 378/378 [00:04<00:00, 88.16it/s]\n",
      "Training Epoch 944: 100%|██████████| 378/378 [00:04<00:00, 87.62it/s]\n",
      "Training Epoch 945: 100%|██████████| 378/378 [00:04<00:00, 88.33it/s]\n",
      "Training Epoch 946: 100%|██████████| 378/378 [00:04<00:00, 88.56it/s]\n",
      "Training Epoch 947: 100%|██████████| 378/378 [00:04<00:00, 89.51it/s]\n",
      "Training Epoch 948: 100%|██████████| 378/378 [00:04<00:00, 87.60it/s]\n",
      "Training Epoch 949: 100%|██████████| 378/378 [00:04<00:00, 87.93it/s]\n",
      "Training Epoch 950: 100%|██████████| 378/378 [00:04<00:00, 85.65it/s]\n",
      "Training Epoch 951: 100%|██████████| 378/378 [00:04<00:00, 89.84it/s]\n"
     ]
    },
    {
     "name": "stdout",
     "output_type": "stream",
     "text": [
      "Epoch 950 - Train Loss: 0.3240, Train MSE: 0.3241, Train MAE: 0.3559\n",
      "Epoch 950 - Validation Loss: 1.6968, Validation MSE: 1.7012, Validation MAE: 0.9171\n"
     ]
    },
    {
     "name": "stderr",
     "output_type": "stream",
     "text": [
      "Training Epoch 952: 100%|██████████| 378/378 [00:04<00:00, 87.95it/s]\n",
      "Training Epoch 953: 100%|██████████| 378/378 [00:04<00:00, 87.80it/s]\n",
      "Training Epoch 954: 100%|██████████| 378/378 [00:04<00:00, 87.10it/s]\n",
      "Training Epoch 955: 100%|██████████| 378/378 [00:04<00:00, 88.65it/s]\n",
      "Training Epoch 956: 100%|██████████| 378/378 [00:04<00:00, 86.75it/s]\n",
      "Training Epoch 957: 100%|██████████| 378/378 [00:04<00:00, 88.62it/s]\n",
      "Training Epoch 958: 100%|██████████| 378/378 [00:04<00:00, 87.70it/s]\n",
      "Training Epoch 959: 100%|██████████| 378/378 [00:04<00:00, 88.00it/s]\n",
      "Training Epoch 960: 100%|██████████| 378/378 [00:04<00:00, 86.24it/s]\n",
      "Training Epoch 961: 100%|██████████| 378/378 [00:04<00:00, 86.92it/s]\n"
     ]
    },
    {
     "name": "stdout",
     "output_type": "stream",
     "text": [
      "Epoch 960 - Train Loss: 0.3274, Train MSE: 0.3273, Train MAE: 0.3580\n",
      "Epoch 960 - Validation Loss: 1.7138, Validation MSE: 1.7184, Validation MAE: 0.9240\n"
     ]
    },
    {
     "name": "stderr",
     "output_type": "stream",
     "text": [
      "Training Epoch 962: 100%|██████████| 378/378 [00:04<00:00, 87.75it/s]\n",
      "Training Epoch 963: 100%|██████████| 378/378 [00:04<00:00, 87.68it/s]\n",
      "Training Epoch 964: 100%|██████████| 378/378 [00:04<00:00, 89.27it/s]\n",
      "Training Epoch 965: 100%|██████████| 378/378 [00:04<00:00, 87.86it/s]\n",
      "Training Epoch 966: 100%|██████████| 378/378 [00:04<00:00, 88.14it/s]\n",
      "Training Epoch 967: 100%|██████████| 378/378 [00:04<00:00, 86.84it/s]\n",
      "Training Epoch 968: 100%|██████████| 378/378 [00:04<00:00, 86.40it/s]\n",
      "Training Epoch 969: 100%|██████████| 378/378 [00:04<00:00, 88.19it/s]\n",
      "Training Epoch 970: 100%|██████████| 378/378 [00:04<00:00, 87.48it/s]\n",
      "Training Epoch 971: 100%|██████████| 378/378 [00:04<00:00, 86.16it/s]\n"
     ]
    },
    {
     "name": "stdout",
     "output_type": "stream",
     "text": [
      "Epoch 970 - Train Loss: 0.3303, Train MSE: 0.3303, Train MAE: 0.3588\n",
      "Epoch 970 - Validation Loss: 1.6722, Validation MSE: 1.6768, Validation MAE: 0.9080\n"
     ]
    },
    {
     "name": "stderr",
     "output_type": "stream",
     "text": [
      "Training Epoch 972: 100%|██████████| 378/378 [00:04<00:00, 86.29it/s]\n",
      "Training Epoch 973: 100%|██████████| 378/378 [00:04<00:00, 90.85it/s]\n",
      "Training Epoch 974: 100%|██████████| 378/378 [00:04<00:00, 88.75it/s]\n",
      "Training Epoch 975: 100%|██████████| 378/378 [00:04<00:00, 87.55it/s]\n",
      "Training Epoch 976: 100%|██████████| 378/378 [00:04<00:00, 88.54it/s]\n",
      "Training Epoch 977: 100%|██████████| 378/378 [00:04<00:00, 89.01it/s]\n",
      "Training Epoch 978: 100%|██████████| 378/378 [00:04<00:00, 87.14it/s]\n",
      "Training Epoch 979: 100%|██████████| 378/378 [00:04<00:00, 89.13it/s]\n",
      "Training Epoch 980: 100%|██████████| 378/378 [00:04<00:00, 87.69it/s]\n",
      "Training Epoch 981: 100%|██████████| 378/378 [00:04<00:00, 87.48it/s]\n"
     ]
    },
    {
     "name": "stdout",
     "output_type": "stream",
     "text": [
      "Epoch 980 - Train Loss: 0.3148, Train MSE: 0.3148, Train MAE: 0.3509\n",
      "Epoch 980 - Validation Loss: 1.6995, Validation MSE: 1.7026, Validation MAE: 0.9154\n"
     ]
    },
    {
     "name": "stderr",
     "output_type": "stream",
     "text": [
      "Training Epoch 982: 100%|██████████| 378/378 [00:04<00:00, 88.13it/s]\n",
      "Training Epoch 983: 100%|██████████| 378/378 [00:04<00:00, 87.28it/s]\n",
      "Training Epoch 984: 100%|██████████| 378/378 [00:04<00:00, 87.62it/s]\n",
      "Training Epoch 985: 100%|██████████| 378/378 [00:04<00:00, 86.07it/s]\n",
      "Training Epoch 986: 100%|██████████| 378/378 [00:04<00:00, 87.69it/s]\n",
      "Training Epoch 987: 100%|██████████| 378/378 [00:04<00:00, 87.97it/s]\n",
      "Training Epoch 988: 100%|██████████| 378/378 [00:04<00:00, 86.95it/s]\n",
      "Training Epoch 989: 100%|██████████| 378/378 [00:04<00:00, 86.95it/s]\n",
      "Training Epoch 990: 100%|██████████| 378/378 [00:04<00:00, 87.63it/s]\n",
      "Training Epoch 991: 100%|██████████| 378/378 [00:04<00:00, 87.28it/s]\n"
     ]
    },
    {
     "name": "stdout",
     "output_type": "stream",
     "text": [
      "Epoch 990 - Train Loss: 0.3218, Train MSE: 0.3217, Train MAE: 0.3571\n",
      "Epoch 990 - Validation Loss: 1.7293, Validation MSE: 1.7341, Validation MAE: 0.9196\n"
     ]
    },
    {
     "name": "stderr",
     "output_type": "stream",
     "text": [
      "Training Epoch 992: 100%|██████████| 378/378 [00:04<00:00, 87.03it/s]\n",
      "Training Epoch 993: 100%|██████████| 378/378 [00:04<00:00, 88.83it/s]\n",
      "Training Epoch 994: 100%|██████████| 378/378 [00:04<00:00, 87.11it/s]\n",
      "Training Epoch 995: 100%|██████████| 378/378 [00:04<00:00, 87.69it/s]\n",
      "Training Epoch 996: 100%|██████████| 378/378 [00:04<00:00, 85.98it/s]\n",
      "Training Epoch 997: 100%|██████████| 378/378 [00:04<00:00, 86.87it/s]\n",
      "Training Epoch 998: 100%|██████████| 378/378 [00:04<00:00, 88.86it/s]\n",
      "Training Epoch 999: 100%|██████████| 378/378 [00:04<00:00, 86.41it/s]\n",
      "Training Epoch 1000: 100%|██████████| 378/378 [00:04<00:00, 87.38it/s]\n",
      "Training Epoch 1001: 100%|██████████| 378/378 [00:04<00:00, 87.97it/s]\n"
     ]
    },
    {
     "name": "stdout",
     "output_type": "stream",
     "text": [
      "Epoch 1000 - Train Loss: 0.3211, Train MSE: 0.3213, Train MAE: 0.3530\n",
      "Epoch 1000 - Validation Loss: 1.6851, Validation MSE: 1.6884, Validation MAE: 0.9091\n"
     ]
    },
    {
     "name": "stderr",
     "output_type": "stream",
     "text": [
      "Training Epoch 1002: 100%|██████████| 378/378 [00:04<00:00, 87.56it/s]\n",
      "Training Epoch 1003: 100%|██████████| 378/378 [00:04<00:00, 85.76it/s]\n",
      "Training Epoch 1004: 100%|██████████| 378/378 [00:04<00:00, 88.15it/s]\n",
      "Training Epoch 1005: 100%|██████████| 378/378 [00:04<00:00, 87.53it/s]\n",
      "Training Epoch 1006: 100%|██████████| 378/378 [00:04<00:00, 87.18it/s]\n",
      "Training Epoch 1007: 100%|██████████| 378/378 [00:04<00:00, 86.55it/s]\n",
      "Training Epoch 1008: 100%|██████████| 378/378 [00:04<00:00, 85.59it/s]\n",
      "Training Epoch 1009: 100%|██████████| 378/378 [00:04<00:00, 87.74it/s]\n",
      "Training Epoch 1010: 100%|██████████| 378/378 [00:04<00:00, 87.46it/s]\n",
      "Training Epoch 1011: 100%|██████████| 378/378 [00:04<00:00, 87.47it/s]\n"
     ]
    },
    {
     "name": "stdout",
     "output_type": "stream",
     "text": [
      "Epoch 1010 - Train Loss: 0.3178, Train MSE: 0.3180, Train MAE: 0.3512\n",
      "Epoch 1010 - Validation Loss: 1.7350, Validation MSE: 1.7397, Validation MAE: 0.9293\n"
     ]
    },
    {
     "name": "stderr",
     "output_type": "stream",
     "text": [
      "Training Epoch 1012: 100%|██████████| 378/378 [00:04<00:00, 87.83it/s]\n",
      "Training Epoch 1013: 100%|██████████| 378/378 [00:04<00:00, 88.42it/s]\n",
      "Training Epoch 1014: 100%|██████████| 378/378 [00:04<00:00, 86.65it/s]\n",
      "Training Epoch 1015: 100%|██████████| 378/378 [00:04<00:00, 87.58it/s]\n",
      "Training Epoch 1016: 100%|██████████| 378/378 [00:04<00:00, 88.47it/s]\n",
      "Training Epoch 1017: 100%|██████████| 378/378 [00:04<00:00, 87.61it/s]\n",
      "Training Epoch 1018: 100%|██████████| 378/378 [00:04<00:00, 87.73it/s]\n",
      "Training Epoch 1019: 100%|██████████| 378/378 [00:04<00:00, 88.21it/s]\n",
      "Training Epoch 1020: 100%|██████████| 378/378 [00:04<00:00, 88.31it/s]\n",
      "Training Epoch 1021: 100%|██████████| 378/378 [00:04<00:00, 87.32it/s]\n"
     ]
    },
    {
     "name": "stdout",
     "output_type": "stream",
     "text": [
      "Epoch 1020 - Train Loss: 0.3164, Train MSE: 0.3164, Train MAE: 0.3499\n",
      "Epoch 1020 - Validation Loss: 1.6887, Validation MSE: 1.6926, Validation MAE: 0.9147\n"
     ]
    },
    {
     "name": "stderr",
     "output_type": "stream",
     "text": [
      "Training Epoch 1022: 100%|██████████| 378/378 [00:04<00:00, 86.87it/s]\n",
      "Training Epoch 1023: 100%|██████████| 378/378 [00:04<00:00, 87.31it/s]\n",
      "Training Epoch 1024: 100%|██████████| 378/378 [00:04<00:00, 87.23it/s]\n",
      "Training Epoch 1025: 100%|██████████| 378/378 [00:04<00:00, 88.96it/s]\n",
      "Training Epoch 1026: 100%|██████████| 378/378 [00:04<00:00, 88.58it/s]\n",
      "Training Epoch 1027: 100%|██████████| 378/378 [00:04<00:00, 86.68it/s]\n",
      "Training Epoch 1028: 100%|██████████| 378/378 [00:04<00:00, 87.23it/s]\n",
      "Training Epoch 1029: 100%|██████████| 378/378 [00:04<00:00, 87.16it/s]\n",
      "Training Epoch 1030: 100%|██████████| 378/378 [00:04<00:00, 87.97it/s]\n",
      "Training Epoch 1031: 100%|██████████| 378/378 [00:04<00:00, 85.46it/s]\n"
     ]
    },
    {
     "name": "stdout",
     "output_type": "stream",
     "text": [
      "Epoch 1030 - Train Loss: 0.3295, Train MSE: 0.3296, Train MAE: 0.3564\n",
      "Epoch 1030 - Validation Loss: 1.6716, Validation MSE: 1.6752, Validation MAE: 0.9084\n"
     ]
    },
    {
     "name": "stderr",
     "output_type": "stream",
     "text": [
      "Training Epoch 1032: 100%|██████████| 378/378 [00:04<00:00, 89.00it/s]\n",
      "Training Epoch 1033: 100%|██████████| 378/378 [00:04<00:00, 87.85it/s]\n",
      "Training Epoch 1034: 100%|██████████| 378/378 [00:04<00:00, 88.44it/s]\n",
      "Training Epoch 1035: 100%|██████████| 378/378 [00:04<00:00, 83.74it/s]\n",
      "Training Epoch 1036: 100%|██████████| 378/378 [00:04<00:00, 88.01it/s]\n",
      "Training Epoch 1037: 100%|██████████| 378/378 [00:04<00:00, 87.09it/s]\n",
      "Training Epoch 1038: 100%|██████████| 378/378 [00:04<00:00, 87.85it/s]\n",
      "Training Epoch 1039: 100%|██████████| 378/378 [00:04<00:00, 84.68it/s]\n",
      "Training Epoch 1040: 100%|██████████| 378/378 [00:04<00:00, 87.35it/s]\n",
      "Training Epoch 1041: 100%|██████████| 378/378 [00:04<00:00, 89.35it/s]\n"
     ]
    },
    {
     "name": "stdout",
     "output_type": "stream",
     "text": [
      "Epoch 1040 - Train Loss: 0.3165, Train MSE: 0.3165, Train MAE: 0.3526\n",
      "Epoch 1040 - Validation Loss: 1.7348, Validation MSE: 1.7393, Validation MAE: 0.9179\n"
     ]
    },
    {
     "name": "stderr",
     "output_type": "stream",
     "text": [
      "Training Epoch 1042: 100%|██████████| 378/378 [00:04<00:00, 87.84it/s]\n",
      "Training Epoch 1043: 100%|██████████| 378/378 [00:04<00:00, 87.36it/s]\n",
      "Training Epoch 1044: 100%|██████████| 378/378 [00:04<00:00, 89.17it/s]\n",
      "Training Epoch 1045: 100%|██████████| 378/378 [00:04<00:00, 87.16it/s]\n",
      "Training Epoch 1046: 100%|██████████| 378/378 [00:05<00:00, 69.71it/s]\n",
      "Training Epoch 1047: 100%|██████████| 378/378 [00:04<00:00, 86.91it/s]\n",
      "Training Epoch 1048: 100%|██████████| 378/378 [00:04<00:00, 87.13it/s]\n",
      "Training Epoch 1049: 100%|██████████| 378/378 [00:04<00:00, 87.39it/s]\n",
      "Training Epoch 1050: 100%|██████████| 378/378 [00:04<00:00, 87.81it/s]\n",
      "Training Epoch 1051: 100%|██████████| 378/378 [00:04<00:00, 87.44it/s]\n"
     ]
    },
    {
     "name": "stdout",
     "output_type": "stream",
     "text": [
      "Epoch 1050 - Train Loss: 0.3142, Train MSE: 0.3140, Train MAE: 0.3490\n",
      "Epoch 1050 - Validation Loss: 1.7046, Validation MSE: 1.7080, Validation MAE: 0.9164\n"
     ]
    },
    {
     "name": "stderr",
     "output_type": "stream",
     "text": [
      "Training Epoch 1052: 100%|██████████| 378/378 [00:04<00:00, 87.41it/s]\n",
      "Training Epoch 1053: 100%|██████████| 378/378 [00:04<00:00, 88.05it/s]\n",
      "Training Epoch 1054: 100%|██████████| 378/378 [00:04<00:00, 88.22it/s]\n",
      "Training Epoch 1055: 100%|██████████| 378/378 [00:04<00:00, 89.46it/s]\n",
      "Training Epoch 1056: 100%|██████████| 378/378 [00:04<00:00, 88.20it/s]\n",
      "Training Epoch 1057: 100%|██████████| 378/378 [00:04<00:00, 87.13it/s]\n",
      "Training Epoch 1058: 100%|██████████| 378/378 [00:04<00:00, 88.39it/s]\n",
      "Training Epoch 1059: 100%|██████████| 378/378 [00:04<00:00, 86.97it/s]\n",
      "Training Epoch 1060: 100%|██████████| 378/378 [00:04<00:00, 87.90it/s]\n",
      "Training Epoch 1061: 100%|██████████| 378/378 [00:04<00:00, 87.83it/s]\n"
     ]
    },
    {
     "name": "stdout",
     "output_type": "stream",
     "text": [
      "Epoch 1060 - Train Loss: 0.3129, Train MSE: 0.3129, Train MAE: 0.3489\n",
      "Epoch 1060 - Validation Loss: 1.6548, Validation MSE: 1.6590, Validation MAE: 0.9024\n"
     ]
    },
    {
     "name": "stderr",
     "output_type": "stream",
     "text": [
      "Training Epoch 1062: 100%|██████████| 378/378 [00:04<00:00, 88.99it/s]\n",
      "Training Epoch 1063: 100%|██████████| 378/378 [00:04<00:00, 88.65it/s]\n",
      "Training Epoch 1064: 100%|██████████| 378/378 [00:04<00:00, 87.31it/s]\n",
      "Training Epoch 1065: 100%|██████████| 378/378 [00:04<00:00, 87.80it/s]\n",
      "Training Epoch 1066: 100%|██████████| 378/378 [00:04<00:00, 88.65it/s]\n",
      "Training Epoch 1067: 100%|██████████| 378/378 [00:04<00:00, 87.71it/s]\n",
      "Training Epoch 1068: 100%|██████████| 378/378 [00:04<00:00, 87.91it/s]\n",
      "Training Epoch 1069: 100%|██████████| 378/378 [00:04<00:00, 86.51it/s]\n",
      "Training Epoch 1070: 100%|██████████| 378/378 [00:04<00:00, 87.19it/s]\n",
      "Training Epoch 1071: 100%|██████████| 378/378 [00:04<00:00, 87.38it/s]\n"
     ]
    },
    {
     "name": "stdout",
     "output_type": "stream",
     "text": [
      "Epoch 1070 - Train Loss: 0.3162, Train MSE: 0.3162, Train MAE: 0.3496\n",
      "Epoch 1070 - Validation Loss: 1.7128, Validation MSE: 1.7164, Validation MAE: 0.9194\n"
     ]
    },
    {
     "name": "stderr",
     "output_type": "stream",
     "text": [
      "Training Epoch 1072: 100%|██████████| 378/378 [00:04<00:00, 89.19it/s]\n",
      "Training Epoch 1073: 100%|██████████| 378/378 [00:04<00:00, 87.47it/s]\n",
      "Training Epoch 1074: 100%|██████████| 378/378 [00:04<00:00, 87.30it/s]\n",
      "Training Epoch 1075: 100%|██████████| 378/378 [00:04<00:00, 86.55it/s]\n",
      "Training Epoch 1076: 100%|██████████| 378/378 [00:04<00:00, 88.13it/s]\n",
      "Training Epoch 1077: 100%|██████████| 378/378 [00:04<00:00, 87.20it/s]\n",
      "Training Epoch 1078: 100%|██████████| 378/378 [00:04<00:00, 87.29it/s]\n",
      "Training Epoch 1079: 100%|██████████| 378/378 [00:04<00:00, 89.46it/s]\n",
      "Training Epoch 1080: 100%|██████████| 378/378 [00:04<00:00, 88.39it/s]\n",
      "Training Epoch 1081: 100%|██████████| 378/378 [00:04<00:00, 87.35it/s]\n"
     ]
    },
    {
     "name": "stdout",
     "output_type": "stream",
     "text": [
      "Epoch 1080 - Train Loss: 0.3175, Train MSE: 0.3176, Train MAE: 0.3512\n",
      "Epoch 1080 - Validation Loss: 1.7252, Validation MSE: 1.7283, Validation MAE: 0.9242\n"
     ]
    },
    {
     "name": "stderr",
     "output_type": "stream",
     "text": [
      "Training Epoch 1082: 100%|██████████| 378/378 [00:04<00:00, 85.61it/s]\n",
      "Training Epoch 1083: 100%|██████████| 378/378 [00:04<00:00, 88.53it/s]\n",
      "Training Epoch 1084: 100%|██████████| 378/378 [00:04<00:00, 87.23it/s]\n",
      "Training Epoch 1085: 100%|██████████| 378/378 [00:04<00:00, 87.12it/s]\n",
      "Training Epoch 1086: 100%|██████████| 378/378 [00:04<00:00, 88.07it/s]\n",
      "Training Epoch 1087: 100%|██████████| 378/378 [00:04<00:00, 86.68it/s]\n",
      "Training Epoch 1088: 100%|██████████| 378/378 [00:04<00:00, 89.72it/s]\n",
      "Training Epoch 1089: 100%|██████████| 378/378 [00:04<00:00, 87.76it/s]\n",
      "Training Epoch 1090: 100%|██████████| 378/378 [00:04<00:00, 87.74it/s]\n",
      "Training Epoch 1091: 100%|██████████| 378/378 [00:04<00:00, 87.44it/s]\n"
     ]
    },
    {
     "name": "stdout",
     "output_type": "stream",
     "text": [
      "Epoch 1090 - Train Loss: 0.3078, Train MSE: 0.3080, Train MAE: 0.3455\n",
      "Epoch 1090 - Validation Loss: 1.6545, Validation MSE: 1.6591, Validation MAE: 0.9027\n"
     ]
    },
    {
     "name": "stderr",
     "output_type": "stream",
     "text": [
      "Training Epoch 1092: 100%|██████████| 378/378 [00:04<00:00, 87.38it/s]\n",
      "Training Epoch 1093: 100%|██████████| 378/378 [00:04<00:00, 87.80it/s]\n",
      "Training Epoch 1094: 100%|██████████| 378/378 [00:04<00:00, 88.12it/s]\n",
      "Training Epoch 1095: 100%|██████████| 378/378 [00:04<00:00, 87.54it/s]\n",
      "Training Epoch 1096: 100%|██████████| 378/378 [00:04<00:00, 87.48it/s]\n",
      "Training Epoch 1097: 100%|██████████| 378/378 [00:04<00:00, 88.50it/s]\n",
      "Training Epoch 1098: 100%|██████████| 378/378 [00:04<00:00, 86.99it/s]\n",
      "Training Epoch 1099: 100%|██████████| 378/378 [00:04<00:00, 87.13it/s]\n",
      "Training Epoch 1100: 100%|██████████| 378/378 [00:04<00:00, 89.40it/s]\n",
      "Training Epoch 1101: 100%|██████████| 378/378 [00:04<00:00, 88.56it/s]\n"
     ]
    },
    {
     "name": "stdout",
     "output_type": "stream",
     "text": [
      "Epoch 1100 - Train Loss: 0.3073, Train MSE: 0.3069, Train MAE: 0.3451\n",
      "Epoch 1100 - Validation Loss: 1.6708, Validation MSE: 1.6743, Validation MAE: 0.9014\n"
     ]
    },
    {
     "name": "stderr",
     "output_type": "stream",
     "text": [
      "Training Epoch 1102: 100%|██████████| 378/378 [00:04<00:00, 88.15it/s]\n",
      "Training Epoch 1103: 100%|██████████| 378/378 [00:04<00:00, 87.65it/s]\n",
      "Training Epoch 1104: 100%|██████████| 378/378 [00:04<00:00, 86.54it/s]\n",
      "Training Epoch 1105: 100%|██████████| 378/378 [00:04<00:00, 87.48it/s]\n",
      "Training Epoch 1106: 100%|██████████| 378/378 [00:04<00:00, 85.37it/s]\n",
      "Training Epoch 1107: 100%|██████████| 378/378 [00:04<00:00, 86.55it/s]\n",
      "Training Epoch 1108: 100%|██████████| 378/378 [00:04<00:00, 88.99it/s]\n",
      "Training Epoch 1109: 100%|██████████| 378/378 [00:04<00:00, 88.81it/s]\n",
      "Training Epoch 1110: 100%|██████████| 378/378 [00:04<00:00, 86.27it/s]\n",
      "Training Epoch 1111: 100%|██████████| 378/378 [00:04<00:00, 87.42it/s]\n"
     ]
    },
    {
     "name": "stdout",
     "output_type": "stream",
     "text": [
      "Epoch 1110 - Train Loss: 0.3120, Train MSE: 0.3121, Train MAE: 0.3488\n",
      "Epoch 1110 - Validation Loss: 1.6736, Validation MSE: 1.6783, Validation MAE: 0.9086\n"
     ]
    },
    {
     "name": "stderr",
     "output_type": "stream",
     "text": [
      "Training Epoch 1112: 100%|██████████| 378/378 [00:04<00:00, 88.09it/s]\n",
      "Training Epoch 1113: 100%|██████████| 378/378 [00:04<00:00, 87.46it/s]\n",
      "Training Epoch 1114: 100%|██████████| 378/378 [00:04<00:00, 86.85it/s]\n",
      "Training Epoch 1115: 100%|██████████| 378/378 [00:04<00:00, 87.57it/s]\n",
      "Training Epoch 1116: 100%|██████████| 378/378 [00:04<00:00, 87.52it/s]\n",
      "Training Epoch 1117: 100%|██████████| 378/378 [00:04<00:00, 89.63it/s]\n",
      "Training Epoch 1118: 100%|██████████| 378/378 [00:04<00:00, 87.70it/s]\n",
      "Training Epoch 1119: 100%|██████████| 378/378 [00:04<00:00, 88.48it/s]\n",
      "Training Epoch 1120: 100%|██████████| 378/378 [00:04<00:00, 89.01it/s]\n",
      "Training Epoch 1121: 100%|██████████| 378/378 [00:04<00:00, 85.82it/s]\n"
     ]
    },
    {
     "name": "stdout",
     "output_type": "stream",
     "text": [
      "Epoch 1120 - Train Loss: 0.3023, Train MSE: 0.3024, Train MAE: 0.3441\n",
      "Epoch 1120 - Validation Loss: 1.6999, Validation MSE: 1.7037, Validation MAE: 0.9111\n"
     ]
    },
    {
     "name": "stderr",
     "output_type": "stream",
     "text": [
      "Training Epoch 1122: 100%|██████████| 378/378 [00:04<00:00, 87.14it/s]\n",
      "Training Epoch 1123: 100%|██████████| 378/378 [00:04<00:00, 87.69it/s]\n",
      "Training Epoch 1124: 100%|██████████| 378/378 [00:04<00:00, 88.08it/s]\n",
      "Training Epoch 1125: 100%|██████████| 378/378 [00:04<00:00, 86.94it/s]\n",
      "Training Epoch 1126: 100%|██████████| 378/378 [00:04<00:00, 86.86it/s]\n",
      "Training Epoch 1127: 100%|██████████| 378/378 [00:04<00:00, 88.07it/s]\n",
      "Training Epoch 1128: 100%|██████████| 378/378 [00:04<00:00, 86.44it/s]\n",
      "Training Epoch 1129: 100%|██████████| 378/378 [00:04<00:00, 87.54it/s]\n",
      "Training Epoch 1130: 100%|██████████| 378/378 [00:04<00:00, 86.46it/s]\n",
      "Training Epoch 1131: 100%|██████████| 378/378 [00:04<00:00, 88.78it/s]\n"
     ]
    },
    {
     "name": "stdout",
     "output_type": "stream",
     "text": [
      "Epoch 1130 - Train Loss: 0.3072, Train MSE: 0.3072, Train MAE: 0.3455\n",
      "Epoch 1130 - Validation Loss: 1.7308, Validation MSE: 1.7348, Validation MAE: 0.9254\n"
     ]
    },
    {
     "name": "stderr",
     "output_type": "stream",
     "text": [
      "Training Epoch 1132: 100%|██████████| 378/378 [00:04<00:00, 86.55it/s]\n",
      "Training Epoch 1133: 100%|██████████| 378/378 [00:04<00:00, 87.68it/s]\n",
      "Training Epoch 1134: 100%|██████████| 378/378 [00:04<00:00, 86.56it/s]\n",
      "Training Epoch 1135: 100%|██████████| 378/378 [00:04<00:00, 85.60it/s]\n",
      "Training Epoch 1136: 100%|██████████| 378/378 [00:04<00:00, 88.86it/s]\n",
      "Training Epoch 1137: 100%|██████████| 378/378 [00:04<00:00, 88.21it/s]\n",
      "Training Epoch 1138: 100%|██████████| 378/378 [00:04<00:00, 87.94it/s]\n",
      "Training Epoch 1139: 100%|██████████| 378/378 [00:04<00:00, 86.97it/s]\n",
      "Training Epoch 1140: 100%|██████████| 378/378 [00:04<00:00, 88.07it/s]\n",
      "Training Epoch 1141: 100%|██████████| 378/378 [00:04<00:00, 88.28it/s]\n"
     ]
    },
    {
     "name": "stdout",
     "output_type": "stream",
     "text": [
      "Epoch 1140 - Train Loss: 0.2994, Train MSE: 0.2987, Train MAE: 0.3408\n",
      "Epoch 1140 - Validation Loss: 1.7037, Validation MSE: 1.7087, Validation MAE: 0.9190\n"
     ]
    },
    {
     "name": "stderr",
     "output_type": "stream",
     "text": [
      "Training Epoch 1142: 100%|██████████| 378/378 [00:04<00:00, 86.91it/s]\n",
      "Training Epoch 1143: 100%|██████████| 378/378 [00:04<00:00, 88.39it/s]\n",
      "Training Epoch 1144: 100%|██████████| 378/378 [00:04<00:00, 87.47it/s]\n",
      "Training Epoch 1145: 100%|██████████| 378/378 [00:04<00:00, 87.15it/s]\n",
      "Training Epoch 1146: 100%|██████████| 378/378 [00:04<00:00, 86.11it/s]\n",
      "Training Epoch 1147: 100%|██████████| 378/378 [00:04<00:00, 87.80it/s]\n",
      "Training Epoch 1148: 100%|██████████| 378/378 [00:04<00:00, 87.78it/s]\n",
      "Training Epoch 1149: 100%|██████████| 378/378 [00:05<00:00, 67.58it/s]\n",
      "Training Epoch 1150: 100%|██████████| 378/378 [00:04<00:00, 87.38it/s]\n",
      "Training Epoch 1151: 100%|██████████| 378/378 [00:04<00:00, 88.09it/s]\n"
     ]
    },
    {
     "name": "stdout",
     "output_type": "stream",
     "text": [
      "Epoch 1150 - Train Loss: 0.3003, Train MSE: 0.3005, Train MAE: 0.3418\n",
      "Epoch 1150 - Validation Loss: 1.6814, Validation MSE: 1.6856, Validation MAE: 0.9101\n"
     ]
    },
    {
     "name": "stderr",
     "output_type": "stream",
     "text": [
      "Training Epoch 1152: 100%|██████████| 378/378 [00:04<00:00, 86.89it/s]\n",
      "Training Epoch 1153: 100%|██████████| 378/378 [00:04<00:00, 83.46it/s]\n",
      "Training Epoch 1154: 100%|██████████| 378/378 [00:04<00:00, 87.68it/s]\n",
      "Training Epoch 1155: 100%|██████████| 378/378 [00:04<00:00, 87.74it/s]\n",
      "Training Epoch 1156: 100%|██████████| 378/378 [00:04<00:00, 87.59it/s]\n",
      "Training Epoch 1157: 100%|██████████| 378/378 [00:04<00:00, 88.79it/s]\n",
      "Training Epoch 1158: 100%|██████████| 378/378 [00:04<00:00, 86.88it/s]\n",
      "Training Epoch 1159: 100%|██████████| 378/378 [00:04<00:00, 87.42it/s]\n",
      "Training Epoch 1160: 100%|██████████| 378/378 [00:04<00:00, 86.72it/s]\n",
      "Training Epoch 1161: 100%|██████████| 378/378 [00:04<00:00, 88.11it/s]\n"
     ]
    },
    {
     "name": "stdout",
     "output_type": "stream",
     "text": [
      "Epoch 1160 - Train Loss: 0.2878, Train MSE: 0.2879, Train MAE: 0.3358\n",
      "Epoch 1160 - Validation Loss: 1.6890, Validation MSE: 1.6933, Validation MAE: 0.9136\n"
     ]
    },
    {
     "name": "stderr",
     "output_type": "stream",
     "text": [
      "Training Epoch 1162: 100%|██████████| 378/378 [00:04<00:00, 89.28it/s]\n",
      "Training Epoch 1163: 100%|██████████| 378/378 [00:04<00:00, 87.18it/s]\n",
      "Training Epoch 1164: 100%|██████████| 378/378 [00:04<00:00, 87.00it/s]\n",
      "Training Epoch 1165: 100%|██████████| 378/378 [00:04<00:00, 89.10it/s]\n",
      "Training Epoch 1166: 100%|██████████| 378/378 [00:04<00:00, 88.34it/s]\n",
      "Training Epoch 1167: 100%|██████████| 378/378 [00:04<00:00, 86.86it/s]\n",
      "Training Epoch 1168: 100%|██████████| 378/378 [00:04<00:00, 88.56it/s]\n",
      "Training Epoch 1169: 100%|██████████| 378/378 [00:04<00:00, 88.57it/s]\n",
      "Training Epoch 1170: 100%|██████████| 378/378 [00:04<00:00, 89.88it/s]\n",
      "Training Epoch 1171: 100%|██████████| 378/378 [00:04<00:00, 88.32it/s]\n"
     ]
    },
    {
     "name": "stdout",
     "output_type": "stream",
     "text": [
      "Epoch 1170 - Train Loss: 0.3141, Train MSE: 0.3140, Train MAE: 0.3456\n",
      "Epoch 1170 - Validation Loss: 1.7148, Validation MSE: 1.7184, Validation MAE: 0.9174\n"
     ]
    },
    {
     "name": "stderr",
     "output_type": "stream",
     "text": [
      "Training Epoch 1172: 100%|██████████| 378/378 [00:04<00:00, 89.22it/s]\n",
      "Training Epoch 1173: 100%|██████████| 378/378 [00:04<00:00, 88.91it/s]\n",
      "Training Epoch 1174: 100%|██████████| 378/378 [00:04<00:00, 87.17it/s]\n",
      "Training Epoch 1175: 100%|██████████| 378/378 [00:04<00:00, 87.26it/s]\n",
      "Training Epoch 1176: 100%|██████████| 378/378 [00:04<00:00, 90.45it/s]\n",
      "Training Epoch 1177: 100%|██████████| 378/378 [00:04<00:00, 88.41it/s]\n",
      "Training Epoch 1178: 100%|██████████| 378/378 [00:04<00:00, 86.59it/s]\n",
      "Training Epoch 1179: 100%|██████████| 378/378 [00:04<00:00, 89.22it/s]\n",
      "Training Epoch 1180: 100%|██████████| 378/378 [00:04<00:00, 90.03it/s]\n",
      "Training Epoch 1181: 100%|██████████| 378/378 [00:04<00:00, 89.00it/s]\n"
     ]
    },
    {
     "name": "stdout",
     "output_type": "stream",
     "text": [
      "Epoch 1180 - Train Loss: 0.2967, Train MSE: 0.2969, Train MAE: 0.3377\n",
      "Epoch 1180 - Validation Loss: 1.7392, Validation MSE: 1.7437, Validation MAE: 0.9216\n"
     ]
    },
    {
     "name": "stderr",
     "output_type": "stream",
     "text": [
      "Training Epoch 1182: 100%|██████████| 378/378 [00:04<00:00, 87.88it/s]\n",
      "Training Epoch 1183: 100%|██████████| 378/378 [00:04<00:00, 86.95it/s]\n",
      "Training Epoch 1184: 100%|██████████| 378/378 [00:04<00:00, 87.50it/s]\n",
      "Training Epoch 1185: 100%|██████████| 378/378 [00:04<00:00, 87.69it/s]\n",
      "Training Epoch 1186: 100%|██████████| 378/378 [00:04<00:00, 88.76it/s]\n",
      "Training Epoch 1187: 100%|██████████| 378/378 [00:04<00:00, 87.54it/s]\n",
      "Training Epoch 1188: 100%|██████████| 378/378 [00:04<00:00, 89.50it/s]\n",
      "Training Epoch 1189: 100%|██████████| 378/378 [00:04<00:00, 86.38it/s]\n",
      "Training Epoch 1190: 100%|██████████| 378/378 [00:04<00:00, 88.70it/s]\n",
      "Training Epoch 1191: 100%|██████████| 378/378 [00:04<00:00, 87.11it/s]\n"
     ]
    },
    {
     "name": "stdout",
     "output_type": "stream",
     "text": [
      "Epoch 1190 - Train Loss: 0.2957, Train MSE: 0.2953, Train MAE: 0.3399\n",
      "Epoch 1190 - Validation Loss: 1.7659, Validation MSE: 1.7699, Validation MAE: 0.9326\n"
     ]
    },
    {
     "name": "stderr",
     "output_type": "stream",
     "text": [
      "Training Epoch 1192: 100%|██████████| 378/378 [00:04<00:00, 88.18it/s]\n",
      "Training Epoch 1193: 100%|██████████| 378/378 [00:04<00:00, 89.96it/s]\n",
      "Training Epoch 1194: 100%|██████████| 378/378 [00:04<00:00, 88.91it/s]\n",
      "Training Epoch 1195: 100%|██████████| 378/378 [00:04<00:00, 88.77it/s]\n",
      "Training Epoch 1196: 100%|██████████| 378/378 [00:04<00:00, 87.76it/s]\n",
      "Training Epoch 1197: 100%|██████████| 378/378 [00:04<00:00, 87.88it/s]\n",
      "Training Epoch 1198: 100%|██████████| 378/378 [00:04<00:00, 87.95it/s]\n",
      "Training Epoch 1199: 100%|██████████| 378/378 [00:04<00:00, 89.09it/s]\n",
      "Training Epoch 1200: 100%|██████████| 378/378 [00:04<00:00, 88.10it/s]\n",
      "Training Epoch 1201: 100%|██████████| 378/378 [00:04<00:00, 87.83it/s]\n"
     ]
    },
    {
     "name": "stdout",
     "output_type": "stream",
     "text": [
      "Epoch 1200 - Train Loss: 0.2987, Train MSE: 0.2985, Train MAE: 0.3382\n",
      "Epoch 1200 - Validation Loss: 1.6764, Validation MSE: 1.6802, Validation MAE: 0.9086\n"
     ]
    },
    {
     "name": "stderr",
     "output_type": "stream",
     "text": [
      "Training Epoch 1202: 100%|██████████| 378/378 [00:04<00:00, 88.54it/s]\n",
      "Training Epoch 1203: 100%|██████████| 378/378 [00:04<00:00, 88.01it/s]\n",
      "Training Epoch 1204: 100%|██████████| 378/378 [00:04<00:00, 89.09it/s]\n",
      "Training Epoch 1205: 100%|██████████| 378/378 [00:04<00:00, 87.62it/s]\n",
      "Training Epoch 1206: 100%|██████████| 378/378 [00:04<00:00, 88.50it/s]\n",
      "Training Epoch 1207: 100%|██████████| 378/378 [00:04<00:00, 88.50it/s]\n",
      "Training Epoch 1208: 100%|██████████| 378/378 [00:04<00:00, 88.91it/s]\n",
      "Training Epoch 1209: 100%|██████████| 378/378 [00:04<00:00, 86.56it/s]\n",
      "Training Epoch 1210: 100%|██████████| 378/378 [00:04<00:00, 88.36it/s]\n",
      "Training Epoch 1211: 100%|██████████| 378/378 [00:04<00:00, 87.20it/s]\n"
     ]
    },
    {
     "name": "stdout",
     "output_type": "stream",
     "text": [
      "Epoch 1210 - Train Loss: 0.3112, Train MSE: 0.3106, Train MAE: 0.3430\n",
      "Epoch 1210 - Validation Loss: 1.7028, Validation MSE: 1.7066, Validation MAE: 0.9167\n"
     ]
    },
    {
     "name": "stderr",
     "output_type": "stream",
     "text": [
      "Training Epoch 1212: 100%|██████████| 378/378 [00:04<00:00, 87.71it/s]\n",
      "Training Epoch 1213: 100%|██████████| 378/378 [00:04<00:00, 89.13it/s]\n",
      "Training Epoch 1214: 100%|██████████| 378/378 [00:04<00:00, 85.82it/s]\n",
      "Training Epoch 1215: 100%|██████████| 378/378 [00:04<00:00, 88.39it/s]\n",
      "Training Epoch 1216: 100%|██████████| 378/378 [00:04<00:00, 89.07it/s]\n",
      "Training Epoch 1217: 100%|██████████| 378/378 [00:04<00:00, 88.24it/s]\n",
      "Training Epoch 1218: 100%|██████████| 378/378 [00:04<00:00, 87.28it/s]\n",
      "Training Epoch 1219: 100%|██████████| 378/378 [00:04<00:00, 88.82it/s]\n",
      "Training Epoch 1220: 100%|██████████| 378/378 [00:04<00:00, 87.16it/s]\n",
      "Training Epoch 1221: 100%|██████████| 378/378 [00:04<00:00, 87.98it/s]\n"
     ]
    },
    {
     "name": "stdout",
     "output_type": "stream",
     "text": [
      "Epoch 1220 - Train Loss: 0.2857, Train MSE: 0.2859, Train MAE: 0.3329\n",
      "Epoch 1220 - Validation Loss: 1.7656, Validation MSE: 1.7696, Validation MAE: 0.9340\n"
     ]
    },
    {
     "name": "stderr",
     "output_type": "stream",
     "text": [
      "Training Epoch 1222: 100%|██████████| 378/378 [00:04<00:00, 89.29it/s]\n",
      "Training Epoch 1223: 100%|██████████| 378/378 [00:04<00:00, 89.47it/s]\n",
      "Training Epoch 1224: 100%|██████████| 378/378 [00:04<00:00, 89.24it/s]\n",
      "Training Epoch 1225: 100%|██████████| 378/378 [00:04<00:00, 86.54it/s]\n",
      "Training Epoch 1226: 100%|██████████| 378/378 [00:04<00:00, 87.89it/s]\n",
      "Training Epoch 1227: 100%|██████████| 378/378 [00:04<00:00, 89.55it/s]\n",
      "Training Epoch 1228: 100%|██████████| 378/378 [00:04<00:00, 88.08it/s]\n",
      "Training Epoch 1229: 100%|██████████| 378/378 [00:04<00:00, 87.55it/s]\n",
      "Training Epoch 1230: 100%|██████████| 378/378 [00:04<00:00, 90.02it/s]\n",
      "Training Epoch 1231: 100%|██████████| 378/378 [00:04<00:00, 89.10it/s]\n"
     ]
    },
    {
     "name": "stdout",
     "output_type": "stream",
     "text": [
      "Epoch 1230 - Train Loss: 0.2880, Train MSE: 0.2876, Train MAE: 0.3325\n",
      "Epoch 1230 - Validation Loss: 1.7415, Validation MSE: 1.7461, Validation MAE: 0.9282\n"
     ]
    },
    {
     "name": "stderr",
     "output_type": "stream",
     "text": [
      "Training Epoch 1232: 100%|██████████| 378/378 [00:04<00:00, 86.37it/s]\n",
      "Training Epoch 1233: 100%|██████████| 378/378 [00:04<00:00, 88.54it/s]\n",
      "Training Epoch 1234: 100%|██████████| 378/378 [00:04<00:00, 89.16it/s]\n",
      "Training Epoch 1235: 100%|██████████| 378/378 [00:04<00:00, 87.94it/s]\n",
      "Training Epoch 1236: 100%|██████████| 378/378 [00:04<00:00, 87.44it/s]\n",
      "Training Epoch 1237: 100%|██████████| 378/378 [00:04<00:00, 87.32it/s]\n",
      "Training Epoch 1238: 100%|██████████| 378/378 [00:04<00:00, 87.25it/s]\n",
      "Training Epoch 1239: 100%|██████████| 378/378 [00:04<00:00, 86.22it/s]\n",
      "Training Epoch 1240: 100%|██████████| 378/378 [00:04<00:00, 86.77it/s]\n",
      "Training Epoch 1241: 100%|██████████| 378/378 [00:04<00:00, 88.75it/s]\n"
     ]
    },
    {
     "name": "stdout",
     "output_type": "stream",
     "text": [
      "Epoch 1240 - Train Loss: 0.2982, Train MSE: 0.2982, Train MAE: 0.3377\n",
      "Epoch 1240 - Validation Loss: 1.6974, Validation MSE: 1.7020, Validation MAE: 0.9150\n"
     ]
    },
    {
     "name": "stderr",
     "output_type": "stream",
     "text": [
      "Training Epoch 1242: 100%|██████████| 378/378 [00:04<00:00, 89.45it/s]\n",
      "Training Epoch 1243: 100%|██████████| 378/378 [00:04<00:00, 88.20it/s]\n",
      "Training Epoch 1244: 100%|██████████| 378/378 [00:04<00:00, 89.02it/s]\n",
      "Training Epoch 1245: 100%|██████████| 378/378 [00:04<00:00, 88.44it/s]\n",
      "Training Epoch 1246: 100%|██████████| 378/378 [00:04<00:00, 88.71it/s]\n",
      "Training Epoch 1247: 100%|██████████| 378/378 [00:04<00:00, 86.58it/s]\n",
      "Training Epoch 1248: 100%|██████████| 378/378 [00:04<00:00, 87.48it/s]\n",
      "Training Epoch 1249: 100%|██████████| 378/378 [00:04<00:00, 88.68it/s]\n",
      "Training Epoch 1250: 100%|██████████| 378/378 [00:04<00:00, 86.69it/s]\n",
      "Training Epoch 1251: 100%|██████████| 378/378 [00:04<00:00, 87.89it/s]\n"
     ]
    },
    {
     "name": "stdout",
     "output_type": "stream",
     "text": [
      "Epoch 1250 - Train Loss: 0.3001, Train MSE: 0.3002, Train MAE: 0.3384\n",
      "Epoch 1250 - Validation Loss: 1.7235, Validation MSE: 1.7273, Validation MAE: 0.9161\n"
     ]
    },
    {
     "name": "stderr",
     "output_type": "stream",
     "text": [
      "Training Epoch 1252: 100%|██████████| 378/378 [00:04<00:00, 88.27it/s]\n",
      "Training Epoch 1253: 100%|██████████| 378/378 [00:04<00:00, 87.81it/s]\n",
      "Training Epoch 1254: 100%|██████████| 378/378 [00:04<00:00, 87.91it/s]\n",
      "Training Epoch 1255: 100%|██████████| 378/378 [00:04<00:00, 87.33it/s]\n",
      "Training Epoch 1256: 100%|██████████| 378/378 [00:04<00:00, 89.55it/s]\n",
      "Training Epoch 1257: 100%|██████████| 378/378 [00:04<00:00, 87.71it/s]\n",
      "Training Epoch 1258: 100%|██████████| 378/378 [00:04<00:00, 88.24it/s]\n",
      "Training Epoch 1259: 100%|██████████| 378/378 [00:04<00:00, 88.60it/s]\n",
      "Training Epoch 1260: 100%|██████████| 378/378 [00:04<00:00, 89.61it/s]\n",
      "Training Epoch 1261: 100%|██████████| 378/378 [00:04<00:00, 87.52it/s]\n"
     ]
    },
    {
     "name": "stdout",
     "output_type": "stream",
     "text": [
      "Epoch 1260 - Train Loss: 0.2979, Train MSE: 0.2979, Train MAE: 0.3362\n",
      "Epoch 1260 - Validation Loss: 1.6812, Validation MSE: 1.6855, Validation MAE: 0.9098\n"
     ]
    },
    {
     "name": "stderr",
     "output_type": "stream",
     "text": [
      "Training Epoch 1262: 100%|██████████| 378/378 [00:04<00:00, 89.15it/s]\n",
      "Training Epoch 1263: 100%|██████████| 378/378 [00:04<00:00, 88.17it/s]\n",
      "Training Epoch 1264: 100%|██████████| 378/378 [00:04<00:00, 87.85it/s]\n",
      "Training Epoch 1265: 100%|██████████| 378/378 [00:04<00:00, 86.38it/s]\n",
      "Training Epoch 1266: 100%|██████████| 378/378 [00:04<00:00, 88.36it/s]\n",
      "Training Epoch 1267: 100%|██████████| 378/378 [00:04<00:00, 88.24it/s]\n",
      "Training Epoch 1268: 100%|██████████| 378/378 [00:04<00:00, 86.97it/s]\n",
      "Training Epoch 1269: 100%|██████████| 378/378 [00:04<00:00, 87.29it/s]\n",
      "Training Epoch 1270: 100%|██████████| 378/378 [00:04<00:00, 88.98it/s]\n",
      "Training Epoch 1271: 100%|██████████| 378/378 [00:04<00:00, 86.95it/s]\n"
     ]
    },
    {
     "name": "stdout",
     "output_type": "stream",
     "text": [
      "Epoch 1270 - Train Loss: 0.2866, Train MSE: 0.2866, Train MAE: 0.3326\n",
      "Epoch 1270 - Validation Loss: 1.7403, Validation MSE: 1.7440, Validation MAE: 0.9289\n"
     ]
    },
    {
     "name": "stderr",
     "output_type": "stream",
     "text": [
      "Training Epoch 1272: 100%|██████████| 378/378 [00:04<00:00, 86.47it/s]\n",
      "Training Epoch 1273: 100%|██████████| 378/378 [00:04<00:00, 88.81it/s]\n",
      "Training Epoch 1274: 100%|██████████| 378/378 [00:04<00:00, 89.09it/s]\n",
      "Training Epoch 1275: 100%|██████████| 378/378 [00:04<00:00, 87.41it/s]\n",
      "Training Epoch 1276: 100%|██████████| 378/378 [00:04<00:00, 88.39it/s]\n",
      "Training Epoch 1277: 100%|██████████| 378/378 [00:04<00:00, 87.22it/s]\n",
      "Training Epoch 1278: 100%|██████████| 378/378 [00:04<00:00, 88.56it/s]\n",
      "Training Epoch 1279: 100%|██████████| 378/378 [00:04<00:00, 88.17it/s]\n",
      "Training Epoch 1280: 100%|██████████| 378/378 [00:04<00:00, 87.64it/s]\n",
      "Training Epoch 1281: 100%|██████████| 378/378 [00:04<00:00, 89.18it/s]\n"
     ]
    },
    {
     "name": "stdout",
     "output_type": "stream",
     "text": [
      "Epoch 1280 - Train Loss: 0.2896, Train MSE: 0.2892, Train MAE: 0.3318\n",
      "Epoch 1280 - Validation Loss: 1.7261, Validation MSE: 1.7298, Validation MAE: 0.9158\n"
     ]
    },
    {
     "name": "stderr",
     "output_type": "stream",
     "text": [
      "Training Epoch 1282: 100%|██████████| 378/378 [00:04<00:00, 89.04it/s]\n",
      "Training Epoch 1283: 100%|██████████| 378/378 [00:04<00:00, 87.93it/s]\n",
      "Training Epoch 1284: 100%|██████████| 378/378 [00:04<00:00, 88.93it/s]\n",
      "Training Epoch 1285: 100%|██████████| 378/378 [00:04<00:00, 87.51it/s]\n",
      "Training Epoch 1286: 100%|██████████| 378/378 [00:04<00:00, 87.40it/s]\n",
      "Training Epoch 1287: 100%|██████████| 378/378 [00:04<00:00, 89.99it/s]\n",
      "Training Epoch 1288: 100%|██████████| 378/378 [00:04<00:00, 86.72it/s]\n",
      "Training Epoch 1289: 100%|██████████| 378/378 [00:04<00:00, 87.85it/s]\n",
      "Training Epoch 1290: 100%|██████████| 378/378 [00:04<00:00, 87.07it/s]\n",
      "Training Epoch 1291: 100%|██████████| 378/378 [00:04<00:00, 88.20it/s]\n"
     ]
    },
    {
     "name": "stdout",
     "output_type": "stream",
     "text": [
      "Epoch 1290 - Train Loss: 0.3040, Train MSE: 0.3042, Train MAE: 0.3417\n",
      "Epoch 1290 - Validation Loss: 1.6935, Validation MSE: 1.6972, Validation MAE: 0.9161\n"
     ]
    },
    {
     "name": "stderr",
     "output_type": "stream",
     "text": [
      "Training Epoch 1292: 100%|██████████| 378/378 [00:04<00:00, 87.63it/s]\n",
      "Training Epoch 1293: 100%|██████████| 378/378 [00:04<00:00, 86.94it/s]\n",
      "Training Epoch 1294: 100%|██████████| 378/378 [00:04<00:00, 86.99it/s]\n",
      "Training Epoch 1295: 100%|██████████| 378/378 [00:04<00:00, 87.68it/s]\n",
      "Training Epoch 1296: 100%|██████████| 378/378 [00:04<00:00, 87.84it/s]\n",
      "Training Epoch 1297: 100%|██████████| 378/378 [00:04<00:00, 87.17it/s]\n",
      "Training Epoch 1298: 100%|██████████| 378/378 [00:04<00:00, 90.28it/s]\n",
      "Training Epoch 1299: 100%|██████████| 378/378 [00:04<00:00, 87.25it/s]\n",
      "Training Epoch 1300: 100%|██████████| 378/378 [00:04<00:00, 89.35it/s]\n",
      "Training Epoch 1301: 100%|██████████| 378/378 [00:04<00:00, 88.26it/s]\n"
     ]
    },
    {
     "name": "stdout",
     "output_type": "stream",
     "text": [
      "Epoch 1300 - Train Loss: 0.2964, Train MSE: 0.2961, Train MAE: 0.3336\n",
      "Epoch 1300 - Validation Loss: 1.6766, Validation MSE: 1.6813, Validation MAE: 0.9126\n"
     ]
    },
    {
     "name": "stderr",
     "output_type": "stream",
     "text": [
      "Training Epoch 1302: 100%|██████████| 378/378 [00:04<00:00, 88.08it/s]\n",
      "Training Epoch 1303: 100%|██████████| 378/378 [00:04<00:00, 86.88it/s]\n",
      "Training Epoch 1304: 100%|██████████| 378/378 [00:04<00:00, 87.17it/s]\n",
      "Training Epoch 1305: 100%|██████████| 378/378 [00:04<00:00, 88.34it/s]\n",
      "Training Epoch 1306: 100%|██████████| 378/378 [00:04<00:00, 88.32it/s]\n",
      "Training Epoch 1307: 100%|██████████| 378/378 [00:04<00:00, 88.33it/s]\n",
      "Training Epoch 1308: 100%|██████████| 378/378 [00:04<00:00, 87.42it/s]\n",
      "Training Epoch 1309: 100%|██████████| 378/378 [00:04<00:00, 87.96it/s]\n",
      "Training Epoch 1310: 100%|██████████| 378/378 [00:04<00:00, 89.62it/s]\n",
      "Training Epoch 1311: 100%|██████████| 378/378 [00:04<00:00, 89.12it/s]\n"
     ]
    },
    {
     "name": "stdout",
     "output_type": "stream",
     "text": [
      "Epoch 1310 - Train Loss: 0.2836, Train MSE: 0.2837, Train MAE: 0.3293\n",
      "Epoch 1310 - Validation Loss: 1.7390, Validation MSE: 1.7430, Validation MAE: 0.9305\n"
     ]
    },
    {
     "name": "stderr",
     "output_type": "stream",
     "text": [
      "Training Epoch 1312: 100%|██████████| 378/378 [00:04<00:00, 87.66it/s]\n",
      "Training Epoch 1313: 100%|██████████| 378/378 [00:04<00:00, 88.84it/s]\n",
      "Training Epoch 1314: 100%|██████████| 378/378 [00:04<00:00, 88.22it/s]\n",
      "Training Epoch 1315: 100%|██████████| 378/378 [00:04<00:00, 86.56it/s]\n",
      "Training Epoch 1316: 100%|██████████| 378/378 [00:04<00:00, 88.24it/s]\n",
      "Training Epoch 1317: 100%|██████████| 378/378 [00:04<00:00, 88.28it/s]\n",
      "Training Epoch 1318: 100%|██████████| 378/378 [00:04<00:00, 88.59it/s]\n",
      "Training Epoch 1319: 100%|██████████| 378/378 [00:04<00:00, 87.30it/s]\n",
      "Training Epoch 1320: 100%|██████████| 378/378 [00:04<00:00, 87.81it/s]\n",
      "Training Epoch 1321: 100%|██████████| 378/378 [00:04<00:00, 88.37it/s]\n"
     ]
    },
    {
     "name": "stdout",
     "output_type": "stream",
     "text": [
      "Epoch 1320 - Train Loss: 0.2919, Train MSE: 0.2920, Train MAE: 0.3327\n",
      "Epoch 1320 - Validation Loss: 1.7103, Validation MSE: 1.7142, Validation MAE: 0.9261\n"
     ]
    },
    {
     "name": "stderr",
     "output_type": "stream",
     "text": [
      "Training Epoch 1322: 100%|██████████| 378/378 [00:04<00:00, 87.03it/s]\n",
      "Training Epoch 1323: 100%|██████████| 378/378 [00:04<00:00, 88.19it/s]\n",
      "Training Epoch 1324: 100%|██████████| 378/378 [00:04<00:00, 88.76it/s]\n",
      "Training Epoch 1325: 100%|██████████| 378/378 [00:04<00:00, 87.88it/s]\n",
      "Training Epoch 1326: 100%|██████████| 378/378 [00:04<00:00, 87.84it/s]\n",
      "Training Epoch 1327: 100%|██████████| 378/378 [00:04<00:00, 89.33it/s]\n",
      "Training Epoch 1328: 100%|██████████| 378/378 [00:04<00:00, 88.48it/s]\n",
      "Training Epoch 1329: 100%|██████████| 378/378 [00:04<00:00, 87.55it/s]\n",
      "Training Epoch 1330: 100%|██████████| 378/378 [00:04<00:00, 87.88it/s]\n",
      "Training Epoch 1331: 100%|██████████| 378/378 [00:04<00:00, 86.52it/s]\n"
     ]
    },
    {
     "name": "stdout",
     "output_type": "stream",
     "text": [
      "Epoch 1330 - Train Loss: 0.2859, Train MSE: 0.2859, Train MAE: 0.3283\n",
      "Epoch 1330 - Validation Loss: 1.7173, Validation MSE: 1.7217, Validation MAE: 0.9139\n"
     ]
    },
    {
     "name": "stderr",
     "output_type": "stream",
     "text": [
      "Training Epoch 1332: 100%|██████████| 378/378 [00:04<00:00, 86.90it/s]\n",
      "Training Epoch 1333: 100%|██████████| 378/378 [00:04<00:00, 86.18it/s]\n",
      "Training Epoch 1334: 100%|██████████| 378/378 [00:04<00:00, 88.06it/s]\n",
      "Training Epoch 1335: 100%|██████████| 378/378 [00:04<00:00, 88.42it/s]\n",
      "Training Epoch 1336: 100%|██████████| 378/378 [00:04<00:00, 88.28it/s]\n",
      "Training Epoch 1337: 100%|██████████| 378/378 [00:04<00:00, 87.42it/s]\n",
      "Training Epoch 1338: 100%|██████████| 378/378 [00:04<00:00, 89.68it/s]\n",
      "Training Epoch 1339: 100%|██████████| 378/378 [00:04<00:00, 87.98it/s]\n",
      "Training Epoch 1340: 100%|██████████| 378/378 [00:04<00:00, 85.92it/s]\n",
      "Training Epoch 1341: 100%|██████████| 378/378 [00:04<00:00, 88.54it/s]\n"
     ]
    },
    {
     "name": "stdout",
     "output_type": "stream",
     "text": [
      "Epoch 1340 - Train Loss: 0.2734, Train MSE: 0.2735, Train MAE: 0.3251\n",
      "Epoch 1340 - Validation Loss: 1.6923, Validation MSE: 1.6966, Validation MAE: 0.9103\n"
     ]
    },
    {
     "name": "stderr",
     "output_type": "stream",
     "text": [
      "Training Epoch 1342: 100%|██████████| 378/378 [00:04<00:00, 88.47it/s]\n",
      "Training Epoch 1343: 100%|██████████| 378/378 [00:04<00:00, 88.14it/s]\n",
      "Training Epoch 1344: 100%|██████████| 378/378 [00:04<00:00, 85.78it/s]\n",
      "Training Epoch 1345: 100%|██████████| 378/378 [00:04<00:00, 87.77it/s]\n",
      "Training Epoch 1346: 100%|██████████| 378/378 [00:04<00:00, 88.41it/s]\n",
      "Training Epoch 1347: 100%|██████████| 378/378 [00:04<00:00, 86.66it/s]\n",
      "Training Epoch 1348: 100%|██████████| 378/378 [00:04<00:00, 87.85it/s]\n",
      "Training Epoch 1349: 100%|██████████| 378/378 [00:04<00:00, 89.85it/s]\n",
      "Training Epoch 1350: 100%|██████████| 378/378 [00:04<00:00, 89.11it/s]\n",
      "Training Epoch 1351: 100%|██████████| 378/378 [00:04<00:00, 87.03it/s]\n"
     ]
    },
    {
     "name": "stdout",
     "output_type": "stream",
     "text": [
      "Epoch 1350 - Train Loss: 0.2775, Train MSE: 0.2775, Train MAE: 0.3245\n",
      "Epoch 1350 - Validation Loss: 1.7791, Validation MSE: 1.7835, Validation MAE: 0.9341\n"
     ]
    },
    {
     "name": "stderr",
     "output_type": "stream",
     "text": [
      "Training Epoch 1352: 100%|██████████| 378/378 [00:04<00:00, 87.67it/s]\n",
      "Training Epoch 1353: 100%|██████████| 378/378 [00:04<00:00, 87.27it/s]\n",
      "Training Epoch 1354: 100%|██████████| 378/378 [00:04<00:00, 88.95it/s]\n",
      "Training Epoch 1355: 100%|██████████| 378/378 [00:04<00:00, 87.38it/s]\n",
      "Training Epoch 1356: 100%|██████████| 378/378 [00:04<00:00, 87.81it/s]\n",
      "Training Epoch 1357: 100%|██████████| 378/378 [00:04<00:00, 87.34it/s]\n",
      "Training Epoch 1358: 100%|██████████| 378/378 [00:04<00:00, 88.11it/s]\n",
      "Training Epoch 1359: 100%|██████████| 378/378 [00:04<00:00, 88.13it/s]\n",
      "Training Epoch 1360: 100%|██████████| 378/378 [00:04<00:00, 88.06it/s]\n",
      "Training Epoch 1361: 100%|██████████| 378/378 [00:04<00:00, 87.04it/s]\n"
     ]
    },
    {
     "name": "stdout",
     "output_type": "stream",
     "text": [
      "Epoch 1360 - Train Loss: 0.2733, Train MSE: 0.2734, Train MAE: 0.3237\n",
      "Epoch 1360 - Validation Loss: 1.7649, Validation MSE: 1.7691, Validation MAE: 0.9289\n"
     ]
    },
    {
     "name": "stderr",
     "output_type": "stream",
     "text": [
      "Training Epoch 1362: 100%|██████████| 378/378 [00:04<00:00, 86.19it/s]\n",
      "Training Epoch 1363: 100%|██████████| 378/378 [00:04<00:00, 88.63it/s]\n",
      "Training Epoch 1364: 100%|██████████| 378/378 [00:04<00:00, 88.25it/s]\n",
      "Training Epoch 1365: 100%|██████████| 378/378 [00:04<00:00, 88.69it/s]\n",
      "Training Epoch 1366: 100%|██████████| 378/378 [00:04<00:00, 88.44it/s]\n",
      "Training Epoch 1367: 100%|██████████| 378/378 [00:04<00:00, 87.36it/s]\n",
      "Training Epoch 1368: 100%|██████████| 378/378 [00:04<00:00, 88.04it/s]\n",
      "Training Epoch 1369: 100%|██████████| 378/378 [00:04<00:00, 88.03it/s]\n",
      "Training Epoch 1370: 100%|██████████| 378/378 [00:04<00:00, 88.87it/s]\n",
      "Training Epoch 1371: 100%|██████████| 378/378 [00:04<00:00, 86.88it/s]\n"
     ]
    },
    {
     "name": "stdout",
     "output_type": "stream",
     "text": [
      "Epoch 1370 - Train Loss: 0.2794, Train MSE: 0.2795, Train MAE: 0.3271\n",
      "Epoch 1370 - Validation Loss: 1.7978, Validation MSE: 1.8018, Validation MAE: 0.9441\n"
     ]
    },
    {
     "name": "stderr",
     "output_type": "stream",
     "text": [
      "Training Epoch 1372: 100%|██████████| 378/378 [00:04<00:00, 89.34it/s]\n",
      "Training Epoch 1373: 100%|██████████| 378/378 [00:04<00:00, 87.83it/s]\n",
      "Training Epoch 1374: 100%|██████████| 378/378 [00:04<00:00, 88.72it/s]\n",
      "Training Epoch 1375: 100%|██████████| 378/378 [00:04<00:00, 89.33it/s]\n",
      "Training Epoch 1376: 100%|██████████| 378/378 [00:04<00:00, 88.42it/s]\n",
      "Training Epoch 1377: 100%|██████████| 378/378 [00:04<00:00, 88.82it/s]\n",
      "Training Epoch 1378: 100%|██████████| 378/378 [00:04<00:00, 88.72it/s]\n",
      "Training Epoch 1379: 100%|██████████| 378/378 [00:04<00:00, 88.34it/s]\n",
      "Training Epoch 1380: 100%|██████████| 378/378 [00:04<00:00, 88.37it/s]\n",
      "Training Epoch 1381: 100%|██████████| 378/378 [00:04<00:00, 87.24it/s]\n"
     ]
    },
    {
     "name": "stdout",
     "output_type": "stream",
     "text": [
      "Epoch 1380 - Train Loss: 0.2890, Train MSE: 0.2889, Train MAE: 0.3326\n",
      "Epoch 1380 - Validation Loss: 1.7236, Validation MSE: 1.7281, Validation MAE: 0.9244\n"
     ]
    },
    {
     "name": "stderr",
     "output_type": "stream",
     "text": [
      "Training Epoch 1382: 100%|██████████| 378/378 [00:04<00:00, 87.34it/s]\n",
      "Training Epoch 1383: 100%|██████████| 378/378 [00:04<00:00, 88.11it/s]\n",
      "Training Epoch 1384: 100%|██████████| 378/378 [00:04<00:00, 86.89it/s]\n",
      "Training Epoch 1385: 100%|██████████| 378/378 [00:04<00:00, 87.49it/s]\n",
      "Training Epoch 1386: 100%|██████████| 378/378 [00:04<00:00, 88.69it/s]\n",
      "Training Epoch 1387: 100%|██████████| 378/378 [00:04<00:00, 87.15it/s]\n",
      "Training Epoch 1388: 100%|██████████| 378/378 [00:04<00:00, 87.68it/s]\n",
      "Training Epoch 1389: 100%|██████████| 378/378 [00:04<00:00, 88.13it/s]\n",
      "Training Epoch 1390: 100%|██████████| 378/378 [00:04<00:00, 89.10it/s]\n",
      "Training Epoch 1391: 100%|██████████| 378/378 [00:04<00:00, 88.20it/s]\n"
     ]
    },
    {
     "name": "stdout",
     "output_type": "stream",
     "text": [
      "Epoch 1390 - Train Loss: 0.3059, Train MSE: 0.3060, Train MAE: 0.3405\n",
      "Epoch 1390 - Validation Loss: 1.6909, Validation MSE: 1.6950, Validation MAE: 0.9197\n"
     ]
    },
    {
     "name": "stderr",
     "output_type": "stream",
     "text": [
      "Training Epoch 1392: 100%|██████████| 378/378 [00:04<00:00, 87.98it/s]\n",
      "Training Epoch 1393: 100%|██████████| 378/378 [00:04<00:00, 87.97it/s]\n",
      "Training Epoch 1394: 100%|██████████| 378/378 [00:04<00:00, 86.73it/s]\n",
      "Training Epoch 1395: 100%|██████████| 378/378 [00:04<00:00, 88.90it/s]\n",
      "Training Epoch 1396: 100%|██████████| 378/378 [00:04<00:00, 87.56it/s]\n",
      "Training Epoch 1397: 100%|██████████| 378/378 [00:04<00:00, 87.96it/s]\n",
      "Training Epoch 1398: 100%|██████████| 378/378 [00:04<00:00, 87.29it/s]\n",
      "Training Epoch 1399: 100%|██████████| 378/378 [00:04<00:00, 87.39it/s]\n",
      "Training Epoch 1400: 100%|██████████| 378/378 [00:04<00:00, 87.61it/s]\n",
      "Training Epoch 1401: 100%|██████████| 378/378 [00:04<00:00, 88.54it/s]\n"
     ]
    },
    {
     "name": "stdout",
     "output_type": "stream",
     "text": [
      "Epoch 1400 - Train Loss: 0.2871, Train MSE: 0.2870, Train MAE: 0.3318\n",
      "Epoch 1400 - Validation Loss: 1.7075, Validation MSE: 1.7117, Validation MAE: 0.9167\n"
     ]
    },
    {
     "name": "stderr",
     "output_type": "stream",
     "text": [
      "Training Epoch 1402: 100%|██████████| 378/378 [00:04<00:00, 88.31it/s]\n",
      "Training Epoch 1403: 100%|██████████| 378/378 [00:04<00:00, 88.53it/s]\n",
      "Training Epoch 1404: 100%|██████████| 378/378 [00:04<00:00, 89.02it/s]\n",
      "Training Epoch 1405: 100%|██████████| 378/378 [00:04<00:00, 87.41it/s]\n",
      "Training Epoch 1406: 100%|██████████| 378/378 [00:04<00:00, 88.80it/s]\n",
      "Training Epoch 1407: 100%|██████████| 378/378 [00:04<00:00, 88.38it/s]\n",
      "Training Epoch 1408: 100%|██████████| 378/378 [00:04<00:00, 87.59it/s]\n",
      "Training Epoch 1409: 100%|██████████| 378/378 [00:04<00:00, 87.70it/s]\n",
      "Training Epoch 1410: 100%|██████████| 378/378 [00:04<00:00, 87.21it/s]\n",
      "Training Epoch 1411: 100%|██████████| 378/378 [00:04<00:00, 87.22it/s]\n"
     ]
    },
    {
     "name": "stdout",
     "output_type": "stream",
     "text": [
      "Epoch 1410 - Train Loss: 0.2620, Train MSE: 0.2620, Train MAE: 0.3162\n",
      "Epoch 1410 - Validation Loss: 1.7046, Validation MSE: 1.7087, Validation MAE: 0.9135\n"
     ]
    },
    {
     "name": "stderr",
     "output_type": "stream",
     "text": [
      "Training Epoch 1412: 100%|██████████| 378/378 [00:04<00:00, 87.22it/s]\n",
      "Training Epoch 1413: 100%|██████████| 378/378 [00:04<00:00, 88.64it/s]\n",
      "Training Epoch 1414: 100%|██████████| 378/378 [00:04<00:00, 87.06it/s]\n",
      "Training Epoch 1415: 100%|██████████| 378/378 [00:04<00:00, 89.88it/s]\n",
      "Training Epoch 1416: 100%|██████████| 378/378 [00:04<00:00, 87.20it/s]\n",
      "Training Epoch 1417: 100%|██████████| 378/378 [00:04<00:00, 88.24it/s]\n",
      "Training Epoch 1418: 100%|██████████| 378/378 [00:04<00:00, 88.62it/s]\n",
      "Training Epoch 1419: 100%|██████████| 378/378 [00:04<00:00, 83.89it/s]\n",
      "Training Epoch 1420: 100%|██████████| 378/378 [00:04<00:00, 85.45it/s]\n",
      "Training Epoch 1421: 100%|██████████| 378/378 [00:04<00:00, 88.77it/s]\n"
     ]
    },
    {
     "name": "stdout",
     "output_type": "stream",
     "text": [
      "Epoch 1420 - Train Loss: 0.2800, Train MSE: 0.2800, Train MAE: 0.3284\n",
      "Epoch 1420 - Validation Loss: 1.7367, Validation MSE: 1.7401, Validation MAE: 0.9264\n"
     ]
    },
    {
     "name": "stderr",
     "output_type": "stream",
     "text": [
      "Training Epoch 1422: 100%|██████████| 378/378 [00:04<00:00, 88.16it/s]\n",
      "Training Epoch 1423: 100%|██████████| 378/378 [00:04<00:00, 87.58it/s]\n",
      "Training Epoch 1424: 100%|██████████| 378/378 [00:04<00:00, 87.70it/s]\n",
      "Training Epoch 1425: 100%|██████████| 378/378 [00:04<00:00, 87.67it/s]\n",
      "Training Epoch 1426: 100%|██████████| 378/378 [00:04<00:00, 88.70it/s]\n",
      "Training Epoch 1427: 100%|██████████| 378/378 [00:04<00:00, 88.43it/s]\n",
      "Training Epoch 1428: 100%|██████████| 378/378 [00:04<00:00, 88.99it/s]\n",
      "Training Epoch 1429: 100%|██████████| 378/378 [00:04<00:00, 88.48it/s]\n",
      "Training Epoch 1430: 100%|██████████| 378/378 [00:04<00:00, 87.76it/s]\n",
      "Training Epoch 1431: 100%|██████████| 378/378 [00:04<00:00, 89.05it/s]\n"
     ]
    },
    {
     "name": "stdout",
     "output_type": "stream",
     "text": [
      "Epoch 1430 - Train Loss: 0.2856, Train MSE: 0.2855, Train MAE: 0.3261\n",
      "Epoch 1430 - Validation Loss: 1.7130, Validation MSE: 1.7169, Validation MAE: 0.9200\n"
     ]
    },
    {
     "name": "stderr",
     "output_type": "stream",
     "text": [
      "Training Epoch 1432: 100%|██████████| 378/378 [00:04<00:00, 89.33it/s]\n",
      "Training Epoch 1433: 100%|██████████| 378/378 [00:04<00:00, 90.15it/s]\n",
      "Training Epoch 1434: 100%|██████████| 378/378 [00:04<00:00, 89.16it/s]\n",
      "Training Epoch 1435: 100%|██████████| 378/378 [00:04<00:00, 87.41it/s]\n",
      "Training Epoch 1436: 100%|██████████| 378/378 [00:04<00:00, 88.38it/s]\n",
      "Training Epoch 1437: 100%|██████████| 378/378 [00:04<00:00, 88.55it/s]\n",
      "Training Epoch 1438: 100%|██████████| 378/378 [00:04<00:00, 84.81it/s]\n",
      "Training Epoch 1439: 100%|██████████| 378/378 [00:04<00:00, 87.49it/s]\n",
      "Training Epoch 1440: 100%|██████████| 378/378 [00:04<00:00, 89.62it/s]\n",
      "Training Epoch 1441: 100%|██████████| 378/378 [00:04<00:00, 88.07it/s]\n"
     ]
    },
    {
     "name": "stdout",
     "output_type": "stream",
     "text": [
      "Epoch 1440 - Train Loss: 0.2852, Train MSE: 0.2852, Train MAE: 0.3258\n",
      "Epoch 1440 - Validation Loss: 1.6888, Validation MSE: 1.6928, Validation MAE: 0.9134\n"
     ]
    },
    {
     "name": "stderr",
     "output_type": "stream",
     "text": [
      "Training Epoch 1442: 100%|██████████| 378/378 [00:04<00:00, 87.78it/s]\n",
      "Training Epoch 1443: 100%|██████████| 378/378 [00:04<00:00, 88.18it/s]\n",
      "Training Epoch 1444: 100%|██████████| 378/378 [00:04<00:00, 89.05it/s]\n",
      "Training Epoch 1445: 100%|██████████| 378/378 [00:04<00:00, 86.77it/s]\n",
      "Training Epoch 1446: 100%|██████████| 378/378 [00:04<00:00, 89.42it/s]\n",
      "Training Epoch 1447: 100%|██████████| 378/378 [00:04<00:00, 88.25it/s]\n",
      "Training Epoch 1448: 100%|██████████| 378/378 [00:04<00:00, 86.92it/s]\n",
      "Training Epoch 1449: 100%|██████████| 378/378 [00:04<00:00, 88.08it/s]\n",
      "Training Epoch 1450: 100%|██████████| 378/378 [00:04<00:00, 87.19it/s]\n",
      "Training Epoch 1451: 100%|██████████| 378/378 [00:04<00:00, 88.90it/s]\n"
     ]
    },
    {
     "name": "stdout",
     "output_type": "stream",
     "text": [
      "Epoch 1450 - Train Loss: 0.2679, Train MSE: 0.2679, Train MAE: 0.3206\n",
      "Epoch 1450 - Validation Loss: 1.7135, Validation MSE: 1.7179, Validation MAE: 0.9194\n"
     ]
    },
    {
     "name": "stderr",
     "output_type": "stream",
     "text": [
      "Training Epoch 1452: 100%|██████████| 378/378 [00:04<00:00, 87.32it/s]\n",
      "Training Epoch 1453: 100%|██████████| 378/378 [00:04<00:00, 87.65it/s]\n",
      "Training Epoch 1454: 100%|██████████| 378/378 [00:04<00:00, 87.57it/s]\n",
      "Training Epoch 1455: 100%|██████████| 378/378 [00:04<00:00, 87.21it/s]\n",
      "Training Epoch 1456: 100%|██████████| 378/378 [00:04<00:00, 88.40it/s]\n",
      "Training Epoch 1457: 100%|██████████| 378/378 [00:04<00:00, 90.20it/s]\n",
      "Training Epoch 1458: 100%|██████████| 378/378 [00:04<00:00, 89.01it/s]\n",
      "Training Epoch 1459: 100%|██████████| 378/378 [00:04<00:00, 88.44it/s]\n",
      "Training Epoch 1460: 100%|██████████| 378/378 [00:04<00:00, 87.81it/s]\n",
      "Training Epoch 1461: 100%|██████████| 378/378 [00:04<00:00, 88.34it/s]\n"
     ]
    },
    {
     "name": "stdout",
     "output_type": "stream",
     "text": [
      "Epoch 1460 - Train Loss: 0.2758, Train MSE: 0.2760, Train MAE: 0.3209\n",
      "Epoch 1460 - Validation Loss: 1.7141, Validation MSE: 1.7187, Validation MAE: 0.9251\n"
     ]
    },
    {
     "name": "stderr",
     "output_type": "stream",
     "text": [
      "Training Epoch 1462: 100%|██████████| 378/378 [00:04<00:00, 88.59it/s]\n",
      "Training Epoch 1463: 100%|██████████| 378/378 [00:04<00:00, 87.60it/s]\n",
      "Training Epoch 1464: 100%|██████████| 378/378 [00:04<00:00, 87.64it/s]\n",
      "Training Epoch 1465: 100%|██████████| 378/378 [00:04<00:00, 87.28it/s]\n",
      "Training Epoch 1466: 100%|██████████| 378/378 [00:04<00:00, 86.97it/s]\n",
      "Training Epoch 1467: 100%|██████████| 378/378 [00:04<00:00, 87.56it/s]\n",
      "Training Epoch 1468: 100%|██████████| 378/378 [00:04<00:00, 87.00it/s]\n",
      "Training Epoch 1469: 100%|██████████| 378/378 [00:04<00:00, 88.86it/s]\n",
      "Training Epoch 1470: 100%|██████████| 378/378 [00:04<00:00, 88.54it/s]\n",
      "Training Epoch 1471: 100%|██████████| 378/378 [00:04<00:00, 88.04it/s]\n"
     ]
    },
    {
     "name": "stdout",
     "output_type": "stream",
     "text": [
      "Epoch 1470 - Train Loss: 0.2688, Train MSE: 0.2686, Train MAE: 0.3182\n",
      "Epoch 1470 - Validation Loss: 1.7319, Validation MSE: 1.7365, Validation MAE: 0.9316\n"
     ]
    },
    {
     "name": "stderr",
     "output_type": "stream",
     "text": [
      "Training Epoch 1472: 100%|██████████| 378/378 [00:04<00:00, 89.28it/s]\n",
      "Training Epoch 1473: 100%|██████████| 378/378 [00:04<00:00, 88.61it/s]\n",
      "Training Epoch 1474: 100%|██████████| 378/378 [00:04<00:00, 89.60it/s]\n",
      "Training Epoch 1475: 100%|██████████| 378/378 [00:04<00:00, 88.19it/s]\n",
      "Training Epoch 1476: 100%|██████████| 378/378 [00:04<00:00, 86.95it/s]\n",
      "Training Epoch 1477: 100%|██████████| 378/378 [00:04<00:00, 88.11it/s]\n",
      "Training Epoch 1478: 100%|██████████| 378/378 [00:04<00:00, 87.57it/s]\n",
      "Training Epoch 1479: 100%|██████████| 378/378 [00:04<00:00, 87.06it/s]\n",
      "Training Epoch 1480: 100%|██████████| 378/378 [00:04<00:00, 88.24it/s]\n",
      "Training Epoch 1481: 100%|██████████| 378/378 [00:04<00:00, 87.96it/s]\n"
     ]
    },
    {
     "name": "stdout",
     "output_type": "stream",
     "text": [
      "Epoch 1480 - Train Loss: 0.2547, Train MSE: 0.2548, Train MAE: 0.3125\n",
      "Epoch 1480 - Validation Loss: 1.7112, Validation MSE: 1.7156, Validation MAE: 0.9279\n"
     ]
    },
    {
     "name": "stderr",
     "output_type": "stream",
     "text": [
      "Training Epoch 1482: 100%|██████████| 378/378 [00:04<00:00, 88.19it/s]\n",
      "Training Epoch 1483: 100%|██████████| 378/378 [00:04<00:00, 88.73it/s]\n",
      "Training Epoch 1484: 100%|██████████| 378/378 [00:04<00:00, 88.42it/s]\n",
      "Training Epoch 1485: 100%|██████████| 378/378 [00:04<00:00, 87.57it/s]\n",
      "Training Epoch 1486: 100%|██████████| 378/378 [00:04<00:00, 89.21it/s]\n",
      "Training Epoch 1487: 100%|██████████| 378/378 [00:04<00:00, 87.52it/s]\n",
      "Training Epoch 1488: 100%|██████████| 378/378 [00:04<00:00, 87.63it/s]\n",
      "Training Epoch 1489: 100%|██████████| 378/378 [00:04<00:00, 88.71it/s]\n",
      "Training Epoch 1490: 100%|██████████| 378/378 [00:04<00:00, 88.66it/s]\n",
      "Training Epoch 1491: 100%|██████████| 378/378 [00:04<00:00, 87.71it/s]\n"
     ]
    },
    {
     "name": "stdout",
     "output_type": "stream",
     "text": [
      "Epoch 1490 - Train Loss: 0.2552, Train MSE: 0.2553, Train MAE: 0.3148\n",
      "Epoch 1490 - Validation Loss: 1.7304, Validation MSE: 1.7339, Validation MAE: 0.9273\n"
     ]
    },
    {
     "name": "stderr",
     "output_type": "stream",
     "text": [
      "Training Epoch 1492: 100%|██████████| 378/378 [00:04<00:00, 87.60it/s]\n",
      "Training Epoch 1493: 100%|██████████| 378/378 [00:04<00:00, 87.90it/s]\n",
      "Training Epoch 1494: 100%|██████████| 378/378 [00:04<00:00, 88.29it/s]\n",
      "Training Epoch 1495: 100%|██████████| 378/378 [00:04<00:00, 87.96it/s]\n",
      "Training Epoch 1496: 100%|██████████| 378/378 [00:04<00:00, 88.12it/s]\n",
      "Training Epoch 1497: 100%|██████████| 378/378 [00:04<00:00, 88.39it/s]\n",
      "Training Epoch 1498: 100%|██████████| 378/378 [00:04<00:00, 88.47it/s]\n",
      "Training Epoch 1499: 100%|██████████| 378/378 [00:04<00:00, 86.55it/s]\n",
      "Training Epoch 1500: 100%|██████████| 378/378 [00:04<00:00, 89.09it/s]\n",
      "Training Epoch 1501: 100%|██████████| 378/378 [00:04<00:00, 89.28it/s]\n"
     ]
    },
    {
     "name": "stdout",
     "output_type": "stream",
     "text": [
      "Epoch 1500 - Train Loss: 0.2702, Train MSE: 0.2701, Train MAE: 0.3196\n",
      "Epoch 1500 - Validation Loss: 1.7430, Validation MSE: 1.7467, Validation MAE: 0.9270\n"
     ]
    },
    {
     "name": "stderr",
     "output_type": "stream",
     "text": [
      "Training Epoch 1502: 100%|██████████| 378/378 [00:04<00:00, 87.22it/s]\n",
      "Training Epoch 1503: 100%|██████████| 378/378 [00:04<00:00, 88.25it/s]\n",
      "Training Epoch 1504: 100%|██████████| 378/378 [00:04<00:00, 87.61it/s]\n",
      "Training Epoch 1505: 100%|██████████| 378/378 [00:04<00:00, 87.70it/s]\n",
      "Training Epoch 1506: 100%|██████████| 378/378 [00:04<00:00, 86.73it/s]\n",
      "Training Epoch 1507: 100%|██████████| 378/378 [00:04<00:00, 88.54it/s]\n",
      "Training Epoch 1508: 100%|██████████| 378/378 [00:04<00:00, 88.55it/s]\n",
      "Training Epoch 1509: 100%|██████████| 378/378 [00:04<00:00, 90.22it/s]\n",
      "Training Epoch 1510: 100%|██████████| 378/378 [00:04<00:00, 86.54it/s]\n",
      "Training Epoch 1511: 100%|██████████| 378/378 [00:04<00:00, 91.08it/s]\n"
     ]
    },
    {
     "name": "stdout",
     "output_type": "stream",
     "text": [
      "Epoch 1510 - Train Loss: 0.2791, Train MSE: 0.2791, Train MAE: 0.3224\n",
      "Epoch 1510 - Validation Loss: 1.7395, Validation MSE: 1.7439, Validation MAE: 0.9269\n"
     ]
    },
    {
     "name": "stderr",
     "output_type": "stream",
     "text": [
      "Training Epoch 1512: 100%|██████████| 378/378 [00:04<00:00, 89.08it/s]\n",
      "Training Epoch 1513: 100%|██████████| 378/378 [00:04<00:00, 88.17it/s]\n",
      "Training Epoch 1514: 100%|██████████| 378/378 [00:04<00:00, 87.97it/s]\n",
      "Training Epoch 1515: 100%|██████████| 378/378 [00:04<00:00, 87.90it/s]\n",
      "Training Epoch 1516: 100%|██████████| 378/378 [00:04<00:00, 87.68it/s]\n",
      "Training Epoch 1517: 100%|██████████| 378/378 [00:04<00:00, 88.88it/s]\n",
      "Training Epoch 1518: 100%|██████████| 378/378 [00:04<00:00, 88.34it/s]\n",
      "Training Epoch 1519: 100%|██████████| 378/378 [00:04<00:00, 87.64it/s]\n",
      "Training Epoch 1520: 100%|██████████| 378/378 [00:04<00:00, 88.03it/s]\n",
      "Training Epoch 1521: 100%|██████████| 378/378 [00:04<00:00, 88.93it/s]\n"
     ]
    },
    {
     "name": "stdout",
     "output_type": "stream",
     "text": [
      "Epoch 1520 - Train Loss: 0.2615, Train MSE: 0.2617, Train MAE: 0.3154\n",
      "Epoch 1520 - Validation Loss: 1.7495, Validation MSE: 1.7542, Validation MAE: 0.9352\n"
     ]
    },
    {
     "name": "stderr",
     "output_type": "stream",
     "text": [
      "Training Epoch 1522: 100%|██████████| 378/378 [00:04<00:00, 89.04it/s]\n",
      "Training Epoch 1523: 100%|██████████| 378/378 [00:04<00:00, 88.46it/s]\n",
      "Training Epoch 1524: 100%|██████████| 378/378 [00:04<00:00, 87.30it/s]\n",
      "Training Epoch 1525: 100%|██████████| 378/378 [00:04<00:00, 87.68it/s]\n",
      "Training Epoch 1526: 100%|██████████| 378/378 [00:04<00:00, 88.49it/s]\n",
      "Training Epoch 1527: 100%|██████████| 378/378 [00:04<00:00, 87.77it/s]\n",
      "Training Epoch 1528: 100%|██████████| 378/378 [00:04<00:00, 87.11it/s]\n",
      "Training Epoch 1529: 100%|██████████| 378/378 [00:04<00:00, 88.97it/s]\n",
      "Training Epoch 1530: 100%|██████████| 378/378 [00:04<00:00, 87.52it/s]\n",
      "Training Epoch 1531: 100%|██████████| 378/378 [00:04<00:00, 87.63it/s]\n"
     ]
    },
    {
     "name": "stdout",
     "output_type": "stream",
     "text": [
      "Epoch 1530 - Train Loss: 0.2798, Train MSE: 0.2799, Train MAE: 0.3233\n",
      "Epoch 1530 - Validation Loss: 1.6956, Validation MSE: 1.6995, Validation MAE: 0.9173\n"
     ]
    },
    {
     "name": "stderr",
     "output_type": "stream",
     "text": [
      "Training Epoch 1532: 100%|██████████| 378/378 [00:04<00:00, 88.35it/s]\n",
      "Training Epoch 1533: 100%|██████████| 378/378 [00:04<00:00, 88.78it/s]\n",
      "Training Epoch 1534: 100%|██████████| 378/378 [00:04<00:00, 87.20it/s]\n",
      "Training Epoch 1535: 100%|██████████| 378/378 [00:04<00:00, 87.80it/s]\n",
      "Training Epoch 1536: 100%|██████████| 378/378 [00:04<00:00, 88.70it/s]\n",
      "Training Epoch 1537: 100%|██████████| 378/378 [00:04<00:00, 87.71it/s]\n",
      "Training Epoch 1538: 100%|██████████| 378/378 [00:04<00:00, 87.05it/s]\n",
      "Training Epoch 1539: 100%|██████████| 378/378 [00:04<00:00, 87.63it/s]\n",
      "Training Epoch 1540: 100%|██████████| 378/378 [00:04<00:00, 88.13it/s]\n",
      "Training Epoch 1541: 100%|██████████| 378/378 [00:04<00:00, 88.62it/s]\n"
     ]
    },
    {
     "name": "stdout",
     "output_type": "stream",
     "text": [
      "Epoch 1540 - Train Loss: 0.2615, Train MSE: 0.2615, Train MAE: 0.3141\n",
      "Epoch 1540 - Validation Loss: 1.7467, Validation MSE: 1.7506, Validation MAE: 0.9294\n"
     ]
    },
    {
     "name": "stderr",
     "output_type": "stream",
     "text": [
      "Training Epoch 1542: 100%|██████████| 378/378 [00:04<00:00, 87.58it/s]\n",
      "Training Epoch 1543: 100%|██████████| 378/378 [00:04<00:00, 87.90it/s]\n",
      "Training Epoch 1544: 100%|██████████| 378/378 [00:04<00:00, 88.96it/s]\n",
      "Training Epoch 1545: 100%|██████████| 378/378 [00:04<00:00, 87.14it/s]\n",
      "Training Epoch 1546: 100%|██████████| 378/378 [00:04<00:00, 89.97it/s]\n",
      "Training Epoch 1547: 100%|██████████| 378/378 [00:04<00:00, 86.13it/s]\n",
      "Training Epoch 1548: 100%|██████████| 378/378 [00:04<00:00, 88.43it/s]\n",
      "Training Epoch 1549: 100%|██████████| 378/378 [00:04<00:00, 86.72it/s]\n",
      "Training Epoch 1550: 100%|██████████| 378/378 [00:04<00:00, 89.07it/s]\n",
      "Training Epoch 1551: 100%|██████████| 378/378 [00:04<00:00, 88.24it/s]\n"
     ]
    },
    {
     "name": "stdout",
     "output_type": "stream",
     "text": [
      "Epoch 1550 - Train Loss: 0.2657, Train MSE: 0.2659, Train MAE: 0.3162\n",
      "Epoch 1550 - Validation Loss: 1.7487, Validation MSE: 1.7533, Validation MAE: 0.9290\n"
     ]
    },
    {
     "name": "stderr",
     "output_type": "stream",
     "text": [
      "Training Epoch 1552: 100%|██████████| 378/378 [00:04<00:00, 88.48it/s]\n",
      "Training Epoch 1553: 100%|██████████| 378/378 [00:04<00:00, 88.31it/s]\n",
      "Training Epoch 1554: 100%|██████████| 378/378 [00:04<00:00, 88.23it/s]\n",
      "Training Epoch 1555: 100%|██████████| 378/378 [00:04<00:00, 88.86it/s]\n",
      "Training Epoch 1556: 100%|██████████| 378/378 [00:04<00:00, 88.49it/s]\n",
      "Training Epoch 1557: 100%|██████████| 378/378 [00:04<00:00, 89.19it/s]\n",
      "Training Epoch 1558: 100%|██████████| 378/378 [00:04<00:00, 89.83it/s]\n",
      "Training Epoch 1559: 100%|██████████| 378/378 [00:04<00:00, 87.02it/s]\n",
      "Training Epoch 1560: 100%|██████████| 378/378 [00:04<00:00, 88.64it/s]\n",
      "Training Epoch 1561: 100%|██████████| 378/378 [00:04<00:00, 87.90it/s]\n"
     ]
    },
    {
     "name": "stdout",
     "output_type": "stream",
     "text": [
      "Epoch 1560 - Train Loss: 0.2699, Train MSE: 0.2700, Train MAE: 0.3167\n",
      "Epoch 1560 - Validation Loss: 1.7680, Validation MSE: 1.7720, Validation MAE: 0.9256\n"
     ]
    },
    {
     "name": "stderr",
     "output_type": "stream",
     "text": [
      "Training Epoch 1562: 100%|██████████| 378/378 [00:04<00:00, 88.38it/s]\n",
      "Training Epoch 1563: 100%|██████████| 378/378 [00:04<00:00, 86.77it/s]\n",
      "Training Epoch 1564: 100%|██████████| 378/378 [00:04<00:00, 87.87it/s]\n",
      "Training Epoch 1565: 100%|██████████| 378/378 [00:04<00:00, 87.21it/s]\n",
      "Training Epoch 1566: 100%|██████████| 378/378 [00:04<00:00, 86.08it/s]\n",
      "Training Epoch 1567: 100%|██████████| 378/378 [00:04<00:00, 86.73it/s]\n",
      "Training Epoch 1568: 100%|██████████| 378/378 [00:04<00:00, 89.14it/s]\n",
      "Training Epoch 1569: 100%|██████████| 378/378 [00:04<00:00, 87.54it/s]\n",
      "Training Epoch 1570: 100%|██████████| 378/378 [00:04<00:00, 85.91it/s]\n",
      "Training Epoch 1571: 100%|██████████| 378/378 [00:04<00:00, 86.48it/s]\n"
     ]
    },
    {
     "name": "stdout",
     "output_type": "stream",
     "text": [
      "Epoch 1570 - Train Loss: 0.2814, Train MSE: 0.2814, Train MAE: 0.3248\n",
      "Epoch 1570 - Validation Loss: 1.7378, Validation MSE: 1.7416, Validation MAE: 0.9260\n"
     ]
    },
    {
     "name": "stderr",
     "output_type": "stream",
     "text": [
      "Training Epoch 1572: 100%|██████████| 378/378 [00:04<00:00, 88.01it/s]\n",
      "Training Epoch 1573: 100%|██████████| 378/378 [00:04<00:00, 87.69it/s]\n",
      "Training Epoch 1574: 100%|██████████| 378/378 [00:04<00:00, 87.80it/s]\n",
      "Training Epoch 1575: 100%|██████████| 378/378 [00:04<00:00, 86.28it/s]\n",
      "Training Epoch 1576: 100%|██████████| 378/378 [00:04<00:00, 87.62it/s]\n",
      "Training Epoch 1577: 100%|██████████| 378/378 [00:04<00:00, 87.51it/s]\n",
      "Training Epoch 1578: 100%|██████████| 378/378 [00:04<00:00, 86.22it/s]\n",
      "Training Epoch 1579: 100%|██████████| 378/378 [00:04<00:00, 87.90it/s]\n",
      "Training Epoch 1580: 100%|██████████| 378/378 [00:04<00:00, 88.26it/s]\n",
      "Training Epoch 1581: 100%|██████████| 378/378 [00:04<00:00, 88.03it/s]\n"
     ]
    },
    {
     "name": "stdout",
     "output_type": "stream",
     "text": [
      "Epoch 1580 - Train Loss: 0.2866, Train MSE: 0.2859, Train MAE: 0.3228\n",
      "Epoch 1580 - Validation Loss: 1.7500, Validation MSE: 1.7536, Validation MAE: 0.9320\n"
     ]
    },
    {
     "name": "stderr",
     "output_type": "stream",
     "text": [
      "Training Epoch 1582: 100%|██████████| 378/378 [00:04<00:00, 85.59it/s]\n",
      "Training Epoch 1583: 100%|██████████| 378/378 [00:04<00:00, 87.80it/s]\n",
      "Training Epoch 1584: 100%|██████████| 378/378 [00:04<00:00, 87.51it/s]\n",
      "Training Epoch 1585: 100%|██████████| 378/378 [00:04<00:00, 87.19it/s]\n",
      "Training Epoch 1586: 100%|██████████| 378/378 [00:04<00:00, 87.25it/s]\n",
      "Training Epoch 1587: 100%|██████████| 378/378 [00:04<00:00, 87.61it/s]\n",
      "Training Epoch 1588: 100%|██████████| 378/378 [00:04<00:00, 88.99it/s]\n",
      "Training Epoch 1589: 100%|██████████| 378/378 [00:04<00:00, 87.21it/s]\n",
      "Training Epoch 1590: 100%|██████████| 378/378 [00:04<00:00, 87.05it/s]\n",
      "Training Epoch 1591: 100%|██████████| 378/378 [00:04<00:00, 88.12it/s]\n"
     ]
    },
    {
     "name": "stdout",
     "output_type": "stream",
     "text": [
      "Epoch 1590 - Train Loss: 0.2629, Train MSE: 0.2630, Train MAE: 0.3142\n",
      "Epoch 1590 - Validation Loss: 1.7939, Validation MSE: 1.7980, Validation MAE: 0.9416\n"
     ]
    },
    {
     "name": "stderr",
     "output_type": "stream",
     "text": [
      "Training Epoch 1592: 100%|██████████| 378/378 [00:04<00:00, 86.53it/s]\n",
      "Training Epoch 1593: 100%|██████████| 378/378 [00:04<00:00, 87.16it/s]\n",
      "Training Epoch 1594: 100%|██████████| 378/378 [00:04<00:00, 88.35it/s]\n",
      "Training Epoch 1595: 100%|██████████| 378/378 [00:04<00:00, 87.33it/s]\n",
      "Training Epoch 1596: 100%|██████████| 378/378 [00:04<00:00, 88.87it/s]\n",
      "Training Epoch 1597: 100%|██████████| 378/378 [00:04<00:00, 85.09it/s]\n",
      "Training Epoch 1598: 100%|██████████| 378/378 [00:04<00:00, 87.37it/s]\n",
      "Training Epoch 1599: 100%|██████████| 378/378 [00:04<00:00, 88.01it/s]\n",
      "Training Epoch 1600: 100%|██████████| 378/378 [00:04<00:00, 86.63it/s]\n",
      "Training Epoch 1601: 100%|██████████| 378/378 [00:04<00:00, 86.56it/s]\n"
     ]
    },
    {
     "name": "stdout",
     "output_type": "stream",
     "text": [
      "Epoch 1600 - Train Loss: 0.2472, Train MSE: 0.2468, Train MAE: 0.3063\n",
      "Epoch 1600 - Validation Loss: 1.7271, Validation MSE: 1.7320, Validation MAE: 0.9304\n"
     ]
    },
    {
     "name": "stderr",
     "output_type": "stream",
     "text": [
      "Training Epoch 1602: 100%|██████████| 378/378 [00:04<00:00, 87.53it/s]\n",
      "Training Epoch 1603: 100%|██████████| 378/378 [00:04<00:00, 86.05it/s]\n",
      "Training Epoch 1604: 100%|██████████| 378/378 [00:04<00:00, 87.44it/s]\n",
      "Training Epoch 1605: 100%|██████████| 378/378 [00:04<00:00, 86.82it/s]\n",
      "Training Epoch 1606: 100%|██████████| 378/378 [00:04<00:00, 88.11it/s]\n",
      "Training Epoch 1607: 100%|██████████| 378/378 [00:04<00:00, 87.32it/s]\n",
      "Training Epoch 1608: 100%|██████████| 378/378 [00:04<00:00, 87.94it/s]\n",
      "Training Epoch 1609: 100%|██████████| 378/378 [00:04<00:00, 86.41it/s]\n",
      "Training Epoch 1610: 100%|██████████| 378/378 [00:04<00:00, 86.87it/s]\n",
      "Training Epoch 1611: 100%|██████████| 378/378 [00:04<00:00, 86.77it/s]\n"
     ]
    },
    {
     "name": "stdout",
     "output_type": "stream",
     "text": [
      "Epoch 1610 - Train Loss: 0.2599, Train MSE: 0.2594, Train MAE: 0.3132\n",
      "Epoch 1610 - Validation Loss: 1.7441, Validation MSE: 1.7479, Validation MAE: 0.9258\n"
     ]
    },
    {
     "name": "stderr",
     "output_type": "stream",
     "text": [
      "Training Epoch 1612: 100%|██████████| 378/378 [00:04<00:00, 85.68it/s]\n",
      "Training Epoch 1613: 100%|██████████| 378/378 [00:04<00:00, 87.27it/s]\n",
      "Training Epoch 1614: 100%|██████████| 378/378 [00:04<00:00, 86.28it/s]\n",
      "Training Epoch 1615: 100%|██████████| 378/378 [00:04<00:00, 87.70it/s]\n",
      "Training Epoch 1616: 100%|██████████| 378/378 [00:04<00:00, 86.96it/s]\n",
      "Training Epoch 1617: 100%|██████████| 378/378 [00:04<00:00, 86.51it/s]\n",
      "Training Epoch 1618: 100%|██████████| 378/378 [00:04<00:00, 86.13it/s]\n",
      "Training Epoch 1619: 100%|██████████| 378/378 [00:04<00:00, 86.49it/s]\n",
      "Training Epoch 1620: 100%|██████████| 378/378 [00:04<00:00, 87.67it/s]\n",
      "Training Epoch 1621: 100%|██████████| 378/378 [00:04<00:00, 87.09it/s]\n"
     ]
    },
    {
     "name": "stdout",
     "output_type": "stream",
     "text": [
      "Epoch 1620 - Train Loss: 0.2668, Train MSE: 0.2662, Train MAE: 0.3139\n",
      "Epoch 1620 - Validation Loss: 1.7361, Validation MSE: 1.7404, Validation MAE: 0.9251\n"
     ]
    },
    {
     "name": "stderr",
     "output_type": "stream",
     "text": [
      "Training Epoch 1622: 100%|██████████| 378/378 [00:04<00:00, 86.79it/s]\n",
      "Training Epoch 1623: 100%|██████████| 378/378 [00:04<00:00, 88.18it/s]\n",
      "Training Epoch 1624: 100%|██████████| 378/378 [00:04<00:00, 86.69it/s]\n",
      "Training Epoch 1625: 100%|██████████| 378/378 [00:04<00:00, 87.79it/s]\n",
      "Training Epoch 1626: 100%|██████████| 378/378 [00:04<00:00, 89.22it/s]\n",
      "Training Epoch 1627: 100%|██████████| 378/378 [00:04<00:00, 88.70it/s]\n",
      "Training Epoch 1628: 100%|██████████| 378/378 [00:04<00:00, 86.02it/s]\n",
      "Training Epoch 1629: 100%|██████████| 378/378 [00:04<00:00, 87.94it/s]\n",
      "Training Epoch 1630: 100%|██████████| 378/378 [00:04<00:00, 87.45it/s]\n",
      "Training Epoch 1631: 100%|██████████| 378/378 [00:04<00:00, 86.99it/s]\n"
     ]
    },
    {
     "name": "stdout",
     "output_type": "stream",
     "text": [
      "Epoch 1630 - Train Loss: 0.2447, Train MSE: 0.2448, Train MAE: 0.3042\n",
      "Epoch 1630 - Validation Loss: 1.7151, Validation MSE: 1.7186, Validation MAE: 0.9168\n"
     ]
    },
    {
     "name": "stderr",
     "output_type": "stream",
     "text": [
      "Training Epoch 1632: 100%|██████████| 378/378 [00:04<00:00, 86.97it/s]\n",
      "Training Epoch 1633: 100%|██████████| 378/378 [00:04<00:00, 87.10it/s]\n",
      "Training Epoch 1634: 100%|██████████| 378/378 [00:04<00:00, 86.00it/s]\n",
      "Training Epoch 1635: 100%|██████████| 378/378 [00:04<00:00, 88.21it/s]\n",
      "Training Epoch 1636: 100%|██████████| 378/378 [00:04<00:00, 87.09it/s]\n",
      "Training Epoch 1637: 100%|██████████| 378/378 [00:04<00:00, 87.91it/s]\n",
      "Training Epoch 1638: 100%|██████████| 378/378 [00:04<00:00, 87.64it/s]\n",
      "Training Epoch 1639: 100%|██████████| 378/378 [00:04<00:00, 86.53it/s]\n",
      "Training Epoch 1640: 100%|██████████| 378/378 [00:04<00:00, 88.75it/s]\n",
      "Training Epoch 1641: 100%|██████████| 378/378 [00:04<00:00, 88.02it/s]\n"
     ]
    },
    {
     "name": "stdout",
     "output_type": "stream",
     "text": [
      "Epoch 1640 - Train Loss: 0.2673, Train MSE: 0.2673, Train MAE: 0.3141\n",
      "Epoch 1640 - Validation Loss: 1.7636, Validation MSE: 1.7680, Validation MAE: 0.9334\n"
     ]
    },
    {
     "name": "stderr",
     "output_type": "stream",
     "text": [
      "Training Epoch 1642: 100%|██████████| 378/378 [00:04<00:00, 87.82it/s]\n",
      "Training Epoch 1643: 100%|██████████| 378/378 [00:04<00:00, 88.04it/s]\n",
      "Training Epoch 1644: 100%|██████████| 378/378 [00:04<00:00, 87.21it/s]\n",
      "Training Epoch 1645: 100%|██████████| 378/378 [00:04<00:00, 88.74it/s]\n",
      "Training Epoch 1646: 100%|██████████| 378/378 [00:04<00:00, 86.04it/s]\n",
      "Training Epoch 1647: 100%|██████████| 378/378 [00:04<00:00, 87.42it/s]\n",
      "Training Epoch 1648: 100%|██████████| 378/378 [00:04<00:00, 88.49it/s]\n",
      "Training Epoch 1649: 100%|██████████| 378/378 [00:04<00:00, 88.23it/s]\n",
      "Training Epoch 1650: 100%|██████████| 378/378 [00:04<00:00, 86.24it/s]\n",
      "Training Epoch 1651: 100%|██████████| 378/378 [00:04<00:00, 88.74it/s]\n"
     ]
    },
    {
     "name": "stdout",
     "output_type": "stream",
     "text": [
      "Epoch 1650 - Train Loss: 0.2507, Train MSE: 0.2507, Train MAE: 0.3087\n",
      "Epoch 1650 - Validation Loss: 1.7575, Validation MSE: 1.7613, Validation MAE: 0.9323\n"
     ]
    },
    {
     "name": "stderr",
     "output_type": "stream",
     "text": [
      "Training Epoch 1652: 100%|██████████| 378/378 [00:04<00:00, 88.04it/s]\n",
      "Training Epoch 1653: 100%|██████████| 378/378 [00:04<00:00, 87.30it/s]\n",
      "Training Epoch 1654: 100%|██████████| 378/378 [00:04<00:00, 86.67it/s]\n",
      "Training Epoch 1655: 100%|██████████| 378/378 [00:04<00:00, 87.19it/s]\n",
      "Training Epoch 1656: 100%|██████████| 378/378 [00:04<00:00, 87.28it/s]\n",
      "Training Epoch 1657: 100%|██████████| 378/378 [00:04<00:00, 86.57it/s]\n",
      "Training Epoch 1658: 100%|██████████| 378/378 [00:04<00:00, 88.65it/s]\n",
      "Training Epoch 1659: 100%|██████████| 378/378 [00:04<00:00, 87.53it/s]\n",
      "Training Epoch 1660: 100%|██████████| 378/378 [00:04<00:00, 85.37it/s]\n",
      "Training Epoch 1661: 100%|██████████| 378/378 [00:04<00:00, 87.18it/s]\n"
     ]
    },
    {
     "name": "stdout",
     "output_type": "stream",
     "text": [
      "Epoch 1660 - Train Loss: 0.2537, Train MSE: 0.2538, Train MAE: 0.3105\n",
      "Epoch 1660 - Validation Loss: 1.7362, Validation MSE: 1.7406, Validation MAE: 0.9187\n"
     ]
    },
    {
     "name": "stderr",
     "output_type": "stream",
     "text": [
      "Training Epoch 1662: 100%|██████████| 378/378 [00:04<00:00, 88.78it/s]\n",
      "Training Epoch 1663: 100%|██████████| 378/378 [00:04<00:00, 88.14it/s]\n",
      "Training Epoch 1664: 100%|██████████| 378/378 [00:04<00:00, 87.61it/s]\n",
      "Training Epoch 1665: 100%|██████████| 378/378 [00:04<00:00, 87.64it/s]\n",
      "Training Epoch 1666: 100%|██████████| 378/378 [00:04<00:00, 88.71it/s]\n",
      "Training Epoch 1667: 100%|██████████| 378/378 [00:04<00:00, 86.88it/s]\n",
      "Training Epoch 1668: 100%|██████████| 378/378 [00:04<00:00, 87.71it/s]\n",
      "Training Epoch 1669: 100%|██████████| 378/378 [00:04<00:00, 89.68it/s]\n",
      "Training Epoch 1670: 100%|██████████| 378/378 [00:04<00:00, 88.27it/s]\n",
      "Training Epoch 1671: 100%|██████████| 378/378 [00:04<00:00, 85.18it/s]\n"
     ]
    },
    {
     "name": "stdout",
     "output_type": "stream",
     "text": [
      "Epoch 1670 - Train Loss: 0.2562, Train MSE: 0.2560, Train MAE: 0.3112\n",
      "Epoch 1670 - Validation Loss: 1.7189, Validation MSE: 1.7224, Validation MAE: 0.9186\n"
     ]
    },
    {
     "name": "stderr",
     "output_type": "stream",
     "text": [
      "Training Epoch 1672: 100%|██████████| 378/378 [00:04<00:00, 88.43it/s]\n",
      "Training Epoch 1673: 100%|██████████| 378/378 [00:04<00:00, 88.13it/s]\n",
      "Training Epoch 1674: 100%|██████████| 378/378 [00:04<00:00, 86.77it/s]\n",
      "Training Epoch 1675: 100%|██████████| 378/378 [00:04<00:00, 86.61it/s]\n",
      "Training Epoch 1676: 100%|██████████| 378/378 [00:04<00:00, 86.08it/s]\n",
      "Training Epoch 1677: 100%|██████████| 378/378 [00:04<00:00, 87.16it/s]\n",
      "Training Epoch 1678: 100%|██████████| 378/378 [00:04<00:00, 85.95it/s]\n",
      "Training Epoch 1679: 100%|██████████| 378/378 [00:04<00:00, 88.30it/s]\n",
      "Training Epoch 1680: 100%|██████████| 378/378 [00:04<00:00, 87.56it/s]\n",
      "Training Epoch 1681: 100%|██████████| 378/378 [00:04<00:00, 85.84it/s]\n"
     ]
    },
    {
     "name": "stdout",
     "output_type": "stream",
     "text": [
      "Epoch 1680 - Train Loss: 0.2533, Train MSE: 0.2531, Train MAE: 0.3085\n",
      "Epoch 1680 - Validation Loss: 1.7302, Validation MSE: 1.7351, Validation MAE: 0.9217\n"
     ]
    },
    {
     "name": "stderr",
     "output_type": "stream",
     "text": [
      "Training Epoch 1682: 100%|██████████| 378/378 [00:04<00:00, 86.95it/s]\n",
      "Training Epoch 1683: 100%|██████████| 378/378 [00:04<00:00, 87.80it/s]\n",
      "Training Epoch 1684: 100%|██████████| 378/378 [00:04<00:00, 86.88it/s]\n",
      "Training Epoch 1685: 100%|██████████| 378/378 [00:04<00:00, 86.58it/s]\n",
      "Training Epoch 1686: 100%|██████████| 378/378 [00:04<00:00, 88.18it/s]\n",
      "Training Epoch 1687: 100%|██████████| 378/378 [00:04<00:00, 87.47it/s]\n",
      "Training Epoch 1688: 100%|██████████| 378/378 [00:04<00:00, 87.39it/s]\n",
      "Training Epoch 1689: 100%|██████████| 378/378 [00:04<00:00, 87.10it/s]\n",
      "Training Epoch 1690: 100%|██████████| 378/378 [00:04<00:00, 87.50it/s]\n",
      "Training Epoch 1691: 100%|██████████| 378/378 [00:03<00:00, 100.71it/s]\n"
     ]
    },
    {
     "name": "stdout",
     "output_type": "stream",
     "text": [
      "Epoch 1690 - Train Loss: 0.2530, Train MSE: 0.2531, Train MAE: 0.3111\n",
      "Epoch 1690 - Validation Loss: 1.7562, Validation MSE: 1.7596, Validation MAE: 0.9289\n"
     ]
    },
    {
     "name": "stderr",
     "output_type": "stream",
     "text": [
      "Training Epoch 1692: 100%|██████████| 378/378 [00:03<00:00, 102.15it/s]\n",
      "Training Epoch 1693: 100%|██████████| 378/378 [00:03<00:00, 100.49it/s]\n",
      "Training Epoch 1694: 100%|██████████| 378/378 [00:03<00:00, 103.42it/s]\n",
      "Training Epoch 1695: 100%|██████████| 378/378 [00:03<00:00, 101.67it/s]\n",
      "Training Epoch 1696: 100%|██████████| 378/378 [00:03<00:00, 102.20it/s]\n",
      "Training Epoch 1697: 100%|██████████| 378/378 [00:03<00:00, 101.92it/s]\n",
      "Training Epoch 1698: 100%|██████████| 378/378 [00:03<00:00, 101.42it/s]\n",
      "Training Epoch 1699: 100%|██████████| 378/378 [00:03<00:00, 101.51it/s]\n",
      "Training Epoch 1700: 100%|██████████| 378/378 [00:03<00:00, 102.19it/s]\n",
      "Training Epoch 1701: 100%|██████████| 378/378 [00:03<00:00, 99.90it/s] \n"
     ]
    },
    {
     "name": "stdout",
     "output_type": "stream",
     "text": [
      "Epoch 1700 - Train Loss: 0.2541, Train MSE: 0.2535, Train MAE: 0.3103\n",
      "Epoch 1700 - Validation Loss: 1.8208, Validation MSE: 1.8241, Validation MAE: 0.9464\n"
     ]
    },
    {
     "name": "stderr",
     "output_type": "stream",
     "text": [
      "Training Epoch 1702: 100%|██████████| 378/378 [00:03<00:00, 101.87it/s]\n",
      "Training Epoch 1703: 100%|██████████| 378/378 [00:03<00:00, 102.98it/s]\n",
      "Training Epoch 1704: 100%|██████████| 378/378 [00:03<00:00, 102.39it/s]\n",
      "Training Epoch 1705: 100%|██████████| 378/378 [00:03<00:00, 100.59it/s]\n",
      "Training Epoch 1706: 100%|██████████| 378/378 [00:03<00:00, 100.99it/s]\n",
      "Training Epoch 1707: 100%|██████████| 378/378 [00:03<00:00, 101.22it/s]\n",
      "Training Epoch 1708: 100%|██████████| 378/378 [00:03<00:00, 100.60it/s]\n",
      "Training Epoch 1709: 100%|██████████| 378/378 [00:03<00:00, 102.12it/s]\n",
      "Training Epoch 1710: 100%|██████████| 378/378 [00:03<00:00, 102.04it/s]\n",
      "Training Epoch 1711: 100%|██████████| 378/378 [00:03<00:00, 100.96it/s]\n"
     ]
    },
    {
     "name": "stdout",
     "output_type": "stream",
     "text": [
      "Epoch 1710 - Train Loss: 0.2555, Train MSE: 0.2556, Train MAE: 0.3099\n",
      "Epoch 1710 - Validation Loss: 1.7232, Validation MSE: 1.7277, Validation MAE: 0.9215\n"
     ]
    },
    {
     "name": "stderr",
     "output_type": "stream",
     "text": [
      "Training Epoch 1712: 100%|██████████| 378/378 [00:03<00:00, 102.68it/s]\n",
      "Training Epoch 1713: 100%|██████████| 378/378 [00:03<00:00, 101.95it/s]\n",
      "Training Epoch 1714: 100%|██████████| 378/378 [00:03<00:00, 100.79it/s]\n",
      "Training Epoch 1715: 100%|██████████| 378/378 [00:03<00:00, 101.60it/s]\n",
      "Training Epoch 1716: 100%|██████████| 378/378 [00:03<00:00, 102.92it/s]\n",
      "Training Epoch 1717: 100%|██████████| 378/378 [00:03<00:00, 102.63it/s]\n",
      "Training Epoch 1718: 100%|██████████| 378/378 [00:03<00:00, 101.11it/s]\n",
      "Training Epoch 1719: 100%|██████████| 378/378 [00:03<00:00, 102.17it/s]\n",
      "Training Epoch 1720: 100%|██████████| 378/378 [00:03<00:00, 101.51it/s]\n",
      "Training Epoch 1721: 100%|██████████| 378/378 [00:03<00:00, 98.38it/s] \n"
     ]
    },
    {
     "name": "stdout",
     "output_type": "stream",
     "text": [
      "Epoch 1720 - Train Loss: 0.2559, Train MSE: 0.2561, Train MAE: 0.3104\n",
      "Epoch 1720 - Validation Loss: 1.7507, Validation MSE: 1.7542, Validation MAE: 0.9235\n"
     ]
    },
    {
     "name": "stderr",
     "output_type": "stream",
     "text": [
      "Training Epoch 1722: 100%|██████████| 378/378 [00:03<00:00, 102.78it/s]\n",
      "Training Epoch 1723: 100%|██████████| 378/378 [00:03<00:00, 100.63it/s]\n",
      "Training Epoch 1724: 100%|██████████| 378/378 [00:03<00:00, 100.99it/s]\n",
      "Training Epoch 1725: 100%|██████████| 378/378 [00:03<00:00, 102.84it/s]\n",
      "Training Epoch 1726: 100%|██████████| 378/378 [00:03<00:00, 101.53it/s]\n",
      "Training Epoch 1727: 100%|██████████| 378/378 [00:03<00:00, 101.02it/s]\n",
      "Training Epoch 1728: 100%|██████████| 378/378 [00:03<00:00, 102.42it/s]\n",
      "Training Epoch 1729: 100%|██████████| 378/378 [00:03<00:00, 102.04it/s]\n",
      "Training Epoch 1730: 100%|██████████| 378/378 [00:03<00:00, 101.79it/s]\n",
      "Training Epoch 1731: 100%|██████████| 378/378 [00:03<00:00, 103.82it/s]\n"
     ]
    },
    {
     "name": "stdout",
     "output_type": "stream",
     "text": [
      "Epoch 1730 - Train Loss: 0.2468, Train MSE: 0.2470, Train MAE: 0.3058\n",
      "Epoch 1730 - Validation Loss: 1.7537, Validation MSE: 1.7575, Validation MAE: 0.9316\n"
     ]
    },
    {
     "name": "stderr",
     "output_type": "stream",
     "text": [
      "Training Epoch 1732: 100%|██████████| 378/378 [00:03<00:00, 102.65it/s]\n",
      "Training Epoch 1733: 100%|██████████| 378/378 [00:03<00:00, 99.72it/s] \n",
      "Training Epoch 1734: 100%|██████████| 378/378 [00:03<00:00, 101.46it/s]\n",
      "Training Epoch 1735: 100%|██████████| 378/378 [00:03<00:00, 103.03it/s]\n",
      "Training Epoch 1736: 100%|██████████| 378/378 [00:03<00:00, 102.04it/s]\n",
      "Training Epoch 1737: 100%|██████████| 378/378 [00:03<00:00, 103.71it/s]\n",
      "Training Epoch 1738: 100%|██████████| 378/378 [00:03<00:00, 100.57it/s]\n",
      "Training Epoch 1739: 100%|██████████| 378/378 [00:03<00:00, 101.32it/s]\n",
      "Training Epoch 1740: 100%|██████████| 378/378 [00:03<00:00, 102.42it/s]\n",
      "Training Epoch 1741: 100%|██████████| 378/378 [00:03<00:00, 101.45it/s]\n"
     ]
    },
    {
     "name": "stdout",
     "output_type": "stream",
     "text": [
      "Epoch 1740 - Train Loss: 0.2484, Train MSE: 0.2486, Train MAE: 0.3061\n",
      "Epoch 1740 - Validation Loss: 1.7157, Validation MSE: 1.7198, Validation MAE: 0.9215\n"
     ]
    },
    {
     "name": "stderr",
     "output_type": "stream",
     "text": [
      "Training Epoch 1742: 100%|██████████| 378/378 [00:03<00:00, 101.48it/s]\n",
      "Training Epoch 1743: 100%|██████████| 378/378 [00:03<00:00, 100.41it/s]\n",
      "Training Epoch 1744: 100%|██████████| 378/378 [00:03<00:00, 101.47it/s]\n",
      "Training Epoch 1745: 100%|██████████| 378/378 [00:03<00:00, 102.77it/s]\n",
      "Training Epoch 1746: 100%|██████████| 378/378 [00:03<00:00, 101.60it/s]\n",
      "Training Epoch 1747: 100%|██████████| 378/378 [00:03<00:00, 101.48it/s]\n",
      "Training Epoch 1748: 100%|██████████| 378/378 [00:03<00:00, 97.37it/s] \n",
      "Training Epoch 1749: 100%|██████████| 378/378 [00:03<00:00, 100.99it/s]\n",
      "Training Epoch 1750: 100%|██████████| 378/378 [00:03<00:00, 101.54it/s]\n",
      "Training Epoch 1751: 100%|██████████| 378/378 [00:03<00:00, 100.55it/s]\n"
     ]
    },
    {
     "name": "stdout",
     "output_type": "stream",
     "text": [
      "Epoch 1750 - Train Loss: 0.2624, Train MSE: 0.2624, Train MAE: 0.3114\n",
      "Epoch 1750 - Validation Loss: 1.7372, Validation MSE: 1.7415, Validation MAE: 0.9292\n"
     ]
    },
    {
     "name": "stderr",
     "output_type": "stream",
     "text": [
      "Training Epoch 1752: 100%|██████████| 378/378 [00:03<00:00, 100.52it/s]\n",
      "Training Epoch 1753: 100%|██████████| 378/378 [00:03<00:00, 102.94it/s]\n",
      "Training Epoch 1754: 100%|██████████| 378/378 [00:03<00:00, 102.22it/s]\n",
      "Training Epoch 1755: 100%|██████████| 378/378 [00:03<00:00, 104.23it/s]\n",
      "Training Epoch 1756: 100%|██████████| 378/378 [00:03<00:00, 101.47it/s]\n",
      "Training Epoch 1757: 100%|██████████| 378/378 [00:03<00:00, 102.58it/s]\n",
      "Training Epoch 1758: 100%|██████████| 378/378 [00:03<00:00, 102.14it/s]\n",
      "Training Epoch 1759: 100%|██████████| 378/378 [00:03<00:00, 100.16it/s]\n",
      "Training Epoch 1760: 100%|██████████| 378/378 [00:03<00:00, 102.81it/s]\n",
      "Training Epoch 1761: 100%|██████████| 378/378 [00:03<00:00, 101.43it/s]\n"
     ]
    },
    {
     "name": "stdout",
     "output_type": "stream",
     "text": [
      "Epoch 1760 - Train Loss: 0.2562, Train MSE: 0.2554, Train MAE: 0.3053\n",
      "Epoch 1760 - Validation Loss: 1.6774, Validation MSE: 1.6819, Validation MAE: 0.9093\n"
     ]
    },
    {
     "name": "stderr",
     "output_type": "stream",
     "text": [
      "Training Epoch 1762: 100%|██████████| 378/378 [00:03<00:00, 105.41it/s]\n",
      "Training Epoch 1763: 100%|██████████| 378/378 [00:03<00:00, 102.59it/s]\n",
      "Training Epoch 1764: 100%|██████████| 378/378 [00:03<00:00, 100.19it/s]\n",
      "Training Epoch 1765: 100%|██████████| 378/378 [00:03<00:00, 103.67it/s]\n",
      "Training Epoch 1766: 100%|██████████| 378/378 [00:03<00:00, 100.20it/s]\n",
      "Training Epoch 1767: 100%|██████████| 378/378 [00:03<00:00, 103.39it/s]\n",
      "Training Epoch 1768: 100%|██████████| 378/378 [00:03<00:00, 101.31it/s]\n",
      "Training Epoch 1769: 100%|██████████| 378/378 [00:03<00:00, 100.78it/s]\n",
      "Training Epoch 1770: 100%|██████████| 378/378 [00:03<00:00, 104.14it/s]\n",
      "Training Epoch 1771: 100%|██████████| 378/378 [00:03<00:00, 101.68it/s]\n"
     ]
    },
    {
     "name": "stdout",
     "output_type": "stream",
     "text": [
      "Epoch 1770 - Train Loss: 0.2718, Train MSE: 0.2719, Train MAE: 0.3178\n",
      "Epoch 1770 - Validation Loss: 1.7365, Validation MSE: 1.7402, Validation MAE: 0.9257\n"
     ]
    },
    {
     "name": "stderr",
     "output_type": "stream",
     "text": [
      "Training Epoch 1772: 100%|██████████| 378/378 [00:03<00:00, 100.50it/s]\n",
      "Training Epoch 1773: 100%|██████████| 378/378 [00:03<00:00, 103.82it/s]\n",
      "Training Epoch 1774: 100%|██████████| 378/378 [00:03<00:00, 102.40it/s]\n",
      "Training Epoch 1775: 100%|██████████| 378/378 [00:03<00:00, 101.57it/s]\n",
      "Training Epoch 1776: 100%|██████████| 378/378 [00:03<00:00, 102.37it/s]\n",
      "Training Epoch 1777: 100%|██████████| 378/378 [00:03<00:00, 101.38it/s]\n",
      "Training Epoch 1778: 100%|██████████| 378/378 [00:03<00:00, 102.71it/s]\n",
      "Training Epoch 1779: 100%|██████████| 378/378 [00:03<00:00, 102.09it/s]\n",
      "Training Epoch 1780: 100%|██████████| 378/378 [00:03<00:00, 102.23it/s]\n",
      "Training Epoch 1781: 100%|██████████| 378/378 [00:03<00:00, 101.94it/s]\n"
     ]
    },
    {
     "name": "stdout",
     "output_type": "stream",
     "text": [
      "Epoch 1780 - Train Loss: 0.2626, Train MSE: 0.2617, Train MAE: 0.3110\n",
      "Epoch 1780 - Validation Loss: 1.7417, Validation MSE: 1.7463, Validation MAE: 0.9306\n"
     ]
    },
    {
     "name": "stderr",
     "output_type": "stream",
     "text": [
      "Training Epoch 1782: 100%|██████████| 378/378 [00:03<00:00, 101.53it/s]\n",
      "Training Epoch 1783: 100%|██████████| 378/378 [00:03<00:00, 103.46it/s]\n",
      "Training Epoch 1784: 100%|██████████| 378/378 [00:03<00:00, 99.52it/s] \n",
      "Training Epoch 1785: 100%|██████████| 378/378 [00:03<00:00, 101.05it/s]\n",
      "Training Epoch 1786: 100%|██████████| 378/378 [00:03<00:00, 102.73it/s]\n",
      "Training Epoch 1787: 100%|██████████| 378/378 [00:03<00:00, 102.32it/s]\n",
      "Training Epoch 1788: 100%|██████████| 378/378 [00:03<00:00, 103.13it/s]\n",
      "Training Epoch 1789: 100%|██████████| 378/378 [00:03<00:00, 99.85it/s] \n",
      "Training Epoch 1790: 100%|██████████| 378/378 [00:03<00:00, 101.52it/s]\n",
      "Training Epoch 1791: 100%|██████████| 378/378 [00:03<00:00, 101.23it/s]\n"
     ]
    },
    {
     "name": "stdout",
     "output_type": "stream",
     "text": [
      "Epoch 1790 - Train Loss: 0.2551, Train MSE: 0.2553, Train MAE: 0.3067\n",
      "Epoch 1790 - Validation Loss: 1.7008, Validation MSE: 1.7043, Validation MAE: 0.9192\n"
     ]
    },
    {
     "name": "stderr",
     "output_type": "stream",
     "text": [
      "Training Epoch 1792: 100%|██████████| 378/378 [00:03<00:00, 101.99it/s]\n",
      "Training Epoch 1793: 100%|██████████| 378/378 [00:03<00:00, 102.56it/s]\n",
      "Training Epoch 1794: 100%|██████████| 378/378 [00:03<00:00, 102.73it/s]\n",
      "Training Epoch 1795: 100%|██████████| 378/378 [00:03<00:00, 103.34it/s]\n",
      "Training Epoch 1796: 100%|██████████| 378/378 [00:03<00:00, 103.92it/s]\n",
      "Training Epoch 1797: 100%|██████████| 378/378 [00:03<00:00, 101.49it/s]\n",
      "Training Epoch 1798: 100%|██████████| 378/378 [00:03<00:00, 103.21it/s]\n",
      "Training Epoch 1799: 100%|██████████| 378/378 [00:03<00:00, 100.71it/s]\n",
      "Training Epoch 1800: 100%|██████████| 378/378 [00:03<00:00, 103.21it/s]\n",
      "Training Epoch 1801: 100%|██████████| 378/378 [00:03<00:00, 100.79it/s]\n"
     ]
    },
    {
     "name": "stdout",
     "output_type": "stream",
     "text": [
      "Epoch 1800 - Train Loss: 0.2499, Train MSE: 0.2499, Train MAE: 0.3040\n",
      "Epoch 1800 - Validation Loss: 1.7442, Validation MSE: 1.7479, Validation MAE: 0.9288\n"
     ]
    },
    {
     "name": "stderr",
     "output_type": "stream",
     "text": [
      "Training Epoch 1802: 100%|██████████| 378/378 [00:03<00:00, 101.71it/s]\n",
      "Training Epoch 1803: 100%|██████████| 378/378 [00:03<00:00, 102.71it/s]\n",
      "Training Epoch 1804: 100%|██████████| 378/378 [00:03<00:00, 102.62it/s]\n",
      "Training Epoch 1805: 100%|██████████| 378/378 [00:03<00:00, 101.99it/s]\n",
      "Training Epoch 1806: 100%|██████████| 378/378 [00:03<00:00, 102.67it/s]\n",
      "Training Epoch 1807: 100%|██████████| 378/378 [00:03<00:00, 100.68it/s]\n",
      "Training Epoch 1808: 100%|██████████| 378/378 [00:03<00:00, 102.82it/s]\n",
      "Training Epoch 1809: 100%|██████████| 378/378 [00:03<00:00, 101.56it/s]\n",
      "Training Epoch 1810: 100%|██████████| 378/378 [00:03<00:00, 102.33it/s]\n",
      "Training Epoch 1811: 100%|██████████| 378/378 [00:03<00:00, 102.39it/s]\n"
     ]
    },
    {
     "name": "stdout",
     "output_type": "stream",
     "text": [
      "Epoch 1810 - Train Loss: 0.2496, Train MSE: 0.2497, Train MAE: 0.3039\n",
      "Epoch 1810 - Validation Loss: 1.7167, Validation MSE: 1.7208, Validation MAE: 0.9190\n"
     ]
    },
    {
     "name": "stderr",
     "output_type": "stream",
     "text": [
      "Training Epoch 1812: 100%|██████████| 378/378 [00:03<00:00, 101.47it/s]\n",
      "Training Epoch 1813: 100%|██████████| 378/378 [00:03<00:00, 102.46it/s]\n",
      "Training Epoch 1814: 100%|██████████| 378/378 [00:03<00:00, 100.72it/s]\n",
      "Training Epoch 1815: 100%|██████████| 378/378 [00:03<00:00, 101.60it/s]\n",
      "Training Epoch 1816: 100%|██████████| 378/378 [00:03<00:00, 102.31it/s]\n",
      "Training Epoch 1817: 100%|██████████| 378/378 [00:03<00:00, 102.13it/s]\n",
      "Training Epoch 1818: 100%|██████████| 378/378 [00:03<00:00, 101.51it/s]\n",
      "Training Epoch 1819: 100%|██████████| 378/378 [00:03<00:00, 102.52it/s]\n",
      "Training Epoch 1820: 100%|██████████| 378/378 [00:03<00:00, 102.52it/s]\n",
      "Training Epoch 1821: 100%|██████████| 378/378 [00:03<00:00, 102.20it/s]\n"
     ]
    },
    {
     "name": "stdout",
     "output_type": "stream",
     "text": [
      "Epoch 1820 - Train Loss: 0.2650, Train MSE: 0.2651, Train MAE: 0.3108\n",
      "Epoch 1820 - Validation Loss: 1.7009, Validation MSE: 1.7041, Validation MAE: 0.9119\n"
     ]
    },
    {
     "name": "stderr",
     "output_type": "stream",
     "text": [
      "Training Epoch 1822: 100%|██████████| 378/378 [00:03<00:00, 98.97it/s] \n",
      "Training Epoch 1823: 100%|██████████| 378/378 [00:03<00:00, 101.94it/s]\n",
      "Training Epoch 1824: 100%|██████████| 378/378 [00:03<00:00, 101.47it/s]\n",
      "Training Epoch 1825: 100%|██████████| 378/378 [00:03<00:00, 101.63it/s]\n",
      "Training Epoch 1826: 100%|██████████| 378/378 [00:03<00:00, 101.83it/s]\n",
      "Training Epoch 1827: 100%|██████████| 378/378 [00:03<00:00, 101.03it/s]\n",
      "Training Epoch 1828: 100%|██████████| 378/378 [00:03<00:00, 103.11it/s]\n",
      "Training Epoch 1829: 100%|██████████| 378/378 [00:03<00:00, 100.70it/s]\n",
      "Training Epoch 1830: 100%|██████████| 378/378 [00:03<00:00, 100.34it/s]\n",
      "Training Epoch 1831: 100%|██████████| 378/378 [00:03<00:00, 102.58it/s]\n"
     ]
    },
    {
     "name": "stdout",
     "output_type": "stream",
     "text": [
      "Epoch 1830 - Train Loss: 0.2362, Train MSE: 0.2360, Train MAE: 0.2964\n",
      "Epoch 1830 - Validation Loss: 1.6558, Validation MSE: 1.6594, Validation MAE: 0.8900\n"
     ]
    },
    {
     "name": "stderr",
     "output_type": "stream",
     "text": [
      "Training Epoch 1832: 100%|██████████| 378/378 [00:03<00:00, 99.88it/s] \n",
      "Training Epoch 1833: 100%|██████████| 378/378 [00:03<00:00, 104.06it/s]\n",
      "Training Epoch 1834: 100%|██████████| 378/378 [00:03<00:00, 100.49it/s]\n",
      "Training Epoch 1835: 100%|██████████| 378/378 [00:03<00:00, 102.77it/s]\n",
      "Training Epoch 1836: 100%|██████████| 378/378 [00:03<00:00, 102.07it/s]\n",
      "Training Epoch 1837: 100%|██████████| 378/378 [00:03<00:00, 102.29it/s]\n",
      "Training Epoch 1838: 100%|██████████| 378/378 [00:03<00:00, 102.60it/s]\n",
      "Training Epoch 1839: 100%|██████████| 378/378 [00:03<00:00, 100.44it/s]\n",
      "Training Epoch 1840: 100%|██████████| 378/378 [00:03<00:00, 102.73it/s]\n",
      "Training Epoch 1841: 100%|██████████| 378/378 [00:03<00:00, 104.14it/s]\n"
     ]
    },
    {
     "name": "stdout",
     "output_type": "stream",
     "text": [
      "Epoch 1840 - Train Loss: 0.2511, Train MSE: 0.2512, Train MAE: 0.3070\n",
      "Epoch 1840 - Validation Loss: 1.7147, Validation MSE: 1.7180, Validation MAE: 0.9160\n"
     ]
    },
    {
     "name": "stderr",
     "output_type": "stream",
     "text": [
      "Training Epoch 1842: 100%|██████████| 378/378 [00:03<00:00, 102.41it/s]\n",
      "Training Epoch 1843: 100%|██████████| 378/378 [00:03<00:00, 100.42it/s]\n",
      "Training Epoch 1844: 100%|██████████| 378/378 [00:03<00:00, 103.10it/s]\n",
      "Training Epoch 1845: 100%|██████████| 378/378 [00:03<00:00, 101.22it/s]\n",
      "Training Epoch 1846: 100%|██████████| 378/378 [00:03<00:00, 103.41it/s]\n",
      "Training Epoch 1847: 100%|██████████| 378/378 [00:03<00:00, 100.82it/s]\n",
      "Training Epoch 1848: 100%|██████████| 378/378 [00:03<00:00, 102.53it/s]\n",
      "Training Epoch 1849: 100%|██████████| 378/378 [00:03<00:00, 102.60it/s]\n",
      "Training Epoch 1850: 100%|██████████| 378/378 [00:03<00:00, 102.33it/s]\n",
      "Training Epoch 1851: 100%|██████████| 378/378 [00:03<00:00, 101.23it/s]\n"
     ]
    },
    {
     "name": "stdout",
     "output_type": "stream",
     "text": [
      "Epoch 1850 - Train Loss: 0.2372, Train MSE: 0.2370, Train MAE: 0.3000\n",
      "Epoch 1850 - Validation Loss: 1.7137, Validation MSE: 1.7185, Validation MAE: 0.9214\n"
     ]
    },
    {
     "name": "stderr",
     "output_type": "stream",
     "text": [
      "Training Epoch 1852: 100%|██████████| 378/378 [00:03<00:00, 99.84it/s] \n",
      "Training Epoch 1853: 100%|██████████| 378/378 [00:03<00:00, 100.30it/s]\n",
      "Training Epoch 1854: 100%|██████████| 378/378 [00:03<00:00, 102.54it/s]\n",
      "Training Epoch 1855: 100%|██████████| 378/378 [00:03<00:00, 99.61it/s] \n",
      "Training Epoch 1856: 100%|██████████| 378/378 [00:03<00:00, 103.77it/s]\n",
      "Training Epoch 1857: 100%|██████████| 378/378 [00:03<00:00, 102.07it/s]\n",
      "Training Epoch 1858: 100%|██████████| 378/378 [00:03<00:00, 105.41it/s]\n",
      "Training Epoch 1859: 100%|██████████| 378/378 [00:03<00:00, 101.40it/s]\n",
      "Training Epoch 1860: 100%|██████████| 378/378 [00:03<00:00, 101.10it/s]\n",
      "Training Epoch 1861: 100%|██████████| 378/378 [00:03<00:00, 103.34it/s]\n"
     ]
    },
    {
     "name": "stdout",
     "output_type": "stream",
     "text": [
      "Epoch 1860 - Train Loss: 0.2350, Train MSE: 0.2350, Train MAE: 0.2970\n",
      "Epoch 1860 - Validation Loss: 1.7034, Validation MSE: 1.7073, Validation MAE: 0.9198\n"
     ]
    },
    {
     "name": "stderr",
     "output_type": "stream",
     "text": [
      "Training Epoch 1862: 100%|██████████| 378/378 [00:03<00:00, 100.87it/s]\n",
      "Training Epoch 1863: 100%|██████████| 378/378 [00:03<00:00, 100.62it/s]\n",
      "Training Epoch 1864: 100%|██████████| 378/378 [00:03<00:00, 100.96it/s]\n",
      "Training Epoch 1865: 100%|██████████| 378/378 [00:03<00:00, 102.61it/s]\n",
      "Training Epoch 1866: 100%|██████████| 378/378 [00:03<00:00, 103.12it/s]\n",
      "Training Epoch 1867: 100%|██████████| 378/378 [00:03<00:00, 100.19it/s]\n",
      "Training Epoch 1868: 100%|██████████| 378/378 [00:03<00:00, 101.14it/s]\n",
      "Training Epoch 1869: 100%|██████████| 378/378 [00:03<00:00, 104.92it/s]\n",
      "Training Epoch 1870: 100%|██████████| 378/378 [00:03<00:00, 103.54it/s]\n",
      "Training Epoch 1871: 100%|██████████| 378/378 [00:03<00:00, 102.90it/s]\n"
     ]
    },
    {
     "name": "stdout",
     "output_type": "stream",
     "text": [
      "Epoch 1870 - Train Loss: 0.2482, Train MSE: 0.2484, Train MAE: 0.3029\n",
      "Epoch 1870 - Validation Loss: 1.7722, Validation MSE: 1.7756, Validation MAE: 0.9393\n"
     ]
    },
    {
     "name": "stderr",
     "output_type": "stream",
     "text": [
      "Training Epoch 1872: 100%|██████████| 378/378 [00:03<00:00, 99.73it/s] \n",
      "Training Epoch 1873: 100%|██████████| 378/378 [00:03<00:00, 100.57it/s]\n",
      "Training Epoch 1874: 100%|██████████| 378/378 [00:03<00:00, 100.62it/s]\n",
      "Training Epoch 1875: 100%|██████████| 378/378 [00:03<00:00, 102.20it/s]\n",
      "Training Epoch 1876: 100%|██████████| 378/378 [00:03<00:00, 101.58it/s]\n",
      "Training Epoch 1877: 100%|██████████| 378/378 [00:03<00:00, 102.07it/s]\n",
      "Training Epoch 1878: 100%|██████████| 378/378 [00:03<00:00, 101.80it/s]\n",
      "Training Epoch 1879: 100%|██████████| 378/378 [00:03<00:00, 101.49it/s]\n",
      "Training Epoch 1880: 100%|██████████| 378/378 [00:03<00:00, 100.42it/s]\n",
      "Training Epoch 1881: 100%|██████████| 378/378 [00:03<00:00, 102.10it/s]\n"
     ]
    },
    {
     "name": "stdout",
     "output_type": "stream",
     "text": [
      "Epoch 1880 - Train Loss: 0.2395, Train MSE: 0.2396, Train MAE: 0.2991\n",
      "Epoch 1880 - Validation Loss: 1.6919, Validation MSE: 1.6951, Validation MAE: 0.9100\n"
     ]
    },
    {
     "name": "stderr",
     "output_type": "stream",
     "text": [
      "Training Epoch 1882: 100%|██████████| 378/378 [00:03<00:00, 101.52it/s]\n",
      "Training Epoch 1883: 100%|██████████| 378/378 [00:03<00:00, 100.34it/s]\n",
      "Training Epoch 1884: 100%|██████████| 378/378 [00:03<00:00, 102.51it/s]\n",
      "Training Epoch 1885: 100%|██████████| 378/378 [00:03<00:00, 103.34it/s]\n",
      "Training Epoch 1886: 100%|██████████| 378/378 [00:03<00:00, 102.72it/s]\n",
      "Training Epoch 1887: 100%|██████████| 378/378 [00:03<00:00, 101.01it/s]\n",
      "Training Epoch 1888: 100%|██████████| 378/378 [00:03<00:00, 102.69it/s]\n",
      "Training Epoch 1889: 100%|██████████| 378/378 [00:03<00:00, 102.41it/s]\n",
      "Training Epoch 1890: 100%|██████████| 378/378 [00:03<00:00, 102.79it/s]\n",
      "Training Epoch 1891: 100%|██████████| 378/378 [00:03<00:00, 102.56it/s]\n"
     ]
    },
    {
     "name": "stdout",
     "output_type": "stream",
     "text": [
      "Epoch 1890 - Train Loss: 0.2411, Train MSE: 0.2412, Train MAE: 0.3008\n",
      "Epoch 1890 - Validation Loss: 1.7122, Validation MSE: 1.7175, Validation MAE: 0.9185\n"
     ]
    },
    {
     "name": "stderr",
     "output_type": "stream",
     "text": [
      "Training Epoch 1892: 100%|██████████| 378/378 [00:03<00:00, 101.11it/s]\n",
      "Training Epoch 1893: 100%|██████████| 378/378 [00:03<00:00, 100.00it/s]\n",
      "Training Epoch 1894: 100%|██████████| 378/378 [00:03<00:00, 102.22it/s]\n",
      "Training Epoch 1895: 100%|██████████| 378/378 [00:03<00:00, 99.88it/s] \n",
      "Training Epoch 1896: 100%|██████████| 378/378 [00:03<00:00, 103.11it/s]\n",
      "Training Epoch 1897: 100%|██████████| 378/378 [00:03<00:00, 100.31it/s]\n",
      "Training Epoch 1898: 100%|██████████| 378/378 [00:03<00:00, 100.47it/s]\n",
      "Training Epoch 1899: 100%|██████████| 378/378 [00:03<00:00, 102.57it/s]\n",
      "Training Epoch 1900: 100%|██████████| 378/378 [00:03<00:00, 103.15it/s]\n",
      "Training Epoch 1901: 100%|██████████| 378/378 [00:03<00:00, 103.96it/s]\n"
     ]
    },
    {
     "name": "stdout",
     "output_type": "stream",
     "text": [
      "Epoch 1900 - Train Loss: 0.2266, Train MSE: 0.2265, Train MAE: 0.2912\n",
      "Epoch 1900 - Validation Loss: 1.7608, Validation MSE: 1.7647, Validation MAE: 0.9321\n"
     ]
    },
    {
     "name": "stderr",
     "output_type": "stream",
     "text": [
      "Training Epoch 1902: 100%|██████████| 378/378 [00:03<00:00, 101.18it/s]\n",
      "Training Epoch 1903: 100%|██████████| 378/378 [00:03<00:00, 102.03it/s]\n",
      "Training Epoch 1904: 100%|██████████| 378/378 [00:03<00:00, 103.47it/s]\n",
      "Training Epoch 1905: 100%|██████████| 378/378 [00:03<00:00, 99.58it/s] \n",
      "Training Epoch 1906: 100%|██████████| 378/378 [00:03<00:00, 102.23it/s]\n",
      "Training Epoch 1907: 100%|██████████| 378/378 [00:03<00:00, 102.66it/s]\n",
      "Training Epoch 1908: 100%|██████████| 378/378 [00:03<00:00, 101.67it/s]\n",
      "Training Epoch 1909: 100%|██████████| 378/378 [00:03<00:00, 103.10it/s]\n",
      "Training Epoch 1910: 100%|██████████| 378/378 [00:03<00:00, 99.88it/s] \n",
      "Training Epoch 1911: 100%|██████████| 378/378 [00:03<00:00, 100.89it/s]\n"
     ]
    },
    {
     "name": "stdout",
     "output_type": "stream",
     "text": [
      "Epoch 1910 - Train Loss: 0.2456, Train MSE: 0.2456, Train MAE: 0.2999\n",
      "Epoch 1910 - Validation Loss: 1.7221, Validation MSE: 1.7267, Validation MAE: 0.9246\n"
     ]
    },
    {
     "name": "stderr",
     "output_type": "stream",
     "text": [
      "Training Epoch 1912: 100%|██████████| 378/378 [00:03<00:00, 102.07it/s]\n",
      "Training Epoch 1913: 100%|██████████| 378/378 [00:03<00:00, 101.06it/s]\n",
      "Training Epoch 1914: 100%|██████████| 378/378 [00:03<00:00, 99.97it/s] \n",
      "Training Epoch 1915: 100%|██████████| 378/378 [00:03<00:00, 102.76it/s]\n",
      "Training Epoch 1916: 100%|██████████| 378/378 [00:03<00:00, 101.95it/s]\n",
      "Training Epoch 1917: 100%|██████████| 378/378 [00:03<00:00, 101.37it/s]\n",
      "Training Epoch 1918: 100%|██████████| 378/378 [00:03<00:00, 100.86it/s]\n",
      "Training Epoch 1919: 100%|██████████| 378/378 [00:03<00:00, 101.17it/s]\n",
      "Training Epoch 1920: 100%|██████████| 378/378 [00:03<00:00, 99.57it/s] \n",
      "Training Epoch 1921: 100%|██████████| 378/378 [00:03<00:00, 100.59it/s]\n"
     ]
    },
    {
     "name": "stdout",
     "output_type": "stream",
     "text": [
      "Epoch 1920 - Train Loss: 0.2621, Train MSE: 0.2622, Train MAE: 0.3111\n",
      "Epoch 1920 - Validation Loss: 1.7861, Validation MSE: 1.7906, Validation MAE: 0.9410\n"
     ]
    },
    {
     "name": "stderr",
     "output_type": "stream",
     "text": [
      "Training Epoch 1922: 100%|██████████| 378/378 [00:03<00:00, 101.44it/s]\n",
      "Training Epoch 1923: 100%|██████████| 378/378 [00:03<00:00, 102.50it/s]\n",
      "Training Epoch 1924: 100%|██████████| 378/378 [00:03<00:00, 104.57it/s]\n",
      "Training Epoch 1925: 100%|██████████| 378/378 [00:03<00:00, 100.90it/s]\n",
      "Training Epoch 1926: 100%|██████████| 378/378 [00:03<00:00, 100.16it/s]\n",
      "Training Epoch 1927: 100%|██████████| 378/378 [00:03<00:00, 103.09it/s]\n",
      "Training Epoch 1928: 100%|██████████| 378/378 [00:03<00:00, 101.02it/s]\n",
      "Training Epoch 1929: 100%|██████████| 378/378 [00:03<00:00, 102.64it/s]\n",
      "Training Epoch 1930: 100%|██████████| 378/378 [00:03<00:00, 99.50it/s] \n",
      "Training Epoch 1931: 100%|██████████| 378/378 [00:03<00:00, 102.89it/s]\n"
     ]
    },
    {
     "name": "stdout",
     "output_type": "stream",
     "text": [
      "Epoch 1930 - Train Loss: 0.2393, Train MSE: 0.2393, Train MAE: 0.2970\n",
      "Epoch 1930 - Validation Loss: 1.7554, Validation MSE: 1.7598, Validation MAE: 0.9295\n"
     ]
    },
    {
     "name": "stderr",
     "output_type": "stream",
     "text": [
      "Training Epoch 1932: 100%|██████████| 378/378 [00:03<00:00, 101.69it/s]\n",
      "Training Epoch 1933: 100%|██████████| 378/378 [00:03<00:00, 103.10it/s]\n",
      "Training Epoch 1934: 100%|██████████| 378/378 [00:03<00:00, 102.47it/s]\n",
      "Training Epoch 1935: 100%|██████████| 378/378 [00:03<00:00, 102.49it/s]\n",
      "Training Epoch 1936: 100%|██████████| 378/378 [00:03<00:00, 101.42it/s]\n",
      "Training Epoch 1937: 100%|██████████| 378/378 [00:03<00:00, 102.66it/s]\n",
      "Training Epoch 1938: 100%|██████████| 378/378 [00:03<00:00, 102.65it/s]\n",
      "Training Epoch 1939: 100%|██████████| 378/378 [00:03<00:00, 101.16it/s]\n",
      "Training Epoch 1940: 100%|██████████| 378/378 [00:03<00:00, 103.74it/s]\n",
      "Training Epoch 1941: 100%|██████████| 378/378 [00:03<00:00, 100.91it/s]\n"
     ]
    },
    {
     "name": "stdout",
     "output_type": "stream",
     "text": [
      "Epoch 1940 - Train Loss: 0.2380, Train MSE: 0.2366, Train MAE: 0.2959\n",
      "Epoch 1940 - Validation Loss: 1.7453, Validation MSE: 1.7498, Validation MAE: 0.9252\n"
     ]
    },
    {
     "name": "stderr",
     "output_type": "stream",
     "text": [
      "Training Epoch 1942: 100%|██████████| 378/378 [00:03<00:00, 103.98it/s]\n",
      "Training Epoch 1943: 100%|██████████| 378/378 [00:03<00:00, 101.07it/s]\n",
      "Training Epoch 1944: 100%|██████████| 378/378 [00:03<00:00, 102.76it/s]\n",
      "Training Epoch 1945: 100%|██████████| 378/378 [00:03<00:00, 101.30it/s]\n",
      "Training Epoch 1946: 100%|██████████| 378/378 [00:03<00:00, 101.30it/s]\n",
      "Training Epoch 1947: 100%|██████████| 378/378 [00:03<00:00, 101.80it/s]\n",
      "Training Epoch 1948: 100%|██████████| 378/378 [00:03<00:00, 101.18it/s]\n",
      "Training Epoch 1949: 100%|██████████| 378/378 [00:03<00:00, 100.01it/s]\n",
      "Training Epoch 1950: 100%|██████████| 378/378 [00:03<00:00, 102.99it/s]\n",
      "Training Epoch 1951: 100%|██████████| 378/378 [00:03<00:00, 100.78it/s]\n"
     ]
    },
    {
     "name": "stdout",
     "output_type": "stream",
     "text": [
      "Epoch 1950 - Train Loss: 0.2613, Train MSE: 0.2615, Train MAE: 0.3090\n",
      "Epoch 1950 - Validation Loss: 1.7225, Validation MSE: 1.7266, Validation MAE: 0.9190\n"
     ]
    },
    {
     "name": "stderr",
     "output_type": "stream",
     "text": [
      "Training Epoch 1952: 100%|██████████| 378/378 [00:03<00:00, 100.73it/s]\n",
      "Training Epoch 1953: 100%|██████████| 378/378 [00:03<00:00, 103.76it/s]\n",
      "Training Epoch 1954: 100%|██████████| 378/378 [00:03<00:00, 101.61it/s]\n",
      "Training Epoch 1955: 100%|██████████| 378/378 [00:03<00:00, 99.83it/s] \n",
      "Training Epoch 1956: 100%|██████████| 378/378 [00:03<00:00, 100.71it/s]\n",
      "Training Epoch 1957: 100%|██████████| 378/378 [00:03<00:00, 101.62it/s]\n",
      "Training Epoch 1958: 100%|██████████| 378/378 [00:03<00:00, 103.50it/s]\n",
      "Training Epoch 1959: 100%|██████████| 378/378 [00:03<00:00, 99.84it/s] \n",
      "Training Epoch 1960: 100%|██████████| 378/378 [00:03<00:00, 103.71it/s]\n",
      "Training Epoch 1961: 100%|██████████| 378/378 [00:03<00:00, 100.80it/s]\n"
     ]
    },
    {
     "name": "stdout",
     "output_type": "stream",
     "text": [
      "Epoch 1960 - Train Loss: 0.2348, Train MSE: 0.2350, Train MAE: 0.2968\n",
      "Epoch 1960 - Validation Loss: 1.7057, Validation MSE: 1.7090, Validation MAE: 0.9124\n"
     ]
    },
    {
     "name": "stderr",
     "output_type": "stream",
     "text": [
      "Training Epoch 1962: 100%|██████████| 378/378 [00:03<00:00, 101.31it/s]\n",
      "Training Epoch 1963: 100%|██████████| 378/378 [00:03<00:00, 103.42it/s]\n",
      "Training Epoch 1964: 100%|██████████| 378/378 [00:03<00:00, 100.17it/s]\n",
      "Training Epoch 1965: 100%|██████████| 378/378 [00:03<00:00, 101.05it/s]\n",
      "Training Epoch 1966: 100%|██████████| 378/378 [00:03<00:00, 102.06it/s]\n",
      "Training Epoch 1967: 100%|██████████| 378/378 [00:03<00:00, 100.79it/s]\n",
      "Training Epoch 1968: 100%|██████████| 378/378 [00:03<00:00, 102.05it/s]\n",
      "Training Epoch 1969: 100%|██████████| 378/378 [00:03<00:00, 101.27it/s]\n",
      "Training Epoch 1970: 100%|██████████| 378/378 [00:03<00:00, 102.92it/s]\n",
      "Training Epoch 1971: 100%|██████████| 378/378 [00:03<00:00, 101.98it/s]\n"
     ]
    },
    {
     "name": "stdout",
     "output_type": "stream",
     "text": [
      "Epoch 1970 - Train Loss: 0.2636, Train MSE: 0.2637, Train MAE: 0.3082\n",
      "Epoch 1970 - Validation Loss: 1.7413, Validation MSE: 1.7448, Validation MAE: 0.9208\n"
     ]
    },
    {
     "name": "stderr",
     "output_type": "stream",
     "text": [
      "Training Epoch 1972: 100%|██████████| 378/378 [00:03<00:00, 99.66it/s] \n",
      "Training Epoch 1973: 100%|██████████| 378/378 [00:03<00:00, 101.64it/s]\n",
      "Training Epoch 1974: 100%|██████████| 378/378 [00:03<00:00, 101.95it/s]\n",
      "Training Epoch 1975: 100%|██████████| 378/378 [00:03<00:00, 102.28it/s]\n",
      "Training Epoch 1976: 100%|██████████| 378/378 [00:03<00:00, 102.67it/s]\n",
      "Training Epoch 1977: 100%|██████████| 378/378 [00:03<00:00, 100.08it/s]\n",
      "Training Epoch 1978: 100%|██████████| 378/378 [00:03<00:00, 103.56it/s]\n",
      "Training Epoch 1979: 100%|██████████| 378/378 [00:03<00:00, 103.52it/s]\n",
      "Training Epoch 1980: 100%|██████████| 378/378 [00:03<00:00, 101.81it/s]\n",
      "Training Epoch 1981: 100%|██████████| 378/378 [00:03<00:00, 102.79it/s]\n"
     ]
    },
    {
     "name": "stdout",
     "output_type": "stream",
     "text": [
      "Epoch 1980 - Train Loss: 0.2642, Train MSE: 0.2644, Train MAE: 0.3101\n",
      "Epoch 1980 - Validation Loss: 1.7393, Validation MSE: 1.7429, Validation MAE: 0.9242\n"
     ]
    },
    {
     "name": "stderr",
     "output_type": "stream",
     "text": [
      "Training Epoch 1982: 100%|██████████| 378/378 [00:03<00:00, 100.69it/s]\n",
      "Training Epoch 1983: 100%|██████████| 378/378 [00:03<00:00, 102.82it/s]\n",
      "Training Epoch 1984: 100%|██████████| 378/378 [00:03<00:00, 99.87it/s] \n",
      "Training Epoch 1985: 100%|██████████| 378/378 [00:03<00:00, 102.52it/s]\n",
      "Training Epoch 1986: 100%|██████████| 378/378 [00:03<00:00, 102.40it/s]\n",
      "Training Epoch 1987: 100%|██████████| 378/378 [00:03<00:00, 101.58it/s]\n",
      "Training Epoch 1988: 100%|██████████| 378/378 [00:03<00:00, 101.89it/s]\n",
      "Training Epoch 1989: 100%|██████████| 378/378 [00:03<00:00, 99.42it/s] \n",
      "Training Epoch 1990: 100%|██████████| 378/378 [00:03<00:00, 101.62it/s]\n",
      "Training Epoch 1991: 100%|██████████| 378/378 [00:03<00:00, 103.16it/s]\n"
     ]
    },
    {
     "name": "stdout",
     "output_type": "stream",
     "text": [
      "Epoch 1990 - Train Loss: 0.2485, Train MSE: 0.2486, Train MAE: 0.3040\n",
      "Epoch 1990 - Validation Loss: 1.7507, Validation MSE: 1.7547, Validation MAE: 0.9250\n"
     ]
    },
    {
     "name": "stderr",
     "output_type": "stream",
     "text": [
      "Training Epoch 1992: 100%|██████████| 378/378 [00:03<00:00, 100.34it/s]\n",
      "Training Epoch 1993: 100%|██████████| 378/378 [00:03<00:00, 101.57it/s]\n",
      "Training Epoch 1994: 100%|██████████| 378/378 [00:03<00:00, 103.87it/s]\n",
      "Training Epoch 1995: 100%|██████████| 378/378 [00:03<00:00, 99.90it/s] \n",
      "Training Epoch 1996: 100%|██████████| 378/378 [00:03<00:00, 102.44it/s]\n",
      "Training Epoch 1997: 100%|██████████| 378/378 [00:03<00:00, 101.26it/s]\n",
      "Training Epoch 1998: 100%|██████████| 378/378 [00:03<00:00, 102.43it/s]\n",
      "Training Epoch 1999: 100%|██████████| 378/378 [00:03<00:00, 103.24it/s]\n",
      "Training Epoch 2000: 100%|██████████| 378/378 [00:03<00:00, 101.99it/s]\n"
     ]
    },
    {
     "name": "stdout",
     "output_type": "stream",
     "text": [
      "Test MSE: 1.6766, Test MAE: 0.9366\n"
     ]
    }
   ],
   "source": [
    "import torch\n",
    "import torch.nn as nn\n",
    "import torch.optim as optim\n",
    "from tqdm import tqdm\n",
    "import pandas as pd\n",
    "from sklearn.metrics import r2_score, median_absolute_error, explained_variance_score\n",
    "from scipy.stats import pearsonr\n",
    "\n",
    "\n",
    "train_history = pd.DataFrame(columns=[  'epoch',\n",
    "    'Train Loss', 'Train MSE', 'Train MAE', 'Train RMSE', 'Train R2', 'Train Pearson', 'Train Median_AE', 'Train Explained_VAR'\n",
    "    'Val Loss', 'Val MSE', 'Val MAE', 'Val RMSE', 'Val R2', 'Val Pearson', 'Val Median_AE', 'Val Explained_VAR'])\n",
    "# Verify feature dimensions\n",
    "for batch in train_loader:\n",
    "    mol_input_dim = batch['metabolite_features'].shape[1]  # Dynamically determine mol input dimension\n",
    "    protein_input_dim = batch['protein_features'].shape[1]  # Dynamically determine protein input dimension\n",
    "    break\n",
    "\n",
    "# Initialize model, optimizer, and loss function\n",
    "model = TransformerRegressor(mol_input_dim=mol_input_dim, protein_input_dim=protein_input_dim)\n",
    "model = model.to(device)\n",
    "optimizer = optim.Adam(model.parameters(), lr=0.0001)\n",
    "criterion = nn.MSELoss()\n",
    "\n",
    "# Training and Validation Loop\n",
    "for epoch in range(2000):\n",
    "    model.train()\n",
    "    total_loss = 0.0\n",
    "    val_total_loss = 0.0\n",
    "    train_predictions, train_labels = [], []\n",
    "\n",
    "    for batch in tqdm(train_loader, desc=f\"Training Epoch {epoch + 1}\"):\n",
    "        mol_features = batch['metabolite_features'].to(device)\n",
    "        protein_features = batch['protein_features'].to(device)\n",
    "        labels = batch['label'].to(device)\n",
    "\n",
    "        optimizer.zero_grad()\n",
    "        outputs = model(mol_features, protein_features)\n",
    "        loss = criterion(outputs, labels)\n",
    "        loss.backward()\n",
    "        optimizer.step()\n",
    "        total_loss += loss.item()\n",
    "\n",
    "        # Store predictions and labels for metrics\n",
    "        train_predictions.extend(outputs.detach().cpu().numpy())\n",
    "        train_labels.extend(labels.cpu().numpy())\n",
    "\n",
    "    # Calculate training metrics\n",
    "    train_mse = ((torch.tensor(train_predictions) - torch.tensor(train_labels))**2).mean().item()\n",
    "    train_mae = torch.abs(torch.tensor(train_predictions) - torch.tensor(train_labels)).mean().item()\n",
    "    train_rmse = torch.sqrt((torch.tensor(train_predictions) - torch.tensor(train_labels)) ** 2).mean().item()\n",
    "    train_r2 = r2_score(np.array(train_labels), np.array(train_predictions))\n",
    "    train_pearson_corr, _ = pearsonr(np.array(train_labels), np.array(train_predictions))\n",
    "    train_median_ae = median_absolute_error(np.array(train_labels), np.array(train_predictions))\n",
    "    train_explained_var = explained_variance_score(np.array(train_labels), np.array(train_predictions))\n",
    "\n",
    "\n",
    "\n",
    "    if epoch % 10 == 0:\n",
    "        print(f\"Epoch {epoch} - Train Loss: {total_loss / len(train_loader):.4f}, Train MSE: {train_mse:.4f}, Train MAE: {train_mae:.4f}\")\n",
    "\n",
    "    # Validation\n",
    "    model.eval()\n",
    "    val_predictions, val_labels = [], []\n",
    "    with torch.no_grad():\n",
    "        for batch in val_loader:\n",
    "            mol_features = batch['metabolite_features'].to(device)\n",
    "            protein_features = batch['protein_features'].to(device)\n",
    "            labels = batch['label'].to(device)\n",
    "\n",
    "            outputs = model(mol_features, protein_features)\n",
    "            val_predictions.extend(outputs.cpu().numpy())\n",
    "            val_labels.extend(labels.cpu().numpy())\n",
    "            val_loss = criterion(outputs, labels)\n",
    "            val_total_loss += val_loss.item()\n",
    "\n",
    "    val_mse = ((torch.tensor(val_predictions) - torch.tensor(val_labels))**2).mean().item()\n",
    "    val_mae = torch.abs(torch.tensor(val_predictions) - torch.tensor(val_labels)).mean().item()\n",
    "    val_rmse = torch.sqrt((torch.tensor(val_predictions) - torch.tensor(val_labels)) ** 2).mean().item()\n",
    "    val_r2 = r2_score(np.array(val_labels), np.array(val_predictions))\n",
    "    val_pearson_corr, _ = pearsonr(np.array(val_labels), np.array(val_predictions))\n",
    "    val_median_ae = median_absolute_error(np.array(val_labels), np.array(val_predictions))\n",
    "    val_explained_var = explained_variance_score(np.array(val_labels), np.array(val_predictions))\n",
    "\n",
    "    if epoch % 10 == 0:\n",
    "        print(f\"Epoch {epoch} - Validation Loss: {val_total_loss / len(val_loader):.4f}, Validation MSE: {val_mse:.4f}, Validation MAE: {val_mae:.4f}\")\n",
    "\n",
    "    # Save metrics to DataFrame\n",
    "    new_row = {'epoch': epoch + 1, 'Train Loss': total_loss / len(train_loader), 'Train MSE': train_mse, 'Train MAE': train_mae, 'Train RMSE': train_rmse, 'Train R2': train_r2, 'Train Pearson': train_pearson_corr, 'Train Median_AE': train_median_ae, 'Train Explained_VAR': train_explained_var, \n",
    "               'Val Loss': val_total_loss / len(val_loader), 'Val MSE': val_mse, 'Val MAE': val_mae, 'Val RMSE': val_rmse, 'Val R2': val_r2, 'Val Pearson': val_pearson_corr, 'Val Median_AE': val_median_ae, 'Val Explained_VAR': val_explained_var}\n",
    "    train_history = pd.concat([train_history, pd.DataFrame([new_row])], ignore_index=True)\n",
    "\n"
   ]
  },
  {
   "cell_type": "code",
   "execution_count": 19,
   "metadata": {},
   "outputs": [],
   "source": [
    "for batch in train_loader:\n",
    "    mol_input_dim = batch['metabolite_features'].shape[1]  # Dynamically determine mol input dimension\n",
    "    protein_input_dim = batch['protein_features'].shape[1]  # Dynamically determine protein input dimension\n",
    "    break\n",
    "\n",
    "model = TransformerRegressor(mol_input_dim=mol_input_dim, protein_input_dim=protein_input_dim)\n",
    "model.load_state_dict(torch.load('/Users/pinchichen/2025S lab/AI drug project/code/trained_model/cold_protein/Transformer model_cold_protein.pt'))\n",
    "model = model.to(device)"
   ]
  },
  {
   "cell_type": "code",
   "execution_count": 20,
   "metadata": {},
   "outputs": [
    {
     "name": "stdout",
     "output_type": "stream",
     "text": [
      "Test MSE: 1.6766, Test MAE: 0.9366\n"
     ]
    }
   ],
   "source": [
    "from sklearn.metrics import mean_squared_error,mean_absolute_error,r2_score, median_absolute_error, explained_variance_score\n",
    "from scipy.stats import pearsonr\n",
    "# Test Metrics\n",
    "model.eval()\n",
    "test_predictions, test_labels = [], []\n",
    "with torch.no_grad():\n",
    "    for batch in test_loader:\n",
    "        mol_features = batch['metabolite_features'].to(device)\n",
    "        protein_features = batch['protein_features'].to(device)\n",
    "        labels = batch['label'].to(device)\n",
    "\n",
    "        outputs = model(mol_features, protein_features)\n",
    "        test_predictions.extend(outputs.cpu().numpy())\n",
    "        test_labels.extend(labels.cpu().numpy())\n",
    "\n",
    "test_mse = ((torch.tensor(test_predictions) - torch.tensor(test_labels))**2).mean().item()\n",
    "test_mae = torch.abs(torch.tensor(test_predictions) - torch.tensor(test_labels)).mean().item()\n",
    "test_rmse = torch.sqrt((torch.tensor(test_predictions) - torch.tensor(test_labels)) ** 2).mean().item()\n",
    "test_r2 = r2_score(np.array(test_labels), np.array(test_predictions))\n",
    "test_pearson_corr, _ = pearsonr(np.array(test_labels), np.array(test_predictions))\n",
    "test_median_ae = median_absolute_error(np.array(test_labels), np.array(test_predictions))\n",
    "test_explained_var = explained_variance_score(np.array(test_labels), np.array(test_predictions))\n",
    "\n",
    "print(f\"Test MSE: {test_mse:.4f}, Test MAE: {test_mae:.4f}\")"
   ]
  },
  {
   "cell_type": "code",
   "execution_count": 21,
   "metadata": {},
   "outputs": [],
   "source": [
    "\n",
    "def evaluate_model(predictions, labels):\n",
    "    mse = mean_squared_error(labels, predictions)\n",
    "    rmse = np.sqrt(mse)\n",
    "    mae = mean_absolute_error(labels, predictions)\n",
    "    r2 = r2_score(labels, predictions)\n",
    "    pearson_corr, _ = pearsonr(labels, predictions)\n",
    "    medae = median_absolute_error(labels, predictions)\n",
    "    evs = explained_variance_score(labels, predictions)\n",
    "\n",
    "    return mse, rmse, mae, r2, pearson_corr, medae, evs"
   ]
  },
  {
   "cell_type": "code",
   "execution_count": 22,
   "metadata": {},
   "outputs": [],
   "source": [
    "model.eval()\n",
    "train_pred, train_labels = [], []\n",
    "with torch.no_grad():\n",
    "    for batch in train_loader:\n",
    "        mol_features = batch['metabolite_features'].to(device)\n",
    "        protein_features = batch['protein_features'].to(device)\n",
    "        labels = batch['label'].to(device)\n",
    "\n",
    "        outputs = model(mol_features, protein_features)\n",
    "        train_pred.extend(outputs.cpu().numpy())\n",
    "        train_labels.extend(labels.cpu().numpy())\n",
    "\n",
    "train_mse, train_rmse, train_mae, train_r2, train_pearson_corr, train_median_ae, train_explained_var = evaluate_model(train_pred, train_labels)"
   ]
  },
  {
   "cell_type": "code",
   "execution_count": 23,
   "metadata": {},
   "outputs": [],
   "source": [
    "model.eval()\n",
    "val_pred, val_labels = [], []\n",
    "with torch.no_grad():\n",
    "    for batch in val_loader:\n",
    "        mol_features = batch['metabolite_features'].to(device)\n",
    "        protein_features = batch['protein_features'].to(device)\n",
    "        labels = batch['label'].to(device)\n",
    "\n",
    "        outputs = model(mol_features, protein_features)\n",
    "        val_pred.extend(outputs.cpu().numpy())\n",
    "        val_labels.extend(labels.cpu().numpy())\n",
    "\n",
    "val_mse, val_rmse, val_mae, val_r2, val_pearson_corr, val_median_ae, val_explained_var = evaluate_model(val_pred, val_labels)\n"
   ]
  },
  {
   "cell_type": "code",
   "execution_count": 24,
   "metadata": {},
   "outputs": [],
   "source": [
    "# append the performance to the csv file\n",
    "df = {\n",
    "    'Model':['Transformer','Transformer','Transformer'],\n",
    "    'Dataset':['Train','Validation','Test'],\n",
    "    'MSE':[train_mse,val_mse,test_mse],\n",
    "    'RMSE':[train_rmse,val_rmse,test_rmse],\n",
    "    'MAE':[train_mae,val_mae,test_mae],\n",
    "    'R2':[train_r2,val_r2,test_r2],\n",
    "    'Pearson':[train_pearson_corr,val_pearson_corr,test_pearson_corr],\n",
    "    'Median_AE':[train_median_ae,val_median_ae,test_median_ae],\n",
    "    'Explained_VAR':[train_explained_var,val_explained_var,test_explained_var],\n",
    "    'Dataspliting Mode':['cold protein','cold protein','cold protein']\n",
    "}\n",
    "df = pd.DataFrame(df)\n",
    "\n",
    "df.to_csv('/Users/pinchichen/2025S lab/AI drug project/code/model performance metrics.csv', mode='a', header=False)"
   ]
  },
  {
   "cell_type": "code",
   "execution_count": 19,
   "metadata": {},
   "outputs": [],
   "source": [
    "# Save the model and training history\n",
    "save_dir = '/Users/pinchichen/2025S lab/AI drug project/code/trained_model/cold_protein'\n",
    "# save model weights and optimizer state\n",
    "torch.save(model.state_dict(), os.path.join(save_dir, 'Transformer model_cold_protein.pt'))\n",
    "torch.save(optimizer.state_dict(), os.path.join(save_dir, 'Transformer optimizer_cold_protein.pt'))"
   ]
  },
  {
   "cell_type": "code",
   "execution_count": null,
   "metadata": {},
   "outputs": [
    {
     "name": "stderr",
     "output_type": "stream",
     "text": [
      "Training Epoch 1: 100%|██████████| 370/370 [00:03<00:00, 95.01it/s] \n",
      "/var/folders/yz/c1z6m9_d5d3f80sywjc3rqsc0000gn/T/ipykernel_75849/3620067097.py:83: FutureWarning: The behavior of DataFrame concatenation with empty or all-NA entries is deprecated. In a future version, this will no longer exclude empty or all-NA columns when determining the result dtypes. To retain the old behavior, exclude the relevant entries before the concat operation.\n",
      "  train_history_2 = pd.concat([train_history_2, pd.DataFrame([new_row])], ignore_index=True)\n"
     ]
    },
    {
     "name": "stdout",
     "output_type": "stream",
     "text": [
      "Epoch 0 - Train Loss: 2.1648, Train MSE: 2.1672, Train MAE: 1.1498\n",
      "Epoch 0 - Validation Loss: 2.0357, Validation MSE: 2.0382, Validation MAE: 1.1400\n"
     ]
    },
    {
     "name": "stderr",
     "output_type": "stream",
     "text": [
      "Training Epoch 2: 100%|██████████| 370/370 [00:03<00:00, 95.97it/s] \n",
      "Training Epoch 3: 100%|██████████| 370/370 [00:03<00:00, 95.17it/s] \n",
      "Training Epoch 4: 100%|██████████| 370/370 [00:03<00:00, 97.22it/s] \n",
      "Training Epoch 5: 100%|██████████| 370/370 [00:03<00:00, 99.35it/s] \n",
      "Training Epoch 6: 100%|██████████| 370/370 [00:03<00:00, 101.98it/s]\n",
      "Training Epoch 7: 100%|██████████| 370/370 [00:03<00:00, 100.35it/s]\n",
      "Training Epoch 8: 100%|██████████| 370/370 [00:03<00:00, 99.91it/s] \n",
      "Training Epoch 9: 100%|██████████| 370/370 [00:03<00:00, 99.52it/s] \n",
      "Training Epoch 10: 100%|██████████| 370/370 [00:03<00:00, 100.80it/s]\n",
      "Training Epoch 11: 100%|██████████| 370/370 [00:03<00:00, 97.91it/s] \n"
     ]
    },
    {
     "name": "stdout",
     "output_type": "stream",
     "text": [
      "Epoch 10 - Train Loss: 1.5859, Train MSE: 1.5829, Train MAE: 0.9665\n",
      "Epoch 10 - Validation Loss: 1.9585, Validation MSE: 1.9619, Validation MAE: 1.0997\n"
     ]
    },
    {
     "name": "stderr",
     "output_type": "stream",
     "text": [
      "Training Epoch 12: 100%|██████████| 370/370 [00:03<00:00, 95.89it/s]\n",
      "Training Epoch 13: 100%|██████████| 370/370 [00:03<00:00, 93.75it/s]\n",
      "Training Epoch 14: 100%|██████████| 370/370 [00:03<00:00, 97.29it/s] \n",
      "Training Epoch 15: 100%|██████████| 370/370 [00:03<00:00, 95.60it/s] \n",
      "Training Epoch 16: 100%|██████████| 370/370 [00:03<00:00, 98.25it/s] \n",
      "Training Epoch 17: 100%|██████████| 370/370 [00:03<00:00, 101.83it/s]\n",
      "Training Epoch 18: 100%|██████████| 370/370 [00:03<00:00, 98.56it/s] \n",
      "Training Epoch 19: 100%|██████████| 370/370 [00:03<00:00, 99.55it/s] \n",
      "Training Epoch 20: 100%|██████████| 370/370 [00:03<00:00, 101.65it/s]\n",
      "Training Epoch 21: 100%|██████████| 370/370 [00:03<00:00, 98.15it/s] \n"
     ]
    },
    {
     "name": "stdout",
     "output_type": "stream",
     "text": [
      "Epoch 20 - Train Loss: 1.4282, Train MSE: 1.4310, Train MAE: 0.9168\n",
      "Epoch 20 - Validation Loss: 2.0258, Validation MSE: 2.0292, Validation MAE: 1.1201\n"
     ]
    },
    {
     "name": "stderr",
     "output_type": "stream",
     "text": [
      "Training Epoch 22: 100%|██████████| 370/370 [00:03<00:00, 98.69it/s] \n",
      "Training Epoch 23: 100%|██████████| 370/370 [00:03<00:00, 99.56it/s] \n",
      "Training Epoch 24: 100%|██████████| 370/370 [00:03<00:00, 99.56it/s] \n",
      "Training Epoch 25: 100%|██████████| 370/370 [00:03<00:00, 98.58it/s] \n",
      "Training Epoch 26: 100%|██████████| 370/370 [00:03<00:00, 100.71it/s]\n",
      "Training Epoch 27: 100%|██████████| 370/370 [00:03<00:00, 97.53it/s] \n",
      "Training Epoch 28: 100%|██████████| 370/370 [00:03<00:00, 99.12it/s] \n",
      "Training Epoch 29: 100%|██████████| 370/370 [00:03<00:00, 94.96it/s]\n",
      "Training Epoch 30: 100%|██████████| 370/370 [00:03<00:00, 92.89it/s] \n",
      "Training Epoch 31: 100%|██████████| 370/370 [00:04<00:00, 86.42it/s]\n"
     ]
    },
    {
     "name": "stdout",
     "output_type": "stream",
     "text": [
      "Epoch 30 - Train Loss: 1.2641, Train MSE: 1.2628, Train MAE: 0.8559\n",
      "Epoch 30 - Validation Loss: 1.9878, Validation MSE: 1.9902, Validation MAE: 1.1063\n"
     ]
    },
    {
     "name": "stderr",
     "output_type": "stream",
     "text": [
      "Training Epoch 32: 100%|██████████| 370/370 [00:04<00:00, 86.88it/s]\n",
      "Training Epoch 33: 100%|██████████| 370/370 [00:04<00:00, 83.46it/s]\n",
      "Training Epoch 34: 100%|██████████| 370/370 [00:05<00:00, 65.11it/s]\n",
      "Training Epoch 35: 100%|██████████| 370/370 [00:04<00:00, 78.43it/s]\n",
      "Training Epoch 36: 100%|██████████| 370/370 [00:04<00:00, 78.71it/s]\n",
      "Training Epoch 37: 100%|██████████| 370/370 [00:04<00:00, 77.13it/s]\n",
      "Training Epoch 38: 100%|██████████| 370/370 [00:04<00:00, 78.82it/s]\n",
      "Training Epoch 39: 100%|██████████| 370/370 [00:04<00:00, 79.98it/s]\n",
      "Training Epoch 40: 100%|██████████| 370/370 [00:04<00:00, 84.37it/s]\n",
      "Training Epoch 41: 100%|██████████| 370/370 [00:04<00:00, 85.19it/s]\n"
     ]
    },
    {
     "name": "stdout",
     "output_type": "stream",
     "text": [
      "Epoch 40 - Train Loss: 1.1060, Train MSE: 1.1056, Train MAE: 0.7947\n",
      "Epoch 40 - Validation Loss: 1.8884, Validation MSE: 1.8894, Validation MAE: 1.0694\n"
     ]
    },
    {
     "name": "stderr",
     "output_type": "stream",
     "text": [
      "Training Epoch 42: 100%|██████████| 370/370 [00:04<00:00, 82.40it/s]\n",
      "Training Epoch 43: 100%|██████████| 370/370 [00:04<00:00, 85.24it/s]\n",
      "Training Epoch 44: 100%|██████████| 370/370 [00:04<00:00, 82.76it/s]\n",
      "Training Epoch 45: 100%|██████████| 370/370 [00:04<00:00, 82.28it/s]\n",
      "Training Epoch 46: 100%|██████████| 370/370 [00:05<00:00, 68.89it/s]\n",
      "Training Epoch 47: 100%|██████████| 370/370 [00:05<00:00, 70.41it/s]\n",
      "Training Epoch 48: 100%|██████████| 370/370 [00:05<00:00, 65.57it/s]\n",
      "Training Epoch 49: 100%|██████████| 370/370 [00:04<00:00, 75.22it/s]\n",
      "Training Epoch 50: 100%|██████████| 370/370 [00:05<00:00, 73.88it/s]\n",
      "Training Epoch 51: 100%|██████████| 370/370 [00:05<00:00, 73.12it/s]\n"
     ]
    },
    {
     "name": "stdout",
     "output_type": "stream",
     "text": [
      "Epoch 50 - Train Loss: 1.0106, Train MSE: 1.0117, Train MAE: 0.7583\n",
      "Epoch 50 - Validation Loss: 1.8794, Validation MSE: 1.8808, Validation MAE: 1.0701\n"
     ]
    },
    {
     "name": "stderr",
     "output_type": "stream",
     "text": [
      "Training Epoch 52: 100%|██████████| 370/370 [00:04<00:00, 76.19it/s]\n",
      "Training Epoch 53: 100%|██████████| 370/370 [00:04<00:00, 74.97it/s]\n",
      "Training Epoch 54: 100%|██████████| 370/370 [00:04<00:00, 75.36it/s]\n",
      "Training Epoch 55: 100%|██████████| 370/370 [00:04<00:00, 75.12it/s]\n",
      "Training Epoch 56: 100%|██████████| 370/370 [00:04<00:00, 74.49it/s]\n",
      "Training Epoch 57: 100%|██████████| 370/370 [00:05<00:00, 66.97it/s]\n",
      "Training Epoch 58: 100%|██████████| 370/370 [00:05<00:00, 67.62it/s]\n",
      "Training Epoch 59: 100%|██████████| 370/370 [00:06<00:00, 61.58it/s]\n",
      "Training Epoch 60: 100%|██████████| 370/370 [00:06<00:00, 60.30it/s]\n",
      "Training Epoch 61: 100%|██████████| 370/370 [00:05<00:00, 65.58it/s]\n"
     ]
    },
    {
     "name": "stdout",
     "output_type": "stream",
     "text": [
      "Epoch 60 - Train Loss: 0.9186, Train MSE: 0.9156, Train MAE: 0.7165\n",
      "Epoch 60 - Validation Loss: 1.8348, Validation MSE: 1.8368, Validation MAE: 1.0516\n"
     ]
    },
    {
     "name": "stderr",
     "output_type": "stream",
     "text": [
      "Training Epoch 62: 100%|██████████| 370/370 [00:06<00:00, 58.41it/s]\n",
      "Training Epoch 63: 100%|██████████| 370/370 [00:06<00:00, 57.07it/s]\n",
      "Training Epoch 64: 100%|██████████| 370/370 [00:05<00:00, 63.25it/s]\n",
      "Training Epoch 65: 100%|██████████| 370/370 [00:05<00:00, 64.58it/s]\n",
      "Training Epoch 66: 100%|██████████| 370/370 [00:05<00:00, 62.84it/s]\n",
      "Training Epoch 67: 100%|██████████| 370/370 [00:05<00:00, 63.98it/s]\n",
      "Training Epoch 68: 100%|██████████| 370/370 [00:05<00:00, 65.21it/s]\n",
      "Training Epoch 69: 100%|██████████| 370/370 [00:06<00:00, 58.91it/s]\n",
      "Training Epoch 70: 100%|██████████| 370/370 [00:07<00:00, 49.94it/s]\n",
      "Training Epoch 71: 100%|██████████| 370/370 [00:06<00:00, 59.58it/s]\n"
     ]
    },
    {
     "name": "stdout",
     "output_type": "stream",
     "text": [
      "Epoch 70 - Train Loss: 0.8362, Train MSE: 0.8367, Train MAE: 0.6861\n",
      "Epoch 70 - Validation Loss: 1.8552, Validation MSE: 1.8557, Validation MAE: 1.0558\n"
     ]
    },
    {
     "name": "stderr",
     "output_type": "stream",
     "text": [
      "Training Epoch 72: 100%|██████████| 370/370 [00:05<00:00, 61.89it/s]\n",
      "Training Epoch 73: 100%|██████████| 370/370 [00:06<00:00, 60.32it/s]\n",
      "Training Epoch 74: 100%|██████████| 370/370 [00:05<00:00, 65.96it/s]\n",
      "Training Epoch 75: 100%|██████████| 370/370 [00:06<00:00, 59.95it/s]\n",
      "Training Epoch 76: 100%|██████████| 370/370 [00:05<00:00, 66.44it/s]\n",
      "Training Epoch 77: 100%|██████████| 370/370 [00:05<00:00, 69.14it/s]\n",
      "Training Epoch 78: 100%|██████████| 370/370 [00:05<00:00, 66.87it/s]\n",
      "Training Epoch 79: 100%|██████████| 370/370 [00:05<00:00, 69.45it/s]\n",
      "Training Epoch 80: 100%|██████████| 370/370 [00:05<00:00, 66.70it/s]\n",
      "Training Epoch 81: 100%|██████████| 370/370 [00:05<00:00, 67.61it/s]\n"
     ]
    },
    {
     "name": "stdout",
     "output_type": "stream",
     "text": [
      "Epoch 80 - Train Loss: 0.7863, Train MSE: 0.7846, Train MAE: 0.6552\n",
      "Epoch 80 - Validation Loss: 1.9946, Validation MSE: 1.9964, Validation MAE: 1.0763\n"
     ]
    },
    {
     "name": "stderr",
     "output_type": "stream",
     "text": [
      "Training Epoch 82: 100%|██████████| 370/370 [00:05<00:00, 64.02it/s]\n",
      "Training Epoch 83: 100%|██████████| 370/370 [00:05<00:00, 66.92it/s]\n",
      "Training Epoch 84: 100%|██████████| 370/370 [00:05<00:00, 65.51it/s]\n",
      "Training Epoch 85: 100%|██████████| 370/370 [00:05<00:00, 63.17it/s]\n",
      "Training Epoch 86: 100%|██████████| 370/370 [00:06<00:00, 60.83it/s]\n",
      "Training Epoch 87: 100%|██████████| 370/370 [00:05<00:00, 66.51it/s]\n",
      "Training Epoch 88: 100%|██████████| 370/370 [00:05<00:00, 65.15it/s]\n",
      "Training Epoch 89: 100%|██████████| 370/370 [00:05<00:00, 66.82it/s]\n",
      "Training Epoch 90: 100%|██████████| 370/370 [00:05<00:00, 68.24it/s]\n",
      "Training Epoch 91: 100%|██████████| 370/370 [00:05<00:00, 69.10it/s]\n"
     ]
    },
    {
     "name": "stdout",
     "output_type": "stream",
     "text": [
      "Epoch 90 - Train Loss: 0.7358, Train MSE: 0.7362, Train MAE: 0.6304\n",
      "Epoch 90 - Validation Loss: 1.8942, Validation MSE: 1.8943, Validation MAE: 1.0426\n"
     ]
    },
    {
     "name": "stderr",
     "output_type": "stream",
     "text": [
      "Training Epoch 92: 100%|██████████| 370/370 [00:05<00:00, 68.07it/s]\n",
      "Training Epoch 93: 100%|██████████| 370/370 [00:05<00:00, 68.70it/s]\n",
      "Training Epoch 94: 100%|██████████| 370/370 [00:05<00:00, 62.68it/s]\n",
      "Training Epoch 95: 100%|██████████| 370/370 [00:05<00:00, 68.63it/s]\n",
      "Training Epoch 96: 100%|██████████| 370/370 [00:05<00:00, 64.51it/s]\n",
      "Training Epoch 97: 100%|██████████| 370/370 [00:05<00:00, 62.62it/s]\n",
      "Training Epoch 98: 100%|██████████| 370/370 [00:05<00:00, 66.15it/s]\n",
      "Training Epoch 99: 100%|██████████| 370/370 [00:05<00:00, 67.47it/s]\n",
      "Training Epoch 100: 100%|██████████| 370/370 [00:05<00:00, 64.99it/s]\n",
      "Training Epoch 101: 100%|██████████| 370/370 [00:05<00:00, 63.80it/s]\n"
     ]
    },
    {
     "name": "stdout",
     "output_type": "stream",
     "text": [
      "Epoch 100 - Train Loss: 0.6970, Train MSE: 0.6958, Train MAE: 0.6102\n",
      "Epoch 100 - Validation Loss: 1.8143, Validation MSE: 1.8142, Validation MAE: 1.0298\n"
     ]
    },
    {
     "name": "stderr",
     "output_type": "stream",
     "text": [
      "Training Epoch 102: 100%|██████████| 370/370 [00:05<00:00, 62.91it/s]\n",
      "Training Epoch 103: 100%|██████████| 370/370 [00:05<00:00, 61.75it/s]\n",
      "Training Epoch 104: 100%|██████████| 370/370 [00:05<00:00, 61.76it/s]\n",
      "Training Epoch 105: 100%|██████████| 370/370 [00:05<00:00, 63.00it/s]\n",
      "Training Epoch 106: 100%|██████████| 370/370 [00:05<00:00, 65.06it/s]\n",
      "Training Epoch 107: 100%|██████████| 370/370 [00:05<00:00, 65.67it/s]\n",
      "Training Epoch 108: 100%|██████████| 370/370 [00:05<00:00, 66.15it/s]\n",
      "Training Epoch 109: 100%|██████████| 370/370 [00:05<00:00, 63.98it/s]\n",
      "Training Epoch 110: 100%|██████████| 370/370 [00:05<00:00, 64.75it/s]\n",
      "Training Epoch 111: 100%|██████████| 370/370 [00:05<00:00, 67.53it/s]\n"
     ]
    },
    {
     "name": "stdout",
     "output_type": "stream",
     "text": [
      "Epoch 110 - Train Loss: 0.6686, Train MSE: 0.6672, Train MAE: 0.5948\n",
      "Epoch 110 - Validation Loss: 1.8412, Validation MSE: 1.8418, Validation MAE: 1.0241\n"
     ]
    },
    {
     "name": "stderr",
     "output_type": "stream",
     "text": [
      "Training Epoch 112: 100%|██████████| 370/370 [00:06<00:00, 61.58it/s]\n",
      "Training Epoch 113: 100%|██████████| 370/370 [00:05<00:00, 67.28it/s]\n",
      "Training Epoch 114: 100%|██████████| 370/370 [00:05<00:00, 64.61it/s]\n",
      "Training Epoch 115: 100%|██████████| 370/370 [00:05<00:00, 66.09it/s]\n",
      "Training Epoch 116: 100%|██████████| 370/370 [00:06<00:00, 60.02it/s]\n",
      "Training Epoch 117: 100%|██████████| 370/370 [00:06<00:00, 60.82it/s]\n",
      "Training Epoch 118: 100%|██████████| 370/370 [00:05<00:00, 63.69it/s]\n",
      "Training Epoch 119: 100%|██████████| 370/370 [00:05<00:00, 61.82it/s]\n",
      "Training Epoch 120: 100%|██████████| 370/370 [00:05<00:00, 65.96it/s]\n",
      "Training Epoch 121: 100%|██████████| 370/370 [00:05<00:00, 66.48it/s]\n"
     ]
    },
    {
     "name": "stdout",
     "output_type": "stream",
     "text": [
      "Epoch 120 - Train Loss: 0.6387, Train MSE: 0.6394, Train MAE: 0.5772\n",
      "Epoch 120 - Validation Loss: 1.8321, Validation MSE: 1.8330, Validation MAE: 1.0433\n"
     ]
    },
    {
     "name": "stderr",
     "output_type": "stream",
     "text": [
      "Training Epoch 122: 100%|██████████| 370/370 [00:05<00:00, 67.36it/s]\n",
      "Training Epoch 123: 100%|██████████| 370/370 [00:05<00:00, 67.36it/s]\n",
      "Training Epoch 124: 100%|██████████| 370/370 [00:05<00:00, 66.36it/s]\n",
      "Training Epoch 125: 100%|██████████| 370/370 [00:05<00:00, 64.87it/s]\n",
      "Training Epoch 126: 100%|██████████| 370/370 [00:05<00:00, 65.46it/s]\n",
      "Training Epoch 127: 100%|██████████| 370/370 [00:05<00:00, 65.60it/s]\n",
      "Training Epoch 128: 100%|██████████| 370/370 [00:05<00:00, 65.82it/s]\n",
      "Training Epoch 129: 100%|██████████| 370/370 [00:05<00:00, 66.09it/s]\n",
      "Training Epoch 130: 100%|██████████| 370/370 [00:05<00:00, 64.85it/s]\n",
      "Training Epoch 131: 100%|██████████| 370/370 [00:05<00:00, 67.82it/s]\n"
     ]
    },
    {
     "name": "stdout",
     "output_type": "stream",
     "text": [
      "Epoch 130 - Train Loss: 0.6225, Train MSE: 0.6236, Train MAE: 0.5676\n",
      "Epoch 130 - Validation Loss: 1.7411, Validation MSE: 1.7416, Validation MAE: 1.0065\n"
     ]
    },
    {
     "name": "stderr",
     "output_type": "stream",
     "text": [
      "Training Epoch 132: 100%|██████████| 370/370 [00:05<00:00, 62.45it/s]\n",
      "Training Epoch 133: 100%|██████████| 370/370 [00:05<00:00, 67.32it/s]\n",
      "Training Epoch 134: 100%|██████████| 370/370 [00:05<00:00, 67.85it/s]\n",
      "Training Epoch 135: 100%|██████████| 370/370 [00:05<00:00, 64.55it/s]\n",
      "Training Epoch 136: 100%|██████████| 370/370 [00:05<00:00, 63.51it/s]\n",
      "Training Epoch 137: 100%|██████████| 370/370 [00:05<00:00, 63.82it/s]\n",
      "Training Epoch 138: 100%|██████████| 370/370 [00:05<00:00, 66.94it/s]\n",
      "Training Epoch 139: 100%|██████████| 370/370 [00:05<00:00, 62.82it/s]\n",
      "Training Epoch 140: 100%|██████████| 370/370 [00:05<00:00, 66.58it/s]\n",
      "Training Epoch 141: 100%|██████████| 370/370 [00:05<00:00, 67.42it/s]\n"
     ]
    },
    {
     "name": "stdout",
     "output_type": "stream",
     "text": [
      "Epoch 140 - Train Loss: 0.5997, Train MSE: 0.6005, Train MAE: 0.5517\n",
      "Epoch 140 - Validation Loss: 1.7885, Validation MSE: 1.7876, Validation MAE: 1.0162\n"
     ]
    },
    {
     "name": "stderr",
     "output_type": "stream",
     "text": [
      "Training Epoch 142: 100%|██████████| 370/370 [00:05<00:00, 67.26it/s]\n",
      "Training Epoch 143: 100%|██████████| 370/370 [00:05<00:00, 63.08it/s]\n",
      "Training Epoch 144: 100%|██████████| 370/370 [00:05<00:00, 67.67it/s]\n",
      "Training Epoch 145: 100%|██████████| 370/370 [00:05<00:00, 68.13it/s]\n",
      "Training Epoch 146: 100%|██████████| 370/370 [00:05<00:00, 62.36it/s]\n",
      "Training Epoch 147: 100%|██████████| 370/370 [00:05<00:00, 65.42it/s]\n",
      "Training Epoch 148: 100%|██████████| 370/370 [00:06<00:00, 60.99it/s]\n",
      "Training Epoch 149: 100%|██████████| 370/370 [00:05<00:00, 64.44it/s]\n",
      "Training Epoch 150: 100%|██████████| 370/370 [00:05<00:00, 64.29it/s]\n",
      "Training Epoch 151: 100%|██████████| 370/370 [00:05<00:00, 66.27it/s]\n"
     ]
    },
    {
     "name": "stdout",
     "output_type": "stream",
     "text": [
      "Epoch 150 - Train Loss: 0.5820, Train MSE: 0.5829, Train MAE: 0.5413\n",
      "Epoch 150 - Validation Loss: 1.7609, Validation MSE: 1.7613, Validation MAE: 1.0061\n"
     ]
    },
    {
     "name": "stderr",
     "output_type": "stream",
     "text": [
      "Training Epoch 152: 100%|██████████| 370/370 [00:05<00:00, 66.66it/s]\n",
      "Training Epoch 153: 100%|██████████| 370/370 [00:05<00:00, 66.57it/s]\n",
      "Training Epoch 154: 100%|██████████| 370/370 [00:05<00:00, 63.10it/s]\n",
      "Training Epoch 155: 100%|██████████| 370/370 [00:05<00:00, 64.09it/s]\n",
      "Training Epoch 156: 100%|██████████| 370/370 [00:05<00:00, 62.42it/s]\n",
      "Training Epoch 157: 100%|██████████| 370/370 [00:05<00:00, 64.88it/s]\n",
      "Training Epoch 158: 100%|██████████| 370/370 [00:05<00:00, 66.99it/s]\n",
      "Training Epoch 159: 100%|██████████| 370/370 [00:05<00:00, 64.55it/s]\n",
      "Training Epoch 160: 100%|██████████| 370/370 [00:05<00:00, 66.23it/s]\n",
      "Training Epoch 161: 100%|██████████| 370/370 [00:05<00:00, 67.40it/s]\n"
     ]
    },
    {
     "name": "stdout",
     "output_type": "stream",
     "text": [
      "Epoch 160 - Train Loss: 0.5731, Train MSE: 0.5735, Train MAE: 0.5326\n",
      "Epoch 160 - Validation Loss: 1.7050, Validation MSE: 1.7057, Validation MAE: 0.9955\n"
     ]
    },
    {
     "name": "stderr",
     "output_type": "stream",
     "text": [
      "Training Epoch 162: 100%|██████████| 370/370 [00:05<00:00, 62.42it/s]\n",
      "Training Epoch 163: 100%|██████████| 370/370 [00:05<00:00, 65.25it/s]\n",
      "Training Epoch 164: 100%|██████████| 370/370 [00:05<00:00, 62.85it/s]\n",
      "Training Epoch 165: 100%|██████████| 370/370 [00:05<00:00, 67.06it/s]\n",
      "Training Epoch 166: 100%|██████████| 370/370 [00:05<00:00, 69.73it/s]\n",
      "Training Epoch 167: 100%|██████████| 370/370 [00:05<00:00, 67.39it/s]\n",
      "Training Epoch 168: 100%|██████████| 370/370 [00:05<00:00, 67.38it/s]\n",
      "Training Epoch 169: 100%|██████████| 370/370 [00:05<00:00, 68.98it/s]\n",
      "Training Epoch 170: 100%|██████████| 370/370 [00:04<00:00, 88.85it/s]\n",
      "Training Epoch 171: 100%|██████████| 370/370 [00:04<00:00, 86.10it/s]\n"
     ]
    },
    {
     "name": "stdout",
     "output_type": "stream",
     "text": [
      "Epoch 170 - Train Loss: 0.5639, Train MSE: 0.5646, Train MAE: 0.5252\n",
      "Epoch 170 - Validation Loss: 1.7294, Validation MSE: 1.7302, Validation MAE: 0.9862\n"
     ]
    },
    {
     "name": "stderr",
     "output_type": "stream",
     "text": [
      "Training Epoch 172: 100%|██████████| 370/370 [00:04<00:00, 92.42it/s]\n",
      "Training Epoch 173: 100%|██████████| 370/370 [00:04<00:00, 88.10it/s]\n",
      "Training Epoch 174: 100%|██████████| 370/370 [00:04<00:00, 87.42it/s]\n",
      "Training Epoch 175: 100%|██████████| 370/370 [00:04<00:00, 79.82it/s]\n",
      "Training Epoch 176: 100%|██████████| 370/370 [00:04<00:00, 79.62it/s]\n",
      "Training Epoch 177: 100%|██████████| 370/370 [00:04<00:00, 85.06it/s]\n",
      "Training Epoch 178: 100%|██████████| 370/370 [00:04<00:00, 83.26it/s]\n",
      "Training Epoch 179: 100%|██████████| 370/370 [00:04<00:00, 85.79it/s]\n",
      "Training Epoch 180: 100%|██████████| 370/370 [00:04<00:00, 83.25it/s]\n",
      "Training Epoch 181: 100%|██████████| 370/370 [00:04<00:00, 84.43it/s]\n"
     ]
    },
    {
     "name": "stdout",
     "output_type": "stream",
     "text": [
      "Epoch 180 - Train Loss: 0.5430, Train MSE: 0.5441, Train MAE: 0.5155\n",
      "Epoch 180 - Validation Loss: 1.6687, Validation MSE: 1.6695, Validation MAE: 0.9754\n"
     ]
    },
    {
     "name": "stderr",
     "output_type": "stream",
     "text": [
      "Training Epoch 182: 100%|██████████| 370/370 [00:04<00:00, 85.15it/s]\n",
      "Training Epoch 183: 100%|██████████| 370/370 [00:04<00:00, 87.92it/s]\n",
      "Training Epoch 184: 100%|██████████| 370/370 [00:04<00:00, 84.58it/s]\n",
      "Training Epoch 185: 100%|██████████| 370/370 [00:04<00:00, 84.66it/s]\n",
      "Training Epoch 186: 100%|██████████| 370/370 [00:04<00:00, 76.08it/s]\n",
      "Training Epoch 187: 100%|██████████| 370/370 [00:04<00:00, 75.74it/s]\n",
      "Training Epoch 188: 100%|██████████| 370/370 [00:04<00:00, 74.97it/s]\n",
      "Training Epoch 189: 100%|██████████| 370/370 [00:04<00:00, 74.04it/s]\n",
      "Training Epoch 190: 100%|██████████| 370/370 [00:04<00:00, 79.93it/s]\n",
      "Training Epoch 191: 100%|██████████| 370/370 [00:05<00:00, 72.73it/s]\n"
     ]
    },
    {
     "name": "stdout",
     "output_type": "stream",
     "text": [
      "Epoch 190 - Train Loss: 0.5408, Train MSE: 0.5418, Train MAE: 0.5100\n",
      "Epoch 190 - Validation Loss: 1.7877, Validation MSE: 1.7890, Validation MAE: 1.0159\n"
     ]
    },
    {
     "name": "stderr",
     "output_type": "stream",
     "text": [
      "Training Epoch 192: 100%|██████████| 370/370 [00:04<00:00, 79.73it/s]\n",
      "Training Epoch 193: 100%|██████████| 370/370 [00:04<00:00, 77.18it/s]\n",
      "Training Epoch 194: 100%|██████████| 370/370 [00:04<00:00, 77.74it/s]\n",
      "Training Epoch 195: 100%|██████████| 370/370 [00:04<00:00, 77.05it/s]\n",
      "Training Epoch 196: 100%|██████████| 370/370 [00:04<00:00, 78.35it/s]\n",
      "Training Epoch 197: 100%|██████████| 370/370 [00:04<00:00, 77.99it/s]\n",
      "Training Epoch 198: 100%|██████████| 370/370 [00:04<00:00, 76.31it/s]\n",
      "Training Epoch 199: 100%|██████████| 370/370 [00:04<00:00, 78.04it/s]\n",
      "Training Epoch 200: 100%|██████████| 370/370 [00:04<00:00, 81.56it/s]\n",
      "Training Epoch 201: 100%|██████████| 370/370 [00:05<00:00, 71.72it/s]\n"
     ]
    },
    {
     "name": "stdout",
     "output_type": "stream",
     "text": [
      "Epoch 200 - Train Loss: 0.5331, Train MSE: 0.5342, Train MAE: 0.5028\n",
      "Epoch 200 - Validation Loss: 1.7182, Validation MSE: 1.7192, Validation MAE: 0.9958\n"
     ]
    },
    {
     "name": "stderr",
     "output_type": "stream",
     "text": [
      "Training Epoch 202: 100%|██████████| 370/370 [00:04<00:00, 78.13it/s]\n",
      "Training Epoch 203: 100%|██████████| 370/370 [00:04<00:00, 84.03it/s]\n",
      "Training Epoch 204: 100%|██████████| 370/370 [00:04<00:00, 81.22it/s]\n",
      "Training Epoch 205: 100%|██████████| 370/370 [00:04<00:00, 88.04it/s]\n",
      "Training Epoch 206: 100%|██████████| 370/370 [00:04<00:00, 89.66it/s]\n",
      "Training Epoch 207: 100%|██████████| 370/370 [00:04<00:00, 87.27it/s]\n",
      "Training Epoch 208: 100%|██████████| 370/370 [00:04<00:00, 84.32it/s]\n",
      "Training Epoch 209: 100%|██████████| 370/370 [00:04<00:00, 86.89it/s]\n",
      "Training Epoch 210: 100%|██████████| 370/370 [00:04<00:00, 80.04it/s]\n",
      "Training Epoch 211: 100%|██████████| 370/370 [00:04<00:00, 81.80it/s]\n"
     ]
    },
    {
     "name": "stdout",
     "output_type": "stream",
     "text": [
      "Epoch 210 - Train Loss: 0.5241, Train MSE: 0.5250, Train MAE: 0.4982\n",
      "Epoch 210 - Validation Loss: 1.7596, Validation MSE: 1.7618, Validation MAE: 1.0059\n"
     ]
    },
    {
     "name": "stderr",
     "output_type": "stream",
     "text": [
      "Training Epoch 212: 100%|██████████| 370/370 [00:04<00:00, 83.63it/s]\n",
      "Training Epoch 213: 100%|██████████| 370/370 [00:04<00:00, 85.04it/s]\n",
      "Training Epoch 214: 100%|██████████| 370/370 [00:04<00:00, 84.93it/s]\n",
      "Training Epoch 215: 100%|██████████| 370/370 [00:05<00:00, 63.40it/s]\n",
      "Training Epoch 216: 100%|██████████| 370/370 [00:06<00:00, 57.92it/s]\n",
      "Training Epoch 217: 100%|██████████| 370/370 [00:06<00:00, 58.69it/s]\n",
      "Training Epoch 218: 100%|██████████| 370/370 [00:05<00:00, 65.62it/s]\n",
      "Training Epoch 219: 100%|██████████| 370/370 [00:04<00:00, 89.60it/s]\n",
      "Training Epoch 220: 100%|██████████| 370/370 [00:04<00:00, 86.11it/s]\n",
      "Training Epoch 221: 100%|██████████| 370/370 [00:04<00:00, 87.34it/s]\n"
     ]
    },
    {
     "name": "stdout",
     "output_type": "stream",
     "text": [
      "Epoch 220 - Train Loss: 0.5213, Train MSE: 0.5218, Train MAE: 0.4938\n",
      "Epoch 220 - Validation Loss: 1.6627, Validation MSE: 1.6642, Validation MAE: 0.9771\n"
     ]
    },
    {
     "name": "stderr",
     "output_type": "stream",
     "text": [
      "Training Epoch 222: 100%|██████████| 370/370 [00:04<00:00, 87.11it/s]\n",
      "Training Epoch 223: 100%|██████████| 370/370 [00:04<00:00, 89.90it/s]\n",
      "Training Epoch 224: 100%|██████████| 370/370 [00:04<00:00, 90.05it/s]\n",
      "Training Epoch 225: 100%|██████████| 370/370 [00:04<00:00, 91.46it/s]\n",
      "Training Epoch 226: 100%|██████████| 370/370 [00:04<00:00, 88.52it/s]\n",
      "Training Epoch 227: 100%|██████████| 370/370 [00:04<00:00, 90.25it/s]\n",
      "Training Epoch 228: 100%|██████████| 370/370 [00:04<00:00, 87.66it/s]\n",
      "Training Epoch 229: 100%|██████████| 370/370 [00:04<00:00, 86.52it/s]\n",
      "Training Epoch 230: 100%|██████████| 370/370 [00:04<00:00, 90.05it/s]\n",
      "Training Epoch 231: 100%|██████████| 370/370 [00:04<00:00, 91.23it/s]\n"
     ]
    },
    {
     "name": "stdout",
     "output_type": "stream",
     "text": [
      "Epoch 230 - Train Loss: 0.5186, Train MSE: 0.5194, Train MAE: 0.4915\n",
      "Epoch 230 - Validation Loss: 1.7103, Validation MSE: 1.7107, Validation MAE: 0.9854\n"
     ]
    },
    {
     "name": "stderr",
     "output_type": "stream",
     "text": [
      "Training Epoch 232: 100%|██████████| 370/370 [00:04<00:00, 85.90it/s]\n",
      "Training Epoch 233: 100%|██████████| 370/370 [00:04<00:00, 91.28it/s]\n",
      "Training Epoch 234: 100%|██████████| 370/370 [00:04<00:00, 90.08it/s]\n",
      "Training Epoch 235: 100%|██████████| 370/370 [00:04<00:00, 87.09it/s]\n",
      "Training Epoch 236: 100%|██████████| 370/370 [00:04<00:00, 85.48it/s]\n",
      "Training Epoch 237: 100%|██████████| 370/370 [00:04<00:00, 85.91it/s]\n",
      "Training Epoch 238: 100%|██████████| 370/370 [00:04<00:00, 82.60it/s]\n",
      "Training Epoch 239: 100%|██████████| 370/370 [00:04<00:00, 88.48it/s]\n",
      "Training Epoch 240: 100%|██████████| 370/370 [00:04<00:00, 88.89it/s]\n",
      "Training Epoch 241: 100%|██████████| 370/370 [00:04<00:00, 90.57it/s]\n"
     ]
    },
    {
     "name": "stdout",
     "output_type": "stream",
     "text": [
      "Epoch 240 - Train Loss: 0.5130, Train MSE: 0.5138, Train MAE: 0.4882\n",
      "Epoch 240 - Validation Loss: 1.6792, Validation MSE: 1.6803, Validation MAE: 0.9698\n"
     ]
    },
    {
     "name": "stderr",
     "output_type": "stream",
     "text": [
      "Training Epoch 242: 100%|██████████| 370/370 [00:04<00:00, 87.97it/s]\n",
      "Training Epoch 243: 100%|██████████| 370/370 [00:04<00:00, 84.48it/s]\n",
      "Training Epoch 244: 100%|██████████| 370/370 [00:04<00:00, 87.87it/s]\n",
      "Training Epoch 245: 100%|██████████| 370/370 [00:04<00:00, 89.38it/s]\n",
      "Training Epoch 246: 100%|██████████| 370/370 [00:04<00:00, 86.75it/s]\n",
      "Training Epoch 247: 100%|██████████| 370/370 [00:04<00:00, 86.82it/s]\n",
      "Training Epoch 248: 100%|██████████| 370/370 [00:04<00:00, 87.71it/s]\n",
      "Training Epoch 249: 100%|██████████| 370/370 [00:04<00:00, 91.27it/s]\n",
      "Training Epoch 250: 100%|██████████| 370/370 [00:04<00:00, 87.47it/s]\n",
      "Training Epoch 251: 100%|██████████| 370/370 [00:04<00:00, 89.29it/s]\n"
     ]
    },
    {
     "name": "stdout",
     "output_type": "stream",
     "text": [
      "Epoch 250 - Train Loss: 0.5079, Train MSE: 0.5086, Train MAE: 0.4826\n",
      "Epoch 250 - Validation Loss: 1.6637, Validation MSE: 1.6651, Validation MAE: 0.9782\n"
     ]
    },
    {
     "name": "stderr",
     "output_type": "stream",
     "text": [
      "Training Epoch 252: 100%|██████████| 370/370 [00:04<00:00, 88.12it/s]\n",
      "Training Epoch 253: 100%|██████████| 370/370 [00:04<00:00, 87.53it/s]\n",
      "Training Epoch 254: 100%|██████████| 370/370 [00:04<00:00, 81.62it/s]\n",
      "Training Epoch 255: 100%|██████████| 370/370 [00:04<00:00, 78.71it/s]\n",
      "Training Epoch 256: 100%|██████████| 370/370 [00:04<00:00, 77.95it/s]\n",
      "Training Epoch 257: 100%|██████████| 370/370 [00:04<00:00, 75.51it/s]\n",
      "Training Epoch 258: 100%|██████████| 370/370 [00:04<00:00, 77.65it/s]\n",
      "Training Epoch 259: 100%|██████████| 370/370 [00:04<00:00, 76.92it/s]\n",
      "Training Epoch 260: 100%|██████████| 370/370 [00:04<00:00, 74.33it/s]\n",
      "Training Epoch 261: 100%|██████████| 370/370 [00:05<00:00, 71.25it/s]\n"
     ]
    },
    {
     "name": "stdout",
     "output_type": "stream",
     "text": [
      "Epoch 260 - Train Loss: 0.5002, Train MSE: 0.5006, Train MAE: 0.4757\n",
      "Epoch 260 - Validation Loss: 1.6521, Validation MSE: 1.6540, Validation MAE: 0.9650\n"
     ]
    },
    {
     "name": "stderr",
     "output_type": "stream",
     "text": [
      "Training Epoch 262: 100%|██████████| 370/370 [00:04<00:00, 74.60it/s]\n",
      "Training Epoch 263: 100%|██████████| 370/370 [00:04<00:00, 77.20it/s]\n",
      "Training Epoch 264: 100%|██████████| 370/370 [00:05<00:00, 73.41it/s]\n",
      "Training Epoch 265: 100%|██████████| 370/370 [00:05<00:00, 71.63it/s]\n",
      "Training Epoch 266: 100%|██████████| 370/370 [00:04<00:00, 76.61it/s]\n",
      "Training Epoch 267: 100%|██████████| 370/370 [00:04<00:00, 75.78it/s]\n",
      "Training Epoch 268: 100%|██████████| 370/370 [00:04<00:00, 77.91it/s]\n",
      "Training Epoch 269: 100%|██████████| 370/370 [00:04<00:00, 80.03it/s]\n",
      "Training Epoch 270: 100%|██████████| 370/370 [00:04<00:00, 79.54it/s]\n",
      "Training Epoch 271: 100%|██████████| 370/370 [00:04<00:00, 79.17it/s]\n"
     ]
    },
    {
     "name": "stdout",
     "output_type": "stream",
     "text": [
      "Epoch 270 - Train Loss: 0.4977, Train MSE: 0.4976, Train MAE: 0.4747\n",
      "Epoch 270 - Validation Loss: 1.6901, Validation MSE: 1.6919, Validation MAE: 0.9760\n"
     ]
    },
    {
     "name": "stderr",
     "output_type": "stream",
     "text": [
      "Training Epoch 272: 100%|██████████| 370/370 [00:04<00:00, 77.72it/s]\n",
      "Training Epoch 273: 100%|██████████| 370/370 [00:04<00:00, 79.41it/s]\n",
      "Training Epoch 274: 100%|██████████| 370/370 [00:04<00:00, 77.94it/s]\n",
      "Training Epoch 275: 100%|██████████| 370/370 [00:04<00:00, 79.54it/s]\n",
      "Training Epoch 276: 100%|██████████| 370/370 [00:04<00:00, 78.18it/s]\n",
      "Training Epoch 277: 100%|██████████| 370/370 [00:04<00:00, 79.49it/s]\n",
      "Training Epoch 278: 100%|██████████| 370/370 [00:04<00:00, 79.50it/s]\n",
      "Training Epoch 279: 100%|██████████| 370/370 [00:04<00:00, 77.31it/s]\n",
      "Training Epoch 280: 100%|██████████| 370/370 [00:04<00:00, 79.27it/s]\n",
      "Training Epoch 281: 100%|██████████| 370/370 [00:04<00:00, 79.99it/s]\n"
     ]
    },
    {
     "name": "stdout",
     "output_type": "stream",
     "text": [
      "Epoch 280 - Train Loss: 0.4982, Train MSE: 0.4979, Train MAE: 0.4733\n",
      "Epoch 280 - Validation Loss: 1.6103, Validation MSE: 1.6120, Validation MAE: 0.9535\n"
     ]
    },
    {
     "name": "stderr",
     "output_type": "stream",
     "text": [
      "Training Epoch 282: 100%|██████████| 370/370 [00:04<00:00, 79.24it/s]\n",
      "Training Epoch 283: 100%|██████████| 370/370 [00:04<00:00, 77.00it/s]\n",
      "Training Epoch 284: 100%|██████████| 370/370 [00:04<00:00, 78.16it/s]\n",
      "Training Epoch 285: 100%|██████████| 370/370 [00:04<00:00, 79.22it/s]\n",
      "Training Epoch 286: 100%|██████████| 370/370 [00:04<00:00, 78.39it/s]\n",
      "Training Epoch 287: 100%|██████████| 370/370 [00:04<00:00, 79.45it/s]\n",
      "Training Epoch 288: 100%|██████████| 370/370 [00:04<00:00, 78.61it/s]\n",
      "Training Epoch 289: 100%|██████████| 370/370 [00:04<00:00, 77.55it/s]\n",
      "Training Epoch 290: 100%|██████████| 370/370 [00:04<00:00, 77.46it/s]\n",
      "Training Epoch 291: 100%|██████████| 370/370 [00:04<00:00, 79.60it/s]\n"
     ]
    },
    {
     "name": "stdout",
     "output_type": "stream",
     "text": [
      "Epoch 290 - Train Loss: 0.4934, Train MSE: 0.4929, Train MAE: 0.4700\n",
      "Epoch 290 - Validation Loss: 1.6415, Validation MSE: 1.6423, Validation MAE: 0.9619\n"
     ]
    },
    {
     "name": "stderr",
     "output_type": "stream",
     "text": [
      "Training Epoch 292: 100%|██████████| 370/370 [00:04<00:00, 78.37it/s]\n",
      "Training Epoch 293: 100%|██████████| 370/370 [00:04<00:00, 78.84it/s]\n",
      "Training Epoch 294: 100%|██████████| 370/370 [00:04<00:00, 79.69it/s]\n",
      "Training Epoch 295: 100%|██████████| 370/370 [00:04<00:00, 78.65it/s]\n",
      "Training Epoch 296: 100%|██████████| 370/370 [00:04<00:00, 78.83it/s]\n",
      "Training Epoch 297: 100%|██████████| 370/370 [00:04<00:00, 79.30it/s]\n",
      "Training Epoch 298: 100%|██████████| 370/370 [00:04<00:00, 78.03it/s]\n",
      "Training Epoch 299: 100%|██████████| 370/370 [00:04<00:00, 77.59it/s]\n",
      "Training Epoch 300: 100%|██████████| 370/370 [00:04<00:00, 78.27it/s]\n",
      "Training Epoch 301: 100%|██████████| 370/370 [00:04<00:00, 78.91it/s]\n"
     ]
    },
    {
     "name": "stdout",
     "output_type": "stream",
     "text": [
      "Epoch 300 - Train Loss: 0.4828, Train MSE: 0.4836, Train MAE: 0.4656\n",
      "Epoch 300 - Validation Loss: 1.6913, Validation MSE: 1.6921, Validation MAE: 0.9691\n"
     ]
    },
    {
     "name": "stderr",
     "output_type": "stream",
     "text": [
      "Training Epoch 302: 100%|██████████| 370/370 [00:04<00:00, 77.34it/s]\n",
      "Training Epoch 303: 100%|██████████| 370/370 [00:04<00:00, 78.53it/s]\n",
      "Training Epoch 304: 100%|██████████| 370/370 [00:04<00:00, 80.11it/s]\n",
      "Training Epoch 305: 100%|██████████| 370/370 [00:04<00:00, 77.46it/s]\n",
      "Training Epoch 306: 100%|██████████| 370/370 [00:04<00:00, 78.29it/s]\n",
      "Training Epoch 307: 100%|██████████| 370/370 [00:04<00:00, 78.33it/s]\n",
      "Training Epoch 308: 100%|██████████| 370/370 [00:04<00:00, 79.62it/s]\n",
      "Training Epoch 309: 100%|██████████| 370/370 [00:04<00:00, 78.47it/s]\n",
      "Training Epoch 310: 100%|██████████| 370/370 [00:04<00:00, 77.86it/s]\n",
      "Training Epoch 311: 100%|██████████| 370/370 [00:04<00:00, 79.60it/s]\n"
     ]
    },
    {
     "name": "stdout",
     "output_type": "stream",
     "text": [
      "Epoch 310 - Train Loss: 0.4801, Train MSE: 0.4807, Train MAE: 0.4598\n",
      "Epoch 310 - Validation Loss: 1.6459, Validation MSE: 1.6462, Validation MAE: 0.9654\n"
     ]
    },
    {
     "name": "stderr",
     "output_type": "stream",
     "text": [
      "Training Epoch 312: 100%|██████████| 370/370 [00:04<00:00, 74.64it/s]\n",
      "Training Epoch 313: 100%|██████████| 370/370 [00:04<00:00, 78.76it/s]\n",
      "Training Epoch 314: 100%|██████████| 370/370 [00:04<00:00, 80.24it/s]\n",
      "Training Epoch 315: 100%|██████████| 370/370 [00:04<00:00, 78.82it/s]\n",
      "Training Epoch 316: 100%|██████████| 370/370 [00:04<00:00, 77.45it/s]\n",
      "Training Epoch 317: 100%|██████████| 370/370 [00:04<00:00, 78.21it/s]\n",
      "Training Epoch 318: 100%|██████████| 370/370 [00:04<00:00, 78.31it/s]\n",
      "Training Epoch 319: 100%|██████████| 370/370 [00:04<00:00, 79.54it/s]\n",
      "Training Epoch 320: 100%|██████████| 370/370 [00:04<00:00, 78.25it/s]\n",
      "Training Epoch 321: 100%|██████████| 370/370 [00:04<00:00, 79.42it/s]\n"
     ]
    },
    {
     "name": "stdout",
     "output_type": "stream",
     "text": [
      "Epoch 320 - Train Loss: 0.4802, Train MSE: 0.4803, Train MAE: 0.4582\n",
      "Epoch 320 - Validation Loss: 1.6585, Validation MSE: 1.6601, Validation MAE: 0.9633\n"
     ]
    },
    {
     "name": "stderr",
     "output_type": "stream",
     "text": [
      "Training Epoch 322: 100%|██████████| 370/370 [00:04<00:00, 76.50it/s]\n",
      "Training Epoch 323: 100%|██████████| 370/370 [00:04<00:00, 77.99it/s]\n",
      "Training Epoch 324: 100%|██████████| 370/370 [00:04<00:00, 79.92it/s]\n",
      "Training Epoch 325: 100%|██████████| 370/370 [00:04<00:00, 77.92it/s]\n",
      "Training Epoch 326: 100%|██████████| 370/370 [00:04<00:00, 79.85it/s]\n",
      "Training Epoch 327: 100%|██████████| 370/370 [00:04<00:00, 78.47it/s]\n",
      "Training Epoch 328: 100%|██████████| 370/370 [00:04<00:00, 80.07it/s]\n",
      "Training Epoch 329: 100%|██████████| 370/370 [00:04<00:00, 78.10it/s]\n",
      "Training Epoch 330: 100%|██████████| 370/370 [00:04<00:00, 77.33it/s]\n",
      "Training Epoch 331: 100%|██████████| 370/370 [00:04<00:00, 79.75it/s]\n"
     ]
    },
    {
     "name": "stdout",
     "output_type": "stream",
     "text": [
      "Epoch 330 - Train Loss: 0.4789, Train MSE: 0.4796, Train MAE: 0.4587\n",
      "Epoch 330 - Validation Loss: 1.5953, Validation MSE: 1.5957, Validation MAE: 0.9490\n"
     ]
    },
    {
     "name": "stderr",
     "output_type": "stream",
     "text": [
      "Training Epoch 332: 100%|██████████| 370/370 [00:04<00:00, 77.99it/s]\n",
      "Training Epoch 333: 100%|██████████| 370/370 [00:04<00:00, 79.96it/s]\n",
      "Training Epoch 334: 100%|██████████| 370/370 [00:04<00:00, 80.84it/s]\n",
      "Training Epoch 335: 100%|██████████| 370/370 [00:04<00:00, 78.27it/s]\n",
      "Training Epoch 336: 100%|██████████| 370/370 [00:04<00:00, 79.26it/s]\n",
      "Training Epoch 337: 100%|██████████| 370/370 [00:04<00:00, 77.61it/s]\n",
      "Training Epoch 338: 100%|██████████| 370/370 [00:04<00:00, 79.27it/s]\n",
      "Training Epoch 339: 100%|██████████| 370/370 [00:04<00:00, 78.20it/s]\n",
      "Training Epoch 340: 100%|██████████| 370/370 [00:04<00:00, 77.88it/s]\n",
      "Training Epoch 341: 100%|██████████| 370/370 [00:04<00:00, 78.27it/s]\n"
     ]
    },
    {
     "name": "stdout",
     "output_type": "stream",
     "text": [
      "Epoch 340 - Train Loss: 0.4751, Train MSE: 0.4751, Train MAE: 0.4551\n",
      "Epoch 340 - Validation Loss: 1.6306, Validation MSE: 1.6320, Validation MAE: 0.9536\n"
     ]
    },
    {
     "name": "stderr",
     "output_type": "stream",
     "text": [
      "Training Epoch 342: 100%|██████████| 370/370 [00:04<00:00, 77.31it/s]\n",
      "Training Epoch 343: 100%|██████████| 370/370 [00:04<00:00, 78.01it/s]\n",
      "Training Epoch 344: 100%|██████████| 370/370 [00:04<00:00, 77.64it/s]\n",
      "Training Epoch 345: 100%|██████████| 370/370 [00:05<00:00, 71.61it/s]\n",
      "Training Epoch 346: 100%|██████████| 370/370 [00:05<00:00, 73.08it/s]\n",
      "Training Epoch 347: 100%|██████████| 370/370 [00:05<00:00, 73.17it/s]\n",
      "Training Epoch 348: 100%|██████████| 370/370 [00:04<00:00, 77.84it/s]\n",
      "Training Epoch 349: 100%|██████████| 370/370 [00:04<00:00, 80.94it/s]\n",
      "Training Epoch 350: 100%|██████████| 370/370 [00:04<00:00, 78.91it/s]\n",
      "Training Epoch 351: 100%|██████████| 370/370 [00:04<00:00, 78.12it/s]\n"
     ]
    },
    {
     "name": "stdout",
     "output_type": "stream",
     "text": [
      "Epoch 350 - Train Loss: 0.4751, Train MSE: 0.4760, Train MAE: 0.4543\n",
      "Epoch 350 - Validation Loss: 1.6175, Validation MSE: 1.6185, Validation MAE: 0.9487\n"
     ]
    },
    {
     "name": "stderr",
     "output_type": "stream",
     "text": [
      "Training Epoch 352: 100%|██████████| 370/370 [00:04<00:00, 78.24it/s]\n",
      "Training Epoch 353: 100%|██████████| 370/370 [00:04<00:00, 79.81it/s]\n",
      "Training Epoch 354: 100%|██████████| 370/370 [00:04<00:00, 78.77it/s]\n",
      "Training Epoch 355: 100%|██████████| 370/370 [00:04<00:00, 77.54it/s]\n",
      "Training Epoch 356: 100%|██████████| 370/370 [00:04<00:00, 79.43it/s]\n",
      "Training Epoch 357: 100%|██████████| 370/370 [00:04<00:00, 78.46it/s]\n",
      "Training Epoch 358: 100%|██████████| 370/370 [00:04<00:00, 80.60it/s]\n",
      "Training Epoch 359: 100%|██████████| 370/370 [00:04<00:00, 78.52it/s]\n",
      "Training Epoch 360: 100%|██████████| 370/370 [00:04<00:00, 79.01it/s]\n",
      "Training Epoch 361: 100%|██████████| 370/370 [00:04<00:00, 78.68it/s]\n"
     ]
    },
    {
     "name": "stdout",
     "output_type": "stream",
     "text": [
      "Epoch 360 - Train Loss: 0.4716, Train MSE: 0.4711, Train MAE: 0.4507\n",
      "Epoch 360 - Validation Loss: 1.6402, Validation MSE: 1.6420, Validation MAE: 0.9543\n"
     ]
    },
    {
     "name": "stderr",
     "output_type": "stream",
     "text": [
      "Training Epoch 362: 100%|██████████| 370/370 [00:04<00:00, 78.71it/s]\n",
      "Training Epoch 363: 100%|██████████| 370/370 [00:04<00:00, 80.43it/s]\n",
      "Training Epoch 364: 100%|██████████| 370/370 [00:04<00:00, 78.69it/s]\n",
      "Training Epoch 365: 100%|██████████| 370/370 [00:04<00:00, 79.68it/s]\n",
      "Training Epoch 366: 100%|██████████| 370/370 [00:04<00:00, 80.29it/s]\n",
      "Training Epoch 367: 100%|██████████| 370/370 [00:04<00:00, 79.22it/s]\n",
      "Training Epoch 368: 100%|██████████| 370/370 [00:04<00:00, 79.54it/s]\n",
      "Training Epoch 369: 100%|██████████| 370/370 [00:04<00:00, 78.31it/s]\n",
      "Training Epoch 370: 100%|██████████| 370/370 [00:04<00:00, 79.72it/s]\n",
      "Training Epoch 371: 100%|██████████| 370/370 [00:04<00:00, 79.39it/s]\n"
     ]
    },
    {
     "name": "stdout",
     "output_type": "stream",
     "text": [
      "Epoch 370 - Train Loss: 0.4665, Train MSE: 0.4674, Train MAE: 0.4477\n",
      "Epoch 370 - Validation Loss: 1.6811, Validation MSE: 1.6824, Validation MAE: 0.9687\n"
     ]
    },
    {
     "name": "stderr",
     "output_type": "stream",
     "text": [
      "Training Epoch 372: 100%|██████████| 370/370 [00:04<00:00, 78.81it/s]\n",
      "Training Epoch 373: 100%|██████████| 370/370 [00:04<00:00, 79.32it/s]\n",
      "Training Epoch 374: 100%|██████████| 370/370 [00:04<00:00, 78.34it/s]\n",
      "Training Epoch 375: 100%|██████████| 370/370 [00:04<00:00, 78.82it/s]\n",
      "Training Epoch 376: 100%|██████████| 370/370 [00:04<00:00, 80.74it/s]\n",
      "Training Epoch 377: 100%|██████████| 370/370 [00:04<00:00, 78.82it/s]\n",
      "Training Epoch 378: 100%|██████████| 370/370 [00:04<00:00, 77.12it/s]\n",
      "Training Epoch 379: 100%|██████████| 370/370 [00:04<00:00, 78.50it/s]\n",
      "Training Epoch 380: 100%|██████████| 370/370 [00:04<00:00, 79.36it/s]\n",
      "Training Epoch 381: 100%|██████████| 370/370 [00:04<00:00, 78.03it/s]\n"
     ]
    },
    {
     "name": "stdout",
     "output_type": "stream",
     "text": [
      "Epoch 380 - Train Loss: 0.4623, Train MSE: 0.4630, Train MAE: 0.4473\n",
      "Epoch 380 - Validation Loss: 1.6474, Validation MSE: 1.6483, Validation MAE: 0.9643\n"
     ]
    },
    {
     "name": "stderr",
     "output_type": "stream",
     "text": [
      "Training Epoch 382: 100%|██████████| 370/370 [00:04<00:00, 78.32it/s]\n",
      "Training Epoch 383: 100%|██████████| 370/370 [00:04<00:00, 80.66it/s]\n",
      "Training Epoch 384: 100%|██████████| 370/370 [00:04<00:00, 79.27it/s]\n",
      "Training Epoch 385: 100%|██████████| 370/370 [00:04<00:00, 79.40it/s]\n",
      "Training Epoch 386: 100%|██████████| 370/370 [00:04<00:00, 79.10it/s]\n",
      "Training Epoch 387: 100%|██████████| 370/370 [00:04<00:00, 78.07it/s]\n",
      "Training Epoch 388: 100%|██████████| 370/370 [00:04<00:00, 78.70it/s]\n",
      "Training Epoch 389: 100%|██████████| 370/370 [00:04<00:00, 79.46it/s]\n",
      "Training Epoch 390: 100%|██████████| 370/370 [00:04<00:00, 80.80it/s]\n",
      "Training Epoch 391: 100%|██████████| 370/370 [00:04<00:00, 78.42it/s]\n"
     ]
    },
    {
     "name": "stdout",
     "output_type": "stream",
     "text": [
      "Epoch 390 - Train Loss: 0.4622, Train MSE: 0.4626, Train MAE: 0.4455\n",
      "Epoch 390 - Validation Loss: 1.6572, Validation MSE: 1.6590, Validation MAE: 0.9585\n"
     ]
    },
    {
     "name": "stderr",
     "output_type": "stream",
     "text": [
      "Training Epoch 392: 100%|██████████| 370/370 [00:04<00:00, 78.85it/s]\n",
      "Training Epoch 393: 100%|██████████| 370/370 [00:04<00:00, 80.25it/s]\n",
      "Training Epoch 394: 100%|██████████| 370/370 [00:04<00:00, 76.20it/s]\n",
      "Training Epoch 395: 100%|██████████| 370/370 [00:04<00:00, 79.55it/s]\n",
      "Training Epoch 396: 100%|██████████| 370/370 [00:04<00:00, 77.51it/s]\n",
      "Training Epoch 397: 100%|██████████| 370/370 [00:04<00:00, 79.91it/s]\n",
      "Training Epoch 398: 100%|██████████| 370/370 [00:04<00:00, 78.77it/s]\n",
      "Training Epoch 399: 100%|██████████| 370/370 [00:04<00:00, 79.24it/s]\n",
      "Training Epoch 400: 100%|██████████| 370/370 [00:04<00:00, 77.71it/s]\n",
      "Training Epoch 401: 100%|██████████| 370/370 [00:04<00:00, 76.36it/s]\n"
     ]
    },
    {
     "name": "stdout",
     "output_type": "stream",
     "text": [
      "Epoch 400 - Train Loss: 0.4637, Train MSE: 0.4626, Train MAE: 0.4440\n",
      "Epoch 400 - Validation Loss: 1.6264, Validation MSE: 1.6276, Validation MAE: 0.9472\n"
     ]
    },
    {
     "name": "stderr",
     "output_type": "stream",
     "text": [
      "Training Epoch 402: 100%|██████████| 370/370 [00:04<00:00, 78.75it/s]\n",
      "Training Epoch 403: 100%|██████████| 370/370 [00:04<00:00, 80.46it/s]\n",
      "Training Epoch 404: 100%|██████████| 370/370 [00:04<00:00, 77.58it/s]\n",
      "Training Epoch 405: 100%|██████████| 370/370 [00:04<00:00, 81.00it/s]\n",
      "Training Epoch 406: 100%|██████████| 370/370 [00:04<00:00, 78.53it/s]\n",
      "Training Epoch 407: 100%|██████████| 370/370 [00:04<00:00, 80.87it/s]\n",
      "Training Epoch 408: 100%|██████████| 370/370 [00:04<00:00, 77.40it/s]\n",
      "Training Epoch 409: 100%|██████████| 370/370 [00:04<00:00, 78.43it/s]\n",
      "Training Epoch 410: 100%|██████████| 370/370 [00:04<00:00, 78.29it/s]\n",
      "Training Epoch 411: 100%|██████████| 370/370 [00:04<00:00, 76.99it/s]\n"
     ]
    },
    {
     "name": "stdout",
     "output_type": "stream",
     "text": [
      "Epoch 410 - Train Loss: 0.4604, Train MSE: 0.4607, Train MAE: 0.4416\n",
      "Epoch 410 - Validation Loss: 1.6620, Validation MSE: 1.6637, Validation MAE: 0.9585\n"
     ]
    },
    {
     "name": "stderr",
     "output_type": "stream",
     "text": [
      "Training Epoch 412: 100%|██████████| 370/370 [00:04<00:00, 77.19it/s]\n",
      "Training Epoch 413: 100%|██████████| 370/370 [00:04<00:00, 81.18it/s]\n",
      "Training Epoch 414: 100%|██████████| 370/370 [00:04<00:00, 78.07it/s]\n",
      "Training Epoch 415: 100%|██████████| 370/370 [00:04<00:00, 80.85it/s]\n",
      "Training Epoch 416: 100%|██████████| 370/370 [00:04<00:00, 79.55it/s]\n",
      "Training Epoch 417: 100%|██████████| 370/370 [00:04<00:00, 78.28it/s]\n",
      "Training Epoch 418: 100%|██████████| 370/370 [00:04<00:00, 79.75it/s]\n",
      "Training Epoch 419: 100%|██████████| 370/370 [00:04<00:00, 78.44it/s]\n",
      "Training Epoch 420: 100%|██████████| 370/370 [00:04<00:00, 78.30it/s]\n",
      "Training Epoch 421: 100%|██████████| 370/370 [00:04<00:00, 76.90it/s]\n"
     ]
    },
    {
     "name": "stdout",
     "output_type": "stream",
     "text": [
      "Epoch 420 - Train Loss: 0.4536, Train MSE: 0.4543, Train MAE: 0.4377\n",
      "Epoch 420 - Validation Loss: 1.6512, Validation MSE: 1.6540, Validation MAE: 0.9655\n"
     ]
    },
    {
     "name": "stderr",
     "output_type": "stream",
     "text": [
      "Training Epoch 422: 100%|██████████| 370/370 [00:04<00:00, 78.77it/s]\n",
      "Training Epoch 423: 100%|██████████| 370/370 [00:04<00:00, 80.77it/s]\n",
      "Training Epoch 424: 100%|██████████| 370/370 [00:06<00:00, 61.45it/s]\n",
      "Training Epoch 425: 100%|██████████| 370/370 [00:05<00:00, 73.52it/s]\n",
      "Training Epoch 426: 100%|██████████| 370/370 [00:04<00:00, 76.70it/s]\n",
      "Training Epoch 427: 100%|██████████| 370/370 [00:05<00:00, 72.63it/s]\n",
      "Training Epoch 428: 100%|██████████| 370/370 [00:04<00:00, 75.59it/s]\n",
      "Training Epoch 429: 100%|██████████| 370/370 [00:04<00:00, 79.16it/s]\n",
      "Training Epoch 430: 100%|██████████| 370/370 [00:04<00:00, 76.22it/s]\n",
      "Training Epoch 431: 100%|██████████| 370/370 [00:04<00:00, 77.48it/s]\n"
     ]
    },
    {
     "name": "stdout",
     "output_type": "stream",
     "text": [
      "Epoch 430 - Train Loss: 0.4557, Train MSE: 0.4558, Train MAE: 0.4386\n",
      "Epoch 430 - Validation Loss: 1.6659, Validation MSE: 1.6676, Validation MAE: 0.9670\n"
     ]
    },
    {
     "name": "stderr",
     "output_type": "stream",
     "text": [
      "Training Epoch 432: 100%|██████████| 370/370 [00:04<00:00, 78.41it/s]\n",
      "Training Epoch 433: 100%|██████████| 370/370 [00:04<00:00, 78.33it/s]\n",
      "Training Epoch 434: 100%|██████████| 370/370 [00:04<00:00, 77.70it/s]\n",
      "Training Epoch 435: 100%|██████████| 370/370 [00:04<00:00, 79.31it/s]\n",
      "Training Epoch 436: 100%|██████████| 370/370 [00:04<00:00, 76.89it/s]\n",
      "Training Epoch 437: 100%|██████████| 370/370 [00:04<00:00, 78.30it/s]\n",
      "Training Epoch 438: 100%|██████████| 370/370 [00:04<00:00, 77.35it/s]\n",
      "Training Epoch 439: 100%|██████████| 370/370 [00:04<00:00, 77.04it/s]\n",
      "Training Epoch 440: 100%|██████████| 370/370 [00:04<00:00, 76.36it/s]\n",
      "Training Epoch 441: 100%|██████████| 370/370 [00:04<00:00, 77.04it/s]\n"
     ]
    },
    {
     "name": "stdout",
     "output_type": "stream",
     "text": [
      "Epoch 440 - Train Loss: 0.4549, Train MSE: 0.4547, Train MAE: 0.4372\n",
      "Epoch 440 - Validation Loss: 1.6392, Validation MSE: 1.6417, Validation MAE: 0.9518\n"
     ]
    },
    {
     "name": "stderr",
     "output_type": "stream",
     "text": [
      "Training Epoch 442: 100%|██████████| 370/370 [00:04<00:00, 78.55it/s]\n",
      "Training Epoch 443: 100%|██████████| 370/370 [00:04<00:00, 77.05it/s]\n",
      "Training Epoch 444: 100%|██████████| 370/370 [00:04<00:00, 77.73it/s]\n",
      "Training Epoch 445: 100%|██████████| 370/370 [00:04<00:00, 78.56it/s]\n",
      "Training Epoch 446: 100%|██████████| 370/370 [00:04<00:00, 76.64it/s]\n",
      "Training Epoch 447: 100%|██████████| 370/370 [00:04<00:00, 78.85it/s]\n",
      "Training Epoch 448: 100%|██████████| 370/370 [00:04<00:00, 79.24it/s]\n",
      "Training Epoch 449: 100%|██████████| 370/370 [00:04<00:00, 77.87it/s]\n",
      "Training Epoch 450: 100%|██████████| 370/370 [00:04<00:00, 77.77it/s]\n",
      "Training Epoch 451: 100%|██████████| 370/370 [00:04<00:00, 77.77it/s]\n"
     ]
    },
    {
     "name": "stdout",
     "output_type": "stream",
     "text": [
      "Epoch 450 - Train Loss: 0.4515, Train MSE: 0.4522, Train MAE: 0.4365\n",
      "Epoch 450 - Validation Loss: 1.6272, Validation MSE: 1.6292, Validation MAE: 0.9507\n"
     ]
    },
    {
     "name": "stderr",
     "output_type": "stream",
     "text": [
      "Training Epoch 452: 100%|██████████| 370/370 [00:04<00:00, 79.21it/s]\n",
      "Training Epoch 453: 100%|██████████| 370/370 [00:04<00:00, 78.74it/s]\n",
      "Training Epoch 454: 100%|██████████| 370/370 [00:04<00:00, 78.93it/s]\n",
      "Training Epoch 455: 100%|██████████| 370/370 [00:04<00:00, 78.71it/s]\n",
      "Training Epoch 456: 100%|██████████| 370/370 [00:04<00:00, 76.78it/s]\n",
      "Training Epoch 457: 100%|██████████| 370/370 [00:04<00:00, 80.69it/s]\n",
      "Training Epoch 458: 100%|██████████| 370/370 [00:04<00:00, 76.63it/s]\n",
      "Training Epoch 459: 100%|██████████| 370/370 [00:04<00:00, 79.61it/s]\n",
      "Training Epoch 460: 100%|██████████| 370/370 [00:04<00:00, 78.23it/s]\n",
      "Training Epoch 461: 100%|██████████| 370/370 [00:04<00:00, 78.51it/s]\n"
     ]
    },
    {
     "name": "stdout",
     "output_type": "stream",
     "text": [
      "Epoch 460 - Train Loss: 0.4439, Train MSE: 0.4446, Train MAE: 0.4315\n",
      "Epoch 460 - Validation Loss: 1.6706, Validation MSE: 1.6730, Validation MAE: 0.9662\n"
     ]
    },
    {
     "name": "stderr",
     "output_type": "stream",
     "text": [
      "Training Epoch 462: 100%|██████████| 370/370 [00:04<00:00, 78.66it/s]\n",
      "Training Epoch 463: 100%|██████████| 370/370 [00:04<00:00, 75.69it/s]\n",
      "Training Epoch 464: 100%|██████████| 370/370 [00:04<00:00, 79.86it/s]\n",
      "Training Epoch 465: 100%|██████████| 370/370 [00:04<00:00, 78.06it/s]\n",
      "Training Epoch 466: 100%|██████████| 370/370 [00:04<00:00, 75.49it/s]\n",
      "Training Epoch 467: 100%|██████████| 370/370 [00:04<00:00, 78.30it/s]\n",
      "Training Epoch 468: 100%|██████████| 370/370 [00:04<00:00, 78.59it/s]\n",
      "Training Epoch 469: 100%|██████████| 370/370 [00:04<00:00, 76.91it/s]\n",
      "Training Epoch 470: 100%|██████████| 370/370 [00:04<00:00, 78.33it/s]\n",
      "Training Epoch 471: 100%|██████████| 370/370 [00:04<00:00, 77.22it/s]\n"
     ]
    },
    {
     "name": "stdout",
     "output_type": "stream",
     "text": [
      "Epoch 470 - Train Loss: 0.4449, Train MSE: 0.4457, Train MAE: 0.4314\n",
      "Epoch 470 - Validation Loss: 1.5929, Validation MSE: 1.5957, Validation MAE: 0.9412\n"
     ]
    },
    {
     "name": "stderr",
     "output_type": "stream",
     "text": [
      "Training Epoch 472: 100%|██████████| 370/370 [00:04<00:00, 76.87it/s]\n",
      "Training Epoch 473: 100%|██████████| 370/370 [00:04<00:00, 78.92it/s]\n",
      "Training Epoch 474: 100%|██████████| 370/370 [00:04<00:00, 76.47it/s]\n",
      "Training Epoch 475: 100%|██████████| 370/370 [00:04<00:00, 79.76it/s]\n",
      "Training Epoch 476: 100%|██████████| 370/370 [00:05<00:00, 72.49it/s]\n",
      "Training Epoch 477: 100%|██████████| 370/370 [00:04<00:00, 76.29it/s]\n",
      "Training Epoch 478: 100%|██████████| 370/370 [00:04<00:00, 78.09it/s]\n",
      "Training Epoch 479: 100%|██████████| 370/370 [00:04<00:00, 76.84it/s]\n",
      "Training Epoch 480: 100%|██████████| 370/370 [00:04<00:00, 79.06it/s]\n",
      "Training Epoch 481: 100%|██████████| 370/370 [00:04<00:00, 78.05it/s]\n"
     ]
    },
    {
     "name": "stdout",
     "output_type": "stream",
     "text": [
      "Epoch 480 - Train Loss: 0.4427, Train MSE: 0.4429, Train MAE: 0.4296\n",
      "Epoch 480 - Validation Loss: 1.6172, Validation MSE: 1.6188, Validation MAE: 0.9439\n"
     ]
    },
    {
     "name": "stderr",
     "output_type": "stream",
     "text": [
      "Training Epoch 482: 100%|██████████| 370/370 [00:04<00:00, 77.21it/s]\n",
      "Training Epoch 483: 100%|██████████| 370/370 [00:04<00:00, 77.50it/s]\n",
      "Training Epoch 484: 100%|██████████| 370/370 [00:04<00:00, 79.07it/s]\n",
      "Training Epoch 485: 100%|██████████| 370/370 [00:04<00:00, 75.69it/s]\n",
      "Training Epoch 486: 100%|██████████| 370/370 [00:04<00:00, 78.35it/s]\n",
      "Training Epoch 487: 100%|██████████| 370/370 [00:04<00:00, 76.00it/s]\n",
      "Training Epoch 488: 100%|██████████| 370/370 [00:04<00:00, 76.50it/s]\n",
      "Training Epoch 489: 100%|██████████| 370/370 [00:04<00:00, 78.00it/s]\n",
      "Training Epoch 490: 100%|██████████| 370/370 [00:04<00:00, 78.08it/s]\n",
      "Training Epoch 491: 100%|██████████| 370/370 [00:04<00:00, 77.75it/s]\n"
     ]
    },
    {
     "name": "stdout",
     "output_type": "stream",
     "text": [
      "Epoch 490 - Train Loss: 0.4430, Train MSE: 0.4440, Train MAE: 0.4298\n",
      "Epoch 490 - Validation Loss: 1.6316, Validation MSE: 1.6339, Validation MAE: 0.9462\n"
     ]
    },
    {
     "name": "stderr",
     "output_type": "stream",
     "text": [
      "Training Epoch 492: 100%|██████████| 370/370 [00:04<00:00, 77.17it/s]\n",
      "Training Epoch 493: 100%|██████████| 370/370 [00:04<00:00, 77.30it/s]\n",
      "Training Epoch 494: 100%|██████████| 370/370 [00:04<00:00, 78.28it/s]\n",
      "Training Epoch 495: 100%|██████████| 370/370 [00:04<00:00, 76.83it/s]\n",
      "Training Epoch 496: 100%|██████████| 370/370 [00:04<00:00, 79.51it/s]\n",
      "Training Epoch 497: 100%|██████████| 370/370 [00:04<00:00, 78.67it/s]\n",
      "Training Epoch 498: 100%|██████████| 370/370 [00:04<00:00, 77.85it/s]\n",
      "Training Epoch 499: 100%|██████████| 370/370 [00:04<00:00, 78.87it/s]\n",
      "Training Epoch 500: 100%|██████████| 370/370 [00:04<00:00, 75.30it/s]\n",
      "Training Epoch 501: 100%|██████████| 370/370 [00:04<00:00, 76.99it/s]\n"
     ]
    },
    {
     "name": "stdout",
     "output_type": "stream",
     "text": [
      "Epoch 500 - Train Loss: 0.4446, Train MSE: 0.4430, Train MAE: 0.4276\n",
      "Epoch 500 - Validation Loss: 1.6405, Validation MSE: 1.6425, Validation MAE: 0.9536\n"
     ]
    },
    {
     "name": "stderr",
     "output_type": "stream",
     "text": [
      "Training Epoch 502: 100%|██████████| 370/370 [00:04<00:00, 78.46it/s]\n",
      "Training Epoch 503: 100%|██████████| 370/370 [00:04<00:00, 76.32it/s]\n",
      "Training Epoch 504: 100%|██████████| 370/370 [00:04<00:00, 79.31it/s]\n",
      "Training Epoch 505: 100%|██████████| 370/370 [00:04<00:00, 76.51it/s]\n",
      "Training Epoch 506: 100%|██████████| 370/370 [00:04<00:00, 77.03it/s]\n",
      "Training Epoch 507: 100%|██████████| 370/370 [00:04<00:00, 79.19it/s]\n",
      "Training Epoch 508: 100%|██████████| 370/370 [00:04<00:00, 75.44it/s]\n",
      "Training Epoch 509: 100%|██████████| 370/370 [00:04<00:00, 77.85it/s]\n",
      "Training Epoch 510: 100%|██████████| 370/370 [00:04<00:00, 78.60it/s]\n",
      "Training Epoch 511: 100%|██████████| 370/370 [00:04<00:00, 76.58it/s]\n"
     ]
    },
    {
     "name": "stdout",
     "output_type": "stream",
     "text": [
      "Epoch 510 - Train Loss: 0.4318, Train MSE: 0.4327, Train MAE: 0.4229\n",
      "Epoch 510 - Validation Loss: 1.6461, Validation MSE: 1.6479, Validation MAE: 0.9550\n"
     ]
    },
    {
     "name": "stderr",
     "output_type": "stream",
     "text": [
      "Training Epoch 512: 100%|██████████| 370/370 [00:04<00:00, 77.47it/s]\n",
      "Training Epoch 513: 100%|██████████| 370/370 [00:04<00:00, 78.87it/s]\n",
      "Training Epoch 514: 100%|██████████| 370/370 [00:04<00:00, 76.43it/s]\n",
      "Training Epoch 515: 100%|██████████| 370/370 [00:04<00:00, 77.59it/s]\n",
      "Training Epoch 516: 100%|██████████| 370/370 [00:04<00:00, 77.82it/s]\n",
      "Training Epoch 517: 100%|██████████| 370/370 [00:04<00:00, 87.99it/s]\n",
      "Training Epoch 518: 100%|██████████| 370/370 [00:04<00:00, 80.48it/s]\n",
      "Training Epoch 519: 100%|██████████| 370/370 [00:04<00:00, 83.74it/s]\n",
      "Training Epoch 520: 100%|██████████| 370/370 [00:04<00:00, 84.75it/s]\n",
      "Training Epoch 521: 100%|██████████| 370/370 [00:04<00:00, 79.02it/s]\n"
     ]
    },
    {
     "name": "stdout",
     "output_type": "stream",
     "text": [
      "Epoch 520 - Train Loss: 0.4334, Train MSE: 0.4317, Train MAE: 0.4207\n",
      "Epoch 520 - Validation Loss: 1.6186, Validation MSE: 1.6204, Validation MAE: 0.9454\n"
     ]
    },
    {
     "name": "stderr",
     "output_type": "stream",
     "text": [
      "Training Epoch 522: 100%|██████████| 370/370 [00:04<00:00, 79.08it/s]\n",
      "Training Epoch 523: 100%|██████████| 370/370 [00:04<00:00, 80.38it/s]\n",
      "Training Epoch 524: 100%|██████████| 370/370 [00:04<00:00, 84.27it/s]\n",
      "Training Epoch 525: 100%|██████████| 370/370 [00:04<00:00, 82.67it/s]\n",
      "Training Epoch 526: 100%|██████████| 370/370 [00:04<00:00, 80.03it/s]\n",
      "Training Epoch 527: 100%|██████████| 370/370 [00:04<00:00, 87.26it/s]\n",
      "Training Epoch 528: 100%|██████████| 370/370 [00:04<00:00, 83.80it/s]\n",
      "Training Epoch 529: 100%|██████████| 370/370 [00:04<00:00, 81.96it/s]\n",
      "Training Epoch 530: 100%|██████████| 370/370 [00:04<00:00, 86.74it/s]\n",
      "Training Epoch 531: 100%|██████████| 370/370 [00:04<00:00, 87.77it/s]\n"
     ]
    },
    {
     "name": "stdout",
     "output_type": "stream",
     "text": [
      "Epoch 530 - Train Loss: 0.4362, Train MSE: 0.4370, Train MAE: 0.4259\n",
      "Epoch 530 - Validation Loss: 1.5734, Validation MSE: 1.5758, Validation MAE: 0.9320\n"
     ]
    },
    {
     "name": "stderr",
     "output_type": "stream",
     "text": [
      "Training Epoch 532: 100%|██████████| 370/370 [00:04<00:00, 86.57it/s]\n",
      "Training Epoch 533: 100%|██████████| 370/370 [00:04<00:00, 88.30it/s]\n",
      "Training Epoch 534: 100%|██████████| 370/370 [00:04<00:00, 88.15it/s]\n",
      "Training Epoch 535: 100%|██████████| 370/370 [00:04<00:00, 85.75it/s]\n",
      "Training Epoch 536: 100%|██████████| 370/370 [00:04<00:00, 88.49it/s]\n",
      "Training Epoch 537: 100%|██████████| 370/370 [00:04<00:00, 86.65it/s]\n",
      "Training Epoch 538: 100%|██████████| 370/370 [00:04<00:00, 86.37it/s]\n",
      "Training Epoch 539: 100%|██████████| 370/370 [00:04<00:00, 87.66it/s]\n",
      "Training Epoch 540: 100%|██████████| 370/370 [00:04<00:00, 88.34it/s]\n",
      "Training Epoch 541: 100%|██████████| 370/370 [00:04<00:00, 87.16it/s]\n"
     ]
    },
    {
     "name": "stdout",
     "output_type": "stream",
     "text": [
      "Epoch 540 - Train Loss: 0.4305, Train MSE: 0.4311, Train MAE: 0.4212\n",
      "Epoch 540 - Validation Loss: 1.6470, Validation MSE: 1.6498, Validation MAE: 0.9523\n"
     ]
    },
    {
     "name": "stderr",
     "output_type": "stream",
     "text": [
      "Training Epoch 542: 100%|██████████| 370/370 [00:04<00:00, 83.80it/s]\n",
      "Training Epoch 543: 100%|██████████| 370/370 [00:04<00:00, 81.44it/s]\n",
      "Training Epoch 544: 100%|██████████| 370/370 [00:04<00:00, 83.88it/s]\n",
      "Training Epoch 545: 100%|██████████| 370/370 [00:04<00:00, 81.58it/s]\n",
      "Training Epoch 546: 100%|██████████| 370/370 [00:04<00:00, 81.72it/s]\n",
      "Training Epoch 547: 100%|██████████| 370/370 [00:04<00:00, 88.70it/s]\n",
      "Training Epoch 548: 100%|██████████| 370/370 [00:04<00:00, 88.42it/s]\n",
      "Training Epoch 549: 100%|██████████| 370/370 [00:04<00:00, 91.61it/s]\n",
      "Training Epoch 550: 100%|██████████| 370/370 [00:04<00:00, 90.68it/s]\n",
      "Training Epoch 551: 100%|██████████| 370/370 [00:04<00:00, 90.07it/s]\n"
     ]
    },
    {
     "name": "stdout",
     "output_type": "stream",
     "text": [
      "Epoch 550 - Train Loss: 0.4263, Train MSE: 0.4271, Train MAE: 0.4201\n",
      "Epoch 550 - Validation Loss: 1.5733, Validation MSE: 1.5758, Validation MAE: 0.9282\n"
     ]
    },
    {
     "name": "stderr",
     "output_type": "stream",
     "text": [
      "Training Epoch 552: 100%|██████████| 370/370 [00:04<00:00, 90.10it/s]\n",
      "Training Epoch 553: 100%|██████████| 370/370 [00:04<00:00, 88.91it/s]\n",
      "Training Epoch 554: 100%|██████████| 370/370 [00:04<00:00, 89.09it/s]\n",
      "Training Epoch 555: 100%|██████████| 370/370 [00:04<00:00, 89.78it/s]\n",
      "Training Epoch 556: 100%|██████████| 370/370 [00:04<00:00, 89.16it/s]\n",
      "Training Epoch 557: 100%|██████████| 370/370 [00:04<00:00, 90.08it/s]\n",
      "Training Epoch 558: 100%|██████████| 370/370 [00:04<00:00, 88.67it/s]\n",
      "Training Epoch 559: 100%|██████████| 370/370 [00:04<00:00, 90.47it/s]\n",
      "Training Epoch 560: 100%|██████████| 370/370 [00:04<00:00, 90.69it/s]\n",
      "Training Epoch 561: 100%|██████████| 370/370 [00:04<00:00, 91.65it/s]\n"
     ]
    },
    {
     "name": "stdout",
     "output_type": "stream",
     "text": [
      "Epoch 560 - Train Loss: 0.4268, Train MSE: 0.4271, Train MAE: 0.4165\n",
      "Epoch 560 - Validation Loss: 1.6426, Validation MSE: 1.6450, Validation MAE: 0.9516\n"
     ]
    },
    {
     "name": "stderr",
     "output_type": "stream",
     "text": [
      "Training Epoch 562: 100%|██████████| 370/370 [00:04<00:00, 90.39it/s]\n",
      "Training Epoch 563: 100%|██████████| 370/370 [00:04<00:00, 90.41it/s]\n",
      "Training Epoch 564: 100%|██████████| 370/370 [00:04<00:00, 89.55it/s]\n",
      "Training Epoch 565: 100%|██████████| 370/370 [00:04<00:00, 88.43it/s]\n",
      "Training Epoch 566: 100%|██████████| 370/370 [00:04<00:00, 87.82it/s]\n",
      "Training Epoch 567: 100%|██████████| 370/370 [00:04<00:00, 89.45it/s]\n",
      "Training Epoch 568: 100%|██████████| 370/370 [00:04<00:00, 89.15it/s]\n",
      "Training Epoch 569: 100%|██████████| 370/370 [00:04<00:00, 88.99it/s]\n",
      "Training Epoch 570: 100%|██████████| 370/370 [00:04<00:00, 89.95it/s]\n",
      "Training Epoch 571: 100%|██████████| 370/370 [00:04<00:00, 89.09it/s]\n"
     ]
    },
    {
     "name": "stdout",
     "output_type": "stream",
     "text": [
      "Epoch 570 - Train Loss: 0.4191, Train MSE: 0.4196, Train MAE: 0.4096\n",
      "Epoch 570 - Validation Loss: 1.6252, Validation MSE: 1.6281, Validation MAE: 0.9536\n"
     ]
    },
    {
     "name": "stderr",
     "output_type": "stream",
     "text": [
      "Training Epoch 572: 100%|██████████| 370/370 [00:04<00:00, 88.87it/s]\n",
      "Training Epoch 573: 100%|██████████| 370/370 [00:04<00:00, 90.46it/s]\n",
      "Training Epoch 574: 100%|██████████| 370/370 [00:04<00:00, 90.83it/s]\n",
      "Training Epoch 575: 100%|██████████| 370/370 [00:04<00:00, 88.89it/s]\n",
      "Training Epoch 576: 100%|██████████| 370/370 [00:04<00:00, 89.11it/s]\n",
      "Training Epoch 577: 100%|██████████| 370/370 [00:04<00:00, 89.56it/s]\n",
      "Training Epoch 578: 100%|██████████| 370/370 [00:04<00:00, 90.85it/s]\n",
      "Training Epoch 579: 100%|██████████| 370/370 [00:04<00:00, 89.07it/s]\n",
      "Training Epoch 580: 100%|██████████| 370/370 [00:04<00:00, 89.90it/s]\n",
      "Training Epoch 581: 100%|██████████| 370/370 [00:04<00:00, 88.72it/s]\n"
     ]
    },
    {
     "name": "stdout",
     "output_type": "stream",
     "text": [
      "Epoch 580 - Train Loss: 0.4218, Train MSE: 0.4209, Train MAE: 0.4105\n",
      "Epoch 580 - Validation Loss: 1.5983, Validation MSE: 1.6000, Validation MAE: 0.9393\n"
     ]
    },
    {
     "name": "stderr",
     "output_type": "stream",
     "text": [
      "Training Epoch 582: 100%|██████████| 370/370 [00:04<00:00, 90.23it/s]\n",
      "Training Epoch 583: 100%|██████████| 370/370 [00:04<00:00, 89.18it/s]\n",
      "Training Epoch 584: 100%|██████████| 370/370 [00:04<00:00, 89.31it/s]\n",
      "Training Epoch 585: 100%|██████████| 370/370 [00:04<00:00, 86.95it/s]\n",
      "Training Epoch 586: 100%|██████████| 370/370 [00:04<00:00, 90.03it/s]\n",
      "Training Epoch 587: 100%|██████████| 370/370 [00:04<00:00, 89.19it/s]\n",
      "Training Epoch 588: 100%|██████████| 370/370 [00:04<00:00, 88.57it/s]\n",
      "Training Epoch 589: 100%|██████████| 370/370 [00:04<00:00, 88.03it/s]\n",
      "Training Epoch 590: 100%|██████████| 370/370 [00:04<00:00, 91.20it/s]\n",
      "Training Epoch 591: 100%|██████████| 370/370 [00:04<00:00, 88.67it/s]\n"
     ]
    },
    {
     "name": "stdout",
     "output_type": "stream",
     "text": [
      "Epoch 590 - Train Loss: 0.4195, Train MSE: 0.4174, Train MAE: 0.4112\n",
      "Epoch 590 - Validation Loss: 1.5634, Validation MSE: 1.5659, Validation MAE: 0.9285\n"
     ]
    },
    {
     "name": "stderr",
     "output_type": "stream",
     "text": [
      "Training Epoch 592: 100%|██████████| 370/370 [00:04<00:00, 89.82it/s]\n",
      "Training Epoch 593: 100%|██████████| 370/370 [00:04<00:00, 91.02it/s]\n",
      "Training Epoch 594: 100%|██████████| 370/370 [00:04<00:00, 87.82it/s]\n",
      "Training Epoch 595: 100%|██████████| 370/370 [00:04<00:00, 89.85it/s]\n",
      "Training Epoch 596: 100%|██████████| 370/370 [00:04<00:00, 90.84it/s]\n",
      "Training Epoch 597: 100%|██████████| 370/370 [00:04<00:00, 90.59it/s]\n",
      "Training Epoch 598: 100%|██████████| 370/370 [00:04<00:00, 87.63it/s]\n",
      "Training Epoch 599: 100%|██████████| 370/370 [00:04<00:00, 88.93it/s]\n",
      "Training Epoch 600: 100%|██████████| 370/370 [00:04<00:00, 89.75it/s]\n",
      "Training Epoch 601: 100%|██████████| 370/370 [00:04<00:00, 90.22it/s]\n"
     ]
    },
    {
     "name": "stdout",
     "output_type": "stream",
     "text": [
      "Epoch 600 - Train Loss: 0.4236, Train MSE: 0.4242, Train MAE: 0.4146\n",
      "Epoch 600 - Validation Loss: 1.6080, Validation MSE: 1.6106, Validation MAE: 0.9323\n"
     ]
    },
    {
     "name": "stderr",
     "output_type": "stream",
     "text": [
      "Training Epoch 602: 100%|██████████| 370/370 [00:04<00:00, 87.96it/s]\n",
      "Training Epoch 603: 100%|██████████| 370/370 [00:04<00:00, 89.08it/s]\n",
      "Training Epoch 604: 100%|██████████| 370/370 [00:04<00:00, 88.85it/s]\n",
      "Training Epoch 605: 100%|██████████| 370/370 [00:04<00:00, 82.16it/s]\n",
      "Training Epoch 606: 100%|██████████| 370/370 [00:04<00:00, 89.76it/s]\n",
      "Training Epoch 607: 100%|██████████| 370/370 [00:04<00:00, 89.87it/s]\n",
      "Training Epoch 608: 100%|██████████| 370/370 [00:04<00:00, 89.64it/s]\n",
      "Training Epoch 609: 100%|██████████| 370/370 [00:04<00:00, 87.98it/s]\n",
      "Training Epoch 610: 100%|██████████| 370/370 [00:04<00:00, 88.91it/s]\n",
      "Training Epoch 611: 100%|██████████| 370/370 [00:04<00:00, 88.15it/s]\n"
     ]
    },
    {
     "name": "stdout",
     "output_type": "stream",
     "text": [
      "Epoch 610 - Train Loss: 0.4160, Train MSE: 0.4166, Train MAE: 0.4119\n",
      "Epoch 610 - Validation Loss: 1.6636, Validation MSE: 1.6661, Validation MAE: 0.9604\n"
     ]
    },
    {
     "name": "stderr",
     "output_type": "stream",
     "text": [
      "Training Epoch 612: 100%|██████████| 370/370 [00:04<00:00, 87.68it/s]\n",
      "Training Epoch 613: 100%|██████████| 370/370 [00:04<00:00, 89.36it/s]\n",
      "Training Epoch 614: 100%|██████████| 370/370 [00:04<00:00, 90.42it/s]\n",
      "Training Epoch 615: 100%|██████████| 370/370 [00:04<00:00, 91.30it/s]\n",
      "Training Epoch 616: 100%|██████████| 370/370 [00:04<00:00, 90.44it/s]\n",
      "Training Epoch 617: 100%|██████████| 370/370 [00:04<00:00, 88.34it/s]\n",
      "Training Epoch 618: 100%|██████████| 370/370 [00:04<00:00, 89.14it/s]\n",
      "Training Epoch 619: 100%|██████████| 370/370 [00:04<00:00, 91.46it/s]\n",
      "Training Epoch 620: 100%|██████████| 370/370 [00:04<00:00, 89.85it/s]\n",
      "Training Epoch 621: 100%|██████████| 370/370 [00:04<00:00, 89.84it/s]\n"
     ]
    },
    {
     "name": "stdout",
     "output_type": "stream",
     "text": [
      "Epoch 620 - Train Loss: 0.4126, Train MSE: 0.4131, Train MAE: 0.4090\n",
      "Epoch 620 - Validation Loss: 1.6087, Validation MSE: 1.6112, Validation MAE: 0.9400\n"
     ]
    },
    {
     "name": "stderr",
     "output_type": "stream",
     "text": [
      "Training Epoch 622: 100%|██████████| 370/370 [00:04<00:00, 90.04it/s]\n",
      "Training Epoch 623: 100%|██████████| 370/370 [00:04<00:00, 88.26it/s]\n",
      "Training Epoch 624: 100%|██████████| 370/370 [00:04<00:00, 87.99it/s]\n",
      "Training Epoch 625: 100%|██████████| 370/370 [00:04<00:00, 90.30it/s]\n",
      "Training Epoch 626: 100%|██████████| 370/370 [00:04<00:00, 90.82it/s]\n",
      "Training Epoch 627: 100%|██████████| 370/370 [00:04<00:00, 90.07it/s]\n",
      "Training Epoch 628: 100%|██████████| 370/370 [00:04<00:00, 89.90it/s]\n",
      "Training Epoch 629: 100%|██████████| 370/370 [00:04<00:00, 88.75it/s]\n",
      "Training Epoch 630: 100%|██████████| 370/370 [00:04<00:00, 90.72it/s]\n",
      "Training Epoch 631: 100%|██████████| 370/370 [00:04<00:00, 89.48it/s]\n"
     ]
    },
    {
     "name": "stdout",
     "output_type": "stream",
     "text": [
      "Epoch 630 - Train Loss: 0.4125, Train MSE: 0.4122, Train MAE: 0.4087\n",
      "Epoch 630 - Validation Loss: 1.5788, Validation MSE: 1.5811, Validation MAE: 0.9358\n"
     ]
    },
    {
     "name": "stderr",
     "output_type": "stream",
     "text": [
      "Training Epoch 632: 100%|██████████| 370/370 [00:04<00:00, 88.06it/s]\n",
      "Training Epoch 633: 100%|██████████| 370/370 [00:04<00:00, 88.11it/s]\n",
      "Training Epoch 634: 100%|██████████| 370/370 [00:04<00:00, 91.11it/s]\n",
      "Training Epoch 635: 100%|██████████| 370/370 [00:04<00:00, 89.43it/s]\n",
      "Training Epoch 636: 100%|██████████| 370/370 [00:04<00:00, 89.58it/s]\n",
      "Training Epoch 637: 100%|██████████| 370/370 [00:04<00:00, 90.16it/s]\n",
      "Training Epoch 638: 100%|██████████| 370/370 [00:04<00:00, 88.71it/s]\n",
      "Training Epoch 639: 100%|██████████| 370/370 [00:04<00:00, 87.88it/s]\n",
      "Training Epoch 640: 100%|██████████| 370/370 [00:04<00:00, 91.03it/s]\n",
      "Training Epoch 641: 100%|██████████| 370/370 [00:04<00:00, 91.26it/s]\n"
     ]
    },
    {
     "name": "stdout",
     "output_type": "stream",
     "text": [
      "Epoch 640 - Train Loss: 0.4094, Train MSE: 0.4076, Train MAE: 0.4059\n",
      "Epoch 640 - Validation Loss: 1.5573, Validation MSE: 1.5597, Validation MAE: 0.9317\n"
     ]
    },
    {
     "name": "stderr",
     "output_type": "stream",
     "text": [
      "Training Epoch 642: 100%|██████████| 370/370 [00:04<00:00, 89.84it/s]\n",
      "Training Epoch 643: 100%|██████████| 370/370 [00:04<00:00, 89.35it/s]\n",
      "Training Epoch 644: 100%|██████████| 370/370 [00:04<00:00, 89.06it/s]\n",
      "Training Epoch 645: 100%|██████████| 370/370 [00:04<00:00, 89.53it/s]\n",
      "Training Epoch 646: 100%|██████████| 370/370 [00:04<00:00, 88.90it/s]\n",
      "Training Epoch 647: 100%|██████████| 370/370 [00:04<00:00, 88.83it/s]\n",
      "Training Epoch 648: 100%|██████████| 370/370 [00:04<00:00, 89.71it/s]\n",
      "Training Epoch 649: 100%|██████████| 370/370 [00:04<00:00, 91.37it/s]\n",
      "Training Epoch 650: 100%|██████████| 370/370 [00:04<00:00, 88.62it/s]\n",
      "Training Epoch 651: 100%|██████████| 370/370 [00:04<00:00, 89.07it/s]\n"
     ]
    },
    {
     "name": "stdout",
     "output_type": "stream",
     "text": [
      "Epoch 650 - Train Loss: 0.4118, Train MSE: 0.4098, Train MAE: 0.4058\n",
      "Epoch 650 - Validation Loss: 1.5832, Validation MSE: 1.5856, Validation MAE: 0.9309\n"
     ]
    },
    {
     "name": "stderr",
     "output_type": "stream",
     "text": [
      "Training Epoch 652: 100%|██████████| 370/370 [00:04<00:00, 88.63it/s]\n",
      "Training Epoch 653: 100%|██████████| 370/370 [00:04<00:00, 89.09it/s]\n",
      "Training Epoch 654: 100%|██████████| 370/370 [00:04<00:00, 89.23it/s]\n",
      "Training Epoch 655: 100%|██████████| 370/370 [00:04<00:00, 90.63it/s]\n",
      "Training Epoch 656: 100%|██████████| 370/370 [00:04<00:00, 89.08it/s]\n",
      "Training Epoch 657: 100%|██████████| 370/370 [00:04<00:00, 89.41it/s]\n",
      "Training Epoch 658: 100%|██████████| 370/370 [00:04<00:00, 89.88it/s]\n",
      "Training Epoch 659: 100%|██████████| 370/370 [00:04<00:00, 89.84it/s]\n",
      "Training Epoch 660: 100%|██████████| 370/370 [00:04<00:00, 88.63it/s]\n",
      "Training Epoch 661: 100%|██████████| 370/370 [00:04<00:00, 89.31it/s]\n"
     ]
    },
    {
     "name": "stdout",
     "output_type": "stream",
     "text": [
      "Epoch 660 - Train Loss: 0.4041, Train MSE: 0.4050, Train MAE: 0.4035\n",
      "Epoch 660 - Validation Loss: 1.5871, Validation MSE: 1.5894, Validation MAE: 0.9352\n"
     ]
    },
    {
     "name": "stderr",
     "output_type": "stream",
     "text": [
      "Training Epoch 662: 100%|██████████| 370/370 [00:04<00:00, 89.67it/s]\n",
      "Training Epoch 663: 100%|██████████| 370/370 [00:04<00:00, 90.97it/s]\n",
      "Training Epoch 664: 100%|██████████| 370/370 [00:04<00:00, 90.37it/s]\n",
      "Training Epoch 665: 100%|██████████| 370/370 [00:04<00:00, 88.86it/s]\n",
      "Training Epoch 666: 100%|██████████| 370/370 [00:04<00:00, 89.34it/s]\n",
      "Training Epoch 667: 100%|██████████| 370/370 [00:04<00:00, 87.64it/s]\n",
      "Training Epoch 668: 100%|██████████| 370/370 [00:04<00:00, 89.56it/s]\n",
      "Training Epoch 669: 100%|██████████| 370/370 [00:04<00:00, 89.72it/s]\n",
      "Training Epoch 670: 100%|██████████| 370/370 [00:04<00:00, 89.53it/s]\n",
      "Training Epoch 671: 100%|██████████| 370/370 [00:04<00:00, 89.86it/s]\n"
     ]
    },
    {
     "name": "stdout",
     "output_type": "stream",
     "text": [
      "Epoch 670 - Train Loss: 0.4006, Train MSE: 0.4006, Train MAE: 0.4021\n",
      "Epoch 670 - Validation Loss: 1.6150, Validation MSE: 1.6183, Validation MAE: 0.9474\n"
     ]
    },
    {
     "name": "stderr",
     "output_type": "stream",
     "text": [
      "Training Epoch 672: 100%|██████████| 370/370 [00:04<00:00, 89.17it/s]\n",
      "Training Epoch 673: 100%|██████████| 370/370 [00:04<00:00, 87.98it/s]\n",
      "Training Epoch 674: 100%|██████████| 370/370 [00:04<00:00, 89.34it/s]\n",
      "Training Epoch 675: 100%|██████████| 370/370 [00:04<00:00, 89.19it/s]\n",
      "Training Epoch 676: 100%|██████████| 370/370 [00:04<00:00, 88.55it/s]\n",
      "Training Epoch 677: 100%|██████████| 370/370 [00:04<00:00, 88.05it/s]\n",
      "Training Epoch 678: 100%|██████████| 370/370 [00:04<00:00, 89.39it/s]\n",
      "Training Epoch 679: 100%|██████████| 370/370 [00:04<00:00, 89.13it/s]\n",
      "Training Epoch 680: 100%|██████████| 370/370 [00:04<00:00, 88.92it/s]\n",
      "Training Epoch 681: 100%|██████████| 370/370 [00:04<00:00, 87.79it/s]\n"
     ]
    },
    {
     "name": "stdout",
     "output_type": "stream",
     "text": [
      "Epoch 680 - Train Loss: 0.4106, Train MSE: 0.4102, Train MAE: 0.4058\n",
      "Epoch 680 - Validation Loss: 1.5593, Validation MSE: 1.5618, Validation MAE: 0.9333\n"
     ]
    },
    {
     "name": "stderr",
     "output_type": "stream",
     "text": [
      "Training Epoch 682: 100%|██████████| 370/370 [00:04<00:00, 89.24it/s]\n",
      "Training Epoch 683: 100%|██████████| 370/370 [00:04<00:00, 89.60it/s]\n",
      "Training Epoch 684: 100%|██████████| 370/370 [00:04<00:00, 89.15it/s]\n",
      "Training Epoch 685: 100%|██████████| 370/370 [00:04<00:00, 90.18it/s]\n",
      "Training Epoch 686: 100%|██████████| 370/370 [00:03<00:00, 92.62it/s]\n",
      "Training Epoch 687: 100%|██████████| 370/370 [00:04<00:00, 89.94it/s]\n",
      "Training Epoch 688: 100%|██████████| 370/370 [00:04<00:00, 90.16it/s]\n",
      "Training Epoch 689: 100%|██████████| 370/370 [00:04<00:00, 88.89it/s]\n",
      "Training Epoch 690: 100%|██████████| 370/370 [00:04<00:00, 90.47it/s]\n",
      "Training Epoch 691: 100%|██████████| 370/370 [00:04<00:00, 88.13it/s]\n"
     ]
    },
    {
     "name": "stdout",
     "output_type": "stream",
     "text": [
      "Epoch 690 - Train Loss: 0.3938, Train MSE: 0.3943, Train MAE: 0.3955\n",
      "Epoch 690 - Validation Loss: 1.5734, Validation MSE: 1.5757, Validation MAE: 0.9318\n"
     ]
    },
    {
     "name": "stderr",
     "output_type": "stream",
     "text": [
      "Training Epoch 692: 100%|██████████| 370/370 [00:04<00:00, 89.85it/s]\n",
      "Training Epoch 693: 100%|██████████| 370/370 [00:04<00:00, 90.37it/s]\n",
      "Training Epoch 694: 100%|██████████| 370/370 [00:04<00:00, 89.28it/s]\n",
      "Training Epoch 695: 100%|██████████| 370/370 [00:04<00:00, 88.58it/s]\n",
      "Training Epoch 696: 100%|██████████| 370/370 [00:04<00:00, 90.86it/s]\n",
      "Training Epoch 697: 100%|██████████| 370/370 [00:04<00:00, 88.65it/s]\n",
      "Training Epoch 698: 100%|██████████| 370/370 [00:04<00:00, 89.82it/s]\n",
      "Training Epoch 699: 100%|██████████| 370/370 [00:04<00:00, 88.13it/s]\n",
      "Training Epoch 700: 100%|██████████| 370/370 [00:04<00:00, 88.61it/s]\n",
      "Training Epoch 701: 100%|██████████| 370/370 [00:04<00:00, 89.81it/s]\n"
     ]
    },
    {
     "name": "stdout",
     "output_type": "stream",
     "text": [
      "Epoch 700 - Train Loss: 0.4013, Train MSE: 0.3987, Train MAE: 0.3992\n",
      "Epoch 700 - Validation Loss: 1.5874, Validation MSE: 1.5898, Validation MAE: 0.9304\n"
     ]
    },
    {
     "name": "stderr",
     "output_type": "stream",
     "text": [
      "Training Epoch 702: 100%|██████████| 370/370 [00:04<00:00, 87.82it/s]\n",
      "Training Epoch 703: 100%|██████████| 370/370 [00:04<00:00, 90.88it/s]\n",
      "Training Epoch 704: 100%|██████████| 370/370 [00:04<00:00, 90.20it/s]\n",
      "Training Epoch 705: 100%|██████████| 370/370 [00:04<00:00, 90.01it/s]\n",
      "Training Epoch 706: 100%|██████████| 370/370 [00:04<00:00, 89.26it/s]\n",
      "Training Epoch 707: 100%|██████████| 370/370 [00:04<00:00, 89.65it/s]\n",
      "Training Epoch 708: 100%|██████████| 370/370 [00:04<00:00, 88.72it/s]\n",
      "Training Epoch 709: 100%|██████████| 370/370 [00:04<00:00, 87.95it/s]\n",
      "Training Epoch 710: 100%|██████████| 370/370 [00:04<00:00, 86.92it/s]\n",
      "Training Epoch 711: 100%|██████████| 370/370 [00:04<00:00, 88.69it/s]\n"
     ]
    },
    {
     "name": "stdout",
     "output_type": "stream",
     "text": [
      "Epoch 710 - Train Loss: 0.4036, Train MSE: 0.4032, Train MAE: 0.4016\n",
      "Epoch 710 - Validation Loss: 1.5740, Validation MSE: 1.5760, Validation MAE: 0.9310\n"
     ]
    },
    {
     "name": "stderr",
     "output_type": "stream",
     "text": [
      "Training Epoch 712: 100%|██████████| 370/370 [00:04<00:00, 88.89it/s]\n",
      "Training Epoch 713: 100%|██████████| 370/370 [00:04<00:00, 91.10it/s]\n",
      "Training Epoch 714: 100%|██████████| 370/370 [00:04<00:00, 88.41it/s]\n",
      "Training Epoch 715: 100%|██████████| 370/370 [00:04<00:00, 88.70it/s]\n",
      "Training Epoch 716: 100%|██████████| 370/370 [00:04<00:00, 87.99it/s]\n",
      "Training Epoch 717: 100%|██████████| 370/370 [00:04<00:00, 86.98it/s]\n",
      "Training Epoch 718: 100%|██████████| 370/370 [00:04<00:00, 90.19it/s]\n",
      "Training Epoch 719: 100%|██████████| 370/370 [00:04<00:00, 89.14it/s]\n",
      "Training Epoch 720: 100%|██████████| 370/370 [00:04<00:00, 89.69it/s]\n",
      "Training Epoch 721: 100%|██████████| 370/370 [00:04<00:00, 89.17it/s]\n"
     ]
    },
    {
     "name": "stdout",
     "output_type": "stream",
     "text": [
      "Epoch 720 - Train Loss: 0.3978, Train MSE: 0.3986, Train MAE: 0.3964\n",
      "Epoch 720 - Validation Loss: 1.5733, Validation MSE: 1.5751, Validation MAE: 0.9326\n"
     ]
    },
    {
     "name": "stderr",
     "output_type": "stream",
     "text": [
      "Training Epoch 722: 100%|██████████| 370/370 [00:04<00:00, 89.40it/s]\n",
      "Training Epoch 723: 100%|██████████| 370/370 [00:04<00:00, 86.36it/s]\n",
      "Training Epoch 724: 100%|██████████| 370/370 [00:04<00:00, 87.50it/s]\n",
      "Training Epoch 725: 100%|██████████| 370/370 [00:04<00:00, 86.57it/s]\n",
      "Training Epoch 726: 100%|██████████| 370/370 [00:04<00:00, 83.92it/s]\n",
      "Training Epoch 727: 100%|██████████| 370/370 [00:04<00:00, 88.74it/s] \n",
      "Training Epoch 728: 100%|██████████| 370/370 [00:04<00:00, 89.92it/s]\n",
      "Training Epoch 729: 100%|██████████| 370/370 [00:04<00:00, 89.77it/s]\n",
      "Training Epoch 730: 100%|██████████| 370/370 [00:04<00:00, 90.12it/s]\n",
      "Training Epoch 731: 100%|██████████| 370/370 [00:04<00:00, 84.04it/s]\n"
     ]
    },
    {
     "name": "stdout",
     "output_type": "stream",
     "text": [
      "Epoch 730 - Train Loss: 0.3924, Train MSE: 0.3930, Train MAE: 0.3953\n",
      "Epoch 730 - Validation Loss: 1.5589, Validation MSE: 1.5607, Validation MAE: 0.9303\n"
     ]
    },
    {
     "name": "stderr",
     "output_type": "stream",
     "text": [
      "Training Epoch 732: 100%|██████████| 370/370 [00:04<00:00, 88.15it/s]\n",
      "Training Epoch 733: 100%|██████████| 370/370 [00:04<00:00, 89.32it/s]\n",
      "Training Epoch 734: 100%|██████████| 370/370 [00:04<00:00, 90.10it/s]\n",
      "Training Epoch 735: 100%|██████████| 370/370 [00:04<00:00, 87.93it/s]\n",
      "Training Epoch 736: 100%|██████████| 370/370 [00:04<00:00, 90.13it/s]\n",
      "Training Epoch 737: 100%|██████████| 370/370 [00:04<00:00, 88.56it/s]\n",
      "Training Epoch 738: 100%|██████████| 370/370 [00:04<00:00, 91.36it/s]\n",
      "Training Epoch 739: 100%|██████████| 370/370 [00:04<00:00, 84.88it/s]\n",
      "Training Epoch 740: 100%|██████████| 370/370 [00:04<00:00, 90.72it/s]\n",
      "Training Epoch 741: 100%|██████████| 370/370 [00:04<00:00, 87.08it/s]\n"
     ]
    },
    {
     "name": "stdout",
     "output_type": "stream",
     "text": [
      "Epoch 740 - Train Loss: 0.3885, Train MSE: 0.3878, Train MAE: 0.3935\n",
      "Epoch 740 - Validation Loss: 1.5584, Validation MSE: 1.5599, Validation MAE: 0.9322\n"
     ]
    },
    {
     "name": "stderr",
     "output_type": "stream",
     "text": [
      "Training Epoch 742: 100%|██████████| 370/370 [00:04<00:00, 90.35it/s]\n",
      "Training Epoch 743: 100%|██████████| 370/370 [00:04<00:00, 90.16it/s]\n",
      "Training Epoch 744: 100%|██████████| 370/370 [00:04<00:00, 90.57it/s]\n",
      "Training Epoch 745: 100%|██████████| 370/370 [00:04<00:00, 91.05it/s] \n",
      "Training Epoch 746: 100%|██████████| 370/370 [00:04<00:00, 88.66it/s]\n",
      "Training Epoch 747: 100%|██████████| 370/370 [00:04<00:00, 89.52it/s]\n",
      "Training Epoch 748: 100%|██████████| 370/370 [00:04<00:00, 90.50it/s]\n",
      "Training Epoch 749: 100%|██████████| 370/370 [00:03<00:00, 93.03it/s] \n",
      "Training Epoch 750: 100%|██████████| 370/370 [00:03<00:00, 93.21it/s]\n",
      "Training Epoch 751: 100%|██████████| 370/370 [00:04<00:00, 86.12it/s]\n"
     ]
    },
    {
     "name": "stdout",
     "output_type": "stream",
     "text": [
      "Epoch 750 - Train Loss: 0.3879, Train MSE: 0.3885, Train MAE: 0.3915\n",
      "Epoch 750 - Validation Loss: 1.5731, Validation MSE: 1.5751, Validation MAE: 0.9350\n"
     ]
    },
    {
     "name": "stderr",
     "output_type": "stream",
     "text": [
      "Training Epoch 752: 100%|██████████| 370/370 [00:03<00:00, 93.06it/s]\n",
      "Training Epoch 753: 100%|██████████| 370/370 [00:04<00:00, 92.23it/s]\n",
      "Training Epoch 754: 100%|██████████| 370/370 [00:04<00:00, 88.00it/s]\n",
      "Training Epoch 755: 100%|██████████| 370/370 [00:04<00:00, 90.39it/s]\n",
      "Training Epoch 756: 100%|██████████| 370/370 [00:04<00:00, 88.72it/s]\n",
      "Training Epoch 757: 100%|██████████| 370/370 [00:04<00:00, 89.39it/s]\n",
      "Training Epoch 758: 100%|██████████| 370/370 [00:04<00:00, 89.80it/s]\n",
      "Training Epoch 759: 100%|██████████| 370/370 [00:04<00:00, 92.33it/s]\n",
      "Training Epoch 760: 100%|██████████| 370/370 [00:04<00:00, 90.17it/s]\n",
      "Training Epoch 761: 100%|██████████| 370/370 [00:04<00:00, 89.50it/s]\n"
     ]
    },
    {
     "name": "stdout",
     "output_type": "stream",
     "text": [
      "Epoch 760 - Train Loss: 0.3892, Train MSE: 0.3871, Train MAE: 0.3916\n",
      "Epoch 760 - Validation Loss: 1.5736, Validation MSE: 1.5759, Validation MAE: 0.9333\n"
     ]
    },
    {
     "name": "stderr",
     "output_type": "stream",
     "text": [
      "Training Epoch 762: 100%|██████████| 370/370 [00:03<00:00, 92.65it/s]\n",
      "Training Epoch 763: 100%|██████████| 370/370 [00:04<00:00, 91.21it/s]\n",
      "Training Epoch 764: 100%|██████████| 370/370 [00:04<00:00, 88.86it/s]\n",
      "Training Epoch 765: 100%|██████████| 370/370 [00:04<00:00, 89.80it/s]\n",
      "Training Epoch 766: 100%|██████████| 370/370 [00:04<00:00, 90.05it/s]\n",
      "Training Epoch 767: 100%|██████████| 370/370 [00:04<00:00, 90.79it/s]\n",
      "Training Epoch 768: 100%|██████████| 370/370 [00:04<00:00, 88.26it/s]\n",
      "Training Epoch 769: 100%|██████████| 370/370 [00:04<00:00, 88.16it/s]\n",
      "Training Epoch 770: 100%|██████████| 370/370 [00:04<00:00, 92.37it/s]\n",
      "Training Epoch 771: 100%|██████████| 370/370 [00:04<00:00, 89.99it/s]\n"
     ]
    },
    {
     "name": "stdout",
     "output_type": "stream",
     "text": [
      "Epoch 770 - Train Loss: 0.3855, Train MSE: 0.3860, Train MAE: 0.3894\n",
      "Epoch 770 - Validation Loss: 1.5965, Validation MSE: 1.5987, Validation MAE: 0.9374\n"
     ]
    },
    {
     "name": "stderr",
     "output_type": "stream",
     "text": [
      "Training Epoch 772: 100%|██████████| 370/370 [00:04<00:00, 87.82it/s]\n",
      "Training Epoch 773: 100%|██████████| 370/370 [00:04<00:00, 87.01it/s]\n",
      "Training Epoch 774: 100%|██████████| 370/370 [00:04<00:00, 88.96it/s]\n",
      "Training Epoch 775: 100%|██████████| 370/370 [00:04<00:00, 90.81it/s] \n",
      "Training Epoch 776: 100%|██████████| 370/370 [00:04<00:00, 90.87it/s]\n",
      "Training Epoch 777: 100%|██████████| 370/370 [00:04<00:00, 90.59it/s]\n",
      "Training Epoch 778: 100%|██████████| 370/370 [00:04<00:00, 90.78it/s]\n",
      "Training Epoch 779: 100%|██████████| 370/370 [00:04<00:00, 87.52it/s]\n",
      "Training Epoch 780: 100%|██████████| 370/370 [00:04<00:00, 90.56it/s]\n",
      "Training Epoch 781: 100%|██████████| 370/370 [00:04<00:00, 89.49it/s]\n"
     ]
    },
    {
     "name": "stdout",
     "output_type": "stream",
     "text": [
      "Epoch 780 - Train Loss: 0.3808, Train MSE: 0.3816, Train MAE: 0.3860\n",
      "Epoch 780 - Validation Loss: 1.5892, Validation MSE: 1.5917, Validation MAE: 0.9330\n"
     ]
    },
    {
     "name": "stderr",
     "output_type": "stream",
     "text": [
      "Training Epoch 782: 100%|██████████| 370/370 [00:04<00:00, 90.65it/s]\n",
      "Training Epoch 783: 100%|██████████| 370/370 [00:04<00:00, 90.88it/s]\n",
      "Training Epoch 784: 100%|██████████| 370/370 [00:04<00:00, 88.30it/s]\n",
      "Training Epoch 785: 100%|██████████| 370/370 [00:04<00:00, 90.13it/s]\n",
      "Training Epoch 786: 100%|██████████| 370/370 [00:04<00:00, 89.01it/s]\n",
      "Training Epoch 787: 100%|██████████| 370/370 [00:04<00:00, 90.54it/s]\n",
      "Training Epoch 788: 100%|██████████| 370/370 [00:04<00:00, 88.60it/s]\n",
      "Training Epoch 789: 100%|██████████| 370/370 [00:04<00:00, 88.36it/s]\n",
      "Training Epoch 790: 100%|██████████| 370/370 [00:04<00:00, 89.13it/s]\n",
      "Training Epoch 791: 100%|██████████| 370/370 [00:03<00:00, 92.59it/s]\n"
     ]
    },
    {
     "name": "stdout",
     "output_type": "stream",
     "text": [
      "Epoch 790 - Train Loss: 0.3830, Train MSE: 0.3835, Train MAE: 0.3874\n",
      "Epoch 790 - Validation Loss: 1.5878, Validation MSE: 1.5906, Validation MAE: 0.9347\n"
     ]
    },
    {
     "name": "stderr",
     "output_type": "stream",
     "text": [
      "Training Epoch 792: 100%|██████████| 370/370 [00:04<00:00, 90.91it/s]\n",
      "Training Epoch 793: 100%|██████████| 370/370 [00:04<00:00, 90.87it/s]\n",
      "Training Epoch 794: 100%|██████████| 370/370 [00:04<00:00, 90.67it/s]\n",
      "Training Epoch 795: 100%|██████████| 370/370 [00:04<00:00, 90.75it/s]\n",
      "Training Epoch 796: 100%|██████████| 370/370 [00:04<00:00, 89.86it/s]\n",
      "Training Epoch 797: 100%|██████████| 370/370 [00:04<00:00, 91.48it/s]\n",
      "Training Epoch 798: 100%|██████████| 370/370 [00:04<00:00, 89.78it/s]\n",
      "Training Epoch 799: 100%|██████████| 370/370 [00:04<00:00, 91.18it/s]\n",
      "Training Epoch 800: 100%|██████████| 370/370 [00:04<00:00, 89.30it/s]\n",
      "Training Epoch 801: 100%|██████████| 370/370 [00:04<00:00, 90.98it/s]\n"
     ]
    },
    {
     "name": "stdout",
     "output_type": "stream",
     "text": [
      "Epoch 800 - Train Loss: 0.3810, Train MSE: 0.3818, Train MAE: 0.3874\n",
      "Epoch 800 - Validation Loss: 1.5434, Validation MSE: 1.5461, Validation MAE: 0.9277\n"
     ]
    },
    {
     "name": "stderr",
     "output_type": "stream",
     "text": [
      "Training Epoch 802: 100%|██████████| 370/370 [00:04<00:00, 92.13it/s] \n",
      "Training Epoch 803: 100%|██████████| 370/370 [00:04<00:00, 91.44it/s]\n",
      "Training Epoch 804: 100%|██████████| 370/370 [00:04<00:00, 90.34it/s]\n",
      "Training Epoch 805: 100%|██████████| 370/370 [00:04<00:00, 90.59it/s]\n",
      "Training Epoch 806: 100%|██████████| 370/370 [00:04<00:00, 89.61it/s]\n",
      "Training Epoch 807: 100%|██████████| 370/370 [00:04<00:00, 90.10it/s]\n",
      "Training Epoch 808: 100%|██████████| 370/370 [00:04<00:00, 91.34it/s]\n",
      "Training Epoch 809: 100%|██████████| 370/370 [00:04<00:00, 89.68it/s]\n",
      "Training Epoch 810: 100%|██████████| 370/370 [00:04<00:00, 90.17it/s]\n",
      "Training Epoch 811: 100%|██████████| 370/370 [00:04<00:00, 89.32it/s]\n"
     ]
    },
    {
     "name": "stdout",
     "output_type": "stream",
     "text": [
      "Epoch 810 - Train Loss: 0.3825, Train MSE: 0.3800, Train MAE: 0.3866\n",
      "Epoch 810 - Validation Loss: 1.5782, Validation MSE: 1.5806, Validation MAE: 0.9365\n"
     ]
    },
    {
     "name": "stderr",
     "output_type": "stream",
     "text": [
      "Training Epoch 812: 100%|██████████| 370/370 [00:04<00:00, 89.71it/s]\n",
      "Training Epoch 813: 100%|██████████| 370/370 [00:04<00:00, 90.02it/s]\n",
      "Training Epoch 814: 100%|██████████| 370/370 [00:04<00:00, 88.94it/s]\n",
      "Training Epoch 815: 100%|██████████| 370/370 [00:04<00:00, 89.16it/s]\n",
      "Training Epoch 816: 100%|██████████| 370/370 [00:04<00:00, 92.16it/s]\n",
      "Training Epoch 817: 100%|██████████| 370/370 [00:04<00:00, 91.13it/s]\n",
      "Training Epoch 818: 100%|██████████| 370/370 [00:04<00:00, 86.91it/s]\n",
      "Training Epoch 819: 100%|██████████| 370/370 [00:04<00:00, 90.35it/s]\n",
      "Training Epoch 820: 100%|██████████| 370/370 [00:04<00:00, 89.63it/s]\n",
      "Training Epoch 821: 100%|██████████| 370/370 [00:04<00:00, 90.58it/s]\n"
     ]
    },
    {
     "name": "stdout",
     "output_type": "stream",
     "text": [
      "Epoch 820 - Train Loss: 0.3796, Train MSE: 0.3803, Train MAE: 0.3889\n",
      "Epoch 820 - Validation Loss: 1.6076, Validation MSE: 1.6102, Validation MAE: 0.9491\n"
     ]
    },
    {
     "name": "stderr",
     "output_type": "stream",
     "text": [
      "Training Epoch 822: 100%|██████████| 370/370 [00:04<00:00, 90.52it/s]\n",
      "Training Epoch 823: 100%|██████████| 370/370 [00:04<00:00, 91.57it/s]\n",
      "Training Epoch 824: 100%|██████████| 370/370 [00:04<00:00, 90.29it/s]\n",
      "Training Epoch 825: 100%|██████████| 370/370 [00:04<00:00, 91.49it/s]\n",
      "Training Epoch 826: 100%|██████████| 370/370 [00:03<00:00, 93.15it/s]\n",
      "Training Epoch 827: 100%|██████████| 370/370 [00:04<00:00, 89.52it/s]\n",
      "Training Epoch 828: 100%|██████████| 370/370 [00:04<00:00, 89.20it/s]\n",
      "Training Epoch 829: 100%|██████████| 370/370 [00:04<00:00, 89.87it/s]\n",
      "Training Epoch 830: 100%|██████████| 370/370 [00:04<00:00, 88.31it/s]\n",
      "Training Epoch 831: 100%|██████████| 370/370 [00:04<00:00, 89.27it/s]\n"
     ]
    },
    {
     "name": "stdout",
     "output_type": "stream",
     "text": [
      "Epoch 830 - Train Loss: 0.3842, Train MSE: 0.3849, Train MAE: 0.3893\n",
      "Epoch 830 - Validation Loss: 1.5403, Validation MSE: 1.5420, Validation MAE: 0.9259\n"
     ]
    },
    {
     "name": "stderr",
     "output_type": "stream",
     "text": [
      "Training Epoch 832: 100%|██████████| 370/370 [00:04<00:00, 91.41it/s]\n",
      "Training Epoch 833: 100%|██████████| 370/370 [00:04<00:00, 88.91it/s]\n",
      "Training Epoch 834: 100%|██████████| 370/370 [00:04<00:00, 90.18it/s]\n",
      "Training Epoch 835: 100%|██████████| 370/370 [00:04<00:00, 91.05it/s]\n",
      "Training Epoch 836: 100%|██████████| 370/370 [00:04<00:00, 89.10it/s]\n",
      "Training Epoch 837: 100%|██████████| 370/370 [00:03<00:00, 94.46it/s] \n",
      "Training Epoch 838: 100%|██████████| 370/370 [00:04<00:00, 91.50it/s]\n",
      "Training Epoch 839: 100%|██████████| 370/370 [00:04<00:00, 90.01it/s] \n",
      "Training Epoch 840: 100%|██████████| 370/370 [00:04<00:00, 91.75it/s]\n",
      "Training Epoch 841: 100%|██████████| 370/370 [00:04<00:00, 91.28it/s]\n"
     ]
    },
    {
     "name": "stdout",
     "output_type": "stream",
     "text": [
      "Epoch 840 - Train Loss: 0.3835, Train MSE: 0.3838, Train MAE: 0.3855\n",
      "Epoch 840 - Validation Loss: 1.6395, Validation MSE: 1.6422, Validation MAE: 0.9538\n"
     ]
    },
    {
     "name": "stderr",
     "output_type": "stream",
     "text": [
      "Training Epoch 842: 100%|██████████| 370/370 [00:04<00:00, 91.33it/s]\n",
      "Training Epoch 843: 100%|██████████| 370/370 [00:04<00:00, 90.17it/s]\n",
      "Training Epoch 844: 100%|██████████| 370/370 [00:04<00:00, 89.54it/s]\n",
      "Training Epoch 845: 100%|██████████| 370/370 [00:04<00:00, 89.44it/s]\n",
      "Training Epoch 846: 100%|██████████| 370/370 [00:04<00:00, 90.98it/s]\n",
      "Training Epoch 847: 100%|██████████| 370/370 [00:04<00:00, 91.36it/s] \n",
      "Training Epoch 848: 100%|██████████| 370/370 [00:04<00:00, 91.54it/s]\n",
      "Training Epoch 849: 100%|██████████| 370/370 [00:04<00:00, 92.17it/s] \n",
      "Training Epoch 850: 100%|██████████| 370/370 [00:04<00:00, 90.86it/s]\n",
      "Training Epoch 851: 100%|██████████| 370/370 [00:04<00:00, 90.89it/s]\n"
     ]
    },
    {
     "name": "stdout",
     "output_type": "stream",
     "text": [
      "Epoch 850 - Train Loss: 0.3756, Train MSE: 0.3751, Train MAE: 0.3846\n",
      "Epoch 850 - Validation Loss: 1.5307, Validation MSE: 1.5328, Validation MAE: 0.9206\n"
     ]
    },
    {
     "name": "stderr",
     "output_type": "stream",
     "text": [
      "Training Epoch 852: 100%|██████████| 370/370 [00:04<00:00, 90.25it/s]\n",
      "Training Epoch 853: 100%|██████████| 370/370 [00:04<00:00, 90.28it/s]\n",
      "Training Epoch 854: 100%|██████████| 370/370 [00:04<00:00, 91.15it/s]\n",
      "Training Epoch 855: 100%|██████████| 370/370 [00:04<00:00, 90.63it/s]\n",
      "Training Epoch 856: 100%|██████████| 370/370 [00:04<00:00, 89.63it/s]\n",
      "Training Epoch 857: 100%|██████████| 370/370 [00:04<00:00, 91.94it/s]\n",
      "Training Epoch 858: 100%|██████████| 370/370 [00:04<00:00, 89.52it/s]\n",
      "Training Epoch 859: 100%|██████████| 370/370 [00:04<00:00, 89.90it/s]\n",
      "Training Epoch 860: 100%|██████████| 370/370 [00:04<00:00, 88.67it/s]\n",
      "Training Epoch 861: 100%|██████████| 370/370 [00:04<00:00, 90.86it/s]\n"
     ]
    },
    {
     "name": "stdout",
     "output_type": "stream",
     "text": [
      "Epoch 860 - Train Loss: 0.3639, Train MSE: 0.3643, Train MAE: 0.3759\n",
      "Epoch 860 - Validation Loss: 1.5998, Validation MSE: 1.6024, Validation MAE: 0.9447\n"
     ]
    },
    {
     "name": "stderr",
     "output_type": "stream",
     "text": [
      "Training Epoch 862: 100%|██████████| 370/370 [00:03<00:00, 92.73it/s] \n",
      "Training Epoch 863: 100%|██████████| 370/370 [00:04<00:00, 91.74it/s]\n",
      "Training Epoch 864: 100%|██████████| 370/370 [00:04<00:00, 90.28it/s]\n",
      "Training Epoch 865: 100%|██████████| 370/370 [00:03<00:00, 92.75it/s]\n",
      "Training Epoch 866: 100%|██████████| 370/370 [00:04<00:00, 90.92it/s]\n",
      "Training Epoch 867: 100%|██████████| 370/370 [00:04<00:00, 87.89it/s]\n",
      "Training Epoch 868: 100%|██████████| 370/370 [00:04<00:00, 89.28it/s]\n",
      "Training Epoch 869: 100%|██████████| 370/370 [00:04<00:00, 91.01it/s]\n",
      "Training Epoch 870: 100%|██████████| 370/370 [00:04<00:00, 90.76it/s]\n",
      "Training Epoch 871: 100%|██████████| 370/370 [00:04<00:00, 89.67it/s]\n"
     ]
    },
    {
     "name": "stdout",
     "output_type": "stream",
     "text": [
      "Epoch 870 - Train Loss: 0.3886, Train MSE: 0.3858, Train MAE: 0.3866\n",
      "Epoch 870 - Validation Loss: 1.5964, Validation MSE: 1.5980, Validation MAE: 0.9430\n"
     ]
    },
    {
     "name": "stderr",
     "output_type": "stream",
     "text": [
      "Training Epoch 872: 100%|██████████| 370/370 [00:04<00:00, 90.98it/s]\n",
      "Training Epoch 873: 100%|██████████| 370/370 [00:03<00:00, 92.71it/s]\n",
      "Training Epoch 874: 100%|██████████| 370/370 [00:04<00:00, 92.04it/s]\n",
      "Training Epoch 875: 100%|██████████| 370/370 [00:04<00:00, 90.18it/s]\n",
      "Training Epoch 876: 100%|██████████| 370/370 [00:04<00:00, 89.91it/s]\n",
      "Training Epoch 877: 100%|██████████| 370/370 [00:04<00:00, 90.48it/s]\n",
      "Training Epoch 878: 100%|██████████| 370/370 [00:04<00:00, 90.06it/s]\n",
      "Training Epoch 879: 100%|██████████| 370/370 [00:04<00:00, 89.12it/s]\n",
      "Training Epoch 880: 100%|██████████| 370/370 [00:04<00:00, 90.00it/s]\n",
      "Training Epoch 881: 100%|██████████| 370/370 [00:04<00:00, 90.17it/s]\n"
     ]
    },
    {
     "name": "stdout",
     "output_type": "stream",
     "text": [
      "Epoch 880 - Train Loss: 0.3716, Train MSE: 0.3723, Train MAE: 0.3805\n",
      "Epoch 880 - Validation Loss: 1.5652, Validation MSE: 1.5677, Validation MAE: 0.9365\n"
     ]
    },
    {
     "name": "stderr",
     "output_type": "stream",
     "text": [
      "Training Epoch 882: 100%|██████████| 370/370 [00:04<00:00, 91.65it/s]\n",
      "Training Epoch 883: 100%|██████████| 370/370 [00:04<00:00, 87.31it/s]\n",
      "Training Epoch 884: 100%|██████████| 370/370 [00:03<00:00, 93.04it/s]\n",
      "Training Epoch 885: 100%|██████████| 370/370 [00:04<00:00, 91.87it/s]\n",
      "Training Epoch 886: 100%|██████████| 370/370 [00:04<00:00, 88.52it/s]\n",
      "Training Epoch 887: 100%|██████████| 370/370 [00:03<00:00, 93.85it/s] \n",
      "Training Epoch 888: 100%|██████████| 370/370 [00:04<00:00, 89.67it/s]\n",
      "Training Epoch 889: 100%|██████████| 370/370 [00:04<00:00, 91.40it/s]\n",
      "Training Epoch 890: 100%|██████████| 370/370 [00:04<00:00, 91.12it/s]\n",
      "Training Epoch 891: 100%|██████████| 370/370 [00:04<00:00, 91.46it/s]\n"
     ]
    },
    {
     "name": "stdout",
     "output_type": "stream",
     "text": [
      "Epoch 890 - Train Loss: 0.3673, Train MSE: 0.3671, Train MAE: 0.3771\n",
      "Epoch 890 - Validation Loss: 1.5608, Validation MSE: 1.5631, Validation MAE: 0.9332\n"
     ]
    },
    {
     "name": "stderr",
     "output_type": "stream",
     "text": [
      "Training Epoch 892: 100%|██████████| 370/370 [00:04<00:00, 91.97it/s]\n",
      "Training Epoch 893: 100%|██████████| 370/370 [00:04<00:00, 90.98it/s]\n",
      "Training Epoch 894: 100%|██████████| 370/370 [00:04<00:00, 89.13it/s]\n",
      "Training Epoch 895: 100%|██████████| 370/370 [00:04<00:00, 89.92it/s]\n",
      "Training Epoch 896: 100%|██████████| 370/370 [00:04<00:00, 91.57it/s]\n",
      "Training Epoch 897: 100%|██████████| 370/370 [00:03<00:00, 92.51it/s]\n",
      "Training Epoch 898: 100%|██████████| 370/370 [00:04<00:00, 90.37it/s]\n",
      "Training Epoch 899: 100%|██████████| 370/370 [00:04<00:00, 89.16it/s]\n",
      "Training Epoch 900: 100%|██████████| 370/370 [00:04<00:00, 90.91it/s]\n",
      "Training Epoch 901: 100%|██████████| 370/370 [00:04<00:00, 92.32it/s]\n"
     ]
    },
    {
     "name": "stdout",
     "output_type": "stream",
     "text": [
      "Epoch 900 - Train Loss: 0.3643, Train MSE: 0.3651, Train MAE: 0.3758\n",
      "Epoch 900 - Validation Loss: 1.5987, Validation MSE: 1.6019, Validation MAE: 0.9462\n"
     ]
    },
    {
     "name": "stderr",
     "output_type": "stream",
     "text": [
      "Training Epoch 902: 100%|██████████| 370/370 [00:04<00:00, 89.63it/s]\n",
      "Training Epoch 903: 100%|██████████| 370/370 [00:04<00:00, 91.00it/s]\n",
      "Training Epoch 904: 100%|██████████| 370/370 [00:04<00:00, 90.07it/s]\n",
      "Training Epoch 905: 100%|██████████| 370/370 [00:03<00:00, 92.84it/s] \n",
      "Training Epoch 906: 100%|██████████| 370/370 [00:04<00:00, 92.27it/s]\n",
      "Training Epoch 907: 100%|██████████| 370/370 [00:03<00:00, 92.87it/s]\n",
      "Training Epoch 908: 100%|██████████| 370/370 [00:03<00:00, 94.06it/s] \n",
      "Training Epoch 909: 100%|██████████| 370/370 [00:03<00:00, 92.65it/s]\n",
      "Training Epoch 910: 100%|██████████| 370/370 [00:04<00:00, 89.27it/s]\n",
      "Training Epoch 911: 100%|██████████| 370/370 [00:04<00:00, 91.95it/s]\n"
     ]
    },
    {
     "name": "stdout",
     "output_type": "stream",
     "text": [
      "Epoch 910 - Train Loss: 0.3637, Train MSE: 0.3643, Train MAE: 0.3772\n",
      "Epoch 910 - Validation Loss: 1.5628, Validation MSE: 1.5648, Validation MAE: 0.9276\n"
     ]
    },
    {
     "name": "stderr",
     "output_type": "stream",
     "text": [
      "Training Epoch 912: 100%|██████████| 370/370 [00:04<00:00, 91.67it/s]\n",
      "Training Epoch 913: 100%|██████████| 370/370 [00:04<00:00, 89.02it/s]\n",
      "Training Epoch 914: 100%|██████████| 370/370 [00:04<00:00, 91.65it/s]\n",
      "Training Epoch 915: 100%|██████████| 370/370 [00:04<00:00, 91.11it/s]\n",
      "Training Epoch 916: 100%|██████████| 370/370 [00:04<00:00, 92.49it/s] \n",
      "Training Epoch 917: 100%|██████████| 370/370 [00:04<00:00, 89.64it/s]\n",
      "Training Epoch 918: 100%|██████████| 370/370 [00:04<00:00, 90.47it/s]\n",
      "Training Epoch 919: 100%|██████████| 370/370 [00:03<00:00, 94.19it/s]\n",
      "Training Epoch 920: 100%|██████████| 370/370 [00:03<00:00, 93.70it/s]\n",
      "Training Epoch 921: 100%|██████████| 370/370 [00:04<00:00, 90.00it/s]\n"
     ]
    },
    {
     "name": "stdout",
     "output_type": "stream",
     "text": [
      "Epoch 920 - Train Loss: 0.3554, Train MSE: 0.3555, Train MAE: 0.3736\n",
      "Epoch 920 - Validation Loss: 1.5464, Validation MSE: 1.5486, Validation MAE: 0.9293\n"
     ]
    },
    {
     "name": "stderr",
     "output_type": "stream",
     "text": [
      "Training Epoch 922: 100%|██████████| 370/370 [00:04<00:00, 92.28it/s]\n",
      "Training Epoch 923: 100%|██████████| 370/370 [00:04<00:00, 88.75it/s]\n",
      "Training Epoch 924: 100%|██████████| 370/370 [00:04<00:00, 90.99it/s]\n",
      "Training Epoch 925: 100%|██████████| 370/370 [00:04<00:00, 90.41it/s]\n",
      "Training Epoch 926: 100%|██████████| 370/370 [00:04<00:00, 91.41it/s]\n",
      "Training Epoch 927: 100%|██████████| 370/370 [00:04<00:00, 91.09it/s]\n",
      "Training Epoch 928: 100%|██████████| 370/370 [00:04<00:00, 87.46it/s]\n",
      "Training Epoch 929: 100%|██████████| 370/370 [00:04<00:00, 86.51it/s]\n",
      "Training Epoch 930: 100%|██████████| 370/370 [00:04<00:00, 90.12it/s]\n",
      "Training Epoch 931: 100%|██████████| 370/370 [00:04<00:00, 86.58it/s]\n"
     ]
    },
    {
     "name": "stdout",
     "output_type": "stream",
     "text": [
      "Epoch 930 - Train Loss: 0.3589, Train MSE: 0.3584, Train MAE: 0.3739\n",
      "Epoch 930 - Validation Loss: 1.6295, Validation MSE: 1.6319, Validation MAE: 0.9466\n"
     ]
    },
    {
     "name": "stderr",
     "output_type": "stream",
     "text": [
      "Training Epoch 932: 100%|██████████| 370/370 [00:04<00:00, 88.71it/s]\n",
      "Training Epoch 933: 100%|██████████| 370/370 [00:04<00:00, 82.10it/s]\n",
      "Training Epoch 934: 100%|██████████| 370/370 [00:04<00:00, 86.81it/s]\n",
      "Training Epoch 935: 100%|██████████| 370/370 [00:04<00:00, 85.86it/s]\n",
      "Training Epoch 936: 100%|██████████| 370/370 [00:04<00:00, 83.74it/s]\n",
      "Training Epoch 937: 100%|██████████| 370/370 [00:04<00:00, 75.65it/s]\n",
      "Training Epoch 938: 100%|██████████| 370/370 [00:04<00:00, 87.19it/s]\n",
      "Training Epoch 939: 100%|██████████| 370/370 [00:04<00:00, 85.73it/s]\n",
      "Training Epoch 940: 100%|██████████| 370/370 [00:04<00:00, 85.63it/s]\n",
      "Training Epoch 941: 100%|██████████| 370/370 [00:04<00:00, 89.99it/s]\n"
     ]
    },
    {
     "name": "stdout",
     "output_type": "stream",
     "text": [
      "Epoch 940 - Train Loss: 0.3653, Train MSE: 0.3603, Train MAE: 0.3756\n",
      "Epoch 940 - Validation Loss: 1.5613, Validation MSE: 1.5639, Validation MAE: 0.9271\n"
     ]
    },
    {
     "name": "stderr",
     "output_type": "stream",
     "text": [
      "Training Epoch 942: 100%|██████████| 370/370 [00:04<00:00, 88.51it/s]\n",
      "Training Epoch 943: 100%|██████████| 370/370 [00:04<00:00, 88.60it/s]\n",
      "Training Epoch 944: 100%|██████████| 370/370 [00:04<00:00, 84.22it/s]\n",
      "Training Epoch 945: 100%|██████████| 370/370 [00:04<00:00, 87.11it/s]\n",
      "Training Epoch 946: 100%|██████████| 370/370 [00:04<00:00, 79.72it/s]\n",
      "Training Epoch 947: 100%|██████████| 370/370 [00:04<00:00, 80.35it/s]\n",
      "Training Epoch 948: 100%|██████████| 370/370 [00:04<00:00, 89.12it/s]\n",
      "Training Epoch 949: 100%|██████████| 370/370 [00:04<00:00, 87.68it/s]\n",
      "Training Epoch 950: 100%|██████████| 370/370 [00:04<00:00, 87.18it/s]\n",
      "Training Epoch 951: 100%|██████████| 370/370 [00:04<00:00, 88.40it/s]\n"
     ]
    },
    {
     "name": "stdout",
     "output_type": "stream",
     "text": [
      "Epoch 950 - Train Loss: 0.3547, Train MSE: 0.3548, Train MAE: 0.3695\n",
      "Epoch 950 - Validation Loss: 1.5869, Validation MSE: 1.5891, Validation MAE: 0.9388\n"
     ]
    },
    {
     "name": "stderr",
     "output_type": "stream",
     "text": [
      "Training Epoch 952: 100%|██████████| 370/370 [00:04<00:00, 89.43it/s]\n",
      "Training Epoch 953: 100%|██████████| 370/370 [00:04<00:00, 87.14it/s]\n",
      "Training Epoch 954: 100%|██████████| 370/370 [00:04<00:00, 90.14it/s]\n",
      "Training Epoch 955: 100%|██████████| 370/370 [00:04<00:00, 88.05it/s]\n",
      "Training Epoch 956: 100%|██████████| 370/370 [00:04<00:00, 86.44it/s]\n",
      "Training Epoch 957: 100%|██████████| 370/370 [00:04<00:00, 84.79it/s]\n",
      "Training Epoch 958: 100%|██████████| 370/370 [00:04<00:00, 80.80it/s]\n",
      "Training Epoch 959: 100%|██████████| 370/370 [00:04<00:00, 87.25it/s]\n",
      "Training Epoch 960: 100%|██████████| 370/370 [00:04<00:00, 84.98it/s]\n",
      "Training Epoch 961: 100%|██████████| 370/370 [00:04<00:00, 83.06it/s]\n"
     ]
    },
    {
     "name": "stdout",
     "output_type": "stream",
     "text": [
      "Epoch 960 - Train Loss: 0.3710, Train MSE: 0.3715, Train MAE: 0.3796\n",
      "Epoch 960 - Validation Loss: 1.6091, Validation MSE: 1.6114, Validation MAE: 0.9498\n"
     ]
    },
    {
     "name": "stderr",
     "output_type": "stream",
     "text": [
      "Training Epoch 962: 100%|██████████| 370/370 [00:04<00:00, 87.39it/s]\n",
      "Training Epoch 963: 100%|██████████| 370/370 [00:04<00:00, 83.41it/s]\n",
      "Training Epoch 964: 100%|██████████| 370/370 [00:04<00:00, 91.28it/s]\n",
      "Training Epoch 965: 100%|██████████| 370/370 [00:04<00:00, 90.52it/s]\n",
      "Training Epoch 966: 100%|██████████| 370/370 [00:04<00:00, 87.94it/s]\n",
      "Training Epoch 967: 100%|██████████| 370/370 [00:04<00:00, 88.27it/s]\n",
      "Training Epoch 968: 100%|██████████| 370/370 [00:04<00:00, 89.08it/s]\n",
      "Training Epoch 969: 100%|██████████| 370/370 [00:04<00:00, 88.26it/s]\n",
      "Training Epoch 970: 100%|██████████| 370/370 [00:04<00:00, 87.09it/s]\n",
      "Training Epoch 971: 100%|██████████| 370/370 [00:04<00:00, 88.49it/s]\n"
     ]
    },
    {
     "name": "stdout",
     "output_type": "stream",
     "text": [
      "Epoch 970 - Train Loss: 0.3534, Train MSE: 0.3534, Train MAE: 0.3677\n",
      "Epoch 970 - Validation Loss: 1.6204, Validation MSE: 1.6236, Validation MAE: 0.9400\n"
     ]
    },
    {
     "name": "stderr",
     "output_type": "stream",
     "text": [
      "Training Epoch 972: 100%|██████████| 370/370 [00:04<00:00, 88.97it/s]\n",
      "Training Epoch 973: 100%|██████████| 370/370 [00:04<00:00, 89.97it/s]\n",
      "Training Epoch 974: 100%|██████████| 370/370 [00:04<00:00, 89.22it/s]\n",
      "Training Epoch 975: 100%|██████████| 370/370 [00:04<00:00, 84.81it/s]\n",
      "Training Epoch 976: 100%|██████████| 370/370 [00:04<00:00, 83.93it/s]\n",
      "Training Epoch 977: 100%|██████████| 370/370 [00:04<00:00, 90.62it/s]\n",
      "Training Epoch 978: 100%|██████████| 370/370 [00:04<00:00, 88.38it/s]\n",
      "Training Epoch 979: 100%|██████████| 370/370 [00:04<00:00, 87.92it/s]\n",
      "Training Epoch 980: 100%|██████████| 370/370 [00:04<00:00, 89.97it/s]\n",
      "Training Epoch 981: 100%|██████████| 370/370 [00:04<00:00, 87.20it/s]\n"
     ]
    },
    {
     "name": "stdout",
     "output_type": "stream",
     "text": [
      "Epoch 980 - Train Loss: 0.3533, Train MSE: 0.3539, Train MAE: 0.3684\n",
      "Epoch 980 - Validation Loss: 1.6250, Validation MSE: 1.6270, Validation MAE: 0.9394\n"
     ]
    },
    {
     "name": "stderr",
     "output_type": "stream",
     "text": [
      "Training Epoch 982: 100%|██████████| 370/370 [00:04<00:00, 78.50it/s]\n",
      "Training Epoch 983: 100%|██████████| 370/370 [00:04<00:00, 81.60it/s]\n",
      "Training Epoch 984: 100%|██████████| 370/370 [00:04<00:00, 80.94it/s]\n",
      "Training Epoch 985: 100%|██████████| 370/370 [00:04<00:00, 82.97it/s]\n",
      "Training Epoch 986: 100%|██████████| 370/370 [00:04<00:00, 87.74it/s]\n",
      "Training Epoch 987: 100%|██████████| 370/370 [00:04<00:00, 87.97it/s]\n",
      "Training Epoch 988: 100%|██████████| 370/370 [00:04<00:00, 76.06it/s]\n",
      "Training Epoch 989: 100%|██████████| 370/370 [00:04<00:00, 82.08it/s]\n",
      "Training Epoch 990: 100%|██████████| 370/370 [00:04<00:00, 85.48it/s]\n",
      "Training Epoch 991: 100%|██████████| 370/370 [00:04<00:00, 88.73it/s]\n"
     ]
    },
    {
     "name": "stdout",
     "output_type": "stream",
     "text": [
      "Epoch 990 - Train Loss: 0.3631, Train MSE: 0.3637, Train MAE: 0.3749\n",
      "Epoch 990 - Validation Loss: 1.6094, Validation MSE: 1.6122, Validation MAE: 0.9372\n"
     ]
    },
    {
     "name": "stderr",
     "output_type": "stream",
     "text": [
      "Training Epoch 992: 100%|██████████| 370/370 [00:04<00:00, 87.50it/s]\n",
      "Training Epoch 993: 100%|██████████| 370/370 [00:04<00:00, 85.97it/s]\n",
      "Training Epoch 994: 100%|██████████| 370/370 [00:04<00:00, 89.69it/s]\n",
      "Training Epoch 995: 100%|██████████| 370/370 [00:04<00:00, 87.17it/s]\n",
      "Training Epoch 996: 100%|██████████| 370/370 [00:04<00:00, 89.68it/s]\n",
      "Training Epoch 997: 100%|██████████| 370/370 [00:04<00:00, 80.73it/s]\n",
      "Training Epoch 998: 100%|██████████| 370/370 [00:04<00:00, 90.55it/s] \n",
      "Training Epoch 999: 100%|██████████| 370/370 [00:03<00:00, 103.63it/s]\n",
      "Training Epoch 1000: 100%|██████████| 370/370 [00:03<00:00, 103.45it/s]\n",
      "Training Epoch 1001: 100%|██████████| 370/370 [00:03<00:00, 93.59it/s]\n"
     ]
    },
    {
     "name": "stdout",
     "output_type": "stream",
     "text": [
      "Epoch 1000 - Train Loss: 0.3516, Train MSE: 0.3518, Train MAE: 0.3686\n",
      "Epoch 1000 - Validation Loss: 1.6419, Validation MSE: 1.6448, Validation MAE: 0.9439\n"
     ]
    },
    {
     "name": "stderr",
     "output_type": "stream",
     "text": [
      "Training Epoch 1002: 100%|██████████| 370/370 [00:03<00:00, 93.88it/s] \n",
      "Training Epoch 1003: 100%|██████████| 370/370 [00:03<00:00, 96.79it/s] \n",
      "Training Epoch 1004: 100%|██████████| 370/370 [00:03<00:00, 101.19it/s]\n",
      "Training Epoch 1005: 100%|██████████| 370/370 [00:03<00:00, 100.16it/s]\n",
      "Training Epoch 1006: 100%|██████████| 370/370 [00:03<00:00, 101.04it/s]\n",
      "Training Epoch 1007: 100%|██████████| 370/370 [00:03<00:00, 101.62it/s]\n",
      "Training Epoch 1008: 100%|██████████| 370/370 [00:04<00:00, 90.36it/s] \n",
      "Training Epoch 1009: 100%|██████████| 370/370 [00:03<00:00, 99.53it/s] \n",
      "Training Epoch 1010: 100%|██████████| 370/370 [00:03<00:00, 97.19it/s]\n",
      "Training Epoch 1011: 100%|██████████| 370/370 [00:03<00:00, 96.74it/s] \n"
     ]
    },
    {
     "name": "stdout",
     "output_type": "stream",
     "text": [
      "Epoch 1010 - Train Loss: 0.3483, Train MSE: 0.3486, Train MAE: 0.3678\n",
      "Epoch 1010 - Validation Loss: 1.5647, Validation MSE: 1.5660, Validation MAE: 0.9214\n"
     ]
    },
    {
     "name": "stderr",
     "output_type": "stream",
     "text": [
      "Training Epoch 1012: 100%|██████████| 370/370 [00:03<00:00, 98.86it/s] \n",
      "Training Epoch 1013: 100%|██████████| 370/370 [00:03<00:00, 95.49it/s] \n",
      "Training Epoch 1014: 100%|██████████| 370/370 [00:03<00:00, 97.61it/s] \n",
      "Training Epoch 1015: 100%|██████████| 370/370 [00:03<00:00, 98.37it/s] \n",
      "Training Epoch 1016: 100%|██████████| 370/370 [00:03<00:00, 98.12it/s] \n",
      "Training Epoch 1017: 100%|██████████| 370/370 [00:04<00:00, 85.84it/s] \n",
      "Training Epoch 1018: 100%|██████████| 370/370 [00:03<00:00, 99.84it/s] \n",
      "Training Epoch 1019: 100%|██████████| 370/370 [00:03<00:00, 96.31it/s] \n",
      "Training Epoch 1020: 100%|██████████| 370/370 [00:03<00:00, 97.76it/s] \n",
      "Training Epoch 1021: 100%|██████████| 370/370 [00:03<00:00, 100.29it/s]\n"
     ]
    },
    {
     "name": "stdout",
     "output_type": "stream",
     "text": [
      "Epoch 1020 - Train Loss: 0.3406, Train MSE: 0.3374, Train MAE: 0.3608\n",
      "Epoch 1020 - Validation Loss: 1.5539, Validation MSE: 1.5557, Validation MAE: 0.9258\n"
     ]
    },
    {
     "name": "stderr",
     "output_type": "stream",
     "text": [
      "Training Epoch 1022: 100%|██████████| 370/370 [00:03<00:00, 105.69it/s]\n",
      "Training Epoch 1023: 100%|██████████| 370/370 [00:03<00:00, 103.33it/s]\n",
      "Training Epoch 1024: 100%|██████████| 370/370 [00:03<00:00, 103.87it/s]\n",
      "Training Epoch 1025: 100%|██████████| 370/370 [00:03<00:00, 102.30it/s]\n",
      "Training Epoch 1026: 100%|██████████| 370/370 [00:03<00:00, 106.62it/s]\n",
      "Training Epoch 1027: 100%|██████████| 370/370 [00:03<00:00, 103.69it/s]\n",
      "Training Epoch 1028: 100%|██████████| 370/370 [00:03<00:00, 105.49it/s]\n",
      "Training Epoch 1029: 100%|██████████| 370/370 [00:03<00:00, 101.07it/s]\n",
      "Training Epoch 1030: 100%|██████████| 370/370 [00:03<00:00, 104.30it/s]\n",
      "Training Epoch 1031: 100%|██████████| 370/370 [00:03<00:00, 105.06it/s]\n"
     ]
    },
    {
     "name": "stdout",
     "output_type": "stream",
     "text": [
      "Epoch 1030 - Train Loss: 0.3507, Train MSE: 0.3485, Train MAE: 0.3678\n",
      "Epoch 1030 - Validation Loss: 1.6233, Validation MSE: 1.6257, Validation MAE: 0.9415\n"
     ]
    },
    {
     "name": "stderr",
     "output_type": "stream",
     "text": [
      "Training Epoch 1032: 100%|██████████| 370/370 [00:03<00:00, 96.19it/s] \n",
      "Training Epoch 1033: 100%|██████████| 370/370 [00:03<00:00, 98.90it/s] \n",
      "Training Epoch 1034: 100%|██████████| 370/370 [00:03<00:00, 102.03it/s]\n",
      "Training Epoch 1035: 100%|██████████| 370/370 [00:03<00:00, 101.10it/s]\n",
      "Training Epoch 1036: 100%|██████████| 370/370 [00:03<00:00, 103.61it/s]\n",
      "Training Epoch 1037: 100%|██████████| 370/370 [00:03<00:00, 101.93it/s]\n",
      "Training Epoch 1038: 100%|██████████| 370/370 [00:03<00:00, 102.45it/s]\n",
      "Training Epoch 1039: 100%|██████████| 370/370 [00:03<00:00, 103.99it/s]\n",
      "Training Epoch 1040: 100%|██████████| 370/370 [00:03<00:00, 103.13it/s]\n",
      "Training Epoch 1041: 100%|██████████| 370/370 [00:03<00:00, 105.40it/s]\n"
     ]
    },
    {
     "name": "stdout",
     "output_type": "stream",
     "text": [
      "Epoch 1040 - Train Loss: 0.3502, Train MSE: 0.3510, Train MAE: 0.3665\n",
      "Epoch 1040 - Validation Loss: 1.6738, Validation MSE: 1.6771, Validation MAE: 0.9565\n"
     ]
    },
    {
     "name": "stderr",
     "output_type": "stream",
     "text": [
      "Training Epoch 1042: 100%|██████████| 370/370 [00:03<00:00, 103.67it/s]\n",
      "Training Epoch 1043: 100%|██████████| 370/370 [00:03<00:00, 105.63it/s]\n",
      "Training Epoch 1044: 100%|██████████| 370/370 [00:03<00:00, 103.62it/s]\n",
      "Training Epoch 1045: 100%|██████████| 370/370 [00:03<00:00, 105.77it/s]\n",
      "Training Epoch 1046: 100%|██████████| 370/370 [00:03<00:00, 102.31it/s]\n",
      "Training Epoch 1047: 100%|██████████| 370/370 [00:03<00:00, 104.72it/s]\n",
      "Training Epoch 1048: 100%|██████████| 370/370 [00:03<00:00, 102.25it/s]\n",
      "Training Epoch 1049: 100%|██████████| 370/370 [00:03<00:00, 97.38it/s] \n",
      "Training Epoch 1050: 100%|██████████| 370/370 [00:03<00:00, 101.94it/s]\n",
      "Training Epoch 1051: 100%|██████████| 370/370 [00:03<00:00, 103.21it/s]\n"
     ]
    },
    {
     "name": "stdout",
     "output_type": "stream",
     "text": [
      "Epoch 1050 - Train Loss: 0.3447, Train MSE: 0.3404, Train MAE: 0.3621\n",
      "Epoch 1050 - Validation Loss: 1.5991, Validation MSE: 1.6019, Validation MAE: 0.9329\n"
     ]
    },
    {
     "name": "stderr",
     "output_type": "stream",
     "text": [
      "Training Epoch 1052: 100%|██████████| 370/370 [00:03<00:00, 99.88it/s] \n",
      "Training Epoch 1053: 100%|██████████| 370/370 [00:03<00:00, 99.64it/s] \n",
      "Training Epoch 1054: 100%|██████████| 370/370 [00:03<00:00, 96.34it/s] \n",
      "Training Epoch 1055: 100%|██████████| 370/370 [00:03<00:00, 93.00it/s] \n",
      "Training Epoch 1056: 100%|██████████| 370/370 [00:03<00:00, 103.61it/s]\n",
      "Training Epoch 1057: 100%|██████████| 370/370 [00:04<00:00, 86.69it/s]\n",
      "Training Epoch 1058: 100%|██████████| 370/370 [00:03<00:00, 95.85it/s] \n",
      "Training Epoch 1059: 100%|██████████| 370/370 [00:03<00:00, 93.84it/s] \n",
      "Training Epoch 1060: 100%|██████████| 370/370 [00:03<00:00, 98.14it/s] \n",
      "Training Epoch 1061: 100%|██████████| 370/370 [00:03<00:00, 97.75it/s] \n"
     ]
    },
    {
     "name": "stdout",
     "output_type": "stream",
     "text": [
      "Epoch 1060 - Train Loss: 0.3433, Train MSE: 0.3438, Train MAE: 0.3634\n",
      "Epoch 1060 - Validation Loss: 1.6136, Validation MSE: 1.6165, Validation MAE: 0.9385\n"
     ]
    },
    {
     "name": "stderr",
     "output_type": "stream",
     "text": [
      "Training Epoch 1062: 100%|██████████| 370/370 [00:03<00:00, 99.96it/s] \n",
      "Training Epoch 1063: 100%|██████████| 370/370 [00:03<00:00, 97.23it/s] \n",
      "Training Epoch 1064: 100%|██████████| 370/370 [00:03<00:00, 98.04it/s] \n",
      "Training Epoch 1065: 100%|██████████| 370/370 [00:03<00:00, 102.05it/s]\n",
      "Training Epoch 1066: 100%|██████████| 370/370 [00:03<00:00, 99.64it/s] \n",
      "Training Epoch 1067: 100%|██████████| 370/370 [00:03<00:00, 102.25it/s]\n",
      "Training Epoch 1068: 100%|██████████| 370/370 [00:03<00:00, 101.42it/s]\n",
      "Training Epoch 1069: 100%|██████████| 370/370 [00:03<00:00, 99.15it/s] \n",
      "Training Epoch 1070: 100%|██████████| 370/370 [00:03<00:00, 95.28it/s] \n",
      "Training Epoch 1071: 100%|██████████| 370/370 [00:03<00:00, 99.26it/s] \n"
     ]
    },
    {
     "name": "stdout",
     "output_type": "stream",
     "text": [
      "Epoch 1070 - Train Loss: 0.3490, Train MSE: 0.3496, Train MAE: 0.3663\n",
      "Epoch 1070 - Validation Loss: 1.6618, Validation MSE: 1.6646, Validation MAE: 0.9542\n"
     ]
    },
    {
     "name": "stderr",
     "output_type": "stream",
     "text": [
      "Training Epoch 1072: 100%|██████████| 370/370 [00:03<00:00, 103.24it/s]\n",
      "Training Epoch 1073: 100%|██████████| 370/370 [00:03<00:00, 100.67it/s]\n",
      "Training Epoch 1074: 100%|██████████| 370/370 [00:03<00:00, 94.14it/s] \n",
      "Training Epoch 1075: 100%|██████████| 370/370 [00:03<00:00, 98.19it/s] \n",
      "Training Epoch 1076: 100%|██████████| 370/370 [00:03<00:00, 102.04it/s]\n",
      "Training Epoch 1077: 100%|██████████| 370/370 [00:03<00:00, 100.66it/s]\n",
      "Training Epoch 1078: 100%|██████████| 370/370 [00:03<00:00, 103.94it/s]\n",
      "Training Epoch 1079: 100%|██████████| 370/370 [00:03<00:00, 103.29it/s]\n",
      "Training Epoch 1080: 100%|██████████| 370/370 [00:03<00:00, 104.12it/s]\n",
      "Training Epoch 1081: 100%|██████████| 370/370 [00:03<00:00, 101.20it/s]\n"
     ]
    },
    {
     "name": "stdout",
     "output_type": "stream",
     "text": [
      "Epoch 1080 - Train Loss: 0.3399, Train MSE: 0.3338, Train MAE: 0.3569\n",
      "Epoch 1080 - Validation Loss: 1.6243, Validation MSE: 1.6267, Validation MAE: 0.9445\n"
     ]
    },
    {
     "name": "stderr",
     "output_type": "stream",
     "text": [
      "Training Epoch 1082: 100%|██████████| 370/370 [00:03<00:00, 103.29it/s]\n",
      "Training Epoch 1083: 100%|██████████| 370/370 [00:03<00:00, 103.99it/s]\n",
      "Training Epoch 1084: 100%|██████████| 370/370 [00:03<00:00, 101.06it/s]\n",
      "Training Epoch 1085: 100%|██████████| 370/370 [00:03<00:00, 102.36it/s]\n",
      "Training Epoch 1086: 100%|██████████| 370/370 [00:03<00:00, 103.82it/s]\n",
      "Training Epoch 1087: 100%|██████████| 370/370 [00:03<00:00, 103.37it/s]\n",
      "Training Epoch 1088: 100%|██████████| 370/370 [00:03<00:00, 99.54it/s] \n",
      "Training Epoch 1089: 100%|██████████| 370/370 [00:03<00:00, 105.97it/s]\n",
      "Training Epoch 1090: 100%|██████████| 370/370 [00:03<00:00, 101.37it/s]\n",
      "Training Epoch 1091: 100%|██████████| 370/370 [00:03<00:00, 101.96it/s]\n"
     ]
    },
    {
     "name": "stdout",
     "output_type": "stream",
     "text": [
      "Epoch 1090 - Train Loss: 0.3450, Train MSE: 0.3395, Train MAE: 0.3620\n",
      "Epoch 1090 - Validation Loss: 1.5752, Validation MSE: 1.5777, Validation MAE: 0.9336\n"
     ]
    },
    {
     "name": "stderr",
     "output_type": "stream",
     "text": [
      "Training Epoch 1092: 100%|██████████| 370/370 [00:03<00:00, 104.74it/s]\n",
      "Training Epoch 1093: 100%|██████████| 370/370 [00:03<00:00, 101.97it/s]\n",
      "Training Epoch 1094: 100%|██████████| 370/370 [00:03<00:00, 103.39it/s]\n",
      "Training Epoch 1095: 100%|██████████| 370/370 [00:03<00:00, 104.02it/s]\n",
      "Training Epoch 1096: 100%|██████████| 370/370 [00:03<00:00, 105.36it/s]\n",
      "Training Epoch 1097: 100%|██████████| 370/370 [00:03<00:00, 102.53it/s]\n",
      "Training Epoch 1098: 100%|██████████| 370/370 [00:03<00:00, 95.86it/s] \n",
      "Training Epoch 1099: 100%|██████████| 370/370 [00:03<00:00, 102.29it/s]\n",
      "Training Epoch 1100: 100%|██████████| 370/370 [00:03<00:00, 103.76it/s]\n",
      "Training Epoch 1101: 100%|██████████| 370/370 [00:03<00:00, 104.05it/s]\n"
     ]
    },
    {
     "name": "stdout",
     "output_type": "stream",
     "text": [
      "Epoch 1100 - Train Loss: 0.3404, Train MSE: 0.3409, Train MAE: 0.3606\n",
      "Epoch 1100 - Validation Loss: 1.5707, Validation MSE: 1.5730, Validation MAE: 0.9255\n"
     ]
    },
    {
     "name": "stderr",
     "output_type": "stream",
     "text": [
      "Training Epoch 1102: 100%|██████████| 370/370 [00:03<00:00, 97.99it/s] \n",
      "Training Epoch 1103: 100%|██████████| 370/370 [00:03<00:00, 102.91it/s]\n",
      "Training Epoch 1104: 100%|██████████| 370/370 [00:03<00:00, 97.23it/s] \n",
      "Training Epoch 1105: 100%|██████████| 370/370 [00:03<00:00, 98.76it/s] \n",
      "Training Epoch 1106: 100%|██████████| 370/370 [00:03<00:00, 96.62it/s] \n",
      "Training Epoch 1107: 100%|██████████| 370/370 [00:03<00:00, 92.85it/s]\n",
      "Training Epoch 1108: 100%|██████████| 370/370 [00:03<00:00, 97.92it/s] \n",
      "Training Epoch 1109: 100%|██████████| 370/370 [00:03<00:00, 99.69it/s] \n",
      "Training Epoch 1110: 100%|██████████| 370/370 [00:03<00:00, 97.73it/s] \n",
      "Training Epoch 1111: 100%|██████████| 370/370 [00:03<00:00, 99.14it/s] \n"
     ]
    },
    {
     "name": "stdout",
     "output_type": "stream",
     "text": [
      "Epoch 1110 - Train Loss: 0.3383, Train MSE: 0.3386, Train MAE: 0.3584\n",
      "Epoch 1110 - Validation Loss: 1.5948, Validation MSE: 1.5973, Validation MAE: 0.9346\n"
     ]
    },
    {
     "name": "stderr",
     "output_type": "stream",
     "text": [
      "Training Epoch 1112: 100%|██████████| 370/370 [00:03<00:00, 99.91it/s] \n",
      "Training Epoch 1113: 100%|██████████| 370/370 [00:03<00:00, 96.93it/s] \n",
      "Training Epoch 1114: 100%|██████████| 370/370 [00:03<00:00, 103.17it/s]\n",
      "Training Epoch 1115: 100%|██████████| 370/370 [00:03<00:00, 97.97it/s] \n",
      "Training Epoch 1116: 100%|██████████| 370/370 [00:03<00:00, 94.73it/s]\n",
      "Training Epoch 1117: 100%|██████████| 370/370 [00:03<00:00, 96.87it/s] \n",
      "Training Epoch 1118: 100%|██████████| 370/370 [00:03<00:00, 104.74it/s]\n",
      "Training Epoch 1119: 100%|██████████| 370/370 [00:03<00:00, 95.80it/s] \n",
      "Training Epoch 1120: 100%|██████████| 370/370 [00:03<00:00, 98.78it/s] \n",
      "Training Epoch 1121: 100%|██████████| 370/370 [00:03<00:00, 103.16it/s]\n"
     ]
    },
    {
     "name": "stdout",
     "output_type": "stream",
     "text": [
      "Epoch 1120 - Train Loss: 0.3327, Train MSE: 0.3327, Train MAE: 0.3553\n",
      "Epoch 1120 - Validation Loss: 1.6677, Validation MSE: 1.6702, Validation MAE: 0.9503\n"
     ]
    },
    {
     "name": "stderr",
     "output_type": "stream",
     "text": [
      "Training Epoch 1122: 100%|██████████| 370/370 [00:03<00:00, 99.53it/s] \n",
      "Training Epoch 1123: 100%|██████████| 370/370 [00:03<00:00, 93.36it/s] \n",
      "Training Epoch 1124: 100%|██████████| 370/370 [00:03<00:00, 95.78it/s] \n",
      "Training Epoch 1125: 100%|██████████| 370/370 [00:03<00:00, 96.02it/s] \n",
      "Training Epoch 1126: 100%|██████████| 370/370 [00:03<00:00, 101.93it/s]\n",
      "Training Epoch 1127: 100%|██████████| 370/370 [00:03<00:00, 97.04it/s] \n",
      "Training Epoch 1128: 100%|██████████| 370/370 [00:03<00:00, 98.76it/s] \n",
      "Training Epoch 1129: 100%|██████████| 370/370 [00:03<00:00, 100.31it/s]\n",
      "Training Epoch 1130: 100%|██████████| 370/370 [00:04<00:00, 91.89it/s] \n",
      "Training Epoch 1131: 100%|██████████| 370/370 [00:03<00:00, 98.03it/s] \n"
     ]
    },
    {
     "name": "stdout",
     "output_type": "stream",
     "text": [
      "Epoch 1130 - Train Loss: 0.3388, Train MSE: 0.3395, Train MAE: 0.3589\n",
      "Epoch 1130 - Validation Loss: 1.5480, Validation MSE: 1.5501, Validation MAE: 0.9281\n"
     ]
    },
    {
     "name": "stderr",
     "output_type": "stream",
     "text": [
      "Training Epoch 1132: 100%|██████████| 370/370 [00:03<00:00, 93.61it/s] \n",
      "Training Epoch 1133: 100%|██████████| 370/370 [00:03<00:00, 94.26it/s]\n",
      "Training Epoch 1134: 100%|██████████| 370/370 [00:03<00:00, 103.17it/s]\n",
      "Training Epoch 1135: 100%|██████████| 370/370 [00:03<00:00, 100.64it/s]\n",
      "Training Epoch 1136: 100%|██████████| 370/370 [00:03<00:00, 102.91it/s]\n",
      "Training Epoch 1137: 100%|██████████| 370/370 [00:03<00:00, 104.42it/s]\n",
      "Training Epoch 1138: 100%|██████████| 370/370 [00:03<00:00, 96.52it/s]\n",
      "Training Epoch 1139: 100%|██████████| 370/370 [00:03<00:00, 102.02it/s]\n",
      "Training Epoch 1140: 100%|██████████| 370/370 [00:03<00:00, 100.82it/s]\n",
      "Training Epoch 1141: 100%|██████████| 370/370 [00:03<00:00, 104.92it/s]\n"
     ]
    },
    {
     "name": "stdout",
     "output_type": "stream",
     "text": [
      "Epoch 1140 - Train Loss: 0.3274, Train MSE: 0.3281, Train MAE: 0.3542\n",
      "Epoch 1140 - Validation Loss: 1.6102, Validation MSE: 1.6134, Validation MAE: 0.9452\n"
     ]
    },
    {
     "name": "stderr",
     "output_type": "stream",
     "text": [
      "Training Epoch 1142: 100%|██████████| 370/370 [00:03<00:00, 100.07it/s]\n",
      "Training Epoch 1143: 100%|██████████| 370/370 [00:03<00:00, 104.33it/s]\n",
      "Training Epoch 1144: 100%|██████████| 370/370 [00:03<00:00, 102.17it/s]\n",
      "Training Epoch 1145: 100%|██████████| 370/370 [00:03<00:00, 103.93it/s]\n",
      "Training Epoch 1146: 100%|██████████| 370/370 [00:03<00:00, 100.94it/s]\n",
      "Training Epoch 1147: 100%|██████████| 370/370 [00:03<00:00, 104.24it/s]\n",
      "Training Epoch 1148: 100%|██████████| 370/370 [00:03<00:00, 102.81it/s]\n",
      "Training Epoch 1149: 100%|██████████| 370/370 [00:03<00:00, 105.27it/s]\n",
      "Training Epoch 1150: 100%|██████████| 370/370 [00:03<00:00, 103.91it/s]\n",
      "Training Epoch 1151: 100%|██████████| 370/370 [00:03<00:00, 104.49it/s]\n"
     ]
    },
    {
     "name": "stdout",
     "output_type": "stream",
     "text": [
      "Epoch 1150 - Train Loss: 0.3245, Train MSE: 0.3236, Train MAE: 0.3511\n",
      "Epoch 1150 - Validation Loss: 1.6307, Validation MSE: 1.6342, Validation MAE: 0.9513\n"
     ]
    },
    {
     "name": "stderr",
     "output_type": "stream",
     "text": [
      "Training Epoch 1152: 100%|██████████| 370/370 [00:03<00:00, 102.72it/s]\n",
      "Training Epoch 1153: 100%|██████████| 370/370 [00:03<00:00, 106.51it/s]\n",
      "Training Epoch 1154: 100%|██████████| 370/370 [00:03<00:00, 104.03it/s]\n",
      "Training Epoch 1155: 100%|██████████| 370/370 [00:03<00:00, 105.70it/s]\n",
      "Training Epoch 1156: 100%|██████████| 370/370 [00:03<00:00, 104.32it/s]\n",
      "Training Epoch 1157: 100%|██████████| 370/370 [00:03<00:00, 102.49it/s]\n",
      "Training Epoch 1158: 100%|██████████| 370/370 [00:03<00:00, 101.52it/s]\n",
      "Training Epoch 1159: 100%|██████████| 370/370 [00:03<00:00, 105.43it/s]\n",
      "Training Epoch 1160: 100%|██████████| 370/370 [00:03<00:00, 102.69it/s]\n",
      "Training Epoch 1161: 100%|██████████| 370/370 [00:03<00:00, 105.77it/s]\n"
     ]
    },
    {
     "name": "stdout",
     "output_type": "stream",
     "text": [
      "Epoch 1160 - Train Loss: 0.3298, Train MSE: 0.3302, Train MAE: 0.3526\n",
      "Epoch 1160 - Validation Loss: 1.6606, Validation MSE: 1.6639, Validation MAE: 0.9505\n"
     ]
    },
    {
     "name": "stderr",
     "output_type": "stream",
     "text": [
      "Training Epoch 1162: 100%|██████████| 370/370 [00:03<00:00, 104.62it/s]\n",
      "Training Epoch 1163: 100%|██████████| 370/370 [00:03<00:00, 105.22it/s]\n",
      "Training Epoch 1164: 100%|██████████| 370/370 [00:03<00:00, 102.29it/s]\n",
      "Training Epoch 1165: 100%|██████████| 370/370 [00:03<00:00, 106.53it/s]\n",
      "Training Epoch 1166: 100%|██████████| 370/370 [00:03<00:00, 104.42it/s]\n",
      "Training Epoch 1167: 100%|██████████| 370/370 [00:03<00:00, 106.49it/s]\n",
      "Training Epoch 1168: 100%|██████████| 370/370 [00:03<00:00, 104.27it/s]\n",
      "Training Epoch 1169: 100%|██████████| 370/370 [00:03<00:00, 105.70it/s]\n",
      "Training Epoch 1170: 100%|██████████| 370/370 [00:03<00:00, 105.64it/s]\n",
      "Training Epoch 1171: 100%|██████████| 370/370 [00:03<00:00, 103.45it/s]\n"
     ]
    },
    {
     "name": "stdout",
     "output_type": "stream",
     "text": [
      "Epoch 1170 - Train Loss: 0.3259, Train MSE: 0.3266, Train MAE: 0.3508\n",
      "Epoch 1170 - Validation Loss: 1.6418, Validation MSE: 1.6450, Validation MAE: 0.9503\n"
     ]
    },
    {
     "name": "stderr",
     "output_type": "stream",
     "text": [
      "Training Epoch 1172: 100%|██████████| 370/370 [00:03<00:00, 105.56it/s]\n",
      "Training Epoch 1173: 100%|██████████| 370/370 [00:03<00:00, 103.41it/s]\n",
      "Training Epoch 1174: 100%|██████████| 370/370 [00:03<00:00, 104.10it/s]\n",
      "Training Epoch 1175: 100%|██████████| 370/370 [00:03<00:00, 104.60it/s]\n",
      "Training Epoch 1176: 100%|██████████| 370/370 [00:03<00:00, 104.27it/s]\n",
      "Training Epoch 1177: 100%|██████████| 370/370 [00:03<00:00, 103.67it/s]\n",
      "Training Epoch 1178: 100%|██████████| 370/370 [00:03<00:00, 106.20it/s]\n",
      "Training Epoch 1179: 100%|██████████| 370/370 [00:03<00:00, 102.80it/s]\n",
      "Training Epoch 1180: 100%|██████████| 370/370 [00:03<00:00, 105.84it/s]\n",
      "Training Epoch 1181: 100%|██████████| 370/370 [00:03<00:00, 102.93it/s]\n"
     ]
    },
    {
     "name": "stdout",
     "output_type": "stream",
     "text": [
      "Epoch 1180 - Train Loss: 0.3216, Train MSE: 0.3221, Train MAE: 0.3490\n",
      "Epoch 1180 - Validation Loss: 1.5703, Validation MSE: 1.5730, Validation MAE: 0.9265\n"
     ]
    },
    {
     "name": "stderr",
     "output_type": "stream",
     "text": [
      "Training Epoch 1182: 100%|██████████| 370/370 [00:03<00:00, 105.06it/s]\n",
      "Training Epoch 1183: 100%|██████████| 370/370 [00:03<00:00, 102.89it/s]\n",
      "Training Epoch 1184: 100%|██████████| 370/370 [00:03<00:00, 104.04it/s]\n",
      "Training Epoch 1185: 100%|██████████| 370/370 [00:03<00:00, 103.50it/s]\n",
      "Training Epoch 1186: 100%|██████████| 370/370 [00:03<00:00, 103.07it/s]\n",
      "Training Epoch 1187: 100%|██████████| 370/370 [00:03<00:00, 103.88it/s]\n",
      "Training Epoch 1188: 100%|██████████| 370/370 [00:03<00:00, 104.42it/s]\n",
      "Training Epoch 1189: 100%|██████████| 370/370 [00:03<00:00, 102.54it/s]\n",
      "Training Epoch 1190: 100%|██████████| 370/370 [00:03<00:00, 102.57it/s]\n",
      "Training Epoch 1191: 100%|██████████| 370/370 [00:03<00:00, 106.01it/s]\n"
     ]
    },
    {
     "name": "stdout",
     "output_type": "stream",
     "text": [
      "Epoch 1190 - Train Loss: 0.3222, Train MSE: 0.3226, Train MAE: 0.3496\n",
      "Epoch 1190 - Validation Loss: 1.6069, Validation MSE: 1.6102, Validation MAE: 0.9334\n"
     ]
    },
    {
     "name": "stderr",
     "output_type": "stream",
     "text": [
      "Training Epoch 1192: 100%|██████████| 370/370 [00:03<00:00, 103.64it/s]\n",
      "Training Epoch 1193: 100%|██████████| 370/370 [00:03<00:00, 105.16it/s]\n",
      "Training Epoch 1194: 100%|██████████| 370/370 [00:03<00:00, 104.76it/s]\n",
      "Training Epoch 1195: 100%|██████████| 370/370 [00:03<00:00, 104.85it/s]\n",
      "Training Epoch 1196: 100%|██████████| 370/370 [00:03<00:00, 103.67it/s]\n",
      "Training Epoch 1197: 100%|██████████| 370/370 [00:03<00:00, 105.03it/s]\n",
      "Training Epoch 1198: 100%|██████████| 370/370 [00:03<00:00, 104.17it/s]\n",
      "Training Epoch 1199: 100%|██████████| 370/370 [00:03<00:00, 104.77it/s]\n",
      "Training Epoch 1200: 100%|██████████| 370/370 [00:03<00:00, 103.17it/s]\n",
      "Training Epoch 1201: 100%|██████████| 370/370 [00:03<00:00, 105.08it/s]\n"
     ]
    },
    {
     "name": "stdout",
     "output_type": "stream",
     "text": [
      "Epoch 1200 - Train Loss: 0.3261, Train MSE: 0.3261, Train MAE: 0.3513\n",
      "Epoch 1200 - Validation Loss: 1.5805, Validation MSE: 1.5832, Validation MAE: 0.9346\n"
     ]
    },
    {
     "name": "stderr",
     "output_type": "stream",
     "text": [
      "Training Epoch 1202: 100%|██████████| 370/370 [00:03<00:00, 102.42it/s]\n",
      "Training Epoch 1203: 100%|██████████| 370/370 [00:03<00:00, 103.75it/s]\n",
      "Training Epoch 1204: 100%|██████████| 370/370 [00:03<00:00, 103.74it/s]\n",
      "Training Epoch 1205: 100%|██████████| 370/370 [00:03<00:00, 105.42it/s]\n",
      "Training Epoch 1206: 100%|██████████| 370/370 [00:03<00:00, 104.31it/s]\n",
      "Training Epoch 1207: 100%|██████████| 370/370 [00:03<00:00, 106.28it/s]\n",
      "Training Epoch 1208: 100%|██████████| 370/370 [00:03<00:00, 103.51it/s]\n",
      "Training Epoch 1209: 100%|██████████| 370/370 [00:03<00:00, 104.49it/s]\n",
      "Training Epoch 1210: 100%|██████████| 370/370 [00:03<00:00, 104.19it/s]\n",
      "Training Epoch 1211: 100%|██████████| 370/370 [00:03<00:00, 103.93it/s]\n"
     ]
    },
    {
     "name": "stdout",
     "output_type": "stream",
     "text": [
      "Epoch 1210 - Train Loss: 0.3240, Train MSE: 0.3245, Train MAE: 0.3479\n",
      "Epoch 1210 - Validation Loss: 1.5935, Validation MSE: 1.5963, Validation MAE: 0.9271\n"
     ]
    },
    {
     "name": "stderr",
     "output_type": "stream",
     "text": [
      "Training Epoch 1212: 100%|██████████| 370/370 [00:03<00:00, 102.25it/s]\n",
      "Training Epoch 1213: 100%|██████████| 370/370 [00:03<00:00, 106.08it/s]\n",
      "Training Epoch 1214: 100%|██████████| 370/370 [00:03<00:00, 102.98it/s]\n",
      "Training Epoch 1215: 100%|██████████| 370/370 [00:03<00:00, 105.43it/s]\n",
      "Training Epoch 1216: 100%|██████████| 370/370 [00:03<00:00, 103.44it/s]\n",
      "Training Epoch 1217: 100%|██████████| 370/370 [00:03<00:00, 105.55it/s]\n",
      "Training Epoch 1218: 100%|██████████| 370/370 [00:03<00:00, 104.95it/s]\n",
      "Training Epoch 1219: 100%|██████████| 370/370 [00:03<00:00, 105.56it/s]\n",
      "Training Epoch 1220: 100%|██████████| 370/370 [00:03<00:00, 103.30it/s]\n",
      "Training Epoch 1221: 100%|██████████| 370/370 [00:03<00:00, 105.21it/s]\n"
     ]
    },
    {
     "name": "stdout",
     "output_type": "stream",
     "text": [
      "Epoch 1220 - Train Loss: 0.3259, Train MSE: 0.3266, Train MAE: 0.3499\n",
      "Epoch 1220 - Validation Loss: 1.6353, Validation MSE: 1.6384, Validation MAE: 0.9395\n"
     ]
    },
    {
     "name": "stderr",
     "output_type": "stream",
     "text": [
      "Training Epoch 1222: 100%|██████████| 370/370 [00:03<00:00, 103.40it/s]\n",
      "Training Epoch 1223: 100%|██████████| 370/370 [00:03<00:00, 105.83it/s]\n",
      "Training Epoch 1224: 100%|██████████| 370/370 [00:03<00:00, 102.25it/s]\n",
      "Training Epoch 1225: 100%|██████████| 370/370 [00:03<00:00, 105.34it/s]\n",
      "Training Epoch 1226: 100%|██████████| 370/370 [00:03<00:00, 106.20it/s]\n",
      "Training Epoch 1227: 100%|██████████| 370/370 [00:03<00:00, 104.46it/s]\n",
      "Training Epoch 1228: 100%|██████████| 370/370 [00:03<00:00, 105.25it/s]\n",
      "Training Epoch 1229: 100%|██████████| 370/370 [00:03<00:00, 106.02it/s]\n",
      "Training Epoch 1230: 100%|██████████| 370/370 [00:03<00:00, 105.79it/s]\n",
      "Training Epoch 1231: 100%|██████████| 370/370 [00:03<00:00, 105.30it/s]\n"
     ]
    },
    {
     "name": "stdout",
     "output_type": "stream",
     "text": [
      "Epoch 1230 - Train Loss: 0.3226, Train MSE: 0.3229, Train MAE: 0.3498\n",
      "Epoch 1230 - Validation Loss: 1.6128, Validation MSE: 1.6155, Validation MAE: 0.9380\n"
     ]
    },
    {
     "name": "stderr",
     "output_type": "stream",
     "text": [
      "Training Epoch 1232: 100%|██████████| 370/370 [00:03<00:00, 106.50it/s]\n",
      "Training Epoch 1233: 100%|██████████| 370/370 [00:03<00:00, 103.32it/s]\n",
      "Training Epoch 1234: 100%|██████████| 370/370 [00:03<00:00, 104.28it/s]\n",
      "Training Epoch 1235: 100%|██████████| 370/370 [00:03<00:00, 103.89it/s]\n",
      "Training Epoch 1236: 100%|██████████| 370/370 [00:03<00:00, 106.17it/s]\n",
      "Training Epoch 1237: 100%|██████████| 370/370 [00:03<00:00, 104.27it/s]\n",
      "Training Epoch 1238: 100%|██████████| 370/370 [00:03<00:00, 104.11it/s]\n",
      "Training Epoch 1239: 100%|██████████| 370/370 [00:03<00:00, 104.73it/s]\n",
      "Training Epoch 1240: 100%|██████████| 370/370 [00:03<00:00, 102.90it/s]\n",
      "Training Epoch 1241: 100%|██████████| 370/370 [00:03<00:00, 102.93it/s]\n"
     ]
    },
    {
     "name": "stdout",
     "output_type": "stream",
     "text": [
      "Epoch 1240 - Train Loss: 0.3262, Train MSE: 0.3263, Train MAE: 0.3501\n",
      "Epoch 1240 - Validation Loss: 1.5263, Validation MSE: 1.5289, Validation MAE: 0.9109\n"
     ]
    },
    {
     "name": "stderr",
     "output_type": "stream",
     "text": [
      "Training Epoch 1242: 100%|██████████| 370/370 [00:03<00:00, 105.58it/s]\n",
      "Training Epoch 1243: 100%|██████████| 370/370 [00:03<00:00, 105.53it/s]\n",
      "Training Epoch 1244: 100%|██████████| 370/370 [00:03<00:00, 106.14it/s]\n",
      "Training Epoch 1245: 100%|██████████| 370/370 [00:03<00:00, 104.59it/s]\n",
      "Training Epoch 1246: 100%|██████████| 370/370 [00:03<00:00, 104.44it/s]\n",
      "Training Epoch 1247: 100%|██████████| 370/370 [00:03<00:00, 104.47it/s]\n",
      "Training Epoch 1248: 100%|██████████| 370/370 [00:03<00:00, 104.97it/s]\n",
      "Training Epoch 1249: 100%|██████████| 370/370 [00:03<00:00, 104.05it/s]\n",
      "Training Epoch 1250: 100%|██████████| 370/370 [00:03<00:00, 106.30it/s]\n",
      "Training Epoch 1251: 100%|██████████| 370/370 [00:03<00:00, 102.57it/s]\n"
     ]
    },
    {
     "name": "stdout",
     "output_type": "stream",
     "text": [
      "Epoch 1250 - Train Loss: 0.3076, Train MSE: 0.3081, Train MAE: 0.3452\n",
      "Epoch 1250 - Validation Loss: 1.5660, Validation MSE: 1.5691, Validation MAE: 0.9297\n"
     ]
    },
    {
     "name": "stderr",
     "output_type": "stream",
     "text": [
      "Training Epoch 1252: 100%|██████████| 370/370 [00:03<00:00, 105.14it/s]\n",
      "Training Epoch 1253: 100%|██████████| 370/370 [00:03<00:00, 102.38it/s]\n",
      "Training Epoch 1254: 100%|██████████| 370/370 [00:03<00:00, 105.17it/s]\n",
      "Training Epoch 1255: 100%|██████████| 370/370 [00:03<00:00, 103.85it/s]\n",
      "Training Epoch 1256: 100%|██████████| 370/370 [00:03<00:00, 105.86it/s]\n",
      "Training Epoch 1257: 100%|██████████| 370/370 [00:03<00:00, 103.49it/s]\n",
      "Training Epoch 1258: 100%|██████████| 370/370 [00:03<00:00, 106.02it/s]\n",
      "Training Epoch 1259: 100%|██████████| 370/370 [00:03<00:00, 103.32it/s]\n",
      "Training Epoch 1260: 100%|██████████| 370/370 [00:03<00:00, 106.68it/s]\n",
      "Training Epoch 1261: 100%|██████████| 370/370 [00:03<00:00, 103.75it/s]\n"
     ]
    },
    {
     "name": "stdout",
     "output_type": "stream",
     "text": [
      "Epoch 1260 - Train Loss: 0.3120, Train MSE: 0.3123, Train MAE: 0.3455\n",
      "Epoch 1260 - Validation Loss: 1.6147, Validation MSE: 1.6176, Validation MAE: 0.9357\n"
     ]
    },
    {
     "name": "stderr",
     "output_type": "stream",
     "text": [
      "Training Epoch 1262: 100%|██████████| 370/370 [00:03<00:00, 104.35it/s]\n",
      "Training Epoch 1263: 100%|██████████| 370/370 [00:03<00:00, 105.85it/s]\n",
      "Training Epoch 1264: 100%|██████████| 370/370 [00:03<00:00, 104.50it/s]\n",
      "Training Epoch 1265: 100%|██████████| 370/370 [00:03<00:00, 107.01it/s]\n",
      "Training Epoch 1266: 100%|██████████| 370/370 [00:03<00:00, 101.49it/s]\n",
      "Training Epoch 1267: 100%|██████████| 370/370 [00:03<00:00, 105.50it/s]\n",
      "Training Epoch 1268: 100%|██████████| 370/370 [00:03<00:00, 104.35it/s]\n",
      "Training Epoch 1269: 100%|██████████| 370/370 [00:03<00:00, 105.75it/s]\n",
      "Training Epoch 1270: 100%|██████████| 370/370 [00:03<00:00, 104.30it/s]\n",
      "Training Epoch 1271: 100%|██████████| 370/370 [00:03<00:00, 106.71it/s]\n"
     ]
    },
    {
     "name": "stdout",
     "output_type": "stream",
     "text": [
      "Epoch 1270 - Train Loss: 0.3259, Train MSE: 0.3257, Train MAE: 0.3495\n",
      "Epoch 1270 - Validation Loss: 1.6338, Validation MSE: 1.6370, Validation MAE: 0.9449\n"
     ]
    },
    {
     "name": "stderr",
     "output_type": "stream",
     "text": [
      "Training Epoch 1272: 100%|██████████| 370/370 [00:03<00:00, 102.00it/s]\n",
      "Training Epoch 1273: 100%|██████████| 370/370 [00:03<00:00, 105.27it/s]\n",
      "Training Epoch 1274: 100%|██████████| 370/370 [00:03<00:00, 104.30it/s]\n",
      "Training Epoch 1275: 100%|██████████| 370/370 [00:03<00:00, 106.32it/s]\n",
      "Training Epoch 1276: 100%|██████████| 370/370 [00:03<00:00, 104.10it/s]\n",
      "Training Epoch 1277: 100%|██████████| 370/370 [00:03<00:00, 103.97it/s]\n",
      "Training Epoch 1278: 100%|██████████| 370/370 [00:03<00:00, 103.86it/s]\n",
      "Training Epoch 1279: 100%|██████████| 370/370 [00:03<00:00, 104.07it/s]\n",
      "Training Epoch 1280: 100%|██████████| 370/370 [00:03<00:00, 105.10it/s]\n",
      "Training Epoch 1281: 100%|██████████| 370/370 [00:03<00:00, 103.95it/s]\n"
     ]
    },
    {
     "name": "stdout",
     "output_type": "stream",
     "text": [
      "Epoch 1280 - Train Loss: 0.3268, Train MSE: 0.3274, Train MAE: 0.3508\n",
      "Epoch 1280 - Validation Loss: 1.5611, Validation MSE: 1.5643, Validation MAE: 0.9257\n"
     ]
    },
    {
     "name": "stderr",
     "output_type": "stream",
     "text": [
      "Training Epoch 1282: 100%|██████████| 370/370 [00:03<00:00, 103.30it/s]\n",
      "Training Epoch 1283: 100%|██████████| 370/370 [00:03<00:00, 106.72it/s]\n",
      "Training Epoch 1284: 100%|██████████| 370/370 [00:03<00:00, 103.35it/s]\n",
      "Training Epoch 1285: 100%|██████████| 370/370 [00:03<00:00, 105.29it/s]\n",
      "Training Epoch 1286: 100%|██████████| 370/370 [00:03<00:00, 103.23it/s]\n",
      "Training Epoch 1287: 100%|██████████| 370/370 [00:03<00:00, 106.97it/s]\n",
      "Training Epoch 1288: 100%|██████████| 370/370 [00:03<00:00, 102.72it/s]\n",
      "Training Epoch 1289: 100%|██████████| 370/370 [00:03<00:00, 105.18it/s]\n",
      "Training Epoch 1290: 100%|██████████| 370/370 [00:03<00:00, 101.32it/s]\n",
      "Training Epoch 1291: 100%|██████████| 370/370 [00:03<00:00, 104.87it/s]\n"
     ]
    },
    {
     "name": "stdout",
     "output_type": "stream",
     "text": [
      "Epoch 1290 - Train Loss: 0.3146, Train MSE: 0.3150, Train MAE: 0.3437\n",
      "Epoch 1290 - Validation Loss: 1.5871, Validation MSE: 1.5905, Validation MAE: 0.9312\n"
     ]
    },
    {
     "name": "stderr",
     "output_type": "stream",
     "text": [
      "Training Epoch 1292: 100%|██████████| 370/370 [00:03<00:00, 103.55it/s]\n",
      "Training Epoch 1293: 100%|██████████| 370/370 [00:03<00:00, 103.53it/s]\n",
      "Training Epoch 1294: 100%|██████████| 370/370 [00:03<00:00, 103.37it/s]\n",
      "Training Epoch 1295: 100%|██████████| 370/370 [00:03<00:00, 103.48it/s]\n",
      "Training Epoch 1296: 100%|██████████| 370/370 [00:03<00:00, 106.04it/s]\n",
      "Training Epoch 1297: 100%|██████████| 370/370 [00:03<00:00, 102.43it/s]\n",
      "Training Epoch 1298: 100%|██████████| 370/370 [00:03<00:00, 104.32it/s]\n",
      "Training Epoch 1299: 100%|██████████| 370/370 [00:03<00:00, 104.63it/s]\n",
      "Training Epoch 1300: 100%|██████████| 370/370 [00:03<00:00, 106.20it/s]\n",
      "Training Epoch 1301: 100%|██████████| 370/370 [00:03<00:00, 102.51it/s]\n"
     ]
    },
    {
     "name": "stdout",
     "output_type": "stream",
     "text": [
      "Epoch 1300 - Train Loss: 0.3146, Train MSE: 0.3138, Train MAE: 0.3442\n",
      "Epoch 1300 - Validation Loss: 1.6444, Validation MSE: 1.6478, Validation MAE: 0.9487\n"
     ]
    },
    {
     "name": "stderr",
     "output_type": "stream",
     "text": [
      "Training Epoch 1302: 100%|██████████| 370/370 [00:03<00:00, 105.63it/s]\n",
      "Training Epoch 1303: 100%|██████████| 370/370 [00:03<00:00, 98.59it/s] \n",
      "Training Epoch 1304: 100%|██████████| 370/370 [00:03<00:00, 104.63it/s]\n",
      "Training Epoch 1305: 100%|██████████| 370/370 [00:03<00:00, 103.72it/s]\n",
      "Training Epoch 1306: 100%|██████████| 370/370 [00:03<00:00, 106.57it/s]\n",
      "Training Epoch 1307: 100%|██████████| 370/370 [00:03<00:00, 102.29it/s]\n",
      "Training Epoch 1308: 100%|██████████| 370/370 [00:03<00:00, 105.02it/s]\n",
      "Training Epoch 1309: 100%|██████████| 370/370 [00:03<00:00, 104.13it/s]\n",
      "Training Epoch 1310: 100%|██████████| 370/370 [00:03<00:00, 105.22it/s]\n",
      "Training Epoch 1311: 100%|██████████| 370/370 [00:03<00:00, 103.22it/s]\n"
     ]
    },
    {
     "name": "stdout",
     "output_type": "stream",
     "text": [
      "Epoch 1310 - Train Loss: 0.3049, Train MSE: 0.3043, Train MAE: 0.3385\n",
      "Epoch 1310 - Validation Loss: 1.6321, Validation MSE: 1.6350, Validation MAE: 0.9443\n"
     ]
    },
    {
     "name": "stderr",
     "output_type": "stream",
     "text": [
      "Training Epoch 1312: 100%|██████████| 370/370 [00:03<00:00, 104.41it/s]\n",
      "Training Epoch 1313: 100%|██████████| 370/370 [00:03<00:00, 101.58it/s]\n",
      "Training Epoch 1314: 100%|██████████| 370/370 [00:03<00:00, 103.03it/s]\n",
      "Training Epoch 1315: 100%|██████████| 370/370 [00:03<00:00, 99.62it/s] \n",
      "Training Epoch 1316: 100%|██████████| 370/370 [00:03<00:00, 98.55it/s] \n",
      "Training Epoch 1317: 100%|██████████| 370/370 [00:03<00:00, 103.46it/s]\n",
      "Training Epoch 1318: 100%|██████████| 370/370 [00:03<00:00, 104.87it/s]\n",
      "Training Epoch 1319: 100%|██████████| 370/370 [00:03<00:00, 95.25it/s] \n",
      "Training Epoch 1320: 100%|██████████| 370/370 [00:03<00:00, 95.60it/s] \n",
      "Training Epoch 1321: 100%|██████████| 370/370 [00:03<00:00, 97.45it/s] \n"
     ]
    },
    {
     "name": "stdout",
     "output_type": "stream",
     "text": [
      "Epoch 1320 - Train Loss: 0.3099, Train MSE: 0.3096, Train MAE: 0.3398\n",
      "Epoch 1320 - Validation Loss: 1.6131, Validation MSE: 1.6157, Validation MAE: 0.9426\n"
     ]
    },
    {
     "name": "stderr",
     "output_type": "stream",
     "text": [
      "Training Epoch 1322: 100%|██████████| 370/370 [00:03<00:00, 98.87it/s] \n",
      "Training Epoch 1323: 100%|██████████| 370/370 [00:03<00:00, 104.68it/s]\n",
      "Training Epoch 1324: 100%|██████████| 370/370 [00:03<00:00, 101.44it/s]\n",
      "Training Epoch 1325: 100%|██████████| 370/370 [00:03<00:00, 105.88it/s]\n",
      "Training Epoch 1326: 100%|██████████| 370/370 [00:03<00:00, 103.00it/s]\n",
      "Training Epoch 1327: 100%|██████████| 370/370 [00:03<00:00, 104.70it/s]\n",
      "Training Epoch 1328: 100%|██████████| 370/370 [00:03<00:00, 101.45it/s]\n",
      "Training Epoch 1329: 100%|██████████| 370/370 [00:03<00:00, 103.65it/s]\n",
      "Training Epoch 1330: 100%|██████████| 370/370 [00:03<00:00, 104.19it/s]\n",
      "Training Epoch 1331: 100%|██████████| 370/370 [00:03<00:00, 106.08it/s]\n"
     ]
    },
    {
     "name": "stdout",
     "output_type": "stream",
     "text": [
      "Epoch 1330 - Train Loss: 0.3074, Train MSE: 0.3069, Train MAE: 0.3381\n",
      "Epoch 1330 - Validation Loss: 1.5868, Validation MSE: 1.5898, Validation MAE: 0.9334\n"
     ]
    },
    {
     "name": "stderr",
     "output_type": "stream",
     "text": [
      "Training Epoch 1332: 100%|██████████| 370/370 [00:03<00:00, 102.33it/s]\n",
      "Training Epoch 1333: 100%|██████████| 370/370 [00:03<00:00, 103.33it/s]\n",
      "Training Epoch 1334: 100%|██████████| 370/370 [00:03<00:00, 104.14it/s]\n",
      "Training Epoch 1335: 100%|██████████| 370/370 [00:03<00:00, 105.50it/s]\n",
      "Training Epoch 1336: 100%|██████████| 370/370 [00:03<00:00, 104.23it/s]\n",
      "Training Epoch 1337: 100%|██████████| 370/370 [00:03<00:00, 104.87it/s]\n",
      "Training Epoch 1338: 100%|██████████| 370/370 [00:03<00:00, 103.88it/s]\n",
      "Training Epoch 1339: 100%|██████████| 370/370 [00:03<00:00, 102.64it/s]\n",
      "Training Epoch 1340: 100%|██████████| 370/370 [00:03<00:00, 100.04it/s]\n",
      "Training Epoch 1341: 100%|██████████| 370/370 [00:03<00:00, 103.56it/s]\n"
     ]
    },
    {
     "name": "stdout",
     "output_type": "stream",
     "text": [
      "Epoch 1340 - Train Loss: 0.3115, Train MSE: 0.3116, Train MAE: 0.3422\n",
      "Epoch 1340 - Validation Loss: 1.5918, Validation MSE: 1.5940, Validation MAE: 0.9330\n"
     ]
    },
    {
     "name": "stderr",
     "output_type": "stream",
     "text": [
      "Training Epoch 1342: 100%|██████████| 370/370 [00:03<00:00, 103.03it/s]\n",
      "Training Epoch 1343: 100%|██████████| 370/370 [00:04<00:00, 84.43it/s] \n",
      "Training Epoch 1344: 100%|██████████| 370/370 [00:03<00:00, 95.23it/s] \n",
      "Training Epoch 1345: 100%|██████████| 370/370 [00:03<00:00, 101.36it/s]\n",
      "Training Epoch 1346: 100%|██████████| 370/370 [00:03<00:00, 102.90it/s]\n",
      "Training Epoch 1347: 100%|██████████| 370/370 [00:03<00:00, 103.44it/s]\n",
      "Training Epoch 1348: 100%|██████████| 370/370 [00:03<00:00, 104.07it/s]\n",
      "Training Epoch 1349: 100%|██████████| 370/370 [00:03<00:00, 104.17it/s]\n",
      "Training Epoch 1350: 100%|██████████| 370/370 [00:03<00:00, 102.62it/s]\n",
      "Training Epoch 1351: 100%|██████████| 370/370 [00:03<00:00, 100.18it/s]\n"
     ]
    },
    {
     "name": "stdout",
     "output_type": "stream",
     "text": [
      "Epoch 1350 - Train Loss: 0.3094, Train MSE: 0.3076, Train MAE: 0.3416\n",
      "Epoch 1350 - Validation Loss: 1.5885, Validation MSE: 1.5916, Validation MAE: 0.9308\n"
     ]
    },
    {
     "name": "stderr",
     "output_type": "stream",
     "text": [
      "Training Epoch 1352: 100%|██████████| 370/370 [00:03<00:00, 99.87it/s] \n",
      "Training Epoch 1353: 100%|██████████| 370/370 [00:03<00:00, 99.18it/s] \n",
      "Training Epoch 1354: 100%|██████████| 370/370 [00:04<00:00, 91.09it/s]\n",
      "Training Epoch 1355: 100%|██████████| 370/370 [00:03<00:00, 102.37it/s]\n",
      "Training Epoch 1356: 100%|██████████| 370/370 [00:03<00:00, 96.41it/s] \n",
      "Training Epoch 1357: 100%|██████████| 370/370 [00:03<00:00, 96.21it/s] \n",
      "Training Epoch 1358: 100%|██████████| 370/370 [00:03<00:00, 102.46it/s]\n",
      "Training Epoch 1359: 100%|██████████| 370/370 [00:03<00:00, 101.37it/s]\n",
      "Training Epoch 1360: 100%|██████████| 370/370 [00:03<00:00, 96.08it/s] \n",
      "Training Epoch 1361: 100%|██████████| 370/370 [00:03<00:00, 108.82it/s]\n"
     ]
    },
    {
     "name": "stdout",
     "output_type": "stream",
     "text": [
      "Epoch 1360 - Train Loss: 0.2998, Train MSE: 0.3003, Train MAE: 0.3351\n",
      "Epoch 1360 - Validation Loss: 1.5894, Validation MSE: 1.5918, Validation MAE: 0.9331\n"
     ]
    },
    {
     "name": "stderr",
     "output_type": "stream",
     "text": [
      "Training Epoch 1362: 100%|██████████| 370/370 [00:03<00:00, 105.71it/s]\n",
      "Training Epoch 1363: 100%|██████████| 370/370 [00:03<00:00, 104.53it/s]\n",
      "Training Epoch 1364: 100%|██████████| 370/370 [00:03<00:00, 103.69it/s]\n",
      "Training Epoch 1365: 100%|██████████| 370/370 [00:03<00:00, 106.85it/s]\n",
      "Training Epoch 1366: 100%|██████████| 370/370 [00:03<00:00, 94.60it/s]\n",
      "Training Epoch 1367: 100%|██████████| 370/370 [00:03<00:00, 101.90it/s]\n",
      "Training Epoch 1368: 100%|██████████| 370/370 [00:03<00:00, 100.62it/s]\n",
      "Training Epoch 1369: 100%|██████████| 370/370 [00:04<00:00, 85.88it/s]\n",
      "Training Epoch 1370: 100%|██████████| 370/370 [00:03<00:00, 98.47it/s] \n",
      "Training Epoch 1371: 100%|██████████| 370/370 [00:03<00:00, 99.66it/s] \n"
     ]
    },
    {
     "name": "stdout",
     "output_type": "stream",
     "text": [
      "Epoch 1370 - Train Loss: 0.2999, Train MSE: 0.3002, Train MAE: 0.3360\n",
      "Epoch 1370 - Validation Loss: 1.6194, Validation MSE: 1.6227, Validation MAE: 0.9416\n"
     ]
    },
    {
     "name": "stderr",
     "output_type": "stream",
     "text": [
      "Training Epoch 1372: 100%|██████████| 370/370 [00:03<00:00, 93.90it/s] \n",
      "Training Epoch 1373: 100%|██████████| 370/370 [00:03<00:00, 95.95it/s] \n",
      "Training Epoch 1374: 100%|██████████| 370/370 [00:03<00:00, 101.38it/s]\n",
      "Training Epoch 1375: 100%|██████████| 370/370 [00:03<00:00, 99.69it/s] \n",
      "Training Epoch 1376: 100%|██████████| 370/370 [00:04<00:00, 87.11it/s]\n",
      "Training Epoch 1377: 100%|██████████| 370/370 [00:03<00:00, 93.04it/s] \n",
      "Training Epoch 1378: 100%|██████████| 370/370 [00:03<00:00, 93.96it/s] \n",
      "Training Epoch 1379: 100%|██████████| 370/370 [00:03<00:00, 94.03it/s] \n",
      "Training Epoch 1380: 100%|██████████| 370/370 [00:03<00:00, 105.21it/s]\n",
      "Training Epoch 1381: 100%|██████████| 370/370 [00:03<00:00, 102.52it/s]\n"
     ]
    },
    {
     "name": "stdout",
     "output_type": "stream",
     "text": [
      "Epoch 1380 - Train Loss: 0.3017, Train MSE: 0.3018, Train MAE: 0.3376\n",
      "Epoch 1380 - Validation Loss: 1.5928, Validation MSE: 1.5952, Validation MAE: 0.9270\n"
     ]
    },
    {
     "name": "stderr",
     "output_type": "stream",
     "text": [
      "Training Epoch 1382: 100%|██████████| 370/370 [00:03<00:00, 102.14it/s]\n",
      "Training Epoch 1383: 100%|██████████| 370/370 [00:03<00:00, 102.31it/s]\n",
      "Training Epoch 1384: 100%|██████████| 370/370 [00:03<00:00, 95.10it/s] \n",
      "Training Epoch 1385: 100%|██████████| 370/370 [00:04<00:00, 90.56it/s]\n",
      "Training Epoch 1386: 100%|██████████| 370/370 [00:04<00:00, 90.98it/s]\n",
      "Training Epoch 1387: 100%|██████████| 370/370 [00:04<00:00, 83.64it/s]\n",
      "Training Epoch 1388: 100%|██████████| 370/370 [00:03<00:00, 94.88it/s] \n",
      "Training Epoch 1389: 100%|██████████| 370/370 [00:03<00:00, 93.98it/s] \n",
      "Training Epoch 1390: 100%|██████████| 370/370 [00:03<00:00, 93.33it/s] \n",
      "Training Epoch 1391: 100%|██████████| 370/370 [00:03<00:00, 97.21it/s] \n"
     ]
    },
    {
     "name": "stdout",
     "output_type": "stream",
     "text": [
      "Epoch 1390 - Train Loss: 0.3094, Train MSE: 0.3051, Train MAE: 0.3405\n",
      "Epoch 1390 - Validation Loss: 1.6372, Validation MSE: 1.6397, Validation MAE: 0.9412\n"
     ]
    },
    {
     "name": "stderr",
     "output_type": "stream",
     "text": [
      "Training Epoch 1392: 100%|██████████| 370/370 [00:03<00:00, 100.66it/s]\n",
      "Training Epoch 1393: 100%|██████████| 370/370 [00:03<00:00, 100.92it/s]\n",
      "Training Epoch 1394: 100%|██████████| 370/370 [00:03<00:00, 99.75it/s] \n",
      "Training Epoch 1395: 100%|██████████| 370/370 [00:03<00:00, 104.33it/s]\n",
      "Training Epoch 1396: 100%|██████████| 370/370 [00:03<00:00, 103.39it/s]\n",
      "Training Epoch 1397: 100%|██████████| 370/370 [00:03<00:00, 100.68it/s]\n",
      "Training Epoch 1398: 100%|██████████| 370/370 [00:03<00:00, 99.92it/s] \n",
      "Training Epoch 1399: 100%|██████████| 370/370 [00:03<00:00, 99.76it/s] \n",
      "Training Epoch 1400: 100%|██████████| 370/370 [00:03<00:00, 101.46it/s]\n",
      "Training Epoch 1401: 100%|██████████| 370/370 [00:03<00:00, 99.76it/s] \n"
     ]
    },
    {
     "name": "stdout",
     "output_type": "stream",
     "text": [
      "Epoch 1400 - Train Loss: 0.3017, Train MSE: 0.3020, Train MAE: 0.3377\n",
      "Epoch 1400 - Validation Loss: 1.6090, Validation MSE: 1.6112, Validation MAE: 0.9344\n"
     ]
    },
    {
     "name": "stderr",
     "output_type": "stream",
     "text": [
      "Training Epoch 1402: 100%|██████████| 370/370 [00:03<00:00, 101.30it/s]\n",
      "Training Epoch 1403: 100%|██████████| 370/370 [00:03<00:00, 98.77it/s] \n",
      "Training Epoch 1404: 100%|██████████| 370/370 [00:03<00:00, 102.87it/s]\n",
      "Training Epoch 1405: 100%|██████████| 370/370 [00:03<00:00, 104.61it/s]\n",
      "Training Epoch 1406: 100%|██████████| 370/370 [00:03<00:00, 103.42it/s]\n",
      "Training Epoch 1407: 100%|██████████| 370/370 [00:03<00:00, 100.22it/s]\n",
      "Training Epoch 1408: 100%|██████████| 370/370 [00:03<00:00, 98.12it/s] \n",
      "Training Epoch 1409: 100%|██████████| 370/370 [00:03<00:00, 102.54it/s]\n",
      "Training Epoch 1410: 100%|██████████| 370/370 [00:03<00:00, 100.09it/s]\n",
      "Training Epoch 1411: 100%|██████████| 370/370 [00:03<00:00, 96.47it/s] \n"
     ]
    },
    {
     "name": "stdout",
     "output_type": "stream",
     "text": [
      "Epoch 1410 - Train Loss: 0.2906, Train MSE: 0.2911, Train MAE: 0.3327\n",
      "Epoch 1410 - Validation Loss: 1.6017, Validation MSE: 1.6045, Validation MAE: 0.9353\n"
     ]
    },
    {
     "name": "stderr",
     "output_type": "stream",
     "text": [
      "Training Epoch 1412: 100%|██████████| 370/370 [00:04<00:00, 91.90it/s] \n",
      "Training Epoch 1413: 100%|██████████| 370/370 [00:04<00:00, 86.82it/s]\n",
      "Training Epoch 1414: 100%|██████████| 370/370 [00:03<00:00, 93.53it/s]\n",
      "Training Epoch 1415: 100%|██████████| 370/370 [00:03<00:00, 95.94it/s] \n",
      "Training Epoch 1416: 100%|██████████| 370/370 [00:03<00:00, 101.36it/s]\n",
      "Training Epoch 1417: 100%|██████████| 370/370 [00:04<00:00, 86.39it/s] \n",
      "Training Epoch 1418: 100%|██████████| 370/370 [00:03<00:00, 100.26it/s]\n",
      "Training Epoch 1419: 100%|██████████| 370/370 [00:04<00:00, 85.36it/s]\n",
      "Training Epoch 1420: 100%|██████████| 370/370 [00:04<00:00, 85.62it/s]\n",
      "Training Epoch 1421: 100%|██████████| 370/370 [00:04<00:00, 83.36it/s]\n"
     ]
    },
    {
     "name": "stdout",
     "output_type": "stream",
     "text": [
      "Epoch 1420 - Train Loss: 0.2996, Train MSE: 0.2945, Train MAE: 0.3337\n",
      "Epoch 1420 - Validation Loss: 1.6222, Validation MSE: 1.6253, Validation MAE: 0.9428\n"
     ]
    },
    {
     "name": "stderr",
     "output_type": "stream",
     "text": [
      "Training Epoch 1422: 100%|██████████| 370/370 [00:04<00:00, 84.20it/s]\n",
      "Training Epoch 1423: 100%|██████████| 370/370 [00:04<00:00, 83.92it/s]\n",
      "Training Epoch 1424: 100%|██████████| 370/370 [00:04<00:00, 84.16it/s]\n",
      "Training Epoch 1425: 100%|██████████| 370/370 [00:05<00:00, 69.30it/s]\n",
      "Training Epoch 1426: 100%|██████████| 370/370 [00:04<00:00, 83.07it/s]\n",
      "Training Epoch 1427: 100%|██████████| 370/370 [00:04<00:00, 80.08it/s]\n",
      "Training Epoch 1428: 100%|██████████| 370/370 [00:04<00:00, 85.38it/s]\n",
      "Training Epoch 1429: 100%|██████████| 370/370 [00:04<00:00, 84.82it/s]\n",
      "Training Epoch 1430: 100%|██████████| 370/370 [00:04<00:00, 77.17it/s]\n",
      "Training Epoch 1431: 100%|██████████| 370/370 [00:05<00:00, 62.94it/s]\n"
     ]
    },
    {
     "name": "stdout",
     "output_type": "stream",
     "text": [
      "Epoch 1430 - Train Loss: 0.3060, Train MSE: 0.3008, Train MAE: 0.3339\n",
      "Epoch 1430 - Validation Loss: 1.5495, Validation MSE: 1.5524, Validation MAE: 0.9206\n"
     ]
    },
    {
     "name": "stderr",
     "output_type": "stream",
     "text": [
      "Training Epoch 1432: 100%|██████████| 370/370 [00:06<00:00, 56.50it/s]\n",
      "Training Epoch 1433: 100%|██████████| 370/370 [00:06<00:00, 55.60it/s]\n",
      "Training Epoch 1434: 100%|██████████| 370/370 [00:07<00:00, 52.69it/s]\n",
      "Training Epoch 1435: 100%|██████████| 370/370 [00:06<00:00, 54.54it/s]\n",
      "Training Epoch 1436: 100%|██████████| 370/370 [00:06<00:00, 53.58it/s]\n",
      "Training Epoch 1437: 100%|██████████| 370/370 [00:06<00:00, 55.85it/s]\n",
      "Training Epoch 1438: 100%|██████████| 370/370 [00:06<00:00, 54.38it/s]\n",
      "Training Epoch 1439: 100%|██████████| 370/370 [00:07<00:00, 48.79it/s]\n",
      "Training Epoch 1440: 100%|██████████| 370/370 [00:06<00:00, 53.23it/s]\n",
      "Training Epoch 1441: 100%|██████████| 370/370 [00:07<00:00, 52.74it/s]\n"
     ]
    },
    {
     "name": "stdout",
     "output_type": "stream",
     "text": [
      "Epoch 1440 - Train Loss: 0.2893, Train MSE: 0.2899, Train MAE: 0.3295\n",
      "Epoch 1440 - Validation Loss: 1.5840, Validation MSE: 1.5869, Validation MAE: 0.9301\n"
     ]
    },
    {
     "name": "stderr",
     "output_type": "stream",
     "text": [
      "Training Epoch 1442: 100%|██████████| 370/370 [00:07<00:00, 51.76it/s]\n",
      "Training Epoch 1443: 100%|██████████| 370/370 [00:07<00:00, 50.19it/s]\n",
      "Training Epoch 1444: 100%|██████████| 370/370 [00:06<00:00, 54.77it/s]\n",
      "Training Epoch 1445: 100%|██████████| 370/370 [00:06<00:00, 56.29it/s]\n",
      "Training Epoch 1446: 100%|██████████| 370/370 [00:10<00:00, 35.60it/s]\n",
      "Training Epoch 1447: 100%|██████████| 370/370 [00:08<00:00, 44.32it/s]\n",
      "Training Epoch 1448: 100%|██████████| 370/370 [00:07<00:00, 48.99it/s]\n",
      "Training Epoch 1449: 100%|██████████| 370/370 [00:07<00:00, 49.67it/s]\n",
      "Training Epoch 1450: 100%|██████████| 370/370 [00:07<00:00, 47.07it/s]\n",
      "Training Epoch 1451: 100%|██████████| 370/370 [00:07<00:00, 50.24it/s]\n"
     ]
    },
    {
     "name": "stdout",
     "output_type": "stream",
     "text": [
      "Epoch 1450 - Train Loss: 0.3054, Train MSE: 0.3052, Train MAE: 0.3407\n",
      "Epoch 1450 - Validation Loss: 1.5614, Validation MSE: 1.5648, Validation MAE: 0.9251\n"
     ]
    },
    {
     "name": "stderr",
     "output_type": "stream",
     "text": [
      "Training Epoch 1452: 100%|██████████| 370/370 [00:07<00:00, 49.88it/s]\n",
      "Training Epoch 1453: 100%|██████████| 370/370 [00:08<00:00, 43.27it/s]\n",
      "Training Epoch 1454: 100%|██████████| 370/370 [00:07<00:00, 48.60it/s]\n",
      "Training Epoch 1455: 100%|██████████| 370/370 [00:07<00:00, 52.52it/s]\n",
      "Training Epoch 1456: 100%|██████████| 370/370 [00:07<00:00, 52.07it/s]\n",
      "Training Epoch 1457: 100%|██████████| 370/370 [00:06<00:00, 53.36it/s]\n",
      "Training Epoch 1458: 100%|██████████| 370/370 [00:06<00:00, 54.88it/s]\n",
      "Training Epoch 1459: 100%|██████████| 370/370 [00:07<00:00, 51.92it/s]\n",
      "Training Epoch 1460: 100%|██████████| 370/370 [00:06<00:00, 53.01it/s]\n",
      "Training Epoch 1461: 100%|██████████| 370/370 [00:07<00:00, 52.05it/s]\n"
     ]
    },
    {
     "name": "stdout",
     "output_type": "stream",
     "text": [
      "Epoch 1460 - Train Loss: 0.2948, Train MSE: 0.2952, Train MAE: 0.3324\n",
      "Epoch 1460 - Validation Loss: 1.6088, Validation MSE: 1.6113, Validation MAE: 0.9388\n"
     ]
    },
    {
     "name": "stderr",
     "output_type": "stream",
     "text": [
      "Training Epoch 1462: 100%|██████████| 370/370 [00:07<00:00, 47.50it/s]\n",
      "Training Epoch 1463: 100%|██████████| 370/370 [00:07<00:00, 51.54it/s]\n",
      "Training Epoch 1464: 100%|██████████| 370/370 [00:07<00:00, 49.71it/s]\n",
      "Training Epoch 1465: 100%|██████████| 370/370 [00:07<00:00, 52.41it/s]\n",
      "Training Epoch 1466: 100%|██████████| 370/370 [00:07<00:00, 51.33it/s]\n",
      "Training Epoch 1467: 100%|██████████| 370/370 [00:07<00:00, 49.78it/s]\n",
      "Training Epoch 1468: 100%|██████████| 370/370 [00:06<00:00, 53.96it/s]\n",
      "Training Epoch 1469: 100%|██████████| 370/370 [00:07<00:00, 49.44it/s]\n",
      "Training Epoch 1470: 100%|██████████| 370/370 [00:07<00:00, 49.14it/s]\n",
      "Training Epoch 1471: 100%|██████████| 370/370 [00:06<00:00, 53.28it/s]\n"
     ]
    },
    {
     "name": "stdout",
     "output_type": "stream",
     "text": [
      "Epoch 1470 - Train Loss: 0.2867, Train MSE: 0.2872, Train MAE: 0.3277\n",
      "Epoch 1470 - Validation Loss: 1.6080, Validation MSE: 1.6104, Validation MAE: 0.9316\n"
     ]
    },
    {
     "name": "stderr",
     "output_type": "stream",
     "text": [
      "Training Epoch 1472: 100%|██████████| 370/370 [00:07<00:00, 46.55it/s]\n",
      "Training Epoch 1473: 100%|██████████| 370/370 [00:07<00:00, 48.93it/s]\n",
      "Training Epoch 1474: 100%|██████████| 370/370 [00:08<00:00, 42.76it/s]\n",
      "Training Epoch 1475: 100%|██████████| 370/370 [00:07<00:00, 47.53it/s]\n",
      "Training Epoch 1476: 100%|██████████| 370/370 [00:08<00:00, 44.60it/s]\n",
      "Training Epoch 1477: 100%|██████████| 370/370 [00:08<00:00, 43.45it/s]\n",
      "Training Epoch 1478: 100%|██████████| 370/370 [00:07<00:00, 47.43it/s]\n",
      "Training Epoch 1479: 100%|██████████| 370/370 [00:07<00:00, 51.79it/s]\n",
      "Training Epoch 1480: 100%|██████████| 370/370 [00:08<00:00, 46.18it/s]\n",
      "Training Epoch 1481: 100%|██████████| 370/370 [00:08<00:00, 45.44it/s]\n"
     ]
    },
    {
     "name": "stdout",
     "output_type": "stream",
     "text": [
      "Epoch 1480 - Train Loss: 0.3029, Train MSE: 0.3028, Train MAE: 0.3347\n",
      "Epoch 1480 - Validation Loss: 1.5893, Validation MSE: 1.5925, Validation MAE: 0.9307\n"
     ]
    },
    {
     "name": "stderr",
     "output_type": "stream",
     "text": [
      "Training Epoch 1482: 100%|██████████| 370/370 [00:06<00:00, 52.87it/s]\n",
      "Training Epoch 1483: 100%|██████████| 370/370 [00:07<00:00, 49.35it/s]\n",
      "Training Epoch 1484: 100%|██████████| 370/370 [00:07<00:00, 52.47it/s]\n",
      "Training Epoch 1485: 100%|██████████| 370/370 [00:07<00:00, 51.39it/s]\n",
      "Training Epoch 1486: 100%|██████████| 370/370 [00:07<00:00, 51.99it/s]\n",
      "Training Epoch 1487: 100%|██████████| 370/370 [00:06<00:00, 53.75it/s]\n",
      "Training Epoch 1488: 100%|██████████| 370/370 [00:07<00:00, 52.37it/s]\n",
      "Training Epoch 1489: 100%|██████████| 370/370 [00:07<00:00, 52.11it/s]\n",
      "Training Epoch 1490: 100%|██████████| 370/370 [00:07<00:00, 51.79it/s]\n",
      "Training Epoch 1491: 100%|██████████| 370/370 [00:07<00:00, 51.83it/s]\n"
     ]
    },
    {
     "name": "stdout",
     "output_type": "stream",
     "text": [
      "Epoch 1490 - Train Loss: 0.3053, Train MSE: 0.3057, Train MAE: 0.3375\n",
      "Epoch 1490 - Validation Loss: 1.5725, Validation MSE: 1.5748, Validation MAE: 0.9283\n"
     ]
    },
    {
     "name": "stderr",
     "output_type": "stream",
     "text": [
      "Training Epoch 1492: 100%|██████████| 370/370 [00:07<00:00, 49.92it/s]\n",
      "Training Epoch 1493: 100%|██████████| 370/370 [00:07<00:00, 51.20it/s]\n",
      "Training Epoch 1494: 100%|██████████| 370/370 [00:07<00:00, 49.29it/s]\n",
      "Training Epoch 1495: 100%|██████████| 370/370 [00:07<00:00, 50.30it/s]\n",
      "Training Epoch 1496: 100%|██████████| 370/370 [00:06<00:00, 56.59it/s]\n",
      "Training Epoch 1497: 100%|██████████| 370/370 [00:07<00:00, 51.67it/s]\n",
      "Training Epoch 1498: 100%|██████████| 370/370 [00:06<00:00, 53.43it/s]\n",
      "Training Epoch 1499: 100%|██████████| 370/370 [00:07<00:00, 51.68it/s]\n",
      "Training Epoch 1500: 100%|██████████| 370/370 [00:07<00:00, 52.18it/s]\n",
      "Training Epoch 1501: 100%|██████████| 370/370 [00:06<00:00, 56.82it/s]\n"
     ]
    },
    {
     "name": "stdout",
     "output_type": "stream",
     "text": [
      "Epoch 1500 - Train Loss: 0.2996, Train MSE: 0.3002, Train MAE: 0.3320\n",
      "Epoch 1500 - Validation Loss: 1.6362, Validation MSE: 1.6397, Validation MAE: 0.9393\n"
     ]
    },
    {
     "name": "stderr",
     "output_type": "stream",
     "text": [
      "Training Epoch 1502: 100%|██████████| 370/370 [00:06<00:00, 56.98it/s]\n",
      "Training Epoch 1503: 100%|██████████| 370/370 [00:06<00:00, 55.06it/s]\n",
      "Training Epoch 1504: 100%|██████████| 370/370 [00:07<00:00, 52.81it/s]\n",
      "Training Epoch 1505: 100%|██████████| 370/370 [00:07<00:00, 51.72it/s]\n",
      "Training Epoch 1506: 100%|██████████| 370/370 [00:06<00:00, 56.19it/s]\n",
      "Training Epoch 1507: 100%|██████████| 370/370 [00:07<00:00, 51.75it/s]\n",
      "Training Epoch 1508: 100%|██████████| 370/370 [00:07<00:00, 49.86it/s]\n",
      "Training Epoch 1509: 100%|██████████| 370/370 [00:07<00:00, 50.44it/s]\n",
      "Training Epoch 1510: 100%|██████████| 370/370 [00:06<00:00, 54.86it/s]\n",
      "Training Epoch 1511: 100%|██████████| 370/370 [00:06<00:00, 53.44it/s]\n"
     ]
    },
    {
     "name": "stdout",
     "output_type": "stream",
     "text": [
      "Epoch 1510 - Train Loss: 0.2840, Train MSE: 0.2846, Train MAE: 0.3287\n",
      "Epoch 1510 - Validation Loss: 1.5957, Validation MSE: 1.5985, Validation MAE: 0.9393\n"
     ]
    },
    {
     "name": "stderr",
     "output_type": "stream",
     "text": [
      "Training Epoch 1512: 100%|██████████| 370/370 [00:06<00:00, 58.59it/s]\n",
      "Training Epoch 1513: 100%|██████████| 370/370 [00:06<00:00, 54.58it/s]\n",
      "Training Epoch 1514: 100%|██████████| 370/370 [00:07<00:00, 52.03it/s]\n",
      "Training Epoch 1515: 100%|██████████| 370/370 [00:06<00:00, 55.54it/s]\n",
      "Training Epoch 1516: 100%|██████████| 370/370 [00:06<00:00, 53.35it/s]\n",
      "Training Epoch 1517: 100%|██████████| 370/370 [00:07<00:00, 51.21it/s]\n",
      "Training Epoch 1518: 100%|██████████| 370/370 [00:07<00:00, 50.12it/s]\n",
      "Training Epoch 1519: 100%|██████████| 370/370 [00:07<00:00, 50.86it/s]\n",
      "Training Epoch 1520: 100%|██████████| 370/370 [00:07<00:00, 52.15it/s]\n",
      "Training Epoch 1521: 100%|██████████| 370/370 [00:06<00:00, 55.57it/s]\n"
     ]
    },
    {
     "name": "stdout",
     "output_type": "stream",
     "text": [
      "Epoch 1520 - Train Loss: 0.3025, Train MSE: 0.3001, Train MAE: 0.3343\n",
      "Epoch 1520 - Validation Loss: 1.5777, Validation MSE: 1.5801, Validation MAE: 0.9302\n"
     ]
    },
    {
     "name": "stderr",
     "output_type": "stream",
     "text": [
      "Training Epoch 1522: 100%|██████████| 370/370 [00:06<00:00, 56.95it/s]\n",
      "Training Epoch 1523: 100%|██████████| 370/370 [00:06<00:00, 55.31it/s]\n",
      "Training Epoch 1524: 100%|██████████| 370/370 [00:06<00:00, 55.22it/s]\n",
      "Training Epoch 1525: 100%|██████████| 370/370 [00:06<00:00, 53.24it/s]\n",
      "Training Epoch 1526: 100%|██████████| 370/370 [00:06<00:00, 55.55it/s]\n",
      "Training Epoch 1527: 100%|██████████| 370/370 [00:06<00:00, 55.38it/s]\n",
      "Training Epoch 1528: 100%|██████████| 370/370 [00:06<00:00, 56.14it/s]\n",
      "Training Epoch 1529: 100%|██████████| 370/370 [00:06<00:00, 59.35it/s]\n",
      "Training Epoch 1530: 100%|██████████| 370/370 [00:07<00:00, 50.79it/s]\n",
      "Training Epoch 1531: 100%|██████████| 370/370 [00:06<00:00, 57.22it/s]\n"
     ]
    },
    {
     "name": "stdout",
     "output_type": "stream",
     "text": [
      "Epoch 1530 - Train Loss: 0.2939, Train MSE: 0.2939, Train MAE: 0.3315\n",
      "Epoch 1530 - Validation Loss: 1.5327, Validation MSE: 1.5351, Validation MAE: 0.9072\n"
     ]
    },
    {
     "name": "stderr",
     "output_type": "stream",
     "text": [
      "Training Epoch 1532: 100%|██████████| 370/370 [00:07<00:00, 51.15it/s]\n",
      "Training Epoch 1533: 100%|██████████| 370/370 [00:06<00:00, 54.34it/s]\n",
      "Training Epoch 1534: 100%|██████████| 370/370 [00:08<00:00, 46.07it/s]\n",
      "Training Epoch 1535: 100%|██████████| 370/370 [00:06<00:00, 57.66it/s]\n",
      "Training Epoch 1536: 100%|██████████| 370/370 [00:06<00:00, 61.08it/s]\n",
      "Training Epoch 1537: 100%|██████████| 370/370 [00:05<00:00, 69.57it/s]\n",
      "Training Epoch 1538: 100%|██████████| 370/370 [00:05<00:00, 67.57it/s]\n",
      "Training Epoch 1539: 100%|██████████| 370/370 [00:05<00:00, 71.11it/s]\n",
      "Training Epoch 1540: 100%|██████████| 370/370 [00:04<00:00, 79.77it/s]\n",
      "Training Epoch 1541: 100%|██████████| 370/370 [00:04<00:00, 79.21it/s]\n"
     ]
    },
    {
     "name": "stdout",
     "output_type": "stream",
     "text": [
      "Epoch 1540 - Train Loss: 0.3000, Train MSE: 0.3004, Train MAE: 0.3331\n",
      "Epoch 1540 - Validation Loss: 1.5969, Validation MSE: 1.6001, Validation MAE: 0.9375\n"
     ]
    },
    {
     "name": "stderr",
     "output_type": "stream",
     "text": [
      "Training Epoch 1542: 100%|██████████| 370/370 [00:04<00:00, 78.55it/s]\n",
      "Training Epoch 1543: 100%|██████████| 370/370 [00:04<00:00, 80.30it/s]\n",
      "Training Epoch 1544: 100%|██████████| 370/370 [00:04<00:00, 79.22it/s]\n",
      "Training Epoch 1545: 100%|██████████| 370/370 [00:04<00:00, 77.75it/s]\n",
      "Training Epoch 1546: 100%|██████████| 370/370 [00:04<00:00, 78.48it/s]\n",
      "Training Epoch 1547: 100%|██████████| 370/370 [00:04<00:00, 79.77it/s]\n",
      "Training Epoch 1548: 100%|██████████| 370/370 [00:04<00:00, 77.50it/s]\n",
      "Training Epoch 1549: 100%|██████████| 370/370 [00:04<00:00, 77.63it/s]\n",
      "Training Epoch 1550: 100%|██████████| 370/370 [00:04<00:00, 76.63it/s]\n",
      "Training Epoch 1551: 100%|██████████| 370/370 [00:04<00:00, 79.38it/s]\n"
     ]
    },
    {
     "name": "stdout",
     "output_type": "stream",
     "text": [
      "Epoch 1550 - Train Loss: 0.2848, Train MSE: 0.2851, Train MAE: 0.3228\n",
      "Epoch 1550 - Validation Loss: 1.5883, Validation MSE: 1.5905, Validation MAE: 0.9382\n"
     ]
    },
    {
     "name": "stderr",
     "output_type": "stream",
     "text": [
      "Training Epoch 1552: 100%|██████████| 370/370 [00:04<00:00, 79.64it/s]\n",
      "Training Epoch 1553: 100%|██████████| 370/370 [00:04<00:00, 76.67it/s]\n",
      "Training Epoch 1554: 100%|██████████| 370/370 [00:04<00:00, 79.05it/s]\n",
      "Training Epoch 1555: 100%|██████████| 370/370 [00:04<00:00, 78.71it/s]\n",
      "Training Epoch 1556: 100%|██████████| 370/370 [00:04<00:00, 77.16it/s]\n",
      "Training Epoch 1557: 100%|██████████| 370/370 [00:04<00:00, 79.43it/s]\n",
      "Training Epoch 1558: 100%|██████████| 370/370 [00:04<00:00, 77.61it/s]\n",
      "Training Epoch 1559: 100%|██████████| 370/370 [00:04<00:00, 77.92it/s]\n",
      "Training Epoch 1560: 100%|██████████| 370/370 [00:04<00:00, 78.11it/s]\n",
      "Training Epoch 1561: 100%|██████████| 370/370 [00:04<00:00, 76.08it/s]\n"
     ]
    },
    {
     "name": "stdout",
     "output_type": "stream",
     "text": [
      "Epoch 1560 - Train Loss: 0.3000, Train MSE: 0.3001, Train MAE: 0.3314\n",
      "Epoch 1560 - Validation Loss: 1.5946, Validation MSE: 1.5965, Validation MAE: 0.9365\n"
     ]
    },
    {
     "name": "stderr",
     "output_type": "stream",
     "text": [
      "Training Epoch 1562: 100%|██████████| 370/370 [00:04<00:00, 78.04it/s]\n",
      "Training Epoch 1563: 100%|██████████| 370/370 [00:04<00:00, 79.12it/s]\n",
      "Training Epoch 1564: 100%|██████████| 370/370 [00:04<00:00, 78.66it/s]\n",
      "Training Epoch 1565: 100%|██████████| 370/370 [00:04<00:00, 80.12it/s]\n",
      "Training Epoch 1566: 100%|██████████| 370/370 [00:04<00:00, 79.94it/s]\n",
      "Training Epoch 1567: 100%|██████████| 370/370 [00:04<00:00, 79.97it/s]\n",
      "Training Epoch 1568: 100%|██████████| 370/370 [00:04<00:00, 77.91it/s]\n",
      "Training Epoch 1569: 100%|██████████| 370/370 [00:04<00:00, 76.93it/s]\n",
      "Training Epoch 1570: 100%|██████████| 370/370 [00:04<00:00, 79.31it/s]\n",
      "Training Epoch 1571: 100%|██████████| 370/370 [00:04<00:00, 77.88it/s]\n"
     ]
    },
    {
     "name": "stdout",
     "output_type": "stream",
     "text": [
      "Epoch 1570 - Train Loss: 0.2764, Train MSE: 0.2767, Train MAE: 0.3222\n",
      "Epoch 1570 - Validation Loss: 1.6409, Validation MSE: 1.6439, Validation MAE: 0.9434\n"
     ]
    },
    {
     "name": "stderr",
     "output_type": "stream",
     "text": [
      "Training Epoch 1572: 100%|██████████| 370/370 [00:04<00:00, 77.98it/s]\n",
      "Training Epoch 1573: 100%|██████████| 370/370 [00:04<00:00, 78.28it/s]\n",
      "Training Epoch 1574: 100%|██████████| 370/370 [00:04<00:00, 77.20it/s]\n",
      "Training Epoch 1575: 100%|██████████| 370/370 [00:04<00:00, 79.52it/s]\n",
      "Training Epoch 1576: 100%|██████████| 370/370 [00:04<00:00, 80.77it/s]\n",
      "Training Epoch 1577: 100%|██████████| 370/370 [00:04<00:00, 78.16it/s]\n",
      "Training Epoch 1578: 100%|██████████| 370/370 [00:04<00:00, 78.48it/s]\n",
      "Training Epoch 1579: 100%|██████████| 370/370 [00:04<00:00, 80.63it/s]\n",
      "Training Epoch 1580: 100%|██████████| 370/370 [00:04<00:00, 79.19it/s]\n",
      "Training Epoch 1581: 100%|██████████| 370/370 [00:04<00:00, 76.54it/s]\n"
     ]
    },
    {
     "name": "stdout",
     "output_type": "stream",
     "text": [
      "Epoch 1580 - Train Loss: 0.2863, Train MSE: 0.2863, Train MAE: 0.3279\n",
      "Epoch 1580 - Validation Loss: 1.6200, Validation MSE: 1.6229, Validation MAE: 0.9448\n"
     ]
    },
    {
     "name": "stderr",
     "output_type": "stream",
     "text": [
      "Training Epoch 1582: 100%|██████████| 370/370 [00:04<00:00, 81.65it/s]\n",
      "Training Epoch 1583: 100%|██████████| 370/370 [00:04<00:00, 80.07it/s]\n",
      "Training Epoch 1584: 100%|██████████| 370/370 [00:04<00:00, 77.54it/s]\n",
      "Training Epoch 1585: 100%|██████████| 370/370 [00:04<00:00, 78.83it/s]\n",
      "Training Epoch 1586: 100%|██████████| 370/370 [00:04<00:00, 79.57it/s]\n",
      "Training Epoch 1587: 100%|██████████| 370/370 [00:04<00:00, 79.83it/s]\n",
      "Training Epoch 1588: 100%|██████████| 370/370 [00:04<00:00, 79.46it/s]\n",
      "Training Epoch 1589: 100%|██████████| 370/370 [00:04<00:00, 77.88it/s]\n",
      "Training Epoch 1590: 100%|██████████| 370/370 [00:04<00:00, 79.44it/s]\n",
      "Training Epoch 1591: 100%|██████████| 370/370 [00:04<00:00, 77.53it/s]\n"
     ]
    },
    {
     "name": "stdout",
     "output_type": "stream",
     "text": [
      "Epoch 1590 - Train Loss: 0.2801, Train MSE: 0.2806, Train MAE: 0.3219\n",
      "Epoch 1590 - Validation Loss: 1.6340, Validation MSE: 1.6366, Validation MAE: 0.9469\n"
     ]
    },
    {
     "name": "stderr",
     "output_type": "stream",
     "text": [
      "Training Epoch 1592: 100%|██████████| 370/370 [00:04<00:00, 80.05it/s]\n",
      "Training Epoch 1593: 100%|██████████| 370/370 [00:04<00:00, 79.45it/s]\n",
      "Training Epoch 1594: 100%|██████████| 370/370 [00:04<00:00, 77.07it/s]\n",
      "Training Epoch 1595: 100%|██████████| 370/370 [00:04<00:00, 77.25it/s]\n",
      "Training Epoch 1596: 100%|██████████| 370/370 [00:04<00:00, 80.95it/s]\n",
      "Training Epoch 1597: 100%|██████████| 370/370 [00:04<00:00, 77.91it/s]\n",
      "Training Epoch 1598: 100%|██████████| 370/370 [00:04<00:00, 78.91it/s]\n",
      "Training Epoch 1599: 100%|██████████| 370/370 [00:04<00:00, 77.80it/s]\n",
      "Training Epoch 1600: 100%|██████████| 370/370 [00:04<00:00, 76.60it/s]\n",
      "Training Epoch 1601: 100%|██████████| 370/370 [00:04<00:00, 75.82it/s]\n"
     ]
    },
    {
     "name": "stdout",
     "output_type": "stream",
     "text": [
      "Epoch 1600 - Train Loss: 0.2798, Train MSE: 0.2804, Train MAE: 0.3232\n",
      "Epoch 1600 - Validation Loss: 1.5991, Validation MSE: 1.6019, Validation MAE: 0.9367\n"
     ]
    },
    {
     "name": "stderr",
     "output_type": "stream",
     "text": [
      "Training Epoch 1602: 100%|██████████| 370/370 [00:04<00:00, 79.32it/s]\n",
      "Training Epoch 1603: 100%|██████████| 370/370 [00:04<00:00, 77.36it/s]\n",
      "Training Epoch 1604: 100%|██████████| 370/370 [00:04<00:00, 77.86it/s]\n",
      "Training Epoch 1605: 100%|██████████| 370/370 [00:04<00:00, 78.94it/s]\n",
      "Training Epoch 1606: 100%|██████████| 370/370 [00:04<00:00, 79.26it/s]\n",
      "Training Epoch 1607: 100%|██████████| 370/370 [00:04<00:00, 78.17it/s]\n",
      "Training Epoch 1608: 100%|██████████| 370/370 [00:04<00:00, 79.52it/s]\n",
      "Training Epoch 1609: 100%|██████████| 370/370 [00:04<00:00, 79.33it/s]\n",
      "Training Epoch 1610: 100%|██████████| 370/370 [00:04<00:00, 77.68it/s]\n",
      "Training Epoch 1611: 100%|██████████| 370/370 [00:04<00:00, 80.52it/s]\n"
     ]
    },
    {
     "name": "stdout",
     "output_type": "stream",
     "text": [
      "Epoch 1610 - Train Loss: 0.2859, Train MSE: 0.2858, Train MAE: 0.3228\n",
      "Epoch 1610 - Validation Loss: 1.5998, Validation MSE: 1.6025, Validation MAE: 0.9361\n"
     ]
    },
    {
     "name": "stderr",
     "output_type": "stream",
     "text": [
      "Training Epoch 1612: 100%|██████████| 370/370 [00:04<00:00, 79.84it/s]\n",
      "Training Epoch 1613: 100%|██████████| 370/370 [00:04<00:00, 78.44it/s]\n",
      "Training Epoch 1614: 100%|██████████| 370/370 [00:04<00:00, 77.91it/s]\n",
      "Training Epoch 1615: 100%|██████████| 370/370 [00:04<00:00, 76.91it/s]\n",
      "Training Epoch 1616: 100%|██████████| 370/370 [00:04<00:00, 80.32it/s]\n",
      "Training Epoch 1617: 100%|██████████| 370/370 [00:04<00:00, 76.28it/s]\n",
      "Training Epoch 1618: 100%|██████████| 370/370 [00:04<00:00, 78.85it/s]\n",
      "Training Epoch 1619: 100%|██████████| 370/370 [00:04<00:00, 79.76it/s]\n",
      "Training Epoch 1620: 100%|██████████| 370/370 [00:04<00:00, 77.64it/s]\n",
      "Training Epoch 1621: 100%|██████████| 370/370 [00:04<00:00, 79.80it/s]\n"
     ]
    },
    {
     "name": "stdout",
     "output_type": "stream",
     "text": [
      "Epoch 1620 - Train Loss: 0.2844, Train MSE: 0.2848, Train MAE: 0.3271\n",
      "Epoch 1620 - Validation Loss: 1.5557, Validation MSE: 1.5587, Validation MAE: 0.9234\n"
     ]
    },
    {
     "name": "stderr",
     "output_type": "stream",
     "text": [
      "Training Epoch 1622: 100%|██████████| 370/370 [00:04<00:00, 76.89it/s]\n",
      "Training Epoch 1623: 100%|██████████| 370/370 [00:04<00:00, 77.19it/s]\n",
      "Training Epoch 1624: 100%|██████████| 370/370 [00:04<00:00, 78.75it/s]\n",
      "Training Epoch 1625: 100%|██████████| 370/370 [00:04<00:00, 77.43it/s]\n",
      "Training Epoch 1626: 100%|██████████| 370/370 [00:04<00:00, 79.69it/s]\n",
      "Training Epoch 1627: 100%|██████████| 370/370 [00:04<00:00, 78.04it/s]\n",
      "Training Epoch 1628: 100%|██████████| 370/370 [00:04<00:00, 77.12it/s]\n",
      "Training Epoch 1629: 100%|██████████| 370/370 [00:04<00:00, 79.81it/s]\n",
      "Training Epoch 1630: 100%|██████████| 370/370 [00:04<00:00, 77.29it/s]\n",
      "Training Epoch 1631: 100%|██████████| 370/370 [00:04<00:00, 79.14it/s]\n"
     ]
    },
    {
     "name": "stdout",
     "output_type": "stream",
     "text": [
      "Epoch 1630 - Train Loss: 0.2853, Train MSE: 0.2858, Train MAE: 0.3253\n",
      "Epoch 1630 - Validation Loss: 1.5544, Validation MSE: 1.5571, Validation MAE: 0.9270\n"
     ]
    },
    {
     "name": "stderr",
     "output_type": "stream",
     "text": [
      "Training Epoch 1632: 100%|██████████| 370/370 [00:04<00:00, 77.80it/s]\n",
      "Training Epoch 1633: 100%|██████████| 370/370 [00:04<00:00, 77.55it/s]\n",
      "Training Epoch 1634: 100%|██████████| 370/370 [00:04<00:00, 74.62it/s]\n",
      "Training Epoch 1635: 100%|██████████| 370/370 [00:04<00:00, 76.94it/s]\n",
      "Training Epoch 1636: 100%|██████████| 370/370 [00:04<00:00, 76.44it/s]\n",
      "Training Epoch 1637: 100%|██████████| 370/370 [00:04<00:00, 76.11it/s]\n",
      "Training Epoch 1638: 100%|██████████| 370/370 [00:04<00:00, 75.61it/s]\n",
      "Training Epoch 1639: 100%|██████████| 370/370 [00:04<00:00, 76.17it/s]\n",
      "Training Epoch 1640: 100%|██████████| 370/370 [00:05<00:00, 72.33it/s]\n",
      "Training Epoch 1641: 100%|██████████| 370/370 [00:04<00:00, 78.18it/s]\n"
     ]
    },
    {
     "name": "stdout",
     "output_type": "stream",
     "text": [
      "Epoch 1640 - Train Loss: 0.2888, Train MSE: 0.2824, Train MAE: 0.3250\n",
      "Epoch 1640 - Validation Loss: 1.6171, Validation MSE: 1.6201, Validation MAE: 0.9300\n"
     ]
    },
    {
     "name": "stderr",
     "output_type": "stream",
     "text": [
      "Training Epoch 1642: 100%|██████████| 370/370 [00:04<00:00, 75.14it/s]\n",
      "Training Epoch 1643: 100%|██████████| 370/370 [00:04<00:00, 74.56it/s]\n",
      "Training Epoch 1644: 100%|██████████| 370/370 [00:04<00:00, 76.71it/s]\n",
      "Training Epoch 1645: 100%|██████████| 370/370 [00:04<00:00, 76.24it/s]\n",
      "Training Epoch 1646: 100%|██████████| 370/370 [00:04<00:00, 74.35it/s]\n",
      "Training Epoch 1647: 100%|██████████| 370/370 [00:04<00:00, 80.73it/s]\n",
      "Training Epoch 1648: 100%|██████████| 370/370 [00:04<00:00, 78.52it/s]\n",
      "Training Epoch 1649: 100%|██████████| 370/370 [00:04<00:00, 75.23it/s]\n",
      "Training Epoch 1650: 100%|██████████| 370/370 [00:04<00:00, 79.28it/s]\n",
      "Training Epoch 1651: 100%|██████████| 370/370 [00:04<00:00, 79.23it/s]\n"
     ]
    },
    {
     "name": "stdout",
     "output_type": "stream",
     "text": [
      "Epoch 1650 - Train Loss: 0.2738, Train MSE: 0.2742, Train MAE: 0.3185\n",
      "Epoch 1650 - Validation Loss: 1.5591, Validation MSE: 1.5620, Validation MAE: 0.9188\n"
     ]
    },
    {
     "name": "stderr",
     "output_type": "stream",
     "text": [
      "Training Epoch 1652: 100%|██████████| 370/370 [00:04<00:00, 77.53it/s]\n",
      "Training Epoch 1653: 100%|██████████| 370/370 [00:04<00:00, 77.68it/s]\n",
      "Training Epoch 1654: 100%|██████████| 370/370 [00:04<00:00, 79.42it/s]\n",
      "Training Epoch 1655: 100%|██████████| 370/370 [00:04<00:00, 74.71it/s]\n",
      "Training Epoch 1656: 100%|██████████| 370/370 [00:04<00:00, 76.06it/s]\n",
      "Training Epoch 1657: 100%|██████████| 370/370 [00:04<00:00, 79.53it/s]\n",
      "Training Epoch 1658: 100%|██████████| 370/370 [00:04<00:00, 75.89it/s]\n",
      "Training Epoch 1659: 100%|██████████| 370/370 [00:04<00:00, 76.32it/s]\n",
      "Training Epoch 1660: 100%|██████████| 370/370 [00:04<00:00, 79.06it/s]\n",
      "Training Epoch 1661: 100%|██████████| 370/370 [00:04<00:00, 75.10it/s]\n"
     ]
    },
    {
     "name": "stdout",
     "output_type": "stream",
     "text": [
      "Epoch 1660 - Train Loss: 0.2754, Train MSE: 0.2759, Train MAE: 0.3189\n",
      "Epoch 1660 - Validation Loss: 1.5684, Validation MSE: 1.5722, Validation MAE: 0.9126\n"
     ]
    },
    {
     "name": "stderr",
     "output_type": "stream",
     "text": [
      "Training Epoch 1662: 100%|██████████| 370/370 [00:04<00:00, 76.62it/s]\n",
      "Training Epoch 1663: 100%|██████████| 370/370 [00:04<00:00, 79.07it/s]\n",
      "Training Epoch 1664: 100%|██████████| 370/370 [00:04<00:00, 75.70it/s]\n",
      "Training Epoch 1665: 100%|██████████| 370/370 [00:04<00:00, 75.55it/s]\n",
      "Training Epoch 1666: 100%|██████████| 370/370 [00:04<00:00, 79.79it/s]\n",
      "Training Epoch 1667: 100%|██████████| 370/370 [00:04<00:00, 76.49it/s]\n",
      "Training Epoch 1668: 100%|██████████| 370/370 [00:04<00:00, 77.44it/s]\n",
      "Training Epoch 1669: 100%|██████████| 370/370 [00:04<00:00, 74.64it/s]\n",
      "Training Epoch 1670: 100%|██████████| 370/370 [00:04<00:00, 78.27it/s]\n",
      "Training Epoch 1671: 100%|██████████| 370/370 [00:04<00:00, 79.43it/s]\n"
     ]
    },
    {
     "name": "stdout",
     "output_type": "stream",
     "text": [
      "Epoch 1670 - Train Loss: 0.2594, Train MSE: 0.2598, Train MAE: 0.3105\n",
      "Epoch 1670 - Validation Loss: 1.5509, Validation MSE: 1.5540, Validation MAE: 0.9188\n"
     ]
    },
    {
     "name": "stderr",
     "output_type": "stream",
     "text": [
      "Training Epoch 1672: 100%|██████████| 370/370 [00:04<00:00, 74.63it/s]\n",
      "Training Epoch 1673: 100%|██████████| 370/370 [00:04<00:00, 78.26it/s]\n",
      "Training Epoch 1674: 100%|██████████| 370/370 [00:04<00:00, 77.61it/s]\n",
      "Training Epoch 1675: 100%|██████████| 370/370 [00:04<00:00, 77.22it/s]\n",
      "Training Epoch 1676: 100%|██████████| 370/370 [00:04<00:00, 78.94it/s]\n",
      "Training Epoch 1677: 100%|██████████| 370/370 [00:04<00:00, 77.87it/s]\n",
      "Training Epoch 1678: 100%|██████████| 370/370 [00:04<00:00, 75.49it/s]\n",
      "Training Epoch 1679: 100%|██████████| 370/370 [00:04<00:00, 78.03it/s]\n",
      "Training Epoch 1680: 100%|██████████| 370/370 [00:04<00:00, 77.63it/s]\n",
      "Training Epoch 1681: 100%|██████████| 370/370 [00:04<00:00, 78.39it/s]\n"
     ]
    },
    {
     "name": "stdout",
     "output_type": "stream",
     "text": [
      "Epoch 1680 - Train Loss: 0.2883, Train MSE: 0.2867, Train MAE: 0.3251\n",
      "Epoch 1680 - Validation Loss: 1.5813, Validation MSE: 1.5845, Validation MAE: 0.9269\n"
     ]
    },
    {
     "name": "stderr",
     "output_type": "stream",
     "text": [
      "Training Epoch 1682: 100%|██████████| 370/370 [00:04<00:00, 77.37it/s]\n",
      "Training Epoch 1683: 100%|██████████| 370/370 [00:04<00:00, 74.91it/s]\n",
      "Training Epoch 1684: 100%|██████████| 370/370 [00:04<00:00, 78.84it/s]\n",
      "Training Epoch 1685: 100%|██████████| 370/370 [00:04<00:00, 76.10it/s]\n",
      "Training Epoch 1686: 100%|██████████| 370/370 [00:04<00:00, 76.88it/s]\n",
      "Training Epoch 1687: 100%|██████████| 370/370 [00:05<00:00, 69.09it/s]\n",
      "Training Epoch 1688: 100%|██████████| 370/370 [00:04<00:00, 77.25it/s]\n",
      "Training Epoch 1689: 100%|██████████| 370/370 [00:04<00:00, 75.42it/s]\n",
      "Training Epoch 1690: 100%|██████████| 370/370 [00:04<00:00, 76.17it/s]\n",
      "Training Epoch 1691: 100%|██████████| 370/370 [00:04<00:00, 76.17it/s]\n"
     ]
    },
    {
     "name": "stdout",
     "output_type": "stream",
     "text": [
      "Epoch 1690 - Train Loss: 0.2823, Train MSE: 0.2825, Train MAE: 0.3257\n",
      "Epoch 1690 - Validation Loss: 1.5848, Validation MSE: 1.5873, Validation MAE: 0.9246\n"
     ]
    },
    {
     "name": "stderr",
     "output_type": "stream",
     "text": [
      "Training Epoch 1692: 100%|██████████| 370/370 [00:04<00:00, 77.57it/s]\n",
      "Training Epoch 1693: 100%|██████████| 370/370 [00:04<00:00, 76.88it/s]\n",
      "Training Epoch 1694: 100%|██████████| 370/370 [00:04<00:00, 74.67it/s]\n",
      "Training Epoch 1695: 100%|██████████| 370/370 [00:04<00:00, 75.34it/s]\n",
      "Training Epoch 1696: 100%|██████████| 370/370 [00:04<00:00, 76.81it/s]\n",
      "Training Epoch 1697: 100%|██████████| 370/370 [00:04<00:00, 76.20it/s]\n",
      "Training Epoch 1698: 100%|██████████| 370/370 [00:04<00:00, 76.24it/s]\n",
      "Training Epoch 1699: 100%|██████████| 370/370 [00:04<00:00, 77.25it/s]\n",
      "Training Epoch 1700: 100%|██████████| 370/370 [00:04<00:00, 77.53it/s]\n",
      "Training Epoch 1701: 100%|██████████| 370/370 [00:04<00:00, 75.32it/s]\n"
     ]
    },
    {
     "name": "stdout",
     "output_type": "stream",
     "text": [
      "Epoch 1700 - Train Loss: 0.2766, Train MSE: 0.2768, Train MAE: 0.3202\n",
      "Epoch 1700 - Validation Loss: 1.6240, Validation MSE: 1.6269, Validation MAE: 0.9329\n"
     ]
    },
    {
     "name": "stderr",
     "output_type": "stream",
     "text": [
      "Training Epoch 1702: 100%|██████████| 370/370 [00:04<00:00, 76.81it/s]\n",
      "Training Epoch 1703: 100%|██████████| 370/370 [00:04<00:00, 75.74it/s]\n",
      "Training Epoch 1704: 100%|██████████| 370/370 [00:04<00:00, 76.99it/s]\n",
      "Training Epoch 1705: 100%|██████████| 370/370 [00:04<00:00, 75.99it/s]\n",
      "Training Epoch 1706: 100%|██████████| 370/370 [00:04<00:00, 76.23it/s]\n",
      "Training Epoch 1707: 100%|██████████| 370/370 [00:04<00:00, 77.84it/s]\n",
      "Training Epoch 1708: 100%|██████████| 370/370 [00:04<00:00, 77.28it/s]\n",
      "Training Epoch 1709: 100%|██████████| 370/370 [00:04<00:00, 76.69it/s]\n",
      "Training Epoch 1710: 100%|██████████| 370/370 [00:04<00:00, 77.53it/s]\n",
      "Training Epoch 1711: 100%|██████████| 370/370 [00:04<00:00, 75.55it/s]\n"
     ]
    },
    {
     "name": "stdout",
     "output_type": "stream",
     "text": [
      "Epoch 1710 - Train Loss: 0.2832, Train MSE: 0.2819, Train MAE: 0.3222\n",
      "Epoch 1710 - Validation Loss: 1.6061, Validation MSE: 1.6089, Validation MAE: 0.9339\n"
     ]
    },
    {
     "name": "stderr",
     "output_type": "stream",
     "text": [
      "Training Epoch 1712: 100%|██████████| 370/370 [00:04<00:00, 77.60it/s]\n",
      "Training Epoch 1713: 100%|██████████| 370/370 [00:04<00:00, 78.22it/s]\n",
      "Training Epoch 1714: 100%|██████████| 370/370 [00:04<00:00, 76.59it/s]\n",
      "Training Epoch 1715: 100%|██████████| 370/370 [00:04<00:00, 77.42it/s]\n",
      "Training Epoch 1716: 100%|██████████| 370/370 [00:04<00:00, 77.28it/s]\n",
      "Training Epoch 1717: 100%|██████████| 370/370 [00:04<00:00, 74.21it/s]\n",
      "Training Epoch 1718: 100%|██████████| 370/370 [00:04<00:00, 77.65it/s]\n",
      "Training Epoch 1719: 100%|██████████| 370/370 [00:04<00:00, 75.48it/s]\n",
      "Training Epoch 1720: 100%|██████████| 370/370 [00:04<00:00, 76.65it/s]\n",
      "Training Epoch 1721: 100%|██████████| 370/370 [00:04<00:00, 77.41it/s]\n"
     ]
    },
    {
     "name": "stdout",
     "output_type": "stream",
     "text": [
      "Epoch 1720 - Train Loss: 0.2683, Train MSE: 0.2689, Train MAE: 0.3162\n",
      "Epoch 1720 - Validation Loss: 1.5963, Validation MSE: 1.5987, Validation MAE: 0.9340\n"
     ]
    },
    {
     "name": "stderr",
     "output_type": "stream",
     "text": [
      "Training Epoch 1722: 100%|██████████| 370/370 [00:04<00:00, 76.91it/s]\n",
      "Training Epoch 1723: 100%|██████████| 370/370 [00:04<00:00, 75.89it/s]\n",
      "Training Epoch 1724: 100%|██████████| 370/370 [00:04<00:00, 77.37it/s]\n",
      "Training Epoch 1725: 100%|██████████| 370/370 [00:04<00:00, 75.18it/s]\n",
      "Training Epoch 1726: 100%|██████████| 370/370 [00:04<00:00, 76.18it/s]\n",
      "Training Epoch 1727: 100%|██████████| 370/370 [00:04<00:00, 78.53it/s]\n",
      "Training Epoch 1728: 100%|██████████| 370/370 [00:04<00:00, 74.76it/s]\n",
      "Training Epoch 1729: 100%|██████████| 370/370 [00:04<00:00, 77.38it/s]\n",
      "Training Epoch 1730: 100%|██████████| 370/370 [00:04<00:00, 75.89it/s]\n",
      "Training Epoch 1731: 100%|██████████| 370/370 [00:04<00:00, 77.37it/s]\n"
     ]
    },
    {
     "name": "stdout",
     "output_type": "stream",
     "text": [
      "Epoch 1730 - Train Loss: 0.2751, Train MSE: 0.2740, Train MAE: 0.3173\n",
      "Epoch 1730 - Validation Loss: 1.5660, Validation MSE: 1.5684, Validation MAE: 0.9234\n"
     ]
    },
    {
     "name": "stderr",
     "output_type": "stream",
     "text": [
      "Training Epoch 1732: 100%|██████████| 370/370 [00:04<00:00, 78.38it/s]\n",
      "Training Epoch 1733: 100%|██████████| 370/370 [00:04<00:00, 74.39it/s]\n",
      "Training Epoch 1734: 100%|██████████| 370/370 [00:04<00:00, 77.24it/s]\n",
      "Training Epoch 1735: 100%|██████████| 370/370 [00:04<00:00, 78.03it/s]\n",
      "Training Epoch 1736: 100%|██████████| 370/370 [00:04<00:00, 75.63it/s]\n",
      "Training Epoch 1737: 100%|██████████| 370/370 [00:04<00:00, 76.76it/s]\n",
      "Training Epoch 1738: 100%|██████████| 370/370 [00:04<00:00, 75.96it/s]\n",
      "Training Epoch 1739: 100%|██████████| 370/370 [00:04<00:00, 76.78it/s]\n",
      "Training Epoch 1740: 100%|██████████| 370/370 [00:04<00:00, 77.90it/s]\n",
      "Training Epoch 1741: 100%|██████████| 370/370 [00:04<00:00, 76.47it/s]\n"
     ]
    },
    {
     "name": "stdout",
     "output_type": "stream",
     "text": [
      "Epoch 1740 - Train Loss: 0.2786, Train MSE: 0.2755, Train MAE: 0.3177\n",
      "Epoch 1740 - Validation Loss: 1.5079, Validation MSE: 1.5111, Validation MAE: 0.9077\n"
     ]
    },
    {
     "name": "stderr",
     "output_type": "stream",
     "text": [
      "Training Epoch 1742: 100%|██████████| 370/370 [00:04<00:00, 76.28it/s]\n",
      "Training Epoch 1743: 100%|██████████| 370/370 [00:04<00:00, 80.67it/s]\n",
      "Training Epoch 1744: 100%|██████████| 370/370 [00:04<00:00, 76.88it/s]\n",
      "Training Epoch 1745: 100%|██████████| 370/370 [00:04<00:00, 76.49it/s]\n",
      "Training Epoch 1746: 100%|██████████| 370/370 [00:04<00:00, 75.32it/s]\n",
      "Training Epoch 1747: 100%|██████████| 370/370 [00:04<00:00, 76.27it/s]\n",
      "Training Epoch 1748: 100%|██████████| 370/370 [00:04<00:00, 76.60it/s]\n",
      "Training Epoch 1749: 100%|██████████| 370/370 [00:04<00:00, 77.11it/s]\n",
      "Training Epoch 1750: 100%|██████████| 370/370 [00:04<00:00, 76.32it/s]\n",
      "Training Epoch 1751: 100%|██████████| 370/370 [00:04<00:00, 79.41it/s]\n"
     ]
    },
    {
     "name": "stdout",
     "output_type": "stream",
     "text": [
      "Epoch 1750 - Train Loss: 0.2657, Train MSE: 0.2656, Train MAE: 0.3120\n",
      "Epoch 1750 - Validation Loss: 1.5597, Validation MSE: 1.5629, Validation MAE: 0.9234\n"
     ]
    },
    {
     "name": "stderr",
     "output_type": "stream",
     "text": [
      "Training Epoch 1752: 100%|██████████| 370/370 [00:04<00:00, 75.23it/s]\n",
      "Training Epoch 1753: 100%|██████████| 370/370 [00:04<00:00, 77.49it/s]\n",
      "Training Epoch 1754: 100%|██████████| 370/370 [00:04<00:00, 79.36it/s]\n",
      "Training Epoch 1755: 100%|██████████| 370/370 [00:05<00:00, 73.65it/s]\n",
      "Training Epoch 1756: 100%|██████████| 370/370 [00:04<00:00, 77.08it/s]\n",
      "Training Epoch 1757: 100%|██████████| 370/370 [00:04<00:00, 79.41it/s]\n",
      "Training Epoch 1758: 100%|██████████| 370/370 [00:04<00:00, 77.10it/s]\n",
      "Training Epoch 1759: 100%|██████████| 370/370 [00:04<00:00, 76.92it/s]\n",
      "Training Epoch 1760: 100%|██████████| 370/370 [00:04<00:00, 77.71it/s]\n",
      "Training Epoch 1761: 100%|██████████| 370/370 [00:04<00:00, 76.57it/s]\n"
     ]
    },
    {
     "name": "stdout",
     "output_type": "stream",
     "text": [
      "Epoch 1760 - Train Loss: 0.2707, Train MSE: 0.2713, Train MAE: 0.3151\n",
      "Epoch 1760 - Validation Loss: 1.6534, Validation MSE: 1.6571, Validation MAE: 0.9536\n"
     ]
    },
    {
     "name": "stderr",
     "output_type": "stream",
     "text": [
      "Training Epoch 1762: 100%|██████████| 370/370 [00:04<00:00, 76.85it/s]\n",
      "Training Epoch 1763: 100%|██████████| 370/370 [00:04<00:00, 78.79it/s]\n",
      "Training Epoch 1764: 100%|██████████| 370/370 [00:04<00:00, 75.86it/s]\n",
      "Training Epoch 1765: 100%|██████████| 370/370 [00:04<00:00, 78.76it/s]\n",
      "Training Epoch 1766: 100%|██████████| 370/370 [00:05<00:00, 73.79it/s]\n",
      "Training Epoch 1767: 100%|██████████| 370/370 [00:04<00:00, 77.88it/s]\n",
      "Training Epoch 1768: 100%|██████████| 370/370 [00:04<00:00, 76.16it/s]\n",
      "Training Epoch 1769: 100%|██████████| 370/370 [00:04<00:00, 77.01it/s]\n",
      "Training Epoch 1770: 100%|██████████| 370/370 [00:04<00:00, 78.66it/s]\n",
      "Training Epoch 1771: 100%|██████████| 370/370 [00:04<00:00, 74.04it/s]\n"
     ]
    },
    {
     "name": "stdout",
     "output_type": "stream",
     "text": [
      "Epoch 1770 - Train Loss: 0.2875, Train MSE: 0.2859, Train MAE: 0.3218\n",
      "Epoch 1770 - Validation Loss: 1.5764, Validation MSE: 1.5794, Validation MAE: 0.9293\n"
     ]
    },
    {
     "name": "stderr",
     "output_type": "stream",
     "text": [
      "Training Epoch 1772: 100%|██████████| 370/370 [00:04<00:00, 78.41it/s]\n",
      "Training Epoch 1773: 100%|██████████| 370/370 [00:04<00:00, 78.25it/s]\n",
      "Training Epoch 1774: 100%|██████████| 370/370 [00:04<00:00, 75.38it/s]\n",
      "Training Epoch 1775: 100%|██████████| 370/370 [00:04<00:00, 77.40it/s]\n",
      "Training Epoch 1776: 100%|██████████| 370/370 [00:04<00:00, 77.18it/s]\n",
      "Training Epoch 1777: 100%|██████████| 370/370 [00:04<00:00, 76.73it/s]\n",
      "Training Epoch 1778: 100%|██████████| 370/370 [00:04<00:00, 74.98it/s]\n",
      "Training Epoch 1779: 100%|██████████| 370/370 [00:04<00:00, 76.75it/s]\n",
      "Training Epoch 1780: 100%|██████████| 370/370 [00:04<00:00, 77.65it/s]\n",
      "Training Epoch 1781: 100%|██████████| 370/370 [00:04<00:00, 77.50it/s]\n"
     ]
    },
    {
     "name": "stdout",
     "output_type": "stream",
     "text": [
      "Epoch 1780 - Train Loss: 0.2697, Train MSE: 0.2698, Train MAE: 0.3161\n",
      "Epoch 1780 - Validation Loss: 1.5894, Validation MSE: 1.5921, Validation MAE: 0.9364\n"
     ]
    },
    {
     "name": "stderr",
     "output_type": "stream",
     "text": [
      "Training Epoch 1782: 100%|██████████| 370/370 [00:04<00:00, 75.81it/s]\n",
      "Training Epoch 1783: 100%|██████████| 370/370 [00:04<00:00, 77.51it/s]\n",
      "Training Epoch 1784: 100%|██████████| 370/370 [00:04<00:00, 77.26it/s]\n",
      "Training Epoch 1785: 100%|██████████| 370/370 [00:04<00:00, 77.01it/s]\n",
      "Training Epoch 1786: 100%|██████████| 370/370 [00:04<00:00, 78.24it/s]\n",
      "Training Epoch 1787: 100%|██████████| 370/370 [00:04<00:00, 76.74it/s]\n",
      "Training Epoch 1788: 100%|██████████| 370/370 [00:04<00:00, 76.15it/s]\n",
      "Training Epoch 1789: 100%|██████████| 370/370 [00:04<00:00, 76.48it/s]\n",
      "Training Epoch 1790: 100%|██████████| 370/370 [00:04<00:00, 74.52it/s]\n",
      "Training Epoch 1791: 100%|██████████| 370/370 [00:04<00:00, 79.72it/s]\n"
     ]
    },
    {
     "name": "stdout",
     "output_type": "stream",
     "text": [
      "Epoch 1790 - Train Loss: 0.2711, Train MSE: 0.2706, Train MAE: 0.3152\n",
      "Epoch 1790 - Validation Loss: 1.5574, Validation MSE: 1.5604, Validation MAE: 0.9208\n"
     ]
    },
    {
     "name": "stderr",
     "output_type": "stream",
     "text": [
      "Training Epoch 1792: 100%|██████████| 370/370 [00:04<00:00, 78.26it/s]\n",
      "Training Epoch 1793: 100%|██████████| 370/370 [00:04<00:00, 76.45it/s]\n",
      "Training Epoch 1794: 100%|██████████| 370/370 [00:04<00:00, 77.23it/s]\n",
      "Training Epoch 1795: 100%|██████████| 370/370 [00:04<00:00, 78.21it/s]\n",
      "Training Epoch 1796: 100%|██████████| 370/370 [00:04<00:00, 75.71it/s]\n",
      "Training Epoch 1797: 100%|██████████| 370/370 [00:04<00:00, 77.23it/s]\n",
      "Training Epoch 1798: 100%|██████████| 370/370 [00:04<00:00, 78.65it/s]\n",
      "Training Epoch 1799: 100%|██████████| 370/370 [00:04<00:00, 75.67it/s]\n",
      "Training Epoch 1800: 100%|██████████| 370/370 [00:04<00:00, 75.85it/s]\n",
      "Training Epoch 1801: 100%|██████████| 370/370 [00:04<00:00, 75.30it/s]\n"
     ]
    },
    {
     "name": "stdout",
     "output_type": "stream",
     "text": [
      "Epoch 1800 - Train Loss: 0.2727, Train MSE: 0.2732, Train MAE: 0.3156\n",
      "Epoch 1800 - Validation Loss: 1.5722, Validation MSE: 1.5758, Validation MAE: 0.9237\n"
     ]
    },
    {
     "name": "stderr",
     "output_type": "stream",
     "text": [
      "Training Epoch 1802: 100%|██████████| 370/370 [00:04<00:00, 76.08it/s]\n",
      "Training Epoch 1803: 100%|██████████| 370/370 [00:04<00:00, 77.28it/s]\n",
      "Training Epoch 1804: 100%|██████████| 370/370 [00:04<00:00, 77.05it/s]\n",
      "Training Epoch 1805: 100%|██████████| 370/370 [00:04<00:00, 76.82it/s]\n",
      "Training Epoch 1806: 100%|██████████| 370/370 [00:04<00:00, 74.55it/s]\n",
      "Training Epoch 1807: 100%|██████████| 370/370 [00:04<00:00, 78.27it/s]\n",
      "Training Epoch 1808: 100%|██████████| 370/370 [00:04<00:00, 76.59it/s]\n",
      "Training Epoch 1809: 100%|██████████| 370/370 [00:04<00:00, 77.49it/s]\n",
      "Training Epoch 1810: 100%|██████████| 370/370 [00:04<00:00, 75.83it/s]\n",
      "Training Epoch 1811: 100%|██████████| 370/370 [00:04<00:00, 77.67it/s]\n"
     ]
    },
    {
     "name": "stdout",
     "output_type": "stream",
     "text": [
      "Epoch 1810 - Train Loss: 0.2781, Train MSE: 0.2779, Train MAE: 0.3162\n",
      "Epoch 1810 - Validation Loss: 1.5405, Validation MSE: 1.5432, Validation MAE: 0.9254\n"
     ]
    },
    {
     "name": "stderr",
     "output_type": "stream",
     "text": [
      "Training Epoch 1812: 100%|██████████| 370/370 [00:04<00:00, 77.05it/s]\n",
      "Training Epoch 1813: 100%|██████████| 370/370 [00:04<00:00, 75.89it/s]\n",
      "Training Epoch 1814: 100%|██████████| 370/370 [00:04<00:00, 77.87it/s]\n",
      "Training Epoch 1815: 100%|██████████| 370/370 [00:04<00:00, 76.78it/s]\n",
      "Training Epoch 1816: 100%|██████████| 370/370 [00:04<00:00, 75.48it/s]\n",
      "Training Epoch 1817: 100%|██████████| 370/370 [00:04<00:00, 76.15it/s]\n",
      "Training Epoch 1818: 100%|██████████| 370/370 [00:04<00:00, 75.85it/s]\n",
      "Training Epoch 1819: 100%|██████████| 370/370 [00:05<00:00, 65.86it/s]\n",
      "Training Epoch 1820: 100%|██████████| 370/370 [00:05<00:00, 72.25it/s]\n",
      "Training Epoch 1821: 100%|██████████| 370/370 [00:05<00:00, 68.84it/s]\n"
     ]
    },
    {
     "name": "stdout",
     "output_type": "stream",
     "text": [
      "Epoch 1820 - Train Loss: 0.2725, Train MSE: 0.2727, Train MAE: 0.3161\n",
      "Epoch 1820 - Validation Loss: 1.6180, Validation MSE: 1.6214, Validation MAE: 0.9391\n"
     ]
    },
    {
     "name": "stderr",
     "output_type": "stream",
     "text": [
      "Training Epoch 1822: 100%|██████████| 370/370 [00:04<00:00, 74.27it/s]\n",
      "Training Epoch 1823: 100%|██████████| 370/370 [00:05<00:00, 70.57it/s]\n",
      "Training Epoch 1824: 100%|██████████| 370/370 [00:05<00:00, 69.01it/s]\n",
      "Training Epoch 1825: 100%|██████████| 370/370 [00:04<00:00, 74.18it/s]\n",
      "Training Epoch 1826: 100%|██████████| 370/370 [00:04<00:00, 75.31it/s]\n",
      "Training Epoch 1827: 100%|██████████| 370/370 [00:04<00:00, 75.65it/s]\n",
      "Training Epoch 1828: 100%|██████████| 370/370 [00:05<00:00, 73.98it/s]\n",
      "Training Epoch 1829: 100%|██████████| 370/370 [00:04<00:00, 75.40it/s]\n",
      "Training Epoch 1830: 100%|██████████| 370/370 [00:04<00:00, 74.76it/s]\n",
      "Training Epoch 1831: 100%|██████████| 370/370 [00:05<00:00, 72.76it/s]\n"
     ]
    },
    {
     "name": "stdout",
     "output_type": "stream",
     "text": [
      "Epoch 1830 - Train Loss: 0.2503, Train MSE: 0.2506, Train MAE: 0.3043\n",
      "Epoch 1830 - Validation Loss: 1.5944, Validation MSE: 1.5973, Validation MAE: 0.9271\n"
     ]
    },
    {
     "name": "stderr",
     "output_type": "stream",
     "text": [
      "Training Epoch 1832: 100%|██████████| 370/370 [00:04<00:00, 75.24it/s]\n",
      "Training Epoch 1833: 100%|██████████| 370/370 [00:05<00:00, 72.64it/s]\n",
      "Training Epoch 1834: 100%|██████████| 370/370 [00:05<00:00, 73.41it/s]\n",
      "Training Epoch 1835: 100%|██████████| 370/370 [00:05<00:00, 67.23it/s]\n",
      "Training Epoch 1836: 100%|██████████| 370/370 [00:05<00:00, 71.92it/s]\n",
      "Training Epoch 1837: 100%|██████████| 370/370 [00:05<00:00, 69.01it/s]\n",
      "Training Epoch 1838: 100%|██████████| 370/370 [00:05<00:00, 64.60it/s]\n",
      "Training Epoch 1839: 100%|██████████| 370/370 [00:05<00:00, 69.30it/s]\n",
      "Training Epoch 1840: 100%|██████████| 370/370 [00:05<00:00, 62.99it/s]\n",
      "Training Epoch 1841: 100%|██████████| 370/370 [00:05<00:00, 71.11it/s]\n"
     ]
    },
    {
     "name": "stdout",
     "output_type": "stream",
     "text": [
      "Epoch 1840 - Train Loss: 0.2772, Train MSE: 0.2771, Train MAE: 0.3178\n",
      "Epoch 1840 - Validation Loss: 1.5921, Validation MSE: 1.5952, Validation MAE: 0.9309\n"
     ]
    },
    {
     "name": "stderr",
     "output_type": "stream",
     "text": [
      "Training Epoch 1842: 100%|██████████| 370/370 [00:04<00:00, 74.03it/s]\n",
      "Training Epoch 1843: 100%|██████████| 370/370 [00:05<00:00, 70.74it/s]\n",
      "Training Epoch 1844: 100%|██████████| 370/370 [00:04<00:00, 74.91it/s]\n",
      "Training Epoch 1845: 100%|██████████| 370/370 [00:04<00:00, 74.01it/s]\n",
      "Training Epoch 1846: 100%|██████████| 370/370 [00:05<00:00, 70.92it/s]\n",
      "Training Epoch 1847: 100%|██████████| 370/370 [00:05<00:00, 73.29it/s]\n",
      "Training Epoch 1848: 100%|██████████| 370/370 [00:05<00:00, 73.41it/s]\n",
      "Training Epoch 1849: 100%|██████████| 370/370 [00:05<00:00, 72.79it/s]\n",
      "Training Epoch 1850: 100%|██████████| 370/370 [00:05<00:00, 72.79it/s]\n",
      "Training Epoch 1851: 100%|██████████| 370/370 [00:05<00:00, 73.36it/s]\n"
     ]
    },
    {
     "name": "stdout",
     "output_type": "stream",
     "text": [
      "Epoch 1850 - Train Loss: 0.2776, Train MSE: 0.2775, Train MAE: 0.3147\n",
      "Epoch 1850 - Validation Loss: 1.5733, Validation MSE: 1.5767, Validation MAE: 0.9218\n"
     ]
    },
    {
     "name": "stderr",
     "output_type": "stream",
     "text": [
      "Training Epoch 1852: 100%|██████████| 370/370 [00:05<00:00, 73.12it/s]\n",
      "Training Epoch 1853: 100%|██████████| 370/370 [00:05<00:00, 73.87it/s]\n",
      "Training Epoch 1854: 100%|██████████| 370/370 [00:05<00:00, 72.95it/s]\n",
      "Training Epoch 1855: 100%|██████████| 370/370 [00:05<00:00, 73.68it/s]\n",
      "Training Epoch 1856: 100%|██████████| 370/370 [00:05<00:00, 72.63it/s]\n",
      "Training Epoch 1857: 100%|██████████| 370/370 [00:05<00:00, 73.04it/s]\n",
      "Training Epoch 1858: 100%|██████████| 370/370 [00:05<00:00, 72.35it/s]\n",
      "Training Epoch 1859: 100%|██████████| 370/370 [00:04<00:00, 74.47it/s]\n",
      "Training Epoch 1860: 100%|██████████| 370/370 [00:04<00:00, 74.07it/s]\n",
      "Training Epoch 1861: 100%|██████████| 370/370 [00:05<00:00, 71.83it/s]\n"
     ]
    },
    {
     "name": "stdout",
     "output_type": "stream",
     "text": [
      "Epoch 1860 - Train Loss: 0.2502, Train MSE: 0.2507, Train MAE: 0.3036\n",
      "Epoch 1860 - Validation Loss: 1.5440, Validation MSE: 1.5465, Validation MAE: 0.9162\n"
     ]
    },
    {
     "name": "stderr",
     "output_type": "stream",
     "text": [
      "Training Epoch 1862: 100%|██████████| 370/370 [00:05<00:00, 72.15it/s]\n",
      "Training Epoch 1863: 100%|██████████| 370/370 [00:05<00:00, 71.62it/s]\n",
      "Training Epoch 1864: 100%|██████████| 370/370 [00:05<00:00, 70.46it/s]\n",
      "Training Epoch 1865: 100%|██████████| 370/370 [00:05<00:00, 73.01it/s]\n",
      "Training Epoch 1866: 100%|██████████| 370/370 [00:05<00:00, 73.93it/s]\n",
      "Training Epoch 1867: 100%|██████████| 370/370 [00:05<00:00, 71.61it/s]\n",
      "Training Epoch 1868: 100%|██████████| 370/370 [00:05<00:00, 73.64it/s]\n",
      "Training Epoch 1869: 100%|██████████| 370/370 [00:05<00:00, 71.89it/s]\n",
      "Training Epoch 1870: 100%|██████████| 370/370 [00:05<00:00, 72.28it/s]\n",
      "Training Epoch 1871: 100%|██████████| 370/370 [00:05<00:00, 72.82it/s]\n"
     ]
    },
    {
     "name": "stdout",
     "output_type": "stream",
     "text": [
      "Epoch 1870 - Train Loss: 0.2543, Train MSE: 0.2543, Train MAE: 0.3069\n",
      "Epoch 1870 - Validation Loss: 1.5364, Validation MSE: 1.5378, Validation MAE: 0.9184\n"
     ]
    },
    {
     "name": "stderr",
     "output_type": "stream",
     "text": [
      "Training Epoch 1872: 100%|██████████| 370/370 [00:05<00:00, 72.72it/s]\n",
      "Training Epoch 1873: 100%|██████████| 370/370 [00:05<00:00, 72.99it/s]\n",
      "Training Epoch 1874: 100%|██████████| 370/370 [00:05<00:00, 72.68it/s]\n",
      "Training Epoch 1875: 100%|██████████| 370/370 [00:05<00:00, 73.90it/s]\n",
      "Training Epoch 1876: 100%|██████████| 370/370 [00:05<00:00, 72.09it/s]\n",
      "Training Epoch 1877: 100%|██████████| 370/370 [00:05<00:00, 73.87it/s]\n",
      "Training Epoch 1878: 100%|██████████| 370/370 [00:05<00:00, 72.52it/s]\n",
      "Training Epoch 1879: 100%|██████████| 370/370 [00:04<00:00, 74.10it/s]\n",
      "Training Epoch 1880: 100%|██████████| 370/370 [00:05<00:00, 72.59it/s]\n",
      "Training Epoch 1881: 100%|██████████| 370/370 [00:05<00:00, 72.54it/s]\n"
     ]
    },
    {
     "name": "stdout",
     "output_type": "stream",
     "text": [
      "Epoch 1880 - Train Loss: 0.2620, Train MSE: 0.2624, Train MAE: 0.3112\n",
      "Epoch 1880 - Validation Loss: 1.5889, Validation MSE: 1.5923, Validation MAE: 0.9322\n"
     ]
    },
    {
     "name": "stderr",
     "output_type": "stream",
     "text": [
      "Training Epoch 1882: 100%|██████████| 370/370 [00:04<00:00, 74.16it/s]\n",
      "Training Epoch 1883: 100%|██████████| 370/370 [00:05<00:00, 73.11it/s]\n",
      "Training Epoch 1884: 100%|██████████| 370/370 [00:05<00:00, 72.79it/s]\n",
      "Training Epoch 1885: 100%|██████████| 370/370 [00:05<00:00, 72.21it/s]\n",
      "Training Epoch 1886: 100%|██████████| 370/370 [00:04<00:00, 74.50it/s]\n",
      "Training Epoch 1887: 100%|██████████| 370/370 [00:05<00:00, 72.85it/s]\n",
      "Training Epoch 1888: 100%|██████████| 370/370 [00:04<00:00, 74.16it/s]\n",
      "Training Epoch 1889: 100%|██████████| 370/370 [00:05<00:00, 73.06it/s]\n",
      "Training Epoch 1890: 100%|██████████| 370/370 [00:05<00:00, 73.05it/s]\n",
      "Training Epoch 1891: 100%|██████████| 370/370 [00:05<00:00, 73.79it/s]\n"
     ]
    },
    {
     "name": "stdout",
     "output_type": "stream",
     "text": [
      "Epoch 1890 - Train Loss: 0.2663, Train MSE: 0.2669, Train MAE: 0.3106\n",
      "Epoch 1890 - Validation Loss: 1.5221, Validation MSE: 1.5255, Validation MAE: 0.9139\n"
     ]
    },
    {
     "name": "stderr",
     "output_type": "stream",
     "text": [
      "Training Epoch 1892: 100%|██████████| 370/370 [00:05<00:00, 71.24it/s]\n",
      "Training Epoch 1893: 100%|██████████| 370/370 [00:05<00:00, 72.89it/s]\n",
      "Training Epoch 1894: 100%|██████████| 370/370 [00:05<00:00, 73.14it/s]\n",
      "Training Epoch 1895: 100%|██████████| 370/370 [00:05<00:00, 71.21it/s]\n",
      "Training Epoch 1896: 100%|██████████| 370/370 [00:04<00:00, 74.04it/s]\n",
      "Training Epoch 1897: 100%|██████████| 370/370 [00:05<00:00, 72.51it/s]\n",
      "Training Epoch 1898: 100%|██████████| 370/370 [00:05<00:00, 72.30it/s]\n",
      "Training Epoch 1899: 100%|██████████| 370/370 [00:05<00:00, 73.27it/s]\n",
      "Training Epoch 1900: 100%|██████████| 370/370 [00:05<00:00, 73.54it/s]\n",
      "Training Epoch 1901: 100%|██████████| 370/370 [00:05<00:00, 72.73it/s]\n"
     ]
    },
    {
     "name": "stdout",
     "output_type": "stream",
     "text": [
      "Epoch 1900 - Train Loss: 0.2589, Train MSE: 0.2594, Train MAE: 0.3069\n",
      "Epoch 1900 - Validation Loss: 1.5576, Validation MSE: 1.5597, Validation MAE: 0.9185\n"
     ]
    },
    {
     "name": "stderr",
     "output_type": "stream",
     "text": [
      "Training Epoch 1902: 100%|██████████| 370/370 [00:05<00:00, 72.91it/s]\n",
      "Training Epoch 1903: 100%|██████████| 370/370 [00:05<00:00, 73.94it/s]\n",
      "Training Epoch 1904: 100%|██████████| 370/370 [00:05<00:00, 72.20it/s]\n",
      "Training Epoch 1905: 100%|██████████| 370/370 [00:05<00:00, 73.16it/s]\n",
      "Training Epoch 1906: 100%|██████████| 370/370 [00:05<00:00, 73.59it/s]\n",
      "Training Epoch 1907: 100%|██████████| 370/370 [00:05<00:00, 73.66it/s]\n",
      "Training Epoch 1908: 100%|██████████| 370/370 [00:05<00:00, 73.48it/s]\n",
      "Training Epoch 1909: 100%|██████████| 370/370 [00:05<00:00, 72.38it/s]\n",
      "Training Epoch 1910: 100%|██████████| 370/370 [00:05<00:00, 72.26it/s]\n",
      "Training Epoch 1911: 100%|██████████| 370/370 [00:05<00:00, 73.79it/s]\n"
     ]
    },
    {
     "name": "stdout",
     "output_type": "stream",
     "text": [
      "Epoch 1910 - Train Loss: 0.2747, Train MSE: 0.2750, Train MAE: 0.3150\n",
      "Epoch 1910 - Validation Loss: 1.5539, Validation MSE: 1.5575, Validation MAE: 0.9171\n"
     ]
    },
    {
     "name": "stderr",
     "output_type": "stream",
     "text": [
      "Training Epoch 1912: 100%|██████████| 370/370 [00:05<00:00, 73.56it/s]\n",
      "Training Epoch 1913: 100%|██████████| 370/370 [00:05<00:00, 73.28it/s]\n",
      "Training Epoch 1914: 100%|██████████| 370/370 [00:04<00:00, 75.35it/s]\n",
      "Training Epoch 1915: 100%|██████████| 370/370 [00:05<00:00, 71.74it/s]\n",
      "Training Epoch 1916: 100%|██████████| 370/370 [00:05<00:00, 73.96it/s]\n",
      "Training Epoch 1917: 100%|██████████| 370/370 [00:05<00:00, 71.74it/s]\n",
      "Training Epoch 1918: 100%|██████████| 370/370 [00:05<00:00, 71.74it/s]\n",
      "Training Epoch 1919: 100%|██████████| 370/370 [00:05<00:00, 73.48it/s]\n",
      "Training Epoch 1920: 100%|██████████| 370/370 [00:04<00:00, 75.28it/s]\n",
      "Training Epoch 1921: 100%|██████████| 370/370 [00:05<00:00, 73.11it/s]\n"
     ]
    },
    {
     "name": "stdout",
     "output_type": "stream",
     "text": [
      "Epoch 1920 - Train Loss: 0.2582, Train MSE: 0.2583, Train MAE: 0.3065\n",
      "Epoch 1920 - Validation Loss: 1.5191, Validation MSE: 1.5221, Validation MAE: 0.9081\n"
     ]
    },
    {
     "name": "stderr",
     "output_type": "stream",
     "text": [
      "Training Epoch 1922: 100%|██████████| 370/370 [00:05<00:00, 73.21it/s]\n",
      "Training Epoch 1923: 100%|██████████| 370/370 [00:05<00:00, 73.27it/s]\n",
      "Training Epoch 1924: 100%|██████████| 370/370 [00:05<00:00, 73.95it/s]\n",
      "Training Epoch 1925: 100%|██████████| 370/370 [00:05<00:00, 72.11it/s]\n",
      "Training Epoch 1926: 100%|██████████| 370/370 [00:05<00:00, 72.23it/s]\n",
      "Training Epoch 1927: 100%|██████████| 370/370 [00:05<00:00, 72.85it/s]\n",
      "Training Epoch 1928: 100%|██████████| 370/370 [00:05<00:00, 70.13it/s]\n",
      "Training Epoch 1929: 100%|██████████| 370/370 [00:05<00:00, 71.43it/s]\n",
      "Training Epoch 1930: 100%|██████████| 370/370 [00:05<00:00, 71.85it/s]\n",
      "Training Epoch 1931: 100%|██████████| 370/370 [00:05<00:00, 68.33it/s]\n"
     ]
    },
    {
     "name": "stdout",
     "output_type": "stream",
     "text": [
      "Epoch 1930 - Train Loss: 0.2701, Train MSE: 0.2706, Train MAE: 0.3132\n",
      "Epoch 1930 - Validation Loss: 1.5129, Validation MSE: 1.5154, Validation MAE: 0.9092\n"
     ]
    },
    {
     "name": "stderr",
     "output_type": "stream",
     "text": [
      "Training Epoch 1932: 100%|██████████| 370/370 [00:05<00:00, 73.64it/s]\n",
      "Training Epoch 1933: 100%|██████████| 370/370 [00:05<00:00, 72.65it/s]\n",
      "Training Epoch 1934: 100%|██████████| 370/370 [00:05<00:00, 71.48it/s]\n",
      "Training Epoch 1935: 100%|██████████| 370/370 [00:05<00:00, 72.78it/s]\n",
      "Training Epoch 1936: 100%|██████████| 370/370 [00:05<00:00, 73.94it/s]\n",
      "Training Epoch 1937: 100%|██████████| 370/370 [00:05<00:00, 70.80it/s]\n",
      "Training Epoch 1938: 100%|██████████| 370/370 [00:05<00:00, 72.89it/s]\n",
      "Training Epoch 1939: 100%|██████████| 370/370 [00:05<00:00, 72.55it/s]\n",
      "Training Epoch 1940: 100%|██████████| 370/370 [00:05<00:00, 71.31it/s]\n",
      "Training Epoch 1941: 100%|██████████| 370/370 [00:04<00:00, 74.33it/s]\n"
     ]
    },
    {
     "name": "stdout",
     "output_type": "stream",
     "text": [
      "Epoch 1940 - Train Loss: 0.2619, Train MSE: 0.2622, Train MAE: 0.3100\n",
      "Epoch 1940 - Validation Loss: 1.5074, Validation MSE: 1.5095, Validation MAE: 0.9126\n"
     ]
    },
    {
     "name": "stderr",
     "output_type": "stream",
     "text": [
      "Training Epoch 1942: 100%|██████████| 370/370 [00:04<00:00, 74.21it/s]\n",
      "Training Epoch 1943: 100%|██████████| 370/370 [00:05<00:00, 70.37it/s]\n",
      "Training Epoch 1944: 100%|██████████| 370/370 [00:05<00:00, 73.31it/s]\n",
      "Training Epoch 1945: 100%|██████████| 370/370 [00:05<00:00, 71.55it/s]\n",
      "Training Epoch 1946: 100%|██████████| 370/370 [00:05<00:00, 72.61it/s]\n",
      "Training Epoch 1947: 100%|██████████| 370/370 [00:05<00:00, 72.87it/s]\n",
      "Training Epoch 1948: 100%|██████████| 370/370 [00:05<00:00, 71.10it/s]\n",
      "Training Epoch 1949: 100%|██████████| 370/370 [00:05<00:00, 65.74it/s]\n",
      "Training Epoch 1950: 100%|██████████| 370/370 [00:05<00:00, 69.44it/s]\n",
      "Training Epoch 1951: 100%|██████████| 370/370 [00:05<00:00, 70.44it/s]\n"
     ]
    },
    {
     "name": "stdout",
     "output_type": "stream",
     "text": [
      "Epoch 1950 - Train Loss: 0.2619, Train MSE: 0.2625, Train MAE: 0.3092\n",
      "Epoch 1950 - Validation Loss: 1.6078, Validation MSE: 1.6106, Validation MAE: 0.9322\n"
     ]
    },
    {
     "name": "stderr",
     "output_type": "stream",
     "text": [
      "Training Epoch 1952: 100%|██████████| 370/370 [00:05<00:00, 65.76it/s]\n",
      "Training Epoch 1953: 100%|██████████| 370/370 [00:05<00:00, 64.70it/s]\n",
      "Training Epoch 1954: 100%|██████████| 370/370 [00:05<00:00, 67.15it/s]\n",
      "Training Epoch 1955: 100%|██████████| 370/370 [00:05<00:00, 71.08it/s]\n",
      "Training Epoch 1956: 100%|██████████| 370/370 [00:05<00:00, 72.34it/s]\n",
      "Training Epoch 1957: 100%|██████████| 370/370 [00:05<00:00, 72.90it/s]\n",
      "Training Epoch 1958: 100%|██████████| 370/370 [00:05<00:00, 71.88it/s]\n",
      "Training Epoch 1959: 100%|██████████| 370/370 [00:05<00:00, 71.27it/s]\n",
      "Training Epoch 1960: 100%|██████████| 370/370 [00:05<00:00, 70.56it/s]\n",
      "Training Epoch 1961: 100%|██████████| 370/370 [00:05<00:00, 71.90it/s]\n"
     ]
    },
    {
     "name": "stdout",
     "output_type": "stream",
     "text": [
      "Epoch 1960 - Train Loss: 0.2530, Train MSE: 0.2534, Train MAE: 0.3049\n",
      "Epoch 1960 - Validation Loss: 1.5469, Validation MSE: 1.5488, Validation MAE: 0.9117\n"
     ]
    },
    {
     "name": "stderr",
     "output_type": "stream",
     "text": [
      "Training Epoch 1962: 100%|██████████| 370/370 [00:05<00:00, 73.00it/s]\n",
      "Training Epoch 1963: 100%|██████████| 370/370 [00:05<00:00, 72.67it/s]\n",
      "Training Epoch 1964: 100%|██████████| 370/370 [00:05<00:00, 72.54it/s]\n",
      "Training Epoch 1965: 100%|██████████| 370/370 [00:05<00:00, 71.67it/s]\n",
      "Training Epoch 1966: 100%|██████████| 370/370 [00:05<00:00, 72.11it/s]\n",
      "Training Epoch 1967: 100%|██████████| 370/370 [00:05<00:00, 70.65it/s]\n",
      "Training Epoch 1968: 100%|██████████| 370/370 [00:05<00:00, 73.91it/s]\n",
      "Training Epoch 1969: 100%|██████████| 370/370 [00:05<00:00, 72.89it/s]\n",
      "Training Epoch 1970: 100%|██████████| 370/370 [00:05<00:00, 72.30it/s]\n",
      "Training Epoch 1971: 100%|██████████| 370/370 [00:05<00:00, 69.73it/s]\n"
     ]
    },
    {
     "name": "stdout",
     "output_type": "stream",
     "text": [
      "Epoch 1970 - Train Loss: 0.2736, Train MSE: 0.2737, Train MAE: 0.3141\n",
      "Epoch 1970 - Validation Loss: 1.5905, Validation MSE: 1.5929, Validation MAE: 0.9272\n"
     ]
    },
    {
     "name": "stderr",
     "output_type": "stream",
     "text": [
      "Training Epoch 1972: 100%|██████████| 370/370 [00:05<00:00, 70.25it/s]\n",
      "Training Epoch 1973: 100%|██████████| 370/370 [00:05<00:00, 72.45it/s]\n",
      "Training Epoch 1974: 100%|██████████| 370/370 [00:05<00:00, 71.09it/s]\n",
      "Training Epoch 1975: 100%|██████████| 370/370 [00:05<00:00, 71.75it/s]\n",
      "Training Epoch 1976: 100%|██████████| 370/370 [00:05<00:00, 69.19it/s]\n",
      "Training Epoch 1977: 100%|██████████| 370/370 [00:04<00:00, 74.11it/s]\n",
      "Training Epoch 1978: 100%|██████████| 370/370 [00:05<00:00, 71.84it/s]\n",
      "Training Epoch 1979: 100%|██████████| 370/370 [00:05<00:00, 72.18it/s]\n",
      "Training Epoch 1980: 100%|██████████| 370/370 [00:05<00:00, 73.47it/s]\n",
      "Training Epoch 1981: 100%|██████████| 370/370 [00:05<00:00, 72.37it/s]\n"
     ]
    },
    {
     "name": "stdout",
     "output_type": "stream",
     "text": [
      "Epoch 1980 - Train Loss: 0.2567, Train MSE: 0.2573, Train MAE: 0.3064\n",
      "Epoch 1980 - Validation Loss: 1.6244, Validation MSE: 1.6274, Validation MAE: 0.9430\n"
     ]
    },
    {
     "name": "stderr",
     "output_type": "stream",
     "text": [
      "Training Epoch 1982: 100%|██████████| 370/370 [00:05<00:00, 70.88it/s]\n",
      "Training Epoch 1983: 100%|██████████| 370/370 [00:05<00:00, 73.00it/s]\n",
      "Training Epoch 1984: 100%|██████████| 370/370 [00:05<00:00, 68.69it/s]\n",
      "Training Epoch 1985: 100%|██████████| 370/370 [00:05<00:00, 65.51it/s]\n",
      "Training Epoch 1986: 100%|██████████| 370/370 [00:05<00:00, 68.32it/s]\n",
      "Training Epoch 1987: 100%|██████████| 370/370 [00:05<00:00, 66.38it/s]\n",
      "Training Epoch 1988: 100%|██████████| 370/370 [00:05<00:00, 67.53it/s]\n",
      "Training Epoch 1989: 100%|██████████| 370/370 [00:05<00:00, 66.19it/s]\n",
      "Training Epoch 1990: 100%|██████████| 370/370 [00:05<00:00, 65.24it/s]\n",
      "Training Epoch 1991: 100%|██████████| 370/370 [00:05<00:00, 68.95it/s]\n"
     ]
    },
    {
     "name": "stdout",
     "output_type": "stream",
     "text": [
      "Epoch 1990 - Train Loss: 0.2453, Train MSE: 0.2456, Train MAE: 0.2998\n",
      "Epoch 1990 - Validation Loss: 1.6027, Validation MSE: 1.6052, Validation MAE: 0.9329\n"
     ]
    },
    {
     "name": "stderr",
     "output_type": "stream",
     "text": [
      "Training Epoch 1992: 100%|██████████| 370/370 [00:05<00:00, 69.30it/s]\n",
      "Training Epoch 1993: 100%|██████████| 370/370 [00:05<00:00, 65.59it/s]\n",
      "Training Epoch 1994: 100%|██████████| 370/370 [00:05<00:00, 66.32it/s]\n",
      "Training Epoch 1995: 100%|██████████| 370/370 [00:05<00:00, 70.93it/s]\n",
      "Training Epoch 1996: 100%|██████████| 370/370 [00:05<00:00, 69.48it/s]\n",
      "Training Epoch 1997: 100%|██████████| 370/370 [00:05<00:00, 72.09it/s]\n",
      "Training Epoch 1998: 100%|██████████| 370/370 [00:05<00:00, 70.07it/s]\n",
      "Training Epoch 1999: 100%|██████████| 370/370 [00:05<00:00, 71.86it/s]\n",
      "Training Epoch 2000: 100%|██████████| 370/370 [00:05<00:00, 71.57it/s]\n"
     ]
    },
    {
     "name": "stdout",
     "output_type": "stream",
     "text": [
      "Test MSE: 1.7758, Test MAE: 0.9649\n"
     ]
    }
   ],
   "source": [
    "train_history_2 = pd.DataFrame(columns=[  'epoch',\n",
    "    'Train Loss', 'Train MSE', 'Train MAE', 'Train RMSE', 'Train R2', 'Train Pearson', 'Train Median_AE', 'Train Explained_VAR'\n",
    "    'Val Loss', 'Val MSE', 'Val MAE', 'Val RMSE', 'Val R2', 'Val Pearson', 'Val Median_AE', 'Val Explained_VAR'])\n",
    "# Verify feature dimensions\n",
    "for batch in train_loader_mols:\n",
    "    mol_input_dim = batch['metabolite_features'].shape[1]  # Dynamically determine mol input dimension\n",
    "    protein_input_dim = batch['protein_features'].shape[1]  # Dynamically determine protein input dimension\n",
    "    break\n",
    "\n",
    "# Initialize model, optimizer, and loss function\n",
    "num_timesteps = 10\n",
    "model_2 = TransformerRegressor(mol_input_dim=mol_input_dim, protein_input_dim=protein_input_dim)\n",
    "model_2 = model_2.to(device)\n",
    "optimizer_2 = optim.Adam(model_2.parameters(), lr=0.0001)\n",
    "criterion = nn.MSELoss()\n",
    "\n",
    "# Training and Validation Loop\n",
    "for epoch in range(2000):\n",
    "    model_2.train()\n",
    "    total_loss = 0.0\n",
    "    val_total_loss = 0.0\n",
    "    train_predictions, train_labels = [], []\n",
    "\n",
    "    for batch in tqdm(train_loader_mols, desc=f\"Training Epoch {epoch + 1}\"):\n",
    "        mol_features = batch['metabolite_features'].to(device)\n",
    "        protein_features = batch['protein_features'].to(device)\n",
    "        labels = batch['label'].to(device)\n",
    "\n",
    "        optimizer_2.zero_grad()\n",
    "        outputs = model_2(mol_features, protein_features)\n",
    "        loss = criterion(outputs, labels)\n",
    "        loss.backward()\n",
    "        optimizer_2.step()\n",
    "        total_loss += loss.item()\n",
    "\n",
    "        # Store predictions and labels for metrics\n",
    "        train_predictions.extend(outputs.detach().cpu().numpy())\n",
    "        train_labels.extend(labels.cpu().numpy())\n",
    "\n",
    "    # Calculate training metrics\n",
    "    train_mse = ((torch.tensor(train_predictions) - torch.tensor(train_labels))**2).mean().item()\n",
    "    train_mae = torch.abs(torch.tensor(train_predictions) - torch.tensor(train_labels)).mean().item()\n",
    "    train_rmse = torch.sqrt((torch.tensor(train_predictions) - torch.tensor(train_labels)) ** 2).mean().item()\n",
    "    train_r2 = r2_score(np.array(train_labels), np.array(train_predictions))\n",
    "    train_pearson_corr, _ = pearsonr(np.array(train_labels), np.array(train_predictions))\n",
    "    train_median_ae = median_absolute_error(np.array(train_labels), np.array(train_predictions))\n",
    "    train_explained_var = explained_variance_score(np.array(train_labels), np.array(train_predictions))\n",
    "\n",
    "\n",
    "\n",
    "    if epoch % 10 == 0:\n",
    "        print(f\"Epoch {epoch} - Train Loss: {total_loss / len(train_loader_mols):.4f}, Train MSE: {train_mse:.4f}, Train MAE: {train_mae:.4f}\")\n",
    "\n",
    "    # Validation\n",
    "    model_2.eval()\n",
    "    val_predictions, val_labels = [], []\n",
    "    with torch.no_grad():\n",
    "        for batch in val_loader_mols:\n",
    "            mol_features = batch['metabolite_features'].to(device)\n",
    "            protein_features = batch['protein_features'].to(device)\n",
    "            labels = batch['label'].to(device)\n",
    "\n",
    "            outputs = model_2(mol_features, protein_features)\n",
    "            val_predictions.extend(outputs.cpu().numpy())\n",
    "            val_labels.extend(labels.cpu().numpy())\n",
    "            val_loss = criterion(outputs, labels)\n",
    "            val_total_loss += val_loss.item()\n",
    "\n",
    "    val_mse = ((torch.tensor(val_predictions) - torch.tensor(val_labels))**2).mean().item()\n",
    "    val_mae = torch.abs(torch.tensor(val_predictions) - torch.tensor(val_labels)).mean().item()\n",
    "    val_rmse = torch.sqrt((torch.tensor(val_predictions) - torch.tensor(val_labels)) ** 2).mean().item()\n",
    "    val_r2 = r2_score(np.array(val_labels), np.array(val_predictions))\n",
    "    val_pearson_corr, _ = pearsonr(np.array(val_labels), np.array(val_predictions))\n",
    "    val_median_ae = median_absolute_error(np.array(val_labels), np.array(val_predictions))\n",
    "    val_explained_var = explained_variance_score(np.array(val_labels), np.array(val_predictions))\n",
    "\n",
    "    if epoch % 10 == 0:\n",
    "        print(f\"Epoch {epoch} - Validation Loss: {val_total_loss / len(val_loader_mols):.4f}, Validation MSE: {val_mse:.4f}, Validation MAE: {val_mae:.4f}\")\n",
    "\n",
    "    # Save metrics to DataFrame\n",
    "    new_row = {'epoch': epoch + 1, 'Train Loss': total_loss / len(train_loader_mols), 'Train MSE': train_mse, 'Train MAE': train_mae, 'Train RMSE': train_rmse, 'Train R2': train_r2, 'Train Pearson': train_pearson_corr, 'Train Median_AE': train_median_ae, 'Train Explained_VAR': train_explained_var, \n",
    "               'Val Loss': val_total_loss / len(val_loader_mols), 'Val MSE': val_mse, 'Val MAE': val_mae, 'Val RMSE': val_rmse, 'Val R2': val_r2, 'Val Pearson': val_pearson_corr, 'Val Median_AE': val_median_ae, 'Val Explained_VAR': val_explained_var}\n",
    "    train_history_2 = pd.concat([train_history_2, pd.DataFrame([new_row])], ignore_index=True)\n",
    "\n",
    "\n"
   ]
  },
  {
   "cell_type": "code",
   "execution_count": 25,
   "metadata": {},
   "outputs": [],
   "source": [
    "for batch in train_loader_mols:\n",
    "    mol_input_dim = batch['metabolite_features'].shape[1]  # Dynamically determine mol input dimension\n",
    "    protein_input_dim = batch['protein_features'].shape[1]  # Dynamically determine protein input dimension\n",
    "    break\n",
    "\n",
    "model = TransformerRegressor(mol_input_dim=mol_input_dim, protein_input_dim=protein_input_dim)\n",
    "model.load_state_dict(torch.load('/Users/pinchichen/2025S lab/AI drug project/code/trained_model/cold_mols/Transformer model_cold_mols.pt'))\n",
    "model = model.to(device)"
   ]
  },
  {
   "cell_type": "code",
   "execution_count": 26,
   "metadata": {},
   "outputs": [
    {
     "name": "stdout",
     "output_type": "stream",
     "text": [
      "Test MSE: 1.7758, Test MAE: 0.9649\n"
     ]
    }
   ],
   "source": [
    "# Test Metrics\n",
    "model.eval()\n",
    "test_predictions, test_labels = [], []\n",
    "with torch.no_grad():\n",
    "    for batch in test_loader_mols:\n",
    "        mol_features = batch['metabolite_features'].to(device)\n",
    "        protein_features = batch['protein_features'].to(device)\n",
    "        labels = batch['label'].to(device)\n",
    "\n",
    "        outputs = model(mol_features, protein_features)\n",
    "        test_predictions.extend(outputs.cpu().numpy())\n",
    "        test_labels.extend(labels.cpu().numpy())\n",
    "\n",
    "test_mse = ((torch.tensor(test_predictions) - torch.tensor(test_labels))**2).mean().item()\n",
    "test_mae = torch.abs(torch.tensor(test_predictions) - torch.tensor(test_labels)).mean().item()\n",
    "test_rmse = torch.sqrt((torch.tensor(test_predictions) - torch.tensor(test_labels)) ** 2).mean().item()\n",
    "test_r2 = r2_score(np.array(test_labels), np.array(test_predictions))\n",
    "test_pearson_corr, _ = pearsonr(np.array(test_labels), np.array(test_predictions))\n",
    "test_median_ae = median_absolute_error(np.array(test_labels), np.array(test_predictions))\n",
    "test_explained_var = explained_variance_score(np.array(test_labels), np.array(test_predictions))\n",
    "\n",
    "print(f\"Test MSE: {test_mse:.4f}, Test MAE: {test_mae:.4f}\")"
   ]
  },
  {
   "cell_type": "code",
   "execution_count": 27,
   "metadata": {},
   "outputs": [],
   "source": [
    "model.eval()\n",
    "train_pred, train_labels = [], []\n",
    "with torch.no_grad():\n",
    "    for batch in train_loader_mols:\n",
    "        mol_features = batch['metabolite_features'].to(device)\n",
    "        protein_features = batch['protein_features'].to(device)\n",
    "        labels = batch['label'].to(device)\n",
    "\n",
    "        outputs = model(mol_features, protein_features)\n",
    "        train_pred.extend(outputs.cpu().numpy())\n",
    "        train_labels.extend(labels.cpu().numpy())\n",
    "\n",
    "train_mse, train_rmse, train_mae, train_r2, train_pearson_corr, train_median_ae, train_explained_var = evaluate_model(train_pred, train_labels)"
   ]
  },
  {
   "cell_type": "code",
   "execution_count": 28,
   "metadata": {},
   "outputs": [],
   "source": [
    "model.eval()\n",
    "val_pred, val_labels = [], []\n",
    "with torch.no_grad():\n",
    "    for batch in val_loader_mols:\n",
    "        mol_features = batch['metabolite_features'].to(device)\n",
    "        protein_features = batch['protein_features'].to(device)\n",
    "        labels = batch['label'].to(device)\n",
    "\n",
    "        outputs = model(mol_features, protein_features)\n",
    "        val_pred.extend(outputs.cpu().numpy())\n",
    "        val_labels.extend(labels.cpu().numpy())\n",
    "\n",
    "val_mse, val_rmse, val_mae, val_r2, val_pearson_corr, val_median_ae, val_explained_var = evaluate_model(val_pred, val_labels)\n"
   ]
  },
  {
   "cell_type": "code",
   "execution_count": 29,
   "metadata": {},
   "outputs": [],
   "source": [
    "# append the performance to the csv file\n",
    "df = {\n",
    "    'Model':['Transformer','Transformer','Transformer'],\n",
    "    'Dataset':['Train','Validation','Test'],\n",
    "    'MSE':[train_mse,val_mse,test_mse],\n",
    "    'RMSE':[train_rmse,val_rmse,test_rmse],\n",
    "    'MAE':[train_mae,val_mae,test_mae],\n",
    "    'R2':[train_r2,val_r2,test_r2],\n",
    "    'Pearson':[train_pearson_corr,val_pearson_corr,test_pearson_corr],\n",
    "    'Median_AE':[train_median_ae,val_median_ae,test_median_ae],\n",
    "    'Explained_VAR':[train_explained_var,val_explained_var,test_explained_var],\n",
    "    'Dataspliting Mode':['cold mols','cold mols','cold mols']\n",
    "}\n",
    "df = pd.DataFrame(df)\n",
    "\n",
    "df.to_csv('/Users/pinchichen/2025S lab/AI drug project/code/model performance metrics.csv', mode='a', header=False)"
   ]
  },
  {
   "cell_type": "code",
   "execution_count": 25,
   "metadata": {},
   "outputs": [],
   "source": [
    "# Save the model and training history\n",
    "save_dir = '/Users/pinchichen/2025S lab/AI drug project/code/trained_model/cold_mols'\n",
    "# save model weights and optimizer state\n",
    "torch.save(model_2.state_dict(), os.path.join(save_dir, 'Transformer model_cold_mols.pt'))\n",
    "torch.save(optimizer_2.state_dict(), os.path.join(save_dir, 'Transformer optimizer_cold_mols.pt'))"
   ]
  }
 ],
 "metadata": {
  "kernelspec": {
   "display_name": "base",
   "language": "python",
   "name": "python3"
  },
  "language_info": {
   "codemirror_mode": {
    "name": "ipython",
    "version": 3
   },
   "file_extension": ".py",
   "mimetype": "text/x-python",
   "name": "python",
   "nbconvert_exporter": "python",
   "pygments_lexer": "ipython3",
   "version": "3.12.2"
  }
 },
 "nbformat": 4,
 "nbformat_minor": 2
}
