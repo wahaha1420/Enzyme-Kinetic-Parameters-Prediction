{
 "cells": [
  {
   "cell_type": "code",
   "execution_count": 2,
   "metadata": {},
   "outputs": [],
   "source": [
    "import pandas as pd\n",
    "import numpy as np\n",
    "from tqdm import tqdm\n",
    "import torch\n",
    "import torch.nn as nn\n",
    "import torch.optim as optim\n",
    "from torch.utils.data import DataLoader, Dataset\n",
    "from sklearn.metrics import roc_auc_score\n",
    "from sklearn.model_selection import train_test_split\n",
    "import os\n"
   ]
  },
  {
   "cell_type": "code",
   "execution_count": 3,
   "metadata": {},
   "outputs": [
    {
     "data": {
      "text/html": [
       "<div>\n",
       "<style scoped>\n",
       "    .dataframe tbody tr th:only-of-type {\n",
       "        vertical-align: middle;\n",
       "    }\n",
       "\n",
       "    .dataframe tbody tr th {\n",
       "        vertical-align: top;\n",
       "    }\n",
       "\n",
       "    .dataframe thead th {\n",
       "        text-align: right;\n",
       "    }\n",
       "</style>\n",
       "<table border=\"1\" class=\"dataframe\">\n",
       "  <thead>\n",
       "    <tr style=\"text-align: right;\">\n",
       "      <th></th>\n",
       "      <th>ECNumber</th>\n",
       "      <th>Organism</th>\n",
       "      <th>Smiles</th>\n",
       "      <th>Substrate</th>\n",
       "      <th>Sequence</th>\n",
       "      <th>Raw Kd</th>\n",
       "      <th>Unit</th>\n",
       "      <th>Log Kd</th>\n",
       "    </tr>\n",
       "  </thead>\n",
       "  <tbody>\n",
       "    <tr>\n",
       "      <th>0</th>\n",
       "      <td>4.2.3.4</td>\n",
       "      <td>Actinidia chinensis</td>\n",
       "      <td>C(C(C(C(COP(=O)(O)O)O)O)O)C(=O)C(=O)O</td>\n",
       "      <td>3-deoxy-D-arabino-heptulosonic acid 7-phosphate</td>\n",
       "      <td>MAAFSLSAKQILSPSTHRPSLSKTTTADSSLRFRNPHSLSLRCSSL...</td>\n",
       "      <td>20.1000</td>\n",
       "      <td>s^(-1)</td>\n",
       "      <td>1.303196</td>\n",
       "    </tr>\n",
       "    <tr>\n",
       "      <th>1</th>\n",
       "      <td>4.2.3.4</td>\n",
       "      <td>Aspergillus nidulans</td>\n",
       "      <td>C(C(C(C(COP(=O)([O-])[O-])O)O)O)C(=O)C(=O)[O-]</td>\n",
       "      <td>3-deoxy-D-arabino-heptulosonate 7-phosphate</td>\n",
       "      <td>MSNPTKISILGRESIIADFGLWRNYVAKDLISDCSSTTYVLVTDTN...</td>\n",
       "      <td>6.8000</td>\n",
       "      <td>s^(-1)</td>\n",
       "      <td>0.832509</td>\n",
       "    </tr>\n",
       "    <tr>\n",
       "      <th>2</th>\n",
       "      <td>4.2.3.4</td>\n",
       "      <td>Neurospora crassa</td>\n",
       "      <td>C(C(C(C(COP(=O)(O)O)O)O)O)C(=O)C(=O)O</td>\n",
       "      <td>3-deoxy-D-arabino-heptulosonic acid 7-phosphate</td>\n",
       "      <td>MAEPISNPTRINILGKDNIIIDHGIWLNFVAQDLLQNIKSSTYILI...</td>\n",
       "      <td>19.0000</td>\n",
       "      <td>s^(-1)</td>\n",
       "      <td>1.278754</td>\n",
       "    </tr>\n",
       "    <tr>\n",
       "      <th>3</th>\n",
       "      <td>2.1.1.255</td>\n",
       "      <td>Streptomyces coelicolor</td>\n",
       "      <td>C[S+](CCC(C(=O)[O-])N)CC1C(C(C(O1)N2C=NC3=C(N=...</td>\n",
       "      <td>S-Adenosyl-L-methionine</td>\n",
       "      <td>MTTETTTATATAKIPAPATPYQEDIARYWNNEARPVNLRLGDVDGL...</td>\n",
       "      <td>0.0075</td>\n",
       "      <td>s^(-1)</td>\n",
       "      <td>-2.124939</td>\n",
       "    </tr>\n",
       "    <tr>\n",
       "      <th>4</th>\n",
       "      <td>2.1.1.255</td>\n",
       "      <td>Streptomyces coelicolor</td>\n",
       "      <td>CC(=CCCC(=C(C)COP(=O)(O)OP(=O)(O)O)C)C</td>\n",
       "      <td>(E)-2-Methylgeranyl diphosphate</td>\n",
       "      <td>MTTETTTATATAKIPAPATPYQEDIARYWNNEARPVNLRLGDVDGL...</td>\n",
       "      <td>0.0390</td>\n",
       "      <td>s^(-1)</td>\n",
       "      <td>-1.408935</td>\n",
       "    </tr>\n",
       "  </tbody>\n",
       "</table>\n",
       "</div>"
      ],
      "text/plain": [
       "    ECNumber                 Organism  \\\n",
       "0    4.2.3.4      Actinidia chinensis   \n",
       "1    4.2.3.4     Aspergillus nidulans   \n",
       "2    4.2.3.4        Neurospora crassa   \n",
       "3  2.1.1.255  Streptomyces coelicolor   \n",
       "4  2.1.1.255  Streptomyces coelicolor   \n",
       "\n",
       "                                              Smiles  \\\n",
       "0              C(C(C(C(COP(=O)(O)O)O)O)O)C(=O)C(=O)O   \n",
       "1     C(C(C(C(COP(=O)([O-])[O-])O)O)O)C(=O)C(=O)[O-]   \n",
       "2              C(C(C(C(COP(=O)(O)O)O)O)O)C(=O)C(=O)O   \n",
       "3  C[S+](CCC(C(=O)[O-])N)CC1C(C(C(O1)N2C=NC3=C(N=...   \n",
       "4             CC(=CCCC(=C(C)COP(=O)(O)OP(=O)(O)O)C)C   \n",
       "\n",
       "                                         Substrate  \\\n",
       "0  3-deoxy-D-arabino-heptulosonic acid 7-phosphate   \n",
       "1      3-deoxy-D-arabino-heptulosonate 7-phosphate   \n",
       "2  3-deoxy-D-arabino-heptulosonic acid 7-phosphate   \n",
       "3                          S-Adenosyl-L-methionine   \n",
       "4                  (E)-2-Methylgeranyl diphosphate   \n",
       "\n",
       "                                            Sequence   Raw Kd    Unit  \\\n",
       "0  MAAFSLSAKQILSPSTHRPSLSKTTTADSSLRFRNPHSLSLRCSSL...  20.1000  s^(-1)   \n",
       "1  MSNPTKISILGRESIIADFGLWRNYVAKDLISDCSSTTYVLVTDTN...   6.8000  s^(-1)   \n",
       "2  MAEPISNPTRINILGKDNIIIDHGIWLNFVAQDLLQNIKSSTYILI...  19.0000  s^(-1)   \n",
       "3  MTTETTTATATAKIPAPATPYQEDIARYWNNEARPVNLRLGDVDGL...   0.0075  s^(-1)   \n",
       "4  MTTETTTATATAKIPAPATPYQEDIARYWNNEARPVNLRLGDVDGL...   0.0390  s^(-1)   \n",
       "\n",
       "     Log Kd  \n",
       "0  1.303196  \n",
       "1  0.832509  \n",
       "2  1.278754  \n",
       "3 -2.124939  \n",
       "4 -1.408935  "
      ]
     },
     "execution_count": 3,
     "metadata": {},
     "output_type": "execute_result"
    }
   ],
   "source": [
    "data = torch.load('/Users/pinchichen/2025S lab/AI drug project/code/TrainingDataset/Kcat_Enzymatic_reaction.pt',weights_only=False)\n",
    "data.head()"
   ]
  },
  {
   "cell_type": "code",
   "execution_count": 4,
   "metadata": {},
   "outputs": [
    {
     "name": "stderr",
     "output_type": "stream",
     "text": [
      "Some weights of EsmModel were not initialized from the model checkpoint at facebook/esm2_t6_8M_UR50D and are newly initialized: ['pooler.dense.bias', 'pooler.dense.weight']\n",
      "You should probably TRAIN this model on a down-stream task to be able to use it for predictions and inference.\n"
     ]
    }
   ],
   "source": [
    "from transformers import AutoTokenizer, AutoModel\n",
    "import torch\n",
    "\n",
    "# Load ChemRoBERTa tokenizer and model\n",
    "chem_tokenizer = AutoTokenizer.from_pretrained(\"seyonec/ChemBERTa-zinc-base-v1\")\n",
    "chem_model = AutoModel.from_pretrained(\"seyonec/ChemBERTa-zinc-base-v1\")\n",
    "\n",
    "# Load ESM2 tokenizer and model\n",
    "esm_tokenizer = AutoTokenizer.from_pretrained(\"facebook/esm2_t6_8M_UR50D\")\n",
    "esm_model = AutoModel.from_pretrained(\"facebook/esm2_t6_8M_UR50D\")"
   ]
  },
  {
   "cell_type": "code",
   "execution_count": 5,
   "metadata": {},
   "outputs": [],
   "source": [
    "def extract_chem_features(smiles):\n",
    "    \"\"\"Extract ChemRoBERTa features from SMILES.\"\"\"\n",
    "    try:\n",
    "        tokens = chem_tokenizer(smiles, return_tensors=\"pt\", padding=True, truncation=True)\n",
    "        with torch.no_grad():\n",
    "            embeddings = chem_model(**tokens).last_hidden_state.mean(dim=1).squeeze().numpy()\n",
    "        return embeddings\n",
    "    except:\n",
    "        return np.zeros(768)  # Return zero vector if extraction fails\n",
    "\n",
    "def extract_esm_features(sequence):\n",
    "    \"\"\"Extract ESM2 features from protein sequence.\"\"\"\n",
    "    try:\n",
    "        tokens = esm_tokenizer(sequence, return_tensors=\"pt\", padding=True, truncation=True)\n",
    "        with torch.no_grad():\n",
    "            embeddings = esm_model(**tokens).last_hidden_state.mean(dim=1).squeeze().numpy()\n",
    "        return embeddings\n",
    "    except:\n",
    "        return np.zeros(768)  # Return zero vector if extraction fails"
   ]
  },
  {
   "cell_type": "code",
   "execution_count": 6,
   "metadata": {},
   "outputs": [],
   "source": [
    "# Extract unique mols and proteins\n",
    "unique_mols = data[['Smiles']].drop_duplicates()\n",
    "unique_proteins = data[['Sequence']].drop_duplicates()"
   ]
  },
  {
   "cell_type": "code",
   "execution_count": 7,
   "metadata": {},
   "outputs": [
    {
     "data": {
      "text/plain": [
       "(2706, 7857)"
      ]
     },
     "execution_count": 7,
     "metadata": {},
     "output_type": "execute_result"
    }
   ],
   "source": [
    "len(unique_mols), len(unique_proteins)"
   ]
  },
  {
   "cell_type": "code",
   "execution_count": 8,
   "metadata": {},
   "outputs": [
    {
     "name": "stderr",
     "output_type": "stream",
     "text": [
      "100%|██████████| 2706/2706 [01:04<00:00, 41.96it/s]\n"
     ]
    }
   ],
   "source": [
    "# Extract features for unique mols\n",
    "tqdm.pandas()  # Enable progress bar for pandas\n",
    "unique_mols['metabolite_features'] = unique_mols['Smiles'].progress_apply(extract_chem_features)"
   ]
  },
  {
   "cell_type": "code",
   "execution_count": 9,
   "metadata": {},
   "outputs": [
    {
     "name": "stderr",
     "output_type": "stream",
     "text": [
      "  0%|          | 0/7857 [00:00<?, ?it/s]Asking to truncate to max_length but no maximum length is provided and the model has no predefined maximum length. Default to no truncation.\n",
      "100%|██████████| 7857/7857 [09:38<00:00, 13.59it/s]  \n"
     ]
    }
   ],
   "source": [
    "# Extract features for unique proteins\n",
    "unique_proteins['protein_features'] = unique_proteins['Sequence'].progress_apply(extract_esm_features)"
   ]
  },
  {
   "cell_type": "code",
   "execution_count": 10,
   "metadata": {},
   "outputs": [],
   "source": [
    "# Merge features back into the combined dataframe\n",
    "data = data.merge(unique_mols, on='Smiles', how='left')\n",
    "data = data.merge(unique_proteins, on='Sequence', how='left')"
   ]
  },
  {
   "cell_type": "code",
   "execution_count": 11,
   "metadata": {},
   "outputs": [
    {
     "name": "stdout",
     "output_type": "stream",
     "text": [
      "Index(['ECNumber', 'Organism', 'Smiles', 'Substrate', 'Sequence', 'Raw Kd',\n",
      "       'Unit', 'Log Kd', 'metabolite_features', 'protein_features'],\n",
      "      dtype='object')\n"
     ]
    }
   ],
   "source": [
    "print(data.columns)"
   ]
  },
  {
   "cell_type": "code",
   "execution_count": 12,
   "metadata": {},
   "outputs": [],
   "source": [
    "# adding 1e-9 to prevent error when doing logarithm\n",
    "# ??????\n",
    "data['label'] = -np.log10(data['Raw Kd'] + 1e-9)"
   ]
  },
  {
   "cell_type": "code",
   "execution_count": 13,
   "metadata": {},
   "outputs": [],
   "source": [
    "# Define dataset\n",
    "class MPI_Dataset(Dataset):\n",
    "    def __init__(self, dataframe):\n",
    "        self.dataframe = dataframe\n",
    "\n",
    "    def __len__(self):\n",
    "        return len(self.dataframe)\n",
    "\n",
    "    def __getitem__(self, idx):\n",
    "        row = self.dataframe.iloc[idx]\n",
    "        return {\n",
    "            'metabolite_features': torch.tensor(np.asarray(row['metabolite_features'], dtype=np.float32)),\n",
    "            'protein_features': torch.tensor(np.asarray(row['protein_features'], dtype=np.float32)),\n",
    "            'label': torch.tensor(float(row['label']), dtype=torch.float32),\n",
    "        }"
   ]
  },
  {
   "cell_type": "code",
   "execution_count": 14,
   "metadata": {},
   "outputs": [],
   "source": [
    "# Separate the dataset by unique proteins and drugs\n",
    "unique_proteins = data['Sequence'].unique()\n",
    "unique_mols = data['Smiles'].unique()\n",
    "# Set the seed for reproducibility\n",
    "torch.manual_seed(42)\n",
    "# Function to perform a cold split\n",
    "def cold_split(unique_items, test_size=0.2, val_size=0.1):\n",
    "    train_items, test_items = train_test_split(unique_items, test_size=test_size, random_state=42)\n",
    "    train_items, val_items = train_test_split(train_items, test_size=val_size / (1 - test_size), random_state=42)\n",
    "    return train_items, val_items, test_items\n",
    "# Cold split by proteins\n",
    "train_proteins, val_proteins, test_proteins = cold_split(unique_proteins)\n",
    "train_cold_protein = data[data['Sequence'].isin(train_proteins)]\n",
    "val_cold_protein = data[data['Sequence'].isin(val_proteins)]\n",
    "test_cold_protein = data[data['Sequence'].isin(test_proteins)]\n",
    "# Cold split by molecules\n",
    "train_mols, val_mols, test_mols = cold_split(unique_mols)\n",
    "train_cold_mols = data[data['Smiles'].isin(train_mols)]\n",
    "val_cold_mols = data[data['Smiles'].isin(val_mols)]\n",
    "test_cold_mols = data[data['Smiles'].isin(test_mols)]"
   ]
  },
  {
   "cell_type": "code",
   "execution_count": 15,
   "metadata": {},
   "outputs": [],
   "source": [
    "# cold protein\n",
    "train_dataset = MPI_Dataset(train_cold_protein)\n",
    "val_dataset = MPI_Dataset(val_cold_protein)\n",
    "test_dataset = MPI_Dataset(test_cold_protein)\n",
    "\n",
    "train_loader = DataLoader(train_dataset, batch_size=32, shuffle=True)\n",
    "val_loader = DataLoader(val_dataset, batch_size=32)\n",
    "test_loader = DataLoader(test_dataset, batch_size=32)\n",
    "\n",
    "# cold mols\n",
    "train_dataset_mols = MPI_Dataset(train_cold_mols)\n",
    "val_dataset_mols = MPI_Dataset(val_cold_mols)\n",
    "test_dataset_mols = MPI_Dataset(test_cold_mols)\n",
    "\n",
    "train_loader_mols = DataLoader(train_dataset_mols, batch_size=32, shuffle=True)\n",
    "val_loader_mols = DataLoader(val_dataset_mols, batch_size=32)\n",
    "test_loader_mols = DataLoader(test_dataset_mols, batch_size=32)"
   ]
  },
  {
   "cell_type": "code",
   "execution_count": 16,
   "metadata": {},
   "outputs": [],
   "source": [
    "import torch.nn as nn\n",
    "import torch\n",
    "\n",
    "# Define Diffusion Generative Model for Regression\n",
    "class DiffusionGenerativeModel(nn.Module):\n",
    "    def __init__(self, mol_input_dim, protein_input_dim, hidden_dim, num_timesteps):\n",
    "        super(DiffusionGenerativeModel, self).__init__()\n",
    "        self.num_timesteps = num_timesteps\n",
    "        self.mol_encoder = nn.Linear(mol_input_dim, hidden_dim)\n",
    "        self.protein_encoder = nn.Linear(protein_input_dim, hidden_dim)\n",
    "        self.layer_norm = nn.LayerNorm(hidden_dim * 2)\n",
    "        self.dropout = nn.Dropout(0.3)\n",
    "        self.denoise_model = nn.Linear(hidden_dim * 2, hidden_dim)\n",
    "        self.regressor = nn.Linear(hidden_dim, 1)  # Regression layer\n",
    "        self.activation = nn.ReLU()\n",
    "\n",
    "        # Embedding for timesteps\n",
    "        self.timestep_embedding = nn.Embedding(num_timesteps, hidden_dim * 2)\n",
    "\n",
    "    def forward(self, mol_features, protein_features, t):\n",
    "        # Encode mol and protein features\n",
    "        mol_embedding = self.activation(self.mol_encoder(mol_features))\n",
    "        protein_embedding = self.activation(self.protein_encoder(protein_features))\n",
    "\n",
    "        # Concatenate embeddings\n",
    "        combined = torch.cat((mol_embedding, protein_embedding), dim=-1)\n",
    "        combined = self.layer_norm(combined)\n",
    "        combined = self.dropout(combined)\n",
    "\n",
    "        # Add learnable timestep embedding\n",
    "        t_embedding = self.timestep_embedding(t.long())\n",
    "        combined += t_embedding\n",
    "\n",
    "        # Denoise process\n",
    "        denoised = self.activation(self.denoise_model(combined))\n",
    "\n",
    "        # Regression layer\n",
    "        output = self.regressor(denoised)  # Predict continuous values\n",
    "        return output\n",
    "\n",
    "    def add_noise(self, x, noise_level=0.1):\n",
    "        noise = noise_level * torch.randn_like(x)\n",
    "        return x + noise\n"
   ]
  },
  {
   "cell_type": "code",
   "execution_count": 17,
   "metadata": {},
   "outputs": [],
   "source": [
    "# Check CUDA availability\n",
    "device = torch.device(\"cuda\" if torch.cuda.is_available() else \"cpu\")"
   ]
  },
  {
   "cell_type": "code",
   "execution_count": null,
   "metadata": {},
   "outputs": [
    {
     "name": "stderr",
     "output_type": "stream",
     "text": [
      "Training Epoch 1: 100%|██████████| 378/378 [00:02<00:00, 174.79it/s]\n",
      "/var/folders/yz/c1z6m9_d5d3f80sywjc3rqsc0000gn/T/ipykernel_77592/374893312.py:97: FutureWarning: The behavior of DataFrame concatenation with empty or all-NA entries is deprecated. In a future version, this will no longer exclude empty or all-NA columns when determining the result dtypes. To retain the old behavior, exclude the relevant entries before the concat operation.\n",
      "  train_history = pd.concat([train_history, pd.DataFrame([new_row])], ignore_index=True)\n"
     ]
    },
    {
     "name": "stdout",
     "output_type": "stream",
     "text": [
      "Epoch 0 - Train Loss: 2.0845, Train MSE: 2.0855, Train MAE: 1.1237\n",
      "Epoch 0 - Validation Loss: 2.1508, Validation MSE: 2.1514, Validation MAE: 1.1271\n"
     ]
    },
    {
     "name": "stderr",
     "output_type": "stream",
     "text": [
      "Training Epoch 2: 100%|██████████| 378/378 [00:02<00:00, 185.89it/s]\n",
      "Training Epoch 3: 100%|██████████| 378/378 [00:02<00:00, 179.67it/s]\n",
      "Training Epoch 4: 100%|██████████| 378/378 [00:02<00:00, 184.05it/s]\n",
      "Training Epoch 5: 100%|██████████| 378/378 [00:02<00:00, 179.28it/s]\n",
      "Training Epoch 6: 100%|██████████| 378/378 [00:02<00:00, 184.56it/s]\n",
      "Training Epoch 7: 100%|██████████| 378/378 [00:02<00:00, 179.90it/s]\n",
      "Training Epoch 8: 100%|██████████| 378/378 [00:02<00:00, 184.55it/s]\n",
      "Training Epoch 9: 100%|██████████| 378/378 [00:02<00:00, 182.10it/s]\n",
      "Training Epoch 10: 100%|██████████| 378/378 [00:02<00:00, 184.72it/s]\n",
      "Training Epoch 11: 100%|██████████| 378/378 [00:02<00:00, 180.59it/s]\n"
     ]
    },
    {
     "name": "stdout",
     "output_type": "stream",
     "text": [
      "Epoch 10 - Train Loss: 1.6035, Train MSE: 1.6040, Train MAE: 0.9765\n",
      "Epoch 10 - Validation Loss: 1.8517, Validation MSE: 1.8542, Validation MAE: 1.0208\n"
     ]
    },
    {
     "name": "stderr",
     "output_type": "stream",
     "text": [
      "Training Epoch 12: 100%|██████████| 378/378 [00:02<00:00, 182.06it/s]\n",
      "Training Epoch 13: 100%|██████████| 378/378 [00:02<00:00, 183.36it/s]\n",
      "Training Epoch 14: 100%|██████████| 378/378 [00:02<00:00, 186.28it/s]\n",
      "Training Epoch 15: 100%|██████████| 378/378 [00:02<00:00, 185.00it/s]\n",
      "Training Epoch 16: 100%|██████████| 378/378 [00:02<00:00, 177.11it/s]\n",
      "Training Epoch 17: 100%|██████████| 378/378 [00:02<00:00, 183.44it/s]\n",
      "Training Epoch 18: 100%|██████████| 378/378 [00:02<00:00, 181.89it/s]\n",
      "Training Epoch 19: 100%|██████████| 378/378 [00:02<00:00, 186.63it/s]\n",
      "Training Epoch 20: 100%|██████████| 378/378 [00:02<00:00, 182.01it/s]\n",
      "Training Epoch 21: 100%|██████████| 378/378 [00:02<00:00, 184.37it/s]\n"
     ]
    },
    {
     "name": "stdout",
     "output_type": "stream",
     "text": [
      "Epoch 20 - Train Loss: 1.3996, Train MSE: 1.4003, Train MAE: 0.9084\n",
      "Epoch 20 - Validation Loss: 1.7370, Validation MSE: 1.7387, Validation MAE: 0.9999\n"
     ]
    },
    {
     "name": "stderr",
     "output_type": "stream",
     "text": [
      "Training Epoch 22: 100%|██████████| 378/378 [00:02<00:00, 180.58it/s]\n",
      "Training Epoch 23: 100%|██████████| 378/378 [00:02<00:00, 179.64it/s]\n",
      "Training Epoch 24: 100%|██████████| 378/378 [00:02<00:00, 182.77it/s]\n",
      "Training Epoch 25: 100%|██████████| 378/378 [00:02<00:00, 188.54it/s]\n",
      "Training Epoch 26: 100%|██████████| 378/378 [00:02<00:00, 179.62it/s]\n",
      "Training Epoch 27: 100%|██████████| 378/378 [00:02<00:00, 181.31it/s]\n",
      "Training Epoch 28: 100%|██████████| 378/378 [00:02<00:00, 179.44it/s]\n",
      "Training Epoch 29: 100%|██████████| 378/378 [00:02<00:00, 183.26it/s]\n",
      "Training Epoch 30: 100%|██████████| 378/378 [00:02<00:00, 180.71it/s]\n",
      "Training Epoch 31: 100%|██████████| 378/378 [00:02<00:00, 188.64it/s]\n"
     ]
    },
    {
     "name": "stdout",
     "output_type": "stream",
     "text": [
      "Epoch 30 - Train Loss: 1.3033, Train MSE: 1.3038, Train MAE: 0.8715\n",
      "Epoch 30 - Validation Loss: 1.7119, Validation MSE: 1.7134, Validation MAE: 0.9938\n"
     ]
    },
    {
     "name": "stderr",
     "output_type": "stream",
     "text": [
      "Training Epoch 32: 100%|██████████| 378/378 [00:02<00:00, 181.12it/s]\n",
      "Training Epoch 33: 100%|██████████| 378/378 [00:02<00:00, 183.99it/s]\n",
      "Training Epoch 34: 100%|██████████| 378/378 [00:02<00:00, 181.78it/s]\n",
      "Training Epoch 35: 100%|██████████| 378/378 [00:02<00:00, 182.87it/s]\n",
      "Training Epoch 36: 100%|██████████| 378/378 [00:02<00:00, 182.82it/s]\n",
      "Training Epoch 37: 100%|██████████| 378/378 [00:02<00:00, 187.76it/s]\n",
      "Training Epoch 38: 100%|██████████| 378/378 [00:02<00:00, 180.87it/s]\n",
      "Training Epoch 39: 100%|██████████| 378/378 [00:02<00:00, 181.21it/s]\n",
      "Training Epoch 40: 100%|██████████| 378/378 [00:02<00:00, 185.94it/s]\n",
      "Training Epoch 41: 100%|██████████| 378/378 [00:02<00:00, 182.81it/s]\n"
     ]
    },
    {
     "name": "stdout",
     "output_type": "stream",
     "text": [
      "Epoch 40 - Train Loss: 1.2032, Train MSE: 1.2035, Train MAE: 0.8392\n",
      "Epoch 40 - Validation Loss: 1.6705, Validation MSE: 1.6733, Validation MAE: 0.9607\n"
     ]
    },
    {
     "name": "stderr",
     "output_type": "stream",
     "text": [
      "Training Epoch 42: 100%|██████████| 378/378 [00:02<00:00, 186.20it/s]\n",
      "Training Epoch 43: 100%|██████████| 378/378 [00:02<00:00, 184.37it/s]\n",
      "Training Epoch 44: 100%|██████████| 378/378 [00:02<00:00, 183.24it/s]\n",
      "Training Epoch 45: 100%|██████████| 378/378 [00:02<00:00, 177.74it/s]\n",
      "Training Epoch 46: 100%|██████████| 378/378 [00:02<00:00, 183.09it/s]\n",
      "Training Epoch 47: 100%|██████████| 378/378 [00:02<00:00, 181.65it/s]\n",
      "Training Epoch 48: 100%|██████████| 378/378 [00:02<00:00, 187.51it/s]\n",
      "Training Epoch 49: 100%|██████████| 378/378 [00:02<00:00, 180.71it/s]\n",
      "Training Epoch 50: 100%|██████████| 378/378 [00:02<00:00, 185.91it/s]\n",
      "Training Epoch 51: 100%|██████████| 378/378 [00:02<00:00, 181.19it/s]\n"
     ]
    },
    {
     "name": "stdout",
     "output_type": "stream",
     "text": [
      "Epoch 50 - Train Loss: 1.1321, Train MSE: 1.1324, Train MAE: 0.8076\n",
      "Epoch 50 - Validation Loss: 1.6546, Validation MSE: 1.6576, Validation MAE: 0.9727\n"
     ]
    },
    {
     "name": "stderr",
     "output_type": "stream",
     "text": [
      "Training Epoch 52: 100%|██████████| 378/378 [00:02<00:00, 182.56it/s]\n",
      "Training Epoch 53: 100%|██████████| 378/378 [00:02<00:00, 180.77it/s]\n",
      "Training Epoch 54: 100%|██████████| 378/378 [00:02<00:00, 188.24it/s]\n",
      "Training Epoch 55: 100%|██████████| 378/378 [00:02<00:00, 181.27it/s]\n",
      "Training Epoch 56: 100%|██████████| 378/378 [00:02<00:00, 184.96it/s]\n",
      "Training Epoch 57: 100%|██████████| 378/378 [00:02<00:00, 181.41it/s]\n",
      "Training Epoch 58: 100%|██████████| 378/378 [00:02<00:00, 185.01it/s]\n",
      "Training Epoch 59: 100%|██████████| 378/378 [00:02<00:00, 182.14it/s]\n",
      "Training Epoch 60: 100%|██████████| 378/378 [00:02<00:00, 186.00it/s]\n",
      "Training Epoch 61: 100%|██████████| 378/378 [00:02<00:00, 182.98it/s]\n"
     ]
    },
    {
     "name": "stdout",
     "output_type": "stream",
     "text": [
      "Epoch 60 - Train Loss: 1.0888, Train MSE: 1.0884, Train MAE: 0.7906\n",
      "Epoch 60 - Validation Loss: 1.6213, Validation MSE: 1.6241, Validation MAE: 0.9507\n"
     ]
    },
    {
     "name": "stderr",
     "output_type": "stream",
     "text": [
      "Training Epoch 62: 100%|██████████| 378/378 [00:02<00:00, 186.92it/s]\n",
      "Training Epoch 63: 100%|██████████| 378/378 [00:02<00:00, 181.50it/s]\n",
      "Training Epoch 64: 100%|██████████| 378/378 [00:02<00:00, 185.75it/s]\n",
      "Training Epoch 65: 100%|██████████| 378/378 [00:02<00:00, 183.47it/s]\n",
      "Training Epoch 66: 100%|██████████| 378/378 [00:02<00:00, 188.29it/s]\n",
      "Training Epoch 67: 100%|██████████| 378/378 [00:02<00:00, 177.49it/s]\n",
      "Training Epoch 68: 100%|██████████| 378/378 [00:02<00:00, 185.62it/s]\n",
      "Training Epoch 69: 100%|██████████| 378/378 [00:02<00:00, 180.84it/s]\n",
      "Training Epoch 70: 100%|██████████| 378/378 [00:02<00:00, 184.87it/s]\n",
      "Training Epoch 71: 100%|██████████| 378/378 [00:02<00:00, 179.48it/s]\n"
     ]
    },
    {
     "name": "stdout",
     "output_type": "stream",
     "text": [
      "Epoch 70 - Train Loss: 1.0363, Train MSE: 1.0363, Train MAE: 0.7715\n",
      "Epoch 70 - Validation Loss: 1.6615, Validation MSE: 1.6639, Validation MAE: 0.9594\n"
     ]
    },
    {
     "name": "stderr",
     "output_type": "stream",
     "text": [
      "Training Epoch 72: 100%|██████████| 378/378 [00:02<00:00, 186.89it/s]\n",
      "Training Epoch 73: 100%|██████████| 378/378 [00:02<00:00, 184.88it/s]\n",
      "Training Epoch 74: 100%|██████████| 378/378 [00:02<00:00, 179.38it/s]\n",
      "Training Epoch 75: 100%|██████████| 378/378 [00:02<00:00, 184.35it/s]\n",
      "Training Epoch 76: 100%|██████████| 378/378 [00:02<00:00, 180.92it/s]\n",
      "Training Epoch 77: 100%|██████████| 378/378 [00:01<00:00, 189.46it/s]\n",
      "Training Epoch 78: 100%|██████████| 378/378 [00:02<00:00, 180.68it/s]\n",
      "Training Epoch 79: 100%|██████████| 378/378 [00:02<00:00, 184.45it/s]\n",
      "Training Epoch 80: 100%|██████████| 378/378 [00:02<00:00, 180.69it/s]\n",
      "Training Epoch 81: 100%|██████████| 378/378 [00:02<00:00, 185.12it/s]\n"
     ]
    },
    {
     "name": "stdout",
     "output_type": "stream",
     "text": [
      "Epoch 80 - Train Loss: 0.9937, Train MSE: 0.9939, Train MAE: 0.7535\n",
      "Epoch 80 - Validation Loss: 1.6546, Validation MSE: 1.6581, Validation MAE: 0.9610\n"
     ]
    },
    {
     "name": "stderr",
     "output_type": "stream",
     "text": [
      "Training Epoch 82: 100%|██████████| 378/378 [00:02<00:00, 182.01it/s]\n",
      "Training Epoch 83: 100%|██████████| 378/378 [00:01<00:00, 190.65it/s]\n",
      "Training Epoch 84: 100%|██████████| 378/378 [00:02<00:00, 185.17it/s]\n",
      "Training Epoch 85: 100%|██████████| 378/378 [00:01<00:00, 192.93it/s]\n",
      "Training Epoch 86: 100%|██████████| 378/378 [00:02<00:00, 186.00it/s]\n",
      "Training Epoch 87: 100%|██████████| 378/378 [00:01<00:00, 190.49it/s]\n",
      "Training Epoch 88: 100%|██████████| 378/378 [00:02<00:00, 187.74it/s]\n",
      "Training Epoch 89: 100%|██████████| 378/378 [00:01<00:00, 189.63it/s]\n",
      "Training Epoch 90: 100%|██████████| 378/378 [00:02<00:00, 186.87it/s]\n",
      "Training Epoch 91: 100%|██████████| 378/378 [00:01<00:00, 190.13it/s]\n"
     ]
    },
    {
     "name": "stdout",
     "output_type": "stream",
     "text": [
      "Epoch 90 - Train Loss: 0.9698, Train MSE: 0.9699, Train MAE: 0.7425\n",
      "Epoch 90 - Validation Loss: 1.6051, Validation MSE: 1.6078, Validation MAE: 0.9423\n"
     ]
    },
    {
     "name": "stderr",
     "output_type": "stream",
     "text": [
      "Training Epoch 92: 100%|██████████| 378/378 [00:02<00:00, 185.90it/s]\n",
      "Training Epoch 93: 100%|██████████| 378/378 [00:01<00:00, 191.54it/s]\n",
      "Training Epoch 94: 100%|██████████| 378/378 [00:02<00:00, 188.20it/s]\n",
      "Training Epoch 95: 100%|██████████| 378/378 [00:01<00:00, 193.58it/s]\n",
      "Training Epoch 96: 100%|██████████| 378/378 [00:02<00:00, 186.69it/s]\n",
      "Training Epoch 97: 100%|██████████| 378/378 [00:02<00:00, 186.48it/s]\n",
      "Training Epoch 98: 100%|██████████| 378/378 [00:02<00:00, 187.44it/s]\n",
      "Training Epoch 99: 100%|██████████| 378/378 [00:01<00:00, 189.25it/s]\n",
      "Training Epoch 100: 100%|██████████| 378/378 [00:02<00:00, 186.39it/s]\n",
      "Training Epoch 101: 100%|██████████| 378/378 [00:01<00:00, 194.56it/s]\n"
     ]
    },
    {
     "name": "stdout",
     "output_type": "stream",
     "text": [
      "Epoch 100 - Train Loss: 0.9386, Train MSE: 0.9390, Train MAE: 0.7250\n",
      "Epoch 100 - Validation Loss: 1.6427, Validation MSE: 1.6460, Validation MAE: 0.9467\n"
     ]
    },
    {
     "name": "stderr",
     "output_type": "stream",
     "text": [
      "Training Epoch 102: 100%|██████████| 378/378 [00:02<00:00, 187.60it/s]\n",
      "Training Epoch 103: 100%|██████████| 378/378 [00:01<00:00, 192.31it/s]\n",
      "Training Epoch 104: 100%|██████████| 378/378 [00:02<00:00, 183.82it/s]\n",
      "Training Epoch 105: 100%|██████████| 378/378 [00:01<00:00, 190.02it/s]\n",
      "Training Epoch 106: 100%|██████████| 378/378 [00:02<00:00, 188.52it/s]\n",
      "Training Epoch 107: 100%|██████████| 378/378 [00:01<00:00, 195.15it/s]\n",
      "Training Epoch 108: 100%|██████████| 378/378 [00:02<00:00, 186.35it/s]\n",
      "Training Epoch 109: 100%|██████████| 378/378 [00:01<00:00, 189.33it/s]\n",
      "Training Epoch 110: 100%|██████████| 378/378 [00:02<00:00, 185.20it/s]\n",
      "Training Epoch 111: 100%|██████████| 378/378 [00:02<00:00, 186.51it/s]\n"
     ]
    },
    {
     "name": "stdout",
     "output_type": "stream",
     "text": [
      "Epoch 110 - Train Loss: 0.9150, Train MSE: 0.9150, Train MAE: 0.7182\n",
      "Epoch 110 - Validation Loss: 1.5875, Validation MSE: 1.5904, Validation MAE: 0.9323\n"
     ]
    },
    {
     "name": "stderr",
     "output_type": "stream",
     "text": [
      "Training Epoch 112: 100%|██████████| 378/378 [00:02<00:00, 183.12it/s]\n",
      "Training Epoch 113: 100%|██████████| 378/378 [00:01<00:00, 194.50it/s]\n",
      "Training Epoch 114: 100%|██████████| 378/378 [00:02<00:00, 186.15it/s]\n",
      "Training Epoch 115: 100%|██████████| 378/378 [00:01<00:00, 191.03it/s]\n",
      "Training Epoch 116: 100%|██████████| 378/378 [00:02<00:00, 185.64it/s]\n",
      "Training Epoch 117: 100%|██████████| 378/378 [00:01<00:00, 189.49it/s]\n",
      "Training Epoch 118: 100%|██████████| 378/378 [00:02<00:00, 187.42it/s]\n",
      "Training Epoch 119: 100%|██████████| 378/378 [00:01<00:00, 195.19it/s]\n",
      "Training Epoch 120: 100%|██████████| 378/378 [00:02<00:00, 184.67it/s]\n",
      "Training Epoch 121: 100%|██████████| 378/378 [00:01<00:00, 189.18it/s]\n"
     ]
    },
    {
     "name": "stdout",
     "output_type": "stream",
     "text": [
      "Epoch 120 - Train Loss: 0.8871, Train MSE: 0.8873, Train MAE: 0.7061\n",
      "Epoch 120 - Validation Loss: 1.5929, Validation MSE: 1.5965, Validation MAE: 0.9265\n"
     ]
    },
    {
     "name": "stderr",
     "output_type": "stream",
     "text": [
      "Training Epoch 122: 100%|██████████| 378/378 [00:02<00:00, 187.29it/s]\n",
      "Training Epoch 123: 100%|██████████| 378/378 [00:01<00:00, 191.00it/s]\n",
      "Training Epoch 124: 100%|██████████| 378/378 [00:02<00:00, 186.69it/s]\n",
      "Training Epoch 125: 100%|██████████| 378/378 [00:01<00:00, 193.46it/s]\n",
      "Training Epoch 126: 100%|██████████| 378/378 [00:02<00:00, 186.07it/s]\n",
      "Training Epoch 127: 100%|██████████| 378/378 [00:02<00:00, 188.04it/s]\n",
      "Training Epoch 128: 100%|██████████| 378/378 [00:02<00:00, 186.65it/s]\n",
      "Training Epoch 129: 100%|██████████| 378/378 [00:01<00:00, 189.40it/s]\n",
      "Training Epoch 130: 100%|██████████| 378/378 [00:02<00:00, 187.50it/s]\n",
      "Training Epoch 131: 100%|██████████| 378/378 [00:01<00:00, 193.20it/s]\n"
     ]
    },
    {
     "name": "stdout",
     "output_type": "stream",
     "text": [
      "Epoch 130 - Train Loss: 0.8738, Train MSE: 0.8737, Train MAE: 0.6982\n",
      "Epoch 130 - Validation Loss: 1.5885, Validation MSE: 1.5912, Validation MAE: 0.9208\n"
     ]
    },
    {
     "name": "stderr",
     "output_type": "stream",
     "text": [
      "Training Epoch 132: 100%|██████████| 378/378 [00:02<00:00, 187.96it/s]\n",
      "Training Epoch 133: 100%|██████████| 378/378 [00:01<00:00, 190.78it/s]\n",
      "Training Epoch 134: 100%|██████████| 378/378 [00:02<00:00, 186.30it/s]\n",
      "Training Epoch 135: 100%|██████████| 378/378 [00:02<00:00, 186.69it/s]\n",
      "Training Epoch 136: 100%|██████████| 378/378 [00:02<00:00, 185.29it/s]\n",
      "Training Epoch 137: 100%|██████████| 378/378 [00:01<00:00, 191.85it/s]\n",
      "Training Epoch 138: 100%|██████████| 378/378 [00:02<00:00, 186.88it/s]\n",
      "Training Epoch 139: 100%|██████████| 378/378 [00:02<00:00, 187.12it/s]\n",
      "Training Epoch 140: 100%|██████████| 378/378 [00:02<00:00, 187.83it/s]\n",
      "Training Epoch 141: 100%|██████████| 378/378 [00:01<00:00, 189.64it/s]\n"
     ]
    },
    {
     "name": "stdout",
     "output_type": "stream",
     "text": [
      "Epoch 140 - Train Loss: 0.8595, Train MSE: 0.8599, Train MAE: 0.6919\n",
      "Epoch 140 - Validation Loss: 1.5719, Validation MSE: 1.5739, Validation MAE: 0.9249\n"
     ]
    },
    {
     "name": "stderr",
     "output_type": "stream",
     "text": [
      "Training Epoch 142: 100%|██████████| 378/378 [00:02<00:00, 181.84it/s]\n",
      "Training Epoch 143: 100%|██████████| 378/378 [00:01<00:00, 193.52it/s]\n",
      "Training Epoch 144: 100%|██████████| 378/378 [00:02<00:00, 187.20it/s]\n",
      "Training Epoch 145: 100%|██████████| 378/378 [00:01<00:00, 190.88it/s]\n",
      "Training Epoch 146: 100%|██████████| 378/378 [00:02<00:00, 185.77it/s]\n",
      "Training Epoch 147: 100%|██████████| 378/378 [00:01<00:00, 191.46it/s]\n",
      "Training Epoch 148: 100%|██████████| 378/378 [00:02<00:00, 187.48it/s]\n",
      "Training Epoch 149: 100%|██████████| 378/378 [00:02<00:00, 187.84it/s]\n",
      "Training Epoch 150: 100%|██████████| 378/378 [00:02<00:00, 187.99it/s]\n",
      "Training Epoch 151: 100%|██████████| 378/378 [00:01<00:00, 189.75it/s]\n"
     ]
    },
    {
     "name": "stdout",
     "output_type": "stream",
     "text": [
      "Epoch 150 - Train Loss: 0.8453, Train MSE: 0.8457, Train MAE: 0.6849\n",
      "Epoch 150 - Validation Loss: 1.5826, Validation MSE: 1.5845, Validation MAE: 0.9238\n"
     ]
    },
    {
     "name": "stderr",
     "output_type": "stream",
     "text": [
      "Training Epoch 152: 100%|██████████| 378/378 [00:01<00:00, 191.58it/s]\n",
      "Training Epoch 153: 100%|██████████| 378/378 [00:02<00:00, 187.22it/s]\n",
      "Training Epoch 154: 100%|██████████| 378/378 [00:01<00:00, 190.41it/s]\n",
      "Training Epoch 155: 100%|██████████| 378/378 [00:01<00:00, 193.04it/s]\n",
      "Training Epoch 156: 100%|██████████| 378/378 [00:01<00:00, 191.06it/s]\n",
      "Training Epoch 157: 100%|██████████| 378/378 [00:02<00:00, 187.21it/s]\n",
      "Training Epoch 158: 100%|██████████| 378/378 [00:01<00:00, 191.94it/s]\n",
      "Training Epoch 159: 100%|██████████| 378/378 [00:01<00:00, 193.89it/s]\n",
      "Training Epoch 160: 100%|██████████| 378/378 [00:01<00:00, 189.02it/s]\n",
      "Training Epoch 161: 100%|██████████| 378/378 [00:01<00:00, 196.38it/s]\n"
     ]
    },
    {
     "name": "stdout",
     "output_type": "stream",
     "text": [
      "Epoch 160 - Train Loss: 0.8265, Train MSE: 0.8266, Train MAE: 0.6758\n",
      "Epoch 160 - Validation Loss: 1.6070, Validation MSE: 1.6091, Validation MAE: 0.9353\n"
     ]
    },
    {
     "name": "stderr",
     "output_type": "stream",
     "text": [
      "Training Epoch 162: 100%|██████████| 378/378 [00:02<00:00, 187.81it/s]\n",
      "Training Epoch 163: 100%|██████████| 378/378 [00:01<00:00, 192.85it/s]\n",
      "Training Epoch 164: 100%|██████████| 378/378 [00:01<00:00, 189.64it/s]\n",
      "Training Epoch 165: 100%|██████████| 378/378 [00:01<00:00, 191.92it/s]\n",
      "Training Epoch 166: 100%|██████████| 378/378 [00:01<00:00, 193.17it/s]\n",
      "Training Epoch 167: 100%|██████████| 378/378 [00:01<00:00, 204.32it/s]\n",
      "Training Epoch 168: 100%|██████████| 378/378 [00:01<00:00, 192.58it/s]\n",
      "Training Epoch 169: 100%|██████████| 378/378 [00:01<00:00, 197.56it/s]\n",
      "Training Epoch 170: 100%|██████████| 378/378 [00:01<00:00, 195.75it/s]\n",
      "Training Epoch 171: 100%|██████████| 378/378 [00:01<00:00, 200.97it/s]\n"
     ]
    },
    {
     "name": "stdout",
     "output_type": "stream",
     "text": [
      "Epoch 170 - Train Loss: 0.8007, Train MSE: 0.8009, Train MAE: 0.6710\n",
      "Epoch 170 - Validation Loss: 1.6060, Validation MSE: 1.6080, Validation MAE: 0.9261\n"
     ]
    },
    {
     "name": "stderr",
     "output_type": "stream",
     "text": [
      "Training Epoch 172: 100%|██████████| 378/378 [00:01<00:00, 195.03it/s]\n",
      "Training Epoch 173: 100%|██████████| 378/378 [00:01<00:00, 198.53it/s]\n",
      "Training Epoch 174: 100%|██████████| 378/378 [00:01<00:00, 195.40it/s]\n",
      "Training Epoch 175: 100%|██████████| 378/378 [00:01<00:00, 197.80it/s]\n",
      "Training Epoch 176: 100%|██████████| 378/378 [00:01<00:00, 192.36it/s]\n",
      "Training Epoch 177: 100%|██████████| 378/378 [00:01<00:00, 198.75it/s]\n",
      "Training Epoch 178: 100%|██████████| 378/378 [00:01<00:00, 195.86it/s]\n",
      "Training Epoch 179: 100%|██████████| 378/378 [00:01<00:00, 198.54it/s]\n",
      "Training Epoch 180: 100%|██████████| 378/378 [00:01<00:00, 199.39it/s]\n",
      "Training Epoch 181: 100%|██████████| 378/378 [00:01<00:00, 195.53it/s]\n"
     ]
    },
    {
     "name": "stdout",
     "output_type": "stream",
     "text": [
      "Epoch 180 - Train Loss: 0.7934, Train MSE: 0.7936, Train MAE: 0.6611\n",
      "Epoch 180 - Validation Loss: 1.5587, Validation MSE: 1.5618, Validation MAE: 0.9114\n"
     ]
    },
    {
     "name": "stderr",
     "output_type": "stream",
     "text": [
      "Training Epoch 182: 100%|██████████| 378/378 [00:01<00:00, 189.83it/s]\n",
      "Training Epoch 183: 100%|██████████| 378/378 [00:01<00:00, 196.16it/s]\n",
      "Training Epoch 184: 100%|██████████| 378/378 [00:01<00:00, 193.83it/s]\n",
      "Training Epoch 185: 100%|██████████| 378/378 [00:01<00:00, 198.39it/s]\n",
      "Training Epoch 186: 100%|██████████| 378/378 [00:01<00:00, 198.03it/s]\n",
      "Training Epoch 187: 100%|██████████| 378/378 [00:01<00:00, 200.67it/s]\n",
      "Training Epoch 188: 100%|██████████| 378/378 [00:01<00:00, 200.07it/s]\n",
      "Training Epoch 189: 100%|██████████| 378/378 [00:01<00:00, 193.53it/s]\n",
      "Training Epoch 190: 100%|██████████| 378/378 [00:01<00:00, 197.16it/s]\n",
      "Training Epoch 191: 100%|██████████| 378/378 [00:01<00:00, 194.03it/s]\n"
     ]
    },
    {
     "name": "stdout",
     "output_type": "stream",
     "text": [
      "Epoch 190 - Train Loss: 0.7953, Train MSE: 0.7958, Train MAE: 0.6614\n",
      "Epoch 190 - Validation Loss: 1.6110, Validation MSE: 1.6136, Validation MAE: 0.9369\n"
     ]
    },
    {
     "name": "stderr",
     "output_type": "stream",
     "text": [
      "Training Epoch 192: 100%|██████████| 378/378 [00:01<00:00, 199.63it/s]\n",
      "Training Epoch 193: 100%|██████████| 378/378 [00:02<00:00, 167.95it/s]\n",
      "Training Epoch 194: 100%|██████████| 378/378 [00:02<00:00, 168.00it/s]\n",
      "Training Epoch 195: 100%|██████████| 378/378 [00:02<00:00, 171.61it/s]\n",
      "Training Epoch 196: 100%|██████████| 378/378 [00:02<00:00, 163.12it/s]\n",
      "Training Epoch 197: 100%|██████████| 378/378 [00:02<00:00, 167.14it/s]\n",
      "Training Epoch 198: 100%|██████████| 378/378 [00:02<00:00, 165.88it/s]\n",
      "Training Epoch 199: 100%|██████████| 378/378 [00:02<00:00, 170.33it/s]\n",
      "Training Epoch 200: 100%|██████████| 378/378 [00:02<00:00, 168.12it/s]\n",
      "Training Epoch 201: 100%|██████████| 378/378 [00:02<00:00, 169.64it/s]\n"
     ]
    },
    {
     "name": "stdout",
     "output_type": "stream",
     "text": [
      "Epoch 200 - Train Loss: 0.7787, Train MSE: 0.7789, Train MAE: 0.6502\n",
      "Epoch 200 - Validation Loss: 1.6430, Validation MSE: 1.6463, Validation MAE: 0.9325\n"
     ]
    },
    {
     "name": "stderr",
     "output_type": "stream",
     "text": [
      "Training Epoch 202: 100%|██████████| 378/378 [00:02<00:00, 169.97it/s]\n",
      "Training Epoch 203: 100%|██████████| 378/378 [00:02<00:00, 159.91it/s]\n",
      "Training Epoch 204: 100%|██████████| 378/378 [00:02<00:00, 167.24it/s]\n",
      "Training Epoch 205: 100%|██████████| 378/378 [00:02<00:00, 167.25it/s]\n",
      "Training Epoch 206: 100%|██████████| 378/378 [00:02<00:00, 171.17it/s]\n",
      "Training Epoch 207: 100%|██████████| 378/378 [00:02<00:00, 169.06it/s]\n",
      "Training Epoch 208: 100%|██████████| 378/378 [00:02<00:00, 172.15it/s]\n",
      "Training Epoch 209: 100%|██████████| 378/378 [00:02<00:00, 170.10it/s]\n",
      "Training Epoch 210: 100%|██████████| 378/378 [00:02<00:00, 162.40it/s]\n",
      "Training Epoch 211: 100%|██████████| 378/378 [00:02<00:00, 168.24it/s]\n"
     ]
    },
    {
     "name": "stdout",
     "output_type": "stream",
     "text": [
      "Epoch 210 - Train Loss: 0.7681, Train MSE: 0.7679, Train MAE: 0.6508\n",
      "Epoch 210 - Validation Loss: 1.5460, Validation MSE: 1.5483, Validation MAE: 0.9123\n"
     ]
    },
    {
     "name": "stderr",
     "output_type": "stream",
     "text": [
      "Training Epoch 212: 100%|██████████| 378/378 [00:02<00:00, 169.07it/s]\n",
      "Training Epoch 213: 100%|██████████| 378/378 [00:02<00:00, 173.07it/s]\n",
      "Training Epoch 214: 100%|██████████| 378/378 [00:02<00:00, 168.72it/s]\n",
      "Training Epoch 215: 100%|██████████| 378/378 [00:02<00:00, 171.65it/s]\n",
      "Training Epoch 216: 100%|██████████| 378/378 [00:02<00:00, 167.73it/s]\n",
      "Training Epoch 217: 100%|██████████| 378/378 [00:02<00:00, 164.20it/s]\n",
      "Training Epoch 218: 100%|██████████| 378/378 [00:02<00:00, 169.64it/s]\n",
      "Training Epoch 219: 100%|██████████| 378/378 [00:02<00:00, 170.07it/s]\n",
      "Training Epoch 220: 100%|██████████| 378/378 [00:02<00:00, 171.53it/s]\n",
      "Training Epoch 221: 100%|██████████| 378/378 [00:02<00:00, 168.18it/s]\n"
     ]
    },
    {
     "name": "stdout",
     "output_type": "stream",
     "text": [
      "Epoch 220 - Train Loss: 0.7671, Train MSE: 0.7670, Train MAE: 0.6459\n",
      "Epoch 220 - Validation Loss: 1.6104, Validation MSE: 1.6125, Validation MAE: 0.9303\n"
     ]
    },
    {
     "name": "stderr",
     "output_type": "stream",
     "text": [
      "Training Epoch 222: 100%|██████████| 378/378 [00:02<00:00, 170.31it/s]\n",
      "Training Epoch 223: 100%|██████████| 378/378 [00:02<00:00, 164.35it/s]\n",
      "Training Epoch 224: 100%|██████████| 378/378 [00:02<00:00, 172.57it/s]\n",
      "Training Epoch 225: 100%|██████████| 378/378 [00:02<00:00, 163.87it/s]\n",
      "Training Epoch 226: 100%|██████████| 378/378 [00:02<00:00, 169.59it/s]\n",
      "Training Epoch 227: 100%|██████████| 378/378 [00:02<00:00, 172.45it/s]\n",
      "Training Epoch 228: 100%|██████████| 378/378 [00:02<00:00, 168.07it/s]\n",
      "Training Epoch 229: 100%|██████████| 378/378 [00:02<00:00, 172.85it/s]\n",
      "Training Epoch 230: 100%|██████████| 378/378 [00:02<00:00, 166.45it/s]\n",
      "Training Epoch 231: 100%|██████████| 378/378 [00:02<00:00, 168.48it/s]\n"
     ]
    },
    {
     "name": "stdout",
     "output_type": "stream",
     "text": [
      "Epoch 230 - Train Loss: 0.7460, Train MSE: 0.7461, Train MAE: 0.6360\n",
      "Epoch 230 - Validation Loss: 1.6192, Validation MSE: 1.6220, Validation MAE: 0.9278\n"
     ]
    },
    {
     "name": "stderr",
     "output_type": "stream",
     "text": [
      "Training Epoch 232: 100%|██████████| 378/378 [00:02<00:00, 166.44it/s]\n",
      "Training Epoch 233: 100%|██████████| 378/378 [00:02<00:00, 170.62it/s]\n",
      "Training Epoch 234: 100%|██████████| 378/378 [00:02<00:00, 169.64it/s]\n",
      "Training Epoch 235: 100%|██████████| 378/378 [00:02<00:00, 173.22it/s]\n",
      "Training Epoch 236: 100%|██████████| 378/378 [00:02<00:00, 167.37it/s]\n",
      "Training Epoch 237: 100%|██████████| 378/378 [00:02<00:00, 163.07it/s]\n",
      "Training Epoch 238: 100%|██████████| 378/378 [00:02<00:00, 169.52it/s]\n",
      "Training Epoch 239: 100%|██████████| 378/378 [00:02<00:00, 167.61it/s]\n",
      "Training Epoch 240: 100%|██████████| 378/378 [00:02<00:00, 174.84it/s]\n",
      "Training Epoch 241: 100%|██████████| 378/378 [00:02<00:00, 169.28it/s]\n"
     ]
    },
    {
     "name": "stdout",
     "output_type": "stream",
     "text": [
      "Epoch 240 - Train Loss: 0.7455, Train MSE: 0.7457, Train MAE: 0.6339\n",
      "Epoch 240 - Validation Loss: 1.6285, Validation MSE: 1.6313, Validation MAE: 0.9287\n"
     ]
    },
    {
     "name": "stderr",
     "output_type": "stream",
     "text": [
      "Training Epoch 242: 100%|██████████| 378/378 [00:02<00:00, 170.63it/s]\n",
      "Training Epoch 243: 100%|██████████| 378/378 [00:02<00:00, 161.89it/s]\n",
      "Training Epoch 244: 100%|██████████| 378/378 [00:02<00:00, 173.78it/s]\n",
      "Training Epoch 245: 100%|██████████| 378/378 [00:02<00:00, 170.55it/s]\n",
      "Training Epoch 246: 100%|██████████| 378/378 [00:02<00:00, 171.30it/s]\n",
      "Training Epoch 247: 100%|██████████| 378/378 [00:02<00:00, 173.57it/s]\n",
      "Training Epoch 248: 100%|██████████| 378/378 [00:02<00:00, 168.24it/s]\n",
      "Training Epoch 249: 100%|██████████| 378/378 [00:02<00:00, 171.83it/s]\n",
      "Training Epoch 250: 100%|██████████| 378/378 [00:02<00:00, 168.44it/s]\n",
      "Training Epoch 251: 100%|██████████| 378/378 [00:02<00:00, 174.73it/s]\n"
     ]
    },
    {
     "name": "stdout",
     "output_type": "stream",
     "text": [
      "Epoch 250 - Train Loss: 0.7379, Train MSE: 0.7374, Train MAE: 0.6299\n",
      "Epoch 250 - Validation Loss: 1.6535, Validation MSE: 1.6564, Validation MAE: 0.9251\n"
     ]
    },
    {
     "name": "stderr",
     "output_type": "stream",
     "text": [
      "Training Epoch 252: 100%|██████████| 378/378 [00:02<00:00, 169.66it/s]\n",
      "Training Epoch 253: 100%|██████████| 378/378 [00:02<00:00, 170.71it/s]\n",
      "Training Epoch 254: 100%|██████████| 378/378 [00:02<00:00, 168.84it/s]\n",
      "Training Epoch 255: 100%|██████████| 378/378 [00:02<00:00, 168.52it/s]\n",
      "Training Epoch 256: 100%|██████████| 378/378 [00:02<00:00, 175.11it/s]\n",
      "Training Epoch 257: 100%|██████████| 378/378 [00:02<00:00, 166.28it/s]\n",
      "Training Epoch 258: 100%|██████████| 378/378 [00:02<00:00, 171.92it/s]\n",
      "Training Epoch 259: 100%|██████████| 378/378 [00:02<00:00, 166.62it/s]\n",
      "Training Epoch 260: 100%|██████████| 378/378 [00:02<00:00, 170.97it/s]\n",
      "Training Epoch 261: 100%|██████████| 378/378 [00:02<00:00, 168.80it/s]\n"
     ]
    },
    {
     "name": "stdout",
     "output_type": "stream",
     "text": [
      "Epoch 260 - Train Loss: 0.7307, Train MSE: 0.7303, Train MAE: 0.6294\n",
      "Epoch 260 - Validation Loss: 1.5641, Validation MSE: 1.5663, Validation MAE: 0.9113\n"
     ]
    },
    {
     "name": "stderr",
     "output_type": "stream",
     "text": [
      "Training Epoch 262: 100%|██████████| 378/378 [00:02<00:00, 174.56it/s]\n",
      "Training Epoch 263: 100%|██████████| 378/378 [00:02<00:00, 170.86it/s]\n",
      "Training Epoch 264: 100%|██████████| 378/378 [00:02<00:00, 167.01it/s]\n",
      "Training Epoch 265: 100%|██████████| 378/378 [00:02<00:00, 173.12it/s]\n",
      "Training Epoch 266: 100%|██████████| 378/378 [00:02<00:00, 168.88it/s]\n",
      "Training Epoch 267: 100%|██████████| 378/378 [00:02<00:00, 173.72it/s]\n",
      "Training Epoch 268: 100%|██████████| 378/378 [00:02<00:00, 167.91it/s]\n",
      "Training Epoch 269: 100%|██████████| 378/378 [00:02<00:00, 171.77it/s]\n",
      "Training Epoch 270: 100%|██████████| 378/378 [00:02<00:00, 170.22it/s]\n",
      "Training Epoch 271: 100%|██████████| 378/378 [00:02<00:00, 170.04it/s]\n"
     ]
    },
    {
     "name": "stdout",
     "output_type": "stream",
     "text": [
      "Epoch 270 - Train Loss: 0.7284, Train MSE: 0.7285, Train MAE: 0.6252\n",
      "Epoch 270 - Validation Loss: 1.5955, Validation MSE: 1.5982, Validation MAE: 0.9169\n"
     ]
    },
    {
     "name": "stderr",
     "output_type": "stream",
     "text": [
      "Training Epoch 272: 100%|██████████| 378/378 [00:02<00:00, 174.10it/s]\n",
      "Training Epoch 273: 100%|██████████| 378/378 [00:02<00:00, 170.11it/s]\n",
      "Training Epoch 274: 100%|██████████| 378/378 [00:02<00:00, 171.39it/s]\n",
      "Training Epoch 275: 100%|██████████| 378/378 [00:02<00:00, 169.19it/s]\n",
      "Training Epoch 276: 100%|██████████| 378/378 [00:02<00:00, 171.49it/s]\n",
      "Training Epoch 277: 100%|██████████| 378/378 [00:02<00:00, 168.45it/s]\n",
      "Training Epoch 278: 100%|██████████| 378/378 [00:02<00:00, 171.30it/s]\n",
      "Training Epoch 279: 100%|██████████| 378/378 [00:02<00:00, 169.37it/s]\n",
      "Training Epoch 280: 100%|██████████| 378/378 [00:02<00:00, 171.44it/s]\n",
      "Training Epoch 281: 100%|██████████| 378/378 [00:02<00:00, 170.20it/s]\n"
     ]
    },
    {
     "name": "stdout",
     "output_type": "stream",
     "text": [
      "Epoch 280 - Train Loss: 0.7101, Train MSE: 0.7102, Train MAE: 0.6161\n",
      "Epoch 280 - Validation Loss: 1.5637, Validation MSE: 1.5659, Validation MAE: 0.9085\n"
     ]
    },
    {
     "name": "stderr",
     "output_type": "stream",
     "text": [
      "Training Epoch 282: 100%|██████████| 378/378 [00:02<00:00, 171.97it/s]\n",
      "Training Epoch 283: 100%|██████████| 378/378 [00:02<00:00, 174.18it/s]\n",
      "Training Epoch 284: 100%|██████████| 378/378 [00:02<00:00, 168.68it/s]\n",
      "Training Epoch 285: 100%|██████████| 378/378 [00:02<00:00, 170.61it/s]\n",
      "Training Epoch 286: 100%|██████████| 378/378 [00:02<00:00, 168.75it/s]\n",
      "Training Epoch 287: 100%|██████████| 378/378 [00:02<00:00, 172.64it/s]\n",
      "Training Epoch 288: 100%|██████████| 378/378 [00:02<00:00, 168.92it/s]\n",
      "Training Epoch 289: 100%|██████████| 378/378 [00:02<00:00, 172.12it/s]\n",
      "Training Epoch 290: 100%|██████████| 378/378 [00:02<00:00, 167.43it/s]\n",
      "Training Epoch 291: 100%|██████████| 378/378 [00:02<00:00, 170.06it/s]\n"
     ]
    },
    {
     "name": "stdout",
     "output_type": "stream",
     "text": [
      "Epoch 290 - Train Loss: 0.7076, Train MSE: 0.7081, Train MAE: 0.6192\n",
      "Epoch 290 - Validation Loss: 1.6070, Validation MSE: 1.6101, Validation MAE: 0.9219\n"
     ]
    },
    {
     "name": "stderr",
     "output_type": "stream",
     "text": [
      "Training Epoch 292: 100%|██████████| 378/378 [00:02<00:00, 169.70it/s]\n",
      "Training Epoch 293: 100%|██████████| 378/378 [00:02<00:00, 167.28it/s]\n",
      "Training Epoch 294: 100%|██████████| 378/378 [00:02<00:00, 174.27it/s]\n",
      "Training Epoch 295: 100%|██████████| 378/378 [00:02<00:00, 168.15it/s]\n",
      "Training Epoch 296: 100%|██████████| 378/378 [00:02<00:00, 170.87it/s]\n",
      "Training Epoch 297: 100%|██████████| 378/378 [00:02<00:00, 168.65it/s]\n",
      "Training Epoch 298: 100%|██████████| 378/378 [00:02<00:00, 168.35it/s]\n",
      "Training Epoch 299: 100%|██████████| 378/378 [00:02<00:00, 166.86it/s]\n",
      "Training Epoch 300: 100%|██████████| 378/378 [00:02<00:00, 173.14it/s]\n",
      "Training Epoch 301: 100%|██████████| 378/378 [00:02<00:00, 168.84it/s]\n"
     ]
    },
    {
     "name": "stdout",
     "output_type": "stream",
     "text": [
      "Epoch 300 - Train Loss: 0.7004, Train MSE: 0.7007, Train MAE: 0.6126\n",
      "Epoch 300 - Validation Loss: 1.5797, Validation MSE: 1.5834, Validation MAE: 0.9177\n"
     ]
    },
    {
     "name": "stderr",
     "output_type": "stream",
     "text": [
      "Training Epoch 302: 100%|██████████| 378/378 [00:02<00:00, 170.19it/s]\n",
      "Training Epoch 303: 100%|██████████| 378/378 [00:02<00:00, 170.20it/s]\n",
      "Training Epoch 304: 100%|██████████| 378/378 [00:02<00:00, 168.06it/s]\n",
      "Training Epoch 305: 100%|██████████| 378/378 [00:02<00:00, 172.07it/s]\n",
      "Training Epoch 306: 100%|██████████| 378/378 [00:02<00:00, 169.29it/s]\n",
      "Training Epoch 307: 100%|██████████| 378/378 [00:02<00:00, 172.37it/s]\n",
      "Training Epoch 308: 100%|██████████| 378/378 [00:02<00:00, 169.01it/s]\n",
      "Training Epoch 309: 100%|██████████| 378/378 [00:02<00:00, 172.87it/s]\n",
      "Training Epoch 310: 100%|██████████| 378/378 [00:02<00:00, 174.03it/s]\n",
      "Training Epoch 311: 100%|██████████| 378/378 [00:02<00:00, 169.10it/s]\n"
     ]
    },
    {
     "name": "stdout",
     "output_type": "stream",
     "text": [
      "Epoch 310 - Train Loss: 0.7053, Train MSE: 0.7057, Train MAE: 0.6146\n",
      "Epoch 310 - Validation Loss: 1.5776, Validation MSE: 1.5799, Validation MAE: 0.9131\n"
     ]
    },
    {
     "name": "stderr",
     "output_type": "stream",
     "text": [
      "Training Epoch 312: 100%|██████████| 378/378 [00:02<00:00, 168.80it/s]\n",
      "Training Epoch 313: 100%|██████████| 378/378 [00:02<00:00, 169.68it/s]\n",
      "Training Epoch 314: 100%|██████████| 378/378 [00:02<00:00, 171.46it/s]\n",
      "Training Epoch 315: 100%|██████████| 378/378 [00:02<00:00, 171.44it/s]\n",
      "Training Epoch 316: 100%|██████████| 378/378 [00:02<00:00, 171.91it/s]\n",
      "Training Epoch 317: 100%|██████████| 378/378 [00:02<00:00, 168.69it/s]\n",
      "Training Epoch 318: 100%|██████████| 378/378 [00:02<00:00, 172.39it/s]\n",
      "Training Epoch 319: 100%|██████████| 378/378 [00:02<00:00, 168.50it/s]\n",
      "Training Epoch 320: 100%|██████████| 378/378 [00:02<00:00, 168.74it/s]\n",
      "Training Epoch 321: 100%|██████████| 378/378 [00:02<00:00, 174.53it/s]\n"
     ]
    },
    {
     "name": "stdout",
     "output_type": "stream",
     "text": [
      "Epoch 320 - Train Loss: 0.6931, Train MSE: 0.6931, Train MAE: 0.6042\n",
      "Epoch 320 - Validation Loss: 1.5771, Validation MSE: 1.5790, Validation MAE: 0.9109\n"
     ]
    },
    {
     "name": "stderr",
     "output_type": "stream",
     "text": [
      "Training Epoch 322: 100%|██████████| 378/378 [00:02<00:00, 169.73it/s]\n",
      "Training Epoch 323: 100%|██████████| 378/378 [00:02<00:00, 172.49it/s]\n",
      "Training Epoch 324: 100%|██████████| 378/378 [00:02<00:00, 167.85it/s]\n",
      "Training Epoch 325: 100%|██████████| 378/378 [00:02<00:00, 170.86it/s]\n",
      "Training Epoch 326: 100%|██████████| 378/378 [00:02<00:00, 169.48it/s]\n",
      "Training Epoch 327: 100%|██████████| 378/378 [00:02<00:00, 171.62it/s]\n",
      "Training Epoch 328: 100%|██████████| 378/378 [00:02<00:00, 171.85it/s]\n",
      "Training Epoch 329: 100%|██████████| 378/378 [00:02<00:00, 169.17it/s]\n",
      "Training Epoch 330: 100%|██████████| 378/378 [00:02<00:00, 171.44it/s]\n",
      "Training Epoch 331: 100%|██████████| 378/378 [00:02<00:00, 167.66it/s]\n"
     ]
    },
    {
     "name": "stdout",
     "output_type": "stream",
     "text": [
      "Epoch 330 - Train Loss: 0.6870, Train MSE: 0.6864, Train MAE: 0.6045\n",
      "Epoch 330 - Validation Loss: 1.5825, Validation MSE: 1.5849, Validation MAE: 0.9056\n"
     ]
    },
    {
     "name": "stderr",
     "output_type": "stream",
     "text": [
      "Training Epoch 332: 100%|██████████| 378/378 [00:02<00:00, 174.14it/s]\n",
      "Training Epoch 333: 100%|██████████| 378/378 [00:02<00:00, 168.18it/s]\n",
      "Training Epoch 334: 100%|██████████| 378/378 [00:02<00:00, 172.64it/s]\n",
      "Training Epoch 335: 100%|██████████| 378/378 [00:02<00:00, 169.90it/s]\n",
      "Training Epoch 336: 100%|██████████| 378/378 [00:02<00:00, 170.29it/s]\n",
      "Training Epoch 337: 100%|██████████| 378/378 [00:02<00:00, 174.13it/s]\n",
      "Training Epoch 338: 100%|██████████| 378/378 [00:02<00:00, 169.17it/s]\n",
      "Training Epoch 339: 100%|██████████| 378/378 [00:02<00:00, 168.76it/s]\n",
      "Training Epoch 340: 100%|██████████| 378/378 [00:02<00:00, 168.56it/s]\n",
      "Training Epoch 341: 100%|██████████| 378/378 [00:02<00:00, 170.45it/s]\n"
     ]
    },
    {
     "name": "stdout",
     "output_type": "stream",
     "text": [
      "Epoch 340 - Train Loss: 0.6942, Train MSE: 0.6941, Train MAE: 0.6074\n",
      "Epoch 340 - Validation Loss: 1.5735, Validation MSE: 1.5763, Validation MAE: 0.9079\n"
     ]
    },
    {
     "name": "stderr",
     "output_type": "stream",
     "text": [
      "Training Epoch 342: 100%|██████████| 378/378 [00:02<00:00, 170.21it/s]\n",
      "Training Epoch 343: 100%|██████████| 378/378 [00:02<00:00, 172.50it/s]\n",
      "Training Epoch 344: 100%|██████████| 378/378 [00:02<00:00, 168.59it/s]\n",
      "Training Epoch 345: 100%|██████████| 378/378 [00:02<00:00, 170.84it/s]\n",
      "Training Epoch 346: 100%|██████████| 378/378 [00:02<00:00, 168.69it/s]\n",
      "Training Epoch 347: 100%|██████████| 378/378 [00:02<00:00, 168.22it/s]\n",
      "Training Epoch 348: 100%|██████████| 378/378 [00:02<00:00, 174.75it/s]\n",
      "Training Epoch 349: 100%|██████████| 378/378 [00:02<00:00, 169.26it/s]\n",
      "Training Epoch 350: 100%|██████████| 378/378 [00:02<00:00, 170.82it/s]\n",
      "Training Epoch 351: 100%|██████████| 378/378 [00:02<00:00, 168.17it/s]\n"
     ]
    },
    {
     "name": "stdout",
     "output_type": "stream",
     "text": [
      "Epoch 350 - Train Loss: 0.6795, Train MSE: 0.6786, Train MAE: 0.5974\n",
      "Epoch 350 - Validation Loss: 1.6133, Validation MSE: 1.6159, Validation MAE: 0.9138\n"
     ]
    },
    {
     "name": "stderr",
     "output_type": "stream",
     "text": [
      "Training Epoch 352: 100%|██████████| 378/378 [00:02<00:00, 169.77it/s]\n",
      "Training Epoch 353: 100%|██████████| 378/378 [00:02<00:00, 169.96it/s]\n",
      "Training Epoch 354: 100%|██████████| 378/378 [00:02<00:00, 168.88it/s]\n",
      "Training Epoch 355: 100%|██████████| 378/378 [00:02<00:00, 167.01it/s]\n",
      "Training Epoch 356: 100%|██████████| 378/378 [00:02<00:00, 167.68it/s]\n",
      "Training Epoch 357: 100%|██████████| 378/378 [00:02<00:00, 173.52it/s]\n",
      "Training Epoch 358: 100%|██████████| 378/378 [00:02<00:00, 171.13it/s]\n",
      "Training Epoch 359: 100%|██████████| 378/378 [00:02<00:00, 175.37it/s]\n",
      "Training Epoch 360: 100%|██████████| 378/378 [00:02<00:00, 166.51it/s]\n",
      "Training Epoch 361: 100%|██████████| 378/378 [00:02<00:00, 173.33it/s]\n"
     ]
    },
    {
     "name": "stdout",
     "output_type": "stream",
     "text": [
      "Epoch 360 - Train Loss: 0.6915, Train MSE: 0.6916, Train MAE: 0.6051\n",
      "Epoch 360 - Validation Loss: 1.5851, Validation MSE: 1.5874, Validation MAE: 0.9217\n"
     ]
    },
    {
     "name": "stderr",
     "output_type": "stream",
     "text": [
      "Training Epoch 362: 100%|██████████| 378/378 [00:02<00:00, 168.73it/s]\n",
      "Training Epoch 363: 100%|██████████| 378/378 [00:02<00:00, 167.36it/s]\n",
      "Training Epoch 364: 100%|██████████| 378/378 [00:02<00:00, 174.82it/s]\n",
      "Training Epoch 365: 100%|██████████| 378/378 [00:02<00:00, 169.91it/s]\n",
      "Training Epoch 366: 100%|██████████| 378/378 [00:02<00:00, 172.99it/s]\n",
      "Training Epoch 367: 100%|██████████| 378/378 [00:02<00:00, 167.58it/s]\n",
      "Training Epoch 368: 100%|██████████| 378/378 [00:02<00:00, 172.07it/s]\n",
      "Training Epoch 369: 100%|██████████| 378/378 [00:02<00:00, 171.59it/s]\n",
      "Training Epoch 370: 100%|██████████| 378/378 [00:02<00:00, 169.55it/s]\n",
      "Training Epoch 371: 100%|██████████| 378/378 [00:02<00:00, 173.96it/s]\n"
     ]
    },
    {
     "name": "stdout",
     "output_type": "stream",
     "text": [
      "Epoch 370 - Train Loss: 0.6686, Train MSE: 0.6682, Train MAE: 0.5939\n",
      "Epoch 370 - Validation Loss: 1.5971, Validation MSE: 1.5994, Validation MAE: 0.9088\n"
     ]
    },
    {
     "name": "stderr",
     "output_type": "stream",
     "text": [
      "Training Epoch 372: 100%|██████████| 378/378 [00:02<00:00, 168.95it/s]\n",
      "Training Epoch 373: 100%|██████████| 378/378 [00:02<00:00, 171.10it/s]\n",
      "Training Epoch 374: 100%|██████████| 378/378 [00:02<00:00, 168.44it/s]\n",
      "Training Epoch 375: 100%|██████████| 378/378 [00:02<00:00, 174.84it/s]\n",
      "Training Epoch 376: 100%|██████████| 378/378 [00:02<00:00, 168.00it/s]\n",
      "Training Epoch 377: 100%|██████████| 378/378 [00:02<00:00, 172.03it/s]\n",
      "Training Epoch 378: 100%|██████████| 378/378 [00:02<00:00, 169.98it/s]\n",
      "Training Epoch 379: 100%|██████████| 378/378 [00:02<00:00, 169.13it/s]\n",
      "Training Epoch 380: 100%|██████████| 378/378 [00:02<00:00, 171.63it/s]\n",
      "Training Epoch 381: 100%|██████████| 378/378 [00:02<00:00, 170.49it/s]\n"
     ]
    },
    {
     "name": "stdout",
     "output_type": "stream",
     "text": [
      "Epoch 380 - Train Loss: 0.6629, Train MSE: 0.6628, Train MAE: 0.5908\n",
      "Epoch 380 - Validation Loss: 1.5947, Validation MSE: 1.5971, Validation MAE: 0.9100\n"
     ]
    },
    {
     "name": "stderr",
     "output_type": "stream",
     "text": [
      "Training Epoch 382: 100%|██████████| 378/378 [00:02<00:00, 172.54it/s]\n",
      "Training Epoch 383: 100%|██████████| 378/378 [00:02<00:00, 169.15it/s]\n",
      "Training Epoch 384: 100%|██████████| 378/378 [00:02<00:00, 174.25it/s]\n",
      "Training Epoch 385: 100%|██████████| 378/378 [00:02<00:00, 169.89it/s]\n",
      "Training Epoch 386: 100%|██████████| 378/378 [00:02<00:00, 173.43it/s]\n",
      "Training Epoch 387: 100%|██████████| 378/378 [00:02<00:00, 166.48it/s]\n",
      "Training Epoch 388: 100%|██████████| 378/378 [00:02<00:00, 172.05it/s]\n",
      "Training Epoch 389: 100%|██████████| 378/378 [00:02<00:00, 169.82it/s]\n",
      "Training Epoch 390: 100%|██████████| 378/378 [00:02<00:00, 167.95it/s]\n",
      "Training Epoch 391: 100%|██████████| 378/378 [00:02<00:00, 176.43it/s]\n"
     ]
    },
    {
     "name": "stdout",
     "output_type": "stream",
     "text": [
      "Epoch 390 - Train Loss: 0.6662, Train MSE: 0.6655, Train MAE: 0.5937\n",
      "Epoch 390 - Validation Loss: 1.5676, Validation MSE: 1.5692, Validation MAE: 0.8982\n"
     ]
    },
    {
     "name": "stderr",
     "output_type": "stream",
     "text": [
      "Training Epoch 392: 100%|██████████| 378/378 [00:02<00:00, 168.97it/s]\n",
      "Training Epoch 393: 100%|██████████| 378/378 [00:02<00:00, 169.64it/s]\n",
      "Training Epoch 394: 100%|██████████| 378/378 [00:02<00:00, 166.00it/s]\n",
      "Training Epoch 395: 100%|██████████| 378/378 [00:02<00:00, 170.55it/s]\n",
      "Training Epoch 396: 100%|██████████| 378/378 [00:02<00:00, 170.22it/s]\n",
      "Training Epoch 397: 100%|██████████| 378/378 [00:02<00:00, 170.50it/s]\n",
      "Training Epoch 398: 100%|██████████| 378/378 [00:02<00:00, 168.21it/s]\n",
      "Training Epoch 399: 100%|██████████| 378/378 [00:02<00:00, 169.25it/s]\n",
      "Training Epoch 400: 100%|██████████| 378/378 [00:02<00:00, 170.44it/s]\n",
      "Training Epoch 401: 100%|██████████| 378/378 [00:02<00:00, 166.15it/s]\n"
     ]
    },
    {
     "name": "stdout",
     "output_type": "stream",
     "text": [
      "Epoch 400 - Train Loss: 0.6561, Train MSE: 0.6560, Train MAE: 0.5865\n",
      "Epoch 400 - Validation Loss: 1.5864, Validation MSE: 1.5882, Validation MAE: 0.9059\n"
     ]
    },
    {
     "name": "stderr",
     "output_type": "stream",
     "text": [
      "Training Epoch 402: 100%|██████████| 378/378 [00:02<00:00, 173.39it/s]\n",
      "Training Epoch 403: 100%|██████████| 378/378 [00:02<00:00, 168.37it/s]\n",
      "Training Epoch 404: 100%|██████████| 378/378 [00:02<00:00, 168.94it/s]\n",
      "Training Epoch 405: 100%|██████████| 378/378 [00:02<00:00, 168.34it/s]\n",
      "Training Epoch 406: 100%|██████████| 378/378 [00:02<00:00, 167.10it/s]\n",
      "Training Epoch 407: 100%|██████████| 378/378 [00:02<00:00, 174.39it/s]\n",
      "Training Epoch 408: 100%|██████████| 378/378 [00:02<00:00, 165.76it/s]\n",
      "Training Epoch 409: 100%|██████████| 378/378 [00:02<00:00, 173.35it/s]\n",
      "Training Epoch 410: 100%|██████████| 378/378 [00:02<00:00, 167.46it/s]\n",
      "Training Epoch 411: 100%|██████████| 378/378 [00:02<00:00, 171.09it/s]\n"
     ]
    },
    {
     "name": "stdout",
     "output_type": "stream",
     "text": [
      "Epoch 410 - Train Loss: 0.6570, Train MSE: 0.6572, Train MAE: 0.5886\n",
      "Epoch 410 - Validation Loss: 1.5668, Validation MSE: 1.5703, Validation MAE: 0.9062\n"
     ]
    },
    {
     "name": "stderr",
     "output_type": "stream",
     "text": [
      "Training Epoch 412: 100%|██████████| 378/378 [00:02<00:00, 168.53it/s]\n",
      "Training Epoch 413: 100%|██████████| 378/378 [00:02<00:00, 169.71it/s]\n",
      "Training Epoch 414: 100%|██████████| 378/378 [00:02<00:00, 171.76it/s]\n",
      "Training Epoch 415: 100%|██████████| 378/378 [00:02<00:00, 167.25it/s]\n",
      "Training Epoch 416: 100%|██████████| 378/378 [00:02<00:00, 169.37it/s]\n",
      "Training Epoch 417: 100%|██████████| 378/378 [00:02<00:00, 168.51it/s]\n",
      "Training Epoch 418: 100%|██████████| 378/378 [00:02<00:00, 176.73it/s]\n",
      "Training Epoch 419: 100%|██████████| 378/378 [00:02<00:00, 169.08it/s]\n",
      "Training Epoch 420: 100%|██████████| 378/378 [00:02<00:00, 170.66it/s]\n",
      "Training Epoch 421: 100%|██████████| 378/378 [00:02<00:00, 169.98it/s]\n"
     ]
    },
    {
     "name": "stdout",
     "output_type": "stream",
     "text": [
      "Epoch 420 - Train Loss: 0.6542, Train MSE: 0.6542, Train MAE: 0.5832\n",
      "Epoch 420 - Validation Loss: 1.5740, Validation MSE: 1.5760, Validation MAE: 0.9087\n"
     ]
    },
    {
     "name": "stderr",
     "output_type": "stream",
     "text": [
      "Training Epoch 422: 100%|██████████| 378/378 [00:02<00:00, 168.60it/s]\n",
      "Training Epoch 423: 100%|██████████| 378/378 [00:02<00:00, 173.43it/s]\n",
      "Training Epoch 424: 100%|██████████| 378/378 [00:02<00:00, 167.78it/s]\n",
      "Training Epoch 425: 100%|██████████| 378/378 [00:02<00:00, 170.52it/s]\n",
      "Training Epoch 426: 100%|██████████| 378/378 [00:02<00:00, 168.82it/s]\n",
      "Training Epoch 427: 100%|██████████| 378/378 [00:02<00:00, 167.91it/s]\n",
      "Training Epoch 428: 100%|██████████| 378/378 [00:02<00:00, 170.20it/s]\n",
      "Training Epoch 429: 100%|██████████| 378/378 [00:02<00:00, 171.52it/s]\n",
      "Training Epoch 430: 100%|██████████| 378/378 [00:02<00:00, 171.84it/s]\n",
      "Training Epoch 431: 100%|██████████| 378/378 [00:02<00:00, 169.96it/s]\n"
     ]
    },
    {
     "name": "stdout",
     "output_type": "stream",
     "text": [
      "Epoch 430 - Train Loss: 0.6639, Train MSE: 0.6643, Train MAE: 0.5895\n",
      "Epoch 430 - Validation Loss: 1.5580, Validation MSE: 1.5603, Validation MAE: 0.9063\n"
     ]
    },
    {
     "name": "stderr",
     "output_type": "stream",
     "text": [
      "Training Epoch 432: 100%|██████████| 378/378 [00:02<00:00, 171.06it/s]\n",
      "Training Epoch 433: 100%|██████████| 378/378 [00:02<00:00, 168.86it/s]\n",
      "Training Epoch 434: 100%|██████████| 378/378 [00:02<00:00, 176.61it/s]\n",
      "Training Epoch 435: 100%|██████████| 378/378 [00:02<00:00, 166.05it/s]\n",
      "Training Epoch 436: 100%|██████████| 378/378 [00:02<00:00, 169.90it/s]\n",
      "Training Epoch 437: 100%|██████████| 378/378 [00:02<00:00, 167.63it/s]\n",
      "Training Epoch 438: 100%|██████████| 378/378 [00:02<00:00, 168.93it/s]\n",
      "Training Epoch 439: 100%|██████████| 378/378 [00:02<00:00, 173.71it/s]\n",
      "Training Epoch 440: 100%|██████████| 378/378 [00:02<00:00, 168.47it/s]\n",
      "Training Epoch 441: 100%|██████████| 378/378 [00:02<00:00, 171.11it/s]\n"
     ]
    },
    {
     "name": "stdout",
     "output_type": "stream",
     "text": [
      "Epoch 440 - Train Loss: 0.6520, Train MSE: 0.6518, Train MAE: 0.5841\n",
      "Epoch 440 - Validation Loss: 1.5721, Validation MSE: 1.5736, Validation MAE: 0.8928\n"
     ]
    },
    {
     "name": "stderr",
     "output_type": "stream",
     "text": [
      "Training Epoch 442: 100%|██████████| 378/378 [00:02<00:00, 165.81it/s]\n",
      "Training Epoch 443: 100%|██████████| 378/378 [00:02<00:00, 171.45it/s]\n",
      "Training Epoch 444: 100%|██████████| 378/378 [00:02<00:00, 169.44it/s]\n",
      "Training Epoch 445: 100%|██████████| 378/378 [00:02<00:00, 174.77it/s]\n",
      "Training Epoch 446: 100%|██████████| 378/378 [00:02<00:00, 171.15it/s]\n",
      "Training Epoch 447: 100%|██████████| 378/378 [00:02<00:00, 169.05it/s]\n",
      "Training Epoch 448: 100%|██████████| 378/378 [00:02<00:00, 169.34it/s]\n",
      "Training Epoch 449: 100%|██████████| 378/378 [00:02<00:00, 166.86it/s]\n",
      "Training Epoch 450: 100%|██████████| 378/378 [00:02<00:00, 175.45it/s]\n",
      "Training Epoch 451: 100%|██████████| 378/378 [00:02<00:00, 168.62it/s]\n"
     ]
    },
    {
     "name": "stdout",
     "output_type": "stream",
     "text": [
      "Epoch 450 - Train Loss: 0.6495, Train MSE: 0.6495, Train MAE: 0.5816\n",
      "Epoch 450 - Validation Loss: 1.5219, Validation MSE: 1.5247, Validation MAE: 0.8940\n"
     ]
    },
    {
     "name": "stderr",
     "output_type": "stream",
     "text": [
      "Training Epoch 452: 100%|██████████| 378/378 [00:02<00:00, 171.04it/s]\n",
      "Training Epoch 453: 100%|██████████| 378/378 [00:02<00:00, 165.82it/s]\n",
      "Training Epoch 454: 100%|██████████| 378/378 [00:02<00:00, 168.61it/s]\n",
      "Training Epoch 455: 100%|██████████| 378/378 [00:02<00:00, 173.72it/s]\n",
      "Training Epoch 456: 100%|██████████| 378/378 [00:02<00:00, 166.46it/s]\n",
      "Training Epoch 457: 100%|██████████| 378/378 [00:02<00:00, 166.79it/s]\n",
      "Training Epoch 458: 100%|██████████| 378/378 [00:02<00:00, 169.03it/s]\n",
      "Training Epoch 459: 100%|██████████| 378/378 [00:02<00:00, 169.04it/s]\n",
      "Training Epoch 460: 100%|██████████| 378/378 [00:02<00:00, 168.61it/s]\n",
      "Training Epoch 461: 100%|██████████| 378/378 [00:02<00:00, 174.44it/s]\n"
     ]
    },
    {
     "name": "stdout",
     "output_type": "stream",
     "text": [
      "Epoch 460 - Train Loss: 0.6492, Train MSE: 0.6495, Train MAE: 0.5819\n",
      "Epoch 460 - Validation Loss: 1.5779, Validation MSE: 1.5811, Validation MAE: 0.9131\n"
     ]
    },
    {
     "name": "stderr",
     "output_type": "stream",
     "text": [
      "Training Epoch 462: 100%|██████████| 378/378 [00:02<00:00, 168.47it/s]\n",
      "Training Epoch 463: 100%|██████████| 378/378 [00:02<00:00, 170.00it/s]\n",
      "Training Epoch 464: 100%|██████████| 378/378 [00:02<00:00, 171.08it/s]\n",
      "Training Epoch 465: 100%|██████████| 378/378 [00:02<00:00, 167.77it/s]\n",
      "Training Epoch 466: 100%|██████████| 378/378 [00:02<00:00, 173.62it/s]\n",
      "Training Epoch 467: 100%|██████████| 378/378 [00:02<00:00, 169.14it/s]\n",
      "Training Epoch 468: 100%|██████████| 378/378 [00:02<00:00, 171.98it/s]\n",
      "Training Epoch 469: 100%|██████████| 378/378 [00:02<00:00, 166.77it/s]\n",
      "Training Epoch 470: 100%|██████████| 378/378 [00:02<00:00, 168.63it/s]\n",
      "Training Epoch 471: 100%|██████████| 378/378 [00:02<00:00, 170.72it/s]\n"
     ]
    },
    {
     "name": "stdout",
     "output_type": "stream",
     "text": [
      "Epoch 470 - Train Loss: 0.6540, Train MSE: 0.6543, Train MAE: 0.5808\n",
      "Epoch 470 - Validation Loss: 1.5794, Validation MSE: 1.5822, Validation MAE: 0.9094\n"
     ]
    },
    {
     "name": "stderr",
     "output_type": "stream",
     "text": [
      "Training Epoch 472: 100%|██████████| 378/378 [00:02<00:00, 170.44it/s]\n",
      "Training Epoch 473: 100%|██████████| 378/378 [00:02<00:00, 170.70it/s]\n",
      "Training Epoch 474: 100%|██████████| 378/378 [00:02<00:00, 168.96it/s]\n",
      "Training Epoch 475: 100%|██████████| 378/378 [00:02<00:00, 172.12it/s]\n",
      "Training Epoch 476: 100%|██████████| 378/378 [00:02<00:00, 166.77it/s]\n",
      "Training Epoch 477: 100%|██████████| 378/378 [00:02<00:00, 172.61it/s]\n",
      "Training Epoch 478: 100%|██████████| 378/378 [00:02<00:00, 170.28it/s]\n",
      "Training Epoch 479: 100%|██████████| 378/378 [00:02<00:00, 168.36it/s]\n",
      "Training Epoch 480: 100%|██████████| 378/378 [00:02<00:00, 172.01it/s]\n",
      "Training Epoch 481: 100%|██████████| 378/378 [00:02<00:00, 168.98it/s]\n"
     ]
    },
    {
     "name": "stdout",
     "output_type": "stream",
     "text": [
      "Epoch 480 - Train Loss: 0.6457, Train MSE: 0.6449, Train MAE: 0.5786\n",
      "Epoch 480 - Validation Loss: 1.5419, Validation MSE: 1.5449, Validation MAE: 0.9014\n"
     ]
    },
    {
     "name": "stderr",
     "output_type": "stream",
     "text": [
      "Training Epoch 482: 100%|██████████| 378/378 [00:02<00:00, 172.42it/s]\n",
      "Training Epoch 483: 100%|██████████| 378/378 [00:02<00:00, 166.10it/s]\n",
      "Training Epoch 484: 100%|██████████| 378/378 [00:02<00:00, 171.13it/s]\n",
      "Training Epoch 485: 100%|██████████| 378/378 [00:02<00:00, 169.87it/s]\n",
      "Training Epoch 486: 100%|██████████| 378/378 [00:02<00:00, 170.10it/s]\n",
      "Training Epoch 487: 100%|██████████| 378/378 [00:02<00:00, 170.66it/s]\n",
      "Training Epoch 488: 100%|██████████| 378/378 [00:02<00:00, 170.62it/s]\n",
      "Training Epoch 489: 100%|██████████| 378/378 [00:02<00:00, 170.64it/s]\n",
      "Training Epoch 490: 100%|██████████| 378/378 [00:02<00:00, 164.76it/s]\n",
      "Training Epoch 491: 100%|██████████| 378/378 [00:02<00:00, 170.25it/s]\n"
     ]
    },
    {
     "name": "stdout",
     "output_type": "stream",
     "text": [
      "Epoch 490 - Train Loss: 0.6446, Train MSE: 0.6445, Train MAE: 0.5768\n",
      "Epoch 490 - Validation Loss: 1.5637, Validation MSE: 1.5669, Validation MAE: 0.9029\n"
     ]
    },
    {
     "name": "stderr",
     "output_type": "stream",
     "text": [
      "Training Epoch 492: 100%|██████████| 378/378 [00:02<00:00, 167.75it/s]\n",
      "Training Epoch 493: 100%|██████████| 378/378 [00:02<00:00, 176.03it/s]\n",
      "Training Epoch 494: 100%|██████████| 378/378 [00:02<00:00, 168.46it/s]\n",
      "Training Epoch 495: 100%|██████████| 378/378 [00:02<00:00, 168.72it/s]\n",
      "Training Epoch 496: 100%|██████████| 378/378 [00:02<00:00, 172.61it/s]\n",
      "Training Epoch 497: 100%|██████████| 378/378 [00:02<00:00, 166.46it/s]\n",
      "Training Epoch 498: 100%|██████████| 378/378 [00:02<00:00, 173.34it/s]\n",
      "Training Epoch 499: 100%|██████████| 378/378 [00:02<00:00, 168.82it/s]\n",
      "Training Epoch 500: 100%|██████████| 378/378 [00:02<00:00, 170.94it/s]\n",
      "Training Epoch 501: 100%|██████████| 378/378 [00:02<00:00, 168.93it/s]\n"
     ]
    },
    {
     "name": "stdout",
     "output_type": "stream",
     "text": [
      "Epoch 500 - Train Loss: 0.6303, Train MSE: 0.6306, Train MAE: 0.5715\n",
      "Epoch 500 - Validation Loss: 1.5705, Validation MSE: 1.5728, Validation MAE: 0.9025\n"
     ]
    },
    {
     "name": "stderr",
     "output_type": "stream",
     "text": [
      "Training Epoch 502: 100%|██████████| 378/378 [00:02<00:00, 171.93it/s]\n",
      "Training Epoch 503: 100%|██████████| 378/378 [00:02<00:00, 165.61it/s]\n",
      "Training Epoch 504: 100%|██████████| 378/378 [00:02<00:00, 169.33it/s]\n",
      "Training Epoch 505: 100%|██████████| 378/378 [00:02<00:00, 172.30it/s]\n",
      "Training Epoch 506: 100%|██████████| 378/378 [00:02<00:00, 169.68it/s]\n",
      "Training Epoch 507: 100%|██████████| 378/378 [00:02<00:00, 171.46it/s]\n",
      "Training Epoch 508: 100%|██████████| 378/378 [00:02<00:00, 169.57it/s]\n",
      "Training Epoch 509: 100%|██████████| 378/378 [00:02<00:00, 173.84it/s]\n",
      "Training Epoch 510: 100%|██████████| 378/378 [00:02<00:00, 166.02it/s]\n",
      "Training Epoch 511: 100%|██████████| 378/378 [00:02<00:00, 170.56it/s]\n"
     ]
    },
    {
     "name": "stdout",
     "output_type": "stream",
     "text": [
      "Epoch 510 - Train Loss: 0.6367, Train MSE: 0.6369, Train MAE: 0.5743\n",
      "Epoch 510 - Validation Loss: 1.6173, Validation MSE: 1.6192, Validation MAE: 0.9039\n"
     ]
    },
    {
     "name": "stderr",
     "output_type": "stream",
     "text": [
      "Training Epoch 512: 100%|██████████| 378/378 [00:02<00:00, 169.19it/s]\n",
      "Training Epoch 513: 100%|██████████| 378/378 [00:02<00:00, 169.48it/s]\n",
      "Training Epoch 514: 100%|██████████| 378/378 [00:02<00:00, 171.73it/s]\n",
      "Training Epoch 515: 100%|██████████| 378/378 [00:02<00:00, 172.78it/s]\n",
      "Training Epoch 516: 100%|██████████| 378/378 [00:02<00:00, 171.54it/s]\n",
      "Training Epoch 517: 100%|██████████| 378/378 [00:02<00:00, 165.35it/s]\n",
      "Training Epoch 518: 100%|██████████| 378/378 [00:02<00:00, 170.46it/s]\n",
      "Training Epoch 519: 100%|██████████| 378/378 [00:02<00:00, 171.01it/s]\n",
      "Training Epoch 520: 100%|██████████| 378/378 [00:02<00:00, 173.59it/s]\n",
      "Training Epoch 521: 100%|██████████| 378/378 [00:02<00:00, 170.63it/s]\n"
     ]
    },
    {
     "name": "stdout",
     "output_type": "stream",
     "text": [
      "Epoch 520 - Train Loss: 0.6339, Train MSE: 0.6339, Train MAE: 0.5707\n",
      "Epoch 520 - Validation Loss: 1.5470, Validation MSE: 1.5494, Validation MAE: 0.8947\n"
     ]
    },
    {
     "name": "stderr",
     "output_type": "stream",
     "text": [
      "Training Epoch 522: 100%|██████████| 378/378 [00:02<00:00, 168.59it/s]\n",
      "Training Epoch 523: 100%|██████████| 378/378 [00:02<00:00, 171.96it/s]\n",
      "Training Epoch 524: 100%|██████████| 378/378 [00:02<00:00, 163.88it/s]\n",
      "Training Epoch 525: 100%|██████████| 378/378 [00:02<00:00, 172.64it/s]\n",
      "Training Epoch 526: 100%|██████████| 378/378 [00:02<00:00, 170.63it/s]\n",
      "Training Epoch 527: 100%|██████████| 378/378 [00:02<00:00, 170.70it/s]\n",
      "Training Epoch 528: 100%|██████████| 378/378 [00:02<00:00, 167.35it/s]\n",
      "Training Epoch 529: 100%|██████████| 378/378 [00:02<00:00, 170.67it/s]\n",
      "Training Epoch 530: 100%|██████████| 378/378 [00:02<00:00, 166.19it/s]\n",
      "Training Epoch 531: 100%|██████████| 378/378 [00:02<00:00, 167.60it/s]\n"
     ]
    },
    {
     "name": "stdout",
     "output_type": "stream",
     "text": [
      "Epoch 530 - Train Loss: 0.6264, Train MSE: 0.6264, Train MAE: 0.5705\n",
      "Epoch 530 - Validation Loss: 1.6005, Validation MSE: 1.6026, Validation MAE: 0.9142\n"
     ]
    },
    {
     "name": "stderr",
     "output_type": "stream",
     "text": [
      "Training Epoch 532: 100%|██████████| 378/378 [00:02<00:00, 169.69it/s]\n",
      "Training Epoch 533: 100%|██████████| 378/378 [00:02<00:00, 168.48it/s]\n",
      "Training Epoch 534: 100%|██████████| 378/378 [00:02<00:00, 170.25it/s]\n",
      "Training Epoch 535: 100%|██████████| 378/378 [00:02<00:00, 167.83it/s]\n",
      "Training Epoch 536: 100%|██████████| 378/378 [00:02<00:00, 173.90it/s]\n",
      "Training Epoch 537: 100%|██████████| 378/378 [00:02<00:00, 166.65it/s]\n",
      "Training Epoch 538: 100%|██████████| 378/378 [00:02<00:00, 167.18it/s]\n",
      "Training Epoch 539: 100%|██████████| 378/378 [00:02<00:00, 171.36it/s]\n",
      "Training Epoch 540: 100%|██████████| 378/378 [00:02<00:00, 169.06it/s]\n",
      "Training Epoch 541: 100%|██████████| 378/378 [00:02<00:00, 170.27it/s]\n"
     ]
    },
    {
     "name": "stdout",
     "output_type": "stream",
     "text": [
      "Epoch 540 - Train Loss: 0.6274, Train MSE: 0.6274, Train MAE: 0.5677\n",
      "Epoch 540 - Validation Loss: 1.6036, Validation MSE: 1.6069, Validation MAE: 0.9106\n"
     ]
    },
    {
     "name": "stderr",
     "output_type": "stream",
     "text": [
      "Training Epoch 542: 100%|██████████| 378/378 [00:02<00:00, 167.79it/s]\n",
      "Training Epoch 543: 100%|██████████| 378/378 [00:02<00:00, 170.25it/s]\n",
      "Training Epoch 544: 100%|██████████| 378/378 [00:02<00:00, 165.42it/s]\n",
      "Training Epoch 545: 100%|██████████| 378/378 [00:02<00:00, 170.71it/s]\n",
      "Training Epoch 546: 100%|██████████| 378/378 [00:02<00:00, 170.38it/s]\n",
      "Training Epoch 547: 100%|██████████| 378/378 [00:02<00:00, 171.75it/s]\n",
      "Training Epoch 548: 100%|██████████| 378/378 [00:02<00:00, 171.77it/s]\n",
      "Training Epoch 549: 100%|██████████| 378/378 [00:02<00:00, 168.55it/s]\n",
      "Training Epoch 550: 100%|██████████| 378/378 [00:02<00:00, 172.09it/s]\n",
      "Training Epoch 551: 100%|██████████| 378/378 [00:02<00:00, 166.11it/s]\n"
     ]
    },
    {
     "name": "stdout",
     "output_type": "stream",
     "text": [
      "Epoch 550 - Train Loss: 0.6204, Train MSE: 0.6204, Train MAE: 0.5690\n",
      "Epoch 550 - Validation Loss: 1.5529, Validation MSE: 1.5554, Validation MAE: 0.8942\n"
     ]
    },
    {
     "name": "stderr",
     "output_type": "stream",
     "text": [
      "Training Epoch 552: 100%|██████████| 378/378 [00:02<00:00, 172.82it/s]\n",
      "Training Epoch 553: 100%|██████████| 378/378 [00:02<00:00, 168.96it/s]\n",
      "Training Epoch 554: 100%|██████████| 378/378 [00:02<00:00, 170.91it/s]\n",
      "Training Epoch 555: 100%|██████████| 378/378 [00:02<00:00, 164.29it/s]\n",
      "Training Epoch 556: 100%|██████████| 378/378 [00:02<00:00, 169.72it/s]\n",
      "Training Epoch 557: 100%|██████████| 378/378 [00:02<00:00, 172.61it/s]\n",
      "Training Epoch 558: 100%|██████████| 378/378 [00:02<00:00, 171.37it/s]\n",
      "Training Epoch 559: 100%|██████████| 378/378 [00:02<00:00, 171.74it/s]\n",
      "Training Epoch 560: 100%|██████████| 378/378 [00:02<00:00, 169.72it/s]\n",
      "Training Epoch 561: 100%|██████████| 378/378 [00:02<00:00, 171.91it/s]\n"
     ]
    },
    {
     "name": "stdout",
     "output_type": "stream",
     "text": [
      "Epoch 560 - Train Loss: 0.6168, Train MSE: 0.6172, Train MAE: 0.5600\n",
      "Epoch 560 - Validation Loss: 1.5918, Validation MSE: 1.5944, Validation MAE: 0.9031\n"
     ]
    },
    {
     "name": "stderr",
     "output_type": "stream",
     "text": [
      "Training Epoch 562: 100%|██████████| 378/378 [00:02<00:00, 169.20it/s]\n",
      "Training Epoch 563: 100%|██████████| 378/378 [00:02<00:00, 175.31it/s]\n",
      "Training Epoch 564: 100%|██████████| 378/378 [00:02<00:00, 172.53it/s]\n",
      "Training Epoch 565: 100%|██████████| 378/378 [00:02<00:00, 167.54it/s]\n",
      "Training Epoch 566: 100%|██████████| 378/378 [00:02<00:00, 171.84it/s]\n",
      "Training Epoch 567: 100%|██████████| 378/378 [00:02<00:00, 169.48it/s]\n",
      "Training Epoch 568: 100%|██████████| 378/378 [00:02<00:00, 173.78it/s]\n",
      "Training Epoch 569: 100%|██████████| 378/378 [00:02<00:00, 171.67it/s]\n",
      "Training Epoch 570: 100%|██████████| 378/378 [00:02<00:00, 173.30it/s]\n",
      "Training Epoch 571: 100%|██████████| 378/378 [00:02<00:00, 167.92it/s]\n"
     ]
    },
    {
     "name": "stdout",
     "output_type": "stream",
     "text": [
      "Epoch 570 - Train Loss: 0.6208, Train MSE: 0.6209, Train MAE: 0.5663\n",
      "Epoch 570 - Validation Loss: 1.5547, Validation MSE: 1.5581, Validation MAE: 0.9001\n"
     ]
    },
    {
     "name": "stderr",
     "output_type": "stream",
     "text": [
      "Training Epoch 572: 100%|██████████| 378/378 [00:02<00:00, 169.08it/s]\n",
      "Training Epoch 573: 100%|██████████| 378/378 [00:02<00:00, 169.72it/s]\n",
      "Training Epoch 574: 100%|██████████| 378/378 [00:02<00:00, 166.78it/s]\n",
      "Training Epoch 575: 100%|██████████| 378/378 [00:02<00:00, 169.78it/s]\n",
      "Training Epoch 576: 100%|██████████| 378/378 [00:02<00:00, 168.10it/s]\n",
      "Training Epoch 577: 100%|██████████| 378/378 [00:02<00:00, 170.75it/s]\n",
      "Training Epoch 578: 100%|██████████| 378/378 [00:02<00:00, 168.07it/s]\n",
      "Training Epoch 579: 100%|██████████| 378/378 [00:02<00:00, 172.45it/s]\n",
      "Training Epoch 580: 100%|██████████| 378/378 [00:02<00:00, 169.80it/s]\n",
      "Training Epoch 581: 100%|██████████| 378/378 [00:02<00:00, 165.79it/s]\n"
     ]
    },
    {
     "name": "stdout",
     "output_type": "stream",
     "text": [
      "Epoch 580 - Train Loss: 0.6127, Train MSE: 0.6121, Train MAE: 0.5620\n",
      "Epoch 580 - Validation Loss: 1.5453, Validation MSE: 1.5468, Validation MAE: 0.8979\n"
     ]
    },
    {
     "name": "stderr",
     "output_type": "stream",
     "text": [
      "Training Epoch 582: 100%|██████████| 378/378 [00:02<00:00, 170.42it/s]\n",
      "Training Epoch 583: 100%|██████████| 378/378 [00:02<00:00, 169.65it/s]\n",
      "Training Epoch 584: 100%|██████████| 378/378 [00:02<00:00, 171.61it/s]\n",
      "Training Epoch 585: 100%|██████████| 378/378 [00:02<00:00, 166.27it/s]\n",
      "Training Epoch 586: 100%|██████████| 378/378 [00:02<00:00, 170.90it/s]\n",
      "Training Epoch 587: 100%|██████████| 378/378 [00:02<00:00, 169.70it/s]\n",
      "Training Epoch 588: 100%|██████████| 378/378 [00:02<00:00, 167.90it/s]\n",
      "Training Epoch 589: 100%|██████████| 378/378 [00:02<00:00, 170.98it/s]\n",
      "Training Epoch 590: 100%|██████████| 378/378 [00:02<00:00, 172.43it/s]\n",
      "Training Epoch 591: 100%|██████████| 378/378 [00:02<00:00, 170.71it/s]\n"
     ]
    },
    {
     "name": "stdout",
     "output_type": "stream",
     "text": [
      "Epoch 590 - Train Loss: 0.6212, Train MSE: 0.6216, Train MAE: 0.5642\n",
      "Epoch 590 - Validation Loss: 1.5583, Validation MSE: 1.5616, Validation MAE: 0.9059\n"
     ]
    },
    {
     "name": "stderr",
     "output_type": "stream",
     "text": [
      "Training Epoch 592: 100%|██████████| 378/378 [00:02<00:00, 167.12it/s]\n",
      "Training Epoch 593: 100%|██████████| 378/378 [00:02<00:00, 171.17it/s]\n",
      "Training Epoch 594: 100%|██████████| 378/378 [00:02<00:00, 166.57it/s]\n",
      "Training Epoch 595: 100%|██████████| 378/378 [00:02<00:00, 170.98it/s]\n",
      "Training Epoch 596: 100%|██████████| 378/378 [00:02<00:00, 170.78it/s]\n",
      "Training Epoch 597: 100%|██████████| 378/378 [00:02<00:00, 169.41it/s]\n",
      "Training Epoch 598: 100%|██████████| 378/378 [00:02<00:00, 170.65it/s]\n",
      "Training Epoch 599: 100%|██████████| 378/378 [00:02<00:00, 166.26it/s]\n",
      "Training Epoch 600: 100%|██████████| 378/378 [00:02<00:00, 169.94it/s]\n",
      "Training Epoch 601: 100%|██████████| 378/378 [00:02<00:00, 168.94it/s]\n"
     ]
    },
    {
     "name": "stdout",
     "output_type": "stream",
     "text": [
      "Epoch 600 - Train Loss: 0.6095, Train MSE: 0.6096, Train MAE: 0.5597\n",
      "Epoch 600 - Validation Loss: 1.5763, Validation MSE: 1.5783, Validation MAE: 0.9139\n"
     ]
    },
    {
     "name": "stderr",
     "output_type": "stream",
     "text": [
      "Training Epoch 602: 100%|██████████| 378/378 [00:02<00:00, 169.62it/s]\n",
      "Training Epoch 603: 100%|██████████| 378/378 [00:02<00:00, 167.62it/s]\n",
      "Training Epoch 604: 100%|██████████| 378/378 [00:02<00:00, 167.10it/s]\n",
      "Training Epoch 605: 100%|██████████| 378/378 [00:02<00:00, 170.94it/s]\n",
      "Training Epoch 606: 100%|██████████| 378/378 [00:02<00:00, 165.70it/s]\n",
      "Training Epoch 607: 100%|██████████| 378/378 [00:02<00:00, 170.23it/s]\n",
      "Training Epoch 608: 100%|██████████| 378/378 [00:02<00:00, 168.23it/s]\n",
      "Training Epoch 609: 100%|██████████| 378/378 [00:02<00:00, 170.94it/s]\n",
      "Training Epoch 610: 100%|██████████| 378/378 [00:02<00:00, 167.29it/s]\n",
      "Training Epoch 611: 100%|██████████| 378/378 [00:02<00:00, 171.29it/s]\n"
     ]
    },
    {
     "name": "stdout",
     "output_type": "stream",
     "text": [
      "Epoch 610 - Train Loss: 0.6215, Train MSE: 0.6216, Train MAE: 0.5634\n",
      "Epoch 610 - Validation Loss: 1.5732, Validation MSE: 1.5756, Validation MAE: 0.9062\n"
     ]
    },
    {
     "name": "stderr",
     "output_type": "stream",
     "text": [
      "Training Epoch 612: 100%|██████████| 378/378 [00:02<00:00, 170.50it/s]\n",
      "Training Epoch 613: 100%|██████████| 378/378 [00:02<00:00, 168.70it/s]\n",
      "Training Epoch 614: 100%|██████████| 378/378 [00:02<00:00, 171.67it/s]\n",
      "Training Epoch 615: 100%|██████████| 378/378 [00:02<00:00, 167.44it/s]\n",
      "Training Epoch 616: 100%|██████████| 378/378 [00:02<00:00, 170.95it/s]\n",
      "Training Epoch 617: 100%|██████████| 378/378 [00:02<00:00, 170.96it/s]\n",
      "Training Epoch 618: 100%|██████████| 378/378 [00:02<00:00, 171.74it/s]\n",
      "Training Epoch 619: 100%|██████████| 378/378 [00:02<00:00, 166.34it/s]\n",
      "Training Epoch 620: 100%|██████████| 378/378 [00:02<00:00, 169.56it/s]\n",
      "Training Epoch 621: 100%|██████████| 378/378 [00:02<00:00, 172.64it/s]\n"
     ]
    },
    {
     "name": "stdout",
     "output_type": "stream",
     "text": [
      "Epoch 620 - Train Loss: 0.6119, Train MSE: 0.6118, Train MAE: 0.5581\n",
      "Epoch 620 - Validation Loss: 1.5760, Validation MSE: 1.5793, Validation MAE: 0.8999\n"
     ]
    },
    {
     "name": "stderr",
     "output_type": "stream",
     "text": [
      "Training Epoch 622: 100%|██████████| 378/378 [00:02<00:00, 171.30it/s]\n",
      "Training Epoch 623: 100%|██████████| 378/378 [00:02<00:00, 171.44it/s]\n",
      "Training Epoch 624: 100%|██████████| 378/378 [00:02<00:00, 169.29it/s]\n",
      "Training Epoch 625: 100%|██████████| 378/378 [00:02<00:00, 170.35it/s]\n",
      "Training Epoch 626: 100%|██████████| 378/378 [00:02<00:00, 166.02it/s]\n",
      "Training Epoch 627: 100%|██████████| 378/378 [00:02<00:00, 171.16it/s]\n",
      "Training Epoch 628: 100%|██████████| 378/378 [00:02<00:00, 170.92it/s]\n",
      "Training Epoch 629: 100%|██████████| 378/378 [00:02<00:00, 172.96it/s]\n",
      "Training Epoch 630: 100%|██████████| 378/378 [00:02<00:00, 170.79it/s]\n",
      "Training Epoch 631: 100%|██████████| 378/378 [00:02<00:00, 168.70it/s]\n"
     ]
    },
    {
     "name": "stdout",
     "output_type": "stream",
     "text": [
      "Epoch 630 - Train Loss: 0.6040, Train MSE: 0.6038, Train MAE: 0.5568\n",
      "Epoch 630 - Validation Loss: 1.5801, Validation MSE: 1.5836, Validation MAE: 0.9101\n"
     ]
    },
    {
     "name": "stderr",
     "output_type": "stream",
     "text": [
      "Training Epoch 632: 100%|██████████| 378/378 [00:02<00:00, 169.56it/s]\n",
      "Training Epoch 633: 100%|██████████| 378/378 [00:02<00:00, 168.26it/s]\n",
      "Training Epoch 634: 100%|██████████| 378/378 [00:02<00:00, 172.18it/s]\n",
      "Training Epoch 635: 100%|██████████| 378/378 [00:02<00:00, 167.16it/s]\n",
      "Training Epoch 636: 100%|██████████| 378/378 [00:02<00:00, 170.45it/s]\n",
      "Training Epoch 637: 100%|██████████| 378/378 [00:02<00:00, 170.15it/s]\n",
      "Training Epoch 638: 100%|██████████| 378/378 [00:02<00:00, 169.11it/s]\n",
      "Training Epoch 639: 100%|██████████| 378/378 [00:02<00:00, 172.18it/s]\n",
      "Training Epoch 640: 100%|██████████| 378/378 [00:02<00:00, 166.26it/s]\n",
      "Training Epoch 641: 100%|██████████| 378/378 [00:02<00:00, 171.73it/s]\n"
     ]
    },
    {
     "name": "stdout",
     "output_type": "stream",
     "text": [
      "Epoch 640 - Train Loss: 0.6084, Train MSE: 0.6085, Train MAE: 0.5594\n",
      "Epoch 640 - Validation Loss: 1.5383, Validation MSE: 1.5409, Validation MAE: 0.8853\n"
     ]
    },
    {
     "name": "stderr",
     "output_type": "stream",
     "text": [
      "Training Epoch 642: 100%|██████████| 378/378 [00:02<00:00, 167.24it/s]\n",
      "Training Epoch 643: 100%|██████████| 378/378 [00:02<00:00, 171.92it/s]\n",
      "Training Epoch 644: 100%|██████████| 378/378 [00:02<00:00, 168.87it/s]\n",
      "Training Epoch 645: 100%|██████████| 378/378 [00:02<00:00, 169.16it/s]\n",
      "Training Epoch 646: 100%|██████████| 378/378 [00:02<00:00, 170.32it/s]\n",
      "Training Epoch 647: 100%|██████████| 378/378 [00:02<00:00, 165.30it/s]\n",
      "Training Epoch 648: 100%|██████████| 378/378 [00:02<00:00, 170.25it/s]\n",
      "Training Epoch 649: 100%|██████████| 378/378 [00:02<00:00, 170.29it/s]\n",
      "Training Epoch 650: 100%|██████████| 378/378 [00:02<00:00, 173.25it/s]\n",
      "Training Epoch 651: 100%|██████████| 378/378 [00:02<00:00, 168.18it/s]\n"
     ]
    },
    {
     "name": "stdout",
     "output_type": "stream",
     "text": [
      "Epoch 650 - Train Loss: 0.6098, Train MSE: 0.6098, Train MAE: 0.5579\n",
      "Epoch 650 - Validation Loss: 1.5821, Validation MSE: 1.5845, Validation MAE: 0.9022\n"
     ]
    },
    {
     "name": "stderr",
     "output_type": "stream",
     "text": [
      "Training Epoch 652: 100%|██████████| 378/378 [00:02<00:00, 171.44it/s]\n",
      "Training Epoch 653: 100%|██████████| 378/378 [00:02<00:00, 170.33it/s]\n",
      "Training Epoch 654: 100%|██████████| 378/378 [00:02<00:00, 167.58it/s]\n",
      "Training Epoch 655: 100%|██████████| 378/378 [00:02<00:00, 170.79it/s]\n",
      "Training Epoch 656: 100%|██████████| 378/378 [00:02<00:00, 168.85it/s]\n",
      "Training Epoch 657: 100%|██████████| 378/378 [00:02<00:00, 170.30it/s]\n",
      "Training Epoch 658: 100%|██████████| 378/378 [00:02<00:00, 166.81it/s]\n",
      "Training Epoch 659: 100%|██████████| 378/378 [00:02<00:00, 172.03it/s]\n",
      "Training Epoch 660: 100%|██████████| 378/378 [00:02<00:00, 168.49it/s]\n",
      "Training Epoch 661: 100%|██████████| 378/378 [00:02<00:00, 170.44it/s]\n"
     ]
    },
    {
     "name": "stdout",
     "output_type": "stream",
     "text": [
      "Epoch 660 - Train Loss: 0.6115, Train MSE: 0.6110, Train MAE: 0.5577\n",
      "Epoch 660 - Validation Loss: 1.5667, Validation MSE: 1.5690, Validation MAE: 0.9009\n"
     ]
    },
    {
     "name": "stderr",
     "output_type": "stream",
     "text": [
      "Training Epoch 662: 100%|██████████| 378/378 [00:02<00:00, 167.27it/s]\n",
      "Training Epoch 663: 100%|██████████| 378/378 [00:02<00:00, 167.89it/s]\n",
      "Training Epoch 664: 100%|██████████| 378/378 [00:02<00:00, 170.23it/s]\n",
      "Training Epoch 665: 100%|██████████| 378/378 [00:02<00:00, 170.25it/s]\n",
      "Training Epoch 666: 100%|██████████| 378/378 [00:02<00:00, 171.16it/s]\n",
      "Training Epoch 667: 100%|██████████| 378/378 [00:02<00:00, 164.98it/s]\n",
      "Training Epoch 668: 100%|██████████| 378/378 [00:02<00:00, 169.98it/s]\n",
      "Training Epoch 669: 100%|██████████| 378/378 [00:02<00:00, 167.21it/s]\n",
      "Training Epoch 670: 100%|██████████| 378/378 [00:02<00:00, 170.73it/s]\n",
      "Training Epoch 671: 100%|██████████| 378/378 [00:02<00:00, 174.91it/s]\n"
     ]
    },
    {
     "name": "stdout",
     "output_type": "stream",
     "text": [
      "Epoch 670 - Train Loss: 0.5970, Train MSE: 0.5972, Train MAE: 0.5521\n",
      "Epoch 670 - Validation Loss: 1.5806, Validation MSE: 1.5829, Validation MAE: 0.8938\n"
     ]
    },
    {
     "name": "stderr",
     "output_type": "stream",
     "text": [
      "Training Epoch 672: 100%|██████████| 378/378 [00:02<00:00, 169.83it/s]\n",
      "Training Epoch 673: 100%|██████████| 378/378 [00:02<00:00, 171.23it/s]\n",
      "Training Epoch 674: 100%|██████████| 378/378 [00:02<00:00, 158.80it/s]\n",
      "Training Epoch 675: 100%|██████████| 378/378 [00:02<00:00, 172.32it/s]\n",
      "Training Epoch 676: 100%|██████████| 378/378 [00:02<00:00, 170.98it/s]\n",
      "Training Epoch 677: 100%|██████████| 378/378 [00:02<00:00, 170.69it/s]\n",
      "Training Epoch 678: 100%|██████████| 378/378 [00:02<00:00, 167.73it/s]\n",
      "Training Epoch 679: 100%|██████████| 378/378 [00:02<00:00, 169.50it/s]\n",
      "Training Epoch 680: 100%|██████████| 378/378 [00:02<00:00, 171.50it/s]\n",
      "Training Epoch 681: 100%|██████████| 378/378 [00:02<00:00, 168.60it/s]\n"
     ]
    },
    {
     "name": "stdout",
     "output_type": "stream",
     "text": [
      "Epoch 680 - Train Loss: 0.6069, Train MSE: 0.6070, Train MAE: 0.5544\n",
      "Epoch 680 - Validation Loss: 1.5215, Validation MSE: 1.5242, Validation MAE: 0.8851\n"
     ]
    },
    {
     "name": "stderr",
     "output_type": "stream",
     "text": [
      "Training Epoch 682: 100%|██████████| 378/378 [00:02<00:00, 173.56it/s]\n",
      "Training Epoch 683: 100%|██████████| 378/378 [00:02<00:00, 167.07it/s]\n",
      "Training Epoch 684: 100%|██████████| 378/378 [00:02<00:00, 171.64it/s]\n",
      "Training Epoch 685: 100%|██████████| 378/378 [00:02<00:00, 171.53it/s]\n",
      "Training Epoch 686: 100%|██████████| 378/378 [00:02<00:00, 171.37it/s]\n",
      "Training Epoch 687: 100%|██████████| 378/378 [00:02<00:00, 173.02it/s]\n",
      "Training Epoch 688: 100%|██████████| 378/378 [00:02<00:00, 166.07it/s]\n",
      "Training Epoch 689: 100%|██████████| 378/378 [00:02<00:00, 172.03it/s]\n",
      "Training Epoch 690: 100%|██████████| 378/378 [00:02<00:00, 168.99it/s]\n",
      "Training Epoch 691: 100%|██████████| 378/378 [00:02<00:00, 172.77it/s]\n"
     ]
    },
    {
     "name": "stdout",
     "output_type": "stream",
     "text": [
      "Epoch 690 - Train Loss: 0.6100, Train MSE: 0.6098, Train MAE: 0.5535\n",
      "Epoch 690 - Validation Loss: 1.5475, Validation MSE: 1.5505, Validation MAE: 0.8888\n"
     ]
    },
    {
     "name": "stderr",
     "output_type": "stream",
     "text": [
      "Training Epoch 692: 100%|██████████| 378/378 [00:02<00:00, 172.80it/s]\n",
      "Training Epoch 693: 100%|██████████| 378/378 [00:02<00:00, 171.63it/s]\n",
      "Training Epoch 694: 100%|██████████| 378/378 [00:02<00:00, 166.54it/s]\n",
      "Training Epoch 695: 100%|██████████| 378/378 [00:02<00:00, 169.22it/s]\n",
      "Training Epoch 696: 100%|██████████| 378/378 [00:02<00:00, 172.88it/s]\n",
      "Training Epoch 697: 100%|██████████| 378/378 [00:02<00:00, 169.59it/s]\n",
      "Training Epoch 698: 100%|██████████| 378/378 [00:02<00:00, 174.45it/s]\n",
      "Training Epoch 699: 100%|██████████| 378/378 [00:02<00:00, 169.67it/s]\n",
      "Training Epoch 700: 100%|██████████| 378/378 [00:02<00:00, 171.91it/s]\n",
      "Training Epoch 701: 100%|██████████| 378/378 [00:02<00:00, 167.02it/s]\n"
     ]
    },
    {
     "name": "stdout",
     "output_type": "stream",
     "text": [
      "Epoch 700 - Train Loss: 0.5889, Train MSE: 0.5887, Train MAE: 0.5462\n",
      "Epoch 700 - Validation Loss: 1.5790, Validation MSE: 1.5818, Validation MAE: 0.8978\n"
     ]
    },
    {
     "name": "stderr",
     "output_type": "stream",
     "text": [
      "Training Epoch 702: 100%|██████████| 378/378 [00:02<00:00, 172.98it/s]\n",
      "Training Epoch 703: 100%|██████████| 378/378 [00:02<00:00, 173.49it/s]\n",
      "Training Epoch 704: 100%|██████████| 378/378 [00:02<00:00, 172.31it/s]\n",
      "Training Epoch 705: 100%|██████████| 378/378 [00:02<00:00, 168.45it/s]\n",
      "Training Epoch 706: 100%|██████████| 378/378 [00:02<00:00, 170.79it/s]\n",
      "Training Epoch 707: 100%|██████████| 378/378 [00:02<00:00, 171.11it/s]\n",
      "Training Epoch 708: 100%|██████████| 378/378 [00:02<00:00, 168.01it/s]\n",
      "Training Epoch 709: 100%|██████████| 378/378 [00:02<00:00, 169.85it/s]\n",
      "Training Epoch 710: 100%|██████████| 378/378 [00:02<00:00, 170.54it/s]\n",
      "Training Epoch 711: 100%|██████████| 378/378 [00:02<00:00, 172.50it/s]\n"
     ]
    },
    {
     "name": "stdout",
     "output_type": "stream",
     "text": [
      "Epoch 710 - Train Loss: 0.5944, Train MSE: 0.5941, Train MAE: 0.5471\n",
      "Epoch 710 - Validation Loss: 1.5427, Validation MSE: 1.5450, Validation MAE: 0.8882\n"
     ]
    },
    {
     "name": "stderr",
     "output_type": "stream",
     "text": [
      "Training Epoch 712: 100%|██████████| 378/378 [00:02<00:00, 170.62it/s]\n",
      "Training Epoch 713: 100%|██████████| 378/378 [00:02<00:00, 166.12it/s]\n",
      "Training Epoch 714: 100%|██████████| 378/378 [00:02<00:00, 173.82it/s]\n",
      "Training Epoch 715: 100%|██████████| 378/378 [00:02<00:00, 166.34it/s]\n",
      "Training Epoch 716: 100%|██████████| 378/378 [00:02<00:00, 172.19it/s]\n",
      "Training Epoch 717: 100%|██████████| 378/378 [00:02<00:00, 168.29it/s]\n",
      "Training Epoch 718: 100%|██████████| 378/378 [00:02<00:00, 172.27it/s]\n",
      "Training Epoch 719: 100%|██████████| 378/378 [00:02<00:00, 170.87it/s]\n",
      "Training Epoch 720: 100%|██████████| 378/378 [00:02<00:00, 171.12it/s]\n",
      "Training Epoch 721: 100%|██████████| 378/378 [00:02<00:00, 169.18it/s]\n"
     ]
    },
    {
     "name": "stdout",
     "output_type": "stream",
     "text": [
      "Epoch 720 - Train Loss: 0.5927, Train MSE: 0.5930, Train MAE: 0.5482\n",
      "Epoch 720 - Validation Loss: 1.5464, Validation MSE: 1.5490, Validation MAE: 0.8862\n"
     ]
    },
    {
     "name": "stderr",
     "output_type": "stream",
     "text": [
      "Training Epoch 722: 100%|██████████| 378/378 [00:02<00:00, 169.12it/s]\n",
      "Training Epoch 723: 100%|██████████| 378/378 [00:02<00:00, 170.88it/s]\n",
      "Training Epoch 724: 100%|██████████| 378/378 [00:02<00:00, 168.45it/s]\n",
      "Training Epoch 725: 100%|██████████| 378/378 [00:02<00:00, 175.71it/s]\n",
      "Training Epoch 726: 100%|██████████| 378/378 [00:02<00:00, 168.38it/s]\n",
      "Training Epoch 727: 100%|██████████| 378/378 [00:02<00:00, 172.72it/s]\n",
      "Training Epoch 728: 100%|██████████| 378/378 [00:02<00:00, 165.65it/s]\n",
      "Training Epoch 729: 100%|██████████| 378/378 [00:02<00:00, 167.77it/s]\n",
      "Training Epoch 730: 100%|██████████| 378/378 [00:02<00:00, 172.96it/s]\n",
      "Training Epoch 731: 100%|██████████| 378/378 [00:02<00:00, 169.65it/s]\n"
     ]
    },
    {
     "name": "stdout",
     "output_type": "stream",
     "text": [
      "Epoch 730 - Train Loss: 0.5942, Train MSE: 0.5943, Train MAE: 0.5481\n",
      "Epoch 730 - Validation Loss: 1.5865, Validation MSE: 1.5883, Validation MAE: 0.9057\n"
     ]
    },
    {
     "name": "stderr",
     "output_type": "stream",
     "text": [
      "Training Epoch 732: 100%|██████████| 378/378 [00:02<00:00, 171.59it/s]\n",
      "Training Epoch 733: 100%|██████████| 378/378 [00:02<00:00, 168.44it/s]\n",
      "Training Epoch 734: 100%|██████████| 378/378 [00:02<00:00, 171.61it/s]\n",
      "Training Epoch 735: 100%|██████████| 378/378 [00:02<00:00, 162.00it/s]\n",
      "Training Epoch 736: 100%|██████████| 378/378 [00:02<00:00, 172.49it/s]\n",
      "Training Epoch 737: 100%|██████████| 378/378 [00:02<00:00, 170.46it/s]\n",
      "Training Epoch 738: 100%|██████████| 378/378 [00:02<00:00, 173.19it/s]\n",
      "Training Epoch 739: 100%|██████████| 378/378 [00:02<00:00, 169.91it/s]\n",
      "Training Epoch 740: 100%|██████████| 378/378 [00:02<00:00, 168.38it/s]\n",
      "Training Epoch 741: 100%|██████████| 378/378 [00:02<00:00, 173.60it/s]\n"
     ]
    },
    {
     "name": "stdout",
     "output_type": "stream",
     "text": [
      "Epoch 740 - Train Loss: 0.5968, Train MSE: 0.5971, Train MAE: 0.5479\n",
      "Epoch 740 - Validation Loss: 1.5506, Validation MSE: 1.5533, Validation MAE: 0.8952\n"
     ]
    },
    {
     "name": "stderr",
     "output_type": "stream",
     "text": [
      "Training Epoch 742: 100%|██████████| 378/378 [00:02<00:00, 164.20it/s]\n",
      "Training Epoch 743: 100%|██████████| 378/378 [00:02<00:00, 171.73it/s]\n",
      "Training Epoch 744: 100%|██████████| 378/378 [00:02<00:00, 170.21it/s]\n",
      "Training Epoch 745: 100%|██████████| 378/378 [00:02<00:00, 171.19it/s]\n",
      "Training Epoch 746: 100%|██████████| 378/378 [00:02<00:00, 171.96it/s]\n",
      "Training Epoch 747: 100%|██████████| 378/378 [00:02<00:00, 169.42it/s]\n",
      "Training Epoch 748: 100%|██████████| 378/378 [00:02<00:00, 171.97it/s]\n",
      "Training Epoch 749: 100%|██████████| 378/378 [00:02<00:00, 166.17it/s]\n",
      "Training Epoch 750: 100%|██████████| 378/378 [00:02<00:00, 172.86it/s]\n",
      "Training Epoch 751: 100%|██████████| 378/378 [00:02<00:00, 168.96it/s]\n"
     ]
    },
    {
     "name": "stdout",
     "output_type": "stream",
     "text": [
      "Epoch 750 - Train Loss: 0.5927, Train MSE: 0.5925, Train MAE: 0.5453\n",
      "Epoch 750 - Validation Loss: 1.5611, Validation MSE: 1.5643, Validation MAE: 0.9016\n"
     ]
    },
    {
     "name": "stderr",
     "output_type": "stream",
     "text": [
      "Training Epoch 752: 100%|██████████| 378/378 [00:02<00:00, 173.36it/s]\n",
      "Training Epoch 753: 100%|██████████| 378/378 [00:02<00:00, 169.05it/s]\n",
      "Training Epoch 754: 100%|██████████| 378/378 [00:02<00:00, 173.32it/s]\n",
      "Training Epoch 755: 100%|██████████| 378/378 [00:02<00:00, 167.45it/s]\n",
      "Training Epoch 756: 100%|██████████| 378/378 [00:02<00:00, 130.80it/s]\n",
      "Training Epoch 757: 100%|██████████| 378/378 [00:02<00:00, 165.23it/s]\n",
      "Training Epoch 758: 100%|██████████| 378/378 [00:02<00:00, 171.42it/s]\n",
      "Training Epoch 759: 100%|██████████| 378/378 [00:02<00:00, 173.69it/s]\n",
      "Training Epoch 760: 100%|██████████| 378/378 [00:02<00:00, 167.64it/s]\n",
      "Training Epoch 761: 100%|██████████| 378/378 [00:02<00:00, 175.14it/s]\n"
     ]
    },
    {
     "name": "stdout",
     "output_type": "stream",
     "text": [
      "Epoch 760 - Train Loss: 0.6023, Train MSE: 0.6024, Train MAE: 0.5489\n",
      "Epoch 760 - Validation Loss: 1.5591, Validation MSE: 1.5616, Validation MAE: 0.8965\n"
     ]
    },
    {
     "name": "stderr",
     "output_type": "stream",
     "text": [
      "Training Epoch 762: 100%|██████████| 378/378 [00:02<00:00, 173.61it/s]\n",
      "Training Epoch 763: 100%|██████████| 378/378 [00:02<00:00, 169.24it/s]\n",
      "Training Epoch 764: 100%|██████████| 378/378 [00:02<00:00, 169.57it/s]\n",
      "Training Epoch 765: 100%|██████████| 378/378 [00:02<00:00, 169.60it/s]\n",
      "Training Epoch 766: 100%|██████████| 378/378 [00:02<00:00, 174.51it/s]\n",
      "Training Epoch 767: 100%|██████████| 378/378 [00:02<00:00, 169.46it/s]\n",
      "Training Epoch 768: 100%|██████████| 378/378 [00:02<00:00, 174.19it/s]\n",
      "Training Epoch 769: 100%|██████████| 378/378 [00:02<00:00, 169.39it/s]\n",
      "Training Epoch 770: 100%|██████████| 378/378 [00:02<00:00, 171.07it/s]\n",
      "Training Epoch 771: 100%|██████████| 378/378 [00:02<00:00, 168.35it/s]\n"
     ]
    },
    {
     "name": "stdout",
     "output_type": "stream",
     "text": [
      "Epoch 770 - Train Loss: 0.5924, Train MSE: 0.5924, Train MAE: 0.5463\n",
      "Epoch 770 - Validation Loss: 1.5677, Validation MSE: 1.5707, Validation MAE: 0.9007\n"
     ]
    },
    {
     "name": "stderr",
     "output_type": "stream",
     "text": [
      "Training Epoch 772: 100%|██████████| 378/378 [00:02<00:00, 171.86it/s]\n",
      "Training Epoch 773: 100%|██████████| 378/378 [00:02<00:00, 172.06it/s]\n",
      "Training Epoch 774: 100%|██████████| 378/378 [00:02<00:00, 172.80it/s]\n",
      "Training Epoch 775: 100%|██████████| 378/378 [00:02<00:00, 169.59it/s]\n",
      "Training Epoch 776: 100%|██████████| 378/378 [00:02<00:00, 167.20it/s]\n",
      "Training Epoch 777: 100%|██████████| 378/378 [00:02<00:00, 173.18it/s]\n",
      "Training Epoch 778: 100%|██████████| 378/378 [00:02<00:00, 170.22it/s]\n",
      "Training Epoch 779: 100%|██████████| 378/378 [00:02<00:00, 174.50it/s]\n",
      "Training Epoch 780: 100%|██████████| 378/378 [00:02<00:00, 169.59it/s]\n",
      "Training Epoch 781: 100%|██████████| 378/378 [00:02<00:00, 172.17it/s]\n"
     ]
    },
    {
     "name": "stdout",
     "output_type": "stream",
     "text": [
      "Epoch 780 - Train Loss: 0.5906, Train MSE: 0.5903, Train MAE: 0.5475\n",
      "Epoch 780 - Validation Loss: 1.5921, Validation MSE: 1.5957, Validation MAE: 0.9060\n"
     ]
    },
    {
     "name": "stderr",
     "output_type": "stream",
     "text": [
      "Training Epoch 782: 100%|██████████| 378/378 [00:02<00:00, 170.07it/s]\n",
      "Training Epoch 783: 100%|██████████| 378/378 [00:02<00:00, 168.07it/s]\n",
      "Training Epoch 784: 100%|██████████| 378/378 [00:02<00:00, 176.21it/s]\n",
      "Training Epoch 785: 100%|██████████| 378/378 [00:02<00:00, 169.29it/s]\n",
      "Training Epoch 786: 100%|██████████| 378/378 [00:02<00:00, 170.58it/s]\n",
      "Training Epoch 787: 100%|██████████| 378/378 [00:02<00:00, 170.09it/s]\n",
      "Training Epoch 788: 100%|██████████| 378/378 [00:02<00:00, 172.96it/s]\n",
      "Training Epoch 789: 100%|██████████| 378/378 [00:02<00:00, 172.62it/s]\n",
      "Training Epoch 790: 100%|██████████| 378/378 [00:02<00:00, 168.95it/s]\n",
      "Training Epoch 791: 100%|██████████| 378/378 [00:02<00:00, 169.85it/s]\n"
     ]
    },
    {
     "name": "stdout",
     "output_type": "stream",
     "text": [
      "Epoch 790 - Train Loss: 0.5943, Train MSE: 0.5940, Train MAE: 0.5484\n",
      "Epoch 790 - Validation Loss: 1.5381, Validation MSE: 1.5405, Validation MAE: 0.8842\n"
     ]
    },
    {
     "name": "stderr",
     "output_type": "stream",
     "text": [
      "Training Epoch 792: 100%|██████████| 378/378 [00:02<00:00, 170.11it/s]\n",
      "Training Epoch 793: 100%|██████████| 378/378 [00:02<00:00, 170.85it/s]\n",
      "Training Epoch 794: 100%|██████████| 378/378 [00:02<00:00, 168.62it/s]\n",
      "Training Epoch 795: 100%|██████████| 378/378 [00:02<00:00, 174.15it/s]\n",
      "Training Epoch 796: 100%|██████████| 378/378 [00:02<00:00, 170.06it/s]\n",
      "Training Epoch 797: 100%|██████████| 378/378 [00:02<00:00, 168.96it/s]\n",
      "Training Epoch 798: 100%|██████████| 378/378 [00:02<00:00, 168.72it/s]\n",
      "Training Epoch 799: 100%|██████████| 378/378 [00:02<00:00, 172.50it/s]\n",
      "Training Epoch 800: 100%|██████████| 378/378 [00:02<00:00, 171.68it/s]\n",
      "Training Epoch 801: 100%|██████████| 378/378 [00:02<00:00, 169.44it/s]\n"
     ]
    },
    {
     "name": "stdout",
     "output_type": "stream",
     "text": [
      "Epoch 800 - Train Loss: 0.5773, Train MSE: 0.5775, Train MAE: 0.5395\n",
      "Epoch 800 - Validation Loss: 1.5511, Validation MSE: 1.5531, Validation MAE: 0.8998\n"
     ]
    },
    {
     "name": "stderr",
     "output_type": "stream",
     "text": [
      "Training Epoch 802: 100%|██████████| 378/378 [00:02<00:00, 174.37it/s]\n",
      "Training Epoch 803: 100%|██████████| 378/378 [00:02<00:00, 169.45it/s]\n",
      "Training Epoch 804: 100%|██████████| 378/378 [00:02<00:00, 169.00it/s]\n",
      "Training Epoch 805: 100%|██████████| 378/378 [00:02<00:00, 171.52it/s]\n",
      "Training Epoch 806: 100%|██████████| 378/378 [00:02<00:00, 172.37it/s]\n",
      "Training Epoch 807: 100%|██████████| 378/378 [00:02<00:00, 169.34it/s]\n",
      "Training Epoch 808: 100%|██████████| 378/378 [00:02<00:00, 171.72it/s]\n",
      "Training Epoch 809: 100%|██████████| 378/378 [00:02<00:00, 168.47it/s]\n",
      "Training Epoch 810: 100%|██████████| 378/378 [00:02<00:00, 170.22it/s]\n",
      "Training Epoch 811: 100%|██████████| 378/378 [00:02<00:00, 171.13it/s]\n"
     ]
    },
    {
     "name": "stdout",
     "output_type": "stream",
     "text": [
      "Epoch 810 - Train Loss: 0.5858, Train MSE: 0.5856, Train MAE: 0.5430\n",
      "Epoch 810 - Validation Loss: 1.5326, Validation MSE: 1.5344, Validation MAE: 0.8931\n"
     ]
    },
    {
     "name": "stderr",
     "output_type": "stream",
     "text": [
      "Training Epoch 812: 100%|██████████| 378/378 [00:02<00:00, 167.48it/s]\n",
      "Training Epoch 813: 100%|██████████| 378/378 [00:02<00:00, 171.77it/s]\n",
      "Training Epoch 814: 100%|██████████| 378/378 [00:02<00:00, 169.68it/s]\n",
      "Training Epoch 815: 100%|██████████| 378/378 [00:02<00:00, 170.66it/s]\n",
      "Training Epoch 816: 100%|██████████| 378/378 [00:02<00:00, 171.15it/s]\n",
      "Training Epoch 817: 100%|██████████| 378/378 [00:02<00:00, 171.62it/s]\n",
      "Training Epoch 818: 100%|██████████| 378/378 [00:02<00:00, 167.31it/s]\n",
      "Training Epoch 819: 100%|██████████| 378/378 [00:02<00:00, 170.06it/s]\n",
      "Training Epoch 820: 100%|██████████| 378/378 [00:02<00:00, 171.32it/s]\n",
      "Training Epoch 821: 100%|██████████| 378/378 [00:02<00:00, 169.17it/s]\n"
     ]
    },
    {
     "name": "stdout",
     "output_type": "stream",
     "text": [
      "Epoch 820 - Train Loss: 0.5877, Train MSE: 0.5880, Train MAE: 0.5407\n",
      "Epoch 820 - Validation Loss: 1.5650, Validation MSE: 1.5680, Validation MAE: 0.9012\n"
     ]
    },
    {
     "name": "stderr",
     "output_type": "stream",
     "text": [
      "Training Epoch 822: 100%|██████████| 378/378 [00:02<00:00, 172.61it/s]\n",
      "Training Epoch 823: 100%|██████████| 378/378 [00:02<00:00, 168.92it/s]\n",
      "Training Epoch 824: 100%|██████████| 378/378 [00:02<00:00, 168.57it/s]\n",
      "Training Epoch 825: 100%|██████████| 378/378 [00:02<00:00, 165.97it/s]\n",
      "Training Epoch 826: 100%|██████████| 378/378 [00:02<00:00, 169.42it/s]\n",
      "Training Epoch 827: 100%|██████████| 378/378 [00:02<00:00, 174.38it/s]\n",
      "Training Epoch 828: 100%|██████████| 378/378 [00:02<00:00, 171.35it/s]\n",
      "Training Epoch 829: 100%|██████████| 378/378 [00:02<00:00, 172.06it/s]\n",
      "Training Epoch 830: 100%|██████████| 378/378 [00:02<00:00, 168.73it/s]\n",
      "Training Epoch 831: 100%|██████████| 378/378 [00:02<00:00, 167.20it/s]\n"
     ]
    },
    {
     "name": "stdout",
     "output_type": "stream",
     "text": [
      "Epoch 830 - Train Loss: 0.5806, Train MSE: 0.5808, Train MAE: 0.5389\n",
      "Epoch 830 - Validation Loss: 1.5218, Validation MSE: 1.5239, Validation MAE: 0.8836\n"
     ]
    },
    {
     "name": "stderr",
     "output_type": "stream",
     "text": [
      "Training Epoch 832: 100%|██████████| 378/378 [00:02<00:00, 170.72it/s]\n",
      "Training Epoch 833: 100%|██████████| 378/378 [00:02<00:00, 172.73it/s]\n",
      "Training Epoch 834: 100%|██████████| 378/378 [00:02<00:00, 169.15it/s]\n",
      "Training Epoch 835: 100%|██████████| 378/378 [00:02<00:00, 173.26it/s]\n",
      "Training Epoch 836: 100%|██████████| 378/378 [00:02<00:00, 168.79it/s]\n",
      "Training Epoch 837: 100%|██████████| 378/378 [00:02<00:00, 166.76it/s]\n",
      "Training Epoch 838: 100%|██████████| 378/378 [00:02<00:00, 171.94it/s]\n",
      "Training Epoch 839: 100%|██████████| 378/378 [00:02<00:00, 169.50it/s]\n",
      "Training Epoch 840: 100%|██████████| 378/378 [00:02<00:00, 173.71it/s]\n",
      "Training Epoch 841: 100%|██████████| 378/378 [00:02<00:00, 169.22it/s]\n"
     ]
    },
    {
     "name": "stdout",
     "output_type": "stream",
     "text": [
      "Epoch 840 - Train Loss: 0.5859, Train MSE: 0.5861, Train MAE: 0.5407\n",
      "Epoch 840 - Validation Loss: 1.5863, Validation MSE: 1.5888, Validation MAE: 0.9008\n"
     ]
    },
    {
     "name": "stderr",
     "output_type": "stream",
     "text": [
      "Training Epoch 842: 100%|██████████| 378/378 [00:02<00:00, 171.48it/s]\n",
      "Training Epoch 843: 100%|██████████| 378/378 [00:02<00:00, 172.88it/s]\n",
      "Training Epoch 844: 100%|██████████| 378/378 [00:02<00:00, 170.17it/s]\n",
      "Training Epoch 845: 100%|██████████| 378/378 [00:02<00:00, 167.57it/s]\n",
      "Training Epoch 846: 100%|██████████| 378/378 [00:02<00:00, 168.02it/s]\n",
      "Training Epoch 847: 100%|██████████| 378/378 [00:02<00:00, 171.26it/s]\n",
      "Training Epoch 848: 100%|██████████| 378/378 [00:02<00:00, 169.07it/s]\n",
      "Training Epoch 849: 100%|██████████| 378/378 [00:02<00:00, 173.23it/s]\n",
      "Training Epoch 850: 100%|██████████| 378/378 [00:02<00:00, 165.92it/s]\n",
      "Training Epoch 851: 100%|██████████| 378/378 [00:02<00:00, 169.93it/s]\n"
     ]
    },
    {
     "name": "stdout",
     "output_type": "stream",
     "text": [
      "Epoch 850 - Train Loss: 0.5731, Train MSE: 0.5732, Train MAE: 0.5365\n",
      "Epoch 850 - Validation Loss: 1.5955, Validation MSE: 1.5983, Validation MAE: 0.9127\n"
     ]
    },
    {
     "name": "stderr",
     "output_type": "stream",
     "text": [
      "Training Epoch 852: 100%|██████████| 378/378 [00:02<00:00, 165.56it/s]\n",
      "Training Epoch 853: 100%|██████████| 378/378 [00:02<00:00, 168.86it/s]\n",
      "Training Epoch 854: 100%|██████████| 378/378 [00:02<00:00, 173.53it/s]\n",
      "Training Epoch 855: 100%|██████████| 378/378 [00:02<00:00, 168.59it/s]\n",
      "Training Epoch 856: 100%|██████████| 378/378 [00:02<00:00, 171.27it/s]\n",
      "Training Epoch 857: 100%|██████████| 378/378 [00:02<00:00, 167.04it/s]\n",
      "Training Epoch 858: 100%|██████████| 378/378 [00:02<00:00, 169.88it/s]\n",
      "Training Epoch 859: 100%|██████████| 378/378 [00:02<00:00, 169.95it/s]\n",
      "Training Epoch 860: 100%|██████████| 378/378 [00:02<00:00, 173.57it/s]\n",
      "Training Epoch 861: 100%|██████████| 378/378 [00:02<00:00, 167.69it/s]\n"
     ]
    },
    {
     "name": "stdout",
     "output_type": "stream",
     "text": [
      "Epoch 860 - Train Loss: 0.5780, Train MSE: 0.5781, Train MAE: 0.5372\n",
      "Epoch 860 - Validation Loss: 1.5640, Validation MSE: 1.5668, Validation MAE: 0.8926\n"
     ]
    },
    {
     "name": "stderr",
     "output_type": "stream",
     "text": [
      "Training Epoch 862: 100%|██████████| 378/378 [00:02<00:00, 169.17it/s]\n",
      "Training Epoch 863: 100%|██████████| 378/378 [00:02<00:00, 169.40it/s]\n",
      "Training Epoch 864: 100%|██████████| 378/378 [00:02<00:00, 169.51it/s]\n",
      "Training Epoch 865: 100%|██████████| 378/378 [00:02<00:00, 171.46it/s]\n",
      "Training Epoch 866: 100%|██████████| 378/378 [00:02<00:00, 167.95it/s]\n",
      "Training Epoch 867: 100%|██████████| 378/378 [00:02<00:00, 169.86it/s]\n",
      "Training Epoch 868: 100%|██████████| 378/378 [00:02<00:00, 167.50it/s]\n",
      "Training Epoch 869: 100%|██████████| 378/378 [00:02<00:00, 170.14it/s]\n",
      "Training Epoch 870: 100%|██████████| 378/378 [00:02<00:00, 176.85it/s]\n",
      "Training Epoch 871: 100%|██████████| 378/378 [00:02<00:00, 168.36it/s]\n"
     ]
    },
    {
     "name": "stdout",
     "output_type": "stream",
     "text": [
      "Epoch 870 - Train Loss: 0.5734, Train MSE: 0.5732, Train MAE: 0.5356\n",
      "Epoch 870 - Validation Loss: 1.5662, Validation MSE: 1.5695, Validation MAE: 0.8981\n"
     ]
    },
    {
     "name": "stderr",
     "output_type": "stream",
     "text": [
      "Training Epoch 872: 100%|██████████| 378/378 [00:02<00:00, 169.81it/s]\n",
      "Training Epoch 873: 100%|██████████| 378/378 [00:02<00:00, 167.69it/s]\n",
      "Training Epoch 874: 100%|██████████| 378/378 [00:02<00:00, 172.54it/s]\n",
      "Training Epoch 875: 100%|██████████| 378/378 [00:02<00:00, 168.67it/s]\n",
      "Training Epoch 876: 100%|██████████| 378/378 [00:02<00:00, 174.62it/s]\n",
      "Training Epoch 877: 100%|██████████| 378/378 [00:02<00:00, 168.02it/s]\n",
      "Training Epoch 878: 100%|██████████| 378/378 [00:02<00:00, 168.52it/s]\n",
      "Training Epoch 879: 100%|██████████| 378/378 [00:02<00:00, 170.51it/s]\n",
      "Training Epoch 880: 100%|██████████| 378/378 [00:02<00:00, 168.40it/s]\n",
      "Training Epoch 881: 100%|██████████| 378/378 [00:02<00:00, 175.48it/s]\n"
     ]
    },
    {
     "name": "stdout",
     "output_type": "stream",
     "text": [
      "Epoch 880 - Train Loss: 0.5832, Train MSE: 0.5833, Train MAE: 0.5424\n",
      "Epoch 880 - Validation Loss: 1.5341, Validation MSE: 1.5360, Validation MAE: 0.8903\n"
     ]
    },
    {
     "name": "stderr",
     "output_type": "stream",
     "text": [
      "Training Epoch 882: 100%|██████████| 378/378 [00:02<00:00, 171.62it/s]\n",
      "Training Epoch 883: 100%|██████████| 378/378 [00:02<00:00, 170.13it/s]\n",
      "Training Epoch 884: 100%|██████████| 378/378 [00:02<00:00, 168.65it/s]\n",
      "Training Epoch 885: 100%|██████████| 378/378 [00:02<00:00, 171.74it/s]\n",
      "Training Epoch 886: 100%|██████████| 378/378 [00:02<00:00, 167.99it/s]\n",
      "Training Epoch 887: 100%|██████████| 378/378 [00:02<00:00, 168.77it/s]\n",
      "Training Epoch 888: 100%|██████████| 378/378 [00:02<00:00, 169.64it/s]\n",
      "Training Epoch 889: 100%|██████████| 378/378 [00:02<00:00, 165.78it/s]\n",
      "Training Epoch 890: 100%|██████████| 378/378 [00:02<00:00, 169.19it/s]\n",
      "Training Epoch 891: 100%|██████████| 378/378 [00:02<00:00, 167.05it/s]\n"
     ]
    },
    {
     "name": "stdout",
     "output_type": "stream",
     "text": [
      "Epoch 890 - Train Loss: 0.5874, Train MSE: 0.5873, Train MAE: 0.5399\n",
      "Epoch 890 - Validation Loss: 1.5589, Validation MSE: 1.5611, Validation MAE: 0.8984\n"
     ]
    },
    {
     "name": "stderr",
     "output_type": "stream",
     "text": [
      "Training Epoch 892: 100%|██████████| 378/378 [00:02<00:00, 172.68it/s]\n",
      "Training Epoch 893: 100%|██████████| 378/378 [00:02<00:00, 166.01it/s]\n",
      "Training Epoch 894: 100%|██████████| 378/378 [00:02<00:00, 169.97it/s]\n",
      "Training Epoch 895: 100%|██████████| 378/378 [00:02<00:00, 168.07it/s]\n",
      "Training Epoch 896: 100%|██████████| 378/378 [00:02<00:00, 167.41it/s]\n",
      "Training Epoch 897: 100%|██████████| 378/378 [00:02<00:00, 177.19it/s]\n",
      "Training Epoch 898: 100%|██████████| 378/378 [00:02<00:00, 167.09it/s]\n",
      "Training Epoch 899: 100%|██████████| 378/378 [00:02<00:00, 169.47it/s]\n",
      "Training Epoch 900: 100%|██████████| 378/378 [00:02<00:00, 167.33it/s]\n",
      "Training Epoch 901: 100%|██████████| 378/378 [00:02<00:00, 170.22it/s]\n"
     ]
    },
    {
     "name": "stdout",
     "output_type": "stream",
     "text": [
      "Epoch 900 - Train Loss: 0.5691, Train MSE: 0.5691, Train MAE: 0.5328\n",
      "Epoch 900 - Validation Loss: 1.5298, Validation MSE: 1.5326, Validation MAE: 0.8889\n"
     ]
    },
    {
     "name": "stderr",
     "output_type": "stream",
     "text": [
      "Training Epoch 902: 100%|██████████| 378/378 [00:02<00:00, 172.61it/s]\n",
      "Training Epoch 903: 100%|██████████| 378/378 [00:02<00:00, 168.86it/s]\n",
      "Training Epoch 904: 100%|██████████| 378/378 [00:02<00:00, 172.25it/s]\n",
      "Training Epoch 905: 100%|██████████| 378/378 [00:02<00:00, 167.51it/s]\n",
      "Training Epoch 906: 100%|██████████| 378/378 [00:02<00:00, 168.72it/s]\n",
      "Training Epoch 907: 100%|██████████| 378/378 [00:02<00:00, 168.16it/s]\n",
      "Training Epoch 908: 100%|██████████| 378/378 [00:02<00:00, 174.32it/s]\n",
      "Training Epoch 909: 100%|██████████| 378/378 [00:02<00:00, 168.04it/s]\n",
      "Training Epoch 910: 100%|██████████| 378/378 [00:02<00:00, 166.20it/s]\n",
      "Training Epoch 911: 100%|██████████| 378/378 [00:02<00:00, 169.24it/s]\n"
     ]
    },
    {
     "name": "stdout",
     "output_type": "stream",
     "text": [
      "Epoch 910 - Train Loss: 0.5772, Train MSE: 0.5767, Train MAE: 0.5353\n",
      "Epoch 910 - Validation Loss: 1.5698, Validation MSE: 1.5721, Validation MAE: 0.8971\n"
     ]
    },
    {
     "name": "stderr",
     "output_type": "stream",
     "text": [
      "Training Epoch 912: 100%|██████████| 378/378 [00:02<00:00, 169.87it/s]\n",
      "Training Epoch 913: 100%|██████████| 378/378 [00:02<00:00, 171.34it/s]\n",
      "Training Epoch 914: 100%|██████████| 378/378 [00:02<00:00, 165.90it/s]\n",
      "Training Epoch 915: 100%|██████████| 378/378 [00:02<00:00, 169.54it/s]\n",
      "Training Epoch 916: 100%|██████████| 378/378 [00:02<00:00, 166.96it/s]\n",
      "Training Epoch 917: 100%|██████████| 378/378 [00:02<00:00, 170.21it/s]\n",
      "Training Epoch 918: 100%|██████████| 378/378 [00:02<00:00, 172.43it/s]\n",
      "Training Epoch 919: 100%|██████████| 378/378 [00:02<00:00, 167.73it/s]\n",
      "Training Epoch 920: 100%|██████████| 378/378 [00:02<00:00, 167.17it/s]\n",
      "Training Epoch 921: 100%|██████████| 378/378 [00:02<00:00, 167.14it/s]\n"
     ]
    },
    {
     "name": "stdout",
     "output_type": "stream",
     "text": [
      "Epoch 920 - Train Loss: 0.5689, Train MSE: 0.5687, Train MAE: 0.5325\n",
      "Epoch 920 - Validation Loss: 1.5780, Validation MSE: 1.5815, Validation MAE: 0.8956\n"
     ]
    },
    {
     "name": "stderr",
     "output_type": "stream",
     "text": [
      "Training Epoch 922: 100%|██████████| 378/378 [00:02<00:00, 171.66it/s]\n",
      "Training Epoch 923: 100%|██████████| 378/378 [00:02<00:00, 167.52it/s]\n",
      "Training Epoch 924: 100%|██████████| 378/378 [00:02<00:00, 173.79it/s]\n",
      "Training Epoch 925: 100%|██████████| 378/378 [00:02<00:00, 168.80it/s]\n",
      "Training Epoch 926: 100%|██████████| 378/378 [00:02<00:00, 170.18it/s]\n",
      "Training Epoch 927: 100%|██████████| 378/378 [00:02<00:00, 169.83it/s]\n",
      "Training Epoch 928: 100%|██████████| 378/378 [00:02<00:00, 167.59it/s]\n",
      "Training Epoch 929: 100%|██████████| 378/378 [00:02<00:00, 173.58it/s]\n",
      "Training Epoch 930: 100%|██████████| 378/378 [00:02<00:00, 165.16it/s]\n",
      "Training Epoch 931: 100%|██████████| 378/378 [00:02<00:00, 169.40it/s]\n"
     ]
    },
    {
     "name": "stdout",
     "output_type": "stream",
     "text": [
      "Epoch 930 - Train Loss: 0.5713, Train MSE: 0.5711, Train MAE: 0.5324\n",
      "Epoch 930 - Validation Loss: 1.5697, Validation MSE: 1.5723, Validation MAE: 0.9013\n"
     ]
    },
    {
     "name": "stderr",
     "output_type": "stream",
     "text": [
      "Training Epoch 932: 100%|██████████| 378/378 [00:02<00:00, 169.44it/s]\n",
      "Training Epoch 933: 100%|██████████| 378/378 [00:02<00:00, 169.23it/s]\n",
      "Training Epoch 934: 100%|██████████| 378/378 [00:02<00:00, 171.71it/s]\n",
      "Training Epoch 935: 100%|██████████| 378/378 [00:02<00:00, 176.31it/s]\n",
      "Training Epoch 936: 100%|██████████| 378/378 [00:02<00:00, 168.42it/s]\n",
      "Training Epoch 937: 100%|██████████| 378/378 [00:02<00:00, 168.56it/s]\n",
      "Training Epoch 938: 100%|██████████| 378/378 [00:02<00:00, 171.35it/s]\n",
      "Training Epoch 939: 100%|██████████| 378/378 [00:02<00:00, 165.19it/s]\n",
      "Training Epoch 940: 100%|██████████| 378/378 [00:02<00:00, 169.21it/s]\n",
      "Training Epoch 941: 100%|██████████| 378/378 [00:02<00:00, 167.76it/s]\n"
     ]
    },
    {
     "name": "stdout",
     "output_type": "stream",
     "text": [
      "Epoch 940 - Train Loss: 0.5757, Train MSE: 0.5758, Train MAE: 0.5350\n",
      "Epoch 940 - Validation Loss: 1.5497, Validation MSE: 1.5534, Validation MAE: 0.8953\n"
     ]
    },
    {
     "name": "stderr",
     "output_type": "stream",
     "text": [
      "Training Epoch 942: 100%|██████████| 378/378 [00:02<00:00, 170.93it/s]\n",
      "Training Epoch 943: 100%|██████████| 378/378 [00:02<00:00, 167.23it/s]\n",
      "Training Epoch 944: 100%|██████████| 378/378 [00:02<00:00, 169.23it/s]\n",
      "Training Epoch 945: 100%|██████████| 378/378 [00:02<00:00, 175.60it/s]\n",
      "Training Epoch 946: 100%|██████████| 378/378 [00:02<00:00, 167.33it/s]\n",
      "Training Epoch 947: 100%|██████████| 378/378 [00:02<00:00, 167.35it/s]\n",
      "Training Epoch 948: 100%|██████████| 378/378 [00:02<00:00, 167.03it/s]\n",
      "Training Epoch 949: 100%|██████████| 378/378 [00:02<00:00, 170.10it/s]\n",
      "Training Epoch 950: 100%|██████████| 378/378 [00:02<00:00, 168.02it/s]\n",
      "Training Epoch 951: 100%|██████████| 378/378 [00:02<00:00, 171.05it/s]\n"
     ]
    },
    {
     "name": "stdout",
     "output_type": "stream",
     "text": [
      "Epoch 950 - Train Loss: 0.5746, Train MSE: 0.5742, Train MAE: 0.5345\n",
      "Epoch 950 - Validation Loss: 1.5459, Validation MSE: 1.5480, Validation MAE: 0.8910\n"
     ]
    },
    {
     "name": "stderr",
     "output_type": "stream",
     "text": [
      "Training Epoch 952: 100%|██████████| 378/378 [00:02<00:00, 169.74it/s]\n",
      "Training Epoch 953: 100%|██████████| 378/378 [00:02<00:00, 136.04it/s]\n",
      "Training Epoch 954: 100%|██████████| 378/378 [00:02<00:00, 145.29it/s]\n",
      "Training Epoch 955: 100%|██████████| 378/378 [00:02<00:00, 167.72it/s]\n",
      "Training Epoch 956: 100%|██████████| 378/378 [00:02<00:00, 173.55it/s]\n",
      "Training Epoch 957: 100%|██████████| 378/378 [00:02<00:00, 166.31it/s]\n",
      "Training Epoch 958: 100%|██████████| 378/378 [00:02<00:00, 165.10it/s]\n",
      "Training Epoch 959: 100%|██████████| 378/378 [00:02<00:00, 172.23it/s]\n",
      "Training Epoch 960: 100%|██████████| 378/378 [00:02<00:00, 167.33it/s]\n",
      "Training Epoch 961: 100%|██████████| 378/378 [00:02<00:00, 177.52it/s]\n"
     ]
    },
    {
     "name": "stdout",
     "output_type": "stream",
     "text": [
      "Epoch 960 - Train Loss: 0.5756, Train MSE: 0.5759, Train MAE: 0.5350\n",
      "Epoch 960 - Validation Loss: 1.5502, Validation MSE: 1.5525, Validation MAE: 0.8958\n"
     ]
    },
    {
     "name": "stderr",
     "output_type": "stream",
     "text": [
      "Training Epoch 962: 100%|██████████| 378/378 [00:02<00:00, 173.52it/s]\n",
      "Training Epoch 963: 100%|██████████| 378/378 [00:02<00:00, 173.57it/s]\n",
      "Training Epoch 964: 100%|██████████| 378/378 [00:02<00:00, 178.19it/s]\n",
      "Training Epoch 965: 100%|██████████| 378/378 [00:02<00:00, 172.58it/s]\n",
      "Training Epoch 966: 100%|██████████| 378/378 [00:02<00:00, 175.97it/s]\n",
      "Training Epoch 967: 100%|██████████| 378/378 [00:02<00:00, 171.68it/s]\n",
      "Training Epoch 968: 100%|██████████| 378/378 [00:02<00:00, 175.27it/s]\n",
      "Training Epoch 969: 100%|██████████| 378/378 [00:02<00:00, 174.07it/s]\n",
      "Training Epoch 970: 100%|██████████| 378/378 [00:02<00:00, 175.66it/s]\n",
      "Training Epoch 971: 100%|██████████| 378/378 [00:02<00:00, 169.26it/s]\n"
     ]
    },
    {
     "name": "stdout",
     "output_type": "stream",
     "text": [
      "Epoch 970 - Train Loss: 0.5628, Train MSE: 0.5624, Train MAE: 0.5288\n",
      "Epoch 970 - Validation Loss: 1.5441, Validation MSE: 1.5460, Validation MAE: 0.8854\n"
     ]
    },
    {
     "name": "stderr",
     "output_type": "stream",
     "text": [
      "Training Epoch 972: 100%|██████████| 378/378 [00:02<00:00, 174.52it/s]\n",
      "Training Epoch 973: 100%|██████████| 378/378 [00:02<00:00, 173.76it/s]\n",
      "Training Epoch 974: 100%|██████████| 378/378 [00:02<00:00, 171.78it/s]\n",
      "Training Epoch 975: 100%|██████████| 378/378 [00:02<00:00, 172.20it/s]\n",
      "Training Epoch 976: 100%|██████████| 378/378 [00:02<00:00, 175.17it/s]\n",
      "Training Epoch 977: 100%|██████████| 378/378 [00:02<00:00, 176.99it/s]\n",
      "Training Epoch 978: 100%|██████████| 378/378 [00:02<00:00, 174.86it/s]\n",
      "Training Epoch 979: 100%|██████████| 378/378 [00:02<00:00, 174.23it/s]\n",
      "Training Epoch 980: 100%|██████████| 378/378 [00:02<00:00, 170.90it/s]\n",
      "Training Epoch 981: 100%|██████████| 378/378 [00:02<00:00, 173.58it/s]\n"
     ]
    },
    {
     "name": "stdout",
     "output_type": "stream",
     "text": [
      "Epoch 980 - Train Loss: 0.5805, Train MSE: 0.5808, Train MAE: 0.5381\n",
      "Epoch 980 - Validation Loss: 1.5769, Validation MSE: 1.5794, Validation MAE: 0.8991\n"
     ]
    },
    {
     "name": "stderr",
     "output_type": "stream",
     "text": [
      "Training Epoch 982: 100%|██████████| 378/378 [00:02<00:00, 172.28it/s]\n",
      "Training Epoch 983: 100%|██████████| 378/378 [00:02<00:00, 176.65it/s]\n",
      "Training Epoch 984: 100%|██████████| 378/378 [00:02<00:00, 173.83it/s]\n",
      "Training Epoch 985: 100%|██████████| 378/378 [00:02<00:00, 175.12it/s]\n",
      "Training Epoch 986: 100%|██████████| 378/378 [00:02<00:00, 172.65it/s]\n",
      "Training Epoch 987: 100%|██████████| 378/378 [00:02<00:00, 176.23it/s]\n",
      "Training Epoch 988: 100%|██████████| 378/378 [00:02<00:00, 172.89it/s]\n",
      "Training Epoch 989: 100%|██████████| 378/378 [00:02<00:00, 174.30it/s]\n",
      "Training Epoch 990: 100%|██████████| 378/378 [00:02<00:00, 175.63it/s]\n",
      "Training Epoch 991: 100%|██████████| 378/378 [00:02<00:00, 173.78it/s]\n"
     ]
    },
    {
     "name": "stdout",
     "output_type": "stream",
     "text": [
      "Epoch 990 - Train Loss: 0.5705, Train MSE: 0.5708, Train MAE: 0.5337\n",
      "Epoch 990 - Validation Loss: 1.5433, Validation MSE: 1.5465, Validation MAE: 0.8923\n"
     ]
    },
    {
     "name": "stderr",
     "output_type": "stream",
     "text": [
      "Training Epoch 992: 100%|██████████| 378/378 [00:02<00:00, 176.95it/s]\n",
      "Training Epoch 993: 100%|██████████| 378/378 [00:02<00:00, 171.88it/s]\n",
      "Training Epoch 994: 100%|██████████| 378/378 [00:02<00:00, 182.65it/s]\n",
      "Training Epoch 995: 100%|██████████| 378/378 [00:02<00:00, 170.58it/s]\n",
      "Training Epoch 996: 100%|██████████| 378/378 [00:02<00:00, 173.85it/s]\n",
      "Training Epoch 997: 100%|██████████| 378/378 [00:02<00:00, 174.35it/s]\n",
      "Training Epoch 998: 100%|██████████| 378/378 [00:02<00:00, 172.83it/s]\n",
      "Training Epoch 999: 100%|██████████| 378/378 [00:02<00:00, 173.74it/s]\n",
      "Training Epoch 1000: 100%|██████████| 378/378 [00:02<00:00, 175.05it/s]\n",
      "Training Epoch 1001: 100%|██████████| 378/378 [00:02<00:00, 176.17it/s]\n"
     ]
    },
    {
     "name": "stdout",
     "output_type": "stream",
     "text": [
      "Epoch 1000 - Train Loss: 0.5620, Train MSE: 0.5621, Train MAE: 0.5270\n",
      "Epoch 1000 - Validation Loss: 1.5305, Validation MSE: 1.5333, Validation MAE: 0.8841\n"
     ]
    },
    {
     "name": "stderr",
     "output_type": "stream",
     "text": [
      "Training Epoch 1002: 100%|██████████| 378/378 [00:02<00:00, 169.68it/s]\n",
      "Training Epoch 1003: 100%|██████████| 378/378 [00:02<00:00, 175.30it/s]\n",
      "Training Epoch 1004: 100%|██████████| 378/378 [00:02<00:00, 174.00it/s]\n",
      "Training Epoch 1005: 100%|██████████| 378/378 [00:02<00:00, 176.87it/s]\n",
      "Training Epoch 1006: 100%|██████████| 378/378 [00:02<00:00, 175.00it/s]\n",
      "Training Epoch 1007: 100%|██████████| 378/378 [00:02<00:00, 173.93it/s]\n",
      "Training Epoch 1008: 100%|██████████| 378/378 [00:02<00:00, 172.82it/s]\n",
      "Training Epoch 1009: 100%|██████████| 378/378 [00:02<00:00, 172.20it/s]\n",
      "Training Epoch 1010: 100%|██████████| 378/378 [00:02<00:00, 173.63it/s]\n",
      "Training Epoch 1011: 100%|██████████| 378/378 [00:02<00:00, 177.01it/s]\n"
     ]
    },
    {
     "name": "stdout",
     "output_type": "stream",
     "text": [
      "Epoch 1010 - Train Loss: 0.5608, Train MSE: 0.5609, Train MAE: 0.5258\n",
      "Epoch 1010 - Validation Loss: 1.5530, Validation MSE: 1.5560, Validation MAE: 0.8864\n"
     ]
    },
    {
     "name": "stderr",
     "output_type": "stream",
     "text": [
      "Training Epoch 1012: 100%|██████████| 378/378 [00:02<00:00, 172.96it/s]\n",
      "Training Epoch 1013: 100%|██████████| 378/378 [00:02<00:00, 175.01it/s]\n",
      "Training Epoch 1014: 100%|██████████| 378/378 [00:02<00:00, 174.69it/s]\n",
      "Training Epoch 1015: 100%|██████████| 378/378 [00:02<00:00, 173.08it/s]\n",
      "Training Epoch 1016: 100%|██████████| 378/378 [00:02<00:00, 174.21it/s]\n",
      "Training Epoch 1017: 100%|██████████| 378/378 [00:02<00:00, 170.61it/s]\n",
      "Training Epoch 1018: 100%|██████████| 378/378 [00:02<00:00, 175.46it/s]\n",
      "Training Epoch 1019: 100%|██████████| 378/378 [00:02<00:00, 171.19it/s]\n",
      "Training Epoch 1020: 100%|██████████| 378/378 [00:02<00:00, 175.69it/s]\n",
      "Training Epoch 1021: 100%|██████████| 378/378 [00:02<00:00, 171.02it/s]\n"
     ]
    },
    {
     "name": "stdout",
     "output_type": "stream",
     "text": [
      "Epoch 1020 - Train Loss: 0.5668, Train MSE: 0.5668, Train MAE: 0.5299\n",
      "Epoch 1020 - Validation Loss: 1.5345, Validation MSE: 1.5375, Validation MAE: 0.8837\n"
     ]
    },
    {
     "name": "stderr",
     "output_type": "stream",
     "text": [
      "Training Epoch 1022: 100%|██████████| 378/378 [00:02<00:00, 175.48it/s]\n",
      "Training Epoch 1023: 100%|██████████| 378/378 [00:02<00:00, 174.31it/s]\n",
      "Training Epoch 1024: 100%|██████████| 378/378 [00:02<00:00, 172.83it/s]\n",
      "Training Epoch 1025: 100%|██████████| 378/378 [00:02<00:00, 175.10it/s]\n",
      "Training Epoch 1026: 100%|██████████| 378/378 [00:02<00:00, 170.38it/s]\n",
      "Training Epoch 1027: 100%|██████████| 378/378 [00:02<00:00, 178.13it/s]\n",
      "Training Epoch 1028: 100%|██████████| 378/378 [00:02<00:00, 172.42it/s]\n",
      "Training Epoch 1029: 100%|██████████| 378/378 [00:02<00:00, 176.37it/s]\n",
      "Training Epoch 1030: 100%|██████████| 378/378 [00:02<00:00, 170.31it/s]\n",
      "Training Epoch 1031: 100%|██████████| 378/378 [00:02<00:00, 175.50it/s]\n"
     ]
    },
    {
     "name": "stdout",
     "output_type": "stream",
     "text": [
      "Epoch 1030 - Train Loss: 0.5541, Train MSE: 0.5544, Train MAE: 0.5233\n",
      "Epoch 1030 - Validation Loss: 1.5634, Validation MSE: 1.5666, Validation MAE: 0.8935\n"
     ]
    },
    {
     "name": "stderr",
     "output_type": "stream",
     "text": [
      "Training Epoch 1032: 100%|██████████| 378/378 [00:02<00:00, 171.89it/s]\n",
      "Training Epoch 1033: 100%|██████████| 378/378 [00:02<00:00, 178.75it/s]\n",
      "Training Epoch 1034: 100%|██████████| 378/378 [00:02<00:00, 172.18it/s]\n",
      "Training Epoch 1035: 100%|██████████| 378/378 [00:02<00:00, 167.98it/s]\n",
      "Training Epoch 1036: 100%|██████████| 378/378 [00:02<00:00, 175.93it/s]\n",
      "Training Epoch 1037: 100%|██████████| 378/378 [00:02<00:00, 167.66it/s]\n",
      "Training Epoch 1038: 100%|██████████| 378/378 [00:02<00:00, 177.58it/s]\n",
      "Training Epoch 1039: 100%|██████████| 378/378 [00:02<00:00, 172.02it/s]\n",
      "Training Epoch 1040: 100%|██████████| 378/378 [00:02<00:00, 175.32it/s]\n",
      "Training Epoch 1041: 100%|██████████| 378/378 [00:02<00:00, 172.59it/s]\n"
     ]
    },
    {
     "name": "stdout",
     "output_type": "stream",
     "text": [
      "Epoch 1040 - Train Loss: 0.5702, Train MSE: 0.5700, Train MAE: 0.5300\n",
      "Epoch 1040 - Validation Loss: 1.5346, Validation MSE: 1.5366, Validation MAE: 0.8927\n"
     ]
    },
    {
     "name": "stderr",
     "output_type": "stream",
     "text": [
      "Training Epoch 1042: 100%|██████████| 378/378 [00:02<00:00, 176.44it/s]\n",
      "Training Epoch 1043: 100%|██████████| 378/378 [00:02<00:00, 168.49it/s]\n",
      "Training Epoch 1044: 100%|██████████| 378/378 [00:02<00:00, 174.38it/s]\n",
      "Training Epoch 1045: 100%|██████████| 378/378 [00:02<00:00, 173.42it/s]\n",
      "Training Epoch 1046: 100%|██████████| 378/378 [00:02<00:00, 175.41it/s]\n",
      "Training Epoch 1047: 100%|██████████| 378/378 [00:02<00:00, 177.70it/s]\n",
      "Training Epoch 1048: 100%|██████████| 378/378 [00:02<00:00, 172.47it/s]\n",
      "Training Epoch 1049: 100%|██████████| 378/378 [00:02<00:00, 178.60it/s]\n",
      "Training Epoch 1050: 100%|██████████| 378/378 [00:02<00:00, 171.90it/s]\n",
      "Training Epoch 1051: 100%|██████████| 378/378 [00:02<00:00, 172.11it/s]\n"
     ]
    },
    {
     "name": "stdout",
     "output_type": "stream",
     "text": [
      "Epoch 1050 - Train Loss: 0.5642, Train MSE: 0.5640, Train MAE: 0.5272\n",
      "Epoch 1050 - Validation Loss: 1.5397, Validation MSE: 1.5419, Validation MAE: 0.8806\n"
     ]
    },
    {
     "name": "stderr",
     "output_type": "stream",
     "text": [
      "Training Epoch 1052: 100%|██████████| 378/378 [00:02<00:00, 173.87it/s]\n",
      "Training Epoch 1053: 100%|██████████| 378/378 [00:02<00:00, 176.03it/s]\n",
      "Training Epoch 1054: 100%|██████████| 378/378 [00:02<00:00, 170.12it/s]\n",
      "Training Epoch 1055: 100%|██████████| 378/378 [00:02<00:00, 179.84it/s]\n",
      "Training Epoch 1056: 100%|██████████| 378/378 [00:02<00:00, 172.83it/s]\n",
      "Training Epoch 1057: 100%|██████████| 378/378 [00:02<00:00, 174.18it/s]\n",
      "Training Epoch 1058: 100%|██████████| 378/378 [00:02<00:00, 171.46it/s]\n",
      "Training Epoch 1059: 100%|██████████| 378/378 [00:02<00:00, 171.91it/s]\n",
      "Training Epoch 1060: 100%|██████████| 378/378 [00:02<00:00, 180.40it/s]\n",
      "Training Epoch 1061: 100%|██████████| 378/378 [00:02<00:00, 174.21it/s]\n"
     ]
    },
    {
     "name": "stdout",
     "output_type": "stream",
     "text": [
      "Epoch 1060 - Train Loss: 0.5661, Train MSE: 0.5657, Train MAE: 0.5282\n",
      "Epoch 1060 - Validation Loss: 1.5652, Validation MSE: 1.5679, Validation MAE: 0.8990\n"
     ]
    },
    {
     "name": "stderr",
     "output_type": "stream",
     "text": [
      "Training Epoch 1062: 100%|██████████| 378/378 [00:02<00:00, 175.12it/s]\n",
      "Training Epoch 1063: 100%|██████████| 378/378 [00:02<00:00, 172.45it/s]\n",
      "Training Epoch 1064: 100%|██████████| 378/378 [00:02<00:00, 174.98it/s]\n",
      "Training Epoch 1065: 100%|██████████| 378/378 [00:02<00:00, 168.34it/s]\n",
      "Training Epoch 1066: 100%|██████████| 378/378 [00:02<00:00, 179.76it/s]\n",
      "Training Epoch 1067: 100%|██████████| 378/378 [00:02<00:00, 172.89it/s]\n",
      "Training Epoch 1068: 100%|██████████| 378/378 [00:02<00:00, 178.50it/s]\n",
      "Training Epoch 1069: 100%|██████████| 378/378 [00:02<00:00, 173.02it/s]\n",
      "Training Epoch 1070: 100%|██████████| 378/378 [00:02<00:00, 173.20it/s]\n",
      "Training Epoch 1071: 100%|██████████| 378/378 [00:02<00:00, 179.94it/s]\n"
     ]
    },
    {
     "name": "stdout",
     "output_type": "stream",
     "text": [
      "Epoch 1070 - Train Loss: 0.5579, Train MSE: 0.5577, Train MAE: 0.5257\n",
      "Epoch 1070 - Validation Loss: 1.5471, Validation MSE: 1.5491, Validation MAE: 0.8865\n"
     ]
    },
    {
     "name": "stderr",
     "output_type": "stream",
     "text": [
      "Training Epoch 1072: 100%|██████████| 378/378 [00:02<00:00, 171.73it/s]\n",
      "Training Epoch 1073: 100%|██████████| 378/378 [00:02<00:00, 175.26it/s]\n",
      "Training Epoch 1074: 100%|██████████| 378/378 [00:02<00:00, 172.93it/s]\n",
      "Training Epoch 1075: 100%|██████████| 378/378 [00:02<00:00, 175.21it/s]\n",
      "Training Epoch 1076: 100%|██████████| 378/378 [00:02<00:00, 173.89it/s]\n",
      "Training Epoch 1077: 100%|██████████| 378/378 [00:02<00:00, 179.44it/s]\n",
      "Training Epoch 1078: 100%|██████████| 378/378 [00:02<00:00, 175.92it/s]\n",
      "Training Epoch 1079: 100%|██████████| 378/378 [00:02<00:00, 167.75it/s]\n",
      "Training Epoch 1080: 100%|██████████| 378/378 [00:02<00:00, 174.50it/s]\n",
      "Training Epoch 1081: 100%|██████████| 378/378 [00:02<00:00, 171.86it/s]\n"
     ]
    },
    {
     "name": "stdout",
     "output_type": "stream",
     "text": [
      "Epoch 1080 - Train Loss: 0.5637, Train MSE: 0.5634, Train MAE: 0.5253\n",
      "Epoch 1080 - Validation Loss: 1.5453, Validation MSE: 1.5483, Validation MAE: 0.8906\n"
     ]
    },
    {
     "name": "stderr",
     "output_type": "stream",
     "text": [
      "Training Epoch 1082: 100%|██████████| 378/378 [00:02<00:00, 176.71it/s]\n",
      "Training Epoch 1083: 100%|██████████| 378/378 [00:02<00:00, 173.86it/s]\n",
      "Training Epoch 1084: 100%|██████████| 378/378 [00:02<00:00, 176.12it/s]\n",
      "Training Epoch 1085: 100%|██████████| 378/378 [00:02<00:00, 173.56it/s]\n",
      "Training Epoch 1086: 100%|██████████| 378/378 [00:02<00:00, 170.97it/s]\n",
      "Training Epoch 1087: 100%|██████████| 378/378 [00:02<00:00, 171.49it/s]\n",
      "Training Epoch 1088: 100%|██████████| 378/378 [00:02<00:00, 184.35it/s]\n",
      "Training Epoch 1089: 100%|██████████| 378/378 [00:02<00:00, 172.21it/s]\n",
      "Training Epoch 1090: 100%|██████████| 378/378 [00:02<00:00, 173.87it/s]\n",
      "Training Epoch 1091: 100%|██████████| 378/378 [00:02<00:00, 174.88it/s]\n"
     ]
    },
    {
     "name": "stdout",
     "output_type": "stream",
     "text": [
      "Epoch 1090 - Train Loss: 0.5628, Train MSE: 0.5621, Train MAE: 0.5257\n",
      "Epoch 1090 - Validation Loss: 1.5573, Validation MSE: 1.5606, Validation MAE: 0.9019\n"
     ]
    },
    {
     "name": "stderr",
     "output_type": "stream",
     "text": [
      "Training Epoch 1092: 100%|██████████| 378/378 [00:02<00:00, 173.42it/s]\n",
      "Training Epoch 1093: 100%|██████████| 378/378 [00:02<00:00, 174.50it/s]\n",
      "Training Epoch 1094: 100%|██████████| 378/378 [00:02<00:00, 172.17it/s]\n",
      "Training Epoch 1095: 100%|██████████| 378/378 [00:02<00:00, 176.56it/s]\n",
      "Training Epoch 1096: 100%|██████████| 378/378 [00:02<00:00, 169.95it/s]\n",
      "Training Epoch 1097: 100%|██████████| 378/378 [00:02<00:00, 174.74it/s]\n",
      "Training Epoch 1098: 100%|██████████| 378/378 [00:02<00:00, 172.14it/s]\n",
      "Training Epoch 1099: 100%|██████████| 378/378 [00:02<00:00, 178.24it/s]\n",
      "Training Epoch 1100: 100%|██████████| 378/378 [00:02<00:00, 168.46it/s]\n",
      "Training Epoch 1101: 100%|██████████| 378/378 [00:02<00:00, 173.29it/s]\n"
     ]
    },
    {
     "name": "stdout",
     "output_type": "stream",
     "text": [
      "Epoch 1100 - Train Loss: 0.5641, Train MSE: 0.5643, Train MAE: 0.5265\n",
      "Epoch 1100 - Validation Loss: 1.5610, Validation MSE: 1.5638, Validation MAE: 0.8935\n"
     ]
    },
    {
     "name": "stderr",
     "output_type": "stream",
     "text": [
      "Training Epoch 1102: 100%|██████████| 378/378 [00:02<00:00, 168.13it/s]\n",
      "Training Epoch 1103: 100%|██████████| 378/378 [00:02<00:00, 173.78it/s]\n",
      "Training Epoch 1104: 100%|██████████| 378/378 [00:02<00:00, 177.08it/s]\n",
      "Training Epoch 1105: 100%|██████████| 378/378 [00:02<00:00, 170.81it/s]\n",
      "Training Epoch 1106: 100%|██████████| 378/378 [00:02<00:00, 173.24it/s]\n",
      "Training Epoch 1107: 100%|██████████| 378/378 [00:02<00:00, 167.28it/s]\n",
      "Training Epoch 1108: 100%|██████████| 378/378 [00:02<00:00, 174.61it/s]\n",
      "Training Epoch 1109: 100%|██████████| 378/378 [00:02<00:00, 172.73it/s]\n",
      "Training Epoch 1110: 100%|██████████| 378/378 [00:02<00:00, 179.52it/s]\n",
      "Training Epoch 1111: 100%|██████████| 378/378 [00:02<00:00, 170.72it/s]\n"
     ]
    },
    {
     "name": "stdout",
     "output_type": "stream",
     "text": [
      "Epoch 1110 - Train Loss: 0.5685, Train MSE: 0.5687, Train MAE: 0.5257\n",
      "Epoch 1110 - Validation Loss: 1.5964, Validation MSE: 1.5987, Validation MAE: 0.9065\n"
     ]
    },
    {
     "name": "stderr",
     "output_type": "stream",
     "text": [
      "Training Epoch 1112: 100%|██████████| 378/378 [00:02<00:00, 174.35it/s]\n",
      "Training Epoch 1113: 100%|██████████| 378/378 [00:02<00:00, 176.48it/s]\n",
      "Training Epoch 1114: 100%|██████████| 378/378 [00:02<00:00, 169.03it/s]\n",
      "Training Epoch 1115: 100%|██████████| 378/378 [00:02<00:00, 175.18it/s]\n",
      "Training Epoch 1116: 100%|██████████| 378/378 [00:02<00:00, 171.07it/s]\n",
      "Training Epoch 1117: 100%|██████████| 378/378 [00:02<00:00, 174.24it/s]\n",
      "Training Epoch 1118: 100%|██████████| 378/378 [00:02<00:00, 172.27it/s]\n",
      "Training Epoch 1119: 100%|██████████| 378/378 [00:02<00:00, 175.50it/s]\n",
      "Training Epoch 1120: 100%|██████████| 378/378 [00:02<00:00, 172.98it/s]\n",
      "Training Epoch 1121: 100%|██████████| 378/378 [00:02<00:00, 174.27it/s]\n"
     ]
    },
    {
     "name": "stdout",
     "output_type": "stream",
     "text": [
      "Epoch 1120 - Train Loss: 0.5605, Train MSE: 0.5606, Train MAE: 0.5278\n",
      "Epoch 1120 - Validation Loss: 1.5273, Validation MSE: 1.5291, Validation MAE: 0.8884\n"
     ]
    },
    {
     "name": "stderr",
     "output_type": "stream",
     "text": [
      "Training Epoch 1122: 100%|██████████| 378/378 [00:02<00:00, 169.18it/s]\n",
      "Training Epoch 1123: 100%|██████████| 378/378 [00:02<00:00, 173.87it/s]\n",
      "Training Epoch 1124: 100%|██████████| 378/378 [00:02<00:00, 170.72it/s]\n",
      "Training Epoch 1125: 100%|██████████| 378/378 [00:02<00:00, 172.45it/s]\n",
      "Training Epoch 1126: 100%|██████████| 378/378 [00:02<00:00, 176.33it/s]\n",
      "Training Epoch 1127: 100%|██████████| 378/378 [00:02<00:00, 169.27it/s]\n",
      "Training Epoch 1128: 100%|██████████| 378/378 [00:02<00:00, 171.54it/s]\n",
      "Training Epoch 1129: 100%|██████████| 378/378 [00:02<00:00, 171.65it/s]\n",
      "Training Epoch 1130: 100%|██████████| 378/378 [00:02<00:00, 174.32it/s]\n",
      "Training Epoch 1131: 100%|██████████| 378/378 [00:02<00:00, 172.01it/s]\n"
     ]
    },
    {
     "name": "stdout",
     "output_type": "stream",
     "text": [
      "Epoch 1130 - Train Loss: 0.5553, Train MSE: 0.5554, Train MAE: 0.5235\n",
      "Epoch 1130 - Validation Loss: 1.5921, Validation MSE: 1.5954, Validation MAE: 0.8956\n"
     ]
    },
    {
     "name": "stderr",
     "output_type": "stream",
     "text": [
      "Training Epoch 1132: 100%|██████████| 378/378 [00:02<00:00, 175.75it/s]\n",
      "Training Epoch 1133: 100%|██████████| 378/378 [00:02<00:00, 172.81it/s]\n",
      "Training Epoch 1134: 100%|██████████| 378/378 [00:02<00:00, 172.89it/s]\n",
      "Training Epoch 1135: 100%|██████████| 378/378 [00:02<00:00, 173.81it/s]\n",
      "Training Epoch 1136: 100%|██████████| 378/378 [00:02<00:00, 171.81it/s]\n",
      "Training Epoch 1137: 100%|██████████| 378/378 [00:02<00:00, 178.13it/s]\n",
      "Training Epoch 1138: 100%|██████████| 378/378 [00:02<00:00, 171.87it/s]\n",
      "Training Epoch 1139: 100%|██████████| 378/378 [00:02<00:00, 174.24it/s]\n",
      "Training Epoch 1140: 100%|██████████| 378/378 [00:02<00:00, 172.12it/s]\n",
      "Training Epoch 1141: 100%|██████████| 378/378 [00:02<00:00, 175.69it/s]\n"
     ]
    },
    {
     "name": "stdout",
     "output_type": "stream",
     "text": [
      "Epoch 1140 - Train Loss: 0.5616, Train MSE: 0.5619, Train MAE: 0.5245\n",
      "Epoch 1140 - Validation Loss: 1.5103, Validation MSE: 1.5133, Validation MAE: 0.8817\n"
     ]
    },
    {
     "name": "stderr",
     "output_type": "stream",
     "text": [
      "Training Epoch 1142: 100%|██████████| 378/378 [00:02<00:00, 169.47it/s]\n",
      "Training Epoch 1143: 100%|██████████| 378/378 [00:02<00:00, 175.96it/s]\n",
      "Training Epoch 1144: 100%|██████████| 378/378 [00:02<00:00, 172.04it/s]\n",
      "Training Epoch 1145: 100%|██████████| 378/378 [00:02<00:00, 176.62it/s]\n",
      "Training Epoch 1146: 100%|██████████| 378/378 [00:02<00:00, 171.20it/s]\n",
      "Training Epoch 1147: 100%|██████████| 378/378 [00:02<00:00, 172.08it/s]\n",
      "Training Epoch 1148: 100%|██████████| 378/378 [00:02<00:00, 175.78it/s]\n",
      "Training Epoch 1149: 100%|██████████| 378/378 [00:02<00:00, 168.45it/s]\n",
      "Training Epoch 1150: 100%|██████████| 378/378 [00:02<00:00, 175.38it/s]\n",
      "Training Epoch 1151: 100%|██████████| 378/378 [00:02<00:00, 171.62it/s]\n"
     ]
    },
    {
     "name": "stdout",
     "output_type": "stream",
     "text": [
      "Epoch 1150 - Train Loss: 0.5575, Train MSE: 0.5572, Train MAE: 0.5229\n",
      "Epoch 1150 - Validation Loss: 1.5758, Validation MSE: 1.5791, Validation MAE: 0.8964\n"
     ]
    },
    {
     "name": "stderr",
     "output_type": "stream",
     "text": [
      "Training Epoch 1152: 100%|██████████| 378/378 [00:02<00:00, 174.92it/s]\n",
      "Training Epoch 1153: 100%|██████████| 378/378 [00:02<00:00, 171.16it/s]\n",
      "Training Epoch 1154: 100%|██████████| 378/378 [00:02<00:00, 177.58it/s]\n",
      "Training Epoch 1155: 100%|██████████| 378/378 [00:02<00:00, 171.74it/s]\n",
      "Training Epoch 1156: 100%|██████████| 378/378 [00:02<00:00, 170.54it/s]\n",
      "Training Epoch 1157: 100%|██████████| 378/378 [00:02<00:00, 170.43it/s]\n",
      "Training Epoch 1158: 100%|██████████| 378/378 [00:02<00:00, 171.03it/s]\n",
      "Training Epoch 1159: 100%|██████████| 378/378 [00:02<00:00, 178.25it/s]\n",
      "Training Epoch 1160: 100%|██████████| 378/378 [00:02<00:00, 172.32it/s]\n",
      "Training Epoch 1161: 100%|██████████| 378/378 [00:02<00:00, 174.76it/s]\n"
     ]
    },
    {
     "name": "stdout",
     "output_type": "stream",
     "text": [
      "Epoch 1160 - Train Loss: 0.5566, Train MSE: 0.5566, Train MAE: 0.5196\n",
      "Epoch 1160 - Validation Loss: 1.5564, Validation MSE: 1.5584, Validation MAE: 0.8870\n"
     ]
    },
    {
     "name": "stderr",
     "output_type": "stream",
     "text": [
      "Training Epoch 1162: 100%|██████████| 378/378 [00:02<00:00, 171.17it/s]\n",
      "Training Epoch 1163: 100%|██████████| 378/378 [00:02<00:00, 171.00it/s]\n",
      "Training Epoch 1164: 100%|██████████| 378/378 [00:02<00:00, 169.62it/s]\n",
      "Training Epoch 1165: 100%|██████████| 378/378 [00:02<00:00, 177.40it/s]\n",
      "Training Epoch 1166: 100%|██████████| 378/378 [00:02<00:00, 171.63it/s]\n",
      "Training Epoch 1167: 100%|██████████| 378/378 [00:02<00:00, 175.88it/s]\n",
      "Training Epoch 1168: 100%|██████████| 378/378 [00:02<00:00, 171.58it/s]\n",
      "Training Epoch 1169: 100%|██████████| 378/378 [00:02<00:00, 171.77it/s]\n",
      "Training Epoch 1170: 100%|██████████| 378/378 [00:02<00:00, 174.34it/s]\n",
      "Training Epoch 1171: 100%|██████████| 378/378 [00:02<00:00, 171.97it/s]\n"
     ]
    },
    {
     "name": "stdout",
     "output_type": "stream",
     "text": [
      "Epoch 1170 - Train Loss: 0.5621, Train MSE: 0.5619, Train MAE: 0.5236\n",
      "Epoch 1170 - Validation Loss: 1.5245, Validation MSE: 1.5273, Validation MAE: 0.8876\n"
     ]
    },
    {
     "name": "stderr",
     "output_type": "stream",
     "text": [
      "Training Epoch 1172: 100%|██████████| 378/378 [00:02<00:00, 176.23it/s]\n",
      "Training Epoch 1173: 100%|██████████| 378/378 [00:02<00:00, 171.96it/s]\n",
      "Training Epoch 1174: 100%|██████████| 378/378 [00:02<00:00, 171.06it/s]\n",
      "Training Epoch 1175: 100%|██████████| 378/378 [00:02<00:00, 168.53it/s]\n",
      "Training Epoch 1176: 100%|██████████| 378/378 [00:02<00:00, 176.48it/s]\n",
      "Training Epoch 1177: 100%|██████████| 378/378 [00:02<00:00, 167.84it/s]\n",
      "Training Epoch 1178: 100%|██████████| 378/378 [00:02<00:00, 173.05it/s]\n",
      "Training Epoch 1179: 100%|██████████| 378/378 [00:02<00:00, 174.36it/s]\n",
      "Training Epoch 1180: 100%|██████████| 378/378 [00:02<00:00, 171.11it/s]\n",
      "Training Epoch 1181: 100%|██████████| 378/378 [00:02<00:00, 177.04it/s]\n"
     ]
    },
    {
     "name": "stdout",
     "output_type": "stream",
     "text": [
      "Epoch 1180 - Train Loss: 0.5529, Train MSE: 0.5529, Train MAE: 0.5218\n",
      "Epoch 1180 - Validation Loss: 1.5262, Validation MSE: 1.5286, Validation MAE: 0.8895\n"
     ]
    },
    {
     "name": "stderr",
     "output_type": "stream",
     "text": [
      "Training Epoch 1182: 100%|██████████| 378/378 [00:02<00:00, 168.69it/s]\n",
      "Training Epoch 1183: 100%|██████████| 378/378 [00:02<00:00, 173.21it/s]\n",
      "Training Epoch 1184: 100%|██████████| 378/378 [00:02<00:00, 170.06it/s]\n",
      "Training Epoch 1185: 100%|██████████| 378/378 [00:02<00:00, 171.02it/s]\n",
      "Training Epoch 1186: 100%|██████████| 378/378 [00:02<00:00, 172.53it/s]\n",
      "Training Epoch 1187: 100%|██████████| 378/378 [00:02<00:00, 176.03it/s]\n",
      "Training Epoch 1188: 100%|██████████| 378/378 [00:02<00:00, 172.02it/s]\n",
      "Training Epoch 1189: 100%|██████████| 378/378 [00:02<00:00, 170.56it/s]\n",
      "Training Epoch 1190: 100%|██████████| 378/378 [00:02<00:00, 172.27it/s]\n",
      "Training Epoch 1191: 100%|██████████| 378/378 [00:02<00:00, 173.31it/s]\n"
     ]
    },
    {
     "name": "stdout",
     "output_type": "stream",
     "text": [
      "Epoch 1190 - Train Loss: 0.5567, Train MSE: 0.5571, Train MAE: 0.5223\n",
      "Epoch 1190 - Validation Loss: 1.5294, Validation MSE: 1.5320, Validation MAE: 0.8894\n"
     ]
    },
    {
     "name": "stderr",
     "output_type": "stream",
     "text": [
      "Training Epoch 1192: 100%|██████████| 378/378 [00:02<00:00, 177.42it/s]\n",
      "Training Epoch 1193: 100%|██████████| 378/378 [00:02<00:00, 169.93it/s]\n",
      "Training Epoch 1194: 100%|██████████| 378/378 [00:02<00:00, 172.89it/s]\n",
      "Training Epoch 1195: 100%|██████████| 378/378 [00:02<00:00, 170.92it/s]\n",
      "Training Epoch 1196: 100%|██████████| 378/378 [00:02<00:00, 173.40it/s]\n",
      "Training Epoch 1197: 100%|██████████| 378/378 [00:02<00:00, 169.45it/s]\n",
      "Training Epoch 1198: 100%|██████████| 378/378 [00:02<00:00, 174.29it/s]\n",
      "Training Epoch 1199: 100%|██████████| 378/378 [00:02<00:00, 174.11it/s]\n",
      "Training Epoch 1200: 100%|██████████| 378/378 [00:02<00:00, 169.00it/s]\n",
      "Training Epoch 1201: 100%|██████████| 378/378 [00:02<00:00, 173.47it/s]\n"
     ]
    },
    {
     "name": "stdout",
     "output_type": "stream",
     "text": [
      "Epoch 1200 - Train Loss: 0.5549, Train MSE: 0.5547, Train MAE: 0.5204\n",
      "Epoch 1200 - Validation Loss: 1.5618, Validation MSE: 1.5645, Validation MAE: 0.8999\n"
     ]
    },
    {
     "name": "stderr",
     "output_type": "stream",
     "text": [
      "Training Epoch 1202: 100%|██████████| 378/378 [00:02<00:00, 172.72it/s]\n",
      "Training Epoch 1203: 100%|██████████| 378/378 [00:02<00:00, 178.08it/s]\n",
      "Training Epoch 1204: 100%|██████████| 378/378 [00:02<00:00, 170.29it/s]\n",
      "Training Epoch 1205: 100%|██████████| 378/378 [00:02<00:00, 176.27it/s]\n",
      "Training Epoch 1206: 100%|██████████| 378/378 [00:02<00:00, 169.58it/s]\n",
      "Training Epoch 1207: 100%|██████████| 378/378 [00:02<00:00, 174.17it/s]\n",
      "Training Epoch 1208: 100%|██████████| 378/378 [00:02<00:00, 172.21it/s]\n",
      "Training Epoch 1209: 100%|██████████| 378/378 [00:02<00:00, 175.16it/s]\n",
      "Training Epoch 1210: 100%|██████████| 378/378 [00:02<00:00, 171.40it/s]\n",
      "Training Epoch 1211: 100%|██████████| 378/378 [00:02<00:00, 170.68it/s]\n"
     ]
    },
    {
     "name": "stdout",
     "output_type": "stream",
     "text": [
      "Epoch 1210 - Train Loss: 0.5517, Train MSE: 0.5520, Train MAE: 0.5185\n",
      "Epoch 1210 - Validation Loss: 1.5542, Validation MSE: 1.5571, Validation MAE: 0.8911\n"
     ]
    },
    {
     "name": "stderr",
     "output_type": "stream",
     "text": [
      "Training Epoch 1212: 100%|██████████| 378/378 [00:02<00:00, 174.77it/s]\n",
      "Training Epoch 1213: 100%|██████████| 378/378 [00:02<00:00, 171.08it/s]\n",
      "Training Epoch 1214: 100%|██████████| 378/378 [00:02<00:00, 178.53it/s]\n",
      "Training Epoch 1215: 100%|██████████| 378/378 [00:02<00:00, 171.93it/s]\n",
      "Training Epoch 1216: 100%|██████████| 378/378 [00:02<00:00, 173.46it/s]\n",
      "Training Epoch 1217: 100%|██████████| 378/378 [00:02<00:00, 169.10it/s]\n",
      "Training Epoch 1218: 100%|██████████| 378/378 [00:02<00:00, 170.43it/s]\n",
      "Training Epoch 1219: 100%|██████████| 378/378 [00:02<00:00, 175.71it/s]\n",
      "Training Epoch 1220: 100%|██████████| 378/378 [00:02<00:00, 181.45it/s]\n",
      "Training Epoch 1221: 100%|██████████| 378/378 [00:02<00:00, 172.69it/s]\n"
     ]
    },
    {
     "name": "stdout",
     "output_type": "stream",
     "text": [
      "Epoch 1220 - Train Loss: 0.5465, Train MSE: 0.5464, Train MAE: 0.5166\n",
      "Epoch 1220 - Validation Loss: 1.5596, Validation MSE: 1.5629, Validation MAE: 0.8927\n"
     ]
    },
    {
     "name": "stderr",
     "output_type": "stream",
     "text": [
      "Training Epoch 1222: 100%|██████████| 378/378 [00:02<00:00, 171.87it/s]\n",
      "Training Epoch 1223: 100%|██████████| 378/378 [00:02<00:00, 177.61it/s]\n",
      "Training Epoch 1224: 100%|██████████| 378/378 [00:02<00:00, 170.54it/s]\n",
      "Training Epoch 1225: 100%|██████████| 378/378 [00:02<00:00, 175.02it/s]\n",
      "Training Epoch 1226: 100%|██████████| 378/378 [00:02<00:00, 170.90it/s]\n",
      "Training Epoch 1227: 100%|██████████| 378/378 [00:02<00:00, 171.68it/s]\n",
      "Training Epoch 1228: 100%|██████████| 378/378 [00:02<00:00, 172.22it/s]\n",
      "Training Epoch 1229: 100%|██████████| 378/378 [00:02<00:00, 173.32it/s]\n",
      "Training Epoch 1230: 100%|██████████| 378/378 [00:02<00:00, 173.13it/s]\n",
      "Training Epoch 1231: 100%|██████████| 378/378 [00:02<00:00, 175.85it/s]\n"
     ]
    },
    {
     "name": "stdout",
     "output_type": "stream",
     "text": [
      "Epoch 1230 - Train Loss: 0.5486, Train MSE: 0.5488, Train MAE: 0.5202\n",
      "Epoch 1230 - Validation Loss: 1.5233, Validation MSE: 1.5263, Validation MAE: 0.8876\n"
     ]
    },
    {
     "name": "stderr",
     "output_type": "stream",
     "text": [
      "Training Epoch 1232: 100%|██████████| 378/378 [00:02<00:00, 168.74it/s]\n",
      "Training Epoch 1233: 100%|██████████| 378/378 [00:02<00:00, 170.81it/s]\n",
      "Training Epoch 1234: 100%|██████████| 378/378 [00:02<00:00, 175.91it/s]\n",
      "Training Epoch 1235: 100%|██████████| 378/378 [00:02<00:00, 171.69it/s]\n",
      "Training Epoch 1236: 100%|██████████| 378/378 [00:02<00:00, 176.22it/s]\n",
      "Training Epoch 1237: 100%|██████████| 378/378 [00:02<00:00, 172.43it/s]\n",
      "Training Epoch 1238: 100%|██████████| 378/378 [00:02<00:00, 174.97it/s]\n",
      "Training Epoch 1239: 100%|██████████| 378/378 [00:02<00:00, 166.19it/s]\n",
      "Training Epoch 1240: 100%|██████████| 378/378 [00:02<00:00, 172.45it/s]\n",
      "Training Epoch 1241: 100%|██████████| 378/378 [00:02<00:00, 179.07it/s]\n"
     ]
    },
    {
     "name": "stdout",
     "output_type": "stream",
     "text": [
      "Epoch 1240 - Train Loss: 0.5547, Train MSE: 0.5551, Train MAE: 0.5202\n",
      "Epoch 1240 - Validation Loss: 1.5278, Validation MSE: 1.5303, Validation MAE: 0.8868\n"
     ]
    },
    {
     "name": "stderr",
     "output_type": "stream",
     "text": [
      "Training Epoch 1242: 100%|██████████| 378/378 [00:02<00:00, 174.26it/s]\n",
      "Training Epoch 1243: 100%|██████████| 378/378 [00:02<00:00, 174.49it/s]\n",
      "Training Epoch 1244: 100%|██████████| 378/378 [00:02<00:00, 171.60it/s]\n",
      "Training Epoch 1245: 100%|██████████| 378/378 [00:02<00:00, 174.61it/s]\n",
      "Training Epoch 1246: 100%|██████████| 378/378 [00:02<00:00, 171.39it/s]\n",
      "Training Epoch 1247: 100%|██████████| 378/378 [00:02<00:00, 183.30it/s]\n",
      "Training Epoch 1248: 100%|██████████| 378/378 [00:02<00:00, 171.45it/s]\n",
      "Training Epoch 1249: 100%|██████████| 378/378 [00:02<00:00, 179.80it/s]\n",
      "Training Epoch 1250: 100%|██████████| 378/378 [00:02<00:00, 170.99it/s]\n",
      "Training Epoch 1251: 100%|██████████| 378/378 [00:02<00:00, 173.70it/s]\n"
     ]
    },
    {
     "name": "stdout",
     "output_type": "stream",
     "text": [
      "Epoch 1250 - Train Loss: 0.5516, Train MSE: 0.5518, Train MAE: 0.5212\n",
      "Epoch 1250 - Validation Loss: 1.5057, Validation MSE: 1.5084, Validation MAE: 0.8848\n"
     ]
    },
    {
     "name": "stderr",
     "output_type": "stream",
     "text": [
      "Training Epoch 1252: 100%|██████████| 378/378 [00:02<00:00, 172.54it/s]\n",
      "Training Epoch 1253: 100%|██████████| 378/378 [00:02<00:00, 169.30it/s]\n",
      "Training Epoch 1254: 100%|██████████| 378/378 [00:02<00:00, 174.29it/s]\n",
      "Training Epoch 1255: 100%|██████████| 378/378 [00:02<00:00, 170.44it/s]\n",
      "Training Epoch 1256: 100%|██████████| 378/378 [00:02<00:00, 174.25it/s]\n",
      "Training Epoch 1257: 100%|██████████| 378/378 [00:02<00:00, 175.97it/s]\n",
      "Training Epoch 1258: 100%|██████████| 378/378 [00:02<00:00, 177.71it/s]\n",
      "Training Epoch 1259: 100%|██████████| 378/378 [00:02<00:00, 172.13it/s]\n",
      "Training Epoch 1260: 100%|██████████| 378/378 [00:02<00:00, 171.73it/s]\n",
      "Training Epoch 1261: 100%|██████████| 378/378 [00:02<00:00, 172.78it/s]\n"
     ]
    },
    {
     "name": "stdout",
     "output_type": "stream",
     "text": [
      "Epoch 1260 - Train Loss: 0.5500, Train MSE: 0.5501, Train MAE: 0.5206\n",
      "Epoch 1260 - Validation Loss: 1.5472, Validation MSE: 1.5506, Validation MAE: 0.8945\n"
     ]
    },
    {
     "name": "stderr",
     "output_type": "stream",
     "text": [
      "Training Epoch 1262: 100%|██████████| 378/378 [00:02<00:00, 175.86it/s]\n",
      "Training Epoch 1263: 100%|██████████| 378/378 [00:02<00:00, 174.76it/s]\n",
      "Training Epoch 1264: 100%|██████████| 378/378 [00:02<00:00, 177.02it/s]\n",
      "Training Epoch 1265: 100%|██████████| 378/378 [00:02<00:00, 174.15it/s]\n",
      "Training Epoch 1266: 100%|██████████| 378/378 [00:02<00:00, 170.89it/s]\n",
      "Training Epoch 1267: 100%|██████████| 378/378 [00:02<00:00, 172.22it/s]\n",
      "Training Epoch 1268: 100%|██████████| 378/378 [00:02<00:00, 170.43it/s]\n",
      "Training Epoch 1269: 100%|██████████| 378/378 [00:02<00:00, 178.78it/s]\n",
      "Training Epoch 1270: 100%|██████████| 378/378 [00:02<00:00, 174.68it/s]\n",
      "Training Epoch 1271: 100%|██████████| 378/378 [00:02<00:00, 176.18it/s]\n"
     ]
    },
    {
     "name": "stdout",
     "output_type": "stream",
     "text": [
      "Epoch 1270 - Train Loss: 0.5548, Train MSE: 0.5550, Train MAE: 0.5191\n",
      "Epoch 1270 - Validation Loss: 1.5275, Validation MSE: 1.5293, Validation MAE: 0.8850\n"
     ]
    },
    {
     "name": "stderr",
     "output_type": "stream",
     "text": [
      "Training Epoch 1272: 100%|██████████| 378/378 [00:02<00:00, 171.82it/s]\n",
      "Training Epoch 1273: 100%|██████████| 378/378 [00:02<00:00, 174.62it/s]\n",
      "Training Epoch 1274: 100%|██████████| 378/378 [00:02<00:00, 169.94it/s]\n",
      "Training Epoch 1275: 100%|██████████| 378/378 [00:02<00:00, 177.80it/s]\n",
      "Training Epoch 1276: 100%|██████████| 378/378 [00:02<00:00, 170.75it/s]\n",
      "Training Epoch 1277: 100%|██████████| 378/378 [00:02<00:00, 172.24it/s]\n",
      "Training Epoch 1278: 100%|██████████| 378/378 [00:02<00:00, 174.52it/s]\n",
      "Training Epoch 1279: 100%|██████████| 378/378 [00:02<00:00, 174.95it/s]\n",
      "Training Epoch 1280: 100%|██████████| 378/378 [00:02<00:00, 181.21it/s]\n",
      "Training Epoch 1281: 100%|██████████| 378/378 [00:02<00:00, 167.42it/s]\n"
     ]
    },
    {
     "name": "stdout",
     "output_type": "stream",
     "text": [
      "Epoch 1280 - Train Loss: 0.5463, Train MSE: 0.5465, Train MAE: 0.5144\n",
      "Epoch 1280 - Validation Loss: 1.5722, Validation MSE: 1.5741, Validation MAE: 0.8988\n"
     ]
    },
    {
     "name": "stderr",
     "output_type": "stream",
     "text": [
      "Training Epoch 1282: 100%|██████████| 378/378 [00:02<00:00, 175.43it/s]\n",
      "Training Epoch 1283: 100%|██████████| 378/378 [00:02<00:00, 175.33it/s]\n",
      "Training Epoch 1284: 100%|██████████| 378/378 [00:02<00:00, 174.71it/s]\n",
      "Training Epoch 1285: 100%|██████████| 378/378 [00:02<00:00, 172.53it/s]\n",
      "Training Epoch 1286: 100%|██████████| 378/378 [00:02<00:00, 177.42it/s]\n",
      "Training Epoch 1287: 100%|██████████| 378/378 [00:02<00:00, 172.16it/s]\n",
      "Training Epoch 1288: 100%|██████████| 378/378 [00:02<00:00, 168.94it/s]\n",
      "Training Epoch 1289: 100%|██████████| 378/378 [00:02<00:00, 175.97it/s]\n",
      "Training Epoch 1290: 100%|██████████| 378/378 [00:02<00:00, 172.47it/s]\n",
      "Training Epoch 1291: 100%|██████████| 378/378 [00:02<00:00, 178.18it/s]\n"
     ]
    },
    {
     "name": "stdout",
     "output_type": "stream",
     "text": [
      "Epoch 1290 - Train Loss: 0.5401, Train MSE: 0.5399, Train MAE: 0.5156\n",
      "Epoch 1290 - Validation Loss: 1.5693, Validation MSE: 1.5718, Validation MAE: 0.8892\n"
     ]
    },
    {
     "name": "stderr",
     "output_type": "stream",
     "text": [
      "Training Epoch 1292: 100%|██████████| 378/378 [00:02<00:00, 171.02it/s]\n",
      "Training Epoch 1293: 100%|██████████| 378/378 [00:02<00:00, 174.14it/s]\n",
      "Training Epoch 1294: 100%|██████████| 378/378 [00:02<00:00, 172.56it/s]\n",
      "Training Epoch 1295: 100%|██████████| 378/378 [00:02<00:00, 173.66it/s]\n",
      "Training Epoch 1296: 100%|██████████| 378/378 [00:02<00:00, 181.65it/s]\n",
      "Training Epoch 1297: 100%|██████████| 378/378 [00:02<00:00, 173.04it/s]\n",
      "Training Epoch 1298: 100%|██████████| 378/378 [00:02<00:00, 175.61it/s]\n",
      "Training Epoch 1299: 100%|██████████| 378/378 [00:02<00:00, 173.48it/s]\n",
      "Training Epoch 1300: 100%|██████████| 378/378 [00:02<00:00, 175.24it/s]\n",
      "Training Epoch 1301: 100%|██████████| 378/378 [00:02<00:00, 172.38it/s]\n"
     ]
    },
    {
     "name": "stdout",
     "output_type": "stream",
     "text": [
      "Epoch 1300 - Train Loss: 0.5402, Train MSE: 0.5405, Train MAE: 0.5130\n",
      "Epoch 1300 - Validation Loss: 1.5626, Validation MSE: 1.5657, Validation MAE: 0.8932\n"
     ]
    },
    {
     "name": "stderr",
     "output_type": "stream",
     "text": [
      "Training Epoch 1302: 100%|██████████| 378/378 [00:02<00:00, 172.74it/s]\n",
      "Training Epoch 1303: 100%|██████████| 378/378 [00:02<00:00, 172.14it/s]\n",
      "Training Epoch 1304: 100%|██████████| 378/378 [00:02<00:00, 173.78it/s]\n",
      "Training Epoch 1305: 100%|██████████| 378/378 [00:02<00:00, 172.65it/s]\n",
      "Training Epoch 1306: 100%|██████████| 378/378 [00:02<00:00, 176.20it/s]\n",
      "Training Epoch 1307: 100%|██████████| 378/378 [00:02<00:00, 173.05it/s]\n",
      "Training Epoch 1308: 100%|██████████| 378/378 [00:02<00:00, 175.90it/s]\n",
      "Training Epoch 1309: 100%|██████████| 378/378 [00:02<00:00, 167.09it/s]\n",
      "Training Epoch 1310: 100%|██████████| 378/378 [00:02<00:00, 170.80it/s]\n",
      "Training Epoch 1311: 100%|██████████| 378/378 [00:02<00:00, 176.05it/s]\n"
     ]
    },
    {
     "name": "stdout",
     "output_type": "stream",
     "text": [
      "Epoch 1310 - Train Loss: 0.5549, Train MSE: 0.5551, Train MAE: 0.5191\n",
      "Epoch 1310 - Validation Loss: 1.5399, Validation MSE: 1.5423, Validation MAE: 0.8923\n"
     ]
    },
    {
     "name": "stderr",
     "output_type": "stream",
     "text": [
      "Training Epoch 1312: 100%|██████████| 378/378 [00:02<00:00, 169.95it/s]\n",
      "Training Epoch 1313: 100%|██████████| 378/378 [00:02<00:00, 176.46it/s]\n",
      "Training Epoch 1314: 100%|██████████| 378/378 [00:02<00:00, 171.07it/s]\n",
      "Training Epoch 1315: 100%|██████████| 378/378 [00:02<00:00, 170.88it/s]\n",
      "Training Epoch 1316: 100%|██████████| 378/378 [00:02<00:00, 167.46it/s]\n",
      "Training Epoch 1317: 100%|██████████| 378/378 [00:02<00:00, 177.90it/s]\n",
      "Training Epoch 1318: 100%|██████████| 378/378 [00:02<00:00, 173.24it/s]\n",
      "Training Epoch 1319: 100%|██████████| 378/378 [00:02<00:00, 177.25it/s]\n",
      "Training Epoch 1320: 100%|██████████| 378/378 [00:02<00:00, 173.19it/s]\n",
      "Training Epoch 1321: 100%|██████████| 378/378 [00:02<00:00, 171.11it/s]\n"
     ]
    },
    {
     "name": "stdout",
     "output_type": "stream",
     "text": [
      "Epoch 1320 - Train Loss: 0.5487, Train MSE: 0.5484, Train MAE: 0.5188\n",
      "Epoch 1320 - Validation Loss: 1.5483, Validation MSE: 1.5506, Validation MAE: 0.8863\n"
     ]
    },
    {
     "name": "stderr",
     "output_type": "stream",
     "text": [
      "Training Epoch 1322: 100%|██████████| 378/378 [00:02<00:00, 175.65it/s]\n",
      "Training Epoch 1323: 100%|██████████| 378/378 [00:02<00:00, 168.18it/s]\n",
      "Training Epoch 1324: 100%|██████████| 378/378 [00:02<00:00, 176.75it/s]\n",
      "Training Epoch 1325: 100%|██████████| 378/378 [00:02<00:00, 172.42it/s]\n",
      "Training Epoch 1326: 100%|██████████| 378/378 [00:02<00:00, 173.84it/s]\n",
      "Training Epoch 1327: 100%|██████████| 378/378 [00:02<00:00, 171.78it/s]\n",
      "Training Epoch 1328: 100%|██████████| 378/378 [00:02<00:00, 175.70it/s]\n",
      "Training Epoch 1329: 100%|██████████| 378/378 [00:02<00:00, 172.59it/s]\n",
      "Training Epoch 1330: 100%|██████████| 378/378 [00:02<00:00, 171.04it/s]\n",
      "Training Epoch 1331: 100%|██████████| 378/378 [00:02<00:00, 169.72it/s]\n"
     ]
    },
    {
     "name": "stdout",
     "output_type": "stream",
     "text": [
      "Epoch 1330 - Train Loss: 0.5456, Train MSE: 0.5457, Train MAE: 0.5158\n",
      "Epoch 1330 - Validation Loss: 1.5347, Validation MSE: 1.5374, Validation MAE: 0.8784\n"
     ]
    },
    {
     "name": "stderr",
     "output_type": "stream",
     "text": [
      "Training Epoch 1332: 100%|██████████| 378/378 [00:02<00:00, 172.50it/s]\n",
      "Training Epoch 1333: 100%|██████████| 378/378 [00:02<00:00, 175.11it/s]\n",
      "Training Epoch 1334: 100%|██████████| 378/378 [00:02<00:00, 168.85it/s]\n",
      "Training Epoch 1335: 100%|██████████| 378/378 [00:02<00:00, 176.93it/s]\n",
      "Training Epoch 1336: 100%|██████████| 378/378 [00:02<00:00, 171.75it/s]\n",
      "Training Epoch 1337: 100%|██████████| 378/378 [00:02<00:00, 172.54it/s]\n",
      "Training Epoch 1338: 100%|██████████| 378/378 [00:02<00:00, 171.53it/s]\n",
      "Training Epoch 1339: 100%|██████████| 378/378 [00:02<00:00, 174.40it/s]\n",
      "Training Epoch 1340: 100%|██████████| 378/378 [00:02<00:00, 174.35it/s]\n",
      "Training Epoch 1341: 100%|██████████| 378/378 [00:02<00:00, 176.22it/s]\n"
     ]
    },
    {
     "name": "stdout",
     "output_type": "stream",
     "text": [
      "Epoch 1340 - Train Loss: 0.5500, Train MSE: 0.5500, Train MAE: 0.5165\n",
      "Epoch 1340 - Validation Loss: 1.5788, Validation MSE: 1.5813, Validation MAE: 0.8975\n"
     ]
    },
    {
     "name": "stderr",
     "output_type": "stream",
     "text": [
      "Training Epoch 1342: 100%|██████████| 378/378 [00:02<00:00, 169.71it/s]\n",
      "Training Epoch 1343: 100%|██████████| 378/378 [00:02<00:00, 172.00it/s]\n",
      "Training Epoch 1344: 100%|██████████| 378/378 [00:02<00:00, 172.75it/s]\n",
      "Training Epoch 1345: 100%|██████████| 378/378 [00:02<00:00, 174.03it/s]\n",
      "Training Epoch 1346: 100%|██████████| 378/378 [00:02<00:00, 176.56it/s]\n",
      "Training Epoch 1347: 100%|██████████| 378/378 [00:02<00:00, 169.75it/s]\n",
      "Training Epoch 1348: 100%|██████████| 378/378 [00:02<00:00, 172.64it/s]\n",
      "Training Epoch 1349: 100%|██████████| 378/378 [00:02<00:00, 170.10it/s]\n",
      "Training Epoch 1350: 100%|██████████| 378/378 [00:02<00:00, 168.75it/s]\n",
      "Training Epoch 1351: 100%|██████████| 378/378 [00:02<00:00, 173.74it/s]\n"
     ]
    },
    {
     "name": "stdout",
     "output_type": "stream",
     "text": [
      "Epoch 1350 - Train Loss: 0.5474, Train MSE: 0.5475, Train MAE: 0.5181\n",
      "Epoch 1350 - Validation Loss: 1.5309, Validation MSE: 1.5332, Validation MAE: 0.8920\n"
     ]
    },
    {
     "name": "stderr",
     "output_type": "stream",
     "text": [
      "Training Epoch 1352: 100%|██████████| 378/378 [00:02<00:00, 172.28it/s]\n",
      "Training Epoch 1353: 100%|██████████| 378/378 [00:02<00:00, 173.79it/s]\n",
      "Training Epoch 1354: 100%|██████████| 378/378 [00:02<00:00, 172.86it/s]\n",
      "Training Epoch 1355: 100%|██████████| 378/378 [00:02<00:00, 172.37it/s]\n",
      "Training Epoch 1356: 100%|██████████| 378/378 [00:02<00:00, 171.43it/s]\n",
      "Training Epoch 1357: 100%|██████████| 378/378 [00:02<00:00, 174.57it/s]\n",
      "Training Epoch 1358: 100%|██████████| 378/378 [00:02<00:00, 171.30it/s]\n",
      "Training Epoch 1359: 100%|██████████| 378/378 [00:02<00:00, 175.20it/s]\n",
      "Training Epoch 1360: 100%|██████████| 378/378 [00:02<00:00, 171.66it/s]\n",
      "Training Epoch 1361: 100%|██████████| 378/378 [00:02<00:00, 174.13it/s]\n"
     ]
    },
    {
     "name": "stdout",
     "output_type": "stream",
     "text": [
      "Epoch 1360 - Train Loss: 0.5534, Train MSE: 0.5538, Train MAE: 0.5177\n",
      "Epoch 1360 - Validation Loss: 1.5550, Validation MSE: 1.5576, Validation MAE: 0.8923\n"
     ]
    },
    {
     "name": "stderr",
     "output_type": "stream",
     "text": [
      "Training Epoch 1362: 100%|██████████| 378/378 [00:02<00:00, 172.24it/s]\n",
      "Training Epoch 1363: 100%|██████████| 378/378 [00:02<00:00, 172.44it/s]\n",
      "Training Epoch 1364: 100%|██████████| 378/378 [00:02<00:00, 169.46it/s]\n",
      "Training Epoch 1365: 100%|██████████| 378/378 [00:02<00:00, 167.93it/s]\n",
      "Training Epoch 1366: 100%|██████████| 378/378 [00:02<00:00, 175.07it/s]\n",
      "Training Epoch 1367: 100%|██████████| 378/378 [00:02<00:00, 172.80it/s]\n",
      "Training Epoch 1368: 100%|██████████| 378/378 [00:02<00:00, 178.45it/s]\n",
      "Training Epoch 1369: 100%|██████████| 378/378 [00:02<00:00, 170.01it/s]\n",
      "Training Epoch 1370: 100%|██████████| 378/378 [00:02<00:00, 173.54it/s]\n",
      "Training Epoch 1371: 100%|██████████| 378/378 [00:02<00:00, 169.33it/s]\n"
     ]
    },
    {
     "name": "stdout",
     "output_type": "stream",
     "text": [
      "Epoch 1370 - Train Loss: 0.5536, Train MSE: 0.5535, Train MAE: 0.5168\n",
      "Epoch 1370 - Validation Loss: 1.5269, Validation MSE: 1.5293, Validation MAE: 0.8815\n"
     ]
    },
    {
     "name": "stderr",
     "output_type": "stream",
     "text": [
      "Training Epoch 1372: 100%|██████████| 378/378 [00:02<00:00, 171.03it/s]\n",
      "Training Epoch 1373: 100%|██████████| 378/378 [00:02<00:00, 174.31it/s]\n",
      "Training Epoch 1374: 100%|██████████| 378/378 [00:02<00:00, 173.36it/s]\n",
      "Training Epoch 1375: 100%|██████████| 378/378 [00:02<00:00, 169.68it/s]\n",
      "Training Epoch 1376: 100%|██████████| 378/378 [00:02<00:00, 173.79it/s]\n",
      "Training Epoch 1377: 100%|██████████| 378/378 [00:02<00:00, 170.37it/s]\n",
      "Training Epoch 1378: 100%|██████████| 378/378 [00:02<00:00, 167.44it/s]\n",
      "Training Epoch 1379: 100%|██████████| 378/378 [00:02<00:00, 177.08it/s]\n",
      "Training Epoch 1380: 100%|██████████| 378/378 [00:02<00:00, 175.71it/s]\n",
      "Training Epoch 1381: 100%|██████████| 378/378 [00:02<00:00, 173.18it/s]\n"
     ]
    },
    {
     "name": "stdout",
     "output_type": "stream",
     "text": [
      "Epoch 1380 - Train Loss: 0.5458, Train MSE: 0.5457, Train MAE: 0.5128\n",
      "Epoch 1380 - Validation Loss: 1.5530, Validation MSE: 1.5557, Validation MAE: 0.8945\n"
     ]
    },
    {
     "name": "stderr",
     "output_type": "stream",
     "text": [
      "Training Epoch 1382: 100%|██████████| 378/378 [00:02<00:00, 168.66it/s]\n",
      "Training Epoch 1383: 100%|██████████| 378/378 [00:02<00:00, 173.95it/s]\n",
      "Training Epoch 1384: 100%|██████████| 378/378 [00:02<00:00, 174.15it/s]\n",
      "Training Epoch 1385: 100%|██████████| 378/378 [00:02<00:00, 169.13it/s]\n",
      "Training Epoch 1386: 100%|██████████| 378/378 [00:02<00:00, 174.79it/s]\n",
      "Training Epoch 1387: 100%|██████████| 378/378 [00:02<00:00, 173.79it/s]\n",
      "Training Epoch 1388: 100%|██████████| 378/378 [00:02<00:00, 173.04it/s]\n",
      "Training Epoch 1389: 100%|██████████| 378/378 [00:02<00:00, 171.56it/s]\n",
      "Training Epoch 1390: 100%|██████████| 378/378 [00:02<00:00, 175.60it/s]\n",
      "Training Epoch 1391: 100%|██████████| 378/378 [00:02<00:00, 176.07it/s]\n"
     ]
    },
    {
     "name": "stdout",
     "output_type": "stream",
     "text": [
      "Epoch 1390 - Train Loss: 0.5387, Train MSE: 0.5383, Train MAE: 0.5118\n",
      "Epoch 1390 - Validation Loss: 1.5346, Validation MSE: 1.5370, Validation MAE: 0.8859\n"
     ]
    },
    {
     "name": "stderr",
     "output_type": "stream",
     "text": [
      "Training Epoch 1392: 100%|██████████| 378/378 [00:02<00:00, 171.39it/s]\n",
      "Training Epoch 1393: 100%|██████████| 378/378 [00:02<00:00, 172.14it/s]\n",
      "Training Epoch 1394: 100%|██████████| 378/378 [00:02<00:00, 176.17it/s]\n",
      "Training Epoch 1395: 100%|██████████| 378/378 [00:02<00:00, 177.49it/s]\n",
      "Training Epoch 1396: 100%|██████████| 378/378 [00:02<00:00, 172.91it/s]\n",
      "Training Epoch 1397: 100%|██████████| 378/378 [00:02<00:00, 171.15it/s]\n",
      "Training Epoch 1398: 100%|██████████| 378/378 [00:02<00:00, 172.64it/s]\n",
      "Training Epoch 1399: 100%|██████████| 378/378 [00:02<00:00, 169.76it/s]\n",
      "Training Epoch 1400: 100%|██████████| 378/378 [00:02<00:00, 170.17it/s]\n",
      "Training Epoch 1401: 100%|██████████| 378/378 [00:02<00:00, 177.06it/s]\n"
     ]
    },
    {
     "name": "stdout",
     "output_type": "stream",
     "text": [
      "Epoch 1400 - Train Loss: 0.5468, Train MSE: 0.5468, Train MAE: 0.5146\n",
      "Epoch 1400 - Validation Loss: 1.5620, Validation MSE: 1.5643, Validation MAE: 0.8854\n"
     ]
    },
    {
     "name": "stderr",
     "output_type": "stream",
     "text": [
      "Training Epoch 1402: 100%|██████████| 378/378 [00:02<00:00, 171.80it/s]\n",
      "Training Epoch 1403: 100%|██████████| 378/378 [00:02<00:00, 173.56it/s]\n",
      "Training Epoch 1404: 100%|██████████| 378/378 [00:02<00:00, 169.42it/s]\n",
      "Training Epoch 1405: 100%|██████████| 378/378 [00:02<00:00, 174.19it/s]\n",
      "Training Epoch 1406: 100%|██████████| 378/378 [00:02<00:00, 169.76it/s]\n",
      "Training Epoch 1407: 100%|██████████| 378/378 [00:02<00:00, 173.81it/s]\n",
      "Training Epoch 1408: 100%|██████████| 378/378 [00:02<00:00, 174.31it/s]\n",
      "Training Epoch 1409: 100%|██████████| 378/378 [00:02<00:00, 169.27it/s]\n",
      "Training Epoch 1410: 100%|██████████| 378/378 [00:02<00:00, 171.82it/s]\n",
      "Training Epoch 1411: 100%|██████████| 378/378 [00:02<00:00, 172.25it/s]\n"
     ]
    },
    {
     "name": "stdout",
     "output_type": "stream",
     "text": [
      "Epoch 1410 - Train Loss: 0.5489, Train MSE: 0.5490, Train MAE: 0.5161\n",
      "Epoch 1410 - Validation Loss: 1.5325, Validation MSE: 1.5347, Validation MAE: 0.8864\n"
     ]
    },
    {
     "name": "stderr",
     "output_type": "stream",
     "text": [
      "Training Epoch 1412: 100%|██████████| 378/378 [00:02<00:00, 176.18it/s]\n",
      "Training Epoch 1413: 100%|██████████| 378/378 [00:02<00:00, 166.95it/s]\n",
      "Training Epoch 1414: 100%|██████████| 378/378 [00:02<00:00, 174.68it/s]\n",
      "Training Epoch 1415: 100%|██████████| 378/378 [00:02<00:00, 171.32it/s]\n",
      "Training Epoch 1416: 100%|██████████| 378/378 [00:02<00:00, 173.28it/s]\n",
      "Training Epoch 1417: 100%|██████████| 378/378 [00:02<00:00, 173.64it/s]\n",
      "Training Epoch 1418: 100%|██████████| 378/378 [00:02<00:00, 173.87it/s]\n",
      "Training Epoch 1419: 100%|██████████| 378/378 [00:02<00:00, 170.03it/s]\n",
      "Training Epoch 1420: 100%|██████████| 378/378 [00:02<00:00, 167.62it/s]\n",
      "Training Epoch 1421: 100%|██████████| 378/378 [00:02<00:00, 174.71it/s]\n"
     ]
    },
    {
     "name": "stdout",
     "output_type": "stream",
     "text": [
      "Epoch 1420 - Train Loss: 0.5333, Train MSE: 0.5333, Train MAE: 0.5090\n",
      "Epoch 1420 - Validation Loss: 1.5697, Validation MSE: 1.5719, Validation MAE: 0.8942\n"
     ]
    },
    {
     "name": "stderr",
     "output_type": "stream",
     "text": [
      "Training Epoch 1422: 100%|██████████| 378/378 [00:02<00:00, 170.46it/s]\n",
      "Training Epoch 1423: 100%|██████████| 378/378 [00:02<00:00, 174.95it/s]\n",
      "Training Epoch 1424: 100%|██████████| 378/378 [00:02<00:00, 171.69it/s]\n",
      "Training Epoch 1425: 100%|██████████| 378/378 [00:02<00:00, 174.31it/s]\n",
      "Training Epoch 1426: 100%|██████████| 378/378 [00:02<00:00, 171.49it/s]\n",
      "Training Epoch 1427: 100%|██████████| 378/378 [00:02<00:00, 172.18it/s]\n",
      "Training Epoch 1428: 100%|██████████| 378/378 [00:02<00:00, 174.36it/s]\n",
      "Training Epoch 1429: 100%|██████████| 378/378 [00:02<00:00, 173.62it/s]\n",
      "Training Epoch 1430: 100%|██████████| 378/378 [00:02<00:00, 171.69it/s]\n",
      "Training Epoch 1431: 100%|██████████| 378/378 [00:02<00:00, 171.46it/s]\n"
     ]
    },
    {
     "name": "stdout",
     "output_type": "stream",
     "text": [
      "Epoch 1430 - Train Loss: 0.5383, Train MSE: 0.5385, Train MAE: 0.5120\n",
      "Epoch 1430 - Validation Loss: 1.5474, Validation MSE: 1.5496, Validation MAE: 0.8862\n"
     ]
    },
    {
     "name": "stderr",
     "output_type": "stream",
     "text": [
      "Training Epoch 1432: 100%|██████████| 378/378 [00:02<00:00, 172.40it/s]\n",
      "Training Epoch 1433: 100%|██████████| 378/378 [00:02<00:00, 172.30it/s]\n",
      "Training Epoch 1434: 100%|██████████| 378/378 [00:02<00:00, 171.96it/s]\n",
      "Training Epoch 1435: 100%|██████████| 378/378 [00:02<00:00, 167.63it/s]\n",
      "Training Epoch 1436: 100%|██████████| 378/378 [00:02<00:00, 174.22it/s]\n",
      "Training Epoch 1437: 100%|██████████| 378/378 [00:02<00:00, 172.53it/s]\n",
      "Training Epoch 1438: 100%|██████████| 378/378 [00:02<00:00, 173.93it/s]\n",
      "Training Epoch 1439: 100%|██████████| 378/378 [00:02<00:00, 173.25it/s]\n",
      "Training Epoch 1440: 100%|██████████| 378/378 [00:02<00:00, 172.14it/s]\n",
      "Training Epoch 1441: 100%|██████████| 378/378 [00:02<00:00, 170.93it/s]\n"
     ]
    },
    {
     "name": "stdout",
     "output_type": "stream",
     "text": [
      "Epoch 1440 - Train Loss: 0.5431, Train MSE: 0.5426, Train MAE: 0.5101\n",
      "Epoch 1440 - Validation Loss: 1.5406, Validation MSE: 1.5432, Validation MAE: 0.8846\n"
     ]
    },
    {
     "name": "stderr",
     "output_type": "stream",
     "text": [
      "Training Epoch 1442: 100%|██████████| 378/378 [00:02<00:00, 172.62it/s]\n",
      "Training Epoch 1443: 100%|██████████| 378/378 [00:02<00:00, 173.04it/s]\n",
      "Training Epoch 1444: 100%|██████████| 378/378 [00:02<00:00, 170.78it/s]\n",
      "Training Epoch 1445: 100%|██████████| 378/378 [00:02<00:00, 173.97it/s]\n",
      "Training Epoch 1446: 100%|██████████| 378/378 [00:02<00:00, 170.26it/s]\n",
      "Training Epoch 1447: 100%|██████████| 378/378 [00:02<00:00, 172.50it/s]\n",
      "Training Epoch 1448: 100%|██████████| 378/378 [00:02<00:00, 169.03it/s]\n",
      "Training Epoch 1449: 100%|██████████| 378/378 [00:02<00:00, 173.93it/s]\n",
      "Training Epoch 1450: 100%|██████████| 378/378 [00:02<00:00, 177.27it/s]\n",
      "Training Epoch 1451: 100%|██████████| 378/378 [00:02<00:00, 171.04it/s]\n"
     ]
    },
    {
     "name": "stdout",
     "output_type": "stream",
     "text": [
      "Epoch 1450 - Train Loss: 0.5388, Train MSE: 0.5391, Train MAE: 0.5125\n",
      "Epoch 1450 - Validation Loss: 1.5810, Validation MSE: 1.5833, Validation MAE: 0.9008\n"
     ]
    },
    {
     "name": "stderr",
     "output_type": "stream",
     "text": [
      "Training Epoch 1452: 100%|██████████| 378/378 [00:02<00:00, 175.32it/s]\n",
      "Training Epoch 1453: 100%|██████████| 378/378 [00:02<00:00, 170.37it/s]\n",
      "Training Epoch 1454: 100%|██████████| 378/378 [00:02<00:00, 172.82it/s]\n",
      "Training Epoch 1455: 100%|██████████| 378/378 [00:02<00:00, 170.90it/s]\n",
      "Training Epoch 1456: 100%|██████████| 378/378 [00:02<00:00, 173.56it/s]\n",
      "Training Epoch 1457: 100%|██████████| 378/378 [00:02<00:00, 171.59it/s]\n",
      "Training Epoch 1458: 100%|██████████| 378/378 [00:02<00:00, 170.59it/s]\n",
      "Training Epoch 1459: 100%|██████████| 378/378 [00:02<00:00, 173.34it/s]\n",
      "Training Epoch 1460: 100%|██████████| 378/378 [00:02<00:00, 172.30it/s]\n",
      "Training Epoch 1461: 100%|██████████| 378/378 [00:02<00:00, 175.47it/s]\n"
     ]
    },
    {
     "name": "stdout",
     "output_type": "stream",
     "text": [
      "Epoch 1460 - Train Loss: 0.5467, Train MSE: 0.5458, Train MAE: 0.5140\n",
      "Epoch 1460 - Validation Loss: 1.5731, Validation MSE: 1.5761, Validation MAE: 0.9008\n"
     ]
    },
    {
     "name": "stderr",
     "output_type": "stream",
     "text": [
      "Training Epoch 1462: 100%|██████████| 378/378 [00:02<00:00, 169.69it/s]\n",
      "Training Epoch 1463: 100%|██████████| 378/378 [00:02<00:00, 176.15it/s]\n",
      "Training Epoch 1464: 100%|██████████| 378/378 [00:02<00:00, 171.03it/s]\n",
      "Training Epoch 1465: 100%|██████████| 378/378 [00:02<00:00, 172.13it/s]\n",
      "Training Epoch 1466: 100%|██████████| 378/378 [00:02<00:00, 174.57it/s]\n",
      "Training Epoch 1467: 100%|██████████| 378/378 [00:02<00:00, 173.20it/s]\n",
      "Training Epoch 1468: 100%|██████████| 378/378 [00:02<00:00, 170.53it/s]\n",
      "Training Epoch 1469: 100%|██████████| 378/378 [00:02<00:00, 172.33it/s]\n",
      "Training Epoch 1470: 100%|██████████| 378/378 [00:02<00:00, 175.88it/s]\n",
      "Training Epoch 1471: 100%|██████████| 378/378 [00:02<00:00, 174.42it/s]\n"
     ]
    },
    {
     "name": "stdout",
     "output_type": "stream",
     "text": [
      "Epoch 1470 - Train Loss: 0.5408, Train MSE: 0.5410, Train MAE: 0.5097\n",
      "Epoch 1470 - Validation Loss: 1.5625, Validation MSE: 1.5650, Validation MAE: 0.8988\n"
     ]
    },
    {
     "name": "stderr",
     "output_type": "stream",
     "text": [
      "Training Epoch 1472: 100%|██████████| 378/378 [00:02<00:00, 176.80it/s]\n",
      "Training Epoch 1473: 100%|██████████| 378/378 [00:02<00:00, 170.87it/s]\n",
      "Training Epoch 1474: 100%|██████████| 378/378 [00:02<00:00, 165.14it/s]\n",
      "Training Epoch 1475: 100%|██████████| 378/378 [00:02<00:00, 172.31it/s]\n",
      "Training Epoch 1476: 100%|██████████| 378/378 [00:02<00:00, 174.17it/s]\n",
      "Training Epoch 1477: 100%|██████████| 378/378 [00:02<00:00, 178.73it/s]\n",
      "Training Epoch 1478: 100%|██████████| 378/378 [00:02<00:00, 177.22it/s]\n",
      "Training Epoch 1479: 100%|██████████| 378/378 [00:02<00:00, 174.42it/s]\n",
      "Training Epoch 1480: 100%|██████████| 378/378 [00:02<00:00, 174.17it/s]\n",
      "Training Epoch 1481: 100%|██████████| 378/378 [00:02<00:00, 172.89it/s]\n"
     ]
    },
    {
     "name": "stdout",
     "output_type": "stream",
     "text": [
      "Epoch 1480 - Train Loss: 0.5364, Train MSE: 0.5362, Train MAE: 0.5117\n",
      "Epoch 1480 - Validation Loss: 1.5563, Validation MSE: 1.5593, Validation MAE: 0.8940\n"
     ]
    },
    {
     "name": "stderr",
     "output_type": "stream",
     "text": [
      "Training Epoch 1482: 100%|██████████| 378/378 [00:02<00:00, 172.05it/s]\n",
      "Training Epoch 1483: 100%|██████████| 378/378 [00:02<00:00, 179.66it/s]\n",
      "Training Epoch 1484: 100%|██████████| 378/378 [00:02<00:00, 172.89it/s]\n",
      "Training Epoch 1485: 100%|██████████| 378/378 [00:02<00:00, 176.12it/s]\n",
      "Training Epoch 1486: 100%|██████████| 378/378 [00:02<00:00, 173.63it/s]\n",
      "Training Epoch 1487: 100%|██████████| 378/378 [00:02<00:00, 174.61it/s]\n",
      "Training Epoch 1488: 100%|██████████| 378/378 [00:02<00:00, 176.04it/s]\n",
      "Training Epoch 1489: 100%|██████████| 378/378 [00:02<00:00, 177.85it/s]\n",
      "Training Epoch 1490: 100%|██████████| 378/378 [00:02<00:00, 171.65it/s]\n",
      "Training Epoch 1491: 100%|██████████| 378/378 [00:02<00:00, 177.83it/s]\n"
     ]
    },
    {
     "name": "stdout",
     "output_type": "stream",
     "text": [
      "Epoch 1490 - Train Loss: 0.5369, Train MSE: 0.5371, Train MAE: 0.5092\n",
      "Epoch 1490 - Validation Loss: 1.5318, Validation MSE: 1.5348, Validation MAE: 0.8862\n"
     ]
    },
    {
     "name": "stderr",
     "output_type": "stream",
     "text": [
      "Training Epoch 1492: 100%|██████████| 378/378 [00:02<00:00, 172.47it/s]\n",
      "Training Epoch 1493: 100%|██████████| 378/378 [00:02<00:00, 176.23it/s]\n",
      "Training Epoch 1494: 100%|██████████| 378/378 [00:02<00:00, 177.82it/s]\n",
      "Training Epoch 1495: 100%|██████████| 378/378 [00:02<00:00, 177.65it/s]\n",
      "Training Epoch 1496: 100%|██████████| 378/378 [00:02<00:00, 173.82it/s]\n",
      "Training Epoch 1497: 100%|██████████| 378/378 [00:02<00:00, 172.71it/s]\n",
      "Training Epoch 1498: 100%|██████████| 378/378 [00:02<00:00, 174.33it/s]\n",
      "Training Epoch 1499: 100%|██████████| 378/378 [00:02<00:00, 175.59it/s]\n",
      "Training Epoch 1500: 100%|██████████| 378/378 [00:02<00:00, 177.38it/s]\n",
      "Training Epoch 1501: 100%|██████████| 378/378 [00:02<00:00, 173.65it/s]\n"
     ]
    },
    {
     "name": "stdout",
     "output_type": "stream",
     "text": [
      "Epoch 1500 - Train Loss: 0.5359, Train MSE: 0.5361, Train MAE: 0.5085\n",
      "Epoch 1500 - Validation Loss: 1.5747, Validation MSE: 1.5772, Validation MAE: 0.8975\n"
     ]
    },
    {
     "name": "stderr",
     "output_type": "stream",
     "text": [
      "Training Epoch 1502: 100%|██████████| 378/378 [00:02<00:00, 176.36it/s]\n",
      "Training Epoch 1503: 100%|██████████| 378/378 [00:02<00:00, 173.92it/s]\n",
      "Training Epoch 1504: 100%|██████████| 378/378 [00:02<00:00, 174.92it/s]\n",
      "Training Epoch 1505: 100%|██████████| 378/378 [00:02<00:00, 180.31it/s]\n",
      "Training Epoch 1506: 100%|██████████| 378/378 [00:02<00:00, 173.58it/s]\n",
      "Training Epoch 1507: 100%|██████████| 378/378 [00:02<00:00, 175.96it/s]\n",
      "Training Epoch 1508: 100%|██████████| 378/378 [00:02<00:00, 175.99it/s]\n",
      "Training Epoch 1509: 100%|██████████| 378/378 [00:02<00:00, 173.64it/s]\n",
      "Training Epoch 1510: 100%|██████████| 378/378 [00:02<00:00, 174.20it/s]\n",
      "Training Epoch 1511: 100%|██████████| 378/378 [00:02<00:00, 168.26it/s]\n"
     ]
    },
    {
     "name": "stdout",
     "output_type": "stream",
     "text": [
      "Epoch 1510 - Train Loss: 0.5413, Train MSE: 0.5414, Train MAE: 0.5109\n",
      "Epoch 1510 - Validation Loss: 1.5602, Validation MSE: 1.5623, Validation MAE: 0.8874\n"
     ]
    },
    {
     "name": "stderr",
     "output_type": "stream",
     "text": [
      "Training Epoch 1512: 100%|██████████| 378/378 [00:02<00:00, 172.68it/s]\n",
      "Training Epoch 1513: 100%|██████████| 378/378 [00:02<00:00, 173.40it/s]\n",
      "Training Epoch 1514: 100%|██████████| 378/378 [00:02<00:00, 169.99it/s]\n",
      "Training Epoch 1515: 100%|██████████| 378/378 [00:02<00:00, 176.76it/s]\n",
      "Training Epoch 1516: 100%|██████████| 378/378 [00:02<00:00, 176.26it/s]\n",
      "Training Epoch 1517: 100%|██████████| 378/378 [00:02<00:00, 175.35it/s]\n",
      "Training Epoch 1518: 100%|██████████| 378/378 [00:02<00:00, 169.39it/s]\n",
      "Training Epoch 1519: 100%|██████████| 378/378 [00:02<00:00, 172.85it/s]\n",
      "Training Epoch 1520: 100%|██████████| 378/378 [00:02<00:00, 175.42it/s]\n",
      "Training Epoch 1521: 100%|██████████| 378/378 [00:02<00:00, 174.16it/s]\n"
     ]
    },
    {
     "name": "stdout",
     "output_type": "stream",
     "text": [
      "Epoch 1520 - Train Loss: 0.5412, Train MSE: 0.5409, Train MAE: 0.5123\n",
      "Epoch 1520 - Validation Loss: 1.5531, Validation MSE: 1.5556, Validation MAE: 0.8967\n"
     ]
    },
    {
     "name": "stderr",
     "output_type": "stream",
     "text": [
      "Training Epoch 1522: 100%|██████████| 378/378 [00:02<00:00, 178.09it/s]\n",
      "Training Epoch 1523: 100%|██████████| 378/378 [00:02<00:00, 173.44it/s]\n",
      "Training Epoch 1524: 100%|██████████| 378/378 [00:02<00:00, 176.02it/s]\n",
      "Training Epoch 1525: 100%|██████████| 378/378 [00:02<00:00, 170.54it/s]\n",
      "Training Epoch 1526: 100%|██████████| 378/378 [00:02<00:00, 176.83it/s]\n",
      "Training Epoch 1527: 100%|██████████| 378/378 [00:02<00:00, 179.33it/s]\n",
      "Training Epoch 1528: 100%|██████████| 378/378 [00:02<00:00, 177.48it/s]\n",
      "Training Epoch 1529: 100%|██████████| 378/378 [00:02<00:00, 173.23it/s]\n",
      "Training Epoch 1530: 100%|██████████| 378/378 [00:02<00:00, 175.10it/s]\n",
      "Training Epoch 1531: 100%|██████████| 378/378 [00:02<00:00, 172.13it/s]\n"
     ]
    },
    {
     "name": "stdout",
     "output_type": "stream",
     "text": [
      "Epoch 1530 - Train Loss: 0.5477, Train MSE: 0.5478, Train MAE: 0.5117\n",
      "Epoch 1530 - Validation Loss: 1.5354, Validation MSE: 1.5381, Validation MAE: 0.8903\n"
     ]
    },
    {
     "name": "stderr",
     "output_type": "stream",
     "text": [
      "Training Epoch 1532: 100%|██████████| 378/378 [00:02<00:00, 175.40it/s]\n",
      "Training Epoch 1533: 100%|██████████| 378/378 [00:02<00:00, 178.29it/s]\n",
      "Training Epoch 1534: 100%|██████████| 378/378 [00:02<00:00, 170.20it/s]\n",
      "Training Epoch 1535: 100%|██████████| 378/378 [00:02<00:00, 176.99it/s]\n",
      "Training Epoch 1536: 100%|██████████| 378/378 [00:02<00:00, 173.16it/s]\n",
      "Training Epoch 1537: 100%|██████████| 378/378 [00:02<00:00, 177.00it/s]\n",
      "Training Epoch 1538: 100%|██████████| 378/378 [00:02<00:00, 177.26it/s]\n",
      "Training Epoch 1539: 100%|██████████| 378/378 [00:02<00:00, 176.21it/s]\n",
      "Training Epoch 1540: 100%|██████████| 378/378 [00:02<00:00, 173.06it/s]\n",
      "Training Epoch 1541: 100%|██████████| 378/378 [00:02<00:00, 174.84it/s]\n"
     ]
    },
    {
     "name": "stdout",
     "output_type": "stream",
     "text": [
      "Epoch 1540 - Train Loss: 0.5282, Train MSE: 0.5284, Train MAE: 0.5043\n",
      "Epoch 1540 - Validation Loss: 1.5369, Validation MSE: 1.5398, Validation MAE: 0.8835\n"
     ]
    },
    {
     "name": "stderr",
     "output_type": "stream",
     "text": [
      "Training Epoch 1542: 100%|██████████| 378/378 [00:02<00:00, 170.85it/s]\n",
      "Training Epoch 1543: 100%|██████████| 378/378 [00:02<00:00, 175.39it/s]\n",
      "Training Epoch 1544: 100%|██████████| 378/378 [00:02<00:00, 172.11it/s]\n",
      "Training Epoch 1545: 100%|██████████| 378/378 [00:02<00:00, 172.46it/s]\n",
      "Training Epoch 1546: 100%|██████████| 378/378 [00:02<00:00, 171.75it/s]\n",
      "Training Epoch 1547: 100%|██████████| 378/378 [00:02<00:00, 171.56it/s]\n",
      "Training Epoch 1548: 100%|██████████| 378/378 [00:02<00:00, 174.80it/s]\n",
      "Training Epoch 1549: 100%|██████████| 378/378 [00:02<00:00, 175.15it/s]\n",
      "Training Epoch 1550: 100%|██████████| 378/378 [00:02<00:00, 175.38it/s]\n",
      "Training Epoch 1551: 100%|██████████| 378/378 [00:02<00:00, 170.41it/s]\n"
     ]
    },
    {
     "name": "stdout",
     "output_type": "stream",
     "text": [
      "Epoch 1550 - Train Loss: 0.5281, Train MSE: 0.5277, Train MAE: 0.5052\n",
      "Epoch 1550 - Validation Loss: 1.5372, Validation MSE: 1.5400, Validation MAE: 0.8880\n"
     ]
    },
    {
     "name": "stderr",
     "output_type": "stream",
     "text": [
      "Training Epoch 1552: 100%|██████████| 378/378 [00:02<00:00, 175.52it/s]\n",
      "Training Epoch 1553: 100%|██████████| 378/378 [00:02<00:00, 170.70it/s]\n",
      "Training Epoch 1554: 100%|██████████| 378/378 [00:02<00:00, 174.22it/s]\n",
      "Training Epoch 1555: 100%|██████████| 378/378 [00:02<00:00, 175.32it/s]\n",
      "Training Epoch 1556: 100%|██████████| 378/378 [00:02<00:00, 171.60it/s]\n",
      "Training Epoch 1557: 100%|██████████| 378/378 [00:02<00:00, 176.18it/s]\n",
      "Training Epoch 1558: 100%|██████████| 378/378 [00:02<00:00, 173.43it/s]\n",
      "Training Epoch 1559: 100%|██████████| 378/378 [00:02<00:00, 171.84it/s]\n",
      "Training Epoch 1560: 100%|██████████| 378/378 [00:02<00:00, 174.01it/s]\n",
      "Training Epoch 1561: 100%|██████████| 378/378 [00:02<00:00, 175.96it/s]\n"
     ]
    },
    {
     "name": "stdout",
     "output_type": "stream",
     "text": [
      "Epoch 1560 - Train Loss: 0.5381, Train MSE: 0.5382, Train MAE: 0.5067\n",
      "Epoch 1560 - Validation Loss: 1.5496, Validation MSE: 1.5519, Validation MAE: 0.8892\n"
     ]
    },
    {
     "name": "stderr",
     "output_type": "stream",
     "text": [
      "Training Epoch 1562: 100%|██████████| 378/378 [00:02<00:00, 173.77it/s]\n",
      "Training Epoch 1563: 100%|██████████| 378/378 [00:02<00:00, 175.72it/s]\n",
      "Training Epoch 1564: 100%|██████████| 378/378 [00:02<00:00, 170.91it/s]\n",
      "Training Epoch 1565: 100%|██████████| 378/378 [00:02<00:00, 170.98it/s]\n",
      "Training Epoch 1566: 100%|██████████| 378/378 [00:02<00:00, 174.47it/s]\n",
      "Training Epoch 1567: 100%|██████████| 378/378 [00:02<00:00, 170.10it/s]\n",
      "Training Epoch 1568: 100%|██████████| 378/378 [00:02<00:00, 174.65it/s]\n",
      "Training Epoch 1569: 100%|██████████| 378/378 [00:02<00:00, 171.93it/s]\n",
      "Training Epoch 1570: 100%|██████████| 378/378 [00:02<00:00, 173.13it/s]\n",
      "Training Epoch 1571: 100%|██████████| 378/378 [00:02<00:00, 174.78it/s]\n"
     ]
    },
    {
     "name": "stdout",
     "output_type": "stream",
     "text": [
      "Epoch 1570 - Train Loss: 0.5323, Train MSE: 0.5322, Train MAE: 0.5082\n",
      "Epoch 1570 - Validation Loss: 1.5777, Validation MSE: 1.5803, Validation MAE: 0.9008\n"
     ]
    },
    {
     "name": "stderr",
     "output_type": "stream",
     "text": [
      "Training Epoch 1572: 100%|██████████| 378/378 [00:02<00:00, 175.09it/s]\n",
      "Training Epoch 1573: 100%|██████████| 378/378 [00:02<00:00, 172.57it/s]\n",
      "Training Epoch 1574: 100%|██████████| 378/378 [00:02<00:00, 175.08it/s]\n",
      "Training Epoch 1575: 100%|██████████| 378/378 [00:02<00:00, 171.23it/s]\n",
      "Training Epoch 1576: 100%|██████████| 378/378 [00:02<00:00, 175.35it/s]\n",
      "Training Epoch 1577: 100%|██████████| 378/378 [00:02<00:00, 174.30it/s]\n",
      "Training Epoch 1578: 100%|██████████| 378/378 [00:02<00:00, 174.33it/s]\n",
      "Training Epoch 1579: 100%|██████████| 378/378 [00:02<00:00, 175.26it/s]\n",
      "Training Epoch 1580: 100%|██████████| 378/378 [00:02<00:00, 169.89it/s]\n",
      "Training Epoch 1581: 100%|██████████| 378/378 [00:02<00:00, 175.10it/s]\n"
     ]
    },
    {
     "name": "stdout",
     "output_type": "stream",
     "text": [
      "Epoch 1580 - Train Loss: 0.5399, Train MSE: 0.5402, Train MAE: 0.5100\n",
      "Epoch 1580 - Validation Loss: 1.5547, Validation MSE: 1.5577, Validation MAE: 0.8968\n"
     ]
    },
    {
     "name": "stderr",
     "output_type": "stream",
     "text": [
      "Training Epoch 1582: 100%|██████████| 378/378 [00:02<00:00, 176.30it/s]\n",
      "Training Epoch 1583: 100%|██████████| 378/378 [00:02<00:00, 174.47it/s]\n",
      "Training Epoch 1584: 100%|██████████| 378/378 [00:02<00:00, 171.77it/s]\n",
      "Training Epoch 1585: 100%|██████████| 378/378 [00:02<00:00, 172.40it/s]\n",
      "Training Epoch 1586: 100%|██████████| 378/378 [00:02<00:00, 170.46it/s]\n",
      "Training Epoch 1587: 100%|██████████| 378/378 [00:02<00:00, 172.79it/s]\n",
      "Training Epoch 1588: 100%|██████████| 378/378 [00:02<00:00, 171.89it/s]\n",
      "Training Epoch 1589: 100%|██████████| 378/378 [00:02<00:00, 176.60it/s]\n",
      "Training Epoch 1590: 100%|██████████| 378/378 [00:02<00:00, 171.59it/s]\n",
      "Training Epoch 1591: 100%|██████████| 378/378 [00:02<00:00, 172.99it/s]\n"
     ]
    },
    {
     "name": "stdout",
     "output_type": "stream",
     "text": [
      "Epoch 1590 - Train Loss: 0.5373, Train MSE: 0.5373, Train MAE: 0.5085\n",
      "Epoch 1590 - Validation Loss: 1.5362, Validation MSE: 1.5394, Validation MAE: 0.8880\n"
     ]
    },
    {
     "name": "stderr",
     "output_type": "stream",
     "text": [
      "Training Epoch 1592: 100%|██████████| 378/378 [00:02<00:00, 171.34it/s]\n",
      "Training Epoch 1593: 100%|██████████| 378/378 [00:02<00:00, 175.61it/s]\n",
      "Training Epoch 1594: 100%|██████████| 378/378 [00:02<00:00, 172.31it/s]\n",
      "Training Epoch 1595: 100%|██████████| 378/378 [00:02<00:00, 172.82it/s]\n",
      "Training Epoch 1596: 100%|██████████| 378/378 [00:02<00:00, 175.46it/s]\n",
      "Training Epoch 1597: 100%|██████████| 378/378 [00:02<00:00, 171.41it/s]\n",
      "Training Epoch 1598: 100%|██████████| 378/378 [00:02<00:00, 175.59it/s]\n",
      "Training Epoch 1599: 100%|██████████| 378/378 [00:02<00:00, 175.52it/s]\n",
      "Training Epoch 1600: 100%|██████████| 378/378 [00:02<00:00, 173.64it/s]\n",
      "Training Epoch 1601: 100%|██████████| 378/378 [00:02<00:00, 168.48it/s]\n"
     ]
    },
    {
     "name": "stdout",
     "output_type": "stream",
     "text": [
      "Epoch 1600 - Train Loss: 0.5330, Train MSE: 0.5328, Train MAE: 0.5058\n",
      "Epoch 1600 - Validation Loss: 1.5538, Validation MSE: 1.5568, Validation MAE: 0.8851\n"
     ]
    },
    {
     "name": "stderr",
     "output_type": "stream",
     "text": [
      "Training Epoch 1602: 100%|██████████| 378/378 [00:02<00:00, 173.00it/s]\n",
      "Training Epoch 1603: 100%|██████████| 378/378 [00:02<00:00, 174.35it/s]\n",
      "Training Epoch 1604: 100%|██████████| 378/378 [00:02<00:00, 174.85it/s]\n",
      "Training Epoch 1605: 100%|██████████| 378/378 [00:02<00:00, 175.03it/s]\n",
      "Training Epoch 1606: 100%|██████████| 378/378 [00:02<00:00, 170.27it/s]\n",
      "Training Epoch 1607: 100%|██████████| 378/378 [00:02<00:00, 174.87it/s]\n",
      "Training Epoch 1608: 100%|██████████| 378/378 [00:02<00:00, 172.72it/s]\n",
      "Training Epoch 1609: 100%|██████████| 378/378 [00:02<00:00, 173.16it/s]\n",
      "Training Epoch 1610: 100%|██████████| 378/378 [00:02<00:00, 173.01it/s]\n",
      "Training Epoch 1611: 100%|██████████| 378/378 [00:02<00:00, 174.33it/s]\n"
     ]
    },
    {
     "name": "stdout",
     "output_type": "stream",
     "text": [
      "Epoch 1610 - Train Loss: 0.5378, Train MSE: 0.5378, Train MAE: 0.5075\n",
      "Epoch 1610 - Validation Loss: 1.5367, Validation MSE: 1.5399, Validation MAE: 0.8934\n"
     ]
    },
    {
     "name": "stderr",
     "output_type": "stream",
     "text": [
      "Training Epoch 1612: 100%|██████████| 378/378 [00:02<00:00, 172.78it/s]\n",
      "Training Epoch 1613: 100%|██████████| 378/378 [00:02<00:00, 173.34it/s]\n",
      "Training Epoch 1614: 100%|██████████| 378/378 [00:02<00:00, 174.80it/s]\n",
      "Training Epoch 1615: 100%|██████████| 378/378 [00:02<00:00, 172.28it/s]\n",
      "Training Epoch 1616: 100%|██████████| 378/378 [00:02<00:00, 175.82it/s]\n",
      "Training Epoch 1617: 100%|██████████| 378/378 [00:02<00:00, 170.44it/s]\n",
      "Training Epoch 1618: 100%|██████████| 378/378 [00:02<00:00, 170.25it/s]\n",
      "Training Epoch 1619: 100%|██████████| 378/378 [00:02<00:00, 173.90it/s]\n",
      "Training Epoch 1620: 100%|██████████| 378/378 [00:02<00:00, 174.21it/s]\n",
      "Training Epoch 1621: 100%|██████████| 378/378 [00:02<00:00, 177.11it/s]\n"
     ]
    },
    {
     "name": "stdout",
     "output_type": "stream",
     "text": [
      "Epoch 1620 - Train Loss: 0.5404, Train MSE: 0.5406, Train MAE: 0.5109\n",
      "Epoch 1620 - Validation Loss: 1.5544, Validation MSE: 1.5575, Validation MAE: 0.8895\n"
     ]
    },
    {
     "name": "stderr",
     "output_type": "stream",
     "text": [
      "Training Epoch 1622: 100%|██████████| 378/378 [00:02<00:00, 169.12it/s]\n",
      "Training Epoch 1623: 100%|██████████| 378/378 [00:02<00:00, 177.45it/s]\n",
      "Training Epoch 1624: 100%|██████████| 378/378 [00:02<00:00, 172.82it/s]\n",
      "Training Epoch 1625: 100%|██████████| 378/378 [00:02<00:00, 174.24it/s]\n",
      "Training Epoch 1626: 100%|██████████| 378/378 [00:02<00:00, 173.22it/s]\n",
      "Training Epoch 1627: 100%|██████████| 378/378 [00:02<00:00, 176.36it/s]\n",
      "Training Epoch 1628: 100%|██████████| 378/378 [00:02<00:00, 174.03it/s]\n",
      "Training Epoch 1629: 100%|██████████| 378/378 [00:02<00:00, 172.37it/s]\n",
      "Training Epoch 1630: 100%|██████████| 378/378 [00:02<00:00, 170.74it/s]\n",
      "Training Epoch 1631: 100%|██████████| 378/378 [00:02<00:00, 178.89it/s]\n"
     ]
    },
    {
     "name": "stdout",
     "output_type": "stream",
     "text": [
      "Epoch 1630 - Train Loss: 0.5318, Train MSE: 0.5319, Train MAE: 0.5052\n",
      "Epoch 1630 - Validation Loss: 1.5316, Validation MSE: 1.5346, Validation MAE: 0.8915\n"
     ]
    },
    {
     "name": "stderr",
     "output_type": "stream",
     "text": [
      "Training Epoch 1632: 100%|██████████| 378/378 [00:02<00:00, 174.27it/s]\n",
      "Training Epoch 1633: 100%|██████████| 378/378 [00:02<00:00, 173.35it/s]\n",
      "Training Epoch 1634: 100%|██████████| 378/378 [00:02<00:00, 174.73it/s]\n",
      "Training Epoch 1635: 100%|██████████| 378/378 [00:02<00:00, 172.98it/s]\n",
      "Training Epoch 1636: 100%|██████████| 378/378 [00:02<00:00, 169.90it/s]\n",
      "Training Epoch 1637: 100%|██████████| 378/378 [00:02<00:00, 172.70it/s]\n",
      "Training Epoch 1638: 100%|██████████| 378/378 [00:02<00:00, 174.39it/s]\n",
      "Training Epoch 1639: 100%|██████████| 378/378 [00:02<00:00, 170.92it/s]\n",
      "Training Epoch 1640: 100%|██████████| 378/378 [00:02<00:00, 175.04it/s]\n",
      "Training Epoch 1641: 100%|██████████| 378/378 [00:02<00:00, 171.72it/s]\n"
     ]
    },
    {
     "name": "stdout",
     "output_type": "stream",
     "text": [
      "Epoch 1640 - Train Loss: 0.5264, Train MSE: 0.5266, Train MAE: 0.5023\n",
      "Epoch 1640 - Validation Loss: 1.5571, Validation MSE: 1.5598, Validation MAE: 0.8891\n"
     ]
    },
    {
     "name": "stderr",
     "output_type": "stream",
     "text": [
      "Training Epoch 1642: 100%|██████████| 378/378 [00:02<00:00, 177.60it/s]\n",
      "Training Epoch 1643: 100%|██████████| 378/378 [00:02<00:00, 166.50it/s]\n",
      "Training Epoch 1644: 100%|██████████| 378/378 [00:02<00:00, 171.15it/s]\n",
      "Training Epoch 1645: 100%|██████████| 378/378 [00:02<00:00, 173.95it/s]\n",
      "Training Epoch 1646: 100%|██████████| 378/378 [00:02<00:00, 176.19it/s]\n",
      "Training Epoch 1647: 100%|██████████| 378/378 [00:02<00:00, 174.71it/s]\n",
      "Training Epoch 1648: 100%|██████████| 378/378 [00:02<00:00, 173.96it/s]\n",
      "Training Epoch 1649: 100%|██████████| 378/378 [00:02<00:00, 174.80it/s]\n",
      "Training Epoch 1650: 100%|██████████| 378/378 [00:02<00:00, 170.54it/s]\n",
      "Training Epoch 1651: 100%|██████████| 378/378 [00:02<00:00, 175.11it/s]\n"
     ]
    },
    {
     "name": "stdout",
     "output_type": "stream",
     "text": [
      "Epoch 1650 - Train Loss: 0.5196, Train MSE: 0.5196, Train MAE: 0.5012\n",
      "Epoch 1650 - Validation Loss: 1.5558, Validation MSE: 1.5588, Validation MAE: 0.8913\n"
     ]
    },
    {
     "name": "stderr",
     "output_type": "stream",
     "text": [
      "Training Epoch 1652: 100%|██████████| 378/378 [00:02<00:00, 172.72it/s]\n",
      "Training Epoch 1653: 100%|██████████| 378/378 [00:02<00:00, 179.46it/s]\n",
      "Training Epoch 1654: 100%|██████████| 378/378 [00:02<00:00, 173.63it/s]\n",
      "Training Epoch 1655: 100%|██████████| 378/378 [00:02<00:00, 176.45it/s]\n",
      "Training Epoch 1656: 100%|██████████| 378/378 [00:02<00:00, 172.76it/s]\n",
      "Training Epoch 1657: 100%|██████████| 378/378 [00:02<00:00, 168.86it/s]\n",
      "Training Epoch 1658: 100%|██████████| 378/378 [00:02<00:00, 175.04it/s]\n",
      "Training Epoch 1659: 100%|██████████| 378/378 [00:02<00:00, 174.12it/s]\n",
      "Training Epoch 1660: 100%|██████████| 378/378 [00:02<00:00, 175.41it/s]\n",
      "Training Epoch 1661: 100%|██████████| 378/378 [00:02<00:00, 172.08it/s]\n"
     ]
    },
    {
     "name": "stdout",
     "output_type": "stream",
     "text": [
      "Epoch 1660 - Train Loss: 0.5278, Train MSE: 0.5281, Train MAE: 0.5025\n",
      "Epoch 1660 - Validation Loss: 1.5227, Validation MSE: 1.5262, Validation MAE: 0.8810\n"
     ]
    },
    {
     "name": "stderr",
     "output_type": "stream",
     "text": [
      "Training Epoch 1662: 100%|██████████| 378/378 [00:02<00:00, 178.91it/s]\n",
      "Training Epoch 1663: 100%|██████████| 378/378 [00:02<00:00, 172.58it/s]\n",
      "Training Epoch 1664: 100%|██████████| 378/378 [00:02<00:00, 175.10it/s]\n",
      "Training Epoch 1665: 100%|██████████| 378/378 [00:02<00:00, 176.54it/s]\n",
      "Training Epoch 1666: 100%|██████████| 378/378 [00:02<00:00, 175.98it/s]\n",
      "Training Epoch 1667: 100%|██████████| 378/378 [00:02<00:00, 176.67it/s]\n",
      "Training Epoch 1668: 100%|██████████| 378/378 [00:02<00:00, 175.46it/s]\n",
      "Training Epoch 1669: 100%|██████████| 378/378 [00:02<00:00, 175.67it/s]\n",
      "Training Epoch 1670: 100%|██████████| 378/378 [00:02<00:00, 176.33it/s]\n",
      "Training Epoch 1671: 100%|██████████| 378/378 [00:02<00:00, 173.99it/s]\n"
     ]
    },
    {
     "name": "stdout",
     "output_type": "stream",
     "text": [
      "Epoch 1670 - Train Loss: 0.5394, Train MSE: 0.5396, Train MAE: 0.5082\n",
      "Epoch 1670 - Validation Loss: 1.5715, Validation MSE: 1.5741, Validation MAE: 0.8933\n"
     ]
    },
    {
     "name": "stderr",
     "output_type": "stream",
     "text": [
      "Training Epoch 1672: 100%|██████████| 378/378 [00:02<00:00, 173.31it/s]\n",
      "Training Epoch 1673: 100%|██████████| 378/378 [00:02<00:00, 177.48it/s]\n",
      "Training Epoch 1674: 100%|██████████| 378/378 [00:02<00:00, 173.77it/s]\n",
      "Training Epoch 1675: 100%|██████████| 378/378 [00:02<00:00, 177.19it/s]\n",
      "Training Epoch 1676: 100%|██████████| 378/378 [00:02<00:00, 173.21it/s]\n",
      "Training Epoch 1677: 100%|██████████| 378/378 [00:02<00:00, 172.26it/s]\n",
      "Training Epoch 1678: 100%|██████████| 378/378 [00:02<00:00, 174.33it/s]\n",
      "Training Epoch 1679: 100%|██████████| 378/378 [00:02<00:00, 172.40it/s]\n",
      "Training Epoch 1680: 100%|██████████| 378/378 [00:02<00:00, 174.07it/s]\n",
      "Training Epoch 1681: 100%|██████████| 378/378 [00:02<00:00, 176.38it/s]\n"
     ]
    },
    {
     "name": "stdout",
     "output_type": "stream",
     "text": [
      "Epoch 1680 - Train Loss: 0.5348, Train MSE: 0.5348, Train MAE: 0.5072\n",
      "Epoch 1680 - Validation Loss: 1.5681, Validation MSE: 1.5705, Validation MAE: 0.8911\n"
     ]
    },
    {
     "name": "stderr",
     "output_type": "stream",
     "text": [
      "Training Epoch 1682: 100%|██████████| 378/378 [00:02<00:00, 174.86it/s]\n",
      "Training Epoch 1683: 100%|██████████| 378/378 [00:02<00:00, 173.08it/s]\n",
      "Training Epoch 1684: 100%|██████████| 378/378 [00:02<00:00, 176.77it/s]\n",
      "Training Epoch 1685: 100%|██████████| 378/378 [00:02<00:00, 171.82it/s]\n",
      "Training Epoch 1686: 100%|██████████| 378/378 [00:02<00:00, 177.13it/s]\n",
      "Training Epoch 1687: 100%|██████████| 378/378 [00:02<00:00, 176.32it/s]\n",
      "Training Epoch 1688: 100%|██████████| 378/378 [00:02<00:00, 175.18it/s]\n",
      "Training Epoch 1689: 100%|██████████| 378/378 [00:02<00:00, 171.70it/s]\n",
      "Training Epoch 1690: 100%|██████████| 378/378 [00:02<00:00, 175.81it/s]\n",
      "Training Epoch 1691: 100%|██████████| 378/378 [00:02<00:00, 173.22it/s]\n"
     ]
    },
    {
     "name": "stdout",
     "output_type": "stream",
     "text": [
      "Epoch 1690 - Train Loss: 0.5279, Train MSE: 0.5281, Train MAE: 0.5060\n",
      "Epoch 1690 - Validation Loss: 1.5357, Validation MSE: 1.5385, Validation MAE: 0.8839\n"
     ]
    },
    {
     "name": "stderr",
     "output_type": "stream",
     "text": [
      "Training Epoch 1692: 100%|██████████| 378/378 [00:02<00:00, 169.71it/s]\n",
      "Training Epoch 1693: 100%|██████████| 378/378 [00:02<00:00, 172.30it/s]\n",
      "Training Epoch 1694: 100%|██████████| 378/378 [00:02<00:00, 173.27it/s]\n",
      "Training Epoch 1695: 100%|██████████| 378/378 [00:02<00:00, 175.90it/s]\n",
      "Training Epoch 1696: 100%|██████████| 378/378 [00:02<00:00, 169.66it/s]\n",
      "Training Epoch 1697: 100%|██████████| 378/378 [00:02<00:00, 172.12it/s]\n",
      "Training Epoch 1698: 100%|██████████| 378/378 [00:02<00:00, 176.44it/s]\n",
      "Training Epoch 1699: 100%|██████████| 378/378 [00:02<00:00, 169.79it/s]\n",
      "Training Epoch 1700: 100%|██████████| 378/378 [00:02<00:00, 172.53it/s]\n",
      "Training Epoch 1701: 100%|██████████| 378/378 [00:02<00:00, 175.71it/s]\n"
     ]
    },
    {
     "name": "stdout",
     "output_type": "stream",
     "text": [
      "Epoch 1700 - Train Loss: 0.5320, Train MSE: 0.5313, Train MAE: 0.5037\n",
      "Epoch 1700 - Validation Loss: 1.5444, Validation MSE: 1.5463, Validation MAE: 0.8913\n"
     ]
    },
    {
     "name": "stderr",
     "output_type": "stream",
     "text": [
      "Training Epoch 1702: 100%|██████████| 378/378 [00:02<00:00, 173.40it/s]\n",
      "Training Epoch 1703: 100%|██████████| 378/378 [00:02<00:00, 173.99it/s]\n",
      "Training Epoch 1704: 100%|██████████| 378/378 [00:02<00:00, 174.62it/s]\n",
      "Training Epoch 1705: 100%|██████████| 378/378 [00:02<00:00, 172.75it/s]\n",
      "Training Epoch 1706: 100%|██████████| 378/378 [00:02<00:00, 173.79it/s]\n",
      "Training Epoch 1707: 100%|██████████| 378/378 [00:02<00:00, 174.27it/s]\n",
      "Training Epoch 1708: 100%|██████████| 378/378 [00:02<00:00, 178.65it/s]\n",
      "Training Epoch 1709: 100%|██████████| 378/378 [00:02<00:00, 173.82it/s]\n",
      "Training Epoch 1710: 100%|██████████| 378/378 [00:02<00:00, 176.55it/s]\n",
      "Training Epoch 1711: 100%|██████████| 378/378 [00:02<00:00, 173.61it/s]\n"
     ]
    },
    {
     "name": "stdout",
     "output_type": "stream",
     "text": [
      "Epoch 1710 - Train Loss: 0.5327, Train MSE: 0.5326, Train MAE: 0.5047\n",
      "Epoch 1710 - Validation Loss: 1.5323, Validation MSE: 1.5357, Validation MAE: 0.8827\n"
     ]
    },
    {
     "name": "stderr",
     "output_type": "stream",
     "text": [
      "Training Epoch 1712: 100%|██████████| 378/378 [00:02<00:00, 175.54it/s]\n",
      "Training Epoch 1713: 100%|██████████| 378/378 [00:02<00:00, 174.65it/s]\n",
      "Training Epoch 1714: 100%|██████████| 378/378 [00:02<00:00, 174.42it/s]\n",
      "Training Epoch 1715: 100%|██████████| 378/378 [00:02<00:00, 174.19it/s]\n",
      "Training Epoch 1716: 100%|██████████| 378/378 [00:02<00:00, 173.64it/s]\n",
      "Training Epoch 1717: 100%|██████████| 378/378 [00:02<00:00, 177.29it/s]\n",
      "Training Epoch 1718: 100%|██████████| 378/378 [00:02<00:00, 166.81it/s]\n",
      "Training Epoch 1719: 100%|██████████| 378/378 [00:02<00:00, 172.38it/s]\n",
      "Training Epoch 1720: 100%|██████████| 378/378 [00:02<00:00, 172.09it/s]\n",
      "Training Epoch 1721: 100%|██████████| 378/378 [00:02<00:00, 171.55it/s]\n"
     ]
    },
    {
     "name": "stdout",
     "output_type": "stream",
     "text": [
      "Epoch 1720 - Train Loss: 0.5360, Train MSE: 0.5361, Train MAE: 0.5052\n",
      "Epoch 1720 - Validation Loss: 1.5375, Validation MSE: 1.5397, Validation MAE: 0.8875\n"
     ]
    },
    {
     "name": "stderr",
     "output_type": "stream",
     "text": [
      "Training Epoch 1722: 100%|██████████| 378/378 [00:02<00:00, 169.11it/s]\n",
      "Training Epoch 1723: 100%|██████████| 378/378 [00:02<00:00, 167.30it/s]\n",
      "Training Epoch 1724: 100%|██████████| 378/378 [00:02<00:00, 174.39it/s]\n",
      "Training Epoch 1725: 100%|██████████| 378/378 [00:02<00:00, 174.24it/s]\n",
      "Training Epoch 1726: 100%|██████████| 378/378 [00:02<00:00, 174.22it/s]\n",
      "Training Epoch 1727: 100%|██████████| 378/378 [00:02<00:00, 170.84it/s]\n",
      "Training Epoch 1728: 100%|██████████| 378/378 [00:02<00:00, 175.85it/s]\n",
      "Training Epoch 1729: 100%|██████████| 378/378 [00:02<00:00, 173.59it/s]\n",
      "Training Epoch 1730: 100%|██████████| 378/378 [00:02<00:00, 176.86it/s]\n",
      "Training Epoch 1731: 100%|██████████| 378/378 [00:02<00:00, 174.18it/s]\n"
     ]
    },
    {
     "name": "stdout",
     "output_type": "stream",
     "text": [
      "Epoch 1730 - Train Loss: 0.5285, Train MSE: 0.5288, Train MAE: 0.5013\n",
      "Epoch 1730 - Validation Loss: 1.5537, Validation MSE: 1.5571, Validation MAE: 0.8939\n"
     ]
    },
    {
     "name": "stderr",
     "output_type": "stream",
     "text": [
      "Training Epoch 1732: 100%|██████████| 378/378 [00:02<00:00, 172.47it/s]\n",
      "Training Epoch 1733: 100%|██████████| 378/378 [00:02<00:00, 175.49it/s]\n",
      "Training Epoch 1734: 100%|██████████| 378/378 [00:02<00:00, 171.42it/s]\n",
      "Training Epoch 1735: 100%|██████████| 378/378 [00:02<00:00, 176.65it/s]\n",
      "Training Epoch 1736: 100%|██████████| 378/378 [00:02<00:00, 174.39it/s]\n",
      "Training Epoch 1737: 100%|██████████| 378/378 [00:02<00:00, 175.27it/s]\n",
      "Training Epoch 1738: 100%|██████████| 378/378 [00:02<00:00, 172.11it/s]\n",
      "Training Epoch 1739: 100%|██████████| 378/378 [00:02<00:00, 176.01it/s]\n",
      "Training Epoch 1740: 100%|██████████| 378/378 [00:02<00:00, 171.01it/s]\n",
      "Training Epoch 1741: 100%|██████████| 378/378 [00:02<00:00, 176.54it/s]\n"
     ]
    },
    {
     "name": "stdout",
     "output_type": "stream",
     "text": [
      "Epoch 1740 - Train Loss: 0.5257, Train MSE: 0.5257, Train MAE: 0.5018\n",
      "Epoch 1740 - Validation Loss: 1.5636, Validation MSE: 1.5663, Validation MAE: 0.8934\n"
     ]
    },
    {
     "name": "stderr",
     "output_type": "stream",
     "text": [
      "Training Epoch 1742: 100%|██████████| 378/378 [00:02<00:00, 173.24it/s]\n",
      "Training Epoch 1743: 100%|██████████| 378/378 [00:02<00:00, 176.65it/s]\n",
      "Training Epoch 1744: 100%|██████████| 378/378 [00:02<00:00, 173.10it/s]\n",
      "Training Epoch 1745: 100%|██████████| 378/378 [00:02<00:00, 171.99it/s]\n",
      "Training Epoch 1746: 100%|██████████| 378/378 [00:02<00:00, 173.70it/s]\n",
      "Training Epoch 1747: 100%|██████████| 378/378 [00:02<00:00, 175.36it/s]\n",
      "Training Epoch 1748: 100%|██████████| 378/378 [00:02<00:00, 171.02it/s]\n",
      "Training Epoch 1749: 100%|██████████| 378/378 [00:02<00:00, 171.11it/s]\n",
      "Training Epoch 1750: 100%|██████████| 378/378 [00:02<00:00, 174.19it/s]\n",
      "Training Epoch 1751: 100%|██████████| 378/378 [00:02<00:00, 169.57it/s]\n"
     ]
    },
    {
     "name": "stdout",
     "output_type": "stream",
     "text": [
      "Epoch 1750 - Train Loss: 0.5274, Train MSE: 0.5273, Train MAE: 0.5034\n",
      "Epoch 1750 - Validation Loss: 1.5314, Validation MSE: 1.5346, Validation MAE: 0.8884\n"
     ]
    },
    {
     "name": "stderr",
     "output_type": "stream",
     "text": [
      "Training Epoch 1752: 100%|██████████| 378/378 [00:02<00:00, 177.15it/s]\n",
      "Training Epoch 1753: 100%|██████████| 378/378 [00:02<00:00, 170.07it/s]\n",
      "Training Epoch 1754: 100%|██████████| 378/378 [00:02<00:00, 174.77it/s]\n",
      "Training Epoch 1755: 100%|██████████| 378/378 [00:02<00:00, 169.05it/s]\n",
      "Training Epoch 1756: 100%|██████████| 378/378 [00:02<00:00, 171.11it/s]\n",
      "Training Epoch 1757: 100%|██████████| 378/378 [00:02<00:00, 174.59it/s]\n",
      "Training Epoch 1758: 100%|██████████| 378/378 [00:02<00:00, 176.17it/s]\n",
      "Training Epoch 1759: 100%|██████████| 378/378 [00:02<00:00, 175.26it/s]\n",
      "Training Epoch 1760: 100%|██████████| 378/378 [00:02<00:00, 171.45it/s]\n",
      "Training Epoch 1761: 100%|██████████| 378/378 [00:02<00:00, 173.24it/s]\n"
     ]
    },
    {
     "name": "stdout",
     "output_type": "stream",
     "text": [
      "Epoch 1760 - Train Loss: 0.5247, Train MSE: 0.5249, Train MAE: 0.5032\n",
      "Epoch 1760 - Validation Loss: 1.5649, Validation MSE: 1.5682, Validation MAE: 0.8946\n"
     ]
    },
    {
     "name": "stderr",
     "output_type": "stream",
     "text": [
      "Training Epoch 1762: 100%|██████████| 378/378 [00:02<00:00, 167.87it/s]\n",
      "Training Epoch 1763: 100%|██████████| 378/378 [00:02<00:00, 177.20it/s]\n",
      "Training Epoch 1764: 100%|██████████| 378/378 [00:02<00:00, 173.18it/s]\n",
      "Training Epoch 1765: 100%|██████████| 378/378 [00:02<00:00, 175.32it/s]\n",
      "Training Epoch 1766: 100%|██████████| 378/378 [00:02<00:00, 172.24it/s]\n",
      "Training Epoch 1767: 100%|██████████| 378/378 [00:02<00:00, 168.15it/s]\n",
      "Training Epoch 1768: 100%|██████████| 378/378 [00:02<00:00, 172.73it/s]\n",
      "Training Epoch 1769: 100%|██████████| 378/378 [00:02<00:00, 169.61it/s]\n",
      "Training Epoch 1770: 100%|██████████| 378/378 [00:02<00:00, 173.16it/s]\n",
      "Training Epoch 1771: 100%|██████████| 378/378 [00:02<00:00, 171.09it/s]\n"
     ]
    },
    {
     "name": "stdout",
     "output_type": "stream",
     "text": [
      "Epoch 1770 - Train Loss: 0.5183, Train MSE: 0.5184, Train MAE: 0.4985\n",
      "Epoch 1770 - Validation Loss: 1.5784, Validation MSE: 1.5813, Validation MAE: 0.9028\n"
     ]
    },
    {
     "name": "stderr",
     "output_type": "stream",
     "text": [
      "Training Epoch 1772: 100%|██████████| 378/378 [00:02<00:00, 173.69it/s]\n",
      "Training Epoch 1773: 100%|██████████| 378/378 [00:02<00:00, 170.75it/s]\n",
      "Training Epoch 1774: 100%|██████████| 378/378 [00:02<00:00, 177.02it/s]\n",
      "Training Epoch 1775: 100%|██████████| 378/378 [00:02<00:00, 174.68it/s]\n",
      "Training Epoch 1776: 100%|██████████| 378/378 [00:02<00:00, 172.76it/s]\n",
      "Training Epoch 1777: 100%|██████████| 378/378 [00:02<00:00, 175.24it/s]\n",
      "Training Epoch 1778: 100%|██████████| 378/378 [00:02<00:00, 170.78it/s]\n",
      "Training Epoch 1779: 100%|██████████| 378/378 [00:02<00:00, 173.55it/s]\n",
      "Training Epoch 1780: 100%|██████████| 378/378 [00:02<00:00, 171.30it/s]\n",
      "Training Epoch 1781: 100%|██████████| 378/378 [00:02<00:00, 173.48it/s]\n"
     ]
    },
    {
     "name": "stdout",
     "output_type": "stream",
     "text": [
      "Epoch 1780 - Train Loss: 0.5313, Train MSE: 0.5315, Train MAE: 0.5026\n",
      "Epoch 1780 - Validation Loss: 1.5443, Validation MSE: 1.5473, Validation MAE: 0.8909\n"
     ]
    },
    {
     "name": "stderr",
     "output_type": "stream",
     "text": [
      "Training Epoch 1782: 100%|██████████| 378/378 [00:02<00:00, 170.95it/s]\n",
      "Training Epoch 1783: 100%|██████████| 378/378 [00:02<00:00, 172.45it/s]\n",
      "Training Epoch 1784: 100%|██████████| 378/378 [00:02<00:00, 174.65it/s]\n",
      "Training Epoch 1785: 100%|██████████| 378/378 [00:02<00:00, 177.57it/s]\n",
      "Training Epoch 1786: 100%|██████████| 378/378 [00:02<00:00, 172.73it/s]\n",
      "Training Epoch 1787: 100%|██████████| 378/378 [00:02<00:00, 168.85it/s]\n",
      "Training Epoch 1788: 100%|██████████| 378/378 [00:02<00:00, 172.63it/s]\n",
      "Training Epoch 1789: 100%|██████████| 378/378 [00:02<00:00, 169.51it/s]\n",
      "Training Epoch 1790: 100%|██████████| 378/378 [00:02<00:00, 175.09it/s]\n",
      "Training Epoch 1791: 100%|██████████| 378/378 [00:02<00:00, 171.86it/s]\n"
     ]
    },
    {
     "name": "stdout",
     "output_type": "stream",
     "text": [
      "Epoch 1790 - Train Loss: 0.5309, Train MSE: 0.5310, Train MAE: 0.5023\n",
      "Epoch 1790 - Validation Loss: 1.5577, Validation MSE: 1.5606, Validation MAE: 0.8919\n"
     ]
    },
    {
     "name": "stderr",
     "output_type": "stream",
     "text": [
      "Training Epoch 1792: 100%|██████████| 378/378 [00:02<00:00, 170.11it/s]\n",
      "Training Epoch 1793: 100%|██████████| 378/378 [00:02<00:00, 175.17it/s]\n",
      "Training Epoch 1794: 100%|██████████| 378/378 [00:02<00:00, 168.67it/s]\n",
      "Training Epoch 1795: 100%|██████████| 378/378 [00:02<00:00, 172.63it/s]\n",
      "Training Epoch 1796: 100%|██████████| 378/378 [00:02<00:00, 171.68it/s]\n",
      "Training Epoch 1797: 100%|██████████| 378/378 [00:02<00:00, 176.32it/s]\n",
      "Training Epoch 1798: 100%|██████████| 378/378 [00:02<00:00, 169.94it/s]\n",
      "Training Epoch 1799: 100%|██████████| 378/378 [00:02<00:00, 174.52it/s]\n",
      "Training Epoch 1800: 100%|██████████| 378/378 [00:02<00:00, 171.88it/s]\n",
      "Training Epoch 1801: 100%|██████████| 378/378 [00:02<00:00, 176.62it/s]\n"
     ]
    },
    {
     "name": "stdout",
     "output_type": "stream",
     "text": [
      "Epoch 1800 - Train Loss: 0.5393, Train MSE: 0.5394, Train MAE: 0.5071\n",
      "Epoch 1800 - Validation Loss: 1.5225, Validation MSE: 1.5250, Validation MAE: 0.8887\n"
     ]
    },
    {
     "name": "stderr",
     "output_type": "stream",
     "text": [
      "Training Epoch 1802: 100%|██████████| 378/378 [00:02<00:00, 171.74it/s]\n",
      "Training Epoch 1803: 100%|██████████| 378/378 [00:02<00:00, 171.08it/s]\n",
      "Training Epoch 1804: 100%|██████████| 378/378 [00:02<00:00, 169.77it/s]\n",
      "Training Epoch 1805: 100%|██████████| 378/378 [00:02<00:00, 174.42it/s]\n",
      "Training Epoch 1806: 100%|██████████| 378/378 [00:02<00:00, 175.53it/s]\n",
      "Training Epoch 1807: 100%|██████████| 378/378 [00:02<00:00, 175.18it/s]\n",
      "Training Epoch 1808: 100%|██████████| 378/378 [00:02<00:00, 173.42it/s]\n",
      "Training Epoch 1809: 100%|██████████| 378/378 [00:02<00:00, 171.69it/s]\n",
      "Training Epoch 1810: 100%|██████████| 378/378 [00:02<00:00, 174.41it/s]\n",
      "Training Epoch 1811: 100%|██████████| 378/378 [00:02<00:00, 170.05it/s]\n"
     ]
    },
    {
     "name": "stdout",
     "output_type": "stream",
     "text": [
      "Epoch 1810 - Train Loss: 0.5203, Train MSE: 0.5205, Train MAE: 0.5014\n",
      "Epoch 1810 - Validation Loss: 1.5442, Validation MSE: 1.5469, Validation MAE: 0.8967\n"
     ]
    },
    {
     "name": "stderr",
     "output_type": "stream",
     "text": [
      "Training Epoch 1812: 100%|██████████| 378/378 [00:02<00:00, 177.02it/s]\n",
      "Training Epoch 1813: 100%|██████████| 378/378 [00:02<00:00, 171.78it/s]\n",
      "Training Epoch 1814: 100%|██████████| 378/378 [00:02<00:00, 177.29it/s]\n",
      "Training Epoch 1815: 100%|██████████| 378/378 [00:02<00:00, 176.10it/s]\n",
      "Training Epoch 1816: 100%|██████████| 378/378 [00:02<00:00, 177.26it/s]\n",
      "Training Epoch 1817: 100%|██████████| 378/378 [00:02<00:00, 173.12it/s]\n",
      "Training Epoch 1818: 100%|██████████| 378/378 [00:02<00:00, 172.62it/s]\n",
      "Training Epoch 1819: 100%|██████████| 378/378 [00:02<00:00, 173.95it/s]\n",
      "Training Epoch 1820: 100%|██████████| 378/378 [00:02<00:00, 169.69it/s]\n",
      "Training Epoch 1821: 100%|██████████| 378/378 [00:02<00:00, 174.29it/s]\n"
     ]
    },
    {
     "name": "stdout",
     "output_type": "stream",
     "text": [
      "Epoch 1820 - Train Loss: 0.5355, Train MSE: 0.5354, Train MAE: 0.5071\n",
      "Epoch 1820 - Validation Loss: 1.5545, Validation MSE: 1.5571, Validation MAE: 0.8891\n"
     ]
    },
    {
     "name": "stderr",
     "output_type": "stream",
     "text": [
      "Training Epoch 1822: 100%|██████████| 378/378 [00:02<00:00, 172.76it/s]\n",
      "Training Epoch 1823: 100%|██████████| 378/378 [00:02<00:00, 174.32it/s]\n",
      "Training Epoch 1824: 100%|██████████| 378/378 [00:02<00:00, 169.36it/s]\n",
      "Training Epoch 1825: 100%|██████████| 378/378 [00:02<00:00, 173.98it/s]\n",
      "Training Epoch 1826: 100%|██████████| 378/378 [00:02<00:00, 172.10it/s]\n",
      "Training Epoch 1827: 100%|██████████| 378/378 [00:02<00:00, 172.29it/s]\n",
      "Training Epoch 1828: 100%|██████████| 378/378 [00:02<00:00, 175.57it/s]\n",
      "Training Epoch 1829: 100%|██████████| 378/378 [00:02<00:00, 173.86it/s]\n",
      "Training Epoch 1830: 100%|██████████| 378/378 [00:02<00:00, 175.32it/s]\n",
      "Training Epoch 1831: 100%|██████████| 378/378 [00:02<00:00, 168.83it/s]\n"
     ]
    },
    {
     "name": "stdout",
     "output_type": "stream",
     "text": [
      "Epoch 1830 - Train Loss: 0.5258, Train MSE: 0.5260, Train MAE: 0.5016\n",
      "Epoch 1830 - Validation Loss: 1.5307, Validation MSE: 1.5336, Validation MAE: 0.8896\n"
     ]
    },
    {
     "name": "stderr",
     "output_type": "stream",
     "text": [
      "Training Epoch 1832: 100%|██████████| 378/378 [00:02<00:00, 176.95it/s]\n",
      "Training Epoch 1833: 100%|██████████| 378/378 [00:02<00:00, 171.82it/s]\n",
      "Training Epoch 1834: 100%|██████████| 378/378 [00:02<00:00, 177.16it/s]\n",
      "Training Epoch 1835: 100%|██████████| 378/378 [00:02<00:00, 172.77it/s]\n",
      "Training Epoch 1836: 100%|██████████| 378/378 [00:02<00:00, 175.60it/s]\n",
      "Training Epoch 1837: 100%|██████████| 378/378 [00:02<00:00, 171.35it/s]\n",
      "Training Epoch 1838: 100%|██████████| 378/378 [00:02<00:00, 171.16it/s]\n",
      "Training Epoch 1839: 100%|██████████| 378/378 [00:02<00:00, 177.11it/s]\n",
      "Training Epoch 1840: 100%|██████████| 378/378 [00:02<00:00, 169.89it/s]\n",
      "Training Epoch 1841: 100%|██████████| 378/378 [00:02<00:00, 171.47it/s]\n"
     ]
    },
    {
     "name": "stdout",
     "output_type": "stream",
     "text": [
      "Epoch 1840 - Train Loss: 0.5244, Train MSE: 0.5244, Train MAE: 0.5024\n",
      "Epoch 1840 - Validation Loss: 1.5198, Validation MSE: 1.5231, Validation MAE: 0.8841\n"
     ]
    },
    {
     "name": "stderr",
     "output_type": "stream",
     "text": [
      "Training Epoch 1842: 100%|██████████| 378/378 [00:02<00:00, 170.18it/s]\n",
      "Training Epoch 1843: 100%|██████████| 378/378 [00:02<00:00, 174.17it/s]\n",
      "Training Epoch 1844: 100%|██████████| 378/378 [00:02<00:00, 170.37it/s]\n",
      "Training Epoch 1845: 100%|██████████| 378/378 [00:02<00:00, 174.79it/s]\n",
      "Training Epoch 1846: 100%|██████████| 378/378 [00:02<00:00, 168.45it/s]\n",
      "Training Epoch 1847: 100%|██████████| 378/378 [00:02<00:00, 170.37it/s]\n",
      "Training Epoch 1848: 100%|██████████| 378/378 [00:02<00:00, 173.74it/s]\n",
      "Training Epoch 1849: 100%|██████████| 378/378 [00:02<00:00, 170.66it/s]\n",
      "Training Epoch 1850: 100%|██████████| 378/378 [00:02<00:00, 178.95it/s]\n",
      "Training Epoch 1851: 100%|██████████| 378/378 [00:02<00:00, 169.57it/s]\n"
     ]
    },
    {
     "name": "stdout",
     "output_type": "stream",
     "text": [
      "Epoch 1850 - Train Loss: 0.5311, Train MSE: 0.5314, Train MAE: 0.5019\n",
      "Epoch 1850 - Validation Loss: 1.5086, Validation MSE: 1.5119, Validation MAE: 0.8750\n"
     ]
    },
    {
     "name": "stderr",
     "output_type": "stream",
     "text": [
      "Training Epoch 1852: 100%|██████████| 378/378 [00:02<00:00, 169.21it/s]\n",
      "Training Epoch 1853: 100%|██████████| 378/378 [00:02<00:00, 171.52it/s]\n",
      "Training Epoch 1854: 100%|██████████| 378/378 [00:02<00:00, 175.05it/s]\n",
      "Training Epoch 1855: 100%|██████████| 378/378 [00:02<00:00, 171.26it/s]\n",
      "Training Epoch 1856: 100%|██████████| 378/378 [00:02<00:00, 176.24it/s]\n",
      "Training Epoch 1857: 100%|██████████| 378/378 [00:02<00:00, 172.00it/s]\n",
      "Training Epoch 1858: 100%|██████████| 378/378 [00:02<00:00, 171.49it/s]\n",
      "Training Epoch 1859: 100%|██████████| 378/378 [00:02<00:00, 173.63it/s]\n",
      "Training Epoch 1860: 100%|██████████| 378/378 [00:02<00:00, 174.09it/s]\n",
      "Training Epoch 1861: 100%|██████████| 378/378 [00:02<00:00, 176.32it/s]\n"
     ]
    },
    {
     "name": "stdout",
     "output_type": "stream",
     "text": [
      "Epoch 1860 - Train Loss: 0.5255, Train MSE: 0.5258, Train MAE: 0.5034\n",
      "Epoch 1860 - Validation Loss: 1.5586, Validation MSE: 1.5616, Validation MAE: 0.8989\n"
     ]
    },
    {
     "name": "stderr",
     "output_type": "stream",
     "text": [
      "Training Epoch 1862: 100%|██████████| 378/378 [00:02<00:00, 172.27it/s]\n",
      "Training Epoch 1863: 100%|██████████| 378/378 [00:02<00:00, 173.64it/s]\n",
      "Training Epoch 1864: 100%|██████████| 378/378 [00:02<00:00, 173.07it/s]\n",
      "Training Epoch 1865: 100%|██████████| 378/378 [00:02<00:00, 173.24it/s]\n",
      "Training Epoch 1866: 100%|██████████| 378/378 [00:02<00:00, 170.23it/s]\n",
      "Training Epoch 1867: 100%|██████████| 378/378 [00:02<00:00, 178.20it/s]\n",
      "Training Epoch 1868: 100%|██████████| 378/378 [00:02<00:00, 169.90it/s]\n",
      "Training Epoch 1869: 100%|██████████| 378/378 [00:02<00:00, 172.61it/s]\n",
      "Training Epoch 1870: 100%|██████████| 378/378 [00:02<00:00, 173.14it/s]\n",
      "Training Epoch 1871: 100%|██████████| 378/378 [00:02<00:00, 170.75it/s]\n"
     ]
    },
    {
     "name": "stdout",
     "output_type": "stream",
     "text": [
      "Epoch 1870 - Train Loss: 0.5298, Train MSE: 0.5297, Train MAE: 0.4999\n",
      "Epoch 1870 - Validation Loss: 1.5627, Validation MSE: 1.5653, Validation MAE: 0.8957\n"
     ]
    },
    {
     "name": "stderr",
     "output_type": "stream",
     "text": [
      "Training Epoch 1872: 100%|██████████| 378/378 [00:02<00:00, 177.89it/s]\n",
      "Training Epoch 1873: 100%|██████████| 378/378 [00:02<00:00, 167.62it/s]\n",
      "Training Epoch 1874: 100%|██████████| 378/378 [00:02<00:00, 172.50it/s]\n",
      "Training Epoch 1875: 100%|██████████| 378/378 [00:02<00:00, 169.67it/s]\n",
      "Training Epoch 1876: 100%|██████████| 378/378 [00:02<00:00, 172.68it/s]\n",
      "Training Epoch 1877: 100%|██████████| 378/378 [00:02<00:00, 174.04it/s]\n",
      "Training Epoch 1878: 100%|██████████| 378/378 [00:02<00:00, 174.01it/s]\n",
      "Training Epoch 1879: 100%|██████████| 378/378 [00:02<00:00, 170.21it/s]\n",
      "Training Epoch 1880: 100%|██████████| 378/378 [00:02<00:00, 167.83it/s]\n",
      "Training Epoch 1881: 100%|██████████| 378/378 [00:02<00:00, 171.33it/s]\n"
     ]
    },
    {
     "name": "stdout",
     "output_type": "stream",
     "text": [
      "Epoch 1880 - Train Loss: 0.5268, Train MSE: 0.5265, Train MAE: 0.5028\n",
      "Epoch 1880 - Validation Loss: 1.5313, Validation MSE: 1.5336, Validation MAE: 0.8815\n"
     ]
    },
    {
     "name": "stderr",
     "output_type": "stream",
     "text": [
      "Training Epoch 1882: 100%|██████████| 378/378 [00:02<00:00, 171.04it/s]\n",
      "Training Epoch 1883: 100%|██████████| 378/378 [00:02<00:00, 179.69it/s]\n",
      "Training Epoch 1884: 100%|██████████| 378/378 [00:02<00:00, 174.94it/s]\n",
      "Training Epoch 1885: 100%|██████████| 378/378 [00:02<00:00, 176.53it/s]\n",
      "Training Epoch 1886: 100%|██████████| 378/378 [00:02<00:00, 172.79it/s]\n",
      "Training Epoch 1887: 100%|██████████| 378/378 [00:02<00:00, 168.96it/s]\n",
      "Training Epoch 1888: 100%|██████████| 378/378 [00:02<00:00, 176.72it/s]\n",
      "Training Epoch 1889: 100%|██████████| 378/378 [00:02<00:00, 172.93it/s]\n",
      "Training Epoch 1890: 100%|██████████| 378/378 [00:02<00:00, 175.37it/s]\n",
      "Training Epoch 1891: 100%|██████████| 378/378 [00:02<00:00, 169.99it/s]\n"
     ]
    },
    {
     "name": "stdout",
     "output_type": "stream",
     "text": [
      "Epoch 1890 - Train Loss: 0.5283, Train MSE: 0.5273, Train MAE: 0.5012\n",
      "Epoch 1890 - Validation Loss: 1.5176, Validation MSE: 1.5204, Validation MAE: 0.8840\n"
     ]
    },
    {
     "name": "stderr",
     "output_type": "stream",
     "text": [
      "Training Epoch 1892: 100%|██████████| 378/378 [00:02<00:00, 173.15it/s]\n",
      "Training Epoch 1893: 100%|██████████| 378/378 [00:02<00:00, 170.37it/s]\n",
      "Training Epoch 1894: 100%|██████████| 378/378 [00:02<00:00, 177.29it/s]\n",
      "Training Epoch 1895: 100%|██████████| 378/378 [00:02<00:00, 175.41it/s]\n",
      "Training Epoch 1896: 100%|██████████| 378/378 [00:02<00:00, 171.19it/s]\n",
      "Training Epoch 1897: 100%|██████████| 378/378 [00:02<00:00, 173.07it/s]\n",
      "Training Epoch 1898: 100%|██████████| 378/378 [00:02<00:00, 170.47it/s]\n",
      "Training Epoch 1899: 100%|██████████| 378/378 [00:02<00:00, 175.86it/s]\n",
      "Training Epoch 1900: 100%|██████████| 378/378 [00:02<00:00, 173.94it/s]\n",
      "Training Epoch 1901: 100%|██████████| 378/378 [00:02<00:00, 171.59it/s]\n"
     ]
    },
    {
     "name": "stdout",
     "output_type": "stream",
     "text": [
      "Epoch 1900 - Train Loss: 0.5236, Train MSE: 0.5237, Train MAE: 0.5009\n",
      "Epoch 1900 - Validation Loss: 1.5364, Validation MSE: 1.5392, Validation MAE: 0.8864\n"
     ]
    },
    {
     "name": "stderr",
     "output_type": "stream",
     "text": [
      "Training Epoch 1902: 100%|██████████| 378/378 [00:02<00:00, 170.75it/s]\n",
      "Training Epoch 1903: 100%|██████████| 378/378 [00:02<00:00, 176.53it/s]\n",
      "Training Epoch 1904: 100%|██████████| 378/378 [00:02<00:00, 172.28it/s]\n",
      "Training Epoch 1905: 100%|██████████| 378/378 [00:02<00:00, 174.54it/s]\n",
      "Training Epoch 1906: 100%|██████████| 378/378 [00:02<00:00, 172.79it/s]\n",
      "Training Epoch 1907: 100%|██████████| 378/378 [00:02<00:00, 169.76it/s]\n",
      "Training Epoch 1908: 100%|██████████| 378/378 [00:02<00:00, 171.84it/s]\n",
      "Training Epoch 1909: 100%|██████████| 378/378 [00:02<00:00, 170.61it/s]\n",
      "Training Epoch 1910: 100%|██████████| 378/378 [00:02<00:00, 176.38it/s]\n",
      "Training Epoch 1911: 100%|██████████| 378/378 [00:02<00:00, 171.41it/s]\n"
     ]
    },
    {
     "name": "stdout",
     "output_type": "stream",
     "text": [
      "Epoch 1910 - Train Loss: 0.5197, Train MSE: 0.5198, Train MAE: 0.5000\n",
      "Epoch 1910 - Validation Loss: 1.5210, Validation MSE: 1.5237, Validation MAE: 0.8798\n"
     ]
    },
    {
     "name": "stderr",
     "output_type": "stream",
     "text": [
      "Training Epoch 1912: 100%|██████████| 378/378 [00:02<00:00, 173.82it/s]\n",
      "Training Epoch 1913: 100%|██████████| 378/378 [00:02<00:00, 172.33it/s]\n",
      "Training Epoch 1914: 100%|██████████| 378/378 [00:02<00:00, 174.38it/s]\n",
      "Training Epoch 1915: 100%|██████████| 378/378 [00:02<00:00, 178.05it/s]\n",
      "Training Epoch 1916: 100%|██████████| 378/378 [00:02<00:00, 177.03it/s]\n",
      "Training Epoch 1917: 100%|██████████| 378/378 [00:02<00:00, 170.00it/s]\n",
      "Training Epoch 1918: 100%|██████████| 378/378 [00:02<00:00, 174.29it/s]\n",
      "Training Epoch 1919: 100%|██████████| 378/378 [00:02<00:00, 171.39it/s]\n",
      "Training Epoch 1920: 100%|██████████| 378/378 [00:02<00:00, 174.26it/s]\n",
      "Training Epoch 1921: 100%|██████████| 378/378 [00:02<00:00, 174.34it/s]\n"
     ]
    },
    {
     "name": "stdout",
     "output_type": "stream",
     "text": [
      "Epoch 1920 - Train Loss: 0.5247, Train MSE: 0.5248, Train MAE: 0.4991\n",
      "Epoch 1920 - Validation Loss: 1.5326, Validation MSE: 1.5349, Validation MAE: 0.8843\n"
     ]
    },
    {
     "name": "stderr",
     "output_type": "stream",
     "text": [
      "Training Epoch 1922: 100%|██████████| 378/378 [00:02<00:00, 168.78it/s]\n",
      "Training Epoch 1923: 100%|██████████| 378/378 [00:02<00:00, 176.36it/s]\n",
      "Training Epoch 1924: 100%|██████████| 378/378 [00:02<00:00, 171.79it/s]\n",
      "Training Epoch 1925: 100%|██████████| 378/378 [00:02<00:00, 174.80it/s]\n",
      "Training Epoch 1926: 100%|██████████| 378/378 [00:02<00:00, 172.04it/s]\n",
      "Training Epoch 1927: 100%|██████████| 378/378 [00:02<00:00, 175.87it/s]\n",
      "Training Epoch 1928: 100%|██████████| 378/378 [00:02<00:00, 169.72it/s]\n",
      "Training Epoch 1929: 100%|██████████| 378/378 [00:02<00:00, 173.68it/s]\n",
      "Training Epoch 1930: 100%|██████████| 378/378 [00:02<00:00, 172.61it/s]\n",
      "Training Epoch 1931: 100%|██████████| 378/378 [00:02<00:00, 174.19it/s]\n"
     ]
    },
    {
     "name": "stdout",
     "output_type": "stream",
     "text": [
      "Epoch 1930 - Train Loss: 0.5303, Train MSE: 0.5298, Train MAE: 0.5016\n",
      "Epoch 1930 - Validation Loss: 1.5193, Validation MSE: 1.5220, Validation MAE: 0.8831\n"
     ]
    },
    {
     "name": "stderr",
     "output_type": "stream",
     "text": [
      "Training Epoch 1932: 100%|██████████| 378/378 [00:02<00:00, 174.04it/s]\n",
      "Training Epoch 1933: 100%|██████████| 378/378 [00:02<00:00, 169.39it/s]\n",
      "Training Epoch 1934: 100%|██████████| 378/378 [00:02<00:00, 174.05it/s]\n",
      "Training Epoch 1935: 100%|██████████| 378/378 [00:02<00:00, 169.52it/s]\n",
      "Training Epoch 1936: 100%|██████████| 378/378 [00:02<00:00, 174.25it/s]\n",
      "Training Epoch 1937: 100%|██████████| 378/378 [00:02<00:00, 175.48it/s]\n",
      "Training Epoch 1938: 100%|██████████| 378/378 [00:02<00:00, 176.70it/s]\n",
      "Training Epoch 1939: 100%|██████████| 378/378 [00:02<00:00, 171.92it/s]\n",
      "Training Epoch 1940: 100%|██████████| 378/378 [00:02<00:00, 176.93it/s]\n",
      "Training Epoch 1941: 100%|██████████| 378/378 [00:02<00:00, 171.17it/s]\n"
     ]
    },
    {
     "name": "stdout",
     "output_type": "stream",
     "text": [
      "Epoch 1940 - Train Loss: 0.5240, Train MSE: 0.5238, Train MAE: 0.5012\n",
      "Epoch 1940 - Validation Loss: 1.5463, Validation MSE: 1.5486, Validation MAE: 0.8936\n"
     ]
    },
    {
     "name": "stderr",
     "output_type": "stream",
     "text": [
      "Training Epoch 1942: 100%|██████████| 378/378 [00:02<00:00, 162.50it/s]\n",
      "Training Epoch 1943: 100%|██████████| 378/378 [00:02<00:00, 179.39it/s]\n",
      "Training Epoch 1944: 100%|██████████| 378/378 [00:02<00:00, 171.22it/s]\n",
      "Training Epoch 1945: 100%|██████████| 378/378 [00:02<00:00, 177.06it/s]\n",
      "Training Epoch 1946: 100%|██████████| 378/378 [00:02<00:00, 174.80it/s]\n",
      "Training Epoch 1947: 100%|██████████| 378/378 [00:02<00:00, 174.87it/s]\n",
      "Training Epoch 1948: 100%|██████████| 378/378 [00:02<00:00, 175.58it/s]\n",
      "Training Epoch 1949: 100%|██████████| 378/378 [00:02<00:00, 171.09it/s]\n",
      "Training Epoch 1950: 100%|██████████| 378/378 [00:02<00:00, 177.85it/s]\n",
      "Training Epoch 1951: 100%|██████████| 378/378 [00:02<00:00, 172.07it/s]\n"
     ]
    },
    {
     "name": "stdout",
     "output_type": "stream",
     "text": [
      "Epoch 1950 - Train Loss: 0.5293, Train MSE: 0.5292, Train MAE: 0.5020\n",
      "Epoch 1950 - Validation Loss: 1.5267, Validation MSE: 1.5298, Validation MAE: 0.8947\n"
     ]
    },
    {
     "name": "stderr",
     "output_type": "stream",
     "text": [
      "Training Epoch 1952: 100%|██████████| 378/378 [00:02<00:00, 173.65it/s]\n",
      "Training Epoch 1953: 100%|██████████| 378/378 [00:02<00:00, 171.80it/s]\n",
      "Training Epoch 1954: 100%|██████████| 378/378 [00:02<00:00, 176.38it/s]\n",
      "Training Epoch 1955: 100%|██████████| 378/378 [00:02<00:00, 171.49it/s]\n",
      "Training Epoch 1956: 100%|██████████| 378/378 [00:02<00:00, 170.60it/s]\n",
      "Training Epoch 1957: 100%|██████████| 378/378 [00:02<00:00, 169.43it/s]\n",
      "Training Epoch 1958: 100%|██████████| 378/378 [00:02<00:00, 176.11it/s]\n",
      "Training Epoch 1959: 100%|██████████| 378/378 [00:02<00:00, 176.00it/s]\n",
      "Training Epoch 1960: 100%|██████████| 378/378 [00:02<00:00, 176.43it/s]\n",
      "Training Epoch 1961: 100%|██████████| 378/378 [00:02<00:00, 171.74it/s]\n"
     ]
    },
    {
     "name": "stdout",
     "output_type": "stream",
     "text": [
      "Epoch 1960 - Train Loss: 0.5246, Train MSE: 0.5249, Train MAE: 0.4996\n",
      "Epoch 1960 - Validation Loss: 1.5637, Validation MSE: 1.5665, Validation MAE: 0.8926\n"
     ]
    },
    {
     "name": "stderr",
     "output_type": "stream",
     "text": [
      "Training Epoch 1962: 100%|██████████| 378/378 [00:02<00:00, 176.11it/s]\n",
      "Training Epoch 1963: 100%|██████████| 378/378 [00:02<00:00, 172.12it/s]\n",
      "Training Epoch 1964: 100%|██████████| 378/378 [00:02<00:00, 174.67it/s]\n",
      "Training Epoch 1965: 100%|██████████| 378/378 [00:02<00:00, 177.84it/s]\n",
      "Training Epoch 1966: 100%|██████████| 378/378 [00:02<00:00, 171.96it/s]\n",
      "Training Epoch 1967: 100%|██████████| 378/378 [00:02<00:00, 176.36it/s]\n",
      "Training Epoch 1968: 100%|██████████| 378/378 [00:02<00:00, 171.58it/s]\n",
      "Training Epoch 1969: 100%|██████████| 378/378 [00:02<00:00, 175.06it/s]\n",
      "Training Epoch 1970: 100%|██████████| 378/378 [00:02<00:00, 170.17it/s]\n",
      "Training Epoch 1971: 100%|██████████| 378/378 [00:02<00:00, 174.07it/s]\n"
     ]
    },
    {
     "name": "stdout",
     "output_type": "stream",
     "text": [
      "Epoch 1970 - Train Loss: 0.5258, Train MSE: 0.5260, Train MAE: 0.5001\n",
      "Epoch 1970 - Validation Loss: 1.5426, Validation MSE: 1.5451, Validation MAE: 0.8915\n"
     ]
    },
    {
     "name": "stderr",
     "output_type": "stream",
     "text": [
      "Training Epoch 1972: 100%|██████████| 378/378 [00:02<00:00, 173.53it/s]\n",
      "Training Epoch 1973: 100%|██████████| 378/378 [00:02<00:00, 173.82it/s]\n",
      "Training Epoch 1974: 100%|██████████| 378/378 [00:02<00:00, 169.25it/s]\n",
      "Training Epoch 1975: 100%|██████████| 378/378 [00:02<00:00, 175.59it/s]\n",
      "Training Epoch 1976: 100%|██████████| 378/378 [00:02<00:00, 173.77it/s]\n",
      "Training Epoch 1977: 100%|██████████| 378/378 [00:02<00:00, 170.20it/s]\n",
      "Training Epoch 1978: 100%|██████████| 378/378 [00:02<00:00, 174.65it/s]\n",
      "Training Epoch 1979: 100%|██████████| 378/378 [00:02<00:00, 170.28it/s]\n",
      "Training Epoch 1980: 100%|██████████| 378/378 [00:02<00:00, 173.51it/s]\n",
      "Training Epoch 1981: 100%|██████████| 378/378 [00:02<00:00, 173.50it/s]\n"
     ]
    },
    {
     "name": "stdout",
     "output_type": "stream",
     "text": [
      "Epoch 1980 - Train Loss: 0.5355, Train MSE: 0.5356, Train MAE: 0.5052\n",
      "Epoch 1980 - Validation Loss: 1.5514, Validation MSE: 1.5541, Validation MAE: 0.9004\n"
     ]
    },
    {
     "name": "stderr",
     "output_type": "stream",
     "text": [
      "Training Epoch 1982: 100%|██████████| 378/378 [00:02<00:00, 175.01it/s]\n",
      "Training Epoch 1983: 100%|██████████| 378/378 [00:02<00:00, 168.07it/s]\n",
      "Training Epoch 1984: 100%|██████████| 378/378 [00:02<00:00, 171.98it/s]\n",
      "Training Epoch 1985: 100%|██████████| 378/378 [00:02<00:00, 172.26it/s]\n",
      "Training Epoch 1986: 100%|██████████| 378/378 [00:02<00:00, 176.75it/s]\n",
      "Training Epoch 1987: 100%|██████████| 378/378 [00:02<00:00, 175.59it/s]\n",
      "Training Epoch 1988: 100%|██████████| 378/378 [00:02<00:00, 172.72it/s]\n",
      "Training Epoch 1989: 100%|██████████| 378/378 [00:02<00:00, 173.86it/s]\n",
      "Training Epoch 1990: 100%|██████████| 378/378 [00:02<00:00, 170.91it/s]\n",
      "Training Epoch 1991: 100%|██████████| 378/378 [00:02<00:00, 172.01it/s]\n"
     ]
    },
    {
     "name": "stdout",
     "output_type": "stream",
     "text": [
      "Epoch 1990 - Train Loss: 0.5345, Train MSE: 0.5348, Train MAE: 0.5035\n",
      "Epoch 1990 - Validation Loss: 1.5732, Validation MSE: 1.5765, Validation MAE: 0.9025\n"
     ]
    },
    {
     "name": "stderr",
     "output_type": "stream",
     "text": [
      "Training Epoch 1992: 100%|██████████| 378/378 [00:02<00:00, 174.76it/s]\n",
      "Training Epoch 1993: 100%|██████████| 378/378 [00:02<00:00, 175.20it/s]\n",
      "Training Epoch 1994: 100%|██████████| 378/378 [00:02<00:00, 168.53it/s]\n",
      "Training Epoch 1995: 100%|██████████| 378/378 [00:02<00:00, 174.70it/s]\n",
      "Training Epoch 1996: 100%|██████████| 378/378 [00:02<00:00, 169.59it/s]\n",
      "Training Epoch 1997: 100%|██████████| 378/378 [00:02<00:00, 177.30it/s]\n",
      "Training Epoch 1998: 100%|██████████| 378/378 [00:02<00:00, 172.79it/s]\n",
      "Training Epoch 1999: 100%|██████████| 378/378 [00:02<00:00, 171.04it/s]\n",
      "Training Epoch 2000: 100%|██████████| 378/378 [00:02<00:00, 175.21it/s]\n"
     ]
    },
    {
     "name": "stdout",
     "output_type": "stream",
     "text": [
      "Test MSE: 1.5058, Test MAE: 0.9082\n"
     ]
    }
   ],
   "source": [
    "import torch\n",
    "import torch.nn as nn\n",
    "import torch.optim as optim\n",
    "from tqdm import tqdm\n",
    "import pandas as pd\n",
    "from sklearn.metrics import r2_score, median_absolute_error, explained_variance_score\n",
    "from scipy.stats import pearsonr\n",
    "\n",
    "train_history = pd.DataFrame(columns=[ 'epoch',\n",
    "    'Train Loss', 'Train MSE', 'Train MAE', 'Train RMSE', 'Train R2', 'Train Pearson', 'Train Median_AE', 'Train Explained_VAR'\n",
    "    'Val Loss', 'Val MSE', 'Val MAE', 'Val RMSE', 'Val R2', 'Val Pearson', 'Val Median_AE', 'Val Explained_VAR'])\n",
    "# Verify feature dimensions\n",
    "for batch in train_loader:\n",
    "    mol_input_dim = batch['metabolite_features'].shape[1]  # Dynamically determine mol input dimension\n",
    "    protein_input_dim = batch['protein_features'].shape[1]  # Dynamically determine protein input dimension\n",
    "    break\n",
    "\n",
    "# Initialize model, optimizer, and loss function\n",
    "num_timesteps = 10\n",
    "model = DiffusionGenerativeModel(mol_input_dim=mol_input_dim, protein_input_dim=protein_input_dim, hidden_dim=512, num_timesteps=num_timesteps)\n",
    "model = model.to(device)\n",
    "optimizer = optim.Adam(model.parameters(), lr=0.0001)\n",
    "criterion = nn.MSELoss()\n",
    "\n",
    "# Training and Validation Loop\n",
    "for epoch in range(2000):\n",
    "    model.train()\n",
    "    total_loss = 0.0\n",
    "    val_total_loss = 0.0\n",
    "    train_predictions, train_labels = [], []\n",
    "\n",
    "    for batch in tqdm(train_loader, desc=f\"Training Epoch {epoch + 1}\"):\n",
    "        mol_features = batch['metabolite_features'].to(device)\n",
    "        protein_features = batch['protein_features'].to(device)\n",
    "        labels = batch['label'].to(device)\n",
    "\n",
    "        # Add noise to the features\n",
    "        noisy_mol_features = model.add_noise(mol_features, noise_level=0.1)\n",
    "        noisy_protein_features = model.add_noise(protein_features, noise_level=0.1)\n",
    "\n",
    "        optimizer.zero_grad()\n",
    "        outputs = model(noisy_mol_features, noisy_protein_features, torch.randint(0, num_timesteps, (mol_features.size(0),)).to(device)).squeeze()\n",
    "        loss = criterion(outputs, labels)\n",
    "        loss.backward()\n",
    "        optimizer.step()\n",
    "        total_loss += loss.item()\n",
    "\n",
    "        # Store predictions and labels for metrics\n",
    "        train_predictions.extend(outputs.detach().cpu().numpy())\n",
    "        train_labels.extend(labels.cpu().numpy())\n",
    "\n",
    "    # Calculate training metrics\n",
    "    train_mse = ((torch.tensor(train_predictions) - torch.tensor(train_labels))**2).mean().item()\n",
    "    train_mae = torch.abs(torch.tensor(train_predictions) - torch.tensor(train_labels)).mean().item()\n",
    "    train_rmse = torch.sqrt((torch.tensor(train_predictions) - torch.tensor(train_labels)) ** 2).mean().item()\n",
    "    train_r2 = r2_score(np.array(train_labels), np.array(train_predictions))\n",
    "    train_pearson_corr, _ = pearsonr(np.array(train_labels), np.array(train_predictions))\n",
    "    train_median_ae = median_absolute_error(np.array(train_labels), np.array(train_predictions))\n",
    "    train_explained_var = explained_variance_score(np.array(train_labels), np.array(train_predictions))\n",
    "\n",
    "    if epoch % 10 == 0:\n",
    "        print(f\"Epoch {epoch} - Train Loss: {total_loss / len(train_loader):.4f}, Train MSE: {train_mse:.4f}, Train MAE: {train_mae:.4f}\")\n",
    "\n",
    "    # Validation\n",
    "    model.eval()\n",
    "    val_predictions, val_labels = [], []\n",
    "    with torch.no_grad():\n",
    "        for batch in val_loader:\n",
    "            mol_features = batch['metabolite_features'].to(device)\n",
    "            protein_features = batch['protein_features'].to(device)\n",
    "            labels = batch['label'].to(device)\n",
    "\n",
    "            # Add noise to the features\n",
    "            noisy_mol_features = model.add_noise(mol_features, noise_level=0.1)\n",
    "            noisy_protein_features = model.add_noise(protein_features, noise_level=0.1)\n",
    "\n",
    "            outputs = model(noisy_mol_features, noisy_protein_features, torch.randint(0, num_timesteps, (mol_features.size(0),)).to(device)).squeeze()\n",
    "            val_predictions.extend(outputs.cpu().numpy())\n",
    "            val_labels.extend(labels.cpu().numpy())\n",
    "            val_loss = criterion(outputs, labels)\n",
    "            val_total_loss += val_loss.item()\n",
    "\n",
    "    val_mse = ((torch.tensor(val_predictions) - torch.tensor(val_labels))**2).mean().item()\n",
    "    val_mae = torch.abs(torch.tensor(val_predictions) - torch.tensor(val_labels)).mean().item()\n",
    "    val_rmse = torch.sqrt((torch.tensor(val_predictions) - torch.tensor(val_labels)) ** 2).mean().item()\n",
    "    val_r2 = r2_score(np.array(val_labels), np.array(val_predictions))\n",
    "    val_pearson_corr, _ = pearsonr(np.array(val_labels), np.array(val_predictions))\n",
    "    val_median_ae = median_absolute_error(np.array(val_labels), np.array(val_predictions))\n",
    "    val_explained_var = explained_variance_score(np.array(val_labels), np.array(val_predictions))\n",
    "\n",
    "    if epoch % 10 == 0:\n",
    "        print(f\"Epoch {epoch} - Validation Loss: {val_total_loss / len(val_loader):.4f}, Validation MSE: {val_mse:.4f}, Validation MAE: {val_mae:.4f}\")\n",
    "\n",
    "    # Save metrics to DataFrame\n",
    "    new_row = {'epoch': epoch + 1, 'Train Loss': total_loss / len(train_loader), 'Train MSE': train_mse, 'Train MAE': train_mae, 'Train RMSE': train_rmse, 'Train R2': train_r2, 'Train Pearson': train_pearson_corr, 'Train Median_AE': train_median_ae, 'Train Explained_VAR': train_explained_var, \n",
    "               'Val Loss': val_total_loss / len(val_loader), 'Val MSE': val_mse, 'Val MAE': val_mae, 'Val RMSE': val_rmse, 'Val R2': val_r2, 'Val Pearson': val_pearson_corr, 'Val Median_AE': val_median_ae, 'Val Explained_VAR': val_explained_var}\n",
    "    train_history = pd.concat([train_history, pd.DataFrame([new_row])], ignore_index=True)\n",
    "\n"
   ]
  },
  {
   "cell_type": "code",
   "execution_count": 19,
   "metadata": {},
   "outputs": [],
   "source": [
    "for batch in train_loader:\n",
    "    mol_input_dim = batch['metabolite_features'].shape[1]  # Dynamically determine mol input dimension\n",
    "    protein_input_dim = batch['protein_features'].shape[1]  # Dynamically determine protein input dimension\n",
    "    break\n",
    "# First, reinitialize the model with the same architecture\n",
    "model = DiffusionGenerativeModel(mol_input_dim=mol_input_dim, protein_input_dim=protein_input_dim,hidden_dim=512, num_timesteps=10)\n",
    "\n",
    "# Load the saved model weights\n",
    "model.load_state_dict(torch.load('/Users/pinchichen/2025S lab/AI drug project/code/trained_model/cold_protein/Diffusion model_cold_protein.pt'))\n",
    "\n",
    "# Move to device if using GPU\n",
    "model = model.to(device)\n"
   ]
  },
  {
   "cell_type": "code",
   "execution_count": null,
   "metadata": {},
   "outputs": [
    {
     "name": "stdout",
     "output_type": "stream",
     "text": [
      "Test MSE: 1.4855, Test MAE: 0.9081\n"
     ]
    }
   ],
   "source": [
    "from sklearn.metrics import mean_squared_error, mean_absolute_error, r2_score, median_absolute_error, explained_variance_score\n",
    "from scipy.stats import pearsonr\n",
    "# Test Metrics\n",
    "model.eval()\n",
    "test_predictions, test_labels = [], []\n",
    "with torch.no_grad():\n",
    "    for batch in test_loader:\n",
    "        mol_features = batch['metabolite_features'].to(device)\n",
    "        protein_features = batch['protein_features'].to(device)\n",
    "        labels = batch['label'].to(device)\n",
    "\n",
    "        # Add noise to the features\n",
    "        noisy_mol_features = model.add_noise(mol_features, noise_level=0.1)\n",
    "        noisy_protein_features = model.add_noise(protein_features, noise_level=0.1)\n",
    "\n",
    "        outputs = model(noisy_mol_features, noisy_protein_features, torch.randint(0, 10, (mol_features.size(0),)).to(device)).squeeze()\n",
    "        test_predictions.extend(outputs.cpu().numpy())\n",
    "        test_labels.extend(labels.cpu().numpy())\n",
    "\n",
    "test_mse = ((torch.tensor(test_predictions) - torch.tensor(test_labels))**2).mean().item()\n",
    "test_mae = torch.abs(torch.tensor(test_predictions) - torch.tensor(test_labels)).mean().item()\n",
    "test_rmse = torch.sqrt((torch.tensor(test_predictions) - torch.tensor(test_labels)) ** 2).mean().item()\n",
    "test_r2 = r2_score(np.array(test_labels), np.array(test_predictions))\n",
    "test_pearson_corr, _ = pearsonr(np.array(test_labels), np.array(test_predictions))\n",
    "test_median_ae = median_absolute_error(np.array(test_labels), np.array(test_predictions))\n",
    "test_explained_var = explained_variance_score(np.array(test_labels), np.array(test_predictions))\n",
    "print(f\"Test MSE: {test_mse:.4f}, Test MAE: {test_mae:.4f}\")\n"
   ]
  },
  {
   "cell_type": "code",
   "execution_count": 22,
   "metadata": {},
   "outputs": [],
   "source": [
    "\n",
    "def evaluate_model(predictions, labels):\n",
    "    mse = mean_squared_error(labels, predictions)\n",
    "    rmse = np.sqrt(mse)\n",
    "    mae = mean_absolute_error(labels, predictions)\n",
    "    r2 = r2_score(labels, predictions)\n",
    "    pearson_corr, _ = pearsonr(labels, predictions)\n",
    "    medae = median_absolute_error(labels, predictions)\n",
    "    evs = explained_variance_score(labels, predictions)\n",
    "\n",
    "    return mse, rmse, mae, r2, pearson_corr, medae, evs"
   ]
  },
  {
   "cell_type": "code",
   "execution_count": 23,
   "metadata": {},
   "outputs": [],
   "source": [
    "model.eval()\n",
    "train_pred, train_labels = [], []\n",
    "with torch.no_grad():\n",
    "    for batch in train_loader:\n",
    "        mol_features = batch['metabolite_features'].to(device)\n",
    "        protein_features = batch['protein_features'].to(device)\n",
    "        labels = batch['label'].to(device)\n",
    "\n",
    "        noisy_mol_features = model.add_noise(mol_features, noise_level=0.1)\n",
    "        noisy_protein_features = model.add_noise(protein_features, noise_level=0.1)\n",
    "\n",
    "        outputs = model(noisy_mol_features, noisy_protein_features, torch.randint(0, 10, (mol_features.size(0),)).to(device)).squeeze()\n",
    "        train_pred.extend(outputs.cpu().numpy())\n",
    "        train_labels.extend(labels.cpu().numpy())\n",
    "\n",
    "train_mse, train_rmse, train_mae, train_r2, train_pearson_corr, train_median_ae, train_explained_var = evaluate_model(train_pred, train_labels)"
   ]
  },
  {
   "cell_type": "code",
   "execution_count": 24,
   "metadata": {},
   "outputs": [],
   "source": [
    "model.eval()\n",
    "val_pred, val_labels = [], []\n",
    "with torch.no_grad():\n",
    "    for batch in val_loader:\n",
    "        mol_features = batch['metabolite_features'].to(device)\n",
    "        protein_features = batch['protein_features'].to(device)\n",
    "        labels = batch['label'].to(device)\n",
    "\n",
    "        noisy_mol_features = model.add_noise(mol_features, noise_level=0.1)\n",
    "        noisy_protein_features = model.add_noise(protein_features, noise_level=0.1)\n",
    "\n",
    "        outputs = model(noisy_mol_features, noisy_protein_features, torch.randint(0, 10, (mol_features.size(0),)).to(device)).squeeze()\n",
    "        val_pred.extend(outputs.cpu().numpy())\n",
    "        val_labels.extend(labels.cpu().numpy())\n",
    "\n",
    "val_mse, val_rmse, val_mae, val_r2, val_pearson_corr, val_median_ae, val_explained_var = evaluate_model(val_pred, val_labels)\n"
   ]
  },
  {
   "cell_type": "code",
   "execution_count": 25,
   "metadata": {},
   "outputs": [],
   "source": [
    "# append the performance to the csv file\n",
    "df = {\n",
    "    'Model':['Diffusion Model','Diffusion Model','Diffusion Model'],\n",
    "    'Dataset':['Train','Validation','Test'],\n",
    "    'MSE':[train_mse,val_mse,test_mse],\n",
    "    'RMSE':[train_rmse,val_rmse,test_rmse],\n",
    "    'MAE':[train_mae,val_mae,test_mae],\n",
    "    'R2':[train_r2,val_r2,test_r2],\n",
    "    'Pearson':[train_pearson_corr,val_pearson_corr,test_pearson_corr],\n",
    "    'Median_AE':[train_median_ae,val_median_ae,test_median_ae],\n",
    "    'Explained_VAR':[train_explained_var,val_explained_var,test_explained_var],\n",
    "    'Dataspliting Mode':['cold protein','cold protein','cold protein']\n",
    "}\n",
    "df = pd.DataFrame(df)\n",
    "\n",
    "df.to_csv('/Users/pinchichen/2025S lab/AI drug project/code/model performance metrics.csv', mode='a', header=False)"
   ]
  },
  {
   "cell_type": "code",
   "execution_count": null,
   "metadata": {},
   "outputs": [],
   "source": [
    "# Save the model and training history\n",
    "save_dir = '/Users/pinchichen/2025S lab/AI drug project/code/trained_model/cold_protein'\n",
    "# save model weights and optimizer state\n",
    "torch.save(model.state_dict(), os.path.join(save_dir, 'Diffusion model_cold_protein.pt'))\n",
    "torch.save(optimizer.state_dict(), os.path.join(save_dir, 'Diffusion model optimizer_cold_protein.pt'))"
   ]
  },
  {
   "cell_type": "code",
   "execution_count": 21,
   "metadata": {},
   "outputs": [],
   "source": [
    "import torch\n",
    "import torch.nn as nn\n",
    "import torch.optim as optim\n",
    "from tqdm import tqdm\n",
    "import pandas as pd\n",
    "from sklearn.metrics import r2_score, median_absolute_error, explained_variance_score\n",
    "from scipy.stats import pearsonr\n"
   ]
  },
  {
   "cell_type": "code",
   "execution_count": null,
   "metadata": {},
   "outputs": [
    {
     "ename": "NameError",
     "evalue": "name 'pd' is not defined",
     "output_type": "error",
     "traceback": [
      "\u001b[0;31m---------------------------------------------------------------------------\u001b[0m",
      "\u001b[0;31mNameError\u001b[0m                                 Traceback (most recent call last)",
      "Cell \u001b[0;32mIn[2], line 1\u001b[0m\n\u001b[0;32m----> 1\u001b[0m train_history_2 \u001b[38;5;241m=\u001b[39m pd\u001b[38;5;241m.\u001b[39mDataFrame(columns\u001b[38;5;241m=\u001b[39m[  \u001b[38;5;124m'\u001b[39m\u001b[38;5;124mepoch\u001b[39m\u001b[38;5;124m'\u001b[39m,\n\u001b[1;32m      2\u001b[0m     \u001b[38;5;124m'\u001b[39m\u001b[38;5;124mTrain Loss\u001b[39m\u001b[38;5;124m'\u001b[39m, \u001b[38;5;124m'\u001b[39m\u001b[38;5;124mTrain MSE\u001b[39m\u001b[38;5;124m'\u001b[39m, \u001b[38;5;124m'\u001b[39m\u001b[38;5;124mTrain MAE\u001b[39m\u001b[38;5;124m'\u001b[39m, \u001b[38;5;124m'\u001b[39m\u001b[38;5;124mTrain RMSE\u001b[39m\u001b[38;5;124m'\u001b[39m, \u001b[38;5;124m'\u001b[39m\u001b[38;5;124mTrain R2\u001b[39m\u001b[38;5;124m'\u001b[39m, \u001b[38;5;124m'\u001b[39m\u001b[38;5;124mTrain Pearson\u001b[39m\u001b[38;5;124m'\u001b[39m, \u001b[38;5;124m'\u001b[39m\u001b[38;5;124mTrain Median_AE\u001b[39m\u001b[38;5;124m'\u001b[39m, \u001b[38;5;124m'\u001b[39m\u001b[38;5;124mTrain Explained_VAR\u001b[39m\u001b[38;5;124m'\u001b[39m\n\u001b[1;32m      3\u001b[0m     \u001b[38;5;124m'\u001b[39m\u001b[38;5;124mVal Loss\u001b[39m\u001b[38;5;124m'\u001b[39m, \u001b[38;5;124m'\u001b[39m\u001b[38;5;124mVal MSE\u001b[39m\u001b[38;5;124m'\u001b[39m, \u001b[38;5;124m'\u001b[39m\u001b[38;5;124mVal MAE\u001b[39m\u001b[38;5;124m'\u001b[39m, \u001b[38;5;124m'\u001b[39m\u001b[38;5;124mVal RMSE\u001b[39m\u001b[38;5;124m'\u001b[39m, \u001b[38;5;124m'\u001b[39m\u001b[38;5;124mVal R2\u001b[39m\u001b[38;5;124m'\u001b[39m, \u001b[38;5;124m'\u001b[39m\u001b[38;5;124mVal Pearson\u001b[39m\u001b[38;5;124m'\u001b[39m, \u001b[38;5;124m'\u001b[39m\u001b[38;5;124mVal Median_AE\u001b[39m\u001b[38;5;124m'\u001b[39m, \u001b[38;5;124m'\u001b[39m\u001b[38;5;124mVal Explained_VAR\u001b[39m\u001b[38;5;124m'\u001b[39m])\n\u001b[1;32m      4\u001b[0m \u001b[38;5;66;03m# Verify feature dimensions\u001b[39;00m\n\u001b[1;32m      5\u001b[0m \u001b[38;5;28;01mfor\u001b[39;00m batch \u001b[38;5;129;01min\u001b[39;00m train_loader_mols:\n",
      "\u001b[0;31mNameError\u001b[0m: name 'pd' is not defined"
     ]
    }
   ],
   "source": [
    "train_history_2 = pd.DataFrame(columns=[  'epoch',\n",
    "    'Train Loss', 'Train MSE', 'Train MAE', 'Train RMSE', 'Train R2', 'Train Pearson', 'Train Median_AE', 'Train Explained_VAR'\n",
    "    'Val Loss', 'Val MSE', 'Val MAE', 'Val RMSE', 'Val R2', 'Val Pearson', 'Val Median_AE', 'Val Explained_VAR'])\n",
    "# Verify feature dimensions\n",
    "for batch in train_loader_mols:\n",
    "    mol_input_dim = batch['metabolite_features'].shape[1]  # Dynamically determine mol input dimension\n",
    "    protein_input_dim = batch['protein_features'].shape[1]  # Dynamically determine protein input dimension\n",
    "    break\n",
    "\n",
    "# Initialize model, optimizer, and loss function\n",
    "num_timesteps = 10\n",
    "model_2 = DiffusionGenerativeModel(mol_input_dim=mol_input_dim, protein_input_dim=protein_input_dim, hidden_dim=512, num_timesteps=num_timesteps)\n",
    "model_2 = model_2.to(device)\n",
    "optimizer_2 = optim.Adam(model_2.parameters(), lr=0.0001)\n",
    "criterion = nn.MSELoss()\n",
    "\n",
    "# Training and Validation Loop\n",
    "for epoch in range(2000):\n",
    "    model_2.train()\n",
    "    total_loss = 0.0\n",
    "    val_total_loss = 0.0\n",
    "    train_predictions, train_labels = [], []\n",
    "\n",
    "    for batch in tqdm(train_loader_mols, desc=f\"Training Epoch {epoch + 1}\"):\n",
    "        mol_features = batch['metabolite_features'].to(device)\n",
    "        protein_features = batch['protein_features'].to(device)\n",
    "        labels = batch['label'].to(device)\n",
    "\n",
    "        # Add noise to the features\n",
    "        noisy_mol_features = model_2.add_noise(mol_features, noise_level=0.1)\n",
    "        noisy_protein_features = model_2.add_noise(protein_features, noise_level=0.1)\n",
    "\n",
    "        optimizer_2.zero_grad()\n",
    "        outputs = model_2(noisy_mol_features, noisy_protein_features, torch.randint(0, num_timesteps, (mol_features.size(0),)).to(device)).squeeze()\n",
    "        loss = criterion(outputs, labels)\n",
    "        loss.backward()\n",
    "        optimizer_2.step()\n",
    "        total_loss += loss.item()\n",
    "\n",
    "        # Store predictions and labels for metrics\n",
    "        train_predictions.extend(outputs.detach().cpu().numpy())\n",
    "        train_labels.extend(labels.cpu().numpy())\n",
    "\n",
    "    # Calculate training metrics\n",
    "    train_mse = ((torch.tensor(train_predictions) - torch.tensor(train_labels))**2).mean().item()\n",
    "    train_mae = torch.abs(torch.tensor(train_predictions) - torch.tensor(train_labels)).mean().item()\n",
    "    train_rmse = torch.sqrt((torch.tensor(train_predictions) - torch.tensor(train_labels)) ** 2).mean().item()\n",
    "    train_r2 = r2_score(np.array(train_labels), np.array(train_predictions))\n",
    "    train_pearson_corr, _ = pearsonr(np.array(train_labels), np.array(train_predictions))\n",
    "    train_median_ae = median_absolute_error(np.array(train_labels), np.array(train_predictions))\n",
    "    train_explained_var = explained_variance_score(np.array(train_labels), np.array(train_predictions))\n",
    "\n",
    "\n",
    "\n",
    "    if epoch % 10 == 0:\n",
    "        print(f\"Epoch {epoch} - Train Loss: {total_loss / len(train_loader_mols):.4f}, Train MSE: {train_mse:.4f}, Train MAE: {train_mae:.4f}\")\n",
    "\n",
    "    # Validation\n",
    "    model_2.eval()\n",
    "    val_predictions, val_labels = [], []\n",
    "    with torch.no_grad():\n",
    "        for batch in val_loader_mols:\n",
    "            mol_features = batch['metabolite_features'].to(device)\n",
    "            protein_features = batch['protein_features'].to(device)\n",
    "            labels = batch['label'].to(device)\n",
    "\n",
    "            # Add noise to the features\n",
    "            noisy_mol_features = model_2.add_noise(mol_features, noise_level=0.1)\n",
    "            noisy_protein_features = model_2.add_noise(protein_features, noise_level=0.1)\n",
    "\n",
    "            outputs = model_2(noisy_mol_features, noisy_protein_features, torch.randint(0, num_timesteps, (mol_features.size(0),)).to(device)).squeeze()\n",
    "            val_predictions.extend(outputs.cpu().numpy())\n",
    "            val_labels.extend(labels.cpu().numpy())\n",
    "            val_loss = criterion(outputs, labels)\n",
    "            val_total_loss += val_loss.item()\n",
    "\n",
    "    val_mse = ((torch.tensor(val_predictions) - torch.tensor(val_labels))**2).mean().item()\n",
    "    val_mae = torch.abs(torch.tensor(val_predictions) - torch.tensor(val_labels)).mean().item()\n",
    "    val_rmse = torch.sqrt((torch.tensor(val_predictions) - torch.tensor(val_labels)) ** 2).mean().item()\n",
    "    val_r2 = r2_score(np.array(val_labels), np.array(val_predictions))\n",
    "    val_pearson_corr, _ = pearsonr(np.array(val_labels), np.array(val_predictions))\n",
    "    val_median_ae = median_absolute_error(np.array(val_labels), np.array(val_predictions))\n",
    "    val_explained_var = explained_variance_score(np.array(val_labels), np.array(val_predictions))\n",
    "\n",
    "    if epoch % 10 == 0:\n",
    "        print(f\"Epoch {epoch} - Validation Loss: {val_total_loss / len(val_loader_mols):.4f}, Validation MSE: {val_mse:.4f}, Validation MAE: {val_mae:.4f}\")\n",
    "\n",
    "    # Save metrics to DataFrame\n",
    "    new_row = {'epoch': epoch + 1, 'Train Loss': total_loss / len(train_loader_mols), 'Train MSE': train_mse, 'Train MAE': train_mae, 'Train RMSE': train_rmse, 'Train R2': train_r2, 'Train Pearson': train_pearson_corr, 'Train Median_AE': train_median_ae, 'Train Explained_VAR': train_explained_var, \n",
    "               'Val Loss': val_total_loss / len(val_loader_mols), 'Val MSE': val_mse, 'Val MAE': val_mae, 'Val RMSE': val_rmse, 'Val R2': val_r2, 'Val Pearson': val_pearson_corr, 'Val Median_AE': val_median_ae, 'Val Explained_VAR': val_explained_var}\n",
    "    train_history_2 = pd.concat([train_history_2, pd.DataFrame([new_row])], ignore_index=True)\n",
    "\n"
   ]
  },
  {
   "cell_type": "code",
   "execution_count": 26,
   "metadata": {},
   "outputs": [],
   "source": [
    "for batch in train_loader_mols:\n",
    "    mol_input_dim = batch['metabolite_features'].shape[1]  # Dynamically determine mol input dimension\n",
    "    protein_input_dim = batch['protein_features'].shape[1]  # Dynamically determine protein input dimension\n",
    "    break\n",
    "# First, reinitialize the model with the same architecture\n",
    "model = DiffusionGenerativeModel(mol_input_dim=mol_input_dim, protein_input_dim=protein_input_dim,hidden_dim=512, num_timesteps=10)\n",
    "\n",
    "# Load the saved model weights\n",
    "model.load_state_dict(torch.load('/Users/pinchichen/2025S lab/AI drug project/code/trained_model/cold_mols/Diffusion model_cold_mols.pt'))\n",
    "\n",
    "# Move to device if using GPU\n",
    "model = model.to(device)\n"
   ]
  },
  {
   "cell_type": "code",
   "execution_count": 27,
   "metadata": {},
   "outputs": [
    {
     "name": "stdout",
     "output_type": "stream",
     "text": [
      "Test MSE: 1.7474, Test MAE: 0.9743\n"
     ]
    }
   ],
   "source": [
    "# Test Metrics\n",
    "model.eval()\n",
    "test_predictions, test_labels = [], []\n",
    "with torch.no_grad():\n",
    "    for batch in test_loader_mols:\n",
    "        mol_features = batch['metabolite_features'].to(device)\n",
    "        protein_features = batch['protein_features'].to(device)\n",
    "        labels = batch['label'].to(device)\n",
    "\n",
    "        # Add noise to the features\n",
    "        noisy_mol_features = model.add_noise(mol_features, noise_level=0.1)\n",
    "        noisy_protein_features = model.add_noise(protein_features, noise_level=0.1)\n",
    "\n",
    "        outputs = model(noisy_mol_features, noisy_protein_features, torch.randint(0, 10, (mol_features.size(0),)).to(device)).squeeze()\n",
    "        test_predictions.extend(outputs.cpu().numpy())\n",
    "        test_labels.extend(labels.cpu().numpy())\n",
    "\n",
    "test_mse = ((torch.tensor(test_predictions) - torch.tensor(test_labels))**2).mean().item()\n",
    "test_mae = torch.abs(torch.tensor(test_predictions) - torch.tensor(test_labels)).mean().item()\n",
    "test_rmse = torch.sqrt((torch.tensor(test_predictions) - torch.tensor(test_labels)) ** 2).mean().item()\n",
    "test_r2 = r2_score(np.array(test_labels), np.array(test_predictions))\n",
    "test_pearson_corr, _ = pearsonr(np.array(test_labels), np.array(test_predictions))\n",
    "test_median_ae = median_absolute_error(np.array(test_labels), np.array(test_predictions))\n",
    "test_explained_var = explained_variance_score(np.array(test_labels), np.array(test_predictions))\n",
    "\n",
    "print(f\"Test MSE: {test_mse:.4f}, Test MAE: {test_mae:.4f}\")\n"
   ]
  },
  {
   "cell_type": "code",
   "execution_count": 28,
   "metadata": {},
   "outputs": [],
   "source": [
    "model.eval()\n",
    "train_pred, train_labels = [], []\n",
    "with torch.no_grad():\n",
    "    for batch in train_loader_mols:\n",
    "        mol_features = batch['metabolite_features'].to(device)\n",
    "        protein_features = batch['protein_features'].to(device)\n",
    "        labels = batch['label'].to(device)\n",
    "\n",
    "        noisy_mol_features = model.add_noise(mol_features, noise_level=0.1)\n",
    "        noisy_protein_features = model.add_noise(protein_features, noise_level=0.1)\n",
    "\n",
    "        outputs = model(noisy_mol_features, noisy_protein_features, torch.randint(0, 10, (mol_features.size(0),)).to(device)).squeeze()\n",
    "        train_pred.extend(outputs.cpu().numpy())\n",
    "        train_labels.extend(labels.cpu().numpy())\n",
    "\n",
    "train_mse, train_rmse, train_mae, train_r2, train_pearson_corr, train_median_ae, train_explained_var = evaluate_model(train_pred, train_labels)"
   ]
  },
  {
   "cell_type": "code",
   "execution_count": 29,
   "metadata": {},
   "outputs": [],
   "source": [
    "model.eval()\n",
    "val_pred, val_labels = [], []\n",
    "with torch.no_grad():\n",
    "    for batch in val_loader_mols:\n",
    "        mol_features = batch['metabolite_features'].to(device)\n",
    "        protein_features = batch['protein_features'].to(device)\n",
    "        labels = batch['label'].to(device)\n",
    "\n",
    "        noisy_mol_features = model.add_noise(mol_features, noise_level=0.1)\n",
    "        noisy_protein_features = model.add_noise(protein_features, noise_level=0.1)\n",
    "\n",
    "        outputs = model(noisy_mol_features, noisy_protein_features, torch.randint(0, 10, (mol_features.size(0),)).to(device)).squeeze()\n",
    "        val_pred.extend(outputs.cpu().numpy())\n",
    "        val_labels.extend(labels.cpu().numpy())\n",
    "\n",
    "val_mse, val_rmse, val_mae, val_r2, val_pearson_corr, val_median_ae, val_explained_var = evaluate_model(val_pred, val_labels)\n"
   ]
  },
  {
   "cell_type": "code",
   "execution_count": 30,
   "metadata": {},
   "outputs": [],
   "source": [
    "# append the performance to the csv file\n",
    "df = {\n",
    "    'Model':['Diffusion Model','Diffusion Model','Diffusion Model'],\n",
    "    'Dataset':['Train','Validation','Test'],\n",
    "    'MSE':[train_mse,val_mse,test_mse],\n",
    "    'RMSE':[train_rmse,val_rmse,test_rmse],\n",
    "    'MAE':[train_mae,val_mae,test_mae],\n",
    "    'R2':[train_r2,val_r2,test_r2],\n",
    "    'Pearson':[train_pearson_corr,val_pearson_corr,test_pearson_corr],\n",
    "    'Median_AE':[train_median_ae,val_median_ae,test_median_ae],\n",
    "    'Explained_VAR':[train_explained_var,val_explained_var,test_explained_var],\n",
    "    'Dataspliting Mode':['cold mols','cold mols','cold mols']\n",
    "}\n",
    "df = pd.DataFrame(df)\n",
    "\n",
    "df.to_csv('/Users/pinchichen/2025S lab/AI drug project/code/model performance metrics.csv', mode='a', header=False)"
   ]
  },
  {
   "cell_type": "code",
   "execution_count": null,
   "metadata": {},
   "outputs": [],
   "source": [
    "# Save the model and training history\n",
    "save_dir = '/Users/pinchichen/2025S lab/AI drug project/code/trained_model/cold_mols'\n",
    "# save model weights and optimizer state\n",
    "torch.save(model_2.state_dict(), os.path.join(save_dir, 'Diffusion model_cold_mols.pt'))\n",
    "torch.save(optimizer_2.state_dict(), os.path.join(save_dir, 'Diffusion optimizer_cold_mols.pt'))"
   ]
  },
  {
   "cell_type": "code",
   "execution_count": null,
   "metadata": {},
   "outputs": [
    {
     "data": {
      "text/html": [
       "<div>\n",
       "<style scoped>\n",
       "    .dataframe tbody tr th:only-of-type {\n",
       "        vertical-align: middle;\n",
       "    }\n",
       "\n",
       "    .dataframe tbody tr th {\n",
       "        vertical-align: top;\n",
       "    }\n",
       "\n",
       "    .dataframe thead th {\n",
       "        text-align: right;\n",
       "    }\n",
       "</style>\n",
       "<table border=\"1\" class=\"dataframe\">\n",
       "  <thead>\n",
       "    <tr style=\"text-align: right;\">\n",
       "      <th></th>\n",
       "      <th>epoch</th>\n",
       "      <th>Train Loss</th>\n",
       "      <th>Train MSE</th>\n",
       "      <th>Train MAE</th>\n",
       "      <th>Train RMSE</th>\n",
       "      <th>Train R2</th>\n",
       "      <th>Train Pearson</th>\n",
       "      <th>Train Median_AE</th>\n",
       "      <th>Train Explained_VARVal Loss</th>\n",
       "      <th>Val MSE</th>\n",
       "      <th>Val MAE</th>\n",
       "      <th>Val RMSE</th>\n",
       "      <th>Val R2</th>\n",
       "      <th>Val Pearson</th>\n",
       "      <th>Val Median_AE</th>\n",
       "      <th>Val Explained_VAR</th>\n",
       "      <th>Train Explained_VAR</th>\n",
       "      <th>Val Loss</th>\n",
       "    </tr>\n",
       "  </thead>\n",
       "  <tbody>\n",
       "    <tr>\n",
       "      <th>1995</th>\n",
       "      <td>1996</td>\n",
       "      <td>0.552844</td>\n",
       "      <td>0.553896</td>\n",
       "      <td>0.513213</td>\n",
       "      <td>0.513213</td>\n",
       "      <td>0.760537</td>\n",
       "      <td>0.872089</td>\n",
       "      <td>0.343621</td>\n",
       "      <td>NaN</td>\n",
       "      <td>1.687683</td>\n",
       "      <td>0.990133</td>\n",
       "      <td>0.990133</td>\n",
       "      <td>0.268630</td>\n",
       "      <td>0.521421</td>\n",
       "      <td>0.760970</td>\n",
       "      <td>0.268680</td>\n",
       "      <td>0.760539</td>\n",
       "      <td>1.684767</td>\n",
       "    </tr>\n",
       "    <tr>\n",
       "      <th>1996</th>\n",
       "      <td>1997</td>\n",
       "      <td>0.546323</td>\n",
       "      <td>0.547476</td>\n",
       "      <td>0.513820</td>\n",
       "      <td>0.513820</td>\n",
       "      <td>0.763313</td>\n",
       "      <td>0.873681</td>\n",
       "      <td>0.349640</td>\n",
       "      <td>NaN</td>\n",
       "      <td>1.707234</td>\n",
       "      <td>0.999823</td>\n",
       "      <td>0.999823</td>\n",
       "      <td>0.260157</td>\n",
       "      <td>0.515265</td>\n",
       "      <td>0.810575</td>\n",
       "      <td>0.261962</td>\n",
       "      <td>0.763316</td>\n",
       "      <td>1.704537</td>\n",
       "    </tr>\n",
       "    <tr>\n",
       "      <th>1997</th>\n",
       "      <td>1998</td>\n",
       "      <td>0.554340</td>\n",
       "      <td>0.554429</td>\n",
       "      <td>0.514641</td>\n",
       "      <td>0.514641</td>\n",
       "      <td>0.760307</td>\n",
       "      <td>0.871956</td>\n",
       "      <td>0.348466</td>\n",
       "      <td>NaN</td>\n",
       "      <td>1.690219</td>\n",
       "      <td>0.986120</td>\n",
       "      <td>0.986120</td>\n",
       "      <td>0.267531</td>\n",
       "      <td>0.521528</td>\n",
       "      <td>0.778556</td>\n",
       "      <td>0.267544</td>\n",
       "      <td>0.760308</td>\n",
       "      <td>1.687097</td>\n",
       "    </tr>\n",
       "    <tr>\n",
       "      <th>1998</th>\n",
       "      <td>1999</td>\n",
       "      <td>0.551168</td>\n",
       "      <td>0.551992</td>\n",
       "      <td>0.514166</td>\n",
       "      <td>0.514166</td>\n",
       "      <td>0.761361</td>\n",
       "      <td>0.872572</td>\n",
       "      <td>0.349826</td>\n",
       "      <td>NaN</td>\n",
       "      <td>1.673286</td>\n",
       "      <td>0.989808</td>\n",
       "      <td>0.989808</td>\n",
       "      <td>0.274870</td>\n",
       "      <td>0.527377</td>\n",
       "      <td>0.777184</td>\n",
       "      <td>0.276056</td>\n",
       "      <td>0.761362</td>\n",
       "      <td>1.670424</td>\n",
       "    </tr>\n",
       "    <tr>\n",
       "      <th>1999</th>\n",
       "      <td>2000</td>\n",
       "      <td>0.554628</td>\n",
       "      <td>0.555545</td>\n",
       "      <td>0.513938</td>\n",
       "      <td>0.513938</td>\n",
       "      <td>0.759825</td>\n",
       "      <td>0.871685</td>\n",
       "      <td>0.350799</td>\n",
       "      <td>NaN</td>\n",
       "      <td>1.659579</td>\n",
       "      <td>0.983696</td>\n",
       "      <td>0.983696</td>\n",
       "      <td>0.280809</td>\n",
       "      <td>0.532206</td>\n",
       "      <td>0.786493</td>\n",
       "      <td>0.281426</td>\n",
       "      <td>0.759826</td>\n",
       "      <td>1.656759</td>\n",
       "    </tr>\n",
       "  </tbody>\n",
       "</table>\n",
       "</div>"
      ],
      "text/plain": [
       "     epoch  Train Loss  Train MSE  Train MAE  Train RMSE  Train R2  \\\n",
       "1995  1996    0.552844   0.553896   0.513213    0.513213  0.760537   \n",
       "1996  1997    0.546323   0.547476   0.513820    0.513820  0.763313   \n",
       "1997  1998    0.554340   0.554429   0.514641    0.514641  0.760307   \n",
       "1998  1999    0.551168   0.551992   0.514166    0.514166  0.761361   \n",
       "1999  2000    0.554628   0.555545   0.513938    0.513938  0.759825   \n",
       "\n",
       "      Train Pearson  Train Median_AE Train Explained_VARVal Loss   Val MSE  \\\n",
       "1995       0.872089         0.343621                         NaN  1.687683   \n",
       "1996       0.873681         0.349640                         NaN  1.707234   \n",
       "1997       0.871956         0.348466                         NaN  1.690219   \n",
       "1998       0.872572         0.349826                         NaN  1.673286   \n",
       "1999       0.871685         0.350799                         NaN  1.659579   \n",
       "\n",
       "       Val MAE  Val RMSE    Val R2  Val Pearson  Val Median_AE  \\\n",
       "1995  0.990133  0.990133  0.268630     0.521421       0.760970   \n",
       "1996  0.999823  0.999823  0.260157     0.515265       0.810575   \n",
       "1997  0.986120  0.986120  0.267531     0.521528       0.778556   \n",
       "1998  0.989808  0.989808  0.274870     0.527377       0.777184   \n",
       "1999  0.983696  0.983696  0.280809     0.532206       0.786493   \n",
       "\n",
       "      Val Explained_VAR  Train Explained_VAR  Val Loss  \n",
       "1995           0.268680             0.760539  1.684767  \n",
       "1996           0.261962             0.763316  1.704537  \n",
       "1997           0.267544             0.760308  1.687097  \n",
       "1998           0.276056             0.761362  1.670424  \n",
       "1999           0.281426             0.759826  1.656759  "
      ]
     },
     "execution_count": 26,
     "metadata": {},
     "output_type": "execute_result"
    }
   ],
   "source": [
    "train_history_2.tail()"
   ]
  },
  {
   "cell_type": "code",
   "execution_count": null,
   "metadata": {},
   "outputs": [],
   "source": []
  }
 ],
 "metadata": {
  "kernelspec": {
   "display_name": "base",
   "language": "python",
   "name": "python3"
  },
  "language_info": {
   "codemirror_mode": {
    "name": "ipython",
    "version": 3
   },
   "file_extension": ".py",
   "mimetype": "text/x-python",
   "name": "python",
   "nbconvert_exporter": "python",
   "pygments_lexer": "ipython3",
   "version": "3.12.2"
  }
 },
 "nbformat": 4,
 "nbformat_minor": 2
}
