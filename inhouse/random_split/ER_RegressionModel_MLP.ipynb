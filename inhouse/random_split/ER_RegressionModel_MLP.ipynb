{
 "cells": [
  {
   "cell_type": "code",
   "execution_count": 2,
   "metadata": {},
   "outputs": [],
   "source": [
    "import pandas as pd\n",
    "import numpy as np\n",
    "from tqdm import tqdm\n",
    "import torch\n",
    "import torch.nn as nn\n",
    "import torch.optim as optim\n",
    "from torch.utils.data import DataLoader, Dataset\n",
    "from sklearn.metrics import roc_auc_score\n",
    "from sklearn.model_selection import train_test_split\n",
    "import os\n"
   ]
  },
  {
   "cell_type": "code",
   "execution_count": 3,
   "metadata": {},
   "outputs": [
    {
     "data": {
      "text/html": [
       "<div>\n",
       "<style scoped>\n",
       "    .dataframe tbody tr th:only-of-type {\n",
       "        vertical-align: middle;\n",
       "    }\n",
       "\n",
       "    .dataframe tbody tr th {\n",
       "        vertical-align: top;\n",
       "    }\n",
       "\n",
       "    .dataframe thead th {\n",
       "        text-align: right;\n",
       "    }\n",
       "</style>\n",
       "<table border=\"1\" class=\"dataframe\">\n",
       "  <thead>\n",
       "    <tr style=\"text-align: right;\">\n",
       "      <th></th>\n",
       "      <th>ECNumber</th>\n",
       "      <th>Organism</th>\n",
       "      <th>Smiles</th>\n",
       "      <th>Substrate</th>\n",
       "      <th>Sequence</th>\n",
       "      <th>Raw Kd</th>\n",
       "      <th>Unit</th>\n",
       "      <th>Log Kd</th>\n",
       "    </tr>\n",
       "  </thead>\n",
       "  <tbody>\n",
       "    <tr>\n",
       "      <th>0</th>\n",
       "      <td>4.2.3.4</td>\n",
       "      <td>Actinidia chinensis</td>\n",
       "      <td>C(C(C(C(COP(=O)(O)O)O)O)O)C(=O)C(=O)O</td>\n",
       "      <td>3-deoxy-D-arabino-heptulosonic acid 7-phosphate</td>\n",
       "      <td>MAAFSLSAKQILSPSTHRPSLSKTTTADSSLRFRNPHSLSLRCSSL...</td>\n",
       "      <td>20.1000</td>\n",
       "      <td>s^(-1)</td>\n",
       "      <td>1.303196</td>\n",
       "    </tr>\n",
       "    <tr>\n",
       "      <th>1</th>\n",
       "      <td>4.2.3.4</td>\n",
       "      <td>Aspergillus nidulans</td>\n",
       "      <td>C(C(C(C(COP(=O)([O-])[O-])O)O)O)C(=O)C(=O)[O-]</td>\n",
       "      <td>3-deoxy-D-arabino-heptulosonate 7-phosphate</td>\n",
       "      <td>MSNPTKISILGRESIIADFGLWRNYVAKDLISDCSSTTYVLVTDTN...</td>\n",
       "      <td>6.8000</td>\n",
       "      <td>s^(-1)</td>\n",
       "      <td>0.832509</td>\n",
       "    </tr>\n",
       "    <tr>\n",
       "      <th>2</th>\n",
       "      <td>4.2.3.4</td>\n",
       "      <td>Neurospora crassa</td>\n",
       "      <td>C(C(C(C(COP(=O)(O)O)O)O)O)C(=O)C(=O)O</td>\n",
       "      <td>3-deoxy-D-arabino-heptulosonic acid 7-phosphate</td>\n",
       "      <td>MAEPISNPTRINILGKDNIIIDHGIWLNFVAQDLLQNIKSSTYILI...</td>\n",
       "      <td>19.0000</td>\n",
       "      <td>s^(-1)</td>\n",
       "      <td>1.278754</td>\n",
       "    </tr>\n",
       "    <tr>\n",
       "      <th>3</th>\n",
       "      <td>2.1.1.255</td>\n",
       "      <td>Streptomyces coelicolor</td>\n",
       "      <td>C[S+](CCC(C(=O)[O-])N)CC1C(C(C(O1)N2C=NC3=C(N=...</td>\n",
       "      <td>S-Adenosyl-L-methionine</td>\n",
       "      <td>MTTETTTATATAKIPAPATPYQEDIARYWNNEARPVNLRLGDVDGL...</td>\n",
       "      <td>0.0075</td>\n",
       "      <td>s^(-1)</td>\n",
       "      <td>-2.124939</td>\n",
       "    </tr>\n",
       "    <tr>\n",
       "      <th>4</th>\n",
       "      <td>2.1.1.255</td>\n",
       "      <td>Streptomyces coelicolor</td>\n",
       "      <td>CC(=CCCC(=C(C)COP(=O)(O)OP(=O)(O)O)C)C</td>\n",
       "      <td>(E)-2-Methylgeranyl diphosphate</td>\n",
       "      <td>MTTETTTATATAKIPAPATPYQEDIARYWNNEARPVNLRLGDVDGL...</td>\n",
       "      <td>0.0390</td>\n",
       "      <td>s^(-1)</td>\n",
       "      <td>-1.408935</td>\n",
       "    </tr>\n",
       "  </tbody>\n",
       "</table>\n",
       "</div>"
      ],
      "text/plain": [
       "    ECNumber                 Organism  \\\n",
       "0    4.2.3.4      Actinidia chinensis   \n",
       "1    4.2.3.4     Aspergillus nidulans   \n",
       "2    4.2.3.4        Neurospora crassa   \n",
       "3  2.1.1.255  Streptomyces coelicolor   \n",
       "4  2.1.1.255  Streptomyces coelicolor   \n",
       "\n",
       "                                              Smiles  \\\n",
       "0              C(C(C(C(COP(=O)(O)O)O)O)O)C(=O)C(=O)O   \n",
       "1     C(C(C(C(COP(=O)([O-])[O-])O)O)O)C(=O)C(=O)[O-]   \n",
       "2              C(C(C(C(COP(=O)(O)O)O)O)O)C(=O)C(=O)O   \n",
       "3  C[S+](CCC(C(=O)[O-])N)CC1C(C(C(O1)N2C=NC3=C(N=...   \n",
       "4             CC(=CCCC(=C(C)COP(=O)(O)OP(=O)(O)O)C)C   \n",
       "\n",
       "                                         Substrate  \\\n",
       "0  3-deoxy-D-arabino-heptulosonic acid 7-phosphate   \n",
       "1      3-deoxy-D-arabino-heptulosonate 7-phosphate   \n",
       "2  3-deoxy-D-arabino-heptulosonic acid 7-phosphate   \n",
       "3                          S-Adenosyl-L-methionine   \n",
       "4                  (E)-2-Methylgeranyl diphosphate   \n",
       "\n",
       "                                            Sequence   Raw Kd    Unit  \\\n",
       "0  MAAFSLSAKQILSPSTHRPSLSKTTTADSSLRFRNPHSLSLRCSSL...  20.1000  s^(-1)   \n",
       "1  MSNPTKISILGRESIIADFGLWRNYVAKDLISDCSSTTYVLVTDTN...   6.8000  s^(-1)   \n",
       "2  MAEPISNPTRINILGKDNIIIDHGIWLNFVAQDLLQNIKSSTYILI...  19.0000  s^(-1)   \n",
       "3  MTTETTTATATAKIPAPATPYQEDIARYWNNEARPVNLRLGDVDGL...   0.0075  s^(-1)   \n",
       "4  MTTETTTATATAKIPAPATPYQEDIARYWNNEARPVNLRLGDVDGL...   0.0390  s^(-1)   \n",
       "\n",
       "     Log Kd  \n",
       "0  1.303196  \n",
       "1  0.832509  \n",
       "2  1.278754  \n",
       "3 -2.124939  \n",
       "4 -1.408935  "
      ]
     },
     "execution_count": 3,
     "metadata": {},
     "output_type": "execute_result"
    }
   ],
   "source": [
    "data = torch.load('TrainingDataset/Kcat_Enzymatic_reaction.pt',weights_only=False)\n",
    "data.head()"
   ]
  },
  {
   "cell_type": "code",
   "execution_count": 4,
   "metadata": {},
   "outputs": [
    {
     "name": "stderr",
     "output_type": "stream",
     "text": [
      "Some weights of EsmModel were not initialized from the model checkpoint at facebook/esm2_t6_8M_UR50D and are newly initialized: ['pooler.dense.bias', 'pooler.dense.weight']\n",
      "You should probably TRAIN this model on a down-stream task to be able to use it for predictions and inference.\n"
     ]
    }
   ],
   "source": [
    "from transformers import AutoTokenizer, AutoModel\n",
    "import torch\n",
    "\n",
    "# Load ChemRoBERTa tokenizer and model\n",
    "chem_tokenizer = AutoTokenizer.from_pretrained(\"seyonec/ChemBERTa-zinc-base-v1\")\n",
    "chem_model = AutoModel.from_pretrained(\"seyonec/ChemBERTa-zinc-base-v1\")\n",
    "\n",
    "# Load ESM2 tokenizer and model\n",
    "esm_tokenizer = AutoTokenizer.from_pretrained(\"facebook/esm2_t6_8M_UR50D\")\n",
    "esm_model = AutoModel.from_pretrained(\"facebook/esm2_t6_8M_UR50D\")"
   ]
  },
  {
   "cell_type": "code",
   "execution_count": 5,
   "metadata": {},
   "outputs": [],
   "source": [
    "def extract_chem_features(smiles):\n",
    "    \"\"\"Extract ChemRoBERTa features from SMILES.\"\"\"\n",
    "    try:\n",
    "        tokens = chem_tokenizer(smiles, return_tensors=\"pt\", padding=True, truncation=True)\n",
    "        with torch.no_grad():\n",
    "            embeddings = chem_model(**tokens).last_hidden_state.mean(dim=1).squeeze().numpy()\n",
    "        return embeddings\n",
    "    except:\n",
    "        return np.zeros(768)  # Return zero vector if extraction fails\n",
    "\n",
    "def extract_esm_features(sequence):\n",
    "    \"\"\"Extract ESM2 features from protein sequence.\"\"\"\n",
    "    try:\n",
    "        tokens = esm_tokenizer(sequence, return_tensors=\"pt\", padding=True, truncation=True)\n",
    "        with torch.no_grad():\n",
    "            embeddings = esm_model(**tokens).last_hidden_state.mean(dim=1).squeeze().numpy()\n",
    "        return embeddings\n",
    "    except:\n",
    "        return np.zeros(768)  # Return zero vector if extraction fails"
   ]
  },
  {
   "cell_type": "code",
   "execution_count": 6,
   "metadata": {},
   "outputs": [],
   "source": [
    "# Extract unique mols and proteins\n",
    "unique_mols = data[['Smiles']].drop_duplicates()\n",
    "unique_proteins = data[['Sequence']].drop_duplicates()"
   ]
  },
  {
   "cell_type": "code",
   "execution_count": 7,
   "metadata": {},
   "outputs": [
    {
     "data": {
      "text/plain": [
       "(2706, 7857)"
      ]
     },
     "execution_count": 7,
     "metadata": {},
     "output_type": "execute_result"
    }
   ],
   "source": [
    "len(unique_mols), len(unique_proteins)"
   ]
  },
  {
   "cell_type": "code",
   "execution_count": 8,
   "metadata": {},
   "outputs": [
    {
     "name": "stderr",
     "output_type": "stream",
     "text": [
      "100%|██████████| 2706/2706 [00:48<00:00, 55.92it/s]\n"
     ]
    }
   ],
   "source": [
    "# Extract features for unique mols\n",
    "tqdm.pandas()  # Enable progress bar for pandas\n",
    "unique_mols['metabolite_features'] = unique_mols['Smiles'].progress_apply(extract_chem_features)"
   ]
  },
  {
   "cell_type": "code",
   "execution_count": null,
   "metadata": {},
   "outputs": [
    {
     "name": "stderr",
     "output_type": "stream",
     "text": [
      "  0%|          | 0/7857 [00:00<?, ?it/s]Asking to truncate to max_length but no maximum length is provided and the model has no predefined maximum length. Default to no truncation.\n",
      " 80%|███████▉  | 6273/7857 [05:47<01:37, 16.31it/s]  "
     ]
    }
   ],
   "source": [
    "# Extract features for unique proteins\n",
    "unique_proteins['protein_features'] = unique_proteins['Sequence'].progress_apply(extract_esm_features)"
   ]
  },
  {
   "cell_type": "code",
   "execution_count": null,
   "metadata": {},
   "outputs": [],
   "source": [
    "# Merge features back into the combined dataframe\n",
    "data = data.merge(unique_mols, on='Smiles', how='left')\n",
    "data = data.merge(unique_proteins, on='Sequence', how='left')"
   ]
  },
  {
   "cell_type": "code",
   "execution_count": null,
   "metadata": {},
   "outputs": [
    {
     "name": "stdout",
     "output_type": "stream",
     "text": [
      "Index(['ECNumber', 'Organism', 'Smiles', 'Substrate', 'Sequence', 'Raw Kd',\n",
      "       'Unit', 'Log Kd', 'metabolite_features', 'protein_features'],\n",
      "      dtype='object')\n"
     ]
    }
   ],
   "source": [
    "print(data.columns)"
   ]
  },
  {
   "cell_type": "code",
   "execution_count": null,
   "metadata": {},
   "outputs": [],
   "source": [
    "# adding 1e-9 to prevent error when doing logarithm\n",
    "# ??????\n",
    "data['label'] = -np.log10(data['Raw Kd'] + 1e-9)"
   ]
  },
  {
   "cell_type": "code",
   "execution_count": null,
   "metadata": {},
   "outputs": [],
   "source": [
    "# Define dataset\n",
    "class MPI_Dataset(Dataset):\n",
    "    def __init__(self, dataframe):\n",
    "        self.dataframe = dataframe\n",
    "\n",
    "    def __len__(self):\n",
    "        return len(self.dataframe)\n",
    "\n",
    "    def __getitem__(self, idx):\n",
    "        row = self.dataframe.iloc[idx]\n",
    "        return {\n",
    "            'metabolite_features': torch.tensor(np.asarray(row['metabolite_features'], dtype=np.float32)),\n",
    "            'protein_features': torch.tensor(np.asarray(row['protein_features'], dtype=np.float32)),\n",
    "            'label': torch.tensor(float(row['label']), dtype=torch.float32),\n",
    "        }"
   ]
  },
  {
   "cell_type": "code",
   "execution_count": null,
   "metadata": {},
   "outputs": [],
   "source": [
    "# Load data\n",
    "# Assuming `combined_df` is a pandas DataFrame containing all necessary columns\n",
    "train_df, temp_df = train_test_split(data, test_size=0.3, shuffle=True, random_state=42)\n",
    "val_df, test_df = train_test_split(temp_df, test_size=0.5, shuffle=True, random_state=42)\n",
    "\n",
    "train_dataset = MPI_Dataset(train_df)\n",
    "val_dataset = MPI_Dataset(val_df)\n",
    "test_dataset = MPI_Dataset(test_df)\n",
    "\n",
    "train_loader = DataLoader(train_dataset, batch_size=32, shuffle=True)\n",
    "val_loader = DataLoader(val_dataset, batch_size=32)\n",
    "test_loader = DataLoader(test_dataset, batch_size=32)"
   ]
  },
  {
   "cell_type": "code",
   "execution_count": null,
   "metadata": {},
   "outputs": [],
   "source": [
    "# cold splitting\n",
    "\n"
   ]
  },
  {
   "cell_type": "code",
   "execution_count": null,
   "metadata": {},
   "outputs": [],
   "source": [
    "import torch.nn as nn\n",
    "import torch\n",
    "import torch.nn.functional as F\n",
    "\n",
    "# Define MLP Model for Regression\n",
    "class MLPRegressor(nn.Module):\n",
    "    def __init__(self, mol_input_dim, protein_input_dim, hidden_dim=128):\n",
    "        super(MLPRegressor, self).__init__()\n",
    "\n",
    "        self.mol_encoder = nn.Linear(mol_input_dim, hidden_dim)\n",
    "        self.protein_encoder = nn.Linear(protein_input_dim, hidden_dim)\n",
    "        \n",
    "        # norm layer + Dropout\n",
    "        self.layer_norm = nn.LayerNorm(hidden_dim * 2)\n",
    "        self.dropout = nn.Dropout(0.3)\n",
    "\n",
    "        # hidden layer + output layer\n",
    "        self.hidden = nn.Linear(hidden_dim * 2, hidden_dim)\n",
    "        self.regressor = nn.Linear(hidden_dim, 1)\n",
    "\n",
    "        self.activation = nn.ReLU()\n",
    "\n",
    "    def forward(self, mol_input, protein_input):\n",
    "        # Reshape to (B, 1, L) for Conv1d\n",
    "        mol_embedding = self.activation(self.mol_encoder(mol_input))\n",
    "        protein_embedding = self.activation(self.protein_encoder(protein_input))\n",
    "\n",
    "        # Concatenate + Normalize + Dropout\n",
    "        combined = torch.cat((mol_embedding, protein_embedding), dim=-1)\n",
    "        combined = self.layer_norm(combined)\n",
    "        combined = self.dropout(combined)\n",
    "\n",
    "        # Hidden → Regress\n",
    "        hidden_out = self.activation(self.hidden(combined))\n",
    "        output = self.regressor(hidden_out)\n",
    "\n",
    "        return output.squeeze(1)\n"
   ]
  },
  {
   "cell_type": "code",
   "execution_count": null,
   "metadata": {},
   "outputs": [],
   "source": [
    "# Check CUDA availability\n",
    "device = torch.device(\"cuda\" if torch.cuda.is_available() else \"cpu\")"
   ]
  },
  {
   "cell_type": "code",
   "execution_count": null,
   "metadata": {},
   "outputs": [
    {
     "name": "stderr",
     "output_type": "stream",
     "text": [
      "Training Epoch 1: 100%|██████████| 373/373 [00:02<00:00, 167.21it/s]\n",
      "/var/folders/yz/c1z6m9_d5d3f80sywjc3rqsc0000gn/T/ipykernel_90273/3478497585.py:92: FutureWarning: The behavior of DataFrame concatenation with empty or all-NA entries is deprecated. In a future version, this will no longer exclude empty or all-NA columns when determining the result dtypes. To retain the old behavior, exclude the relevant entries before the concat operation.\n",
      "  train_history = pd.concat([train_history, pd.DataFrame([new_row])], ignore_index=True)\n"
     ]
    },
    {
     "name": "stdout",
     "output_type": "stream",
     "text": [
      "Epoch 0 - Train Loss: 2.0025, Train MSE: 2.0059, Train MAE: 1.0997\n",
      "Epoch 0 - Validation Loss: 1.8754, Validation MSE: 1.8759, Validation MAE: 1.0476\n"
     ]
    },
    {
     "name": "stderr",
     "output_type": "stream",
     "text": [
      "Training Epoch 2: 100%|██████████| 373/373 [00:02<00:00, 170.46it/s]\n",
      "Training Epoch 3: 100%|██████████| 373/373 [00:02<00:00, 173.44it/s]\n",
      "Training Epoch 4: 100%|██████████| 373/373 [00:02<00:00, 172.48it/s]\n",
      "Training Epoch 5: 100%|██████████| 373/373 [00:02<00:00, 171.89it/s]\n",
      "Training Epoch 6: 100%|██████████| 373/373 [00:02<00:00, 171.74it/s]\n",
      "Training Epoch 7: 100%|██████████| 373/373 [00:02<00:00, 151.96it/s]\n",
      "Training Epoch 8: 100%|██████████| 373/373 [00:02<00:00, 183.63it/s]\n",
      "Training Epoch 9: 100%|██████████| 373/373 [00:01<00:00, 186.89it/s]\n",
      "Training Epoch 10: 100%|██████████| 373/373 [00:01<00:00, 191.19it/s]\n",
      "Training Epoch 11: 100%|██████████| 373/373 [00:01<00:00, 188.29it/s]\n"
     ]
    },
    {
     "name": "stdout",
     "output_type": "stream",
     "text": [
      "Epoch 10 - Train Loss: 1.3521, Train MSE: 1.3525, Train MAE: 0.8867\n",
      "Epoch 10 - Validation Loss: 1.5349, Validation MSE: 1.5370, Validation MAE: 0.9390\n"
     ]
    },
    {
     "name": "stderr",
     "output_type": "stream",
     "text": [
      "Training Epoch 12: 100%|██████████| 373/373 [00:01<00:00, 187.31it/s]\n",
      "Training Epoch 13: 100%|██████████| 373/373 [00:01<00:00, 193.60it/s]\n",
      "Training Epoch 14: 100%|██████████| 373/373 [00:01<00:00, 187.14it/s]\n",
      "Training Epoch 15: 100%|██████████| 373/373 [00:01<00:00, 192.99it/s]\n",
      "Training Epoch 16: 100%|██████████| 373/373 [00:01<00:00, 190.18it/s]\n",
      "Training Epoch 17: 100%|██████████| 373/373 [00:01<00:00, 191.71it/s]\n",
      "Training Epoch 18: 100%|██████████| 373/373 [00:01<00:00, 191.06it/s]\n",
      "Training Epoch 19: 100%|██████████| 373/373 [00:01<00:00, 188.35it/s]\n",
      "Training Epoch 20: 100%|██████████| 373/373 [00:01<00:00, 194.19it/s]\n",
      "Training Epoch 21: 100%|██████████| 373/373 [00:02<00:00, 185.23it/s]\n"
     ]
    },
    {
     "name": "stdout",
     "output_type": "stream",
     "text": [
      "Epoch 20 - Train Loss: 1.0922, Train MSE: 1.0938, Train MAE: 0.7920\n",
      "Epoch 20 - Validation Loss: 1.3036, Validation MSE: 1.3065, Validation MAE: 0.8413\n"
     ]
    },
    {
     "name": "stderr",
     "output_type": "stream",
     "text": [
      "Training Epoch 22: 100%|██████████| 373/373 [00:01<00:00, 187.99it/s]\n",
      "Training Epoch 23: 100%|██████████| 373/373 [00:01<00:00, 191.92it/s]\n",
      "Training Epoch 24: 100%|██████████| 373/373 [00:01<00:00, 187.94it/s]\n",
      "Training Epoch 25: 100%|██████████| 373/373 [00:01<00:00, 189.65it/s]\n",
      "Training Epoch 26: 100%|██████████| 373/373 [00:01<00:00, 191.33it/s]\n",
      "Training Epoch 27: 100%|██████████| 373/373 [00:01<00:00, 193.78it/s]\n",
      "Training Epoch 28: 100%|██████████| 373/373 [00:01<00:00, 191.93it/s]\n",
      "Training Epoch 29: 100%|██████████| 373/373 [00:02<00:00, 183.56it/s]\n",
      "Training Epoch 30: 100%|██████████| 373/373 [00:01<00:00, 191.03it/s]\n",
      "Training Epoch 31: 100%|██████████| 373/373 [00:01<00:00, 189.34it/s]\n"
     ]
    },
    {
     "name": "stdout",
     "output_type": "stream",
     "text": [
      "Epoch 30 - Train Loss: 0.9449, Train MSE: 0.9456, Train MAE: 0.7291\n",
      "Epoch 30 - Validation Loss: 1.2608, Validation MSE: 1.2634, Validation MAE: 0.8178\n"
     ]
    },
    {
     "name": "stderr",
     "output_type": "stream",
     "text": [
      "Training Epoch 32: 100%|██████████| 373/373 [00:01<00:00, 190.46it/s]\n",
      "Training Epoch 33: 100%|██████████| 373/373 [00:01<00:00, 192.01it/s]\n",
      "Training Epoch 34: 100%|██████████| 373/373 [00:01<00:00, 188.20it/s]\n",
      "Training Epoch 35: 100%|██████████| 373/373 [00:01<00:00, 193.03it/s]\n",
      "Training Epoch 36: 100%|██████████| 373/373 [00:02<00:00, 185.58it/s]\n",
      "Training Epoch 37: 100%|██████████| 373/373 [00:01<00:00, 191.37it/s]\n",
      "Training Epoch 38: 100%|██████████| 373/373 [00:01<00:00, 189.68it/s]\n",
      "Training Epoch 39: 100%|██████████| 373/373 [00:01<00:00, 191.57it/s]\n",
      "Training Epoch 40: 100%|██████████| 373/373 [00:01<00:00, 193.25it/s]\n",
      "Training Epoch 41: 100%|██████████| 373/373 [00:01<00:00, 189.48it/s]\n"
     ]
    },
    {
     "name": "stdout",
     "output_type": "stream",
     "text": [
      "Epoch 40 - Train Loss: 0.8723, Train MSE: 0.8731, Train MAE: 0.6965\n",
      "Epoch 40 - Validation Loss: 1.2252, Validation MSE: 1.2279, Validation MAE: 0.8037\n"
     ]
    },
    {
     "name": "stderr",
     "output_type": "stream",
     "text": [
      "Training Epoch 42: 100%|██████████| 373/373 [00:01<00:00, 193.44it/s]\n",
      "Training Epoch 43: 100%|██████████| 373/373 [00:01<00:00, 189.95it/s]\n",
      "Training Epoch 44: 100%|██████████| 373/373 [00:01<00:00, 187.09it/s]\n",
      "Training Epoch 45: 100%|██████████| 373/373 [00:01<00:00, 193.26it/s]\n",
      "Training Epoch 46: 100%|██████████| 373/373 [00:01<00:00, 192.35it/s]\n",
      "Training Epoch 47: 100%|██████████| 373/373 [00:01<00:00, 190.33it/s]\n",
      "Training Epoch 48: 100%|██████████| 373/373 [00:01<00:00, 190.62it/s]\n",
      "Training Epoch 49: 100%|██████████| 373/373 [00:01<00:00, 190.59it/s]\n",
      "Training Epoch 50: 100%|██████████| 373/373 [00:01<00:00, 189.87it/s]\n",
      "Training Epoch 51: 100%|██████████| 373/373 [00:01<00:00, 191.19it/s]\n"
     ]
    },
    {
     "name": "stdout",
     "output_type": "stream",
     "text": [
      "Epoch 50 - Train Loss: 0.8031, Train MSE: 0.8049, Train MAE: 0.6663\n",
      "Epoch 50 - Validation Loss: 1.2139, Validation MSE: 1.2168, Validation MAE: 0.7885\n"
     ]
    },
    {
     "name": "stderr",
     "output_type": "stream",
     "text": [
      "Training Epoch 52: 100%|██████████| 373/373 [00:02<00:00, 185.39it/s]\n",
      "Training Epoch 53: 100%|██████████| 373/373 [00:01<00:00, 190.01it/s]\n",
      "Training Epoch 54: 100%|██████████| 373/373 [00:01<00:00, 189.98it/s]\n",
      "Training Epoch 55: 100%|██████████| 373/373 [00:01<00:00, 191.48it/s]\n",
      "Training Epoch 56: 100%|██████████| 373/373 [00:01<00:00, 188.49it/s]\n",
      "Training Epoch 57: 100%|██████████| 373/373 [00:01<00:00, 192.94it/s]\n",
      "Training Epoch 58: 100%|██████████| 373/373 [00:01<00:00, 191.16it/s]\n",
      "Training Epoch 59: 100%|██████████| 373/373 [00:02<00:00, 185.97it/s]\n",
      "Training Epoch 60: 100%|██████████| 373/373 [00:01<00:00, 190.12it/s]\n",
      "Training Epoch 61: 100%|██████████| 373/373 [00:01<00:00, 192.10it/s]\n"
     ]
    },
    {
     "name": "stdout",
     "output_type": "stream",
     "text": [
      "Epoch 60 - Train Loss: 0.7715, Train MSE: 0.7724, Train MAE: 0.6497\n",
      "Epoch 60 - Validation Loss: 1.1936, Validation MSE: 1.1965, Validation MAE: 0.7702\n"
     ]
    },
    {
     "name": "stderr",
     "output_type": "stream",
     "text": [
      "Training Epoch 62: 100%|██████████| 373/373 [00:01<00:00, 191.23it/s]\n",
      "Training Epoch 63: 100%|██████████| 373/373 [00:01<00:00, 190.48it/s]\n",
      "Training Epoch 64: 100%|██████████| 373/373 [00:01<00:00, 189.61it/s]\n",
      "Training Epoch 65: 100%|██████████| 373/373 [00:01<00:00, 189.85it/s]\n",
      "Training Epoch 66: 100%|██████████| 373/373 [00:01<00:00, 190.73it/s]\n",
      "Training Epoch 67: 100%|██████████| 373/373 [00:02<00:00, 183.84it/s]\n",
      "Training Epoch 68: 100%|██████████| 373/373 [00:01<00:00, 188.41it/s]\n",
      "Training Epoch 69: 100%|██████████| 373/373 [00:01<00:00, 192.06it/s]\n",
      "Training Epoch 70: 100%|██████████| 373/373 [00:01<00:00, 190.87it/s]\n",
      "Training Epoch 71: 100%|██████████| 373/373 [00:01<00:00, 193.22it/s]\n"
     ]
    },
    {
     "name": "stdout",
     "output_type": "stream",
     "text": [
      "Epoch 70 - Train Loss: 0.7201, Train MSE: 0.7212, Train MAE: 0.6229\n",
      "Epoch 70 - Validation Loss: 1.2176, Validation MSE: 1.2203, Validation MAE: 0.7819\n"
     ]
    },
    {
     "name": "stderr",
     "output_type": "stream",
     "text": [
      "Training Epoch 72: 100%|██████████| 373/373 [00:01<00:00, 190.83it/s]\n",
      "Training Epoch 73: 100%|██████████| 373/373 [00:01<00:00, 192.24it/s]\n",
      "Training Epoch 74: 100%|██████████| 373/373 [00:02<00:00, 182.66it/s]\n",
      "Training Epoch 75: 100%|██████████| 373/373 [00:01<00:00, 188.40it/s]\n",
      "Training Epoch 76: 100%|██████████| 373/373 [00:01<00:00, 188.32it/s]\n",
      "Training Epoch 77: 100%|██████████| 373/373 [00:02<00:00, 185.43it/s]\n",
      "Training Epoch 78: 100%|██████████| 373/373 [00:01<00:00, 189.72it/s]\n",
      "Training Epoch 79: 100%|██████████| 373/373 [00:01<00:00, 193.43it/s]\n",
      "Training Epoch 80: 100%|██████████| 373/373 [00:01<00:00, 189.71it/s]\n",
      "Training Epoch 81: 100%|██████████| 373/373 [00:01<00:00, 190.39it/s]\n"
     ]
    },
    {
     "name": "stdout",
     "output_type": "stream",
     "text": [
      "Epoch 80 - Train Loss: 0.6915, Train MSE: 0.6932, Train MAE: 0.6067\n",
      "Epoch 80 - Validation Loss: 1.1939, Validation MSE: 1.1964, Validation MAE: 0.7758\n"
     ]
    },
    {
     "name": "stderr",
     "output_type": "stream",
     "text": [
      "Training Epoch 82: 100%|██████████| 373/373 [00:02<00:00, 179.92it/s]\n",
      "Training Epoch 83: 100%|██████████| 373/373 [00:01<00:00, 188.79it/s]\n",
      "Training Epoch 84: 100%|██████████| 373/373 [00:01<00:00, 191.53it/s]\n",
      "Training Epoch 85: 100%|██████████| 373/373 [00:01<00:00, 192.15it/s]\n",
      "Training Epoch 86: 100%|██████████| 373/373 [00:01<00:00, 188.75it/s]\n",
      "Training Epoch 87: 100%|██████████| 373/373 [00:01<00:00, 188.15it/s]\n",
      "Training Epoch 88: 100%|██████████| 373/373 [00:01<00:00, 187.19it/s]\n",
      "Training Epoch 89: 100%|██████████| 373/373 [00:02<00:00, 185.12it/s]\n",
      "Training Epoch 90: 100%|██████████| 373/373 [00:01<00:00, 188.08it/s]\n",
      "Training Epoch 91: 100%|██████████| 373/373 [00:01<00:00, 191.91it/s]\n"
     ]
    },
    {
     "name": "stdout",
     "output_type": "stream",
     "text": [
      "Epoch 90 - Train Loss: 0.6783, Train MSE: 0.6766, Train MAE: 0.5971\n",
      "Epoch 90 - Validation Loss: 1.1983, Validation MSE: 1.2005, Validation MAE: 0.7688\n"
     ]
    },
    {
     "name": "stderr",
     "output_type": "stream",
     "text": [
      "Training Epoch 92: 100%|██████████| 373/373 [00:01<00:00, 190.15it/s]\n",
      "Training Epoch 93: 100%|██████████| 373/373 [00:01<00:00, 190.80it/s]\n",
      "Training Epoch 94: 100%|██████████| 373/373 [00:01<00:00, 189.77it/s]\n",
      "Training Epoch 95: 100%|██████████| 373/373 [00:01<00:00, 186.68it/s]\n",
      "Training Epoch 96: 100%|██████████| 373/373 [00:01<00:00, 193.88it/s]\n",
      "Training Epoch 97: 100%|██████████| 373/373 [00:02<00:00, 183.35it/s]\n",
      "Training Epoch 98: 100%|██████████| 373/373 [00:01<00:00, 195.33it/s]\n",
      "Training Epoch 99: 100%|██████████| 373/373 [00:01<00:00, 192.74it/s]\n",
      "Training Epoch 100: 100%|██████████| 373/373 [00:01<00:00, 190.49it/s]\n",
      "Training Epoch 101: 100%|██████████| 373/373 [00:01<00:00, 193.05it/s]\n"
     ]
    },
    {
     "name": "stdout",
     "output_type": "stream",
     "text": [
      "Epoch 100 - Train Loss: 0.6555, Train MSE: 0.6548, Train MAE: 0.5848\n",
      "Epoch 100 - Validation Loss: 1.1810, Validation MSE: 1.1832, Validation MAE: 0.7633\n"
     ]
    },
    {
     "name": "stderr",
     "output_type": "stream",
     "text": [
      "Training Epoch 102: 100%|██████████| 373/373 [00:01<00:00, 191.74it/s]\n",
      "Training Epoch 103: 100%|██████████| 373/373 [00:01<00:00, 192.13it/s]\n",
      "Training Epoch 104: 100%|██████████| 373/373 [00:01<00:00, 190.21it/s]\n",
      "Training Epoch 105: 100%|██████████| 373/373 [00:01<00:00, 190.79it/s]\n",
      "Training Epoch 106: 100%|██████████| 373/373 [00:01<00:00, 190.32it/s]\n",
      "Training Epoch 107: 100%|██████████| 373/373 [00:01<00:00, 191.05it/s]\n",
      "Training Epoch 108: 100%|██████████| 373/373 [00:01<00:00, 194.37it/s]\n",
      "Training Epoch 109: 100%|██████████| 373/373 [00:01<00:00, 192.45it/s]\n",
      "Training Epoch 110: 100%|██████████| 373/373 [00:01<00:00, 193.97it/s]\n",
      "Training Epoch 111: 100%|██████████| 373/373 [00:01<00:00, 193.54it/s]\n"
     ]
    },
    {
     "name": "stdout",
     "output_type": "stream",
     "text": [
      "Epoch 110 - Train Loss: 0.6322, Train MSE: 0.6328, Train MAE: 0.5702\n",
      "Epoch 110 - Validation Loss: 1.2179, Validation MSE: 1.2204, Validation MAE: 0.7732\n"
     ]
    },
    {
     "name": "stderr",
     "output_type": "stream",
     "text": [
      "Training Epoch 112: 100%|██████████| 373/373 [00:01<00:00, 187.32it/s]\n",
      "Training Epoch 113: 100%|██████████| 373/373 [00:01<00:00, 194.34it/s]\n",
      "Training Epoch 114: 100%|██████████| 373/373 [00:01<00:00, 189.48it/s]\n",
      "Training Epoch 115: 100%|██████████| 373/373 [00:01<00:00, 193.59it/s]\n",
      "Training Epoch 116: 100%|██████████| 373/373 [00:01<00:00, 193.21it/s]\n",
      "Training Epoch 117: 100%|██████████| 373/373 [00:01<00:00, 195.13it/s]\n",
      "Training Epoch 118: 100%|██████████| 373/373 [00:01<00:00, 195.90it/s]\n",
      "Training Epoch 119: 100%|██████████| 373/373 [00:01<00:00, 191.69it/s]\n",
      "Training Epoch 120: 100%|██████████| 373/373 [00:01<00:00, 188.34it/s]\n",
      "Training Epoch 121: 100%|██████████| 373/373 [00:01<00:00, 191.49it/s]\n"
     ]
    },
    {
     "name": "stdout",
     "output_type": "stream",
     "text": [
      "Epoch 120 - Train Loss: 0.6244, Train MSE: 0.6226, Train MAE: 0.5673\n",
      "Epoch 120 - Validation Loss: 1.2022, Validation MSE: 1.2045, Validation MAE: 0.7617\n"
     ]
    },
    {
     "name": "stderr",
     "output_type": "stream",
     "text": [
      "Training Epoch 122: 100%|██████████| 373/373 [00:01<00:00, 192.68it/s]\n",
      "Training Epoch 123: 100%|██████████| 373/373 [00:01<00:00, 190.79it/s]\n",
      "Training Epoch 124: 100%|██████████| 373/373 [00:01<00:00, 192.50it/s]\n",
      "Training Epoch 125: 100%|██████████| 373/373 [00:01<00:00, 194.84it/s]\n",
      "Training Epoch 126: 100%|██████████| 373/373 [00:01<00:00, 192.59it/s]\n",
      "Training Epoch 127: 100%|██████████| 373/373 [00:01<00:00, 193.25it/s]\n",
      "Training Epoch 128: 100%|██████████| 373/373 [00:01<00:00, 189.34it/s]\n",
      "Training Epoch 129: 100%|██████████| 373/373 [00:01<00:00, 193.32it/s]\n",
      "Training Epoch 130: 100%|██████████| 373/373 [00:01<00:00, 196.79it/s]\n",
      "Training Epoch 131: 100%|██████████| 373/373 [00:01<00:00, 194.80it/s]\n"
     ]
    },
    {
     "name": "stdout",
     "output_type": "stream",
     "text": [
      "Epoch 130 - Train Loss: 0.6150, Train MSE: 0.6165, Train MAE: 0.5601\n",
      "Epoch 130 - Validation Loss: 1.2021, Validation MSE: 1.2046, Validation MAE: 0.7664\n"
     ]
    },
    {
     "name": "stderr",
     "output_type": "stream",
     "text": [
      "Training Epoch 132: 100%|██████████| 373/373 [00:01<00:00, 194.41it/s]\n",
      "Training Epoch 133: 100%|██████████| 373/373 [00:01<00:00, 192.27it/s]\n",
      "Training Epoch 134: 100%|██████████| 373/373 [00:01<00:00, 191.37it/s]\n",
      "Training Epoch 135: 100%|██████████| 373/373 [00:02<00:00, 183.77it/s]\n",
      "Training Epoch 136: 100%|██████████| 373/373 [00:01<00:00, 193.43it/s]\n",
      "Training Epoch 137: 100%|██████████| 373/373 [00:01<00:00, 194.88it/s]\n",
      "Training Epoch 138: 100%|██████████| 373/373 [00:01<00:00, 188.86it/s]\n",
      "Training Epoch 139: 100%|██████████| 373/373 [00:01<00:00, 192.82it/s]\n",
      "Training Epoch 140: 100%|██████████| 373/373 [00:01<00:00, 191.26it/s]\n",
      "Training Epoch 141: 100%|██████████| 373/373 [00:01<00:00, 192.70it/s]\n"
     ]
    },
    {
     "name": "stdout",
     "output_type": "stream",
     "text": [
      "Epoch 140 - Train Loss: 0.5922, Train MSE: 0.5931, Train MAE: 0.5487\n",
      "Epoch 140 - Validation Loss: 1.1822, Validation MSE: 1.1847, Validation MAE: 0.7526\n"
     ]
    },
    {
     "name": "stderr",
     "output_type": "stream",
     "text": [
      "Training Epoch 142: 100%|██████████| 373/373 [00:01<00:00, 190.74it/s]\n",
      "Training Epoch 143: 100%|██████████| 373/373 [00:02<00:00, 186.07it/s]\n",
      "Training Epoch 144: 100%|██████████| 373/373 [00:01<00:00, 194.92it/s]\n",
      "Training Epoch 145: 100%|██████████| 373/373 [00:01<00:00, 191.61it/s]\n",
      "Training Epoch 146: 100%|██████████| 373/373 [00:01<00:00, 193.66it/s]\n",
      "Training Epoch 147: 100%|██████████| 373/373 [00:01<00:00, 193.61it/s]\n",
      "Training Epoch 148: 100%|██████████| 373/373 [00:01<00:00, 189.76it/s]\n",
      "Training Epoch 149: 100%|██████████| 373/373 [00:01<00:00, 191.65it/s]\n",
      "Training Epoch 150: 100%|██████████| 373/373 [00:01<00:00, 190.22it/s]\n",
      "Training Epoch 151: 100%|██████████| 373/373 [00:01<00:00, 193.15it/s]\n"
     ]
    },
    {
     "name": "stdout",
     "output_type": "stream",
     "text": [
      "Epoch 150 - Train Loss: 0.5985, Train MSE: 0.5998, Train MAE: 0.5496\n",
      "Epoch 150 - Validation Loss: 1.2082, Validation MSE: 1.2107, Validation MAE: 0.7628\n"
     ]
    },
    {
     "name": "stderr",
     "output_type": "stream",
     "text": [
      "Training Epoch 152: 100%|██████████| 373/373 [00:01<00:00, 189.72it/s]\n",
      "Training Epoch 153: 100%|██████████| 373/373 [00:01<00:00, 191.68it/s]\n",
      "Training Epoch 154: 100%|██████████| 373/373 [00:01<00:00, 193.20it/s]\n",
      "Training Epoch 155: 100%|██████████| 373/373 [00:01<00:00, 191.71it/s]\n",
      "Training Epoch 156: 100%|██████████| 373/373 [00:01<00:00, 193.31it/s]\n",
      "Training Epoch 157: 100%|██████████| 373/373 [00:01<00:00, 194.84it/s]\n",
      "Training Epoch 158: 100%|██████████| 373/373 [00:01<00:00, 187.09it/s]\n",
      "Training Epoch 159: 100%|██████████| 373/373 [00:01<00:00, 192.84it/s]\n",
      "Training Epoch 160: 100%|██████████| 373/373 [00:01<00:00, 191.53it/s]\n",
      "Training Epoch 161: 100%|██████████| 373/373 [00:01<00:00, 194.45it/s]\n"
     ]
    },
    {
     "name": "stdout",
     "output_type": "stream",
     "text": [
      "Epoch 160 - Train Loss: 0.5823, Train MSE: 0.5832, Train MAE: 0.5418\n",
      "Epoch 160 - Validation Loss: 1.1954, Validation MSE: 1.1980, Validation MAE: 0.7584\n"
     ]
    },
    {
     "name": "stderr",
     "output_type": "stream",
     "text": [
      "Training Epoch 162: 100%|██████████| 373/373 [00:01<00:00, 191.32it/s]\n",
      "Training Epoch 163: 100%|██████████| 373/373 [00:01<00:00, 195.52it/s]\n",
      "Training Epoch 164: 100%|██████████| 373/373 [00:01<00:00, 191.87it/s]\n",
      "Training Epoch 165: 100%|██████████| 373/373 [00:01<00:00, 190.07it/s]\n",
      "Training Epoch 166: 100%|██████████| 373/373 [00:01<00:00, 188.09it/s]\n",
      "Training Epoch 167: 100%|██████████| 373/373 [00:01<00:00, 187.22it/s]\n",
      "Training Epoch 168: 100%|██████████| 373/373 [00:01<00:00, 192.57it/s]\n",
      "Training Epoch 169: 100%|██████████| 373/373 [00:01<00:00, 186.74it/s]\n",
      "Training Epoch 170: 100%|██████████| 373/373 [00:01<00:00, 195.69it/s]\n",
      "Training Epoch 171: 100%|██████████| 373/373 [00:01<00:00, 190.55it/s]\n"
     ]
    },
    {
     "name": "stdout",
     "output_type": "stream",
     "text": [
      "Epoch 170 - Train Loss: 0.5768, Train MSE: 0.5774, Train MAE: 0.5382\n",
      "Epoch 170 - Validation Loss: 1.2229, Validation MSE: 1.2250, Validation MAE: 0.7712\n"
     ]
    },
    {
     "name": "stderr",
     "output_type": "stream",
     "text": [
      "Training Epoch 172: 100%|██████████| 373/373 [00:01<00:00, 192.58it/s]\n",
      "Training Epoch 173: 100%|██████████| 373/373 [00:01<00:00, 190.41it/s]\n",
      "Training Epoch 174: 100%|██████████| 373/373 [00:01<00:00, 191.72it/s]\n",
      "Training Epoch 175: 100%|██████████| 373/373 [00:01<00:00, 192.81it/s]\n",
      "Training Epoch 176: 100%|██████████| 373/373 [00:01<00:00, 192.52it/s]\n",
      "Training Epoch 177: 100%|██████████| 373/373 [00:01<00:00, 194.64it/s]\n",
      "Training Epoch 178: 100%|██████████| 373/373 [00:01<00:00, 192.81it/s]\n",
      "Training Epoch 179: 100%|██████████| 373/373 [00:01<00:00, 189.89it/s]\n",
      "Training Epoch 180: 100%|██████████| 373/373 [00:01<00:00, 191.37it/s]\n",
      "Training Epoch 181: 100%|██████████| 373/373 [00:02<00:00, 185.80it/s]\n"
     ]
    },
    {
     "name": "stdout",
     "output_type": "stream",
     "text": [
      "Epoch 180 - Train Loss: 0.5646, Train MSE: 0.5651, Train MAE: 0.5274\n",
      "Epoch 180 - Validation Loss: 1.1936, Validation MSE: 1.1953, Validation MAE: 0.7680\n"
     ]
    },
    {
     "name": "stderr",
     "output_type": "stream",
     "text": [
      "Training Epoch 182: 100%|██████████| 373/373 [00:01<00:00, 194.94it/s]\n",
      "Training Epoch 183: 100%|██████████| 373/373 [00:01<00:00, 194.29it/s]\n",
      "Training Epoch 184: 100%|██████████| 373/373 [00:01<00:00, 193.54it/s]\n",
      "Training Epoch 185: 100%|██████████| 373/373 [00:01<00:00, 194.54it/s]\n",
      "Training Epoch 186: 100%|██████████| 373/373 [00:01<00:00, 193.42it/s]\n",
      "Training Epoch 187: 100%|██████████| 373/373 [00:01<00:00, 194.55it/s]\n",
      "Training Epoch 188: 100%|██████████| 373/373 [00:01<00:00, 188.00it/s]\n",
      "Training Epoch 189: 100%|██████████| 373/373 [00:01<00:00, 193.19it/s]\n",
      "Training Epoch 190: 100%|██████████| 373/373 [00:01<00:00, 200.40it/s]\n",
      "Training Epoch 191: 100%|██████████| 373/373 [00:01<00:00, 195.89it/s]\n"
     ]
    },
    {
     "name": "stdout",
     "output_type": "stream",
     "text": [
      "Epoch 190 - Train Loss: 0.5600, Train MSE: 0.5581, Train MAE: 0.5247\n",
      "Epoch 190 - Validation Loss: 1.2133, Validation MSE: 1.2159, Validation MAE: 0.7585\n"
     ]
    },
    {
     "name": "stderr",
     "output_type": "stream",
     "text": [
      "Training Epoch 192: 100%|██████████| 373/373 [00:01<00:00, 199.90it/s]\n",
      "Training Epoch 193: 100%|██████████| 373/373 [00:01<00:00, 193.67it/s]\n",
      "Training Epoch 194: 100%|██████████| 373/373 [00:01<00:00, 198.07it/s]\n",
      "Training Epoch 195: 100%|██████████| 373/373 [00:01<00:00, 190.82it/s]\n",
      "Training Epoch 196: 100%|██████████| 373/373 [00:01<00:00, 197.83it/s]\n",
      "Training Epoch 197: 100%|██████████| 373/373 [00:01<00:00, 190.56it/s]\n",
      "Training Epoch 198: 100%|██████████| 373/373 [00:01<00:00, 197.22it/s]\n",
      "Training Epoch 199: 100%|██████████| 373/373 [00:01<00:00, 197.26it/s]\n",
      "Training Epoch 200: 100%|██████████| 373/373 [00:01<00:00, 192.28it/s]\n",
      "Training Epoch 201: 100%|██████████| 373/373 [00:01<00:00, 196.78it/s]\n"
     ]
    },
    {
     "name": "stdout",
     "output_type": "stream",
     "text": [
      "Epoch 200 - Train Loss: 0.5532, Train MSE: 0.5541, Train MAE: 0.5217\n",
      "Epoch 200 - Validation Loss: 1.1812, Validation MSE: 1.1839, Validation MAE: 0.7556\n"
     ]
    },
    {
     "name": "stderr",
     "output_type": "stream",
     "text": [
      "Training Epoch 202: 100%|██████████| 373/373 [00:01<00:00, 191.44it/s]\n",
      "Training Epoch 203: 100%|██████████| 373/373 [00:01<00:00, 198.64it/s]\n",
      "Training Epoch 204: 100%|██████████| 373/373 [00:01<00:00, 190.95it/s]\n",
      "Training Epoch 205: 100%|██████████| 373/373 [00:01<00:00, 194.62it/s]\n",
      "Training Epoch 206: 100%|██████████| 373/373 [00:01<00:00, 197.08it/s]\n",
      "Training Epoch 207: 100%|██████████| 373/373 [00:01<00:00, 194.66it/s]\n",
      "Training Epoch 208: 100%|██████████| 373/373 [00:01<00:00, 196.32it/s]\n",
      "Training Epoch 209: 100%|██████████| 373/373 [00:01<00:00, 196.68it/s]\n",
      "Training Epoch 210: 100%|██████████| 373/373 [00:01<00:00, 196.81it/s]\n",
      "Training Epoch 211: 100%|██████████| 373/373 [00:01<00:00, 196.82it/s]\n"
     ]
    },
    {
     "name": "stdout",
     "output_type": "stream",
     "text": [
      "Epoch 210 - Train Loss: 0.5371, Train MSE: 0.5382, Train MAE: 0.5139\n",
      "Epoch 210 - Validation Loss: 1.2103, Validation MSE: 1.2127, Validation MAE: 0.7580\n"
     ]
    },
    {
     "name": "stderr",
     "output_type": "stream",
     "text": [
      "Training Epoch 212: 100%|██████████| 373/373 [00:01<00:00, 190.21it/s]\n",
      "Training Epoch 213: 100%|██████████| 373/373 [00:01<00:00, 196.61it/s]\n",
      "Training Epoch 214: 100%|██████████| 373/373 [00:01<00:00, 193.51it/s]\n",
      "Training Epoch 215: 100%|██████████| 373/373 [00:01<00:00, 193.72it/s]\n",
      "Training Epoch 216: 100%|██████████| 373/373 [00:01<00:00, 196.99it/s]\n",
      "Training Epoch 217: 100%|██████████| 373/373 [00:01<00:00, 196.68it/s]\n",
      "Training Epoch 218: 100%|██████████| 373/373 [00:01<00:00, 196.72it/s]\n",
      "Training Epoch 219: 100%|██████████| 373/373 [00:01<00:00, 197.03it/s]\n",
      "Training Epoch 220: 100%|██████████| 373/373 [00:02<00:00, 179.42it/s]\n",
      "Training Epoch 221: 100%|██████████| 373/373 [00:02<00:00, 168.82it/s]\n"
     ]
    },
    {
     "name": "stdout",
     "output_type": "stream",
     "text": [
      "Epoch 220 - Train Loss: 0.5384, Train MSE: 0.5395, Train MAE: 0.5149\n",
      "Epoch 220 - Validation Loss: 1.2014, Validation MSE: 1.2036, Validation MAE: 0.7575\n"
     ]
    },
    {
     "name": "stderr",
     "output_type": "stream",
     "text": [
      "Training Epoch 222: 100%|██████████| 373/373 [00:02<00:00, 167.65it/s]\n",
      "Training Epoch 223: 100%|██████████| 373/373 [00:02<00:00, 170.37it/s]\n",
      "Training Epoch 224: 100%|██████████| 373/373 [00:02<00:00, 167.62it/s]\n",
      "Training Epoch 225: 100%|██████████| 373/373 [00:02<00:00, 168.72it/s]\n",
      "Training Epoch 226: 100%|██████████| 373/373 [00:02<00:00, 166.88it/s]\n",
      "Training Epoch 227: 100%|██████████| 373/373 [00:02<00:00, 161.85it/s]\n",
      "Training Epoch 228: 100%|██████████| 373/373 [00:02<00:00, 166.31it/s]\n",
      "Training Epoch 229: 100%|██████████| 373/373 [00:02<00:00, 168.27it/s]\n",
      "Training Epoch 230: 100%|██████████| 373/373 [00:02<00:00, 160.26it/s]\n",
      "Training Epoch 231: 100%|██████████| 373/373 [00:02<00:00, 165.17it/s]\n"
     ]
    },
    {
     "name": "stdout",
     "output_type": "stream",
     "text": [
      "Epoch 230 - Train Loss: 0.5453, Train MSE: 0.5455, Train MAE: 0.5137\n",
      "Epoch 230 - Validation Loss: 1.2109, Validation MSE: 1.2131, Validation MAE: 0.7591\n"
     ]
    },
    {
     "name": "stderr",
     "output_type": "stream",
     "text": [
      "Training Epoch 232: 100%|██████████| 373/373 [00:02<00:00, 164.59it/s]\n",
      "Training Epoch 233: 100%|██████████| 373/373 [00:02<00:00, 161.61it/s]\n",
      "Training Epoch 234: 100%|██████████| 373/373 [00:02<00:00, 167.61it/s]\n",
      "Training Epoch 235: 100%|██████████| 373/373 [00:02<00:00, 163.60it/s]\n",
      "Training Epoch 236: 100%|██████████| 373/373 [00:02<00:00, 164.63it/s]\n",
      "Training Epoch 237: 100%|██████████| 373/373 [00:02<00:00, 160.90it/s]\n",
      "Training Epoch 238: 100%|██████████| 373/373 [00:02<00:00, 163.88it/s]\n",
      "Training Epoch 239: 100%|██████████| 373/373 [00:02<00:00, 166.01it/s]\n",
      "Training Epoch 240: 100%|██████████| 373/373 [00:02<00:00, 157.52it/s]\n",
      "Training Epoch 241: 100%|██████████| 373/373 [00:02<00:00, 157.64it/s]\n"
     ]
    },
    {
     "name": "stdout",
     "output_type": "stream",
     "text": [
      "Epoch 240 - Train Loss: 0.5268, Train MSE: 0.5269, Train MAE: 0.5048\n",
      "Epoch 240 - Validation Loss: 1.1956, Validation MSE: 1.1980, Validation MAE: 0.7549\n"
     ]
    },
    {
     "name": "stderr",
     "output_type": "stream",
     "text": [
      "Training Epoch 242: 100%|██████████| 373/373 [00:02<00:00, 170.15it/s]\n",
      "Training Epoch 243: 100%|██████████| 373/373 [00:02<00:00, 164.03it/s]\n",
      "Training Epoch 244: 100%|██████████| 373/373 [00:02<00:00, 166.73it/s]\n",
      "Training Epoch 245: 100%|██████████| 373/373 [00:02<00:00, 168.73it/s]\n",
      "Training Epoch 246: 100%|██████████| 373/373 [00:02<00:00, 164.64it/s]\n",
      "Training Epoch 247: 100%|██████████| 373/373 [00:02<00:00, 166.82it/s]\n",
      "Training Epoch 248: 100%|██████████| 373/373 [00:02<00:00, 166.10it/s]\n",
      "Training Epoch 249: 100%|██████████| 373/373 [00:02<00:00, 162.49it/s]\n",
      "Training Epoch 250: 100%|██████████| 373/373 [00:02<00:00, 166.70it/s]\n",
      "Training Epoch 251: 100%|██████████| 373/373 [00:02<00:00, 164.35it/s]\n"
     ]
    },
    {
     "name": "stdout",
     "output_type": "stream",
     "text": [
      "Epoch 250 - Train Loss: 0.5190, Train MSE: 0.5202, Train MAE: 0.5006\n",
      "Epoch 250 - Validation Loss: 1.1932, Validation MSE: 1.1957, Validation MAE: 0.7555\n"
     ]
    },
    {
     "name": "stderr",
     "output_type": "stream",
     "text": [
      "Training Epoch 252: 100%|██████████| 373/373 [00:02<00:00, 163.64it/s]\n",
      "Training Epoch 253: 100%|██████████| 373/373 [00:02<00:00, 163.90it/s]\n",
      "Training Epoch 254: 100%|██████████| 373/373 [00:02<00:00, 166.39it/s]\n",
      "Training Epoch 255: 100%|██████████| 373/373 [00:02<00:00, 164.01it/s]\n",
      "Training Epoch 256: 100%|██████████| 373/373 [00:02<00:00, 167.53it/s]\n",
      "Training Epoch 257: 100%|██████████| 373/373 [00:02<00:00, 167.16it/s]\n",
      "Training Epoch 258: 100%|██████████| 373/373 [00:02<00:00, 165.39it/s]\n",
      "Training Epoch 259: 100%|██████████| 373/373 [00:02<00:00, 166.54it/s]\n",
      "Training Epoch 260: 100%|██████████| 373/373 [00:02<00:00, 163.64it/s]\n",
      "Training Epoch 261: 100%|██████████| 373/373 [00:02<00:00, 165.65it/s]\n"
     ]
    },
    {
     "name": "stdout",
     "output_type": "stream",
     "text": [
      "Epoch 260 - Train Loss: 0.5188, Train MSE: 0.5192, Train MAE: 0.5005\n",
      "Epoch 260 - Validation Loss: 1.1905, Validation MSE: 1.1926, Validation MAE: 0.7456\n"
     ]
    },
    {
     "name": "stderr",
     "output_type": "stream",
     "text": [
      "Training Epoch 262: 100%|██████████| 373/373 [00:02<00:00, 167.49it/s]\n",
      "Training Epoch 263: 100%|██████████| 373/373 [00:02<00:00, 162.92it/s]\n",
      "Training Epoch 264: 100%|██████████| 373/373 [00:02<00:00, 165.10it/s]\n",
      "Training Epoch 265: 100%|██████████| 373/373 [00:02<00:00, 167.74it/s]\n",
      "Training Epoch 266: 100%|██████████| 373/373 [00:02<00:00, 160.19it/s]\n",
      "Training Epoch 267: 100%|██████████| 373/373 [00:02<00:00, 164.58it/s]\n",
      "Training Epoch 268: 100%|██████████| 373/373 [00:02<00:00, 168.15it/s]\n",
      "Training Epoch 269: 100%|██████████| 373/373 [00:02<00:00, 166.58it/s]\n",
      "Training Epoch 270: 100%|██████████| 373/373 [00:02<00:00, 167.83it/s]\n",
      "Training Epoch 271: 100%|██████████| 373/373 [00:02<00:00, 165.37it/s]\n"
     ]
    },
    {
     "name": "stdout",
     "output_type": "stream",
     "text": [
      "Epoch 270 - Train Loss: 0.5154, Train MSE: 0.5147, Train MAE: 0.4958\n",
      "Epoch 270 - Validation Loss: 1.1917, Validation MSE: 1.1941, Validation MAE: 0.7520\n"
     ]
    },
    {
     "name": "stderr",
     "output_type": "stream",
     "text": [
      "Training Epoch 272: 100%|██████████| 373/373 [00:02<00:00, 166.88it/s]\n",
      "Training Epoch 273: 100%|██████████| 373/373 [00:02<00:00, 164.18it/s]\n",
      "Training Epoch 274: 100%|██████████| 373/373 [00:02<00:00, 167.26it/s]\n",
      "Training Epoch 275: 100%|██████████| 373/373 [00:02<00:00, 164.04it/s]\n",
      "Training Epoch 276: 100%|██████████| 373/373 [00:02<00:00, 166.17it/s]\n",
      "Training Epoch 277: 100%|██████████| 373/373 [00:02<00:00, 164.45it/s]\n",
      "Training Epoch 278: 100%|██████████| 373/373 [00:02<00:00, 164.45it/s]\n",
      "Training Epoch 279: 100%|██████████| 373/373 [00:02<00:00, 164.62it/s]\n",
      "Training Epoch 280: 100%|██████████| 373/373 [00:02<00:00, 163.21it/s]\n",
      "Training Epoch 281: 100%|██████████| 373/373 [00:02<00:00, 166.48it/s]\n"
     ]
    },
    {
     "name": "stdout",
     "output_type": "stream",
     "text": [
      "Epoch 280 - Train Loss: 0.5122, Train MSE: 0.5131, Train MAE: 0.4973\n",
      "Epoch 280 - Validation Loss: 1.1942, Validation MSE: 1.1967, Validation MAE: 0.7543\n"
     ]
    },
    {
     "name": "stderr",
     "output_type": "stream",
     "text": [
      "Training Epoch 282: 100%|██████████| 373/373 [00:02<00:00, 167.56it/s]\n",
      "Training Epoch 283: 100%|██████████| 373/373 [00:02<00:00, 161.79it/s]\n",
      "Training Epoch 284: 100%|██████████| 373/373 [00:02<00:00, 165.36it/s]\n",
      "Training Epoch 285: 100%|██████████| 373/373 [00:02<00:00, 165.93it/s]\n",
      "Training Epoch 286: 100%|██████████| 373/373 [00:02<00:00, 161.56it/s]\n",
      "Training Epoch 287: 100%|██████████| 373/373 [00:02<00:00, 164.78it/s]\n",
      "Training Epoch 288: 100%|██████████| 373/373 [00:02<00:00, 172.32it/s]\n",
      "Training Epoch 289: 100%|██████████| 373/373 [00:02<00:00, 162.26it/s]\n",
      "Training Epoch 290: 100%|██████████| 373/373 [00:02<00:00, 168.28it/s]\n",
      "Training Epoch 291: 100%|██████████| 373/373 [00:02<00:00, 166.91it/s]\n"
     ]
    },
    {
     "name": "stdout",
     "output_type": "stream",
     "text": [
      "Epoch 290 - Train Loss: 0.5049, Train MSE: 0.5055, Train MAE: 0.4909\n",
      "Epoch 290 - Validation Loss: 1.2093, Validation MSE: 1.2117, Validation MAE: 0.7513\n"
     ]
    },
    {
     "name": "stderr",
     "output_type": "stream",
     "text": [
      "Training Epoch 292: 100%|██████████| 373/373 [00:02<00:00, 164.54it/s]\n",
      "Training Epoch 293: 100%|██████████| 373/373 [00:02<00:00, 164.07it/s]\n",
      "Training Epoch 294: 100%|██████████| 373/373 [00:02<00:00, 167.43it/s]\n",
      "Training Epoch 295: 100%|██████████| 373/373 [00:02<00:00, 165.63it/s]\n",
      "Training Epoch 296: 100%|██████████| 373/373 [00:02<00:00, 169.74it/s]\n",
      "Training Epoch 297: 100%|██████████| 373/373 [00:02<00:00, 166.12it/s]\n",
      "Training Epoch 298: 100%|██████████| 373/373 [00:02<00:00, 163.05it/s]\n",
      "Training Epoch 299: 100%|██████████| 373/373 [00:02<00:00, 163.38it/s]\n",
      "Training Epoch 300: 100%|██████████| 373/373 [00:02<00:00, 168.05it/s]\n",
      "Training Epoch 301: 100%|██████████| 373/373 [00:02<00:00, 168.32it/s]\n"
     ]
    },
    {
     "name": "stdout",
     "output_type": "stream",
     "text": [
      "Epoch 300 - Train Loss: 0.4994, Train MSE: 0.5006, Train MAE: 0.4890\n",
      "Epoch 300 - Validation Loss: 1.1952, Validation MSE: 1.1976, Validation MAE: 0.7494\n"
     ]
    },
    {
     "name": "stderr",
     "output_type": "stream",
     "text": [
      "Training Epoch 302: 100%|██████████| 373/373 [00:02<00:00, 168.31it/s]\n",
      "Training Epoch 303: 100%|██████████| 373/373 [00:02<00:00, 166.98it/s]\n",
      "Training Epoch 304: 100%|██████████| 373/373 [00:02<00:00, 166.81it/s]\n",
      "Training Epoch 305: 100%|██████████| 373/373 [00:02<00:00, 165.08it/s]\n",
      "Training Epoch 306: 100%|██████████| 373/373 [00:02<00:00, 164.10it/s]\n",
      "Training Epoch 307: 100%|██████████| 373/373 [00:02<00:00, 167.15it/s]\n",
      "Training Epoch 308: 100%|██████████| 373/373 [00:02<00:00, 166.54it/s]\n",
      "Training Epoch 309: 100%|██████████| 373/373 [00:02<00:00, 167.81it/s]\n",
      "Training Epoch 310: 100%|██████████| 373/373 [00:02<00:00, 166.07it/s]\n",
      "Training Epoch 311: 100%|██████████| 373/373 [00:02<00:00, 166.07it/s]\n"
     ]
    },
    {
     "name": "stdout",
     "output_type": "stream",
     "text": [
      "Epoch 310 - Train Loss: 0.4992, Train MSE: 0.5001, Train MAE: 0.4872\n",
      "Epoch 310 - Validation Loss: 1.1947, Validation MSE: 1.1967, Validation MAE: 0.7519\n"
     ]
    },
    {
     "name": "stderr",
     "output_type": "stream",
     "text": [
      "Training Epoch 312: 100%|██████████| 373/373 [00:02<00:00, 164.51it/s]\n",
      "Training Epoch 313: 100%|██████████| 373/373 [00:02<00:00, 164.62it/s]\n",
      "Training Epoch 314: 100%|██████████| 373/373 [00:02<00:00, 165.89it/s]\n",
      "Training Epoch 315: 100%|██████████| 373/373 [00:02<00:00, 168.18it/s]\n",
      "Training Epoch 316: 100%|██████████| 373/373 [00:02<00:00, 164.90it/s]\n",
      "Training Epoch 317: 100%|██████████| 373/373 [00:02<00:00, 163.27it/s]\n",
      "Training Epoch 318: 100%|██████████| 373/373 [00:02<00:00, 168.12it/s]\n",
      "Training Epoch 319: 100%|██████████| 373/373 [00:02<00:00, 161.31it/s]\n",
      "Training Epoch 320: 100%|██████████| 373/373 [00:02<00:00, 162.70it/s]\n",
      "Training Epoch 321: 100%|██████████| 373/373 [00:02<00:00, 166.87it/s]\n"
     ]
    },
    {
     "name": "stdout",
     "output_type": "stream",
     "text": [
      "Epoch 320 - Train Loss: 0.4961, Train MSE: 0.4972, Train MAE: 0.4838\n",
      "Epoch 320 - Validation Loss: 1.2010, Validation MSE: 1.2032, Validation MAE: 0.7498\n"
     ]
    },
    {
     "name": "stderr",
     "output_type": "stream",
     "text": [
      "Training Epoch 322: 100%|██████████| 373/373 [00:02<00:00, 165.02it/s]\n",
      "Training Epoch 323: 100%|██████████| 373/373 [00:02<00:00, 162.98it/s]\n",
      "Training Epoch 324: 100%|██████████| 373/373 [00:02<00:00, 166.92it/s]\n",
      "Training Epoch 325: 100%|██████████| 373/373 [00:02<00:00, 164.44it/s]\n",
      "Training Epoch 326: 100%|██████████| 373/373 [00:02<00:00, 162.26it/s]\n",
      "Training Epoch 327: 100%|██████████| 373/373 [00:02<00:00, 164.78it/s]\n",
      "Training Epoch 328: 100%|██████████| 373/373 [00:02<00:00, 163.68it/s]\n",
      "Training Epoch 329: 100%|██████████| 373/373 [00:02<00:00, 168.17it/s]\n",
      "Training Epoch 330: 100%|██████████| 373/373 [00:02<00:00, 170.33it/s]\n",
      "Training Epoch 331: 100%|██████████| 373/373 [00:02<00:00, 163.07it/s]\n"
     ]
    },
    {
     "name": "stdout",
     "output_type": "stream",
     "text": [
      "Epoch 330 - Train Loss: 0.4938, Train MSE: 0.4945, Train MAE: 0.4825\n",
      "Epoch 330 - Validation Loss: 1.2155, Validation MSE: 1.2181, Validation MAE: 0.7533\n"
     ]
    },
    {
     "name": "stderr",
     "output_type": "stream",
     "text": [
      "Training Epoch 332: 100%|██████████| 373/373 [00:02<00:00, 163.09it/s]\n",
      "Training Epoch 333: 100%|██████████| 373/373 [00:02<00:00, 168.11it/s]\n",
      "Training Epoch 334: 100%|██████████| 373/373 [00:02<00:00, 165.41it/s]\n",
      "Training Epoch 335: 100%|██████████| 373/373 [00:02<00:00, 168.04it/s]\n",
      "Training Epoch 336: 100%|██████████| 373/373 [00:02<00:00, 164.85it/s]\n",
      "Training Epoch 337: 100%|██████████| 373/373 [00:02<00:00, 157.18it/s]\n",
      "Training Epoch 338: 100%|██████████| 373/373 [00:02<00:00, 147.40it/s]\n",
      "Training Epoch 339: 100%|██████████| 373/373 [00:02<00:00, 162.90it/s]\n",
      "Training Epoch 340: 100%|██████████| 373/373 [00:02<00:00, 170.03it/s]\n",
      "Training Epoch 341: 100%|██████████| 373/373 [00:02<00:00, 168.54it/s]\n"
     ]
    },
    {
     "name": "stdout",
     "output_type": "stream",
     "text": [
      "Epoch 340 - Train Loss: 0.4932, Train MSE: 0.4940, Train MAE: 0.4829\n",
      "Epoch 340 - Validation Loss: 1.2040, Validation MSE: 1.2061, Validation MAE: 0.7593\n"
     ]
    },
    {
     "name": "stderr",
     "output_type": "stream",
     "text": [
      "Training Epoch 342: 100%|██████████| 373/373 [00:02<00:00, 165.45it/s]\n",
      "Training Epoch 343: 100%|██████████| 373/373 [00:02<00:00, 167.78it/s]\n",
      "Training Epoch 344: 100%|██████████| 373/373 [00:02<00:00, 166.99it/s]\n",
      "Training Epoch 345: 100%|██████████| 373/373 [00:02<00:00, 163.81it/s]\n",
      "Training Epoch 346: 100%|██████████| 373/373 [00:02<00:00, 168.12it/s]\n",
      "Training Epoch 347: 100%|██████████| 373/373 [00:02<00:00, 167.72it/s]\n",
      "Training Epoch 348: 100%|██████████| 373/373 [00:02<00:00, 161.48it/s]\n",
      "Training Epoch 349: 100%|██████████| 373/373 [00:02<00:00, 167.16it/s]\n",
      "Training Epoch 350: 100%|██████████| 373/373 [00:02<00:00, 167.81it/s]\n",
      "Training Epoch 351: 100%|██████████| 373/373 [00:02<00:00, 166.71it/s]\n"
     ]
    },
    {
     "name": "stdout",
     "output_type": "stream",
     "text": [
      "Epoch 350 - Train Loss: 0.4935, Train MSE: 0.4945, Train MAE: 0.4798\n",
      "Epoch 350 - Validation Loss: 1.1911, Validation MSE: 1.1933, Validation MAE: 0.7456\n"
     ]
    },
    {
     "name": "stderr",
     "output_type": "stream",
     "text": [
      "Training Epoch 352: 100%|██████████| 373/373 [00:02<00:00, 166.12it/s]\n",
      "Training Epoch 353: 100%|██████████| 373/373 [00:02<00:00, 164.75it/s]\n",
      "Training Epoch 354: 100%|██████████| 373/373 [00:02<00:00, 163.90it/s]\n",
      "Training Epoch 355: 100%|██████████| 373/373 [00:02<00:00, 168.45it/s]\n",
      "Training Epoch 356: 100%|██████████| 373/373 [00:02<00:00, 166.70it/s]\n",
      "Training Epoch 357: 100%|██████████| 373/373 [00:02<00:00, 165.08it/s]\n",
      "Training Epoch 358: 100%|██████████| 373/373 [00:02<00:00, 166.08it/s]\n",
      "Training Epoch 359: 100%|██████████| 373/373 [00:02<00:00, 163.13it/s]\n",
      "Training Epoch 360: 100%|██████████| 373/373 [00:02<00:00, 165.72it/s]\n",
      "Training Epoch 361: 100%|██████████| 373/373 [00:02<00:00, 166.87it/s]\n"
     ]
    },
    {
     "name": "stdout",
     "output_type": "stream",
     "text": [
      "Epoch 360 - Train Loss: 0.4923, Train MSE: 0.4922, Train MAE: 0.4795\n",
      "Epoch 360 - Validation Loss: 1.2004, Validation MSE: 1.2026, Validation MAE: 0.7526\n"
     ]
    },
    {
     "name": "stderr",
     "output_type": "stream",
     "text": [
      "Training Epoch 362: 100%|██████████| 373/373 [00:02<00:00, 166.47it/s]\n",
      "Training Epoch 363: 100%|██████████| 373/373 [00:02<00:00, 171.54it/s]\n",
      "Training Epoch 364: 100%|██████████| 373/373 [00:02<00:00, 164.14it/s]\n",
      "Training Epoch 365: 100%|██████████| 373/373 [00:02<00:00, 161.98it/s]\n",
      "Training Epoch 366: 100%|██████████| 373/373 [00:02<00:00, 163.72it/s]\n",
      "Training Epoch 367: 100%|██████████| 373/373 [00:02<00:00, 167.06it/s]\n",
      "Training Epoch 368: 100%|██████████| 373/373 [00:02<00:00, 167.76it/s]\n",
      "Training Epoch 369: 100%|██████████| 373/373 [00:02<00:00, 169.15it/s]\n",
      "Training Epoch 370: 100%|██████████| 373/373 [00:02<00:00, 168.42it/s]\n",
      "Training Epoch 371: 100%|██████████| 373/373 [00:02<00:00, 163.71it/s]\n"
     ]
    },
    {
     "name": "stdout",
     "output_type": "stream",
     "text": [
      "Epoch 370 - Train Loss: 0.4879, Train MSE: 0.4888, Train MAE: 0.4771\n",
      "Epoch 370 - Validation Loss: 1.1998, Validation MSE: 1.2024, Validation MAE: 0.7421\n"
     ]
    },
    {
     "name": "stderr",
     "output_type": "stream",
     "text": [
      "Training Epoch 372: 100%|██████████| 373/373 [00:02<00:00, 163.56it/s]\n",
      "Training Epoch 373: 100%|██████████| 373/373 [00:02<00:00, 165.96it/s]\n",
      "Training Epoch 374: 100%|██████████| 373/373 [00:02<00:00, 168.60it/s]\n",
      "Training Epoch 375: 100%|██████████| 373/373 [00:02<00:00, 167.38it/s]\n",
      "Training Epoch 376: 100%|██████████| 373/373 [00:02<00:00, 166.78it/s]\n",
      "Training Epoch 377: 100%|██████████| 373/373 [00:02<00:00, 164.56it/s]\n",
      "Training Epoch 378: 100%|██████████| 373/373 [00:02<00:00, 167.90it/s]\n",
      "Training Epoch 379: 100%|██████████| 373/373 [00:02<00:00, 169.76it/s]\n",
      "Training Epoch 380: 100%|██████████| 373/373 [00:02<00:00, 168.33it/s]\n",
      "Training Epoch 381: 100%|██████████| 373/373 [00:02<00:00, 166.12it/s]\n"
     ]
    },
    {
     "name": "stdout",
     "output_type": "stream",
     "text": [
      "Epoch 380 - Train Loss: 0.4873, Train MSE: 0.4880, Train MAE: 0.4752\n",
      "Epoch 380 - Validation Loss: 1.2097, Validation MSE: 1.2122, Validation MAE: 0.7524\n"
     ]
    },
    {
     "name": "stderr",
     "output_type": "stream",
     "text": [
      "Training Epoch 382: 100%|██████████| 373/373 [00:02<00:00, 162.93it/s]\n",
      "Training Epoch 383: 100%|██████████| 373/373 [00:02<00:00, 164.05it/s]\n",
      "Training Epoch 384: 100%|██████████| 373/373 [00:02<00:00, 167.79it/s]\n",
      "Training Epoch 385: 100%|██████████| 373/373 [00:02<00:00, 160.82it/s]\n",
      "Training Epoch 386: 100%|██████████| 373/373 [00:02<00:00, 164.51it/s]\n",
      "Training Epoch 387: 100%|██████████| 373/373 [00:02<00:00, 165.84it/s]\n",
      "Training Epoch 388: 100%|██████████| 373/373 [00:02<00:00, 166.24it/s]\n",
      "Training Epoch 389: 100%|██████████| 373/373 [00:02<00:00, 165.25it/s]\n",
      "Training Epoch 390: 100%|██████████| 373/373 [00:02<00:00, 167.99it/s]\n",
      "Training Epoch 391: 100%|██████████| 373/373 [00:02<00:00, 168.04it/s]\n"
     ]
    },
    {
     "name": "stdout",
     "output_type": "stream",
     "text": [
      "Epoch 390 - Train Loss: 0.4851, Train MSE: 0.4851, Train MAE: 0.4731\n",
      "Epoch 390 - Validation Loss: 1.1936, Validation MSE: 1.1957, Validation MAE: 0.7470\n"
     ]
    },
    {
     "name": "stderr",
     "output_type": "stream",
     "text": [
      "Training Epoch 392: 100%|██████████| 373/373 [00:02<00:00, 160.04it/s]\n",
      "Training Epoch 393: 100%|██████████| 373/373 [00:02<00:00, 167.02it/s]\n",
      "Training Epoch 394: 100%|██████████| 373/373 [00:02<00:00, 166.25it/s]\n",
      "Training Epoch 395: 100%|██████████| 373/373 [00:02<00:00, 166.62it/s]\n",
      "Training Epoch 396: 100%|██████████| 373/373 [00:02<00:00, 166.95it/s]\n",
      "Training Epoch 397: 100%|██████████| 373/373 [00:02<00:00, 167.05it/s]\n",
      "Training Epoch 398: 100%|██████████| 373/373 [00:02<00:00, 167.51it/s]\n",
      "Training Epoch 399: 100%|██████████| 373/373 [00:02<00:00, 164.74it/s]\n",
      "Training Epoch 400: 100%|██████████| 373/373 [00:02<00:00, 164.50it/s]\n",
      "Training Epoch 401: 100%|██████████| 373/373 [00:02<00:00, 167.31it/s]\n"
     ]
    },
    {
     "name": "stdout",
     "output_type": "stream",
     "text": [
      "Epoch 400 - Train Loss: 0.4848, Train MSE: 0.4858, Train MAE: 0.4753\n",
      "Epoch 400 - Validation Loss: 1.1927, Validation MSE: 1.1951, Validation MAE: 0.7456\n"
     ]
    },
    {
     "name": "stderr",
     "output_type": "stream",
     "text": [
      "Training Epoch 402: 100%|██████████| 373/373 [00:02<00:00, 165.45it/s]\n",
      "Training Epoch 403: 100%|██████████| 373/373 [00:02<00:00, 166.67it/s]\n",
      "Training Epoch 404: 100%|██████████| 373/373 [00:02<00:00, 167.80it/s]\n",
      "Training Epoch 405: 100%|██████████| 373/373 [00:02<00:00, 161.76it/s]\n",
      "Training Epoch 406: 100%|██████████| 373/373 [00:02<00:00, 165.25it/s]\n",
      "Training Epoch 407: 100%|██████████| 373/373 [00:02<00:00, 166.78it/s]\n",
      "Training Epoch 408: 100%|██████████| 373/373 [00:02<00:00, 165.72it/s]\n",
      "Training Epoch 409: 100%|██████████| 373/373 [00:02<00:00, 166.38it/s]\n",
      "Training Epoch 410: 100%|██████████| 373/373 [00:02<00:00, 166.15it/s]\n",
      "Training Epoch 411: 100%|██████████| 373/373 [00:02<00:00, 165.80it/s]\n"
     ]
    },
    {
     "name": "stdout",
     "output_type": "stream",
     "text": [
      "Epoch 410 - Train Loss: 0.4834, Train MSE: 0.4836, Train MAE: 0.4723\n",
      "Epoch 410 - Validation Loss: 1.2096, Validation MSE: 1.2119, Validation MAE: 0.7535\n"
     ]
    },
    {
     "name": "stderr",
     "output_type": "stream",
     "text": [
      "Training Epoch 412: 100%|██████████| 373/373 [00:02<00:00, 164.99it/s]\n",
      "Training Epoch 413: 100%|██████████| 373/373 [00:02<00:00, 169.80it/s]\n",
      "Training Epoch 414: 100%|██████████| 373/373 [00:02<00:00, 167.80it/s]\n",
      "Training Epoch 415: 100%|██████████| 373/373 [00:02<00:00, 167.37it/s]\n",
      "Training Epoch 416: 100%|██████████| 373/373 [00:02<00:00, 166.76it/s]\n",
      "Training Epoch 417: 100%|██████████| 373/373 [00:02<00:00, 167.26it/s]\n",
      "Training Epoch 418: 100%|██████████| 373/373 [00:02<00:00, 162.76it/s]\n",
      "Training Epoch 419: 100%|██████████| 373/373 [00:02<00:00, 172.35it/s]\n",
      "Training Epoch 420: 100%|██████████| 373/373 [00:02<00:00, 166.89it/s]\n",
      "Training Epoch 421: 100%|██████████| 373/373 [00:02<00:00, 168.08it/s]\n"
     ]
    },
    {
     "name": "stdout",
     "output_type": "stream",
     "text": [
      "Epoch 420 - Train Loss: 0.4792, Train MSE: 0.4798, Train MAE: 0.4715\n",
      "Epoch 420 - Validation Loss: 1.2145, Validation MSE: 1.2165, Validation MAE: 0.7491\n"
     ]
    },
    {
     "name": "stderr",
     "output_type": "stream",
     "text": [
      "Training Epoch 422: 100%|██████████| 373/373 [00:02<00:00, 165.43it/s]\n",
      "Training Epoch 423: 100%|██████████| 373/373 [00:02<00:00, 170.82it/s]\n",
      "Training Epoch 424: 100%|██████████| 373/373 [00:02<00:00, 168.51it/s]\n",
      "Training Epoch 425: 100%|██████████| 373/373 [00:02<00:00, 168.46it/s]\n",
      "Training Epoch 426: 100%|██████████| 373/373 [00:02<00:00, 169.53it/s]\n",
      "Training Epoch 427: 100%|██████████| 373/373 [00:02<00:00, 166.94it/s]\n",
      "Training Epoch 428: 100%|██████████| 373/373 [00:02<00:00, 167.09it/s]\n",
      "Training Epoch 429: 100%|██████████| 373/373 [00:02<00:00, 167.73it/s]\n",
      "Training Epoch 430: 100%|██████████| 373/373 [00:02<00:00, 167.74it/s]\n",
      "Training Epoch 431: 100%|██████████| 373/373 [00:02<00:00, 171.74it/s]\n"
     ]
    },
    {
     "name": "stdout",
     "output_type": "stream",
     "text": [
      "Epoch 430 - Train Loss: 0.4691, Train MSE: 0.4698, Train MAE: 0.4682\n",
      "Epoch 430 - Validation Loss: 1.1784, Validation MSE: 1.1805, Validation MAE: 0.7417\n"
     ]
    },
    {
     "name": "stderr",
     "output_type": "stream",
     "text": [
      "Training Epoch 432: 100%|██████████| 373/373 [00:02<00:00, 166.33it/s]\n",
      "Training Epoch 433: 100%|██████████| 373/373 [00:02<00:00, 166.71it/s]\n",
      "Training Epoch 434: 100%|██████████| 373/373 [00:02<00:00, 167.07it/s]\n",
      "Training Epoch 435: 100%|██████████| 373/373 [00:02<00:00, 163.59it/s]\n",
      "Training Epoch 436: 100%|██████████| 373/373 [00:02<00:00, 165.32it/s]\n",
      "Training Epoch 437: 100%|██████████| 373/373 [00:02<00:00, 166.99it/s]\n",
      "Training Epoch 438: 100%|██████████| 373/373 [00:02<00:00, 161.08it/s]\n",
      "Training Epoch 439: 100%|██████████| 373/373 [00:02<00:00, 165.96it/s]\n",
      "Training Epoch 440: 100%|██████████| 373/373 [00:02<00:00, 167.77it/s]\n",
      "Training Epoch 441: 100%|██████████| 373/373 [00:02<00:00, 167.39it/s]\n"
     ]
    },
    {
     "name": "stdout",
     "output_type": "stream",
     "text": [
      "Epoch 440 - Train Loss: 0.4800, Train MSE: 0.4760, Train MAE: 0.4658\n",
      "Epoch 440 - Validation Loss: 1.2080, Validation MSE: 1.2101, Validation MAE: 0.7540\n"
     ]
    },
    {
     "name": "stderr",
     "output_type": "stream",
     "text": [
      "Training Epoch 442: 100%|██████████| 373/373 [00:02<00:00, 165.16it/s]\n",
      "Training Epoch 443: 100%|██████████| 373/373 [00:02<00:00, 167.84it/s]\n",
      "Training Epoch 444: 100%|██████████| 373/373 [00:02<00:00, 164.83it/s]\n",
      "Training Epoch 445: 100%|██████████| 373/373 [00:02<00:00, 162.83it/s]\n",
      "Training Epoch 446: 100%|██████████| 373/373 [00:02<00:00, 165.46it/s]\n",
      "Training Epoch 447: 100%|██████████| 373/373 [00:02<00:00, 161.26it/s]\n",
      "Training Epoch 448: 100%|██████████| 373/373 [00:02<00:00, 162.61it/s]\n",
      "Training Epoch 449: 100%|██████████| 373/373 [00:02<00:00, 166.67it/s]\n",
      "Training Epoch 450: 100%|██████████| 373/373 [00:02<00:00, 164.26it/s]\n",
      "Training Epoch 451: 100%|██████████| 373/373 [00:02<00:00, 166.60it/s]\n"
     ]
    },
    {
     "name": "stdout",
     "output_type": "stream",
     "text": [
      "Epoch 450 - Train Loss: 0.4638, Train MSE: 0.4648, Train MAE: 0.4623\n",
      "Epoch 450 - Validation Loss: 1.2056, Validation MSE: 1.2076, Validation MAE: 0.7537\n"
     ]
    },
    {
     "name": "stderr",
     "output_type": "stream",
     "text": [
      "Training Epoch 452: 100%|██████████| 373/373 [00:02<00:00, 165.68it/s]\n",
      "Training Epoch 453: 100%|██████████| 373/373 [00:02<00:00, 166.14it/s]\n",
      "Training Epoch 454: 100%|██████████| 373/373 [00:02<00:00, 163.27it/s]\n",
      "Training Epoch 455: 100%|██████████| 373/373 [00:02<00:00, 164.71it/s]\n",
      "Training Epoch 456: 100%|██████████| 373/373 [00:02<00:00, 163.51it/s]\n",
      "Training Epoch 457: 100%|██████████| 373/373 [00:02<00:00, 165.02it/s]\n",
      "Training Epoch 458: 100%|██████████| 373/373 [00:02<00:00, 166.85it/s]\n",
      "Training Epoch 459: 100%|██████████| 373/373 [00:02<00:00, 174.38it/s]\n",
      "Training Epoch 460: 100%|██████████| 373/373 [00:02<00:00, 166.06it/s]\n",
      "Training Epoch 461: 100%|██████████| 373/373 [00:02<00:00, 166.93it/s]\n"
     ]
    },
    {
     "name": "stdout",
     "output_type": "stream",
     "text": [
      "Epoch 460 - Train Loss: 0.4706, Train MSE: 0.4713, Train MAE: 0.4640\n",
      "Epoch 460 - Validation Loss: 1.1929, Validation MSE: 1.1951, Validation MAE: 0.7479\n"
     ]
    },
    {
     "name": "stderr",
     "output_type": "stream",
     "text": [
      "Training Epoch 462: 100%|██████████| 373/373 [00:02<00:00, 166.73it/s]\n",
      "Training Epoch 463: 100%|██████████| 373/373 [00:02<00:00, 164.04it/s]\n",
      "Training Epoch 464: 100%|██████████| 373/373 [00:02<00:00, 169.44it/s]\n",
      "Training Epoch 465: 100%|██████████| 373/373 [00:02<00:00, 165.37it/s]\n",
      "Training Epoch 466: 100%|██████████| 373/373 [00:02<00:00, 170.29it/s]\n",
      "Training Epoch 467: 100%|██████████| 373/373 [00:02<00:00, 168.85it/s]\n",
      "Training Epoch 468: 100%|██████████| 373/373 [00:02<00:00, 166.52it/s]\n",
      "Training Epoch 469: 100%|██████████| 373/373 [00:02<00:00, 171.54it/s]\n",
      "Training Epoch 470: 100%|██████████| 373/373 [00:02<00:00, 169.74it/s]\n",
      "Training Epoch 471: 100%|██████████| 373/373 [00:02<00:00, 164.88it/s]\n"
     ]
    },
    {
     "name": "stdout",
     "output_type": "stream",
     "text": [
      "Epoch 470 - Train Loss: 0.4612, Train MSE: 0.4592, Train MAE: 0.4617\n",
      "Epoch 470 - Validation Loss: 1.1962, Validation MSE: 1.1984, Validation MAE: 0.7417\n"
     ]
    },
    {
     "name": "stderr",
     "output_type": "stream",
     "text": [
      "Training Epoch 472: 100%|██████████| 373/373 [00:02<00:00, 162.71it/s]\n",
      "Training Epoch 473: 100%|██████████| 373/373 [00:02<00:00, 166.62it/s]\n",
      "Training Epoch 474: 100%|██████████| 373/373 [00:02<00:00, 166.29it/s]\n",
      "Training Epoch 475: 100%|██████████| 373/373 [00:02<00:00, 167.61it/s]\n",
      "Training Epoch 476: 100%|██████████| 373/373 [00:02<00:00, 167.71it/s]\n",
      "Training Epoch 477: 100%|██████████| 373/373 [00:02<00:00, 165.83it/s]\n",
      "Training Epoch 478: 100%|██████████| 373/373 [00:02<00:00, 160.85it/s]\n",
      "Training Epoch 479: 100%|██████████| 373/373 [00:02<00:00, 165.49it/s]\n",
      "Training Epoch 480: 100%|██████████| 373/373 [00:02<00:00, 165.32it/s]\n",
      "Training Epoch 481: 100%|██████████| 373/373 [00:02<00:00, 169.64it/s]\n"
     ]
    },
    {
     "name": "stdout",
     "output_type": "stream",
     "text": [
      "Epoch 480 - Train Loss: 0.4574, Train MSE: 0.4582, Train MAE: 0.4568\n",
      "Epoch 480 - Validation Loss: 1.1957, Validation MSE: 1.1978, Validation MAE: 0.7418\n"
     ]
    },
    {
     "name": "stderr",
     "output_type": "stream",
     "text": [
      "Training Epoch 482: 100%|██████████| 373/373 [00:02<00:00, 169.30it/s]\n",
      "Training Epoch 483: 100%|██████████| 373/373 [00:02<00:00, 169.84it/s]\n",
      "Training Epoch 484: 100%|██████████| 373/373 [00:02<00:00, 165.11it/s]\n",
      "Training Epoch 485: 100%|██████████| 373/373 [00:02<00:00, 158.45it/s]\n",
      "Training Epoch 486: 100%|██████████| 373/373 [00:02<00:00, 163.97it/s]\n",
      "Training Epoch 487: 100%|██████████| 373/373 [00:02<00:00, 170.09it/s]\n",
      "Training Epoch 488: 100%|██████████| 373/373 [00:02<00:00, 165.49it/s]\n",
      "Training Epoch 489: 100%|██████████| 373/373 [00:02<00:00, 165.66it/s]\n",
      "Training Epoch 490: 100%|██████████| 373/373 [00:02<00:00, 167.38it/s]\n",
      "Training Epoch 491: 100%|██████████| 373/373 [00:02<00:00, 164.86it/s]\n"
     ]
    },
    {
     "name": "stdout",
     "output_type": "stream",
     "text": [
      "Epoch 490 - Train Loss: 0.4565, Train MSE: 0.4574, Train MAE: 0.4536\n",
      "Epoch 490 - Validation Loss: 1.2235, Validation MSE: 1.2259, Validation MAE: 0.7604\n"
     ]
    },
    {
     "name": "stderr",
     "output_type": "stream",
     "text": [
      "Training Epoch 492: 100%|██████████| 373/373 [00:02<00:00, 162.84it/s]\n",
      "Training Epoch 493: 100%|██████████| 373/373 [00:02<00:00, 167.56it/s]\n",
      "Training Epoch 494: 100%|██████████| 373/373 [00:02<00:00, 168.28it/s]\n",
      "Training Epoch 495: 100%|██████████| 373/373 [00:02<00:00, 165.82it/s]\n",
      "Training Epoch 496: 100%|██████████| 373/373 [00:02<00:00, 167.68it/s]\n",
      "Training Epoch 497: 100%|██████████| 373/373 [00:02<00:00, 166.00it/s]\n",
      "Training Epoch 498: 100%|██████████| 373/373 [00:02<00:00, 163.93it/s]\n",
      "Training Epoch 499: 100%|██████████| 373/373 [00:02<00:00, 167.08it/s]\n",
      "Training Epoch 500: 100%|██████████| 373/373 [00:02<00:00, 165.71it/s]\n",
      "Training Epoch 501: 100%|██████████| 373/373 [00:02<00:00, 168.21it/s]\n"
     ]
    },
    {
     "name": "stdout",
     "output_type": "stream",
     "text": [
      "Epoch 500 - Train Loss: 0.4594, Train MSE: 0.4603, Train MAE: 0.4578\n",
      "Epoch 500 - Validation Loss: 1.2008, Validation MSE: 1.2029, Validation MAE: 0.7407\n"
     ]
    },
    {
     "name": "stderr",
     "output_type": "stream",
     "text": [
      "Training Epoch 502: 100%|██████████| 373/373 [00:02<00:00, 167.08it/s]\n",
      "Training Epoch 503: 100%|██████████| 373/373 [00:02<00:00, 165.51it/s]\n",
      "Training Epoch 504: 100%|██████████| 373/373 [00:02<00:00, 165.42it/s]\n",
      "Training Epoch 505: 100%|██████████| 373/373 [00:02<00:00, 162.70it/s]\n",
      "Training Epoch 506: 100%|██████████| 373/373 [00:02<00:00, 166.34it/s]\n",
      "Training Epoch 507: 100%|██████████| 373/373 [00:02<00:00, 166.75it/s]\n",
      "Training Epoch 508: 100%|██████████| 373/373 [00:02<00:00, 168.68it/s]\n",
      "Training Epoch 509: 100%|██████████| 373/373 [00:02<00:00, 163.41it/s]\n",
      "Training Epoch 510: 100%|██████████| 373/373 [00:02<00:00, 167.68it/s]\n",
      "Training Epoch 511: 100%|██████████| 373/373 [00:02<00:00, 163.19it/s]\n"
     ]
    },
    {
     "name": "stdout",
     "output_type": "stream",
     "text": [
      "Epoch 510 - Train Loss: 0.4549, Train MSE: 0.4548, Train MAE: 0.4544\n",
      "Epoch 510 - Validation Loss: 1.1920, Validation MSE: 1.1941, Validation MAE: 0.7427\n"
     ]
    },
    {
     "name": "stderr",
     "output_type": "stream",
     "text": [
      "Training Epoch 512: 100%|██████████| 373/373 [00:02<00:00, 165.64it/s]\n",
      "Training Epoch 513: 100%|██████████| 373/373 [00:02<00:00, 170.00it/s]\n",
      "Training Epoch 514: 100%|██████████| 373/373 [00:02<00:00, 165.28it/s]\n",
      "Training Epoch 515: 100%|██████████| 373/373 [00:02<00:00, 168.62it/s]\n",
      "Training Epoch 516: 100%|██████████| 373/373 [00:02<00:00, 168.49it/s]\n",
      "Training Epoch 517: 100%|██████████| 373/373 [00:02<00:00, 167.91it/s]\n",
      "Training Epoch 518: 100%|██████████| 373/373 [00:02<00:00, 166.58it/s]\n",
      "Training Epoch 519: 100%|██████████| 373/373 [00:02<00:00, 166.22it/s]\n",
      "Training Epoch 520: 100%|██████████| 373/373 [00:02<00:00, 164.46it/s]\n",
      "Training Epoch 521: 100%|██████████| 373/373 [00:02<00:00, 166.37it/s]\n"
     ]
    },
    {
     "name": "stdout",
     "output_type": "stream",
     "text": [
      "Epoch 520 - Train Loss: 0.4495, Train MSE: 0.4505, Train MAE: 0.4503\n",
      "Epoch 520 - Validation Loss: 1.1831, Validation MSE: 1.1854, Validation MAE: 0.7455\n"
     ]
    },
    {
     "name": "stderr",
     "output_type": "stream",
     "text": [
      "Training Epoch 522: 100%|██████████| 373/373 [00:02<00:00, 163.24it/s]\n",
      "Training Epoch 523: 100%|██████████| 373/373 [00:02<00:00, 160.89it/s]\n",
      "Training Epoch 524: 100%|██████████| 373/373 [00:02<00:00, 162.80it/s]\n",
      "Training Epoch 525: 100%|██████████| 373/373 [00:02<00:00, 161.52it/s]\n",
      "Training Epoch 526: 100%|██████████| 373/373 [00:02<00:00, 166.17it/s]\n",
      "Training Epoch 527: 100%|██████████| 373/373 [00:02<00:00, 167.55it/s]\n",
      "Training Epoch 528: 100%|██████████| 373/373 [00:02<00:00, 168.01it/s]\n",
      "Training Epoch 529: 100%|██████████| 373/373 [00:02<00:00, 166.43it/s]\n",
      "Training Epoch 530: 100%|██████████| 373/373 [00:02<00:00, 164.83it/s]\n",
      "Training Epoch 531: 100%|██████████| 373/373 [00:02<00:00, 163.69it/s]\n"
     ]
    },
    {
     "name": "stdout",
     "output_type": "stream",
     "text": [
      "Epoch 530 - Train Loss: 0.4513, Train MSE: 0.4455, Train MAE: 0.4490\n",
      "Epoch 530 - Validation Loss: 1.1886, Validation MSE: 1.1905, Validation MAE: 0.7444\n"
     ]
    },
    {
     "name": "stderr",
     "output_type": "stream",
     "text": [
      "Training Epoch 532: 100%|██████████| 373/373 [00:02<00:00, 167.77it/s]\n",
      "Training Epoch 533: 100%|██████████| 373/373 [00:02<00:00, 167.42it/s]\n",
      "Training Epoch 534: 100%|██████████| 373/373 [00:02<00:00, 167.95it/s]\n",
      "Training Epoch 535: 100%|██████████| 373/373 [00:02<00:00, 163.63it/s]\n",
      "Training Epoch 536: 100%|██████████| 373/373 [00:02<00:00, 167.91it/s]\n",
      "Training Epoch 537: 100%|██████████| 373/373 [00:02<00:00, 165.86it/s]\n",
      "Training Epoch 538: 100%|██████████| 373/373 [00:02<00:00, 167.14it/s]\n",
      "Training Epoch 539: 100%|██████████| 373/373 [00:02<00:00, 164.46it/s]\n",
      "Training Epoch 540: 100%|██████████| 373/373 [00:02<00:00, 166.56it/s]\n",
      "Training Epoch 541: 100%|██████████| 373/373 [00:02<00:00, 163.47it/s]\n"
     ]
    },
    {
     "name": "stdout",
     "output_type": "stream",
     "text": [
      "Epoch 540 - Train Loss: 0.4475, Train MSE: 0.4477, Train MAE: 0.4519\n",
      "Epoch 540 - Validation Loss: 1.2030, Validation MSE: 1.2051, Validation MAE: 0.7488\n"
     ]
    },
    {
     "name": "stderr",
     "output_type": "stream",
     "text": [
      "Training Epoch 542: 100%|██████████| 373/373 [00:02<00:00, 166.64it/s]\n",
      "Training Epoch 543: 100%|██████████| 373/373 [00:02<00:00, 166.69it/s]\n",
      "Training Epoch 544: 100%|██████████| 373/373 [00:02<00:00, 163.51it/s]\n",
      "Training Epoch 545: 100%|██████████| 373/373 [00:02<00:00, 160.60it/s]\n",
      "Training Epoch 546: 100%|██████████| 373/373 [00:02<00:00, 163.16it/s]\n",
      "Training Epoch 547: 100%|██████████| 373/373 [00:02<00:00, 162.05it/s]\n",
      "Training Epoch 548: 100%|██████████| 373/373 [00:02<00:00, 165.07it/s]\n",
      "Training Epoch 549: 100%|██████████| 373/373 [00:02<00:00, 168.85it/s]\n",
      "Training Epoch 550: 100%|██████████| 373/373 [00:02<00:00, 163.64it/s]\n",
      "Training Epoch 551: 100%|██████████| 373/373 [00:02<00:00, 158.57it/s]\n"
     ]
    },
    {
     "name": "stdout",
     "output_type": "stream",
     "text": [
      "Epoch 550 - Train Loss: 0.4485, Train MSE: 0.4495, Train MAE: 0.4521\n",
      "Epoch 550 - Validation Loss: 1.1768, Validation MSE: 1.1788, Validation MAE: 0.7349\n"
     ]
    },
    {
     "name": "stderr",
     "output_type": "stream",
     "text": [
      "Training Epoch 552: 100%|██████████| 373/373 [00:02<00:00, 164.89it/s]\n",
      "Training Epoch 553: 100%|██████████| 373/373 [00:02<00:00, 166.84it/s]\n",
      "Training Epoch 554: 100%|██████████| 373/373 [00:02<00:00, 164.63it/s]\n",
      "Training Epoch 555: 100%|██████████| 373/373 [00:02<00:00, 168.09it/s]\n",
      "Training Epoch 556: 100%|██████████| 373/373 [00:02<00:00, 163.46it/s]\n",
      "Training Epoch 557: 100%|██████████| 373/373 [00:02<00:00, 165.07it/s]\n",
      "Training Epoch 558: 100%|██████████| 373/373 [00:02<00:00, 161.65it/s]\n",
      "Training Epoch 559: 100%|██████████| 373/373 [00:02<00:00, 168.20it/s]\n",
      "Training Epoch 560: 100%|██████████| 373/373 [00:02<00:00, 168.54it/s]\n",
      "Training Epoch 561: 100%|██████████| 373/373 [00:02<00:00, 165.97it/s]\n"
     ]
    },
    {
     "name": "stdout",
     "output_type": "stream",
     "text": [
      "Epoch 560 - Train Loss: 0.4469, Train MSE: 0.4471, Train MAE: 0.4468\n",
      "Epoch 560 - Validation Loss: 1.2032, Validation MSE: 1.2053, Validation MAE: 0.7437\n"
     ]
    },
    {
     "name": "stderr",
     "output_type": "stream",
     "text": [
      "Training Epoch 562: 100%|██████████| 373/373 [00:02<00:00, 166.38it/s]\n",
      "Training Epoch 563: 100%|██████████| 373/373 [00:02<00:00, 162.05it/s]\n",
      "Training Epoch 564: 100%|██████████| 373/373 [00:02<00:00, 163.22it/s]\n",
      "Training Epoch 565: 100%|██████████| 373/373 [00:02<00:00, 165.12it/s]\n",
      "Training Epoch 566: 100%|██████████| 373/373 [00:02<00:00, 165.94it/s]\n",
      "Training Epoch 567: 100%|██████████| 373/373 [00:02<00:00, 165.67it/s]\n",
      "Training Epoch 568: 100%|██████████| 373/373 [00:02<00:00, 165.63it/s]\n",
      "Training Epoch 569: 100%|██████████| 373/373 [00:02<00:00, 165.48it/s]\n",
      "Training Epoch 570: 100%|██████████| 373/373 [00:02<00:00, 167.83it/s]\n",
      "Training Epoch 571: 100%|██████████| 373/373 [00:02<00:00, 163.37it/s]\n"
     ]
    },
    {
     "name": "stdout",
     "output_type": "stream",
     "text": [
      "Epoch 570 - Train Loss: 0.4459, Train MSE: 0.4465, Train MAE: 0.4488\n",
      "Epoch 570 - Validation Loss: 1.1954, Validation MSE: 1.1975, Validation MAE: 0.7440\n"
     ]
    },
    {
     "name": "stderr",
     "output_type": "stream",
     "text": [
      "Training Epoch 572: 100%|██████████| 373/373 [00:02<00:00, 166.29it/s]\n",
      "Training Epoch 573: 100%|██████████| 373/373 [00:02<00:00, 170.56it/s]\n",
      "Training Epoch 574: 100%|██████████| 373/373 [00:02<00:00, 164.55it/s]\n",
      "Training Epoch 575: 100%|██████████| 373/373 [00:02<00:00, 162.10it/s]\n",
      "Training Epoch 576: 100%|██████████| 373/373 [00:02<00:00, 166.16it/s]\n",
      "Training Epoch 577: 100%|██████████| 373/373 [00:02<00:00, 165.13it/s]\n",
      "Training Epoch 578: 100%|██████████| 373/373 [00:02<00:00, 162.56it/s]\n",
      "Training Epoch 579: 100%|██████████| 373/373 [00:02<00:00, 166.92it/s]\n",
      "Training Epoch 580: 100%|██████████| 373/373 [00:02<00:00, 165.62it/s]\n",
      "Training Epoch 581: 100%|██████████| 373/373 [00:02<00:00, 163.05it/s]\n"
     ]
    },
    {
     "name": "stdout",
     "output_type": "stream",
     "text": [
      "Epoch 580 - Train Loss: 0.4439, Train MSE: 0.4447, Train MAE: 0.4459\n",
      "Epoch 580 - Validation Loss: 1.2016, Validation MSE: 1.2037, Validation MAE: 0.7481\n"
     ]
    },
    {
     "name": "stderr",
     "output_type": "stream",
     "text": [
      "Training Epoch 582: 100%|██████████| 373/373 [00:02<00:00, 165.60it/s]\n",
      "Training Epoch 583: 100%|██████████| 373/373 [00:02<00:00, 167.75it/s]\n",
      "Training Epoch 584: 100%|██████████| 373/373 [00:02<00:00, 162.06it/s]\n",
      "Training Epoch 585: 100%|██████████| 373/373 [00:02<00:00, 165.57it/s]\n",
      "Training Epoch 586: 100%|██████████| 373/373 [00:02<00:00, 165.71it/s]\n",
      "Training Epoch 587: 100%|██████████| 373/373 [00:02<00:00, 167.45it/s]\n",
      "Training Epoch 588: 100%|██████████| 373/373 [00:02<00:00, 167.79it/s]\n",
      "Training Epoch 589: 100%|██████████| 373/373 [00:02<00:00, 169.26it/s]\n",
      "Training Epoch 590: 100%|██████████| 373/373 [00:02<00:00, 167.99it/s]\n",
      "Training Epoch 591: 100%|██████████| 373/373 [00:02<00:00, 165.76it/s]\n"
     ]
    },
    {
     "name": "stdout",
     "output_type": "stream",
     "text": [
      "Epoch 590 - Train Loss: 0.4407, Train MSE: 0.4417, Train MAE: 0.4456\n",
      "Epoch 590 - Validation Loss: 1.1938, Validation MSE: 1.1958, Validation MAE: 0.7473\n"
     ]
    },
    {
     "name": "stderr",
     "output_type": "stream",
     "text": [
      "Training Epoch 592: 100%|██████████| 373/373 [00:02<00:00, 165.51it/s]\n",
      "Training Epoch 593: 100%|██████████| 373/373 [00:02<00:00, 165.75it/s]\n",
      "Training Epoch 594: 100%|██████████| 373/373 [00:02<00:00, 168.06it/s]\n",
      "Training Epoch 595: 100%|██████████| 373/373 [00:02<00:00, 168.87it/s]\n",
      "Training Epoch 596: 100%|██████████| 373/373 [00:02<00:00, 166.82it/s]\n",
      "Training Epoch 597: 100%|██████████| 373/373 [00:02<00:00, 163.91it/s]\n",
      "Training Epoch 598: 100%|██████████| 373/373 [00:02<00:00, 166.34it/s]\n",
      "Training Epoch 599: 100%|██████████| 373/373 [00:02<00:00, 169.43it/s]\n",
      "Training Epoch 600: 100%|██████████| 373/373 [00:02<00:00, 169.35it/s]\n",
      "Training Epoch 601: 100%|██████████| 373/373 [00:02<00:00, 166.16it/s]\n"
     ]
    },
    {
     "name": "stdout",
     "output_type": "stream",
     "text": [
      "Epoch 600 - Train Loss: 0.4414, Train MSE: 0.4418, Train MAE: 0.4431\n",
      "Epoch 600 - Validation Loss: 1.2211, Validation MSE: 1.2234, Validation MAE: 0.7509\n"
     ]
    },
    {
     "name": "stderr",
     "output_type": "stream",
     "text": [
      "Training Epoch 602: 100%|██████████| 373/373 [00:02<00:00, 167.68it/s]\n",
      "Training Epoch 603: 100%|██████████| 373/373 [00:02<00:00, 166.15it/s]\n",
      "Training Epoch 604: 100%|██████████| 373/373 [00:02<00:00, 161.47it/s]\n",
      "Training Epoch 605: 100%|██████████| 373/373 [00:02<00:00, 170.13it/s]\n",
      "Training Epoch 606: 100%|██████████| 373/373 [00:02<00:00, 169.25it/s]\n",
      "Training Epoch 607: 100%|██████████| 373/373 [00:02<00:00, 167.65it/s]\n",
      "Training Epoch 608: 100%|██████████| 373/373 [00:02<00:00, 168.97it/s]\n",
      "Training Epoch 609: 100%|██████████| 373/373 [00:02<00:00, 167.62it/s]\n",
      "Training Epoch 610: 100%|██████████| 373/373 [00:02<00:00, 159.85it/s]\n",
      "Training Epoch 611: 100%|██████████| 373/373 [00:02<00:00, 125.51it/s]\n"
     ]
    },
    {
     "name": "stdout",
     "output_type": "stream",
     "text": [
      "Epoch 610 - Train Loss: 0.4365, Train MSE: 0.4368, Train MAE: 0.4394\n",
      "Epoch 610 - Validation Loss: 1.1977, Validation MSE: 1.2000, Validation MAE: 0.7412\n"
     ]
    },
    {
     "name": "stderr",
     "output_type": "stream",
     "text": [
      "Training Epoch 612: 100%|██████████| 373/373 [00:02<00:00, 158.05it/s]\n",
      "Training Epoch 613: 100%|██████████| 373/373 [00:02<00:00, 154.76it/s]\n",
      "Training Epoch 614: 100%|██████████| 373/373 [00:02<00:00, 146.58it/s]\n",
      "Training Epoch 615: 100%|██████████| 373/373 [00:02<00:00, 153.86it/s]\n",
      "Training Epoch 616: 100%|██████████| 373/373 [00:02<00:00, 157.84it/s]\n",
      "Training Epoch 617: 100%|██████████| 373/373 [00:02<00:00, 161.43it/s]\n",
      "Training Epoch 618: 100%|██████████| 373/373 [00:02<00:00, 159.28it/s]\n",
      "Training Epoch 619: 100%|██████████| 373/373 [00:02<00:00, 147.41it/s]\n",
      "Training Epoch 620: 100%|██████████| 373/373 [00:02<00:00, 145.82it/s]\n",
      "Training Epoch 621: 100%|██████████| 373/373 [00:02<00:00, 152.88it/s]\n"
     ]
    },
    {
     "name": "stdout",
     "output_type": "stream",
     "text": [
      "Epoch 620 - Train Loss: 0.4338, Train MSE: 0.4332, Train MAE: 0.4437\n",
      "Epoch 620 - Validation Loss: 1.1872, Validation MSE: 1.1891, Validation MAE: 0.7413\n"
     ]
    },
    {
     "name": "stderr",
     "output_type": "stream",
     "text": [
      "Training Epoch 622: 100%|██████████| 373/373 [00:02<00:00, 156.20it/s]\n",
      "Training Epoch 623: 100%|██████████| 373/373 [00:02<00:00, 153.52it/s]\n",
      "Training Epoch 624: 100%|██████████| 373/373 [00:02<00:00, 157.77it/s]\n",
      "Training Epoch 625: 100%|██████████| 373/373 [00:02<00:00, 160.19it/s]\n",
      "Training Epoch 626: 100%|██████████| 373/373 [00:02<00:00, 161.42it/s]\n",
      "Training Epoch 627: 100%|██████████| 373/373 [00:02<00:00, 156.74it/s]\n",
      "Training Epoch 628: 100%|██████████| 373/373 [00:02<00:00, 160.96it/s]\n",
      "Training Epoch 629: 100%|██████████| 373/373 [00:02<00:00, 156.89it/s]\n",
      "Training Epoch 630: 100%|██████████| 373/373 [00:02<00:00, 160.53it/s]\n",
      "Training Epoch 631: 100%|██████████| 373/373 [00:02<00:00, 163.30it/s]\n"
     ]
    },
    {
     "name": "stdout",
     "output_type": "stream",
     "text": [
      "Epoch 630 - Train Loss: 0.4295, Train MSE: 0.4305, Train MAE: 0.4392\n",
      "Epoch 630 - Validation Loss: 1.2161, Validation MSE: 1.2181, Validation MAE: 0.7455\n"
     ]
    },
    {
     "name": "stderr",
     "output_type": "stream",
     "text": [
      "Training Epoch 632: 100%|██████████| 373/373 [00:02<00:00, 159.18it/s]\n",
      "Training Epoch 633: 100%|██████████| 373/373 [00:02<00:00, 159.48it/s]\n",
      "Training Epoch 634: 100%|██████████| 373/373 [00:02<00:00, 158.07it/s]\n",
      "Training Epoch 635: 100%|██████████| 373/373 [00:02<00:00, 152.99it/s]\n",
      "Training Epoch 636: 100%|██████████| 373/373 [00:02<00:00, 159.31it/s]\n",
      "Training Epoch 637: 100%|██████████| 373/373 [00:02<00:00, 156.94it/s]\n",
      "Training Epoch 638: 100%|██████████| 373/373 [00:02<00:00, 156.40it/s]\n",
      "Training Epoch 639: 100%|██████████| 373/373 [00:02<00:00, 162.81it/s]\n",
      "Training Epoch 640: 100%|██████████| 373/373 [00:02<00:00, 158.95it/s]\n",
      "Training Epoch 641: 100%|██████████| 373/373 [00:02<00:00, 156.95it/s]\n"
     ]
    },
    {
     "name": "stdout",
     "output_type": "stream",
     "text": [
      "Epoch 640 - Train Loss: 0.4322, Train MSE: 0.4327, Train MAE: 0.4374\n",
      "Epoch 640 - Validation Loss: 1.1939, Validation MSE: 1.1959, Validation MAE: 0.7437\n"
     ]
    },
    {
     "name": "stderr",
     "output_type": "stream",
     "text": [
      "Training Epoch 642: 100%|██████████| 373/373 [00:02<00:00, 146.83it/s]\n",
      "Training Epoch 643: 100%|██████████| 373/373 [00:02<00:00, 147.98it/s]\n",
      "Training Epoch 644: 100%|██████████| 373/373 [00:02<00:00, 148.58it/s]\n",
      "Training Epoch 645: 100%|██████████| 373/373 [00:02<00:00, 154.32it/s]\n",
      "Training Epoch 646: 100%|██████████| 373/373 [00:02<00:00, 155.78it/s]\n",
      "Training Epoch 647: 100%|██████████| 373/373 [00:02<00:00, 151.85it/s]\n",
      "Training Epoch 648: 100%|██████████| 373/373 [00:02<00:00, 146.85it/s]\n",
      "Training Epoch 649: 100%|██████████| 373/373 [00:02<00:00, 130.06it/s]\n",
      "Training Epoch 650: 100%|██████████| 373/373 [00:02<00:00, 149.72it/s]\n",
      "Training Epoch 651: 100%|██████████| 373/373 [00:02<00:00, 148.22it/s]\n"
     ]
    },
    {
     "name": "stdout",
     "output_type": "stream",
     "text": [
      "Epoch 650 - Train Loss: 0.4316, Train MSE: 0.4318, Train MAE: 0.4366\n",
      "Epoch 650 - Validation Loss: 1.2068, Validation MSE: 1.2083, Validation MAE: 0.7487\n"
     ]
    },
    {
     "name": "stderr",
     "output_type": "stream",
     "text": [
      "Training Epoch 652: 100%|██████████| 373/373 [00:02<00:00, 151.48it/s]\n",
      "Training Epoch 653: 100%|██████████| 373/373 [00:02<00:00, 147.46it/s]\n",
      "Training Epoch 654: 100%|██████████| 373/373 [00:02<00:00, 134.89it/s]\n",
      "Training Epoch 655: 100%|██████████| 373/373 [00:02<00:00, 157.53it/s]\n",
      "Training Epoch 656: 100%|██████████| 373/373 [00:02<00:00, 156.85it/s]\n",
      "Training Epoch 657: 100%|██████████| 373/373 [00:02<00:00, 161.68it/s]\n",
      "Training Epoch 658: 100%|██████████| 373/373 [00:02<00:00, 160.86it/s]\n",
      "Training Epoch 659: 100%|██████████| 373/373 [00:02<00:00, 155.81it/s]\n",
      "Training Epoch 660: 100%|██████████| 373/373 [00:02<00:00, 156.86it/s]\n",
      "Training Epoch 661: 100%|██████████| 373/373 [00:02<00:00, 161.73it/s]\n"
     ]
    },
    {
     "name": "stdout",
     "output_type": "stream",
     "text": [
      "Epoch 660 - Train Loss: 0.4302, Train MSE: 0.4310, Train MAE: 0.4376\n",
      "Epoch 660 - Validation Loss: 1.1949, Validation MSE: 1.1968, Validation MAE: 0.7479\n"
     ]
    },
    {
     "name": "stderr",
     "output_type": "stream",
     "text": [
      "Training Epoch 662: 100%|██████████| 373/373 [00:02<00:00, 157.08it/s]\n",
      "Training Epoch 663: 100%|██████████| 373/373 [00:02<00:00, 158.34it/s]\n",
      "Training Epoch 664: 100%|██████████| 373/373 [00:02<00:00, 157.42it/s]\n",
      "Training Epoch 665: 100%|██████████| 373/373 [00:02<00:00, 157.27it/s]\n",
      "Training Epoch 666: 100%|██████████| 373/373 [00:02<00:00, 156.46it/s]\n",
      "Training Epoch 667: 100%|██████████| 373/373 [00:02<00:00, 160.03it/s]\n",
      "Training Epoch 668: 100%|██████████| 373/373 [00:02<00:00, 153.00it/s]\n",
      "Training Epoch 669: 100%|██████████| 373/373 [00:02<00:00, 158.38it/s]\n",
      "Training Epoch 670: 100%|██████████| 373/373 [00:02<00:00, 160.00it/s]\n",
      "Training Epoch 671: 100%|██████████| 373/373 [00:02<00:00, 156.73it/s]\n"
     ]
    },
    {
     "name": "stdout",
     "output_type": "stream",
     "text": [
      "Epoch 670 - Train Loss: 0.4278, Train MSE: 0.4287, Train MAE: 0.4358\n",
      "Epoch 670 - Validation Loss: 1.1949, Validation MSE: 1.1970, Validation MAE: 0.7457\n"
     ]
    },
    {
     "name": "stderr",
     "output_type": "stream",
     "text": [
      "Training Epoch 672: 100%|██████████| 373/373 [00:02<00:00, 158.12it/s]\n",
      "Training Epoch 673: 100%|██████████| 373/373 [00:02<00:00, 155.30it/s]\n",
      "Training Epoch 674: 100%|██████████| 373/373 [00:02<00:00, 158.15it/s]\n",
      "Training Epoch 675: 100%|██████████| 373/373 [00:02<00:00, 156.48it/s]\n",
      "Training Epoch 676: 100%|██████████| 373/373 [00:02<00:00, 156.42it/s]\n",
      "Training Epoch 677: 100%|██████████| 373/373 [00:02<00:00, 160.14it/s]\n",
      "Training Epoch 678: 100%|██████████| 373/373 [00:02<00:00, 160.08it/s]\n",
      "Training Epoch 679: 100%|██████████| 373/373 [00:02<00:00, 154.12it/s]\n",
      "Training Epoch 680: 100%|██████████| 373/373 [00:02<00:00, 161.81it/s]\n",
      "Training Epoch 681: 100%|██████████| 373/373 [00:02<00:00, 159.76it/s]\n"
     ]
    },
    {
     "name": "stdout",
     "output_type": "stream",
     "text": [
      "Epoch 680 - Train Loss: 0.4247, Train MSE: 0.4254, Train MAE: 0.4327\n",
      "Epoch 680 - Validation Loss: 1.1832, Validation MSE: 1.1854, Validation MAE: 0.7382\n"
     ]
    },
    {
     "name": "stderr",
     "output_type": "stream",
     "text": [
      "Training Epoch 682: 100%|██████████| 373/373 [00:02<00:00, 155.76it/s]\n",
      "Training Epoch 683: 100%|██████████| 373/373 [00:02<00:00, 155.71it/s]\n",
      "Training Epoch 684: 100%|██████████| 373/373 [00:02<00:00, 162.11it/s]\n",
      "Training Epoch 685: 100%|██████████| 373/373 [00:02<00:00, 153.56it/s]\n",
      "Training Epoch 686: 100%|██████████| 373/373 [00:02<00:00, 153.61it/s]\n",
      "Training Epoch 687: 100%|██████████| 373/373 [00:02<00:00, 158.25it/s]\n",
      "Training Epoch 688: 100%|██████████| 373/373 [00:02<00:00, 156.57it/s]\n",
      "Training Epoch 689: 100%|██████████| 373/373 [00:02<00:00, 159.18it/s]\n",
      "Training Epoch 690: 100%|██████████| 373/373 [00:02<00:00, 151.67it/s]\n",
      "Training Epoch 691: 100%|██████████| 373/373 [00:02<00:00, 157.31it/s]\n"
     ]
    },
    {
     "name": "stdout",
     "output_type": "stream",
     "text": [
      "Epoch 690 - Train Loss: 0.4254, Train MSE: 0.4262, Train MAE: 0.4347\n",
      "Epoch 690 - Validation Loss: 1.2104, Validation MSE: 1.2125, Validation MAE: 0.7487\n"
     ]
    },
    {
     "name": "stderr",
     "output_type": "stream",
     "text": [
      "Training Epoch 692: 100%|██████████| 373/373 [00:02<00:00, 153.69it/s]\n",
      "Training Epoch 693: 100%|██████████| 373/373 [00:02<00:00, 158.56it/s]\n",
      "Training Epoch 694: 100%|██████████| 373/373 [00:02<00:00, 161.86it/s]\n",
      "Training Epoch 695: 100%|██████████| 373/373 [00:02<00:00, 156.32it/s]\n",
      "Training Epoch 696: 100%|██████████| 373/373 [00:02<00:00, 158.77it/s]\n",
      "Training Epoch 697: 100%|██████████| 373/373 [00:02<00:00, 156.36it/s]\n",
      "Training Epoch 698: 100%|██████████| 373/373 [00:02<00:00, 154.88it/s]\n",
      "Training Epoch 699: 100%|██████████| 373/373 [00:02<00:00, 153.50it/s]\n",
      "Training Epoch 700: 100%|██████████| 373/373 [00:02<00:00, 157.86it/s]\n",
      "Training Epoch 701: 100%|██████████| 373/373 [00:02<00:00, 157.81it/s]\n"
     ]
    },
    {
     "name": "stdout",
     "output_type": "stream",
     "text": [
      "Epoch 700 - Train Loss: 0.4292, Train MSE: 0.4297, Train MAE: 0.4366\n",
      "Epoch 700 - Validation Loss: 1.1883, Validation MSE: 1.1904, Validation MAE: 0.7398\n"
     ]
    },
    {
     "name": "stderr",
     "output_type": "stream",
     "text": [
      "Training Epoch 702: 100%|██████████| 373/373 [00:02<00:00, 156.35it/s]\n",
      "Training Epoch 703: 100%|██████████| 373/373 [00:02<00:00, 152.90it/s]\n",
      "Training Epoch 704: 100%|██████████| 373/373 [00:02<00:00, 152.71it/s]\n",
      "Training Epoch 705: 100%|██████████| 373/373 [00:02<00:00, 158.06it/s]\n",
      "Training Epoch 706: 100%|██████████| 373/373 [00:02<00:00, 155.75it/s]\n",
      "Training Epoch 707: 100%|██████████| 373/373 [00:02<00:00, 155.47it/s]\n",
      "Training Epoch 708: 100%|██████████| 373/373 [00:02<00:00, 158.73it/s]\n",
      "Training Epoch 709: 100%|██████████| 373/373 [00:02<00:00, 154.22it/s]\n",
      "Training Epoch 710: 100%|██████████| 373/373 [00:02<00:00, 151.48it/s]\n",
      "Training Epoch 711: 100%|██████████| 373/373 [00:02<00:00, 160.12it/s]\n"
     ]
    },
    {
     "name": "stdout",
     "output_type": "stream",
     "text": [
      "Epoch 710 - Train Loss: 0.4266, Train MSE: 0.4275, Train MAE: 0.4317\n",
      "Epoch 710 - Validation Loss: 1.1845, Validation MSE: 1.1868, Validation MAE: 0.7340\n"
     ]
    },
    {
     "name": "stderr",
     "output_type": "stream",
     "text": [
      "Training Epoch 712: 100%|██████████| 373/373 [00:02<00:00, 157.21it/s]\n",
      "Training Epoch 713: 100%|██████████| 373/373 [00:02<00:00, 154.66it/s]\n",
      "Training Epoch 714: 100%|██████████| 373/373 [00:02<00:00, 153.33it/s]\n",
      "Training Epoch 715: 100%|██████████| 373/373 [00:02<00:00, 162.51it/s]\n",
      "Training Epoch 716: 100%|██████████| 373/373 [00:02<00:00, 151.11it/s]\n",
      "Training Epoch 717: 100%|██████████| 373/373 [00:02<00:00, 158.28it/s]\n",
      "Training Epoch 718: 100%|██████████| 373/373 [00:02<00:00, 158.11it/s]\n",
      "Training Epoch 719: 100%|██████████| 373/373 [00:02<00:00, 154.43it/s]\n",
      "Training Epoch 720: 100%|██████████| 373/373 [00:02<00:00, 157.60it/s]\n",
      "Training Epoch 721: 100%|██████████| 373/373 [00:02<00:00, 158.12it/s]\n"
     ]
    },
    {
     "name": "stdout",
     "output_type": "stream",
     "text": [
      "Epoch 720 - Train Loss: 0.4207, Train MSE: 0.4211, Train MAE: 0.4298\n",
      "Epoch 720 - Validation Loss: 1.2006, Validation MSE: 1.2026, Validation MAE: 0.7466\n"
     ]
    },
    {
     "name": "stderr",
     "output_type": "stream",
     "text": [
      "Training Epoch 722: 100%|██████████| 373/373 [00:02<00:00, 156.27it/s]\n",
      "Training Epoch 723: 100%|██████████| 373/373 [00:02<00:00, 154.53it/s]\n",
      "Training Epoch 724: 100%|██████████| 373/373 [00:02<00:00, 152.34it/s]\n",
      "Training Epoch 725: 100%|██████████| 373/373 [00:02<00:00, 159.80it/s]\n",
      "Training Epoch 726: 100%|██████████| 373/373 [00:02<00:00, 153.67it/s]\n",
      "Training Epoch 727: 100%|██████████| 373/373 [00:02<00:00, 155.26it/s]\n",
      "Training Epoch 728: 100%|██████████| 373/373 [00:02<00:00, 157.89it/s]\n",
      "Training Epoch 729: 100%|██████████| 373/373 [00:02<00:00, 153.36it/s]\n",
      "Training Epoch 730: 100%|██████████| 373/373 [00:02<00:00, 154.58it/s]\n",
      "Training Epoch 731: 100%|██████████| 373/373 [00:02<00:00, 156.40it/s]\n"
     ]
    },
    {
     "name": "stdout",
     "output_type": "stream",
     "text": [
      "Epoch 730 - Train Loss: 0.4166, Train MSE: 0.4166, Train MAE: 0.4303\n",
      "Epoch 730 - Validation Loss: 1.2034, Validation MSE: 1.2055, Validation MAE: 0.7406\n"
     ]
    },
    {
     "name": "stderr",
     "output_type": "stream",
     "text": [
      "Training Epoch 732: 100%|██████████| 373/373 [00:02<00:00, 156.09it/s]\n",
      "Training Epoch 733: 100%|██████████| 373/373 [00:02<00:00, 161.70it/s]\n",
      "Training Epoch 734: 100%|██████████| 373/373 [00:02<00:00, 154.28it/s]\n",
      "Training Epoch 735: 100%|██████████| 373/373 [00:02<00:00, 150.74it/s]\n",
      "Training Epoch 736: 100%|██████████| 373/373 [00:02<00:00, 157.57it/s]\n",
      "Training Epoch 737: 100%|██████████| 373/373 [00:02<00:00, 155.02it/s]\n",
      "Training Epoch 738: 100%|██████████| 373/373 [00:02<00:00, 155.17it/s]\n",
      "Training Epoch 739: 100%|██████████| 373/373 [00:02<00:00, 158.42it/s]\n",
      "Training Epoch 740: 100%|██████████| 373/373 [00:02<00:00, 157.49it/s]\n",
      "Training Epoch 741: 100%|██████████| 373/373 [00:02<00:00, 150.88it/s]\n"
     ]
    },
    {
     "name": "stdout",
     "output_type": "stream",
     "text": [
      "Epoch 740 - Train Loss: 0.4259, Train MSE: 0.4248, Train MAE: 0.4345\n",
      "Epoch 740 - Validation Loss: 1.2108, Validation MSE: 1.2130, Validation MAE: 0.7507\n"
     ]
    },
    {
     "name": "stderr",
     "output_type": "stream",
     "text": [
      "Training Epoch 742: 100%|██████████| 373/373 [00:02<00:00, 154.70it/s]\n",
      "Training Epoch 743: 100%|██████████| 373/373 [00:02<00:00, 157.06it/s]\n",
      "Training Epoch 744: 100%|██████████| 373/373 [00:02<00:00, 158.98it/s]\n",
      "Training Epoch 745: 100%|██████████| 373/373 [00:02<00:00, 153.25it/s]\n",
      "Training Epoch 746: 100%|██████████| 373/373 [00:02<00:00, 156.09it/s]\n",
      "Training Epoch 747: 100%|██████████| 373/373 [00:02<00:00, 158.32it/s]\n",
      "Training Epoch 748: 100%|██████████| 373/373 [00:02<00:00, 159.35it/s]\n",
      "Training Epoch 749: 100%|██████████| 373/373 [00:02<00:00, 157.36it/s]\n",
      "Training Epoch 750: 100%|██████████| 373/373 [00:02<00:00, 162.82it/s]\n",
      "Training Epoch 751: 100%|██████████| 373/373 [00:02<00:00, 151.53it/s]\n"
     ]
    },
    {
     "name": "stdout",
     "output_type": "stream",
     "text": [
      "Epoch 750 - Train Loss: 0.4240, Train MSE: 0.4235, Train MAE: 0.4326\n",
      "Epoch 750 - Validation Loss: 1.2100, Validation MSE: 1.2125, Validation MAE: 0.7465\n"
     ]
    },
    {
     "name": "stderr",
     "output_type": "stream",
     "text": [
      "Training Epoch 752: 100%|██████████| 373/373 [00:02<00:00, 153.44it/s]\n",
      "Training Epoch 753: 100%|██████████| 373/373 [00:02<00:00, 156.74it/s]\n",
      "Training Epoch 754: 100%|██████████| 373/373 [00:02<00:00, 155.12it/s]\n",
      "Training Epoch 755: 100%|██████████| 373/373 [00:02<00:00, 159.76it/s]\n",
      "Training Epoch 756: 100%|██████████| 373/373 [00:02<00:00, 155.96it/s]\n",
      "Training Epoch 757: 100%|██████████| 373/373 [00:02<00:00, 158.82it/s]\n",
      "Training Epoch 758: 100%|██████████| 373/373 [00:02<00:00, 155.81it/s]\n",
      "Training Epoch 759: 100%|██████████| 373/373 [00:02<00:00, 156.41it/s]\n",
      "Training Epoch 760: 100%|██████████| 373/373 [00:02<00:00, 153.08it/s]\n",
      "Training Epoch 761: 100%|██████████| 373/373 [00:02<00:00, 159.01it/s]\n"
     ]
    },
    {
     "name": "stdout",
     "output_type": "stream",
     "text": [
      "Epoch 760 - Train Loss: 0.4152, Train MSE: 0.4158, Train MAE: 0.4253\n",
      "Epoch 760 - Validation Loss: 1.2025, Validation MSE: 1.2044, Validation MAE: 0.7475\n"
     ]
    },
    {
     "name": "stderr",
     "output_type": "stream",
     "text": [
      "Training Epoch 762: 100%|██████████| 373/373 [00:02<00:00, 156.18it/s]\n",
      "Training Epoch 763: 100%|██████████| 373/373 [00:02<00:00, 155.45it/s]\n",
      "Training Epoch 764: 100%|██████████| 373/373 [00:02<00:00, 158.50it/s]\n",
      "Training Epoch 765: 100%|██████████| 373/373 [00:02<00:00, 154.49it/s]\n",
      "Training Epoch 766: 100%|██████████| 373/373 [00:02<00:00, 152.84it/s]\n",
      "Training Epoch 767: 100%|██████████| 373/373 [00:02<00:00, 156.10it/s]\n",
      "Training Epoch 768: 100%|██████████| 373/373 [00:02<00:00, 158.32it/s]\n",
      "Training Epoch 769: 100%|██████████| 373/373 [00:02<00:00, 156.93it/s]\n",
      "Training Epoch 770: 100%|██████████| 373/373 [00:02<00:00, 155.36it/s]\n",
      "Training Epoch 771: 100%|██████████| 373/373 [00:02<00:00, 157.08it/s]\n"
     ]
    },
    {
     "name": "stdout",
     "output_type": "stream",
     "text": [
      "Epoch 770 - Train Loss: 0.4119, Train MSE: 0.4128, Train MAE: 0.4263\n",
      "Epoch 770 - Validation Loss: 1.2022, Validation MSE: 1.2039, Validation MAE: 0.7437\n"
     ]
    },
    {
     "name": "stderr",
     "output_type": "stream",
     "text": [
      "Training Epoch 772: 100%|██████████| 373/373 [00:02<00:00, 154.69it/s]\n",
      "Training Epoch 773: 100%|██████████| 373/373 [00:02<00:00, 156.09it/s]\n",
      "Training Epoch 774: 100%|██████████| 373/373 [00:02<00:00, 154.57it/s]\n",
      "Training Epoch 775: 100%|██████████| 373/373 [00:02<00:00, 160.41it/s]\n",
      "Training Epoch 776: 100%|██████████| 373/373 [00:02<00:00, 153.92it/s]\n",
      "Training Epoch 777: 100%|██████████| 373/373 [00:02<00:00, 155.50it/s]\n",
      "Training Epoch 778: 100%|██████████| 373/373 [00:02<00:00, 160.21it/s]\n",
      "Training Epoch 779: 100%|██████████| 373/373 [00:02<00:00, 150.94it/s]\n",
      "Training Epoch 780: 100%|██████████| 373/373 [00:02<00:00, 157.06it/s]\n",
      "Training Epoch 781: 100%|██████████| 373/373 [00:02<00:00, 156.16it/s]\n"
     ]
    },
    {
     "name": "stdout",
     "output_type": "stream",
     "text": [
      "Epoch 780 - Train Loss: 0.4225, Train MSE: 0.4224, Train MAE: 0.4317\n",
      "Epoch 780 - Validation Loss: 1.2001, Validation MSE: 1.2020, Validation MAE: 0.7455\n"
     ]
    },
    {
     "name": "stderr",
     "output_type": "stream",
     "text": [
      "Training Epoch 782: 100%|██████████| 373/373 [00:02<00:00, 159.64it/s]\n",
      "Training Epoch 783: 100%|██████████| 373/373 [00:02<00:00, 157.31it/s]\n",
      "Training Epoch 784: 100%|██████████| 373/373 [00:02<00:00, 154.54it/s]\n",
      "Training Epoch 785: 100%|██████████| 373/373 [00:02<00:00, 149.93it/s]\n",
      "Training Epoch 786: 100%|██████████| 373/373 [00:02<00:00, 157.61it/s]\n",
      "Training Epoch 787: 100%|██████████| 373/373 [00:02<00:00, 155.27it/s]\n",
      "Training Epoch 788: 100%|██████████| 373/373 [00:02<00:00, 157.50it/s]\n",
      "Training Epoch 789: 100%|██████████| 373/373 [00:02<00:00, 162.60it/s]\n",
      "Training Epoch 790: 100%|██████████| 373/373 [00:02<00:00, 155.96it/s]\n",
      "Training Epoch 791: 100%|██████████| 373/373 [00:02<00:00, 152.52it/s]\n"
     ]
    },
    {
     "name": "stdout",
     "output_type": "stream",
     "text": [
      "Epoch 790 - Train Loss: 0.4097, Train MSE: 0.4065, Train MAE: 0.4227\n",
      "Epoch 790 - Validation Loss: 1.2166, Validation MSE: 1.2186, Validation MAE: 0.7436\n"
     ]
    },
    {
     "name": "stderr",
     "output_type": "stream",
     "text": [
      "Training Epoch 792: 100%|██████████| 373/373 [00:02<00:00, 156.86it/s]\n",
      "Training Epoch 793: 100%|██████████| 373/373 [00:02<00:00, 161.19it/s]\n",
      "Training Epoch 794: 100%|██████████| 373/373 [00:02<00:00, 161.47it/s]\n",
      "Training Epoch 795: 100%|██████████| 373/373 [00:02<00:00, 161.62it/s]\n",
      "Training Epoch 796: 100%|██████████| 373/373 [00:02<00:00, 158.38it/s]\n",
      "Training Epoch 797: 100%|██████████| 373/373 [00:02<00:00, 154.19it/s]\n",
      "Training Epoch 798: 100%|██████████| 373/373 [00:02<00:00, 153.41it/s]\n",
      "Training Epoch 799: 100%|██████████| 373/373 [00:02<00:00, 160.52it/s]\n",
      "Training Epoch 800: 100%|██████████| 373/373 [00:02<00:00, 157.73it/s]\n",
      "Training Epoch 801: 100%|██████████| 373/373 [00:02<00:00, 155.06it/s]\n"
     ]
    },
    {
     "name": "stdout",
     "output_type": "stream",
     "text": [
      "Epoch 800 - Train Loss: 0.4063, Train MSE: 0.4072, Train MAE: 0.4209\n",
      "Epoch 800 - Validation Loss: 1.1884, Validation MSE: 1.1902, Validation MAE: 0.7370\n"
     ]
    },
    {
     "name": "stderr",
     "output_type": "stream",
     "text": [
      "Training Epoch 802: 100%|██████████| 373/373 [00:02<00:00, 155.89it/s]\n",
      "Training Epoch 803: 100%|██████████| 373/373 [00:02<00:00, 156.98it/s]\n",
      "Training Epoch 804: 100%|██████████| 373/373 [00:02<00:00, 152.57it/s]\n",
      "Training Epoch 805: 100%|██████████| 373/373 [00:02<00:00, 157.93it/s]\n",
      "Training Epoch 806: 100%|██████████| 373/373 [00:02<00:00, 159.13it/s]\n",
      "Training Epoch 807: 100%|██████████| 373/373 [00:02<00:00, 156.00it/s]\n",
      "Training Epoch 808: 100%|██████████| 373/373 [00:02<00:00, 153.35it/s]\n",
      "Training Epoch 809: 100%|██████████| 373/373 [00:02<00:00, 155.20it/s]\n",
      "Training Epoch 810: 100%|██████████| 373/373 [00:02<00:00, 157.14it/s]\n",
      "Training Epoch 811: 100%|██████████| 373/373 [00:02<00:00, 156.43it/s]\n"
     ]
    },
    {
     "name": "stdout",
     "output_type": "stream",
     "text": [
      "Epoch 810 - Train Loss: 0.4089, Train MSE: 0.4097, Train MAE: 0.4230\n",
      "Epoch 810 - Validation Loss: 1.1861, Validation MSE: 1.1881, Validation MAE: 0.7388\n"
     ]
    },
    {
     "name": "stderr",
     "output_type": "stream",
     "text": [
      "Training Epoch 812: 100%|██████████| 373/373 [00:02<00:00, 156.58it/s]\n",
      "Training Epoch 813: 100%|██████████| 373/373 [00:02<00:00, 154.46it/s]\n",
      "Training Epoch 814: 100%|██████████| 373/373 [00:02<00:00, 156.46it/s]\n",
      "Training Epoch 815: 100%|██████████| 373/373 [00:02<00:00, 159.05it/s]\n",
      "Training Epoch 816: 100%|██████████| 373/373 [00:02<00:00, 154.43it/s]\n",
      "Training Epoch 817: 100%|██████████| 373/373 [00:02<00:00, 162.48it/s]\n",
      "Training Epoch 818: 100%|██████████| 373/373 [00:02<00:00, 156.99it/s]\n",
      "Training Epoch 819: 100%|██████████| 373/373 [00:02<00:00, 154.44it/s]\n",
      "Training Epoch 820: 100%|██████████| 373/373 [00:02<00:00, 159.23it/s]\n",
      "Training Epoch 821: 100%|██████████| 373/373 [00:02<00:00, 160.63it/s]\n"
     ]
    },
    {
     "name": "stdout",
     "output_type": "stream",
     "text": [
      "Epoch 820 - Train Loss: 0.4135, Train MSE: 0.4100, Train MAE: 0.4257\n",
      "Epoch 820 - Validation Loss: 1.2073, Validation MSE: 1.2093, Validation MAE: 0.7471\n"
     ]
    },
    {
     "name": "stderr",
     "output_type": "stream",
     "text": [
      "Training Epoch 822: 100%|██████████| 373/373 [00:02<00:00, 155.79it/s]\n",
      "Training Epoch 823: 100%|██████████| 373/373 [00:02<00:00, 157.05it/s]\n",
      "Training Epoch 824: 100%|██████████| 373/373 [00:02<00:00, 158.50it/s]\n",
      "Training Epoch 825: 100%|██████████| 373/373 [00:02<00:00, 158.69it/s]\n",
      "Training Epoch 826: 100%|██████████| 373/373 [00:02<00:00, 157.67it/s]\n",
      "Training Epoch 827: 100%|██████████| 373/373 [00:02<00:00, 162.80it/s]\n",
      "Training Epoch 828: 100%|██████████| 373/373 [00:02<00:00, 156.99it/s]\n",
      "Training Epoch 829: 100%|██████████| 373/373 [00:02<00:00, 151.56it/s]\n",
      "Training Epoch 830: 100%|██████████| 373/373 [00:02<00:00, 157.10it/s]\n",
      "Training Epoch 831: 100%|██████████| 373/373 [00:02<00:00, 157.92it/s]\n"
     ]
    },
    {
     "name": "stdout",
     "output_type": "stream",
     "text": [
      "Epoch 830 - Train Loss: 0.4139, Train MSE: 0.4148, Train MAE: 0.4251\n",
      "Epoch 830 - Validation Loss: 1.2205, Validation MSE: 1.2227, Validation MAE: 0.7495\n"
     ]
    },
    {
     "name": "stderr",
     "output_type": "stream",
     "text": [
      "Training Epoch 832: 100%|██████████| 373/373 [00:02<00:00, 156.90it/s]\n",
      "Training Epoch 833: 100%|██████████| 373/373 [00:02<00:00, 155.78it/s]\n",
      "Training Epoch 834: 100%|██████████| 373/373 [00:02<00:00, 153.52it/s]\n",
      "Training Epoch 835: 100%|██████████| 373/373 [00:02<00:00, 154.67it/s]\n",
      "Training Epoch 836: 100%|██████████| 373/373 [00:02<00:00, 156.47it/s]\n",
      "Training Epoch 837: 100%|██████████| 373/373 [00:02<00:00, 151.52it/s]\n",
      "Training Epoch 838: 100%|██████████| 373/373 [00:02<00:00, 159.01it/s]\n",
      "Training Epoch 839: 100%|██████████| 373/373 [00:02<00:00, 155.89it/s]\n",
      "Training Epoch 840: 100%|██████████| 373/373 [00:02<00:00, 155.83it/s]\n",
      "Training Epoch 841: 100%|██████████| 373/373 [00:02<00:00, 142.37it/s]\n"
     ]
    },
    {
     "name": "stdout",
     "output_type": "stream",
     "text": [
      "Epoch 840 - Train Loss: 0.4084, Train MSE: 0.4081, Train MAE: 0.4221\n",
      "Epoch 840 - Validation Loss: 1.1928, Validation MSE: 1.1947, Validation MAE: 0.7395\n"
     ]
    },
    {
     "name": "stderr",
     "output_type": "stream",
     "text": [
      "Training Epoch 842: 100%|██████████| 373/373 [00:02<00:00, 158.75it/s]\n",
      "Training Epoch 843: 100%|██████████| 373/373 [00:02<00:00, 156.07it/s]\n",
      "Training Epoch 844: 100%|██████████| 373/373 [00:02<00:00, 155.63it/s]\n",
      "Training Epoch 845: 100%|██████████| 373/373 [00:02<00:00, 158.73it/s]\n",
      "Training Epoch 846: 100%|██████████| 373/373 [00:02<00:00, 157.92it/s]\n",
      "Training Epoch 847: 100%|██████████| 373/373 [00:02<00:00, 154.82it/s]\n",
      "Training Epoch 848: 100%|██████████| 373/373 [00:02<00:00, 156.20it/s]\n",
      "Training Epoch 849: 100%|██████████| 373/373 [00:02<00:00, 160.09it/s]\n",
      "Training Epoch 850: 100%|██████████| 373/373 [00:02<00:00, 157.37it/s]\n",
      "Training Epoch 851: 100%|██████████| 373/373 [00:02<00:00, 156.47it/s]\n"
     ]
    },
    {
     "name": "stdout",
     "output_type": "stream",
     "text": [
      "Epoch 850 - Train Loss: 0.4015, Train MSE: 0.4023, Train MAE: 0.4184\n",
      "Epoch 850 - Validation Loss: 1.2117, Validation MSE: 1.2135, Validation MAE: 0.7446\n"
     ]
    },
    {
     "name": "stderr",
     "output_type": "stream",
     "text": [
      "Training Epoch 852: 100%|██████████| 373/373 [00:02<00:00, 159.88it/s]\n",
      "Training Epoch 853: 100%|██████████| 373/373 [00:02<00:00, 159.09it/s]\n",
      "Training Epoch 854: 100%|██████████| 373/373 [00:02<00:00, 152.68it/s]\n",
      "Training Epoch 855: 100%|██████████| 373/373 [00:02<00:00, 155.77it/s]\n",
      "Training Epoch 856: 100%|██████████| 373/373 [00:02<00:00, 157.50it/s]\n",
      "Training Epoch 857: 100%|██████████| 373/373 [00:02<00:00, 157.29it/s]\n",
      "Training Epoch 858: 100%|██████████| 373/373 [00:02<00:00, 154.28it/s]\n",
      "Training Epoch 859: 100%|██████████| 373/373 [00:02<00:00, 156.01it/s]\n",
      "Training Epoch 860: 100%|██████████| 373/373 [00:02<00:00, 154.45it/s]\n",
      "Training Epoch 861: 100%|██████████| 373/373 [00:02<00:00, 158.22it/s]\n"
     ]
    },
    {
     "name": "stdout",
     "output_type": "stream",
     "text": [
      "Epoch 860 - Train Loss: 0.4087, Train MSE: 0.4095, Train MAE: 0.4222\n",
      "Epoch 860 - Validation Loss: 1.1787, Validation MSE: 1.1807, Validation MAE: 0.7313\n"
     ]
    },
    {
     "name": "stderr",
     "output_type": "stream",
     "text": [
      "Training Epoch 862: 100%|██████████| 373/373 [00:02<00:00, 156.10it/s]\n",
      "Training Epoch 863: 100%|██████████| 373/373 [00:02<00:00, 154.75it/s]\n",
      "Training Epoch 864: 100%|██████████| 373/373 [00:02<00:00, 160.76it/s]\n",
      "Training Epoch 865: 100%|██████████| 373/373 [00:02<00:00, 154.68it/s]\n",
      "Training Epoch 866: 100%|██████████| 373/373 [00:02<00:00, 150.47it/s]\n",
      "Training Epoch 867: 100%|██████████| 373/373 [00:02<00:00, 158.09it/s]\n",
      "Training Epoch 868: 100%|██████████| 373/373 [00:02<00:00, 165.03it/s]\n",
      "Training Epoch 869: 100%|██████████| 373/373 [00:02<00:00, 158.33it/s]\n",
      "Training Epoch 870: 100%|██████████| 373/373 [00:02<00:00, 153.91it/s]\n",
      "Training Epoch 871: 100%|██████████| 373/373 [00:02<00:00, 154.03it/s]\n"
     ]
    },
    {
     "name": "stdout",
     "output_type": "stream",
     "text": [
      "Epoch 870 - Train Loss: 0.4099, Train MSE: 0.4098, Train MAE: 0.4204\n",
      "Epoch 870 - Validation Loss: 1.1899, Validation MSE: 1.1917, Validation MAE: 0.7376\n"
     ]
    },
    {
     "name": "stderr",
     "output_type": "stream",
     "text": [
      "Training Epoch 872: 100%|██████████| 373/373 [00:02<00:00, 155.49it/s]\n",
      "Training Epoch 873: 100%|██████████| 373/373 [00:02<00:00, 155.37it/s]\n",
      "Training Epoch 874: 100%|██████████| 373/373 [00:02<00:00, 154.83it/s]\n",
      "Training Epoch 875: 100%|██████████| 373/373 [00:02<00:00, 159.63it/s]\n",
      "Training Epoch 876: 100%|██████████| 373/373 [00:02<00:00, 151.14it/s]\n",
      "Training Epoch 877: 100%|██████████| 373/373 [00:02<00:00, 143.14it/s]\n",
      "Training Epoch 878: 100%|██████████| 373/373 [00:02<00:00, 147.22it/s]\n",
      "Training Epoch 879: 100%|██████████| 373/373 [00:02<00:00, 144.80it/s]\n",
      "Training Epoch 880: 100%|██████████| 373/373 [00:02<00:00, 155.04it/s]\n",
      "Training Epoch 881: 100%|██████████| 373/373 [00:02<00:00, 146.55it/s]\n"
     ]
    },
    {
     "name": "stdout",
     "output_type": "stream",
     "text": [
      "Epoch 880 - Train Loss: 0.4048, Train MSE: 0.4055, Train MAE: 0.4199\n",
      "Epoch 880 - Validation Loss: 1.1959, Validation MSE: 1.1978, Validation MAE: 0.7367\n"
     ]
    },
    {
     "name": "stderr",
     "output_type": "stream",
     "text": [
      "Training Epoch 882: 100%|██████████| 373/373 [00:02<00:00, 153.59it/s]\n",
      "Training Epoch 883: 100%|██████████| 373/373 [00:02<00:00, 154.70it/s]\n",
      "Training Epoch 884: 100%|██████████| 373/373 [00:02<00:00, 148.56it/s]\n",
      "Training Epoch 885: 100%|██████████| 373/373 [00:02<00:00, 136.05it/s]\n",
      "Training Epoch 886: 100%|██████████| 373/373 [00:02<00:00, 148.05it/s]\n",
      "Training Epoch 887: 100%|██████████| 373/373 [00:02<00:00, 146.18it/s]\n",
      "Training Epoch 888: 100%|██████████| 373/373 [00:02<00:00, 134.71it/s]\n",
      "Training Epoch 889: 100%|██████████| 373/373 [00:02<00:00, 156.96it/s]\n",
      "Training Epoch 890: 100%|██████████| 373/373 [00:02<00:00, 152.84it/s]\n",
      "Training Epoch 891: 100%|██████████| 373/373 [00:02<00:00, 156.96it/s]\n"
     ]
    },
    {
     "name": "stdout",
     "output_type": "stream",
     "text": [
      "Epoch 890 - Train Loss: 0.4060, Train MSE: 0.4069, Train MAE: 0.4207\n",
      "Epoch 890 - Validation Loss: 1.1934, Validation MSE: 1.1954, Validation MAE: 0.7388\n"
     ]
    },
    {
     "name": "stderr",
     "output_type": "stream",
     "text": [
      "Training Epoch 892: 100%|██████████| 373/373 [00:02<00:00, 160.18it/s]\n",
      "Training Epoch 893: 100%|██████████| 373/373 [00:02<00:00, 158.75it/s]\n",
      "Training Epoch 894: 100%|██████████| 373/373 [00:02<00:00, 155.92it/s]\n",
      "Training Epoch 895: 100%|██████████| 373/373 [00:02<00:00, 157.52it/s]\n",
      "Training Epoch 896: 100%|██████████| 373/373 [00:02<00:00, 159.96it/s]\n",
      "Training Epoch 897: 100%|██████████| 373/373 [00:02<00:00, 151.63it/s]\n",
      "Training Epoch 898: 100%|██████████| 373/373 [00:02<00:00, 157.13it/s]\n",
      "Training Epoch 899: 100%|██████████| 373/373 [00:02<00:00, 157.94it/s]\n",
      "Training Epoch 900: 100%|██████████| 373/373 [00:02<00:00, 152.42it/s]\n",
      "Training Epoch 901: 100%|██████████| 373/373 [00:02<00:00, 155.67it/s]\n"
     ]
    },
    {
     "name": "stdout",
     "output_type": "stream",
     "text": [
      "Epoch 900 - Train Loss: 0.3968, Train MSE: 0.3974, Train MAE: 0.4178\n",
      "Epoch 900 - Validation Loss: 1.1866, Validation MSE: 1.1885, Validation MAE: 0.7393\n"
     ]
    },
    {
     "name": "stderr",
     "output_type": "stream",
     "text": [
      "Training Epoch 902: 100%|██████████| 373/373 [00:02<00:00, 154.56it/s]\n",
      "Training Epoch 903: 100%|██████████| 373/373 [00:02<00:00, 155.84it/s]\n",
      "Training Epoch 904: 100%|██████████| 373/373 [00:02<00:00, 156.47it/s]\n",
      "Training Epoch 905: 100%|██████████| 373/373 [00:02<00:00, 156.60it/s]\n",
      "Training Epoch 906: 100%|██████████| 373/373 [00:02<00:00, 156.82it/s]\n",
      "Training Epoch 907: 100%|██████████| 373/373 [00:02<00:00, 160.33it/s]\n",
      "Training Epoch 908: 100%|██████████| 373/373 [00:02<00:00, 153.97it/s]\n",
      "Training Epoch 909: 100%|██████████| 373/373 [00:02<00:00, 152.06it/s]\n",
      "Training Epoch 910: 100%|██████████| 373/373 [00:02<00:00, 157.88it/s]\n",
      "Training Epoch 911: 100%|██████████| 373/373 [00:02<00:00, 156.28it/s]\n"
     ]
    },
    {
     "name": "stdout",
     "output_type": "stream",
     "text": [
      "Epoch 910 - Train Loss: 0.3990, Train MSE: 0.3996, Train MAE: 0.4182\n",
      "Epoch 910 - Validation Loss: 1.1908, Validation MSE: 1.1928, Validation MAE: 0.7351\n"
     ]
    },
    {
     "name": "stderr",
     "output_type": "stream",
     "text": [
      "Training Epoch 912: 100%|██████████| 373/373 [00:02<00:00, 154.64it/s]\n",
      "Training Epoch 913: 100%|██████████| 373/373 [00:02<00:00, 154.88it/s]\n",
      "Training Epoch 914: 100%|██████████| 373/373 [00:02<00:00, 162.54it/s]\n",
      "Training Epoch 915: 100%|██████████| 373/373 [00:02<00:00, 151.59it/s]\n",
      "Training Epoch 916: 100%|██████████| 373/373 [00:02<00:00, 158.82it/s]\n",
      "Training Epoch 917: 100%|██████████| 373/373 [00:02<00:00, 165.10it/s]\n",
      "Training Epoch 918: 100%|██████████| 373/373 [00:02<00:00, 154.27it/s]\n",
      "Training Epoch 919: 100%|██████████| 373/373 [00:02<00:00, 153.69it/s]\n",
      "Training Epoch 920: 100%|██████████| 373/373 [00:02<00:00, 158.93it/s]\n",
      "Training Epoch 921: 100%|██████████| 373/373 [00:02<00:00, 155.63it/s]\n"
     ]
    },
    {
     "name": "stdout",
     "output_type": "stream",
     "text": [
      "Epoch 920 - Train Loss: 0.4067, Train MSE: 0.4060, Train MAE: 0.4202\n",
      "Epoch 920 - Validation Loss: 1.2130, Validation MSE: 1.2152, Validation MAE: 0.7463\n"
     ]
    },
    {
     "name": "stderr",
     "output_type": "stream",
     "text": [
      "Training Epoch 922: 100%|██████████| 373/373 [00:02<00:00, 151.13it/s]\n",
      "Training Epoch 923: 100%|██████████| 373/373 [00:02<00:00, 157.50it/s]\n",
      "Training Epoch 924: 100%|██████████| 373/373 [00:02<00:00, 150.15it/s]\n",
      "Training Epoch 925: 100%|██████████| 373/373 [00:02<00:00, 153.62it/s]\n",
      "Training Epoch 926: 100%|██████████| 373/373 [00:02<00:00, 154.14it/s]\n",
      "Training Epoch 927: 100%|██████████| 373/373 [00:02<00:00, 158.19it/s]\n",
      "Training Epoch 928: 100%|██████████| 373/373 [00:02<00:00, 150.04it/s]\n",
      "Training Epoch 929: 100%|██████████| 373/373 [00:02<00:00, 155.37it/s]\n",
      "Training Epoch 930: 100%|██████████| 373/373 [00:02<00:00, 158.61it/s]\n",
      "Training Epoch 931: 100%|██████████| 373/373 [00:02<00:00, 159.32it/s]\n"
     ]
    },
    {
     "name": "stdout",
     "output_type": "stream",
     "text": [
      "Epoch 930 - Train Loss: 0.3999, Train MSE: 0.3909, Train MAE: 0.4146\n",
      "Epoch 930 - Validation Loss: 1.1852, Validation MSE: 1.1874, Validation MAE: 0.7376\n"
     ]
    },
    {
     "name": "stderr",
     "output_type": "stream",
     "text": [
      "Training Epoch 932: 100%|██████████| 373/373 [00:02<00:00, 152.12it/s]\n",
      "Training Epoch 933: 100%|██████████| 373/373 [00:02<00:00, 155.34it/s]\n",
      "Training Epoch 934: 100%|██████████| 373/373 [00:02<00:00, 152.36it/s]\n",
      "Training Epoch 935: 100%|██████████| 373/373 [00:02<00:00, 154.33it/s]\n",
      "Training Epoch 936: 100%|██████████| 373/373 [00:02<00:00, 154.91it/s]\n",
      "Training Epoch 937: 100%|██████████| 373/373 [00:02<00:00, 159.96it/s]\n",
      "Training Epoch 938: 100%|██████████| 373/373 [00:02<00:00, 161.30it/s]\n",
      "Training Epoch 939: 100%|██████████| 373/373 [00:02<00:00, 154.30it/s]\n",
      "Training Epoch 940: 100%|██████████| 373/373 [00:02<00:00, 150.65it/s]\n",
      "Training Epoch 941: 100%|██████████| 373/373 [00:02<00:00, 158.35it/s]\n"
     ]
    },
    {
     "name": "stdout",
     "output_type": "stream",
     "text": [
      "Epoch 940 - Train Loss: 0.3974, Train MSE: 0.3981, Train MAE: 0.4155\n",
      "Epoch 940 - Validation Loss: 1.1997, Validation MSE: 1.2016, Validation MAE: 0.7438\n"
     ]
    },
    {
     "name": "stderr",
     "output_type": "stream",
     "text": [
      "Training Epoch 942: 100%|██████████| 373/373 [00:02<00:00, 157.25it/s]\n",
      "Training Epoch 943: 100%|██████████| 373/373 [00:02<00:00, 154.79it/s]\n",
      "Training Epoch 944: 100%|██████████| 373/373 [00:02<00:00, 160.36it/s]\n",
      "Training Epoch 945: 100%|██████████| 373/373 [00:02<00:00, 159.61it/s]\n",
      "Training Epoch 946: 100%|██████████| 373/373 [00:02<00:00, 155.74it/s]\n",
      "Training Epoch 947: 100%|██████████| 373/373 [00:02<00:00, 157.49it/s]\n",
      "Training Epoch 948: 100%|██████████| 373/373 [00:02<00:00, 162.74it/s]\n",
      "Training Epoch 949: 100%|██████████| 373/373 [00:02<00:00, 158.98it/s]\n",
      "Training Epoch 950: 100%|██████████| 373/373 [00:02<00:00, 154.44it/s]\n",
      "Training Epoch 951: 100%|██████████| 373/373 [00:02<00:00, 155.51it/s]\n"
     ]
    },
    {
     "name": "stdout",
     "output_type": "stream",
     "text": [
      "Epoch 950 - Train Loss: 0.3983, Train MSE: 0.3990, Train MAE: 0.4172\n",
      "Epoch 950 - Validation Loss: 1.1827, Validation MSE: 1.1848, Validation MAE: 0.7407\n"
     ]
    },
    {
     "name": "stderr",
     "output_type": "stream",
     "text": [
      "Training Epoch 952: 100%|██████████| 373/373 [00:02<00:00, 152.22it/s]\n",
      "Training Epoch 953: 100%|██████████| 373/373 [00:02<00:00, 139.64it/s]\n",
      "Training Epoch 954: 100%|██████████| 373/373 [00:02<00:00, 144.90it/s]\n",
      "Training Epoch 955: 100%|██████████| 373/373 [00:02<00:00, 153.98it/s]\n",
      "Training Epoch 956: 100%|██████████| 373/373 [00:02<00:00, 155.24it/s]\n",
      "Training Epoch 957: 100%|██████████| 373/373 [00:02<00:00, 148.04it/s]\n",
      "Training Epoch 958: 100%|██████████| 373/373 [00:02<00:00, 147.22it/s]\n",
      "Training Epoch 959: 100%|██████████| 373/373 [00:02<00:00, 150.66it/s]\n",
      "Training Epoch 960: 100%|██████████| 373/373 [00:02<00:00, 145.14it/s]\n",
      "Training Epoch 961: 100%|██████████| 373/373 [00:02<00:00, 147.56it/s]\n"
     ]
    },
    {
     "name": "stdout",
     "output_type": "stream",
     "text": [
      "Epoch 960 - Train Loss: 0.3959, Train MSE: 0.3962, Train MAE: 0.4144\n",
      "Epoch 960 - Validation Loss: 1.1929, Validation MSE: 1.1952, Validation MAE: 0.7409\n"
     ]
    },
    {
     "name": "stderr",
     "output_type": "stream",
     "text": [
      "Training Epoch 962: 100%|██████████| 373/373 [00:02<00:00, 151.63it/s]\n",
      "Training Epoch 963: 100%|██████████| 373/373 [00:02<00:00, 149.77it/s]\n",
      "Training Epoch 964: 100%|██████████| 373/373 [00:02<00:00, 144.39it/s]\n",
      "Training Epoch 965: 100%|██████████| 373/373 [00:02<00:00, 146.78it/s]\n",
      "Training Epoch 966: 100%|██████████| 373/373 [00:02<00:00, 156.20it/s]\n",
      "Training Epoch 967: 100%|██████████| 373/373 [00:02<00:00, 155.08it/s]\n",
      "Training Epoch 968: 100%|██████████| 373/373 [00:02<00:00, 156.64it/s]\n",
      "Training Epoch 969: 100%|██████████| 373/373 [00:02<00:00, 146.68it/s]\n",
      "Training Epoch 970: 100%|██████████| 373/373 [00:02<00:00, 146.55it/s]\n",
      "Training Epoch 971: 100%|██████████| 373/373 [00:02<00:00, 146.29it/s]\n"
     ]
    },
    {
     "name": "stdout",
     "output_type": "stream",
     "text": [
      "Epoch 970 - Train Loss: 0.3959, Train MSE: 0.3942, Train MAE: 0.4133\n",
      "Epoch 970 - Validation Loss: 1.1990, Validation MSE: 1.2010, Validation MAE: 0.7405\n"
     ]
    },
    {
     "name": "stderr",
     "output_type": "stream",
     "text": [
      "Training Epoch 972: 100%|██████████| 373/373 [00:02<00:00, 151.51it/s]\n",
      "Training Epoch 973: 100%|██████████| 373/373 [00:02<00:00, 149.61it/s]\n",
      "Training Epoch 974: 100%|██████████| 373/373 [00:02<00:00, 155.84it/s]\n",
      "Training Epoch 975: 100%|██████████| 373/373 [00:02<00:00, 160.05it/s]\n",
      "Training Epoch 976: 100%|██████████| 373/373 [00:02<00:00, 152.75it/s]\n",
      "Training Epoch 977: 100%|██████████| 373/373 [00:02<00:00, 155.90it/s]\n",
      "Training Epoch 978: 100%|██████████| 373/373 [00:02<00:00, 156.90it/s]\n",
      "Training Epoch 979: 100%|██████████| 373/373 [00:02<00:00, 158.37it/s]\n",
      "Training Epoch 980: 100%|██████████| 373/373 [00:02<00:00, 155.54it/s]\n",
      "Training Epoch 981: 100%|██████████| 373/373 [00:02<00:00, 155.11it/s]\n"
     ]
    },
    {
     "name": "stdout",
     "output_type": "stream",
     "text": [
      "Epoch 980 - Train Loss: 0.3948, Train MSE: 0.3936, Train MAE: 0.4109\n",
      "Epoch 980 - Validation Loss: 1.2022, Validation MSE: 1.2041, Validation MAE: 0.7426\n"
     ]
    },
    {
     "name": "stderr",
     "output_type": "stream",
     "text": [
      "Training Epoch 982: 100%|██████████| 373/373 [00:02<00:00, 160.00it/s]\n",
      "Training Epoch 983: 100%|██████████| 373/373 [00:02<00:00, 155.22it/s]\n",
      "Training Epoch 984: 100%|██████████| 373/373 [00:02<00:00, 155.54it/s]\n",
      "Training Epoch 985: 100%|██████████| 373/373 [00:02<00:00, 158.02it/s]\n",
      "Training Epoch 986: 100%|██████████| 373/373 [00:02<00:00, 166.55it/s]\n",
      "Training Epoch 987: 100%|██████████| 373/373 [00:02<00:00, 171.44it/s]\n",
      "Training Epoch 988: 100%|██████████| 373/373 [00:02<00:00, 179.95it/s]\n",
      "Training Epoch 989: 100%|██████████| 373/373 [00:02<00:00, 171.66it/s]\n",
      "Training Epoch 990: 100%|██████████| 373/373 [00:02<00:00, 179.57it/s]\n",
      "Training Epoch 991: 100%|██████████| 373/373 [00:02<00:00, 174.61it/s]\n"
     ]
    },
    {
     "name": "stdout",
     "output_type": "stream",
     "text": [
      "Epoch 990 - Train Loss: 0.3926, Train MSE: 0.3909, Train MAE: 0.4114\n",
      "Epoch 990 - Validation Loss: 1.2048, Validation MSE: 1.2068, Validation MAE: 0.7395\n"
     ]
    },
    {
     "name": "stderr",
     "output_type": "stream",
     "text": [
      "Training Epoch 992: 100%|██████████| 373/373 [00:02<00:00, 179.64it/s]\n",
      "Training Epoch 993: 100%|██████████| 373/373 [00:02<00:00, 175.31it/s]\n",
      "Training Epoch 994: 100%|██████████| 373/373 [00:02<00:00, 179.39it/s]\n",
      "Training Epoch 995: 100%|██████████| 373/373 [00:02<00:00, 172.62it/s]\n",
      "Training Epoch 996: 100%|██████████| 373/373 [00:02<00:00, 176.28it/s]\n",
      "Training Epoch 997: 100%|██████████| 373/373 [00:02<00:00, 171.44it/s]\n",
      "Training Epoch 998: 100%|██████████| 373/373 [00:02<00:00, 176.97it/s]\n",
      "Training Epoch 999: 100%|██████████| 373/373 [00:02<00:00, 175.39it/s]\n",
      "Training Epoch 1000: 100%|██████████| 373/373 [00:02<00:00, 171.48it/s]\n",
      "Training Epoch 1001: 100%|██████████| 373/373 [00:02<00:00, 178.35it/s]\n"
     ]
    },
    {
     "name": "stdout",
     "output_type": "stream",
     "text": [
      "Epoch 1000 - Train Loss: 0.3883, Train MSE: 0.3891, Train MAE: 0.4106\n",
      "Epoch 1000 - Validation Loss: 1.2034, Validation MSE: 1.2053, Validation MAE: 0.7391\n"
     ]
    },
    {
     "name": "stderr",
     "output_type": "stream",
     "text": [
      "Training Epoch 1002: 100%|██████████| 373/373 [00:02<00:00, 170.71it/s]\n",
      "Training Epoch 1003: 100%|██████████| 373/373 [00:02<00:00, 172.22it/s]\n",
      "Training Epoch 1004: 100%|██████████| 373/373 [00:02<00:00, 173.64it/s]\n",
      "Training Epoch 1005: 100%|██████████| 373/373 [00:02<00:00, 180.42it/s]\n",
      "Training Epoch 1006: 100%|██████████| 373/373 [00:02<00:00, 174.46it/s]\n",
      "Training Epoch 1007: 100%|██████████| 373/373 [00:02<00:00, 175.46it/s]\n",
      "Training Epoch 1008: 100%|██████████| 373/373 [00:02<00:00, 174.63it/s]\n",
      "Training Epoch 1009: 100%|██████████| 373/373 [00:02<00:00, 178.21it/s]\n",
      "Training Epoch 1010: 100%|██████████| 373/373 [00:02<00:00, 170.45it/s]\n",
      "Training Epoch 1011: 100%|██████████| 373/373 [00:02<00:00, 179.13it/s]\n"
     ]
    },
    {
     "name": "stdout",
     "output_type": "stream",
     "text": [
      "Epoch 1010 - Train Loss: 0.3900, Train MSE: 0.3904, Train MAE: 0.4107\n",
      "Epoch 1010 - Validation Loss: 1.2084, Validation MSE: 1.2106, Validation MAE: 0.7413\n"
     ]
    },
    {
     "name": "stderr",
     "output_type": "stream",
     "text": [
      "Training Epoch 1012: 100%|██████████| 373/373 [00:02<00:00, 176.74it/s]\n",
      "Training Epoch 1013: 100%|██████████| 373/373 [00:02<00:00, 172.69it/s]\n",
      "Training Epoch 1014: 100%|██████████| 373/373 [00:02<00:00, 179.31it/s]\n",
      "Training Epoch 1015: 100%|██████████| 373/373 [00:02<00:00, 171.65it/s]\n",
      "Training Epoch 1016: 100%|██████████| 373/373 [00:02<00:00, 179.85it/s]\n",
      "Training Epoch 1017: 100%|██████████| 373/373 [00:02<00:00, 172.53it/s]\n",
      "Training Epoch 1018: 100%|██████████| 373/373 [00:02<00:00, 177.33it/s]\n",
      "Training Epoch 1019: 100%|██████████| 373/373 [00:02<00:00, 172.77it/s]\n",
      "Training Epoch 1020: 100%|██████████| 373/373 [00:02<00:00, 176.51it/s]\n",
      "Training Epoch 1021: 100%|██████████| 373/373 [00:02<00:00, 171.91it/s]\n"
     ]
    },
    {
     "name": "stdout",
     "output_type": "stream",
     "text": [
      "Epoch 1020 - Train Loss: 0.3886, Train MSE: 0.3883, Train MAE: 0.4102\n",
      "Epoch 1020 - Validation Loss: 1.1967, Validation MSE: 1.1988, Validation MAE: 0.7398\n"
     ]
    },
    {
     "name": "stderr",
     "output_type": "stream",
     "text": [
      "Training Epoch 1022: 100%|██████████| 373/373 [00:02<00:00, 179.61it/s]\n",
      "Training Epoch 1023: 100%|██████████| 373/373 [00:02<00:00, 177.97it/s]\n",
      "Training Epoch 1024: 100%|██████████| 373/373 [00:02<00:00, 173.10it/s]\n",
      "Training Epoch 1025: 100%|██████████| 373/373 [00:02<00:00, 177.71it/s]\n",
      "Training Epoch 1026: 100%|██████████| 373/373 [00:02<00:00, 175.04it/s]\n",
      "Training Epoch 1027: 100%|██████████| 373/373 [00:02<00:00, 175.24it/s]\n",
      "Training Epoch 1028: 100%|██████████| 373/373 [00:02<00:00, 174.19it/s]\n",
      "Training Epoch 1029: 100%|██████████| 373/373 [00:02<00:00, 177.26it/s]\n",
      "Training Epoch 1030: 100%|██████████| 373/373 [00:02<00:00, 174.82it/s]\n",
      "Training Epoch 1031: 100%|██████████| 373/373 [00:02<00:00, 175.03it/s]\n"
     ]
    },
    {
     "name": "stdout",
     "output_type": "stream",
     "text": [
      "Epoch 1030 - Train Loss: 0.3849, Train MSE: 0.3856, Train MAE: 0.4081\n",
      "Epoch 1030 - Validation Loss: 1.2064, Validation MSE: 1.2083, Validation MAE: 0.7439\n"
     ]
    },
    {
     "name": "stderr",
     "output_type": "stream",
     "text": [
      "Training Epoch 1032: 100%|██████████| 373/373 [00:02<00:00, 170.95it/s]\n",
      "Training Epoch 1033: 100%|██████████| 373/373 [00:02<00:00, 175.23it/s]\n",
      "Training Epoch 1034: 100%|██████████| 373/373 [00:02<00:00, 180.33it/s]\n",
      "Training Epoch 1035: 100%|██████████| 373/373 [00:02<00:00, 178.50it/s]\n",
      "Training Epoch 1036: 100%|██████████| 373/373 [00:02<00:00, 177.76it/s]\n",
      "Training Epoch 1037: 100%|██████████| 373/373 [00:02<00:00, 178.00it/s]\n",
      "Training Epoch 1038: 100%|██████████| 373/373 [00:02<00:00, 172.78it/s]\n",
      "Training Epoch 1039: 100%|██████████| 373/373 [00:02<00:00, 176.70it/s]\n",
      "Training Epoch 1040: 100%|██████████| 373/373 [00:02<00:00, 176.74it/s]\n",
      "Training Epoch 1041: 100%|██████████| 373/373 [00:02<00:00, 173.66it/s]\n"
     ]
    },
    {
     "name": "stdout",
     "output_type": "stream",
     "text": [
      "Epoch 1040 - Train Loss: 0.3819, Train MSE: 0.3823, Train MAE: 0.4067\n",
      "Epoch 1040 - Validation Loss: 1.1946, Validation MSE: 1.1968, Validation MAE: 0.7399\n"
     ]
    },
    {
     "name": "stderr",
     "output_type": "stream",
     "text": [
      "Training Epoch 1042: 100%|██████████| 373/373 [00:02<00:00, 178.18it/s]\n",
      "Training Epoch 1043: 100%|██████████| 373/373 [00:02<00:00, 172.03it/s]\n",
      "Training Epoch 1044: 100%|██████████| 373/373 [00:02<00:00, 177.08it/s]\n",
      "Training Epoch 1045: 100%|██████████| 373/373 [00:02<00:00, 173.35it/s]\n",
      "Training Epoch 1046: 100%|██████████| 373/373 [00:02<00:00, 174.94it/s]\n",
      "Training Epoch 1047: 100%|██████████| 373/373 [00:02<00:00, 177.81it/s]\n",
      "Training Epoch 1048: 100%|██████████| 373/373 [00:02<00:00, 175.73it/s]\n",
      "Training Epoch 1049: 100%|██████████| 373/373 [00:02<00:00, 176.19it/s]\n",
      "Training Epoch 1050: 100%|██████████| 373/373 [00:02<00:00, 177.22it/s]\n",
      "Training Epoch 1051: 100%|██████████| 373/373 [00:02<00:00, 176.69it/s]\n"
     ]
    },
    {
     "name": "stdout",
     "output_type": "stream",
     "text": [
      "Epoch 1050 - Train Loss: 0.3880, Train MSE: 0.3888, Train MAE: 0.4082\n",
      "Epoch 1050 - Validation Loss: 1.2042, Validation MSE: 1.2064, Validation MAE: 0.7408\n"
     ]
    },
    {
     "name": "stderr",
     "output_type": "stream",
     "text": [
      "Training Epoch 1052: 100%|██████████| 373/373 [00:02<00:00, 170.60it/s]\n",
      "Training Epoch 1053: 100%|██████████| 373/373 [00:02<00:00, 177.00it/s]\n",
      "Training Epoch 1054: 100%|██████████| 373/373 [00:02<00:00, 170.99it/s]\n",
      "Training Epoch 1055: 100%|██████████| 373/373 [00:02<00:00, 176.18it/s]\n",
      "Training Epoch 1056: 100%|██████████| 373/373 [00:02<00:00, 176.30it/s]\n",
      "Training Epoch 1057: 100%|██████████| 373/373 [00:02<00:00, 176.41it/s]\n",
      "Training Epoch 1058: 100%|██████████| 373/373 [00:02<00:00, 172.13it/s]\n",
      "Training Epoch 1059: 100%|██████████| 373/373 [00:02<00:00, 169.11it/s]\n",
      "Training Epoch 1060: 100%|██████████| 373/373 [00:02<00:00, 178.17it/s]\n",
      "Training Epoch 1061: 100%|██████████| 373/373 [00:02<00:00, 178.76it/s]\n"
     ]
    },
    {
     "name": "stdout",
     "output_type": "stream",
     "text": [
      "Epoch 1060 - Train Loss: 0.3883, Train MSE: 0.3888, Train MAE: 0.4082\n",
      "Epoch 1060 - Validation Loss: 1.1871, Validation MSE: 1.1890, Validation MAE: 0.7356\n"
     ]
    },
    {
     "name": "stderr",
     "output_type": "stream",
     "text": [
      "Training Epoch 1062: 100%|██████████| 373/373 [00:02<00:00, 180.08it/s]\n",
      "Training Epoch 1063: 100%|██████████| 373/373 [00:02<00:00, 176.27it/s]\n",
      "Training Epoch 1064: 100%|██████████| 373/373 [00:02<00:00, 179.34it/s]\n",
      "Training Epoch 1065: 100%|██████████| 373/373 [00:02<00:00, 173.12it/s]\n",
      "Training Epoch 1066: 100%|██████████| 373/373 [00:02<00:00, 174.94it/s]\n",
      "Training Epoch 1067: 100%|██████████| 373/373 [00:02<00:00, 177.39it/s]\n",
      "Training Epoch 1068: 100%|██████████| 373/373 [00:02<00:00, 175.97it/s]\n",
      "Training Epoch 1069: 100%|██████████| 373/373 [00:02<00:00, 174.59it/s]\n",
      "Training Epoch 1070: 100%|██████████| 373/373 [00:02<00:00, 176.19it/s]\n",
      "Training Epoch 1071: 100%|██████████| 373/373 [00:02<00:00, 171.29it/s]\n"
     ]
    },
    {
     "name": "stdout",
     "output_type": "stream",
     "text": [
      "Epoch 1070 - Train Loss: 0.3861, Train MSE: 0.3867, Train MAE: 0.4065\n",
      "Epoch 1070 - Validation Loss: 1.1942, Validation MSE: 1.1962, Validation MAE: 0.7411\n"
     ]
    },
    {
     "name": "stderr",
     "output_type": "stream",
     "text": [
      "Training Epoch 1072: 100%|██████████| 373/373 [00:02<00:00, 176.62it/s]\n",
      "Training Epoch 1073: 100%|██████████| 373/373 [00:02<00:00, 177.22it/s]\n",
      "Training Epoch 1074: 100%|██████████| 373/373 [00:02<00:00, 176.03it/s]\n",
      "Training Epoch 1075: 100%|██████████| 373/373 [00:02<00:00, 177.79it/s]\n",
      "Training Epoch 1076: 100%|██████████| 373/373 [00:02<00:00, 172.41it/s]\n",
      "Training Epoch 1077: 100%|██████████| 373/373 [00:02<00:00, 176.90it/s]\n",
      "Training Epoch 1078: 100%|██████████| 373/373 [00:02<00:00, 173.43it/s]\n",
      "Training Epoch 1079: 100%|██████████| 373/373 [00:02<00:00, 177.56it/s]\n",
      "Training Epoch 1080: 100%|██████████| 373/373 [00:02<00:00, 171.47it/s]\n",
      "Training Epoch 1081: 100%|██████████| 373/373 [00:02<00:00, 177.97it/s]\n"
     ]
    },
    {
     "name": "stdout",
     "output_type": "stream",
     "text": [
      "Epoch 1080 - Train Loss: 0.3838, Train MSE: 0.3805, Train MAE: 0.4049\n",
      "Epoch 1080 - Validation Loss: 1.1837, Validation MSE: 1.1856, Validation MAE: 0.7401\n"
     ]
    },
    {
     "name": "stderr",
     "output_type": "stream",
     "text": [
      "Training Epoch 1082: 100%|██████████| 373/373 [00:02<00:00, 173.93it/s]\n",
      "Training Epoch 1083: 100%|██████████| 373/373 [00:02<00:00, 176.19it/s]\n",
      "Training Epoch 1084: 100%|██████████| 373/373 [00:02<00:00, 177.65it/s]\n",
      "Training Epoch 1085: 100%|██████████| 373/373 [00:02<00:00, 180.57it/s]\n",
      "Training Epoch 1086: 100%|██████████| 373/373 [00:02<00:00, 177.68it/s]\n",
      "Training Epoch 1087: 100%|██████████| 373/373 [00:02<00:00, 170.59it/s]\n",
      "Training Epoch 1088: 100%|██████████| 373/373 [00:02<00:00, 178.01it/s]\n",
      "Training Epoch 1089: 100%|██████████| 373/373 [00:02<00:00, 174.85it/s]\n",
      "Training Epoch 1090: 100%|██████████| 373/373 [00:02<00:00, 183.16it/s]\n",
      "Training Epoch 1091: 100%|██████████| 373/373 [00:02<00:00, 175.21it/s]\n"
     ]
    },
    {
     "name": "stdout",
     "output_type": "stream",
     "text": [
      "Epoch 1090 - Train Loss: 0.3808, Train MSE: 0.3797, Train MAE: 0.4045\n",
      "Epoch 1090 - Validation Loss: 1.2108, Validation MSE: 1.2129, Validation MAE: 0.7436\n"
     ]
    },
    {
     "name": "stderr",
     "output_type": "stream",
     "text": [
      "Training Epoch 1092: 100%|██████████| 373/373 [00:02<00:00, 177.32it/s]\n",
      "Training Epoch 1093: 100%|██████████| 373/373 [00:02<00:00, 171.86it/s]\n",
      "Training Epoch 1094: 100%|██████████| 373/373 [00:02<00:00, 172.11it/s]\n",
      "Training Epoch 1095: 100%|██████████| 373/373 [00:02<00:00, 175.26it/s]\n",
      "Training Epoch 1096: 100%|██████████| 373/373 [00:02<00:00, 178.86it/s]\n",
      "Training Epoch 1097: 100%|██████████| 373/373 [00:02<00:00, 179.92it/s]\n",
      "Training Epoch 1098: 100%|██████████| 373/373 [00:02<00:00, 180.67it/s]\n",
      "Training Epoch 1099: 100%|██████████| 373/373 [00:02<00:00, 172.06it/s]\n",
      "Training Epoch 1100: 100%|██████████| 373/373 [00:02<00:00, 174.22it/s]\n",
      "Training Epoch 1101: 100%|██████████| 373/373 [00:02<00:00, 174.99it/s]\n"
     ]
    },
    {
     "name": "stdout",
     "output_type": "stream",
     "text": [
      "Epoch 1100 - Train Loss: 0.3795, Train MSE: 0.3802, Train MAE: 0.4052\n",
      "Epoch 1100 - Validation Loss: 1.1956, Validation MSE: 1.1977, Validation MAE: 0.7361\n"
     ]
    },
    {
     "name": "stderr",
     "output_type": "stream",
     "text": [
      "Training Epoch 1102: 100%|██████████| 373/373 [00:02<00:00, 175.11it/s]\n",
      "Training Epoch 1103: 100%|██████████| 373/373 [00:02<00:00, 178.04it/s]\n",
      "Training Epoch 1104: 100%|██████████| 373/373 [00:02<00:00, 171.52it/s]\n",
      "Training Epoch 1105: 100%|██████████| 373/373 [00:02<00:00, 178.65it/s]\n",
      "Training Epoch 1106: 100%|██████████| 373/373 [00:02<00:00, 173.62it/s]\n",
      "Training Epoch 1107: 100%|██████████| 373/373 [00:02<00:00, 177.85it/s]\n",
      "Training Epoch 1108: 100%|██████████| 373/373 [00:02<00:00, 170.38it/s]\n",
      "Training Epoch 1109: 100%|██████████| 373/373 [00:02<00:00, 180.78it/s]\n",
      "Training Epoch 1110: 100%|██████████| 373/373 [00:02<00:00, 177.29it/s]\n",
      "Training Epoch 1111: 100%|██████████| 373/373 [00:02<00:00, 172.35it/s]\n"
     ]
    },
    {
     "name": "stdout",
     "output_type": "stream",
     "text": [
      "Epoch 1110 - Train Loss: 0.3855, Train MSE: 0.3843, Train MAE: 0.4076\n",
      "Epoch 1110 - Validation Loss: 1.1876, Validation MSE: 1.1895, Validation MAE: 0.7414\n"
     ]
    },
    {
     "name": "stderr",
     "output_type": "stream",
     "text": [
      "Training Epoch 1112: 100%|██████████| 373/373 [00:02<00:00, 183.00it/s]\n",
      "Training Epoch 1113: 100%|██████████| 373/373 [00:02<00:00, 171.53it/s]\n",
      "Training Epoch 1114: 100%|██████████| 373/373 [00:02<00:00, 178.67it/s]\n",
      "Training Epoch 1115: 100%|██████████| 373/373 [00:02<00:00, 166.13it/s]\n",
      "Training Epoch 1116: 100%|██████████| 373/373 [00:02<00:00, 178.30it/s]\n",
      "Training Epoch 1117: 100%|██████████| 373/373 [00:02<00:00, 176.10it/s]\n",
      "Training Epoch 1118: 100%|██████████| 373/373 [00:02<00:00, 180.27it/s]\n",
      "Training Epoch 1119: 100%|██████████| 373/373 [00:02<00:00, 173.56it/s]\n",
      "Training Epoch 1120: 100%|██████████| 373/373 [00:02<00:00, 177.82it/s]\n",
      "Training Epoch 1121: 100%|██████████| 373/373 [00:02<00:00, 175.73it/s]\n"
     ]
    },
    {
     "name": "stdout",
     "output_type": "stream",
     "text": [
      "Epoch 1120 - Train Loss: 0.3819, Train MSE: 0.3824, Train MAE: 0.4063\n",
      "Epoch 1120 - Validation Loss: 1.2029, Validation MSE: 1.2049, Validation MAE: 0.7398\n"
     ]
    },
    {
     "name": "stderr",
     "output_type": "stream",
     "text": [
      "Training Epoch 1122: 100%|██████████| 373/373 [00:02<00:00, 173.49it/s]\n",
      "Training Epoch 1123: 100%|██████████| 373/373 [00:02<00:00, 175.74it/s]\n",
      "Training Epoch 1124: 100%|██████████| 373/373 [00:02<00:00, 177.78it/s]\n",
      "Training Epoch 1125: 100%|██████████| 373/373 [00:02<00:00, 175.27it/s]\n",
      "Training Epoch 1126: 100%|██████████| 373/373 [00:02<00:00, 177.19it/s]\n",
      "Training Epoch 1127: 100%|██████████| 373/373 [00:02<00:00, 176.63it/s]\n",
      "Training Epoch 1128: 100%|██████████| 373/373 [00:02<00:00, 174.56it/s]\n",
      "Training Epoch 1129: 100%|██████████| 373/373 [00:02<00:00, 177.09it/s]\n",
      "Training Epoch 1130: 100%|██████████| 373/373 [00:02<00:00, 178.11it/s]\n",
      "Training Epoch 1131: 100%|██████████| 373/373 [00:02<00:00, 176.54it/s]\n"
     ]
    },
    {
     "name": "stdout",
     "output_type": "stream",
     "text": [
      "Epoch 1130 - Train Loss: 0.3765, Train MSE: 0.3774, Train MAE: 0.4056\n",
      "Epoch 1130 - Validation Loss: 1.1750, Validation MSE: 1.1770, Validation MAE: 0.7289\n"
     ]
    },
    {
     "name": "stderr",
     "output_type": "stream",
     "text": [
      "Training Epoch 1132: 100%|██████████| 373/373 [00:02<00:00, 170.99it/s]\n",
      "Training Epoch 1133: 100%|██████████| 373/373 [00:02<00:00, 180.26it/s]\n",
      "Training Epoch 1134: 100%|██████████| 373/373 [00:02<00:00, 174.36it/s]\n",
      "Training Epoch 1135: 100%|██████████| 373/373 [00:02<00:00, 177.88it/s]\n",
      "Training Epoch 1136: 100%|██████████| 373/373 [00:02<00:00, 171.09it/s]\n",
      "Training Epoch 1137: 100%|██████████| 373/373 [00:02<00:00, 177.99it/s]\n",
      "Training Epoch 1138: 100%|██████████| 373/373 [00:02<00:00, 180.94it/s]\n",
      "Training Epoch 1139: 100%|██████████| 373/373 [00:02<00:00, 174.63it/s]\n",
      "Training Epoch 1140: 100%|██████████| 373/373 [00:02<00:00, 179.03it/s]\n",
      "Training Epoch 1141: 100%|██████████| 373/373 [00:02<00:00, 173.04it/s]\n"
     ]
    },
    {
     "name": "stdout",
     "output_type": "stream",
     "text": [
      "Epoch 1140 - Train Loss: 0.3775, Train MSE: 0.3783, Train MAE: 0.4049\n",
      "Epoch 1140 - Validation Loss: 1.1937, Validation MSE: 1.1958, Validation MAE: 0.7380\n"
     ]
    },
    {
     "name": "stderr",
     "output_type": "stream",
     "text": [
      "Training Epoch 1142: 100%|██████████| 373/373 [00:02<00:00, 176.30it/s]\n",
      "Training Epoch 1143: 100%|██████████| 373/373 [00:02<00:00, 170.62it/s]\n",
      "Training Epoch 1144: 100%|██████████| 373/373 [00:02<00:00, 177.80it/s]\n",
      "Training Epoch 1145: 100%|██████████| 373/373 [00:02<00:00, 172.37it/s]\n",
      "Training Epoch 1146: 100%|██████████| 373/373 [00:02<00:00, 181.24it/s]\n",
      "Training Epoch 1147: 100%|██████████| 373/373 [00:02<00:00, 173.38it/s]\n",
      "Training Epoch 1148: 100%|██████████| 373/373 [00:02<00:00, 176.88it/s]\n",
      "Training Epoch 1149: 100%|██████████| 373/373 [00:02<00:00, 175.82it/s]\n",
      "Training Epoch 1150: 100%|██████████| 373/373 [00:02<00:00, 171.14it/s]\n",
      "Training Epoch 1151: 100%|██████████| 373/373 [00:02<00:00, 177.07it/s]\n"
     ]
    },
    {
     "name": "stdout",
     "output_type": "stream",
     "text": [
      "Epoch 1150 - Train Loss: 0.3829, Train MSE: 0.3837, Train MAE: 0.4049\n",
      "Epoch 1150 - Validation Loss: 1.1940, Validation MSE: 1.1962, Validation MAE: 0.7383\n"
     ]
    },
    {
     "name": "stderr",
     "output_type": "stream",
     "text": [
      "Training Epoch 1152: 100%|██████████| 373/373 [00:02<00:00, 172.94it/s]\n",
      "Training Epoch 1153: 100%|██████████| 373/373 [00:02<00:00, 177.81it/s]\n",
      "Training Epoch 1154: 100%|██████████| 373/373 [00:02<00:00, 171.35it/s]\n",
      "Training Epoch 1155: 100%|██████████| 373/373 [00:02<00:00, 175.15it/s]\n",
      "Training Epoch 1156: 100%|██████████| 373/373 [00:02<00:00, 173.32it/s]\n",
      "Training Epoch 1157: 100%|██████████| 373/373 [00:02<00:00, 177.94it/s]\n",
      "Training Epoch 1158: 100%|██████████| 373/373 [00:02<00:00, 174.69it/s]\n",
      "Training Epoch 1159: 100%|██████████| 373/373 [00:02<00:00, 179.13it/s]\n",
      "Training Epoch 1160: 100%|██████████| 373/373 [00:02<00:00, 180.02it/s]\n",
      "Training Epoch 1161: 100%|██████████| 373/373 [00:02<00:00, 171.23it/s]\n"
     ]
    },
    {
     "name": "stdout",
     "output_type": "stream",
     "text": [
      "Epoch 1160 - Train Loss: 0.3751, Train MSE: 0.3753, Train MAE: 0.4016\n",
      "Epoch 1160 - Validation Loss: 1.1853, Validation MSE: 1.1874, Validation MAE: 0.7360\n"
     ]
    },
    {
     "name": "stderr",
     "output_type": "stream",
     "text": [
      "Training Epoch 1162: 100%|██████████| 373/373 [00:02<00:00, 180.44it/s]\n",
      "Training Epoch 1163: 100%|██████████| 373/373 [00:02<00:00, 175.56it/s]\n",
      "Training Epoch 1164: 100%|██████████| 373/373 [00:02<00:00, 174.21it/s]\n",
      "Training Epoch 1165: 100%|██████████| 373/373 [00:02<00:00, 174.04it/s]\n",
      "Training Epoch 1166: 100%|██████████| 373/373 [00:02<00:00, 174.73it/s]\n",
      "Training Epoch 1167: 100%|██████████| 373/373 [00:02<00:00, 175.91it/s]\n",
      "Training Epoch 1168: 100%|██████████| 373/373 [00:02<00:00, 176.42it/s]\n",
      "Training Epoch 1169: 100%|██████████| 373/373 [00:02<00:00, 173.89it/s]\n",
      "Training Epoch 1170: 100%|██████████| 373/373 [00:02<00:00, 176.58it/s]\n",
      "Training Epoch 1171: 100%|██████████| 373/373 [00:02<00:00, 168.99it/s]\n"
     ]
    },
    {
     "name": "stdout",
     "output_type": "stream",
     "text": [
      "Epoch 1170 - Train Loss: 0.3720, Train MSE: 0.3729, Train MAE: 0.4018\n",
      "Epoch 1170 - Validation Loss: 1.1929, Validation MSE: 1.1953, Validation MAE: 0.7338\n"
     ]
    },
    {
     "name": "stderr",
     "output_type": "stream",
     "text": [
      "Training Epoch 1172: 100%|██████████| 373/373 [00:02<00:00, 176.91it/s]\n",
      "Training Epoch 1173: 100%|██████████| 373/373 [00:02<00:00, 174.12it/s]\n",
      "Training Epoch 1174: 100%|██████████| 373/373 [00:02<00:00, 178.50it/s]\n",
      "Training Epoch 1175: 100%|██████████| 373/373 [00:02<00:00, 172.18it/s]\n",
      "Training Epoch 1176: 100%|██████████| 373/373 [00:02<00:00, 178.80it/s]\n",
      "Training Epoch 1177: 100%|██████████| 373/373 [00:02<00:00, 175.41it/s]\n",
      "Training Epoch 1178: 100%|██████████| 373/373 [00:02<00:00, 169.33it/s]\n",
      "Training Epoch 1179: 100%|██████████| 373/373 [00:02<00:00, 175.97it/s]\n",
      "Training Epoch 1180: 100%|██████████| 373/373 [00:02<00:00, 175.68it/s]\n",
      "Training Epoch 1181: 100%|██████████| 373/373 [00:02<00:00, 178.65it/s]\n"
     ]
    },
    {
     "name": "stdout",
     "output_type": "stream",
     "text": [
      "Epoch 1180 - Train Loss: 0.3705, Train MSE: 0.3712, Train MAE: 0.3982\n",
      "Epoch 1180 - Validation Loss: 1.1896, Validation MSE: 1.1917, Validation MAE: 0.7407\n"
     ]
    },
    {
     "name": "stderr",
     "output_type": "stream",
     "text": [
      "Training Epoch 1182: 100%|██████████| 373/373 [00:02<00:00, 177.13it/s]\n",
      "Training Epoch 1183: 100%|██████████| 373/373 [00:02<00:00, 174.09it/s]\n",
      "Training Epoch 1184: 100%|██████████| 373/373 [00:02<00:00, 174.72it/s]\n",
      "Training Epoch 1185: 100%|██████████| 373/373 [00:02<00:00, 175.36it/s]\n",
      "Training Epoch 1186: 100%|██████████| 373/373 [00:02<00:00, 172.10it/s]\n",
      "Training Epoch 1187: 100%|██████████| 373/373 [00:02<00:00, 177.45it/s]\n",
      "Training Epoch 1188: 100%|██████████| 373/373 [00:02<00:00, 181.70it/s]\n",
      "Training Epoch 1189: 100%|██████████| 373/373 [00:02<00:00, 174.29it/s]\n",
      "Training Epoch 1190: 100%|██████████| 373/373 [00:02<00:00, 179.55it/s]\n",
      "Training Epoch 1191: 100%|██████████| 373/373 [00:02<00:00, 175.74it/s]\n"
     ]
    },
    {
     "name": "stdout",
     "output_type": "stream",
     "text": [
      "Epoch 1190 - Train Loss: 0.3709, Train MSE: 0.3715, Train MAE: 0.4003\n",
      "Epoch 1190 - Validation Loss: 1.1977, Validation MSE: 1.1995, Validation MAE: 0.7402\n"
     ]
    },
    {
     "name": "stderr",
     "output_type": "stream",
     "text": [
      "Training Epoch 1192: 100%|██████████| 373/373 [00:02<00:00, 174.32it/s]\n",
      "Training Epoch 1193: 100%|██████████| 373/373 [00:02<00:00, 174.34it/s]\n",
      "Training Epoch 1194: 100%|██████████| 373/373 [00:02<00:00, 178.80it/s]\n",
      "Training Epoch 1195: 100%|██████████| 373/373 [00:02<00:00, 174.20it/s]\n",
      "Training Epoch 1196: 100%|██████████| 373/373 [00:02<00:00, 178.59it/s]\n",
      "Training Epoch 1197: 100%|██████████| 373/373 [00:02<00:00, 179.44it/s]\n",
      "Training Epoch 1198: 100%|██████████| 373/373 [00:02<00:00, 179.10it/s]\n",
      "Training Epoch 1199: 100%|██████████| 373/373 [00:02<00:00, 169.66it/s]\n",
      "Training Epoch 1200: 100%|██████████| 373/373 [00:02<00:00, 174.08it/s]\n",
      "Training Epoch 1201: 100%|██████████| 373/373 [00:02<00:00, 180.03it/s]\n"
     ]
    },
    {
     "name": "stdout",
     "output_type": "stream",
     "text": [
      "Epoch 1200 - Train Loss: 0.3707, Train MSE: 0.3680, Train MAE: 0.3964\n",
      "Epoch 1200 - Validation Loss: 1.2013, Validation MSE: 1.2033, Validation MAE: 0.7408\n"
     ]
    },
    {
     "name": "stderr",
     "output_type": "stream",
     "text": [
      "Training Epoch 1202: 100%|██████████| 373/373 [00:02<00:00, 178.28it/s]\n",
      "Training Epoch 1203: 100%|██████████| 373/373 [00:02<00:00, 178.59it/s]\n",
      "Training Epoch 1204: 100%|██████████| 373/373 [00:02<00:00, 173.63it/s]\n",
      "Training Epoch 1205: 100%|██████████| 373/373 [00:02<00:00, 175.94it/s]\n",
      "Training Epoch 1206: 100%|██████████| 373/373 [00:02<00:00, 169.29it/s]\n",
      "Training Epoch 1207: 100%|██████████| 373/373 [00:02<00:00, 179.13it/s]\n",
      "Training Epoch 1208: 100%|██████████| 373/373 [00:02<00:00, 175.05it/s]\n",
      "Training Epoch 1209: 100%|██████████| 373/373 [00:02<00:00, 175.55it/s]\n",
      "Training Epoch 1210: 100%|██████████| 373/373 [00:02<00:00, 171.12it/s]\n",
      "Training Epoch 1211: 100%|██████████| 373/373 [00:02<00:00, 176.77it/s]\n"
     ]
    },
    {
     "name": "stdout",
     "output_type": "stream",
     "text": [
      "Epoch 1210 - Train Loss: 0.3689, Train MSE: 0.3692, Train MAE: 0.4024\n",
      "Epoch 1210 - Validation Loss: 1.2004, Validation MSE: 1.2021, Validation MAE: 0.7412\n"
     ]
    },
    {
     "name": "stderr",
     "output_type": "stream",
     "text": [
      "Training Epoch 1212: 100%|██████████| 373/373 [00:02<00:00, 176.28it/s]\n",
      "Training Epoch 1213: 100%|██████████| 373/373 [00:02<00:00, 173.75it/s]\n",
      "Training Epoch 1214: 100%|██████████| 373/373 [00:02<00:00, 178.46it/s]\n",
      "Training Epoch 1215: 100%|██████████| 373/373 [00:02<00:00, 173.89it/s]\n",
      "Training Epoch 1216: 100%|██████████| 373/373 [00:02<00:00, 180.24it/s]\n",
      "Training Epoch 1217: 100%|██████████| 373/373 [00:02<00:00, 173.67it/s]\n",
      "Training Epoch 1218: 100%|██████████| 373/373 [00:02<00:00, 180.80it/s]\n",
      "Training Epoch 1219: 100%|██████████| 373/373 [00:02<00:00, 175.64it/s]\n",
      "Training Epoch 1220: 100%|██████████| 373/373 [00:02<00:00, 175.22it/s]\n",
      "Training Epoch 1221: 100%|██████████| 373/373 [00:02<00:00, 173.27it/s]\n"
     ]
    },
    {
     "name": "stdout",
     "output_type": "stream",
     "text": [
      "Epoch 1220 - Train Loss: 0.3631, Train MSE: 0.3635, Train MAE: 0.3965\n",
      "Epoch 1220 - Validation Loss: 1.2049, Validation MSE: 1.2069, Validation MAE: 0.7365\n"
     ]
    },
    {
     "name": "stderr",
     "output_type": "stream",
     "text": [
      "Training Epoch 1222: 100%|██████████| 373/373 [00:02<00:00, 177.21it/s]\n",
      "Training Epoch 1223: 100%|██████████| 373/373 [00:02<00:00, 174.84it/s]\n",
      "Training Epoch 1224: 100%|██████████| 373/373 [00:02<00:00, 177.21it/s]\n",
      "Training Epoch 1225: 100%|██████████| 373/373 [00:02<00:00, 174.84it/s]\n",
      "Training Epoch 1226: 100%|██████████| 373/373 [00:02<00:00, 179.12it/s]\n",
      "Training Epoch 1227: 100%|██████████| 373/373 [00:02<00:00, 173.30it/s]\n",
      "Training Epoch 1228: 100%|██████████| 373/373 [00:02<00:00, 177.68it/s]\n",
      "Training Epoch 1229: 100%|██████████| 373/373 [00:02<00:00, 178.57it/s]\n",
      "Training Epoch 1230: 100%|██████████| 373/373 [00:02<00:00, 174.94it/s]\n",
      "Training Epoch 1231: 100%|██████████| 373/373 [00:02<00:00, 181.48it/s]\n"
     ]
    },
    {
     "name": "stdout",
     "output_type": "stream",
     "text": [
      "Epoch 1230 - Train Loss: 0.3729, Train MSE: 0.3701, Train MAE: 0.3993\n",
      "Epoch 1230 - Validation Loss: 1.2135, Validation MSE: 1.2154, Validation MAE: 0.7437\n"
     ]
    },
    {
     "name": "stderr",
     "output_type": "stream",
     "text": [
      "Training Epoch 1232: 100%|██████████| 373/373 [00:02<00:00, 170.68it/s]\n",
      "Training Epoch 1233: 100%|██████████| 373/373 [00:02<00:00, 179.62it/s]\n",
      "Training Epoch 1234: 100%|██████████| 373/373 [00:02<00:00, 171.05it/s]\n",
      "Training Epoch 1235: 100%|██████████| 373/373 [00:02<00:00, 177.89it/s]\n",
      "Training Epoch 1236: 100%|██████████| 373/373 [00:02<00:00, 176.35it/s]\n",
      "Training Epoch 1237: 100%|██████████| 373/373 [00:02<00:00, 179.54it/s]\n",
      "Training Epoch 1238: 100%|██████████| 373/373 [00:02<00:00, 175.44it/s]\n",
      "Training Epoch 1239: 100%|██████████| 373/373 [00:02<00:00, 176.70it/s]\n",
      "Training Epoch 1240: 100%|██████████| 373/373 [00:02<00:00, 174.79it/s]\n",
      "Training Epoch 1241: 100%|██████████| 373/373 [00:02<00:00, 172.75it/s]\n"
     ]
    },
    {
     "name": "stdout",
     "output_type": "stream",
     "text": [
      "Epoch 1240 - Train Loss: 0.3659, Train MSE: 0.3667, Train MAE: 0.3991\n",
      "Epoch 1240 - Validation Loss: 1.1875, Validation MSE: 1.1896, Validation MAE: 0.7420\n"
     ]
    },
    {
     "name": "stderr",
     "output_type": "stream",
     "text": [
      "Training Epoch 1242: 100%|██████████| 373/373 [00:02<00:00, 180.85it/s]\n",
      "Training Epoch 1243: 100%|██████████| 373/373 [00:02<00:00, 174.60it/s]\n",
      "Training Epoch 1244: 100%|██████████| 373/373 [00:02<00:00, 177.87it/s]\n",
      "Training Epoch 1245: 100%|██████████| 373/373 [00:02<00:00, 173.33it/s]\n",
      "Training Epoch 1246: 100%|██████████| 373/373 [00:02<00:00, 180.30it/s]\n",
      "Training Epoch 1247: 100%|██████████| 373/373 [00:02<00:00, 175.47it/s]\n",
      "Training Epoch 1248: 100%|██████████| 373/373 [00:02<00:00, 173.15it/s]\n",
      "Training Epoch 1249: 100%|██████████| 373/373 [00:02<00:00, 172.52it/s]\n",
      "Training Epoch 1250: 100%|██████████| 373/373 [00:02<00:00, 173.84it/s]\n",
      "Training Epoch 1251: 100%|██████████| 373/373 [00:02<00:00, 173.20it/s]\n"
     ]
    },
    {
     "name": "stdout",
     "output_type": "stream",
     "text": [
      "Epoch 1250 - Train Loss: 0.3694, Train MSE: 0.3699, Train MAE: 0.3970\n",
      "Epoch 1250 - Validation Loss: 1.1943, Validation MSE: 1.1965, Validation MAE: 0.7368\n"
     ]
    },
    {
     "name": "stderr",
     "output_type": "stream",
     "text": [
      "Training Epoch 1252: 100%|██████████| 373/373 [00:02<00:00, 177.71it/s]\n",
      "Training Epoch 1253: 100%|██████████| 373/373 [00:02<00:00, 183.27it/s]\n",
      "Training Epoch 1254: 100%|██████████| 373/373 [00:02<00:00, 177.68it/s]\n",
      "Training Epoch 1255: 100%|██████████| 373/373 [00:02<00:00, 173.88it/s]\n",
      "Training Epoch 1256: 100%|██████████| 373/373 [00:02<00:00, 171.51it/s]\n",
      "Training Epoch 1257: 100%|██████████| 373/373 [00:02<00:00, 178.36it/s]\n",
      "Training Epoch 1258: 100%|██████████| 373/373 [00:02<00:00, 174.45it/s]\n",
      "Training Epoch 1259: 100%|██████████| 373/373 [00:02<00:00, 178.43it/s]\n",
      "Training Epoch 1260: 100%|██████████| 373/373 [00:02<00:00, 175.77it/s]\n",
      "Training Epoch 1261: 100%|██████████| 373/373 [00:02<00:00, 177.16it/s]\n"
     ]
    },
    {
     "name": "stdout",
     "output_type": "stream",
     "text": [
      "Epoch 1260 - Train Loss: 0.3643, Train MSE: 0.3650, Train MAE: 0.3948\n",
      "Epoch 1260 - Validation Loss: 1.2024, Validation MSE: 1.2048, Validation MAE: 0.7418\n"
     ]
    },
    {
     "name": "stderr",
     "output_type": "stream",
     "text": [
      "Training Epoch 1262: 100%|██████████| 373/373 [00:02<00:00, 168.89it/s]\n",
      "Training Epoch 1263: 100%|██████████| 373/373 [00:02<00:00, 176.37it/s]\n",
      "Training Epoch 1264: 100%|██████████| 373/373 [00:02<00:00, 175.01it/s]\n",
      "Training Epoch 1265: 100%|██████████| 373/373 [00:02<00:00, 176.22it/s]\n",
      "Training Epoch 1266: 100%|██████████| 373/373 [00:02<00:00, 172.95it/s]\n",
      "Training Epoch 1267: 100%|██████████| 373/373 [00:02<00:00, 176.25it/s]\n",
      "Training Epoch 1268: 100%|██████████| 373/373 [00:02<00:00, 179.18it/s]\n",
      "Training Epoch 1269: 100%|██████████| 373/373 [00:02<00:00, 171.09it/s]\n",
      "Training Epoch 1270: 100%|██████████| 373/373 [00:02<00:00, 178.41it/s]\n",
      "Training Epoch 1271: 100%|██████████| 373/373 [00:02<00:00, 170.97it/s]\n"
     ]
    },
    {
     "name": "stdout",
     "output_type": "stream",
     "text": [
      "Epoch 1270 - Train Loss: 0.3671, Train MSE: 0.3630, Train MAE: 0.3937\n",
      "Epoch 1270 - Validation Loss: 1.2053, Validation MSE: 1.2074, Validation MAE: 0.7381\n"
     ]
    },
    {
     "name": "stderr",
     "output_type": "stream",
     "text": [
      "Training Epoch 1272: 100%|██████████| 373/373 [00:02<00:00, 178.36it/s]\n",
      "Training Epoch 1273: 100%|██████████| 373/373 [00:02<00:00, 174.27it/s]\n",
      "Training Epoch 1274: 100%|██████████| 373/373 [00:02<00:00, 175.16it/s]\n",
      "Training Epoch 1275: 100%|██████████| 373/373 [00:02<00:00, 175.17it/s]\n",
      "Training Epoch 1276: 100%|██████████| 373/373 [00:02<00:00, 173.04it/s]\n",
      "Training Epoch 1277: 100%|██████████| 373/373 [00:02<00:00, 174.36it/s]\n",
      "Training Epoch 1278: 100%|██████████| 373/373 [00:02<00:00, 178.04it/s]\n",
      "Training Epoch 1279: 100%|██████████| 373/373 [00:02<00:00, 179.60it/s]\n",
      "Training Epoch 1280: 100%|██████████| 373/373 [00:02<00:00, 176.05it/s]\n",
      "Training Epoch 1281: 100%|██████████| 373/373 [00:02<00:00, 179.70it/s]\n"
     ]
    },
    {
     "name": "stdout",
     "output_type": "stream",
     "text": [
      "Epoch 1280 - Train Loss: 0.3624, Train MSE: 0.3630, Train MAE: 0.3949\n",
      "Epoch 1280 - Validation Loss: 1.1990, Validation MSE: 1.2011, Validation MAE: 0.7361\n"
     ]
    },
    {
     "name": "stderr",
     "output_type": "stream",
     "text": [
      "Training Epoch 1282: 100%|██████████| 373/373 [00:02<00:00, 168.03it/s]\n",
      "Training Epoch 1283: 100%|██████████| 373/373 [00:02<00:00, 171.68it/s]\n",
      "Training Epoch 1284: 100%|██████████| 373/373 [00:02<00:00, 172.43it/s]\n",
      "Training Epoch 1285: 100%|██████████| 373/373 [00:02<00:00, 177.47it/s]\n",
      "Training Epoch 1286: 100%|██████████| 373/373 [00:02<00:00, 172.72it/s]\n",
      "Training Epoch 1287: 100%|██████████| 373/373 [00:02<00:00, 181.32it/s]\n",
      "Training Epoch 1288: 100%|██████████| 373/373 [00:02<00:00, 172.06it/s]\n",
      "Training Epoch 1289: 100%|██████████| 373/373 [00:02<00:00, 179.82it/s]\n",
      "Training Epoch 1290: 100%|██████████| 373/373 [00:02<00:00, 168.45it/s]\n",
      "Training Epoch 1291: 100%|██████████| 373/373 [00:02<00:00, 176.99it/s]\n"
     ]
    },
    {
     "name": "stdout",
     "output_type": "stream",
     "text": [
      "Epoch 1290 - Train Loss: 0.3615, Train MSE: 0.3624, Train MAE: 0.3941\n",
      "Epoch 1290 - Validation Loss: 1.2049, Validation MSE: 1.2070, Validation MAE: 0.7399\n"
     ]
    },
    {
     "name": "stderr",
     "output_type": "stream",
     "text": [
      "Training Epoch 1292: 100%|██████████| 373/373 [00:02<00:00, 174.56it/s]\n",
      "Training Epoch 1293: 100%|██████████| 373/373 [00:02<00:00, 179.11it/s]\n",
      "Training Epoch 1294: 100%|██████████| 373/373 [00:02<00:00, 173.54it/s]\n",
      "Training Epoch 1295: 100%|██████████| 373/373 [00:02<00:00, 178.02it/s]\n",
      "Training Epoch 1296: 100%|██████████| 373/373 [00:02<00:00, 178.12it/s]\n",
      "Training Epoch 1297: 100%|██████████| 373/373 [00:02<00:00, 169.93it/s]\n",
      "Training Epoch 1298: 100%|██████████| 373/373 [00:02<00:00, 181.17it/s]\n",
      "Training Epoch 1299: 100%|██████████| 373/373 [00:02<00:00, 175.79it/s]\n",
      "Training Epoch 1300: 100%|██████████| 373/373 [00:02<00:00, 180.57it/s]\n",
      "Training Epoch 1301: 100%|██████████| 373/373 [00:02<00:00, 176.52it/s]\n"
     ]
    },
    {
     "name": "stdout",
     "output_type": "stream",
     "text": [
      "Epoch 1300 - Train Loss: 0.3641, Train MSE: 0.3649, Train MAE: 0.3953\n",
      "Epoch 1300 - Validation Loss: 1.1930, Validation MSE: 1.1953, Validation MAE: 0.7316\n"
     ]
    },
    {
     "name": "stderr",
     "output_type": "stream",
     "text": [
      "Training Epoch 1302: 100%|██████████| 373/373 [00:02<00:00, 178.55it/s]\n",
      "Training Epoch 1303: 100%|██████████| 373/373 [00:02<00:00, 173.63it/s]\n",
      "Training Epoch 1304: 100%|██████████| 373/373 [00:02<00:00, 176.84it/s]\n",
      "Training Epoch 1305: 100%|██████████| 373/373 [00:02<00:00, 171.04it/s]\n",
      "Training Epoch 1306: 100%|██████████| 373/373 [00:02<00:00, 180.57it/s]\n",
      "Training Epoch 1307: 100%|██████████| 373/373 [00:02<00:00, 181.06it/s]\n",
      "Training Epoch 1308: 100%|██████████| 373/373 [00:02<00:00, 172.71it/s]\n",
      "Training Epoch 1309: 100%|██████████| 373/373 [00:02<00:00, 181.32it/s]\n",
      "Training Epoch 1310: 100%|██████████| 373/373 [00:02<00:00, 175.17it/s]\n",
      "Training Epoch 1311: 100%|██████████| 373/373 [00:02<00:00, 173.26it/s]\n"
     ]
    },
    {
     "name": "stdout",
     "output_type": "stream",
     "text": [
      "Epoch 1310 - Train Loss: 0.3654, Train MSE: 0.3655, Train MAE: 0.3938\n",
      "Epoch 1310 - Validation Loss: 1.1886, Validation MSE: 1.1908, Validation MAE: 0.7309\n"
     ]
    },
    {
     "name": "stderr",
     "output_type": "stream",
     "text": [
      "Training Epoch 1312: 100%|██████████| 373/373 [00:02<00:00, 172.79it/s]\n",
      "Training Epoch 1313: 100%|██████████| 373/373 [00:02<00:00, 179.15it/s]\n",
      "Training Epoch 1314: 100%|██████████| 373/373 [00:02<00:00, 172.65it/s]\n",
      "Training Epoch 1315: 100%|██████████| 373/373 [00:02<00:00, 183.29it/s]\n",
      "Training Epoch 1316: 100%|██████████| 373/373 [00:02<00:00, 170.58it/s]\n",
      "Training Epoch 1317: 100%|██████████| 373/373 [00:02<00:00, 181.17it/s]\n",
      "Training Epoch 1318: 100%|██████████| 373/373 [00:02<00:00, 173.83it/s]\n",
      "Training Epoch 1319: 100%|██████████| 373/373 [00:02<00:00, 178.19it/s]\n",
      "Training Epoch 1320: 100%|██████████| 373/373 [00:02<00:00, 177.95it/s]\n",
      "Training Epoch 1321: 100%|██████████| 373/373 [00:02<00:00, 175.71it/s]\n"
     ]
    },
    {
     "name": "stdout",
     "output_type": "stream",
     "text": [
      "Epoch 1320 - Train Loss: 0.3644, Train MSE: 0.3649, Train MAE: 0.3943\n",
      "Epoch 1320 - Validation Loss: 1.2070, Validation MSE: 1.2090, Validation MAE: 0.7406\n"
     ]
    },
    {
     "name": "stderr",
     "output_type": "stream",
     "text": [
      "Training Epoch 1322: 100%|██████████| 373/373 [00:02<00:00, 176.72it/s]\n",
      "Training Epoch 1323: 100%|██████████| 373/373 [00:02<00:00, 173.70it/s]\n",
      "Training Epoch 1324: 100%|██████████| 373/373 [00:02<00:00, 178.63it/s]\n",
      "Training Epoch 1325: 100%|██████████| 373/373 [00:02<00:00, 168.30it/s]\n",
      "Training Epoch 1326: 100%|██████████| 373/373 [00:02<00:00, 179.12it/s]\n",
      "Training Epoch 1327: 100%|██████████| 373/373 [00:02<00:00, 171.93it/s]\n",
      "Training Epoch 1328: 100%|██████████| 373/373 [00:02<00:00, 178.64it/s]\n",
      "Training Epoch 1329: 100%|██████████| 373/373 [00:02<00:00, 174.37it/s]\n",
      "Training Epoch 1330: 100%|██████████| 373/373 [00:02<00:00, 178.57it/s]\n",
      "Training Epoch 1331: 100%|██████████| 373/373 [00:02<00:00, 176.82it/s]\n"
     ]
    },
    {
     "name": "stdout",
     "output_type": "stream",
     "text": [
      "Epoch 1330 - Train Loss: 0.3606, Train MSE: 0.3614, Train MAE: 0.3915\n",
      "Epoch 1330 - Validation Loss: 1.2019, Validation MSE: 1.2037, Validation MAE: 0.7429\n"
     ]
    },
    {
     "name": "stderr",
     "output_type": "stream",
     "text": [
      "Training Epoch 1332: 100%|██████████| 373/373 [00:02<00:00, 176.02it/s]\n",
      "Training Epoch 1333: 100%|██████████| 373/373 [00:02<00:00, 179.77it/s]\n",
      "Training Epoch 1334: 100%|██████████| 373/373 [00:02<00:00, 172.95it/s]\n",
      "Training Epoch 1335: 100%|██████████| 373/373 [00:02<00:00, 179.32it/s]\n",
      "Training Epoch 1336: 100%|██████████| 373/373 [00:02<00:00, 175.58it/s]\n",
      "Training Epoch 1337: 100%|██████████| 373/373 [00:02<00:00, 179.12it/s]\n",
      "Training Epoch 1338: 100%|██████████| 373/373 [00:02<00:00, 175.94it/s]\n",
      "Training Epoch 1339: 100%|██████████| 373/373 [00:02<00:00, 173.13it/s]\n",
      "Training Epoch 1340: 100%|██████████| 373/373 [00:02<00:00, 172.69it/s]\n",
      "Training Epoch 1341: 100%|██████████| 373/373 [00:02<00:00, 170.60it/s]\n"
     ]
    },
    {
     "name": "stdout",
     "output_type": "stream",
     "text": [
      "Epoch 1340 - Train Loss: 0.3540, Train MSE: 0.3540, Train MAE: 0.3903\n",
      "Epoch 1340 - Validation Loss: 1.1921, Validation MSE: 1.1942, Validation MAE: 0.7365\n"
     ]
    },
    {
     "name": "stderr",
     "output_type": "stream",
     "text": [
      "Training Epoch 1342: 100%|██████████| 373/373 [00:02<00:00, 172.51it/s]\n",
      "Training Epoch 1343: 100%|██████████| 373/373 [00:02<00:00, 178.97it/s]\n",
      "Training Epoch 1344: 100%|██████████| 373/373 [00:02<00:00, 173.28it/s]\n",
      "Training Epoch 1345: 100%|██████████| 373/373 [00:02<00:00, 177.51it/s]\n",
      "Training Epoch 1346: 100%|██████████| 373/373 [00:02<00:00, 169.86it/s]\n",
      "Training Epoch 1347: 100%|██████████| 373/373 [00:02<00:00, 176.12it/s]\n",
      "Training Epoch 1348: 100%|██████████| 373/373 [00:02<00:00, 177.19it/s]\n",
      "Training Epoch 1349: 100%|██████████| 373/373 [00:02<00:00, 175.10it/s]\n",
      "Training Epoch 1350: 100%|██████████| 373/373 [00:02<00:00, 178.81it/s]\n",
      "Training Epoch 1351: 100%|██████████| 373/373 [00:02<00:00, 173.82it/s]\n"
     ]
    },
    {
     "name": "stdout",
     "output_type": "stream",
     "text": [
      "Epoch 1350 - Train Loss: 0.3571, Train MSE: 0.3573, Train MAE: 0.3910\n",
      "Epoch 1350 - Validation Loss: 1.1983, Validation MSE: 1.2003, Validation MAE: 0.7394\n"
     ]
    },
    {
     "name": "stderr",
     "output_type": "stream",
     "text": [
      "Training Epoch 1352: 100%|██████████| 373/373 [00:02<00:00, 180.18it/s]\n",
      "Training Epoch 1353: 100%|██████████| 373/373 [00:02<00:00, 174.32it/s]\n",
      "Training Epoch 1354: 100%|██████████| 373/373 [00:02<00:00, 178.06it/s]\n",
      "Training Epoch 1355: 100%|██████████| 373/373 [00:02<00:00, 174.15it/s]\n",
      "Training Epoch 1356: 100%|██████████| 373/373 [00:02<00:00, 177.63it/s]\n",
      "Training Epoch 1357: 100%|██████████| 373/373 [00:02<00:00, 172.05it/s]\n",
      "Training Epoch 1358: 100%|██████████| 373/373 [00:02<00:00, 180.72it/s]\n",
      "Training Epoch 1359: 100%|██████████| 373/373 [00:02<00:00, 178.55it/s]\n",
      "Training Epoch 1360: 100%|██████████| 373/373 [00:02<00:00, 169.62it/s]\n",
      "Training Epoch 1361: 100%|██████████| 373/373 [00:02<00:00, 176.54it/s]\n"
     ]
    },
    {
     "name": "stdout",
     "output_type": "stream",
     "text": [
      "Epoch 1360 - Train Loss: 0.3551, Train MSE: 0.3557, Train MAE: 0.3914\n",
      "Epoch 1360 - Validation Loss: 1.1993, Validation MSE: 1.2013, Validation MAE: 0.7397\n"
     ]
    },
    {
     "name": "stderr",
     "output_type": "stream",
     "text": [
      "Training Epoch 1362: 100%|██████████| 373/373 [00:02<00:00, 173.89it/s]\n",
      "Training Epoch 1363: 100%|██████████| 373/373 [00:02<00:00, 179.70it/s]\n",
      "Training Epoch 1364: 100%|██████████| 373/373 [00:02<00:00, 172.33it/s]\n",
      "Training Epoch 1365: 100%|██████████| 373/373 [00:02<00:00, 172.96it/s]\n",
      "Training Epoch 1366: 100%|██████████| 373/373 [00:02<00:00, 177.15it/s]\n",
      "Training Epoch 1367: 100%|██████████| 373/373 [00:02<00:00, 175.70it/s]\n",
      "Training Epoch 1368: 100%|██████████| 373/373 [00:02<00:00, 173.54it/s]\n",
      "Training Epoch 1369: 100%|██████████| 373/373 [00:02<00:00, 176.47it/s]\n",
      "Training Epoch 1370: 100%|██████████| 373/373 [00:02<00:00, 170.53it/s]\n",
      "Training Epoch 1371: 100%|██████████| 373/373 [00:02<00:00, 181.37it/s]\n"
     ]
    },
    {
     "name": "stdout",
     "output_type": "stream",
     "text": [
      "Epoch 1370 - Train Loss: 0.3486, Train MSE: 0.3493, Train MAE: 0.3856\n",
      "Epoch 1370 - Validation Loss: 1.1983, Validation MSE: 1.2002, Validation MAE: 0.7379\n"
     ]
    },
    {
     "name": "stderr",
     "output_type": "stream",
     "text": [
      "Training Epoch 1372: 100%|██████████| 373/373 [00:02<00:00, 173.12it/s]\n",
      "Training Epoch 1373: 100%|██████████| 373/373 [00:02<00:00, 178.35it/s]\n",
      "Training Epoch 1374: 100%|██████████| 373/373 [00:02<00:00, 174.04it/s]\n",
      "Training Epoch 1375: 100%|██████████| 373/373 [00:02<00:00, 171.71it/s]\n",
      "Training Epoch 1376: 100%|██████████| 373/373 [00:02<00:00, 176.35it/s]\n",
      "Training Epoch 1377: 100%|██████████| 373/373 [00:02<00:00, 174.23it/s]\n",
      "Training Epoch 1378: 100%|██████████| 373/373 [00:02<00:00, 181.29it/s]\n",
      "Training Epoch 1379: 100%|██████████| 373/373 [00:02<00:00, 172.67it/s]\n",
      "Training Epoch 1380: 100%|██████████| 373/373 [00:02<00:00, 176.81it/s]\n",
      "Training Epoch 1381: 100%|██████████| 373/373 [00:02<00:00, 171.85it/s]\n"
     ]
    },
    {
     "name": "stdout",
     "output_type": "stream",
     "text": [
      "Epoch 1380 - Train Loss: 0.3567, Train MSE: 0.3574, Train MAE: 0.3906\n",
      "Epoch 1380 - Validation Loss: 1.2214, Validation MSE: 1.2236, Validation MAE: 0.7384\n"
     ]
    },
    {
     "name": "stderr",
     "output_type": "stream",
     "text": [
      "Training Epoch 1382: 100%|██████████| 373/373 [00:02<00:00, 174.62it/s]\n",
      "Training Epoch 1383: 100%|██████████| 373/373 [00:02<00:00, 175.94it/s]\n",
      "Training Epoch 1384: 100%|██████████| 373/373 [00:02<00:00, 177.82it/s]\n",
      "Training Epoch 1385: 100%|██████████| 373/373 [00:02<00:00, 170.23it/s]\n",
      "Training Epoch 1386: 100%|██████████| 373/373 [00:02<00:00, 177.06it/s]\n",
      "Training Epoch 1387: 100%|██████████| 373/373 [00:02<00:00, 172.79it/s]\n",
      "Training Epoch 1388: 100%|██████████| 373/373 [00:02<00:00, 174.26it/s]\n",
      "Training Epoch 1389: 100%|██████████| 373/373 [00:02<00:00, 177.97it/s]\n",
      "Training Epoch 1390: 100%|██████████| 373/373 [00:02<00:00, 172.09it/s]\n",
      "Training Epoch 1391: 100%|██████████| 373/373 [00:02<00:00, 177.16it/s]\n"
     ]
    },
    {
     "name": "stdout",
     "output_type": "stream",
     "text": [
      "Epoch 1390 - Train Loss: 0.3526, Train MSE: 0.3533, Train MAE: 0.3905\n",
      "Epoch 1390 - Validation Loss: 1.1901, Validation MSE: 1.1923, Validation MAE: 0.7383\n"
     ]
    },
    {
     "name": "stderr",
     "output_type": "stream",
     "text": [
      "Training Epoch 1392: 100%|██████████| 373/373 [00:02<00:00, 173.49it/s]\n",
      "Training Epoch 1393: 100%|██████████| 373/373 [00:02<00:00, 179.56it/s]\n",
      "Training Epoch 1394: 100%|██████████| 373/373 [00:02<00:00, 175.18it/s]\n",
      "Training Epoch 1395: 100%|██████████| 373/373 [00:02<00:00, 171.52it/s]\n",
      "Training Epoch 1396: 100%|██████████| 373/373 [00:02<00:00, 173.24it/s]\n",
      "Training Epoch 1397: 100%|██████████| 373/373 [00:02<00:00, 178.65it/s]\n",
      "Training Epoch 1398: 100%|██████████| 373/373 [00:02<00:00, 175.61it/s]\n",
      "Training Epoch 1399: 100%|██████████| 373/373 [00:02<00:00, 178.93it/s]\n",
      "Training Epoch 1400: 100%|██████████| 373/373 [00:02<00:00, 171.60it/s]\n",
      "Training Epoch 1401: 100%|██████████| 373/373 [00:02<00:00, 185.09it/s]\n"
     ]
    },
    {
     "name": "stdout",
     "output_type": "stream",
     "text": [
      "Epoch 1400 - Train Loss: 0.3472, Train MSE: 0.3479, Train MAE: 0.3847\n",
      "Epoch 1400 - Validation Loss: 1.1706, Validation MSE: 1.1724, Validation MAE: 0.7368\n"
     ]
    },
    {
     "name": "stderr",
     "output_type": "stream",
     "text": [
      "Training Epoch 1402: 100%|██████████| 373/373 [00:02<00:00, 162.94it/s]\n",
      "Training Epoch 1403: 100%|██████████| 373/373 [00:02<00:00, 172.33it/s]\n",
      "Training Epoch 1404: 100%|██████████| 373/373 [00:02<00:00, 175.72it/s]\n",
      "Training Epoch 1405: 100%|██████████| 373/373 [00:02<00:00, 183.62it/s]\n",
      "Training Epoch 1406: 100%|██████████| 373/373 [00:02<00:00, 185.56it/s]\n",
      "Training Epoch 1407: 100%|██████████| 373/373 [00:02<00:00, 182.64it/s]\n",
      "Training Epoch 1408: 100%|██████████| 373/373 [00:02<00:00, 177.36it/s]\n",
      "Training Epoch 1409: 100%|██████████| 373/373 [00:02<00:00, 184.58it/s]\n",
      "Training Epoch 1410: 100%|██████████| 373/373 [00:01<00:00, 188.69it/s]\n",
      "Training Epoch 1411: 100%|██████████| 373/373 [00:01<00:00, 193.78it/s]\n"
     ]
    },
    {
     "name": "stdout",
     "output_type": "stream",
     "text": [
      "Epoch 1410 - Train Loss: 0.3481, Train MSE: 0.3488, Train MAE: 0.3860\n",
      "Epoch 1410 - Validation Loss: 1.1810, Validation MSE: 1.1828, Validation MAE: 0.7347\n"
     ]
    },
    {
     "name": "stderr",
     "output_type": "stream",
     "text": [
      "Training Epoch 1412: 100%|██████████| 373/373 [00:02<00:00, 181.69it/s]\n",
      "Training Epoch 1413: 100%|██████████| 373/373 [00:01<00:00, 187.15it/s]\n",
      "Training Epoch 1414: 100%|██████████| 373/373 [00:02<00:00, 185.09it/s]\n",
      "Training Epoch 1415: 100%|██████████| 373/373 [00:02<00:00, 181.44it/s]\n",
      "Training Epoch 1416: 100%|██████████| 373/373 [00:02<00:00, 179.89it/s]\n",
      "Training Epoch 1417: 100%|██████████| 373/373 [00:01<00:00, 186.65it/s]\n",
      "Training Epoch 1418: 100%|██████████| 373/373 [00:01<00:00, 187.74it/s]\n",
      "Training Epoch 1419: 100%|██████████| 373/373 [00:01<00:00, 186.79it/s]\n",
      "Training Epoch 1420: 100%|██████████| 373/373 [00:02<00:00, 184.47it/s]\n",
      "Training Epoch 1421: 100%|██████████| 373/373 [00:02<00:00, 183.71it/s]\n"
     ]
    },
    {
     "name": "stdout",
     "output_type": "stream",
     "text": [
      "Epoch 1420 - Train Loss: 0.3448, Train MSE: 0.3449, Train MAE: 0.3839\n",
      "Epoch 1420 - Validation Loss: 1.2006, Validation MSE: 1.2022, Validation MAE: 0.7372\n"
     ]
    },
    {
     "name": "stderr",
     "output_type": "stream",
     "text": [
      "Training Epoch 1422: 100%|██████████| 373/373 [00:01<00:00, 187.78it/s]\n",
      "Training Epoch 1423: 100%|██████████| 373/373 [00:01<00:00, 186.75it/s]\n",
      "Training Epoch 1424: 100%|██████████| 373/373 [00:02<00:00, 181.24it/s]\n",
      "Training Epoch 1425: 100%|██████████| 373/373 [00:02<00:00, 185.16it/s]\n",
      "Training Epoch 1426: 100%|██████████| 373/373 [00:01<00:00, 188.00it/s]\n",
      "Training Epoch 1427: 100%|██████████| 373/373 [00:01<00:00, 186.76it/s]\n",
      "Training Epoch 1428: 100%|██████████| 373/373 [00:01<00:00, 190.64it/s]\n",
      "Training Epoch 1429: 100%|██████████| 373/373 [00:02<00:00, 182.39it/s]\n",
      "Training Epoch 1430: 100%|██████████| 373/373 [00:01<00:00, 188.72it/s]\n",
      "Training Epoch 1431: 100%|██████████| 373/373 [00:02<00:00, 185.23it/s]\n"
     ]
    },
    {
     "name": "stdout",
     "output_type": "stream",
     "text": [
      "Epoch 1430 - Train Loss: 0.3591, Train MSE: 0.3582, Train MAE: 0.3920\n",
      "Epoch 1430 - Validation Loss: 1.1981, Validation MSE: 1.2002, Validation MAE: 0.7395\n"
     ]
    },
    {
     "name": "stderr",
     "output_type": "stream",
     "text": [
      "Training Epoch 1432: 100%|██████████| 373/373 [00:02<00:00, 174.68it/s]\n",
      "Training Epoch 1433: 100%|██████████| 373/373 [00:02<00:00, 177.71it/s]\n",
      "Training Epoch 1434: 100%|██████████| 373/373 [00:01<00:00, 188.29it/s]\n",
      "Training Epoch 1435: 100%|██████████| 373/373 [00:01<00:00, 186.67it/s]\n",
      "Training Epoch 1436: 100%|██████████| 373/373 [00:02<00:00, 184.91it/s]\n",
      "Training Epoch 1437: 100%|██████████| 373/373 [00:02<00:00, 186.14it/s]\n",
      "Training Epoch 1438: 100%|██████████| 373/373 [00:01<00:00, 187.43it/s]\n",
      "Training Epoch 1439: 100%|██████████| 373/373 [00:01<00:00, 186.64it/s]\n",
      "Training Epoch 1440: 100%|██████████| 373/373 [00:01<00:00, 190.99it/s]\n",
      "Training Epoch 1441: 100%|██████████| 373/373 [00:02<00:00, 181.85it/s]\n"
     ]
    },
    {
     "name": "stdout",
     "output_type": "stream",
     "text": [
      "Epoch 1440 - Train Loss: 0.3492, Train MSE: 0.3499, Train MAE: 0.3887\n",
      "Epoch 1440 - Validation Loss: 1.1845, Validation MSE: 1.1864, Validation MAE: 0.7347\n"
     ]
    },
    {
     "name": "stderr",
     "output_type": "stream",
     "text": [
      "Training Epoch 1442: 100%|██████████| 373/373 [00:02<00:00, 176.88it/s]\n",
      "Training Epoch 1443: 100%|██████████| 373/373 [00:02<00:00, 144.71it/s]\n",
      "Training Epoch 1444: 100%|██████████| 373/373 [00:02<00:00, 174.79it/s]\n",
      "Training Epoch 1445: 100%|██████████| 373/373 [00:02<00:00, 166.51it/s]\n",
      "Training Epoch 1446: 100%|██████████| 373/373 [00:02<00:00, 177.26it/s]\n",
      "Training Epoch 1447: 100%|██████████| 373/373 [00:02<00:00, 173.80it/s]\n",
      "Training Epoch 1448: 100%|██████████| 373/373 [00:02<00:00, 175.68it/s]\n",
      "Training Epoch 1449: 100%|██████████| 373/373 [00:02<00:00, 175.12it/s]\n",
      "Training Epoch 1450: 100%|██████████| 373/373 [00:02<00:00, 175.76it/s]\n",
      "Training Epoch 1451: 100%|██████████| 373/373 [00:02<00:00, 174.95it/s]\n"
     ]
    },
    {
     "name": "stdout",
     "output_type": "stream",
     "text": [
      "Epoch 1450 - Train Loss: 0.3496, Train MSE: 0.3503, Train MAE: 0.3859\n",
      "Epoch 1450 - Validation Loss: 1.2140, Validation MSE: 1.2157, Validation MAE: 0.7403\n"
     ]
    },
    {
     "name": "stderr",
     "output_type": "stream",
     "text": [
      "Training Epoch 1452: 100%|██████████| 373/373 [00:02<00:00, 172.20it/s]\n",
      "Training Epoch 1453: 100%|██████████| 373/373 [00:02<00:00, 170.76it/s]\n",
      "Training Epoch 1454: 100%|██████████| 373/373 [00:02<00:00, 177.62it/s]\n",
      "Training Epoch 1455: 100%|██████████| 373/373 [00:02<00:00, 174.27it/s]\n",
      "Training Epoch 1456: 100%|██████████| 373/373 [00:02<00:00, 173.62it/s]\n",
      "Training Epoch 1457: 100%|██████████| 373/373 [00:02<00:00, 173.78it/s]\n",
      "Training Epoch 1458: 100%|██████████| 373/373 [00:02<00:00, 177.25it/s]\n",
      "Training Epoch 1459: 100%|██████████| 373/373 [00:02<00:00, 173.75it/s]\n",
      "Training Epoch 1460: 100%|██████████| 373/373 [00:02<00:00, 173.01it/s]\n",
      "Training Epoch 1461: 100%|██████████| 373/373 [00:02<00:00, 175.08it/s]\n"
     ]
    },
    {
     "name": "stdout",
     "output_type": "stream",
     "text": [
      "Epoch 1460 - Train Loss: 0.3442, Train MSE: 0.3435, Train MAE: 0.3829\n",
      "Epoch 1460 - Validation Loss: 1.1869, Validation MSE: 1.1886, Validation MAE: 0.7397\n"
     ]
    },
    {
     "name": "stderr",
     "output_type": "stream",
     "text": [
      "Training Epoch 1462: 100%|██████████| 373/373 [00:02<00:00, 181.45it/s]\n",
      "Training Epoch 1463: 100%|██████████| 373/373 [00:02<00:00, 175.76it/s]\n",
      "Training Epoch 1464: 100%|██████████| 373/373 [00:02<00:00, 174.37it/s]\n",
      "Training Epoch 1465: 100%|██████████| 373/373 [00:02<00:00, 174.22it/s]\n",
      "Training Epoch 1466: 100%|██████████| 373/373 [00:02<00:00, 173.26it/s]\n",
      "Training Epoch 1467: 100%|██████████| 373/373 [00:02<00:00, 171.56it/s]\n",
      "Training Epoch 1468: 100%|██████████| 373/373 [00:02<00:00, 175.33it/s]\n",
      "Training Epoch 1469: 100%|██████████| 373/373 [00:02<00:00, 176.45it/s]\n",
      "Training Epoch 1470: 100%|██████████| 373/373 [00:02<00:00, 173.67it/s]\n",
      "Training Epoch 1471: 100%|██████████| 373/373 [00:02<00:00, 174.82it/s]\n"
     ]
    },
    {
     "name": "stdout",
     "output_type": "stream",
     "text": [
      "Epoch 1470 - Train Loss: 0.3450, Train MSE: 0.3458, Train MAE: 0.3844\n",
      "Epoch 1470 - Validation Loss: 1.1961, Validation MSE: 1.1980, Validation MAE: 0.7420\n"
     ]
    },
    {
     "name": "stderr",
     "output_type": "stream",
     "text": [
      "Training Epoch 1472: 100%|██████████| 373/373 [00:02<00:00, 164.41it/s]\n",
      "Training Epoch 1473: 100%|██████████| 373/373 [00:02<00:00, 164.25it/s]\n",
      "Training Epoch 1474: 100%|██████████| 373/373 [00:02<00:00, 171.01it/s]\n",
      "Training Epoch 1475: 100%|██████████| 373/373 [00:02<00:00, 169.70it/s]\n",
      "Training Epoch 1476: 100%|██████████| 373/373 [00:02<00:00, 174.03it/s]\n",
      "Training Epoch 1477: 100%|██████████| 373/373 [00:02<00:00, 167.31it/s]\n",
      "Training Epoch 1478: 100%|██████████| 373/373 [00:02<00:00, 173.06it/s]\n",
      "Training Epoch 1479: 100%|██████████| 373/373 [00:02<00:00, 164.69it/s]\n",
      "Training Epoch 1480: 100%|██████████| 373/373 [00:02<00:00, 169.77it/s]\n",
      "Training Epoch 1481: 100%|██████████| 373/373 [00:02<00:00, 172.05it/s]\n"
     ]
    },
    {
     "name": "stdout",
     "output_type": "stream",
     "text": [
      "Epoch 1480 - Train Loss: 0.3451, Train MSE: 0.3442, Train MAE: 0.3837\n",
      "Epoch 1480 - Validation Loss: 1.1851, Validation MSE: 1.1872, Validation MAE: 0.7334\n"
     ]
    },
    {
     "name": "stderr",
     "output_type": "stream",
     "text": [
      "Training Epoch 1482: 100%|██████████| 373/373 [00:02<00:00, 174.21it/s]\n",
      "Training Epoch 1483: 100%|██████████| 373/373 [00:02<00:00, 155.39it/s]\n",
      "Training Epoch 1484: 100%|██████████| 373/373 [00:02<00:00, 183.90it/s]\n",
      "Training Epoch 1485: 100%|██████████| 373/373 [00:02<00:00, 178.90it/s]\n",
      "Training Epoch 1486: 100%|██████████| 373/373 [00:02<00:00, 182.96it/s]\n",
      "Training Epoch 1487: 100%|██████████| 373/373 [00:02<00:00, 181.82it/s]\n",
      "Training Epoch 1488: 100%|██████████| 373/373 [00:02<00:00, 177.74it/s]\n",
      "Training Epoch 1489: 100%|██████████| 373/373 [00:02<00:00, 180.76it/s]\n",
      "Training Epoch 1490: 100%|██████████| 373/373 [00:02<00:00, 181.75it/s]\n",
      "Training Epoch 1491: 100%|██████████| 373/373 [00:01<00:00, 188.46it/s]\n"
     ]
    },
    {
     "name": "stdout",
     "output_type": "stream",
     "text": [
      "Epoch 1490 - Train Loss: 0.3478, Train MSE: 0.3477, Train MAE: 0.3859\n",
      "Epoch 1490 - Validation Loss: 1.2106, Validation MSE: 1.2130, Validation MAE: 0.7432\n"
     ]
    },
    {
     "name": "stderr",
     "output_type": "stream",
     "text": [
      "Training Epoch 1492: 100%|██████████| 373/373 [00:02<00:00, 177.43it/s]\n",
      "Training Epoch 1493: 100%|██████████| 373/373 [00:02<00:00, 185.68it/s]\n",
      "Training Epoch 1494: 100%|██████████| 373/373 [00:02<00:00, 173.80it/s]\n",
      "Training Epoch 1495: 100%|██████████| 373/373 [00:02<00:00, 182.55it/s]\n",
      "Training Epoch 1496: 100%|██████████| 373/373 [00:02<00:00, 178.38it/s]\n",
      "Training Epoch 1497: 100%|██████████| 373/373 [00:02<00:00, 177.18it/s]\n",
      "Training Epoch 1498: 100%|██████████| 373/373 [00:02<00:00, 173.16it/s]\n",
      "Training Epoch 1499: 100%|██████████| 373/373 [00:02<00:00, 179.39it/s]\n",
      "Training Epoch 1500: 100%|██████████| 373/373 [00:02<00:00, 174.91it/s]\n",
      "Training Epoch 1501: 100%|██████████| 373/373 [00:02<00:00, 166.63it/s]\n"
     ]
    },
    {
     "name": "stdout",
     "output_type": "stream",
     "text": [
      "Epoch 1500 - Train Loss: 0.3493, Train MSE: 0.3485, Train MAE: 0.3866\n",
      "Epoch 1500 - Validation Loss: 1.2128, Validation MSE: 1.2145, Validation MAE: 0.7449\n"
     ]
    },
    {
     "name": "stderr",
     "output_type": "stream",
     "text": [
      "Training Epoch 1502: 100%|██████████| 373/373 [00:02<00:00, 179.93it/s]\n",
      "Training Epoch 1503: 100%|██████████| 373/373 [00:01<00:00, 191.28it/s]\n",
      "Training Epoch 1504: 100%|██████████| 373/373 [00:02<00:00, 173.07it/s]\n",
      "Training Epoch 1505: 100%|██████████| 373/373 [00:02<00:00, 178.44it/s]\n",
      "Training Epoch 1506: 100%|██████████| 373/373 [00:02<00:00, 177.80it/s]\n",
      "Training Epoch 1507: 100%|██████████| 373/373 [00:02<00:00, 184.98it/s]\n",
      "Training Epoch 1508: 100%|██████████| 373/373 [00:02<00:00, 177.67it/s]\n",
      "Training Epoch 1509: 100%|██████████| 373/373 [00:02<00:00, 181.42it/s]\n",
      "Training Epoch 1510: 100%|██████████| 373/373 [00:02<00:00, 174.90it/s]\n",
      "Training Epoch 1511: 100%|██████████| 373/373 [00:02<00:00, 185.57it/s]\n"
     ]
    },
    {
     "name": "stdout",
     "output_type": "stream",
     "text": [
      "Epoch 1510 - Train Loss: 0.3390, Train MSE: 0.3395, Train MAE: 0.3819\n",
      "Epoch 1510 - Validation Loss: 1.1963, Validation MSE: 1.1981, Validation MAE: 0.7377\n"
     ]
    },
    {
     "name": "stderr",
     "output_type": "stream",
     "text": [
      "Training Epoch 1512: 100%|██████████| 373/373 [00:02<00:00, 181.31it/s]\n",
      "Training Epoch 1513: 100%|██████████| 373/373 [00:02<00:00, 184.53it/s]\n",
      "Training Epoch 1514: 100%|██████████| 373/373 [00:02<00:00, 183.75it/s]\n",
      "Training Epoch 1515: 100%|██████████| 373/373 [00:02<00:00, 182.35it/s]\n",
      "Training Epoch 1516: 100%|██████████| 373/373 [00:02<00:00, 180.42it/s]\n",
      "Training Epoch 1517: 100%|██████████| 373/373 [00:02<00:00, 180.28it/s]\n",
      "Training Epoch 1518: 100%|██████████| 373/373 [00:02<00:00, 184.84it/s]\n",
      "Training Epoch 1519: 100%|██████████| 373/373 [00:02<00:00, 183.89it/s]\n",
      "Training Epoch 1520: 100%|██████████| 373/373 [00:02<00:00, 177.95it/s]\n",
      "Training Epoch 1521: 100%|██████████| 373/373 [00:02<00:00, 184.17it/s]\n"
     ]
    },
    {
     "name": "stdout",
     "output_type": "stream",
     "text": [
      "Epoch 1520 - Train Loss: 0.3501, Train MSE: 0.3502, Train MAE: 0.3865\n",
      "Epoch 1520 - Validation Loss: 1.1686, Validation MSE: 1.1705, Validation MAE: 0.7304\n"
     ]
    },
    {
     "name": "stderr",
     "output_type": "stream",
     "text": [
      "Training Epoch 1522: 100%|██████████| 373/373 [00:02<00:00, 182.73it/s]\n",
      "Training Epoch 1523: 100%|██████████| 373/373 [00:02<00:00, 171.70it/s]\n",
      "Training Epoch 1524: 100%|██████████| 373/373 [00:01<00:00, 188.54it/s]\n",
      "Training Epoch 1525: 100%|██████████| 373/373 [00:02<00:00, 182.09it/s]\n",
      "Training Epoch 1526: 100%|██████████| 373/373 [00:02<00:00, 183.46it/s]\n",
      "Training Epoch 1527: 100%|██████████| 373/373 [00:02<00:00, 166.13it/s]\n",
      "Training Epoch 1528: 100%|██████████| 373/373 [00:02<00:00, 175.35it/s]\n",
      "Training Epoch 1529: 100%|██████████| 373/373 [00:02<00:00, 186.08it/s]\n",
      "Training Epoch 1530: 100%|██████████| 373/373 [00:02<00:00, 177.39it/s]\n",
      "Training Epoch 1531: 100%|██████████| 373/373 [00:02<00:00, 182.62it/s]\n"
     ]
    },
    {
     "name": "stdout",
     "output_type": "stream",
     "text": [
      "Epoch 1530 - Train Loss: 0.3482, Train MSE: 0.3478, Train MAE: 0.3858\n",
      "Epoch 1530 - Validation Loss: 1.1782, Validation MSE: 1.1801, Validation MAE: 0.7319\n"
     ]
    },
    {
     "name": "stderr",
     "output_type": "stream",
     "text": [
      "Training Epoch 1532: 100%|██████████| 373/373 [00:02<00:00, 180.69it/s]\n",
      "Training Epoch 1533: 100%|██████████| 373/373 [00:02<00:00, 182.62it/s]\n",
      "Training Epoch 1534: 100%|██████████| 373/373 [00:02<00:00, 183.47it/s]\n",
      "Training Epoch 1535: 100%|██████████| 373/373 [00:01<00:00, 188.85it/s]\n",
      "Training Epoch 1536: 100%|██████████| 373/373 [00:02<00:00, 182.38it/s]\n",
      "Training Epoch 1537: 100%|██████████| 373/373 [00:02<00:00, 175.08it/s]\n",
      "Training Epoch 1538: 100%|██████████| 373/373 [00:02<00:00, 171.01it/s]\n",
      "Training Epoch 1539: 100%|██████████| 373/373 [00:02<00:00, 166.69it/s]\n",
      "Training Epoch 1540: 100%|██████████| 373/373 [00:02<00:00, 177.41it/s]\n",
      "Training Epoch 1541: 100%|██████████| 373/373 [00:02<00:00, 173.03it/s]\n"
     ]
    },
    {
     "name": "stdout",
     "output_type": "stream",
     "text": [
      "Epoch 1540 - Train Loss: 0.3455, Train MSE: 0.3459, Train MAE: 0.3873\n",
      "Epoch 1540 - Validation Loss: 1.1801, Validation MSE: 1.1819, Validation MAE: 0.7368\n"
     ]
    },
    {
     "name": "stderr",
     "output_type": "stream",
     "text": [
      "Training Epoch 1542: 100%|██████████| 373/373 [00:02<00:00, 174.71it/s]\n",
      "Training Epoch 1543: 100%|██████████| 373/373 [00:02<00:00, 176.46it/s]\n",
      "Training Epoch 1544: 100%|██████████| 373/373 [00:02<00:00, 182.34it/s]\n",
      "Training Epoch 1545: 100%|██████████| 373/373 [00:02<00:00, 184.40it/s]\n",
      "Training Epoch 1546: 100%|██████████| 373/373 [00:02<00:00, 180.10it/s]\n",
      "Training Epoch 1547: 100%|██████████| 373/373 [00:02<00:00, 182.40it/s]\n",
      "Training Epoch 1548: 100%|██████████| 373/373 [00:02<00:00, 174.56it/s]\n",
      "Training Epoch 1549: 100%|██████████| 373/373 [00:02<00:00, 179.36it/s]\n",
      "Training Epoch 1550: 100%|██████████| 373/373 [00:02<00:00, 180.02it/s]\n",
      "Training Epoch 1551: 100%|██████████| 373/373 [00:02<00:00, 177.01it/s]\n"
     ]
    },
    {
     "name": "stdout",
     "output_type": "stream",
     "text": [
      "Epoch 1550 - Train Loss: 0.3396, Train MSE: 0.3403, Train MAE: 0.3807\n",
      "Epoch 1550 - Validation Loss: 1.1836, Validation MSE: 1.1856, Validation MAE: 0.7328\n"
     ]
    },
    {
     "name": "stderr",
     "output_type": "stream",
     "text": [
      "Training Epoch 1552: 100%|██████████| 373/373 [00:02<00:00, 176.26it/s]\n",
      "Training Epoch 1553: 100%|██████████| 373/373 [00:02<00:00, 174.59it/s]\n",
      "Training Epoch 1554: 100%|██████████| 373/373 [00:02<00:00, 168.84it/s]\n",
      "Training Epoch 1555: 100%|██████████| 373/373 [00:02<00:00, 182.55it/s]\n",
      "Training Epoch 1556: 100%|██████████| 373/373 [00:02<00:00, 181.81it/s]\n",
      "Training Epoch 1557: 100%|██████████| 373/373 [00:02<00:00, 183.01it/s]\n",
      "Training Epoch 1558: 100%|██████████| 373/373 [00:02<00:00, 176.48it/s]\n",
      "Training Epoch 1559: 100%|██████████| 373/373 [00:02<00:00, 179.85it/s]\n",
      "Training Epoch 1560: 100%|██████████| 373/373 [00:02<00:00, 173.20it/s]\n",
      "Training Epoch 1561: 100%|██████████| 373/373 [00:02<00:00, 174.31it/s]\n"
     ]
    },
    {
     "name": "stdout",
     "output_type": "stream",
     "text": [
      "Epoch 1560 - Train Loss: 0.3374, Train MSE: 0.3381, Train MAE: 0.3814\n",
      "Epoch 1560 - Validation Loss: 1.1869, Validation MSE: 1.1888, Validation MAE: 0.7354\n"
     ]
    },
    {
     "name": "stderr",
     "output_type": "stream",
     "text": [
      "Training Epoch 1562: 100%|██████████| 373/373 [00:02<00:00, 171.97it/s]\n",
      "Training Epoch 1563: 100%|██████████| 373/373 [00:02<00:00, 161.84it/s]\n",
      "Training Epoch 1564: 100%|██████████| 373/373 [00:02<00:00, 173.10it/s]\n",
      "Training Epoch 1565: 100%|██████████| 373/373 [00:02<00:00, 175.42it/s]\n",
      "Training Epoch 1566: 100%|██████████| 373/373 [00:02<00:00, 172.96it/s]\n",
      "Training Epoch 1567: 100%|██████████| 373/373 [00:02<00:00, 147.72it/s]\n",
      "Training Epoch 1568: 100%|██████████| 373/373 [00:02<00:00, 171.99it/s]\n",
      "Training Epoch 1569: 100%|██████████| 373/373 [00:02<00:00, 177.25it/s]\n",
      "Training Epoch 1570: 100%|██████████| 373/373 [00:02<00:00, 174.50it/s]\n",
      "Training Epoch 1571: 100%|██████████| 373/373 [00:02<00:00, 173.74it/s]\n"
     ]
    },
    {
     "name": "stdout",
     "output_type": "stream",
     "text": [
      "Epoch 1570 - Train Loss: 0.3432, Train MSE: 0.3432, Train MAE: 0.3855\n",
      "Epoch 1570 - Validation Loss: 1.1882, Validation MSE: 1.1901, Validation MAE: 0.7354\n"
     ]
    },
    {
     "name": "stderr",
     "output_type": "stream",
     "text": [
      "Training Epoch 1572: 100%|██████████| 373/373 [00:02<00:00, 172.02it/s]\n",
      "Training Epoch 1573: 100%|██████████| 373/373 [00:02<00:00, 171.57it/s]\n",
      "Training Epoch 1574: 100%|██████████| 373/373 [00:02<00:00, 169.14it/s]\n",
      "Training Epoch 1575: 100%|██████████| 373/373 [00:02<00:00, 174.38it/s]\n",
      "Training Epoch 1576: 100%|██████████| 373/373 [00:02<00:00, 169.83it/s]\n",
      "Training Epoch 1577: 100%|██████████| 373/373 [00:02<00:00, 175.33it/s]\n",
      "Training Epoch 1578: 100%|██████████| 373/373 [00:02<00:00, 175.59it/s]\n",
      "Training Epoch 1579: 100%|██████████| 373/373 [00:02<00:00, 161.78it/s]\n",
      "Training Epoch 1580: 100%|██████████| 373/373 [00:02<00:00, 172.73it/s]\n",
      "Training Epoch 1581: 100%|██████████| 373/373 [00:02<00:00, 168.92it/s]\n"
     ]
    },
    {
     "name": "stdout",
     "output_type": "stream",
     "text": [
      "Epoch 1580 - Train Loss: 0.3412, Train MSE: 0.3399, Train MAE: 0.3797\n",
      "Epoch 1580 - Validation Loss: 1.1917, Validation MSE: 1.1936, Validation MAE: 0.7323\n"
     ]
    },
    {
     "name": "stderr",
     "output_type": "stream",
     "text": [
      "Training Epoch 1582: 100%|██████████| 373/373 [00:02<00:00, 168.73it/s]\n",
      "Training Epoch 1583: 100%|██████████| 373/373 [00:02<00:00, 168.92it/s]\n",
      "Training Epoch 1584: 100%|██████████| 373/373 [00:02<00:00, 171.20it/s]\n",
      "Training Epoch 1585: 100%|██████████| 373/373 [00:02<00:00, 167.30it/s]\n",
      "Training Epoch 1586: 100%|██████████| 373/373 [00:02<00:00, 174.70it/s]\n",
      "Training Epoch 1587: 100%|██████████| 373/373 [00:02<00:00, 174.94it/s]\n",
      "Training Epoch 1588: 100%|██████████| 373/373 [00:02<00:00, 177.38it/s]\n",
      "Training Epoch 1589: 100%|██████████| 373/373 [00:02<00:00, 177.64it/s]\n",
      "Training Epoch 1590: 100%|██████████| 373/373 [00:02<00:00, 174.82it/s]\n",
      "Training Epoch 1591: 100%|██████████| 373/373 [00:02<00:00, 180.03it/s]\n"
     ]
    },
    {
     "name": "stdout",
     "output_type": "stream",
     "text": [
      "Epoch 1590 - Train Loss: 0.3453, Train MSE: 0.3461, Train MAE: 0.3844\n",
      "Epoch 1590 - Validation Loss: 1.1884, Validation MSE: 1.1900, Validation MAE: 0.7339\n"
     ]
    },
    {
     "name": "stderr",
     "output_type": "stream",
     "text": [
      "Training Epoch 1592: 100%|██████████| 373/373 [00:02<00:00, 173.62it/s]\n",
      "Training Epoch 1593: 100%|██████████| 373/373 [00:02<00:00, 173.64it/s]\n",
      "Training Epoch 1594: 100%|██████████| 373/373 [00:02<00:00, 172.84it/s]\n",
      "Training Epoch 1595: 100%|██████████| 373/373 [00:02<00:00, 175.67it/s]\n",
      "Training Epoch 1596: 100%|██████████| 373/373 [00:02<00:00, 171.11it/s]\n",
      "Training Epoch 1597: 100%|██████████| 373/373 [00:02<00:00, 173.78it/s]\n",
      "Training Epoch 1598: 100%|██████████| 373/373 [00:02<00:00, 170.81it/s]\n",
      "Training Epoch 1599: 100%|██████████| 373/373 [00:02<00:00, 168.17it/s]\n",
      "Training Epoch 1600: 100%|██████████| 373/373 [00:02<00:00, 171.80it/s]\n",
      "Training Epoch 1601: 100%|██████████| 373/373 [00:02<00:00, 176.32it/s]\n"
     ]
    },
    {
     "name": "stdout",
     "output_type": "stream",
     "text": [
      "Epoch 1600 - Train Loss: 0.3421, Train MSE: 0.3419, Train MAE: 0.3820\n",
      "Epoch 1600 - Validation Loss: 1.1779, Validation MSE: 1.1800, Validation MAE: 0.7378\n"
     ]
    },
    {
     "name": "stderr",
     "output_type": "stream",
     "text": [
      "Training Epoch 1602: 100%|██████████| 373/373 [00:02<00:00, 178.42it/s]\n",
      "Training Epoch 1603: 100%|██████████| 373/373 [00:02<00:00, 175.06it/s]\n",
      "Training Epoch 1604: 100%|██████████| 373/373 [00:02<00:00, 174.83it/s]\n",
      "Training Epoch 1605: 100%|██████████| 373/373 [00:02<00:00, 168.61it/s]\n",
      "Training Epoch 1606: 100%|██████████| 373/373 [00:02<00:00, 156.68it/s]\n",
      "Training Epoch 1607: 100%|██████████| 373/373 [00:02<00:00, 180.02it/s]\n",
      "Training Epoch 1608: 100%|██████████| 373/373 [00:02<00:00, 172.20it/s]\n",
      "Training Epoch 1609: 100%|██████████| 373/373 [00:02<00:00, 170.96it/s]\n",
      "Training Epoch 1610: 100%|██████████| 373/373 [00:02<00:00, 179.45it/s]\n",
      "Training Epoch 1611: 100%|██████████| 373/373 [00:02<00:00, 185.28it/s]\n"
     ]
    },
    {
     "name": "stdout",
     "output_type": "stream",
     "text": [
      "Epoch 1610 - Train Loss: 0.3388, Train MSE: 0.3375, Train MAE: 0.3809\n",
      "Epoch 1610 - Validation Loss: 1.1971, Validation MSE: 1.1991, Validation MAE: 0.7405\n"
     ]
    },
    {
     "name": "stderr",
     "output_type": "stream",
     "text": [
      "Training Epoch 1612: 100%|██████████| 373/373 [00:02<00:00, 179.97it/s]\n",
      "Training Epoch 1613: 100%|██████████| 373/373 [00:02<00:00, 177.40it/s]\n",
      "Training Epoch 1614: 100%|██████████| 373/373 [00:01<00:00, 187.69it/s]\n",
      "Training Epoch 1615: 100%|██████████| 373/373 [00:02<00:00, 183.13it/s]\n",
      "Training Epoch 1616: 100%|██████████| 373/373 [00:01<00:00, 188.11it/s]\n",
      "Training Epoch 1617: 100%|██████████| 373/373 [00:02<00:00, 177.46it/s]\n",
      "Training Epoch 1618: 100%|██████████| 373/373 [00:02<00:00, 179.74it/s]\n",
      "Training Epoch 1619: 100%|██████████| 373/373 [00:02<00:00, 168.79it/s]\n",
      "Training Epoch 1620: 100%|██████████| 373/373 [00:02<00:00, 167.81it/s]\n",
      "Training Epoch 1621: 100%|██████████| 373/373 [00:02<00:00, 182.31it/s]\n"
     ]
    },
    {
     "name": "stdout",
     "output_type": "stream",
     "text": [
      "Epoch 1620 - Train Loss: 0.3427, Train MSE: 0.3394, Train MAE: 0.3807\n",
      "Epoch 1620 - Validation Loss: 1.1806, Validation MSE: 1.1826, Validation MAE: 0.7360\n"
     ]
    },
    {
     "name": "stderr",
     "output_type": "stream",
     "text": [
      "Training Epoch 1622: 100%|██████████| 373/373 [00:02<00:00, 179.73it/s]\n",
      "Training Epoch 1623: 100%|██████████| 373/373 [00:02<00:00, 172.27it/s]\n",
      "Training Epoch 1624: 100%|██████████| 373/373 [00:02<00:00, 176.88it/s]\n",
      "Training Epoch 1625: 100%|██████████| 373/373 [00:02<00:00, 175.73it/s]\n",
      "Training Epoch 1626: 100%|██████████| 373/373 [00:02<00:00, 175.38it/s]\n",
      "Training Epoch 1627: 100%|██████████| 373/373 [00:02<00:00, 169.81it/s]\n",
      "Training Epoch 1628: 100%|██████████| 373/373 [00:02<00:00, 173.13it/s]\n",
      "Training Epoch 1629: 100%|██████████| 373/373 [00:02<00:00, 175.67it/s]\n",
      "Training Epoch 1630: 100%|██████████| 373/373 [00:02<00:00, 169.24it/s]\n",
      "Training Epoch 1631: 100%|██████████| 373/373 [00:02<00:00, 175.63it/s]\n"
     ]
    },
    {
     "name": "stdout",
     "output_type": "stream",
     "text": [
      "Epoch 1630 - Train Loss: 0.3307, Train MSE: 0.3308, Train MAE: 0.3778\n",
      "Epoch 1630 - Validation Loss: 1.1802, Validation MSE: 1.1819, Validation MAE: 0.7308\n"
     ]
    },
    {
     "name": "stderr",
     "output_type": "stream",
     "text": [
      "Training Epoch 1632: 100%|██████████| 373/373 [00:02<00:00, 172.05it/s]\n",
      "Training Epoch 1633: 100%|██████████| 373/373 [00:02<00:00, 174.14it/s]\n",
      "Training Epoch 1634: 100%|██████████| 373/373 [00:02<00:00, 173.23it/s]\n",
      "Training Epoch 1635: 100%|██████████| 373/373 [00:02<00:00, 174.97it/s]\n",
      "Training Epoch 1636: 100%|██████████| 373/373 [00:02<00:00, 176.12it/s]\n",
      "Training Epoch 1637: 100%|██████████| 373/373 [00:02<00:00, 177.27it/s]\n",
      "Training Epoch 1638: 100%|██████████| 373/373 [00:02<00:00, 175.73it/s]\n",
      "Training Epoch 1639: 100%|██████████| 373/373 [00:02<00:00, 171.89it/s]\n",
      "Training Epoch 1640: 100%|██████████| 373/373 [00:02<00:00, 172.31it/s]\n",
      "Training Epoch 1641: 100%|██████████| 373/373 [00:02<00:00, 165.69it/s]\n"
     ]
    },
    {
     "name": "stdout",
     "output_type": "stream",
     "text": [
      "Epoch 1640 - Train Loss: 0.3367, Train MSE: 0.3372, Train MAE: 0.3811\n",
      "Epoch 1640 - Validation Loss: 1.1798, Validation MSE: 1.1820, Validation MAE: 0.7341\n"
     ]
    },
    {
     "name": "stderr",
     "output_type": "stream",
     "text": [
      "Training Epoch 1642: 100%|██████████| 373/373 [00:02<00:00, 175.92it/s]\n",
      "Training Epoch 1643: 100%|██████████| 373/373 [00:02<00:00, 174.06it/s]\n",
      "Training Epoch 1644: 100%|██████████| 373/373 [00:02<00:00, 175.14it/s]\n",
      "Training Epoch 1645: 100%|██████████| 373/373 [00:02<00:00, 172.77it/s]\n",
      "Training Epoch 1646: 100%|██████████| 373/373 [00:02<00:00, 172.81it/s]\n",
      "Training Epoch 1647: 100%|██████████| 373/373 [00:02<00:00, 175.10it/s]\n",
      "Training Epoch 1648: 100%|██████████| 373/373 [00:02<00:00, 170.05it/s]\n",
      "Training Epoch 1649: 100%|██████████| 373/373 [00:02<00:00, 167.92it/s]\n",
      "Training Epoch 1650: 100%|██████████| 373/373 [00:02<00:00, 172.02it/s]\n",
      "Training Epoch 1651: 100%|██████████| 373/373 [00:02<00:00, 177.34it/s]\n"
     ]
    },
    {
     "name": "stdout",
     "output_type": "stream",
     "text": [
      "Epoch 1650 - Train Loss: 0.3319, Train MSE: 0.3322, Train MAE: 0.3750\n",
      "Epoch 1650 - Validation Loss: 1.1972, Validation MSE: 1.1991, Validation MAE: 0.7317\n"
     ]
    },
    {
     "name": "stderr",
     "output_type": "stream",
     "text": [
      "Training Epoch 1652: 100%|██████████| 373/373 [00:02<00:00, 178.22it/s]\n",
      "Training Epoch 1653: 100%|██████████| 373/373 [00:02<00:00, 172.02it/s]\n",
      "Training Epoch 1654: 100%|██████████| 373/373 [00:02<00:00, 180.94it/s]\n",
      "Training Epoch 1655: 100%|██████████| 373/373 [00:02<00:00, 175.18it/s]\n",
      "Training Epoch 1656: 100%|██████████| 373/373 [00:02<00:00, 178.39it/s]\n",
      "Training Epoch 1657: 100%|██████████| 373/373 [00:02<00:00, 179.58it/s]\n",
      "Training Epoch 1658: 100%|██████████| 373/373 [00:02<00:00, 186.42it/s]\n",
      "Training Epoch 1659: 100%|██████████| 373/373 [00:02<00:00, 177.09it/s]\n",
      "Training Epoch 1660: 100%|██████████| 373/373 [00:02<00:00, 166.60it/s]\n",
      "Training Epoch 1661: 100%|██████████| 373/373 [00:02<00:00, 184.17it/s]\n"
     ]
    },
    {
     "name": "stdout",
     "output_type": "stream",
     "text": [
      "Epoch 1660 - Train Loss: 0.3308, Train MSE: 0.3311, Train MAE: 0.3773\n",
      "Epoch 1660 - Validation Loss: 1.1727, Validation MSE: 1.1745, Validation MAE: 0.7326\n"
     ]
    },
    {
     "name": "stderr",
     "output_type": "stream",
     "text": [
      "Training Epoch 1662: 100%|██████████| 373/373 [00:02<00:00, 174.82it/s]\n",
      "Training Epoch 1663: 100%|██████████| 373/373 [00:02<00:00, 177.27it/s]\n",
      "Training Epoch 1664: 100%|██████████| 373/373 [00:02<00:00, 177.92it/s]\n",
      "Training Epoch 1665: 100%|██████████| 373/373 [00:02<00:00, 174.08it/s]\n",
      "Training Epoch 1666: 100%|██████████| 373/373 [00:02<00:00, 176.00it/s]\n",
      "Training Epoch 1667: 100%|██████████| 373/373 [00:02<00:00, 173.97it/s]\n",
      "Training Epoch 1668: 100%|██████████| 373/373 [00:02<00:00, 169.30it/s]\n",
      "Training Epoch 1669: 100%|██████████| 373/373 [00:02<00:00, 168.09it/s]\n",
      "Training Epoch 1670: 100%|██████████| 373/373 [00:02<00:00, 166.84it/s]\n",
      "Training Epoch 1671: 100%|██████████| 373/373 [00:02<00:00, 174.59it/s]\n"
     ]
    },
    {
     "name": "stdout",
     "output_type": "stream",
     "text": [
      "Epoch 1670 - Train Loss: 0.3319, Train MSE: 0.3320, Train MAE: 0.3775\n",
      "Epoch 1670 - Validation Loss: 1.1937, Validation MSE: 1.1956, Validation MAE: 0.7308\n"
     ]
    },
    {
     "name": "stderr",
     "output_type": "stream",
     "text": [
      "Training Epoch 1672: 100%|██████████| 373/373 [00:02<00:00, 170.49it/s]\n",
      "Training Epoch 1673: 100%|██████████| 373/373 [00:02<00:00, 174.96it/s]\n",
      "Training Epoch 1674: 100%|██████████| 373/373 [00:02<00:00, 169.92it/s]\n",
      "Training Epoch 1675: 100%|██████████| 373/373 [00:02<00:00, 178.91it/s]\n",
      "Training Epoch 1676: 100%|██████████| 373/373 [00:02<00:00, 166.30it/s]\n",
      "Training Epoch 1677: 100%|██████████| 373/373 [00:02<00:00, 172.08it/s]\n",
      "Training Epoch 1678: 100%|██████████| 373/373 [00:02<00:00, 139.79it/s]\n",
      "Training Epoch 1679: 100%|██████████| 373/373 [00:02<00:00, 160.04it/s]\n",
      "Training Epoch 1680: 100%|██████████| 373/373 [00:02<00:00, 165.88it/s]\n",
      "Training Epoch 1681: 100%|██████████| 373/373 [00:02<00:00, 167.03it/s]\n"
     ]
    },
    {
     "name": "stdout",
     "output_type": "stream",
     "text": [
      "Epoch 1680 - Train Loss: 0.3354, Train MSE: 0.3330, Train MAE: 0.3759\n",
      "Epoch 1680 - Validation Loss: 1.2144, Validation MSE: 1.2165, Validation MAE: 0.7413\n"
     ]
    },
    {
     "name": "stderr",
     "output_type": "stream",
     "text": [
      "Training Epoch 1682: 100%|██████████| 373/373 [00:02<00:00, 152.64it/s]\n",
      "Training Epoch 1683: 100%|██████████| 373/373 [00:02<00:00, 175.55it/s]\n",
      "Training Epoch 1684: 100%|██████████| 373/373 [00:02<00:00, 162.45it/s]\n",
      "Training Epoch 1685: 100%|██████████| 373/373 [00:02<00:00, 181.19it/s]\n",
      "Training Epoch 1686: 100%|██████████| 373/373 [00:02<00:00, 178.15it/s]\n",
      "Training Epoch 1687: 100%|██████████| 373/373 [00:02<00:00, 175.14it/s]\n",
      "Training Epoch 1688: 100%|██████████| 373/373 [00:02<00:00, 173.35it/s]\n",
      "Training Epoch 1689: 100%|██████████| 373/373 [00:02<00:00, 167.41it/s]\n",
      "Training Epoch 1690: 100%|██████████| 373/373 [00:02<00:00, 179.20it/s]\n",
      "Training Epoch 1691: 100%|██████████| 373/373 [00:02<00:00, 175.10it/s]\n"
     ]
    },
    {
     "name": "stdout",
     "output_type": "stream",
     "text": [
      "Epoch 1690 - Train Loss: 0.3284, Train MSE: 0.3288, Train MAE: 0.3763\n",
      "Epoch 1690 - Validation Loss: 1.1645, Validation MSE: 1.1663, Validation MAE: 0.7261\n"
     ]
    },
    {
     "name": "stderr",
     "output_type": "stream",
     "text": [
      "Training Epoch 1692: 100%|██████████| 373/373 [00:02<00:00, 178.66it/s]\n",
      "Training Epoch 1693: 100%|██████████| 373/373 [00:02<00:00, 172.95it/s]\n",
      "Training Epoch 1694: 100%|██████████| 373/373 [00:02<00:00, 178.11it/s]\n",
      "Training Epoch 1695: 100%|██████████| 373/373 [00:02<00:00, 179.75it/s]\n",
      "Training Epoch 1696: 100%|██████████| 373/373 [00:02<00:00, 179.67it/s]\n",
      "Training Epoch 1697: 100%|██████████| 373/373 [00:02<00:00, 181.43it/s]\n",
      "Training Epoch 1698: 100%|██████████| 373/373 [00:02<00:00, 174.92it/s]\n",
      "Training Epoch 1699: 100%|██████████| 373/373 [00:02<00:00, 180.87it/s]\n",
      "Training Epoch 1700: 100%|██████████| 373/373 [00:02<00:00, 179.85it/s]\n",
      "Training Epoch 1701: 100%|██████████| 373/373 [00:02<00:00, 182.30it/s]\n"
     ]
    },
    {
     "name": "stdout",
     "output_type": "stream",
     "text": [
      "Epoch 1700 - Train Loss: 0.3273, Train MSE: 0.3281, Train MAE: 0.3739\n",
      "Epoch 1700 - Validation Loss: 1.1696, Validation MSE: 1.1711, Validation MAE: 0.7280\n"
     ]
    },
    {
     "name": "stderr",
     "output_type": "stream",
     "text": [
      "Training Epoch 1702: 100%|██████████| 373/373 [00:02<00:00, 173.59it/s]\n",
      "Training Epoch 1703: 100%|██████████| 373/373 [00:02<00:00, 179.43it/s]\n",
      "Training Epoch 1704: 100%|██████████| 373/373 [00:02<00:00, 183.03it/s]\n",
      "Training Epoch 1705: 100%|██████████| 373/373 [00:02<00:00, 185.21it/s]\n",
      "Training Epoch 1706: 100%|██████████| 373/373 [00:02<00:00, 181.85it/s]\n",
      "Training Epoch 1707: 100%|██████████| 373/373 [00:02<00:00, 156.40it/s]\n",
      "Training Epoch 1708: 100%|██████████| 373/373 [00:02<00:00, 156.00it/s]\n",
      "Training Epoch 1709: 100%|██████████| 373/373 [00:02<00:00, 182.42it/s]\n",
      "Training Epoch 1710: 100%|██████████| 373/373 [00:02<00:00, 179.57it/s]\n",
      "Training Epoch 1711: 100%|██████████| 373/373 [00:02<00:00, 184.48it/s]\n"
     ]
    },
    {
     "name": "stdout",
     "output_type": "stream",
     "text": [
      "Epoch 1710 - Train Loss: 0.3278, Train MSE: 0.3286, Train MAE: 0.3752\n",
      "Epoch 1710 - Validation Loss: 1.2037, Validation MSE: 1.2059, Validation MAE: 0.7404\n"
     ]
    },
    {
     "name": "stderr",
     "output_type": "stream",
     "text": [
      "Training Epoch 1712: 100%|██████████| 373/373 [00:02<00:00, 177.35it/s]\n",
      "Training Epoch 1713: 100%|██████████| 373/373 [00:02<00:00, 174.30it/s]\n",
      "Training Epoch 1714: 100%|██████████| 373/373 [00:02<00:00, 182.87it/s]\n",
      "Training Epoch 1715: 100%|██████████| 373/373 [00:02<00:00, 175.54it/s]\n",
      "Training Epoch 1716: 100%|██████████| 373/373 [00:02<00:00, 178.96it/s]\n",
      "Training Epoch 1717: 100%|██████████| 373/373 [00:02<00:00, 169.93it/s]\n",
      "Training Epoch 1718: 100%|██████████| 373/373 [00:02<00:00, 181.31it/s]\n",
      "Training Epoch 1719: 100%|██████████| 373/373 [00:02<00:00, 173.87it/s]\n",
      "Training Epoch 1720: 100%|██████████| 373/373 [00:02<00:00, 178.09it/s]\n",
      "Training Epoch 1721: 100%|██████████| 373/373 [00:02<00:00, 175.70it/s]\n"
     ]
    },
    {
     "name": "stdout",
     "output_type": "stream",
     "text": [
      "Epoch 1720 - Train Loss: 0.3264, Train MSE: 0.3270, Train MAE: 0.3753\n",
      "Epoch 1720 - Validation Loss: 1.1796, Validation MSE: 1.1815, Validation MAE: 0.7322\n"
     ]
    },
    {
     "name": "stderr",
     "output_type": "stream",
     "text": [
      "Training Epoch 1722: 100%|██████████| 373/373 [00:02<00:00, 170.17it/s]\n",
      "Training Epoch 1723: 100%|██████████| 373/373 [00:02<00:00, 177.34it/s]\n",
      "Training Epoch 1724: 100%|██████████| 373/373 [00:02<00:00, 179.19it/s]\n",
      "Training Epoch 1725: 100%|██████████| 373/373 [00:01<00:00, 190.47it/s]\n",
      "Training Epoch 1726: 100%|██████████| 373/373 [00:01<00:00, 187.78it/s]\n",
      "Training Epoch 1727: 100%|██████████| 373/373 [00:01<00:00, 187.41it/s]\n",
      "Training Epoch 1728: 100%|██████████| 373/373 [00:02<00:00, 185.46it/s]\n",
      "Training Epoch 1729: 100%|██████████| 373/373 [00:02<00:00, 184.18it/s]\n",
      "Training Epoch 1730: 100%|██████████| 373/373 [00:01<00:00, 189.02it/s]\n",
      "Training Epoch 1731: 100%|██████████| 373/373 [00:02<00:00, 184.91it/s]\n"
     ]
    },
    {
     "name": "stdout",
     "output_type": "stream",
     "text": [
      "Epoch 1730 - Train Loss: 0.3383, Train MSE: 0.3362, Train MAE: 0.3766\n",
      "Epoch 1730 - Validation Loss: 1.1877, Validation MSE: 1.1897, Validation MAE: 0.7366\n"
     ]
    },
    {
     "name": "stderr",
     "output_type": "stream",
     "text": [
      "Training Epoch 1732: 100%|██████████| 373/373 [00:01<00:00, 187.57it/s]\n",
      "Training Epoch 1733: 100%|██████████| 373/373 [00:02<00:00, 183.12it/s]\n",
      "Training Epoch 1734: 100%|██████████| 373/373 [00:01<00:00, 192.53it/s]\n",
      "Training Epoch 1735: 100%|██████████| 373/373 [00:01<00:00, 188.39it/s]\n",
      "Training Epoch 1736: 100%|██████████| 373/373 [00:02<00:00, 186.01it/s]\n",
      "Training Epoch 1737: 100%|██████████| 373/373 [00:01<00:00, 189.42it/s]\n",
      "Training Epoch 1738: 100%|██████████| 373/373 [00:01<00:00, 191.17it/s]\n",
      "Training Epoch 1739: 100%|██████████| 373/373 [00:02<00:00, 184.99it/s]\n",
      "Training Epoch 1740: 100%|██████████| 373/373 [00:01<00:00, 188.64it/s]\n",
      "Training Epoch 1741: 100%|██████████| 373/373 [00:01<00:00, 189.93it/s]\n"
     ]
    },
    {
     "name": "stdout",
     "output_type": "stream",
     "text": [
      "Epoch 1740 - Train Loss: 0.3276, Train MSE: 0.3263, Train MAE: 0.3735\n",
      "Epoch 1740 - Validation Loss: 1.1789, Validation MSE: 1.1805, Validation MAE: 0.7357\n"
     ]
    },
    {
     "name": "stderr",
     "output_type": "stream",
     "text": [
      "Training Epoch 1742: 100%|██████████| 373/373 [00:01<00:00, 188.05it/s]\n",
      "Training Epoch 1743: 100%|██████████| 373/373 [00:01<00:00, 195.52it/s]\n",
      "Training Epoch 1744: 100%|██████████| 373/373 [00:02<00:00, 186.31it/s]\n",
      "Training Epoch 1745: 100%|██████████| 373/373 [00:01<00:00, 188.53it/s]\n",
      "Training Epoch 1746: 100%|██████████| 373/373 [00:01<00:00, 189.85it/s]\n",
      "Training Epoch 1747: 100%|██████████| 373/373 [00:02<00:00, 179.21it/s]\n",
      "Training Epoch 1748: 100%|██████████| 373/373 [00:02<00:00, 185.82it/s]\n",
      "Training Epoch 1749: 100%|██████████| 373/373 [00:02<00:00, 181.84it/s]\n",
      "Training Epoch 1750: 100%|██████████| 373/373 [00:02<00:00, 181.39it/s]\n",
      "Training Epoch 1751: 100%|██████████| 373/373 [00:02<00:00, 169.95it/s]\n"
     ]
    },
    {
     "name": "stdout",
     "output_type": "stream",
     "text": [
      "Epoch 1750 - Train Loss: 0.3264, Train MSE: 0.3269, Train MAE: 0.3750\n",
      "Epoch 1750 - Validation Loss: 1.2298, Validation MSE: 1.2321, Validation MAE: 0.7427\n"
     ]
    },
    {
     "name": "stderr",
     "output_type": "stream",
     "text": [
      "Training Epoch 1752: 100%|██████████| 373/373 [00:02<00:00, 179.48it/s]\n",
      "Training Epoch 1753: 100%|██████████| 373/373 [00:02<00:00, 181.33it/s]\n",
      "Training Epoch 1754: 100%|██████████| 373/373 [00:02<00:00, 180.86it/s]\n",
      "Training Epoch 1755: 100%|██████████| 373/373 [00:01<00:00, 190.44it/s]\n",
      "Training Epoch 1756: 100%|██████████| 373/373 [00:02<00:00, 181.29it/s]\n",
      "Training Epoch 1757: 100%|██████████| 373/373 [00:01<00:00, 190.90it/s]\n",
      "Training Epoch 1758: 100%|██████████| 373/373 [00:01<00:00, 187.89it/s]\n",
      "Training Epoch 1759: 100%|██████████| 373/373 [00:01<00:00, 189.91it/s]\n",
      "Training Epoch 1760: 100%|██████████| 373/373 [00:01<00:00, 192.44it/s]\n",
      "Training Epoch 1761: 100%|██████████| 373/373 [00:01<00:00, 187.15it/s]\n"
     ]
    },
    {
     "name": "stdout",
     "output_type": "stream",
     "text": [
      "Epoch 1760 - Train Loss: 0.3283, Train MSE: 0.3288, Train MAE: 0.3759\n",
      "Epoch 1760 - Validation Loss: 1.1847, Validation MSE: 1.1870, Validation MAE: 0.7355\n"
     ]
    },
    {
     "name": "stderr",
     "output_type": "stream",
     "text": [
      "Training Epoch 1762: 100%|██████████| 373/373 [00:01<00:00, 187.57it/s]\n",
      "Training Epoch 1763: 100%|██████████| 373/373 [00:02<00:00, 184.93it/s]\n",
      "Training Epoch 1764: 100%|██████████| 373/373 [00:01<00:00, 189.20it/s]\n",
      "Training Epoch 1765: 100%|██████████| 373/373 [00:02<00:00, 176.07it/s]\n",
      "Training Epoch 1766: 100%|██████████| 373/373 [00:02<00:00, 177.25it/s]\n",
      "Training Epoch 1767: 100%|██████████| 373/373 [00:02<00:00, 177.88it/s]\n",
      "Training Epoch 1768: 100%|██████████| 373/373 [00:01<00:00, 186.64it/s]\n",
      "Training Epoch 1769: 100%|██████████| 373/373 [00:02<00:00, 182.38it/s]\n",
      "Training Epoch 1770: 100%|██████████| 373/373 [00:01<00:00, 186.76it/s]\n",
      "Training Epoch 1771: 100%|██████████| 373/373 [00:02<00:00, 184.12it/s]\n"
     ]
    },
    {
     "name": "stdout",
     "output_type": "stream",
     "text": [
      "Epoch 1770 - Train Loss: 0.3250, Train MSE: 0.3248, Train MAE: 0.3729\n",
      "Epoch 1770 - Validation Loss: 1.1974, Validation MSE: 1.1995, Validation MAE: 0.7369\n"
     ]
    },
    {
     "name": "stderr",
     "output_type": "stream",
     "text": [
      "Training Epoch 1772: 100%|██████████| 373/373 [00:02<00:00, 167.59it/s]\n",
      "Training Epoch 1773: 100%|██████████| 373/373 [00:02<00:00, 178.81it/s]\n",
      "Training Epoch 1774: 100%|██████████| 373/373 [00:02<00:00, 167.51it/s]\n",
      "Training Epoch 1775: 100%|██████████| 373/373 [00:02<00:00, 154.93it/s]\n",
      "Training Epoch 1776: 100%|██████████| 373/373 [00:02<00:00, 164.96it/s]\n",
      "Training Epoch 1777: 100%|██████████| 373/373 [00:02<00:00, 166.09it/s]\n",
      "Training Epoch 1778: 100%|██████████| 373/373 [00:02<00:00, 177.32it/s]\n",
      "Training Epoch 1779: 100%|██████████| 373/373 [00:02<00:00, 164.28it/s]\n",
      "Training Epoch 1780: 100%|██████████| 373/373 [00:02<00:00, 164.92it/s]\n",
      "Training Epoch 1781: 100%|██████████| 373/373 [00:02<00:00, 167.59it/s]\n"
     ]
    },
    {
     "name": "stdout",
     "output_type": "stream",
     "text": [
      "Epoch 1780 - Train Loss: 0.3244, Train MSE: 0.3251, Train MAE: 0.3746\n",
      "Epoch 1780 - Validation Loss: 1.1775, Validation MSE: 1.1796, Validation MAE: 0.7367\n"
     ]
    },
    {
     "name": "stderr",
     "output_type": "stream",
     "text": [
      "Training Epoch 1782: 100%|██████████| 373/373 [00:02<00:00, 163.60it/s]\n",
      "Training Epoch 1783: 100%|██████████| 373/373 [00:02<00:00, 155.32it/s]\n",
      "Training Epoch 1784: 100%|██████████| 373/373 [00:02<00:00, 176.15it/s]\n",
      "Training Epoch 1785: 100%|██████████| 373/373 [00:02<00:00, 173.21it/s]\n",
      "Training Epoch 1786: 100%|██████████| 373/373 [00:02<00:00, 163.10it/s]\n",
      "Training Epoch 1787: 100%|██████████| 373/373 [00:02<00:00, 173.63it/s]\n",
      "Training Epoch 1788: 100%|██████████| 373/373 [00:02<00:00, 166.90it/s]\n",
      "Training Epoch 1789: 100%|██████████| 373/373 [00:02<00:00, 168.57it/s]\n",
      "Training Epoch 1790: 100%|██████████| 373/373 [00:02<00:00, 172.64it/s]\n",
      "Training Epoch 1791: 100%|██████████| 373/373 [00:02<00:00, 169.05it/s]\n"
     ]
    },
    {
     "name": "stdout",
     "output_type": "stream",
     "text": [
      "Epoch 1790 - Train Loss: 0.3308, Train MSE: 0.3294, Train MAE: 0.3750\n",
      "Epoch 1790 - Validation Loss: 1.1903, Validation MSE: 1.1921, Validation MAE: 0.7374\n"
     ]
    },
    {
     "name": "stderr",
     "output_type": "stream",
     "text": [
      "Training Epoch 1792: 100%|██████████| 373/373 [00:02<00:00, 172.44it/s]\n",
      "Training Epoch 1793: 100%|██████████| 373/373 [00:02<00:00, 181.53it/s]\n",
      "Training Epoch 1794: 100%|██████████| 373/373 [00:02<00:00, 176.26it/s]\n",
      "Training Epoch 1795: 100%|██████████| 373/373 [00:02<00:00, 171.76it/s]\n",
      "Training Epoch 1796: 100%|██████████| 373/373 [00:02<00:00, 170.64it/s]\n",
      "Training Epoch 1797: 100%|██████████| 373/373 [00:02<00:00, 173.19it/s]\n",
      "Training Epoch 1798: 100%|██████████| 373/373 [00:02<00:00, 173.42it/s]\n",
      "Training Epoch 1799: 100%|██████████| 373/373 [00:02<00:00, 179.35it/s]\n",
      "Training Epoch 1800: 100%|██████████| 373/373 [00:02<00:00, 168.87it/s]\n",
      "Training Epoch 1801: 100%|██████████| 373/373 [00:02<00:00, 182.75it/s]\n"
     ]
    },
    {
     "name": "stdout",
     "output_type": "stream",
     "text": [
      "Epoch 1800 - Train Loss: 0.3243, Train MSE: 0.3250, Train MAE: 0.3715\n",
      "Epoch 1800 - Validation Loss: 1.2016, Validation MSE: 1.2039, Validation MAE: 0.7408\n"
     ]
    },
    {
     "name": "stderr",
     "output_type": "stream",
     "text": [
      "Training Epoch 1802: 100%|██████████| 373/373 [00:02<00:00, 174.93it/s]\n",
      "Training Epoch 1803: 100%|██████████| 373/373 [00:02<00:00, 180.86it/s]\n",
      "Training Epoch 1804: 100%|██████████| 373/373 [00:02<00:00, 182.51it/s]\n",
      "Training Epoch 1805: 100%|██████████| 373/373 [00:02<00:00, 170.43it/s]\n",
      "Training Epoch 1806: 100%|██████████| 373/373 [00:02<00:00, 180.12it/s]\n",
      "Training Epoch 1807: 100%|██████████| 373/373 [00:02<00:00, 177.67it/s]\n",
      "Training Epoch 1808: 100%|██████████| 373/373 [00:02<00:00, 173.17it/s]\n",
      "Training Epoch 1809: 100%|██████████| 373/373 [00:02<00:00, 142.72it/s]\n",
      "Training Epoch 1810: 100%|██████████| 373/373 [00:02<00:00, 163.76it/s]\n",
      "Training Epoch 1811: 100%|██████████| 373/373 [00:02<00:00, 178.21it/s]\n"
     ]
    },
    {
     "name": "stdout",
     "output_type": "stream",
     "text": [
      "Epoch 1810 - Train Loss: 0.3180, Train MSE: 0.3181, Train MAE: 0.3705\n",
      "Epoch 1810 - Validation Loss: 1.1955, Validation MSE: 1.1976, Validation MAE: 0.7365\n"
     ]
    },
    {
     "name": "stderr",
     "output_type": "stream",
     "text": [
      "Training Epoch 1812: 100%|██████████| 373/373 [00:02<00:00, 181.02it/s]\n",
      "Training Epoch 1813: 100%|██████████| 373/373 [00:02<00:00, 178.87it/s]\n",
      "Training Epoch 1814: 100%|██████████| 373/373 [00:02<00:00, 181.30it/s]\n",
      "Training Epoch 1815: 100%|██████████| 373/373 [00:02<00:00, 177.76it/s]\n",
      "Training Epoch 1816: 100%|██████████| 373/373 [00:02<00:00, 180.91it/s]\n",
      "Training Epoch 1817: 100%|██████████| 373/373 [00:02<00:00, 181.30it/s]\n",
      "Training Epoch 1818: 100%|██████████| 373/373 [00:02<00:00, 184.64it/s]\n",
      "Training Epoch 1819: 100%|██████████| 373/373 [00:02<00:00, 183.46it/s]\n",
      "Training Epoch 1820: 100%|██████████| 373/373 [00:02<00:00, 174.54it/s]\n",
      "Training Epoch 1821: 100%|██████████| 373/373 [00:02<00:00, 179.69it/s]\n"
     ]
    },
    {
     "name": "stdout",
     "output_type": "stream",
     "text": [
      "Epoch 1820 - Train Loss: 0.3192, Train MSE: 0.3198, Train MAE: 0.3708\n",
      "Epoch 1820 - Validation Loss: 1.1735, Validation MSE: 1.1755, Validation MAE: 0.7319\n"
     ]
    },
    {
     "name": "stderr",
     "output_type": "stream",
     "text": [
      "Training Epoch 1822: 100%|██████████| 373/373 [00:02<00:00, 178.53it/s]\n",
      "Training Epoch 1823: 100%|██████████| 373/373 [00:02<00:00, 175.81it/s]\n",
      "Training Epoch 1824: 100%|██████████| 373/373 [00:02<00:00, 181.24it/s]\n",
      "Training Epoch 1825: 100%|██████████| 373/373 [00:02<00:00, 183.27it/s]\n",
      "Training Epoch 1826: 100%|██████████| 373/373 [00:02<00:00, 180.94it/s]\n",
      "Training Epoch 1827: 100%|██████████| 373/373 [00:02<00:00, 180.99it/s]\n",
      "Training Epoch 1828: 100%|██████████| 373/373 [00:02<00:00, 176.70it/s]\n",
      "Training Epoch 1829: 100%|██████████| 373/373 [00:02<00:00, 180.34it/s]\n",
      "Training Epoch 1830: 100%|██████████| 373/373 [00:02<00:00, 183.36it/s]\n",
      "Training Epoch 1831: 100%|██████████| 373/373 [00:02<00:00, 176.68it/s]\n"
     ]
    },
    {
     "name": "stdout",
     "output_type": "stream",
     "text": [
      "Epoch 1830 - Train Loss: 0.3191, Train MSE: 0.3196, Train MAE: 0.3692\n",
      "Epoch 1830 - Validation Loss: 1.1832, Validation MSE: 1.1852, Validation MAE: 0.7361\n"
     ]
    },
    {
     "name": "stderr",
     "output_type": "stream",
     "text": [
      "Training Epoch 1832: 100%|██████████| 373/373 [00:02<00:00, 176.31it/s]\n",
      "Training Epoch 1833: 100%|██████████| 373/373 [00:02<00:00, 180.05it/s]\n",
      "Training Epoch 1834: 100%|██████████| 373/373 [00:02<00:00, 177.70it/s]\n",
      "Training Epoch 1835: 100%|██████████| 373/373 [00:02<00:00, 174.00it/s]\n",
      "Training Epoch 1836: 100%|██████████| 373/373 [00:02<00:00, 183.92it/s]\n",
      "Training Epoch 1837: 100%|██████████| 373/373 [00:02<00:00, 177.98it/s]\n",
      "Training Epoch 1838: 100%|██████████| 373/373 [00:02<00:00, 178.42it/s]\n",
      "Training Epoch 1839: 100%|██████████| 373/373 [00:02<00:00, 179.27it/s]\n",
      "Training Epoch 1840: 100%|██████████| 373/373 [00:02<00:00, 180.64it/s]\n",
      "Training Epoch 1841: 100%|██████████| 373/373 [00:02<00:00, 172.85it/s]\n"
     ]
    },
    {
     "name": "stdout",
     "output_type": "stream",
     "text": [
      "Epoch 1840 - Train Loss: 0.3229, Train MSE: 0.3236, Train MAE: 0.3736\n",
      "Epoch 1840 - Validation Loss: 1.1625, Validation MSE: 1.1642, Validation MAE: 0.7283\n"
     ]
    },
    {
     "name": "stderr",
     "output_type": "stream",
     "text": [
      "Training Epoch 1842: 100%|██████████| 373/373 [00:02<00:00, 182.45it/s]\n",
      "Training Epoch 1843: 100%|██████████| 373/373 [00:02<00:00, 175.61it/s]\n",
      "Training Epoch 1844: 100%|██████████| 373/373 [00:02<00:00, 178.75it/s]\n",
      "Training Epoch 1845: 100%|██████████| 373/373 [00:02<00:00, 178.40it/s]\n",
      "Training Epoch 1846: 100%|██████████| 373/373 [00:02<00:00, 179.56it/s]\n",
      "Training Epoch 1847: 100%|██████████| 373/373 [00:02<00:00, 181.97it/s]\n",
      "Training Epoch 1848: 100%|██████████| 373/373 [00:02<00:00, 179.00it/s]\n",
      "Training Epoch 1849: 100%|██████████| 373/373 [00:02<00:00, 180.67it/s]\n",
      "Training Epoch 1850: 100%|██████████| 373/373 [00:02<00:00, 177.19it/s]\n",
      "Training Epoch 1851: 100%|██████████| 373/373 [00:02<00:00, 180.24it/s]\n"
     ]
    },
    {
     "name": "stdout",
     "output_type": "stream",
     "text": [
      "Epoch 1850 - Train Loss: 0.3189, Train MSE: 0.3197, Train MAE: 0.3673\n",
      "Epoch 1850 - Validation Loss: 1.1856, Validation MSE: 1.1878, Validation MAE: 0.7312\n"
     ]
    },
    {
     "name": "stderr",
     "output_type": "stream",
     "text": [
      "Training Epoch 1852: 100%|██████████| 373/373 [00:02<00:00, 173.30it/s]\n",
      "Training Epoch 1853: 100%|██████████| 373/373 [00:02<00:00, 179.87it/s]\n",
      "Training Epoch 1854: 100%|██████████| 373/373 [00:02<00:00, 177.65it/s]\n",
      "Training Epoch 1855: 100%|██████████| 373/373 [00:02<00:00, 181.44it/s]\n",
      "Training Epoch 1856: 100%|██████████| 373/373 [00:02<00:00, 182.11it/s]\n",
      "Training Epoch 1857: 100%|██████████| 373/373 [00:02<00:00, 173.51it/s]\n",
      "Training Epoch 1858: 100%|██████████| 373/373 [00:02<00:00, 179.98it/s]\n",
      "Training Epoch 1859: 100%|██████████| 373/373 [00:02<00:00, 173.81it/s]\n",
      "Training Epoch 1860: 100%|██████████| 373/373 [00:02<00:00, 183.04it/s]\n",
      "Training Epoch 1861: 100%|██████████| 373/373 [00:02<00:00, 175.22it/s]\n"
     ]
    },
    {
     "name": "stdout",
     "output_type": "stream",
     "text": [
      "Epoch 1860 - Train Loss: 0.3175, Train MSE: 0.3182, Train MAE: 0.3709\n",
      "Epoch 1860 - Validation Loss: 1.1737, Validation MSE: 1.1754, Validation MAE: 0.7259\n"
     ]
    },
    {
     "name": "stderr",
     "output_type": "stream",
     "text": [
      "Training Epoch 1862: 100%|██████████| 373/373 [00:02<00:00, 175.92it/s]\n",
      "Training Epoch 1863: 100%|██████████| 373/373 [00:02<00:00, 174.74it/s]\n",
      "Training Epoch 1864: 100%|██████████| 373/373 [00:02<00:00, 179.73it/s]\n",
      "Training Epoch 1865: 100%|██████████| 373/373 [00:02<00:00, 181.04it/s]\n",
      "Training Epoch 1866: 100%|██████████| 373/373 [00:02<00:00, 169.03it/s]\n",
      "Training Epoch 1867: 100%|██████████| 373/373 [00:02<00:00, 181.01it/s]\n",
      "Training Epoch 1868: 100%|██████████| 373/373 [00:02<00:00, 176.66it/s]\n",
      "Training Epoch 1869: 100%|██████████| 373/373 [00:02<00:00, 178.49it/s]\n",
      "Training Epoch 1870: 100%|██████████| 373/373 [00:02<00:00, 176.83it/s]\n",
      "Training Epoch 1871: 100%|██████████| 373/373 [00:02<00:00, 183.52it/s]\n"
     ]
    },
    {
     "name": "stdout",
     "output_type": "stream",
     "text": [
      "Epoch 1870 - Train Loss: 0.3115, Train MSE: 0.3121, Train MAE: 0.3660\n",
      "Epoch 1870 - Validation Loss: 1.1754, Validation MSE: 1.1770, Validation MAE: 0.7342\n"
     ]
    },
    {
     "name": "stderr",
     "output_type": "stream",
     "text": [
      "Training Epoch 1872: 100%|██████████| 373/373 [00:02<00:00, 174.93it/s]\n",
      "Training Epoch 1873: 100%|██████████| 373/373 [00:02<00:00, 174.28it/s]\n",
      "Training Epoch 1874: 100%|██████████| 373/373 [00:02<00:00, 174.47it/s]\n",
      "Training Epoch 1875: 100%|██████████| 373/373 [00:02<00:00, 180.99it/s]\n",
      "Training Epoch 1876: 100%|██████████| 373/373 [00:02<00:00, 182.30it/s]\n",
      "Training Epoch 1877: 100%|██████████| 373/373 [00:02<00:00, 173.42it/s]\n",
      "Training Epoch 1878: 100%|██████████| 373/373 [00:02<00:00, 181.82it/s]\n",
      "Training Epoch 1879: 100%|██████████| 373/373 [00:02<00:00, 175.36it/s]\n",
      "Training Epoch 1880: 100%|██████████| 373/373 [00:02<00:00, 177.57it/s]\n",
      "Training Epoch 1881: 100%|██████████| 373/373 [00:02<00:00, 173.36it/s]\n"
     ]
    },
    {
     "name": "stdout",
     "output_type": "stream",
     "text": [
      "Epoch 1880 - Train Loss: 0.3193, Train MSE: 0.3199, Train MAE: 0.3717\n",
      "Epoch 1880 - Validation Loss: 1.1944, Validation MSE: 1.1966, Validation MAE: 0.7368\n"
     ]
    },
    {
     "name": "stderr",
     "output_type": "stream",
     "text": [
      "Training Epoch 1882: 100%|██████████| 373/373 [00:02<00:00, 181.52it/s]\n",
      "Training Epoch 1883: 100%|██████████| 373/373 [00:02<00:00, 181.13it/s]\n",
      "Training Epoch 1884: 100%|██████████| 373/373 [00:02<00:00, 180.88it/s]\n",
      "Training Epoch 1885: 100%|██████████| 373/373 [00:02<00:00, 177.62it/s]\n",
      "Training Epoch 1886: 100%|██████████| 373/373 [00:02<00:00, 183.45it/s]\n",
      "Training Epoch 1887: 100%|██████████| 373/373 [00:02<00:00, 178.67it/s]\n",
      "Training Epoch 1888: 100%|██████████| 373/373 [00:02<00:00, 173.56it/s]\n",
      "Training Epoch 1889: 100%|██████████| 373/373 [00:02<00:00, 181.30it/s]\n",
      "Training Epoch 1890: 100%|██████████| 373/373 [00:02<00:00, 176.13it/s]\n",
      "Training Epoch 1891: 100%|██████████| 373/373 [00:02<00:00, 178.89it/s]\n"
     ]
    },
    {
     "name": "stdout",
     "output_type": "stream",
     "text": [
      "Epoch 1890 - Train Loss: 0.3192, Train MSE: 0.3189, Train MAE: 0.3705\n",
      "Epoch 1890 - Validation Loss: 1.1782, Validation MSE: 1.1805, Validation MAE: 0.7321\n"
     ]
    },
    {
     "name": "stderr",
     "output_type": "stream",
     "text": [
      "Training Epoch 1892: 100%|██████████| 373/373 [00:02<00:00, 175.21it/s]\n",
      "Training Epoch 1893: 100%|██████████| 373/373 [00:02<00:00, 180.22it/s]\n",
      "Training Epoch 1894: 100%|██████████| 373/373 [00:02<00:00, 175.89it/s]\n",
      "Training Epoch 1895: 100%|██████████| 373/373 [00:02<00:00, 177.05it/s]\n",
      "Training Epoch 1896: 100%|██████████| 373/373 [00:02<00:00, 183.23it/s]\n",
      "Training Epoch 1897: 100%|██████████| 373/373 [00:02<00:00, 175.00it/s]\n",
      "Training Epoch 1898: 100%|██████████| 373/373 [00:02<00:00, 178.83it/s]\n",
      "Training Epoch 1899: 100%|██████████| 373/373 [00:02<00:00, 175.54it/s]\n",
      "Training Epoch 1900: 100%|██████████| 373/373 [00:02<00:00, 182.41it/s]\n",
      "Training Epoch 1901: 100%|██████████| 373/373 [00:02<00:00, 178.22it/s]\n"
     ]
    },
    {
     "name": "stdout",
     "output_type": "stream",
     "text": [
      "Epoch 1900 - Train Loss: 0.3121, Train MSE: 0.3126, Train MAE: 0.3666\n",
      "Epoch 1900 - Validation Loss: 1.1883, Validation MSE: 1.1905, Validation MAE: 0.7335\n"
     ]
    },
    {
     "name": "stderr",
     "output_type": "stream",
     "text": [
      "Training Epoch 1902: 100%|██████████| 373/373 [00:02<00:00, 183.12it/s]\n",
      "Training Epoch 1903: 100%|██████████| 373/373 [00:02<00:00, 177.14it/s]\n",
      "Training Epoch 1904: 100%|██████████| 373/373 [00:02<00:00, 179.09it/s]\n",
      "Training Epoch 1905: 100%|██████████| 373/373 [00:02<00:00, 181.93it/s]\n",
      "Training Epoch 1906: 100%|██████████| 373/373 [00:02<00:00, 178.14it/s]\n",
      "Training Epoch 1907: 100%|██████████| 373/373 [00:02<00:00, 180.80it/s]\n",
      "Training Epoch 1908: 100%|██████████| 373/373 [00:02<00:00, 175.91it/s]\n",
      "Training Epoch 1909: 100%|██████████| 373/373 [00:02<00:00, 174.50it/s]\n",
      "Training Epoch 1910: 100%|██████████| 373/373 [00:02<00:00, 175.23it/s]\n",
      "Training Epoch 1911: 100%|██████████| 373/373 [00:02<00:00, 183.19it/s]\n"
     ]
    },
    {
     "name": "stdout",
     "output_type": "stream",
     "text": [
      "Epoch 1910 - Train Loss: 0.3209, Train MSE: 0.3215, Train MAE: 0.3692\n",
      "Epoch 1910 - Validation Loss: 1.1784, Validation MSE: 1.1806, Validation MAE: 0.7331\n"
     ]
    },
    {
     "name": "stderr",
     "output_type": "stream",
     "text": [
      "Training Epoch 1912: 100%|██████████| 373/373 [00:02<00:00, 179.14it/s]\n",
      "Training Epoch 1913: 100%|██████████| 373/373 [00:02<00:00, 180.43it/s]\n",
      "Training Epoch 1914: 100%|██████████| 373/373 [00:02<00:00, 176.76it/s]\n",
      "Training Epoch 1915: 100%|██████████| 373/373 [00:02<00:00, 178.00it/s]\n",
      "Training Epoch 1916: 100%|██████████| 373/373 [00:02<00:00, 175.38it/s]\n",
      "Training Epoch 1917: 100%|██████████| 373/373 [00:02<00:00, 179.27it/s]\n",
      "Training Epoch 1918: 100%|██████████| 373/373 [00:02<00:00, 182.51it/s]\n",
      "Training Epoch 1919: 100%|██████████| 373/373 [00:02<00:00, 173.10it/s]\n",
      "Training Epoch 1920: 100%|██████████| 373/373 [00:02<00:00, 179.46it/s]\n",
      "Training Epoch 1921: 100%|██████████| 373/373 [00:02<00:00, 176.84it/s]\n"
     ]
    },
    {
     "name": "stdout",
     "output_type": "stream",
     "text": [
      "Epoch 1920 - Train Loss: 0.3095, Train MSE: 0.3078, Train MAE: 0.3654\n",
      "Epoch 1920 - Validation Loss: 1.2033, Validation MSE: 1.2054, Validation MAE: 0.7379\n"
     ]
    },
    {
     "name": "stderr",
     "output_type": "stream",
     "text": [
      "Training Epoch 1922: 100%|██████████| 373/373 [00:02<00:00, 181.30it/s]\n",
      "Training Epoch 1923: 100%|██████████| 373/373 [00:02<00:00, 176.22it/s]\n",
      "Training Epoch 1924: 100%|██████████| 373/373 [00:02<00:00, 180.39it/s]\n",
      "Training Epoch 1925: 100%|██████████| 373/373 [00:02<00:00, 181.49it/s]\n",
      "Training Epoch 1926: 100%|██████████| 373/373 [00:02<00:00, 175.59it/s]\n",
      "Training Epoch 1927: 100%|██████████| 373/373 [00:02<00:00, 181.47it/s]\n",
      "Training Epoch 1928: 100%|██████████| 373/373 [00:02<00:00, 177.95it/s]\n",
      "Training Epoch 1929: 100%|██████████| 373/373 [00:02<00:00, 179.69it/s]\n",
      "Training Epoch 1930: 100%|██████████| 373/373 [00:02<00:00, 179.76it/s]\n",
      "Training Epoch 1931: 100%|██████████| 373/373 [00:02<00:00, 176.59it/s]\n"
     ]
    },
    {
     "name": "stdout",
     "output_type": "stream",
     "text": [
      "Epoch 1930 - Train Loss: 0.3102, Train MSE: 0.3110, Train MAE: 0.3654\n",
      "Epoch 1930 - Validation Loss: 1.1879, Validation MSE: 1.1898, Validation MAE: 0.7372\n"
     ]
    },
    {
     "name": "stderr",
     "output_type": "stream",
     "text": [
      "Training Epoch 1932: 100%|██████████| 373/373 [00:02<00:00, 176.35it/s]\n",
      "Training Epoch 1933: 100%|██████████| 373/373 [00:02<00:00, 181.00it/s]\n",
      "Training Epoch 1934: 100%|██████████| 373/373 [00:02<00:00, 184.11it/s]\n",
      "Training Epoch 1935: 100%|██████████| 373/373 [00:02<00:00, 176.37it/s]\n",
      "Training Epoch 1936: 100%|██████████| 373/373 [00:02<00:00, 180.58it/s]\n",
      "Training Epoch 1937: 100%|██████████| 373/373 [00:02<00:00, 172.49it/s]\n",
      "Training Epoch 1938: 100%|██████████| 373/373 [00:02<00:00, 181.32it/s]\n",
      "Training Epoch 1939: 100%|██████████| 373/373 [00:02<00:00, 177.67it/s]\n",
      "Training Epoch 1940: 100%|██████████| 373/373 [00:02<00:00, 183.28it/s]\n",
      "Training Epoch 1941: 100%|██████████| 373/373 [00:01<00:00, 187.05it/s]\n"
     ]
    },
    {
     "name": "stdout",
     "output_type": "stream",
     "text": [
      "Epoch 1940 - Train Loss: 0.3083, Train MSE: 0.3081, Train MAE: 0.3636\n",
      "Epoch 1940 - Validation Loss: 1.1838, Validation MSE: 1.1857, Validation MAE: 0.7294\n"
     ]
    },
    {
     "name": "stderr",
     "output_type": "stream",
     "text": [
      "Training Epoch 1942: 100%|██████████| 373/373 [00:02<00:00, 177.91it/s]\n",
      "Training Epoch 1943: 100%|██████████| 373/373 [00:02<00:00, 173.98it/s]\n",
      "Training Epoch 1944: 100%|██████████| 373/373 [00:02<00:00, 174.42it/s]\n",
      "Training Epoch 1945: 100%|██████████| 373/373 [00:02<00:00, 177.33it/s]\n",
      "Training Epoch 1946: 100%|██████████| 373/373 [00:02<00:00, 178.18it/s]\n",
      "Training Epoch 1947: 100%|██████████| 373/373 [00:02<00:00, 181.55it/s]\n",
      "Training Epoch 1948: 100%|██████████| 373/373 [00:02<00:00, 173.31it/s]\n",
      "Training Epoch 1949: 100%|██████████| 373/373 [00:02<00:00, 181.85it/s]\n",
      "Training Epoch 1950: 100%|██████████| 373/373 [00:02<00:00, 173.91it/s]\n",
      "Training Epoch 1951: 100%|██████████| 373/373 [00:02<00:00, 181.54it/s]\n"
     ]
    },
    {
     "name": "stdout",
     "output_type": "stream",
     "text": [
      "Epoch 1950 - Train Loss: 0.3211, Train MSE: 0.3217, Train MAE: 0.3710\n",
      "Epoch 1950 - Validation Loss: 1.1863, Validation MSE: 1.1880, Validation MAE: 0.7327\n"
     ]
    },
    {
     "name": "stderr",
     "output_type": "stream",
     "text": [
      "Training Epoch 1952: 100%|██████████| 373/373 [00:02<00:00, 180.02it/s]\n",
      "Training Epoch 1953: 100%|██████████| 373/373 [00:02<00:00, 178.80it/s]\n",
      "Training Epoch 1954: 100%|██████████| 373/373 [00:02<00:00, 184.31it/s]\n",
      "Training Epoch 1955: 100%|██████████| 373/373 [00:02<00:00, 178.13it/s]\n",
      "Training Epoch 1956: 100%|██████████| 373/373 [00:02<00:00, 178.72it/s]\n",
      "Training Epoch 1957: 100%|██████████| 373/373 [00:02<00:00, 180.99it/s]\n",
      "Training Epoch 1958: 100%|██████████| 373/373 [00:02<00:00, 183.05it/s]\n",
      "Training Epoch 1959: 100%|██████████| 373/373 [00:02<00:00, 171.72it/s]\n",
      "Training Epoch 1960: 100%|██████████| 373/373 [00:02<00:00, 181.86it/s]\n",
      "Training Epoch 1961: 100%|██████████| 373/373 [00:02<00:00, 181.19it/s]\n"
     ]
    },
    {
     "name": "stdout",
     "output_type": "stream",
     "text": [
      "Epoch 1960 - Train Loss: 0.3135, Train MSE: 0.3129, Train MAE: 0.3671\n",
      "Epoch 1960 - Validation Loss: 1.1951, Validation MSE: 1.1972, Validation MAE: 0.7412\n"
     ]
    },
    {
     "name": "stderr",
     "output_type": "stream",
     "text": [
      "Training Epoch 1962: 100%|██████████| 373/373 [00:02<00:00, 177.09it/s]\n",
      "Training Epoch 1963: 100%|██████████| 373/373 [00:02<00:00, 180.33it/s]\n",
      "Training Epoch 1964: 100%|██████████| 373/373 [00:02<00:00, 174.14it/s]\n",
      "Training Epoch 1965: 100%|██████████| 373/373 [00:02<00:00, 182.24it/s]\n",
      "Training Epoch 1966: 100%|██████████| 373/373 [00:02<00:00, 171.46it/s]\n",
      "Training Epoch 1967: 100%|██████████| 373/373 [00:02<00:00, 181.49it/s]\n",
      "Training Epoch 1968: 100%|██████████| 373/373 [00:02<00:00, 173.90it/s]\n",
      "Training Epoch 1969: 100%|██████████| 373/373 [00:02<00:00, 180.65it/s]\n",
      "Training Epoch 1970: 100%|██████████| 373/373 [00:02<00:00, 176.99it/s]\n",
      "Training Epoch 1971: 100%|██████████| 373/373 [00:02<00:00, 182.88it/s]\n"
     ]
    },
    {
     "name": "stdout",
     "output_type": "stream",
     "text": [
      "Epoch 1970 - Train Loss: 0.3133, Train MSE: 0.3131, Train MAE: 0.3635\n",
      "Epoch 1970 - Validation Loss: 1.1705, Validation MSE: 1.1722, Validation MAE: 0.7286\n"
     ]
    },
    {
     "name": "stderr",
     "output_type": "stream",
     "text": [
      "Training Epoch 1972: 100%|██████████| 373/373 [00:02<00:00, 179.97it/s]\n",
      "Training Epoch 1973: 100%|██████████| 373/373 [00:02<00:00, 178.64it/s]\n",
      "Training Epoch 1974: 100%|██████████| 373/373 [00:02<00:00, 182.55it/s]\n",
      "Training Epoch 1975: 100%|██████████| 373/373 [00:02<00:00, 176.93it/s]\n",
      "Training Epoch 1976: 100%|██████████| 373/373 [00:02<00:00, 179.54it/s]\n",
      "Training Epoch 1977: 100%|██████████| 373/373 [00:02<00:00, 180.47it/s]\n",
      "Training Epoch 1978: 100%|██████████| 373/373 [00:02<00:00, 180.56it/s]\n",
      "Training Epoch 1979: 100%|██████████| 373/373 [00:02<00:00, 173.68it/s]\n",
      "Training Epoch 1980: 100%|██████████| 373/373 [00:02<00:00, 175.01it/s]\n",
      "Training Epoch 1981: 100%|██████████| 373/373 [00:02<00:00, 178.49it/s]\n"
     ]
    },
    {
     "name": "stdout",
     "output_type": "stream",
     "text": [
      "Epoch 1980 - Train Loss: 0.3122, Train MSE: 0.3122, Train MAE: 0.3649\n",
      "Epoch 1980 - Validation Loss: 1.1775, Validation MSE: 1.1791, Validation MAE: 0.7323\n"
     ]
    },
    {
     "name": "stderr",
     "output_type": "stream",
     "text": [
      "Training Epoch 1982: 100%|██████████| 373/373 [00:02<00:00, 177.94it/s]\n",
      "Training Epoch 1983: 100%|██████████| 373/373 [00:02<00:00, 179.33it/s]\n",
      "Training Epoch 1984: 100%|██████████| 373/373 [00:02<00:00, 173.93it/s]\n",
      "Training Epoch 1985: 100%|██████████| 373/373 [00:02<00:00, 179.20it/s]\n",
      "Training Epoch 1986: 100%|██████████| 373/373 [00:02<00:00, 177.34it/s]\n",
      "Training Epoch 1987: 100%|██████████| 373/373 [00:02<00:00, 174.46it/s]\n",
      "Training Epoch 1988: 100%|██████████| 373/373 [00:02<00:00, 177.62it/s]\n",
      "Training Epoch 1989: 100%|██████████| 373/373 [00:02<00:00, 178.33it/s]\n",
      "Training Epoch 1990: 100%|██████████| 373/373 [00:02<00:00, 181.06it/s]\n",
      "Training Epoch 1991: 100%|██████████| 373/373 [00:02<00:00, 177.98it/s]\n"
     ]
    },
    {
     "name": "stdout",
     "output_type": "stream",
     "text": [
      "Epoch 1990 - Train Loss: 0.3020, Train MSE: 0.3027, Train MAE: 0.3626\n",
      "Epoch 1990 - Validation Loss: 1.1681, Validation MSE: 1.1700, Validation MAE: 0.7249\n"
     ]
    },
    {
     "name": "stderr",
     "output_type": "stream",
     "text": [
      "Training Epoch 1992: 100%|██████████| 373/373 [00:02<00:00, 182.19it/s]\n",
      "Training Epoch 1993: 100%|██████████| 373/373 [00:01<00:00, 190.03it/s]\n",
      "Training Epoch 1994: 100%|██████████| 373/373 [00:02<00:00, 184.46it/s]\n",
      "Training Epoch 1995: 100%|██████████| 373/373 [00:02<00:00, 181.28it/s]\n",
      "Training Epoch 1996: 100%|██████████| 373/373 [00:02<00:00, 185.83it/s]\n",
      "Training Epoch 1997: 100%|██████████| 373/373 [00:02<00:00, 184.12it/s]\n",
      "Training Epoch 1998: 100%|██████████| 373/373 [00:01<00:00, 190.02it/s]\n",
      "Training Epoch 1999: 100%|██████████| 373/373 [00:02<00:00, 181.20it/s]\n",
      "Training Epoch 2000: 100%|██████████| 373/373 [00:02<00:00, 185.19it/s]\n"
     ]
    },
    {
     "name": "stdout",
     "output_type": "stream",
     "text": [
      "Test MSE: 1.2324, Test MAE: 0.7631\n"
     ]
    }
   ],
   "source": [
    "import torch\n",
    "import torch.nn as nn\n",
    "import torch.optim as optim\n",
    "from tqdm import tqdm\n",
    "import pandas as pd\n",
    "from sklearn.metrics import r2_score, median_absolute_error, explained_variance_score\n",
    "from scipy.stats import pearsonr\n",
    "\n",
    "\n",
    "train_history = pd.DataFrame(columns=[  'epoch',\n",
    "    'Train Loss', 'Train MSE', 'Train MAE', 'Train RMSE', 'Train R2', 'Train Pearson', 'Train Median_AE', 'Train Explained_VAR'\n",
    "    'Val Loss', 'Val MSE', 'Val MAE', 'Val RMSE', 'Val R2', 'Val Pearson', 'Val Median_AE', 'Val Explained_VAR'])\n",
    "# Verify feature dimensions\n",
    "for batch in train_loader:\n",
    "    mol_input_dim = batch['metabolite_features'].shape[1]  # Dynamically determine mol input dimension\n",
    "    protein_input_dim = batch['protein_features'].shape[1]  # Dynamically determine protein input dimension\n",
    "    break\n",
    "\n",
    "# Initialize model, optimizer, and loss function\n",
    "num_timesteps = 10\n",
    "model = MLPRegressor(mol_input_dim=mol_input_dim, protein_input_dim=protein_input_dim,hidden_dim=512)\n",
    "model = model.to(device)\n",
    "optimizer = optim.Adam(model.parameters(), lr=0.0001)\n",
    "criterion = nn.MSELoss()\n",
    "\n",
    "# Training and Validation Loop\n",
    "for epoch in range(2000):\n",
    "    model.train()\n",
    "    total_loss = 0.0\n",
    "    val_total_loss = 0.0\n",
    "    train_predictions, train_labels = [], []\n",
    "\n",
    "    for batch in tqdm(train_loader, desc=f\"Training Epoch {epoch + 1}\"):\n",
    "        mol_features = batch['metabolite_features'].to(device)\n",
    "        protein_features = batch['protein_features'].to(device)\n",
    "        labels = batch['label'].to(device)\n",
    "\n",
    "        optimizer.zero_grad()\n",
    "        outputs = model(mol_features, protein_features)\n",
    "        loss = criterion(outputs, labels)\n",
    "        loss.backward()\n",
    "        optimizer.step()\n",
    "        total_loss += loss.item()\n",
    "\n",
    "        # Store predictions and labels for metrics\n",
    "        train_predictions.extend(outputs.detach().cpu().numpy())\n",
    "        train_labels.extend(labels.cpu().numpy())\n",
    "\n",
    "    # Calculate training metrics\n",
    "    train_mse = ((torch.tensor(train_predictions) - torch.tensor(train_labels))**2).mean().item()\n",
    "    train_mae = torch.abs(torch.tensor(train_predictions) - torch.tensor(train_labels)).mean().item()\n",
    "\n",
    "\n",
    "\n",
    "    if epoch % 10 == 0:\n",
    "        print(f\"Epoch {epoch} - Train Loss: {total_loss / len(train_loader):.4f}, Train MSE: {train_mse:.4f}, Train MAE: {train_mae:.4f}\")\n",
    "\n",
    "    # Validation\n",
    "    model.eval()\n",
    "    val_predictions, val_labels = [], []\n",
    "    with torch.no_grad():\n",
    "        for batch in val_loader:\n",
    "            mol_features = batch['metabolite_features'].to(device)\n",
    "            protein_features = batch['protein_features'].to(device)\n",
    "            labels = batch['label'].to(device)\n",
    "\n",
    "            outputs = model(mol_features, protein_features)\n",
    "            val_predictions.extend(outputs.cpu().numpy())\n",
    "            val_labels.extend(labels.cpu().numpy())\n",
    "            val_loss = criterion(outputs, labels)\n",
    "            val_total_loss += val_loss.item()\n",
    "\n",
    "    val_mse = ((torch.tensor(val_predictions) - torch.tensor(val_labels))**2).mean().item()\n",
    "    val_mae = torch.abs(torch.tensor(val_predictions) - torch.tensor(val_labels)).mean().item()\n",
    "\n",
    "\n",
    "    if epoch % 10 == 0:\n",
    "        print(f\"Epoch {epoch} - Validation Loss: {val_total_loss / len(val_loader):.4f}, Validation MSE: {val_mse:.4f}, Validation MAE: {val_mae:.4f}\")\n",
    "\n",
    "    # Save metrics to DataFrame\n",
    "    new_row = {'epoch': epoch + 1, 'Train Loss': total_loss / len(train_loader), 'Train MSE': train_mse, 'Train MAE': train_mae, 'Train RMSE': train_rmse, 'Train R2': train_r2, 'Train Pearson': train_pearson_corr, 'Train Median_AE': train_median_ae, 'Train Explained_VAR': train_explained_var, \n",
    "               'Val Loss': val_total_loss / len(val_loader), 'Val MSE': val_mse, 'Val MAE': val_mae, 'Val RMSE': val_rmse, 'Val R2': val_r2, 'Val Pearson': val_pearson_corr, 'Val Median_AE': val_median_ae, 'Val Explained_VAR': val_explained_var}\n",
    "    train_history = pd.concat([train_history, pd.DataFrame([new_row])], ignore_index=True)\n",
    "\n"
   ]
  },
  {
   "cell_type": "code",
   "execution_count": null,
   "metadata": {},
   "outputs": [
    {
     "ename": "NameError",
     "evalue": "name 'train_loader' is not defined",
     "output_type": "error",
     "traceback": [
      "\u001b[0;31m---------------------------------------------------------------------------\u001b[0m",
      "\u001b[0;31mNameError\u001b[0m                                 Traceback (most recent call last)",
      "Cell \u001b[0;32mIn[1], line 1\u001b[0m\n\u001b[0;32m----> 1\u001b[0m \u001b[38;5;28;01mfor\u001b[39;00m batch \u001b[38;5;129;01min\u001b[39;00m train_loader:\n\u001b[1;32m      2\u001b[0m     mol_input_dim \u001b[38;5;241m=\u001b[39m batch[\u001b[38;5;124m'\u001b[39m\u001b[38;5;124mmetabolite_features\u001b[39m\u001b[38;5;124m'\u001b[39m]\u001b[38;5;241m.\u001b[39mshape[\u001b[38;5;241m1\u001b[39m]  \u001b[38;5;66;03m# Dynamically determine mol input dimension\u001b[39;00m\n\u001b[1;32m      3\u001b[0m     protein_input_dim \u001b[38;5;241m=\u001b[39m batch[\u001b[38;5;124m'\u001b[39m\u001b[38;5;124mprotein_features\u001b[39m\u001b[38;5;124m'\u001b[39m]\u001b[38;5;241m.\u001b[39mshape[\u001b[38;5;241m1\u001b[39m]  \u001b[38;5;66;03m# Dynamically determine protein input dimension\u001b[39;00m\n",
      "\u001b[0;31mNameError\u001b[0m: name 'train_loader' is not defined"
     ]
    }
   ],
   "source": [
    "for batch in train_loader:\n",
    "    mol_input_dim = batch['metabolite_features'].shape[1]  # Dynamically determine mol input dimension\n",
    "    protein_input_dim = batch['protein_features'].shape[1]  # Dynamically determine protein input dimension\n",
    "    break\n",
    "\n",
    "model = MLPRegressor(mol_input_dim=mol_input_dim, protein_input_dim=protein_input_dim, hidden_dim=512)\n",
    "model.load_state_dict(torch.load('./trained_model/MLP model.pt'))\n",
    "model = model.to(device)"
   ]
  },
  {
   "cell_type": "code",
   "execution_count": null,
   "metadata": {},
   "outputs": [
    {
     "name": "stdout",
     "output_type": "stream",
     "text": [
      "Test MSE: 1.2324, Test MAE: 0.7631\n"
     ]
    }
   ],
   "source": [
    "from sklearn.metrics import mean_squared_error,mean_absolute_error,r2_score, median_absolute_error, explained_variance_score\n",
    "from scipy.stats import pearsonr\n",
    "# Test Metrics\n",
    "model.eval()\n",
    "test_predictions, test_labels = [], []\n",
    "with torch.no_grad():\n",
    "    for batch in test_loader:\n",
    "        mol_features = batch['metabolite_features'].to(device)\n",
    "        protein_features = batch['protein_features'].to(device)\n",
    "        labels = batch['label'].to(device)\n",
    "\n",
    "        outputs = model(mol_features, protein_features)\n",
    "        test_predictions.extend(outputs.cpu().numpy())\n",
    "        test_labels.extend(labels.cpu().numpy())\n",
    "\n",
    "test_mse = ((torch.tensor(test_predictions) - torch.tensor(test_labels))**2).mean().item()\n",
    "test_mae = torch.abs(torch.tensor(test_predictions) - torch.tensor(test_labels)).mean().item()\n",
    "test_rmse = torch.sqrt((torch.tensor(test_predictions) - torch.tensor(test_labels)) ** 2).mean().item()\n",
    "test_r2 = r2_score(np.array(test_labels), np.array(test_predictions))\n",
    "test_pearson_corr, _ = pearsonr(np.array(test_labels), np.array(test_predictions))\n",
    "test_median_ae = median_absolute_error(np.array(test_labels), np.array(test_predictions))\n",
    "test_explained_var = explained_variance_score(np.array(test_labels), np.array(test_predictions))\n",
    "\n",
    "print(f\"Test MSE: {test_mse:.4f}, Test MAE: {test_mae:.4f}\")\n"
   ]
  },
  {
   "cell_type": "code",
   "execution_count": null,
   "metadata": {},
   "outputs": [],
   "source": [
    "\n",
    "def evaluate_model(predictions, labels):\n",
    "    mse = mean_squared_error(labels, predictions)\n",
    "    rmse = np.sqrt(mse)\n",
    "    mae = mean_absolute_error(labels, predictions)\n",
    "    r2 = r2_score(labels, predictions)\n",
    "    pearson_corr, _ = pearsonr(labels, predictions)\n",
    "    medae = median_absolute_error(labels, predictions)\n",
    "    evs = explained_variance_score(labels, predictions)\n",
    "\n",
    "    return mse, rmse, mae, r2, pearson_corr, medae, evs"
   ]
  },
  {
   "cell_type": "code",
   "execution_count": null,
   "metadata": {},
   "outputs": [],
   "source": [
    "model.eval()\n",
    "train_pred, train_labels = [], []\n",
    "with torch.no_grad():\n",
    "    for batch in train_loader:\n",
    "        mol_features = batch['metabolite_features'].to(device)\n",
    "        protein_features = batch['protein_features'].to(device)\n",
    "        labels = batch['label'].to(device)\n",
    "\n",
    "        outputs = model(mol_features, protein_features)\n",
    "        train_pred.extend(outputs.cpu().numpy())\n",
    "        train_labels.extend(labels.cpu().numpy())\n",
    "\n",
    "train_mse, train_rmse, train_mae, train_r2, train_pearson_corr, train_median_ae, train_explained_var = evaluate_model(train_pred, train_labels)"
   ]
  },
  {
   "cell_type": "code",
   "execution_count": null,
   "metadata": {},
   "outputs": [],
   "source": [
    "model.eval()\n",
    "val_pred, val_labels = [], []\n",
    "with torch.no_grad():\n",
    "    for batch in val_loader:\n",
    "        mol_features = batch['metabolite_features'].to(device)\n",
    "        protein_features = batch['protein_features'].to(device)\n",
    "        labels = batch['label'].to(device)\n",
    "\n",
    "        outputs = model(mol_features, protein_features)\n",
    "        val_pred.extend(outputs.cpu().numpy())\n",
    "        val_labels.extend(labels.cpu().numpy())\n",
    "\n",
    "val_mse, val_rmse, val_mae, val_r2, val_pearson_corr, val_median_ae, val_explained_var = evaluate_model(val_pred, val_labels)\n"
   ]
  },
  {
   "cell_type": "code",
   "execution_count": null,
   "metadata": {},
   "outputs": [],
   "source": [
    "# append the performance to the csv file\n",
    "df = {\n",
    "    'Model':['MLP','MLP','MLP'],\n",
    "    'Dataset':['Train','Validation','Test'],\n",
    "    'MSE':[train_mse,val_mse,test_mse],\n",
    "    'RMSE':[train_rmse,val_rmse,test_rmse],\n",
    "    'MAE':[train_mae,val_mae,test_mae],\n",
    "    'R2':[train_r2,val_r2,test_r2],\n",
    "    'Pearson':[train_pearson_corr,val_pearson_corr,test_pearson_corr],\n",
    "    'Median_AE':[train_median_ae,val_median_ae,test_median_ae],\n",
    "    'Explained_VAR':[train_explained_var,val_explained_var,test_explained_var],\n",
    "    'Dataspliting Mode':['random','random','random']\n",
    "}\n",
    "df = pd.DataFrame(df)\n",
    "\n",
    "df.to_csv('/Users/pinchichen/2025S lab/AI drug project/code/model performance metrics.csv', mode='a', header=False)"
   ]
  },
  {
   "cell_type": "code",
   "execution_count": null,
   "metadata": {},
   "outputs": [],
   "source": [
    "# Save the model and training history\n",
    "save_dir = './trained_model'\n",
    "# save model weights and optimizer state\n",
    "torch.save(model.state_dict(), os.path.join(save_dir, 'MLP model.pt'))\n",
    "torch.save(optimizer.state_dict(), os.path.join(save_dir, 'MLP optimizer.pt'))"
   ]
  },
  {
   "cell_type": "code",
   "execution_count": null,
   "metadata": {},
   "outputs": [
    {
     "data": {
      "image/png": "[encoded data removed]",
      "text/plain": [
       "<Figure size 1000x600 with 1 Axes>"
      ]
     },
     "metadata": {},
     "output_type": "display_data"
    }
   ],
   "source": [
    "import matplotlib.pyplot as plt\n",
    "import seaborn as sns\n",
    "sns.set(style='ticks')\n",
    "# Load metrics\n",
    "\n",
    "metrics = train_history\n",
    "\n",
    "# Plot the training loss over epochs using seaborn\n",
    "plt.figure(figsize=(10, 6))\n",
    "# sns.lineplot(data=metrics, x='epoch', y='Train Loss', label='Train Loss')\n",
    "# sns.lineplot(data=metrics, x='epoch', y='Val Loss', label='Val Loss')\n",
    "sns.lineplot(data=metrics, x='epoch', y='Val MSE', label='Valid_RMSE')\n",
    "sns.lineplot(data=metrics, x='epoch', y='Train MSE', label='Train_RMSE')\n",
    "# sns.lineplot(data=metrics, x='Epoch', y='Valid_MAE', label='Valid_MAE')\n",
    "# Add titles and labels\n",
    "plt.title('Training and Validation Metrics Over Epochs', fontsize=14)\n",
    "# Define the range of tick positions\n",
    "plt.xlabel('Epoch', fontsize=12)\n",
    "plt.ylabel('Loss', fontsize=12)\n",
    "plt.grid(False)\n",
    "# Show the plot\n",
    "plt.show()\n"
   ]
  },
  {
   "cell_type": "code",
   "execution_count": null,
   "metadata": {},
   "outputs": [
    {
     "data": {
      "text/html": [
       "<div>\n",
       "<style scoped>\n",
       "    .dataframe tbody tr th:only-of-type {\n",
       "        vertical-align: middle;\n",
       "    }\n",
       "\n",
       "    .dataframe tbody tr th {\n",
       "        vertical-align: top;\n",
       "    }\n",
       "\n",
       "    .dataframe thead th {\n",
       "        text-align: right;\n",
       "    }\n",
       "</style>\n",
       "<table border=\"1\" class=\"dataframe\">\n",
       "  <thead>\n",
       "    <tr style=\"text-align: right;\">\n",
       "      <th></th>\n",
       "      <th>epoch</th>\n",
       "      <th>Train Loss</th>\n",
       "      <th>Train MSE</th>\n",
       "      <th>Train MAE</th>\n",
       "      <th>Train RMSE</th>\n",
       "      <th>Train R2</th>\n",
       "      <th>Train Pearson</th>\n",
       "      <th>Train Median_AE</th>\n",
       "      <th>Train Explained_VARVal Loss</th>\n",
       "      <th>Val MSE</th>\n",
       "      <th>Val MAE</th>\n",
       "      <th>Val RMSE</th>\n",
       "      <th>Val R2</th>\n",
       "      <th>Val Pearson</th>\n",
       "      <th>Val Median_AE</th>\n",
       "      <th>Val Explained_VAR</th>\n",
       "      <th>Train Explained_VAR</th>\n",
       "      <th>Val Loss</th>\n",
       "    </tr>\n",
       "  </thead>\n",
       "  <tbody>\n",
       "    <tr>\n",
       "      <th>1995</th>\n",
       "      <td>1996</td>\n",
       "      <td>0.316446</td>\n",
       "      <td>0.317172</td>\n",
       "      <td>0.368631</td>\n",
       "      <td>0.368631</td>\n",
       "      <td>0.861604</td>\n",
       "      <td>0.928230</td>\n",
       "      <td>0.234924</td>\n",
       "      <td>NaN</td>\n",
       "      <td>1.186353</td>\n",
       "      <td>0.730190</td>\n",
       "      <td>0.730190</td>\n",
       "      <td>0.495858</td>\n",
       "      <td>0.710324</td>\n",
       "      <td>0.491346</td>\n",
       "      <td>0.495964</td>\n",
       "      <td>0.861604</td>\n",
       "      <td>1.184328</td>\n",
       "    </tr>\n",
       "    <tr>\n",
       "      <th>1996</th>\n",
       "      <td>1997</td>\n",
       "      <td>0.310804</td>\n",
       "      <td>0.311459</td>\n",
       "      <td>0.364297</td>\n",
       "      <td>0.364297</td>\n",
       "      <td>0.864097</td>\n",
       "      <td>0.929570</td>\n",
       "      <td>0.229603</td>\n",
       "      <td>NaN</td>\n",
       "      <td>1.195141</td>\n",
       "      <td>0.730901</td>\n",
       "      <td>0.730901</td>\n",
       "      <td>0.492124</td>\n",
       "      <td>0.710543</td>\n",
       "      <td>0.485587</td>\n",
       "      <td>0.492295</td>\n",
       "      <td>0.864098</td>\n",
       "      <td>1.193281</td>\n",
       "    </tr>\n",
       "    <tr>\n",
       "      <th>1997</th>\n",
       "      <td>1998</td>\n",
       "      <td>0.312351</td>\n",
       "      <td>0.312465</td>\n",
       "      <td>0.364895</td>\n",
       "      <td>0.364895</td>\n",
       "      <td>0.863658</td>\n",
       "      <td>0.929343</td>\n",
       "      <td>0.231581</td>\n",
       "      <td>NaN</td>\n",
       "      <td>1.174222</td>\n",
       "      <td>0.733481</td>\n",
       "      <td>0.733481</td>\n",
       "      <td>0.501013</td>\n",
       "      <td>0.712172</td>\n",
       "      <td>0.488969</td>\n",
       "      <td>0.501183</td>\n",
       "      <td>0.863659</td>\n",
       "      <td>1.172062</td>\n",
       "    </tr>\n",
       "    <tr>\n",
       "      <th>1998</th>\n",
       "      <td>1999</td>\n",
       "      <td>0.304377</td>\n",
       "      <td>0.304810</td>\n",
       "      <td>0.362877</td>\n",
       "      <td>0.362877</td>\n",
       "      <td>0.866998</td>\n",
       "      <td>0.931129</td>\n",
       "      <td>0.229041</td>\n",
       "      <td>NaN</td>\n",
       "      <td>1.208051</td>\n",
       "      <td>0.744046</td>\n",
       "      <td>0.744046</td>\n",
       "      <td>0.486638</td>\n",
       "      <td>0.705293</td>\n",
       "      <td>0.500462</td>\n",
       "      <td>0.488176</td>\n",
       "      <td>0.867001</td>\n",
       "      <td>1.206207</td>\n",
       "    </tr>\n",
       "    <tr>\n",
       "      <th>1999</th>\n",
       "      <td>2000</td>\n",
       "      <td>0.312994</td>\n",
       "      <td>0.312532</td>\n",
       "      <td>0.363678</td>\n",
       "      <td>0.363678</td>\n",
       "      <td>0.863629</td>\n",
       "      <td>0.929318</td>\n",
       "      <td>0.229197</td>\n",
       "      <td>NaN</td>\n",
       "      <td>1.183363</td>\n",
       "      <td>0.734184</td>\n",
       "      <td>0.734184</td>\n",
       "      <td>0.497129</td>\n",
       "      <td>0.711472</td>\n",
       "      <td>0.495807</td>\n",
       "      <td>0.497719</td>\n",
       "      <td>0.863629</td>\n",
       "      <td>1.181514</td>\n",
       "    </tr>\n",
       "  </tbody>\n",
       "</table>\n",
       "</div>"
      ],
      "text/plain": [
       "     epoch  Train Loss  Train MSE  Train MAE  Train RMSE  Train R2  \\\n",
       "1995  1996    0.316446   0.317172   0.368631    0.368631  0.861604   \n",
       "1996  1997    0.310804   0.311459   0.364297    0.364297  0.864097   \n",
       "1997  1998    0.312351   0.312465   0.364895    0.364895  0.863658   \n",
       "1998  1999    0.304377   0.304810   0.362877    0.362877  0.866998   \n",
       "1999  2000    0.312994   0.312532   0.363678    0.363678  0.863629   \n",
       "\n",
       "      Train Pearson  Train Median_AE Train Explained_VARVal Loss   Val MSE  \\\n",
       "1995       0.928230         0.234924                         NaN  1.186353   \n",
       "1996       0.929570         0.229603                         NaN  1.195141   \n",
       "1997       0.929343         0.231581                         NaN  1.174222   \n",
       "1998       0.931129         0.229041                         NaN  1.208051   \n",
       "1999       0.929318         0.229197                         NaN  1.183363   \n",
       "\n",
       "       Val MAE  Val RMSE    Val R2  Val Pearson  Val Median_AE  \\\n",
       "1995  0.730190  0.730190  0.495858     0.710324       0.491346   \n",
       "1996  0.730901  0.730901  0.492124     0.710543       0.485587   \n",
       "1997  0.733481  0.733481  0.501013     0.712172       0.488969   \n",
       "1998  0.744046  0.744046  0.486638     0.705293       0.500462   \n",
       "1999  0.734184  0.734184  0.497129     0.711472       0.495807   \n",
       "\n",
       "      Val Explained_VAR  Train Explained_VAR  Val Loss  \n",
       "1995           0.495964             0.861604  1.184328  \n",
       "1996           0.492295             0.864098  1.193281  \n",
       "1997           0.501183             0.863659  1.172062  \n",
       "1998           0.488176             0.867001  1.206207  \n",
       "1999           0.497719             0.863629  1.181514  "
      ]
     },
     "execution_count": 21,
     "metadata": {},
     "output_type": "execute_result"
    }
   ],
   "source": [
    "train_history.tail()"
   ]
  },
  {
   "cell_type": "code",
   "execution_count": null,
   "metadata": {},
   "outputs": [
    {
     "data": {
      "image/png": "[encoded data removed]",
      "text/plain": [
       "<Figure size 640x480 with 1 Axes>"
      ]
     },
     "metadata": {},
     "output_type": "display_data"
    }
   ],
   "source": [
    "# Plot the performance\n",
    "import matplotlib.pyplot as plt\n",
    "\n",
    "plt.scatter(test_labels, test_predictions, alpha=0.5)\n",
    "plt.xlabel(\"True Reactivity\")\n",
    "plt.ylabel(\"Predicted Reactivity\")\n",
    "plt.title(\"CNN Predictions vs True Values\")\n",
    "plt.plot([min(test_labels), max(test_labels)], [min(test_labels), max(test_labels)], 'r--')\n",
    "plt.show()\n"
   ]
  }
 ],
 "metadata": {
  "kernelspec": {
   "display_name": "base",
   "language": "python",
   "name": "python3"
  },
  "language_info": {
   "codemirror_mode": {
    "name": "ipython",
    "version": 3
   },
   "file_extension": ".py",
   "mimetype": "text/x-python",
   "name": "python",
   "nbconvert_exporter": "python",
   "pygments_lexer": "ipython3",
   "version": "3.12.2"
  }
 },
 "nbformat": 4,
 "nbformat_minor": 2
}
